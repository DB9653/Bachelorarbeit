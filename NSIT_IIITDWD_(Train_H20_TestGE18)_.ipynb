{
  "nbformat": 4,
  "nbformat_minor": 0,
  "metadata": {
    "colab": {
      "provenance": [],
      "include_colab_link": true
    },
    "kernelspec": {
      "name": "python3",
      "display_name": "Python 3"
    },
    "language_info": {
      "name": "python"
    },
    "accelerator": "GPU"
  },
  "cells": [
    {
      "cell_type": "markdown",
      "metadata": {
        "id": "view-in-github",
        "colab_type": "text"
      },
      "source": [
        "<a href=\"https://colab.research.google.com/github/DB9653/Bachelorarbeit/blob/main/NSIT_IIITDWD_(Train_H20_TestGE18)_.ipynb\" target=\"_parent\"><img src=\"https://colab.research.google.com/assets/colab-badge.svg\" alt=\"Open In Colab\"/></a>"
      ]
    },
    {
      "cell_type": "markdown",
      "source": [
        "Quelle: https://github.com/roushan-raj/HASOC-2020/blob/master/Models/German%20Models/German%20Sub-task%20A.ipynb\n"
      ],
      "metadata": {
        "id": "8pdYFRmoIhyM"
      }
    },
    {
      "cell_type": "code",
      "source": [
        "import tensorflow as tf\n",
        "tf.test.gpu_device_name()"
      ],
      "metadata": {
        "colab": {
          "base_uri": "https://localhost:8080/",
          "height": 35
        },
        "id": "hof4s6snVN0W",
        "outputId": "dc5007e4-4c26-4d16-e7b0-3d1946151b10"
      },
      "execution_count": null,
      "outputs": [
        {
          "output_type": "execute_result",
          "data": {
            "text/plain": [
              "'/device:GPU:0'"
            ],
            "application/vnd.google.colaboratory.intrinsic+json": {
              "type": "string"
            }
          },
          "metadata": {},
          "execution_count": 1
        }
      ]
    },
    {
      "cell_type": "markdown",
      "source": [
        "\n",
        "# Dataset Reading\n"
      ],
      "metadata": {
        "id": "CU0P3rpqJMHH"
      }
    },
    {
      "cell_type": "code",
      "execution_count": null,
      "metadata": {
        "colab": {
          "base_uri": "https://localhost:8080/"
        },
        "id": "UtPbRsnBIVpd",
        "outputId": "42329626-d82f-435e-80d3-ac2e84de9bef"
      },
      "outputs": [
        {
          "output_type": "execute_result",
          "data": {
            "text/plain": [
              "              tweet_id  \\\n",
              "0  1133388798925189122   \n",
              "1  1127134592517980161   \n",
              "2  1128897106171842560   \n",
              "3  1123576753199484928   \n",
              "4  1128743783393312768   \n",
              "5  1134139256375525376   \n",
              "6  1132759271618293761   \n",
              "7  1131107693123526657   \n",
              "8  1133093570229997573   \n",
              "9  1126898700683501569   \n",
              "\n",
              "                                                                                                                                           text  \\\n",
              "0               Deutsche rothaarige porno reife deutsche frauen porno. Deutsche politessen pornos porno deutsch inzets. https://t.co/xAag87Y0Jd   \n",
              "1  RT @NDRinfo: Die deutsche Klimaaktivistin Luisa Neubauer wirft Kanzlerin Merkel wegen ihrer fehlenden Unterstützung für den europäischen Kl…   \n",
              "2                                                           @ruhrbahn jeden Morgen eine neue „Fahrzeugstörung“, ihr seid einfach nur zum Kotzen   \n",
              "3    @Junge_Freiheit Die Inkas hatten sich schon dämlich angestellt, bei den spanischen Eindringlingen, aber der Deutsche toppt dann doch alles   \n",
              "4                       RT @technosteron: leute die 'boar' schreiben lassen sich bestimmt auch von ihren analphabetischen Vater in arsch ficken   \n",
              "5                                                              ich habe mir gerade diese dorne aus meinem arsch gezogen https://t.co/x40mpKgBZN   \n",
              "6                                                                     RT @Schrammi44: Er ist einfach der GOAT @Bouncaay https://t.co/bb9b5SWaKi   \n",
              "7  KFM Deutsche Mittelstand AG: Deutscher Mittelstandsanleihen FONDS zeichnet neue Hörmann-Anleihe mit Mindest-Kupon 4… https://t.co/5HeRedf9cx   \n",
              "8                                      @mentalshards_ ich will jetzt nicht offenden oder so, ich will einfach nur, das die scheiße weniger wird   \n",
              "9                                                                                RT @SteinbachErika: Einfach skandalös! https://t.co/dC5NXFbviQ   \n",
              "\n",
              "  task1 task2                  ID  \n",
              "0   NOT  NONE  hasoc_2020_de_2684  \n",
              "1   NOT  NONE  hasoc_2020_de_1042  \n",
              "2   NOT  NONE   hasoc_2020_de_774  \n",
              "3   NOT  NONE   hasoc_2020_de_559  \n",
              "4   HOF  PRFN  hasoc_2020_de_1969  \n",
              "5   HOF  PRFN  hasoc_2020_de_2926  \n",
              "6   NOT  NONE  hasoc_2020_de_2994  \n",
              "7   NOT  NONE  hasoc_2020_de_1574  \n",
              "8   HOF  PRFN  hasoc_2020_de_1480  \n",
              "9   NOT  NONE  hasoc_2020_de_3224  "
            ],
            "text/html": [
              "\n",
              "  <div id=\"df-1745c8f9-72bb-465a-90c9-28537c294d41\">\n",
              "    <div class=\"colab-df-container\">\n",
              "      <div>\n",
              "<style scoped>\n",
              "    .dataframe tbody tr th:only-of-type {\n",
              "        vertical-align: middle;\n",
              "    }\n",
              "\n",
              "    .dataframe tbody tr th {\n",
              "        vertical-align: top;\n",
              "    }\n",
              "\n",
              "    .dataframe thead th {\n",
              "        text-align: right;\n",
              "    }\n",
              "</style>\n",
              "<table border=\"1\" class=\"dataframe\">\n",
              "  <thead>\n",
              "    <tr style=\"text-align: right;\">\n",
              "      <th></th>\n",
              "      <th>tweet_id</th>\n",
              "      <th>text</th>\n",
              "      <th>task1</th>\n",
              "      <th>task2</th>\n",
              "      <th>ID</th>\n",
              "    </tr>\n",
              "  </thead>\n",
              "  <tbody>\n",
              "    <tr>\n",
              "      <th>0</th>\n",
              "      <td>1133388798925189122</td>\n",
              "      <td>Deutsche rothaarige porno reife deutsche frauen porno. Deutsche politessen pornos porno deutsch inzets. https://t.co/xAag87Y0Jd</td>\n",
              "      <td>NOT</td>\n",
              "      <td>NONE</td>\n",
              "      <td>hasoc_2020_de_2684</td>\n",
              "    </tr>\n",
              "    <tr>\n",
              "      <th>1</th>\n",
              "      <td>1127134592517980161</td>\n",
              "      <td>RT @NDRinfo: Die deutsche Klimaaktivistin Luisa Neubauer wirft Kanzlerin Merkel wegen ihrer fehlenden Unterstützung für den europäischen Kl…</td>\n",
              "      <td>NOT</td>\n",
              "      <td>NONE</td>\n",
              "      <td>hasoc_2020_de_1042</td>\n",
              "    </tr>\n",
              "    <tr>\n",
              "      <th>2</th>\n",
              "      <td>1128897106171842560</td>\n",
              "      <td>@ruhrbahn jeden Morgen eine neue „Fahrzeugstörung“, ihr seid einfach nur zum Kotzen</td>\n",
              "      <td>NOT</td>\n",
              "      <td>NONE</td>\n",
              "      <td>hasoc_2020_de_774</td>\n",
              "    </tr>\n",
              "    <tr>\n",
              "      <th>3</th>\n",
              "      <td>1123576753199484928</td>\n",
              "      <td>@Junge_Freiheit Die Inkas hatten sich schon dämlich angestellt, bei den spanischen Eindringlingen, aber der Deutsche toppt dann doch alles</td>\n",
              "      <td>NOT</td>\n",
              "      <td>NONE</td>\n",
              "      <td>hasoc_2020_de_559</td>\n",
              "    </tr>\n",
              "    <tr>\n",
              "      <th>4</th>\n",
              "      <td>1128743783393312768</td>\n",
              "      <td>RT @technosteron: leute die 'boar' schreiben lassen sich bestimmt auch von ihren analphabetischen Vater in arsch ficken</td>\n",
              "      <td>HOF</td>\n",
              "      <td>PRFN</td>\n",
              "      <td>hasoc_2020_de_1969</td>\n",
              "    </tr>\n",
              "    <tr>\n",
              "      <th>5</th>\n",
              "      <td>1134139256375525376</td>\n",
              "      <td>ich habe mir gerade diese dorne aus meinem arsch gezogen https://t.co/x40mpKgBZN</td>\n",
              "      <td>HOF</td>\n",
              "      <td>PRFN</td>\n",
              "      <td>hasoc_2020_de_2926</td>\n",
              "    </tr>\n",
              "    <tr>\n",
              "      <th>6</th>\n",
              "      <td>1132759271618293761</td>\n",
              "      <td>RT @Schrammi44: Er ist einfach der GOAT @Bouncaay https://t.co/bb9b5SWaKi</td>\n",
              "      <td>NOT</td>\n",
              "      <td>NONE</td>\n",
              "      <td>hasoc_2020_de_2994</td>\n",
              "    </tr>\n",
              "    <tr>\n",
              "      <th>7</th>\n",
              "      <td>1131107693123526657</td>\n",
              "      <td>KFM Deutsche Mittelstand AG: Deutscher Mittelstandsanleihen FONDS zeichnet neue Hörmann-Anleihe mit Mindest-Kupon 4… https://t.co/5HeRedf9cx</td>\n",
              "      <td>NOT</td>\n",
              "      <td>NONE</td>\n",
              "      <td>hasoc_2020_de_1574</td>\n",
              "    </tr>\n",
              "    <tr>\n",
              "      <th>8</th>\n",
              "      <td>1133093570229997573</td>\n",
              "      <td>@mentalshards_ ich will jetzt nicht offenden oder so, ich will einfach nur, das die scheiße weniger wird</td>\n",
              "      <td>HOF</td>\n",
              "      <td>PRFN</td>\n",
              "      <td>hasoc_2020_de_1480</td>\n",
              "    </tr>\n",
              "    <tr>\n",
              "      <th>9</th>\n",
              "      <td>1126898700683501569</td>\n",
              "      <td>RT @SteinbachErika: Einfach skandalös! https://t.co/dC5NXFbviQ</td>\n",
              "      <td>NOT</td>\n",
              "      <td>NONE</td>\n",
              "      <td>hasoc_2020_de_3224</td>\n",
              "    </tr>\n",
              "  </tbody>\n",
              "</table>\n",
              "</div>\n",
              "      <button class=\"colab-df-convert\" onclick=\"convertToInteractive('df-1745c8f9-72bb-465a-90c9-28537c294d41')\"\n",
              "              title=\"Convert this dataframe to an interactive table.\"\n",
              "              style=\"display:none;\">\n",
              "        \n",
              "  <svg xmlns=\"http://www.w3.org/2000/svg\" height=\"24px\"viewBox=\"0 0 24 24\"\n",
              "       width=\"24px\">\n",
              "    <path d=\"M0 0h24v24H0V0z\" fill=\"none\"/>\n",
              "    <path d=\"M18.56 5.44l.94 2.06.94-2.06 2.06-.94-2.06-.94-.94-2.06-.94 2.06-2.06.94zm-11 1L8.5 8.5l.94-2.06 2.06-.94-2.06-.94L8.5 2.5l-.94 2.06-2.06.94zm10 10l.94 2.06.94-2.06 2.06-.94-2.06-.94-.94-2.06-.94 2.06-2.06.94z\"/><path d=\"M17.41 7.96l-1.37-1.37c-.4-.4-.92-.59-1.43-.59-.52 0-1.04.2-1.43.59L10.3 9.45l-7.72 7.72c-.78.78-.78 2.05 0 2.83L4 21.41c.39.39.9.59 1.41.59.51 0 1.02-.2 1.41-.59l7.78-7.78 2.81-2.81c.8-.78.8-2.07 0-2.86zM5.41 20L4 18.59l7.72-7.72 1.47 1.35L5.41 20z\"/>\n",
              "  </svg>\n",
              "      </button>\n",
              "      \n",
              "  <style>\n",
              "    .colab-df-container {\n",
              "      display:flex;\n",
              "      flex-wrap:wrap;\n",
              "      gap: 12px;\n",
              "    }\n",
              "\n",
              "    .colab-df-convert {\n",
              "      background-color: #E8F0FE;\n",
              "      border: none;\n",
              "      border-radius: 50%;\n",
              "      cursor: pointer;\n",
              "      display: none;\n",
              "      fill: #1967D2;\n",
              "      height: 32px;\n",
              "      padding: 0 0 0 0;\n",
              "      width: 32px;\n",
              "    }\n",
              "\n",
              "    .colab-df-convert:hover {\n",
              "      background-color: #E2EBFA;\n",
              "      box-shadow: 0px 1px 2px rgba(60, 64, 67, 0.3), 0px 1px 3px 1px rgba(60, 64, 67, 0.15);\n",
              "      fill: #174EA6;\n",
              "    }\n",
              "\n",
              "    [theme=dark] .colab-df-convert {\n",
              "      background-color: #3B4455;\n",
              "      fill: #D2E3FC;\n",
              "    }\n",
              "\n",
              "    [theme=dark] .colab-df-convert:hover {\n",
              "      background-color: #434B5C;\n",
              "      box-shadow: 0px 1px 3px 1px rgba(0, 0, 0, 0.15);\n",
              "      filter: drop-shadow(0px 1px 2px rgba(0, 0, 0, 0.3));\n",
              "      fill: #FFFFFF;\n",
              "    }\n",
              "  </style>\n",
              "\n",
              "      <script>\n",
              "        const buttonEl =\n",
              "          document.querySelector('#df-1745c8f9-72bb-465a-90c9-28537c294d41 button.colab-df-convert');\n",
              "        buttonEl.style.display =\n",
              "          google.colab.kernel.accessAllowed ? 'block' : 'none';\n",
              "\n",
              "        async function convertToInteractive(key) {\n",
              "          const element = document.querySelector('#df-1745c8f9-72bb-465a-90c9-28537c294d41');\n",
              "          const dataTable =\n",
              "            await google.colab.kernel.invokeFunction('convertToInteractive',\n",
              "                                                     [key], {});\n",
              "          if (!dataTable) return;\n",
              "\n",
              "          const docLinkHtml = 'Like what you see? Visit the ' +\n",
              "            '<a target=\"_blank\" href=https://colab.research.google.com/notebooks/data_table.ipynb>data table notebook</a>'\n",
              "            + ' to learn more about interactive tables.';\n",
              "          element.innerHTML = '';\n",
              "          dataTable['output_type'] = 'display_data';\n",
              "          await google.colab.output.renderOutput(dataTable, element);\n",
              "          const docLink = document.createElement('div');\n",
              "          docLink.innerHTML = docLinkHtml;\n",
              "          element.appendChild(docLink);\n",
              "        }\n",
              "      </script>\n",
              "    </div>\n",
              "  </div>\n",
              "  "
            ]
          },
          "metadata": {},
          "execution_count": 2
        }
      ],
      "source": [
        "import pandas as pd \n",
        "import csv\n",
        "data = pd.read_excel('/content/hasoc_2020_de_train_new_a.xlsx', converters={'tweet_id':int})\n",
        "pd.set_option('display.max_colwidth',150)\n",
        "data.head(10)"
      ]
    },
    {
      "cell_type": "code",
      "source": [
        "data.shape"
      ],
      "metadata": {
        "colab": {
          "base_uri": "https://localhost:8080/"
        },
        "id": "UaxJGj2BJA-_",
        "outputId": "bc75c933-0983-4f91-9510-595b1737c497"
      },
      "execution_count": null,
      "outputs": [
        {
          "output_type": "execute_result",
          "data": {
            "text/plain": [
              "(2373, 5)"
            ]
          },
          "metadata": {},
          "execution_count": 3
        }
      ]
    },
    {
      "cell_type": "code",
      "source": [
        "print(data.dtypes)"
      ],
      "metadata": {
        "colab": {
          "base_uri": "https://localhost:8080/"
        },
        "id": "4F6snrckJDhs",
        "outputId": "9fc93231-057c-4676-9aee-af04caf44974"
      },
      "execution_count": null,
      "outputs": [
        {
          "output_type": "stream",
          "name": "stdout",
          "text": [
            "tweet_id     int64\n",
            "text        object\n",
            "task1       object\n",
            "task2       object\n",
            "ID          object\n",
            "dtype: object\n"
          ]
        }
      ]
    },
    {
      "cell_type": "markdown",
      "source": [
        "# Making of \"label\" Variable\n"
      ],
      "metadata": {
        "id": "kK4jE-XuJN3r"
      }
    },
    {
      "cell_type": "code",
      "source": [
        "label = data['task1']\n",
        "label.head()"
      ],
      "metadata": {
        "colab": {
          "base_uri": "https://localhost:8080/"
        },
        "id": "8UB11BsEJF-U",
        "outputId": "f6f61b51-345b-4a2b-a0ab-99f8ef831321"
      },
      "execution_count": null,
      "outputs": [
        {
          "output_type": "execute_result",
          "data": {
            "text/plain": [
              "0    NOT\n",
              "1    NOT\n",
              "2    NOT\n",
              "3    NOT\n",
              "4    HOF\n",
              "Name: task1, dtype: object"
            ]
          },
          "metadata": {},
          "execution_count": 5
        }
      ]
    },
    {
      "cell_type": "markdown",
      "source": [
        "# Checking Dataset Balancing\n"
      ],
      "metadata": {
        "id": "HM112SzAJW-z"
      }
    },
    {
      "cell_type": "code",
      "source": [
        "print(label.value_counts())\n",
        "import matplotlib.pyplot as plt\n",
        "label.value_counts().plot(kind='bar', color='blue')"
      ],
      "metadata": {
        "colab": {
          "base_uri": "https://localhost:8080/"
        },
        "id": "wxq3PRLwJVIQ",
        "outputId": "d618d184-1436-4556-f53a-0e1cc2859642"
      },
      "execution_count": null,
      "outputs": [
        {
          "output_type": "stream",
          "name": "stdout",
          "text": [
            "NOT    1700\n",
            "HOF     673\n",
            "Name: task1, dtype: int64\n"
          ]
        },
        {
          "output_type": "execute_result",
          "data": {
            "text/plain": [
              "<matplotlib.axes._subplots.AxesSubplot at 0x7ff50a6fc0d0>"
            ]
          },
          "metadata": {},
          "execution_count": 6
        },
        {
          "output_type": "display_data",
          "data": {
            "text/plain": [
              "<Figure size 432x288 with 1 Axes>"
            ],
            "image/png": "[encoded data removed]"
          },
          "metadata": {
            "needs_background": "light"
          }
        }
      ]
    },
    {
      "cell_type": "markdown",
      "source": [
        "# Converting label into \"0\" or \"1\"\n"
      ],
      "metadata": {
        "id": "IiBz2hcFJdIF"
      }
    },
    {
      "cell_type": "code",
      "source": [
        "import numpy as np\n",
        "classes_list = [\"HOF\",\"NOT\"]\n",
        "label_index = data['task1'].apply(classes_list.index)\n",
        "final_label = np.asarray(label_index)\n",
        "print(final_label[:10])\n",
        "\n"
      ],
      "metadata": {
        "colab": {
          "base_uri": "https://localhost:8080/"
        },
        "id": "iaAQQh4kJZ1X",
        "outputId": "2d72738c-356f-40ea-fef9-52bab55bc224"
      },
      "execution_count": null,
      "outputs": [
        {
          "output_type": "stream",
          "name": "stdout",
          "text": [
            "[1 1 1 1 0 0 1 1 0 1]\n"
          ]
        }
      ]
    },
    {
      "cell_type": "code",
      "source": [
        "from keras.utils.np_utils import to_categorical\n",
        "label_twoDimension = to_categorical(final_label, num_classes=2)"
      ],
      "metadata": {
        "id": "DHcylJMvJhLu"
      },
      "execution_count": null,
      "outputs": []
    },
    {
      "cell_type": "code",
      "source": [
        "print(label_twoDimension[:10])"
      ],
      "metadata": {
        "colab": {
          "base_uri": "https://localhost:8080/"
        },
        "id": "1NGqjeVBJjbM",
        "outputId": "19414f0f-1e05-4fea-d088-5117a3c7f1a6"
      },
      "execution_count": null,
      "outputs": [
        {
          "output_type": "stream",
          "name": "stdout",
          "text": [
            "[[0. 1.]\n",
            " [0. 1.]\n",
            " [0. 1.]\n",
            " [0. 1.]\n",
            " [1. 0.]\n",
            " [1. 0.]\n",
            " [0. 1.]\n",
            " [0. 1.]\n",
            " [1. 0.]\n",
            " [0. 1.]]\n"
          ]
        }
      ]
    },
    {
      "cell_type": "markdown",
      "source": [
        "# Making of \"text\" Variable\n"
      ],
      "metadata": {
        "id": "nqRHYUSBJl0K"
      }
    },
    {
      "cell_type": "code",
      "source": [
        "text = data['text']\n",
        "text.head(10)\n",
        "\n"
      ],
      "metadata": {
        "colab": {
          "base_uri": "https://localhost:8080/"
        },
        "id": "ZZ_FmnnqJjpU",
        "outputId": "382395fd-c155-4e0d-ea91-90baa0dadd8a"
      },
      "execution_count": null,
      "outputs": [
        {
          "output_type": "execute_result",
          "data": {
            "text/plain": [
              "0                 Deutsche rothaarige porno reife deutsche frauen porno. Deutsche politessen pornos porno deutsch inzets. https://t.co/xAag87Y0Jd\n",
              "1    RT @NDRinfo: Die deutsche Klimaaktivistin Luisa Neubauer wirft Kanzlerin Merkel wegen ihrer fehlenden Unterstützung für den europäischen Kl…\n",
              "2                                                             @ruhrbahn jeden Morgen eine neue „Fahrzeugstörung“, ihr seid einfach nur zum Kotzen\n",
              "3      @Junge_Freiheit Die Inkas hatten sich schon dämlich angestellt, bei den spanischen Eindringlingen, aber der Deutsche toppt dann doch alles\n",
              "4                         RT @technosteron: leute die 'boar' schreiben lassen sich bestimmt auch von ihren analphabetischen Vater in arsch ficken\n",
              "5                                                                ich habe mir gerade diese dorne aus meinem arsch gezogen https://t.co/x40mpKgBZN\n",
              "6                                                                       RT @Schrammi44: Er ist einfach der GOAT @Bouncaay https://t.co/bb9b5SWaKi\n",
              "7    KFM Deutsche Mittelstand AG: Deutscher Mittelstandsanleihen FONDS zeichnet neue Hörmann-Anleihe mit Mindest-Kupon 4… https://t.co/5HeRedf9cx\n",
              "8                                        @mentalshards_ ich will jetzt nicht offenden oder so, ich will einfach nur, das die scheiße weniger wird\n",
              "9                                                                                  RT @SteinbachErika: Einfach skandalös! https://t.co/dC5NXFbviQ\n",
              "Name: text, dtype: object"
            ]
          },
          "metadata": {},
          "execution_count": 10
        }
      ]
    },
    {
      "cell_type": "markdown",
      "source": [
        "# Dataset Pre-processing\n"
      ],
      "metadata": {
        "id": "5vgUgPviJteq"
      }
    },
    {
      "cell_type": "code",
      "source": [
        "def remove_umlaut(string):\n",
        "    \"\"\"\n",
        "    Removes umlauts from strings and replaces them with the letter+e convention\n",
        "    :param string: string to remove umlauts from\n",
        "    :return: unumlauted string\n",
        "    \"\"\"\n",
        "    u = 'ü'.encode()\n",
        "    U = 'Ü'.encode()\n",
        "    a = 'ä'.encode()\n",
        "    A = 'Ä'.encode()\n",
        "    o = 'ö'.encode()\n",
        "    O = 'Ö'.encode()\n",
        "    ss = 'ß'.encode()\n",
        "\n",
        "    string = string.encode()\n",
        "    string = string.replace(u, b'ue')\n",
        "    string = string.replace(U, b'Ue')\n",
        "    string = string.replace(a, b'ae')\n",
        "    string = string.replace(A, b'Ae')\n",
        "    string = string.replace(o, b'oe')\n",
        "    string = string.replace(O, b'Oe')\n",
        "    string = string.replace(ss, b'ss')\n",
        "\n",
        "    string = string.decode('utf-8')\n",
        "    return string"
      ],
      "metadata": {
        "id": "9YUobVifYk8-"
      },
      "execution_count": null,
      "outputs": []
    },
    {
      "cell_type": "code",
      "source": [
        "text_wo_umlauts = text.apply(lambda x:remove_umlaut(x))\n",
        "text_wo_umlauts.head(10)"
      ],
      "metadata": {
        "colab": {
          "base_uri": "https://localhost:8080/"
        },
        "id": "8YXICnyJYnp_",
        "outputId": "b5687259-af90-454a-8ab2-73b107ca03fd"
      },
      "execution_count": null,
      "outputs": [
        {
          "output_type": "execute_result",
          "data": {
            "text/plain": [
              "0                    Deutsche rothaarige porno reife deutsche frauen porno. Deutsche politessen pornos porno deutsch inzets. https://t.co/xAag87Y0Jd\n",
              "1    RT @NDRinfo: Die deutsche Klimaaktivistin Luisa Neubauer wirft Kanzlerin Merkel wegen ihrer fehlenden Unterstuetzung fuer den europaeischen Kl…\n",
              "2                                                               @ruhrbahn jeden Morgen eine neue „Fahrzeugstoerung“, ihr seid einfach nur zum Kotzen\n",
              "3        @Junge_Freiheit Die Inkas hatten sich schon daemlich angestellt, bei den spanischen Eindringlingen, aber der Deutsche toppt dann doch alles\n",
              "4                            RT @technosteron: leute die 'boar' schreiben lassen sich bestimmt auch von ihren analphabetischen Vater in arsch ficken\n",
              "5                                                                   ich habe mir gerade diese dorne aus meinem arsch gezogen https://t.co/x40mpKgBZN\n",
              "6                                                                          RT @Schrammi44: Er ist einfach der GOAT @Bouncaay https://t.co/bb9b5SWaKi\n",
              "7      KFM Deutsche Mittelstand AG: Deutscher Mittelstandsanleihen FONDS zeichnet neue Hoermann-Anleihe mit Mindest-Kupon 4… https://t.co/5HeRedf9cx\n",
              "8                                          @mentalshards_ ich will jetzt nicht offenden oder so, ich will einfach nur, das die scheisse weniger wird\n",
              "9                                                                                    RT @SteinbachErika: Einfach skandaloes! https://t.co/dC5NXFbviQ\n",
              "Name: text, dtype: object"
            ]
          },
          "metadata": {},
          "execution_count": 12
        }
      ]
    },
    {
      "cell_type": "code",
      "source": [
        "\n",
        "\n",
        "import re \n",
        "\n",
        "def text_clean(text):\n",
        "    ''' Pre process and convert texts to a list of words '''\n",
        "    \n",
        "    text=text.lower()\n",
        "\n",
        "    # Clean the text\n",
        "    text = re.sub(r\"[^A-Za-z0-9^,!.\\/'+-=]\", \" \", text)\n",
        "    text = re.sub('https?://\\S+|www\\.\\S+', \"\", text)\n",
        "    text = re.sub(r\"rt\", \" \", text)\n",
        "\n",
        "    return text\n",
        "\n"
      ],
      "metadata": {
        "id": "iP9R4lCkJrSn"
      },
      "execution_count": null,
      "outputs": []
    },
    {
      "cell_type": "code",
      "source": [
        "clean_text = text_wo_umlauts.apply(lambda x:text_clean(x))"
      ],
      "metadata": {
        "id": "btvahRPaJwkh"
      },
      "execution_count": null,
      "outputs": []
    },
    {
      "cell_type": "code",
      "source": [
        "clean_text.head(10)"
      ],
      "metadata": {
        "colab": {
          "base_uri": "https://localhost:8080/"
        },
        "id": "rVm6XFqoJyPl",
        "outputId": "60f5c68a-9953-45d7-c394-a2c6b5188760"
      },
      "execution_count": null,
      "outputs": [
        {
          "output_type": "execute_result",
          "data": {
            "text/plain": [
              "0                                          deutsche rothaarige porno reife deutsche frauen porno. deutsche politessen pornos porno deutsch inzets. \n",
              "1       ndrinfo: die deutsche klimaaktivistin luisa neubauer wirft kanzlerin merkel wegen ihrer fehlenden unterstuetzung fuer den europaeischen kl \n",
              "2                                                               ruhrbahn jeden morgen eine neue  fahrzeugstoerung , ihr seid einfach nur zum kotzen\n",
              "3        junge freiheit die inkas hatten sich schon daemlich angestellt, bei den spanischen eindringlingen, aber der deutsche toppt dann doch alles\n",
              "4                               technosteron: leute die 'boar' schreiben lassen sich bestimmt auch von ihren analphabetischen vater in arsch ficken\n",
              "5                                                                                         ich habe mir gerade diese dorne aus meinem arsch gezogen \n",
              "6                                                                                                    schrammi44: er ist einfach der goat  bouncaay \n",
              "7                            kfm deutsche mittelstand ag: deutscher mittelstandsanleihen fonds zeichnet neue hoermann-anleihe mit mindest-kupon 4  \n",
              "8                                          mentalshards  ich will jetzt nicht offenden oder so, ich will einfach nur, das die scheisse weniger wird\n",
              "9                                                                                                              steinbacherika: einfach skandaloes! \n",
              "Name: text, dtype: object"
            ]
          },
          "metadata": {},
          "execution_count": 15
        }
      ]
    },
    {
      "cell_type": "markdown",
      "source": [
        "# Removing stopwords\n"
      ],
      "metadata": {
        "id": "Cr_9fbmQJ14E"
      }
    },
    {
      "cell_type": "code",
      "source": [
        "import nltk\n",
        "from nltk.corpus import stopwords\n",
        "nltk.download('stopwords')\n",
        "def stop_words_removal(text1):\n",
        "    text1=[w for w in  text1.split(\" \")  if w not in stopwords.words('german')]\n",
        "    return \" \".join(text1)"
      ],
      "metadata": {
        "colab": {
          "base_uri": "https://localhost:8080/"
        },
        "id": "fnKAVUGKJzkf",
        "outputId": "406be5d5-3ba1-46c6-e8f2-e7874e26a466"
      },
      "execution_count": null,
      "outputs": [
        {
          "output_type": "stream",
          "name": "stderr",
          "text": [
            "[nltk_data] Downloading package stopwords to /root/nltk_data...\n",
            "[nltk_data]   Unzipping corpora/stopwords.zip.\n"
          ]
        }
      ]
    },
    {
      "cell_type": "code",
      "source": [
        "clean_text_ns=clean_text.apply(lambda x: stop_words_removal(x))"
      ],
      "metadata": {
        "id": "EAe2hR7jJ5R8"
      },
      "execution_count": null,
      "outputs": []
    },
    {
      "cell_type": "code",
      "source": [
        "print(clean_text_ns.head(10))"
      ],
      "metadata": {
        "colab": {
          "base_uri": "https://localhost:8080/"
        },
        "id": "hMapIVGXJ7Cf",
        "outputId": "9a454372-fc01-4cad-cdf0-c6cb5adaa5db"
      },
      "execution_count": null,
      "outputs": [
        {
          "output_type": "stream",
          "name": "stdout",
          "text": [
            "0                            deutsche rothaarige porno reife deutsche frauen porno. deutsche politessen pornos porno deutsch inzets. \n",
            "1       ndrinfo: deutsche klimaaktivistin luisa neubauer wirft kanzlerin merkel wegen fehlenden unterstuetzung fuer europaeischen kl \n",
            "2                                                                        ruhrbahn morgen neue  fahrzeugstoerung , seid einfach kotzen\n",
            "3                                           junge freiheit inkas schon daemlich angestellt, spanischen eindringlingen, deutsche toppt\n",
            "4                                            technosteron: leute 'boar' schreiben lassen bestimmt analphabetischen vater arsch ficken\n",
            "5                                                                                                         gerade dorne arsch gezogen \n",
            "6                                                                                                 schrammi44: einfach goat  bouncaay \n",
            "7                  kfm deutsche mittelstand ag: deutscher mittelstandsanleihen fonds zeichnet neue hoermann-anleihe mindest-kupon 4  \n",
            "8                                                                            mentalshards  offenden so, einfach nur, scheisse weniger\n",
            "9                                                                                                steinbacherika: einfach skandaloes! \n",
            "Name: text, dtype: object\n"
          ]
        }
      ]
    },
    {
      "cell_type": "markdown",
      "source": [
        "# Stemming"
      ],
      "metadata": {
        "id": "cGRUIHNgKB8P"
      }
    },
    {
      "cell_type": "code",
      "source": [
        "\n",
        "\n",
        "# Stemming\n",
        "from nltk.stem import SnowballStemmer \n",
        "stemmer = SnowballStemmer(\"german\")\n",
        "\n",
        "def word_stemmer(text):\n",
        "    stem_text = \"\".join([stemmer.stem(i) for i in text])\n",
        "    return stem_text\n",
        "\n"
      ],
      "metadata": {
        "id": "xzacVq1jJ8ru"
      },
      "execution_count": null,
      "outputs": []
    },
    {
      "cell_type": "code",
      "source": [
        "clean_text_stem = clean_text_ns.apply(lambda x : word_stemmer(x))"
      ],
      "metadata": {
        "id": "gLvtC-DlKFJ3"
      },
      "execution_count": null,
      "outputs": []
    },
    {
      "cell_type": "code",
      "source": [
        "print(clean_text_stem.head())"
      ],
      "metadata": {
        "colab": {
          "base_uri": "https://localhost:8080/"
        },
        "id": "hLTYkzd6KGpw",
        "outputId": "802c937d-e75a-48ad-9ae7-05284110d4cf"
      },
      "execution_count": null,
      "outputs": [
        {
          "output_type": "stream",
          "name": "stdout",
          "text": [
            "0                            deutsche rothaarige porno reife deutsche frauen porno. deutsche politessen pornos porno deutsch inzets. \n",
            "1       ndrinfo: deutsche klimaaktivistin luisa neubauer wirft kanzlerin merkel wegen fehlenden unterstuetzung fuer europaeischen kl \n",
            "2                                                                        ruhrbahn morgen neue  fahrzeugstoerung , seid einfach kotzen\n",
            "3                                           junge freiheit inkas schon daemlich angestellt, spanischen eindringlingen, deutsche toppt\n",
            "4                                            technosteron: leute 'boar' schreiben lassen bestimmt analphabetischen vater arsch ficken\n",
            "Name: text, dtype: object\n"
          ]
        }
      ]
    },
    {
      "cell_type": "markdown",
      "source": [
        "# Tokenization using \"keras\"\n"
      ],
      "metadata": {
        "id": "aqZfKW9_KId4"
      }
    },
    {
      "cell_type": "code",
      "source": [
        "import keras\n",
        "import tensorflow\n",
        "from keras.preprocessing.text import Tokenizer\n",
        "tok_all = Tokenizer(filters='!\"#$%&\\'()*+,-./:;<=>?@[\\\\]^_`{|}~', lower=True, char_level = False)\n",
        "tok_all.fit_on_texts(clean_text_stem)"
      ],
      "metadata": {
        "id": "64oQb-b9KL7d"
      },
      "execution_count": null,
      "outputs": []
    },
    {
      "cell_type": "markdown",
      "source": [
        "# Making Vocab for words\n"
      ],
      "metadata": {
        "id": "Azliz45-KOH2"
      }
    },
    {
      "cell_type": "code",
      "source": [
        "vocabulary_all = len(tok_all.word_counts)\n",
        "print(vocabulary_all)"
      ],
      "metadata": {
        "colab": {
          "base_uri": "https://localhost:8080/"
        },
        "id": "kjRctAdKKNqA",
        "outputId": "05147068-83d9-45df-9bd0-5a55420ab4e6"
      },
      "execution_count": null,
      "outputs": [
        {
          "output_type": "stream",
          "name": "stdout",
          "text": [
            "8866\n"
          ]
        }
      ]
    },
    {
      "cell_type": "code",
      "source": [
        "\n",
        "\n",
        "l = tok_all.word_index\n",
        "print(l)\n",
        "\n"
      ],
      "metadata": {
        "colab": {
          "base_uri": "https://localhost:8080/"
        },
        "id": "ruZahltoKSBk",
        "outputId": "7055ed0d-f7a6-4ba8-a90f-3c3614ef39af"
      },
      "execution_count": null,
      "outputs": [
        {
          "output_type": "stream",
          "name": "stdout",
          "text": [
            "{'einfach': 1, 'deutsche': 2, 'arsch': 3, 'merkel': 4, 'schon': 5, 'fuer': 6, 'gt': 7, 'mal': 8, 'gruenen': 9, 'scheiss': 10, 'nazis': 11, 'dumm': 12, 'frauen': 13, 'halt': 14, 'ab': 15, 'porno': 16, 'welt': 17, 'linken': 18, 'mehr': 19, 'tagesschau': 20, 'hurensohn': 21, 'ja': 22, 'zurueck': 23, 'echt': 24, 'gibt': 25, 'gratis': 26, 'gruene': 27, 'scheisse': 28, 'islam': 29, 'deutschland': 30, 'immer': 31, 'e': 32, 'frau': 33, 'politiker': 34, 'hoe': 35, 'linke': 36, 'pack': 37, 's': 38, 'warum': 39, 'kopf': 40, 'erst': 41, 'eigentlich': 42, 'leute': 43, 'fresse': 44, 'stimmt': 45, 'ueber': 46, 'idioten': 47, '2': 48, 'dumme': 49, 'n': 50, 'afd': 51, 'zdfheute': 52, 'macht': 53, 'waere': 54, 'en': 55, '1': 56, 'd': 57, 'kinder': 58, 'kotzen': 59, 'europa': 60, 'nazi': 61, 'nicht': 62, 'moechte': 63, 'deutschen': 64, 'deutsch': 65, 'lassen': 66, 'politik': 67, 'pa': 68, 'i': 69, 'wuerde': 70, 'ma': 71, 'raus': 72, 'koennte': 73, 'ist': 74, 'zeit': 75, 'geld': 76, 'schulz': 77, 'merkels': 78, 'a': 79, 'neue': 80, 'so': 81, 'zdf': 82, 'gabriel': 83, 'geiler': 84, 'heute': 85, 'sitzen': 86, 'besser': 87, 'pornos': 88, 'ficken': 89, 'seit': 90, 'eher': 91, 'is': 92, 'bekommen': 93, 'medien': 94, 'koennen': 95, 'voll': 96, 'zeigt': 97, 'ne': 98, 'geht': 99, '3': 100, 'u': 101, 'ei': 102, 'wer': 103, 'maas': 104, 'via': 105, 'bild': 106, 'hitler': 107, 'sehen': 108, 'ganze': 109, 'heikomaas': 110, 'leben': 111, 'lange': 112, 'gesicht': 113, 'cdu': 114, 'eu': 115, 'moslems': 116, 'geile': 117, 'kommen': 118, 'wand': 119, 'junge': 120, 'de': 121, 'haette': 122, 'spiegelonline': 123, 'kopftuch': 124, 'land': 125, 'ich': 126, 'ha': 127, 'o': 128, 'nie': 129, 'eien': 130, 'gehoe': 131, 'gehirn': 132, 'h': 133, 'ahnung': 134, 'sagen': 135, 'k': 136, 'typ': 137, 'sawsanchebli': 138, 'hirn': 139, 'willkommen': 140, 'zeitonline': 141, 'sind': 142, '2019': 143, 'zusammen': 144, 'lass': 145, 'kurz': 146, 'gruen': 147, 'genau': 148, 'auf': 149, 'maul': 150, 'gerade': 151, 'ach': 152, 'werden': 153, 'mutter': 154, 'video': 155, 'ganzen': 156, 'luegen': 157, 'sorry': 158, 'menschen': 159, 'hasse': 160, 'ueberhaupt': 161, 'weiss': 162, 'deren': 163, 'bald': 164, 'kommt': 165, 'kleine': 166, 'volk': 167, 'genug': 168, 'harvard': 169, 'sexy': 170, '05': 171, 'an': 172, 'glaube': 173, 'europawahl2019': 174, 'trump': 175, 'drdavidberger': 176, 'haben': 177, 'frueher': 178, 'f': 179, 'rot': 180, 'sieht': 181, 'gesagt': 182, 'news': 183, 'sofo': 184, 'sein': 185, 'bitte': 186, 'abschaum': 187, 'deutscher': 188, 'meisten': 189, 'eh': 190, 'weg': 191, 've': 192, 'regierung': 193, 'das': 194, 'muessen': 195, 'paar': 196, 'wa': 197, 'et': 198, 'hat': 199, 'angela': 200, 't': 201, 'wirklich': 202, 'wegen': 203, 'sau': 204, 'es': 205, 'w': 206, '18': 207, 'seehofer': 208, 'schwanz': 209, 'tritt': 210, 'schlimmer': 211, 'usa': 212, 'videos': 213, 'gerne': 214, 'denkt': 215, 'v': 216, 'viele': 217, 'dummheit': 218, 'essen': 219, 'b': 220, 'mittlerweile': 221, 'sta': 222, 'amp': 223, 'kostenlose': 224, 'fick': 225, 'helllud123': 226, 'seid': 227, 'nur': 228, 'egal': 229, 'gar': 230, 'journalisten': 231, 'ddr': 232, 'niemand': 233, 'antifa': 234, 'stegner': 235, 'bundeskanzlerin': 236, 'krippmarie': 237, 'ein': 238, 'm': 239, 'hey': 240, 'tuerken': 241, 'waehler': 242, 'spass': 243, 'arschloch': 244, 'dummes': 245, 'waehlt': 246, 'verdammt': 247, 'fette': 248, '5': 249, 'strache': 250, 'spd': 251, 'erwa': 252, 'sollen': 253, 'tuerkei': 254, 'jouwatch': 255, 'porn': 256, 'brauchen': 257, 'schwarz': 258, 'denen': 259, 'neuen': 260, 'ka': 261, 'mann': 262, 'dicke': 263, 'sex': 264, 'sagt': 265, 'wohl': 266, 'kind': 267, '4': 268, 'free': 269, 'retten': 270, 'opfer': 271, 'darf': 272, 'system': 273, 'dafuer': 274, 'groessten': 275, 'ralf': 276, 'ekelhaft': 277, 'stehen': 278, '50': 279, 'ig': 280, 'dummen': 281, 'rechte': 282, 'sehe': 283, 'geilen': 284, 'habt': 285, 'probleme': 286, 'reicht': 287, 'do': 288, 'https': 289, '7': 290, 'duemmer': 291, 'los': 292, 'krieg': 293, 'heisst': 294, 'sirschnee': 295, 'auch': 296, 'du': 297, 'gauland': 298, 'lawyerberlin': 299, 'buerger': 300, 'china': 301, 'hass': 302, 'ende': 303, 'waehlen': 304, 'roth': 305, 'bestimmt': 306, 'genauso': 307, 'kaum': 308, 'wird': 309, 'fluechtlinge': 310, 'richtig': 311, 'fucking': 312, 'we': 313, 'sch': 314, 'akk': 315, 'lauterbach': 316, 'wollen': 317, 'schande': 318, 'gehoeren': 319, 'islamisten': 320, 'damals': 321, 'g': 322, 'haut': 323, 'bloed': 324, 'die': 325, 'machen': 326, 'sowas': 327, 'wieso': 328, 'gemacht': 329, 'ruecken': 330, 'janboehm': 331, 'aus': 332, 'wahl': 333, 'tragen': 334, 'da': 335, 'schauen': 336, 'faschisten': 337, 'naja': 338, 'geil': 339, 'l': 340, 'gewaehlt': 341, 'muell': 342, 'nen': 343, 'berliner': 344, 'x': 345, 'deutsch365': 346, '12': 347, 'hetze': 348, 'net': 349, 'anal': 350, 'ganz': 351, 'reife': 352, 'steinbacherika': 353, '0': 354, 'z': 355, 'fickt': 356, 'hoffentlich': 357, 'verschwinden': 358, 'dreck': 359, 'religion': 360, 'verkaufen': 361, 'grund': 362, 'ragen': 363, '14': 364, 'entsorgt': 365, 'kriegen': 366, 'hilfe': 367, 'j': 368, 'chef': 369, 'klimaschutz': 370, 'schafft': 371, 'langsam': 372, 'rezo': 373, 'nichts': 374, 'irgendwie': 375, 'co': 376, 'endlich': 377, 'zerstoe': 378, 'nehmen': 379, 'kostenlos': 380, 'schlampe': 381, 'rezomusik': 382, 'roten': 383, 'nix': 384, 'nein': 385, 'voellig': 386, 'jungen': 387, 'gefickt': 388, 'gewalt': 389, 'jemand': 390, 'oeffentlich': 391, 'stock': 392, 'verusoss1': 393, 'wieder': 394, 'erdogan': 395, 'single': 396, 'hunde': 397, 'heiko': 398, 'braucht': 399, 'zukunft': 400, 'nackte': 401, 'spo': 402, 'richtige': 403, 'europawahl': 404, 'barley': 405, 'mega': 406, 'job': 407, 'heuchler': 408, 'arbeiten': 409, 'sag': 410, 'au': 411, 'mir': 412, 'berlin': 413, 'rede': 414, 'bist': 415, 'tage': 416, 'sesso': 417, 'claudia': 418, 'the': 419, 'daemlich': 420, 'ag': 421, 'r': 422, 'maxotte': 423, 'says': 424, '13': 425, 'ueberall': 426, 'horst': 427, 'weber': 428, 'top': 429, '000': 430, 'koennt': 431, 'burger': 432, 'redet': 433, 'lieben': 434, 'eltern': 435, 'alkohol': 436, 'stadt': 437, 'leuten': 438, 'absolut': 439, 'weltnews': 440, 'un': 441, 'direkt': 442, 'hd': 443, 'kirche': 444, 'karl': 445, 'noch': 446, 'kuehne': 447, 'verbrecher': 448, 'ausser': 449, '6': 450, 'sie': 451, 'muesste': 452, 'denken': 453, 'beim': 454, 'vergewaltigt': 455, 'wi': 456, 'zu': 457, 'haarige': 458, 'aufklaerer2017': 459, 'lecken': 460, 'generation': 461, 'nimmt': 462, 'kueche': 463, 'hoch': 464, 'regsprecher': 465, 'wuerden': 466, 'ung': 467, 'abschieben': 468, 'eier': 469, 'komm': 470, 'geh': 471, 'politische': 472, 'fordern': 473, 'hose': 474, 'bezeichnen': 475, 'wuensche': 476, 'auslaender': 477, 'meinung': 478, 'retweet': 479, 'maenner': 480, 'alles': 481, 'jahren': 482, 'ca': 483, 'bruder': 484, 'auto': 485, '99': 486, 'wissenschaftler': 487, 'erste': 488, 'ard': 489, 'stars': 490, 'pille': 491, 'hassen': 492, 'maltekaufmann': 493, 'leise': 494, 'fckafd': 495, 'zieh': 496, 'alte': 497, 'oma': 498, 'sed': 499, 'schulen': 500, 'ueberfluessig': 501, 'weissen': 502, 'waehrend': 503, 'gross': 504, 'duerfen': 505, 'aufgewachtewelt': 506, 'schoen': 507, 'gehen': 508, 'pinkcrazypony': 509, 'holt': 510, 'altpa': 511, 'willst': 512, 'mathe': 513, 'sachen': 514, 'will': 515, 'holen': 516, 'frage': 517, 'max': 518, 'holgerewald1': 519, 'drauf': 520, 'protest': 521, 'telekom': 522, 'kanzlerin': 523, 'schreiben': 524, 'doch': 525, 'werbung': 526, 'peinlich': 527, 'xxx': 528, 'extrem': 529, 'hbf': 530, '15': 531, '24': 532, 'kriminellen': 533, 'monaten': 534, 'deutschlands': 535, 'folgen': 536, 'unterwegs': 537, 'stelle': 538, 'for': 539, 'rechten': 540, 'st': 541, 'bezahlt': 542, 'fe': 543, 'kultur': 544, 'heulen': 545, 'widerliches': 546, 'geben': 547, 'vorstellen': 548, 'unfassbar': 549, 'schickt': 550, 'alicewo18626168': 551, 'kennst': 552, 'neueste': 553, '1933': 554, 'super': 555, 'spinner': 556, 'kleinen': 557, 'schade': 558, 'rest': 559, 'daniel': 560, 'lang': 561, 'lasst': 562, 'doktorarbeit': 563, 'weit': 564, 'was': 565, 'that': 566, 'jugend': 567, 'oesterreich': 568, 'forde': 569, 'tun': 570, 'und': 571, 'milf': 572, 'boserer': 573, 'prozent': 574, 'hure': 575, 'chris': 576, 'erklae': 577, 'ff': 578, 'spiegel': 579, 'el': 580, 'c': 581, 'groesste': 582, 'schwarze': 583, 'anleitung': 584, 'islamisierung': 585, 'labern': 586, '33': 587, '40': 588, 'mund': 589, 'herr': 590, 'schwule': 591, 'meuthen': 592, 'haelt': 593, 'verantwo': 594, 'braun': 595, 'di': 596, 'y': 597, 'arme': 598, 'stueck': 599, 'veru': 600, 'kriminelle': 601, 'ziemlich': 602, 'germany': 603, 'haha': 604, 'brief': 605, 'fachkraefte': 606, 'nich': 607, 'gekommen': 608, 'passie': 609, 'hund': 610, 'stuerzen': 611, 'jahre': 612, 'porsche': 613, 'grade': 614, 'danach': 615, 'fragt': 616, 'vor': 617, 'alter': 618, 'kanacke': 619, 'alle': 620, 'vergessen': 621, 'lebt': 622, 'lobbyisten': 623, 'meldet': 624, 'rassist': 625, 'hauptsache': 626, 'aufs': 627, 'wirkt': 628, 'nehm': 629, 'sixtus': 630, 'up': 631, 'wtf': 632, 'bringt': 633, 'ideen': 634, 'rock': 635, 'natuerlich': 636, 'sack': 637, 'co2': 638, 'steuer': 639, 'montanablack': 640, 'tradesfeed': 641, 'aktivisten': 642, 'uns': 643, 'schlauer': 644, 'gab': 645, 'frank': 646, 'usw': 647, 'eigenes': 648, 'komplett': 649, 'sebastian': 650, 'glauben': 651, 'oh': 652, 'boah': 653, 'zitat': 654, 'fuers': 655, 'verbreitet': 656, 'hier': 657, 'hh': 658, 'soll': 659, 'halten': 660, 'nem': 661, 'kennt': 662, 'verbietet': 663, 'krank': 664, 'staatsfunk': 665, 'sowieso': 666, 'lernen': 667, 'xd': 668, 'compactmagazin': 669, 'ideologie': 670, 'findet': 671, 'kriegst': 672, 'ficke': 673, 'dabei': 674, 'he': 675, 'muschi': 676, 'habeck': 677, 'wolf': 678, 'halts': 679, 'at': 680, 'waeren': 681, 'links': 682, 'bahn': 683, 'haltet': 684, 'war': 685, 'logik': 686, 'liebst': 687, 'db': 688, 'fpoe': 689, 'sei': 690, 'eindruck': 691, 'gib': 692, 'hoer': 693, 'dr': 694, 'wusste': 695, 'zwei': 696, 'rein': 697, 'europaeischen': 698, 'freiheit': 699, 'lesben': 700, 'musst': 701, 'handeln': 702, 'al': 703, 'heuteshow': 704, 'beiden': 705, 'us': 706, 'mdchen': 707, 'momentan': 708, 'ausfall': 709, 'grad': 710, 'dreckiger': 711, 'waer': 712, 'schlagabtausch': 713, 'clans': 714, 'kampf': 715, '10': 716, 'vo': 717, 'toptomch': 718, 'jan': 719, 'wir': 720, 'rum': 721, 'interessie': 722, 'skandal': 723, 'euro': 724, 'politischen': 725, 'freund': 726, 'laecheln': 727, 'schlampen': 728, 'sich': 729, 'verlogene': 730, '11': 731, 'bernd471': 732, 'fast': 733, 'sitzt': 734, 'herrn': 735, 'pass': 736, 'macron': 737, 'wunder': 738, 'verloren': 739, 'gaebe': 740, 'familien': 741, 'herz': 742, 'klima': 743, '2018': 744, 'stoppt': 745, 'rapper': 746, 'merken': 747, 'total': 748, 'fakt': 749, 'komisch': 750, 'jetzt': 751, 'cha': 752, 'tages': 753, 're': 754, 'schmid': 755, 'blond': 756, 'doof': 757, 'waren': 758, 'samsung': 759, 'filter': 760, '31': 761, '17': 762, 'sven': 763, 'giegold': 764, 'hoelle': 765, 'bock': 766, 'muschis': 767, 'clip': 768, 'legt': 769, 'euwahl19': 770, 'zeigen': 771, 'tweets': 772, 'asylanten': 773, 'behinde': 774, 'just': 775, 'andreasstraub': 776, '34': 777, 'stuttga': 778, '19': 779, 'faeh': 780, 'bleibt': 781, '90': 782, 'bereits': 783, 'man': 784, 'csu': 785, 'kann': 786, 'europaeische': 787, '8': 788, 'tu': 789, 'arbeitsplatz': 790, 'lebensformation': 791, 'soviel': 792, 'laber': 793, 'eilt': 794, 'idee': 795, 'halte': 796, 'rechtlichen': 797, 'ganzes': 798, 'gamerbr0ski': 799, 'kappa': 800, 'miriamozen': 801, 'eingeschaetzt': 802, '20': 803, 'kevin': 804, 'omas': 805, 'rechts': 806, 'tagen': 807, 'mariomayl': 808, 'muslimische': 809, 'donald': 810, 'englisch': 811, 'hadmut': 812, 'exgruene': 813, 'enteignen': 814, 'palmer': 815, 'zwickau': 816, 'verjagten': 817, 'adolf': 818, 'imam': 819, 'folgendes': 820, 'gluecklich': 821, 'sterben': 822, 'finden': 823, 'nic': 824, 'fern': 825, 'brd': 826, 'hauen': 827, 'buntland': 828, 'weige': 829, 'unterstuetzen': 830, 'tyske': 831, 'rauchen': 832, 'ex': 833, 'emma': 834, 'terror': 835, 'eigene': 836, 'tschemal': 837, 'brutal': 838, 'versohlen': 839, 'minute': 840, 'game': 841, 'plauen': 842, 'gleichberechtigung': 843, 'fuck': 844, 'fuern': 845, 'traegt': 846, 'gehtwaehlen': 847, 'brandenburg': 848, 'sir': 849, 'schnee': 850, 'fuehrer': 851, 'ungebeten1': 852, 'duerre': 853, 'blasen': 854, 'led': 855, 'eur': 856, 'fett': 857, 'weiber': 858, 'shoutoutxobella': 859, 'minuten': 860, 'demokratie': 861, 'loch': 862, 'p': 863, 'sprechen': 864, 'nahles': 865, 'krahmax': 866, 'post': 867, 'download': 868, 'yooli': 869, 'derechte': 870, 'klar': 871, 'passt': 872, 'juden': 873, 'moegen': 874, 'verdienen': 875, 'nazisraus': 876, 'merkt': 877, 'brandt': 878, 'fridaysforfuture': 879, 'solch': 880, 'seh': 881, 'relotiuspresse': 882, 'kosummoralisten': 883, 'batu': 884, '0699': 885, 'eben': 886, 'widerspruch': 887, 'eigenen': 888, 'herren': 889, 'letzte': 890, 'thomas': 891, 'bareiss': 892, 'mensch': 893, 'fressen': 894, 'totale': 895, 'dasperfektedinner': 896, 'nice': 897, 'alicologne': 898, 'oezdemir': 899, 'praesidenten': 900, 'fehlt': 901, 'amt': 902, 'muesse': 903, 'dieserbutzi': 904, 'gb': 905, 'diepa': 906, 'sicher': 907, 'mia': 908, 'haessliche': 909, 'grundeis': 910, 'salvini': 911, 'andreaschlegel3': 912, 'eig': 913, 'her': 914, 'tatsaechlich': 915, 'platz': 916, 'gesehen': 917, 'versteht': 918, 'niemals': 919, 'bus': 920, 'ige': 921, 'mrsl0nelyy': 922, 'gelb': 923, 'fo': 924, 'http': 925, 'hallaschka': 926, 'bloedsinn': 927, 'strafe': 928, 'schaffen': 929, 'muesst': 930, 'zeichnen': 931, 'schicken': 932, 'oesterreichs': 933, 'angola': 934, 'gntmfinale': 935, 'kommentar': 936, 'opfa': 937, 'falls': 938, 'suesse': 939, 'your': 940, 'mature': 941, 'trinken': 942, 'lachen': 943, 'zucker': 944, 'aktie': 945, 'kid': 946, 'sagte': 947, 'per': 948, 'wokeup777': 949, 'fotze': 950, 'besonders': 951, 'fcbayern': 952, 'ziehen': 953, 'freunde': 954, 'problem': 955, 'hilft': 956, 'raeaeaechds': 957, 'dfacheck': 958, 'all': 959, 'interview': 960, 'huawei': 961, 'wurden': 962, 'bhvr': 963, 'hochheimer': 964, 'kaese': 965, 'sohn': 966, 'alt': 967, 'privat': 968, 'fr': 969, 'cute': 970, 'me': 971, 'stadtraetin': 972, 'eilter': 973, 'reden': 974, 'zerstoeren': 975, 'ehrendoktorwuerde': 976, 'haus': 977, 'schei': 978, 'schreibt': 979, 'polizei': 980, 'sauber': 981, 'ntvde': 982, 'titten': 983, 'insonneborn': 984, 'niveau': 985, 'selten': 986, 'amis': 987, 'gutmenschen': 988, 'html': 989, 'donalphonso': 990, 'bzw': 991, 'augen': 992, 'ichbinkoelnerin': 993, 'stellen': 994, 'geschrieben': 995, 'sueszling': 996, 'schieben': 997, 'wahlplakate': 998, 'grunde': 999, 'verkauft': 1000, 'reiss': 1001, 'puppe': 1002, 'also': 1003, 'veranstaltung': 1004, 'lieb': 1005, 'bekomme': 1006, 'konze': 1007, 'bilder': 1008, 'ey': 1009, 'blowjob': 1010, 'oft': 1011, 'hallo': 1012, 'polizeisachsen': 1013, 'lady': 1014, 'na': 1015, 'bayern': 1016, 'aber': 1017, 'federer': 1018, 'bremen': 1019, 'pro': 1020, 'boden': 1021, 'presse': 1022, 'on': 1023, 'hoffe': 1024, 'vfb': 1025, 'pepper46477330': 1026, 'natur': 1027, 'dd': 1028, 'muslime': 1029, 'gef': 1030, 'trend': 1031, 'cambridge': 1032, 'bullshit': 1033, 'hast': 1034, 'moralisch': 1035, 'npd': 1036, 'seo': 1037, 'schweine': 1038, 'zerstoerung': 1039, 'darauf': 1040, 'teutonia': 1041, 'fleabag': 1042, 'wirft': 1043, 'fahrzeugstoerung': 1044, 'vater': 1045, 'gezogen': 1046, 'zeichnet': 1047, 'weniger': 1048, 'apple': 1049, 'unnoetig': 1050, 'media': 1051, 'florianfoli': 1052, 'verdient': 1053, 'ok': 1054, 'wuppe': 1055, 'gerufen': 1056, 'fluechtlingen': 1057, 'desnudas': 1058, 'canal': 1059, 'friedens': 1060, 'fisten': 1061, 'nichtmal': 1062, 'waehlern': 1063, 'blues': 1064, 'twitterde': 1065, 'anscheinend': 1066, 'haufen': 1067, 'rastadler': 1068, 'erbaermlich': 1069, 'wisse': 1070, 'diesel': 1071, 'stuerzt': 1072, 'auslaendische': 1073, 'feie': 1074, '87': 1075, 'vollzeitjonas': 1076, 'publikum': 1077, 'kuendigt': 1078, 'domi': 1079, 'twr': 1080, 'richtiges': 1081, 'aufruf': 1082, 'echten': 1083, 'go73729092': 1084, 'privaten': 1085, 'jesus': 1086, 'namens': 1087, 'ale': 1088, 'gg': 1089, 'bb12': 1090, 'kunkelmuhme': 1091, 'schlaege': 1092, 'dinger': 1093, 'hasserfuellte': 1094, 'betruegen': 1095, 'arroganz': 1096, 'habe': 1097, 'kenn': 1098, 'pls': 1099, 'rolandtichy': 1100, 'wetter': 1101, 'huebsche': 1102, 'neben': 1103, 'eil': 1104, 'stargamestv69': 1105, 'tim0cy': 1106, 'heissen': 1107, 'sucht': 1108, 'anna': 1109, 'za': 1110, 'te': 1111, 'sodass': 1112, 'si': 1113, 'benutze': 1114, 'spdberlin': 1115, 'gabischoff': 1116, 'rainerwinklerde': 1117, 'fliegt': 1118, 'illegale': 1119, 'hurensohne': 1120, 'vonschwer': 1121, 'politikern': 1122, 'tukyabitch': 1123, 'reist': 1124, 'bisschen': 1125, 'geboren': 1126, 'betrunken': 1127, 'kern': 1128, 'paedo': 1129, 'sekte': 1130, 'geschmeiss': 1131, 'pompeo': 1132, 'koelner': 1133, 'untaetigkeit': 1134, 'nudes': 1135, 'adidas': 1136, 'rorsted': 1137, 'rechnet': 1138, 'europaeer': 1139, 'vasallen': 1140, 'tatsache': 1141, 'abgelenkt': 1142, 'sad': 1143, 'achja': 1144, 'alphonso': 1145, 'brechen': 1146, 'klimaneutralitaet': 1147, '2050': 1148, 'arminwolf': 1149, 'bester': 1150, 'bazi': 1151, 'milliarden': 1152, 'hoshimusikdesign': 1153, 'soundcloud': 1154, 'np': 1155, '30': 1156, 'spritzen': 1157, 'brauchts': 1158, 'redaktion': 1159, 'bodoramelow': 1160, 'chauvinistischen': 1161, 'familie': 1162, 'scheinbar': 1163, 'erreicht': 1164, 'den': 1165, 'telford': 1166, 'tigers': 1167, 'ricarda': 1168, 'schuld': 1169, 'rechtsruck': 1170, 'schautnichtweg': 1171, 'taugt': 1172, 'fest': 1173, 'jugendzimmer': 1174, 'morreu': 1175, 'wahlen': 1176, 'ro': 1177, 'freiheizstatue': 1178, 'achimspiegel': 1179, 'tausende': 1180, 'beduerftige': 1181, 'doktor': 1182, 'vallah': 1183, 'leckst': 1184, 'teufel': 1185, 'erfahren': 1186, 'rettet': 1187, 'deutschrap': 1188, 'moza': 1189, 'wussten': 1190, 'woe': 1191, 'ern': 1192, 'ausgeliefe': 1193, 'punkt': 1194, 'betrogen': 1195, 'hi': 1196, 'sonjadelarosa7': 1197, 'grillkohle': 1198, 'steak': 1199, 'lacht': 1200, 'real': 1201, 'austauschschueler': 1202, 'aufnehmen': 1203, 'gestern': 1204, 'pkk': 1205, 'afdberlin': 1206, 'nurnoch': 1207, 'zimmer': 1208, 'gramm': 1209, 'sebastianhampel': 1210, 'rap': 1211, 'wenn': 1212, 'claudio': 1213, 'tatenlos': 1214, 'fun': 1215, 'blaue': 1216, 'haare': 1217, 'com': 1218, 'fetisch': 1219, 'premium': 1220, 'gewesen': 1221, '16': 1222, '29': 1223, 'teilausfall': 1224, 'hurensoehne': 1225, 'gay': 1226, 'ass': 1227, 'fisting': 1228, 'konservativer': 1229, 'versagen': 1230, 'naked': 1231, 'behaa': 1232, 'teppich': 1233, 'verwoehnen': 1234, 'narrhallamarsch': 1235, 'abo': 1236, 'ausschlag': 1237, 'gewaltig': 1238, 'freie': 1239, 'linksextremisten': 1240, 'gefallen': 1241, 'aka': 1242, 'bi': 1243, 'umwelt': 1244, 'deut': 1245, 'fehler': 1246, 'jeden': 1247, 'recht': 1248, 'klasse': 1249, 'lavievagabonde': 1250, 'naechsten': 1251, 'dunkle': 1252, 'debil': 1253, 'rassisten': 1254, 'gif': 1255, 'wohnen': 1256, 'ranking': 1257, 'riesen': 1258, 'bleiben': 1259, 'dreckspack': 1260, 'nsfw': 1261, 'kla': 1262, 'ext': 1263, 'spieglein': 1264, 'herrnewstime': 1265, 'wuenschte': 1266, 'eins': 1267, 'hop': 1268, 'tuerkischen': 1269, 'variante': 1270, 'entweder': 1271, 'veganhure': 1272, 'expe': 1273, 'einzig': 1274, 'positive': 1275, 'denk': 1276, 'mich': 1277, 'produktivitaet': 1278, 'waerme': 1279, 'leistungsfaehiger': 1280, 'joerg': 1281, 'aktivist': 1282, 'trifft': 1283, 'ideologen': 1284, 'wichtig': 1285, '180': 1286, 'letztendlich': 1287, 'anwalt': 1288, 'strafanzeige': 1289, 'mitarbeiter': 1290, 'amthor': 1291, 'aeussern': 1292, 'srfnews': 1293, 'empfohlen': 1294, 'zuwanderern': 1295, 'finger': 1296, 'behoerden': 1297, 'funktionie': 1298, 'propaganda': 1299, 'gegoennt': 1300, 'mussten': 1301, 'framing': 1302, 'versager': 1303, 'bmw': 1304, 'kannste': 1305, 'bayer': 1306, 'legende': 1307, 'spiel': 1308, 'lich': 1309, 'kehren': 1310, 'reminder': 1311, 'ainyrockstar': 1312, 'singen': 1313, 'staat': 1314, 'af': 1315, 'schwache': 1316, 'eysvog3l': 1317, 'sm100d': 1318, 'sapereaudede': 1319, 'ahmad': 1320, 'player': 1321, 'mazematze': 1322, 'offener': 1323, 'steve': 1324, 'direktflug': 1325, 'dauerrentner': 1326, 'anreise': 1327, 'geldboerse': 1328, 'bheinzlmaier': 1329, 'q': 1330, 'distanzie': 1331, 'heftiger': 1332, 'kritiker': 1333, 'unerhoe': 1334, 'langweilig': 1335, 'haesslich': 1336, 'charakter': 1337, 'bundesjustizminister': 1338, 'fluechtete': 1339, 'erkanallesffm': 1340, 'laesst': 1341, 'allah': 1342, 'insekten': 1343, 'landschaft': 1344, 'keineafd2017': 1345, 'marschieren': 1346, 'strassen': 1347, 'sverband': 1348, 'wahrheit': 1349, 'greta': 1350, 'lappen': 1351, 'unge': 1352, 'ws': 1353, 'joke': 1354, 'verfickten': 1355, 'derzeit': 1356, 'insel': 1357, 'felt': 1358, 'pilotprojekt': 1359, 'rentner': 1360, 'guck': 1361, 'mitleid': 1362, 'millionenfach': 1363, 'toeten': 1364, 'rasse': 1365, 'offeln': 1366, 'richte': 1367, 'derspiegel': 1368, 'timber': 1369, 'ossi': 1370, 'diktatur': 1371, 'vie': 1372, 'daniengel6': 1373, 'traum': 1374, 'baerbeli04': 1375, 'menschenrecht': 1376, 'erklaeren': 1377, 'nackt': 1378, 'tube': 1379, 'waehle': 1380, 'piraten': 1381, 'wechseln': 1382, 'missbraucht': 1383, 'druecken': 1384, 'helfen': 1385, 'it': 1386, 'woche': 1387, 'inside': 1388, 'bb': 1389, 'spast': 1390, 'freiwillig': 1391, 'pip': 1392, 'treffen': 1393, 'gehts': 1394, 'gu': 1395, 'mittelalter': 1396, 'ze': 1397, 'schaff': 1398, 'tacosk': 1399, '68': 1400, 'debatte': 1401, 'mischt': 1402, 'nogruene': 1403, 'flixbus': 1404, 'folgten': 1405, 'fuehrerin': 1406, 'zeiten': 1407, 'tote': 1408, 'zoepfe': 1409, 'vollpfosten': 1410, 'emorapper': 1411, 'korsett': 1412, 'foetzchen': 1413, 'unbeliebt': 1414, 'laeuft': 1415, 'luege': 1416, 'postet': 1417, 'praesentie': 1418, 'hahaha': 1419, 'original': 1420, 'populisten': 1421, 'groko': 1422, 'manipulieren': 1423, 'fan': 1424, 'erinne': 1425, '1945': 1426, 'widerlich': 1427, 'witze': 1428, 'durchgehen': 1429, 'potenzial': 1430, 'hahah': 1431, 'jz': 1432, 'info': 1433, 'fuehren': 1434, 'lak': 1435, 'muratserin69': 1436, 'feld': 1437, 'wasser': 1438, 'ansehen': 1439, '80': 1440, 'passen': 1441, 'arasbacho': 1442, 'fuehlen': 1443, 'grundgesetz': 1444, 'philippinen': 1445, 'muenchen': 1446, 'kriegsfuehrung': 1447, 'interessant': 1448, 'bleib': 1449, 'lehrer': 1450, 'pimmel': 1451, 'dielinke': 1452, 'aufhoeren': 1453, 'same': 1454, 'erkennt': 1455, 'heimlich': 1456, 'digga': 1457, 'schweigt': 1458, 'korallenherz': 1459, '38': 1460, 'uedio': 1461, 'sigmar': 1462, 'kolumne': 1463, 'ehrendoktor': 1464, 'guete': 1465, 'kaise': 1466, 'reitschuster': 1467, 'roll': 1468, 'punk': 1469, 'samba': 1470, 'musik': 1471, 'ekelt': 1472, 'hsv': 1473, 'heil': 1474, 'fascho': 1475, 'saar': 1476, 'ferne': 1477, 'priiizzyy': 1478, 'herrmann': 1479, 'mzudemoffiziell': 1480, 'heu': 1481, 'rockstarleben': 1482, 'chaos': 1483, 'ersten': 1484, 'deswegen': 1485, 'muss': 1486, 'ge': 1487, 'angel': 1488, 'frankfu': 1489, 'signie': 1490, 'league': 1491, 'loesch': 1492, 'pech': 1493, 'unhatebar': 1494, 'erstmal': 1495, 'ots': 1496, 'kfw': 1497, 'arsenal': 1498, 'intro': 1499, 'lust': 1500, 'cem': 1501, 'constschreiber': 1502, 'schneller': 1503, 'terroristen': 1504, 'unglaublich': 1505, 'anime': 1506, 'dopa': 1507, 'nagelsmann': 1508, 'aki': 1509, 'abspritzen': 1510, 'echauffieren': 1511, 'schreiber': 1512, 'euwahl2019': 1513, 'stress': 1514, 'putas': 1515, 'griff': 1516, 'istanbul': 1517, 'imamoglu': 1518, 'westen': 1519, 'talita': 1520, 'kum76': 1521, 'sozialen': 1522, 'regulieren': 1523, 'erziehung': 1524, 'nackten': 1525, 'repo': 1526, 'marie': 1527, 'muelleimer': 1528, 'glueck': 1529, 'schwachsinn': 1530, 'wenige': 1531, 'praesidentin': 1532, 'twitter': 1533, 'posten': 1534, 'kachelmann': 1535, 'kennen': 1536, 'kurzen': 1537, 'fordere': 1538, 'morgenpost': 1539, 'europas': 1540, 'gebraucht': 1541, 'niemamovassat': 1542, 'lul': 1543, 'wdr': 1544, 'fotos': 1545, 'autos': 1546, 'insbesondere': 1547, 'unterschaetzt': 1548, 'dealo': 1549, 'ru': 1550, 'maedchen': 1551, 'florianklenk': 1552, 'nhausfrauen': 1553, 'fuehl': 1554, 'bewohnt': 1555, 'regie': 1556, 'obsession': 1557, 'grundschule': 1558, 'kam': 1559, 'hause': 1560, 'haste': 1561, 'kess': 1562, 'gute': 1563, 'mob': 1564, 'glaubt': 1565, 'solange': 1566, 'beleidigen': 1567, 'leipzig': 1568, 'spahn': 1569, 'ntv': 1570, 'methoden': 1571, 'wunderschoen': 1572, 'suess': 1573, 'mauer': 1574, '400': 1575, 'gefuehl': 1576, 'fani': 1577, 'emmxbellechrist': 1578, 'leck': 1579, 'stimme': 1580, 'ging': 1581, 'soros': 1582, 'ebenso': 1583, 'gepampe': 1584, 'malte': 1585, 'nicole': 1586, 'schaut': 1587, 'beides': 1588, 'song': 1589, 'bruessel': 1590, 'hieven': 1591, 'igen': 1592, 'hannahneedshugs': 1593, 'gemerkt': 1594, 'schlechte': 1595, 'freundin': 1596, 'lauter': 1597, 'ehemaliger': 1598, 'vorbeigehen': 1599, 'europaparlament': 1600, 'and': 1601, 'phones': 1602, 'nrw': 1603, 'echo': 1604, 'drogen': 1605, 'amthorvideo': 1606, 'yuma': 1607, 'lein': 1608, 'schwierig': 1609, '2015': 1610, 'getreten': 1611, 'empoe': 1612, 'gntm': 1613, 'eindeutig': 1614, '69': 1615, 'tut': 1616, 'texas': 1617, 'anabell2301': 1618, 'frankundfreya': 1619, 'komischen': 1620, 'linksradikalen': 1621, 'heyitsmebuboy': 1622, 'pc': 1623, 'cheers': 1624, 'afterwork': 1625, 'fraktionen': 1626, 'beklagen': 1627, 'ausschluss': 1628, 'attackieren': 1629, 'einheitsfeier': 1630, 'leistung': 1631, 'ohren': 1632, 'destroysboys': 1633, 'heller': 1634, 'ablenken': 1635, 'hoehenflug': 1636, 'wann': 1637, 'kriegste': 1638, 'runter': 1639, 'chillen': 1640, 'frikawies': 1641, 'clinton': 1642, 'kauft': 1643, 'hin': 1644, 'luegenpresse': 1645, 'befinden': 1646, 'teil': 1647, 'be': 1648, 'supermarkt': 1649, 'nochmal': 1650, 'steh': 1651, 'stolz': 1652, 'appell': 1653, 'schaftsaussichten': 1654, 'nationalsozialismus': 1655, 'scyltara': 1656, 'trauen': 1657, 'sehrlesbisch': 1658, 'bin': 1659, 'nextlvlbastard': 1660, 'kulturbolschewi': 1661, '66norweger66': 1662, 'cn': 1663, 'se': 1664, 'offizielle': 1665, 'millionen': 1666, 'verdammte': 1667, 'permanent': 1668, 'young': 1669, 'riskieren': 1670, 'bannon': 1671, 'bekomm': 1672, 'mokoffizieil': 1673, 'ft': 1674, 'ih': 1675, 'nahe': 1676, 'but': 1677, 'heutigen': 1678, 'veganer': 1679, 'austria': 1680, 'quaelen': 1681, 'kleiner': 1682, 'suarez': 1683, 'azeckenbiss': 1684, 'ami': 1685, 'sehr': 1686, 'knoepft': 1687, 'n26': 1688, 'ralf64904117': 1689, 'nl': 1690, 'niemehrcdu': 1691, 'siehe': 1692, 'krueger': 1693, 'schwulemiker': 1694, 'stellt': 1695, 'wieviel': 1696, 'willnurschreibn': 1697, 'grenzen': 1698, 'deutschsprachige': 1699, 'ebay': 1700, '1999': 1701, 'carerra': 1702, 'garnicht': 1703, 'christen': 1704, 'ofenschlampe': 1705, 'poggenburgandre': 1706, 'afrikaner': 1707, 'jagen': 1708, 'cnn': 1709, 'folge': 1710, 'irrsinn': 1711, 'hutzel': 1712, 'kurzer': 1713, 'baden': 1714, 'ms': 1715, 'seite': 1716, 'magazin': 1717, 'polenz': 1718, 'hitlergruss': 1719, 'ruelpser': 1720, 'magengas': 1721, 'vergas': 1722, 'versucht': 1723, 'maennern': 1724, 'final': 1725, 'satz': 1726, 'prank': 1727, 'juergen': 1728, 'fritz': 1729, 'ergebnis': 1730, 'falsch': 1731, 'not': 1732, 'wiede': 1733, 'newswirenow': 1734, 'erdolf': 1735, 'argument': 1736, 'geflogen': 1737, 'kacken': 1738, 'erhaelt': 1739, 'spoe': 1740, 'tagesthemen': 1741, 'wochenende': 1742, 'oida': 1743, 'uebersetzt': 1744, 'behandelt': 1745, 'russland': 1746, 'wunde': 1747, 'erzaehlen': 1748, 'freude': 1749, 'kangen': 1750, 'schau': 1751, '100': 1752, 'jaja': 1753, 'schlechtigkeit': 1754, 'weltanschauung': 1755, 'xrapidsandro': 1756, 'nh': 1757, 'impfanoffiziell': 1758, 'schne': 1759, 'shaming': 1760, 'abwe': 1761, 'erding': 1762, 'verleumdet': 1763, 'stuerzenberger': 1764, 'aufgerissen': 1765, 'anhaenger': 1766, 'pasemann': 1767, 'faellt': 1768, 'denke': 1769, 'adam': 1770, 'rammstein': 1771, 'herd': 1772, 'liest': 1773, 'mach': 1774, 'arschficken': 1775, 'feinstaub': 1776, 'kuh': 1777, 'goennen': 1778, 'gratulation': 1779, 'nicosemsrott': 1780, 'teufels': 1781, 'rechter': 1782, 'beide': 1783, 'fakten': 1784, 'tv': 1785, 'geschichten': 1786, 'tag': 1787, 'studium': 1788, 'merk': 1789, 'vergisst': 1790, 'aufhoe': 1791, 'autofahrer': 1792, 'leichte': 1793, 'aussehen': 1794, 'uli': 1795, 'postings': 1796, 'ar': 1797, 'trikotwahl': 1798, 'maschmeyer': 1799, 'quirinweber': 1800, 'verstand': 1801, 'unterschreiben': 1802, 'andreanahlesspd': 1803, 'spielen': 1804, 'engelge': 1805, 'muellerliesche': 1806, 'ihr': 1807, 'mei': 1808, 'geraldgrosz': 1809, 'liebsten': 1810, 'chrisjuko': 1811, 'bedarf': 1812, 'benutzen': 1813, 'eva': 1814, 'herman': 1815, 'vieles': 1816, 'kolle': 1817, 'menschheit': 1818, 'genommen': 1819, 'zei': 1820, 'neues': 1821, 'publizistikon': 1822, 'hate': 1823, 'frei': 1824, 'update': 1825, 'extremisten': 1826, 'dritten': 1827, 'pl0105': 1828, 'minecraft': 1829, 'verbloedung': 1830, 'justinkolo': 1831, 'mone': 1832, 'auftritt': 1833, 'picco94115398': 1834, 'hinterlassen': 1835, 'liegt': 1836, 'daran': 1837, 'einhorngangbang': 1838, 'pueppchen': 1839, 'alexander': 1840, 'wollte': 1841, 'wahlpa': 1842, 'buehne': 1843, 'siegstyle': 1844, 'verbrechen': 1845, 'entfernt': 1846, 'stadion': 1847, 'ki': 1848, 'mi': 1849, 'pssst': 1850, 'heimat': 1851, 'normal': 1852, 'aussagen': 1853, 'junioren': 1854, 'ts': 1855, '1000': 1856, 'gibts': 1857, 'paesse': 1858, 'nackter': 1859, 'nachm': 1860, 'cet': 1861, 'telekomdown': 1862, 'beck': 1863, 'rueckwae': 1864, 'friedhof': 1865, 'indoktrination': 1866, 'ihn': 1867, 'hahahahaha': 1868, 'bengies5': 1869, 'gzuz': 1870, 'moje': 1871, 'dupe': 1872, 'dankee': 1873, 'verraeter': 1874, 'sachsen': 1875, 'schweizok2': 1876, 'iphone': 1877, 'fassen': 1878, 'alice': 1879, 'bekleidung': 1880, 'watch': 1881, 'bastard': 1882, 'dracheschaut': 1883, 'bestaetigt': 1884, 'idk': 1885, 'selbst': 1886, 'laecherlich': 1887, 'lara': 1888, 'lt': 1889, 'masturbieren': 1890, 'gottchen': 1891, 'fernandes': 1892, 'dominic': 1893, 'roger': 1894, 'etwa': 1895, 'weib': 1896, 'fetten': 1897, 'lebe': 1898, 'irre': 1899, 'stbrandner': 1900, 'selbe': 1901, 'nwbrs1': 1902, '21': 1903, 'vegesack': 1904, 'copy': 1905, 'paste': 1906, 'krasser': 1907, 'cms': 1908, 'kleben': 1909, 'mobbing': 1910, 'faerben': 1911, 'booth': 1912, 'heiko31086906': 1913, 'besten': 1914, 'hashtag': 1915, 'mon': 1916, 'send': 1917, 'korrupten': 1918, 'erfindet': 1919, 'brauchst': 1920, 'ku': 1921, 'modal': 1922, 'hahahah': 1923, 'spricht': 1924, 'nicolangecdu': 1925, 'virgen48': 1926, 'glueckwunsch': 1927, 'gemeinsam': 1928, 'ruf': 1929, 'ruinie': 1930, 'knie': 1931, 'now': 1932, 'phiiosoph': 1933, 'raste': 1934, 'lache': 1935, 'cool': 1936, 'dj': 1937, 'wahren': 1938, 'keh': 1939, 'zahlschwein': 1940, 'jeds': 1941, 'geschwafel': 1942, 'dfb': 1943, 'kunst': 1944, 'brauch': 1945, 'farid': 1946, 'bang': 1947, 'gesellschaftliche': 1948, 'billie': 1949, 'eilish': 1950, 'rezovideo': 1951, 'schwanger': 1952, 'michelreimon': 1953, 'widerwae': 1954, 'revolverblatt': 1955, 'peter': 1956, 'snack': 1957, 'union': 1958, 'genannt': 1959, 'sexo': 1960, 'sunshine': 1961, 'bierflasche': 1962, 'hand': 1963, 'konform': 1964, 'ikel': 1965, 'zieht': 1966, 'migranten': 1967, 'vermutlich': 1968, 'keller': 1969, 'sellner': 1970, 'aperol': 1971, 'annewill': 1972, 'schlagen': 1973, 'vereinbar': 1974, 'ninja': 1975, '25': 1976, 'doppelmoral': 1977, 'internet': 1978, '00': 1979, 'prallen': 1980, 'meint': 1981, 'musclebear66': 1982, 'gutes': 1983, 'akw': 1984, '22': 1985, 'kulturverein': 1986, 'eingestaendnis': 1987, 'ausrufen': 1988, 'krypto': 1989, 'boerse': 1990, 'rp19': 1991, 'weird': 1992, 'dfdi': 1993, 'kollegin': 1994, 'menge': 1995, 'wahr': 1996, 'strickanleitung': 1997, 'melanie': 1998, 'mielinger': 1999, 'anleitungen': 2000, 'schule': 2001, 'hinten': 2002, 'fotzen': 2003, 'schlecht': 2004, 'stark': 2005, 'koeln': 2006, 'fussirud': 2007, 'absolute': 2008, 'schlaegt': 2009, 'manchmal': 2010, 'anstatt': 2011, 'motivie': 2012, 'legen': 2013, 'panik': 2014, 'schwester': 2015, 'fridayforfuture': 2016, 'dank': 2017, 'teen': 2018, 'eidigen': 2019, '1977': 2020, 'tobias': 2021, 'seb': 2022, 'baehr': 2023, 'gebu': 2024, 'hazard': 2025, 'cringe': 2026, 'reduzie': 2027, 'interesse': 2028, 'schwuchteltier': 2029, 'michael': 2030, 'symphony': 2031, 'magic': 2032, 'petition': 2033, 'bro': 2034, 'altcoin': 2035, 'parlament': 2036, 'line': 2037, 'werberat': 2038, 'havard': 2039, 'fuehlst': 2040, 'magst': 2041, 'sperma': 2042, 'erzaehlt': 2043, '2030': 2044, 'gezaehlt': 2045, 'anfang': 2046, 'bezahlen': 2047, 'erkennen': 2048, 'treibt': 2049, 'abechieben': 2050, 'schlaf': 2051, 'nachdem': 2052, 'steckt': 2053, 'rothaarige': 2054, 'politessen': 2055, 'inzets': 2056, 'ndrinfo': 2057, 'klimaaktivistin': 2058, 'luisa': 2059, 'neubauer': 2060, 'fehlenden': 2061, 'unterstuetzung': 2062, 'kl': 2063, 'ruhrbahn': 2064, 'morgen': 2065, 'inkas': 2066, 'angestellt': 2067, 'spanischen': 2068, 'eindringlingen': 2069, 'toppt': 2070, 'technosteron': 2071, 'boar': 2072, 'analphabetischen': 2073, 'dorne': 2074, 'schrammi44': 2075, 'goat': 2076, 'bouncaay': 2077, 'kfm': 2078, 'mittelstand': 2079, 'mittelstandsanleihen': 2080, 'fonds': 2081, 'hoermann': 2082, 'anleihe': 2083, 'mindest': 2084, 'kupon': 2085, 'mentalshards': 2086, 'offenden': 2087, 'skandaloes': 2088, 'zugreifen': 2089, 'holzraspler': 2090, 'botometer': 2091, 'touchbar': 2092, 'xcode': 2093, '2003': 2094, 'xxl': 2095, 'weights': 2096, 'v1': 2097, 'fs19': 2098, 'kizer': 2099, 'zero': 2100, 'aquila': 2101, 'agora': 2102, 'deutsches': 2103, 'ehepaar': 2104, 'ffentlichkeit': 2105, 'muschilecken': 2106, 'johannesgrune': 2107, 'armselig': 2108, 'esc2019': 2109, 'iceland': 2110, 'effekt': 2111, 'sieg': 2112, 'immernoch': 2113, 'lucky': 2114, 'joahlen': 2115, 'sueggest': 2116, 'movies': 2117, 'plz': 2118, 'ty': 2119, 'einjanik': 2120, 'mhp2002': 2121, 'konrad1000': 2122, 'lvz': 2123, 'koerperverletzung': 2124, 'antut': 2125, 'taeter': 2126, 'kundgebug': 2127, 'dunklen': 2128, 'repression': 2129, 'humanitaere': 2130, 'aufnahme': 2131, 'wohngege': 2132, 'kopalken': 2133, 'hasselfeld': 2134, 'wahlkampfhelferin': 2135, 'gescher': 2136, 'christdemokrat': 2137, 'gaense': 2138, 'naturschutzgebiet': 2139, 'berkeltal': 2140, 'schwgerin': 2141, 'italiani': 2142, 'chat': 2143, 'satireunfreiesd': 2144, 'hube': 2145, 'zulu': 2146, 'nilzee011': 2147, 'linotobi': 2148, 'dieserroman': 2149, 'estar': 2150, 'unterwrfige': 2151, 'hotpants': 2152, 'lianepoost': 2153, 'beziehe': 2154, 'sozialistische': 2155, 'unproduktiv': 2156, 'brunipamder237': 2157, 'sonnenbebrillt3': 2158, 'altonese86': 2159, 'unfair': 2160, 'yungatakan': 2161, 'rau': 2162, 'deacon': 2163, 'zuruf': 2164, 'bots': 2165, 'sawsan': 2166, 'arbeitskraft': 2167, 'stundenlohn': 2168, 'nwbrb58': 2169, 'osnabrueck': 2170, '26': 2171, 'delmenhorst': 2172, 'joergrmayer': 2173, 'lichtmesz': 2174, 'versorgungsposten': 2175, 'naeckige': 2176, 'karrierist': 2177, 'miese': 2178, 'sozialisten': 2179, 'antifanten': 2180, '451': 2181, 'benziner': 2182, 'dazu': 2183, 'xrxss': 2184, 'wireless': 2185, 'charging': 2186, 'pads': 2187, 'katerfrieden': 2188, 'geschoss': 2189, 'braindead': 2190, 'xy': 2191, 'kotzt': 2192, 'johannesw82': 2193, 'bellefired': 2194, 'belieben': 2195, 'einfuegen': 2196, 'regierungsgesteue': 2197, 'dementsprechendem': 2198, 'verleih': 2199, 'crusher': 2200, 'neomagazin': 2201, 'carpool': 2202, 'karaoke': 2203, 'dotheyknowitseurope': 2204, 'kamp': 2205, 'kgb': 2206, 'hihi97948034': 2207, 'mero': 2208, 'knapp': 2209, 'kollegen': 2210, 'arbeitest': 2211, 'sprachst': 2212, 'assi': 2213, 'kreisel': 2214, 'blinkt': 2215, 'autobahn': 2216, 'blinken': 2217, 'eilhaft': 2218, 'busfahrer': 2219, 'evp': 2220, 'spitzenkandidat': 2221, 'wahlarena': 2222, 'berufsleben': 2223, 'aaaain': 2224, 'hintergrundmusik': 2225, 'mobilfunkwerbung': 2226, 'escorf': 2227, 'og': 2228, 'julius': 2229, 'michaelhaenel3': 2230, 'bewah': 2231, 'fusionbleibt': 2232, 'xmerve021': 2233, 'haraldbecker80': 2234, 'gegenbeispiel': 2235, 'gezeigt': 2236, '900': 2237, 'ausland': 2238, 'ruche4': 2239, 'poids': 2240, '2kg': 2241, 'infos': 2242, '47': 2243, '56': 2244, 'ssbm': 2245, 'rupps': 2246, 'unserwir': 2247, 'atomreisfleisch': 2248, 'jacky': 2249, 'lope': 2250, 'elektro': 2251, 'geheule': 2252, 'leut': 2253, 'rachsuechtige': 2254, 'mysogynie': 2255, 'hinte': 2256, 'westlichen': 2257, 'bundeslaendern': 2258, 'abstossend': 2259, 'pokehita97': 2260, 'overreacted': 2261, 'overreact': 2262, 'sry': 2263, 'can': 2264, 'radikale': 2265, 'nationalistische': 2266, 'verschwiegenenen': 2267, 'obi': 2268, 'kenobii': 2269, 'walkerjole': 2270, 'siege': 2271, 'cod': 2272, 'ihrerseits': 2273, 'klimafalle': 2274, 'radiale': 2275, 'massnahmen': 2276, 'inaholst': 2277, 'rudolfuz': 2278, 'extrarechte': 2279, 'bigotterie': 2280, 'aushaltbar': 2281, 'fck': 2282, 'plakaten': 2283, 'flyer': 2284, 'verankernlul': 2285, 'papaplatte': 2286, 'zeitve': 2287, 'reib': 2288, 'tlaytweet': 2289, 'befindet': 2290, 'normale': 2291, 'peterzobel4': 2292, 'zusammenarbeit': 2293, 'gutschein': 2294, 'rebelita': 2295, 'fleecepulover': 2296, 'hofheim': 2297, 'hobbyhure': 2298, 'taschengeld': 2299, 'positionen': 2300, 'vermitteln': 2301, 'konnten': 2302, 'verachtung': 2303, 'educaaunfifi': 2304, 'ulrik': 2305, 'von': 2306, 'raedsalehberlin': 2307, 'logo': 2308, 'heteros': 2309, 'jetz': 2310, 'habter': 2311, 'etzala': 2312, 'piratenpa': 2313, 'gequatsche': 2314, 'migration': 2315, 'gesinnungsterror': 2316, 'nicerlucas': 2317, 'alki': 2318, 'danyvause': 2319, 'maynstream': 2320, 'tip': 2321, 'motivator': 2322, 'fuxki': 2323, 'bauchschmerzen': 2324, 'homasbruns': 2325, 'dt': 2326, 'demnach': 2327, 'waehlte': 2328, 'abgehakt': 2329, 'schwangerschaft': 2330, 'firefox': 2331, 'nekrosex': 2332, 'zar2001doz': 2333, 'dezember': 2334, 'bescheid': 2335, 'versetzt': 2336, 'anzeiger': 2337, 'glockto': 2338, 'blumenkohl': 2339, 'zubereite': 2340, 'seziere': 2341, 'kolleginnen': 2342, 'kolleg': 2343, 'zuckerbienchen': 2344, '222': 2345, 'followern': 2346, 'ausziehen': 2347, 'untenistoben': 2348, 'wulfschmiese': 2349, 'vorgelogen': 2350, 'unheilvolle': 2351, 'milkiriveri': 2352, 'beisst': 2353, 'tabeayy': 2354, 'tante': 2355, 'familiengruppe': 2356, 'spiegelanti': 2357, 'heldenmythos': 2358, 'don': 2359, 'komische': 2360, 'vanhimbeeren': 2361, 'spalterische': 2362, 'eurorettungspolitik': 2363, 'entpuppt': 2364, 'fiskalisches': 2365, 'fiasko': 2366, 'taeuschungskonstrukt': 2367, 'scheissegal': 2368, 'luftblase': 2369, 'strebt': 2370, 'tulpa2230': 2371, 'pete': 2372, 'oitberg': 2373, 'schadet': 2374, 'diskurs': 2375, 'schwa': 2376, 'ht': 2377, 'internetbazi': 2378, 'kulierjarolina': 2379, 'golzheimer': 2380, 'resultat': 2381, 'kassie': 2382, 'aufbau': 2383, 'ryan': 2384, 'riback': 2385, 'eyes': 2386, 'kikivega': 2387, 'krasse': 2388, 'aktion': 2389, 'strasse': 2390, 'hobby': 2391, 'teens': 2392, 'realverlust': 2393, 'schwesterfd': 2394, 'dieter': 2395, 'grind': 2396, 'staatlich': 2397, 'organisie': 2398, 'gfickt': 2399, 'schaffens': 2400, 'kna': 2401, 'hmm': 2402, 'unterstuetzte': 2403, 'mietpreis': 2404, 'wucherer': 2405, 'styropor': 2406, '434italo': 2407, 'eingerichtet': 2408, 'sailorvicious': 2409, 'jusederjude': 2410, 'quadratmetern': 2411, 'vierkoepfigen': 2412, 'wohnkonzepte': 2413, 'serie': 2414, 'club28': 2415, 'silke1974geb': 2416, 'mrchentante1': 2417, 'sudelheft': 2418, 'extension': 2419, 'mitchell': 2420, 'nihl': 2421, 'konservative': 2422, 'identitaetspolitik': 2423, 'deshalb': 2424, 'loveguerillos': 2425, 'thorser62': 2426, 'luciame': 2427, 'kmw2904': 2428, 'fake': 2429, 'mmnews': 2430, 'citylayer': 2431, 'packs': 2432, 'balkonlage': 2433, 'coffeiniker': 2434, 'aluhut': 2435, 'restliche': 2436, 'zerquetscht': 2437, 'enrico95151143': 2438, 'irritierend': 2439, 'diw': 2440, 'praesident': 2441, 'fratzscher': 2442, 'adora': 2443, 'belle': 2444, 'unpolitisch': 2445, 'beschaeftigt': 2446, 'mimimi': 2447, 'fakenew': 2448, 'vquaschning': 2449, 'paris': 2450, 'aktueller': 2451, 'wirds': 2452, '2200': 2453, 'thorsmetkeller': 2454, 'bestell': 2455, 'dansgame': 2456, 'juristen': 2457, 'kaliber': 2458, 'yohbuh': 2459, 'zeelikezorro': 2460, 'mooorizzle': 2461, 'craftergut5': 2462, 'wollten': 2463, 'putschen': 2464, 'hcsmussweg': 2465, 'alextv': 2466, 'puffs': 2467, 'wahldesaster': 2468, 'stroemungsuebergreifend': 2469, 'nachha': 2470, 'alkoholiker': 2471, 'chil': 2472, 'zerfall': 2473, 'armut': 2474, 'unterdrueckung': 2475, 'grottekbrutal': 2476, 'traumurlaub': 2477, 'bytepirat': 2478, 'lebensmittel': 2479, 'verschenken': 2480, 'pparzival': 2481, 'aufstehen': 2482, 'pseudolinken': 2483, 'vormalige': 2484, 'friedenspa': 2485, 'schrillsten': 2486, 'kriegspa': 2487, 'gemause': 2488, 'homeforwhovians': 2489, 'weilkp1': 2490, 'fraue': 2491, 'ausb': 2492, 'faznet': 2493, 'randyraudi': 2494, 'religionen': 2495, 'symphatische': 2496, 'vorzeigekandidatin': 2497, 'erstwaehler': 2498, 'kreux': 2499, 'weil': 2500, 'lukasinho01': 2501, 'bloede': 2502, 'scheinheilige': 2503, 'richt': 2504, 'euwahl': 2505, 'jahrelange': 2506, 'massen': 2507, 'verbrecherinvasion': 2508, 'muelldeponie': 2509, 'veralteten': 2510, 'zaehlen': 2511, 'aljaseas': 2512, 'puh': 2513, 'kollossale': 2514, 'faven': 2515, 'texten': 2516, 'hauptsaechlich': 2517, 'misogyne': 2518, 'misogynes': 2519, 'insz': 2520, 'xxxtentacion': 2521, 'ulrichham': 2522, 'abgezockt': 2523, 'belogen': 2524, 'h4': 2525, 'altersarmut': 2526, 'leiharbeit': 2527, 'thetrvevarg': 2528, 'bedeutungslosigkeit': 2529, 'bedenkt': 2530, 'einst': 2531, 'besc': 2532, 'eddie': 2533, '1412': 2534, 'darkcat90': 2535, 'himmelsreich': 2536, 'vielflieger': 2537, 'stiftung': 2538, 'warentest': 2539, 'tropenholz': 2540, 'grillen': 2541, 'staub6760': 2542, 'aua': 2543, 'depositodetiras': 2544, 'por': 2545, 'charles': 2546, 'frauweh': 2547, 'bogenschuetzen': 2548, 'dezimieren': 2549, 'prinzen': 2550, 'gurkenplaysyt': 2551, 'chrisfcn1900': 2552, 'dreckig': 2553, 'beatehaubrock': 2554, 'mokomokai': 2555, 'kjpgehrden': 2556, 'identifikationmitdemaggressor': 2557, 'samelou': 2558, 'seltsame': 2559, 'zensur': 2560, 'satzes': 2561, 'beleidigung': 2562, 'verleumdung': 2563, 'entw': 2564, 'oklara': 2565, 'reality': 2566, 'kings': 2567, 'vogeln': 2568, 'geschieht': 2569, 'uebliche': 2570, 'teenager': 2571, 'muehsal': 2572, 'sitcom': 2573, 'temmuzkacak': 2574, 'terrorpkk': 2575, 'freiheitskaempfer': 2576, 'irakische': 2577, 'burka': 2578, 'ausziehe': 2579, 'gaengster': 2580, 'verbloeden': 2581, 'buchzitat': 2582, 'irgendeinem': 2583, 'schlange': 2584, 'ghostikun': 2585, 'sexistische': 2586, 'kackscheisse': 2587, 'krise': 2588, 'brabaxbln': 2589, 'ill': 2590, 'zitronenjette20': 2591, 'morgaine620': 2592, 'dgh': 2593, 'treppenhaus': 2594, 'liebs': 2595, 'wahlomat': 2596, 'hatte': 2597, 'irgendeinen': 2598, 'bewaehrungsstrafe': 2599, 'schwarzafrikanischen': 2600, 'asyltouristen': 2601, 'kirchentreppe': 2602, 'milch': 2603, 'lesbensexvideos': 2604, 'blonde': 2605, 'schwiegermtter': 2606, '98763': 2607, 'volltreffer': 2608, 'raetsel': 2609, 'wozu': 2610, 'schaftsverbaende': 2611, 'bande': 2612, 'daddyatze': 2613, 'goil': 2614, 'cookiesforjoon': 2615, 'fandest': 2616, 'skototaxis': 2617, 'trafen': 2618, 'reifen': 2619, 'wrge': 2620, 'da29': 2621, '00020b': 2622, 'haf': 2623, 'cin': 2624, 'exp': 2625, 'refrigerator': 2626, 'water': 2627, 'white': 2628, 'aufschrei': 2629, 'bruestung': 2630, 'gehoben': 2631, 'nwbre14': 2632, 'borken': 2633, 'westf': 2634, 'dorsten': 2635, 'froehliches': 2636, 'allahu': 2637, 'akbe': 2638, 'wennst': 2639, 'zuhoerst': 2640, 'choked': 2641, 'veganem': 2642, 'dings': 2643, 'mecces': 2644, 'dringe': 2645, 'ranziges': 2646, 'rindfleisch': 2647, 'videoaufrufe': 2648, 'kaufende': 2649, 'fistplay': 2650, 'assplay': 2651, 'fistingtime': 2652, 'xyz': 2653, 'causa': 2654, 'schiesst': 2655, 'tricksen': 2656, 'geltendes': 2657, 'transnutte': 2658, 'verwechseln': 2659, 'schreckt': 2660, 'cubcgn1': 2661, 'davidhf92': 2662, 'spargel': 2663, 'erbeeren': 2664, 'president': 2665, 'rambe': 2666, 'hururensooohn': 2667, 'okok': 2668, 'stopp': 2669, 'mission': 2670, 'faltiger': 2671, 'realantizion77': 2672, 'nettilatte': 2673, 'akifpirincci': 2674, 'hcstrachefp': 2675, 'anonymer': 2676, 'zeigender': 2677, 'bonner': 2678, 'stricher': 2679, 'pillepa47127736': 2680, 'umweltbelastung': 2681, 'beitraegt': 2682, 'trends': 2683, 'branche': 2684, 'spoga': 2685, 'gafa': 2686, 'bjrn17547904': 2687, 'gruenenrw': 2688, 'nationalmasochismus': 2689, 'geisteskranken': 2690, 'larsweisbrod': 2691, 'verlieben': 2692, 'ess': 2693, 'steffen': 2694, 'goldstuecke': 2695, 'facharbeiter': 2696, 'aelydysdenossi': 2697, 'morastmops': 2698, 'politicalbeauty': 2699, 'naziaufmaersche': 2700, 'meinungsaeusserung': 2701, 'demorecht': 2702, 'genemigt': 2703, 'bodoloettgen': 2704, 'linksextrem': 2705, 'fachkraeften': 2706, 'nnaschneider': 2707, 'kroenung': 2708, 'oekofeminismus': 2709, 'hstrike': 2710, 'zuliebe': 2711, 'brinkhaus': 2712, 'dennoch': 2713, 'maximal': 2714, 'mariboncw': 2715, 'schuhcreme': 2716, 'bastelt': 2717, 'herrje': 2718, 'yuumatsukumo': 2719, '67': 2720, 'verblendet': 2721, 'leimen': 2722, 's60': 2723, 'boeblingen': 2724, 'schwabstr': 2725, 'maichingen': 2726, 'sbahnstgt': 2727, 'gifev': 2728, 'kompetenzgruppe': 2729, 'aktuelle': 2730, 'projektgruppen': 2731, 'wohnformen': 2732, 'mikrolagen': 2733, 'grossstaedte': 2734, 'einlauf': 2735, 'spasti': 2736, 'gottessohn13': 2737, 'fackel': 2738, 'umzuege': 2739, 'dagilp': 2740, 'lbh': 2741, '1lisschen93': 2742, 'b24pt': 2743, 'contrata': 2744, 'ao': 2745, 'hoffenheim': 2746, 'fwa': 2747, 'great': 2748, 'naku64': 2749, 'quin': 2750, '3te': 2751, 'untote': 2752, 'stimmenve': 2753, 'eilung': 2754, 'buendnis': 2755, 'ue50': 2756, 'gestossen': 2757, 'aende': 2758, 'sera': 2759, 'gegenseitig': 2760, 'schickten': 2761, 'pbern12': 2762, 'community': 2763, 'deutlicher': 2764, 'garfieldine': 2765, 'sexismobserver': 2766, 'hamburger': 2767, 'hafen': 2768, 'botschaft': 2769, 'stefan': 2770, 'beatrix': 2771, 'vstorch': 2772, 'doener': 2773, 'dicherheit': 2774, 'jungs': 2775, 'meinte': 2776, 'gewaltbereitschaft': 2777, 'thinspo': 2778, 'bootboss': 2779, 'spitzenkandidaten': 2780, 'kurzpo': 2781, 'raet': 2782, 'kandidatencheck': 2783, 'itsdesey': 2784, 'perkz': 2785, 'gunlike': 2786, 'groesseren': 2787, 'schwulen': 2788, 'aufgestiegen': 2789, 'geringere': 2790, 'anzahl': 2791, 'eienblock': 2792, 'staffel': 2793, 'voltron': 2794, 'trd': 2795, 'fall': 2796, 'evorox750': 2797, 'schlaefst': 2798, 'jodl': 2799, 'merkur': 2800, 'auswae': 2801, 'igesamt': 2802, 'ep21': 2803, 'attraction': 2804, 'outet': 2805, 'gedichtw': 2806, 'herrnaumann': 2807, 'dergazetteur': 2808, 'erster': 2809, 'besuch': 2810, 'mjwock': 2811, 'allemal': 2812, 'oekolinx': 2813, 'polizistmensch': 2814, 'schnischna1992': 2815, 'alla': 2816, 'klassische': 2817, 'xhamster': 2818, 'orgasmus': 2819, 'edgyluwuca': 2820, 'umfrage': 2821, 'wuerdest': 2822, 'fragst': 2823, 'personalentscheidungen': 2824, 'bk': 2825, 'kingrighteous': 2826, 'raleigh': 2827, 'durham': 2828, 'musashi': 2829, 'haiku': 2830, 'haltung': 2831, 'genialewelt': 2832, 'waldnattern': 2833, 'melden': 2834, 'puls': 2835, 'zitter': 2836, 'zusammenreissen': 2837, 'loszudiskutieren': 2838, 'haraldrostock': 2839, 'renommie': 2840, 'wilfried': 2841, 'schmitz': 2842, 'amtlichen': 2843, 'bet': 2844, 'tisch': 2845, 'gekeh': 2846, 'coraxaroc': 2847, 'neons': 2848, 'reklame': 2849, 'fische': 2850, 'leuchten': 2851, 'huebsch': 2852, 'bunt': 2853, 'wetlook': 2854, 'showoff': 2855, 'talk': 2856, 'primitive': 2857, 'gesindel': 2858, 'd4ncingmonkey': 2859, 'tod': 2860, 'luaks030': 2861, 'gabku': 2862, 'curdinv': 2863, 'grautoene': 2864, 'uebrig': 2865, 'nim': 2866, 'reiner02192679': 2867, 'beziehung': 2868, 'schlimmsten': 2869, 'flxmydlseases': 2870, 'heiner': 2871, 'gesper': 2872, 'alexarusss': 2873, 'linksoma': 2874, 'untaetig': 2875, 'steuerkarussell': 2876, 'raubzug': 2877, 'erschuet': 2878, 'obviant': 2879, 'buloneee': 2880, 'antwo': 2881, 'pflegefall': 2882, 'trackmaniagamer': 2883, 'lord': 2884, 'abbadon': 2885, 'wurd': 2886, 'finanzberater': 2887, 'forderung': 2888, 'schnaps': 2889, 'nap': 2890, 'masyaf': 2891, 'sy': 2892, 'groben': 2893, 'unfug': 2894, 'effektiver': 2895, 'reppinum': 2896, 'kriegt': 2897, 'monat': 2898, 'inaktiv': 2899, 'nicjt': 2900, 'sprinten': 2901, 'daffyfuq': 2902, 'gummipuppe': 2903, 'hochladet': 2904, 'hl': 2905, 'h2o': 2906, 'mein': 2907, 'leg': 2908, 'schatulle': 2909, 'schliesse': 2910, 'garantie': 2911, 'bpl': 2912, 'sbc': 2913, 'foerde': 2914, 'arabische': 2915, 'schmarotzer': 2916, 'taugenichtse': 2917, 'uebe': 2918, 'sinnfrei': 2919, '200l': 2920, '60l': 2921, 'tank': 2922, 'fuellen': 2923, 'wegfahren': 2924, 'verstaatlichung': 2925, 'ausdenken': 2926, 'zskaveyt': 2927, 'sypherox': 2928, 'luuxaa': 2929, 'gangmembergaara': 2930, 'zkidaa': 2931, 'habebrot': 2932, 'paedagogin': 2933, 'txm3rx': 2934, 'benizzel1': 2935, 'klagt': 2936, 'voelkermord': 2937, 'doomed': 2938, 'richtlinie': 2939, 'schlag': 2940, 'kleinaktionaere': 2941, 'griffinthepeter': 2942, 'herumhackt': 2943, 'schliesslich': 2944, 'ju': 2945, 'betze': 2946, 'spiegelt': 2947, 'fuehrungetage': 2948, 'passfehler': 2949, '1967gorzata': 2950, 'sbunners': 2951, 'fanatisch': 2952, 'unverantwo': 2953, 'gagadaily': 2954, 'hair': 2955, 'pfarrer': 2956, 'gegendemo': 2957, 'starnberg': 2958, 'besen': 2959, 'kirchplatz': 2960, 'htt': 2961, 'michellemalkin': 2962, 'freespeechfriday': 2963, 'fightthecensors': 2964, 'pjnet': 2965, 'tcot': 2966, 'patrioten': 2967, 'strophe': 2968, 'deutschlandliedes': 2969, 'sulemannmalik': 2970, 'saekularer': 2971, 'entsprechend': 2972, 'timokloepper': 2973, 'fff': 2974, 'angesicht': 2975, 'grossprobleme': 2976, 'hielte': 2977, 'arnd': 2978, 'schumacher': 2979, 'timmermanseu': 2980, 'aussenpolitik': 2981, 'sorgt': 2982, 'migrations': 2983, 'halia': 2984, 'yee': 2985, 'durex': 2986, 'trojan': 2987, 'dwd': 2988, 'warnlagebericht': 2989, 'zuenden': 2990, 'taeglichen': 2991, 'brauchern': 2992, 'asoziales': 2993, 'tilojung': 2994, 'groesser': 2995, 'linear': 2996, 'tinten': 2997, 'killer': 2998, 'nichttweeterin': 2999, 'italienisches': 3000, 'nasir': 3001, 'ablegen': 3002, 'kallepilsbier': 3003, 'fabrikle': 3004, 'global': 3005, 'unternehmensgeschichte': 3006, 'hanserliter': 3007, 'volkslehrer': 3008, 'ingo': 3009, 'reconquista': 3010, 'germanica': 3011, 'bundesk': 3012, 'undeaniable': 3013, 'hofmeyr': 3014, 'kaizer': 3015, 'chiefs': 3016, 'n3rdy': 3017, 'nacken': 3018, 'krault': 3019, 'stefanskibbe': 3020, 'jap': 3021, 'milfdiana2': 3022, 'match': 3023, 'issn': 3024, 'verdammtes': 3025, 'atotheiex': 3026, 'edzardernst': 3027, 'extra3': 3028, 'jnfingerle': 3029, 'klimaschaedlichen': 3030, 'treibhausgase': 3031, 'klinger291259': 3032, 'kapazitaeten': 3033, 'eurowahl': 3034, 'jahrhunde': 3035, 'frans': 3036, 'timmermans': 3037, 'kommissionspraes': 3038, 'oezil': 3039, 'berichterstattung': 3040, 'schnappschuss': 3041, 'hoeferjunge': 3042, 'markt': 3043, 'wirken': 3044, 'kontrollieren': 3045, 'doerfer': 3046, 'zwangsumsiedeln': 3047, 'sarr': 3048, 'einbuergerungsverbot': 3049, 'mehrehen': 3050, 'geschichtlich': 3051, 'oede': 3052, 'nebenbei': 3053, 'antifaschist': 3054, 'haramizemer': 3055, 'gedanke': 3056, 'spaltet': 3057, 'typisch': 3058, 'davidgeorge91': 3059, 'karllagerfeld': 3060, 'trage': 3061, 'jogginghose': 3062, 'daraschi': 3063, 'iblali': 3064, 'youtubevideos': 3065, 'relativie': 3066, 'feminismus': 3067, 'yep': 3068, 'its': 3069, 'kotze': 3070, 'unnoetige': 3071, 'hyperbushido': 3072, '1923': 3073, 'putschversuch': 3074, 'knast': 3075, 'ccrunk9': 3076, 'england': 3077, 'ausbilden': 3078, 'lernt': 3079, 'vergewaltig': 3080, 'tomatenhass': 3081, 'kastor': 3082, 'akielos': 3083, 'patmair1': 3084, 'afdbraunschweig': 3085, 'verspargeln': 3086, 'todesanlagen': 3087, 'erinnern': 3088, 'plauen0105': 3089, 'plau': 3090, 'barbarakaufmann': 3091, 'verhaeltnis': 3092, 'zerruettet': 3093, 'nr': 3094, 'meinerstesmal': 3095, 'licht': 3096, 'lou': 3097, 'lorenz': 3098, 'sonjaablinger': 3099, 'maennerwg': 3100, 'laessig': 3101, 'abgeordnete': 3102, 'froh': 3103, 'rabensalat': 3104, 'ranajeanne': 3105, 'kuendigen': 3106, 'kinderbetreuung': 3107, 'umziehen': 3108, 'anfragen': 3109, 'gemeinderat': 3110, 'ehrliche': 3111, 'klarheit': 3112, 'transparenz': 3113, 'sexi': 3114, 'flotter': 3115, 'dreier': 3116, 'textvergessen': 3117, 'organspender': 3118, 'falle': 3119, 'ablebens': 3120, 'heike': 3121, 'gassmann': 3122, 'thunberg': 3123, 'diskutierst': 3124, 'gewinnt': 3125, 'madcapkostia': 3126, 'winstspencer2': 3127, 'dung': 3128, 'spfugang': 3129, 'tantetictac': 3130, 'rehe': 3131, 'dystopische': 3132, 'hundesoehne': 3133, 'thefabohd': 3134, 'draufklatschen': 3135, 'saltyironflower': 3136, 'uebernimmt': 3137, 'klischkoe': 3138, 'staerkeren': 3139, 'ansicht': 3140, 'juenger': 3141, 'bagge': 3142, 'eliter': 3143, 'domm': 3144, 'lukede': 3145, 'ypda': 3146, 'kiche': 3147, 'raunigmichael': 3148, 'scheisst': 3149, 'verschwoerung': 3150, 'ibiza': 3151, 'errol': 3152, 'verkoerperung': 3153, 'persoenlichkeit': 3154, 'abgebrannt': 3155, 'beharrlich': 3156, 'verheiratete': 3157, 'tunesier': 3158, 'muetze': 3159, 'abzune': 3160, 'derherrschulz': 3161, 'neoliberale': 3162, 'autoritaere': 3163, 'rassismusgetriebene': 3164, 'staatsumbau': 3165, 'lenkt': 3166, 'lovelisa18x': 3167, 'liebt': 3168, 'schwaenze': 3169, 'stecken': 3170, 'koenntest': 3171, 'lemurian1897': 3172, 'krustytheboss': 3173, 'stefans56831841': 3174, 'linksgruenes': 3175, 'ryuuly': 3176, 'goethe': 3177, 'animal': 3178, 'crossing': 3179, 'really': 3180, 'mediarings': 3181, 'dean': 3182, 'stua': 3183, 'illustrations': 3184, 'dirk': 3185, 'petzold': 3186, 'productdesign': 3187, 'designthinking': 3188, 'designinspiration': 3189, 'graphic': 3190, 'aerith': 3191, 'vergeblich': 3192, 'vincent': 3193, 'valentines': 3194, 'reitbares': 3195, 'liiamichel': 3196, 'ahmadmansour': 3197, 'zugucken': 3198, 'verweige': 3199, 'kommunikation': 3200, 'fensterheber': 3201, 'laraistanbul': 3202, 'hipsterschlampe': 3203, 'anschwillt': 3204, 'gluten': 3205, 'isst': 3206, 'lovefefee': 3207, 'davor': 3208, 'schrecken': 3209, 'harmloser': 3210, 'vorbilder': 3211, 'user': 3212, '167067272': 3213, 'juso': 3214, 'radikal': 3215, 'tagtraeume': 3216, 'cloud': 3217, 'plays': 3218, 'rapid': 3219, 'chilljo1': 3220, 'ava': 3221, 'uff': 3222, 'patrickgensing': 3223, 'profil': 3224, 'dora': 3225, 'bromberger': 3226, 'sperrung': 3227, 'schwesteraccount': 3228, 'spon': 3229, 'regierungsmonitor': 3230, 'beliebter': 3231, 'schuetzen': 3232, 'johanna': 3233, 'auswandern': 3234, 'gzsz': 3235, 'afcajax': 3236, 'today': 3237, 'ing': 3238, 'xi': 3239, 'ajaxo19': 3240, 'reiziger': 3241, 'kasanwirjo': 3242, 'rensch': 3243, 'salah': 3244, 'eddine': 3245, 'taylor': 3246, 'llansana': 3247, 'hans': 3248, 'dominie': 3249, 'nationalisten': 3250, 'gepraegt': 3251, 'cornelianoack': 3252, 'schaeme': 3253, 'zutiefst': 3254, 'fremd': 3255, 'peaches1804': 3256, 'reich': 3257, 'leiten': 3258, 'pop': 3259, 'bethaeuser': 3260, 'kirchen': 3261, 'grolmori': 3262, 'gestampft': 3263, 'lyon': 3264, 'algerier': 3265, 'gestaendnis': 3266, 'naegeln': 3267, 'versehene': 3268, 'bombe': 3269, 'fussgaenger': 3270, 'einnisten': 3271, 'sozialsysteme': 3272, 'steuern': 3273, 'sozialabgaben': 3274, 'hbsche': 3275, 'gefesselte': 3276, 'oon': 3277, 'ralph': 3278, 'bremer': 3279, 'ehrlich': 3280, 'freiheitlich': 3281, 'nehmt': 3282, 'jasmin': 3283, 'pur': 3284, 'mr': 3285, 'empty': 3286, 'km': 3287, 'baehnk': 3288, 'bouncytitaction': 3289, 'fishnets': 3290, 'tenhagen': 3291, 'stromanbieter': 3292, 'afghane': 3293, 'tritten': 3294, 'gestorben': 3295, 'strafmass': 3296, 'fabianphx': 3297, 'gazighost': 3298, 'kimmichs': 3299, 'assist': 3300, 'fazos': 3301, 'shell': 3302, 'tops': 3303, 'ndaktuell': 3304, 'miserabel': 3305, 'loehne': 3306, 'jens': 3307, 'grey': 3308, 'anatomy': 3309, 'bbabyaleyna': 3310, 'aceofm': 3311, 'namelstprogramm': 3312, 'lassmichbitteee': 3313, 'wkeyen': 3314, 'hanvoi': 3315, 'bundesaufsicht': 3316, 'gestellt': 3317, 'braunen': 3318, 'aufgeraeumt': 3319, 'gehalten': 3320, 'tony': 3321, 'konnotation': 3322, 'hetzern': 3323, 'ruketsueki': 3324, 'madicegg': 3325, 'engstirniger': 3326, 'eurozentrismus': 3327, 'dunkles': 3328, 'mtg': 3329, 'arena': 3330, 'event': 3331, 'bilbuha': 3332, 'ir': 3333, 'faerbt': 3334, 'roht': 3335, 'verpeiltetomate': 3336, 'rausgeraeumt': 3337, 'wiegt': 3338, 'derriccardo': 3339, 'klauer': 3340, 'shahbabrarya': 3341, 'deins': 3342, 'noeu': 3343, 'nijazi': 3344, 'runtergeholt': 3345, 'leobietton': 3346, 'bahnhofbuffets': 3347, 'hatten': 3348, 'solothurn': 3349, '20h': 3350, 'voelkische': 3351, 'intelligenzallergiker': 3352, 'geoutet': 3353, 'casperxofficial': 3354, 'linksextremer': 3355, 'wirsindmehr': 3356, 'versaut': 3357, 'purnu': 3358, 'wnsche': 3359, 'www': 3360, 'erotik': 3361, 'arbeitsscheinwerfer': 3362, 'ly8012': 3363, '12v': 3364, '24v': 3365, 'eckig': 3366, 'new': 3367, 'lampen': 3368, 'beleuchtung': 3369, 'arbeitsscheinwe': 3370, 'zockt': 3371, 'wordpressdotcom': 3372, 'starr': 3373, 'blanke': 3374, 'aleska': 3375, 'diamond': 3376, 'dessous': 3377, 'erotische': 3378, 'vzvhds': 3379, 'nationalromantiker': 3380, 'didn': 3381, 'inhale': 3382, 'rechtsextremen': 3383, 'sozis': 3384, 'bedingungslose': 3385, 'willkommenpolitik': 3386, 'woll': 3387, 'praktizier': 3388, 'propagandageschwafel': 3389, 'europarl': 3390, 'vergiss': 3391, 'expat': 3392, 'waehlerverzeichnis': 3393, 'einzutragen': 3394, 'mpse': 3395, 'videis': 3396, 'pirno': 3397, 'ozraeliavi': 3398, 'because': 3399, 'told': 3400, 'zuckerberg': 3401, 'bineuerboss': 3402, 'mjungclaus': 3403, 'umweltschaender': 3404, 'beweis': 3405, 'billah': 3406, 'spaeter': 3407, 'likes': 3408, 'mond': 3409, 'daherreden': 3410, 'onryouyuurei': 3411, 'holdudieladio': 3412, 'autobauer': 3413, 'zensierung': 3414, 'eingeleitet': 3415, 'aba': 3416, 'iger': 3417, 'luegner': 3418, 'neider': 3419, 'komplexe': 3420, 'aryeshalicar': 3421, 'regierungen': 3422, 'ideel': 3423, 'finanziell': 3424, 'guenstlinge': 3425, 'hauf': 3426, 'einladen': 3427, 'rechens': 3428, 'ballern': 3429, 'pointen': 3430, 'moewennase': 3431, 'scharfen': 3432, 'skalpell': 3433, 'verunstalten': 3434, 'still': 3435, 'luuucaby': 3436, 'qualzucht': 3437, 'tiermediziner': 3438, 'milchkuehe': 3439, 'maximalen': 3440, 'rag': 3441, 'getrimmt': 3442, 'jezabiii': 3443, 'michaelagrasser': 3444, 'entspannter': 3445, 'feierabend': 3446, 'innenpolitik': 3447, 'souveraenen': 3448, 'landes': 3449, 'poli': 3450, 'glubb': 3451, 'maschinia2024': 3452, 'fcn': 3453, 'mathenia': 3454, 'kranzschwinger': 3455, 'tuerkinnen': 3456, 'araberinnen': 3457, 'aufbauten': 3458, 'nora50moya': 3459, 'karriere': 3460, 'soziai': 3461, 'rantingronja': 3462, 'agumon': 3463, 'lasse': 3464, 'bemerkenswe': 3465, 'vaterlandsverraeter': 3466, 'checkt': 3467, 'aufjedenfall': 3468, 'wahlbuero': 3469, 'laufen': 3470, 'empfaenger': 3471, 'weltspiegel': 3472, 'pelixulas': 3473, 'bokep': 3474, 'camillelothezh': 3475, 'goennst': 3476, 'deli': 3477, 'finds': 3478, 'kinda': 3479, 'verallgemeinern': 3480, 'verscheiede': 3481, 'herkommen': 3482, 'gewagten': 3483, 'abstoss': 3484, 'rummenigge': 3485, 'mittlere': 3486, 'stromkasteriks': 3487, 'geschlemme': 3488, 'kafeel': 3489, 'kafeer': 3490, 'kafir': 3491, 'mitzat': 3492, 'blackboxvs': 3493, 'leichtmatrosen': 3494, 'wasserschutzpolizei': 3495, 'angestrengt': 3496, 'landgewinne': 3497, 'bigfrager': 3498, 'prozentzahl': 3499, 'uebergriffe': 3500, 'liebevoll': 3501, 'mum': 3502, 'angesprochen': 3503, 'verharmlosen': 3504, 'nat': 3505, 'ak': 3506, 'hipp': 3507, '70y': 3508, 'juhuu': 3509, 'iht': 3510, 'lonelyumut': 3511, 'ironicguerreiro': 3512, '25m': 3513, 'demirbay': 3514, 'leverkusen': 3515, '28m': 3516, 'fluege': 3517, 'manila': 3518, 'september': 3519, 'oktober': 3520, '387': 3521, 'golinehatai': 3522, 'allererste': 3523, 'kennzeichnung': 3524, 'bewegung': 3525, 'asymmetrische': 3526, 'satiriker': 3527, 'schuster': 3528, 'leisten': 3529, 'furc': 3530, 'konflikt': 3531, 'zwingen': 3532, 'unehrenhaft': 3533, 'rikeraven': 3534, 'volksverpetzer': 3535, 'angrinsen': 3536, 'bildungs': 3537, 'verdummt': 3538, 'maulkorb': 3539, 'bundesjugendspiele': 3540, 'daemlichste': 3541, 'schullaufbahn': 3542, 'lowcarbrudi': 3543, 'rocken': 3544, 'mehikaner': 3545, 'diehumanisten': 3546, 'attacd': 3547, 'ranzmann': 3548, 'zerbrxsler': 3549, 'gprealomon': 3550, 'ardde': 3551, 'fachkundige': 3552, 'psychiaters': 3553, 'gedacht': 3554, 'indische': 3555, 'cognata': 3556, 'ttowie': 3557, 'deanfan123urban': 3558, 'hashtags': 3559, 'muten': 3560, 'moormoewe': 3561, 'make': 3562, 'morgens': 3563, 'drei': 3564, 'club': 3565, 'perfekt': 3566, 'peppermind': 3567, 'kater': 3568, 'strecken': 3569, 'badrepuwhy': 3570, 'grundrente': 3571, 'faulenzer': 3572, 'weswegen': 3573, 'dietagespost': 3574, 'national': 3575, 'glueckskeks': 3576, 'fabrik': 3577, 'titeln': 3578, 'hwsq': 3579, 'gronkh': 3580, 'blondine': 3581, 'virgin': 3582, 'kippo2o': 3583, 'nintendo': 3584, 'bimbas': 3585, 'world': 3586, 'desaster': 3587, 'chefin': 3588, 'pflegesystem': 3589, 'gepumpt': 3590, 'berichte': 3591, 'missstaende': 3592, 'heimen': 3593, 'ebben': 3594, 'sozialistin': 3595, 'angeschlagen': 3596, 'aktuell': 3597, 'versammelt': 3598, 'du0105': 3599, 'bundestagsabgeordneter': 3600, 'mehreren': 3601, 'tageszeitungen': 3602, 'bekommt': 3603, 'leer': 3604, 'ausgegangen': 3605, 'ultras': 3606, 'digitec': 3607, 'ipads': 3608, 'rajan87': 3609, 'meins': 3610, 'eingereusch': 3611, 'bbyfrkmcgzx': 3612, 'grknzrstrr': 3613, 'zock': 3614, 'linux': 3615, 'empfindliche': 3616, 'schlimm': 3617, 'empfinden': 3618, 'herzblutbluete': 3619, 'herzen': 3620, 'seele': 3621, 'enricotokareu': 3622, 'nazispack': 3623, 'dera': 3624, '62': 3625, 'rohstoffbrief': 3626, 'fresnillo': 3627, 'silberproduzent': 3628, 'liefe': 3629, 'q1': 3630, 'zahlen': 3631, 'analysten': 3632, 'glau': 3633, 'scpaderborn07': 3634, 'titz': 3635, 'keentech': 3636, 'godcoder': 3637, 'inholubek3': 3638, 'over': 3639, 'immergeil82': 3640, 'lehrbuda': 3641, 'edreisvogt': 3642, 'moritur': 3643, 'ride': 3644, 'rauszuhauen': 3645, 'adhs': 3646, 'roman': 3647, 'hurenso': 3648, 'jeonpokpok': 3649, 'henlooooo': 3650, 'oomf': 3651, 'h3h3': 3652, 'derpsichologe': 3653, 'burhan': 3654, 'diggi': 3655, 'denkst': 3656, 'fasten': 3657, 'widerliche': 3658, 'verlogenheit': 3659, 'kippa': 3660, 'kameras': 3661, 'kevinneuwi': 3662, 'wen': 3663, 'abteil': 3664, 'bt': 3665, 'indampf': 3666, 'nanunan32440900': 3667, 'chinationalist9': 3668, 'diebe': 3669, 'haende': 3670, 'scheidung': 3671, 'fremdgehen': 3672, 'steinigung': 3673, 'hassrede': 3674, 'koepfen': 3675, 'homosex': 3676, 'davescustomxxx': 3677, 'heideenytes': 3678, 'bellainksclips': 3679, 'versohlt': 3680, 'flinten': 3681, 'uschi': 3682, 'rausschmeissen': 3683, 'vernuenftig': 3684, 'geregelt': 3685, 'traumatisch': 3686, 'empfundenen': 3687, 'erlebnis': 3688, 'berichtet': 3689, 'nachrichten': 3690, 'bezwecken': 3691, 'fahrschule': 3692, 'vernachlaessigt': 3693, 'theater': 3694, 'museumsdoerfer': 3695, 'fallenlassen': 3696, 'heisse': 3697, 'offel': 3698, 'sobal': 3699, 'sensusnoctis': 3700, 'lostboislim': 3701, 'fass': 3702, 'drippst': 3703, 'lovebeatshb': 3704, 'mimimimi': 3705, 'noafd': 3706, 'franz': 3707, 'salzmann': 3708, 'minister': 3709, 'benoetigt': 3710, 'schulabschluss': 3711, 'kermit': 3712, 'red': 3713, 'andy': 3714, 'heooo': 3715, 'torwa': 3716, 'offchem': 3717, 'linksfunk': 3718, 'rosamwolfgang': 3719, 'wesentlich': 3720, 'mitverursacht': 3721, 'oevp': 3722, 'alleinregie': 3723, 'lola': 3724, 'barista': 3725, 'okaaaay': 3726, 'trau': 3727, 'thcaltan': 3728, 'fauler': 3729, 'moni': 3730, 'hift': 3731, 'stief': 3732, 'enkel': 3733, 'wehnemann': 3734, 'verdoppelt': 3735, 'derzeitige': 3736, 'plata': 3737, 'plomo': 3738, 'banana': 3739, 'fishxx': 3740, 'helden': 3741, 'versteigern': 3742, 'getragenen': 3743, 'trikots': 3744, 'endphase': 3745, 'wahlkampfs': 3746, 'eroeffnet': 3747, 'ethopianm': 3748, 'kaufmannskrimis': 3749, 'kleinbuergerliche': 3750, 'imponiergehabe': 3751, 'triplepsn': 3752, 'honecker': 3753, 'mussolini': 3754, 'onkommd': 3755, 'people': 3756, 'abi2019': 3757, 'wisst': 3758, 'abi': 3759, 'weitergeht': 3760, 'oxensepp': 3761, 'katjakipping': 3762, 'katja': 3763, 'genauer': 3764, 'mwinteron': 3765, 'incl': 3766, 'teils': 3767, 'sog': 3768, 'opposition': 3769, 'geritten': 3770, 'ifo': 3771, 'mittelstandsbarometer': 3772, 'mittelstaendisches': 3773, 'geschaeftsklima': 3774, 'unterwerfung': 3775, 'dahlia': 3776, 'sky': 3777, 'fremden': 3778, 'grobe': 3779, 'rollenspiele': 3780, 'fantasy': 3781, 'domtendo': 3782, 'fixen': 3783, 'gebummst': 3784, 'gebunden': 3785, 'lukasderrapper': 3786, 'gewitter': 3787, 'benjamin': 3788, 'jessd': 3789, 'sssollte': 3790, 'tssservakis': 3791, 'sstzunge': 3792, 'sssehen': 3793, 'tststss': 3794, 'nutellaflxke': 3795, 'liebeskummer': 3796, 'drecksscheisse': 3797, 'gamergateblogde': 3798, 'krebsgeschwuer': 3799, 'mithilfe': 3800, 'ausbreitet': 3801, 'realshira': 3802, 'naschkatze86': 3803, 'paradoxe': 3804, 'gefrierbrand': 3805, 'holzeisenbahn': 3806, 'wahlpflichtfach': 3807, 'doppelhaushaelfe': 3808, 'selbsthilfegruppe': 3809, 'oekonazis': 3810, 'ionblackout': 3811, 'nomadex2': 3812, 'heftig': 3813, 'geschissen': 3814, 'allee': 3815, 'angelaulrichrbb': 3816, 'g5sahel': 3817, 'burkinafaso': 3818, 'mo': 3819, 'trombozytenspender': 3820, 'eintragen': 3821, 'dna': 3822, 'miiiaa': 3823, 'schoener': 3824, 'lu41598225': 3825, 'frontal21': 3826, 'eindeutiges': 3827, 'unterdrueckungsmerkmal': 3828, 'darstellt': 3829, 'timolamme': 3830, 'tribuene': 3831, 'ground': 3832, 'biermitdir': 3833, 'gamescom': 3834, 'jungfrauen': 3835, 'tuchel': 3836, 'schneiss': 3837, 'goet': 3838, 'nichtmehr': 3839, 'schimpf': 3840, 'bot': 3841, 'schnauze': 3842, 'amk': 3843, 'asiaticas': 3844, 'peludas': 3845, 'sauerwald': 3846, 'wahlergebnisse': 3847, 'minderheit': 3848, 'ministerin': 3849, 'hilflos': 3850, 'rekomen': 3851, 'username': 3852, 'cigsafterimsak': 3853, 'fatalitybaerlis': 3854, 'fladdermues': 3855, 'tibhubay': 3856, 'nanu': 3857, 'linker': 3858, 'antifant': 3859, 'vorstellig': 3860, 'panisch': 3861, 'ta': 3862, 'fakuum': 3863, 'geduldeten': 3864, 'muessten': 3865, 'urspruenglichen': 3866, 'grundwe': 3867, 'zurueckkehren': 3868, 'pisser': 3869, 'interagie': 3870, 'poste': 3871, 'gekonnt': 3872, 'ignorie': 3873, 'mandeln': 3874, 'giorap90': 3875, 'herrentag': 3876, 'zelebrie': 3877, 'omavotze': 3878, 'peruanas': 3879, 'klimaforscher': 3880, 'ottmar': 3881, 'edenhofer': 3882, 'pik': 3883, 'emissionen': 3884, 'konkurrent': 3885, 'kaeme': 3886, 'pavle': 3887, 'toastermatthi': 3888, 'wineslvt': 3889, 'zaubermaus57': 3890, 'warnt': 3891, 'gemaessigten': 3892, 'ofdarkhumor': 3893, 'ostirboeck': 3894, 'wie': 3895, 'einschraenken': 3896, 'realherrsammy': 3897, 'mk': 3898, 'hosting': 3899, '1x': 3900, 'rootserver': 3901, 'kerne': 3902, 'ram': 3903, 'hdd': 3904, 'festplatten': 3905, 'speicher': 3906, 'laufzeit': 3907, 'marleneschfer1': 3908, 'sorgen': 3909, 'ordnung': 3910, 'vegane': 3911, 'humor': 3912, 'satan': 3913, 'dominakristin': 3914, 'zofe': 3915, 'nylonkittel': 3916, 'schlaegen': 3917, 'bewirkt': 3918, 'erstaunliche': 3919, 'brav': 3920, 'l800mph': 3921, 'flagged': 3922, 'kushner': 3923, 'money': 3924, 'laundering': 3925, 'bstarkimarm': 3926, 'putzig': 3927, 'bundesfrauenrat': 3928, 'froschdomse': 3929, 'liegen': 3930, 'sprach': 3931, 'bundeswehrinfo': 3932, 'kristin': 3933, 'brinker': 3934, 'altar': 3935, 'kurzfristiger': 3936, 'waehlerstimmen': 3937, 'geopfe': 3938, 'starkeschulden': 3939, 'orenishikiddo': 3940, 'profraika': 3941, 'sage': 3942, 'irren': 3943, 'nege': 3944, 'ninal1999': 3945, 'beklatscht': 3946, 'alumni': 3947, 'association': 3948, 'bedankte': 3949, 'umjubelten': 3950, 'nu': 3951, 'hagen': 3952, 'rether': 3953, 'unterzahl': 3954, 'mbu1959': 3955, 'hassprediger': 3956, 'spitze': 3957, 'fussvolk': 3958, 'stimmvieh': 3959, 'verhetzen': 3960, 'maulwerker1': 3961, 'netreaper': 3962, 'miatamuc': 3963, 'gaaarrrrnix': 3964, 'iparaadox': 3965, 'innenminister': 3966, 'matteo': 3967, 'stoeraktion': 3968, 'wahlkampf': 3969, 'faxen': 3970, 'demonstra': 3971, 'tuncayoezdamar': 3972, 'regulierung': 3973, 'meinungsaeusserungen': 3974, 'irgendwoher': 3975, '333goltz': 3976, 'auffaellig': 3977, 'gruppen': 3978, 'raf': 3979, 'morde': 3980, 'brandstiftungen': 3981, 'haraldlaatsch': 3982, 'verspricht': 3983, 'freudiger': 3984, 'verursacht': 3985, 'dutzende': 3986, '100e': 3987, 'lpsebo': 3988, 'haahahaha': 3989, 'cueueueueues': 3990, 'dokkan': 3991, 'phy': 3992, 'sv': 3993, 'maternus': 3994, 'werfe': 3995, 'claque': 3996, 'fanatische': 3997, 'unverschaemte': 3998, 'mig': 3999, 'zuruecktritt': 4000, 'islamisches': 4001, 'auswande': 4002, 'freigang': 4003, 'eventyrj': 4004, 'einladung': 4005, 'alten': 4006, 'fdj': 4007, 'fuchtel': 4008, 'schaedlichsten': 4009, 'radtour': 4010, 'eisbecher': 4011, 'mitesser': 4012, 'ihelzer': 4013, 'mehlprinzessin': 4014, 'thema': 4015, 'sexualisie': 4016, 'tinder': 4017, 'useful': 4018, 'frag': 4019, 'plaene': 4020, 'taugen': 4021, 'zuerst': 4022, 'patriarchat': 4023, 'rollenbilder': 4024, 'ebenfalls': 4025, 'monitorex': 4026, 'maximariegoldt': 4027, 'kollektiv': 4028, 'herbeiredete': 4029, 'bewege': 4030, 'bigfoot': 4031, 'amkrpinfo': 4032, 'fav': 4033, 'retweete': 4034, 'laufgruppen': 4035, 'entgegen': 4036, 'christianhelms': 4037, 'aufgabe': 4038, 'erledigt': 4039, 'bub': 4040, 'reingeraten': 4041, 'bigdaddytom143': 4042, 'vor8vie': 4043, 'jaa': 4044, 'personen': 4045, 'kdrama': 4046, 'person': 4047, 'mg': 4048, 'pikachumagbier': 4049, 'annalist': 4050, 'diente': 4051, 'verdeutlichung': 4052, 'sorgearbeit': 4053, 'mitgezaehlt': 4054, 'christophaviv': 4055, 'beyenburgerin': 4056, 'irenekellner': 4057, 'saefken': 4058, 'charlottemacht': 4059, 'heutejournal': 4060, 'vanessavu': 4061, 'seifenkistenrennen': 4062, 'absagen': 4063, 'kin': 4064, 'wissen': 4065, 'welterbe': 4066, 'selous': 4067, 'reservat': 4068, '1500': 4069, 'quadratkilometer': 4070, 'abgeholzt': 4071, 'mehrere': 4072, 'nationalparks': 4073, 'rei': 4074, 'joleffers': 4075, 'badehose': 4076, '112': 4077, 'eroeffnete': 4078, 'strandbad': 4079, 'wannsee': 4080, 'einestages': 4081, 'archiv': 4082, 'andreasandy3131': 4083, 'schwaecher': 4084, 'dastehen': 4085, 'leh': 4086, 'aufregung': 4087, 'konseq': 4088, 'vorgehen': 4089, 'barbara': 4090, 'schoeneurgghhh': 4091, 'fml': 4092, 'verblasste': 4093, 'merle': 4094, 'edgy': 4095, 'sahne': 4096, 'wtrappmann': 4097, 'journalist': 4098, 'venezuelanischen': 4099, 'knst': 4100, 'sass': 4101, 'omarhedeya': 4102, 'bo30': 4103, 'opfermythos': 4104, 'alliie': 4105, 'tantepiep': 4106, 'bring': 4107, 'hamburg': 4108, 'verpisst': 4109, 'keine': 4110, 'lol': 4111, 'tabatabayi': 4112, 'capyossarian': 4113, 'verfassungschutz': 4114, 'inlandsgeheimdienst': 4115, 'waf': 4116, 'florian161': 4117, 'lifehack': 4118, 'reconquistainternet': 4119, 'gebtname': 4120, 'hinschmeisst': 4121, 'aufgibst': 4122, 'chrisvelten1': 4123, 'bereichernde': 4124, 'imponieren': 4125, 'leb': 4126, 'gelebt': 4127, 'nerdanziehung': 4128, 'df': 4129, 'parallel': 4130, 'letztwaehlern': 4131, 'letztgewaehlte': 4132, 'tommycassells': 4133, 'niger': 4134, 'instabilitaet': 4135, 'giesskannenprinzip': 4136, 'steuerg': 4137, 'locker': 4138, 'regel': 4139, 'abiklasse': 4140, 'pruegeln': 4141, 'huuuuuunte': 4142, 'pablaer': 4143, 'vollstrecker': 4144, 'juviatears': 4145, 'zahls': 4146, 'einf': 4147, 'dfakenews1': 4148, 'rauhnacht': 4149, 'stellst': 4150, 'ungesunde': 4151, 'miley': 4152, 'cyrus': 4153, 'prognosen': 4154, '78warschoen': 4155, 'fckoeln': 4156, 'horn': 4157, 'ausfaellt': 4158, 'missschmaguelze': 4159, 'who': 4160, 'annett': 4161, 'abballern': 4162, 'rhythm': 4163, 'rhymes': 4164, 'boot': 4165, 'splitternackt': 4166, 'streaming': 4167, 'gripskrams': 4168, 'leogfischer': 4169, 'meidoragon': 4170, 'verfliegt': 4171, 'echsenkrafthaus': 4172, 'opas': 4173, 'toechter': 4174, 'ehemaenner': 4175, 'chokemeat6am': 4176, 'gelogen': 4177, 'versenkung': 4178, 'verschwindet': 4179, 'volksfest': 4180, 'schlossgrabenhock': 4181, 'ehrenkirchen': 4182, 'kirchhofen': 4183, 'messerangriff': 4184, 'unzaehligen': 4185, 'diesbezueglich': 4186, 'franzosen': 4187, 'tschechen': 4188, 'entso': 4189, 'muestras': 4190, 'brste': 4191, 'zorras': 4192, 'maduras': 4193, 'kamuezue': 4194, 'naechste': 4195, 'erstw': 4196, 'liz': 4197, 'rathaus': 4198, 'srwle19': 4199, 'schnurri': 4200, 'rumhaenge': 4201, 'bundesdeutsche': 4202, 'geheimwaffe': 4203, 'allahkultus': 4204, 'niewiedercducsuspdgruenefdplinke': 4205, 'parkplaetze': 4206, 'uebelsten': 4207, 'herbeigefueh': 4208, 'staatsstreich': 4209, 'aussieguylive': 4210, 'josiejobee': 4211, 'sunnycanderson': 4212, 'femnationwatch': 4213, 'samanthaluvhe': 4214, 'wundereileen': 4215, 'mircow': 4216, 'nicihood': 4217, 'bleiberecht': 4218, 'hei': 4219, 'abschiebung': 4220, 'begreifen': 4221, 'glueckskekse1': 4222, 'alicanglobal': 4223, 'daenischer': 4224, 'abwehr': 4225, 'rasmus': 4226, 'marcfelixserrao': 4227, 'gluecklicherweise': 4228, 'libanon': 4229, 'jordanien': 4230, 'destabilisierung': 4231, 'fiomythoughts': 4232, 'glubscht': 4233, 'gei': 4234, 'afrika': 4235, 'weltweite': 4236, 'expansion': 4237, 'markushammer9': 4238, 'weis': 4239, 'bedeutet': 4240, 'zyklon': 4241, 'indien': 4242, 'huren': 4243, 'pube': 4244, 'ietende': 4245, 'julianabolika': 4246, 'zeh': 4247, 'gesplitte': 4248, 'sproede': 4249, 'blumi': 4250, 'patriots': 4251, 'menschaffe': 4252, 'sonnenklar': 4253, 'stur': 4254, 'wuerd': 4255, 'soleylifa': 4256, 'checker': 4257, 'mitmachkriterium': 4258, 'blablabla': 4259, 'aussenstehenden': 4260, 'betra': 4261, 'alterosa7': 4262, 'marcelsardo': 4263, 'propapanda666': 4264, 'endeffekt': 4265, 'uose': 4266, 'boom': 4267, 'dat': 4268, 'murksel': 4269, 'blassen': 4270, 'willi': 4271, 'thron': 4272, 'christianender': 4273, 'staatsangehoerigkeit': 4274, 'erworben': 4275, 'mus': 4276, 'mensworldzone': 4277, 'endet': 4278, 'block': 4279, 'psychbsc': 4280, 'fanvomscf': 4281, 'canstatt93': 4282, 'fcunion': 4283, 'absteigen': 4284, 'kohleausstieg': 4285, 'kohle': 4286, 'tweetet': 4287, 'wide': 4288, 'befreundet': 4289, 'fred': 4290, 'ahoi': 4291, 'gier': 4292, 'eichef': 4293, 'cornelia': 4294, 'cagol': 4295, 'welcome': 4296, 'euphorie': 4297, 'gaenzlich': 4298, 'belange': 4299, 'staatsbediensteten': 4300, 'gaby3101': 4301, 'behaupten': 4302, 'zugenommen': 4303, 'proviant': 4304, 'null': 4305, 'einziehen': 4306, 'traijan': 4307, 'misterlemonade': 4308, 'maudado': 4309, 'deutschlandvolt': 4310, 'immerh': 4311, 'struggeln': 4312, 'traue': 4313, 'jumpsuit': 4314, 'qwq': 4315, 'masken': 4316, 'gesaess': 4317, 'bauch': 4318, 'nsa': 4319, 'schlangen': 4320, 'sof': 4321, 'floooryy': 4322, 'xdeturns': 4323, 'myrahawo': 4324, 'kanack': 4325, 'mac': 4326, 'heiseonline': 4327, 'monate': 4328, 'kaufe': 4329, 'kolumbien': 4330, 'wahnsinnigen': 4331, 'landtag': 4332, 'gesetz': 4333, 'zugestimmt': 4334, 'ichbinschoener': 4335, 'pbreyer': 4336, 'szagunn': 4337, 'freigabe': 4338, 'justizsenator': 4339, 'bezirksbuergermeisterin': 4340, 'bagdadi': 4341, 'gehduschen69': 4342, 'boy': 4343, 'spitze19': 4344, 'namifay': 4345, 'nooirine': 4346, 'arschloche': 4347, 'offelfresser': 4348, 'thailand': 4349, 'cazuraa11': 4350, 'witz': 4351, 'no': 4352, 'hochprozentig': 4353, 'klamotten': 4354, 'laden': 4355, 'bedienen': 4356, 'blog': 4357, '2002': 4358, 'wende': 4359, 'vizekanzler': 4360, 'kimberlyhot4': 4361, 'double': 4362, 'penetration': 4363, 'gleichzeitig': 4364, 'bescheue': 4365, 'senat': 4366, 'zurueckkehrende': 4367, 'herbe': 4368, 'eingeladen': 4369, 'undankbares': 4370, 'inschulz': 4371, 'nah': 4372, 'nahestehen': 4373, 'vault': 4374, '999': 4375, 'namenskind': 4376, 'bettercallaxel': 4377, 'angegriffen': 4378, 'besserer': 4379, 'boi69': 4380, 'bearbeite': 4381, 'rekordergebnis': 4382, 'erzielen': 4383, 'wahlkampfplakaten': 4384, 'marieskyler13': 4385, 'kasperletheater': 4386, 'ztareid': 4387, 'multr4br41n': 4388, 'harit04': 4389, 'justin44243406': 4390, 'dermalteduerr': 4391, 'unterschiedmacher': 4392, 'teamquintus': 4393, 'verschwitzten': 4394, 'lendenschurz': 4395, 'dude': 4396, 'anzuzie': 4397, 'obijuankenobi6': 4398, 'reklamedame': 4399, 'hater': 4400, 'abstempeln': 4401, 'face': 4402, 'simyiscw': 4403, 'deepwaterblue': 4404, 'released': 4405, 'stabiles': 4406, 'downloaden': 4407, 'dieseroskar': 4408, 'unterdruecken': 4409, 'gezwungen': 4410, 'tja': 4411, 'unfaehig': 4412, 'indire': 4413, 'didinable': 4414, 'greeeengurl': 4415, 'ps': 4416, 'xbox': 4417, 'einlaeuten': 4418, 'freierfeie': 4419, 'itsaperoloclock': 4420, 'ourhood': 4421, 'lieblingsnachbar': 4422, 'geribarreti': 4423, 'rauchermuell': 4424, 'ordnungsgemaess': 4425, 'antiraucher': 4426, 'blackandwhitephotography': 4427, 'ungewohnt': 4428, 'old': 4429, 'grumpy': 4430, 'heidi': 4431, 'klum': 4432, 'peinlicher': 4433, 'gesamte': 4434, 'karpreturns': 4435, 'klingt': 4436, 'ulkig': 4437, 'legit': 4438, 'synchronsprecher': 4439, 'rucksaecke': 4440, 'pandas': 4441, 'lamas': 4442, 'abstehenden': 4443, 'beissender': 4444, 'hai': 4445, 'einzelfallinfos': 4446, 'verharmloser': 4447, 'religioesen': 4448, 'kopftuechern': 4449, 'ugugu': 4450, 'studie': 4451, 'unglaeubig': 4452, 'wahlresultate': 4453, 'ehemals': 4454, 'hochburgen': 4455, 'mittel': 4456, 'sueditalien': 4457, 'abgeraeumt': 4458, 'gliederschmerzen': 4459, 'vollhorst': 4460, 'erfunden': 4461, 'boxer': 4462, 'verde': 4463, 'chicodesnudo': 4464, 'bauer': 4465, 'vermummungsverbot': 4466, 'gilt': 4467, 'entlee': 4468, 'vogelbach': 4469, 'favorite': 4470, 'nachti': 4471, 'nani': 4472, 'ausch': 4473, 'segretaria': 4474, 'sklavin': 4475, 'disfosgen': 4476, 'umsetzung': 4477, 'marsch': 4478, 'totalitaeren': 4479, 'slake180': 4480, 'kafunow': 4481, 'zusammenbrechen': 4482, 'vorstellung': 4483, 'malaysia': 4484, 'muellhalde': 4485, 'tonnenweise': 4486, 'impo': 4487, 'ie': 4488, 'absender': 4489, 'abfa': 4490, 'danslesfiammes': 4491, 'erdnussbutter': 4492, 'kelbt': 4493, 'auristrahl': 4494, 'vestalentracht': 4495, 'einher': 4496, 'wirf': 4497, 'geflutet': 4498, 'ange': 4499, 'spielzeug': 4500, 'grobi': 4501, 'grobsen': 4502, 'chefs': 4503, 'lau': 4504, 'ergebnissen': 4505, 'absoluten': 4506, 'panikmodus': 4507, 'verbreiten': 4508, 'dummdreiste': 4509, 'po': 4510, 'kalorien': 4511, 'reinstopfen': 4512, 'ehliz': 4513, 'gersvk': 4514, 'eishockeywm': 4515, 'kifferbarbie': 4516, 'irgendein': 4517, 'maaaaamaaaaa': 4518, 'akebanbluepaw': 4519, 'verarsche': 4520, 'omapornos': 4521, 'krankenschwestern': 4522, 'redtobe': 4523, 'nutte': 4524, 'eiern': 4525, 'brudervom': 4526, 'fluechtling': 4527, 'wohnungen': 4528, 'campingplatz': 4529, 'ziemlichmuede': 4530, 'yess': 4531, 'fuehlt': 4532, 'powercell': 4533, 'sackt': 4534, 'positionieren': 4535, 'uhhhhhhh': 4536, 'vanishedleaf': 4537, 'kannst': 4538, 'teaser': 4539, 'richtet': 4540, 'flammenden': 4541, 'studenten': 4542, 'reisen': 4543, 'bekritteln': 4544, 'rudirocka': 4545, 'inazann': 4546, 'fehlen': 4547, 'oetzemir': 4548, 'oezekuz': 4549, 'barlay': 4550, 'chebli': 4551, 'fahimi': 4552, 'kuenast': 4553, 'schul': 4554, 'geisterradler': 4555, 'versorgungssicherheit': 4556, 'stromversorgung': 4557, 'buettel': 4558, 'systems': 4559, 'beamte': 4560, 'ueberbau': 4561, 'schuettel': 4562, 'normalisierungsarbeit': 4563, 'vereinfachen': 4564, 'spott': 4565, 'anwendet': 4566, 'tomgoerdy': 4567, 'bischte': 4568, 'grossmaeulig': 4569, 'angekuendigte': 4570, 'abstrafen': 4571, 'callmesmz': 4572, 'unterbelichtet': 4573, 'einfallen': 4574, 'einfachen': 4575, 'arb': 4576, 'mikotomunakata': 4577, 'chefkochroci': 4578, 'moviepilot': 4579, 'handsome': 4580, 'jack': 4581, 'collection': 4582, 'sale': 4583, 'steam': 4584, 'haet': 4585, 'blocken': 4586, 'vate': 4587, 'mali': 4588, 'hochburg': 4589, 'menschenschmuggler': 4590, 'ueberwacht': 4591, 'persoenlich': 4592, 'bevoelkerungsaustausch': 4593, 'susannchen01': 4594, 'komplementaerfarbe': 4595, 'erkrankung': 4596, 'placebo': 4597, 'schlucken': 4598, 'zeitmanagement': 4599, 'zerficke': 4600, 'huendin': 4601, 'koeter': 4602, 'momentsammlerin': 4603, 'ableismus': 4604, 'bundesamtfvs': 4605, 'veroeffentlicht': 4606, 'zahl': 4607, 'jetsetcata': 4608, 'chefket': 4609, 'saudi': 4610, 'arabien': 4611, 'schilder': 4612, 'pools': 4613, 'durchgestrichen': 4614, 'surprisedtodoku': 4615, 'veemo2k19': 4616, 'nite': 4617, 'optimized': 4618, 'tbh': 4619, 'pupnsfd': 4620, 'hmph': 4621, 'fine': 4622, 'netzentdecker': 4623, 'russiatoday': 4624, 'googleale': 4625, 'golem': 4626, 'flugtaxi': 4627, 'fuenfsitziger': 4628, 'lilium': 4629, 'jet': 4630, 'hebt': 4631, 'erstmals': 4632, 'elektroflieger': 4633, 'avalanchegerman': 4634, 'zecken': 4635, 'mennschenverachtend': 4636, 'beschweren': 4637, 'cdus': 4638, 'klimapolitik': 4639, 'iggerichte': 4640, 'zutaten': 4641, 'anfnger': 4642, 'home': 4643, 'mpg': 4644, 'ansonsten': 4645, 'tweety': 4646, 'dong': 4647, 'frohmann': 4648, 'hafentaenzerin': 4649, 'eimer': 4650, 'zeitung': 4651, 'janamll15178714': 4652, 'stalingrad': 4653, 'nowplaying': 4654, 'robin': 4655, 'speechless': 4656, 'erika': 4657, 'sirola': 4658, 'clean': 4659, 'ios': 4660, 'android': 4661, 'gustafgabel': 4662, 'nvidiageforcede': 4663, 'geiles': 4664, 'feiern': 4665, 'letztens': 4666, 'traditionell': 4667, 'verdacht': 4668, 'ruestungsindustrie': 4669, 'weils': 4670, 'lieblingsfarbe': 4671, 'gtzfrmming': 4672, 'witzig': 4673, 'untersagen': 4674, 'seinerzeit': 4675, 'pgdeutschland': 4676, 'drecksbayern': 4677, 'iven': 4678, 'axen': 4679, 'blitzschutz': 4680, 'gmbh': 4681, 'mitternacht': 4682, 'beschaeftigen': 4683, 'trans': 4684, 'here': 4685, 'are': 4686, 'asapfuro': 4687, 'fler': 4688, 'flowt': 4689, 'gaensehaut': 4690, 'christinabroth': 4691, 'graeben': 4692, 'organisiere': 4693, 'uebrigens': 4694, 'gesichtspunkten': 4695, 'purelove3103': 4696, 'sirkcaligo': 4697, 'holyprincessch1': 4698, 'bloecke': 4699, 'psychopathen': 4700, 'yagorljoozma': 4701, 'zeppelin': 4702, 'gegenstand': 4703, 'teilt': 4704, 'kauf': 4705, 'zeig': 4706, 'iiioritz': 4707, 'kamar2019': 4708, 'votestrache': 4709, 'seits': 4710, 'cafepress': 4711, 'commerce': 4712, 'verkaeufe': 4713, 'provisionen': 4714, 'pr': 4715, 'ziehe': 4716, 'cr7': 4717, 'dorabromberger': 4718, 'durch': 4719, 'kaschieren': 4720, 'massiv': 4721, 'aufwiegeln': 4722, 'furkan': 4723, 'ak3010': 4724, 'kinderfickerreligion': 4725, 'nnamrreherdna': 4726, 'saechsischer': 4727, 'verharmlost': 4728, 'saechsische': 4729, 'journ': 4730, 'vonbuehlau': 4731, 'zecke': 4732, 'nieder': 4733, 'sicherheitsluecken': 4734, 'onlinebank': 4735, 'finanzaufsicht': 4736, 'bafin': 4737, 'ryulayy': 4738, 'gelaufen': 4739, 'liebling': 4740, 'pornofilme': 4741, 'superior': 4742, 'moglie': 4743, 'erontmaloku': 4744, 'loredana': 4745, 'sterbe': 4746, 'verleiht': 4747, 'weiblichkeit': 4748, 'dennsiewissennichtwaspassie': 4749, 'faschistisch': 4750, 'eppelheim': 4751, 'frisoer': 4752, 'bitangei': 4753, 'kerokerodevito': 4754, 'hochmut': 4755, 'beschaemend': 4756, 'insb': 4757, 'ihrer': 4758, 'pabgee': 4759, '113': 4760, 'pofetisch': 4761, 'rubewaehrung': 4762, 'statistik': 4763, 'huepfen': 4764, 'nazinetzwerk': 4765, 'enttarnt': 4766, 'loswerden': 4767, 'clas': 4768, 'hannes': 4769, '98': 4770, 'warums': 4771, 'co2steu': 4772, 'claudiazettel': 4773, 'hofer': 4774, 'getauscht': 4775, 'weitermachen': 4776, 'zwunchen': 4777, 'sissil': 4778, '75': 4779, 'keineaggrosmehr': 4780, 'abwaegung': 4781, 'zb': 4782, 'impfpflicht': 4783, 'rivotrilmitstil': 4784, 'liga': 4785, 'del': 4786, 'aeh': 4787, 'elon': 4788, 'musks': 4789, 'vergesst': 4790, 'gesellschaften': 4791, 'mehrheit': 4792, 'seht': 4793, 'welc': 4794, 'bekaeme': 4795, 'pleonasmus': 4796, 'dopetobetattoo': 4797, 'offenen': 4798, 'sozialstaat': 4799, 'migraten': 4800, 'finanzieren': 4801, 'renten': 4802, 'sexvideo': 4803, 'bel': 4804, 'kompetenzwolf': 4805, 'brxkentears': 4806, 'scribatz': 4807, 'kevinbtw': 4808, 'simbabwe': 4809, 'porsches': 4810, 'unterhalte': 4811, 'freundinnen': 4812, 'oeffentlichkeit': 4813, 'kerle': 4814, 'hoerwe': 4815, 'reiben': 4816, 'asylunterkuenften': 4817, 'dummm': 4818, 'ausbuergern': 4819, 'bauen': 4820, 'funko': 4821, 'gundam': 4822, 'gf': 4823, 'kahrs': 4824, 'mazze791': 4825, 'neo': 4826, 'justskda': 4827, 'literally': 4828, 'getraenk': 4829, 'cola': 4830, 'bruderych': 4831, 'eliteuni': 4832, 'duepie': 4833, 'trum': 4834, 'koelnerpeter': 4835, 'ueberrollt': 4836, 'talkrunden': 4837, 'darueb': 4838, 'einheit': 4839, 'wahres': 4840, 'fuerchte': 4841, 'bereichen': 4842, 'schm': 4843, 'exotriox52415': 4844, 'raidr': 4845, 'fn': 4846, 'kek': 4847, 'skaltenbrunner': 4848, 'einziga': 4849, 'oest': 4850, 'angelobung': 4851, 'veranstalten': 4852, 'gelocke': 4853, 'poperze': 4854, 'juwelchen': 4855, 'schatzkaestleins': 4856, 'gehuldigt': 4857, 'platonstochter': 4858, 'wue': 4859, 'temberg': 4860, 'landeschef': 4861, 'trendet': 4862, 'jacobyjost': 4863, 'sinkenden': 4864, 'dampfer': 4865, 'werdenden': 4866, 'gewechs': 4867, 'manager': 4868, 'gruender': 4869, 'keilt': 4870, 'lustig': 4871, 'ignoranz': 4872, 'ggue': 4873, 'seitens': 4874, 'wo': 4875, 'telefonie': 4876, 'neuem': 4877, 'ukrainischen': 4878, 'igitt': 4879, 'ekliges': 4880, 'monats': 4881, 'scheine': 4882, 'umlauf': 4883, 'lachknaller': 4884, 'politikerin': 4885, 'goebbels': 4886, 'ziat': 4887, 'tabui': 4888, 'hhavink62': 4889, 'memetohneh': 4890, 'heulst': 4891, 'ramadans': 4892, 'belei': 4893, 'aender': 4894, 'destination': 4895, 'citizen': 4896, 'kane': 4897, 'bereich': 4898, 'toten': 4899, 'verschleisst': 4900, 'alexlntc': 4901, 'toilette': 4902, 'howie': 4903, 'official': 4904, 'ersma': 4905, 'heavenlyuri': 4906, 'schneeridara': 4907, 'soass': 4908, 'verdorben': 4909, 'spaesse': 4910, 'amri': 4911, 'fatalen': 4912, 'myers': 4913, 'mcote': 4914, 'paulieesther1': 4915, 'deadbybhvr': 4916, 'lmclean': 4917, 'patricia': 4918, 'queen': 4919, 'lukifuttrader': 4920, 'fynnfut': 4921, 'taktische': 4922, 'meisterleistung': 4923, 'disasterclass': 4924, 'barca': 4925, 'ba': 4926, 'bodenfahrzeug': 4927, 'beschaedigt': 4928, 'regierungsmaschine': 4929, 'toni62574625': 4930, 'erfolgslose': 4931, 'kloeckner': 4932, 'turgayardahanli': 4933, 'albundy': 4934, 'babys': 4935, 'hinrichten': 4936, 'vergewaltigen': 4937, 'famous': 4938, 'blubb': 4939, 'unpassend': 4940, 'we3lash': 4941, 'heulend': 4942, 'rausgerannt': 4943, 'byebye': 4944, 'filmte': 4945, 'aufdeckte': 4946, 'moscheen': 4947, 'gehetzt': 4948, 'kysoltix': 4949, '200iq': 4950, 'darkskin': 4951, 'men': 4952, 'verpiss': 4953, 'jazellah': 4954, 'koerper': 4955, 'incel': 4956, 'apatzwahl': 4957, 'wahrheiten': 4958, 'fpoeblockwa': 4959, 'leokohlbauer': 4960, 'leo': 4961, 'sweetdiamond': 4962, 'gigi': 4963, 'deppe': 4964, 'ausgestiegen': 4965, 'verpasst': 4966, 'eygulli': 4967, 'hydraor': 4968, 'leonard07226586': 4969, 'haesslicher': 4970, 'hahahahah': 4971, 'hanseat1966': 4972, 'verbracht': 4973, 'vernachlaessig': 4974, 'singleboerse': 4975, 'pat': 4976, 'hoechst': 4977, 'croix': 4978, 'nord': 4979, 'glueckes': 4980, 'schmied': 4981, 'hammer': 4982, 'gywermelanie': 4983, 'parkbank': 4984, 'verliebt': 4985, 'tiny60s': 4986, 'hanyuuvent': 4987, 'orange': 4988, 'schnieke': 4989, 'orf': 4990, 'schuettelt': 4991, 'berueh': 4992, 'densotm': 4993, 'maybach': 4994, 'ron': 4995, 'dduric': 4996, 'nuecht': 4997, 'divinity': 4998, 'ego': 4999, 'draconis': 5000, 'duemmsten': 5001, 'amatre': 5002, 'suche': 5003, 'erotikmassage': 5004, 'emo': 5005, 'nenas': 5006, 'pissende': 5007, 'einkauf': 5008, 'russiagoto': 5009, 'beeinflussen': 5010, 'edward': 5011, 'ussi': 5012, 'ausgrenzung': 5013, 'verir': 5014, 'zugehoerigkeit': 5015, 'vers': 5016, 'sonst': 5017, 'geschlechtergetrennte': 5018, 'lenasnape2': 5019, 'abfuckt': 5020, 'noice': 5021, 'gaumen': 5022, 'douglas': 5023, 'stinkt': 5024, 'huhuhuee': 5025, 'unveil': 5026, 'mara': 5027, 'donner10': 5028, 'angeliciuv': 5029, 'luegt': 5030, '85': 5031, 'rueberkommt': 5032, 'derfuetsch': 5033, 'lotion': 5034, 'creme': 5035, 'sollst': 5036, 'hufeisen': 5037, 'rekordspende': 5038, 'erklaerungsnot': 5039, 'suedwestmetall': 5040, 'klimasekte': 5041, 'erwachsene': 5042, 'kleinkinder': 5043, 'auffuehren': 5044, 'grasimar': 5045, 'schafdas': 5046, 'msp': 5047, 'pictures': 5048, 'wengier': 5049, 'unglueck': 5050, 'jarvis1187': 5051, 'angeboren': 5052, 'religi': 5053, 'heinzsc51846951': 5054, 'croqisunshine': 5055, 'vasall': 5056, 'haldenwang': 5057, 'verstaerkten': 5058, 'rechtsextremi': 5059, 'antisemitismus': 5060, 'jude': 5061, 'kimmich': 5062, 'wrld': 5063, 'wolltest': 5064, 'merke': 5065, 'milchmitzucker': 5066, 'c3llofrau': 5067, 'heilt': 5068, 'schiebt': 5069, 'cam': 5070, 'elektrogeraete': 5071, 'talksh': 5072, 'analyse': 5073, 'infineon': 5074, 'technologies': 5075, 'kursrutsch': 5076, 'aufwae': 5077, 'strend': 5078, 'monte': 5079, 'beleidige': 5080, 'zulassen': 5081, 'rechtspopulismus': 5082, 'staerker': 5083, 'lehrerin': 5084, 'xnxxx': 5085, 'tuesmavieg': 5086, 'body': 5087, 'end': 5088, 'zyendra1': 5089, 'khinnek': 5090, 'edelnickel': 5091, 'kinderlose': 5092, 'haett': 5093, 'absage': 5094, 'eismelone': 5095, 'jaehriges': 5096, 'veeenox': 5097, 'scumpofoptic88': 5098, 'unfruchtbares': 5099, 'streitgespraech': 5100, 'sektenstil': 5101, 'enmachuk': 5102, 'gittern': 5103, 'dauern': 5104, 'garooozis': 5105, 'goataiga': 5106, 'bbbbuddha': 5107, 'rrxsky': 5108, 'reselation': 5109, 'aufreizen': 5110, '0siegfried': 5111, 'hofieren': 5112, 'maulkoerbe': 5113, 'verordnen': 5114, 'lyrics': 5115, 'ick': 5116, 'versteh': 5117, 'geraeuschen': 5118, 'schaedlingen': 5119, 'hendricus56': 5120, 'bear': 5121, 'greeter': 5122, 'drguidoknapp': 5123, 'mindestlohn': 5124, 'buecken': 5125, 'helalbeauty': 5126, 'hochamt': 5127, 'erbauung': 5128, 'hirnlosen': 5129, 'potential': 5130, 'anziehen': 5131, 'afdimbundestag': 5132, 'turkogermane': 5133, 'detlefstoldt': 5134, 'genderklo': 5135, 'lesbischen': 5136, 'angelamerkel': 5137, 'harvarduniversity': 5138, 'finedilettante': 5139, 'tinido': 5140, 'juedischeonline': 5141, 'schatti030': 5142, 'kreditinstitut': 5143, 'deutschebank': 5144, 'globale': 5145, 'finanzkrise': 5146, 'sinofspeed': 5147, 'neulich': 5148, 'konrad': 5149, 'andenauer': 5150, 'fipsi': 5151, 'paule': 5152, 'champagnenihal': 5153, 'drogensachen': 5154, 'keske': 5155, 'yanimda': 5156, 'olsa': 5157, 'ederdim': 5158, 'journaliszt': 5159, 'verstehen': 5160, 'kreuzacht': 5161, 'bandidos': 5162, 'verschworenes': 5163, 'rechtsextremes': 5164, 'angetrunken': 5165, 'baut': 5166, 'umarmung': 5167, 'umarmt': 5168, 'erreiche': 5169, 'hausverwaltung': 5170, 'polit': 5171, 'junkie': 5172, 'saechsischen': 5173, 'justcumm': 5174, 'princess': 5175, 'tsnina': 5176, 'minipimmell': 5177, 'zeitfresser': 5178, 'nichtzahler': 5179, 'negativ': 5180, 'timewaster': 5181, 'matthiashauer': 5182, 'trete': 5183, 'carlderotter': 5184, 'aufgaben': 5185, 'englischunterricht': 5186, 'unueberlegt': 5187, 'vorallem': 5188, 'alexande': 5189, 'ill5': 5190, 'dragonball': 5191, 'dragonballz': 5192, 'philhackemann': 5193, 'schicksalswahl': 5194, 'dribbling': 5195, 'flankt': 5196, 'mueller': 5197, 'hintere': 5198, 'mittelfeld': 5199, 'ding': 5200, 'zielsicher': 5201, 'bumsen': 5202, 'lecke': 5203, 'geschwaetz': 5204, 'derzeroy': 5205, 'stadtbekannt': 5206, 'laeriaa': 5207, 'rr': 5208, 'umstaende': 5209, 'winkel': 5210, 'awuuu': 5211, 'silberner': 5212, 'everyone': 5213, 'ruft': 5214, 'realbrandiblack': 5215, 'huebscher': 5216, 'kompetenzsimba': 5217, 'unwissende': 5218, 'faule': 5219, 'pute': 5220, 'chrisepunkt': 5221, 'not1proud': 5222, 'peperarno': 5223, 'derdems': 5224, 'auszeiten': 5225, 'raeglicher': 5226, 'mobi': 5227, 'feslegen': 5228, 'frht2208': 5229, 'hoechsten': 5230, 'christlichen': 5231, 'karfreitsg': 5232, 'turbomyu': 5233, 'schweinekopf': 5234, 'parkplatz': 5235, 'reiche': 5236, 'massage': 5237, 'braeden': 5238, 'lemasters': 5239, 'braedenlemaster': 5240, 'nato': 5241, 'uno': 5242, 'winnetou': 5243, 'pjakobs': 5244, 'gen': 5245, 'isolieren': 5246, 'newscompact': 5247, 'thrvaim': 5248, 'obacht': 5249, 'fallen': 5250, 'antoniosv97': 5251, 'luisamneubauer': 5252, 'schulze': 5253, 'maximaler': 5254, 'ansagen': 5255, 'unerfuellte': 5256, 'zus': 5257, 'ugmads': 5258, 'lueftet': 5259, 'pikantes': 5260, 'geheimnis': 5261, 'katastrophe': 5262, 'polizistin': 5263, 'orgie': 5264, 'arschfick': 5265, 'tumblr': 5266, 'hausfrau': 5267, 'rapidshare': 5268, 'fachgerecht': 5269, 'verdreherei': 5270, 'dsm': 5271, 'nordkirche': 5272, 'container': 5273, 'kanada': 5274, 'jennywild996': 5275, 'setzen': 5276, 'nude': 5277, 'wild': 5278, 'findom': 5279, 'boobs': 5280, 'foerstercarlo': 5281, 'weglaufen': 5282, 'maori': 5283, 'geldbetrag': 5284, 'abgehoben': 5285, 'erzhngswndrlnd': 5286, 'antonkrell': 5287, 'zddk': 5288, 'abschiedsbesuch': 5289, 'obama': 5290, 'fro': 5291, 'endbossfight': 5292, 'heronooneneeds': 5293, 'mexify': 5294, 'mcky': 5295, 'mikamurstein': 5296, 'saulus': 5297, 'paulus': 5298, 'so1': 5299, 'aware': 5300, 'undso': 5301, 'stimmung': 5302, 'komischerweise': 5303, 'trzd': 5304, 'emmaohnenamen': 5305, 'wenden': 5306, 'waffenhandel': 5307, 'lobbyistin': 5308, 'steuerza': 5309, 'endgame': 5310, 'spoile': 5311, 'dontspoiltheendgame': 5312, 'werner': 5313, 'baumann': 5314, 'schaft': 5315, 'grotesk': 5316, 'abstuerzender': 5317, 'irene97652350': 5318, 'dir': 5319, 'predigen': 5320, 'champagner': 5321, 'saufen': 5322, 'bangros': 5323, 'prag': 5324, 'publik': 5325, 'phenome71810818': 5326, 'quietschenden': 5327, 'iq': 5328, 'stimulator': 5329, 'perfekte': 5330, 'kandidat': 5331, 'bundestagsvizepraesident': 5332, 'cr': 5333, 'wirkst': 5334, 'serioeser': 5335, 'fairdest': 5336, 'cloafleev1606': 5337, 'blizzardcseu': 5338, 'warcraft': 5339, 'anfangen': 5340, 'fehl': 5341, 'taylorlissi': 5342, 'durchschnittliche': 5343, 'umgaenglicher': 5344, 'beute': 5345, 'jungerecato': 5346, 'tol': 5347, 'eranten': 5348, 'hyperintellektuellen': 5349, 'fangt': 5350, 'musikinstrumente': 5351, 'zerschlagen': 5352, 'gaes': 5353, 'andreas69291642': 5354, 'hofstoetter': 5355, 'eddiedonovan': 5356, 'yazidis': 5357, 'konve': 5358, 'ieren': 5359, 'lebendig': 5360, 'kaefigen': 5361, 'verbrannt': 5362, '3000': 5363, 'vielweib': 5364, 'guckst': 5365, 'jawl': 5366, 'miriam': 5367, 'vollmer': 5368, '8xteilzeit': 5369, 'daudi': 5370, 'littlebinf': 5371, 'meist': 5372, 'grundschulalter': 5373, 'andrea': 5374, 'angeblich': 5375, 'fraktionsvorsitz': 5376, 'streitig': 5377, 'briten': 5378, 'schritt': 5379, 'einheimischen': 5380, 'todes': 5381, 'kuehnikev': 5382, 'euwahlen': 5383, 'tektonische': 5384, 'verschiebungen': 5385, 'ausgeloest': 5386, 'sieger': 5387, 'jungwaehl': 5388, 'unentschlossen': 5389, 'dauerapplaus': 5390, 'klimahuepfen': 5391, 'eingebuesst': 5392, 'netteliebe': 5393, 'revo13834527': 5394, 'andauernd': 5395, 'wahlzettel': 5396, 'bauergeorg6': 5397, 'weisshelme': 5398, 'zetteln': 5399, 'akira': 5400, '86': 5401, '74wonnie': 5402, 'wehe': 5403, 'belastbarkeit': 5404, 'son': 5405, 'gitarre159': 5406, 'luna1234luna1': 5407, 'haetten': 5408, 'weder': 5409, 'erwaehnen': 5410, 'bruellbruell': 5411, 'ihnen': 5412, 'mikromobilitaet': 5413, 'scooter': 5414, 'tel': 5415, 'avi': 5416, 'staedte': 5417, 'zukommt': 5418, 'atzenantifa': 5419, 'brillen': 5420, 'kellerfreak': 5421, 'mrsmarrypoppins': 5422, 'herrpantau': 5423, 'winzerin': 5424, 'flott': 5425, 'joanacotar': 5426, 'osteuropaeer': 5427, 'schulfreunde': 5428, 'fakefreunde': 5429, 'hoechste': 5430, 'rechtspopulisten': 5431, 'newromantiics': 5432, 'willsch': 5433, 'macha': 5434, 'hebbet': 5435, 'glaub': 5436, 'thegreathubini': 5437, 'iliiliiiili': 5438, 'haettet': 5439, 'dergleichen': 5440, 'padophilie': 5441, 'ivanrodionov': 5442, 'fleissiger': 5443, 'unbegabter': 5444, 'platzhalter': 5445, 'provisorisc': 5446, 'marcorouvoet': 5447, 'dha': 5448, 'softgels': 5449, 'jarrow': 5450, 'formulas': 5451, 'sachse02': 5452, 'misterlavender': 5453, 'gewissen': 5454, 'standards': 5455, 'rechtschreibung': 5456, 'grammatik': 5457, 'gorezilla360': 5458, 'graubaer1953': 5459, 'rechtsextremisten': 5460, 'gewaltorientie': 5461, 'innenministerium': 5462, 'alarm': 5463, 'ero692015': 5464, 'sailor': 5465, 'kamikatzerl': 5466, 'tentakelkaiser': 5467, 'hineinpruegeln': 5468, 'herausstreicheln': 5469, 'revo': 5470, 'hea': 5471, 'putscht': 5472, 'kuscht': 5473, 'autoplay': 5474, 'better': 5475, 'lovestory': 5476, 'then': 5477, 'twilight': 5478, 'hah': 5479, 'tschuues': 5480, 'meepmeep': 5481, 'knatterknabe': 5482, 'lillauch': 5483, 'kurzgefasst': 5484, 'heult': 5485, 'pfeil': 5486, 'kriege': 5487, 'meyer': 5488, 'laufstrecke': 5489, 'wagner': 5490, 'saubloed': 5491, 'mariafan812': 5492, 'wohlstandsverwahrlost': 5493, 'proletariat': 5494, 'sxmclk': 5495, 'markanter': 5496, 'hehe': 5497, 'mitbekommen': 5498, 'stromberg': 5499, 'billiger': 5500, 'abklatsch': 5501, 'office': 5502, 'pukhovka': 5503, 'alisffm': 5504, 'reinboth': 5505, 'neiodyn': 5506, 'zitatrecht': 5507, 'blackismyfavc': 5508, 'klapper': 5509, 'schrottplaetze': 5510, 'guenstiger': 5511, 'buchladen': 5512, 'raeucherstaebchen': 5513, 'animeep': 5514, 'shinobi': 5515, 'trainingsjacke': 5516, 'hintern': 5517, 'poppen': 5518, 'schlanke': 5519, 'walnusskipferl': 5520, 'sliden': 5521, 'cousine': 5522, 'dms': 5523, 'realdonaldtrump': 5524, 'amerikanischen': 5525, 'kriegstreiber': 5526, 'uebersaet': 5527, 'beiss': 5528, 'hal': 5529, 'wawnord': 5530, 'che': 5531, 'notte': 5532, 'called': 5533, 'kritische': 5534, 'kdf': 5535, 'st4zbl0od': 5536, 'solmecke': 5537, 'oupsi': 5538, 'ferraeterin': 5539, 'feige': 5540, 'ichnicht': 5541, 'wesen': 5542, 'genesen': 5543, 'weltrettungswahn': 5544, 'diesmal': 5545, 'lijusolid': 5546, 'meinten': 5547, 'aufschwingen': 5548, 'heuteplus': 5549, 'luegenmedienverdrossen': 5550, 'bestehen': 5551, 'fickst': 5552, 'eunionb': 5553, 'befremdlich': 5554, 'nationalen': 5555, 'sundayforfuture': 5556, 'dauerjubelmodus': 5557, 'europawah': 5558, 'mariaq549': 5559, 'gabrielzamora': 5560, 'stop': 5561, 'magnus01182053': 5562, 'ausgerechnet': 5563, 'jedem': 5564, 'volksverraeter': 5565, 'koeterklasse': 5566, 'helmut': 5567, 'schmitt': 5568, 'kinderzaenker1': 5569, 'energie': 5570, 'aemtern': 5571, 'immerhin': 5572, 'khmer': 5573, 'klimaleugner': 5574, 'klimafaschisten': 5575, 'okay': 5576, 'kurzes': 5577, 'gomd': 5578, 'tresoren': 5579, '3x': 5580, 'wm35': 5581, 'rey': 5582, 'gable': 5583, 'sheamus': 5584, 'tbg': 5585, 'ciampa': 5586, 'eyo': 5587, 'sebastianhe': 5588, 'geraltwitcher67': 5589, '303': 5590, 'schraege': 5591, 'geschichtsansicht': 5592, 'dwerkopp': 5593, 'autonome': 5594, 'linksbuendig': 5595, 'seenotrettung': 5596, 'erstermai': 5597, 'strassenbahn': 5598, 'janni2872': 5599, 'sinnbildlichen': 5600, 'nachher': 5601, 'beherzten': 5602, 'selbigen': 5603, 'pantherrhei': 5604, 'dolores': 5605, 'umbridge': 5606, 'ciabatta': 5607, 'juriamtresen': 5608, 'toxicsugga': 5609, 'jeansarsch': 5610, 'drueckt': 5611, 'brei': 5612, 'kontaktiere': 5613, 'abmelken': 5614, 'murmelmum': 5615, 'panemetc62': 5616, 'zdfneo': 5617, 'dokus': 5618, 'aufgestellt': 5619, 'grano': 5620, 'duro': 5621, 'pro7': 5622, 'privatsender': 5623, 'xzoddelx': 5624, 'timoreset': 5625, 'benktallmadge': 5626, 'hbrandstaetter': 5627, 'kurierat': 5628, 'babypause': 5629, 'bmeinl': 5630, 'emrich': 5631, '5933': 5632, 'rundfunkbeitrag': 5633, 'eispende': 5634, 'steuerlich': 5635, 'absetzen': 5636, '1207': 5637, 'lehmanowsky': 5638, 'wahlplakaten': 5639, 'vollendet': 5640, 'reif': 5641, 'ustralien': 5642, 'yungdsgnr': 5643, 'argumente': 5644, 'entgegenbringen': 5645, 'weisser': 5646, 'deen321xyz': 5647, 'freak': 5648, 'hope12086051': 5649, 'freches': 5650, 'weib2': 5651, 'geblockt': 5652, 'bad': 5653, 'volksmenge': 5654, 'wagt': 5655, 'oeffentliche': 5656, 'auftrit': 5657, 'gegenkampf': 5658, 'flengulu67': 5659, 'hakenkreuz': 5660, 'schmierereien': 5661, 'svenjaschulze68': 5662, 'garugaathereal': 5663, 'kittyvanwhiskas': 5664, 'victim': 5665, 'harzblume': 5666, 'werd': 5667, 'karma': 5668, 'evt': 5669, 'wiederrum': 5670, 'alwayssomewher4': 5671, 'afgveteran03': 5672, 'wahnsinn': 5673, 'rasenspiesser': 5674, 'liberale': 5675, 'ueberrascht': 5676, 'ordentlich': 5677, 'hatinjuce': 5678, 'prote': 5679, 'luetzowq': 5680, 'louiecrit': 5681, 'umut': 5682, 'landhaustussy': 5683, 'akademikern': 5684, 'facharbeitern': 5685, 'fachkrae': 5686, 'fabian': 5687, 'gabalier': 5688, 'gespiel': 5689, 'fratello': 5690, '2013': 5691, 'entreisst': 5692, 'generalsekretaer': 5693, 'groehe': 5694, 'fahne': 5695, 'hoshisato': 5696, 'halswirbel': 5697, 'auuuaaa': 5698, 'unreine': 5699, 'nervenwasser': 5700, 'dasdrittebein': 5701, 'heyhoheyyy': 5702, 'diktie': 5703, 'naemlic': 5704, 'verena': 5705, 'bahlsen': 5706, 'docboone71': 5707, 'umsetzbar': 5708, 'franksteinbach7': 5709, 'pest': 5710, 'lmaoskar': 5711, 'scralex1899': 5712, 'aids': 5713, 'gehasst': 5714, 'hintergehen': 5715, 'schliche': 5716, 'echtjetzt5': 5717, 'eiffelturm': 5718, 'shlomosapiens': 5719, 'echte': 5720, 'abarbeiten': 5721, 'tipp': 5722, 'beacon4711': 5723, 'zuzusehen': 5724, 'zaehne': 5725, 'unspo': 5726, 'liche': 5727, 'plug': 5728, 'anschliessend': 5729, 'noc': 5730, 'roger896': 5731, 'scheisze': 5732, 'tapeten': 5733, 'besali': 5734, 'naddl0r': 5735, 'endhaltestelle': 5736, 'versuchsweise': 5737, 'wahre': 5738, 'mdemanto': 5739, 'yuna': 5740, 'swimswamnews': 5741, 'jahrgangsmeisterschaften': 5742, 'tobehn': 5743, 'bestzeit': 5744, 'vbqn1': 5745, '1325leon': 5746, 'elvtejan': 5747, 'rqndomabc': 5748, 'skalter': 5749, 'skal': 5750, 'mic': 5751, 'nprncbl': 5752, 'beibootpetri03': 5753, 'eieiei': 5754, 'wiederhole': 5755, 'ungerne': 5756, 'mikemacapple': 5757, 'polizisten': 5758, 'polizeiwache': 5759, 'seelenverbrannt': 5760, 'salty': 5761, 'elli': 5762, 'abgefuckt': 5763, 'h3rzanh3rz': 5764, 'mystisch': 5765, 'besondere': 5766, 'klimafluechtlinge': 5767, 'begriffsklaerung': 5768, 'mallorca': 5769, 'frauenkrper': 5770, 'bae': 5771, 'mathegenies': 5772, 'gtr': 5773, 'anzug': 5774, '160': 5775, 'yoooo': 5776, 'unechtemax': 5777, 'mustixiii': 5778, '04': 5779, 'transe': 5780, 'penisbilder': 5781, '3some': 5782, 'thedouble6': 5783, 'msucrier': 5784, 'thenewlife31': 5785, 'schnurpsen': 5786, 'popcorns': 5787, 'alman': 5788, 'kruzifix': 5789, 'amtsstube': 5790, 'kultursymbol': 5791, 'politischer': 5792, 'sabine': 5793, 'danielkapp': 5794, 'arg': 5795, 'beunruhigend': 5796, 'armseliges': 5797, 'liebendes': 5798, '1938': 5799, 'gew': 5800, 'symbol': 5801, 'synonym': 5802, 'sgewandte': 5803, 'geworde': 5804, 'rattenlinie': 5805, 'flohen': 5806, 'suedamerika': 5807, 'argentinien': 5808, 'juan': 5809, 'albe': 5810, 'fam': 5811, 'wavvyboi': 5812, 'houelle': 5813, 'zeichen': 5814, 'nichtnilo': 5815, 'meld': 5816, 'fragte': 5817, 'mdr': 5818, 'san': 5819, 'ted': 5820, 'telefonumfrage': 5821, 'riefen': 5822, 'zuschau': 5823, 'denniskoch87': 5824, 'jezus': 5825, 'auferstanden': 5826, 'bl0ckversace': 5827, 'nike': 5828, 'serixuz': 5829, 'aso': 5830, 'aufgestanden': 5831, 'gonzos': 5832, 'sympathisieren': 5833, 'holzen': 5834, 'uralte': 5835, 'waelder': 5836, 'baeume': 5837, 'euberu': 5838, 'acuba': 5839, 'genehmige': 5840, 'abends': 5841, 'einen': 5842, 'fuenfe': 5843, 'eichiblubbbel': 5844, 'afpde': 5845, 'greenpeace': 5846, 'ladybitchray1': 5847, 'euch': 5848, 'betruegt': 5849, 'besoffen': 5850, 'najlepse': 5851, 'hotttt': 5852, 'justitz': 5853, 'eraser': 5854, 'org': 5855, 'luegenpack': 5856, 'verscheissern': 5857, 'realbuschkamel': 5858, 'intelligender': 5859, 'positiv': 5860, 'besetzten': 5861, 'themen': 5862, 'kindererzieh': 5863, 'funkhauszorra': 5864, 'politikstandard': 5865, 'einwanderungs': 5866, 'integrationsland': 5867, 'verbindet': 5868, 'fu': 5869, 'you': 5870, 'androidcentral': 5871, 'mate9': 5872, 'mate20x': 5873, 'geworden': 5874, 'seitdem': 5875, 'scuderi': 5876, 'espol': 5877, 'khentay': 5878, 'rusalochka': 5879, 'kaeffchen': 5880, 'reparieren': 5881, 'treff': 5882, 'schwarzeloewe': 5883, 'christoph': 5884, 'schwoer': 5885, 'allerbeste': 5886, 'friss': 5887, 'crunchy': 5888, 'nuts': 5889, 'sasiiii000': 5890, 'ahhh': 5891, 'xpandorya': 5892, 'fana': 5893, 'eosandy': 5894, 'iunahri': 5895, 'blabla': 5896, 'unterschiedlich': 5897, 'drop': 5898, 'temperatur': 5899, 'celsius': 5900, 'starlucycat': 5901, 'got': 5902, 'penis': 5903, 'halb': 5904, 'doppelte': 5905, 'heidiklum': 5906, 'vogelsabine': 5907, 'weidel': 5908, 'steinzeit': 5909, 'antwerpairpo': 5910, 'grove': 5911, 'schendng': 5912, 'skeyes': 5913, 'belgocontrol': 5914, 'rgls': 5915, '3257ft': 5916, 'snake': 5917, 'kaa': 5918, 'ploetzlich': 5919, 'russischer': 5920, 'kriegsgefange': 5921, 'indoktrinierung': 5922, 'unis': 5923, 'dauerwerbung': 5924, 'krstdt': 5925, 'schueler': 5926, 'uniformierung': 5927, 'gewe': 5928, 'maxheld': 5929, 'civey': 5930, 'umm': 5931, 'korrektes': 5932, 'bayesianisches': 5933, 'updating': 5934, 'dreccksack': 5935, 'stehst': 5936, 'kolben': 5937, 'herrlich': 5938, 'streamen': 5939, 'klopp': 5940, 'lfc': 5941, 'skt': 5942, 'johann': 5943, 'nodumballiance': 5944, 'flowerpowe': 5945, 'ric': 5946, 'kanzleramtsmann': 5947, 'andree': 5948, 'dominik': 5949, 'jfliegenschmidt': 5950, 'quazanga': 5951, 'schuessi': 5952, 'areimanios': 5953, 'mittwoch': 5954, 'briefwahl': 5955, 'linksfaschismus': 5956, 'marschie': 5957, 'brandgefaehrliche': 5958, 'stilisieren': 5959, 'dummdreist': 5960, 'gesinnung': 5961, 'baron': 5962, 'snoopy': 5963, 'verstehn': 5964, 'clevnestfn': 5965, 'beschaeftige': 5966, 'sinnvollem': 5967, 'borispalmer': 5968, 'intelligenteren': 5969, 'toxisch': 5970, 'wehgetan': 5971, 'bleibe': 5972, 'torstenbeeck': 5973, 'nationalhymne': 5974, 'bax': 5975, 'schulpflicht': 5976, 'heilig': 5977, 'saekulare': 5978, 'proletdo': 5979, '52': 5980, 'hoerder': 5981, 'neumarkt': 5982, 'do2505': 5983, 'nonazisdo': 5984, 'nonazis': 5985, 'huehner': 5986, 'hof': 5987, 'steuden': 5988, 'nudelkoenigin': 5989, 'sandra': 5990, 'nudelkoenigen': 5991, 'bo': 5992, 'moment': 5993, 'therocketbeans': 5994, 'waiputv': 5995, 'schwarzbild': 5996, '089': 5997, '32168': 5998, 'konservativen': 5999, 'cumkitten': 6000, 'faelle': 6001, 'p1nkl': 6002, 'f1': 6003, 'verstappen': 6004, 'sefi99': 6005, 'spasspa': 6006, 'satirepa': 6007, 'umzudenken': 6008, 'picturepunxx': 6009, 'strahl': 6010, 'orginal': 6011, 'baeder': 6012, 'ichalter': 6013, 'fuxking': 6014, 'xanax': 6015, 'ufxdl': 6016, 'politikstube': 6017, 'korny382': 6018, '19micha09': 6019, 'dachte': 6020, 'sacht': 6021, 'dasselbe': 6022, 'sammer': 6023, 'movie': 6024, 'deal': 6025, 'merida': 6026, 'highlands': 6027, 'itunes': 6028, 'tonspur': 6029, 'zeitgeschehen': 6030, 'press': 6031, 'play': 6032, 'milfs': 6033, 'nylons': 6034, 'ytalk': 6035, 'wichs': 6036, 'ulrabia': 6037, 'faekalgewitter': 6038, 'entsprechung': 6039, 'anglizismus': 6040, 'shitstorm': 6041, 'etablieren': 6042, 'ziel': 6043, 'thetickit': 6044, 'sonnensicht': 6045, 'inflationaer': 6046, 'gaehn': 6047, 'ide': 6048, 'stereotype': 6049, 'malen': 6050, 'know': 6051, 'rztin': 6052, 'orgien': 6053, 'kino': 6054, 'muschifotos': 6055, 'gedson': 6056, 'gelson': 6057, '59karli82': 6058, 'nicolabeerfdp': 6059, 'finanzminister': 6060, 'profitie': 6061, 'niedrigzinspolitik': 6062, 'chaoten': 6063, 'kuemmern': 6064, 'schlawiner8': 6065, 'meedia': 6066, 'nuetzlichen': 6067, 'eidiger': 6068, 'indianern': 6069, 'luchste': 6070, 'glasperlen': 6071, 'feuerwasser': 6072, 'humanitaer': 6073, 'lukkkkkkas': 6074, 'sashimi': 6075, 'chipundcharge': 6076, 'spektakulaerer': 6077, 'tiebreak': 6078, 'thiem': 6079, 'matchball': 6080, 'chanyeolbucky': 6081, 'wokeupcry1ng': 6082, 'juukichiix': 6083, 'uebelst': 6084, 'allaboutnext': 6085, 'dtrnsfrmtn': 6086, 'tierschutz': 6087, 'mitgliedsantrag': 6088, 'brettwelten': 6089, 'grinseschaf': 6090, 'gras': 6091, 'achsooo': 6092, 'captblwillard': 6093, 'politikverdrossenheit': 6094, 'neukoellner': 6095, 'innen': 6096, 'wohngeld': 6097, 'berlinpass': 6098, 'vorweisung': 6099, 'g4rl1n': 6100, 'reicher': 6101, 'eusebio': 6102, 'statik': 6103, 'fettleibig': 6104, 'groesse': 6105, '36': 6106, 'auc': 6107, 'pyramoscgn1': 6108, 'faste': 6109, 'straw': 6110, 'berry': 6111, 'wichtigtuer': 6112, 'halbblutjurist': 6113, 'bashing': 6114, 'ehrenmannerich': 6115, 'kocht': 6116, 'chilli': 6117, 'ketchup': 6118, 'oder': 6119, 'geldgierig': 6120, 'geringsten': 6121, 'tipps': 6122, 'immofux': 6123, 'hoteltagebuch': 6124, 'immorogers': 6125, 'makler1muenchen': 6126, 'ramathiasmuench': 6127, 'immovation': 6128, 'stadtvermieter': 6129, 'seriously': 6130, 'anxiety': 6131, 'kicken': 6132, 'high': 6133, 'farge': 6134, '41': 6135, '59': 6136, 'betriebliche': 6137, 'sey': 6138, 'prons': 6139, 'joujzz': 6140, 'nakte': 6141, 'vidios': 6142, 'faint': 6143, 'visions': 6144, 'live': 6145, 'erlebe': 6146, 'sitzplatzknigge': 6147, 'zug': 6148, 'sitzplatz': 6149, 'taschen': 6150, 'kei': 6151, 'somext': 6152, 'migrationspolitik': 6153, 'geforde': 6154, 'supergefaehrliche': 6155, 'kernkraft': 6156, 'gerettet': 6157, 'aerzte': 6158, 'baekaktuell': 6159, 'diskussionsbeitraege': 6160, 'urlaub': 6161, 'theologisches': 6162, 'erzeugt': 6163, 'geschichte': 6164, 'vorschein': 6165, 'sinnvoll': 6166, 'verbot': 6167, 'schwarzer': 6168, 'kleindungsstueck': 6169, 'namevergeben': 6170, 'lgbt': 6171, 'livbar': 6172, 'neuer': 6173, 'natalie': 6174, 'alba': 6175, 'pornstarscms': 6176, 'mehrkill': 6177, 'krimigranten': 6178, 'higgins': 6179, 'zaentschurie': 6180, 'decider': 6181, 'come': 6182, 'john': 6183, '147sf': 6184, 'ausgenutzt': 6185, 'pornoclips': 6186, 'sinnlicher': 6187, 'paralleluniversum': 6188, 'sylt': 6189, 'foto': 6190, 'solltest': 6191, 'beeilen': 6192, 'duscht': 6193, 'fruehstueck': 6194, 'liba443': 6195, 'verpasste': 6196, 'anrufe': 6197, 'mama': 6198, 'zuhause': 6199, 'frxnckisdead': 6200, 'makeup': 6201, 'traegst': 6202, 'schwul': 6203, 'mindset': 6204, 'tassenhalskette': 6205, 'meme': 6206, 'ungebildete': 6207, 'schulschwaenzer': 6208, 'schnauft': 6209, 'genervt': 6210, 'anrah83': 6211, 'wichtigste': 6212, 'sonstwo': 6213, 'dplautzi': 6214, 'fiqqqqqhure': 6215, 'akskshs': 6216, 'indiestrolche': 6217, 'indiearenabooth': 6218, 'stand': 6219, 'maskulin': 6220, 'iab': 6221, 'europarat': 6222, 'bundesaussenminister': 6223, 'ministe': 6224, 'reffen': 6225, 'europarats': 6226, 'helsink': 6227, 'allem': 6228, 'sprueche': 6229, 'bekannt': 6230, 'kittodario': 6231, 'stephan535': 6232, 'buje78': 6233, 'berxe': 6234, 'enes': 6235, 'gekuesst': 6236, 'lil': 6237, 'juri': 6238, 'besoffene': 6239, 'sklave': 6240, 'onlien': 6241, 'beeg': 6242, 'juegos': 6243, 'uebersetzen': 6244, 'mehrzahl': 6245, 'kommentare': 6246, 'zeitsparend': 6247, 'zusammenzufassen': 6248, 'bilgiliueretmen': 6249, 'sultan44613857': 6250, 'bilgili': 6251, 'wei': 6252, 'thez0ldyck': 6253, 'faito': 6254, 'volkswagen': 6255, 'laurent': 6256, 'janmod': 6257, 'elrobtossohn': 6258, 'gitarre3': 6259, 'luxiboxde': 6260, 'nutze': 6261, 'produzieren': 6262, 'rechtssta': 6263, 'sahur': 6264, 'schlafrhythmus': 6265, 'loay': 6266, 'mudhoon': 6267, 'raz': 6268, 'andres': 6269, 'christianruch': 6270, 'politifinnmark': 6271, 'eierdiebe': 6272, 'katarinabarley': 6273, 'udobullmann': 6274, 'dieu': 6275, 'playlist': 6276, 'annarosabrito': 6277, 'tue': 6278, 'politkaste': 6279, 'stampft': 6280, 'wut': 6281, 'dolle': 6282, 'seelennachtinfo': 6283, 'stripen': 6284, 'sexfilm': 6285, 'ltere': 6286, 'frauenpornos': 6287, 'scheinleben': 6288, 'mut': 6289, 'einredest': 6290, 'piss': 6291, 'schwein': 6292, 'vivian': 6293, 'geplatzt': 6294, 'pensi': 6295, 'wichsorgie': 6296, 'explodie': 6297, 'unterscheidet': 6298, 'zorn': 6299, 'hervorgerufen': 6300, 'lissy': 6301, 'extra': 6302, 'ni': 6303, 'archiphilologus': 6304, 'archi': 6305, 'such': 6306, 'most': 6307, 'privileged': 6308, 'shit': 6309, 'imarior': 6310, 'wahlborn': 6311, 'iknowreview': 6312, 'blackpantherrav': 6313, 'lemmystechkiste': 6314, 'image': 6315, 'solang': 6316, 'fruehzeitig': 6317, 'geruechten': 6318, 'machtwo': 6319, 'gipfelkanzlerin': 6320, 'hofreiter': 6321, 'schaeuble': 6322, 'scholz': 6323, 'telepolis': 6324, 'jesidinnen': 6325, 'unterwelt': 6326, 'kuschelt': 6327, 'blase': 6328, 'asoziale': 6329, 'nichtsnutzige': 6330, 'unterstue': 6331, 'massive': 6332, 'kohleabbau': 6333, 'armee': 6334, 'yout': 6335, 'wutuniverse': 6336, 'kuss': 6337, 'heldenwieich': 6338, 'mint': 6339, 'eliteland': 6340, 'schulsystem': 6341, 'theskender': 6342, 'uwe': 6343, 'mdl': 6344, 'diskutieren': 6345, 'denkbar': 6346, 'niewiedercdu': 6347, 'implizie': 6348, 'scharia': 6349, 'einzuschleichen': 6350, 'karlaknows': 6351, 'gesoffen': 6352, 'blau': 6353, 'ueberzeugung': 6354, 'uhl': 6355, 'edu': 6356, 'verdraengt': 6357, 'jk': 6358, 'hase': 6359, 'rauche': 6360, 'verglimmendes': 6361, 'anregende': 6362, 'verpackung': 6363, 'gesc': 6364, 'och': 6365, 'investeringsfirma': 6366, 'steekt': 6367, 'blockchain': 6368, 'bloxroute': 6369, 'postmichel1': 6370, 'halbswegs': 6371, 'ausgestatte': 6372, 'haustuer': 6373, 'votzen': 6374, 'bionde': 6375, 'kvinna': 6376, 'hopp': 6377, 'severinbrandis': 6378, 'invasoren': 6379, 'ahahahaaaa': 6380, 'zweitstaerkste': 6381, 'abe': 6382, 'blackyellowl0ve': 6383, 'letrabe': 6384, 'behaind': 6385, 'gebirgsjager1': 6386, 'fuehrung': 6387, 'ch': 6388, 'ungenie': 6389, 'weltoffene': 6390, 'mensche': 6391, 'weitkamp': 6392, 'alleingang': 6393, 'lehne': 6394, 'dur': 6395, 'music': 6396, 'einzuschlafen': 6397, 'ufdieblende': 6398, 'adaequate': 6399, 'entschaedigung': 6400, 'verrammeltes': 6401, 'findisch': 6402, 'fredericlebrun': 6403, 'osram': 6404, 'deckenleuchte': 6405, 'leuchte': 6406, 'ausse': 6407, 'meets': 6408, 'monitoring': 6409, 'criteria': 6410, 'fuenferpasch': 6411, 'existie': 6412, 'meinungsfreiheit': 6413, 'atemschutz': 6414, 'deo': 6415, 'parfuem': 6416, 'drin': 6417, 'thecat': 6418, '240x200': 6419, 'leinen': 6420, 'bettwaesche': 6421, 'buegeln': 6422, 'abzuziehen': 6423, 'drpeternagel': 6424, 'elementares': 6425, 'missverstaendnis': 6426, 'merz': 6427, 'mckstf': 6428, 'buerzl': 6429, 'bisherigen': 6430, 'fakts': 6431, 'fynn': 6432, 'gefragt': 6433, 'jan69161843': 6434, 'camanpour': 6435, 'berlusco': 6436, 'einschlafe': 6437, 'barkley': 6438, 'xavi': 6439, '223bpm': 6440, 'druckluft': 6441, 'floor': 6442, 'wenig': 6443, 'benedetusmc': 6444, 'freuts': 6445, 'kovac': 6446, 'rollex': 6447, 'kalle': 6448, 'abgezogen': 6449, 'gesundem': 6450, 'menschenverstand': 6451, 'ottensheim': 6452, 'schlierbach': 6453, 'uebersiedelt': 6454, 'beruflich': 6455, 'mytrans': 6456, 'formel': 6457, 'zaandvoo': 6458, 'ariiiish': 6459, 'blonder': 6460, 'spdde': 6461, 'coribuhh': 6462, 'abtreibungen': 6463, 'dran': 6464, 'paradies': 6465, 'roterpaenda': 6466, 'wuermer': 6467, 'monetas': 6468, 'geldherrin': 6469, 'mevsimherk': 6470, 'ahhaha': 6471, 'playing': 6472, 'aquagen': 6473, '2011': 6474, 'radio': 6475, 'edit': 6476, '6ponge': 6477, 'slipknot': 6478, 'oral': 6479, 'techische': 6480, 'bondage': 6481, 'weiterer': 6482, 'fahren': 6483, 'nebe': 6484, 'kleid': 6485, 'fixifoxy': 6486, 'juliepulie3': 6487, 'astriddorothea': 6488, 'kade': 6489, 'albanien': 6490, 'heinzschmidt41': 6491, 'u21': 6492, 'spielern': 6493, 'trainingslager': 6494, 'suedtirol': 6495, 'vorlaeufige': 6496, 'kader': 6497, 'olafolafson1': 6498, 'orita': 6499, 'bella': 6500, 'donna': 6501, 'teletubbies': 6502, 'titelmelodie': 6503, 'teamalessio': 6504, '70m': 6505, 'kami': 6506, 'keins': 6507, 'japan': 6508, 'birnendung': 6509, 'goku': 6510, 'switch': 6511, 'reaktion': 6512, 'haftbefehl': 6513, 'nennt': 6514, 'vergifte': 6515, 'verfickte': 6516, 'ungluecklich': 6517, 'drecksleben': 6518, 'zentralrat1': 6519, 'vergangenheit': 6520, 'ideologische': 6521, 'verblendung': 6522, 'sprachinkompetenz': 6523, 'arbeitsleben': 6524, 'asiaten': 6525, 'euphorisch': 6526, 'skeptisch': 6527, 'dreilaender': 6528, 'ohnenahme': 6529, 'nobby1949z': 6530, 'bullshitt': 6531, 'kimmathei': 6532, 'taddl': 6533, 'dummer': 6534, 'akenoad': 6535, 'bo3': 6536, 'lorde': 6537, 'sorrynotsorry': 6538, 'alpeninitiative': 6539, 'kapitalistische': 6540, 'warenwelt': 6541, 'verdreht': 6542, 'rennt': 6543, 'anlauf': 6544, 'nicolastransgay': 6545, 'zeugen': 6546, 'repeat': 6547, 'michaellehmann': 6548, 'elltra': 6549, 'ruecktritt': 6550, 'germanletsplay': 6551, 'rate': 6552, 'unitymedia': 6553, '5minuten': 6554, 'vielleicht': 6555, '20m': 6556, 'bit': 6557, 'erikwuensche': 6558, 'wundermittel': 6559, 'unserer': 6560, 'loese': 6561, 'peitelwein': 6562, 'noringerk': 6563, 'oesterreichische': 6564, 'gaebs': 6565, '4kolner': 6566, 'soisset': 6567, 'geholfen': 6568, 'verwunde': 6569, 'erneut': 6570, 'juedische': 6571, 'weltuebernahmewaffe': 6572, 'nwo': 6573, 'goyim': 6574, 'sklavenstaat': 6575, 'nacazafps': 6576, 'spoilerst': 6577, 'garnichts': 6578, 'fuckt': 6579, 'hardcore': 6580, 'damn': 6581, 'weeberwolfgang': 6582, 'chiquitaflanke': 6583, 'ahrens': 6584, 'marcofuchs74': 6585, 'thies': 6586, 'guek62': 6587, 'hildering': 6588, 'verderben': 6589, 'infiltration': 6590, 'katze': 6591, 'bett': 6592, 'heben': 6593, 'geschlafen': 6594, 'neothemarius': 6595, 'niemehrgruen': 6596, 'moderaten': 6597, 'unbequem': 6598, 'steck': 6599, 'ikea': 6600, 'hotdogs': 6601, 'katjarosch': 6602, 'patriziavdlahn': 6603, 'vorsitzende': 6604, 'jana': 6605, 'nachrichtenagentur': 6606, 'headlessdrowned': 6607, 'fpoefails': 6608, 'heimliches': 6609, 'vorbild': 6610, 'wegsperren': 6611, 'gell': 6612, 'decken': 6613, 'linksl': 6614, 'ihea': 6615, 'langwierig': 6616, 'dich': 6617, 'ugh': 6618, 'schreibfehler': 6619, 'brillant': 6620, 'englischen': 6621, 'brilliant': 6622, 'durchein': 6623, 'racconti': 6624, 'bellissime': 6625, 'pfefferminzboi': 6626, 'ehe': 6627, 'amateur': 6628, 'anziane': 6629, 'blenderbottle': 6630, 'whiskware': 6631, 'gostack': 6632, 'eisern': 6633, 'bog': 6634, 'reissen': 6635, 'tust': 6636, 'werktagen': 6637, 'angelam21983732': 6638, 'petra58249513': 6639, 'pipo124567': 6640, 'ingenieure': 6641, 'sadsleepyloser': 6642, 'madchen': 6643, 'unwreq23': 6644, 'spoookeyy': 6645, 'vinyu23': 6646, 'akame': 6647, 'owo': 6648, 'sentakuu71': 6649, 'abgeranzte': 6650, 'tukke': 6651, 'trumps': 6652, 'knallfroesche': 6653, 'er': 6654, 'swinger': 6655, 'noticias': 6656, 'hausgemacht': 6657, 'eidigung': 6658, 'nachdenkseiten': 6659, 'sanktionieren': 6660, 'faeustchen': 6661, 'robe': 6662, '19594': 6663, 'rebound541': 6664, 'datdiscordboy': 6665, '64': 6666, 'galaxy': 6667, 'odyssey': 6668, 'homobehaviorali': 6669, 'rechtliches': 6670, 'fernsehen': 6671, 'cutie': 6672, 'ariana': 6673, 'grande': 6674, 'toll': 6675, 'lebenshaltungskosten': 6676, 'viel': 6677, 'gestiegen': 6678, 'karsten71': 6679, 'typische': 6680, 'lallend': 6681, 'gregormodos': 6682, 'ltwth19': 6683, 'afdwaehlen': 6684, 'thueringen': 6685, 'joroe14': 6686, 'goerlitz': 6687, 'franziskaol': 6688, 'kasse': 6689, 'dadurch': 6690, 'absichtlich': 6691, 'dreister': 6692, 'haeuser': 6693, 'asylbewerber': 6694, 'notunterkuenfte': 6695, 'unzumutbare': 6696, 'zustaende': 6697, 'wettbewerb': 6698, 'peinlichste': 6699, 'form': 6700, 'eskapismus': 6701, 'buehlbecker': 6702, 'reil': 6703, 'pickel': 6704, 'parlamentsverach': 6705, 'bemerken': 6706, 'suspendie': 6707, 'slimemock': 6708, 'kollege': 6709, 'hau': 6710, 'euli': 6711, 'perfektes': 6712, 'date': 6713, 'kramerga': 6714, 'enbau': 6715, 'bringen': 6716, 'livingwall': 6717, 'aufdassdiestaedtegruenerwerden': 6718, 'jochenflasba': 6719, 'einzusparen': 6720, 'eheluder': 6721, 'enfrogge': 6722, 'suechtig': 6723, 'offensiv': 6724, 'ablaeuft': 6725, 'kandidatin': 6726, 'derzeitigen': 6727, 'ausg': 6728, 'interaktiv': 6729, 'wande': 6730, 'euelections2019': 6731, 'waehlerwa': 6732, 'kloebermeraxl': 6733, 'buerostuhlgrossepersonen': 6734, 'buerostuehlmeraxl': 6735, 'buerostuhl': 6736, 'gesundes': 6737, 'mer78': 6738, 'xs': 6739, 'juliusivx': 6740, 'frauproper': 6741, 'darlings': 6742, 'sebastiankurz': 6743, 'boomer': 6744, 'herzberg': 6745, 'jchristandl': 6746, 'bagasch': 6747, 'versagt': 6748, 'dinge': 6749, 'werde': 6750, 'schaltplaene': 6751, 'latex': 6752, 'frittenmelly': 6753, 'bilda': 6754, 'honestly': 6755, 'james': 6756, 'palette': 6757, 'gut': 6758, 'loswer': 6759, 'french': 6760, 'open': 6761, 'aussenseiter': 6762, 'chancenlos': 6763, 'tennis': 6764, 'nadal': 6765, 'parents4future': 6766, 'wozukunft': 6767, 'ansichten': 6768, 'breezypayback': 6769, 'stattwie': 6770, 'dasitzt': 6771, 'romannervnicht': 6772, 'kah': 6773, 'falsche': 6774, 'herangehensweise': 6775, 'veterinaer': 6776, 'duschen': 6777, 'handtuch': 6778, 'grin': 6779, 'leopoldstammler': 6780, 'guenschl': 6781, 'aprestros': 6782, 'hoebi75': 6783, 'helenesteiner4': 6784, 'befehlsempfaenger': 6785, 'mimmismama': 6786, 'christophnebgen': 6787, 'suuuper': 6788, 'rhythmusgefuehl': 6789, 'sparkurs': 6790, 'abgaben': 6791, 'unternehmensteuern': 6792, 'senken': 6793, 'hilfebinhure': 6794, 'htoastbrot': 6795, 'brauner': 6796, '254': 6797, '122': 6798, 'madia': 6799, 'rasmusandresen': 6800, 'vorfahr': 6801, 'abbaurecht': 6802, 'enneaeterisch': 6803, 'kamnonym': 6804, 'frontet': 6805, 'kanak': 6806, 'stabilen': 6807, 'sponsorn': 6808, 'kleinerdonner': 6809, 'aergern': 6810, 'helarctos': 6811, 'gegenueber': 6812, 'katzentisch': 6813, 'obvsthiam': 6814, 'immo': 6815, 'alscumbro': 6816, 'wowyyyy': 6817, 'aqosteee': 6818, 'cclearz': 6819, 'dikka': 6820, 'ratter': 6821, 'verballer': 6822, 'kugeln': 6823, 'kuda': 6824, 'lindner': 6825, 'welle': 6826, 'haidball': 6827, 'charaktere': 6828, 'nowottny': 6829, 'warmes': 6830, 'koelsch': 6831, 'gefrieren': 6832, 'dwarfplanet': 6833, 'der': 6834, 'wahlsieg': 6835, 'tuebingen': 6836, 'gruener': 6837, 'wandazietz': 6838, 'wegschmeissen': 6839, 'einzigste': 6840, 'geliebten': 6841, 'baka': 6842, 'exfreund': 6843, 'uebri': 6844, 'nationalsozialisten': 6845, 'idealisten': 6846, 'spdler': 6847, 'stein': 6848, 'chemnitz': 6849, 'identitaeren': 6850, 'dburschenschaft': 6851, 'kalbitz': 6852, 'hoecke': 6853, 'alex': 6854, 'malenki': 6855, 'senajulya': 6856, 'passivalerio': 6857, 'christianxxx1': 6858, 'dos': 6859, 'meninos': 6860, 'transexclub': 6861, 'spritzt': 6862, 'retweeten': 6863, 'bastarde': 6864, 'helgebruhn': 6865, 'ollilein69': 6866, 'insgesamt': 6867, 'beinfrei': 6868, 'rico': 6869, 'hihi': 6870, 'spr': 6871, 'matteosalvinimi': 6872, 'macrons': 6873, 'junckers': 6874, 'grit': 6875, 'itookmyprozac': 6876, 'kuck': 6877, 'kriminalitaetsstatistik': 6878, 'iaminhellandyou': 6879, 'mlchelangelhoe': 6880, 'currygewuerz': 6881, 'iamomarscurr': 6882, 'iulieeer': 6883, 'valuwunr2': 6884, 'alben': 6885, 'cooler': 6886, 'permanenten': 6887, 'releases': 6888, 'nicoivang19': 6889, 'uber': 6890, 'uninteressant': 6891, 'verblendeten': 6892, 'anluegen': 6893, 'sooooo': 6894, 'kalllllttttt': 6895, 'friere': 6896, 'dialyse': 6897, 'animus': 6898, 'rooz': 6899, 'verstehst': 6900, 'zurueckzuschlagen': 6901, 'influenzer': 6902, 'irgend': 6903, 'clown': 6904, 'angerufen': 6905, 'peruecke': 6906, 'hoodie': 6907, 'aermel': 6908, 'hochkrempeln': 6909, 'shi': 6910, 'entgegengeifern': 6911, 'kanzler': 6912, 'herbeisch': 6913, 'angolanischen': 6914, 'steht': 6915, 'hinzufuegen': 6916, 'angolani': 6917, 'ballou381': 6918, 'sauer': 6919, 'steu': 6920, 'easpo': 6921, 'sfifa': 6922, 'ea': 6923, 'vollziehen': 6924, 'polygamistischen': 6925, 'einbuergerungsgesetz': 6926, 'rechtlich': 6927, 'jen': 6928, 'dieliebeanna': 6929, 'echtnichtstevo': 6930, '2theskyy': 6931, 'verden': 6932, '07': 6933, '08': 6934, 'betrieblich': 6935, 'kingabrieu': 6936, 'kkkkkkkkkkkm': 6937, 'oer': 6938, 'explosion': 6939, 'berichten': 6940, 'wahrheitsgemaess': 6941, 'anschl': 6942, 'falco': 6943, 'richie': 6944, 'turi2': 6945, 'handwerks': 6946, 'verleger': 6947, 'haenden': 6948, 'nagel': 6949, 'fj': 6950, 'murau': 6951, 'liebe': 6952, 'virginia': 6953, 'woolf': 6954, 'romantiker': 6955, 'rotwein': 6956, 'chansons': 6957, 'tanz': 6958, 'geschlechter': 6959, 'sonnenuntergang': 6960, 'neospiesser': 6961, 'hingehen': 6962, 'ab19868': 6963, 'intramorus': 6964, 'vorne': 6965, 'menschenverachtend': 6966, 'boese': 6967, 'avukatramo': 6968, 'sjetzt': 6969, 'hauptjob': 6970, 'kopftu': 6971, 'heiligen': 6972, 'hallen': 6973, 'neonlicht': 6974, 'christine': 6975, 'palleti': 6976, 'huehnchens': 6977, 'speck': 6978, 'schweinch': 6979, 'schalten': 6980, 'flashskynews': 6981, 'ex1lity': 6982, 'untagt': 6983, 'liefern': 6984, 'vorlage': 6985, 'aktionen': 6986, 'rotfaschisten': 6987, 'vlkrdhr': 6988, 'khs': 6989, 'herrenuhr': 6990, 'reaper': 6991, 'taucherband': 6992, '169': 6993, 'hanbunkurai': 6994, 'investie': 6995, 'unnormal': 6996, 'sandy4love': 6997, 'blas': 6998, 'pruegel': 6999, 'satinarsch': 7000, 'hausmeister': 7001, 'anschauen': 7002, 'mastubieren': 7003, 'fernsehfrauen': 7004, 'campingtisch': 7005, 'endozentrisch': 7006, 'yos': 7007, 'sonic': 7008, 'immernoch9': 7009, 'motivieren': 7010, 'time1608': 7011, 'alphasoulmaster': 7012, 'livault': 7013, 'smt': 7014, 'ma2ju': 7015, 'annitheduck': 7016, 'foetus': 7017, 'verhindern': 7018, 'fruehlingssonne': 7019, 'erfreut': 7020, 'gluecklic': 7021, 'messen': 7022, 'verlassene': 7023, 'ferraris': 7024, 'ferrari': 7025, 'pewdiepie': 7026, 'netzwerke': 7027, 'icke': 7028, 'nrwzum0': 7029, 'manuvoice': 7030, 'gruppe': 7031, 'lachkicks': 7032, 'beniourigal': 7033, 'davon': 7034, 'nach': 7035, 'pruefungen': 7036, 'frauenstreik': 7037, 'dimensionen': 7038, 'staa': 7039, 'hangen': 7040, 'claude': 7041, 'wunderblokk': 7042, 'internetausdrucker': 7043, 'rechtskonservativ': 7044, 'rechtsradikal': 7045, 'printformat': 7046, 'tauschen': 7047, 'aurelme': 7048, 'rule': 7049, 'veli0801': 7050, 'vaderyu91': 7051, 'gaming20003': 7052, 'hilf': 7053, 'sauvagecrim': 7054, 'kanaken': 7055, 'pressefreiheit': 7056, 'zuvor': 7057, 'arac': 7058, 'yla': 7059, 'kohlekraftwerke': 7060, 'pflaster': 7061, 'windraedern': 7062, 'oeffnet': 7063, 'lobt': 7064, 'fierce': 7065, 'friday': 7066, 'apologet': 7067, 'minderwe': 7068, 'fang': 7069, 'krad75': 7070, 'festgestellt': 7071, 'metal': 7072, 'attraktiv': 7073, 'sabaton': 7074, 'haesslichen': 7075, 'hhawkeye24': 7076, 'europaweit': 7077, 'inearlierdays': 7078, 'einzige': 7079, 'schriftzug': 7080, 'tuerkischer': 7081, 'br24': 7082, 'staatsversagens': 7083, 'mildtaetigkeitswettbewerb': 7084, 'wisag': 7085, 'transpo': 7086, 'lichtenberg': 7087, 'tamaarriiss': 7088, 'toete': 7089, 'bruch': 7090, 'zivilisation': 7091, 'zivilisationsbruch': 7092, 'ronaldsullivan': 7093, 'linkermob': 7094, 'verwuestet': 7095, 'letzten': 7096, 'unglaeubigen': 7097, 'vernichtet': 7098, 'beaarep': 7099, 'erikasdreck': 7100, 'niemalsafd': 7101, 'faengt': 7102, 'auszubreiten': 7103, 'schwierigste': 7104, 'entfernen': 7105, 'performt': 7106, '03': 7107, 'btc': 7108, 'tauwetter': 7109, 'bitcoin': 7110, 'bakkt': 7111, 'deckt': 7112, 'assets': 7113, 'woker': 7114, 'danielaklucke': 7115, 'begegnungszonen': 7116, 'gescheite': 7117, 'begriffen': 7118, 'masse': 7119, 'berufsbezeichnung': 7120, 'speaker': 7121, 'trendexpe': 7122, 'hiesse': 7123, 'booknerd': 7124, 'weinen': 7125, 'einmal': 7126, 'lustigralf': 7127, 'johannahh2': 7128, '28': 7129, 'absoluter': 7130, 'alleinlage': 7131, 'kauften': 7132, 'sagten': 7133, 'buh': 7134, 'langwe': 7135, 'drumrum': 7136, 'gjsh': 7137, 'glueckliche': 7138, 'aminajxx': 7139, 'denise': 7140, 'loop': 7141, 'ltwsh': 7142, 'szenecode': 7143, 'wies': 7144, 'senfmaedchen': 7145, 'meh': 7146, 'trottel': 7147, 'raffen': 7148, 'verfassungsschutz': 7149, 'sma': 7150, 'traderbulls': 7151, 'fragdenstaat': 7152, 'zensurheberrecht': 7153, 'bfr': 7154, 'zugangscodes': 7155, 'glyphosat': 7156, 'gutachten': 7157, 'antragstellern': 7158, '73rieck': 7159, 'torben12045934': 7160, 'linksgruenen': 7161, 'auspraegung': 7162, 'kampagnengesteue': 7163, 'undemokratisch': 7164, 'schlafen': 7165, 'freehippiegirl': 7166, 'leichten': 7167, 'kotzreiz': 7168, 'verspottet': 7169, 'palastluger': 7170, 'pelzige': 7171, 'ergergruesse': 7172, 'suskadse': 7173, 'hapelanger': 7174, 'atemlos': 7175, 'wau': 7176, 'hottt': 7177, 'hbsch': 7178, 'relazione': 7179, 'vidio': 7180, 'pono': 7181, 'warschau': 7182, 'abgeschaut': 7183, 'montage': 7184, 'mrln63': 7185, 'hxnaz': 7186, 'sarma': 7187, 'weinblaetter': 7188, 'ahah': 7189, 'sksks': 7190, 'rande': 7191, 'momente': 7192, 'natasnoctem': 7193, 'jerk': 7194, 'step': 7195, 'focusonline': 7196, 'wiedereinfuehrung': 7197, 'todesstrafe': 7198, 'faho74': 7199, 'hochstapler': 7200, 'narzisstisches': 7201, 'kleinanzeigen': 7202, 'geizigste': 7203, 'gefuellteste': 7204, 'erde': 7205, 'probeabstimmungen': 7206, 'derstandardat': 7207, 'flygskam': 7208, 'klimaproteste': 7209, 'inlandsfluegen': 7210, 'henningmayone': 7211, 'ahh': 7212, 'biene': 7213, '26maicdu': 7214, 'freubier': 7215, 'bwjetzt': 7216, 'cardigan': 7217, 'friendship': 7218, 'marwosdeath': 7219, 'hallenbadbau': 7220, 'kamenz': 7221, 'metalgod1975': 7222, 'ruppen': 7223, 'erinnerungen': 7224, 'derplietscher': 7225, 'quatsch': 7226, 'wicht': 7227, 'erdokan': 7228, 'aniesmann': 7229, 'kandidie': 7230, 'nachfolge': 7231, 'fraktionskollegen': 7232, 'klausur': 7233, 'aufgab': 7234, 'beat': 7235, 'konzentriere': 7236, 'injamorgan': 7237, 'erotikliteratur': 7238, 'directo': 7239, 'grosse': 7240, 'yung': 7241, 'arkan2': 7242, 'lieferzeit': 7243, 'stornieren': 7244, '9': 7245, 'apuleius': 7246, 'doktorhut': 7247, 'molligekleinesie83': 7248, 'amunet': 7249, 'ac': 7250, 'danielrschmidt': 7251, 'judith': 7252, 'kerr': 7253, 'rosa': 7254, 'kaninchen': 7255, 'stahl': 7256, 'konfrontation': 7257, 'bunny': 7258, 'huh': 7259, 'versauter': 7260, 'geschlechtsverkehr': 7261, 'frauenporno': 7262, 'gesund': 7263, 'faz': 7264, 'verfasster': 7265, 'dieseratze': 7266, 'hoere': 7267, 'utawie': 7268, 'herauslassen': 7269, 'm95': 7270, 'stefanhechl': 7271, 'playbook': 7272, '1930er': 7273, 'glitzeratom': 7274, 'muetter': 7275, 'selbsterhoehung': 7276, 'suhlen': 7277, 'tickt': 7278, 'anders': 7279, 'pappnasen': 7280, 'politclowns': 7281, 'bestimmen': 7282, 'lizarussiahorny': 7283, 'geilsten': 7284, 'beweisen': 7285, 'nachbarin': 7286, 'gebumst': 7287, 'sado': 7288, 'mirbuergerin': 7289, 'stoeckli': 7290, 'winkelzuege': 7291, 'einseitig': 7292, 'orientie': 7293, 'augenaufde': 7294, 'vielfalt': 7295, 'moechtet': 7296, 'schmiddiemaik': 7297, 'josephine': 7298, 'gleichen': 7299, 'ausrufung': 7300, 'klimanotstand': 7301, 'verabschiedung': 7302, 'klimas': 7303, 'grafiken': 7304, 'plaetze': 7305, 'dominanz': 7306, 'fetish': 7307, 'branchenblaetter': 7308, 'headlines': 7309, 'allerdings': 7310, 'omr': 7311, 'lalilein': 7312, 'teste': 7313, 'woelken': 7314, 'kniekehle': 7315, 'zucken': 7316, 'hambi': 7317, 'hie': 7318, 'philosophen': 7319, 'uni': 7320, 'schaebigen': 7321, 'grauen': 7322, 'gebaeude': 7323, 'kennenlernten': 7324, 'daesh': 7325, 'ottos': 7326, 'hueftsteak': 7327, 'online': 7328, 'metzgereien': 7329, 'betreiben': 7330, 'bordeauxdogge2': 7331, 'trainieren': 7332, 'trockenfutter': 7333, 'stueckchen': 7334, 'einerhgw': 7335, 's11': 7336, 'bergisch': 7337, 'gladbach': 7338, '54': 7339, 'dormagen': 7340, '27': 7341, 'neuss': 7342, '45': 7343, 'outen': 7344, 'sprachrohr': 7345, 'paedophilen': 7346, 'kinderschaender': 7347, 'ovg': 7348, 'bautzen': 7349, 'volksverhetzend': 7350, 'ovgbautzen': 7351, 'strahlen': 7352, 'jahrgang': 7353, 'kanidaten': 7354, 'buergerrat': 7355, 'vaterkomplex': 7356, 'gayspacegulag': 7357, 'koenige': 7358, 'neger': 7359, 'oefter': 7360, 'gesellschaftlicher': 7361, 'rueckentwicklung': 7362, 'complaxes': 7363, 'fans': 7364, 'vereins': 7365, 'unsaegliche': 7366, 'umvolkung': 7367, 'bevoelkerung': 7368, 'veredelt': 7369, 'nachhaltig': 7370, 'bzberlin': 7371, 'grenzenlose': 7372, 'hohl': 7373, 'traurigen': 7374, 'thorsten0711': 7375, 'senioren': 7376, 'ueberfallen': 7377, 'misshandeln': 7378, 'aktenzeichenxy': 7379, 'weiteren': 7380, 'verrat': 7381, 'ehrendokto': 7382, 'itel': 7383, 'aufschwungs': 7384, 'tiptopgeheim': 7385, 'ermordung': 7386, 'zutun': 7387, 'rudolfzlabinger': 7388, 'box': 7389, 'latschen': 7390, 'airliners': 7391, 'airbus': 7392, 'informie': 7393, 'postillon': 7394, 'pervers': 7395, 'witten': 7396, 'arminschon': 7397, 'lilien': 7398, 'mspazieren': 7399, 'missbjarmstrong': 7400, 'mupfmama': 7401, 'mupf': 7402, 'kreativsten': 7403, 'sinnigsten': 7404, 'neuschoepfungen': 7405, 'juussyyy': 7406, 'rollo': 7407, 'zufrieden': 7408, 'poetmehmet': 7409, 'witziger': 7410, 'rolle': 7411, 'spielt': 7412, 'fue': 7413, 'hasst': 7414, 'aufgebaut': 7415, 'geleistet': 7416, 'taeglich': 7417, 'borussen': 7418, 'tom09': 7419, 'eafussball': 7420, 'spiele': 7421, 'aufregen': 7422, 'weekend': 7423, 'psychomolehappy': 7424, 'euc': 7425, 'schwaetzerinnen': 7426, 'rosenkohl': 7427, 'krone': 7428, 'massenzuwanderer': 7429, 'keinerlei': 7430, 'oekologisches': 7431, 'bewusstsein': 7432, 'verlaub': 7433, 'unreflektie': 7434, 'kommentaren': 7435, 'geduld': 7436, 'dic': 7437, 'evamolau': 7438, 'unterbrochen': 7439, 'geduzt': 7440, 'mansplainen': 7441, 'tr': 7442, 'fiischyyy': 7443, 'marcelmolitor2': 7444, 'codeveingame': 7445, 'psn': 7446, 'eingeben': 7447, 'anzeigefehler': 7448, 'cd': 7449, 'macco': 7450, 'ekofreezy': 7451, 'german': 7452, 'dream': 7453, 'represented': 7454, 'muahaha': 7455, 'bratzenbuch': 7456, 'klickt': 7457, 'niemalsfacebook': 7458, 'sternzeichen': 7459, 'bedeutender': 7460, 'stierhoerner': 7461, 'ophelia': 7462, 'bdsm': 7463, 'grillgeruch': 7464, 'nase': 7465, 'bratwurst': 7466, 'pharaotom': 7467, 'kaadeeey': 7468, 'pearsxon': 7469, 'lxckz': 7470, 'eskalationzz': 7471, 'zatox95': 7472, 'fxbz': 7473, 'einhorngate': 7474, 'humorlosen': 7475, 'schwaebisch': 7476, 'gmuend': 7477, 'nervermittlung': 7478, 'italienische': 7479, 'monster': 7480, 'desso': 7481, 'wasdges': 7482, 'dior20001': 7483, 'abkuerzungen': 7484, 'galt': 7485, 'gegenpol': 7486, 'heimatminister': 7487, 'teite99': 7488, 'abstimmung': 7489, 'eilen': 7490, 'kioskmein': 7491, '99bluemarlin': 7492, 'dasland': 7493, 'opoe': 7494, 'saubere': 7495, 'sexfilme': 7496, 'marcel': 7497, 'mille': 7498, 'ritter': 7499, 'roter': 7500, 'lediglich': 7501, '145': 7502, 'quellen': 7503, 'abges': 7504, 'ausweisen': 7505, 'dingenskirchenj': 7506, 'fanpost': 7507, 'laed': 7508, 'trolle': 7509, 'playoffcaleb': 7510, 'efg': 7511, 'fg': 7512, 'landesmedienanstalt': 7513, 'veraltet': 7514, 'pharmazeutisches': 7515, 'markenerzeugnis': 7516, 'schaefer': 7517, 'vgtlnd': 7518, 'heltedskelted': 7519, 'credo': 7520, 'lanas08819497': 7521, 'soziale': 7522, 'haengematte': 7523, 'achtmannstark': 7524, 'move': 7525, 'gerlet1': 7526, 'verachtens': 7527, 'zick': 7528, 'le2jh': 7529, 'ijoba': 7530, 'xpensive': 7531, 'zinhle': 7532, 'dammy': 7533, 'krane': 7534, 'youngstar': 7535, 'heavy': 7536, 'duty': 7537, 'plusdemurs': 7538, 'saalschutz': 7539, 'hm': 7540, 'stosstrupp': 7541, 'realitaet': 7542, 'queer': 7543, 'gleiche': 7544, 'scientology': 7545, 'geworben': 7546, 'melodygahlen': 7547, 'zurueckwuensche': 7548, 'marcuserlebach': 7549, 'fault': 7550, 'badespassbarbie': 7551, 'empfehle': 7552, 'riebenen': 7553, 'unterhalten': 7554, 'nac': 7555, 'sebgreiner': 7556, 'atomausstiegs': 7557, 'atomausstieg': 7558, 'speed': 7559, 'magen': 7560, 'gntm2019': 7561, 'hocke': 7562, 'fahre': 7563, '30min': 7564, 'angekommen': 7565, 'klingel': 7566, 'dezent': 7567, 'verzweife': 7568, 'andy93893217': 7569, 'wahlkampfmaschine': 7570, 'wolfgang': 7571, 'wzb': 7572, 'krillin': 7573, 'auseinanderzuhalten': 7574, 'schlussmachen': 7575, 'bakaray': 7576, 'freundlich': 7577, 'niemalscdu': 7578, 'faelt': 7579, 'vergleich': 7580, 'newcomern': 7581, 'haft': 7582, 'xatar': 7583, 'beef': 7584, 'newcomer': 7585, 'europawahlen': 7586, 'hampelmaennchen': 7587, 'verdingen': 7588, 'trommelt': 7589, 'ishaiqz': 7590, 'rrivexx': 7591, 'dopamin': 7592, 'vergeuden': 7593, 'gewunde': 7594, 'andreas': 7595, 'bvb': 7596, 'balerdi': 7597, 'abwehrspieler': 7598, 'enttaeuschung': 7599, 'luftnummer': 7600, 'hofnarr': 7601, 'studierenden': 7602, 'edeka': 7603, 'rumheulen': 7604, 'verstaendlich': 7605, 'sylviapantel': 7606, 'hgmaassen': 7607, 'sigrid': 7608, 'herrmannmarschall': 7609, 'kreises': 7610, 'filme': 7611, 'putze': 7612, 'ultra': 7613, 'nicen': 7614, 'stuff': 7615, 'evil': 7616, 'kapitalismus': 7617, 'bla': 7618, 'chrizzie93': 7619, 'andre09': 7620, '19mei89': 7621, '0610': 7622, 'flobvb666': 7623, 'borusse08': 7624, 'xvoffo': 7625, 'gruss': 7626, 'rezept': 7627, 'illegalen': 7628, 'legalen': 7629, 'sozialsstaats': 7630, 'bereicherern': 7631, 'fluten': 7632, 'city0815': 7633, 'anfange': 7634, 'sheelockmaier': 7635, 'jegliches': 7636, 'rueckstaendigkeit': 7637, 'inkompatibilitaet': 7638, 'jedes': 7639, 'trademonkeys': 7640, 'movement': 7641, 'ttcm': 7642, 'ibgr': 7643, 'krfg': 7644, 'canales': 7645, 'aupair': 7646, 'emoticon': 7647, 'anale': 7648, 'ddrmuseum': 7649, 'pocketkamera': 7650, 'pentacon': 7651, 'k16': 7652, 'ideal': 7653, 'negativformat': 7654, '13x17mm': 7655, 'museumweek': 7656, 'photomw': 7657, 'timo': 7658, 'reeg': 7659, 'fifaprogamer213': 7660, 'aglibic': 7661, 'mxlanax': 7662, 'einig': 7663, 'goekan': 7664, 'derschulze': 7665, 'fediverse': 7666, 'leichter': 7667, 'landesverband': 7668, 'rechnung': 7669, 'tempelhofer': 7670, 'gerhardschwar11': 7671, 'derwanderer4': 7672, 'truppe': 7673, '55uli': 7674, 'reingeholt': 7675, 'uciwwt': 7676, 'emakumeen': 7677, 'bira': 7678, 'uwt': 7679, 'liste': 7680, 'etappenprofile': 7681, 'ace': 7682, 'oute': 7683, 'sexist': 7684, 'schoene': 7685, 'tevsa': 7686, 'sondergipfel': 7687, 'traut': 7688, 'persona': 7689, 'non': 7690, 'grata': 7691, 'jemxkn': 7692, 'henlo': 7693, 'ate': 7694, 'jem': 7695, 'hnnnng': 7696, 'fabigumpeyt': 7697, 'leit': 7698, 'hoxatbox': 7699, 'snowowlem': 7700, 'markenbutter': 7701, 'backstage0000': 7702, 'prioritaet': 7703, 'linksradikale': 7704, 'loft': 7705, 'bekannter': 7706, 'gefluechtete': 7707, 'moria': 7708, 'zelten': 7709, 'baracken': 7710, 'mokoffiziell': 7711, '9000': 7712, 'unattraktiver': 7713, 'mateu': 7714, 'morey': 7715, 'ilkayguendogan': 7716, 'volkerweise': 7717, 'maphimoto': 7718, 'juliahorny1': 7719, 'salsapicantona': 7720, 'spanische': 7721, 'generalanwaltschaft': 7722, 'hassverbrechen': 7723, 'interpretie': 7724, 'verbre': 7725, 'eruiere': 7726, 'nextnews': 7727, 'obamas': 7728, 'harvad': 7729, 'universitaet': 7730, 'ehrend': 7731, 'wachstumspfad': 7732, 'aktienanalyse': 7733, 'kulmbach': 7734, 'extrakaese': 7735, 'frustessen': 7736, 'jansen': 7737, 'ungesund': 7738, 'fresst': 7739, 'to': 7740, 'leude': 7741, 'pspresseschau': 7742, 'huettl': 7743, 'demokratisches': 7744, 'benuetzt': 7745, 'schuetze': 7746, 'hansmll89138006': 7747, 'derherrz': 7748, 'laecherlicher': 7749, 'historie': 7750, 'loetzschmdb': 7751, 'altvorderen': 7752, 'schein': 7753, 'lautstaerke': 7754, 'ps4': 7755, 'unnuetzer': 7756, 'plastikscheisse': 7757, 'street': 7758, 'fighter': 7759, 'hooligans': 7760, 'steelerjungs': 7761, 'scheibe': 7762, 'knaeckebrot': 7763, 'lonsdale': 7764, 'gaysex': 7765, 'verdammten': 7766, 'braune': 7767, 'aj79er': 7768, 'hyracexd': 7769, '1mai': 7770, 'geistige': 7771, 'vorgaenger': 7772, 'verboten': 7773, 'mai': 7774, 'gewer': 7775, 'idiologisch': 7776, 'verblendete': 7777, 'ali': 7778, 'ans': 7779, 'mikrofon': 7780, 'verschlafn': 7781, 'nanny': 7782, 'index': 7783, 'ungesundes': 7784, 'albtraum': 7785, 'krankenversicherer': 7786, 'intellekt': 7787, 'low': 7788, 'hanging': 7789, 'fruit': 7790, 'much': 7791, 'grundrauschens': 7792, 'hoetang': 7793, 'blinder': 7794, 'krueckstock': 7795, 'skinny': 7796, 'zahnstocherbitch': 7797, 'heeeey': 7798, 'duuu': 7799, 'secondcircleosu': 7800, 'trefft': 7801, 'dokomi': 7802, 'osu': 7803, 'turnierveranstalter': 7804, 'bieten': 7805, 'moeglichkeit': 7806, 'fridgeguy': 7807, 'paulo': 7808, 'vaeterchen': 7809, 'duss': 7810, 'machtverlust': 7811, 'klarkommen': 7812, 'babysetter': 7813, 'jeans': 7814, 'adultos': 7815, 'oporno': 7816, 'vwstd': 7817, 'kordimvp': 7818, 'neeyrox': 7819, 'hahahaha': 7820, 'grandel1': 7821, 'meinanusbrennt': 7822, 'foxoderfuchs': 7823, 'eis': 7824, 'buergerliche': 7825, 'pflicht': 7826, 'abzusetzen': 7827, 'inakoslows1': 7828, 'nylonfacesitting': 7829, 'vergoetterst': 7830, 'roxyred19589189': 7831, 'fullgoonzone': 7832, 'hundefriedhoof': 7833, 'profis': 7834, 'zustand': 7835, 'angreifer': 7836, 'verlangten': 7837, 'bekehren': 7838, 'pastor': 7839, 'lehnten': 7840, 'littlepeeps1963': 7841, 'gerueche': 7842, 'jemandem': 7843, 'wahrhe': 7844, 'mount': 7845, 'stupid': 7846, 'dunningkruger': 7847, 'auslaendischen': 7848, 'hochgeschrieben': 7849, 'knuddelbacke': 7850, 'froebelschule': 7851, 'aschaffenburg': 7852, 'integrie': 7853, 'fellgerber': 7854, 'afdnbg': 7855, 'ehemalige': 7856, 'umweltpa': 7857, 'ziele': 7858, 'feuer': 7859, 'seyfe': 7860, 'rad': 7861, 'habende': 7862, 'kathrin': 7863, 'habenschaden': 7864, 'gothano': 7865, 'mitreissende': 7866, 'aufbruch': 7867, 'totalem': 7868, 'spitzenpolitikerin': 7869, 'schwulerfurry': 7870, 'freekringeh': 7871, 'discord': 7872, 'patrickkul': 7873, 'stickerbrush': 7874, 'bittersweet': 7875, 'michalocalpixel': 7876, 'realbuschpilot': 7877, 'schmeissfliege': 7878, 'tiempo': 7879, 'secure': 7880, 'joins': 7881, 'nusim': 7882, 'nering': 7883, 'network': 7884, 'rza': 7885, 'cons': 7886, 'autsch': 7887, 'ipad': 7888, 'svenishell': 7889, 'pegida': 7890, 'montagen': 7891, 'nurindresden': 7892, 'nopegidadd': 7893, 'schwiegersohn': 7894, 'schwiegermutter': 7895, 'perverse': 7896, 'amathure': 7897, 'dachbalken': 7898, 'dicklich': 7899, 'mutti': 7900, 'kuemme': 7901, 'ums': 7902, 'berufstaetigkeit': 7903, 'erlaubt': 7904, 'pflichten': 7905, 'warumeli': 7906, 'opfi': 7907, 'lsss': 7908, 'satansbrut': 7909, 'okee42203068': 7910, 'stroeermedia': 7911, 'dabiggapicta': 7912, 'twitpatli': 7913, 'operationlibero': 7914, 'knarren': 7915, 'dass': 7916, 'muslima': 7917, 'keeprespect79': 7918, 'naiv': 7919, 'aelter': 7920, 'city': 7921, 'roller': 7922, 'rumschleude': 7923, 'knoechel': 7924, 'heutzutage': 7925, 'yungestablismnt': 7926, 'panzerfahrenbot': 7927, 'zonenbiest': 7928, 'taschentuecher': 7929, 'papier': 7930, 'wegwerfen': 7931, 'sollten': 7932, 'furry': 7933, 'knallfrog': 7934, 'fussballfans': 7935, 'daenk': 7936, 'ritaliddle': 7937, 'vatikans': 7938, 'terrorista': 7939, 'komme': 7940, 'next': 7941, '138b': 7942, 'claymation': 7943, 'zwicki': 7944, 'zwacki': 7945, 'platsch': 7946, 'grunneldude': 7947, 'schnapp': 7948, 'lieblingsmenschen': 7949, 'sobald': 7950, 'kuscheln': 7951, 'rueckgaengen': 7952, 'gegensteuern': 7953, 'vergleicht': 7954, 'volkskammer': 7955, 'urgh': 7956, 'wahl2019': 7957, 'disch': 7958, 'gleisch': 7959, 'lan': 7960, 'staatliche': 7961, 'brisantes': 7962, 'dokument': 7963, 'belegt': 7964, 'linksgruene': 7965, 'gehirnwaesche': 7966, 'theviice': 7967, 'spursofficial': 7968, 'klatsche': 7969, 'overperformed': 7970, 'genuss': 7971, 'cdsuerklaerer': 7972, 'stasi': 7973, 'braunste': 7974, 'umlackie': 7975, 'sedfdj': 7976, 'seltsamerweise': 7977, 'ruebenhorst': 7978, 'erscheinen': 7979, 'undankbar': 7980, 'brehm25502987': 7981, 'teilhaben': 7982, 'eskalie': 7983, 'uebersetze': 7984, 'koeppel': 7985, 'sozialdetektive': 7986, 'spionieren': 7987, 'schwerk': 7988, 'surny': 7989, 'pedo': 7990, 'tf2': 7991, 'vielweiberei': 7992, 'mische': 7993, 'creamspeak': 7994, 'life': 7995, 'hack': 7996, 'magenspiegelung': 7997, 'hummer': 7998, 'arzt': 7999, 'verkl': 8000, 'schmidja2017': 8001, 'vorgeschickt': 8002, 'auszuloten': 8003, 'oberen': 8004, 'reagieren': 8005, 'koks': 8006, 'dein': 8007, 'faust': 8008, 'wolff1': 8009, 'wolff': 8010, 'unwaehlbar': 8011, 'bussi': 8012, 'bier': 8013, 'ruegt': 8014, 'bierdeckel': 8015, 'putzt': 8016, 'wichtiger': 8017, 'tiera': 8018, 'reisewut': 8019, 'tiefenunscharf': 8020, 'puste': 8021, 'reagie': 8022, 'scheffel': 8023, 'drdav': 8024, 'lasset': 8025, 'danken': 8026, 'benabdelazizc': 8027, 'thannith': 8028, 'scrogneugneu': 8029, 'weltweit': 8030, 'koryphaeen': 8031, 'steckst': 8032, 'bloedheit': 8033, 'staatszersetzend': 8034, 'krasavice': 8035, 'wessen': 8036, 'frauenarsch': 8037, 'hahn41729786': 8038, 'arbeitslager': 8039, 'aggressive': 8040, 'rauskommen': 8041, 'kurzistweg': 8042, 'imageberatungen': 8043, 'reglementarisch': 8044, 'eingre': 8045, 'laender': 8046, 'vereinigen': 8047, 'verbruedern': 8048, 'konse': 8049, 'duracellsheep': 8050, 'tippe': 8051, 'ohrlaeppchen': 8052, 'ojobamiji': 8053, 'players': 8054, 'alexe1789': 8055, 'unscharf': 8056, 'linkspopulisten': 8057, 'sites': 8058, 'convento': 8059, 'lantermann': 8060, 'intervenie': 8061, 'pormno': 8062, 'nahaufnahme': 8063, 'completi': 8064, 'brak': 8065, 'rothen': 8066, 'schwer': 8067, 'herbst': 8068, 'infantilen': 8069, 'trullas': 8070, 'analena': 8071, 'ska': 8072, 'kats': 8073, 'willk': 8074, 'knastdichti': 8075, 'bekaempfen': 8076, 'hoh': 8077, 'einziger': 8078, 'koscher': 8079, 'jarnderhund': 8080, 'introlohd': 8081, 'rineya': 8082, 'weeb': 8083, 'bastetfurry': 8084, 'iran': 8085, 'wahlveranstaltung': 8086, 'strachegate': 8087, 'strachepk': 8088, 'gottnan': 8089, 'akaprious': 8090, 'adulto': 8091, 'teey': 8092, 'geeh': 8093, 'deutschlandfeindlich': 8094, 'poolshark1910': 8095, 'impft': 8096, '5256verletzter1': 8097, 'evidenz': 8098, 'basie': 8099, 'inkl': 8100, 'annageilgirl': 8101, 'sagst': 8102, 'entscheide': 8103, 'tifftxxxxf': 8104, 'facts': 8105, 'ch1990ris': 8106, 'nobodysheroine': 8107, 'xdonna': 8108, 'mies': 8109, 'hugs': 8110, 'urlaubsstimmung': 8111, 'vermiesen': 8112, 'quentindupont19': 8113, 'dunkerque': 8114, 'schmusedogamos': 8115, 'itcollie': 8116, 'wem': 8117, 'vorwiegend': 8118, 'problemvie': 8119, 'chefredakteur': 8120, 'run': 8121, 'rannilein': 8122, 'mean': 8123, 'ansichtandere': 8124, 'jaehrige': 8125, '70': 8126, 'jaehrigen': 8127, 'zusammengeschlagen': 8128, 'lebensgefaehrlich': 8129, 'verle': 8130, 'juicydiablo': 8131, 'wow': 8132, 'meistens': 8133, 'sow': 8134, 'apa': 8135, 'mentnr9': 8136, 'einzigen': 8137, 'verehren': 8138, 'pauschal': 8139, 'verachten': 8140, 'allmachts': 8141, 'ichbinscaspa': 8142, 'raumplanungtv': 8143, 'lohnt': 8144, 'muehe': 8145, 'verneig': 8146, 'freyafolke': 8147, 'spooeki': 8148, 'lbe': 8149, 'kuba': 8150, 'zutreffend': 8151, 'bilat': 8152, 'denrfun': 8153, 'gottverdammt': 8154, 'ipompeule': 8155, 'vermuellte': 8156, 'verdreckte': 8157, 'afdeppen': 8158, 'pseudopatrioten': 8159, 'meilenweit': 8160, 'vorbei': 8161, 'periklesmeier': 8162, 'mextase': 8163, 'kaelter': 8164, 'sonnenaktivitaet': 8165, 'abnimmt': 8166, 'fleisch': 8167, 'abw': 8168, 'teilzeitotaku': 8169, 'denkweise': 8170, 'polen': 8171, 'crazyivan1979': 8172, 'tommykrappweis': 8173, 'gehwaehlen': 8174, 'waehl': 8175, 'istangelico': 8176, 'archangel': 8177, 'annunciate': 8178, '1433': 8179, 'earlyrenaissance': 8180, 'italiana': 8181, 'darude': 8182, 'sandstorm': 8183, '6th': 8184, 'mix': 8185, 'couchionista': 8186, 'liege': 8187, 'mizunowaverider': 8188, 'pictimundi': 8189, 'erzaehl': 8190, 'bloeder': 8191, 'sebbe2704': 8192, 'fifakadabra': 8193, 'pavard': 8194, 'rfejerwgoje4g0w4ogvkregh0e': 8195, 'beschuetzen': 8196, '5g': 8197, 'mast': 8198, 'guter': 8199, 'einwurf': 8200, 'absenkung': 8201, 'wahlalters': 8202, 'muy': 8203, 'tetonas': 8204, 'mdels': 8205, 'prominente': 8206, 'organisationen': 8207, 'werdens': 8208, 'richten': 8209, 'sammeln': 8210, 'ep': 8211, 'ansammlung': 8212, 'vollidioten': 8213, 'kolonne': 8214, 'moskaus': 8215, 'jusosdresden': 8216, 'gegoogelt': 8217, 'speer': 8218, '02': 8219, 'krokodilgemuese': 8220, 'grafik': 8221, 'erschreckend': 8222, 'bisher': 8223, 'eingeredet': 8224, 'ungebildet': 8225, 'rodrigonavarror': 8226, 'gebrochener': 8227, 'foersterjoerg': 8228, 'kapital': 8229, 'preis': 8230, 'pun': 8231, 'intended': 8232, 'schweinerei': 8233, 'neutralisie': 8234, 'befuerwo': 8235, 'klimanotstandes': 8236, 'grundrechte': 8237, 'nadelstiche': 8238, 'jh': 8239, 'gruszecki': 8240, 'jah': 8241, 'ausends': 8242, 'verein': 8243, 'wochenlang': 8244, 'gefahren': 8245, 'saeckeweise': 8246, 'tobiasinfo': 8247, 'una': 8248, 'programme': 8249, 'zusammenfassen': 8250, 'h4usmeister': 8251, 'vollidiot': 8252, 'entsorgen': 8253, 'marokanischen': 8254, 'hintergrund': 8255, 'sende': 8256, 'fakeblondinchen': 8257, 'raz0rfist': 8258, 'schloothuessi1': 8259, 'machtergreifung': 8260, 'naht': 8261, 'beissen': 8262, 'welches': 8263, 'corgis': 8264, 'hol': 8265, 'biete': 8266, 'displate': 8267, 'wund': 8268, 'stjepan': 8269, 'ivan': 8270, 'stroemungstoene': 8271, 'fuzo': 8272, 'undefinierbares': 8273, 'sprachengewirr': 8274, 'venitroll': 8275, 'mathyvin': 8276, 'zurzeit': 8277, 'thars0n': 8278, 'mirjam': 8279, 'fischer': 8280, 'rand': 8281, 'ner': 8282, 'elstunde': 8283, 'anfaengt': 8284, 'devisen': 8285, 'eurokurs': 8286, 'broeckelt': 8287, 'phelps12347': 8288, 'reimst': 8289, 'kranken': 8290, 'seastarhd': 8291, 'pause': 8292, 'wurde': 8293, 'suro': 8294, 'meg': 8295, 'efganidoenmez': 8296, 'bilden': 8297, 'monoblock': 8298, 'nachtkoenig': 8299, 'realbryanleib': 8300, 'dcexaminer': 8301, 'edlaborcmte': 8302, 'bobbyscott': 8303, 'nenne': 8304, 'niacavaon': 8305, 'irgendwo': 8306, 'maschine': 8307, 'geputzt': 8308, 'proudeucitizen': 8309, 'nation': 8310, 'ehesten': 8311, 'nationalc': 8312, 'sam': 8313, 'reisst': 8314, 'rolandnelles': 8315, 'lebenslange': 8316, 'gastprofessur': 8317, 'realjohr': 8318, 'moralischer': 8319, 'landesverrat': 8320, 'auszeichnung': 8321, 'rueckgratlos': 8322, 'wahlvieh': 8323, 'weltordnung': 8324, 'uebervo': 8325, 'handelsueberschuss': 8326, 'afrikanische': 8327, 'bauern': 8328, 'bankenabhaengikeit': 8329, 'glaesernen': 8330, 'pastelpinkjm': 8331, 'est': 8332, 'raegt': 8333, 'einfaellt': 8334, 'aerger': 8335, 'nachfolger': 8336, 'blatter': 8337, 'wil': 8338, 'hacklauch': 8339, 'vshangrila': 8340, 'tiny': 8341, 'house': 8342, 'migraene': 8343, 'mischung': 8344, 'bravehea': 8345, 'einsamer': 8346, 'hobbit': 8347, 'witzfigur': 8348, 'anonymous': 8349, 'teller': 8350, 'tassen': 8351, 'besteck': 8352, 'geklaut': 8353, 'heule': 8354, 'kkb': 8355, 'zeug': 8356, 'saschakam': 8357, 'hannoderbus': 8358, 'originaltitel': 8359, 'aiararose': 8360, 'fbieger': 8361, 'kormosklaus': 8362, 'verseucht': 8363, 'pazifik': 8364, 'stroemungen': 8365, 'meere': 8366, 'tinosoph': 8367, 'fluegel': 8368, 'fuehler': 8369, 'summst': 8370, 'maaaaannnn': 8371, 'unentschieden': 8372, 'mannschaxtdn': 8373, 'zielen': 8374, 'svwbvb': 8375, 'geisteskrank': 8376, 'rootsroy1': 8377, 'mitregie': 8378, 'armutssc': 8379, 'kazi': 8380, 'suesser': 8381, 'concealer': 8382, 'foundation': 8383, 'ausreise': 8384, 'sperre': 8385, 'verhaengt': 8386, 'inhaftie': 8387, 'mutte': 8388, 'foseti': 8389, 'hals': 8390, 'frauaufunddavon': 8391, 'alexcwha': 8392, 'ziegenstall': 8393, 'einbaerliii': 8394, 'filmen': 8395, 'tristanteuto': 8396, 'ausschnitt': 8397, 'schnelllaufdurchlauf': 8398, 'grossa': 8399, 'maedels': 8400, 'bruellen': 8401, 'contra': 8402, 'mateta': 8403, 'respektlos': 8404, 'mainz05': 8405, 'fsvmainz05': 8406, 'bundesliga': 8407, 'nachtlos': 8408, 'spekuliere': 8409, 'karmadingsbums': 8410, 'ueberlegen': 8411, 'schiethus': 8412, 'wka': 8413, 'flaechen': 8414, 'envielfalt': 8415, 'ingen': 8416, 'mountaindream5': 8417, 'dissidentder': 8418, 'frankvanvossen': 8419, 'derjenige': 8420, 'tro': 8421, 'menno': 8422, 'erkaeltet': 8423, 'klimawandel': 8424, 'fatma': 8425, 'morgana': 8426, 'lieblingsbotschaft': 8427, 'buchlaeden': 8428, '1425833': 8429, 'mails': 8430, 'mentions': 8431, 'botaniker3': 8432, 'knuddelmon': 8433, 'christianklink4': 8434, 'plenken': 8435, 'marlboroplatin': 8436, 'flugangst': 8437, 'bammel': 8438, 'soja': 8439, 'bean': 8440, 'mood': 8441, 'schwingt': 8442, 'snacc': 8443, 'ansc': 8444, 'lufthansanews': 8445, 'vorhang': 8446, 'freiraum': 8447, 'tablet': 8448, 'halterung': 8449, 'usb': 8450, 'anschluesse': 8451, 'a321neo': 8452, 'sirius': 8453, 'cmdkrieger': 8454, 'jettekrokette': 8455, 'zahlsklaven': 8456, 'supplies': 8457, 'teuer': 8458, 'hornyturkgerman': 8459, 'kaeseberg': 8460, 'infotweet': 8461, 'melissapfs': 8462, 'frreschke': 8463, 'grapsch': 8464, 'strolch': 8465, 'sinnvollen': 8466, 'anschreiben': 8467, 'kerstinwagner': 8468, 'innovative': 8469, 'myteam': 8470, 'proudtobepa': 8471, 'giutamat': 8472, 'stolzer': 8473, 'gleich': 8474, 'zielwe': 8475, 'zumindest': 8476, 'yaoi': 8477, 'boys': 8478, 'awww': 8479, 'moser': 8480, 'uniformjacken': 8481, 'saying': 8482, 'marie0ffical': 8483, 'depressed': 8484, 'cum': 8485, 'mouth': 8486, 'lutschen': 8487, 'flugzeug': 8488, 'mit': 8489, 'tschonka': 8490, 'wohnun': 8491, 'wweshieldguy': 8492, 'ernst': 8493, 'saubern': 8494, 'kuerzlich': 8495, 'ramadanan': 8496, 'realredknight': 8497, 'mh120480': 8498, 'jagrost': 8499, 'meldemuschi': 8500, 'punktabzug': 8501, 'verstoesse': 8502, 'grasundespresso': 8503, 'altmnds': 8504, 'jasmrw': 8505, 'shampoos': 8506, 'congratulations': 8507, 'vancullo': 8508, 'vermeh': 8509, 'bienen': 8510, 'erwecken': 8511, 'auserwaehlt': 8512, 'um': 8513, 'kuenstli': 8514, '09': 8515, 'goddessyasemin': 8516, 'bewundere': 8517, 'bluejeans': 8518, 'breit': 8519, 'draussen': 8520, 'tauben': 8521, 'ah': 8522, 'narzisstische': 8523, 'egomanie': 8524, 'boris': 8525, 'verlassen': 8526, 'brigitte': 8527, 'broken': 8528, 'ueberlebende': 8529, 'wahlkampfauftakt': 8530, 'petadeutschland': 8531, 'hoehle': 8532, 'masturbation': 8533, 'l00ser': 8534, 'ykanak': 8535, 'lieferando': 8536, 'haxe': 8537, 'codingcookey': 8538, 'imao': 8539, 'mohssen': 8540, 'massarrat': 8541, 'aussenminister': 8542, 'youngca': 8543, 'ridge': 8544, 'auftrage': 8545, 'dietmarba': 8546, 'langzeitschaedigung': 8547, 'galactictimmy': 8548, 'sandmann': 8549, 'mitliest': 8550, 'binaprivat': 8551, 'kernbehinde': 8552, 'bums': 8553, 'schraube': 8554, 'ssalto': 8555, 'saftigen': 8556, 'ninchen': 8557, 'deadname': 8558, 'surkunde': 8559, 'wahrscheinlich': 8560, 'marcito2018': 8561, 'misscharlez': 8562, 'aufregt': 8563, 'mitgemeint': 8564, 'drbrandner': 8565, 'spiegelredakteure': 8566, 'verschrieben': 8567, 'finsternis': 8568, 'primevideode': 8569, 'baem': 8570, 'style': 8571, 'fleabag2': 8572, 'phoebewallerbridge': 8573, 'primevideo': 8574, 'cauldron': 8575, 'kathari37057708': 8576, 'begruesst': 8577, '32etr02': 8578, 'heuchl': 8579, 'furzkissenn': 8580, 'vetovsvictory': 8581, 'loeblich': 8582, 'packen': 8583, 'latzhosen': 8584, 'diskriminie': 8585, 'gefuehlt': 8586, 'lildidgeridoo1': 8587, 'olafwedekind': 8588, 'paedophilenpolitik': 8589, 'rbarris': 8590, 'reuterspolitics': 8591, 'abides': 8592, 'lsterne': 8593, 'nutten': 8594, 'chatarrero': 8595, 'zwirn': 8596, 'iban': 8597, 'leerzeichen': 8598, 'angeben': 8599, 'schmoren': 8600, 'dreizack': 8601, 'magnumphotos': 8602, 'susan': 8603, 'meiselas': 8604, 'wins': 8605, 'prize': 8606, 'sohrab': 8607, 'hura': 8608, 'collaborates': 8609, 'with': 8610, 'fashion': 8611, 'designer': 8612, 'kiko': 8613, 'kostadinov': 8614, 'plus': 8615, 'manuel': 8616, 'dokto': 8617, 'itelklauenden': 8618, 'erwischten': 8619, 'eidbrechenden': 8620, 'hinstellt': 8621, 'beliebteste': 8622, 'vereidigt': 8623, 'uraltes': 8624, 'postulat': 8625, 'ga': 8626, 'haniawiatrek': 8627, 'tierquaelerei': 8628, 'halal': 8629, 'tiere': 8630, 'mantelgesc1': 8631, 'anemalon19': 8632, 'funktionaerin': 8633, 'hetz': 8634, 'april': 8635, 'braunauer': 8636, 'vizebuergermeister': 8637, 'dorr': 8638, 'gestoe': 8639, 'heit': 8640, 'waffen': 8641, 'dschland': 8642, 'badets': 8643, 'nuevocanario13': 8644, 'youtube': 8645, 'buntepraesident': 8646, 'versammlugsbehoerde': 8647, 'aufraeumen': 8648, 'alex1990glubb': 8649, 'privilegie': 8650, 'taetscheln': 8651, 'leine': 8652, 'asltf': 8653, 'falschinfo': 8654, 'widerspricht': 8655, 'dunn': 8656, 'akita': 8657, 'rocky': 8658, 'syrer': 8659, 'gue': 8660, 'verpruegel': 8661, 'gossenkomiker': 8662, 'bezeichnet': 8663, 'oesterreicher': 8664, 'schnell': 8665, 'statt': 8666, 'weitaus': 8667, 'geschrittener': 8668, 'arbeits': 8669, 'privatsex': 8670, 'vonerlenbach': 8671, 'bolzandrea': 8672, 'ohnehin': 8673, 'dianekrass': 8674, 'gegenwae': 8675, 'regelrechten': 8676, 'dsarkast': 8677, 'grob': 8678, 'gehst': 8679, 'gedankengut': 8680, 'uebst': 8681, 'kri': 8682, 'schoeoeoeoeoen': 8683, 'marine': 8684, 'lepen': 8685, 'suseschmitt': 8686, 'jault': 8687, 'bas': 8688, 'ton': 8689, 'gemein': 8690, 'klagen': 8691, 'bayerns': 8692, 'grenzpolizei': 8693, 'wolfgs2': 8694, 'vergessene': 8695, 'massaker': 8696, 'aleviten': 8697, 'kayemenner': 8698, 'boogie': 8699, 'underground': 8700, 'alhanda': 8701, 'kuzeng': 8702, 'zeitlinie': 8703, 'spuelen': 8704, 'felix': 8705, 'primitiven': 8706, 'gesteinigt': 8707, 'yokuzuna': 8708, 'sumo': 8709, 'pushkick': 8710, 'luft': 8711, 'kialohq': 8712, 'lieber': 8713, 'anandahasbi': 8714, 'internetmarketing': 8715, 'subversivaktiv': 8716, 'individuum': 8717, 'russophobe': 8718, 'alfunterwegs70': 8719, 'beluegen': 8720, 'kapieren': 8721, 'attacken': 8722, 'edwin': 8723, 'iboe': 8724, 'farben': 8725, 'clowns': 8726, 'verwenden': 8727, 'suanahilt': 8728, 'anstrengend': 8729, 'sandralustig13': 8730, 'mannomann': 8731, 'verwoehnte': 8732, 'furor': 8733, 'ethischen': 8734, 'ueberhoehung': 8735, 'kernkraftzwerg': 8736, 'vernascht': 8737, 'herzenssachen': 8738, 'staube': 8739, 'gezahlte': 8740, 'zeche': 8741, 'charakterschwaeche': 8742, 'alternativlose': 8743, 'gottkanzlerin': 8744, 'sammelt': 8745, 'einwanderer': 8746, 'maloche': 8747, 'gesucht': 8748, 'zis': 8749, 'versuchter': 8750, 'tots': 8751, 'shcin': 8752, 'konfermation': 8753, 'konfirmation': 8754, 'joergschindler': 8755, 'rfd': 8756, 'getoetet': 8757, 'dankeschoen': 8758, 'tisoow': 8759, 'gefaellst': 8760, 'naiven': 8761, 'wessis': 8762, 'klimaluege': 8763, 'nachr': 8764, 'pot': 8765, 'verpixelt': 8766, 'zeitw': 8767, 'hoher': 8768, 'natascher': 8769, 'toenung': 8770, 'kurzhaltende': 8771, 'haarfarbe': 8772, 'wodojiban': 8773, 'princhillmaru9': 8774, 'pussy': 8775, 'enger': 8776, 'babe': 8777, 'fraeulein': 8778, 'tessa': 8779, 'debatten': 8780, 'voranbringen': 8781, 'breche': 8782, 'fingernaegel': 8783, 'waisyszn': 8784, 'tommy': 8785, 'mufc11': 8786, 'juicycoman': 8787, 'clearmindset': 8788, 'bredasared': 8789, 'domestizieren': 8790, 'geschweige': 8791, 'integri': 8792, 'ddcyclist': 8793, 'aufklebern': 8794, 'abc321xyblabla': 8795, 'wodurch': 8796, 'ifikat': 8797, 'erwerbe': 8798, 'zerp': 8799, 'matthiashoehn': 8800, 'diegruenen': 8801, 'schafspelz': 8802, 'mollige': 8803, 'schwanzlutscher': 8804, 'asmr': 8805, 'gangbangpornos': 8806, 'gespochen': 8807, 'paddyvomdorf': 8808, 'appt': 8809, 'flug': 8810, 'capetown': 8811, 'klo': 8812, 'steuersenkung': 8813, 'steuerversagen': 8814, 'fli': 8815, 'subventionie': 8816, 'julia': 8817, 'verlinden': 8818, 'schneckentempo': 8819, 'bureg': 8820, 'punkte': 8821, '2086': 8822, 'waermeverso': 8823, 'annakatrein': 8824, 'weltpolikerin': 8825, 'biographie': 8826, 'mutige': 8827, 'progressive': 8828, 'agenda': 8829, 'ableitet': 8830, 'psemy': 8831, 'fut': 8832, 'aerge': 8833, 'improvisie': 8834, 'nagelneuen': 8835, 'glaenzenden': 8836, 'kacheln': 8837, 'dagegen': 8838, 'lackie': 8839, 'gelblich': 8840, 'wuens': 8841, 'schulle99a': 8842, 'engel': 8843, 'laien': 8844, 'schwesig': 8845, 'mafia': 8846, 'beaurisz': 8847, 'laerm': 8848, 'kaiserstrasse': 8849, 'laeutet': 8850, 'glocken': 8851, 'fenstern': 8852, 'droehnt': 8853, 'groenemeyer': 8854, 'sachsenkrieger4': 8855, 'as': 8856, 'untrade': 8857, 'ziehst': 8858, 'conclusion': 8859, 'fritzalter1': 8860, 'abitur': 8861, 'lucabbm': 8862, 'hurnsoehnen': 8863, 'allein': 8864, 'schanz': 8865, 'depressionen': 8866}\n"
          ]
        }
      ]
    },
    {
      "cell_type": "markdown",
      "source": [
        "# encoding or sequencing\n"
      ],
      "metadata": {
        "id": "mRzlwLYqKY8k"
      }
    },
    {
      "cell_type": "code",
      "source": [
        "encoded_clean_text_stem = tok_all.texts_to_sequences(clean_text_stem)\n",
        "print(clean_text_stem[0])\n",
        "print(encoded_clean_text_stem[0])"
      ],
      "metadata": {
        "colab": {
          "base_uri": "https://localhost:8080/"
        },
        "id": "LvQYVAQ9KUa0",
        "outputId": "62b3a4f3-25c1-4af2-e781-036fea190218"
      },
      "execution_count": null,
      "outputs": [
        {
          "output_type": "stream",
          "name": "stdout",
          "text": [
            "deutsche rothaarige porno reife deutsche frauen porno. deutsche politessen pornos porno deutsch inzets. \n",
            "[2, 2054, 16, 352, 2, 13, 16, 2, 2055, 88, 16, 65, 2056]\n"
          ]
        }
      ]
    },
    {
      "cell_type": "markdown",
      "source": [
        "# Pre-padding\n"
      ],
      "metadata": {
        "id": "wWorwY-hKcBK"
      }
    },
    {
      "cell_type": "code",
      "source": [
        "from keras.preprocessing import sequence\n",
        "max_length = 100\n",
        "padded_clean_text_stem = sequence.pad_sequences(encoded_clean_text_stem, maxlen=max_length, padding='pre')"
      ],
      "metadata": {
        "id": "v911ZLQqKfPi"
      },
      "execution_count": null,
      "outputs": []
    },
    {
      "cell_type": "code",
      "source": [],
      "metadata": {
        "id": "5blgDuDKl61-"
      },
      "execution_count": null,
      "outputs": []
    },
    {
      "cell_type": "markdown",
      "source": [
        "# Reading Test data and Pre-processing\n"
      ],
      "metadata": {
        "id": "jYqmeRiXKhu7"
      }
    },
    {
      "cell_type": "code",
      "source": [
        "import csv\n",
        "data_t = pd.read_csv(\"/content/germeval2018test.txt\",sep='\\t', encoding = \"UTF-8\", quoting=csv.QUOTE_NONE, names=(\"text\", \"task1\", \"task2\"))\n",
        "pd.set_option('display.max_colwidth',150)\n",
        "data_t.head(10)\n",
        "\n",
        "data_t['task1'] = data_t['task1'].str.replace('OTHER', 'NOT')\n",
        "data_t\n",
        "data_t['task1'] = data_t['task1'].str.replace('OFFENSE', 'HOF')\n",
        "data_t\n"
      ],
      "metadata": {
        "colab": {
          "base_uri": "https://localhost:8080/",
          "height": 424
        },
        "id": "pLKHp4MaKhSs",
        "outputId": "6c0ea2e3-7fff-47eb-aab2-d8f943bfd3cd"
      },
      "execution_count": null,
      "outputs": [
        {
          "output_type": "execute_result",
          "data": {
            "text/plain": [
              "                                                                                                                                                       text  \\\n",
              "0                              Meine Mutter hat mir erzählt, dass mein Vater einen Wahlkreiskandidaten nicht gewählt hat, weil der gegen die Homo-Ehe ist ☺   \n",
              "1     @Tom174_ @davidbest95 Meine Reaktion; |LBR| Nicht jeder Moslem ist ein Terrorist. Aber jeder Moslem glaubt an Überlieferungen, die Gewalt und Terr...   \n",
              "2               #Merkel rollt dem Emir von #Katar, der islamistischen Terror unterstützt, den roten Teppich aus.Wir brauchen einen sofortigen #Waffenstopp!   \n",
              "3                                                                                         „Merle ist kein junges unschuldiges Mädchen“ Kch....... 😱 #tatort   \n",
              "4                                  @umweltundaktiv Asylantenflut bringt eben nur negatives für Deutschland. Drum Asylanenstop und Rückführung der Mehrzahl.   \n",
              "...                                                                                                                                                     ...   \n",
              "3527                                               @schlabonski tja, es können einen nicht alle Lieben. Es wird immer auch einen geben der einen nicht mag.   \n",
              "3528                                                                                    @RKnillmann @lawyerberlin @AfD Aha, der Islam ist eine Religion 😂😂😂   \n",
              "3529                                                     @podilein Mannheim, weltoffen und kunterbunt. Und strunzdumme Multikultiliebhaber. Verblödete halt   \n",
              "3530                                                                                        @stephanweil was ist nun mit kostenlosen Kitas in der GROKO ???   \n",
              "3531                      @Bartzissey Denn Minderheiten sind für Linke ja nur dann interessant, wenn sie gegen den Westen instrumentalisiert werden können.   \n",
              "\n",
              "     task1  task2  \n",
              "0      NOT  OTHER  \n",
              "1      NOT  OTHER  \n",
              "2      NOT  OTHER  \n",
              "3      NOT  OTHER  \n",
              "4      HOF  ABUSE  \n",
              "...    ...    ...  \n",
              "3527   NOT  OTHER  \n",
              "3528   HOF  ABUSE  \n",
              "3529   HOF  ABUSE  \n",
              "3530   NOT  OTHER  \n",
              "3531   NOT  OTHER  \n",
              "\n",
              "[3532 rows x 3 columns]"
            ],
            "text/html": [
              "\n",
              "  <div id=\"df-de5b0680-d965-4ce8-9931-9a32914fbaf1\">\n",
              "    <div class=\"colab-df-container\">\n",
              "      <div>\n",
              "<style scoped>\n",
              "    .dataframe tbody tr th:only-of-type {\n",
              "        vertical-align: middle;\n",
              "    }\n",
              "\n",
              "    .dataframe tbody tr th {\n",
              "        vertical-align: top;\n",
              "    }\n",
              "\n",
              "    .dataframe thead th {\n",
              "        text-align: right;\n",
              "    }\n",
              "</style>\n",
              "<table border=\"1\" class=\"dataframe\">\n",
              "  <thead>\n",
              "    <tr style=\"text-align: right;\">\n",
              "      <th></th>\n",
              "      <th>text</th>\n",
              "      <th>task1</th>\n",
              "      <th>task2</th>\n",
              "    </tr>\n",
              "  </thead>\n",
              "  <tbody>\n",
              "    <tr>\n",
              "      <th>0</th>\n",
              "      <td>Meine Mutter hat mir erzählt, dass mein Vater einen Wahlkreiskandidaten nicht gewählt hat, weil der gegen die Homo-Ehe ist ☺</td>\n",
              "      <td>NOT</td>\n",
              "      <td>OTHER</td>\n",
              "    </tr>\n",
              "    <tr>\n",
              "      <th>1</th>\n",
              "      <td>@Tom174_ @davidbest95 Meine Reaktion; |LBR| Nicht jeder Moslem ist ein Terrorist. Aber jeder Moslem glaubt an Überlieferungen, die Gewalt und Terr...</td>\n",
              "      <td>NOT</td>\n",
              "      <td>OTHER</td>\n",
              "    </tr>\n",
              "    <tr>\n",
              "      <th>2</th>\n",
              "      <td>#Merkel rollt dem Emir von #Katar, der islamistischen Terror unterstützt, den roten Teppich aus.Wir brauchen einen sofortigen #Waffenstopp!</td>\n",
              "      <td>NOT</td>\n",
              "      <td>OTHER</td>\n",
              "    </tr>\n",
              "    <tr>\n",
              "      <th>3</th>\n",
              "      <td>„Merle ist kein junges unschuldiges Mädchen“ Kch....... 😱 #tatort</td>\n",
              "      <td>NOT</td>\n",
              "      <td>OTHER</td>\n",
              "    </tr>\n",
              "    <tr>\n",
              "      <th>4</th>\n",
              "      <td>@umweltundaktiv Asylantenflut bringt eben nur negatives für Deutschland. Drum Asylanenstop und Rückführung der Mehrzahl.</td>\n",
              "      <td>HOF</td>\n",
              "      <td>ABUSE</td>\n",
              "    </tr>\n",
              "    <tr>\n",
              "      <th>...</th>\n",
              "      <td>...</td>\n",
              "      <td>...</td>\n",
              "      <td>...</td>\n",
              "    </tr>\n",
              "    <tr>\n",
              "      <th>3527</th>\n",
              "      <td>@schlabonski tja, es können einen nicht alle Lieben. Es wird immer auch einen geben der einen nicht mag.</td>\n",
              "      <td>NOT</td>\n",
              "      <td>OTHER</td>\n",
              "    </tr>\n",
              "    <tr>\n",
              "      <th>3528</th>\n",
              "      <td>@RKnillmann @lawyerberlin @AfD Aha, der Islam ist eine Religion 😂😂😂</td>\n",
              "      <td>HOF</td>\n",
              "      <td>ABUSE</td>\n",
              "    </tr>\n",
              "    <tr>\n",
              "      <th>3529</th>\n",
              "      <td>@podilein Mannheim, weltoffen und kunterbunt. Und strunzdumme Multikultiliebhaber. Verblödete halt</td>\n",
              "      <td>HOF</td>\n",
              "      <td>ABUSE</td>\n",
              "    </tr>\n",
              "    <tr>\n",
              "      <th>3530</th>\n",
              "      <td>@stephanweil was ist nun mit kostenlosen Kitas in der GROKO ???</td>\n",
              "      <td>NOT</td>\n",
              "      <td>OTHER</td>\n",
              "    </tr>\n",
              "    <tr>\n",
              "      <th>3531</th>\n",
              "      <td>@Bartzissey Denn Minderheiten sind für Linke ja nur dann interessant, wenn sie gegen den Westen instrumentalisiert werden können.</td>\n",
              "      <td>NOT</td>\n",
              "      <td>OTHER</td>\n",
              "    </tr>\n",
              "  </tbody>\n",
              "</table>\n",
              "<p>3532 rows × 3 columns</p>\n",
              "</div>\n",
              "      <button class=\"colab-df-convert\" onclick=\"convertToInteractive('df-de5b0680-d965-4ce8-9931-9a32914fbaf1')\"\n",
              "              title=\"Convert this dataframe to an interactive table.\"\n",
              "              style=\"display:none;\">\n",
              "        \n",
              "  <svg xmlns=\"http://www.w3.org/2000/svg\" height=\"24px\"viewBox=\"0 0 24 24\"\n",
              "       width=\"24px\">\n",
              "    <path d=\"M0 0h24v24H0V0z\" fill=\"none\"/>\n",
              "    <path d=\"M18.56 5.44l.94 2.06.94-2.06 2.06-.94-2.06-.94-.94-2.06-.94 2.06-2.06.94zm-11 1L8.5 8.5l.94-2.06 2.06-.94-2.06-.94L8.5 2.5l-.94 2.06-2.06.94zm10 10l.94 2.06.94-2.06 2.06-.94-2.06-.94-.94-2.06-.94 2.06-2.06.94z\"/><path d=\"M17.41 7.96l-1.37-1.37c-.4-.4-.92-.59-1.43-.59-.52 0-1.04.2-1.43.59L10.3 9.45l-7.72 7.72c-.78.78-.78 2.05 0 2.83L4 21.41c.39.39.9.59 1.41.59.51 0 1.02-.2 1.41-.59l7.78-7.78 2.81-2.81c.8-.78.8-2.07 0-2.86zM5.41 20L4 18.59l7.72-7.72 1.47 1.35L5.41 20z\"/>\n",
              "  </svg>\n",
              "      </button>\n",
              "      \n",
              "  <style>\n",
              "    .colab-df-container {\n",
              "      display:flex;\n",
              "      flex-wrap:wrap;\n",
              "      gap: 12px;\n",
              "    }\n",
              "\n",
              "    .colab-df-convert {\n",
              "      background-color: #E8F0FE;\n",
              "      border: none;\n",
              "      border-radius: 50%;\n",
              "      cursor: pointer;\n",
              "      display: none;\n",
              "      fill: #1967D2;\n",
              "      height: 32px;\n",
              "      padding: 0 0 0 0;\n",
              "      width: 32px;\n",
              "    }\n",
              "\n",
              "    .colab-df-convert:hover {\n",
              "      background-color: #E2EBFA;\n",
              "      box-shadow: 0px 1px 2px rgba(60, 64, 67, 0.3), 0px 1px 3px 1px rgba(60, 64, 67, 0.15);\n",
              "      fill: #174EA6;\n",
              "    }\n",
              "\n",
              "    [theme=dark] .colab-df-convert {\n",
              "      background-color: #3B4455;\n",
              "      fill: #D2E3FC;\n",
              "    }\n",
              "\n",
              "    [theme=dark] .colab-df-convert:hover {\n",
              "      background-color: #434B5C;\n",
              "      box-shadow: 0px 1px 3px 1px rgba(0, 0, 0, 0.15);\n",
              "      filter: drop-shadow(0px 1px 2px rgba(0, 0, 0, 0.3));\n",
              "      fill: #FFFFFF;\n",
              "    }\n",
              "  </style>\n",
              "\n",
              "      <script>\n",
              "        const buttonEl =\n",
              "          document.querySelector('#df-de5b0680-d965-4ce8-9931-9a32914fbaf1 button.colab-df-convert');\n",
              "        buttonEl.style.display =\n",
              "          google.colab.kernel.accessAllowed ? 'block' : 'none';\n",
              "\n",
              "        async function convertToInteractive(key) {\n",
              "          const element = document.querySelector('#df-de5b0680-d965-4ce8-9931-9a32914fbaf1');\n",
              "          const dataTable =\n",
              "            await google.colab.kernel.invokeFunction('convertToInteractive',\n",
              "                                                     [key], {});\n",
              "          if (!dataTable) return;\n",
              "\n",
              "          const docLinkHtml = 'Like what you see? Visit the ' +\n",
              "            '<a target=\"_blank\" href=https://colab.research.google.com/notebooks/data_table.ipynb>data table notebook</a>'\n",
              "            + ' to learn more about interactive tables.';\n",
              "          element.innerHTML = '';\n",
              "          dataTable['output_type'] = 'display_data';\n",
              "          await google.colab.output.renderOutput(dataTable, element);\n",
              "          const docLink = document.createElement('div');\n",
              "          docLink.innerHTML = docLinkHtml;\n",
              "          element.appendChild(docLink);\n",
              "        }\n",
              "      </script>\n",
              "    </div>\n",
              "  </div>\n",
              "  "
            ]
          },
          "metadata": {},
          "execution_count": 27
        }
      ]
    },
    {
      "cell_type": "code",
      "source": [
        "data_t.shape"
      ],
      "metadata": {
        "colab": {
          "base_uri": "https://localhost:8080/"
        },
        "id": "QrkMiNNVKrH_",
        "outputId": "2f3cd842-5d6f-4b8d-f4cf-ce96505d286d"
      },
      "execution_count": null,
      "outputs": [
        {
          "output_type": "execute_result",
          "data": {
            "text/plain": [
              "(3532, 3)"
            ]
          },
          "metadata": {},
          "execution_count": 28
        }
      ]
    },
    {
      "cell_type": "code",
      "source": [
        "print(data_t.dtypes)"
      ],
      "metadata": {
        "colab": {
          "base_uri": "https://localhost:8080/"
        },
        "id": "MSYUUjUQKuqR",
        "outputId": "95a99eb5-59e9-455a-f582-2cded3d9673a"
      },
      "execution_count": null,
      "outputs": [
        {
          "output_type": "stream",
          "name": "stdout",
          "text": [
            "text     object\n",
            "task1    object\n",
            "task2    object\n",
            "dtype: object\n"
          ]
        }
      ]
    },
    {
      "cell_type": "code",
      "source": [
        "\n",
        "\n",
        "label_t = data_t['task1']\n",
        "label_t.head()\n",
        "\n"
      ],
      "metadata": {
        "colab": {
          "base_uri": "https://localhost:8080/"
        },
        "id": "o-We4mNjKwHA",
        "outputId": "50d266b4-c7ba-4f5d-94a3-c7b7dbee740f"
      },
      "execution_count": null,
      "outputs": [
        {
          "output_type": "execute_result",
          "data": {
            "text/plain": [
              "0    NOT\n",
              "1    NOT\n",
              "2    NOT\n",
              "3    NOT\n",
              "4    HOF\n",
              "Name: task1, dtype: object"
            ]
          },
          "metadata": {},
          "execution_count": 30
        }
      ]
    },
    {
      "cell_type": "code",
      "source": [
        "print(label_t.value_counts())\n",
        "import matplotlib.pyplot as plt\n",
        "label_t.value_counts().plot(kind='bar', color='red')"
      ],
      "metadata": {
        "colab": {
          "base_uri": "https://localhost:8080/",
          "height": 346
        },
        "id": "EO_U9aM1Kxpa",
        "outputId": "3dbff3f6-b9a2-478b-da7e-27a47d715e01"
      },
      "execution_count": null,
      "outputs": [
        {
          "output_type": "stream",
          "name": "stdout",
          "text": [
            "NOT    2330\n",
            "HOF    1202\n",
            "Name: task1, dtype: int64\n"
          ]
        },
        {
          "output_type": "execute_result",
          "data": {
            "text/plain": [
              "<matplotlib.axes._subplots.AxesSubplot at 0x7ff503929650>"
            ]
          },
          "metadata": {},
          "execution_count": 33
        },
        {
          "output_type": "display_data",
          "data": {
            "text/plain": [
              "<Figure size 432x288 with 1 Axes>"
            ],
            "image/png": "[encoded data removed]"
          },
          "metadata": {
            "needs_background": "light"
          }
        }
      ]
    },
    {
      "cell_type": "code",
      "source": [
        "\n",
        "\n",
        "import numpy as np\n",
        "classes_list_t = [\"HOF\",\"NOT\"]\n",
        "label_t_index = data_t['task1'].apply(classes_list_t.index)\n",
        "final_label_t = np.asarray(label_t_index)\n",
        "print(final_label_t[:10])\n",
        "\n"
      ],
      "metadata": {
        "colab": {
          "base_uri": "https://localhost:8080/"
        },
        "id": "ckCObbaYKzZz",
        "outputId": "c7d51909-0a47-461c-c8d1-04983086d280"
      },
      "execution_count": null,
      "outputs": [
        {
          "output_type": "stream",
          "name": "stdout",
          "text": [
            "[1 1 1 1 0 1 1 1 1 0]\n"
          ]
        }
      ]
    },
    {
      "cell_type": "code",
      "source": [
        "\n",
        "\n",
        "from keras.utils.np_utils import to_categorical\n",
        "label_twoDimension_t = to_categorical(final_label_t, num_classes=2)\n",
        "\n"
      ],
      "metadata": {
        "id": "JivaT_m3K1Ww"
      },
      "execution_count": null,
      "outputs": []
    },
    {
      "cell_type": "code",
      "source": [
        "print(label_twoDimension_t[:10])"
      ],
      "metadata": {
        "colab": {
          "base_uri": "https://localhost:8080/"
        },
        "id": "U1SXNpS7K3L5",
        "outputId": "2d624a92-a02d-4b7a-d598-8b73751a8fba"
      },
      "execution_count": null,
      "outputs": [
        {
          "output_type": "stream",
          "name": "stdout",
          "text": [
            "[[0. 1.]\n",
            " [0. 1.]\n",
            " [0. 1.]\n",
            " [0. 1.]\n",
            " [1. 0.]\n",
            " [0. 1.]\n",
            " [0. 1.]\n",
            " [0. 1.]\n",
            " [0. 1.]\n",
            " [1. 0.]]\n"
          ]
        }
      ]
    },
    {
      "cell_type": "code",
      "source": [
        "\n",
        "\n",
        "text_t = data_t['text']\n",
        "text_t.head(10)\n",
        "\n"
      ],
      "metadata": {
        "colab": {
          "base_uri": "https://localhost:8080/"
        },
        "id": "B4ok6nElK4sb",
        "outputId": "fec8ee12-9d11-43b9-8db9-7b1fef52847c"
      },
      "execution_count": null,
      "outputs": [
        {
          "output_type": "execute_result",
          "data": {
            "text/plain": [
              "0                             Meine Mutter hat mir erzählt, dass mein Vater einen Wahlkreiskandidaten nicht gewählt hat, weil der gegen die Homo-Ehe ist ☺\n",
              "1    @Tom174_ @davidbest95 Meine Reaktion; |LBR| Nicht jeder Moslem ist ein Terrorist. Aber jeder Moslem glaubt an Überlieferungen, die Gewalt und Terr...\n",
              "2              #Merkel rollt dem Emir von #Katar, der islamistischen Terror unterstützt, den roten Teppich aus.Wir brauchen einen sofortigen #Waffenstopp!\n",
              "3                                                                                        „Merle ist kein junges unschuldiges Mädchen“ Kch....... 😱 #tatort\n",
              "4                                 @umweltundaktiv Asylantenflut bringt eben nur negatives für Deutschland. Drum Asylanenstop und Rückführung der Mehrzahl.\n",
              "5                                                                            @_StultaMundi Die Bibel enthält ebenfalls Gesetze des Zivil- und Strafrechts.\n",
              "6                                       @Thueringen_ @Miquwarchar @Pontifex_de Man munkelt, Franziskus ist großer \"Kiss\"- und \"Black Sabbath\"-Fan! #RockOn\n",
              "7                         @hugresch @saltomentale Seit dem ist die Gesellschaft noch einmal deutlich vielfältiger geworden, auch durch die Globalisierung.\n",
              "8                                                     \"Wenn man Mädchen bildet, bildet man Generationen\" - Aqeela Asifi, Gewinnerin des #NansenAward 2015.\n",
              "9    @FeePatzer Frauen zu einem \"Ja\" zu überreden, ist nicht selten erfolgreich. Viele Frauen wollen nicht als zu leicht zu haben angesehen werden. Ode...\n",
              "Name: text, dtype: object"
            ]
          },
          "metadata": {},
          "execution_count": 37
        }
      ]
    },
    {
      "cell_type": "code",
      "source": [
        "test_wo_umlauts = text_t.apply(lambda x: remove_umlaut(x))"
      ],
      "metadata": {
        "id": "N7fvvsExPnYn"
      },
      "execution_count": null,
      "outputs": []
    },
    {
      "cell_type": "code",
      "source": [],
      "metadata": {
        "id": "lxCHAymQPnw7"
      },
      "execution_count": null,
      "outputs": []
    },
    {
      "cell_type": "code",
      "source": [
        "\n",
        "\n",
        "import re \n",
        "\n",
        "def text_clean(text):\n",
        "    ''' Pre process and convert texts to a list of words '''\n",
        "    \n",
        "    text=text.lower()\n",
        "\n",
        "    # Clean the text\n",
        "    text = re.sub(r\"[^A-Za-z0-9^,!.\\/'+-=]\", \" \", text)\n",
        "    text = re.sub('https?://\\S+|www\\.\\S+', \"\", text)\n",
        "    text = re.sub(r\"rt\", \" \", text)\n",
        "\n",
        "    return text\n",
        "\n"
      ],
      "metadata": {
        "id": "1slTVaWDK6LP"
      },
      "execution_count": null,
      "outputs": []
    },
    {
      "cell_type": "code",
      "source": [
        "clean_text_t = test_wo_umlauts.apply(lambda x:text_clean(x))"
      ],
      "metadata": {
        "id": "P6zJo8oXK75p"
      },
      "execution_count": null,
      "outputs": []
    },
    {
      "cell_type": "code",
      "source": [
        "clean_text_t.head(10)"
      ],
      "metadata": {
        "colab": {
          "base_uri": "https://localhost:8080/"
        },
        "id": "1vIn6oXdK9ug",
        "outputId": "06a53443-0e54-4c82-903a-fafe12f3cd9a"
      },
      "execution_count": null,
      "outputs": [
        {
          "output_type": "execute_result",
          "data": {
            "text/plain": [
              "0                           meine mutter hat mir erzaehlt, dass mein vater einen wahlkreiskandidaten nicht gewaehlt hat, weil der gegen die homo-ehe ist  \n",
              "1     tom174   davidbest95 meine reaktion;  lbr  nicht jeder moslem ist ein terrorist. aber jeder moslem glaubt an ueberlieferungen, die gewalt und ter...\n",
              "2               merkel rollt dem emir von  katar, der islamistischen terror unterstuetzt, den roten teppich aus.wir brauchen einen sofo igen  waffenstopp!\n",
              "3                                                                                         merle ist kein junges unschuldiges maedchen  kch.......    tato \n",
              "4                               umweltundaktiv asylantenflut bringt eben nur negatives fuer deutschland. drum asylanenstop und rueckfuehrung der mehrzahl.\n",
              "5                                                                             stultamundi die bibel enthaelt ebenfalls gesetze des zivil- und strafrechts.\n",
              "6                                       thueringen   miquwarchar  pontifex de man munkelt, franziskus ist grosser  kiss - und  black sabbath -fan!  rockon\n",
              "7                         hugresch  saltomentale seit dem ist die gesellschaft noch einmal deutlich vielfaeltiger geworden, auch durch die globalisierung.\n",
              "8                                                     wenn man maedchen bildet, bildet man generationen  - aqeela asifi, gewinnerin des  nansenaward 2015.\n",
              "9     feepatzer frauen zu einem  ja  zu ueberreden, ist nicht selten erfolgreich. viele frauen wollen nicht als zu leicht zu haben angesehen werden. od...\n",
              "Name: text, dtype: object"
            ]
          },
          "metadata": {},
          "execution_count": 41
        }
      ]
    },
    {
      "cell_type": "code",
      "source": [
        "\n",
        "\n",
        "import nltk\n",
        "from nltk.corpus import stopwords\n",
        "nltk.download('stopwords')\n",
        "def stop_words_removal(text1):\n",
        "    text1=[w for w in  text1.split(\" \")  if w not in stopwords.words('german')]\n",
        "    return \" \".join(text1)\n",
        "\n"
      ],
      "metadata": {
        "colab": {
          "base_uri": "https://localhost:8080/"
        },
        "id": "EH37JPgIK_KB",
        "outputId": "7f847e74-86e2-4fe9-f883-445b4caccb06"
      },
      "execution_count": null,
      "outputs": [
        {
          "output_type": "stream",
          "name": "stderr",
          "text": [
            "[nltk_data] Downloading package stopwords to /root/nltk_data...\n",
            "[nltk_data]   Package stopwords is already up-to-date!\n"
          ]
        }
      ]
    },
    {
      "cell_type": "code",
      "source": [
        "clean_text_t_ns=clean_text_t.apply(lambda x: stop_words_removal(x))"
      ],
      "metadata": {
        "id": "gXxxzc59LBBX"
      },
      "execution_count": null,
      "outputs": []
    },
    {
      "cell_type": "code",
      "source": [
        "print(clean_text_t_ns.head(10))"
      ],
      "metadata": {
        "colab": {
          "base_uri": "https://localhost:8080/"
        },
        "id": "TpppvvEbLCwK",
        "outputId": "f59b55a2-917f-4eb5-9012-897bdc3469de"
      },
      "execution_count": null,
      "outputs": [
        {
          "output_type": "stream",
          "name": "stdout",
          "text": [
            "0                                                                             mutter erzaehlt, vater wahlkreiskandidaten gewaehlt hat, homo-ehe  \n",
            "1                              tom174   davidbest95 reaktion;  lbr  moslem terrorist. moslem glaubt ueberlieferungen, gewalt terror beguenstigen.\n",
            "2                            merkel rollt emir  katar, islamistischen terror unterstuetzt, roten teppich aus.wir brauchen sofo igen  waffenstopp!\n",
            "3                                                                                         merle junges unschuldiges maedchen  kch.......    tato \n",
            "4                                  umweltundaktiv asylantenflut bringt eben negatives fuer deutschland. drum asylanenstop rueckfuehrung mehrzahl.\n",
            "5                                                                                stultamundi bibel enthaelt ebenfalls gesetze zivil- strafrechts.\n",
            "6                                          thueringen   miquwarchar  pontifex de munkelt, franziskus grosser  kiss -  black sabbath -fan!  rockon\n",
            "7                                                       hugresch  saltomentale seit gesellschaft deutlich vielfaeltiger geworden, globalisierung.\n",
            "8                                                             maedchen bildet, bildet generationen  - aqeela asifi, gewinnerin  nansenaward 2015.\n",
            "9     feepatzer frauen  ja  ueberreden, selten erfolgreich. viele frauen leicht angesehen werden. moegen spiel. testen, wirklich interessie  ist.\n",
            "Name: text, dtype: object\n"
          ]
        }
      ]
    },
    {
      "cell_type": "markdown",
      "source": [
        "# Stemming"
      ],
      "metadata": {
        "id": "ekQq8jY5LGLH"
      }
    },
    {
      "cell_type": "code",
      "source": [
        "# Stemming\n",
        "from nltk.stem import SnowballStemmer \n",
        "stemmer = SnowballStemmer(\"german\")\n",
        "\n",
        "def word_stemmer(text):\n",
        "    stem_text = \"\".join([stemmer.stem(i) for i in text])\n",
        "    return stem_text"
      ],
      "metadata": {
        "id": "tpl3ie1dLEH4"
      },
      "execution_count": null,
      "outputs": []
    },
    {
      "cell_type": "code",
      "source": [
        "clean_text_t_stem = clean_text_t_ns.apply(lambda x : word_stemmer(x))"
      ],
      "metadata": {
        "id": "7TziiQXoLIBA"
      },
      "execution_count": null,
      "outputs": []
    },
    {
      "cell_type": "code",
      "source": [
        "print(clean_text_t_stem.head(10))"
      ],
      "metadata": {
        "colab": {
          "base_uri": "https://localhost:8080/"
        },
        "id": "XasJI_bZLJna",
        "outputId": "2137d757-2903-4a4f-ed23-ef0c8a401be4"
      },
      "execution_count": null,
      "outputs": [
        {
          "output_type": "stream",
          "name": "stdout",
          "text": [
            "0                                                                             mutter erzaehlt, vater wahlkreiskandidaten gewaehlt hat, homo-ehe  \n",
            "1                              tom174   davidbest95 reaktion;  lbr  moslem terrorist. moslem glaubt ueberlieferungen, gewalt terror beguenstigen.\n",
            "2                            merkel rollt emir  katar, islamistischen terror unterstuetzt, roten teppich aus.wir brauchen sofo igen  waffenstopp!\n",
            "3                                                                                         merle junges unschuldiges maedchen  kch.......    tato \n",
            "4                                  umweltundaktiv asylantenflut bringt eben negatives fuer deutschland. drum asylanenstop rueckfuehrung mehrzahl.\n",
            "5                                                                                stultamundi bibel enthaelt ebenfalls gesetze zivil- strafrechts.\n",
            "6                                          thueringen   miquwarchar  pontifex de munkelt, franziskus grosser  kiss -  black sabbath -fan!  rockon\n",
            "7                                                       hugresch  saltomentale seit gesellschaft deutlich vielfaeltiger geworden, globalisierung.\n",
            "8                                                             maedchen bildet, bildet generationen  - aqeela asifi, gewinnerin  nansenaward 2015.\n",
            "9     feepatzer frauen  ja  ueberreden, selten erfolgreich. viele frauen leicht angesehen werden. moegen spiel. testen, wirklich interessie  ist.\n",
            "Name: text, dtype: object\n"
          ]
        }
      ]
    },
    {
      "cell_type": "code",
      "source": [
        "\n",
        "\n",
        "import keras\n",
        "import tensorflow\n",
        "from keras.preprocessing.text import Tokenizer\n",
        "tok_test = Tokenizer(filters='!\"#$%&\\'()*+,-./:;<=>?@[\\\\]^_`{|}~', lower=True, char_level = False)\n",
        "tok_test.fit_on_texts(clean_text_t_stem)\n",
        "\n"
      ],
      "metadata": {
        "id": "heX7pGrELLAq"
      },
      "execution_count": null,
      "outputs": []
    },
    {
      "cell_type": "code",
      "source": [
        "\n",
        "\n",
        "vocabulary_all_test = len(tok_test.word_counts)\n",
        "print(vocabulary_all_test)\n",
        "\n"
      ],
      "metadata": {
        "colab": {
          "base_uri": "https://localhost:8080/"
        },
        "id": "i0deLjofLMxh",
        "outputId": "f54150b8-257c-4a3d-c8e6-923cfbfed077"
      },
      "execution_count": null,
      "outputs": [
        {
          "output_type": "stream",
          "name": "stdout",
          "text": [
            "11999\n"
          ]
        }
      ]
    },
    {
      "cell_type": "code",
      "source": [
        "test_list = tok_test.word_index\n",
        "print(test_list)"
      ],
      "metadata": {
        "colab": {
          "base_uri": "https://localhost:8080/"
        },
        "id": "7aNXyczTLOTE",
        "outputId": "49f5a1bd-0135-43a5-be72-10b1f3913588"
      },
      "execution_count": null,
      "outputs": [
        {
          "output_type": "stream",
          "name": "stdout",
          "text": [
            "{'lbr': 1, 'fuer': 2, 'ja': 3, 'spd': 4, 'thomasmichael71': 5, 'mal': 6, 'miatamuc': 7, 'afd': 8, 'deutschland': 9, 'mehr': 10, 'frauen': 11, 'schon': 12, 'immer': 13, 'ist': 14, 'merkel': 15, 'mountainman1977': 16, 'gibt': 17, 'geht': 18, 'ueber': 19, 'nicht': 20, 'd': 21, 'beck': 22, 'e': 23, 'wer': 24, 'frau': 25, 'ma': 26, 'menschen': 27, 'gruenen': 28, 'werden': 29, 'pa': 30, 'heute': 31, 'rspctfl': 32, 'leben': 33, 'warum': 34, 'gut': 35, 'deutsche': 36, 'en': 37, 'ei': 38, 'houelle': 39, 'recht': 40, 'innenwelttramp': 41, 'waere': 42, 'haben': 43, 'koennen': 44, 'sein': 45, 'muessen': 46, 'cdu': 47, 'eigentlich': 48, 'deutschen': 49, 'ksemann2': 50, 'drkassandrapari': 51, 'wuerde': 52, 'genau': 53, 'f': 54, 'steht': 55, 'macht': 56, 'welt': 57, 've': 58, 'a': 59, 'tom174': 60, 'konseqliberal': 61, 'ergroovt': 62, 'einfach': 63, 'liebe': 64, 'nein': 65, 'besser': 66, 'islam': 67, 'endlich': 68, 'maenner': 69, 'fdp': 70, 'sind': 71, 'darf': 72, 'lassen': 73, 'kommt': 74, 'tun': 75, 'amp': 76, 'danke': 77, 'seit': 78, 'sj': 79, 'org': 80, 'u': 81, 'groko': 82, 'ha': 83, 'tschonka': 84, 'land': 85, 'gbs': 86, 'ganz': 87, 'fluechtlinge': 88, 'oadiakosmos': 89, 'fjordspringer': 90, 'schnubb36': 91, '3rd': 92, 'stone': 93, 'sun': 94, 'gselsbaer': 95, 'transsimian': 96, 'alfredandpaul': 97, 'tombell46959788': 98, 'kosmosoadia': 99, 'druzim': 100, 'dasebenbild': 101, 'apuleius': 102, 'karlrahner': 103, 'veronikusz': 104, 'ladyleliana': 105, 'vjanusch': 106, 'helma': 107, 'ifw': 108, 'stefanolix': 109, 'volk': 110, 'ab': 111, 'bundestag': 112, 'finde': 113, 'claudia': 114, 'wurde': 115, 'zeichentaten': 116, 'gerade': 117, 'hat': 118, 'gesellschaft': 119, 'herr': 120, 'lieber': 121, '1': 122, 'wdr': 123, 'nie': 124, 's': 125, 'freunde': 126, 'stapelchipsyt': 127, 'politik': 128, 'zeit': 129, 'spdde': 130, 'wird': 131, 'europa': 132, '2': 133, 'an': 134, 'mann': 135, 'freiheit': 136, 'sieht': 137, 'haette': 138, 'juden': 139, 'so': 140, 'hast': 141, 'inschulz': 142, 'richtig': 143, 'aus': 144, 'klar': 145, 'raus': 146, 'gott': 147, 'leider': 148, 'csu': 149, 'gewalt': 150, 'noafd': 151, 'auf': 152, 'berlin': 153, 'dafuer': 154, 'bereits': 155, 'gar': 156, 'gruene': 157, 'sagt': 158, 'erst': 159, 'de': 160, 'auswae': 161, 'ne': 162, 'vielleicht': 163, 'na': 164, 'problem': 165, 'tato': 166, 'wirklich': 167, 'lindner': 168, 'zeitonline': 169, 'scheisse': 170, 'dasstimmvieh': 171, 'linke': 172, 'ach': 173, 'indomig': 174, 'sofo': 175, 'religion': 176, 'jusos': 177, 'wegen': 178, 'beim': 179, 'regierung': 180, 'glaube': 181, 'kinder': 182, 'aktuellestunde': 183, 'dabei': 184, 'feminismus': 185, 'viele': 186, 'wohl': 187, 'arsch': 188, 'tag': 189, 'natuerlich': 190, 'we': 191, 'geben': 192, 'helgethiessen': 193, 'me': 194, 'gehen': 195, 'das': 196, 'sollten': 197, 'gehoe': 198, 'frage': 199, 'sagen': 200, 'schmarotzer': 201, 'tn': 202, 'ericca': 203, 'mensmum': 204, 'ganze': 205, 'duerfen': 206, 'ein': 207, 'weiss': 208, 'halt': 209, 'rechte': 210, 'statt': 211, 'joehellback': 212, 'alexa': 213, 'jung60': 214, 'mohrenpost': 215, 'npd': 216, 'egal': 217, 'schulz': 218, 'geschlecht': 219, 'do': 220, 'verantwo': 221, 'tuerkei': 222, 'bitte': 223, 'jahr': 224, 'weniger': 225, 'bleiben': 226, 'neuen': 227, 'sollen': 228, 'sei': 229, 'sehen': 230, 'unserer': 231, 'c': 232, 'glauben': 233, 'heisst': 234, 'schockadin': 235, 'kommen': 236, 'volker': 237, 'ard': 238, 'jahren': 239, 'gute': 240, 'staat': 241, 'stimmt': 242, 'moechte': 243, 'sie': 244, 'fakt': 245, 'allesevolution': 246, 'paedophile': 247, 'tevsa': 248, 'uhr': 249, 'amt': 250, 'namiimon': 251, 'sexuelle': 252, '4': 253, 'machen': 254, 'dank': 255, 'seid': 256, 'die': 257, 'politiker': 258, 'war': 259, 'ganzen': 260, 'eben': 261, 'meinung': 262, '10': 263, 'israel': 264, 'erwa': 265, 'zukunft': 266, 'bleibt': 267, 'geld': 268, 'roth': 269, 'nahles': 270, 'maischberger': 271, 'eu': 272, 'genug': 273, 'wann': 274, 'gemacht': 275, 'demokratie': 276, 'gerne': 277, 'tbb': 278, 'sogar': 279, 'gleich': 280, 'antwo': 281, 'gottes': 282, 'allerdings': 283, 'will': 284, 'antisemitismus': 285, 'zdf': 286, 'us': 287, 'brauchen': 288, 'usa': 289, '2017': 290, 'tweet': 291, 'es': 292, '5': 293, 'b': 294, '3': 295, 'fxn': 296, 'jemand': 297, 'uebrigens': 298, 'eien': 299, 'linken': 300, 'krippmarie': 301, 'asylanten': 302, 'ich': 303, 'wissen': 304, 'opfer': 305, 'sicher': 306, 'augen': 307, 'cayvl': 308, 'deutschlands': 309, 'bild': 310, 'nur': 311, 'gwen': 312, 'ny': 313, 'lesen': 314, 'frankyb122': 315, 'zurueck': 316, 'nazis': 317, 'ueberhaupt': 318, 'ba': 319, 'braucht': 320, 'deshalb': 321, 'ekdsynode': 322, 'gewaehlt': 323, 'igen': 324, 'stultamundi': 325, 'nazi': 326, 'ige': 327, 'sex': 328, 'mensch': 329, 'sicherheit': 330, 'z': 331, 'maennern': 332, 'miro': 333, 'denken': 334, 'fast': 335, 'wurden': 336, 'christen': 337, 'et': 338, 'neue': 339, 'beispiel': 340, 'vor': 341, 'denen': 342, 'lsvd': 343, 'abgefuckten': 344, 'voll': 345, 'koennte': 346, 'sehe': 347, 'kopftuch': 348, 'etwa': 349, 'belaestigung': 350, 'davon': 351, 'teil': 352, 'aber': 353, 'haetten': 354, 'darauf': 355, 'stolz': 356, 'denunzianten': 357, 'wenig': 358, 'alles': 359, 'morgen': 360, 'oh': 361, 'pack': 362, 'grund': 363, 'zeigt': 364, 'geschichte': 365, 'is': 366, 'wahr': 367, 'muslime': 368, 'heil': 369, 'auch': 370, 'zwei': 371, 'kann': 372, 'wuensche': 373, 'helfen': 374, 'rechten': 375, 'interessie': 376, 'arbeiten': 377, 'dagegen': 378, 'stasi': 379, 'bundesregierung': 380, 'redet': 381, 'nix': 382, 'ende': 383, 'karl': 384, 'jahre': 385, 'lange': 386, 'seite': 387, 'bloed': 388, 'reden': 389, 'schwul': 390, 'anna': 391, 'ostkueste': 392, 'deren': 393, 'stehen': 394, 'ikel': 395, 'freies': 396, 'grosse': 397, 'daran': 398, 'moderatorin': 399, 'eher': 400, 'stimme': 401, 'bekommen': 402, 'sklaven': 403, 'waldenmonk': 404, 'natur': 405, 'ung': 406, '000': 407, 'buerger': 408, 'denkt': 409, 'zissey': 410, 'waehlen': 411, 'niemals': 412, 'wichtig': 413, 'jamaika': 414, 'finden': 415, 'passt': 416, 'feepatzer': 417, 'also': 418, 'lasst': 419, 'probleme': 420, 'beatrix': 421, 'vstorch': 422, 'gesehen': 423, 'deutscher': 424, 'oezdemir': 425, '100': 426, 'vielen': 427, 'heikomaas': 428, 'verlierer50': 429, 'derdoktorant': 430, 'niemand': 431, 'kirche': 432, 'tagesspiegel': 433, 'bekommt': 434, 'sawsanchebli': 435, 'islamisten': 436, 'system': 437, '9': 438, 'weder': 439, 'ddr': 440, 'illner': 441, 'sakoelabo': 442, 'echt': 443, 'schoen': 444, 'weg': 445, 'aberfair': 446, 'thema': 447, 'alten': 448, 'bringen': 449, 'sowas': 450, 'bald': 451, 'bahn': 452, 'waehler': 453, 'kannst': 454, 'worden': 455, 'bibel': 456, 'stegner': 457, 'du': 458, '11': 459, 'groesste': 460, 'netreaper': 461, 'grossen': 462, 'thiloadamitz': 463, 'lauterbach': 464, 'jedenfalls': 465, 'lanz': 466, 'prozent': 467, 'aussage': 468, 'mittlerweile': 469, 'gesagt': 470, 'iina': 471, 'unterschied': 472, 'maas': 473, 'hoffe': 474, 'schneeridara': 475, 'goeringeckardt': 476, 'suppo': 477, 'gender': 478, 'gruen': 479, 'schande': 480, 'integration': 481, 'tut': 482, 'respekt': 483, 'twitter': 484, 'syrien': 485, 'selber': 486, 'schoenen': 487, 'kaempft': 488, 'thesme': 489, 'erdogan': 490, 'moslems': 491, 'laecherlich': 492, 'mehrheit': 493, 'wir': 494, 'hugresch': 495, 'saltomentale': 496, 'sigmargabriel': 497, 'hass': 498, 'neodeutscher': 499, 'familie': 500, 'l': 501, 'bruck': 502, '68': 503, 'nadine': 504, 'wicke': 505, 'suchen': 506, 'eilen': 507, 'abgefuckte': 508, 'leute': 509, 'hoffentlich': 510, 'schafft': 511, 'dreck': 512, 'spdbt': 513, 'kaum': 514, 'steinmeier': 515, 'politische': 516, 'habt': 517, 'ey': 518, 'zersetzung': 519, 'alte': 520, 'alt': 521, 'islamischen': 522, 'scheiss': 523, 'dumm': 524, '30': 525, 'joemino': 526, 'groessten': 527, 'ueberall': 528, 'h': 529, 'eigenen': 530, 'm': 531, 'daher': 532, 'schlecht': 533, 'bedford': 534, 'strohm': 535, 'hand': 536, 'falsch': 537, 'nehmen': 538, 'rechts': 539, 'hose': 540, 'koalition': 541, 'hube': 542, 'trotzdem': 543, 'flucht': 544, 'haelt': 545, 'mit': 546, 'zeiten': 547, 'nennt': 548, '15': 549, 'schlimm': 550, 'krieg': 551, 'o': 552, 'spiel': 553, 'strunzdumm': 554, 'botschaft': 555, 'der': 556, 'weiter': 557, 'willst': 558, 'oesterreich': 559, 'rede': 560, 'verloren': 561, '20': 562, 'hilfe': 563, 'ausser': 564, 'neythomas': 565, 'wittenberg': 566, 'wahrheit': 567, 'meyermit': 568, 'freien': 569, '12': 570, 'ideologie': 571, 'ig': 572, 'mut': 573, 'teufel': 574, 'sich': 575, 'bayern': 576, '27': 577, 'verbrecher': 578, 'damals': 579, 'muss': 580, 'swagenknecht': 581, 'hunde': 582, 'doch': 583, 'auslaender': 584, '19': 585, 'findet': 586, 'studies': 587, 'tatsaechlich': 588, 'palmer': 589, 'atheisten': 590, 'bestimmt': 591, 'all': 592, 'bonn': 593, 'tragen': 594, 'da': 595, 'ichwars': 596, 'zdfheute': 597, 'abschieben': 598, 'tod': 599, 'darueber': 600, 'letzten': 601, 'neu': 602, 'suzimiya': 603, 'kittypunk7': 604, 'wollen': 605, 'kopf': 606, 'ekd': 607, 'behauptet': 608, 'sci': 609, 'fanboi': 610, 'xxxopexobxxx': 611, 'los': 612, 'steinbacherika': 613, 'nimmt': 614, 'junge': 615, 'ersten': 616, 'gegenueber': 617, 'bin': 618, 'eh': 619, 'behandelt': 620, 'bund': 621, 'gauck': 622, 'ralf': 623, 'verrecken': 624, 'usw': 625, 'scheinheilgste': 626, 'frueher': 627, 'clydevpg': 628, 'verdient': 629, 'besteht': 630, 'solange': 631, 'laesst': 632, 'union': 633, 'cem': 634, 'bist': 635, 'jetzt': 636, 'zeichen': 637, 'whetzler': 638, 'handeln': 639, 'weit': 640, 'gabriel': 641, 'tiere': 642, 'gilt': 643, 'dennoch': 644, 'kultur': 645, 'koran': 646, 'tagesschau': 647, 'bio': 648, 'kischeph': 649, 'ekelhaft': 650, 'hannes': 651, 'elefant': 652, 'chsascha': 653, 'pfui': 654, 'freue': 655, 'unbekannnt': 656, 'geist': 657, 'begriff': 658, 'links': 659, 'polizei': 660, 'helheimer': 661, '14': 662, 'was': 663, 'landesbischof': 664, 'verstehen': 665, 'passie': 666, 'ging': 667, 'neba17': 668, 'bloss': 669, 'mich': 670, 'frei': 671, 'sendung': 672, 'heimat': 673, '2016': 674, 'wi': 675, 'schaft': 676, 'muesste': 677, 'direkt': 678, 'zahlen': 679, 'hinweis': 680, 'mag': 681, 'sonntag': 682, 'mdr': 683, 'm8flo': 684, 'bolzandrea': 685, 'lgnimag': 686, 'nordicskulled': 687, 'coffee': 688, 'grind': 689, 'chinasky64a': 690, 'regieren': 691, 'wollten': 692, 'aendern': 693, 'mio': 694, 'rot': 695, '18': 696, 'sagte': 697, 'denke': 698, 'rentner': 699, 'kjempeslu': 700, 'erkennen': 701, 'drei': 702, 'unsinn': 703, 'innen': 704, 'nsu': 705, 'euch': 706, 'folgen': 707, 'obergrenze': 708, 'kotzen': 709, 'wieso': 710, 'fettigen': 711, 'haaren': 712, 'kennen': 713, 'wahlen': 714, 'hetero': 715, 'ehe': 716, 'glaubt': 717, 'terror': 718, 'maedchen': 719, 'drum': 720, 'mariobuchinger': 721, 'vt2017': 722, 'gefueh': 723, 'manila': 724, 'obwohl': 725, 'kampf': 726, 'halten': 727, 'tweets': 728, 'lucasschoppe1': 729, 'hoeren': 730, 'ziemlich': 731, 'je': 732, 'maurice': 733, 'breuer': 734, 'kindern': 735, 'gemeinsam': 736, 'abschaum': 737, 'meinungsfreiheit': 738, 'geil': 739, 'sozis': 740, 'dazu': 741, 'stadt': 742, 'dann': 743, 'oben': 744, 'nrw': 745, 'insbesondere': 746, 'arbeitet': 747, 'forde': 748, 'rassismus': 749, 'landes': 750, 'stellt': 751, 'gab': 752, 'glueckwunsch': 753, 'facebook': 754, 'altpa': 755, 'medien': 756, 'solidaritaet': 757, 'gesamte': 758, 'hi': 759, 'korrekt': 760, 'zusammen': 761, 'fragt': 762, 'zumindest': 763, 'grenzen': 764, 'gutes': 765, 'padit1337': 766, 'cducsubt': 767, 'text': 768, 'heuchler': 769, 'sager': 770, 'er': 771, 'glueck': 772, 'deintherapeut': 773, 'fs': 774, 'angst': 775, 'familien': 776, 'spricht': 777, 'besten': 778, 'alle': 779, 'wahl': 780, 'eigene': 781, 'muenchen': 782, 'stimmen': 783, 'politischen': 784, 'schnell': 785, 'weidenkatzl': 786, 'setzt': 787, 'hetze': 788, 'tuerken': 789, 'waehlt': 790, 'kennt': 791, 'rein': 792, 'verbieten': 793, 'religioese': 794, 'allein': 795, 'mehrere': 796, 'deswegen': 797, 'weihnachten': 798, 'fluechtlingen': 799, 'feie': 800, 'voellig': 801, 'mutter': 802, 'deutlich': 803, 'afrika': 804, 'weisst': 805, 'i': 806, 'kosten': 807, 'weibliche': 808, 'liegt': 809, 'geh': 810, 'fussball': 811, 'schauen': 812, 'menschenverachtung': 813, 'waffen': 814, 'gesetz': 815, 'erfolg': 816, 'bevoelkerung': 817, 'balleryna': 818, 'schliesslich': 819, 'neues': 820, 'faz': 821, 'soziale': 822, 'glyphosat': 823, 'kritik': 824, 'gebracht': 825, 'punkt': 826, 'film': 827, 'huebner': 828, 'law': 829, 'arbeit': 830, 'falsche': 831, 'informationen': 832, 'gelten': 833, 'interessant': 834, 'bisher': 835, 'erklae': 836, 'petpanther0': 837, 'vorher': 838, 'laenger': 839, 'religionen': 840, 'zerstoe': 841, 'lieben': 842, 'schuld': 843, 'npdde': 844, 'christoph': 845, 'scottiracer': 846, 'ziehen': 847, 'online': 848, 'sozi': 849, 'dielinke': 850, 'jim': 851, 'beau': 852, 'wuerden': 853, 'neben': 854, 'flyingtomoon': 855, 'mo': 856, 'imer': 857, 'niels': 858, 'rechtsstaat': 859, 'vergessen': 860, 'haut': 861, 'igesamt': 862, 'san': 863, 'stellen': 864, 'hilft': 865, 'connor': 866, 'larkin': 867, 'asyl': 868, 'ehrlich': 869, 'gehoeren': 870, 'letzte': 871, 'ichbinmuckmuck': 872, 'tonino85': 873, 'platz': 874, 'heissen': 875, 'darin': 876, 'um': 877, 'eltern': 878, '8': 879, 'kirchentag': 880, 'zeigen': 881, 'dadurch': 882, 'fahren': 883, 'faellt': 884, '13': 885, 'mitglieder': 886, 'freiwillig': 887, 'feministen': 888, 'uns': 889, 'bstu': 890, 'live': 891, 'erfahren': 892, 'fehlt': 893, 'unterlagen': 894, 'reten': 895, 'klasse': 896, 'laut': 897, 'jahres': 898, 'wissenschaft': 899, 'pro': 900, 'salafisten': 901, 'zu': 902, 'tja': 903, 'davidbest95': 904, 'moslem': 905, 'gesetze': 906, 'wen': 907, 'schwarz': 908, 'koennt': 909, '28': 910, 'hier': 911, 'stark': 912, 'immerhin': 913, 'bett': 914, 'grundsaetzlich': 915, 'kirchen': 916, 'kraft': 917, 'ns': 918, 'regime': 919, 'jugend': 920, 'via': 921, 'sed': 922, 'joeygerlach': 923, 'spitze': 924, 'rente': 925, 'gerechtigkeit': 926, 'basis': 927, 'israels': 928, 'annewill': 929, 'linksgruene': 930, 'propaganda': 931, 'und': 932, 'bonkekolja': 933, 'mz': 934, 'lass': 935, 'dinge': 936, 'kurz': 937, 'bieten': 938, 'christentum': 939, 'ruhe': 940, 'wussten': 941, 'woche': 942, 'grad': 943, 'untergang': 944, 'donbarbone': 945, 'sag': 946, 'sorry': 947, 'mama': 948, 'essen': 949, 'verstehe': 950, 'bestimmte': 951, 'schwule': 952, 'kleidung': 953, 'leisten': 954, 'patriotismus': 955, 'aposener': 956, 'hab': 957, 'sh': 958, 'npdwittenberg': 959, 'offen': 960, 'herzlichen': 961, 'gleiche': 962, 'preis': 963, 'staatsbuerger': 964, 'erinne': 965, 'darum': 966, 'verhindern': 967, 'fr': 968, 'reformationsjubilaeum': 969, 'lebt': 970, 'mir': 971, 'n': 972, 'btw17': 973, 'meisten': 974, 'tagen': 975, 'ziel': 976, 'bekannt': 977, 'info': 978, 'geschrieben': 979, 'wenn': 980, 'ergebnis': 981, 'westminster1000': 982, 'schreibt': 983, 'werdet': 984, 'gehabt': 985, 'lich': 986, 'hoelle': 987, 'fueh': 988, 'berichtet': 989, 'verhinde': 990, 'migranten': 991, 'ueberleben': 992, 'kleine': 993, 'everlast': 994, '6': 995, 'voller': 996, 'olewahr': 997, 'erlebt': 998, 'christlichen': 999, 'verkaufen': 1000, 'froh': 1001, 'ick': 1002, 'geschafft': 1003, 'pfaffen': 1004, 'montagsdemogida': 1005, 'deutsches': 1006, 'erinnern': 1007, 'durchaus': 1008, 'super': 1009, 'x': 1010, 'brd': 1011, 'schoene': 1012, 'mohammed': 1013, 'muslimen': 1014, 'erstmal': 1015, 'wie': 1016, 'abend': 1017, 'kaempfen': 1018, 'gamergateblogde': 1019, 'obama': 1020, 'diskriminierung': 1021, 'noch': 1022, 'rausschmeissen': 1023, 'btw2017': 1024, 'freuen': 1025, 'gefaellt': 1026, 'namen': 1027, 'fluechtling': 1028, 'teile': 1029, 'sinn': 1030, 'erreicht': 1031, 'sage': 1032, 'studie': 1033, 'taeglich': 1034, 'ebenso': 1035, 'bmfsfj': 1036, 'guten': 1037, 'servicezeit': 1038, 'offenbar': 1039, 'lacht': 1040, 'schwachsinn': 1041, 'benjyr01': 1042, 'mach': 1043, 'realitaet': 1044, 'gelesen': 1045, 'claasen': 1046, 'nils': 1047, 'afdwuergt': 1048, 'eilt': 1049, 'schmoddrigen': 1050, 'age': 1051, 'setzen': 1052, 'vater': 1053, 'bringt': 1054, 'geworden': 1055, '2015': 1056, 'moegen': 1057, 'bastarde': 1058, 'damit': 1059, 'traurig': 1060, 'metoo': 1061, 'sollte': 1062, 'nichts': 1063, 'einst': 1064, 'stehe': 1065, 'minderheit': 1066, 'erste': 1067, 'beantwo': 1068, 'iv': 1069, 'erklaeren': 1070, 'sprechen': 1071, 'peter': 1072, 'simone': 1073, 'ehefueralle': 1074, 'judentum': 1075, 'kapitalismus': 1076, 'alter': 1077, 'dietrich': 1078, 'bonhoeffer': 1079, 'erkennt': 1080, 'dich': 1081, 'pfaffe': 1082, 'versucht': 1083, 'persoenlich': 1084, 'lehrer': 1085, 'traegt': 1086, 'sitzen': 1087, 'asiaten': 1088, 'boehmermann': 1089, 'laferlichterluther': 1090, 'schuetzen': 1091, 'wichtiger': 1092, 'stoppen': 1093, 'siehst': 1094, 'asylantenpack': 1095, 'arme': 1096, 'sexuell': 1097, 'eil': 1098, 'aufgrund': 1099, 'widerstand': 1100, 'jala': 1101, 'varietas': 1102, 'konso': 1103, 'rache': 1104, 'voelker': 1105, 'regie': 1106, 'gefallen': 1107, 'freie': 1108, 'ideen': 1109, 'selbstverstaendlich': 1110, 'wacht': 1111, 'melideluxe': 1112, 'schutz': 1113, 'geschichten': 1114, 'dialog': 1115, 'sz': 1116, 'handelt': 1117, 'annika': 1118, 'schach': 1119, 'vernichten': 1120, 'wieviel': 1121, 'bislang': 1122, 'aufnehmen': 1123, 'familiennachzug': 1124, '2018': 1125, 'habe': 1126, 'ermordet': 1127, 'dera': 1128, 'strunzdumme': 1129, 'wem': 1130, 'reicht': 1131, 'nee': 1132, 'waehrend': 1133, 'volksverraeter': 1134, 'frankfu': 1135, 'ignorie': 1136, 'frankreich': 1137, 'bezahlt': 1138, 't': 1139, 'el': 1140, 'golzheimer': 1141, 'boese': 1142, 'plan': 1143, 'hoe': 1144, 'entscheidung': 1145, 'linksfraktion': 1146, 'nacht': 1147, 'irgendwie': 1148, 'jungen': 1149, 'ner': 1150, 'spookymoth': 1151, 'jung': 1152, 'millionen': 1153, 'waeren': 1154, 'schwarzen': 1155, 'anders': 1156, 'stefanscharf': 1157, 'dd': 1158, 'gewinnen': 1159, 'naechsten': 1160, 'langsam': 1161, 'fall': 1162, 'tinido': 1163, 'herzen': 1164, 'langweilig': 1165, 'weiterhin': 1166, 'einwanderung': 1167, 'strasse': 1168, 'palaestina': 1169, 'verboten': 1170, 'veru': 1171, 'aufs': 1172, 'luegen': 1173, 'fuehren': 1174, 'hauptstadt': 1175, 'scheint': 1176, 'alleine': 1177, 'pete': 1178, 'auber': 1179, 'stecken': 1180, 'deutschpi': 1181, 'noetig': 1182, 'stunden': 1183, 'kriege': 1184, 'patriciad0305': 1185, 'ausgerechnet': 1186, 'ihr': 1187, 'fette': 1188, 'wuenschen': 1189, 'gespannt': 1190, 'mdraktuell': 1191, 'danach': 1192, 'hetzen': 1193, 'praeses': 1194, 'schwaetzer': 1195, 'scheisst': 1196, 'schwer': 1197, 'orf': 1198, 'autos': 1199, 'gelder': 1200, 'fliehen': 1201, 'ah': 1202, 'umbilicussuevia': 1203, 'neuwahlen': 1204, 'weh': 1205, 'botschaften': 1206, 'typisch': 1207, 'deutsch': 1208, 'ausserdem': 1209, 'besonders': 1210, 'derspiegel': 1211, 'gern': 1212, 'gibts': 1213, 'maul': 1214, 'staendig': 1215, 'rv': 1216, 'gefahr': 1217, 'alternativends': 1218, 'diskussion': 1219, 'laendern': 1220, 'laeuft': 1221, 'paar': 1222, 'spielen': 1223, 'wende': 1224, '80': 1225, 'dumme': 1226, 'berichten': 1227, 'ruecksicht': 1228, 'entgegen': 1229, 'strunz': 1230, 'axel': 1231, 'nach': 1232, 'bundeswehr': 1233, 'incirlik': 1234, 'fuers': 1235, 'schieritz': 1236, 'ernst': 1237, 'quatsch': 1238, 'vorsitzende': 1239, 'hilbig': 1240, 'hoch': 1241, 'gegenteil': 1242, 'asylschmarotzer': 1243, 'frieden': 1244, 'westen': 1245, 'anspruch': 1246, 'geniessen': 1247, 'milliarden': 1248, 'jedemequality': 1249, 'wieder': 1250, 'nochmal': 1251, 'bezahlen': 1252, 'fraktion': 1253, 'v': 1254, 'focusonline': 1255, 'wahrscheinlich': 1256, 'gefaehrlich': 1257, 'bevor': 1258, 'jo': 1259, 'verhalten': 1260, 'diskutieren': 1261, 'behaupten': 1262, 'rueckgrat': 1263, 'yvonne': 1264, 'willicks': 1265, 'fressen': 1266, 'leid': 1267, 'hause': 1268, 'fe': 1269, 'anschlag': 1270, 'vs': 1271, 'rechter': 1272, 'bedeutet': 1273, 'minderheitsregierung': 1274, 'treue': 1275, 'mdl': 1276, 'muell': 1277, 'bernd': 1278, 'haus': 1279, 'kind': 1280, 'gegeben': 1281, 'zwingen': 1282, '00': 1283, 'untera': 1284, 'faschisten': 1285, 'berliner': 1286, 'ibikus31': 1287, 'fresse': 1288, 'schwulen': 1289, 'oeffentlich': 1290, 'leipzig': 1291, 'dass': 1292, 'sicht': 1293, 'lang': 1294, 'rolandtichy': 1295, 'aufstehen': 1296, 'ebenfalls': 1297, 'leicht': 1298, 'symbol': 1299, 'meinst': 1300, 'dittmar': 1301, 'katrin': 1302, 'internet': 1303, 'nutzen': 1304, 'heiligen': 1305, 'entschieden': 1306, 'vie': 1307, 'geschlechter': 1308, 'mache': 1309, 'saudi': 1310, 'situation': 1311, 'jemen': 1312, 'beiden': 1313, 'menschenrechten': 1314, 'posten': 1315, 'erlaubt': 1316, 'mitarbeiter': 1317, 'konsequenzen': 1318, 'tradition': 1319, 'hoecke': 1320, 'gelernt': 1321, 'kuehnikev': 1322, 'kollektivismus': 1323, 'bedenken': 1324, 'doof': 1325, 'niedersachsen': 1326, 'friedman': 1327, 'parlament': 1328, 'beste': 1329, 'aufgeklae': 1330, 'heribe': 1331, 'prantl': 1332, 'eile': 1333, 'per': 1334, 'jcm': 1335, 'achim7871': 1336, 'bzw': 1337, 'wahnsinn': 1338, 'afdberlin': 1339, 'stand': 1340, 'these': 1341, 'hadithe': 1342, 'schreiben': 1343, 'xyeinzelfall': 1344, 'getan': 1345, 'klein': 1346, 'wenigstens': 1347, 'zusammenhang': 1348, 'anhaenger': 1349, 'schwein': 1350, 'eier': 1351, 'alice': 1352, 'weidel': 1353, 'hollsteinm': 1354, 'antisemitischen': 1355, 'zuvor': 1356, 'andrea': 1357, 'gleichzeitig': 1358, 'gehe': 1359, 'gewesen': 1360, 'suche': 1361, 'fremden': 1362, 'sozialdemokraten': 1363, 'merkels': 1364, 'maybritillner': 1365, 'unrecht': 1366, 'eilung': 1367, 'oft': 1368, 'hoffen': 1369, 'betroffenen': 1370, 'lsvdsaar': 1371, 'minderheiten': 1372, 'liefe': 1373, 'luther': 1374, 'littlewisehen': 1375, 'gruenden': 1376, 'apfel': 1377, 'drittesgeschlecht': 1378, 'ecke': 1379, 'musst': 1380, 'buch': 1381, 'dummkoepfe': 1382, 'radikal': 1383, 'taff': 1384, 'muesst': 1385, 'lage': 1386, 'matt': 1387, 'espunkt': 1388, 'merken': 1389, 'un': 1390, 'interview': 1391, 'dran': 1392, 'komplett': 1393, 'halte': 1394, 'gestalten': 1395, 'angewiesen': 1396, 'manchmal': 1397, 'schoener': 1398, 'freund': 1399, 'nervt': 1400, 'christliche': 1401, 'larswinter': 1402, 'bolschewismus': 1403, 'wunde': 1404, 'sexualitaet': 1405, 'mindestens': 1406, 'bwspricht': 1407, 'auto': 1408, '25': 1409, 'moeglich': 1410, 'keine': 1411, 'erleben': 1412, 'widerlich': 1413, 'tatsache': 1414, 'lernen': 1415, 'wach': 1416, 'schlimmer': 1417, 'hamburg': 1418, 'jerusalem': 1419, 'dienst': 1420, 'fraukepetry': 1421, 'sorgt': 1422, 'tat': 1423, 'knast': 1424, 'jude': 1425, 'china': 1426, 'orban': 1427, 'wies': 1428, 'himmel': 1429, 'sth': 1430, 'anschauen': 1431, 'riexinger': 1432, 'bundestagswahl': 1433, 'jedoch': 1434, 'idee': 1435, 'retten': 1436, 'urlaub': 1437, 'gg': 1438, '0': 1439, 'meistens': 1440, 'kaempfe': 1441, 'hevellia64': 1442, 'taeter': 1443, 'denk': 1444, 'krank': 1445, 'toleranz': 1446, 'kanzlerin': 1447, 'europas': 1448, 'nogroko': 1449, 'anti': 1450, 'ka': 1451, 'schlafmichel': 1452, 'weitere': 1453, 'crossss': 1454, 'bommel': 1455, 'rockt': 1456, 'herz': 1457, 'schlabonski': 1458, 'fo': 1459, 'akifpirincci': 1460, 'willen': 1461, 'follower': 1462, 'willkommen': 1463, 'christian': 1464, 'belaestigt': 1465, 'aba': 1466, 'opfern': 1467, 'verstaendnis': 1468, 'gedenken': 1469, 'sexismus': 1470, 'bildung': 1471, 'gestern': 1472, 'profil': 1473, 'stoll': 1474, 'erzbistumhh': 1475, 'strafe': 1476, 'allzu': 1477, 'antrag': 1478, 'abstimmung': 1479, 'abzug': 1480, 'drauf': 1481, 'scheinheilige': 1482, 'gleichberechtigung': 1483, 'tv': 1484, 'steuerzahler': 1485, 'entscheiden': 1486, 'heutigen': 1487, 'radikalen': 1488, 'ltwnds17': 1489, 'pass': 1490, 'notwendig': 1491, 'beenden': 1492, 'genommen': 1493, 'droht': 1494, 'ruhig': 1495, 'verstanden': 1496, 'amtes': 1497, 'boesen': 1498, 'schwarze': 1499, 'bloedsinn': 1500, 'tochter': 1501, 'eins': 1502, 'irgendwo': 1503, 'davor': 1504, 'tief': 1505, 'debatte': 1506, 'akten': 1507, 'glaubst': 1508, '09': 1509, 'wohlstand': 1510, 'achtpanther': 1511, 'heuchelei': 1512, 'fragen': 1513, 'weiblichkeit': 1514, 'naemlich': 1515, 'r': 1516, 'erkannt': 1517, 'neger': 1518, 'offensichtlich': 1519, 'gezwungen': 1520, 'freiheiten': 1521, 'euro': 1522, 'morgenmagazin': 1523, 'gestellt': 1524, 'entwicklung': 1525, 'schlechter': 1526, 'schaeuble': 1527, 'reter': 1528, 'ulfposh': 1529, 'awillburger': 1530, 'gesellschaftliche': 1531, 'hauptsache': 1532, 'kleiner': 1533, '7': 1534, 'papst': 1535, 'demo': 1536, 'marx': 1537, 'passieren': 1538, 'sterben': 1539, 'lies': 1540, 'robinalexander': 1541, 'osten': 1542, 'kulturen': 1543, 'funktionie': 1544, 'fenster': 1545, 'tuebingen': 1546, 'peterpa34083139': 1547, 'hilfetelefon': 1548, 'diejenigen': 1549, 'trump': 1550, 'schade': 1551, 'raum': 1552, 'account': 1553, 'lawyerberlin': 1554, 'ziv': 1555, 'frag': 1556, 'job': 1557, 'abgeordneten': 1558, 'volkes': 1559, 'gruppe': 1560, 'stueck': 1561, 'ewig': 1562, 'ohne': 1563, 'abhaengig': 1564, 'kicher': 1565, 'erzaehlt': 1566, 'homo': 1567, 'reaktion': 1568, 'islamistischen': 1569, 'roten': 1570, 'grosser': 1571, 'fan': 1572, 'ivyandwoe': 1573, 'heuteshow': 1574, '21': 1575, 'jahrzehnten': 1576, 'grundgesetz': 1577, 'erreichen': 1578, 'geklae': 1579, 'wind': 1580, 'dummschwaetzer': 1581, 'dobrindt': 1582, 'geschlossen': 1583, 'kaeme': 1584, 'vorhanden': 1585, 'logik': 1586, 'tschuess': 1587, 'arabien': 1588, 'mist': 1589, 'schulen': 1590, 'unterricht': 1591, 'ismail': 1592, 'kupeli': 1593, 'demnaechst': 1594, 'dr': 1595, 'och': 1596, 'joerg': 1597, 'meuthen': 1598, 'erfahrungen': 1599, 'man': 1600, 'deppen': 1601, 'verraten': 1602, 'verwendet': 1603, 'hugomuellervogg': 1604, 'werfen': 1605, 'kinderfickerpa': 1606, 'extrem': 1607, 'spass': 1608, 'kriechen': 1609, 'quelle': 1610, 'kontext': 1611, 'beziehungen': 1612, 'griechen': 1613, 'voru': 1614, 'ronzheimer': 1615, 'migrationshintergrund': 1616, 'kahuna456': 1617, 'hae': 1618, 'bereit': 1619, 'abschaffung': 1620, 'gruener': 1621, 'bestehen': 1622, 'ihnen': 1623, 'plus': 1624, 'neuer': 1625, 'com': 1626, 'tschechen': 1627, 'etwas': 1628, 'furchtbar': 1629, 'nennen': 1630, 'mannheim': 1631, 'bvg': 1632, 'strotzt': 1633, 'inmitten': 1634, 'kostenlosen': 1635, 'kita': 1636, 'machst': 1637, 'fernsehen': 1638, 'donalphonso': 1639, 'faeh': 1640, 'wobei': 1641, 'verletzt': 1642, 'den': 1643, 'mundaufmachen': 1644, 'waehle': 1645, '17': 1646, 'ignorieren': 1647, '90': 1648, 'straftaten': 1649, 'merkt': 1650, 'europaeischen': 1651, 'wozu': 1652, 'entsorgen': 1653, 'wisst': 1654, 'dachte': 1655, 'palaestinenser': 1656, 'jamme': 1657, 'licht': 1658, '60': 1659, 'sahneschoko': 1660, 'juedische': 1661, 'normal': 1662, 'leistungen': 1663, 'woanders': 1664, 'falschen': 1665, 'kritisieren': 1666, 'armut': 1667, 'hitler': 1668, 'loki777': 1669, 'bjoern': 1670, 'lsvdhamburg': 1671, 'lsvdkoeln': 1672, 'lsvdndshb': 1673, 'rlp': 1674, 'september': 1675, 'ritt': 1676, 'definition': 1677, 'einsatz': 1678, 'kuehne': 1679, 'mocho2': 1680, 'zaehlt': 1681, 'soeder': 1682, 'entsorgt': 1683, '1945': 1684, 'kommentare': 1685, 'steckt': 1686, 'kunst': 1687, 'uebrigen': 1688, 'sichern': 1689, 'etc': 1690, 'teilweise': 1691, 'drin': 1692, 'darfst': 1693, 'unterstuetzen': 1694, 'hapatamast': 1695, 'fli': 1696, 'mass': 1697, 'christ': 1698, 'vorgehen': 1699, 'versuch': 1700, 'schau': 1701, 'spderneuern': 1702, 'erneuern': 1703, 'capslockchris': 1704, 'lgrimsqueaker': 1705, 'rieben': 1706, 'geheimnis': 1707, 'beide': 1708, 'dicht': 1709, 'renatekuenast': 1710, 'islamischer': 1711, 'fluechtlingspolitik': 1712, 'trident750': 1713, 'christus': 1714, 'stille': 1715, 'ceta': 1716, 'db': 1717, 'minuten': 1718, 'blut': 1719, 'frank': 1720, 'pasemann': 1721, 'stuerzen': 1722, 'gesprochen': 1723, 'unterstuetzung': 1724, 'schweiz': 1725, 'terroristen': 1726, 'endogamieregel': 1727, 'gaborsteinga': 1728, 'total': 1729, 'gauland': 1730, 'afdimbundestag': 1731, 'niemanden': 1732, 'schlagen': 1733, 'verraeter': 1734, 'aha': 1735, 'verfassung': 1736, 'gesicht': 1737, 'sau': 1738, 'name': 1739, 'lauhofmann': 1740, 'kahrs': 1741, 'thomasoppermann': 1742, 'sondierungen': 1743, 'menschenrechte': 1744, 'jahrhunde': 1745, 'traeum': 1746, 'belegen': 1747, 'ben': 1748, 'ausweisen': 1749, 'kaufen': 1750, 'nachrichten': 1751, 'naiv': 1752, 'korrigie': 1753, 'cool': 1754, 'wundern': 1755, 'meint': 1756, 'schweigen': 1757, 'hoere': 1758, 'titten': 1759, 'gebt': 1760, 'wechseln': 1761, 'twaudes': 1762, 'betet': 1763, 'matthiasmeisner': 1764, 'entweder': 1765, 'woher': 1766, 'zufolge': 1767, 'angaben': 1768, 'erfahrung': 1769, 'patriarchat': 1770, 'muslimische': 1771, 'soweit': 1772, 'arbeitgeber': 1773, 'kompetent': 1774, 'mossul': 1775, 'rakubln': 1776, 'minister': 1777, 'ulrichkelber': 1778, 'quote': 1779, 'durchsetzen': 1780, 'haufen': 1781, 'dietmarba': 1782, 'sch': 1783, 'koennten': 1784, 'reisewarnung': 1785, 'typ': 1786, 'kreuz': 1787, 'ungarn': 1788, 'blick': 1789, 'dorabromberger': 1790, 'verlieren': 1791, 'hin': 1792, 'kz': 1793, 'dieter': 1794, 'nuhr': 1795, 'lustig': 1796, 'heinrich': 1797, 'krug': 1798, 'besondere': 1799, 'gespraech': 1800, 'schwesig': 1801, 'ums': 1802, 'heiko': 1803, 'toll': 1804, 'bestraft': 1805, 'frankfranz': 1806, 'beitrag': 1807, 'tage': 1808, 'systemlinge': 1809, 'toeten': 1810, 'anderen': 1811, 'homosexualitaet': 1812, 'marine': 1813, 'le': 1814, 'pen': 1815, 'bekloppt': 1816, 'zieht': 1817, 'logisch': 1818, 'larsklingbeil': 1819, 'versuchen': 1820, 'lehne': 1821, 'muslimischen': 1822, 'handelsblatt': 1823, 'hetzt': 1824, '200': 1825, 'herzlich': 1826, 'stellung': 1827, 'durch': 1828, 'phoenix': 1829, 'sohn': 1830, 'traegst': 1831, 'gefunden': 1832, 'traum': 1833, 'friedliches': 1834, 'link': 1835, 'keinen': 1836, 'daten': 1837, 'ziele': 1838, 'buerger18': 1839, 'gesundheit': 1840, 'staaten': 1841, 'freundin': 1842, 'foerdern': 1843, 'rauen': 1844, 'gefluechteten': 1845, 'argumente': 1846, 'journalismus': 1847, 'drittklassige': 1848, 'schmidt': 1849, 'soviel': 1850, 'kam': 1851, 'pur': 1852, 'kuemmern': 1853, 'oeffentlichkeit': 1854, 'marcuspretzell': 1855, 'dreckigen': 1856, 'irgendwas': 1857, 'diktator': 1858, 'eskalation': 1859, 'sowieso': 1860, 'ell': 1861, 'news': 1862, 'vorbei': 1863, 'gehts': 1864, 'ca': 1865, 'erfunden': 1866, 'greenclaudia': 1867, 'typen': 1868, 'kritisie': 1869, 'peinlich': 1870, 'herrn': 1871, 'ermittelt': 1872, 'fallen': 1873, 'republikaner': 1874, 'abgelehnt': 1875, 'seht': 1876, 'privilegien': 1877, 'gefragt': 1878, 'benachteiligt': 1879, 'sellner': 1880, 'bisschen': 1881, 'intersexualitaet': 1882, 'benachteiligung': 1883, 'seehofer': 1884, 'huehnerscheisse': 1885, 'strom': 1886, 'taten': 1887, 'liberal': 1888, 'schwuler': 1889, 'glaub': 1890, 'persoenliche': 1891, 'verarscht': 1892, 'dorobaer': 1893, 'berichtausberlin': 1894, 'politisch': 1895, 'hauptsaechlich': 1896, 'tagdermenschenrechte': 1897, 'anteil': 1898, 'wofuer': 1899, 'schriften': 1900, 'fuehlen': 1901, 'verein': 1902, 'ergibt': 1903, 'heutejournal': 1904, 'geeignet': 1905, 'behauptungen': 1906, '16': 1907, 'lohnt': 1908, 'kolonialismus': 1909, 'unten': 1910, 'hwieduwilt': 1911, 'daemon': 1912, 'pegida': 1913, 'vollkommen': 1914, 'liebt': 1915, 'loesung': 1916, 'rasse': 1917, 'kaiser': 1918, 'huerde': 1919, 'luegenpresse': 1920, 'maria': 1921, 'derjenige': 1922, 'beobachtet': 1923, 'gnade': 1924, 'weltweit': 1925, 'gebuehren': 1926, 'noe': 1927, 'themen': 1928, 'fluechtlingshilfe': 1929, 'zuerst': 1930, 'liberale': 1931, 'bewilligt': 1932, 'bzberlin': 1933, 'verkeh': 1934, 'kauf': 1935, 'staatspreisnrw': 1936, 'wolfgang': 1937, 'aufmerksamkeit': 1938, 'drecks': 1939, 'wieviele': 1940, 'position': 1941, 'rest': 1942, 'verfolgung': 1943, 'spalten': 1944, 'arschloch': 1945, 'albern': 1946, 'gutmenschen': 1947, 'gemeldet': 1948, 'uwe': 1949, 'opposition': 1950, 'une': 1951, 'raeglich': 1952, 'trotz': 1953, 'landwi': 1954, 'linie': 1955, 'bei': 1956, 'nahen': 1957, 'systems': 1958, 'vier': 1959, 'vermutlich': 1960, 'grosses': 1961, 'argument': 1962, 'journalisten': 1963, 'irre': 1964, 'komisch': 1965, 'eroeffnet': 1966, 'einfuehren': 1967, 'konkret': 1968, 'gefluechtete': 1969, 'tilojung': 1970, 'weihnachtsmarkt': 1971, 'bmi': 1972, 'getoetet': 1973, 'zusammenleben': 1974, 'zustimmung': 1975, 'soros': 1976, 'kandidat': 1977, 'pruefen': 1978, 'verlassen': 1979, 'gegner': 1980, 'berlincopa': 1981, 'unhcr': 1982, 'schlechten': 1983, 'sondierungsgespraeche': 1984, 'erstaunlich': 1985, 'schrift': 1986, 'amis': 1987, 'angeht': 1988, 'spielt': 1989, 'gross': 1990, 'tier': 1991, 'sanddrn': 1992, 'unterscheiden': 1993, 'staatsanwaltschaft': 1994, 'heteros': 1995, 'burka': 1996, 'anderes': 1997, 'geaeusse': 1998, 'bezeichnen': 1999, 'dawa': 2000, 'zangpo': 2001, 'pallemison': 2002, 'konservativen': 2003, 'saemtliche': 2004, 'besetztes': 2005, 'jochenbittner': 2006, 'treu': 2007, 'sexy': 2008, 'einzige': 2009, 'auftreten': 2010, 'tauss': 2011, 'strunzdummen': 2012, 'schauspieler': 2013, 'vaterland': 2014, 'duerfte': 2015, 'republik': 2016, 'johannes': 2017, 'dir': 2018, 'fanatikerin': 2019, 'weltanschauung': 2020, 'ahnung': 2021, 'gedanken': 2022, 'beginnen': 2023, 'pbahners': 2024, 'unterstuetzt': 2025, 'mehrzahl': 2026, 'enthaelt': 2027, 'pontifex': 2028, 'erfolgreich': 2029, 'zeugnis': 2030, 'aussenminister': 2031, 'verdammt': 2032, 'blondjedi': 2033, 'projekt': 2034, 'michel': 2035, 'tote': 2036, 'achtung': 2037, 'barcelona': 2038, 'netz': 2039, 'demokratische': 2040, 'beginnt': 2041, 'melden': 2042, 'manuelaschwesig': 2043, 'schwulemiker': 2044, 'woran': 2045, 'asylwahnsinn': 2046, 'faktor': 2047, 'nation': 2048, 'kreis': 2049, 'nabbia2': 2050, 'umgehen': 2051, 'spinner': 2052, 'asozialen': 2053, 'sender': 2054, 'liefern': 2055, 'barbarische': 2056, 'mutti': 2057, 'pesch': 2058, 'piratnrw': 2059, 'nem': 2060, 'visa': 2061, 'domau': 2062, 'satrapen': 2063, 'onlinemagazin': 2064, 'gelebt': 2065, 'verkauft': 2066, 'unglaublich': 2067, 'argumentation': 2068, 'abzugrenzen': 2069, 'entdeckt': 2070, 'haettest': 2071, 'arschloecher': 2072, 'franzoesische': 2073, 'lobby': 2074, 'tritt': 2075, 'umgehend': 2076, 'afghanistan': 2077, 'spahn': 2078, 'keinerlei': 2079, 'nohatespeechde': 2080, 'rassisten': 2081, 'verschissen': 2082, 'agenda': 2083, 'rational': 2084, 'gekommen': 2085, 'screenshot': 2086, 'zaehlen': 2087, 'eliten': 2088, 'ansprechen': 2089, 'biste': 2090, 'entlastet': 2091, 'multikulturell': 2092, 'still': 2093, 'wenige': 2094, 'anfang': 2095, 'miteinander': 2096, 'hruotland2017': 2097, 'matthias': 2098, 'kamann': 2099, 'legt': 2100, 'vernichtung': 2101, 'k': 2102, 'existie': 2103, 'wuerdest': 2104, 'hinzufuegungen': 2105, 'interpretationen': 2106, 'wolfganghetzler1964': 2107, 'googlemail': 2108, 'knapp': 2109, 'langweilige': 2110, 'helfer': 2111, 'bauen': 2112, 'naechste': 2113, 'haesslich': 2114, 'musevg': 2115, 'insofern': 2116, 'markrudolph2701': 2117, 'barbarei': 2118, 'demaiziere': 2119, 'brandenburg': 2120, 'studieren': 2121, 'arzt': 2122, 'sitzt': 2123, 'monikaherrmann1': 2124, 'willkuerlich': 2125, 'koerperverletzung': 2126, 'begriffe': 2127, 'quasi': 2128, 'problematisch': 2129, 'anfangen': 2130, 'konnten': 2131, 'scheuer': 2132, 'behalten': 2133, 'null': 2134, 'maerz': 2135, 'geir': 2136, 'hoeness': 2137, 'fehlen': 2138, 'maedels': 2139, 'reich': 2140, 'verheissung': 2141, 'schrifttext': 2142, 'jes': 2143, 'soldaten': 2144, 'zitat': 2145, 'federn': 2146, 'schmuecken': 2147, 'ordnung': 2148, 'twitte': 2149, 'buergern': 2150, 'geplant': 2151, 'hoechstens': 2152, 'november': 2153, 'aigudewi': 2154, 'verfolgt': 2155, '24': 2156, 'tuer': 2157, 'verkommen': 2158, 'strategie': 2159, 'holydforce': 2160, 'erwaehnt': 2161, 'geschwiegen': 2162, 'person': 2163, 'durcheinander': 2164, 'allah': 2165, 'niveau': 2166, 'holger': 2167, 'kneipe': 2168, 'treffen': 2169, '1933': 2170, 'n59': 2171, 'puppche': 2172, 'geloescht': 2173, 'dahinter': 2174, 'advent': 2175, 'wohnraum': 2176, 'sozial': 2177, 'rainer': 2178, 'koch': 2179, 'liegen': 2180, 'schlimmsten': 2181, 'dokiligo': 2182, 'solltest': 2183, 'rand': 2184, 'hl': 2185, 'prosieben': 2186, 'beschaeftigen': 2187, 'unbedingt': 2188, 'oekumene': 2189, 'inzwischen': 2190, 'angela': 2191, 'schaden': 2192, 'wenden': 2193, 'sonst': 2194, 'wollte': 2195, 'kapitel': 2196, 'vorkommen': 2197, 'personal': 2198, 'schalte': 2199, 'est': 2200, 'fraktionsnahles': 2201, 'boris': 2202, 'liberalen': 2203, 'humanitaere': 2204, '1000': 2205, 'jeden': 2206, 'lata': 2207, 'mariusz': 2208, 'wagenknecht': 2209, 'ueberholen': 2210, 'dominanz': 2211, 'staerke': 2212, 'mannes': 2213, 'kaffee': 2214, 'beitraege': 2215, 'belgien': 2216, 'erfuellen': 2217, 'kindheit': 2218, 'zug': 2219, 'hallo': 2220, 'heterosexuellen': 2221, 'lebens': 2222, 'moralisch': 2223, 'shahakshapira': 2224, 'buergerkrieg': 2225, 'seele': 2226, 'bullshit': 2227, 'nuernberg': 2228, 'ku': 2229, 'wand': 2230, 'nachdem': 2231, 'heutige': 2232, 'angriff': 2233, 'alkohol': 2234, 'ficken': 2235, 'hessen': 2236, 'p': 2237, 'koeln': 2238, 'verseuchte': 2239, 'gewohnt': 2240, 'nopgy8i7': 2241, 'po': 2242, 'arminph': 2243, 'reagieren': 2244, 'karlaschnik': 2245, '90ern': 2246, 'stammwaehler': 2247, 'pottrlot': 2248, 'jaja': 2249, 'se': 2250, 'menge': 2251, 'salomo': 2252, 'frankbeh': 2253, 'gezielt': 2254, 'laden': 2255, 'nieder': 2256, 'tiffanyangelx': 2257, 'gefuehle': 2258, 'fakten': 2259, 'neutral': 2260, 'fahrer': 2261, 'fuhr': 2262, 'hassprediger': 2263, 'vorne': 2264, 'befuerchte': 2265, 'gegenwa': 2266, 'jammern': 2267, 'weisse': 2268, 'laender': 2269, 'chebli': 2270, 'dankt': 2271, 'bekenntnis': 2272, 'bunt': 2273, 'titania0001': 2274, 'bein': 2275, 'treiben': 2276, 'theorie': 2277, 'buergermeister': 2278, 'farbenbekennen': 2279, 'gt': 2280, 'ergebnisse': 2281, 'polizisten': 2282, 'vergangenheit': 2283, 'bewaehrung': 2284, 'geforde': 2285, 'nachdenken': 2286, 'verlierer': 2287, 'voegel': 2288, 'mitteln': 2289, 'verfassungsgericht': 2290, 'new': 2291, 'diskutie': 2292, 'ausgedacht': 2293, 'infostand': 2294, 'kamen': 2295, 'nationaldemokrat': 2296, 'einschlagen': 2297, 'al': 2298, 'brauchst': 2299, 'auftrag': 2300, 'jammerlappen': 2301, 'gesindel': 2302, 'gegenwehr': 2303, 'insgesamt': 2304, '2010': 2305, 'team': 2306, 'religionsfreiheit': 2307, 'inhalte': 2308, 'vermitteln': 2309, 'spiegel': 2310, 'steigt': 2311, 'ziegen': 2312, 'vorreiter': 2313, 'drkissler': 2314, 'gesetzgeber': 2315, 'abnahme': 2316, 'gebet': 2317, 'spiegelonline': 2318, 'wow': 2319, 'weitaus': 2320, 'klitschko': 2321, 'gefeie': 2322, 'sklave': 2323, 'nazikeule': 2324, 'scheinheiligen': 2325, 'gebildet': 2326, 'ardkontraste': 2327, 'rhein': 2328, 'erster': 2329, 'uebernehmen': 2330, 'richtige': 2331, 'eingefueh': 2332, 'spaeter': 2333, 'aergern': 2334, 'frauenwelt': 2335, 'betrogen': 2336, 'freude': 2337, 'zentrum': 2338, 'heiraten': 2339, 'wesentlichen': 2340, 'aynrandism': 2341, 'alicologne': 2342, 'meist': 2343, 'vielfalt': 2344, 'gewaehrleistet': 2345, 'aldavoodi': 2346, 'piratenlily': 2347, 'foerderung': 2348, 'nationalen': 2349, 'amerikanische': 2350, 'islamisierung': 2351, 'steuergeld': 2352, 'j': 2353, 'wa': 2354, 'neef': 2355, 'wahlprogramm': 2356, 'weise': 2357, 'sanktionen': 2358, 'sogenannten': 2359, 'siehe': 2360, 'schergen': 2361, 'david': 2362, 'angriffe': 2363, 'freut': 2364, 'fern': 2365, 'deniz': 2366, 'yuecel': 2367, 'grossa': 2368, 'weil': 2369, 'tuerke': 2370, 'vorfaelle': 2371, 'vordergrund': 2372, 'k3vk4': 2373, 'brutal': 2374, 'jemanden': 2375, 'geweiht': 2376, 'erneut': 2377, 'mischa0815': 2378, 'amerika': 2379, 'projekte': 2380, 'fluechtlingsarbeit': 2381, 'schwerin': 2382, 'luegner': 2383, 'dummheit': 2384, 'wehe': 2385, 'gestoe': 2386, 'lemminge': 2387, 'niemamovassat': 2388, 'konfrontie': 2389, 'signale': 2390, 'maennlicher': 2391, 'laiendarsteller': 2392, 'bricht': 2393, 'verwechselt': 2394, 'antisemitische': 2395, 'massnahmen': 2396, 'beachten': 2397, 'billiger': 2398, 'untereinander': 2399, 'vermisse': 2400, 'wahlkampf': 2401, '4genderstudies': 2402, 'geschickt': 2403, 'bilden': 2404, 'eingesetzt': 2405, 'zeig': 2406, 'wo': 2407, 'material': 2408, 'sache': 2409, 'schaffen': 2410, 'europaeer': 2411, 'dinosaurier': 2412, 'scharia': 2413, 'kampagne': 2414, 'feststellen': 2415, 'nrw17': 2416, 'trumps': 2417, 'paedophilen': 2418, 'buzzfeed': 2419, 'jaeger': 2420, 'pfeife': 2421, 'kerstingriese': 2422, 'reine': 2423, 'kleinen': 2424, 'milliardaere': 2425, 'formel': 2426, 'sozialstaat': 2427, 'sven': 2428, 'zittern': 2429, 'reform': 2430, 'erziehen': 2431, 'boundborg': 2432, 'rechtfe': 2433, 'individuum': 2434, 'besseren': 2435, 'mitte': 2436, 'erde': 2437, 'schlaf': 2438, 'demokraten': 2439, 'siegen': 2440, 'aufgepasst': 2441, 'verzichtet': 2442, 'vorsicht': 2443, 'betont': 2444, 'informieren': 2445, 'anwalt': 2446, 'fremde': 2447, 'leh': 2448, 'satz': 2449, 'demi': 2450, 'as': 2451, 'freilassung': 2452, 'bax': 2453, 'daniel': 2454, 'no': 2455, 'gesetzen': 2456, 'bedeuten': 2457, 'aufgeben': 2458, 'legal': 2459, 'bastard': 2460, 'implizit': 2461, 'bestaetigen': 2462, 'eberhunter1': 2463, 'tamarawernli': 2464, 'derzeit': 2465, 'sah': 2466, 'haelst': 2467, 'aussehen': 2468, 'vorsitzenden': 2469, 'sachsen': 2470, 'klaus': 2471, 'wehren': 2472, 'lilly': 2473, 'blaudszun': 2474, 'erika': 2475, 'erbe': 2476, 'sondierung': 2477, 'runter': 2478, 'tierquaeler': 2479, 'kenne': 2480, 'mandat': 2481, 'kern': 2482, 'geholfen': 2483, 'verbrennen': 2484, 'multikulturalismus': 2485, 'schlafen': 2486, 'rylahbd': 2487, 'indoktrination': 2488, 'unternehmen': 2489, 'vorbild': 2490, 'karriere': 2491, 'fehler': 2492, 'breit': 2493, 'beteiligung': 2494, 'klaun': 2495, 'nirgendwo': 2496, 'uno': 2497, 'grundlagen': 2498, 'zivilisation': 2499, 'frechheit': 2500, 'bedanken': 2501, 'hochschulen': 2502, 'pro7': 2503, 'filipinos': 2504, 'sozialschmarotzern': 2505, 'dreckige': 2506, 'rolandbauer11': 2507, 'caroline': 2508, 'lmu': 2509, 'untergehen': 2510, 'posener': 2511, 'grenze': 2512, 'spenden': 2513, 'konze': 2514, 'feind': 2515, 'benennen': 2516, 'ihn': 2517, 'bande': 2518, 'm0rpheouz': 2519, 'hausfrau4ever': 2520, 'berechtigt': 2521, 'stinkt': 2522, 'lesben': 2523, 'hinterher': 2524, 'ueberzeugt': 2525, 'lauch': 2526, 'mittelalter': 2527, 'emanzipie': 2528, 'drehen': 2529, 'baetschi': 2530, 'sorge': 2531, 'vergangenen': 2532, 'tobiasm': 2533, 'russen': 2534, 'pure': 2535, 'regel': 2536, 'arm': 2537, 'waehlbar': 2538, 'nopgy': 2539, 'muetter': 2540, 'dahin': 2541, 'mode': 2542, 'begeistern': 2543, 'unfassbar': 2544, 'goering': 2545, 'konzerne': 2546, 'worin': 2547, 'automatisch': 2548, 'bauer': 2549, 'runden': 2550, 'knechte': 2551, 'jensspahn': 2552, 'verfall': 2553, 'klare': 2554, 'kardinal': 2555, 'bistuemern': 2556, 'friedenslicht': 2557, 'wahrheiten': 2558, 'vadderland': 2559, 'navid': 2560, 'kermani': 2561, 'mueller': 2562, 'hosen': 2563, 'ansonsten': 2564, 'sowohl': 2565, 'zivilisie': 2566, 'rag': 2567, 'karlsruhe': 2568, 'thom2805': 2569, 'entwicklungslaendern': 2570, 'dschihadisten': 2571, 'spdybit': 2572, 'strafen': 2573, 'nt': 2574, 'regionen': 2575, 'syrischen': 2576, 'feministisch': 2577, 'hoeher': 2578, 'ausschuss': 2579, 'islamische': 2580, 'bestaetigt': 2581, 'verdienen': 2582, 'schroeder': 2583, 'oeffnen': 2584, 'gemeinden': 2585, 'masteroftwitr': 2586, 'schicken': 2587, 'syrer': 2588, 'teatimecookie': 2589, 'schuetzt': 2590, 'amerikanischen': 2591, 'storch': 2592, 'tahirovic': 2593, 'zwang': 2594, 'weltoffen': 2595, 'wunder': 2596, 'bt': 2597, 'duennschiss': 2598, 'religioesen': 2599, 'narzissmus': 2600, 'propheten': 2601, 'gutjahr': 2602, 'schliesst': 2603, 'oder': 2604, 'uni': 2605, 'schluss': 2606, 'groesser': 2607, 'hautfarbe': 2608, 'pervers': 2609, 'wirklichkeit': 2610, 'faelle': 2611, 'verlie': 2612, 'schlimmes': 2613, 'bewegung': 2614, 'lenasmileey': 2615, 'koalitionsverhandlungen': 2616, 'oppo': 2617, 'derberliiner': 2618, 'moeglichkeit': 2619, 'zeitung': 2620, 'fxneumann': 2621, 'gruende': 2622, 'amadeuantonio': 2623, 'kannte': 2624, 'facto': 2625, 'weltbild': 2626, 'erklaerung': 2627, 'cicero': 2628, 'saufen': 2629, 'wenigsten': 2630, 'erheben': 2631, 'westbank': 2632, 'juso': 2633, 'tollversterker': 2634, 'voelkerrecht': 2635, 'changeger': 2636, 'mossis': 2637, 'israelingermany': 2638, 'arabischen': 2639, 'taschen': 2640, 'sklavin': 2641, 'trinken': 2642, 'einzigen': 2643, 'differenzieren': 2644, 'scheinheilgsten': 2645, 'schiessen': 2646, 'georg': 2647, 'bernd471': 2648, 'anscheinend': 2649, 'negern': 2650, 'arabern': 2651, 'welthandel': 2652, 'kragen': 2653, 'verbloedete': 2654, 'gnadenlos': 2655, 'praesentie': 2656, 'erbaermlich': 2657, 'wochen': 2658, 'regsprecher': 2659, 'ihm': 2660, 'bemuehen': 2661, 'ideologischer': 2662, 'naehe': 2663, 'unmoeglich': 2664, 'vergiften': 2665, '06': 2666, 'bibaltonensis': 2667, 'transpo': 2668, 'hanvoi': 2669, 'franz': 2670, 'empfinde': 2671, 'saekulare': 2672, 'vergewaltigungen': 2673, 'entwickelt': 2674, 'jolantel': 2675, 'beobachten': 2676, 'baum': 2677, 'schenken': 2678, 'chemie': 2679, 'haeufiger': 2680, 'fair': 2681, 're': 2682, 'beschimpft': 2683, 'wahren': 2684, 'hund': 2685, 'gehoerst': 2686, 'umso': 2687, 'guter': 2688, 'mind': 2689, 'vorstand': 2690, 'einzelfallinfos': 2691, 'iran': 2692, 'rechtliche': 2693, 'heikowasser': 2694, 'mai': 2695, 'janjansen96': 2696, 'atheist': 2697, 'hetzer': 2698, 'sprache': 2699, 'jennyimwesten': 2700, 'politikern': 2701, 'breitscheidplatz': 2702, 'vorschlag': 2703, 'inhaltlich': 2704, 'pornos': 2705, 'absolut': 2706, 'hilluabblader': 2707, 'hierfuer': 2708, 'nationalismus': 2709, 'grausamkeit': 2710, 'gewalttaetig': 2711, 'beziehen': 2712, 'besinnliche': 2713, 'zugang': 2714, 'witz': 2715, 'verfuegung': 2716, 'ausdruck': 2717, 'real': 2718, 'instrumentalisie': 2719, 'her': 2720, 'sonderrechte': 2721, 'gericht': 2722, 'feinde': 2723, 'staerken': 2724, 'warne': 2725, 'spiele': 2726, 'freier': 2727, 'irgendein': 2728, 'digitalisierung': 2729, 'besorgt': 2730, 'peteraltmaier': 2731, 'triviales': 2732, 'dezember': 2733, 'ratte': 2734, 'sieg': 2735, 'emanzipation': 2736, 'sondern': 2737, 'selben': 2738, 'ausweis': 2739, 'warnen': 2740, 'migration': 2741, 'problems': 2742, 'komm': 2743, 'feministin': 2744, 'rassistischen': 2745, 'altena': 2746, 'gemerkt': 2747, 'chinesen': 2748, 'schuhe': 2749, 'lg': 2750, 'demonstration': 2751, 'tatsachen': 2752, 'kleines': 2753, '2013': 2754, 'akzeptie': 2755, 'teppich': 2756, 'negatives': 2757, 'rueckfuehrung': 2758, 'thueringen': 2759, 'franziskus': 2760, 'black': 2761, 'globalisierung': 2762, 'bildet': 2763, 'generationen': 2764, 'ueberreden': 2765, 'selten': 2766, 'angesehen': 2767, 'stell': 2768, 'unzufriedenerb': 2769, 'jaemmerlich': 2770, 'begegnung': 2771, 'moschee': 2772, 'tuerkische': 2773, 'facharbeiter': 2774, 'aerzte': 2775, 'laengst': 2776, 'eindeutig': 2777, 'vereinbar': 2778, 'verletzte': 2779, 'zivilgesellschaft': 2780, 'lauten': 2781, 'jojoschraps': 2782, 'bestreiten': 2783, 'schwerer': 2784, 'universitaet': 2785, 'vergiss': 2786, 'friedens': 2787, 'herren': 2788, 'irrenhaus': 2789, 'tschechien': 2790, 'heiligabend': 2791, 'gerecht': 2792, 'muslima': 2793, 'ethnie': 2794, 'waffenexpo': 2795, 'verbietet': 2796, 'angemessene': 2797, '65': 2798, 'balkon': 2799, 'als': 2800, 'peters': 2801, 'klappe': 2802, 'maerchen': 2803, 'fehlende': 2804, 'vk': 2805, 'aelter': 2806, 'institutionalisie': 2807, 'dietmaramann1': 2808, 'sozialwo': 2809, 'tolles': 2810, 'genossen': 2811, 'jaemmerlichen': 2812, 'machtgeilheit': 2813, 'sammelbegriff': 2814, 'nationalistischen': 2815, 'befuerwo': 2816, 'engagieren': 2817, 'sozialer': 2818, 'alvar': 2819, 'erwischt': 2820, 'kkleinigkeit': 2821, 'psychische': 2822, 'benoetigt': 2823, 'pferdegebiss': 2824, 'reiterfee': 2825, 'tauber': 2826, 'jean': 2827, 'luc': 2828, 'grandioser': 2829, 'umweltministerin': 2830, 'gelobte': 2831, 'schneider': 2832, 'argumentie': 2833, 'verlaengerung': 2834, 'suntsu': 2835, 'angeboten': 2836, 'sturm': 2837, 'abbrechen': 2838, 'quuux': 2839, 'paktie': 2840, 'ursache': 2841, 'verfluchte': 2842, 'waffel': 2843, 'bosegundolf': 2844, 'knooshoodknorke': 2845, 'angreifen': 2846, 'hollstein63': 2847, 'senatskanzlei': 2848, 'mariae': 2849, 'gloria': 2850, 'faul': 2851, 'spdberlin': 2852, 'kapieren': 2853, 'lotus88118558': 2854, 'mitbekommen': 2855, 'staerker': 2856, 'einkommen': 2857, 'entlastung': 2858, 'erfolgt': 2859, 'beispiele': 2860, 'kindergeld': 2861, 'normale': 2862, 'bis': 2863, 'buergerkrieges': 2864, 'biblische': 2865, 'ablehnt': 2866, 'rechtsradikal': 2867, 'aeusserungen': 2868, 'erscheinen': 2869, 'beweis': 2870, 'testament': 2871, 'nennst': 2872, 'asylant': 2873, 'tagesthemen': 2874, 'diesen': 2875, 'rep': 2876, 'meldet': 2877, 'wolfibey': 2878, 'klima': 2879, 'freu': 2880, 'durchgehend': 2881, 'multikulti': 2882, 'versiffte': 2883, 'istambul': 2884, 'rumaenen': 2885, 'bulgaren': 2886, 'tram': 2887, 'schlampen': 2888, 'xxgiana': 2889, 'mollemopp': 2890, 'schwaenze': 2891, 'werfe': 2892, 'mark': 2893, 'stets': 2894, 'scheinbar': 2895, 'masse': 2896, 'unglaubwuerdig': 2897, 'grotesk': 2898, 'gespraeche': 2899, 'vergwohlrumpler': 2900, 'doktor': 2901, 'entlasten': 2902, 'bauch': 2903, 'fangen': 2904, 'drphiloponus': 2905, 'entschuldigung': 2906, 'nord': 2907, 'karmel': 2908, 'impulse': 2909, 'matthiasbannas': 2910, 'rechtsextremen': 2911, 'hintergrund': 2912, 'timon': 2913, 'gremmels': 2914, 'ploetzlich': 2915, 'kulturellen': 2916, 'gysi': 2917, 'mochten': 2918, 'riesen': 2919, 'christa': 2920, 'kuchen': 2921, 'spruch': 2922, 'verkommt': 2923, 'floskel': 2924, 'migrate89': 2925, 'amnesty': 2926, 'bolschewisten': 2927, 'schwerverbrecher': 2928, 'uli': 2929, 'fc': 2930, 'redpillberlin': 2931, 'gegutgeschlecht': 2932, 'streit': 2933, 'demirkan': 2934, 'mitten': 2935, '35': 2936, 'demokratischen': 2937, 'beschuetzt': 2938, 'privileg': 2939, 'ausgelegt': 2940, 'vilar': 2941, 'beigetragen': 2942, 'geblockt': 2943, 'asylpolitik': 2944, 'umvolkung': 2945, 'scientology': 2946, 'schaebig': 2947, 'bundesrepublik': 2948, 'kubicki': 2949, 'gruendung': 2950, 'freundeskreises': 2951, 'main': 2952, 'horde': 2953, 'foerde': 2954, 'ausnahmen': 2955, 'hintermaenner': 2956, 'cholera': 2957, 'ss': 2958, 'aufgeforde': 2959, 'abzuschaffen': 2960, 'zutiefst': 2961, 'dar': 2962, 'entstehen': 2963, 'ablehnung': 2964, 'ausgrenzung': 2965, 'angebracht': 2966, 'vergewaltigt': 2967, 'wirft': 2968, 'treten': 2969, 'segen': 2970, 'realdonaldtrump': 2971, 'sogenannte': 2972, 'preussen': 2973, 'drittklassigen': 2974, 'vernuenftiger': 2975, 'widersprochen': 2976, 'niedriger': 2977, 'aufklaerung': 2978, 'trans': 2979, 'palaestinensern': 2980, 'erhalten': 2981, 'leuchtturm': 2982, 'verbreitet': 2983, 'taktischen': 2984, 'begeben': 2985, 'eidigungsminister': 2986, 'leyen': 2987, 'gebot': 2988, 'naechstenliebe': 2989, 'rhetorik': 2990, 'kinchkun': 2991, 'nachtraeglich': 2992, 'mussten': 2993, 'vorfeld': 2994, 'aussatz': 2995, 'leon': 2996, 'weihnacht': 2997, 'rechtlich': 2998, 'kategorie': 2999, 'ausgewogen': 3000, 'abwa': 3001, 'jfda': 3002, 'ev': 3003, 'ragen': 3004, 'tot': 3005, 'schneidercar': 3006, 'interessante': 3007, 'ansichten': 3008, 'miststueck': 3009, 'markus': 3010, 'kostenlos': 3011, 'lebendigen': 3012, 'moderatoren': 3013, 'schaeme': 3014, 'buergerinnen': 3015, 'naechstes': 3016, 'korallenherz': 3017, 'resdocs': 3018, 'simpel': 3019, 'lag': 3020, 'aufrechten': 3021, 'gedanke': 3022, 'strand': 3023, 'clauskleber': 3024, 'vergleichen': 3025, 'rocktoamna': 3026, 'elisalocuta': 3027, 'hrmnn01': 3028, 'ergaenzen': 3029, 'faschist': 3030, 'neumann': 3031, 'volle': 3032, 'koerper': 3033, 'schwuchtel': 3034, 'verraet': 3035, 'ntv': 3036, 'liste': 3037, 'splendidmachao': 3038, 'binnenve': 3039, 'riebene': 3040, 'unte': 3041, 'milieus': 3042, 'moralisierende': 3043, 'viel': 3044, 'moral': 3045, 'fahne': 3046, 'beherrschen': 3047, 'on': 3048, 'fundamentalisten': 3049, 'einfluss': 3050, 'bescheid': 3051, 'dein': 3052, 'benehmt': 3053, 'gehalten': 3054, 'afrikaner': 3055, 'packen': 3056, 'karlchen0815': 3057, 'mauer': 3058, 'sonder': 3059, 'asranomani': 3060, 'ernaehrung': 3061, 'anbetrifft': 3062, 'abehosooh': 3063, 'ohren': 3064, 'sehnsucht': 3065, 'innerhalb': 3066, 'wiederholt': 3067, 'einigung': 3068, 'betrifft': 3069, 'spaet': 3070, 'arschka': 3071, 'legitimie': 3072, 'lehren': 3073, 'aende': 3074, 'enden': 3075, 'produktion': 3076, 'puettmann': 3077, 'gluecklicherweise': 3078, 'form': 3079, 'stroebele': 3080, 'schmidtlepp': 3081, 'behinde': 3082, 'bequem': 3083, 'absolute': 3084, 'vollniete': 3085, 'selbstbeweihraeucherung': 3086, 'aktenzeichenxy': 3087, 'schaerfste': 3088, 'rum': 3089, 'stammt': 3090, 'papier': 3091, 'muessten': 3092, 'weltgeschichte': 3093, 'akzeptieren': 3094, 'voelkermordzentrale': 3095, 'schweinefleisch': 3096, 'aeh': 3097, 'jagen': 3098, 'repraesentie': 3099, 'heulen': 3100, 'puh': 3101, 'afdneuigkeiten': 3102, 'heavenlydogz': 3103, 'funktionierende': 3104, 'sozialpolitik': 3105, 'hure': 3106, 'onestepbayond': 3107, 'kubyalcin': 3108, 'bestanden': 3109, 'unwo': 3110, 'dreckig': 3111, 'foto': 3112, 'schaeubele': 3113, 'harmlos': 3114, 'gebote': 3115, 'pech': 3116, 'opferrolle': 3117, 'festung': 3118, 'todsicher': 3119, 'baumannx': 3120, 'schreit': 3121, 'schweigt': 3122, 'verrueckt': 3123, 'vermutung': 3124, 'bus': 3125, 'fauli': 3126, 'moinmoinsager': 3127, 'kumaandrea': 3128, 'klugen': 3129, 'devoten': 3130, 'folgt': 3131, 'gemeint': 3132, 'lucke': 3133, 'kopftuecher': 3134, 'gynaekologen': 3135, 'muschis': 3136, 'fruehstueck': 3137, 'ans': 3138, 'beten': 3139, 'presswurst': 3140, 'knabe': 3141, 'tsp': 3142, 'ag': 3143, 'touristen': 3144, 'gelogen': 3145, 'weltanschaulich': 3146, 'grossveranstaltung': 3147, 'edathy': 3148, 'stattdessen': 3149, 'wegsperren': 3150, 'apoll0x': 3151, 'moscheen': 3152, 'kuh': 3153, 'menschenwuerde': 3154, 'elmarbrok': 3155, 'mep': 3156, 'derzeitige': 3157, 'bedeutung': 3158, 'irmgard': 3159, 'tarek': 3160, 'leitner': 3161, 'r1chtungsweiser': 3162, 'auswandern': 3163, 'schlafe': 3164, 'petrapaumahe': 3165, 'couragie': 3166, 'armen': 3167, 'beginn': 3168, 'oktober': 3169, 'unabhaengig': 3170, 'bekaempft': 3171, 'justiz': 3172, 'doppel500': 3173, 'dummen': 3174, 'opferkultur': 3175, 'biologie': 3176, 'spon': 3177, 'garantie': 3178, 'wettbewerb': 3179, 'gebe': 3180, 'eivorsitzender': 3181, 'samstag': 3182, 'menschenbild': 3183, 'schweigespirale': 3184, 'demokratisch': 3185, 'einstellen': 3186, 'stopp': 3187, 'beitrittsgespraeche': 3188, 'clown': 3189, 'nigeria': 3190, 'darunter': 3191, 'bokoharam': 3192, 'erlaeutern': 3193, 'polen': 3194, 'habens': 3195, 'schuldkult': 3196, 'kv171311': 3197, 'rettet': 3198, 'forderung': 3199, 'kanada': 3200, 'armutsrentner': 3201, 'flaschen': 3202, 'sammeln': 3203, 'happy': 3204, 'suendenfall': 3205, 'bspw': 3206, 'nachweislich': 3207, 'argumentieren': 3208, 'scheissegal': 3209, 'unser': 3210, 'anhoeren': 3211, 'nun': 3212, 'rassistische': 3213, 'gleicher': 3214, 'armes': 3215, 'tsukino': 3216, 'usako': 3217, 'marenleinchen66': 3218, 'jreichelt': 3219, 'loescht': 3220, 'zulassen': 3221, 'richten': 3222, 'magazin': 3223, 'elend': 3224, 'verfluchten': 3225, 'hueten': 3226, 'versprochen': 3227, 'wuehlen': 3228, 'einkaufen': 3229, 'schweizer': 3230, 'almosta': 3231, 'bessere': 3232, 'wahlrecht': 3233, 'kurs': 3234, 'entscheidungen': 3235, 'geschissen': 3236, 'einigermassen': 3237, 'michael': 3238, 'nationalisten': 3239, 'redaktion': 3240, 'anzeige': 3241, 'lesenswe': 3242, 'brauch': 3243, 'peacecakex': 3244, 'handlungsfaehig': 3245, 'zustand': 3246, 'reissen': 3247, 'auslaendern': 3248, 'hierzulande': 3249, 'wenns': 3250, 'karikatur': 3251, 'journ': 3252, 'ali': 3253, 'kelghazzali': 3254, 'unglaeubige': 3255, 'claire': 3256, 'farr0n': 3257, 'antisemitisch': 3258, 'zumal': 3259, 'kulturkreis': 3260, 'zeichnet': 3261, 'worum': 3262, 'roland': 3263, 'jesiden': 3264, 'uropas': 3265, 'meldungen': 3266, 'tgl': 3267, 'taetern': 3268, 'todesstrafe': 3269, 'witze': 3270, 'momentan': 3271, 'koenntet': 3272, 'frauschmauke': 3273, 'ehen': 3274, 'gewollt': 3275, 'entspricht': 3276, 'beduerfnis': 3277, 'obsolet': 3278, 'altermediad': 3279, 'gewusst': 3280, 'feministische': 3281, 'analyse': 3282, 'unterziehen': 3283, 'brueste': 3284, 'allgemeinen': 3285, 'oeffentlichen': 3286, 'nachhilfestunde': 3287, 'einsperren': 3288, 'funktionaerin': 3289, 'finanzie': 3290, 'schoenheit': 3291, 'mariamlau1': 3292, 'punkte': 3293, 'besuch': 3294, 'verrate': 3295, 'zurecht': 3296, 'entlassen': 3297, 'bombasstard': 3298, 'pinselpoetin': 3299, 'erstaunt': 3300, 'hirn': 3301, 'ausgeben': 3302, 'zurueckweisen': 3303, 'ebhhfluechthilf': 3304, 'schleimer': 3305, 'beruf': 3306, 'relativie': 3307, 'krim': 3308, 'missbraucht': 3309, 'fuessen': 3310, 'schwarzer': 3311, 'foxnews': 3312, 'bendels': 3313, 'stein': 3314, 'schwerpunktthema': 3315, 'eigentlichen': 3316, 'eidigung': 3317, 'mesale': 3318, 'tolu': 3319, 'sehr': 3320, 'druck': 3321, 'freedeniz': 3322, 'freethemall': 3323, 'holmhw': 3324, 'meinungsdiktatur': 3325, 'blau': 3326, 'win': 3327, 'gebraucht': 3328, 'suedsudan': 3329, 'sentenza66': 3330, 'tuerkischen': 3331, 'perspektive': 3332, 'antisemitischer': 3333, 'sinne': 3334, 'dient': 3335, 'grafik': 3336, 'raubt': 3337, 'dagegensein': 3338, 'ropietsch': 3339, 'jungs': 3340, 'durchzusetzen': 3341, 'retweets': 3342, 'krebsgeschwuer': 3343, 'ausbreiten': 3344, 'pest': 3345, 'beine': 3346, 'eigenes': 3347, 'connect17de': 3348, 'samad': 3349, 'ebensowenig': 3350, 'nen': 3351, 'fuerchte': 3352, 'verringern': 3353, 'instrument': 3354, 'internationalen': 3355, 'fanseite': 3356, 'siche': 3357, 'privat': 3358, 'seltsam': 3359, 'lohndrueckerei': 3360, 'olle': 3361, 'bundeskanzlerin': 3362, 'wirken': 3363, 'aufzuklaeren': 3364, 'rote': 3365, 'brauchte': 3366, 'gentechnik': 3367, 'oekologische': 3368, 'produzieren': 3369, 'farbe': 3370, 'bekennen': 3371, 'gemeinsamen': 3372, 'hiess': 3373, 'gabonn': 3374, 'braunen': 3375, 'bewusst': 3376, 'regeln': 3377, 'grenzt': 3378, 'berlinerzeitung': 3379, 'frauenrechte': 3380, 'gelegt': 3381, 'schmarotzenden': 3382, 'ossis': 3383, 'gerede': 3384, 'prognose': 3385, 'vernuenftige': 3386, 'somit': 3387, 'beschneidung': 3388, 'kosmos': 3389, 'relevante': 3390, 'gefahren': 3391, 'grauen': 3392, 'airline': 3393, 'sta': 3394, 'landet': 3395, 'beides': 3396, 'unqualifizie': 3397, 'wuenscht': 3398, 'bochum': 3399, 'jtrittin': 3400, 'anzahl': 3401, 'fractality': 3402, 'umve': 3403, 'massiv': 3404, 'jasiebe': 3405, 'mund': 3406, 'produktivitaet': 3407, 'angebot': 3408, 'absurdistan': 3409, 'mgtow': 3410, 'gerechtfe': 3411, 'igt': 3412, 'zeitalter': 3413, 'wegwerfen': 3414, 'anzuerkennen': 3415, 'gerechter': 3416, 'israelis': 3417, 'unmenschlich': 3418, 'generation': 3419, 'subjekt': 3420, 'kriegstreiber': 3421, 'you': 3422, 'helmut': 3423, 'zweiten': 3424, 'manipulie': 3425, 'dfakenews': 3426, 'aufruestung': 3427, 'milatrud11': 3428, 'buzzfeedgermany': 3429, '85': 3430, 'mhoepflinger': 3431, 'zecken': 3432, 'antifa': 3433, 'verschwindet': 3434, 'elite': 3435, 'werbung': 3436, 'ohnehin': 3437, 'grundeinkommen': 3438, 'jagt': 3439, 'ehre': 3440, 'kurzer': 3441, 'twitternwieposener': 3442, 'augustinus': 3443, 'rostein45': 3444, 'miss': 3445, 'tinotschka': 3446, 'januar': 3447, 'jf': 3448, 'hoffgaard': 3449, 'staatsanwalt': 3450, 'jost2018': 3451, 'deusneptune': 3452, 'freavonwegen': 3453, 'abschiebungen': 3454, 'samt': 3455, 'gutmensch': 3456, 'ablenken': 3457, 'auftritt': 3458, 'umbringen': 3459, 'schweine': 3460, 'funktion': 3461, 'trittin': 3462, 'spueren': 3463, 'klae': 3464, 'weissen': 3465, 'personen': 3466, 'irgendetwas': 3467, 'wuesste': 3468, 'buergerversicherung': 3469, 'muslimas': 3470, 'unbegreiflich': 3471, 'establishment': 3472, 'korruption': 3473, 'bernie': 3474, 'strukturie': 3475, 'kanal': 3476, 'organisieren': 3477, 'indoktrinie': 3478, 'rolle': 3479, 'mindph': 3480, 'verfuegungsmasse': 3481, 'durchgesetzt': 3482, 'anwendung': 3483, 'jens': 3484, 'weitermachen': 3485, 'scheinheiligsten': 3486, 'gegen': 3487, 'claudi': 3488, 'lpdwien': 3489, 'fuehle': 3490, 'bleibe': 3491, 'herojacques': 3492, 'kompromisse': 3493, 'fatal': 3494, 'irgend': 3495, 'langem': 3496, 'mitarbeiterin': 3497, 'irgendwann': 3498, 'kuenstler': 3499, 'buwehr': 3500, 'hdp': 3501, 'streiten': 3502, 'aufklaeren': 3503, 'austausch': 3504, 'bedingungen': 3505, 'zweckkind': 3506, 'mgenblog': 3507, '1983film': 3508, 'befuerchten': 3509, 'konsequenten': 3510, 'rahmen': 3511, 'degenerie': 3512, 'schlechte': 3513, 'blinzeln': 3514, 'eingeladen': 3515, 'eingewande': 3516, 'no934': 3517, 'faellen': 3518, 'goebbels': 3519, 'hasse': 3520, 'genderisten': 3521, 'huldigen': 3522, 'registrieren': 3523, 'kant': 3524, 'kontrakulturell': 3525, 'sowie': 3526, 'alltag': 3527, 'schmeisst': 3528, 'poggenburg': 3529, 'kreativitaet': 3530, 'bekanntlich': 3531, 'nehme': 3532, 'fliessend': 3533, 'bezug': 3534, 'geredet': 3535, 'vorbereitung': 3536, 'doofe': 3537, 'steuer': 3538, 'steuergeldern': 3539, 'reisst': 3540, 'robe': 3541, 'guete': 3542, 'ue': 3543, 'hashtag': 3544, 'stephanushh': 3545, 'teufelskueche': 3546, 'kennst': 3547, 'gleichen': 3548, 'nordkorea': 3549, 'geistige': 3550, 'ausstattung': 3551, 'staatsfernsehen': 3552, 'ueberwinden': 3553, 'israelische': 3554, 'israelischen': 3555, 'uminterpretie': 3556, 'spezielle': 3557, 'reise': 3558, 'schaefchen': 3559, 'moeglichst': 3560, 'gescheite': 3561, 'augenblick': 3562, 'fernsehgottesdienst': 3563, 'zentrale': 3564, 'europaeische': 3565, 'adi': 3566, 'ggue': 3567, 'russland': 3568, 'nato': 3569, 'nich': 3570, 'he': 3571, 'kritisiere': 3572, 'stattgefunden': 3573, 'kinos': 3574, 'wagt': 3575, 'bodenlose': 3576, 'dummschwaetzerei': 3577, 'reibung': 3578, 'ostgebieten': 3579, 'y': 3580, 'achse': 3581, 'verfassungsrichter': 3582, 'patienten': 3583, 'keirdullea2001': 3584, 'keineafd2017': 3585, 'mindestlohn': 3586, 'behandeln': 3587, 'strack': 3588, 'hals': 3589, 'nahezu': 3590, 'echten': 3591, 'sahra': 3592, 'lsbtiq': 3593, 'familiengruendung': 3594, 'noherrman': 3595, 'intelligenz': 3596, 'official': 3597, 'imame': 3598, 'gezeigt': 3599, 'unisono': 3600, 'hlnbg': 3601, 'gerrie352': 3602, 'raute': 3603, 'verbrecherin': 3604, 'anprangern': 3605, 'unbekannten': 3606, 'derliuhvan': 3607, 'rassist': 3608, 'moguai': 3609, 'verlogene': 3610, 'wirklichen': 3611, 'ralfme': 3612, 'ens14': 3613, 'enricotokar': 3614, 'best': 3615, 'djanecek': 3616, 'verbaende': 3617, 'ober': 3618, 'fuenf': 3619, 'betreibt': 3620, 'diesmal': 3621, 'angekommen': 3622, 'lande': 3623, 'bundespraesident': 3624, 'geschwaetz': 3625, 'putin': 3626, 'buergerlich': 3627, 'patriotische': 3628, 'verfolgen': 3629, 'buettnersdl': 3630, 'zarah': 3631, 'zylinder': 3632, 'spoe': 3633, 'bedient': 3634, 'herrurbach': 3635, 'begreifen': 3636, 'demnach': 3637, 'berufen': 3638, 'lade': 3639, 'kriminellen': 3640, 'hysterie': 3641, 'hochverrat': 3642, 'mj123451': 3643, 'nationalsozialismus': 3644, 'diente': 3645, 'diese': 3646, 'schaue': 3647, 'daraufhin': 3648, 'staatsdienst': 3649, 'primitive': 3650, 'islamistin': 3651, 'leichter': 3652, 'hypervizual': 3653, 'laengere': 3654, 'liberalismus': 3655, 'dermassen': 3656, 'history': 3657, 'sechs': 3658, 'kontinuitaeten': 3659, 'oekumenisch': 3660, 'schwestern': 3661, 'brueder': 3662, 'verpoent': 3663, 'vorstellungskraft': 3664, 'auseinandersetzung': 3665, 'arnd': 3666, 'diringer': 3667, 'refugeeschief': 3668, 'industrialisie': 3669, 'geglaubt': 3670, 'zahl': 3671, 'veroniquebantau': 3672, 'swingtanz': 3673, 'angenommen': 3674, 'fein': 3675, 'allgemeinheit': 3676, 'verbreiten': 3677, 'jotdora': 3678, 'rana': 3679, 'gruenebundestag': 3680, 'sachfragen': 3681, 'herein': 3682, 'shakriet': 3683, 'bedingt': 3684, 'morde': 3685, 'gegangen': 3686, 'wlan': 3687, 'einfacher': 3688, 'thilo': 3689, 'dalek': 3690, 'bitten': 3691, 'faellig': 3692, 'angsthasen': 3693, 'akut': 3694, 'rassenlehre': 3695, 'bereich': 3696, 'sandra': 3697, 'hinterfragt': 3698, 'fordere': 3699, 'zahle': 3700, 'brut': 3701, 'angesagt': 3702, 'interessen': 3703, 'gelang': 3704, 'kameramann': 3705, 'sozialen': 3706, 'gefehlt': 3707, 'zaehle': 3708, 'statement': 3709, 'dementi': 3710, 'geschuetzt': 3711, 'hyaenen': 3712, 'anziehung': 3713, 'oeko': 3714, 'panik': 3715, 'setze': 3716, 'suess': 3717, 'zweite': 3718, 'markie': 3719, 'kommissar': 3720, 'gelb': 3721, 'demonstrieren': 3722, 'kalt': 3723, 'davidermes': 3724, 'brandenburger': 3725, 'tor': 3726, 'lichterzuenden': 3727, 'kriegsgebiet': 3728, 'scheinen': 3729, 'bab': 3730, 'ganzes': 3731, 'eintritt': 3732, 'runde': 3733, 'zustaendig': 3734, 'ethnisch': 3735, 'widerspricht': 3736, 'kante': 3737, 'franken': 3738, 'woelki': 3739, 'entwurf': 3740, 'justizkreisen': 3741, 'beutebadener': 3742, 'veroeffentlicht': 3743, 'gast': 3744, 'katholisch': 3745, 'kontrollie': 3746, 'branche': 3747, 'teilzeit': 3748, 'chefs': 3749, 'verpisst': 3750, 'jenseits': 3751, 'feige': 3752, 'steh': 3753, 'pater': 3754, 'philipp': 3755, 'eintagimadvent': 3756, 'weicheier': 3757, 'harmonie': 3758, 'tvduell': 3759, 'etablie': 3760, 'bruessel': 3761, 'erlebe': 3762, 'kafee': 3763, 'volksve': 3764, 'manuring72': 3765, 'getroffen': 3766, 'oma': 3767, 'wagemanja': 3768, 'fundamentalismus': 3769, 'propagie': 3770, 'beziehung': 3771, 'kumpel': 3772, 'forcieren': 3773, 'grausam': 3774, 'tschrammen': 3775, 'solidavidwache': 3776, 'hessenschaude': 3777, 'oliver': 3778, 'landbau': 3779, 'hohe': 3780, 'larve': 3781, 'traue': 3782, 'kulturell': 3783, 'faustregel': 3784, 'verpflichtet': 3785, 'software': 3786, 'binninger': 3787, 'leuten': 3788, 'kaufe': 3789, 'beschaeftigt': 3790, 'staedten': 3791, 'erklaer': 3792, 'staedte': 3793, 'stelle': 3794, 'kluge': 3795, 'eingehen': 3796, 'rufen': 3797, 'arschkriecher': 3798, 'suender': 3799, 'moeglichkeiten': 3800, 'ingosalmen': 3801, 'blickwinkel': 3802, 'ziehe': 3803, 'doerfern': 3804, 'versteht': 3805, 'kritischepress1': 3806, 'schaechten': 3807, 'komplette': 3808, 'heraus': 3809, 'forderungen': 3810, '300': 3811, 'uebermedien': 3812, 'werbellinstrasse': 3813, 'komplizie': 3814, 'programmie': 3815, 'parlamentarischen': 3816, 'kajhoffmann': 3817, 'zustimmen': 3818, 'paritaetberlin': 3819, 'eitag': 3820, 'schulbildung': 3821, 'kompromiss': 3822, 'ausschliesslich': 3823, 'landtagen': 3824, 'wage': 3825, 'bezweifeln': 3826, 'sommer': 3827, 'durchschnittlich': 3828, 'teite99': 3829, 'weizen': 3830, 'dresden': 3831, 'spdbpt18': 3832, 'fahnenfluechtlinge': 3833, 'thaler': 3834, 'heimatschutz': 3835, 'zweifel': 3836, 'unterrichten': 3837, 'maximal': 3838, 'anked': 3839, 'rbb': 3840, 'augstein': 3841, 'zaussel': 3842, 'urne': 3843, 'at': 3844, 'wuetend': 3845, 'bescheue': 3846, 'geholt': 3847, 'inhaerente': 3848, 'rechnen': 3849, 'richard': 3850, 'dididumm': 3851, 'trollen': 3852, 'huren': 3853, 'gehirnwaesche': 3854, '150': 3855, 'reg': 3856, 'vagina': 3857, 'traeumen': 3858, 'dom': 3859, 'warm': 3860, 'schwuchteln': 3861, 'merkwuerdig': 3862, 'vorstellung': 3863, 'attraktiv': 3864, 'eine': 3865, 'ausgebu': 3866, 'bloede': 3867, 'daemlich': 3868, 'schaemen': 3869, 'emmanuelmacron': 3870, 'besatzerknechte': 3871, 'gelobten': 3872, 'scharfe': 3873, 'dt': 3874, 'mauerfall89': 3875, 'frauenquoten': 3876, 'wollt': 3877, 'respektieren': 3878, 'zurueckdrehen': 3879, 'fickt': 3880, 'herzliche': 3881, 'hannover': 3882, 'frydewelt': 3883, 'empfehle': 3884, 'elektrojude': 3885, 'unisten': 3886, 'wesen': 3887, 'konflikt': 3888, 'doktorant': 3889, 'verwenden': 3890, 'festhalten': 3891, 'monaten': 3892, 'wetten': 3893, 'polemik': 3894, 'evahoegl': 3895, 'kontrolle': 3896, 'funkel': 3897, 'juenger': 3898, 'konkrete': 3899, 'exodus': 3900, 'ww2': 3901, 'schlimmbo2': 3902, 'einige': 3903, 'muenster': 3904, 'studenten': 3905, 'strafbar': 3906, 'pauschal': 3907, 'saekularen': 3908, 'atheistischen': 3909, 'bezweifle': 3910, 'wiedergegeben': 3911, 'lebenden': 3912, 'freihandel': 3913, 'grundlage': 3914, 'schnuckis': 3915, 'wusste': 3916, 'motto': 3917, 'trete': 3918, 'faschismus': 3919, 'wette': 3920, 'fettige': 3921, 'atheismus': 3922, 'stalin': 3923, 'analog': 3924, 'zeugen': 3925, 'beraten': 3926, 'kommst': 3927, 'berivan': 3928, 'aslan': 3929, 'aetzend': 3930, 'gruppen': 3931, 'allesamt': 3932, 'antisemiten': 3933, 'selbstmord': 3934, '75': 3935, 'nackt': 3936, 'scheut': 3937, 'demokratiemeile': 3938, 'allie': 3939, 'ruppe': 3940, 'umgang': 3941, 'stephan': 3942, 'riskie': 3943, 'nenn': 3944, 'unendlich': 3945, 'fuehrung': 3946, 'monikahanutko': 3947, 'hobbyhuren': 3948, 'titel': 3949, 'kritische': 3950, 'belegt': 3951, 'twitterde': 3952, 'schule': 3953, 'weblump': 3954, 'albe': 3955, 'neudf': 3956, 'dritter': 3957, 'csdleipzig': 3958, 'leipziger': 3959, 'ruecken': 3960, 'tust': 3961, 'muslim': 3962, 'lern': 3963, '49': 3964, 'differenzie': 3965, 'maziere': 3966, 'irak': 3967, 'faber': 3968, 'gastfreundschaft': 3969, 'pazderski': 3970, 'unfaehigkeit': 3971, 'mob': 3972, 'bedroht': 3973, 'simulacron2': 3974, 'abgrenzung': 3975, 'innenminister': 3976, 'kirchl': 3977, 'einrichtungen': 3978, 'beweist': 3979, 'herres': 3980, 'fruehstuecksfernsehen': 3981, 'beteiligt': 3982, 'ciao': 3983, 'ig0nix': 3984, 'westens': 3985, 'jeweils': 3986, 'offensichtlichen': 3987, 'gezielte': 3988, 'impulsreferat': 3989, 'trauerspiel': 3990, 'schaust': 3991, 'w': 3992, 'trueben': 3993, 'ermittlungsarbeit': 3994, 'vorbereitet': 3995, 'ideologisch': 3996, 'dicke': 3997, 'holen': 3998, 'unwissend': 3999, 'tragisch': 4000, 'tafel': 4001, 'kraefte': 4002, 'pressestelle': 4003, 'grundeis': 4004, 'vergesst': 4005, 'ok': 4006, 'schlampe': 4007, 'solch': 4008, 'gerhard': 4009, 'zunaechst': 4010, 'lebensqualitaet': 4011, 'genannten': 4012, 'wissenschaftliche': 4013, 'errungenschaften': 4014, 'stimmung': 4015, 'fischt': 4016, 'verbal': 4017, 'lokalzeit': 4018, 'kommunizieren': 4019, 'empfaenger': 4020, 'szenevie': 4021, 'eln': 4022, 'althusmann': 4023, 'nbi': 4024, 'ffm': 4025, 'irisbuecker': 4026, 'lebensgefahr': 4027, 'demos': 4028, 'meckern': 4029, 'ave': 4030, 'platon': 4031, 'klaren': 4032, 'ow': 4033, 'ohr': 4034, 'genial': 4035, 'landtagsabgeordneten': 4036, 'schwere': 4037, 'vorwuerfe': 4038, 'kuenast': 4039, 'haifa': 4040, 'israelfahne': 4041, 'lauter': 4042, 'endet': 4043, 'soll': 4044, 'verpasst': 4045, 'zahlreich': 4046, 'kastration': 4047, 'nirgends': 4048, 'mfg': 4049, 'verheiratet': 4050, 'richter': 4051, 'veroeffentlichten': 4052, 'verbot': 4053, 'janboehm': 4054, 'vorschaubild': 4055, 'hessenschau': 4056, 'top': 4057, 'bundesvorstand': 4058, 'wasser': 4059, 'rechtspopulisten': 4060, 'ieren': 4061, 'viktor': 4062, 'bewe': 4063, 'mitsamt': 4064, 'zigeuner': 4065, 'feiern': 4066, 'freidenker': 4067, 'konservative': 4068, 'falls': 4069, '22': 4070, 'jaehrigen': 4071, 'romaday': 4072, 'zweifellos': 4073, 'rasibo': 4074, 'pmaurus': 4075, 'verstuemmeln': 4076, 'gaebe': 4077, 'feiglinge': 4078, 'illegal': 4079, 'loriotfehlt': 4080, 'gewaehlte': 4081, 'singen': 4082, 'einzigste': 4083, 'aranxo': 4084, 'schneefloeckchen': 4085, 'aehnlich': 4086, 'ob': 4087, 'tendenziell': 4088, 'geringverdiener': 4089, 'ton': 4090, 'dingen': 4091, 'geendet': 4092, 'schneider91ms': 4093, 'wunsch': 4094, 'schwachen': 4095, 'teresa': 4096, 'clausstrunz': 4097, 'befragt': 4098, 'formulie': 4099, 'schwanger': 4100, 'wien': 4101, 'gezuechtet': 4102, 'unbarmherzig': 4103, 'wunderbar': 4104, 'mehrals1wombat': 4105, 'zealousranter': 4106, 'book': 4107, 'boev': 4108, 'kohl': 4109, 'komischerweise': 4110, 'weiber': 4111, 'wovon': 4112, 'abwe': 4113, 'hr': 4114, 'eingreifen': 4115, 'profsalzborn': 4116, 'drittklassig': 4117, '3sat': 4118, 'fahre': 4119, 'verschwult': 4120, 'scouts': 4121, 'schlaegt': 4122, 'sascha': 4123, 'helden': 4124, 'gearbeitet': 4125, 'sueueuess': 4126, 'denn': 4127, 'sexist': 4128, 'meetoo': 4129, 'alkoholiker': 4130, 'masslos': 4131, 'dach': 4132, 'baer': 4133, 'jesidischen': 4134, 'interpretieren': 4135, 'zerrissenheit': 4136, 'oppositionsfuehrer': 4137, 'verseuchten': 4138, 'trifft': 4139, 'aufsetzen': 4140, 'anziehen': 4141, 'finanzielle': 4142, 'esgeld': 4143, 'einseitig': 4144, 'amri': 4145, 'inklusive': 4146, 'lege': 4147, '26': 4148, 'szene': 4149, 'kirchlichen': 4150, 'taetig': 4151, 'sozialschmarotzer': 4152, 'mohamed': 4153, 'ludhell321': 4154, 'grab': 4155, 'schaufeln': 4156, 'erden': 4157, 'prophet': 4158, 'weltweiten': 4159, 'riebenen': 4160, 'umgebungen': 4161, 'abfall': 4162, 'kompost': 4163, 'rus': 4164, 'fordern': 4165, 'neoliberale': 4166, 'mutwillig': 4167, 'risiko': 4168, 'geistig': 4169, 'nope': 4170, 'waren': 4171, 'vasallen': 4172, 'aufbau': 4173, 'jeder': 4174, 'moege': 4175, 'kaputt': 4176, 'ministerposten': 4177, 'bestrafen': 4178, 'besitzes': 4179, 'verrat': 4180, 'volke': 4181, 'teilen': 4182, 'widerlichen': 4183, 'beschrieben': 4184, 'einzuschraenken': 4185, 'gesper': 4186, 'kriegen': 4187, 'lumpen': 4188, 'yxyzyxy': 4189, 'oekonomisch': 4190, 'einig': 4191, 'einschuechtern': 4192, 'michaelaelfgen': 4193, 'geringe': 4194, 'rbbabendschau': 4195, '86': 4196, 'moechtest': 4197, 'jageradeheraus': 4198, 'piratenfrank': 4199, 'dreckschwein': 4200, 'zitie': 4201, 'mittel': 4202, 'rohingya': 4203, 'legen': 4204, 'menno': 4205, 'sozialabbau': 4206, 'meier': 4207, 'diktatur': 4208, 'brechen': 4209, 'gebu': 4210, 'stag': 4211, 'jordanien': 4212, 'lehnen': 4213, 'sondierungsergebnisse': 4214, 'unterdruecken': 4215, 'lgbt': 4216, 'nabu': 4217, 'presse': 4218, 'gewinnt': 4219, 'vanberlichingen': 4220, 'haseloff': 4221, 'such': 4222, 'anstatt': 4223, 'gedenkt': 4224, '2005': 4225, 'kalbluetig': 4226, 'mehrheiten': 4227, 'nachricht': 4228, 'genitalverstuemmelung': 4229, 'kenntnis': 4230, 'linksgruen': 4231, 'horst': 4232, 'aufbruch': 4233, 'unrealistisch': 4234, 'verlangt': 4235, 'blockieren': 4236, 'anatolien': 4237, 'anschlaege': 4238, 'annaehernd': 4239, 'konzept': 4240, 'klug': 4241, 'altersarmut': 4242, 'herrscht': 4243, 'webseiten': 4244, 'penner': 4245, 'falscher': 4246, 'the': 4247, 'seitdem': 4248, 'zwingend': 4249, 'rueckrat': 4250, 'kaiebel': 4251, 'pinkstinksde': 4252, 'endgueltige': 4253, 'umerziehung': 4254, 'schaetzung': 4255, '4sonicc': 4256, 'frisst': 4257, 'befehle': 4258, 'heterosexualitaet': 4259, 'auslaendischen': 4260, 'rechtsextremismus': 4261, 'parasiten': 4262, 'dennis': 4263, 'wieland': 4264, 'qualvoll': 4265, 'analphabeten': 4266, 'sucht': 4267, 'verbloedet': 4268, 'liberaler': 4269, 'allem': 4270, 'distanzieren': 4271, 'seiten99ueber': 4272, 'shalom': 4273, 'bluethenstaub': 4274, '66freedom66': 4275, 'abgeschafft': 4276, 'monate': 4277, 'besonderen': 4278, 'gewonnen': 4279, 'staatliche': 4280, 'polizeimuenchen': 4281, 'komme': 4282, 'vegetarier': 4283, 'kapitalistische': 4284, 'mirjam': 4285, 'verschwinden': 4286, 'schweineblut': 4287, 'blieb': 4288, 'meth': 4289, 'uebrig': 4290, 'moechten': 4291, 'stehlen': 4292, 'dreckspa': 4293, 'interesse': 4294, 'bestimmten': 4295, 'politischer': 4296, 'arbeitslose': 4297, 'lager': 4298, 'zweimal': 4299, 'duesseldorf': 4300, 'prostituie': 4301, 'formel1': 4302, 'non': 4303, 'zeitpunkt': 4304, 'kriecht': 4305, 'linksfaschist': 4306, 'streichen': 4307, 'fluechten': 4308, 'umkaempften': 4309, 'nachfahren': 4310, 'somalia': 4311, 'therealkare': 4312, 'alternative': 4313, 'programm': 4314, 'staatsbuergerschaft': 4315, 'irrsinn': 4316, 'zaeune': 4317, 'stunde': 4318, 'trf84': 4319, 'berger': 4320, 'faende': 4321, 'finanzminister': 4322, 'unterbezahlt': 4323, 'anzeigen': 4324, 'permanent': 4325, 'verni': 4326, 'htung': 4327, 'drittes': 4328, 'saeugetieren': 4329, 'stiftung': 4330, 'chef': 4331, 'kaeser': 4332, 'einzig': 4333, 'gesocks': 4334, 'nypd': 4335, 'w203go': 4336, 'nationalitaet': 4337, 'geschlossene': 4338, 'gerichtshof': 4339, 'versprechen': 4340, 'haelfte': 4341, 'schwierigkeiten': 4342, 'zerstoeren': 4343, 'spezies': 4344, 'erlangen': 4345, 'leistung': 4346, 'tue': 4347, 'einzulassen': 4348, 'abe': 4349, 'h66': 4350, 'verwurzelt': 4351, 'tiefes': 4352, 'aufregung': 4353, 'bekaempfen': 4354, 'andere': 4355, 'traditionelle': 4356, 'faengt': 4357, 'kommenden': 4358, 'landgericht': 4359, 'voraus': 4360, 'sofa': 4361, 'moustafa': 4362, 'merkelno': 4363, 'ruf': 4364, 'einschaetzen': 4365, 'zb': 4366, 'nuetzt': 4367, 'leiden': 4368, 'kamera': 4369, 'rechtlichen': 4370, 'belogen': 4371, 'cent': 4372, 'zahlt': 4373, 'vielfaeltige': 4374, 'islamistischer': 4375, 'verschwiegen': 4376, 'abgeben': 4377, 'drbrandner': 4378, 'nicola': 4379, 'erbschaftssteuer': 4380, 'immerzu': 4381, 'anlass': 4382, 'luxus': 4383, 'zweiter': 4384, 'kommunismus': 4385, 'luegt': 4386, 'zeug': 4387, 'anstand': 4388, 'versuche': 4389, 'tichyseinblick': 4390, 'aufgebauschtes': 4391, 'h2o': 4392, 'jobs': 4393, 'leistet': 4394, 'garstig': 4395, 'domradio': 4396, 'ideologien': 4397, 'korrektur': 4398, 'fischer': 4399, 'bundesbuerger': 4400, 'patriarchator': 4401, 'staatsfunk': 4402, 'rauten': 4403, 'gib': 4404, 'anstaendige': 4405, 'gleichstellung': 4406, 'haustiere': 4407, 'fdpbw': 4408, 'privilegie': 4409, '3k18': 4410, 'abwehr': 4411, 'westlichen': 4412, 'menschliche': 4413, 'maltelehming': 4414, 'nah': 4415, 'magdeburg': 4416, 'evangelium': 4417, 'historischen': 4418, 'besatzer': 4419, 'destso': 4420, 'flieht': 4421, 'bekaempfung': 4422, 'anstaendigen': 4423, 'maennl': 4424, 'aufhalten': 4425, 'ueberzeugungen': 4426, 'campact': 4427, 'polit': 4428, 'schlimmste': 4429, 'bundesinnenminister': 4430, 'maizi': 4431, 'praxis': 4432, 'vo': 4433, 'freeworld2': 4434, 'noburkaverbot': 4435, 'amazikat': 4436, 'mittelalterlichen': 4437, 'gegenwae': 4438, 'allerseits': 4439, 'schreibe': 4440, 'gefuehl': 4441, 'john': 4442, 'beu': 4443, 'sozialromantik': 4444, 'individuelle': 4445, 'islamismus': 4446, '91': 4447, 'seiten': 4448, 'russischen': 4449, 'dauern': 4450, 'hysterisch': 4451, 'kohle': 4452, 'nonnjochen': 4453, 'norgeprivacy': 4454, 'zersetzt': 4455, 'schnelle': 4456, 'vollzogen': 4457, 'beller': 4458, 'werk': 4459, 'sexueller': 4460, 'manhattan': 4461, 'abgetaucht': 4462, 'fans': 4463, 'aufgaben': 4464, 'iss': 4465, 'pr': 4466, 'vorstellen': 4467, 'reagie': 4468, 'mangelnde': 4469, 'schandmaeuler': 4470, 'dukenford': 4471, 'keinesfalls': 4472, 'machtgeile': 4473, 'begangen': 4474, 'toten': 4475, 'geboren': 4476, 'rohstoffe': 4477, '70': 4478, 'bunter': 4479, 'indern': 4480, 'wurscht': 4481, 'front': 4482, 'wueste': 4483, 'predigt': 4484, '2000': 4485, 'asf': 4486, 'katholizismus': 4487, 'neonazis': 4488, 'richtigen': 4489, 'ernstes': 4490, 'alma': 4491, 'konzernen': 4492, 'perverse': 4493, 'putzen': 4494, 'fiat': 4495, 'anerkennung': 4496, 'wein': 4497, 'sang': 4498, 'antiisraelischen': 4499, 'dargestellt': 4500, 'beitrittsverhandlungen': 4501, 'moralische': 4502, 'ueberlassen': 4503, 'strassenbau': 4504, 'mitschuld': 4505, 'schmarotzen': 4506, 'gleichstellungsbeauftragter': 4507, 'aufpassen': 4508, 'komplexe': 4509, 'stephdammi': 4510, 'brodnig': 4511, 'grundsicherung': 4512, 'verletzten': 4513, 'hiphop': 4514, 'geschlechtsorgane': 4515, 'frueh': 4516, 'fraunhofer': 4517, 'durchbruch': 4518, 'freitag': 4519, 'konsequent': 4520, 'verbrechen': 4521, 'zuhoeren': 4522, 'folter': 4523, 'date': 4524, 'frueheren': 4525, 'geringer': 4526, 'stop': 4527, 'anerkennt': 4528, 'oefter': 4529, 'ketten': 4530, 'geheiratet': 4531, 'fake': 4532, 'schaut': 4533, 'reiche': 4534, 'verwaltung': 4535, 'wahlkreiskandidaten': 4536, 'terrorist': 4537, 'ueberlieferungen': 4538, 'beguenstigen': 4539, 'rollt': 4540, 'emir': 4541, 'katar': 4542, 'waffenstopp': 4543, 'merle': 4544, 'junges': 4545, 'unschuldiges': 4546, 'kch': 4547, 'umweltundaktiv': 4548, 'asylantenflut': 4549, 'asylanenstop': 4550, 'zivil': 4551, 'strafrechts': 4552, 'miquwarchar': 4553, 'munkelt': 4554, 'kiss': 4555, 'sabbath': 4556, 'rockon': 4557, 'vielfaeltiger': 4558, 'aqeela': 4559, 'asifi': 4560, 'gewinnerin': 4561, 'nansenaward': 4562, 'testen': 4563, 'miauen': 4564, 'sklaventums': 4565, 'au': 4566, 'ueberschuss': 4567, 'verschenken': 4568, 'lwaff': 4569, 'nationalsozialist': 4570, 'schimpfwo': 4571, 'dulden': 4572, 'vorkommt': 4573, 'elmo31226': 4574, 'mond': 4575, 'kehrseite': 4576, 'reichsdeutschen': 4577, 'flugscheiben': 4578, 'ufos': 4579, 'kosmetikindustrie': 4580, 'modelbranche': 4581, 'praesent': 4582, 'intereligioese': 4583, 'integrative': 4584, 'flh': 4585, '11uhr': 4586, 'kl': 4587, 'alnour': 4588, 'nicolabeerfdp': 4589, 'glaeubige': 4590, 'ehemals': 4591, 'bosnische': 4592, 'gastwi': 4593, 'persische': 4594, 'schueren': 4595, 'ausuebung': 4596, 'erschweren': 4597, 'entsetzlich': 4598, 'international': 4599, 'vernetzt': 4600, 'bestens': 4601, 'aufgestellt': 4602, 'kulturkampf': 4603, 'be': 4604, 'parole': 4605, 'vaterlaender': 4606, 'versagt': 4607, 'besuchervisa': 4608, 'uebernommen': 4609, 'liebhabereien': 4610, 'orgasmus': 4611, 'queeristan': 4612, 'ausstehen': 4613, 'fobimania': 4614, 'bedrohung': 4615, 'harry': 4616, 'potter': 4617, 'verweiblicht': 4618, 'kaffeeklatsch': 4619, 'kriegserklaerung': 4620, 'roemischen': 4621, 'reiches': 4622, 'habsburger': 4623, 'monarchie': 4624, 'hessische': 4625, 'sozialministerium': 4626, 'geschaefte': 4627, 'entschluss': 4628, 'diesjaehrigen': 4629, 'adventssonntag': 4630, 'schoenes': 4631, 'entspanntes': 4632, 'weihnachtsfest': 4633, 'riceblues': 4634, 'unnatuerlichen': 4635, 'stoffe': 4636, 'atomen': 4637, 'spinnern': 4638, 'gelangen': 4639, 'ecken': 4640, 'konter': 4641, 'gespielt': 4642, 'comeoneffzeh': 4643, 'afckol': 4644, 'effzeh': 4645, 'thereturnofthegoat': 4646, 'afckoe': 4647, 'ungleiche': 4648, 'sympathischer': 4649, 'abgesehen': 4650, 'dreiundzwoelfzig': 4651, 'wlernr': 4652, 'hasserfuellte': 4653, 'weiterleite': 4654, 'blinder': 4655, 'bezwecken': 4656, 'brauner': 4657, 'verschlimmern': 4658, 'friedenspolitik': 4659, 'verhuellen': 4660, 'gesichts': 4661, 'siegermaechte': 4662, 'christophcolla2': 4663, 'jani': 4664, 'dobrinth': 4665, 'belanglosen': 4666, 'quatschen': 4667, 'unkenntlichkeit': 4668, 'anzubiedern': 4669, 'oefters': 4670, 'literatur': 4671, 'roettgen': 4672, 'nunmehr': 4673, 'verstaendlich': 4674, 'babypause': 4675, 'ausfaellt': 4676, 'arbeitnehmende': 4677, 'auslandsaufenthalten': 4678, 'eheleute': 4679, 'tauscht': 4680, 'haupt': 4681, 'rueckenhaar': 4682, 'westkurvenfan': 4683, 'schwester': 4684, 'minderjaehrige': 4685, 'toechter': 4686, 'scharf': 4687, 'lesetipp': 4688, 'prof': 4689, 'friedhelm': 4690, 'hengsbach': 4691, 'umfai': 4692, 'vermoegenssteuer': 4693, 'wiuge': 4694, 'antifeministisch': 4695, 'produkt': 4696, 'propagandafilm': 4697, 'abgenickt': 4698, 'eid': 4699, 'geschaffen': 4700, 'gelitten': 4701, 'naivitaet': 4702, 'klarer': 4703, 'strikter': 4704, 'pluralistischen': 4705, 'zdfwatch': 4706, 'jorg': 4707, 'radek': 4708, 'schaem': 4709, 'anzupoebeln': 4710, 'selbstgefaellig': 4711, 'stinkig': 4712, 'pilgern': 4713, 'schlaeft': 4714, 'michaelspreng': 4715, 'studio': 4716, 'lenken': 4717, 'laestige': 4718, 'basisdemokratie': 4719, 'laestigen': 4720, 'laestig': 4721, 'lea': 4722, 'chiara': 4723, 'professionelle': 4724, 'wjanka634': 4725, 'jacobjoussen': 4726, 'entdecken': 4727, 'boettinger': 4728, 'belaestigen': 4729, 'pkk': 4730, 'flagge': 4731, 'anstecker': 4732, 'spdnds': 4733, 'danielmindon': 4734, 'tatsaechlichen': 4735, 'toutes': 4736, 'mes': 4737, 'licitations': 4738, 'melenchon': 4739, 'frankreichwahl': 4740, 'jdoeschner': 4741, 'nrwspd': 4742, 'lokale': 4743, 'rwe': 4744, 'private': 4745, 'wachdienst': 4746, 'spannend': 4747, 'carsten': 4748, 'abstimmen': 4749, 'einsatzes': 4750, 'ablehnen': 4751, 'tierfreundlich': 4752, 'buddisten': 4753, 'zugetraut': 4754, 'linksfaschisten': 4755, 'philipplicke': 4756, 'pflicht': 4757, 'gegenterror': 4758, 'messverfahren': 4759, 'erschliesst': 4760, 'intuition': 4761, 'institution': 4762, 'erik': 4763, 'fluegge': 4764, 'arndt': 4765, 'klocke': 4766, 'fuehrungsmannschaft': 4767, 'machtsinn': 4768, 'wasserglas': 4769, 'tucke': 4770, 'renten': 4771, 'sozialleistungen': 4772, 'konstantinandm': 4773, 'ohnekonsequenz': 4774, 'kuscheljutiz': 4775, 'erhoehte': 4776, 'geschwindigkeit': 4777, 'raser': 4778, 'verfolge': 4779, 'ausgelacht': 4780, 'loewe': 4781, 'territorium': 4782, 'eindringe': 4783, 'eils': 4784, 'vermeide': 4785, 'zoo': 4786, 'loewengehege': 4787, 'klettern': 4788, 'oezcanmutlu': 4789, 'rbb24': 4790, 'tspberlin': 4791, 'tspleute': 4792, 'dm': 4793, 'anhaenglich': 4794, 'zahm': 4795, 'berl': 4796, 'piratenberlin': 4797, 'dielinkeberlin': 4798, 'verminde': 4799, 'wohlergehen': 4800, 'ausrotten': 4801, 'traurige': 4802, 'ausrottung': 4803, 'zurueckkommen': 4804, 'willig': 4805, 'untere': 4806, 'solis': 4807, 'suesser': 4808, 'senf': 4809, 'broetchen': 4810, 'mischbrot': 4811, 'sozusagen': 4812, 'kameraden': 4813, 'vernetzen': 4814, 'exegese': 4815, 'jubelt': 4816, 'ursprung': 4817, 'waus': 4818, 'neonazi': 4819, 'anknuepfungspunkte': 4820, 'vorangehenden': 4821, 'zuordnung': 4822, 'retbar': 4823, 'auszuleben': 4824, 'fassbarer': 4825, 'ignorierende': 4826, 'neutestamentliche': 4827, 'abzueglich': 4828, 'diverser': 4829, 'hofer': 4830, 'straeters': 4831, 'maennerhaushalt': 4832, 'gaehnend': 4833, 'billigproduktion': 4834, 'one': 4835, 'schaenden': 4836, 'umzubringen': 4837, 'vorfahren': 4838, 'patent': 4839, 'schulle99': 4840, 'lieblingskoalition': 4841, 'envielfalt': 4842, 'siegel': 4843, 'prominent': 4844, 'bauernfamilien': 4845, 'scheibe': 4846, 'abschneiden': 4847, 'nobby1949z': 4848, 'weltoffenheit': 4849, 'fremdwo': 4850, 'magst': 4851, 'schildern': 4852, 'froschfresser': 4853, 'selbstverschuldet': 4854, 'lutschen': 4855, 'gefaengnis': 4856, 'ndrrecherche': 4857, 'aerzten': 4858, 'abgelehnten': 4859, 'asylbewerbern': 4860, 'leichtfe': 4861, 'atteste': 4862, 'auszustellen': 4863, 'abschiebung': 4864, 'bewahren': 4865, 'stamme': 4866, 'spritz': 4867, 'gejaule': 4868, 'trutze': 4869, 'bruederlich': 4870, 'zusammenhaelt': 4871, 'memel': 4872, 'etsch': 4873, 'belt': 4874, 'missbrauchen': 4875, 'servicetweet': 4876, 'evolution': 4877, 'nachvollziehbar': 4878, 'hoechstem': 4879, 'unplausibel': 4880, 'm10': 4881, 'f8z': 4882, 'kontrollieren': 4883, 'reibungspunkte': 4884, 'abbrachen': 4885, 'nuetzliches': 4886, 'ehr': 4887, 'philosophie': 4888, 'kunstgeschichte': 4889, 'geraumer': 4890, 'bauchschmerzen': 4891, 'menschenrecht': 4892, 'geficktes': 4893, 'elitaere': 4894, 'freierwaehler': 4895, 'renner': 4896, 'alternativenrw': 4897, 'traudichde': 4898, 'afdwaehlen': 4899, 'grueneversenken': 4900, 'beschissen': 4901, 'hingegen': 4902, 'regionaltreffen': 4903, 'wirklicher': 4904, 'eklat': 4905, 'menschenverachtend': 4906, 'verhaelt': 4907, 'juliakloeckner': 4908, 'steffenkuhne': 4909, 'kulturelle': 4910, 'breitet': 4911, 'identitaeren': 4912, 'fehlenden': 4913, 'info2099': 4914, 'reche': 4915, 'ers': 4916, 'umzukrempeln': 4917, 'nagel': 4918, 'kappe': 4919, 'okkupanten': 4920, 'trink': 4921, 'einen': 4922, 'daneben': 4923, 'benehmen': 4924, 'isst': 4925, 'behaelt': 4926, 'rumsucher': 4927, 'rueckstandslos': 4928, 'gestorben': 4929, 'nahrungskette': 4930, 'hmh': 4931, 'schonmal': 4932, 'ausgesetzt': 4933, 'achte': 4934, 'libelle2000r': 4935, 'unterdrueckt': 4936, 'folte': 4937, 'terrorisie': 4938, 'erotischer': 4939, 'elektrische': 4940, 'zahnbuerste': 4941, 'laedt': 4942, 'theodora58x': 4943, 'fuerchtet': 4944, 'messianischen': 4945, 'heils': 4946, '62': 4947, 'mobile': 4948, 'stoffgefaengnis': 4949, 'naaa': 4950, 'umkleidekabine': 4951, 'maennlichen': 4952, 'effizienz': 4953, 'bestmoegliche': 4954, 'ausnutzung': 4955, 'arbeitskraft': 4956, 'extravagante': 4957, 'maskeraden': 4958, 'legitimer': 4959, 'onyx0815': 4960, 'korrespondieren': 4961, 'fehlts': 4962, 'bettina': 4963, 'kudla': 4964, 'winkler': 4965, 'kolationen': 4966, 'lilalapras': 4967, 'usrgreg': 4968, 'andre290573': 4969, 'profilieren': 4970, 'selbstbewusste': 4971, 'erziehung': 4972, 'geschundenen': 4973, '40': 4974, 'hessenbooten': 4975, 'beleidigt': 4976, 'trinker': 4977, 'hurenbock': 4978, 'giesskannenve': 4979, 'asiatische': 4980, 'ostkuesstenhelfer': 4981, 'schranken': 4982, 'gewiesen': 4983, 'andreas': 4984, 'b1985': 4985, 'rechtschreibkorrekturverfaelschungsmistprogramm': 4986, 'besiegelt': 4987, 'zauberhand': 4988, 'verringe': 4989, 'quengelig': 4990, 'zickig': 4991, 'ausgeschlafen': 4992, 'statistische': 4993, 'wahrscheinlichkeit': 4994, 'vereinfachung': 4995, 'benannt': 4996, 'haiti': 4997, 'staerksten': 4998, 'hurrikan': 4999, 'matthew': 5000, 'gebieten': 5001, 'geimpft': 5002, 'offizier': 5003, 'neuerlichen': 5004, 'bverfg': 5005, 'kopftuchtragende': 5006, 'erzieherin': 5007, 'blner': 5008, 'senat': 5009, 'neutralitaetsgesetz': 5010, 'paradox': 5011, 'homophobe': 5012, 'lindenstrasse': 5013, 'hochpolitisch': 5014, 'radikalisierung': 5015, 'mehrheitsgesellschaft': 5016, 'wahlverlierer': 5017, 'attentaten': 5018, 'ueberfaellt': 5019, 'zuhause': 5020, 'kidnappt': 5021, 'unfaehiger': 5022, 'ttipp': 5023, 'dummbatz': 5024, 'betreten': 5025, 'andreasmiddel': 5026, 'pg': 5027, 'blindheim': 5028, 'rump': 5029, 'sympathisch': 5030, 'loben': 5031, 'medium': 5032, 'darmbewohner': 5033, 'steinzeitzombies': 5034, 'laiendarstellerin': 5035, 'talkshow': 5036, 'golffahrer': 5037, 'golfspieler': 5038, 'golfdiktatoren': 5039, 'mfratzscher': 5040, 'rueckgabe': 5041, 'steuermehreinnahmen': 5042, 'wahlgeschenke': 5043, 'hinde': 5044, 'ausgabenstruktur': 5045, 'bemerke': 5046, 'abschuss': 5047, 'freizugeben': 5048, 'holisticcaremh': 5049, 'verbrochen': 5050, 'intersexueller': 5051, 'homosexuell': 5052, 'handele': 5053, 'gesandten': 5054, 'zuwider': 5055, 'unglaeubig': 5056, 'rumaenischen': 5057, 'banden': 5058, 'besetzen': 5059, 'otzt': 5060, 'zions': 5061, 'benediktiner': 5062, 'kloster': 5063, 'nuetschau': 5064, 'nordens': 5065, 'verliehen': 5066, 'frshev': 5067, 'mallorca': 5068, 'aufgemacht': 5069, 'tompabb': 5070, 'wahlentscheidungen': 5071, 'grundorientierungen': 5072, 'glaubte': 5073, 'befriedigendem': 5074, 'sexleben': 5075, 'rennt': 5076, 'emilbriard': 5077, 'redner': 5078, 'chemtrail': 5079, 'uebt': 5080, 'kucken': 5081, 'erkundige': 5082, 'hooton': 5083, 'rechtswidrige': 5084, 'abgegeben': 5085, 'hochzuschlafen': 5086, 'ausnutzen': 5087, 'friedmann': 5088, 'bildenden': 5089, 'verschwoerungsideologien': 5090, 'israelkritik': 5091, 'avantgardistisch': 5092, 'befangen': 5093, 'kahane': 5094, 'kommende': 5095, 'versaut': 5096, 'detail': 5097, 'ausbau': 5098, 'bezahlbar': 5099, 'eigenheimfoerderung': 5100, 'pp': 5101, 'svbabelsberg03': 5102, 'dfb': 5103, 'vizepraesident': 5104, 'erhebliche': 5105, 'rechtmaessigkeit': 5106, 'nofv': 5107, 'verbandsgerichts': 5108, 'faszifankurve': 5109, 'svbfce': 5110, 'babelsberg': 5111, 'cottbus': 5112, 'rauensranking': 5113, 'schwierig': 5114, 'mgtows': 5115, 'erfrischend': 5116, 'negativ': 5117, 'hassen': 5118, 'fuerh': 5119, 'vizepraesidentin': 5120, 'bundestages': 5121, 'svk': 5122, 'inntal': 5123, 'fisch': 5124, 'metapher': 5125, 'aun': 5126, 'definitiv': 5127, 'prenzlstimme': 5128, 'repressives': 5129, 'transgender': 5130, 'ausfuehren': 5131, 'verschafft': 5132, 'dates': 5133, 'bayrische': 5134, 'hingekommen': 5135, 'stronz': 5136, 'gespenster': 5137, 'wassers': 5138, 'gingen': 5139, 'meer': 5140, 'elends': 5141, 'holomaeus': 5142, 'ansektionob': 5143, 'inhalt': 5144, 'rechtschreibung': 5145, 'konsumieren': 5146, 'ralfs1812': 5147, 'find': 5148, 'platzeck': 5149, 'chanukkia': 5150, 'gestanden': 5151, 'olaf': 5152, 'stumm': 5153, 'geschaltet': 5154, 'reputation': 5155, 'schlag': 5156, 'steigern': 5157, 'lehrstuhl': 5158, 'aufloesen': 5159, 'echtes': 5160, 'potenzial': 5161, 'ausweitung': 5162, 'dialogs': 5163, 'freiheitliche': 5164, 'saekularisie': 5165, 'voraussetzungen': 5166, 'garantieren': 5167, 'boeckenfoerde': 5168, 'vernunft': 5169, 'ungsgefuehl': 5170, 'kompromissfaehigkeit': 5171, 'schwinden': 5172, 'epidemisch': 5173, 'getreuen': 5174, 'beherrscht': 5175, 'mehren': 5176, 'gammln': 5177, 'buddel': 5178, 'fckoeln': 5179, 'jon': 5180, 'sin': 5181, 'fueer': 5182, 'kleber': 5183, 'ernsthaft': 5184, 'msnbc': 5185, 'lehrbuch': 5186, 'betrunkenen': 5187, 'gespraechspa': 5188, 'weiterleitungen': 5189, 'auszuprobieren': 5190, 'direktorium': 5191, 'verbergen': 5192, 'ichbinantifa': 5193, 'andersdenkende': 5194, 'ausuebe': 5195, 'erneue': 5196, 'wiedersehen': 5197, 'kristinahaenel': 5198, 'schwangerschaftsabbrueche': 5199, 'vorzuenthalten': 5200, 'selbstbestimmungsrecht': 5201, 'beschneiden': 5202, 'bevormundend': 5203, '219a': 5204, 'koelne': 5205, 'reff': 5206, 'ekelhafte': 5207, 'co': 5208, 'effizient': 5209, 'angehoe': 5210, 'mrmacsimon': 5211, 'skybirdphoenix': 5212, 'schnauze': 5213, 'steinmaier': 5214, 'facebpalmer': 5215, 'abschnitten': 5216, 'verschaerft': 5217, 'grenzblockade': 5218, 'notlage': 5219, 'hmheinig': 5220, 'verfallserscheinungen': 5221, 'linear': 5222, 'gekennzeichnet': 5223, 'muten': 5224, 'exponentiell': 5225, 'verrohtekonservative': 5226, 'daemlichkeit': 5227, 'gepachtet': 5228, 'annett': 5229, 'rose': 5230, 'deutscland': 5231, 'pluralistische': 5232, 'pluralismus': 5233, 'geloest': 5234, 'thomas': 5235, 'islamophob': 5236, 'huebsche': 5237, 'energie': 5238, 'gleichmaessiger': 5239, 'schleimig': 5240, 'rueckgratlos': 5241, 'boah': 5242, 'lebensunwe': 5243, 'meinte': 5244, 'net': 5245, 'einsehen': 5246, 'drcarmenschwarz': 5247, 'kuesst': 5248, 'zaehne': 5249, 'putzt': 5250, 'falldermauer': 5251, 'muesstest': 5252, 'planeten': 5253, 'klares': 5254, 'linkspa': 5255, 'unmittelbar': 5256, 'getrigge': 5257, 'vermischte': 5258, 'vermanschte': 5259, 'vernichter': 5260, 'barley': 5261, 'dauerrede': 5262, 'kalte': 5263, 'verbundenheit': 5264, 'wachsen': 5265, 'hanne': 5266, 'huemmer': 5267, 'gaehn': 5268, 'erpresste': 5269, 'verfass': 5270, 'gerichtauflagen': 5271, 'goldig': 5272, 'heimatgefuehl': 5273, 'fina': 5274, '74': 5275, 'haenden': 5276, 'klebt': 5277, 'faszinierende': 5278, 'existenz': 5279, 'stoische': 5280, 'bereitschaft': 5281, 'gelassen': 5282, 'muffpepper': 5283, 'finkfinkmichael': 5284, 'sebastiankurz': 5285, 'diepa': 5286, 'praktiken': 5287, 'korrektheiten': 5288, 'reiserobby': 5289, 'antrages': 5290, 'ergaenzt': 5291, 'umsetzung': 5292, 'troste': 5293, 'deutschs': 5294, 'blockie': 5295, 'gueter': 5296, 'kundtun': 5297, 'erhoe': 5298, 'hinterfotzige': 5299, 'gruensprecher': 5300, 'shuggy35312948': 5301, 'cherusker6': 5302, 'sunami495': 5303, 'gehandelt': 5304, 'skandal': 5305, 'gesamten': 5306, 'niederlanden': 5307, 'irgendeine': 5308, 'vollverschleierung': 5309, 'satte': 5310, 'aufzustehen': 5311, 'zion': 5312, 'mdb': 5313, 'schuetzer': 5314, 'unternimmst': 5315, 'gehst': 5316, 'einreden': 5317, 'verlieben': 5318, 'jeside': 5319, 'nlpete007': 5320, 'joyia': 5321, 'consult': 5322, 'handschuh': 5323, 'inku': 5324, 'lux': 5325, 'herrfranken': 5326, 'untalentie': 5327, 'zuruecktritt': 5328, 'mieseste': 5329, 'konto': 5330, 'nuerburgring': 5331, 'versenkt': 5332, 'nullnummer': 5333, 'ungeheuerlich': 5334, 'ckoemmlinger': 5335, 'niggergesindel': 5336, 'menschen2017': 5337, 'plappe': 5338, 'abstossend': 5339, 'dritte': 5340, 'skurrile': 5341, 'alexander': 5342, 'bismarck': 5343, 'beruehmten': 5344, 'fasste': 5345, 'verzichte': 5346, 'esse': 5347, 'lasse': 5348, 'unglaeubiger': 5349, 'provozieren': 5350, 'talent': 5351, 'provokation': 5352, 'titanic': 5353, 'linksgedrehten': 5354, 'hinrichten': 5355, 'retweet': 5356, 'kommunisten': 5357, 'andrezeven': 5358, 'fraup': 5359, 'gummis': 5360, 'gummitwist': 5361, 'frz': 5362, 'leonhi': 5363, 'geleitete': 5364, 'ehs': 5365, 'woelfe': 5366, 'erwiesen': 5367, 'finsterem': 5368, 'herzig': 5369, 'taugt': 5370, 'hinzugehoeren': 5371, 'angefueh': 5372, 'korangeleh': 5373, 'heimatland': 5374, 'scheissen': 5375, 'koreatourism': 5376, 'koreanern': 5377, 'pofalla': 5378, 'ole': 5379, 'beust': 5380, 'falla': 5381, 'schaftsliberale': 5382, 'gealte': 5383, 'schoss': 5384, 'aether': 5385, 'faeulnis': 5386, 'wabe': 5387, 'erkennbar': 5388, 'bewegt': 5389, 'entzug': 5390, 'trendinaliade': 5391, 'riesenarschloch': 5392, 'ketzerei': 5393, 'haeltst': 5394, 'innerlich': 5395, 'karltompson': 5396, 'macho': 5397, 'sexistischen': 5398, 'ebene': 5399, 'mutexdeadlock': 5400, 'cinderella': 5401, 'gesund': 5402, 'wald': 5403, 'gesammelte': 5404, 'fliegenpilz': 5405, 'munden': 5406, 'behandeltes': 5407, 'wurzelgemuese': 5408, 'heisses': 5409, 'hetzkammer': 5410, 'tradingtheponzi': 5411, 'chance': 5412, 'bolchewisten': 5413, 'landesverraeter': 5414, 'juedischerer': 5415, 'remigration': 5416, 'schleichend': 5417, 'textstelle': 5418, 'wolltest': 5419, 'mord': 5420, 'dargelegt': 5421, 'tatbestaende': 5422, 'aufgefueh': 5423, 'aufzuwachsen': 5424, 'offensiv': 5425, 'umgegangen': 5426, 'vorbereitungstreffen': 5427, 'medienpreis': 5428, 'einreichungen': 5429, 'abweisen': 5430, 'griechenland': 5431, 'auffanglager': 5432, 'belassen': 5433, 'indentitaet': 5434, 'unwahrschlich': 5435, 'vorgaben': 5436, 'spanischen': 5437, 'inakzeptabel': 5438, 'katalonien': 5439, 'entsendung': 5440, 'osze': 5441, 'beobachter': 5442, 'referendum': 5443, 'fernverkehr': 5444, 'einstellt': 5445, 'gereicht': 5446, 'erwischen': 5447, 'insteiger': 5448, 'zawhie': 5449, 'gucke': 5450, 'guenstiger': 5451, 'doppelte': 5452, 'lauwarmen': 5453, 'wahrgenommen': 5454, 'gesellschaftlichen': 5455, 'bemuehungen': 5456, 'wurzeln': 5457, 'normie': 5458, 'grundwe': 5459, 'vergiftete': 5460, 'praline': 5461, 'auferstehen': 5462, 'typischer': 5463, 'wenigen': 5464, 'krawall': 5465, 'kaethe': 5466, 'katjakipping': 5467, 'gemobbt': 5468, 'lemmingen': 5469, 'markustomberg': 5470, 'verursacher': 5471, 'krieges': 5472, 'gehorchen': 5473, 'kontra': 5474, 'staatsgelder': 5475, 'kassieren': 5476, 'gouverneur': 5477, 'kalifornien': 5478, 'jerry': 5479, 'brown': 5480, 'liebes': 5481, 'jeff': 5482, 'cop23': 5483, 'dedododadeda': 5484, 'feminist': 5485, 'neidisch': 5486, 'eng': 5487, 'umschlungen': 5488, 'aufwacht': 5489, 'rueber': 5490, 'laudes': 5491, 'ziegenficker': 5492, 'ausreichend': 5493, 'maifeie': 5494, 'sn': 5495, 'siegfriedsfrom': 5496, 'thehumblejosh': 5497, 'greencard': 5498, 'inhaber': 5499, 'befristetem': 5500, 'aufenthaltsrecht': 5501, 'weltanschauliche': 5502, 'neutralitaet': 5503, 'absurd': 5504, 'wendung': 5505, 'aufgeloest': 5506, 'roulette': 5507, 'offene': 5508, 'zers': 5509, 'tzer': 5510, 'friedrich': 5511, 'erf': 5512, 'nd': 5513, 'fuehrungspack': 5514, 'drnunzianten': 5515, 'zeugenaussagen': 5516, 'passanten': 5517, 'spruenge': 5518, 'anschliessend': 5519, 'wendete': 5520, 'buergersteig': 5521, 'gegenueberliegenden': 5522, 'fahrbahnseite': 5523, 'ergriff': 5524, 'mieter': 5525, 'wagens': 5526, 'marokkaner': 5527, 'bundestagsvize': 5528, 'hinterhof': 5529, 'gebetshaeuser': 5530, 'brutstaetten': 5531, 'salafismus': 5532, 'dschihadismus': 5533, 'zurueckzublicken': 5534, 'blicken': 5535, 'aufdringlich': 5536, 'gegafft': 5537, 'globalen': 5538, 'erwaermung': 5539, 'westliche': 5540, 'staedter': 5541, 'panda': 5542, 'koala': 5543, 'wiese': 5544, 'beams': 5545, 'game': 5546, 'vorsichtig': 5547, 'ener': 5548, 'ausage': 5549, 'beitritt': 5550, 'kataloniens': 5551, 'verhinder': 5552, 'geleh': 5553, 'rumheulen': 5554, '1918': 5555, '1938': 5556, '1989': 5557, 'historische': 5558, 'bleibende': 5559, 'schwaezer': 5560, 'fehlgeleiteter': 5561, 'hurensohn': 5562, 'konfrontationen': 5563, 'genuege': 5564, 'misogyn': 5565, 'erinnere': 5566, 'bearbeitet': 5567, 'schulunterricht': 5568, 'verzichten': 5569, 'stehende': 5570, 'hasselhof': 5571, 'dagen': 5572, 'frauvogelbein': 5573, 'bundeslaendern': 5574, 'anfuehrer': 5575, 'alkoholisie': 5576, 'klotz': 5577, '875': 5578, 'geflohen': 5579, 'didyouknow': 5580, 'kriminalitaet': 5581, 'herkunft': 5582, 'rechtssystem': 5583, 'gooney75': 5584, 'geschlechte': 5585, 'rennung': 5586, 'menschensammlungen': 5587, 'toleranten': 5588, 'geifer': 5589, 'schreitet': 5590, 'voran': 5591, 'adolfglunz': 5592, 'schaemt': 5593, 'saeue': 5594, 'brdgmbh': 5595, 'zweierlei': 5596, 'brech': 5597, 'wusst': 5598, 'jawohl': 5599, 'weiteres': 5600, 'linker': 5601, 'wonach': 5602, 'oekobilanz': 5603, 'colognerin': 5604, 'konzentration': 5605, 'bundestagsmandat': 5606, 'eddie': 5607, '1412': 5608, 'unbedeutendheit': 5609, 'verhetzt': 5610, 'praktischeres': 5611, 'lewin': 5612, 'sozialprinzipien': 5613, 'tugendethik': 5614, 'gesellschaftslehre': 5615, 'noelle': 5616, 'transsexuelitaet': 5617, 'scheinheiligeren': 5618, 'theaterdonner': 5619, 'blosser': 5620, 'playboy': 5621, 'kommentie': 5622, '87': 5623, 'tom': 5624, 'rettete': 5625, 'hollstein': 5626, 'ahmet': 5627, 'demir': 5628, 'rathaus': 5629, 'gdp': 5630, 'dir4': 5631, 'gdppresse': 5632, 'autonome': 5633, 'hoechtstrafen': 5634, 'sozialdemokrat': 5635, 'hervorragenden': 5636, 'eichef': 5637, 'kleinredet': 5638, 'konstellation': 5639, 'vorbildliche': 5640, 'migrationspolitik': 5641, 'mitmachen': 5642, 'weihnachtsmaerkten': 5643, 'barrieren': 5644, 'nagelbomben': 5645, 'don': 5646, 'quijote': 5647, 'gerichtet': 5648, 'windmuehlen': 5649, 'kaempfend': 5650, 'bekloppte': 5651, 'frenchies': 5652, 'toene': 5653, 'unmengen': 5654, 'tieren': 5655, 'umkommen': 5656, 'ausl': 5657, 'ueblich': 5658, 'freigelassen': 5659, 'arbeitslager': 5660, 'umfallen': 5661, 'rueckstandlos': 5662, 'junkie': 5663, 'crack': 5664, 'autoritaet': 5665, 'gehirngewaschene': 5666, 'muesse': 5667, 'regierungsbeteiligung': 5668, 'option': 5669, 'gewinner': 5670, 'zwerge': 5671, 'anmutigsten': 5672, 'benoette': 5673, 'verzweifelte': 5674, 'ueberlegung': 5675, 'stinken': 5676, 'patrioten': 5677, 'besucht': 5678, 'verarschungsgericht': 5679, 'verrotten': 5680, 'randgruppen': 5681, 'rvrsapachemastr': 5682, 'neuseeland': 5683, 'nairax23': 5684, 'harlekin1991': 5685, 'naira': 5686, 'baby': 5687, 'krabbelalter': 5688, 'krippe': 5689, 'stecknadeln': 5690, 'carocreamreal': 5691, 'caro': 5692, 'jeahr': 5693, 'interpretationsmethoden': 5694, 'angewandt': 5695, 'alicegreschkow': 5696, 'lieb': 5697, 'rueckendeckung': 5698, 'weiterzumachen': 5699, 'koepfe': 5700, 'eskalieren': 5701, 'bano': 5702, 'romina': 5703, 'power': 5704, 'schlagerchampions': 5705, 'medienarbeiter': 5706, 'rene': 5707, 'springer': 5708, 'jaemmerlicher': 5709, 'letzen': 5710, 'wesentlich': 5711, 'konsulaten': 5712, 'beamte': 5713, 'spionieren': 5714, 'besatzungsmacht': 5715, 'teure': 5716, 'austauschbar': 5717, 'bescheissen': 5718, 'spre': 5719, 'cher': 5720, 'jus': 5721, 'tiz': 5722, 'mi': 5723, 'nis': 5724, 'te': 5725, 'ri': 5726, 'ge': 5727, 'reichelt': 5728, 'adressat': 5729, 'twitteraccount': 5730, 'ministerium': 5731, 'nachfragen': 5732, 'fundamentalistischen': 5733, 'investigatives': 5734, 'ausgaben': 5735, 'rechtsanwaeltin': 5736, 'maut': 5737, 'muelltonnen': 5738, 'gemuetlich': 5739, 'gaaaaanz': 5740, 'mitgekriegt': 5741, 'repraesentativen': 5742, 'grandioses': 5743, 'von': 5744, 'koalitionsverhandler': 5745, 'schrumpfen': 5746, 'sammelbewegung': 5747, 'gelaber': 5748, 'gerichte': 5749, 'angemessenen': 5750, 'strafrahmen': 5751, 'vorzusehen': 5752, 'popularitaet': 5753, '1997': 5754, 'verlasse': 5755, 'einsamkeit': 5756, 'anhaltendem': 5757, 'carlo': 5758, 'caretti': 5759, 'moepsen': 5760, 'vaginas': 5761, 'light': 5762, 'eingeschwungen': 5763, 'ellpa': 5764, 'verschwulten': 5765, 'verfassungsrichtern': 5766, 'hinr': 5767, 'vosskuhlescheisskule': 5768, 'finanziell': 5769, 'volksverraetern': 5770, 'entschlossen': 5771, 'entgegentreten': 5772, 'g': 5773, 'bete': 5774, 'schauhin2': 5775, 'sieger': 5776, 'asylantenbeschuetzer': 5777, 'asyalantenabschaum': 5778, 'diaetenerhoehung': 5779, 'muelleimern': 5780, 'herausfordern': 5781, 'verdammten': 5782, 'kna': 5783, 'krippewelle': 5784, 'nominieren': 5785, 'eidigen': 5786, 'tateinheit': 5787, 'rassismuss': 5788, 'sixtus': 5789, 'spitzenverdienern': 5790, 'selektiver': 5791, 'schwaecher': 5792, 'letzteren': 5793, 'bedrohlich': 5794, 'emoclewtonswej': 5795, 'seltenes': 5796, 'pforzheim': 5797, 'furzheim': 5798, 'audienz': 5799, 'kaiserin': 5800, 'geschaeftsfuehrend': 5801, 'staatskrise': 5802, 'debile': 5803, 'primitiver': 5804, 'darksideoftheeg': 5805, 'govkorea': 5806, 'mafrakorea': 5807, 'koreanischen': 5808, 'tierquaelern': 5809, 'verunglimpft': 5810, 'sodass': 5811, 'homerogner': 5812, 'herausgeber': 5813, 'disse': 5814, 'ation': 5815, 'umfassend': 5816, 'orientie': 5817, 'moderat': 5818, 'menschenfreundlich': 5819, 'spotten': 5820, 'rueckenwind': 5821, 'praegen': 5822, 'zwar': 5823, 'gegensatzpaar': 5824, 'voelkisch': 5825, 'identitaeten': 5826, 'schnittmenge': 5827, 'aschkenasische': 5828, 'scheintote': 5829, 'trainer': 5830, 'management': 5831, 'emotionalen': 5832, 'befindlichkeiten': 5833, 'ntvde': 5834, 'cherwa': 5835, 'religioes': 5836, 'bestritten': 5837, 'skupellosen': 5838, 'shrimps': 5839, 'vorhaut': 5840, 'praesidentin': 5841, 'frankreichs': 5842, 'eifreund': 5843, 'geschrittenen': 5844, 'stadium': 5845, 'errungenschaft': 5846, 'eigenem': 5847, 'wegzunehmen': 5848, 'strassenausbaubeitraege': 5849, 'luklktourscr': 5850, 'ueblicherweise': 5851, 'romantik': 5852, 'versorgung': 5853, 'angehoerigen': 5854, 'solidarisieren': 5855, 'ueberhoeht': 5856, 'bmel': 5857, 'bmub': 5858, 'gift': 5859, 'wildtiere': 5860, 'vorangetrieben': 5861, 'nationale': 5862, 'entschuldigt': 5863, 'judenspuren': 5864, 'gesundes': 5865, 'faznet': 5866, 'meine': 5867, 'grenzenlos': 5868, 'erikmarquardt': 5869, 'eulentweet': 5870, 'oststaaten': 5871, 'handhaben': 5872, 'homosexueller': 5873, 'erlaube': 5874, 'thesen': 5875, 'nuechternen': 5876, 'verlockung': 5877, 'geblendet': 5878, 'handbuch': 5879, 'staatsrechts': 5880, 'staatslehre': 5881, 'rundfunkbeitrag': 5882, 'rocken': 5883, 'blasphemie': 5884, 'atem': 5885, 'rauben': 5886, 'beton': 5887, 'absperrungen': 5888, 'fdj': 5889, 'onyx': 5890, 'mariaklschmeink': 5891, 'gruenenrw': 5892, 'nachfuehlen': 5893, 'flach': 5894, 'fit': 5895, 'kurier': 5896, 'hzulla': 5897, 'baggern': 5898, 'gnurpsnewoel': 5899, 'teamliebe': 5900, 'eidigst': 5901, 'hakijaavdic': 5902, 'gedenkstaette': 5903, 'verlange': 5904, 'shlomosapiens': 5905, 'umfrage': 5906, 'forsa': 5907, 'atheistische': 5908, 'fuerchten': 5909, 'intolerante': 5910, 'strengglaeubige': 5911, 'landsleute': 5912, 'anonyme': 5913, 'titulie': 5914, 'asylbetruegern': 5915, 'konnte': 5916, 'studiengebuehren': 5917, 'angehenden': 5918, 'geistes': 5919, 'sozialwissenschaftler': 5920, 'alleinige': 5921, 'oeffentliche': 5922, 'naturwissenschaften': 5923, 'oho': 5924, 'josef': 5925, 'paulpanter16': 5926, 'migrantenpack': 5927, 'zahlreichen': 5928, 'kanalisationen': 5929, 'ratten': 5930, 'verzehren': 5931, 'unbemerkt': 5932, 'eingefunden': 5933, 'aggressiv': 5934, 'bezieht': 5935, 'ausschusses': 5936, 'beschluss': 5937, 'aufzufordern': 5938, 'generalbundesanwaltschaft': 5939, 'anzuweisen': 5940, 'verfahren': 5941, 'auszuweiten': 5942, 'kriecher': 5943, 'sklavenstaat': 5944, 'arbeite': 5945, 'verschwende': 5946, 'buergergespraech': 5947, 'oper': 5948, 'meinungsforscher': 5949, 'guellner': 5950, 'wissler': 5951, 'sonen': 5952, 'neujahrsvorsaetze': 5953, 'kompass': 5954, 'ideales': 5955, 'abgeaende': 5956, 'annektion': 5957, 'zeitrafferin': 5958, 'goere': 5959, 'inarenner': 5960, 'gedenke': 5961, 'kapie': 5962, 'naech': 5963, 'kameras': 5964, 'draengt': 5965, 'schoeneren': 5966, 'frustrie': 5967, 'unternehemens': 5968, 'jurgenelsasser': 5969, 'rogerkoeppel': 5970, 'beschlussvorschlag': 5971, 'aggressoren': 5972, 'stilisieren': 5973, 'haftverschonung': 5974, 'gefaengnismauern': 5975, 'gefangenen': 5976, 'frohes': 5977, 'osterfest': 5978, 'donrikus72': 5979, 'selbstherrlichkeit': 5980, 'estherschapira': 5981, 'fsv': 5982, 'wintermohn': 5983, 'bjoernhoecke': 5984, 'handel': 5985, 'zustande': 5986, 'ceetzie': 5987, 'glueckliches': 5988, 'wichtigeres': 5989, 'gesockse': 5990, 'clan': 5991, 'tages': 5992, 'williptz': 5993, 'elnachvier': 5994, 'rias': 5995, 'monitoringstelle': 5996, 'meldenetzwerk': 5997, 'veroeffentlichen': 5998, 'vorfalls': 5999, 'vornehmste': 6000, 'studium': 6001, 'theologie': 6002, 'lerne': 6003, 'kirchenprofil': 6004, '340': 6005, 'pressemitteilung': 6006, 'mief': 6007, 'attraktivitaet': 6008, 'rdigerbrandt': 6009, 'folgere': 6010, 'daraus': 6011, 'feigheit': 6012, 'eipolitischen': 6013, 'standardmodus': 6014, 'regierbarkeit': 6015, 'schwaechen': 6016, 'evadahlmann': 6017, 'anonym': 6018, 'klicks': 6019, 'eingeben': 6020, 'kinderexpe': 6021, 'simontelemann': 6022, 'feile': 6023, 'dieterjosef': 6024, 'mlk': 6025, 'cgasch1': 6026, 'knueppel': 6027, 'ego': 6028, 'trotzig': 6029, 'hamed': 6030, 'abdel': 6031, 'meinen': 6032, 'sawsan': 6033, 'kinderhochzeiten': 6034, 'sterberate': 6035, 'verbessern': 6036, 'homosexuelle': 6037, 'paare': 6038, 'rechtliches': 6039, 'juristischen': 6040, 'instanz': 6041, 'einzufordern': 6042, 'costa': 6043, 'rica': 6044, 'umsetzen': 6045, 'anstelle': 6046, 'abzureisen': 6047, 'armselige': 6048, 'straeter': 6049, 'geteilt': 6050, 'vollstaendig': 6051, 'vernetztes': 6052, 'deaktivie': 6053, 'debattiere': 6054, 'mutet': 6055, 'armutsloehne': 6056, 'leiharbeit': 6057, 'diaeten': 6058, 'erhoeht': 6059, 'stimmte': 6060, 'beantragte': 6061, 'diaetensteigerung': 6062, 'waldruhe': 6063, 'infoleonhardt': 6064, 'elekrojude': 6065, 'angie': 6066, 'praesident': 6067, 'mr': 6068, 'sorgen': 6069, 'langer': 6070, 'sprachunterricht': 6071, 'rehna': 6072, 'sprachfoerderung': 6073, 'parchim': 6074, 'naturgemaesse': 6075, 'geschlechts': 6076, 'gestrichen': 6077, 'bloesse': 6078, 'unattraktiv': 6079, 'sicherheitsbehoerden': 6080, 'empfindlich': 6081, 'hintergruende': 6082, 'wesskraut': 6083, 'sellerie': 6084, 'moehren': 6085, 'beete': 6086, 'spargel': 6087, 'angebaut': 6088, 'flicklgruber': 6089, 'schwulenlobby': 6090, 'ferner': 6091, 'fleisch': 6092, 'unsrer': 6093, 'grosseltern': 6094, 'ehrenamtliche': 6095, 'lageso': 6096, 'syrers': 6097, 'nuss': 6098, 'vassiligolod': 6099, 'gefasel': 6100, 'dreckslinken': 6101, 'faschistenschweine': 6102, 'nachvollziehbare': 6103, 'zurechtgemogelt': 6104, 'irgendwelchen': 6105, 'postulie': 6106, 'wurdest': 6107, 'helenaserbent': 6108, 'schminke': 6109, 'high': 6110, 'heels': 6111, 'sternenrot': 6112, 'opfernummer': 6113, 'zitiere': 6114, 'fragwuerdigkeit': 6115, 'demagogie': 6116, 'beschissenen': 6117, 'trustno1': 6118, '1973': 6119, 'brutus': 6120, 'verus': 6121, 'sanften': 6122, 'ruege': 6123, 'entscheider': 6124, 'vorgefueh': 6125, 'ermahnung': 6126, 'geradezu': 6127, 'todessehnsucht': 6128, 'anstrebt': 6129, 'unkommentie': 6130, 'vorsetzen': 6131, 'erklaerbaer': 6132, 'abwae': 6133, 'linkgruener': 6134, 'journalistenblock': 6135, 'wunschdenken': 6136, 'moselexpi': 6137, 'verkennen': 6138, 'ausfuehrungen': 6139, 'kindeswohlentscheidungen': 6140, 'rechtswirksame': 6141, 'einwilligung': 6142, 'zutraut': 6143, 'sozialadaequanz': 6144, '00uhr': 6145, 'ver': 6146, 'queeres': 6147, 'lsbttiq': 6148, 'terrorstaat': 6149, 'ansetzen': 6150, 'zusammenschliessen': 6151, 'hallomolli': 6152, 'kollektivschuld': 6153, 'mehrheitsvotum': 6154, 'leugnen': 6155, 'stiessen': 6156, 'kuwaitische': 6157, 'arbeitsschutzgesetze': 6158, 'angestellten': 6159, 'glatt': 6160, 'zustimmst': 6161, 'abknallen': 6162, 'tierheime': 6163, 'finanzieren': 6164, 'humane': 6165, 'strecke': 6166, 'schaedel': 6167, 'ex': 6168, 'beachtet': 6169, 'zwangslaeufig': 6170, 'afdschmidt': 6171, 'berufliche': 6172, 'rennen': 6173, 'doppelspitze': 6174, 'afdbpt': 6175, 'rechtspopulistische': 6176, 'reconquista': 6177, 'liberalisierung': 6178, 'offenheit': 6179, 'vor1968': 6180, 'abkassieren': 6181, 'langweilen': 6182, 'guidoreil': 6183, 'reil': 6184, 'vel': 6185, 'freundeskreis': 6186, 'maritafickel': 6187, 'worrius': 6188, 'lenibreymaier': 6189, 'janfleischhauer': 6190, 'politverbloedungsshows': 6191, 'denselben': 6192, 'vorschieben': 6193, 'heilige': 6194, 'vorschreibt': 6195, 'eilaktionen': 6196, 'infostaende': 6197, 'loslegen': 6198, 'verschaerfen': 6199, 'zusaetzlich': 6200, 'ausgestorben': 6201, 'maennersteuer': 6202, 'religioeses': 6203, 'gezogen': 6204, 'hochschlafen': 6205, 'nachfrage': 6206, 'fahrplanwechsel': 6207, 'netzplaene': 6208, 'app': 6209, 'aktualisieren': 6210, 'drueckt': 6211, 'ausgibt': 6212, 'negative': 6213, 'attituede': 6214, 'gewissen': 6215, 'feministischen': 6216, 'tjark': 6217, 'limmer': 6218, 'stehtfest': 6219, 'fpoe': 6220, 'oevp': 6221, 'asylantrag': 6222, 'pulverfass': 6223, 'nahost': 6224, 'anlauf': 6225, 'friedensregelung': 6226, 'hochgefaehrliche': 6227, 'hinzu': 6228, 'zefilipe22': 6229, 'meinungska': 6230, 'zerlegt': 6231, 'plaene': 6232, 'ausgehandelt': 6233, '220': 6234, 'streng': 6235, 'nudepic': 6236, 'erfolgreichen': 6237, 'jugendprojekte': 6238, 'dauerhaft': 6239, 'verankern': 6240, 'leerer': 6241, '630': 6242, 'einfrieren': 6243, 'dishonoredsushi': 6244, 'weltherrschaft': 6245, 'schmieriger': 6246, 'extremen': 6247, 'antideutsches': 6248, 'blablabla': 6249, 'verehrst': 6250, 'bekehren': 6251, 'mittels': 6252, 'bohemien': 6253, 'grove': 6254, 'tube': 6255, 'biografie': 6256, 'gesinnungslaerm': 6257, 'geweige': 6258, 'softwareupdate': 6259, 'dieselsoftware': 6260, 'durchfuehren': 6261, 'josie4you': 6262, 'eismann': 6263, 'niedrigloehnen': 6264, 'armutsrenten': 6265, 'zynischer': 6266, 'schaebige': 6267, 'bankensystem': 6268, 'ausnehmen': 6269, 'shysmurf': 6270, 'trinkspender': 6271, 'ostkuestenhure': 6272, 'iliev': 6273, 'volksfeinde': 6274, 'komministen': 6275, 'demontie': 6276, 'pastorsandy': 6277, 'bedfordstrohm': 6278, 'knuuut': 6279, 'supergern': 6280, 'relaunch': 6281, 'mettmanfred': 6282, 'meinungsaeusserung': 6283, 'hahaha': 6284, 'verstappen': 6285, 'seifenkisten': 6286, 'wohnwagen': 6287, 'f1sky': 6288, 'inoetting': 6289, 'bedingungslose': 6290, 'bge': 6291, 'neoliberalismus': 6292, 'derzeitigen': 6293, 'klapproth': 6294, 'uncelsa': 6295, 'cleosls': 6296, '16a': 6297, 'dschiadisten': 6298, 'freunden': 6299, 'nacke': 6300, 'querkop': 6301, 'deisteredith': 6302, 'dummer': 6303, 'rotfaschisten': 6304, 'claudiaroth': 6305, 'bundestagsvizepraesident': 6306, 'nb': 6307, 'pik': 6308, 'quatschkopp': 6309, 'schickt': 6310, 'brennen': 6311, 'entzuenden': 6312, 'ramsesleben': 6313, 'geschieht': 6314, 'hochverraeter': 6315, 'erscheinung': 6316, 'zukunftsfaehigkeit': 6317, 'duckmaeuser': 6318, 'begnadeten': 6319, 'polemiker': 6320, 'berndulrich': 6321, 'bewerbung': 6322, 'sprecher': 6323, 'verdaechtiger': 6324, 'verwendest': 6325, 'naturgemaess': 6326, 'ludkethomas': 6327, 'igung': 6328, 'erstochene': 6329, 'touristinnen': 6330, 'volvo': 6331, 'productplacement': 6332, 'afdfraktion': 6333, 'mv': 6334, 'chrstl': 6335, 'deutschland77': 6336, 'kastrie': 6337, 'ewigen': 6338, 'scroll': 6339, 'handies': 6340, 'katjadoerner': 6341, 'schlager': 6342, 'impressivamicha': 6343, 'ardde': 6344, 'kanonenfutter': 6345, 'fuehlst': 6346, 'auserwaehlt': 6347, 'spuerst': 6348, 'wissenschaftlichen': 6349, 'methoden': 6350, 'nachweisbar': 6351, 'agnostiker': 6352, 'ausso': 6353, 'ie': 6354, 'gespue': 6355, 'kalten': 6356, 'jahreszeit': 6357, 'obdachlosen': 6358, 'juergenhardt': 6359, 'angerufen': 6360, 'hinschicken': 6361, 'pazifisten': 6362, 'einsatzfaehige': 6363, 'armee': 6364, 'fotoluxlux': 6365, 'koalitionspa': 6366, 'gr': 6367, 'klimaschutz': 6368, 'zuzug': 6369, 'selbstbewusst': 6370, 'tragoedie': 6371, 'neomagazin': 6372, 'bashing': 6373, 'flache': 6374, 'ueberraschen': 6375, 'saerdnaya': 6376, 'ermuedend': 6377, 'wohltuend': 6378, 'gemaessigte': 6379, 'schlechteres': 6380, 'waers': 6381, 'gelaufen': 6382, 'aufgeraeumter': 6383, 'ansprechender': 6384, 'bereiche': 6385, 'grade': 6386, 'auschwitz': 6387, 'indonesien': 6388, 'salafistisch': 6389, 'gesinnte': 6390, 'schwesternschaften': 6391, 'vorgehensweise': 6392, 'starker': 6393, 'aufschlag': 6394, 'aufschieben': 6395, 'hoffnung': 6396, 'groesseres': 6397, 'ignatius': 6398, 'loyola': 6399, 'elfiold': 6400, 'augustfinger': 6401, 'betrunken': 6402, '375': 6403, 'gefoerde': 6404, 'tweeten': 6405, 'maennliche': 6406, 'klagen': 6407, 'spiegeln': 6408, 'rechtlicher': 6409, 'scheidungs': 6410, 'familienrecht': 6411, 'sexualstrafrecht': 6412, 'vt27kolt11': 6413, 'streubel': 6414, 'aquohe': 6415, 'boh': 6416, 'sauer': 6417, 'verhandelt': 6418, 'lernt': 6419, 'schwimmen': 6420, 'erschaffen': 6421, 'direktwahl': 6422, 'nichtmal': 6423, 'grid': 6424, 'girls': 6425, 'abderrahimde1': 6426, 'geheimdienste': 6427, 'sichtbar': 6428, 'gefaehrlicher': 6429, 'salafist': 6430, 'vergiftet': 6431, 'israelischer': 6432, 'tourist': 6433, 'klienten': 6434, 'verstrickt': 6435, 'seltsames': 6436, 'rechtsverstaendnis': 6437, 'gleichschaltung': 6438, 'ler': 6439, 'besitzen': 6440, 'theodor': 6441, 'fontane': 6442, 'wanderungen': 6443, 'rassistin': 6444, 'sexistin': 6445, 'eindruck': 6446, 'entstuende': 6447, 'drehe': 6448, 'mister': 6449, 'abaerbock': 6450, 'staerkster': 6451, 'emanzipatorischer': 6452, 'ehrung': 6453, 'staatskanzlei': 6454, 'bahr': 6455, 'staatssicherheit': 6456, 'postdoc': 6457, 'hauptressource': 6458, 'erschienen': 6459, 'dokumente': 6460, 'stasiunterlagenarchiv': 6461, 'rechtskonservativ': 6462, 'dekadenz': 6463, 'waechst': 6464, 'quittung': 6465, 'wuerselen': 6466, 'vergeigt': 6467, 'politicalbeauty': 6468, 'subversiv': 6469, 'foerdergeldern': 6470, 'mediale': 6471, 'schaetzt': 6472, 'bureg': 6473, 'iq': 6474, 'stimulator': 6475, 'honecker': 6476, 'saarlaender': 6477, 'pewresearch': 6478, 'go': 6479, 'area': 6480, 'jock': 6481, 'schrader': 6482, 'eizugehoerigkeit': 6483, 'desto': 6484, 'bewah': 6485, 'meinten': 6486, 'faksilar': 6487, 'gleichwe': 6488, 'ungewoehnlicher': 6489, 'persoenlichem': 6490, 'ausweisung': 6491, 'politischeverfolgung': 6492, 'plaedieren': 6493, 'saekularismus': 6494, 'offenegesellschaft': 6495, 'weltlich': 6496, 'begruendeten': 6497, 'zeitgemaessen': 6498, 'sabine': 6499, 'drogen': 6500, 'nervoese': 6501, 'selbsternannten': 6502, 'antirassisten': 6503, 'mohammedanische': 6504, 'sozialisierung': 6505, 'worunter': 6506, 'frauenverachtung': 6507, 'zyniker': 6508, 'talkshows': 6509, 'einbuergern': 6510, 'christl': 6511, 'bedraengung': 6512, 'glaubens': 6513, 'klamotten': 6514, 'uebergewichtigen': 6515, 'nutte': 6516, 'nordsyrien': 6517, 'klausfenn': 6518, 'umsonst': 6519, 'miete': 6520, 'krassen': 6521, 'wichtigen': 6522, 'aktuell': 6523, 'gerichtlich': 6524, 'klaerende': 6525, 'praezedenzfaelle': 6526, 'subventioniere': 6527, 'anhieb': 6528, 'nahe': 6529, 'himmler': 6530, 'tiefster': 6531, 'inbrunst': 6532, 'holtmann': 6533, 'konstruie': 6534, 'protestantischer': 6535, 'anfrage': 6536, 'visastellen': 6537, 'generalkonsulate': 6538, 'terminwuensche': 6539, 'politikverdrossene': 6540, 'abschminken': 6541, 'schlummern': 6542, 'hybris': 6543, 'postengeschacher': 6544, 'schmarotze': 6545, 'gejagt': 6546, 'brockman': 6547, 'unterkuenfte': 6548, 'angegriffen': 6549, 'differenzierung': 6550, 'hierbleiben': 6551, 'vogelfuetterung': 6552, 'anhalt': 6553, 'andr': 6554, 'vgl': 6555, 'schnitt': 6556, 'ehrgeiz': 6557, 'arbeitseifer': 6558, 'versetzt': 6559, 'berge': 6560, 'bikedb06': 6561, 'lauro': 6562, 'doc': 6563, 'langsamm': 6564, 'schmodder': 6565, 'luca': 6566, 'smarke': 6567, 'altenbeken': 6568, 'uebung': 6569, 'reinerkeller': 6570, 'fy': 6571, 'schaebigen': 6572, 'aehnliches': 6573, 'hate': 6574, 'melamann': 6575, 'schlaegern': 6576, 'evolutionaeres': 6577, 'realromanwagner': 6578, 'pfeile': 6579, 'kommunen': 6580, 'bereitet': 6581, 'melkkuh': 6582, 'abgabenerhoehungen': 6583, 'sperrig': 6584, 'pussikratie': 6585, 'vorschlagen': 6586, 'rentenkuerzungen': 6587, 'werkoffiziell': 6588, 'eingestellt': 6589, 'feierst': 6590, 'dirnd': 6591, 'grafwer': 6592, 'eubel': 6593, 'kaddinsky': 6594, 'cv': 6595, 'wissel': 6596, 'habeck': 6597, 'defokusie': 6598, 'sonstwas': 6599, 'bodoramelow': 6600, 'hinweise': 6601, 'gestellte': 6602, 'verstossen': 6603, 'norden': 6604, 'hinein': 6605, 'kiel': 6606, 'hhhilft': 6607, 'meiendorfhilft': 6608, 'hrohilft': 6609, 'zufall': 6610, 'infantilisierung': 6611, 'schattengebannt': 6612, 'voegele': 6613, 'flaggen': 6614, '123kocour': 6615, 'hur': 6616, 'schoppenhauer': 6617, 'oberhalb': 6618, 'nivcht': 6619, 'gewoehnlich': 6620, 'statusniederen': 6621, 'wuerdigt': 6622, 'menschendesjahres2016': 6623, 'vielfaches': 6624, 'krakrakrakrakra': 6625, 'vermissen': 6626, 'machthungring': 6627, 'leichen': 6628, 'mundwinkel': 6629, 'zuckten': 6630, 'medizinisch': 6631, 'kauder': 6632, 'antisemitismusbeauftragten': 6633, 'ausdruecklich': 6634, 'bekennt': 6635, 'dastehen': 6636, 'tiefen': 6637, 'spalltungen': 6638, 'begruende': 6639, 'fleissig': 6640, 'dazugedichtet': 6641, 'objektivie': 6642, 'umerziehungslager': 6643, 'profitgierig': 6644, 'psychopathisch': 6645, 'betonpoller': 6646, 'feste': 6647, 'schutzzone': 6648, 'wohin': 6649, 'driftet': 6650, 'vermoegen': 6651, 'drohung': 6652, 'zuwiderhandlung': 6653, 'belohnung': 6654, 'weltfremden': 6655, 'statische': 6656, 'haeufigkeit': 6657, 'unentwegt': 6658, 'fastenaktion': 6659, '7wochenohne': 6660, 'regionalbischoefin': 6661, 'susanne': 6662, 'kessler': 6663, 'marionettaslomka': 6664, 'linksgruenen': 6665, 'gesteue': 6666, 'verlinken': 6667, 'laterpay': 6668, 'herrjeh': 6669, 'anbeissen': 6670, 'geiler': 6671, 'respektvoll': 6672, 'eickhoffstephan': 6673, 'tynca1': 6674, 'zusammentun': 6675, 'migrations': 6676, 'entspannung': 6677, 'militaeruebung': 6678, 'eiserner': 6679, 'wolf': 6680, 'inlitauen': 6681, 'ungslos': 6682, 'aeppel': 6683, 'wuellt': 6684, 'ruck': 6685, 'zuck': 6686, 'oevern': 6687, 'zaun': 6688, 'dat': 6689, 'mutt': 6690, 'ut': 6691, 'hamborg': 6692, 'sien': 6693, 'xlastdefence': 6694, 'mightybuyer': 6695, 'bundestags': 6696, 'etliche': 6697, 'aufgezaehlt': 6698, 'sinngemaess': 6699, 'gegenargument': 6700, 'fraglich': 6701, 'hingehen': 6702, 'humanflowmovie': 6703, 'bewegende': 6704, 'ai': 6705, 'weiwei': 6706, 'ausgewaehlten': 6707, 'filmtipp': 6708, 'petitionen': 6709, 'unterschreibe': 6710, 'tierquaelerei': 6711, 'aufzumucken': 6712, 'beendet': 6713, 'afrikas': 6714, 'misere': 6715, 'hausgemacht': 6716, 'unabhaengigkeit': 6717, 'vmtl': 6718, 'elitaeren': 6719, 'ausgeloescht': 6720, 'versklaven': 6721, 'heuchlerei': 6722, 'verhunge': 6723, 'bericht': 6724, 'jury': 6725, 'intendanten': 6726, 'abschlachten': 6727, 'vogelwa': 6728, '79': 6729, 'lahnduscher': 6730, 'bedauere': 6731, 'reichs': 6732, 'bedaure': 6733, 'unschoen': 6734, 'anzetteln': 6735, 'zunahme': 6736, 'verbloedeter': 6737, 'skrupellose': 6738, 'erbaermliche': 6739, 'krebskranken': 6740, 'doctorpuppe': 6741, 'croqisunshine': 6742, 'uwewelzel': 6743, 'dummdeutschland': 6744, 'vergewaltigenden': 6745, 'gekrochen': 6746, 'ulrichkhn2': 6747, 'jedeliebe': 6748, 'gottseidank': 6749, 'weltfrieden': 6750, 'astroloop': 6751, 'bayerischer': 6752, 'kommunalpolitik': 6753, 'raut': 6754, 'markantdjpool': 6755, 'verlgeicht': 6756, 'paralle': 6757, 'goerings': 6758, 'tschechische': 6759, 'tech12358': 6760, 'vorstelle': 6761, 'strangelove666': 6762, 'fffrauki': 6763, 'kuenstl': 6764, 'merker': 6765, 'deutlichen': 6766, 'schlussstrich': 6767, 'blossen': 6768, 'hirngespinste': 6769, 'tatenlos': 6770, 'zusehen': 6771, 'verlosung': 6772, 'juni': 6773, 'unoflucht': 6774, 'exklusive': 6775, 'preise': 6776, 'nruegenberg': 6777, 'moderner': 6778, 'werwolf': 6779, 'todes': 6780, 'minuetige': 6781, 'werbesendung': 6782, 'liksgruene': 6783, 'schaubild': 6784, 'erstellt': 6785, 'pks': 6786, 'krimminelle': 6787, 'noete': 6788, 'beschissenes': 6789, 'kannste': 6790, 'sprueche': 6791, 'akzeptabel': 6792, 'traunen': 6793, 'normalbuerger': 6794, 'interessanten': 6795, 'uebersicht': 6796, 'legende': 6797, 'meinungsdominanz': 6798, 'retweetet': 6799, 'absender': 6800, 'zugehoe': 6801, 'second': 6802, 'bekloppten': 6803, 'nepomuk': 6804, 'loeblich': 6805, 'redlich': 6806, 'schleimpilzen': 6807, 'umzugehen': 6808, 'dirkhafermann': 6809, 'vosskuhle': 6810, 'volksverdummung': 6811, 'heterosexuelle': 6812, 'anen': 6813, 'tausend': 6814, 'illegalen': 6815, 'untergetauchten': 6816, 'katzenstreu': 6817, 'nachher': 6818, 'komische': 6819, 'katze': 6820, 'zielt': 6821, 'karnassos': 6822, 'abspaltung': 6823, 'scheitern': 6824, 'buzzaldrinsblog': 6825, 'gewalttaetigsten': 6826, 'patriarchats': 6827, 'schulter': 6828, 'klopf': 6829, 'generalstreick': 6830, 'gesammte': 6831, 'erliegen': 6832, 'restaurant': 6833, 'sass': 6834, 'erschuetternden': 6835, 'ausgeht': 6836, 'zuege': 6837, 'gebietet': 6838, 'vorangekuendigt': 6839, 'verbuendeten': 6840, 'aufruf': 6841, 'th': 6842, 'lisieux': 6843, 'pds': 6844, 'beschreibt': 6845, 'treffend': 6846, 'nimmer': 6847, 'psst': 6848, 'teilst': 6849, 'rawls': 6850, 'melange': 6851, 'halbwahrheiten': 6852, 'thora': 6853, 'rhodan': 6854, 'anstalt': 6855, 'anklagen': 6856, 'pimpf': 6857, 'dienstgrad': 6858, 'jaehrige': 6859, 'jungvolks': 6860, 'bestandener': 6861, 'pimpfenprobe': 6862, 'durften': 6863, 'schulterriemen': 6864, 'hj': 6865, 'fah': 6866, 'enmesser': 6867, 'obskurolaph': 6868, 'sondie': 6869, 'idiotie': 6870, 'abgebrochen': 6871, 'erinnerung': 6872, '76': 6873, 'polizeiverordnung': 6874, 'kennzeichnung': 6875, 'erlassen': 6876, 'straightallies': 6877, 'aimanmazyek': 6878, 'pestfloh': 6879, 'geschuetzten': 6880, 'tiera': 6881, 'barbarischen': 6882, 'wuestenkrieger': 6883, 'verehren': 6884, '9jaehriges': 6885, 'gevoegelt': 6886, 'propagierung': 6887, 'schwanzgesteu': 6888, 'lyllithb': 6889, 'svenstrasen': 6890, 'uncleheri': 6891, 'mvphone': 6892, 'drecksministerium': 6893, 'jensmaierafd': 6894, 'herumopfern': 6895, 'frodilon': 6896, 'schnoedes': 6897, 'rechtschreibproblem': 6898, 'ueberlebensmesser': 6899, 'aufbewahren': 6900, 'ankotzt': 6901, 'echo': 6902, 'mittelschicht': 6903, 'heinemo': 6904, 'kimderga': 6905, 'getragen': 6906, 'rls': 6907, 'forscher': 6908, 'kommission': 6909, 'forscherin': 6910, 'xbimmix': 6911, 'solls': 6912, 'freiwilligen': 6913, 'asylantenhelfer': 6914, 'geschwisterlichem': 6915, 'geistvollen': 6916, 'dankbar': 6917, 'maennerfreundschaften': 6918, 'urgrosseltern': 6919, 'zurueckgelassen': 6920, 'falsifizie': 6921, 'ergebnisoffen': 6922, 'vorweisen': 6923, 'gelamab': 6924, 'eingegangen': 6925, 'inhaltliche': 6926, 'knebel68': 6927, 'rechtsbeugung': 6928, 'laest': 6929, 'genehme': 6930, 'meinungen': 6931, 'daemonisch': 6932, 'sahen': 6933, 'waehlten': 6934, 'endspu': 6935, 'darkcerax': 6936, 'loewenmoerder': 6937, 'hobbyjaeger': 6938, '2006': 6939, 'verdoppelt': 6940, 'ethik': 6941, 'befremdlich': 6942, 'womit': 6943, 'ausgebildet': 6944, 'vorzugsweise': 6945, 'ansprache': 6946, 'selbst': 6947, 'omas': 6948, 'hetzmedien': 6949, 'wuenschte': 6950, 'einem': 6951, 'geschenk': 6952, 'neugewonnenes': 6953, 'alexbercht': 6954, 'brihasselmann': 6955, 'potenzielle': 6956, 'einigkeitszwang': 6957, 'verabredet': 6958, 'bedaerungswuerdigen': 6959, 'abschlusspressekonferenz': 6960, 'praesenz': 6961, 'ratholomaeus': 6962, 'fraumaja': 6963, 'kabel': 6964, 's97145759': 6965, 'vollsuff': 6966, 'bundestagsabgeordneter': 6967, '542': 6968, 'monat': 6969, 'gehalt': 6970, 'ausstellen': 6971, 'erlaubnis': 6972, 'steiblbarbara': 6973, 'revoluzzer0815': 6974, 'generalstreik': 6975, 'schlafmuetzen': 6976, 'mrwinpromz1': 6977, 'retweeten': 6978, 'leser': 6979, 'angefangen': 6980, 'piquecritique': 6981, '5y5t3m': 6982, '3rr0r': 6983, 'kreisler': 6984, 'ressentiments': 6985, 'antiamerikanischen': 6986, 'arbeitskreises': 6987, 'langeweile': 6988, 'ueberbieten': 6989, 'allgemeine': 6990, 'betaetigungsverbot': 6991, 'autogramm': 6992, 'eckardt': 6993, 'zig': 6994, 'uralte': 6995, 'kamellen': 6996, 'hadi': 6997, 'riedel': 6998, 'epmobil': 6999, 'isl': 7000, 'davidbraundavid': 7001, 'fritzkuhn1': 7002, 'niqab': 7003, 'erfundenen': 7004, 'flugzeug': 7005, 'steigen': 7006, 'aehnlicher': 7007, 'fschmidt77': 7008, 'feix': 7009, 'abbestellen': 7010, 'mail': 7011, 'relevanten': 7012, 'adresse': 7013, 'abbestellwunsch': 7014, 'spendenservice': 7015, 'zehn': 7016, 'lebewesen': 7017, 'thevolawatcher': 7018, 'hrreisen': 7019, 'eurostat': 7020, 'defizit': 7021, 'machtgeil': 7022, 'unterschreiben': 7023, 'jpw': 7024, '77': 7025, 'weihnachtsmaerkte': 7026, 'fussgaengerzonen': 7027, 'lkws': 7028, 'sprengstoff': 7029, 'nasanasal': 7030, 'afgahnischer': 7031, 'einreiten': 7032, '1live': 7033, 'krone': 7034, 'schwachkoepfen': 7035, 'bildungsfernen': 7036, 'schichten': 7037, 'halbmast': 7038, 'haschisch': 7039, 'herueber': 7040, 'therealmaaaates': 7041, 'spuren': 7042, 'spam': 7043, 'geloeschten': 7044, 'kommentaren': 7045, 'muster': 7046, 'meckerkopp': 7047, 'prust': 7048, 'profitie': 7049, 'strukturellen': 7050, 'vorgaengerregierung': 7051, 'verhandlungsergebnisse': 7052, 'hannelore': 7053, 'laenderfinanzausgleich': 7054, 'unfair': 7055, 'regierungswechseln': 7056, 'whes18': 7057, 'gebrochenes': 7058, 'fotos': 7059, 'ebner': 7060, 'sha': 7061, 'lenna': 7062, 'pfahler': 7063, 'braune': 7064, 'zuzeiten': 7065, 'widrstand': 7066, 'heten': 7067, 'verputz': 7068, 'jajaja': 7069, 'spontan': 7070, 'susfner': 7071, 'fuener': 7072, 'stream': 7073, 'grusswo': 7074, 'social': 7075, 'media': 7076, 'vorindustriellen': 7077, 'halbwegs': 7078, 'inre': 7079, 'merkeltruppe': 7080, 'paulstrobel': 7081, 'lambsdorff': 7082, 'shoah': 7083, 'ausloesende': 7084, 'momentum': 7085, 'staatsgruendung': 7086, 'gekaempft': 7087, 'oeffentlichkiet': 7088, 'panzern': 7089, 'willichnich': 7090, 'konglomerat': 7091, 'staatlicher': 7092, 'maennerrunde': 7093, 'verlangen': 7094, 'gewaehren': 7095, 'beschweren': 7096, 'jana': 7097, 'haushaltsbereinigungssitzung': 7098, 'fotze': 7099, 'niederlande': 7100, 'wilders': 7101, 'abschneidet': 7102, 'unterdrueckte': 7103, 'tagung': 7104, 'bilanzierung': 7105, 'vergangeheit': 7106, 'schliessen': 7107, 'einander': 7108, 'terroristischem': 7109, 'stalkt': 7110, 'anonymisierung': 7111, 'vorgenommen': 7112, '76bvb': 7113, 'detaillie': 7114, 'grob': 7115, 'hilfswerke': 7116, 'orden': 7117, 'adventssingen': 7118, 'krippen': 7119, 'abschluss': 7120, 'show': 7121, 'taub': 7122, 'willnurschreibn': 7123, 'besserung': 7124, 'deftigen': 7125, 'laetacara': 7126, 'abnehmen': 7127, 'paxter': 7128, 'redwyne': 7129, 'wanderfichte': 7130, 'allemn': 7131, 'differenz': 7132, 'vollzeit': 7133, 'qualifikation': 7134, 'lohnluecke': 7135, 'erklaerungsbeduerftig': 7136, 'selahattin': 7137, 'figen': 7138, 'yueksekdag': 7139, 'tuerk': 7140, 'haft': 7141, 'bubernd': 7142, 'uff': 7143, 'ausgiebig': 7144, 'schmeckt': 7145, 'schmerzhaft': 7146, 'weltwoche': 7147, 'mundschutz': 7148, 'geblieben': 7149, 'weisheit': 7150, 'menschlicher': 7151, 'taiga1947': 7152, 'rambonelli': 7153, 'traege': 7154, 'livestream': 7155, 'laach': 7156, '1960': 7157, 'bfluche': 7158, 'eysvog3l': 7159, 'schalt': 7160, 'eletrojuden': 7161, 'aua': 7162, 'duell': 7163, '95': 7164, 'min': 7165, 'grosskoalitionaerer': 7166, 'einigkeit': 7167, 'umarmt': 7168, 'hauptgegner': 7169, 'ohrfeige': 7170, 'italiener': 7171, 'renzi': 7172, 'eurokrise': 7173, 'wessi': 7174, 'countdown': 7175, 'entscheidet': 7176, 'dokumentieren': 7177, 'eingreift': 7178, 'gradmesser': 7179, 'zuversicht': 7180, 'gaensehautmoment': 7181, 'henriettereker': 7182, 'beinahe': 7183, 'gesetzt': 7184, 'thh': 7185, 'vermittlung': 7186, 'suessen': 7187, 'brunnenvergifterkomplex': 7188, 'hauch': 7189, 'nagelbombe': 7190, 'islamist': 7191, 'angriffskrieg': 7192, 'wehrloses': 7193, 'planet': 7194, 'weichenstellung': 7195, 'langfristigen': 7196, 'aktenzugang': 7197, 'neuorganisation': 7198, 'nrwjusos': 7199, 'agenten': 7200, 'kelber': 7201, 'story': 7202, 'zitelmann': 7203, 'schneller': 7204, 'verharmlost': 7205, 'angeschaut': 7206, 'weggeschaut': 7207, 'schutzvorkehrungen': 7208, 'niedrigere': 7209, 'diskriminie': 7210, 'fuehrungsposition': 7211, 'tinaluchskind': 7212, 'verkehrsminister': 7213, 'halbe': 7214, 'sinnlos': 7215, 'versoffen': 7216, 'braeuchte': 7217, 'information': 7218, 'steuergelder': 7219, 'echte': 7220, 'einheimischen': 7221, 'zugewande': 7222, 'fuehrungspositionen': 7223, 'hieven': 7224, 'bevorzuge': 7225, 'tagesplan': 7226, 'besprechen': 7227, 'pssst': 7228, 'vzbv': 7229, 'netzausbau': 7230, 'krischer': 7231, 'telefonve': 7232, 'raege': 7233, 'schriftliche': 7234, 'bestaetigung': 7235, 'verbraucher': 7236, 'ueberfluessig': 7237, 'gesundheitliche': 7238, 'oekonomische': 7239, 'notwendigkeit': 7240, 'reiner': 7241, 'luxustrend': 7242, 'ditisberlin': 7243, 'versieht': 7244, 'mehrheitsfaehig': 7245, 'likes': 7246, 'im': 7247, 'schadet': 7248, 'teilerfolg': 7249, 'standards': 7250, 'beerdigen': 7251, 'webman': 7252, 'sofware': 7253, 'schreibfehler': 7254, 'clemens': 7255, 'zeitungsinterview': 7256, 'gedenkaccount': 7257, 'jahrestage': 7258, 'ereignisse': 7259, 'opfernazigewalt': 7260, 'region': 7261, 'nahostkonflikts': 7262, 'klingst': 7263, 'verarmte': 7264, 'proletariat': 7265, 'wande': 7266, 'nurzoabe': 7267, 'antisemitismusbeauftragte': 7268, 'ausgestattet': 7269, 'konfliktfaehig': 7270, 'verkommender': 7271, 'hauptproblem': 7272, 'weltgemeinschaft': 7273, 'verweisen': 7274, 'maxschiefi': 7275, 'zulange': 7276, '45': 7277, 'vakuum': 7278, 'leichtesten': 7279, 'einnisten': 7280, 'steckst': 7281, 'mittendrin': 7282, 'konventexerzitien': 7283, 'impulsen': 7284, 'umweltenzyklika': 7285, 'laudato': 7286, 'si': 7287, 'gesegneten': 7288, 'ursuende': 7289, 'ueberschrieben': 7290, 'tepes1291': 7291, 'wille': 7292, 'terraxpress': 7293, 'muede': 7294, 'ausgegangen': 7295, 'rkk': 7296, 'zusammengestellt': 7297, 'freundlich': 7298, 'auszudruecken': 7299, 'sicherlich': 7300, 'lenkt': 7301, 'ukraine': 7302, 'muentefering': 7303, 'bereist': 7304, 'befuerchtet': 7305, 'westlich': 7306, 'sozialisie': 7307, 'warmen': 7308, 'dementsprechend': 7309, 'geraten': 7310, 'anzeigetafel': 7311, 'opferfest': 7312, 'steiermark': 7313, 'schafherde': 7314, 'muslems': 7315, 'schafe': 7316, 'vielschichtiger': 7317, 'wechselseitiger': 7318, 'prozess': 7319, 'zuwanderer': 7320, 'aufnahmegesellschaft': 7321, 'fassade': 7322, 'blickt': 7323, 'sezie': 7324, 'frauengeneration': 7325, 'grandios': 7326, 'initiativen': 7327, 'gewoehnliche': 7328, 'ungewoehnlich': 7329, 'neri': 7330, 'libanesischer': 7331, 'ueberlasst': 7332, 'chaos': 7333, 'weltbilder': 7334, 'broeckeln': 7335, 'kuedder': 7336, 'asylsuchenden': 7337, 'elsalvador': 7338, 'guatemala': 7339, 'honduras': 7340, '10x': 7341, 'verbunden': 7342, 'national': 7343, 'eingestellte': 7344, 'maedel': 7345, 'schaendliches': 7346, 'betrugsspiel': 7347, 'antrags': 7348, 'tomcologne77': 7349, 'besagt': 7350, 'freibeuterin': 7351, 'durchs': 7352, 'bahnhofsvie': 7353, 'burg': 7354, 'schreckenstein': 7355, 'cuckoo1510': 7356, 'emotional': 7357, 'begehren': 7358, 'klaer': 7359, 'stammbaum': 7360, 'bunker': 7361, 'segnungen': 7362, 'eurooeffnung': 7363, 'unberechenbarkeit': 7364, 'hinzufuegen': 7365, 'praesidentiellen': 7366, 'legislative': 7367, 'exekutive': 7368, 'aufgesetzte': 7369, 'lachen': 7370, 'ruecktritt': 7371, 'zustimmt': 7372, 'hinlaenglich': 7373, 'hanssarpei': 7374, 'ihen': 7375, 'hautnah': 7376, 'miterlebt': 7377, 'kei': 7378, 'pferdekopf': 7379, 'mafia': 7380, 'elkwue': 7381, 'gestrige': 7382, 'traugottesdienste': 7383, 'mehrheitlich': 7384, 'einfuehrung': 7385, 'amtshandlung': 7386, 'kirchengemeinderates': 7387, 'enttaeuschend': 7388, 'tststs': 7389, 'notie': 7390, 'braunes': 7391, 'anal': 7392, 'prinz': 7393, 'bruedern': 7394, 'isis': 7395, 'lutsch': 7396, 'donnerbeutel': 7397, 'piratenpa': 7398, 'wahlpruefsteine': 7399, 'zuschauer': 7400, 'zuschauen': 7401, 'ghoheneck': 7402, '0x663030623472': 7403, 'edeweiss': 7404, 'ddrmuseum': 7405, 'vernichtungsaktion': 7406, 'belastbares': 7407, 'vorliegt': 7408, 'dritteoption': 7409, 'geschlechtliche': 7410, 'anomalien': 7411, 'jeher': 7412, 'revolution': 7413, 'halbjahr': 7414, 'annikaspahn': 7415, 'orientierungen': 7416, 'gewoehn': 7417, 'raubtierkapitalismus': 7418, 'komisches': 7419, 'privates': 7420, 'alkoholfreies': 7421, 'eiabzeichen': 7422, 'cor': 7423, 'scipio': 7424, 'ardmoma': 7425, 'dummgruenen': 7426, 'daemliches': 7427, 'sauhaufen': 7428, 'moslempa': 7429, 'fonds': 7430, 'hilfen': 7431, 'ludwigslust': 7432, 'oehzenmiriam': 7433, 'nicksynicky': 7434, 'syrische': 7435, 'schlaraffenland': 7436, 'equilibrium1986': 7437, 'intellektuelle': 7438, 'verlust': 7439, 'woe': 7440, 'erbuch': 7441, 'anpassung': 7442, 'uebe': 7443, 'tierwelt': 7444, 'daimagm': 7445, 'geniess': 7446, 'plaedoyer': 7447, 'sevimdagdelen': 7448, 'tagesthema': 7449, 'mausgerutscht': 7450, 'becker': 7451, 'karrierre': 7452, 'verlogenen': 7453, 'findest': 7454, 'agh2016': 7455, 'agh16': 7456, 'ihretwegen': 7457, 'unregierbar': 7458, 'konzeptionell': 7459, 'humbug': 7460, 'huebsch': 7461, 'schlimme': 7462, 'vollidioten': 7463, 'euros': 7464, 'kaputtmachen': 7465, 'hattest': 7466, 'sascha1352': 7467, 'abstimmungen': 7468, 'auslandsmandaten': 7469, 'lafo': 7470, 'waagenknecht': 7471, 'beliebt': 7472, 'beschliesst': 7473, 'kundgebung': 7474, 'lk': 7475, 'evangelische': 7476, 'fluechtlingsbot': 7477, 'habeauch': 7478, 'flatrate': 7479, 'monall': 7480, 'sozilal': 7481, 'gegenteiligem': 7482, 'votum': 7483, 'hendricks': 7484, 'zulassung': 7485, 'angepisst': 7486, 'belaesst': 7487, 'speziell': 7488, 'geistiger': 7489, 'denkende': 7490, 'jesu': 7491, 'youth': 7492, 'ups': 7493, 'schief': 7494, 'ziffer': 7495, 'todesjahres': 7496, 'frixinator': 7497, 'kulturradio': 7498, 'tazgezwitscher': 7499, 'eniejahr': 7500, 'repraesentieren': 7501, 'initiator': 7502, 'signal': 7503, 'indien': 7504, 'doeddel': 7505, 'gewinnst': 7506, 'werder': 7507, 'krawatte': 7508, 'anzug': 7509, 'hohen': 7510, 'jings667': 7511, 'kindleautorali': 7512, 'unheimlich': 7513, 'nichtstun': 7514, 'soeren': 7515, 'iraner': 7516, 'kinni': 7517, 'maerchenschloss': 7518, 'herrschaftanspruch': 7519, 'istandwithisrael': 7520, 'herben': 7521, 'verlusten': 7522, 'luegenschleudern': 7523, 'finanziellen': 7524, 'motiven': 7525, 'karrieren': 7526, 'logenplatz': 7527, 'nizza': 7528, 'hatten': 7529, 'abzuschieben': 7530, 'jedwede': 7531, 'haltung': 7532, 'willkommene': 7533, 'infragestellung': 7534, 'dialogunfaehige': 7535, 'fanatiker': 7536, 'blocken': 7537, 'billige': 7538, 'grundgesetzliche': 7539, '30uhr': 7540, 'koerner': 7541, 'regenbogenfamilienzentrum': 7542, 'ausfuehrlich': 7543, 'evolutionsbiologie': 7544, 'konsulate': 7545, 'eune': 7546, 'schnellhuber': 7547, 'diplom': 7548, 'tuntenhausen': 7549, 'bdk17': 7550, 'sobald': 7551, 'vermuten': 7552, 'loest': 7553, 'einwand': 7554, 'dominikrzepka': 7555, 'eivorsitzende': 7556, 'magie': 7557, 'daemonischen': 7558, 'kraete': 7559, 'geschlechterbeziehungen': 7560, 'zentraler': 7561, 'ansatzpunkt': 7562, 'stagnie': 7563, 'kreativen': 7564, 'innovativen': 7565, 'trage': 7566, 'vollba': 7567, 'traeumt': 7568, 'helder': 7569, 'camara': 7570, 'tanz': 7571, 'massenschlaegerein': 7572, 'schossen': 7573, 'decke': 7574, 'wetterchen': 7575, 'noetigen': 7576, 'einzelnen': 7577, 'anfaengt': 7578, 'wuehler': 7579, 'schmierer': 7580, 'zersetzer': 7581, 'ostkuestenbraut': 7582, 'brisant': 7583, 'entschuldige': 7584, 'promis': 7585, 'gesellschaftlich': 7586, 'einflussreich': 7587, 'homosexuelles': 7588, 'moderator': 7589, 'moma': 7590, 'nilsbeyer': 7591, 'stolzem': 7592, 'ergreifen': 7593, 'positive': 7594, 'vorschlaege': 7595, 'sarkumpmak': 7596, 'wanderausstellung': 7597, 'museum': 7598, 'kommunikation': 7599, 'stories': 7600, 'befriedigung': 7601, 'vorgaukeln': 7602, 'werbepkakaten': 7603, 'triumphieren': 7604, 'wehrwoelfe': 7605, 'asiatischen': 7606, 'horden': 7607, 'bratwurst': 7608, 'oingoing': 7609, 'grobe': 7610, 'rinderbratwurst': 7611, 'schlachter': 7612, 'lecker': 7613, 'schmorsauerkraut': 7614, 'knoedel': 7615, 'fidelisamica': 7616, 'pronos': 7617, 'redeanteil': 7618, 'zzfpotsdam': 7619, 'onlinekommunikation': 7620, 'institutionen': 7621, 'dpok': 7622, 'befreiung': 7623, 'joch': 7624, 'zionisten': 7625, 'quotenfrauen': 7626, 'grill': 7627, 'kandidie': 7628, 'vorsitzender': 7629, 'boar': 7630, 'sachen': 7631, 'praevention': 7632, 'antidiskriminierungsgesetz': 7633, 'michaelroder1': 7634, 'reinste': 7635, 'thomallasophia': 7636, 'moese': 7637, 'beisst': 7638, 'einladungen': 7639, 'gottesdiensten': 7640, 'messe': 7641, 'gesungene': 7642, 'vesper': 7643, 'christmette': 7644, 'google': 7645, 'sondierungverhandlungen': 7646, 'furchtbaren': 7647, 'anschlaegen': 7648, 'kontinuierliche': 7649, 'daemonisierung': 7650, 'herauspicken': 7651, 'dosb': 7652, 'teamd': 7653, 'lebensfreude': 7654, 'ausstrahlt': 7655, 'bewundernswe': 7656, 'versoffene': 7657, 'unistin': 7658, 'lupuslotarius': 7659, 'muschi': 7660, 'spazie': 7661, 'beschissener': 7662, 'laiendarstellern': 7663, 'gidion': 7664, 'rogg': 7665, 'ueberarbeiteten': 7666, 'kundgebungsentwurf': 7667, 'enttaeuschung': 7668, 'fehleinschaetzung': 7669, 'erwachsen': 7670, 'race': 7671, 'realists': 7672, 'entlarven': 7673, 'biologischen': 7674, 'zeugt': 7675, 'argumentativen': 7676, 'schwaeche': 7677, 'ursula': 7678, 'haverbeck': 7679, 'amtsgericht': 7680, 'voksverhetzung': 7681, 'iger': 7682, 'schmeiss': 7683, 'fernseher': 7684, 'woratschka': 7685, 'faktenfreie': 7686, 'enttaeuscht': 7687, 'abgehoe': 7688, 'speziellen': 7689, 'anpassungen': 7690, 'geographische': 7691, 'gegebenheiten': 7692, 'populationen': 7693, 'geraet': 7694, 'kanallie': 7695, 'verseucht': 7696, 'comicerkai': 7697, 'bildblog': 7698, 'moritz': 7699, 'tschermak': 7700, 'unabhaenige': 7701, 'spuerbar': 7702, 'blassen': 7703, 'dunklen': 7704, 'christi': 7705, 'herxheim': 7706, 'antisemitismunsbeauftragten': 7707, 'hitlerglocke': 7708, 'fruehlingswetter': 7709, 'laue': 7710, 'temperatur': 7711, 'sonne': 7712, 'junghanelenrico': 7713, 'npddirekt': 7714, 'gaaaanz': 7715, 'harald70199': 7716, 'trapo': 7717, 'helfende': 7718, 'geilsten': 7719, 'grundrechtlich': 7720, 'grundrecht': 7721, 'duemmste': 7722, 'sonderrecht': 7723, 'carlclausewitz1': 7724, 'qualifizie': 7725, 'verirren': 7726, 'zugute': 7727, 'enorm': 7728, 'verhaeltnisse': 7729, 'bktb': 7730, 'kotti': 7731, 'rosen': 7732, 'migrantehintergrund': 7733, 'ho': 7734, 'arimar': 7735, 'vergleich': 7736, 'geschichtsloser': 7737, 'antisemit': 7738, 'heimatstadt': 7739, 'zigarre': 7740, 'unbeschreiblich': 7741, 'polemisch': 7742, 'tiermoerder': 7743, 'geschaechtet': 7744, 'kohleausstieg': 7745, 'schnellstmoeglich': 7746, 'fahrlaessig': 7747, 'gestemmt': 7748, 'saefken': 7749, 'raender': 7750, 'staerkt': 7751, 'flughafen': 7752, 'verkuendet': 7753, 'sturmsicher': 7754, 'fliegen': 7755, 'orkan': 7756, 'haeuchlerin': 7757, 'prometheusinst': 7758, 'schmoddrige': 7759, 'haare': 7760, 'fuehrer': 7761, 'eventuell': 7762, 'belege': 7763, 'kindlich': 7764, 'naives': 7765, 'zeichnen': 7766, 'grossstaedten': 7767, 'zur': 7768, 'israeliten': 7769, 'gratuliere': 7770, 'stigmatisie': 7771, 'kriminalisie': 7772, 'sozialdemokratischer': 7773, 'annehmbarer': 7774, 'maybritt': 7775, 'statisten': 7776, 'publikum': 7777, 'flatterhose': 7778, 'standesaemter': 7779, 'schleho': 7780, 'ehepruefungsgebuehren': 7781, 'umwandlungsgebuehren': 7782, 'darasasmaz': 7783, 'aufgehts100': 7784, 'prueffrage': 7785, 'gaza': 7786, 'bundestagspraesident': 7787, 'inklusion': 7788, 'schiebt': 7789, 'programmpunkte': 7790, 'bord': 7791, 'schmeissen': 7792, 'normalitaet': 7793, 'qua': 7794, 'abzufeuern': 7795, 'vereinten': 7796, 'nationen': 7797, 'zuge': 7798, 'konflikts': 7799, 'wackere': 7800, 'aufrechte': 7801, 'enmoerd': 7802, 'bombern': 7803, 'zw': 7804, 'auslaend': 7805, 'katholiken': 7806, 'motor': 7807, 'zukunftsweisendes': 7808, 'leviten': 7809, 'dwarfplanet': 7810, 'rf': 7811, 'wda': 7812, 'groesster': 7813, 'preussisches': 7814, 'maechtigste': 7815, 'saeugetiere': 7816, 'biologische': 7817, 'krizzy4peace': 7818, 'alphawelle': 7819, 'rechtsnachfolge': 7820, 'mitzunehmen': 7821, 'strang': 7822, 'neuwahl': 7823, 'nachts': 7824, 'schnelles': 7825, 'ensterben': 7826, 'unausweichlich': 7827, 'schiss': 7828, 'stunk': 7829, 'besuche': 7830, 'drittweltlaender': 7831, 'fanatisch': 7832, 'abzulegen': 7833, 'sollst': 7834, 'hemabe': 7835, 'clickbait': 7836, 'judenunterwande': 7837, 'prange': 7838, 'fakenews': 7839, 'mediennutzung': 7840, 'fluechtet': 7841, 'verlinkten': 7842, 'zeitungsa': 7843, 'juedisches': 7844, 'meins': 7845, 'fliessen': 7846, 'geworben': 7847, 'respektarbeit': 7848, 'fruehschikanierung': 7849, 'gefaehrdet': 7850, 'kindeswohl': 7851, 'enst1': 7852, 'voelkerrechtliche': 7853, 'rechtsetzungern': 7854, 'beduerfen': 7855, 'wirksamkeit': 7856, 'skrieg': 7857, 'verstoss': 7858, 'cha': 7859, 'george': 7860, 'freimaurer': 7861, 'niete': 7862, 'hats': 7863, 'bildzeitung': 7864, 'verkommenste': 7865, 'kaeppi': 7866, 'fand': 7867, 'katzen': 7868, 'kathrinott': 7869, 'blatt': 7870, 'helles': 7871, 'galanterie': 7872, 'mantel': 7873, 'stuhl': 7874, 'ablegen': 7875, 'paulplotzer': 7876, 'schnee': 7877, 'regen': 7878, 'melkami7': 7879, 'weden': 7880, 'abnormalitaet': 7881, 'gutheissen': 7882, 'nue': 7883, 'gueltig': 7884, 'prosecco': 7885, 'lesbo': 7886, 'queer': 7887, 'theoretiker': 7888, 'immunisie': 7889, 'rueckgratlosen': 7890, 'verspricht': 7891, 'fuckthegroko': 7892, 'einlaesst': 7893, 'sicherer': 7894, 'pakt': 7895, 'luftspringer': 7896, 'monatlich': 7897, 'geisteszustand': 7898, 'vergeht': 7899, 'henri': 7900, 'nouwen': 7901, 'regierungspolitiker': 7902, 'benoetigen': 7903, 'fahnenfluechtigen': 7904, 'kopftuchdichte': 7905, 'kontinuierlich': 7906, 'mauern': 7907, 'fungieren': 7908, 'ergeben': 7909, 'chancen': 7910, 'berufl': 7911, 'pfarrer': 7912, 'messer': 7913, 'gekoepft': 7914, 'produzie': 7915, 'sat': 7916, 'galdregons': 7917, 'schalupe': 7918, 'guckt': 7919, 'son': 7920, 'luftangriff': 7921, 'deirezzor': 7922, 'seltsamer': 7923, 'ausgestattete': 7924, 'tilschweiger': 7925, 'pfefferspray': 7926, 'aussticht': 7927, 'ideologischen': 7928, 'weshalb': 7929, 'besonderem': 7930, 'beachte': 7931, 'bibelzitate': 7932, 'welche': 7933, 'widersprueche': 7934, 'grausamkeiten': 7935, 'darstellungen': 7936, 'christentums': 7937, 'aufzuzeigen': 7938, 'brandenburgische': 7939, 'aepfel': 7940, 'kongolesischen': 7941, 'reis': 7942, 'aegyptische': 7943, 'chinesische': 7944, 'hamburger': 7945, 'mikrokosmos': 7946, 'konflikte': 7947, 'christianeflori': 7948, 'synode': 7949, 'maennerhintern': 7950, 'verlorener': 7951, 'verlass': 7952, 'dauer': 7953, 'projekt15': 7954, 'spdbtp18': 7955, 'zeigefinger': 7956, 'hage': 7957, 'ressentiment': 7958, 'eilskraft': 7959, 'voelligen': 7960, 'kenntnisnahmeverweigerung': 7961, '1943ff': 7962, 'anhatte': 7963, 'getrunken': 7964, 'durchas': 7965, 'emotiontouch': 7966, 'captaincalvinca': 7967, '34': 7968, 'tippe': 7969, 'unvernunft': 7970, 'pfarrerpohl': 7971, 'geliebte': 7972, 'autokorrektur': 7973, 'kurhessen': 7974, 'platzt': 7975, 'schweden': 7976, 'nordmaennern': 7977, 'vikingern': 7978, 'digiwomende': 7979, 'konstanzegkiel': 7980, 'beeindruckend': 7981, 'sachlich': 7982, 'investigativ': 7983, 'preisverdaechtig': 7984, 'goldkehlchen': 7985, 'begrenzung': 7986, 'garnichts': 7987, 'sagtst': 7988, 'unterstuetze': 7989, '709': 7990, 'iraker': 7991, 'rueckehrer': 7992, 'aufnehmenden': 7993, 'schlaegst': 7994, 'lustige': 7995, 'negativen': 7996, 'klischees': 7997, 'bildungsferne': 7998, 'lippe': 7999, 'zustimmer': 8000, 'selbstausrottung': 8001, 'kueche': 8002, 'schnaps': 8003, 'runterzuschlucken': 8004, 'dirk': 8005, 'thesenvitz': 8006, 'ekdjugend': 8007, 'internets': 8008, 'komplimente': 8009, 'respektlos': 8010, 'vollverpflegung': 8011, 'asylantenheim': 8012, 'buergerlichen': 8013, 'merkelgruene': 8014, 'schaefers': 8015, 'bischofgebhard': 8016, 'kathkirche': 8017, 'nachgefragt': 8018, 'bespielt': 8019, 'korrupten': 8020, 'schwarzgeldverbrecher': 8021, 'tollen': 8022, 'rechtsanwaelte': 8023, 'schoepfung': 8024, 'schoenschrift': 8025, 'sinnloses': 8026, 'ernesto': 8027, 'cardenal': 8028, 'peppermind': 8029, 'lesbe': 8030, 'hezten': 8031, 'schlagerkultur': 8032, 'depp': 8033, 'ausgehalten': 8034, 'heuchlerische': 8035, 'entgehen': 8036, 'mangott': 8037, 'rebharms': 8038, 'fbrantner': 8039, 'evtl': 8040, 'einschraenkungen': 8041, 'gentechnologie': 8042, 'kuenstliche': 8043, 'erhoehen': 8044, '113': 8045, 'asylsuchend': 8046, 'jutta': 8047, 'ditfu': 8048, 'fluechtlingskrise': 8049, 'drumherum': 8050, 'wiederhole': 8051, 'vmedick': 8052, 'gradlinig': 8053, 'eleganter': 8054, 'schlepper': 8055, 'prallt': 8056, 'ausnahmsweise': 8057, 'qualitaet': 8058, 'einwanderer': 8059, 'schaeden': 8060, 'ergebniss': 8061, 'plischkewolfga1': 8062, 'nichtexistenten': 8063, 'saalfeld': 8064, 'format': 8065, 'bundesweiten': 8066, 'verwirklicht': 8067, 'neoliberalen': 8068, 'hauptziel': 8069, 'zerschlagen': 8070, 'grossveranstaltungen': 8071, 'akzeptiere': 8072, 'mumpitz': 8073, 'falsifizierbarkeit': 8074, 'erforschen': 8075, 'robbatt': 8076, 'entschuldigen': 8077, 'unterlaufen': 8078, '1995': 8079, 'bali': 8080, 'schmeissfliegen': 8081, 'stefansasse': 8082, 'metaliberal': 8083, 'staatlich': 8084, 'unterlass': 8085, 'jesus': 8086, 'verachtet': 8087, 'prophetisches': 8088, 'prueft': 8089, 'behaltet': 8090, 'thess': 8091, 'sozialpsychologische': 8092, 'noelles': 8093, 'hauptbahnhof': 8094, 'asylbewerber': 8095, 'anwesenheit': 8096, 'tratschen': 8097, 'kumpanei': 8098, 'hilfsleistungen': 8099, 'gespraechskanal': 8100, 'offenhalten': 8101, 'dialogfaehig': 8102, 'heucheln': 8103, 'vollfressen': 8104, 'teuflisch': 8105, 'raffinie': 8106, 'dierechten': 8107, 'schusswaffe': 8108, 'heut': 8109, 'schusswaffen': 8110, 'ueberlegen': 8111, 'positionen': 8112, 'fruehere': 8113, 'erhebt': 8114, 'vergewaltigungsverdachts': 8115, 'weist': 8116, 'anschuldigungen': 8117, 'ueberfaellig': 8118, 'fistbump': 8119, 'psychologischen': 8120, 'untersuchung': 8121, 'sweiermann': 8122, 'netter': 8123, 'rl': 8124, 'begegnet': 8125, 'oeffnung': 8126, 'fahrerlaubnis': 8127, 'verwandte': 8128, 'kriegsverschont': 8129, 'bagage': 8130, 'hyperventilieren': 8131, 'afdler': 8132, 'nervenklinik': 8133, 'betroffenheit': 8134, 'blutig': 8135, 'toedlich': 8136, 'dannschmeisst': 8137, 'saemtliches': 8138, 'rnf': 8139, 'ring': 8140, 'nationaler': 8141, 'persoenlichkeiten': 8142, 'indiz': 8143, 'gedreht': 8144, 'fiktion': 8145, 'urmenschen': 8146, 'stammesaelteste': 8147, 'stehst': 8148, 'galaxie499': 8149, 'bababangz': 8150, 'gerda': 8151, 'watchingyou81': 8152, 'hakenkreuze': 8153, 'symbole': 8154, 'voelkischen': 8155, 'arier': 8156, 'rassenwahn': 8157, 'usurpie': 8158, 'tomkoehler252': 8159, 'mandate': 8160, 'ihre': 8161, 'hinterhofmoscheen': 8162, 'radikalisie': 8163, 'kuffar': 8164, 'gepredigt': 8165, 'aufgerufen': 8166, 'prostata': 8167, 'subotnik1': 8168, 'anarkitty': 8169, 'gba': 8170, 'bgh': 8171, 'todesu': 8172, 'mindeststards': 8173, 'zivilpaktes': 8174, 'systematischen': 8175, 'angriffs': 8176, 'verkehr': 8177, 'gepumpt': 8178, 'gier': 8179, 'unersaettlich': 8180, 'belasten': 8181, 'publicsexcrimes': 8182, 'ostasiatischen': 8183, 'problemgruppe': 8184, 'mightbedamian': 8185, 'nat': 8186, 'aktionsplan': 8187, 'erreichtes': 8188, 'demergencybrake': 8189, '07': 8190, 'jensausbochum': 8191, 'erzaehl': 8192, 'wenked': 8193, 'vollpfosten': 8194, 'automatische': 8195, 'propagandaschau': 8196, 'auszuweichen': 8197, 'grundproblem': 8198, 'genderrolle': 8199, 'rueckwae': 8200, 'henny': 8201, 'engels': 8202, 'abzockerei': 8203, 'kostenintensiv': 8204, 'fliessendem': 8205, 'widersprechen': 8206, 'weiterzugeben': 8207, 'schutzpatron': 8208, 'voeker': 8209, 'green': 8210, 'peace': 8211, 'irgendwelche': 8212, 'lokalpolitiker': 8213, 'eingebrockt': 8214, 'ehrliche': 8215, 'begruessungsgeld': 8216, 'oberbuergermeisters': 8217, 'verbrecherapparat': 8218, 'sozialdemokratie': 8219, 'steigbuegelhalter': 8220, 'spezifischen': 8221, 'weiblichen': 8222, 'klatsch': 8223, 'mutlu': 8224, 'folgendes': 8225, 'dunkle': 8226, 'franzoesischem': 8227, 'datenritter': 8228, 'maxdefflow': 8229, 'illyriom': 8230, 'dasnuf': 8231, 'steinwurf': 8232, 'aggression': 8233, 'aufloesung': 8234, 'versammlung': 8235, 'antifa666ffm': 8236, 'wahlkampfmaterial': 8237, 'storman': 8238, 'abgeschaffte': 8239, 'paritaetische': 8240, 'finanzierung': 8241, 'gesetzlichen': 8242, 'krankenversicherung': 8243, 'silkeburmester': 8244, 'wievielefrauen': 8245, 'haarinsuppe': 8246, 'oha': 8247, 'originell': 8248, 'zora': 8249, '211212': 8250, 'spaltungen': 8251, 'danijelmajic': 8252, 'voigts': 8253, 'fluechteten': 8254, 'mentale': 8255, 'physiologische': 8256, 'aversion': 8257, 'beamten': 8258, 'verstaerkung': 8259, 'ueberwaeltigten': 8260, 'trennende': 8261, 'verbindende': 8262, 'romeo': 8263, 'entkommt': 8264, 'manuel': 8265, 'twittere': 8266, 'eingeblendet': 8267, 'lec457': 8268, 'agm': 8269, 'alain': 8270, 'spakkos': 8271, 'bolschewiki': 8272, 'meerschweinchen': 8273, 'strassen': 8274, 'verrueckter': 8275, 'aachen': 8276, 'tivoli': 8277, 'huegelkind': 8278, 'einvernehmlich': 8279, 'holge': 8280, 'verbindet': 8281, 'unkontrollie': 8282, 'sicherheitsrisiko': 8283, 'darstellt': 8284, 'gelegenheiten': 8285, 'jesidische': 8286, 'mitansehen': 8287, 'angehoerige': 8288, 'glaubensgemeinschaft': 8289, 'extremismus': 8290, 'niemandem': 8291, 'spontandemos': 8292, 'greywolfing': 8293, 'angelangt': 8294, '90er': 8295, 'smiley': 8296, 'abgeordnete': 8297, 'kinderlieder': 8298, 'obe': 8299, 'anprobie': 8300, 'gepasst': 8301, 'drama': 8302, 'kleinste': 8303, 'gewuerzt': 8304, 'liebenswuerdigkeit': 8305, 'wiegt': 8306, 'schatz': 8307, 'candida': 8308, 'jeannetteleipz2': 8309, 'pflege': 8310, 'zivi': 8311, 'wehrpflicht': 8312, 'weicheiern': 8313, 'haye': 8314, 'geballte': 8315, 'ladung': 8316, 'suff': 8317, 'bilder': 8318, 'menschlich': 8319, 'stoppt': 8320, 'asylantenflucht': 8321, 'verpflichtung': 8322, 'irgendwen': 8323, 'aufzunehmen': 8324, 'raetsel': 8325, '400': 8326, 'sprecht': 8327, 'diskreter': 8328, 'ansprechpa': 8329, 'atheistenhelfen': 8330, 'verklagen': 8331, 'schiessbefehlaeusserung': 8332, 'trumpf': 8333, 'geplanten': 8334, 'propagandaauftritt': 8335, 'untersagen': 8336, 'versekten': 8337, 'gesinnungszirkeln': 8338, 'radikalisieren': 8339, 'gewerkschaften': 8340, 'leiharbeiter': 8341, 'algii': 8342, 'bezieher': 8343, 'inneren': 8344, 'wolke': 8345, 'romano': 8346, 'guardini': 8347, 'bolschewistenhure': 8348, 'dimetrodon109': 8349, 'wilderer': 8350, 'a9': 8351, 'hoehe': 8352, 'glebitzsch': 8353, 'graffiti': 8354, 'bruecke': 8355, 'davidsternen': 8356, 'rueckzahlungsverpfichtungen': 8357, 'auferlegen': 8358, 'nominell': 8359, 'todfeind': 8360, 'verbuendeter': 8361, 'bundesminister': 8362, 'schaftliche': 8363, 'zusammenarbeit': 8364, 'gerd': 8365, 'dreht': 8366, 'werke': 8367, 'aufstrahlen': 8368, 'avila': 8369, 'verlogen': 8370, 'menschenfeinde': 8371, 'zuschlagen': 8372, 'ditib': 8373, 'reinzustecken': 8374, 'kuenfitg': 8375, 'bibisbeauty': 8376, 'verhungern': 8377, 'anke4you': 8378, 'verstehst': 8379, 'sanfter': 8380, 'gekroent': 8381, 'anlaeufe': 8382, 'deutschenfreundlich': 8383, 'assimilieren': 8384, 'schweitzer': 8385, 'druecken': 8386, 'marktplaetzen': 8387, 'gigantisch': 8388, 'hochgeschlafen': 8389, 'besitzer': 8390, 'cschwennicke': 8391, 'dreckshaufen': 8392, 'anbetet': 8393, 'judenkomplex': 8394, 'dummdeutschen': 8395, 'gewaehlten': 8396, 'islamdreck': 8397, 'zugehoerig': 8398, 'eingeschraenkt': 8399, 'volksverhetzung': 8400, 'kostet': 8401, 'fehlschlaege': 8402, 'umgehst': 8403, 'ruedigerwala': 8404, 'puste': 8405, 'wandern': 8406, 'saraocd': 8407, 'naiven': 8408, '4jahreerholung': 8409, 'zusammenarbeitet': 8410, 'pm': 8411, 'dazugelernt': 8412, 'sarahwagenknecht': 8413, 'loeschzentren': 8414, 'erklaerbar': 8415, 'bluse': 8416, 'ndrinfo': 8417, 'bibelglaube': 8418, 'einzelfaelle': 8419, 'stande': 8420, 'kamst': 8421, 'bibelglauben': 8422, 'hapelanger': 8423, 'offensichtl': 8424, 'demaizi': 8425, 'bundesve': 8426, 'zustaendiger': 8427, 'bundesinnensminister': 8428, 'brei': 8429, 'michawitcz': 8430, 'bistumbamberg': 8431, 'ueberzeugen': 8432, 'aktualisie': 8433, 'vorschaubilder': 8434, 'schweinefleischpflicht': 8435, 'ausdenken': 8436, 'modeerscheinung': 8437, 'phantasie': 8438, 'streams': 8439, 'lieblingsaffen': 8440, 'westhim': 8441, 'regelsatz': 8442, 'reichen': 8443, 'irgendwer': 8444, 'rechnung': 8445, 'bemerken': 8446, 'holgernohr': 8447, 'dritten': 8448, 'hauptamtlichen': 8449, 'inoffiziellen': 8450, 'mitarbeitern': 8451, 'bringst': 8452, 'genauso': 8453, 'end': 8454, 'bikinis': 8455, 'freizuegigkeit': 8456, 'aeusserst': 8457, 'gaborhalasz1': 8458, 'personals': 8459, 'sicherheitskraeften': 8460, 'integrationskurs': 8461, '4gg': 8462, 'durcharbeiten': 8463, 'religionsausuebung': 8464, '1984er': 8465, 'feministischer': 8466, 'porno': 8467, 'rauskommen': 8468, 'penetration': 8469, 'vergewaltigung': 8470, 'systematisches': 8471, 'unwichtiger': 8472, 'gemachten': 8473, 'versprechungen': 8474, 'vizekanzler': 8475, 'einloesen': 8476, 'generalsekretaer': 8477, 'poebler': 8478, 'polypepper': 8479, 'gaeste': 8480, 'deadline': 8481, 'wk58kl': 8482, 'poggenburgandre': 8483, 'schlagzeile': 8484, 'firma': 8485, 'geknechtete': 8486, 'gefrkamnitzer': 8487, 'voskhule': 8488, 'administration': 8489, 'linksrotgruen': 8490, 'armutsrenter': 8491, 'praesidium': 8492, 'hetzern': 8493, 'spoun': 8494, 'zusammenhaengenden': 8495, 'solidarische': 8496, 'alex': 8497, 'berlinnazifrei': 8498, 'glueckwuensche': 8499, 'detzer': 8500, 'hildenbrand': 8501, 'wiederwahl': 8502, 'gruenebw': 8503, 'ldkbw': 8504, 'brightsblog': 8505, 'aufgespielt': 8506, 'zahlreiche': 8507, 'herausgeschlagen': 8508, 'huehnerherzen': 8509, 'fuern': 8510, 'kocht': 8511, 'schokolade': 8512, 'gerechte': 8513, 'loehne': 8514, 'narr': 8515, 'cduberlin': 8516, 'zuegeln': 8517, 'wahlpraeferenz': 8518, 'henkel': 8519, 'webarchive': 8520, 'keineswegs': 8521, 'ferdinandscholz': 8522, 'umstaenden': 8523, 'aussprechen': 8524, 'verdraengt': 8525, 'zuneigung': 8526, 'ahnungslosen': 8527, 'eivorsitzenden': 8528, 'katholischer': 8529, 'pechschwarzen': 8530, 'niederrheiner': 8531, 'kurierat': 8532, 'enttaeuschen': 8533, 'untreu': 8534, 'kriegerisch': 8535, 'spatz': 8536, 'taube': 8537, 'vorhersagen': 8538, 'entfernt': 8539, 'reinen': 8540, 'fassen': 8541, 'tritin': 8542, 'phaedophilen': 8543, 'plakat': 8544, 'anziehst': 8545, 'wirst': 8546, 'hysterikern': 8547, 'thomasmatzka': 8548, 'zeitverschwendung': 8549, 'legitimitaet': 8550, 'spreche': 8551, 'wahlergebnis': 8552, 'favorisie': 8553, 'vermasselt': 8554, 'angeblicher': 8555, 'hypower': 8556, 'beschaeftige': 8557, 'ueberzeugung': 8558, 'diagnose': 8559, 'fick': 8560, 'barett': 8561, 'armeestiefel': 8562, 'kika': 8563, 'jaehriger': 8564, 'siebenjaehrige': 8565, 'ehefrau': 8566, 'paedophilie': 8567, 'jellermann': 8568, 'endlic': 8569, 'polemisie': 8570, 'entschaedigung': 8571, 'zehntausend': 8572, 'schnittchen': 8573, 'mettigel': 8574, 'bigotterie': 8575, 'deluxe': 8576, 'fasse': 8577, 'sondierungsgespraechen': 8578, 'provozie': 8579, 'breitscheitplatz': 8580, 'heester11': 8581, 'fragenmundschenk': 8582, 'bewacht': 8583, 'sendest': 8584, 'schenke': 8585, 'ez': 8586, '36': 8587, 'neujahrspredigt': 8588, 'jammergestallt': 8589, 'petra': 8590, 'darzustellen': 8591, 'marcboe': 8592, 'landtag': 8593, 'dikrisminierung': 8594, 'jesuitenfluechtlingsdienst': 8595, 'jrseurope': 8596, 'jesuitrefugee': 8597, 'gepflegte': 8598, 'unterhaltung': 8599, 'asylantenstopp': 8600, 'problematische': 8601, 'infobergmann': 8602, 'oesi': 8603, 'cia': 8604, 'geseiere': 8605, 'wide': 8606, 'beantragt': 8607, 'objekt': 8608, 'druecke': 8609, 'fest': 8610, 'daumen': 8611, 'fanclub': 8612, 'friedhof': 8613, 'revolutionaerste': 8614, 'arbeiter': 8615, 'apostaten': 8616, 'hadithen': 8617, 'staedtischen': 8618, 'entmachten': 8619, 'tedtalks': 8620, 'neuanfang': 8621, 'militaereskalation': 8622, 'nutzt': 8623, 'gestoppt': 8624, 'breg': 8625, 'chanscheichun': 8626, 'verstaendigung': 8627, 'lb': 8628, 'schaetze': 8629, 'annexion': 8630, 'dezimie': 8631, 'eingeht': 8632, 'unverhandelbar': 8633, 'vollmundig': 8634, 'hantieren': 8635, 'berufslesbe': 8636, 'queerspiegel': 8637, 'lebenspa': 8638, 'nerin': 8639, 'wege': 8640, 'stiefkindadoption': 8641, 'elternteil': 8642, 'kindes': 8643, 'einsicht': 8644, 'koerperlich': 8645, 'protektorat': 8646, 'imperialismus': 8647, 'gedaechtnis': 8648, 'inahuber15': 8649, 'krimineller': 8650, 'staatssekretaere': 8651, 'blaue': 8652, 'widerliche': 8653, 'eunuchenstimme': 8654, 'einzuwenden': 8655, 'charakter': 8656, 'einstimmig': 8657, 'beschlossen': 8658, 'ewiglich': 8659, 'ps': 8660, '146': 8661, 'dominikko': 8662, 'flyer': 8663, 'soziologie': 8664, 'bds': 8665, 'hinaus': 8666, 'beobachtung': 8667, 'exklusiv': 8668, 'persoenlichen': 8669, 'vorgang': 8670, 'century': 8671, 'girl': 8672, 'zahnarzt': 8673, 'verabscheue': 8674, 'besoffen': 8675, 'puff': 8676, 'erhoehung': 8677, 'zeichenzahl': 8678, 'supi': 8679, 'vernuenftig': 8680, 'saetze': 8681, 'formulieren': 8682, 'themalgot': 8683, 'coldsweetness': 8684, 'marionetten': 8685, 'welle': 8686, 'reisen': 8687, 'verrecke': 8688, 'elendig': 8689, 'aufgehoben': 8690, 'schlaeger': 8691, '184b': 8692, 'stgb': 8693, 'kinderpornographischer': 8694, '102': 8695, 'freiheitsstrafe': 8696, 'blaueswunder13': 8697, 'schwurspruch': 8698, 'vereidigung': 8699, 'fluechtlingssituation': 8700, 'jetzigen': 8701, 'auskunft': 8702, 'trittst': 8703, 'medialmann': 8704, 'hinweisen': 8705, 'bundeswehrsoldat': 8706, 'buehne': 8707, 'kaese': 8708, 'gestaltet': 8709, 'zittere': 8710, 'regelmaessiger': 8711, 'stoerungsfreier': 8712, 'heutzutage': 8713, 'manfredweber': 8714, 'huehnermist': 8715, 'sog': 8716, 'denuzianten': 8717, 'podium': 8718, 'lehramtsstudierende': 8719, 'sensibilisie': 8720, 'strukturell': 8721, 'begleitet': 8722, 'ekelhaftes': 8723, 'widerwae': 8724, 'iges': 8725, 'rechtspopulist': 8726, 'kritiker': 8727, 'ekel': 8728, 'lief': 8729, 'soeben': 8730, 'eloquente': 8731, 'ehrlichen': 8732, 'verpulve': 8733, 'ordentlich': 8734, 'ausland': 8735, 'schweinerei': 8736, 'bundesland': 8737, 'tragischer': 8738, 'bundeswehrsoldaten': 8739, 'mali': 8740, 'ordnungsmacht': 8741, 'dringend': 8742, 'solidarrente': 8743, 'lohnzahlung': 8744, 'subventionie': 8745, 'kuschelkurs': 8746, 'machtgeilen': 8747, 'fuehrern': 8748, 'heimlich': 8749, 'lustvoll': 8750, 'entgegenhecheln': 8751, 'getee': 8752, 'gefede': 8753, 'gepruegelt': 8754, 'meck': 8755, 'pomm': 8756, 'tapfere': 8757, 'gratulation': 8758, 'engagie': 8759, 'beeindruckende': 8760, 'auslaenderbeauftragte': 8761, 'station': 8762, 'rechtsreferendarin': 8763, 'niedrigem': 8764, 'mittlerem': 8765, 'zitate': 8766, 'bischofskonferenz': 8767, '2004': 8768, 'sjeschor': 8769, 'aussagen': 8770, 'aufrufe': 8771, 'susa': 8772, 'schreib': 8773, 'refugees': 8774, 'mitarbeit': 8775, 'anbieten': 8776, 'netzwerk': 8777, 'bundesweit': 8778, 'arbeitsmittelpunkt': 8779, 'daddy': 8780, 'hoer': 8781, 'einfache': 8782, 'schreibst': 8783, 'texte': 8784, 'islamistische': 8785, 'narkose': 8786, 'operie': 8787, 'befreienden': 8788, 'kristindavis': 8789, 'sonderbotschafterin': 8790, 'bangladesch': 8791, 'stecker': 8792, 'schutzwall': 8793, 'spdler': 8794, 'reihe': 8795, 'europamagazin': 8796, 'maechtig': 8797, 'strikt': 8798, 'unangemessene': 8799, 'thomasbstein': 8800, 'unkonventionellen': 8801, 'stil': 8802, 'angreifbar': 8803, 'schaeubles': 8804, 'mimik': 8805, 'baende': 8806, 'kriegsbefuerwo': 8807, 'chancenlos': 8808, 'kretsc': 8809, 'sachsens': 8810, 'mp': 8811, 'erdogans': 8812, 'waffenlieferungen': 8813, 'panzerfabrik': 8814, 'unfrieden': 8815, 'goslar': 8816, 'genick': 8817, 'weiblich': 8818, 'maennlich': 8819, 'weihnachtsstress': 8820, 'nett': 8821, 'iphone': 8822, 'steuerbetrueger': 8823, 'apple': 8824, 'verlogenes': 8825, 'gluecklich': 8826, 'schaetzen': 8827, 'stando': 8828, 'zypern': 8829, 'kuwait': 8830, 'brexitchaosgewinnler': 8831, 'profiteure': 8832, 'bloedheit': 8833, 'britischen': 8834, 'sonderrolle': 8835, 'radarfurie': 8836, 'menschenverachtenden': 8837, 'fernsehturm': 8838, 'palast': 8839, 'gewandhaus': 8840, 'zwergenaufstand': 8841, 'nachverhandlungen': 8842, 'fuehrenden': 8843, 'juttambrandt': 8844, 'element': 8845, 'agendakanzler': 8846, 'hoffnungstraeger': 8847, 'wahlniederlagen': 8848, 'harmonieren': 8849, 'poebel': 8850, 'chefetagen': 8851, 'starkes': 8852, 'bestimmen': 8853, 'geschundenes': 8854, 'begruesst': 8855, 'elkebreitenbach': 8856, 'eingestellten': 8857, 'auszubildenden': 8858, 'suchst': 8859, 'unwichtig': 8860, 'aegypten': 8861, 'unterdrueckung': 8862, 'praesentation': 8863, '01': 8864, 'saarbruecken': 8865, 'heimatfreund': 8866, 'patriotger': 8867, 'daisyduck1990': 8868, 'twitterversion': 8869, 'update': 8870, 'uebersetzen': 8871, 'hottie': 8872, 'kurz2017': 8873, 'laasst': 8874, 'gefaelligst': 8875, 'abloesung': 8876, 'internationallesbianday': 8877, 'lesbische': 8878, 'sichbarkeit': 8879, 'gestaltung': 8880, 'gottesdienstes': 8881, 'gottesdienst': 8882, 'einladender': 8883, 'professioneller': 8884, 'konkreten': 8885, 'anzubringen': 8886, 'kuerzer': 8887, 'detlef': 8888, 'pollack': 8889, 'taetigkeit': 8890, 'ausuebt': 8891, 'joshuastrack': 8892, 'hochbekommen': 8893, 'schwaengern': 8894, 'theodoros': 8895, 'boulgarides': 8896, 'theodorsboulgarides': 8897, 'grosskoalitionaeren': 8898, 'personell': 8899, 'aufstellen': 8900, 'maltaeser': 8901, 'homoeopathie': 8902, 'zucker': 8903, 'kichern': 8904, 'keinekleinigkeit': 8905, 'identifiziere': 8906, 'wohnsitz': 8907, 'stade': 8908, 'snape': 8909, 'sama': 8910, 'volkesstimme': 8911, 'wegfegen': 8912, 'fazit': 8913, 'erfindet': 8914, 'prozessbeobachtern': 8915, 'auflagen': 8916, 'petersteudtner': 8917, 'lasch': 8918, 'mitbestimmung': 8919, 'hermann': 8920, 'behrendt': 8921, 'plaedie': 8922, 'kuendigungsschutzes': 8923, 'streikrechts': 8924, 'kandel': 8925, 'kandelistueberall': 8926, '600': 8927, 'betroffen': 8928, 'mittelalterliches': 8929, 'integrieren': 8930, 'thistell': 8931, 'haraldlaatsch': 8932, 'veraende': 8933, 'lordhornhaut': 8934, 'sitzpinkler': 8935, 'oftmals': 8936, 'tragik': 8937, 'ausweg': 8938, 'beibehaltung': 8939, 'wohlstandes': 8940, 'technischer': 8941, 'schritt': 8942, 'abzukuerzen': 8943, 'straflosigkeit': 8944, 'zufuegt': 8945, 'negerkuss': 8946, 'glas': 8947, 'negerschweiss': 8948, 'bestelle': 8949, 'leuchttuerme': 8950, 'wuerfe': 8951, 'ungen': 8952, 'unpolitisch': 8953, 'allemal': 8954, 'bewaehrst': 8955, 'lockung': 8956, 'reiz': 8957, 'kehrst': 8958, 'blenden': 8959, 'reichtum': 8960, 'reicher': 8961, 'goettern': 8962, 'raouldukevegas': 8963, 'hakanmesser': 8964, 'tuerkensau': 8965, 'reist': 8966, 'sippe': 8967, 'verueben': 8968, 'stabilitaet': 8969, 'abtut': 8970, 'sparkurs': 8971, 'revidieren': 8972, 'uebel': 8973, 'pirat': 8974, 'mlooks': 8975, 'deckung': 8976, 'herrebmensch': 8977, 'kampfpresse': 8978, 'vollfosten': 8979, 'jugendliche': 8980, 'nervig': 8981, 'versorgt': 8982, 'handle': 8983, 'maxime': 8984, 'handelns': 8985, 'gesetzes': 8986, 'jobcenter': 8987, 'armseligen': 8988, 'runterladen': 8989, 'sinnlose': 8990, 'magazine': 8991, 'drucken': 8992, 'rundfunkstaatsve': 8993, 'jaemmerliche': 8994, 'verfassungsfeinde': 8995, 'supermaerkten': 8996, 'durchgekauter': 8997, 'kalter': 8998, 'rumerzaehlen': 8999, 'aufhoeren': 9000, 'falschverstandener': 9001, 'plattform': 9002, 'fuck': 9003, 'wernergoehl': 9004, 'rohr': 9005, 'wagen': 9006, 'bauernkind': 9007, 'lpg': 9008, 'ausschlafen': 9009, 'bestes': 9010, 'otto': 9011, 'rbbfernsehen': 9012, 'gruenefraktionb': 9013, '55': 9014, 'ausgestrahlt': 9015, 'hahahaha': 9016, 'vorgeschmack': 9017, 'egoismus': 9018, 'gnarfer': 9019, 'bundesverkehrsministerium': 9020, 'vollhonk': 9021, 'plaque': 9022, 'huebschesten': 9023, 'kircheneigenen': 9024, 'zweckbauten': 9025, 'einfachheit': 9026, 'achten': 9027, 'limburg': 9028, 'teba': 9029, 'dbk': 9030, 'hh': 9031, 'luise': 9032, 'humanitaeren': 9033, 'krisen': 9034, 'ezeekelt': 9035, 'gestrigen': 9036, '1943': 9037, 'allerletzte': 9038, 'herzlicher': 9039, 'februar': 9040, 'rom': 9041, 'jmd': 9042, 'normalerweise': 9043, 'genderismus': 9044, 'bettinaroehl': 9045, 'adolf': 9046, 'verlag': 9047, 'reichsbuerger': 9048, 'illegale': 9049, 'paket': 9050, 'abholen': 9051, 'werd': 9052, 'deutschpi2': 9053, 'reformation': 9054, 'geistlicher': 9055, 'historisch': 9056, 'wirksam': 9057, 'wuensch': 9058, 'krankheiten': 9059, 'ostkuestensatrapen': 9060, 'gelbe': 9061, 'lt': 9062, 'th24deinenews': 9063, 'arnstadt': 9064, 'zeitraum': 9065, 'zweiteilige': 9066, 'schoa': 9067, 'beschaedigt': 9068, '9nov': 9069, 'verbesserung': 9070, 'scheinasylanten': 9071, 'gewalttaeter': 9072, 'yep': 9073, 'potential': 9074, 'intrakulturelle': 9075, 'verwerfungen': 9076, 'eicheln': 9077, 'aussatzes': 9078, 'janfurchtenicht': 9079, 'steffenkrach': 9080, 'bekomme': 9081, 'seelischer': 9082, 'islamunterricht': 9083, 'erklaere': 9084, 'haeuslicher': 9085, 'entgegenbrachte': 9086, 'ur': 9087, 'prachtarier': 9088, 'handelte': 9089, 'verdroschen': 9090, 'afdduesseldorf': 9091, 'faszinierend': 9092, 'sternenstaub': 9093, 'araber': 9094, 'begriffen': 9095, 'mychiffre': 9096, 'chrisl137': 9097, '53': 9098, 'b1': 9099, 'koedukation': 9100, 'ansehe': 9101, 'gemixt': 9102, 'frisian': 9103, 'verblendeter': 9104, 'powerphil': 9105, 'ikswokrubretnug': 9106, 'eigen': 9107, 'amuesant': 9108, 'entfolgungs': 9109, 'wellen': 9110, 'verschiedenen': 9111, 'gesinnungslagern': 9112, 'selbstbestaetigung': 9113, 'nikotin': 9114, 'vergleichbar': 9115, 'kognitivedissonanz': 9116, 'vermeidung': 9117, 'polarisie': 9118, 'auftrage': 9119, 'krummnasen': 9120, 'usrael': 9121, 'demokratien': 9122, 'religioeser': 9123, 'autoritaerer': 9124, 'geschlechtsbestimmung': 9125, 'gefuehlen': 9126, 'nochmals': 9127, 'herzlichem': 9128, 'transfernomaden': 9129, 'scharren': 9130, 'hufen': 9131, 'diebspiel': 9132, 'prioritaetensetzung': 9133, 'jaehrlicher': 9134, 'finanzbedarf': 9135, 'estnische': 9136, 'demonstrie': 9137, 'ausnahmezustand': 9138, 'vonneudeck': 9139, 'crazy': 9140, 'fluechtig': 9141, 'hafen': 9142, 'stichwo': 9143, 'gucken': 9144, 'rotula': 9145, 'hoppla': 9146, 'autodeformie': 9147, 'manuell': 9148, 'spasskultur': 9149, 'bulldoggen': 9150, 'schlittenhunde': 9151, 'mpunktg': 9152, 'konstanz': 9153, 'grau': 9154, 'fliesst': 9155, 'neckar': 9156, 'schwabensau': 9157, 'zurzeit': 9158, 'hochkonjunktur': 9159, 'durchseucht': 9160, 'kleidest': 9161, 'fickender': 9162, 'hurenshon': 9163, 'volkerbeck': 9164, 'esel': 9165, 'kebekus': 9166, 'dieanstalt': 9167, 'gesamt': 9168, 'beschnitten': 9169, 'bewerfen': 9170, 'schulzmaennchen': 9171, 'keh': 9172, 'darein': 9173, 'dreckschleudern': 9174, 'prinzen': 9175, 'ichgebeab': 9176, 'selbsthilfegruppe': 9177, 'heulsusen': 9178, 'wirrheit': 9179, 'sprichst': 9180, 'germanen': 9181, 'friedlich': 9182, 'christianisie': 9183, 'sklaverei': 9184, 'hexenverbrennungen': 9185, 'praktizie': 9186, 'barmherzigen': 9187, 'gestehe': 9188, 'zeile': 9189, 'geaende': 9190, 'ricardariefling': 9191, 'zugehen': 9192, 'finger': 9193, 'krumm': 9194, 'verraeterin': 9195, 'angeschrieben': 9196, '08': 9197, 'zdfmoma': 9198, 'rupe': 9199, 'mayer': 9200, '50': 9201, 'buches': 9202, 'ramazanakbas37': 9203, 'nemmersatt': 9204, 'verlogenere': 9205, 'loser': 9206, 'subventionen': 9207, 'kapitalistisch': 9208, 'pfff': 9209, 'kaempfst': 9210, 'wagner': 9211, 'hasserfuellt': 9212, 'gastfreundlichen': 9213, 'begrabscht': 9214, 'beruehmt': 9215, 'traumatisie': 9216, 'herrschenden': 9217, 'stegherr': 9218, 'joohannssen': 9219, 'djvde': 9220, 'kard': 9221, 'ausgabe': 9222, 'pfarreien': 9223, 'kristallisationspunkte': 9224, 'werde': 9225, 'ginge': 9226, 'pkws': 9227, 'schiffe': 9228, 'verlegt': 9229, 'ermoeglichen': 9230, 'befoerdern': 9231, 'klangspur': 9232, 'ineshansla': 9233, 'oekumenische': 9234, 'kooperationen': 9235, 'bckirche': 9236, 'painkillerjay': 9237, 'valandir': 9238, 'chribenesch': 9239, 'spende': 9240, 'netzpolitik': 9241, 'obszoen': 9242, 'irgendeinem': 9243, 'aspekt': 9244, 'menschlichen': 9245, 'herauszuhalten': 9246, 'verlaesst': 9247, 'reconquistaneu': 9248, 'bw': 9249, 'studierendenparlament': 9250, 'mitglied': 9251, 'unbekannte': 9252, 'traenken': 9253, 'lkr': 9254, 'dreistellig': 9255, 'immunitaet': 9256, 'dealer': 9257, 'matteo67': 9258, 'verriss': 9259, 'niggerschwein': 9260, 'gekillt': 9261, 'icherheitsvorkehrungen': 9262, 'flugkontrollen': 9263, 'repo': 9264, 'juengst': 9265, 'koerperliche': 9266, 'unverseh': 9267, 'heit': 9268, 'hohes': 9269, 'verpruegeln': 9270, 'versinke': 9271, 'kuesse': 9272, 'prallen': 9273, 'weichen': 9274, 'lippen': 9275, 'besuchsvisum': 9276, 'kein': 9277, 'friedensve': 9278, 'ronaiveromaus': 9279, 'angesicht': 9280, 'elija': 9281, 'grossteil': 9282, 'behoerdenumgang': 9283, 'anschlags': 9284, 'restlos': 9285, 'polizeiberlin': 9286, 'ruesten': 9287, 'dreckskanacken': 9288, 'berechtigter': 9289, '943': 9290, 'nicosemsrott': 9291, 'willigender': 9292, 'imregrimm': 9293, 'siehste': 9294, 'sesamstrasse': 9295, 'sesamstrassen': 9296, 'isses': 9297, 'anpassen': 9298, 'dativ': 9299, 'nurmalso': 9300, 'ekdsnyode': 9301, 'menschenwerk': 9302, 'gerbes': 9303, 'jlmelenchon': 9304, 'loetzschmdb': 9305, 'gregorgysi': 9306, 'veranstaltung': 9307, 'kurze': 9308, 'anmeldung': 9309, 'platzka': 9310, 'anderswo': 9311, 'aufgezwungen': 9312, 'cc00lm': 9313, 'prometheus': 9314, 'zugehoerigkeit': 9315, 'frisuren': 9316, 'familienzusammenfuehrung': 9317, 'daemmt': 9318, 'schlepperwesen': 9319, 'pinter': 9320, 'arbeitslosen': 9321, 'senden': 9322, 'muehlstein': 9323, 'eidige': 9324, 'maltekaufmann': 9325, 'volksverrat': 9326, 'offensichtlicher': 9327, 'bischofschick': 9328, 'kommentator': 9329, 'altbier': 9330, 'anzuhoeren': 9331, 'laufen': 9332, 'ticker': 9333, 'sowjetunion': 9334, 'grammatikalisch': 9335, 'sequitur': 9336, 'starb': 9337, 'taeterin': 9338, 'polizeiarbeit': 9339, 'psychischen': 9340, 'stoerungen': 9341, 'kitten': 9342, 'miriamozen': 9343, 'franzchristia15': 9344, 'buergerwehr': 9345, 'vereinsstatus': 9346, 'gelingen': 9347, 'angemessener': 9348, 'ghettobildung': 9349, 'irakische': 9350, 'zutun': 9351, 'ubbelohdeberlin': 9352, 'avalasek1': 9353, 'bloeden': 9354, 'entsenden': 9355, 'rueckkehrmoeglichkeit': 9356, 'ehefrauen': 9357, 'nachholen': 9358, 'polygamie': 9359, 'derheribe': 9360, 'schlaumeier': 9361, 'diktie': 9362, 'nachgelesen': 9363, 'maerchenbuch': 9364, 'genauer': 9365, 'toetet': 9366, 'unglaeubigen': 9367, 'affen': 9368, 'schweinen': 9369, 'katrinhilger': 9370, 'sma': 9371, 'phonegruessen': 9372, 'versuessen': 9373, '1994': 9374, 'pussies': 9375, 'droetkerde': 9376, 'gonosom': 9377, 'umerzogenes': 9378, 'elberfelder': 9379, 'uebersetzung': 9380, 'naehsten': 9381, 'original': 9382, 'mordsucht': 9383, 'betruegen': 9384, 'goetzendienst': 9385, 'pharmazie': 9386, 'zauberei': 9387, 'hurerei': 9388, 'gattoanovecode': 9389, 'blaues': 9390, 'haushoch': 9391, 'schluessel': 9392, 'nawa': 9393, 'like': 9394, 'raheandreas': 9395, 'die12': 9396, 'beluegt': 9397, 'trotziges': 9398, 'tagderdeutscheneinheit': 9399, 'angehoeren': 9400, 'verfassungsfeindlichen': 9401, 'organisation': 9402, 'wendet': 9403, 'anrecht': 9404, 'gratisgeschenk': 9405, 'erhaelt': 9406, 'dilettantisch': 9407, 'synchronschwimmen': 9408, 'interpretier': 9409, 'verkuenden': 9410, 'ungslosigkeit': 9411, 'aussengrenze': 9412, 'bewaffnete': 9413, 'grenzer': 9414, 'unsicheren': 9415, 'christuskirche': 9416, 'gehrin': 9417, 'digital': 9418, 'tuuramash': 9419, 'pfaffenbrut': 9420, 'geschaeftsfuehrende': 9421, 'sozialdemokratischen': 9422, 'kriegt': 9423, 'erlebte': 9424, 'parallel': 9425, 'steinigen': 9426, 'gruppenerlebnis': 9427, 'trag': 9428, 'backenfutter': 9429, 'kurse': 9430, 'zusammengefueh': 9431, 'brautschau': 9432, 'mischehe': 9433, 'dominik': 9434, 'krause': 9435, 'bestellt': 9436, 'weis': 9437, 'krankenhaus': 9438, 'smail': 9439, 'ya': 9440, 'ar': 9441, 'ismailyasar': 9442, 'schmidja2017': 9443, 'whiterosede': 9444, 'schlafschafe': 9445, 'egoisten': 9446, 'rechtsbruch': 9447, 'ronamiti': 9448, 'verbliebenen': 9449, 'versprachen': 9450, 'soli': 9451, 'nunmal': 9452, 'todesschrei': 9453, 'verzweiflung': 9454, 'wild': 9455, 'katzbuckeln': 9456, 'erkenntnisse': 9457, 'peer': 9458, 'review': 9459, 'scheinheiligste': 9460, '2012': 9461, 'ungestoe': 9462, 'ungestraft': 9463, 'stattfindet': 9464, 'verschissene': 9465, 'betroffene': 9466, 'rechtsgrundlage': 9467, 'transparentes': 9468, 'beschwerdeverfahren': 9469, 'wehr': 9470, 'linksgruener': 9471, 'journalist': 9472, 'suesse': 9473, 'maus': 9474, 'philippinische': 9475, 'aa': 9476, 'siemens': 9477, 'joe': 9478, 'firmenchefs': 9479, 'massenentlassungen': 9480, 'profitsteigerung': 9481, 'gesetzlich': 9482, 'helft': 9483, 'eiol': 9484, 'jour86': 9485, 'dreier': 9486, 'stalinistische': 9487, 'tagtraeumer': 9488, 'geschossen': 9489, 'befinde': 9490, 'polizeigewahrsam': 9491, 'gabs': 9492, 'saisongarbeiter': 9493, 'algerien': 9494, 'vietnam': 9495, 'begruessenswe': 9496, 'wegretuschierst': 9497, 'netten': 9498, 'praktizierst': 9499, 'oadiatum': 9500, 'beheben': 9501, 'verwurzelten': 9502, 'abzulenken': 9503, 'grossmutter': 9504, 'zerlegen': 9505, 'vermaehlt': 9506, 'exup': 9507, 'ry': 9508, 'heilig': 9509, 'laeden': 9510, 'abu': 9511, 'beseitigung': 9512, 'besetzung': 9513, 'zentralrat': 9514, 'haste': 9515, 'verkloppt': 9516, 'zdfmarkuslanz': 9517, 'passagen': 9518, 'lebe': 9519, 'missbrauche': 9520, 'echter': 9521, 'rentenkuerzung': 9522, 'zuruecknehmen': 9523, 'glaubwuerdig': 9524, 'motivation': 9525, 'ablegst': 9526, 'stammeier': 9527, 'uhde171': 9528, 'herausgeforde': 9529, 'glaubensgrundlagen': 9530, 'ueberaus': 9531, 'schwachsinniger': 9532, 'tuecher': 9533, 'ausspucken': 9534, 'kommunistenbraut': 9535, 'erfaeh': 9536, 'gegebenenfalls': 9537, 'mitfreuen': 9538, 'reklamieren': 9539, 'mae': 9540, 'yrer': 9541, 'oettinger': 9542, 'zusaetzliche': 9543, 'rachen': 9544, 'weihnachtsmann': 9545, 'akzeptanz': 9546, 'andersseins': 9547, 'boy': 9548, 'sekte': 9549, 'standhaft': 9550, 'erschuetterungen': 9551, 'nachgeben': 9552, 'soreth': 9553, 'positives': 9554, 'verhandeln': 9555, 'boss': 9556, 'narrenfreiheit': 9557, 'kinderga': 9558, 'berlin2bronx': 9559, 'einizge': 9560, 'kernfrage': 9561, 'einteilen': 9562, 'stringent': 9563, 'beruht': 9564, 'koennes': 9565, 'dicker': 9566, 'tobak': 9567, 'aufgetragen': 9568, 'reisserisch': 9569, 'fluechtlingskinder': 9570, '5mal': 9571, 'hoeheres': 9572, 'mitbewohner': 9573, 'spo': 9574, 'getrennt': 9575, 'asselborn': 9576, 'scheissdreck': 9577, 'erschlagen': 9578, 'besseres': 9579, 'pohlmann': 9580, 'plattformen': 9581, 'rechtswidrigen': 9582, 'beschraenkungen': 9583, 'unterlassungserklaerungen': 9584, 'wg': 9585, 'rechtswidriger': 9586, 'loeschungen': 9587, 'abo': 9588, 'trennungen': 9589, 'betrachtet': 9590, 'nazibrut': 9591, 'einschaetzung': 9592, 'pachelbel': 9593, 'besonnen': 9594, 'offenlegen': 9595, 'auslaenderrueckfuehrung': 9596, 'asylantenstop': 9597, 'ambivalenz': 9598, 'widerspruechlichkeit': 9599, 'note': 9600, 'vonnem': 9601, 'kirchenfutzi': 9602, 'eliasleikeb': 9603, 'geschminkt': 9604, 'lametta': 9605, 'behangen': 9606, 'zutreffend': 9607, 'fluchtursachen': 9608, 'faire': 9609, 'handelspolitik': 9610, 'abkehr': 9611, 'agrarindustrie': 9612, 'correctiv': 9613, 'compactmagazin': 9614, 'nu': 9615, 'kampfkraft': 9616, 'gotteskrieger': 9617, 'netzwerke': 9618, 'vermeintlich': 9619, 'familienbild': 9620, 'krebsforschungsagentur': 9621, 'weltgesundheitsorganisation': 9622, 'krebserregend': 9623, 'eingestuft': 9624, 'nationales': 9625, 'bestrebungen': 9626, 'schnellen': 9627, 'beendigung': 9628, 'verstaerkt': 9629, 'weltfrauentag': 9630, 'sondierungspapier': 9631, 'optimalfall': 9632, 'ausgehen': 9633, 'paritaet': 9634, 'vorbeten': 9635, 'alexbfromg': 9636, 'anfaenge': 9637, 'privilegieren': 9638, 'saemtlicher': 9639, 'freizustellen': 9640, 'intervention': 9641, 'schube': 9642, 'gefreut': 9643, 'beruehmte': 9644, 'gemaelde': 9645, 'sperrung': 9646, 'erhob': 9647, '2009': 9648, 'anklage': 9649, 'weitergabe': 9650, 'kinderpornografischem': 9651, 'warf': 9652, 'beschafft': 9653, 'erregen': 9654, 'woli2017': 9655, 'expe': 9656, 'skopstein1': 9657, 'huber2017walter': 9658, 'alles1frage': 9659, 'landesregierung': 9660, 'primat': 9661, 'universellen': 9662, 'humanismus': 9663, 'zweck': 9664, 'niedere': 9665, 'triebe': 9666, 'anderer': 9667, 'spaltung': 9668, 'staerkeres': 9669, 'silvester': 9670, 'renataadler6': 9671, 'unmenschen': 9672, 'tierschutz': 9673, 'aussterben': 9674, 'nightkiss661': 9675, 'wtf': 9676, 'zunge': 9677, 'rumlecken': 9678, 'willideutscher': 9679, 'bohne': 9680, 'vernehmbare': 9681, 'spaetestens': 9682, 'arbeitslosigkeit': 9683, '696castro': 9684, 'gaenze': 9685, 'profalla': 9686, 'det': 9687, 'knecht': 9688, 'kapitals': 9689, 'betrachte': 9690, 'hindernis': 9691, 'individuen': 9692, 'besiegt': 9693, 'haltet': 9694, 'trumpfka': 9695, 'hierzu': 9696, 'ausspielen': 9697, 'gutglaeubig': 9698, 'giegold': 9699, 'skakeller': 9700, 'blochbihler': 9701, 'proasyl': 9702, 'armselig': 9703, 'handwerker': 9704, 'versteckter': 9705, 'empfangen': 9706, 'rundfunkanstalten': 9707, '39': 9708, 'aufwaendigen': 9709, 'erlauben': 9710, 'befreit': 9711, 'oekologisch': 9712, 'einklang': 9713, 'hunger': 9714, 'auffassung': 9715, 'bundesanwaltschaft': 9716, 'begangenen': 9717, 'pilot': 9718, 'ryanair': 9719, 'darstellen': 9720, 'besserverdienende': 9721, 'york': 9722, 'geruchtekellner': 9723, 'updates': 9724, 'twittern': 9725, 'rosenkranz': 9726, 'volknational': 9727, 'wordpressdotcom': 9728, 'judenfuehrungsstaat': 9729, 'muslimischer': 9730, 'kreigsfluechtling': 9731, 'sauber': 9732, 'verfehlen': 9733, 'bohei': 9734, 'notz': 9735, 'umfallerei': 9736, 'durchschlagen': 9737, 'tobias': 9738, 'striegl': 9739, 'plenum': 9740, 'urbanen': 9741, 'galliner': 9742, 'kuerzungen': 9743, 'bundesmittel': 9744, 'filmfestival': 9745, 'unabhaengigen': 9746, 'kurator': 9747, 'fhhffghj': 9748, 'verhandlungen': 9749, 'jahrmarkt': 9750, 'eitelkeiten': 9751, 'kungelrunde': 9752, 'unsoziale': 9753, 'airberlin': 9754, 'wahre': 9755, 'lindtner': 9756, 'bundesrat': 9757, 'mini': 9758, 'aktuellem': 9759, 'steueroase': 9760, 'boeser': 9761, 'steuern': 9762, 'sauerkreatur': 9763, 'angesichts': 9764, 'humaner': 9765, 'in': 9766, 'lesbisch': 9767, 'stadtfest': 9768, 'csdberlin': 9769, 'burghard': 9770, 'volltreffer': 9771, 'pip': 9772, 'fachkraefte': 9773, 'einwandern': 9774, 'gelohnt': 9775, 'eckhardhoeffner': 9776, 'bundeskultur': 9777, 'spezialgesetz': 9778, 'stug': 9779, 'rechtssichere': 9780, 'ihrerer': 9781, 'vaeter': 9782, 'passverschwinden': 9783, 'hotspo': 9784, 'leiste': 9785, 'gluten': 9786, 'insektensterben': 9787, 'klimawandel': 9788, 'koenntest': 9789, 'staates': 9790, 'staatsform': 9791, 'holgerewald1': 9792, 'buergerwehren': 9793, 'reduzie': 9794, '2michi': 9795, 'indiefresse': 9796, 'diepfefferkoerner': 9797, 'staffel': 9798, 'unaufgeregt': 9799, 'liebevoll': 9800, 'zweigeschlechlichkeit': 9801, 'daserste': 9802, 'durchgaengig': 9803, 'summen': 9804, 'unterstellen': 9805, 'policy': 9806, 'polity': 9807, 'bezogen': 9808, 'bzgl': 9809, 'geborener': 9810, 'eidiger': 9811, 'verabsolutierend': 9812, 'assimilie': 9813, 'grundordnung': 9814, 'katarinabarley': 9815, 'raue': 9816, 'sachgerechter': 9817, 'ungefaehrlich': 9818, 'gdpvorsitzender': 9819, 'sollt': 9820, 'kuenftig': 9821, 'fewmaster': 9822, 'unimog': 9823, 'andi': 9824, 'hadmut': 9825, 'belaestigungen': 9826, 'juengste': 9827, 'betrachten': 9828, 'erspar': 9829, 'ausschnitt': 9830, 'praesentiere': 9831, 'beschwere': 9832, 'gierig': 9833, 'hingeschaut': 9834, 'vermeidbar': 9835, 'ansteigenden': 9836, 'moralischer': 9837, 'tacheles': 9838, 'carbon': 9839, 'compound': 9840, 'rasieren': 9841, 'rechtspopulismus': 9842, 'bob': 9843, 'kollege': 9844, 'erzaehlcaf': 9845, 'verbindung': 9846, 'queere': 9847, 'miles': 9848, 'gestalt': 9849, 'anschaue': 9850, 'weihnachtswuensche': 9851, 'erfuellung': 9852, 'dreifaltigen': 9853, 'kokolores': 9854, 'abweicht': 9855, 'erzaehlen': 9856, 'koberind': 9857, 'mdrinfo': 9858, 'theborisbecker': 9859, 'marke': 9860, 'pleitegeier': 9861, 'abstellkammer': 9862, 'astridgeisler': 9863, 'dotie': 9864, 'extremisten': 9865, 'verschont': 9866, 'schlacht': 9867, 'besuchen': 9868, 'freiheitskaempfer': 9869, 'manipulation': 9870, 'sendern': 9871, 'uberwachen': 9872, 'youtube': 9873, 'studierende': 9874, 'pestfloehe': 9875, 'brauchten': 9876, 'pfandflaschen': 9877, 'entsetzt': 9878, 'reife': 9879, 'deutlichsten': 9880, 'gemeinschaft': 9881, 'pedro': 9882, 'arrupe': 9883, 'keks': 9884, 'weihnachts': 9885, 'vorueber': 9886, 'dnebach': 9887, 'selbstversaendlich': 9888, 'zuminest': 9889, 'machtlosigkeit': 9890, 'kriminelles': 9891, 'damasiuspugnax': 9892, 'saetzen': 9893, 'aufgehoe': 9894, 'hori': 9895, 'pdf': 9896, 'erreichbar': 9897, 'zauber': 9898, 'anfangs': 9899, 'meister': 9900, 'eckha': 9901, 'priester': 9902, 'dereinst': 9903, 'liebevolle': 9904, 'msn': 9905, 'hervorragend': 9906, 'bevormunden': 9907, 'abgesetzt': 9908, 'robocopmagic': 9909, 'hotzenploetz': 9910, 'bitteschoen': 9911, 'chr': 9912, 'butterwegge': 9913, 'lichtblick': 9914, 'denniskoerner': 9915, 'durchzieht': 9916, 'grrenzen': 9917, 'blutsaugende': 9918, 'halsschlagader': 9919, 'gedacht': 9920, 'vollverschleierungsverbot': 9921, 'egmr': 9922, 'sensationelles': 9923, 'gaesteliste': 9924, 'renardojoachim': 9925, 'absaegt': 9926, 'sinken': 9927, 'tiefer': 9928, 'weltanschauungen': 9929, 'intoleranz': 9930, 'tschauderzwerg': 9931, 'schauderzwerg': 9932, 'kommentar': 9933, 'beeinflusst': 9934, 'flueke': 9935, 'rasie': 9936, 'varg': 9937, 'veum': 9938, 'staatlichkeit': 9939, 'palaestinas': 9940, 'begruesse': 9941, 'beschuss': 9942, 'zeitungen': 9943, 'westfernsehen': 9944, 'wecken': 9945, 'aktuellen': 9946, 'fluchtbewegungen': 9947, 'hilfsbereitschaft': 9948, 'liebten': 9949, 'parlamentspraesidenten': 9950, 'altmeier': 9951, 'gestapo': 9952, 'ueberwachen': 9953, 'hausarrest': 9954, 'lu': 9955, 'cice': 9956, 'internetseiten': 9957, 'morddrohungen': 9958, 'websites': 9959, 'standgericht': 9960, 'verbrecherregim': 9961, 'spiegel4d': 9962, 'marietta': 9963, 'slomka': 9964, 'journalistin': 9965, 'oezoguz': 9966, 'unfaehig': 9967, 'ueberfluss': 9968, 'landkaufhalina': 9969, 'rotweinjuncker': 9970, 'palaestinensischen': 9971, 'geile': 9972, 'hammer': 9973, 'gleichstellungsbeauftragte': 9974, 'lueders': 9975, 'ads': 9976, 'fruehzeitig': 9977, 'vorzubereiten': 9978, 'schulform': 9979, 'gemeinschaftsschule': 9980, 'gynmasien': 9981, 'hauptschulen': 9982, 'berufsschulen': 9983, 'kollegs': 9984, 'gymnasien': 9985, 'geschwaecht': 9986, 'belogenes': 9987, 'wolfszeit1970': 9988, 'verschaerfung': 9989, 'asylrechts': 9990, 'sebastian': 9991, 'besinnlichen': 9992, 'weihnachtslieder': 9993, 'halse': 9994, 'idiot': 9995, 'befremdet': 9996, 'mihaelhadrian': 9997, 'kirchenvaeter': 9998, 'hieronymus': 9999, 'gregor': 10000, 'nette': 10001, 'fuerwahr': 10002, 'maersche': 10003, 'symboliken': 10004, 'vollkommn': 10005, 'unsinnig': 10006, 'bittet': 10007, 'dag': 10008, 'hammarskjoeld': 10009, 'beteiligten': 10010, 'palis': 10011, 'nelly': 10012, 'sachs': 10013, 'explitzit': 10014, 'wahljahr': 10015, 'agh': 10016, 'soz': 10017, 'mieten': 10018, 'gentrifizierung': 10019, 'izipation': 10020, 'lut': 10021, 'michaelfuchsr': 10022, 'familienrueckflug': 10023, 'rueckflug': 10024, 'vorschalg': 10025, 'amarienbad': 10026, 'weltsichtig': 10027, 'unterschlaegt': 10028, 'uckermark': 10029, 'beanie': 10030, 'angezeigt': 10031, 'tweetet': 10032, 'eliyahhavemann': 10033, 'rsl99': 10034, 'jdn': 10035, 'chm': 10036, 'umfeld': 10037, 'lok': 10038, 'bsg': 10039, 'ostern': 10040, 'resettlement': 10041, '93': 10042, 'verfuegbare': 10043, 'plaetze': 10044, 'merkelmussgehen': 10045, 'asylantenwahsinn': 10046, 'ich60': 10047, '0000': 10048, 'musste': 10049, 'stiefmutter': 10050, 'haeslii': 10051, 'natalierickli': 10052, 'verbale': 10053, 'ausstrahlung': 10054, 'verschoben': 10055, 'franzoseder': 10056, 'iranische': 10057, 'interpretation': 10058, 'verstoesst': 10059, 'kampsabine': 10060, 'cogat': 10061, 'idfonline': 10062, 'rosnersdomain': 10063, 'nytimes': 10064, 'personalien': 10065, 'siedler': 10066, 'vandalismus': 10067, 'chat': 10068, 'atkins': 10069, 'pilz': 10070, 'listepilz': 10071, 'ainyrockstar': 10072, 'sitze': 10073, 'hinterfotziger': 10074, 'muselwahn': 10075, 'siegstyle': 10076, 'verwerflich': 10077, 'dienerschaft': 10078, 'klischee': 10079, 'homos': 10080, 'sichtbarer': 10081, 'falle': 10082, 'friday': 10083, 'personelle': 10084, 'neunaufzustellen': 10085, 'einmal': 10086, 'ethische': 10087, 'omis': 10088, 'weckt': 10089, 'sitzungstag': 10090, 'synodale': 10091, 'filitz': 10092, 'andacht': 10093, 'aufregt': 10094, 'begruessen': 10095, 'aussageabsicht': 10096, 'katholische': 10097, 'fundamentalistische': 10098, 'bibelauslegung': 10099, 'heilsgeschichte': 10100, 'termin': 10101, 'planen': 10102, 'langfristig': 10103, 'st': 10104, 'verhoehnen': 10105, 'enmoerder': 10106, 'bomben': 10107, 'hc': 10108, 'vedammten': 10109, 'bedeutsame': 10110, 'hmmm': 10111, 'quietschen': 10112, 'bearbeite': 10113, 'buendnis90diegruenen': 10114, 'haengst': 10115, 'scheinst': 10116, 'ansagen': 10117, 'konjunkturen': 10118, 'aufgabe': 10119, 'krawalle': 10120, 'herausgekommen': 10121, 'rechnet': 10122, 'boshaftigkeit': 10123, '54': 10124, 'luege': 10125, 'kenntkein': 10126, 'phuuuu': 10127, 'montage': 10128, 'angreifer': 10129, 'einebeln': 10130, 'gefaehrliche': 10131, 'einrevoluzzer': 10132, 'desatuere': 10133, 'fettes': 10134, 'undsonst1975': 10135, 'pst': 10136, 'rheinseite': 10137, 'umgepflanzt': 10138, 'wegnehmen': 10139, 'tl': 10140, 'kjarrigan': 10141, 'betrittsverhandlungen': 10142, 'erforde': 10143, 'macron': 10144, 'attac': 10145, 'tobin': 10146, 'schaeffler': 10147, 'afrikanische': 10148, 'unterentwicklung': 10149, 'kleinreden': 10150, 'migrantische': 10151, 'alibi': 10152, 'hinteren': 10153, 'listenplaetzen': 10154, 'platzieren': 10155, 'siwiarchiv': 10156, 'ausformung': 10157, 'zusage': 10158, 'verschlechtern': 10159, 'politikwelt': 10160, 'demonstrationen': 10161, 'lieblingsreligion': 10162, 'sissyzk': 10163, 'erdscheiblette': 10164, 'verlotte': 10165, 'nordbirke': 10166, 'wunderbare': 10167, 'birken': 10168, 'auslachen': 10169, '781johnny': 10170, 'arbeitnehmer': 10171, 'fristlos': 10172, 'kuendigen': 10173, 'lto': 10174, 'interessieren': 10175, 'auswirkung': 10176, 'richters': 10177, 'verhandlung': 10178, 'kreuzes': 10179, 'heiliger': 10180, 'stiften': 10181, 'gegensaetze': 10182, 'aufeinanderprallen': 10183, 'widerschein': 10184, 'erbarmens': 10185, 'frere': 10186, 'roger': 10187, 'skandaloes': 10188, 'tho': 10189, 'rie': 10190, 'incl': 10191, 'straffaelligkeiten': 10192, 'seitens': 10193, 'abzuschiebenden': 10194, 'hirnlose': 10195, 'lirogruen': 10196, 'koalitionsgespraechen': 10197, 'goodbye': 10198, 'sho': 10199, 'ymatic': 10200, 'orschloch': 10201, 'gebadet': 10202, 'gefressen': 10203, 'taumelt': 10204, 'maltraetie': 10205, 'postmodernismus': 10206, 'suggerieren': 10207, 'geheimdienst': 10208, 'steckte': 10209, 'zufaellig': 10210, 'unterschiedliche': 10211, 'voreiligen': 10212, 'schlussfolgerungen': 10213, 'anhoerung': 10214, 'schaechtverbot': 10215, 'juedischen': 10216, 'zusammengehen': 10217, 'ehebruch': 10218, 'apostasie': 10219, 'konform': 10220, 'jane71z': 10221, 'eilhaft': 10222, 'selektiv': 10223, 'steue': 10224, 'reinlaesst': 10225, 'pr0fessor': 10226, 'anzusprechen': 10227, 'kriminalisieren': 10228, 'stigmatisieren': 10229, 'scheiden': 10230, 'ueberragenden': 10231, 'grossem': 10232, 'hauptgruende': 10233, 'weiblicher': 10234, 'verhuetungsmittel': 10235, 'moderation': 10236, 'abgewuergt': 10237, 'schlussrunde': 10238, 'reiseliste': 10239, 'reiseziele': 10240, 'anbiede': 10241, 'gerad': 10242, 'schlauch': 10243, 'lueg': 10244, 'ernstnehmen': 10245, 'verschleudere': 10246, 'angeblich': 10247, 'vorhandenes': 10248, 'gebiet': 10249, 'orb': 10250, 'erlass': 10251, 'einstweilige': 10252, 'cyberdoc60': 10253, 'rechtsextrem': 10254, 'strukturierst': 10255, 'gesamtes': 10256, 'outspoken': 10257, 'pragmatisch': 10258, 'offbeat24': 10259, 'obs': 10260, 'speichellecker': 10261, 'totalen': 10262, 'missstaenden': 10263, 'kapiere': 10264, 'diaeter': 10265, 'loesen': 10266, 'identifizieren': 10267, 'hilfreich': 10268, 'angeblichen': 10269, 'cosmos4u': 10270, 'saxoniagerd': 10271, 'astroholl': 10272, 'untrennbarer': 10273, 'michaelefler': 10274, 'sedler': 10275, 'woernmuc': 10276, 'hochrein': 10277, 'applaudie': 10278, 'fahrgaeste': 10279, 'georgd63': 10280, 'antideutsche': 10281, 'zumutung': 10282, 'archiv': 10283, 'scanner': 10284, 'scantechnologie': 10285, 'automatisie': 10286, 'schnipsel': 10287, 'ausgereift': 10288, 'zt': 10289, 'pause': 10290, 'rekonstruie': 10291, 'mitschwester': 10292, 'foederationsversammlung': 10293, 'karmelitinnen': 10294, 'muensterschwarzach': 10295, 'danielfreyger': 10296, 'derbeheimatete': 10297, 'arbeitskreis': 10298, 'ohmmmm': 10299, 'drecksislam': 10300, 'kindergae': 10301, 'zelten': 10302, 'abseits': 10303, 'australien': 10304, 'empholen': 10305, 'jemals': 10306, 'wahlentscheidung': 10307, 'ueberreaktion': 10308, 'nachrichtenagentur': 10309, 'reuter': 10310, 'fass': 10311, 'platzen': 10312, 'frohe': 10313, 'gesegnete': 10314, 'rausausdemkabinett': 10315, 'arroganz': 10316, 'demokratieverweigerung': 10317, 'waehlerwillen': 10318, 'wohnen': 10319, 'qualitaetsjournalisten': 10320, 'agieren': 10321, 'lest': 10322, 'ostkuestensklaven': 10323, 'lars': 10324, 'tspd': 10325, 'pay': 10326, 'gap': 10327, 'schwach': 10328, 'beer': 10329, 'verstand': 10330, 'laschet': 10331, 'ausstieg': 10332, '68er': 10333, 'lagern': 10334, 'stefan': 10335, 'beschaemt': 10336, 'angelogen': 10337, 'befehlshaber': 10338, 'lv': 10339, 'widerspruch': 10340, 'fruchtlos': 10341, 'verhaeltnis': 10342, 'pochen': 10343, 'besuchsrecht': 10344, 'weitergehen': 10345, 'enten': 10346, 'herausfinden': 10347, 'geschehen': 10348, 'unschuldsvermutung': 10349, 'polizeirevier': 10350, 'klatschpa': 10351, 'bejaht': 10352, 'lach': 10353, 'verneint': 10354, 'austritt': 10355, 'germane': 10356, 'unvorstellbar': 10357, 'fridolinpsp': 10358, 'lehnst': 10359, 'fraeulein': 10360, 'tessa': 10361, 'mittwoch': 10362, 'kalender': 10363, '1950': 10364, '1960ern': 10365, 'diaa': 10366, 'abdullah': 10367, 'jaka': 10368, 'reh': 10369, 'geschichtsklitterung': 10370, 'egoistischer': 10371, 'agrar': 10372, 'csucdu': 10373, 'mehrgeld': 10374, 'werwoelfe': 10375, 'aeusse': 10376, 'spezial': 10377, 'unterkunft': 10378, 'rk': 10379, 'einzahlen': 10380, 'einstigen': 10381, 'hinfuehren': 10382, '66': 10383, 'enkel': 10384, 'goettlich': 10385, 'esther': 10386, 'mitgezaehlt': 10387, 'livasommar': 10388, 'missschmaguelze': 10389, 'kaktusimgesicht': 10390, 'joggt': 10391, 'gespraechskreises': 10392, 'bodyguards': 10393, 'cerd': 10394, 'verpflichtende': 10395, 'weiterbildungsmassnahmen': 10396, 'staatsanwaelt': 10397, 'konstanten': 10398, 'hinweg': 10399, 'lichte': 10400, 'ueberliefe': 10401, 'riten': 10402, 'lucian': 10403, 'hoelscher': 10404, 'attentat': 10405, 'abscheulich': 10406, 'angreift': 10407, 'greift': 10408, 'genesung': 10409, 'erzaehlerin': 10410, 'feministisches': 10411, 'souveraen': 10412, 'netzdg': 10413, 'kooperation': 10414, 'retenen': 10415, 'abstrakter': 10416, 'normenkontrollklage': 10417, 'vorzulegen': 10418, 'parlamentarier': 10419, 'galt': 10420, 'annullie': 10421, 'geschieden': 10422, 'rude': 10423, 'chefredakteurin': 10424, 'sensibleren': 10425, 'sprachgenau': 10426, 'muenchner': 10427, 'vittel': 10428, 'irina': 10429, 'geeh': 10430, 'heiss': 10431, 'bestand': 10432, 'maechtigen': 10433, 'saemtl': 10434, 'ind': 10435, 'einzieht': 10436, 'unzuverlaessiger': 10437, 'bestaendige': 10438, 'therapiesitzung': 10439, 'sack': 10440, 'gesundheitseinrichtungen': 10441, 'betrieb': 10442, 'akuter': 10443, 'aerztemangel': 10444, 'grossmaul': 10445, '2030': 10446, 'benzinmotor': 10447, 'monstersandmen': 10448, 'mammutband': 10449, 'technik': 10450, 'gleichgueltigkeit': 10451, 'ignoranz': 10452, 'gefaehrlichsten': 10453, 'rechtschreibkorrektur': 10454, 'gesandt': 10455, 'assisi': 10456, 'toleranter': 10457, 'masseneinwanderung': 10458, 'saekularisieren': 10459, 'bekannten': 10460, 'staatenlosen': 10461, 'bevoelkerungsgruppen': 10462, 'bereiten': 10463, 'einzuteilen': 10464, 'lebenswe': 10465, 'nfskiberlin': 10466, 'mica4711': 10467, 'merdeux': 10468, 'efdlan': 10469, 'chris': 10470, '98763': 10471, 'trollkotze99': 10472, 'zwetschgenmandi': 10473, 'thedragonslaw': 10474, 'exit': 10475, 'laos': 10476, '1999wilbur': 10477, 'giedtpeter900': 10478, 'nureinschatten': 10479, 'brigadoomde': 10480, 'hebihebiheb': 10481, 'littlej07059497': 10482, 'schneideru18': 10483, 'norbinator2403': 10484, 'yuma': 10485, 'lein': 10486, 'matrixgofire': 10487, 'istanbul': 10488, 'themes': 10489, 'merksatz': 10490, 'duzt': 10491, 'starken': 10492, 'gegnspam': 10493, 'dutzend': 10494, 'pirateneintritt': 10495, 'waz': 10496, '41': 10497, 'gekuendigt': 10498, 'einseitige': 10499, 'berichte': 10500, 'attung': 10501, 'r67': 10502, 'h4': 10503, 'uam': 10504, 'unternehmer': 10505, 'jeeeee': 10506, 'bushman': 10507, 'mcscrub': 10508, 'petrapebs': 10509, 'markusalbrech16': 10510, 'dick': 10511, 'korrelie': 10512, 'hoechstes': 10513, 'tiggena': 10514, 'sexistische': 10515, 'belohnen': 10516, 'selbe': 10517, 'einstieg': 10518, 'herbstritt': 10519, 'spionage': 10520, 'gutachten': 10521, 'mitteilte': 10522, 'fahrzeug': 10523, 'fussgaenger': 10524, 'fahrradweg': 10525, 'gerammt': 10526, 'staerkung': 10527, 'frauenquote': 10528, 'quotenfrau': 10529, 'anstoessig': 10530, 'aussenministern': 10531, 'grundgesetzt': 10532, 'market': 10533, 'fool': 10534, 'schaebiger': 10535, 'lump': 10536, 'fahnenflucht': 10537, 'evermittlung': 10538, 'geschue': 10539, 'vasteh': 10540, 'nua': 10541, 'halb': 10542, 'cradle': 10543, 'beurkunden': 10544, 'industrielle': 10545, 'angeprange': 10546, 'trinkwasser': 10547, 'trinkbar': 10548, 'wg12307': 10549, 'friedliebend': 10550, 'vervollstaendigen': 10551, 'abhaengen': 10552, 'decker': 10553, 'gewaessern': 10554, 'feiner': 10555, 'hassmoscheen': 10556, 'dschihad': 10557, 'verherrlichen': 10558, 'verbote': 10559, 'ausnahme': 10560, 'berlincore': 10561, 'chillensiemalnbisschen': 10562, 'autoritaeres': 10563, 'islamisches': 10564, 'beibringt': 10565, 'kinderschaender': 10566, 'oto': 10567, 'severinweiland': 10568, 'volksvoraeda': 10569, 'lechzen': 10570, 'serioese': 10571, 'aufarbeitung': 10572, 'prozesse': 10573, 'legitim': 10574, 'nixnebelkerze': 10575, 'mei': 10576, 'men': 10577, 'going': 10578, 'their': 10579, 'own': 10580, 'way': 10581, 'hamburgonline': 10582, 'leerstehende': 10583, 'wohnungen': 10584, 'wgschaften': 10585, 'nachbarn': 10586, 'fokussierung': 10587, 'zeitgemaess': 10588, 'iefen': 10589, 'fietzke': 10590, 'vich': 10591, 'formen': 10592, 'fangenspielen': 10593, 'pott': 10594, 'rueckzugsraum': 10595, 'unangreifbarkeit': 10596, 'anhaltender': 10597, 'repression': 10598, 'waffe': 10599, 'sosse': 10600, 'antatschen': 10601, 'einheimische': 10602, 'feminazis': 10603, 'gemassregelt': 10604, 'henry': 10605, 'newmann': 10606, 'boraetlabora': 10607, 'georgius': 10608, 'bach': 10609, 'vaniredfox': 10610, 'zank': 10611, 'hausgemeinde': 10612, 'pers': 10613, 'zusammenhalt': 10614, 'besetzt': 10615, 'uwekleine': 10616, 'grosszuegige': 10617, 'key': 10618, 'boarder': 10619, 'kai': 10620, 'scheide': 10621, 'boehmermanns': 10622, 'versifftes': 10623, 'autoren': 10624, 'nagelbombenanschlag': 10625, 'scheite': 10626, 'zwoelfjaehrigen': 10627, 'gebastelten': 10628, 'sprengsatz': 10629, 'zuenden': 10630, 'niki': 10631, 'lauda': 10632, 'mercedes': 10633, 'feed': 10634, '1400': 10635, '500': 10636, 'followern': 10637, 'impressionen': 10638, 'nwo': 10639, 'schlange': 10640, 'hinterhaeltig': 10641, 'blockade': 10642, 'respektwaehlen': 10643, 'genaue': 10644, 'analysen': 10645, 'rhetoriken': 10646, 'strategien': 10647, 'entlarvt': 10648, 'gefaehrlichkeit': 10649, 'freundliche': 10650, 'maske': 10651, 'abgezogen': 10652, 'klage': 10653, 'petrakelly': 10654, 'danken': 10655, 'finanz': 10656, 'knueller': 10657, 'ausgegraben': 10658, 'siehts': 10659, 'akte': 10660, 'briefmarke': 10661, 'prost': 10662, 'berlindirekt': 10663, 'bmjv': 10664, 'einizg': 10665, 'gesuelze': 10666, 'gaffer': 10667, 'butter': 10668, 'brot': 10669, 'bo': 10670, 'aufloest': 10671, 'verwestlicht': 10672, 'etlichen': 10673, 'tipp': 10674, 'christlich': 10675, 'amtseid': 10676, 'geschworen': 10677, 'personalausweis': 10678, 'beantragen': 10679, 'papiere': 10680, 'geduldet': 10681, 'behandlung': 10682, 'darstellung': 10683, 'ueberzogen': 10684, 'rechtsextreme': 10685, 'milieu': 10686, 'thematisie': 10687, 'bescheidenheit': 10688, 'erbrachte': 10689, 'relation': 10690, 'leistungsfaehigkeit': 10691, 'zorras': 10692, 'goettin': 10693, 'ihaveahunger': 10694, 'bunnyfield': 10695, 'fricarfri': 10696, 'petracyber': 10697, 'typo3': 10698, 'hintern': 10699, 'kresszwitscher': 10700, 'anjareschke1': 10701, 'barbarahans': 10702, 'hinrichs': 10703, 'akolbusa': 10704, 'journalistisch': 10705, 'komplexitaet': 10706, 'vereinfacher': 10707, 'fruchtbaren': 10708, 'boden': 10709, 'gunterseife': 10710, 'hansalbers6': 10711, 'dieses': 10712, 'ekelt': 10713, 'ausgetraeumten': 10714, 'marxistischen': 10715, 'atombomben': 10716, 'niedrig': 10717, 'aktuellenstunde': 10718, 'am': 10719, 'zentra': 10720, 'lafrika': 10721, 'frey': 10722, 'menschenfeindlichkeit': 10723, 'kollegen': 10724, 'unnachgiebig': 10725, 'knacken': 10726, 'eingeloggt': 10727, 'ruinieren': 10728, 'aufkommen': 10729, 'gernder': 10730, 'gay': 10731, 'niveauloser': 10732, 'bereichern': 10733, 'slow': 10734, 'verletzungen': 10735, 'nichtweisse': 10736, 'bad': 10737, 'luck': 10738, 'stephanjbauer': 10739, 'verkehrsunfalls': 10740, 'schuettel': 10741, 'spinnt': 10742, 'stern': 10743, 'aufmachte': 10744, 'bischof': 10745, 'hemmerle': 10746, 'erstes': 10747, 'haesslichen': 10748, 'toller': 10749, 'weestedoch': 10750, 'aeter': 10751, 'nigger': 10752, 'nigerianer': 10753, 'abgestochen': 10754, 'gelesene': 10755, 'deckt': 10756, 'biblisches': 10757, 'weggelassen': 10758, 'hinzugefuegt': 10759, 'monokultur': 10760, 'mono': 10761, 'spanisches': 10762, 'affe': 10763, 'friseur': 10764, 'schicker': 10765, 'anbetung': 10766, 'intensivieren': 10767, 'ausgangslaendern': 10768, 'barbie': 10769, 'paedos': 10770, 'voelkerbundmandat': 10771, 'teilungsplan': 10772, 'karllagerfeld': 10773, 'knaeckebrot': 10774, 'doppelanschlag': 10775, 'bagdad': 10776, 'klingbeil': 10777, 'waehlern': 10778, 'meiden': 10779, 'hinzerzimmern': 10780, 'kneipen': 10781, 'infostaenden': 10782, 'allesadventure': 10783, '31': 10784, 'benedikts': 10785, 'entstammt': 10786, 'festschrift': 10787, 'sieh': 10788, 'bestaendig': 10789, 'aktion': 10790, 'mahatma': 10791, 'gandhi': 10792, 'planetsafer': 10793, 'implizieren': 10794, 'apa': 10795, 'heid': 10796, 'einfaches': 10797, 'kleidungsstueck': 10798, 'rehabilitierung': 10799, 'offizielle': 10800, 'eingestaendnis': 10801, 'demokratisches': 10802, 'menschenrechtsverletzungen': 10803, 'beging': 10804, 'billigen': 10805, 'phrasen': 10806, 'zum': 10807, 'macpromastek': 10808, 'saschalitvin': 10809, 'verheerenden': 10810, 'unterschiede': 10811, 'skandinaviern': 10812, 'aborigines': 10813, 'territoriale': 10814, 'verbreitung': 10815, 'einstufung': 10816, 'inkompetenz': 10817, 'provokationen': 10818, 'verschleiern': 10819, 'wuerdelos': 10820, 'sandrasigel': 10821, 'loveparade': 10822, 'aussenseiter': 10823, 'forum': 10824, 'geboten': 10825, 'sprachfehler': 10826, 'gemeinsamkeiten': 10827, 'zensurkontrolle': 10828, 'meinungs': 10829, 'versammlungsfreiheit': 10830, 'optische': 10831, 'marin': 10832, 'haesslicherer': 10833, 'jene': 10834, 'tragische': 10835, 'einsetzt': 10836, 'potenziell': 10837, 'harald': 10838, 'georgii': 10839, 'instituts': 10840, 'soviele': 10841, 'anwerben': 10842, 'auftragen': 10843, 'make': 10844, 'up': 10845, 'herauszuputzen': 10846, 'allianz': 10847, 'ausgeschlossen': 10848, 'babies': 10849, 'libanon': 10850, 'neugeborenen': 10851, 'intensivpflege': 10852, 'sichergestellt': 10853, 'studienabbrecherin': 10854, 'engel': 10855, 'beherbergt': 10856, 'hebr': 10857, 'katjabzaich': 10858, 'apfelzweig': 10859, 'kastrieren': 10860, 'stinkende': 10861, 'saekularem': 10862, 'sub': 10863, 'specie': 10864, 'aeternitatis': 10865, 'universalen': 10866, 'grassierenden': 10867, 'kontrapunkt': 10868, 'koestlich': 10869, 'komoediant': 10870, 'nachgedacht': 10871, 'sarkasmus': 10872, 'empfehlen': 10873, 'schwindet': 10874, 'feigen': 10875, 'ttrwttr': 10876, 'themrrroc': 10877, 'abwechslung': 10878, 'scheuklappen': 10879, 'wichsvorlageni': 10880, 'dialektik': 10881, 'vergesslich': 10882, 'skandale': 10883, 'murks': 10884, 'off': 10885, 'widerhole': 10886, 'salafistenmoscheen': 10887, 'strenge': 10888, 'kontrollen': 10889, 'tendenzen': 10890, 'vorbeugen': 10891, 'empfinden': 10892, 'anmassend': 10893, 'zuvorkommendes': 10894, 'kindesbeinen': 10895, 'lese': 10896, 'kommentatoren': 10897, 'abbau': 10898, 'dominiquehber': 10899, 'abgefucktespd': 10900, 'mitverursacht': 10901, 'geschlechterrollen': 10902, 'aufbrechen': 10903, 'absprechen': 10904, 'helalbeauty': 10905, 'prinzipiell': 10906, 'disziplin': 10907, '2001': 10908, 'alexneuber': 10909, 'weseler': 10910, 'kriterium': 10911, 'uebergriffe': 10912, 'hach': 10913, 'ochs': 10914, 'la': 10915, 'biennale': 10916, 'marianne': 10917, 'bi': 10918, 'hler': 10919, '2011': 10920, 'bundesbeauftragte': 10921, 'mobilisie': 10922, 'peinlichkeit': 10923, 'bildschirm': 10924, 'ursursen': 10925, 'abschalten': 10926, 'paulroegler': 10927, 'tomahrweiler': 10928, 'conny': 10929, 'judentun': 10930, 'kippe': 10931, 'anblick': 10932, 'erschuette': 10933, 'einzug': 10934, 'schaufenstern': 10935, 'glotzen': 10936, 'offensichtliche': 10937, 'behagt': 10938, 'fruehjahr': 10939, 'publikation': 10940, 'verfuegbar': 10941, 'manuskript': 10942, 'stichtagsregelung': 10943, 'dekt17': 10944, 'erneuten': 10945, 'koalitionpa': 10946, 'taxreform': 10947, 'massive': 10948, 'gigantische': 10949, 'schulden': 10950, 'herum': 10951, 'gerechterwerden': 10952, 'verwandtschaft': 10953, 'trennen': 10954, 'anstrengend': 10955, 'populismus': 10956, 'wahn': 10957, 'erfinden': 10958, 'tnnmagazine': 10959, 'dummkopf': 10960, 'hinreissen': 10961, 'zdfspezial': 10962, 'nachzulesen': 10963, 'unter': 10964, 'willkuer': 10965, 'amter': 10966, 'vorgeschlagen': 10967, 'darmblaehungen': 10968, 'ibiebs1dcookie': 10969, 'hey': 10970, 'machs': 10971, 'kreische': 10972, 'krisengebiet': 10973, '360': 10974, 'pakistanische': 10975, 'behoerden': 10976, 'zurueckzukehren': 10977, 'umfrageergebnisse': 10978, 'stimmungsmacher': 10979, 'erfolge': 10980, 'rentenfrage': 10981, 'garant': 10982, 'kongo': 10983, 'diamanten': 10984, 'korrupte': 10985, 'einwohner': 10986, 'aufgebaut': 10987, 'sonstige': 10988, 'zeitgeist': 10989, 'ausschweifende': 10990, 'westl': 10991, 'geseschaft': 10992, 'sensibilitaet': 10993, 'beduerfnisse': 10994, 'gefluechteter': 10995, 'bereichen': 10996, 'engagements': 10997, 'lebensbedingungen': 10998, 'gefluechtet': 10999, 'dieterbrehms': 11000, 'bmw': 11001, 'hmm': 11002, 'wm': 11003, 'spassig': 11004, 'identifizie': 11005, 'lesbischer': 11006, 'transe': 11007, 'backen': 11008, 'reparieren': 11009, 'laune': 11010, 'johannesvogel': 11011, 'fairen': 11012, 'spielregeln': 11013, 'merkste': 11014, 'wegputschen': 11015, 'neujahrsgruesse': 11016, 'uh': 11017, 'begleiten': 11018, 'mlp': 11019, 'officiel': 11020, 'verwandt': 11021, 'madeluxxe': 11022, 'wutzwilly': 11023, 'siegfriedricht5': 11024, '1984': 11025, 'wahlplakaten': 11026, 'begann': 11027, 'drink': 11028, 'spendie': 11029, 'este': 11030, 'volksverraete': 11031, 'entsprechend': 11032, 'evetiger': 11033, 'leidlich': 11034, 'sicheren': 11035, 'beschreiben': 11036, 'wasch': 11037, 'pelz': 11038, 'nass': 11039, 'foerster': 11040, 'hinterkopf': 11041, 'rechnergestuetzt': 11042, 'bedienung': 11043, 'hallenpd': 11044, 'verdammte': 11045, 'merkelregierung': 11046, 'fasern': 11047, 'seins': 11048, 'tuns': 11049, 'wuenschens': 11050, 'gelangt': 11051, 'tiefsten': 11052, 'lehnt': 11053, 'jeweiligen': 11054, 'aufenthaltsstatus': 11055, 'adaequaten': 11056, 'gesundheitsversorgung': 11057, 'klang': 11058, 'edler': 11059, 'entschu': 11060, 'digt': 11061, 'satrape': 11062, 'besatzung': 11063, 'frauenkram': 11064, 'laber': 11065, 'durfte': 11066, 'jahrelange': 11067, 'anmelder': 11068, 'quds': 11069, 'marsches': 11070, 'gewaltverbrechen': 11071, 'vieles': 11072, 'lebensstil': 11073, 'aufm': 11074, 'katastrophe': 11075, 'rumaenien': 11076, 'qualufizie': 11077, 'diejenige': 11078, 'trauerfaellen': 11079, 'fratze': 11080, 'sittliche': 11081, '68ern': 11082, 'videobotschaften': 11083, 'stufe': 11084, 'videos': 11085, 'verherrlicht': 11086, 'spdfrauen': 11087, 'riesenunterschied': 11088, 'atheistenstaat': 11089, 'zwangs': 11090, 'entwurzelung': 11091, 'glaeubigen': 11092, 'religiositaet': 11093, 'abgrenzen': 11094, 'mitwirkung': 11095, 'des': 11096, 'derjenigen': 11097, 'offenengesellschaft': 11098, 'schinkel': 11099, 'ib': 11100, 'trauer': 11101, 'tattooforaweek': 11102, 'taetowieren': 11103, 'scheusslich': 11104, 'daemonenhaft': 11105, 'sprachlos': 11106, 'air': 11107, 'bedeutungslosigkeit': 11108, 'berndlucke': 11109, 'ltwnds': 11110, 'ltw17': 11111, 'schwarzfuss': 11112, 'raketenlurch': 11113, 'entwicklungsland': 11114, 'jenspressh': 11115, 'breitscheidtplatz': 11116, 'gesammten': 11117, 'keiner': 11118, 'krisenzeiten': 11119, 'grundlegende': 11120, 'rechtsstaatl': 11121, 'gesiche': 11122, 'migrationsbuero': 11123, 'vatikan': 11124, 'rsection': 11125, 'perve': 11126, 'ierung': 11127, 'beinhaltet': 11128, 'unmoralisch': 11129, 'grundschueler': 11130, 'aushagen': 11131, 'gruftipower': 11132, 'gewissenlos': 11133, 'gottlos': 11134, 'westbindung': 11135, 'fundament': 11136, 'provisorium': 11137, 'toetung': 11138, 'eintreten': 11139, 'mitarbeiten': 11140, 'mitentscheiden': 11141, 'zuzusehen': 11142, 'trauriger': 11143, 'weine': 11144, 'deutschistan': 11145, 'traene': 11146, 'abziehen': 11147, 'ruestungsexpo': 11148, 'zurechnungsfaehig': 11149, 'fluechtlingsschutz': 11150, 'ergaenzende': 11151, 'verwirklichen': 11152, 'ungeheuerlichen': 11153, 'hoffend': 11154, 'liebend': 11155, 'betend': 11156, 'unbegreiflichkeit': 11157, 'bergenden': 11158, 'entgegenzugehen': 11159, 'rahner': 11160, 'baeume': 11161, 'aufzuhaengen': 11162, 'quotierung': 11163, 'gespalten': 11164, 'gegeneinander': 11165, 'aufgehetzt': 11166, 'smsteinitz': 11167, 'echauffieren': 11168, 'hysterischem': 11169, 'jekelanke': 11170, 'amtszeit': 11171, 'geschlechtschromosomen': 11172, 'fakdberlin': 11173, 'nikolaus': 11174, 'ehem': 11175, 'ratsvorsitzender': 11176, 'hielt': 11177, 'verbrecherorga': 11178, 'isation': 11179, 'knutsche': 11180, 'gaehnst': 11181, 'ueberangebot': 11182, 'lenchon': 11183, 'jlm2017': 11184, 'duisburg': 11185, 'klingt': 11186, 'ruhrpott': 11187, 'qual': 11188, 'kwgberlin': 11189, 'verwechseln': 11190, 'homophobie': 11191, 'kuscheln': 11192, 'forschungsgruppe': 11193, 'bluehe': 11194, 'gepflanzt': 11195, 'sales': 11196, 'anfangsphase': 11197, 'schandmaeulern': 11198, 'dummgenosse': 11199, 'geilt': 11200, 'helferinnen': 11201, 'herausragende': 11202, 'erdenklichen': 11203, 'bremse': 11204, 'technologien': 11205, 'gewinne': 11206, 'haengen': 11207, 'atomwaffen': 11208, 'geb': 11209, 'gewuenscht': 11210, 'bremst': 11211, 'jan': 11212, 'ni': 11213, 'mdrextra': 11214, 'jahn': 11215, 'mitverantwo': 11216, 'ermunte': 11217, 'chemikalien': 11218, 'verfolgten': 11219, 'schauprozesse': 11220, 'gazetecilereoezguerluek': 11221, 'cumhuriyetgzt': 11222, 'drecksau': 11223, 'schmerzen': 11224, 'praeambel': 11225, 'ethisch': 11226, 'redete': 11227, 'kreist': 11228, 'gedanklich': 11229, 'bauernhof': 11230, 'mecklenburg': 11231, 'vorpommern': 11232, 'ungeeignet': 11233, 'aufstrebende': 11234, 'industrienationen': 11235, 'steigendem': 11236, 'chanukka': 11237, 'feierlichkeiten': 11238, 'jahreswechsel': 11239, 'zeige': 11240, 'mechanismen': 11241, 'toxischer': 11242, 'schaftde': 11243, 'vegetarisch': 11244, 'haessliche': 11245, 'jamaikakoalition': 11246, 'ergreife': 11247, 'anrueh': 11248, 'absoluten': 11249, 'geborgenheit': 11250, 'edith': 11251, 'radikaler': 11252, 'realistischerweise': 11253, 'erringen': 11254, 'moderaten': 11255, 'veraendern': 11256, 'einzuschuechtern': 11257, 'demoralisieren': 11258, 'kalkuel': 11259, 'aufgehen': 11260, 'manns': 11261, 'funke': 11262, 'hochzeit': 11263, 'insolvent': 11264, 'klappt': 11265, 'sims4': 11266, 'traummann': 11267, 'gebacken': 11268, 'binaeren': 11269, 'ausrede': 11270, 'unantastbar': 11271, 'teampetrapau': 11272, 'gedenkstunde': 11273, 'einaehe': 11274, 'sekundaer': 11275, 'eiloser': 11276, 'wechselwaehler': 11277, 'katechismus': 11278, 'messbuch': 11279, 'kreuzzeichen': 11280, 'allererste': 11281, 'hasselloff': 11282, 'kiraseidel': 11283, 'typische': 11284, 'gepaa': 11285, 'dreisten': 11286, 'weils': 11287, 'undenkbar': 11288, 'miezekatzen': 11289, 'behauptung': 11290, 'einschraenken': 11291, 'goldaufweiss': 11292, 'interessiere': 11293, 'konntest': 11294, 'zufriedenstellende': 11295, 'spannende': 11296, 'konstruktive': 11297, 'it': 11298, 'poothverona': 11299, 'schlauchboot': 11300, 'halloween': 11301, 'ausdenkt': 11302, 'biologisch': 11303, 'determinie': 11304, 'abweichung': 11305, 'asylantenschmarotzer': 11306, 'stirbt': 11307, 'sissis': 11308, 'nationalfrager': 11309, 'furchtbare': 11310, 'mitgefuehl': 11311, 'glubbdidi': 11312, 'schreien': 11313, 'jugendlichen': 11314, 'erzitte': 11315, 'weint': 11316, 'erlebnis': 11317, 'breiter': 11318, 'denis': 11319, 'cuspe': 11320, 'deso': 11321, 'dogg': 11322, 'hizbollah': 11323, 'auftrat': 11324, 'zog': 11325, 'fahnen': 11326, 'wess': 11327, 'terrororganisation': 11328, 'einverstanden': 11329, 'cookies': 11330, 'hhumorlos': 11331, 'foetzchen': 11332, 'gefickt': 11333, 'sehsuechtig': 11334, 'talkrunde': 11335, 'sassen': 11336, 'gegie': 11337, 'stellst': 11338, 'aberglauben': 11339, 'jedweden': 11340, 'befinden': 11341, 'trend': 11342, 'stadtbewohnern': 11343, 'entfremdet': 11344, 'folgendessen': 11345, 'idealisieren': 11346, 'eindrucksvoll': 11347, 'raetselhaft': 11348, 'moegliche': 11349, 'schicksalsschlag': 11350, 'erkrankung': 11351, 'interessanterweise': 11352, 'politikerin': 11353, 'leubecherx': 11354, 'leubecher': 11355, 'vermerkt': 11356, 'infos': 11357, 'kriminalwissenschaftler': 11358, 'pfeiffer': 11359, 'geleiteten': 11360, 'ursachen': 11361, 'zuwanderkriminalitaet': 11362, 'stammen': 11363, 'vermerken': 11364, 'nbardeff': 11365, 'vorgeworfen': 11366, 'versteckten': 11367, 'komponenten': 11368, 'gonosomen': 11369, 'geschlechtshormone': 11370, 'yorker': 11371, 'stadtteil': 11372, 'kleinlasters': 11373, 'beispielsweise': 11374, 'anheben': 11375, 'ansicht': 11376, 'schleimern': 11377, 'mitgliedern': 11378, 'nachhause': 11379, 'bestem': 11380, 'schmeisse': 11381, 'fuss': 11382, 'sichere': 11383, 'drittstaaten': 11384, 'durchque': 11385, 'anliegen': 11386, 'schutzsuchender': 11387, 'schlachten': 11388, 'betaeubung': 11389, 'leibe': 11390, 'haeuten': 11391, 'pflegebengel1': 11392, 'lisaklaster': 11393, 'geschickte': 11394, 'umdeutung': 11395, 'nutzbringende': 11396, 'nutzlosen': 11397, 'jackiedryder': 11398, 'kristianlempa': 11399, 'cduspdfdplinkegruene': 11400, 'grueninnen': 11401, 'wichsen': 11402, 'gelabber': 11403, 'zugestimmt': 11404, 'nenne': 11405, 'hadear': 11406, 'kontexten': 11407, 'bauchpinselei': 11408, 'toedlichen': 11409, 'terroranschlaege': 11410, 'dramatisch': 11411, 'ipk': 11412, 'puzzle': 11413, 'gelungen': 11414, 'digit': 11415, 'gepuzzelte': 11416, 'scan': 11417, 'technologie': 11418, 'schaftsmethoden': 11419, 'sebast': 11420, 'volksverarschung': 11421, 'huehnerfickerei': 11422, 'moeglicherweise': 11423, 'hihi': 11424, 'weisswuerste': 11425, 'sklavenhandel': 11426, 'aktiv': 11427, 'voltaire': 11428, 'oberhaupt': 11429, 'amlukassek': 11430, 'silvesterboellerei': 11431, 'brotstattboeller': 11432, 'terroranschlag': 11433, 'bewiesen': 11434, 'aufbauen': 11435, 'diw': 11436, 'quotienten': 11437, 'rausgerechnet': 11438, 'poltern': 11439, 'wahrnehmung': 11440, 'interpretierst': 11441, 'schnubb': 11442, 'groesse': 11443, 'wisselstefan': 11444, 'rinkenden': 11445, 'anzubieten': 11446, 'sinnvoll': 11447, 'zynisch': 11448, 'weitsicht': 11449, 'blind': 11450, 'heiliges': 11451, 'immobilienmakler': 11452, 'marspet': 11453, 'nachvollziehen': 11454, 'kleben': 11455, 'spitzenkandidatin': 11456, 'zuverlaessig': 11457, 'gemischtes': 11458, 'kriminalstatistik': 11459, 'eindeutige': 11460, 'ueberrepraesentie': 11461, 'safe': 11462, 'space': 11463, 'sozialethik': 11464, 'dubiose': 11465, 'umfragen': 11466, 'erstellen': 11467, 'nase': 11468, 'switchangel1975': 11469, 'antilegida': 11470, 'entsteht': 11471, 'klarheit': 11472, 'fraktionbb': 11473, 'vogel': 11474, 'auslaenderfeindlichkeit': 11475, 'acker': 11476, 'zugibst': 11477, 'offiziellen': 11478, 'soso': 11479, 'beobachtest': 11480, 'moment': 11481, 'haeufig': 11482, 'worauf': 11483, 'stuetzt': 11484, 'kranke': 11485, 'hindurchfinden': 11486, 'schulle60': 11487, 'kanns': 11488, 'marktwi': 11489, 'sozialausgaben': 11490, 'olympe': 11491, 'dushanwegner': 11492, 'anwerberinnen': 11493, 'freundinnen': 11494, 'salafistische': 11495, 'anzulocken': 11496, 'weitem': 11497, 'integrie': 11498, 'mahne': 11499, 'demokratiefeinde': 11500, 'lebensweg': 11501, 'infotweepnl': 11502, 'eussr': 11503, 'botschafter': 11504, 'einbestellen': 11505, 'truppen': 11506, 'islamkritiker': 11507, 'zensie': 11508, 'debattie': 11509, 'germanywatcher': 11510, 'hinfahren': 11511, 'schuldzuschreibung': 11512, 'arg': 11513, 'mager': 11514, 'wahrlich': 11515, 'koalitionsfaehig': 11516, 'ueberwiegend': 11517, 'vermag': 11518, 'verbuche': 11519, 'kristallisieren': 11520, 'rudisagmal': 11521, 'ger': 11522, 'reichten': 11523, 'geistigen': 11524, 'kapazitaeten': 11525, 'verreckt': 11526, 'strukturen': 11527, 'funktionierenden': 11528, 'buerokratie': 11529, 'lichtenhagen': 11530, 'mahnt': 11531, 'fussbreit': 11532, 'taschenrechner': 11533, 'abgeschnitten': 11534, 'daas': 11535, 'ueberschlagen': 11536, 'suesses': 11537, 'endgueltig': 11538, 'ueberrascht': 11539, 'mitbekomme': 11540, 'obamas': 11541, 'vorstaenden': 11542, 'bezahlte': 11543, 'reinplatzt': 11544, 'abwuergt': 11545, 'verseuchtes': 11546, 'nazipack': 11547, 'merkur': 11548, 'shalimarharper': 11549, 'kanzler': 11550, '1982': 11551, '1998': 11552, 'andererseits': 11553, 'herrchen': 11554, 'amateur': 11555, 'lernfaehig': 11556, 'verlauste': 11557, 'kochkaese24': 11558, 'dringenden': 11559, 'gemeinsames': 11560, 'andrittis': 11561, 'vikinger': 11562, 'asylnten': 11563, 'gerdhansi': 11564, 'luschenpa': 11565, 'organisie': 11566, 'menschenkette': 11567, 'moderne': 11568, 'konservativ': 11569, 'autoritaeren': 11570, 'befreien': 11571, 'anlegen': 11572, 'fvorwerg': 11573, 'zuegig': 11574, 'fuerchterlich': 11575, 'staendige': 11576, 'of': 11577, 'twin': 11578, 'versammlungsanmeldung': 11579, 'unbequeme': 11580, 'vorstellt': 11581, 'eidigt': 11582, 'hatespeech': 11583, 'beteht': 11584, 'anspricht': 11585, 'ranzmann': 11586, 'inshallah': 11587, 'schwanz': 11588, '40cm': 11589, '10cmdick': 11590, 'hans': 11591, 'ampel': 11592, 'treibhausev': 11593, 'auswe': 11594, 'ui': 11595, 'grins': 11596, 'xx': 11597, 'morgentau100': 11598, 'hereinspazie': 11599, 'einfachnurmark': 11600, 'janalbrecht': 11601, 'bliebe': 11602, 'holocaustmahnmal': 11603, 'bezeichnet': 11604, 'klatscht': 11605, 'rueh': 11606, 'schweizerguy': 11607, 'megatwingo': 11608, 'behauptest': 11609, 'definie': 11610, 'personenschuetzern': 11611, 'verbraucherfalle': 11612, 'einziger': 11613, 'hotels': 11614, 'aufgefallen': 11615, 'zimmer': 11616, 'ungsbereitschaft': 11617, 'zuvoerderst': 11618, 'verfassungsvoraussetzungen': 11619, 'verordnet': 11620, 'hochgradiger': 11621, 'anmerkst': 11622, 'osteuropa': 11623, 'himmelweiter': 11624, 'tommyschett': 11625, 'unterschiedlich': 11626, 'tolerie': 11627, 'endogamen': 11628, 'bueti': 11629, 'maaluf': 11630, 'diekreuzzuege': 11631, 'empfehlenswe': 11632, 'erhellend': 11633, 'tzounakis': 11634, 'victorvetterle': 11635, 'scheinheilig': 11636, 'sche': 11637, 'menschenverachtende': 11638, 'chsommers': 11639, 'debatten': 11640, 'reduzieren': 11641, 'neuner': 11642, 'auslaendische': 11643, 'pflegekraefte': 11644, 'steine': 11645, 'fahrverbote': 11646, 'diesel': 11647, 'dummes': 11648, 'gegessen': 11649, 'gekocht': 11650, 'bankrotterklaerung': 11651, 'schulterschluss': 11652, 'freizulassen': 11653, 'fl': 11654, 'securityka': 11655, 'rumspringen': 11656, 'kokolores100': 11657, 'folge': 11658, 'einschliessenden': 11659, 'ausschliesslichen': 11660, 'polizeiruf': 11661, '110': 11662, 'sterbenslangweilig': 11663, 'endlosfrei': 11664, 'geltendes': 11665, 'spendet': 11666, 'beifall': 11667, 'antidiskriminerungsgesetz': 11668, 'staatsbuergern': 11669, 'perfektes': 11670, 'einfallstor': 11671, 'opferkult': 11672, 'sexuellen': 11673, 'bezichtigt': 11674, 'handtaschen': 11675, 'sonderangebot': 11676, 'stef': 11677, 'egli': 11678, 'nzz': 11679, 'grundsatz': 11680, 'verschleie': 11681, 'problematik': 11682, 'vielmehr': 11683, 'lde': 11684, 'taqiyya': 11685, 'tabelle': 11686, 'kriegsgebeutelten': 11687, 'starben': 11688, 'krankheit': 11689, 'leidet': 11690, 'geschadet': 11691, 'anziehungskraft': 11692, 'haraldrostock': 11693, 'traeume': 11694, 'industrialisierung': 11695, 'entscheidender': 11696, 'kreislauf': 11697, 'auszubrechen': 11698, 'netzwerkdurchsetzungsgesetz': 11699, 'nigromontanus': 11700, 'mkaltental': 11701, 'wehklagen': 11702, 'rudigerkirsch': 11703, 'betrug': 11704, 'kinderficken': 11705, 'vergleichst': 11706, 'zuzuschreiben': 11707, 'kindesmissbrauch': 11708, 'haeusliche': 11709, 'gentlemind': 11710, 'tim': 11711, 'unkenntlich': 11712, 'btwahl2017': 11713, 'thyssenkrupp': 11714, 'kastensystem': 11715, 'reformator': 11716, 'institut': 11717, 'schaftsforschung': 11718, 'isolie': 11719, 'ihrer': 11720, 'kipping': 11721, 'schaedlinge': 11722, 'indonesischen': 11723, 'provinz': 11724, 'aceh': 11725, 'kuerzlich': 11726, 'islamisie': 11727, 'tolle': 11728, 'ceglarm': 11729, 'paradisepapaers': 11730, 'kriminelle': 11731, 'steuerhinterziehung': 11732, 'superreichen': 11733, 'fluechte': 11734, 'nachbarland': 11735, 'hassverbrechen': 11736, 'rbbinforadio': 11737, 'aktionaere': 11738, 'vw': 11739, 'verdraengen': 11740, 'nachruestung': 11741, 'dieselgate': 11742, '1969': 11743, 'browser': 11744, 'militaeroperation': 11745, 'bundesstaat': 11746, 'rakhaing': 11747, 'myanmar': 11748, 'haeuser': 11749, 'ethnischen': 11750, 'kopftuchzwang': 11751, 'protest': 11752, 'verbesserungen': 11753, 'iranprotest': 11754, 'ossi': 11755, 'unterirdisch': 11756, 'haesslichten': 11757, 'wahlpa': 11758, 'strunzdummes': 11759, 'blamieren': 11760, 'kapitales': 11761, 'versagen': 11762, 'saechsischer': 11763, 'jva': 11764, 'pk': 11765, 'unauffaelliger': 11766, 'gefangener': 11767, 'lampe': 11768, 'steckdose': 11769, 'begeht': 11770, 'bakr': 11771, 'alexabringmann': 11772, 'mullssl': 11773, 'berufung': 11774, 'einlegen': 11775, 'gemeine': 11776, 'soze': 11777, 'weltmacht': 11778, 'wachen': 11779, 'sanktionsandrohungen': 11780, 'unmenschlichen': 11781, 'strapazen': 11782, 'erholen': 11783, 'gdhring': 11784, 'gegensatz': 11785, 'unterwegs': 11786, 'piesteritz': 11787, 'hanisch': 11788, 'axtangriff': 11789, 'schreckliche': 11790, 'psychisch': 11791, 'kranken': 11792, 'vollstaendige': 11793, 'erholung': 11794, 'ihra': 11795, 'eigentum': 11796, 'braeuche': 11797, 'subsistenzwi': 11798, 'ernaehren': 11799, 'befielst': 11800, 'xi': 11801, 'xinping': 11802, 'umtriebe': 11803, 'ausmacht': 11804, 'sylketempel': 11805, 'bluten': 11806, 'weihnachtsstimmung': 11807, 'stoeren': 11808, 'traechtigen': 11809, 'events': 11810, 'wohnungslose': 11811, 'bezahlbaren': 11812, 'michaelumlandt': 11813, 'ze': 11814, 'ifizie': 11815, 'eifel': 11816, 'dialekt': 11817, 'transkribierer': 11818, 'abgeschlossen': 11819, 'wundere': 11820, 'maennchen': 11821, 'bezeugt': 11822, 'brandenburge': 11823, 'or': 11824, 'neukoelln': 11825, 'teilnehmer': 11826, 'selbstgemalte': 11827, 'entzuendet': 11828, 'roguefirstlady': 11829, 'first': 11830, 'lady': 11831, 'bono': 11832, 'zeichengrenze': 11833, 'verzehnfachen': 11834, 'beleg': 11835, 'wahrheitsgehalt': 11836, 'maerchenonkel': 11837, 'angepriesen': 11838, 'eingetrichte': 11839, 'widerspruechliche': 11840, 'vernichtet': 11841, 'ueberraschung': 11842, 'basie': 11843, 'kochen': 11844, 'wut': 11845, 'melix19': 11846, 'anfaengen': 11847, '1000mal': 11848, 'cam': 11849, 'gekniffen': 11850, 'rechtsrock': 11851, 'genre': 11852, 'stattfindenden': 11853, 'lautsprecherwagen': 11854, 'kindermoerder': 11855, 'intifada': 11856, 'parolen': 11857, 'gerufen': 11858, 'rico': 11859, 'caviezel': 11860, 'reifenstahl': 11861, 'schlimmster': 11862, 'alptraum': 11863, 'verbliebene': 11864, 'pragmatische': 11865, 'verwoehnt': 11866, 'durchwinkt': 11867, 'uepsilonniks1': 11868, 'sagst': 11869, 'arasbacho': 11870, 'aras': 11871, 'sonny250874': 11872, 'loga': 11873, 'steinmeiers': 11874, 'renatebergmann': 11875, 'notruf': 11876, 'nummer': 11877, 'zettel': 11878, 'kath': 11879, 'bluem': 11880, 'kanzleramtsminister': 11881, 'altmaier': 11882, 'schwitzt': 11883, 'volksverraeterpack': 11884, 'eigens': 11885, 'konflikten': 11886, 'withrefugees': 11887, 'handvoll': 11888, 'co2': 11889, 'ausstoss': 11890, 'senken': 11891, 'van': 11892, 'vleet': 11893, 'aussengrenzen': 11894, 'hilf': 11895, 'einfachen': 11896, 'gemuet': 11897, 'sachark': 11898, 'staatlichen': 11899, 'ichnicht': 11900, 'erscheint': 11901, 'steffen': 11902, 'rechne': 11903, 'monatsverdienst': 11904, 'besserverdiener': 11905, 'compact': 11906, 'konfernz': 11907, 'bester': 11908, 'verschwoerungsideologischer': 11909, 'manier': 11910, 'globalisten': 11911, 'globalem': 11912, 'finanzkapital': 11913, 'nocompact': 11914, 'reingepfuscht': 11915, 'westlicher': 11916, 'richtung': 11917, 'womoeglich': 11918, 'enf': 11919, 'efdd': 11920, 'verfaelscht': 11921, 'schminkflinte': 11922, 'sexistisch': 11923, 'verschiedener': 11924, 'wupperkauz': 11925, 'gebaeck': 11926, 'saisonspezifisch': 11927, 'rund': 11928, 'weihnachtszeit': 11929, '280': 11930, 'leviticus': 11931, 'beschreibung': 11932, 'jauche': 11933, 'bereicherung': 11934, 'betruegerpack': 11935, 'juristen': 11936, 'respektiere': 11937, 'ralficb': 11938, 'realfremd': 11939, 'fruehes': 11940, 'shabbat': 11941, 'ruhiges': 11942, 'wochenende': 11943, 'vergangenem': 11944, 'isolationshaft': 11945, 'verdaechtigen': 11946, 'anbeten': 11947, 'klick': 11948, 'saekularer': 11949, 'ruestungslobbyisten': 11950, 'aussenpolitisch': 11951, 'angeben': 11952, 'r2g': 11953, 'illusionaer': 11954, 'grundschulalter': 11955, 'ueberzieht': 11956, 'kabul': 11957, 'eckleben': 11958, 'dislike': 11959, 'button': 11960, 'totengraeber': 11961, 'rakeeede': 11962, 'insnamehier': 11963, 'bundesweite': 11964, 'sichtungen': 11965, 'voigt': 11966, 'abgeschaltet': 11967, 'alltags': 11968, 'kotze': 11969, 'genderquatsch': 11970, 'rueckspiegel': 11971, 'karren': 11972, 'udoulfkotte': 11973, 'gesundheitlich': 11974, 'siegerkranz': 11975, 'herrscher': 11976, 'vaterlands': 11977, 'fuehl': 11978, 'trohnes': 11979, 'glanz': 11980, 'wonne': 11981, 'liebling': 11982, 'volks': 11983, 'bezeichne': 11984, 'kriegsgeheul': 11985, 'saebelrasseln': 11986, 'entspannungspolitik': 11987, 'polnische': 11988, 'ostgebiete': 11989, '1990': 11990, 'autonomierechte': 11991, 'gewaeh': 11992, 'hasenscha': 11993, 'rknillmann': 11994, 'podilein': 11995, 'kunterbunt': 11996, 'multikultiliebhaber': 11997, 'stephanweil': 11998, 'kitas': 11999}\n"
          ]
        }
      ]
    },
    {
      "cell_type": "code",
      "source": [
        "\n",
        "\n",
        "encoded_clean_text_t_stem = tok_all.texts_to_sequences(clean_text_t_stem)\n",
        "print(clean_text_t_stem[0])\n",
        "print(encoded_clean_text_t_stem[0])\n",
        "\n"
      ],
      "metadata": {
        "colab": {
          "base_uri": "https://localhost:8080/"
        },
        "id": "-P-pLah2LPxY",
        "outputId": "8524a138-57e4-4a0b-9180-980110252fac"
      },
      "execution_count": null,
      "outputs": [
        {
          "output_type": "stream",
          "name": "stdout",
          "text": [
            "mutter erzaehlt, vater wahlkreiskandidaten gewaehlt hat, homo-ehe  \n",
            "[154, 2043, 1045, 341, 199, 6627]\n"
          ]
        }
      ]
    },
    {
      "cell_type": "code",
      "source": [
        "\n",
        "\n",
        "from keras.preprocessing import sequence\n",
        "max_length = 100\n",
        "padded_clean_text_t_stem = sequence.pad_sequences(encoded_clean_text_t_stem, maxlen=max_length, padding='pre')\n",
        "\n"
      ],
      "metadata": {
        "id": "2pMhC-TaLSmb"
      },
      "execution_count": null,
      "outputs": []
    },
    {
      "cell_type": "markdown",
      "source": [
        "# FastText Embeddings\n"
      ],
      "metadata": {
        "id": "5X5wvSctLXIh"
      }
    },
    {
      "cell_type": "code",
      "source": [
        "from google.colab import drive\n",
        "drive.mount('/content/drive')"
      ],
      "metadata": {
        "colab": {
          "base_uri": "https://localhost:8080/"
        },
        "id": "dokXCwzTBF9C",
        "outputId": "b003bafe-baf7-45fd-8cf5-18d83308d96f"
      },
      "execution_count": null,
      "outputs": [
        {
          "output_type": "stream",
          "name": "stdout",
          "text": [
            "Mounted at /content/drive\n"
          ]
        }
      ]
    },
    {
      "cell_type": "code",
      "source": [
        "!gunzip /content/drive/MyDrive/cc.de.300.vec.gz"
      ],
      "metadata": {
        "id": "vWWgtLKGRqeg",
        "colab": {
          "base_uri": "https://localhost:8080/"
        },
        "outputId": "cd3489f9-446c-48dd-c230-efd97a00d6af"
      },
      "execution_count": null,
      "outputs": [
        {
          "output_type": "stream",
          "name": "stdout",
          "text": [
            "gzip: /content/drive/MyDrive/cc.de.300.vec.gz: No such file or directory\n"
          ]
        }
      ]
    },
    {
      "cell_type": "code",
      "source": [
        "# https://stackoverflow.com/questions/69964788/how-to-unzip-gz-file-using-google-colab\n",
        "\n",
        "# FastText Embedding link - https://fasttext.cc/docs/en/crawl-vectors.html\n",
        "\n",
        "import os\n",
        "embeddings_index = {}\n",
        "f = open('/content/drive/MyDrive/cc.de.300.vec',encoding='utf-8',errors='ignore')\n",
        "for line in f:\n",
        "    values = line.split()\n",
        "    word = values[0]\n",
        "    coefs = np.asarray(values[1:], dtype='float32')\n",
        "    embeddings_index[word] = coefs\n",
        "f.close()\n",
        "print('Loaded %s word vectors.' % len(embeddings_index))\n",
        "\n"
      ],
      "metadata": {
        "colab": {
          "base_uri": "https://localhost:8080/"
        },
        "id": "Qoiw0Dq_BQXE",
        "outputId": "98f67b10-0525-476f-f763-d4e38fd7a3e3"
      },
      "execution_count": null,
      "outputs": [
        {
          "output_type": "stream",
          "name": "stdout",
          "text": [
            "Loaded 2000000 word vectors.\n"
          ]
        }
      ]
    },
    {
      "cell_type": "code",
      "source": [
        "\n",
        "\n",
        "embedding_matrix = np.zeros((vocabulary_all+1, 300))\n",
        "for word, i in tok_all.word_index.items():\n",
        "    embedding_vector = embeddings_index.get(word)\n",
        "    if embedding_vector is not None:\n",
        "         embedding_matrix[i] = embedding_vector\n",
        "\n"
      ],
      "metadata": {
        "id": "a3edF-OKEHme"
      },
      "execution_count": null,
      "outputs": []
    },
    {
      "cell_type": "markdown",
      "source": [
        "# CNN 1 Model\n"
      ],
      "metadata": {
        "id": "d6GOcaWlTm3y"
      }
    },
    {
      "cell_type": "code",
      "source": [
        "\n",
        "\n",
        "from keras.preprocessing import sequence\n",
        "from keras.preprocessing import text\n",
        "import numpy as np\n",
        "from keras.models import Sequential\n",
        "from keras.layers import Dense, Dropout, Activation\n",
        "from keras.layers import Embedding, LSTM\n",
        "from keras.layers import Conv1D, Flatten\n",
        "from keras.preprocessing import text\n",
        "from keras.models import Sequential,Model\n",
        "from keras.layers import Dense ,Activation,MaxPool1D,Conv1D,Flatten,Dropout,Activation,Dropout,Input,Lambda,concatenate\n",
        "from keras.utils import np_utils\n",
        "from nltk.corpus import stopwords\n",
        "from nltk.tokenize import RegexpTokenizer\n",
        "from nltk.stem.porter import PorterStemmer\n",
        "import nltk\n",
        "import csv\n",
        "import pandas as pd\n",
        "\n",
        "from keras.preprocessing import text as keras_text, sequence as keras_seq\n",
        "\n"
      ],
      "metadata": {
        "id": "9SFf_1_ITmRV"
      },
      "execution_count": null,
      "outputs": []
    },
    {
      "cell_type": "code",
      "source": [
        "Embedding_Layer = Embedding(vocabulary_all+1, 300, weights=[embedding_matrix], input_length=max_length)"
      ],
      "metadata": {
        "id": "-pMKAUQqTsLu"
      },
      "execution_count": null,
      "outputs": []
    },
    {
      "cell_type": "code",
      "source": [
        "CNN1_network=Sequential([Embedding_Layer,\n",
        "                        Conv1D(128,3,activation=\"relu\",padding='same'),\n",
        "                       Dropout(0.2),\n",
        "                       MaxPool1D(2),\n",
        "                       Flatten(),\n",
        "                       Dense(64,activation=\"relu\"),\n",
        "                       Dropout(0.3),\n",
        "                       Dense(2,activation=\"sigmoid\")\n",
        "                       ])\n",
        "\n"
      ],
      "metadata": {
        "id": "FjDa1as8Ts6r"
      },
      "execution_count": null,
      "outputs": []
    },
    {
      "cell_type": "code",
      "source": [
        "CNN1_network.summary()"
      ],
      "metadata": {
        "colab": {
          "base_uri": "https://localhost:8080/"
        },
        "id": "eiFSH30GTxM9",
        "outputId": "3abb3556-30d9-4943-f738-f1cd32327157"
      },
      "execution_count": null,
      "outputs": [
        {
          "output_type": "stream",
          "name": "stdout",
          "text": [
            "Model: \"sequential\"\n",
            "_________________________________________________________________\n",
            " Layer (type)                Output Shape              Param #   \n",
            "=================================================================\n",
            " embedding (Embedding)       (None, 100, 300)          2660100   \n",
            "                                                                 \n",
            " conv1d (Conv1D)             (None, 100, 128)          115328    \n",
            "                                                                 \n",
            " dropout (Dropout)           (None, 100, 128)          0         \n",
            "                                                                 \n",
            " max_pooling1d (MaxPooling1D  (None, 50, 128)          0         \n",
            " )                                                               \n",
            "                                                                 \n",
            " flatten (Flatten)           (None, 6400)              0         \n",
            "                                                                 \n",
            " dense (Dense)               (None, 64)                409664    \n",
            "                                                                 \n",
            " dropout_1 (Dropout)         (None, 64)                0         \n",
            "                                                                 \n",
            " dense_1 (Dense)             (None, 2)                 130       \n",
            "                                                                 \n",
            "=================================================================\n",
            "Total params: 3,185,222\n",
            "Trainable params: 3,185,222\n",
            "Non-trainable params: 0\n",
            "_________________________________________________________________\n"
          ]
        }
      ]
    },
    {
      "cell_type": "code",
      "source": [
        "# https://stackoverflow.com/questions/62707558/importerror-cannot-import-name-adam-from-keras-optimizers\n",
        "from tensorflow.keras.optimizers import Adam\n",
        "CNN1_network.compile(loss = \"binary_crossentropy\", optimizer=Adam(lr=0.00003), metrics=[\"accuracy\"])"
      ],
      "metadata": {
        "colab": {
          "base_uri": "https://localhost:8080/"
        },
        "id": "uhrug6aYT0dU",
        "outputId": "16eabbf8-8101-4798-ebd2-f281533d4a95"
      },
      "execution_count": null,
      "outputs": [
        {
          "output_type": "stream",
          "name": "stderr",
          "text": [
            "/usr/local/lib/python3.7/dist-packages/keras/optimizer_v2/adam.py:105: UserWarning: The `lr` argument is deprecated, use `learning_rate` instead.\n",
            "  super(Adam, self).__init__(name, **kwargs)\n"
          ]
        }
      ]
    },
    {
      "cell_type": "code",
      "source": [
        "from keras.utils.vis_utils import plot_model\n",
        "plot_model(CNN1_network, to_file='CNN2_model_GERMEVAL2018_Task_A.png', show_shapes=True, show_layer_names=True)\n",
        "\n",
        "from keras.callbacks import EarlyStopping, ReduceLROnPlateau,ModelCheckpoint\n",
        "earlystopper = EarlyStopping(patience=8, verbose=1)\n",
        "\n",
        "reduce_lr = ReduceLROnPlateau(monitor='val_loss', factor=0.9,\n",
        "                              patience=2, min_lr=0.00001, verbose=1)\n",
        "\n"
      ],
      "metadata": {
        "id": "dt59qzVBT05I"
      },
      "execution_count": null,
      "outputs": []
    },
    {
      "cell_type": "code",
      "source": [
        "\n",
        "\n",
        "from keras.callbacks import EarlyStopping, ReduceLROnPlateau,ModelCheckpoint\n",
        "earlystopper = EarlyStopping(patience=8, verbose=1)\n",
        "\n",
        "reduce_lr = ReduceLROnPlateau(monitor='val_loss', factor=0.9,\n",
        "                              patience=2, min_lr=0.00001, verbose=1)\n",
        "\n"
      ],
      "metadata": {
        "id": "OcgGKGXRUYKs"
      },
      "execution_count": null,
      "outputs": []
    },
    {
      "cell_type": "markdown",
      "source": [
        "# Model Fitting or Training\n"
      ],
      "metadata": {
        "id": "ZzMJN4vKUauw"
      }
    },
    {
      "cell_type": "code",
      "source": [
        "hist = CNN1_network.fit(padded_clean_text_stem,label_twoDimension,epochs=200,batch_size=32,callbacks=[earlystopper, reduce_lr])"
      ],
      "metadata": {
        "colab": {
          "base_uri": "https://localhost:8080/"
        },
        "id": "0FdQuhx4ZP6B",
        "outputId": "4bdf9fe0-463e-4fb3-c828-6a76fc71d5c3"
      },
      "execution_count": null,
      "outputs": [
        {
          "output_type": "stream",
          "name": "stdout",
          "text": [
            "Epoch 1/200\n",
            "75/75 [==============================] - ETA: 0s - loss: 0.6568 - accuracy: 0.7134"
          ]
        },
        {
          "output_type": "stream",
          "name": "stderr",
          "text": [
            "WARNING:tensorflow:Early stopping conditioned on metric `val_loss` which is not available. Available metrics are: loss,accuracy\n",
            "WARNING:tensorflow:Learning rate reduction is conditioned on metric `val_loss` which is not available. Available metrics are: loss,accuracy,lr\n"
          ]
        },
        {
          "output_type": "stream",
          "name": "stdout",
          "text": [
            "\b\b\b\b\b\b\b\b\b\b\b\b\b\b\b\b\b\b\b\b\b\b\b\b\b\b\b\b\b\b\b\b\b\b\b\b\b\b\b\b\b\b\b\b\b\b\b\b\b\b\b\b\b\b\b\b\b\b\b\b\b\b\b\b\b\b\b\b\b\b\b\b\b\b\b\b\b\b\b\b\b\b\r75/75 [==============================] - 13s 7ms/step - loss: 0.6568 - accuracy: 0.7134 - lr: 3.0000e-05\n",
            "Epoch 2/200\n",
            "69/75 [==========================>...] - ETA: 0s - loss: 0.6016 - accuracy: 0.7129"
          ]
        },
        {
          "output_type": "stream",
          "name": "stderr",
          "text": [
            "WARNING:tensorflow:Early stopping conditioned on metric `val_loss` which is not available. Available metrics are: loss,accuracy\n",
            "WARNING:tensorflow:Learning rate reduction is conditioned on metric `val_loss` which is not available. Available metrics are: loss,accuracy,lr\n"
          ]
        },
        {
          "output_type": "stream",
          "name": "stdout",
          "text": [
            "\b\b\b\b\b\b\b\b\b\b\b\b\b\b\b\b\b\b\b\b\b\b\b\b\b\b\b\b\b\b\b\b\b\b\b\b\b\b\b\b\b\b\b\b\b\b\b\b\b\b\b\b\b\b\b\b\b\b\b\b\b\b\b\b\b\b\b\b\b\b\b\b\b\b\b\b\b\b\b\b\b\b\r75/75 [==============================] - 0s 6ms/step - loss: 0.5979 - accuracy: 0.7164 - lr: 3.0000e-05\n",
            "Epoch 3/200\n",
            "67/75 [=========================>....] - ETA: 0s - loss: 0.5895 - accuracy: 0.7169"
          ]
        },
        {
          "output_type": "stream",
          "name": "stderr",
          "text": [
            "WARNING:tensorflow:Early stopping conditioned on metric `val_loss` which is not available. Available metrics are: loss,accuracy\n",
            "WARNING:tensorflow:Learning rate reduction is conditioned on metric `val_loss` which is not available. Available metrics are: loss,accuracy,lr\n"
          ]
        },
        {
          "output_type": "stream",
          "name": "stdout",
          "text": [
            "\b\b\b\b\b\b\b\b\b\b\b\b\b\b\b\b\b\b\b\b\b\b\b\b\b\b\b\b\b\b\b\b\b\b\b\b\b\b\b\b\b\b\b\b\b\b\b\b\b\b\b\b\b\b\b\b\b\b\b\b\b\b\b\b\b\b\b\b\b\b\b\b\b\b\b\b\b\b\b\b\b\b\r75/75 [==============================] - 0s 6ms/step - loss: 0.5900 - accuracy: 0.7164 - lr: 3.0000e-05\n",
            "Epoch 4/200\n",
            "71/75 [===========================>..] - ETA: 0s - loss: 0.5882 - accuracy: 0.7139"
          ]
        },
        {
          "output_type": "stream",
          "name": "stderr",
          "text": [
            "WARNING:tensorflow:Early stopping conditioned on metric `val_loss` which is not available. Available metrics are: loss,accuracy\n",
            "WARNING:tensorflow:Learning rate reduction is conditioned on metric `val_loss` which is not available. Available metrics are: loss,accuracy,lr\n"
          ]
        },
        {
          "output_type": "stream",
          "name": "stdout",
          "text": [
            "\b\b\b\b\b\b\b\b\b\b\b\b\b\b\b\b\b\b\b\b\b\b\b\b\b\b\b\b\b\b\b\b\b\b\b\b\b\b\b\b\b\b\b\b\b\b\b\b\b\b\b\b\b\b\b\b\b\b\b\b\b\b\b\b\b\b\b\b\b\b\b\b\b\b\b\b\b\b\b\b\b\b\r75/75 [==============================] - 0s 5ms/step - loss: 0.5860 - accuracy: 0.7164 - lr: 3.0000e-05\n",
            "Epoch 5/200\n",
            "68/75 [==========================>...] - ETA: 0s - loss: 0.5777 - accuracy: 0.7165"
          ]
        },
        {
          "output_type": "stream",
          "name": "stderr",
          "text": [
            "WARNING:tensorflow:Early stopping conditioned on metric `val_loss` which is not available. Available metrics are: loss,accuracy\n",
            "WARNING:tensorflow:Learning rate reduction is conditioned on metric `val_loss` which is not available. Available metrics are: loss,accuracy,lr\n"
          ]
        },
        {
          "output_type": "stream",
          "name": "stdout",
          "text": [
            "\b\b\b\b\b\b\b\b\b\b\b\b\b\b\b\b\b\b\b\b\b\b\b\b\b\b\b\b\b\b\b\b\b\b\b\b\b\b\b\b\b\b\b\b\b\b\b\b\b\b\b\b\b\b\b\b\b\b\b\b\b\b\b\b\b\b\b\b\b\b\b\b\b\b\b\b\b\b\b\b\b\b\r75/75 [==============================] - 0s 6ms/step - loss: 0.5781 - accuracy: 0.7164 - lr: 3.0000e-05\n",
            "Epoch 6/200\n",
            "69/75 [==========================>...] - ETA: 0s - loss: 0.5740 - accuracy: 0.7156"
          ]
        },
        {
          "output_type": "stream",
          "name": "stderr",
          "text": [
            "WARNING:tensorflow:Early stopping conditioned on metric `val_loss` which is not available. Available metrics are: loss,accuracy\n",
            "WARNING:tensorflow:Learning rate reduction is conditioned on metric `val_loss` which is not available. Available metrics are: loss,accuracy,lr\n"
          ]
        },
        {
          "output_type": "stream",
          "name": "stdout",
          "text": [
            "\b\b\b\b\b\b\b\b\b\b\b\b\b\b\b\b\b\b\b\b\b\b\b\b\b\b\b\b\b\b\b\b\b\b\b\b\b\b\b\b\b\b\b\b\b\b\b\b\b\b\b\b\b\b\b\b\b\b\b\b\b\b\b\b\b\b\b\b\b\b\b\b\b\b\b\b\b\b\b\b\b\b\r75/75 [==============================] - 0s 6ms/step - loss: 0.5728 - accuracy: 0.7164 - lr: 3.0000e-05\n",
            "Epoch 7/200\n",
            "69/75 [==========================>...] - ETA: 0s - loss: 0.5686 - accuracy: 0.7124"
          ]
        },
        {
          "output_type": "stream",
          "name": "stderr",
          "text": [
            "WARNING:tensorflow:Early stopping conditioned on metric `val_loss` which is not available. Available metrics are: loss,accuracy\n",
            "WARNING:tensorflow:Learning rate reduction is conditioned on metric `val_loss` which is not available. Available metrics are: loss,accuracy,lr\n"
          ]
        },
        {
          "output_type": "stream",
          "name": "stdout",
          "text": [
            "\b\b\b\b\b\b\b\b\b\b\b\b\b\b\b\b\b\b\b\b\b\b\b\b\b\b\b\b\b\b\b\b\b\b\b\b\b\b\b\b\b\b\b\b\b\b\b\b\b\b\b\b\b\b\b\b\b\b\b\b\b\b\b\b\b\b\b\b\b\b\b\b\b\b\b\b\b\b\b\b\b\b\r75/75 [==============================] - 0s 5ms/step - loss: 0.5651 - accuracy: 0.7164 - lr: 3.0000e-05\n",
            "Epoch 8/200\n",
            "69/75 [==========================>...] - ETA: 0s - loss: 0.5512 - accuracy: 0.7174"
          ]
        },
        {
          "output_type": "stream",
          "name": "stderr",
          "text": [
            "WARNING:tensorflow:Early stopping conditioned on metric `val_loss` which is not available. Available metrics are: loss,accuracy\n",
            "WARNING:tensorflow:Learning rate reduction is conditioned on metric `val_loss` which is not available. Available metrics are: loss,accuracy,lr\n"
          ]
        },
        {
          "output_type": "stream",
          "name": "stdout",
          "text": [
            "\b\b\b\b\b\b\b\b\b\b\b\b\b\b\b\b\b\b\b\b\b\b\b\b\b\b\b\b\b\b\b\b\b\b\b\b\b\b\b\b\b\b\b\b\b\b\b\b\b\b\b\b\b\b\b\b\b\b\b\b\b\b\b\b\b\b\b\b\b\b\b\b\b\b\b\b\b\b\b\b\b\b\r75/75 [==============================] - 0s 5ms/step - loss: 0.5516 - accuracy: 0.7164 - lr: 3.0000e-05\n",
            "Epoch 9/200\n",
            "71/75 [===========================>..] - ETA: 0s - loss: 0.5345 - accuracy: 0.7179"
          ]
        },
        {
          "output_type": "stream",
          "name": "stderr",
          "text": [
            "WARNING:tensorflow:Early stopping conditioned on metric `val_loss` which is not available. Available metrics are: loss,accuracy\n",
            "WARNING:tensorflow:Learning rate reduction is conditioned on metric `val_loss` which is not available. Available metrics are: loss,accuracy,lr\n"
          ]
        },
        {
          "output_type": "stream",
          "name": "stdout",
          "text": [
            "\b\b\b\b\b\b\b\b\b\b\b\b\b\b\b\b\b\b\b\b\b\b\b\b\b\b\b\b\b\b\b\b\b\b\b\b\b\b\b\b\b\b\b\b\b\b\b\b\b\b\b\b\b\b\b\b\b\b\b\b\b\b\b\b\b\b\b\b\b\b\b\b\b\b\b\b\b\b\b\b\b\b\r75/75 [==============================] - 0s 5ms/step - loss: 0.5351 - accuracy: 0.7172 - lr: 3.0000e-05\n",
            "Epoch 10/200\n",
            "71/75 [===========================>..] - ETA: 0s - loss: 0.5108 - accuracy: 0.7346"
          ]
        },
        {
          "output_type": "stream",
          "name": "stderr",
          "text": [
            "WARNING:tensorflow:Early stopping conditioned on metric `val_loss` which is not available. Available metrics are: loss,accuracy\n",
            "WARNING:tensorflow:Learning rate reduction is conditioned on metric `val_loss` which is not available. Available metrics are: loss,accuracy,lr\n"
          ]
        },
        {
          "output_type": "stream",
          "name": "stdout",
          "text": [
            "\b\b\b\b\b\b\b\b\b\b\b\b\b\b\b\b\b\b\b\b\b\b\b\b\b\b\b\b\b\b\b\b\b\b\b\b\b\b\b\b\b\b\b\b\b\b\b\b\b\b\b\b\b\b\b\b\b\b\b\b\b\b\b\b\b\b\b\b\b\b\b\b\b\b\b\b\b\b\b\b\b\b\r75/75 [==============================] - 0s 5ms/step - loss: 0.5135 - accuracy: 0.7316 - lr: 3.0000e-05\n",
            "Epoch 11/200\n",
            "67/75 [=========================>....] - ETA: 0s - loss: 0.4898 - accuracy: 0.7495"
          ]
        },
        {
          "output_type": "stream",
          "name": "stderr",
          "text": [
            "WARNING:tensorflow:Early stopping conditioned on metric `val_loss` which is not available. Available metrics are: loss,accuracy\n",
            "WARNING:tensorflow:Learning rate reduction is conditioned on metric `val_loss` which is not available. Available metrics are: loss,accuracy,lr\n"
          ]
        },
        {
          "output_type": "stream",
          "name": "stdout",
          "text": [
            "\b\b\b\b\b\b\b\b\b\b\b\b\b\b\b\b\b\b\b\b\b\b\b\b\b\b\b\b\b\b\b\b\b\b\b\b\b\b\b\b\b\b\b\b\b\b\b\b\b\b\b\b\b\b\b\b\b\b\b\b\b\b\b\b\b\b\b\b\b\b\b\b\b\b\b\b\b\b\b\b\b\b\r75/75 [==============================] - 0s 6ms/step - loss: 0.4886 - accuracy: 0.7501 - lr: 3.0000e-05\n",
            "Epoch 12/200\n",
            "70/75 [===========================>..] - ETA: 0s - loss: 0.4589 - accuracy: 0.7781"
          ]
        },
        {
          "output_type": "stream",
          "name": "stderr",
          "text": [
            "WARNING:tensorflow:Early stopping conditioned on metric `val_loss` which is not available. Available metrics are: loss,accuracy\n",
            "WARNING:tensorflow:Learning rate reduction is conditioned on metric `val_loss` which is not available. Available metrics are: loss,accuracy,lr\n"
          ]
        },
        {
          "output_type": "stream",
          "name": "stdout",
          "text": [
            "\b\b\b\b\b\b\b\b\b\b\b\b\b\b\b\b\b\b\b\b\b\b\b\b\b\b\b\b\b\b\b\b\b\b\b\b\b\b\b\b\b\b\b\b\b\b\b\b\b\b\b\b\b\b\b\b\b\b\b\b\b\b\b\b\b\b\b\b\b\b\b\b\b\b\b\b\b\b\b\b\b\b\r75/75 [==============================] - 0s 5ms/step - loss: 0.4587 - accuracy: 0.7771 - lr: 3.0000e-05\n",
            "Epoch 13/200\n",
            "69/75 [==========================>...] - ETA: 0s - loss: 0.4268 - accuracy: 0.8048"
          ]
        },
        {
          "output_type": "stream",
          "name": "stderr",
          "text": [
            "WARNING:tensorflow:Early stopping conditioned on metric `val_loss` which is not available. Available metrics are: loss,accuracy\n",
            "WARNING:tensorflow:Learning rate reduction is conditioned on metric `val_loss` which is not available. Available metrics are: loss,accuracy,lr\n"
          ]
        },
        {
          "output_type": "stream",
          "name": "stdout",
          "text": [
            "\b\b\b\b\b\b\b\b\b\b\b\b\b\b\b\b\b\b\b\b\b\b\b\b\b\b\b\b\b\b\b\b\b\b\b\b\b\b\b\b\b\b\b\b\b\b\b\b\b\b\b\b\b\b\b\b\b\b\b\b\b\b\b\b\b\b\b\b\b\b\b\b\b\b\b\b\b\b\b\b\b\b\r75/75 [==============================] - 0s 6ms/step - loss: 0.4245 - accuracy: 0.8074 - lr: 3.0000e-05\n",
            "Epoch 14/200\n",
            "70/75 [===========================>..] - ETA: 0s - loss: 0.3919 - accuracy: 0.8335"
          ]
        },
        {
          "output_type": "stream",
          "name": "stderr",
          "text": [
            "WARNING:tensorflow:Early stopping conditioned on metric `val_loss` which is not available. Available metrics are: loss,accuracy\n",
            "WARNING:tensorflow:Learning rate reduction is conditioned on metric `val_loss` which is not available. Available metrics are: loss,accuracy,lr\n"
          ]
        },
        {
          "output_type": "stream",
          "name": "stdout",
          "text": [
            "\b\b\b\b\b\b\b\b\b\b\b\b\b\b\b\b\b\b\b\b\b\b\b\b\b\b\b\b\b\b\b\b\b\b\b\b\b\b\b\b\b\b\b\b\b\b\b\b\b\b\b\b\b\b\b\b\b\b\b\b\b\b\b\b\b\b\b\b\b\b\b\b\b\b\b\b\b\b\b\b\b\b\r75/75 [==============================] - 0s 6ms/step - loss: 0.3885 - accuracy: 0.8365 - lr: 3.0000e-05\n",
            "Epoch 15/200\n",
            "68/75 [==========================>...] - ETA: 0s - loss: 0.3476 - accuracy: 0.8594"
          ]
        },
        {
          "output_type": "stream",
          "name": "stderr",
          "text": [
            "WARNING:tensorflow:Early stopping conditioned on metric `val_loss` which is not available. Available metrics are: loss,accuracy\n",
            "WARNING:tensorflow:Learning rate reduction is conditioned on metric `val_loss` which is not available. Available metrics are: loss,accuracy,lr\n"
          ]
        },
        {
          "output_type": "stream",
          "name": "stdout",
          "text": [
            "\b\b\b\b\b\b\b\b\b\b\b\b\b\b\b\b\b\b\b\b\b\b\b\b\b\b\b\b\b\b\b\b\b\b\b\b\b\b\b\b\b\b\b\b\b\b\b\b\b\b\b\b\b\b\b\b\b\b\b\b\b\b\b\b\b\b\b\b\b\b\b\b\b\b\b\b\b\b\b\b\b\b\r75/75 [==============================] - 0s 6ms/step - loss: 0.3510 - accuracy: 0.8559 - lr: 3.0000e-05\n",
            "Epoch 16/200\n",
            "69/75 [==========================>...] - ETA: 0s - loss: 0.3254 - accuracy: 0.8791"
          ]
        },
        {
          "output_type": "stream",
          "name": "stderr",
          "text": [
            "WARNING:tensorflow:Early stopping conditioned on metric `val_loss` which is not available. Available metrics are: loss,accuracy\n",
            "WARNING:tensorflow:Learning rate reduction is conditioned on metric `val_loss` which is not available. Available metrics are: loss,accuracy,lr\n"
          ]
        },
        {
          "output_type": "stream",
          "name": "stdout",
          "text": [
            "\b\b\b\b\b\b\b\b\b\b\b\b\b\b\b\b\b\b\b\b\b\b\b\b\b\b\b\b\b\b\b\b\b\b\b\b\b\b\b\b\b\b\b\b\b\b\b\b\b\b\b\b\b\b\b\b\b\b\b\b\b\b\b\b\b\b\b\b\b\b\b\b\b\b\b\b\b\b\b\b\b\b\r75/75 [==============================] - 0s 6ms/step - loss: 0.3232 - accuracy: 0.8803 - lr: 3.0000e-05\n",
            "Epoch 17/200\n",
            "71/75 [===========================>..] - ETA: 0s - loss: 0.2936 - accuracy: 0.8886"
          ]
        },
        {
          "output_type": "stream",
          "name": "stderr",
          "text": [
            "WARNING:tensorflow:Early stopping conditioned on metric `val_loss` which is not available. Available metrics are: loss,accuracy\n",
            "WARNING:tensorflow:Learning rate reduction is conditioned on metric `val_loss` which is not available. Available metrics are: loss,accuracy,lr\n"
          ]
        },
        {
          "output_type": "stream",
          "name": "stdout",
          "text": [
            "\b\b\b\b\b\b\b\b\b\b\b\b\b\b\b\b\b\b\b\b\b\b\b\b\b\b\b\b\b\b\b\b\b\b\b\b\b\b\b\b\b\b\b\b\b\b\b\b\b\b\b\b\b\b\b\b\b\b\b\b\b\b\b\b\b\b\b\b\b\b\b\b\b\b\b\b\b\b\b\b\b\b\r75/75 [==============================] - 0s 5ms/step - loss: 0.2933 - accuracy: 0.8879 - lr: 3.0000e-05\n",
            "Epoch 18/200\n",
            "69/75 [==========================>...] - ETA: 0s - loss: 0.2666 - accuracy: 0.8999"
          ]
        },
        {
          "output_type": "stream",
          "name": "stderr",
          "text": [
            "WARNING:tensorflow:Early stopping conditioned on metric `val_loss` which is not available. Available metrics are: loss,accuracy\n",
            "WARNING:tensorflow:Learning rate reduction is conditioned on metric `val_loss` which is not available. Available metrics are: loss,accuracy,lr\n"
          ]
        },
        {
          "output_type": "stream",
          "name": "stdout",
          "text": [
            "\b\b\b\b\b\b\b\b\b\b\b\b\b\b\b\b\b\b\b\b\b\b\b\b\b\b\b\b\b\b\b\b\b\b\b\b\b\b\b\b\b\b\b\b\b\b\b\b\b\b\b\b\b\b\b\b\b\b\b\b\b\b\b\b\b\b\b\b\b\b\b\b\b\b\b\b\b\b\b\b\b\b\r75/75 [==============================] - 0s 5ms/step - loss: 0.2689 - accuracy: 0.8989 - lr: 3.0000e-05\n",
            "Epoch 19/200\n",
            "68/75 [==========================>...] - ETA: 0s - loss: 0.2409 - accuracy: 0.9127"
          ]
        },
        {
          "output_type": "stream",
          "name": "stderr",
          "text": [
            "WARNING:tensorflow:Early stopping conditioned on metric `val_loss` which is not available. Available metrics are: loss,accuracy\n",
            "WARNING:tensorflow:Learning rate reduction is conditioned on metric `val_loss` which is not available. Available metrics are: loss,accuracy,lr\n"
          ]
        },
        {
          "output_type": "stream",
          "name": "stdout",
          "text": [
            "\b\b\b\b\b\b\b\b\b\b\b\b\b\b\b\b\b\b\b\b\b\b\b\b\b\b\b\b\b\b\b\b\b\b\b\b\b\b\b\b\b\b\b\b\b\b\b\b\b\b\b\b\b\b\b\b\b\b\b\b\b\b\b\b\b\b\b\b\b\b\b\b\b\b\b\b\b\b\b\b\b\b\r75/75 [==============================] - 0s 6ms/step - loss: 0.2411 - accuracy: 0.9128 - lr: 3.0000e-05\n",
            "Epoch 20/200\n",
            "71/75 [===========================>..] - ETA: 0s - loss: 0.2206 - accuracy: 0.9195"
          ]
        },
        {
          "output_type": "stream",
          "name": "stderr",
          "text": [
            "WARNING:tensorflow:Early stopping conditioned on metric `val_loss` which is not available. Available metrics are: loss,accuracy\n",
            "WARNING:tensorflow:Learning rate reduction is conditioned on metric `val_loss` which is not available. Available metrics are: loss,accuracy,lr\n"
          ]
        },
        {
          "output_type": "stream",
          "name": "stdout",
          "text": [
            "\b\b\b\b\b\b\b\b\b\b\b\b\b\b\b\b\b\b\b\b\b\b\b\b\b\b\b\b\b\b\b\b\b\b\b\b\b\b\b\b\b\b\b\b\b\b\b\b\b\b\b\b\b\b\b\b\b\b\b\b\b\b\b\b\b\b\b\b\b\b\b\b\b\b\b\b\b\b\b\b\b\b\r75/75 [==============================] - 0s 6ms/step - loss: 0.2204 - accuracy: 0.9195 - lr: 3.0000e-05\n",
            "Epoch 21/200\n",
            "71/75 [===========================>..] - ETA: 0s - loss: 0.2043 - accuracy: 0.9287"
          ]
        },
        {
          "output_type": "stream",
          "name": "stderr",
          "text": [
            "WARNING:tensorflow:Early stopping conditioned on metric `val_loss` which is not available. Available metrics are: loss,accuracy\n",
            "WARNING:tensorflow:Learning rate reduction is conditioned on metric `val_loss` which is not available. Available metrics are: loss,accuracy,lr\n"
          ]
        },
        {
          "output_type": "stream",
          "name": "stdout",
          "text": [
            "\b\b\b\b\b\b\b\b\b\b\b\b\b\b\b\b\b\b\b\b\b\b\b\b\b\b\b\b\b\b\b\b\b\b\b\b\b\b\b\b\b\b\b\b\b\b\b\b\b\b\b\b\b\b\b\b\b\b\b\b\b\b\b\b\b\b\b\b\b\b\b\b\b\b\b\b\b\b\b\b\b\b\r75/75 [==============================] - 0s 5ms/step - loss: 0.2054 - accuracy: 0.9279 - lr: 3.0000e-05\n",
            "Epoch 22/200\n",
            "70/75 [===========================>..] - ETA: 0s - loss: 0.1829 - accuracy: 0.9393"
          ]
        },
        {
          "output_type": "stream",
          "name": "stderr",
          "text": [
            "WARNING:tensorflow:Early stopping conditioned on metric `val_loss` which is not available. Available metrics are: loss,accuracy\n",
            "WARNING:tensorflow:Learning rate reduction is conditioned on metric `val_loss` which is not available. Available metrics are: loss,accuracy,lr\n"
          ]
        },
        {
          "output_type": "stream",
          "name": "stdout",
          "text": [
            "\b\b\b\b\b\b\b\b\b\b\b\b\b\b\b\b\b\b\b\b\b\b\b\b\b\b\b\b\b\b\b\b\b\b\b\b\b\b\b\b\b\b\b\b\b\b\b\b\b\b\b\b\b\b\b\b\b\b\b\b\b\b\b\b\b\b\b\b\b\b\b\b\b\b\b\b\b\b\b\b\b\b\r75/75 [==============================] - 0s 5ms/step - loss: 0.1822 - accuracy: 0.9393 - lr: 3.0000e-05\n",
            "Epoch 23/200\n",
            "69/75 [==========================>...] - ETA: 0s - loss: 0.1721 - accuracy: 0.9407"
          ]
        },
        {
          "output_type": "stream",
          "name": "stderr",
          "text": [
            "WARNING:tensorflow:Early stopping conditioned on metric `val_loss` which is not available. Available metrics are: loss,accuracy\n",
            "WARNING:tensorflow:Learning rate reduction is conditioned on metric `val_loss` which is not available. Available metrics are: loss,accuracy,lr\n"
          ]
        },
        {
          "output_type": "stream",
          "name": "stdout",
          "text": [
            "\b\b\b\b\b\b\b\b\b\b\b\b\b\b\b\b\b\b\b\b\b\b\b\b\b\b\b\b\b\b\b\b\b\b\b\b\b\b\b\b\b\b\b\b\b\b\b\b\b\b\b\b\b\b\b\b\b\b\b\b\b\b\b\b\b\b\b\b\b\b\b\b\b\b\b\b\b\b\b\b\b\b\r75/75 [==============================] - 0s 6ms/step - loss: 0.1673 - accuracy: 0.9435 - lr: 3.0000e-05\n",
            "Epoch 24/200\n",
            "68/75 [==========================>...] - ETA: 0s - loss: 0.1490 - accuracy: 0.9527"
          ]
        },
        {
          "output_type": "stream",
          "name": "stderr",
          "text": [
            "WARNING:tensorflow:Early stopping conditioned on metric `val_loss` which is not available. Available metrics are: loss,accuracy\n",
            "WARNING:tensorflow:Learning rate reduction is conditioned on metric `val_loss` which is not available. Available metrics are: loss,accuracy,lr\n"
          ]
        },
        {
          "output_type": "stream",
          "name": "stdout",
          "text": [
            "\b\b\b\b\b\b\b\b\b\b\b\b\b\b\b\b\b\b\b\b\b\b\b\b\b\b\b\b\b\b\b\b\b\b\b\b\b\b\b\b\b\b\b\b\b\b\b\b\b\b\b\b\b\b\b\b\b\b\b\b\b\b\b\b\b\b\b\b\b\b\b\b\b\b\b\b\b\b\b\b\b\b\r75/75 [==============================] - 0s 6ms/step - loss: 0.1497 - accuracy: 0.9524 - lr: 3.0000e-05\n",
            "Epoch 25/200\n",
            "69/75 [==========================>...] - ETA: 0s - loss: 0.1333 - accuracy: 0.9588"
          ]
        },
        {
          "output_type": "stream",
          "name": "stderr",
          "text": [
            "WARNING:tensorflow:Early stopping conditioned on metric `val_loss` which is not available. Available metrics are: loss,accuracy\n",
            "WARNING:tensorflow:Learning rate reduction is conditioned on metric `val_loss` which is not available. Available metrics are: loss,accuracy,lr\n"
          ]
        },
        {
          "output_type": "stream",
          "name": "stdout",
          "text": [
            "\b\b\b\b\b\b\b\b\b\b\b\b\b\b\b\b\b\b\b\b\b\b\b\b\b\b\b\b\b\b\b\b\b\b\b\b\b\b\b\b\b\b\b\b\b\b\b\b\b\b\b\b\b\b\b\b\b\b\b\b\b\b\b\b\b\b\b\b\b\b\b\b\b\b\b\b\b\b\b\b\b\b\r75/75 [==============================] - 0s 6ms/step - loss: 0.1355 - accuracy: 0.9583 - lr: 3.0000e-05\n",
            "Epoch 26/200\n",
            "70/75 [===========================>..] - ETA: 0s - loss: 0.1240 - accuracy: 0.9647"
          ]
        },
        {
          "output_type": "stream",
          "name": "stderr",
          "text": [
            "WARNING:tensorflow:Early stopping conditioned on metric `val_loss` which is not available. Available metrics are: loss,accuracy\n",
            "WARNING:tensorflow:Learning rate reduction is conditioned on metric `val_loss` which is not available. Available metrics are: loss,accuracy,lr\n"
          ]
        },
        {
          "output_type": "stream",
          "name": "stdout",
          "text": [
            "\b\b\b\b\b\b\b\b\b\b\b\b\b\b\b\b\b\b\b\b\b\b\b\b\b\b\b\b\b\b\b\b\b\b\b\b\b\b\b\b\b\b\b\b\b\b\b\b\b\b\b\b\b\b\b\b\b\b\b\b\b\b\b\b\b\b\b\b\b\b\b\b\b\b\b\b\b\b\b\b\b\b\r75/75 [==============================] - 0s 5ms/step - loss: 0.1261 - accuracy: 0.9646 - lr: 3.0000e-05\n",
            "Epoch 27/200\n",
            "67/75 [=========================>....] - ETA: 0s - loss: 0.1105 - accuracy: 0.9678"
          ]
        },
        {
          "output_type": "stream",
          "name": "stderr",
          "text": [
            "WARNING:tensorflow:Early stopping conditioned on metric `val_loss` which is not available. Available metrics are: loss,accuracy\n",
            "WARNING:tensorflow:Learning rate reduction is conditioned on metric `val_loss` which is not available. Available metrics are: loss,accuracy,lr\n"
          ]
        },
        {
          "output_type": "stream",
          "name": "stdout",
          "text": [
            "\b\b\b\b\b\b\b\b\b\b\b\b\b\b\b\b\b\b\b\b\b\b\b\b\b\b\b\b\b\b\b\b\b\b\b\b\b\b\b\b\b\b\b\b\b\b\b\b\b\b\b\b\b\b\b\b\b\b\b\b\b\b\b\b\b\b\b\b\b\b\b\b\b\b\b\b\b\b\b\b\b\b\r75/75 [==============================] - 0s 6ms/step - loss: 0.1102 - accuracy: 0.9676 - lr: 3.0000e-05\n",
            "Epoch 28/200\n",
            "68/75 [==========================>...] - ETA: 0s - loss: 0.1026 - accuracy: 0.9729"
          ]
        },
        {
          "output_type": "stream",
          "name": "stderr",
          "text": [
            "WARNING:tensorflow:Early stopping conditioned on metric `val_loss` which is not available. Available metrics are: loss,accuracy\n",
            "WARNING:tensorflow:Learning rate reduction is conditioned on metric `val_loss` which is not available. Available metrics are: loss,accuracy,lr\n"
          ]
        },
        {
          "output_type": "stream",
          "name": "stdout",
          "text": [
            "\b\b\b\b\b\b\b\b\b\b\b\b\b\b\b\b\b\b\b\b\b\b\b\b\b\b\b\b\b\b\b\b\b\b\b\b\b\b\b\b\b\b\b\b\b\b\b\b\b\b\b\b\b\b\b\b\b\b\b\b\b\b\b\b\b\b\b\b\b\b\b\b\b\b\b\b\b\b\b\b\b\b\r75/75 [==============================] - 0s 6ms/step - loss: 0.1035 - accuracy: 0.9722 - lr: 3.0000e-05\n",
            "Epoch 29/200\n",
            "70/75 [===========================>..] - ETA: 0s - loss: 0.0966 - accuracy: 0.9746"
          ]
        },
        {
          "output_type": "stream",
          "name": "stderr",
          "text": [
            "WARNING:tensorflow:Early stopping conditioned on metric `val_loss` which is not available. Available metrics are: loss,accuracy\n",
            "WARNING:tensorflow:Learning rate reduction is conditioned on metric `val_loss` which is not available. Available metrics are: loss,accuracy,lr\n"
          ]
        },
        {
          "output_type": "stream",
          "name": "stdout",
          "text": [
            "\b\b\b\b\b\b\b\b\b\b\b\b\b\b\b\b\b\b\b\b\b\b\b\b\b\b\b\b\b\b\b\b\b\b\b\b\b\b\b\b\b\b\b\b\b\b\b\b\b\b\b\b\b\b\b\b\b\b\b\b\b\b\b\b\b\b\b\b\b\b\b\b\b\b\b\b\b\b\b\b\b\b\r75/75 [==============================] - 0s 5ms/step - loss: 0.0971 - accuracy: 0.9747 - lr: 3.0000e-05\n",
            "Epoch 30/200\n",
            "68/75 [==========================>...] - ETA: 0s - loss: 0.0876 - accuracy: 0.9766"
          ]
        },
        {
          "output_type": "stream",
          "name": "stderr",
          "text": [
            "WARNING:tensorflow:Early stopping conditioned on metric `val_loss` which is not available. Available metrics are: loss,accuracy\n",
            "WARNING:tensorflow:Learning rate reduction is conditioned on metric `val_loss` which is not available. Available metrics are: loss,accuracy,lr\n"
          ]
        },
        {
          "output_type": "stream",
          "name": "stdout",
          "text": [
            "\b\b\b\b\b\b\b\b\b\b\b\b\b\b\b\b\b\b\b\b\b\b\b\b\b\b\b\b\b\b\b\b\b\b\b\b\b\b\b\b\b\b\b\b\b\b\b\b\b\b\b\b\b\b\b\b\b\b\b\b\b\b\b\b\b\b\b\b\b\b\b\b\b\b\b\b\b\b\b\b\b\b\r75/75 [==============================] - 0s 6ms/step - loss: 0.0853 - accuracy: 0.9777 - lr: 3.0000e-05\n",
            "Epoch 31/200\n",
            "69/75 [==========================>...] - ETA: 0s - loss: 0.0758 - accuracy: 0.9841"
          ]
        },
        {
          "output_type": "stream",
          "name": "stderr",
          "text": [
            "WARNING:tensorflow:Early stopping conditioned on metric `val_loss` which is not available. Available metrics are: loss,accuracy\n",
            "WARNING:tensorflow:Learning rate reduction is conditioned on metric `val_loss` which is not available. Available metrics are: loss,accuracy,lr\n"
          ]
        },
        {
          "output_type": "stream",
          "name": "stdout",
          "text": [
            "\b\b\b\b\b\b\b\b\b\b\b\b\b\b\b\b\b\b\b\b\b\b\b\b\b\b\b\b\b\b\b\b\b\b\b\b\b\b\b\b\b\b\b\b\b\b\b\b\b\b\b\b\b\b\b\b\b\b\b\b\b\b\b\b\b\b\b\b\b\b\b\b\b\b\b\b\b\b\b\b\b\b\r75/75 [==============================] - 0s 5ms/step - loss: 0.0764 - accuracy: 0.9836 - lr: 3.0000e-05\n",
            "Epoch 32/200\n",
            "68/75 [==========================>...] - ETA: 0s - loss: 0.0712 - accuracy: 0.9835"
          ]
        },
        {
          "output_type": "stream",
          "name": "stderr",
          "text": [
            "WARNING:tensorflow:Early stopping conditioned on metric `val_loss` which is not available. Available metrics are: loss,accuracy\n",
            "WARNING:tensorflow:Learning rate reduction is conditioned on metric `val_loss` which is not available. Available metrics are: loss,accuracy,lr\n"
          ]
        },
        {
          "output_type": "stream",
          "name": "stdout",
          "text": [
            "\b\b\b\b\b\b\b\b\b\b\b\b\b\b\b\b\b\b\b\b\b\b\b\b\b\b\b\b\b\b\b\b\b\b\b\b\b\b\b\b\b\b\b\b\b\b\b\b\b\b\b\b\b\b\b\b\b\b\b\b\b\b\b\b\b\b\b\b\b\b\b\b\b\b\b\b\b\b\b\b\b\b\r75/75 [==============================] - 0s 6ms/step - loss: 0.0708 - accuracy: 0.9840 - lr: 3.0000e-05\n",
            "Epoch 33/200\n",
            "69/75 [==========================>...] - ETA: 0s - loss: 0.0673 - accuracy: 0.9851"
          ]
        },
        {
          "output_type": "stream",
          "name": "stderr",
          "text": [
            "WARNING:tensorflow:Early stopping conditioned on metric `val_loss` which is not available. Available metrics are: loss,accuracy\n",
            "WARNING:tensorflow:Learning rate reduction is conditioned on metric `val_loss` which is not available. Available metrics are: loss,accuracy,lr\n"
          ]
        },
        {
          "output_type": "stream",
          "name": "stdout",
          "text": [
            "\b\b\b\b\b\b\b\b\b\b\b\b\b\b\b\b\b\b\b\b\b\b\b\b\b\b\b\b\b\b\b\b\b\b\b\b\b\b\b\b\b\b\b\b\b\b\b\b\b\b\b\b\b\b\b\b\b\b\b\b\b\b\b\b\b\b\b\b\b\b\b\b\b\b\b\b\b\b\b\b\b\b\r75/75 [==============================] - 0s 5ms/step - loss: 0.0658 - accuracy: 0.9861 - lr: 3.0000e-05\n",
            "Epoch 34/200\n",
            "71/75 [===========================>..] - ETA: 0s - loss: 0.0593 - accuracy: 0.9859"
          ]
        },
        {
          "output_type": "stream",
          "name": "stderr",
          "text": [
            "WARNING:tensorflow:Early stopping conditioned on metric `val_loss` which is not available. Available metrics are: loss,accuracy\n",
            "WARNING:tensorflow:Learning rate reduction is conditioned on metric `val_loss` which is not available. Available metrics are: loss,accuracy,lr\n"
          ]
        },
        {
          "output_type": "stream",
          "name": "stdout",
          "text": [
            "\b\b\b\b\b\b\b\b\b\b\b\b\b\b\b\b\b\b\b\b\b\b\b\b\b\b\b\b\b\b\b\b\b\b\b\b\b\b\b\b\b\b\b\b\b\b\b\b\b\b\b\b\b\b\b\b\b\b\b\b\b\b\b\b\b\b\b\b\b\b\b\b\b\b\b\b\b\b\b\b\b\b\r75/75 [==============================] - 0s 5ms/step - loss: 0.0592 - accuracy: 0.9861 - lr: 3.0000e-05\n",
            "Epoch 35/200\n",
            "67/75 [=========================>....] - ETA: 0s - loss: 0.0559 - accuracy: 0.9869"
          ]
        },
        {
          "output_type": "stream",
          "name": "stderr",
          "text": [
            "WARNING:tensorflow:Early stopping conditioned on metric `val_loss` which is not available. Available metrics are: loss,accuracy\n",
            "WARNING:tensorflow:Learning rate reduction is conditioned on metric `val_loss` which is not available. Available metrics are: loss,accuracy,lr\n"
          ]
        },
        {
          "output_type": "stream",
          "name": "stdout",
          "text": [
            "\b\b\b\b\b\b\b\b\b\b\b\b\b\b\b\b\b\b\b\b\b\b\b\b\b\b\b\b\b\b\b\b\b\b\b\b\b\b\b\b\b\b\b\b\b\b\b\b\b\b\b\b\b\b\b\b\b\b\b\b\b\b\b\b\b\b\b\b\b\b\b\b\b\b\b\b\b\b\b\b\b\b\r75/75 [==============================] - 0s 6ms/step - loss: 0.0555 - accuracy: 0.9874 - lr: 3.0000e-05\n",
            "Epoch 36/200\n",
            "71/75 [===========================>..] - ETA: 0s - loss: 0.0472 - accuracy: 0.9908"
          ]
        },
        {
          "output_type": "stream",
          "name": "stderr",
          "text": [
            "WARNING:tensorflow:Early stopping conditioned on metric `val_loss` which is not available. Available metrics are: loss,accuracy\n",
            "WARNING:tensorflow:Learning rate reduction is conditioned on metric `val_loss` which is not available. Available metrics are: loss,accuracy,lr\n"
          ]
        },
        {
          "output_type": "stream",
          "name": "stdout",
          "text": [
            "\b\b\b\b\b\b\b\b\b\b\b\b\b\b\b\b\b\b\b\b\b\b\b\b\b\b\b\b\b\b\b\b\b\b\b\b\b\b\b\b\b\b\b\b\b\b\b\b\b\b\b\b\b\b\b\b\b\b\b\b\b\b\b\b\b\b\b\b\b\b\b\b\b\b\b\b\b\b\b\b\b\b\r75/75 [==============================] - 0s 5ms/step - loss: 0.0477 - accuracy: 0.9907 - lr: 3.0000e-05\n",
            "Epoch 37/200\n",
            "69/75 [==========================>...] - ETA: 0s - loss: 0.0477 - accuracy: 0.9900"
          ]
        },
        {
          "output_type": "stream",
          "name": "stderr",
          "text": [
            "WARNING:tensorflow:Early stopping conditioned on metric `val_loss` which is not available. Available metrics are: loss,accuracy\n",
            "WARNING:tensorflow:Learning rate reduction is conditioned on metric `val_loss` which is not available. Available metrics are: loss,accuracy,lr\n"
          ]
        },
        {
          "output_type": "stream",
          "name": "stdout",
          "text": [
            "\b\b\b\b\b\b\b\b\b\b\b\b\b\b\b\b\b\b\b\b\b\b\b\b\b\b\b\b\b\b\b\b\b\b\b\b\b\b\b\b\b\b\b\b\b\b\b\b\b\b\b\b\b\b\b\b\b\b\b\b\b\b\b\b\b\b\b\b\b\b\b\b\b\b\b\b\b\b\b\b\b\b\r75/75 [==============================] - 0s 6ms/step - loss: 0.0481 - accuracy: 0.9886 - lr: 3.0000e-05\n",
            "Epoch 38/200\n",
            "68/75 [==========================>...] - ETA: 0s - loss: 0.0427 - accuracy: 0.9913"
          ]
        },
        {
          "output_type": "stream",
          "name": "stderr",
          "text": [
            "WARNING:tensorflow:Early stopping conditioned on metric `val_loss` which is not available. Available metrics are: loss,accuracy\n",
            "WARNING:tensorflow:Learning rate reduction is conditioned on metric `val_loss` which is not available. Available metrics are: loss,accuracy,lr\n"
          ]
        },
        {
          "output_type": "stream",
          "name": "stdout",
          "text": [
            "\b\b\b\b\b\b\b\b\b\b\b\b\b\b\b\b\b\b\b\b\b\b\b\b\b\b\b\b\b\b\b\b\b\b\b\b\b\b\b\b\b\b\b\b\b\b\b\b\b\b\b\b\b\b\b\b\b\b\b\b\b\b\b\b\b\b\b\b\b\b\b\b\b\b\b\b\b\b\b\b\b\b\r75/75 [==============================] - 0s 6ms/step - loss: 0.0419 - accuracy: 0.9916 - lr: 3.0000e-05\n",
            "Epoch 39/200\n",
            "68/75 [==========================>...] - ETA: 0s - loss: 0.0381 - accuracy: 0.9917"
          ]
        },
        {
          "output_type": "stream",
          "name": "stderr",
          "text": [
            "WARNING:tensorflow:Early stopping conditioned on metric `val_loss` which is not available. Available metrics are: loss,accuracy\n",
            "WARNING:tensorflow:Learning rate reduction is conditioned on metric `val_loss` which is not available. Available metrics are: loss,accuracy,lr\n"
          ]
        },
        {
          "output_type": "stream",
          "name": "stdout",
          "text": [
            "\b\b\b\b\b\b\b\b\b\b\b\b\b\b\b\b\b\b\b\b\b\b\b\b\b\b\b\b\b\b\b\b\b\b\b\b\b\b\b\b\b\b\b\b\b\b\b\b\b\b\b\b\b\b\b\b\b\b\b\b\b\b\b\b\b\b\b\b\b\b\b\b\b\b\b\b\b\b\b\b\b\b\r75/75 [==============================] - 0s 6ms/step - loss: 0.0394 - accuracy: 0.9916 - lr: 3.0000e-05\n",
            "Epoch 40/200\n",
            "69/75 [==========================>...] - ETA: 0s - loss: 0.0377 - accuracy: 0.9918"
          ]
        },
        {
          "output_type": "stream",
          "name": "stderr",
          "text": [
            "WARNING:tensorflow:Early stopping conditioned on metric `val_loss` which is not available. Available metrics are: loss,accuracy\n",
            "WARNING:tensorflow:Learning rate reduction is conditioned on metric `val_loss` which is not available. Available metrics are: loss,accuracy,lr\n"
          ]
        },
        {
          "output_type": "stream",
          "name": "stdout",
          "text": [
            "\b\b\b\b\b\b\b\b\b\b\b\b\b\b\b\b\b\b\b\b\b\b\b\b\b\b\b\b\b\b\b\b\b\b\b\b\b\b\b\b\b\b\b\b\b\b\b\b\b\b\b\b\b\b\b\b\b\b\b\b\b\b\b\b\b\b\b\b\b\b\b\b\b\b\b\b\b\b\b\b\b\b\r75/75 [==============================] - 0s 6ms/step - loss: 0.0373 - accuracy: 0.9924 - lr: 3.0000e-05\n",
            "Epoch 41/200\n",
            "69/75 [==========================>...] - ETA: 0s - loss: 0.0344 - accuracy: 0.9923"
          ]
        },
        {
          "output_type": "stream",
          "name": "stderr",
          "text": [
            "WARNING:tensorflow:Early stopping conditioned on metric `val_loss` which is not available. Available metrics are: loss,accuracy\n",
            "WARNING:tensorflow:Learning rate reduction is conditioned on metric `val_loss` which is not available. Available metrics are: loss,accuracy,lr\n"
          ]
        },
        {
          "output_type": "stream",
          "name": "stdout",
          "text": [
            "\b\b\b\b\b\b\b\b\b\b\b\b\b\b\b\b\b\b\b\b\b\b\b\b\b\b\b\b\b\b\b\b\b\b\b\b\b\b\b\b\b\b\b\b\b\b\b\b\b\b\b\b\b\b\b\b\b\b\b\b\b\b\b\b\b\b\b\b\b\b\b\b\b\b\b\b\b\b\b\b\b\b\r75/75 [==============================] - 0s 6ms/step - loss: 0.0348 - accuracy: 0.9924 - lr: 3.0000e-05\n",
            "Epoch 42/200\n",
            "68/75 [==========================>...] - ETA: 0s - loss: 0.0321 - accuracy: 0.9945"
          ]
        },
        {
          "output_type": "stream",
          "name": "stderr",
          "text": [
            "WARNING:tensorflow:Early stopping conditioned on metric `val_loss` which is not available. Available metrics are: loss,accuracy\n",
            "WARNING:tensorflow:Learning rate reduction is conditioned on metric `val_loss` which is not available. Available metrics are: loss,accuracy,lr\n"
          ]
        },
        {
          "output_type": "stream",
          "name": "stdout",
          "text": [
            "\b\b\b\b\b\b\b\b\b\b\b\b\b\b\b\b\b\b\b\b\b\b\b\b\b\b\b\b\b\b\b\b\b\b\b\b\b\b\b\b\b\b\b\b\b\b\b\b\b\b\b\b\b\b\b\b\b\b\b\b\b\b\b\b\b\b\b\b\b\b\b\b\b\b\b\b\b\b\b\b\b\b\r75/75 [==============================] - 0s 6ms/step - loss: 0.0326 - accuracy: 0.9937 - lr: 3.0000e-05\n",
            "Epoch 43/200\n",
            "69/75 [==========================>...] - ETA: 0s - loss: 0.0308 - accuracy: 0.9941"
          ]
        },
        {
          "output_type": "stream",
          "name": "stderr",
          "text": [
            "WARNING:tensorflow:Early stopping conditioned on metric `val_loss` which is not available. Available metrics are: loss,accuracy\n",
            "WARNING:tensorflow:Learning rate reduction is conditioned on metric `val_loss` which is not available. Available metrics are: loss,accuracy,lr\n"
          ]
        },
        {
          "output_type": "stream",
          "name": "stdout",
          "text": [
            "\b\b\b\b\b\b\b\b\b\b\b\b\b\b\b\b\b\b\b\b\b\b\b\b\b\b\b\b\b\b\b\b\b\b\b\b\b\b\b\b\b\b\b\b\b\b\b\b\b\b\b\b\b\b\b\b\b\b\b\b\b\b\b\b\b\b\b\b\b\b\b\b\b\b\b\b\b\b\b\b\b\b\r75/75 [==============================] - 0s 6ms/step - loss: 0.0307 - accuracy: 0.9937 - lr: 3.0000e-05\n",
            "Epoch 44/200\n",
            "69/75 [==========================>...] - ETA: 0s - loss: 0.0285 - accuracy: 0.9959"
          ]
        },
        {
          "output_type": "stream",
          "name": "stderr",
          "text": [
            "WARNING:tensorflow:Early stopping conditioned on metric `val_loss` which is not available. Available metrics are: loss,accuracy\n",
            "WARNING:tensorflow:Learning rate reduction is conditioned on metric `val_loss` which is not available. Available metrics are: loss,accuracy,lr\n"
          ]
        },
        {
          "output_type": "stream",
          "name": "stdout",
          "text": [
            "\b\b\b\b\b\b\b\b\b\b\b\b\b\b\b\b\b\b\b\b\b\b\b\b\b\b\b\b\b\b\b\b\b\b\b\b\b\b\b\b\b\b\b\b\b\b\b\b\b\b\b\b\b\b\b\b\b\b\b\b\b\b\b\b\b\b\b\b\b\b\b\b\b\b\b\b\b\b\b\b\b\b\r75/75 [==============================] - 0s 5ms/step - loss: 0.0275 - accuracy: 0.9962 - lr: 3.0000e-05\n",
            "Epoch 45/200\n",
            "71/75 [===========================>..] - ETA: 0s - loss: 0.0248 - accuracy: 0.9965"
          ]
        },
        {
          "output_type": "stream",
          "name": "stderr",
          "text": [
            "WARNING:tensorflow:Early stopping conditioned on metric `val_loss` which is not available. Available metrics are: loss,accuracy\n",
            "WARNING:tensorflow:Learning rate reduction is conditioned on metric `val_loss` which is not available. Available metrics are: loss,accuracy,lr\n"
          ]
        },
        {
          "output_type": "stream",
          "name": "stdout",
          "text": [
            "\b\b\b\b\b\b\b\b\b\b\b\b\b\b\b\b\b\b\b\b\b\b\b\b\b\b\b\b\b\b\b\b\b\b\b\b\b\b\b\b\b\b\b\b\b\b\b\b\b\b\b\b\b\b\b\b\b\b\b\b\b\b\b\b\b\b\b\b\b\b\b\b\b\b\b\b\b\b\b\b\b\b\r75/75 [==============================] - 0s 5ms/step - loss: 0.0243 - accuracy: 0.9966 - lr: 3.0000e-05\n",
            "Epoch 46/200\n",
            "69/75 [==========================>...] - ETA: 0s - loss: 0.0233 - accuracy: 0.9950"
          ]
        },
        {
          "output_type": "stream",
          "name": "stderr",
          "text": [
            "WARNING:tensorflow:Early stopping conditioned on metric `val_loss` which is not available. Available metrics are: loss,accuracy\n",
            "WARNING:tensorflow:Learning rate reduction is conditioned on metric `val_loss` which is not available. Available metrics are: loss,accuracy,lr\n"
          ]
        },
        {
          "output_type": "stream",
          "name": "stdout",
          "text": [
            "\b\b\b\b\b\b\b\b\b\b\b\b\b\b\b\b\b\b\b\b\b\b\b\b\b\b\b\b\b\b\b\b\b\b\b\b\b\b\b\b\b\b\b\b\b\b\b\b\b\b\b\b\b\b\b\b\b\b\b\b\b\b\b\b\b\b\b\b\b\b\b\b\b\b\b\b\b\b\b\b\b\b\r75/75 [==============================] - 0s 6ms/step - loss: 0.0228 - accuracy: 0.9954 - lr: 3.0000e-05\n",
            "Epoch 47/200\n",
            "68/75 [==========================>...] - ETA: 0s - loss: 0.0215 - accuracy: 0.9972"
          ]
        },
        {
          "output_type": "stream",
          "name": "stderr",
          "text": [
            "WARNING:tensorflow:Early stopping conditioned on metric `val_loss` which is not available. Available metrics are: loss,accuracy\n",
            "WARNING:tensorflow:Learning rate reduction is conditioned on metric `val_loss` which is not available. Available metrics are: loss,accuracy,lr\n"
          ]
        },
        {
          "output_type": "stream",
          "name": "stdout",
          "text": [
            "\b\b\b\b\b\b\b\b\b\b\b\b\b\b\b\b\b\b\b\b\b\b\b\b\b\b\b\b\b\b\b\b\b\b\b\b\b\b\b\b\b\b\b\b\b\b\b\b\b\b\b\b\b\b\b\b\b\b\b\b\b\b\b\b\b\b\b\b\b\b\b\b\b\b\b\b\b\b\b\b\b\b\r75/75 [==============================] - 0s 6ms/step - loss: 0.0214 - accuracy: 0.9966 - lr: 3.0000e-05\n",
            "Epoch 48/200\n",
            "68/75 [==========================>...] - ETA: 0s - loss: 0.0195 - accuracy: 0.9977"
          ]
        },
        {
          "output_type": "stream",
          "name": "stderr",
          "text": [
            "WARNING:tensorflow:Early stopping conditioned on metric `val_loss` which is not available. Available metrics are: loss,accuracy\n",
            "WARNING:tensorflow:Learning rate reduction is conditioned on metric `val_loss` which is not available. Available metrics are: loss,accuracy,lr\n"
          ]
        },
        {
          "output_type": "stream",
          "name": "stdout",
          "text": [
            "\b\b\b\b\b\b\b\b\b\b\b\b\b\b\b\b\b\b\b\b\b\b\b\b\b\b\b\b\b\b\b\b\b\b\b\b\b\b\b\b\b\b\b\b\b\b\b\b\b\b\b\b\b\b\b\b\b\b\b\b\b\b\b\b\b\b\b\b\b\b\b\b\b\b\b\b\b\b\b\b\b\b\r75/75 [==============================] - 0s 6ms/step - loss: 0.0191 - accuracy: 0.9975 - lr: 3.0000e-05\n",
            "Epoch 49/200\n",
            "68/75 [==========================>...] - ETA: 0s - loss: 0.0179 - accuracy: 0.9977"
          ]
        },
        {
          "output_type": "stream",
          "name": "stderr",
          "text": [
            "WARNING:tensorflow:Early stopping conditioned on metric `val_loss` which is not available. Available metrics are: loss,accuracy\n",
            "WARNING:tensorflow:Learning rate reduction is conditioned on metric `val_loss` which is not available. Available metrics are: loss,accuracy,lr\n"
          ]
        },
        {
          "output_type": "stream",
          "name": "stdout",
          "text": [
            "\b\b\b\b\b\b\b\b\b\b\b\b\b\b\b\b\b\b\b\b\b\b\b\b\b\b\b\b\b\b\b\b\b\b\b\b\b\b\b\b\b\b\b\b\b\b\b\b\b\b\b\b\b\b\b\b\b\b\b\b\b\b\b\b\b\b\b\b\b\b\b\b\b\b\b\b\b\b\b\b\b\b\r75/75 [==============================] - 0s 6ms/step - loss: 0.0182 - accuracy: 0.9975 - lr: 3.0000e-05\n",
            "Epoch 50/200\n",
            "66/75 [=========================>....] - ETA: 0s - loss: 0.0166 - accuracy: 0.9972"
          ]
        },
        {
          "output_type": "stream",
          "name": "stderr",
          "text": [
            "WARNING:tensorflow:Early stopping conditioned on metric `val_loss` which is not available. Available metrics are: loss,accuracy\n",
            "WARNING:tensorflow:Learning rate reduction is conditioned on metric `val_loss` which is not available. Available metrics are: loss,accuracy,lr\n"
          ]
        },
        {
          "output_type": "stream",
          "name": "stdout",
          "text": [
            "\b\b\b\b\b\b\b\b\b\b\b\b\b\b\b\b\b\b\b\b\b\b\b\b\b\b\b\b\b\b\b\b\b\b\b\b\b\b\b\b\b\b\b\b\b\b\b\b\b\b\b\b\b\b\b\b\b\b\b\b\b\b\b\b\b\b\b\b\b\b\b\b\b\b\b\b\b\b\b\b\b\b\r75/75 [==============================] - 0s 6ms/step - loss: 0.0168 - accuracy: 0.9975 - lr: 3.0000e-05\n",
            "Epoch 51/200\n",
            "67/75 [=========================>....] - ETA: 0s - loss: 0.0148 - accuracy: 0.9981"
          ]
        },
        {
          "output_type": "stream",
          "name": "stderr",
          "text": [
            "WARNING:tensorflow:Early stopping conditioned on metric `val_loss` which is not available. Available metrics are: loss,accuracy\n",
            "WARNING:tensorflow:Learning rate reduction is conditioned on metric `val_loss` which is not available. Available metrics are: loss,accuracy,lr\n"
          ]
        },
        {
          "output_type": "stream",
          "name": "stdout",
          "text": [
            "\b\b\b\b\b\b\b\b\b\b\b\b\b\b\b\b\b\b\b\b\b\b\b\b\b\b\b\b\b\b\b\b\b\b\b\b\b\b\b\b\b\b\b\b\b\b\b\b\b\b\b\b\b\b\b\b\b\b\b\b\b\b\b\b\b\b\b\b\b\b\b\b\b\b\b\b\b\b\b\b\b\b\r75/75 [==============================] - 0s 6ms/step - loss: 0.0149 - accuracy: 0.9979 - lr: 3.0000e-05\n",
            "Epoch 52/200\n",
            "69/75 [==========================>...] - ETA: 0s - loss: 0.0149 - accuracy: 0.9973"
          ]
        },
        {
          "output_type": "stream",
          "name": "stderr",
          "text": [
            "WARNING:tensorflow:Early stopping conditioned on metric `val_loss` which is not available. Available metrics are: loss,accuracy\n",
            "WARNING:tensorflow:Learning rate reduction is conditioned on metric `val_loss` which is not available. Available metrics are: loss,accuracy,lr\n"
          ]
        },
        {
          "output_type": "stream",
          "name": "stdout",
          "text": [
            "\b\b\b\b\b\b\b\b\b\b\b\b\b\b\b\b\b\b\b\b\b\b\b\b\b\b\b\b\b\b\b\b\b\b\b\b\b\b\b\b\b\b\b\b\b\b\b\b\b\b\b\b\b\b\b\b\b\b\b\b\b\b\b\b\b\b\b\b\b\b\b\b\b\b\b\b\b\b\b\b\b\b\r75/75 [==============================] - 0s 6ms/step - loss: 0.0147 - accuracy: 0.9975 - lr: 3.0000e-05\n",
            "Epoch 53/200\n",
            "70/75 [===========================>..] - ETA: 0s - loss: 0.0125 - accuracy: 0.9987"
          ]
        },
        {
          "output_type": "stream",
          "name": "stderr",
          "text": [
            "WARNING:tensorflow:Early stopping conditioned on metric `val_loss` which is not available. Available metrics are: loss,accuracy\n",
            "WARNING:tensorflow:Learning rate reduction is conditioned on metric `val_loss` which is not available. Available metrics are: loss,accuracy,lr\n"
          ]
        },
        {
          "output_type": "stream",
          "name": "stdout",
          "text": [
            "\b\b\b\b\b\b\b\b\b\b\b\b\b\b\b\b\b\b\b\b\b\b\b\b\b\b\b\b\b\b\b\b\b\b\b\b\b\b\b\b\b\b\b\b\b\b\b\b\b\b\b\b\b\b\b\b\b\b\b\b\b\b\b\b\b\b\b\b\b\b\b\b\b\b\b\b\b\b\b\b\b\b\r75/75 [==============================] - 0s 5ms/step - loss: 0.0125 - accuracy: 0.9987 - lr: 3.0000e-05\n",
            "Epoch 54/200\n",
            "66/75 [=========================>....] - ETA: 0s - loss: 0.0142 - accuracy: 0.9986"
          ]
        },
        {
          "output_type": "stream",
          "name": "stderr",
          "text": [
            "WARNING:tensorflow:Early stopping conditioned on metric `val_loss` which is not available. Available metrics are: loss,accuracy\n",
            "WARNING:tensorflow:Learning rate reduction is conditioned on metric `val_loss` which is not available. Available metrics are: loss,accuracy,lr\n"
          ]
        },
        {
          "output_type": "stream",
          "name": "stdout",
          "text": [
            "\b\b\b\b\b\b\b\b\b\b\b\b\b\b\b\b\b\b\b\b\b\b\b\b\b\b\b\b\b\b\b\b\b\b\b\b\b\b\b\b\b\b\b\b\b\b\b\b\b\b\b\b\b\b\b\b\b\b\b\b\b\b\b\b\b\b\b\b\b\b\b\b\b\b\b\b\b\b\b\b\b\b\r75/75 [==============================] - 0s 6ms/step - loss: 0.0133 - accuracy: 0.9987 - lr: 3.0000e-05\n",
            "Epoch 55/200\n",
            "70/75 [===========================>..] - ETA: 0s - loss: 0.0120 - accuracy: 0.9987"
          ]
        },
        {
          "output_type": "stream",
          "name": "stderr",
          "text": [
            "WARNING:tensorflow:Early stopping conditioned on metric `val_loss` which is not available. Available metrics are: loss,accuracy\n",
            "WARNING:tensorflow:Learning rate reduction is conditioned on metric `val_loss` which is not available. Available metrics are: loss,accuracy,lr\n"
          ]
        },
        {
          "output_type": "stream",
          "name": "stdout",
          "text": [
            "\b\b\b\b\b\b\b\b\b\b\b\b\b\b\b\b\b\b\b\b\b\b\b\b\b\b\b\b\b\b\b\b\b\b\b\b\b\b\b\b\b\b\b\b\b\b\b\b\b\b\b\b\b\b\b\b\b\b\b\b\b\b\b\b\b\b\b\b\b\b\b\b\b\b\b\b\b\b\b\b\b\b\r75/75 [==============================] - 0s 6ms/step - loss: 0.0121 - accuracy: 0.9987 - lr: 3.0000e-05\n",
            "Epoch 56/200\n",
            "68/75 [==========================>...] - ETA: 0s - loss: 0.0090 - accuracy: 0.9995"
          ]
        },
        {
          "output_type": "stream",
          "name": "stderr",
          "text": [
            "WARNING:tensorflow:Early stopping conditioned on metric `val_loss` which is not available. Available metrics are: loss,accuracy\n",
            "WARNING:tensorflow:Learning rate reduction is conditioned on metric `val_loss` which is not available. Available metrics are: loss,accuracy,lr\n"
          ]
        },
        {
          "output_type": "stream",
          "name": "stdout",
          "text": [
            "\b\b\b\b\b\b\b\b\b\b\b\b\b\b\b\b\b\b\b\b\b\b\b\b\b\b\b\b\b\b\b\b\b\b\b\b\b\b\b\b\b\b\b\b\b\b\b\b\b\b\b\b\b\b\b\b\b\b\b\b\b\b\b\b\b\b\b\b\b\b\b\b\b\b\b\b\b\b\b\b\b\b\r75/75 [==============================] - 0s 6ms/step - loss: 0.0108 - accuracy: 0.9987 - lr: 3.0000e-05\n",
            "Epoch 57/200\n",
            "68/75 [==========================>...] - ETA: 0s - loss: 0.0109 - accuracy: 0.9986"
          ]
        },
        {
          "output_type": "stream",
          "name": "stderr",
          "text": [
            "WARNING:tensorflow:Early stopping conditioned on metric `val_loss` which is not available. Available metrics are: loss,accuracy\n",
            "WARNING:tensorflow:Learning rate reduction is conditioned on metric `val_loss` which is not available. Available metrics are: loss,accuracy,lr\n"
          ]
        },
        {
          "output_type": "stream",
          "name": "stdout",
          "text": [
            "\b\b\b\b\b\b\b\b\b\b\b\b\b\b\b\b\b\b\b\b\b\b\b\b\b\b\b\b\b\b\b\b\b\b\b\b\b\b\b\b\b\b\b\b\b\b\b\b\b\b\b\b\b\b\b\b\b\b\b\b\b\b\b\b\b\b\b\b\b\b\b\b\b\b\b\b\b\b\b\b\b\b\r75/75 [==============================] - 0s 6ms/step - loss: 0.0106 - accuracy: 0.9987 - lr: 3.0000e-05\n",
            "Epoch 58/200\n",
            "69/75 [==========================>...] - ETA: 0s - loss: 0.0102 - accuracy: 0.9986"
          ]
        },
        {
          "output_type": "stream",
          "name": "stderr",
          "text": [
            "WARNING:tensorflow:Early stopping conditioned on metric `val_loss` which is not available. Available metrics are: loss,accuracy\n",
            "WARNING:tensorflow:Learning rate reduction is conditioned on metric `val_loss` which is not available. Available metrics are: loss,accuracy,lr\n"
          ]
        },
        {
          "output_type": "stream",
          "name": "stdout",
          "text": [
            "\b\b\b\b\b\b\b\b\b\b\b\b\b\b\b\b\b\b\b\b\b\b\b\b\b\b\b\b\b\b\b\b\b\b\b\b\b\b\b\b\b\b\b\b\b\b\b\b\b\b\b\b\b\b\b\b\b\b\b\b\b\b\b\b\b\b\b\b\b\b\b\b\b\b\b\b\b\b\b\b\b\b\r75/75 [==============================] - 0s 6ms/step - loss: 0.0103 - accuracy: 0.9987 - lr: 3.0000e-05\n",
            "Epoch 59/200\n",
            "70/75 [===========================>..] - ETA: 0s - loss: 0.0092 - accuracy: 0.9982"
          ]
        },
        {
          "output_type": "stream",
          "name": "stderr",
          "text": [
            "WARNING:tensorflow:Early stopping conditioned on metric `val_loss` which is not available. Available metrics are: loss,accuracy\n",
            "WARNING:tensorflow:Learning rate reduction is conditioned on metric `val_loss` which is not available. Available metrics are: loss,accuracy,lr\n"
          ]
        },
        {
          "output_type": "stream",
          "name": "stdout",
          "text": [
            "\b\b\b\b\b\b\b\b\b\b\b\b\b\b\b\b\b\b\b\b\b\b\b\b\b\b\b\b\b\b\b\b\b\b\b\b\b\b\b\b\b\b\b\b\b\b\b\b\b\b\b\b\b\b\b\b\b\b\b\b\b\b\b\b\b\b\b\b\b\b\b\b\b\b\b\b\b\b\b\b\b\b\r75/75 [==============================] - 0s 6ms/step - loss: 0.0092 - accuracy: 0.9983 - lr: 3.0000e-05\n",
            "Epoch 60/200\n",
            "71/75 [===========================>..] - ETA: 0s - loss: 0.0098 - accuracy: 0.9982"
          ]
        },
        {
          "output_type": "stream",
          "name": "stderr",
          "text": [
            "WARNING:tensorflow:Early stopping conditioned on metric `val_loss` which is not available. Available metrics are: loss,accuracy\n",
            "WARNING:tensorflow:Learning rate reduction is conditioned on metric `val_loss` which is not available. Available metrics are: loss,accuracy,lr\n"
          ]
        },
        {
          "output_type": "stream",
          "name": "stdout",
          "text": [
            "\b\b\b\b\b\b\b\b\b\b\b\b\b\b\b\b\b\b\b\b\b\b\b\b\b\b\b\b\b\b\b\b\b\b\b\b\b\b\b\b\b\b\b\b\b\b\b\b\b\b\b\b\b\b\b\b\b\b\b\b\b\b\b\b\b\b\b\b\b\b\b\b\b\b\b\b\b\b\b\b\b\b\r75/75 [==============================] - 0s 5ms/step - loss: 0.0098 - accuracy: 0.9983 - lr: 3.0000e-05\n",
            "Epoch 61/200\n",
            "66/75 [=========================>....] - ETA: 0s - loss: 0.0090 - accuracy: 0.9976"
          ]
        },
        {
          "output_type": "stream",
          "name": "stderr",
          "text": [
            "WARNING:tensorflow:Early stopping conditioned on metric `val_loss` which is not available. Available metrics are: loss,accuracy\n",
            "WARNING:tensorflow:Learning rate reduction is conditioned on metric `val_loss` which is not available. Available metrics are: loss,accuracy,lr\n"
          ]
        },
        {
          "output_type": "stream",
          "name": "stdout",
          "text": [
            "\b\b\b\b\b\b\b\b\b\b\b\b\b\b\b\b\b\b\b\b\b\b\b\b\b\b\b\b\b\b\b\b\b\b\b\b\b\b\b\b\b\b\b\b\b\b\b\b\b\b\b\b\b\b\b\b\b\b\b\b\b\b\b\b\b\b\b\b\b\b\b\b\b\b\b\b\b\b\b\b\b\b\r75/75 [==============================] - 0s 6ms/step - loss: 0.0090 - accuracy: 0.9975 - lr: 3.0000e-05\n",
            "Epoch 62/200\n",
            "70/75 [===========================>..] - ETA: 0s - loss: 0.0087 - accuracy: 0.9987"
          ]
        },
        {
          "output_type": "stream",
          "name": "stderr",
          "text": [
            "WARNING:tensorflow:Early stopping conditioned on metric `val_loss` which is not available. Available metrics are: loss,accuracy\n",
            "WARNING:tensorflow:Learning rate reduction is conditioned on metric `val_loss` which is not available. Available metrics are: loss,accuracy,lr\n"
          ]
        },
        {
          "output_type": "stream",
          "name": "stdout",
          "text": [
            "\b\b\b\b\b\b\b\b\b\b\b\b\b\b\b\b\b\b\b\b\b\b\b\b\b\b\b\b\b\b\b\b\b\b\b\b\b\b\b\b\b\b\b\b\b\b\b\b\b\b\b\b\b\b\b\b\b\b\b\b\b\b\b\b\b\b\b\b\b\b\b\b\b\b\b\b\b\b\b\b\b\b\r75/75 [==============================] - 0s 6ms/step - loss: 0.0087 - accuracy: 0.9987 - lr: 3.0000e-05\n",
            "Epoch 63/200\n",
            "68/75 [==========================>...] - ETA: 0s - loss: 0.0079 - accuracy: 0.9986"
          ]
        },
        {
          "output_type": "stream",
          "name": "stderr",
          "text": [
            "WARNING:tensorflow:Early stopping conditioned on metric `val_loss` which is not available. Available metrics are: loss,accuracy\n",
            "WARNING:tensorflow:Learning rate reduction is conditioned on metric `val_loss` which is not available. Available metrics are: loss,accuracy,lr\n"
          ]
        },
        {
          "output_type": "stream",
          "name": "stdout",
          "text": [
            "\b\b\b\b\b\b\b\b\b\b\b\b\b\b\b\b\b\b\b\b\b\b\b\b\b\b\b\b\b\b\b\b\b\b\b\b\b\b\b\b\b\b\b\b\b\b\b\b\b\b\b\b\b\b\b\b\b\b\b\b\b\b\b\b\b\b\b\b\b\b\b\b\b\b\b\b\b\b\b\b\b\b\r75/75 [==============================] - 0s 6ms/step - loss: 0.0089 - accuracy: 0.9983 - lr: 3.0000e-05\n",
            "Epoch 64/200\n",
            "69/75 [==========================>...] - ETA: 0s - loss: 0.0076 - accuracy: 0.9986"
          ]
        },
        {
          "output_type": "stream",
          "name": "stderr",
          "text": [
            "WARNING:tensorflow:Early stopping conditioned on metric `val_loss` which is not available. Available metrics are: loss,accuracy\n",
            "WARNING:tensorflow:Learning rate reduction is conditioned on metric `val_loss` which is not available. Available metrics are: loss,accuracy,lr\n"
          ]
        },
        {
          "output_type": "stream",
          "name": "stdout",
          "text": [
            "\b\b\b\b\b\b\b\b\b\b\b\b\b\b\b\b\b\b\b\b\b\b\b\b\b\b\b\b\b\b\b\b\b\b\b\b\b\b\b\b\b\b\b\b\b\b\b\b\b\b\b\b\b\b\b\b\b\b\b\b\b\b\b\b\b\b\b\b\b\b\b\b\b\b\b\b\b\b\b\b\b\b\r75/75 [==============================] - 0s 6ms/step - loss: 0.0078 - accuracy: 0.9983 - lr: 3.0000e-05\n",
            "Epoch 65/200\n",
            "69/75 [==========================>...] - ETA: 0s - loss: 0.0070 - accuracy: 0.9991"
          ]
        },
        {
          "output_type": "stream",
          "name": "stderr",
          "text": [
            "WARNING:tensorflow:Early stopping conditioned on metric `val_loss` which is not available. Available metrics are: loss,accuracy\n",
            "WARNING:tensorflow:Learning rate reduction is conditioned on metric `val_loss` which is not available. Available metrics are: loss,accuracy,lr\n"
          ]
        },
        {
          "output_type": "stream",
          "name": "stdout",
          "text": [
            "\b\b\b\b\b\b\b\b\b\b\b\b\b\b\b\b\b\b\b\b\b\b\b\b\b\b\b\b\b\b\b\b\b\b\b\b\b\b\b\b\b\b\b\b\b\b\b\b\b\b\b\b\b\b\b\b\b\b\b\b\b\b\b\b\b\b\b\b\b\b\b\b\b\b\b\b\b\b\b\b\b\b\r75/75 [==============================] - 0s 6ms/step - loss: 0.0068 - accuracy: 0.9992 - lr: 3.0000e-05\n",
            "Epoch 66/200\n",
            "67/75 [=========================>....] - ETA: 0s - loss: 0.0068 - accuracy: 0.9991"
          ]
        },
        {
          "output_type": "stream",
          "name": "stderr",
          "text": [
            "WARNING:tensorflow:Early stopping conditioned on metric `val_loss` which is not available. Available metrics are: loss,accuracy\n",
            "WARNING:tensorflow:Learning rate reduction is conditioned on metric `val_loss` which is not available. Available metrics are: loss,accuracy,lr\n"
          ]
        },
        {
          "output_type": "stream",
          "name": "stdout",
          "text": [
            "\b\b\b\b\b\b\b\b\b\b\b\b\b\b\b\b\b\b\b\b\b\b\b\b\b\b\b\b\b\b\b\b\b\b\b\b\b\b\b\b\b\b\b\b\b\b\b\b\b\b\b\b\b\b\b\b\b\b\b\b\b\b\b\b\b\b\b\b\b\b\b\b\b\b\b\b\b\b\b\b\b\b\r75/75 [==============================] - 0s 6ms/step - loss: 0.0067 - accuracy: 0.9992 - lr: 3.0000e-05\n",
            "Epoch 67/200\n",
            "71/75 [===========================>..] - ETA: 0s - loss: 0.0061 - accuracy: 0.9982"
          ]
        },
        {
          "output_type": "stream",
          "name": "stderr",
          "text": [
            "WARNING:tensorflow:Early stopping conditioned on metric `val_loss` which is not available. Available metrics are: loss,accuracy\n",
            "WARNING:tensorflow:Learning rate reduction is conditioned on metric `val_loss` which is not available. Available metrics are: loss,accuracy,lr\n"
          ]
        },
        {
          "output_type": "stream",
          "name": "stdout",
          "text": [
            "\b\b\b\b\b\b\b\b\b\b\b\b\b\b\b\b\b\b\b\b\b\b\b\b\b\b\b\b\b\b\b\b\b\b\b\b\b\b\b\b\b\b\b\b\b\b\b\b\b\b\b\b\b\b\b\b\b\b\b\b\b\b\b\b\b\b\b\b\b\b\b\b\b\b\b\b\b\b\b\b\b\b\r75/75 [==============================] - 0s 5ms/step - loss: 0.0059 - accuracy: 0.9983 - lr: 3.0000e-05\n",
            "Epoch 68/200\n",
            "69/75 [==========================>...] - ETA: 0s - loss: 0.0064 - accuracy: 0.9991"
          ]
        },
        {
          "output_type": "stream",
          "name": "stderr",
          "text": [
            "WARNING:tensorflow:Early stopping conditioned on metric `val_loss` which is not available. Available metrics are: loss,accuracy\n",
            "WARNING:tensorflow:Learning rate reduction is conditioned on metric `val_loss` which is not available. Available metrics are: loss,accuracy,lr\n"
          ]
        },
        {
          "output_type": "stream",
          "name": "stdout",
          "text": [
            "\b\b\b\b\b\b\b\b\b\b\b\b\b\b\b\b\b\b\b\b\b\b\b\b\b\b\b\b\b\b\b\b\b\b\b\b\b\b\b\b\b\b\b\b\b\b\b\b\b\b\b\b\b\b\b\b\b\b\b\b\b\b\b\b\b\b\b\b\b\b\b\b\b\b\b\b\b\b\b\b\b\b\r75/75 [==============================] - 0s 6ms/step - loss: 0.0062 - accuracy: 0.9992 - lr: 3.0000e-05\n",
            "Epoch 69/200\n",
            "69/75 [==========================>...] - ETA: 0s - loss: 0.0063 - accuracy: 0.9986"
          ]
        },
        {
          "output_type": "stream",
          "name": "stderr",
          "text": [
            "WARNING:tensorflow:Early stopping conditioned on metric `val_loss` which is not available. Available metrics are: loss,accuracy\n",
            "WARNING:tensorflow:Learning rate reduction is conditioned on metric `val_loss` which is not available. Available metrics are: loss,accuracy,lr\n"
          ]
        },
        {
          "output_type": "stream",
          "name": "stdout",
          "text": [
            "\b\b\b\b\b\b\b\b\b\b\b\b\b\b\b\b\b\b\b\b\b\b\b\b\b\b\b\b\b\b\b\b\b\b\b\b\b\b\b\b\b\b\b\b\b\b\b\b\b\b\b\b\b\b\b\b\b\b\b\b\b\b\b\b\b\b\b\b\b\b\b\b\b\b\b\b\b\b\b\b\b\b\r75/75 [==============================] - 0s 5ms/step - loss: 0.0062 - accuracy: 0.9987 - lr: 3.0000e-05\n",
            "Epoch 70/200\n",
            "66/75 [=========================>....] - ETA: 0s - loss: 0.0062 - accuracy: 0.9981"
          ]
        },
        {
          "output_type": "stream",
          "name": "stderr",
          "text": [
            "WARNING:tensorflow:Early stopping conditioned on metric `val_loss` which is not available. Available metrics are: loss,accuracy\n",
            "WARNING:tensorflow:Learning rate reduction is conditioned on metric `val_loss` which is not available. Available metrics are: loss,accuracy,lr\n"
          ]
        },
        {
          "output_type": "stream",
          "name": "stdout",
          "text": [
            "\b\b\b\b\b\b\b\b\b\b\b\b\b\b\b\b\b\b\b\b\b\b\b\b\b\b\b\b\b\b\b\b\b\b\b\b\b\b\b\b\b\b\b\b\b\b\b\b\b\b\b\b\b\b\b\b\b\b\b\b\b\b\b\b\b\b\b\b\b\b\b\b\b\b\b\b\b\b\b\b\b\b\r75/75 [==============================] - 0s 6ms/step - loss: 0.0060 - accuracy: 0.9983 - lr: 3.0000e-05\n",
            "Epoch 71/200\n",
            "68/75 [==========================>...] - ETA: 0s - loss: 0.0051 - accuracy: 0.9991"
          ]
        },
        {
          "output_type": "stream",
          "name": "stderr",
          "text": [
            "WARNING:tensorflow:Early stopping conditioned on metric `val_loss` which is not available. Available metrics are: loss,accuracy\n",
            "WARNING:tensorflow:Learning rate reduction is conditioned on metric `val_loss` which is not available. Available metrics are: loss,accuracy,lr\n"
          ]
        },
        {
          "output_type": "stream",
          "name": "stdout",
          "text": [
            "\b\b\b\b\b\b\b\b\b\b\b\b\b\b\b\b\b\b\b\b\b\b\b\b\b\b\b\b\b\b\b\b\b\b\b\b\b\b\b\b\b\b\b\b\b\b\b\b\b\b\b\b\b\b\b\b\b\b\b\b\b\b\b\b\b\b\b\b\b\b\b\b\b\b\b\b\b\b\b\b\b\b\r75/75 [==============================] - 0s 6ms/step - loss: 0.0055 - accuracy: 0.9992 - lr: 3.0000e-05\n",
            "Epoch 72/200\n",
            "68/75 [==========================>...] - ETA: 0s - loss: 0.0054 - accuracy: 0.9991"
          ]
        },
        {
          "output_type": "stream",
          "name": "stderr",
          "text": [
            "WARNING:tensorflow:Early stopping conditioned on metric `val_loss` which is not available. Available metrics are: loss,accuracy\n",
            "WARNING:tensorflow:Learning rate reduction is conditioned on metric `val_loss` which is not available. Available metrics are: loss,accuracy,lr\n"
          ]
        },
        {
          "output_type": "stream",
          "name": "stdout",
          "text": [
            "\b\b\b\b\b\b\b\b\b\b\b\b\b\b\b\b\b\b\b\b\b\b\b\b\b\b\b\b\b\b\b\b\b\b\b\b\b\b\b\b\b\b\b\b\b\b\b\b\b\b\b\b\b\b\b\b\b\b\b\b\b\b\b\b\b\b\b\b\b\b\b\b\b\b\b\b\b\b\b\b\b\b\r75/75 [==============================] - 0s 6ms/step - loss: 0.0055 - accuracy: 0.9987 - lr: 3.0000e-05\n",
            "Epoch 73/200\n",
            "66/75 [=========================>....] - ETA: 0s - loss: 0.0050 - accuracy: 0.9991"
          ]
        },
        {
          "output_type": "stream",
          "name": "stderr",
          "text": [
            "WARNING:tensorflow:Early stopping conditioned on metric `val_loss` which is not available. Available metrics are: loss,accuracy\n",
            "WARNING:tensorflow:Learning rate reduction is conditioned on metric `val_loss` which is not available. Available metrics are: loss,accuracy,lr\n"
          ]
        },
        {
          "output_type": "stream",
          "name": "stdout",
          "text": [
            "\b\b\b\b\b\b\b\b\b\b\b\b\b\b\b\b\b\b\b\b\b\b\b\b\b\b\b\b\b\b\b\b\b\b\b\b\b\b\b\b\b\b\b\b\b\b\b\b\b\b\b\b\b\b\b\b\b\b\b\b\b\b\b\b\b\b\b\b\b\b\b\b\b\b\b\b\b\b\b\b\b\b\r75/75 [==============================] - 0s 6ms/step - loss: 0.0053 - accuracy: 0.9987 - lr: 3.0000e-05\n",
            "Epoch 74/200\n",
            "69/75 [==========================>...] - ETA: 0s - loss: 0.0052 - accuracy: 0.9991"
          ]
        },
        {
          "output_type": "stream",
          "name": "stderr",
          "text": [
            "WARNING:tensorflow:Early stopping conditioned on metric `val_loss` which is not available. Available metrics are: loss,accuracy\n",
            "WARNING:tensorflow:Learning rate reduction is conditioned on metric `val_loss` which is not available. Available metrics are: loss,accuracy,lr\n"
          ]
        },
        {
          "output_type": "stream",
          "name": "stdout",
          "text": [
            "\b\b\b\b\b\b\b\b\b\b\b\b\b\b\b\b\b\b\b\b\b\b\b\b\b\b\b\b\b\b\b\b\b\b\b\b\b\b\b\b\b\b\b\b\b\b\b\b\b\b\b\b\b\b\b\b\b\b\b\b\b\b\b\b\b\b\b\b\b\b\b\b\b\b\b\b\b\b\b\b\b\b\r75/75 [==============================] - 0s 6ms/step - loss: 0.0050 - accuracy: 0.9992 - lr: 3.0000e-05\n",
            "Epoch 75/200\n",
            "71/75 [===========================>..] - ETA: 0s - loss: 0.0044 - accuracy: 0.9991"
          ]
        },
        {
          "output_type": "stream",
          "name": "stderr",
          "text": [
            "WARNING:tensorflow:Early stopping conditioned on metric `val_loss` which is not available. Available metrics are: loss,accuracy\n",
            "WARNING:tensorflow:Learning rate reduction is conditioned on metric `val_loss` which is not available. Available metrics are: loss,accuracy,lr\n"
          ]
        },
        {
          "output_type": "stream",
          "name": "stdout",
          "text": [
            "\b\b\b\b\b\b\b\b\b\b\b\b\b\b\b\b\b\b\b\b\b\b\b\b\b\b\b\b\b\b\b\b\b\b\b\b\b\b\b\b\b\b\b\b\b\b\b\b\b\b\b\b\b\b\b\b\b\b\b\b\b\b\b\b\b\b\b\b\b\b\b\b\b\b\b\b\b\b\b\b\b\b\r75/75 [==============================] - 0s 6ms/step - loss: 0.0044 - accuracy: 0.9992 - lr: 3.0000e-05\n",
            "Epoch 76/200\n",
            "71/75 [===========================>..] - ETA: 0s - loss: 0.0045 - accuracy: 0.9991"
          ]
        },
        {
          "output_type": "stream",
          "name": "stderr",
          "text": [
            "WARNING:tensorflow:Early stopping conditioned on metric `val_loss` which is not available. Available metrics are: loss,accuracy\n",
            "WARNING:tensorflow:Learning rate reduction is conditioned on metric `val_loss` which is not available. Available metrics are: loss,accuracy,lr\n"
          ]
        },
        {
          "output_type": "stream",
          "name": "stdout",
          "text": [
            "\b\b\b\b\b\b\b\b\b\b\b\b\b\b\b\b\b\b\b\b\b\b\b\b\b\b\b\b\b\b\b\b\b\b\b\b\b\b\b\b\b\b\b\b\b\b\b\b\b\b\b\b\b\b\b\b\b\b\b\b\b\b\b\b\b\b\b\b\b\b\b\b\b\b\b\b\b\b\b\b\b\b\r75/75 [==============================] - 0s 5ms/step - loss: 0.0044 - accuracy: 0.9992 - lr: 3.0000e-05\n",
            "Epoch 77/200\n",
            "75/75 [==============================] - ETA: 0s - loss: 0.0043 - accuracy: 0.9996"
          ]
        },
        {
          "output_type": "stream",
          "name": "stderr",
          "text": [
            "WARNING:tensorflow:Early stopping conditioned on metric `val_loss` which is not available. Available metrics are: loss,accuracy\n",
            "WARNING:tensorflow:Learning rate reduction is conditioned on metric `val_loss` which is not available. Available metrics are: loss,accuracy,lr\n"
          ]
        },
        {
          "output_type": "stream",
          "name": "stdout",
          "text": [
            "\b\b\b\b\b\b\b\b\b\b\b\b\b\b\b\b\b\b\b\b\b\b\b\b\b\b\b\b\b\b\b\b\b\b\b\b\b\b\b\b\b\b\b\b\b\b\b\b\b\b\b\b\b\b\b\b\b\b\b\b\b\b\b\b\b\b\b\b\b\b\b\b\b\b\b\b\b\b\b\b\b\b\r75/75 [==============================] - 0s 6ms/step - loss: 0.0043 - accuracy: 0.9996 - lr: 3.0000e-05\n",
            "Epoch 78/200\n",
            "68/75 [==========================>...] - ETA: 0s - loss: 0.0046 - accuracy: 0.9991"
          ]
        },
        {
          "output_type": "stream",
          "name": "stderr",
          "text": [
            "WARNING:tensorflow:Early stopping conditioned on metric `val_loss` which is not available. Available metrics are: loss,accuracy\n",
            "WARNING:tensorflow:Learning rate reduction is conditioned on metric `val_loss` which is not available. Available metrics are: loss,accuracy,lr\n"
          ]
        },
        {
          "output_type": "stream",
          "name": "stdout",
          "text": [
            "\b\b\b\b\b\b\b\b\b\b\b\b\b\b\b\b\b\b\b\b\b\b\b\b\b\b\b\b\b\b\b\b\b\b\b\b\b\b\b\b\b\b\b\b\b\b\b\b\b\b\b\b\b\b\b\b\b\b\b\b\b\b\b\b\b\b\b\b\b\b\b\b\b\b\b\b\b\b\b\b\b\b\r75/75 [==============================] - 0s 6ms/step - loss: 0.0044 - accuracy: 0.9992 - lr: 3.0000e-05\n",
            "Epoch 79/200\n",
            "67/75 [=========================>....] - ETA: 0s - loss: 0.0042 - accuracy: 0.9991"
          ]
        },
        {
          "output_type": "stream",
          "name": "stderr",
          "text": [
            "WARNING:tensorflow:Early stopping conditioned on metric `val_loss` which is not available. Available metrics are: loss,accuracy\n",
            "WARNING:tensorflow:Learning rate reduction is conditioned on metric `val_loss` which is not available. Available metrics are: loss,accuracy,lr\n"
          ]
        },
        {
          "output_type": "stream",
          "name": "stdout",
          "text": [
            "\b\b\b\b\b\b\b\b\b\b\b\b\b\b\b\b\b\b\b\b\b\b\b\b\b\b\b\b\b\b\b\b\b\b\b\b\b\b\b\b\b\b\b\b\b\b\b\b\b\b\b\b\b\b\b\b\b\b\b\b\b\b\b\b\b\b\b\b\b\b\b\b\b\b\b\b\b\b\b\b\b\b\r75/75 [==============================] - 0s 6ms/step - loss: 0.0039 - accuracy: 0.9992 - lr: 3.0000e-05\n",
            "Epoch 80/200\n",
            "69/75 [==========================>...] - ETA: 0s - loss: 0.0039 - accuracy: 0.9995"
          ]
        },
        {
          "output_type": "stream",
          "name": "stderr",
          "text": [
            "WARNING:tensorflow:Early stopping conditioned on metric `val_loss` which is not available. Available metrics are: loss,accuracy\n",
            "WARNING:tensorflow:Learning rate reduction is conditioned on metric `val_loss` which is not available. Available metrics are: loss,accuracy,lr\n"
          ]
        },
        {
          "output_type": "stream",
          "name": "stdout",
          "text": [
            "\b\b\b\b\b\b\b\b\b\b\b\b\b\b\b\b\b\b\b\b\b\b\b\b\b\b\b\b\b\b\b\b\b\b\b\b\b\b\b\b\b\b\b\b\b\b\b\b\b\b\b\b\b\b\b\b\b\b\b\b\b\b\b\b\b\b\b\b\b\b\b\b\b\b\b\b\b\b\b\b\b\b\r75/75 [==============================] - 0s 6ms/step - loss: 0.0038 - accuracy: 0.9996 - lr: 3.0000e-05\n",
            "Epoch 81/200\n",
            "67/75 [=========================>....] - ETA: 0s - loss: 0.0035 - accuracy: 0.9991"
          ]
        },
        {
          "output_type": "stream",
          "name": "stderr",
          "text": [
            "WARNING:tensorflow:Early stopping conditioned on metric `val_loss` which is not available. Available metrics are: loss,accuracy\n",
            "WARNING:tensorflow:Learning rate reduction is conditioned on metric `val_loss` which is not available. Available metrics are: loss,accuracy,lr\n"
          ]
        },
        {
          "output_type": "stream",
          "name": "stdout",
          "text": [
            "\b\b\b\b\b\b\b\b\b\b\b\b\b\b\b\b\b\b\b\b\b\b\b\b\b\b\b\b\b\b\b\b\b\b\b\b\b\b\b\b\b\b\b\b\b\b\b\b\b\b\b\b\b\b\b\b\b\b\b\b\b\b\b\b\b\b\b\b\b\b\b\b\b\b\b\b\b\b\b\b\b\b\r75/75 [==============================] - 0s 6ms/step - loss: 0.0037 - accuracy: 0.9987 - lr: 3.0000e-05\n",
            "Epoch 82/200\n",
            "72/75 [===========================>..] - ETA: 0s - loss: 0.0036 - accuracy: 0.9996"
          ]
        },
        {
          "output_type": "stream",
          "name": "stderr",
          "text": [
            "WARNING:tensorflow:Early stopping conditioned on metric `val_loss` which is not available. Available metrics are: loss,accuracy\n",
            "WARNING:tensorflow:Learning rate reduction is conditioned on metric `val_loss` which is not available. Available metrics are: loss,accuracy,lr\n"
          ]
        },
        {
          "output_type": "stream",
          "name": "stdout",
          "text": [
            "\b\b\b\b\b\b\b\b\b\b\b\b\b\b\b\b\b\b\b\b\b\b\b\b\b\b\b\b\b\b\b\b\b\b\b\b\b\b\b\b\b\b\b\b\b\b\b\b\b\b\b\b\b\b\b\b\b\b\b\b\b\b\b\b\b\b\b\b\b\b\b\b\b\b\b\b\b\b\b\b\b\b\r75/75 [==============================] - 0s 6ms/step - loss: 0.0036 - accuracy: 0.9996 - lr: 3.0000e-05\n",
            "Epoch 83/200\n",
            "74/75 [============================>.] - ETA: 0s - loss: 0.0040 - accuracy: 0.9987"
          ]
        },
        {
          "output_type": "stream",
          "name": "stderr",
          "text": [
            "WARNING:tensorflow:Early stopping conditioned on metric `val_loss` which is not available. Available metrics are: loss,accuracy\n",
            "WARNING:tensorflow:Learning rate reduction is conditioned on metric `val_loss` which is not available. Available metrics are: loss,accuracy,lr\n"
          ]
        },
        {
          "output_type": "stream",
          "name": "stdout",
          "text": [
            "\b\b\b\b\b\b\b\b\b\b\b\b\b\b\b\b\b\b\b\b\b\b\b\b\b\b\b\b\b\b\b\b\b\b\b\b\b\b\b\b\b\b\b\b\b\b\b\b\b\b\b\b\b\b\b\b\b\b\b\b\b\b\b\b\b\b\b\b\b\b\b\b\b\b\b\b\b\b\b\b\b\b\r75/75 [==============================] - 0s 6ms/step - loss: 0.0040 - accuracy: 0.9987 - lr: 3.0000e-05\n",
            "Epoch 84/200\n",
            "74/75 [============================>.] - ETA: 0s - loss: 0.0035 - accuracy: 0.9992"
          ]
        },
        {
          "output_type": "stream",
          "name": "stderr",
          "text": [
            "WARNING:tensorflow:Early stopping conditioned on metric `val_loss` which is not available. Available metrics are: loss,accuracy\n",
            "WARNING:tensorflow:Learning rate reduction is conditioned on metric `val_loss` which is not available. Available metrics are: loss,accuracy,lr\n"
          ]
        },
        {
          "output_type": "stream",
          "name": "stdout",
          "text": [
            "\b\b\b\b\b\b\b\b\b\b\b\b\b\b\b\b\b\b\b\b\b\b\b\b\b\b\b\b\b\b\b\b\b\b\b\b\b\b\b\b\b\b\b\b\b\b\b\b\b\b\b\b\b\b\b\b\b\b\b\b\b\b\b\b\b\b\b\b\b\b\b\b\b\b\b\b\b\b\b\b\b\b\r75/75 [==============================] - 0s 6ms/step - loss: 0.0035 - accuracy: 0.9992 - lr: 3.0000e-05\n",
            "Epoch 85/200\n",
            "75/75 [==============================] - ETA: 0s - loss: 0.0033 - accuracy: 0.9992"
          ]
        },
        {
          "output_type": "stream",
          "name": "stderr",
          "text": [
            "WARNING:tensorflow:Early stopping conditioned on metric `val_loss` which is not available. Available metrics are: loss,accuracy\n",
            "WARNING:tensorflow:Learning rate reduction is conditioned on metric `val_loss` which is not available. Available metrics are: loss,accuracy,lr\n"
          ]
        },
        {
          "output_type": "stream",
          "name": "stdout",
          "text": [
            "\b\b\b\b\b\b\b\b\b\b\b\b\b\b\b\b\b\b\b\b\b\b\b\b\b\b\b\b\b\b\b\b\b\b\b\b\b\b\b\b\b\b\b\b\b\b\b\b\b\b\b\b\b\b\b\b\b\b\b\b\b\b\b\b\b\b\b\b\b\b\b\b\b\b\b\b\b\b\b\b\b\b\r75/75 [==============================] - 0s 6ms/step - loss: 0.0033 - accuracy: 0.9992 - lr: 3.0000e-05\n",
            "Epoch 86/200\n",
            "68/75 [==========================>...] - ETA: 0s - loss: 0.0028 - accuracy: 0.9995"
          ]
        },
        {
          "output_type": "stream",
          "name": "stderr",
          "text": [
            "WARNING:tensorflow:Early stopping conditioned on metric `val_loss` which is not available. Available metrics are: loss,accuracy\n",
            "WARNING:tensorflow:Learning rate reduction is conditioned on metric `val_loss` which is not available. Available metrics are: loss,accuracy,lr\n"
          ]
        },
        {
          "output_type": "stream",
          "name": "stdout",
          "text": [
            "\b\b\b\b\b\b\b\b\b\b\b\b\b\b\b\b\b\b\b\b\b\b\b\b\b\b\b\b\b\b\b\b\b\b\b\b\b\b\b\b\b\b\b\b\b\b\b\b\b\b\b\b\b\b\b\b\b\b\b\b\b\b\b\b\b\b\b\b\b\b\b\b\b\b\b\b\b\b\b\b\b\b\r75/75 [==============================] - 0s 6ms/step - loss: 0.0026 - accuracy: 0.9996 - lr: 3.0000e-05\n",
            "Epoch 87/200\n",
            "69/75 [==========================>...] - ETA: 0s - loss: 0.0035 - accuracy: 0.9986"
          ]
        },
        {
          "output_type": "stream",
          "name": "stderr",
          "text": [
            "WARNING:tensorflow:Early stopping conditioned on metric `val_loss` which is not available. Available metrics are: loss,accuracy\n",
            "WARNING:tensorflow:Learning rate reduction is conditioned on metric `val_loss` which is not available. Available metrics are: loss,accuracy,lr\n"
          ]
        },
        {
          "output_type": "stream",
          "name": "stdout",
          "text": [
            "\b\b\b\b\b\b\b\b\b\b\b\b\b\b\b\b\b\b\b\b\b\b\b\b\b\b\b\b\b\b\b\b\b\b\b\b\b\b\b\b\b\b\b\b\b\b\b\b\b\b\b\b\b\b\b\b\b\b\b\b\b\b\b\b\b\b\b\b\b\b\b\b\b\b\b\b\b\b\b\b\b\b\r75/75 [==============================] - 0s 6ms/step - loss: 0.0033 - accuracy: 0.9987 - lr: 3.0000e-05\n",
            "Epoch 88/200\n",
            "75/75 [==============================] - ETA: 0s - loss: 0.0038 - accuracy: 0.9987"
          ]
        },
        {
          "output_type": "stream",
          "name": "stderr",
          "text": [
            "WARNING:tensorflow:Early stopping conditioned on metric `val_loss` which is not available. Available metrics are: loss,accuracy\n",
            "WARNING:tensorflow:Learning rate reduction is conditioned on metric `val_loss` which is not available. Available metrics are: loss,accuracy,lr\n"
          ]
        },
        {
          "output_type": "stream",
          "name": "stdout",
          "text": [
            "\b\b\b\b\b\b\b\b\b\b\b\b\b\b\b\b\b\b\b\b\b\b\b\b\b\b\b\b\b\b\b\b\b\b\b\b\b\b\b\b\b\b\b\b\b\b\b\b\b\b\b\b\b\b\b\b\b\b\b\b\b\b\b\b\b\b\b\b\b\b\b\b\b\b\b\b\b\b\b\b\b\b\r75/75 [==============================] - 0s 6ms/step - loss: 0.0038 - accuracy: 0.9987 - lr: 3.0000e-05\n",
            "Epoch 89/200\n",
            "74/75 [============================>.] - ETA: 0s - loss: 0.0029 - accuracy: 0.9996"
          ]
        },
        {
          "output_type": "stream",
          "name": "stderr",
          "text": [
            "WARNING:tensorflow:Early stopping conditioned on metric `val_loss` which is not available. Available metrics are: loss,accuracy\n",
            "WARNING:tensorflow:Learning rate reduction is conditioned on metric `val_loss` which is not available. Available metrics are: loss,accuracy,lr\n"
          ]
        },
        {
          "output_type": "stream",
          "name": "stdout",
          "text": [
            "\b\b\b\b\b\b\b\b\b\b\b\b\b\b\b\b\b\b\b\b\b\b\b\b\b\b\b\b\b\b\b\b\b\b\b\b\b\b\b\b\b\b\b\b\b\b\b\b\b\b\b\b\b\b\b\b\b\b\b\b\b\b\b\b\b\b\b\b\b\b\b\b\b\b\b\b\b\b\b\b\b\b\r75/75 [==============================] - 0s 6ms/step - loss: 0.0029 - accuracy: 0.9996 - lr: 3.0000e-05\n",
            "Epoch 90/200\n",
            "74/75 [============================>.] - ETA: 0s - loss: 0.0035 - accuracy: 0.9987"
          ]
        },
        {
          "output_type": "stream",
          "name": "stderr",
          "text": [
            "WARNING:tensorflow:Early stopping conditioned on metric `val_loss` which is not available. Available metrics are: loss,accuracy\n",
            "WARNING:tensorflow:Learning rate reduction is conditioned on metric `val_loss` which is not available. Available metrics are: loss,accuracy,lr\n"
          ]
        },
        {
          "output_type": "stream",
          "name": "stdout",
          "text": [
            "\b\b\b\b\b\b\b\b\b\b\b\b\b\b\b\b\b\b\b\b\b\b\b\b\b\b\b\b\b\b\b\b\b\b\b\b\b\b\b\b\b\b\b\b\b\b\b\b\b\b\b\b\b\b\b\b\b\b\b\b\b\b\b\b\b\b\b\b\b\b\b\b\b\b\b\b\b\b\b\b\b\b\r75/75 [==============================] - 0s 6ms/step - loss: 0.0035 - accuracy: 0.9987 - lr: 3.0000e-05\n",
            "Epoch 91/200\n",
            "66/75 [=========================>....] - ETA: 0s - loss: 0.0030 - accuracy: 0.9986"
          ]
        },
        {
          "output_type": "stream",
          "name": "stderr",
          "text": [
            "WARNING:tensorflow:Early stopping conditioned on metric `val_loss` which is not available. Available metrics are: loss,accuracy\n",
            "WARNING:tensorflow:Learning rate reduction is conditioned on metric `val_loss` which is not available. Available metrics are: loss,accuracy,lr\n"
          ]
        },
        {
          "output_type": "stream",
          "name": "stdout",
          "text": [
            "\b\b\b\b\b\b\b\b\b\b\b\b\b\b\b\b\b\b\b\b\b\b\b\b\b\b\b\b\b\b\b\b\b\b\b\b\b\b\b\b\b\b\b\b\b\b\b\b\b\b\b\b\b\b\b\b\b\b\b\b\b\b\b\b\b\b\b\b\b\b\b\b\b\b\b\b\b\b\b\b\b\b\r75/75 [==============================] - 0s 6ms/step - loss: 0.0028 - accuracy: 0.9987 - lr: 3.0000e-05\n",
            "Epoch 92/200\n",
            "68/75 [==========================>...] - ETA: 0s - loss: 0.0026 - accuracy: 0.9991"
          ]
        },
        {
          "output_type": "stream",
          "name": "stderr",
          "text": [
            "WARNING:tensorflow:Early stopping conditioned on metric `val_loss` which is not available. Available metrics are: loss,accuracy\n",
            "WARNING:tensorflow:Learning rate reduction is conditioned on metric `val_loss` which is not available. Available metrics are: loss,accuracy,lr\n"
          ]
        },
        {
          "output_type": "stream",
          "name": "stdout",
          "text": [
            "\b\b\b\b\b\b\b\b\b\b\b\b\b\b\b\b\b\b\b\b\b\b\b\b\b\b\b\b\b\b\b\b\b\b\b\b\b\b\b\b\b\b\b\b\b\b\b\b\b\b\b\b\b\b\b\b\b\b\b\b\b\b\b\b\b\b\b\b\b\b\b\b\b\b\b\b\b\b\b\b\b\b\r75/75 [==============================] - 0s 6ms/step - loss: 0.0026 - accuracy: 0.9992 - lr: 3.0000e-05\n",
            "Epoch 93/200\n",
            "74/75 [============================>.] - ETA: 0s - loss: 0.0032 - accuracy: 0.9992"
          ]
        },
        {
          "output_type": "stream",
          "name": "stderr",
          "text": [
            "WARNING:tensorflow:Early stopping conditioned on metric `val_loss` which is not available. Available metrics are: loss,accuracy\n",
            "WARNING:tensorflow:Learning rate reduction is conditioned on metric `val_loss` which is not available. Available metrics are: loss,accuracy,lr\n"
          ]
        },
        {
          "output_type": "stream",
          "name": "stdout",
          "text": [
            "\b\b\b\b\b\b\b\b\b\b\b\b\b\b\b\b\b\b\b\b\b\b\b\b\b\b\b\b\b\b\b\b\b\b\b\b\b\b\b\b\b\b\b\b\b\b\b\b\b\b\b\b\b\b\b\b\b\b\b\b\b\b\b\b\b\b\b\b\b\b\b\b\b\b\b\b\b\b\b\b\b\b\r75/75 [==============================] - 0s 6ms/step - loss: 0.0032 - accuracy: 0.9992 - lr: 3.0000e-05\n",
            "Epoch 94/200\n",
            "67/75 [=========================>....] - ETA: 0s - loss: 0.0023 - accuracy: 0.9991"
          ]
        },
        {
          "output_type": "stream",
          "name": "stderr",
          "text": [
            "WARNING:tensorflow:Early stopping conditioned on metric `val_loss` which is not available. Available metrics are: loss,accuracy\n",
            "WARNING:tensorflow:Learning rate reduction is conditioned on metric `val_loss` which is not available. Available metrics are: loss,accuracy,lr\n"
          ]
        },
        {
          "output_type": "stream",
          "name": "stdout",
          "text": [
            "\b\b\b\b\b\b\b\b\b\b\b\b\b\b\b\b\b\b\b\b\b\b\b\b\b\b\b\b\b\b\b\b\b\b\b\b\b\b\b\b\b\b\b\b\b\b\b\b\b\b\b\b\b\b\b\b\b\b\b\b\b\b\b\b\b\b\b\b\b\b\b\b\b\b\b\b\b\b\b\b\b\b\r75/75 [==============================] - 0s 6ms/step - loss: 0.0021 - accuracy: 0.9992 - lr: 3.0000e-05\n",
            "Epoch 95/200\n",
            "69/75 [==========================>...] - ETA: 0s - loss: 0.0018 - accuracy: 0.9995"
          ]
        },
        {
          "output_type": "stream",
          "name": "stderr",
          "text": [
            "WARNING:tensorflow:Early stopping conditioned on metric `val_loss` which is not available. Available metrics are: loss,accuracy\n",
            "WARNING:tensorflow:Learning rate reduction is conditioned on metric `val_loss` which is not available. Available metrics are: loss,accuracy,lr\n"
          ]
        },
        {
          "output_type": "stream",
          "name": "stdout",
          "text": [
            "\b\b\b\b\b\b\b\b\b\b\b\b\b\b\b\b\b\b\b\b\b\b\b\b\b\b\b\b\b\b\b\b\b\b\b\b\b\b\b\b\b\b\b\b\b\b\b\b\b\b\b\b\b\b\b\b\b\b\b\b\b\b\b\b\b\b\b\b\b\b\b\b\b\b\b\b\b\b\b\b\b\b\r75/75 [==============================] - 0s 6ms/step - loss: 0.0020 - accuracy: 0.9996 - lr: 3.0000e-05\n",
            "Epoch 96/200\n",
            "74/75 [============================>.] - ETA: 0s - loss: 0.0019 - accuracy: 1.0000"
          ]
        },
        {
          "output_type": "stream",
          "name": "stderr",
          "text": [
            "WARNING:tensorflow:Early stopping conditioned on metric `val_loss` which is not available. Available metrics are: loss,accuracy\n",
            "WARNING:tensorflow:Learning rate reduction is conditioned on metric `val_loss` which is not available. Available metrics are: loss,accuracy,lr\n"
          ]
        },
        {
          "output_type": "stream",
          "name": "stdout",
          "text": [
            "\b\b\b\b\b\b\b\b\b\b\b\b\b\b\b\b\b\b\b\b\b\b\b\b\b\b\b\b\b\b\b\b\b\b\b\b\b\b\b\b\b\b\b\b\b\b\b\b\b\b\b\b\b\b\b\b\b\b\b\b\b\b\b\b\b\b\b\b\b\b\b\b\b\b\b\b\b\b\b\b\b\b\r75/75 [==============================] - 0s 6ms/step - loss: 0.0019 - accuracy: 1.0000 - lr: 3.0000e-05\n",
            "Epoch 97/200\n",
            "73/75 [============================>.] - ETA: 0s - loss: 0.0028 - accuracy: 0.9996"
          ]
        },
        {
          "output_type": "stream",
          "name": "stderr",
          "text": [
            "WARNING:tensorflow:Early stopping conditioned on metric `val_loss` which is not available. Available metrics are: loss,accuracy\n",
            "WARNING:tensorflow:Learning rate reduction is conditioned on metric `val_loss` which is not available. Available metrics are: loss,accuracy,lr\n"
          ]
        },
        {
          "output_type": "stream",
          "name": "stdout",
          "text": [
            "\b\b\b\b\b\b\b\b\b\b\b\b\b\b\b\b\b\b\b\b\b\b\b\b\b\b\b\b\b\b\b\b\b\b\b\b\b\b\b\b\b\b\b\b\b\b\b\b\b\b\b\b\b\b\b\b\b\b\b\b\b\b\b\b\b\b\b\b\b\b\b\b\b\b\b\b\b\b\b\b\b\b\r75/75 [==============================] - 0s 6ms/step - loss: 0.0028 - accuracy: 0.9996 - lr: 3.0000e-05\n",
            "Epoch 98/200\n",
            "66/75 [=========================>....] - ETA: 0s - loss: 0.0014 - accuracy: 1.0000"
          ]
        },
        {
          "output_type": "stream",
          "name": "stderr",
          "text": [
            "WARNING:tensorflow:Early stopping conditioned on metric `val_loss` which is not available. Available metrics are: loss,accuracy\n",
            "WARNING:tensorflow:Learning rate reduction is conditioned on metric `val_loss` which is not available. Available metrics are: loss,accuracy,lr\n"
          ]
        },
        {
          "output_type": "stream",
          "name": "stdout",
          "text": [
            "\b\b\b\b\b\b\b\b\b\b\b\b\b\b\b\b\b\b\b\b\b\b\b\b\b\b\b\b\b\b\b\b\b\b\b\b\b\b\b\b\b\b\b\b\b\b\b\b\b\b\b\b\b\b\b\b\b\b\b\b\b\b\b\b\b\b\b\b\b\b\b\b\b\b\b\b\b\b\b\b\b\b\r75/75 [==============================] - 0s 6ms/step - loss: 0.0024 - accuracy: 0.9996 - lr: 3.0000e-05\n",
            "Epoch 99/200\n",
            "68/75 [==========================>...] - ETA: 0s - loss: 0.0012 - accuracy: 1.0000"
          ]
        },
        {
          "output_type": "stream",
          "name": "stderr",
          "text": [
            "WARNING:tensorflow:Early stopping conditioned on metric `val_loss` which is not available. Available metrics are: loss,accuracy\n",
            "WARNING:tensorflow:Learning rate reduction is conditioned on metric `val_loss` which is not available. Available metrics are: loss,accuracy,lr\n"
          ]
        },
        {
          "output_type": "stream",
          "name": "stdout",
          "text": [
            "\b\b\b\b\b\b\b\b\b\b\b\b\b\b\b\b\b\b\b\b\b\b\b\b\b\b\b\b\b\b\b\b\b\b\b\b\b\b\b\b\b\b\b\b\b\b\b\b\b\b\b\b\b\b\b\b\b\b\b\b\b\b\b\b\b\b\b\b\b\b\b\b\b\b\b\b\b\b\b\b\b\b\r75/75 [==============================] - 0s 6ms/step - loss: 0.0025 - accuracy: 0.9996 - lr: 3.0000e-05\n",
            "Epoch 100/200\n",
            "71/75 [===========================>..] - ETA: 0s - loss: 0.0020 - accuracy: 1.0000"
          ]
        },
        {
          "output_type": "stream",
          "name": "stderr",
          "text": [
            "WARNING:tensorflow:Early stopping conditioned on metric `val_loss` which is not available. Available metrics are: loss,accuracy\n",
            "WARNING:tensorflow:Learning rate reduction is conditioned on metric `val_loss` which is not available. Available metrics are: loss,accuracy,lr\n"
          ]
        },
        {
          "output_type": "stream",
          "name": "stdout",
          "text": [
            "\b\b\b\b\b\b\b\b\b\b\b\b\b\b\b\b\b\b\b\b\b\b\b\b\b\b\b\b\b\b\b\b\b\b\b\b\b\b\b\b\b\b\b\b\b\b\b\b\b\b\b\b\b\b\b\b\b\b\b\b\b\b\b\b\b\b\b\b\b\b\b\b\b\b\b\b\b\b\b\b\b\b\r75/75 [==============================] - 0s 6ms/step - loss: 0.0019 - accuracy: 1.0000 - lr: 3.0000e-05\n",
            "Epoch 101/200\n",
            "69/75 [==========================>...] - ETA: 0s - loss: 0.0026 - accuracy: 0.9995"
          ]
        },
        {
          "output_type": "stream",
          "name": "stderr",
          "text": [
            "WARNING:tensorflow:Early stopping conditioned on metric `val_loss` which is not available. Available metrics are: loss,accuracy\n",
            "WARNING:tensorflow:Learning rate reduction is conditioned on metric `val_loss` which is not available. Available metrics are: loss,accuracy,lr\n"
          ]
        },
        {
          "output_type": "stream",
          "name": "stdout",
          "text": [
            "\b\b\b\b\b\b\b\b\b\b\b\b\b\b\b\b\b\b\b\b\b\b\b\b\b\b\b\b\b\b\b\b\b\b\b\b\b\b\b\b\b\b\b\b\b\b\b\b\b\b\b\b\b\b\b\b\b\b\b\b\b\b\b\b\b\b\b\b\b\b\b\b\b\b\b\b\b\b\b\b\b\b\r75/75 [==============================] - 0s 6ms/step - loss: 0.0027 - accuracy: 0.9996 - lr: 3.0000e-05\n",
            "Epoch 102/200\n",
            "74/75 [============================>.] - ETA: 0s - loss: 0.0021 - accuracy: 0.9987"
          ]
        },
        {
          "output_type": "stream",
          "name": "stderr",
          "text": [
            "WARNING:tensorflow:Early stopping conditioned on metric `val_loss` which is not available. Available metrics are: loss,accuracy\n",
            "WARNING:tensorflow:Learning rate reduction is conditioned on metric `val_loss` which is not available. Available metrics are: loss,accuracy,lr\n"
          ]
        },
        {
          "output_type": "stream",
          "name": "stdout",
          "text": [
            "\b\b\b\b\b\b\b\b\b\b\b\b\b\b\b\b\b\b\b\b\b\b\b\b\b\b\b\b\b\b\b\b\b\b\b\b\b\b\b\b\b\b\b\b\b\b\b\b\b\b\b\b\b\b\b\b\b\b\b\b\b\b\b\b\b\b\b\b\b\b\b\b\b\b\b\b\b\b\b\b\b\b\r75/75 [==============================] - 0s 6ms/step - loss: 0.0021 - accuracy: 0.9987 - lr: 3.0000e-05\n",
            "Epoch 103/200\n",
            "74/75 [============================>.] - ETA: 0s - loss: 0.0020 - accuracy: 0.9996"
          ]
        },
        {
          "output_type": "stream",
          "name": "stderr",
          "text": [
            "WARNING:tensorflow:Early stopping conditioned on metric `val_loss` which is not available. Available metrics are: loss,accuracy\n",
            "WARNING:tensorflow:Learning rate reduction is conditioned on metric `val_loss` which is not available. Available metrics are: loss,accuracy,lr\n"
          ]
        },
        {
          "output_type": "stream",
          "name": "stdout",
          "text": [
            "\b\b\b\b\b\b\b\b\b\b\b\b\b\b\b\b\b\b\b\b\b\b\b\b\b\b\b\b\b\b\b\b\b\b\b\b\b\b\b\b\b\b\b\b\b\b\b\b\b\b\b\b\b\b\b\b\b\b\b\b\b\b\b\b\b\b\b\b\b\b\b\b\b\b\b\b\b\b\b\b\b\b\r75/75 [==============================] - 0s 6ms/step - loss: 0.0020 - accuracy: 0.9996 - lr: 3.0000e-05\n",
            "Epoch 104/200\n",
            "71/75 [===========================>..] - ETA: 0s - loss: 0.0037 - accuracy: 0.9991"
          ]
        },
        {
          "output_type": "stream",
          "name": "stderr",
          "text": [
            "WARNING:tensorflow:Early stopping conditioned on metric `val_loss` which is not available. Available metrics are: loss,accuracy\n",
            "WARNING:tensorflow:Learning rate reduction is conditioned on metric `val_loss` which is not available. Available metrics are: loss,accuracy,lr\n"
          ]
        },
        {
          "output_type": "stream",
          "name": "stdout",
          "text": [
            "\b\b\b\b\b\b\b\b\b\b\b\b\b\b\b\b\b\b\b\b\b\b\b\b\b\b\b\b\b\b\b\b\b\b\b\b\b\b\b\b\b\b\b\b\b\b\b\b\b\b\b\b\b\b\b\b\b\b\b\b\b\b\b\b\b\b\b\b\b\b\b\b\b\b\b\b\b\b\b\b\b\b\r75/75 [==============================] - 1s 9ms/step - loss: 0.0035 - accuracy: 0.9992 - lr: 3.0000e-05\n",
            "Epoch 105/200\n",
            "71/75 [===========================>..] - ETA: 0s - loss: 0.0029 - accuracy: 0.9987"
          ]
        },
        {
          "output_type": "stream",
          "name": "stderr",
          "text": [
            "WARNING:tensorflow:Early stopping conditioned on metric `val_loss` which is not available. Available metrics are: loss,accuracy\n",
            "WARNING:tensorflow:Learning rate reduction is conditioned on metric `val_loss` which is not available. Available metrics are: loss,accuracy,lr\n"
          ]
        },
        {
          "output_type": "stream",
          "name": "stdout",
          "text": [
            "\b\b\b\b\b\b\b\b\b\b\b\b\b\b\b\b\b\b\b\b\b\b\b\b\b\b\b\b\b\b\b\b\b\b\b\b\b\b\b\b\b\b\b\b\b\b\b\b\b\b\b\b\b\b\b\b\b\b\b\b\b\b\b\b\b\b\b\b\b\b\b\b\b\b\b\b\b\b\b\b\b\b\r75/75 [==============================] - 1s 8ms/step - loss: 0.0029 - accuracy: 0.9987 - lr: 3.0000e-05\n",
            "Epoch 106/200\n",
            "69/75 [==========================>...] - ETA: 0s - loss: 0.0017 - accuracy: 0.9995"
          ]
        },
        {
          "output_type": "stream",
          "name": "stderr",
          "text": [
            "WARNING:tensorflow:Early stopping conditioned on metric `val_loss` which is not available. Available metrics are: loss,accuracy\n",
            "WARNING:tensorflow:Learning rate reduction is conditioned on metric `val_loss` which is not available. Available metrics are: loss,accuracy,lr\n"
          ]
        },
        {
          "output_type": "stream",
          "name": "stdout",
          "text": [
            "\b\b\b\b\b\b\b\b\b\b\b\b\b\b\b\b\b\b\b\b\b\b\b\b\b\b\b\b\b\b\b\b\b\b\b\b\b\b\b\b\b\b\b\b\b\b\b\b\b\b\b\b\b\b\b\b\b\b\b\b\b\b\b\b\b\b\b\b\b\b\b\b\b\b\b\b\b\b\b\b\b\b\r75/75 [==============================] - 1s 8ms/step - loss: 0.0019 - accuracy: 0.9996 - lr: 3.0000e-05\n",
            "Epoch 107/200\n",
            "72/75 [===========================>..] - ETA: 0s - loss: 0.0027 - accuracy: 0.9991"
          ]
        },
        {
          "output_type": "stream",
          "name": "stderr",
          "text": [
            "WARNING:tensorflow:Early stopping conditioned on metric `val_loss` which is not available. Available metrics are: loss,accuracy\n",
            "WARNING:tensorflow:Learning rate reduction is conditioned on metric `val_loss` which is not available. Available metrics are: loss,accuracy,lr\n"
          ]
        },
        {
          "output_type": "stream",
          "name": "stdout",
          "text": [
            "\b\b\b\b\b\b\b\b\b\b\b\b\b\b\b\b\b\b\b\b\b\b\b\b\b\b\b\b\b\b\b\b\b\b\b\b\b\b\b\b\b\b\b\b\b\b\b\b\b\b\b\b\b\b\b\b\b\b\b\b\b\b\b\b\b\b\b\b\b\b\b\b\b\b\b\b\b\b\b\b\b\b\r75/75 [==============================] - 1s 7ms/step - loss: 0.0026 - accuracy: 0.9992 - lr: 3.0000e-05\n",
            "Epoch 108/200\n",
            "72/75 [===========================>..] - ETA: 0s - loss: 0.0019 - accuracy: 0.9991"
          ]
        },
        {
          "output_type": "stream",
          "name": "stderr",
          "text": [
            "WARNING:tensorflow:Early stopping conditioned on metric `val_loss` which is not available. Available metrics are: loss,accuracy\n",
            "WARNING:tensorflow:Learning rate reduction is conditioned on metric `val_loss` which is not available. Available metrics are: loss,accuracy,lr\n"
          ]
        },
        {
          "output_type": "stream",
          "name": "stdout",
          "text": [
            "\b\b\b\b\b\b\b\b\b\b\b\b\b\b\b\b\b\b\b\b\b\b\b\b\b\b\b\b\b\b\b\b\b\b\b\b\b\b\b\b\b\b\b\b\b\b\b\b\b\b\b\b\b\b\b\b\b\b\b\b\b\b\b\b\b\b\b\b\b\b\b\b\b\b\b\b\b\b\b\b\b\b\r75/75 [==============================] - 1s 7ms/step - loss: 0.0018 - accuracy: 0.9992 - lr: 3.0000e-05\n",
            "Epoch 109/200\n",
            "73/75 [============================>.] - ETA: 0s - loss: 0.0017 - accuracy: 0.9996"
          ]
        },
        {
          "output_type": "stream",
          "name": "stderr",
          "text": [
            "WARNING:tensorflow:Early stopping conditioned on metric `val_loss` which is not available. Available metrics are: loss,accuracy\n",
            "WARNING:tensorflow:Learning rate reduction is conditioned on metric `val_loss` which is not available. Available metrics are: loss,accuracy,lr\n"
          ]
        },
        {
          "output_type": "stream",
          "name": "stdout",
          "text": [
            "\b\b\b\b\b\b\b\b\b\b\b\b\b\b\b\b\b\b\b\b\b\b\b\b\b\b\b\b\b\b\b\b\b\b\b\b\b\b\b\b\b\b\b\b\b\b\b\b\b\b\b\b\b\b\b\b\b\b\b\b\b\b\b\b\b\b\b\b\b\b\b\b\b\b\b\b\b\b\b\b\b\b\r75/75 [==============================] - 1s 8ms/step - loss: 0.0017 - accuracy: 0.9996 - lr: 3.0000e-05\n",
            "Epoch 110/200\n",
            "70/75 [===========================>..] - ETA: 0s - loss: 0.0015 - accuracy: 0.9996"
          ]
        },
        {
          "output_type": "stream",
          "name": "stderr",
          "text": [
            "WARNING:tensorflow:Early stopping conditioned on metric `val_loss` which is not available. Available metrics are: loss,accuracy\n",
            "WARNING:tensorflow:Learning rate reduction is conditioned on metric `val_loss` which is not available. Available metrics are: loss,accuracy,lr\n"
          ]
        },
        {
          "output_type": "stream",
          "name": "stdout",
          "text": [
            "\b\b\b\b\b\b\b\b\b\b\b\b\b\b\b\b\b\b\b\b\b\b\b\b\b\b\b\b\b\b\b\b\b\b\b\b\b\b\b\b\b\b\b\b\b\b\b\b\b\b\b\b\b\b\b\b\b\b\b\b\b\b\b\b\b\b\b\b\b\b\b\b\b\b\b\b\b\b\b\b\b\b\r75/75 [==============================] - 1s 8ms/step - loss: 0.0015 - accuracy: 0.9996 - lr: 3.0000e-05\n",
            "Epoch 111/200\n",
            "68/75 [==========================>...] - ETA: 0s - loss: 0.0017 - accuracy: 0.9991"
          ]
        },
        {
          "output_type": "stream",
          "name": "stderr",
          "text": [
            "WARNING:tensorflow:Early stopping conditioned on metric `val_loss` which is not available. Available metrics are: loss,accuracy\n",
            "WARNING:tensorflow:Learning rate reduction is conditioned on metric `val_loss` which is not available. Available metrics are: loss,accuracy,lr\n"
          ]
        },
        {
          "output_type": "stream",
          "name": "stdout",
          "text": [
            "\b\b\b\b\b\b\b\b\b\b\b\b\b\b\b\b\b\b\b\b\b\b\b\b\b\b\b\b\b\b\b\b\b\b\b\b\b\b\b\b\b\b\b\b\b\b\b\b\b\b\b\b\b\b\b\b\b\b\b\b\b\b\b\b\b\b\b\b\b\b\b\b\b\b\b\b\b\b\b\b\b\b\r75/75 [==============================] - 0s 6ms/step - loss: 0.0016 - accuracy: 0.9992 - lr: 3.0000e-05\n",
            "Epoch 112/200\n",
            "67/75 [=========================>....] - ETA: 0s - loss: 0.0018 - accuracy: 0.9991"
          ]
        },
        {
          "output_type": "stream",
          "name": "stderr",
          "text": [
            "WARNING:tensorflow:Early stopping conditioned on metric `val_loss` which is not available. Available metrics are: loss,accuracy\n",
            "WARNING:tensorflow:Learning rate reduction is conditioned on metric `val_loss` which is not available. Available metrics are: loss,accuracy,lr\n"
          ]
        },
        {
          "output_type": "stream",
          "name": "stdout",
          "text": [
            "\b\b\b\b\b\b\b\b\b\b\b\b\b\b\b\b\b\b\b\b\b\b\b\b\b\b\b\b\b\b\b\b\b\b\b\b\b\b\b\b\b\b\b\b\b\b\b\b\b\b\b\b\b\b\b\b\b\b\b\b\b\b\b\b\b\b\b\b\b\b\b\b\b\b\b\b\b\b\b\b\b\b\r75/75 [==============================] - 0s 6ms/step - loss: 0.0018 - accuracy: 0.9992 - lr: 3.0000e-05\n",
            "Epoch 113/200\n",
            "66/75 [=========================>....] - ETA: 0s - loss: 0.0022 - accuracy: 0.9995"
          ]
        },
        {
          "output_type": "stream",
          "name": "stderr",
          "text": [
            "WARNING:tensorflow:Early stopping conditioned on metric `val_loss` which is not available. Available metrics are: loss,accuracy\n",
            "WARNING:tensorflow:Learning rate reduction is conditioned on metric `val_loss` which is not available. Available metrics are: loss,accuracy,lr\n"
          ]
        },
        {
          "output_type": "stream",
          "name": "stdout",
          "text": [
            "\b\b\b\b\b\b\b\b\b\b\b\b\b\b\b\b\b\b\b\b\b\b\b\b\b\b\b\b\b\b\b\b\b\b\b\b\b\b\b\b\b\b\b\b\b\b\b\b\b\b\b\b\b\b\b\b\b\b\b\b\b\b\b\b\b\b\b\b\b\b\b\b\b\b\b\b\b\b\b\b\b\b\r75/75 [==============================] - 0s 6ms/step - loss: 0.0020 - accuracy: 0.9996 - lr: 3.0000e-05\n",
            "Epoch 114/200\n",
            "75/75 [==============================] - ETA: 0s - loss: 0.0018 - accuracy: 0.9992"
          ]
        },
        {
          "output_type": "stream",
          "name": "stderr",
          "text": [
            "WARNING:tensorflow:Early stopping conditioned on metric `val_loss` which is not available. Available metrics are: loss,accuracy\n",
            "WARNING:tensorflow:Learning rate reduction is conditioned on metric `val_loss` which is not available. Available metrics are: loss,accuracy,lr\n"
          ]
        },
        {
          "output_type": "stream",
          "name": "stdout",
          "text": [
            "\b\b\b\b\b\b\b\b\b\b\b\b\b\b\b\b\b\b\b\b\b\b\b\b\b\b\b\b\b\b\b\b\b\b\b\b\b\b\b\b\b\b\b\b\b\b\b\b\b\b\b\b\b\b\b\b\b\b\b\b\b\b\b\b\b\b\b\b\b\b\b\b\b\b\b\b\b\b\b\b\b\b\r75/75 [==============================] - 0s 6ms/step - loss: 0.0018 - accuracy: 0.9992 - lr: 3.0000e-05\n",
            "Epoch 115/200\n",
            "69/75 [==========================>...] - ETA: 0s - loss: 0.0022 - accuracy: 0.9986"
          ]
        },
        {
          "output_type": "stream",
          "name": "stderr",
          "text": [
            "WARNING:tensorflow:Early stopping conditioned on metric `val_loss` which is not available. Available metrics are: loss,accuracy\n",
            "WARNING:tensorflow:Learning rate reduction is conditioned on metric `val_loss` which is not available. Available metrics are: loss,accuracy,lr\n"
          ]
        },
        {
          "output_type": "stream",
          "name": "stdout",
          "text": [
            "\b\b\b\b\b\b\b\b\b\b\b\b\b\b\b\b\b\b\b\b\b\b\b\b\b\b\b\b\b\b\b\b\b\b\b\b\b\b\b\b\b\b\b\b\b\b\b\b\b\b\b\b\b\b\b\b\b\b\b\b\b\b\b\b\b\b\b\b\b\b\b\b\b\b\b\b\b\b\b\b\b\b\r75/75 [==============================] - 0s 6ms/step - loss: 0.0021 - accuracy: 0.9987 - lr: 3.0000e-05\n",
            "Epoch 116/200\n",
            "68/75 [==========================>...] - ETA: 0s - loss: 0.0021 - accuracy: 0.9991"
          ]
        },
        {
          "output_type": "stream",
          "name": "stderr",
          "text": [
            "WARNING:tensorflow:Early stopping conditioned on metric `val_loss` which is not available. Available metrics are: loss,accuracy\n",
            "WARNING:tensorflow:Learning rate reduction is conditioned on metric `val_loss` which is not available. Available metrics are: loss,accuracy,lr\n"
          ]
        },
        {
          "output_type": "stream",
          "name": "stdout",
          "text": [
            "\b\b\b\b\b\b\b\b\b\b\b\b\b\b\b\b\b\b\b\b\b\b\b\b\b\b\b\b\b\b\b\b\b\b\b\b\b\b\b\b\b\b\b\b\b\b\b\b\b\b\b\b\b\b\b\b\b\b\b\b\b\b\b\b\b\b\b\b\b\b\b\b\b\b\b\b\b\b\b\b\b\b\r75/75 [==============================] - 0s 6ms/step - loss: 0.0020 - accuracy: 0.9992 - lr: 3.0000e-05\n",
            "Epoch 117/200\n",
            "66/75 [=========================>....] - ETA: 0s - loss: 0.0012 - accuracy: 1.0000"
          ]
        },
        {
          "output_type": "stream",
          "name": "stderr",
          "text": [
            "WARNING:tensorflow:Early stopping conditioned on metric `val_loss` which is not available. Available metrics are: loss,accuracy\n",
            "WARNING:tensorflow:Learning rate reduction is conditioned on metric `val_loss` which is not available. Available metrics are: loss,accuracy,lr\n"
          ]
        },
        {
          "output_type": "stream",
          "name": "stdout",
          "text": [
            "\b\b\b\b\b\b\b\b\b\b\b\b\b\b\b\b\b\b\b\b\b\b\b\b\b\b\b\b\b\b\b\b\b\b\b\b\b\b\b\b\b\b\b\b\b\b\b\b\b\b\b\b\b\b\b\b\b\b\b\b\b\b\b\b\b\b\b\b\b\b\b\b\b\b\b\b\b\b\b\b\b\b\r75/75 [==============================] - 0s 6ms/step - loss: 0.0011 - accuracy: 1.0000 - lr: 3.0000e-05\n",
            "Epoch 118/200\n",
            "67/75 [=========================>....] - ETA: 0s - loss: 0.0013 - accuracy: 1.0000"
          ]
        },
        {
          "output_type": "stream",
          "name": "stderr",
          "text": [
            "WARNING:tensorflow:Early stopping conditioned on metric `val_loss` which is not available. Available metrics are: loss,accuracy\n",
            "WARNING:tensorflow:Learning rate reduction is conditioned on metric `val_loss` which is not available. Available metrics are: loss,accuracy,lr\n"
          ]
        },
        {
          "output_type": "stream",
          "name": "stdout",
          "text": [
            "\b\b\b\b\b\b\b\b\b\b\b\b\b\b\b\b\b\b\b\b\b\b\b\b\b\b\b\b\b\b\b\b\b\b\b\b\b\b\b\b\b\b\b\b\b\b\b\b\b\b\b\b\b\b\b\b\b\b\b\b\b\b\b\b\b\b\b\b\b\b\b\b\b\b\b\b\b\b\b\b\b\b\r75/75 [==============================] - 0s 6ms/step - loss: 0.0015 - accuracy: 0.9996 - lr: 3.0000e-05\n",
            "Epoch 119/200\n",
            "74/75 [============================>.] - ETA: 0s - loss: 0.0022 - accuracy: 0.9992"
          ]
        },
        {
          "output_type": "stream",
          "name": "stderr",
          "text": [
            "WARNING:tensorflow:Early stopping conditioned on metric `val_loss` which is not available. Available metrics are: loss,accuracy\n",
            "WARNING:tensorflow:Learning rate reduction is conditioned on metric `val_loss` which is not available. Available metrics are: loss,accuracy,lr\n"
          ]
        },
        {
          "output_type": "stream",
          "name": "stdout",
          "text": [
            "\b\b\b\b\b\b\b\b\b\b\b\b\b\b\b\b\b\b\b\b\b\b\b\b\b\b\b\b\b\b\b\b\b\b\b\b\b\b\b\b\b\b\b\b\b\b\b\b\b\b\b\b\b\b\b\b\b\b\b\b\b\b\b\b\b\b\b\b\b\b\b\b\b\b\b\b\b\b\b\b\b\b\r75/75 [==============================] - 0s 6ms/step - loss: 0.0022 - accuracy: 0.9992 - lr: 3.0000e-05\n",
            "Epoch 120/200\n",
            "69/75 [==========================>...] - ETA: 0s - loss: 0.0010 - accuracy: 0.9995"
          ]
        },
        {
          "output_type": "stream",
          "name": "stderr",
          "text": [
            "WARNING:tensorflow:Early stopping conditioned on metric `val_loss` which is not available. Available metrics are: loss,accuracy\n",
            "WARNING:tensorflow:Learning rate reduction is conditioned on metric `val_loss` which is not available. Available metrics are: loss,accuracy,lr\n"
          ]
        },
        {
          "output_type": "stream",
          "name": "stdout",
          "text": [
            "\b\b\b\b\b\b\b\b\b\b\b\b\b\b\b\b\b\b\b\b\b\b\b\b\b\b\b\b\b\b\b\b\b\b\b\b\b\b\b\b\b\b\b\b\b\b\b\b\b\b\b\b\b\b\b\b\b\b\b\b\b\b\b\b\b\b\b\b\b\b\b\b\b\b\b\b\b\b\b\b\b\b\r75/75 [==============================] - 0s 6ms/step - loss: 0.0013 - accuracy: 0.9996 - lr: 3.0000e-05\n",
            "Epoch 121/200\n",
            "69/75 [==========================>...] - ETA: 0s - loss: 0.0020 - accuracy: 0.9995"
          ]
        },
        {
          "output_type": "stream",
          "name": "stderr",
          "text": [
            "WARNING:tensorflow:Early stopping conditioned on metric `val_loss` which is not available. Available metrics are: loss,accuracy\n",
            "WARNING:tensorflow:Learning rate reduction is conditioned on metric `val_loss` which is not available. Available metrics are: loss,accuracy,lr\n"
          ]
        },
        {
          "output_type": "stream",
          "name": "stdout",
          "text": [
            "\b\b\b\b\b\b\b\b\b\b\b\b\b\b\b\b\b\b\b\b\b\b\b\b\b\b\b\b\b\b\b\b\b\b\b\b\b\b\b\b\b\b\b\b\b\b\b\b\b\b\b\b\b\b\b\b\b\b\b\b\b\b\b\b\b\b\b\b\b\b\b\b\b\b\b\b\b\b\b\b\b\b\r75/75 [==============================] - 0s 6ms/step - loss: 0.0023 - accuracy: 0.9992 - lr: 3.0000e-05\n",
            "Epoch 122/200\n",
            "70/75 [===========================>..] - ETA: 0s - loss: 0.0022 - accuracy: 0.9996"
          ]
        },
        {
          "output_type": "stream",
          "name": "stderr",
          "text": [
            "WARNING:tensorflow:Early stopping conditioned on metric `val_loss` which is not available. Available metrics are: loss,accuracy\n",
            "WARNING:tensorflow:Learning rate reduction is conditioned on metric `val_loss` which is not available. Available metrics are: loss,accuracy,lr\n"
          ]
        },
        {
          "output_type": "stream",
          "name": "stdout",
          "text": [
            "\b\b\b\b\b\b\b\b\b\b\b\b\b\b\b\b\b\b\b\b\b\b\b\b\b\b\b\b\b\b\b\b\b\b\b\b\b\b\b\b\b\b\b\b\b\b\b\b\b\b\b\b\b\b\b\b\b\b\b\b\b\b\b\b\b\b\b\b\b\b\b\b\b\b\b\b\b\b\b\b\b\b\r75/75 [==============================] - 0s 6ms/step - loss: 0.0021 - accuracy: 0.9996 - lr: 3.0000e-05\n",
            "Epoch 123/200\n",
            "70/75 [===========================>..] - ETA: 0s - loss: 0.0022 - accuracy: 0.9991"
          ]
        },
        {
          "output_type": "stream",
          "name": "stderr",
          "text": [
            "WARNING:tensorflow:Early stopping conditioned on metric `val_loss` which is not available. Available metrics are: loss,accuracy\n",
            "WARNING:tensorflow:Learning rate reduction is conditioned on metric `val_loss` which is not available. Available metrics are: loss,accuracy,lr\n"
          ]
        },
        {
          "output_type": "stream",
          "name": "stdout",
          "text": [
            "\b\b\b\b\b\b\b\b\b\b\b\b\b\b\b\b\b\b\b\b\b\b\b\b\b\b\b\b\b\b\b\b\b\b\b\b\b\b\b\b\b\b\b\b\b\b\b\b\b\b\b\b\b\b\b\b\b\b\b\b\b\b\b\b\b\b\b\b\b\b\b\b\b\b\b\b\b\b\b\b\b\b\r75/75 [==============================] - 0s 6ms/step - loss: 0.0033 - accuracy: 0.9987 - lr: 3.0000e-05\n",
            "Epoch 124/200\n",
            "75/75 [==============================] - ETA: 0s - loss: 0.0016 - accuracy: 0.9996"
          ]
        },
        {
          "output_type": "stream",
          "name": "stderr",
          "text": [
            "WARNING:tensorflow:Early stopping conditioned on metric `val_loss` which is not available. Available metrics are: loss,accuracy\n",
            "WARNING:tensorflow:Learning rate reduction is conditioned on metric `val_loss` which is not available. Available metrics are: loss,accuracy,lr\n"
          ]
        },
        {
          "output_type": "stream",
          "name": "stdout",
          "text": [
            "\b\b\b\b\b\b\b\b\b\b\b\b\b\b\b\b\b\b\b\b\b\b\b\b\b\b\b\b\b\b\b\b\b\b\b\b\b\b\b\b\b\b\b\b\b\b\b\b\b\b\b\b\b\b\b\b\b\b\b\b\b\b\b\b\b\b\b\b\b\b\b\b\b\b\b\b\b\b\b\b\b\b\r75/75 [==============================] - 0s 6ms/step - loss: 0.0016 - accuracy: 0.9996 - lr: 3.0000e-05\n",
            "Epoch 125/200\n",
            "68/75 [==========================>...] - ETA: 0s - loss: 0.0017 - accuracy: 0.9995"
          ]
        },
        {
          "output_type": "stream",
          "name": "stderr",
          "text": [
            "WARNING:tensorflow:Early stopping conditioned on metric `val_loss` which is not available. Available metrics are: loss,accuracy\n",
            "WARNING:tensorflow:Learning rate reduction is conditioned on metric `val_loss` which is not available. Available metrics are: loss,accuracy,lr\n"
          ]
        },
        {
          "output_type": "stream",
          "name": "stdout",
          "text": [
            "\b\b\b\b\b\b\b\b\b\b\b\b\b\b\b\b\b\b\b\b\b\b\b\b\b\b\b\b\b\b\b\b\b\b\b\b\b\b\b\b\b\b\b\b\b\b\b\b\b\b\b\b\b\b\b\b\b\b\b\b\b\b\b\b\b\b\b\b\b\b\b\b\b\b\b\b\b\b\b\b\b\b\r75/75 [==============================] - 0s 6ms/step - loss: 0.0016 - accuracy: 0.9996 - lr: 3.0000e-05\n",
            "Epoch 126/200\n",
            "67/75 [=========================>....] - ETA: 0s - loss: 0.0019 - accuracy: 0.9991"
          ]
        },
        {
          "output_type": "stream",
          "name": "stderr",
          "text": [
            "WARNING:tensorflow:Early stopping conditioned on metric `val_loss` which is not available. Available metrics are: loss,accuracy\n",
            "WARNING:tensorflow:Learning rate reduction is conditioned on metric `val_loss` which is not available. Available metrics are: loss,accuracy,lr\n"
          ]
        },
        {
          "output_type": "stream",
          "name": "stdout",
          "text": [
            "\b\b\b\b\b\b\b\b\b\b\b\b\b\b\b\b\b\b\b\b\b\b\b\b\b\b\b\b\b\b\b\b\b\b\b\b\b\b\b\b\b\b\b\b\b\b\b\b\b\b\b\b\b\b\b\b\b\b\b\b\b\b\b\b\b\b\b\b\b\b\b\b\b\b\b\b\b\b\b\b\b\b\r75/75 [==============================] - 0s 6ms/step - loss: 0.0018 - accuracy: 0.9992 - lr: 3.0000e-05\n",
            "Epoch 127/200\n",
            "66/75 [=========================>....] - ETA: 0s - loss: 0.0021 - accuracy: 0.9991"
          ]
        },
        {
          "output_type": "stream",
          "name": "stderr",
          "text": [
            "WARNING:tensorflow:Early stopping conditioned on metric `val_loss` which is not available. Available metrics are: loss,accuracy\n",
            "WARNING:tensorflow:Learning rate reduction is conditioned on metric `val_loss` which is not available. Available metrics are: loss,accuracy,lr\n"
          ]
        },
        {
          "output_type": "stream",
          "name": "stdout",
          "text": [
            "\b\b\b\b\b\b\b\b\b\b\b\b\b\b\b\b\b\b\b\b\b\b\b\b\b\b\b\b\b\b\b\b\b\b\b\b\b\b\b\b\b\b\b\b\b\b\b\b\b\b\b\b\b\b\b\b\b\b\b\b\b\b\b\b\b\b\b\b\b\b\b\b\b\b\b\b\b\b\b\b\b\b\r75/75 [==============================] - 0s 6ms/step - loss: 0.0019 - accuracy: 0.9992 - lr: 3.0000e-05\n",
            "Epoch 128/200\n",
            "66/75 [=========================>....] - ETA: 0s - loss: 0.0011 - accuracy: 1.0000"
          ]
        },
        {
          "output_type": "stream",
          "name": "stderr",
          "text": [
            "WARNING:tensorflow:Early stopping conditioned on metric `val_loss` which is not available. Available metrics are: loss,accuracy\n",
            "WARNING:tensorflow:Learning rate reduction is conditioned on metric `val_loss` which is not available. Available metrics are: loss,accuracy,lr\n"
          ]
        },
        {
          "output_type": "stream",
          "name": "stdout",
          "text": [
            "\b\b\b\b\b\b\b\b\b\b\b\b\b\b\b\b\b\b\b\b\b\b\b\b\b\b\b\b\b\b\b\b\b\b\b\b\b\b\b\b\b\b\b\b\b\b\b\b\b\b\b\b\b\b\b\b\b\b\b\b\b\b\b\b\b\b\b\b\b\b\b\b\b\b\b\b\b\b\b\b\b\b\r75/75 [==============================] - 0s 6ms/step - loss: 0.0011 - accuracy: 1.0000 - lr: 3.0000e-05\n",
            "Epoch 129/200\n",
            "67/75 [=========================>....] - ETA: 0s - loss: 0.0011 - accuracy: 0.9995"
          ]
        },
        {
          "output_type": "stream",
          "name": "stderr",
          "text": [
            "WARNING:tensorflow:Early stopping conditioned on metric `val_loss` which is not available. Available metrics are: loss,accuracy\n",
            "WARNING:tensorflow:Learning rate reduction is conditioned on metric `val_loss` which is not available. Available metrics are: loss,accuracy,lr\n"
          ]
        },
        {
          "output_type": "stream",
          "name": "stdout",
          "text": [
            "\b\b\b\b\b\b\b\b\b\b\b\b\b\b\b\b\b\b\b\b\b\b\b\b\b\b\b\b\b\b\b\b\b\b\b\b\b\b\b\b\b\b\b\b\b\b\b\b\b\b\b\b\b\b\b\b\b\b\b\b\b\b\b\b\b\b\b\b\b\b\b\b\b\b\b\b\b\b\b\b\b\b\r75/75 [==============================] - 0s 6ms/step - loss: 0.0015 - accuracy: 0.9992 - lr: 3.0000e-05\n",
            "Epoch 130/200\n",
            "70/75 [===========================>..] - ETA: 0s - loss: 0.0015 - accuracy: 0.9991"
          ]
        },
        {
          "output_type": "stream",
          "name": "stderr",
          "text": [
            "WARNING:tensorflow:Early stopping conditioned on metric `val_loss` which is not available. Available metrics are: loss,accuracy\n",
            "WARNING:tensorflow:Learning rate reduction is conditioned on metric `val_loss` which is not available. Available metrics are: loss,accuracy,lr\n"
          ]
        },
        {
          "output_type": "stream",
          "name": "stdout",
          "text": [
            "\b\b\b\b\b\b\b\b\b\b\b\b\b\b\b\b\b\b\b\b\b\b\b\b\b\b\b\b\b\b\b\b\b\b\b\b\b\b\b\b\b\b\b\b\b\b\b\b\b\b\b\b\b\b\b\b\b\b\b\b\b\b\b\b\b\b\b\b\b\b\b\b\b\b\b\b\b\b\b\b\b\b\r75/75 [==============================] - 0s 5ms/step - loss: 0.0014 - accuracy: 0.9992 - lr: 3.0000e-05\n",
            "Epoch 131/200\n",
            "74/75 [============================>.] - ETA: 0s - loss: 0.0014 - accuracy: 0.9996"
          ]
        },
        {
          "output_type": "stream",
          "name": "stderr",
          "text": [
            "WARNING:tensorflow:Early stopping conditioned on metric `val_loss` which is not available. Available metrics are: loss,accuracy\n",
            "WARNING:tensorflow:Learning rate reduction is conditioned on metric `val_loss` which is not available. Available metrics are: loss,accuracy,lr\n"
          ]
        },
        {
          "output_type": "stream",
          "name": "stdout",
          "text": [
            "\b\b\b\b\b\b\b\b\b\b\b\b\b\b\b\b\b\b\b\b\b\b\b\b\b\b\b\b\b\b\b\b\b\b\b\b\b\b\b\b\b\b\b\b\b\b\b\b\b\b\b\b\b\b\b\b\b\b\b\b\b\b\b\b\b\b\b\b\b\b\b\b\b\b\b\b\b\b\b\b\b\b\r75/75 [==============================] - 0s 6ms/step - loss: 0.0014 - accuracy: 0.9996 - lr: 3.0000e-05\n",
            "Epoch 132/200\n",
            "69/75 [==========================>...] - ETA: 0s - loss: 0.0023 - accuracy: 0.9991"
          ]
        },
        {
          "output_type": "stream",
          "name": "stderr",
          "text": [
            "WARNING:tensorflow:Early stopping conditioned on metric `val_loss` which is not available. Available metrics are: loss,accuracy\n",
            "WARNING:tensorflow:Learning rate reduction is conditioned on metric `val_loss` which is not available. Available metrics are: loss,accuracy,lr\n"
          ]
        },
        {
          "output_type": "stream",
          "name": "stdout",
          "text": [
            "\b\b\b\b\b\b\b\b\b\b\b\b\b\b\b\b\b\b\b\b\b\b\b\b\b\b\b\b\b\b\b\b\b\b\b\b\b\b\b\b\b\b\b\b\b\b\b\b\b\b\b\b\b\b\b\b\b\b\b\b\b\b\b\b\b\b\b\b\b\b\b\b\b\b\b\b\b\b\b\b\b\b\r75/75 [==============================] - 0s 6ms/step - loss: 0.0023 - accuracy: 0.9992 - lr: 3.0000e-05\n",
            "Epoch 133/200\n",
            "75/75 [==============================] - ETA: 0s - loss: 9.9036e-04 - accuracy: 1.0000"
          ]
        },
        {
          "output_type": "stream",
          "name": "stderr",
          "text": [
            "WARNING:tensorflow:Early stopping conditioned on metric `val_loss` which is not available. Available metrics are: loss,accuracy\n",
            "WARNING:tensorflow:Learning rate reduction is conditioned on metric `val_loss` which is not available. Available metrics are: loss,accuracy,lr\n"
          ]
        },
        {
          "output_type": "stream",
          "name": "stdout",
          "text": [
            "\b\b\b\b\b\b\b\b\b\b\b\b\b\b\b\b\b\b\b\b\b\b\b\b\b\b\b\b\b\b\b\b\b\b\b\b\b\b\b\b\b\b\b\b\b\b\b\b\b\b\b\b\b\b\b\b\b\b\b\b\b\b\b\b\b\b\b\b\b\b\b\b\b\b\b\b\b\b\b\b\b\b\b\b\b\b\r75/75 [==============================] - 0s 6ms/step - loss: 9.9036e-04 - accuracy: 1.0000 - lr: 3.0000e-05\n",
            "Epoch 134/200\n",
            "68/75 [==========================>...] - ETA: 0s - loss: 0.0026 - accuracy: 0.9991"
          ]
        },
        {
          "output_type": "stream",
          "name": "stderr",
          "text": [
            "WARNING:tensorflow:Early stopping conditioned on metric `val_loss` which is not available. Available metrics are: loss,accuracy\n",
            "WARNING:tensorflow:Learning rate reduction is conditioned on metric `val_loss` which is not available. Available metrics are: loss,accuracy,lr\n"
          ]
        },
        {
          "output_type": "stream",
          "name": "stdout",
          "text": [
            "\b\b\b\b\b\b\b\b\b\b\b\b\b\b\b\b\b\b\b\b\b\b\b\b\b\b\b\b\b\b\b\b\b\b\b\b\b\b\b\b\b\b\b\b\b\b\b\b\b\b\b\b\b\b\b\b\b\b\b\b\b\b\b\b\b\b\b\b\b\b\b\b\b\b\b\b\b\b\b\b\b\b\r75/75 [==============================] - 0s 6ms/step - loss: 0.0024 - accuracy: 0.9992 - lr: 3.0000e-05\n",
            "Epoch 135/200\n",
            "75/75 [==============================] - ETA: 0s - loss: 0.0015 - accuracy: 0.9992"
          ]
        },
        {
          "output_type": "stream",
          "name": "stderr",
          "text": [
            "WARNING:tensorflow:Early stopping conditioned on metric `val_loss` which is not available. Available metrics are: loss,accuracy\n",
            "WARNING:tensorflow:Learning rate reduction is conditioned on metric `val_loss` which is not available. Available metrics are: loss,accuracy,lr\n"
          ]
        },
        {
          "output_type": "stream",
          "name": "stdout",
          "text": [
            "\b\b\b\b\b\b\b\b\b\b\b\b\b\b\b\b\b\b\b\b\b\b\b\b\b\b\b\b\b\b\b\b\b\b\b\b\b\b\b\b\b\b\b\b\b\b\b\b\b\b\b\b\b\b\b\b\b\b\b\b\b\b\b\b\b\b\b\b\b\b\b\b\b\b\b\b\b\b\b\b\b\b\r75/75 [==============================] - 0s 6ms/step - loss: 0.0015 - accuracy: 0.9992 - lr: 3.0000e-05\n",
            "Epoch 136/200\n",
            "67/75 [=========================>....] - ETA: 0s - loss: 0.0018 - accuracy: 0.9995    "
          ]
        },
        {
          "output_type": "stream",
          "name": "stderr",
          "text": [
            "WARNING:tensorflow:Early stopping conditioned on metric `val_loss` which is not available. Available metrics are: loss,accuracy\n",
            "WARNING:tensorflow:Learning rate reduction is conditioned on metric `val_loss` which is not available. Available metrics are: loss,accuracy,lr\n"
          ]
        },
        {
          "output_type": "stream",
          "name": "stdout",
          "text": [
            "\b\b\b\b\b\b\b\b\b\b\b\b\b\b\b\b\b\b\b\b\b\b\b\b\b\b\b\b\b\b\b\b\b\b\b\b\b\b\b\b\b\b\b\b\b\b\b\b\b\b\b\b\b\b\b\b\b\b\b\b\b\b\b\b\b\b\b\b\b\b\b\b\b\b\b\b\b\b\b\b\b\b\r75/75 [==============================] - 0s 6ms/step - loss: 0.0017 - accuracy: 0.9996 - lr: 3.0000e-05\n",
            "Epoch 137/200\n",
            "67/75 [=========================>....] - ETA: 0s - loss: 6.6767e-04 - accuracy: 1.0000"
          ]
        },
        {
          "output_type": "stream",
          "name": "stderr",
          "text": [
            "WARNING:tensorflow:Early stopping conditioned on metric `val_loss` which is not available. Available metrics are: loss,accuracy\n",
            "WARNING:tensorflow:Learning rate reduction is conditioned on metric `val_loss` which is not available. Available metrics are: loss,accuracy,lr\n"
          ]
        },
        {
          "output_type": "stream",
          "name": "stdout",
          "text": [
            "\b\b\b\b\b\b\b\b\b\b\b\b\b\b\b\b\b\b\b\b\b\b\b\b\b\b\b\b\b\b\b\b\b\b\b\b\b\b\b\b\b\b\b\b\b\b\b\b\b\b\b\b\b\b\b\b\b\b\b\b\b\b\b\b\b\b\b\b\b\b\b\b\b\b\b\b\b\b\b\b\b\b\b\b\b\b\r75/75 [==============================] - 0s 6ms/step - loss: 0.0015 - accuracy: 0.9996 - lr: 3.0000e-05\n",
            "Epoch 138/200\n",
            "66/75 [=========================>....] - ETA: 0s - loss: 0.0017 - accuracy: 0.9995"
          ]
        },
        {
          "output_type": "stream",
          "name": "stderr",
          "text": [
            "WARNING:tensorflow:Early stopping conditioned on metric `val_loss` which is not available. Available metrics are: loss,accuracy\n",
            "WARNING:tensorflow:Learning rate reduction is conditioned on metric `val_loss` which is not available. Available metrics are: loss,accuracy,lr\n"
          ]
        },
        {
          "output_type": "stream",
          "name": "stdout",
          "text": [
            "\b\b\b\b\b\b\b\b\b\b\b\b\b\b\b\b\b\b\b\b\b\b\b\b\b\b\b\b\b\b\b\b\b\b\b\b\b\b\b\b\b\b\b\b\b\b\b\b\b\b\b\b\b\b\b\b\b\b\b\b\b\b\b\b\b\b\b\b\b\b\b\b\b\b\b\b\b\b\b\b\b\b\r75/75 [==============================] - 0s 6ms/step - loss: 0.0016 - accuracy: 0.9996 - lr: 3.0000e-05\n",
            "Epoch 139/200\n",
            "70/75 [===========================>..] - ETA: 0s - loss: 8.4597e-04 - accuracy: 1.0000"
          ]
        },
        {
          "output_type": "stream",
          "name": "stderr",
          "text": [
            "WARNING:tensorflow:Early stopping conditioned on metric `val_loss` which is not available. Available metrics are: loss,accuracy\n",
            "WARNING:tensorflow:Learning rate reduction is conditioned on metric `val_loss` which is not available. Available metrics are: loss,accuracy,lr\n"
          ]
        },
        {
          "output_type": "stream",
          "name": "stdout",
          "text": [
            "\b\b\b\b\b\b\b\b\b\b\b\b\b\b\b\b\b\b\b\b\b\b\b\b\b\b\b\b\b\b\b\b\b\b\b\b\b\b\b\b\b\b\b\b\b\b\b\b\b\b\b\b\b\b\b\b\b\b\b\b\b\b\b\b\b\b\b\b\b\b\b\b\b\b\b\b\b\b\b\b\b\b\b\b\b\b\r75/75 [==============================] - 0s 6ms/step - loss: 8.0670e-04 - accuracy: 1.0000 - lr: 3.0000e-05\n",
            "Epoch 140/200\n",
            "72/75 [===========================>..] - ETA: 0s - loss: 0.0013 - accuracy: 0.9996"
          ]
        },
        {
          "output_type": "stream",
          "name": "stderr",
          "text": [
            "WARNING:tensorflow:Early stopping conditioned on metric `val_loss` which is not available. Available metrics are: loss,accuracy\n",
            "WARNING:tensorflow:Learning rate reduction is conditioned on metric `val_loss` which is not available. Available metrics are: loss,accuracy,lr\n"
          ]
        },
        {
          "output_type": "stream",
          "name": "stdout",
          "text": [
            "\b\b\b\b\b\b\b\b\b\b\b\b\b\b\b\b\b\b\b\b\b\b\b\b\b\b\b\b\b\b\b\b\b\b\b\b\b\b\b\b\b\b\b\b\b\b\b\b\b\b\b\b\b\b\b\b\b\b\b\b\b\b\b\b\b\b\b\b\b\b\b\b\b\b\b\b\b\b\b\b\b\b\r75/75 [==============================] - 0s 6ms/step - loss: 0.0013 - accuracy: 0.9996 - lr: 3.0000e-05\n",
            "Epoch 141/200\n",
            "67/75 [=========================>....] - ETA: 0s - loss: 0.0014 - accuracy: 0.9991"
          ]
        },
        {
          "output_type": "stream",
          "name": "stderr",
          "text": [
            "WARNING:tensorflow:Early stopping conditioned on metric `val_loss` which is not available. Available metrics are: loss,accuracy\n",
            "WARNING:tensorflow:Learning rate reduction is conditioned on metric `val_loss` which is not available. Available metrics are: loss,accuracy,lr\n"
          ]
        },
        {
          "output_type": "stream",
          "name": "stdout",
          "text": [
            "\b\b\b\b\b\b\b\b\b\b\b\b\b\b\b\b\b\b\b\b\b\b\b\b\b\b\b\b\b\b\b\b\b\b\b\b\b\b\b\b\b\b\b\b\b\b\b\b\b\b\b\b\b\b\b\b\b\b\b\b\b\b\b\b\b\b\b\b\b\b\b\b\b\b\b\b\b\b\b\b\b\b\r75/75 [==============================] - 0s 6ms/step - loss: 0.0013 - accuracy: 0.9992 - lr: 3.0000e-05\n",
            "Epoch 142/200\n",
            "67/75 [=========================>....] - ETA: 0s - loss: 0.0018 - accuracy: 0.9995"
          ]
        },
        {
          "output_type": "stream",
          "name": "stderr",
          "text": [
            "WARNING:tensorflow:Early stopping conditioned on metric `val_loss` which is not available. Available metrics are: loss,accuracy\n",
            "WARNING:tensorflow:Learning rate reduction is conditioned on metric `val_loss` which is not available. Available metrics are: loss,accuracy,lr\n"
          ]
        },
        {
          "output_type": "stream",
          "name": "stdout",
          "text": [
            "\b\b\b\b\b\b\b\b\b\b\b\b\b\b\b\b\b\b\b\b\b\b\b\b\b\b\b\b\b\b\b\b\b\b\b\b\b\b\b\b\b\b\b\b\b\b\b\b\b\b\b\b\b\b\b\b\b\b\b\b\b\b\b\b\b\b\b\b\b\b\b\b\b\b\b\b\b\b\b\b\b\b\r75/75 [==============================] - 0s 6ms/step - loss: 0.0017 - accuracy: 0.9996 - lr: 3.0000e-05\n",
            "Epoch 143/200\n",
            "75/75 [==============================] - ETA: 0s - loss: 0.0015 - accuracy: 0.9992"
          ]
        },
        {
          "output_type": "stream",
          "name": "stderr",
          "text": [
            "WARNING:tensorflow:Early stopping conditioned on metric `val_loss` which is not available. Available metrics are: loss,accuracy\n",
            "WARNING:tensorflow:Learning rate reduction is conditioned on metric `val_loss` which is not available. Available metrics are: loss,accuracy,lr\n"
          ]
        },
        {
          "output_type": "stream",
          "name": "stdout",
          "text": [
            "\b\b\b\b\b\b\b\b\b\b\b\b\b\b\b\b\b\b\b\b\b\b\b\b\b\b\b\b\b\b\b\b\b\b\b\b\b\b\b\b\b\b\b\b\b\b\b\b\b\b\b\b\b\b\b\b\b\b\b\b\b\b\b\b\b\b\b\b\b\b\b\b\b\b\b\b\b\b\b\b\b\b\r75/75 [==============================] - 0s 6ms/step - loss: 0.0015 - accuracy: 0.9992 - lr: 3.0000e-05\n",
            "Epoch 144/200\n",
            "68/75 [==========================>...] - ETA: 0s - loss: 0.0012 - accuracy: 1.0000    "
          ]
        },
        {
          "output_type": "stream",
          "name": "stderr",
          "text": [
            "WARNING:tensorflow:Early stopping conditioned on metric `val_loss` which is not available. Available metrics are: loss,accuracy\n",
            "WARNING:tensorflow:Learning rate reduction is conditioned on metric `val_loss` which is not available. Available metrics are: loss,accuracy,lr\n"
          ]
        },
        {
          "output_type": "stream",
          "name": "stdout",
          "text": [
            "\b\b\b\b\b\b\b\b\b\b\b\b\b\b\b\b\b\b\b\b\b\b\b\b\b\b\b\b\b\b\b\b\b\b\b\b\b\b\b\b\b\b\b\b\b\b\b\b\b\b\b\b\b\b\b\b\b\b\b\b\b\b\b\b\b\b\b\b\b\b\b\b\b\b\b\b\b\b\b\b\b\b\r75/75 [==============================] - 0s 6ms/step - loss: 0.0011 - accuracy: 1.0000 - lr: 3.0000e-05\n",
            "Epoch 145/200\n",
            "69/75 [==========================>...] - ETA: 0s - loss: 0.0017 - accuracy: 0.9991"
          ]
        },
        {
          "output_type": "stream",
          "name": "stderr",
          "text": [
            "WARNING:tensorflow:Early stopping conditioned on metric `val_loss` which is not available. Available metrics are: loss,accuracy\n",
            "WARNING:tensorflow:Learning rate reduction is conditioned on metric `val_loss` which is not available. Available metrics are: loss,accuracy,lr\n"
          ]
        },
        {
          "output_type": "stream",
          "name": "stdout",
          "text": [
            "\b\b\b\b\b\b\b\b\b\b\b\b\b\b\b\b\b\b\b\b\b\b\b\b\b\b\b\b\b\b\b\b\b\b\b\b\b\b\b\b\b\b\b\b\b\b\b\b\b\b\b\b\b\b\b\b\b\b\b\b\b\b\b\b\b\b\b\b\b\b\b\b\b\b\b\b\b\b\b\b\b\b\r75/75 [==============================] - 0s 6ms/step - loss: 0.0016 - accuracy: 0.9992 - lr: 3.0000e-05\n",
            "Epoch 146/200\n",
            "69/75 [==========================>...] - ETA: 0s - loss: 0.0011 - accuracy: 0.9995"
          ]
        },
        {
          "output_type": "stream",
          "name": "stderr",
          "text": [
            "WARNING:tensorflow:Early stopping conditioned on metric `val_loss` which is not available. Available metrics are: loss,accuracy\n",
            "WARNING:tensorflow:Learning rate reduction is conditioned on metric `val_loss` which is not available. Available metrics are: loss,accuracy,lr\n"
          ]
        },
        {
          "output_type": "stream",
          "name": "stdout",
          "text": [
            "\b\b\b\b\b\b\b\b\b\b\b\b\b\b\b\b\b\b\b\b\b\b\b\b\b\b\b\b\b\b\b\b\b\b\b\b\b\b\b\b\b\b\b\b\b\b\b\b\b\b\b\b\b\b\b\b\b\b\b\b\b\b\b\b\b\b\b\b\b\b\b\b\b\b\b\b\b\b\b\b\b\b\r75/75 [==============================] - 0s 6ms/step - loss: 0.0011 - accuracy: 0.9996 - lr: 3.0000e-05\n",
            "Epoch 147/200\n",
            "74/75 [============================>.] - ETA: 0s - loss: 0.0024 - accuracy: 0.9992"
          ]
        },
        {
          "output_type": "stream",
          "name": "stderr",
          "text": [
            "WARNING:tensorflow:Early stopping conditioned on metric `val_loss` which is not available. Available metrics are: loss,accuracy\n",
            "WARNING:tensorflow:Learning rate reduction is conditioned on metric `val_loss` which is not available. Available metrics are: loss,accuracy,lr\n"
          ]
        },
        {
          "output_type": "stream",
          "name": "stdout",
          "text": [
            "\b\b\b\b\b\b\b\b\b\b\b\b\b\b\b\b\b\b\b\b\b\b\b\b\b\b\b\b\b\b\b\b\b\b\b\b\b\b\b\b\b\b\b\b\b\b\b\b\b\b\b\b\b\b\b\b\b\b\b\b\b\b\b\b\b\b\b\b\b\b\b\b\b\b\b\b\b\b\b\b\b\b\r75/75 [==============================] - 0s 6ms/step - loss: 0.0024 - accuracy: 0.9992 - lr: 3.0000e-05\n",
            "Epoch 148/200\n",
            "70/75 [===========================>..] - ETA: 0s - loss: 0.0011 - accuracy: 0.9996"
          ]
        },
        {
          "output_type": "stream",
          "name": "stderr",
          "text": [
            "WARNING:tensorflow:Early stopping conditioned on metric `val_loss` which is not available. Available metrics are: loss,accuracy\n",
            "WARNING:tensorflow:Learning rate reduction is conditioned on metric `val_loss` which is not available. Available metrics are: loss,accuracy,lr\n"
          ]
        },
        {
          "output_type": "stream",
          "name": "stdout",
          "text": [
            "\b\b\b\b\b\b\b\b\b\b\b\b\b\b\b\b\b\b\b\b\b\b\b\b\b\b\b\b\b\b\b\b\b\b\b\b\b\b\b\b\b\b\b\b\b\b\b\b\b\b\b\b\b\b\b\b\b\b\b\b\b\b\b\b\b\b\b\b\b\b\b\b\b\b\b\b\b\b\b\b\b\b\r75/75 [==============================] - 0s 5ms/step - loss: 0.0010 - accuracy: 0.9996 - lr: 3.0000e-05\n",
            "Epoch 149/200\n",
            "66/75 [=========================>....] - ETA: 0s - loss: 8.8946e-04 - accuracy: 0.9995"
          ]
        },
        {
          "output_type": "stream",
          "name": "stderr",
          "text": [
            "WARNING:tensorflow:Early stopping conditioned on metric `val_loss` which is not available. Available metrics are: loss,accuracy\n",
            "WARNING:tensorflow:Learning rate reduction is conditioned on metric `val_loss` which is not available. Available metrics are: loss,accuracy,lr\n"
          ]
        },
        {
          "output_type": "stream",
          "name": "stdout",
          "text": [
            "\b\b\b\b\b\b\b\b\b\b\b\b\b\b\b\b\b\b\b\b\b\b\b\b\b\b\b\b\b\b\b\b\b\b\b\b\b\b\b\b\b\b\b\b\b\b\b\b\b\b\b\b\b\b\b\b\b\b\b\b\b\b\b\b\b\b\b\b\b\b\b\b\b\b\b\b\b\b\b\b\b\b\b\b\b\b\r75/75 [==============================] - 0s 6ms/step - loss: 8.2573e-04 - accuracy: 0.9996 - lr: 3.0000e-05\n",
            "Epoch 150/200\n",
            "69/75 [==========================>...] - ETA: 0s - loss: 0.0020 - accuracy: 0.9991"
          ]
        },
        {
          "output_type": "stream",
          "name": "stderr",
          "text": [
            "WARNING:tensorflow:Early stopping conditioned on metric `val_loss` which is not available. Available metrics are: loss,accuracy\n",
            "WARNING:tensorflow:Learning rate reduction is conditioned on metric `val_loss` which is not available. Available metrics are: loss,accuracy,lr\n"
          ]
        },
        {
          "output_type": "stream",
          "name": "stdout",
          "text": [
            "\b\b\b\b\b\b\b\b\b\b\b\b\b\b\b\b\b\b\b\b\b\b\b\b\b\b\b\b\b\b\b\b\b\b\b\b\b\b\b\b\b\b\b\b\b\b\b\b\b\b\b\b\b\b\b\b\b\b\b\b\b\b\b\b\b\b\b\b\b\b\b\b\b\b\b\b\b\b\b\b\b\b\r75/75 [==============================] - 0s 6ms/step - loss: 0.0018 - accuracy: 0.9992 - lr: 3.0000e-05\n",
            "Epoch 151/200\n",
            "66/75 [=========================>....] - ETA: 0s - loss: 0.0012 - accuracy: 0.9995"
          ]
        },
        {
          "output_type": "stream",
          "name": "stderr",
          "text": [
            "WARNING:tensorflow:Early stopping conditioned on metric `val_loss` which is not available. Available metrics are: loss,accuracy\n",
            "WARNING:tensorflow:Learning rate reduction is conditioned on metric `val_loss` which is not available. Available metrics are: loss,accuracy,lr\n"
          ]
        },
        {
          "output_type": "stream",
          "name": "stdout",
          "text": [
            "\b\b\b\b\b\b\b\b\b\b\b\b\b\b\b\b\b\b\b\b\b\b\b\b\b\b\b\b\b\b\b\b\b\b\b\b\b\b\b\b\b\b\b\b\b\b\b\b\b\b\b\b\b\b\b\b\b\b\b\b\b\b\b\b\b\b\b\b\b\b\b\b\b\b\b\b\b\b\b\b\b\b\r75/75 [==============================] - 0s 6ms/step - loss: 0.0011 - accuracy: 0.9996 - lr: 3.0000e-05\n",
            "Epoch 152/200\n",
            "75/75 [==============================] - ETA: 0s - loss: 0.0019 - accuracy: 0.9992"
          ]
        },
        {
          "output_type": "stream",
          "name": "stderr",
          "text": [
            "WARNING:tensorflow:Early stopping conditioned on metric `val_loss` which is not available. Available metrics are: loss,accuracy\n",
            "WARNING:tensorflow:Learning rate reduction is conditioned on metric `val_loss` which is not available. Available metrics are: loss,accuracy,lr\n"
          ]
        },
        {
          "output_type": "stream",
          "name": "stdout",
          "text": [
            "\b\b\b\b\b\b\b\b\b\b\b\b\b\b\b\b\b\b\b\b\b\b\b\b\b\b\b\b\b\b\b\b\b\b\b\b\b\b\b\b\b\b\b\b\b\b\b\b\b\b\b\b\b\b\b\b\b\b\b\b\b\b\b\b\b\b\b\b\b\b\b\b\b\b\b\b\b\b\b\b\b\b\r75/75 [==============================] - 0s 6ms/step - loss: 0.0019 - accuracy: 0.9992 - lr: 3.0000e-05\n",
            "Epoch 153/200\n",
            "67/75 [=========================>....] - ETA: 0s - loss: 0.0011 - accuracy: 0.9995"
          ]
        },
        {
          "output_type": "stream",
          "name": "stderr",
          "text": [
            "WARNING:tensorflow:Early stopping conditioned on metric `val_loss` which is not available. Available metrics are: loss,accuracy\n",
            "WARNING:tensorflow:Learning rate reduction is conditioned on metric `val_loss` which is not available. Available metrics are: loss,accuracy,lr\n"
          ]
        },
        {
          "output_type": "stream",
          "name": "stdout",
          "text": [
            "\b\b\b\b\b\b\b\b\b\b\b\b\b\b\b\b\b\b\b\b\b\b\b\b\b\b\b\b\b\b\b\b\b\b\b\b\b\b\b\b\b\b\b\b\b\b\b\b\b\b\b\b\b\b\b\b\b\b\b\b\b\b\b\b\b\b\b\b\b\b\b\b\b\b\b\b\b\b\b\b\b\b\r75/75 [==============================] - 0s 6ms/step - loss: 0.0010 - accuracy: 0.9996 - lr: 3.0000e-05\n",
            "Epoch 154/200\n",
            "75/75 [==============================] - ETA: 0s - loss: 0.0015 - accuracy: 0.9996    "
          ]
        },
        {
          "output_type": "stream",
          "name": "stderr",
          "text": [
            "WARNING:tensorflow:Early stopping conditioned on metric `val_loss` which is not available. Available metrics are: loss,accuracy\n",
            "WARNING:tensorflow:Learning rate reduction is conditioned on metric `val_loss` which is not available. Available metrics are: loss,accuracy,lr\n"
          ]
        },
        {
          "output_type": "stream",
          "name": "stdout",
          "text": [
            "\b\b\b\b\b\b\b\b\b\b\b\b\b\b\b\b\b\b\b\b\b\b\b\b\b\b\b\b\b\b\b\b\b\b\b\b\b\b\b\b\b\b\b\b\b\b\b\b\b\b\b\b\b\b\b\b\b\b\b\b\b\b\b\b\b\b\b\b\b\b\b\b\b\b\b\b\b\b\b\b\b\b\r75/75 [==============================] - 0s 6ms/step - loss: 0.0015 - accuracy: 0.9996 - lr: 3.0000e-05\n",
            "Epoch 155/200\n",
            "70/75 [===========================>..] - ETA: 0s - loss: 0.0011 - accuracy: 0.9996"
          ]
        },
        {
          "output_type": "stream",
          "name": "stderr",
          "text": [
            "WARNING:tensorflow:Early stopping conditioned on metric `val_loss` which is not available. Available metrics are: loss,accuracy\n",
            "WARNING:tensorflow:Learning rate reduction is conditioned on metric `val_loss` which is not available. Available metrics are: loss,accuracy,lr\n"
          ]
        },
        {
          "output_type": "stream",
          "name": "stdout",
          "text": [
            "\b\b\b\b\b\b\b\b\b\b\b\b\b\b\b\b\b\b\b\b\b\b\b\b\b\b\b\b\b\b\b\b\b\b\b\b\b\b\b\b\b\b\b\b\b\b\b\b\b\b\b\b\b\b\b\b\b\b\b\b\b\b\b\b\b\b\b\b\b\b\b\b\b\b\b\b\b\b\b\b\b\b\r75/75 [==============================] - 0s 6ms/step - loss: 0.0011 - accuracy: 0.9996 - lr: 3.0000e-05\n",
            "Epoch 156/200\n",
            "74/75 [============================>.] - ETA: 0s - loss: 0.0014 - accuracy: 0.9996"
          ]
        },
        {
          "output_type": "stream",
          "name": "stderr",
          "text": [
            "WARNING:tensorflow:Early stopping conditioned on metric `val_loss` which is not available. Available metrics are: loss,accuracy\n",
            "WARNING:tensorflow:Learning rate reduction is conditioned on metric `val_loss` which is not available. Available metrics are: loss,accuracy,lr\n"
          ]
        },
        {
          "output_type": "stream",
          "name": "stdout",
          "text": [
            "\b\b\b\b\b\b\b\b\b\b\b\b\b\b\b\b\b\b\b\b\b\b\b\b\b\b\b\b\b\b\b\b\b\b\b\b\b\b\b\b\b\b\b\b\b\b\b\b\b\b\b\b\b\b\b\b\b\b\b\b\b\b\b\b\b\b\b\b\b\b\b\b\b\b\b\b\b\b\b\b\b\b\r75/75 [==============================] - 0s 6ms/step - loss: 0.0014 - accuracy: 0.9996 - lr: 3.0000e-05\n",
            "Epoch 157/200\n",
            "67/75 [=========================>....] - ETA: 0s - loss: 0.0013 - accuracy: 0.9995"
          ]
        },
        {
          "output_type": "stream",
          "name": "stderr",
          "text": [
            "WARNING:tensorflow:Early stopping conditioned on metric `val_loss` which is not available. Available metrics are: loss,accuracy\n",
            "WARNING:tensorflow:Learning rate reduction is conditioned on metric `val_loss` which is not available. Available metrics are: loss,accuracy,lr\n"
          ]
        },
        {
          "output_type": "stream",
          "name": "stdout",
          "text": [
            "\b\b\b\b\b\b\b\b\b\b\b\b\b\b\b\b\b\b\b\b\b\b\b\b\b\b\b\b\b\b\b\b\b\b\b\b\b\b\b\b\b\b\b\b\b\b\b\b\b\b\b\b\b\b\b\b\b\b\b\b\b\b\b\b\b\b\b\b\b\b\b\b\b\b\b\b\b\b\b\b\b\b\r75/75 [==============================] - 0s 6ms/step - loss: 0.0012 - accuracy: 0.9996 - lr: 3.0000e-05\n",
            "Epoch 158/200\n",
            "72/75 [===========================>..] - ETA: 0s - loss: 0.0020 - accuracy: 0.9991"
          ]
        },
        {
          "output_type": "stream",
          "name": "stderr",
          "text": [
            "WARNING:tensorflow:Early stopping conditioned on metric `val_loss` which is not available. Available metrics are: loss,accuracy\n",
            "WARNING:tensorflow:Learning rate reduction is conditioned on metric `val_loss` which is not available. Available metrics are: loss,accuracy,lr\n"
          ]
        },
        {
          "output_type": "stream",
          "name": "stdout",
          "text": [
            "\b\b\b\b\b\b\b\b\b\b\b\b\b\b\b\b\b\b\b\b\b\b\b\b\b\b\b\b\b\b\b\b\b\b\b\b\b\b\b\b\b\b\b\b\b\b\b\b\b\b\b\b\b\b\b\b\b\b\b\b\b\b\b\b\b\b\b\b\b\b\b\b\b\b\b\b\b\b\b\b\b\b\r75/75 [==============================] - 0s 6ms/step - loss: 0.0020 - accuracy: 0.9992 - lr: 3.0000e-05\n",
            "Epoch 159/200\n",
            "67/75 [=========================>....] - ETA: 0s - loss: 0.0015 - accuracy: 0.9995"
          ]
        },
        {
          "output_type": "stream",
          "name": "stderr",
          "text": [
            "WARNING:tensorflow:Early stopping conditioned on metric `val_loss` which is not available. Available metrics are: loss,accuracy\n",
            "WARNING:tensorflow:Learning rate reduction is conditioned on metric `val_loss` which is not available. Available metrics are: loss,accuracy,lr\n"
          ]
        },
        {
          "output_type": "stream",
          "name": "stdout",
          "text": [
            "\b\b\b\b\b\b\b\b\b\b\b\b\b\b\b\b\b\b\b\b\b\b\b\b\b\b\b\b\b\b\b\b\b\b\b\b\b\b\b\b\b\b\b\b\b\b\b\b\b\b\b\b\b\b\b\b\b\b\b\b\b\b\b\b\b\b\b\b\b\b\b\b\b\b\b\b\b\b\b\b\b\b\r75/75 [==============================] - 0s 6ms/step - loss: 0.0013 - accuracy: 0.9996 - lr: 3.0000e-05\n",
            "Epoch 160/200\n",
            "73/75 [============================>.] - ETA: 0s - loss: 9.6833e-04 - accuracy: 0.9996"
          ]
        },
        {
          "output_type": "stream",
          "name": "stderr",
          "text": [
            "WARNING:tensorflow:Early stopping conditioned on metric `val_loss` which is not available. Available metrics are: loss,accuracy\n",
            "WARNING:tensorflow:Learning rate reduction is conditioned on metric `val_loss` which is not available. Available metrics are: loss,accuracy,lr\n"
          ]
        },
        {
          "output_type": "stream",
          "name": "stdout",
          "text": [
            "\b\b\b\b\b\b\b\b\b\b\b\b\b\b\b\b\b\b\b\b\b\b\b\b\b\b\b\b\b\b\b\b\b\b\b\b\b\b\b\b\b\b\b\b\b\b\b\b\b\b\b\b\b\b\b\b\b\b\b\b\b\b\b\b\b\b\b\b\b\b\b\b\b\b\b\b\b\b\b\b\b\b\b\b\b\b\r75/75 [==============================] - 0s 6ms/step - loss: 9.5462e-04 - accuracy: 0.9996 - lr: 3.0000e-05\n",
            "Epoch 161/200\n",
            "68/75 [==========================>...] - ETA: 0s - loss: 0.0021 - accuracy: 0.9995    "
          ]
        },
        {
          "output_type": "stream",
          "name": "stderr",
          "text": [
            "WARNING:tensorflow:Early stopping conditioned on metric `val_loss` which is not available. Available metrics are: loss,accuracy\n",
            "WARNING:tensorflow:Learning rate reduction is conditioned on metric `val_loss` which is not available. Available metrics are: loss,accuracy,lr\n"
          ]
        },
        {
          "output_type": "stream",
          "name": "stdout",
          "text": [
            "\b\b\b\b\b\b\b\b\b\b\b\b\b\b\b\b\b\b\b\b\b\b\b\b\b\b\b\b\b\b\b\b\b\b\b\b\b\b\b\b\b\b\b\b\b\b\b\b\b\b\b\b\b\b\b\b\b\b\b\b\b\b\b\b\b\b\b\b\b\b\b\b\b\b\b\b\b\b\b\b\b\b\r75/75 [==============================] - 0s 6ms/step - loss: 0.0019 - accuracy: 0.9996 - lr: 3.0000e-05\n",
            "Epoch 162/200\n",
            "66/75 [=========================>....] - ETA: 0s - loss: 0.0014 - accuracy: 0.9995"
          ]
        },
        {
          "output_type": "stream",
          "name": "stderr",
          "text": [
            "WARNING:tensorflow:Early stopping conditioned on metric `val_loss` which is not available. Available metrics are: loss,accuracy\n",
            "WARNING:tensorflow:Learning rate reduction is conditioned on metric `val_loss` which is not available. Available metrics are: loss,accuracy,lr\n"
          ]
        },
        {
          "output_type": "stream",
          "name": "stdout",
          "text": [
            "\b\b\b\b\b\b\b\b\b\b\b\b\b\b\b\b\b\b\b\b\b\b\b\b\b\b\b\b\b\b\b\b\b\b\b\b\b\b\b\b\b\b\b\b\b\b\b\b\b\b\b\b\b\b\b\b\b\b\b\b\b\b\b\b\b\b\b\b\b\b\b\b\b\b\b\b\b\b\b\b\b\b\r75/75 [==============================] - 0s 6ms/step - loss: 0.0013 - accuracy: 0.9996 - lr: 3.0000e-05\n",
            "Epoch 163/200\n",
            "71/75 [===========================>..] - ETA: 0s - loss: 6.4825e-04 - accuracy: 1.0000"
          ]
        },
        {
          "output_type": "stream",
          "name": "stderr",
          "text": [
            "WARNING:tensorflow:Early stopping conditioned on metric `val_loss` which is not available. Available metrics are: loss,accuracy\n",
            "WARNING:tensorflow:Learning rate reduction is conditioned on metric `val_loss` which is not available. Available metrics are: loss,accuracy,lr\n"
          ]
        },
        {
          "output_type": "stream",
          "name": "stdout",
          "text": [
            "\b\b\b\b\b\b\b\b\b\b\b\b\b\b\b\b\b\b\b\b\b\b\b\b\b\b\b\b\b\b\b\b\b\b\b\b\b\b\b\b\b\b\b\b\b\b\b\b\b\b\b\b\b\b\b\b\b\b\b\b\b\b\b\b\b\b\b\b\b\b\b\b\b\b\b\b\b\b\b\b\b\b\b\b\b\b\r75/75 [==============================] - 0s 6ms/step - loss: 6.4142e-04 - accuracy: 1.0000 - lr: 3.0000e-05\n",
            "Epoch 164/200\n",
            "69/75 [==========================>...] - ETA: 0s - loss: 0.0014 - accuracy: 0.9995    "
          ]
        },
        {
          "output_type": "stream",
          "name": "stderr",
          "text": [
            "WARNING:tensorflow:Early stopping conditioned on metric `val_loss` which is not available. Available metrics are: loss,accuracy\n",
            "WARNING:tensorflow:Learning rate reduction is conditioned on metric `val_loss` which is not available. Available metrics are: loss,accuracy,lr\n"
          ]
        },
        {
          "output_type": "stream",
          "name": "stdout",
          "text": [
            "\b\b\b\b\b\b\b\b\b\b\b\b\b\b\b\b\b\b\b\b\b\b\b\b\b\b\b\b\b\b\b\b\b\b\b\b\b\b\b\b\b\b\b\b\b\b\b\b\b\b\b\b\b\b\b\b\b\b\b\b\b\b\b\b\b\b\b\b\b\b\b\b\b\b\b\b\b\b\b\b\b\b\r75/75 [==============================] - 0s 7ms/step - loss: 0.0013 - accuracy: 0.9996 - lr: 3.0000e-05\n",
            "Epoch 165/200\n",
            "69/75 [==========================>...] - ETA: 0s - loss: 0.0017 - accuracy: 0.9991"
          ]
        },
        {
          "output_type": "stream",
          "name": "stderr",
          "text": [
            "WARNING:tensorflow:Early stopping conditioned on metric `val_loss` which is not available. Available metrics are: loss,accuracy\n",
            "WARNING:tensorflow:Learning rate reduction is conditioned on metric `val_loss` which is not available. Available metrics are: loss,accuracy,lr\n"
          ]
        },
        {
          "output_type": "stream",
          "name": "stdout",
          "text": [
            "\b\b\b\b\b\b\b\b\b\b\b\b\b\b\b\b\b\b\b\b\b\b\b\b\b\b\b\b\b\b\b\b\b\b\b\b\b\b\b\b\b\b\b\b\b\b\b\b\b\b\b\b\b\b\b\b\b\b\b\b\b\b\b\b\b\b\b\b\b\b\b\b\b\b\b\b\b\b\b\b\b\b\r75/75 [==============================] - 1s 7ms/step - loss: 0.0016 - accuracy: 0.9992 - lr: 3.0000e-05\n",
            "Epoch 166/200\n",
            "68/75 [==========================>...] - ETA: 0s - loss: 8.4891e-04 - accuracy: 0.9995"
          ]
        },
        {
          "output_type": "stream",
          "name": "stderr",
          "text": [
            "WARNING:tensorflow:Early stopping conditioned on metric `val_loss` which is not available. Available metrics are: loss,accuracy\n",
            "WARNING:tensorflow:Learning rate reduction is conditioned on metric `val_loss` which is not available. Available metrics are: loss,accuracy,lr\n"
          ]
        },
        {
          "output_type": "stream",
          "name": "stdout",
          "text": [
            "\b\b\b\b\b\b\b\b\b\b\b\b\b\b\b\b\b\b\b\b\b\b\b\b\b\b\b\b\b\b\b\b\b\b\b\b\b\b\b\b\b\b\b\b\b\b\b\b\b\b\b\b\b\b\b\b\b\b\b\b\b\b\b\b\b\b\b\b\b\b\b\b\b\b\b\b\b\b\b\b\b\b\b\b\b\b\r75/75 [==============================] - 1s 7ms/step - loss: 7.8696e-04 - accuracy: 0.9996 - lr: 3.0000e-05\n",
            "Epoch 167/200\n",
            "71/75 [===========================>..] - ETA: 0s - loss: 9.2552e-04 - accuracy: 0.9996"
          ]
        },
        {
          "output_type": "stream",
          "name": "stderr",
          "text": [
            "WARNING:tensorflow:Early stopping conditioned on metric `val_loss` which is not available. Available metrics are: loss,accuracy\n",
            "WARNING:tensorflow:Learning rate reduction is conditioned on metric `val_loss` which is not available. Available metrics are: loss,accuracy,lr\n"
          ]
        },
        {
          "output_type": "stream",
          "name": "stdout",
          "text": [
            "\b\b\b\b\b\b\b\b\b\b\b\b\b\b\b\b\b\b\b\b\b\b\b\b\b\b\b\b\b\b\b\b\b\b\b\b\b\b\b\b\b\b\b\b\b\b\b\b\b\b\b\b\b\b\b\b\b\b\b\b\b\b\b\b\b\b\b\b\b\b\b\b\b\b\b\b\b\b\b\b\b\b\b\b\b\b\r75/75 [==============================] - 1s 8ms/step - loss: 8.9632e-04 - accuracy: 0.9996 - lr: 3.0000e-05\n",
            "Epoch 168/200\n",
            "70/75 [===========================>..] - ETA: 0s - loss: 0.0012 - accuracy: 0.9996"
          ]
        },
        {
          "output_type": "stream",
          "name": "stderr",
          "text": [
            "WARNING:tensorflow:Early stopping conditioned on metric `val_loss` which is not available. Available metrics are: loss,accuracy\n",
            "WARNING:tensorflow:Learning rate reduction is conditioned on metric `val_loss` which is not available. Available metrics are: loss,accuracy,lr\n"
          ]
        },
        {
          "output_type": "stream",
          "name": "stdout",
          "text": [
            "\b\b\b\b\b\b\b\b\b\b\b\b\b\b\b\b\b\b\b\b\b\b\b\b\b\b\b\b\b\b\b\b\b\b\b\b\b\b\b\b\b\b\b\b\b\b\b\b\b\b\b\b\b\b\b\b\b\b\b\b\b\b\b\b\b\b\b\b\b\b\b\b\b\b\b\b\b\b\b\b\b\b\r75/75 [==============================] - 1s 8ms/step - loss: 0.0011 - accuracy: 0.9996 - lr: 3.0000e-05\n",
            "Epoch 169/200\n",
            "75/75 [==============================] - ETA: 0s - loss: 6.9610e-04 - accuracy: 1.0000"
          ]
        },
        {
          "output_type": "stream",
          "name": "stderr",
          "text": [
            "WARNING:tensorflow:Early stopping conditioned on metric `val_loss` which is not available. Available metrics are: loss,accuracy\n",
            "WARNING:tensorflow:Learning rate reduction is conditioned on metric `val_loss` which is not available. Available metrics are: loss,accuracy,lr\n"
          ]
        },
        {
          "output_type": "stream",
          "name": "stdout",
          "text": [
            "\b\b\b\b\b\b\b\b\b\b\b\b\b\b\b\b\b\b\b\b\b\b\b\b\b\b\b\b\b\b\b\b\b\b\b\b\b\b\b\b\b\b\b\b\b\b\b\b\b\b\b\b\b\b\b\b\b\b\b\b\b\b\b\b\b\b\b\b\b\b\b\b\b\b\b\b\b\b\b\b\b\b\b\b\b\b\r75/75 [==============================] - 1s 7ms/step - loss: 6.9610e-04 - accuracy: 1.0000 - lr: 3.0000e-05\n",
            "Epoch 170/200\n",
            "71/75 [===========================>..] - ETA: 0s - loss: 5.8968e-04 - accuracy: 0.9996"
          ]
        },
        {
          "output_type": "stream",
          "name": "stderr",
          "text": [
            "WARNING:tensorflow:Early stopping conditioned on metric `val_loss` which is not available. Available metrics are: loss,accuracy\n",
            "WARNING:tensorflow:Learning rate reduction is conditioned on metric `val_loss` which is not available. Available metrics are: loss,accuracy,lr\n"
          ]
        },
        {
          "output_type": "stream",
          "name": "stdout",
          "text": [
            "\b\b\b\b\b\b\b\b\b\b\b\b\b\b\b\b\b\b\b\b\b\b\b\b\b\b\b\b\b\b\b\b\b\b\b\b\b\b\b\b\b\b\b\b\b\b\b\b\b\b\b\b\b\b\b\b\b\b\b\b\b\b\b\b\b\b\b\b\b\b\b\b\b\b\b\b\b\b\b\b\b\b\b\b\b\b\r75/75 [==============================] - 1s 8ms/step - loss: 5.6907e-04 - accuracy: 0.9996 - lr: 3.0000e-05\n",
            "Epoch 171/200\n",
            "75/75 [==============================] - ETA: 0s - loss: 7.9621e-04 - accuracy: 0.9996"
          ]
        },
        {
          "output_type": "stream",
          "name": "stderr",
          "text": [
            "WARNING:tensorflow:Early stopping conditioned on metric `val_loss` which is not available. Available metrics are: loss,accuracy\n",
            "WARNING:tensorflow:Learning rate reduction is conditioned on metric `val_loss` which is not available. Available metrics are: loss,accuracy,lr\n"
          ]
        },
        {
          "output_type": "stream",
          "name": "stdout",
          "text": [
            "\b\b\b\b\b\b\b\b\b\b\b\b\b\b\b\b\b\b\b\b\b\b\b\b\b\b\b\b\b\b\b\b\b\b\b\b\b\b\b\b\b\b\b\b\b\b\b\b\b\b\b\b\b\b\b\b\b\b\b\b\b\b\b\b\b\b\b\b\b\b\b\b\b\b\b\b\b\b\b\b\b\b\b\b\b\b\r75/75 [==============================] - 0s 6ms/step - loss: 7.9621e-04 - accuracy: 0.9996 - lr: 3.0000e-05\n",
            "Epoch 172/200\n",
            "73/75 [============================>.] - ETA: 0s - loss: 9.7317e-04 - accuracy: 0.9996"
          ]
        },
        {
          "output_type": "stream",
          "name": "stderr",
          "text": [
            "WARNING:tensorflow:Early stopping conditioned on metric `val_loss` which is not available. Available metrics are: loss,accuracy\n",
            "WARNING:tensorflow:Learning rate reduction is conditioned on metric `val_loss` which is not available. Available metrics are: loss,accuracy,lr\n"
          ]
        },
        {
          "output_type": "stream",
          "name": "stdout",
          "text": [
            "\b\b\b\b\b\b\b\b\b\b\b\b\b\b\b\b\b\b\b\b\b\b\b\b\b\b\b\b\b\b\b\b\b\b\b\b\b\b\b\b\b\b\b\b\b\b\b\b\b\b\b\b\b\b\b\b\b\b\b\b\b\b\b\b\b\b\b\b\b\b\b\b\b\b\b\b\b\b\b\b\b\b\b\b\b\b\r75/75 [==============================] - 0s 6ms/step - loss: 0.0010 - accuracy: 0.9996 - lr: 3.0000e-05\n",
            "Epoch 173/200\n",
            "68/75 [==========================>...] - ETA: 0s - loss: 0.0013 - accuracy: 0.9991    "
          ]
        },
        {
          "output_type": "stream",
          "name": "stderr",
          "text": [
            "WARNING:tensorflow:Early stopping conditioned on metric `val_loss` which is not available. Available metrics are: loss,accuracy\n",
            "WARNING:tensorflow:Learning rate reduction is conditioned on metric `val_loss` which is not available. Available metrics are: loss,accuracy,lr\n"
          ]
        },
        {
          "output_type": "stream",
          "name": "stdout",
          "text": [
            "\b\b\b\b\b\b\b\b\b\b\b\b\b\b\b\b\b\b\b\b\b\b\b\b\b\b\b\b\b\b\b\b\b\b\b\b\b\b\b\b\b\b\b\b\b\b\b\b\b\b\b\b\b\b\b\b\b\b\b\b\b\b\b\b\b\b\b\b\b\b\b\b\b\b\b\b\b\b\b\b\b\b\r75/75 [==============================] - 0s 6ms/step - loss: 0.0012 - accuracy: 0.9992 - lr: 3.0000e-05\n",
            "Epoch 174/200\n",
            "75/75 [==============================] - ETA: 0s - loss: 8.0944e-04 - accuracy: 1.0000"
          ]
        },
        {
          "output_type": "stream",
          "name": "stderr",
          "text": [
            "WARNING:tensorflow:Early stopping conditioned on metric `val_loss` which is not available. Available metrics are: loss,accuracy\n",
            "WARNING:tensorflow:Learning rate reduction is conditioned on metric `val_loss` which is not available. Available metrics are: loss,accuracy,lr\n"
          ]
        },
        {
          "output_type": "stream",
          "name": "stdout",
          "text": [
            "\b\b\b\b\b\b\b\b\b\b\b\b\b\b\b\b\b\b\b\b\b\b\b\b\b\b\b\b\b\b\b\b\b\b\b\b\b\b\b\b\b\b\b\b\b\b\b\b\b\b\b\b\b\b\b\b\b\b\b\b\b\b\b\b\b\b\b\b\b\b\b\b\b\b\b\b\b\b\b\b\b\b\b\b\b\b\r75/75 [==============================] - 0s 6ms/step - loss: 8.0944e-04 - accuracy: 1.0000 - lr: 3.0000e-05\n",
            "Epoch 175/200\n",
            "73/75 [============================>.] - ETA: 0s - loss: 0.0021 - accuracy: 0.9991"
          ]
        },
        {
          "output_type": "stream",
          "name": "stderr",
          "text": [
            "WARNING:tensorflow:Early stopping conditioned on metric `val_loss` which is not available. Available metrics are: loss,accuracy\n",
            "WARNING:tensorflow:Learning rate reduction is conditioned on metric `val_loss` which is not available. Available metrics are: loss,accuracy,lr\n"
          ]
        },
        {
          "output_type": "stream",
          "name": "stdout",
          "text": [
            "\b\b\b\b\b\b\b\b\b\b\b\b\b\b\b\b\b\b\b\b\b\b\b\b\b\b\b\b\b\b\b\b\b\b\b\b\b\b\b\b\b\b\b\b\b\b\b\b\b\b\b\b\b\b\b\b\b\b\b\b\b\b\b\b\b\b\b\b\b\b\b\b\b\b\b\b\b\b\b\b\b\b\r75/75 [==============================] - 0s 6ms/step - loss: 0.0021 - accuracy: 0.9992 - lr: 3.0000e-05\n",
            "Epoch 176/200\n",
            "68/75 [==========================>...] - ETA: 0s - loss: 5.8181e-04 - accuracy: 1.0000"
          ]
        },
        {
          "output_type": "stream",
          "name": "stderr",
          "text": [
            "WARNING:tensorflow:Early stopping conditioned on metric `val_loss` which is not available. Available metrics are: loss,accuracy\n",
            "WARNING:tensorflow:Learning rate reduction is conditioned on metric `val_loss` which is not available. Available metrics are: loss,accuracy,lr\n"
          ]
        },
        {
          "output_type": "stream",
          "name": "stdout",
          "text": [
            "\b\b\b\b\b\b\b\b\b\b\b\b\b\b\b\b\b\b\b\b\b\b\b\b\b\b\b\b\b\b\b\b\b\b\b\b\b\b\b\b\b\b\b\b\b\b\b\b\b\b\b\b\b\b\b\b\b\b\b\b\b\b\b\b\b\b\b\b\b\b\b\b\b\b\b\b\b\b\b\b\b\b\b\b\b\b\r75/75 [==============================] - 0s 6ms/step - loss: 5.4756e-04 - accuracy: 1.0000 - lr: 3.0000e-05\n",
            "Epoch 177/200\n",
            "74/75 [============================>.] - ETA: 0s - loss: 0.0015 - accuracy: 0.9996"
          ]
        },
        {
          "output_type": "stream",
          "name": "stderr",
          "text": [
            "WARNING:tensorflow:Early stopping conditioned on metric `val_loss` which is not available. Available metrics are: loss,accuracy\n",
            "WARNING:tensorflow:Learning rate reduction is conditioned on metric `val_loss` which is not available. Available metrics are: loss,accuracy,lr\n"
          ]
        },
        {
          "output_type": "stream",
          "name": "stdout",
          "text": [
            "\b\b\b\b\b\b\b\b\b\b\b\b\b\b\b\b\b\b\b\b\b\b\b\b\b\b\b\b\b\b\b\b\b\b\b\b\b\b\b\b\b\b\b\b\b\b\b\b\b\b\b\b\b\b\b\b\b\b\b\b\b\b\b\b\b\b\b\b\b\b\b\b\b\b\b\b\b\b\b\b\b\b\r75/75 [==============================] - 0s 6ms/step - loss: 0.0015 - accuracy: 0.9996 - lr: 3.0000e-05\n",
            "Epoch 178/200\n",
            "75/75 [==============================] - ETA: 0s - loss: 0.0015 - accuracy: 0.9992"
          ]
        },
        {
          "output_type": "stream",
          "name": "stderr",
          "text": [
            "WARNING:tensorflow:Early stopping conditioned on metric `val_loss` which is not available. Available metrics are: loss,accuracy\n",
            "WARNING:tensorflow:Learning rate reduction is conditioned on metric `val_loss` which is not available. Available metrics are: loss,accuracy,lr\n"
          ]
        },
        {
          "output_type": "stream",
          "name": "stdout",
          "text": [
            "\b\b\b\b\b\b\b\b\b\b\b\b\b\b\b\b\b\b\b\b\b\b\b\b\b\b\b\b\b\b\b\b\b\b\b\b\b\b\b\b\b\b\b\b\b\b\b\b\b\b\b\b\b\b\b\b\b\b\b\b\b\b\b\b\b\b\b\b\b\b\b\b\b\b\b\b\b\b\b\b\b\b\r75/75 [==============================] - 0s 6ms/step - loss: 0.0015 - accuracy: 0.9992 - lr: 3.0000e-05\n",
            "Epoch 179/200\n",
            "68/75 [==========================>...] - ETA: 0s - loss: 0.0020 - accuracy: 0.9991    "
          ]
        },
        {
          "output_type": "stream",
          "name": "stderr",
          "text": [
            "WARNING:tensorflow:Early stopping conditioned on metric `val_loss` which is not available. Available metrics are: loss,accuracy\n",
            "WARNING:tensorflow:Learning rate reduction is conditioned on metric `val_loss` which is not available. Available metrics are: loss,accuracy,lr\n"
          ]
        },
        {
          "output_type": "stream",
          "name": "stdout",
          "text": [
            "\b\b\b\b\b\b\b\b\b\b\b\b\b\b\b\b\b\b\b\b\b\b\b\b\b\b\b\b\b\b\b\b\b\b\b\b\b\b\b\b\b\b\b\b\b\b\b\b\b\b\b\b\b\b\b\b\b\b\b\b\b\b\b\b\b\b\b\b\b\b\b\b\b\b\b\b\b\b\b\b\b\b\r75/75 [==============================] - 0s 6ms/step - loss: 0.0019 - accuracy: 0.9992 - lr: 3.0000e-05\n",
            "Epoch 180/200\n",
            "75/75 [==============================] - ETA: 0s - loss: 0.0012 - accuracy: 0.9992"
          ]
        },
        {
          "output_type": "stream",
          "name": "stderr",
          "text": [
            "WARNING:tensorflow:Early stopping conditioned on metric `val_loss` which is not available. Available metrics are: loss,accuracy\n",
            "WARNING:tensorflow:Learning rate reduction is conditioned on metric `val_loss` which is not available. Available metrics are: loss,accuracy,lr\n"
          ]
        },
        {
          "output_type": "stream",
          "name": "stdout",
          "text": [
            "\b\b\b\b\b\b\b\b\b\b\b\b\b\b\b\b\b\b\b\b\b\b\b\b\b\b\b\b\b\b\b\b\b\b\b\b\b\b\b\b\b\b\b\b\b\b\b\b\b\b\b\b\b\b\b\b\b\b\b\b\b\b\b\b\b\b\b\b\b\b\b\b\b\b\b\b\b\b\b\b\b\b\r75/75 [==============================] - 0s 6ms/step - loss: 0.0012 - accuracy: 0.9992 - lr: 3.0000e-05\n",
            "Epoch 181/200\n",
            "67/75 [=========================>....] - ETA: 0s - loss: 0.0010 - accuracy: 0.9995"
          ]
        },
        {
          "output_type": "stream",
          "name": "stderr",
          "text": [
            "WARNING:tensorflow:Early stopping conditioned on metric `val_loss` which is not available. Available metrics are: loss,accuracy\n",
            "WARNING:tensorflow:Learning rate reduction is conditioned on metric `val_loss` which is not available. Available metrics are: loss,accuracy,lr\n"
          ]
        },
        {
          "output_type": "stream",
          "name": "stdout",
          "text": [
            "\b\b\b\b\b\b\b\b\b\b\b\b\b\b\b\b\b\b\b\b\b\b\b\b\b\b\b\b\b\b\b\b\b\b\b\b\b\b\b\b\b\b\b\b\b\b\b\b\b\b\b\b\b\b\b\b\b\b\b\b\b\b\b\b\b\b\b\b\b\b\b\b\b\b\b\b\b\b\b\b\b\b\r75/75 [==============================] - 0s 6ms/step - loss: 0.0011 - accuracy: 0.9996 - lr: 3.0000e-05\n",
            "Epoch 182/200\n",
            "68/75 [==========================>...] - ETA: 0s - loss: 0.0017 - accuracy: 0.9991    "
          ]
        },
        {
          "output_type": "stream",
          "name": "stderr",
          "text": [
            "WARNING:tensorflow:Early stopping conditioned on metric `val_loss` which is not available. Available metrics are: loss,accuracy\n",
            "WARNING:tensorflow:Learning rate reduction is conditioned on metric `val_loss` which is not available. Available metrics are: loss,accuracy,lr\n"
          ]
        },
        {
          "output_type": "stream",
          "name": "stdout",
          "text": [
            "\b\b\b\b\b\b\b\b\b\b\b\b\b\b\b\b\b\b\b\b\b\b\b\b\b\b\b\b\b\b\b\b\b\b\b\b\b\b\b\b\b\b\b\b\b\b\b\b\b\b\b\b\b\b\b\b\b\b\b\b\b\b\b\b\b\b\b\b\b\b\b\b\b\b\b\b\b\b\b\b\b\b\r75/75 [==============================] - 0s 6ms/step - loss: 0.0015 - accuracy: 0.9992 - lr: 3.0000e-05\n",
            "Epoch 183/200\n",
            "67/75 [=========================>....] - ETA: 0s - loss: 8.1410e-04 - accuracy: 1.0000"
          ]
        },
        {
          "output_type": "stream",
          "name": "stderr",
          "text": [
            "WARNING:tensorflow:Early stopping conditioned on metric `val_loss` which is not available. Available metrics are: loss,accuracy\n",
            "WARNING:tensorflow:Learning rate reduction is conditioned on metric `val_loss` which is not available. Available metrics are: loss,accuracy,lr\n"
          ]
        },
        {
          "output_type": "stream",
          "name": "stdout",
          "text": [
            "\b\b\b\b\b\b\b\b\b\b\b\b\b\b\b\b\b\b\b\b\b\b\b\b\b\b\b\b\b\b\b\b\b\b\b\b\b\b\b\b\b\b\b\b\b\b\b\b\b\b\b\b\b\b\b\b\b\b\b\b\b\b\b\b\b\b\b\b\b\b\b\b\b\b\b\b\b\b\b\b\b\b\b\b\b\b\r75/75 [==============================] - 0s 6ms/step - loss: 0.0014 - accuracy: 0.9996 - lr: 3.0000e-05\n",
            "Epoch 184/200\n",
            "67/75 [=========================>....] - ETA: 0s - loss: 9.3854e-04 - accuracy: 0.9995"
          ]
        },
        {
          "output_type": "stream",
          "name": "stderr",
          "text": [
            "WARNING:tensorflow:Early stopping conditioned on metric `val_loss` which is not available. Available metrics are: loss,accuracy\n",
            "WARNING:tensorflow:Learning rate reduction is conditioned on metric `val_loss` which is not available. Available metrics are: loss,accuracy,lr\n"
          ]
        },
        {
          "output_type": "stream",
          "name": "stdout",
          "text": [
            "\b\b\b\b\b\b\b\b\b\b\b\b\b\b\b\b\b\b\b\b\b\b\b\b\b\b\b\b\b\b\b\b\b\b\b\b\b\b\b\b\b\b\b\b\b\b\b\b\b\b\b\b\b\b\b\b\b\b\b\b\b\b\b\b\b\b\b\b\b\b\b\b\b\b\b\b\b\b\b\b\b\b\b\b\b\b\r75/75 [==============================] - 0s 6ms/step - loss: 8.6048e-04 - accuracy: 0.9996 - lr: 3.0000e-05\n",
            "Epoch 185/200\n",
            "75/75 [==============================] - ETA: 0s - loss: 0.0010 - accuracy: 0.9992    "
          ]
        },
        {
          "output_type": "stream",
          "name": "stderr",
          "text": [
            "WARNING:tensorflow:Early stopping conditioned on metric `val_loss` which is not available. Available metrics are: loss,accuracy\n",
            "WARNING:tensorflow:Learning rate reduction is conditioned on metric `val_loss` which is not available. Available metrics are: loss,accuracy,lr\n"
          ]
        },
        {
          "output_type": "stream",
          "name": "stdout",
          "text": [
            "\b\b\b\b\b\b\b\b\b\b\b\b\b\b\b\b\b\b\b\b\b\b\b\b\b\b\b\b\b\b\b\b\b\b\b\b\b\b\b\b\b\b\b\b\b\b\b\b\b\b\b\b\b\b\b\b\b\b\b\b\b\b\b\b\b\b\b\b\b\b\b\b\b\b\b\b\b\b\b\b\b\b\r75/75 [==============================] - 0s 6ms/step - loss: 0.0010 - accuracy: 0.9992 - lr: 3.0000e-05\n",
            "Epoch 186/200\n",
            "75/75 [==============================] - ETA: 0s - loss: 0.0022 - accuracy: 0.9987"
          ]
        },
        {
          "output_type": "stream",
          "name": "stderr",
          "text": [
            "WARNING:tensorflow:Early stopping conditioned on metric `val_loss` which is not available. Available metrics are: loss,accuracy\n",
            "WARNING:tensorflow:Learning rate reduction is conditioned on metric `val_loss` which is not available. Available metrics are: loss,accuracy,lr\n"
          ]
        },
        {
          "output_type": "stream",
          "name": "stdout",
          "text": [
            "\b\b\b\b\b\b\b\b\b\b\b\b\b\b\b\b\b\b\b\b\b\b\b\b\b\b\b\b\b\b\b\b\b\b\b\b\b\b\b\b\b\b\b\b\b\b\b\b\b\b\b\b\b\b\b\b\b\b\b\b\b\b\b\b\b\b\b\b\b\b\b\b\b\b\b\b\b\b\b\b\b\b\r75/75 [==============================] - 0s 6ms/step - loss: 0.0022 - accuracy: 0.9987 - lr: 3.0000e-05\n",
            "Epoch 187/200\n",
            "74/75 [============================>.] - ETA: 0s - loss: 0.0012 - accuracy: 0.9996"
          ]
        },
        {
          "output_type": "stream",
          "name": "stderr",
          "text": [
            "WARNING:tensorflow:Early stopping conditioned on metric `val_loss` which is not available. Available metrics are: loss,accuracy\n",
            "WARNING:tensorflow:Learning rate reduction is conditioned on metric `val_loss` which is not available. Available metrics are: loss,accuracy,lr\n"
          ]
        },
        {
          "output_type": "stream",
          "name": "stdout",
          "text": [
            "\b\b\b\b\b\b\b\b\b\b\b\b\b\b\b\b\b\b\b\b\b\b\b\b\b\b\b\b\b\b\b\b\b\b\b\b\b\b\b\b\b\b\b\b\b\b\b\b\b\b\b\b\b\b\b\b\b\b\b\b\b\b\b\b\b\b\b\b\b\b\b\b\b\b\b\b\b\b\b\b\b\b\r75/75 [==============================] - 0s 6ms/step - loss: 0.0012 - accuracy: 0.9996 - lr: 3.0000e-05\n",
            "Epoch 188/200\n",
            "72/75 [===========================>..] - ETA: 0s - loss: 0.0013 - accuracy: 0.9991    "
          ]
        },
        {
          "output_type": "stream",
          "name": "stderr",
          "text": [
            "WARNING:tensorflow:Early stopping conditioned on metric `val_loss` which is not available. Available metrics are: loss,accuracy\n",
            "WARNING:tensorflow:Learning rate reduction is conditioned on metric `val_loss` which is not available. Available metrics are: loss,accuracy,lr\n"
          ]
        },
        {
          "output_type": "stream",
          "name": "stdout",
          "text": [
            "\b\b\b\b\b\b\b\b\b\b\b\b\b\b\b\b\b\b\b\b\b\b\b\b\b\b\b\b\b\b\b\b\b\b\b\b\b\b\b\b\b\b\b\b\b\b\b\b\b\b\b\b\b\b\b\b\b\b\b\b\b\b\b\b\b\b\b\b\b\b\b\b\b\b\b\b\b\b\b\b\b\b\r75/75 [==============================] - 0s 6ms/step - loss: 0.0013 - accuracy: 0.9992 - lr: 3.0000e-05\n",
            "Epoch 189/200\n",
            "75/75 [==============================] - ETA: 0s - loss: 0.0017 - accuracy: 0.9992"
          ]
        },
        {
          "output_type": "stream",
          "name": "stderr",
          "text": [
            "WARNING:tensorflow:Early stopping conditioned on metric `val_loss` which is not available. Available metrics are: loss,accuracy\n",
            "WARNING:tensorflow:Learning rate reduction is conditioned on metric `val_loss` which is not available. Available metrics are: loss,accuracy,lr\n"
          ]
        },
        {
          "output_type": "stream",
          "name": "stdout",
          "text": [
            "\b\b\b\b\b\b\b\b\b\b\b\b\b\b\b\b\b\b\b\b\b\b\b\b\b\b\b\b\b\b\b\b\b\b\b\b\b\b\b\b\b\b\b\b\b\b\b\b\b\b\b\b\b\b\b\b\b\b\b\b\b\b\b\b\b\b\b\b\b\b\b\b\b\b\b\b\b\b\b\b\b\b\r75/75 [==============================] - 0s 6ms/step - loss: 0.0017 - accuracy: 0.9992 - lr: 3.0000e-05\n",
            "Epoch 190/200\n",
            "66/75 [=========================>....] - ETA: 0s - loss: 0.0014 - accuracy: 0.9995"
          ]
        },
        {
          "output_type": "stream",
          "name": "stderr",
          "text": [
            "WARNING:tensorflow:Early stopping conditioned on metric `val_loss` which is not available. Available metrics are: loss,accuracy\n",
            "WARNING:tensorflow:Learning rate reduction is conditioned on metric `val_loss` which is not available. Available metrics are: loss,accuracy,lr\n"
          ]
        },
        {
          "output_type": "stream",
          "name": "stdout",
          "text": [
            "\b\b\b\b\b\b\b\b\b\b\b\b\b\b\b\b\b\b\b\b\b\b\b\b\b\b\b\b\b\b\b\b\b\b\b\b\b\b\b\b\b\b\b\b\b\b\b\b\b\b\b\b\b\b\b\b\b\b\b\b\b\b\b\b\b\b\b\b\b\b\b\b\b\b\b\b\b\b\b\b\b\b\r75/75 [==============================] - 0s 6ms/step - loss: 0.0013 - accuracy: 0.9996 - lr: 3.0000e-05\n",
            "Epoch 191/200\n",
            "68/75 [==========================>...] - ETA: 0s - loss: 0.0023 - accuracy: 0.9991"
          ]
        },
        {
          "output_type": "stream",
          "name": "stderr",
          "text": [
            "WARNING:tensorflow:Early stopping conditioned on metric `val_loss` which is not available. Available metrics are: loss,accuracy\n",
            "WARNING:tensorflow:Learning rate reduction is conditioned on metric `val_loss` which is not available. Available metrics are: loss,accuracy,lr\n"
          ]
        },
        {
          "output_type": "stream",
          "name": "stdout",
          "text": [
            "\b\b\b\b\b\b\b\b\b\b\b\b\b\b\b\b\b\b\b\b\b\b\b\b\b\b\b\b\b\b\b\b\b\b\b\b\b\b\b\b\b\b\b\b\b\b\b\b\b\b\b\b\b\b\b\b\b\b\b\b\b\b\b\b\b\b\b\b\b\b\b\b\b\b\b\b\b\b\b\b\b\b\r75/75 [==============================] - 0s 6ms/step - loss: 0.0021 - accuracy: 0.9992 - lr: 3.0000e-05\n",
            "Epoch 192/200\n",
            "66/75 [=========================>....] - ETA: 0s - loss: 0.0020 - accuracy: 0.9991"
          ]
        },
        {
          "output_type": "stream",
          "name": "stderr",
          "text": [
            "WARNING:tensorflow:Early stopping conditioned on metric `val_loss` which is not available. Available metrics are: loss,accuracy\n",
            "WARNING:tensorflow:Learning rate reduction is conditioned on metric `val_loss` which is not available. Available metrics are: loss,accuracy,lr\n"
          ]
        },
        {
          "output_type": "stream",
          "name": "stdout",
          "text": [
            "\b\b\b\b\b\b\b\b\b\b\b\b\b\b\b\b\b\b\b\b\b\b\b\b\b\b\b\b\b\b\b\b\b\b\b\b\b\b\b\b\b\b\b\b\b\b\b\b\b\b\b\b\b\b\b\b\b\b\b\b\b\b\b\b\b\b\b\b\b\b\b\b\b\b\b\b\b\b\b\b\b\b\r75/75 [==============================] - 0s 6ms/step - loss: 0.0018 - accuracy: 0.9992 - lr: 3.0000e-05\n",
            "Epoch 193/200\n",
            "74/75 [============================>.] - ETA: 0s - loss: 4.7762e-04 - accuracy: 1.0000"
          ]
        },
        {
          "output_type": "stream",
          "name": "stderr",
          "text": [
            "WARNING:tensorflow:Early stopping conditioned on metric `val_loss` which is not available. Available metrics are: loss,accuracy\n",
            "WARNING:tensorflow:Learning rate reduction is conditioned on metric `val_loss` which is not available. Available metrics are: loss,accuracy,lr\n"
          ]
        },
        {
          "output_type": "stream",
          "name": "stdout",
          "text": [
            "\b\b\b\b\b\b\b\b\b\b\b\b\b\b\b\b\b\b\b\b\b\b\b\b\b\b\b\b\b\b\b\b\b\b\b\b\b\b\b\b\b\b\b\b\b\b\b\b\b\b\b\b\b\b\b\b\b\b\b\b\b\b\b\b\b\b\b\b\b\b\b\b\b\b\b\b\b\b\b\b\b\b\b\b\b\b\r75/75 [==============================] - 0s 6ms/step - loss: 4.7662e-04 - accuracy: 1.0000 - lr: 3.0000e-05\n",
            "Epoch 194/200\n",
            "67/75 [=========================>....] - ETA: 0s - loss: 7.3865e-04 - accuracy: 0.9995"
          ]
        },
        {
          "output_type": "stream",
          "name": "stderr",
          "text": [
            "WARNING:tensorflow:Early stopping conditioned on metric `val_loss` which is not available. Available metrics are: loss,accuracy\n",
            "WARNING:tensorflow:Learning rate reduction is conditioned on metric `val_loss` which is not available. Available metrics are: loss,accuracy,lr\n"
          ]
        },
        {
          "output_type": "stream",
          "name": "stdout",
          "text": [
            "\b\b\b\b\b\b\b\b\b\b\b\b\b\b\b\b\b\b\b\b\b\b\b\b\b\b\b\b\b\b\b\b\b\b\b\b\b\b\b\b\b\b\b\b\b\b\b\b\b\b\b\b\b\b\b\b\b\b\b\b\b\b\b\b\b\b\b\b\b\b\b\b\b\b\b\b\b\b\b\b\b\b\b\b\b\b\r75/75 [==============================] - 0s 6ms/step - loss: 0.0011 - accuracy: 0.9992 - lr: 3.0000e-05\n",
            "Epoch 195/200\n",
            "75/75 [==============================] - ETA: 0s - loss: 7.7594e-04 - accuracy: 1.0000"
          ]
        },
        {
          "output_type": "stream",
          "name": "stderr",
          "text": [
            "WARNING:tensorflow:Early stopping conditioned on metric `val_loss` which is not available. Available metrics are: loss,accuracy\n",
            "WARNING:tensorflow:Learning rate reduction is conditioned on metric `val_loss` which is not available. Available metrics are: loss,accuracy,lr\n"
          ]
        },
        {
          "output_type": "stream",
          "name": "stdout",
          "text": [
            "\b\b\b\b\b\b\b\b\b\b\b\b\b\b\b\b\b\b\b\b\b\b\b\b\b\b\b\b\b\b\b\b\b\b\b\b\b\b\b\b\b\b\b\b\b\b\b\b\b\b\b\b\b\b\b\b\b\b\b\b\b\b\b\b\b\b\b\b\b\b\b\b\b\b\b\b\b\b\b\b\b\b\b\b\b\b\r75/75 [==============================] - 0s 6ms/step - loss: 7.7594e-04 - accuracy: 1.0000 - lr: 3.0000e-05\n",
            "Epoch 196/200\n",
            "74/75 [============================>.] - ETA: 0s - loss: 0.0026 - accuracy: 0.9992"
          ]
        },
        {
          "output_type": "stream",
          "name": "stderr",
          "text": [
            "WARNING:tensorflow:Early stopping conditioned on metric `val_loss` which is not available. Available metrics are: loss,accuracy\n",
            "WARNING:tensorflow:Learning rate reduction is conditioned on metric `val_loss` which is not available. Available metrics are: loss,accuracy,lr\n"
          ]
        },
        {
          "output_type": "stream",
          "name": "stdout",
          "text": [
            "\b\b\b\b\b\b\b\b\b\b\b\b\b\b\b\b\b\b\b\b\b\b\b\b\b\b\b\b\b\b\b\b\b\b\b\b\b\b\b\b\b\b\b\b\b\b\b\b\b\b\b\b\b\b\b\b\b\b\b\b\b\b\b\b\b\b\b\b\b\b\b\b\b\b\b\b\b\b\b\b\b\b\r75/75 [==============================] - 0s 6ms/step - loss: 0.0026 - accuracy: 0.9992 - lr: 3.0000e-05\n",
            "Epoch 197/200\n",
            "73/75 [============================>.] - ETA: 0s - loss: 0.0011 - accuracy: 0.9996    "
          ]
        },
        {
          "output_type": "stream",
          "name": "stderr",
          "text": [
            "WARNING:tensorflow:Early stopping conditioned on metric `val_loss` which is not available. Available metrics are: loss,accuracy\n",
            "WARNING:tensorflow:Learning rate reduction is conditioned on metric `val_loss` which is not available. Available metrics are: loss,accuracy,lr\n"
          ]
        },
        {
          "output_type": "stream",
          "name": "stdout",
          "text": [
            "\b\b\b\b\b\b\b\b\b\b\b\b\b\b\b\b\b\b\b\b\b\b\b\b\b\b\b\b\b\b\b\b\b\b\b\b\b\b\b\b\b\b\b\b\b\b\b\b\b\b\b\b\b\b\b\b\b\b\b\b\b\b\b\b\b\b\b\b\b\b\b\b\b\b\b\b\b\b\b\b\b\b\r75/75 [==============================] - 0s 6ms/step - loss: 0.0011 - accuracy: 0.9996 - lr: 3.0000e-05\n",
            "Epoch 198/200\n",
            "72/75 [===========================>..] - ETA: 0s - loss: 8.6930e-04 - accuracy: 0.9996"
          ]
        },
        {
          "output_type": "stream",
          "name": "stderr",
          "text": [
            "WARNING:tensorflow:Early stopping conditioned on metric `val_loss` which is not available. Available metrics are: loss,accuracy\n",
            "WARNING:tensorflow:Learning rate reduction is conditioned on metric `val_loss` which is not available. Available metrics are: loss,accuracy,lr\n"
          ]
        },
        {
          "output_type": "stream",
          "name": "stdout",
          "text": [
            "\b\b\b\b\b\b\b\b\b\b\b\b\b\b\b\b\b\b\b\b\b\b\b\b\b\b\b\b\b\b\b\b\b\b\b\b\b\b\b\b\b\b\b\b\b\b\b\b\b\b\b\b\b\b\b\b\b\b\b\b\b\b\b\b\b\b\b\b\b\b\b\b\b\b\b\b\b\b\b\b\b\b\b\b\b\b\r75/75 [==============================] - 0s 6ms/step - loss: 8.6223e-04 - accuracy: 0.9996 - lr: 3.0000e-05\n",
            "Epoch 199/200\n",
            "74/75 [============================>.] - ETA: 0s - loss: 0.0012 - accuracy: 0.9996"
          ]
        },
        {
          "output_type": "stream",
          "name": "stderr",
          "text": [
            "WARNING:tensorflow:Early stopping conditioned on metric `val_loss` which is not available. Available metrics are: loss,accuracy\n",
            "WARNING:tensorflow:Learning rate reduction is conditioned on metric `val_loss` which is not available. Available metrics are: loss,accuracy,lr\n"
          ]
        },
        {
          "output_type": "stream",
          "name": "stdout",
          "text": [
            "\b\b\b\b\b\b\b\b\b\b\b\b\b\b\b\b\b\b\b\b\b\b\b\b\b\b\b\b\b\b\b\b\b\b\b\b\b\b\b\b\b\b\b\b\b\b\b\b\b\b\b\b\b\b\b\b\b\b\b\b\b\b\b\b\b\b\b\b\b\b\b\b\b\b\b\b\b\b\b\b\b\b\r75/75 [==============================] - 0s 6ms/step - loss: 0.0012 - accuracy: 0.9996 - lr: 3.0000e-05\n",
            "Epoch 200/200\n",
            "72/75 [===========================>..] - ETA: 0s - loss: 4.7170e-04 - accuracy: 1.0000"
          ]
        },
        {
          "output_type": "stream",
          "name": "stderr",
          "text": [
            "WARNING:tensorflow:Early stopping conditioned on metric `val_loss` which is not available. Available metrics are: loss,accuracy\n",
            "WARNING:tensorflow:Learning rate reduction is conditioned on metric `val_loss` which is not available. Available metrics are: loss,accuracy,lr\n"
          ]
        },
        {
          "output_type": "stream",
          "name": "stdout",
          "text": [
            "\b\b\b\b\b\b\b\b\b\b\b\b\b\b\b\b\b\b\b\b\b\b\b\b\b\b\b\b\b\b\b\b\b\b\b\b\b\b\b\b\b\b\b\b\b\b\b\b\b\b\b\b\b\b\b\b\b\b\b\b\b\b\b\b\b\b\b\b\b\b\b\b\b\b\b\b\b\b\b\b\b\b\b\b\b\b\r75/75 [==============================] - 0s 6ms/step - loss: 4.6470e-04 - accuracy: 1.0000 - lr: 3.0000e-05\n"
          ]
        }
      ]
    },
    {
      "cell_type": "markdown",
      "source": [
        "# log loss"
      ],
      "metadata": {
        "id": "U3Xg55v7ZbWc"
      }
    },
    {
      "cell_type": "code",
      "source": [
        "CNN1_network_predictions = CNN1_network.predict(padded_clean_text_t_stem)"
      ],
      "metadata": {
        "id": "dbcI7RTeZcn2"
      },
      "execution_count": null,
      "outputs": []
    },
    {
      "cell_type": "code",
      "source": [
        "from sklearn.metrics import log_loss\n",
        "log_loss_test= log_loss(label_twoDimension_t,CNN1_network_predictions)\n",
        "log_loss_test"
      ],
      "metadata": {
        "colab": {
          "base_uri": "https://localhost:8080/"
        },
        "id": "vBA3XmTFZf4y",
        "outputId": "d2fdd712-dfa3-45d2-e9fc-b8d78f5a845b"
      },
      "execution_count": null,
      "outputs": [
        {
          "output_type": "execute_result",
          "data": {
            "text/plain": [
              "2.5124110467129195"
            ]
          },
          "metadata": {},
          "execution_count": 66
        }
      ]
    },
    {
      "cell_type": "markdown",
      "source": [
        "# Classification Report\n"
      ],
      "metadata": {
        "id": "gIX9etNsZiSb"
      }
    },
    {
      "cell_type": "code",
      "source": [
        "predictions = np.zeros_like(CNN1_network_predictions)\n",
        "predictions[np.arange(len(CNN1_network_predictions)), CNN1_network_predictions.argmax(1)] = 1\n",
        "\n"
      ],
      "metadata": {
        "id": "EejyfrakZjSe"
      },
      "execution_count": null,
      "outputs": []
    },
    {
      "cell_type": "code",
      "source": [
        "\n",
        "\n",
        "predictionInteger=(np.argmax(predictions, axis=1))\n",
        "predictionInteger\n",
        "\n"
      ],
      "metadata": {
        "colab": {
          "base_uri": "https://localhost:8080/"
        },
        "id": "gegx60d8ZmD0",
        "outputId": "d9fc8355-f983-4bf9-e719-235ed7c528cd"
      },
      "execution_count": null,
      "outputs": [
        {
          "output_type": "execute_result",
          "data": {
            "text/plain": [
              "array([0, 1, 1, ..., 1, 1, 1])"
            ]
          },
          "metadata": {},
          "execution_count": 68
        }
      ]
    },
    {
      "cell_type": "code",
      "source": [
        "\n",
        "\n",
        "pred_label = np.array(predictionInteger)\n",
        "df = pd.DataFrame(data=pred_label , columns=[\"task1\"])\n",
        "print(df)\n",
        "\n"
      ],
      "metadata": {
        "colab": {
          "base_uri": "https://localhost:8080/"
        },
        "id": "oceUPc_tZniC",
        "outputId": "31cd24ef-8caa-456b-8ba1-14445e22c048"
      },
      "execution_count": null,
      "outputs": [
        {
          "output_type": "stream",
          "name": "stdout",
          "text": [
            "      task1\n",
            "0         0\n",
            "1         1\n",
            "2         1\n",
            "3         1\n",
            "4         1\n",
            "...     ...\n",
            "3527      1\n",
            "3528      1\n",
            "3529      1\n",
            "3530      1\n",
            "3531      1\n",
            "\n",
            "[3532 rows x 1 columns]\n"
          ]
        }
      ]
    },
    {
      "cell_type": "code",
      "source": [
        "df.to_csv(\"NSIT_Train_HASOC2020_Test_GermEval2018_Task_A_submission_DE_A.csv\", index=False)"
      ],
      "metadata": {
        "id": "Ey4jhyzcZpFS"
      },
      "execution_count": null,
      "outputs": []
    },
    {
      "cell_type": "code",
      "source": [
        "\n",
        "\n",
        "from sklearn.metrics import classification_report\n",
        "print(classification_report(label_twoDimension_t,predictions))\n",
        "\n"
      ],
      "metadata": {
        "colab": {
          "base_uri": "https://localhost:8080/"
        },
        "id": "XLy5CXJXZtSj",
        "outputId": "06d7c0be-a30e-412b-d95d-5894f132c670"
      },
      "execution_count": null,
      "outputs": [
        {
          "output_type": "stream",
          "name": "stdout",
          "text": [
            "              precision    recall  f1-score   support\n",
            "\n",
            "           0       0.49      0.20      0.29      1202\n",
            "           1       0.68      0.89      0.77      2330\n",
            "\n",
            "   micro avg       0.66      0.66      0.66      3532\n",
            "   macro avg       0.59      0.55      0.53      3532\n",
            "weighted avg       0.62      0.66      0.61      3532\n",
            " samples avg       0.66      0.66      0.66      3532\n",
            "\n"
          ]
        }
      ]
    },
    {
      "cell_type": "markdown",
      "source": [
        "# Epoch v/s Loss Plot\n"
      ],
      "metadata": {
        "id": "vtezBAMJZvBv"
      }
    },
    {
      "cell_type": "code",
      "source": [
        "\n",
        "\n",
        "from matplotlib import pyplot as plt\n",
        "plt.plot(hist.history[\"loss\"],color = 'red', label = 'train_loss')\n",
        "#plt.plot(hist.history[\"val_loss\"],color = 'blue', label = 'val_loss')\n",
        "plt.title('Loss Visualisation')\n",
        "plt.xlabel('Epochs')\n",
        "plt.ylabel('Loss')\n",
        "plt.legend()\n",
        "plt.savefig('CNN1_Train_HASOC2020_Test_GermEval2018_Task_A_Ger_lossPlot.pdf',dpi=1000)\n",
        "\n",
        "from google.colab import files\n",
        "files.download('CNN1_Train_HASOC2020_Test_GermEval2018_Task_A_Ger_lossPlot.pdf') \n",
        "\n"
      ],
      "metadata": {
        "colab": {
          "base_uri": "https://localhost:8080/"
        },
        "id": "3Q4VbA71ZwwS",
        "outputId": "bcaeee6e-0d2c-473f-90d3-b0a94724d715"
      },
      "execution_count": null,
      "outputs": [
        {
          "output_type": "display_data",
          "data": {
            "text/plain": [
              "<IPython.core.display.Javascript object>"
            ],
            "application/javascript": [
              "\n",
              "    async function download(id, filename, size) {\n",
              "      if (!google.colab.kernel.accessAllowed) {\n",
              "        return;\n",
              "      }\n",
              "      const div = document.createElement('div');\n",
              "      const label = document.createElement('label');\n",
              "      label.textContent = `Downloading \"${filename}\": `;\n",
              "      div.appendChild(label);\n",
              "      const progress = document.createElement('progress');\n",
              "      progress.max = size;\n",
              "      div.appendChild(progress);\n",
              "      document.body.appendChild(div);\n",
              "\n",
              "      const buffers = [];\n",
              "      let downloaded = 0;\n",
              "\n",
              "      const channel = await google.colab.kernel.comms.open(id);\n",
              "      // Send a message to notify the kernel that we're ready.\n",
              "      channel.send({})\n",
              "\n",
              "      for await (const message of channel.messages) {\n",
              "        // Send a message to notify the kernel that we're ready.\n",
              "        channel.send({})\n",
              "        if (message.buffers) {\n",
              "          for (const buffer of message.buffers) {\n",
              "            buffers.push(buffer);\n",
              "            downloaded += buffer.byteLength;\n",
              "            progress.value = downloaded;\n",
              "          }\n",
              "        }\n",
              "      }\n",
              "      const blob = new Blob(buffers, {type: 'application/binary'});\n",
              "      const a = document.createElement('a');\n",
              "      a.href = window.URL.createObjectURL(blob);\n",
              "      a.download = filename;\n",
              "      div.appendChild(a);\n",
              "      a.click();\n",
              "      div.remove();\n",
              "    }\n",
              "  "
            ]
          },
          "metadata": {}
        },
        {
          "output_type": "display_data",
          "data": {
            "text/plain": [
              "<IPython.core.display.Javascript object>"
            ],
            "application/javascript": [
              "download(\"download_cf762949-b326-4beb-87c9-5d1973e7fb23\", \"CNN1_Train_HASOC2020_Test_GermEval2018_Task_A_Ger_lossPlot.pdf\", 12541)"
            ]
          },
          "metadata": {}
        },
        {
          "output_type": "display_data",
          "data": {
            "text/plain": [
              "<Figure size 432x288 with 1 Axes>"
            ],
            "image/png": "[encoded data removed]"
          },
          "metadata": {
            "needs_background": "light"
          }
        }
      ]
    },
    {
      "cell_type": "markdown",
      "source": [
        "# Epoch v/s Accuracy Plot\n"
      ],
      "metadata": {
        "id": "NEu9wKuUZ0z3"
      }
    },
    {
      "cell_type": "code",
      "source": [
        "\n",
        "\n",
        "plt.plot(hist.history[\"accuracy\"],color = 'red', label = 'train_accuracy')\n",
        "#plt.plot(hist.history[\"val_accuracy\"],color = 'blue', label = 'val_accuracy')\n",
        "plt.title('Accuracy Visualisation')\n",
        "plt.xlabel('Epochs')\n",
        "plt.ylabel('Accuracy')\n",
        "plt.legend()\n",
        "plt.savefig('CNN1_Train_HASOC2020_Test_GermEval2018_Task_A_Ger_accuracyPlot.pdf',dpi=1000)\n",
        "files.download('CNN1_Train_HASOC2020_Test_GermEval2018_Task_A_Ger_accuracyPlot.pdf') \n",
        "\n"
      ],
      "metadata": {
        "colab": {
          "base_uri": "https://localhost:8080/"
        },
        "id": "6Ad_2uQZZyuB",
        "outputId": "a5b8a15c-137b-4d45-bc6f-e5b7b4801974"
      },
      "execution_count": null,
      "outputs": [
        {
          "output_type": "display_data",
          "data": {
            "text/plain": [
              "<IPython.core.display.Javascript object>"
            ],
            "application/javascript": [
              "\n",
              "    async function download(id, filename, size) {\n",
              "      if (!google.colab.kernel.accessAllowed) {\n",
              "        return;\n",
              "      }\n",
              "      const div = document.createElement('div');\n",
              "      const label = document.createElement('label');\n",
              "      label.textContent = `Downloading \"${filename}\": `;\n",
              "      div.appendChild(label);\n",
              "      const progress = document.createElement('progress');\n",
              "      progress.max = size;\n",
              "      div.appendChild(progress);\n",
              "      document.body.appendChild(div);\n",
              "\n",
              "      const buffers = [];\n",
              "      let downloaded = 0;\n",
              "\n",
              "      const channel = await google.colab.kernel.comms.open(id);\n",
              "      // Send a message to notify the kernel that we're ready.\n",
              "      channel.send({})\n",
              "\n",
              "      for await (const message of channel.messages) {\n",
              "        // Send a message to notify the kernel that we're ready.\n",
              "        channel.send({})\n",
              "        if (message.buffers) {\n",
              "          for (const buffer of message.buffers) {\n",
              "            buffers.push(buffer);\n",
              "            downloaded += buffer.byteLength;\n",
              "            progress.value = downloaded;\n",
              "          }\n",
              "        }\n",
              "      }\n",
              "      const blob = new Blob(buffers, {type: 'application/binary'});\n",
              "      const a = document.createElement('a');\n",
              "      a.href = window.URL.createObjectURL(blob);\n",
              "      a.download = filename;\n",
              "      div.appendChild(a);\n",
              "      a.click();\n",
              "      div.remove();\n",
              "    }\n",
              "  "
            ]
          },
          "metadata": {}
        },
        {
          "output_type": "display_data",
          "data": {
            "text/plain": [
              "<IPython.core.display.Javascript object>"
            ],
            "application/javascript": [
              "download(\"download_b3b63ec9-eee5-4013-8d40-af4c209a59cc\", \"CNN1_Train_HASOC2020_Test_GermEval2018_Task_A_Ger_accuracyPlot.pdf\", 12309)"
            ]
          },
          "metadata": {}
        },
        {
          "output_type": "display_data",
          "data": {
            "text/plain": [
              "<Figure size 432x288 with 1 Axes>"
            ],
            "image/png": "[encoded data removed]"
          },
          "metadata": {
            "needs_background": "light"
          }
        }
      ]
    },
    {
      "cell_type": "markdown",
      "source": [
        "# Area under Curve-ROC\n"
      ],
      "metadata": {
        "id": "ce9BJNbLZ65e"
      }
    },
    {
      "cell_type": "code",
      "source": [
        "\n",
        "\n",
        "pred_train = CNN1_network.predict(padded_clean_text_stem)\n",
        "pred_test = CNN1_network.predict(padded_clean_text_t_stem)\n",
        "\n"
      ],
      "metadata": {
        "id": "swegVICbZ5_M"
      },
      "execution_count": null,
      "outputs": []
    },
    {
      "cell_type": "code",
      "source": [
        "\n",
        "\n",
        "import numpy as np\n",
        "import matplotlib.pyplot as plt\n",
        "from itertools import cycle\n",
        "\n",
        "from sklearn import svm, datasets\n",
        "from sklearn.metrics import roc_curve, auc\n",
        "from sklearn.model_selection import train_test_split\n",
        "from sklearn.preprocessing import label_binarize\n",
        "from sklearn.multiclass import OneVsRestClassifier\n",
        "from scipy import interp\n",
        "\n",
        "def plot_AUC_ROC(y_true, y_pred):\n",
        "    n_classes = 2 #change this value according to class value\n",
        "\n",
        "    # Compute ROC curve and ROC area for each class\n",
        "    fpr = dict()\n",
        "    tpr = dict()\n",
        "    roc_auc = dict()\n",
        "    for i in range(n_classes):\n",
        "        fpr[i], tpr[i], _ = roc_curve(y_true[:, i], y_pred[:, i])\n",
        "        roc_auc[i] = auc(fpr[i], tpr[i])\n",
        "\n",
        "    # Compute micro-average ROC curve and ROC area\n",
        "    fpr[\"micro\"], tpr[\"micro\"], _ = roc_curve(y_true.ravel(), y_pred.ravel())\n",
        "    roc_auc[\"micro\"] = auc(fpr[\"micro\"], tpr[\"micro\"])\n",
        "############################################################################################\n",
        "    lw = 2\n",
        "    # Compute macro-average ROC curve and ROC area\n",
        "\n",
        "    # First aggregate all false positive rates\n",
        "    all_fpr = np.unique(np.concatenate([fpr[i] for i in range(n_classes)]))\n",
        "\n",
        "    # Then interpolate all ROC curves at this points\n",
        "    mean_tpr = np.zeros_like(all_fpr)\n",
        "    for i in range(n_classes):\n",
        "        mean_tpr += interp(all_fpr, fpr[i], tpr[i])\n",
        "\n",
        "    # Finally average it and compute AUC\n",
        "    mean_tpr /= n_classes\n",
        "\n",
        "    fpr[\"macro\"] = all_fpr\n",
        "    tpr[\"macro\"] = mean_tpr\n",
        "    roc_auc[\"macro\"] = auc(fpr[\"macro\"], tpr[\"macro\"])\n",
        "\n",
        "    # Plot all ROC curves\n",
        "    plt.figure()\n",
        "    \n",
        "    plt.plot(fpr[\"micro\"], tpr[\"micro\"],\n",
        "            label='micro-average ROC curve (area = {0:0.2f})'\n",
        "               ''.format(roc_auc[\"micro\"]),\n",
        "            color='deeppink', linestyle=':', linewidth=4)\n",
        "\n",
        "    plt.plot(fpr[\"macro\"], tpr[\"macro\"],\n",
        "            label='macro-average ROC curve (area = {0:0.2f})'\n",
        "               ''.format(roc_auc[\"macro\"]),\n",
        "            color='navy', linestyle=':', linewidth=4)\n",
        "    \n",
        "    colors = cycle(['aqua', 'darkorange'])\n",
        "    #classes_list1 = [\"DE\",\"NE\",\"DK\"]\n",
        "    classes_list1 = [\"Non-duplicate\",\"Duplicate\"]\n",
        "    for i, color,c in zip(range(n_classes), colors,classes_list1):\n",
        "        plt.plot(fpr[i], tpr[i], color=color, lw=lw,\n",
        "                label='{0} (AUC = {1:0.2f})'\n",
        "                ''.format(c, roc_auc[i]))\n",
        "\n",
        "    plt.plot([0, 1], [0, 1], 'k--', lw=lw)\n",
        "    plt.xlim([0.0, 1.0])\n",
        "    plt.ylim([0.0, 1.05])\n",
        "    plt.xlabel('False Positive Rate')\n",
        "    plt.ylabel('True Positive Rate')\n",
        "    plt.title('Receiver operating characteristic curve')\n",
        "    plt.legend(loc=\"lower right\")\n",
        "    #plt.show()\n",
        "    plt.savefig('CNN1_Train_HASOC2020_Test_GermEval2018_Task_A_Ger_Area_RocPlot.pdf',dpi=1000)\n",
        "    files.download('CNN1_Train_HASOC2020_Test_GermEval2018_Task_A_Ger_Area_RocPlot.pdf')\n",
        "\n",
        "  \n",
        "\n"
      ],
      "metadata": {
        "id": "0IMSFAXwZ_Va"
      },
      "execution_count": null,
      "outputs": []
    },
    {
      "cell_type": "code",
      "source": [
        "plot_AUC_ROC(label_twoDimension_t,pred_test)"
      ],
      "metadata": {
        "colab": {
          "base_uri": "https://localhost:8080/"
        },
        "id": "f4qx5tmXaB0L",
        "outputId": "5918da1f-3e19-4ace-f625-291d8ee08020"
      },
      "execution_count": null,
      "outputs": [
        {
          "output_type": "stream",
          "name": "stderr",
          "text": [
            "/usr/local/lib/python3.7/dist-packages/ipykernel_launcher.py:36: DeprecationWarning: scipy.interp is deprecated and will be removed in SciPy 2.0.0, use numpy.interp instead\n"
          ]
        },
        {
          "output_type": "display_data",
          "data": {
            "text/plain": [
              "<IPython.core.display.Javascript object>"
            ],
            "application/javascript": [
              "\n",
              "    async function download(id, filename, size) {\n",
              "      if (!google.colab.kernel.accessAllowed) {\n",
              "        return;\n",
              "      }\n",
              "      const div = document.createElement('div');\n",
              "      const label = document.createElement('label');\n",
              "      label.textContent = `Downloading \"${filename}\": `;\n",
              "      div.appendChild(label);\n",
              "      const progress = document.createElement('progress');\n",
              "      progress.max = size;\n",
              "      div.appendChild(progress);\n",
              "      document.body.appendChild(div);\n",
              "\n",
              "      const buffers = [];\n",
              "      let downloaded = 0;\n",
              "\n",
              "      const channel = await google.colab.kernel.comms.open(id);\n",
              "      // Send a message to notify the kernel that we're ready.\n",
              "      channel.send({})\n",
              "\n",
              "      for await (const message of channel.messages) {\n",
              "        // Send a message to notify the kernel that we're ready.\n",
              "        channel.send({})\n",
              "        if (message.buffers) {\n",
              "          for (const buffer of message.buffers) {\n",
              "            buffers.push(buffer);\n",
              "            downloaded += buffer.byteLength;\n",
              "            progress.value = downloaded;\n",
              "          }\n",
              "        }\n",
              "      }\n",
              "      const blob = new Blob(buffers, {type: 'application/binary'});\n",
              "      const a = document.createElement('a');\n",
              "      a.href = window.URL.createObjectURL(blob);\n",
              "      a.download = filename;\n",
              "      div.appendChild(a);\n",
              "      a.click();\n",
              "      div.remove();\n",
              "    }\n",
              "  "
            ]
          },
          "metadata": {}
        },
        {
          "output_type": "display_data",
          "data": {
            "text/plain": [
              "<IPython.core.display.Javascript object>"
            ],
            "application/javascript": [
              "download(\"download_cdff027a-cfbb-4fc9-8992-5e74365fa083\", \"CNN1_Train_HASOC2020_Test_GermEval2018_Task_A_Ger_Area_RocPlot.pdf\", 47137)"
            ]
          },
          "metadata": {}
        },
        {
          "output_type": "display_data",
          "data": {
            "text/plain": [
              "<Figure size 432x288 with 1 Axes>"
            ],
            "image/png": "[encoded data removed]"
          },
          "metadata": {
            "needs_background": "light"
          }
        }
      ]
    }
  ]
}