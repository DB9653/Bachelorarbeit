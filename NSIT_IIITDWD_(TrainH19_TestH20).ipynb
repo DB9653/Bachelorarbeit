{
  "nbformat": 4,
  "nbformat_minor": 0,
  "metadata": {
    "colab": {
      "provenance": [],
      "include_colab_link": true
    },
    "kernelspec": {
      "name": "python3",
      "display_name": "Python 3"
    },
    "language_info": {
      "name": "python"
    },
    "accelerator": "GPU"
  },
  "cells": [
    {
      "cell_type": "markdown",
      "metadata": {
        "id": "view-in-github",
        "colab_type": "text"
      },
      "source": [
        "<a href=\"https://colab.research.google.com/github/DB9653/Bachelorarbeit/blob/main/NSIT_IIITDWD_(TrainH19_TestH20).ipynb\" target=\"_parent\"><img src=\"https://colab.research.google.com/assets/colab-badge.svg\" alt=\"Open In Colab\"/></a>"
      ]
    },
    {
      "cell_type": "markdown",
      "source": [
        "https://github.com/roushan-raj/HASOC-2020/blob/master/Models/German%20Models/German%20Sub-task%20A.ipynb\n"
      ],
      "metadata": {
        "id": "8pdYFRmoIhyM"
      }
    },
    {
      "cell_type": "code",
      "source": [
        "import tensorflow as tf\n",
        "tf.test.gpu_device_name()"
      ],
      "metadata": {
        "colab": {
          "base_uri": "https://localhost:8080/",
          "height": 35
        },
        "id": "hof4s6snVN0W",
        "outputId": "4e44517c-e3dd-4d5e-f716-9672e58d342a"
      },
      "execution_count": null,
      "outputs": [
        {
          "output_type": "execute_result",
          "data": {
            "text/plain": [
              "'/device:GPU:0'"
            ],
            "application/vnd.google.colaboratory.intrinsic+json": {
              "type": "string"
            }
          },
          "metadata": {},
          "execution_count": 1
        }
      ]
    },
    {
      "cell_type": "markdown",
      "source": [
        "\n",
        "# Dataset Reading\n"
      ],
      "metadata": {
        "id": "CU0P3rpqJMHH"
      }
    },
    {
      "cell_type": "code",
      "execution_count": null,
      "metadata": {
        "colab": {
          "base_uri": "https://localhost:8080/",
          "height": 363
        },
        "id": "UtPbRsnBIVpd",
        "outputId": "1b227b77-d11b-4bec-b47e-1a333d74e94b"
      },
      "outputs": [
        {
          "output_type": "execute_result",
          "data": {
            "text/plain": [
              "       text_id  \\\n",
              "0   hasoc_de_1   \n",
              "1   hasoc_de_2   \n",
              "2   hasoc_de_3   \n",
              "3   hasoc_de_4   \n",
              "4   hasoc_de_5   \n",
              "5   hasoc_de_6   \n",
              "6   hasoc_de_7   \n",
              "7   hasoc_de_8   \n",
              "8   hasoc_de_9   \n",
              "9  hasoc_de_10   \n",
              "\n",
              "                                                                                                                                                    text  \\\n",
              "0                                                                         Frank Rennicke – Ich bin stolz https://t.co/Cm6TD8w1k1 https://t.co/qynXso07Zn   \n",
              "1                                                                     ANSEHEN.....und danach bitte TEILEN...TEILEN....TEILEN.... https://t.co/z18lnbOWRQ   \n",
              "2  #Koeln Mohamed erkennt kein deutsches Recht sondern nur die #Scharia an. Das er den Kölner Dom kaputt machen wollte, war nur ein Scherz aber wenn ...   \n",
              "3  #SaudiArabien ist eine brutale islamische Diktatur und richtete kürzlich fünf Männer wegen ihre Homosexualität hin. Welche Konsequenzen hat das fü...   \n",
              "4  Bundespolizei #München hat im 1. Quartal 2019 rund 3.380 illegale Einreisen registriert, die Migranten stammten v. a. aus Nigeria, Afghanistan, Se...   \n",
              "5  #1EuropaFuerAlle oder wie es die #SPD heute noch bildhafteter formuliert hat:    Und willst Du nicht mein Bruder sein, so schlage ich Dir denn Sch...   \n",
              "6  #Hannover: Weil ihm die Freizeitgestaltung und ihr Umgang mit Männern nicht passt, tritt und schlägt Mustafa F. (26) auf seine ehemalige -nach isl...   \n",
              "7  #Deutschland 2019: Ort für die #EU-Wahlparty der #AfD wurde gerade gekündigt. Vermieter und Mieter wurden massiv von #Linksextremisten bedroht. Da...   \n",
              "8  #Innsbruck: Tirolerin und Türke knacken 2018 zahlreiche Automaten bei Auto-Waschanlagen und Tankstellen, anhand dort gefundener DNA kommt heraus, ...   \n",
              "9  #Wien: Vier Nigerianer bestellen teils hochpreisige Produkte unter falschen Namen, holen sie in Paketshops ab und behalten sie, ohne zu bezahlen -...   \n",
              "\n",
              "  task_1 task_2  \n",
              "0    NOT   NONE  \n",
              "1    NOT   NONE  \n",
              "2    NOT   NONE  \n",
              "3    NOT   NONE  \n",
              "4    NOT   NONE  \n",
              "5    NOT   NONE  \n",
              "6    NOT   NONE  \n",
              "7    NOT   NONE  \n",
              "8    NOT   NONE  \n",
              "9    NOT   NONE  "
            ],
            "text/html": [
              "\n",
              "  <div id=\"df-b97dfd0d-53da-493b-aeaa-2d0ddde35796\">\n",
              "    <div class=\"colab-df-container\">\n",
              "      <div>\n",
              "<style scoped>\n",
              "    .dataframe tbody tr th:only-of-type {\n",
              "        vertical-align: middle;\n",
              "    }\n",
              "\n",
              "    .dataframe tbody tr th {\n",
              "        vertical-align: top;\n",
              "    }\n",
              "\n",
              "    .dataframe thead th {\n",
              "        text-align: right;\n",
              "    }\n",
              "</style>\n",
              "<table border=\"1\" class=\"dataframe\">\n",
              "  <thead>\n",
              "    <tr style=\"text-align: right;\">\n",
              "      <th></th>\n",
              "      <th>text_id</th>\n",
              "      <th>text</th>\n",
              "      <th>task_1</th>\n",
              "      <th>task_2</th>\n",
              "    </tr>\n",
              "  </thead>\n",
              "  <tbody>\n",
              "    <tr>\n",
              "      <th>0</th>\n",
              "      <td>hasoc_de_1</td>\n",
              "      <td>Frank Rennicke – Ich bin stolz https://t.co/Cm6TD8w1k1 https://t.co/qynXso07Zn</td>\n",
              "      <td>NOT</td>\n",
              "      <td>NONE</td>\n",
              "    </tr>\n",
              "    <tr>\n",
              "      <th>1</th>\n",
              "      <td>hasoc_de_2</td>\n",
              "      <td>ANSEHEN.....und danach bitte TEILEN...TEILEN....TEILEN.... https://t.co/z18lnbOWRQ</td>\n",
              "      <td>NOT</td>\n",
              "      <td>NONE</td>\n",
              "    </tr>\n",
              "    <tr>\n",
              "      <th>2</th>\n",
              "      <td>hasoc_de_3</td>\n",
              "      <td>#Koeln Mohamed erkennt kein deutsches Recht sondern nur die #Scharia an. Das er den Kölner Dom kaputt machen wollte, war nur ein Scherz aber wenn ...</td>\n",
              "      <td>NOT</td>\n",
              "      <td>NONE</td>\n",
              "    </tr>\n",
              "    <tr>\n",
              "      <th>3</th>\n",
              "      <td>hasoc_de_4</td>\n",
              "      <td>#SaudiArabien ist eine brutale islamische Diktatur und richtete kürzlich fünf Männer wegen ihre Homosexualität hin. Welche Konsequenzen hat das fü...</td>\n",
              "      <td>NOT</td>\n",
              "      <td>NONE</td>\n",
              "    </tr>\n",
              "    <tr>\n",
              "      <th>4</th>\n",
              "      <td>hasoc_de_5</td>\n",
              "      <td>Bundespolizei #München hat im 1. Quartal 2019 rund 3.380 illegale Einreisen registriert, die Migranten stammten v. a. aus Nigeria, Afghanistan, Se...</td>\n",
              "      <td>NOT</td>\n",
              "      <td>NONE</td>\n",
              "    </tr>\n",
              "    <tr>\n",
              "      <th>5</th>\n",
              "      <td>hasoc_de_6</td>\n",
              "      <td>#1EuropaFuerAlle oder wie es die #SPD heute noch bildhafteter formuliert hat:    Und willst Du nicht mein Bruder sein, so schlage ich Dir denn Sch...</td>\n",
              "      <td>NOT</td>\n",
              "      <td>NONE</td>\n",
              "    </tr>\n",
              "    <tr>\n",
              "      <th>6</th>\n",
              "      <td>hasoc_de_7</td>\n",
              "      <td>#Hannover: Weil ihm die Freizeitgestaltung und ihr Umgang mit Männern nicht passt, tritt und schlägt Mustafa F. (26) auf seine ehemalige -nach isl...</td>\n",
              "      <td>NOT</td>\n",
              "      <td>NONE</td>\n",
              "    </tr>\n",
              "    <tr>\n",
              "      <th>7</th>\n",
              "      <td>hasoc_de_8</td>\n",
              "      <td>#Deutschland 2019: Ort für die #EU-Wahlparty der #AfD wurde gerade gekündigt. Vermieter und Mieter wurden massiv von #Linksextremisten bedroht. Da...</td>\n",
              "      <td>NOT</td>\n",
              "      <td>NONE</td>\n",
              "    </tr>\n",
              "    <tr>\n",
              "      <th>8</th>\n",
              "      <td>hasoc_de_9</td>\n",
              "      <td>#Innsbruck: Tirolerin und Türke knacken 2018 zahlreiche Automaten bei Auto-Waschanlagen und Tankstellen, anhand dort gefundener DNA kommt heraus, ...</td>\n",
              "      <td>NOT</td>\n",
              "      <td>NONE</td>\n",
              "    </tr>\n",
              "    <tr>\n",
              "      <th>9</th>\n",
              "      <td>hasoc_de_10</td>\n",
              "      <td>#Wien: Vier Nigerianer bestellen teils hochpreisige Produkte unter falschen Namen, holen sie in Paketshops ab und behalten sie, ohne zu bezahlen -...</td>\n",
              "      <td>NOT</td>\n",
              "      <td>NONE</td>\n",
              "    </tr>\n",
              "  </tbody>\n",
              "</table>\n",
              "</div>\n",
              "      <button class=\"colab-df-convert\" onclick=\"convertToInteractive('df-b97dfd0d-53da-493b-aeaa-2d0ddde35796')\"\n",
              "              title=\"Convert this dataframe to an interactive table.\"\n",
              "              style=\"display:none;\">\n",
              "        \n",
              "  <svg xmlns=\"http://www.w3.org/2000/svg\" height=\"24px\"viewBox=\"0 0 24 24\"\n",
              "       width=\"24px\">\n",
              "    <path d=\"M0 0h24v24H0V0z\" fill=\"none\"/>\n",
              "    <path d=\"M18.56 5.44l.94 2.06.94-2.06 2.06-.94-2.06-.94-.94-2.06-.94 2.06-2.06.94zm-11 1L8.5 8.5l.94-2.06 2.06-.94-2.06-.94L8.5 2.5l-.94 2.06-2.06.94zm10 10l.94 2.06.94-2.06 2.06-.94-2.06-.94-.94-2.06-.94 2.06-2.06.94z\"/><path d=\"M17.41 7.96l-1.37-1.37c-.4-.4-.92-.59-1.43-.59-.52 0-1.04.2-1.43.59L10.3 9.45l-7.72 7.72c-.78.78-.78 2.05 0 2.83L4 21.41c.39.39.9.59 1.41.59.51 0 1.02-.2 1.41-.59l7.78-7.78 2.81-2.81c.8-.78.8-2.07 0-2.86zM5.41 20L4 18.59l7.72-7.72 1.47 1.35L5.41 20z\"/>\n",
              "  </svg>\n",
              "      </button>\n",
              "      \n",
              "  <style>\n",
              "    .colab-df-container {\n",
              "      display:flex;\n",
              "      flex-wrap:wrap;\n",
              "      gap: 12px;\n",
              "    }\n",
              "\n",
              "    .colab-df-convert {\n",
              "      background-color: #E8F0FE;\n",
              "      border: none;\n",
              "      border-radius: 50%;\n",
              "      cursor: pointer;\n",
              "      display: none;\n",
              "      fill: #1967D2;\n",
              "      height: 32px;\n",
              "      padding: 0 0 0 0;\n",
              "      width: 32px;\n",
              "    }\n",
              "\n",
              "    .colab-df-convert:hover {\n",
              "      background-color: #E2EBFA;\n",
              "      box-shadow: 0px 1px 2px rgba(60, 64, 67, 0.3), 0px 1px 3px 1px rgba(60, 64, 67, 0.15);\n",
              "      fill: #174EA6;\n",
              "    }\n",
              "\n",
              "    [theme=dark] .colab-df-convert {\n",
              "      background-color: #3B4455;\n",
              "      fill: #D2E3FC;\n",
              "    }\n",
              "\n",
              "    [theme=dark] .colab-df-convert:hover {\n",
              "      background-color: #434B5C;\n",
              "      box-shadow: 0px 1px 3px 1px rgba(0, 0, 0, 0.15);\n",
              "      filter: drop-shadow(0px 1px 2px rgba(0, 0, 0, 0.3));\n",
              "      fill: #FFFFFF;\n",
              "    }\n",
              "  </style>\n",
              "\n",
              "      <script>\n",
              "        const buttonEl =\n",
              "          document.querySelector('#df-b97dfd0d-53da-493b-aeaa-2d0ddde35796 button.colab-df-convert');\n",
              "        buttonEl.style.display =\n",
              "          google.colab.kernel.accessAllowed ? 'block' : 'none';\n",
              "\n",
              "        async function convertToInteractive(key) {\n",
              "          const element = document.querySelector('#df-b97dfd0d-53da-493b-aeaa-2d0ddde35796');\n",
              "          const dataTable =\n",
              "            await google.colab.kernel.invokeFunction('convertToInteractive',\n",
              "                                                     [key], {});\n",
              "          if (!dataTable) return;\n",
              "\n",
              "          const docLinkHtml = 'Like what you see? Visit the ' +\n",
              "            '<a target=\"_blank\" href=https://colab.research.google.com/notebooks/data_table.ipynb>data table notebook</a>'\n",
              "            + ' to learn more about interactive tables.';\n",
              "          element.innerHTML = '';\n",
              "          dataTable['output_type'] = 'display_data';\n",
              "          await google.colab.output.renderOutput(dataTable, element);\n",
              "          const docLink = document.createElement('div');\n",
              "          docLink.innerHTML = docLinkHtml;\n",
              "          element.appendChild(docLink);\n",
              "        }\n",
              "      </script>\n",
              "    </div>\n",
              "  </div>\n",
              "  "
            ]
          },
          "metadata": {},
          "execution_count": 2
        }
      ],
      "source": [
        "import pandas as pd \n",
        "#data = pd.read_excel('/content/hasoc_2020_de_train_new_a.xlsx', converters={'tweet_id':int})\n",
        "data = pd.read_csv(\"/content/german_dataset2019.tsv\",sep=\"\\t\")\n",
        "pd.set_option('display.max_colwidth',150)\n",
        "data.head(10)"
      ]
    },
    {
      "cell_type": "code",
      "source": [
        "data.shape"
      ],
      "metadata": {
        "colab": {
          "base_uri": "https://localhost:8080/"
        },
        "id": "UaxJGj2BJA-_",
        "outputId": "32ff6719-a628-4310-cd57-a17fb55f892a"
      },
      "execution_count": null,
      "outputs": [
        {
          "output_type": "execute_result",
          "data": {
            "text/plain": [
              "(3819, 4)"
            ]
          },
          "metadata": {},
          "execution_count": 3
        }
      ]
    },
    {
      "cell_type": "code",
      "source": [
        "print(data.dtypes)"
      ],
      "metadata": {
        "colab": {
          "base_uri": "https://localhost:8080/"
        },
        "id": "4F6snrckJDhs",
        "outputId": "68f5862d-7147-48e3-ac8f-0dad730151ab"
      },
      "execution_count": null,
      "outputs": [
        {
          "output_type": "stream",
          "name": "stdout",
          "text": [
            "text_id    object\n",
            "text       object\n",
            "task_1     object\n",
            "task_2     object\n",
            "dtype: object\n"
          ]
        }
      ]
    },
    {
      "cell_type": "markdown",
      "source": [
        "# Making of \"label\" Variable\n"
      ],
      "metadata": {
        "id": "kK4jE-XuJN3r"
      }
    },
    {
      "cell_type": "code",
      "source": [
        "label = data['task_1']\n",
        "label.head()"
      ],
      "metadata": {
        "colab": {
          "base_uri": "https://localhost:8080/"
        },
        "id": "8UB11BsEJF-U",
        "outputId": "96b90e89-832f-419e-cb35-737f4deb08c2"
      },
      "execution_count": null,
      "outputs": [
        {
          "output_type": "execute_result",
          "data": {
            "text/plain": [
              "0    NOT\n",
              "1    NOT\n",
              "2    NOT\n",
              "3    NOT\n",
              "4    NOT\n",
              "Name: task_1, dtype: object"
            ]
          },
          "metadata": {},
          "execution_count": 5
        }
      ]
    },
    {
      "cell_type": "markdown",
      "source": [
        "# Checking Dataset Balancing\n"
      ],
      "metadata": {
        "id": "HM112SzAJW-z"
      }
    },
    {
      "cell_type": "code",
      "source": [
        "print(label.value_counts())\n",
        "import matplotlib.pyplot as plt\n",
        "label.value_counts().plot(kind='bar', color='blue')"
      ],
      "metadata": {
        "colab": {
          "base_uri": "https://localhost:8080/"
        },
        "id": "wxq3PRLwJVIQ",
        "outputId": "009e3b7d-884b-40ed-90b4-d8f46c001e75"
      },
      "execution_count": null,
      "outputs": [
        {
          "output_type": "stream",
          "name": "stdout",
          "text": [
            "NOT    3412\n",
            "HOF     407\n",
            "Name: task_1, dtype: int64\n"
          ]
        },
        {
          "output_type": "execute_result",
          "data": {
            "text/plain": [
              "<matplotlib.axes._subplots.AxesSubplot at 0x7fd630e7c790>"
            ]
          },
          "metadata": {},
          "execution_count": 6
        },
        {
          "output_type": "display_data",
          "data": {
            "text/plain": [
              "<Figure size 432x288 with 1 Axes>"
            ],
            "image/png": "[encoded data removed]"
          },
          "metadata": {
            "needs_background": "light"
          }
        }
      ]
    },
    {
      "cell_type": "markdown",
      "source": [
        "# Converting label into \"0\" or \"1\"\n"
      ],
      "metadata": {
        "id": "IiBz2hcFJdIF"
      }
    },
    {
      "cell_type": "code",
      "source": [
        "import numpy as np\n",
        "classes_list = [\"HOF\",\"NOT\"]\n",
        "label_index = data['task_1'].apply(classes_list.index)\n",
        "final_label = np.asarray(label_index)\n",
        "print(final_label[:10])\n",
        "\n"
      ],
      "metadata": {
        "colab": {
          "base_uri": "https://localhost:8080/"
        },
        "id": "iaAQQh4kJZ1X",
        "outputId": "0c064d42-04f2-40e5-94d1-3dc66af4ff11"
      },
      "execution_count": null,
      "outputs": [
        {
          "output_type": "stream",
          "name": "stdout",
          "text": [
            "[1 1 1 1 1 1 1 1 1 1]\n"
          ]
        }
      ]
    },
    {
      "cell_type": "code",
      "source": [
        "from keras.utils.np_utils import to_categorical\n",
        "label_twoDimension = to_categorical(final_label, num_classes=2)"
      ],
      "metadata": {
        "id": "DHcylJMvJhLu"
      },
      "execution_count": null,
      "outputs": []
    },
    {
      "cell_type": "code",
      "source": [
        "print(label_twoDimension[:10])"
      ],
      "metadata": {
        "colab": {
          "base_uri": "https://localhost:8080/"
        },
        "id": "1NGqjeVBJjbM",
        "outputId": "071f56b6-76b7-4757-afb9-f61633fb568e"
      },
      "execution_count": null,
      "outputs": [
        {
          "output_type": "stream",
          "name": "stdout",
          "text": [
            "[[0. 1.]\n",
            " [0. 1.]\n",
            " [0. 1.]\n",
            " [0. 1.]\n",
            " [0. 1.]\n",
            " [0. 1.]\n",
            " [0. 1.]\n",
            " [0. 1.]\n",
            " [0. 1.]\n",
            " [0. 1.]]\n"
          ]
        }
      ]
    },
    {
      "cell_type": "markdown",
      "source": [
        "# Making of \"text\" Variable\n"
      ],
      "metadata": {
        "id": "nqRHYUSBJl0K"
      }
    },
    {
      "cell_type": "code",
      "source": [
        "text = data['text']\n",
        "text.head(10)\n",
        "\n"
      ],
      "metadata": {
        "colab": {
          "base_uri": "https://localhost:8080/"
        },
        "id": "ZZ_FmnnqJjpU",
        "outputId": "1d0106c9-f078-419d-f469-d1a06ee11a67"
      },
      "execution_count": null,
      "outputs": [
        {
          "output_type": "execute_result",
          "data": {
            "text/plain": [
              "0                                                                           Frank Rennicke – Ich bin stolz https://t.co/Cm6TD8w1k1 https://t.co/qynXso07Zn\n",
              "1                                                                       ANSEHEN.....und danach bitte TEILEN...TEILEN....TEILEN.... https://t.co/z18lnbOWRQ\n",
              "2    #Koeln Mohamed erkennt kein deutsches Recht sondern nur die #Scharia an. Das er den Kölner Dom kaputt machen wollte, war nur ein Scherz aber wenn ...\n",
              "3    #SaudiArabien ist eine brutale islamische Diktatur und richtete kürzlich fünf Männer wegen ihre Homosexualität hin. Welche Konsequenzen hat das fü...\n",
              "4    Bundespolizei #München hat im 1. Quartal 2019 rund 3.380 illegale Einreisen registriert, die Migranten stammten v. a. aus Nigeria, Afghanistan, Se...\n",
              "5    #1EuropaFuerAlle oder wie es die #SPD heute noch bildhafteter formuliert hat:    Und willst Du nicht mein Bruder sein, so schlage ich Dir denn Sch...\n",
              "6    #Hannover: Weil ihm die Freizeitgestaltung und ihr Umgang mit Männern nicht passt, tritt und schlägt Mustafa F. (26) auf seine ehemalige -nach isl...\n",
              "7    #Deutschland 2019: Ort für die #EU-Wahlparty der #AfD wurde gerade gekündigt. Vermieter und Mieter wurden massiv von #Linksextremisten bedroht. Da...\n",
              "8    #Innsbruck: Tirolerin und Türke knacken 2018 zahlreiche Automaten bei Auto-Waschanlagen und Tankstellen, anhand dort gefundener DNA kommt heraus, ...\n",
              "9    #Wien: Vier Nigerianer bestellen teils hochpreisige Produkte unter falschen Namen, holen sie in Paketshops ab und behalten sie, ohne zu bezahlen -...\n",
              "Name: text, dtype: object"
            ]
          },
          "metadata": {},
          "execution_count": 10
        }
      ]
    },
    {
      "cell_type": "markdown",
      "source": [
        "# Dataset Pre-processing\n"
      ],
      "metadata": {
        "id": "5vgUgPviJteq"
      }
    },
    {
      "cell_type": "code",
      "source": [
        "def remove_umlaut(string):\n",
        "    \"\"\"\n",
        "    Removes umlauts from strings and replaces them with the letter+e convention\n",
        "    :param string: string to remove umlauts from\n",
        "    :return: unumlauted string\n",
        "    \"\"\"\n",
        "    u = 'ü'.encode()\n",
        "    U = 'Ü'.encode()\n",
        "    a = 'ä'.encode()\n",
        "    A = 'Ä'.encode()\n",
        "    o = 'ö'.encode()\n",
        "    O = 'Ö'.encode()\n",
        "    ss = 'ß'.encode()\n",
        "\n",
        "    string = string.encode()\n",
        "    string = string.replace(u, b'ue')\n",
        "    string = string.replace(U, b'Ue')\n",
        "    string = string.replace(a, b'ae')\n",
        "    string = string.replace(A, b'Ae')\n",
        "    string = string.replace(o, b'oe')\n",
        "    string = string.replace(O, b'Oe')\n",
        "    string = string.replace(ss, b'ss')\n",
        "\n",
        "    string = string.decode('utf-8')\n",
        "    return string"
      ],
      "metadata": {
        "id": "4FVKPz4eESnd"
      },
      "execution_count": null,
      "outputs": []
    },
    {
      "cell_type": "code",
      "source": [
        "text_wo_umlauts = text.apply(lambda x:remove_umlaut(x))\n",
        "text_wo_umlauts.head(10)"
      ],
      "metadata": {
        "colab": {
          "base_uri": "https://localhost:8080/"
        },
        "id": "gPJ8JKJvEU1i",
        "outputId": "65a8803e-262d-497a-9a4d-02cd3af99ce6"
      },
      "execution_count": null,
      "outputs": [
        {
          "output_type": "execute_result",
          "data": {
            "text/plain": [
              "0                                                                           Frank Rennicke – Ich bin stolz https://t.co/Cm6TD8w1k1 https://t.co/qynXso07Zn\n",
              "1                                                                       ANSEHEN.....und danach bitte TEILEN...TEILEN....TEILEN.... https://t.co/z18lnbOWRQ\n",
              "2    #Koeln Mohamed erkennt kein deutsches Recht sondern nur die #Scharia an. Das er den Koelner Dom kaputt machen wollte, war nur ein Scherz aber wenn...\n",
              "3    #SaudiArabien ist eine brutale islamische Diktatur und richtete kuerzlich fuenf Maenner wegen ihre Homosexualitaet hin. Welche Konsequenzen hat da...\n",
              "4    Bundespolizei #Muenchen hat im 1. Quartal 2019 rund 3.380 illegale Einreisen registriert, die Migranten stammten v. a. aus Nigeria, Afghanistan, S...\n",
              "5    #1EuropaFuerAlle oder wie es die #SPD heute noch bildhafteter formuliert hat:    Und willst Du nicht mein Bruder sein, so schlage ich Dir denn Sch...\n",
              "6    #Hannover: Weil ihm die Freizeitgestaltung und ihr Umgang mit Maennern nicht passt, tritt und schlaegt Mustafa F. (26) auf seine ehemalige -nach i...\n",
              "7    #Deutschland 2019: Ort fuer die #EU-Wahlparty der #AfD wurde gerade gekuendigt. Vermieter und Mieter wurden massiv von #Linksextremisten bedroht. ...\n",
              "8    #Innsbruck: Tirolerin und Tuerke knacken 2018 zahlreiche Automaten bei Auto-Waschanlagen und Tankstellen, anhand dort gefundener DNA kommt heraus,...\n",
              "9    #Wien: Vier Nigerianer bestellen teils hochpreisige Produkte unter falschen Namen, holen sie in Paketshops ab und behalten sie, ohne zu bezahlen -...\n",
              "Name: text, dtype: object"
            ]
          },
          "metadata": {},
          "execution_count": 12
        }
      ]
    },
    {
      "cell_type": "code",
      "source": [
        "\n",
        "\n",
        "import re \n",
        "\n",
        "def text_clean(text):\n",
        "    ''' Pre process and convert texts to a list of words '''\n",
        "    \n",
        "    text=text.lower()\n",
        "\n",
        "    # Clean the text\n",
        "    text = re.sub(r\"[^A-Za-z0-9^,!.\\/'+-=]\", \" \", text)\n",
        "    text = re.sub('https?://\\S+|www\\.\\S+', \"\", text)\n",
        "    text = re.sub(r\"rt\", \" \", text)\n",
        "\n",
        "    return text\n",
        "\n"
      ],
      "metadata": {
        "id": "iP9R4lCkJrSn"
      },
      "execution_count": null,
      "outputs": []
    },
    {
      "cell_type": "code",
      "source": [],
      "metadata": {
        "id": "t6qZJrZLENzv"
      },
      "execution_count": null,
      "outputs": []
    },
    {
      "cell_type": "code",
      "source": [
        "clean_text = text_wo_umlauts.apply(lambda x:text_clean(x))"
      ],
      "metadata": {
        "id": "btvahRPaJwkh"
      },
      "execution_count": null,
      "outputs": []
    },
    {
      "cell_type": "code",
      "source": [
        "clean_text.head(10)"
      ],
      "metadata": {
        "colab": {
          "base_uri": "https://localhost:8080/"
        },
        "id": "rVm6XFqoJyPl",
        "outputId": "cb0b913d-ae38-4681-8bb1-5e52ab329505"
      },
      "execution_count": null,
      "outputs": [
        {
          "output_type": "execute_result",
          "data": {
            "text/plain": [
              "0                                                                                                                         frank rennicke   ich bin stolz  \n",
              "1                                                                                              ansehen.....und danach bitte teilen...teilen....teilen.... \n",
              "2     koeln mohamed erkennt kein deutsches recht sondern nur die  scharia an. das er den koelner dom kaputt machen wollte, war nur ein scherz aber wenn...\n",
              "3     saudiarabien ist eine brutale islamische diktatur und richtete kuerzlich fuenf maenner wegen ihre homosexualitaet hin. welche konsequenzen hat da...\n",
              "4    bundespolizei  muenchen hat im 1. qua al 2019 rund 3.380 illegale einreisen registrie , die migranten stammten v. a. aus nigeria, afghanistan, ser...\n",
              "5     1europafueralle oder wie es die  spd heute noch bildhafteter formulie  hat:    und willst du nicht mein bruder sein, so schlage ich dir denn scha...\n",
              "6     hannover: weil ihm die freizeitgestaltung und ihr umgang mit maennern nicht passt, tritt und schlaegt mustafa f.  26  auf seine ehemalige -nach i...\n",
              "7     deutschland 2019: o  fuer die  eu-wahlpa y der  afd wurde gerade gekuendigt. vermieter und mieter wurden massiv von  linksextremisten bedroht. da...\n",
              "8     innsbruck: tirolerin und tuerke knacken 2018 zahlreiche automaten bei auto-waschanlagen und tankstellen, anhand do  gefundener dna kommt heraus, ...\n",
              "9     wien: vier nigerianer bestellen teils hochpreisige produkte unter falschen namen, holen sie in paketshops ab und behalten sie, ohne zu bezahlen -...\n",
              "Name: text, dtype: object"
            ]
          },
          "metadata": {},
          "execution_count": 15
        }
      ]
    },
    {
      "cell_type": "markdown",
      "source": [
        "# Removing stopwords\n"
      ],
      "metadata": {
        "id": "Cr_9fbmQJ14E"
      }
    },
    {
      "cell_type": "code",
      "source": [
        "import nltk\n",
        "from nltk.corpus import stopwords\n",
        "nltk.download('stopwords')\n",
        "def stop_words_removal(text1):\n",
        "    text1=[w for w in  text1.split(\" \")  if w not in stopwords.words('german')]\n",
        "    return \" \".join(text1)"
      ],
      "metadata": {
        "colab": {
          "base_uri": "https://localhost:8080/"
        },
        "id": "fnKAVUGKJzkf",
        "outputId": "b7ba833d-23b3-4f6e-cc29-949226d01e4d"
      },
      "execution_count": null,
      "outputs": [
        {
          "output_type": "stream",
          "name": "stderr",
          "text": [
            "[nltk_data] Downloading package stopwords to /root/nltk_data...\n",
            "[nltk_data]   Unzipping corpora/stopwords.zip.\n"
          ]
        }
      ]
    },
    {
      "cell_type": "code",
      "source": [
        "clean_text_ns=clean_text.apply(lambda x: stop_words_removal(x))"
      ],
      "metadata": {
        "id": "EAe2hR7jJ5R8"
      },
      "execution_count": null,
      "outputs": []
    },
    {
      "cell_type": "code",
      "source": [
        "print(clean_text_ns.head(10))"
      ],
      "metadata": {
        "colab": {
          "base_uri": "https://localhost:8080/"
        },
        "id": "hMapIVGXJ7Cf",
        "outputId": "280e8656-d928-4482-c03f-70995c021f63"
      },
      "execution_count": null,
      "outputs": [
        {
          "output_type": "stream",
          "name": "stdout",
          "text": [
            "0                                                                                                                                 frank rennicke   stolz  \n",
            "1                                                                                              ansehen.....und danach bitte teilen...teilen....teilen.... \n",
            "2                                     koeln mohamed erkennt deutsches recht  scharia an. koelner dom kaputt wollte, scherz knast rauskommt, mitleid mehr. \n",
            "3     saudiarabien brutale islamische diktatur richtete kuerzlich fuenf maenner wegen homosexualitaet hin. konsequenzen fuer verhaeltnis saudi-arabien ...\n",
            "4    bundespolizei  muenchen 1. qua al 2019 rund 3.380 illegale einreisen registrie , migranten stammten v. a. nigeria, afghanistan, serbien, albanien ...\n",
            "5     1europafueralle  spd heute bildhafteter formulie  hat:    willst bruder sein, schlage schaedel ein.     jusos  nospd  baseballschlaeger   niewied...\n",
            "6     hannover: freizeitgestaltung umgang maennern passt, tritt schlaegt mustafa f.  26  ehemalige -nach islamischem recht- ehefrau alina  23  ein, ras...\n",
            "7     deutschland 2019: o  fuer  eu-wahlpa y  afd wurde gerade gekuendigt. vermieter mieter wurden massiv  linksextremisten bedroht. gebaeude wurde ber...\n",
            "8     innsbruck: tirolerin tuerke knacken 2018 zahlreiche automaten auto-waschanlagen tankstellen, anhand do  gefundener dna kommt heraus, tuerke fuer ...\n",
            "9     wien: vier nigerianer bestellen teils hochpreisige produkte falschen namen, holen paketshops ab behalten sie, bezahlen - afrikaner 250 teils orig...\n",
            "Name: text, dtype: object\n"
          ]
        }
      ]
    },
    {
      "cell_type": "markdown",
      "source": [
        "# Lemmatization"
      ],
      "metadata": {
        "id": "UbNspWraJ-a5"
      }
    },
    {
      "cell_type": "markdown",
      "source": [
        "# Stemming"
      ],
      "metadata": {
        "id": "cGRUIHNgKB8P"
      }
    },
    {
      "cell_type": "code",
      "source": [
        "\n",
        "\n",
        "# Stemming\n",
        "from nltk.stem import SnowballStemmer \n",
        "stemmer = SnowballStemmer(\"german\")\n",
        "\n",
        "def word_stemmer(text):\n",
        "    stem_text = \"\".join([stemmer.stem(i) for i in text])\n",
        "    return stem_text\n",
        "\n"
      ],
      "metadata": {
        "id": "xzacVq1jJ8ru"
      },
      "execution_count": null,
      "outputs": []
    },
    {
      "cell_type": "code",
      "source": [
        "clean_text_stem = clean_text_ns.apply(lambda x : word_stemmer(x))"
      ],
      "metadata": {
        "id": "gLvtC-DlKFJ3"
      },
      "execution_count": null,
      "outputs": []
    },
    {
      "cell_type": "code",
      "source": [
        "print(clean_text_stem.head())"
      ],
      "metadata": {
        "colab": {
          "base_uri": "https://localhost:8080/"
        },
        "id": "hLTYkzd6KGpw",
        "outputId": "648bcef9-cd67-4745-9f8e-9772868d62b7"
      },
      "execution_count": null,
      "outputs": [
        {
          "output_type": "stream",
          "name": "stdout",
          "text": [
            "0                                                                                                                                 frank rennicke   stolz  \n",
            "1                                                                                              ansehen.....und danach bitte teilen...teilen....teilen.... \n",
            "2                                     koeln mohamed erkennt deutsches recht  scharia an. koelner dom kaputt wollte, scherz knast rauskommt, mitleid mehr. \n",
            "3     saudiarabien brutale islamische diktatur richtete kuerzlich fuenf maenner wegen homosexualitaet hin. konsequenzen fuer verhaeltnis saudi-arabien ...\n",
            "4    bundespolizei  muenchen 1. qua al 2019 rund 3.380 illegale einreisen registrie , migranten stammten v. a. nigeria, afghanistan, serbien, albanien ...\n",
            "Name: text, dtype: object\n"
          ]
        }
      ]
    },
    {
      "cell_type": "markdown",
      "source": [
        "# Tokenization using \"keras\"\n"
      ],
      "metadata": {
        "id": "aqZfKW9_KId4"
      }
    },
    {
      "cell_type": "code",
      "source": [
        "import keras\n",
        "import tensorflow\n",
        "from keras.preprocessing.text import Tokenizer\n",
        "tok_all = Tokenizer(filters='!\"#$%&\\'()*+,-./:;<=>?@[\\\\]^_`{|}~', lower=True, char_level = False)\n",
        "tok_all.fit_on_texts(clean_text_stem)"
      ],
      "metadata": {
        "id": "64oQb-b9KL7d"
      },
      "execution_count": null,
      "outputs": []
    },
    {
      "cell_type": "markdown",
      "source": [
        "# Making Vocab for words\n"
      ],
      "metadata": {
        "id": "Azliz45-KOH2"
      }
    },
    {
      "cell_type": "code",
      "source": [
        "vocabulary_all = len(tok_all.word_counts)\n",
        "print(vocabulary_all)"
      ],
      "metadata": {
        "colab": {
          "base_uri": "https://localhost:8080/"
        },
        "id": "kjRctAdKKNqA",
        "outputId": "9ff26c0f-8b2c-4d50-8cdd-91fff7f75637"
      },
      "execution_count": null,
      "outputs": [
        {
          "output_type": "stream",
          "name": "stdout",
          "text": [
            "16849\n"
          ]
        }
      ]
    },
    {
      "cell_type": "code",
      "source": [
        "\n",
        "\n",
        "l = tok_all.word_index\n",
        "print(l)\n",
        "\n"
      ],
      "metadata": {
        "colab": {
          "base_uri": "https://localhost:8080/"
        },
        "id": "ruZahltoKSBk",
        "outputId": "c5fc3c55-bec7-4c44-a88d-dd1af1704d91"
      },
      "execution_count": null,
      "outputs": [
        {
          "output_type": "stream",
          "name": "stdout",
          "text": [
            "{'fuer': 1, 'afd': 2, 'deutschland': 3, 'mal': 4, 'mehr': 5, 'geld': 6, 'e': 7, 'ha': 8, 'ueber': 9, 'schon': 10, 'ja': 11, 'immer': 12, 'spd': 13, 'gruenen': 14, 'wer': 15, 'geht': 16, 'ungebeten1': 17, 'ist': 18, 'en': 19, 'nicht': 20, 'polizei': 21, 'merkel': 22, 'gibt': 23, '1': 24, 'amp': 25, 'pa': 26, 'heute': 27, '2': 28, 'wurde': 29, 'rebecca': 30, 'werden': 31, 'warum': 32, 'cdu': 33, 'u': 34, 'via': 35, 'land': 36, 'eu': 37, 'berlin': 38, 'realjohr': 39, 'menschen': 40, 'ab': 41, 'deutsche': 42, 'frau': 43, 'gruene': 44, 's': 45, 'junge': 46, 'haben': 47, 'hat': 48, 'ei': 49, 'a': 50, 'koennen': 51, 'beim': 52, 'endlich': 53, 'fluechtlinge': 54, 'kommt': 55, 'findbecci': 56, 'ganz': 57, 'gut': 58, 'welt': 59, 'leben': 60, 'jahre': 61, 'europa': 62, 'wird': 63, 'macht': 64, 'finjafinte': 65, 'sein': 66, 'seit': 67, 'jahren': 68, 'waere': 69, 'muessen': 70, 'die': 71, 'viele': 72, 'bitte': 73, 'wegen': 74, '2019': 75, 'an': 76, 'mdl': 77, 'deutschen': 78, 'mann': 79, 'wohl': 80, 'medien': 81, 'einfach': 82, 'd': 83, 'gt': 84, 've': 85, 'uwe': 86, 'danke': 87, 'das': 88, 'dafuer': 89, 'bild': 90, 'kinder': 91, 'sagen': 92, 'erst': 93, '000': 94, 'waehlen': 95, 'leute': 96, 'neue': 97, '3': 98, 'migranten': 99, 'frauen': 100, 'euro': 101, 'wuerde': 102, 'wahl': 103, 'genau': 104, 'do': 105, 'islam': 106, 'regierung': 107, 'aus': 108, 'zwei': 109, '5': 110, 'recht': 111, 'ein': 112, 'taeter': 113, 'wissen': 114, 'auf': 115, 'gar': 116, 'sollen': 117, 'nie': 118, 'sind': 119, 'annewill': 120, 'dabei': 121, 'lassen': 122, 'eien': 123, 'zeit': 124, 'na': 125, 'so': 126, 'linke': 127, 'maedchen': 128, 'europawahl2019': 129, 'gehen': 130, 'video': 131, 'gehoe': 132, 'tag': 133, 'wirklich': 134, 'liebe': 135, 'gerade': 136, 'sagt': 137, 'eigentlich': 138, 'kommen': 139, '4': 140, 'twitter': 141, 'maenner': 142, 'zurueck': 143, 'eigenen': 144, 'bereits': 145, 'jahr': 146, 'bundestag': 147, 'politik': 148, 'es': 149, 'sehen': 150, 'strache': 151, 'davon': 152, 'tun': 153, 'buerger': 154, 'fast': 155, 'berliner': 156, 'o': 157, 'wurden': 158, 'ende': 159, 'statt': 160, 'zukunft': 161, 'darf': 162, 'ich': 163, 'schwager': 164, 'zdf': 165, 'haette': 166, '9': 167, 'linken': 168, 'greta': 169, 'richtig': 170, 'koennte': 171, 'vor': 172, 'steht': 173, 'politiker': 174, 'laesst': 175, 'gemacht': 176, 'auch': 177, 'ganze': 178, 'zahlen': 179, 'sieht': 180, 'sucht': 181, 'geben': 182, 'kann': 183, '10': 184, '11': 185, 'laut': 186, 'nein': 187, 'herr': 188, '20': 189, 'gute': 190, 'denen': 191, 'ep2019': 192, 'waehler': 193, 'zeigt': 194, 'we': 195, 'sogar': 196, 'italien': 197, 'wollen': 198, 'vielleicht': 199, 'sachsen': 200, 'mag': 201, 'klima': 202, 'nix': 203, 'gesehen': 204, '0': 205, 'eben': 206, 'futschi': 207, 'und': 208, 'jaehrige': 209, 'sei': 210, 'lange': 211, 'demokratie': 212, 'forde': 213, 'klar': 214, 'nazi': 215, 'gruen': 216, 'jemand': 217, 'trump': 218, 'oesterreich': 219, 'blondjedi': 220, 'meinung': 221, 'sie': 222, 'opfer': 223, 'will': 224, 'besser': 225, 'tage': 226, '30': 227, 'drei': 228, 'problem': 229, 'dank': 230, 'mutter': 231, 'leider': 232, '6': 233, 'wir': 234, 'schoen': 235, 'jaehrigen': 236, 'moechte': 237, 'waehrend': 238, 'sich': 239, 'kind': 240, 'thema': 241, 'frage': 242, 'nazis': 243, 'weiss': 244, 'duerfen': 245, 'ach': 246, 'meuthen': 247, 'letzten': 248, 'natuerlich': 249, '50': 250, 'kopf': 251, 'sicherheit': 252, 'muslime': 253, 'chemnitz': 254, 'passie': 255, 'rot': 256, 'bessermenschen': 257, 'nehmen': 258, '7': 259, 'syrer': 260, 'reden': 261, 'laeuft': 262, 'messer': 263, 'finden': 264, 'polizisten': 265, 'fall': 266, 'antwo': 267, 'auto': 268, 'lieber': 269, 'vater': 270, 'was': 271, 'etwa': 272, 'sollten': 273, 'findet': 274, 'frei': 275, 'de': 276, 'deren': 277, 'erfolg': 278, 'alle': 279, '8': 280, 'links': 281, 'gleich': 282, 'wi': 283, 'millionen': 284, 'ne': 285, 'bekommen': 286, 'sofo': 287, 'nur': 288, 'machen': 289, 'mitarbeiter': 290, 'presse': 291, 'aber': 292, 'freeflorian': 293, 'mit': 294, 'unserer': 295, 'verbieten': 296, 'uebrigens': 297, 'asylbewerber': 298, 'brauchen': 299, 'fridaysforfuture': 300, 'tv': 301, 'europawahl': 302, 'afrika': 303, 'tweets': 304, 'kaum': 305, 'melden': 306, 'online': 307, 'n': 308, 'bundesregierung': 309, 'gefunden': 310, '15': 311, 'hetze': 312, 'fluechtling': 313, 'vergewaltigt': 314, 'bleibt': 315, 'weniger': 316, 'stadt': 317, 'halten': 318, 'afdwaehlen': 319, 'lesen': 320, 'dumm': 321, 'angriff': 322, 'et': 323, 'sowas': 324, 'niemand': 325, 'egal': 326, 'hallo': 327, 'weg': 328, 'grund': 329, 'stehen': 330, 'fpoe': 331, 'bleiben': 332, 'besonders': 333, 'familie': 334, 'bald': 335, 'gott': 336, 'bestimmt': 337, 'teil': 338, 'contra': 339, 'bzw': 340, 'per': 341, 'bremen': 342, 'finde': 343, 'wahlen': 344, '100': 345, 'juni': 346, 'arbeit': 347, 'ddr': 348, 'zusammen': 349, 'praesident': 350, '16': 351, 'nrw': 352, 'deshalb': 353, 'wann': 354, 'volk': 355, '14': 356, 'oft': 357, 'tweet': 358, 'oh': 359, 'gewalt': 360, 'haetten': 361, 'co2': 362, 'mai': 363, 'm': 364, 'voellig': 365, 'essen': 366, 'tut': 367, 'schweden': 368, 'muenchen': 369, 'passt': 370, 'autos': 371, 'ergebnis': 372, 'rechts': 373, 'goerlitz': 374, 'gesicht': 375, 'gab': 376, 'haus': 377, 'schaft': 378, '19': 379, 'besten': 380, 'ig': 381, 'paar': 382, 'luegen': 383, 'angst': 384, 'ard': 385, 'antifa': 386, 'k': 387, 'scheint': 388, 'haelt': 389, '2018': 390, 'strasse': 391, '2015': 392, 'deutsch': 393, 'erklae': 394, 'worden': 395, 'ueberhaupt': 396, 'fraktion': 397, 'morgen': 398, 'schule': 399, 'freiheit': 400, 'klimawandel': 401, 'verletzt': 402, 'i': 403, 'hoch': 404, 'bekommt': 405, 'grosse': 406, 'nennt': 407, 'heisst': 408, 'angeblich': 409, 'sicher': 410, 'zu': 411, 'rechte': 412, 'lachen': 413, 'bayern': 414, 'trotzdem': 415, 'asyl': 416, 'joerg': 417, 'euwahl': 418, 'kraft': 419, 'braucht': 420, 'wuerden': 421, 'alte': 422, 'koeln': 423, '26': 424, 'gericht': 425, 'propaganda': 426, 'deutscher': 427, 'kurz': 428, 'deutschlands': 429, 'uhr': 430, 'jungen': 431, 'waehlt': 432, 'der': 433, 'los': 434, 'lebensformation': 435, 'ikel': 436, 'hass': 437, 'obwohl': 438, '17': 439, 'wa': 440, 'gestern': 441, 'eigene': 442, 'z': 443, 'moslems': 444, 'chebli': 445, 'youtube': 446, 'hoe': 447, 'usa': 448, 'suchen': 449, 'guten': 450, 'kritik': 451, 'dr': 452, 'fragen': 453, 'raus': 454, 'prozent': 455, 'darum': 456, 'ekelwilfred': 457, 'illegale': 458, 'bus': 459, 'allahu': 460, 'akbar': 461, '24': 462, 'politische': 463, 'staat': 464, 'seid': 465, 'daran': 466, 'politischen': 467, '12': 468, 'dessau': 469, 'altpa': 470, 'trotz': 471, 'da': 472, 'china': 473, '18': 474, 'us': 475, 'migration': 476, 'darauf': 477, 'deutlich': 478, 'meinungsfreiheit': 479, 'kosten': 480, 'setzt': 481, 'spiegel': 482, 'blockieren': 483, 'sozialismus': 484, 'angela': 485, 'gez': 486, 'genug': 487, 'ersten': 488, 'stimmt': 489, 'wie': 490, 'faellt': 491, 'unfassbar': 492, 'gewaehlt': 493, 'migrationspakt': 494, 'mmnews': 495, 'nachdem': 496, 'offenbar': 497, 'schlaegt': 498, 'vier': 499, 'gilt': 500, 'folge': 501, 'brandenburg': 502, 'eher': 503, '13': 504, 'amt': 505, 'denken': 506, 'spielen': 507, 'soll': 508, 'konnte': 509, 'ex': 510, 'clans': 511, 'spaeter': 512, 'fest': 513, 'facebook': 514, 'in': 515, 'falsch': 516, 'weder': 517, 'schuetzen': 518, 'schuld': 519, 'b': 520, 'war': 521, 'grenzen': 522, 'stegner': 523, 'rein': 524, 'laender': 525, 'mio': 526, 'hamburg': 527, 'stellen': 528, 'news': 529, 'dame': 530, 'milliarden': 531, 'tod': 532, 'wuensche': 533, 'neues': 534, 'nimmt': 535, 'kanzler': 536, 'gegenueber': 537, 'neuwahlen': 538, 'laendern': 539, 'parlament': 540, 'halt': 541, 'bescheid': 542, 'ef': 543, 'schwagerwars': 544, 'berlindow': 545, 'stolz': 546, 'rund': 547, 'je': 548, 'vergewaltigung': 549, 'gestellt': 550, 'platz': 551, 'richtung': 552, 'igen': 553, 'familien': 554, 'echt': 555, 'zeiten': 556, 'heimat': 557, 'jaehriger': 558, 'fallen': 559, 'wahrscheinlich': 560, 'antisemitismus': 561, 'naechste': 562, 'daniel': 563, 'erhalten': 564, 'lt': 565, 'frueher': 566, 'innenminister': 567, 'ueberall': 568, 'mittlerweile': 569, 'zerstoe': 570, 'kultur': 571, 'super': 572, 'groesste': 573, 'kleine': 574, 'akk': 575, 'tagen': 576, 'toleranz': 577, 'april': 578, 'eh': 579, 'internet': 580, 'verlassen': 581, 'verloren': 582, 'arbeiten': 583, 'woche': 584, 'tuerken': 585, 'wahrheit': 586, 'kleinen': 587, 'tot': 588, 'luebcke': 589, 'verdient': 590, 'glueck': 591, 'letzte': 592, 'rufen': 593, 'probleme': 594, 'nahles': 595, 'gerne': 596, 'am': 597, 'foto': 598, 'gruppe': 599, 'dwn': 600, 'korrektheiten': 601, 'danach': 602, 'teilen': 603, 'tritt': 604, 'wien': 605, 'mdr': 606, 'is': 607, 'aendern': 608, 'expe': 609, 'nichts': 610, 'lang': 611, 'schulen': 612, 'weit': 613, 'spo': 614, 'fahren': 615, 'hollywood': 616, 'rosslau': 617, 'richtigen': 618, 'heikomaas': 619, 'hunde': 620, 'er': 621, 'funktionie': 622, 'moeglich': 623, 'stunden': 624, 'fueh': 625, 'meisten': 626, 'kriminelle': 627, 'zerstoeren': 628, 'religion': 629, 'waffen': 630, 'weiter': 631, 'langsam': 632, 'schlecht': 633, 'gesper': 634, 'habeck': 635, 'toll': 636, 'bringen': 637, 'loeschung': 638, 'dran': 639, 'wieder': 640, '40': 641, 'irgendwie': 642, 'sorry': 643, 'oeffentlich': 644, 'framing': 645, 'voll': 646, 'person': 647, 'vielen': 648, 'staerkste': 649, 'osten': 650, 'strachevideo': 651, 'frankfu': 652, 'pro': 653, 'liegt': 654, 'verein': 655, 'personen': 656, 'retten': 657, '2017': 658, 'bund': 659, 'her': 660, 'habe': 661, 'wenn': 662, 'anschliessend': 663, 'sed': 664, 'umwelt': 665, 'sexuell': 666, 'nikolai': 667, 'hetzlichendank': 668, 'habt': 669, 'gesagt': 670, 'nennen': 671, 'l': 672, 'paulehasi13': 673, 'od': 674, 'deutsches': 675, 'scharia': 676, 'bahn': 677, 'nach': 678, 'bedroht': 679, 'darueber': 680, 'kaempfen': 681, 'eilen': 682, 'bevor': 683, 'realitaet': 684, 'sonntag': 685, 'veru': 686, 'fordern': 687, 'pegasia111': 688, 'inzwischen': 689, 'polizeiberlin': 690, 'schreiben': 691, 'repo': 692, 'vergessen': 693, 'feiern': 694, 'gebu': 695, 'krieg': 696, 'interview': 697, 'seite': 698, 'schutz': 699, 'sollte': 700, 'fachkraefte': 701, '70': 702, 'dachte': 703, 'zeigen': 704, 'weitere': 705, 'kennen': 706, 'notredame': 707, 'csu': 708, 'schliessen': 709, 'schande': 710, 'jugend': 711, 'verbot': 712, 'mir': 713, 'gg': 714, 'journalismus': 715, 'muesste': 716, 'verstehen': 717, 'selber': 718, 'naechsten': 719, 'themen': 720, 'frankreich': 721, 'auslaender': 722, 'neu': 723, 'michael': 724, 'for': 725, 'fussball': 726, 'fe': 727, 'mitglied': 728, 'schwer': 729, 'noch': 730, 'tagesschau': 731, 'ziehen': 732, 'ging': 733, 'ahnung': 734, 'sehe': 735, 'instagram': 736, 'wirkt': 737, 'no': 738, 'doener': 739, 'jf': 740, 'tichy': 741, 'birdie51411736': 742, 'euelections2019': 743, 'hi': 744, '8694sundance': 745, 'justnobody2018': 746, 'v': 747, 'verantwo': 748, 'falschen': 749, 'namen': 750, 'boden': 751, 'umfrage': 752, 'immerhin': 753, 'terror': 754, 'man': 755, 'stellt': 756, 'gesetzt': 757, 'klasse': 758, 'wenigstens': 759, 'quelle': 760, 'warnt': 761, 'jugendliche': 762, 'schlagen': 763, 'eltern': 764, 'rauen': 765, 'ruhe': 766, 'idee': 767, 'steuern': 768, 'mitglieder': 769, 'luft': 770, 'kriminalitaet': 771, 'gesucht': 772, 'seehofer': 773, 'christen': 774, 'ernst': 775, 'geworden': 776, 'allein': 777, 'unterwegs': 778, 'stando': 779, 'ruft': 780, 'fff': 781, 'pfingsten': 782, 'einsatz': 783, 'clan': 784, 'h': 785, 'mehrere': 786, 'vermutlich': 787, 'kuehne': 788, 'traegt': 789, 'rechtsstaat': 790, 'lasst': 791, 'total': 792, 'och': 793, 'tatsaechlich': 794, 'koennten': 795, 'erste': 796, 'ma': 797, 'staaten': 798, 'denke': 799, 'tja': 800, 'kennt': 801, 'fressen': 802, 'oeffentlichkeit': 803, 'hoffentlich': 804, 'spass': 805, 'fo': 806, 'holt': 807, 'toeten': 808, 'zerstoerung': 809, 'maassen': 810, 'rassismus': 811, 'brexit': 812, 'gesetz': 813, 'grossen': 814, 'muss': 815, 'schaden': 816, 'fdp': 817, 'dagegen': 818, 'putin': 819, 'compact': 820, 'respekt': 821, 'verfassungsschutz': 822, 'glauben': 823, 'beste': 824, 'glaube': 825, 'ichbinkoelnerin': 826, 'lebenden': 827, 'netz': 828, 'folgen': 829, 'job': 830, 'bloed': 831, 'daenemark': 832, '5g': 833, 'unzensurie': 834, 'herumsurfen': 835, 'kam': 836, 'vie': 837, 'el': 838, 'umgang': 839, 'tat': 840, 'y': 841, 'gebracht': 842, 'interessant': 843, 'fluechtlingen': 844, 'kirchen': 845, 'ermittelt': 846, 'groko': 847, 'drauf': 848, 'richtige': 849, 'schaffen': 850, 'blick': 851, 'schueler': 852, 'juden': 853, 'treten': 854, 'buergermeister': 855, 'salvini': 856, 'niger': 857, 'israel': 858, 'berichtet': 859, 'straftaten': 860, 'kontrolle': 861, 'sitzt': 862, 'schoene': 863, 'gender': 864, 'geschichte': 865, 'falls': 866, 'genommen': 867, 'islamischen': 868, 'westen': 869, 'macron': 870, 'ca': 871, '60': 872, 'kopftuch': 873, 'beitrag': 874, 'haft': 875, 'dazu': 876, 'schlimm': 877, 'ganzen': 878, 'vorher': 879, 'hilft': 880, 'kanzlerin': 881, 'taeglich': 882, 'alten': 883, 'einzige': 884, 'oder': 885, 'voegel': 886, 'niemals': 887, 'hetzjagd': 888, 'rede': 889, 'notre': 890, 'schwester': 891, 'falsche': 892, 'rechtspopulisten': 893, 'hier': 894, 'stark': 895, '200': 896, 'genauso': 897, 'gegner': 898, 'landes': 899, 'merkels': 900, 'wahr': 901, 'reihe': 902, 'anti': 903, 't': 904, 'spricht': 905, 'offensichtlich': 906, 'voran': 907, 'wichtig': 908, 'setzen': 909, 'jetzt': 910, 'heuchler': 911, 'natur': 912, 'gesellschaft': 913, 'nacht': 914, 'rente': 915, 'ralf': 916, 'heutigen': 917, 'neuer': 918, 'maltekaufmann': 919, 'erlaubt': 920, 'beispiel': 921, 'normal': 922, 'steinbach': 923, 'noafd': 924, 'glaubt': 925, 'by': 926, 'betroffen': 927, 'alias': 928, 'wilberg': 929, 'burger': 930, 'sperrung': 931, 'frank': 932, 'ansehen': 933, 'fuenf': 934, 'saudi': 935, 'tuerkei': 936, 'maennern': 937, '23': 938, 'massiv': 939, 'wochenende': 940, 'afrikaner': 941, 'gekommen': 942, 'unterschied': 943, 'brutal': 944, 'mehrfach': 945, 'koran': 946, 'minuten': 947, 'ausser': 948, 'leid': 949, 'oeffentlichen': 950, 'allerdings': 951, 'kaufen': 952, 'sorgen': 953, 'selbst': 954, 'verbotspa': 955, 'abgeschoben': 956, 'missbrauch': 957, 'ausserdem': 958, 'weltweit': 959, 'tote': 960, 'geschrieben': 961, 'informationen': 962, 'krank': 963, 'fuehren': 964, 'videos': 965, 'union': 966, 'nzz': 967, 'uni': 968, 'euch': 969, 'klimaschutz': 970, 'wohnung': 971, 'schweiz': 972, 'denkt': 973, 'werfen': 974, 'handelt': 975, 'naja': 976, 'freien': 977, 'mainz': 978, 'drogen': 979, 'sawsanchebli': 980, 'c': 981, 'abschaffen': 982, 'erklaeren': 983, 'etc': 984, 'freuen': 985, 'werbung': 986, 'ramadan': 987, 'bisher': 988, 'kritisie': 989, 'maerchen': 990, 'boese': 991, 'abgeordnete': 992, 'schlimmer': 993, 'bezahlt': 994, '500': 995, 'tato': 996, 'gross': 997, 'zeitung': 998, 'bezeichnet': 999, 'zahl': 1000, 'szene': 1001, '27': 1002, '05': 1003, 'staatsanwaltschaft': 1004, 'typ': 1005, 'belaestigt': 1006, 'juli': 1007, 'schafft': 1008, 'sowie': 1009, 'kindern': 1010, 'traurig': 1011, 'schreibt': 1012, 'glueckwunsch': 1013, 'schiessen': 1014, 'feie': 1015, 'europas': 1016, 'eilt': 1017, 'gleiche': 1018, 'steckt': 1019, 'chef': 1020, 'stbrandner': 1021, 'verhalten': 1022, 'afdwirkt': 1023, 'russland': 1024, 'multikulti': 1025, 'himmel': 1026, 'politikern': 1027, 'wen': 1028, 'rheinland': 1029, 'pfalz': 1030, 'journalisten': 1031, 'regeln': 1032, 'aussage': 1033, 'aktuell': 1034, 'islamisierung': 1035, 'wohnungen': 1036, 'verboten': 1037, 'spaet': 1038, 'jahres': 1039, 'gedanken': 1040, 'idioten': 1041, 'treffen': 1042, 'kannst': 1043, 'oeko': 1044, 'hals': 1045, 'nachrichten': 1046, 'tages': 1047, 'wenig': 1048, 'geloescht': 1049, 'ka': 1050, 'bevoelkerung': 1051, 'tiere': 1052, 'cc': 1053, 'verschwinden': 1054, 'wiltewka': 1055, 'wilke': 1056, 'georggukla': 1057, 'haraldbecker80': 1058, 'willnurschreibn': 1059, '66norweger66': 1060, 'rolandtichy': 1061, 'gudrunbecker11': 1062, 'puffyka81': 1063, 'noctidenktnach': 1064, 'knast': 1065, 'islamische': 1066, 'diktatur': 1067, 'arabien': 1068, 'heraus': 1069, 'bezahlen': 1070, 'attacke': 1071, 'kriminellen': 1072, '80': 1073, 'zdfheute': 1074, 'vergleich': 1075, 'schweigt': 1076, 'schritt': 1077, 'spiegelonline': 1078, 'bildung': 1079, 'cohn': 1080, 'bendit': 1081, 'veranstaltung': 1082, '1000': 1083, 'erreicht': 1084, 'missbraucht': 1085, 'ob': 1086, 'kandidaten': 1087, '25': 1088, 'rolle': 1089, 'fakten': 1090, 'innerhalb': 1091, 'demo': 1092, 'verhaftet': 1093, 'refugeeswelcome': 1094, 'ideologie': 1095, 'mitte': 1096, 'reicht': 1097, 'zug': 1098, 'integration': 1099, 'regensburg': 1100, 'monat': 1101, 'mehreren': 1102, 'zieht': 1103, 'oben': 1104, 'hause': 1105, 'droht': 1106, 'hilfe': 1107, 'naechstes': 1108, 'schwachsinn': 1109, 'vielfalt': 1110, 'augen': 1111, 'kampf': 1112, 'dumme': 1113, 'plan': 1114, 'kramp': 1115, 'lernen': 1116, 'berichterstattung': 1117, 'wuenschen': 1118, 'system': 1119, 'hoechsten': 1120, 'wohnen': 1121, 'sau': 1122, 'papa': 1123, 'projekt': 1124, 'ordnung': 1125, 'hintergrund': 1126, 'schweigen': 1127, 'fehlen': 1128, '28': 1129, 'erwa': 1130, 'gehtwaehlen': 1131, 'aktivisten': 1132, 'unten': 1133, 'park': 1134, 'schoenen': 1135, 'lustig': 1136, 'scholz': 1137, 'aufgrund': 1138, 'lese': 1139, 'abschiebungen': 1140, 'tolle': 1141, 'getoetet': 1142, 'froh': 1143, 'einzelfall': 1144, 'gold': 1145, 'wahnsinn': 1146, 'bieten': 1147, 'relotius': 1148, 'siehe': 1149, 'donald': 1150, 'bekannt': 1151, 'kampagne': 1152, 'boehmermann': 1153, 'grundgesetz': 1154, 'halte': 1155, 'grosser': 1156, '21': 1157, '04': 1158, 'wahlkampf': 1159, 'passanten': 1160, 'stoppen': 1161, 'kommentar': 1162, 'allah': 1163, 'faeh': 1164, 'beschaeftigt': 1165, 'roth': 1166, 'also': 1167, 'wirft': 1168, 'r': 1169, '29': 1170, 'wetter': 1171, 'vergangenen': 1172, 'dann': 1173, 'bilder': 1174, 'aeh': 1175, 'alter': 1176, 'ibizagate': 1177, 'punkt': 1178, 'all': 1179, 'ritt': 1180, 'rechten': 1181, 'erinne': 1182, 'account': 1183, 'fehler': 1184, 'anfang': 1185, 'richter': 1186, 'redaktion': 1187, 'laden': 1188, 'gescheite': 1189, 'neuen': 1190, 'wahren': 1191, 'ueberraschung': 1192, 'koennt': 1193, 'kern': 1194, 'programm': 1195, 'verlieren': 1196, 'araber': 1197, 'unternehmen': 1198, 'dringend': 1199, 'mitten': 1200, 'gemeinsam': 1201, 'sprache': 1202, 'stand': 1203, 'ziel': 1204, 'grad': 1205, 'klimahysterie': 1206, 'scheinbar': 1207, '22': 1208, 'globalen': 1209, 'ihr': 1210, 'beide': 1211, 'greifen': 1212, 'p': 1213, 'veroeffentlicht': 1214, 'zensur': 1215, 'dresden': 1216, 'gespraech': 1217, 'tim': 1218, 'ploetzlich': 1219, 'euwahl19': 1220, 'sebastiankurz': 1221, 'gruener': 1222, 'freund': 1223, 'hatte': 1224, 'manchmal': 1225, 'ostdeutschland': 1226, 'steinhoefel': 1227, 'germany': 1228, 'pack': 1229, 'walter': 1230, 'the': 1231, 'hirn': 1232, 'more': 1233, 'schnell': 1234, 'pleite': 1235, 'berlinsevent': 1236, 'professorin': 1237, '4kolner': 1238, 'dpolgbund': 1239, 'twittersuppo': 1240, 'mitleid': 1241, 'al': 1242, 'f': 1243, 'lich': 1244, 'nigerianer': 1245, '75': 1246, 'krankenhaus': 1247, 'meint': 1248, '2000': 1249, 'mohammed': 1250, 'erzaehlt': 1251, 'fuehlt': 1252, 'syrische': 1253, 'jaehriges': 1254, 'christliche': 1255, 'fehlt': 1256, 'zwingen': 1257, 'kollegen': 1258, 'weiteren': 1259, 'sebastianwippel': 1260, 'aktion': 1261, 'wollten': 1262, 'sta': 1263, 'morgens': 1264, 'um': 1265, 'lvz': 1266, 'verletzte': 1267, 'beamten': 1268, 'hast': 1269, 'situation': 1270, 'darunter': 1271, 'geschickt': 1272, 'angesprochen': 1273, 'sagte': 1274, 'aufs': 1275, 'durch': 1276, 'michel': 1277, 'laecherlich': 1278, 'weiterhin': 1279, 'stueck': 1280, 'hauptsache': 1281, 'amazon': 1282, 'form': 1283, 'waeren': 1284, 'erfolgreich': 1285, 'waren': 1286, 'maas': 1287, 'karrenbauer': 1288, 'klarnamenpflicht': 1289, 'grillen': 1290, 'bringt': 1291, 'fuss': 1292, 'bewegung': 1293, 'diffamie': 1294, 'sebastian': 1295, 'duesseldorf': 1296, 'afrikanische': 1297, 'dorf': 1298, 'aeusse': 1299, 'abschiebung': 1300, 'verbietet': 1301, 'muessten': 1302, 'afghane': 1303, 'linksextreme': 1304, 'sterben': 1305, 'bruessel': 1306, 'widerspricht': 1307, 'aufgefallen': 1308, 'geist': 1309, 'linksgruene': 1310, 'aufnehmen': 1311, 'versucht': 1312, 'werdet': 1313, 'naemlich': 1314, 'eurovision': 1315, 'gelesen': 1316, 'sage': 1317, 'laengst': 1318, 'gruenden': 1319, 'spdde': 1320, 'arabische': 1321, 'skandal': 1322, 'oma': 1323, 'gedacht': 1324, 'abgeordneten': 1325, 'identitaet': 1326, 'hintergruende': 1327, 'anteil': 1328, 'karl': 1329, 'entschuldigung': 1330, 'helfen': 1331, 'stein': 1332, 'bedeutet': 1333, 'gaebe': 1334, 'teuer': 1335, 'bande': 1336, 'mainstream': 1337, 'kirche': 1338, 'sozialdemokraten': 1339, 'bei': 1340, 'mueller': 1341, 'wiederholt': 1342, 'aufschrei': 1343, 'unterstuetzen': 1344, 'stimmen': 1345, 'stag': 1346, 'klare': 1347, 'lieben': 1348, 'claudia': 1349, 'du': 1350, 'terroristen': 1351, 'future': 1352, 'daten': 1353, 'stunde': 1354, 'schau': 1355, 'sz': 1356, 'selten': 1357, 'reagie': 1358, 'ag': 1359, 'spitzenkandidat': 1360, 'stiftung': 1361, 'leistung': 1362, 'gauland': 1363, 'wem': 1364, 'ehrlich': 1365, 'mensch': 1366, 'vs': 1367, 'daher': 1368, 'drin': 1369, 'bevormundung': 1370, 'den': 1371, 'peter': 1372, 'eil': 1373, 'frag': 1374, 'vorn': 1375, 'sehr': 1376, 'stimme': 1377, 'zeichen': 1378, 'wasser': 1379, 'ausland': 1380, 'geschlossen': 1381, 'alt': 1382, 'zuwanderung': 1383, 'haltung': 1384, 'lernt': 1385, 'beleidigt': 1386, 'sacharbeit': 1387, 'entschuldigen': 1388, 'laenger': 1389, 'ok': 1390, 'stirbt': 1391, 'anschauen': 1392, 'weber': 1393, 'thunberg': 1394, 'heissen': 1395, 'herkunft': 1396, 'steuerzahler': 1397, 'energiewende': 1398, 'strom': 1399, 'rentner': 1400, 'geschafft': 1401, 'hessen': 1402, 'reaktion': 1403, 'sohn': 1404, 'spielt': 1405, 'bedrohen': 1406, 'indien': 1407, 'gern': 1408, 'justiz': 1409, 'komplett': 1410, 'rest': 1411, 'gearbeitet': 1412, 'wissenschaftler': 1413, 'sma': 1414, 'beliebt': 1415, 'attackie': 1416, 'bundeswehr': 1417, 'polit': 1418, 'kofferraum': 1419, 'scheisse': 1420, 'lesenswe': 1421, 'wahre': 1422, 'freiwillig': 1423, 'ursula': 1424, 'haverbeck': 1425, 'wsk': 1426, 'weiteres': 1427, '06': 1428, 'ehrendoktor': 1429, 'bloss': 1430, 'kickl': 1431, 'juncker': 1432, 'huch': 1433, 'jahrelang': 1434, 'interessie': 1435, 'polen': 1436, 'mich': 1437, 'hose': 1438, 'laufen': 1439, 'einwohner': 1440, 'schuhe': 1441, 'erika': 1442, 'schliesst': 1443, 'monaten': 1444, 'bin': 1445, 'unterstuetzung': 1446, 'nazisraus': 1447, 'wald': 1448, 'merdeux': 1449, 'khinnek': 1450, 'ofenschlampe': 1451, 'scheiss': 1452, 'doch': 1453, 'schauen': 1454, 'arme': 1455, 'horst': 1456, 'wikimedia': 1457, 'sa': 1458, 'capitol': 1459, 'weil': 1460, 'bahnhofshosting': 1461, 'heim': 1462, 'gebtdenschwagerfrei': 1463, 'koelner': 1464, 'kaputt': 1465, 'afghanistan': 1466, 'einreise': 1467, 'hannover': 1468, 'ehemalige': 1469, 'holen': 1470, 'usw': 1471, 'dera': 1472, 'schweren': 1473, 'zumindest': 1474, 'jesus': 1475, 'rechtfe': 1476, 'festgenommen': 1477, 'syrien': 1478, 'schutzsuchende': 1479, 'wichtiger': 1480, 'hetzen': 1481, 'anstatt': 1482, 'buch': 1483, 'afdimbundestag': 1484, 'regieren': 1485, 'finanzieren': 1486, 'infrastruktur': 1487, 'freitag': 1488, 'km': 1489, 'erreichen': 1490, 'zweifel': 1491, 'zuvor': 1492, 'illegalen': 1493, 'solange': 1494, 'sozialistische': 1495, 'derorient': 1496, 'willen': 1497, 'steinmeier': 1498, 'brief': 1499, 'goerlitzer': 1500, 'satz': 1501, 'tichyseinblick': 1502, 'erde': 1503, 'hand': 1504, 'fragt': 1505, 'migrant': 1506, 'steigen': 1507, 'gaeste': 1508, 'bka': 1509, 'herzchen': 1510, 'prozess': 1511, 'gretel': 1512, 'interessanter': 1513, 'imam': 1514, 'ige': 1515, 'gefaehrder': 1516, 'verbreitet': 1517, 'tatverdaechtigen': 1518, '34': 1519, 'strafanzeige': 1520, 'nachbarn': 1521, '51': 1522, 'hofga': 1523, 'tragen': 1524, 'liegen': 1525, 'abgelehnt': 1526, 'bonn': 1527, 'schreibe': 1528, 'rag': 1529, 'lehrer': 1530, 'komisch': 1531, 'moege': 1532, 'krass': 1533, 'notwendig': 1534, 'schoenes': 1535, 'schwarzer': 1536, 'bereicherung': 1537, 'edeka': 1538, 'zeitgeist': 1539, 'grosses': 1540, 'brand': 1541, 'wahlomat': 1542, 'accounts': 1543, 'samt': 1544, 'soros': 1545, 'schulz': 1546, 'stasi': 1547, 'unterstuetzt': 1548, 'gefragt': 1549, 'toten': 1550, 'klingt': 1551, 'sekte': 1552, 'generation': 1553, 'metoo': 1554, 'mund': 1555, 'grundschule': 1556, '71': 1557, 'pass': 1558, 'verdienen': 1559, 'hoffnung': 1560, 'echte': 1561, 'vorbei': 1562, 'spuren': 1563, 'eurospo': 1564, 'brennt': 1565, 'bvb': 1566, 'einst': 1567, 'vorstellen': 1568, 'wohin': 1569, 'magnitz': 1570, 'reagieren': 1571, 'zuerst': 1572, 'silvester': 1573, 'italiener': 1574, 'sorgt': 1575, 'blau': 1576, 'gruesse': 1577, 'betrieb': 1578, 'sexuelle': 1579, 'gehabt': 1580, 'montag': 1581, 'pressekonferenz': 1582, 'dieter': 1583, 'schock': 1584, 'connor': 1585, 'studenten': 1586, 'neben': 1587, 'angesichts': 1588, 'meinungen': 1589, 'verstehe': 1590, 'beleidigungen': 1591, 'freunde': 1592, 'papst': 1593, 'globale': 1594, 'banken': 1595, 'prof': 1596, 'einwanderung': 1597, 'robe': 1598, 'griechenland': 1599, 'landtagswahl': 1600, 'hassen': 1601, 'diskutieren': 1602, 'geplant': 1603, 'legt': 1604, 'baden': 1605, 'temberg': 1606, 'dt': 1607, '800': 1608, 'islamisten': 1609, 'linksextremismus': 1610, 'sinn': 1611, 'konsequent': 1612, 'trifft': 1613, 'versuchen': 1614, 'fand': 1615, 'gretathunberg': 1616, 'twitternwie18uhr': 1617, 'rlp': 1618, 'volkspa': 1619, 'spdrlp': 1620, 'panik': 1621, 'entwicklung': 1622, 'warnen': 1623, 'gegeben': 1624, 'republik': 1625, 'herrn': 1626, 'staendig': 1627, 'helfer': 1628, 'sarah': 1629, 'uns': 1630, 'eunion': 1631, 'mob': 1632, 'koblenz': 1633, 'linksgruener': 1634, 'boesen': 1635, 'linksradikale': 1636, 'kreis': 1637, 'sylvia': 1638, 'steigt': 1639, 'koalition': 1640, 'gefahr': 1641, 'faznet': 1642, 'schreitet': 1643, 'reine': 1644, '00': 1645, '31': 1646, 'elektromobilitaet': 1647, 'dreck': 1648, 'akzeptieren': 1649, 'groesser': 1650, 'sarrazin': 1651, 'fusion': 1652, 'promis': 1653, 'asylpolitik': 1654, 'soehne': 1655, 'klaut': 1656, 'innen': 1657, 'alles': 1658, 'haftbefehl': 1659, 'direkt': 1660, 'voller': 1661, '43': 1662, 'moment': 1663, 'co': 1664, 'georg': 1665, 'arzt': 1666, 'noetig': 1667, 'technik': 1668, 'foerdern': 1669, 'erstmal': 1670, 'fah': 1671, 'wo': 1672, 'absolut': 1673, 'anwalt': 1674, 'kindes': 1675, 'wichtigste': 1676, 'dummheit': 1677, 'irak': 1678, 'kippa': 1679, 'spoe': 1680, 'jobs': 1681, 'erdogan': 1682, 'diejenigen': 1683, 'schluss': 1684, 'team': 1685, 'erinnerung': 1686, 'schaut': 1687, 'post': 1688, 'sn': 1689, 'fenster': 1690, 'w': 1691, 'fcknzs': 1692, 'empoe': 1693, 'pi': 1694, 'version': 1695, 'gehe': 1696, 'menschenrechte': 1697, 'entfernt': 1698, 'gleichen': 1699, 'wozu': 1700, 'merz': 1701, 'arsch': 1702, 'wind': 1703, 'mist': 1704, 'mord': 1705, 'ung': 1706, 'stasifrau': 1707, 'kahane': 1708, 'produktion': 1709, 'read': 1710, 'iran': 1711, 'suche': 1712, 'kostet': 1713, 'hoffe': 1714, 'npistcool': 1715, 'dieneranton': 1716, 'kaufhof': 1717, 'rolandgarros': 1718, 'europee2019': 1719, 'jaxxon2905': 1720, 'abklatschen': 1721, 'erkennt': 1722, 'wollte': 1723, 'hin': 1724, 'nigeria': 1725, 'zahlreiche': 1726, 'offenburg': 1727, 'somalier': 1728, 'nachts': 1729, 'stoe': 1730, 'hetzer': 1731, 'abend': 1732, 'flugzeug': 1733, 'volksverhetzung': 1734, 'antrag': 1735, 'bericht': 1736, 'kuenftig': 1737, 'herbst': 1738, 'proteus93484191': 1739, 'stattdessen': 1740, 'spinner': 1741, 'willkommen': 1742, 'spenden': 1743, 'infos': 1744, 'sinne': 1745, 'eilung': 1746, 'weise': 1747, 'fruehere': 1748, 'tradition': 1749, 'homosexuelle': 1750, 'bauch': 1751, 'protest': 1752, 'lag': 1753, 'verbunden': 1754, 'offiziell': 1755, 'aussenminister': 1756, 'uebernehmen': 1757, 'offener': 1758, 'bruhl': 1759, 'ellevisionnaire': 1760, 'brigittebrochet': 1761, 'boxingondvd': 1762, 'danielkehlmann': 1763, 'ps': 1764, 'einer': 1765, 'gefoerde': 1766, 'massive': 1767, 'kanzlerkandidatin': 1768, 'meinte': 1769, 'benehmen': 1770, 'friedensnobelpreis': 1771, 'preis': 1772, 'hohe': 1773, 'leiche': 1774, 'zunaechst': 1775, 'attackieren': 1776, 'syrischer': 1777, 'psychisch': 1778, 'liste': 1779, 'taten': 1780, 'soweit': 1781, 'massnahme': 1782, 'dreht': 1783, 'behauptet': 1784, 'waehle': 1785, 'retweeten': 1786, 'leicht': 1787, 'bundesrepublik': 1788, 'geforde': 1789, 'goeringeckardt': 1790, 'bewusst': 1791, 'botschaft': 1792, 'ostern': 1793, 'friedens': 1794, 'zehn': 1795, 'verbrechen': 1796, 'zuckerfest': 1797, 'sex': 1798, 'oesterreicher': 1799, 'max': 1800, 'demonstration': 1801, 'patrioten': 1802, 'abschneiden': 1803, '32': 1804, 'gesteue': 1805, 'schliesslich': 1806, 'arabischen': 1807, 'freie': 1808, 'gezogen': 1809, 'alleine': 1810, 'eugh': 1811, 'bestaetigt': 1812, 'g': 1813, 'bauen': 1814, 'leipzig': 1815, 'westlichen': 1816, 'auftreten': 1817, 'homosexuellen': 1818, 'wagen': 1819, 'behoerden': 1820, 'beiden': 1821, 'anlass': 1822, 'brutalen': 1823, 'frohe': 1824, 'hoeren': 1825, 'youtuber': 1826, 'fans': 1827, 'dahin': 1828, 'gehwaehlen': 1829, 'alternative': 1830, 'uebel': 1831, 'aussieht': 1832, 'denn': 1833, 'mache': 1834, 'peinlich': 1835, 'bezeichnen': 1836, 'chebliwitze': 1837, 'klimanotstand': 1838, 'wordpressdotcom': 1839, 'organisie': 1840, 'zuwanderer': 1841, 'traumatisie': 1842, 'offene': 1843, 'manfredweber': 1844, 'organspende': 1845, 'weshalb': 1846, 'sozialistischen': 1847, 'schafe': 1848, 'widerlich': 1849, 't100007140969': 1850, 'pflicht': 1851, 'koerper': 1852, 'hosen': 1853, 'kalt': 1854, 'fruehling': 1855, 'verlust': 1856, 'zufaellig': 1857, 'verpflichtet': 1858, 'wohnungsnot': 1859, 'energie': 1860, 'erfunden': 1861, 'jugendlichen': 1862, 'ziemlich': 1863, 'sender': 1864, 'andere': 1865, 'info': 1866, 'alimentie': 1867, 'ausserhalb': 1868, 'handeln': 1869, 'fanden': 1870, 'wider': 1871, 'steinbacherika': 1872, 'armut': 1873, 'uebernimmt': 1874, 'debatte': 1875, 'kathedrale': 1876, 'steuer': 1877, 'bereich': 1878, 'bist': 1879, 'christian': 1880, 'freiburg': 1881, 'winter': 1882, 'zudem': 1883, 'ueckendorf': 1884, 'kaempft': 1885, 'aufgedeckt': 1886, 'null': 1887, 'aba': 1888, 'dadurch': 1889, 'januar': 1890, 'wochen': 1891, 'monate': 1892, 'straftaeter': 1893, 'versteht': 1894, 'hamburger': 1895, 'russische': 1896, 'politisch': 1897, 'bereit': 1898, 'mohr': 1899, 'wacht': 1900, 'hoffen': 1901, 'sieg': 1902, 'pokal': 1903, 'drdavidberger': 1904, 'anders': 1905, 'friday': 1906, 'demonstrieren': 1907, 'briten': 1908, 'kurs': 1909, 'darin': 1910, 'krippmarie': 1911, 'demonstrie': 1912, 'daraus': 1913, 'lebende': 1914, 'eile': 1915, 'baum': 1916, 'fehlanzeige': 1917, 'trauer': 1918, 'fuehlen': 1919, 'bamf': 1920, 'fliegen': 1921, 'jan': 1922, 'friedrich': 1923, 'vaterland': 1924, 'europaeischen': 1925, 'unrecht': 1926, 'gehoeren': 1927, 'eigener': 1928, 'muenster': 1929, 'verlierer': 1930, 'demos': 1931, 'ehre': 1932, 'pakt': 1933, 'oesterreichische': 1934, 'meldung': 1935, 'mindestens': 1936, 'entweder': 1937, 'mecklenburg': 1938, 'vorpommern': 1939, 'aktuelle': 1940, '2016': 1941, 'kopftuchverbot': 1942, 'stimmung': 1943, 'gas': 1944, 'wue': 1945, 'schwere': 1946, 'straftat': 1947, 'oekonom': 1948, 'fake': 1949, 'wieso': 1950, 'afdfraktionrlp': 1951, 'gestiegen': 1952, 'luegenpresse': 1953, 'nachdenken': 1954, 'weilesreicht': 1955, 'wahlfaelschung': 1956, 'gutes': 1957, 'genossen': 1958, 'duerfte': 1959, 'ruecktritt': 1960, 'hoechste': 1961, 'koebberling': 1962, 'willkommenskultur': 1963, 'kanzlerschaft': 1964, 'muslimische': 1965, 'erden': 1966, 'interessieren': 1967, 'bfv': 1968, 'schweitzer': 1969, 'linksextremen': 1970, 'tuer': 1971, 'minister': 1972, '90': 1973, 'europaparlament': 1974, 'sache': 1975, 'kevin': 1976, 'rote': 1977, 'fakt': 1978, 'titel': 1979, 'pks': 1980, 'nutzen': 1981, 'begreifen': 1982, 'doppelmoral': 1983, 'ie': 1984, 'offen': 1985, 'geldboerse': 1986, 'hinweise': 1987, 'zustand': 1988, 'ausdruck': 1989, 'stelle': 1990, 'jouwatch': 1991, 'uebrig': 1992, 'abschaum': 1993, 'demonstranten': 1994, 'untergang': 1995, 'irgendwelche': 1996, 'sondern': 1997, 'medizin': 1998, 'erwaermung': 1999, 'entlassen': 2000, 'anne': 2001, 'hoehe': 2002, 'uebergriff': 2003, 'beschimpft': 2004, 'gegangen': 2005, 'migrantengewalt': 2006, 'tief': 2007, 'sticht': 2008, 'oranienburg': 2009, 'notwehr': 2010, 'sparen': 2011, 'jedoch': 2012, 'gefallen': 2013, 'im': 2014, 'teilnehmer': 2015, 'verhindern': 2016, 'fassungslos': 2017, 'angaben': 2018, 'aerzte': 2019, 'unbekannte': 2020, 'schwarze': 2021, 'bundespraesident': 2022, 'sexuellen': 2023, 'druck': 2024, 'anschlag': 2025, 'achtung': 2026, 'dialog': 2027, 'vorhanden': 2028, 'eine': 2029, 'wunde': 2030, 'farbe': 2031, 'scheite': 2032, 'beantragen': 2033, 'hc': 2034, 'ibizavideo': 2035, 'ibiza': 2036, 'ischias': 2037, 'bunten': 2038, 'korruption': 2039, 'kriminell': 2040, 'x': 2041, 'merkt': 2042, 'gleichzeitig': 2043, 'bislang': 2044, 'polizist': 2045, 'weidel': 2046, 'innenstadt': 2047, 'hammer': 2048, 'springen': 2049, 'auswae': 2050, 'deckt': 2051, 'agenda': 2052, 'staedte': 2053, 'einwohnerzahl': 2054, 'verkaufen': 2055, 'christlichen': 2056, 'kloeckner': 2057, 'analyse': 2058, 'grade': 2059, 'landtag': 2060, 'opfern': 2061, 'moralischen': 2062, 'streit': 2063, 'faschisten': 2064, 'autofahren': 2065, 'gefaehrlich': 2066, 'rassistisch': 2067, 'erschreckend': 2068, 'satire': 2069, '42': 2070, 'bundesgockel': 2071, 'kriegt': 2072, 'sonne': 2073, 'derzeit': 2074, 'schwul': 2075, 'vatikan': 2076, 'kenne': 2077, 'name': 2078, 'lage': 2079, 'nochmal': 2080, 'irgendwas': 2081, 'polenz': 2082, 'platinmensch': 2083, 'lauterbach': 2084, 'naehe': 2085, 'hinweis': 2086, 'impo': 2087, 'gesamte': 2088, 'demnaechst': 2089, 'film': 2090, 'rettung': 2091, 'fresse': 2092, 'vorschlag': 2093, 'kim': 2094, 'jong': 2095, 'tollen': 2096, 'muell': 2097, 'bundeskanzler': 2098, 'sitzen': 2099, 'kotzen': 2100, 'ans': 2101, 'autobahnen': 2102, 'schaedlich': 2103, 'sogenannten': 2104, 'luegt': 2105, 'arbeitsplaetze': 2106, 'bricht': 2107, 'schicken': 2108, 'gefahren': 2109, 'ausgabe': 2110, 'aldi': 2111, 'wunder': 2112, 'damals': 2113, 'ausgeschlossen': 2114, 'zinsen': 2115, 'hauptstadt': 2116, 'esc': 2117, 'alltag': 2118, 'croydon': 2119, 'rebeccas': 2120, 'hennigsdorf': 2121, 'profil': 2122, 'insolvenz': 2123, 'mitarbeitern': 2124, 'frenchopen': 2125, 'klimakrise': 2126, 'suppo': 2127, 'brutale': 2128, 'konsequenzen': 2129, 'einreisen': 2130, 'linksextremisten': 2131, 'gebaeude': 2132, 'teils': 2133, 'greift': 2134, 'senioren': 2135, 'zeugen': 2136, 'jahrhunde': 2137, 'demnach': 2138, 'kreuzberg': 2139, 'verdaechtiger': 2140, 'tunesier': 2141, 'rechtliche': 2142, 'lehnt': 2143, 'illner': 2144, 'plus': 2145, 'empoerung': 2146, 'wieviel': 2147, 'wichtige': 2148, 'persoenlich': 2149, 'nummer': 2150, 'freue': 2151, 'sprecher': 2152, 'freude': 2153, 'haelfte': 2154, 'nebenbei': 2155, 'wohlstand': 2156, 'fundie': 2157, 'oeffentliche': 2158, 'aktiv': 2159, '120': 2160, 'erster': 2161, 'ausueben': 2162, 'wippel': 2163, 'geeignet': 2164, 'davor': 2165, 'bundesweit': 2166, 'aufregung': 2167, 'skandie': 2168, 'forderung': 2169, 'beschlossen': 2170, 'verpruegelt': 2171, 'verschweigen': 2172, 'drohen': 2173, 'freispruch': 2174, 'rechtsextrem': 2175, 'schuetzt': 2176, 'schwerer': 2177, 'sicherlich': 2178, 'buecher': 2179, 'ostmann1977': 2180, 'herzen': 2181, 'chance': 2182, 'arasbacho': 2183, 'schaftlichen': 2184, 'r2g': 2185, 'eigenes': 2186, 'schulschwaenzen': 2187, 'deutschem': 2188, 'israelischen': 2189, 'lehrerin': 2190, 'traut': 2191, '1989': 2192, 'zwang': 2193, 'arabisch': 2194, 'hamm': 2195, '65': 2196, 'betreten': 2197, 'reihen': 2198, 'baby': 2199, 'to': 2200, 'festnahme': 2201, 'fastenbrechen': 2202, 'herrscht': 2203, 'witz': 2204, 'universitaet': 2205, 'legen': 2206, 'nenne': 2207, 'missbrauchen': 2208, 'mundaufmachen': 2209, '2014': 2210, 'convalaria1': 2211, 'wirklichkeit123': 2212, 'tschonka': 2213, 'verbote': 2214, '99': 2215, 'betreiben': 2216, 'punkte': 2217, 'focusonline': 2218, 'wirken': 2219, 'bae': 2220, 'waer': 2221, 'dankbar': 2222, 'glaeubige': 2223, 'gefueh': 2224, 'singt': 2225, 'geteilt': 2226, 'baerbeli04': 2227, 'schloss': 2228, 'angezeigt': 2229, 'theorie': 2230, 'geaeusse': 2231, 'aussen': 2232, 'seiten': 2233, 'uebergriffe': 2234, 'oer': 2235, 'wand': 2236, 'journalistin': 2237, 'lediglich': 2238, '47': 2239, 'eritrea': 2240, 'meist': 2241, 'ums': 2242, 'hh': 2243, 'kz': 2244, 'moscheen': 2245, 'afghanen': 2246, 'nase': 2247, 'bestimmten': 2248, 'rechtsextremen': 2249, 'werde': 2250, 'konnten': 2251, 'paris': 2252, 'gruppen': 2253, 'grossa': 2254, 'cent': 2255, 'vergangenheit': 2256, 'unbedingt': 2257, 'btw': 2258, 'aelteren': 2259, 'einzelne': 2260, 'europaeer': 2261, 'keh': 2262, 'esc2019': 2263, 'auswandern': 2264, 'alice': 2265, 'geloest': 2266, 'dealer': 2267, 'bunte': 2268, 'entspricht': 2269, 'sisha': 2270, 'prinzip': 2271, 'verpasst': 2272, 'dauer': 2273, 'klein': 2274, 'heiko': 2275, 'grossstaedte': 2276, 'unfall': 2277, 'erzaehlen': 2278, 'libyen': 2279, 'petition': 2280, 'klientel': 2281, 'entschieden': 2282, 'zugleich': 2283, 'weisse': 2284, 'konze': 2285, 'liest': 2286, 'laschet': 2287, 'menschheit': 2288, 'geboren': 2289, 'kanal': 2290, 'tunesien': 2291, 'planen': 2292, 'raum': 2293, 'aufzunehmen': 2294, 'linksfraktion': 2295, 'integrie': 2296, 'einwanderer': 2297, 'demokraten': 2298, 'regie': 2299, 'pferd': 2300, 'terroranschlaege': 2301, 'aussehen': 2302, 'heutige': 2303, 'haaren': 2304, 'toedlich': 2305, 'verrueckt': 2306, 'faz': 2307, 'million': 2308, 'finanzierung': 2309, 'rechtlichen': 2310, '400': 2311, 'jaehrlich': 2312, 'nachgewiesen': 2313, 'unterhalten': 2314, 'lass': 2315, 'krise': 2316, 'aufwachen': 2317, 'anfrage': 2318, 'normale': 2319, 'hey': 2320, 'hauptbahnhof': 2321, 'draussen': 2322, 'blut': 2323, 'bewahren': 2324, 'oberbuergermeister': 2325, 'gejagt': 2326, 'sueddeutsche': 2327, 'beweis': 2328, 'kandidat': 2329, 'angeklagt': 2330, 'diesel': 2331, 'verhinde': 2332, 'mehrheit': 2333, 'waehlern': 2334, 'generie': 2335, 'feuer': 2336, 'bischof': 2337, 'erinnern': 2338, 'isak': 2339, 'verlaesst': 2340, 'rettet': 2341, 'niedergang': 2342, 'niveau': 2343, 'private': 2344, 'konservative': 2345, 'sitze': 2346, 'ausgesprochen': 2347, 'ber': 2348, 'he': 2349, 'stadion': 2350, 'musste': 2351, 'kamen': 2352, 'hatten': 2353, 'bahnhof': 2354, 'leib': 2355, 'unglaublich': 2356, 'bereiche': 2357, 'la': 2358, 'sprechen': 2359, 'wolfssanguis': 2360, 'abgesehen': 2361, 'hinten': 2362, 'entscheidung': 2363, 'bedrohung': 2364, 'strafe': 2365, 'staatsbuerger': 2366, 'freut': 2367, 'kranker': 2368, 'bruellen': 2369, 'isch': 2370, 'strategie': 2371, 'zweiten': 2372, 'verschleude': 2373, 'runter': 2374, 'zahlt': 2375, 'andreas': 2376, 'geplante': 2377, 'komme': 2378, 'oeffnen': 2379, 'ueberlegt': 2380, 'nuernberg': 2381, 'kovac': 2382, 'demokratischen': 2383, 'dicke': 2384, 'behinde': 2385, 'ueberschrift': 2386, 'schmidt': 2387, 'wenige': 2388, 'florian': 2389, 'recherche': 2390, 'richtlinie': 2391, 'fachkraeftemangel': 2392, 'aeusserung': 2393, 'aufgenommen': 2394, 'benoetigt': 2395, 'netzdg': 2396, 'europaeische': 2397, 'derspiegel': 2398, 'twittern': 2399, 'stellenabbau': 2400, 'zitie': 2401, 'ausgrenzung': 2402, 'harderkuehnel': 2403, 'undemokratisch': 2404, 'vernunft': 2405, 'industrie': 2406, 'googeln': 2407, 'lebt': 2408, 'benutzt': 2409, 'echten': 2410, 'dass': 2411, 'arm': 2412, 'drahtzieher': 2413, 'hassrede': 2414, 'beteiligen': 2415, 'rennen': 2416, 'stecken': 2417, 'bmfsfj': 2418, 'neutralitaet': 2419, 'po': 2420, 'ehrliche': 2421, 'thueringen': 2422, 'moegen': 2423, 'bundestagsabgeordnete': 2424, 'extrem': 2425, 'schuelern': 2426, 'flughafen': 2427, 'fuerchten': 2428, 'dritte': 2429, 'fluechtlingsunterkunft': 2430, 'logisch': 2431, 'rechnen': 2432, 'extremismus': 2433, 'naiv': 2434, 'abschieben': 2435, 'klagen': 2436, 'studieren': 2437, 'gemeinsamen': 2438, 'franz': 2439, 'merken': 2440, 'dankespd': 2441, 'fraktionnds': 2442, 'euwahl2019': 2443, 'vorsitzende': 2444, 'landtagswahlen': 2445, '2021': 2446, 'faengt': 2447, 'irrsinn': 2448, 'mayen': 2449, 'kanzleramt': 2450, 'beendet': 2451, 'hoechst': 2452, 'rezo': 2453, 'konservativen': 2454, 'getan': 2455, 'verbrecher': 2456, 'gegenteil': 2457, 'ministerium': 2458, 'entscheidet': 2459, 'salafisten': 2460, 'hisbollah': 2461, 'miteinander': 2462, 'elektro': 2463, 'landesregierung': 2464, 'verachten': 2465, 'klimapolitik': 2466, 'pharisaeer': 2467, 'widerstand': 2468, 'leisten': 2469, 'age': 2470, 'einfluss': 2471, 'dienstag': 2472, 'beatrix': 2473, 'marktwi': 2474, '600': 2475, '116': 2476, 'reisen': 2477, 'erstmals': 2478, 'vorbereitung': 2479, 'erkennen': 2480, 'feind': 2481, 'morddrohungen': 2482, 'muslimischen': 2483, 'sozialsysteme': 2484, 'gtzfrmming': 2485, 'bmi': 2486, 'ruecken': 2487, 'genosse': 2488, 'arbeiter': 2489, 'lafontaine': 2490, 'elektroauto': 2491, 'verraten': 2492, 'verzichten': 2493, 'witzig': 2494, 'einzigen': 2495, 'brav': 2496, 'michaelstuerzi': 2497, 'ga': 2498, 'mannes': 2499, 'externen': 2500, 'terrororganisation': 2501, 'guter': 2502, 'schreie': 2503, 'reten': 2504, 'freunden': 2505, 'handy': 2506, 'sechs': 2507, 'pruegeln': 2508, 'eid': 2509, 'kassel': 2510, 'allahuakbar': 2511, 'irrenhaus': 2512, 'genannt': 2513, 'rechtsradikalen': 2514, 'hut': 2515, 'bt': 2516, 'tonnen': 2517, 'soisset': 2518, 'damit': 2519, 'anstieg': 2520, 'gewaltsam': 2521, 'moeglicherweise': 2522, 'staatsanwalt': 2523, 'dollar': 2524, 'acht': 2525, 'hans': 2526, 'haengt': 2527, 'facharbeiter': 2528, 'mitteln': 2529, 'juedischen': 2530, 'ruw': 2531, 'organisation': 2532, 'cran': 2533, 'ufo': 2534, 'begonnen': 2535, 'itel': 2536, 'eins': 2537, 'illegal': 2538, 'stets': 2539, 'ueberlegen': 2540, 'fluechten': 2541, 'vergewaltiger': 2542, 'waehrenddessen': 2543, 'srilanka': 2544, 'ern': 2545, 'huepfen': 2546, 'wollt': 2547, 'rezovideo': 2548, 'engagie': 2549, 'werk': 2550, 'ungarn': 2551, 'matteo': 2552, 'runde': 2553, 'legal': 2554, 'vo': 2555, 'genies': 2556, 'innenministerium': 2557, 'versprochen': 2558, 'falle': 2559, 'moechten': 2560, 'grundlage': 2561, 'schuss': 2562, 'knapp': 2563, 'tochter': 2564, 'scharf': 2565, 'vergewaltigen': 2566, 'rom': 2567, 'vorschlaege': 2568, 'spiel': 2569, 'uebersicht': 2570, 'begann': 2571, 'thread': 2572, 'unterschreiben': 2573, 'appell': 2574, 'miete': 2575, 'aktien': 2576, 'umgehen': 2577, '1905': 2578, 'braunen': 2579, 'verkauft': 2580, 'typen': 2581, 'volkslehrer': 2582, 'song': 2583, 'nestl': 2584, 'schwulen': 2585, 'tode': 2586, 'fckafd': 2587, 'liefern': 2588, 'dritten': 2589, 'loeschen': 2590, '77': 2591, 'eidigung': 2592, 'beschliesst': 2593, 'moeglichst': 2594, 'volkes': 2595, 'minderheit': 2596, 'klarer': 2597, 'gestalten': 2598, 'nerven': 2599, 'flugtaxis': 2600, 'gezeigt': 2601, 'shi': 2602, 'gehts': 2603, 'sieben': 2604, 'baerbock': 2605, 'schweine': 2606, 'erfahrungen': 2607, 'einziges': 2608, 'sozis': 2609, 'verschiebt': 2610, 'ifo': 2611, 'krampkarrenbauer': 2612, 'expo': 2613, 'ieren': 2614, 'thilo': 2615, 'verweigern': 2616, 'erstes': 2617, 'bedeutung': 2618, 'worldwideto': 2619, 'prominente': 2620, 'pr': 2621, 'daue': 2622, 'ecke': 2623, 'beides': 2624, 'ficken': 2625, 'hurensohn': 2626, 'wisst': 2627, 'bksoll': 2628, 'schiffe': 2629, 'italienische': 2630, 'ficki': 2631, 'thunfisch': 2632, 'vorne': 2633, 'geil': 2634, 'wachsen': 2635, 'aende': 2636, 'wm': 2637, 'insgesamt': 2638, 'service': 2639, 'schland': 2640, 'armen': 2641, 'fuehrer': 2642, 'marsch': 2643, 'nasa': 2644, 'slogan': 2645, 'seltsam': 2646, 'fernsehen': 2647, 'seien': 2648, 'praemien': 2649, 'euzis': 2650, 'schneller': 2651, 'regelmaessig': 2652, 'reffen': 2653, 'schreien': 2654, 'schlaf': 2655, 'bewe': 2656, 'halal': 2657, 'beginnt': 2658, 'starke': 2659, 'informieren': 2660, 'blockie': 2661, 'mahler': 2662, 'albe': 2663, 'herrenrasse': 2664, 'sozial': 2665, 'gleichgestellte': 2666, 'chris': 2667, 'un': 2668, 'anscheinend': 2669, 'unsinn': 2670, 'kritische': 2671, 'spur': 2672, 'auftrag': 2673, 'verursacht': 2674, 'wiener': 2675, 'oppermann': 2676, 'perle': 2677, 'institut': 2678, 'angenommen': 2679, 'paz': 2680, 'nationalrat': 2681, 'soldaten': 2682, 'humor': 2683, 'beeinflusst': 2684, 'mittels': 2685, 'international': 2686, 'loesen': 2687, 'anderes': 2688, 'saison': 2689, 'wetten': 2690, 'kontrollie': 2691, 'briefwahl': 2692, '59': 2693, 'eintracht': 2694, 'chesge': 2695, 'russen': 2696, 'bargeld': 2697, 'verfassung': 2698, 'sch': 2699, 'ale': 2700, 'rum': 2701, 'twingo': 2702, 'schoppeczesch': 2703, 'snapchat': 2704, 'vorherzusehen': 2705, 'gegend': 2706, 'italia': 2707, 'gewesen': 2708, 'becci': 2709, 'wseverina': 2710, 'explosion': 2711, 'gammelfleisch': 2712, 'rg19': 2713, 'erderhitzung': 2714, 'arab': 2715, 'kuerzlich': 2716, 'homosexualitaet': 2717, 'qua': 2718, 'albanien': 2719, 'drittel': 2720, 'pkw': 2721, 'bruder': 2722, 'schaedel': 2723, 'ehefrau': 2724, 'gekuendigt': 2725, 'tuerke': 2726, 'dna': 2727, '2012': 2728, 'produkte': 2729, 'behalten': 2730, '250': 2731, 'handys': 2732, 'liegenden': 2733, 'timmermans': 2734, 'moderator': 2735, 'igt': 2736, 'bestraft': 2737, 'sondersendungen': 2738, 'staatsbuergerschaft': 2739, 'symbole': 2740, 'geschaendet': 2741, 'hinsicht': 2742, 'toilette': 2743, 'sprengen': 2744, 'bilden': 2745, 'autofahrer': 2746, 'fahrzeuge': 2747, 'innovation': 2748, 'knallha': 2749, 'fahrrad': 2750, 'sammeln': 2751, 'daumen': 2752, 'besteht': 2753, 'jemanden': 2754, 'bgh': 2755, 'eidiger': 2756, 'lehrern': 2757, 'konsens': 2758, 'beeinflussung': 2759, 'aufgerufen': 2760, 'koepfe': 2761, 'diskreditie': 2762, '27j': 2763, 'dramatisierung': 2764, 'unerwuenscht': 2765, 'kuemmern': 2766, 'stars': 2767, 'bitten': 2768, 'einzelfallinfos': 2769, 'tausende': 2770, 'presseausweis': 2771, 'koenne': 2772, 'journalist': 2773, 'unschuldig': 2774, 'entwicklungshilfe': 2775, 'seniorin': 2776, 'angegriffen': 2777, 'schiesserei': 2778, 'sog': 2779, 'geschlagen': 2780, 'stagsfeier': 2781, 'befuerchtet': 2782, 'sek': 2783, 'grab': 2784, 'obama': 2785, 'krankes': 2786, 'haeuser': 2787, 'rechnet': 2788, 'pforzheim': 2789, 'beschwe': 2790, 'spuckt': 2791, 'lies': 2792, 'bombe': 2793, 'sprach': 2794, 'unrechts': 2795, 'persoenlichkeit': 2796, 'rassisten': 2797, 'morde': 2798, 'kein': 2799, 'ersetzen': 2800, 'korrektheit': 2801, 'handwerk': 2802, 'lawyerberlin': 2803, 'fanatismus': 2804, 'gedient': 2805, 'rpo': 2806, 'tkkg': 2807, 'welch': 2808, 'aufgewachsen': 2809, 'verbindung': 2810, 'saschaulbrich': 2811, 'zugelassen': 2812, 'mittelalter': 2813, 'auswirkungen': 2814, 'herrlich': 2815, 'mein': 2816, 'joanacotar': 2817, 'notabaris': 2818, 'masseneinwanderung': 2819, 'katrin': 2820, 'goering': 2821, 'aussagen': 2822, 'religioesen': 2823, 'basel': 2824, 'unglaeubige': 2825, 'nachfolgerin': 2826, 'gebote': 2827, 'com': 2828, 'ferkel': 2829, 'hohlbirnen': 2830, 'hervor': 2831, 'gruenes': 2832, 'bernd471': 2833, '1461': 2834, 'genutzt': 2835, '37': 2836, 'iraker': 2837, 'sass': 2838, 'trio': 2839, 'legte': 2840, 'nordafrikanern': 2841, 'franzoesischen': 2842, 'terrorisieren': 2843, 'gangs': 2844, 'gutmenschen': 2845, 'treiben': 2846, 'frontal21': 2847, 'eibuch': 2848, 'tauchen': 2849, 'ausreisepflichtige': 2850, 'unterkunft': 2851, 'bautzen': 2852, 'mehrmals': 2853, 'muslim': 2854, 'lande': 2855, 'bester': 2856, 'antisemitische': 2857, 'grossteil': 2858, 'begangen': 2859, 'plant': 2860, 'verhaeltnisse': 2861, 'tankstelle': 2862, 'verbreitung': 2863, 'eisern': 2864, 'systematisch': 2865, 'mobbing': 2866, 'moerder': 2867, 'geniesst': 2868, 'london': 2869, 'heilige': 2870, 'migrationshintergrund': 2871, 'bestes': 2872, 'ete': 2873, 'bessere': 2874, 'neulich': 2875, 'refugees': 2876, 'wundern': 2877, 'elite': 2878, 'empoeren': 2879, 'rip': 2880, 'komischerweise': 2881, 'rosa': 2882, 'ebenso': 2883, 'bestimmen': 2884, 'gebt': 2885, 'bars': 2886, 'belohnung': 2887, 'ermittler': 2888, 'franzoesische': 2889, 'bmw': 2890, 'enteignen': 2891, 'arbeitet': 2892, 'gelandet': 2893, 'wolle': 2894, 'aberfair': 2895, 'verlogen': 2896, 'ikel13': 2897, 'impfpflicht': 2898, 'staunen': 2899, 'gelder': 2900, 'ausdenken': 2901, 'verstaendlich': 2902, 'ignorieren': 2903, 'kinderehe': 2904, 'wette': 2905, 'musst': 2906, 'ewig': 2907, 'ministerpraesident': 2908, 'traum': 2909, 'spdbt': 2910, 'tl': 2911, 'spruch': 2912, 'automatisch': 2913, 'wahres': 2914, 'hab': 2915, 'zig': 2916, 'tabletten': 2917, 'europaistdieantwo': 2918, 'england': 2919, 'gretas': 2920, 'oefter': 2921, 'abtreibung': 2922, 'bereut': 2923, 'solltet': 2924, 'schuelerin': 2925, 'reinickendorf': 2926, 'nichtdeutscher': 2927, 'grenze': 2928, 'aka': 2929, 'quasi': 2930, 'kaeme': 2931, 'hund': 2932, 'brauche': 2933, 'gelsenkirchen': 2934, 'randalie': 2935, 'fuettern': 2936, 'hohn': 2937, 'empfiehlt': 2938, 'empfehle': 2939, 'betreuung': 2940, 'diskriminierung': 2941, 'staates': 2942, 'volle': 2943, 'koffer': 2944, 'brd': 2945, 'sah': 2946, 'zunge': 2947, 'zumal': 2948, 'lauter': 2949, 'katholischen': 2950, 'vorfaelle': 2951, 'aufmerksamkeit': 2952, 'moeglichen': 2953, 'erschuette': 2954, 'kardinal': 2955, 'marx': 2956, 'propheten': 2957, 'verfuehren': 2958, 'einzug': 2959, 'steue': 2960, 'otto': 2961, 'aufgabe': 2962, 'berater': 2963, 'nationale': 2964, '38': 2965, 'enteignung': 2966, 'vollenden': 2967, 'rueckt': 2968, 'iger': 2969, 'schutzsuchender': 2970, 'griffen': 2971, 'heiss': 2972, 'februar': 2973, 'sommer': 2974, 'tempolimit': 2975, 'brechen': 2976, 'polly20696833': 2977, 'ib': 2978, 'emskirchen': 2979, 'kleinere': 2980, 'sanktionen': 2981, 'verweige': 2982, 'erlitt': 2983, 'bewaehrung': 2984, 'herzlichen': 2985, 'unklar': 2986, 'rast': 2987, 'frohes': 2988, 'aufschrift': 2989, 'one': 2990, 'persoenliche': 2991, 'besuch': 2992, 'verschleie': 2993, 'korrekt': 2994, 'lieb': 2995, 'koch': 2996, 'talent': 2997, 'seenotrettung': 2998, 'allesamt': 2999, 'popp': 3000, 'stendal': 3001, 'beweist': 3002, 'aktionen': 3003, 'drastisch': 3004, 'jubel': 3005, 'muslimen': 3006, 'screenshots': 3007, 'freitags': 3008, 'trainer': 3009, 'fluechtlingspolitik': 3010, 'ler': 3011, 'berichten': 3012, 'fremdenfeindlichkeit': 3013, 'gerufen': 3014, 'passen': 3015, 'weinen': 3016, 'gelaufen': 3017, 'ausgegeben': 3018, 'amtsgericht': 3019, 'augsburg': 3020, 'vorgefueh': 3021, 'ikels': 3022, 'paukenschlag': 3023, 'nachfolger': 3024, 'geschlecht': 3025, 'hecking': 3026, 'borussia': 3027, 'aktuellen': 3028, 'anwendung': 3029, 'ns': 3030, 'vaeter': 3031, 'leiden': 3032, 'kritischen': 3033, 'twittersper': 3034, 'studie': 3035, 'verletzen': 3036, 'begehen': 3037, 'sorge': 3038, 'wegfallen': 3039, 'widerspruch': 3040, 'ggue': 3041, 'diskussion': 3042, 'weltbild': 3043, 'hcstrachefp': 3044, 'oppositionspa': 3045, 'pol': 3046, 'tatsache': 3047, 'nsdap': 3048, 'urspruenglich': 3049, 'nachlesen': 3050, 'zulassen': 3051, 'antonio': 3052, 'diavata': 3053, 'brandanschlag': 3054, 'life': 3055, 'luege': 3056, 'staatsgewalt': 3057, 'aufrecht': 3058, 'hannelore': 3059, 'wahlbeobachter': 3060, 'gebuehren': 3061, 'follower': 3062, 'facepalm': 3063, 'n24': 3064, 'argumente': 3065, 'esse': 3066, 'istanbul': 3067, 'terrorist': 3068, 'raeumt': 3069, 'ausschuss': 3070, 'koelnhbf': 3071, 'at': 3072, 'gesamten': 3073, 'maghreb': 3074, 'gruessen': 3075, 'vorerst': 3076, 'suess': 3077, 'klagt': 3078, 'raub': 3079, '2050': 3080, 'geoeffnet': 3081, 'traue': 3082, 'von': 3083, '46': 3084, 'fach': 3085, 'wehrpflicht': 3086, 'zentralrat': 3087, 'geduldet': 3088, 'zustaende': 3089, 'lepenseur': 3090, 'schlagzeilen': 3091, 'starken': 3092, 'moralische': 3093, 'ltrlp': 3094, 'aufklaerung': 3095, 'pfingstsonntag': 3096, 'praesentie': 3097, 'anerkennung': 3098, 'auslaendische': 3099, 'niedersachsen': 3100, 'investie': 3101, 'strauss': 3102, 'and': 3103, 'praesidenten': 3104, 'harvard': 3105, 'vorwurf': 3106, 'pflegen': 3107, 'insekten': 3108, 'diesmal': 3109, 'ideologische': 3110, 'diversitaet': 3111, 'armee': 3112, 'wahlbeteiligung': 3113, 'dreyer': 3114, 'ast': 3115, 'andrea': 3116, 'fuers': 3117, 'denkzettel': 3118, 'abschlussbericht': 3119, 'endspu': 3120, 'gesellschaftlichen': 3121, 'regierungspa': 3122, 'himmelfah': 3123, 'stern': 3124, 'sowohl': 3125, 'gesetze': 3126, 'bleiberecht': 3127, 'juenger': 3128, 'einsatzkraefte': 3129, 'haut': 3130, 'venomstrike3': 3131, 'ituade': 3132, 'aermsten': 3133, 'pakistan': 3134, 'schwesig': 3135, 'freibad': 3136, 'anwohner': 3137, 'ueberblick': 3138, 'einziehen': 3139, 'entschlossen': 3140, 'nachgedacht': 3141, 'geklae': 3142, 'hetzjagden': 3143, 'hgmaassen': 3144, 'markus': 3145, 'applaus': 3146, 'gewinnen': 3147, 'danken': 3148, 'versprechen': 3149, 'ueberpruefung': 3150, 'heuchelei': 3151, 'alexander': 3152, 'vorsitzender': 3153, 'wussten': 3154, 'politischer': 3155, 'ekelhaft': 3156, 'erwaehnung': 3157, 'stoeren': 3158, 'security': 3159, 'drohungen': 3160, 'marschieren': 3161, 'esel': 3162, 'lagen': 3163, 'berg': 3164, 'meter': 3165, 'schnee': 3166, 'schoener': 3167, 'mdb': 3168, 'interessante': 3169, 'stattfinden': 3170, 'erstarken': 3171, 'anzeige': 3172, 'anspruch': 3173, 'verzer': 3174, 'mittel': 3175, 'verdammt': 3176, 'besuchen': 3177, 'webseite': 3178, 'gmbh': 3179, 'verstanden': 3180, 'freiem': 3181, 'kommunen': 3182, 'einzumischen': 3183, 'nehme': 3184, 'oerr': 3185, 'maerz': 3186, 'gelaende': 3187, 'wolf': 3188, 'geniale': 3189, 'umso': 3190, 'gefaelligst': 3191, 'zivilisation': 3192, 'titelseiten': 3193, 'rahmen': 3194, 'voelker': 3195, 'fuerchtet': 3196, 'gefaehrliche': 3197, 'erstaunlich': 3198, 'vermutet': 3199, 'pankow': 3200, 'wilhelmsburg': 3201, 'zeugenaufruf': 3202, 'entdecken': 3203, 'erfahrung': 3204, 'gegenwae': 3205, 'stehe': 3206, 'betrachte': 3207, 'derweil': 3208, 'irgendwann': 3209, 'tiefer': 3210, 'merkelland': 3211, 'verkeh': 3212, 'fridayforfuture': 3213, 'entstanden': 3214, 'ausrufung': 3215, 'grundrechte': 3216, 'produzie': 3217, 'finanzamt': 3218, 'dinge': 3219, 'aufregen': 3220, '03': 3221, 'st': 3222, 'strassen': 3223, 'beten': 3224, 'beachten': 3225, 'sehenswe': 3226, 'sag': 3227, 'gerecht': 3228, 'google': 3229, 'fordere': 3230, 'pfingstfest': 3231, 'besucher': 3232, 'bier': 3233, 'minderjaehrig': 3234, 'andreaschlegel3': 3235, 'verdaechtigen': 3236, 'auschwitz': 3237, 'versteckt': 3238, '36': 3239, 'ah': 3240, 'anton': 3241, 'hofreiter': 3242, 'schlaege': 3243, 'entfueh': 3244, 'hoher': 3245, 'fluechtet': 3246, 'not': 3247, 'halle': 3248, 'seltener': 3249, 'suedlaender': 3250, 'staatsversagen': 3251, 'oldenburg': 3252, 'befindet': 3253, 'merkelmussweg': 3254, 'verfolgung': 3255, 'hae': 3256, 'religioese': 3257, 'mandat': 3258, 'ueberraschend': 3259, 'weissen': 3260, 'gewaendern': 3261, 'hausdurchsuchung': 3262, 'buergerliche': 3263, 'messern': 3264, 'brandt': 3265, 'gepaeck': 3266, 'sturmgewehre': 3267, 'kalaschnikow': 3268, 'pumpgun': 3269, 'sauerei': 3270, 'soviel': 3271, 'schnelle': 3272, 'roten': 3273, 'hr': 3274, 'chaoten': 3275, 'krebs': 3276, 'patienten': 3277, 'arbeitslosen': 3278, 'aufgefunden': 3279, '2020': 3280, 'gefeie': 3281, '58': 3282, 'dieses': 3283, 'kulturellen': 3284, 'ausflug': 3285, 'bisschen': 3286, 'stechen': 3287, 'erstochen': 3288, 'ernsthaft': 3289, 'heisse': 3290, '45': 3291, 'messerangriffe': 3292, 'ueberleben': 3293, 'nationalen': 3294, 'warm': 3295, 'inneren': 3296, 'schlaegerei': 3297, 'immunitaet': 3298, 'aufgehoben': 3299, 'amri': 3300, 'gefaellt': 3301, 'handel': 3302, '41': 3303, 'eingeleitet': 3304, 'kapie': 3305, 'weh': 3306, 'betrug': 3307, 'kuenstler': 3308, 'ausbildung': 3309, 'unter': 3310, 'transistor': 3311, 'vermoegen': 3312, 'blog': 3313, 'ihre': 3314, 'lanz': 3315, 'beginnen': 3316, 'erleben': 3317, 'tuerkische': 3318, 'bezeichnung': 3319, 'teufel': 3320, 'menschaffe': 3321, 'vorsichtig': 3322, 'roland': 3323, 'widerwae': 3324, 'iges': 3325, 'invasoren': 3326, 'wichtigen': 3327, 'link': 3328, 'vereins': 3329, '130': 3330, 'stgb': 3331, 'versuch': 3332, 'erneut': 3333, 'talk': 3334, 'schlacht': 3335, 'strassburg': 3336, 'enden': 3337, 'ursachen': 3338, 'broder': 3339, 'gefaehrlicher': 3340, 'anmassen': 3341, 'gnade': 3342, 'opa': 3343, 'regime': 3344, 'hingegen': 3345, 'faildef': 3346, 'wurzeln': 3347, 'kulturen': 3348, 'asylheim': 3349, 'belogen': 3350, 'unterricht': 3351, 'griff': 3352, 'gluecklich': 3353, 'diversity': 3354, 'mitmachen': 3355, 'irre': 3356, 'beliebte': 3357, 'grossbritannien': 3358, 'sozen': 3359, 'meldungen': 3360, 'stuerzen': 3361, 'genial': 3362, 'votestrache': 3363, 'gestuerzt': 3364, 'bergab': 3365, 'prophetin': 3366, 'arschloch': 3367, 'marokko': 3368, 'stadtfest': 3369, 'uebe': 3370, 'wusste': 3371, 'extremisten': 3372, 'ueberzeugt': 3373, 'wunsch': 3374, 'dienste': 3375, 'alkohol': 3376, 'suff': 3377, 'gratulation': 3378, 'vermeintlichen': 3379, 'original': 3380, 'illegales': 3381, 'janboehm': 3382, 'aktivist': 3383, 'akt': 3384, 'linker': 3385, 'tuerkischer': 3386, 'abgebaut': 3387, 'nationalsozialismus': 3388, 'marokkaner': 3389, 'ueberwiegend': 3390, 'moslem': 3391, 'brot': 3392, 'satt': 3393, 'ali': 3394, 'berichteten': 3395, 'abboud': 3396, 'eric': 3397, 'uploadfilter': 3398, 'identitaeten': 3399, 'audi': 3400, 'folgendes': 3401, 'mitbekommen': 3402, 'brennende': 3403, 'ersetzt': 3404, 'igesamt': 3405, 'forderungen': 3406, 'kopenhagen': 3407, 'verbessern': 3408, 'als': 3409, 'wahnsinnigen': 3410, 'ehemals': 3411, '300': 3412, 'libanesen': 3413, 'franzosen': 3414, 'kommentieren': 3415, 'spannend': 3416, 'letzter': 3417, 'karriere': 3418, 'niemanden': 3419, 'prueffall': 3420, 'totaler': 3421, 'vergleichen': 3422, 'vergeht': 3423, 'traeume': 3424, 'moralisch': 3425, 'niemalsafd': 3426, 'migrationspaket': 3427, 'gespraeche': 3428, 'beschreibt': 3429, 'arschloecher': 3430, 'bis': 3431, 'thueringer': 3432, 'behaupten': 3433, 'abschaffung': 3434, 'gewollt': 3435, 'frohnmaier': 3436, 'gell': 3437, 'quellen': 3438, 'solle': 3439, 'verdaechtige': 3440, 'interesse': 3441, 'mitzunehmen': 3442, 'alex': 3443, 'sozialen': 3444, 'eitag': 3445, 'mitgefuehl': 3446, 'erhaelt': 3447, 'milch': 3448, 'nen': 3449, 'taetig': 3450, 'umfeld': 3451, 'muesse': 3452, 'zeichnet': 3453, 'religioeser': 3454, 'regierungspraesident': 3455, 'kopfschuss': 3456, 'ansonsten': 3457, 'thelen': 3458, 'co2steuer': 3459, 'sowieso': 3460, 'vermitteln': 3461, 'ehemaligen': 3462, 'dicht': 3463, 'vollen': 3464, 'peking': 3465, 'gewusst': 3466, 'hashtag': 3467, 'schlau': 3468, 'spalten': 3469, 'frust': 3470, 'zitat': 3471, 'konzept': 3472, 'wirkung': 3473, 'ueberforde': 3474, '33': 3475, 'gemerkt': 3476, 'ba': 3477, 'elektroautos': 3478, 'geliefe': 3479, 'maximal': 3480, 'saekularen': 3481, '57': 3482, 'linkspa': 3483, 'gleichberechtigung': 3484, 'geblockt': 3485, 'pepper46477330': 3486, 'erkannt': 3487, '264': 3488, 'haeftlinge': 3489, 'finanzielle': 3490, 'linksliberalen': 3491, 'ossis': 3492, 'gruss': 3493, 'net': 3494, 'schickeria': 3495, 'gruenekhmer': 3496, 'deswegen': 3497, 'lasse': 3498, 'heide': 3499, 'vorbild': 3500, 'irren': 3501, 'find': 3502, 'aeussern': 3503, 'rundfunk': 3504, 'uebrigen': 3505, 'verstorben': 3506, 'bastard': 3507, 'biodeutsch': 3508, 'hoechstens': 3509, 'turksarecomingforiceland': 3510, 'tuerkisch': 3511, 'smuellermdb': 3512, 'best': 3513, 'einseitig': 3514, 'buergerlich': 3515, 'einzelnen': 3516, 'bot': 3517, 'manipulie': 3518, 'hype': 3519, 'erbaermlicher': 3520, 'vernichten': 3521, 'fakenews': 3522, 'durchsetzung': 3523, 'wenden': 3524, 'angesagt': 3525, 'groessten': 3526, 'heiligen': 3527, 'raute': 3528, 'pausenlos': 3529, 'durfte': 3530, 'geschrei': 3531, 'ever': 3532, 'aeusserungen': 3533, 'bergauf': 3534, 'gestoe': 3535, 'spitze': 3536, 'sauer': 3537, 'schwerst': 3538, 'globalwarming': 3539, 'doofmichels': 3540, 'allen': 3541, 'preise': 3542, 'billiger': 3543, 'bissel': 3544, 'cheblis': 3545, 'regimes': 3546, 'wow': 3547, 'gang': 3548, 'iv': 3549, 'haare': 3550, 'finanzminister': 3551, 'musels': 3552, 'horror': 3553, 'typisch': 3554, 'abgesagt': 3555, 'geworfen': 3556, 'schlechte': 3557, 'mehrfamilienhaus': 3558, 'bochum': 3559, 'halb': 3560, 'dreckspack': 3561, 'saufen': 3562, 'anziehen': 3563, 'hoeher': 3564, 'entdeckt': 3565, 'sinken': 3566, 'jubeln': 3567, 'beine': 3568, 'unterschrift': 3569, 'doof': 3570, 'reform': 3571, 'nurwesentliches': 3572, 'erichaschi': 3573, 'glaub': 3574, 'anderen': 3575, 'mach': 3576, 'bewusstsein': 3577, '2002': 3578, 'ganzes': 3579, 'biede': 3580, 'buergerlicher': 3581, 'miesen': 3582, 'ragen': 3583, 'verwechselt': 3584, 'drama': 3585, 'theater': 3586, 'susanna': 3587, 'provokation': 3588, 'joachim': 3589, 'anfaengen': 3590, 'andersdenkende': 3591, 'mutti': 3592, '78': 3593, 'durchbruch': 3594, 'herunter': 3595, 'thomasoppermann': 3596, 'mass': 3597, 'alternativen': 3598, 'verschwindet': 3599, 'kindheit': 3600, 'with': 3601, '72': 3602, 'feinde': 3603, 'patriot': 3604, 'einnahmen': 3605, 'bevoelkerungsaustausch': 3606, 'kleines': 3607, 'allgemeinen': 3608, 'mars': 3609, 'radikalisierung': 3610, 'bau': 3611, 'erzeugt': 3612, 'lebenslaenglich': 3613, 'aufstehen': 3614, 'legitimie': 3615, 'bunt': 3616, 'begriff': 3617, 'fleisch': 3618, 'diezeit': 3619, 'blocken': 3620, 'unwo': 3621, 'desjahres': 3622, 'juedische': 3623, 'plaene': 3624, 'schaftsnachrichten': 3625, '74': 3626, 'verlie': 3627, 'live': 3628, 'getroffen': 3629, 'rechtlicher': 3630, 'faschismus': 3631, 'schaller': 3632, 'tier': 3633, 'herbe': 3634, 'spende': 3635, 'ausweisen': 3636, 'einstellung': 3637, 'idiot': 3638, 'anwaeltin': 3639, 'faelle': 3640, 'diffamierung': 3641, 'stinkt': 3642, 'altmaier': 3643, 'knobloch': 3644, 'auslieferung': 3645, 'angekuendigt': 3646, 'schuldig': 3647, 'verkommen': 3648, 'praktizie': 3649, 'praesidentin': 3650, 'festgestellt': 3651, 'mr': 3652, 'beleidigung': 3653, 'privaten': 3654, 'gabriel': 3655, 'woe': 3656, 'autobauer': 3657, 'ostdeutschlands': 3658, 'grillfest': 3659, 'gewinner': 3660, 'ergebnisse': 3661, 'bundestagswahl': 3662, 'strategischen': 3663, 'gerettet': 3664, 'wiese': 3665, 'geschaechtet': 3666, 'trailer': 3667, 'beziehungen': 3668, 'wladimir': 3669, 'schliessung': 3670, 'oevp': 3671, 'bluff': 3672, 'stellungnahme': 3673, 'entwickelt': 3674, 'reichweite': 3675, 'schwingen': 3676, 'chemie': 3677, 'amerika': 3678, 'stehend': 3679, 'unglaeubigen': 3680, 'etwas': 3681, 'prognose': 3682, 'weint': 3683, 'rock': 3684, 'ereignisse': 3685, 'freundin': 3686, 'darpa': 3687, 'kinderschaender': 3688, 'phone': 3689, 'inklusive': 3690, 'austria': 3691, 'eingehen': 3692, 'gelernt': 3693, 'tasche': 3694, 'spaetestens': 3695, 'fcbsge': 3696, 'finale': 3697, 'bewohner': 3698, 'strafbar': 3699, 'lahm': 3700, 'money': 3701, 'rauben': 3702, 'arktis': 3703, 'global': 3704, 'ohnehin': 3705, 'ice': 3706, 'liebsten': 3707, 'beileid': 3708, 'berlinerpolizei': 3709, 'drogenszene': 3710, 'naeher': 3711, 'router': 3712, 'standardeinstellung': 3713, 'speiche': 3714, 'anmelden': 3715, 'telefonanbieter': 3716, 'speichern': 3717, 'ausgemacht': 3718, 'bekloppt': 3719, 'terrorismus': 3720, 'verfolgt': 3721, 'ebene': 3722, 'kulturell': 3723, 'hamaro777': 3724, 'kohle': 3725, 'rd': 3726, 'frosch': 3727, '64': 3728, 'wikipedia': 3729, 'autoindustrie': 3730, 'taetern': 3731, 'decke': 3732, 'baqqu': 3733, 'j': 3734, 'playlist': 3735, 'hinzugefuegt': 3736, 'verlage': 3737, 'beschaeftigte': 3738, 'malmoe': 3739, 'insolvent': 3740, 'oekopolitik': 3741, 'beschaeftigten': 3742, 'alpen': 3743, 'wendt': 3744, 'sonst': 3745, 'climateemergency': 3746, 'parade': 3747, 'offelsalat': 3748, 'nowehrmuc': 3749, 'klatschen': 3750, 'vereinbar': 3751, 'buettelrepublik': 3752, 'erschl': 3753, 'mohamed': 3754, 'scherz': 3755, 'rauskommt': 3756, 'saudiarabien': 3757, 'verhaeltnis': 3758, 'registrie': 3759, 'willst': 3760, 'vermieter': 3761, 'mieter': 3762, 'gedroht': 3763, 'innsbruck': 3764, 'silvesternacht': 3765, 'kopfverletzungen': 3766, 'auge': 3767, 'frans': 3768, 'publikum': 3769, 'klatscht': 3770, 'gefaelscht': 3771, 'zeitgenosse': 3772, 'rechter': 3773, 'elfenbeinkueste': 3774, 'raubt': 3775, 'salafist': 3776, 'groesse': 3777, 'produzieren': 3778, 'fluechtlingszahlen': 3779, 'prueft': 3780, 'schritte': 3781, 'rechtslage': 3782, 'aufklaerer2017': 3783, 'zerreissen': 3784, 'aushalten': 3785, 'dankbarkeit': 3786, 'maischberger': 3787, 'zerrissen': 3788, 'sendet': 3789, 'zmd': 3790, '1945': 3791, 'studienabbrecher': 3792, 'unterrichten': 3793, 'schaendung': 3794, 'christlicher': 3795, 'erschuettern': 3796, 'sozialpolitische': 3797, 'mdlfernandes': 3798, 'ltmv': 3799, 'mv': 3800, 'ostdeutschen': 3801, 'kontakt': 3802, 'westdeutschen': 3803, 'sichergestellt': 3804, 'mittelschicht': 3805, 'durchschnittsverdiener': 3806, 'ernaehren': 3807, 'zwangsweise': 3808, 'bedrueckender': 3809, 'lagebericht': 3810, 'sozialstaat': 3811, 'modernen': 3812, 'mythos': 3813, 'verdienten': 3814, 'training': 3815, 'spendentour2019': 3816, 'bundeslaender': 3817, 'helfernhelfen': 3818, 'weimar': 3819, 'reiche': 3820, 'grundsaetzlich': 3821, 'wuetend': 3822, 'juergen': 3823, 'trittin': 3824, 'digitalisierung': 3825, 'zurueckversetzt': 3826, 'neutrale': 3827, 'unmoeglich': 3828, 'goerlitzistschlaugoerlitzwaehltblau': 3829, 'klares': 3830, 'gegenprotest': 3831, 'zarzis': 3832, 'akzent': 3833, 'ueberfallen': 3834, 'brueder': 3835, 'senior': 3836, 'bewusstlos': 3837, 'klinik': 3838, 'massenhaft': 3839, 'hochburgen': 3840, 'lega': 3841, 'behauptung': 3842, 'unterlegen': 3843, 'tiefe': 3844, 'krefeld': 3845, 'reis': 3846, 'angebrannt': 3847, 'definie': 3848, 'sexueller': 3849, '9jaehrigen': 3850, 'faktenfinder': 3851, 'personal': 3852, 'noetigen': 3853, 'rueckhalt': 3854, 'bz': 3855, 'bzberlin': 3856, 'iranische': 3857, 'freundschaft': 3858, 'betonen': 3859, 'mitnehmen': 3860, 'obm': 3861, 'rufe': 3862, 'boykottieren': 3863, 'veranstaltungen': 3864, 'tabu': 3865, 'weltherrschaft': 3866, 'iq': 3867, 'schwaechung': 3868, 'tendenzen': 3869, 'gruende': 3870, 'abstand': 3871, 'cm': 3872, 'hohem': 3873, 'riskie': 3874, 'amerikanische': 3875, 'euros': 3876, 'bergung': 3877, 'ankerzentrum': 3878, 'anzeigen': 3879, 'festnahmen': 3880, 'gotha': 3881, 'nahe': 3882, 'einkaufszentrum': 3883, 'hintergruenden': 3884, 'palaestinenser': 3885, 'neukoelln': 3886, 'gaststaette': 3887, 'eskalie': 3888, 'massenschlaegerei': 3889, 'mafia': 3890, 'gebaut': 3891, 'taschengeld': 3892, '150': 3893, 'erhoeht': 3894, 'beduerftigen': 3895, 'tafel': 3896, 'ohrfeigt': 3897, 'europaeisches': 3898, 'koestlich': 3899, 'beschriebenen': 3900, 'flucht': 3901, 'ergreift': 3902, '14000': 3903, '104': 3904, 'veruebt': 3905, '6450': 3906, 'zugeben': 3907, 'geraten': 3908, 'bankrotterklaerung': 3909, 'aufzug': 3910, 'herrschaft': 3911, 'versuchte': 3912, 'bachelor': 3913, 'kandidatin': 3914, 'guinea': 3915, 'beleidigte': 3916, 'tatverdaechtige': 3917, 'milieu': 3918, 'grossfamilien': 3919, 'pfarrer': 3920, 'sekretaerin': 3921, 'geschlechter': 3922, 'ausschliesslich': 3923, 'moschee': 3924, 'fremder': 3925, 'meinungs': 3926, 'einfallen': 3927, 'senat': 3928, 'offenen': 3929, 'debatten': 3930, 'barbaren': 3931, 'musikinstrumente': 3932, 'wobei': 3933, 'vollidioten': 3934, 'grossvater': 3935, 'teilweise': 3936, 'endgueltig': 3937, 'pippi': 3938, 'fassen': 3939, 'symptompanik': 3940, 'migraten': 3941, 'schweres': 3942, 'fruehen': 3943, 'hagel': 3944, 'verschaerft': 3945, 'index': 3946, 'hyperventilie': 3947, 'retouren': 3948, 'konzerne': 3949, 'fluechtlingskrise': 3950, 'groessenwahn': 3951, 'eckardt': 3952, 'vernichtung': 3953, 'christlich': 3954, 'festen': 3955, 'zusammenarbeit': 3956, 'dezember': 3957, 'beliebter': 3958, 'achgut': 3959, 'mutige': 3960, 'drogentrip': 3961, 'unfassbares': 3962, 'rechtsextreme': 3963, 'minderjaehrige': 3964, 'straubing': 3965, 'gehirngewaschenen': 3966, 'doku': 3967, 'professoren': 3968, 'unendlich': 3969, 'ho': 3970, 'dient': 3971, 'vorzeigeprojekt': 3972, 'seestadt': 3973, 'tummeln': 3974, 'rassist': 3975, 'hambacher': 3976, 'gehandelt': 3977, 'scheibe': 3978, 'faelscher': 3979, 'ebenfalls': 3980, 'naechtlichen': 3981, 'haeufen': 3982, 'politikers': 3983, 'mitschuld': 3984, 'msm': 3985, 'sexualitaet': 3986, 'bloedsinn': 3987, 'gaga': 3988, 'durchs': 3989, 'pranger': 3990, 'autorin': 3991, 'woran': 3992, '35': 3993, 'vetternwi': 3994, 'giffey': 3995, 'asylsuchende': 3996, 'besitzer': 3997, 'typischer': 3998, 'rechtsradikaler': 3999, '39': 4000, 'folgten': 4001, 'kennengelernt': 4002, 'umgesetzt': 4003, 'eingereicht': 4004, 'drogendealer': 4005, 'verkaufsflaechen': 4006, 'durchsage': 4007, 'wilkommen': 4008, 'gestrandet': 4009, 'meiden': 4010, 'dpolghh': 4011, 'sozialhilfeempfaenger': 4012, 'teuren': 4013, 'maechtig': 4014, 'belege': 4015, 'rechtsextremer': 4016, 'ganzer': 4017, 'volksgruppen': 4018, 'merkeldeutschland': 4019, 'goerli': 4020, 'sexistisch': 4021, 'busfahrer': 4022, 'eingeschaltet': 4023, 'karfreitag': 4024, 'stichverletzungen': 4025, 'whatsapp': 4026, 'spdberlin': 4027, 'kleinlaut': 4028, 'erschuetternd': 4029, 'suspendie': 4030, 'gemobbt': 4031, 'kassiererin': 4032, 'beisst': 4033, 'polizistin': 4034, 'toetet': 4035, 'totschlaeger': 4036, 'top': 4037, 'informie': 4038, 'celle': 4039, 'schwarzafrikaner': 4040, 'naiven': 4041, 'schreier': 4042, 'heimatlaendern': 4043, 'unbegrenzt': 4044, 'heimatland': 4045, 'hauabgesetz': 4046, 'synonym': 4047, 'wahllokal': 4048, 'wahlempfehlungen': 4049, 'bestimmte': 4050, 'omas': 4051, 'grossstaedten': 4052, 'einseitige': 4053, 'weitersagen': 4054, 'identitaere': 4055, 'albania': 4056, 'gottchen': 4057, 'tipp': 4058, 'blinde': 4059, 'radikaler': 4060, 'markie': 4061, 'darzustellen': 4062, 'jahrzehnte': 4063, 'rollen': 4064, 'genie': 4065, 'twitterde': 4066, 'vorgegangen': 4067, 'bewaehrungsstrafe': 4068, 'hasspostings': 4069, 'jegliche': 4070, 'obendrauf': 4071, 'woher': 4072, 'gefluechtete': 4073, 'fremde': 4074, '1mai': 4075, 'kino': 4076, 'zunehmenden': 4077, 'wunderschoenen': 4078, 'ostersonntag': 4079, 'abgeholt': 4080, 'forscher': 4081, 'aktivitaet': 4082, 'hirntod': 4083, 'widersprechen': 4084, 'vll': 4085, 'massiver': 4086, 'wohnungsmangel': 4087, 'enteignungen': 4088, 'tragisch': 4089, 'teenies': 4090, 'korrupt': 4091, 'kritisch': 4092, 'christchurch': 4093, 'attentaeter': 4094, 'schwarz': 4095, 'autor': 4096, 'atheisten': 4097, 'arbeitskreis': 4098, 'schweizer': 4099, 'abgeht': 4100, 'machtlos': 4101, 'rolex': 4102, 'sauber': 4103, 'wahn': 4104, 'solidaritaet': 4105, 'schauspieler': 4106, 'stuerzt': 4107, 'ermoeglichen': 4108, 'joseph': 4109, 'schlepper': 4110, 'regsprecher': 4111, 'sawsan': 4112, 'aprilscherz': 4113, 'staedten': 4114, 'anwenden': 4115, 'maus': 4116, 'bacho': 4117, 'half': 4118, 'freute': 4119, 'hupen': 4120, 'vonhier': 4121, 'moslemischen': 4122, 'aufgeben': 4123, 'linksgruenen': 4124, 'gelungen': 4125, 'wovon': 4126, 'joschka': 4127, 'fischer': 4128, 'traeumte': 4129, 'heutzutage': 4130, 'furchtbare': 4131, 'gehalten': 4132, 'ueberlebenskampf': 4133, 'englische': 4134, 'selbstbestimmung': 4135, 'selbstmord': 4136, 'hausotter': 4137, 'lde': 4138, 'ausreisen': 4139, 'lagerfeld': 4140, 'erhalt': 4141, 'thematisie': 4142, 'monatlich': 4143, 'intendanten': 4144, 'radio': 4145, 'qualitaetsjournalisten': 4146, 'scheinehen': 4147, 'grenzschutz': 4148, 'jede': 4149, 'reichsbuerger': 4150, 'autoren': 4151, 'koenntet': 4152, 'vorhin': 4153, 'klaus': 4154, 'fritz': 4155, 'sohnes': 4156, 'kaiser': 4157, 'meisseln': 4158, 'blanker': 4159, 'sellner': 4160, 'westernhagen': 4161, 'beck': 4162, 'ideen': 4163, 'degenerie': 4164, 'wechseln': 4165, 'feminismus': 4166, 'faule': 4167, 'eier': 4168, 'tiefen': 4169, 'lars': 4170, 'hetzprogramm': 4171, 'gegen': 4172, 'gabbe': 4173, 'ommy': 4174, 'screenshot': 4175, 'vorm': 4176, 'auftritt': 4177, 'krahmax': 4178, 'stur': 4179, 'gespalten': 4180, 'unbekannt': 4181, 'frauenquote': 4182, 'soviele': 4183, 'forschung': 4184, 'breaking': 4185, 'tee': 4186, 'gesichtet': 4187, 'exemplare': 4188, 'reichen': 4189, 'vandalismus': 4190, 'groessere': 4191, 'geruecht': 4192, 'fc': 4193, 'friedrichmerz': 4194, 'pointe': 4195, 'vorwuerfe': 4196, 'abscheu': 4197, 'ekel': 4198, 'ernaehrung': 4199, 'matthaeus': 4200, 'hfa': 4201, 'parlamentswahl': 4202, 'finnland': 4203, 'finnen': 4204, 'uhrbvb': 4205, 'schalke': 4206, 'wechsel': 4207, 'zwoelf': 4208, 'niederlanden': 4209, 'gladbach': 4210, 'desaster': 4211, 'erreichten': 4212, 'doppelt': 4213, 'begrenzen': 4214, 'laenderfinanzausgleich': 4215, 'habecks': 4216, 'huette': 4217, 'inkl': 4218, 'familiennachzug': 4219, 'gewisse': 4220, 'sichere': 4221, 'drittstaaten': 4222, 'wahlrecht': 4223, 'verstoesst': 4224, 'beobachten': 4225, 'wiederholen': 4226, 'wande': 4227, 'kleinstadt': 4228, 'scheren': 4229, 'lebendigem': 4230, 'fliehen': 4231, 'august': 4232, 'nannte': 4233, 'enkeln': 4234, 'durchsetzen': 4235, 'liche': 4236, 'fesseln': 4237, 'beamte': 4238, 'geflogen': 4239, 'renate': 4240, 'kuenast': 4241, 'awayklein': 4242, 'lohnt': 4243, 'fluechtlingskosten': 4244, 'kantholz': 4245, 'poggenburg': 4246, 'bundesverfassungsgericht': 4247, 'z4': 4248, 'asylverfahren': 4249, 'abouchaker': 4250, 'fingern': 4251, 'reinlassen': 4252, 'beachtet': 4253, 'schumacher': 4254, 'ghettos': 4255, 'messe': 4256, 'motiv': 4257, 'mufl': 4258, 'lkw': 4259, 'absicht': 4260, 'bottrop': 4261, 'erfolgreiches': 4262, 'happy': 4263, 'entschuldigt': 4264, 'hemd': 4265, 'ze': 4266, 'geschlossene': 4267, 'stell': 4268, 'staatsfunk': 4269, 'jung': 4270, 'relativ': 4271, 'instrumentalisie': 4272, 'geschweige': 4273, 'diese': 4274, 'zufall': 4275, 'dfb': 4276, 'heidelberg': 4277, 'hochzeiten': 4278, 'schuessen': 4279, 'einwilligung': 4280, 'kondom': 4281, 'haende': 4282, 'ferien': 4283, 'voeller': 4284, 'tuecke': 4285, 'bruecke': 4286, 'heftige': 4287, 'niko': 4288, 'stasitrine': 4289, 'fichte': 4290, 'wehe': 4291, 'unterstellt': 4292, 'staatsschutz': 4293, 'eindringlinge': 4294, 'lagebild': 4295, 'geh': 4296, 'selbstverstaendlich': 4297, 'suv': 4298, 'umsteigen': 4299, 'stuermt': 4300, 'heimatlaender': 4301, 'schaftswoche': 4302, 'ermittlungsrichter': 4303, 'treffend': 4304, 'einstellen': 4305, 'erfahren': 4306, 'feue': 4307, 'lehmann': 4308, 'aussterben': 4309, 'liga': 4310, 'boris': 4311, 'rponline': 4312, 'moenchengladbach': 4313, 'schaedigung': 4314, 'fachkraefteeinwanderung': 4315, 'schein': 4316, 'erwachsener': 4317, 'jogginghosen': 4318, 'oktoberfest': 4319, 'verbannen': 4320, 'kommentare': 4321, 'nationalsozialisten': 4322, 'ohrfeigen': 4323, 'ueben': 4324, 'beruf': 4325, 'womoeglich': 4326, 'vate': 4327, 'getrennt': 4328, 'raege': 4329, 'kuendigen': 4330, 'europarat': 4331, 'gruendung': 4332, 'entwicklungen': 4333, 'demographie': 4334, 'ruder': 4335, 'galt': 4336, 'rechtes': 4337, 'befragten': 4338, 'geheim': 4339, 'eingestuft': 4340, 'jammern': 4341, 'vorgang': 4342, 'curio': 4343, 'unterscheiden': 4344, 'zutreffend': 4345, 'vorbereitet': 4346, 'zimmer': 4347, 'quoten': 4348, 'freies': 4349, 'chancen': 4350, 'klarnamen': 4351, 'anonym': 4352, 'daimler': 4353, 'feminist': 4354, 'gleichstellung': 4355, 'unabhaengig': 4356, 'letztlich': 4357, 'sachthemen': 4358, 'wdr': 4359, 'positionen': 4360, 'herzliches': 4361, 'vilimsky': 4362, 'bundestagsvizepraesidentin': 4363, 'verrecke': 4364, 'entscheidende': 4365, 'zugestimmt': 4366, 'kommission': 4367, 'verbindlich': 4368, 'bemerkenswe': 4369, 'amadeu': 4370, 'thessaloniki': 4371, 'brandstiftung': 4372, 'ungeborenen': 4373, 'servicetweet': 4374, 'bildet': 4375, 'steine': 4376, 'frueh': 4377, 'hofer': 4378, 'fuehrung': 4379, 'ersetze': 4380, 'oezil': 4381, 'mimimi': 4382, 'braende': 4383, 'tazgezwitscher': 4384, 'schickt': 4385, 'saemtliche': 4386, 'block': 4387, 'verraeter': 4388, 'weihnachten': 4389, 'pegida': 4390, 'grausam': 4391, 'begruessen': 4392, 'qualifizie': 4393, 'daneben': 4394, 'erzeugen': 4395, 'simone': 4396, 'loescht': 4397, 'blockt': 4398, 'gauck': 4399, 'kacke': 4400, 'dampfen': 4401, 'staatliche': 4402, 'institutionen': 4403, 'bundespraesidenten': 4404, 'stichwahl': 4405, 'neuwahl': 4406, 'halbjahr': 4407, 'sicheren': 4408, 'dpolg': 4409, 'uebergriffen': 4410, 'gepflegt': 4411, 'scheissen': 4412, 'beruehmten': 4413, 'bad': 4414, 'abgelehnte': 4415, 'abschiebehaft': 4416, 'gesundheitska': 4417, 'isser': 4418, 'aufnahme': 4419, 'meinten': 4420, 'hoeflich': 4421, 'kritiker': 4422, '5x': 4423, 'diaetenerhoehung': 4424, 'staatssekretaer': 4425, 'kluger': 4426, 'vorstelle': 4427, 'geier': 4428, '050': 4429, 'shit': 4430, 'sprengt': 4431, 'unhaltbare': 4432, 'blicken': 4433, 'hetzt': 4434, 'tur': 4435, 'eingefueh': 4436, 'stich': 4437, 'verpflichtung': 4438, 'auslegung': 4439, 'asylantraege': 4440, 'streichen': 4441, 'busse': 4442, 'geschichtskonferenz': 4443, 'mitschnitt': 4444, 'motto': 4445, 'ditib': 4446, 'imame': 4447, 'gejammer': 4448, 'willkuerlich': 4449, 'finger': 4450, 'kostenlos': 4451, 'details': 4452, 'josef': 4453, 'konstituierende': 4454, 'democracy': 4455, 'schaebig': 4456, 'stoppt': 4457, 'schulden': 4458, 'einfordern': 4459, 'vernichtet': 4460, 'schlafen': 4461, 'kanaelen': 4462, 'helfe': 4463, 'bedanke': 4464, 'parlamentarischen': 4465, 'spielchen': 4466, 'nahrung': 4467, 'mobilisieren': 4468, 'prima': 4469, 'regulierung': 4470, 'senken': 4471, 'technologien': 4472, 'geschwafel': 4473, 'engagement': 4474, 'erklaerung': 4475, 'nette': 4476, 'rande': 4477, 'weiten': 4478, 'begeisterung': 4479, 'fachkraeften': 4480, 'chefin': 4481, 'ir': 4482, 'aufrufe': 4483, 'wahlprogramm': 4484, 'sekunden': 4485, 'gehoer': 4486, 'infostand': 4487, 'zurueckzufuehren': 4488, 'erfolgreichen': 4489, 'gespannt': 4490, 'goennen': 4491, 'oezdemir': 4492, 'eifreunden': 4493, 'nicole': 4494, 'frankenthal': 4495, 'todesu': 4496, 'reinhardswald': 4497, '2009': 4498, 'une': 4499, 'raeglich': 4500, 'peinlicher': 4501, 'christi': 4502, 'baron': 4503, 'handelsblatt': 4504, 'polizeibekannt': 4505, 'vita': 4506, 'gehetzt': 4507, 'kapitel': 4508, 'massenzuwanderung': 4509, 'killer': 4510, 'entwickeln': 4511, 'rechtsextremismus': 4512, 'fackelt': 4513, 'entfaellt': 4514, '56': 4515, 'sozialsystem': 4516, 'keingeldfuerrechts': 4517, 'praktische': 4518, 'aufgebauscht': 4519, 'atlantis': 4520, 'diplomaten': 4521, 'abgefackelt': 4522, 'flash': 4523, 'tegel': 4524, 'obdachlose': 4525, 'katze': 4526, 'sack': 4527, 'foerdermittel': 4528, '2011': 4529, 'kissinger': 4530, 'bedenklich': 4531, 'neustadt': 4532, 'bundesland': 4533, 'schwaenzen': 4534, 'panikmache': 4535, 'atomkrieg': 4536, 'waldsterben': 4537, 'schulzzug': 4538, 'landesverbands': 4539, 'kommunalen': 4540, 'bestellt': 4541, 'leistungstraeger': 4542, 'gutem': 4543, 'gewaender': 4544, 'doppelte': 4545, 'unglaubliche': 4546, 'grausame': 4547, 'tierschutz': 4548, 'gelegt': 4549, 'jemals': 4550, 'ausgelassen': 4551, 'antisemitisch': 4552, 'belasten': 4553, 'kulturelle': 4554, 'duisburg': 4555, 'bischoefe': 4556, 'sigmargabriel': 4557, 'erbaermliche': 4558, 'oppo': 4559, 'unist': 4560, 'spdfraktionrlp': 4561, 'hochaggressivem': 4562, 'beteiligung': 4563, 'linksextremer': 4564, 'ueberfueh': 4565, 'geschichten': 4566, 'sturmreif': 4567, 'aeltere': 4568, 'gewaltbereiten': 4569, 'hausfriedensbruch': 4570, 'demokratieverstaendnis': 4571, 'glaeubigen': 4572, 'reformieren': 4573, 'affaere': 4574, 'held': 4575, 'puenktlich': 4576, 'bekannte': 4577, 'geschah': 4578, 'verdacht': 4579, 'nachgehen': 4580, 'verluste': 4581, 'bemerken': 4582, 'weist': 4583, 'dennoch': 4584, 'begruendung': 4585, 'keine': 4586, 'unabhaengigkeit': 4587, 'roter': 4588, 'swr': 4589, 'tribunal': 4590, 'kompliment': 4591, 'adresse': 4592, 'evp': 4593, 'keller': 4594, 'skakeller': 4595, 'vollem': 4596, 'stil': 4597, 'durchaus': 4598, 'abzuschaffen': 4599, 'bollinger': 4600, 'fahne': 4601, 'brennen': 4602, 'massnahmen': 4603, 'vstorch': 4604, 'identifizie': 4605, 'soziale': 4606, 'plenarsitzung': 4607, 'fantasien': 4608, 'gelegenheit': 4609, 'verkaufte': 4610, 'mark': 4611, 'kooperation': 4612, 'haeufig': 4613, 'listenplatz': 4614, 'netanjahu': 4615, 'aufhoeren': 4616, 'internen': 4617, 'frisch': 4618, 'sozialer': 4619, 'tatwerkzeug': 4620, 'fridays': 4621, 'mullahs': 4622, 'aussenpolitik': 4623, 'empfohlen': 4624, 'android': 4625, 'pflege': 4626, 'ausbilden': 4627, 'hgm': 4628, 'perfekt': 4629, 'gast': 4630, 'umgekeh': 4631, 'evangelischen': 4632, 'nation': 4633, 'folgt': 4634, 'ff': 4635, 'bewegt': 4636, 'regierungen': 4637, 'heiratsstau': 4638, 'hhbombe': 4639, 'kampfmittelraeumdienst': 4640, 'einsatzfuerhamburg': 4641, 'taktik': 4642, 'tisch': 4643, 'ermittlungen': 4644, 'getreten': 4645, 'beraubt': 4646, 'derwahreerich': 4647, 'nimmer': 4648, 'dielinke': 4649, 'denkbar': 4650, 'ansicht': 4651, 'umweltschutz': 4652, 'auszug': 4653, 'hannovergenuss': 4654, 'sinnlos': 4655, 'ziele': 4656, 'umbruch': 4657, 'vorreiter': 4658, 'diegruenen': 4659, 'abends': 4660, 'steak': 4661, 'dushanwegner': 4662, 'unserioese': 4663, 'gegenwehr': 4664, 'praktisch': 4665, 'bahnt': 4666, 'komplex': 4667, 'plakat': 4668, 'graubaer1953': 4669, 'ausleben': 4670, 'ideologisie': 4671, 'geraet': 4672, 'zunehmend': 4673, 'wunderbar': 4674, '1990': 4675, 'deutschlandweitem': 4676, 'pfund': 4677, 'sobald': 4678, 'ausgeht': 4679, 'enger': 4680, 'festnehmen': 4681, 'koerperverletzung': 4682, 'lokal': 4683, 'komplette': 4684, 'christentum': 4685, 'oeffentliches': 4686, 'muenchner': 4687, 'fussgaengerzone': 4688, 'fraktionsvorsitzende': 4689, 'worum': 4690, 'zornige': 4691, 'libyschen': 4692, 'kuestenwache': 4693, 'verfrachtet': 4694, 'skandieren': 4695, 'rotgruene': 4696, 'gratuliere': 4697, 'erich': 4698, 'unheil': 4699, 'kaempfer': 4700, 'bashing': 4701, 'legten': 4702, 'aggressives': 4703, 'bomber': 4704, 'altes': 4705, 'mutmassliche': 4706, 'stammt': 4707, 'sexualdelikt': 4708, 'pakistani': 4709, 'rechnungen': 4710, 'fridays4future': 4711, 'dummmenschen': 4712, 'christliches': 4713, 'verfuegbar': 4714, 'aufgehen': 4715, 'halbwegs': 4716, 'hubschrauber': 4717, 'gebrochen': 4718, 'dazwischen': 4719, 'uebergiesst': 4720, 'aeuschung': 4721, 'erwachsene': 4722, 'andersrum': 4723, 'seele': 4724, 'hauses': 4725, 'eingereisten': 4726, 'antraege': 4727, 'opfers': 4728, 'fremdenfeindlich': 4729, 'kranken': 4730, 'mitgliedern': 4731, 'spucken': 4732, 'angestellte': 4733, 'kurse': 4734, 'nuechtern': 4735, 'geschwindigkeit': 4736, 'obdachlosen': 4737, 'op': 4738, 'taeterbeschreibung': 4739, 'eberswalde': 4740, 'marmelade': 4741, 'hierzu': 4742, 'sudanese': 4743, 'skalpie': 4744, 'express': 4745, 'verfaellt': 4746, 'nogruene': 4747, 'klimasekte': 4748, 'straftaetern': 4749, 'belegt': 4750, 'otten': 4751, 'dienst': 4752, 'nordafrikaner': 4753, 'wehr': 4754, 'zurueckkehren': 4755, 'ausreisegeld': 4756, 'gepostet': 4757, 'gsg9': 4758, 'verfluchte': 4759, 'praechtige': 4760, 'lustigen': 4761, 'twitte': 4762, 'kragen': 4763, 'stellve': 4764, 'ermittlungsverfahren': 4765, 'begruendet': 4766, 'knaller': 4767, 'konstruktiven': 4768, 'riesen': 4769, 'verueben': 4770, 'krebskranken': 4771, 'flyer': 4772, 'plakate': 4773, 'hasse': 4774, 'ungerechtigkeit': 4775, '54': 4776, 'entsorgt': 4777, 'verdoppeln': 4778, 'baut': 4779, 'tomaten': 4780, 'eiern': 4781, 'terroranschlag': 4782, 'gutachten': 4783, 'nachvollziehbar': 4784, 'wirklichen': 4785, 'phantasie': 4786, 'studium': 4787, 'aufgeblasener': 4788, 'abaerbock': 4789, 'gigatonnen': 4790, 'rundfunkbeitrag': 4791, 'abgeschafft': 4792, 'taxifahrer': 4793, 'eingeschlagen': 4794, 'geschnappt': 4795, 'oemer': 4796, 'tante': 4797, 'gingen': 4798, 'pensionisten': 4799, 'bar': 4800, 'aufnimmt': 4801, 'versorgt': 4802, 'bietet': 4803, 'justizsenator': 4804, 'bundesweiten': 4805, 'pruegelt': 4806, 'aufgehaengt': 4807, 'gelingt': 4808, 'bewegen': 4809, 'gezwungen': 4810, 'schuesse': 4811, 'fahrzeug': 4812, 'insassen': 4813, 'unschuld': 4814, 'hochzeitsgesellschaft': 4815, 'ingenieure': 4816, 'schlugen': 4817, 'locker': 4818, 'legende': 4819, 'haraldlesch': 4820, 'tatverdaechtiger': 4821, 'deggendorf': 4822, 'wut': 4823, 'aha': 4824, 'kritisieren': 4825, 'okay': 4826, 'hohen': 4827, 'hm': 4828, 'gruenebundestag': 4829, 'geordneterueckkehrgesetz': 4830, 'gesprengt': 4831, 'haftbefehle': 4832, 'erlassen': 4833, 'klimascheisse': 4834, 'verkehrskontrolle': 4835, 'durchsucht': 4836, 'fragezeichen': 4837, 'meine': 4838, 'boy': 4839, 'bomm': 4840, 'bevorzugte': 4841, 'voru': 4842, 'definition': 4843, 'handwerker': 4844, 'pruefung': 4845, 'gesellen': 4846, 'bestehen': 4847, 'germanische': 4848, 'begriffen': 4849, 'realen': 4850, 'umzusetzen': 4851, 'verstaerkt': 4852, 'ae': 4853, 'empfehlen': 4854, 'riesiges': 4855, 'verkauf': 4856, 'span': 4857, 'befristete': 4858, 'aenderungen': 4859, 'freundlich': 4860, 'haymat': 4861, 'gewohnt': 4862, 'hinaus': 4863, 'geistig': 4864, 'koerperlichen': 4865, 'ausgewaehlt': 4866, 'haettest': 4867, 'lauro': 4868, 'doc': 4869, 'ner': 4870, 'akademischen': 4871, 'anve': 4872, 'naeheren': 4873, 'institute': 4874, 'bilderberger': 4875, 'insider': 4876, 'welle': 4877, 'gerechtigkeit': 4878, 'brid': 4879, 'bestaetigen': 4880, 'protonmail': 4881, 'echtzeit': 4882, 'ueberwachungen': 4883, 'ss': 4884, '343': 4885, 'paragraph': 4886, 'teufels': 4887, 'spieglein': 4888, 'inhaftie': 4889, 'herman': 4890, 'storch': 4891, 'irrelevant': 4892, 'angelika': 4893, 'schicksal': 4894, 'thing': 4895, 'themar': 4896, 'bilanz': 4897, 'wahlbetrug': 4898, 'europawaehler': 4899, 'kategorie': 4900, 'maul': 4901, 'enthuellt': 4902, 'schwabenland': 4903, 'ehrendokto': 4904, 'ekelhafte': 4905, 'hinterlassen': 4906, 'staatsmedien': 4907, 'verlaenge': 4908, 'undemokratischen': 4909, 'einzelfaelle': 4910, 'des': 4911, 'einschalten': 4912, 'masse': 4913, 'hinterher': 4914, '87': 4915, '55': 4916, 'fasst': 4917, 'irgendjemanden': 4918, '123korona': 4919, 'ausfah': 4920, 'faustdicke': 4921, 'eilungskaempfe': 4922, 'heftig': 4923, 'verstorbenen': 4924, 'reich': 4925, 'hasses': 4926, 'brexitpa': 4927, 'tories': 4928, 'chapeau': 4929, 'schoensten': 4930, 'lyon': 4931, 'kurzschluss': 4932, 'traf': 4933, 'vanderbellen': 4934, 'eroe': 4935, 'eindruck': 4936, 'gestrigen': 4937, 'beachte': 4938, 'sinngemaess': 4939, 'auszuhalten': 4940, 'tierquaelerei': 4941, 'angeschaut': 4942, 'viel': 4943, 'nichtohnemeinkopftuch': 4944, 'wahlsieg': 4945, 'panzer': 4946, 'stuermen': 4947, 'einschreitet': 4948, 'wittern': 4949, 'bewaffnet': 4950, 'grenzenlose': 4951, 'eddie': 4952, '1412': 4953, 'vormachtstellung': 4954, 'jetzterstrecht': 4955, 'beauftragter': 4956, 'ursache': 4957, 'benennen': 4958, 'koordinie': 4959, 'fakenewsmedia': 4960, 'gewinnt': 4961, 'relevanteste': 4962, 'vorschriften': 4963, 'stuendigen': 4964, 'unterschlagen': 4965, 'existieren': 4966, 'russin': 4967, 'kurzen': 4968, 'mini': 4969, 'zugegeben': 4970, 'naechster': 4971, 'misstrauensantrag': 4972, 'onkel': 4973, 'journalistische': 4974, 'anzuenden': 4975, 'neubrandenburg': 4976, 'unheimlich': 4977, 'entscheiden': 4978, 'tvduell': 4979, 'erdreistet': 4980, 'cool': 4981, 'gefilmt': 4982, 'abriss': 4983, 'deutlicher': 4984, 'aggression': 4985, 'htlottakring': 4986, 'regulieren': 4987, 'landtags': 4988, 'bereichern': 4989, 'taharrush': 4990, 'herz': 4991, 'dulrahman': 4992, 'buntes': 4993, 'nackte': 4994, 'passantin': 4995, 'medialen': 4996, 'schneidet': 4997, 'erzogen': 4998, 'fuehrerschein': 4999, 'kapitalismus': 5000, 'nordkorea': 5001, 'kriegen': 5002, 'innenstaedten': 5003, 'verlinkt': 5004, 'verbloedet': 5005, 'toetete': 5006, 'social': 5007, 'media': 5008, 'erhoben': 5009, 'modus': 5010, 'offenbach': 5011, 'begeht': 5012, 'erfaeh': 5013, 'mainstreammedien': 5014, 'schulzeit': 5015, 'verbrennen': 5016, 'tennis': 5017, 'baeckern': 5018, 'dienstkleidung': 5019, 'blaest': 5020, 'lichter': 5021, 'nunmehr': 5022, 'gefasst': 5023, 'haha': 5024, 'klimasuender': 5025, 'fahre': 5026, 'belohnt': 5027, 'deppe': 5028, 'polizeibekannter': 5029, 'venezuela': 5030, 'hurra': 5031, 'magazin': 5032, 'derfreitag': 5033, 'sexualstraftaeter': 5034, 'moegliche': 5035, 'entwarnung': 5036, 'samariter': 5037, 'geschaeftsfuehrer': 5038, 'asb': 5039, 'schlagzeile': 5040, 'dargestellt': 5041, 'db': 5042, 'dfakenews1': 5043, 'geliebten': 5044, 'allgemeine': 5045, 'kreuz': 5046, 'jederzeit': 5047, 'kehle': 5048, 'zahran': 5049, 'hashim': 5050, 'absurd': 5051, 'hasser': 5052, 'weltoffen': 5053, 'wiederaufbau': 5054, 'trick': 5055, 'reisende': 5056, 'eigentlichen': 5057, 'wofuer': 5058, 'clown': 5059, 'faktum': 5060, 'ignorie': 5061, '85': 5062, 'sahne': 5063, 'islamkritischer': 5064, 'unterschiedlichen': 5065, 'zufaelle': 5066, 'abos': 5067, 'hardcore': 5068, 'bento': 5069, 'abgelehnter': 5070, 'nieder': 5071, 'holland': 5072, 'regelrecht': 5073, 'ursaechlich': 5074, 'hitlers': 5075, 'hinweisen': 5076, 'exklusiv': 5077, 'entgehen': 5078, 'tour': 5079, 'massivem': 5080, 'beschweren': 5081, 'dm': 5082, 'teilung': 5083, 'schiessereien': 5084, 'zusammengefasst': 5085, 'shithole': 5086, 'kauf': 5087, 'beute': 5088, 'ostdeutsche': 5089, 'alltaegliche': 5090, 'rentenkonzept': 5091, 'spendenaffaere': 5092, 'leuchttuerme': 5093, 'untersuchung': 5094, 'niemehrcdu': 5095, 'menschenverachtenden': 5096, 'abgeordneter': 5097, 'eklat': 5098, 'tonline': 5099, 'kurze': 5100, 'eis': 5101, 'satirischer': 5102, 'stirn': 5103, 'weite': 5104, 'fluechtlingshelfer': 5105, 'konstantinnotz': 5106, 'oekologische': 5107, 'frech': 5108, 'erklaere': 5109, 'juliakloeckner': 5110, 'dokto': 5111, 'koepfen': 5112, 'selbsternannten': 5113, 'hater': 5114, 'hahaha': 5115, 'aufstand': 5116, 'vw': 5117, 'managerin': 5118, 'rechtssicherheit': 5119, 'julia': 5120, 'erlebt': 5121, 'aergerlich': 5122, 'eienfinanzierung': 5123, 'notwendigen': 5124, 'geblieben': 5125, 'geruegt': 5126, 'brandner': 5127, 'traditionell': 5128, 'meinungsmache': 5129, 'abkommen': 5130, 'blicke': 5131, 'verfassungsschutzbericht': 5132, 'behindern': 5133, 'bezahlten': 5134, 'eilten': 5135, 'luegner': 5136, 'anhaenger': 5137, 'organisationen': 5138, 'heimatstadt': 5139, 'polizeilichen': 5140, 'vice': 5141, 'freiwillige': 5142, 'nachricht': 5143, 'windraeder': 5144, 'windkraft': 5145, 'steiner': 5146, 'sophie': 5147, 'ost': 5148, 'bundeslaendern': 5149, 'schonen': 5150, 'mpkretschmer': 5151, 'wirren': 5152, 'nirgendwo': 5153, 'sonstige': 5154, 'oesterreichs': 5155, 'stellte': 5156, 'derpoet': 5157, 'realsatire': 5158, 'schreibst': 5159, 'devise': 5160, 'manager': 5161, 'beschluss': 5162, 'angehoerigen': 5163, 'reaktionen': 5164, 'menschenverachtend': 5165, 'weltweiten': 5166, 'schmieriger': 5167, 'wuerdet': 5168, 'lachnummer': 5169, 'nigel': 5170, 'farage': 5171, 'oligarchen': 5172, 'mettbroetchen': 5173, 'spangenberg': 5174, 'komning': 5175, 'holocaust': 5176, 'typische': 5177, 'kolleginnen': 5178, 'dokumentation': 5179, 'wirbt': 5180, 'smisachsen': 5181, 'verabschiedet': 5182, 'somit': 5183, 'fuehle': 5184, 'videoaufnahmen': 5185, 'landesverrat': 5186, 'verkuendet': 5187, 'fragwuerdig': 5188, 'finanzen': 5189, 'suedwest': 5190, 'mediator': 5191, 'pinguin': 5192, 'friedliche': 5193, 'fridaysforfu': 5194, 'ure': 5195, 'pressemitteilungen': 5196, 'analysie': 5197, 'darstellt': 5198, 'ausloeser': 5199, 'krah': 5200, 'iss': 5201, 'bestimmter': 5202, 'fasching': 5203, 'indianer': 5204, 'einwandern': 5205, 'voraus': 5206, 'heliumballons': 5207, 'ermordet': 5208, 'rassistischen': 5209, 'angesehen': 5210, 'blickt': 5211, 'reifen': 5212, 'ey': 5213, 'neutral': 5214, 'verstoss': 5215, 'moin': 5216, 'tosender': 5217, 'regierungsprogramm': 5218, 'klugscheisser': 5219, 'mario': 5220, 'reschke': 5221, 'telefon': 5222, 'steuergeldern': 5223, 'bord': 5224, '180': 5225, 'sinnvoll': 5226, 'nichte': 5227, 'unwuerdig': 5228, 'nun': 5229, 'bananenrepublik': 5230, 'meister': 5231, 'richard': 5232, 'aufgaben': 5233, 'authentischen': 5234, 'toent': 5235, 'planet': 5236, 'regen': 5237, 'farce': 5238, 'sozialdemokratie': 5239, 'abgrund': 5240, 'realisieren': 5241, 'stephan': 5242, 'umzug': 5243, 'angeblicher': 5244, 'unwuerdige': 5245, 'krieges': 5246, 'grundgesetzes': 5247, 'logo': 5248, 'gewisses': 5249, 'bedeuten': 5250, 'musterbeispiele': 5251, 'nordischbynatur': 5252, 'hackenstad': 5253, 'sabine': 5254, 'leyen': 5255, 'verpruegeln': 5256, 'eidigt': 5257, 'veraerge': 5258, 'warf': 5259, 'wunderbare': 5260, 'unsaegliche': 5261, 'spaltung': 5262, 'massenmigration': 5263, 'bildungsnotstand': 5264, 'umve': 5265, 'stuerzenberger': 5266, 'europastatteu': 5267, 'verbesse': 5268, 'landkreis': 5269, 'bundessprecher': 5270, 'berechtigte': 5271, 'teilnehmen': 5272, 'feinstaub': 5273, 'niemehrspd': 5274, 'faul': 5275, 'sachen': 5276, 'weltfahrradtag': 5277, 'klo': 5278, 'gestopft': 5279, 'unveraende': 5280, 'liefe': 5281, 'wohnungsknappheit': 5282, 'fels': 5283, 'vermissen': 5284, 'meinungsaeusserungen': 5285, 'vollpfosten': 5286, 'oestereich': 5287, 'jedermanns': 5288, 'contest': 5289, 'beschraenkung': 5290, 'bundesbuerger': 5291, 'grundschulen': 5292, 'kopftuecher': 5293, 'kinderga': 5294, 'demokratischer': 5295, 'bundesstaat': 5296, 'gesetzgebung': 5297, 'australien': 5298, 'suizid': 5299, 'liberal': 5300, 'gezielt': 5301, 'dasschafi': 5302, 'angemeldet': 5303, 'bi': 5304, 'hday': 5305, 'diskutie': 5306, 'dir': 5307, 'heimlich': 5308, 'aufenthaltsrecht': 5309, 'belegen': 5310, 'krankheit': 5311, 'prominenz': 5312, 'apropos': 5313, 'lok': 5314, 'gewaltverbrechen': 5315, 'besseren': 5316, 'kontinent': 5317, 'neokolonialismus': 5318, 'afrikas': 5319, 'ossi': 5320, 'nachsehen': 5321, 'ratschlaege': 5322, 'schauspielern': 5323, 'lol': 5324, 'bissl': 5325, 'shiwa': 5326, 'waltraud': 5327, '93cecc58ff2e400': 5328, 'armleuchter': 5329, 'verdrehen': 5330, 'rassistische': 5331, 'derjenige': 5332, 'anschliessen': 5333, 'auftraege': 5334, 'ideologisch': 5335, 'user': 5336, 'heuteplus': 5337, 'zuviel': 5338, 'vorwerfen': 5339, 'damen': 5340, 'pferde': 5341, 'millionaer': 5342, 'polizeisachsen': 5343, 'vorfall': 5344, 'figuren': 5345, 'globalisten': 5346, 'klimadebatte': 5347, 'signal': 5348, 'mopo': 5349, 'ansage': 5350, 'absteiger': 5351, 'schwuler': 5352, 'matthiasmeisner': 5353, 'schmerz': 5354, 'mitteldeutsche': 5355, 'feststellung': 5356, 'nachwuchs': 5357, 'posten': 5358, 'volker': 5359, 'dramatisch': 5360, 'stoergroessem': 5361, '0siegfried': 5362, 'guidoheidkamp': 5363, 'vorstellung': 5364, 'guido': 5365, 'groenemeyer': 5366, 'gemeint': 5367, 'of': 5368, 'einladung': 5369, 'heulen': 5370, 'marius': 5371, 'einfache': 5372, 'sinnlose': 5373, 'zwangslaeufig': 5374, 'herrschaften': 5375, 'werkstattgespraech': 5376, '80er': 5377, 'kamran': 5378, 'aehnliches': 5379, 'schachtel': 5380, 'loesung': 5381, 'hambacherforst': 5382, 'wikinger': 5383, 'island': 5384, 'aerger': 5385, 'eingebracht': 5386, 'laege': 5387, 'hauptschulabschluss': 5388, 'verlogene': 5389, 'woanders': 5390, 'anthropogenen': 5391, 'argument': 5392, 'fritzvonsteiner': 5393, 'doktor': 5394, 'schlimme': 5395, 'kocht': 5396, 'absturz': 5397, 'klimareligion': 5398, 'germanen': 5399, 'beigetreten': 5400, 'meldemuschis': 5401, 'dienen': 5402, 'auffueh': 5403, 'sultan': 5404, 'allem': 5405, 'biedermann': 5406, 'brandstifter': 5407, 'voglerk': 5408, 'judenhass': 5409, 'judenhasser': 5410, 'verfassungsfeindlich': 5411, 'weihnachtsmaerkte': 5412, 'gewonnen': 5413, 'doppelspitze': 5414, 'hoehen': 5415, 'druecken': 5416, 'kamerun': 5417, 'unfaehige': 5418, 'queer': 5419, 'getrigge': 5420, 'machst': 5421, 'ulfposh': 5422, 'asylanten': 5423, 'schweinefleisch': 5424, 'verzehren': 5425, 'geliebt': 5426, 'anfangen': 5427, 'loechern': 5428, 'socken': 5429, 'herzlichst': 5430, 'landteil': 5431, 'mangel': 5432, 'geldstrafe': 5433, 'mittelmeer': 5434, 'diaet': 5435, 'doofen': 5436, 'gestrichen': 5437, '2013': 5438, 'eidigungsministerin': 5439, 'schoenste': 5440, 'ueblichen': 5441, 'extinction': 5442, 'bremer': 5443, 'einbildung': 5444, 'feier': 5445, 'bezirk': 5446, 'feste': 5447, 'mauerpark': 5448, 'beleidigen': 5449, 'entspannen': 5450, 'neubuerger': 5451, 'aufstieg': 5452, 'gegenseitig': 5453, 'ehmm': 5454, 'mascha': 5455, 'freiluftklapse': 5456, 'schuelersprecher': 5457, 'luftpumpe': 5458, 'zonenlurch': 5459, 'fahrradstaender': 5460, 'buergern': 5461, 'taschen': 5462, 'scheisst': 5463, 'staats': 5464, 'herzliche': 5465, 'niederoesterreich': 5466, 'helllichten': 5467, 'intensiv': 5468, 'spezies': 5469, 'schlaraffenland': 5470, 'bundesinnenministerium': 5471, 'foerderprogramm': 5472, 'juristisch': 5473, 'echter': 5474, 'tollem': 5475, 'amis': 5476, 'privat': 5477, 'gebe': 5478, 'wettervorhersage': 5479, 'findest': 5480, 'entspannt': 5481, 'terrasse': 5482, 'stadtrand': 5483, 'pause': 5484, 'dunklen': 5485, 'brueste': 5486, 'leer': 5487, 'graete': 5488, 'vergiss': 5489, 'noe': 5490, 'hautnah': 5491, 'schilder': 5492, 'vorsitz': 5493, 'bange': 5494, 'kunden': 5495, 'maedel': 5496, 'bewirbt': 5497, 'ring': 5498, 'brauch': 5499, 'kuendigt': 5500, 'fraktionschefin': 5501, 'uff': 5502, 'klaren': 5503, 'charlotte': 5504, 'roche': 5505, 'nackt': 5506, 'moderatorin': 5507, 'enkel': 5508, 'gefolgt': 5509, 'intelligenz': 5510, 'igitt': 5511, 'meldet': 5512, 'maria': 5513, 'absetzen': 5514, 'gekauft': 5515, 'quds': 5516, 'multi': 5517, 'kulti': 5518, 'parolen': 5519, 'kuds': 5520, 'landen': 5521, 'versicherung': 5522, 'geraumer': 5523, 'kontinuierlich': 5524, 'passenden': 5525, 'udo': 5526, 'reist': 5527, 'verschwenden': 5528, 'reduzieren': 5529, 'kochen': 5530, 'nachmachen': 5531, 'faelschen': 5532, 'rufend': 5533, 'wilde': 5534, 'merke': 5535, 'se': 5536, 'gespuelt': 5537, 'vorzugsstimme': 5538, 'verfahren': 5539, 'wirr': 5540, 'bachmann': 5541, 'psychiatrie': 5542, 'klimaluege': 5543, 'bestrafen': 5544, 'updayde': 5545, 'gesendet': 5546, 'elke': 5547, 'roll': 5548, 'menschenfreunde': 5549, 'sichern': 5550, 'verkommt': 5551, 'schwule': 5552, 'russlanddeutschen': 5553, 'dublin': 5554, 'sicht': 5555, 'durchlesen': 5556, 'guenther': 5557, 'passieren': 5558, 'bekaempfen': 5559, 'friedlichen': 5560, 'asylis': 5561, 'umweltzerstoerung': 5562, 'beeinflussen': 5563, 'gelaber': 5564, 'kids': 5565, 'faelschung': 5566, 'leichengift': 5567, 'zweite': 5568, 'geheime': 5569, 'apokalypse': 5570, 'radfahrer': 5571, 'zigeuner': 5572, 'brunei': 5573, 'strikt': 5574, 'steinigung': 5575, 'nytimes': 5576, 'dietrich': 5577, 'funken': 5578, 'hinfuehren': 5579, 'dummen': 5580, 'netzwerk': 5581, 'erfindet': 5582, 'populismus': 5583, 'radikale': 5584, 'judentum': 5585, 'weich': 5586, 'irland': 5587, 'tausend': 5588, 'wohnt': 5589, 'paradies': 5590, 'jerusalem': 5591, 'flagge': 5592, 'liberalen': 5593, 'netzfund': 5594, 'kuddelmuddel9': 5595, 'spandau': 5596, 'skalpieren': 5597, 'zweieinhalb': 5598, 'kranke': 5599, 'vereinzelt': 5600, 'geratet': 5601, 'taegliche': 5602, 'geile': 5603, 'anschlaegen': 5604, 'mobilitaet': 5605, 'bvg': 5606, 'hijab': 5607, 'uk': 5608, 'episoden': 5609, 'kalifornien': 5610, 'akbas': 5611, 'chaos': 5612, 'konstruktive': 5613, 'zwangsfinanzierung': 5614, 'peace': 5615, 'erwischt': 5616, 'nackten': 5617, 'fixie': 5618, 'gefaengnissen': 5619, 'untergebracht': 5620, 'bessermensch': 5621, 'aufpassen': 5622, 'verschiebung': 5623, 'weitergeht': 5624, 'grimmepreis': 5625, 'adoptie': 5626, 'finanzie': 5627, 'kasper': 5628, 'trolle': 5629, 'menschenmenge': 5630, 'nachwo': 5631, 'militaerische': 5632, 'relativierung': 5633, 'ares': 5634, 'rasse': 5635, 'politikerin': 5636, 'negroide': 5637, 'schatten': 5638, 'schrei': 5639, '08': 5640, 'extra': 5641, 'lied': 5642, 'strahlung': 5643, 'detaillie': 5644, 'ev': 5645, 'kla': 5646, 'ext': 5647, 'judensau': 5648, 'blamage': 5649, 'umfangreiche': 5650, 'alliie': 5651, 'kriegsverbrechen': 5652, 'braeutigam': 5653, 'moskau': 5654, 'ialisch': 5655, 'konkordat': 5656, 'wesen': 5657, 'wuenschenswe': 5658, 'mitschuldig': 5659, 'existie': 5660, 'gehst': 5661, 'ungefaehr': 5662, 'scheisser': 5663, 'ausgerechnet': 5664, 'erlass': 5665, 'umgebung': 5666, 'generalverdacht': 5667, 'aufkommen': 5668, 'zuhauf': 5669, 'richten': 5670, 'wowereit': 5671, 'heldt': 5672, 'first': 5673, 'unklarer': 5674, 'rueckschritt': 5675, 'lobbyisten': 5676, '44': 5677, 'siehst': 5678, 'aelterer': 5679, 'starkes': 5680, 'einparken': 5681, 'historiker': 5682, 'warschau': 5683, 'anlaesslich': 5684, 'juengsten': 5685, 'phaenomen': 5686, 'sky': 5687, 'permanent': 5688, 'unfaehigkeit': 5689, 'neujahrsempfang': 5690, 'klug': 5691, 'totalschaden': 5692, 'unfug': 5693, 'sicherheitslage': 5694, 'eingewande': 5695, 'staatsbeamten': 5696, 'teilt': 5697, 'geheimnis': 5698, 'bedingungen': 5699, 'gewissen': 5700, 'eigenstaendige': 5701, 'betrifft': 5702, 'einheimische': 5703, 'henryk': 5704, 'political': 5705, 'correctness': 5706, 'fluechtlings': 5707, 'uebersetzt': 5708, 'finanziellen': 5709, 'arbeitsagentur': 5710, 'verschaerfung': 5711, 'asylgesetze': 5712, 'instrumentalisierung': 5713, 'hasst': 5714, 'funktionaere': 5715, 'schlimmen': 5716, 'bueros': 5717, 'gehoere': 5718, 'ihresgleichen': 5719, 'krachend': 5720, 'eugen': 5721, 'ulrich': 5722, 'neuerdings': 5723, 'beziehungsweise': 5724, 'aehnlich': 5725, 'unverbindlichen': 5726, 'irgendetwas': 5727, 'inder': 5728, 'regionale': 5729, 'taetergruppe': 5730, 'negative': 5731, 'ngos': 5732, 'bekraeftigt': 5733, 'kulturzentrum': 5734, 'herrscher': 5735, 'staatskasse': 5736, 'rettungsschiffen': 5737, 'anlaufen': 5738, 'italienischer': 5739, 'gewaesser': 5740, 'achten': 5741, 'kommenden': 5742, 'zahlungen': 5743, 'spuerbar': 5744, 'september': 5745, 'sarrazins': 5746, 'einzuschlagen': 5747, 'thomas': 5748, 'kredite': 5749, 'europaeischer': 5750, 'hersee': 5751, 'symbolisie': 5752, 'totalitarismus': 5753, 'ermaechtigungsgesetz': 5754, 'anstrengung': 5755, 'hersteller': 5756, 'autoabsatz': 5757, 'wichtigsten': 5758, 'spaetere': 5759, 'glyphosat': 5760, 'orientieren': 5761, 'sinkt': 5762, 'tiefsten': 5763, 'gesunken': 5764, 'demoskopisch': 5765, 'volksherrschaft': 5766, 'abspaltung': 5767, 'internetzensur': 5768, 'mieterhoehung': 5769, 'bewegte': 5770, 'washington': 5771, 'grausiger': 5772, 'demographischer': 5773, 'lawrow': 5774, 'saemtlichen': 5775, 'gesetzesvorlagen': 5776, 'komplizie': 5777, 'absatz': 5778, 'einkommensteuergesetzes': 5779, 'magdeburg': 5780, 'schaefer': 5781, 'eifel': 5782, 'schleswig': 5783, 'holstein': 5784, 'invasion': 5785, 'enkontrolle': 5786, 'haustuer': 5787, 'wehren': 5788, 'digitale': 5789, 'andererseits': 5790, 'waffe': 5791, 'fotos': 5792, 'flickr': 5793, 'stefan': 5794, 'russlands': 5795, 'verlegt': 5796, 'rueckkehr': 5797, 'realpolitik': 5798, 'zentrum': 5799, 'lauren': 5800, 'southerns': 5801, 'treibt': 5802, 'branche': 5803, 'bizarr': 5804, 'spanische': 5805, 'veroeffentlichung': 5806, 'nachrichtensendung': 5807, 'touristen': 5808, 'heuschrecken': 5809, 'plagen': 5810, 'notenbanken': 5811, 'oecd': 5812, 'g20': 5813, 'einnahmequellen': 5814, 'erotik': 5815, 'olaf': 5816, 'mieten': 5817, 'kretschmer': 5818, 'els': 5819, 'auflage': 5820, 'nam': 5821, 'cia': 5822, 'informant': 5823, 'pd': 5824, 'frauenstreik': 5825, 'regt': 5826, 'solidaritaetszuschlags': 5827, 'moehre': 5828, 'rohstoffe': 5829, 'kryptowaehrungen': 5830, 'casinos': 5831, 'leitfaden': 5832, 'federal': 5833, 'reserve': 5834, '115': 5835, 'editorial': 5836, 'neunjaehriges': 5837, 'untersuchungshaft': 5838, 'umweltbundesamt': 5839, 'jahrestag': 5840, 'konzernmedien': 5841, 'loecher': 5842, 'entstehen': 5843, 'reter': 5844, 'gebildet': 5845, 'haeusern': 5846, 'jacke': 5847, 'leine': 5848, 'ruhr': 5849, 'legale': 5850, 'fette': 5851, 'gue': 5852, '2007': 5853, '2x': 5854, 'drunter': 5855, '2018in5words': 5856, 'miss': 5857, 'gegenstand': 5858, 'uebergibt': 5859, 'vi': 5860, 'kommunismus': 5861, 'neos': 5862, 'fun': 5863, 'placenta': 5864, 'appetit': 5865, 'huldigen': 5866, 'wahrnehmung': 5867, 'aussenministers': 5868, 'kognitive': 5869, 'oekologisch': 5870, 'amtes': 5871, 'dynamo': 5872, 'momente': 5873, 'bds': 5874, 'rosi': 5875, 'zeitmaschine': 5876, 'schmeissen': 5877, 'kuehlschrank': 5878, 'haltestelle': 5879, 'massaker': 5880, 'chinesischen': 5881, 'lebens': 5882, 'originalen': 5883, 'bekloppten': 5884, 'roma': 5885, 'prag': 5886, 'einreden': 5887, 'riskante': 5888, 'gelingen': 5889, 'bnd': 5890, 'hanning': 5891, 'basu': 5892, 'steuerentlastungen': 5893, 'konjunktur': 5894, 'leinwandheld': 5895, 'kay': 5896, 'nielsen': 5897, '1886': 5898, '1957': 5899, 'minimalistisch': 5900, 'nordisch': 5901, 'batterien': 5902, 'hoehere': 5903, '450': 5904, 'kastration': 5905, 'alabama': 5906, 'zurecht': 5907, 'dauernd': 5908, 'forsa': 5909, 'initiative': 5910, 'streetcoverage': 5911, 'machtinstrument': 5912, 'tiroler': 5913, 'brille': 5914, '117': 5915, 'allianz': 5916, 'geheilt': 5917, 'technische': 5918, 'leser': 5919, 'verqueere': 5920, 'theorien': 5921, 'kurzstreckenfluege': 5922, 'gery': 5923, 'austrian': 5924, 'airlines': 5925, 'robo': 5926, 'advisor': 5927, 'bullshit': 5928, 'schwung': 5929, 'oesterreichischen': 5930, 'tagesthemen': 5931, 'mutmasslichen': 5932, 'jobcenter': 5933, 'symbolbild': 5934, 'schaetzen': 5935, 'eigentor': 5936, 'fahrka': 5937, 'angeben': 5938, 'spitzenpolitiker': 5939, 'irgendwo': 5940, 'zeitungen': 5941, 'gucken': 5942, 'nikilauda': 5943, 'stuerzte': 5944, 'weltmeister': 5945, 'gestorben': 5946, 'daretodream': 5947, 'solltest': 5948, 'menge': 5949, 'schuessel': 5950, 'fcb': 5951, 'meisterschaft': 5952, 'bitter': 5953, 'vehement': 5954, 'abgibt': 5955, 'aufgegeben': 5956, 'balken': 5957, 'abfindung': 5958, 'ruecksicht': 5959, 'menschlich': 5960, 'hochtouren': 5961, 'kilometer': 5962, 'aufgebaut': 5963, '60m2': 5964, 'muellexpo': 5965, 'wiederkommen': 5966, 'sgeuropa': 5967, 'cl': 5968, 'auftritte': 5969, 'anschaut': 5970, 'fahrraeder': 5971, 'fahrer': 5972, 'nutzer': 5973, 'umfang': 5974, 'rechtswidrig': 5975, 'erforderlich': 5976, 'beratung': 5977, 'wehret': 5978, 'veraendern': 5979, 'spaltet': 5980, 'wuergen': 5981, 'angreifer': 5982, 'bielefeld': 5983, 'nutzung': 5984, 'molotowcocktails': 5985, 'erfuellen': 5986, 'raubueberfall': 5987, 'lena': 5988, 'dimitri': 5989, 'fragte': 5990, 'felgenreiniger': 5991, 'erneuerbare': 5992, 'benoetigen': 5993, 'menschenfeindlich': 5994, 'schrieb': 5995, 'langstreckenluisa': 5996, 'uscht': 5997, 'gefesselt': 5998, 'weinte': 5999, 'gletscher': 6000, 'seyran': 6001, 'hauptsaechlich': 6002, 'nohatespeech': 6003, 'nimm': 6004, 'vernichtungskrieg': 6005, 'beinahe': 6006, 'urwahl': 6007, 'kanzlerkandidaten': 6008, 'schlechten': 6009, 'achmed': 6010, 'paedophilie': 6011, 'muetter': 6012, 'loch': 6013, 'maedchens': 6014, 'waldboden': 6015, 'erdoberflaeche': 6016, 'elon': 6017, 'hirne': 6018, 'kacheln': 6019, 'zungen': 6020, '109': 6021, 'eventuell': 6022, 'aufklaerer': 6023, 'masern': 6024, 'impfung': 6025, 'nichtmehrmeindeutschland': 6026, '79': 6027, '110': 6028, 'gelebt': 6029, 'wilfuzius': 6030, 'besserung': 6031, 'spaten': 6032, 'verschwindens': 6033, 'bodenfrost': 6034, 'irgend': 6035, 'verschwunden': 6036, 'ohne': 6037, 'blatt': 6038, 'besonderen': 6039, 'ausmalen': 6040, 'aufgewacht': 6041, 'wil': 6042, 'investigativen': 6043, 'brauner': 6044, 'dunkler': 6045, 'hautfarbe': 6046, 'usererrorx': 6047, 'gewissenhaft': 6048, 'gewirkt': 6049, 'zusammenfassung': 6050, 'erstellt': 6051, 'dns': 6052, 'min': 6053, 'basie': 6054, 'arbeitslos': 6055, 'anklage': 6056, 'massen': 6057, 'antifaschisten': 6058, 'opposition': 6059, 'verschaerfen': 6060, 'daenische': 6061, 'grunde': 6062, 'untergehen': 6063, 'wachen': 6064, 'gebraucht': 6065, 'mangelnde': 6066, 'zurueckziehen': 6067, 'behandlung': 6068, 'erkrankt': 6069, 'arbeitslose': 6070, 'drecks': 6071, 'see': 6072, 'abstechen': 6073, 'mordversuch': 6074, 'wegziehen': 6075, 'fixen': 6076, 'kulturbereicherer': 6077, 'gepruegelt': 6078, 'seine': 6079, 'fehlender': 6080, 'ibikus31': 6081, 'seids': 6082, 'boeser': 6083, 'angriffe': 6084, 'bereuen': 6085, 'wachstum': 6086, 'prommi': 6087, 'frieden': 6088, 'substanz': 6089, 'geistesgestoe': 6090, 'zuschlagen': 6091, 'offizielle': 6092, 'sperren': 6093, 'zoepfe': 6094, 'ferkeldiskriminierung': 6095, 'entgegen': 6096, 'alicewo18626168': 6097, 'wieviele': 6098, 'oberschoeneweide': 6099, 'magen': 6100, 'gaben': 6101, 'aengste': 6102, 'aufbringen': 6103, 'staatssekretaerin': 6104, 'unternommen': 6105, 'bodyguards': 6106, 'vorgehen': 6107, 'konstruieren': 6108, 'stuttga': 6109, 'schaeuble': 6110, 'provokant': 6111, 'internationale': 6112, 'kuscheljustiz': 6113, 'titten': 6114, 'crime': 6115, 'kahrs': 6116, 'entledigen': 6117, 'wodurch': 6118, 'asylunterkunft': 6119, 'siche': 6120, 'albern': 6121, 'unbekannten': 6122, 'lila': 6123, 'bildkamera': 6124, 'erreichbar': 6125, 'ihnen': 6126, 'lebend': 6127, 'lebendig': 6128, 'ding': 6129, 'untersucht': 6130, 'kueche': 6131, 'nachzuschauen': 6132, 'qualitaets': 6133, 'qualitaetsmedien': 6134, '93': 6135, 'lust': 6136, 'ines': 6137, 'gerry': 6138, 'november': 6139, 'tueren': 6140, 'balkone': 6141, 'roseng': 6142, 'sicherheitspolizei': 6143, 'saepo': 6144, 'tuere': 6145, 'unterhaltungen': 6146, 'stoerend': 6147, 'esslingen': 6148, 'islamophobie': 6149, 'uebernahme': 6150, 'kuendigung': 6151, 'hauptkunde': 6152, 'linkoeping': 6153, 'vergewaltigte': 6154, 'nobileseba': 6155, 'geistiger': 6156, 'schwerster': 6157, 'mo': 6158, 'komponenten': 6159, 'fluechtlingskriminalitaet': 6160, 'trinkt': 6161, 'vegetarier': 6162, 'veganer': 6163, 'arbeitsplatz': 6164, '2500': 6165, '3000': 6166, 'mittelstaendische': 6167, 'filiale': 6168, 'weltoffenheit': 6169, 'drehen': 6170, 'koerperlich': 6171, 'liebereinenhund': 6172, 'aussichten': 6173, 'currywurst': 6174, 'spiess': 6175, 'gedoens': 6176, 'kobalt': 6177, 'kuendigungen': 6178, 'karstadt': 6179, 'schlechter': 6180, 'teenager': 6181, 'unerwa': 6182, '108': 6183, 'suedlaendisch': 6184, 'pflegefall': 6185, '145': 6186, 'anwohnern': 6187, 'siegburg': 6188, 'landwi': 6189, 'faselt': 6190, 'filialen': 6191, 'alpes': 6192, 'sverige': 6193, 'migrants': 6194, '9jaehriges': 6195, 'aehm': 6196, 'spontandemo': 6197, 'airbus': 6198, 'thiemdomi': 6199, 'atp': 6200, 'rafaelnadal': 6201, 'toleranter': 6202, 'krankenschein': 6203, 'ausgebildeten': 6204, 'schulze': 6205, 'umsetzung': 6206, 'wimbledon': 6207, 'daviscup': 6208, 'usopen': 6209, 'sendung': 6210, 'dunkelrot': 6211, 'parma': 6212, 'schinken': 6213, 'italy': 6214, 'fremdwo': 6215, 'gw': 6216, '01': 6217, 'kritischer': 6218, 'nutzt': 6219, 'unabh': 6220, '2024': 6221, 'europeanparliament': 6222, '2006': 6223, 'france': 6224, 'illegalimmigration': 6225, 'europeangreens': 6226, 'ische': 6227, 'abwae': 6228, 'genetisch': 6229, 'niederlande': 6230, 'veroeffentlichen': 6231, 'tektonische': 6232, 'eurasienplatte': 6233, 'geschaffen': 6234, 'hetzlichen': 6235, 'relotiusmedien': 6236, 'geheimgespraeche': 6237, 'anzufangen': 6238, 'machtdemonstration': 6239, 'schimpfwo': 6240, 'il': 6241, 'buergerschaftswahl': 6242, 'wahlkampfkoordinator': 6243, 'firmen': 6244, 'sebastianhampel': 6245, 'trend': 6246, 'switchangel1975': 6247, 'gyros': 6248, 'therealjoe': 6249, '1958': 6250, 'publizistikon': 6251, 'einzelhandel': 6252, 'bearleenair': 6253, 'waehnt': 6254, 'klaus90469': 6255, 'einen': 6256, 'sinnfreies': 6257, 'honks': 6258, 'lach': 6259, 'foffo': 6260, 'invictu53409591': 6261, 'schwierig': 6262, 'anbietet': 6263, 'weiber': 6264, 'ausdrucksweise': 6265, 'yuma': 6266, 'lein': 6267, 'wohne': 6268, 'darksun666': 6269, 'empfangs': 6270, 'vodaphon': 6271, 'o2': 6272, 'debitel': 6273, 'eigentuemer': 6274, 'rennicke': 6275, 'dom': 6276, 'richtete': 6277, 'bundespolizei': 6278, '380': 6279, 'stammten': 6280, 'serbien': 6281, '1europafueralle': 6282, 'bildhafteter': 6283, 'formulie': 6284, 'schlage': 6285, 'jusos': 6286, 'nospd': 6287, 'baseballschlaeger': 6288, 'niewiedersozialismus': 6289, 'freizeitgestaltung': 6290, 'mustafa': 6291, 'islamischem': 6292, 'alina': 6293, 'rasie': 6294, 'kahl': 6295, 'aehnlicher': 6296, 'wahlpa': 6297, 'beschmie': 6298, 'beschaedigen': 6299, 'anzuzuenden': 6300, 'tirolerin': 6301, 'knacken': 6302, 'automaten': 6303, 'waschanlagen': 6304, 'tankstellen': 6305, 'anhand': 6306, 'gefundener': 6307, 'bestellen': 6308, 'hochpreisige': 6309, 'paketshops': 6310, 'originalverpackte': 6311, 'laptops': 6312, 'bekleidung': 6313, 'somaliers': 6314, 'gewaltexzess': 6315, 'vernehmungsfaehig': 6316, 'erblindet': 6317, 'rief': 6318, 'kapazitaeten': 6319, 'eurowahl': 6320, 'kommissionspraesident': 6321, 'pappnasen': 6322, 'beteiligten': 6323, 'realem': 6324, 'empfinden': 6325, 'hinschauen': 6326, 'kommissar': 6327, 'prophet': 6328, 'augustus': 6329, 'bildungsdesaster': 6330, 'geschichtsklitterung': 6331, 'unsicher': 6332, 'propagandist': 6333, 'verunglimpft': 6334, 'ibrahima': 6335, 'ueberfaellt': 6336, 'schlimmeres': 6337, 'sabri': 6338, 'ben': 6339, 'propagandavideos': 6340, 'gereist': 6341, 'terrorcamp': 6342, 'gegenstaenden': 6343, 'ausgeruestet': 6344, 'geheimsache': 6345, 'derzeitiger': 6346, 'richtet': 6347, 'ungleichbehandlung': 6348, 'gesetzentwurf': 6349, 'vorgelegt': 6350, 'rechtsausschuss': 6351, 'anhoerung': 6352, '350': 6353, 'ermorde': 6354, 'journalie': 6355, 'bundesverdienstkreuz': 6356, 'korane': 6357, 'dessaurosslau': 6358, 'glaubensideologen': 6359, 'anliegen': 6360, 'bearbeiten': 6361, 'bildungsrepublik': 6362, 'geeignete': 6363, 'einbrechen': 6364, 'staatschutz': 6365, 'friedhoefe': 6366, 'gefuege': 6367, 'vllt': 6368, 'heimatschatzkiste': 6369, 'auslaendern': 6370, 'selbstbewusstsein': 6371, 'mut': 6372, 'riegel': 6373, 'vorzuschieben': 6374, 'dreistere': 6375, 'waehlerwillen': 6376, 'widersprechende': 6377, 'verliererkoalitionen': 6378, 'suboptimalem': 6379, 'fahrverhalten': 6380, 'zweier': 6381, 'bahrenfeld': 6382, 'altenwerder': 6383, 'hochwe': 6384, 'fuehrerscheine': 6385, 'gepluende': 6386, 'gehaltserhoehung': 6387, 'waeh': 6388, 'kassie': 6389, 'gnadenlos': 6390, 'mairpeda': 6391, 'vonseiten': 6392, 'radikalerer': 6393, 'thinkbto': 6394, 'tiefseher': 6395, 'altersverwir': 6396, 'machtgeiler': 6397, 'kaderschmied': 6398, 'herrschsucht': 6399, 'zusaetzlich': 6400, 'abfuehren': 6401, 'johnstefan27': 6402, 'herzlich': 6403, 'fl': 6404, 'polizeihamburg': 6405, 'akademie': 6406, 'activecityday': 6407, '365': 6408, 'hamburgactivecity': 6409, 'abzeichen': 6410, 'polizeiakademie': 6411, 'leichtathletikhalle': 6412, 'winterhude': 6413, 'streckenweise': 6414, 'mitfahrern': 6415, 'deutschlandtour': 6416, 'hauptstaedte': 6417, 'radler': 6418, 'hoehenmetern': 6419, 'kattenstiegsmuehle': 6420, 'schwerin': 6421, 'druecke': 6422, 'oberbuergermeisters': 6423, 'bekleidet': 6424, 'geringste': 6425, 'einzuschuechtern': 6426, 'befand': 6427, 'landgericht': 6428, 'bejaht': 6429, 'kuendigten': 6430, 'revision': 6431, 'einzulegen': 6432, 'eufeln': 6433, 'isdn': 6434, 'glasfaserkabel': 6435, 'kabelfernsehen': 6436, 'telefonie': 6437, 'computer': 6438, 'eiprogramme': 6439, 'missachtung': 6440, 'beutelsbacher': 6441, 'schlimmste': 6442, 'schiff': 6443, 'sorgte': 6444, 'vorwiegend': 6445, 'tunesische': 6446, 'geldern': 6447, 'osteuropaeischem': 6448, 'sprechende': 6449, 'geschwisterkinder': 6450, 'schulweg': 6451, 'seniors': 6452, 'kleinkind': 6453, 'balkonbruestung': 6454, 'straflos': 6455, 'linkslinken': 6456, 'markierung': 6457, 'protestierende': 6458, 'legitimer': 6459, 'spontanen': 6460, 'zugrunde': 6461, 'ausreichend': 6462, 'einsatzmitteln': 6463, 'gepaa': 6464, 'einkehren': 6465, 'bn': 6466, 'nachtfloh': 6467, 'herzlichkeit': 6468, 'shalom': 6469, 'patenschaft': 6470, 'hake': 6471, 'filme': 6472, 'burghardt': 6473, 'klaussner': 6474, 'bernhard': 6475, 'schlink': 6476, 'gleiches': 6477, 'merchandising': 6478, 'jeglicher': 6479, 'ganzem': 6480, 'phantasten': 6481, 'endziel': 6482, 'grapscher': 6483, 'fehlerfrei': 6484, 'eingriffe': 6485, 'freiheitsrechte': 6486, 'steuermehrbelastung': 6487, 'seinen': 6488, 'zueckte': 6489, 'aufbaute': 6490, 'polizeiangaben': 6491, 'bildungsabschluss': 6492, 'eingesper': 6493, 'atze030': 6494, 'gefrkamnitzer': 6495, 'hinterlaesst': 6496, 'verbrannte': 6497, 'aussenpolitisch': 6498, 'flurschaden': 6499, 'ideologen': 6500, 'aufgesprungen': 6501, 'aergern': 6502, 'fliessen': 6503, 'angelegt': 6504, 'bildungssystem': 6505, 'regionalbahn': 6506, 'badenbaden': 6507, 'rastatt': 6508, 'bewohnern': 6509, 'abgeordnetendiaeten': 6510, 'rekordhoch': 6511, 'polizeibeamter': 6512, 'musiker': 6513, 'gurfinkel': 6514, 'beschimpfen': 6515, 'judenfeindlich': 6516, 'vorfalls': 6517, 'eingekreist': 6518, 'zueckt': 6519, 'einhand': 6520, 'dazwischengehen': 6521, 'verletzten': 6522, 'einhandmesser': 6523, 'einschreitende': 6524, 'tschetschenischen': 6525, 'wachschutzauftraege': 6526, 'dienstgebaeude': 6527, 'mek': 6528, 'sensible': 6529, 'innere': 6530, 'lehrerzimmer': 6531, 'diskussionen': 6532, 'diesbezueglich': 6533, 'empfinde': 6534, 'alfred': 6535, 'nobel': 6536, 'rumdrehen': 6537, 'kriege': 6538, 'verliehen': 6539, 'verleihung': 6540, 'fleissig': 6541, 'sozialamt': 6542, 'lebensmittelspenden': 6543, '2900': 6544, 'einnahme': 6545, 'arabischsprachiger': 6546, 'zer': 6547, 'laerm': 6548, '48': 6549, 'irakerin': 6550, 'zozan': 6551, 'scheiden': 6552, 'eigenstaendiges': 6553, 'ehemann': 6554, 'dilgasch': 6555, 'kopfschuessen': 6556, 'hingerichtet': 6557, 'nunmal': 6558, 'amuesie': 6559, 'bankraeuber': 6560, 'fotofahndung': 6561, 'wirkendem': 6562, 'zettels': 6563, 'clanverdaechtige': 6564, 'toetungsdelikte': 6565, 'hreul': 6566, 'rechtsstaates': 6567, 'stiess': 6568, 'jahrigen': 6569, 'sehbehinde': 6570, 'sturz': 6571, 'erheblich': 6572, 'herausragende': 6573, 'schleimspur': 6574, 'schleimhofer': 6575, 'need': 6576, 'fuck': 6577, 'wuergte': 6578, 'vierstelligen': 6579, 'mitgliederzahlen': 6580, '6500': 6581, 'tuerkischstaemmigen': 6582, 'jonas': 6583, 'hermann': 6584, 'triberg': 6585, 'strikte': 6586, 'trennung': 6587, 'separaten': 6588, 'raeumen': 6589, 'gewaltaten': 6590, 'spektakel': 6591, 'reinkommen': 6592, 'hinein': 6593, 'abscheulich': 6594, 'massiven': 6595, 'steuererhoehung': 6596, 'einschraenkung': 6597, 'reisefreiheit': 6598, 'beschneidung': 6599, 'pressefreiheit': 6600, 'psychpathen': 6601, 'hagelvoll': 6602, 'moritz': 6603, 'arndt': 6604, 'greifswald': 6605, 'vielero': 6606, 'goetzentempel': 6607, 'religioesem': 6608, 'barbar': 6609, 'milde': 6610, 'orgeln': 6611, 'kirchenzerstoerer': 6612, 'verklagt': 6613, 'sitzungsleiterinnen': 6614, 'verfassungsgericht': 6615, 'schaendlichste': 6616, 'ur': 6617, 'schwiegervater': 6618, 'gefangenschaft': 6619, 'unserlandunserekultur': 6620, 'langstrumpf': 6621, 'gebrueder': 6622, 'loewenherz': 6623, 'unendliche': 6624, 'loenneberga': 6625, 'haensel': 6626, 'asterix': 6627, 'obelix': 6628, 'problematisch': 6629, 'paranoid': 6630, 'distanziere': 6631, 'egtl': 6632, 'unmoegliche': 6633, 'hergestellt': 6634, 'verzweifeln': 6635, 'fck': 6636, 'rotz': 6637, 'unsere': 6638, 'energiepolitik': 6639, 'hauptgefahr': 6640, 'biologische': 6641, 'ausbau': 6642, 'verschliessen': 6643, 'sigrid': 6644, 'staune': 6645, 'zusammenhang': 6646, 'bevoelkerungsexplosion': 6647, 'klimazerstoerung': 6648, 'gewaltiges': 6649, 'gruengue': 6650, 'unwetter': 6651, 'umland': 6652, 'sachschaeden': 6653, 'ernster': 6654, 'genauer': 6655, 'buchstaeblicher': 6656, 'zivilisatorische': 6657, 'fehlleistung': 6658, 'runterkommen': 6659, 'recherchen': 6660, 'irgendeiner': 6661, 'warenkreislauf': 6662, 'zurueckgefueh': 6663, 'wuerstchenbude': 6664, 'scheibchenweise': 6665, 'ruinie': 6666, 'ablenkung': 6667, 'traeumt': 6668, 'gigant': 6669, 'metier': 6670, 'gepraegte': 6671, 'froheweinachten': 6672, 'irrer': 6673, 'oekoreligion': 6674, 'einstudieren': 6675, 'mekka': 6676, 'zdfinfo': 6677, 'wohnheim': 6678, 'bespringt': 6679, 'betreuerin': 6680, 'vergegenwae': 6681, 'enjoy': 6682, 'kritischem': 6683, 'angeleitet': 6684, 'hellwach': 6685, 'merci': 6686, 'streng': 6687, 'risikoklasse': 6688, 'munter': 6689, 'munition': 6690, 'schalldaempfer': 6691, 'religionsausuebung': 6692, 'ghetto': 6693, 'modernes': 6694, 'nachhaltiges': 6695, 'zukuenftiges': 6696, 'aspern': 6697, 'otte': 6698, 'verlief': 6699, 'zwischenfaelle': 6700, 'dunkeldeutschland': 6701, 'rosslauer': 6702, 'eilig': 6703, 'veroeffentlichten': 6704, 'fahndungsaufruf': 6705, 'nigerer': 6706, 'andreag799': 6707, 'weichbirnen': 6708, 'gaestehaus': 6709, 'meseberg': 6710, 'unterhaltskosten': 6711, 'objektschutzkosten': 6712, 'ludwigsburg': 6713, 'ford': 6714, 'mondeo': 6715, 'westfalen': 6716, 'semi': 6717, 'anarchische': 6718, 'geschockte': 6719, 'widdersdorf': 6720, 'umfasst': 6721, 'ruhestoerung': 6722, 'rueckte': 6723, 'handschellen': 6724, 'doppel': 6725, 'beschmieren': 6726, 'stade': 6727, 'pogromstimmung': 6728, 'unseligste': 6729, 'tr': 6730, 'laz': 6731, 'angers': 6732, 'frustrie': 6733, 'mitbuerger': 6734, 'ablassen': 6735, 'professuren': 6736, 'wissenschaftsnation': 6737, 'sprichwoe': 6738, 'toto': 6739, 'totoundharry': 6740, 'mogelte': 6741, 'nemi': 6742, 'hassan': 6743, 'rekordverdaechtg': 6744, 'tel': 6745, '06131700': 6746, 'netzwerke': 6747, 'zustaendigkeitsbereich': 6748, 'polizeibehoerden': 6749, 'bezirke': 6750, 'schwerkrimineller': 6751, 'kindervergewaltiger': 6752, 'eignung': 6753, 'leitungsposten': 6754, 'antidiskriminierungsstelle': 6755, 'unbesetzt': 6756, 'eigenossin': 6757, 'nachbarstaaten': 6758, 'nothilfe': 6759, 'sozialhilfe': 6760, 'franken': 6761, 'riesenaufregung': 6762, 'kennzeichen': 6763, '8888': 6764, 'befuerchtungen': 6765, 'ostdeutscher': 6766, 'abdullatif': 6767, 'hamami': 6768, 'weinende': 6769, 'emojis': 6770, 'gekommene': 6771, 'arian': 6772, 'busbahnhof': 6773, 'cousin': 6774, 'ahmadiyya': 6775, 'jamaat': 6776, 'verkuendete': 6777, 'bauantrag': 6778, 'ausgewiesen': 6779, 'deutschland2019': 6780, 'fedidwgugl': 6781, 'liebestatthass': 6782, 'nohate': 6783, 'wegschneidet': 6784, 'kulturelleunterschiede': 6785, 'farbbeutel': 6786, 'ordination': 6787, 'manche': 6788, 'schwulenpaare': 6789, 'offenes': 6790, 'gegenden': 6791, 'tuerkischstaemmige': 6792, 'feindlichen': 6793, 'einstellungen': 6794, 'aufhalten': 6795, 'sinnbildhaft': 6796, 'ohnmacht': 6797, 'remmo': 6798, 'ordnet': 6799, 'fdpler': 6800, 'antisemitischer': 6801, 'feststellbar': 6802, 'diffamierendes': 6803, 'theaterstueck': 6804, 'osnabruecker': 6805, 'gesamtschule': 6806, 'erschiesst': 6807, 'vergasung': 6808, 'bundeswehrsoldaten': 6809, 'afghanische': 6810, 'erstechen': 6811, 'merkelwirkt': 6812, 'parkmanager': 6813, 'afrikanischen': 6814, 'drogendealern': 6815, 'muendlich': 6816, 'angemacht': 6817, 'nordbahnhof': 6818, 'kraetze': 6819, 'tuberkulose': 6820, 'malaria': 6821, 'durchreisenden': 6822, 'grassieren': 6823, 'mundschutz': 6824, 'gesundheitsministerium': 6825, 'abgestochene': 6826, 'erlag': 6827, 'afghanischen': 6828, 'libanesische': 6829, 'migrationsforscher': 6830, 'ralph': 6831, 'ghadban': 6832, 'drohbotschaften': 6833, 'islamwissenschaftler': 6834, 'libanesischem': 6835, 'fernsehsender': 6836, 'lbc': 6837, 'tweetet': 6838, 'streicht': 6839, 'segel': 6840, 'pruegelattacke': 6841, 'htl': 6842, 'ottakring': 6843, 'angegriffene': 6844, 'miesbach': 6845, 'afrikanerin': 6846, 'ellenbogen': 6847, 'handschuh': 6848, 'blutig': 6849, 'taeterin': 6850, 'aggressivitaet': 6851, 'kickboxer': 6852, 'liegendes': 6853, 'wehrloses': 6854, 'gezielten': 6855, 'anwaelte': 6856, 'totalen': 6857, 'rechtsstaats': 6858, 'totpruegler': 6859, 'muharrem': 6860, 'lesbisches': 6861, 'schlimmeren': 6862, 'lesbische': 6863, 'niedergestochen': 6864, 'abwies': 6865, 'ausschuetten': 6866, 'refugee': 6867, 'welcome': 6868, 'verkuenden': 6869, 'vorfahren': 6870, 'analphabeten': 6871, 'hochentwickeltes': 6872, 'vermutete': 6873, 'korrigieren': 6874, 'europeanelections2019': 6875, 'korrektiv': 6876, 'linksgruen': 6877, 'jaehrig': 6878, 'konservativ': 6879, 'abgestiegen': 6880, 'opas': 6881, 'verfuegen': 6882, 'vorhaben': 6883, 'schwierigen': 6884, 'herausfordernden': 6885, 'drueckt': 6886, 'erhaltung': 6887, 'envielfalt': 6888, 'autochoner': 6889, 'nationalstaates': 6890, 'draufgehen': 6891, 'zugunsten': 6892, 'mix': 6893, 'biodiversityday': 6894, 'jeglichen': 6895, 'bessermenschlichen': 6896, 'cafe': 6897, 'unibibliothek': 6898, 'organe': 6899, 'grassierenden': 6900, 'wahnsinns': 6901, 'raten': 6902, 'intrigante': 6903, 'schmierblaettchen': 6904, 'angepriesenen': 6905, 'deabonnieren': 6906, 'albanerin': 6907, 'albanische': 6908, 'verspueren': 6909, 'reinzuwaschen': 6910, 'bahlsen': 6911, 'dorisday': 6912, 'migrantinnen': 6913, 'frauenfo': 6914, 'schrittlichen': 6915, 'drogenproblem': 6916, 'flaechen': 6917, 'zuweist': 6918, 'markierungen': 6919, 'einrichten': 6920, 'betreffende': 6921, 'einfinden': 6922, 'rotrotgaga': 6923, 'bildete': 6924, 'stereotypen': 6925, 'werbekunden': 6926, 'real': 6927, 'inspiration': 6928, 'hashtags': 6929, 'twitternwiechebli': 6930, 'allumfassende': 6931, 'freechebli': 6932, 'konstanz': 6933, 'ausgerufen': 6934, 'nervige': 6935, 'luftverpestende': 6936, 'autoposer': 6937, 'reglementie': 6938, 'schwarzafrikanischen': 6939, 'asyltouristen': 6940, 'kirchentreppe': 6941, 'kampagnen': 6942, 'alexe1789': 6943, 'durchhaengen': 6944, 'produktivitaet': 6945, 'wolkenkukuksheim': 6946, 'silvesterknallerei': 6947, 'osterfeuer': 6948, 'zerlegen': 6949, 'zuenden': 6950, 'krawallen': 6951, 'tagderarbeit': 6952, 'gruendonnerstag': 6953, 'offizieller': 6954, 'abgetan': 6955, 'attacken': 6956, 'brandstiftungen': 6957, 'boote': 6958, 'netten': 6959, 'feministinnen': 6960, 'herholt': 6961, 'herlockt': 6962, 'alternativlos': 6963, 'ansatz': 6964, 'hirnforschung': 6965, 'yale': 6966, 'mikrozirkulation': 6967, 'synapsen': 6968, 'einsetzen': 6969, 'lebensunterhalt': 6970, 'fliessband': 6971, 'ueberfordernd': 6972, 'gespann': 6973, 'abgewiesene': 6974, 'abzuschieben': 6975, 'betaeubung': 6976, 'verstuemmelt': 6977, 'schaechten': 6978, 'peta': 6979, 'banhahal': 6980, 'bestimmtes': 6981, 'religioes': 6982, 'bedingt': 6983, 'maschinen': 6984, 'kueltursensibel': 6985, 'ignorante': 6986, 'uninformie': 6987, 'mitkriegen': 6988, 'belangen': 6989, 'ignoranz': 6990, 'eingedaemmte': 6991, 'krankheiten': 6992, 'rueckschrittliches': 6993, 'lieblingsklientel': 6994, 'geschenkt': 6995, 'eintrittska': 6996, 'neuschwansteinstein': 6997, 'neuschafeurabia': 6998, 'umbenannt': 6999, 'angestrichen': 7000, 'abgerissen': 7001, 'kittypunk7': 7002, 'punk': 7003, 'verlagen': 7004, 'manuskripte': 7005, 'auswaehlt': 7006, 'reicher': 7007, 'islamkritiker': 7008, 'angestrebte': 7009, 'hauptwaehlergruppe': 7010, 'vergraulen': 7011, 'baeckereien': 7012, 'gewaschen': 7013, 'kuerzungen': 7014, 'fluechtlingshilfen': 7015, 'klimaproblem': 7016, 'nnaschneider': 7017, 'kollektiv': 7018, 'verfueh': 7019, 'realitaetsabdriftende': 7020, 'einher': 7021, 'dekadentem': 7022, 'unschoenen': 7023, 'wirkungen': 7024, '4256': 7025, 'followern': 7026, 'khodrkida': 7027, '1996': 7028, '15jaehrige': 7029, '1981': 7030, 'geheiratet': 7031, 'juengerin': 7032, 'brauchtum': 7033, 'rosenmontag': 7034, 'karneval': 7035, 'nordafrika': 7036, 'islamisie': 7037, 'instabilisie': 7038, 'klimagoettin': 7039, 'guene': 7040, 'dauerwerbesendungs': 7041, 'gekennzeichnet': 7042, 'neubeginn': 7043, 'nationalstaaten': 7044, 'abschotten': 7045, 'nachbarlaender': 7046, 'dubai': 7047, 'maltas': 7048, 'muscat': 7049, 'rettungsaktion': 7050, 'naechstgelegene': 7051, 'hafen': 7052, 'umfassendes': 7053, 'zunehmender': 7054, 'gutglaeubige': 7055, 'entwaffnet': 7056, 'pilzmesser': 7057, 'kriminalisie': 7058, 'buntbuerger': 7059, 'entwaffnen': 7060, '210': 7061, 'riefen': 7062, 'malta': 7063, 'kutschie': 7064, 'alankurdi': 7065, 'fuerstlich': 7066, 'alimenieren': 7067, 'unterzubringen': 7068, 'illegaler': 7069, 'pferdestall': 7070, 'empoerungs': 7071, 'englisch': 7072, 'altem': 7073, 'begrabschte': 7074, 'huebschen': 7075, 'blonde': 7076, 'lufthansa': 7077, 'stewardess': 7078, 'richtigerweise': 7079, 'assoziieren': 7080, 'pp': 7081, 'neuseeland': 7082, 'eingesehen': 7083, 'dunkeln': 7084, 'kalten': 7085, 'atomenergie': 7086, 'messias': 7087, 'kram': 7088, 'monster': 7089, 'indigene': 7090, 'einzuhegen': 7091, 'auszuduennen': 7092, 'personell': 7093, 'gehirnmasse': 7094, 'hiergewesenen': 7095, 'schwaben': 7096, 'paerchen': 7097, 'grossstadt': 7098, 'europaeisch': 7099, 'niggurath84': 7100, 'stock': 7101, 'gelassen': 7102, 'african': 7103, 'guy': 7104, 'glasgow': 7105, 'autismus': 7106, 'nervig': 7107, 'annewilltalk': 7108, 'haenel': 7109, 'kh': 7110, 'anmassend': 7111, 'ueberlebte': 7112, 'tragischen': 7113, 'mobber': 7114, 'focus': 7115, 'tag24b': 7116, 'randinfo': 7117, 'fantasieangaben': 7118, 'autochonen': 7119, 'fingerabdruecke': 7120, 'umgebracht': 7121, 'erzfeinde': 7122, 'volksabstimmung': 7123, 'redakteure': 7124, '9000': 7125, 'gelenkte': 7126, 'staatspropaganda': 7127, 'selbigen': 7128, 'framingmanual': 7129, 'neuzuege': 7130, 'bestimmtem': 7131, 'veraende': 7132, 'raustraut': 7133, 'zukommen': 7134, 'weiche': 7135, 'zentimeter': 7136, 'einheitsradio': 7137, 'heimatlosen': 7138, 'suessen': 7139, 'verschmusten': 7140, 'hundejahre': 7141, 'verleben': 7142, 'prodogromania': 7143, 'younes': 7144, 'geklappt': 7145, 'rennt': 7146, 'holle1909': 7147, 'holunderhelmut': 7148, 'spitzensteuersatz': 7149, 'luegenmaerchen': 7150, 'aufzutischen': 7151, 'zutreffen': 7152, 'schlepperverein': 7153, 'greatesthits': 7154, 'waechst': 7155, 'naund10': 7156, 'sat': 7157, 'fruehstuecksfernsehen': 7158, 'realitaetsfern': 7159, 'erziehungsgedanken': 7160, 'wahlweise': 7161, 'eichhoernchen': 7162, 'wessarges': 7163, 'mittlinger': 7164, 'michaela': 7165, 'bogner': 7166, 'taubenhaeuser': 7167, 'tauben': 7168, 'rueckzugso': 7169, 'haenden': 7170, 'wilhelm': 7171, 'gedaechtniskirche': 7172, 'staatsbischof': 7173, 'vergisst': 7174, 'predigt': 7175, 'derbrainfucker': 7176, 'kokainkonsum': 7177, 'crystal': 7178, 'drogenbedingten': 7179, 'hirnschaeden': 7180, 'totalitaeren': 7181, 'schoeneres': 7182, 'haufen': 7183, 'abehobener': 7184, 'vips': 7185, 'chauvinismus': 7186, 'suedafrika': 7187, 'aggressiv': 7188, 'italienern': 7189, 'jaeger': 7190, 'einfahren': 7191, 'politikbetrieb': 7192, 'phrasengenerationsproduzent': 7193, 'klingbeils': 7194, 'huelse': 7195, 'entschuldigungsphrase': 7196, 'platzhirsch': 7197, 'baldrian': 7198, 'beruhigung': 7199, 'gemueter': 7200, 'blind': 7201, 'analogem': 7202, 'bundesebene': 7203, 'amtierenden': 7204, 'schamhaft': 7205, 'packen': 7206, 'suchten': 7207, 'spielten': 7208, 'lockvogel': 7209, 'linksrotgruenversifften': 7210, 'werkzeugen': 7211, 'zfd': 7212, 'neo': 7213, 'souveraenes': 7214, 'klopps': 7215, 'mike': 7216, 'krueger': 7217, 'lfc': 7218, 'liverpool': 7219, 'plakatie': 7220, 'landsmann': 7221, 'ueberzeugung': 7222, 'ska': 7223, 'chefs': 7224, 'aneinander': 7225, 'bauern': 7226, 'falschem': 7227, 'zeugnis': 7228, 'lokalisierung': 7229, 'bernsteinzimmers': 7230, 'buchstabentausch': 7231, 'algorithmen': 7232, 'rathausaffaere': 7233, 'hannovers': 7234, 'untreue': 7235, 'unterscheidet': 7236, 'attentaten': 7237, 'rotgruenversiftem': 7238, 'gendergaga': 7239, 'klimawetter': 7240, 'plastik': 7241, 'fluechtl': 7242, 'mexiko': 7243, 'wichtigere': 7244, 'industrie40': 7245, 'imperium': 7246, 'schrangs': 7247, 'wahlempfehlung': 7248, 'vereinba': 7249, '70jahregg': 7250, 'volksentscheid': 7251, 'volksentscheide': 7252, 'loeste': 7253, 'watson': 7254, 'dreissig': 7255, 'ausbruch': 7256, 'feuers': 7257, 'politikstube': 7258, 'abbestellen': 7259, 'abgabe': 7260, 'lebensbereich': 7261, 'strompreise': 7262, 'gotteshaeuser': 7263, 'glocke': 7264, 'gehaengt': 7265, 'nahmen': 7266, 'webde': 7267, 'conte': 7268, 'retweete': 7269, 'wohngebiete': 7270, 'angesiedelt': 7271, 'fang': 7272, 'kriminologe': 7273, 'pfeiffer': 7274, 'erhebt': 7275, 'betruegen': 7276, 'tugenden': 7277, 'kirchenfuersten': 7278, 'gesunde': 7279, 'ernaehrungstipps': 7280, 'bas': 7281, 'kast': 7282, 'brach': 7283, 'kuenstlerkirche': 7284, 'saint': 7285, 'sulpcie': 7286, 'olafgersemann': 7287, 'freitagsdemos': 7288, 'biblische': 7289, 'jesu': 7290, 'gleichauf': 7291, 'uhrsc': 7292, 'uhrwerder': 7293, 'una': 7294, 'uhrmoenchengladbach': 7295, 'erzielte': 7296, 'treffer': 7297, 'gelang': 7298, 'spielklasse': 7299, 'zwolle': 7300, 'assist': 7301, 'addo': 7302, 'gelsenkirchens': 7303, 'praechtigen': 7304, 'gruenderzeitfassaden': 7305, 'spiegeln': 7306, 'bochumer': 7307, 'gelsenkirchener': 7308, 'stadtteil': 7309, 'sparkassen': 7310, 'serioes': 7311, 'gemeinnuetzig': 7312, 'banker': 7313, 'herabgesunken': 7314, 'sparkasse': 7315, 'werra': 7316, 'meissner': 7317, 'banking': 7318, 'hillsborough': 7319, 'margaret': 7320, 'aspinall': 7321, 'suedens': 7322, 'leuchtturm': 7323, 'westens': 7324, 'sammlungspa': 7325, 'mandate': 7326, 'asylantenaufnahme': 7327, 'geisel': 7328, 'gegenbauer': 7329, 'neubau': 7330, 'grausen': 7331, 'praesidiumssitzung': 7332, 'dardai': 7333, 'jobsicherheit': 7334, 'allgemeiner': 7335, 'verbloedungs': 7336, 'vernichtungs': 7337, 'bevormungsmasche': 7338, 'eingemachte': 7339, 'rechtglaeubigen': 7340, 'geraeumt': 7341, 'turnhalle': 7342, 'herhalten': 7343, 'durften': 7344, 'strassenschuhen': 7345, 'abrissreif': 7346, 'passlos': 7347, 'reingelassen': 7348, 'madgeburg': 7349, 'schlug': 7350, 'zugbegleiterin': 7351, 'hure': 7352, 'taube': 7353, 'abzubeissen': 7354, 'govegan': 7355, 'ibes': 7356, 'bloeder': 7357, 'skorpion': 7358, 'stachel': 7359, 'wuenscht': 7360, 'lichen': 7361, 'redakteuren': 7362, 'bedraengt': 7363, 'ueberrollt': 7364, 'strassenbahnmitarbeiter': 7365, 'stiefvater': 7366, 'leonie': 7367, 'david': 7368, 'polizeiwache': 7369, 'aufhaelt': 7370, 'torgelow': 7371, 'neusprech': 7372, 'deluxe': 7373, 'sonnig': 7374, 'heisszeit': 7375, 'schneit': 7376, 'kaeltewelle': 7377, 'oe': 7378, 'autorennen': 7379, 'ausgehend': 7380, 'restdeutsche': 7381, 'privatjet': 7382, '165': 7383, 'medizinern': 7384, 'dolmetscher': 7385, 'nahm': 7386, 'befindlichkeit': 7387, 'diskriminie': 7388, 'lueg': 7389, 'wilkesteding': 7390, 'waldgaenger1401': 7391, 'wegrennen': 7392, 'spaeteren': 7393, 'nebelwirkerin': 7394, 'tinchentrallala': 7395, 'gruselig': 7396, 'versteh': 7397, 'wesentlich': 7398, 'aelter': 7399, 'loehne': 7400, 'hofes': 7401, 'hierbleiben': 7402, 'bundeshaushalt': 7403, 'ruecklage': 7404, 'zugefueh': 7405, 'feige': 7406, 'wucht': 7407, 'senats': 7408, 'verhandelt': 7409, 'willentlich': 7410, 'wissentlich': 7411, 'mitwirkung': 7412, 'jmd': 7413, 'gestochen': 7414, 'kopfstoss': 7415, 'tritte': 7416, 'nasenbeinbruch': 7417, 'platzwunde': 7418, 'abgeschobenen': 7419, 'zettel': 7420, 'zwischentueren': 7421, 'restdeutschen': 7422, 'keepfightingmichael': 7423, 'harmloseste': 7424, 'schreit': 7425, 'passant': 7426, 'weihnachtsmarkt': 7427, 'silvestergeboellere': 7428, 'gesundes': 7429, 'glueckliches': 7430, 'new': 7431, 'year': 7432, 'mitfinanzie': 7433, 'gewaehltes': 7434, 'braunes': 7435, 'kommentators': 7436, 'kameramann': 7437, 'gewaltbejahendem': 7438, 'hoodie': 7439, 'ruemmern': 7440, 'raketen': 7441, 'zusammenlegen': 7442, 'mond': 7443, 'rutsch': 7444, 'dinner': 7445, 'runterladen': 7446, 'armseligen': 7447, 'melder': 7448, 'eindruecke': 7449, 'schildern': 7450, 'beschneiden': 7451, 'persoenlichen': 7452, 'uralte': 7453, 'fassung': 7454, 'aladins': 7455, 'wunderlampe': 7456, 'alberne': 7457, 'langbae': 7458, 'saebeln': 7459, 'ton': 7460, 'prinzessin': 7461, 'ansieht': 7462, 'abgeschlagen': 7463, 'heribe': 7464, 'prantl': 7465, 'liebespaar': 7466, 'abgelaufen': 7467, 'dich': 7468, 'klinge': 7469, 'disch': 7470, 'ausgegrenzt': 7471, 'potenziellen': 7472, 'wachsamkeit': 7473, 'regierungskollegen': 7474, 'vorschlagen': 7475, 'gefaehrden': 7476, 'feuerschrift': 7477, 'untergangs': 7478, 'altar': 7479, 'hauskapelle': 7480, 'baust': 7481, 'unbedeutende': 7482, 'nagerkunst': 7483, 'auszustellen': 7484, 'furore': 7485, 'kunstkritikerin': 7486, 'hoere': 7487, 'ueberkommt': 7488, 'kel': 7489, 'verlaesslicher': 7490, 'torhueter': 7491, 'slapstick': 7492, 'einlage': 7493, 'slipeinlage': 7494, 'zurueckdenke': 7495, 'roman': 7496, 'bescheiden': 7497, 'emre': 7498, 'rettungsschiff': 7499, 'gerettete': 7500, 'stralsunder': 7501, 'alan': 7502, 'kurdi': 7503, 'ozliveboxing': 7504, 'schiffsname': 7505, 'generieren': 7506, 'entfernsteten': 7507, 'huete': 7508, 'wissensforum': 7509, 'natter': 7510, 'igstellung': 7511, 'fluechtlingsaufnahmestelle': 7512, '2022': 7513, 'geschraubt': 7514, 'telekom': 7515, 'magenta': 7516, 'sendernummer': 7517, 'beabohne': 7518, 'aera': 7519, 'abgesang': 7520, 'maritaneube': 7521, 'bauernpunktverluste': 7522, 'gewinnspiel': 7523, 'wiesenhof': 7524, 'werder': 7525, 'entipp': 7526, 'spieltag': 7527, 'benningrita': 7528, 'schwarzgelbe': 7529, 'ratz': 7530, 'ruebe': 7531, 'bewerber': 7532, 'genderbeauftragte': 7533, 'geaende': 7534, 'gefreut': 7535, 'nurdieafd': 7536, 'verroht': 7537, 'fanatischen': 7538, 'notredamefire': 7539, 'notredamecathedral': 7540, 'vaterlaendern': 7541, 'vereidigung': 7542, 'zoomt': 7543, 'polizeiberlinkarrierre': 7544, 'aufrufen': 7545, 'sensibilisieren': 7546, 'gibts': 7547, 'uebergriffig': 7548, 'denkst': 7549, 'sotipptderboss': 7550, 'autsch': 7551, 'duepie': 7552, 'ritsche': 7553, 'ratsche': 7554, 'luecke': 7555, 'ancelotti': 7556, 'star': 7557, 'uebt': 7558, 'skeptiker': 7559, 'kurierat': 7560, 'schiefgehen': 7561, 'bosbach': 7562, 'haargenau': 7563, 'luegendefinition': 7564, 'unkulturhintergruenden': 7565, 'hinausgeleitet': 7566, 'zuwanderern': 7567, 'ergeht': 7568, 'grundton': 7569, 'eienmanistreammedien': 7570, 'hervorgehoben': 7571, 'greenpeace': 7572, 'verkehrsministers': 7573, 'ueli': 7574, 'maurer': 7575, 'srf': 7576, 'rekordwe': 7577, 'berufung': 7578, 'bundesbank': 7579, 'text': 7580, 'jackson': 7581, 'kindergebu': 7582, 'vergangen': 7583, 'blendet': 7584, 'fca': 7585, 'drittes': 7586, 'reservat': 7587, 'shmul': 7588, 'weiszbrod': 7589, 'becker': 7590, 'kohfeldt': 7591, 'moenchen': 7592, 'prolongationsorgie': 7593, 'fahrplan': 7594, 'geruechte': 7595, 'thorgan': 7596, 'hazard': 7597, 'choupo': 7598, 'moting': 7599, 'beheben': 7600, 'freifah': 7601, 'aussereuropaeische': 7602, 'ueerhaupt': 7603, 'sozialversicherungspflichtigen': 7604, 'beschaeftigung': 7605, 'allermeisten': 7606, 'jg': 7607, 'arbeitswillen': 7608, 'strotzen': 7609, 'russlandverschwoerung': 7610, 'erfand': 7611, 'daemliche': 7612, 'analog': 7613, 'epedemie': 7614, 'einschneidend': 7615, 'lederhosen': 7616, 'theresa': 7617, 'may': 7618, 'galgenhumor': 7619, 'schockzustand': 7620, 'trollbrigade': 7621, 'aufheulte': 7622, 'dumpfen': 7623, 'erbrach': 7624, 'linksbloed': 7625, 'wahrzunehmen': 7626, 'holocaustopfer': 7627, 'unverschaemtheit': 7628, 'ermordung': 7629, 'haemischen': 7630, 'jubelnden': 7631, 'kommentaren': 7632, 'seinerzeit': 7633, 'indiskutabel': 7634, 'hielt': 7635, 'halbes': 7636, 'zeitweiliger': 7637, 'zurueckgekeh': 7638, 'vergebens': 7639, 'familienrechtlichen': 7640, 'bestimmungen': 7641, 'bspw': 7642, 'braunschweig': 7643, 'mietve': 7644, 'wohneinrichtungen': 7645, 'neuzuteilungen': 7646, 'erschwerend': 7647, 'hinzu': 7648, 'faenden': 7649, 'eudasproblem': 7650, 'schreitenden': 7651, 'herumzureissen': 7652, 'eingereist': 7653, 'konforme': 7654, 'verwarnt': 7655, 'troestet': 7656, 'mentalitaet': 7657, 'ohren': 7658, 'zwangsabgaben': 7659, 'bismarck': 7660, 'inneroesterreichischer': 7661, 'ebe': 7662, 'tataa': 7663, 'vorzeichen': 7664, 'diesjaehrigen': 7665, 'lautet': 7666, 'daempfer': 7667, 'geisterhand': 7668, 'durchschaubarer': 7669, 'hintergehen': 7670, 'privatsphaere': 7671, 'kriminelles': 7672, 'endes': 7673, 'ruhmesblatt': 7674, 'lehnen': 7675, 'gleichstellungspolitik': 7676, 'zielvereinbarungen': 7677, 'paternalistische': 7678, 'emanzipationspolitik': 7679, 'grundsatzprogramm': 7680, 'publizisten': 7681, 'existenz': 7682, 'schaftswunder': 7683, 'mercedes': 7684, 'mittelfristig': 7685, 'inn': 7686, 'berechtigung': 7687, 'ergebnisgleichheit': 7688, 'inholubek3': 7689, 'entsteht': 7690, 'paragraphen': 7691, 'niveaulosen': 7692, 'antidemokraten': 7693, 'ernsthaften': 7694, 'ausweicht': 7695, 'podiumsdiskussion': 7696, 'moderie': 7697, 'zutaten': 7698, 'staendiges': 7699, 'unterbrechen': 7700, 'gebruelle': 7701, 'zynisches': 7702, 'geklatsche': 7703, 'ikulieren': 7704, 'riesig': 7705, 'kuenftige': 7706, 'gemeinsamer': 7707, 'eapn': 7708, 'begruenden': 7709, 'vize': 7710, 'schwarzen': 7711, 'schlag': 7712, 'umgegangen': 7713, 'hingekriegt': 7714, 'jahn': 7715, 'regierungspropaganda': 7716, 'gebueh': 7717, 'dankemaassen': 7718, 'inknobbe': 7719, 'ausdruecklich': 7720, 'protestie': 7721, 'matthias': 7722, 'moosdorf': 7723, 'beleogen': 7724, 'gewerkschaft': 7725, 'schmeisst': 7726, 'eintrat': 7727, 'gewerkschaften': 7728, 'interessenve': 7729, 'retung': 7730, 'angestellten': 7731, 'gesinnungskontrolle': 7732, 'beutelchenbaer': 7733, '1917': 7734, 'kuba': 7735, 'pot': 7736, 'antibuergerliche': 7737, 'antikapitalistische': 7738, 'roehm': 7739, 'fluegel': 7740, 'goetz': 7741, 'aly': 7742, 'opaschowski': 7743, 'bekanntester': 7744, 'zukunftsforscher': 7745, 'ungeregelten': 7746, 'aufrechnen': 7747, 'ungleichgewichtigkeit': 7748, 'abgesetzt': 7749, 'duerftige': 7750, 'nachtwaechter': 7751, 'wochenrueckblick': 7752, 'antlitz': 7753, 'publicomag': 7754, 'prominent': 7755, 'zwischenleben': 7756, 'lebensrecht': 7757, 'death': 7758, 'entwaffnend': 7759, 'wehling': 7760, 'gebuehrenfrei': 7761, 'migrantenkarawane': 7762, 'rammboecke': 7763, 'polizeiketten': 7764, 'bpw16': 7765, 'untergangsszenarien': 7766, 'beansprucht': 7767, 'unfehlbarkeit': 7768, 'schmie': 7769, 'familienpolitik': 7770, 'mangelhaft': 7771, 'justizminister': 7772, 'duerch': 7773, 'hahn': 7774, 'kraehen': 7775, 'vereinte': 7776, 'eienkoalition': 7777, 'unterschrieben': 7778, 'danielad1972': 7779, 'noherrman': 7780, 'stuetze': 7781, 'jefferson': 7782, 'erschreckendes': 7783, 'ausmass': 7784, 'gutmenschlichen': 7785, 'mitschwimmt': 7786, 'basta': 7787, 'cicero': 7788, 'hendricks': 7789, 'eilinie': 7790, 'planwi': 7791, 'ideologieglaeubigkeit': 7792, 'zeugenstand': 7793, 'bundespraesidentenwahl': 7794, 'osze': 7795, '5mal': 7796, 'pic': 7797, 'ltwmv': 7798, 'agh16': 7799, 'penibel': 7800, 'falschparker': 7801, 'steuererklaerungen': 7802, 'twittere': 7803, 'zukunftskinder': 7804, 'vielter': 7805, 'kindeswohl': 7806, 'grosseinsatz': 7807, 'marburger': 7808, 'arztpraxis': 7809, 'rumgejammere': 7810, 'verbauen': 7811, 'schlussfolgerung': 7812, 'verschleudern': 7813, 'willigeres': 7814, 'gruenzeug': 7815, 'produziere': 7816, 'sputnik': 7817, 'unterschrieb': 7818, 'machtverlust': 7819, 'hannolerekraft': 7820, 'hassverzer': 7821, 'gaenze': 7822, 'barrikade': 7823, 'heben': 7824, 'hoechstrichter': 7825, 'hofburg': 7826, 'mittag': 7827, 'krone': 7828, 'kompromiss': 7829, 'herkunftsstaaten': 7830, 'sanierung': 7831, 'hinterhalt': 7832, 'steinwuerfe': 7833, 'pfalzgraf': 7834, 'schutzausstattung': 7835, 'praesenz': 7836, 'darmstaedter': 7837, 'heinerfest': 7838, 'staedtebund': 7839, 'experimenten': 7840, 'weltanschauliche': 7841, 'kruzifix': 7842, 'klassenzimmer': 7843, 'zwischenahn': 7844, 'emonnaie': 7845, 'delmenhorst': 7846, 'ooooch': 7847, 'nich': 7848, 'siggi': 7849, 'angehende': 7850, 'juristin': 7851, 'referendariat': 7852, 'wittenburg': 7853, 'kommunale': 7854, 'initiativen': 7855, 'proasyl': 7856, 'oktober': 7857, 'bonkekolja': 7858, 'bestochen': 7859, 'befangen': 7860, 'pakte': 7861, 'zuruecknehmen': 7862, 'klimaschutzplan': 7863, 'neubauten': 7864, 'oelheizung': 7865, 'fleischkonsum': 7866, 'halbieren': 7867, 'calais': 7868, 'geschaefte': 7869, 'unterkuenften': 7870, 'aktualisieren': 7871, 'beitrittsverhandlungen': 7872, 'entsetzt': 7873, 'fraktionbw': 7874, 'intransparenz': 7875, 'indexierungsverfahren': 7876, 'polizeichef': 7877, 'stringente': 7878, 'migrationsbegrenzung': 7879, 'zerfallen': 7880, '140': 7881, 'regelung': 7882, 'abschafft': 7883, 'geigen': 7884, 'fashionweek': 7885, 'morddrohung': 7886, 'charlie': 7887, 'hebdo': 7888, 'extremistisches': 7889, 'personenpotential': 7890, 'rechtsextr': 7891, 'linksextr': 7892, 'plaedie': 7893, 'seenot': 7894, 'schleusen': 7895, 'locken': 7896, 'toedliche': 7897, 'meer': 7898, 'aufenthaltstitel': 7899, 'erschleichen': 7900, 'lucasschoppe1': 7901, 'sozusagen': 7902, 'hatespeech': 7903, 'praesidentenamt': 7904, 'eilmeldung': 7905, 'ministerpraesidentin': 7906, 'untersuchungsausschuss': 7907, 'aufgebauschstes': 7908, 'manuelaschwesig': 7909, 'osteuropaeische': 7910, 'bayreuth': 7911, 'ausgegraben': 7912, 'ndr': 7913, 'islamzentrum': 7914, 'happens': 7915, 'laesterbacken': 7916, 'schiesst': 7917, 'preiserhoehungen': 7918, 'arbeitslosigkeit': 7919, 'wiedereinfuehrung': 7920, 'rigaer': 7921, 'campus': 7922, 'nachrichtenueberblick': 7923, 'kindermassenhaltung': 7924, 'teurer': 7925, 'manu': 7926, 'somancher': 7927, 'schnappschuss': 7928, 'betrachter': 7929, 'schwindelt': 7930, 'verschwoerung': 7931, 'verdrehungen': 7932, 'vergeblich': 7933, 'emotionale': 7934, 'gefaengnis': 7935, 'gewaltig': 7936, 'zeiger': 7937, 'wiesn': 7938, 'votum': 7939, 'totzuschweigen': 7940, 'huffpostde': 7941, 'sls': 7942, 'agh': 7943, 'cehzett': 7944, 'eilisten': 7945, 'parlamente': 7946, 'quote': 7947, 'symptomatisch': 7948, 'einschraenken': 7949, 'gutmenschenterror': 7950, 'richterliche': 7951, 'gesetzen': 7952, 'buergers': 7953, 'oberste': 7954, 'prioritaet': 7955, 'unfassbarer': 7956, 'treuebruch': 7957, 'rueckhaltlose': 7958, 'entschaedigung': 7959, 'anreize': 7960, 'hyperinflation': 7961, 'superfluechtling': 7962, '50k': 7963, '150k': 7964, 'leistungsschwach': 7965, 'lisa': 7966, 'eroeffnete': 7967, 'digital': 7968, 'pauschalverdacht': 7969, 'unbegruendet': 7970, 'zurueckgezeigt': 7971, 'freiburgbrennt': 7972, 'schlupfloch': 7973, 'gefangenen': 7974, 'versechsfacht': 7975, 'newsrepublicde': 7976, 'fluechtlingsspo': 7977, 'projekte': 7978, 'glaubwuerdigkeit': 7979, 'enorm': 7980, 'abzustimmen': 7981, 'prophetische': 7982, '1986': 7983, 'sitzung': 7984, 'identity': 7985, 'angehoeren': 7986, 'vizepraesidenten': 7987, 'identityanddemocracy': 7988, 'eucommonsense': 7989, 'ersticken': 7990, 'stille': 7991, 'genugtuung': 7992, 'diplomatie': 7993, 'ungerechtfe': 7994, 'igte': 7995, 'vollkommen': 7996, 'asozial': 7997, 'weigerung': 7998, 'oekowahnsinn': 7999, 'nett': 8000, 'rettungsschirm': 8001, 'vorhandene': 8002, 'zeitnah': 8003, 'liter': 8004, 'ruhig': 8005, 'verbreiten': 8006, 'climatestrike': 8007, 'adac': 8008, 'adacrallye': 8009, 'weltwoche': 8010, 'koeppelroger': 8011, 'dietagesstimme': 8012, 'neigung': 8013, 'politjournalisten': 8014, '2300': 8015, 'vollstaendig': 8016, 'misslungen': 8017, 'spielregeln': 8018, 'eitaktische': 8019, 'bremerhaven': 8020, 'letze': 8021, 'ausgezaehlt': 8022, 'aufsicht': 8023, 'motzen': 8024, 'liberalisieren': 8025, 'maerkte': 8026, 'ehrgeiz': 8027, 'abgehaengt': 8028, 'schwerpunkt': 8029, 'schlagkraeftige': 8030, 'einsatzbereite': 8031, 'truppe': 8032, 'hochrechnungen': 8033, 'dankte': 8034, 'wahlkaempfern': 8035, 'unterstuetzern': 8036, 'gegebenen': 8037, 'voraussetzungen': 8038, 'erzielt': 8039, 'kloppo': 8040, 'nationalmannschaft': 8041, 'unaufhaltsame': 8042, 'bundes': 8043, 'gabelfruehstueck': 8044, 'nahezu': 8045, 'unausweichlich': 8046, '1730': 8047, 'phoenix': 8048, 'genossinnen': 8049, 'personalie': 8050, 'andreanahlesspd': 8051, 'drjoeweinga': 8052, 'ausloesen': 8053, 'absteigenden': 8054, 'zugewande': 8055, 'sympathietraeger': 8056, 'ralle': 8057, 'angekuendigten': 8058, 'rueckzug': 8059, 'erfolgsweg': 8060, 'deutliches': 8061, 'peinliche': 8062, 'unehrliche': 8063, 'sammlung': 8064, 'verharmlosungen': 8065, 'propagandapresse': 8066, 'andernach': 8067, 'auswanderungsgrund': 8068, 'fugen': 8069, 'geratene': 8070, 'euwahl20': 8071, 'bangt': 8072, 'quittung': 8073, 'maximalen': 8074, 'rb': 8075, 'verusoss1': 8076, 'zun': 8077, 'zuhoeren': 8078, 'ungeil': 8079, 'huetter': 8080, 'fliegt': 8081, 'belastung': 8082, 'sozialstaates': 8083, 'staerker': 8084, 'geltender': 8085, 'rocken': 8086, 'schlamassel': 8087, 'eingebrockt': 8088, 'draufgepackt': 8089, 'karrierist': 8090, 'versetzt': 8091, 'befoerdern': 8092, 'nordhessen': 8093, 'wahnsinnig': 8094, 'naturschutzpa': 8095, 'ausgetreten': 8096, 'nachbarin': 8097, 'erholung': 8098, 'kuenftigen': 8099, 'kinderbuchautor': 8100, 'organspender': 8101, 'organsuchender': 8102, 'fatal': 8103, 'respektie': 8104, 'krimineller': 8105, 'verwirkte': 8106, 'morden': 8107, 'reflexa': 8108, 'remigration': 8109, 'resettlement': 8110, 'umsiedlungsprogramme': 8111, 'gebot': 8112, 'erschlaegt': 8113, 'geliebte': 8114, 'windlicht': 8115, 'liane': 8116, 'aeusseren': 8117, 'gewaltsamen': 8118, 'tods': 8119, 'yara': 8120, 'amadeuantonio': 8121, 'hochkriminelles': 8122, 'tumulte': 8123, 'saal': 8124, 'ardmoma': 8125, 'pfanne': 8126, 'offiziellen': 8127, 'sexualdelikte': 8128, '24mal': 8129, 'sexstraftaten': 8130, 'geknallt': 8131, 'bleibe': 8132, 'wellen': 8133, 'zusammenbricht': 8134, 'o2de': 8135, 'o2entdecken': 8136, 'gutschein': 8137, 'einloesen': 8138, 'zalando': 8139, 'gesinngsdruck': 8140, 'unterwirft': 8141, 'internes': 8142, 'polizeiprotokoll': 8143, 'budspencer': 8144, 'burka': 8145, 'heiratet': 8146, 'ausgeben': 8147, 'qualitaetsjournalismus': 8148, 'asiabibi': 8149, 'politisches': 8150, 'gewaehren': 8151, 'weggeworfen': 8152, 'onlinemagazin': 8153, 'bischen': 8154, 'hochverrat': 8155, 'unterbringung': 8156, 'zumutbar': 8157, 'trophaee': 8158, 'einmauern': 8159, 'geschritten': 8160, 'uschen': 8161, 'inteutone': 8162, 'clydevpg': 8163, 'mediterrnewsnet': 8164, 'bernsteinzimmer': 8165, 'nailastrasse': 8166, 'neuperlach': 8167, 'laermschutz': 8168, 'mirgations': 8169, 'experimente': 8170, 'franzoesisches': 8171, 'georgisches': 8172, 'imams': 8173, 'handschlag': 8174, '230': 8175, 'naechten': 8176, 'lorenzmaroldt': 8177, 'verfluchen': 8178, 'justiziar': 8179, 'verfuegung': 8180, 'verzehnfacht': 8181, 'bejubelte': 8182, 'ergehen': 8183, 'arafat': 8184, 'wuerdige': 8185, 'entwe': 8186, 'restles': 8187, 'reschkes': 8188, 'regierungssprecher': 8189, 'dasselbe': 8190, 'beruht': 8191, 'medienberichten': 8192, 'bundesamts': 8193, 'deutschlandkurier': 8194, 'weinstrasse': 8195, 'maxotte': 8196, 'says': 8197, 'eingeladene': 8198, 'krall': 8199, 'hambach': 8200, 'hierzulande': 8201, 'seltenen': 8202, 'akkus': 8203, 'weltfrieden': 8204, 'diversen': 8205, 'schwerpunktsetzung': 8206, 'kurzfristige': 8207, 'verhaltensaenderung': 8208, 'bewirkt': 8209, 'bestaendigkeit': 8210, 'ozonloch': 8211, 'abarbeiten': 8212, 'erinnere': 8213, 'kommunal': 8214, 'schulung': 8215, 'gewaehlten': 8216, 'mandatstraeger': 8217, 'schulungszentren': 8218, 'referenten': 8219, 'mandatstraegern': 8220, 'rlpnews': 8221, 'mdi': 8222, 'polizeibeamte': 8223, 'ordnungsdienst': 8224, 'einheitlichkeit': 8225, 'experiment': 8226, 'probieren': 8227, 'wandern': 8228, 'familienministerium': 8229, 'fuerchte': 8230, 'zettelchen': 8231, 'respektieren': 8232, 'gastland': 8233, 'auskunft': 8234, 'dramatischer': 8235, 'leistungsempfaenger': 8236, 'ministerin': 8237, 'rheinlandpfalz': 8238, 'gestattet': 8239, 'tie': 8240, 'ranspo': 8241, 'nordarika': 8242, 'ad': 8243, 'acta': 8244, 'instanz': 8245, 'aufspielt': 8246, 'anstand': 8247, 'sachlichkeit': 8248, 'eigenschaft': 8249, 'unwaehlbar': 8250, 'grokoweg': 8251, 'sonderschichten': 8252, 'antichristlich': 8253, 'zutiefst': 8254, 'klimakanzlerin': 8255, 'klimaziele': 8256, 'verfehlen': 8257, 'haushalte': 8258, 'strompreisen': 8259, 'strategische': 8260, 'teamfm': 8261, 'reise': 8262, 'wahlergebnisse': 8263, 'migrantenpa': 8264, 'big': 8265, 'duisburger': 8266, 'stimmbezirken': 8267, 'alarmsignal': 8268, 'kirchensteuern': 8269, 'woelki': 8270, 'verfassungsfeind': 8271, 'katarinabarley': 8272, 'einitiative': 8273, 'realist': 8274, 'raeumung': 8275, 'verfaelscher': 8276, 'schaebiger': 8277, 'sturmgeschuetz': 8278, 'geschossen': 8279, 'haltungsjournalismus': 8280, 'angemeldete': 8281, 'wahlkampfveranstaltung': 8282, 'bespuckt': 8283, 'redner': 8284, 'niedergebruellt': 8285, 'gejohlt': 8286, 'raeumte': 8287, 'fuehrende': 8288, 'wahlversammlung': 8289, 'fraktionsvorsitzender': 8290, 'geplatzt': 8291, 'abgefueh': 8292, 'empfahl': 8293, 'hausrecht': 8294, 'gebrauch': 8295, 'koepperlin': 8296, 'vollzugsbeamte': 8297, 'verwiesen': 8298, 'uberheblichkeit': 8299, 'monstranz': 8300, 'pruefungsstoff': 8301, 'abitur': 8302, 'irritie': 8303, 'lauf': 8304, 'ochs': 8305, 'infostaende': 8306, 'freitagsdemo': 8307, 'zugspitze': 8308, 'maischnee': 8309, 'rekord': 8310, 'mittwochmorgen': 8311, 'alpstein': 8312, 'gemessen': 8313, 'wunschkandidat': 8314, 'fernsehfuerstin': 8315, 'kaigniffke': 8316, 'grosseltern': 8317, 'verwandten': 8318, 'wahlkabine': 8319, 'verwandte': 8320, 'arbeitskollegen': 8321, 'souveraenitaet': 8322, 'eue': 8323, '114': 8324, 'niederlaendischer': 8325, 'verharmlosung': 8326, 'zuwandererkriminalitaet': 8327, 'unvorstellbar': 8328, 'wahlkampfabend': 8329, 'juengste': 8330, 'kreisverband': 8331, 'mobilisie': 8332, 'agieren': 8333, 'veraenderungen': 8334, 'rheinzeitung': 8335, 'rz': 8336, '2700': 8337, 'drucken': 8338, 'sinkenden': 8339, 'auflagen': 8340, 'verleger': 8341, 'verwandt': 8342, 'roterfilz': 8343, 'ted': 8344, 'schliesse': 8345, 'filz': 8346, 'kenntlichkeit': 8347, 'braesige': 8348, 'gouvernantentum': 8349, 'konstruktion': 8350, 'desinformie': 8351, 'spitzenkandidaten': 8352, 'unverstaendlichen': 8353, 'phrasen': 8354, 'spitzenkandidatin': 8355, 'listenplaetze': 8356, 'kreistag': 8357, 'goettern': 8358, 'souveraener': 8359, 'studio': 8360, 'bank': 8361, 'ehrlicher': 8362, 'anstaendiger': 8363, 'verstrickung': 8364, 'zufuegen': 8365, 'besiegen': 8366, 'plakatieren': 8367, 'heppenheim': 8368, 'abgang': 8369, 'verfassungstag': 8370, 'plenarsaal': 8371, 'halbmondes': 8372, 'regenbogens': 8373, 'homo': 8374, 'transfeindlichkeit': 8375, 'stellv': 8376, 'fraktionsvorsitzenden': 8377, 'sozialwohnungen': 8378, 'volksvermoegen': 8379, 'ueberregulierung': 8380, 'vergesellschaftung': 8381, 'pures': 8382, 'gift': 8383, 'wettbewerbsfaehige': 8384, 'innovative': 8385, 'volkswi': 8386, 'jusosrlp': 8387, 'kollektivismus': 8388, 'distanzieren': 8389, 'wohnnot': 8390, 'fm': 8391, '1998': 8392, 'heimstaette': 8393, 'bestand': 8394, 'plenum': 8395, 'schwachen': 8396, 'schaufensterantrag': 8397, 'lr': 8398, 'ultralinken': 8399, 'friedensaktivisten': 8400, 'musikveranstaltungen': 8401, 'aktiver': 8402, 'einrichtungen': 8403, 'musikfestivals': 8404, 'durchgefueh': 8405, 'haemmer': 8406, 'tatwerkzeuge': 8407, 'iris': 8408, 'nieland': 8409, 'unzuverlaessigkeit': 8410, 'check': 8411, 'patrick': 8412, 'larspatrickberg': 8413, 'gruendungsmitglied': 8414, 'israels': 8415, 'premier': 8416, 'angelegenheiten': 8417, 'ngo': 8418, 'gelegentlich': 8419, 'erkenntnisgewinn': 8420, 'pressegespaech': 8421, 'joachimpaul': 8422, 'meisterausbildung': 8423, 'kostenfrei': 8424, 'moratorium': 8425, 'kommunalreformen': 8426, 'muslima': 8427, 'erin': 8428, 'leventz': 8429, 'mainusch': 8430, 'asta': 8431, 'hausen': 8432, 'gammler': 8433, 'besetzer': 8434, 'treffpunkt': 8435, 'zustaendiger': 8436, 'aktivitaeten': 8437, 'dichter': 8438, 'denker': 8439, 'einmal': 8440, 'mathe': 8441, 'anregung': 8442, 'abwaehlen': 8443, 'menschenbild': 8444, 'herkunftslaendern': 8445, 'abschwung': 8446, 'dynamik': 8447, 'herausforderung': 8448, 'begegnen': 8449, 'verbindlichen': 8450, 'laenderuebergreifenden': 8451, 'mindestpersonalschluessel': 8452, 'pflegepersonal': 8453, 'entlasten': 8454, 'internationalen': 8455, 'geheule': 8456, 'mangelt': 8457, 'zutreffender': 8458, 'fachkraefteeinwanderungsgesetz': 8459, 'anzeiger': 8460, 'neuwied': 8461, 'magniz': 8462, 'daraufhin': 8463, 'zuschauer': 8464, 'runterspielen': 8465, 'politbarometer': 8466, 'tapfere': 8467, 'heimatkreis': 8468, 'kreistagskandidatin': 8469, 'myk': 8470, 'schier': 8471, 'unaufhaltsam': 8472, 'gastgeber': 8473, 'anzupassen': 8474, 'geschaendete': 8475, 'klaessler': 8476, 'religionsunterrichts': 8477, 'udestedt': 8478, 'religionslehrerin': 8479, 'gebets': 8480, 'teilzunehmen': 8481, 'parlamentarisch': 8482, 'aufarbeiten': 8483, 'gesunden': 8484, 'widrigen': 8485, 'sturmfeste': 8486, 'widerstands': 8487, 'patriotisches': 8488, 'flext': 8489, 'rasant': 8490, 'regierungskritiker': 8491, 'louecrit': 8492, 'louisa': 8493, 'schuetzenswe': 8494, 'umher': 8495, 'ausreisepflichtig': 8496, 'groesstes': 8497, 'liebeshochzeit': 8498, 'konve': 8499, 'schlesien': 8500, 'pommern': 8501, 'ostpreussen': 8502, 'geraubt': 8503, 'verbrecherraere': 8504, 'gehoerend': 8505, 'eschlange': 8506, 'kanzlei': 8507, 'scheidungsanwaltes': 8508, 'christiane': 8509, 'heiraten': 8510, 'unwetterwarnung': 8511, 'dwd': 8512, 'gewitter': 8513, 'starkregen': 8514, 'starkwind': 8515, 'igsuppen': 8516, 'sozialministerium': 8517, 'entschaerft': 8518, 'liesse': 8519, 'verschlusssachen': 8520, 'einlullen': 8521, 'geschnitten': 8522, 'dranbleiben': 8523, 'horn': 8524, 'washingtonallee': 8525, 'bisherigem': 8526, '61': 8527, '040': 8528, '4286': 8529, '56789': 8530, 'jedi': 8531, 'knight': 8532, 'jo': 8533, 'derzeitigen': 8534, 'west': 8535, 'zurzeizt': 8536, 'heroisches': 8537, 'geldbeutel': 8538, 'vorwae': 8539, 'rueckwae': 8540, 'staatsratsvorsitzender': 8541, 'friedliebende': 8542, 'arbeiterklasse': 8543, 'weisheit': 8544, 'glanzzeiten': 8545, 'purojunkie': 8546, 'arbeitende': 8547, 'angeschmie': 8548, 'zusammenschluss': 8549, 'lithiumabbau': 8550, 'kinderlosen': 8551, 'ueberfluessige': 8552, 'dreilaender': 8553, 'einsicht': 8554, 'zugelegt': 8555, 'raetsel': 8556, 'behandeln': 8557, 'grill': 8558, 'herwenden': 8559, 'puren': 8560, 'selbstverletzung': 8561, 'kaninchenbau': 8562, 'effekt': 8563, 'gewarnt': 8564, 'angeklickt': 8565, 'sumpf': 8566, 'desinformation': 8567, 'gottfried': 8568, 'schlimmsten': 8569, 'puetz': 8570, 'asche': 8571, 'haupt': 8572, 'rechtspopulismus': 8573, 'seltsame': 8574, 'herumbruellen': 8575, 'hochagressiv': 8576, 'gegendemonstranten': 8577, 'vereinigten': 8578, 'parlamenten': 8579, 'bundesregierungen': 8580, 'unbehelligt': 8581, 'nohra': 8582, 'brandnerunterwegs': 8583, 'nationelles': 8584, 'anderseits': 8585, 'jenigen': 8586, 'islamistischen': 8587, 'hochgefaehrder': 8588, 'waffenbesitz': 8589, 'einbruch': 8590, 'geduldeter': 8591, 'asylant': 8592, 'failedstate': 8593, 'hinbekommen': 8594, 'gesamtdeutsche': 8595, 'klimanotstands': 8596, 'oekodiktatur': 8597, 'reiherstieg': 8598, 'hauptdeich': 8599, 'engl': 8600, 'fliegerbombe': 8601, 'feuerwehrhh': 8602, 'sperrradius': 8603, 'warnradius': 8604, 'nachgereicht': 8605, 'festgelegt': 8606, 'verstaendigen': 8607, 'wechselmodell': 8608, 'leitbild': 8609, 'streitfall': 8610, 'gemeinsame': 8611, 'idtcdiese': 8612, 'noetigung': 8613, 'blockierer': 8614, 'arbeitgeber': 8615, 'feststellen': 8616, 'nachfolgend': 8617, 'schadensersatz': 8618, 'herfallen': 8619, 'greueltaten': 8620, 'hinnehmen': 8621, 'stpauli': 8622, 'pferdemarkt': 8623, 'ueberfall': 8624, 'pauli': 8625, 'lagerstrasse': 8626, '02': 8627, 'neuenfelder': 8628, 'naeherer': 8629, 'betrachtung': 8630, 'gegenentwurf': 8631, 'lautsprecher': 8632, 'voaaa9obf9w': 8633, 'versammlungen': 8634, 'wohnzimmer': 8635, 'rumbruellen': 8636, 'privatsache': 8637, 'zerreissprobe': 8638, 'begleitet': 8639, 'eichef': 8640, 'sozialisten': 8641, 'vorgestellten': 8642, 'positionspapier': 8643, 'positionie': 8644, 'hagelt': 8645, 'kroete': 8646, 'enbank': 8647, 'angeboten': 8648, 'blase': 8649, 'abgeschotteten': 8650, 'villenfi': 8651, 'kl': 8652, 'muellerwesternhagen': 8653, 'tribunale': 8654, 'klingbeil': 8655, 'honecker': 8656, 'posthum': 8657, 'unterzeichnen': 8658, 'hypothese': 8659, 'verursachten': 8660, 'brachte': 8661, 'lasste': 8662, 'kult': 8663, 'nobelgegend': 8664, 'exzessiv': 8665, 'anruecken': 8666, 'ueberhebliches': 8667, 'selbsternannte': 8668, 'machtrausch': 8669, 'harris': 8670, 'jublerin': 8671, 'helm': 8672, 'verfassungsschutzausschuss': 8673, 'ntv': 8674, 'swisttal': 8675, 'asif': 8676, 'fingie': 8677, 'vorsteuer': 8678, 'erstatten': 8679, 'gb': 8680, 'betrugs': 8681, 'verbindungen': 8682, 'phones': 8683, 'oekobilanz': 8684, 'internets': 8685, 'suchanfragen': 8686, 'energiesparlampe': 8687, 'internetverbot': 8688, 'huepfende': 8689, 'vergleicht': 8690, 'wams': 8691, 'objektiv': 8692, 'wahrnimmt': 8693, 'regenstauf': 8694, 'sprechender': 8695, 'regentalfestes': 8696, 'reibt': 8697, 'entbloesstes': 8698, 'erigie': 8699, 'glied': 8700, 'kuessen': 8701, 'begleiterin': 8702, 'schlampe': 8703, 'heruntergespielt': 8704, 'barkicbranco': 8705, 'ablehnte': 8706, 'unbegreiflich': 8707, 'vorjahr': 8708, 'zischen': 8709, 'stellten': 8710, '206': 8711, 'erstantrag': 8712, 'selben': 8713, 'zeitraum': 8714, '179': 8715, 'kreuzverhoer': 8716, 'vorfeld': 8717, 'mutmasslich': 8718, 'schlaeger': 8719, 'krueppel': 8720, 'gepruegelten': 8721, 'greis': 8722, 'verlierern': 8723, 'randgruppen': 8724, 'endloesung': 8725, 'judenfrage': 8726, 'rohani': 8727, 'besprechen': 8728, 'staatsraeson': 8729, 'kleinstgedruckten': 8730, 'zugeordnet': 8731, 'autokennzeichen': 8732, 'kombi': 8733, 'initialien': 8734, 'schleppen': 8735, 'schubst': 8736, 'sechsjaehrigen': 8737, 'begrapscht': 8738, 'uebergossen': 8739, 'mz': 8740, 'arminlaschet': 8741, 'unerlaesslich': 8742, 'sicherheitsdienste': 8743, 'freibaedern': 8744, 'respektlosem': 8745, 'schulungen': 8746, 'gaesten': 8747, 'vorwirft': 8748, 'genaueren': 8749, 'scheiben': 8750, 'date': 8751, 'promenaden': 8752, 'gehwegen': 8753, 'radwegen': 8754, 'schnitt': 8755, 'falkensee': 8756, 'potsdam': 8757, 'ketzin': 8758, 'beelitz': 8759, 'mittenwalde': 8760, 'klauen': 8761, 'sonnenbrille': 8762, 'lebensmittel': 8763, 'elektronik': 8764, 'haftantrag': 8765, 'fussgaenger': 8766, 'weltklima': 8767, 'vernuenftiger': 8768, 'durchdachter': 8769, 'nazischein': 8770, 'unzaehligen': 8771, 'aehnlichr': 8772, 'gleisbett': 8773, 'rammt': 8774, 'eritreer': 8775, 'brust': 8776, 'verstirbt': 8777, 'bereicherer': 8778, 'mittags': 8779, 'buergersteig': 8780, 'kuechenmesser': 8781, 'hackebeil': 8782, 'praesentiere': 8783, 'jans': 8784, 'transmann': 8785, 'zerpfluecken': 8786, 'totalausfall': 8787, 'eintausend': 8788, 'ministrafen': 8789, 'visionaere': 8790, 'pseudo': 8791, 'heilserwa': 8792, 'ungen': 8793, 'apokalyptische': 8794, 'endzeitaengste': 8795, 'bussen': 8796, 'gerald': 8797, 'major': 8798, 'schwor': 8799, 'praesidium': 8800, 'grundgesetzlich': 8801, 'verbrieft': 8802, 'wuetete': 8803, 'abgeben': 8804, 'bedraengen': 8805, 'begrapschen': 8806, 'krankenhausreif': 8807, 'abgelehnten': 8808, 'kassieren': 8809, 'blamieren': 8810, 'paedophaelie': 8811, 'unte': 8812, 'iteln': 8813, 'hbf': 8814, 'veraengstigt': 8815, 'sensibilisierung': 8816, 'staatssekretaerinnen': 8817, 'gegenteilige': 8818, 'ausreisepflicht': 8819, 'brandgefaehrliche': 8820, 'melonenpa': 8821, 'beschaemende': 8822, 'luenen': 8823, 'strassenraeuber': 8824, 'spaetabends': 8825, 'suedlaendischem': 8826, 'laune': 8827, 'antimuslimischer': 8828, 'retenden': 8829, 'landesvorsitzenden': 8830, 'neumann': 8831, 'promotionsurkunde': 8832, 'erfolgreicher': 8833, 'unternehmer': 8834, 'mill': 8835, 'wohltaetige': 8836, 'zwecke': 8837, 'gespendet': 8838, 'gemeinderaeten': 8839, 'ungnade': 8840, 'irrwege': 8841, 'beitraegen': 8842, 'platt': 8843, 'spielplatz': 8844, 'kontrollverlust': 8845, 'genesung': 8846, 'linksfaschisten': 8847, 'immobilienkongresses': 8848, 'reisebus': 8849, 'krude': 8850, 'menschenrechtsverletzung': 8851, 'kinderehen': 8852, 'schwimmbad': 8853, 'erklaerungs': 8854, 'aufkleber': 8855, 'piktogrammen': 8856, 'belaestigung': 8857, 'rentenanspruch': 8858, '600e': 8859, 'protegie': 8860, 'mindener': 8861, 'messerstich': 8862, 'staatsangehoeriger': 8863, 'widerlegt': 8864, 'langfristvergleich': 8865, 'sandra': 8866, 'donnerstag': 8867, 'vermisst': 8868, 'erstickt': 8869, 'leichnam': 8870, 'pakistaner': 8871, 'kohlefoerderung': 8872, 'kg': 8873, 'eingespa': 8874, 'fetisch': 8875, '41laendern': 8876, 'kernkraftwerke': 8877, '447': 8878, 'kohlekraftwerke': 8879, 'panne': 8880, 'sicherheitspanne': 8881, 'kriegswaffenfund': 8882, 'heinzhermannthiele': 8883, 'hochkritische': 8884, 'zusammenbruchs': 8885, 'oekonomisch': 8886, 'unbeherrschbar': 8887, 'patrickgensing': 8888, 'farbbeuteln': 8889, 'gierige': 8890, 'miethaie': 8891, 'vermuteten': 8892, 'krebspatienten': 8893, 'sief': 8894, 'yasmin': 8895, 'planten': 8896, 'biologischen': 8897, 'kampfstoff': 8898, 'rizin': 8899, 'todesopfer': 8900, 'presseberichte': 8901, 'mangelware': 8902, 'aufarbeitung': 8903, 'loest': 8904, 'gelogen': 8905, 'realitaetsverlust': 8906, 'uebersehen': 8907, 'auseinanderzusetzen': 8908, 'lebenssaft': 8909, 'aussaugen': 8910, 'roehrich': 8911, 'reinkomm': 8912, 'stoer': 8913, 'umfunktionie': 8914, 'grundguetiger': 8915, 'messestichen': 8916, 'dutzend': 8917, 'witwe': 8918, '86': 8919, 'ruck': 8920, 'ergriffen': 8921, 'medienkasper': 8922, 'erledigt': 8923, 'stande': 8924, 'stosse': 8925, 'gruenin': 8926, 'flatulenzen': 8927, 'zwangsabgabe': 8928, 'samstagmorgen': 8929, 'somalischer': 8930, 'zusammengetreten': 8931, 'freigelassen': 8932, 'mehmet': 8933, 'beschimpften': 8934, 'bedraengten': 8935, 'pensionistenpaar': 8936, 'vorbeigehen': 8937, 'mantel': 8938, 'streiften': 8939, 'provokationen': 8940, 'schnauze': 8941, 'diebstaehle': 8942, 'belaestigungen': 8943, 'raeubern': 8944, 'vergewaltigern': 8945, 'totschlaegern': 8946, '696': 8947, 'j2008': 8948, '1196': 8949, 'j2017': 8950, 'sprechers': 8951, 'hamburgs': 8952, 'till': 8953, 'steffen': 8954, 'generellen': 8955, 'walid': 8956, 'hauptverdaechtige': 8957, 'totgepruegelten': 8958, 'niklas': 8959, 'wehrlos': 8960, 'doppelten': 8961, 'unterkieferbruch': 8962, 'jochbeinbruch': 8963, '13j': 8964, 'stephansschule': 8965, 'saarbruecker': 8966, 'schmelz': 8967, 'wiederbelegung': 8968, 'neuesten': 8969, 'sicherheitsbericht': 8970, 'schwedischen': 8971, 'rat': 8972, 'kriminalpraevention': 8973, 'angekettet': 8974, 'kaempfern': 8975, 'sexsklaven': 8976, 'senden': 8977, 'borgholzhausen': 8978, 'wies': 8979, 'multiple': 8980, 'brachen': 8981, 'rettungskraefte': 8982, 'crailsheim': 8983, 'tuerkischem': 8984, 'hochzeitskorso': 8985, 'schreckschusswaffen': 8986, 'patronenhuelsen': 8987, 'beteuern': 8988, 'zukuenftigen': 8989, 'schimpft': 8990, 'schwiegermutter': 8991, 'leserbrief': 8992, 'oberhausenklosterhardt': 8993, 'suedlaendisches': 8994, 'entrissen': 8995, 'umhaengetasche': 8996, 'foot': 8997, 'umweltfreundlichen': 8998, 'disko': 8999, 'passau': 9000, 'weiterer': 9001, 'dingolfing': 9002, 'landshut': 9003, 'erding': 9004, 'burghausen': 9005, 'taeuscht': 9006, 'sedlern': 9007, 'duesseldorfer': 9008, 'aufzutauchen': 9009, 'stehendem': 9010, 'setzte': 9011, 'zum': 9012, 'breitscheidplatz': 9013, 'strafverfolger': 9014, 'widerspruechliches': 9015, 'plausibel': 9016, 'richtigstellen': 9017, 'antifaluebeck': 9018, 'linksfaschistische': 9019, 'totschweigen': 9020, 'offensichtlichem': 9021, 'bevoelkerungsgruppe': 9022, 'systematischer': 9023, 'diskriminierungspolitik': 9024, 'annefrank': 9025, 'annaehern': 9026, 'lauffen': 9027, 'professioneller': 9028, 'drogenring': 9029, 'gambier': 9030, 'schwunghaften': 9031, 'verschiedenen': 9032, 'asylheimen': 9033, 'kiloweise': 9034, 'marihuana': 9035, 'ecstasy': 9036, 'jtrittin': 9037, 'jrehborn': 9038, 'angeeignet': 9039, 'spitzenwissenschaftler': 9040, 'billionen': 9041, 'verdorben': 9042, 'mongolen': 9043, 'diplomatenkennzeichen': 9044, 'unterzogen': 9045, 'diplomatische': 9046, 'vorliegt': 9047, '70kg': 9048, 'heroin': 9049, 'anneliesen2': 9050, 'behaltet': 9051, 'hanta': 9052, 'virus': 9053, 'wechselnden': 9054, 'nern': 9055, 'sprayflasche': 9056, 'rythmus': 9057, 'bespruehen': 9058, 'what': 9059, 'you': 9060, 'want': 9061, 'rhihanna': 9062, 'get': 9063, 'bom': 9064, 'dpa': 9065, 'bundesamtes': 9066, 'einstieg': 9067, 'migrationsbeauftragten': 9068, 'sowahr': 9069, 'eilsfreie': 9070, 'stellung': 9071, 'senkel': 9072, 'anschliessender': 9073, 'labor': 9074, 'gesamtanalyse': 9075, 'blutes': 9076, 'wechseljahre': 9077, 'schwankende': 9078, 'hormonstaerken': 9079, 'blutkreislauf': 9080, 'bemerkbar': 9081, 'ueberfunktion': 9082, 'schilddruese': 9083, 'unbehandelt': 9084, 'gewichtszunahme': 9085, 'knochen': 9086, 'muskelinstabilitaet': 9087, 'wuerzen': 9088, 'pfefferkoerner': 9089, 'verzehr': 9090, 'trunk': 9091, 'kaffee': 9092, 'pfeffermuehle': 9093, 'zerkleine': 9094, 'einfuegen': 9095, 'rheuma': 9096, 'gicht': 9097, 'gelenkentzuendungen': 9098, 'verdauungsfoerdernd': 9099, 'stoffwechselanregend': 9100, 'abnehmen': 9101, 'rundum': 9102, 'entzuendungshemmend': 9103, 'ansprueche': 9104, 'enwissen': 9105, 'pnp': 9106, 'fehlerhaft': 9107, 'basis': 9108, 'emitter': 9109, 'colector': 9110, 'transistoren': 9111, 'schaltung': 9112, 'verstaerker': 9113, 'regelt': 9114, 'geringe': 9115, 'eingangsspannung': 9116, 'impedanz': 9117, 'mikrophon': 9118, 'yacht': 9119, 'schloesser': 9120, 'sekraeterin': 9121, 'taucht': 9122, 'yet': 9123, 'zet': 9124, 'tristes': 9125, 'koranerklaerung': 9126, 'strafzoelle': 9127, 'oel': 9128, 'liefernde': 9129, 'entzug': 9130, 'rohstoffen': 9131, 'veranlassen': 9132, 'migrieren': 9133, 'positive': 9134, 'rethorik': 9135, 'rakete': 9136, 'alltaeglich': 9137, 'bollerwagen': 9138, 'leiharbeit': 9139, 'arbeitsve': 9140, 'minniloehnen': 9141, 'hoffaehig': 9142, 'rentenalter': 9143, 'minnirenten': 9144, 'abgewaehlt': 9145, 'stellungsnahmen': 9146, 'grundbeduerfnissen': 9147, 'bildungs': 9148, 'aufstiegs': 9149, 'eigentuemern': 9150, 'vermieteten': 9151, 'jugendclub': 9152, 'ausgezogen': 9153, 'judentums': 9154, 'gebruestet': 9155, 'psychaterin': 9156, 'veranlagung': 9157, 'pheromone': 9158, 'ritallin': 9159, 'waerest': 9160, 'uninteressant': 9161, 'psychologie': 9162, 'avancen': 9163, 'titeln': 9164, 'vorhandenen': 9165, 'kapazitaet': 9166, 'ect': 9167, 'psychater': 9168, 'raut': 9169, 'anmerkung': 9170, 'schwierigkeiten': 9171, 'begegnung': 9172, 'verkuppelung': 9173, 'wuttke': 9174, 'kerstinm': 9175, 'bezahlte': 9176, 'moscheebau': 9177, 'eingeweiht': 9178, 'wahrheitswelle': 9179, 'getaeuscht': 9180, 'inszenie': 9181, 'staatenlos': 9182, 'lebendigkeit': 9183, 'nationalstaatlichen': 9184, 'kippatag': 9185, 'verdunkeln': 9186, 'neuschwabenlandtreffen': 9187, 'ringheiligtum': 9188, 'poemmelte': 9189, 'germanischer': 9190, 'krafto': 9191, 'guterres': 9192, 'coudenhove': 9193, 'kalergi': 9194, 'delors': 9195, 'karlspreis': 9196, '1918': 9197, 'sieger': 9198, 'tanzt': 9199, 'verbotene': 9200, 'ergreifung': 9201, 'drittklassigen': 9202, 'kunstmalers': 9203, 'wahlmanipulation': 9204, 'fabio': 9205, 'kommentie': 9206, 'eva': 9207, 'leugnen': 9208, 'meinungssperre': 9209, 'oehringen': 9210, 'vereinswahl': 9211, 'krasses': 9212, 'entsperrung': 9213, 'einstweiligen': 9214, 'rechtsschutz': 9215, 'gesinnungshaft': 9216, 'sprengkraft': 9217, 'entlarvt': 9218, '76': 9219, 'halts': 9220, 'wahlkrampf': 9221, 'geisteskrankheiten': 9222, 'vernunftkraft': 9223, 'windwahn': 9224, 'innenamt': 9225, 'hoehepunkt': 9226, 'hologramm': 9227, 'countdown': 9228, 'schockvideo': 9229, 'tyrannei': 9230, 'stalingrad': 9231, 'menschenrechtler': 9232, 'wilfried': 9233, 'schmitz': 9234, 'betreibt': 9235, 'voelkermord': 9236, 'schultze': 9237, 'rhonhof': 9238, 'weltkrieges': 9239, 'lamya': 9240, 'kaddor': 9241, 'klatsche': 9242, 'bruestet': 9243, 'briefkastenfirma': 9244, 'ungern': 9245, 'antreten': 9246, 'pinkcrazypony': 9247, 'paedophilenpa': 9248, '190611': 9249, 'ots': 9250, 'unverhohlene': 9251, 'drohung': 9252, 'unglaubliches': 9253, 'zerstoerungswerk': 9254, 'zwangsfinanzie': 9255, 'propagandaeinrichtungen': 9256, 'parlamentarismus': 9257, 'abscheulicher': 9258, 'auslaenderkriminalitaet': 9259, 'freiwild': 9260, 'belehren': 9261, 'gehirn': 9262, 'siegt': 9263, 'terroristische': 9264, 'islamistische': 9265, 'ideologi': 9266, 'filmkulisse': 9267, 'sinnen': 9268, 'schwerem': 9269, 'haftstrafe': 9270, 'hunger': 9271, 'kaese': 9272, 'stahl': 9273, 'volks': 9274, 'eingereiste': 9275, 'sozialtouristen': 9276, 'samthandschuhen': 9277, 'buecherverbrennung': 9278, 'jugendgefaehrdenden': 9279, 'schriften': 9280, 'projizieren': 9281, 'besessen': 9282, '800000': 9283, 'rechtsordnung': 9284, 'zersetzung': 9285, 'pur': 9286, 'bekaempfe': 9287, 'gaskammern': 9288, 'amtlich': 9289, 'hirnschwach': 9290, 'karin': 9291, 'bloedha': 9292, 'ueberlaufen': 9293, 'dominie': 9294, 'zahlenmaessig': 9295, 'traudich': 9296, 'quadrateule': 9297, 'verhuetung': 9298, 'haram': 9299, 'unterhalt': 9300, 'spektakulaerer': 9301, 'wuerfe': 9302, 'plattling': 9303, 'verbarrikadieren': 9304, 'abfackelten': 9305, 'beginne': 9306, 'schokopudding': 9307, 'wenigen': 9308, 'inbruenstig': 9309, 'angesungen': 9310, 'sarahconnorfc': 9311, 'perfidesten': 9312, 'schoepfungen': 9313, 'junta': 9314, 'selbstbezeichnung': 9315, 'free': 9316, 'freetv': 9317, 'boykottmsm': 9318, 'ureinwohnern': 9319, 'auslaendischen': 9320, 'hoffnungstraegern': 9321, 'ueberraschungen': 9322, 'mordprozess': 9323, 'kenia': 9324, 'abspricht': 9325, 'harvad': 9326, 'beschuldigt': 9327, 'bezueglich': 9328, 'glasklar': 9329, 'multikultureller': 9330, 'schulschwaenzerin': 9331, 'waffel': 9332, 'geschichtsbuechern': 9333, 'ausschreitungen': 9334, 'robust': 9335, 'berufsdemonstranten': 9336, 'polizeiwagen': 9337, 'anfahren': 9338, 'erschrecken': 9339, 'selbstgeisselung': 9340, 'ashurafest': 9341, 'jeweiligen': 9342, 'bewohnenden': 9343, 'erfolgen': 9344, 'umbau': 9345, 'stalinistisches': 9346, 'verbirgt': 9347, 'geringerer': 9348, 'allseits': 9349, 'george': 9350, 'eilose': 9351, 'bissmann': 9352, 'aufzusetzen': 9353, 'geistliche': 9354, 'saat': 9355, 'terroranschlaegen': 9356, 'srilankaterrorattack': 9357, 'le': 9358, 'pen': 9359, 'putzt': 9360, 'bombenleger': 9361, 'algerier': 9362, 'ironischer': 9363, 'klimafragen': 9364, 'schulstreiks': 9365, 'fitten': 9366, 'beobachtet': 9367, 'mimik': 9368, 'goldenedekade': 9369, 'buntedekade': 9370, 'diversityday': 9371, 'gelangen': 9372, 'schaufenster': 9373, 'puppen': 9374, 'kaufte': 9375, 'zps': 9376, 'goldmuenzen': 9377, 'oe24at': 9378, 'aeusserste': 9379, 'verleitet': 9380, 'wurdest': 9381, 'rehabilitation': 9382, 'klimaaktivist': 9383, 'arnold': 9384, 'schwarzenegger': 9385, 'achtet': 9386, 'stromverbrauch': 9387, 'kauft': 9388, 'sprecht': 9389, 'geschwurbel': 9390, 'schaftssystems': 9391, 'systemwechsel': 9392, 'taeuschen': 9393, 'zurueckerobern': 9394, 'emotionaler': 9395, 'inschulz': 9396, 'bruellt': 9397, 'eifreund': 9398, 'hochjazzen': 9399, 'erguesse': 9400, 'beitragstaeter': 9401, 'gekoepft': 9402, 'enthauptungen': 9403, 'betete': 9404, 'reumuetig': 9405, 'vergnuegen': 9406, 'spinnerei': 9407, 'waffengewalt': 9408, 'durchsetzbar': 9409, 'langen': 9410, 'bahnhofshalle': 9411, 'gluecklicher': 9412, 'libanese': 9413, 'kruemmt': 9414, 'wahrsten': 9415, 'steuersklaven': 9416, 'center': 9417, 'seht': 9418, 'trip': 9419, 'ueberlassen': 9420, '1938': 9421, 'erfuellt': 9422, 'alteingesessenen': 9423, 'drogenhandel': 9424, 'vlogger': 9425, 'professionellen': 9426, 'agentur': 9427, 'machtjanix23': 9428, 'geplagter': 9429, 'junke': 9430, 'stammelt': 9431, 'sympathische': 9432, 'alkoholiker': 9433, 'junckereu': 9434, 'jara': 9435, 'mobben': 9436, 'schlitzen': 9437, 'geringsten': 9438, 'anzurichten': 9439, 'auslandspresse': 9440, 'scheut': 9441, 'kapitulation': 9442, 'sensationelles': 9443, 'viktor': 9444, 'orban': 9445, 'zufaelligerweise': 9446, 'zaubern': 9447, 'fallt': 9448, 'besoffener': 9449, 'investoren': 9450, 'rechtsstaatlich': 9451, 'durchgeknallte': 9452, 'herbei': 9453, 'erstaunlicherweise': 9454, 'kleingedruckten': 9455, 'skandalieren': 9456, 'pruegelte': 9457, 'bruellte': 9458, 'sawasanchebli': 9459, 'bedeutungen': 9460, 'wiederholte': 9461, 'rechtskonform': 9462, 'ablaufen': 9463, 'reiner': 9464, 'machtgier': 9465, 'wegnehmen': 9466, 'europaparlaments': 9467, 'europaparl': 9468, 'blonden': 9469, 'ten': 9470, 'cocktail': 9471, 'betonte': 9472, 'zuzulassen': 9473, 'medial': 9474, 'nochmals': 9475, 'angesprochenen': 9476, 'handelte': 9477, '201a': 9478, 'mitziehen': 9479, 'verunglimpfte': 9480, 'oligarch': 9481, 'vermeintliche': 9482, 'bittet': 9483, 'herausgabe': 9484, 'urheber': 9485, 'quellenschutz': 9486, 'meinst': 9487, 'wodka': 9488, 'hurensoehne': 9489, 'notorious': 9490, 'entscheidungshilfe': 9491, 'gefoente': 9492, 'gangsta': 9493, 'rapper': 9494, 'taliban': 9495, 'eimitgliedschaft': 9496, 'exgruene': 9497, 'enthuellungen': 9498, 'arminwolf': 9499, 'getrueffelt': 9500, 'neuigkeitswe': 9501, 'laecherlicher': 9502, 'verzweiflungs': 9503, 'inquisitoren': 9504, 'unerwuenschtes': 9505, 'timmermanseu': 9506, 'vorzugehen': 9507, 'gerichte': 9508, 'schere': 9509, 'kaempften': 9510, 'frauenleiche': 9511, 'vordringen': 9512, 'minder': 9513, 'geholt': 9514, 'raetselhaft': 9515, 'br24': 9516, 'gewisser': 9517, 'raetseln': 9518, 'imzentrum': 9519, 'zwischenfall': 9520, 'verschweigt': 9521, 'passende': 9522, 'europaweit': 9523, 'pardon': 9524, 'populistischer': 9525, 'raender': 9526, 'einzudaemmen': 9527, 'wiesbaden': 9528, 'zusammengeschlagen': 9529, 'tina': 9530, 'tinas': 9531, 'vilshofen': 9532, 'sinzheim': 9533, 'schwarzwald': 9534, 'dunkelhaeutige': 9535, 'lady': 9536, 'abstecher': 9537, 'schulhof': 9538, 'buettel': 9539, 'misthaufen': 9540, 'kurzmussweg': 9541, 'anschlages': 9542, 'linkspresse': 9543, 'respektabel': 9544, 'deutungshoheit': 9545, 'denunzianten': 9546, 'aufgehetzt': 9547, 'suenden': 9548, 'aufdecken': 9549, 'winkt': 9550, 'klimaspinner': 9551, 'rausgehe': 9552, 'befinde': 9553, 'bessermenschenparanoia': 9554, 'morgenluft': 9555, 'entfliehen': 9556, 'buntlinge': 9557, 'merk': 9558, 'fcknazis': 9559, 'wundere': 9560, 'waehnen': 9561, '1athom': 9562, 'ernstes': 9563, 'drachenlord': 9564, 'rainer': 9565, 'winkler': 9566, 'utrecht': 9567, 'goekmen': 9568, 'tanis': 9569, 'farblich': 9570, 'verkaufsplaetze': 9571, 'zugewiesen': 9572, 'singen': 9573, 'zuckersuesse': 9574, 'kinderfest': 9575, 'abhacken': 9576, 'einflussreichsten': 9577, 'akteure': 9578, 'heult': 9579, 'winning': 9580, 'erlegte': 9581, 'ueberraschenderweise': 9582, 'spitzentagen': 9583, 'wolfsburg': 9584, 'niedergeschossen': 9585, 'naehere': 9586, 'thuer': 9587, 'eintreffenden': 9588, 'afdler': 9589, 'grenzenlos': 9590, 'bildern': 9591, 'bossa': 9592, 'londons': 9593, 'oberster': 9594, 'sadiq': 9595, 'khan': 9596, 'staatsbankett': 9597, 'buckinghampalace': 9598, 'ausgeladen': 9599, 'aufatmen': 9600, 'hebelt': 9601, 'genferkonvention': 9602, 'besche': 9603, 'weitgehende': 9604, 'bleiberechte': 9605, 'marokkanische': 9606, 'rapperin': 9607, 'juju': 9608, 'anekdoten': 9609, 'scheissegal': 9610, 'christina': 9611, 'schuetteln': 9612, 'wepper': 9613, 'hausverbot': 9614, 'club': 9615, 'androhen': 9616, 'preisbremse': 9617, 'ungeduldig': 9618, 'neuansiedlung': 9619, 'servustv': 9620, 'liebes': 9621, 'servus': 9622, 'staffel': 9623, 'serie': 9624, 'trakehnerblut': 9625, 'joesiprokopetz': 9626, 'dolezal': 9627, 'kolonovits': 9628, 'musikalische': 9629, 'poetische': 9630, 'unterhaltung': 9631, 'bergamo': 9632, 'unentgeltlich': 9633, 'gemeinnuetzige': 9634, 'amuesant': 9635, 'selfies': 9636, 'schmeckt': 9637, 'oute': 9638, 'sexist': 9639, 'fordernd': 9640, 'motorboote': 9641, 'fliege': 9642, 'raeuber': 9643, 'kumpels': 9644, 'brenzlig': 9645, 'erzuernt': 9646, 'ensterben': 9647, 'perfekten': 9648, 'anstrebt': 9649, 'campingplatz': 9650, 'futter': 9651, 'drall': 9652, 'snowflake': 9653, 'olivia': 9654, 'frey55': 9655, 'eingesetzte': 9656, 'werbespot': 9657, 'sequenz': 9658, 'einarbeiten': 9659, 'auspeitscht': 9660, 'zwangsverheiratet': 9661, 'mutte': 9662, 'student': 9663, 'grundlos': 9664, 'potentiell': 9665, 'lebensgefaehrlich': 9666, 'opferblut': 9667, 'spritzt': 9668, 'sachbeschaedigung': 9669, 'hochzuladen': 9670, 'systemkritiker': 9671, 'totfahren': 9672, 'publizistische': 9673, 'verstaatlichen': 9674, 'ute': 9675, 'geprueft': 9676, 'blutende': 9677, 'privatga': 9678, 'auftauchte': 9679, 'stichverletzung': 9680, 'drogenrausch': 9681, 'knallte': 9682, 'glastisch': 9683, 'puh': 9684, 'fleissigen': 9685, 'geacke': 9686, 'gebuckelt': 9687, 'abgespeist': 9688, 'leergut': 9689, 'stromkosten': 9690, '49': 9691, 'dieselkosten': 9692, 'q5': 9693, 'erscheint': 9694, 'untergetaucht': 9695, 'ladung': 9696, 'zugestellt': 9697, 'bedaue': 9698, 'umzingelt': 9699, 'geklatscht': 9700, 'headline': 9701, 'formulieren': 9702, 'libanon': 9703, 'abgezweigt': 9704, 'mohammeds': 9705, 'blass': 9706, 'vorkommen': 9707, 'niet': 9708, 'nagelfest': 9709, 'b0105': 9710, 'krk979': 9711, 'lsteinwandter': 9712, 'geschaetzt': 9713, 'eygui': 9714, 'res': 9715, 'vollstaendigkeit': 9716, 'eigena': 9717, 'kurzschluesse': 9718, 'buergermeisters': 9719, 'palmer': 9720, 'realistisch': 9721, 'graphic': 9722, 'credits': 9723, 'suedtirol': 9724, 'weinkeller': 9725, 'erweite': 9726, 'offline': 9727, 'zergehen': 9728, 'beliebige': 9729, 'einzuwandern': 9730, 'kurden': 9731, 'ruesselsheim': 9732, 'streitigkeiten': 9733, 'halskette': 9734, 'spazie': 9735, 'schwerbehinde': 9736, 'geschickten': 9737, 'gegenstaende': 9738, 'bespucken': 9739, 'unverstaendlicher': 9740, 'oster': 9741, 'gottesdienst': 9742, 'minimal': 9743, 'paulskirche': 9744, 'pete': 9745, 'auber': 9746, 'veruebten': 9747, 'empfindliche': 9748, 'niederlage': 9749, 'ukraine': 9750, 'korrupter': 9751, 'poroschenko': 9752, 'vernichtend': 9753, 'ukraineelections2019': 9754, 'anschlaege': 9755, 'zeitgenoessische': 9756, 'anmutiges': 9757, 'minarett': 9758, 'braenden': 9759, 'verzweiflung': 9760, 'durchreise': 9761, 'gehinde': 9762, 'las': 9763, 'durchschauten': 9764, 'betende': 9765, 'abzulenken': 9766, 'maennergruppe': 9767, 'jagt': 9768, 'eingestochen': 9769, 'beliebtesten': 9770, 'schutzsuchenden': 9771, 'betreuern': 9772, 'vergasen': 9773, 'aufschlitzen': 9774, 'vielerlei': 9775, 'nachwuchshoffnung': 9776, 'stefantroendle': 9777, 'nicolabeerfdp': 9778, 'feinden': 9779, 'systems': 9780, 'masken': 9781, 'fratze': 9782, 'sichtbarer': 9783, 'dieselauto': 9784, 'kunterbunten': 9785, 'weggeklatscht': 9786, 'syrischen': 9787, 'messerstecher': 9788, 'abdalrhmen': 9789, 'mindestrentnerin': 9790, 'diebstahl': 9791, 'spielte': 9792, 'aktionskuenstler': 9793, 'rannte': 9794, 'brannte': 9795, 'dulden': 9796, 'tagelanger': 9797, 'ausnahmezustand': 9798, 'granate': 9799, 'abgebrannten': 9800, 'brandschutz': 9801, 'freudenbekundungen': 9802, 'grundrechtes': 9803, 'versammlungsfreiheit': 9804, 'rache': 9805, 'ausgebrochen': 9806, 'minus': 9807, 'einzelverkauf': 9808, 'poschardt': 9809, 'serioesen': 9810, 'sammelbecken': 9811, 'schreibende': 9812, 'aktivsten': 9813, 'muehlheim': 9814, 'aufgebrachte': 9815, 'jene': 9816, 'sozi': 9817, 'zugpferd': 9818, 'dannenberg': 9819, 'lockte': 9820, 'forever': 9821, 'young': 9822, 'unbegleiteter': 9823, 'minderjaehriger': 9824, 'entpuppt': 9825, 'groelenden': 9826, 'entsetzens': 9827, 'ableger': 9828, 'rottet': 9829, 'umzingeln': 9830, 'wagten': 9831, 'bocholt': 9832, 'niederbrennen': 9833, 'smiley': 9834, 'prisonplanet': 9835, 'feuerwehr': 9836, 'durchgedrungen': 9837, 'posaunen': 9838, 'bauarbeiten': 9839, 'verdachtsfaelle': 9840, 'behoerdenchef': 9841, 'abzuziehen': 9842, 'bohei': 9843, 'beobachtung': 9844, 'einstufung': 9845, 'tagesspiegel': 9846, 'larswienand': 9847, 'reinboth': 9848, 'stagswunsch': 9849, 'crowdfunding': 9850, 'wannwennnichtjetzt': 9851, 'wasserrettungsstation': 9852, 'fassade': 9853, 'farbbomben': 9854, 'verunstaltet': 9855, 'zaun': 9856, 'geraete': 9857, 'wahllos': 9858, 'ehrenamtliche': 9859, 'lebensretter': 9860, 'dlrg': 9861, 'abschottungs': 9862, 'zur': 9863, 'gefasele': 9864, 'hidden': 9865, 'champions': 9866, 'weltkonzerne': 9867, 'korrespondentin': 9868, 'netteren': 9869, 'ersparen': 9870, 'geschwistern': 9871, 'durchgefuette': 9872, 'mischpoke': 9873, 'stopft': 9874, 'iilegale': 9875, 'mmwesternhagen': 9876, 'nosbuschdesiree': 9877, 'zukunftsachsen': 9878, 'verbitte': 9879, 'verbieste': 9880, 'missionar': 9881, 'gesorgt': 9882, 'toxische': 9883, 'kriminalitaetsquote': 9884, 'respektvoll': 9885, 'gestaerkt': 9886, 'gesellschaftlich': 9887, 'mdrde': 9888, 'mdrpresse': 9889, 'steimle': 9890, 'vorgestellt': 9891, 'inventar': 9892, 'mitteldeutschlands': 9893, 'heimatforscher': 9894, 'stoerenfried': 9895, 'cdusachsen': 9896, 'jauche': 9897, 'ruehren': 9898, 'zack': 9899, 'diffamieren': 9900, 'niemalscdu': 9901, 'cduwuergt': 9902, 'afdwuergt': 9903, 'linksbuendnis': 9904, 'gr': 9905, 'verschenken': 9906, 'glitzer': 9907, 'plz': 9908, 'gepflanzt': 9909, 'eiche': 9910, 'quarantaene': 9911, 'alaska': 9912, 'schmilzt': 9913, 'sibirien': 9914, 'permafrostboden': 9915, 'unmengen': 9916, 'methan': 9917, 'gespeiche': 9918, 'auftaut': 9919, 'verfolge': 9920, 'esoterikszene': 9921, 'seminar': 9922, 'therapeutischen': 9923, 'defaekation': 9924, 'hochenergiewald': 9925, 'geoeffnetem': 9926, 'schreibtisch': 9927, 'entfernung': 9928, 'eindringlicher': 9929, 'liess': 9930, 'zog': 9931, 'schwanz': 9932, 'konzernen': 9933, 'despoten': 9934, 'bueckling': 9935, 'landsleute': 9936, 'patriotisch': 9937, 'teile': 9938, 'zivilgesellschaft': 9939, 'seenotretter': 9940, 'on': 9941, 'fire': 9942, 'verlaub': 9943, 'zurueckliegende': 9944, 'installation': 9945, 'margeriten': 9946, 'umkraenzte': 9947, 'heldentat': 9948, 'standhaftigkeit': 9949, 'unveroeffentlichten': 9950, 'rumaenischen': 9951, 'schwaenze': 9952, 'scampi': 9953, 'beklagt': 9954, 'hetzerin': 9955, 'durchsuchung': 9956, 'aufwiegler': 9957, 'strohfeuer': 9958, 'malte': 9959, 'kaufmann': 9960, 'durcheinander': 9961, 'dax': 9962, 'dichtgemacht': 9963, 'afdmussweg': 9964, 'afdverbot': 9965, 'afdmachtarbeitslos': 9966, 'rating': 9967, 'unsicherheitsfaktor': 9968, 'investitionen': 9969, 'kloeckners': 9970, 'lobby': 9971, 'umgarnte': 9972, 'foltern': 9973, 'christopher': 9974, 'hirnze': 9975, 'ruemmerung': 9976, 'monatelang': 9977, 'eilsverhandlung': 9978, 'verstoerenden': 9979, 'historisches': 9980, 'beschaemend': 9981, 'korruptionswaechter': 9982, 'europarats': 9983, 'greco': 9984, 'schaerfere': 9985, 'reformen': 9986, 'kreise': 9987, 'braune': 9988, 'schwangerschaften': 9989, 'temporaer': 9990, 'dauerhaft': 9991, 'seitdem': 9992, 'schuhgroessen': 9993, 'riesensauerei': 9994, 'bezieht': 9995, 'gequaelt': 9996, 'getrost': 9997, 'eivorsitzenden': 9998, 'linksstehende': 9999, 'landesverband': 10000, 'tn': 10001, 'bayernspd': 10002, 'nichtregieren': 10003, 'asylindustrie': 10004, 'schulschwaenzer': 10005, 'cducsubt': 10006, 'word': 10007, 'bestehender': 10008, 'erdenbewohner': 10009, 'erzaehle': 10010, 'missbilligende': 10011, 'wegzuziehen': 10012, 'alltagsrassismus': 10013, 'raegt': 10014, 'robby': 10015, 'schlund': 10016, 'arbeite': 10017, 'wahlkreis': 10018, 'ostthueringen': 10019, 'holocaustleugner': 10020, 'hel': 10021, 'parlaments': 10022, 'ineffizienz': 10023, 'durchzusetzen': 10024, 'unkommentie': 10025, 'anwaltes': 10026, 'charakter': 10027, 'sogafd': 10028, 'ehrverletzend': 10029, 'bemuehen': 10030, 'kontroversen': 10031, 'erlaeutern': 10032, 'rubel': 10033, 'schickes': 10034, 'auffallend': 10035, 'schergen': 10036, 'vera': 10037, 'lengsfeld': 10038, 'sichtweise': 10039, 'oeffnung': 10040, 'wanderwitz': 10041, 'jedenfalls': 10042, 'ausgehen': 10043, 'prinzipien': 10044, 'rechtsradikale': 10045, 'sicherheitshalber': 10046, 'werbevideo': 10047, 'ernaehrungsministerin': 10048, 'hatespeaker': 10049, 'regpk': 10050, 'bezug': 10051, 'angebliches': 10052, 'soziales': 10053, 'grundsatz': 10054, 'umfassende': 10055, 'abhandlung': 10056, 'stichpunkte': 10057, 'kriminalstatistik': 10058, '136': 10059, '606': 10060, 'boeselager': 10061, 'kinderheim': 10062, 'persoenlichkeits': 10063, 'urheberrechte': 10064, 'fiete': 10065, 'stegers': 10066, 'demokratische': 10067, 'gerold': 10068, 'anlauf': 10069, 'bundestagsvizepraesident': 10070, 'schlachtbetrieb': 10071, 'sachlichen': 10072, 'korrekten': 10073, 'zeitform': 10074, 'praeteritum': 10075, 'ausrede': 10076, 'zuckerreduzieren': 10077, 'selbstverpflichtung': 10078, 'nichtstun': 10079, 'zuckersteuer': 10080, 'nestle': 10081, 'zucker': 10082, 'gesenkt': 10083, 'buchleser': 10084, 'allgemein': 10085, 'verkehr': 10086, 'circa': 10087, 'bayerische': 10088, 'ebner': 10089, 'faschingskostueme': 10090, 'fraktionsgeldern': 10091, 'ostdeutsches': 10092, 'juso': 10093, 'jensmaierafd': 10094, 'scholl': 10095, 'richtiger': 10096, 'handlungsvorschlag': 10097, 'hasskommentare': 10098, 'vernommen': 10099, 'liessen': 10100, 'spektrum': 10101, 'zuordnen': 10102, 'seltsames': 10103, 'terrorgruppe': 10104, 'freital': 10105, 'vlnr': 10106, 'schneiden': 10107, 'koalitionsgedanken': 10108, 'europaabgeordnete': 10109, 'wohnsitz': 10110, 'gesamt': 10111, '96': 10112, 'josamania': 10113, 'wirimosten': 10114, 'vizekanzler': 10115, 'verbreiteten': 10116, 'aussichtlos': 10117, 'unbestreitbar': 10118, 'tiefgruendige': 10119, 'irgendeine': 10120, 'weibliche': 10121, 'offel': 10122, 'steiss': 10123, 'taetowieren': 10124, 'kommunikationsgenie': 10125, 'boot': 10126, 'bewundernswe': 10127, 'ironie': 10128, 'icrmussdassein': 10129, 'wunderblokk': 10130, 'fraktionschef': 10131, 'nobis': 10132, 'pein': 10133, 'kn': 10134, 'bashed': 10135, 'bdi': 10136, 'kempf': 10137, 'bankenkrise': 10138, 'dieselgate': 10139, 'leitenden': 10140, 'bayram': 10141, 'eidmubarak': 10142, 'einfuehrung': 10143, 'energiesteuer': 10144, 'kernstueck': 10145, 'oekologischen': 10146, 'glaubwuerdigen': 10147, 'klimas': 10148, 'bewahrung': 10149, 'schoepfung': 10150, 'bundespa': 10151, '1995': 10152, 'zurueckindiezukunft': 10153, 'dubiose': 10154, 'unechter': 10155, 'konten': 10156, 'beitraege': 10157, 'tausendfach': 10158, 'weiterverbreiten': 10159, 'involvie': 10160, 'durst': 10161, 'schnaps': 10162, 'konstellation': 10163, 'ep': 10164, 'aufzuklaeren': 10165, 'prassen': 10166, 'champagner': 10167, 'chauffeur': 10168, 'hinausgeschleude': 10169, 'detlev': 10170, '1944': 10171, 'militaerdienstes': 10172, '1964': 10173, '1967': 10174, 'decknamen': 10175, 'bruno': 10176, 'inoffizieller': 10177, 'ronald': 10178, 'bischoff': 10179, 'festhalten': 10180, 'offizier': 10181, 'staatssicherheit': 10182, 'drechsler': 10183, 'enrico': 10184, 'rechtsanwalt': 10185, 'wendejahr': 10186, 'angehoeriger': 10187, 'wachregiments': 10188, 'feliks': 10189, 'dzierzynski': 10190, 'unterstand': 10191, 'szenetypisch': 10192, 'stolpersteine': 10193, 'doragezwitscher': 10194, 'getoeteten': 10195, 'regierungspraesidenten': 10196, 'hereinbrachen': 10197, 'oberbuergermeisterkandidat': 10198, 'wipfel': 10199, 'beschraenkungen': 10200, 'kompetenzen': 10201, 'verfassungsschutzes': 10202, 'verbotsverfahren': 10203, 'pogramm': 10204, 'umgebaut': 10205, 'menschenwuerde': 10206, 'kerngehalt': 10207, 'restriktive': 10208, 'beschraenkt': 10209, 'shwittenafd': 10210, 'verarscht': 10211, 'manipulieren': 10212, 'profi': 10213, 'unvermoegen': 10214, 'unterstreicht': 10215, 'zustimmungswe': 10216, 'langem': 10217, 'prozentpunkte': 10218, 'zukunftmitte': 10219, 'selbsterklae': 10220, 'vollstrecker': 10221, 'selbstjustiz': 10222, 'protestierer': 10223, 'bejubelt': 10224, 'jugendundparlament': 10225, '242': 10226, 'herauszufinden': 10227, 'projektes': 10228, 'angegebenen': 10229, 'snickers': 10230, 'hitler': 10231, 'ech': 10232, 'naecht': 10233, 'aerdnoessen': 10234, 'paedos': 10235, 'befeue': 10236, 'hysterie': 10237, 'verkleiden': 10238, 'checken': 10239, 'bedrohten': 10240, 'indigenen': 10241, 'halbe': 10242, 'bildungsexpe': 10243, 'hoeherer': 10244, 'anzahl': 10245, 'geschlechte': 10246, 'rennung': 10247, 'schulfrieden': 10248, 'kirmes': 10249, 'popcorn': 10250, 'paule': 10251, 'kasseler': 10252, 'evt': 10253, 'privatanschrift': 10254, 'jawoll': 10255, 'ostfrrront': 10256, 'drrrum': 10257, 'defensiv': 10258, 'ausrrrradieren': 10259, 'wehklagen': 10260, 'empfangen': 10261, 'hurr': 10262, 'gebissen': 10263, 'offensiv': 10264, 'beobachtungsstatus': 10265, 'schwadrrronieren': 10266, 'heil': 10267, 'inkorrupt': 10268, 'geteilte': 10269, 'blogs': 10270, 'habs': 10271, 'lenkrad': 10272, 'hinunter': 10273, 'verhafteten': 10274, 'lpdwien': 10275, 'where': 10276, 'are': 10277, 'crowds': 10278, 'rassistischer': 10279, 'menschenverachtung': 10280, 'ueberbieten': 10281, 'liebchen': 10282, 'einseitiges': 10283, 'verzerrung': 10284, 'hinte': 10285, 'uer': 10286, 'charles': 10287, 'opfe': 10288, 'elstunde': 10289, 'insbesondere': 10290, 'angefeindet': 10291, 'maximilian': 10292, 'bach': 10293, 'drpeternagel': 10294, 'ergaenzung': 10295, 'giesst': 10296, 'staatlich': 10297, 'gepruefter': 10298, 'widerliche': 10299, 'dithmarschen': 10300, 'kreisvorstand': 10301, 'spekulieren': 10302, 'anregen': 10303, 'anbei': 10304, 'fuette': 10305, 'fragwuerdigsten': 10306, 'ltby': 10307, 'baal': 10308, 'mitstreiter': 10309, 'asylbewerbern': 10310, 'erzwingen': 10311, 'klimagoeren': 10312, 'klimastreik': 10313, 'funtionie': 10314, 'effektiv': 10315, 'psychogoere': 10316, 'anhaltet': 10317, 'interviewerin': 10318, 'spdfilme': 10319, 'dorothee': 10320, 'baer': 10321, 'beteiligungen': 10322, 'up': 10323, 'kmh': 10324, 'langenstein': 10325, 'zwieberge': 10326, 'monatige': 10327, 'sperre': 10328, 'arbeitsamt': 10329, 'koalitionspa': 10330, 'kleinste': 10331, 'karenzzeit': 10332, 'landet': 10333, 'fraup': 10334, 'zurueckzunehmen': 10335, 'grimms': 10336, 'eder': 10337, 'pumuckl': 10338, 'oper': 10339, '1909': 10340, 'eroeffnet': 10341, 'intendant': 10342, 'tauber': 10343, 'emigrieren': 10344, 'c0106': 10345, 'notddz': 10346, 'mauer': 10347, 'gemeiste': 10348, 'elefanten': 10349, 'porzellanladen': 10350, 'tapsig': 10351, 'boeswillig': 10352, 'panzern': 10353, 'alternativer': 10354, 'tatsaechlicher': 10355, 'lockerer': 10356, 'bayerns': 10357, 'umgeht': 10358, 'entspannungscouchen': 10359, 'weihnachtsfeier': 10360, 'fraktionsgruendungsversammlung': 10361, 'zulagen': 10362, 'ersichtliche': 10363, 'verfassungswidrige': 10364, 'rechtsstaatsfeindlich': 10365, 'irgendein': 10366, 'alledem': 10367, 'schaendlich': 10368, 'sichtfeld': 10369, 'grundlagen': 10370, '9ten': 10371, 'aussetzt': 10372, 'noerglern': 10373, 'villa': 10374, 'bestechlich': 10375, 'gierig': 10376, 'machtgeil': 10377, 'schwulenfeindlich': 10378, 'geheimdienstes': 10379, 'regierungspolitik': 10380, 'vorgeben': 10381, 'monatsende': 10382, 'sagenhaft': 10383, 'katastrophalen': 10384, 'offenkundigen': 10385, 'buendnis': 10386, 'stalinisten': 10387, 'oekopopulisten': 10388, 'annemarie': 10389, 'eigenheim': 10390, 'bothe': 10391, 'igem': 10392, 'hoehlen': 10393, 'schenk': 10394, 'hoehlenmenschen': 10395, 'klimakompetenz': 10396, 'annalena': 10397, 'emission': 10398, 'dauerzugfahrer': 10399, 'inlandsflug': 10400, 'schauspiel': 10401, 'losgeht': 10402, 'germaniastatue': 10403, 'neuhaus': 10404, 'gefallene': 10405, '1870': 10406, 'gedenkkultur': 10407, 'delegationssitzung': 10408, 'hochmotivie': 10409, 'europadelbuonsenso': 10410, 'konkrete': 10411, 'straftatbestaende': 10412, 'anteile': 10413, 'staetten': 10414, 'hallen': 10415, 'arenen': 10416, 'schwimmbaeder': 10417, 'tabellarisch': 10418, 'erfasst': 10419, 'tabelle': 10420, 'breit': 10421, 'schlammschlacht': 10422, 'landespa': 10423, 'kita': 10424, 'traegerverein': 10425, 'regenbogen': 10426, 'schweins': 10427, 'religloeses': 10428, 'ereife': 10429, 'chinesische': 10430, 'horoskop': 10431, 'yearofthepig': 10432, 'humanismus': 10433, 'helicoptercrash': 10434, 'newyork': 10435, 'manhattan': 10436, 'manhattanhelicoptercrash': 10437, 'lazarus06': 10438, '55uli': 10439, 'lanyihunter1': 10440, 'schaftde': 10441, 'tbgstephen': 10442, 'crypt': 10443, 'ghost': 10444, 'ditschi25': 10445, 'lars9596': 10446, 'mickdonner': 10447, 'connybub': 10448, 'kleineclaudia1': 10449, 'furchterregend': 10450, 'material': 10451, 'ausruestung': 10452, 'sinnvoller': 10453, 'mogelpackung': 10454, 'filmt': 10455, 'gewonnene': 10456, 'wahlkampfes': 10457, 'zerstoerungswut': 10458, 'positives': 10459, 'abgewinnen': 10460, 'einsammeln': 10461, 'positivdenken': 10462, 'pop': 10463, 'saengerin': 10464, 'wahlerfolge': 10465, 'schwaecheren': 10466, 'auszulassen': 10467, 'fluechtlingshilfe': 10468, 'gesammelt': 10469, 'verrueckte': 10470, 'border': 10471, 'ueberrumpelung': 10472, 'uebervo': 10473, 'wahlerfolg': 10474, 'psychologischen': 10475, 'politkampagnenfuehrung': 10476, 'rhetorik': 10477, 'steigern': 10478, 'durchhalten': 10479, 'verschleissen': 10480, 'erwiderung': 10481, 'youtubers': 10482, 'plumpen': 10483, 'wahlwerbefilm': 10484, 'trocken': 10485, 'luftspo': 10486, 'lueneburger': 10487, 'flugplatzes': 10488, 'zeichnen': 10489, 'innovationen': 10490, 'kernbrennstoffen': 10491, 'nuklearia': 10492, 'website': 10493, 'waehlermissachtung': 10494, 'industrienation': 10495, 'marode': 10496, 'mrd': 10497, 'identitaetskrise': 10498, 'desh': 10499, 'patriotischen': 10500, 'nutzern': 10501, 'befinden': 10502, 'besetzt': 10503, 'unbeugsamen': 10504, 'bevoelke': 10505, 'sonderpa': 10506, 'ueberbevoelkerung': 10507, 'entwicklungslaendern': 10508, 'stagnation': 10509, 'wahlkampfendspu': 10510, 'lueneburg': 10511, 'launische': 10512, 'weiden': 10513, 'siegel': 10514, 'vorhaengeschloss': 10515, 'wahlurne': 10516, 'laufenden': 10517, 'durchschnittliches': 10518, 'festzuhalten': 10519, 'versifft': 10520, 'saechsische': 10521, 'meissen': 10522, 'mittelsachsen': 10523, 'ergebirgskreis': 10524, 'nordsachsen': 10525, 'bundespressekonferenz': 10526, 'blickte': 10527, 'katastrophe': 10528, 'akkruecktritt': 10529, 'geheimen': 10530, 'sitzungen': 10531, 'zb': 10532, 'morgenlage': 10533, 'berechtigt': 10534, 'seibe': 10535, 'transparenz': 10536, 'dieselverbot': 10537, 'kerze': 10538, 'stickoxide': 10539, 'strassenverkehr': 10540, 'benziner': 10541, 'nahlesruecktritt': 10542, 'fhuhnhaeuser': 10543, 'dummkopf': 10544, 'galileo': 10545, 'werbeslogan': 10546, 'obligatorische': 10547, 'schlauer': 10548, 'nomorepillepalle': 10549, 'weiterreise': 10550, 'kriegswaffen': 10551, 'maerchenbuecher': 10552, '9jaehrige': 10553, 'rekpicard': 10554, 'bundeszenztale': 10555, 'bessern': 10556, 'cduliefe': 10557, 'waehl': 10558, 'netzdb': 10559, 'aufgezwungen': 10560, 'wahlversprechen': 10561, 'wirsindnichtmehr': 10562, 'selbstbestimmt': 10563, 'sachse': 10564, 'brandung': 10565, 'erwaegt': 10566, 'schlaeft': 10567, 'out': 10568, 'misstrauen': 10569, 'drittletzter': 10570, 'depp': 10571, 'abgeschaltet': 10572, 'verwaltungsgericht': 10573, 'chancengleichheit': 10574, 'kleiner': 10575, 'abzuschalten': 10576, 'ausschliessen': 10577, 'interessen': 10578, 'brutalisierung': 10579, 'stemmen': 10580, 'gesetzeskonformen': 10581, 'gesellschaften': 10582, 'statistische': 10583, 'anomalie': 10584, 'religionsfreiheit': 10585, 'politker': 10586, 'volke': 10587, 'verfassungsmaessige': 10588, 'gebunden': 10589, 'versuche': 10590, 'fluechtlingslagern': 10591, 'nahrungsaufnahme': 10592, 'spion': 10593, 'hintermaenner': 10594, 'eindeutig': 10595, 'produktionskosten': 10596, '2008': 10597, 'affen': 10598, 'korrupte': 10599, 'gaehn': 10600, 'vorgeschlagen': 10601, 'mat': 10602, 'eu2019': 10603, 'stadtraetin': 10604, 'halbnacktres': 10605, 'einhorn': 10606, 'kinderrechte': 10607, 'aufwachsen': 10608, 'gefilmtes': 10609, 'gekramt': 10610, 'geheimverhandlungen': 10611, 'verheimlicht': 10612, 'iaikaiaika': 10613, 'jvermessen': 10614, 'konsument': 10615, 'gay': 10616, 'porn': 10617, 'pervers': 10618, 'abwaegig': 10619, 'klargestellt': 10620, 'halskrause': 10621, 'ueberwachung': 10622, 'keinerlei': 10623, 'missgeschick': 10624, 'feinesahnefickgesicht': 10625, 'rrrraechts': 10626, 'hooligans': 10627, 'uebliche': 10628, 'taeterklientel': 10629, 'abwechslung': 10630, 'echtem': 10631, 'lindern': 10632, 'verdammten': 10633, 'monokulturen': 10634, 'verdammte': 10635, 'meldedrecksau': 10636, 'waldumbau': 10637, 'strapazieren': 10638, 'gaengeln': 10639, 'mischwaelder': 10640, 'mica': 10641, 'berlins': 10642, 'behrendt': 10643, 'moabit': 10644, 'vollzaehlig': 10645, 'sauladen': 10646, 'vordermann': 10647, 'publicity': 10648, 'kulturschaffenden': 10649, 'einmischung': 10650, 'juste': 10651, 'gentrifizie': 10652, 'abgehalfte': 10653, 'kuenstlern': 10654, 'weitesgehend': 10655, 'halali': 10656, 'flutschi010': 10657, 'betreuten': 10658, 'widerlicher': 10659, 'systemhuren': 10660, 'wessis': 10661, 'zusammenhalt': 10662, 'bewirken': 10663, 'wahlbeeinflussenden': 10664, 'promi': 10665, 'stigmatisierung': 10666, 'halbwahrheiten': 10667, 'angefangen': 10668, 'profiteure': 10669, 'foerdergelder': 10670, 'abzuzocken': 10671, 'schleimer': 10672, 'dicken': 10673, 'glatt': 10674, 'ausnahme': 10675, 'ubbelohdeberlin': 10676, 'bonanza': 10677, 'schnucki': 10678, 'tatue': 10679, 'tata': 10680, 'vanisch': 10681, 'erleidet': 10682, 'denuzianten': 10683, 'populisten': 10684, 'einfachen': 10685, 'luden': 10686, 'haeuschen': 10687, 'blankenese': 10688, 'sommerfest': 10689, 'nu': 10690, 'poolbereich': 10691, 'geschrubbt': 10692, 'letztes': 10693, 'ferkelei': 10694, 'pool': 10695, 'ceaucescu': 10696, 'kommunist': 10697, 'weihnachtsgans': 10698, 'geendet': 10699, 'abwa': 10700, 'ehemailgen': 10701, 'bekiffte': 10702, 'altlinke': 10703, 'migrantenfreundlichen': 10704, 'buntewelt1966': 10705, 'sprechchor': 10706, 'erlauben': 10707, 'hellsten': 10708, 'beheimatet': 10709, 'rausnehmen': 10710, 'mitgezeugten': 10711, 'foeten': 10712, 'mitreden': 10713, 'islamophobia': 10714, 'bloedheit': 10715, 'tigerkaefig': 10716, 'beweisen': 10717, 'tiger': 10718, 'religionofpeace': 10719, 'anna': 10720, 'ikularisieren': 10721, 'reaktionaerestrohdummelinke': 10722, 'kulturrevolution': 10723, 'unterwerfen': 10724, 'missverstaendliches': 10725, 'unmissverstaendliches': 10726, 'wahlbeeinflussung': 10727, 'nachgesch': 10728, 'yeaaaahhh': 10729, 'trekkingsandalen': 10730, 'tennissocken': 10731, 'besatzerkindern': 10732, 'verhoe': 10733, 'barley': 10734, 'gesundheitsminister': 10735, 'feststellt': 10736, 'schwulsein': 10737, 'behandel': 10738, 'heilbare': 10739, 'deutschlandhasser': 10740, 'regierungsverhaeltnisse': 10741, 'leberwurst': 10742, 'bewachen': 10743, 'verspraeche': 10744, 'dreiste': 10745, 'katrinhleipzig1': 10746, 'schlesier': 10747, 'erschreckte': 10748, 'schlaumeier': 10749, 'oestliche': 10750, 'neisse': 10751, 'historisch': 10752, 'korrekte': 10753, 'pat22344': 10754, 'dievereintenirren': 10755, 'dievereinigtenverwir': 10756, 'fensterplatz': 10757, 'bio': 10758, 'gretchen': 10759, 'doppelkarre': 10760, 'fraktionschefs': 10761, 'kauder': 10762, 'rbrinkhaus': 10763, 'ungeeignet': 10764, 'festlegung': 10765, 'gelehnt': 10766, 'anschaffen': 10767, 'vergesst': 10768, 'waehlergunst': 10769, '1003': 10770, 'befragte': 10771, 'repraesentativ': 10772, 'anani': 10773, 'sikerim': 10774, 'profiltext': 10775, 'tsg1909': 10776, 'hardrock': 10777, 'sanfte': 10778, 'balladen': 10779, 'kuschelsongs': 10780, 'chrisjuko': 10781, 'gepflegte': 10782, 'konversation': 10783, 'darkcat90': 10784, 'deutliche': 10785, 'klarname': 10786, 'abzufackeln': 10787, 'inzestsachen': 10788, 'senilioren': 10789, 'tbreitschneider': 10790, '80zigern': 10791, 'mauerbau': 10792, 'gefluechtet': 10793, 'installie': 10794, 'umvolkung': 10795, 'aktuellem': 10796, 'bruehl': 10797, 'sir': 10798, 'nosbusch': 10799, 'nasen': 10800, 'meinetwegen': 10801, 'kokain': 10802, 'czarymarybum777': 10803, 'grundsolide': 10804, 'mathematik': 10805, 'ansammlung': 10806, 'lebensjahren': 10807, 'altersweisheit': 10808, 'weltnews': 10809, 'versprecher': 10810, 'iiiiiiccchhh': 10811, 'suessigkeiten': 10812, 'heilen': 10813, 'begrabschen': 10814, 'essener': 10815, 'harz': 10816, 'weltkrieg': 10817, 'ausgeloest': 10818, 'ccckamranccc': 10819, 'femaleaga': 10820, 'homophob': 10821, 'integrier': 10822, 'eisbaer': 10823, 'regenwald': 10824, 'duemmer': 10825, 'zeichenbegrenzung': 10826, 'abgehalten': 10827, 'besonderer': 10828, 'erguss': 10829, 'seinerseits': 10830, 'uffbasse': 10831, 'grossmeister': 10832, 'zopfgedoens': 10833, 'unterversorgte': 10834, 'aufmerksamkeitsdefizit': 10835, 'pflegenotstand': 10836, 'zivilen': 10837, 'ungehorsam': 10838, 'endegelaende': 10839, 'hambibleibt': 10840, 'nobelpreis': 10841, 'heer': 10842, 'ueberschaubares': 10843, 'stammbaum': 10844, 'kreisfoermig': 10845, 'ziege': 10846, 'vorkommt': 10847, 'sympathischen': 10848, 'iceland': 10849, 'menschheitsgeschichte': 10850, 'dtpmaker': 10851, 'stammklientel': 10852, 'oekoextremisten': 10853, 'umstimmen': 10854, 'unwissenheit': 10855, 'scheinheiligkeit': 10856, 'ego': 10857, 'eng': 10858, 'zuparken': 10859, 'romane': 10860, 'homophober': 10861, 'bevoelkerungsgruppen': 10862, 'kerlchen': 10863, 'empfindlich': 10864, 'ferner': 10865, 'schadenfreude': 10866, 'truemme': 10867, 'ruppe': 10868, 'glaubst': 10869, 'haeltst': 10870, 'fusspilz': 10871, 'essbares': 10872, 'gruess': 10873, 'baetschi': 10874, 'theowiesengrund': 10875, 'wicht': 10876, 'bemerkt': 10877, 'pispers': 10878, 'stimmrecht': 10879, 'moebusanne': 10880, 'gruenversiffte': 10881, 'hetzern': 10882, 'volksverdummern': 10883, 'contbau': 10884, 'sozialdienst': 10885, 'kachelmann': 10886, 'unserioesitaet': 10887, 'leugner': 10888, 'klimwandels': 10889, 'ausschlagen': 10890, 'lager': 10891, 'vergraetzen': 10892, 'nachvollziehbares': 10893, 'bitte1': 10894, 'soziologie': 10895, 'diplom': 10896, 'sozialpaedagoge': 10897, 'muellman': 10898, 'intellektuell': 10899, 'nachplappern': 10900, 'staatlicher': 10901, 'intellektuelle': 10902, 'altphilologie': 10903, 'benannt': 10904, 'hoeheren': 10905, 'bildungsabschluesse': 10906, 'praxis': 10907, 'anzuwenden': 10908, 'auszurechen': 10909, 'asylbetrueger': 10910, 'erwi': 10911, 'schaften': 10912, 'rauslassen': 10913, 'verkraften': 10914, 'zukuenftig': 10915, 'erlangt': 10916, 'verbinden': 10917, 'hoheitsvoll': 10918, 'schwadronieren': 10919, 'attituede': 10920, 'heraushaengen': 10921, 'christianisie': 10922, 'lenni': 10923, 'volljaehrig': 10924, 'einzublaeuen': 10925, 'zensurschnepfen': 10926, 'tweeten': 10927, 'wohle': 10928, 'volksgruppe': 10929, 'ankara': 10930, 'tuerkenmuschis': 10931, 'schnupfen': 10932, 'abreisen': 10933, 'jubelt': 10934, 'hasspropaganda': 10935, 'pfingstmontag': 10936, 'arbeitsfrei': 10937, 'narrenschiff': 10938, 'fuenfeinhalb': 10939, 'hohoho': 10940, 'muesstet': 10941, 'alterdonauwels': 10942, 'abgeloest': 10943, 'timmermanns': 10944, 'buschkowsky': 10945, 'aufsteigen': 10946, '16jaehrige': 10947, 'autistin': 10948, 'klimageist': 10949, 'begluecken': 10950, 'strang': 10951, 'beschreibe': 10952, 'schultern': 10953, 'gehauen': 10954, 'zuzubinden': 10955, 'gigantische': 10956, 'klimaprofiteur': 10957, 'pusht': 10958, 'denkverboten': 10959, 'hofieren': 10960, 'non': 10961, 'binary': 10962, 'intolerant': 10963, 'depressionen': 10964, 'uebernimmst': 10965, 'standpunkte': 10966, 'feindbilder': 10967, 'welche': 10968, 'drumheadberlin': 10969, 'thegreenrevolution': 10970, 'georgrestle': 10971, 'lie': 10972, 'befuerwo': 10973, 'ungswuerdig': 10974, 'neubauerstbezug': 10975, 'muelltonnen': 10976, 'pfandfkaschen': 10977, 'essbarem': 10978, 'durchsuchen': 10979, 'neigen': 10980, 'statistisch': 10981, 'kennedy': 10982, 'unzulaessig': 10983, 'jana': 10984, 'hensel': 10985, 'agenfm': 10986, 'masche': 10987, 'lenin': 10988, 'trug': 10989, 'sohlen': 10990, 'proletariat': 10991, 'frischen': 10992, 'loechrigen': 10993, 'fetische': 10994, 'schreiberlinge': 10995, 'verstoerender': 10996, 'sommerliche': 10997, 'durchatmen': 10998, 'aufbehalten': 10999, 'gesinnungs': 11000, 'suchennnnnnnnnnnnnn': 11001, 'aschiebehaft': 11002, 'lauinger': 11003, 'entgangen': 11004, 'mitschreiben': 11005, 'denkdefizit': 11006, 'gelobte': 11007, 'erlaesst': 11008, 'unerlaubt': 11009, 'hoheitsgewaesser': 11010, 'mhh': 11011, 'garnix': 11012, 'ehmmm': 11013, 'bloede': 11014, 'hitze': 11015, 'nachgelegt': 11016, 'unverschaemten': 11017, 'hassobjekt': 11018, 'allenthalben': 11019, 'haeme': 11020, 'gutmenschenfraktion': 11021, 'klarkommen': 11022, 'unschoen': 11023, 'bleistift': 11024, 'angesetzt': 11025, 'bewerkstelligen': 11026, 'meinungafreiheit': 11027, 'krampen': 11028, 'knarrenbauer': 11029, 'grins': 11030, 'caligula': 11031, 'ernennt': 11032, 'konsul': 11033, 'baumeln': 11034, 'aufgeladen': 11035, 'fremdfinanzie': 11036, 'zombies': 11037, 'gluecklicherweise': 11038, 'pflanzungsdrang': 11039, 'genderfluides': 11040, 'dasein': 11041, 'babies': 11042, 'bereiten': 11043, 'wahlergebnis': 11044, 'musselschland': 11045, 'leere': 11046, 'ueberwies': 11047, 'steuerkroeten': 11048, 'hinflutschen': 11049, 'hohlnuss': 11050, '100mal': 11051, 'klimakroeta': 11052, 'geistesbehinde': 11053, 'mangels': 11054, 'schulbesuchen': 11055, 'scheinheiliges': 11056, 'doppelgaenger': 11057, 'genf': 11058, 'sozialstandards': 11059, 'anmahnen': 11060, 'erkennungs': 11061, 'prost': 11062, 'zweifelt': 11063, 'widerliches': 11064, 'kleinauf': 11065, 'saudoofendeutschen': 11066, 'schulligung': 11067, 'robbi': 11068, 'absteckst': 11069, 'mittagessen': 11070, 'pflaume': 11071, 'stichtag': 11072, 'blitz': 11073, 'blank': 11074, 'aische': 11075, 'pfingstochse': 11076, 'csd': 11077, 'schleudern': 11078, 'gruenanlagen': 11079, 'kopftuchtraegerinnen': 11080, 'versifften': 11081, 'mina': 11082, 'raeaechten': 11083, 'fit': 11084, 'gemeldet': 11085, 'heisses': 11086, 'spatzen': 11087, 'schrumpfen': 11088, 'klappern': 11089, 'birne': 11090, 'frische': 11091, 'rauchen': 11092, 'tank': 11093, 'rohoel': 11094, 'umd': 11095, 'frisches': 11096, 'waffenoel': 11097, 'inoldgermany': 11098, 'wessi': 11099, 'u17': 11100, 'mannschaft': 11101, 'tus': 11102, 'binzen': 11103, 'landesliga': 11104, 'wurst': 11105, 'klimaschutzgruenden': 11106, 'cr': 11107, 'pes': 11108, 'gehirngewasche': 11109, 'pfingstferien': 11110, 'erlahmenden': 11111, 'elan': 11112, 'fat': 11113, 'siggis': 11114, 'migrationspolitik': 11115, 'ausgehackt': 11116, 'nichtskoennerin': 11117, 'hohlem': 11118, 'toller': 11119, 'fatmann': 11120, 'schmutzig': 11121, 'wueste': 11122, 'teppiche': 11123, 'flicken': 11124, 'steuergelder': 11125, 'arbeitsklamotten': 11126, 'steuren': 11127, 'ranschaffen': 11128, 'nervenheilanstalt': 11129, 'stadtverwaltung': 11130, 'angestellt': 11131, 'speichel': 11132, 'puscht': 11133, 'narzisstischen': 11134, 'callcenter': 11135, 'agenten': 11136, 'langgeht': 11137, 'beschreiben': 11138, 'klimaschutzprojekt': 11139, 'waehrendzahlen': 11140, 'islamistischer': 11141, 'terrorverfahren': 11142, 'ansteigen': 11143, 'sicherheitsbehoerden': 11144, 'kriminalisierung': 11145, 'veranstaltete': 11146, 'aktionstag': 11147, 'fuellen': 11148, 'dick': 11149, 'gebesse': 11150, 'scheisshaufen': 11151, 'niemalsssssssssssssssss': 11152, 'streicheleinheiten': 11153, 'streicheln': 11154, 'nackter': 11155, 'trieb': 11156, 'eselgehege': 11157, 'herum': 11158, 'besitzerin': 11159, 'eselgeheges': 11160, 'wienerwald': 11161, 'erwischte': 11162, 'unbekleideten': 11163, 'herumtrieb': 11164, 'raecchten': 11165, 'sommerbaeder': 11166, 'ganoven': 11167, 'brutalo': 11168, 'umschreibungen': 11169, 'phaenotypen': 11170, '3785': 11171, 'zusammengesetzt': 11172, 'kindergeld': 11173, '83': 11174, 'zurueckgezahlt': 11175, 'aufgewendet': 11176, 'that': 11177, 'offeln': 11178, 'markieren': 11179, 'kuschen': 11180, 'einscheissen': 11181, 'stinkende': 11182, 'bruehe': 11183, 'auszudruecken': 11184, 'datt': 11185, 'nachruf': 11186, 'begeiste': 11187, 'had': 11188, 'share': 11189, 'this': 11190, 'saubloed': 11191, 'ala': 11192, 'kardashians': 11193, 'spargelstecher': 11194, 'privater': 11195, 'chat': 11196, 'rassie': 11197, 'rin': 11198, 'stroemen': 11199, '13uhr': 11200, 'ansturm': 11201, 'abzufassen': 11202, 'doofenschlafmichel': 11203, 'rammeln': 11204, 'ehm': 11205, 'esco': 11206, '900': 11207, 'carsharing': 11208, 'liebling': 11209, 'leichen': 11210, 'ungestoe': 11211, 'stuhl': 11212, 'kleben': 11213, 'machterhalt': 11214, 'jedenpreis': 11215, 'verschissenen': 11216, 'tattos': 11217, 'verblasst': 11218, 'kapitaen': 11219, 'terrassenmoerder': 11220, 'versauen': 11221, 'wochenteiler': 11222, 'thursday': 11223, 'brueller': 11224, 'monats': 11225, 'fahr': 11226, 'steige': 11227, 'strassenbahn': 11228, 'lichtblick': 11229, 'shoppen': 11230, 'koryphaee': 11231, 'sooooooooooo': 11232, 'egoist': 11233, 'saeugling': 11234, 'mami': 11235, 'gesoffen': 11236, 'interpretieren': 11237, 'visuelles': 11238, 'asylkritiker': 11239, 'aufrief': 11240, 'auffassung': 11241, 'sippe': 11242, 'oberhausen': 11243, 'wahrscheinlichkeit': 11244, 'zaelht': 11245, 'fachkraft': 11246, 'rvergessen': 11247, 'oeffters': 11248, 'schmierigen': 11249, 'tagtaeglichen': 11250, 'sonstigen': 11251, 'religions': 11252, 'miterleben': 11253, 'blutigst': 11254, 'mitverspueren': 11255, 'saarland': 11256, 'letztemuell': 11257, 'maessig': 11258, 'kerle': 11259, 'mmmmhhhhhhhhhh': 11260, 'flugblaetter': 11261, 'hochzeits': 11262, 'korsos': 11263, 'geistes': 11264, 'schwimmbaedern': 11265, 'comic': 11266, 'falschfluechtlings': 11267, 'gruenextremisten': 11268, 'schikanieren': 11269, 'kasse': 11270, 'zeigefinger': 11271, 'strecken': 11272, 'vorbildhaften': 11273, 'lebensfuehrung': 11274, 'favorit': 11275, '3stelliges': 11276, 'minusbereich': 11277, 'alptraum': 11278, 'wahlhelfer': 11279, 'flockig': 11280, 'zoo': 11281, 'toenen': 11282, 'paketdienst': 11283, 'zulieferung': 11284, 'zufriedenheit': 11285, 'reschpekt': 11286, 'unterhemd': 11287, 'zoogestell': 11288, 'stabiler': 11289, 'antonia': 11290, 'sympathisie': 11291, 'jahresausstellung': 11292, 'gescheiter': 11293, 'deutschkurs': 11294, 'akademikerdeutsch': 11295, 'gegenkandidat': 11296, 'bekennender': 11297, 'masochist': 11298, 'lederhaube': 11299, 'masochistischen': 11300, 'rummelboxerin': 11301, 'hauen': 11302, 'klappte': 11303, 'schlechtesten': 11304, 'kloster': 11305, 'angefressen': 11306, 'vorstand': 11307, 'auftaucht': 11308, 'leichenwagen': 11309, 'endet': 11310, 'bestreiten': 11311, 'untergeschoben': 11312, 'freigesprochen': 11313, 'vorprogrammie': 11314, 'mallorca': 11315, 'jetterin': 11316, 'bindencharlotte': 11317, 'viva': 11318, 'plapperrunde': 11319, 'verbotsleder': 11320, 'sandwich': 11321, 'gewoehnen': 11322, 'riskieren': 11323, 'missratenen': 11324, 'pc': 11325, 'hocken': 11326, 'schluepper': 11327, 'termine': 11328, 'ersatzschluepper': 11329, 'heilsbringer': 11330, 'adolf': 11331, 'harem': 11332, 'hermine': 11333, 'speckfresse': 11334, 'uhhh': 11335, 'schandal': 11336, 'drang': 11337, 'bismarckstrasse': 11338, 'wattenscheid': 11339, 'durchsuchten': 11340, 'mehrereschraenke': 11341, 'klautenschmuck': 11342, 'polizeispo': 11343, 'geschissenen': 11344, 'unterhosen': 11345, 'bananen': 11346, 'holster': 11347, 'sprint': 11348, 'weglaufen': 11349, 'neuezeichen': 11350, '2204': 11351, 'kalifat': 11352, 'reingeschissen': 11353, 'raeaechte': 11354, 'jahresstatistik': 11355, 'delikten': 11356, 'reingerechnet': 11357, 'missionarin': 11358, 'polkappe': 11359, 'antarktischen': 11360, 'eises': 11361, 'bloedfisch': 11362, 'trabi': 11363, 'mitfaeh': 11364, 'saechsisch': 11365, 'wers': 11366, 'haendler': 11367, 'schaffe': 11368, 'linksversifften': 11369, 'asylschmarotzer': 11370, 'totfahrer': 11371, 'buergermeisterin': 11372, 'weberlein': 11373, 'bubi': 11374, 'besinnlichkeit': 11375, 'wischlappen': 11376, 'abgreifen': 11377, 'samstagabend': 11378, 'ozean': 11379, 'poetten': 11380, 'teich': 11381, 'unterbelichtet': 11382, 'statistikfehler': 11383, 'arbeitslosenzahlen': 11384, 'rechenfehler': 11385, 'datenueberpruefung': 11386, 'naeheres': 11387, 'herausgefunden': 11388, 'stecher': 11389, 'strassenrand': 11390, 'lindenberg': 11391, 'sattelschleppern': 11392, 'saufkopp': 11393, 'schoe': 11394, 'overcrowding': 11395, 'planetenklima': 11396, 'overcrowdete': 11397, 'begruesse': 11398, 'schnablg': 11399, 'tagesanzeiger': 11400, 'rationalen': 11401, 'argumenten': 11402, 'utopikern': 11403, 'beizukommen': 11404, 'alexand22627607': 11405, 'stalin': 11406, 'bestens': 11407, 'lokishaustier': 11408, 'gesunder': 11409, 'menschenverstand': 11410, 'krankenkassewebung': 11411, 'krankenkassen': 11412, 'schamlos': 11413, 'verdienst': 11414, 'allargentuma': 11415, 'nzzas': 11416, 'hinzuzufuegen': 11417, 'schrecken': 11418, 'autobahn': 11419, 'nahkaempfer': 11420, 'raeaeaechts': 11421, 'frisoer': 11422, 'topfschnitt': 11423, 'taeters': 11424, 'gefickifickit': 11425, 'homevideo': 11426, 'ziegenfell': 11427, 'typis': 11428, 'mac': 11429, 'igfrass': 11430, 'wegwerfwindeln': 11431, 'rumschwaetzen': 11432, 'tempokontrolle': 11433, 'schwyzer': 11434, 'brette': 11435, '176': 11436, 'zuercherland': 11437, 'lz': 11438, 'sp': 11439, 'ahv': 11440, 'fabiokunz21': 11441, 'ceo': 11442, 'ch': 11443, 'gelacht': 11444, 'juristen': 11445, 'gesundheitskosten': 11446, 'respektable': 11447, 'wahrheiten': 11448, 'unterstuetze': 11449, 'zurueckzutreten': 11450, 'klimahysteriker': 11451, 'lest': 11452, 'vm': 11453, 'getto': 11454, 'bluster': 11455, 'acdc': 11456, 'rammstein': 11457, 'wiedermal': 11458, 'klimafreundlichen': 11459, 'natuerlichen': 11460, 'pfaffen': 11461, 'grossveranstaltungen': 11462, 'muselss': 11463, 'groessen': 11464, 'heut': 11465, 'lebensbereiche': 11466, 'juckt': 11467, 'goldgraeber': 11468, 'dumpfbacken': 11469, 'diktaturen': 11470, 'schwaerzer': 11471, 'umweltbewusste': 11472, 'jupigesellschaft': 11473, 'wirklichem': 11474, 'umweltbewusstsein': 11475, 'differenz': 11476, 'zwischen': 11477, 'bekloppter': 11478, 'schiesse': 11479, 'jungschen': 11480, 'verbloeden': 11481, 'gotteskrieger': 11482, 'pluendern': 11483, 'vollversorgung': 11484, 'abu': 11485, 'hoehststrafe': 11486, 'fraglich': 11487, 'linksgruenengutmenschenpolitiker': 11488, 'ersaufen': 11489, 'normalo': 11490, 'herkommt': 11491, 'grau': 11492, 'mithilfe': 11493, 'bevormunderin': 11494, 'euzi': 11495, 'bumerang': 11496, 'haufenweise': 11497, 'stimmzettel': 11498, 'vorzugsstimmen': 11499, 'linksmedien': 11500, 'boehmermanns': 11501, 'weissglut': 11502, 'kommissionspraesidenten': 11503, 'fruehsexualisierungs': 11504, 'phantasien': 11505, 'sturm': 11506, 'eilungs': 11507, 'garnie': 11508, 'fremdenhass': 11509, 'anhaengern': 11510, 'selbsterhaltungs': 11511, 'ueberlebenswille': 11512, 'traumatischer': 11513, 'durchgreifen': 11514, 'arzberg': 11515, 'beobachtungsgabe': 11516, 'wimmelt': 11517, 'uniformie': 11518, 'neonazis': 11519, 'froehlich': 11520, 'parks': 11521, 'herumlunge': 11522, 'geisteszustand': 11523, 'ueberpruefen': 11524, 'prozessfaehig': 11525, 'lacht': 11526, 'faschos': 11527, 'frohepfingsten': 11528, 'alkoholische': 11529, 'melissengeist': 11530, 'blutbahn': 11531, 'kenntnisse': 11532, 'nachhilfe': 11533, 'erasmusstiftung': 11534, 'erwaegen': 11535, 'spendenkasse': 11536, 'haushaltskasse': 11537, 'neid': 11538, 'intelligent': 11539, 'sympathisch': 11540, 'ausgang': 11541, 'pfleger': 11542, 'organisatorische': 11543, 'meisterleistung': 11544, 'ausrueckt': 11545, 'kulturmarxisten': 11546, 'medikamente': 11547, 'reinhoeren': 11548, 'unaussprechliche': 11549, 'betaetigungsfeld': 11550, 'reichenspo': 11551, 'toedlicher': 11552, 'stau': 11553, 'mount': 11554, 'everest': 11555, 'unaufhaltsamen': 11556, 'miasemper': 11557, 'waehlerinnen': 11558, 'hoeflichst': 11559, 'gebeten': 11560, 'stillzulegen': 11561, 'veraeussern': 11562, 'energieversorger': 11563, 'postenschacher': 11564, 'wahlverlierer': 11565, 'poestchen': 11566, 'jaja': 11567, 'verhungere': 11568, 'kasperle': 11569, 'hochsaison': 11570, 'buergerpark': 11571, 'rieben': 11572, 'totgemacht': 11573, 'unbeschwe': 11574, 'dealen': 11575, 'gerd': 11576, 'ittner': 11577, 'axel': 11578, 'schlimper': 11579, 'linksradikalezensur': 11580, 'loeschungswelle': 11581, 'redakteurin': 11582, 'agen': 11583, 'bruellaffen': 11584, 'negroiden': 11585, 'pendelschlag': 11586, 'reichsdeutschen': 11587, '344': 11588, 'treffen1': 11589, 'verstrahlt': 11590, 'mediziners': 11591, 'eintritt': 11592, 'denk': 11593, 'wahrhaftig': 11594, 'manch': 11595, 'transparente': 11596, 'beteue': 11597, 'ausfaellt': 11598, 'spahn': 11599, 'anhoeren': 11600, 'duemmsten': 11601, 'kaelber': 11602, 'metzger': 11603, 'bittere': 11604, 'blamabel': 11605, 'rissige': 11606, 'eingebuerge': 11607, 'beleibt': 11608, 'rechtschaffenen': 11609, 'ernaeh': 11610, 'graust': 11611, 'sklavenhaltergesellschaft': 11612, 'goldstueckchen': 11613, 'gelobten': 11614, 'friedensreligion': 11615, 'gefaeh': 11616, 'monokultur': 11617, 'stroh': 11618, 'rumsuelzen': 11619, 'russischen': 11620, 'verweht': 11621, 'wahrheitsverdrehung': 11622, 'pfui': 11623, 'politzirkus': 11624, 'profiteuren': 11625, 'allemal': 11626, 'raushaut': 11627, 'versagern': 11628, 'schwaetzen': 11629, 'ueberlegte': 11630, 'verifizie': 11631, 'versi': 11632, 'orwell': 11633, 'komische': 11634, 'luegenpropaganda': 11635, 'kotzkotz': 11636, 'schwebten': 11637, 'nordlandtv': 11638, 'survival': 11639, 'wolfszeit': 11640, 'wissenschaftsbetrueger': 11641, 'rausschmeissen': 11642, 'mauna': 11643, 'loa': 11644, 'amthor': 11645, 'kompl': 11646, 'verschwoerungspraktiken': 11647, '051': 11648, 'migrationist': 11649, 'unruhe': 11650, 'niedergehobelte': 11651, 'lahmgelegte': 11652, 'tuerkischen': 11653, 'libanesischer': 11654, 'verdrecken': 11655, 'rupp': 11656, 'versiche': 11657, 'eingehalten': 11658, 'moralischem': 11659, 'rang': 11660, 'froemmigkeit': 11661, '20th': 11662, 'century': 11663, 'world': 11664, 'please': 11665, 'write': 11666, 'truth': 11667, 'cankaoxiaoxicp': 11668, 'washingtonpost': 11669, 'timesofindia': 11670, 'dailymailuk': 11671, 'yomiuri': 11672, 'gruenenmafia': 11673, 'zwangseinwanderung': 11674, 'thomashitz': 11675, 'redet': 11676, 'blinder': 11677, 'fussballverstand': 11678, 'schneider': 11679, 'abstiegsgaranten': 11680, 'urheberrecht': 11681, 'spiegelonlineregierungstreuer': 11682, 'zwangsfinanzierer': 11683, 'einzuhalten': 11684, 'unkonsumierbar': 11685, 'serviler': 11686, 'uebelsten': 11687, 'schweswig': 11688, 'solide': 11689, 'sozipa': 11690, 'eikollege': 11691, 'goutieren': 11692, 'morbus': 11693, 'unterdrueckt': 11694, 'totschlagen': 11695, 'besingen': 11696, 'asly': 11697, 'sachsenwahl': 11698, 'sozilette': 11699, 'sehnlichst': 11700, 'meineidverein': 11701, 'ekelerregend': 11702, 'kinderficker': 11703, 'uebles': 11704, 'hinterhofmoscheen': 11705, 'integrationspolitische': 11706, 'schrittweise': 11707, 'verdraengung': 11708, 'gedicht': 11709, 'schmaehgedicht': 11710, 'unterlassungsklage': 11711, 'abgewiesen': 11712, 'blasphemie': 11713, 'reinkultur': 11714, 'plaedieren': 11715, 'sanctuary': 11716, 'cities': 11717, 'unterbringen': 11718, 'empoerend': 11719, 'verstoerende': 11720, 'dubliner': 11721, 'bergen': 11722, 'adha': 11723, 'lamm': 11724, 'durchschneiden': 11725, 'barbarei': 11726, 'gemetzels': 11727, 'fu': 11728, 'fruehester': 11729, 'steinzeit': 11730, 'integrieren': 11731, 'lueftung': 11732, 'stingt': 11733, 'kochtopf': 11734, 'abteilung': 11735, 'qualitaetskontrolle': 11736, 'shopkeeper': 11737, 'turkey': 11738, 'finds': 11739, 'husky': 11740, 'pup': 11741, 'hea': 11742, 'beat': 11743, 'manages': 11744, 'revive': 11745, 'him': 11746, 'denkweise': 11747, 'erziehung': 11748, 'selbstmordattentaten': 11749, 'jungfrauen': 11750, 'verheissen': 11751, 'stechender': 11752, 'abzielt': 11753, 'tierrechte': 11754, 'globalistischen': 11755, 'schwenken': 11756, 'naivitaet': 11757, 'ueberladen': 11758, 'begruesst': 11759, 'kuss': 11760, 'klugheit': 11761, 'torheit': 11762, 'teddybaer': 11763, 'teddy': 11764, 'great': 11765, 'business': 11766, 'europaweiten': 11767, 'buergerkrieg': 11768, 'szenario': 11769, 'folgendermassen': 11770, 'abspielen': 11771, 'metropolis': 11772, 'friedlich': 11773, 'sozialhilfetouristen': 11774, 'eingeflogen': 11775, 'zurueckgedraengt': 11776, 'knute': 11777, 'glaubensabfall': 11778, 'friedenreligion': 11779, 'sprengglaeubig': 11780, 'schweinefleischberuhigt': 11781, 'kulturbereicherung': 11782, 'nachdenklich': 11783, 'uebersteigen': 11784, 'fache': 11785, 'frauenfussball': 11786, 'frauenfussballwm': 11787, 'atomic': 11788, 'ranch': 11789, 'vorgeschobener': 11790, 'rational': 11791, 'zeig': 11792, 'molenbeek': 11793, 'kammer': 11794, 'nonsenseonfridays': 11795, 'quiz': 11796, 'steinigen': 11797, 'sonder': 11798, 'isis': 11799, 'finsteren': 11800, 'feinen': 11801, 'erfu': 11802, 'islamischer': 11803, 'religionsgeleh': 11804, 'propagie': 11805, 'islamsierung': 11806, 'voranzutreiben': 11807, 'durchschnittstemperatur': 11808, '70er': 11809, 'angestiegen': 11810, 'logik': 11811, 'menschgemachten': 11812, 'ehrenwe': 11813, 'ueberpa': 11814, 'eilich': 11815, 'unverzichtbar': 11816, 'amadeo': 11817, 'demolieren': 11818, 'miga': 11819, 'ionspakt': 11820, 'aufheben': 11821, 'solidarisch': 11822, 'wache': 11823, 'fair': 11824, 'dschihadisten': 11825, 'intakten': 11826, 'bombengue': 11827, 'damm': 11828, 'boomm': 11829, 'sprachunterricht': 11830, 'geworfenes': 11831, 'anfassen': 11832, 'nohandshake': 11833, 'goodboy': 11834, 'kinderarbeit': 11835, 'tausender': 11836, 'kinderseelen': 11837, 'tauentzien': 11838, 'kadewe': 11839, 'schwoer': 11840, 'islamkritik': 11841, 'kostenlose': 11842, 'gesundheitsumsorge': 11843, 'nichtohnemeinekopftuch': 11844, 'batterie': 11845, 'auszurauben': 11846, 'strukturelle': 11847, 'schutzbeduerftige': 11848, 'weitet': 11849, 'asylschutz': 11850, 'teint': 11851, 'bestialischem': 11852, 'zerstueckelt': 11853, 'ahnungslose': 11854, 'assistenten': 11855, 'warme': 11856, 'haeufigkeiten': 11857, 'santa': 11858, 'ana': 11859, 'windgeschwindigkeiten': 11860, 'feuerausbreitung': 11861, 'einhergehen': 11862, 'irgendeinen': 11863, 'stuss': 11864, 'sprachrohre': 11865, 'entstandene': 11866, 'schuldigkeit': 11867, 'ramazan': 11868, 'gruender': 11869, 'add': 11870, 'fb': 11871, 'ausgibt': 11872, 'thx': 11873, 'kirsche': 11874, 'ermittelte': 11875, 'wg': 11876, 'reigen': 11877, 'getanzt': 11878, 'entnehmen': 11879, 'sklave': 11880, 'verspottet': 11881, 'kollektives': 11882, 'selbe': 11883, 'alarm': 11884, 'eselstall': 11885, 'eselbesitzerin': 11886, 'stall': 11887, 'kabinett': 11888, 'strengere': 11889, 'abschieberegeln': 11890, 'dazugesper': 11891, 'todesstrafe': 11892, 'shariah': 11893, 'inklusion': 11894, 'goldenekamera': 11895, 'bibliothek': 11896, 'jura': 11897, 'misch': 11898, 'digger': 11899, 'gelabere': 11900, 'gesamtschul': 11901, 'abi': 11902, 'massives': 11903, 'runterfahren': 11904, 'schuldbildung': 11905, 'ermoeglichten': 11906, 'rettete': 11907, 'wiedergesehen': 11908, 'grenzoeffnung': 11909, 'kiosk': 11910, 'schokoriegel': 11911, 'loewen': 11912, 'kioskbesitzer': 11913, 'lion': 11914, 'clantreffen': 11915, 'superschlaue': 11916, 'arabischem': 11917, 'angehalten': 11918, 'alde': 11919, 'chanel': 11920, 'taschenspiegel': 11921, 'guckt': 11922, 'wusst': 11923, 'bischt': 11924, 'brudi': 11925, 'ganges': 11926, 'emilolsen22': 11927, 'its': 11928, 'b1nd': 11929, 'sozialdemokrat': 11930, 'tierschuetzer': 11931, 'fettes': 11932, 'sonstwohin': 11933, 'radfahren': 11934, 'menschengemachter': 11935, 'schrott': 11936, 'nominie': 11937, 'moslemische': 11938, 'applaudieren': 11939, 'schreiberling': 11940, 'einsetzt': 11941, 'verlangt': 11942, 'trottel': 11943, 'blockdiezeit': 11944, 'auserkorene': 11945, 'redewendungen': 11946, 'silvesterbilanz': 11947, 'karlsruhe': 11948, 'boeller': 11949, '3jaehrige': 11950, 'augenverletzung': 11951, 'beschiessen': 11952, 'feuerwerk': 11953, 'nazikeulenschwinger': 11954, 'geleitet': 11955, 'beitritt': 11956, 'regnerischen': 11957, 'gespielt': 11958, 'bejubeln': 11959, 'amberg': 11960, 'schissma': 11961, 'erschien': 11962, 'neuauflage': 11963, 'wanderschaft': 11964, 'gilad': 11965, 'atzmon': 11966, 'judenheit': 11967, 'angelangt': 11968, 'systemende': 11969, 'zion': 11970, 'faktenverbot': 11971, 'quaelen': 11972, 'massenvernichtungswaffe': 11973, 'inquisition': 11974, 'singulaere': 11975, 'schuster': 11976, 'tarnname': 11977, 'teppich': 11978, 'orb': 11979, 'mitnichten': 11980, 'protokoll': 11981, 'gastes': 11982, 'weltordnung': 11983, 'versenkt': 11984, 'geschuetzte': 11985, 'rastet': 11986, 'tobt': 11987, 'edda': 11988, 'bibel': 11989, 'loewe': 11990, 'traumhaft': 11991, '1001': 11992, 'waehrungs': 11993, '100e': 11994, 'vermoegens': 11995, 'siegten': 11996, 'auserwaehlten': 11997, 'leibhaftigen': 11998, 'aufgehetzten': 11999, 'voelkerscharen': 12000, 'fernsehspot': 12001, 'ehe': 12002, 'thale': 12003, 'gedenkveranstaltung': 12004, 'bretzenheim': 12005, 'aufruf': 12006, 'voigt': 12007, 'oy': 12008, 'vey': 12009, 'afdey': 12010, 'bekennt': 12011, 'fatalen': 12012, 'kolonialisierung': 12013, 'natsiepiefke': 12014, 'admin': 12015, 'fremdschaemen': 12016, 'jagd': 12017, 'razzia': 12018, 'eizentrale': 12019, 'wahrer': 12020, 'rechteste': 12021, 'radiospot': 12022, 'mikrowellenherd': 12023, 'vogt': 12024, 'rufmord': 12025, 'verleumdung': 12026, 'hess': 12027, 'kola': 12028, 'challenger': 12029, 'tschernobyl': 12030, 'reagan': 12031, 'gorbatschow': 12032, 'ussu': 12033, 'summit': 12034, 'mauerfall': 12035, '342': 12036, 'holocaustmahnmal': 12037, 'germanisch': 12038, 'ostara': 12039, 'erzikone': 12040, 'kulturchristlichen': 12041, 'lichterloh': 12042, 'sterbebett': 12043, 'sitzend': 12044, 'schallers': 12045, 'thingkreis': 12046, 'drehtag': 12047, 'volkskraft': 12048, 'migrations': 12049, 'essay': 12050, 'polemik': 12051, 'bataillon': 12052, 'konterrevolution': 12053, 'christ': 12054, 'kuemel': 12055, 'pastor': 12056, 'bode': 12057, 'nachlese': 12058, '049': 12059, 'vl': 12060, 'nerling': 12061, 'sturzbesoffen': 12062, 'volkskraftwoche': 12063, 'hiebe': 12064, 'wurm': 12065, 'made': 12066, 'feindlich': 12067, 'antideutsch': 12068, 'reiches': 12069, 'verpulve': 12070, 'willfaehrige': 12071, 'genossin': 12072, 'nomenklatura': 12073, 'eistipendium': 12074, 'schlange': 12075, 'nordseewellen': 12076, 'koeche': 12077, 'mainstreamig': 12078, 'kirchensteuerinkasso': 12079, 'vereinigungen': 12080, 'buergerlichen': 12081, 'antitotalitaeren': 12082, 'zurueckfinden': 12083, 'besen': 12084, 'geparkt': 12085, 'jean': 12086, 'claude': 12087, 'daemmerschoppen': 12088, 'haloween': 12089, 'bewegungsmittel': 12090, 'mariomayl': 12091, 'missbrauchssekte': 12092, 'gelistet': 12093, 'maechtigen': 12094, 'fluegelspieler': 12095, 'rechtsve': 12096, 'agsmagazi': 12097, 'dealt': 12098, 'ihm': 12099, 'angezuendet': 12100, 'jungs': 12101, 'gefuehl': 12102, 'matsche': 12103, 'patsche': 12104, 'ueckendorfer': 12105, 'geistigem': 12106, 'physischer': 12107, 'kotau': 12108, 'wiedergutmachung': 12109, 'marketinggag': 12110, 'masochistenmagazin': 12111, 'zuzutrauen': 12112, 'stasine': 12113, 'kausalitaet': 12114, 'kurier': 12115, 'nachtraeglich': 12116, 'badenwue': 12117, 'erstem': 12118, 'spurwechsel': 12119, 'strobl': 12120, 'retweet': 12121, 'jucken': 12122, 'prolet': 12123, 'schaerfer': 12124, 'lewandowski': 12125, 'coman': 12126, 'angetrunken': 12127, 'staatsbesuch': 12128, 'ruanda': 12129, 'dunkle': 12130, 'fackel': 12131, 'coole': 12132, 'erkaltet': 12133, 'todesanzeigen': 12134, 'kulturmuslime': 12135, 'dieschonlaengerhierlebenden': 12136, 'legitimieren': 12137, 'schwarzafrika': 12138, 'brauthandschuhe': 12139, 'blackfacing': 12140, 'reverse': 12141, 'mietpreise': 12142, 'stramm': 12143, 'ausgeblendet': 12144, 'enteignungsphantasien': 12145, 'sexy': 12146, 'weiland': 12147, 'wirschaffendasidiotin': 12148, 'eber': 12149, 'eberl': 12150, 'charakterloser': 12151, 'zwerg': 12152, 'became': 12153, 'player': 12154, 'goals': 12155, 'his': 12156, 'eredivisie': 12157, 'appearances': 12158, 'since': 12159, 'kazimierz': 12160, 'frankiewicz': 12161, '1969': 12162, 'lisafromm4': 12163, 'ungebeten': 12164, 'zureist': 12165, 'merkelgaeste': 12166, 'ausweg': 12167, 'verraet': 12168, 'intention': 12169, 'ausweichen': 12170, 'katholische': 12171, 'vereinigung': 12172, 'verabschieden': 12173, 'liberale': 12174, 'gefli': 12175, 'mantra': 12176, 'freiburger': 12177, 'thesen': 12178, 'feministischer': 12179, 'multikulturell': 12180, 'schulbesuch': 12181, 'restaurant': 12182, 'bedienen': 12183, 'diskriminieren': 12184, 'dosenbrot': 12185, 'doofer': 12186, 'muendigen': 12187, 'vernuenftig': 12188, 'einordnen': 12189, 'profit': 12190, 'hoffenden': 12191, 'hasserfuellt': 12192, 'fanatisch': 12193, 'vizepraesidentin': 12194, 'beispiele': 12195, 'spraesidium': 12196, 'gruenversifftes': 12197, 'wolkenkuckucksheim': 12198, 'wegdiskutieren': 12199, 'lesa': 12200, 'bevoelkerungsanteil': 12201, 'wahrhaben': 12202, 'angebliche': 12203, 'migrationsfreunde': 12204, 'ausgespielt': 12205, 'geldes': 12206, 'schwups': 12207, 'spontan': 12208, 'aushaengeschild': 12209, 'spendengierigen': 12210, 'dreist': 12211, 'unbefangen': 12212, 'richtern': 12213, 'gruenem': 12214, 'gesinnungsbonus': 12215, 'unverbindliche': 12216, 'verfassungsgerichtspraesident': 12217, 'programmdirigent': 12218, 'ads': 12219, 'witte': 12220, 'ungemach': 12221, 'raechts': 12222, 'vorsicht': 12223, 'kollege': 12224, 'schultag': 12225, 'outdoorgammeltag': 12226, 'ideologien': 12227, 'nachlaufen': 12228, 'lallt': 12229, 'junckers': 12230, 'ueberdosie': 12231, 'ergebnissen': 12232, 'gipfels': 12233, 'urheberrechtsreform': 12234, 'incl': 12235, 'icle13': 12236, 'copyrightdirective': 12237, 'statement': 12238, 'tamarawernli': 12239, '20cm': 12240, 'sprecherin': 12241, 'nancy': 12242, 'pelosi': 12243, 'impeachment': 12244, 'schnueffelei': 12245, 'ausreichendes': 12246, 'schueffelwei': 12247, 'melanie': 12248, 'amann': 12249, 'ikelbeschreibung': 12250, 'widerwo': 12251, 'onlinehaendler': 12252, 'weck': 12253, 'endlichmalmitprofis': 12254, 'rechtsschreibung': 12255, 'polnischer': 12256, 'groesstenteils': 12257, 'verfault': 12258, 'polnische': 12259, 'wojciech': 12260, 'roszkowski': 12261, 'buches': 12262, 'kulturgesellschaft': 12263, 'hochqualifizie': 12264, 'gebildete': 12265, 'migrationsproblem': 12266, 'auswanderungsland': 12267, 'oberstuebchen': 12268, 'vorgeht': 12269, 'klammheimlich': 12270, 'ablesen': 12271, 'entgleisung': 12272, 'klinische': 12273, 'dimensionen': 12274, 'respektloseste': 12275, 'feldrepo': 12276, 'wissend': 12277, 'interviewte': 12278, 'labbadia': 12279, 'merkelregierung': 12280, 'format': 12281, 'fachkompetent': 12282, 'fisch': 12283, 'fettklos': 12284, 'stufe': 12285, 'fplus': 12286, 'gewissensgruenden': 12287, 'anbieten': 12288, '1ma': 12289, 'inschiller': 12290, 'guidoreil': 12291, 'espendillerm': 12292, 'helmut': 12293, 'seifen': 12294, 'einschuechterungsversuche': 12295, 'krawallmachern': 12296, 'freier': 12297, 'dd2502': 12298, 'lebensfremden': 12299, 'satten': 12300, 'bornie': 12301, 'jogginghose': 12302, 'abenteuerlich': 12303, 'sicheres': 12304, 'herkunftsland': 12305, 'wunschgemaess': 12306, 'weitreichenden': 12307, 'schuettelfrost': 12308, 'verfassungsschutzpraesident': 12309, 'ethos': 12310, 'zeitgemaess': 12311, 'establishment': 12312, 'propagandamedien': 12313, 'diskurshoheit': 12314, 'befuerchtung': 12315, 'biedermeier': 12316, 'frauenrunde': 12317, 'paritaetsgesetz': 12318, 'verrate': 12319, 'amadeuantoniostiftung': 12320, 'hauptfunktion': 12321, 'braunfaerben': 12322, 'nonkonformismus': 12323, 'opfergruppe': 12324, 'erschlossen': 12325, 'aufarbeiter': 12326, 'koerpers': 12327, 'projekten': 12328, 'fluechtlingsmaedchen': 12329, 'meinungsunterdruecku': 12330, 'haldenwang': 12331, 'verfassungsfeinde': 12332, 'objektive': 12333, 'wohlfuehl': 12334, 'rausch': 12335, 'ueberlegenheit': 12336, 'verflogen': 12337, 'allgemeinheit': 12338, 'geleisteten': 12339, 'buergschaften': 12340, 'buergen': 12341, 'wohlfuehlmoment': 12342, 'gutbuerger': 12343, 'fluechtlingsbuergen': 12344, 'migrationsbericht': 12345, 'seehofers': 12346, 'eigenlob': 12347, 'unangebracht': 12348, 'verfassungsfeinden': 12349, 'diskreditieren': 12350, 'stickige': 12351, 'meinungsklima': 12352, 'summe': 12353, 'feigheit': 12354, 'vieler': 12355, 'einzelner': 12356, 'einzustehen': 12357, 'chefredakteur': 12358, 'werberat': 12359, 'schmalkalden': 12360, 'meiningen': 12361, 'sexistischer': 12362, 'landraetin': 12363, 'ruege': 12364, 'gravierende': 12365, 'fehleinschaetzung': 12366, 'stieg': 12367, 'gestaendnis': 12368, 'einzugestehen': 12369, 'cem': 12370, 'gequatsche': 12371, 'brandstiftende': 12372, 'kampfgegenrechts': 12373, 'linksterroristen': 12374, 'beschraenkten': 12375, 'hasskampagnen': 12376, 'aeussersten': 12377, 'mordanschlag': 12378, 'bta': 12379, 'angreifern': 12380, 'halbtot': 12381, 'ausserstande': 12382, 'feigen': 12383, 'mitlaeufer': 12384, 'muts': 12385, 'bedarf': 12386, 'polie': 12387, 'image': 12388, 'harmlose': 12389, 'unbequeme': 12390, 'mitmarschie': 12391, 'abstiegsangst': 12392, 'angehaengt': 12393, 'vermoegend': 12394, 'falsches': 12395, 'goldrichtig': 12396, 'vermutliche': 12397, 'kanzlerdarstellerin': 12398, 'unsaeglichen': 12399, 'radar': 12400, 'durchsegeln': 12401, 'aufklaerungsarbeit': 12402, 'ankunft': 12403, 'grundrecht': 12404, 'cdubpt18': 12405, 'delegie': 12406, 'abler': 12407, 'geplanten': 12408, 'cduvorsitz': 12409, 'oehme': 12410, 'weitaus': 12411, 'paralleljustiz': 12412, 'unverbindlich': 12413, 'merkeldiktatur': 12414, 'allerheiligsten': 12415, 'herumgefummelt': 12416, 'abgeschobene': 12417, 'zuwanderungs': 12418, 'front': 12419, 'gutachtens': 12420, 'machwerk': 12421, 'ausgesuchten': 12422, 'ueberliess': 12423, 'gefaelligkeitsgutachten': 12424, 'stigmatisierende': 12425, 'verfassungsrichter': 12426, 'israelitischen': 12427, 'kultusgemeinde': 12428, 'oberbayern': 12429, 'vorgeworfen': 12430, 'gedenken': 12431, 'gekue': 12432, 'auszeichnet': 12433, 'jury': 12434, 'ehrlichkeit': 12435, 'mordserie': 12436, 'migrationskrise': 12437, 'extreme': 12438, 'frauenfeindlichkeit': 12439, 'islamismus': 12440, 'benachteiligung': 12441, 'diskurses': 12442, 'insel': 12443, 'obergrenze': 12444, 'familienzusammenfuehrungen': 12445, 'festgesetzt': 12446, 'aufruhr': 12447, 'souveraene': 12448, 'unterzeichnung': 12449, 'rechtlich': 12450, 'absichtserklaerung': 12451, 'harmlos': 12452, 'zwingt': 12453, 'migrationspaktstoppen': 12454, 'studentin': 12455, 'gruppenvergewaltigung': 12456, 'starb': 12457, 'globus': 12458, 'erbost': 12459, 'strafrechts': 12460, 'ereignis': 12461, 'reflexhaften': 12462, 'verrohung': 12463, 'ltwhessen': 12464, 'ltwhe': 12465, 'ltwhe18': 12466, 'hessenwahl': 12467, 'stolzen': 12468, 'lehrstellen': 12469, 'bellvedaehr': 12470, 'hd': 12471, 'unfreiwillig': 12472, 'widerstandskaempfern': 12473, 'venezolaner': 12474, 'nebenwirkungen': 12475, 'prinz': 12476, 'human': 12477, 'golfstrompumpe': 12478, 'namens': 12479, 'menschenmassen': 12480, 'herren': 12481, 'sued': 12482, 'mitteleuropa': 12483, 'schaufelt': 12484, 'budgetkuerzungen': 12485, 'migrationsverbaende': 12486, 'haushaltskuerzungen': 12487, 'menschengemachten': 12488, 'streite': 12489, 'erwaermt': 12490, 'menschliche': 12491, 'arabisches': 12492, 'menschenrechtsverletzungen': 12493, 'dekret': 12494, 'samstag': 12495, 'beugen': 12496, 'demostenes': 12497, 'floros': 12498, 'geopolitischen': 12499, 'libyenkrise': 12500, 'verringern': 12501, 'erhebliche': 12502, 'unterbrechungen': 12503, 'verspielt': 12504, '2010': 12505, 'ratschlaegen': 12506, 'einwanderungskritischeren': 12507, 'jetzigen': 12508, 'sigmar': 12509, 'abbau': 12510, 'fauler': 12511, 'ausfallgefaehrdeter': 12512, 'bilanzen': 12513, 'sank': 12514, 'risiken': 12515, 'kunstprojekt': 12516, 'baeumen': 12517, 'europacupspiel': 12518, 'steindy': 12519, 'traditionsverein': 12520, 'rapid': 12521, 'teilnahme': 12522, 'europacup': 12523, 'symbol': 12524, 'abdankung': 12525, 'japanischen': 12526, 'kaisers': 12527, 'kinderleicht': 12528, 'beendigung': 12529, 'tenno': 12530, 'einheit': 12531, 'japans': 12532, 'wachstumsmarkt': 12533, 'eingebrochen': 12534, 'ernsten': 12535, 'problemen': 12536, 'mitbegruender': 12537, 'oskar': 12538, 'medienberichtes': 12539, 'beider': 12540, 'position': 12541, 'gespraechen': 12542, 'abzocke': 12543, 'poker': 12544, 'zapft': 12545, 'gemeinde': 12546, 'brunnsee': 12547, 'wildalpen': 12548, 'uoaei1': 12549, 'mittwoch': 12550, 'wasserschutz': 12551, 'einbringen': 12552, 'lisel': 12553, 'elmis': 12554, 'moinbrifn': 12555, 'kolumnist': 12556, 'elmar': 12557, 'hoerig': 12558, 'leviten': 12559, 'molotow': 12560, 'raet': 12561, 'finanzsenator': 12562, 'einwanderungspolitik': 12563, 'daenischen': 12564, 'armin': 12565, 'ganzseitigen': 12566, 'sonntagszeitung': 12567, 'gunsten': 12568, 'nordrhein': 12569, 'westfaelischen': 12570, 'jahrzehnten': 12571, 'laengerem': 12572, 'gemessenen': 12573, 'sommerpause': 12574, 'schuldenstreit': 12575, 'konflikt': 12576, 'eurokrise': 12577, 'staatsverschuldung': 12578, 'foermlichen': 12579, 'einleitung': 12580, 'politpegel': 12581, 'sonntagsfrage': 12582, 'insa': 12583, 'einverstanden': 12584, 'inhalte': 12585, 'washingtons': 12586, 'durchbrechen': 12587, 'staendigen': 12588, 'kriegsrausches': 12589, 'herausforderungen': 12590, 'beantwo': 12591, 'blockpa': 12592, 'nutzlos': 12593, 'brandenburgtrend': 12594, 'infratest': 12595, 'dimap': 12596, 'rbb': 12597, 'vermeiden': 12598, 'stabilitaetsfragen': 12599, 'diplomat': 12600, 'ueberheblichkeit': 12601, 'sicherheitsschule': 12602, 'bundesheer': 12603, 'fasste': 12604, 'instandhaltung': 12605, 'bundeshandelsakademie': 12606, 'bestialisch': 12607, 'schaechtet': 12608, 'verzweifelter': 12609, '62': 12610, 'ramelow': 12611, 'ministerpraesidenten': 12612, 'zuwiderhandlung': 12613, 'kapitaenen': 12614, 'betreibern': 12615, 'blutet': 12616, 'wiedervereinigung': 12617, 'driften': 12618, 'einwohnerzahlen': 12619, 'auseinander': 12620, 'bevoelkerungszahl': 12621, 'riesige': 12622, 'maschine': 12623, 'zensurversuche': 12624, 'ikel13demo': 12625, 'thematik': 12626, 'anschaulich': 12627, 'fraktionen': 12628, 'anmassender': 12629, 'unterscheidung': 12630, 'offenbaren': 12631, 'wahlbuerger': 12632, 'unwilligkeit': 12633, 'sueden': 12634, 'braeuchten': 12635, 'abschliessen': 12636, 'vielfliegerin': 12637, 'abfeiern': 12638, 'gendern': 12639, 'tickt': 12640, 'schleichenden': 12641, 'einwanderergruppen': 12642, 'spezifisches': 12643, 'steuerungsinstrument': 12644, 'unterdrueckung': 12645, 'unliebsamer': 12646, 'zusammenrottung': 12647, 'unwoe': 12648, 'launch': 12649, 'red': 12650, 'dead': 12651, 'redemption': 12652, 'premiere': 12653, 'bestelle': 12654, 'lade': 12655, 'vorab': 12656, 'zwangsheirat': 12657, 'unkultur': 12658, 'linksverblendete': 12659, 'klatscher': 12660, 'inszenieren': 12661, 'riebene': 12662, 'machetenaehnliche': 12663, 'schwingender': 12664, 'elfeinhalb': 12665, 'ungerecht': 12666, 'empathie': 12667, 'camperin': 12668, 'gesundheitswesen': 12669, 'suedtiroler': 12670, 'saegt': 12671, 'ethnischen': 12672, 'proporz': 12673, 'krankenhauszimmer': 12674, 'govba': 12675, 'svp': 12676, 'bozen': 12677, 'muehsam': 12678, 'errungenen': 12679, 'volksgruppenausgleich': 12680, 'volksbegehren': 12681, 'medienzentrum': 12682, 'landtagsabgeordneten': 12683, 'raepple': 12684, 'putins': 12685, 'italienbesuch': 12686, 'bilaterale': 12687, 'kuendigte': 12688, 'ausgeliefe': 12689, 'unions': 12690, 'minderheitsregierung': 12691, 'anmarsch': 12692, 'oestlichen': 12693, 'dem': 12694, 'parallelwaehrung': 12695, 'defizitverfahren': 12696, 'empfehlung': 12697, 'unwahrscheinlich': 12698, 'koenig': 12699, 'abdullah': 12700, 'saudia': 12701, 'anashir': 12702, 'arabiens': 12703, 'bekanntgab': 12704, 'sezession': 12705, 'voxadpocalpyse': 12706, 'borderless': 12707, 'opus': 12708, 'magnum': 12709, 'ferienvermietung': 12710, 'immobilienpreise': 12711, 'kike': 12712, 'sarasola': 12713, 'olympia': 12714, 'reiter': 12715, 'narr': 12716, 'weswegen': 12717, 'tierkopf': 12718, 'hotelkette': 12719, 'room': 12720, 'mate': 12721, 'verewigt': 12722, 'salz': 12723, 'achill': 12724, 'patras': 12725, 'mehren': 12726, 'aufzugeben': 12727, 'schockierende': 12728, 'eingegriffen': 12729, 'gratulie': 12730, 'ratschlag': 12731, 'migrantenrettung': 12732, 'dekrets': 12733, 'hilfsorganisationen': 12734, 'tendieren': 12735, 'rezession': 12736, 'beunruhigend': 12737, 'vfutscher': 12738, 'nc': 12739, 'mietendeckel': 12740, 'bundesfinanzminister': 12741, 'verstaendnis': 12742, 'einzufrieren': 12743, 'leuchtet': 12744, 'laedt': 12745, 'kasatschok': 12746, 'kalinka': 12747, 'versaubeutelt': 12748, 'gekettet': 12749, 'rebellion': 12750, 'ermordeter': 12751, 'airpo': 12752, 'kuala': 12753, 'lumpur': 12754, 'craig': 12755, 'halbbruder': 12756, 'nordkoreanischen': 12757, 'diktators': 12758, 'comet': 12759, 'photo': 12760, 'jaehrlichen': 12761, 'fraustreik': 12762, 'hochgebildete': 12763, 'ueberzeugten': 12764, 'zeitgenossen': 12765, 'pflegte': 12766, 'grossmutter': 12767, 'selig': 12768, 'festzustellen': 12769, 'strategisch': 12770, 'hebel': 12771, 'handelsverhandlungen': 12772, 'gaengiges': 12773, 'zahlungsmittel': 12774, 'optionen': 12775, 'zahlung': 12776, 'token': 12777, 'gleichstellungsbeauftragte': 12778, 'paschke': 12779, 'kratzin': 12780, 'vorstoss': 12781, 'gendergerechter': 12782, 'draengt': 12783, 'zentralbank': 12784, 'leitzinsen': 12785, 'drohschreiben': 12786, 'aufgetaucht': 12787, 'vergeltung': 12788, 'angedroht': 12789, 'asylbedingungen': 12790, 'allahs': 12791, 'ueberschuettet': 12792, 'eurorechte': 12793, '27jaehriger': 12794, 'nachmittag': 12795, 'nigrischen': 12796, 'kurzarbeit': 12797, 'arbeitsmarkt': 12798, 'truebt': 12799, 'klimadiktatur': 12800, 'transformation': 12801, 'ii': 12802, 'te': 12803, 'vorgaenge': 12804, 'recherchie': 12805, 'besorgnis': 12806, 'aufgezeigt': 12807, 'groesseren': 12808, 'bruesseler': 12809, 'eurokraten': 12810, 'angriffs': 12811, 'uss': 12812, 'libe': 12813, 'diktator': 12814, 'machtuebernahme': 12815, 'premierministers': 12816, 'kriegsverbrechens': 12817, 'bedrohungen': 12818, 'eskalationen': 12819, 'naeckig': 12820, 'schuf': 12821, 'herausgebers': 12822, 'stigmata': 12823, 'eiengefuege': 12824, 'vollzieht': 12825, 'fragolin': 12826, 'militaergymnasium': 12827, 'uebergangs': 12828, 'eidigungsexpe': 12829, 'geschasst': 12830, 'aufgeschoben': 12831, 'meinungskundegebung': 12832, 'wahlpoebels': 12833, 'weltpolitik': 12834, 'abkehr': 12835, 'konfrontation': 12836, 'egoistischen': 12837, 'alleingaenge': 12838, 'elefantenhochzeit': 12839, 'autobauern': 12840, 'fiat': 12841, 'chrysler': 12842, 'renault': 12843, 'streben': 12844, 'muehsamer': 12845, 'festung': 12846, 'schnellere': 12847, 'luxemburg': 12848, 'ankuendigungen': 12849, '2070': 12850, 'buntling': 12851, 'wohnhaft': 12852, 'verkleidet': 12853, 'indigener': 12854, 'ausgestorbenen': 12855, 'loyalitaetsprobleme': 12856, 'gottes': 12857, 'scharlatane': 12858, 'franziskus': 12859, 'schrittlich': 12860, 'bewunde': 12861, 'hochreligioeser': 12862, 'grenzwe': 12863, 'nervensaege': 12864, 'wauw': 12865, 'meets': 12866, 'kingside': 12867, 'wilpec': 12868, 'clanmitglieder': 12869, 'verhaften': 12870, 'minderbemittelt': 12871, 'instrument': 12872, 'vernichtungstweets': 12873, 'muelheim': 12874, 'schlank': 12875, 'huendin': 12876, 'hellbraunes': 12877, 'fell': 12878, 'orangene': 12879, 'halsband': 12880, 'schlossbruecke': 12881, 'rank': 12882, 'normaler': 12883, 'rausgeschmissen': 12884, 'arbeitslosenversicherung': 12885, 'schnallen': 12886, 'eingeschworen': 12887, 'schaftsabschwung': 12888, 'flixbus': 12889, 'beziehen': 12890, 'sozialleistungen': 12891, 'appellieren': 12892, 'jackpot': 12893, 'hochburg': 12894, 'linksfaschos': 12895, 'gescreenshotteten': 12896, 'schenken': 12897, 'flutung': 12898, 'totgelacht': 12899, 'lab': 12900, 'molekuelen': 12901, '4g': 12902, 'microwellenstrahlung': 12903, 'erwaermen': 12904, 'energieumwandlungsgesetz': 12905, 'baltimore': 12906, '3x': 12907, 'praeger': 12908, 'shitholetowns': 12909, 'diktatorenunterstuetzer': 12910, 'meeresboden': 12911, 'befoerde': 12912, 'verstaendliches': 12913, 'praeventivverhalten': 12914, 'genehmigen': 12915, 'netto': 12916, 'brutto': 12917, 'lebenskosten': 12918, 'annaehernd': 12919, 'kalkulie': 12920, 'aachenerve': 12921, 'sinngemaesse': 12922, 'ausage': 12923, 'madmimi': 12924, 'betrachtet': 12925, 'dramamaessig': 12926, 'uellen': 12927, 'ankuendigen': 12928, 'selbstmitleid': 12929, 'moralisieren': 12930, 'sandy82609625': 12931, 'suzydymna': 12932, 'imad': 12933, 'karim': 12934, 'gemeinsamkeiten': 12935, 'hineingeboren': 12936, 'beitreten': 12937, 'austreten': 12938, 'austritt': 12939, 'apostasie': 12940, 'korans': 12941, 'journal': 12942, 'microsoft': 12943, 'flight': 12944, 'simulator': 12945, 'e3': 12946, 'announce': 12947, 'psychische': 12948, 'stoerung': 12949, 'weisser': 12950, 'hassverbrechen': 12951, 'umgefahren': 12952, 'rothschild': 12953, 'weltregierung': 12954, 'gesinnungswissenschaft': 12955, 'gesinnungspolitik': 12956, 'navy': 12957, 'ernstzunehmende': 12958, 'sichtungen': 12959, 'untersuchungen': 12960, 'militaers': 12961, '73': 12962, 'versteckten': 12963, 'luzifer': 12964, 'alien': 12965, 'gestaltung': 12966, 'offenbarung': 12967, 'bevoelkerungsaustausches': 12968, 'mahnwachen': 12969, 'unsterblich': 12970, 'unvergessen': 12971, 'geheimaktion': 12972, 'megacrash': 12973, 'thanks': 12974, 'helping': 12975, 'bison': 12976, 'millionenstaedte': 12977, 'abdullahzentrum': 12978, 'saudiarabia': 12979, 'nachahmer': 12980, 'entstuende': 12981, 'taete': 12982, 'fact': 12983, 'latein': 12984, 'pizza': 12985, 'compressa': 12986, 'fischblog': 12987, 'forscherrobe': 12988, 'denniseckmeier': 12989, 'pfannkuchen': 12990, 'lokale': 12991, 'leitet': 12992, 'etymologisch': 12993, 'restdeutschland': 12994, 'fuellung': 12995, 'vielgeruehmten': 12996, 'fruchtbarkeit': 12997, 'notaufnahme': 12998, 'iranischen': 12999, 'jawan': 13000, 'revolutionsgarden': 13001, 'iranreise': 13002, 'karikatur': 13003, 'fusionsverhandlungen': 13004, 'ineinsnundiehaende': 13005, '10k': 13006, 'wohlwollend': 13007, 'einraeumt': 13008, 'gutsein': 13009, 'kommunikation2019': 13010, 'geliked': 13011, 'weitesten': 13012, 'gelten': 13013, 'urlaubern': 13014, 'konversion': 13015, 'therapien': 13016, 'aluhuete': 13017, 'flacherdler': 13018, 'lieblingsfeind': 13019, 'schuettelt': 13020, 'dissonanz': 13021, 'aktueller': 13022, 'erneuerung': 13023, 'orientie': 13024, 'aufstellt': 13025, 'warnhinweis': 13026, 'zeitgleich': 13027, 'karrenbauers': 13028, 'neuland': 13029, 'sgd': 13030, 'schriftzuege': 13031, 'acab': 13032, 'verzie': 13033, 'nachnamen': 13034, 'bastarde': 13035, 'verbal': 13036, 'eingepruegelt': 13037, 'rassismusvorwurf': 13038, 'verstoerend': 13039, 'rassismuskeule': 13040, 'glueckliche': 13041, 'eingetuppe': 13042, 'huerde': 13043, 'angekommen': 13044, 'zurueckgetreten': 13045, 'kipping': 13046, 'hollsteinm': 13047, 'arbeiterkinder': 13048, 'akademikern': 13049, 'kevins': 13050, 'bundeskanzlern': 13051, 'fuehrungsdiskussion': 13052, 'penis': 13053, 'urploetzlich': 13054, 'nuechternheit': 13055, 'mariamlau1': 13056, 'analytisch': 13057, 'tamtam': 13058, 'finstersten': 13059, 'zaehlen': 13060, 'orient': 13061, 'gegenaufklaerung': 13062, 'ressentiments': 13063, 'nahostwissenschaftler': 13064, 'starkmachen': 13065, 'ste': 13066, 'verwenden': 13067, 'eiprogramm': 13068, 'witter': 13069, 'schaum': 13070, 'rosie': 13071, 'fesche': 13072, 'schockstarre': 13073, 'beruhigt': 13074, 'wanderlieder': 13075, 'kritzelmonster': 13076, 'robuste': 13077, 'daenischem': 13078, 'wae': 13079, 'moderne': 13080, 'errungenschaft': 13081, 'leo': 13082, 'varadkar': 13083, 'trumps': 13084, 'absurden': 13085, 'irische': 13086, 'landgrenze': 13087, 'anhoe': 13088, 'axt': 13089, 'befluegelt': 13090, 'strengen': 13091, 'halbie': 13092, 'gegensatz': 13093, 'gymnastikwettkaempfen': 13094, 'trainers': 13095, 'gaht': 13096, 'bewusste': 13097, 'vergammelt': 13098, 'home': 13099, 'hoelle': 13100, 'mielke': 13101, 'bitterlich': 13102, 'kapitalisten': 13103, 'alexa': 13104, 'erkanbald': 13105, 'graphen': 13106, 'maennlichen': 13107, 'weiblichen': 13108, 'gesundheitssystem': 13109, 'aussteigen': 13110, 'gegenueberliegenden': 13111, 'eingeklemmt': 13112, 'weiterfahren': 13113, 'taschengelderhoehung': 13114, 'amerikaner': 13115, 'laestern': 13116, 'kommunistischen': 13117, 'freiheitsaktivisten': 13118, 'himmlischen': 13119, 'praegendsten': 13120, 'zentraler': 13121, 'wagne': 13122, 'exte': 13123, 'zurueckzulassen': 13124, 'belassen': 13125, 'senatorin': 13126, 'landesbeamte': 13127, 'weisungsgemaess': 13128, 'durchfuehren': 13129, 'strafanzeigen': 13130, 'hausfriedensbruchs': 13131, 'innensenator': 13132, 'hebt': 13133, 'linus': 13134, 'foerster': 13135, 'inhalten': 13136, 'kompetenz': 13137, 'lesenswer': 13138, 'stummen': 13139, 'aufsteiger': 13140, 'erfinder': 13141, 'kleinscheiss': 13142, '531': 13143, 'genehmigungen': 13144, 'umweltgutachten': 13145, 'vorlegen': 13146, 'wuetende': 13147, 'buergerinitiativen': 13148, 'besaenftigen': 13149, 'verkehrsprobleme': 13150, 'reinpassen': 13151, 'schienen': 13152, 'zufolge': 13153, 'geltung': 13154, 'verschaffen': 13155, 'asylpraxis': 13156, 'durchhaltbar': 13157, 'verdoppelung': 13158, 'handelsarithmetik': 13159, 'beguenstigt': 13160, 'indische': 13161, 'kaushik': 13162, 'verhaengung': 13163, 'zoellen': 13164, 'aufrechterhalten': 13165, 'unternehmerverband': 13166, 'nachlassende': 13167, 'verband': 13168, 'familienunternehmer': 13169, 'kalte': 13170, 'krieger': 13171, 'pullach': 13172, 'group': 13173, 'aerge': 13174, 'ricks': 13175, 'konkurrenten': 13176, 'kybernetisierung': 13177, 'defense': 13178, 'advanced': 13179, 'research': 13180, 'energiedichte': 13181, 'irina': 13182, 'slav': 13183, 'aufwae': 13184, 'swelle': 13185, 'kursziel': 13186, 'unze': 13187, 'beschleunigungsphase': 13188, 'groesster': 13189, 'minenaktien': 13190, 'chemischer': 13191, 'keule': 13192, 'montgomery': 13193, 'chemischen': 13194, 'eilter': 13195, 'lohnabhaengige': 13196, 'schonlaengerhierlebende': 13197, 'waehlermilieu': 13198, 'anbiedern': 13199, 'ueberschriften': 13200, 'nah': 13201, 'ohr': 13202, 'leise': 13203, 'knopp': 13204, 'buchreihe': 13205, 'pussy': 13206, 'vieprg': 13207, 'personaldebatte': 13208, 'jahreszeit': 13209, 'taetowierungen': 13210, 'zufrieden': 13211, 'hilferuf': 13212, 'kreuzfah': 13213, 'venedig': 13214, 'ams': 13215, 'keines': 13216, 'eivorsitzender': 13217, 'ueberbewe': 13218, 'flog': 13219, 'denunziations': 13220, 'reconquista': 13221, 'ermordeten': 13222, 'identitaetspolitik': 13223, 'opfergruppen': 13224, 'konstituieren': 13225, 'durchschnittliche': 13226, 'biografie': 13227, 'djvde': 13228, 'dd1502': 13229, 'symphatisanten': 13230, 'linksmobs': 13231, 'kamera': 13232, 'foerderknete': 13233, 'kuchen': 13234, 'kampfes': 13235, 'raeaeaechtz': 13236, 'abzubekommen': 13237, 'vatikanstaedtischer': 13238, 'taetigkeit': 13239, 'game': 13240, 'thrones': 13241, 'zuende': 13242, 'geschaut': 13243, 'spoiler': 13244, 'drachenfeuer': 13245, 'einschaetzung': 13246, 'pruefen': 13247, 'juengst': 13248, 'suse1603': 13249, 'emmanuelmacron': 13250, 'aussprechen': 13251, 'dauerhetze': 13252, 'lunge': 13253, 'mitternacht': 13254, 'fielmann': 13255, 'blogger': 13256, 'buerste': 13257, 'scharr': 13258, 'schuehchen': 13259, 'restlichen': 13260, 'jaehrchen': 13261, 'hintergrundrauschen': 13262, 'pravda': 13263, 'zementie': 13264, 'umkehrung': 13265, 'putsch': 13266, 'vereinten': 13267, 'koenigreich': 13268, 'risse': 13269, 'anglo': 13270, 'sicherstellen': 13271, 'vergangenem': 13272, 'internetseite': 13273, 'flughafenchef': 13274, 'schaedlicher': 13275, 'nuernberger': 13276, 'flughafens': 13277, 'hupe': 13278, 'klimaschaedlicher': 13279, 'abwegig': 13280, 'ludwig': 13281, 'ball': 13282, 'koste': 13283, 'keszler': 13284, 'crew': 13285, 'from': 13286, 'veranstalter': 13287, 'kostenfalle': 13288, 'eignungstest': 13289, 'automatisie': 13290, 'geldanlagen': 13291, 'privatanleger': 13292, 'erschuetternden': 13293, 'anleger': 13294, 'sicherste': 13295, 'massstab': 13296, 'aufgeregte': 13297, 'socialmedia': 13298, 'billa': 13299, 'schokoladenkaeufe': 13300, 'tafeln': 13301, '2005': 13302, 'abgebissen': 13303, 'charisma': 13304, 'einbahnstrassenschild': 13305, 'verfuegt': 13306, 'naturgemaess': 13307, 'potential': 13308, 'talentie': 13309, 'nachwuchspolitiker': 13310, 'aelteste': 13311, 'buchhandlung': 13312, 'carolus': 13313, 'branchenumbruch': 13314, 'verhaengnis': 13315, 'schalldichten': 13316, 'blaue': 13317, 'uebergangsregierung': 13318, 'komentator': 13319, 'beckerrainald': 13320, 'melnen': 13321, 'eispende': 13322, 'steuerlich': 13323, 'fravie': 13324, 'diepa': 13325, 'europawahlen': 13326, 'auswendig': 13327, 'strassenbahnkorso': 13328, 'kursie': 13329, 'mitglieds': 13330, 'inhalt': 13331, 'wahlschlappen': 13332, 'floskelbingo': 13333, 'spielka': 13334, 'wahlsonntag': 13335, 'europawahlen2019': 13336, 'bingo': 13337, 'bullshitbingo': 13338, 'wuesste': 13339, 'enttaeuschung': 13340, 'analysieren': 13341, 'linkshaendern': 13342, '69': 13343, 'absoluten': 13344, 'zulegen': 13345, 'gesamtelternversammlung': 13346, 'gefuehlte': 13347, 'treter': 13348, 'politikermeinen': 13349, 'unweiblichen': 13350, 'eigenschaften': 13351, 'friends': 13352, 'planeten': 13353, 'liebhabe': 13354, 'landroute': 13355, 'mfg': 13356, 'gebucht': 13357, 'ruecklaeufe': 13358, 'sozialdemokratischer': 13359, 'schauthin': 13360, 'sogenannte': 13361, 'zunahme': 13362, 'ausmachen': 13363, 'waehlergruppe': 13364, 'elend': 13365, 'bronzekurs': 13366, 'standardtaenze': 13367, 'foxtrott': 13368, 'haltungstwitter': 13369, 'populistischen': 13370, 'uefa': 13371, 'ekanon': 13372, 'werbekampagnen': 13373, 'armeniers': 13374, 'mkhitaryan': 13375, 'baku': 13376, 'inakzeptabel': 13377, 'fussballs': 13378, 'labour': 13379, 'hochverdient': 13380, 'kassette': 13381, 'kinderlachen': 13382, 'verstecken': 13383, 'beherrscht': 13384, 'popcorncontent': 13385, 'waesche': 13386, 'nuerburgring': 13387, '1976': 13388, 'reichsbruecke': 13389, 'donau': 13390, 'niki': 13391, 'laudas': 13392, 'dreifache': 13393, 'formel': 13394, 'kappe': 13395, 'kandidieren': 13396, 'gipfeltreffen': 13397, 'einschuechtern': 13398, 'oligarchennichte': 13399, 'schalten': 13400, 'zeilen': 13401, 'heinz': 13402, 'kompostieren': 13403, 'abhaengig': 13404, 'entlassung': 13405, 'verzug': 13406, 'televoting': 13407, 'durchschnittlich': 13408, 'jurys': 13409, '875': 13410, 'televoters': 13411, 'vergeben': 13412, 'zero': 13413, 'blondine': 13414, 'moepsen': 13415, 'elmilliarde': 13416, 'rumwedelt': 13417, 'allerjuengste': 13418, 'abschlachten': 13419, 'miit': 13420, 'gedemuetigtem': 13421, 'entsprechend': 13422, 'handzahmen': 13423, 'lief': 13424, 'recherchieren': 13425, 'leber': 13426, 'hohenstein': 13427, 'ueberschaubar': 13428, 'verletzungen': 13429, 'geglaubt': 13430, 'league': 13431, 'rausgekickt': 13432, 'toooooooooor': 13433, 'jaaaaaaaaaa': 13434, 'mainwasser': 13435, 'irgendwer': 13436, 'staendige': 13437, 'generalsekretaer': 13438, 'zuruecktreten': 13439, 'wehre': 13440, 'vizekanzlers': 13441, 'deute': 13442, 'zahlreich': 13443, 'kommentierung': 13444, 'regierungskrise': 13445, 'mischung': 13446, 'theaterkritik': 13447, 'burgtheater': 13448, 'musisches': 13449, 'poetisches': 13450, 'unernst': 13451, 'areal': 13452, 'rwe': 13453, 'abbrucharbeiter': 13454, 'manheim': 13455, 'beteiligt': 13456, 'grasser': 13457, 'fw': 13458, 'oedp': 13459, 'tierschutzpa': 13460, 'grumpy': 13461, 'cat': 13462, 'rausschmeissenund': 13463, 'anreisen': 13464, 'nk': 13465, 'irrwitzig': 13466, 'gleichermassen': 13467, 'dummschwaetzenden': 13468, '25jaehrigen': 13469, 'rumschlagen': 13470, 'trollen': 13471, 'beeindruckende': 13472, 'buehnenshow': 13473, 'geschickter': 13474, 'trockennebel': 13475, 'duell': 13476, 'kuschliger': 13477, 'parallel': 13478, 'wahlbenachrichtigung': 13479, 'wahlka': 13480, 'heller': 13481, '2mal': 13482, 'vietxl': 13483, 'treu': 13484, 'rassistenverein': 13485, 'ruehrend': 13486, 'strassenlaternen': 13487, 'ungefragt': 13488, 'lebensgrosse': 13489, 'passbilder': 13490, 'umgehangen': 13491, 'kondakov': 13492, 'europawahlkampf': 13493, 'rollenspielfreaks': 13494, 'naechtelang': 13495, 'boeswilliger': 13496, 'neoliberaler': 13497, 'geifernder': 13498, 'stalinist': 13499, 'panischer': 13500, 'oekojesus': 13501, 'scheisssaison': 13502, 'rausekeln': 13503, 'walen': 13504, 'notwendigkeit': 13505, 'geigenkonze': 13506, 'blauwale': 13507, 'buehne': 13508, 'verkacken': 13509, 'sgem05': 13510, 'schleyer': 13511, 'buback': 13512, 'rohwedder': 13513, 'herrhausen': 13514, 'stockt': 13515, 'atem': 13516, 'royalbaby': 13517, 'personenunabhaengigen': 13518, 'nachhaltigen': 13519, 'geographisch': 13520, 'gerechten': 13521, 'monarchenve': 13522, 'schlimmster': 13523, 'bandname': 13524, 'dezentraler': 13525, 'bahnanbindung': 13526, 'hundefreundliche': 13527, 'balkon': 13528, 'ggf': 13529, 'rumliegen': 13530, 'bonuspunkte': 13531, '4000': 13532, 'hehehe': 13533, 'plastiktueten': 13534, 'entwicklungslaender': 13535, 'uebersehe': 13536, 'staub': 13537, 'nuetzliche': 13538, 'schnuppern': 13539, 'ajax': 13540, 'amsterdam': 13541, 'ausspielen': 13542, 'euroleague': 13543, 'pott': 13544, 'unglaublichen': 13545, 'europatournee': 13546, 'sge': 13547, 'kassiererlosen': 13548, 'supermarktkassen': 13549, 'passend': 13550, 'roboter': 13551, 'pfennigmuenzen': 13552, 'rachen': 13553, 'boes': 13554, 'stellenausschreibung': 13555, 'digitaler': 13556, 'bewerbungsunterlagen': 13557, 'papierpost': 13558, 'gefuehlt': 13559, 'stockphoto': 13560, 'haeuserzeile': 13561, 'bebilde': 13562, 'luxussanie': 13563, 'eigentumswohnungen': 13564, 'rrg': 13565, 'parkgebuehren': 13566, 'einkommenssteuer': 13567, 'ungleich': 13568, 'verursachen': 13569, 'strassenabnutzung': 13570, 'ersatzteile': 13571, 'verbrauchsmaterial': 13572, 'a5': 13573, 'oberleitungslastwagen': 13574, 'werkhallen': 13575, 'kasernen': 13576, 'rp19': 13577, 'transparent': 13578, 'lobbyregister': 13579, 'eigenem': 13580, 'bekunden': 13581, 'droehnt': 13582, 'ykoenig': 13583, 'anschrie': 13584, 'beschimpfte': 13585, 'drohte': 13586, 'halbach': 13587, 'valerielesrayna': 13588, 'konkret': 13589, 'geboten': 13590, 'rechtswidrigen': 13591, 'abzuwenden': 13592, 'zweierleimass': 13593, 'update': 13594, 'beweismaterial': 13595, 'unzensie': 13596, 'ladenburger': 13597, 'mia': 13598, 'kandel': 13599, 'koenntn': 13600, 'urenkel': 13601, 'betrogen': 13602, 'bleibendes': 13603, 'vermaechtnis': 13604, 'armuts': 13605, 'steuerkasse': 13606, 'gezahlt': 13607, 'bexbach': 13608, 'pfingstwochenende': 13609, 'hintereinander': 13610, 'bahnreisende': 13611, 'belaestigen': 13612, 'kaeri91622010': 13613, 'lempathia': 13614, 'veranstaltet': 13615, 'einerseits': 13616, 'prochemnitz': 13617, 'absagen': 13618, 'wahltagistzahltag': 13619, 'jaehr': 13620, 'prenzlau': 13621, 'tschetschenen': 13622, 'wuergemale': 13623, 'zeuge': 13624, 'ausfindig': 13625, 'zivilcourage': 13626, 'schriftlich': 13627, 'akhbar': 13628, 'bekaempft': 13629, 'zensie': 13630, 'wahlplakat': 13631, 'mundtot': 13632, 'verbuenden': 13633, 'bereichteren': 13634, 'zugticket': 13635, 'widersetzt': 13636, 'renitent': 13637, 'anwesenden': 13638, 'bundespolizist': 13639, 'bahnmitarbeiter': 13640, 'staatlichen': 13641, 'erziehungsorgane': 13642, 'verschleierungsauftrag': 13643, 'kaserne': 13644, 'fahndung': 13645, 'polizeibeamtin': 13646, 'mitgefilmt': 13647, 'vergangene': 13648, 'antut': 13649, 'errichten': 13650, 'schwerstverletzt': 13651, 'notruf': 13652, 'ehrenamtlich': 13653, 'saubermachen': 13654, 'vogelmoerder': 13655, 'windrad': 13656, 'windenergie': 13657, 'verharmlost': 13658, 'wahlberechtigt': 13659, 'strafmuendig': 13660, 'szenen': 13661, 'jugendstrafrecht': 13662, 'befassen': 13663, 'anis': 13664, '8jaehriger': 13665, 'liegts': 13666, 'investigativjournalist': 13667, 'alkoholrausch': 13668, 'leistet': 13669, 'energien': 13670, 'metalle': 13671, 'vergiften': 13672, 'gewinnung': 13673, 'anlagen': 13674, 'tonne': 13675, 'seltene': 13676, 'umweltschaedlich': 13677, 'praktikabel': 13678, 'progressive': 13679, 'verbrennungsmotor': 13680, 'anrichten': 13681, 'verunglimpften': 13682, 'verdanken': 13683, 'boliden': 13684, 'durchdrehen': 13685, 'gabs': 13686, 'polizeimuenchen': 13687, 'showeinlage': 13688, 'ordnungswidrigkeiten': 13689, 'markuscan': 13690, 'luisamneubauer': 13691, '125': 13692, 'flugkilometer': 13693, 'permanente': 13694, 'urlaube': 13695, 'mysterioes': 13696, 'sanitaeter': 13697, 'terasse': 13698, 'nachtigall': 13699, 'ick': 13700, 'hoer': 13701, 'trappsen': 13702, 'tragoedie': 13703, 'definitiv': 13704, 'mutie': 13705, 'doktorwuerde': 13706, 'tatsachen': 13707, 'oberhaching': 13708, 'wirkende': 13709, 'vorhalt': 13710, 'mitarbeiterinnen': 13711, 'geschockten': 13712, 'kriseninterventionsteam': 13713, 'betreut': 13714, 'rauliche': 13715, 'oppositionellen': 13716, 'schlaegern': 13717, 'staatsantifa': 13718, 'zugaenglich': 13719, 'teilnehmern': 13720, 'spanferkel': 13721, 'protestgrillen': 13722, 'syriern': 13723, 'hellichten': 13724, 'guckte': 13725, 'zeigte': 13726, 'blutverschmie': 13727, 'disgusting': 13728, 'berechnung': 13729, 'still': 13730, 'auswuerfeln': 13731, 'amtierende': 13732, 'unvermeidlich': 13733, 'globalcompactmigration': 13734, 'idiotie': 13735, 'unterzeichnet': 13736, 'lakaien': 13737, 'ates': 13738, 'kurswende': 13739, 'ate': 13740, 'frauenrechtlerin': 13741, 'drohe': 13742, 'schwacher': 13743, 'schwaechelt': 13744, 'nennenswe': 13745, 'eurozone': 13746, 'deuten': 13747, 'konjunktursignale': 13748, 'niedrigere': 13749, 'geholfen': 13750, 'testosteron': 13751, 'luemmeln': 13752, 'isl': 13753, 'zentrums': 13754, 'organisieren': 13755, 'chillt': 13756, 'ayatollahs': 13757, 'fackeln': 13758, 'richterin': 13759, 'erweckt': 13760, 'rechtsprechung': 13761, 'wehrmachtshelm': 13762, 'unbefangenheit': 13763, 'schmierlappen': 13764, 'gedenkt': 13765, 'referenden': 13766, 'wahlpflicht': 13767, 'tschoeoeh': 13768, 'ger': 13769, 'aeaeh': 13770, 'dingensdah': 13771, 'zweifele': 13772, 'zahle': 13773, 'ui': 13774, 'ewie': 13775, 'oberkellner': 13776, 'durstig': 13777, 'kack': 13778, 'stelzen': 13779, 'trapattoni': 13780, 'allmachtsphantasien': 13781, 'italienischen': 13782, 'senil': 13783, 'relugion': 13784, 'taharrushgamea': 13785, 'genoetigt': 13786, 'stritten': 13787, 'impulse': 13788, 'emmanuel': 13789, 'rauens': 13790, 'nahost': 13791, 'geopolitisch': 13792, 'golfstaaten': 13793, 'gegenseitigen': 13794, 'gedankengang': 13795, 'marco': 13796, 'maier': 13797, 'henry': 13798, 'unionsfraktionschef': 13799, 'gelte': 13800, 'arbeitnehmer': 13801, 'goldreserven': 13802, 'gewachsen': 13803, 'edelmetall': 13804, 'unabhaengiger': 13805, 'pendant': 13806, 'frederick': 13807, 'delius': 13808, 'nietzsches': 13809, 'zarathustra': 13810, '155': 13811, 'wiederkehr': 13812, 'stages': 13813, 'gleichnamige': 13814, 'tondichtung': 13815, 'wirrkoepfe': 13816, 'steinke': 13817, 'rodgau': 13818, 'obdachlosenheim': 13819, 'reihenhaeuser': 13820, 'zuliebe': 13821, 'abstriche': 13822, 'targobank': 13823, 'umfragewe': 13824, 'dahinter': 13825, 'militarisierung': 13826, 'region': 13827, 'risk': 13828, 'insights': 13829, 'rovaniemi': 13830, 'versammelten': 13831, 'hiess': 13832, 'mehrfachmoerder': 13833, 'ahmed': 13834, 'nurso': 13835, 'noten': 13836, '500er': 13837, 'weitergehende': 13838, 'gutmenschkind': 13839, 'verkommene': 13840, 'poebelralle': 13841, 'parkhaus': 13842, 'perve': 13843, 'justizsystem': 13844, 'untrainie': 13845, 'schwabbel': 13846, 'austrainie': 13847, 'kommune': 13848, 'perspektive': 13849, 'wahlkampfhilfe': 13850, 'zehnjaehrige': 13851, 'jetzigem': 13852, 'herzlose': 13853, 'persoenlicher': 13854, 'mieses': 13855, 'bonnie': 13856, 'bonniestrange': 13857, 'inbesitznahme': 13858, 'abgesegnet': 13859, 'entfernte': 13860, 'krakau': 13861, 'veranlassung': 13862, 'gibbs': 13863, 'mcgee': 13864, 'gefroren': 13865, 'musk': 13866, 'kiffte': 13867, 'kinderchen': 13868, 'kiffens': 13869, 'richtigkeit': 13870, 'ungeprueften': 13871, 'familienhetze': 13872, 'gestreut': 13873, 'mithetzen': 13874, 'windows': 13875, 'anwender': 13876, 'desktop': 13877, 'entfernen': 13878, 'beschieden': 13879, 'kachelnmuessenweg': 13880, '52': 13881, 'teiltext': 13882, 'ueberhebliche': 13883, 'anfaengt': 13884, 'reibungslosen': 13885, 'ablauf': 13886, 'vorsichtiger': 13887, 'spezialisten': 13888, 'vorgeschichte': 13889, 'durchleuchten': 13890, 'bekloppte': 13891, 'hinter': 13892, 'peinlichste': 13893, 'schief': 13894, 'gequake': 13895, 'twitten': 13896, 'sprudelndes': 13897, 'geschaeftsmodel': 13898, 'patientenbindung': 13899, 'einbringt': 13900, 'vermeidbare': 13901, 'toter': 13902, 'impfungen': 13903, 'folgeschaeden': 13904, 'stoche': 13905, 'sinnloser': 13906, 'rasen': 13907, 'besuchte': 13908, 'melphia': 13909, 'kumasi': 13910, 'regelrechte': 13911, 'einqua': 13912, 'ges': 13913, 'paedophilen': 13914, 'paedophilenfreund': 13915, 'vorschiebt': 13916, 'duldungs': 13917, 'paedophile': 13918, 'entkommt': 13919, 'entfuehrer': 13920, 'hinlegen': 13921, 'genuss': 13922, 'guenter': 13923, 'wallraff': 13924, 'radsturz': 13925, 'wettbuero': 13926, 'suhrbier': 13927, 'abendblatt': 13928, 'waeldern': 13929, 'solen': 13930, 'mirja80': 13931, 'james0099077522': 13932, 'evele24527026': 13933, 'danny': 13934, '1703': 13935, 'setze': 13936, 'abzusehen': 13937, 'anruf': 13938, 'aufhielt': 13939, 'bereitgestellt': 13940, 'bruttoinlandsprodukt': 13941, 'warst': 13942, 'ken': 13943, 'jebsen': 13944, 'rubikon': 13945, 'geschworenengerichte': 13946, 'bewahre': 13947, 'schw': 13948, 'unfassbare': 13949, 'vorausschauend': 13950, 'vorausgesehen': 13951, 'dhue20121': 13952, 'verlernt': 13953, 'sinnvolle': 13954, 'saetze': 13955, 'jeweils': 13956, 'twingofah': 13957, 'zweck': 13958, 'ressourcen': 13959, 'zeitverschwendung': 13960, 'rekonstruieren': 13961, 'tattag': 13962, 'vorstellt': 13963, 'entlastet': 13964, 'aeltesten': 13965, 'jessica': 13966, 'uebernachtet': 13967, 'verliess': 13968, 'westfernsehen': 13969, 'dermassen': 13970, 'geruch': 13971, 'offensichtliche': 13972, 'ermittlungsweigerung': 13973, 'fangt': 13974, 'brandenburger': 13975, 'himbeeren': 13976, 'pfluecken': 13977, 'benedict': 13978, 'cumberbatch': 13979, 'jonny': 13980, 'lee': 13981, 'miller': 13982, 'sherlock': 13983, 'darsteller': 13984, 'traurige': 13985, 'schutzbeduerftig': 13986, 'investigative': 13987, 'ausnahmsweise': 13988, 'aufgebracht': 13989, 'angel': 13990, 'tauchausflug': 13991, 'gestehe': 13992, 'hingewiesen': 13993, 'daemlich': 13994, 'stangen': 13995, 'schaufeln': 13996, 'erfolgsaussichten': 13997, 'oeffentlichkeitsfahndung': 13998, 'fahrzeugs': 13999, 'angeln': 14000, 'einstimmig': 14001, 'ruhestand': 14002, 'geschoepf': 14003, 'bitterlicher': 14004, 'familienfreund': 14005, 'bildlich': 14006, 'untergangsspecial': 14007, 'soylent': 14008, 'green': 14009, 'special': 14010, 'belegte': 14011, 'abgestempelt': 14012, 'kluegste': 14013, 'reiben': 14014, 'eingeredeter': 14015, 'gesundschrumpfen': 14016, 'ausbluten': 14017, 'apuz': 14018, 'wachstumsmaschine': 14019, 'demografische': 14020, 'ermittlungsstands': 14021, 'dringenden': 14022, 'tatverdacht': 14023, 'sonja': 14024, 'schaue': 14025, 'nenner': 14026, 'deaktivie': 14027, 'drogenscene': 14028, 'idiotentest': 14029, 'objektiven': 14030, 'eilsfreien': 14031, 'sorgfaeltig': 14032, 'wahrheitsgehalt': 14033, 'ueberprueften': 14034, 'polizeimeldungen': 14035, 'stank': 14036, 'mkdus': 14037, 'katja30299307': 14038, 'taeuschung': 14039, 'ergab': 14040, 'waelder': 14041, 'abgesucht': 14042, 'bayerischen': 14043, 'grenzschliessung': 14044, 'grossangelegte': 14045, 'praesentieren': 14046, 'urbach': 14047, 'harmlosen': 14048, 'netzaktivisten': 14049, 'knaurverlag': 14050, 'gruenejugend': 14051, 'amused': 14052, 'fahnen': 14053, 'verblendet': 14054, 'selbstopferung': 14055, 'sagten': 14056, 'hochbegabt': 14057, 'schrieben': 14058, 'now': 14059, 'they': 14060, 'eat': 14061, 'their': 14062, 'words': 14063, 'interne': 14064, 'dokumente': 14065, 'badeanstalten': 14066, 'pate': 14067, 'polygamie': 14068, 'vorzeige': 14069, 'kommunikative': 14070, 'betreff': 14071, 'hilfsarbeiter': 14072, 'ta': 14073, 'arrush': 14074, 'geldfund': 14075, 'koranversen': 14076, 'gestoppt': 14077, 'einblick': 14078, 'volksstimme': 14079, 'flieger': 14080, 'lampe': 14081, 'ohhellokathrina': 14082, 'vielfaeltigen': 14083, 'kultuer': 14084, 'gesundbrunnen': 14085, 'europe': 14086, 'grausamen': 14087, 'hovelshorst': 14088, 'wessen': 14089, 'kotzt': 14090, 'sashtyani': 14091, 'vorra': 14092, 'aufgeklae': 14093, 'kosovo': 14094, 'wedelt': 14095, 'zuendet': 14096, 'asylheime': 14097, 'widmet': 14098, 'zugesendeten': 14099, 'slt': 14100, 'rehkitze': 14101, 'parlamentarischer': 14102, 'maehmaschinen': 14103, 'tierschutzpol': 14104, 'besonderem': 14105, 'groefaz': 14106, 'religionsgemeinschaft': 14107, 'auslaenderfeindlich': 14108, 'veraechtlich': 14109, 'erbaermlichee': 14110, 'italienisch': 14111, 'froesche': 14112, 'nachba': 14113, 'eich': 14114, 'jeden': 14115, 'loesungsansaetze': 14116, 'glaenzender': 14117, 'utopien': 14118, 'angefuellter': 14119, 'aufgeschwemmter': 14120, 'berufsjugendlicher': 14121, 'berufsabschluss': 14122, 'spderneuern': 14123, 'projektwoche': 14124, 'saeure': 14125, 'friedliches': 14126, 'mehrheitsverhaeltnisse': 14127, 'jesuisbroder': 14128, 'ergroovt': 14129, 'uli': 14130, 'joerges': 14131, 'armutszeugnis': 14132, 'verstandene': 14133, 'unterwerfung': 14134, 'fremden': 14135, 'freiheitliche': 14136, 'schulleiter': 14137, 'johannes': 14138, 'grod': 14139, 'aschaffenburger': 14140, 'froebelschule': 14141, 'schlufest': 14142, 'peteraltmaier': 14143, 'gesinnungsdiktaur': 14144, 'amtisemitsmus': 14145, 'christenverfolgung': 14146, 'frauenunterdrueckung': 14147, 'rutschen': 14148, 'waehlerstimmen': 14149, 'gewechselt': 14150, 'untergegang': 14151, 'programmie': 14152, 'christianmars84': 14153, '1980': 14154, 'ua': 14155, 'armselig': 14156, 'pfruende': 14157, 'kante': 14158, 'biss': 14159, 'ansagen': 14160, 'azsgehebelt': 14161, 'allerletzte': 14162, 'gebrauchen': 14163, 'linksruck': 14164, 'beschimpfungen': 14165, 'vizepraesident': 14166, 'beidhaendig': 14167, 'schmerzensgeld': 14168, 'strudel': 14169, 'abenteuerlichen': 14170, 'beschleunigend': 14171, 'betitelt': 14172, 'michael00350135': 14173, 'allfaellige': 14174, 'ticket': 14175, 'etablie': 14176, 'aufspringen': 14177, 'jahaaa': 14178, 'erkenntnis': 14179, 'gepredigt': 14180, 'verstand': 14181, 'brunnen': 14182, 'roman51110': 14183, 'gattung': 14184, 'nannten': 14185, 'wendehaelse': 14186, 'allmaehlich': 14187, 'verheerenden': 14188, 'wahlergebnissen': 14189, 'spezialdemokraten': 14190, 'umdenken': 14191, 'helgelindh': 14192, 'spdebakel': 14193, 'daenen': 14194, 'jaemmerlicher': 14195, 'hochjubeln': 14196, 'betreutes': 14197, 'klassisches': 14198, 'jstaltenberg': 14199, 'ergoetzt': 14200, 'antisemitischen': 14201, 'antidemokratischen': 14202, 'homophopen': 14203, 'steilvorlage': 14204, 'heuteshow': 14205, 'nichtmal': 14206, 'ansatzweise': 14207, 'faehig': 14208, 'stichhaltiges': 14209, 'vorzulegen': 14210, 'nem': 14211, 'befehlsgebundenen': 14212, 'landesebene': 14213, 'hinbekommt': 14214, 'blechkamerad': 14215, 'hegt': 14216, 'kaempferische': 14217, 'allmachtsfantasien': 14218, 'eigen': 14219, 'tschingterrassa': 14220, 'bumterassa': 14221, 'terassa': 14222, 'eisentoepfe': 14223, 'birnen': 14224, 'aufruesten': 14225, 'aich': 14226, 'einsaetzen': 14227, 'bw': 14228, 'einw': 14229, 'territorialarmee': 14230, 'eidigen': 14231, 'auslandseinsaetzen': 14232, 'unschoene': 14233, 'panst': 14234, 'leim': 14235, 'psychiatrischen': 14236, 'tollhaus': 14237, 'wetterbericht': 14238, 'helmstedt': 14239, 'wein': 14240, 'angebaut': 14241, 'browserspiel': 14242, 'langweilig': 14243, 'bagage': 14244, 'snarkyinfidel': 14245, 'ratten': 14246, 'angeht': 14247, '68': 14248, '70ern': 14249, 'dreckvoegel': 14250, 'wide': 14251, 'narrenfreiheit': 14252, 'area51': 14253, 'servas': 14254, 'thorwald': 14255, 'respektloses': 14256, 'misslungenen': 14257, 'hurenkinder': 14258, 'staedtebauliches': 14259, 'heruntergekommen': 14260, 'uferpromenade': 14261, 'demolie': 14262, 'sitten': 14263, 'verwildern': 14264, 'frickma1': 14265, 'messerfachkraefte': 14266, 'wehrlose': 14267, 'heel': 14268, 'elternteil': 14269, 'anheuern': 14270, 'wohlstandes': 14271, 'nachhaltiger': 14272, 'gcm': 14273, 'heldenstimme': 14274, 'daffyfuq': 14275, 'viechers': 14276, 'staerksten': 14277, 'wahlverhalten': 14278, 'versagt': 14279, 'seh': 14280, 'werd': 14281, 'michels': 14282, 'leidensfaehigkeit': 14283, 'kappen': 14284, 'einmalig': 14285, 'sprachkenntnisse': 14286, 'russisch': 14287, 'chuj': 14288, 'goar': 14289, 'fruechten': 14290, 'sollst': 14291, 'like': 14292, 'fckg': 14293, 'hinlegt': 14294, 'gewinnchancen': 14295, 'clevere': 14296, 'boyz': 14297, 'pos': 14298, 'gruppendynamik': 14299, 'ergaenzen': 14300, 'regionaler': 14301, 'einzelfaellen': 14302, 'frankundfreya': 14303, 'aufzuhoeren': 14304, 'brutalst': 14305, 'wiege': 14306, 'schaetzungsweise': 14307, 'mind': 14308, 'obere': 14309, 'marxloh': 14310, 'schmarotzer': 14311, 'gesindel': 14312, 'danm': 14313, 'genacht': 14314, 'lmao': 14315, 'irgendeinem': 14316, 'hing': 14317, 'parasiten': 14318, 'dummdeutschland': 14319, 'gemurkselte': 14320, 'walten': 14321, 'ewiges': 14322, 'women': 14323, 'gedoense': 14324, 'verschworen': 14325, 'weggesper': 14326, 'hundesteuer': 14327, 'pfandflaschen': 14328, 'gestohlen': 14329, 'spar': 14330, 'imaginaere': 14331, 'sollt': 14332, 'umschwenken': 14333, 'hochkonjunktur': 14334, 'selbstve': 14335, 'offelnazis': 14336, 'deradikalisieren': 14337, 'widersinnig': 14338, 'grenzenloser': 14339, 'identitaetspruefung': 14340, 'wirsindnichtoffensondernnichtmehrganzdicht': 14341, 'loeffel': 14342, 'abgegeben': 14343, 'rodriguezsusane': 14344, 'lel': 14345, 'ansteckend': 14346, 'rausgehauen': 14347, 'wtfilikegretanow': 14348, 'profraika': 14349, 'milky': 14350, 'way': 14351, 'schwimmen': 14352, 'gehirngewaschen': 14353, 'keins': 14354, 'indoktrination': 14355, 'versagende': 14356, 'elternhaeuser': 14357, 'schulpflicht': 14358, 'samstagen': 14359, 'chopperina2': 14360, 'serioese': 14361, 'erbaermlich': 14362, 'aufschlag': 14363, 'tewes': 14364, 'susanne': 14365, 'darstellerplantagen': 14366, 'gezuechtet': 14367, 'faymann': 14368, 'spindelegger': 14369, 'traeumer': 14370, 'wegn': 14371, 'mitmachn': 14372, 'musstn': 14373, 'druf': 14374, 'hbe': 14375, 'deswegn': 14376, 'gesprochen': 14377, 'ruf': 14378, 'ruinieren': 14379, '07cavio': 14380, 'klick': 14381, 'koerbchengroesse': 14382, 'goldstuecke': 14383, 'asien': 14384, 'mischwald': 14385, 'gebirge': 14386, 'wurzelt': 14387, 'breite': 14388, 'klammern': 14389, 'buchen': 14390, 'eichen': 14391, 'pflanzt': 14392, 'mischkulturen': 14393, 'sepp': 14394, 'holzer': 14395, 'kapitalisch': 14396, 'foseti': 14397, 'gagen': 14398, 'fcmmicha1': 14399, 'betreutendenken': 14400, 'mussten': 14401, 'widerstehen': 14402, 'verwoehnte': 14403, 'rocky0668': 14404, 'buergermeisterwahl': 14405, 'hillary': 14406, 'clinton': 14407, 'nachgeholfen': 14408, 'auszugehen': 14409, 'huren': 14410, 'katzenbilder': 14411, 'porno': 14412, 'satansbraten': 14413, 'eire': 14414, 'unschuldige': 14415, 'benehmt': 14416, 'gefaehrderin': 14417, 'divers': 14418, 'befasst': 14419, 'radikal': 14420, 'absehbar': 14421, 'ahnen': 14422, 'inhaltliche': 14423, 'sonderbare': 14424, 'allgemeinbildung': 14425, 'bizarrheit': 14426, 'kenzovandagg': 14427, 'leistungsfaehigkeit': 14428, 'demoteilnehmer': 14429, 'engel': 14430, 'duemmste': 14431, 'krankehirne': 14432, 'schwaetzer': 14433, 'nehmt': 14434, 'schaltet': 14435, 'handies': 14436, 'uebernehmt': 14437, 'hippie': 14438, 'scheuen': 14439, 'weihwasser': 14440, 'memmen': 14441, 'pflegeheimen': 14442, 'tobiv14': 14443, 'regnet': 14444, 'weltlaender': 14445, 'waermer': 14446, 'klimaerwaermung': 14447, 'digitalerc': 14448, 'huepft': 14449, 'verstandsbefreite': 14450, 'bildungsferne': 14451, 'hervorbringt': 14452, 'einweisen': 14453, 'freilauf': 14454, 'mehrfacher': 14455, 'moeglichkeiten': 14456, 'pfeffer': 14457, 'beschwichtigen': 14458, 'strunzdoof': 14459, 'lichtschalter': 14460, 'gruendeppen': 14461, 'krach': 14462, 'vorallem': 14463, 'eloquentes': 14464, 'volldeppen': 14465, 'ausplaude': 14466, 'ausschalten': 14467, 'peinlichen': 14468, 'furchtbar': 14469, 'aemtern': 14470, '68er': 14471, 'angerichtet': 14472, 'indoktrinierung': 14473, 'unis': 14474, 'propoga': 14475, 'ausgebildet': 14476, 'ds': 14477, 'leichtglaeubig': 14478, 'unterschaetzen': 14479, 'fehlende': 14480, 'nachsitzen': 14481, 'jedeunvollstaendige': 14482, 'ausgewachsenes': 14483, 'jugendprogramm': 14484, 'beatles': 14485, 'heinrichludger': 14486, 'idoden': 14487, 'houelle': 14488, 'impfschaeden': 14489, 'bekomm': 14490, 'aggressionen': 14491, 'anhoere': 14492, 'inzucht': 14493, 'kulturaustausch': 14494, 'emissionen': 14495, 'hundehuette': 14496, 'love': 14497, 'missverstaendnis': 14498, 'dummerchen': 14499, 'protests': 14500, 'dosenfleisch': 14501, 'dosen': 14502, 'vorgelage': 14503, 'aehh': 14504, 'gegriffen': 14505, 'verfechter': 14506, 'these': 14507, 'masslosigkeit': 14508, 'schmeiss': 14509, 'nackensteaks': 14510, 'bullen': 14511, 'paprika': 14512, 'zunehmende': 14513, 'bella': 14514, 'nachlassen': 14515, 'solidavidwache': 14516, 'blosse': 14517, 'mitbewohnern': 14518, 'gestik': 14519, 'verbalen': 14520, 'agressionspotential': 14521, 'kge': 14522, 'aushandeln': 14523, 'hmmm': 14524, 'geschmack': 14525, 'keinen': 14526, 'schrottigen': 14527, 'veganen': 14528, 'beyond': 14529, 'meat': 14530, 'gegrillt': 14531, 'teilgenommen': 14532, 'getraut': 14533, 'unmut': 14534, 'kund': 14535, 'sexuellermissbrauch': 14536, 'neunjaehrigen': 14537, 'tatverdaechtig': 14538, '94': 14539, 'rofl': 14540, 'joe130978': 14541, 'drogendealen': 14542, 'selbstaendige': 14543, 'mittelstand': 14544, 'nobler': 14545, 'minderwe': 14546, 'repressiven': 14547, 'staatrs': 14548, 'dreckiger': 14549, 'untermensch': 14550, 'schlussparagraph': 14551, 'amir': 14552, 'mega': 14553, 'atom': 14554, 'vogelkiller': 14555, 'vorrausgesagt': 14556, 'verharmlosend': 14557, 'umsiedlung': 14558, 'angesicht': 14559, 'begleitumstaende': 14560, 'vorgehensweisen': 14561, 'massenpsychotische': 14562, 'verklaerung': 14563, 'kairoer': 14564, 'voelliger': 14565, 'humbug': 14566, 'ley': 14567, 'enanhoerung': 14568, 'bundestages': 14569, 'polizeipraesident': 14570, 'jacob': 14571, 'verwahre': 14572, 'einsaetze': 14573, 'wahrnehmen': 14574, 'verglichen': 14575, 'feiges': 14576, 'sassen': 14577, 'gierigen': 14578, 'makler': 14579, 'miet': 14580, 'haie': 14581, 'krebskranker': 14582, 'nightralph': 14583, 'aufbau': 14584, 'runterschlucken': 14585, 'phase': 14586, 'tierlieb': 14587, 'rose': 14588, 'vaterlandes': 14589, 'wilden': 14590, 'maxxbikede': 14591, 'lifeofschmirko': 14592, 'nachteilen': 14593, 'ergeben': 14594, 'indoktrinie': 14595, 'bekennen': 14596, 'sorg': 14597, 'gesaeube': 14598, 'linksideologischen': 14599, 'beamtin': 14600, 'plattform': 14601, 'unliebsame': 14602, 'geltungsdrang': 14603, 'einschreiten': 14604, 'umstrittener': 14605, 'einkaufen': 14606, 'kopftuchfrauen': 14607, 'volltaetowie': 14608, 'junges': 14609, 'blauen': 14610, 'there': 14611, 'heruntergesetztes': 14612, 'strafmass': 14613, 'anfangsaggression': 14614, 'gelegen': 14615, 'hinrichtungen': 14616, 'gewaltproblem': 14617, 'umziehen': 14618, 'biodiversitaet': 14619, 'pearwalts5': 14620, 'hezbollah': 14621, 'bankkonten': 14622, 'geldwaesche': 14623, 'oldman7715': 14624, 'schwach': 14625, 'wachsam': 14626, 'kluegere': 14627, 'beschuetzt': 14628, 'unterkriegen': 14629, 'pflichten': 14630, 'herabwuerdigt': 14631, 'aheun2': 14632, 'miriamozen': 14633, 'politschreier': 14634, 'islamistisch': 14635, 'aufzumachen': 14636, 'eigentlicher': 14637, 'fanatiker': 14638, 'intensivtaeter': 14639, 'muslimfeindliche': 14640, 'boesa': 14641, 'rainerwendt': 14642, 'polizeigewerkschaft': 14643, 'nachschneiden': 14644, 'milliardenprojekt': 14645, 'notreserve': 14646, 'anzapfen': 14647, 'kindergae': 14648, 'halligma': 14649, 'apatzwahl': 14650, 'verunglimpfung': 14651, 'geschehen': 14652, 'beifall': 14653, 'sichtlich': 14654, 'ordnungsruf': 14655, 'rationale': 14656, 'gehoben': 14657, 'sankt': 14658, 'floriansprinzip': 14659, 'kuemme': 14660, 'quellenangaben': 14661, 'bzgl': 14662, 'hinzunehmen': 14663, 'menschenleben': 14664, 'quaelerei': 14665, 'wiederhole': 14666, 'korrektes': 14667, 'seitens': 14668, 'schreiend': 14669, 'durchgreift': 14670, 'fjs': 14671, 'saehe': 14672, 'erbaermlichen': 14673, 'polizeimissionen': 14674, 'sicherheitspolitische': 14675, 'ungslosigkeit': 14676, 'fackfellowat': 14677, 'entrinnen': 14678, 'deutschlandtrend': 14679, 'sackt': 14680, 'maybrit': 14681, 'liiner': 14682, 'wahltag': 14683, 'zahltag': 14684, 'hervorragender': 14685, 'vollverbloedung': 14686, 'dusseligen': 14687, 'zuechten': 14688, 'wurscht': 14689, 'evolutionaerer': 14690, 'preussen': 14691, 'effektive': 14692, 'bestrafung': 14693, 'spiessrutenlaufens': 14694, 'adequate': 14695, 'westliche': 14696, 'lebensa': 14697, 'beteicherungstour': 14698, 'laecherliche': 14699, 'fastenzeit': 14700, 'schnapps': 14701, 'spinnereien': 14702, 'fakes': 14703, 'uebersetzer': 14704, 'psychologische': 14705, 'buchgeld': 14706, 'wirklicher': 14707, 'strafunfahig': 14708, 'psyche': 14709, 'sprachlos': 14710, 'solche': 14711, 'sekina84': 14712, 'victim': 14713, 'initiieren': 14714, 'bestehlen': 14715, 'kuenstlich': 14716, 'aufgeblasene': 14717, 'hypes': 14718, 'legislaturperiode': 14719, 'scheitern': 14720, 'gepuscht': 14721, 'lecardinal20': 14722, 'armenleuchter': 14723, 'papiere': 14724, 'bootstrip': 14725, 'gezuendelt': 14726, 'gemeinschaftsunterkunft': 14727, 'abbrannte': 14728, 'statistik': 14729, 'rechtegewalt': 14730, 'spott': 14731, 'bescheide': 14732, 'dielinken': 14733, 'ere': 14734, 'migrationsbefuerwo': 14735, 'linksradikalen': 14736, 'grassierende': 14737, 'ziv': 14738, 'altersarmut': 14739, 'vernuenftige': 14740, 'konsequente': 14741, 'staerkt': 14742, 'brother': 14743, 'ts': 14744, 'frankschwabe': 14745, 'mehrheiten': 14746, 'erstrebenswe': 14747, 'aussicht': 14748, 'auszurufen': 14749, 'fuehrenden': 14750, 'industrienationen': 14751, 'liquidieren': 14752, 'mitanzusehen': 14753, 'faktisches': 14754, 'einreiseverbot': 14755, 'altersversorgung': 14756, 'aufbauen': 14757, 'strich': 14758, 'einwanderungsgesetz': 14759, 'entscheidendes': 14760, 'pazderski': 14761, 'streiken': 14762, 'unfaire': 14763, 'hungerstreik': 14764, 'schweinerei': 14765, 'ferkelbeauftragte': 14766, 'sauereien': 14767, 'merkelstan': 14768, 'lebenslanges': 14769, 'aufenthaltsverbot': 14770, 'prophylaxetisch': 14771, 'waffenfreiheit': 14772, 'feine': 14773, 'fischfilet': 14774, 'durchgesetzt': 14775, 'band': 14776, 'bullenhelme': 14777, 'knueppel': 14778, 'gerichtsverfahren': 14779, 'unsummen': 14780, 'schiebt': 14781, 'umgehend': 14782, 'misshandelt': 14783, 'auslacht': 14784, 'geschwaenzt': 14785, 'lustiger': 14786, 'clowns': 14787, 'verbuddeln': 14788, 'methoden': 14789, '90minjoker1': 14790, 'wuenschte': 14791, 'kaputte': 14792, 'austauschen': 14793, 'vaetern': 14794, 'auszuraeumen': 14795, 'unsinnige': 14796, 'abbrechen': 14797, 'erwuenscht': 14798, 'be': 14799, 'schnelling1': 14800, 'eingeschossen': 14801, 'erfinden': 14802, 'gefundene': 14803, 'zwischenstopp': 14804, 'hingebracht': 14805, 'sinnvolleres': 14806, 'unwahrscheinlichste': 14807, 'ausstiegshaltestellen': 14808, 'busdepot': 14809, 'buslinie': 14810, 'eingrenzen': 14811, 'interessantesten': 14812, 'auffallende': 14813, 'schrank': 14814, 'eingepackte': 14815, 'bekanntschaft': 14816, 'nachgeht': 14817, 'befragt': 14818, 'freundinnen': 14819, 'erfahrene': 14820, 'mordermittler': 14821, 'wiederzufinden': 14822, 'hinweisgeber': 14823, 'haettet': 14824, 'mitgeteilt': 14825, 'preisgibt': 14826, 'konversationen': 14827, 'chatkontakt': 14828, 'lebenszeichen': 14829, 'glaubte': 14830, '07': 14831, 'anderem': 14832, 'keinster': 14833, 'verdaechtig': 14834, 'gerannt': 14835, 'schlachtensee': 14836, 'geloeschten': 14837, 'bahnfah': 14838, 'bilderrahmen': 14839, 'eingepackt': 14840, 'licht': 14841, 'urinspuren': 14842, 'tapfer': 14843, 'leichenhunde': 14844, 'leichengeruch': 14845, 'schwarzarbeit': 14846, 'bedankt': 14847, 'tue': 14848, 'entlastendes': 14849, 'ausgehe': 14850, 'dunkelheit': 14851, 'schwanger': 14852, 'aufklae': 14853, 'appellie': 14854, 'zweimal': 14855, 'fehlerquoten': 14856, '98': 14857, 'richtungen': 14858, 'maurerweg': 14859, 'britz': 14860, 'abgeschlossen': 14861, 'unverschaemt': 14862, 'junger': 14863, 'twitterer': 14864, 'einhunde': 14865, 'prozentig': 14866, 'zeugin': 14867, 'rufmoerder': 14868, 'fasern': 14869, 'tatzeit': 14870, 'zugriff': 14871, 'schwarm': 14872, 'bts': 14873, 'lockmittel': 14874, 'hope': 14875, 'voreingenommen': 14876, 'mm': 14877, 'verseuchenden': 14878, 'zeitfenster': 14879, 'unschuldigen': 14880, 'gewesenen': 14881, 'verstaendlicherweise': 14882, 'durcheinanderseienden': 14883, 'drueber': 14884, 'hochscrollen': 14885, 'stromausfall': 14886, 'windkraftraeder': 14887, 'blasen': 14888, 'getrieben': 14889, 'schul': 14890, 'heimliche': 14891, 'spot': 14892, 'geschaeft': 14893, 'alste': 14894, 'poppenbuettel': 14895, 'modehaeuser': 14896, 'akh': 14897, 'peine': 14898, 'abteilungen': 14899, 'schreibdienste': 14900, 'archiv': 14901, 'vergibt': 14902, 'externe': 14903, 'grosskunde': 14904, 'autozulieferers': 14905, 'iwis': 14906, 'landsberg': 14907, 'autoherstellers': 14908, 'platzieren': 14909, 'steuerketten': 14910, 'verbrenner': 14911, 'rumaenien': 14912, 'planung': 14913, 'mont': 14914, 'befuerchten': 14915, 'besitzers': 14916, 'print': 14917, 'boulevardzeitung': 14918, 'eingestellt': 14919, 'fingerabdruecken': 14920, 'abgleich': 14921, 'marokkanischen': 14922, 'marokkanern': 14923, 'verpieseln': 14924, 'bombenterror': 14925, 'nachtclubs': 14926, 'taxis': 14927, 'restaurants': 14928, 'fahrschule': 14929, 'supermarkt': 14930, 'treppen': 14931, 'wohnhaeuser': 14932, 'explodie': 14933, 'knall': 14934, 'wach': 14935, 'eingangsbereich': 14936, 'wohnhauses': 14937, 'bandenkriminalitaet': 14938, 'ordentlich': 14939, 'krachen': 14940, 'eingebuchtet': 14941, 'befindenden': 14942, 'bulgare': 14943, 'deckte': 14944, 'bulgaren': 14945, 'fluchtgefahr': 14946, 'durchgeschaut': 14947, 'hongkong': 14948, 'bekanntlich': 14949, 'auslieferungsgesetz': 14950, 'bewaeltigt': 14951, 'stromeinspeisekosten': 14952, 'luxus': 14953, 'tesla': 14954, 'apparatschiks': 14955, 'fuerstenberg': 14956, 'syrern': 14957, 'erkenntnissen': 14958, 'fremdenfeindlicher': 14959, 'begehung': 14960, 'stadtrat': 14961, 'nahverkehr': 14962, 'parkausweise': 14963, '504': 14964, 'erhoehen': 14965, 'schaftler': 14966, 'bewiesen': 14967, 'wandel': 14968, 'poli': 14969, 'tiker': 14970, 'muslimbruederschaften': 14971, 'kaetoffelstaat': 14972, 'phaenomrns': 14973, 'andienen': 14974, 'staatstragenden': 14975, 'facetten': 14976, 'ansprechen': 14977, 'gesellschaftliche': 14978, 'aechtung': 14979, 'brandanschlaege': 14980, 'unserefreiheit': 14981, 'flughaefen': 14982, 'heizung': 14983, 'kuehlanlagen': 14984, 'immobilien': 14985, 'preisschild': 14986, 'alibaba': 14987, 'eldorado': 14988, 'sozialschmarotzern': 14989, 'hole': 14990, 'mutmasslicher': 14991, 'kosovare': 14992, 'bundesgerichtshof': 14993, 'pinneberg': 14994, 'mittenwald': 14995, 'schleust': 14996, 'windpocken': 14997, 'beanspruchen': 14998, 'verdraengen': 14999, 'rosengard': 15000, 'drecksblatt': 15001, 'luisa': 15002, 'neubauer': 15003, 'klimaretterin': 15004, 'worldwide': 15005, 'fly': 15006, 'experience': 15007, 'spinnen': 15008, 'musiklaerm': 15009, 'ungluecklich': 15010, 'zweifamilienhaus': 15011, 'genehmigt': 15012, 'bevormunden': 15013, 'machte': 15014, 'spezielles': 15015, 'freistaat': 15016, '435': 15017, 'sanierungskosten': 15018, '315': 15019, 'voraussetzung': 15020, 'anerkannte': 15021, 'musik': 15022, 'geschrien': 15023, 'landratsamt': 15024, 'unterbinden': 15025, 'az': 15026, '6575': 15027, 'werke': 15028, 'automobilzulieferer': 15029, 'dura': 15030, 'plettenberg': 15031, 'kirchhundem': 15032, '970': 15033, 'hemden': 15034, 'blusenspezialist': 15035, 'seidensticker': 15036, 'textilhaendler': 15037, 'desigual': 15038, 'schiesser': 15039, 'benetton': 15040, 'kurzem': 15041, 'billiglaeden': 15042, 'eingezogen': 15043, 'drk': 15044, 'luckenwalde': 15045, 'kmg': 15046, 'kliniken': 15047, 'personalabbau': 15048, 'flatte': 15049, 'haustechnikern': 15050, 'briefkasten': 15051, 'spezialisie': 15052, 'montage': 15053, 'elektrogrossgeraeten': 15054, 'hifi': 15055, 'geraeten': 15056, 'dienstleistungen': 15057, 'unrentabel': 15058, 'heftigen': 15059, 'detonation': 15060, 'probesprengung': 15061, 'zahnlosen': 15062, 'terrorgesetze': 15063, 'anwachsen': 15064, 'entsprechende': 15065, 'entwerfen': 15066, 'clankrieg': 15067, 'detonationen': 15068, 'druckwelle': 15069, 'nachtclub': 15070, 'angabe': 15071, 'offensive': 15072, 'meldemob': 15073, 'vernetzen': 15074, 'twittersperre': 15075, 'badwildungen': 15076, 'taschentuch': 15077, 'betaeubenden': 15078, 'fluessigkeit': 15079, 'vors': 15080, 'rechtspa': 15081, 'vox': 15082, 'cyberattacken': 15083, 'hell': 15084, 'ermitteln': 15085, 'trommelwirbel': 15086, 'spanischen': 15087, 'eidigungsministerium': 15088, 'homeinvasion': 15089, 'dringt': 15090, 'klingeln': 15091, 'oeffnet': 15092, 'betagte': 15093, 'schulkind': 15094, 'rechtlos': 15095, 'grundeis': 15096, 'welshalb': 15097, 'ungehinde': 15098, 'niedersaechsische': 15099, 'hameln': 15100, 'denkmal': 15101, 'sperrungen': 15102, 'wunderbaren': 15103, 'asylbewerberzahl': 15104, 'staatsangehoerigen': 15105, 'visum': 15106, 'schengenzone': 15107, 'kolumbien': 15108, 'georgien': 15109, 'chinesen': 15110, 'ueberwachen': 15111, 'gonoroe': 15112, 'identitaeslosem': 15113, 'aufzwingen': 15114, 'verachtenden': 15115, 'gie': 15116, 'sse': 15117, 'rei': 15118, 'kuep': 15119, 'zie': 15120, 'kruem': 15121, 'mer': 15122, 'bo': 15123, 'ver': 15124, 'bren': 15125, 'nungs': 15126, 'tor': 15127, 'heiligenhaus': 15128, 'pharmakonzern': 15129, 'gliede': 15130, 'specialty': 15131, 'ingredients': 15132, 'nahrungs': 15133, 'futtermittelzusaetze': 15134, 'herstellt': 15135, 'thyssen': 15136, 'krupp': 15137, 'engineering': 15138, '220': 15139, '860': 15140, 'gefe': 15141, 'karosserie': 15142, 'antriebsstrang': 15143, 'meinungsaeusserung': 15144, 'ade': 15145, 'schlinge': 15146, 'freiheiten': 15147, 'schritten': 15148, 'unliebsamen': 15149, 'moegl': 15150, 'umsichtiges': 15151, 'selfprotection': 15152, 'forward': 15153, 'thinking': 15154, 'deindustrialisierung': 15155, 'vergewaltigungen': 15156, 'derzeitige': 15157, 'angehoerige': 15158, 'opferschweigen': 15159, 'bekannten': 15160, 'mietexplosion': 15161, 'quatsch': 15162, 'fluechtlingsunterkuenften': 15163, 'triffts': 15164, 'tilo': 15165, 'verfolgen': 15166, 'neutralitaetspflicht': 15167, 'verfassungswidrig': 15168, 'nogez': 15169, 'komplizen': 15170, 'immobilieneigentuemer': 15171, 'jugendwiderstand': 15172, 'packung': 15173, 'andrej': 15174, 'reisin': 15175, '1l': 15176, 'benzin': 15177, 'strompreis': 15178, 'verdoppelt': 15179, 'stromausfaelle': 15180, 'humankapitalimpo': 15181, 'hoechststaende': 15182, 'arbeitsagntur': 15183, 'korrigie': 15184, 'gefakte': 15185, 'jobboerse': 15186, 'friedliebend': 15187, 'schimpfen': 15188, 'hochzeitskorsos': 15189, 'scharfen': 15190, 'angebettelt': 15191, 'unterlassen': 15192, 'messermaenner': 15193, 'autochthone': 15194, 'suf': 15195, 'zentralhaltestelle': 15196, 'weltmarktfuehrer': 15197, 'karmez': 15198, 'osram': 15199, 'opto': 15200, 'semiconductors': 15201, 'abfindungen': 15202, 'akzeptie': 15203, 'unisan': 15204, 'schlauchsysteme': 15205, 'droeschede': 15206, 'unterfraenkische': 15207, 'ebern': 15208, 'langjaehrige': 15209, 'modefilialist': 15210, 'modepark': 15211, 'roether': 15212, 'michelfeld': 15213, 'neueste': 15214, 'trends': 15215, 'angesagtesten': 15216, 'mode': 15217, 'marken': 15218, 'raeumungsverkauf': 15219, 'schwedische': 15220, 'erfolgsmodell': 15221, 'kopieren': 15222, 'platzt': 15223, 'halsschlagader': 15224, 'unterwuerfiger': 15225, 'unsympathischer': 15226, 'skeptisch': 15227, 'erfreulicher': 15228, 'millionaere': 15229, 'koksen': 15230, 'pornos': 15231, 'ehen': 15232, 'bah': 15233, 'goerlitzern': 15234, 'zuverlaessigkeit': 15235, 'puenktlichkeit': 15236, 'gesamtgesellschaftliches': 15237, 'schildbuergerpolitik': 15238, 'suedlaendische': 15239, 'nachtschwaermer': 15240, 'mannschaftsstaerke': 15241, 'dummmichel': 15242, 'daemme': 15243, 'qualitaet': 15244, 'gewuerze': 15245, 'ueberdecken': 15246, 'ungewollte': 15247, 'muslimbruderschaft': 15248, 'gaza': 15249, 'angewendet': 15250, 'aspekte': 15251, 'einstellst': 15252, 'haengen': 15253, 'attnang': 15254, 'voecklabruck': 15255, 'abgeweh': 15256, 'suedlaendischer': 15257, 'beschrieben': 15258, 'essgestoe': 15259, 'mangelhafter': 15260, 'ausfallen': 15261, 'unattraktiver': 15262, 'kehrseite': 15263, 'medaille': 15264, 'wohlstands': 15265, 'arbeitskollegin': 15266, 'aufregt': 15267, 'hetzseiten': 15268, 'hervorrufen': 15269, 'lemminge': 15270, 'faust': 15271, 'gebrochenem': 15272, 'technologisch': 15273, 'strebt': 15274, 'syndrom': 15275, 'schlachten': 15276, 'unnoetige': 15277, 'erfreut': 15278, 'ruehre': 15279, 'garantie': 15280, 'ziehe': 15281, 'bratwurst': 15282, 'tschuess': 15283, 'buergerschaftiches': 15284, 'leidet': 15285, 'rophen': 15286, 'mitteilungszwang': 15287, 'fachliteratur': 15288, 'logorrhoe': 15289, 'zumutung': 15290, 'betriebsblindheit': 15291, 'unangemessene': 15292, 'wahrnehmungs': 15293, 'beu': 15294, 'eilungstendenzen': 15295, 'routine': 15296, 'negerkinder': 15297, 'schuerfen': 15298, 'grinsend': 15299, 'gruentee': 15300, 'schluerfen': 15301, 'stehn': 15302, 'fahrgaeste': 15303, 'roehre': 15304, 'sehn': 15305, 'reichhauptstadtslum': 15306, 'sodecia': 15307, 'powe': 15308, 'rain': 15309, 'oelnitz': 15310, 'schaltgetriebe': 15311, 'lohnkosten': 15312, '670': 15313, 'ugal': 15314, 'germanistik': 15315, 'anglistik': 15316, 'sprachwissenschaft': 15317, 'diversitaetwissenschaft': 15318, 'wissenschaft': 15319, 'gerede': 15320, 'fachkraeftezuwanderungsgesetz': 15321, 'jubelnebelwand': 15322, 'warenhaeuser': 15323, 'abfindungsangebote': 15324, 'lohnes': 15325, '375': 15326, 'haftpruefungstermin': 15327, 'stralsund': 15328, 'gerichtsleiter': 15329, 'vorbildfunktion': 15330, 'einschnitte': 15331, 'trauen': 15332, 'management': 15333, 'verkaeufer': 15334, 'qm2': 15335, 'flaeche': 15336, 'funktionieren': 15337, 'abzubauenden': 15338, 'wetzlar': 15339, 'aussehender': 15340, 'erhielt': 15341, 'serienmoerder': 15342, 'niels': 15343, 'hoegel': 15344, 'pflegedirektorin': 15345, 'klinikums': 15346, 'ausgestelltes': 15347, 'arbeitszeugnis': 15348, 'bescheinigt': 15349, 'umsichtig': 15350, 'selbststaendig': 15351, 'situationen': 15352, 'sachlich': 15353, 'detlef': 15354, 'galeria': 15355, 'erheblichem': 15356, 'betriebsbedingte': 15357, 'stelters': 15358, 'vernichtenden': 15359, 'erscheinen': 15360, 'bsi': 15361, 'trojaner': 15362, 'infizie': 15363, 'zuhause': 15364, 'fenstersicherung': 15365, 'alarmanlage': 15366, 'fasten': 15367, 'allezeit': 15368, 'schenkt': 15369, 'entdeckten': 15370, 'zoellner': 15371, 'pistole': 15372, 'eingewickelt': 15373, 'pullover': 15374, 'gepaeckfach': 15375, 'sitzplatz': 15376, 'ahlen': 15377, 'taeterbeschreibungen': 15378, 'ausgegangen': 15379, 'sextaeter': 15380, 'zentrale': 15381, 'modekonzerns': 15382, 'filialschliessungen': 15383, '750': 15384, 'krankenwagen': 15385, 'bombenkommando': 15386, 'contract': 15387, 'ccs': 15388, 'chemiepark': 15389, 'genthin': 15390, 'discountern': 15391, 'haushaltsreiniger': 15392, 'wegbrachen': 15393, 'geschaeftsbetrieb': 15394, 'drensteinfu': 15395, 'wirkender': 15396, 'bmx': 15397, 'skaterbahn': 15398, 'fahrradhalterung': 15399, 'tuermt': 15400, 'kumpel': 15401, 'uups': 15402, 'waffenlieferung': 15403, 'clanland': 15404, 'waffenschmuggler': 15405, 'erheben': 15406, 'oekofaschisten': 15407, 'schulsanierung': 15408, 'geisteskranke': 15409, 'frauenbeauftragten': 15410, 'gifhorn': 15411, 'fremdsprachige': 15412, 'suedlaenderin': 15413, 'flohmarkt': 15414, 'rollstuhl': 15415, 'entreisst': 15416, '81': 15417, 'beschwerden': 15418, 'huttenschule': 15419, 'besuchten': 15420, 'schlosserstrasse': 15421, 'haeuften': 15422, 'simulie': 15423, 'interessantes': 15424, 'stiernackiger': 15425, 'armbanduhr': 15426, 'kontrahenten': 15427, 'hueckeswagen': 15428, 'suedosteuropaeische': 15429, 'bankbesuch': 15430, 'losfahren': 15431, 'bettelt': 15432, 'unbemerkt': 15433, 'boerse': 15434, '66': 15435, 'genialer': 15436, 'gehirnwaesche': 15437, 'zinserhoehung': 15438, 'ezb': 15439, 'herzstillstand': 15440, 'irgendwen': 15441, 'gehaltes': 15442, 'leuten': 15443, 'gefuellten': 15444, 'bechern': 15445, 'niedersachswerfen': 15446, 'fli': 15447, 'handlungen': 15448, 'begleitern': 15449, 'eingreifenden': 15450, 'schlichter': 15451, 'moeglichkeit': 15452, 'zusaetzliche': 15453, 'schulfreie': 15454, 'bildungsdirektionen': 15455, 'erlaubnis': 15456, 'fernbleiben': 15457, 'biskopsg': 15458, 'rden': 15459, 'goeteborg': 15460, 'soooo': 15461, 'schoeoeoen': 15462, 'buuunt': 15463, 'autobesitzer': 15464, 'wohngegenden': 15465, 'strassengarage': 15466, 'schmuckstuecke': 15467, 'langer': 15468, 'verlaengerungsschnur': 15469, 'wohnungsfenster': 15470, '1999': 15471, 'beschliessen': 15472, 'aufstaende': 15473, 'milchviehhalter': 15474, 'finanziell': 15475, 'angeschlagen': 15476, 'betriebe': 15477, 'unmittelbar': 15478, 'bankrott': 15479, 'schaftliche': 15480, 'unternehmensberaterin': 15481, 'betrieben': 15482, 'besorgniserregender': 15483, 'endphase': 15484, 'ak': 15485, 'planuebererfuellung': 15486, 'geplaer': 15487, 'automobilbranche': 15488, 'metallbearbeiter': 15489, 'kromatec': 15490, 'neckarwestheim': 15491, 'spueren': 15492, 'edelsteakhaus': 15493, 'kette': 15494, 'hohoffs': 15495, 'hagen': 15496, 'verschlossener': 15497, 'gastronomie': 15498, 'pachtrueckstaenden': 15499, 'sechsstelliger': 15500, 'messerattack': 15501, 'oslo': 15502, 'polizeibekannten': 15503, 'elektroschocker': 15504, 'ofen': 15505, 'baeckereikette': 15506, 'baecker': 15507, '270': 15508, 'tiefkuehl': 15509, 'backwarenhersteller': 15510, 'aryzta': 15511, 'mansfeld': 15512, 'produktionsverschiebung': 15513, 'bergsteiger': 15514, 'gipfel': 15515, 'matterhorn': 15516, 'selfie': 15517, 'drohne': 15518, '4478m': 15519, 'suisse': 15520, 'zermatt': 15521, 'auslaend': 15522, 'underage': 15523, 'ausgebenden': 15524, 'erwachsen': 15525, 'immigration': 15526, 'fraud': 15527, 'deception': 15528, 'umf': 15529, '85m': 15530, 'schwarzes': 15531, 'krauses': 15532, 'haar': 15533, 'gesiche': 15534, 'kanadische': 15535, 'premierminister': 15536, 'justintrudeau': 15537, 'cleanerfuture': 15538, 'waterbottle': 15539, 'boxedwater': 15540, 'plastikverbot': 15541, 'laengste': 15542, 'donaudampfschifffah': 15543, 'selektrizitaetenhauptbetriebswerkbauunterbeamtengesellschaft': 15544, 'gegruendet': 15545, '1829': 15546, 'einwohnern': 15547, 'gensing': 15548, 'abuse': 15549, 'airbuslive': 15550, 'rennende': 15551, 'anschlagsangst': 15552, 'reul': 15553, 'antimuslim': 15554, 'diskreditiere': 15555, 'kommunistische': 15556, '1943': 15557, 'betitele': 15558, 'antisemiten': 15559, 'nutze': 15560, 'prestige': 15561, 'antifaschistisch': 15562, 'beschmutzt': 15563, 'recep': 15564, 'tayyip': 15565, 'mesut': 15566, 'ozil': 15567, 'hochzeit': 15568, 'amine': 15569, 'guel': 15570, 'schulter': 15571, 'kopfbedeckung': 15572, 'dictator': 15573, 'testamente': 15574, 'weltuntergang': 15575, 'datum': 15576, 'temp': 15577, 'erdoberfl': 15578, 'unbewohnbar': 15579, 'mojib': 15580, 'latif': 15581, 'frostabschaffung': 15582, 'bezeugt': 15583, 'apocalypse': 15584, 'asylwerber': 15585, 'amadou': 15586, 'lina': 15587, 'kolodochka': 15588, 'oberkoerper': 15589, 'wuergend': 15590, 'heruntergelassener': 15591, 'watch': 15592, 'eisbergs': 15593, 'india': 15594, 'schoenheitswettbewerbs': 15595, 'legst': 15596, 'hochzeitskonvoi': 15597, 'ballerst': 15598, 'blockierst': 15599, 'stadtverkehr': 15600, 'bekommst': 15601, 'boeses': 15602, 'betruegerin': 15603, 'kotze': 15604, 'strahl': 15605, 'gesundheitssenatorin': 15606, 'kalayci': 15607, 'anonymen': 15608, 'anonyme': 15609, 'austeilen': 15610, 'krankenhaeuser': 15611, 'beglichen': 15612, 'polizeilich': 15613, 'mazyek': 15614, '1000x': 15615, 'hetzjagdt': 15616, 'twitterers': 15617, 'konstruie': 15618, 'maut': 15619, 'festgenommenen': 15620, 'sozialgeld': 15621, 'unbezahlbar': 15622, 'eigendlich': 15623, 'ueberfluessig': 15624, 'mindestlohn': 15625, 'ueberstunden': 15626, 'handwerkern': 15627, 'deutschlandweite': 15628, 'einheitliche': 15629, 'gesellenpruefung': 15630, 'gewordene': 15631, 'empfaenger': 15632, 'arbeitsscheue': 15633, 'einzustufen': 15634, 'minderbezahlte': 15635, 'sanktionieren': 15636, 'sveja': 15637, 'bum': 15638, 'bdew': 15639, 'kongress': 15640, 'schleppt': 15641, 'attestie': 15642, 'grundsaetze': 15643, 'studienzeit': 15644, 'ungrade': 15645, 'rad': 15646, 'katastrophale': 15647, 'aussteuerung': 15648, 'bettwaesche': 15649, 'verwandtschaft': 15650, 'tutsh': 15651, 'amon': 15652, 'adelsfamilie': 15653, 'gelbe': 15654, 'ente': 15655, 'drinnen': 15656, 'luedenscheid': 15657, 'kkk': 15658, 'lebe': 15659, 'lorio': 15660, 'mohrenpost': 15661, 'caroline': 15662, 'rethorikkurs': 15663, 'hilflosigkeit': 15664, 'ahnungslosigkeit': 15665, 'vermittelt': 15666, 'nicken': 15667, 'umherschauen': 15668, 'guenstig': 15669, 'linksaktivisten': 15670, 'ueberzeugen': 15671, 'entzieht': 15672, 'nahem': 15673, 'gemeinnuetzigkeit': 15674, 'lobbytreffen': 15675, 'zusammengetragen': 15676, 'durchsuchbar': 15677, 'daenischer': 15678, 'ren': 15679, 'pape': 15680, 'poulsen': 15681, 'kriminellste': 15682, 'migrantengruppe': 15683, '4x': 15684, 'gleichaltrige': 15685, 'halbfinale': 15686, 'djokernole': 15687, 'thiem': 15688, 'djokovic': 15689, 'semifinal': 15690, 'fr': 15691, 'congratulations': 15692, 'bjoern': 15693, 'borg': 15694, '63th': 15695, '6x': 15696, 'titles': 15697, 'lavercup': 15698, 'australianopen': 15699, 'niederdruck': 15700, 'fledermaeuse': 15701, 'ansaugt': 15702, 'windpark': 15703, 'amerikanischen': 15704, 'steinadler': 15705, 'population': 15706, 'adler': 15707, 'falken': 15708, '880': 15709, '1300': 15710, 'windkraftfrei': 15711, 'umfrageschock': 15712, 'survey': 15713, 'bedeckt': 15714, 'vorhergesagtes': 15715, 'abtauen': 15716, 'arctic': 15717, 'ocean': 15718, 'klimakatastrophe': 15719, 'linksrote': 15720, 'unfairen': 15721, 'magistratura': 15722, 'rossa': 15723, 'linksgerichtete': 15724, 'circo': 15725, 'rosso': 15726, '434italo': 15727, 'italiarai': 15728, 'schattenseiten': 15729, 'elektrobatterien': 15730, 'lithium': 15731, 'coltan': 15732, 'neodym': 15733, 'ausstoss': 15734, 'herstellung': 15735, 'entsorgung': 15736, 'recycling': 15737, 'mobil': 15738, 'eautos': 15739, 'emobility': 15740, 'akku': 15741, 'verfassungsklagen': 15742, 'vorratsdatenspeicherung': 15743, 'internetueberwachung': 15744, 'websites': 15745, 'brigitte': 15746, 'personalisierbare': 15747, 'nutzerinnen': 15748, 'threema': 15749, 'plaenen': 15750, 'kompromisse': 15751, 'einzugehen': 15752, 'nahtlos': 15753, 'totalitaerer': 15754, 'einreihen': 15755, 'fahrverbote': 15756, 'luftnummer': 15757, 'symbolpolitik': 15758, 'aktionismus': 15759, 'weltweites': 15760, 'presseecho': 15761, 'erzeugte': 15762, 'schasste': 15763, 'gesteht': 15764, 'beruhte': 15765, 'mueller1': 15766, 'daserste': 15767, 'kiel': 15768, 'grafisch': 15769, 'somme': 15770, 'emperaturen': 15771, 'gefaelschte': 15772, 'ipq': 15773, 'deklarie': 15774, 'parmaschinken': 15775, 'jambondeparme': 15776, 'ham': 15777, 'prosciuttodiparma': 15778, 'prosciuttodimodena': 15779, 'wachsende': 15780, 'hofsjoekull': 15781, 'langjoekull': 15782, 'vatnajoekull': 15783, 'jakobshavn': 15784, 'groenland': 15785, 'dehnen': 15786, 'vorhersage': 15787, 'eiszuwachs': 15788, 'tendenzioese': 15789, 'tolles': 15790, 'maestro': 15791, 'momentan': 15792, 'elfinale': 15793, 'erfinal': 15794, 'blackout': 15795, 'versorgungssicherheit': 15796, 'renewableenergy': 15797, '107': 15798, 'dritter': 15799, 'eeg': 15800, 'herzl': 15801, 'nationalfeie': 15802, 'festadellarepubblica': 15803, '1946': 15804, 'xy': 15805, 'breitscheid': 15806, 'ladan': 15807, 'afar': 15808, 'nische': 15809, 'omg': 15810, 'klappe': 15811, 'marie': 15812, 'hingst': 15813, 'familiaere': 15814, 'dlfnova': 15815, 'financialtimes': 15816, 'goldeneblogger': 15817, 'annegret': 15818, 'stillgestanden': 15819, 'intellektuelles': 15820, 'niederschmetternd': 15821, 'rheingold': 15822, 'badischer': 15823, 'hoek': 15824, 'van': 15825, 'faehre': 15826, '1952': 15827, 'nachdenklich2': 15828, 'haraldno': 15829, 'moritzmichelson': 15830, 'silastern': 15831, 'kopfgeld': 15832, 'ausgesetzt': 15833, 'fbimostwanted': 15834, 'weige': 15835, 'jordanien': 15836, 'heldin': 15837, 'ahlamtamimi': 15838, 'arnoldroth': 15839, 'malki': 15840, 'terroristin': 15841, 'ahlam': 15842, 'tamimi': 15843, 'sbarro': 15844, 'pizzeria': 15845, 'durchfueh': 15846, 'status': 15847, 'ermorden': 15848, 'schwangere': 15849, 'pst': 15850, 'unverdaechtigen': 15851, 'giss': 15852, 'oberfl': 15853, 'temperatur': 15854, 'vorhergesagten': 15855, 'wiedereinreise': 15856, 'dokumentie': 15857, 'gesetzwidrigen': 15858, 'unerlaubten': 15859, 'koerperlicher': 15860, 'schulfremden': 15861, 'deutschtuerken': 15862, 'charlottenburg': 15863, 'eingeordnet': 15864, 'antisem': 15865, 'buergerinitiative': 15866, 'massstabsgetreue': 15867, 'visualisierung': 15868, 'windkraftvorhaben': 15869, 'historiche': 15870, 'sababurg': 15871, 'nunezlaurent': 15872, 'sekr': 15873, 'pers': 15874, 'deradikalisierung': 15875, 'gerichtshof': 15876, 'unterstehen': 15877, 'justizministern': 15878, 'weisungen': 15879, 'exekutive': 15880, 'gen': 15881, 'litauen': 15882, 'justizbehoerde': 15883, 'speicher': 15884, 'erzeugung': 15885, 'verbrauch': 15886, 'elektr': 15887, 'waage': 15888, 'verbraucht': 15889, 'zeitpkt': 15890, 'sollfrequenz': 15891, '50hz': 15892, 'lastabwurf': 15893, 'abschaltung': 15894, 'konsumenten': 15895, 'franzoesischer': 15896, 'djihadist': 15897, '37j': 15898, 'toulouse': 15899, 'gemaess': 15900, 'nr': 15901, 'zugehoerigkeit': 15902, 'islamicstate': 15903, 'erhaengen': 15904, 'intervenieren': 15905, 'militanten': 15906, 'vorschule': 15907, 'rathaeuser': 15908, 'mundharmonika': 15909, 'luftballons': 15910, 'beraten': 15911, 'oesterr': 15912, 'ital': 15913, 'schariapolizei': 15914, 'uniform': 15915, 'verheerendes': 15916, 'awidmannmauz': 15917, 'sunniten': 15918, 'schiiten': 15919, 'verschlechte': 15920, 'religiondesfriedens': 15921, 'elschlaeger': 15922, 'klaesslerin': 15923, 'rechtem': 15924, 'noetiger': 15925, 'korinth': 15926, 'paul': 15927, 'schreyer': 15928, 'teusch': 15929, 'vorlaeufiges': 15930, 'schneefalls': 15931, 'skireso': 15932, 'eigentl': 15933, 'ski': 15934, 'reso': 15935, 'reopen': 15936, 'as': 15937, 'heavy': 15938, 'snowfall': 15939, 'hits': 15940, 'alps': 15941, 'ueberzeugend': 15942, 'glaubwuerdig': 15943, 'kerosinkatha': 15944, 'fidschiclaudia': 15945, 'duesendieter': 15946, 'berninger': 15947, 'flugvervot': 15948, 'abholzung': 15949, '216': 15950, '189': 15951, 'albaner': 15952, 'rumaenen': 15953, 'bengalen': 15954, 'mazedonier': 15955, 'brasilianer': 15956, 'afrikan': 15957, 'praegen': 15958, 'durchschnittseinkommen': 15959, 'bundesstaaten': 15960, 'giletsjaunes': 15961, 'protestieren': 15962, '1970': 15963, '95': 15964, '2100': 15965, '67': 15966, 'globalcompact': 15967, 'foermlich': 15968, 'waehrung': 15969, 'gesundheit': 15970, 'wenigsten': 15971, 'efa': 15972, 'verdi': 15973, 'ueberein': 15974, 'matteosalvinimi': 15975, 'juedisch': 15976, 'praegung': 15977, 'traditionen': 15978, 'priester': 15979, 'emotional': 15980, 'itodemocratico': 15981, 'movimento5stelle': 15982, 'm5s': 15983, 'elezionieuropee': 15984, 'gestiegene': 15985, 'rassemblementnational': 15986, 'rn': 15987, 'lrem': 15988, 'eelv': 15989, 'francia': 15990, 'erschreckende': 15991, 'zugewinne': 15992, 'strend': 15993, 'spa': 15994, 'aufwind': 15995, 'waehlerwanderung': 15996, 'punktet': 15997, '60jaehrigen': 15998, 'eistiftung': 15999, 'konradadenauerstiftung': 16000, 'kooperie': 16001, 'wahrheitsmedium': 16002, 'gesponse': 16003, 'wahlwerbung': 16004, 'schueren': 16005, 'lecker': 16006, 'toetungsa': 16007, 'landete': 16008, 'glykol': 16009, 'kommunistisches': 16010, 'manifest': 16011, 'marxismus': 16012, 'leninismus': 16013, 'fdj': 16014, 'studienjahr': 16015, 'p4fberlin': 16016, 'petervorsmann': 16017, 's4f': 16018, 'forschende': 16019, 'ergo': 16020, 'wiss': 16021, 'institutsangehoerige': 16022, 'kabarettist': 16023, 'zauberkuenstler': 16024, 'hirschhausen': 16025, 'dicker': 16026, 'werdender': 16027, 'psychologen': 16028, 'kenner': 16029, 'windparks': 16030, 'erfolgreiche': 16031, 'effizienz': 16032, 'messen': 16033, 'belastungen': 16034, 'buijs': 16035, 'gasterra': 16036, 'reinhard': 16037, 'zimmermann': 16038, 'musikprobe': 16039, '1891': 16040, 'dezimie': 16041, '700': 16042, 'gebildeten': 16043, 'verarmten': 16044, 'einmalige': 16045, 'integrationsleistung': 16046, 'mizrahim': 16047, 'proklamie': 16048, 'genetiker': 16049, 'plomin': 16050, 'akadem': 16051, 'genetik': 16052, 'faehigkeiten': 16053, 'erbbar': 16054, 'uschung': 16055, 'manipulation': 16056, 'harbers': 16057, 'einwanderungsminister': 16058, 'verschwiegen': 16059, 'januwatn': 16060, 'mtubeman': 16061, 'centuriocis': 16062, 'surfen': 16063, 'veroeffentl': 16064, 'auskalte': 16065, 'kucken': 16066, 'listen': 16067, 'meldeaccounts': 16068, 'stalinistischem': 16069, 'eifer': 16070, 'saeuberung': 16071, 'twittersecurity': 16072, 'freedomofspeech': 16073, 'kvinna': 16074, 'hopp': 16075, 'platte': 16076, 'vereine': 16077, 'giffeys': 16078, 'dachverbaende': 16079, 'popanz': 16080, '106': 16081, 'bravemurron': 16082, 'tqupre': 16083, 'armesdeutschla6': 16084, 'mad': 16085, '63': 16086, '9ku2d7vx4x6pebm': 16087, 'getrockneten': 16088, 'babys': 16089, 'stoff': 16090, 'gewickelt': 16091, 'rituale': 16092, 'verwendet': 16093, 'bek': 16094, 'holte': 16095, 'verschwand': 16096, 'venum84839107': 16097, 'venum': 16098, 'zweitaccount': 16099, 'gabriel08780473': 16100, 'gemeins': 16101, 'ruthlissy': 16102, 'detlefvoh7': 16103, 'bruderkanal': 16104, 'tvp': 16105, 'ideologischen': 16106, 'klassenkampf': 16107, 'imperialist': 16108, 'orf': 16109, 'verbund': 16110, 'populist': 16111, 'wirschaffendas': 16112, 'schneidt': 16113, 'umbringen': 16114, 'befremdlich': 16115, 'seebruecke': 16116, 'genesen': 16117, '20jaehriger': 16118, '35jaehrigen': 16119, 'kontaktschuld': 16120, 'conclusio': 16121, 'claudi': 16122, 'grossrazzia': 16123, 'ischer': 16124, 'aal': 16125, 'salam': 16126, '313': 16127, 'waffenhandel': 16128, 'schleuserkriminalitaet': 16129, 'passfaelschung': 16130, 'beschuldigte': 16131, 'eilicher': 16132, 'tendenzioeser': 16133, '2067': 16134, 'behaupteter': 16135, 'verordnungen': 16136, 'regulierungsmonster': 16137, 'kehrwoche': 16138, 'anni': 16139, 'else': 16140, 'bln': 16141, 'schreinerstr': 16142, 'treppenabsatz': 16143, 'wischen': 16144, 'hauswi': 16145, 'republikfluechtig': 16146, 'vorbildl': 16147, 'hausgemeinschaft': 16148, 'vollpflegeve': 16149, 'wohnungsverwaltung': 16150, 'nadel': 16151, 'zw': 16152, 'ueberragende': 16153, 'funktionsfaehigkeit': 16154, 'kanzleramts': 16155, 'preisgabe': 16156, 'fuehre': 16157, 'wiedergutzumachenden': 16158, 'ansehensverlust': 16159, 'spezialeinheit': 16160, 'sicherheitskraefte': 16161, 'bpol': 16162, 'kriminalpolizei': 16163, 'phantombild': 16164, 'katernberger': 16165, 'triebtaeter': 16166, 'haller': 16167, 'propagandisten': 16168, 'pakts': 16169, 'projekts': 16170, 'moralisierendem': 16171, 'belehrungsjournalismus': 16172, 'petra': 16173, 'hinz': 16174, 'faelscht': 16175, 'lebenslauf': 16176, 'glashaus': 16177, 'infogrebin': 16178, 'kmarseille2': 16179, 'dorisbrehm': 16180, 'netzistderspeicher': 16181, 'zusammenhaltwaehlen': 16182, 'verfassungswidrigen': 16183, 'individuum': 16184, 'zugerechnet': 16185, 'zr': 16186, '196': 16187, 'sveti': 16188, 'toma': 16189, 'slovenia': 16190, 'church': 16191, 'glises': 16192, 'krivec': 16193, 'hadithe': 16194, 'kriegszuege': 16195, 'judenprogrome': 16196, 'selbige': 16197, 'einschraenkungen': 16198, 'frauenrechte': 16199, 'fdgo': 16200, 'daucus': 16201, 'aureus': 16202, 'www': 16203, 'feministen': 16204, 'kuehn': 16205, 'ulle': 16206, 'pipapo': 16207, 'oezcan': 16208, 'pussymuetzen': 16209, 'evtl': 16210, 'ausschneiden': 16211, 'darstellung': 16212, 'esoter': 16213, 'siedlern': 16214, 'bioanbau': 16215, 'betaetigen': 16216, 'regional': 16217, 'gemuese': 16218, 'anbauen': 16219, 'rbb24': 16220, 'oops': 16221, 'gerichtsjournal': 16222, 'cou': 16223, 'housenews': 16224, 'postete': 16225, 'unvoreingenommenen': 16226, 'klage': 16227, 'architekten': 16228, 'ingenieuren': 16229, 'anwaelten': 16230, 'hinterblieb': 16231, 'fbi': 16232, 'fbi911lawsuit': 16233, 'yeah': 16234, 'bildungsstand': 16235, 'tiedje': 16236, 'speicherbaerbock': 16237, 'verstopft': 16238, 'netze': 16239, 'lincoln': 16240, 'slowakei': 16241, 'manuela': 16242, 'ueberleg': 16243, 'maliqi': 16244, 'hymne': 16245, 'kehre': 16246, 'coalition': 16247, 'iraqi': 16248, 'zwecks': 16249, 'rebuilding': 16250, 'syria': 16251, 'wage': 16252, 'traeumen': 16253, 'greatbritain': 16254, 'vollzogen': 16255, 'musikalisch': 16256, 'jedefalls': 16257, 'telaviv2019': 16258, 'normalzustand': 16259, 'verschwoerungstheorien': 16260, 'adivonpoes': 16261, 'reissmann': 16262, 'donalphonso': 16263, 'staatl': 16264, 'verschleiern': 16265, 'verwaltungsrichter': 16266, 'cheat': 16267, 'scammers': 16268, 'verschlusssache': 16269, 'dienstgebrauch': 16270, 'hinblick': 16271, 'staatswohl': 16272, 'beunruhigen': 16273, 'schwerwiegender': 16274, 'eingriff': 16275, 'clankriminalitaet': 16276, '225': 16277, 'staerkeren': 16278, 'instruments': 16279, 'messerverbot': 16280, 'pfannenverbot': 16281, 'muslimisch': 16282, 'jude': 16283, 'kontinentaldriftkonferenz': 16284, 'kontinentaldrift': 16285, '2090': 16286, 'stoerben': 16287, 'abwenden': 16288, 'driftnotstandes': 16289, 'zemmour': 16290, 'blieb': 16291, 'anarchist': 16292, 'dcb': 16293, 'est': 16294, 'ce': 16295, 'qu': 16296, 'tait': 16297, 'anarchiste': 16298, 'allemand': 16299, 'zusendung': 16300, 'pflegerin': 16301, 'wachkoma': 16302, 'musterdemokraten': 16303, 'mindeststeuer': 16304, 'europanichtdieantwo': 16305, 'wasistdiefrage': 16306, 'euisnoteurope': 16307, 'kommissaren': 16308, 'weitgehend': 16309, 'diktatorische': 16310, 'entscheidungsbefugnisse': 16311, 'verlacht': 16312, 'mummenschanz': 16313, 'doris': 16314, 'day': 16315, 'ikone': 16316, '97': 16317, 'klassenfoto': 16318, '2b': 16319, 'gesichtern': 16320, 'dreieinhalb': 16321, 'damaligen': 16322, 'strafbefehls': 16323, 'urkunden': 16324, 'aufgedeckten': 16325, 'konzentrieren': 16326, 'hhwahl': 16327, 'enthaltsamkeit': 16328, 'privatperson': 16329, 'nanny': 16330, 'oktroyierung': 16331, 'tendenzioeses': 16332, 'ethische': 16333, 'standards': 16334, 'codeofconduct': 16335, 'marilyn': 16336, 'monroe': 16337, 'marlene': 16338, '1955': 16339, 'photograph': 16340, 'milton': 16341, 'greene': 16342, 'kinderkreuzzug': 16343, 'pianistin': 16344, 'bankraeuberin': 16345, 'historischer': 16346, 'saschalobo': 16347, 'augstein': 16348, 'manuela12788891': 16349, 'menges': 16350, 'getwitte': 16351, 'ausgebildete': 16352, 'ausbildungszeit': 16353, 'pruefungsumfang': 16354, 'deutschlandweit': 16355, 'geregelt': 16356, 'zustaendig': 16357, 'gewerkes': 16358, 'beaarep': 16359, 'bra': 16360, 'touren': 16361, 'nwo': 16362, 'trojanische': 16363, 'annevanhalen': 16364, 'unkultivie': 16365, 'aufgewachtewelt': 16366, 'metal': 16367, 'ventil': 16368, 'erschleichung': 16369, 'leistungen': 16370, 'vollstaendiges': 16371, 'auslandsreisen': 16372, 'dankeschoen': 16373, 'finja': 16374, 'fleissarbeit': 16375, 'thomasgbauer': 16376, 'schuppen': 16377, 'shisha': 16378, 'geldwaeschebars': 16379, 'wettbueros': 16380, 'spielhallen': 16381, 'handylaeden': 16382, 'ins': 16383, 'frsuen': 16384, 'fluechtlingshelferinnen': 16385, 'fluechtlingsbesoffenheit': 16386, 'mollekuel': 16387, 'beginn': 16388, 'deindustriealisierung': 16389, 'rotrotgruen': 16390, 'isses': 16391, 'gruenrotromantischen': 16392, 'kosmos': 16393, 'renten': 16394, 'umfallen': 16395, 'gruenwaehler': 16396, 'drandreakahl1': 16397, 'visp': 16398, 'verbuchen': 16399, 'schnaeppchenjaeger': 16400, 'opel': 16401, 'kaufkraftverlustes': 16402, 'schuldige': 16403, 'aufbegeh': 16404, 'bedingte': 16405, 'noooiiiiinnn': 16406, 'hygienischen': 16407, 'aegisbridge': 16408, 'buden': 16409, 'gewinnspanne': 16410, 'frass': 16411, 'phoenix1108': 16412, 'griechen': 16413, 'nachbar': 16414, 'volkslobbyist': 16415, 'kaplan': 16416, 'schmeckten': 16417, 'konsistenz': 16418, 'doenergewuerz': 16419, 'bestanden': 16420, 'asiatische': 16421, 'mexikanische': 16422, 'angerueh': 16423, 'faktoren': 16424, 'verzicht': 16425, 'bedacht': 16426, 'gammelfleischmeldungen': 16427, 'doenerladen': 16428, 'tierquaelereiverdachts': 16429, 'einhergeht': 16430, 'gefressen': 16431, 'spinatdoener': 16432, 'muesli': 16433, 'heul': 16434, 'mischen': 16435, 'ernaehrungsapostel': 16436, 'predigen': 16437, 'ungesund': 16438, 'klimaschaedlich': 16439, 'kebab': 16440, 'doeneressverweigerung': 16441, 'biodeutscher': 16442, 'schaechtfleisch': 16443, 'djihad': 16444, 'gegessen': 16445, 'machtbeben': 16446, 'dirk': 16447, 'leichte': 16448, 'brise': 16449, 'geschundenen': 16450, 'rindern': 16451, 'frevel': 16452, 'betruebt': 16453, 'nei': 16454, 'freudig': 16455, 'mitgeschoepfe': 16456, 'jauchtsen': 16457, 'futureworldxxl': 16458, 'intervenie': 16459, 'fingen': 16460, 'schliessungen': 16461, '2025': 16462, 'organtransplantations': 16463, 'boulevard': 16464, 'voro': 16465, 'beirut': 16466, 'enorme': 16467, 'gewinne': 16468, 'eingefahren': 16469, 'leidtragenden': 16470, 'jeher': 16471, 'perversesten': 16472, 'herangezogen': 16473, 'perverser': 16474, 'wahnsinniger': 16475, 'sonnenstich': 16476, 'ausgedacht': 16477, 'zaehlt': 16478, 'meiste': 16479, 'tiefste': 16480, 'provinz': 16481, 'verschwoerungsopfer': 16482, 'verhallt': 16483, 'informationsblasen': 16484, 'kohlekraft': 16485, 'unnoetig': 16486, 'automarken': 16487, 'umzuruesten': 16488, 'saubere': 16489, 'motoren': 16490, 'brennstoffzellen': 16491, 'elektroantrieb': 16492, 'georgloesel': 16493, 'kirchenlehre': 16494, 'schluesse': 16495, 'werben': 16496, 'ekelhaftes': 16497, 'nazipack': 16498, 'arbeitsmarktpolitische': 16499, 'umweltthemen': 16500, 'waehlbar': 16501, 'moritzbhg': 16502, 'arnistboehse': 16503, 'ueberholen': 16504, 'mountaindream5': 16505, 'durchdachte': 16506, 'konzepte': 16507, 'echauffieren': 16508, 'biodeutschsein': 16509, 'eliteableitung': 16510, 'massenware': 16511, 'polizeikommissar': 16512, 'goebbels': 16513, 'abgelegt': 16514, 'verhoehnt': 16515, 'vollgas': 16516, 'demokratiestirbt': 16517, 'noneo': 16518, 'lebensplanung': 16519, 'aufgegangen': 16520, 'schuldigen': 16521, 'luciame': 16522, 'gesinnungstechnische': 16523, 'sspirale': 16524, 'weiser': 16525, 'vogelschiss': 16526, 'ueberfaellig': 16527, 'lebensaufgabe': 16528, 'hypen': 16529, 'besorgt': 16530, 'talkshows': 16531, 'politmagazine': 16532, 'maximale': 16533, 'aufmerksamkeitsoekonomie': 16534, 'zueguesurfer': 16535, 'grundordnung': 16536, 'gehirnlos': 16537, 'doktorarbeit': 16538, 'unterdietfu': 16539, 'lupe': 16540, 'neuwe': 16541, 'ware': 16542, 'naturschutz': 16543, 'milliardengewinn': 16544, 'kretschmers': 16545, 'kleinhirn': 16546, 'au': 16547, 'weia': 16548, 'unterlaufen': 16549, 'versehen': 16550, 'long': 16551, 'dong': 16552, 'hohlen': 16553, 'moechtegern': 16554, 'nsafd': 16555, 'hetz': 16556, 'rechtsversifften': 16557, 'ecken': 16558, 'flatrate': 16559, 'dauerschleife': 16560, 'aufgeht': 16561, 'geoutet': 16562, 'dushan': 16563, 'geduscht': 16564, 'schautnichtweg': 16565, 'armer': 16566, 'dat': 16567, 'lahmemichaela': 16568, 'durchgeknallt': 16569, 'erwaehnt': 16570, 'hetzkraehe': 16571, 'abgeordnetenentschaedigung': 16572, '780': 16573, 'einziger': 16574, 'moralischer': 16575, 'standard': 16576, 'zhbbibo': 16577, 'duschhahn': 16578, 'verwechseln': 16579, 'aufgepeitscht': 16580, 'ehrlichen': 16581, 'niemalsrechts': 16582, 'ehren': 16583, 'zutun': 16584, 'umsatz': 16585, 'energiebarone': 16586, 'windraedern': 16587, 'geschrottet': 16588, 'geltungsbeduerftige': 16589, 'loveguerillos': 16590, 'aufrechte': 16591, 'herzblut': 16592, 'vielfaeltiges': 16593, 'versinkt': 16594, 'ueblen': 16595, 'reichstagsbrandner': 16596, 'bekackte': 16597, 'kabarett': 16598, 'demenz': 16599, 'vorzuwerfen': 16600, 'unredlich': 16601, 'demenzkranken': 16602, 'faktoid': 16603, 'irr': 16604, 'weitsicht': 16605, 'snoopy': 16606, 'ritalin': 16607, 'leg': 16608, 'kriegst': 16609, 'soziopath': 16610, 'notorische': 16611, 'luegnerin': 16612, 'hassueberschuss': 16613, 'verzweifelt': 16614, 'aemwe3007': 16615, 'wahlkampfeinmischung': 16616, 'ezimmer': 16617, 'fummeln': 16618, 'kloeten': 16619, 'hmh': 16620, 'wurschd': 16621, 'endeffekt': 16622, 'trans': 16623, 'tschaeaeaeaender': 16624, 'laaangweilig': 16625, 'nervt': 16626, 'hetero': 16627, 'pussys': 16628, 'steh': 16629, 'tierreich': 16630, 'homosexuelles': 16631, '1500': 16632, 'unnatuerlich': 16633, 'variante': 16634, 'dahingestellt': 16635, 'anbeginn': 16636, 'verpoent': 16637, 'hingezogen': 16638, 'zurschau': 16639, 'guck': 16640, 'gaypride': 16641, 'paraden': 16642, 'normalen': 16643, 'fluss': 16644, 'luna': 16645, 'l0veg00d': 16646, 'mamis': 16647, 'flugreisen': 16648, 'benennt': 16649, 'harryschloemer': 16650, 'gemuetlich': 16651, 'elektrogrill': 16652, 'geschlossener': 16653, 'anstalten': 16654, 'rutscht': 16655, 'befallen': 16656, 'trinken': 16657, 'schlucken': 16658, 'seyfe': 16659, 'therapieren': 16660, 'dienstleistung': 16661, 'nullachtk': 16662, 'tiefflieger': 16663, 'dierrw': 16664, 'hs': 16665, 'izzda': 16666, 'sprachen': 16667, 'landhaustussy': 16668, 'kannste': 16669, 'garnicht': 16670, 'abgefuellte': 16671, 'vollscheisse': 16672, 'ballons': 16673, 'unmassen': 16674, 'deutschzuerst': 16675, 'himmels': 16676, 'primitivlinge': 16677, 'guete': 16678, '98763': 16679, 'kurztelefonat': 16680, 'nekrophilen': 16681, 'leichenficker': 16682, 'hastala40450101': 16683, 'aussereheliches': 16684, 'willy': 16685, 'rassenmischling': 16686, 'ficke': 16687, 'stehst': 16688, 'frazionetoskana': 16689, 'vornehmen': 16690, 'icht': 16691, 'silviaherrmann': 16692, 'immergruener': 16693, 'halbschmarotzer': 16694, 'gastfreundschaft': 16695, 'tugend': 16696, 'veranlasst': 16697, 'obdach': 16698, 'zundherzlich': 16699, 'unmuendiger': 16700, 'gebaermaschine': 16701, 'hur': 16702, 'gewaehlte': 16703, 'ziegen': 16704, 'genen': 16705, 'sheelockmaier': 16706, 'naziaufmarsch': 16707, 'neger': 16708, 'gewuenscht': 16709, 'tacken': 16710, 'gossiger': 16711, 'ausnahmen': 16712, 'regel': 16713, 'schrumpft': 16714, 'muhahaha': 16715, 'spiessigkeit': 16716, 'tarnt': 16717, 'engstirnigkeit': 16718, 'regulierungswut': 16719, 'charakterlos': 16720, 'sesselkleber': 16721, 'wuerdig': 16722, 'wahrgenommen': 16723, 'huhuhuhuu': 16724, 'teuteburger': 16725, 'willkommensdingsbums': 16726, 'massenhinrichtungen': 16727, 'list': 16728, 'feierlichkeiten': 16729, 'mitgefeie': 16730, 'bonifatius': 16731, 'faellte': 16732, 'donareiche': 16733, 'gegenwa': 16734, 'schwe': 16735, 'fokussieren': 16736, 'erkenntnisprozesse': 16737, 'relativie': 16738, 'fleiss': 16739, 'arbeitenden': 16740, 'profitie': 16741, 'jahresendmaerkte': 16742, 'kackwetter': 16743, 'menschengemacht': 16744, 'selbstbinden': 16745, 'beklatscht': 16746, 'extremer': 16747, 'urknall': 16748, 'fangen': 16749, 'annehmen': 16750, 'scheiterhaufen': 16751, 'luegendetektor': 16752, 'gaudi': 16753, 'geneigt': 16754, 'psycho': 16755, 'strippenzieher': 16756, 'grundverbloedeten': 16757, 'rankommt': 16758, 'momentanen': 16759, 'betrag': 16760, 'foerdergeldern': 16761, 'unsinnsprojekte': 16762, 'oemmes4': 16763, 'whataboutism': 16764, 'systementreuen': 16765, 'fritzfizz': 16766, 'ausrichtung': 16767, 'realitaetsverweigerung': 16768, 'meinungsaeuserung': 16769, 'nachommen': 16770, 'anheizen': 16771, 'leisetreten': 16772, 'systemstoeckchen': 16773, 'springt': 16774, 'investigativ': 16775, 'manipulative': 16776, 'polarisierend': 16777, 'gelobt': 16778, 'bodenhaftung': 16779, 'frreschke': 16780, 'weissafrikaner': 16781, 'hihihi': 16782, 'hinterweltlerisch': 16783, 'rueckgaengig': 16784, 'londoner': 16785, 'hierarchie': 16786, '51jaehrige': 16787, 'nafris': 16788, 'wieka16': 16789, 'umwegig': 16790, 'zunehmen': 16791, 'armes': 16792, 'ordnen': 16793, 'eroberer': 16794, 'rol': 16795, '0815': 16796, 'goldstueckalarm': 16797, 'muslimischer': 16798, 'vornerein': 16799, 'behandelt': 16800, 'zuspruch': 16801, 'gefaehrdet': 16802, 'falscher': 16803, 'gleichfalls': 16804, 'baujahr': 16805, '1959': 16806, 'musten': 16807, 'buchenwald': 16808, 'uebernommen': 16809, 'regierungsgeschaefte': 16810, 'lebst': 16811, 'burg': 16812, 'zugezogenen': 16813, 'rollos': 16814, 'kommst': 16815, 'zone': 16816, 'indem': 16817, 'polizeistreife': 16818, 'spendensumpf': 16819, 'bemaengeln': 16820, 'eifinanzierung': 16821, 'dersende': 16822, 'station': 16823, 'speziell': 16824, 'angepriesene': 16825, 'transferleistungen': 16826, 'erbringen': 16827, '10gb': 16828, 'ersichtlich': 16829, 'sende': 16830, 'masten': 16831, 'schwierigkeit': 16832, 'akquirieren': 16833, 'wohnbereich': 16834, 'beschlag': 16835, 'kurkamp': 16836, 'schroeder': 16837, 'lamnitzer': 16838, 'kindererziehungszeiten': 16839, 'versorgungsausgleich': 16840, 'ausfall': 16841, 'schwangerschaft': 16842, 'niederkunft': 16843, 'erziehungsleistungen': 16844, 'merkwuerdig': 16845, 'wettstreit': 16846, 'schwestern': 16847, 'unbekanntheit': 16848, 'zugeschlagen': 16849}\n"
          ]
        }
      ]
    },
    {
      "cell_type": "markdown",
      "source": [
        "# encoding or sequencing\n"
      ],
      "metadata": {
        "id": "mRzlwLYqKY8k"
      }
    },
    {
      "cell_type": "code",
      "source": [
        "encoded_clean_text_stem = tok_all.texts_to_sequences(clean_text_stem)\n",
        "print(clean_text_stem[0])\n",
        "print(encoded_clean_text_stem[0])"
      ],
      "metadata": {
        "colab": {
          "base_uri": "https://localhost:8080/"
        },
        "id": "LvQYVAQ9KUa0",
        "outputId": "9f088b76-c131-4561-c9bb-5720c9d3ab53"
      },
      "execution_count": null,
      "outputs": [
        {
          "output_type": "stream",
          "name": "stdout",
          "text": [
            "frank rennicke   stolz  \n",
            "[932, 6275, 546]\n"
          ]
        }
      ]
    },
    {
      "cell_type": "markdown",
      "source": [
        "# Pre-padding\n"
      ],
      "metadata": {
        "id": "wWorwY-hKcBK"
      }
    },
    {
      "cell_type": "code",
      "source": [
        "from keras.preprocessing import sequence\n",
        "max_length = 100\n",
        "padded_clean_text_stem = sequence.pad_sequences(encoded_clean_text_stem, maxlen=max_length, padding='pre')"
      ],
      "metadata": {
        "id": "v911ZLQqKfPi"
      },
      "execution_count": null,
      "outputs": []
    },
    {
      "cell_type": "code",
      "source": [],
      "metadata": {
        "id": "3ihwYi0otWyf"
      },
      "execution_count": null,
      "outputs": []
    },
    {
      "cell_type": "markdown",
      "source": [
        "# Reading Test data and Pre-processing\n"
      ],
      "metadata": {
        "id": "jYqmeRiXKhu7"
      }
    },
    {
      "cell_type": "code",
      "source": [
        "data_t = pd.read_csv('/content/hasoc20test_improved.csv')\n",
        "pd.set_option('display.max_colwidth',150)\n",
        "data_t.head(10)\n",
        "\n"
      ],
      "metadata": {
        "colab": {
          "base_uri": "https://localhost:8080/"
        },
        "id": "pLKHp4MaKhSs",
        "outputId": "b4706155-7ba1-4e13-c8b1-971ff8593a8f"
      },
      "execution_count": null,
      "outputs": [
        {
          "output_type": "execute_result",
          "data": {
            "text/plain": [
              "   Unnamed: 0             tweet_id  \\\n",
              "0           0  1129095874242650112   \n",
              "1           1  1129004308396236800   \n",
              "2           2  1130896929355907080   \n",
              "3           3  1132251534329307136   \n",
              "4           4  1124941869115498496   \n",
              "5           5  1129712298531184641   \n",
              "6           6  1123981478361219073   \n",
              "7           7  1124978296628961287   \n",
              "8           8  1129473948813541376   \n",
              "9           9  1131048922527424512   \n",
              "\n",
              "                                                                                                                                            text  \\\n",
              "0                                                                                                @derCarsti Boykottieren hört sich besser an. 💙💙   \n",
              "1  RT @ibikus31: Es wird spekuliert, ob Merkel ein Amt in Brüssel übernimmt.\\nWäre es so, wie schätzen Sie dann die Zukunft der Mitgliedstaaten…   \n",
              "2                           Hat #Hitler wirklich den Krieg in der Wüste verloren? Nach der #Welt Schlagzeile hat die #Tagesschau nicht reagiert.   \n",
              "3   RT @Beatrix_vStorch: #May tritt in UK unter Tränen zurück. Wenn #Merkel zurücktritt, dann auch unter Tränen – unter den Freudentränen von M…   \n",
              "4                                                   @justmeDoro Eher nicht. Das Gänse hauen wieder ab in ihre warmen Überwinterungsquartiere. 😅😂   \n",
              "5   RT @VonSchwer: Ein guter Patriot geht von Bord‼️Gestürzt durch einen, vom ZDF finanzierten, linken Schmierenkomödianten 😡‼️ https://t.co/rl…   \n",
              "6                   @yooli_derechte @MontanaBlack Mich wundert es echt wie du noch keine Cockschelle bekommen hast. Du kinderfickender Hurensohn   \n",
              "7                                                      Da war #SPD #Kuehnert und am Ende auch #Nahles einfach nur dumm:  https://t.co/aj001ZKeWk   \n",
              "8                      Nazan, komm bittebitte zurück, löse die „Punggdä“-Trulla ab und werde wieder LD-Moderatorin! 🙏🏻 #letsdance2019 #letsdance   \n",
              "9   RT @Junge_Freiheit: Die europäische Spitzenkandidatin der Grünen im Europawahlkampf, Franziska Keller, hat sich für eine CO2-Steuer ausgesp…   \n",
              "\n",
              "  task1 task2                  ID  \n",
              "0   NOT  NONE  hasoc_2020_de_1053  \n",
              "1   NOT  NONE   hasoc_2020_de_671  \n",
              "2   NOT  NONE  hasoc_2020_de_2977  \n",
              "3   NOT  NONE  hasoc_2020_de_1746  \n",
              "4   NOT  NONE  hasoc_2020_de_2416  \n",
              "5   HOF  OFFN  hasoc_2020_de_1112  \n",
              "6   HOF  OFFN  hasoc_2020_de_2938  \n",
              "7   NOT  NONE  hasoc_2020_de_2205  \n",
              "8   NOT  NONE   hasoc_2020_de_387  \n",
              "9   NOT  NONE   hasoc_2020_de_459  "
            ],
            "text/html": [
              "\n",
              "  <div id=\"df-07c02ad0-b1c3-4486-a653-4081b3735aae\">\n",
              "    <div class=\"colab-df-container\">\n",
              "      <div>\n",
              "<style scoped>\n",
              "    .dataframe tbody tr th:only-of-type {\n",
              "        vertical-align: middle;\n",
              "    }\n",
              "\n",
              "    .dataframe tbody tr th {\n",
              "        vertical-align: top;\n",
              "    }\n",
              "\n",
              "    .dataframe thead th {\n",
              "        text-align: right;\n",
              "    }\n",
              "</style>\n",
              "<table border=\"1\" class=\"dataframe\">\n",
              "  <thead>\n",
              "    <tr style=\"text-align: right;\">\n",
              "      <th></th>\n",
              "      <th>Unnamed: 0</th>\n",
              "      <th>tweet_id</th>\n",
              "      <th>text</th>\n",
              "      <th>task1</th>\n",
              "      <th>task2</th>\n",
              "      <th>ID</th>\n",
              "    </tr>\n",
              "  </thead>\n",
              "  <tbody>\n",
              "    <tr>\n",
              "      <th>0</th>\n",
              "      <td>0</td>\n",
              "      <td>1129095874242650112</td>\n",
              "      <td>@derCarsti Boykottieren hört sich besser an. 💙💙</td>\n",
              "      <td>NOT</td>\n",
              "      <td>NONE</td>\n",
              "      <td>hasoc_2020_de_1053</td>\n",
              "    </tr>\n",
              "    <tr>\n",
              "      <th>1</th>\n",
              "      <td>1</td>\n",
              "      <td>1129004308396236800</td>\n",
              "      <td>RT @ibikus31: Es wird spekuliert, ob Merkel ein Amt in Brüssel übernimmt.\\nWäre es so, wie schätzen Sie dann die Zukunft der Mitgliedstaaten…</td>\n",
              "      <td>NOT</td>\n",
              "      <td>NONE</td>\n",
              "      <td>hasoc_2020_de_671</td>\n",
              "    </tr>\n",
              "    <tr>\n",
              "      <th>2</th>\n",
              "      <td>2</td>\n",
              "      <td>1130896929355907080</td>\n",
              "      <td>Hat #Hitler wirklich den Krieg in der Wüste verloren? Nach der #Welt Schlagzeile hat die #Tagesschau nicht reagiert.</td>\n",
              "      <td>NOT</td>\n",
              "      <td>NONE</td>\n",
              "      <td>hasoc_2020_de_2977</td>\n",
              "    </tr>\n",
              "    <tr>\n",
              "      <th>3</th>\n",
              "      <td>3</td>\n",
              "      <td>1132251534329307136</td>\n",
              "      <td>RT @Beatrix_vStorch: #May tritt in UK unter Tränen zurück. Wenn #Merkel zurücktritt, dann auch unter Tränen – unter den Freudentränen von M…</td>\n",
              "      <td>NOT</td>\n",
              "      <td>NONE</td>\n",
              "      <td>hasoc_2020_de_1746</td>\n",
              "    </tr>\n",
              "    <tr>\n",
              "      <th>4</th>\n",
              "      <td>4</td>\n",
              "      <td>1124941869115498496</td>\n",
              "      <td>@justmeDoro Eher nicht. Das Gänse hauen wieder ab in ihre warmen Überwinterungsquartiere. 😅😂</td>\n",
              "      <td>NOT</td>\n",
              "      <td>NONE</td>\n",
              "      <td>hasoc_2020_de_2416</td>\n",
              "    </tr>\n",
              "    <tr>\n",
              "      <th>5</th>\n",
              "      <td>5</td>\n",
              "      <td>1129712298531184641</td>\n",
              "      <td>RT @VonSchwer: Ein guter Patriot geht von Bord‼️Gestürzt durch einen, vom ZDF finanzierten, linken Schmierenkomödianten 😡‼️ https://t.co/rl…</td>\n",
              "      <td>HOF</td>\n",
              "      <td>OFFN</td>\n",
              "      <td>hasoc_2020_de_1112</td>\n",
              "    </tr>\n",
              "    <tr>\n",
              "      <th>6</th>\n",
              "      <td>6</td>\n",
              "      <td>1123981478361219073</td>\n",
              "      <td>@yooli_derechte @MontanaBlack Mich wundert es echt wie du noch keine Cockschelle bekommen hast. Du kinderfickender Hurensohn</td>\n",
              "      <td>HOF</td>\n",
              "      <td>OFFN</td>\n",
              "      <td>hasoc_2020_de_2938</td>\n",
              "    </tr>\n",
              "    <tr>\n",
              "      <th>7</th>\n",
              "      <td>7</td>\n",
              "      <td>1124978296628961287</td>\n",
              "      <td>Da war #SPD #Kuehnert und am Ende auch #Nahles einfach nur dumm:  https://t.co/aj001ZKeWk</td>\n",
              "      <td>NOT</td>\n",
              "      <td>NONE</td>\n",
              "      <td>hasoc_2020_de_2205</td>\n",
              "    </tr>\n",
              "    <tr>\n",
              "      <th>8</th>\n",
              "      <td>8</td>\n",
              "      <td>1129473948813541376</td>\n",
              "      <td>Nazan, komm bittebitte zurück, löse die „Punggdä“-Trulla ab und werde wieder LD-Moderatorin! 🙏🏻 #letsdance2019 #letsdance</td>\n",
              "      <td>NOT</td>\n",
              "      <td>NONE</td>\n",
              "      <td>hasoc_2020_de_387</td>\n",
              "    </tr>\n",
              "    <tr>\n",
              "      <th>9</th>\n",
              "      <td>9</td>\n",
              "      <td>1131048922527424512</td>\n",
              "      <td>RT @Junge_Freiheit: Die europäische Spitzenkandidatin der Grünen im Europawahlkampf, Franziska Keller, hat sich für eine CO2-Steuer ausgesp…</td>\n",
              "      <td>NOT</td>\n",
              "      <td>NONE</td>\n",
              "      <td>hasoc_2020_de_459</td>\n",
              "    </tr>\n",
              "  </tbody>\n",
              "</table>\n",
              "</div>\n",
              "      <button class=\"colab-df-convert\" onclick=\"convertToInteractive('df-07c02ad0-b1c3-4486-a653-4081b3735aae')\"\n",
              "              title=\"Convert this dataframe to an interactive table.\"\n",
              "              style=\"display:none;\">\n",
              "        \n",
              "  <svg xmlns=\"http://www.w3.org/2000/svg\" height=\"24px\"viewBox=\"0 0 24 24\"\n",
              "       width=\"24px\">\n",
              "    <path d=\"M0 0h24v24H0V0z\" fill=\"none\"/>\n",
              "    <path d=\"M18.56 5.44l.94 2.06.94-2.06 2.06-.94-2.06-.94-.94-2.06-.94 2.06-2.06.94zm-11 1L8.5 8.5l.94-2.06 2.06-.94-2.06-.94L8.5 2.5l-.94 2.06-2.06.94zm10 10l.94 2.06.94-2.06 2.06-.94-2.06-.94-.94-2.06-.94 2.06-2.06.94z\"/><path d=\"M17.41 7.96l-1.37-1.37c-.4-.4-.92-.59-1.43-.59-.52 0-1.04.2-1.43.59L10.3 9.45l-7.72 7.72c-.78.78-.78 2.05 0 2.83L4 21.41c.39.39.9.59 1.41.59.51 0 1.02-.2 1.41-.59l7.78-7.78 2.81-2.81c.8-.78.8-2.07 0-2.86zM5.41 20L4 18.59l7.72-7.72 1.47 1.35L5.41 20z\"/>\n",
              "  </svg>\n",
              "      </button>\n",
              "      \n",
              "  <style>\n",
              "    .colab-df-container {\n",
              "      display:flex;\n",
              "      flex-wrap:wrap;\n",
              "      gap: 12px;\n",
              "    }\n",
              "\n",
              "    .colab-df-convert {\n",
              "      background-color: #E8F0FE;\n",
              "      border: none;\n",
              "      border-radius: 50%;\n",
              "      cursor: pointer;\n",
              "      display: none;\n",
              "      fill: #1967D2;\n",
              "      height: 32px;\n",
              "      padding: 0 0 0 0;\n",
              "      width: 32px;\n",
              "    }\n",
              "\n",
              "    .colab-df-convert:hover {\n",
              "      background-color: #E2EBFA;\n",
              "      box-shadow: 0px 1px 2px rgba(60, 64, 67, 0.3), 0px 1px 3px 1px rgba(60, 64, 67, 0.15);\n",
              "      fill: #174EA6;\n",
              "    }\n",
              "\n",
              "    [theme=dark] .colab-df-convert {\n",
              "      background-color: #3B4455;\n",
              "      fill: #D2E3FC;\n",
              "    }\n",
              "\n",
              "    [theme=dark] .colab-df-convert:hover {\n",
              "      background-color: #434B5C;\n",
              "      box-shadow: 0px 1px 3px 1px rgba(0, 0, 0, 0.15);\n",
              "      filter: drop-shadow(0px 1px 2px rgba(0, 0, 0, 0.3));\n",
              "      fill: #FFFFFF;\n",
              "    }\n",
              "  </style>\n",
              "\n",
              "      <script>\n",
              "        const buttonEl =\n",
              "          document.querySelector('#df-07c02ad0-b1c3-4486-a653-4081b3735aae button.colab-df-convert');\n",
              "        buttonEl.style.display =\n",
              "          google.colab.kernel.accessAllowed ? 'block' : 'none';\n",
              "\n",
              "        async function convertToInteractive(key) {\n",
              "          const element = document.querySelector('#df-07c02ad0-b1c3-4486-a653-4081b3735aae');\n",
              "          const dataTable =\n",
              "            await google.colab.kernel.invokeFunction('convertToInteractive',\n",
              "                                                     [key], {});\n",
              "          if (!dataTable) return;\n",
              "\n",
              "          const docLinkHtml = 'Like what you see? Visit the ' +\n",
              "            '<a target=\"_blank\" href=https://colab.research.google.com/notebooks/data_table.ipynb>data table notebook</a>'\n",
              "            + ' to learn more about interactive tables.';\n",
              "          element.innerHTML = '';\n",
              "          dataTable['output_type'] = 'display_data';\n",
              "          await google.colab.output.renderOutput(dataTable, element);\n",
              "          const docLink = document.createElement('div');\n",
              "          docLink.innerHTML = docLinkHtml;\n",
              "          element.appendChild(docLink);\n",
              "        }\n",
              "      </script>\n",
              "    </div>\n",
              "  </div>\n",
              "  "
            ]
          },
          "metadata": {},
          "execution_count": 27
        }
      ]
    },
    {
      "cell_type": "code",
      "source": [
        "data_t.shape"
      ],
      "metadata": {
        "colab": {
          "base_uri": "https://localhost:8080/"
        },
        "id": "QrkMiNNVKrH_",
        "outputId": "59287875-46bb-4f21-adcd-05184f332a4a"
      },
      "execution_count": null,
      "outputs": [
        {
          "output_type": "execute_result",
          "data": {
            "text/plain": [
              "(526, 6)"
            ]
          },
          "metadata": {},
          "execution_count": 28
        }
      ]
    },
    {
      "cell_type": "code",
      "source": [
        "print(data_t.dtypes)"
      ],
      "metadata": {
        "colab": {
          "base_uri": "https://localhost:8080/"
        },
        "id": "MSYUUjUQKuqR",
        "outputId": "46041efe-84df-46ad-c014-84db0d265c3b"
      },
      "execution_count": null,
      "outputs": [
        {
          "output_type": "stream",
          "name": "stdout",
          "text": [
            "Unnamed: 0     int64\n",
            "tweet_id       int64\n",
            "text          object\n",
            "task1         object\n",
            "task2         object\n",
            "ID            object\n",
            "dtype: object\n"
          ]
        }
      ]
    },
    {
      "cell_type": "code",
      "source": [
        "\n",
        "\n",
        "label_t = data_t['task1']\n",
        "label_t.head()\n",
        "\n"
      ],
      "metadata": {
        "colab": {
          "base_uri": "https://localhost:8080/"
        },
        "id": "o-We4mNjKwHA",
        "outputId": "14ed5692-861d-409f-b6b4-46f62c8e18bb"
      },
      "execution_count": null,
      "outputs": [
        {
          "output_type": "execute_result",
          "data": {
            "text/plain": [
              "0    NOT\n",
              "1    NOT\n",
              "2    NOT\n",
              "3    NOT\n",
              "4    NOT\n",
              "Name: task1, dtype: object"
            ]
          },
          "metadata": {},
          "execution_count": 30
        }
      ]
    },
    {
      "cell_type": "code",
      "source": [
        "print(label_t.value_counts())\n",
        "import matplotlib.pyplot as plt\n",
        "label_t.value_counts().plot(kind='bar', color='red')"
      ],
      "metadata": {
        "colab": {
          "base_uri": "https://localhost:8080/"
        },
        "id": "EO_U9aM1Kxpa",
        "outputId": "7c1cae01-06e1-4b5d-b3da-b7e14d3dcbeb"
      },
      "execution_count": null,
      "outputs": [
        {
          "output_type": "stream",
          "name": "stdout",
          "text": [
            "NOT    365\n",
            "HOF    161\n",
            "Name: task1, dtype: int64\n"
          ]
        },
        {
          "output_type": "execute_result",
          "data": {
            "text/plain": [
              "<matplotlib.axes._subplots.AxesSubplot at 0x7fd5b0431c50>"
            ]
          },
          "metadata": {},
          "execution_count": 31
        },
        {
          "output_type": "display_data",
          "data": {
            "text/plain": [
              "<Figure size 432x288 with 1 Axes>"
            ],
            "image/png": "[encoded data removed]"
          },
          "metadata": {
            "needs_background": "light"
          }
        }
      ]
    },
    {
      "cell_type": "code",
      "source": [
        "\n",
        "\n",
        "import numpy as np\n",
        "classes_list_t = [\"HOF\",\"NOT\"]\n",
        "label_t_index = data_t['task1'].apply(classes_list_t.index)\n",
        "final_label_t = np.asarray(label_t_index)\n",
        "print(final_label_t[:10])\n",
        "\n"
      ],
      "metadata": {
        "colab": {
          "base_uri": "https://localhost:8080/"
        },
        "id": "ckCObbaYKzZz",
        "outputId": "741014f8-742a-4f51-abb0-bf451727db1e"
      },
      "execution_count": null,
      "outputs": [
        {
          "output_type": "stream",
          "name": "stdout",
          "text": [
            "[1 1 1 1 1 0 0 1 1 1]\n"
          ]
        }
      ]
    },
    {
      "cell_type": "code",
      "source": [
        "\n",
        "\n",
        "from keras.utils.np_utils import to_categorical\n",
        "label_twoDimension_t = to_categorical(final_label_t, num_classes=2)\n",
        "\n"
      ],
      "metadata": {
        "id": "JivaT_m3K1Ww"
      },
      "execution_count": null,
      "outputs": []
    },
    {
      "cell_type": "code",
      "source": [
        "print(label_twoDimension_t[:10])"
      ],
      "metadata": {
        "colab": {
          "base_uri": "https://localhost:8080/"
        },
        "id": "U1SXNpS7K3L5",
        "outputId": "39a336fb-0cb8-4370-a103-ab33358f0106"
      },
      "execution_count": null,
      "outputs": [
        {
          "output_type": "stream",
          "name": "stdout",
          "text": [
            "[[0. 1.]\n",
            " [0. 1.]\n",
            " [0. 1.]\n",
            " [0. 1.]\n",
            " [0. 1.]\n",
            " [1. 0.]\n",
            " [1. 0.]\n",
            " [0. 1.]\n",
            " [0. 1.]\n",
            " [0. 1.]]\n"
          ]
        }
      ]
    },
    {
      "cell_type": "code",
      "source": [
        "\n",
        "\n",
        "text_t = data_t['text']\n",
        "text_t.head(10)\n",
        "\n"
      ],
      "metadata": {
        "colab": {
          "base_uri": "https://localhost:8080/"
        },
        "id": "B4ok6nElK4sb",
        "outputId": "17948e60-9e01-400d-ead5-6e9a940ee105"
      },
      "execution_count": null,
      "outputs": [
        {
          "output_type": "execute_result",
          "data": {
            "text/plain": [
              "0                                                                                                  @derCarsti Boykottieren hört sich besser an. 💙💙\n",
              "1    RT @ibikus31: Es wird spekuliert, ob Merkel ein Amt in Brüssel übernimmt.\\nWäre es so, wie schätzen Sie dann die Zukunft der Mitgliedstaaten…\n",
              "2                             Hat #Hitler wirklich den Krieg in der Wüste verloren? Nach der #Welt Schlagzeile hat die #Tagesschau nicht reagiert.\n",
              "3     RT @Beatrix_vStorch: #May tritt in UK unter Tränen zurück. Wenn #Merkel zurücktritt, dann auch unter Tränen – unter den Freudentränen von M…\n",
              "4                                                     @justmeDoro Eher nicht. Das Gänse hauen wieder ab in ihre warmen Überwinterungsquartiere. 😅😂\n",
              "5     RT @VonSchwer: Ein guter Patriot geht von Bord‼️Gestürzt durch einen, vom ZDF finanzierten, linken Schmierenkomödianten 😡‼️ https://t.co/rl…\n",
              "6                     @yooli_derechte @MontanaBlack Mich wundert es echt wie du noch keine Cockschelle bekommen hast. Du kinderfickender Hurensohn\n",
              "7                                                        Da war #SPD #Kuehnert und am Ende auch #Nahles einfach nur dumm:  https://t.co/aj001ZKeWk\n",
              "8                        Nazan, komm bittebitte zurück, löse die „Punggdä“-Trulla ab und werde wieder LD-Moderatorin! 🙏🏻 #letsdance2019 #letsdance\n",
              "9     RT @Junge_Freiheit: Die europäische Spitzenkandidatin der Grünen im Europawahlkampf, Franziska Keller, hat sich für eine CO2-Steuer ausgesp…\n",
              "Name: text, dtype: object"
            ]
          },
          "metadata": {},
          "execution_count": 35
        }
      ]
    },
    {
      "cell_type": "code",
      "source": [
        "test_wo_umlauts = text_t.apply(lambda x: remove_umlaut(x))"
      ],
      "metadata": {
        "id": "gVKigcCEY1o9"
      },
      "execution_count": null,
      "outputs": []
    },
    {
      "cell_type": "code",
      "source": [
        "\n",
        "\n",
        "import re \n",
        "\n",
        "def text_clean(text):\n",
        "    ''' Pre process and convert texts to a list of words '''\n",
        "    \n",
        "    text=text.lower()\n",
        "\n",
        "    # Clean the text\n",
        "    text = re.sub(r\"[^A-Za-z0-9^,!.\\/'+-=]\", \" \", text)\n",
        "    text = re.sub('https?://\\S+|www\\.\\S+', \"\", text)\n",
        "    text = re.sub(r\"rt\", \" \", text)\n",
        "\n",
        "    return text\n",
        "\n"
      ],
      "metadata": {
        "id": "1slTVaWDK6LP"
      },
      "execution_count": null,
      "outputs": []
    },
    {
      "cell_type": "code",
      "source": [
        "clean_text_t = test_wo_umlauts.apply(lambda x:text_clean(x))"
      ],
      "metadata": {
        "id": "P6zJo8oXK75p"
      },
      "execution_count": null,
      "outputs": []
    },
    {
      "cell_type": "code",
      "source": [
        "clean_text_t.head(10)"
      ],
      "metadata": {
        "colab": {
          "base_uri": "https://localhost:8080/"
        },
        "id": "1vIn6oXdK9ug",
        "outputId": "6e38afa0-93f1-4bff-9e9d-11984d8c0475"
      },
      "execution_count": null,
      "outputs": [
        {
          "output_type": "execute_result",
          "data": {
            "text/plain": [
              "0                                                                                                      dercarsti boykottieren hoe  sich besser an.   \n",
              "1         ibikus31: es wird spekulie , ob merkel ein amt in bruessel uebernimmt. waere es so, wie schaetzen sie dann die zukunft der mitgliedstaaten \n",
              "2                                hat  hitler wirklich den krieg in der wueste verloren  nach der  welt schlagzeile hat die  tagesschau nicht reagie .\n",
              "3       beatrix vstorch:  may tritt in uk unter traenen zurueck. wenn  merkel zuruecktritt, dann auch unter traenen   unter den freudentraenen von m \n",
              "4                                                        justmedoro eher nicht. das gaense hauen wieder ab in ihre warmen ueberwinterungsqua iere.   \n",
              "5                          vonschwer: ein guter patriot geht von bord  gestuerzt durch einen, vom zdf finanzie en, linken schmierenkomoedianten      \n",
              "6                          yooli derechte  montanablack mich wunde  es echt wie du noch keine cockschelle bekommen hast. du kinderfickender hurensohn\n",
              "7                                                                                   da war  spd  kuehne  und am ende auch  nahles einfach nur dumm:  \n",
              "8                        nazan, komm bittebitte zurueck, loese die  punggdae -trulla ab und werde wieder ld-moderatorin!     letsdance2019  letsdance\n",
              "9         junge freiheit: die europaeische spitzenkandidatin der gruenen im europawahlkampf, franziska keller, hat sich fuer eine co2-steuer ausgesp \n",
              "Name: text, dtype: object"
            ]
          },
          "metadata": {},
          "execution_count": 39
        }
      ]
    },
    {
      "cell_type": "code",
      "source": [
        "\n",
        "\n",
        "import nltk\n",
        "from nltk.corpus import stopwords\n",
        "nltk.download('stopwords')\n",
        "def stop_words_removal(text1):\n",
        "    text1=[w for w in  text1.split(\" \")  if w not in stopwords.words('german')]\n",
        "    return \" \".join(text1)\n",
        "\n"
      ],
      "metadata": {
        "colab": {
          "base_uri": "https://localhost:8080/"
        },
        "id": "EH37JPgIK_KB",
        "outputId": "eadcebb7-3712-40ad-c53e-6ddfa47db668"
      },
      "execution_count": null,
      "outputs": [
        {
          "output_type": "stream",
          "name": "stderr",
          "text": [
            "[nltk_data] Downloading package stopwords to /root/nltk_data...\n",
            "[nltk_data]   Package stopwords is already up-to-date!\n"
          ]
        }
      ]
    },
    {
      "cell_type": "code",
      "source": [
        "clean_text_t_ns=clean_text_t.apply(lambda x: stop_words_removal(x))"
      ],
      "metadata": {
        "id": "gXxxzc59LBBX"
      },
      "execution_count": null,
      "outputs": []
    },
    {
      "cell_type": "code",
      "source": [
        "print(clean_text_t_ns.head(10))"
      ],
      "metadata": {
        "colab": {
          "base_uri": "https://localhost:8080/"
        },
        "id": "TpppvvEbLCwK",
        "outputId": "745c79ee-0e28-48d3-8f8f-e593fb04a3e6"
      },
      "execution_count": null,
      "outputs": [
        {
          "output_type": "stream",
          "name": "stdout",
          "text": [
            "0                                                                                dercarsti boykottieren hoe  besser an.   \n",
            "1                        ibikus31: spekulie , merkel amt bruessel uebernimmt. waere so, schaetzen zukunft mitgliedstaaten \n",
            "2                                            hitler wirklich krieg wueste verloren   welt schlagzeile  tagesschau reagie .\n",
            "3                        beatrix vstorch:  may tritt uk traenen zurueck.  merkel zuruecktritt, traenen   freudentraenen m \n",
            "4                                                justmedoro eher nicht. gaense hauen ab warmen ueberwinterungsqua iere.   \n",
            "5                 vonschwer: guter patriot geht bord  gestuerzt einen, zdf finanzie en, linken schmierenkomoedianten      \n",
            "6                            yooli derechte  montanablack wunde  echt cockschelle bekommen hast. kinderfickender hurensohn\n",
            "7                                                                                spd  kuehne  ende  nahles einfach dumm:  \n",
            "8                  nazan, komm bittebitte zurueck, loese  punggdae -trulla ab ld-moderatorin!     letsdance2019  letsdance\n",
            "9       junge freiheit: europaeische spitzenkandidatin gruenen europawahlkampf, franziska keller, fuer co2-steuer ausgesp \n",
            "Name: text, dtype: object\n"
          ]
        }
      ]
    },
    {
      "cell_type": "markdown",
      "source": [
        "# Stemming"
      ],
      "metadata": {
        "id": "ekQq8jY5LGLH"
      }
    },
    {
      "cell_type": "code",
      "source": [
        "# Stemming\n",
        "from nltk.stem import SnowballStemmer \n",
        "stemmer = SnowballStemmer(\"german\")\n",
        "\n",
        "def word_stemmer(text):\n",
        "    stem_text = \"\".join([stemmer.stem(i) for i in text])\n",
        "    return stem_text"
      ],
      "metadata": {
        "id": "tpl3ie1dLEH4"
      },
      "execution_count": null,
      "outputs": []
    },
    {
      "cell_type": "code",
      "source": [
        "clean_text_t_stem = clean_text_t_ns.apply(lambda x : word_stemmer(x))"
      ],
      "metadata": {
        "id": "7TziiQXoLIBA"
      },
      "execution_count": null,
      "outputs": []
    },
    {
      "cell_type": "code",
      "source": [
        "print(clean_text_t_stem.head(10))"
      ],
      "metadata": {
        "colab": {
          "base_uri": "https://localhost:8080/"
        },
        "id": "XasJI_bZLJna",
        "outputId": "85dacc1a-17c5-4626-a182-dfcc59377104"
      },
      "execution_count": null,
      "outputs": [
        {
          "output_type": "stream",
          "name": "stdout",
          "text": [
            "0                                                                                dercarsti boykottieren hoe  besser an.   \n",
            "1                        ibikus31: spekulie , merkel amt bruessel uebernimmt. waere so, schaetzen zukunft mitgliedstaaten \n",
            "2                                            hitler wirklich krieg wueste verloren   welt schlagzeile  tagesschau reagie .\n",
            "3                        beatrix vstorch:  may tritt uk traenen zurueck.  merkel zuruecktritt, traenen   freudentraenen m \n",
            "4                                                justmedoro eher nicht. gaense hauen ab warmen ueberwinterungsqua iere.   \n",
            "5                 vonschwer: guter patriot geht bord  gestuerzt einen, zdf finanzie en, linken schmierenkomoedianten      \n",
            "6                            yooli derechte  montanablack wunde  echt cockschelle bekommen hast. kinderfickender hurensohn\n",
            "7                                                                                spd  kuehne  ende  nahles einfach dumm:  \n",
            "8                  nazan, komm bittebitte zurueck, loese  punggdae -trulla ab ld-moderatorin!     letsdance2019  letsdance\n",
            "9       junge freiheit: europaeische spitzenkandidatin gruenen europawahlkampf, franziska keller, fuer co2-steuer ausgesp \n",
            "Name: text, dtype: object\n"
          ]
        }
      ]
    },
    {
      "cell_type": "code",
      "source": [
        "\n",
        "\n",
        "import keras\n",
        "import tensorflow\n",
        "from keras.preprocessing.text import Tokenizer\n",
        "tok_test = Tokenizer(filters='!\"#$%&\\'()*+,-./:;<=>?@[\\\\]^_`{|}~', lower=True, char_level = False)\n",
        "tok_test.fit_on_texts(clean_text_t_stem)\n",
        "\n"
      ],
      "metadata": {
        "id": "heX7pGrELLAq"
      },
      "execution_count": null,
      "outputs": []
    },
    {
      "cell_type": "code",
      "source": [
        "\n",
        "\n",
        "vocabulary_all_test = len(tok_test.word_counts)\n",
        "print(vocabulary_all_test)\n",
        "\n"
      ],
      "metadata": {
        "colab": {
          "base_uri": "https://localhost:8080/"
        },
        "id": "i0deLjofLMxh",
        "outputId": "c7879f88-a2e6-4f72-8d54-eae42f6a97f0"
      },
      "execution_count": null,
      "outputs": [
        {
          "output_type": "stream",
          "name": "stdout",
          "text": [
            "2687\n"
          ]
        }
      ]
    },
    {
      "cell_type": "code",
      "source": [
        "test_list = tok_test.word_index\n",
        "print(test_list)"
      ],
      "metadata": {
        "colab": {
          "base_uri": "https://localhost:8080/"
        },
        "id": "7aNXyczTLOTE",
        "outputId": "62a10de8-176d-4526-edc5-8707a92e3ec2"
      },
      "execution_count": null,
      "outputs": [
        {
          "output_type": "stream",
          "name": "stdout",
          "text": [
            "{'einfach': 1, 'deutsche': 2, 'arsch': 3, 'merkel': 4, 'fuer': 5, 'schon': 6, 'gruenen': 7, 'scheiss': 8, 'gt': 9, 'ab': 10, 'mal': 11, 'halt': 12, 'linken': 13, 'dumm': 14, 'porno': 15, 'welt': 16, 'hurensohn': 17, 'immer': 18, 'nazis': 19, 'frau': 20, 'mehr': 21, 'scheisse': 22, 'frauen': 23, 'ja': 24, 'zurueck': 25, 'gratis': 26, 'echt': 27, 'gruene': 28, 'warum': 29, 'tagesschau': 30, 'islam': 31, 'gibt': 32, 'en': 33, 'kinder': 34, 'ficken': 35, 'pack': 36, 'heute': 37, 'idioten': 38, 'ueber': 39, 'hoe': 40, 'besser': 41, 'lange': 42, 'eu': 43, 'dumme': 44, 'e': 45, 'schulz': 46, '3': 47, 'linke': 48, 'wuerde': 49, 'erst': 50, 'leben': 51, 'bild': 52, 'europa': 53, 'ist': 54, 'kopf': 55, 's': 56, 'kurz': 57, '5': 58, '12': 59, 'hasse': 60, 'deutschland': 61, 'eigentlich': 62, 'fresse': 63, 'b': 64, 'gabriel': 65, 'neue': 66, 'an': 67, 'waere': 68, 'eher': 69, 'nicht': 70, 'ganzen': 71, 'lassen': 72, 'a': 73, 'grund': 74, 'kotzen': 75, 'de': 76, 'dummen': 77, 'ma': 78, 'afd': 79, 'politiker': 80, 'h': 81, 'gesicht': 82, 'nie': 83, 'so': 84, 'hitler': 85, 'zdf': 86, 'spd': 87, '2019': 88, 'deutschen': 89, 'c': 90, 'habt': 91, 'neuen': 92, 'stimmt': 93, 'd': 94, 'gehirn': 95, 'moslems': 96, 'koennen': 97, 'reicht': 98, 'sowas': 99, 'x': 100, '10': 101, '99': 102, 'macht': 103, '50': 104, 'geile': 105, 'gruen': 106, 'pornos': 107, 'gerne': 108, 'sta': 109, 'm': 110, 'bekommen': 111, 'junge': 112, 'nich': 113, 'eh': 114, 'weiss': 115, '06': 116, '14': 117, '05': 118, 'wollen': 119, 'net': 120, '2': 121, 'ahnung': 122, 'richtig': 123, 'sitzen': 124, 'seehofer': 125, 'nazi': 126, 'zdfheute': 127, 'gefickt': 128, 'darf': 129, 'meisten': 130, 'politik': 131, 'usa': 132, 'u': 133, 'haben': 134, 'tuerken': 135, 'mutter': 136, 'luegen': 137, 'deutsch': 138, 'tief': 139, 'quak': 140, 'deal': 141, 'auch': 142, 'essen': 143, 'groesste': 144, 'maul': 145, 'schoen': 146, 'mdchen': 147, 'sawsanchebli': 148, 'pa': 149, 'peter': 150, 'jungen': 151, '29': 152, 'zeigt': 153, 'hennef': 154, 'amp': 155, 'bruessel': 156, 'vonschwer': 157, 'geht': 158, 'ende': 159, 'nahles': 160, 'is': 161, 'ideologie': 162, '4': 163, 'vorbei': 164, 'schaut': 165, 'hbf': 166, 'europas': 167, 'willst': 168, 'ard': 169, 'gehoe': 170, 'ausfall': 171, '21': 172, '11': 173, '01': 174, 'land': 175, 'moechte': 176, 'ifb': 177, 'zusammen': 178, 'v': 179, 'warn': 180, 'westen': 181, 'bald': 182, 'dafuer': 183, 'hoer': 184, 'lass': 185, '20': 186, 'wurde': 187, 'koennte': 188, 'f': 189, 'sehen': 190, 'ka': 191, 'damals': 192, 'oma': 193, 'ddr': 194, 'likes': 195, 'bezahlt': 196, 'lt': 197, 'dummes': 198, 'gewaehlt': 199, 'sicherheit': 200, 'frueher': 201, 'sirschnee': 202, 'angela': 203, 'gehoeren': 204, 'geld': 205, 'arschloch': 206, 'be': 207, 'tuerkei': 208, 'aufraeumen': 209, 'tragen': 210, 'sollen': 211, 'ausser': 212, 'fette': 213, 'voll': 214, 'geiler': 215, 'richtiger': 216, 'rot': 217, 'kyshera': 218, 'ei': 219, 'watch': 220, 'alten': 221, 'do': 222, 'passt': 223, 'geil': 224, 'arschloecher': 225, 'sehe': 226, 'dummer': 227, 'liebe': 228, '13': 229, 'wegen': 230, 'dr': 231, '6': 232, 'kostenlose': 233, 'fluechtlinge': 234, 'irgendwie': 235, 'glaube': 236, 'z': 237, 'wand': 238, 'merkels': 239, 'reden': 240, 'leute': 241, '7': 242, '8': 243, 'ibikus31': 244, 'wirklich': 245, 'verloren': 246, 'beatrix': 247, 'vstorch': 248, 'may': 249, 'traenen': 250, 'yooli': 251, 'derechte': 252, 'montanablack': 253, 'wunde': 254, 'hast': 255, 'kuehne': 256, 'komm': 257, 'freiheit': 258, 'europaeische': 259, 'europawahlkampf': 260, 'heissen': 261, 'drauf': 262, 'esc2019': 263, 'menschen': 264, 'bezeichnen': 265, 'ach': 266, 'gar': 267, 'sagt': 268, 'waehlen': 269, 'tot': 270, 'fuern': 271, 'lol': 272, 'fr': 273, 'ueberall': 274, 'gib': 275, 'dorsten': 276, 'teilausfall': 277, 'kommt': 278, 'einfuehren': 279, 'fah': 280, 'wild': 281, 'ne': 282, 'reg': 283, 'wahl': 284, 'erste': 285, 'schlimm': 286, '19': 287, 'one': 288, 'fies': 289, 'arme': 290, 'typ': 291, 'bremen': 292, 'kommen': 293, 'schaffen': 294, 'eva': 295, 'spiegelonline': 296, 'gibts': 297, 'unglaublich': 298, 'russische': 299, 'nackt': 300, 'alte': 301, 'muschi': 302, 'boden': 303, 'mir': 304, 'fahren': 305, '36': 306, 'alle': 307, 'regierung': 308, 'sagen': 309, 'hund': 310, 'sieht': 311, 'unfollow': 312, 'drdavidberger': 313, 'heulen': 314, '33': 315, 'brot': 316, 'seit': 317, 'findom': 318, 'teilen': 319, 'europawahl2019': 320, 'lachen': 321, 'islamisierung': 322, 'werden': 323, 'schlimmer': 324, 'same': 325, 'nic': 326, 'automaten': 327, 'verdammt': 328, 'waehler': 329, 'anfang': 330, 'sachen': 331, 'aufklaerer2017': 332, 'los': 333, 'verdanken': 334, 'erwa': 335, 'et': 336, 'schlagabtausch': 337, 'live': 338, 'rede': 339, 'propaganda': 340, 'sex': 341, 'muessen': 342, 'd2s': 343, '38': 344, 'eur': 345, 'raus': 346, 'mdr': 347, 'versucht': 348, 'pennen': 349, 'kacke': 350, 'merkst': 351, 'unserer': 352, 'tun': 353, 'kostenlos': 354, 'deutscher': 355, 'xd': 356, 'soviel': 357, 'haut': 358, 'movie': 359, '9': 360, 'itunes': 361, 'sale': 362, 'ueberhaupt': 363, 'korrupt': 364, 'w': 365, 'passie': 366, 'claudia': 367, 'religion': 368, 'friedens': 369, 'verkaufen': 370, 'luegenpresse': 371, 'erdogan': 372, 'trotzdem': 373, 'millionen': 374, '1': 375, 'ig': 376, 'loeffel': 377, 'penner': 378, 'wer': 379, 'brief': 380, 'at': 381, 'stbrandner': 382, 'das': 383, 'es': 384, 'der': 385, 'auf': 386, 'rechte': 387, 'rein': 388, 'wird': 389, 'no': 390, 'langsam': 391, 'vergewaltigung': 392, 'bereits': 393, 'tv': 394, 'eingeladen': 395, 'sofo': 396, 'update': 397, 'ca': 398, 'ramsen': 399, 'hoffe': 400, 'eier': 401, 'derb': 402, 'abseits': 403, 'zivilisation': 404, 'abgelegen': 405, 'umschrieben': 406, 'einlauf': 407, 'gerade': 408, 'fickt': 409, 'koblenz': 410, 'akk': 411, 'cdu': 412, 'funktionie': 413, 'wissenschaft': 414, 'bareholebitch': 415, 'frank': 416, 'song': 417, 'freundin': 418, 'werbung': 419, 'union': 420, 'machen': 421, 'geilen': 422, 'moegen': 423, 'bitte': 424, 'via': 425, 'erkenntnis': 426, 'cem': 427, 'oezdemir': 428, 'schlampen': 429, 'wisst': 430, 'nutte': 431, 'sorry': 432, 'nix': 433, 'nen': 434, 'fick': 435, 'nigromontanus': 436, 'milf': 437, 'merkelmussweg': 438, 'system': 439, 'warnung': 440, 'kant': 441, 'ko': 442, 'hr': 443, 'erlaubt': 444, 'berlin': 445, 'mitte': 446, 'i': 447, 'wuerselen': 448, 'harvard': 449, 'af': 450, 'stueck': 451, 'schwanz': 452, 'maas': 453, 'ltere': 454, '57': 455, 'xdeanmusicx': 456, 'gauland': 457, 'denken': 458, 'nazisraus': 459, 'vllt': 460, 'schwester': 461, 'gesagt': 462, 'naja': 463, 'si': 464, 'iq': 465, 'stimulator': 466, 'konservative': 467, 'troisdorf': 468, 'verspaetungskuerzung': 469, 'schere': 470, 'trump': 471, 'steine': 472, 'herrn': 473, 'aus': 474, 'tyske': 475, 'verantwo': 476, 'heimat': 477, 've': 478, 'berliner': 479, 'ziemlich': 480, 'sterben': 481, 'koennt': 482, 'yeah': 483, 'welle': 484, 'schiebt': 485, 'gaebe': 486, 'bereit': 487, 'gab': 488, 'downloaden': 489, 'nackte': 490, 'rp19': 491, '0': 492, 'al': 493, 'sozialisten': 494, 'freilichmagazin': 495, 'interfilm': 496, 'horrem': 497, 'lets': 498, 'plays': 499, 'fcbayern': 500, 'dercarsti': 501, 'boykottieren': 502, 'spekulie': 503, 'amt': 504, 'uebernimmt': 505, 'schaetzen': 506, 'zukunft': 507, 'mitgliedstaaten': 508, 'krieg': 509, 'wueste': 510, 'schlagzeile': 511, 'reagie': 512, 'tritt': 513, 'uk': 514, 'zuruecktritt': 515, 'freudentraenen': 516, 'justmedoro': 517, 'gaense': 518, 'hauen': 519, 'warmen': 520, 'ueberwinterungsqua': 521, 'iere': 522, 'guter': 523, 'patriot': 524, 'bord': 525, 'gestuerzt': 526, 'einen': 527, 'finanzie': 528, 'schmierenkomoedianten': 529, 'cockschelle': 530, 'kinderfickender': 531, 'nazan': 532, 'bittebitte': 533, 'loese': 534, 'punggdae': 535, 'trulla': 536, 'ld': 537, 'moderatorin': 538, 'letsdance2019': 539, 'letsdance': 540, 'spitzenkandidatin': 541, 'franziska': 542, 'keller': 543, 'co2': 544, 'steuer': 545, 'ausgesp': 546, 'mknhofheim': 547, 'backstage0000': 548, 'graubaer1953': 549, 'dduric': 550, 'yorck': 551, 'weber': 552, 'altmaier': 553, 'haen': 554, 'denkausfall': 555, 'lenarogl': 556, 'zunaechst': 557, 'beschraenken': 558, 'monsieur': 559, 'belier': 560, 'swiftxcited': 561, 'arsenal': 562, 'lady': 563, 'blockieren': 564, 'gut': 565, 'pakinson': 566, 'hand': 567, 'gbr': 568, 'jemandoriginal': 569, 'bestimmten': 570, 'folgen': 571, 'crazydigital': 572, 'vor': 573, 'uhr': 574, 'die': 575, '31': 576, 'jahre': 577, 'mach': 578, 'mit': 579, 'festpreise': 580, 'lob': 581, 'holzen': 582, 'amazonas': 583, 'sche': 584, 'cwbwelias': 585, 'theresagesper': 586, 'note': 587, 'verbessern': 588, 'physik': 589, 'referat': 590, 'stabile': 591, 'sahel': 592, 'staaten': 593, 'hilfe': 594, 'andyamholst': 595, 'sozialdarwinistische': 596, 'vorstufe': 597, 'froh': 598, 'saison': 599, 'verlaengerung': 600, 'leidens': 601, 'vfb': 602, 'sgepeeti': 603, 'verdursten': 604, 'gam': 605, 'fo': 606, 'nitegame': 607, 'almans': 608, 'problem': 609, 'gntm': 610, 'hyperbushido': 611, 'streu': 612, 'symon634': 613, 'ficke': 614, 'enkeltochter': 615, 'opas': 616, 'opis': 617, 'alter': 618, 'sack': 619, 'nwbrb44': 620, 'oberhausen': 621, '51': 622, '15': 623, 'greenziegel': 624, 'idee': 625, 'parkgebuehr': 626, 'fahrrader': 627, 'parkgebuehren': 628, 'comfeekazu': 629, 'freigeist': 630, 'nicolasjanzen': 631, 'och': 632, 'haha': 633, 'wohne': 634, 'schwelm': 635, 'nerd': 636, 'tj': 637, 'tweets': 638, 'rezomusik': 639, 'erinnerungen': 640, 'lefloid': 641, 'wach': 642, 'nationalismus': 643, 'feind': 644, 'europawahl19': 645, 'saufkumpel': 646, 'betiteln': 647, 'talent': 648, 'chrisepunkt': 649, 'doh': 650, 'bruder': 651, 'beides': 652, 'theitcrowdblog': 653, 'theitcrowd': 654, '04': 655, '07': 656, 'freetv': 657, 'itcrowd': 658, 'islamiqde': 659, 'amifabnow': 660, 'ashie': 661, 'pandabrchenthe1': 662, 'unbequem': 663, 'dwntwnbeats': 664, 'nachbarn': 665, 'laut': 666, 'musik': 667, 'anmacht': 668, 'messen': 669, 'anlange': 670, 'spucke': 671, 'seife': 672, 'nwbrs2': 673, 'burg': 674, '08': 675, 'twistringen': 676, '09': 677, 'betriebliche': 678, 'gruend': 679, 'wincent': 680, 'lanz': 681, 'kaum': 682, 'respekt': 683, 'deutscheamateu1': 684, 'sahne': 685, 'julia42833681': 686, 'leisner': 687, 'finde': 688, 'gewinne': 689, 'ekelhaft': 690, 'schockierend': 691, 'robdoubleyoo': 692, 'mialleixa34': 693, 'idiot': 694, 'veg': 695, 'and': 696, 'were': 697, 'pro': 698, 'animals': 699, 'sionist': 700, 'priv': 701, 'girl': 702, 'froehliches': 703, 'nationalitaetenraten': 704, 'angesagt': 705, 'degenerie': 706, 'master': 707, 'dlx': 708, 'lieben': 709, 'staendiger': 710, 'suppo': 711, 'exclusiv': 712, 'orientales': 713, 'follando': 714, 'fotosammlung': 715, 'pneumannberlin': 716, 'flixbus': 717, 'sebczaja': 718, 'omnibus': 719, 'bdo': 720, 'fernbus': 721, 'kasi': 722, 'alb': 723, 'lieblingslied': 724, 'innenminister': 725, 'kehre': 726, 'pisst': 727, 'stroemen': 728, 'fahrrad': 729, 'grillen': 730, 'unt': 731, 'hab': 732, 'durch': 733, 'jahren': 734, 'du': 735, 'hoehepunkt': 736, 'olivia': 737, 'frey55': 738, 'maltekaufmann': 739, 'maltchen': 740, 'hetze': 741, 'genutzt': 742, 'geschaetzt': 743, 'ra': 744, 'unglaublicher': 745, 'sigrid': 746, 'aktiv': 747, 'paranoia': 748, 'bestaeubung': 749, 'fridaysforfu': 750, 'ure': 751, 'voraus': 752, 'ooh': 753, 'narzisstischen': 754, 'ih': 755, 'seppgamsbichler': 756, 'joachimkessel': 757, 'soleylifa': 758, 'hockerrocker80': 759, 'exgruene': 760, 'mauschwitz': 761, 'joerg': 762, 'meuthen': 763, 'darauf': 764, 'organisie': 765, 'jutta': 766, 'ditfu': 767, 'tanturs': 768, 'jaaaa': 769, 'maxscurscur': 770, 'sah': 771, 'hurensoehne': 772, 'uech': 773, 'tadelloser': 774, 'wolf': 775, 'rudere': 776, 'verdammte': 777, 'ufer': 778, 'moza': 779, '2018': 780, 'sponse': 781, 'bau': 782, 'bloedsinn': 783, 'steuerzahler': 784, 'brutal': 785, 'abgemolken': 786, 'moment': 787, 'zugewandt': 788, 'zeitgleich': 789, 'ruecken': 790, 'hintern': 791, 'semihkrll': 792, 'hkktndr': 793, 'immediately': 794, 'xadlive': 795, 'cool': 796, 'bemuehtes': 797, 'ikelchen': 798, 'stellen': 799, 'kongress': 800, 'waegen': 801, 'wider': 802, 'skandaaaaaa': 803, 'bundestagsabgeordnete': 804, 'hoechst': 805, 'steigender': 806, 'verfolgung': 807, 'homosexueller': 808, 'riegel': 809, 'vorschieben': 810, 'lassmichbitteee': 811, 'eltern': 812, 'spass': 813, 'hurensohne': 814, 'fucking': 815, 'rum': 816, 'fuxking': 817, 'piraten': 818, 'nbb': 819, 'oranienburg': 820, 'sowie': 821, 'kreistag': 822, 'oberhavel': 823, 'kandidie': 824, 'ria': 825, 'nicola': 826, 'patchworkmutter': 827, 'quasseltier': 828, 'cyberramona': 829, 'huensoehne': 830, 'wuaaaaaaa': 831, 'fettes': 832, 'nordisch': 833, 'by': 834, 'nature': 835, 'hip': 836, 'hop': 837, 'legende': 838, 'neuem': 839, 'album': 840, 'lovestory': 841, 'moegt': 842, 'neueste': 843, 'bilder': 844, 'mandala': 845, 'retweet': 846, 'setzen': 847, 'sexy': 848, 'nude': 849, 'young': 850, 'germany': 851, 'ass': 852, 'nichtleslo': 853, 'erdkunde': 854, 'dermassen': 855, 'hauptstaede': 856, 'palastluger': 857, 'koepi': 858, 'momentanen': 859, 'abgeht': 860, 'laecherlich': 861, 'just': 862, 'sayin': 863, 'sackhaarfrisur': 864, 'gemuetlichen': 865, 'feie': 866, 'ags': 867, 'abend': 868, 'bissele': 869, 'trans': 870, 'warp': 871, 'gleichung': 872, 'tuefteln': 873, 'kr': 874, 'drumheadberlin': 875, 'unheil': 876, 'groessten': 877, 'anteil': 878, 'rest': 879, 'vasallen': 880, 'fern': 881, 'schreiber': 882, 'klasse': 883, 'zwei': 884, 'scheissegal': 885, 'opfer': 886, 'rapperin': 887, 'juju': 888, 'aktue': 889, 'zeitung': 890, 'energie': 891, 'vattenfall': 892, 'wasserstoff': 893, 'stayawakexo': 894, 'icys0da': 895, 'kongstrongru': 896, 'saskia': 897, 'harmon': 898, 'stellst': 899, 'triggern': 900, 'eucap': 901, 'niger': 902, 'funkeberlin': 903, 'westiebot': 904, 'mamafus': 905, 'peiwei': 906, 'apatzwahl': 907, 'nachdenkenswe': 908, 'siegeszug': 909, 'netzfund': 910, 'guidodietel': 911, 'entzauberung': 912, 'gestoppt': 913, 'skakeller': 914, 'geheimwaffe': 915, 'lautet': 916, 'labern': 917, 'aufgibt': 918, 'holgerewald1': 919, 'imam': 920, 'warnt': 921, 'uns': 922, 'gemaessigten': 923, 'helfen': 924, 'amy': 925, 'fliegenderelf': 926, 'suesseste': 927, 'koesst': 928, 'feiern': 929, 'klimawandelskeptikerin': 930, 'ruth': 931, 'townsley': 932, 'gefeue': 933, 'saeure': 934, 'farage': 935, 'gespritzt': 936, 'eklig': 937, 'charity': 938, 'policy': 939, 'chief': 940, 'kontoauszug': 941, 'drucken': 942, 'kassei': 943, 'tretet': 944, 'nochmal': 945, 'parlaments': 946, 'zieht': 947, 'hasser': 948, 'ulihaase': 949, 'sounds2move': 950, 'therealmrboccia': 951, 'taunusabbel': 952, 'eintracht': 953, 'merk': 954, 'freie': 955, 'gemeinderat': 956, 'multitain': 957, 'haticeakyuen': 958, 'kuehe': 959, 'unfinanzierbaren': 960, 'zukunftsvisionen': 961, 'melken': 962, 'kann': 963, 'buje78': 964, 'abgestiegen': 965, 'egal': 966, 'liga': 967, 'hsv': 968, 'hapaxlegomenos': 969, 'gestellt': 970, 'grunde': 971, 'normativ': 972, 'fakuum': 973, 'abgespaceste': 974, 'leipzig': 975, 'eisenbahnstrasse': 976, 'gingen': 977, 'araber': 978, 'aufeinander': 979, 'tuerke': 980, 'abgestochen': 981, 'bruststich': 982, 'alido': 983, 'olivari': 984, 'pepper46477330': 985, 'studienabbrechern': 986, 'subjekten': 987, 'ausbildung': 988, 'halbg': 989, 'ragazzi': 990, 'viele': 991, 'ticker': 992, 'spannung': 993, 'spricht': 994, 'havard': 995, 'absolventen': 996, 'swatch': 997, 'uhren': 998, 'toblerone': 999, 'muesst': 1000, 'schweizer': 1001, 'fernse': 1002, 'nebelniek': 1003, 'schlafen': 1004, 'kacken': 1005, 'jeky': 1006, 'veroeffentlicht': 1007, 'weitaus': 1008, 'bka': 1009, 'lagebild': 1010, 'gewalt': 1011, 'zuwanderern': 1012, 'nimm': 1013, 'analulla': 1014, 'fickgeilste': 1015, 'sekretaerin': 1016, 'ever': 1017, 'ruebenhorst': 1018, 'lernen': 1019, 'fehlern': 1020, 'quittung': 1021, 'steuerfinanzie': 1022, 'herbs': 1023, 'muttis': 1024, 'kostenloser': 1025, 'frankfu': 1026, 'erotik': 1027, 'massage': 1028, 'fkk': 1029, 'schweden': 1030, 'sitze': 1031, 'halbie': 1032, 'tja': 1033, 'ohren': 1034, 'klingeln': 1035, 'osram': 1036, '66240clc': 1037, 'xenarc': 1038, 'classic': 1039, 'duo': 1040, '61': 1041, 'new': 1042, 'lampen': 1043, 'xenon': 1044, 'brenner': 1045, 'xenonlampen': 1046, 'hallaschka': 1047, 'hh': 1048, 'konataplayz': 1049, 'mofuggaffm': 1050, 'tacoskr': 1051, '68': 1052, 'mdraktuell': 1053, 'soso': 1054, 'gelogen': 1055, 'war': 1056, 'plaer': 1057, 'tof': 1058, 'spekulieren': 1059, 'geliebt': 1060, 'worden': 1061, 'besinnunglos': 1062, 'abends': 1063, 'penis': 1064, 'aschenbecher': 1065, 'prdgrmn': 1066, 'renft1964': 1067, 'vorstellen': 1068, 'dinge': 1069, 'findet': 1070, 'traditionelles': 1071, 'backhausfest': 1072, 'tetscher': 1073, 'zwiebelkuchen': 1074, 'kuchen': 1075, 'special': 1076, 'heujahr': 1077, 'lauchkuchen': 1078, 'niederlaendische': 1079, 'abn': 1080, 'amro': 1081, 'bank': 1082, 'schwaechelt': 1083, 'jahresbeginn': 1084, 'tradesfeed': 1085, 'lanaaloveless': 1086, 'eiern': 1087, 'militaerhubschrauber': 1088, 'spezielle': 1089, 'zyklonfilter': 1090, 'shaden': 1091, 'aufgewirbeltem': 1092, 'turbinen': 1093, 'ninchen': 1094, 'lebst': 1095, 'feminismusgruppe': 1096, 'frauelo': 1097, 'sempfglas': 1098, 'herbstgefuehl': 1099, 'abtreibung': 1100, 'unmoralisch': 1101, 'erkennt': 1102, 'hinsicht': 1103, 'hirnverbrannte': 1104, 'drunkenraindrop': 1105, 'gefragt': 1106, 'presse': 1107, 'altpa': 1108, 'eien': 1109, '1000': 1110, 'islamisch': 1111, 'motivie': 1112, 'gewalttaten': 1113, 'abe': 1114, 'titten': 1115, 'nylon': 1116, 'parkplatzsex': 1117, 'kmoneydom': 1118, 'dunkle': 1119, 'jeans': 1120, 'l': 1121, 'brauchen': 1122, 'vibrator': 1123, 'ytbestofsjonas': 1124, 'redet': 1125, 'tag': 1126, 'kong': 1127, 'skull': 1128, 'island': 1129, 'regieren': 1130, 'ewig': 1131, 'hin': 1132, 'wiskundig': 1133, 'onjuist': 1134, 'disfosgen': 1135, 'geschwafel': 1136, 'schreiberling': 1137, 'buerokratie': 1138, 'joy333': 1139, 'fremde': 1140, 'frech': 1141, 'bekannte': 1142, 'freunde': 1143, 'etc': 1144, 'jagdfieber': 1145, 'kinderleben': 1146, 'fahne': 1147, 'nationalfahnen': 1148, 'hunde': 1149, 'tausende': 1150, 'naechsterunde': 1151, 'allerdings': 1152, 'bgefahren': 1153, 'machtgeil': 1154, 'jetzigen': 1155, 'charge': 1156, 'beschleicht': 1157, 'verdacht': 1158, 'waeren': 1159, 'einfa': 1160, 'officialnuplays': 1161, 'lowerclassmag': 1162, 'wichtig': 1163, 'liberalos': 1164, 'auslaendische': 1165, 'insbesondere': 1166, 'oligarchin': 1167, 'adele66661': 1168, 'schreddern': 1169, 'voegeln': 1170, 'vernichten': 1171, 'bienen': 1172, 'anbau': 1173, 'monokulturen': 1174, 'inf': 1175, 'blickch': 1176, 'erwiesen': 1177, 'muell': 1178, 'mikelontour': 1179, 'hasselfeld': 1180, 'wahlkampfhelferin': 1181, 'deepstateexpose': 1182, 'rothschild': 1183, 'lineage': 1184, 'houelle': 1185, 'beck': 1186, 'lu': 1187, 'rasend': 1188, 'windraeder': 1189, 'dazu': 1190, 'toetungs': 1191, 'crazy': 1192, 'umgehen': 1193, 'guennitack': 1194, 'teuren': 1195, 'karre': 1196, 'geizig': 1197, 'paar': 1198, 'euro': 1199, 'fuers': 1200, 'parkhaus': 1201, 'verraet': 1202, 'strenge': 1203, 'vorschriften': 1204, 'mimini97': 1205, 'kade': 1206, 're': 1207, 'gnocchi': 1208, 'mane': 1209, 'unbegreiflich': 1210, 'nido': 1211, 'magazin': 1212, 'grossbritannien': 1213, 'verhaltensforscher': 1214, 'unverheiratete': 1215, 'gluecklichsten': 1216, 'matthewsnow777': 1217, 'kevinalpha100': 1218, 'fernsehga': 1219, 'roterpaenda': 1220, 'piapale': 1221, 'niere': 1222, 'blutplasma': 1223, 'sebaso': 1224, 'grenzen': 1225, 'wachstums': 1226, 'billige': 1227, 'unwissenschaftliche': 1228, 'modellrechnung': 1229, 'verher': 1230, 'afternoonsand': 1231, 'acosta': 1232, 'seik': 1233, 'heilp': 1234, 'for': 1235, 'your': 1236, 'bullshit': 1237, 'hake': 1238, 'nach': 1239, 'europaweit': 1240, 'deutschla': 1241, 'wetter': 1242, 'wind': 1243, 'nnw': 1244, 'feuchtigkeit': 1245, 'luftdruck': 1246, '1039': 1247, 'hpa': 1248, 'eclipsesquirrei': 1249, 'doris': 1250, 'voice': 1251, 'valeriehoehne': 1252, 'oeffentlich': 1253, 'rechtlichen': 1254, 'grossteil': 1255, 'medien': 1256, 'infl': 1257, 'outofvalhalla': 1258, 'all': 1259, 'draussen': 1260, 'kritiker': 1261, 'leichtfe': 1262, 'nennt': 1263, 'kaempfen': 1264, 'dirkhafermann': 1265, 'kippa': 1266, 'refugeeswelcome': 1267, 'button': 1268, 'fancy': 1269, 'vorkommen': 1270, 'spaghetti': 1271, 'nem': 1272, 'gabel': 1273, 'sinnlos': 1274, 'dasperfektedinner': 1275, 'horopat': 1276, 'verfassungsschutz': 1277, 'lumpenverein': 1278, 'wollt': 1279, 'hier': 1280, 'andersdenkende': 1281, 'ueb': 1282, 'isis': 1283, 'anhaenger': 1284, 'updayde': 1285, 'gesendet': 1286, 'philippkirchbe2': 1287, 'regsprecher': 1288, 'peinliches': 1289, 'yasinaygan': 1290, 'tdoernb': 1291, 'alican': 1292, '2023': 1293, 'provomed': 1294, 'halts': 1295, 'stolz': 1296, 'har41637914': 1297, 'juergenbraunafd': 1298, 'volksterroristen': 1299, 'keiner': 1300, 'lamijaparker': 1301, 'zugzwang74': 1302, 'dave': 1303, 'mitchell': 1304, 'fsv': 1305, 'dfr38314168': 1306, 'devote': 1307, 'unweigerlich': 1308, 'geben': 1309, 'abgeschlossen': 1310, 'erol19732': 1311, 'zeitonline': 1312, 'sollten': 1313, 'ehemaligen': 1314, 'ueberprueft': 1315, 'stasi': 1316, 'boogie': 1317, 'underground': 1318, 'alhanda': 1319, 'amerikas': 1320, 'avengersendgame': 1321, 'b4rr0th': 1322, 'rufe': 1323, 'axel': 1324, 'voss': 1325, 'reisst': 1326, 'pepinosten': 1327, 'macher': 1328, 'gegensatz': 1329, 'lachern': 1330, 'ghile': 1331, 'ungesunde': 1332, 'schweinerei': 1333, 'knapper': 1334, 'zirkus': 1335, 'ceeembo': 1336, 'marcedonia': 1337, 'schroeder': 1338, 'vergleich': 1339, 'politicalbeauty': 1340, 'identitaeren': 1341, 'politische': 1342, 'kuenstler': 1343, 'radi': 1344, 'schule': 1345, 'gestern': 1346, 'abistress': 1347, 'wichsvorlage': 1348, 'teen': 1349, 'groe': 1350, 'schwnze': 1351, 'sexfilmegratis': 1352, 'clip': 1353, 'rickj78': 1354, 'fuuuuu': 1355, 'davinismus': 1356, 'rassist': 1357, 'supermarkt': 1358, 'weisse': 1359, 'bohnen': 1360, 'kauft': 1361, 'taschen': 1362, 'papier': 1363, 'zweitstaerkste': 1364, 'kraft': 1365, 'erzeit': 1366, 'fakt': 1367, 'sinnvoll': 1368, 'vi': 1369, 'lawyerberlin': 1370, 'staats': 1371, 'wurden': 1372, 'habeck': 1373, 'abaerbock': 1374, 'talk': 1375, 'shows': 1376, 'wahlmanipulatio': 1377, 'vazhnicza76765': 1378, 'tamaraberlin85': 1379, 'noverclaudia': 1380, 'kennst': 1381, 'embodiment': 1382, 'biete': 1383, 'coachingangebot': 1384, 'monate': 1385, 'embodimentcoaching': 1386, 'demutsch': 1387, 'busnotverkehr': 1388, 'gruenstadt': 1389, '40': 1390, 'matthiasmeisner': 1391, 'irr': 1392, 'news': 1393, 'dernbachan': 1394, 'ricarda': 1395, 'lang': 1396, 'fliegen': 1397, 'nerven': 1398, 'irgendwann': 1399, 'flieg': 1400, 'holyvitality': 1401, 'justvnty': 1402, 'verpiss': 1403, 'bineuerboss': 1404, 'fivethrsix': 1405, 'unlustig': 1406, 'sexistisch': 1407, 'hirntot': 1408, 'icj': 1409, 'fallen': 1410, 'berraschend': 1411, 'puff': 1412, 'thringen': 1413, 'tittenfick': 1414, 'german': 1415, 'brazer': 1416, 'gogollafit': 1417, 'reinscrolle': 1418, 'merke': 1419, 'ich': 1420, 'kompletten': 1421, 'gegenrealitaet': 1422, 'kon': 1423, 'lepenseur': 1424, 'treu': 1425, 'unserm': 1426, 'volkstum': 1427, 'fragolin': 1428, 'mitlesenden': 1429, 'blockwa': 1430, 'rausch': 1431, 'fetter': 1432, 'gynkologe': 1433, 'amate': 1434, 'jugendtliche': 1435, 'outdoor': 1436, 'isariuzcs': 1437, 'erstmal': 1438, 'bissel': 1439, 'klinik': 1440, 'goennen': 1441, 'neuwied': 1442, 'vanillelikoer': 1443, 'tuerkin': 1444, 'anfuehrungszeichen': 1445, 'kurdin': 1446, 'ausspionie': 1447, 'rbrinkhaus': 1448, 'rassistisch': 1449, 'verschissenen': 1450, 'externe': 1451, 'adapter': 1452, 'eingebaute': 1453, 'sfgjklkf': 1454, 'chrisjcsgo': 1455, 'fazeniko': 1456, 'eslcs': 1457, 'thanks': 1458, 'meterphysik': 1459, 'diversitaet': 1460, 'nikab': 1461, 'burka': 1462, 'tjador': 1463, 'hijab': 1464, 'jungs': 1465, 'duerfen': 1466, 'fetten': 1467, 'schwaenze': 1468, 'blank': 1469, 'schieben': 1470, 'reinspritzen': 1471, 'anne': 1472, 'kyf': 1473, 'destandaard': 1474, 'schwarz': 1475, 'gelb': 1476, 'blau': 1477, 'dreck': 1478, 'antidemokraten': 1479, 'verenden': 1480, 'glubschauge': 1481, 'barley': 1482, 'buergerrechtler': 1483, 'carsten': 1484, 'moralapostel': 1485, 'verschwoerer': 1486, 'walter': 1487, 'stei': 1488, 'bamberg': 1489, 'adac': 1490, 'beunruhigung': 1491, 'sargtraeger': 1492, 'ueberholte': 1493, 'autokultur': 1494, 'grabe': 1495, 'germanymisfits': 1496, 'juekofubago5': 1497, 'hexehanna8': 1498, 'philip': 1499, 'sympathisch': 1500, 'queen': 1501, 'bin': 1502, 'fan': 1503, 'heutige': 1504, 'grummelmann': 1505, 'ckmeine': 1506, 'explizit': 1507, 'sharebenhaufen': 1508, 'nachhaltig': 1509, 'pornofoto': 1510, 'sveta': 1511, 'belochkina': 1512, 'jugendliche': 1513, 'pono': 1514, 'italiano': 1515, 'perspective': 1516, '1978': 1517, 'interscope': 1518, 'hevellia64': 1519, 'ralf64904117': 1520, 'chrisfuerafd': 1521, 'kaempften': 1522, 'raeaechts': 1523, 'enkel': 1524, 'fridayforfuture': 1525, 'ser0599': 1526, 'elba': 1527, 'o08973042': 1528, 'missionen': 1529, 'merlethewizard': 1530, 'beweg': 1531, 'berxe': 1532, 'oesterreichischen': 1533, 'heraus': 1534, 'halten': 1535, 'sie': 1536, 'karina140911': 1537, 'herman': 1538, 'seid': 1539, 'politikstube': 1540, 'jogg': 1541, 'pfad': 1542, 'stopfe': 1543, 'wellensittich': 1544, 'ente': 1545, 'yannikau': 1546, 'abschieben': 1547, 'nackter': 1548, 'pornogratis': 1549, 'movil': 1550, 'extrem': 1551, 'ficksau': 1552, 'ost': 1553, 'carpediem041703': 1554, 'reichts': 1555, 'fluechtling': 1556, 'roten': 1557, 'braunen': 1558, 'meinungsfaschisten': 1559, 'hau': 1560, 'blog': 1561, 'fefe': 1562, 'ihr': 1563, 'kraftvollen': 1564, 'firefox': 1565, 'fuckup': 1566, 'voellig': 1567, 'unvorhergesehen': 1568, 'ueberraschen': 1569, 'dreckige': 1570, 'sterbanen': 1571, 'reachtruckchauffeur': 1572, 'vm': 1573, 'dittrich': 1574, 'bloed': 1575, 'lied': 1576, 'gone': 1577, 'jameskennedyuk': 1578, 'soundcloud': 1579, 'netreaper': 1580, 'miatamuc': 1581, 'kachelmann': 1582, 'gaaarrrrnix': 1583, 'tabulosen': 1584, 'touristenschreck': 1585, 'public': 1586, 'murksel': 1587, 'kopftuchtante': 1588, 'neckar67': 1589, 'nur': 1590, 'andr': 1591, 'ficktitze': 1592, 'praesentie': 1593, 'snipzh': 1594, 'staender': 1595, 'gebrauchen': 1596, 'drwaumiau': 1597, 'alexa': 1598, 'single': 1599, 'heisse': 1600, 'siri': 1601, 'anal': 1602, 'fahrschlerin': 1603, 'hausfrauen': 1604, 'lukaschenkaver1': 1605, 'belgien': 1606, 'failed': 1607, 'state': 1608, 'siehe': 1609, 'dutroux': 1610, 'bande': 1611, 'brabant': 1612, 'friedenau': 1613, 'matzegeisthardt': 1614, 'niedrig': 1615, 'loehne': 1616, 'spinner': 1617, 'frolleinvommeer': 1618, 'daue': 1619, 'frage': 1620, 'apotheke': 1621, 'haeufiger': 1622, 'versuche': 1623, 'meist': 1624, 'parallel': 1625, 'schade': 1626, 'drphiloponus': 1627, 'einmaersche': 1628, 'hui': 1629, 'einmischung': 1630, 'pfui': 1631, 'humor': 1632, 'xxx': 1633, 'vater': 1634, 'tweetba': 1635, 'hals': 1636, 'blockchains': 1637, 'denen': 1638, 'sebastiankurz': 1639, 'reinlegen': 1640, 'nwbrb84': 1641, 'holzminden': 1642, 'stadtoldendorf': 1643, 'fahrzeugstoerung': 1644, 'araujo': 1645, 'feltscher': 1646, 'exprofis': 1647, 'vengaboys': 1648, 'aidrieeen': 1649, 'ueberforde': 1650, 'katzenhaxen': 1651, 'dark': 1652, 'fighter': 1653, '87': 1654, 'r3tu4s': 1655, 'wenked': 1656, 'doch': 1657, 'verbiete': 1658, 'deswe': 1659, 'lowl3v3l': 1660, 'saftmoppel': 1661, 'klingt': 1662, 'allzu': 1663, 'faelle': 1664, 'irgendein': 1665, 'funktionierendes': 1666, 'militr49': 1667, 'irren': 1668, 'personen': 1669, 'roth': 1670, 'fdj': 1671, 'lerin': 1672, 'meinung': 1673, 'ichbinkoelnerin': 1674, 'menschheitsgeschichte': 1675, 'agitation': 1676, 'jackcaroni': 1677, 'metastabil': 1678, 'mateundottdrei': 1679, 'flexxer': 1680, 'sohn': 1681, 'vergewaltigt': 1682, 'blondine': 1683, 'spanking': 1684, 'po': 1685, 'katharinalotter': 1686, 'genial': 1687, 'trigger': 1688, 'crazy21292822': 1689, 'ons': 1690, 'angegeben': 1691, 'null': 1692, 'durchschnitt': 1693, 'unskilledjosh3': 1694, 'klassische': 1695, 'strecke': 1696, 'stadtstrecke': 1697, 'tilke': 1698, 'klarnamehornet': 1699, 'usw': 1700, 'genannt': 1701, 'hohlkoerper': 1702, 'lehnt': 1703, 'morden': 1704, 'vergewaltigen': 1705, 'erk': 1706, 'wohnungsbelegung': 1707, 'reglementieren': 1708, 'omi': 1709, 'raum': 1710, 'wohnung': 1711, 'bones': 1712, 'eiffel65': 1713, 'teamsesh': 1714, 'send': 1715, 'music': 1716, 'tage': 1717, 'woche': 1718, 'done': 1719, 'erleben': 1720, 'legendaeren': 1721, 'the': 1722, 'schulzzug': 1723, 'richtngfreiheit': 1724, 'woaaaah': 1725, 'knuffig': 1726, 'suesse': 1727, 'mietze': 1728, 'vickershv10': 1729, 'wohnungen': 1730, '3785': 1731, 'monatlich': 1732, 'syrien': 1733, 'zurue': 1734, 'tsuga1453': 1735, 'ehrensackhaar': 1736, 'permanent': 1737, 'verlie': 1738, 'jegliche': 1739, 'bedeutung': 1740, 'obwohl': 1741, 'oftmals': 1742, 'stefanolix': 1743, 'sagte': 1744, 'orban': 1745, 'nuetzliche': 1746, 'rolandgiersig': 1747, 'tuerkisen': 1748, 'blaunen': 1749, 'hauptsache': 1750, 'manipulie': 1751, 'weiterverbreiten': 1752, '1hver': 1753, 'dem': 1754, 'blauen': 1755, 'franzoesisch': 1756, 'olafundsabrina': 1757, 'schaeme': 1758, 'bunt': 1759, 'gewollt': 1760, 'offene': 1761, 'abc': 1762, 'einsatz': 1763, 'postve': 1764, 'eilzentrum': 1765, 'herford': 1766, 'will': 1767, 'duenkelhafter': 1768, 'kasernenhofton': 1769, 'strache': 1770, 'skandal': 1771, 'oesterreich': 1772, 'nwz': 1773, 'kommentar': 1774, 'xqualli': 1775, 'quallen': 1776, 'arrogante': 1777, 'grinsen': 1778, 'bayernspieler': 1779, 'geistigen': 1780, 'auge': 1781, 'schrder47552341': 1782, 'kvomlande': 1783, 'liz': 1784, 'skripte': 1785, 'liefen': 1786, '4kolner': 1787, 'bimmermann': 1788, 'dreckiges': 1789, 'ratte': 1790, 'verfuehredich': 1791, 'versenken': 1792, 'cootuegpa': 1793, 'migos': 1794, 'melekwtr': 1795, 'samsunspor': 1796, 'lutfen': 1797, 'aktuelle': 1798, 'stunde': 1799, 'damit': 1800, 'dusche': 1801, 'neuken': 1802, 'eindhoven': 1803, 'sexfilme': 1804, 'trinkt': 1805, 'reagenzglas': 1806, 'wohl': 1807, 'mrs': 1808, 'hyde': 1809, 'celestescoeurs': 1810, 'fussmatte': 1811, 'versiffte': 1812, 'kindermaschine': 1813, 'aka': 1814, 'papi': 1815, 'geholfen': 1816, 'fckafd': 1817, 'harburg': 1818, 'noafd': 1819, 'noafdhh': 1820, 'nonazishh': 1821, 'gerhardschwar11': 1822, 'wohlhabender': 1823, 'nebenjobs': 1824, 'verdienen': 1825, 'leistungsbeziehern': 1826, 'abzugspfl': 1827, 'serotoninaffine': 1828, 'aba': 1829, 'maria': 1830, 'zuckerfreie': 1831, 'free': 1832, 'porrno': 1833, 'tubes': 1834, 'vgeln': 1835, 'zeiten': 1836, 'back': 1837, 'chillig': 1838, 'dead': 1839, 'heinz': 1840, 'a1': 1841, 'linuzifer': 1842, 'eimer': 1843, 'dfkring': 1844, 'kuanqia': 1845, 'film': 1846, 'keksen': 1847, 'charlton': 1848, 'heston': 1849, 'quick': 1850, 'bzberlin': 1851, 'stellt': 1852, 'schicksalsfrage': 1853, 'enteignungen': 1854, 'kreditaufnahme': 1855, 'seenotrettung': 1856, 'mittelmeer': 1857, 'sea': 1858, 'kapitaenin': 1859, 'pia': 1860, 'klemp': 1861, 'beklagte': 1862, 'jokoundklaas': 1863, 'besatzung': 1864, 'kriminal': 1865, 'karlv1954': 1866, 'buerstmayr': 1867, 'spoe': 1868, 'kompletter': 1869, 'schwachsinn': 1870, 'waehlt': 1871, 'missbababelle': 1872, 'gestoe': 1873, 'sat1': 1874, 'fruehstuecksfernsehen': 1875, 'behauptet': 1876, 'bruenette': 1877, 'kuh': 1878, 'tatsaechlich': 1879, 'gefeie': 1880, 'digitalfarmer3': 1881, 'benoetigen': 1882, 'betreutes': 1883, 'impfanoffiziell': 1884, 'joe': 1885, 'rogan': 1886, 'bitte1bitcoin': 1887, 'bitcoin': 1888, 'initiative': 1889, 'schaumstoff': 1890, 'riesigen': 1891, 'stuecken': 1892, 'stopf': 1893, 'shoulderpads': 1894, 'kissenfuellung': 1895, 'krzyx0': 1896, 'fickfilme': 1897, 'geschichten': 1898, 'denise': 1899, 'pornovideo': 1900, 'besprechung': 1901, 'kollege': 1902, 'vergangenheit': 1903, 'oefteren': 1904, 'gerettet': 1905, 'doktordab': 1906, 'views': 1907, 'wuerzburg': 1908, 'gewohnheiten': 1909, 'haemophagus': 1910, 'gegroele': 1911, 'gif': 1912, 'dickelippe': 1913, 'stehen': 1914, 'betten': 1915, 'dachbalkon': 1916, 'hollywoodschaukel': 1917, 'famosa': 1918, 'style': 1919, 'camoesdeluis': 1920, 'dormdkepmsnfkw': 1921, 'birnstinglausro': 1922, 'mehrehe': 1923, 'maenner': 1924, 'kibaseasons': 1925, 'patronus': 1926, 'donalphonso': 1927, 'dachten': 1928, 'wahrheit': 1929, 'halbem': 1930, 'strauss': 1931, 'mielke': 1932, 'liegen': 1933, 'muesste': 1934, 'mi': 1935, 'natebmccann': 1936, 'larabmccann': 1937, 'icon': 1938, 'unnormal': 1939, 'heiss': 1940, 'hornyturkgerman': 1941, 'hammer': 1942, 'juliereichwein1': 1943, 'nanunan32440900': 1944, '72': 1945, 'jungfrauen': 1946, 'paradies': 1947, 'julia': 1948, 'kloeckner': 1949, 'weigern': 1950, 'anreichen': 1951, 'archiv': 1952, 'puettmann': 1953, 'bonn': 1954, 'alt': 1955, 'erklaeren': 1956, 'sch': 1957, 'geschafft': 1958, 'kollektivistischen': 1959, 'sozialistischen': 1960, 'ungebeten1': 1961, 'pinkcrazypony': 1962, 'gottseidank': 1963, 'vate': 1964, 'ag': 1965, 'wegsaufen': 1966, 'wahlplakate': 1967, 'ressourcen': 1968, 'verschwendungen': 1969, 'haraldlaatsch': 1970, 'isseshalt': 1971, 's19': 1972, '48': 1973, '02': 1974, 'arm': 1975, 'reich': 1976, 'gesehen': 1977, 'neomagazin': 1978, 'organisationsstruktur': 1979, 'black': 1980, 'to': 1981, 'illeras': 1982, 'geilereife': 1983, 'thzoern': 1984, 'huettl': 1985, 'alicewo18626168': 1986, 'donald': 1987, 'volk': 1988, 'stuerzen': 1989, 'eusouvizzy': 1990, 'digga': 1991, 'hose': 1992, '19steffen09': 1993, 'nina2776': 1994, 'raeuber': 1995, 'hoemma': 1996, 'schokokitsune': 1997, 'kriege': 1998, 'bla': 1999, 'wars': 2000, 'hirnwixerei': 2001, 'dpolgthueringen': 2002, 'eigenen': 2003, 'moechtegern': 2004, 'heilen': 2005, 'scheinwelt': 2006, '20j': 2007, 'bremehafen': 2008, 'afrikaner': 2009, 'kontainerschiffen': 2010, 'eingeschleust': 2011, 'geldsumme': 2012, 'uniondermitte': 2013, 'cm2111': 2014, 'prienkarin': 2015, 'bekannt': 2016, 'eivorsitzende': 2017, 'homasbruns': 2018, 'feministinnen': 2019, 'kanzleramtsmann': 2020, 'andree': 2021, 'dominik': 2022, 'jfliegenschmidt': 2023, 'quazanga': 2024, 'inpfgegner': 2025, 'homoeopathie': 2026, 'befuerwo': 2027, 'tro': 2028, 'blubeiia': 2029, 'kannst': 2030, 'benutz': 2031, 'deko': 2032, 'aussieht': 2033, 'inflation': 2034, 'atomreisfleisch': 2035, 'sascha2801': 2036, 'masochisten': 2037, 'mutie': 2038, 'luege': 2039, 'pepsovic': 2040, 'aceofm': 2041, 'beef': 2042, 'chiarerra': 2043, 'unterschrift': 2044, 'groupie': 2045, 'wuensche': 2046, 'sitcom': 2047, 'maassen': 2048, 'erika': 2049, 'steinbach': 2050, 'kramp': 2051, 'karrenbauer': 2052, 'sabineosman': 2053, 'sozialdemokrat': 2054, 'aeusse': 2055, 'sozialdemokratische': 2056, 'ideen': 2057, 'flippt': 2058, 'hissy': 2059, 'fits': 2060, 'latschen': 2061, 'block': 2062, 'esraschelt': 2063, 'instant': 2064, 'uniformen': 2065, 'frueh': 2066, 'geknallt': 2067, 'badewannenrand': 2068, 'gestossen': 2069, 'autsch': 2070, 'krafts': 2071, 'werk': 2072, 'wahlomat': 2073, 'stimme': 2074, 'komplett': 2075, 'infohunter161': 2076, 'leibhaftige': 2077, 'imaginaere': 2078, 'rote': 2079, 'gespenst': 2080, 'steuersenkung': 2081, 'video': 2082, 'geeignet': 2083, 'teddybaerenwerfer': 2084, 'bahnhofsklatscher': 2085, 'asylfans': 2086, 'gutmenschen': 2087, 'denniswe': 2088, 'versteh': 2089, 'schaue': 2090, 'gern': 2091, 'rainbow': 2092, 'arbeitest': 2093, 'level': 2094, 'licher': 2095, 'up': 2096, 'fragst': 2097, 'bikini': 2098, 'ischen': 2099, 'notgeiles': 2100, 'schlefaz': 2101, 'ruiner110': 2102, 'schwultuete': 2103, 'blickt': 2104, 'csu': 2105, 'yui': 2106, 'cristate': 2107, 'werd': 2108, 'ansonsten': 2109, 'wuerd': 2110, 'zeichnen': 2111, 'ars': 2112, 'halile': 2113, 'em67': 2114, 'berichterstattung': 2115, 'putschversuch': 2116, 'venezuela': 2117, 'aegypten': 2118, 'reiben': 2119, 'christen': 2120, 'asylunterkuenften': 2121, 'netzeitung': 2122, 'dann': 2123, 'ze': 2124, 'ruemmern': 2125, 'erdloch': 2126, 'abziehen': 2127, 'pferden': 2128, 'primamuslima': 2129, 'fall': 2130, 'sogenannten': 2131, 'ehrenmordes': 2132, 'islamischen': 2133, 'milieu': 2134, 'ehrenmorde': 2135, 'neoxynx': 2136, 'gittib2': 2137, 'bohnenstroh': 2138, 'argumente': 2139, 'nazikeule': 2140, 'geschwungen': 2141, 'kayrytter': 2142, 'compactmagazin': 2143, 'mitschuldig': 2144, 'gemacht': 2145, 'mord': 2146, 'totschlag': 2147, 'hofie': 2148, 'gaest': 2149, 'vollidiot': 2150, 'natur': 2151, 'entsorgen': 2152, 'treffen': 2153, 'venezolanischer': 2154, 'opposition': 2155, 'sanktionen': 2156, 'maduro': 2157, 'pruefen': 2158, 'haufen': 2159, 's1': 2160, 'mund': 2161, 'bochum': 2162, '56': 2163, 'umgeleitet': 2164, 'vorheriger': 2165, 'toll': 2166, 'einzigen': 2167, 'relevanten': 2168, 'zuwaechsen': 2169, '43': 2170, 'links': 2171, 'vielleic': 2172, 'hypnose': 2173, 'domina': 2174, 'blondinen': 2175, 'weiber': 2176, 'hermannuli': 2177, 'helgebruhn': 2178, 'blocken': 2179, 'imageberatungen': 2180, 'totale': 2181, 'polit': 2182, 'soaps': 2183, 'circa': 2184, '620': 2185, 'arabien': 2186, 'mohamme': 2187, 'teutonis52': 2188, 'verbrecher': 2189, 'abschaum': 2190, 'bowserofs': 2191, 'captaina': 2192, 'sephyr': 2193, 'yoshi': 2194, 'fett': 2195, 'zwannabe': 2196, 'draisaitl': 2197, 'gigant': 2198, 'jungwaehler': 2199, 'gebt': 2200, 'fuehrerscheine': 2201, 'bzw': 2202, 'keinen': 2203, 'autos': 2204, 'durchaus': 2205, 'dawa': 2206, 'aufrufe': 2207, 'hoeheren': 2208, 'gebu': 2209, 'enraten': 2210, 'peachcentral': 2211, 'jaehyunctzen': 2212, 'dealo': 2213, 'ru': 2214, 'intro': 2215, 'europaeer': 2216, 'amthor': 2217, 'aggro': 2218, 'hoo': 2219, 'nichtdasgrinsel': 2220, 'runtervomradweg': 2221, 'genauso': 2222, 'wenig': 2223, 'autofahrern': 2224, 'verhalten': 2225, 'achimspiegel': 2226, 'nichts': 2227, 'zerfall': 2228, 'armut': 2229, 'unterdrueckung': 2230, 'niewiedersozialismus': 2231, 'finanzidee': 2232, 'realistisch': 2233, 'spurengas': 2234, 'helllud123': 2235, 'messerverbot': 2236, 'oeffentlichen': 2237, 'o': 2238, 'massenhaft': 2239, 'messerstechereien': 2240, 'mckstf': 2241, 'ipcc': 2242, 'berichte': 2243, 'fibel': 2244, 'nachfolgendes': 2245, 'lesen': 2246, 'trottel': 2247, 'hauptpost': 2248, 'mitten': 2249, 'innenstadt': 2250, 'beim': 2251, 'telephonieren': 2252, 'paare': 2253, 'baseballschlger': 2254, 'hd': 2255, 'faznet': 2256, 'gefaellt': 2257, 'luvtigbiddies': 2258, 'liebs': 2259, 'mature': 2260, 'trkische': 2261, 'jue': 2262, 'iss': 2263, 'verkalkten': 2264, 'senil': 2265, 'krank': 2266, 'einheitlichen': 2267, 'nagen': 2268, 'hunge': 2269, 'uch': 2270, 'kalidreadful': 2271, 'dachte': 2272, 'zuerst': 2273, 'gluehendes': 2274, 'eisen': 2275, 'justin': 2276, 'bieber': 2277, 'such': 2278, 'kackjob': 2279, 'anfuehlt': 2280, 'ehrlich': 2281, 'ministerium': 2282, 'entscheidungen': 2283, 'tref': 2284, 'vielen': 2285, 'wuessten': 2286, 'bevorsteht': 2287, 'un': 2288, 'sprung': 2289, 'ung': 2290, 'schicksal': 2291, 'kuemmern': 2292, 'cmielinski': 2293, 'wvdnord': 2294, 'verbindung': 2295, 'bringen': 2296, 'offenbar': 2297, 'pragmatische': 2298, 'we': 2299, 'stoffhof': 2300, 'sperrmuell': 2301, 'entsorgt': 2302, 'zeitgedanke': 2303, 'eidigen': 2304, 'mag': 2305, 'doktor': 2306, 'glatt': 2307, 'jemand': 2308, 'doktorarbeit': 2309, 'angeschaut': 2310, 'kosmar': 2311, 'stage': 2312, 'gebaerdendolmetscher': 2313, 'mitschrift': 2314, 'pasemann': 2315, 'san': 2316, 'afdimbundestag': 2317, 'lillauch': 2318, 'knatterknabe': 2319, 'jailbreak': 2320, 'schafe': 2321, 'gras': 2322, 'viel': 2323, 'beaengstigend': 2324, 'solche': 2325, 'vollpfosten': 2326, 'ga': 2327, 'insekt': 2328, 'wegscheuchen': 2329, 'zack': 2330, 'schickt': 2331, 'groesseren': 2332, 'kollegen': 2333, 'kim53688025': 2334, 'fingern': 2335, 'bevor': 2336, 'loecher': 2337, 'lasse': 2338, 'ewingo13': 2339, 'vemoegen': 2340, 'beharrungsvermoegen': 2341, 'saschalobo': 2342, 'tut': 2343, 'klar': 2344, 'gabs': 2345, 'duemmer': 2346, 'wicket': 2347, 'ireland': 2348, '159': 2349, 'target': 2350, '382': 2351, 'balbirnie': 2352, 'ambris': 2353, '35': 2354, 'kobo013': 2355, 'grundeis': 2356, 'oben': 2357, 'sauerstoff': 2358, 'fehlt': 2359, 'dcberlin18': 2360, 'gelungene': 2361, 'horrorvision': 2362, 'sozialistischeren': 2363, 'deutschlands': 2364, 'eingeleitete': 2365, 'selbstz': 2366, 'wzwuppe': 2367, 'wuppe': 2368, 'seilbahn': 2369, 'staerksten': 2370, 'canellabini': 2371, 'brueste': 2372, 'da': 2373, 'abzulenken': 2374, 'ntvde': 2375, 'hoeren': 2376, 'tommayereuropa': 2377, 'mittlerweile': 2378, 'erstarkten': 2379, 'blockade': 2380, 'umaufen': 2381, 'dd0105': 2382, 'dd': 2383, 'nazifrei': 2384, 'dirkerik': 2385, 'dirk': 2386, 'erik': 2387, 'meinte': 2388, 'sz': 2389, 'muenchen': 2390, 'stadt': 2391, 'ns': 2392, 'dokuzentrum': 2393, 'ausstellung': 2394, 'gesellschaft': 2395, 'polarisie': 2396, 'jud': 2397, 'meinereiner76': 2398, 'tomaten': 2399, 'abwaschen': 2400, 'trocken': 2401, 'rubbeln': 2402, 'infotweet': 2403, 'firebro': 2404, 'kult': 2405, 'klassiker': 2406, 'drruschka': 2407, 'vbohrnmena': 2408, 'chuck': 2409, 'norris': 2410, 'kam': 2411, 'fand': 2412, 'faust': 2413, 'anti': 2414, 'baby': 2415, 'pille': 2416, 'unterscheidet': 2417, 'zorn': 2418, 'hass': 2419, 'hervorgeru': 2420, 'j': 2421, 'oo7': 2422, 'weit': 2423, 'denkmal': 2424, 'aufstellen': 2425, 'denkliebernicht': 2426, 'maximalist': 2427, 'spinnt': 2428, 'verrueckter': 2429, 'spitze': 2430, 'des': 2431, 'staates': 2432, 'steht': 2433, 'ausversehen': 2434, 'fickst': 2435, 'anstatt': 2436, 'netto': 2437, 'gehst': 2438, 'milch': 2439, 'kaufen': 2440, 'batalhadaldeia': 2441, 'lebensformation': 2442, 'kuendigt': 2443, 'kriminellen': 2444, 'clans': 2445, 'kampf': 2446, 'captblwillard': 2447, 'quergedachtblog': 2448, 'dasschafi': 2449, 'migraene': 2450, 'muslim': 2451, 'brueder': 2452, 'terroristen': 2453, 'streng': 2454, 'anscheinend': 2455, 'tomk19941417': 2456, 'paulvernica': 2457, 'heikomaas': 2458, 'kennt': 2459, 'wirkung': 2460, 'yungchristus': 2461, 'rules': 2462, 'ernennt': 2463, 'hauptgegner': 2464, 'huren': 2465, 'krankenschwester': 2466, 'kleines': 2467, 'missgebu': 2468, 'lifestyle': 2469, 'ethik': 2470, 'lic': 2471, 'ang': 2472, 'bezahlst': 2473, '18': 2474, 'jaehrige': 2475, 'unterhaelt': 2476, 'erbaermlich': 2477, 'reinduerfen': 2478, 'baehhh': 2479, 'inarenner': 2480, 'niveau': 2481, '21withcon': 2482, 'newhopereece': 2483, 'thevampscon': 2484, 'corbynbesson': 2485, 'pretty': 2486, 'mlkr': 2487, 'tigerelch': 2488, 'altermananne': 2489, 'gespult': 2490, 'ansatzweise': 2491, 'filmfestivalsb': 2492, 'bln': 2493, 'filmfestivalszene': 2494, 'zetix': 2495, 'maki': 2496, 'jolosohn': 2497, 'erforde': 2498, 'groben': 2499, 'mangel': 2500, 'skill': 2501, 'nachhause': 2502, 'weg': 2503, 'solch': 2504, 'andreasandy3131': 2505, 'sachsen': 2506, 'begruesst': 2507, 'angestossene': 2508, 'debatte': 2509, 'eigene': 2510, 'nase': 2511, 'fassen': 2512, 'sa': 2513, 'rablpeter': 2514, 'genau': 2515, 'deswegen': 2516, 'oevp': 2517, 'erfolgreich': 2518, 'kapieren': 2519, 'verkauft': 2520, 'maxxxporco': 2521, 'riesen': 2522, 'toy': 2523, 's12': 2524, '32': 2525, '30': 2526, 'betrieblicher': 2527, 'steinbacherika': 2528, 'gewisse': 2529, 'fehler': 2530, 'bringt': 2531, 'haette': 2532, 'trends': 2533, 'tony': 2534, 'hawk': 2535, 'ratchet': 2536, 'clank': 2537, 'jb': 2538, 'tagedieb': 2539, 'guerillahistori': 2540, 'bmjv': 2541, 'bund': 2542, 'erzaehlt': 2543, 'karl': 2544, 'yoongisbottle': 2545, 'zurueckgebliebenen': 2546, 'mensch': 2547, 'intelligent': 2548, 'don': 2549, 't': 2550, 'hard': 2551, 'on': 2552, 'yourself': 2553, 'ralf': 2554, 'stegner': 2555, 'obacht': 2556, 'ralle': 2557, 'schlappe': 2558, 'sushisascha1': 2559, 'besonders': 2560, 'verwe': 2561, 'bare': 2562, 'objekte': 2563, 'sparen': 2564, 'lego': 2565, 'legodimensions': 2566, '71170': 2567, 'playstation': 2568, '49': 2569, 'brickmerge': 2570, 'preisvergleich': 2571, 'can65schalke': 2572, 'goet': 2573, 'tuerkisch': 2574, 'heisst': 2575, 'maxotte': 2576, 'says': 2577, 'elite': 2578, 'universitaet': 2579, 'holen': 2580, 'studieren': 2581, 'ruinie': 2582, 'chhuegel': 2583, 'manfredweber': 2584, 'uebergeschnappten': 2585, 'ueberlassen': 2586, 'eine': 2587, 'anmassung': 2588, 'westwald1974': 2589, 'milvus84': 2590, 'waldenmonk': 2591, 'britainopello5': 2592, 'chrdorner': 2593, 'hoecke': 2594, 'uboot': 2595, 'vizzionsxi': 2596, 'le': 2597, 'grand': 2598, 'hizokay': 2599, 'chikitauz': 2600, 'babosa': 2601, 'espo': 2602, 'rep': 2603, 'maschine': 2604, 'filip': 2605, 'pog': 2606, 'digitale': 2607, 'stadionzeitung': 2608, 'puenktlich': 2609, 'meister': 2610, 'finale': 2611, 'packmas': 2612, 'fcbs': 2613, 'evoli': 2614, 'zelda': 2615, 'majoras': 2616, 'mask': 2617, 'derpepo': 2618, 's04': 2619, 'schalke': 2620, 'gg': 2621, 'leitbild': 2622, 'ziff': 2623, 'amtlich': 2624, 'olgatatala': 2625, 'uebermachst': 2626, 'tauss': 2627, 'erlebe': 2628, 'dielinke': 2629, 'absenkung': 2630, 'zahlungen': 2631, 'nato': 2632, 'forde': 2633, 'neues': 2634, 'lukasinho01': 2635, 'beschaef': 2636, 'noelmgb': 2637, 'sebbe2704': 2638, 'bass': 2639, 'atmosphaere': 2640, 'entspannt': 2641, 'dicke': 2642, 'steifen': 2643, 'ha': 2644, 'bettinaschimak': 2645, 'gschamig': 2646, 'mokoffiziell': 2647, 'wesentlich': 2648, 'timeline': 2649, 'doku': 2650, 'europakrise': 2651, 'machtpoker': 2652, 'theunwantedpath': 2653, 'offen': 2654, 'skyspo': 2655, 'spiel': 2656, 'lief': 2657, 'noch': 2658, 'verfickte': 2659, 'sonstwo': 2660, 'sgdfcsp': 2661, 'vegetarisch': 2662, 'aergern': 2663, 'garamsalami': 2664, 'graf': 2665, 'persephone': 2666, 'denk': 2667, 'sibel': 2668, 'schreibt': 2669, 'abgrund': 2670, 'einladend': 2671, 'chanmachtso': 2672, 'schmerzen': 2673, 'au': 2674, 'auuuuuu': 2675, 'zerstoerung': 2676, 'pparzival': 2677, 'antideutsche': 2678, 'pseudo': 2679, 'sache': 2680, 'innerhalb': 2681, 'bewegung': 2682, 'etablie': 2683, 'klug': 2684, 'wissen': 2685, 'hat': 2686, 'erfahren': 2687}\n"
          ]
        }
      ]
    },
    {
      "cell_type": "code",
      "source": [
        "\n",
        "\n",
        "encoded_clean_text_t_stem = tok_all.texts_to_sequences(clean_text_t_stem)\n",
        "print(clean_text_t_stem[0])\n",
        "print(encoded_clean_text_t_stem[0])\n",
        "\n"
      ],
      "metadata": {
        "colab": {
          "base_uri": "https://localhost:8080/"
        },
        "id": "-P-pLah2LPxY",
        "outputId": "5668aafa-4085-4e37-cb1d-b0a8cd44796e"
      },
      "execution_count": null,
      "outputs": [
        {
          "output_type": "stream",
          "name": "stdout",
          "text": [
            " dercarsti boykottieren hoe  besser an.   \n",
            "[3863, 447, 225, 76]\n"
          ]
        }
      ]
    },
    {
      "cell_type": "code",
      "source": [
        "\n",
        "\n",
        "from keras.preprocessing import sequence\n",
        "max_length = 100\n",
        "padded_clean_text_t_stem = sequence.pad_sequences(encoded_clean_text_t_stem, maxlen=max_length, padding='pre')\n",
        "\n"
      ],
      "metadata": {
        "id": "2pMhC-TaLSmb"
      },
      "execution_count": null,
      "outputs": []
    },
    {
      "cell_type": "markdown",
      "source": [
        "# FastText Embeddings\n"
      ],
      "metadata": {
        "id": "5X5wvSctLXIh"
      }
    },
    {
      "cell_type": "code",
      "source": [
        "from google.colab import drive\n",
        "drive.mount('/content/drive')"
      ],
      "metadata": {
        "colab": {
          "base_uri": "https://localhost:8080/"
        },
        "id": "dokXCwzTBF9C",
        "outputId": "04525a0a-3e98-4927-8557-17a567d4cc92"
      },
      "execution_count": null,
      "outputs": [
        {
          "output_type": "stream",
          "name": "stdout",
          "text": [
            "Drive already mounted at /content/drive; to attempt to forcibly remount, call drive.mount(\"/content/drive\", force_remount=True).\n"
          ]
        }
      ]
    },
    {
      "cell_type": "code",
      "source": [
        "!gunzip /content/drive/MyDrive/cc.de.300.vec.gz"
      ],
      "metadata": {
        "id": "vWWgtLKGRqeg",
        "colab": {
          "base_uri": "https://localhost:8080/"
        },
        "outputId": "296ab5a1-5f67-4d8e-d108-e64bdc983599"
      },
      "execution_count": null,
      "outputs": [
        {
          "output_type": "stream",
          "name": "stdout",
          "text": [
            "gzip: /content/drive/MyDrive/cc.de.300.vec.gz: No such file or directory\n"
          ]
        }
      ]
    },
    {
      "cell_type": "code",
      "source": [
        "# https://stackoverflow.com/questions/69964788/how-to-unzip-gz-file-using-google-colab\n",
        "\n",
        "# FastText Embedding link - https://fasttext.cc/docs/en/crawl-vectors.html\n",
        "\n",
        "import os\n",
        "embeddings_index = {}\n",
        "f = open('/content/drive/MyDrive/cc.de.300.vec',encoding='utf-8',errors='ignore')\n",
        "for line in f:\n",
        "    values = line.split()\n",
        "    word = values[0]\n",
        "    coefs = np.asarray(values[1:], dtype='float32')\n",
        "    embeddings_index[word] = coefs\n",
        "f.close()\n",
        "print('Loaded %s word vectors.' % len(embeddings_index))\n",
        "\n"
      ],
      "metadata": {
        "colab": {
          "base_uri": "https://localhost:8080/"
        },
        "id": "Qoiw0Dq_BQXE",
        "outputId": "709abeef-26e0-45e1-e151-3a8a7220b69b"
      },
      "execution_count": null,
      "outputs": [
        {
          "output_type": "stream",
          "name": "stdout",
          "text": [
            "Loaded 2000000 word vectors.\n"
          ]
        }
      ]
    },
    {
      "cell_type": "code",
      "source": [
        "\n",
        "\n",
        "embedding_matrix = np.zeros((vocabulary_all+1, 300))\n",
        "for word, i in tok_all.word_index.items():\n",
        "    embedding_vector = embeddings_index.get(word)\n",
        "    if embedding_vector is not None:\n",
        "         embedding_matrix[i] = embedding_vector\n",
        "\n"
      ],
      "metadata": {
        "id": "a3edF-OKEHme"
      },
      "execution_count": null,
      "outputs": []
    },
    {
      "cell_type": "markdown",
      "source": [
        "# CNN 1 Model\n"
      ],
      "metadata": {
        "id": "d6GOcaWlTm3y"
      }
    },
    {
      "cell_type": "code",
      "source": [
        "\n",
        "\n",
        "from keras.preprocessing import sequence\n",
        "from keras.preprocessing import text\n",
        "import numpy as np\n",
        "from keras.models import Sequential\n",
        "from keras.layers import Dense, Dropout, Activation\n",
        "from keras.layers import Embedding, LSTM\n",
        "from keras.layers import Conv1D, Flatten\n",
        "from keras.preprocessing import text\n",
        "from keras.models import Sequential,Model\n",
        "from keras.layers import Dense ,Activation,MaxPool1D,Conv1D,Flatten,Dropout,Activation,Dropout,Input,Lambda,concatenate\n",
        "from keras.utils import np_utils\n",
        "from nltk.corpus import stopwords\n",
        "from nltk.tokenize import RegexpTokenizer\n",
        "from nltk.stem.porter import PorterStemmer\n",
        "import nltk\n",
        "import csv\n",
        "import pandas as pd\n",
        "\n",
        "from keras.preprocessing import text as keras_text, sequence as keras_seq\n",
        "\n"
      ],
      "metadata": {
        "id": "9SFf_1_ITmRV"
      },
      "execution_count": null,
      "outputs": []
    },
    {
      "cell_type": "code",
      "source": [
        "Embedding_Layer = Embedding(vocabulary_all+1, 300, weights=[embedding_matrix], input_length=max_length)"
      ],
      "metadata": {
        "id": "-pMKAUQqTsLu"
      },
      "execution_count": null,
      "outputs": []
    },
    {
      "cell_type": "code",
      "source": [
        "CNN1_network=Sequential([Embedding_Layer,\n",
        "                        Conv1D(128,3,activation=\"relu\",padding='same'),\n",
        "                       Dropout(0.2),\n",
        "                       MaxPool1D(2),\n",
        "                       Flatten(),\n",
        "                       Dense(64,activation=\"relu\"),\n",
        "                       Dropout(0.3),\n",
        "                       Dense(2,activation=\"sigmoid\")\n",
        "                       ])\n",
        "\n"
      ],
      "metadata": {
        "id": "FjDa1as8Ts6r"
      },
      "execution_count": null,
      "outputs": []
    },
    {
      "cell_type": "code",
      "source": [
        "CNN1_network.summary()"
      ],
      "metadata": {
        "colab": {
          "base_uri": "https://localhost:8080/"
        },
        "id": "eiFSH30GTxM9",
        "outputId": "fb0e7140-e5bb-4668-cffb-c27d81eebdfc"
      },
      "execution_count": null,
      "outputs": [
        {
          "output_type": "stream",
          "name": "stdout",
          "text": [
            "Model: \"sequential\"\n",
            "_________________________________________________________________\n",
            " Layer (type)                Output Shape              Param #   \n",
            "=================================================================\n",
            " embedding (Embedding)       (None, 100, 300)          5055000   \n",
            "                                                                 \n",
            " conv1d (Conv1D)             (None, 100, 128)          115328    \n",
            "                                                                 \n",
            " dropout (Dropout)           (None, 100, 128)          0         \n",
            "                                                                 \n",
            " max_pooling1d (MaxPooling1D  (None, 50, 128)          0         \n",
            " )                                                               \n",
            "                                                                 \n",
            " flatten (Flatten)           (None, 6400)              0         \n",
            "                                                                 \n",
            " dense (Dense)               (None, 64)                409664    \n",
            "                                                                 \n",
            " dropout_1 (Dropout)         (None, 64)                0         \n",
            "                                                                 \n",
            " dense_1 (Dense)             (None, 2)                 130       \n",
            "                                                                 \n",
            "=================================================================\n",
            "Total params: 5,580,122\n",
            "Trainable params: 5,580,122\n",
            "Non-trainable params: 0\n",
            "_________________________________________________________________\n"
          ]
        }
      ]
    },
    {
      "cell_type": "code",
      "source": [
        "# https://stackoverflow.com/questions/62707558/importerror-cannot-import-name-adam-from-keras-optimizers\n",
        "from tensorflow.keras.optimizers import Adam\n",
        "CNN1_network.compile(loss = \"binary_crossentropy\", optimizer=Adam(lr=0.00003), metrics=[\"accuracy\"])"
      ],
      "metadata": {
        "colab": {
          "base_uri": "https://localhost:8080/"
        },
        "id": "uhrug6aYT0dU",
        "outputId": "a794dcf6-494e-4f12-f2ef-fe1cbf666a5b"
      },
      "execution_count": null,
      "outputs": [
        {
          "output_type": "stream",
          "name": "stderr",
          "text": [
            "/usr/local/lib/python3.7/dist-packages/keras/optimizer_v2/adam.py:105: UserWarning: The `lr` argument is deprecated, use `learning_rate` instead.\n",
            "  super(Adam, self).__init__(name, **kwargs)\n"
          ]
        }
      ]
    },
    {
      "cell_type": "code",
      "source": [
        "from keras.utils.vis_utils import plot_model\n",
        "plot_model(CNN1_network, to_file='CNN2_model.png', show_shapes=True, show_layer_names=True)\n",
        "\n",
        "from keras.callbacks import EarlyStopping, ReduceLROnPlateau,ModelCheckpoint\n",
        "earlystopper = EarlyStopping(patience=8, verbose=1)\n",
        "\n",
        "reduce_lr = ReduceLROnPlateau(monitor='val_loss', factor=0.9,\n",
        "                              patience=2, min_lr=0.00001, verbose=1)\n",
        "\n"
      ],
      "metadata": {
        "id": "dt59qzVBT05I"
      },
      "execution_count": null,
      "outputs": []
    },
    {
      "cell_type": "code",
      "source": [
        "\n",
        "\n",
        "from keras.callbacks import EarlyStopping, ReduceLROnPlateau,ModelCheckpoint\n",
        "earlystopper = EarlyStopping(patience=8, verbose=1)\n",
        "\n",
        "reduce_lr = ReduceLROnPlateau(monitor='val_loss', factor=0.9,\n",
        "                              patience=2, min_lr=0.00001, verbose=1)\n",
        "\n"
      ],
      "metadata": {
        "id": "OcgGKGXRUYKs"
      },
      "execution_count": null,
      "outputs": []
    },
    {
      "cell_type": "markdown",
      "source": [
        "# Model Fitting or Training\n"
      ],
      "metadata": {
        "id": "ZzMJN4vKUauw"
      }
    },
    {
      "cell_type": "code",
      "source": [
        "hist = CNN1_network.fit(padded_clean_text_stem,label_twoDimension,epochs=200,batch_size=32,callbacks=[earlystopper, reduce_lr])"
      ],
      "metadata": {
        "colab": {
          "base_uri": "https://localhost:8080/"
        },
        "id": "0FdQuhx4ZP6B",
        "outputId": "ea0fecf5-64b7-4f01-f849-5dfd6cb4f7be"
      },
      "execution_count": null,
      "outputs": [
        {
          "output_type": "stream",
          "name": "stdout",
          "text": [
            "Epoch 1/200\n",
            "120/120 [==============================] - ETA: 0s - loss: 0.5260 - accuracy: 0.8903"
          ]
        },
        {
          "output_type": "stream",
          "name": "stderr",
          "text": [
            "WARNING:tensorflow:Early stopping conditioned on metric `val_loss` which is not available. Available metrics are: loss,accuracy\n",
            "WARNING:tensorflow:Learning rate reduction is conditioned on metric `val_loss` which is not available. Available metrics are: loss,accuracy,lr\n"
          ]
        },
        {
          "output_type": "stream",
          "name": "stdout",
          "text": [
            "\b\b\b\b\b\b\b\b\b\b\b\b\b\b\b\b\b\b\b\b\b\b\b\b\b\b\b\b\b\b\b\b\b\b\b\b\b\b\b\b\b\b\b\b\b\b\b\b\b\b\b\b\b\b\b\b\b\b\b\b\b\b\b\b\b\b\b\b\b\b\b\b\b\b\b\b\b\b\b\b\b\b\b\b\r120/120 [==============================] - 13s 8ms/step - loss: 0.5260 - accuracy: 0.8903 - lr: 3.0000e-05\n",
            "Epoch 2/200\n",
            "117/120 [============================>.] - ETA: 0s - loss: 0.3585 - accuracy: 0.8926"
          ]
        },
        {
          "output_type": "stream",
          "name": "stderr",
          "text": [
            "WARNING:tensorflow:Early stopping conditioned on metric `val_loss` which is not available. Available metrics are: loss,accuracy\n",
            "WARNING:tensorflow:Learning rate reduction is conditioned on metric `val_loss` which is not available. Available metrics are: loss,accuracy,lr\n"
          ]
        },
        {
          "output_type": "stream",
          "name": "stdout",
          "text": [
            "\b\b\b\b\b\b\b\b\b\b\b\b\b\b\b\b\b\b\b\b\b\b\b\b\b\b\b\b\b\b\b\b\b\b\b\b\b\b\b\b\b\b\b\b\b\b\b\b\b\b\b\b\b\b\b\b\b\b\b\b\b\b\b\b\b\b\b\b\b\b\b\b\b\b\b\b\b\b\b\b\b\b\b\b\r120/120 [==============================] - 1s 7ms/step - loss: 0.3562 - accuracy: 0.8934 - lr: 3.0000e-05\n",
            "Epoch 3/200\n",
            "119/120 [============================>.] - ETA: 0s - loss: 0.3452 - accuracy: 0.8936"
          ]
        },
        {
          "output_type": "stream",
          "name": "stderr",
          "text": [
            "WARNING:tensorflow:Early stopping conditioned on metric `val_loss` which is not available. Available metrics are: loss,accuracy\n",
            "WARNING:tensorflow:Learning rate reduction is conditioned on metric `val_loss` which is not available. Available metrics are: loss,accuracy,lr\n"
          ]
        },
        {
          "output_type": "stream",
          "name": "stdout",
          "text": [
            "\b\b\b\b\b\b\b\b\b\b\b\b\b\b\b\b\b\b\b\b\b\b\b\b\b\b\b\b\b\b\b\b\b\b\b\b\b\b\b\b\b\b\b\b\b\b\b\b\b\b\b\b\b\b\b\b\b\b\b\b\b\b\b\b\b\b\b\b\b\b\b\b\b\b\b\b\b\b\b\b\b\b\b\b\r120/120 [==============================] - 1s 7ms/step - loss: 0.3456 - accuracy: 0.8934 - lr: 3.0000e-05\n",
            "Epoch 4/200\n",
            "118/120 [============================>.] - ETA: 0s - loss: 0.3426 - accuracy: 0.8938"
          ]
        },
        {
          "output_type": "stream",
          "name": "stderr",
          "text": [
            "WARNING:tensorflow:Early stopping conditioned on metric `val_loss` which is not available. Available metrics are: loss,accuracy\n",
            "WARNING:tensorflow:Learning rate reduction is conditioned on metric `val_loss` which is not available. Available metrics are: loss,accuracy,lr\n"
          ]
        },
        {
          "output_type": "stream",
          "name": "stdout",
          "text": [
            "\b\b\b\b\b\b\b\b\b\b\b\b\b\b\b\b\b\b\b\b\b\b\b\b\b\b\b\b\b\b\b\b\b\b\b\b\b\b\b\b\b\b\b\b\b\b\b\b\b\b\b\b\b\b\b\b\b\b\b\b\b\b\b\b\b\b\b\b\b\b\b\b\b\b\b\b\b\b\b\b\b\b\b\b\r120/120 [==============================] - 1s 7ms/step - loss: 0.3432 - accuracy: 0.8934 - lr: 3.0000e-05\n",
            "Epoch 5/200\n",
            "113/120 [===========================>..] - ETA: 0s - loss: 0.3397 - accuracy: 0.8941"
          ]
        },
        {
          "output_type": "stream",
          "name": "stderr",
          "text": [
            "WARNING:tensorflow:Early stopping conditioned on metric `val_loss` which is not available. Available metrics are: loss,accuracy\n",
            "WARNING:tensorflow:Learning rate reduction is conditioned on metric `val_loss` which is not available. Available metrics are: loss,accuracy,lr\n"
          ]
        },
        {
          "output_type": "stream",
          "name": "stdout",
          "text": [
            "\b\b\b\b\b\b\b\b\b\b\b\b\b\b\b\b\b\b\b\b\b\b\b\b\b\b\b\b\b\b\b\b\b\b\b\b\b\b\b\b\b\b\b\b\b\b\b\b\b\b\b\b\b\b\b\b\b\b\b\b\b\b\b\b\b\b\b\b\b\b\b\b\b\b\b\b\b\b\b\b\b\b\b\b\r120/120 [==============================] - 1s 7ms/step - loss: 0.3407 - accuracy: 0.8934 - lr: 3.0000e-05\n",
            "Epoch 6/200\n",
            "117/120 [============================>.] - ETA: 0s - loss: 0.3374 - accuracy: 0.8929"
          ]
        },
        {
          "output_type": "stream",
          "name": "stderr",
          "text": [
            "WARNING:tensorflow:Early stopping conditioned on metric `val_loss` which is not available. Available metrics are: loss,accuracy\n",
            "WARNING:tensorflow:Learning rate reduction is conditioned on metric `val_loss` which is not available. Available metrics are: loss,accuracy,lr\n"
          ]
        },
        {
          "output_type": "stream",
          "name": "stdout",
          "text": [
            "\b\b\b\b\b\b\b\b\b\b\b\b\b\b\b\b\b\b\b\b\b\b\b\b\b\b\b\b\b\b\b\b\b\b\b\b\b\b\b\b\b\b\b\b\b\b\b\b\b\b\b\b\b\b\b\b\b\b\b\b\b\b\b\b\b\b\b\b\b\b\b\b\b\b\b\b\b\b\b\b\b\b\b\b\r120/120 [==============================] - 1s 7ms/step - loss: 0.3366 - accuracy: 0.8934 - lr: 3.0000e-05\n",
            "Epoch 7/200\n",
            "120/120 [==============================] - ETA: 0s - loss: 0.3358 - accuracy: 0.8934"
          ]
        },
        {
          "output_type": "stream",
          "name": "stderr",
          "text": [
            "WARNING:tensorflow:Early stopping conditioned on metric `val_loss` which is not available. Available metrics are: loss,accuracy\n",
            "WARNING:tensorflow:Learning rate reduction is conditioned on metric `val_loss` which is not available. Available metrics are: loss,accuracy,lr\n"
          ]
        },
        {
          "output_type": "stream",
          "name": "stdout",
          "text": [
            "\b\b\b\b\b\b\b\b\b\b\b\b\b\b\b\b\b\b\b\b\b\b\b\b\b\b\b\b\b\b\b\b\b\b\b\b\b\b\b\b\b\b\b\b\b\b\b\b\b\b\b\b\b\b\b\b\b\b\b\b\b\b\b\b\b\b\b\b\b\b\b\b\b\b\b\b\b\b\b\b\b\b\b\b\r120/120 [==============================] - 1s 7ms/step - loss: 0.3358 - accuracy: 0.8934 - lr: 3.0000e-05\n",
            "Epoch 8/200\n",
            "117/120 [============================>.] - ETA: 0s - loss: 0.3331 - accuracy: 0.8929"
          ]
        },
        {
          "output_type": "stream",
          "name": "stderr",
          "text": [
            "WARNING:tensorflow:Early stopping conditioned on metric `val_loss` which is not available. Available metrics are: loss,accuracy\n",
            "WARNING:tensorflow:Learning rate reduction is conditioned on metric `val_loss` which is not available. Available metrics are: loss,accuracy,lr\n"
          ]
        },
        {
          "output_type": "stream",
          "name": "stdout",
          "text": [
            "\b\b\b\b\b\b\b\b\b\b\b\b\b\b\b\b\b\b\b\b\b\b\b\b\b\b\b\b\b\b\b\b\b\b\b\b\b\b\b\b\b\b\b\b\b\b\b\b\b\b\b\b\b\b\b\b\b\b\b\b\b\b\b\b\b\b\b\b\b\b\b\b\b\b\b\b\b\b\b\b\b\b\b\b\r120/120 [==============================] - 1s 7ms/step - loss: 0.3318 - accuracy: 0.8934 - lr: 3.0000e-05\n",
            "Epoch 9/200\n",
            "119/120 [============================>.] - ETA: 0s - loss: 0.3295 - accuracy: 0.8931"
          ]
        },
        {
          "output_type": "stream",
          "name": "stderr",
          "text": [
            "WARNING:tensorflow:Early stopping conditioned on metric `val_loss` which is not available. Available metrics are: loss,accuracy\n",
            "WARNING:tensorflow:Learning rate reduction is conditioned on metric `val_loss` which is not available. Available metrics are: loss,accuracy,lr\n"
          ]
        },
        {
          "output_type": "stream",
          "name": "stdout",
          "text": [
            "\b\b\b\b\b\b\b\b\b\b\b\b\b\b\b\b\b\b\b\b\b\b\b\b\b\b\b\b\b\b\b\b\b\b\b\b\b\b\b\b\b\b\b\b\b\b\b\b\b\b\b\b\b\b\b\b\b\b\b\b\b\b\b\b\b\b\b\b\b\b\b\b\b\b\b\b\b\b\b\b\b\b\b\b\r120/120 [==============================] - 1s 7ms/step - loss: 0.3288 - accuracy: 0.8934 - lr: 3.0000e-05\n",
            "Epoch 10/200\n",
            "118/120 [============================>.] - ETA: 0s - loss: 0.3279 - accuracy: 0.8927"
          ]
        },
        {
          "output_type": "stream",
          "name": "stderr",
          "text": [
            "WARNING:tensorflow:Early stopping conditioned on metric `val_loss` which is not available. Available metrics are: loss,accuracy\n",
            "WARNING:tensorflow:Learning rate reduction is conditioned on metric `val_loss` which is not available. Available metrics are: loss,accuracy,lr\n"
          ]
        },
        {
          "output_type": "stream",
          "name": "stdout",
          "text": [
            "\b\b\b\b\b\b\b\b\b\b\b\b\b\b\b\b\b\b\b\b\b\b\b\b\b\b\b\b\b\b\b\b\b\b\b\b\b\b\b\b\b\b\b\b\b\b\b\b\b\b\b\b\b\b\b\b\b\b\b\b\b\b\b\b\b\b\b\b\b\b\b\b\b\b\b\b\b\b\b\b\b\b\b\b\r120/120 [==============================] - 1s 7ms/step - loss: 0.3264 - accuracy: 0.8934 - lr: 3.0000e-05\n",
            "Epoch 11/200\n",
            "117/120 [============================>.] - ETA: 0s - loss: 0.3206 - accuracy: 0.8940"
          ]
        },
        {
          "output_type": "stream",
          "name": "stderr",
          "text": [
            "WARNING:tensorflow:Early stopping conditioned on metric `val_loss` which is not available. Available metrics are: loss,accuracy\n",
            "WARNING:tensorflow:Learning rate reduction is conditioned on metric `val_loss` which is not available. Available metrics are: loss,accuracy,lr\n"
          ]
        },
        {
          "output_type": "stream",
          "name": "stdout",
          "text": [
            "\b\b\b\b\b\b\b\b\b\b\b\b\b\b\b\b\b\b\b\b\b\b\b\b\b\b\b\b\b\b\b\b\b\b\b\b\b\b\b\b\b\b\b\b\b\b\b\b\b\b\b\b\b\b\b\b\b\b\b\b\b\b\b\b\b\b\b\b\b\b\b\b\b\b\b\b\b\b\b\b\b\b\b\b\r120/120 [==============================] - 1s 7ms/step - loss: 0.3215 - accuracy: 0.8934 - lr: 3.0000e-05\n",
            "Epoch 12/200\n",
            "119/120 [============================>.] - ETA: 0s - loss: 0.3123 - accuracy: 0.8934"
          ]
        },
        {
          "output_type": "stream",
          "name": "stderr",
          "text": [
            "WARNING:tensorflow:Early stopping conditioned on metric `val_loss` which is not available. Available metrics are: loss,accuracy\n",
            "WARNING:tensorflow:Learning rate reduction is conditioned on metric `val_loss` which is not available. Available metrics are: loss,accuracy,lr\n"
          ]
        },
        {
          "output_type": "stream",
          "name": "stdout",
          "text": [
            "\b\b\b\b\b\b\b\b\b\b\b\b\b\b\b\b\b\b\b\b\b\b\b\b\b\b\b\b\b\b\b\b\b\b\b\b\b\b\b\b\b\b\b\b\b\b\b\b\b\b\b\b\b\b\b\b\b\b\b\b\b\b\b\b\b\b\b\b\b\b\b\b\b\b\b\b\b\b\b\b\b\b\b\b\r120/120 [==============================] - 1s 7ms/step - loss: 0.3122 - accuracy: 0.8934 - lr: 3.0000e-05\n",
            "Epoch 13/200\n",
            "118/120 [============================>.] - ETA: 0s - loss: 0.3034 - accuracy: 0.8933"
          ]
        },
        {
          "output_type": "stream",
          "name": "stderr",
          "text": [
            "WARNING:tensorflow:Early stopping conditioned on metric `val_loss` which is not available. Available metrics are: loss,accuracy\n",
            "WARNING:tensorflow:Learning rate reduction is conditioned on metric `val_loss` which is not available. Available metrics are: loss,accuracy,lr\n"
          ]
        },
        {
          "output_type": "stream",
          "name": "stdout",
          "text": [
            "\b\b\b\b\b\b\b\b\b\b\b\b\b\b\b\b\b\b\b\b\b\b\b\b\b\b\b\b\b\b\b\b\b\b\b\b\b\b\b\b\b\b\b\b\b\b\b\b\b\b\b\b\b\b\b\b\b\b\b\b\b\b\b\b\b\b\b\b\b\b\b\b\b\b\b\b\b\b\b\b\b\b\b\b\r120/120 [==============================] - 1s 7ms/step - loss: 0.3030 - accuracy: 0.8934 - lr: 3.0000e-05\n",
            "Epoch 14/200\n",
            "118/120 [============================>.] - ETA: 0s - loss: 0.2922 - accuracy: 0.8941"
          ]
        },
        {
          "output_type": "stream",
          "name": "stderr",
          "text": [
            "WARNING:tensorflow:Early stopping conditioned on metric `val_loss` which is not available. Available metrics are: loss,accuracy\n",
            "WARNING:tensorflow:Learning rate reduction is conditioned on metric `val_loss` which is not available. Available metrics are: loss,accuracy,lr\n"
          ]
        },
        {
          "output_type": "stream",
          "name": "stdout",
          "text": [
            "\b\b\b\b\b\b\b\b\b\b\b\b\b\b\b\b\b\b\b\b\b\b\b\b\b\b\b\b\b\b\b\b\b\b\b\b\b\b\b\b\b\b\b\b\b\b\b\b\b\b\b\b\b\b\b\b\b\b\b\b\b\b\b\b\b\b\b\b\b\b\b\b\b\b\b\b\b\b\b\b\b\b\b\b\r120/120 [==============================] - 1s 7ms/step - loss: 0.2932 - accuracy: 0.8934 - lr: 3.0000e-05\n",
            "Epoch 15/200\n",
            "113/120 [===========================>..] - ETA: 0s - loss: 0.2773 - accuracy: 0.8938"
          ]
        },
        {
          "output_type": "stream",
          "name": "stderr",
          "text": [
            "WARNING:tensorflow:Early stopping conditioned on metric `val_loss` which is not available. Available metrics are: loss,accuracy\n",
            "WARNING:tensorflow:Learning rate reduction is conditioned on metric `val_loss` which is not available. Available metrics are: loss,accuracy,lr\n"
          ]
        },
        {
          "output_type": "stream",
          "name": "stdout",
          "text": [
            "\b\b\b\b\b\b\b\b\b\b\b\b\b\b\b\b\b\b\b\b\b\b\b\b\b\b\b\b\b\b\b\b\b\b\b\b\b\b\b\b\b\b\b\b\b\b\b\b\b\b\b\b\b\b\b\b\b\b\b\b\b\b\b\b\b\b\b\b\b\b\b\b\b\b\b\b\b\b\b\b\b\b\b\b\r120/120 [==============================] - 1s 7ms/step - loss: 0.2773 - accuracy: 0.8934 - lr: 3.0000e-05\n",
            "Epoch 16/200\n",
            "120/120 [==============================] - ETA: 0s - loss: 0.2623 - accuracy: 0.8940"
          ]
        },
        {
          "output_type": "stream",
          "name": "stderr",
          "text": [
            "WARNING:tensorflow:Early stopping conditioned on metric `val_loss` which is not available. Available metrics are: loss,accuracy\n",
            "WARNING:tensorflow:Learning rate reduction is conditioned on metric `val_loss` which is not available. Available metrics are: loss,accuracy,lr\n"
          ]
        },
        {
          "output_type": "stream",
          "name": "stdout",
          "text": [
            "\b\b\b\b\b\b\b\b\b\b\b\b\b\b\b\b\b\b\b\b\b\b\b\b\b\b\b\b\b\b\b\b\b\b\b\b\b\b\b\b\b\b\b\b\b\b\b\b\b\b\b\b\b\b\b\b\b\b\b\b\b\b\b\b\b\b\b\b\b\b\b\b\b\b\b\b\b\b\b\b\b\b\b\b\r120/120 [==============================] - 1s 7ms/step - loss: 0.2623 - accuracy: 0.8940 - lr: 3.0000e-05\n",
            "Epoch 17/200\n",
            "118/120 [============================>.] - ETA: 0s - loss: 0.2439 - accuracy: 0.8957"
          ]
        },
        {
          "output_type": "stream",
          "name": "stderr",
          "text": [
            "WARNING:tensorflow:Early stopping conditioned on metric `val_loss` which is not available. Available metrics are: loss,accuracy\n",
            "WARNING:tensorflow:Learning rate reduction is conditioned on metric `val_loss` which is not available. Available metrics are: loss,accuracy,lr\n"
          ]
        },
        {
          "output_type": "stream",
          "name": "stdout",
          "text": [
            "\b\b\b\b\b\b\b\b\b\b\b\b\b\b\b\b\b\b\b\b\b\b\b\b\b\b\b\b\b\b\b\b\b\b\b\b\b\b\b\b\b\b\b\b\b\b\b\b\b\b\b\b\b\b\b\b\b\b\b\b\b\b\b\b\b\b\b\b\b\b\b\b\b\b\b\b\b\b\b\b\b\b\b\b\r120/120 [==============================] - 1s 7ms/step - loss: 0.2449 - accuracy: 0.8950 - lr: 3.0000e-05\n",
            "Epoch 18/200\n",
            "119/120 [============================>.] - ETA: 0s - loss: 0.2214 - accuracy: 0.9018"
          ]
        },
        {
          "output_type": "stream",
          "name": "stderr",
          "text": [
            "WARNING:tensorflow:Early stopping conditioned on metric `val_loss` which is not available. Available metrics are: loss,accuracy\n",
            "WARNING:tensorflow:Learning rate reduction is conditioned on metric `val_loss` which is not available. Available metrics are: loss,accuracy,lr\n"
          ]
        },
        {
          "output_type": "stream",
          "name": "stdout",
          "text": [
            "\b\b\b\b\b\b\b\b\b\b\b\b\b\b\b\b\b\b\b\b\b\b\b\b\b\b\b\b\b\b\b\b\b\b\b\b\b\b\b\b\b\b\b\b\b\b\b\b\b\b\b\b\b\b\b\b\b\b\b\b\b\b\b\b\b\b\b\b\b\b\b\b\b\b\b\b\b\b\b\b\b\b\b\b\r120/120 [==============================] - 1s 7ms/step - loss: 0.2216 - accuracy: 0.9018 - lr: 3.0000e-05\n",
            "Epoch 19/200\n",
            "118/120 [============================>.] - ETA: 0s - loss: 0.1980 - accuracy: 0.9121"
          ]
        },
        {
          "output_type": "stream",
          "name": "stderr",
          "text": [
            "WARNING:tensorflow:Early stopping conditioned on metric `val_loss` which is not available. Available metrics are: loss,accuracy\n",
            "WARNING:tensorflow:Learning rate reduction is conditioned on metric `val_loss` which is not available. Available metrics are: loss,accuracy,lr\n"
          ]
        },
        {
          "output_type": "stream",
          "name": "stdout",
          "text": [
            "\b\b\b\b\b\b\b\b\b\b\b\b\b\b\b\b\b\b\b\b\b\b\b\b\b\b\b\b\b\b\b\b\b\b\b\b\b\b\b\b\b\b\b\b\b\b\b\b\b\b\b\b\b\b\b\b\b\b\b\b\b\b\b\b\b\b\b\b\b\b\b\b\b\b\b\b\b\b\b\b\b\b\b\b\r120/120 [==============================] - 1s 7ms/step - loss: 0.1979 - accuracy: 0.9123 - lr: 3.0000e-05\n",
            "Epoch 20/200\n",
            "120/120 [==============================] - ETA: 0s - loss: 0.1716 - accuracy: 0.9288"
          ]
        },
        {
          "output_type": "stream",
          "name": "stderr",
          "text": [
            "WARNING:tensorflow:Early stopping conditioned on metric `val_loss` which is not available. Available metrics are: loss,accuracy\n",
            "WARNING:tensorflow:Learning rate reduction is conditioned on metric `val_loss` which is not available. Available metrics are: loss,accuracy,lr\n"
          ]
        },
        {
          "output_type": "stream",
          "name": "stdout",
          "text": [
            "\b\b\b\b\b\b\b\b\b\b\b\b\b\b\b\b\b\b\b\b\b\b\b\b\b\b\b\b\b\b\b\b\b\b\b\b\b\b\b\b\b\b\b\b\b\b\b\b\b\b\b\b\b\b\b\b\b\b\b\b\b\b\b\b\b\b\b\b\b\b\b\b\b\b\b\b\b\b\b\b\b\b\b\b\r120/120 [==============================] - 1s 7ms/step - loss: 0.1716 - accuracy: 0.9288 - lr: 3.0000e-05\n",
            "Epoch 21/200\n",
            "117/120 [============================>.] - ETA: 0s - loss: 0.1495 - accuracy: 0.9450"
          ]
        },
        {
          "output_type": "stream",
          "name": "stderr",
          "text": [
            "WARNING:tensorflow:Early stopping conditioned on metric `val_loss` which is not available. Available metrics are: loss,accuracy\n",
            "WARNING:tensorflow:Learning rate reduction is conditioned on metric `val_loss` which is not available. Available metrics are: loss,accuracy,lr\n"
          ]
        },
        {
          "output_type": "stream",
          "name": "stdout",
          "text": [
            "\b\b\b\b\b\b\b\b\b\b\b\b\b\b\b\b\b\b\b\b\b\b\b\b\b\b\b\b\b\b\b\b\b\b\b\b\b\b\b\b\b\b\b\b\b\b\b\b\b\b\b\b\b\b\b\b\b\b\b\b\b\b\b\b\b\b\b\b\b\b\b\b\b\b\b\b\b\b\b\b\b\b\b\b\r120/120 [==============================] - 1s 7ms/step - loss: 0.1501 - accuracy: 0.9440 - lr: 3.0000e-05\n",
            "Epoch 22/200\n",
            "117/120 [============================>.] - ETA: 0s - loss: 0.1307 - accuracy: 0.9559"
          ]
        },
        {
          "output_type": "stream",
          "name": "stderr",
          "text": [
            "WARNING:tensorflow:Early stopping conditioned on metric `val_loss` which is not available. Available metrics are: loss,accuracy\n",
            "WARNING:tensorflow:Learning rate reduction is conditioned on metric `val_loss` which is not available. Available metrics are: loss,accuracy,lr\n"
          ]
        },
        {
          "output_type": "stream",
          "name": "stdout",
          "text": [
            "\b\b\b\b\b\b\b\b\b\b\b\b\b\b\b\b\b\b\b\b\b\b\b\b\b\b\b\b\b\b\b\b\b\b\b\b\b\b\b\b\b\b\b\b\b\b\b\b\b\b\b\b\b\b\b\b\b\b\b\b\b\b\b\b\b\b\b\b\b\b\b\b\b\b\b\b\b\b\b\b\b\b\b\b\r120/120 [==============================] - 1s 7ms/step - loss: 0.1301 - accuracy: 0.9563 - lr: 3.0000e-05\n",
            "Epoch 23/200\n",
            "117/120 [============================>.] - ETA: 0s - loss: 0.1107 - accuracy: 0.9653"
          ]
        },
        {
          "output_type": "stream",
          "name": "stderr",
          "text": [
            "WARNING:tensorflow:Early stopping conditioned on metric `val_loss` which is not available. Available metrics are: loss,accuracy\n",
            "WARNING:tensorflow:Learning rate reduction is conditioned on metric `val_loss` which is not available. Available metrics are: loss,accuracy,lr\n"
          ]
        },
        {
          "output_type": "stream",
          "name": "stdout",
          "text": [
            "\b\b\b\b\b\b\b\b\b\b\b\b\b\b\b\b\b\b\b\b\b\b\b\b\b\b\b\b\b\b\b\b\b\b\b\b\b\b\b\b\b\b\b\b\b\b\b\b\b\b\b\b\b\b\b\b\b\b\b\b\b\b\b\b\b\b\b\b\b\b\b\b\b\b\b\b\b\b\b\b\b\b\b\b\r120/120 [==============================] - 1s 7ms/step - loss: 0.1100 - accuracy: 0.9657 - lr: 3.0000e-05\n",
            "Epoch 24/200\n",
            "115/120 [===========================>..] - ETA: 0s - loss: 0.0951 - accuracy: 0.9720"
          ]
        },
        {
          "output_type": "stream",
          "name": "stderr",
          "text": [
            "WARNING:tensorflow:Early stopping conditioned on metric `val_loss` which is not available. Available metrics are: loss,accuracy\n",
            "WARNING:tensorflow:Learning rate reduction is conditioned on metric `val_loss` which is not available. Available metrics are: loss,accuracy,lr\n"
          ]
        },
        {
          "output_type": "stream",
          "name": "stdout",
          "text": [
            "\b\b\b\b\b\b\b\b\b\b\b\b\b\b\b\b\b\b\b\b\b\b\b\b\b\b\b\b\b\b\b\b\b\b\b\b\b\b\b\b\b\b\b\b\b\b\b\b\b\b\b\b\b\b\b\b\b\b\b\b\b\b\b\b\b\b\b\b\b\b\b\b\b\b\b\b\b\b\b\b\b\b\b\b\r120/120 [==============================] - 1s 7ms/step - loss: 0.0962 - accuracy: 0.9720 - lr: 3.0000e-05\n",
            "Epoch 25/200\n",
            "119/120 [============================>.] - ETA: 0s - loss: 0.0831 - accuracy: 0.9795"
          ]
        },
        {
          "output_type": "stream",
          "name": "stderr",
          "text": [
            "WARNING:tensorflow:Early stopping conditioned on metric `val_loss` which is not available. Available metrics are: loss,accuracy\n",
            "WARNING:tensorflow:Learning rate reduction is conditioned on metric `val_loss` which is not available. Available metrics are: loss,accuracy,lr\n"
          ]
        },
        {
          "output_type": "stream",
          "name": "stdout",
          "text": [
            "\b\b\b\b\b\b\b\b\b\b\b\b\b\b\b\b\b\b\b\b\b\b\b\b\b\b\b\b\b\b\b\b\b\b\b\b\b\b\b\b\b\b\b\b\b\b\b\b\b\b\b\b\b\b\b\b\b\b\b\b\b\b\b\b\b\b\b\b\b\b\b\b\b\b\b\b\b\b\b\b\b\b\b\b\r120/120 [==============================] - 1s 7ms/step - loss: 0.0829 - accuracy: 0.9796 - lr: 3.0000e-05\n",
            "Epoch 26/200\n",
            "118/120 [============================>.] - ETA: 0s - loss: 0.0728 - accuracy: 0.9817"
          ]
        },
        {
          "output_type": "stream",
          "name": "stderr",
          "text": [
            "WARNING:tensorflow:Early stopping conditioned on metric `val_loss` which is not available. Available metrics are: loss,accuracy\n",
            "WARNING:tensorflow:Learning rate reduction is conditioned on metric `val_loss` which is not available. Available metrics are: loss,accuracy,lr\n"
          ]
        },
        {
          "output_type": "stream",
          "name": "stdout",
          "text": [
            "\b\b\b\b\b\b\b\b\b\b\b\b\b\b\b\b\b\b\b\b\b\b\b\b\b\b\b\b\b\b\b\b\b\b\b\b\b\b\b\b\b\b\b\b\b\b\b\b\b\b\b\b\b\b\b\b\b\b\b\b\b\b\b\b\b\b\b\b\b\b\b\b\b\b\b\b\b\b\b\b\b\b\b\b\r120/120 [==============================] - 1s 7ms/step - loss: 0.0726 - accuracy: 0.9819 - lr: 3.0000e-05\n",
            "Epoch 27/200\n",
            "118/120 [============================>.] - ETA: 0s - loss: 0.0629 - accuracy: 0.9852"
          ]
        },
        {
          "output_type": "stream",
          "name": "stderr",
          "text": [
            "WARNING:tensorflow:Early stopping conditioned on metric `val_loss` which is not available. Available metrics are: loss,accuracy\n",
            "WARNING:tensorflow:Learning rate reduction is conditioned on metric `val_loss` which is not available. Available metrics are: loss,accuracy,lr\n"
          ]
        },
        {
          "output_type": "stream",
          "name": "stdout",
          "text": [
            "\b\b\b\b\b\b\b\b\b\b\b\b\b\b\b\b\b\b\b\b\b\b\b\b\b\b\b\b\b\b\b\b\b\b\b\b\b\b\b\b\b\b\b\b\b\b\b\b\b\b\b\b\b\b\b\b\b\b\b\b\b\b\b\b\b\b\b\b\b\b\b\b\b\b\b\b\b\b\b\b\b\b\b\b\r120/120 [==============================] - 1s 7ms/step - loss: 0.0627 - accuracy: 0.9853 - lr: 3.0000e-05\n",
            "Epoch 28/200\n",
            "118/120 [============================>.] - ETA: 0s - loss: 0.0545 - accuracy: 0.9868"
          ]
        },
        {
          "output_type": "stream",
          "name": "stderr",
          "text": [
            "WARNING:tensorflow:Early stopping conditioned on metric `val_loss` which is not available. Available metrics are: loss,accuracy\n",
            "WARNING:tensorflow:Learning rate reduction is conditioned on metric `val_loss` which is not available. Available metrics are: loss,accuracy,lr\n"
          ]
        },
        {
          "output_type": "stream",
          "name": "stdout",
          "text": [
            "\b\b\b\b\b\b\b\b\b\b\b\b\b\b\b\b\b\b\b\b\b\b\b\b\b\b\b\b\b\b\b\b\b\b\b\b\b\b\b\b\b\b\b\b\b\b\b\b\b\b\b\b\b\b\b\b\b\b\b\b\b\b\b\b\b\b\b\b\b\b\b\b\b\b\b\b\b\b\b\b\b\b\b\b\r120/120 [==============================] - 1s 7ms/step - loss: 0.0543 - accuracy: 0.9869 - lr: 3.0000e-05\n",
            "Epoch 29/200\n",
            "117/120 [============================>.] - ETA: 0s - loss: 0.0462 - accuracy: 0.9899"
          ]
        },
        {
          "output_type": "stream",
          "name": "stderr",
          "text": [
            "WARNING:tensorflow:Early stopping conditioned on metric `val_loss` which is not available. Available metrics are: loss,accuracy\n",
            "WARNING:tensorflow:Learning rate reduction is conditioned on metric `val_loss` which is not available. Available metrics are: loss,accuracy,lr\n"
          ]
        },
        {
          "output_type": "stream",
          "name": "stdout",
          "text": [
            "\b\b\b\b\b\b\b\b\b\b\b\b\b\b\b\b\b\b\b\b\b\b\b\b\b\b\b\b\b\b\b\b\b\b\b\b\b\b\b\b\b\b\b\b\b\b\b\b\b\b\b\b\b\b\b\b\b\b\b\b\b\b\b\b\b\b\b\b\b\b\b\b\b\b\b\b\b\b\b\b\b\b\b\b\r120/120 [==============================] - 1s 7ms/step - loss: 0.0459 - accuracy: 0.9900 - lr: 3.0000e-05\n",
            "Epoch 30/200\n",
            "118/120 [============================>.] - ETA: 0s - loss: 0.0425 - accuracy: 0.9913"
          ]
        },
        {
          "output_type": "stream",
          "name": "stderr",
          "text": [
            "WARNING:tensorflow:Early stopping conditioned on metric `val_loss` which is not available. Available metrics are: loss,accuracy\n",
            "WARNING:tensorflow:Learning rate reduction is conditioned on metric `val_loss` which is not available. Available metrics are: loss,accuracy,lr\n"
          ]
        },
        {
          "output_type": "stream",
          "name": "stdout",
          "text": [
            "\b\b\b\b\b\b\b\b\b\b\b\b\b\b\b\b\b\b\b\b\b\b\b\b\b\b\b\b\b\b\b\b\b\b\b\b\b\b\b\b\b\b\b\b\b\b\b\b\b\b\b\b\b\b\b\b\b\b\b\b\b\b\b\b\b\b\b\b\b\b\b\b\b\b\b\b\b\b\b\b\b\b\b\b\r120/120 [==============================] - 1s 7ms/step - loss: 0.0423 - accuracy: 0.9914 - lr: 3.0000e-05\n",
            "Epoch 31/200\n",
            "114/120 [===========================>..] - ETA: 0s - loss: 0.0366 - accuracy: 0.9940"
          ]
        },
        {
          "output_type": "stream",
          "name": "stderr",
          "text": [
            "WARNING:tensorflow:Early stopping conditioned on metric `val_loss` which is not available. Available metrics are: loss,accuracy\n",
            "WARNING:tensorflow:Learning rate reduction is conditioned on metric `val_loss` which is not available. Available metrics are: loss,accuracy,lr\n"
          ]
        },
        {
          "output_type": "stream",
          "name": "stdout",
          "text": [
            "\b\b\b\b\b\b\b\b\b\b\b\b\b\b\b\b\b\b\b\b\b\b\b\b\b\b\b\b\b\b\b\b\b\b\b\b\b\b\b\b\b\b\b\b\b\b\b\b\b\b\b\b\b\b\b\b\b\b\b\b\b\b\b\b\b\b\b\b\b\b\b\b\b\b\b\b\b\b\b\b\b\b\b\b\r120/120 [==============================] - 1s 7ms/step - loss: 0.0368 - accuracy: 0.9940 - lr: 3.0000e-05\n",
            "Epoch 32/200\n",
            "117/120 [============================>.] - ETA: 0s - loss: 0.0323 - accuracy: 0.9947"
          ]
        },
        {
          "output_type": "stream",
          "name": "stderr",
          "text": [
            "WARNING:tensorflow:Early stopping conditioned on metric `val_loss` which is not available. Available metrics are: loss,accuracy\n",
            "WARNING:tensorflow:Learning rate reduction is conditioned on metric `val_loss` which is not available. Available metrics are: loss,accuracy,lr\n"
          ]
        },
        {
          "output_type": "stream",
          "name": "stdout",
          "text": [
            "\b\b\b\b\b\b\b\b\b\b\b\b\b\b\b\b\b\b\b\b\b\b\b\b\b\b\b\b\b\b\b\b\b\b\b\b\b\b\b\b\b\b\b\b\b\b\b\b\b\b\b\b\b\b\b\b\b\b\b\b\b\b\b\b\b\b\b\b\b\b\b\b\b\b\b\b\b\b\b\b\b\b\b\b\r120/120 [==============================] - 1s 7ms/step - loss: 0.0322 - accuracy: 0.9948 - lr: 3.0000e-05\n",
            "Epoch 33/200\n",
            "113/120 [===========================>..] - ETA: 0s - loss: 0.0304 - accuracy: 0.9942"
          ]
        },
        {
          "output_type": "stream",
          "name": "stderr",
          "text": [
            "WARNING:tensorflow:Early stopping conditioned on metric `val_loss` which is not available. Available metrics are: loss,accuracy\n",
            "WARNING:tensorflow:Learning rate reduction is conditioned on metric `val_loss` which is not available. Available metrics are: loss,accuracy,lr\n"
          ]
        },
        {
          "output_type": "stream",
          "name": "stdout",
          "text": [
            "\b\b\b\b\b\b\b\b\b\b\b\b\b\b\b\b\b\b\b\b\b\b\b\b\b\b\b\b\b\b\b\b\b\b\b\b\b\b\b\b\b\b\b\b\b\b\b\b\b\b\b\b\b\b\b\b\b\b\b\b\b\b\b\b\b\b\b\b\b\b\b\b\b\b\b\b\b\b\b\b\b\b\b\b\r120/120 [==============================] - 1s 7ms/step - loss: 0.0304 - accuracy: 0.9940 - lr: 3.0000e-05\n",
            "Epoch 34/200\n",
            "118/120 [============================>.] - ETA: 0s - loss: 0.0281 - accuracy: 0.9952"
          ]
        },
        {
          "output_type": "stream",
          "name": "stderr",
          "text": [
            "WARNING:tensorflow:Early stopping conditioned on metric `val_loss` which is not available. Available metrics are: loss,accuracy\n",
            "WARNING:tensorflow:Learning rate reduction is conditioned on metric `val_loss` which is not available. Available metrics are: loss,accuracy,lr\n"
          ]
        },
        {
          "output_type": "stream",
          "name": "stdout",
          "text": [
            "\b\b\b\b\b\b\b\b\b\b\b\b\b\b\b\b\b\b\b\b\b\b\b\b\b\b\b\b\b\b\b\b\b\b\b\b\b\b\b\b\b\b\b\b\b\b\b\b\b\b\b\b\b\b\b\b\b\b\b\b\b\b\b\b\b\b\b\b\b\b\b\b\b\b\b\b\b\b\b\b\b\b\b\b\r120/120 [==============================] - 1s 7ms/step - loss: 0.0280 - accuracy: 0.9953 - lr: 3.0000e-05\n",
            "Epoch 35/200\n",
            "117/120 [============================>.] - ETA: 0s - loss: 0.0260 - accuracy: 0.9960"
          ]
        },
        {
          "output_type": "stream",
          "name": "stderr",
          "text": [
            "WARNING:tensorflow:Early stopping conditioned on metric `val_loss` which is not available. Available metrics are: loss,accuracy\n",
            "WARNING:tensorflow:Learning rate reduction is conditioned on metric `val_loss` which is not available. Available metrics are: loss,accuracy,lr\n"
          ]
        },
        {
          "output_type": "stream",
          "name": "stdout",
          "text": [
            "\b\b\b\b\b\b\b\b\b\b\b\b\b\b\b\b\b\b\b\b\b\b\b\b\b\b\b\b\b\b\b\b\b\b\b\b\b\b\b\b\b\b\b\b\b\b\b\b\b\b\b\b\b\b\b\b\b\b\b\b\b\b\b\b\b\b\b\b\b\b\b\b\b\b\b\b\b\b\b\b\b\b\b\b\r120/120 [==============================] - 1s 7ms/step - loss: 0.0258 - accuracy: 0.9961 - lr: 3.0000e-05\n",
            "Epoch 36/200\n",
            "119/120 [============================>.] - ETA: 0s - loss: 0.0224 - accuracy: 0.9953"
          ]
        },
        {
          "output_type": "stream",
          "name": "stderr",
          "text": [
            "WARNING:tensorflow:Early stopping conditioned on metric `val_loss` which is not available. Available metrics are: loss,accuracy\n",
            "WARNING:tensorflow:Learning rate reduction is conditioned on metric `val_loss` which is not available. Available metrics are: loss,accuracy,lr\n"
          ]
        },
        {
          "output_type": "stream",
          "name": "stdout",
          "text": [
            "\b\b\b\b\b\b\b\b\b\b\b\b\b\b\b\b\b\b\b\b\b\b\b\b\b\b\b\b\b\b\b\b\b\b\b\b\b\b\b\b\b\b\b\b\b\b\b\b\b\b\b\b\b\b\b\b\b\b\b\b\b\b\b\b\b\b\b\b\b\b\b\b\b\b\b\b\b\b\b\b\b\b\b\b\r120/120 [==============================] - 1s 7ms/step - loss: 0.0224 - accuracy: 0.9953 - lr: 3.0000e-05\n",
            "Epoch 37/200\n",
            "119/120 [============================>.] - ETA: 0s - loss: 0.0207 - accuracy: 0.9963"
          ]
        },
        {
          "output_type": "stream",
          "name": "stderr",
          "text": [
            "WARNING:tensorflow:Early stopping conditioned on metric `val_loss` which is not available. Available metrics are: loss,accuracy\n",
            "WARNING:tensorflow:Learning rate reduction is conditioned on metric `val_loss` which is not available. Available metrics are: loss,accuracy,lr\n"
          ]
        },
        {
          "output_type": "stream",
          "name": "stdout",
          "text": [
            "\b\b\b\b\b\b\b\b\b\b\b\b\b\b\b\b\b\b\b\b\b\b\b\b\b\b\b\b\b\b\b\b\b\b\b\b\b\b\b\b\b\b\b\b\b\b\b\b\b\b\b\b\b\b\b\b\b\b\b\b\b\b\b\b\b\b\b\b\b\b\b\b\b\b\b\b\b\b\b\b\b\b\b\b\r120/120 [==============================] - 1s 7ms/step - loss: 0.0207 - accuracy: 0.9963 - lr: 3.0000e-05\n",
            "Epoch 38/200\n",
            "117/120 [============================>.] - ETA: 0s - loss: 0.0180 - accuracy: 0.9971"
          ]
        },
        {
          "output_type": "stream",
          "name": "stderr",
          "text": [
            "WARNING:tensorflow:Early stopping conditioned on metric `val_loss` which is not available. Available metrics are: loss,accuracy\n",
            "WARNING:tensorflow:Learning rate reduction is conditioned on metric `val_loss` which is not available. Available metrics are: loss,accuracy,lr\n"
          ]
        },
        {
          "output_type": "stream",
          "name": "stdout",
          "text": [
            "\b\b\b\b\b\b\b\b\b\b\b\b\b\b\b\b\b\b\b\b\b\b\b\b\b\b\b\b\b\b\b\b\b\b\b\b\b\b\b\b\b\b\b\b\b\b\b\b\b\b\b\b\b\b\b\b\b\b\b\b\b\b\b\b\b\b\b\b\b\b\b\b\b\b\b\b\b\b\b\b\b\b\b\b\r120/120 [==============================] - 1s 7ms/step - loss: 0.0178 - accuracy: 0.9971 - lr: 3.0000e-05\n",
            "Epoch 39/200\n",
            "119/120 [============================>.] - ETA: 0s - loss: 0.0161 - accuracy: 0.9974"
          ]
        },
        {
          "output_type": "stream",
          "name": "stderr",
          "text": [
            "WARNING:tensorflow:Early stopping conditioned on metric `val_loss` which is not available. Available metrics are: loss,accuracy\n",
            "WARNING:tensorflow:Learning rate reduction is conditioned on metric `val_loss` which is not available. Available metrics are: loss,accuracy,lr\n"
          ]
        },
        {
          "output_type": "stream",
          "name": "stdout",
          "text": [
            "\b\b\b\b\b\b\b\b\b\b\b\b\b\b\b\b\b\b\b\b\b\b\b\b\b\b\b\b\b\b\b\b\b\b\b\b\b\b\b\b\b\b\b\b\b\b\b\b\b\b\b\b\b\b\b\b\b\b\b\b\b\b\b\b\b\b\b\b\b\b\b\b\b\b\b\b\b\b\b\b\b\b\b\b\r120/120 [==============================] - 1s 7ms/step - loss: 0.0160 - accuracy: 0.9974 - lr: 3.0000e-05\n",
            "Epoch 40/200\n",
            "118/120 [============================>.] - ETA: 0s - loss: 0.0135 - accuracy: 0.9984"
          ]
        },
        {
          "output_type": "stream",
          "name": "stderr",
          "text": [
            "WARNING:tensorflow:Early stopping conditioned on metric `val_loss` which is not available. Available metrics are: loss,accuracy\n",
            "WARNING:tensorflow:Learning rate reduction is conditioned on metric `val_loss` which is not available. Available metrics are: loss,accuracy,lr\n"
          ]
        },
        {
          "output_type": "stream",
          "name": "stdout",
          "text": [
            "\b\b\b\b\b\b\b\b\b\b\b\b\b\b\b\b\b\b\b\b\b\b\b\b\b\b\b\b\b\b\b\b\b\b\b\b\b\b\b\b\b\b\b\b\b\b\b\b\b\b\b\b\b\b\b\b\b\b\b\b\b\b\b\b\b\b\b\b\b\b\b\b\b\b\b\b\b\b\b\b\b\b\b\b\r120/120 [==============================] - 1s 7ms/step - loss: 0.0138 - accuracy: 0.9982 - lr: 3.0000e-05\n",
            "Epoch 41/200\n",
            "116/120 [============================>.] - ETA: 0s - loss: 0.0150 - accuracy: 0.9978"
          ]
        },
        {
          "output_type": "stream",
          "name": "stderr",
          "text": [
            "WARNING:tensorflow:Early stopping conditioned on metric `val_loss` which is not available. Available metrics are: loss,accuracy\n",
            "WARNING:tensorflow:Learning rate reduction is conditioned on metric `val_loss` which is not available. Available metrics are: loss,accuracy,lr\n"
          ]
        },
        {
          "output_type": "stream",
          "name": "stdout",
          "text": [
            "\b\b\b\b\b\b\b\b\b\b\b\b\b\b\b\b\b\b\b\b\b\b\b\b\b\b\b\b\b\b\b\b\b\b\b\b\b\b\b\b\b\b\b\b\b\b\b\b\b\b\b\b\b\b\b\b\b\b\b\b\b\b\b\b\b\b\b\b\b\b\b\b\b\b\b\b\b\b\b\b\b\b\b\b\r120/120 [==============================] - 1s 7ms/step - loss: 0.0148 - accuracy: 0.9979 - lr: 3.0000e-05\n",
            "Epoch 42/200\n",
            "119/120 [============================>.] - ETA: 0s - loss: 0.0138 - accuracy: 0.9974"
          ]
        },
        {
          "output_type": "stream",
          "name": "stderr",
          "text": [
            "WARNING:tensorflow:Early stopping conditioned on metric `val_loss` which is not available. Available metrics are: loss,accuracy\n",
            "WARNING:tensorflow:Learning rate reduction is conditioned on metric `val_loss` which is not available. Available metrics are: loss,accuracy,lr\n"
          ]
        },
        {
          "output_type": "stream",
          "name": "stdout",
          "text": [
            "\b\b\b\b\b\b\b\b\b\b\b\b\b\b\b\b\b\b\b\b\b\b\b\b\b\b\b\b\b\b\b\b\b\b\b\b\b\b\b\b\b\b\b\b\b\b\b\b\b\b\b\b\b\b\b\b\b\b\b\b\b\b\b\b\b\b\b\b\b\b\b\b\b\b\b\b\b\b\b\b\b\b\b\b\r120/120 [==============================] - 1s 7ms/step - loss: 0.0137 - accuracy: 0.9974 - lr: 3.0000e-05\n",
            "Epoch 43/200\n",
            "119/120 [============================>.] - ETA: 0s - loss: 0.0124 - accuracy: 0.9982"
          ]
        },
        {
          "output_type": "stream",
          "name": "stderr",
          "text": [
            "WARNING:tensorflow:Early stopping conditioned on metric `val_loss` which is not available. Available metrics are: loss,accuracy\n",
            "WARNING:tensorflow:Learning rate reduction is conditioned on metric `val_loss` which is not available. Available metrics are: loss,accuracy,lr\n"
          ]
        },
        {
          "output_type": "stream",
          "name": "stdout",
          "text": [
            "\b\b\b\b\b\b\b\b\b\b\b\b\b\b\b\b\b\b\b\b\b\b\b\b\b\b\b\b\b\b\b\b\b\b\b\b\b\b\b\b\b\b\b\b\b\b\b\b\b\b\b\b\b\b\b\b\b\b\b\b\b\b\b\b\b\b\b\b\b\b\b\b\b\b\b\b\b\b\b\b\b\b\b\b\r120/120 [==============================] - 1s 7ms/step - loss: 0.0124 - accuracy: 0.9982 - lr: 3.0000e-05\n",
            "Epoch 44/200\n",
            "120/120 [==============================] - ETA: 0s - loss: 0.0113 - accuracy: 0.9979"
          ]
        },
        {
          "output_type": "stream",
          "name": "stderr",
          "text": [
            "WARNING:tensorflow:Early stopping conditioned on metric `val_loss` which is not available. Available metrics are: loss,accuracy\n",
            "WARNING:tensorflow:Learning rate reduction is conditioned on metric `val_loss` which is not available. Available metrics are: loss,accuracy,lr\n"
          ]
        },
        {
          "output_type": "stream",
          "name": "stdout",
          "text": [
            "\b\b\b\b\b\b\b\b\b\b\b\b\b\b\b\b\b\b\b\b\b\b\b\b\b\b\b\b\b\b\b\b\b\b\b\b\b\b\b\b\b\b\b\b\b\b\b\b\b\b\b\b\b\b\b\b\b\b\b\b\b\b\b\b\b\b\b\b\b\b\b\b\b\b\b\b\b\b\b\b\b\b\b\b\r120/120 [==============================] - 1s 7ms/step - loss: 0.0113 - accuracy: 0.9979 - lr: 3.0000e-05\n",
            "Epoch 45/200\n",
            "118/120 [============================>.] - ETA: 0s - loss: 0.0109 - accuracy: 0.9976"
          ]
        },
        {
          "output_type": "stream",
          "name": "stderr",
          "text": [
            "WARNING:tensorflow:Early stopping conditioned on metric `val_loss` which is not available. Available metrics are: loss,accuracy\n",
            "WARNING:tensorflow:Learning rate reduction is conditioned on metric `val_loss` which is not available. Available metrics are: loss,accuracy,lr\n"
          ]
        },
        {
          "output_type": "stream",
          "name": "stdout",
          "text": [
            "\b\b\b\b\b\b\b\b\b\b\b\b\b\b\b\b\b\b\b\b\b\b\b\b\b\b\b\b\b\b\b\b\b\b\b\b\b\b\b\b\b\b\b\b\b\b\b\b\b\b\b\b\b\b\b\b\b\b\b\b\b\b\b\b\b\b\b\b\b\b\b\b\b\b\b\b\b\b\b\b\b\b\b\b\r120/120 [==============================] - 1s 7ms/step - loss: 0.0108 - accuracy: 0.9976 - lr: 3.0000e-05\n",
            "Epoch 46/200\n",
            "118/120 [============================>.] - ETA: 0s - loss: 0.0104 - accuracy: 0.9987"
          ]
        },
        {
          "output_type": "stream",
          "name": "stderr",
          "text": [
            "WARNING:tensorflow:Early stopping conditioned on metric `val_loss` which is not available. Available metrics are: loss,accuracy\n",
            "WARNING:tensorflow:Learning rate reduction is conditioned on metric `val_loss` which is not available. Available metrics are: loss,accuracy,lr\n"
          ]
        },
        {
          "output_type": "stream",
          "name": "stdout",
          "text": [
            "\b\b\b\b\b\b\b\b\b\b\b\b\b\b\b\b\b\b\b\b\b\b\b\b\b\b\b\b\b\b\b\b\b\b\b\b\b\b\b\b\b\b\b\b\b\b\b\b\b\b\b\b\b\b\b\b\b\b\b\b\b\b\b\b\b\b\b\b\b\b\b\b\b\b\b\b\b\b\b\b\b\b\b\b\r120/120 [==============================] - 1s 7ms/step - loss: 0.0108 - accuracy: 0.9984 - lr: 3.0000e-05\n",
            "Epoch 47/200\n",
            "119/120 [============================>.] - ETA: 0s - loss: 0.0086 - accuracy: 0.9992"
          ]
        },
        {
          "output_type": "stream",
          "name": "stderr",
          "text": [
            "WARNING:tensorflow:Early stopping conditioned on metric `val_loss` which is not available. Available metrics are: loss,accuracy\n",
            "WARNING:tensorflow:Learning rate reduction is conditioned on metric `val_loss` which is not available. Available metrics are: loss,accuracy,lr\n"
          ]
        },
        {
          "output_type": "stream",
          "name": "stdout",
          "text": [
            "\b\b\b\b\b\b\b\b\b\b\b\b\b\b\b\b\b\b\b\b\b\b\b\b\b\b\b\b\b\b\b\b\b\b\b\b\b\b\b\b\b\b\b\b\b\b\b\b\b\b\b\b\b\b\b\b\b\b\b\b\b\b\b\b\b\b\b\b\b\b\b\b\b\b\b\b\b\b\b\b\b\b\b\b\r120/120 [==============================] - 1s 7ms/step - loss: 0.0086 - accuracy: 0.9992 - lr: 3.0000e-05\n",
            "Epoch 48/200\n",
            "118/120 [============================>.] - ETA: 0s - loss: 0.0092 - accuracy: 0.9987"
          ]
        },
        {
          "output_type": "stream",
          "name": "stderr",
          "text": [
            "WARNING:tensorflow:Early stopping conditioned on metric `val_loss` which is not available. Available metrics are: loss,accuracy\n",
            "WARNING:tensorflow:Learning rate reduction is conditioned on metric `val_loss` which is not available. Available metrics are: loss,accuracy,lr\n"
          ]
        },
        {
          "output_type": "stream",
          "name": "stdout",
          "text": [
            "\b\b\b\b\b\b\b\b\b\b\b\b\b\b\b\b\b\b\b\b\b\b\b\b\b\b\b\b\b\b\b\b\b\b\b\b\b\b\b\b\b\b\b\b\b\b\b\b\b\b\b\b\b\b\b\b\b\b\b\b\b\b\b\b\b\b\b\b\b\b\b\b\b\b\b\b\b\b\b\b\b\b\b\b\r120/120 [==============================] - 1s 7ms/step - loss: 0.0091 - accuracy: 0.9987 - lr: 3.0000e-05\n",
            "Epoch 49/200\n",
            "115/120 [===========================>..] - ETA: 0s - loss: 0.0082 - accuracy: 0.9986"
          ]
        },
        {
          "output_type": "stream",
          "name": "stderr",
          "text": [
            "WARNING:tensorflow:Early stopping conditioned on metric `val_loss` which is not available. Available metrics are: loss,accuracy\n",
            "WARNING:tensorflow:Learning rate reduction is conditioned on metric `val_loss` which is not available. Available metrics are: loss,accuracy,lr\n"
          ]
        },
        {
          "output_type": "stream",
          "name": "stdout",
          "text": [
            "\b\b\b\b\b\b\b\b\b\b\b\b\b\b\b\b\b\b\b\b\b\b\b\b\b\b\b\b\b\b\b\b\b\b\b\b\b\b\b\b\b\b\b\b\b\b\b\b\b\b\b\b\b\b\b\b\b\b\b\b\b\b\b\b\b\b\b\b\b\b\b\b\b\b\b\b\b\b\b\b\b\b\b\b\r120/120 [==============================] - 1s 7ms/step - loss: 0.0082 - accuracy: 0.9984 - lr: 3.0000e-05\n",
            "Epoch 50/200\n",
            "118/120 [============================>.] - ETA: 0s - loss: 0.0081 - accuracy: 0.9981"
          ]
        },
        {
          "output_type": "stream",
          "name": "stderr",
          "text": [
            "WARNING:tensorflow:Early stopping conditioned on metric `val_loss` which is not available. Available metrics are: loss,accuracy\n",
            "WARNING:tensorflow:Learning rate reduction is conditioned on metric `val_loss` which is not available. Available metrics are: loss,accuracy,lr\n"
          ]
        },
        {
          "output_type": "stream",
          "name": "stdout",
          "text": [
            "\b\b\b\b\b\b\b\b\b\b\b\b\b\b\b\b\b\b\b\b\b\b\b\b\b\b\b\b\b\b\b\b\b\b\b\b\b\b\b\b\b\b\b\b\b\b\b\b\b\b\b\b\b\b\b\b\b\b\b\b\b\b\b\b\b\b\b\b\b\b\b\b\b\b\b\b\b\b\b\b\b\b\b\b\r120/120 [==============================] - 1s 7ms/step - loss: 0.0081 - accuracy: 0.9982 - lr: 3.0000e-05\n",
            "Epoch 51/200\n",
            "113/120 [===========================>..] - ETA: 0s - loss: 0.0079 - accuracy: 0.9986"
          ]
        },
        {
          "output_type": "stream",
          "name": "stderr",
          "text": [
            "WARNING:tensorflow:Early stopping conditioned on metric `val_loss` which is not available. Available metrics are: loss,accuracy\n",
            "WARNING:tensorflow:Learning rate reduction is conditioned on metric `val_loss` which is not available. Available metrics are: loss,accuracy,lr\n"
          ]
        },
        {
          "output_type": "stream",
          "name": "stdout",
          "text": [
            "\b\b\b\b\b\b\b\b\b\b\b\b\b\b\b\b\b\b\b\b\b\b\b\b\b\b\b\b\b\b\b\b\b\b\b\b\b\b\b\b\b\b\b\b\b\b\b\b\b\b\b\b\b\b\b\b\b\b\b\b\b\b\b\b\b\b\b\b\b\b\b\b\b\b\b\b\b\b\b\b\b\b\b\b\r120/120 [==============================] - 1s 7ms/step - loss: 0.0080 - accuracy: 0.9984 - lr: 3.0000e-05\n",
            "Epoch 52/200\n",
            "116/120 [============================>.] - ETA: 0s - loss: 0.0072 - accuracy: 0.9984"
          ]
        },
        {
          "output_type": "stream",
          "name": "stderr",
          "text": [
            "WARNING:tensorflow:Early stopping conditioned on metric `val_loss` which is not available. Available metrics are: loss,accuracy\n",
            "WARNING:tensorflow:Learning rate reduction is conditioned on metric `val_loss` which is not available. Available metrics are: loss,accuracy,lr\n"
          ]
        },
        {
          "output_type": "stream",
          "name": "stdout",
          "text": [
            "\b\b\b\b\b\b\b\b\b\b\b\b\b\b\b\b\b\b\b\b\b\b\b\b\b\b\b\b\b\b\b\b\b\b\b\b\b\b\b\b\b\b\b\b\b\b\b\b\b\b\b\b\b\b\b\b\b\b\b\b\b\b\b\b\b\b\b\b\b\b\b\b\b\b\b\b\b\b\b\b\b\b\b\b\r120/120 [==============================] - 1s 7ms/step - loss: 0.0072 - accuracy: 0.9984 - lr: 3.0000e-05\n",
            "Epoch 53/200\n",
            "116/120 [============================>.] - ETA: 0s - loss: 0.0058 - accuracy: 0.9987"
          ]
        },
        {
          "output_type": "stream",
          "name": "stderr",
          "text": [
            "WARNING:tensorflow:Early stopping conditioned on metric `val_loss` which is not available. Available metrics are: loss,accuracy\n",
            "WARNING:tensorflow:Learning rate reduction is conditioned on metric `val_loss` which is not available. Available metrics are: loss,accuracy,lr\n"
          ]
        },
        {
          "output_type": "stream",
          "name": "stdout",
          "text": [
            "\b\b\b\b\b\b\b\b\b\b\b\b\b\b\b\b\b\b\b\b\b\b\b\b\b\b\b\b\b\b\b\b\b\b\b\b\b\b\b\b\b\b\b\b\b\b\b\b\b\b\b\b\b\b\b\b\b\b\b\b\b\b\b\b\b\b\b\b\b\b\b\b\b\b\b\b\b\b\b\b\b\b\b\b\r120/120 [==============================] - 1s 7ms/step - loss: 0.0059 - accuracy: 0.9987 - lr: 3.0000e-05\n",
            "Epoch 54/200\n",
            "116/120 [============================>.] - ETA: 0s - loss: 0.0063 - accuracy: 0.9984"
          ]
        },
        {
          "output_type": "stream",
          "name": "stderr",
          "text": [
            "WARNING:tensorflow:Early stopping conditioned on metric `val_loss` which is not available. Available metrics are: loss,accuracy\n",
            "WARNING:tensorflow:Learning rate reduction is conditioned on metric `val_loss` which is not available. Available metrics are: loss,accuracy,lr\n"
          ]
        },
        {
          "output_type": "stream",
          "name": "stdout",
          "text": [
            "\b\b\b\b\b\b\b\b\b\b\b\b\b\b\b\b\b\b\b\b\b\b\b\b\b\b\b\b\b\b\b\b\b\b\b\b\b\b\b\b\b\b\b\b\b\b\b\b\b\b\b\b\b\b\b\b\b\b\b\b\b\b\b\b\b\b\b\b\b\b\b\b\b\b\b\b\b\b\b\b\b\b\b\b\r120/120 [==============================] - 1s 7ms/step - loss: 0.0062 - accuracy: 0.9984 - lr: 3.0000e-05\n",
            "Epoch 55/200\n",
            "118/120 [============================>.] - ETA: 0s - loss: 0.0063 - accuracy: 0.9987"
          ]
        },
        {
          "output_type": "stream",
          "name": "stderr",
          "text": [
            "WARNING:tensorflow:Early stopping conditioned on metric `val_loss` which is not available. Available metrics are: loss,accuracy\n",
            "WARNING:tensorflow:Learning rate reduction is conditioned on metric `val_loss` which is not available. Available metrics are: loss,accuracy,lr\n"
          ]
        },
        {
          "output_type": "stream",
          "name": "stdout",
          "text": [
            "\b\b\b\b\b\b\b\b\b\b\b\b\b\b\b\b\b\b\b\b\b\b\b\b\b\b\b\b\b\b\b\b\b\b\b\b\b\b\b\b\b\b\b\b\b\b\b\b\b\b\b\b\b\b\b\b\b\b\b\b\b\b\b\b\b\b\b\b\b\b\b\b\b\b\b\b\b\b\b\b\b\b\b\b\r120/120 [==============================] - 1s 7ms/step - loss: 0.0063 - accuracy: 0.9987 - lr: 3.0000e-05\n",
            "Epoch 56/200\n",
            "117/120 [============================>.] - ETA: 0s - loss: 0.0067 - accuracy: 0.9976"
          ]
        },
        {
          "output_type": "stream",
          "name": "stderr",
          "text": [
            "WARNING:tensorflow:Early stopping conditioned on metric `val_loss` which is not available. Available metrics are: loss,accuracy\n",
            "WARNING:tensorflow:Learning rate reduction is conditioned on metric `val_loss` which is not available. Available metrics are: loss,accuracy,lr\n"
          ]
        },
        {
          "output_type": "stream",
          "name": "stdout",
          "text": [
            "\b\b\b\b\b\b\b\b\b\b\b\b\b\b\b\b\b\b\b\b\b\b\b\b\b\b\b\b\b\b\b\b\b\b\b\b\b\b\b\b\b\b\b\b\b\b\b\b\b\b\b\b\b\b\b\b\b\b\b\b\b\b\b\b\b\b\b\b\b\b\b\b\b\b\b\b\b\b\b\b\b\b\b\b\r120/120 [==============================] - 1s 7ms/step - loss: 0.0070 - accuracy: 0.9974 - lr: 3.0000e-05\n",
            "Epoch 57/200\n",
            "118/120 [============================>.] - ETA: 0s - loss: 0.0063 - accuracy: 0.9989"
          ]
        },
        {
          "output_type": "stream",
          "name": "stderr",
          "text": [
            "WARNING:tensorflow:Early stopping conditioned on metric `val_loss` which is not available. Available metrics are: loss,accuracy\n",
            "WARNING:tensorflow:Learning rate reduction is conditioned on metric `val_loss` which is not available. Available metrics are: loss,accuracy,lr\n"
          ]
        },
        {
          "output_type": "stream",
          "name": "stdout",
          "text": [
            "\b\b\b\b\b\b\b\b\b\b\b\b\b\b\b\b\b\b\b\b\b\b\b\b\b\b\b\b\b\b\b\b\b\b\b\b\b\b\b\b\b\b\b\b\b\b\b\b\b\b\b\b\b\b\b\b\b\b\b\b\b\b\b\b\b\b\b\b\b\b\b\b\b\b\b\b\b\b\b\b\b\b\b\b\r120/120 [==============================] - 1s 7ms/step - loss: 0.0063 - accuracy: 0.9990 - lr: 3.0000e-05\n",
            "Epoch 58/200\n",
            "118/120 [============================>.] - ETA: 0s - loss: 0.0049 - accuracy: 0.9992"
          ]
        },
        {
          "output_type": "stream",
          "name": "stderr",
          "text": [
            "WARNING:tensorflow:Early stopping conditioned on metric `val_loss` which is not available. Available metrics are: loss,accuracy\n",
            "WARNING:tensorflow:Learning rate reduction is conditioned on metric `val_loss` which is not available. Available metrics are: loss,accuracy,lr\n"
          ]
        },
        {
          "output_type": "stream",
          "name": "stdout",
          "text": [
            "\b\b\b\b\b\b\b\b\b\b\b\b\b\b\b\b\b\b\b\b\b\b\b\b\b\b\b\b\b\b\b\b\b\b\b\b\b\b\b\b\b\b\b\b\b\b\b\b\b\b\b\b\b\b\b\b\b\b\b\b\b\b\b\b\b\b\b\b\b\b\b\b\b\b\b\b\b\b\b\b\b\b\b\b\r120/120 [==============================] - 1s 7ms/step - loss: 0.0049 - accuracy: 0.9992 - lr: 3.0000e-05\n",
            "Epoch 59/200\n",
            "117/120 [============================>.] - ETA: 0s - loss: 0.0061 - accuracy: 0.9984"
          ]
        },
        {
          "output_type": "stream",
          "name": "stderr",
          "text": [
            "WARNING:tensorflow:Early stopping conditioned on metric `val_loss` which is not available. Available metrics are: loss,accuracy\n",
            "WARNING:tensorflow:Learning rate reduction is conditioned on metric `val_loss` which is not available. Available metrics are: loss,accuracy,lr\n"
          ]
        },
        {
          "output_type": "stream",
          "name": "stdout",
          "text": [
            "\b\b\b\b\b\b\b\b\b\b\b\b\b\b\b\b\b\b\b\b\b\b\b\b\b\b\b\b\b\b\b\b\b\b\b\b\b\b\b\b\b\b\b\b\b\b\b\b\b\b\b\b\b\b\b\b\b\b\b\b\b\b\b\b\b\b\b\b\b\b\b\b\b\b\b\b\b\b\b\b\b\b\b\b\r120/120 [==============================] - 1s 7ms/step - loss: 0.0062 - accuracy: 0.9984 - lr: 3.0000e-05\n",
            "Epoch 60/200\n",
            "116/120 [============================>.] - ETA: 0s - loss: 0.0046 - accuracy: 0.9997"
          ]
        },
        {
          "output_type": "stream",
          "name": "stderr",
          "text": [
            "WARNING:tensorflow:Early stopping conditioned on metric `val_loss` which is not available. Available metrics are: loss,accuracy\n",
            "WARNING:tensorflow:Learning rate reduction is conditioned on metric `val_loss` which is not available. Available metrics are: loss,accuracy,lr\n"
          ]
        },
        {
          "output_type": "stream",
          "name": "stdout",
          "text": [
            "\b\b\b\b\b\b\b\b\b\b\b\b\b\b\b\b\b\b\b\b\b\b\b\b\b\b\b\b\b\b\b\b\b\b\b\b\b\b\b\b\b\b\b\b\b\b\b\b\b\b\b\b\b\b\b\b\b\b\b\b\b\b\b\b\b\b\b\b\b\b\b\b\b\b\b\b\b\b\b\b\b\b\b\b\r120/120 [==============================] - 1s 7ms/step - loss: 0.0045 - accuracy: 0.9997 - lr: 3.0000e-05\n",
            "Epoch 61/200\n",
            "115/120 [===========================>..] - ETA: 0s - loss: 0.0045 - accuracy: 0.9992"
          ]
        },
        {
          "output_type": "stream",
          "name": "stderr",
          "text": [
            "WARNING:tensorflow:Early stopping conditioned on metric `val_loss` which is not available. Available metrics are: loss,accuracy\n",
            "WARNING:tensorflow:Learning rate reduction is conditioned on metric `val_loss` which is not available. Available metrics are: loss,accuracy,lr\n"
          ]
        },
        {
          "output_type": "stream",
          "name": "stdout",
          "text": [
            "\b\b\b\b\b\b\b\b\b\b\b\b\b\b\b\b\b\b\b\b\b\b\b\b\b\b\b\b\b\b\b\b\b\b\b\b\b\b\b\b\b\b\b\b\b\b\b\b\b\b\b\b\b\b\b\b\b\b\b\b\b\b\b\b\b\b\b\b\b\b\b\b\b\b\b\b\b\b\b\b\b\b\b\b\r120/120 [==============================] - 1s 7ms/step - loss: 0.0044 - accuracy: 0.9992 - lr: 3.0000e-05\n",
            "Epoch 62/200\n",
            "119/120 [============================>.] - ETA: 0s - loss: 0.0039 - accuracy: 0.9995"
          ]
        },
        {
          "output_type": "stream",
          "name": "stderr",
          "text": [
            "WARNING:tensorflow:Early stopping conditioned on metric `val_loss` which is not available. Available metrics are: loss,accuracy\n",
            "WARNING:tensorflow:Learning rate reduction is conditioned on metric `val_loss` which is not available. Available metrics are: loss,accuracy,lr\n"
          ]
        },
        {
          "output_type": "stream",
          "name": "stdout",
          "text": [
            "\b\b\b\b\b\b\b\b\b\b\b\b\b\b\b\b\b\b\b\b\b\b\b\b\b\b\b\b\b\b\b\b\b\b\b\b\b\b\b\b\b\b\b\b\b\b\b\b\b\b\b\b\b\b\b\b\b\b\b\b\b\b\b\b\b\b\b\b\b\b\b\b\b\b\b\b\b\b\b\b\b\b\b\b\r120/120 [==============================] - 1s 7ms/step - loss: 0.0040 - accuracy: 0.9995 - lr: 3.0000e-05\n",
            "Epoch 63/200\n",
            "115/120 [===========================>..] - ETA: 0s - loss: 0.0038 - accuracy: 0.9992"
          ]
        },
        {
          "output_type": "stream",
          "name": "stderr",
          "text": [
            "WARNING:tensorflow:Early stopping conditioned on metric `val_loss` which is not available. Available metrics are: loss,accuracy\n",
            "WARNING:tensorflow:Learning rate reduction is conditioned on metric `val_loss` which is not available. Available metrics are: loss,accuracy,lr\n"
          ]
        },
        {
          "output_type": "stream",
          "name": "stdout",
          "text": [
            "\b\b\b\b\b\b\b\b\b\b\b\b\b\b\b\b\b\b\b\b\b\b\b\b\b\b\b\b\b\b\b\b\b\b\b\b\b\b\b\b\b\b\b\b\b\b\b\b\b\b\b\b\b\b\b\b\b\b\b\b\b\b\b\b\b\b\b\b\b\b\b\b\b\b\b\b\b\b\b\b\b\b\b\b\r120/120 [==============================] - 1s 7ms/step - loss: 0.0037 - accuracy: 0.9992 - lr: 3.0000e-05\n",
            "Epoch 64/200\n",
            "116/120 [============================>.] - ETA: 0s - loss: 0.0039 - accuracy: 0.9989"
          ]
        },
        {
          "output_type": "stream",
          "name": "stderr",
          "text": [
            "WARNING:tensorflow:Early stopping conditioned on metric `val_loss` which is not available. Available metrics are: loss,accuracy\n",
            "WARNING:tensorflow:Learning rate reduction is conditioned on metric `val_loss` which is not available. Available metrics are: loss,accuracy,lr\n"
          ]
        },
        {
          "output_type": "stream",
          "name": "stdout",
          "text": [
            "\b\b\b\b\b\b\b\b\b\b\b\b\b\b\b\b\b\b\b\b\b\b\b\b\b\b\b\b\b\b\b\b\b\b\b\b\b\b\b\b\b\b\b\b\b\b\b\b\b\b\b\b\b\b\b\b\b\b\b\b\b\b\b\b\b\b\b\b\b\b\b\b\b\b\b\b\b\b\b\b\b\b\b\b\r120/120 [==============================] - 1s 7ms/step - loss: 0.0039 - accuracy: 0.9990 - lr: 3.0000e-05\n",
            "Epoch 65/200\n",
            "117/120 [============================>.] - ETA: 0s - loss: 0.0035 - accuracy: 0.9995"
          ]
        },
        {
          "output_type": "stream",
          "name": "stderr",
          "text": [
            "WARNING:tensorflow:Early stopping conditioned on metric `val_loss` which is not available. Available metrics are: loss,accuracy\n",
            "WARNING:tensorflow:Learning rate reduction is conditioned on metric `val_loss` which is not available. Available metrics are: loss,accuracy,lr\n"
          ]
        },
        {
          "output_type": "stream",
          "name": "stdout",
          "text": [
            "\b\b\b\b\b\b\b\b\b\b\b\b\b\b\b\b\b\b\b\b\b\b\b\b\b\b\b\b\b\b\b\b\b\b\b\b\b\b\b\b\b\b\b\b\b\b\b\b\b\b\b\b\b\b\b\b\b\b\b\b\b\b\b\b\b\b\b\b\b\b\b\b\b\b\b\b\b\b\b\b\b\b\b\b\r120/120 [==============================] - 1s 7ms/step - loss: 0.0035 - accuracy: 0.9995 - lr: 3.0000e-05\n",
            "Epoch 66/200\n",
            "115/120 [===========================>..] - ETA: 0s - loss: 0.0027 - accuracy: 0.9995"
          ]
        },
        {
          "output_type": "stream",
          "name": "stderr",
          "text": [
            "WARNING:tensorflow:Early stopping conditioned on metric `val_loss` which is not available. Available metrics are: loss,accuracy\n",
            "WARNING:tensorflow:Learning rate reduction is conditioned on metric `val_loss` which is not available. Available metrics are: loss,accuracy,lr\n"
          ]
        },
        {
          "output_type": "stream",
          "name": "stdout",
          "text": [
            "\b\b\b\b\b\b\b\b\b\b\b\b\b\b\b\b\b\b\b\b\b\b\b\b\b\b\b\b\b\b\b\b\b\b\b\b\b\b\b\b\b\b\b\b\b\b\b\b\b\b\b\b\b\b\b\b\b\b\b\b\b\b\b\b\b\b\b\b\b\b\b\b\b\b\b\b\b\b\b\b\b\b\b\b\r120/120 [==============================] - 1s 7ms/step - loss: 0.0027 - accuracy: 0.9995 - lr: 3.0000e-05\n",
            "Epoch 67/200\n",
            "119/120 [============================>.] - ETA: 0s - loss: 0.0036 - accuracy: 0.9995"
          ]
        },
        {
          "output_type": "stream",
          "name": "stderr",
          "text": [
            "WARNING:tensorflow:Early stopping conditioned on metric `val_loss` which is not available. Available metrics are: loss,accuracy\n",
            "WARNING:tensorflow:Learning rate reduction is conditioned on metric `val_loss` which is not available. Available metrics are: loss,accuracy,lr\n"
          ]
        },
        {
          "output_type": "stream",
          "name": "stdout",
          "text": [
            "\b\b\b\b\b\b\b\b\b\b\b\b\b\b\b\b\b\b\b\b\b\b\b\b\b\b\b\b\b\b\b\b\b\b\b\b\b\b\b\b\b\b\b\b\b\b\b\b\b\b\b\b\b\b\b\b\b\b\b\b\b\b\b\b\b\b\b\b\b\b\b\b\b\b\b\b\b\b\b\b\b\b\b\b\r120/120 [==============================] - 1s 7ms/step - loss: 0.0036 - accuracy: 0.9995 - lr: 3.0000e-05\n",
            "Epoch 68/200\n",
            "117/120 [============================>.] - ETA: 0s - loss: 0.0027 - accuracy: 0.9997"
          ]
        },
        {
          "output_type": "stream",
          "name": "stderr",
          "text": [
            "WARNING:tensorflow:Early stopping conditioned on metric `val_loss` which is not available. Available metrics are: loss,accuracy\n",
            "WARNING:tensorflow:Learning rate reduction is conditioned on metric `val_loss` which is not available. Available metrics are: loss,accuracy,lr\n"
          ]
        },
        {
          "output_type": "stream",
          "name": "stdout",
          "text": [
            "\b\b\b\b\b\b\b\b\b\b\b\b\b\b\b\b\b\b\b\b\b\b\b\b\b\b\b\b\b\b\b\b\b\b\b\b\b\b\b\b\b\b\b\b\b\b\b\b\b\b\b\b\b\b\b\b\b\b\b\b\b\b\b\b\b\b\b\b\b\b\b\b\b\b\b\b\b\b\b\b\b\b\b\b\r120/120 [==============================] - 1s 7ms/step - loss: 0.0027 - accuracy: 0.9997 - lr: 3.0000e-05\n",
            "Epoch 69/200\n",
            "114/120 [===========================>..] - ETA: 0s - loss: 0.0042 - accuracy: 0.9986"
          ]
        },
        {
          "output_type": "stream",
          "name": "stderr",
          "text": [
            "WARNING:tensorflow:Early stopping conditioned on metric `val_loss` which is not available. Available metrics are: loss,accuracy\n",
            "WARNING:tensorflow:Learning rate reduction is conditioned on metric `val_loss` which is not available. Available metrics are: loss,accuracy,lr\n"
          ]
        },
        {
          "output_type": "stream",
          "name": "stdout",
          "text": [
            "\b\b\b\b\b\b\b\b\b\b\b\b\b\b\b\b\b\b\b\b\b\b\b\b\b\b\b\b\b\b\b\b\b\b\b\b\b\b\b\b\b\b\b\b\b\b\b\b\b\b\b\b\b\b\b\b\b\b\b\b\b\b\b\b\b\b\b\b\b\b\b\b\b\b\b\b\b\b\b\b\b\b\b\b\r120/120 [==============================] - 1s 7ms/step - loss: 0.0044 - accuracy: 0.9984 - lr: 3.0000e-05\n",
            "Epoch 70/200\n",
            "116/120 [============================>.] - ETA: 0s - loss: 0.0025 - accuracy: 1.0000"
          ]
        },
        {
          "output_type": "stream",
          "name": "stderr",
          "text": [
            "WARNING:tensorflow:Early stopping conditioned on metric `val_loss` which is not available. Available metrics are: loss,accuracy\n",
            "WARNING:tensorflow:Learning rate reduction is conditioned on metric `val_loss` which is not available. Available metrics are: loss,accuracy,lr\n"
          ]
        },
        {
          "output_type": "stream",
          "name": "stdout",
          "text": [
            "\b\b\b\b\b\b\b\b\b\b\b\b\b\b\b\b\b\b\b\b\b\b\b\b\b\b\b\b\b\b\b\b\b\b\b\b\b\b\b\b\b\b\b\b\b\b\b\b\b\b\b\b\b\b\b\b\b\b\b\b\b\b\b\b\b\b\b\b\b\b\b\b\b\b\b\b\b\b\b\b\b\b\b\b\r120/120 [==============================] - 1s 7ms/step - loss: 0.0025 - accuracy: 1.0000 - lr: 3.0000e-05\n",
            "Epoch 71/200\n",
            "117/120 [============================>.] - ETA: 0s - loss: 0.0035 - accuracy: 0.9995"
          ]
        },
        {
          "output_type": "stream",
          "name": "stderr",
          "text": [
            "WARNING:tensorflow:Early stopping conditioned on metric `val_loss` which is not available. Available metrics are: loss,accuracy\n",
            "WARNING:tensorflow:Learning rate reduction is conditioned on metric `val_loss` which is not available. Available metrics are: loss,accuracy,lr\n"
          ]
        },
        {
          "output_type": "stream",
          "name": "stdout",
          "text": [
            "\b\b\b\b\b\b\b\b\b\b\b\b\b\b\b\b\b\b\b\b\b\b\b\b\b\b\b\b\b\b\b\b\b\b\b\b\b\b\b\b\b\b\b\b\b\b\b\b\b\b\b\b\b\b\b\b\b\b\b\b\b\b\b\b\b\b\b\b\b\b\b\b\b\b\b\b\b\b\b\b\b\b\b\b\r120/120 [==============================] - 1s 7ms/step - loss: 0.0036 - accuracy: 0.9995 - lr: 3.0000e-05\n",
            "Epoch 72/200\n",
            "117/120 [============================>.] - ETA: 0s - loss: 0.0021 - accuracy: 0.9997"
          ]
        },
        {
          "output_type": "stream",
          "name": "stderr",
          "text": [
            "WARNING:tensorflow:Early stopping conditioned on metric `val_loss` which is not available. Available metrics are: loss,accuracy\n",
            "WARNING:tensorflow:Learning rate reduction is conditioned on metric `val_loss` which is not available. Available metrics are: loss,accuracy,lr\n"
          ]
        },
        {
          "output_type": "stream",
          "name": "stdout",
          "text": [
            "\b\b\b\b\b\b\b\b\b\b\b\b\b\b\b\b\b\b\b\b\b\b\b\b\b\b\b\b\b\b\b\b\b\b\b\b\b\b\b\b\b\b\b\b\b\b\b\b\b\b\b\b\b\b\b\b\b\b\b\b\b\b\b\b\b\b\b\b\b\b\b\b\b\b\b\b\b\b\b\b\b\b\b\b\r120/120 [==============================] - 1s 7ms/step - loss: 0.0020 - accuracy: 0.9997 - lr: 3.0000e-05\n",
            "Epoch 73/200\n",
            "118/120 [============================>.] - ETA: 0s - loss: 0.0024 - accuracy: 0.9995"
          ]
        },
        {
          "output_type": "stream",
          "name": "stderr",
          "text": [
            "WARNING:tensorflow:Early stopping conditioned on metric `val_loss` which is not available. Available metrics are: loss,accuracy\n",
            "WARNING:tensorflow:Learning rate reduction is conditioned on metric `val_loss` which is not available. Available metrics are: loss,accuracy,lr\n"
          ]
        },
        {
          "output_type": "stream",
          "name": "stdout",
          "text": [
            "\b\b\b\b\b\b\b\b\b\b\b\b\b\b\b\b\b\b\b\b\b\b\b\b\b\b\b\b\b\b\b\b\b\b\b\b\b\b\b\b\b\b\b\b\b\b\b\b\b\b\b\b\b\b\b\b\b\b\b\b\b\b\b\b\b\b\b\b\b\b\b\b\b\b\b\b\b\b\b\b\b\b\b\b\r120/120 [==============================] - 1s 7ms/step - loss: 0.0024 - accuracy: 0.9995 - lr: 3.0000e-05\n",
            "Epoch 74/200\n",
            "118/120 [============================>.] - ETA: 0s - loss: 0.0025 - accuracy: 0.9989"
          ]
        },
        {
          "output_type": "stream",
          "name": "stderr",
          "text": [
            "WARNING:tensorflow:Early stopping conditioned on metric `val_loss` which is not available. Available metrics are: loss,accuracy\n",
            "WARNING:tensorflow:Learning rate reduction is conditioned on metric `val_loss` which is not available. Available metrics are: loss,accuracy,lr\n"
          ]
        },
        {
          "output_type": "stream",
          "name": "stdout",
          "text": [
            "\b\b\b\b\b\b\b\b\b\b\b\b\b\b\b\b\b\b\b\b\b\b\b\b\b\b\b\b\b\b\b\b\b\b\b\b\b\b\b\b\b\b\b\b\b\b\b\b\b\b\b\b\b\b\b\b\b\b\b\b\b\b\b\b\b\b\b\b\b\b\b\b\b\b\b\b\b\b\b\b\b\b\b\b\r120/120 [==============================] - 1s 7ms/step - loss: 0.0024 - accuracy: 0.9990 - lr: 3.0000e-05\n",
            "Epoch 75/200\n",
            "118/120 [============================>.] - ETA: 0s - loss: 0.0023 - accuracy: 0.9995"
          ]
        },
        {
          "output_type": "stream",
          "name": "stderr",
          "text": [
            "WARNING:tensorflow:Early stopping conditioned on metric `val_loss` which is not available. Available metrics are: loss,accuracy\n",
            "WARNING:tensorflow:Learning rate reduction is conditioned on metric `val_loss` which is not available. Available metrics are: loss,accuracy,lr\n"
          ]
        },
        {
          "output_type": "stream",
          "name": "stdout",
          "text": [
            "\b\b\b\b\b\b\b\b\b\b\b\b\b\b\b\b\b\b\b\b\b\b\b\b\b\b\b\b\b\b\b\b\b\b\b\b\b\b\b\b\b\b\b\b\b\b\b\b\b\b\b\b\b\b\b\b\b\b\b\b\b\b\b\b\b\b\b\b\b\b\b\b\b\b\b\b\b\b\b\b\b\b\b\b\r120/120 [==============================] - 1s 7ms/step - loss: 0.0023 - accuracy: 0.9995 - lr: 3.0000e-05\n",
            "Epoch 76/200\n",
            "117/120 [============================>.] - ETA: 0s - loss: 0.0022 - accuracy: 0.9992"
          ]
        },
        {
          "output_type": "stream",
          "name": "stderr",
          "text": [
            "WARNING:tensorflow:Early stopping conditioned on metric `val_loss` which is not available. Available metrics are: loss,accuracy\n",
            "WARNING:tensorflow:Learning rate reduction is conditioned on metric `val_loss` which is not available. Available metrics are: loss,accuracy,lr\n"
          ]
        },
        {
          "output_type": "stream",
          "name": "stdout",
          "text": [
            "\b\b\b\b\b\b\b\b\b\b\b\b\b\b\b\b\b\b\b\b\b\b\b\b\b\b\b\b\b\b\b\b\b\b\b\b\b\b\b\b\b\b\b\b\b\b\b\b\b\b\b\b\b\b\b\b\b\b\b\b\b\b\b\b\b\b\b\b\b\b\b\b\b\b\b\b\b\b\b\b\b\b\b\b\r120/120 [==============================] - 1s 7ms/step - loss: 0.0022 - accuracy: 0.9992 - lr: 3.0000e-05\n",
            "Epoch 77/200\n",
            "115/120 [===========================>..] - ETA: 0s - loss: 0.0028 - accuracy: 0.9989"
          ]
        },
        {
          "output_type": "stream",
          "name": "stderr",
          "text": [
            "WARNING:tensorflow:Early stopping conditioned on metric `val_loss` which is not available. Available metrics are: loss,accuracy\n",
            "WARNING:tensorflow:Learning rate reduction is conditioned on metric `val_loss` which is not available. Available metrics are: loss,accuracy,lr\n"
          ]
        },
        {
          "output_type": "stream",
          "name": "stdout",
          "text": [
            "\b\b\b\b\b\b\b\b\b\b\b\b\b\b\b\b\b\b\b\b\b\b\b\b\b\b\b\b\b\b\b\b\b\b\b\b\b\b\b\b\b\b\b\b\b\b\b\b\b\b\b\b\b\b\b\b\b\b\b\b\b\b\b\b\b\b\b\b\b\b\b\b\b\b\b\b\b\b\b\b\b\b\b\b\r120/120 [==============================] - 1s 7ms/step - loss: 0.0027 - accuracy: 0.9990 - lr: 3.0000e-05\n",
            "Epoch 78/200\n",
            "116/120 [============================>.] - ETA: 0s - loss: 0.0019 - accuracy: 0.9995"
          ]
        },
        {
          "output_type": "stream",
          "name": "stderr",
          "text": [
            "WARNING:tensorflow:Early stopping conditioned on metric `val_loss` which is not available. Available metrics are: loss,accuracy\n",
            "WARNING:tensorflow:Learning rate reduction is conditioned on metric `val_loss` which is not available. Available metrics are: loss,accuracy,lr\n"
          ]
        },
        {
          "output_type": "stream",
          "name": "stdout",
          "text": [
            "\b\b\b\b\b\b\b\b\b\b\b\b\b\b\b\b\b\b\b\b\b\b\b\b\b\b\b\b\b\b\b\b\b\b\b\b\b\b\b\b\b\b\b\b\b\b\b\b\b\b\b\b\b\b\b\b\b\b\b\b\b\b\b\b\b\b\b\b\b\b\b\b\b\b\b\b\b\b\b\b\b\b\b\b\r120/120 [==============================] - 1s 7ms/step - loss: 0.0022 - accuracy: 0.9992 - lr: 3.0000e-05\n",
            "Epoch 79/200\n",
            "116/120 [============================>.] - ETA: 0s - loss: 0.0028 - accuracy: 0.9992"
          ]
        },
        {
          "output_type": "stream",
          "name": "stderr",
          "text": [
            "WARNING:tensorflow:Early stopping conditioned on metric `val_loss` which is not available. Available metrics are: loss,accuracy\n",
            "WARNING:tensorflow:Learning rate reduction is conditioned on metric `val_loss` which is not available. Available metrics are: loss,accuracy,lr\n"
          ]
        },
        {
          "output_type": "stream",
          "name": "stdout",
          "text": [
            "\b\b\b\b\b\b\b\b\b\b\b\b\b\b\b\b\b\b\b\b\b\b\b\b\b\b\b\b\b\b\b\b\b\b\b\b\b\b\b\b\b\b\b\b\b\b\b\b\b\b\b\b\b\b\b\b\b\b\b\b\b\b\b\b\b\b\b\b\b\b\b\b\b\b\b\b\b\b\b\b\b\b\b\b\r120/120 [==============================] - 1s 7ms/step - loss: 0.0028 - accuracy: 0.9992 - lr: 3.0000e-05\n",
            "Epoch 80/200\n",
            "119/120 [============================>.] - ETA: 0s - loss: 0.0016 - accuracy: 0.9997"
          ]
        },
        {
          "output_type": "stream",
          "name": "stderr",
          "text": [
            "WARNING:tensorflow:Early stopping conditioned on metric `val_loss` which is not available. Available metrics are: loss,accuracy\n",
            "WARNING:tensorflow:Learning rate reduction is conditioned on metric `val_loss` which is not available. Available metrics are: loss,accuracy,lr\n"
          ]
        },
        {
          "output_type": "stream",
          "name": "stdout",
          "text": [
            "\b\b\b\b\b\b\b\b\b\b\b\b\b\b\b\b\b\b\b\b\b\b\b\b\b\b\b\b\b\b\b\b\b\b\b\b\b\b\b\b\b\b\b\b\b\b\b\b\b\b\b\b\b\b\b\b\b\b\b\b\b\b\b\b\b\b\b\b\b\b\b\b\b\b\b\b\b\b\b\b\b\b\b\b\r120/120 [==============================] - 1s 7ms/step - loss: 0.0016 - accuracy: 0.9997 - lr: 3.0000e-05\n",
            "Epoch 81/200\n",
            "120/120 [==============================] - ETA: 0s - loss: 0.0014 - accuracy: 1.0000"
          ]
        },
        {
          "output_type": "stream",
          "name": "stderr",
          "text": [
            "WARNING:tensorflow:Early stopping conditioned on metric `val_loss` which is not available. Available metrics are: loss,accuracy\n",
            "WARNING:tensorflow:Learning rate reduction is conditioned on metric `val_loss` which is not available. Available metrics are: loss,accuracy,lr\n"
          ]
        },
        {
          "output_type": "stream",
          "name": "stdout",
          "text": [
            "\b\b\b\b\b\b\b\b\b\b\b\b\b\b\b\b\b\b\b\b\b\b\b\b\b\b\b\b\b\b\b\b\b\b\b\b\b\b\b\b\b\b\b\b\b\b\b\b\b\b\b\b\b\b\b\b\b\b\b\b\b\b\b\b\b\b\b\b\b\b\b\b\b\b\b\b\b\b\b\b\b\b\b\b\r120/120 [==============================] - 1s 8ms/step - loss: 0.0014 - accuracy: 1.0000 - lr: 3.0000e-05\n",
            "Epoch 82/200\n",
            "114/120 [===========================>..] - ETA: 0s - loss: 0.0012 - accuracy: 1.0000"
          ]
        },
        {
          "output_type": "stream",
          "name": "stderr",
          "text": [
            "WARNING:tensorflow:Early stopping conditioned on metric `val_loss` which is not available. Available metrics are: loss,accuracy\n",
            "WARNING:tensorflow:Learning rate reduction is conditioned on metric `val_loss` which is not available. Available metrics are: loss,accuracy,lr\n"
          ]
        },
        {
          "output_type": "stream",
          "name": "stdout",
          "text": [
            "\b\b\b\b\b\b\b\b\b\b\b\b\b\b\b\b\b\b\b\b\b\b\b\b\b\b\b\b\b\b\b\b\b\b\b\b\b\b\b\b\b\b\b\b\b\b\b\b\b\b\b\b\b\b\b\b\b\b\b\b\b\b\b\b\b\b\b\b\b\b\b\b\b\b\b\b\b\b\b\b\b\b\b\b\r120/120 [==============================] - 1s 9ms/step - loss: 0.0016 - accuracy: 0.9997 - lr: 3.0000e-05\n",
            "Epoch 83/200\n",
            "120/120 [==============================] - ETA: 0s - loss: 0.0014 - accuracy: 0.9997"
          ]
        },
        {
          "output_type": "stream",
          "name": "stderr",
          "text": [
            "WARNING:tensorflow:Early stopping conditioned on metric `val_loss` which is not available. Available metrics are: loss,accuracy\n",
            "WARNING:tensorflow:Learning rate reduction is conditioned on metric `val_loss` which is not available. Available metrics are: loss,accuracy,lr\n"
          ]
        },
        {
          "output_type": "stream",
          "name": "stdout",
          "text": [
            "\b\b\b\b\b\b\b\b\b\b\b\b\b\b\b\b\b\b\b\b\b\b\b\b\b\b\b\b\b\b\b\b\b\b\b\b\b\b\b\b\b\b\b\b\b\b\b\b\b\b\b\b\b\b\b\b\b\b\b\b\b\b\b\b\b\b\b\b\b\b\b\b\b\b\b\b\b\b\b\b\b\b\b\b\r120/120 [==============================] - 1s 9ms/step - loss: 0.0014 - accuracy: 0.9997 - lr: 3.0000e-05\n",
            "Epoch 84/200\n",
            "114/120 [===========================>..] - ETA: 0s - loss: 0.0020 - accuracy: 0.9995"
          ]
        },
        {
          "output_type": "stream",
          "name": "stderr",
          "text": [
            "WARNING:tensorflow:Early stopping conditioned on metric `val_loss` which is not available. Available metrics are: loss,accuracy\n",
            "WARNING:tensorflow:Learning rate reduction is conditioned on metric `val_loss` which is not available. Available metrics are: loss,accuracy,lr\n"
          ]
        },
        {
          "output_type": "stream",
          "name": "stdout",
          "text": [
            "\b\b\b\b\b\b\b\b\b\b\b\b\b\b\b\b\b\b\b\b\b\b\b\b\b\b\b\b\b\b\b\b\b\b\b\b\b\b\b\b\b\b\b\b\b\b\b\b\b\b\b\b\b\b\b\b\b\b\b\b\b\b\b\b\b\b\b\b\b\b\b\b\b\b\b\b\b\b\b\b\b\b\b\b\r120/120 [==============================] - 1s 8ms/step - loss: 0.0019 - accuracy: 0.9995 - lr: 3.0000e-05\n",
            "Epoch 85/200\n",
            "120/120 [==============================] - ETA: 0s - loss: 0.0011 - accuracy: 1.0000"
          ]
        },
        {
          "output_type": "stream",
          "name": "stderr",
          "text": [
            "WARNING:tensorflow:Early stopping conditioned on metric `val_loss` which is not available. Available metrics are: loss,accuracy\n",
            "WARNING:tensorflow:Learning rate reduction is conditioned on metric `val_loss` which is not available. Available metrics are: loss,accuracy,lr\n"
          ]
        },
        {
          "output_type": "stream",
          "name": "stdout",
          "text": [
            "\b\b\b\b\b\b\b\b\b\b\b\b\b\b\b\b\b\b\b\b\b\b\b\b\b\b\b\b\b\b\b\b\b\b\b\b\b\b\b\b\b\b\b\b\b\b\b\b\b\b\b\b\b\b\b\b\b\b\b\b\b\b\b\b\b\b\b\b\b\b\b\b\b\b\b\b\b\b\b\b\b\b\b\b\r120/120 [==============================] - 1s 8ms/step - loss: 0.0011 - accuracy: 1.0000 - lr: 3.0000e-05\n",
            "Epoch 86/200\n",
            "117/120 [============================>.] - ETA: 0s - loss: 0.0021 - accuracy: 0.9992"
          ]
        },
        {
          "output_type": "stream",
          "name": "stderr",
          "text": [
            "WARNING:tensorflow:Early stopping conditioned on metric `val_loss` which is not available. Available metrics are: loss,accuracy\n",
            "WARNING:tensorflow:Learning rate reduction is conditioned on metric `val_loss` which is not available. Available metrics are: loss,accuracy,lr\n"
          ]
        },
        {
          "output_type": "stream",
          "name": "stdout",
          "text": [
            "\b\b\b\b\b\b\b\b\b\b\b\b\b\b\b\b\b\b\b\b\b\b\b\b\b\b\b\b\b\b\b\b\b\b\b\b\b\b\b\b\b\b\b\b\b\b\b\b\b\b\b\b\b\b\b\b\b\b\b\b\b\b\b\b\b\b\b\b\b\b\b\b\b\b\b\b\b\b\b\b\b\b\b\b\r120/120 [==============================] - 1s 7ms/step - loss: 0.0020 - accuracy: 0.9992 - lr: 3.0000e-05\n",
            "Epoch 87/200\n",
            "116/120 [============================>.] - ETA: 0s - loss: 0.0013 - accuracy: 0.9995"
          ]
        },
        {
          "output_type": "stream",
          "name": "stderr",
          "text": [
            "WARNING:tensorflow:Early stopping conditioned on metric `val_loss` which is not available. Available metrics are: loss,accuracy\n",
            "WARNING:tensorflow:Learning rate reduction is conditioned on metric `val_loss` which is not available. Available metrics are: loss,accuracy,lr\n"
          ]
        },
        {
          "output_type": "stream",
          "name": "stdout",
          "text": [
            "\b\b\b\b\b\b\b\b\b\b\b\b\b\b\b\b\b\b\b\b\b\b\b\b\b\b\b\b\b\b\b\b\b\b\b\b\b\b\b\b\b\b\b\b\b\b\b\b\b\b\b\b\b\b\b\b\b\b\b\b\b\b\b\b\b\b\b\b\b\b\b\b\b\b\b\b\b\b\b\b\b\b\b\b\r120/120 [==============================] - 1s 7ms/step - loss: 0.0012 - accuracy: 0.9995 - lr: 3.0000e-05\n",
            "Epoch 88/200\n",
            "116/120 [============================>.] - ETA: 0s - loss: 0.0011 - accuracy: 1.0000"
          ]
        },
        {
          "output_type": "stream",
          "name": "stderr",
          "text": [
            "WARNING:tensorflow:Early stopping conditioned on metric `val_loss` which is not available. Available metrics are: loss,accuracy\n",
            "WARNING:tensorflow:Learning rate reduction is conditioned on metric `val_loss` which is not available. Available metrics are: loss,accuracy,lr\n"
          ]
        },
        {
          "output_type": "stream",
          "name": "stdout",
          "text": [
            "\b\b\b\b\b\b\b\b\b\b\b\b\b\b\b\b\b\b\b\b\b\b\b\b\b\b\b\b\b\b\b\b\b\b\b\b\b\b\b\b\b\b\b\b\b\b\b\b\b\b\b\b\b\b\b\b\b\b\b\b\b\b\b\b\b\b\b\b\b\b\b\b\b\b\b\b\b\b\b\b\b\b\b\b\r120/120 [==============================] - 1s 7ms/step - loss: 0.0011 - accuracy: 1.0000 - lr: 3.0000e-05\n",
            "Epoch 89/200\n",
            "118/120 [============================>.] - ETA: 0s - loss: 0.0011 - accuracy: 1.0000    "
          ]
        },
        {
          "output_type": "stream",
          "name": "stderr",
          "text": [
            "WARNING:tensorflow:Early stopping conditioned on metric `val_loss` which is not available. Available metrics are: loss,accuracy\n",
            "WARNING:tensorflow:Learning rate reduction is conditioned on metric `val_loss` which is not available. Available metrics are: loss,accuracy,lr\n"
          ]
        },
        {
          "output_type": "stream",
          "name": "stdout",
          "text": [
            "\b\b\b\b\b\b\b\b\b\b\b\b\b\b\b\b\b\b\b\b\b\b\b\b\b\b\b\b\b\b\b\b\b\b\b\b\b\b\b\b\b\b\b\b\b\b\b\b\b\b\b\b\b\b\b\b\b\b\b\b\b\b\b\b\b\b\b\b\b\b\b\b\b\b\b\b\b\b\b\b\b\b\b\b\r120/120 [==============================] - 1s 7ms/step - loss: 0.0011 - accuracy: 1.0000 - lr: 3.0000e-05\n",
            "Epoch 90/200\n",
            "115/120 [===========================>..] - ETA: 0s - loss: 8.9265e-04 - accuracy: 1.0000"
          ]
        },
        {
          "output_type": "stream",
          "name": "stderr",
          "text": [
            "WARNING:tensorflow:Early stopping conditioned on metric `val_loss` which is not available. Available metrics are: loss,accuracy\n",
            "WARNING:tensorflow:Learning rate reduction is conditioned on metric `val_loss` which is not available. Available metrics are: loss,accuracy,lr\n"
          ]
        },
        {
          "output_type": "stream",
          "name": "stdout",
          "text": [
            "\b\b\b\b\b\b\b\b\b\b\b\b\b\b\b\b\b\b\b\b\b\b\b\b\b\b\b\b\b\b\b\b\b\b\b\b\b\b\b\b\b\b\b\b\b\b\b\b\b\b\b\b\b\b\b\b\b\b\b\b\b\b\b\b\b\b\b\b\b\b\b\b\b\b\b\b\b\b\b\b\b\b\b\b\b\b\b\b\r120/120 [==============================] - 1s 7ms/step - loss: 9.0033e-04 - accuracy: 1.0000 - lr: 3.0000e-05\n",
            "Epoch 91/200\n",
            "114/120 [===========================>..] - ETA: 0s - loss: 0.0015 - accuracy: 0.9997"
          ]
        },
        {
          "output_type": "stream",
          "name": "stderr",
          "text": [
            "WARNING:tensorflow:Early stopping conditioned on metric `val_loss` which is not available. Available metrics are: loss,accuracy\n",
            "WARNING:tensorflow:Learning rate reduction is conditioned on metric `val_loss` which is not available. Available metrics are: loss,accuracy,lr\n"
          ]
        },
        {
          "output_type": "stream",
          "name": "stdout",
          "text": [
            "\b\b\b\b\b\b\b\b\b\b\b\b\b\b\b\b\b\b\b\b\b\b\b\b\b\b\b\b\b\b\b\b\b\b\b\b\b\b\b\b\b\b\b\b\b\b\b\b\b\b\b\b\b\b\b\b\b\b\b\b\b\b\b\b\b\b\b\b\b\b\b\b\b\b\b\b\b\b\b\b\b\b\b\b\r120/120 [==============================] - 1s 7ms/step - loss: 0.0015 - accuracy: 0.9997 - lr: 3.0000e-05\n",
            "Epoch 92/200\n",
            "117/120 [============================>.] - ETA: 0s - loss: 0.0012 - accuracy: 1.0000"
          ]
        },
        {
          "output_type": "stream",
          "name": "stderr",
          "text": [
            "WARNING:tensorflow:Early stopping conditioned on metric `val_loss` which is not available. Available metrics are: loss,accuracy\n",
            "WARNING:tensorflow:Learning rate reduction is conditioned on metric `val_loss` which is not available. Available metrics are: loss,accuracy,lr\n"
          ]
        },
        {
          "output_type": "stream",
          "name": "stdout",
          "text": [
            "\b\b\b\b\b\b\b\b\b\b\b\b\b\b\b\b\b\b\b\b\b\b\b\b\b\b\b\b\b\b\b\b\b\b\b\b\b\b\b\b\b\b\b\b\b\b\b\b\b\b\b\b\b\b\b\b\b\b\b\b\b\b\b\b\b\b\b\b\b\b\b\b\b\b\b\b\b\b\b\b\b\b\b\b\r120/120 [==============================] - 1s 7ms/step - loss: 0.0013 - accuracy: 1.0000 - lr: 3.0000e-05\n",
            "Epoch 93/200\n",
            "117/120 [============================>.] - ETA: 0s - loss: 9.7233e-04 - accuracy: 0.9997"
          ]
        },
        {
          "output_type": "stream",
          "name": "stderr",
          "text": [
            "WARNING:tensorflow:Early stopping conditioned on metric `val_loss` which is not available. Available metrics are: loss,accuracy\n",
            "WARNING:tensorflow:Learning rate reduction is conditioned on metric `val_loss` which is not available. Available metrics are: loss,accuracy,lr\n"
          ]
        },
        {
          "output_type": "stream",
          "name": "stdout",
          "text": [
            "\b\b\b\b\b\b\b\b\b\b\b\b\b\b\b\b\b\b\b\b\b\b\b\b\b\b\b\b\b\b\b\b\b\b\b\b\b\b\b\b\b\b\b\b\b\b\b\b\b\b\b\b\b\b\b\b\b\b\b\b\b\b\b\b\b\b\b\b\b\b\b\b\b\b\b\b\b\b\b\b\b\b\b\b\b\b\b\b\r120/120 [==============================] - 1s 7ms/step - loss: 9.6000e-04 - accuracy: 0.9997 - lr: 3.0000e-05\n",
            "Epoch 94/200\n",
            "116/120 [============================>.] - ETA: 0s - loss: 0.0014 - accuracy: 0.9995"
          ]
        },
        {
          "output_type": "stream",
          "name": "stderr",
          "text": [
            "WARNING:tensorflow:Early stopping conditioned on metric `val_loss` which is not available. Available metrics are: loss,accuracy\n",
            "WARNING:tensorflow:Learning rate reduction is conditioned on metric `val_loss` which is not available. Available metrics are: loss,accuracy,lr\n"
          ]
        },
        {
          "output_type": "stream",
          "name": "stdout",
          "text": [
            "\b\b\b\b\b\b\b\b\b\b\b\b\b\b\b\b\b\b\b\b\b\b\b\b\b\b\b\b\b\b\b\b\b\b\b\b\b\b\b\b\b\b\b\b\b\b\b\b\b\b\b\b\b\b\b\b\b\b\b\b\b\b\b\b\b\b\b\b\b\b\b\b\b\b\b\b\b\b\b\b\b\b\b\b\r120/120 [==============================] - 1s 7ms/step - loss: 0.0013 - accuracy: 0.9995 - lr: 3.0000e-05\n",
            "Epoch 95/200\n",
            "116/120 [============================>.] - ETA: 0s - loss: 7.8212e-04 - accuracy: 1.0000"
          ]
        },
        {
          "output_type": "stream",
          "name": "stderr",
          "text": [
            "WARNING:tensorflow:Early stopping conditioned on metric `val_loss` which is not available. Available metrics are: loss,accuracy\n",
            "WARNING:tensorflow:Learning rate reduction is conditioned on metric `val_loss` which is not available. Available metrics are: loss,accuracy,lr\n"
          ]
        },
        {
          "output_type": "stream",
          "name": "stdout",
          "text": [
            "\b\b\b\b\b\b\b\b\b\b\b\b\b\b\b\b\b\b\b\b\b\b\b\b\b\b\b\b\b\b\b\b\b\b\b\b\b\b\b\b\b\b\b\b\b\b\b\b\b\b\b\b\b\b\b\b\b\b\b\b\b\b\b\b\b\b\b\b\b\b\b\b\b\b\b\b\b\b\b\b\b\b\b\b\b\b\b\b\r120/120 [==============================] - 1s 7ms/step - loss: 7.6954e-04 - accuracy: 1.0000 - lr: 3.0000e-05\n",
            "Epoch 96/200\n",
            "117/120 [============================>.] - ETA: 0s - loss: 0.0014 - accuracy: 0.9997"
          ]
        },
        {
          "output_type": "stream",
          "name": "stderr",
          "text": [
            "WARNING:tensorflow:Early stopping conditioned on metric `val_loss` which is not available. Available metrics are: loss,accuracy\n",
            "WARNING:tensorflow:Learning rate reduction is conditioned on metric `val_loss` which is not available. Available metrics are: loss,accuracy,lr\n"
          ]
        },
        {
          "output_type": "stream",
          "name": "stdout",
          "text": [
            "\b\b\b\b\b\b\b\b\b\b\b\b\b\b\b\b\b\b\b\b\b\b\b\b\b\b\b\b\b\b\b\b\b\b\b\b\b\b\b\b\b\b\b\b\b\b\b\b\b\b\b\b\b\b\b\b\b\b\b\b\b\b\b\b\b\b\b\b\b\b\b\b\b\b\b\b\b\b\b\b\b\b\b\b\r120/120 [==============================] - 1s 7ms/step - loss: 0.0014 - accuracy: 0.9997 - lr: 3.0000e-05\n",
            "Epoch 97/200\n",
            "118/120 [============================>.] - ETA: 0s - loss: 8.2989e-04 - accuracy: 1.0000"
          ]
        },
        {
          "output_type": "stream",
          "name": "stderr",
          "text": [
            "WARNING:tensorflow:Early stopping conditioned on metric `val_loss` which is not available. Available metrics are: loss,accuracy\n",
            "WARNING:tensorflow:Learning rate reduction is conditioned on metric `val_loss` which is not available. Available metrics are: loss,accuracy,lr\n"
          ]
        },
        {
          "output_type": "stream",
          "name": "stdout",
          "text": [
            "\b\b\b\b\b\b\b\b\b\b\b\b\b\b\b\b\b\b\b\b\b\b\b\b\b\b\b\b\b\b\b\b\b\b\b\b\b\b\b\b\b\b\b\b\b\b\b\b\b\b\b\b\b\b\b\b\b\b\b\b\b\b\b\b\b\b\b\b\b\b\b\b\b\b\b\b\b\b\b\b\b\b\b\b\b\b\b\b\r120/120 [==============================] - 1s 7ms/step - loss: 8.2083e-04 - accuracy: 1.0000 - lr: 3.0000e-05\n",
            "Epoch 98/200\n",
            "117/120 [============================>.] - ETA: 0s - loss: 9.3197e-04 - accuracy: 0.9995"
          ]
        },
        {
          "output_type": "stream",
          "name": "stderr",
          "text": [
            "WARNING:tensorflow:Early stopping conditioned on metric `val_loss` which is not available. Available metrics are: loss,accuracy\n",
            "WARNING:tensorflow:Learning rate reduction is conditioned on metric `val_loss` which is not available. Available metrics are: loss,accuracy,lr\n"
          ]
        },
        {
          "output_type": "stream",
          "name": "stdout",
          "text": [
            "\b\b\b\b\b\b\b\b\b\b\b\b\b\b\b\b\b\b\b\b\b\b\b\b\b\b\b\b\b\b\b\b\b\b\b\b\b\b\b\b\b\b\b\b\b\b\b\b\b\b\b\b\b\b\b\b\b\b\b\b\b\b\b\b\b\b\b\b\b\b\b\b\b\b\b\b\b\b\b\b\b\b\b\b\b\b\b\b\r120/120 [==============================] - 1s 7ms/step - loss: 9.3688e-04 - accuracy: 0.9995 - lr: 3.0000e-05\n",
            "Epoch 99/200\n",
            "115/120 [===========================>..] - ETA: 0s - loss: 6.4750e-04 - accuracy: 1.0000"
          ]
        },
        {
          "output_type": "stream",
          "name": "stderr",
          "text": [
            "WARNING:tensorflow:Early stopping conditioned on metric `val_loss` which is not available. Available metrics are: loss,accuracy\n",
            "WARNING:tensorflow:Learning rate reduction is conditioned on metric `val_loss` which is not available. Available metrics are: loss,accuracy,lr\n"
          ]
        },
        {
          "output_type": "stream",
          "name": "stdout",
          "text": [
            "\b\b\b\b\b\b\b\b\b\b\b\b\b\b\b\b\b\b\b\b\b\b\b\b\b\b\b\b\b\b\b\b\b\b\b\b\b\b\b\b\b\b\b\b\b\b\b\b\b\b\b\b\b\b\b\b\b\b\b\b\b\b\b\b\b\b\b\b\b\b\b\b\b\b\b\b\b\b\b\b\b\b\b\b\b\b\b\b\r120/120 [==============================] - 1s 7ms/step - loss: 6.9829e-04 - accuracy: 1.0000 - lr: 3.0000e-05\n",
            "Epoch 100/200\n",
            "119/120 [============================>.] - ETA: 0s - loss: 5.9184e-04 - accuracy: 1.0000"
          ]
        },
        {
          "output_type": "stream",
          "name": "stderr",
          "text": [
            "WARNING:tensorflow:Early stopping conditioned on metric `val_loss` which is not available. Available metrics are: loss,accuracy\n",
            "WARNING:tensorflow:Learning rate reduction is conditioned on metric `val_loss` which is not available. Available metrics are: loss,accuracy,lr\n"
          ]
        },
        {
          "output_type": "stream",
          "name": "stdout",
          "text": [
            "\b\b\b\b\b\b\b\b\b\b\b\b\b\b\b\b\b\b\b\b\b\b\b\b\b\b\b\b\b\b\b\b\b\b\b\b\b\b\b\b\b\b\b\b\b\b\b\b\b\b\b\b\b\b\b\b\b\b\b\b\b\b\b\b\b\b\b\b\b\b\b\b\b\b\b\b\b\b\b\b\b\b\b\b\b\b\b\b\r120/120 [==============================] - 1s 7ms/step - loss: 5.9013e-04 - accuracy: 1.0000 - lr: 3.0000e-05\n",
            "Epoch 101/200\n",
            "115/120 [===========================>..] - ETA: 0s - loss: 5.2753e-04 - accuracy: 1.0000"
          ]
        },
        {
          "output_type": "stream",
          "name": "stderr",
          "text": [
            "WARNING:tensorflow:Early stopping conditioned on metric `val_loss` which is not available. Available metrics are: loss,accuracy\n",
            "WARNING:tensorflow:Learning rate reduction is conditioned on metric `val_loss` which is not available. Available metrics are: loss,accuracy,lr\n"
          ]
        },
        {
          "output_type": "stream",
          "name": "stdout",
          "text": [
            "\b\b\b\b\b\b\b\b\b\b\b\b\b\b\b\b\b\b\b\b\b\b\b\b\b\b\b\b\b\b\b\b\b\b\b\b\b\b\b\b\b\b\b\b\b\b\b\b\b\b\b\b\b\b\b\b\b\b\b\b\b\b\b\b\b\b\b\b\b\b\b\b\b\b\b\b\b\b\b\b\b\b\b\b\b\b\b\b\r120/120 [==============================] - 1s 7ms/step - loss: 5.4753e-04 - accuracy: 1.0000 - lr: 3.0000e-05\n",
            "Epoch 102/200\n",
            "115/120 [===========================>..] - ETA: 0s - loss: 0.0011 - accuracy: 0.9997"
          ]
        },
        {
          "output_type": "stream",
          "name": "stderr",
          "text": [
            "WARNING:tensorflow:Early stopping conditioned on metric `val_loss` which is not available. Available metrics are: loss,accuracy\n",
            "WARNING:tensorflow:Learning rate reduction is conditioned on metric `val_loss` which is not available. Available metrics are: loss,accuracy,lr\n"
          ]
        },
        {
          "output_type": "stream",
          "name": "stdout",
          "text": [
            "\b\b\b\b\b\b\b\b\b\b\b\b\b\b\b\b\b\b\b\b\b\b\b\b\b\b\b\b\b\b\b\b\b\b\b\b\b\b\b\b\b\b\b\b\b\b\b\b\b\b\b\b\b\b\b\b\b\b\b\b\b\b\b\b\b\b\b\b\b\b\b\b\b\b\b\b\b\b\b\b\b\b\b\b\r120/120 [==============================] - 1s 7ms/step - loss: 0.0011 - accuracy: 0.9997 - lr: 3.0000e-05\n",
            "Epoch 103/200\n",
            "116/120 [============================>.] - ETA: 0s - loss: 4.2706e-04 - accuracy: 1.0000"
          ]
        },
        {
          "output_type": "stream",
          "name": "stderr",
          "text": [
            "WARNING:tensorflow:Early stopping conditioned on metric `val_loss` which is not available. Available metrics are: loss,accuracy\n",
            "WARNING:tensorflow:Learning rate reduction is conditioned on metric `val_loss` which is not available. Available metrics are: loss,accuracy,lr\n"
          ]
        },
        {
          "output_type": "stream",
          "name": "stdout",
          "text": [
            "\b\b\b\b\b\b\b\b\b\b\b\b\b\b\b\b\b\b\b\b\b\b\b\b\b\b\b\b\b\b\b\b\b\b\b\b\b\b\b\b\b\b\b\b\b\b\b\b\b\b\b\b\b\b\b\b\b\b\b\b\b\b\b\b\b\b\b\b\b\b\b\b\b\b\b\b\b\b\b\b\b\b\b\b\b\b\b\b\r120/120 [==============================] - 1s 7ms/step - loss: 4.6724e-04 - accuracy: 1.0000 - lr: 3.0000e-05\n",
            "Epoch 104/200\n",
            "114/120 [===========================>..] - ETA: 0s - loss: 0.0014 - accuracy: 0.9997    "
          ]
        },
        {
          "output_type": "stream",
          "name": "stderr",
          "text": [
            "WARNING:tensorflow:Early stopping conditioned on metric `val_loss` which is not available. Available metrics are: loss,accuracy\n",
            "WARNING:tensorflow:Learning rate reduction is conditioned on metric `val_loss` which is not available. Available metrics are: loss,accuracy,lr\n"
          ]
        },
        {
          "output_type": "stream",
          "name": "stdout",
          "text": [
            "\b\b\b\b\b\b\b\b\b\b\b\b\b\b\b\b\b\b\b\b\b\b\b\b\b\b\b\b\b\b\b\b\b\b\b\b\b\b\b\b\b\b\b\b\b\b\b\b\b\b\b\b\b\b\b\b\b\b\b\b\b\b\b\b\b\b\b\b\b\b\b\b\b\b\b\b\b\b\b\b\b\b\b\b\r120/120 [==============================] - 1s 7ms/step - loss: 0.0014 - accuracy: 0.9997 - lr: 3.0000e-05\n",
            "Epoch 105/200\n",
            "116/120 [============================>.] - ETA: 0s - loss: 7.8288e-04 - accuracy: 1.0000"
          ]
        },
        {
          "output_type": "stream",
          "name": "stderr",
          "text": [
            "WARNING:tensorflow:Early stopping conditioned on metric `val_loss` which is not available. Available metrics are: loss,accuracy\n",
            "WARNING:tensorflow:Learning rate reduction is conditioned on metric `val_loss` which is not available. Available metrics are: loss,accuracy,lr\n"
          ]
        },
        {
          "output_type": "stream",
          "name": "stdout",
          "text": [
            "\b\b\b\b\b\b\b\b\b\b\b\b\b\b\b\b\b\b\b\b\b\b\b\b\b\b\b\b\b\b\b\b\b\b\b\b\b\b\b\b\b\b\b\b\b\b\b\b\b\b\b\b\b\b\b\b\b\b\b\b\b\b\b\b\b\b\b\b\b\b\b\b\b\b\b\b\b\b\b\b\b\b\b\b\b\b\b\b\r120/120 [==============================] - 1s 7ms/step - loss: 7.6344e-04 - accuracy: 1.0000 - lr: 3.0000e-05\n",
            "Epoch 106/200\n",
            "117/120 [============================>.] - ETA: 0s - loss: 5.0658e-04 - accuracy: 1.0000"
          ]
        },
        {
          "output_type": "stream",
          "name": "stderr",
          "text": [
            "WARNING:tensorflow:Early stopping conditioned on metric `val_loss` which is not available. Available metrics are: loss,accuracy\n",
            "WARNING:tensorflow:Learning rate reduction is conditioned on metric `val_loss` which is not available. Available metrics are: loss,accuracy,lr\n"
          ]
        },
        {
          "output_type": "stream",
          "name": "stdout",
          "text": [
            "\b\b\b\b\b\b\b\b\b\b\b\b\b\b\b\b\b\b\b\b\b\b\b\b\b\b\b\b\b\b\b\b\b\b\b\b\b\b\b\b\b\b\b\b\b\b\b\b\b\b\b\b\b\b\b\b\b\b\b\b\b\b\b\b\b\b\b\b\b\b\b\b\b\b\b\b\b\b\b\b\b\b\b\b\b\b\b\b\r120/120 [==============================] - 1s 7ms/step - loss: 5.8864e-04 - accuracy: 1.0000 - lr: 3.0000e-05\n",
            "Epoch 107/200\n",
            "118/120 [============================>.] - ETA: 0s - loss: 3.7444e-04 - accuracy: 1.0000"
          ]
        },
        {
          "output_type": "stream",
          "name": "stderr",
          "text": [
            "WARNING:tensorflow:Early stopping conditioned on metric `val_loss` which is not available. Available metrics are: loss,accuracy\n",
            "WARNING:tensorflow:Learning rate reduction is conditioned on metric `val_loss` which is not available. Available metrics are: loss,accuracy,lr\n"
          ]
        },
        {
          "output_type": "stream",
          "name": "stdout",
          "text": [
            "\b\b\b\b\b\b\b\b\b\b\b\b\b\b\b\b\b\b\b\b\b\b\b\b\b\b\b\b\b\b\b\b\b\b\b\b\b\b\b\b\b\b\b\b\b\b\b\b\b\b\b\b\b\b\b\b\b\b\b\b\b\b\b\b\b\b\b\b\b\b\b\b\b\b\b\b\b\b\b\b\b\b\b\b\b\b\b\b\r120/120 [==============================] - 1s 7ms/step - loss: 3.7528e-04 - accuracy: 1.0000 - lr: 3.0000e-05\n",
            "Epoch 108/200\n",
            "116/120 [============================>.] - ETA: 0s - loss: 5.2651e-04 - accuracy: 1.0000"
          ]
        },
        {
          "output_type": "stream",
          "name": "stderr",
          "text": [
            "WARNING:tensorflow:Early stopping conditioned on metric `val_loss` which is not available. Available metrics are: loss,accuracy\n",
            "WARNING:tensorflow:Learning rate reduction is conditioned on metric `val_loss` which is not available. Available metrics are: loss,accuracy,lr\n"
          ]
        },
        {
          "output_type": "stream",
          "name": "stdout",
          "text": [
            "\b\b\b\b\b\b\b\b\b\b\b\b\b\b\b\b\b\b\b\b\b\b\b\b\b\b\b\b\b\b\b\b\b\b\b\b\b\b\b\b\b\b\b\b\b\b\b\b\b\b\b\b\b\b\b\b\b\b\b\b\b\b\b\b\b\b\b\b\b\b\b\b\b\b\b\b\b\b\b\b\b\b\b\b\b\b\b\b\r120/120 [==============================] - 1s 7ms/step - loss: 5.1650e-04 - accuracy: 1.0000 - lr: 3.0000e-05\n",
            "Epoch 109/200\n",
            "119/120 [============================>.] - ETA: 0s - loss: 4.3833e-04 - accuracy: 1.0000"
          ]
        },
        {
          "output_type": "stream",
          "name": "stderr",
          "text": [
            "WARNING:tensorflow:Early stopping conditioned on metric `val_loss` which is not available. Available metrics are: loss,accuracy\n",
            "WARNING:tensorflow:Learning rate reduction is conditioned on metric `val_loss` which is not available. Available metrics are: loss,accuracy,lr\n"
          ]
        },
        {
          "output_type": "stream",
          "name": "stdout",
          "text": [
            "\b\b\b\b\b\b\b\b\b\b\b\b\b\b\b\b\b\b\b\b\b\b\b\b\b\b\b\b\b\b\b\b\b\b\b\b\b\b\b\b\b\b\b\b\b\b\b\b\b\b\b\b\b\b\b\b\b\b\b\b\b\b\b\b\b\b\b\b\b\b\b\b\b\b\b\b\b\b\b\b\b\b\b\b\b\b\b\b\r120/120 [==============================] - 1s 7ms/step - loss: 4.3707e-04 - accuracy: 1.0000 - lr: 3.0000e-05\n",
            "Epoch 110/200\n",
            "119/120 [============================>.] - ETA: 0s - loss: 3.0476e-04 - accuracy: 1.0000"
          ]
        },
        {
          "output_type": "stream",
          "name": "stderr",
          "text": [
            "WARNING:tensorflow:Early stopping conditioned on metric `val_loss` which is not available. Available metrics are: loss,accuracy\n",
            "WARNING:tensorflow:Learning rate reduction is conditioned on metric `val_loss` which is not available. Available metrics are: loss,accuracy,lr\n"
          ]
        },
        {
          "output_type": "stream",
          "name": "stdout",
          "text": [
            "\b\b\b\b\b\b\b\b\b\b\b\b\b\b\b\b\b\b\b\b\b\b\b\b\b\b\b\b\b\b\b\b\b\b\b\b\b\b\b\b\b\b\b\b\b\b\b\b\b\b\b\b\b\b\b\b\b\b\b\b\b\b\b\b\b\b\b\b\b\b\b\b\b\b\b\b\b\b\b\b\b\b\b\b\b\b\b\b\r120/120 [==============================] - 1s 7ms/step - loss: 3.0389e-04 - accuracy: 1.0000 - lr: 3.0000e-05\n",
            "Epoch 111/200\n",
            "119/120 [============================>.] - ETA: 0s - loss: 3.1733e-04 - accuracy: 1.0000"
          ]
        },
        {
          "output_type": "stream",
          "name": "stderr",
          "text": [
            "WARNING:tensorflow:Early stopping conditioned on metric `val_loss` which is not available. Available metrics are: loss,accuracy\n",
            "WARNING:tensorflow:Learning rate reduction is conditioned on metric `val_loss` which is not available. Available metrics are: loss,accuracy,lr\n"
          ]
        },
        {
          "output_type": "stream",
          "name": "stdout",
          "text": [
            "\b\b\b\b\b\b\b\b\b\b\b\b\b\b\b\b\b\b\b\b\b\b\b\b\b\b\b\b\b\b\b\b\b\b\b\b\b\b\b\b\b\b\b\b\b\b\b\b\b\b\b\b\b\b\b\b\b\b\b\b\b\b\b\b\b\b\b\b\b\b\b\b\b\b\b\b\b\b\b\b\b\b\b\b\b\b\b\b\r120/120 [==============================] - 1s 7ms/step - loss: 3.1642e-04 - accuracy: 1.0000 - lr: 3.0000e-05\n",
            "Epoch 112/200\n",
            "116/120 [============================>.] - ETA: 0s - loss: 3.5406e-04 - accuracy: 1.0000"
          ]
        },
        {
          "output_type": "stream",
          "name": "stderr",
          "text": [
            "WARNING:tensorflow:Early stopping conditioned on metric `val_loss` which is not available. Available metrics are: loss,accuracy\n",
            "WARNING:tensorflow:Learning rate reduction is conditioned on metric `val_loss` which is not available. Available metrics are: loss,accuracy,lr\n"
          ]
        },
        {
          "output_type": "stream",
          "name": "stdout",
          "text": [
            "\b\b\b\b\b\b\b\b\b\b\b\b\b\b\b\b\b\b\b\b\b\b\b\b\b\b\b\b\b\b\b\b\b\b\b\b\b\b\b\b\b\b\b\b\b\b\b\b\b\b\b\b\b\b\b\b\b\b\b\b\b\b\b\b\b\b\b\b\b\b\b\b\b\b\b\b\b\b\b\b\b\b\b\b\b\b\b\b\r120/120 [==============================] - 1s 7ms/step - loss: 3.5417e-04 - accuracy: 1.0000 - lr: 3.0000e-05\n",
            "Epoch 113/200\n",
            "116/120 [============================>.] - ETA: 0s - loss: 6.1736e-04 - accuracy: 1.0000"
          ]
        },
        {
          "output_type": "stream",
          "name": "stderr",
          "text": [
            "WARNING:tensorflow:Early stopping conditioned on metric `val_loss` which is not available. Available metrics are: loss,accuracy\n",
            "WARNING:tensorflow:Learning rate reduction is conditioned on metric `val_loss` which is not available. Available metrics are: loss,accuracy,lr\n"
          ]
        },
        {
          "output_type": "stream",
          "name": "stdout",
          "text": [
            "\b\b\b\b\b\b\b\b\b\b\b\b\b\b\b\b\b\b\b\b\b\b\b\b\b\b\b\b\b\b\b\b\b\b\b\b\b\b\b\b\b\b\b\b\b\b\b\b\b\b\b\b\b\b\b\b\b\b\b\b\b\b\b\b\b\b\b\b\b\b\b\b\b\b\b\b\b\b\b\b\b\b\b\b\b\b\b\b\r120/120 [==============================] - 1s 7ms/step - loss: 6.0076e-04 - accuracy: 1.0000 - lr: 3.0000e-05\n",
            "Epoch 114/200\n",
            "116/120 [============================>.] - ETA: 0s - loss: 4.2817e-04 - accuracy: 1.0000"
          ]
        },
        {
          "output_type": "stream",
          "name": "stderr",
          "text": [
            "WARNING:tensorflow:Early stopping conditioned on metric `val_loss` which is not available. Available metrics are: loss,accuracy\n",
            "WARNING:tensorflow:Learning rate reduction is conditioned on metric `val_loss` which is not available. Available metrics are: loss,accuracy,lr\n"
          ]
        },
        {
          "output_type": "stream",
          "name": "stdout",
          "text": [
            "\b\b\b\b\b\b\b\b\b\b\b\b\b\b\b\b\b\b\b\b\b\b\b\b\b\b\b\b\b\b\b\b\b\b\b\b\b\b\b\b\b\b\b\b\b\b\b\b\b\b\b\b\b\b\b\b\b\b\b\b\b\b\b\b\b\b\b\b\b\b\b\b\b\b\b\b\b\b\b\b\b\b\b\b\b\b\b\b\r120/120 [==============================] - 1s 7ms/step - loss: 4.3895e-04 - accuracy: 1.0000 - lr: 3.0000e-05\n",
            "Epoch 115/200\n",
            "116/120 [============================>.] - ETA: 0s - loss: 7.0096e-04 - accuracy: 0.9997"
          ]
        },
        {
          "output_type": "stream",
          "name": "stderr",
          "text": [
            "WARNING:tensorflow:Early stopping conditioned on metric `val_loss` which is not available. Available metrics are: loss,accuracy\n",
            "WARNING:tensorflow:Learning rate reduction is conditioned on metric `val_loss` which is not available. Available metrics are: loss,accuracy,lr\n"
          ]
        },
        {
          "output_type": "stream",
          "name": "stdout",
          "text": [
            "\b\b\b\b\b\b\b\b\b\b\b\b\b\b\b\b\b\b\b\b\b\b\b\b\b\b\b\b\b\b\b\b\b\b\b\b\b\b\b\b\b\b\b\b\b\b\b\b\b\b\b\b\b\b\b\b\b\b\b\b\b\b\b\b\b\b\b\b\b\b\b\b\b\b\b\b\b\b\b\b\b\b\b\b\b\b\b\b\r120/120 [==============================] - 1s 7ms/step - loss: 6.8372e-04 - accuracy: 0.9997 - lr: 3.0000e-05\n",
            "Epoch 116/200\n",
            "118/120 [============================>.] - ETA: 0s - loss: 7.5087e-04 - accuracy: 0.9997"
          ]
        },
        {
          "output_type": "stream",
          "name": "stderr",
          "text": [
            "WARNING:tensorflow:Early stopping conditioned on metric `val_loss` which is not available. Available metrics are: loss,accuracy\n",
            "WARNING:tensorflow:Learning rate reduction is conditioned on metric `val_loss` which is not available. Available metrics are: loss,accuracy,lr\n"
          ]
        },
        {
          "output_type": "stream",
          "name": "stdout",
          "text": [
            "\b\b\b\b\b\b\b\b\b\b\b\b\b\b\b\b\b\b\b\b\b\b\b\b\b\b\b\b\b\b\b\b\b\b\b\b\b\b\b\b\b\b\b\b\b\b\b\b\b\b\b\b\b\b\b\b\b\b\b\b\b\b\b\b\b\b\b\b\b\b\b\b\b\b\b\b\b\b\b\b\b\b\b\b\b\b\b\b\r120/120 [==============================] - 1s 7ms/step - loss: 7.4268e-04 - accuracy: 0.9997 - lr: 3.0000e-05\n",
            "Epoch 117/200\n",
            "119/120 [============================>.] - ETA: 0s - loss: 4.4131e-04 - accuracy: 1.0000"
          ]
        },
        {
          "output_type": "stream",
          "name": "stderr",
          "text": [
            "WARNING:tensorflow:Early stopping conditioned on metric `val_loss` which is not available. Available metrics are: loss,accuracy\n",
            "WARNING:tensorflow:Learning rate reduction is conditioned on metric `val_loss` which is not available. Available metrics are: loss,accuracy,lr\n"
          ]
        },
        {
          "output_type": "stream",
          "name": "stdout",
          "text": [
            "\b\b\b\b\b\b\b\b\b\b\b\b\b\b\b\b\b\b\b\b\b\b\b\b\b\b\b\b\b\b\b\b\b\b\b\b\b\b\b\b\b\b\b\b\b\b\b\b\b\b\b\b\b\b\b\b\b\b\b\b\b\b\b\b\b\b\b\b\b\b\b\b\b\b\b\b\b\b\b\b\b\b\b\b\b\b\b\b\r120/120 [==============================] - 1s 7ms/step - loss: 4.4005e-04 - accuracy: 1.0000 - lr: 3.0000e-05\n",
            "Epoch 118/200\n",
            "120/120 [==============================] - ETA: 0s - loss: 7.7941e-04 - accuracy: 0.9997"
          ]
        },
        {
          "output_type": "stream",
          "name": "stderr",
          "text": [
            "WARNING:tensorflow:Early stopping conditioned on metric `val_loss` which is not available. Available metrics are: loss,accuracy\n",
            "WARNING:tensorflow:Learning rate reduction is conditioned on metric `val_loss` which is not available. Available metrics are: loss,accuracy,lr\n"
          ]
        },
        {
          "output_type": "stream",
          "name": "stdout",
          "text": [
            "\b\b\b\b\b\b\b\b\b\b\b\b\b\b\b\b\b\b\b\b\b\b\b\b\b\b\b\b\b\b\b\b\b\b\b\b\b\b\b\b\b\b\b\b\b\b\b\b\b\b\b\b\b\b\b\b\b\b\b\b\b\b\b\b\b\b\b\b\b\b\b\b\b\b\b\b\b\b\b\b\b\b\b\b\b\b\b\b\r120/120 [==============================] - 1s 7ms/step - loss: 7.7941e-04 - accuracy: 0.9997 - lr: 3.0000e-05\n",
            "Epoch 119/200\n",
            "118/120 [============================>.] - ETA: 0s - loss: 6.0637e-04 - accuracy: 0.9997"
          ]
        },
        {
          "output_type": "stream",
          "name": "stderr",
          "text": [
            "WARNING:tensorflow:Early stopping conditioned on metric `val_loss` which is not available. Available metrics are: loss,accuracy\n",
            "WARNING:tensorflow:Learning rate reduction is conditioned on metric `val_loss` which is not available. Available metrics are: loss,accuracy,lr\n"
          ]
        },
        {
          "output_type": "stream",
          "name": "stdout",
          "text": [
            "\b\b\b\b\b\b\b\b\b\b\b\b\b\b\b\b\b\b\b\b\b\b\b\b\b\b\b\b\b\b\b\b\b\b\b\b\b\b\b\b\b\b\b\b\b\b\b\b\b\b\b\b\b\b\b\b\b\b\b\b\b\b\b\b\b\b\b\b\b\b\b\b\b\b\b\b\b\b\b\b\b\b\b\b\b\b\b\b\r120/120 [==============================] - 1s 7ms/step - loss: 6.0075e-04 - accuracy: 0.9997 - lr: 3.0000e-05\n",
            "Epoch 120/200\n",
            "116/120 [============================>.] - ETA: 0s - loss: 5.2656e-04 - accuracy: 1.0000"
          ]
        },
        {
          "output_type": "stream",
          "name": "stderr",
          "text": [
            "WARNING:tensorflow:Early stopping conditioned on metric `val_loss` which is not available. Available metrics are: loss,accuracy\n",
            "WARNING:tensorflow:Learning rate reduction is conditioned on metric `val_loss` which is not available. Available metrics are: loss,accuracy,lr\n"
          ]
        },
        {
          "output_type": "stream",
          "name": "stdout",
          "text": [
            "\b\b\b\b\b\b\b\b\b\b\b\b\b\b\b\b\b\b\b\b\b\b\b\b\b\b\b\b\b\b\b\b\b\b\b\b\b\b\b\b\b\b\b\b\b\b\b\b\b\b\b\b\b\b\b\b\b\b\b\b\b\b\b\b\b\b\b\b\b\b\b\b\b\b\b\b\b\b\b\b\b\b\b\b\b\b\b\b\r120/120 [==============================] - 1s 7ms/step - loss: 5.1480e-04 - accuracy: 1.0000 - lr: 3.0000e-05\n",
            "Epoch 121/200\n",
            "117/120 [============================>.] - ETA: 0s - loss: 4.3430e-04 - accuracy: 1.0000"
          ]
        },
        {
          "output_type": "stream",
          "name": "stderr",
          "text": [
            "WARNING:tensorflow:Early stopping conditioned on metric `val_loss` which is not available. Available metrics are: loss,accuracy\n",
            "WARNING:tensorflow:Learning rate reduction is conditioned on metric `val_loss` which is not available. Available metrics are: loss,accuracy,lr\n"
          ]
        },
        {
          "output_type": "stream",
          "name": "stdout",
          "text": [
            "\b\b\b\b\b\b\b\b\b\b\b\b\b\b\b\b\b\b\b\b\b\b\b\b\b\b\b\b\b\b\b\b\b\b\b\b\b\b\b\b\b\b\b\b\b\b\b\b\b\b\b\b\b\b\b\b\b\b\b\b\b\b\b\b\b\b\b\b\b\b\b\b\b\b\b\b\b\b\b\b\b\b\b\b\b\b\b\b\r120/120 [==============================] - 1s 7ms/step - loss: 4.3701e-04 - accuracy: 1.0000 - lr: 3.0000e-05\n",
            "Epoch 122/200\n",
            "113/120 [===========================>..] - ETA: 0s - loss: 2.6130e-04 - accuracy: 1.0000"
          ]
        },
        {
          "output_type": "stream",
          "name": "stderr",
          "text": [
            "WARNING:tensorflow:Early stopping conditioned on metric `val_loss` which is not available. Available metrics are: loss,accuracy\n",
            "WARNING:tensorflow:Learning rate reduction is conditioned on metric `val_loss` which is not available. Available metrics are: loss,accuracy,lr\n"
          ]
        },
        {
          "output_type": "stream",
          "name": "stdout",
          "text": [
            "\b\b\b\b\b\b\b\b\b\b\b\b\b\b\b\b\b\b\b\b\b\b\b\b\b\b\b\b\b\b\b\b\b\b\b\b\b\b\b\b\b\b\b\b\b\b\b\b\b\b\b\b\b\b\b\b\b\b\b\b\b\b\b\b\b\b\b\b\b\b\b\b\b\b\b\b\b\b\b\b\b\b\b\b\b\b\b\b\r120/120 [==============================] - 1s 7ms/step - loss: 2.5050e-04 - accuracy: 1.0000 - lr: 3.0000e-05\n",
            "Epoch 123/200\n",
            "116/120 [============================>.] - ETA: 0s - loss: 1.9730e-04 - accuracy: 1.0000"
          ]
        },
        {
          "output_type": "stream",
          "name": "stderr",
          "text": [
            "WARNING:tensorflow:Early stopping conditioned on metric `val_loss` which is not available. Available metrics are: loss,accuracy\n",
            "WARNING:tensorflow:Learning rate reduction is conditioned on metric `val_loss` which is not available. Available metrics are: loss,accuracy,lr\n"
          ]
        },
        {
          "output_type": "stream",
          "name": "stdout",
          "text": [
            "\b\b\b\b\b\b\b\b\b\b\b\b\b\b\b\b\b\b\b\b\b\b\b\b\b\b\b\b\b\b\b\b\b\b\b\b\b\b\b\b\b\b\b\b\b\b\b\b\b\b\b\b\b\b\b\b\b\b\b\b\b\b\b\b\b\b\b\b\b\b\b\b\b\b\b\b\b\b\b\b\b\b\b\b\b\b\b\b\r120/120 [==============================] - 1s 7ms/step - loss: 1.9589e-04 - accuracy: 1.0000 - lr: 3.0000e-05\n",
            "Epoch 124/200\n",
            "116/120 [============================>.] - ETA: 0s - loss: 1.9261e-04 - accuracy: 1.0000"
          ]
        },
        {
          "output_type": "stream",
          "name": "stderr",
          "text": [
            "WARNING:tensorflow:Early stopping conditioned on metric `val_loss` which is not available. Available metrics are: loss,accuracy\n",
            "WARNING:tensorflow:Learning rate reduction is conditioned on metric `val_loss` which is not available. Available metrics are: loss,accuracy,lr\n"
          ]
        },
        {
          "output_type": "stream",
          "name": "stdout",
          "text": [
            "\b\b\b\b\b\b\b\b\b\b\b\b\b\b\b\b\b\b\b\b\b\b\b\b\b\b\b\b\b\b\b\b\b\b\b\b\b\b\b\b\b\b\b\b\b\b\b\b\b\b\b\b\b\b\b\b\b\b\b\b\b\b\b\b\b\b\b\b\b\b\b\b\b\b\b\b\b\b\b\b\b\b\b\b\b\b\b\b\r120/120 [==============================] - 1s 7ms/step - loss: 1.8760e-04 - accuracy: 1.0000 - lr: 3.0000e-05\n",
            "Epoch 125/200\n",
            "116/120 [============================>.] - ETA: 0s - loss: 3.5200e-04 - accuracy: 1.0000"
          ]
        },
        {
          "output_type": "stream",
          "name": "stderr",
          "text": [
            "WARNING:tensorflow:Early stopping conditioned on metric `val_loss` which is not available. Available metrics are: loss,accuracy\n",
            "WARNING:tensorflow:Learning rate reduction is conditioned on metric `val_loss` which is not available. Available metrics are: loss,accuracy,lr\n"
          ]
        },
        {
          "output_type": "stream",
          "name": "stdout",
          "text": [
            "\b\b\b\b\b\b\b\b\b\b\b\b\b\b\b\b\b\b\b\b\b\b\b\b\b\b\b\b\b\b\b\b\b\b\b\b\b\b\b\b\b\b\b\b\b\b\b\b\b\b\b\b\b\b\b\b\b\b\b\b\b\b\b\b\b\b\b\b\b\b\b\b\b\b\b\b\b\b\b\b\b\b\b\b\b\b\b\b\r120/120 [==============================] - 1s 7ms/step - loss: 3.4539e-04 - accuracy: 1.0000 - lr: 3.0000e-05\n",
            "Epoch 126/200\n",
            "115/120 [===========================>..] - ETA: 0s - loss: 3.0418e-04 - accuracy: 1.0000"
          ]
        },
        {
          "output_type": "stream",
          "name": "stderr",
          "text": [
            "WARNING:tensorflow:Early stopping conditioned on metric `val_loss` which is not available. Available metrics are: loss,accuracy\n",
            "WARNING:tensorflow:Learning rate reduction is conditioned on metric `val_loss` which is not available. Available metrics are: loss,accuracy,lr\n"
          ]
        },
        {
          "output_type": "stream",
          "name": "stdout",
          "text": [
            "\b\b\b\b\b\b\b\b\b\b\b\b\b\b\b\b\b\b\b\b\b\b\b\b\b\b\b\b\b\b\b\b\b\b\b\b\b\b\b\b\b\b\b\b\b\b\b\b\b\b\b\b\b\b\b\b\b\b\b\b\b\b\b\b\b\b\b\b\b\b\b\b\b\b\b\b\b\b\b\b\b\b\b\b\b\b\b\b\r120/120 [==============================] - 1s 7ms/step - loss: 3.0190e-04 - accuracy: 1.0000 - lr: 3.0000e-05\n",
            "Epoch 127/200\n",
            "115/120 [===========================>..] - ETA: 0s - loss: 2.0482e-04 - accuracy: 1.0000"
          ]
        },
        {
          "output_type": "stream",
          "name": "stderr",
          "text": [
            "WARNING:tensorflow:Early stopping conditioned on metric `val_loss` which is not available. Available metrics are: loss,accuracy\n",
            "WARNING:tensorflow:Learning rate reduction is conditioned on metric `val_loss` which is not available. Available metrics are: loss,accuracy,lr\n"
          ]
        },
        {
          "output_type": "stream",
          "name": "stdout",
          "text": [
            "\b\b\b\b\b\b\b\b\b\b\b\b\b\b\b\b\b\b\b\b\b\b\b\b\b\b\b\b\b\b\b\b\b\b\b\b\b\b\b\b\b\b\b\b\b\b\b\b\b\b\b\b\b\b\b\b\b\b\b\b\b\b\b\b\b\b\b\b\b\b\b\b\b\b\b\b\b\b\b\b\b\b\b\b\b\b\b\b\r120/120 [==============================] - 1s 7ms/step - loss: 1.9926e-04 - accuracy: 1.0000 - lr: 3.0000e-05\n",
            "Epoch 128/200\n",
            "116/120 [============================>.] - ETA: 0s - loss: 5.0912e-04 - accuracy: 0.9997"
          ]
        },
        {
          "output_type": "stream",
          "name": "stderr",
          "text": [
            "WARNING:tensorflow:Early stopping conditioned on metric `val_loss` which is not available. Available metrics are: loss,accuracy\n",
            "WARNING:tensorflow:Learning rate reduction is conditioned on metric `val_loss` which is not available. Available metrics are: loss,accuracy,lr\n"
          ]
        },
        {
          "output_type": "stream",
          "name": "stdout",
          "text": [
            "\b\b\b\b\b\b\b\b\b\b\b\b\b\b\b\b\b\b\b\b\b\b\b\b\b\b\b\b\b\b\b\b\b\b\b\b\b\b\b\b\b\b\b\b\b\b\b\b\b\b\b\b\b\b\b\b\b\b\b\b\b\b\b\b\b\b\b\b\b\b\b\b\b\b\b\b\b\b\b\b\b\b\b\b\b\b\b\b\r120/120 [==============================] - 1s 7ms/step - loss: 5.0613e-04 - accuracy: 0.9997 - lr: 3.0000e-05\n",
            "Epoch 129/200\n",
            "117/120 [============================>.] - ETA: 0s - loss: 4.3083e-04 - accuracy: 0.9997"
          ]
        },
        {
          "output_type": "stream",
          "name": "stderr",
          "text": [
            "WARNING:tensorflow:Early stopping conditioned on metric `val_loss` which is not available. Available metrics are: loss,accuracy\n",
            "WARNING:tensorflow:Learning rate reduction is conditioned on metric `val_loss` which is not available. Available metrics are: loss,accuracy,lr\n"
          ]
        },
        {
          "output_type": "stream",
          "name": "stdout",
          "text": [
            "\b\b\b\b\b\b\b\b\b\b\b\b\b\b\b\b\b\b\b\b\b\b\b\b\b\b\b\b\b\b\b\b\b\b\b\b\b\b\b\b\b\b\b\b\b\b\b\b\b\b\b\b\b\b\b\b\b\b\b\b\b\b\b\b\b\b\b\b\b\b\b\b\b\b\b\b\b\b\b\b\b\b\b\b\b\b\b\b\r120/120 [==============================] - 1s 7ms/step - loss: 4.2276e-04 - accuracy: 0.9997 - lr: 3.0000e-05\n",
            "Epoch 130/200\n",
            "114/120 [===========================>..] - ETA: 0s - loss: 1.4681e-04 - accuracy: 1.0000"
          ]
        },
        {
          "output_type": "stream",
          "name": "stderr",
          "text": [
            "WARNING:tensorflow:Early stopping conditioned on metric `val_loss` which is not available. Available metrics are: loss,accuracy\n",
            "WARNING:tensorflow:Learning rate reduction is conditioned on metric `val_loss` which is not available. Available metrics are: loss,accuracy,lr\n"
          ]
        },
        {
          "output_type": "stream",
          "name": "stdout",
          "text": [
            "\b\b\b\b\b\b\b\b\b\b\b\b\b\b\b\b\b\b\b\b\b\b\b\b\b\b\b\b\b\b\b\b\b\b\b\b\b\b\b\b\b\b\b\b\b\b\b\b\b\b\b\b\b\b\b\b\b\b\b\b\b\b\b\b\b\b\b\b\b\b\b\b\b\b\b\b\b\b\b\b\b\b\b\b\b\b\b\b\r120/120 [==============================] - 1s 7ms/step - loss: 1.4206e-04 - accuracy: 1.0000 - lr: 3.0000e-05\n",
            "Epoch 131/200\n",
            "115/120 [===========================>..] - ETA: 0s - loss: 1.7832e-04 - accuracy: 1.0000"
          ]
        },
        {
          "output_type": "stream",
          "name": "stderr",
          "text": [
            "WARNING:tensorflow:Early stopping conditioned on metric `val_loss` which is not available. Available metrics are: loss,accuracy\n",
            "WARNING:tensorflow:Learning rate reduction is conditioned on metric `val_loss` which is not available. Available metrics are: loss,accuracy,lr\n"
          ]
        },
        {
          "output_type": "stream",
          "name": "stdout",
          "text": [
            "\b\b\b\b\b\b\b\b\b\b\b\b\b\b\b\b\b\b\b\b\b\b\b\b\b\b\b\b\b\b\b\b\b\b\b\b\b\b\b\b\b\b\b\b\b\b\b\b\b\b\b\b\b\b\b\b\b\b\b\b\b\b\b\b\b\b\b\b\b\b\b\b\b\b\b\b\b\b\b\b\b\b\b\b\b\b\b\b\r120/120 [==============================] - 1s 7ms/step - loss: 1.9082e-04 - accuracy: 1.0000 - lr: 3.0000e-05\n",
            "Epoch 132/200\n",
            "114/120 [===========================>..] - ETA: 0s - loss: 3.5528e-04 - accuracy: 1.0000"
          ]
        },
        {
          "output_type": "stream",
          "name": "stderr",
          "text": [
            "WARNING:tensorflow:Early stopping conditioned on metric `val_loss` which is not available. Available metrics are: loss,accuracy\n",
            "WARNING:tensorflow:Learning rate reduction is conditioned on metric `val_loss` which is not available. Available metrics are: loss,accuracy,lr\n"
          ]
        },
        {
          "output_type": "stream",
          "name": "stdout",
          "text": [
            "\b\b\b\b\b\b\b\b\b\b\b\b\b\b\b\b\b\b\b\b\b\b\b\b\b\b\b\b\b\b\b\b\b\b\b\b\b\b\b\b\b\b\b\b\b\b\b\b\b\b\b\b\b\b\b\b\b\b\b\b\b\b\b\b\b\b\b\b\b\b\b\b\b\b\b\b\b\b\b\b\b\b\b\b\b\b\b\b\r120/120 [==============================] - 1s 7ms/step - loss: 3.4186e-04 - accuracy: 1.0000 - lr: 3.0000e-05\n",
            "Epoch 133/200\n",
            "115/120 [===========================>..] - ETA: 0s - loss: 2.3179e-04 - accuracy: 1.0000"
          ]
        },
        {
          "output_type": "stream",
          "name": "stderr",
          "text": [
            "WARNING:tensorflow:Early stopping conditioned on metric `val_loss` which is not available. Available metrics are: loss,accuracy\n",
            "WARNING:tensorflow:Learning rate reduction is conditioned on metric `val_loss` which is not available. Available metrics are: loss,accuracy,lr\n"
          ]
        },
        {
          "output_type": "stream",
          "name": "stdout",
          "text": [
            "\b\b\b\b\b\b\b\b\b\b\b\b\b\b\b\b\b\b\b\b\b\b\b\b\b\b\b\b\b\b\b\b\b\b\b\b\b\b\b\b\b\b\b\b\b\b\b\b\b\b\b\b\b\b\b\b\b\b\b\b\b\b\b\b\b\b\b\b\b\b\b\b\b\b\b\b\b\b\b\b\b\b\b\b\b\b\b\b\r120/120 [==============================] - 1s 7ms/step - loss: 2.2788e-04 - accuracy: 1.0000 - lr: 3.0000e-05\n",
            "Epoch 134/200\n",
            "114/120 [===========================>..] - ETA: 0s - loss: 7.0986e-04 - accuracy: 0.9997"
          ]
        },
        {
          "output_type": "stream",
          "name": "stderr",
          "text": [
            "WARNING:tensorflow:Early stopping conditioned on metric `val_loss` which is not available. Available metrics are: loss,accuracy\n",
            "WARNING:tensorflow:Learning rate reduction is conditioned on metric `val_loss` which is not available. Available metrics are: loss,accuracy,lr\n"
          ]
        },
        {
          "output_type": "stream",
          "name": "stdout",
          "text": [
            "\b\b\b\b\b\b\b\b\b\b\b\b\b\b\b\b\b\b\b\b\b\b\b\b\b\b\b\b\b\b\b\b\b\b\b\b\b\b\b\b\b\b\b\b\b\b\b\b\b\b\b\b\b\b\b\b\b\b\b\b\b\b\b\b\b\b\b\b\b\b\b\b\b\b\b\b\b\b\b\b\b\b\b\b\b\b\b\b\r120/120 [==============================] - 1s 7ms/step - loss: 6.8804e-04 - accuracy: 0.9997 - lr: 3.0000e-05\n",
            "Epoch 135/200\n",
            "115/120 [===========================>..] - ETA: 0s - loss: 1.1039e-04 - accuracy: 1.0000"
          ]
        },
        {
          "output_type": "stream",
          "name": "stderr",
          "text": [
            "WARNING:tensorflow:Early stopping conditioned on metric `val_loss` which is not available. Available metrics are: loss,accuracy\n",
            "WARNING:tensorflow:Learning rate reduction is conditioned on metric `val_loss` which is not available. Available metrics are: loss,accuracy,lr\n"
          ]
        },
        {
          "output_type": "stream",
          "name": "stdout",
          "text": [
            "\b\b\b\b\b\b\b\b\b\b\b\b\b\b\b\b\b\b\b\b\b\b\b\b\b\b\b\b\b\b\b\b\b\b\b\b\b\b\b\b\b\b\b\b\b\b\b\b\b\b\b\b\b\b\b\b\b\b\b\b\b\b\b\b\b\b\b\b\b\b\b\b\b\b\b\b\b\b\b\b\b\b\b\b\b\b\b\b\r120/120 [==============================] - 1s 7ms/step - loss: 1.1485e-04 - accuracy: 1.0000 - lr: 3.0000e-05\n",
            "Epoch 136/200\n",
            "117/120 [============================>.] - ETA: 0s - loss: 1.3675e-04 - accuracy: 1.0000"
          ]
        },
        {
          "output_type": "stream",
          "name": "stderr",
          "text": [
            "WARNING:tensorflow:Early stopping conditioned on metric `val_loss` which is not available. Available metrics are: loss,accuracy\n",
            "WARNING:tensorflow:Learning rate reduction is conditioned on metric `val_loss` which is not available. Available metrics are: loss,accuracy,lr\n"
          ]
        },
        {
          "output_type": "stream",
          "name": "stdout",
          "text": [
            "\b\b\b\b\b\b\b\b\b\b\b\b\b\b\b\b\b\b\b\b\b\b\b\b\b\b\b\b\b\b\b\b\b\b\b\b\b\b\b\b\b\b\b\b\b\b\b\b\b\b\b\b\b\b\b\b\b\b\b\b\b\b\b\b\b\b\b\b\b\b\b\b\b\b\b\b\b\b\b\b\b\b\b\b\b\b\b\b\r120/120 [==============================] - 1s 7ms/step - loss: 1.3556e-04 - accuracy: 1.0000 - lr: 3.0000e-05\n",
            "Epoch 137/200\n",
            "119/120 [============================>.] - ETA: 0s - loss: 3.5693e-04 - accuracy: 0.9997"
          ]
        },
        {
          "output_type": "stream",
          "name": "stderr",
          "text": [
            "WARNING:tensorflow:Early stopping conditioned on metric `val_loss` which is not available. Available metrics are: loss,accuracy\n",
            "WARNING:tensorflow:Learning rate reduction is conditioned on metric `val_loss` which is not available. Available metrics are: loss,accuracy,lr\n"
          ]
        },
        {
          "output_type": "stream",
          "name": "stdout",
          "text": [
            "\b\b\b\b\b\b\b\b\b\b\b\b\b\b\b\b\b\b\b\b\b\b\b\b\b\b\b\b\b\b\b\b\b\b\b\b\b\b\b\b\b\b\b\b\b\b\b\b\b\b\b\b\b\b\b\b\b\b\b\b\b\b\b\b\b\b\b\b\b\b\b\b\b\b\b\b\b\b\b\b\b\b\b\b\b\b\b\b\r120/120 [==============================] - 1s 7ms/step - loss: 3.5590e-04 - accuracy: 0.9997 - lr: 3.0000e-05\n",
            "Epoch 138/200\n",
            "115/120 [===========================>..] - ETA: 0s - loss: 1.3697e-04 - accuracy: 1.0000"
          ]
        },
        {
          "output_type": "stream",
          "name": "stderr",
          "text": [
            "WARNING:tensorflow:Early stopping conditioned on metric `val_loss` which is not available. Available metrics are: loss,accuracy\n",
            "WARNING:tensorflow:Learning rate reduction is conditioned on metric `val_loss` which is not available. Available metrics are: loss,accuracy,lr\n"
          ]
        },
        {
          "output_type": "stream",
          "name": "stdout",
          "text": [
            "\b\b\b\b\b\b\b\b\b\b\b\b\b\b\b\b\b\b\b\b\b\b\b\b\b\b\b\b\b\b\b\b\b\b\b\b\b\b\b\b\b\b\b\b\b\b\b\b\b\b\b\b\b\b\b\b\b\b\b\b\b\b\b\b\b\b\b\b\b\b\b\b\b\b\b\b\b\b\b\b\b\b\b\b\b\b\b\b\r120/120 [==============================] - 1s 7ms/step - loss: 1.4072e-04 - accuracy: 1.0000 - lr: 3.0000e-05\n",
            "Epoch 139/200\n",
            "117/120 [============================>.] - ETA: 0s - loss: 3.7455e-04 - accuracy: 1.0000"
          ]
        },
        {
          "output_type": "stream",
          "name": "stderr",
          "text": [
            "WARNING:tensorflow:Early stopping conditioned on metric `val_loss` which is not available. Available metrics are: loss,accuracy\n",
            "WARNING:tensorflow:Learning rate reduction is conditioned on metric `val_loss` which is not available. Available metrics are: loss,accuracy,lr\n"
          ]
        },
        {
          "output_type": "stream",
          "name": "stdout",
          "text": [
            "\b\b\b\b\b\b\b\b\b\b\b\b\b\b\b\b\b\b\b\b\b\b\b\b\b\b\b\b\b\b\b\b\b\b\b\b\b\b\b\b\b\b\b\b\b\b\b\b\b\b\b\b\b\b\b\b\b\b\b\b\b\b\b\b\b\b\b\b\b\b\b\b\b\b\b\b\b\b\b\b\b\b\b\b\b\b\b\b\r120/120 [==============================] - 1s 7ms/step - loss: 3.7928e-04 - accuracy: 1.0000 - lr: 3.0000e-05\n",
            "Epoch 140/200\n",
            "113/120 [===========================>..] - ETA: 0s - loss: 3.2998e-04 - accuracy: 1.0000"
          ]
        },
        {
          "output_type": "stream",
          "name": "stderr",
          "text": [
            "WARNING:tensorflow:Early stopping conditioned on metric `val_loss` which is not available. Available metrics are: loss,accuracy\n",
            "WARNING:tensorflow:Learning rate reduction is conditioned on metric `val_loss` which is not available. Available metrics are: loss,accuracy,lr\n"
          ]
        },
        {
          "output_type": "stream",
          "name": "stdout",
          "text": [
            "\b\b\b\b\b\b\b\b\b\b\b\b\b\b\b\b\b\b\b\b\b\b\b\b\b\b\b\b\b\b\b\b\b\b\b\b\b\b\b\b\b\b\b\b\b\b\b\b\b\b\b\b\b\b\b\b\b\b\b\b\b\b\b\b\b\b\b\b\b\b\b\b\b\b\b\b\b\b\b\b\b\b\b\b\b\b\b\b\r120/120 [==============================] - 1s 7ms/step - loss: 3.3578e-04 - accuracy: 1.0000 - lr: 3.0000e-05\n",
            "Epoch 141/200\n",
            "116/120 [============================>.] - ETA: 0s - loss: 8.2044e-05 - accuracy: 1.0000"
          ]
        },
        {
          "output_type": "stream",
          "name": "stderr",
          "text": [
            "WARNING:tensorflow:Early stopping conditioned on metric `val_loss` which is not available. Available metrics are: loss,accuracy\n",
            "WARNING:tensorflow:Learning rate reduction is conditioned on metric `val_loss` which is not available. Available metrics are: loss,accuracy,lr\n"
          ]
        },
        {
          "output_type": "stream",
          "name": "stdout",
          "text": [
            "\b\b\b\b\b\b\b\b\b\b\b\b\b\b\b\b\b\b\b\b\b\b\b\b\b\b\b\b\b\b\b\b\b\b\b\b\b\b\b\b\b\b\b\b\b\b\b\b\b\b\b\b\b\b\b\b\b\b\b\b\b\b\b\b\b\b\b\b\b\b\b\b\b\b\b\b\b\b\b\b\b\b\b\b\b\b\b\b\r120/120 [==============================] - 1s 7ms/step - loss: 8.0420e-05 - accuracy: 1.0000 - lr: 3.0000e-05\n",
            "Epoch 142/200\n",
            "116/120 [============================>.] - ETA: 0s - loss: 3.5287e-04 - accuracy: 1.0000"
          ]
        },
        {
          "output_type": "stream",
          "name": "stderr",
          "text": [
            "WARNING:tensorflow:Early stopping conditioned on metric `val_loss` which is not available. Available metrics are: loss,accuracy\n",
            "WARNING:tensorflow:Learning rate reduction is conditioned on metric `val_loss` which is not available. Available metrics are: loss,accuracy,lr\n"
          ]
        },
        {
          "output_type": "stream",
          "name": "stdout",
          "text": [
            "\b\b\b\b\b\b\b\b\b\b\b\b\b\b\b\b\b\b\b\b\b\b\b\b\b\b\b\b\b\b\b\b\b\b\b\b\b\b\b\b\b\b\b\b\b\b\b\b\b\b\b\b\b\b\b\b\b\b\b\b\b\b\b\b\b\b\b\b\b\b\b\b\b\b\b\b\b\b\b\b\b\b\b\b\b\b\b\b\r120/120 [==============================] - 1s 7ms/step - loss: 3.4304e-04 - accuracy: 1.0000 - lr: 3.0000e-05\n",
            "Epoch 143/200\n",
            "114/120 [===========================>..] - ETA: 0s - loss: 9.3635e-05 - accuracy: 1.0000"
          ]
        },
        {
          "output_type": "stream",
          "name": "stderr",
          "text": [
            "WARNING:tensorflow:Early stopping conditioned on metric `val_loss` which is not available. Available metrics are: loss,accuracy\n",
            "WARNING:tensorflow:Learning rate reduction is conditioned on metric `val_loss` which is not available. Available metrics are: loss,accuracy,lr\n"
          ]
        },
        {
          "output_type": "stream",
          "name": "stdout",
          "text": [
            "\b\b\b\b\b\b\b\b\b\b\b\b\b\b\b\b\b\b\b\b\b\b\b\b\b\b\b\b\b\b\b\b\b\b\b\b\b\b\b\b\b\b\b\b\b\b\b\b\b\b\b\b\b\b\b\b\b\b\b\b\b\b\b\b\b\b\b\b\b\b\b\b\b\b\b\b\b\b\b\b\b\b\b\b\b\b\b\b\r120/120 [==============================] - 1s 7ms/step - loss: 9.0763e-05 - accuracy: 1.0000 - lr: 3.0000e-05\n",
            "Epoch 144/200\n",
            "116/120 [============================>.] - ETA: 0s - loss: 1.2880e-04 - accuracy: 1.0000"
          ]
        },
        {
          "output_type": "stream",
          "name": "stderr",
          "text": [
            "WARNING:tensorflow:Early stopping conditioned on metric `val_loss` which is not available. Available metrics are: loss,accuracy\n",
            "WARNING:tensorflow:Learning rate reduction is conditioned on metric `val_loss` which is not available. Available metrics are: loss,accuracy,lr\n"
          ]
        },
        {
          "output_type": "stream",
          "name": "stdout",
          "text": [
            "\b\b\b\b\b\b\b\b\b\b\b\b\b\b\b\b\b\b\b\b\b\b\b\b\b\b\b\b\b\b\b\b\b\b\b\b\b\b\b\b\b\b\b\b\b\b\b\b\b\b\b\b\b\b\b\b\b\b\b\b\b\b\b\b\b\b\b\b\b\b\b\b\b\b\b\b\b\b\b\b\b\b\b\b\b\b\b\b\r120/120 [==============================] - 1s 7ms/step - loss: 1.2790e-04 - accuracy: 1.0000 - lr: 3.0000e-05\n",
            "Epoch 145/200\n",
            "117/120 [============================>.] - ETA: 0s - loss: 2.2574e-04 - accuracy: 1.0000"
          ]
        },
        {
          "output_type": "stream",
          "name": "stderr",
          "text": [
            "WARNING:tensorflow:Early stopping conditioned on metric `val_loss` which is not available. Available metrics are: loss,accuracy\n",
            "WARNING:tensorflow:Learning rate reduction is conditioned on metric `val_loss` which is not available. Available metrics are: loss,accuracy,lr\n"
          ]
        },
        {
          "output_type": "stream",
          "name": "stdout",
          "text": [
            "\b\b\b\b\b\b\b\b\b\b\b\b\b\b\b\b\b\b\b\b\b\b\b\b\b\b\b\b\b\b\b\b\b\b\b\b\b\b\b\b\b\b\b\b\b\b\b\b\b\b\b\b\b\b\b\b\b\b\b\b\b\b\b\b\b\b\b\b\b\b\b\b\b\b\b\b\b\b\b\b\b\b\b\b\b\b\b\b\r120/120 [==============================] - 1s 7ms/step - loss: 2.2197e-04 - accuracy: 1.0000 - lr: 3.0000e-05\n",
            "Epoch 146/200\n",
            "114/120 [===========================>..] - ETA: 0s - loss: 5.4507e-05 - accuracy: 1.0000"
          ]
        },
        {
          "output_type": "stream",
          "name": "stderr",
          "text": [
            "WARNING:tensorflow:Early stopping conditioned on metric `val_loss` which is not available. Available metrics are: loss,accuracy\n",
            "WARNING:tensorflow:Learning rate reduction is conditioned on metric `val_loss` which is not available. Available metrics are: loss,accuracy,lr\n"
          ]
        },
        {
          "output_type": "stream",
          "name": "stdout",
          "text": [
            "\b\b\b\b\b\b\b\b\b\b\b\b\b\b\b\b\b\b\b\b\b\b\b\b\b\b\b\b\b\b\b\b\b\b\b\b\b\b\b\b\b\b\b\b\b\b\b\b\b\b\b\b\b\b\b\b\b\b\b\b\b\b\b\b\b\b\b\b\b\b\b\b\b\b\b\b\b\b\b\b\b\b\b\b\b\b\b\b\r120/120 [==============================] - 1s 7ms/step - loss: 5.3807e-05 - accuracy: 1.0000 - lr: 3.0000e-05\n",
            "Epoch 147/200\n",
            "114/120 [===========================>..] - ETA: 0s - loss: 7.4391e-05 - accuracy: 1.0000"
          ]
        },
        {
          "output_type": "stream",
          "name": "stderr",
          "text": [
            "WARNING:tensorflow:Early stopping conditioned on metric `val_loss` which is not available. Available metrics are: loss,accuracy\n",
            "WARNING:tensorflow:Learning rate reduction is conditioned on metric `val_loss` which is not available. Available metrics are: loss,accuracy,lr\n"
          ]
        },
        {
          "output_type": "stream",
          "name": "stdout",
          "text": [
            "\b\b\b\b\b\b\b\b\b\b\b\b\b\b\b\b\b\b\b\b\b\b\b\b\b\b\b\b\b\b\b\b\b\b\b\b\b\b\b\b\b\b\b\b\b\b\b\b\b\b\b\b\b\b\b\b\b\b\b\b\b\b\b\b\b\b\b\b\b\b\b\b\b\b\b\b\b\b\b\b\b\b\b\b\b\b\b\b\r120/120 [==============================] - 1s 7ms/step - loss: 8.0948e-05 - accuracy: 1.0000 - lr: 3.0000e-05\n",
            "Epoch 148/200\n",
            "114/120 [===========================>..] - ETA: 0s - loss: 1.5539e-04 - accuracy: 1.0000"
          ]
        },
        {
          "output_type": "stream",
          "name": "stderr",
          "text": [
            "WARNING:tensorflow:Early stopping conditioned on metric `val_loss` which is not available. Available metrics are: loss,accuracy\n",
            "WARNING:tensorflow:Learning rate reduction is conditioned on metric `val_loss` which is not available. Available metrics are: loss,accuracy,lr\n"
          ]
        },
        {
          "output_type": "stream",
          "name": "stdout",
          "text": [
            "\b\b\b\b\b\b\b\b\b\b\b\b\b\b\b\b\b\b\b\b\b\b\b\b\b\b\b\b\b\b\b\b\b\b\b\b\b\b\b\b\b\b\b\b\b\b\b\b\b\b\b\b\b\b\b\b\b\b\b\b\b\b\b\b\b\b\b\b\b\b\b\b\b\b\b\b\b\b\b\b\b\b\b\b\b\b\b\b\r120/120 [==============================] - 1s 7ms/step - loss: 1.4867e-04 - accuracy: 1.0000 - lr: 3.0000e-05\n",
            "Epoch 149/200\n",
            "117/120 [============================>.] - ETA: 0s - loss: 5.7008e-04 - accuracy: 0.9997"
          ]
        },
        {
          "output_type": "stream",
          "name": "stderr",
          "text": [
            "WARNING:tensorflow:Early stopping conditioned on metric `val_loss` which is not available. Available metrics are: loss,accuracy\n",
            "WARNING:tensorflow:Learning rate reduction is conditioned on metric `val_loss` which is not available. Available metrics are: loss,accuracy,lr\n"
          ]
        },
        {
          "output_type": "stream",
          "name": "stdout",
          "text": [
            "\b\b\b\b\b\b\b\b\b\b\b\b\b\b\b\b\b\b\b\b\b\b\b\b\b\b\b\b\b\b\b\b\b\b\b\b\b\b\b\b\b\b\b\b\b\b\b\b\b\b\b\b\b\b\b\b\b\b\b\b\b\b\b\b\b\b\b\b\b\b\b\b\b\b\b\b\b\b\b\b\b\b\b\b\b\b\b\b\r120/120 [==============================] - 1s 7ms/step - loss: 5.6593e-04 - accuracy: 0.9997 - lr: 3.0000e-05\n",
            "Epoch 150/200\n",
            "116/120 [============================>.] - ETA: 0s - loss: 4.2414e-04 - accuracy: 1.0000"
          ]
        },
        {
          "output_type": "stream",
          "name": "stderr",
          "text": [
            "WARNING:tensorflow:Early stopping conditioned on metric `val_loss` which is not available. Available metrics are: loss,accuracy\n",
            "WARNING:tensorflow:Learning rate reduction is conditioned on metric `val_loss` which is not available. Available metrics are: loss,accuracy,lr\n"
          ]
        },
        {
          "output_type": "stream",
          "name": "stdout",
          "text": [
            "\b\b\b\b\b\b\b\b\b\b\b\b\b\b\b\b\b\b\b\b\b\b\b\b\b\b\b\b\b\b\b\b\b\b\b\b\b\b\b\b\b\b\b\b\b\b\b\b\b\b\b\b\b\b\b\b\b\b\b\b\b\b\b\b\b\b\b\b\b\b\b\b\b\b\b\b\b\b\b\b\b\b\b\b\b\b\b\b\r120/120 [==============================] - 1s 7ms/step - loss: 4.1284e-04 - accuracy: 1.0000 - lr: 3.0000e-05\n",
            "Epoch 151/200\n",
            "116/120 [============================>.] - ETA: 0s - loss: 1.2705e-04 - accuracy: 1.0000"
          ]
        },
        {
          "output_type": "stream",
          "name": "stderr",
          "text": [
            "WARNING:tensorflow:Early stopping conditioned on metric `val_loss` which is not available. Available metrics are: loss,accuracy\n",
            "WARNING:tensorflow:Learning rate reduction is conditioned on metric `val_loss` which is not available. Available metrics are: loss,accuracy,lr\n"
          ]
        },
        {
          "output_type": "stream",
          "name": "stdout",
          "text": [
            "\b\b\b\b\b\b\b\b\b\b\b\b\b\b\b\b\b\b\b\b\b\b\b\b\b\b\b\b\b\b\b\b\b\b\b\b\b\b\b\b\b\b\b\b\b\b\b\b\b\b\b\b\b\b\b\b\b\b\b\b\b\b\b\b\b\b\b\b\b\b\b\b\b\b\b\b\b\b\b\b\b\b\b\b\b\b\b\b\r120/120 [==============================] - 1s 7ms/step - loss: 1.2563e-04 - accuracy: 1.0000 - lr: 3.0000e-05\n",
            "Epoch 152/200\n",
            "114/120 [===========================>..] - ETA: 0s - loss: 4.3548e-04 - accuracy: 0.9997"
          ]
        },
        {
          "output_type": "stream",
          "name": "stderr",
          "text": [
            "WARNING:tensorflow:Early stopping conditioned on metric `val_loss` which is not available. Available metrics are: loss,accuracy\n",
            "WARNING:tensorflow:Learning rate reduction is conditioned on metric `val_loss` which is not available. Available metrics are: loss,accuracy,lr\n"
          ]
        },
        {
          "output_type": "stream",
          "name": "stdout",
          "text": [
            "\b\b\b\b\b\b\b\b\b\b\b\b\b\b\b\b\b\b\b\b\b\b\b\b\b\b\b\b\b\b\b\b\b\b\b\b\b\b\b\b\b\b\b\b\b\b\b\b\b\b\b\b\b\b\b\b\b\b\b\b\b\b\b\b\b\b\b\b\b\b\b\b\b\b\b\b\b\b\b\b\b\b\b\b\b\b\b\b\r120/120 [==============================] - 1s 7ms/step - loss: 4.1680e-04 - accuracy: 0.9997 - lr: 3.0000e-05\n",
            "Epoch 153/200\n",
            "113/120 [===========================>..] - ETA: 0s - loss: 5.0430e-04 - accuracy: 1.0000"
          ]
        },
        {
          "output_type": "stream",
          "name": "stderr",
          "text": [
            "WARNING:tensorflow:Early stopping conditioned on metric `val_loss` which is not available. Available metrics are: loss,accuracy\n",
            "WARNING:tensorflow:Learning rate reduction is conditioned on metric `val_loss` which is not available. Available metrics are: loss,accuracy,lr\n"
          ]
        },
        {
          "output_type": "stream",
          "name": "stdout",
          "text": [
            "\b\b\b\b\b\b\b\b\b\b\b\b\b\b\b\b\b\b\b\b\b\b\b\b\b\b\b\b\b\b\b\b\b\b\b\b\b\b\b\b\b\b\b\b\b\b\b\b\b\b\b\b\b\b\b\b\b\b\b\b\b\b\b\b\b\b\b\b\b\b\b\b\b\b\b\b\b\b\b\b\b\b\b\b\b\b\b\b\r120/120 [==============================] - 1s 7ms/step - loss: 4.7844e-04 - accuracy: 1.0000 - lr: 3.0000e-05\n",
            "Epoch 154/200\n",
            "114/120 [===========================>..] - ETA: 0s - loss: 2.5826e-04 - accuracy: 1.0000"
          ]
        },
        {
          "output_type": "stream",
          "name": "stderr",
          "text": [
            "WARNING:tensorflow:Early stopping conditioned on metric `val_loss` which is not available. Available metrics are: loss,accuracy\n",
            "WARNING:tensorflow:Learning rate reduction is conditioned on metric `val_loss` which is not available. Available metrics are: loss,accuracy,lr\n"
          ]
        },
        {
          "output_type": "stream",
          "name": "stdout",
          "text": [
            "\b\b\b\b\b\b\b\b\b\b\b\b\b\b\b\b\b\b\b\b\b\b\b\b\b\b\b\b\b\b\b\b\b\b\b\b\b\b\b\b\b\b\b\b\b\b\b\b\b\b\b\b\b\b\b\b\b\b\b\b\b\b\b\b\b\b\b\b\b\b\b\b\b\b\b\b\b\b\b\b\b\b\b\b\b\b\b\b\r120/120 [==============================] - 1s 7ms/step - loss: 2.5622e-04 - accuracy: 1.0000 - lr: 3.0000e-05\n",
            "Epoch 155/200\n",
            "116/120 [============================>.] - ETA: 0s - loss: 1.6989e-04 - accuracy: 1.0000"
          ]
        },
        {
          "output_type": "stream",
          "name": "stderr",
          "text": [
            "WARNING:tensorflow:Early stopping conditioned on metric `val_loss` which is not available. Available metrics are: loss,accuracy\n",
            "WARNING:tensorflow:Learning rate reduction is conditioned on metric `val_loss` which is not available. Available metrics are: loss,accuracy,lr\n"
          ]
        },
        {
          "output_type": "stream",
          "name": "stdout",
          "text": [
            "\b\b\b\b\b\b\b\b\b\b\b\b\b\b\b\b\b\b\b\b\b\b\b\b\b\b\b\b\b\b\b\b\b\b\b\b\b\b\b\b\b\b\b\b\b\b\b\b\b\b\b\b\b\b\b\b\b\b\b\b\b\b\b\b\b\b\b\b\b\b\b\b\b\b\b\b\b\b\b\b\b\b\b\b\b\b\b\b\r120/120 [==============================] - 1s 7ms/step - loss: 1.6545e-04 - accuracy: 1.0000 - lr: 3.0000e-05\n",
            "Epoch 156/200\n",
            "120/120 [==============================] - ETA: 0s - loss: 1.1645e-04 - accuracy: 1.0000"
          ]
        },
        {
          "output_type": "stream",
          "name": "stderr",
          "text": [
            "WARNING:tensorflow:Early stopping conditioned on metric `val_loss` which is not available. Available metrics are: loss,accuracy\n",
            "WARNING:tensorflow:Learning rate reduction is conditioned on metric `val_loss` which is not available. Available metrics are: loss,accuracy,lr\n"
          ]
        },
        {
          "output_type": "stream",
          "name": "stdout",
          "text": [
            "\b\b\b\b\b\b\b\b\b\b\b\b\b\b\b\b\b\b\b\b\b\b\b\b\b\b\b\b\b\b\b\b\b\b\b\b\b\b\b\b\b\b\b\b\b\b\b\b\b\b\b\b\b\b\b\b\b\b\b\b\b\b\b\b\b\b\b\b\b\b\b\b\b\b\b\b\b\b\b\b\b\b\b\b\b\b\b\b\r120/120 [==============================] - 1s 7ms/step - loss: 1.1645e-04 - accuracy: 1.0000 - lr: 3.0000e-05\n",
            "Epoch 157/200\n",
            "117/120 [============================>.] - ETA: 0s - loss: 5.3153e-05 - accuracy: 1.0000"
          ]
        },
        {
          "output_type": "stream",
          "name": "stderr",
          "text": [
            "WARNING:tensorflow:Early stopping conditioned on metric `val_loss` which is not available. Available metrics are: loss,accuracy\n",
            "WARNING:tensorflow:Learning rate reduction is conditioned on metric `val_loss` which is not available. Available metrics are: loss,accuracy,lr\n"
          ]
        },
        {
          "output_type": "stream",
          "name": "stdout",
          "text": [
            "\b\b\b\b\b\b\b\b\b\b\b\b\b\b\b\b\b\b\b\b\b\b\b\b\b\b\b\b\b\b\b\b\b\b\b\b\b\b\b\b\b\b\b\b\b\b\b\b\b\b\b\b\b\b\b\b\b\b\b\b\b\b\b\b\b\b\b\b\b\b\b\b\b\b\b\b\b\b\b\b\b\b\b\b\b\b\b\b\r120/120 [==============================] - 1s 7ms/step - loss: 5.2136e-05 - accuracy: 1.0000 - lr: 3.0000e-05\n",
            "Epoch 158/200\n",
            "115/120 [===========================>..] - ETA: 0s - loss: 4.9806e-05 - accuracy: 1.0000"
          ]
        },
        {
          "output_type": "stream",
          "name": "stderr",
          "text": [
            "WARNING:tensorflow:Early stopping conditioned on metric `val_loss` which is not available. Available metrics are: loss,accuracy\n",
            "WARNING:tensorflow:Learning rate reduction is conditioned on metric `val_loss` which is not available. Available metrics are: loss,accuracy,lr\n"
          ]
        },
        {
          "output_type": "stream",
          "name": "stdout",
          "text": [
            "\b\b\b\b\b\b\b\b\b\b\b\b\b\b\b\b\b\b\b\b\b\b\b\b\b\b\b\b\b\b\b\b\b\b\b\b\b\b\b\b\b\b\b\b\b\b\b\b\b\b\b\b\b\b\b\b\b\b\b\b\b\b\b\b\b\b\b\b\b\b\b\b\b\b\b\b\b\b\b\b\b\b\b\b\b\b\b\b\r120/120 [==============================] - 1s 7ms/step - loss: 5.4311e-05 - accuracy: 1.0000 - lr: 3.0000e-05\n",
            "Epoch 159/200\n",
            "116/120 [============================>.] - ETA: 0s - loss: 5.2179e-05 - accuracy: 1.0000"
          ]
        },
        {
          "output_type": "stream",
          "name": "stderr",
          "text": [
            "WARNING:tensorflow:Early stopping conditioned on metric `val_loss` which is not available. Available metrics are: loss,accuracy\n",
            "WARNING:tensorflow:Learning rate reduction is conditioned on metric `val_loss` which is not available. Available metrics are: loss,accuracy,lr\n"
          ]
        },
        {
          "output_type": "stream",
          "name": "stdout",
          "text": [
            "\b\b\b\b\b\b\b\b\b\b\b\b\b\b\b\b\b\b\b\b\b\b\b\b\b\b\b\b\b\b\b\b\b\b\b\b\b\b\b\b\b\b\b\b\b\b\b\b\b\b\b\b\b\b\b\b\b\b\b\b\b\b\b\b\b\b\b\b\b\b\b\b\b\b\b\b\b\b\b\b\b\b\b\b\b\b\b\b\r120/120 [==============================] - 1s 7ms/step - loss: 5.5708e-05 - accuracy: 1.0000 - lr: 3.0000e-05\n",
            "Epoch 160/200\n",
            "113/120 [===========================>..] - ETA: 0s - loss: 4.3012e-05 - accuracy: 1.0000"
          ]
        },
        {
          "output_type": "stream",
          "name": "stderr",
          "text": [
            "WARNING:tensorflow:Early stopping conditioned on metric `val_loss` which is not available. Available metrics are: loss,accuracy\n",
            "WARNING:tensorflow:Learning rate reduction is conditioned on metric `val_loss` which is not available. Available metrics are: loss,accuracy,lr\n"
          ]
        },
        {
          "output_type": "stream",
          "name": "stdout",
          "text": [
            "\b\b\b\b\b\b\b\b\b\b\b\b\b\b\b\b\b\b\b\b\b\b\b\b\b\b\b\b\b\b\b\b\b\b\b\b\b\b\b\b\b\b\b\b\b\b\b\b\b\b\b\b\b\b\b\b\b\b\b\b\b\b\b\b\b\b\b\b\b\b\b\b\b\b\b\b\b\b\b\b\b\b\b\b\b\b\b\b\r120/120 [==============================] - 1s 7ms/step - loss: 4.7712e-05 - accuracy: 1.0000 - lr: 3.0000e-05\n",
            "Epoch 161/200\n",
            "114/120 [===========================>..] - ETA: 0s - loss: 1.4340e-04 - accuracy: 1.0000"
          ]
        },
        {
          "output_type": "stream",
          "name": "stderr",
          "text": [
            "WARNING:tensorflow:Early stopping conditioned on metric `val_loss` which is not available. Available metrics are: loss,accuracy\n",
            "WARNING:tensorflow:Learning rate reduction is conditioned on metric `val_loss` which is not available. Available metrics are: loss,accuracy,lr\n"
          ]
        },
        {
          "output_type": "stream",
          "name": "stdout",
          "text": [
            "\b\b\b\b\b\b\b\b\b\b\b\b\b\b\b\b\b\b\b\b\b\b\b\b\b\b\b\b\b\b\b\b\b\b\b\b\b\b\b\b\b\b\b\b\b\b\b\b\b\b\b\b\b\b\b\b\b\b\b\b\b\b\b\b\b\b\b\b\b\b\b\b\b\b\b\b\b\b\b\b\b\b\b\b\b\b\b\b\r120/120 [==============================] - 1s 7ms/step - loss: 1.3735e-04 - accuracy: 1.0000 - lr: 3.0000e-05\n",
            "Epoch 162/200\n",
            "116/120 [============================>.] - ETA: 0s - loss: 2.9111e-04 - accuracy: 1.0000"
          ]
        },
        {
          "output_type": "stream",
          "name": "stderr",
          "text": [
            "WARNING:tensorflow:Early stopping conditioned on metric `val_loss` which is not available. Available metrics are: loss,accuracy\n",
            "WARNING:tensorflow:Learning rate reduction is conditioned on metric `val_loss` which is not available. Available metrics are: loss,accuracy,lr\n"
          ]
        },
        {
          "output_type": "stream",
          "name": "stdout",
          "text": [
            "\b\b\b\b\b\b\b\b\b\b\b\b\b\b\b\b\b\b\b\b\b\b\b\b\b\b\b\b\b\b\b\b\b\b\b\b\b\b\b\b\b\b\b\b\b\b\b\b\b\b\b\b\b\b\b\b\b\b\b\b\b\b\b\b\b\b\b\b\b\b\b\b\b\b\b\b\b\b\b\b\b\b\b\b\b\b\b\b\r120/120 [==============================] - 1s 7ms/step - loss: 2.8703e-04 - accuracy: 1.0000 - lr: 3.0000e-05\n",
            "Epoch 163/200\n",
            "114/120 [===========================>..] - ETA: 0s - loss: 8.0268e-05 - accuracy: 1.0000"
          ]
        },
        {
          "output_type": "stream",
          "name": "stderr",
          "text": [
            "WARNING:tensorflow:Early stopping conditioned on metric `val_loss` which is not available. Available metrics are: loss,accuracy\n",
            "WARNING:tensorflow:Learning rate reduction is conditioned on metric `val_loss` which is not available. Available metrics are: loss,accuracy,lr\n"
          ]
        },
        {
          "output_type": "stream",
          "name": "stdout",
          "text": [
            "\b\b\b\b\b\b\b\b\b\b\b\b\b\b\b\b\b\b\b\b\b\b\b\b\b\b\b\b\b\b\b\b\b\b\b\b\b\b\b\b\b\b\b\b\b\b\b\b\b\b\b\b\b\b\b\b\b\b\b\b\b\b\b\b\b\b\b\b\b\b\b\b\b\b\b\b\b\b\b\b\b\b\b\b\b\b\b\b\r120/120 [==============================] - 1s 7ms/step - loss: 1.2173e-04 - accuracy: 1.0000 - lr: 3.0000e-05\n",
            "Epoch 164/200\n",
            "116/120 [============================>.] - ETA: 0s - loss: 3.2463e-04 - accuracy: 0.9997"
          ]
        },
        {
          "output_type": "stream",
          "name": "stderr",
          "text": [
            "WARNING:tensorflow:Early stopping conditioned on metric `val_loss` which is not available. Available metrics are: loss,accuracy\n",
            "WARNING:tensorflow:Learning rate reduction is conditioned on metric `val_loss` which is not available. Available metrics are: loss,accuracy,lr\n"
          ]
        },
        {
          "output_type": "stream",
          "name": "stdout",
          "text": [
            "\b\b\b\b\b\b\b\b\b\b\b\b\b\b\b\b\b\b\b\b\b\b\b\b\b\b\b\b\b\b\b\b\b\b\b\b\b\b\b\b\b\b\b\b\b\b\b\b\b\b\b\b\b\b\b\b\b\b\b\b\b\b\b\b\b\b\b\b\b\b\b\b\b\b\b\b\b\b\b\b\b\b\b\b\b\b\b\b\r120/120 [==============================] - 1s 7ms/step - loss: 3.1815e-04 - accuracy: 0.9997 - lr: 3.0000e-05\n",
            "Epoch 165/200\n",
            "114/120 [===========================>..] - ETA: 0s - loss: 6.4834e-05 - accuracy: 1.0000"
          ]
        },
        {
          "output_type": "stream",
          "name": "stderr",
          "text": [
            "WARNING:tensorflow:Early stopping conditioned on metric `val_loss` which is not available. Available metrics are: loss,accuracy\n",
            "WARNING:tensorflow:Learning rate reduction is conditioned on metric `val_loss` which is not available. Available metrics are: loss,accuracy,lr\n"
          ]
        },
        {
          "output_type": "stream",
          "name": "stdout",
          "text": [
            "\b\b\b\b\b\b\b\b\b\b\b\b\b\b\b\b\b\b\b\b\b\b\b\b\b\b\b\b\b\b\b\b\b\b\b\b\b\b\b\b\b\b\b\b\b\b\b\b\b\b\b\b\b\b\b\b\b\b\b\b\b\b\b\b\b\b\b\b\b\b\b\b\b\b\b\b\b\b\b\b\b\b\b\b\b\b\b\b\r120/120 [==============================] - 1s 7ms/step - loss: 6.2944e-05 - accuracy: 1.0000 - lr: 3.0000e-05\n",
            "Epoch 166/200\n",
            "113/120 [===========================>..] - ETA: 0s - loss: 6.8181e-05 - accuracy: 1.0000"
          ]
        },
        {
          "output_type": "stream",
          "name": "stderr",
          "text": [
            "WARNING:tensorflow:Early stopping conditioned on metric `val_loss` which is not available. Available metrics are: loss,accuracy\n",
            "WARNING:tensorflow:Learning rate reduction is conditioned on metric `val_loss` which is not available. Available metrics are: loss,accuracy,lr\n"
          ]
        },
        {
          "output_type": "stream",
          "name": "stdout",
          "text": [
            "\b\b\b\b\b\b\b\b\b\b\b\b\b\b\b\b\b\b\b\b\b\b\b\b\b\b\b\b\b\b\b\b\b\b\b\b\b\b\b\b\b\b\b\b\b\b\b\b\b\b\b\b\b\b\b\b\b\b\b\b\b\b\b\b\b\b\b\b\b\b\b\b\b\b\b\b\b\b\b\b\b\b\b\b\b\b\b\b\r120/120 [==============================] - 1s 7ms/step - loss: 6.5109e-05 - accuracy: 1.0000 - lr: 3.0000e-05\n",
            "Epoch 167/200\n",
            "113/120 [===========================>..] - ETA: 0s - loss: 2.9647e-04 - accuracy: 1.0000"
          ]
        },
        {
          "output_type": "stream",
          "name": "stderr",
          "text": [
            "WARNING:tensorflow:Early stopping conditioned on metric `val_loss` which is not available. Available metrics are: loss,accuracy\n",
            "WARNING:tensorflow:Learning rate reduction is conditioned on metric `val_loss` which is not available. Available metrics are: loss,accuracy,lr\n"
          ]
        },
        {
          "output_type": "stream",
          "name": "stdout",
          "text": [
            "\b\b\b\b\b\b\b\b\b\b\b\b\b\b\b\b\b\b\b\b\b\b\b\b\b\b\b\b\b\b\b\b\b\b\b\b\b\b\b\b\b\b\b\b\b\b\b\b\b\b\b\b\b\b\b\b\b\b\b\b\b\b\b\b\b\b\b\b\b\b\b\b\b\b\b\b\b\b\b\b\b\b\b\b\b\b\b\b\r120/120 [==============================] - 1s 7ms/step - loss: 2.8607e-04 - accuracy: 1.0000 - lr: 3.0000e-05\n",
            "Epoch 168/200\n",
            "115/120 [===========================>..] - ETA: 0s - loss: 6.1835e-05 - accuracy: 1.0000"
          ]
        },
        {
          "output_type": "stream",
          "name": "stderr",
          "text": [
            "WARNING:tensorflow:Early stopping conditioned on metric `val_loss` which is not available. Available metrics are: loss,accuracy\n",
            "WARNING:tensorflow:Learning rate reduction is conditioned on metric `val_loss` which is not available. Available metrics are: loss,accuracy,lr\n"
          ]
        },
        {
          "output_type": "stream",
          "name": "stdout",
          "text": [
            "\b\b\b\b\b\b\b\b\b\b\b\b\b\b\b\b\b\b\b\b\b\b\b\b\b\b\b\b\b\b\b\b\b\b\b\b\b\b\b\b\b\b\b\b\b\b\b\b\b\b\b\b\b\b\b\b\b\b\b\b\b\b\b\b\b\b\b\b\b\b\b\b\b\b\b\b\b\b\b\b\b\b\b\b\b\b\b\b\r120/120 [==============================] - 1s 7ms/step - loss: 6.0060e-05 - accuracy: 1.0000 - lr: 3.0000e-05\n",
            "Epoch 169/200\n",
            "120/120 [==============================] - ETA: 0s - loss: 2.4329e-04 - accuracy: 1.0000"
          ]
        },
        {
          "output_type": "stream",
          "name": "stderr",
          "text": [
            "WARNING:tensorflow:Early stopping conditioned on metric `val_loss` which is not available. Available metrics are: loss,accuracy\n",
            "WARNING:tensorflow:Learning rate reduction is conditioned on metric `val_loss` which is not available. Available metrics are: loss,accuracy,lr\n"
          ]
        },
        {
          "output_type": "stream",
          "name": "stdout",
          "text": [
            "\b\b\b\b\b\b\b\b\b\b\b\b\b\b\b\b\b\b\b\b\b\b\b\b\b\b\b\b\b\b\b\b\b\b\b\b\b\b\b\b\b\b\b\b\b\b\b\b\b\b\b\b\b\b\b\b\b\b\b\b\b\b\b\b\b\b\b\b\b\b\b\b\b\b\b\b\b\b\b\b\b\b\b\b\b\b\b\b\r120/120 [==============================] - 1s 7ms/step - loss: 2.4329e-04 - accuracy: 1.0000 - lr: 3.0000e-05\n",
            "Epoch 170/200\n",
            "114/120 [===========================>..] - ETA: 0s - loss: 1.6232e-04 - accuracy: 1.0000"
          ]
        },
        {
          "output_type": "stream",
          "name": "stderr",
          "text": [
            "WARNING:tensorflow:Early stopping conditioned on metric `val_loss` which is not available. Available metrics are: loss,accuracy\n",
            "WARNING:tensorflow:Learning rate reduction is conditioned on metric `val_loss` which is not available. Available metrics are: loss,accuracy,lr\n"
          ]
        },
        {
          "output_type": "stream",
          "name": "stdout",
          "text": [
            "\b\b\b\b\b\b\b\b\b\b\b\b\b\b\b\b\b\b\b\b\b\b\b\b\b\b\b\b\b\b\b\b\b\b\b\b\b\b\b\b\b\b\b\b\b\b\b\b\b\b\b\b\b\b\b\b\b\b\b\b\b\b\b\b\b\b\b\b\b\b\b\b\b\b\b\b\b\b\b\b\b\b\b\b\b\b\b\b\r120/120 [==============================] - 1s 7ms/step - loss: 1.5727e-04 - accuracy: 1.0000 - lr: 3.0000e-05\n",
            "Epoch 171/200\n",
            "120/120 [==============================] - ETA: 0s - loss: 9.1563e-05 - accuracy: 1.0000"
          ]
        },
        {
          "output_type": "stream",
          "name": "stderr",
          "text": [
            "WARNING:tensorflow:Early stopping conditioned on metric `val_loss` which is not available. Available metrics are: loss,accuracy\n",
            "WARNING:tensorflow:Learning rate reduction is conditioned on metric `val_loss` which is not available. Available metrics are: loss,accuracy,lr\n"
          ]
        },
        {
          "output_type": "stream",
          "name": "stdout",
          "text": [
            "\b\b\b\b\b\b\b\b\b\b\b\b\b\b\b\b\b\b\b\b\b\b\b\b\b\b\b\b\b\b\b\b\b\b\b\b\b\b\b\b\b\b\b\b\b\b\b\b\b\b\b\b\b\b\b\b\b\b\b\b\b\b\b\b\b\b\b\b\b\b\b\b\b\b\b\b\b\b\b\b\b\b\b\b\b\b\b\b\r120/120 [==============================] - 1s 7ms/step - loss: 9.1563e-05 - accuracy: 1.0000 - lr: 3.0000e-05\n",
            "Epoch 172/200\n",
            "116/120 [============================>.] - ETA: 0s - loss: 3.4291e-04 - accuracy: 1.0000"
          ]
        },
        {
          "output_type": "stream",
          "name": "stderr",
          "text": [
            "WARNING:tensorflow:Early stopping conditioned on metric `val_loss` which is not available. Available metrics are: loss,accuracy\n",
            "WARNING:tensorflow:Learning rate reduction is conditioned on metric `val_loss` which is not available. Available metrics are: loss,accuracy,lr\n"
          ]
        },
        {
          "output_type": "stream",
          "name": "stdout",
          "text": [
            "\b\b\b\b\b\b\b\b\b\b\b\b\b\b\b\b\b\b\b\b\b\b\b\b\b\b\b\b\b\b\b\b\b\b\b\b\b\b\b\b\b\b\b\b\b\b\b\b\b\b\b\b\b\b\b\b\b\b\b\b\b\b\b\b\b\b\b\b\b\b\b\b\b\b\b\b\b\b\b\b\b\b\b\b\b\b\b\b\r120/120 [==============================] - 1s 7ms/step - loss: 3.3346e-04 - accuracy: 1.0000 - lr: 3.0000e-05\n",
            "Epoch 173/200\n",
            "116/120 [============================>.] - ETA: 0s - loss: 1.2035e-04 - accuracy: 1.0000"
          ]
        },
        {
          "output_type": "stream",
          "name": "stderr",
          "text": [
            "WARNING:tensorflow:Early stopping conditioned on metric `val_loss` which is not available. Available metrics are: loss,accuracy\n",
            "WARNING:tensorflow:Learning rate reduction is conditioned on metric `val_loss` which is not available. Available metrics are: loss,accuracy,lr\n"
          ]
        },
        {
          "output_type": "stream",
          "name": "stdout",
          "text": [
            "\b\b\b\b\b\b\b\b\b\b\b\b\b\b\b\b\b\b\b\b\b\b\b\b\b\b\b\b\b\b\b\b\b\b\b\b\b\b\b\b\b\b\b\b\b\b\b\b\b\b\b\b\b\b\b\b\b\b\b\b\b\b\b\b\b\b\b\b\b\b\b\b\b\b\b\b\b\b\b\b\b\b\b\b\b\b\b\b\r120/120 [==============================] - 1s 7ms/step - loss: 1.2972e-04 - accuracy: 1.0000 - lr: 3.0000e-05\n",
            "Epoch 174/200\n",
            "114/120 [===========================>..] - ETA: 0s - loss: 3.8901e-05 - accuracy: 1.0000"
          ]
        },
        {
          "output_type": "stream",
          "name": "stderr",
          "text": [
            "WARNING:tensorflow:Early stopping conditioned on metric `val_loss` which is not available. Available metrics are: loss,accuracy\n",
            "WARNING:tensorflow:Learning rate reduction is conditioned on metric `val_loss` which is not available. Available metrics are: loss,accuracy,lr\n"
          ]
        },
        {
          "output_type": "stream",
          "name": "stdout",
          "text": [
            "\b\b\b\b\b\b\b\b\b\b\b\b\b\b\b\b\b\b\b\b\b\b\b\b\b\b\b\b\b\b\b\b\b\b\b\b\b\b\b\b\b\b\b\b\b\b\b\b\b\b\b\b\b\b\b\b\b\b\b\b\b\b\b\b\b\b\b\b\b\b\b\b\b\b\b\b\b\b\b\b\b\b\b\b\b\b\b\b\r120/120 [==============================] - 1s 7ms/step - loss: 3.7652e-05 - accuracy: 1.0000 - lr: 3.0000e-05\n",
            "Epoch 175/200\n",
            "117/120 [============================>.] - ETA: 0s - loss: 4.3185e-05 - accuracy: 1.0000"
          ]
        },
        {
          "output_type": "stream",
          "name": "stderr",
          "text": [
            "WARNING:tensorflow:Early stopping conditioned on metric `val_loss` which is not available. Available metrics are: loss,accuracy\n",
            "WARNING:tensorflow:Learning rate reduction is conditioned on metric `val_loss` which is not available. Available metrics are: loss,accuracy,lr\n"
          ]
        },
        {
          "output_type": "stream",
          "name": "stdout",
          "text": [
            "\b\b\b\b\b\b\b\b\b\b\b\b\b\b\b\b\b\b\b\b\b\b\b\b\b\b\b\b\b\b\b\b\b\b\b\b\b\b\b\b\b\b\b\b\b\b\b\b\b\b\b\b\b\b\b\b\b\b\b\b\b\b\b\b\b\b\b\b\b\b\b\b\b\b\b\b\b\b\b\b\b\b\b\b\b\b\b\b\r120/120 [==============================] - 1s 7ms/step - loss: 4.6659e-05 - accuracy: 1.0000 - lr: 3.0000e-05\n",
            "Epoch 176/200\n",
            "116/120 [============================>.] - ETA: 0s - loss: 1.2673e-04 - accuracy: 1.0000"
          ]
        },
        {
          "output_type": "stream",
          "name": "stderr",
          "text": [
            "WARNING:tensorflow:Early stopping conditioned on metric `val_loss` which is not available. Available metrics are: loss,accuracy\n",
            "WARNING:tensorflow:Learning rate reduction is conditioned on metric `val_loss` which is not available. Available metrics are: loss,accuracy,lr\n"
          ]
        },
        {
          "output_type": "stream",
          "name": "stdout",
          "text": [
            "\b\b\b\b\b\b\b\b\b\b\b\b\b\b\b\b\b\b\b\b\b\b\b\b\b\b\b\b\b\b\b\b\b\b\b\b\b\b\b\b\b\b\b\b\b\b\b\b\b\b\b\b\b\b\b\b\b\b\b\b\b\b\b\b\b\b\b\b\b\b\b\b\b\b\b\b\b\b\b\b\b\b\b\b\b\b\b\b\r120/120 [==============================] - 1s 7ms/step - loss: 1.2325e-04 - accuracy: 1.0000 - lr: 3.0000e-05\n",
            "Epoch 177/200\n",
            "114/120 [===========================>..] - ETA: 0s - loss: 3.0891e-04 - accuracy: 0.9997"
          ]
        },
        {
          "output_type": "stream",
          "name": "stderr",
          "text": [
            "WARNING:tensorflow:Early stopping conditioned on metric `val_loss` which is not available. Available metrics are: loss,accuracy\n",
            "WARNING:tensorflow:Learning rate reduction is conditioned on metric `val_loss` which is not available. Available metrics are: loss,accuracy,lr\n"
          ]
        },
        {
          "output_type": "stream",
          "name": "stdout",
          "text": [
            "\b\b\b\b\b\b\b\b\b\b\b\b\b\b\b\b\b\b\b\b\b\b\b\b\b\b\b\b\b\b\b\b\b\b\b\b\b\b\b\b\b\b\b\b\b\b\b\b\b\b\b\b\b\b\b\b\b\b\b\b\b\b\b\b\b\b\b\b\b\b\b\b\b\b\b\b\b\b\b\b\b\b\b\b\b\b\b\b\r120/120 [==============================] - 1s 7ms/step - loss: 2.9521e-04 - accuracy: 0.9997 - lr: 3.0000e-05\n",
            "Epoch 178/200\n",
            "115/120 [===========================>..] - ETA: 0s - loss: 1.4618e-04 - accuracy: 1.0000"
          ]
        },
        {
          "output_type": "stream",
          "name": "stderr",
          "text": [
            "WARNING:tensorflow:Early stopping conditioned on metric `val_loss` which is not available. Available metrics are: loss,accuracy\n",
            "WARNING:tensorflow:Learning rate reduction is conditioned on metric `val_loss` which is not available. Available metrics are: loss,accuracy,lr\n"
          ]
        },
        {
          "output_type": "stream",
          "name": "stdout",
          "text": [
            "\b\b\b\b\b\b\b\b\b\b\b\b\b\b\b\b\b\b\b\b\b\b\b\b\b\b\b\b\b\b\b\b\b\b\b\b\b\b\b\b\b\b\b\b\b\b\b\b\b\b\b\b\b\b\b\b\b\b\b\b\b\b\b\b\b\b\b\b\b\b\b\b\b\b\b\b\b\b\b\b\b\b\b\b\b\b\b\b\r120/120 [==============================] - 1s 7ms/step - loss: 1.4221e-04 - accuracy: 1.0000 - lr: 3.0000e-05\n",
            "Epoch 179/200\n",
            "117/120 [============================>.] - ETA: 0s - loss: 1.1085e-04 - accuracy: 1.0000"
          ]
        },
        {
          "output_type": "stream",
          "name": "stderr",
          "text": [
            "WARNING:tensorflow:Early stopping conditioned on metric `val_loss` which is not available. Available metrics are: loss,accuracy\n",
            "WARNING:tensorflow:Learning rate reduction is conditioned on metric `val_loss` which is not available. Available metrics are: loss,accuracy,lr\n"
          ]
        },
        {
          "output_type": "stream",
          "name": "stdout",
          "text": [
            "\b\b\b\b\b\b\b\b\b\b\b\b\b\b\b\b\b\b\b\b\b\b\b\b\b\b\b\b\b\b\b\b\b\b\b\b\b\b\b\b\b\b\b\b\b\b\b\b\b\b\b\b\b\b\b\b\b\b\b\b\b\b\b\b\b\b\b\b\b\b\b\b\b\b\b\b\b\b\b\b\b\b\b\b\b\b\b\b\r120/120 [==============================] - 1s 7ms/step - loss: 1.0975e-04 - accuracy: 1.0000 - lr: 3.0000e-05\n",
            "Epoch 180/200\n",
            "116/120 [============================>.] - ETA: 0s - loss: 2.9025e-04 - accuracy: 1.0000"
          ]
        },
        {
          "output_type": "stream",
          "name": "stderr",
          "text": [
            "WARNING:tensorflow:Early stopping conditioned on metric `val_loss` which is not available. Available metrics are: loss,accuracy\n",
            "WARNING:tensorflow:Learning rate reduction is conditioned on metric `val_loss` which is not available. Available metrics are: loss,accuracy,lr\n"
          ]
        },
        {
          "output_type": "stream",
          "name": "stdout",
          "text": [
            "\b\b\b\b\b\b\b\b\b\b\b\b\b\b\b\b\b\b\b\b\b\b\b\b\b\b\b\b\b\b\b\b\b\b\b\b\b\b\b\b\b\b\b\b\b\b\b\b\b\b\b\b\b\b\b\b\b\b\b\b\b\b\b\b\b\b\b\b\b\b\b\b\b\b\b\b\b\b\b\b\b\b\b\b\b\b\b\b\r120/120 [==============================] - 1s 7ms/step - loss: 2.8245e-04 - accuracy: 1.0000 - lr: 3.0000e-05\n",
            "Epoch 181/200\n",
            "120/120 [==============================] - ETA: 0s - loss: 2.2754e-04 - accuracy: 1.0000"
          ]
        },
        {
          "output_type": "stream",
          "name": "stderr",
          "text": [
            "WARNING:tensorflow:Early stopping conditioned on metric `val_loss` which is not available. Available metrics are: loss,accuracy\n",
            "WARNING:tensorflow:Learning rate reduction is conditioned on metric `val_loss` which is not available. Available metrics are: loss,accuracy,lr\n"
          ]
        },
        {
          "output_type": "stream",
          "name": "stdout",
          "text": [
            "\b\b\b\b\b\b\b\b\b\b\b\b\b\b\b\b\b\b\b\b\b\b\b\b\b\b\b\b\b\b\b\b\b\b\b\b\b\b\b\b\b\b\b\b\b\b\b\b\b\b\b\b\b\b\b\b\b\b\b\b\b\b\b\b\b\b\b\b\b\b\b\b\b\b\b\b\b\b\b\b\b\b\b\b\b\b\b\b\r120/120 [==============================] - 1s 7ms/step - loss: 2.2754e-04 - accuracy: 1.0000 - lr: 3.0000e-05\n",
            "Epoch 182/200\n",
            "114/120 [===========================>..] - ETA: 0s - loss: 4.6425e-04 - accuracy: 1.0000"
          ]
        },
        {
          "output_type": "stream",
          "name": "stderr",
          "text": [
            "WARNING:tensorflow:Early stopping conditioned on metric `val_loss` which is not available. Available metrics are: loss,accuracy\n",
            "WARNING:tensorflow:Learning rate reduction is conditioned on metric `val_loss` which is not available. Available metrics are: loss,accuracy,lr\n"
          ]
        },
        {
          "output_type": "stream",
          "name": "stdout",
          "text": [
            "\b\b\b\b\b\b\b\b\b\b\b\b\b\b\b\b\b\b\b\b\b\b\b\b\b\b\b\b\b\b\b\b\b\b\b\b\b\b\b\b\b\b\b\b\b\b\b\b\b\b\b\b\b\b\b\b\b\b\b\b\b\b\b\b\b\b\b\b\b\b\b\b\b\b\b\b\b\b\b\b\b\b\b\b\b\b\b\b\r120/120 [==============================] - 1s 7ms/step - loss: 4.4361e-04 - accuracy: 1.0000 - lr: 3.0000e-05\n",
            "Epoch 183/200\n",
            "115/120 [===========================>..] - ETA: 0s - loss: 3.1207e-05 - accuracy: 1.0000"
          ]
        },
        {
          "output_type": "stream",
          "name": "stderr",
          "text": [
            "WARNING:tensorflow:Early stopping conditioned on metric `val_loss` which is not available. Available metrics are: loss,accuracy\n",
            "WARNING:tensorflow:Learning rate reduction is conditioned on metric `val_loss` which is not available. Available metrics are: loss,accuracy,lr\n"
          ]
        },
        {
          "output_type": "stream",
          "name": "stdout",
          "text": [
            "\b\b\b\b\b\b\b\b\b\b\b\b\b\b\b\b\b\b\b\b\b\b\b\b\b\b\b\b\b\b\b\b\b\b\b\b\b\b\b\b\b\b\b\b\b\b\b\b\b\b\b\b\b\b\b\b\b\b\b\b\b\b\b\b\b\b\b\b\b\b\b\b\b\b\b\b\b\b\b\b\b\b\b\b\b\b\b\b\r120/120 [==============================] - 1s 7ms/step - loss: 3.5565e-05 - accuracy: 1.0000 - lr: 3.0000e-05\n",
            "Epoch 184/200\n",
            "117/120 [============================>.] - ETA: 0s - loss: 1.5076e-04 - accuracy: 1.0000"
          ]
        },
        {
          "output_type": "stream",
          "name": "stderr",
          "text": [
            "WARNING:tensorflow:Early stopping conditioned on metric `val_loss` which is not available. Available metrics are: loss,accuracy\n",
            "WARNING:tensorflow:Learning rate reduction is conditioned on metric `val_loss` which is not available. Available metrics are: loss,accuracy,lr\n"
          ]
        },
        {
          "output_type": "stream",
          "name": "stdout",
          "text": [
            "\b\b\b\b\b\b\b\b\b\b\b\b\b\b\b\b\b\b\b\b\b\b\b\b\b\b\b\b\b\b\b\b\b\b\b\b\b\b\b\b\b\b\b\b\b\b\b\b\b\b\b\b\b\b\b\b\b\b\b\b\b\b\b\b\b\b\b\b\b\b\b\b\b\b\b\b\b\b\b\b\b\b\b\b\b\b\b\b\r120/120 [==============================] - 1s 7ms/step - loss: 1.4782e-04 - accuracy: 1.0000 - lr: 3.0000e-05\n",
            "Epoch 185/200\n",
            "115/120 [===========================>..] - ETA: 0s - loss: 9.3767e-05 - accuracy: 1.0000"
          ]
        },
        {
          "output_type": "stream",
          "name": "stderr",
          "text": [
            "WARNING:tensorflow:Early stopping conditioned on metric `val_loss` which is not available. Available metrics are: loss,accuracy\n",
            "WARNING:tensorflow:Learning rate reduction is conditioned on metric `val_loss` which is not available. Available metrics are: loss,accuracy,lr\n"
          ]
        },
        {
          "output_type": "stream",
          "name": "stdout",
          "text": [
            "\b\b\b\b\b\b\b\b\b\b\b\b\b\b\b\b\b\b\b\b\b\b\b\b\b\b\b\b\b\b\b\b\b\b\b\b\b\b\b\b\b\b\b\b\b\b\b\b\b\b\b\b\b\b\b\b\b\b\b\b\b\b\b\b\b\b\b\b\b\b\b\b\b\b\b\b\b\b\b\b\b\b\b\b\b\b\b\b\r120/120 [==============================] - 1s 7ms/step - loss: 9.0644e-05 - accuracy: 1.0000 - lr: 3.0000e-05\n",
            "Epoch 186/200\n",
            "118/120 [============================>.] - ETA: 0s - loss: 3.7608e-05 - accuracy: 1.0000"
          ]
        },
        {
          "output_type": "stream",
          "name": "stderr",
          "text": [
            "WARNING:tensorflow:Early stopping conditioned on metric `val_loss` which is not available. Available metrics are: loss,accuracy\n",
            "WARNING:tensorflow:Learning rate reduction is conditioned on metric `val_loss` which is not available. Available metrics are: loss,accuracy,lr\n"
          ]
        },
        {
          "output_type": "stream",
          "name": "stdout",
          "text": [
            "\b\b\b\b\b\b\b\b\b\b\b\b\b\b\b\b\b\b\b\b\b\b\b\b\b\b\b\b\b\b\b\b\b\b\b\b\b\b\b\b\b\b\b\b\b\b\b\b\b\b\b\b\b\b\b\b\b\b\b\b\b\b\b\b\b\b\b\b\b\b\b\b\b\b\b\b\b\b\b\b\b\b\b\b\b\b\b\b\r120/120 [==============================] - 1s 7ms/step - loss: 3.7206e-05 - accuracy: 1.0000 - lr: 3.0000e-05\n",
            "Epoch 187/200\n",
            "113/120 [===========================>..] - ETA: 0s - loss: 1.0290e-04 - accuracy: 1.0000"
          ]
        },
        {
          "output_type": "stream",
          "name": "stderr",
          "text": [
            "WARNING:tensorflow:Early stopping conditioned on metric `val_loss` which is not available. Available metrics are: loss,accuracy\n",
            "WARNING:tensorflow:Learning rate reduction is conditioned on metric `val_loss` which is not available. Available metrics are: loss,accuracy,lr\n"
          ]
        },
        {
          "output_type": "stream",
          "name": "stdout",
          "text": [
            "\b\b\b\b\b\b\b\b\b\b\b\b\b\b\b\b\b\b\b\b\b\b\b\b\b\b\b\b\b\b\b\b\b\b\b\b\b\b\b\b\b\b\b\b\b\b\b\b\b\b\b\b\b\b\b\b\b\b\b\b\b\b\b\b\b\b\b\b\b\b\b\b\b\b\b\b\b\b\b\b\b\b\b\b\b\b\b\b\r120/120 [==============================] - 1s 7ms/step - loss: 9.7645e-05 - accuracy: 1.0000 - lr: 3.0000e-05\n",
            "Epoch 188/200\n",
            "114/120 [===========================>..] - ETA: 0s - loss: 3.4692e-05 - accuracy: 1.0000"
          ]
        },
        {
          "output_type": "stream",
          "name": "stderr",
          "text": [
            "WARNING:tensorflow:Early stopping conditioned on metric `val_loss` which is not available. Available metrics are: loss,accuracy\n",
            "WARNING:tensorflow:Learning rate reduction is conditioned on metric `val_loss` which is not available. Available metrics are: loss,accuracy,lr\n"
          ]
        },
        {
          "output_type": "stream",
          "name": "stdout",
          "text": [
            "\b\b\b\b\b\b\b\b\b\b\b\b\b\b\b\b\b\b\b\b\b\b\b\b\b\b\b\b\b\b\b\b\b\b\b\b\b\b\b\b\b\b\b\b\b\b\b\b\b\b\b\b\b\b\b\b\b\b\b\b\b\b\b\b\b\b\b\b\b\b\b\b\b\b\b\b\b\b\b\b\b\b\b\b\b\b\b\b\r120/120 [==============================] - 1s 7ms/step - loss: 3.4993e-05 - accuracy: 1.0000 - lr: 3.0000e-05\n",
            "Epoch 189/200\n",
            "119/120 [============================>.] - ETA: 0s - loss: 5.0961e-05 - accuracy: 1.0000"
          ]
        },
        {
          "output_type": "stream",
          "name": "stderr",
          "text": [
            "WARNING:tensorflow:Early stopping conditioned on metric `val_loss` which is not available. Available metrics are: loss,accuracy\n",
            "WARNING:tensorflow:Learning rate reduction is conditioned on metric `val_loss` which is not available. Available metrics are: loss,accuracy,lr\n"
          ]
        },
        {
          "output_type": "stream",
          "name": "stdout",
          "text": [
            "\b\b\b\b\b\b\b\b\b\b\b\b\b\b\b\b\b\b\b\b\b\b\b\b\b\b\b\b\b\b\b\b\b\b\b\b\b\b\b\b\b\b\b\b\b\b\b\b\b\b\b\b\b\b\b\b\b\b\b\b\b\b\b\b\b\b\b\b\b\b\b\b\b\b\b\b\b\b\b\b\b\b\b\b\b\b\b\b\r120/120 [==============================] - 1s 7ms/step - loss: 5.0815e-05 - accuracy: 1.0000 - lr: 3.0000e-05\n",
            "Epoch 190/200\n",
            "116/120 [============================>.] - ETA: 0s - loss: 5.0706e-05 - accuracy: 1.0000"
          ]
        },
        {
          "output_type": "stream",
          "name": "stderr",
          "text": [
            "WARNING:tensorflow:Early stopping conditioned on metric `val_loss` which is not available. Available metrics are: loss,accuracy\n",
            "WARNING:tensorflow:Learning rate reduction is conditioned on metric `val_loss` which is not available. Available metrics are: loss,accuracy,lr\n"
          ]
        },
        {
          "output_type": "stream",
          "name": "stdout",
          "text": [
            "\b\b\b\b\b\b\b\b\b\b\b\b\b\b\b\b\b\b\b\b\b\b\b\b\b\b\b\b\b\b\b\b\b\b\b\b\b\b\b\b\b\b\b\b\b\b\b\b\b\b\b\b\b\b\b\b\b\b\b\b\b\b\b\b\b\b\b\b\b\b\b\b\b\b\b\b\b\b\b\b\b\b\b\b\b\b\b\b\r120/120 [==============================] - 1s 7ms/step - loss: 5.0043e-05 - accuracy: 1.0000 - lr: 3.0000e-05\n",
            "Epoch 191/200\n",
            "114/120 [===========================>..] - ETA: 0s - loss: 4.7613e-05 - accuracy: 1.0000"
          ]
        },
        {
          "output_type": "stream",
          "name": "stderr",
          "text": [
            "WARNING:tensorflow:Early stopping conditioned on metric `val_loss` which is not available. Available metrics are: loss,accuracy\n",
            "WARNING:tensorflow:Learning rate reduction is conditioned on metric `val_loss` which is not available. Available metrics are: loss,accuracy,lr\n"
          ]
        },
        {
          "output_type": "stream",
          "name": "stdout",
          "text": [
            "\b\b\b\b\b\b\b\b\b\b\b\b\b\b\b\b\b\b\b\b\b\b\b\b\b\b\b\b\b\b\b\b\b\b\b\b\b\b\b\b\b\b\b\b\b\b\b\b\b\b\b\b\b\b\b\b\b\b\b\b\b\b\b\b\b\b\b\b\b\b\b\b\b\b\b\b\b\b\b\b\b\b\b\b\b\b\b\b\r120/120 [==============================] - 1s 7ms/step - loss: 4.5750e-05 - accuracy: 1.0000 - lr: 3.0000e-05\n",
            "Epoch 192/200\n",
            "115/120 [===========================>..] - ETA: 0s - loss: 1.4350e-04 - accuracy: 1.0000"
          ]
        },
        {
          "output_type": "stream",
          "name": "stderr",
          "text": [
            "WARNING:tensorflow:Early stopping conditioned on metric `val_loss` which is not available. Available metrics are: loss,accuracy\n",
            "WARNING:tensorflow:Learning rate reduction is conditioned on metric `val_loss` which is not available. Available metrics are: loss,accuracy,lr\n"
          ]
        },
        {
          "output_type": "stream",
          "name": "stdout",
          "text": [
            "\b\b\b\b\b\b\b\b\b\b\b\b\b\b\b\b\b\b\b\b\b\b\b\b\b\b\b\b\b\b\b\b\b\b\b\b\b\b\b\b\b\b\b\b\b\b\b\b\b\b\b\b\b\b\b\b\b\b\b\b\b\b\b\b\b\b\b\b\b\b\b\b\b\b\b\b\b\b\b\b\b\b\b\b\b\b\b\b\r120/120 [==============================] - 1s 7ms/step - loss: 1.3851e-04 - accuracy: 1.0000 - lr: 3.0000e-05\n",
            "Epoch 193/200\n",
            "115/120 [===========================>..] - ETA: 0s - loss: 5.7083e-05 - accuracy: 1.0000"
          ]
        },
        {
          "output_type": "stream",
          "name": "stderr",
          "text": [
            "WARNING:tensorflow:Early stopping conditioned on metric `val_loss` which is not available. Available metrics are: loss,accuracy\n",
            "WARNING:tensorflow:Learning rate reduction is conditioned on metric `val_loss` which is not available. Available metrics are: loss,accuracy,lr\n"
          ]
        },
        {
          "output_type": "stream",
          "name": "stdout",
          "text": [
            "\b\b\b\b\b\b\b\b\b\b\b\b\b\b\b\b\b\b\b\b\b\b\b\b\b\b\b\b\b\b\b\b\b\b\b\b\b\b\b\b\b\b\b\b\b\b\b\b\b\b\b\b\b\b\b\b\b\b\b\b\b\b\b\b\b\b\b\b\b\b\b\b\b\b\b\b\b\b\b\b\b\b\b\b\b\b\b\b\r120/120 [==============================] - 1s 7ms/step - loss: 5.6847e-05 - accuracy: 1.0000 - lr: 3.0000e-05\n",
            "Epoch 194/200\n",
            "113/120 [===========================>..] - ETA: 0s - loss: 1.0834e-04 - accuracy: 1.0000"
          ]
        },
        {
          "output_type": "stream",
          "name": "stderr",
          "text": [
            "WARNING:tensorflow:Early stopping conditioned on metric `val_loss` which is not available. Available metrics are: loss,accuracy\n",
            "WARNING:tensorflow:Learning rate reduction is conditioned on metric `val_loss` which is not available. Available metrics are: loss,accuracy,lr\n"
          ]
        },
        {
          "output_type": "stream",
          "name": "stdout",
          "text": [
            "\b\b\b\b\b\b\b\b\b\b\b\b\b\b\b\b\b\b\b\b\b\b\b\b\b\b\b\b\b\b\b\b\b\b\b\b\b\b\b\b\b\b\b\b\b\b\b\b\b\b\b\b\b\b\b\b\b\b\b\b\b\b\b\b\b\b\b\b\b\b\b\b\b\b\b\b\b\b\b\b\b\b\b\b\b\b\b\b\r120/120 [==============================] - 1s 7ms/step - loss: 1.7350e-04 - accuracy: 1.0000 - lr: 3.0000e-05\n",
            "Epoch 195/200\n",
            "118/120 [============================>.] - ETA: 0s - loss: 3.5684e-05 - accuracy: 1.0000"
          ]
        },
        {
          "output_type": "stream",
          "name": "stderr",
          "text": [
            "WARNING:tensorflow:Early stopping conditioned on metric `val_loss` which is not available. Available metrics are: loss,accuracy\n",
            "WARNING:tensorflow:Learning rate reduction is conditioned on metric `val_loss` which is not available. Available metrics are: loss,accuracy,lr\n"
          ]
        },
        {
          "output_type": "stream",
          "name": "stdout",
          "text": [
            "\b\b\b\b\b\b\b\b\b\b\b\b\b\b\b\b\b\b\b\b\b\b\b\b\b\b\b\b\b\b\b\b\b\b\b\b\b\b\b\b\b\b\b\b\b\b\b\b\b\b\b\b\b\b\b\b\b\b\b\b\b\b\b\b\b\b\b\b\b\b\b\b\b\b\b\b\b\b\b\b\b\b\b\b\b\b\b\b\r120/120 [==============================] - 1s 7ms/step - loss: 3.5286e-05 - accuracy: 1.0000 - lr: 3.0000e-05\n",
            "Epoch 196/200\n",
            "114/120 [===========================>..] - ETA: 0s - loss: 3.1339e-05 - accuracy: 1.0000"
          ]
        },
        {
          "output_type": "stream",
          "name": "stderr",
          "text": [
            "WARNING:tensorflow:Early stopping conditioned on metric `val_loss` which is not available. Available metrics are: loss,accuracy\n",
            "WARNING:tensorflow:Learning rate reduction is conditioned on metric `val_loss` which is not available. Available metrics are: loss,accuracy,lr\n"
          ]
        },
        {
          "output_type": "stream",
          "name": "stdout",
          "text": [
            "\b\b\b\b\b\b\b\b\b\b\b\b\b\b\b\b\b\b\b\b\b\b\b\b\b\b\b\b\b\b\b\b\b\b\b\b\b\b\b\b\b\b\b\b\b\b\b\b\b\b\b\b\b\b\b\b\b\b\b\b\b\b\b\b\b\b\b\b\b\b\b\b\b\b\b\b\b\b\b\b\b\b\b\b\b\b\b\b\r120/120 [==============================] - 1s 7ms/step - loss: 3.0641e-05 - accuracy: 1.0000 - lr: 3.0000e-05\n",
            "Epoch 197/200\n",
            "115/120 [===========================>..] - ETA: 0s - loss: 2.6747e-04 - accuracy: 1.0000"
          ]
        },
        {
          "output_type": "stream",
          "name": "stderr",
          "text": [
            "WARNING:tensorflow:Early stopping conditioned on metric `val_loss` which is not available. Available metrics are: loss,accuracy\n",
            "WARNING:tensorflow:Learning rate reduction is conditioned on metric `val_loss` which is not available. Available metrics are: loss,accuracy,lr\n"
          ]
        },
        {
          "output_type": "stream",
          "name": "stdout",
          "text": [
            "\b\b\b\b\b\b\b\b\b\b\b\b\b\b\b\b\b\b\b\b\b\b\b\b\b\b\b\b\b\b\b\b\b\b\b\b\b\b\b\b\b\b\b\b\b\b\b\b\b\b\b\b\b\b\b\b\b\b\b\b\b\b\b\b\b\b\b\b\b\b\b\b\b\b\b\b\b\b\b\b\b\b\b\b\b\b\b\b\r120/120 [==============================] - 1s 7ms/step - loss: 2.5778e-04 - accuracy: 1.0000 - lr: 3.0000e-05\n",
            "Epoch 198/200\n",
            "120/120 [==============================] - ETA: 0s - loss: 2.0886e-04 - accuracy: 1.0000"
          ]
        },
        {
          "output_type": "stream",
          "name": "stderr",
          "text": [
            "WARNING:tensorflow:Early stopping conditioned on metric `val_loss` which is not available. Available metrics are: loss,accuracy\n",
            "WARNING:tensorflow:Learning rate reduction is conditioned on metric `val_loss` which is not available. Available metrics are: loss,accuracy,lr\n"
          ]
        },
        {
          "output_type": "stream",
          "name": "stdout",
          "text": [
            "\b\b\b\b\b\b\b\b\b\b\b\b\b\b\b\b\b\b\b\b\b\b\b\b\b\b\b\b\b\b\b\b\b\b\b\b\b\b\b\b\b\b\b\b\b\b\b\b\b\b\b\b\b\b\b\b\b\b\b\b\b\b\b\b\b\b\b\b\b\b\b\b\b\b\b\b\b\b\b\b\b\b\b\b\b\b\b\b\r120/120 [==============================] - 1s 7ms/step - loss: 2.0886e-04 - accuracy: 1.0000 - lr: 3.0000e-05\n",
            "Epoch 199/200\n",
            "113/120 [===========================>..] - ETA: 0s - loss: 1.2405e-04 - accuracy: 1.0000"
          ]
        },
        {
          "output_type": "stream",
          "name": "stderr",
          "text": [
            "WARNING:tensorflow:Early stopping conditioned on metric `val_loss` which is not available. Available metrics are: loss,accuracy\n",
            "WARNING:tensorflow:Learning rate reduction is conditioned on metric `val_loss` which is not available. Available metrics are: loss,accuracy,lr\n"
          ]
        },
        {
          "output_type": "stream",
          "name": "stdout",
          "text": [
            "\b\b\b\b\b\b\b\b\b\b\b\b\b\b\b\b\b\b\b\b\b\b\b\b\b\b\b\b\b\b\b\b\b\b\b\b\b\b\b\b\b\b\b\b\b\b\b\b\b\b\b\b\b\b\b\b\b\b\b\b\b\b\b\b\b\b\b\b\b\b\b\b\b\b\b\b\b\b\b\b\b\b\b\b\b\b\b\b\r120/120 [==============================] - 1s 7ms/step - loss: 1.1972e-04 - accuracy: 1.0000 - lr: 3.0000e-05\n",
            "Epoch 200/200\n",
            "118/120 [============================>.] - ETA: 0s - loss: 6.7441e-05 - accuracy: 1.0000"
          ]
        },
        {
          "output_type": "stream",
          "name": "stderr",
          "text": [
            "WARNING:tensorflow:Early stopping conditioned on metric `val_loss` which is not available. Available metrics are: loss,accuracy\n",
            "WARNING:tensorflow:Learning rate reduction is conditioned on metric `val_loss` which is not available. Available metrics are: loss,accuracy,lr\n"
          ]
        },
        {
          "output_type": "stream",
          "name": "stdout",
          "text": [
            "\b\b\b\b\b\b\b\b\b\b\b\b\b\b\b\b\b\b\b\b\b\b\b\b\b\b\b\b\b\b\b\b\b\b\b\b\b\b\b\b\b\b\b\b\b\b\b\b\b\b\b\b\b\b\b\b\b\b\b\b\b\b\b\b\b\b\b\b\b\b\b\b\b\b\b\b\b\b\b\b\b\b\b\b\b\b\b\b\r120/120 [==============================] - 1s 7ms/step - loss: 6.7193e-05 - accuracy: 1.0000 - lr: 3.0000e-05\n"
          ]
        }
      ]
    },
    {
      "cell_type": "markdown",
      "source": [
        "# log loss"
      ],
      "metadata": {
        "id": "U3Xg55v7ZbWc"
      }
    },
    {
      "cell_type": "code",
      "source": [
        "CNN1_network_predictions = CNN1_network.predict(padded_clean_text_t_stem)"
      ],
      "metadata": {
        "id": "dbcI7RTeZcn2"
      },
      "execution_count": null,
      "outputs": []
    },
    {
      "cell_type": "code",
      "source": [
        "from sklearn.metrics import log_loss\n",
        "log_loss_test= log_loss(label_twoDimension_t,CNN1_network_predictions)\n",
        "log_loss_test"
      ],
      "metadata": {
        "colab": {
          "base_uri": "https://localhost:8080/"
        },
        "id": "vBA3XmTFZf4y",
        "outputId": "924e7fec-2100-40e3-bbc3-b29180562eb1"
      },
      "execution_count": null,
      "outputs": [
        {
          "output_type": "execute_result",
          "data": {
            "text/plain": [
              "3.137409719470146"
            ]
          },
          "metadata": {},
          "execution_count": 67
        }
      ]
    },
    {
      "cell_type": "markdown",
      "source": [
        "# Classification Report\n"
      ],
      "metadata": {
        "id": "gIX9etNsZiSb"
      }
    },
    {
      "cell_type": "code",
      "source": [
        "predictions = np.zeros_like(CNN1_network_predictions)\n",
        "predictions[np.arange(len(CNN1_network_predictions)), CNN1_network_predictions.argmax(1)] = 1\n",
        "\n"
      ],
      "metadata": {
        "id": "EejyfrakZjSe"
      },
      "execution_count": null,
      "outputs": []
    },
    {
      "cell_type": "code",
      "source": [
        "\n",
        "\n",
        "predictionInteger=(np.argmax(predictions, axis=1))\n",
        "predictionInteger\n",
        "\n"
      ],
      "metadata": {
        "colab": {
          "base_uri": "https://localhost:8080/"
        },
        "id": "gegx60d8ZmD0",
        "outputId": "de97da37-d9d7-4798-978d-f8f70a65170b"
      },
      "execution_count": null,
      "outputs": [
        {
          "output_type": "execute_result",
          "data": {
            "text/plain": [
              "array([1, 1, 1, 1, 0, 1, 1, 1, 0, 1, 1, 1, 1, 1, 1, 1, 0, 1, 1, 0, 1, 1,\n",
              "       0, 1, 0, 1, 1, 1, 1, 1, 1, 1, 1, 0, 1, 1, 1, 0, 1, 1, 1, 1, 1, 0,\n",
              "       1, 0, 1, 1, 1, 1, 1, 1, 1, 1, 1, 0, 1, 1, 1, 0, 0, 1, 0, 1, 1, 1,\n",
              "       1, 1, 1, 1, 1, 1, 1, 1, 1, 1, 1, 1, 1, 0, 1, 1, 1, 1, 1, 1, 1, 1,\n",
              "       1, 1, 1, 1, 1, 1, 1, 1, 1, 1, 1, 1, 1, 1, 1, 1, 1, 1, 1, 1, 0, 1,\n",
              "       1, 0, 1, 1, 1, 0, 1, 1, 1, 1, 1, 0, 0, 0, 1, 1, 1, 1, 1, 1, 1, 1,\n",
              "       1, 1, 1, 1, 1, 1, 1, 1, 1, 1, 1, 1, 1, 1, 1, 1, 1, 1, 1, 1, 1, 1,\n",
              "       1, 1, 1, 1, 1, 1, 1, 1, 1, 0, 0, 1, 1, 1, 1, 1, 1, 1, 1, 1, 1, 1,\n",
              "       0, 1, 1, 1, 1, 1, 1, 1, 1, 1, 0, 1, 1, 1, 1, 1, 1, 1, 1, 1, 1, 1,\n",
              "       1, 1, 1, 1, 1, 1, 0, 0, 1, 1, 1, 1, 1, 0, 1, 0, 1, 1, 1, 1, 1, 0,\n",
              "       1, 1, 1, 1, 1, 1, 1, 1, 1, 1, 1, 0, 1, 0, 1, 1, 1, 1, 1, 1, 0, 1,\n",
              "       1, 0, 1, 0, 1, 0, 1, 0, 1, 1, 1, 1, 1, 1, 1, 1, 0, 1, 1, 0, 1, 1,\n",
              "       1, 1, 1, 1, 1, 1, 1, 1, 1, 1, 1, 1, 1, 1, 1, 1, 1, 0, 1, 1, 1, 1,\n",
              "       1, 1, 1, 1, 1, 1, 1, 1, 1, 1, 1, 1, 1, 0, 1, 1, 1, 1, 0, 1, 1, 1,\n",
              "       0, 1, 1, 1, 1, 1, 1, 1, 1, 1, 1, 1, 1, 1, 0, 1, 1, 1, 0, 1, 1, 1,\n",
              "       1, 1, 1, 1, 1, 1, 1, 1, 1, 1, 0, 1, 1, 1, 1, 1, 1, 1, 1, 1, 1, 1,\n",
              "       1, 1, 1, 1, 1, 1, 0, 1, 0, 0, 1, 1, 1, 1, 1, 1, 1, 0, 1, 1, 1, 1,\n",
              "       1, 1, 1, 1, 0, 1, 1, 1, 1, 0, 1, 1, 1, 1, 1, 0, 1, 1, 1, 0, 0, 1,\n",
              "       1, 1, 0, 1, 0, 1, 1, 1, 1, 1, 1, 1, 1, 1, 1, 1, 1, 1, 1, 1, 1, 1,\n",
              "       1, 1, 1, 0, 1, 0, 1, 1, 1, 1, 0, 1, 1, 1, 1, 1, 1, 0, 1, 1, 1, 1,\n",
              "       1, 1, 1, 0, 1, 1, 1, 1, 1, 1, 1, 1, 0, 1, 1, 1, 1, 1, 1, 1, 1, 1,\n",
              "       1, 1, 1, 1, 1, 1, 1, 1, 1, 1, 1, 1, 1, 1, 1, 1, 1, 1, 1, 1, 1, 1,\n",
              "       1, 1, 0, 1, 1, 1, 1, 1, 0, 1, 1, 1, 0, 1, 1, 1, 1, 1, 1, 1, 1, 1,\n",
              "       1, 1, 0, 1, 1, 0, 1, 1, 1, 1, 1, 1, 0, 1, 1, 1, 1, 1, 1, 0])"
            ]
          },
          "metadata": {},
          "execution_count": 69
        }
      ]
    },
    {
      "cell_type": "code",
      "source": [
        "\n",
        "\n",
        "pred_label = np.array(predictionInteger)\n",
        "df = pd.DataFrame(data=pred_label , columns=[\"task1\"])\n",
        "print(df)\n",
        "\n"
      ],
      "metadata": {
        "colab": {
          "base_uri": "https://localhost:8080/"
        },
        "id": "oceUPc_tZniC",
        "outputId": "e2078561-a0b3-49ae-b509-2d5839ad8d26"
      },
      "execution_count": null,
      "outputs": [
        {
          "output_type": "stream",
          "name": "stdout",
          "text": [
            "     task1\n",
            "0        1\n",
            "1        1\n",
            "2        1\n",
            "3        1\n",
            "4        0\n",
            "..     ...\n",
            "521      1\n",
            "522      1\n",
            "523      1\n",
            "524      1\n",
            "525      0\n",
            "\n",
            "[526 rows x 1 columns]\n"
          ]
        }
      ]
    },
    {
      "cell_type": "code",
      "source": [
        "df.to_csv(\"NSIT_submission_DE_Train_HASOC2019_Test_HASOC2020_TASK_A.csv\", index=False)"
      ],
      "metadata": {
        "id": "Ey4jhyzcZpFS"
      },
      "execution_count": null,
      "outputs": []
    },
    {
      "cell_type": "code",
      "source": [
        "\n",
        "\n",
        "from sklearn.metrics import classification_report\n",
        "print(classification_report(label_twoDimension_t,predictions))\n",
        "\n"
      ],
      "metadata": {
        "colab": {
          "base_uri": "https://localhost:8080/"
        },
        "id": "XLy5CXJXZtSj",
        "outputId": "5d8c8db4-d5eb-4001-ee11-a616425751b8"
      },
      "execution_count": null,
      "outputs": [
        {
          "output_type": "stream",
          "name": "stdout",
          "text": [
            "              precision    recall  f1-score   support\n",
            "\n",
            "           0       0.61      0.27      0.37       161\n",
            "           1       0.74      0.93      0.82       365\n",
            "\n",
            "   micro avg       0.72      0.72      0.72       526\n",
            "   macro avg       0.68      0.60      0.60       526\n",
            "weighted avg       0.70      0.72      0.69       526\n",
            " samples avg       0.72      0.72      0.72       526\n",
            "\n"
          ]
        }
      ]
    },
    {
      "cell_type": "markdown",
      "source": [
        "# Epoch v/s Loss Plot\n"
      ],
      "metadata": {
        "id": "vtezBAMJZvBv"
      }
    },
    {
      "cell_type": "code",
      "source": [
        "\n",
        "\n",
        "from matplotlib import pyplot as plt\n",
        "plt.plot(hist.history[\"loss\"],color = 'red', label = 'train_loss')\n",
        "#plt.plot(hist.history[\"val_loss\"],color = 'blue', label = 'val_loss')\n",
        "plt.title('Loss Visualisation')\n",
        "plt.xlabel('Epochs')\n",
        "plt.ylabel('Loss')\n",
        "plt.legend()\n",
        "plt.savefig('CNN1_Train_HASOC2019_Test_HASOC2020_TASK_A_Ger_lossPlot.pdf',dpi=1000)\n",
        "\n",
        "from google.colab import files\n",
        "files.download('CNN1_Train_HASOC2019_Test_HASOC2020_TASK_A_Ger_lossPlot.pdf') \n",
        "\n"
      ],
      "metadata": {
        "colab": {
          "base_uri": "https://localhost:8080/"
        },
        "id": "3Q4VbA71ZwwS",
        "outputId": "e4f64462-56fd-42cd-ddfa-1528db761241"
      },
      "execution_count": null,
      "outputs": [
        {
          "output_type": "display_data",
          "data": {
            "text/plain": [
              "<IPython.core.display.Javascript object>"
            ],
            "application/javascript": [
              "\n",
              "    async function download(id, filename, size) {\n",
              "      if (!google.colab.kernel.accessAllowed) {\n",
              "        return;\n",
              "      }\n",
              "      const div = document.createElement('div');\n",
              "      const label = document.createElement('label');\n",
              "      label.textContent = `Downloading \"${filename}\": `;\n",
              "      div.appendChild(label);\n",
              "      const progress = document.createElement('progress');\n",
              "      progress.max = size;\n",
              "      div.appendChild(progress);\n",
              "      document.body.appendChild(div);\n",
              "\n",
              "      const buffers = [];\n",
              "      let downloaded = 0;\n",
              "\n",
              "      const channel = await google.colab.kernel.comms.open(id);\n",
              "      // Send a message to notify the kernel that we're ready.\n",
              "      channel.send({})\n",
              "\n",
              "      for await (const message of channel.messages) {\n",
              "        // Send a message to notify the kernel that we're ready.\n",
              "        channel.send({})\n",
              "        if (message.buffers) {\n",
              "          for (const buffer of message.buffers) {\n",
              "            buffers.push(buffer);\n",
              "            downloaded += buffer.byteLength;\n",
              "            progress.value = downloaded;\n",
              "          }\n",
              "        }\n",
              "      }\n",
              "      const blob = new Blob(buffers, {type: 'application/binary'});\n",
              "      const a = document.createElement('a');\n",
              "      a.href = window.URL.createObjectURL(blob);\n",
              "      a.download = filename;\n",
              "      div.appendChild(a);\n",
              "      a.click();\n",
              "      div.remove();\n",
              "    }\n",
              "  "
            ]
          },
          "metadata": {}
        },
        {
          "output_type": "display_data",
          "data": {
            "text/plain": [
              "<IPython.core.display.Javascript object>"
            ],
            "application/javascript": [
              "download(\"download_153a84ef-56b6-427c-8ef4-9d06cd07bf18\", \"CNN1_Train_HASOC2019_Test_HASOC2020_TASK_A_Ger_lossPlot.pdf\", 11737)"
            ]
          },
          "metadata": {}
        },
        {
          "output_type": "display_data",
          "data": {
            "text/plain": [
              "<Figure size 432x288 with 1 Axes>"
            ],
            "image/png": "[encoded data removed]"
          },
          "metadata": {
            "needs_background": "light"
          }
        }
      ]
    },
    {
      "cell_type": "markdown",
      "source": [
        "# Epoch v/s Accuracy Plot\n"
      ],
      "metadata": {
        "id": "NEu9wKuUZ0z3"
      }
    },
    {
      "cell_type": "code",
      "source": [
        "\n",
        "\n",
        "plt.plot(hist.history[\"accuracy\"],color = 'red', label = 'train_accuracy')\n",
        "#plt.plot(hist.history[\"val_accuracy\"],color = 'blue', label = 'val_accuracy')\n",
        "plt.title('Accuracy Visualisation')\n",
        "plt.xlabel('Epochs')\n",
        "plt.ylabel('Accuracy')\n",
        "plt.legend()\n",
        "plt.savefig('CNN1_Train_HASOC2019_Test_HASOC2020_TASK_A_Ger_accuracyPlot.pdf',dpi=1000)\n",
        "files.download('CNN1_Train_HASOC2019_Test_HASOC2020_TASK_A_Ger_accuracyPlot.pdf') \n",
        "\n"
      ],
      "metadata": {
        "colab": {
          "base_uri": "https://localhost:8080/"
        },
        "id": "6Ad_2uQZZyuB",
        "outputId": "824c5386-422e-4c8b-8eed-596379d55ce1"
      },
      "execution_count": null,
      "outputs": [
        {
          "output_type": "display_data",
          "data": {
            "text/plain": [
              "<IPython.core.display.Javascript object>"
            ],
            "application/javascript": [
              "\n",
              "    async function download(id, filename, size) {\n",
              "      if (!google.colab.kernel.accessAllowed) {\n",
              "        return;\n",
              "      }\n",
              "      const div = document.createElement('div');\n",
              "      const label = document.createElement('label');\n",
              "      label.textContent = `Downloading \"${filename}\": `;\n",
              "      div.appendChild(label);\n",
              "      const progress = document.createElement('progress');\n",
              "      progress.max = size;\n",
              "      div.appendChild(progress);\n",
              "      document.body.appendChild(div);\n",
              "\n",
              "      const buffers = [];\n",
              "      let downloaded = 0;\n",
              "\n",
              "      const channel = await google.colab.kernel.comms.open(id);\n",
              "      // Send a message to notify the kernel that we're ready.\n",
              "      channel.send({})\n",
              "\n",
              "      for await (const message of channel.messages) {\n",
              "        // Send a message to notify the kernel that we're ready.\n",
              "        channel.send({})\n",
              "        if (message.buffers) {\n",
              "          for (const buffer of message.buffers) {\n",
              "            buffers.push(buffer);\n",
              "            downloaded += buffer.byteLength;\n",
              "            progress.value = downloaded;\n",
              "          }\n",
              "        }\n",
              "      }\n",
              "      const blob = new Blob(buffers, {type: 'application/binary'});\n",
              "      const a = document.createElement('a');\n",
              "      a.href = window.URL.createObjectURL(blob);\n",
              "      a.download = filename;\n",
              "      div.appendChild(a);\n",
              "      a.click();\n",
              "      div.remove();\n",
              "    }\n",
              "  "
            ]
          },
          "metadata": {}
        },
        {
          "output_type": "display_data",
          "data": {
            "text/plain": [
              "<IPython.core.display.Javascript object>"
            ],
            "application/javascript": [
              "download(\"download_0a4a6d78-8e03-4e31-b2c1-ef3f92f5dcc9\", \"CNN1_Train_HASOC2019_Test_HASOC2020_TASK_A_Ger_accuracyPlot.pdf\", 12530)"
            ]
          },
          "metadata": {}
        },
        {
          "output_type": "display_data",
          "data": {
            "text/plain": [
              "<Figure size 432x288 with 1 Axes>"
            ],
            "image/png": "[encoded data removed]"
          },
          "metadata": {
            "needs_background": "light"
          }
        }
      ]
    },
    {
      "cell_type": "markdown",
      "source": [
        "# Area under Curve-ROC\n"
      ],
      "metadata": {
        "id": "ce9BJNbLZ65e"
      }
    },
    {
      "cell_type": "code",
      "source": [
        "\n",
        "\n",
        "pred_train = CNN1_network.predict(padded_clean_text_stem)\n",
        "pred_test = CNN1_network.predict(padded_clean_text_t_stem)\n",
        "\n"
      ],
      "metadata": {
        "id": "swegVICbZ5_M"
      },
      "execution_count": null,
      "outputs": []
    },
    {
      "cell_type": "code",
      "source": [
        "\n",
        "\n",
        "import numpy as np\n",
        "import matplotlib.pyplot as plt\n",
        "from itertools import cycle\n",
        "\n",
        "from sklearn import svm, datasets\n",
        "from sklearn.metrics import roc_curve, auc\n",
        "from sklearn.model_selection import train_test_split\n",
        "from sklearn.preprocessing import label_binarize\n",
        "from sklearn.multiclass import OneVsRestClassifier\n",
        "from scipy import interp\n",
        "\n",
        "def plot_AUC_ROC(y_true, y_pred):\n",
        "    n_classes = 2 #change this value according to class value\n",
        "\n",
        "    # Compute ROC curve and ROC area for each class\n",
        "    fpr = dict()\n",
        "    tpr = dict()\n",
        "    roc_auc = dict()\n",
        "    for i in range(n_classes):\n",
        "        fpr[i], tpr[i], _ = roc_curve(y_true[:, i], y_pred[:, i])\n",
        "        roc_auc[i] = auc(fpr[i], tpr[i])\n",
        "\n",
        "    # Compute micro-average ROC curve and ROC area\n",
        "    fpr[\"micro\"], tpr[\"micro\"], _ = roc_curve(y_true.ravel(), y_pred.ravel())\n",
        "    roc_auc[\"micro\"] = auc(fpr[\"micro\"], tpr[\"micro\"])\n",
        "############################################################################################\n",
        "    lw = 2\n",
        "    # Compute macro-average ROC curve and ROC area\n",
        "\n",
        "    # First aggregate all false positive rates\n",
        "    all_fpr = np.unique(np.concatenate([fpr[i] for i in range(n_classes)]))\n",
        "\n",
        "    # Then interpolate all ROC curves at this points\n",
        "    mean_tpr = np.zeros_like(all_fpr)\n",
        "    for i in range(n_classes):\n",
        "        mean_tpr += interp(all_fpr, fpr[i], tpr[i])\n",
        "\n",
        "    # Finally average it and compute AUC\n",
        "    mean_tpr /= n_classes\n",
        "\n",
        "    fpr[\"macro\"] = all_fpr\n",
        "    tpr[\"macro\"] = mean_tpr\n",
        "    roc_auc[\"macro\"] = auc(fpr[\"macro\"], tpr[\"macro\"])\n",
        "\n",
        "    # Plot all ROC curves\n",
        "    plt.figure()\n",
        "    \n",
        "    plt.plot(fpr[\"micro\"], tpr[\"micro\"],\n",
        "            label='micro-average ROC curve (area = {0:0.2f})'\n",
        "               ''.format(roc_auc[\"micro\"]),\n",
        "            color='deeppink', linestyle=':', linewidth=4)\n",
        "\n",
        "    plt.plot(fpr[\"macro\"], tpr[\"macro\"],\n",
        "            label='macro-average ROC curve (area = {0:0.2f})'\n",
        "               ''.format(roc_auc[\"macro\"]),\n",
        "            color='navy', linestyle=':', linewidth=4)\n",
        "    \n",
        "    colors = cycle(['aqua', 'darkorange'])\n",
        "    #classes_list1 = [\"DE\",\"NE\",\"DK\"]\n",
        "    classes_list1 = [\"Non-duplicate\",\"Duplicate\"]\n",
        "    for i, color,c in zip(range(n_classes), colors,classes_list1):\n",
        "        plt.plot(fpr[i], tpr[i], color=color, lw=lw,\n",
        "                label='{0} (AUC = {1:0.2f})'\n",
        "                ''.format(c, roc_auc[i]))\n",
        "\n",
        "    plt.plot([0, 1], [0, 1], 'k--', lw=lw)\n",
        "    plt.xlim([0.0, 1.0])\n",
        "    plt.ylim([0.0, 1.05])\n",
        "    plt.xlabel('False Positive Rate')\n",
        "    plt.ylabel('True Positive Rate')\n",
        "    plt.title('Receiver operating characteristic curve')\n",
        "    plt.legend(loc=\"lower right\")\n",
        "    #plt.show()\n",
        "    plt.savefig('CNN1_Train_HASOC2019_Test_HASOC2020_TASK_A_Ger_Area_RocPlot.pdf',dpi=1000)\n",
        "    files.download('CNN1_Train_HASOC2019_Test_HASOC2020_TASK_A_Ger_Area_RocPlot.pdf')\n",
        "\n",
        "  \n",
        "\n"
      ],
      "metadata": {
        "id": "0IMSFAXwZ_Va"
      },
      "execution_count": null,
      "outputs": []
    },
    {
      "cell_type": "code",
      "source": [
        "plot_AUC_ROC(label_twoDimension_t,pred_test)"
      ],
      "metadata": {
        "colab": {
          "base_uri": "https://localhost:8080/"
        },
        "id": "f4qx5tmXaB0L",
        "outputId": "75c6847d-be93-4c9d-bc87-fa99523697b2"
      },
      "execution_count": null,
      "outputs": [
        {
          "output_type": "stream",
          "name": "stderr",
          "text": [
            "/usr/local/lib/python3.7/dist-packages/ipykernel_launcher.py:36: DeprecationWarning: scipy.interp is deprecated and will be removed in SciPy 2.0.0, use numpy.interp instead\n"
          ]
        },
        {
          "output_type": "display_data",
          "data": {
            "text/plain": [
              "<IPython.core.display.Javascript object>"
            ],
            "application/javascript": [
              "\n",
              "    async function download(id, filename, size) {\n",
              "      if (!google.colab.kernel.accessAllowed) {\n",
              "        return;\n",
              "      }\n",
              "      const div = document.createElement('div');\n",
              "      const label = document.createElement('label');\n",
              "      label.textContent = `Downloading \"${filename}\": `;\n",
              "      div.appendChild(label);\n",
              "      const progress = document.createElement('progress');\n",
              "      progress.max = size;\n",
              "      div.appendChild(progress);\n",
              "      document.body.appendChild(div);\n",
              "\n",
              "      const buffers = [];\n",
              "      let downloaded = 0;\n",
              "\n",
              "      const channel = await google.colab.kernel.comms.open(id);\n",
              "      // Send a message to notify the kernel that we're ready.\n",
              "      channel.send({})\n",
              "\n",
              "      for await (const message of channel.messages) {\n",
              "        // Send a message to notify the kernel that we're ready.\n",
              "        channel.send({})\n",
              "        if (message.buffers) {\n",
              "          for (const buffer of message.buffers) {\n",
              "            buffers.push(buffer);\n",
              "            downloaded += buffer.byteLength;\n",
              "            progress.value = downloaded;\n",
              "          }\n",
              "        }\n",
              "      }\n",
              "      const blob = new Blob(buffers, {type: 'application/binary'});\n",
              "      const a = document.createElement('a');\n",
              "      a.href = window.URL.createObjectURL(blob);\n",
              "      a.download = filename;\n",
              "      div.appendChild(a);\n",
              "      a.click();\n",
              "      div.remove();\n",
              "    }\n",
              "  "
            ]
          },
          "metadata": {}
        },
        {
          "output_type": "display_data",
          "data": {
            "text/plain": [
              "<IPython.core.display.Javascript object>"
            ],
            "application/javascript": [
              "download(\"download_10a5438b-5593-430e-8bd6-ecea4bc7cbac\", \"CNN1_Train_HASOC2019_Test_HASOC2020_TASK_A_Ger_Area_RocPlot.pdf\", 21307)"
            ]
          },
          "metadata": {}
        },
        {
          "output_type": "display_data",
          "data": {
            "text/plain": [
              "<Figure size 432x288 with 1 Axes>"
            ],
            "image/png": "[encoded data removed]"
          },
          "metadata": {
            "needs_background": "light"
          }
        }
      ]
    }
  ]
}