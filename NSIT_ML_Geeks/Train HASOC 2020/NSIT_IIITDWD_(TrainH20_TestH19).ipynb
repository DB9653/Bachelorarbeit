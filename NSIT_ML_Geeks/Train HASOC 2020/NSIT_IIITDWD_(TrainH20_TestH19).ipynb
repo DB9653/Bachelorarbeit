{
  "nbformat": 4,
  "nbformat_minor": 0,
  "metadata": {
    "colab": {
      "provenance": [],
      "include_colab_link": true
    },
    "kernelspec": {
      "name": "python3",
      "display_name": "Python 3"
    },
    "language_info": {
      "name": "python"
    },
    "accelerator": "GPU"
  },
  "cells": [
    {
      "cell_type": "markdown",
      "metadata": {
        "id": "view-in-github",
        "colab_type": "text"
      },
      "source": [
        "<a href=\"https://colab.research.google.com/github/DB9653/Bachelorarbeit/blob/main/NSIT_IIITDWD_(TrainH20_TestH19).ipynb\" target=\"_parent\"><img src=\"https://colab.research.google.com/assets/colab-badge.svg\" alt=\"Open In Colab\"/></a>"
      ]
    },
    {
      "cell_type": "markdown",
      "source": [
        "Quelle: https://github.com/roushan-raj/HASOC-2020/blob/master/Models/German%20Models/German%20Sub-task%20A.ipynb\n"
      ],
      "metadata": {
        "id": "8pdYFRmoIhyM"
      }
    },
    {
      "cell_type": "code",
      "source": [
        "import tensorflow as tf\n",
        "tf.test.gpu_device_name()"
      ],
      "metadata": {
        "colab": {
          "base_uri": "https://localhost:8080/",
          "height": 35
        },
        "id": "hof4s6snVN0W",
        "outputId": "f13f72a7-5c5a-47fd-a31a-e54a537a1848"
      },
      "execution_count": null,
      "outputs": [
        {
          "output_type": "execute_result",
          "data": {
            "text/plain": [
              "'/device:GPU:0'"
            ],
            "application/vnd.google.colaboratory.intrinsic+json": {
              "type": "string"
            }
          },
          "metadata": {},
          "execution_count": 1
        }
      ]
    },
    {
      "cell_type": "markdown",
      "source": [
        "\n",
        "# Dataset Reading\n"
      ],
      "metadata": {
        "id": "CU0P3rpqJMHH"
      }
    },
    {
      "cell_type": "code",
      "execution_count": null,
      "metadata": {
        "colab": {
          "base_uri": "https://localhost:8080/"
        },
        "id": "UtPbRsnBIVpd",
        "outputId": "ea2369de-6ba7-4523-f90a-38612574c55d"
      },
      "outputs": [
        {
          "output_type": "execute_result",
          "data": {
            "text/plain": [
              "              tweet_id  \\\n",
              "0  1133388798925189122   \n",
              "1  1127134592517980161   \n",
              "2  1128897106171842560   \n",
              "3  1123576753199484928   \n",
              "4  1128743783393312768   \n",
              "5  1134139256375525376   \n",
              "6  1132759271618293761   \n",
              "7  1131107693123526657   \n",
              "8  1133093570229997573   \n",
              "9  1126898700683501569   \n",
              "\n",
              "                                                                                                                                           text  \\\n",
              "0               Deutsche rothaarige porno reife deutsche frauen porno. Deutsche politessen pornos porno deutsch inzets. https://t.co/xAag87Y0Jd   \n",
              "1  RT @NDRinfo: Die deutsche Klimaaktivistin Luisa Neubauer wirft Kanzlerin Merkel wegen ihrer fehlenden Unterstützung für den europäischen Kl…   \n",
              "2                                                           @ruhrbahn jeden Morgen eine neue „Fahrzeugstörung“, ihr seid einfach nur zum Kotzen   \n",
              "3    @Junge_Freiheit Die Inkas hatten sich schon dämlich angestellt, bei den spanischen Eindringlingen, aber der Deutsche toppt dann doch alles   \n",
              "4                       RT @technosteron: leute die 'boar' schreiben lassen sich bestimmt auch von ihren analphabetischen Vater in arsch ficken   \n",
              "5                                                              ich habe mir gerade diese dorne aus meinem arsch gezogen https://t.co/x40mpKgBZN   \n",
              "6                                                                     RT @Schrammi44: Er ist einfach der GOAT @Bouncaay https://t.co/bb9b5SWaKi   \n",
              "7  KFM Deutsche Mittelstand AG: Deutscher Mittelstandsanleihen FONDS zeichnet neue Hörmann-Anleihe mit Mindest-Kupon 4… https://t.co/5HeRedf9cx   \n",
              "8                                      @mentalshards_ ich will jetzt nicht offenden oder so, ich will einfach nur, das die scheiße weniger wird   \n",
              "9                                                                                RT @SteinbachErika: Einfach skandalös! https://t.co/dC5NXFbviQ   \n",
              "\n",
              "  task1 task2                  ID  \n",
              "0   NOT  NONE  hasoc_2020_de_2684  \n",
              "1   NOT  NONE  hasoc_2020_de_1042  \n",
              "2   NOT  NONE   hasoc_2020_de_774  \n",
              "3   NOT  NONE   hasoc_2020_de_559  \n",
              "4   HOF  PRFN  hasoc_2020_de_1969  \n",
              "5   HOF  PRFN  hasoc_2020_de_2926  \n",
              "6   NOT  NONE  hasoc_2020_de_2994  \n",
              "7   NOT  NONE  hasoc_2020_de_1574  \n",
              "8   HOF  PRFN  hasoc_2020_de_1480  \n",
              "9   NOT  NONE  hasoc_2020_de_3224  "
            ],
            "text/html": [
              "\n",
              "  <div id=\"df-789f1f13-03f1-4aae-84b1-f571c9ddb4de\">\n",
              "    <div class=\"colab-df-container\">\n",
              "      <div>\n",
              "<style scoped>\n",
              "    .dataframe tbody tr th:only-of-type {\n",
              "        vertical-align: middle;\n",
              "    }\n",
              "\n",
              "    .dataframe tbody tr th {\n",
              "        vertical-align: top;\n",
              "    }\n",
              "\n",
              "    .dataframe thead th {\n",
              "        text-align: right;\n",
              "    }\n",
              "</style>\n",
              "<table border=\"1\" class=\"dataframe\">\n",
              "  <thead>\n",
              "    <tr style=\"text-align: right;\">\n",
              "      <th></th>\n",
              "      <th>tweet_id</th>\n",
              "      <th>text</th>\n",
              "      <th>task1</th>\n",
              "      <th>task2</th>\n",
              "      <th>ID</th>\n",
              "    </tr>\n",
              "  </thead>\n",
              "  <tbody>\n",
              "    <tr>\n",
              "      <th>0</th>\n",
              "      <td>1133388798925189122</td>\n",
              "      <td>Deutsche rothaarige porno reife deutsche frauen porno. Deutsche politessen pornos porno deutsch inzets. https://t.co/xAag87Y0Jd</td>\n",
              "      <td>NOT</td>\n",
              "      <td>NONE</td>\n",
              "      <td>hasoc_2020_de_2684</td>\n",
              "    </tr>\n",
              "    <tr>\n",
              "      <th>1</th>\n",
              "      <td>1127134592517980161</td>\n",
              "      <td>RT @NDRinfo: Die deutsche Klimaaktivistin Luisa Neubauer wirft Kanzlerin Merkel wegen ihrer fehlenden Unterstützung für den europäischen Kl…</td>\n",
              "      <td>NOT</td>\n",
              "      <td>NONE</td>\n",
              "      <td>hasoc_2020_de_1042</td>\n",
              "    </tr>\n",
              "    <tr>\n",
              "      <th>2</th>\n",
              "      <td>1128897106171842560</td>\n",
              "      <td>@ruhrbahn jeden Morgen eine neue „Fahrzeugstörung“, ihr seid einfach nur zum Kotzen</td>\n",
              "      <td>NOT</td>\n",
              "      <td>NONE</td>\n",
              "      <td>hasoc_2020_de_774</td>\n",
              "    </tr>\n",
              "    <tr>\n",
              "      <th>3</th>\n",
              "      <td>1123576753199484928</td>\n",
              "      <td>@Junge_Freiheit Die Inkas hatten sich schon dämlich angestellt, bei den spanischen Eindringlingen, aber der Deutsche toppt dann doch alles</td>\n",
              "      <td>NOT</td>\n",
              "      <td>NONE</td>\n",
              "      <td>hasoc_2020_de_559</td>\n",
              "    </tr>\n",
              "    <tr>\n",
              "      <th>4</th>\n",
              "      <td>1128743783393312768</td>\n",
              "      <td>RT @technosteron: leute die 'boar' schreiben lassen sich bestimmt auch von ihren analphabetischen Vater in arsch ficken</td>\n",
              "      <td>HOF</td>\n",
              "      <td>PRFN</td>\n",
              "      <td>hasoc_2020_de_1969</td>\n",
              "    </tr>\n",
              "    <tr>\n",
              "      <th>5</th>\n",
              "      <td>1134139256375525376</td>\n",
              "      <td>ich habe mir gerade diese dorne aus meinem arsch gezogen https://t.co/x40mpKgBZN</td>\n",
              "      <td>HOF</td>\n",
              "      <td>PRFN</td>\n",
              "      <td>hasoc_2020_de_2926</td>\n",
              "    </tr>\n",
              "    <tr>\n",
              "      <th>6</th>\n",
              "      <td>1132759271618293761</td>\n",
              "      <td>RT @Schrammi44: Er ist einfach der GOAT @Bouncaay https://t.co/bb9b5SWaKi</td>\n",
              "      <td>NOT</td>\n",
              "      <td>NONE</td>\n",
              "      <td>hasoc_2020_de_2994</td>\n",
              "    </tr>\n",
              "    <tr>\n",
              "      <th>7</th>\n",
              "      <td>1131107693123526657</td>\n",
              "      <td>KFM Deutsche Mittelstand AG: Deutscher Mittelstandsanleihen FONDS zeichnet neue Hörmann-Anleihe mit Mindest-Kupon 4… https://t.co/5HeRedf9cx</td>\n",
              "      <td>NOT</td>\n",
              "      <td>NONE</td>\n",
              "      <td>hasoc_2020_de_1574</td>\n",
              "    </tr>\n",
              "    <tr>\n",
              "      <th>8</th>\n",
              "      <td>1133093570229997573</td>\n",
              "      <td>@mentalshards_ ich will jetzt nicht offenden oder so, ich will einfach nur, das die scheiße weniger wird</td>\n",
              "      <td>HOF</td>\n",
              "      <td>PRFN</td>\n",
              "      <td>hasoc_2020_de_1480</td>\n",
              "    </tr>\n",
              "    <tr>\n",
              "      <th>9</th>\n",
              "      <td>1126898700683501569</td>\n",
              "      <td>RT @SteinbachErika: Einfach skandalös! https://t.co/dC5NXFbviQ</td>\n",
              "      <td>NOT</td>\n",
              "      <td>NONE</td>\n",
              "      <td>hasoc_2020_de_3224</td>\n",
              "    </tr>\n",
              "  </tbody>\n",
              "</table>\n",
              "</div>\n",
              "      <button class=\"colab-df-convert\" onclick=\"convertToInteractive('df-789f1f13-03f1-4aae-84b1-f571c9ddb4de')\"\n",
              "              title=\"Convert this dataframe to an interactive table.\"\n",
              "              style=\"display:none;\">\n",
              "        \n",
              "  <svg xmlns=\"http://www.w3.org/2000/svg\" height=\"24px\"viewBox=\"0 0 24 24\"\n",
              "       width=\"24px\">\n",
              "    <path d=\"M0 0h24v24H0V0z\" fill=\"none\"/>\n",
              "    <path d=\"M18.56 5.44l.94 2.06.94-2.06 2.06-.94-2.06-.94-.94-2.06-.94 2.06-2.06.94zm-11 1L8.5 8.5l.94-2.06 2.06-.94-2.06-.94L8.5 2.5l-.94 2.06-2.06.94zm10 10l.94 2.06.94-2.06 2.06-.94-2.06-.94-.94-2.06-.94 2.06-2.06.94z\"/><path d=\"M17.41 7.96l-1.37-1.37c-.4-.4-.92-.59-1.43-.59-.52 0-1.04.2-1.43.59L10.3 9.45l-7.72 7.72c-.78.78-.78 2.05 0 2.83L4 21.41c.39.39.9.59 1.41.59.51 0 1.02-.2 1.41-.59l7.78-7.78 2.81-2.81c.8-.78.8-2.07 0-2.86zM5.41 20L4 18.59l7.72-7.72 1.47 1.35L5.41 20z\"/>\n",
              "  </svg>\n",
              "      </button>\n",
              "      \n",
              "  <style>\n",
              "    .colab-df-container {\n",
              "      display:flex;\n",
              "      flex-wrap:wrap;\n",
              "      gap: 12px;\n",
              "    }\n",
              "\n",
              "    .colab-df-convert {\n",
              "      background-color: #E8F0FE;\n",
              "      border: none;\n",
              "      border-radius: 50%;\n",
              "      cursor: pointer;\n",
              "      display: none;\n",
              "      fill: #1967D2;\n",
              "      height: 32px;\n",
              "      padding: 0 0 0 0;\n",
              "      width: 32px;\n",
              "    }\n",
              "\n",
              "    .colab-df-convert:hover {\n",
              "      background-color: #E2EBFA;\n",
              "      box-shadow: 0px 1px 2px rgba(60, 64, 67, 0.3), 0px 1px 3px 1px rgba(60, 64, 67, 0.15);\n",
              "      fill: #174EA6;\n",
              "    }\n",
              "\n",
              "    [theme=dark] .colab-df-convert {\n",
              "      background-color: #3B4455;\n",
              "      fill: #D2E3FC;\n",
              "    }\n",
              "\n",
              "    [theme=dark] .colab-df-convert:hover {\n",
              "      background-color: #434B5C;\n",
              "      box-shadow: 0px 1px 3px 1px rgba(0, 0, 0, 0.15);\n",
              "      filter: drop-shadow(0px 1px 2px rgba(0, 0, 0, 0.3));\n",
              "      fill: #FFFFFF;\n",
              "    }\n",
              "  </style>\n",
              "\n",
              "      <script>\n",
              "        const buttonEl =\n",
              "          document.querySelector('#df-789f1f13-03f1-4aae-84b1-f571c9ddb4de button.colab-df-convert');\n",
              "        buttonEl.style.display =\n",
              "          google.colab.kernel.accessAllowed ? 'block' : 'none';\n",
              "\n",
              "        async function convertToInteractive(key) {\n",
              "          const element = document.querySelector('#df-789f1f13-03f1-4aae-84b1-f571c9ddb4de');\n",
              "          const dataTable =\n",
              "            await google.colab.kernel.invokeFunction('convertToInteractive',\n",
              "                                                     [key], {});\n",
              "          if (!dataTable) return;\n",
              "\n",
              "          const docLinkHtml = 'Like what you see? Visit the ' +\n",
              "            '<a target=\"_blank\" href=https://colab.research.google.com/notebooks/data_table.ipynb>data table notebook</a>'\n",
              "            + ' to learn more about interactive tables.';\n",
              "          element.innerHTML = '';\n",
              "          dataTable['output_type'] = 'display_data';\n",
              "          await google.colab.output.renderOutput(dataTable, element);\n",
              "          const docLink = document.createElement('div');\n",
              "          docLink.innerHTML = docLinkHtml;\n",
              "          element.appendChild(docLink);\n",
              "        }\n",
              "      </script>\n",
              "    </div>\n",
              "  </div>\n",
              "  "
            ]
          },
          "metadata": {},
          "execution_count": 2
        }
      ],
      "source": [
        "import pandas as pd \n",
        "import csv\n",
        "data = pd.read_excel('/content/hasoc_2020_de_train_new_a.xlsx', converters={'tweet_id':int})\n",
        "pd.set_option('display.max_colwidth',150)\n",
        "data.head(10)"
      ]
    },
    {
      "cell_type": "code",
      "source": [
        "data.shape"
      ],
      "metadata": {
        "colab": {
          "base_uri": "https://localhost:8080/"
        },
        "id": "UaxJGj2BJA-_",
        "outputId": "7bbc11a6-0475-4eb9-ac04-35bc49618fe1"
      },
      "execution_count": null,
      "outputs": [
        {
          "output_type": "execute_result",
          "data": {
            "text/plain": [
              "(2373, 5)"
            ]
          },
          "metadata": {},
          "execution_count": 3
        }
      ]
    },
    {
      "cell_type": "code",
      "source": [
        "print(data.dtypes)"
      ],
      "metadata": {
        "colab": {
          "base_uri": "https://localhost:8080/"
        },
        "id": "4F6snrckJDhs",
        "outputId": "dd30c865-3c3a-4f38-9dc6-5a9109d14f55"
      },
      "execution_count": null,
      "outputs": [
        {
          "output_type": "stream",
          "name": "stdout",
          "text": [
            "tweet_id     int64\n",
            "text        object\n",
            "task1       object\n",
            "task2       object\n",
            "ID          object\n",
            "dtype: object\n"
          ]
        }
      ]
    },
    {
      "cell_type": "markdown",
      "source": [
        "# Making of \"label\" Variable\n"
      ],
      "metadata": {
        "id": "kK4jE-XuJN3r"
      }
    },
    {
      "cell_type": "code",
      "source": [
        "label = data['task1']\n",
        "label.head()"
      ],
      "metadata": {
        "colab": {
          "base_uri": "https://localhost:8080/"
        },
        "id": "8UB11BsEJF-U",
        "outputId": "697e302c-3092-4438-d224-72c6d86a8feb"
      },
      "execution_count": null,
      "outputs": [
        {
          "output_type": "execute_result",
          "data": {
            "text/plain": [
              "0    NOT\n",
              "1    NOT\n",
              "2    NOT\n",
              "3    NOT\n",
              "4    HOF\n",
              "Name: task1, dtype: object"
            ]
          },
          "metadata": {},
          "execution_count": 5
        }
      ]
    },
    {
      "cell_type": "markdown",
      "source": [
        "# Checking Dataset Balancing\n"
      ],
      "metadata": {
        "id": "HM112SzAJW-z"
      }
    },
    {
      "cell_type": "code",
      "source": [
        "print(label.value_counts())\n",
        "import matplotlib.pyplot as plt\n",
        "label.value_counts().plot(kind='bar', color='blue')"
      ],
      "metadata": {
        "colab": {
          "base_uri": "https://localhost:8080/"
        },
        "id": "wxq3PRLwJVIQ",
        "outputId": "fd4f12f9-4c1d-492f-a1a8-6c06750c9635"
      },
      "execution_count": null,
      "outputs": [
        {
          "output_type": "stream",
          "name": "stdout",
          "text": [
            "NOT    1700\n",
            "HOF     673\n",
            "Name: task1, dtype: int64\n"
          ]
        },
        {
          "output_type": "execute_result",
          "data": {
            "text/plain": [
              "<matplotlib.axes._subplots.AxesSubplot at 0x7f60f640a450>"
            ]
          },
          "metadata": {},
          "execution_count": 6
        },
        {
          "output_type": "display_data",
          "data": {
            "text/plain": [
              "<Figure size 432x288 with 1 Axes>"
            ],
            "image/png": "[encoded data removed]"
          },
          "metadata": {
            "needs_background": "light"
          }
        }
      ]
    },
    {
      "cell_type": "markdown",
      "source": [
        "# Converting label into \"0\" or \"1\"\n"
      ],
      "metadata": {
        "id": "IiBz2hcFJdIF"
      }
    },
    {
      "cell_type": "code",
      "source": [
        "import numpy as np\n",
        "classes_list = [\"HOF\",\"NOT\"]\n",
        "label_index = data['task1'].apply(classes_list.index)\n",
        "final_label = np.asarray(label_index)\n",
        "print(final_label[:10])\n",
        "\n"
      ],
      "metadata": {
        "colab": {
          "base_uri": "https://localhost:8080/"
        },
        "id": "iaAQQh4kJZ1X",
        "outputId": "8ffb2352-f7a1-4f78-abca-d422325810e0"
      },
      "execution_count": null,
      "outputs": [
        {
          "output_type": "stream",
          "name": "stdout",
          "text": [
            "[1 1 1 1 0 0 1 1 0 1]\n"
          ]
        }
      ]
    },
    {
      "cell_type": "code",
      "source": [
        "from keras.utils.np_utils import to_categorical\n",
        "label_twoDimension = to_categorical(final_label, num_classes=2)"
      ],
      "metadata": {
        "id": "DHcylJMvJhLu"
      },
      "execution_count": null,
      "outputs": []
    },
    {
      "cell_type": "code",
      "source": [
        "print(label_twoDimension[:10])"
      ],
      "metadata": {
        "colab": {
          "base_uri": "https://localhost:8080/"
        },
        "id": "1NGqjeVBJjbM",
        "outputId": "90a46275-8d3b-4ea7-c202-d2db515f638e"
      },
      "execution_count": null,
      "outputs": [
        {
          "output_type": "stream",
          "name": "stdout",
          "text": [
            "[[0. 1.]\n",
            " [0. 1.]\n",
            " [0. 1.]\n",
            " [0. 1.]\n",
            " [1. 0.]\n",
            " [1. 0.]\n",
            " [0. 1.]\n",
            " [0. 1.]\n",
            " [1. 0.]\n",
            " [0. 1.]]\n"
          ]
        }
      ]
    },
    {
      "cell_type": "markdown",
      "source": [
        "# Making of \"text\" Variable\n"
      ],
      "metadata": {
        "id": "nqRHYUSBJl0K"
      }
    },
    {
      "cell_type": "code",
      "source": [
        "text = data['text']\n",
        "text.head(10)\n",
        "\n"
      ],
      "metadata": {
        "colab": {
          "base_uri": "https://localhost:8080/"
        },
        "id": "ZZ_FmnnqJjpU",
        "outputId": "230f9c14-4719-49ea-80f1-a0f257ea03ad"
      },
      "execution_count": null,
      "outputs": [
        {
          "output_type": "execute_result",
          "data": {
            "text/plain": [
              "0                 Deutsche rothaarige porno reife deutsche frauen porno. Deutsche politessen pornos porno deutsch inzets. https://t.co/xAag87Y0Jd\n",
              "1    RT @NDRinfo: Die deutsche Klimaaktivistin Luisa Neubauer wirft Kanzlerin Merkel wegen ihrer fehlenden Unterstützung für den europäischen Kl…\n",
              "2                                                             @ruhrbahn jeden Morgen eine neue „Fahrzeugstörung“, ihr seid einfach nur zum Kotzen\n",
              "3      @Junge_Freiheit Die Inkas hatten sich schon dämlich angestellt, bei den spanischen Eindringlingen, aber der Deutsche toppt dann doch alles\n",
              "4                         RT @technosteron: leute die 'boar' schreiben lassen sich bestimmt auch von ihren analphabetischen Vater in arsch ficken\n",
              "5                                                                ich habe mir gerade diese dorne aus meinem arsch gezogen https://t.co/x40mpKgBZN\n",
              "6                                                                       RT @Schrammi44: Er ist einfach der GOAT @Bouncaay https://t.co/bb9b5SWaKi\n",
              "7    KFM Deutsche Mittelstand AG: Deutscher Mittelstandsanleihen FONDS zeichnet neue Hörmann-Anleihe mit Mindest-Kupon 4… https://t.co/5HeRedf9cx\n",
              "8                                        @mentalshards_ ich will jetzt nicht offenden oder so, ich will einfach nur, das die scheiße weniger wird\n",
              "9                                                                                  RT @SteinbachErika: Einfach skandalös! https://t.co/dC5NXFbviQ\n",
              "Name: text, dtype: object"
            ]
          },
          "metadata": {},
          "execution_count": 10
        }
      ]
    },
    {
      "cell_type": "markdown",
      "source": [
        "# Dataset Pre-processing\n"
      ],
      "metadata": {
        "id": "5vgUgPviJteq"
      }
    },
    {
      "cell_type": "code",
      "source": [
        "def remove_umlaut(string):\n",
        "    \"\"\"\n",
        "    Removes umlauts from strings and replaces them with the letter+e convention\n",
        "    :param string: string to remove umlauts from\n",
        "    :return: unumlauted string\n",
        "    \"\"\"\n",
        "    u = 'ü'.encode()\n",
        "    U = 'Ü'.encode()\n",
        "    a = 'ä'.encode()\n",
        "    A = 'Ä'.encode()\n",
        "    o = 'ö'.encode()\n",
        "    O = 'Ö'.encode()\n",
        "    ss = 'ß'.encode()\n",
        "\n",
        "    string = string.encode()\n",
        "    string = string.replace(u, b'ue')\n",
        "    string = string.replace(U, b'Ue')\n",
        "    string = string.replace(a, b'ae')\n",
        "    string = string.replace(A, b'Ae')\n",
        "    string = string.replace(o, b'oe')\n",
        "    string = string.replace(O, b'Oe')\n",
        "    string = string.replace(ss, b'ss')\n",
        "\n",
        "    string = string.decode('utf-8')\n",
        "    return string"
      ],
      "metadata": {
        "id": "9YUobVifYk8-"
      },
      "execution_count": null,
      "outputs": []
    },
    {
      "cell_type": "code",
      "source": [
        "text_wo_umlauts = text.apply(lambda x:remove_umlaut(x))\n",
        "text_wo_umlauts.head(10)"
      ],
      "metadata": {
        "colab": {
          "base_uri": "https://localhost:8080/"
        },
        "id": "8YXICnyJYnp_",
        "outputId": "fb15b5ff-afee-4b6d-bcea-a1f1fabcf9ef"
      },
      "execution_count": null,
      "outputs": [
        {
          "output_type": "execute_result",
          "data": {
            "text/plain": [
              "0                    Deutsche rothaarige porno reife deutsche frauen porno. Deutsche politessen pornos porno deutsch inzets. https://t.co/xAag87Y0Jd\n",
              "1    RT @NDRinfo: Die deutsche Klimaaktivistin Luisa Neubauer wirft Kanzlerin Merkel wegen ihrer fehlenden Unterstuetzung fuer den europaeischen Kl…\n",
              "2                                                               @ruhrbahn jeden Morgen eine neue „Fahrzeugstoerung“, ihr seid einfach nur zum Kotzen\n",
              "3        @Junge_Freiheit Die Inkas hatten sich schon daemlich angestellt, bei den spanischen Eindringlingen, aber der Deutsche toppt dann doch alles\n",
              "4                            RT @technosteron: leute die 'boar' schreiben lassen sich bestimmt auch von ihren analphabetischen Vater in arsch ficken\n",
              "5                                                                   ich habe mir gerade diese dorne aus meinem arsch gezogen https://t.co/x40mpKgBZN\n",
              "6                                                                          RT @Schrammi44: Er ist einfach der GOAT @Bouncaay https://t.co/bb9b5SWaKi\n",
              "7      KFM Deutsche Mittelstand AG: Deutscher Mittelstandsanleihen FONDS zeichnet neue Hoermann-Anleihe mit Mindest-Kupon 4… https://t.co/5HeRedf9cx\n",
              "8                                          @mentalshards_ ich will jetzt nicht offenden oder so, ich will einfach nur, das die scheisse weniger wird\n",
              "9                                                                                    RT @SteinbachErika: Einfach skandaloes! https://t.co/dC5NXFbviQ\n",
              "Name: text, dtype: object"
            ]
          },
          "metadata": {},
          "execution_count": 12
        }
      ]
    },
    {
      "cell_type": "code",
      "source": [
        "\n",
        "\n",
        "import re \n",
        "\n",
        "def text_clean(text):\n",
        "    ''' Pre process and convert texts to a list of words '''\n",
        "    \n",
        "    text=text.lower()\n",
        "\n",
        "    # Clean the text\n",
        "    text = re.sub(r\"[^A-Za-z0-9^,!.\\/'+-=]\", \" \", text)\n",
        "    text = re.sub('https?://\\S+|www\\.\\S+', \"\", text)\n",
        "    text = re.sub(r\"rt\", \" \", text)\n",
        "\n",
        "    return text\n",
        "\n"
      ],
      "metadata": {
        "id": "iP9R4lCkJrSn"
      },
      "execution_count": null,
      "outputs": []
    },
    {
      "cell_type": "code",
      "source": [
        "clean_text = text_wo_umlauts.apply(lambda x:text_clean(x))"
      ],
      "metadata": {
        "id": "btvahRPaJwkh"
      },
      "execution_count": null,
      "outputs": []
    },
    {
      "cell_type": "code",
      "source": [
        "clean_text.head(10)"
      ],
      "metadata": {
        "colab": {
          "base_uri": "https://localhost:8080/"
        },
        "id": "rVm6XFqoJyPl",
        "outputId": "6f4095a4-326d-403f-f4bf-25c732f8275e"
      },
      "execution_count": null,
      "outputs": [
        {
          "output_type": "execute_result",
          "data": {
            "text/plain": [
              "0                                          deutsche rothaarige porno reife deutsche frauen porno. deutsche politessen pornos porno deutsch inzets. \n",
              "1       ndrinfo: die deutsche klimaaktivistin luisa neubauer wirft kanzlerin merkel wegen ihrer fehlenden unterstuetzung fuer den europaeischen kl \n",
              "2                                                               ruhrbahn jeden morgen eine neue  fahrzeugstoerung , ihr seid einfach nur zum kotzen\n",
              "3        junge freiheit die inkas hatten sich schon daemlich angestellt, bei den spanischen eindringlingen, aber der deutsche toppt dann doch alles\n",
              "4                               technosteron: leute die 'boar' schreiben lassen sich bestimmt auch von ihren analphabetischen vater in arsch ficken\n",
              "5                                                                                         ich habe mir gerade diese dorne aus meinem arsch gezogen \n",
              "6                                                                                                    schrammi44: er ist einfach der goat  bouncaay \n",
              "7                            kfm deutsche mittelstand ag: deutscher mittelstandsanleihen fonds zeichnet neue hoermann-anleihe mit mindest-kupon 4  \n",
              "8                                          mentalshards  ich will jetzt nicht offenden oder so, ich will einfach nur, das die scheisse weniger wird\n",
              "9                                                                                                              steinbacherika: einfach skandaloes! \n",
              "Name: text, dtype: object"
            ]
          },
          "metadata": {},
          "execution_count": 15
        }
      ]
    },
    {
      "cell_type": "markdown",
      "source": [
        "# Removing stopwords\n"
      ],
      "metadata": {
        "id": "Cr_9fbmQJ14E"
      }
    },
    {
      "cell_type": "code",
      "source": [
        "import nltk\n",
        "from nltk.corpus import stopwords\n",
        "nltk.download('stopwords')\n",
        "def stop_words_removal(text1):\n",
        "    text1=[w for w in  text1.split(\" \")  if w not in stopwords.words('german')]\n",
        "    return \" \".join(text1)"
      ],
      "metadata": {
        "colab": {
          "base_uri": "https://localhost:8080/"
        },
        "id": "fnKAVUGKJzkf",
        "outputId": "198012a2-92c2-46fc-b42b-8b051513d7b1"
      },
      "execution_count": null,
      "outputs": [
        {
          "output_type": "stream",
          "name": "stderr",
          "text": [
            "[nltk_data] Downloading package stopwords to /root/nltk_data...\n",
            "[nltk_data]   Unzipping corpora/stopwords.zip.\n"
          ]
        }
      ]
    },
    {
      "cell_type": "code",
      "source": [
        "clean_text_ns=clean_text.apply(lambda x: stop_words_removal(x))"
      ],
      "metadata": {
        "id": "EAe2hR7jJ5R8"
      },
      "execution_count": null,
      "outputs": []
    },
    {
      "cell_type": "code",
      "source": [
        "print(clean_text_ns.head(10))"
      ],
      "metadata": {
        "colab": {
          "base_uri": "https://localhost:8080/"
        },
        "id": "hMapIVGXJ7Cf",
        "outputId": "fca7b081-e0bf-4140-ac50-6b4951610ffa"
      },
      "execution_count": null,
      "outputs": [
        {
          "output_type": "stream",
          "name": "stdout",
          "text": [
            "0                            deutsche rothaarige porno reife deutsche frauen porno. deutsche politessen pornos porno deutsch inzets. \n",
            "1       ndrinfo: deutsche klimaaktivistin luisa neubauer wirft kanzlerin merkel wegen fehlenden unterstuetzung fuer europaeischen kl \n",
            "2                                                                        ruhrbahn morgen neue  fahrzeugstoerung , seid einfach kotzen\n",
            "3                                           junge freiheit inkas schon daemlich angestellt, spanischen eindringlingen, deutsche toppt\n",
            "4                                            technosteron: leute 'boar' schreiben lassen bestimmt analphabetischen vater arsch ficken\n",
            "5                                                                                                         gerade dorne arsch gezogen \n",
            "6                                                                                                 schrammi44: einfach goat  bouncaay \n",
            "7                  kfm deutsche mittelstand ag: deutscher mittelstandsanleihen fonds zeichnet neue hoermann-anleihe mindest-kupon 4  \n",
            "8                                                                            mentalshards  offenden so, einfach nur, scheisse weniger\n",
            "9                                                                                                steinbacherika: einfach skandaloes! \n",
            "Name: text, dtype: object\n"
          ]
        }
      ]
    },
    {
      "cell_type": "markdown",
      "source": [
        "# Stemming"
      ],
      "metadata": {
        "id": "cGRUIHNgKB8P"
      }
    },
    {
      "cell_type": "code",
      "source": [
        "\n",
        "\n",
        "# Stemming\n",
        "from nltk.stem import SnowballStemmer \n",
        "stemmer = SnowballStemmer(\"german\")\n",
        "\n",
        "def word_stemmer(text):\n",
        "    stem_text = \"\".join([stemmer.stem(i) for i in text])\n",
        "    return stem_text\n",
        "\n"
      ],
      "metadata": {
        "id": "xzacVq1jJ8ru"
      },
      "execution_count": null,
      "outputs": []
    },
    {
      "cell_type": "code",
      "source": [
        "clean_text_stem = clean_text_ns.apply(lambda x : word_stemmer(x))"
      ],
      "metadata": {
        "id": "gLvtC-DlKFJ3"
      },
      "execution_count": null,
      "outputs": []
    },
    {
      "cell_type": "code",
      "source": [
        "print(clean_text_stem.head())"
      ],
      "metadata": {
        "colab": {
          "base_uri": "https://localhost:8080/"
        },
        "id": "hLTYkzd6KGpw",
        "outputId": "b92ccf14-e908-4d3a-b8f7-8a7f0b5fa290"
      },
      "execution_count": null,
      "outputs": [
        {
          "output_type": "stream",
          "name": "stdout",
          "text": [
            "0                            deutsche rothaarige porno reife deutsche frauen porno. deutsche politessen pornos porno deutsch inzets. \n",
            "1       ndrinfo: deutsche klimaaktivistin luisa neubauer wirft kanzlerin merkel wegen fehlenden unterstuetzung fuer europaeischen kl \n",
            "2                                                                        ruhrbahn morgen neue  fahrzeugstoerung , seid einfach kotzen\n",
            "3                                           junge freiheit inkas schon daemlich angestellt, spanischen eindringlingen, deutsche toppt\n",
            "4                                            technosteron: leute 'boar' schreiben lassen bestimmt analphabetischen vater arsch ficken\n",
            "Name: text, dtype: object\n"
          ]
        }
      ]
    },
    {
      "cell_type": "markdown",
      "source": [
        "# Tokenization using \"keras\"\n"
      ],
      "metadata": {
        "id": "aqZfKW9_KId4"
      }
    },
    {
      "cell_type": "code",
      "source": [
        "import keras\n",
        "import tensorflow\n",
        "from keras.preprocessing.text import Tokenizer\n",
        "tok_all = Tokenizer(filters='!\"#$%&\\'()*+,-./:;<=>?@[\\\\]^_`{|}~', lower=True, char_level = False)\n",
        "tok_all.fit_on_texts(clean_text_stem)"
      ],
      "metadata": {
        "id": "64oQb-b9KL7d"
      },
      "execution_count": null,
      "outputs": []
    },
    {
      "cell_type": "markdown",
      "source": [
        "# Making Vocab for words\n"
      ],
      "metadata": {
        "id": "Azliz45-KOH2"
      }
    },
    {
      "cell_type": "code",
      "source": [
        "vocabulary_all = len(tok_all.word_counts)\n",
        "print(vocabulary_all)"
      ],
      "metadata": {
        "colab": {
          "base_uri": "https://localhost:8080/"
        },
        "id": "kjRctAdKKNqA",
        "outputId": "53dc1c23-2384-4a7c-e3e0-a34c947da094"
      },
      "execution_count": null,
      "outputs": [
        {
          "output_type": "stream",
          "name": "stdout",
          "text": [
            "8866\n"
          ]
        }
      ]
    },
    {
      "cell_type": "code",
      "source": [
        "\n",
        "\n",
        "l = tok_all.word_index\n",
        "print(l)\n",
        "\n"
      ],
      "metadata": {
        "colab": {
          "base_uri": "https://localhost:8080/"
        },
        "id": "ruZahltoKSBk",
        "outputId": "0310a5c8-0cce-4fc6-bc18-627b86762fa4"
      },
      "execution_count": null,
      "outputs": [
        {
          "output_type": "stream",
          "name": "stdout",
          "text": [
            "{'einfach': 1, 'deutsche': 2, 'arsch': 3, 'merkel': 4, 'schon': 5, 'fuer': 6, 'gt': 7, 'mal': 8, 'gruenen': 9, 'scheiss': 10, 'nazis': 11, 'dumm': 12, 'frauen': 13, 'halt': 14, 'ab': 15, 'porno': 16, 'welt': 17, 'linken': 18, 'mehr': 19, 'tagesschau': 20, 'hurensohn': 21, 'ja': 22, 'zurueck': 23, 'echt': 24, 'gibt': 25, 'gratis': 26, 'gruene': 27, 'scheisse': 28, 'islam': 29, 'deutschland': 30, 'immer': 31, 'e': 32, 'frau': 33, 'politiker': 34, 'hoe': 35, 'linke': 36, 'pack': 37, 's': 38, 'warum': 39, 'kopf': 40, 'erst': 41, 'eigentlich': 42, 'leute': 43, 'fresse': 44, 'stimmt': 45, 'ueber': 46, 'idioten': 47, '2': 48, 'dumme': 49, 'n': 50, 'afd': 51, 'zdfheute': 52, 'macht': 53, 'waere': 54, 'en': 55, '1': 56, 'd': 57, 'kinder': 58, 'kotzen': 59, 'europa': 60, 'nazi': 61, 'nicht': 62, 'moechte': 63, 'deutschen': 64, 'deutsch': 65, 'lassen': 66, 'politik': 67, 'pa': 68, 'i': 69, 'wuerde': 70, 'ma': 71, 'raus': 72, 'koennte': 73, 'ist': 74, 'zeit': 75, 'geld': 76, 'schulz': 77, 'merkels': 78, 'a': 79, 'neue': 80, 'so': 81, 'zdf': 82, 'gabriel': 83, 'geiler': 84, 'heute': 85, 'sitzen': 86, 'besser': 87, 'pornos': 88, 'ficken': 89, 'seit': 90, 'eher': 91, 'is': 92, 'bekommen': 93, 'medien': 94, 'koennen': 95, 'voll': 96, 'zeigt': 97, 'ne': 98, 'geht': 99, '3': 100, 'u': 101, 'ei': 102, 'wer': 103, 'maas': 104, 'via': 105, 'bild': 106, 'hitler': 107, 'sehen': 108, 'ganze': 109, 'heikomaas': 110, 'leben': 111, 'lange': 112, 'gesicht': 113, 'cdu': 114, 'eu': 115, 'moslems': 116, 'geile': 117, 'kommen': 118, 'wand': 119, 'junge': 120, 'de': 121, 'haette': 122, 'spiegelonline': 123, 'kopftuch': 124, 'land': 125, 'ich': 126, 'ha': 127, 'o': 128, 'nie': 129, 'eien': 130, 'gehoe': 131, 'gehirn': 132, 'h': 133, 'ahnung': 134, 'sagen': 135, 'k': 136, 'typ': 137, 'sawsanchebli': 138, 'hirn': 139, 'willkommen': 140, 'zeitonline': 141, 'sind': 142, '2019': 143, 'zusammen': 144, 'lass': 145, 'kurz': 146, 'gruen': 147, 'genau': 148, 'auf': 149, 'maul': 150, 'gerade': 151, 'ach': 152, 'werden': 153, 'mutter': 154, 'video': 155, 'ganzen': 156, 'luegen': 157, 'sorry': 158, 'menschen': 159, 'hasse': 160, 'ueberhaupt': 161, 'weiss': 162, 'deren': 163, 'bald': 164, 'kommt': 165, 'kleine': 166, 'volk': 167, 'genug': 168, 'harvard': 169, 'sexy': 170, '05': 171, 'an': 172, 'glaube': 173, 'europawahl2019': 174, 'trump': 175, 'drdavidberger': 176, 'haben': 177, 'frueher': 178, 'f': 179, 'rot': 180, 'sieht': 181, 'gesagt': 182, 'news': 183, 'sofo': 184, 'sein': 185, 'bitte': 186, 'abschaum': 187, 'deutscher': 188, 'meisten': 189, 'eh': 190, 'weg': 191, 've': 192, 'regierung': 193, 'das': 194, 'muessen': 195, 'paar': 196, 'wa': 197, 'et': 198, 'hat': 199, 'angela': 200, 't': 201, 'wirklich': 202, 'wegen': 203, 'sau': 204, 'es': 205, 'w': 206, '18': 207, 'seehofer': 208, 'schwanz': 209, 'tritt': 210, 'schlimmer': 211, 'usa': 212, 'videos': 213, 'gerne': 214, 'denkt': 215, 'v': 216, 'viele': 217, 'dummheit': 218, 'essen': 219, 'b': 220, 'mittlerweile': 221, 'sta': 222, 'amp': 223, 'kostenlose': 224, 'fick': 225, 'helllud123': 226, 'seid': 227, 'nur': 228, 'egal': 229, 'gar': 230, 'journalisten': 231, 'ddr': 232, 'niemand': 233, 'antifa': 234, 'stegner': 235, 'bundeskanzlerin': 236, 'krippmarie': 237, 'ein': 238, 'm': 239, 'hey': 240, 'tuerken': 241, 'waehler': 242, 'spass': 243, 'arschloch': 244, 'dummes': 245, 'waehlt': 246, 'verdammt': 247, 'fette': 248, '5': 249, 'strache': 250, 'spd': 251, 'erwa': 252, 'sollen': 253, 'tuerkei': 254, 'jouwatch': 255, 'porn': 256, 'brauchen': 257, 'schwarz': 258, 'denen': 259, 'neuen': 260, 'ka': 261, 'mann': 262, 'dicke': 263, 'sex': 264, 'sagt': 265, 'wohl': 266, 'kind': 267, '4': 268, 'free': 269, 'retten': 270, 'opfer': 271, 'darf': 272, 'system': 273, 'dafuer': 274, 'groessten': 275, 'ralf': 276, 'ekelhaft': 277, 'stehen': 278, '50': 279, 'ig': 280, 'dummen': 281, 'rechte': 282, 'sehe': 283, 'geilen': 284, 'habt': 285, 'probleme': 286, 'reicht': 287, 'do': 288, 'https': 289, '7': 290, 'duemmer': 291, 'los': 292, 'krieg': 293, 'heisst': 294, 'sirschnee': 295, 'auch': 296, 'du': 297, 'gauland': 298, 'lawyerberlin': 299, 'buerger': 300, 'china': 301, 'hass': 302, 'ende': 303, 'waehlen': 304, 'roth': 305, 'bestimmt': 306, 'genauso': 307, 'kaum': 308, 'wird': 309, 'fluechtlinge': 310, 'richtig': 311, 'fucking': 312, 'we': 313, 'sch': 314, 'akk': 315, 'lauterbach': 316, 'wollen': 317, 'schande': 318, 'gehoeren': 319, 'islamisten': 320, 'damals': 321, 'g': 322, 'haut': 323, 'bloed': 324, 'die': 325, 'machen': 326, 'sowas': 327, 'wieso': 328, 'gemacht': 329, 'ruecken': 330, 'janboehm': 331, 'aus': 332, 'wahl': 333, 'tragen': 334, 'da': 335, 'schauen': 336, 'faschisten': 337, 'naja': 338, 'geil': 339, 'l': 340, 'gewaehlt': 341, 'muell': 342, 'nen': 343, 'berliner': 344, 'x': 345, 'deutsch365': 346, '12': 347, 'hetze': 348, 'net': 349, 'anal': 350, 'ganz': 351, 'reife': 352, 'steinbacherika': 353, '0': 354, 'z': 355, 'fickt': 356, 'hoffentlich': 357, 'verschwinden': 358, 'dreck': 359, 'religion': 360, 'verkaufen': 361, 'grund': 362, 'ragen': 363, '14': 364, 'entsorgt': 365, 'kriegen': 366, 'hilfe': 367, 'j': 368, 'chef': 369, 'klimaschutz': 370, 'schafft': 371, 'langsam': 372, 'rezo': 373, 'nichts': 374, 'irgendwie': 375, 'co': 376, 'endlich': 377, 'zerstoe': 378, 'nehmen': 379, 'kostenlos': 380, 'schlampe': 381, 'rezomusik': 382, 'roten': 383, 'nix': 384, 'nein': 385, 'voellig': 386, 'jungen': 387, 'gefickt': 388, 'gewalt': 389, 'jemand': 390, 'oeffentlich': 391, 'stock': 392, 'verusoss1': 393, 'wieder': 394, 'erdogan': 395, 'single': 396, 'hunde': 397, 'heiko': 398, 'braucht': 399, 'zukunft': 400, 'nackte': 401, 'spo': 402, 'richtige': 403, 'europawahl': 404, 'barley': 405, 'mega': 406, 'job': 407, 'heuchler': 408, 'arbeiten': 409, 'sag': 410, 'au': 411, 'mir': 412, 'berlin': 413, 'rede': 414, 'bist': 415, 'tage': 416, 'sesso': 417, 'claudia': 418, 'the': 419, 'daemlich': 420, 'ag': 421, 'r': 422, 'maxotte': 423, 'says': 424, '13': 425, 'ueberall': 426, 'horst': 427, 'weber': 428, 'top': 429, '000': 430, 'koennt': 431, 'burger': 432, 'redet': 433, 'lieben': 434, 'eltern': 435, 'alkohol': 436, 'stadt': 437, 'leuten': 438, 'absolut': 439, 'weltnews': 440, 'un': 441, 'direkt': 442, 'hd': 443, 'kirche': 444, 'karl': 445, 'noch': 446, 'kuehne': 447, 'verbrecher': 448, 'ausser': 449, '6': 450, 'sie': 451, 'muesste': 452, 'denken': 453, 'beim': 454, 'vergewaltigt': 455, 'wi': 456, 'zu': 457, 'haarige': 458, 'aufklaerer2017': 459, 'lecken': 460, 'generation': 461, 'nimmt': 462, 'kueche': 463, 'hoch': 464, 'regsprecher': 465, 'wuerden': 466, 'ung': 467, 'abschieben': 468, 'eier': 469, 'komm': 470, 'geh': 471, 'politische': 472, 'fordern': 473, 'hose': 474, 'bezeichnen': 475, 'wuensche': 476, 'auslaender': 477, 'meinung': 478, 'retweet': 479, 'maenner': 480, 'alles': 481, 'jahren': 482, 'ca': 483, 'bruder': 484, 'auto': 485, '99': 486, 'wissenschaftler': 487, 'erste': 488, 'ard': 489, 'stars': 490, 'pille': 491, 'hassen': 492, 'maltekaufmann': 493, 'leise': 494, 'fckafd': 495, 'zieh': 496, 'alte': 497, 'oma': 498, 'sed': 499, 'schulen': 500, 'ueberfluessig': 501, 'weissen': 502, 'waehrend': 503, 'gross': 504, 'duerfen': 505, 'aufgewachtewelt': 506, 'schoen': 507, 'gehen': 508, 'pinkcrazypony': 509, 'holt': 510, 'altpa': 511, 'willst': 512, 'mathe': 513, 'sachen': 514, 'will': 515, 'holen': 516, 'frage': 517, 'max': 518, 'holgerewald1': 519, 'drauf': 520, 'protest': 521, 'telekom': 522, 'kanzlerin': 523, 'schreiben': 524, 'doch': 525, 'werbung': 526, 'peinlich': 527, 'xxx': 528, 'extrem': 529, 'hbf': 530, '15': 531, '24': 532, 'kriminellen': 533, 'monaten': 534, 'deutschlands': 535, 'folgen': 536, 'unterwegs': 537, 'stelle': 538, 'for': 539, 'rechten': 540, 'st': 541, 'bezahlt': 542, 'fe': 543, 'kultur': 544, 'heulen': 545, 'widerliches': 546, 'geben': 547, 'vorstellen': 548, 'unfassbar': 549, 'schickt': 550, 'alicewo18626168': 551, 'kennst': 552, 'neueste': 553, '1933': 554, 'super': 555, 'spinner': 556, 'kleinen': 557, 'schade': 558, 'rest': 559, 'daniel': 560, 'lang': 561, 'lasst': 562, 'doktorarbeit': 563, 'weit': 564, 'was': 565, 'that': 566, 'jugend': 567, 'oesterreich': 568, 'forde': 569, 'tun': 570, 'und': 571, 'milf': 572, 'boserer': 573, 'prozent': 574, 'hure': 575, 'chris': 576, 'erklae': 577, 'ff': 578, 'spiegel': 579, 'el': 580, 'c': 581, 'groesste': 582, 'schwarze': 583, 'anleitung': 584, 'islamisierung': 585, 'labern': 586, '33': 587, '40': 588, 'mund': 589, 'herr': 590, 'schwule': 591, 'meuthen': 592, 'haelt': 593, 'verantwo': 594, 'braun': 595, 'di': 596, 'y': 597, 'arme': 598, 'stueck': 599, 'veru': 600, 'kriminelle': 601, 'ziemlich': 602, 'germany': 603, 'haha': 604, 'brief': 605, 'fachkraefte': 606, 'nich': 607, 'gekommen': 608, 'passie': 609, 'hund': 610, 'stuerzen': 611, 'jahre': 612, 'porsche': 613, 'grade': 614, 'danach': 615, 'fragt': 616, 'vor': 617, 'alter': 618, 'kanacke': 619, 'alle': 620, 'vergessen': 621, 'lebt': 622, 'lobbyisten': 623, 'meldet': 624, 'rassist': 625, 'hauptsache': 626, 'aufs': 627, 'wirkt': 628, 'nehm': 629, 'sixtus': 630, 'up': 631, 'wtf': 632, 'bringt': 633, 'ideen': 634, 'rock': 635, 'natuerlich': 636, 'sack': 637, 'co2': 638, 'steuer': 639, 'montanablack': 640, 'tradesfeed': 641, 'aktivisten': 642, 'uns': 643, 'schlauer': 644, 'gab': 645, 'frank': 646, 'usw': 647, 'eigenes': 648, 'komplett': 649, 'sebastian': 650, 'glauben': 651, 'oh': 652, 'boah': 653, 'zitat': 654, 'fuers': 655, 'verbreitet': 656, 'hier': 657, 'hh': 658, 'soll': 659, 'halten': 660, 'nem': 661, 'kennt': 662, 'verbietet': 663, 'krank': 664, 'staatsfunk': 665, 'sowieso': 666, 'lernen': 667, 'xd': 668, 'compactmagazin': 669, 'ideologie': 670, 'findet': 671, 'kriegst': 672, 'ficke': 673, 'dabei': 674, 'he': 675, 'muschi': 676, 'habeck': 677, 'wolf': 678, 'halts': 679, 'at': 680, 'waeren': 681, 'links': 682, 'bahn': 683, 'haltet': 684, 'war': 685, 'logik': 686, 'liebst': 687, 'db': 688, 'fpoe': 689, 'sei': 690, 'eindruck': 691, 'gib': 692, 'hoer': 693, 'dr': 694, 'wusste': 695, 'zwei': 696, 'rein': 697, 'europaeischen': 698, 'freiheit': 699, 'lesben': 700, 'musst': 701, 'handeln': 702, 'al': 703, 'heuteshow': 704, 'beiden': 705, 'us': 706, 'mdchen': 707, 'momentan': 708, 'ausfall': 709, 'grad': 710, 'dreckiger': 711, 'waer': 712, 'schlagabtausch': 713, 'clans': 714, 'kampf': 715, '10': 716, 'vo': 717, 'toptomch': 718, 'jan': 719, 'wir': 720, 'rum': 721, 'interessie': 722, 'skandal': 723, 'euro': 724, 'politischen': 725, 'freund': 726, 'laecheln': 727, 'schlampen': 728, 'sich': 729, 'verlogene': 730, '11': 731, 'bernd471': 732, 'fast': 733, 'sitzt': 734, 'herrn': 735, 'pass': 736, 'macron': 737, 'wunder': 738, 'verloren': 739, 'gaebe': 740, 'familien': 741, 'herz': 742, 'klima': 743, '2018': 744, 'stoppt': 745, 'rapper': 746, 'merken': 747, 'total': 748, 'fakt': 749, 'komisch': 750, 'jetzt': 751, 'cha': 752, 'tages': 753, 're': 754, 'schmid': 755, 'blond': 756, 'doof': 757, 'waren': 758, 'samsung': 759, 'filter': 760, '31': 761, '17': 762, 'sven': 763, 'giegold': 764, 'hoelle': 765, 'bock': 766, 'muschis': 767, 'clip': 768, 'legt': 769, 'euwahl19': 770, 'zeigen': 771, 'tweets': 772, 'asylanten': 773, 'behinde': 774, 'just': 775, 'andreasstraub': 776, '34': 777, 'stuttga': 778, '19': 779, 'faeh': 780, 'bleibt': 781, '90': 782, 'bereits': 783, 'man': 784, 'csu': 785, 'kann': 786, 'europaeische': 787, '8': 788, 'tu': 789, 'arbeitsplatz': 790, 'lebensformation': 791, 'soviel': 792, 'laber': 793, 'eilt': 794, 'idee': 795, 'halte': 796, 'rechtlichen': 797, 'ganzes': 798, 'gamerbr0ski': 799, 'kappa': 800, 'miriamozen': 801, 'eingeschaetzt': 802, '20': 803, 'kevin': 804, 'omas': 805, 'rechts': 806, 'tagen': 807, 'mariomayl': 808, 'muslimische': 809, 'donald': 810, 'englisch': 811, 'hadmut': 812, 'exgruene': 813, 'enteignen': 814, 'palmer': 815, 'zwickau': 816, 'verjagten': 817, 'adolf': 818, 'imam': 819, 'folgendes': 820, 'gluecklich': 821, 'sterben': 822, 'finden': 823, 'nic': 824, 'fern': 825, 'brd': 826, 'hauen': 827, 'buntland': 828, 'weige': 829, 'unterstuetzen': 830, 'tyske': 831, 'rauchen': 832, 'ex': 833, 'emma': 834, 'terror': 835, 'eigene': 836, 'tschemal': 837, 'brutal': 838, 'versohlen': 839, 'minute': 840, 'game': 841, 'plauen': 842, 'gleichberechtigung': 843, 'fuck': 844, 'fuern': 845, 'traegt': 846, 'gehtwaehlen': 847, 'brandenburg': 848, 'sir': 849, 'schnee': 850, 'fuehrer': 851, 'ungebeten1': 852, 'duerre': 853, 'blasen': 854, 'led': 855, 'eur': 856, 'fett': 857, 'weiber': 858, 'shoutoutxobella': 859, 'minuten': 860, 'demokratie': 861, 'loch': 862, 'p': 863, 'sprechen': 864, 'nahles': 865, 'krahmax': 866, 'post': 867, 'download': 868, 'yooli': 869, 'derechte': 870, 'klar': 871, 'passt': 872, 'juden': 873, 'moegen': 874, 'verdienen': 875, 'nazisraus': 876, 'merkt': 877, 'brandt': 878, 'fridaysforfuture': 879, 'solch': 880, 'seh': 881, 'relotiuspresse': 882, 'kosummoralisten': 883, 'batu': 884, '0699': 885, 'eben': 886, 'widerspruch': 887, 'eigenen': 888, 'herren': 889, 'letzte': 890, 'thomas': 891, 'bareiss': 892, 'mensch': 893, 'fressen': 894, 'totale': 895, 'dasperfektedinner': 896, 'nice': 897, 'alicologne': 898, 'oezdemir': 899, 'praesidenten': 900, 'fehlt': 901, 'amt': 902, 'muesse': 903, 'dieserbutzi': 904, 'gb': 905, 'diepa': 906, 'sicher': 907, 'mia': 908, 'haessliche': 909, 'grundeis': 910, 'salvini': 911, 'andreaschlegel3': 912, 'eig': 913, 'her': 914, 'tatsaechlich': 915, 'platz': 916, 'gesehen': 917, 'versteht': 918, 'niemals': 919, 'bus': 920, 'ige': 921, 'mrsl0nelyy': 922, 'gelb': 923, 'fo': 924, 'http': 925, 'hallaschka': 926, 'bloedsinn': 927, 'strafe': 928, 'schaffen': 929, 'muesst': 930, 'zeichnen': 931, 'schicken': 932, 'oesterreichs': 933, 'angola': 934, 'gntmfinale': 935, 'kommentar': 936, 'opfa': 937, 'falls': 938, 'suesse': 939, 'your': 940, 'mature': 941, 'trinken': 942, 'lachen': 943, 'zucker': 944, 'aktie': 945, 'kid': 946, 'sagte': 947, 'per': 948, 'wokeup777': 949, 'fotze': 950, 'besonders': 951, 'fcbayern': 952, 'ziehen': 953, 'freunde': 954, 'problem': 955, 'hilft': 956, 'raeaeaechds': 957, 'dfacheck': 958, 'all': 959, 'interview': 960, 'huawei': 961, 'wurden': 962, 'bhvr': 963, 'hochheimer': 964, 'kaese': 965, 'sohn': 966, 'alt': 967, 'privat': 968, 'fr': 969, 'cute': 970, 'me': 971, 'stadtraetin': 972, 'eilter': 973, 'reden': 974, 'zerstoeren': 975, 'ehrendoktorwuerde': 976, 'haus': 977, 'schei': 978, 'schreibt': 979, 'polizei': 980, 'sauber': 981, 'ntvde': 982, 'titten': 983, 'insonneborn': 984, 'niveau': 985, 'selten': 986, 'amis': 987, 'gutmenschen': 988, 'html': 989, 'donalphonso': 990, 'bzw': 991, 'augen': 992, 'ichbinkoelnerin': 993, 'stellen': 994, 'geschrieben': 995, 'sueszling': 996, 'schieben': 997, 'wahlplakate': 998, 'grunde': 999, 'verkauft': 1000, 'reiss': 1001, 'puppe': 1002, 'also': 1003, 'veranstaltung': 1004, 'lieb': 1005, 'bekomme': 1006, 'konze': 1007, 'bilder': 1008, 'ey': 1009, 'blowjob': 1010, 'oft': 1011, 'hallo': 1012, 'polizeisachsen': 1013, 'lady': 1014, 'na': 1015, 'bayern': 1016, 'aber': 1017, 'federer': 1018, 'bremen': 1019, 'pro': 1020, 'boden': 1021, 'presse': 1022, 'on': 1023, 'hoffe': 1024, 'vfb': 1025, 'pepper46477330': 1026, 'natur': 1027, 'dd': 1028, 'muslime': 1029, 'gef': 1030, 'trend': 1031, 'cambridge': 1032, 'bullshit': 1033, 'hast': 1034, 'moralisch': 1035, 'npd': 1036, 'seo': 1037, 'schweine': 1038, 'zerstoerung': 1039, 'darauf': 1040, 'teutonia': 1041, 'fleabag': 1042, 'wirft': 1043, 'fahrzeugstoerung': 1044, 'vater': 1045, 'gezogen': 1046, 'zeichnet': 1047, 'weniger': 1048, 'apple': 1049, 'unnoetig': 1050, 'media': 1051, 'florianfoli': 1052, 'verdient': 1053, 'ok': 1054, 'wuppe': 1055, 'gerufen': 1056, 'fluechtlingen': 1057, 'desnudas': 1058, 'canal': 1059, 'friedens': 1060, 'fisten': 1061, 'nichtmal': 1062, 'waehlern': 1063, 'blues': 1064, 'twitterde': 1065, 'anscheinend': 1066, 'haufen': 1067, 'rastadler': 1068, 'erbaermlich': 1069, 'wisse': 1070, 'diesel': 1071, 'stuerzt': 1072, 'auslaendische': 1073, 'feie': 1074, '87': 1075, 'vollzeitjonas': 1076, 'publikum': 1077, 'kuendigt': 1078, 'domi': 1079, 'twr': 1080, 'richtiges': 1081, 'aufruf': 1082, 'echten': 1083, 'go73729092': 1084, 'privaten': 1085, 'jesus': 1086, 'namens': 1087, 'ale': 1088, 'gg': 1089, 'bb12': 1090, 'kunkelmuhme': 1091, 'schlaege': 1092, 'dinger': 1093, 'hasserfuellte': 1094, 'betruegen': 1095, 'arroganz': 1096, 'habe': 1097, 'kenn': 1098, 'pls': 1099, 'rolandtichy': 1100, 'wetter': 1101, 'huebsche': 1102, 'neben': 1103, 'eil': 1104, 'stargamestv69': 1105, 'tim0cy': 1106, 'heissen': 1107, 'sucht': 1108, 'anna': 1109, 'za': 1110, 'te': 1111, 'sodass': 1112, 'si': 1113, 'benutze': 1114, 'spdberlin': 1115, 'gabischoff': 1116, 'rainerwinklerde': 1117, 'fliegt': 1118, 'illegale': 1119, 'hurensohne': 1120, 'vonschwer': 1121, 'politikern': 1122, 'tukyabitch': 1123, 'reist': 1124, 'bisschen': 1125, 'geboren': 1126, 'betrunken': 1127, 'kern': 1128, 'paedo': 1129, 'sekte': 1130, 'geschmeiss': 1131, 'pompeo': 1132, 'koelner': 1133, 'untaetigkeit': 1134, 'nudes': 1135, 'adidas': 1136, 'rorsted': 1137, 'rechnet': 1138, 'europaeer': 1139, 'vasallen': 1140, 'tatsache': 1141, 'abgelenkt': 1142, 'sad': 1143, 'achja': 1144, 'alphonso': 1145, 'brechen': 1146, 'klimaneutralitaet': 1147, '2050': 1148, 'arminwolf': 1149, 'bester': 1150, 'bazi': 1151, 'milliarden': 1152, 'hoshimusikdesign': 1153, 'soundcloud': 1154, 'np': 1155, '30': 1156, 'spritzen': 1157, 'brauchts': 1158, 'redaktion': 1159, 'bodoramelow': 1160, 'chauvinistischen': 1161, 'familie': 1162, 'scheinbar': 1163, 'erreicht': 1164, 'den': 1165, 'telford': 1166, 'tigers': 1167, 'ricarda': 1168, 'schuld': 1169, 'rechtsruck': 1170, 'schautnichtweg': 1171, 'taugt': 1172, 'fest': 1173, 'jugendzimmer': 1174, 'morreu': 1175, 'wahlen': 1176, 'ro': 1177, 'freiheizstatue': 1178, 'achimspiegel': 1179, 'tausende': 1180, 'beduerftige': 1181, 'doktor': 1182, 'vallah': 1183, 'leckst': 1184, 'teufel': 1185, 'erfahren': 1186, 'rettet': 1187, 'deutschrap': 1188, 'moza': 1189, 'wussten': 1190, 'woe': 1191, 'ern': 1192, 'ausgeliefe': 1193, 'punkt': 1194, 'betrogen': 1195, 'hi': 1196, 'sonjadelarosa7': 1197, 'grillkohle': 1198, 'steak': 1199, 'lacht': 1200, 'real': 1201, 'austauschschueler': 1202, 'aufnehmen': 1203, 'gestern': 1204, 'pkk': 1205, 'afdberlin': 1206, 'nurnoch': 1207, 'zimmer': 1208, 'gramm': 1209, 'sebastianhampel': 1210, 'rap': 1211, 'wenn': 1212, 'claudio': 1213, 'tatenlos': 1214, 'fun': 1215, 'blaue': 1216, 'haare': 1217, 'com': 1218, 'fetisch': 1219, 'premium': 1220, 'gewesen': 1221, '16': 1222, '29': 1223, 'teilausfall': 1224, 'hurensoehne': 1225, 'gay': 1226, 'ass': 1227, 'fisting': 1228, 'konservativer': 1229, 'versagen': 1230, 'naked': 1231, 'behaa': 1232, 'teppich': 1233, 'verwoehnen': 1234, 'narrhallamarsch': 1235, 'abo': 1236, 'ausschlag': 1237, 'gewaltig': 1238, 'freie': 1239, 'linksextremisten': 1240, 'gefallen': 1241, 'aka': 1242, 'bi': 1243, 'umwelt': 1244, 'deut': 1245, 'fehler': 1246, 'jeden': 1247, 'recht': 1248, 'klasse': 1249, 'lavievagabonde': 1250, 'naechsten': 1251, 'dunkle': 1252, 'debil': 1253, 'rassisten': 1254, 'gif': 1255, 'wohnen': 1256, 'ranking': 1257, 'riesen': 1258, 'bleiben': 1259, 'dreckspack': 1260, 'nsfw': 1261, 'kla': 1262, 'ext': 1263, 'spieglein': 1264, 'herrnewstime': 1265, 'wuenschte': 1266, 'eins': 1267, 'hop': 1268, 'tuerkischen': 1269, 'variante': 1270, 'entweder': 1271, 'veganhure': 1272, 'expe': 1273, 'einzig': 1274, 'positive': 1275, 'denk': 1276, 'mich': 1277, 'produktivitaet': 1278, 'waerme': 1279, 'leistungsfaehiger': 1280, 'joerg': 1281, 'aktivist': 1282, 'trifft': 1283, 'ideologen': 1284, 'wichtig': 1285, '180': 1286, 'letztendlich': 1287, 'anwalt': 1288, 'strafanzeige': 1289, 'mitarbeiter': 1290, 'amthor': 1291, 'aeussern': 1292, 'srfnews': 1293, 'empfohlen': 1294, 'zuwanderern': 1295, 'finger': 1296, 'behoerden': 1297, 'funktionie': 1298, 'propaganda': 1299, 'gegoennt': 1300, 'mussten': 1301, 'framing': 1302, 'versager': 1303, 'bmw': 1304, 'kannste': 1305, 'bayer': 1306, 'legende': 1307, 'spiel': 1308, 'lich': 1309, 'kehren': 1310, 'reminder': 1311, 'ainyrockstar': 1312, 'singen': 1313, 'staat': 1314, 'af': 1315, 'schwache': 1316, 'eysvog3l': 1317, 'sm100d': 1318, 'sapereaudede': 1319, 'ahmad': 1320, 'player': 1321, 'mazematze': 1322, 'offener': 1323, 'steve': 1324, 'direktflug': 1325, 'dauerrentner': 1326, 'anreise': 1327, 'geldboerse': 1328, 'bheinzlmaier': 1329, 'q': 1330, 'distanzie': 1331, 'heftiger': 1332, 'kritiker': 1333, 'unerhoe': 1334, 'langweilig': 1335, 'haesslich': 1336, 'charakter': 1337, 'bundesjustizminister': 1338, 'fluechtete': 1339, 'erkanallesffm': 1340, 'laesst': 1341, 'allah': 1342, 'insekten': 1343, 'landschaft': 1344, 'keineafd2017': 1345, 'marschieren': 1346, 'strassen': 1347, 'sverband': 1348, 'wahrheit': 1349, 'greta': 1350, 'lappen': 1351, 'unge': 1352, 'ws': 1353, 'joke': 1354, 'verfickten': 1355, 'derzeit': 1356, 'insel': 1357, 'felt': 1358, 'pilotprojekt': 1359, 'rentner': 1360, 'guck': 1361, 'mitleid': 1362, 'millionenfach': 1363, 'toeten': 1364, 'rasse': 1365, 'offeln': 1366, 'richte': 1367, 'derspiegel': 1368, 'timber': 1369, 'ossi': 1370, 'diktatur': 1371, 'vie': 1372, 'daniengel6': 1373, 'traum': 1374, 'baerbeli04': 1375, 'menschenrecht': 1376, 'erklaeren': 1377, 'nackt': 1378, 'tube': 1379, 'waehle': 1380, 'piraten': 1381, 'wechseln': 1382, 'missbraucht': 1383, 'druecken': 1384, 'helfen': 1385, 'it': 1386, 'woche': 1387, 'inside': 1388, 'bb': 1389, 'spast': 1390, 'freiwillig': 1391, 'pip': 1392, 'treffen': 1393, 'gehts': 1394, 'gu': 1395, 'mittelalter': 1396, 'ze': 1397, 'schaff': 1398, 'tacosk': 1399, '68': 1400, 'debatte': 1401, 'mischt': 1402, 'nogruene': 1403, 'flixbus': 1404, 'folgten': 1405, 'fuehrerin': 1406, 'zeiten': 1407, 'tote': 1408, 'zoepfe': 1409, 'vollpfosten': 1410, 'emorapper': 1411, 'korsett': 1412, 'foetzchen': 1413, 'unbeliebt': 1414, 'laeuft': 1415, 'luege': 1416, 'postet': 1417, 'praesentie': 1418, 'hahaha': 1419, 'original': 1420, 'populisten': 1421, 'groko': 1422, 'manipulieren': 1423, 'fan': 1424, 'erinne': 1425, '1945': 1426, 'widerlich': 1427, 'witze': 1428, 'durchgehen': 1429, 'potenzial': 1430, 'hahah': 1431, 'jz': 1432, 'info': 1433, 'fuehren': 1434, 'lak': 1435, 'muratserin69': 1436, 'feld': 1437, 'wasser': 1438, 'ansehen': 1439, '80': 1440, 'passen': 1441, 'arasbacho': 1442, 'fuehlen': 1443, 'grundgesetz': 1444, 'philippinen': 1445, 'muenchen': 1446, 'kriegsfuehrung': 1447, 'interessant': 1448, 'bleib': 1449, 'lehrer': 1450, 'pimmel': 1451, 'dielinke': 1452, 'aufhoeren': 1453, 'same': 1454, 'erkennt': 1455, 'heimlich': 1456, 'digga': 1457, 'schweigt': 1458, 'korallenherz': 1459, '38': 1460, 'uedio': 1461, 'sigmar': 1462, 'kolumne': 1463, 'ehrendoktor': 1464, 'guete': 1465, 'kaise': 1466, 'reitschuster': 1467, 'roll': 1468, 'punk': 1469, 'samba': 1470, 'musik': 1471, 'ekelt': 1472, 'hsv': 1473, 'heil': 1474, 'fascho': 1475, 'saar': 1476, 'ferne': 1477, 'priiizzyy': 1478, 'herrmann': 1479, 'mzudemoffiziell': 1480, 'heu': 1481, 'rockstarleben': 1482, 'chaos': 1483, 'ersten': 1484, 'deswegen': 1485, 'muss': 1486, 'ge': 1487, 'angel': 1488, 'frankfu': 1489, 'signie': 1490, 'league': 1491, 'loesch': 1492, 'pech': 1493, 'unhatebar': 1494, 'erstmal': 1495, 'ots': 1496, 'kfw': 1497, 'arsenal': 1498, 'intro': 1499, 'lust': 1500, 'cem': 1501, 'constschreiber': 1502, 'schneller': 1503, 'terroristen': 1504, 'unglaublich': 1505, 'anime': 1506, 'dopa': 1507, 'nagelsmann': 1508, 'aki': 1509, 'abspritzen': 1510, 'echauffieren': 1511, 'schreiber': 1512, 'euwahl2019': 1513, 'stress': 1514, 'putas': 1515, 'griff': 1516, 'istanbul': 1517, 'imamoglu': 1518, 'westen': 1519, 'talita': 1520, 'kum76': 1521, 'sozialen': 1522, 'regulieren': 1523, 'erziehung': 1524, 'nackten': 1525, 'repo': 1526, 'marie': 1527, 'muelleimer': 1528, 'glueck': 1529, 'schwachsinn': 1530, 'wenige': 1531, 'praesidentin': 1532, 'twitter': 1533, 'posten': 1534, 'kachelmann': 1535, 'kennen': 1536, 'kurzen': 1537, 'fordere': 1538, 'morgenpost': 1539, 'europas': 1540, 'gebraucht': 1541, 'niemamovassat': 1542, 'lul': 1543, 'wdr': 1544, 'fotos': 1545, 'autos': 1546, 'insbesondere': 1547, 'unterschaetzt': 1548, 'dealo': 1549, 'ru': 1550, 'maedchen': 1551, 'florianklenk': 1552, 'nhausfrauen': 1553, 'fuehl': 1554, 'bewohnt': 1555, 'regie': 1556, 'obsession': 1557, 'grundschule': 1558, 'kam': 1559, 'hause': 1560, 'haste': 1561, 'kess': 1562, 'gute': 1563, 'mob': 1564, 'glaubt': 1565, 'solange': 1566, 'beleidigen': 1567, 'leipzig': 1568, 'spahn': 1569, 'ntv': 1570, 'methoden': 1571, 'wunderschoen': 1572, 'suess': 1573, 'mauer': 1574, '400': 1575, 'gefuehl': 1576, 'fani': 1577, 'emmxbellechrist': 1578, 'leck': 1579, 'stimme': 1580, 'ging': 1581, 'soros': 1582, 'ebenso': 1583, 'gepampe': 1584, 'malte': 1585, 'nicole': 1586, 'schaut': 1587, 'beides': 1588, 'song': 1589, 'bruessel': 1590, 'hieven': 1591, 'igen': 1592, 'hannahneedshugs': 1593, 'gemerkt': 1594, 'schlechte': 1595, 'freundin': 1596, 'lauter': 1597, 'ehemaliger': 1598, 'vorbeigehen': 1599, 'europaparlament': 1600, 'and': 1601, 'phones': 1602, 'nrw': 1603, 'echo': 1604, 'drogen': 1605, 'amthorvideo': 1606, 'yuma': 1607, 'lein': 1608, 'schwierig': 1609, '2015': 1610, 'getreten': 1611, 'empoe': 1612, 'gntm': 1613, 'eindeutig': 1614, '69': 1615, 'tut': 1616, 'texas': 1617, 'anabell2301': 1618, 'frankundfreya': 1619, 'komischen': 1620, 'linksradikalen': 1621, 'heyitsmebuboy': 1622, 'pc': 1623, 'cheers': 1624, 'afterwork': 1625, 'fraktionen': 1626, 'beklagen': 1627, 'ausschluss': 1628, 'attackieren': 1629, 'einheitsfeier': 1630, 'leistung': 1631, 'ohren': 1632, 'destroysboys': 1633, 'heller': 1634, 'ablenken': 1635, 'hoehenflug': 1636, 'wann': 1637, 'kriegste': 1638, 'runter': 1639, 'chillen': 1640, 'frikawies': 1641, 'clinton': 1642, 'kauft': 1643, 'hin': 1644, 'luegenpresse': 1645, 'befinden': 1646, 'teil': 1647, 'be': 1648, 'supermarkt': 1649, 'nochmal': 1650, 'steh': 1651, 'stolz': 1652, 'appell': 1653, 'schaftsaussichten': 1654, 'nationalsozialismus': 1655, 'scyltara': 1656, 'trauen': 1657, 'sehrlesbisch': 1658, 'bin': 1659, 'nextlvlbastard': 1660, 'kulturbolschewi': 1661, '66norweger66': 1662, 'cn': 1663, 'se': 1664, 'offizielle': 1665, 'millionen': 1666, 'verdammte': 1667, 'permanent': 1668, 'young': 1669, 'riskieren': 1670, 'bannon': 1671, 'bekomm': 1672, 'mokoffizieil': 1673, 'ft': 1674, 'ih': 1675, 'nahe': 1676, 'but': 1677, 'heutigen': 1678, 'veganer': 1679, 'austria': 1680, 'quaelen': 1681, 'kleiner': 1682, 'suarez': 1683, 'azeckenbiss': 1684, 'ami': 1685, 'sehr': 1686, 'knoepft': 1687, 'n26': 1688, 'ralf64904117': 1689, 'nl': 1690, 'niemehrcdu': 1691, 'siehe': 1692, 'krueger': 1693, 'schwulemiker': 1694, 'stellt': 1695, 'wieviel': 1696, 'willnurschreibn': 1697, 'grenzen': 1698, 'deutschsprachige': 1699, 'ebay': 1700, '1999': 1701, 'carerra': 1702, 'garnicht': 1703, 'christen': 1704, 'ofenschlampe': 1705, 'poggenburgandre': 1706, 'afrikaner': 1707, 'jagen': 1708, 'cnn': 1709, 'folge': 1710, 'irrsinn': 1711, 'hutzel': 1712, 'kurzer': 1713, 'baden': 1714, 'ms': 1715, 'seite': 1716, 'magazin': 1717, 'polenz': 1718, 'hitlergruss': 1719, 'ruelpser': 1720, 'magengas': 1721, 'vergas': 1722, 'versucht': 1723, 'maennern': 1724, 'final': 1725, 'satz': 1726, 'prank': 1727, 'juergen': 1728, 'fritz': 1729, 'ergebnis': 1730, 'falsch': 1731, 'not': 1732, 'wiede': 1733, 'newswirenow': 1734, 'erdolf': 1735, 'argument': 1736, 'geflogen': 1737, 'kacken': 1738, 'erhaelt': 1739, 'spoe': 1740, 'tagesthemen': 1741, 'wochenende': 1742, 'oida': 1743, 'uebersetzt': 1744, 'behandelt': 1745, 'russland': 1746, 'wunde': 1747, 'erzaehlen': 1748, 'freude': 1749, 'kangen': 1750, 'schau': 1751, '100': 1752, 'jaja': 1753, 'schlechtigkeit': 1754, 'weltanschauung': 1755, 'xrapidsandro': 1756, 'nh': 1757, 'impfanoffiziell': 1758, 'schne': 1759, 'shaming': 1760, 'abwe': 1761, 'erding': 1762, 'verleumdet': 1763, 'stuerzenberger': 1764, 'aufgerissen': 1765, 'anhaenger': 1766, 'pasemann': 1767, 'faellt': 1768, 'denke': 1769, 'adam': 1770, 'rammstein': 1771, 'herd': 1772, 'liest': 1773, 'mach': 1774, 'arschficken': 1775, 'feinstaub': 1776, 'kuh': 1777, 'goennen': 1778, 'gratulation': 1779, 'nicosemsrott': 1780, 'teufels': 1781, 'rechter': 1782, 'beide': 1783, 'fakten': 1784, 'tv': 1785, 'geschichten': 1786, 'tag': 1787, 'studium': 1788, 'merk': 1789, 'vergisst': 1790, 'aufhoe': 1791, 'autofahrer': 1792, 'leichte': 1793, 'aussehen': 1794, 'uli': 1795, 'postings': 1796, 'ar': 1797, 'trikotwahl': 1798, 'maschmeyer': 1799, 'quirinweber': 1800, 'verstand': 1801, 'unterschreiben': 1802, 'andreanahlesspd': 1803, 'spielen': 1804, 'engelge': 1805, 'muellerliesche': 1806, 'ihr': 1807, 'mei': 1808, 'geraldgrosz': 1809, 'liebsten': 1810, 'chrisjuko': 1811, 'bedarf': 1812, 'benutzen': 1813, 'eva': 1814, 'herman': 1815, 'vieles': 1816, 'kolle': 1817, 'menschheit': 1818, 'genommen': 1819, 'zei': 1820, 'neues': 1821, 'publizistikon': 1822, 'hate': 1823, 'frei': 1824, 'update': 1825, 'extremisten': 1826, 'dritten': 1827, 'pl0105': 1828, 'minecraft': 1829, 'verbloedung': 1830, 'justinkolo': 1831, 'mone': 1832, 'auftritt': 1833, 'picco94115398': 1834, 'hinterlassen': 1835, 'liegt': 1836, 'daran': 1837, 'einhorngangbang': 1838, 'pueppchen': 1839, 'alexander': 1840, 'wollte': 1841, 'wahlpa': 1842, 'buehne': 1843, 'siegstyle': 1844, 'verbrechen': 1845, 'entfernt': 1846, 'stadion': 1847, 'ki': 1848, 'mi': 1849, 'pssst': 1850, 'heimat': 1851, 'normal': 1852, 'aussagen': 1853, 'junioren': 1854, 'ts': 1855, '1000': 1856, 'gibts': 1857, 'paesse': 1858, 'nackter': 1859, 'nachm': 1860, 'cet': 1861, 'telekomdown': 1862, 'beck': 1863, 'rueckwae': 1864, 'friedhof': 1865, 'indoktrination': 1866, 'ihn': 1867, 'hahahahaha': 1868, 'bengies5': 1869, 'gzuz': 1870, 'moje': 1871, 'dupe': 1872, 'dankee': 1873, 'verraeter': 1874, 'sachsen': 1875, 'schweizok2': 1876, 'iphone': 1877, 'fassen': 1878, 'alice': 1879, 'bekleidung': 1880, 'watch': 1881, 'bastard': 1882, 'dracheschaut': 1883, 'bestaetigt': 1884, 'idk': 1885, 'selbst': 1886, 'laecherlich': 1887, 'lara': 1888, 'lt': 1889, 'masturbieren': 1890, 'gottchen': 1891, 'fernandes': 1892, 'dominic': 1893, 'roger': 1894, 'etwa': 1895, 'weib': 1896, 'fetten': 1897, 'lebe': 1898, 'irre': 1899, 'stbrandner': 1900, 'selbe': 1901, 'nwbrs1': 1902, '21': 1903, 'vegesack': 1904, 'copy': 1905, 'paste': 1906, 'krasser': 1907, 'cms': 1908, 'kleben': 1909, 'mobbing': 1910, 'faerben': 1911, 'booth': 1912, 'heiko31086906': 1913, 'besten': 1914, 'hashtag': 1915, 'mon': 1916, 'send': 1917, 'korrupten': 1918, 'erfindet': 1919, 'brauchst': 1920, 'ku': 1921, 'modal': 1922, 'hahahah': 1923, 'spricht': 1924, 'nicolangecdu': 1925, 'virgen48': 1926, 'glueckwunsch': 1927, 'gemeinsam': 1928, 'ruf': 1929, 'ruinie': 1930, 'knie': 1931, 'now': 1932, 'phiiosoph': 1933, 'raste': 1934, 'lache': 1935, 'cool': 1936, 'dj': 1937, 'wahren': 1938, 'keh': 1939, 'zahlschwein': 1940, 'jeds': 1941, 'geschwafel': 1942, 'dfb': 1943, 'kunst': 1944, 'brauch': 1945, 'farid': 1946, 'bang': 1947, 'gesellschaftliche': 1948, 'billie': 1949, 'eilish': 1950, 'rezovideo': 1951, 'schwanger': 1952, 'michelreimon': 1953, 'widerwae': 1954, 'revolverblatt': 1955, 'peter': 1956, 'snack': 1957, 'union': 1958, 'genannt': 1959, 'sexo': 1960, 'sunshine': 1961, 'bierflasche': 1962, 'hand': 1963, 'konform': 1964, 'ikel': 1965, 'zieht': 1966, 'migranten': 1967, 'vermutlich': 1968, 'keller': 1969, 'sellner': 1970, 'aperol': 1971, 'annewill': 1972, 'schlagen': 1973, 'vereinbar': 1974, 'ninja': 1975, '25': 1976, 'doppelmoral': 1977, 'internet': 1978, '00': 1979, 'prallen': 1980, 'meint': 1981, 'musclebear66': 1982, 'gutes': 1983, 'akw': 1984, '22': 1985, 'kulturverein': 1986, 'eingestaendnis': 1987, 'ausrufen': 1988, 'krypto': 1989, 'boerse': 1990, 'rp19': 1991, 'weird': 1992, 'dfdi': 1993, 'kollegin': 1994, 'menge': 1995, 'wahr': 1996, 'strickanleitung': 1997, 'melanie': 1998, 'mielinger': 1999, 'anleitungen': 2000, 'schule': 2001, 'hinten': 2002, 'fotzen': 2003, 'schlecht': 2004, 'stark': 2005, 'koeln': 2006, 'fussirud': 2007, 'absolute': 2008, 'schlaegt': 2009, 'manchmal': 2010, 'anstatt': 2011, 'motivie': 2012, 'legen': 2013, 'panik': 2014, 'schwester': 2015, 'fridayforfuture': 2016, 'dank': 2017, 'teen': 2018, 'eidigen': 2019, '1977': 2020, 'tobias': 2021, 'seb': 2022, 'baehr': 2023, 'gebu': 2024, 'hazard': 2025, 'cringe': 2026, 'reduzie': 2027, 'interesse': 2028, 'schwuchteltier': 2029, 'michael': 2030, 'symphony': 2031, 'magic': 2032, 'petition': 2033, 'bro': 2034, 'altcoin': 2035, 'parlament': 2036, 'line': 2037, 'werberat': 2038, 'havard': 2039, 'fuehlst': 2040, 'magst': 2041, 'sperma': 2042, 'erzaehlt': 2043, '2030': 2044, 'gezaehlt': 2045, 'anfang': 2046, 'bezahlen': 2047, 'erkennen': 2048, 'treibt': 2049, 'abechieben': 2050, 'schlaf': 2051, 'nachdem': 2052, 'steckt': 2053, 'rothaarige': 2054, 'politessen': 2055, 'inzets': 2056, 'ndrinfo': 2057, 'klimaaktivistin': 2058, 'luisa': 2059, 'neubauer': 2060, 'fehlenden': 2061, 'unterstuetzung': 2062, 'kl': 2063, 'ruhrbahn': 2064, 'morgen': 2065, 'inkas': 2066, 'angestellt': 2067, 'spanischen': 2068, 'eindringlingen': 2069, 'toppt': 2070, 'technosteron': 2071, 'boar': 2072, 'analphabetischen': 2073, 'dorne': 2074, 'schrammi44': 2075, 'goat': 2076, 'bouncaay': 2077, 'kfm': 2078, 'mittelstand': 2079, 'mittelstandsanleihen': 2080, 'fonds': 2081, 'hoermann': 2082, 'anleihe': 2083, 'mindest': 2084, 'kupon': 2085, 'mentalshards': 2086, 'offenden': 2087, 'skandaloes': 2088, 'zugreifen': 2089, 'holzraspler': 2090, 'botometer': 2091, 'touchbar': 2092, 'xcode': 2093, '2003': 2094, 'xxl': 2095, 'weights': 2096, 'v1': 2097, 'fs19': 2098, 'kizer': 2099, 'zero': 2100, 'aquila': 2101, 'agora': 2102, 'deutsches': 2103, 'ehepaar': 2104, 'ffentlichkeit': 2105, 'muschilecken': 2106, 'johannesgrune': 2107, 'armselig': 2108, 'esc2019': 2109, 'iceland': 2110, 'effekt': 2111, 'sieg': 2112, 'immernoch': 2113, 'lucky': 2114, 'joahlen': 2115, 'sueggest': 2116, 'movies': 2117, 'plz': 2118, 'ty': 2119, 'einjanik': 2120, 'mhp2002': 2121, 'konrad1000': 2122, 'lvz': 2123, 'koerperverletzung': 2124, 'antut': 2125, 'taeter': 2126, 'kundgebug': 2127, 'dunklen': 2128, 'repression': 2129, 'humanitaere': 2130, 'aufnahme': 2131, 'wohngege': 2132, 'kopalken': 2133, 'hasselfeld': 2134, 'wahlkampfhelferin': 2135, 'gescher': 2136, 'christdemokrat': 2137, 'gaense': 2138, 'naturschutzgebiet': 2139, 'berkeltal': 2140, 'schwgerin': 2141, 'italiani': 2142, 'chat': 2143, 'satireunfreiesd': 2144, 'hube': 2145, 'zulu': 2146, 'nilzee011': 2147, 'linotobi': 2148, 'dieserroman': 2149, 'estar': 2150, 'unterwrfige': 2151, 'hotpants': 2152, 'lianepoost': 2153, 'beziehe': 2154, 'sozialistische': 2155, 'unproduktiv': 2156, 'brunipamder237': 2157, 'sonnenbebrillt3': 2158, 'altonese86': 2159, 'unfair': 2160, 'yungatakan': 2161, 'rau': 2162, 'deacon': 2163, 'zuruf': 2164, 'bots': 2165, 'sawsan': 2166, 'arbeitskraft': 2167, 'stundenlohn': 2168, 'nwbrb58': 2169, 'osnabrueck': 2170, '26': 2171, 'delmenhorst': 2172, 'joergrmayer': 2173, 'lichtmesz': 2174, 'versorgungsposten': 2175, 'naeckige': 2176, 'karrierist': 2177, 'miese': 2178, 'sozialisten': 2179, 'antifanten': 2180, '451': 2181, 'benziner': 2182, 'dazu': 2183, 'xrxss': 2184, 'wireless': 2185, 'charging': 2186, 'pads': 2187, 'katerfrieden': 2188, 'geschoss': 2189, 'braindead': 2190, 'xy': 2191, 'kotzt': 2192, 'johannesw82': 2193, 'bellefired': 2194, 'belieben': 2195, 'einfuegen': 2196, 'regierungsgesteue': 2197, 'dementsprechendem': 2198, 'verleih': 2199, 'crusher': 2200, 'neomagazin': 2201, 'carpool': 2202, 'karaoke': 2203, 'dotheyknowitseurope': 2204, 'kamp': 2205, 'kgb': 2206, 'hihi97948034': 2207, 'mero': 2208, 'knapp': 2209, 'kollegen': 2210, 'arbeitest': 2211, 'sprachst': 2212, 'assi': 2213, 'kreisel': 2214, 'blinkt': 2215, 'autobahn': 2216, 'blinken': 2217, 'eilhaft': 2218, 'busfahrer': 2219, 'evp': 2220, 'spitzenkandidat': 2221, 'wahlarena': 2222, 'berufsleben': 2223, 'aaaain': 2224, 'hintergrundmusik': 2225, 'mobilfunkwerbung': 2226, 'escorf': 2227, 'og': 2228, 'julius': 2229, 'michaelhaenel3': 2230, 'bewah': 2231, 'fusionbleibt': 2232, 'xmerve021': 2233, 'haraldbecker80': 2234, 'gegenbeispiel': 2235, 'gezeigt': 2236, '900': 2237, 'ausland': 2238, 'ruche4': 2239, 'poids': 2240, '2kg': 2241, 'infos': 2242, '47': 2243, '56': 2244, 'ssbm': 2245, 'rupps': 2246, 'unserwir': 2247, 'atomreisfleisch': 2248, 'jacky': 2249, 'lope': 2250, 'elektro': 2251, 'geheule': 2252, 'leut': 2253, 'rachsuechtige': 2254, 'mysogynie': 2255, 'hinte': 2256, 'westlichen': 2257, 'bundeslaendern': 2258, 'abstossend': 2259, 'pokehita97': 2260, 'overreacted': 2261, 'overreact': 2262, 'sry': 2263, 'can': 2264, 'radikale': 2265, 'nationalistische': 2266, 'verschwiegenenen': 2267, 'obi': 2268, 'kenobii': 2269, 'walkerjole': 2270, 'siege': 2271, 'cod': 2272, 'ihrerseits': 2273, 'klimafalle': 2274, 'radiale': 2275, 'massnahmen': 2276, 'inaholst': 2277, 'rudolfuz': 2278, 'extrarechte': 2279, 'bigotterie': 2280, 'aushaltbar': 2281, 'fck': 2282, 'plakaten': 2283, 'flyer': 2284, 'verankernlul': 2285, 'papaplatte': 2286, 'zeitve': 2287, 'reib': 2288, 'tlaytweet': 2289, 'befindet': 2290, 'normale': 2291, 'peterzobel4': 2292, 'zusammenarbeit': 2293, 'gutschein': 2294, 'rebelita': 2295, 'fleecepulover': 2296, 'hofheim': 2297, 'hobbyhure': 2298, 'taschengeld': 2299, 'positionen': 2300, 'vermitteln': 2301, 'konnten': 2302, 'verachtung': 2303, 'educaaunfifi': 2304, 'ulrik': 2305, 'von': 2306, 'raedsalehberlin': 2307, 'logo': 2308, 'heteros': 2309, 'jetz': 2310, 'habter': 2311, 'etzala': 2312, 'piratenpa': 2313, 'gequatsche': 2314, 'migration': 2315, 'gesinnungsterror': 2316, 'nicerlucas': 2317, 'alki': 2318, 'danyvause': 2319, 'maynstream': 2320, 'tip': 2321, 'motivator': 2322, 'fuxki': 2323, 'bauchschmerzen': 2324, 'homasbruns': 2325, 'dt': 2326, 'demnach': 2327, 'waehlte': 2328, 'abgehakt': 2329, 'schwangerschaft': 2330, 'firefox': 2331, 'nekrosex': 2332, 'zar2001doz': 2333, 'dezember': 2334, 'bescheid': 2335, 'versetzt': 2336, 'anzeiger': 2337, 'glockto': 2338, 'blumenkohl': 2339, 'zubereite': 2340, 'seziere': 2341, 'kolleginnen': 2342, 'kolleg': 2343, 'zuckerbienchen': 2344, '222': 2345, 'followern': 2346, 'ausziehen': 2347, 'untenistoben': 2348, 'wulfschmiese': 2349, 'vorgelogen': 2350, 'unheilvolle': 2351, 'milkiriveri': 2352, 'beisst': 2353, 'tabeayy': 2354, 'tante': 2355, 'familiengruppe': 2356, 'spiegelanti': 2357, 'heldenmythos': 2358, 'don': 2359, 'komische': 2360, 'vanhimbeeren': 2361, 'spalterische': 2362, 'eurorettungspolitik': 2363, 'entpuppt': 2364, 'fiskalisches': 2365, 'fiasko': 2366, 'taeuschungskonstrukt': 2367, 'scheissegal': 2368, 'luftblase': 2369, 'strebt': 2370, 'tulpa2230': 2371, 'pete': 2372, 'oitberg': 2373, 'schadet': 2374, 'diskurs': 2375, 'schwa': 2376, 'ht': 2377, 'internetbazi': 2378, 'kulierjarolina': 2379, 'golzheimer': 2380, 'resultat': 2381, 'kassie': 2382, 'aufbau': 2383, 'ryan': 2384, 'riback': 2385, 'eyes': 2386, 'kikivega': 2387, 'krasse': 2388, 'aktion': 2389, 'strasse': 2390, 'hobby': 2391, 'teens': 2392, 'realverlust': 2393, 'schwesterfd': 2394, 'dieter': 2395, 'grind': 2396, 'staatlich': 2397, 'organisie': 2398, 'gfickt': 2399, 'schaffens': 2400, 'kna': 2401, 'hmm': 2402, 'unterstuetzte': 2403, 'mietpreis': 2404, 'wucherer': 2405, 'styropor': 2406, '434italo': 2407, 'eingerichtet': 2408, 'sailorvicious': 2409, 'jusederjude': 2410, 'quadratmetern': 2411, 'vierkoepfigen': 2412, 'wohnkonzepte': 2413, 'serie': 2414, 'club28': 2415, 'silke1974geb': 2416, 'mrchentante1': 2417, 'sudelheft': 2418, 'extension': 2419, 'mitchell': 2420, 'nihl': 2421, 'konservative': 2422, 'identitaetspolitik': 2423, 'deshalb': 2424, 'loveguerillos': 2425, 'thorser62': 2426, 'luciame': 2427, 'kmw2904': 2428, 'fake': 2429, 'mmnews': 2430, 'citylayer': 2431, 'packs': 2432, 'balkonlage': 2433, 'coffeiniker': 2434, 'aluhut': 2435, 'restliche': 2436, 'zerquetscht': 2437, 'enrico95151143': 2438, 'irritierend': 2439, 'diw': 2440, 'praesident': 2441, 'fratzscher': 2442, 'adora': 2443, 'belle': 2444, 'unpolitisch': 2445, 'beschaeftigt': 2446, 'mimimi': 2447, 'fakenew': 2448, 'vquaschning': 2449, 'paris': 2450, 'aktueller': 2451, 'wirds': 2452, '2200': 2453, 'thorsmetkeller': 2454, 'bestell': 2455, 'dansgame': 2456, 'juristen': 2457, 'kaliber': 2458, 'yohbuh': 2459, 'zeelikezorro': 2460, 'mooorizzle': 2461, 'craftergut5': 2462, 'wollten': 2463, 'putschen': 2464, 'hcsmussweg': 2465, 'alextv': 2466, 'puffs': 2467, 'wahldesaster': 2468, 'stroemungsuebergreifend': 2469, 'nachha': 2470, 'alkoholiker': 2471, 'chil': 2472, 'zerfall': 2473, 'armut': 2474, 'unterdrueckung': 2475, 'grottekbrutal': 2476, 'traumurlaub': 2477, 'bytepirat': 2478, 'lebensmittel': 2479, 'verschenken': 2480, 'pparzival': 2481, 'aufstehen': 2482, 'pseudolinken': 2483, 'vormalige': 2484, 'friedenspa': 2485, 'schrillsten': 2486, 'kriegspa': 2487, 'gemause': 2488, 'homeforwhovians': 2489, 'weilkp1': 2490, 'fraue': 2491, 'ausb': 2492, 'faznet': 2493, 'randyraudi': 2494, 'religionen': 2495, 'symphatische': 2496, 'vorzeigekandidatin': 2497, 'erstwaehler': 2498, 'kreux': 2499, 'weil': 2500, 'lukasinho01': 2501, 'bloede': 2502, 'scheinheilige': 2503, 'richt': 2504, 'euwahl': 2505, 'jahrelange': 2506, 'massen': 2507, 'verbrecherinvasion': 2508, 'muelldeponie': 2509, 'veralteten': 2510, 'zaehlen': 2511, 'aljaseas': 2512, 'puh': 2513, 'kollossale': 2514, 'faven': 2515, 'texten': 2516, 'hauptsaechlich': 2517, 'misogyne': 2518, 'misogynes': 2519, 'insz': 2520, 'xxxtentacion': 2521, 'ulrichham': 2522, 'abgezockt': 2523, 'belogen': 2524, 'h4': 2525, 'altersarmut': 2526, 'leiharbeit': 2527, 'thetrvevarg': 2528, 'bedeutungslosigkeit': 2529, 'bedenkt': 2530, 'einst': 2531, 'besc': 2532, 'eddie': 2533, '1412': 2534, 'darkcat90': 2535, 'himmelsreich': 2536, 'vielflieger': 2537, 'stiftung': 2538, 'warentest': 2539, 'tropenholz': 2540, 'grillen': 2541, 'staub6760': 2542, 'aua': 2543, 'depositodetiras': 2544, 'por': 2545, 'charles': 2546, 'frauweh': 2547, 'bogenschuetzen': 2548, 'dezimieren': 2549, 'prinzen': 2550, 'gurkenplaysyt': 2551, 'chrisfcn1900': 2552, 'dreckig': 2553, 'beatehaubrock': 2554, 'mokomokai': 2555, 'kjpgehrden': 2556, 'identifikationmitdemaggressor': 2557, 'samelou': 2558, 'seltsame': 2559, 'zensur': 2560, 'satzes': 2561, 'beleidigung': 2562, 'verleumdung': 2563, 'entw': 2564, 'oklara': 2565, 'reality': 2566, 'kings': 2567, 'vogeln': 2568, 'geschieht': 2569, 'uebliche': 2570, 'teenager': 2571, 'muehsal': 2572, 'sitcom': 2573, 'temmuzkacak': 2574, 'terrorpkk': 2575, 'freiheitskaempfer': 2576, 'irakische': 2577, 'burka': 2578, 'ausziehe': 2579, 'gaengster': 2580, 'verbloeden': 2581, 'buchzitat': 2582, 'irgendeinem': 2583, 'schlange': 2584, 'ghostikun': 2585, 'sexistische': 2586, 'kackscheisse': 2587, 'krise': 2588, 'brabaxbln': 2589, 'ill': 2590, 'zitronenjette20': 2591, 'morgaine620': 2592, 'dgh': 2593, 'treppenhaus': 2594, 'liebs': 2595, 'wahlomat': 2596, 'hatte': 2597, 'irgendeinen': 2598, 'bewaehrungsstrafe': 2599, 'schwarzafrikanischen': 2600, 'asyltouristen': 2601, 'kirchentreppe': 2602, 'milch': 2603, 'lesbensexvideos': 2604, 'blonde': 2605, 'schwiegermtter': 2606, '98763': 2607, 'volltreffer': 2608, 'raetsel': 2609, 'wozu': 2610, 'schaftsverbaende': 2611, 'bande': 2612, 'daddyatze': 2613, 'goil': 2614, 'cookiesforjoon': 2615, 'fandest': 2616, 'skototaxis': 2617, 'trafen': 2618, 'reifen': 2619, 'wrge': 2620, 'da29': 2621, '00020b': 2622, 'haf': 2623, 'cin': 2624, 'exp': 2625, 'refrigerator': 2626, 'water': 2627, 'white': 2628, 'aufschrei': 2629, 'bruestung': 2630, 'gehoben': 2631, 'nwbre14': 2632, 'borken': 2633, 'westf': 2634, 'dorsten': 2635, 'froehliches': 2636, 'allahu': 2637, 'akbe': 2638, 'wennst': 2639, 'zuhoerst': 2640, 'choked': 2641, 'veganem': 2642, 'dings': 2643, 'mecces': 2644, 'dringe': 2645, 'ranziges': 2646, 'rindfleisch': 2647, 'videoaufrufe': 2648, 'kaufende': 2649, 'fistplay': 2650, 'assplay': 2651, 'fistingtime': 2652, 'xyz': 2653, 'causa': 2654, 'schiesst': 2655, 'tricksen': 2656, 'geltendes': 2657, 'transnutte': 2658, 'verwechseln': 2659, 'schreckt': 2660, 'cubcgn1': 2661, 'davidhf92': 2662, 'spargel': 2663, 'erbeeren': 2664, 'president': 2665, 'rambe': 2666, 'hururensooohn': 2667, 'okok': 2668, 'stopp': 2669, 'mission': 2670, 'faltiger': 2671, 'realantizion77': 2672, 'nettilatte': 2673, 'akifpirincci': 2674, 'hcstrachefp': 2675, 'anonymer': 2676, 'zeigender': 2677, 'bonner': 2678, 'stricher': 2679, 'pillepa47127736': 2680, 'umweltbelastung': 2681, 'beitraegt': 2682, 'trends': 2683, 'branche': 2684, 'spoga': 2685, 'gafa': 2686, 'bjrn17547904': 2687, 'gruenenrw': 2688, 'nationalmasochismus': 2689, 'geisteskranken': 2690, 'larsweisbrod': 2691, 'verlieben': 2692, 'ess': 2693, 'steffen': 2694, 'goldstuecke': 2695, 'facharbeiter': 2696, 'aelydysdenossi': 2697, 'morastmops': 2698, 'politicalbeauty': 2699, 'naziaufmaersche': 2700, 'meinungsaeusserung': 2701, 'demorecht': 2702, 'genemigt': 2703, 'bodoloettgen': 2704, 'linksextrem': 2705, 'fachkraeften': 2706, 'nnaschneider': 2707, 'kroenung': 2708, 'oekofeminismus': 2709, 'hstrike': 2710, 'zuliebe': 2711, 'brinkhaus': 2712, 'dennoch': 2713, 'maximal': 2714, 'mariboncw': 2715, 'schuhcreme': 2716, 'bastelt': 2717, 'herrje': 2718, 'yuumatsukumo': 2719, '67': 2720, 'verblendet': 2721, 'leimen': 2722, 's60': 2723, 'boeblingen': 2724, 'schwabstr': 2725, 'maichingen': 2726, 'sbahnstgt': 2727, 'gifev': 2728, 'kompetenzgruppe': 2729, 'aktuelle': 2730, 'projektgruppen': 2731, 'wohnformen': 2732, 'mikrolagen': 2733, 'grossstaedte': 2734, 'einlauf': 2735, 'spasti': 2736, 'gottessohn13': 2737, 'fackel': 2738, 'umzuege': 2739, 'dagilp': 2740, 'lbh': 2741, '1lisschen93': 2742, 'b24pt': 2743, 'contrata': 2744, 'ao': 2745, 'hoffenheim': 2746, 'fwa': 2747, 'great': 2748, 'naku64': 2749, 'quin': 2750, '3te': 2751, 'untote': 2752, 'stimmenve': 2753, 'eilung': 2754, 'buendnis': 2755, 'ue50': 2756, 'gestossen': 2757, 'aende': 2758, 'sera': 2759, 'gegenseitig': 2760, 'schickten': 2761, 'pbern12': 2762, 'community': 2763, 'deutlicher': 2764, 'garfieldine': 2765, 'sexismobserver': 2766, 'hamburger': 2767, 'hafen': 2768, 'botschaft': 2769, 'stefan': 2770, 'beatrix': 2771, 'vstorch': 2772, 'doener': 2773, 'dicherheit': 2774, 'jungs': 2775, 'meinte': 2776, 'gewaltbereitschaft': 2777, 'thinspo': 2778, 'bootboss': 2779, 'spitzenkandidaten': 2780, 'kurzpo': 2781, 'raet': 2782, 'kandidatencheck': 2783, 'itsdesey': 2784, 'perkz': 2785, 'gunlike': 2786, 'groesseren': 2787, 'schwulen': 2788, 'aufgestiegen': 2789, 'geringere': 2790, 'anzahl': 2791, 'eienblock': 2792, 'staffel': 2793, 'voltron': 2794, 'trd': 2795, 'fall': 2796, 'evorox750': 2797, 'schlaefst': 2798, 'jodl': 2799, 'merkur': 2800, 'auswae': 2801, 'igesamt': 2802, 'ep21': 2803, 'attraction': 2804, 'outet': 2805, 'gedichtw': 2806, 'herrnaumann': 2807, 'dergazetteur': 2808, 'erster': 2809, 'besuch': 2810, 'mjwock': 2811, 'allemal': 2812, 'oekolinx': 2813, 'polizistmensch': 2814, 'schnischna1992': 2815, 'alla': 2816, 'klassische': 2817, 'xhamster': 2818, 'orgasmus': 2819, 'edgyluwuca': 2820, 'umfrage': 2821, 'wuerdest': 2822, 'fragst': 2823, 'personalentscheidungen': 2824, 'bk': 2825, 'kingrighteous': 2826, 'raleigh': 2827, 'durham': 2828, 'musashi': 2829, 'haiku': 2830, 'haltung': 2831, 'genialewelt': 2832, 'waldnattern': 2833, 'melden': 2834, 'puls': 2835, 'zitter': 2836, 'zusammenreissen': 2837, 'loszudiskutieren': 2838, 'haraldrostock': 2839, 'renommie': 2840, 'wilfried': 2841, 'schmitz': 2842, 'amtlichen': 2843, 'bet': 2844, 'tisch': 2845, 'gekeh': 2846, 'coraxaroc': 2847, 'neons': 2848, 'reklame': 2849, 'fische': 2850, 'leuchten': 2851, 'huebsch': 2852, 'bunt': 2853, 'wetlook': 2854, 'showoff': 2855, 'talk': 2856, 'primitive': 2857, 'gesindel': 2858, 'd4ncingmonkey': 2859, 'tod': 2860, 'luaks030': 2861, 'gabku': 2862, 'curdinv': 2863, 'grautoene': 2864, 'uebrig': 2865, 'nim': 2866, 'reiner02192679': 2867, 'beziehung': 2868, 'schlimmsten': 2869, 'flxmydlseases': 2870, 'heiner': 2871, 'gesper': 2872, 'alexarusss': 2873, 'linksoma': 2874, 'untaetig': 2875, 'steuerkarussell': 2876, 'raubzug': 2877, 'erschuet': 2878, 'obviant': 2879, 'buloneee': 2880, 'antwo': 2881, 'pflegefall': 2882, 'trackmaniagamer': 2883, 'lord': 2884, 'abbadon': 2885, 'wurd': 2886, 'finanzberater': 2887, 'forderung': 2888, 'schnaps': 2889, 'nap': 2890, 'masyaf': 2891, 'sy': 2892, 'groben': 2893, 'unfug': 2894, 'effektiver': 2895, 'reppinum': 2896, 'kriegt': 2897, 'monat': 2898, 'inaktiv': 2899, 'nicjt': 2900, 'sprinten': 2901, 'daffyfuq': 2902, 'gummipuppe': 2903, 'hochladet': 2904, 'hl': 2905, 'h2o': 2906, 'mein': 2907, 'leg': 2908, 'schatulle': 2909, 'schliesse': 2910, 'garantie': 2911, 'bpl': 2912, 'sbc': 2913, 'foerde': 2914, 'arabische': 2915, 'schmarotzer': 2916, 'taugenichtse': 2917, 'uebe': 2918, 'sinnfrei': 2919, '200l': 2920, '60l': 2921, 'tank': 2922, 'fuellen': 2923, 'wegfahren': 2924, 'verstaatlichung': 2925, 'ausdenken': 2926, 'zskaveyt': 2927, 'sypherox': 2928, 'luuxaa': 2929, 'gangmembergaara': 2930, 'zkidaa': 2931, 'habebrot': 2932, 'paedagogin': 2933, 'txm3rx': 2934, 'benizzel1': 2935, 'klagt': 2936, 'voelkermord': 2937, 'doomed': 2938, 'richtlinie': 2939, 'schlag': 2940, 'kleinaktionaere': 2941, 'griffinthepeter': 2942, 'herumhackt': 2943, 'schliesslich': 2944, 'ju': 2945, 'betze': 2946, 'spiegelt': 2947, 'fuehrungetage': 2948, 'passfehler': 2949, '1967gorzata': 2950, 'sbunners': 2951, 'fanatisch': 2952, 'unverantwo': 2953, 'gagadaily': 2954, 'hair': 2955, 'pfarrer': 2956, 'gegendemo': 2957, 'starnberg': 2958, 'besen': 2959, 'kirchplatz': 2960, 'htt': 2961, 'michellemalkin': 2962, 'freespeechfriday': 2963, 'fightthecensors': 2964, 'pjnet': 2965, 'tcot': 2966, 'patrioten': 2967, 'strophe': 2968, 'deutschlandliedes': 2969, 'sulemannmalik': 2970, 'saekularer': 2971, 'entsprechend': 2972, 'timokloepper': 2973, 'fff': 2974, 'angesicht': 2975, 'grossprobleme': 2976, 'hielte': 2977, 'arnd': 2978, 'schumacher': 2979, 'timmermanseu': 2980, 'aussenpolitik': 2981, 'sorgt': 2982, 'migrations': 2983, 'halia': 2984, 'yee': 2985, 'durex': 2986, 'trojan': 2987, 'dwd': 2988, 'warnlagebericht': 2989, 'zuenden': 2990, 'taeglichen': 2991, 'brauchern': 2992, 'asoziales': 2993, 'tilojung': 2994, 'groesser': 2995, 'linear': 2996, 'tinten': 2997, 'killer': 2998, 'nichttweeterin': 2999, 'italienisches': 3000, 'nasir': 3001, 'ablegen': 3002, 'kallepilsbier': 3003, 'fabrikle': 3004, 'global': 3005, 'unternehmensgeschichte': 3006, 'hanserliter': 3007, 'volkslehrer': 3008, 'ingo': 3009, 'reconquista': 3010, 'germanica': 3011, 'bundesk': 3012, 'undeaniable': 3013, 'hofmeyr': 3014, 'kaizer': 3015, 'chiefs': 3016, 'n3rdy': 3017, 'nacken': 3018, 'krault': 3019, 'stefanskibbe': 3020, 'jap': 3021, 'milfdiana2': 3022, 'match': 3023, 'issn': 3024, 'verdammtes': 3025, 'atotheiex': 3026, 'edzardernst': 3027, 'extra3': 3028, 'jnfingerle': 3029, 'klimaschaedlichen': 3030, 'treibhausgase': 3031, 'klinger291259': 3032, 'kapazitaeten': 3033, 'eurowahl': 3034, 'jahrhunde': 3035, 'frans': 3036, 'timmermans': 3037, 'kommissionspraes': 3038, 'oezil': 3039, 'berichterstattung': 3040, 'schnappschuss': 3041, 'hoeferjunge': 3042, 'markt': 3043, 'wirken': 3044, 'kontrollieren': 3045, 'doerfer': 3046, 'zwangsumsiedeln': 3047, 'sarr': 3048, 'einbuergerungsverbot': 3049, 'mehrehen': 3050, 'geschichtlich': 3051, 'oede': 3052, 'nebenbei': 3053, 'antifaschist': 3054, 'haramizemer': 3055, 'gedanke': 3056, 'spaltet': 3057, 'typisch': 3058, 'davidgeorge91': 3059, 'karllagerfeld': 3060, 'trage': 3061, 'jogginghose': 3062, 'daraschi': 3063, 'iblali': 3064, 'youtubevideos': 3065, 'relativie': 3066, 'feminismus': 3067, 'yep': 3068, 'its': 3069, 'kotze': 3070, 'unnoetige': 3071, 'hyperbushido': 3072, '1923': 3073, 'putschversuch': 3074, 'knast': 3075, 'ccrunk9': 3076, 'england': 3077, 'ausbilden': 3078, 'lernt': 3079, 'vergewaltig': 3080, 'tomatenhass': 3081, 'kastor': 3082, 'akielos': 3083, 'patmair1': 3084, 'afdbraunschweig': 3085, 'verspargeln': 3086, 'todesanlagen': 3087, 'erinnern': 3088, 'plauen0105': 3089, 'plau': 3090, 'barbarakaufmann': 3091, 'verhaeltnis': 3092, 'zerruettet': 3093, 'nr': 3094, 'meinerstesmal': 3095, 'licht': 3096, 'lou': 3097, 'lorenz': 3098, 'sonjaablinger': 3099, 'maennerwg': 3100, 'laessig': 3101, 'abgeordnete': 3102, 'froh': 3103, 'rabensalat': 3104, 'ranajeanne': 3105, 'kuendigen': 3106, 'kinderbetreuung': 3107, 'umziehen': 3108, 'anfragen': 3109, 'gemeinderat': 3110, 'ehrliche': 3111, 'klarheit': 3112, 'transparenz': 3113, 'sexi': 3114, 'flotter': 3115, 'dreier': 3116, 'textvergessen': 3117, 'organspender': 3118, 'falle': 3119, 'ablebens': 3120, 'heike': 3121, 'gassmann': 3122, 'thunberg': 3123, 'diskutierst': 3124, 'gewinnt': 3125, 'madcapkostia': 3126, 'winstspencer2': 3127, 'dung': 3128, 'spfugang': 3129, 'tantetictac': 3130, 'rehe': 3131, 'dystopische': 3132, 'hundesoehne': 3133, 'thefabohd': 3134, 'draufklatschen': 3135, 'saltyironflower': 3136, 'uebernimmt': 3137, 'klischkoe': 3138, 'staerkeren': 3139, 'ansicht': 3140, 'juenger': 3141, 'bagge': 3142, 'eliter': 3143, 'domm': 3144, 'lukede': 3145, 'ypda': 3146, 'kiche': 3147, 'raunigmichael': 3148, 'scheisst': 3149, 'verschwoerung': 3150, 'ibiza': 3151, 'errol': 3152, 'verkoerperung': 3153, 'persoenlichkeit': 3154, 'abgebrannt': 3155, 'beharrlich': 3156, 'verheiratete': 3157, 'tunesier': 3158, 'muetze': 3159, 'abzune': 3160, 'derherrschulz': 3161, 'neoliberale': 3162, 'autoritaere': 3163, 'rassismusgetriebene': 3164, 'staatsumbau': 3165, 'lenkt': 3166, 'lovelisa18x': 3167, 'liebt': 3168, 'schwaenze': 3169, 'stecken': 3170, 'koenntest': 3171, 'lemurian1897': 3172, 'krustytheboss': 3173, 'stefans56831841': 3174, 'linksgruenes': 3175, 'ryuuly': 3176, 'goethe': 3177, 'animal': 3178, 'crossing': 3179, 'really': 3180, 'mediarings': 3181, 'dean': 3182, 'stua': 3183, 'illustrations': 3184, 'dirk': 3185, 'petzold': 3186, 'productdesign': 3187, 'designthinking': 3188, 'designinspiration': 3189, 'graphic': 3190, 'aerith': 3191, 'vergeblich': 3192, 'vincent': 3193, 'valentines': 3194, 'reitbares': 3195, 'liiamichel': 3196, 'ahmadmansour': 3197, 'zugucken': 3198, 'verweige': 3199, 'kommunikation': 3200, 'fensterheber': 3201, 'laraistanbul': 3202, 'hipsterschlampe': 3203, 'anschwillt': 3204, 'gluten': 3205, 'isst': 3206, 'lovefefee': 3207, 'davor': 3208, 'schrecken': 3209, 'harmloser': 3210, 'vorbilder': 3211, 'user': 3212, '167067272': 3213, 'juso': 3214, 'radikal': 3215, 'tagtraeume': 3216, 'cloud': 3217, 'plays': 3218, 'rapid': 3219, 'chilljo1': 3220, 'ava': 3221, 'uff': 3222, 'patrickgensing': 3223, 'profil': 3224, 'dora': 3225, 'bromberger': 3226, 'sperrung': 3227, 'schwesteraccount': 3228, 'spon': 3229, 'regierungsmonitor': 3230, 'beliebter': 3231, 'schuetzen': 3232, 'johanna': 3233, 'auswandern': 3234, 'gzsz': 3235, 'afcajax': 3236, 'today': 3237, 'ing': 3238, 'xi': 3239, 'ajaxo19': 3240, 'reiziger': 3241, 'kasanwirjo': 3242, 'rensch': 3243, 'salah': 3244, 'eddine': 3245, 'taylor': 3246, 'llansana': 3247, 'hans': 3248, 'dominie': 3249, 'nationalisten': 3250, 'gepraegt': 3251, 'cornelianoack': 3252, 'schaeme': 3253, 'zutiefst': 3254, 'fremd': 3255, 'peaches1804': 3256, 'reich': 3257, 'leiten': 3258, 'pop': 3259, 'bethaeuser': 3260, 'kirchen': 3261, 'grolmori': 3262, 'gestampft': 3263, 'lyon': 3264, 'algerier': 3265, 'gestaendnis': 3266, 'naegeln': 3267, 'versehene': 3268, 'bombe': 3269, 'fussgaenger': 3270, 'einnisten': 3271, 'sozialsysteme': 3272, 'steuern': 3273, 'sozialabgaben': 3274, 'hbsche': 3275, 'gefesselte': 3276, 'oon': 3277, 'ralph': 3278, 'bremer': 3279, 'ehrlich': 3280, 'freiheitlich': 3281, 'nehmt': 3282, 'jasmin': 3283, 'pur': 3284, 'mr': 3285, 'empty': 3286, 'km': 3287, 'baehnk': 3288, 'bouncytitaction': 3289, 'fishnets': 3290, 'tenhagen': 3291, 'stromanbieter': 3292, 'afghane': 3293, 'tritten': 3294, 'gestorben': 3295, 'strafmass': 3296, 'fabianphx': 3297, 'gazighost': 3298, 'kimmichs': 3299, 'assist': 3300, 'fazos': 3301, 'shell': 3302, 'tops': 3303, 'ndaktuell': 3304, 'miserabel': 3305, 'loehne': 3306, 'jens': 3307, 'grey': 3308, 'anatomy': 3309, 'bbabyaleyna': 3310, 'aceofm': 3311, 'namelstprogramm': 3312, 'lassmichbitteee': 3313, 'wkeyen': 3314, 'hanvoi': 3315, 'bundesaufsicht': 3316, 'gestellt': 3317, 'braunen': 3318, 'aufgeraeumt': 3319, 'gehalten': 3320, 'tony': 3321, 'konnotation': 3322, 'hetzern': 3323, 'ruketsueki': 3324, 'madicegg': 3325, 'engstirniger': 3326, 'eurozentrismus': 3327, 'dunkles': 3328, 'mtg': 3329, 'arena': 3330, 'event': 3331, 'bilbuha': 3332, 'ir': 3333, 'faerbt': 3334, 'roht': 3335, 'verpeiltetomate': 3336, 'rausgeraeumt': 3337, 'wiegt': 3338, 'derriccardo': 3339, 'klauer': 3340, 'shahbabrarya': 3341, 'deins': 3342, 'noeu': 3343, 'nijazi': 3344, 'runtergeholt': 3345, 'leobietton': 3346, 'bahnhofbuffets': 3347, 'hatten': 3348, 'solothurn': 3349, '20h': 3350, 'voelkische': 3351, 'intelligenzallergiker': 3352, 'geoutet': 3353, 'casperxofficial': 3354, 'linksextremer': 3355, 'wirsindmehr': 3356, 'versaut': 3357, 'purnu': 3358, 'wnsche': 3359, 'www': 3360, 'erotik': 3361, 'arbeitsscheinwerfer': 3362, 'ly8012': 3363, '12v': 3364, '24v': 3365, 'eckig': 3366, 'new': 3367, 'lampen': 3368, 'beleuchtung': 3369, 'arbeitsscheinwe': 3370, 'zockt': 3371, 'wordpressdotcom': 3372, 'starr': 3373, 'blanke': 3374, 'aleska': 3375, 'diamond': 3376, 'dessous': 3377, 'erotische': 3378, 'vzvhds': 3379, 'nationalromantiker': 3380, 'didn': 3381, 'inhale': 3382, 'rechtsextremen': 3383, 'sozis': 3384, 'bedingungslose': 3385, 'willkommenpolitik': 3386, 'woll': 3387, 'praktizier': 3388, 'propagandageschwafel': 3389, 'europarl': 3390, 'vergiss': 3391, 'expat': 3392, 'waehlerverzeichnis': 3393, 'einzutragen': 3394, 'mpse': 3395, 'videis': 3396, 'pirno': 3397, 'ozraeliavi': 3398, 'because': 3399, 'told': 3400, 'zuckerberg': 3401, 'bineuerboss': 3402, 'mjungclaus': 3403, 'umweltschaender': 3404, 'beweis': 3405, 'billah': 3406, 'spaeter': 3407, 'likes': 3408, 'mond': 3409, 'daherreden': 3410, 'onryouyuurei': 3411, 'holdudieladio': 3412, 'autobauer': 3413, 'zensierung': 3414, 'eingeleitet': 3415, 'aba': 3416, 'iger': 3417, 'luegner': 3418, 'neider': 3419, 'komplexe': 3420, 'aryeshalicar': 3421, 'regierungen': 3422, 'ideel': 3423, 'finanziell': 3424, 'guenstlinge': 3425, 'hauf': 3426, 'einladen': 3427, 'rechens': 3428, 'ballern': 3429, 'pointen': 3430, 'moewennase': 3431, 'scharfen': 3432, 'skalpell': 3433, 'verunstalten': 3434, 'still': 3435, 'luuucaby': 3436, 'qualzucht': 3437, 'tiermediziner': 3438, 'milchkuehe': 3439, 'maximalen': 3440, 'rag': 3441, 'getrimmt': 3442, 'jezabiii': 3443, 'michaelagrasser': 3444, 'entspannter': 3445, 'feierabend': 3446, 'innenpolitik': 3447, 'souveraenen': 3448, 'landes': 3449, 'poli': 3450, 'glubb': 3451, 'maschinia2024': 3452, 'fcn': 3453, 'mathenia': 3454, 'kranzschwinger': 3455, 'tuerkinnen': 3456, 'araberinnen': 3457, 'aufbauten': 3458, 'nora50moya': 3459, 'karriere': 3460, 'soziai': 3461, 'rantingronja': 3462, 'agumon': 3463, 'lasse': 3464, 'bemerkenswe': 3465, 'vaterlandsverraeter': 3466, 'checkt': 3467, 'aufjedenfall': 3468, 'wahlbuero': 3469, 'laufen': 3470, 'empfaenger': 3471, 'weltspiegel': 3472, 'pelixulas': 3473, 'bokep': 3474, 'camillelothezh': 3475, 'goennst': 3476, 'deli': 3477, 'finds': 3478, 'kinda': 3479, 'verallgemeinern': 3480, 'verscheiede': 3481, 'herkommen': 3482, 'gewagten': 3483, 'abstoss': 3484, 'rummenigge': 3485, 'mittlere': 3486, 'stromkasteriks': 3487, 'geschlemme': 3488, 'kafeel': 3489, 'kafeer': 3490, 'kafir': 3491, 'mitzat': 3492, 'blackboxvs': 3493, 'leichtmatrosen': 3494, 'wasserschutzpolizei': 3495, 'angestrengt': 3496, 'landgewinne': 3497, 'bigfrager': 3498, 'prozentzahl': 3499, 'uebergriffe': 3500, 'liebevoll': 3501, 'mum': 3502, 'angesprochen': 3503, 'verharmlosen': 3504, 'nat': 3505, 'ak': 3506, 'hipp': 3507, '70y': 3508, 'juhuu': 3509, 'iht': 3510, 'lonelyumut': 3511, 'ironicguerreiro': 3512, '25m': 3513, 'demirbay': 3514, 'leverkusen': 3515, '28m': 3516, 'fluege': 3517, 'manila': 3518, 'september': 3519, 'oktober': 3520, '387': 3521, 'golinehatai': 3522, 'allererste': 3523, 'kennzeichnung': 3524, 'bewegung': 3525, 'asymmetrische': 3526, 'satiriker': 3527, 'schuster': 3528, 'leisten': 3529, 'furc': 3530, 'konflikt': 3531, 'zwingen': 3532, 'unehrenhaft': 3533, 'rikeraven': 3534, 'volksverpetzer': 3535, 'angrinsen': 3536, 'bildungs': 3537, 'verdummt': 3538, 'maulkorb': 3539, 'bundesjugendspiele': 3540, 'daemlichste': 3541, 'schullaufbahn': 3542, 'lowcarbrudi': 3543, 'rocken': 3544, 'mehikaner': 3545, 'diehumanisten': 3546, 'attacd': 3547, 'ranzmann': 3548, 'zerbrxsler': 3549, 'gprealomon': 3550, 'ardde': 3551, 'fachkundige': 3552, 'psychiaters': 3553, 'gedacht': 3554, 'indische': 3555, 'cognata': 3556, 'ttowie': 3557, 'deanfan123urban': 3558, 'hashtags': 3559, 'muten': 3560, 'moormoewe': 3561, 'make': 3562, 'morgens': 3563, 'drei': 3564, 'club': 3565, 'perfekt': 3566, 'peppermind': 3567, 'kater': 3568, 'strecken': 3569, 'badrepuwhy': 3570, 'grundrente': 3571, 'faulenzer': 3572, 'weswegen': 3573, 'dietagespost': 3574, 'national': 3575, 'glueckskeks': 3576, 'fabrik': 3577, 'titeln': 3578, 'hwsq': 3579, 'gronkh': 3580, 'blondine': 3581, 'virgin': 3582, 'kippo2o': 3583, 'nintendo': 3584, 'bimbas': 3585, 'world': 3586, 'desaster': 3587, 'chefin': 3588, 'pflegesystem': 3589, 'gepumpt': 3590, 'berichte': 3591, 'missstaende': 3592, 'heimen': 3593, 'ebben': 3594, 'sozialistin': 3595, 'angeschlagen': 3596, 'aktuell': 3597, 'versammelt': 3598, 'du0105': 3599, 'bundestagsabgeordneter': 3600, 'mehreren': 3601, 'tageszeitungen': 3602, 'bekommt': 3603, 'leer': 3604, 'ausgegangen': 3605, 'ultras': 3606, 'digitec': 3607, 'ipads': 3608, 'rajan87': 3609, 'meins': 3610, 'eingereusch': 3611, 'bbyfrkmcgzx': 3612, 'grknzrstrr': 3613, 'zock': 3614, 'linux': 3615, 'empfindliche': 3616, 'schlimm': 3617, 'empfinden': 3618, 'herzblutbluete': 3619, 'herzen': 3620, 'seele': 3621, 'enricotokareu': 3622, 'nazispack': 3623, 'dera': 3624, '62': 3625, 'rohstoffbrief': 3626, 'fresnillo': 3627, 'silberproduzent': 3628, 'liefe': 3629, 'q1': 3630, 'zahlen': 3631, 'analysten': 3632, 'glau': 3633, 'scpaderborn07': 3634, 'titz': 3635, 'keentech': 3636, 'godcoder': 3637, 'inholubek3': 3638, 'over': 3639, 'immergeil82': 3640, 'lehrbuda': 3641, 'edreisvogt': 3642, 'moritur': 3643, 'ride': 3644, 'rauszuhauen': 3645, 'adhs': 3646, 'roman': 3647, 'hurenso': 3648, 'jeonpokpok': 3649, 'henlooooo': 3650, 'oomf': 3651, 'h3h3': 3652, 'derpsichologe': 3653, 'burhan': 3654, 'diggi': 3655, 'denkst': 3656, 'fasten': 3657, 'widerliche': 3658, 'verlogenheit': 3659, 'kippa': 3660, 'kameras': 3661, 'kevinneuwi': 3662, 'wen': 3663, 'abteil': 3664, 'bt': 3665, 'indampf': 3666, 'nanunan32440900': 3667, 'chinationalist9': 3668, 'diebe': 3669, 'haende': 3670, 'scheidung': 3671, 'fremdgehen': 3672, 'steinigung': 3673, 'hassrede': 3674, 'koepfen': 3675, 'homosex': 3676, 'davescustomxxx': 3677, 'heideenytes': 3678, 'bellainksclips': 3679, 'versohlt': 3680, 'flinten': 3681, 'uschi': 3682, 'rausschmeissen': 3683, 'vernuenftig': 3684, 'geregelt': 3685, 'traumatisch': 3686, 'empfundenen': 3687, 'erlebnis': 3688, 'berichtet': 3689, 'nachrichten': 3690, 'bezwecken': 3691, 'fahrschule': 3692, 'vernachlaessigt': 3693, 'theater': 3694, 'museumsdoerfer': 3695, 'fallenlassen': 3696, 'heisse': 3697, 'offel': 3698, 'sobal': 3699, 'sensusnoctis': 3700, 'lostboislim': 3701, 'fass': 3702, 'drippst': 3703, 'lovebeatshb': 3704, 'mimimimi': 3705, 'noafd': 3706, 'franz': 3707, 'salzmann': 3708, 'minister': 3709, 'benoetigt': 3710, 'schulabschluss': 3711, 'kermit': 3712, 'red': 3713, 'andy': 3714, 'heooo': 3715, 'torwa': 3716, 'offchem': 3717, 'linksfunk': 3718, 'rosamwolfgang': 3719, 'wesentlich': 3720, 'mitverursacht': 3721, 'oevp': 3722, 'alleinregie': 3723, 'lola': 3724, 'barista': 3725, 'okaaaay': 3726, 'trau': 3727, 'thcaltan': 3728, 'fauler': 3729, 'moni': 3730, 'hift': 3731, 'stief': 3732, 'enkel': 3733, 'wehnemann': 3734, 'verdoppelt': 3735, 'derzeitige': 3736, 'plata': 3737, 'plomo': 3738, 'banana': 3739, 'fishxx': 3740, 'helden': 3741, 'versteigern': 3742, 'getragenen': 3743, 'trikots': 3744, 'endphase': 3745, 'wahlkampfs': 3746, 'eroeffnet': 3747, 'ethopianm': 3748, 'kaufmannskrimis': 3749, 'kleinbuergerliche': 3750, 'imponiergehabe': 3751, 'triplepsn': 3752, 'honecker': 3753, 'mussolini': 3754, 'onkommd': 3755, 'people': 3756, 'abi2019': 3757, 'wisst': 3758, 'abi': 3759, 'weitergeht': 3760, 'oxensepp': 3761, 'katjakipping': 3762, 'katja': 3763, 'genauer': 3764, 'mwinteron': 3765, 'incl': 3766, 'teils': 3767, 'sog': 3768, 'opposition': 3769, 'geritten': 3770, 'ifo': 3771, 'mittelstandsbarometer': 3772, 'mittelstaendisches': 3773, 'geschaeftsklima': 3774, 'unterwerfung': 3775, 'dahlia': 3776, 'sky': 3777, 'fremden': 3778, 'grobe': 3779, 'rollenspiele': 3780, 'fantasy': 3781, 'domtendo': 3782, 'fixen': 3783, 'gebummst': 3784, 'gebunden': 3785, 'lukasderrapper': 3786, 'gewitter': 3787, 'benjamin': 3788, 'jessd': 3789, 'sssollte': 3790, 'tssservakis': 3791, 'sstzunge': 3792, 'sssehen': 3793, 'tststss': 3794, 'nutellaflxke': 3795, 'liebeskummer': 3796, 'drecksscheisse': 3797, 'gamergateblogde': 3798, 'krebsgeschwuer': 3799, 'mithilfe': 3800, 'ausbreitet': 3801, 'realshira': 3802, 'naschkatze86': 3803, 'paradoxe': 3804, 'gefrierbrand': 3805, 'holzeisenbahn': 3806, 'wahlpflichtfach': 3807, 'doppelhaushaelfe': 3808, 'selbsthilfegruppe': 3809, 'oekonazis': 3810, 'ionblackout': 3811, 'nomadex2': 3812, 'heftig': 3813, 'geschissen': 3814, 'allee': 3815, 'angelaulrichrbb': 3816, 'g5sahel': 3817, 'burkinafaso': 3818, 'mo': 3819, 'trombozytenspender': 3820, 'eintragen': 3821, 'dna': 3822, 'miiiaa': 3823, 'schoener': 3824, 'lu41598225': 3825, 'frontal21': 3826, 'eindeutiges': 3827, 'unterdrueckungsmerkmal': 3828, 'darstellt': 3829, 'timolamme': 3830, 'tribuene': 3831, 'ground': 3832, 'biermitdir': 3833, 'gamescom': 3834, 'jungfrauen': 3835, 'tuchel': 3836, 'schneiss': 3837, 'goet': 3838, 'nichtmehr': 3839, 'schimpf': 3840, 'bot': 3841, 'schnauze': 3842, 'amk': 3843, 'asiaticas': 3844, 'peludas': 3845, 'sauerwald': 3846, 'wahlergebnisse': 3847, 'minderheit': 3848, 'ministerin': 3849, 'hilflos': 3850, 'rekomen': 3851, 'username': 3852, 'cigsafterimsak': 3853, 'fatalitybaerlis': 3854, 'fladdermues': 3855, 'tibhubay': 3856, 'nanu': 3857, 'linker': 3858, 'antifant': 3859, 'vorstellig': 3860, 'panisch': 3861, 'ta': 3862, 'fakuum': 3863, 'geduldeten': 3864, 'muessten': 3865, 'urspruenglichen': 3866, 'grundwe': 3867, 'zurueckkehren': 3868, 'pisser': 3869, 'interagie': 3870, 'poste': 3871, 'gekonnt': 3872, 'ignorie': 3873, 'mandeln': 3874, 'giorap90': 3875, 'herrentag': 3876, 'zelebrie': 3877, 'omavotze': 3878, 'peruanas': 3879, 'klimaforscher': 3880, 'ottmar': 3881, 'edenhofer': 3882, 'pik': 3883, 'emissionen': 3884, 'konkurrent': 3885, 'kaeme': 3886, 'pavle': 3887, 'toastermatthi': 3888, 'wineslvt': 3889, 'zaubermaus57': 3890, 'warnt': 3891, 'gemaessigten': 3892, 'ofdarkhumor': 3893, 'ostirboeck': 3894, 'wie': 3895, 'einschraenken': 3896, 'realherrsammy': 3897, 'mk': 3898, 'hosting': 3899, '1x': 3900, 'rootserver': 3901, 'kerne': 3902, 'ram': 3903, 'hdd': 3904, 'festplatten': 3905, 'speicher': 3906, 'laufzeit': 3907, 'marleneschfer1': 3908, 'sorgen': 3909, 'ordnung': 3910, 'vegane': 3911, 'humor': 3912, 'satan': 3913, 'dominakristin': 3914, 'zofe': 3915, 'nylonkittel': 3916, 'schlaegen': 3917, 'bewirkt': 3918, 'erstaunliche': 3919, 'brav': 3920, 'l800mph': 3921, 'flagged': 3922, 'kushner': 3923, 'money': 3924, 'laundering': 3925, 'bstarkimarm': 3926, 'putzig': 3927, 'bundesfrauenrat': 3928, 'froschdomse': 3929, 'liegen': 3930, 'sprach': 3931, 'bundeswehrinfo': 3932, 'kristin': 3933, 'brinker': 3934, 'altar': 3935, 'kurzfristiger': 3936, 'waehlerstimmen': 3937, 'geopfe': 3938, 'starkeschulden': 3939, 'orenishikiddo': 3940, 'profraika': 3941, 'sage': 3942, 'irren': 3943, 'nege': 3944, 'ninal1999': 3945, 'beklatscht': 3946, 'alumni': 3947, 'association': 3948, 'bedankte': 3949, 'umjubelten': 3950, 'nu': 3951, 'hagen': 3952, 'rether': 3953, 'unterzahl': 3954, 'mbu1959': 3955, 'hassprediger': 3956, 'spitze': 3957, 'fussvolk': 3958, 'stimmvieh': 3959, 'verhetzen': 3960, 'maulwerker1': 3961, 'netreaper': 3962, 'miatamuc': 3963, 'gaaarrrrnix': 3964, 'iparaadox': 3965, 'innenminister': 3966, 'matteo': 3967, 'stoeraktion': 3968, 'wahlkampf': 3969, 'faxen': 3970, 'demonstra': 3971, 'tuncayoezdamar': 3972, 'regulierung': 3973, 'meinungsaeusserungen': 3974, 'irgendwoher': 3975, '333goltz': 3976, 'auffaellig': 3977, 'gruppen': 3978, 'raf': 3979, 'morde': 3980, 'brandstiftungen': 3981, 'haraldlaatsch': 3982, 'verspricht': 3983, 'freudiger': 3984, 'verursacht': 3985, 'dutzende': 3986, '100e': 3987, 'lpsebo': 3988, 'haahahaha': 3989, 'cueueueueues': 3990, 'dokkan': 3991, 'phy': 3992, 'sv': 3993, 'maternus': 3994, 'werfe': 3995, 'claque': 3996, 'fanatische': 3997, 'unverschaemte': 3998, 'mig': 3999, 'zuruecktritt': 4000, 'islamisches': 4001, 'auswande': 4002, 'freigang': 4003, 'eventyrj': 4004, 'einladung': 4005, 'alten': 4006, 'fdj': 4007, 'fuchtel': 4008, 'schaedlichsten': 4009, 'radtour': 4010, 'eisbecher': 4011, 'mitesser': 4012, 'ihelzer': 4013, 'mehlprinzessin': 4014, 'thema': 4015, 'sexualisie': 4016, 'tinder': 4017, 'useful': 4018, 'frag': 4019, 'plaene': 4020, 'taugen': 4021, 'zuerst': 4022, 'patriarchat': 4023, 'rollenbilder': 4024, 'ebenfalls': 4025, 'monitorex': 4026, 'maximariegoldt': 4027, 'kollektiv': 4028, 'herbeiredete': 4029, 'bewege': 4030, 'bigfoot': 4031, 'amkrpinfo': 4032, 'fav': 4033, 'retweete': 4034, 'laufgruppen': 4035, 'entgegen': 4036, 'christianhelms': 4037, 'aufgabe': 4038, 'erledigt': 4039, 'bub': 4040, 'reingeraten': 4041, 'bigdaddytom143': 4042, 'vor8vie': 4043, 'jaa': 4044, 'personen': 4045, 'kdrama': 4046, 'person': 4047, 'mg': 4048, 'pikachumagbier': 4049, 'annalist': 4050, 'diente': 4051, 'verdeutlichung': 4052, 'sorgearbeit': 4053, 'mitgezaehlt': 4054, 'christophaviv': 4055, 'beyenburgerin': 4056, 'irenekellner': 4057, 'saefken': 4058, 'charlottemacht': 4059, 'heutejournal': 4060, 'vanessavu': 4061, 'seifenkistenrennen': 4062, 'absagen': 4063, 'kin': 4064, 'wissen': 4065, 'welterbe': 4066, 'selous': 4067, 'reservat': 4068, '1500': 4069, 'quadratkilometer': 4070, 'abgeholzt': 4071, 'mehrere': 4072, 'nationalparks': 4073, 'rei': 4074, 'joleffers': 4075, 'badehose': 4076, '112': 4077, 'eroeffnete': 4078, 'strandbad': 4079, 'wannsee': 4080, 'einestages': 4081, 'archiv': 4082, 'andreasandy3131': 4083, 'schwaecher': 4084, 'dastehen': 4085, 'leh': 4086, 'aufregung': 4087, 'konseq': 4088, 'vorgehen': 4089, 'barbara': 4090, 'schoeneurgghhh': 4091, 'fml': 4092, 'verblasste': 4093, 'merle': 4094, 'edgy': 4095, 'sahne': 4096, 'wtrappmann': 4097, 'journalist': 4098, 'venezuelanischen': 4099, 'knst': 4100, 'sass': 4101, 'omarhedeya': 4102, 'bo30': 4103, 'opfermythos': 4104, 'alliie': 4105, 'tantepiep': 4106, 'bring': 4107, 'hamburg': 4108, 'verpisst': 4109, 'keine': 4110, 'lol': 4111, 'tabatabayi': 4112, 'capyossarian': 4113, 'verfassungschutz': 4114, 'inlandsgeheimdienst': 4115, 'waf': 4116, 'florian161': 4117, 'lifehack': 4118, 'reconquistainternet': 4119, 'gebtname': 4120, 'hinschmeisst': 4121, 'aufgibst': 4122, 'chrisvelten1': 4123, 'bereichernde': 4124, 'imponieren': 4125, 'leb': 4126, 'gelebt': 4127, 'nerdanziehung': 4128, 'df': 4129, 'parallel': 4130, 'letztwaehlern': 4131, 'letztgewaehlte': 4132, 'tommycassells': 4133, 'niger': 4134, 'instabilitaet': 4135, 'giesskannenprinzip': 4136, 'steuerg': 4137, 'locker': 4138, 'regel': 4139, 'abiklasse': 4140, 'pruegeln': 4141, 'huuuuuunte': 4142, 'pablaer': 4143, 'vollstrecker': 4144, 'juviatears': 4145, 'zahls': 4146, 'einf': 4147, 'dfakenews1': 4148, 'rauhnacht': 4149, 'stellst': 4150, 'ungesunde': 4151, 'miley': 4152, 'cyrus': 4153, 'prognosen': 4154, '78warschoen': 4155, 'fckoeln': 4156, 'horn': 4157, 'ausfaellt': 4158, 'missschmaguelze': 4159, 'who': 4160, 'annett': 4161, 'abballern': 4162, 'rhythm': 4163, 'rhymes': 4164, 'boot': 4165, 'splitternackt': 4166, 'streaming': 4167, 'gripskrams': 4168, 'leogfischer': 4169, 'meidoragon': 4170, 'verfliegt': 4171, 'echsenkrafthaus': 4172, 'opas': 4173, 'toechter': 4174, 'ehemaenner': 4175, 'chokemeat6am': 4176, 'gelogen': 4177, 'versenkung': 4178, 'verschwindet': 4179, 'volksfest': 4180, 'schlossgrabenhock': 4181, 'ehrenkirchen': 4182, 'kirchhofen': 4183, 'messerangriff': 4184, 'unzaehligen': 4185, 'diesbezueglich': 4186, 'franzosen': 4187, 'tschechen': 4188, 'entso': 4189, 'muestras': 4190, 'brste': 4191, 'zorras': 4192, 'maduras': 4193, 'kamuezue': 4194, 'naechste': 4195, 'erstw': 4196, 'liz': 4197, 'rathaus': 4198, 'srwle19': 4199, 'schnurri': 4200, 'rumhaenge': 4201, 'bundesdeutsche': 4202, 'geheimwaffe': 4203, 'allahkultus': 4204, 'niewiedercducsuspdgruenefdplinke': 4205, 'parkplaetze': 4206, 'uebelsten': 4207, 'herbeigefueh': 4208, 'staatsstreich': 4209, 'aussieguylive': 4210, 'josiejobee': 4211, 'sunnycanderson': 4212, 'femnationwatch': 4213, 'samanthaluvhe': 4214, 'wundereileen': 4215, 'mircow': 4216, 'nicihood': 4217, 'bleiberecht': 4218, 'hei': 4219, 'abschiebung': 4220, 'begreifen': 4221, 'glueckskekse1': 4222, 'alicanglobal': 4223, 'daenischer': 4224, 'abwehr': 4225, 'rasmus': 4226, 'marcfelixserrao': 4227, 'gluecklicherweise': 4228, 'libanon': 4229, 'jordanien': 4230, 'destabilisierung': 4231, 'fiomythoughts': 4232, 'glubscht': 4233, 'gei': 4234, 'afrika': 4235, 'weltweite': 4236, 'expansion': 4237, 'markushammer9': 4238, 'weis': 4239, 'bedeutet': 4240, 'zyklon': 4241, 'indien': 4242, 'huren': 4243, 'pube': 4244, 'ietende': 4245, 'julianabolika': 4246, 'zeh': 4247, 'gesplitte': 4248, 'sproede': 4249, 'blumi': 4250, 'patriots': 4251, 'menschaffe': 4252, 'sonnenklar': 4253, 'stur': 4254, 'wuerd': 4255, 'soleylifa': 4256, 'checker': 4257, 'mitmachkriterium': 4258, 'blablabla': 4259, 'aussenstehenden': 4260, 'betra': 4261, 'alterosa7': 4262, 'marcelsardo': 4263, 'propapanda666': 4264, 'endeffekt': 4265, 'uose': 4266, 'boom': 4267, 'dat': 4268, 'murksel': 4269, 'blassen': 4270, 'willi': 4271, 'thron': 4272, 'christianender': 4273, 'staatsangehoerigkeit': 4274, 'erworben': 4275, 'mus': 4276, 'mensworldzone': 4277, 'endet': 4278, 'block': 4279, 'psychbsc': 4280, 'fanvomscf': 4281, 'canstatt93': 4282, 'fcunion': 4283, 'absteigen': 4284, 'kohleausstieg': 4285, 'kohle': 4286, 'tweetet': 4287, 'wide': 4288, 'befreundet': 4289, 'fred': 4290, 'ahoi': 4291, 'gier': 4292, 'eichef': 4293, 'cornelia': 4294, 'cagol': 4295, 'welcome': 4296, 'euphorie': 4297, 'gaenzlich': 4298, 'belange': 4299, 'staatsbediensteten': 4300, 'gaby3101': 4301, 'behaupten': 4302, 'zugenommen': 4303, 'proviant': 4304, 'null': 4305, 'einziehen': 4306, 'traijan': 4307, 'misterlemonade': 4308, 'maudado': 4309, 'deutschlandvolt': 4310, 'immerh': 4311, 'struggeln': 4312, 'traue': 4313, 'jumpsuit': 4314, 'qwq': 4315, 'masken': 4316, 'gesaess': 4317, 'bauch': 4318, 'nsa': 4319, 'schlangen': 4320, 'sof': 4321, 'floooryy': 4322, 'xdeturns': 4323, 'myrahawo': 4324, 'kanack': 4325, 'mac': 4326, 'heiseonline': 4327, 'monate': 4328, 'kaufe': 4329, 'kolumbien': 4330, 'wahnsinnigen': 4331, 'landtag': 4332, 'gesetz': 4333, 'zugestimmt': 4334, 'ichbinschoener': 4335, 'pbreyer': 4336, 'szagunn': 4337, 'freigabe': 4338, 'justizsenator': 4339, 'bezirksbuergermeisterin': 4340, 'bagdadi': 4341, 'gehduschen69': 4342, 'boy': 4343, 'spitze19': 4344, 'namifay': 4345, 'nooirine': 4346, 'arschloche': 4347, 'offelfresser': 4348, 'thailand': 4349, 'cazuraa11': 4350, 'witz': 4351, 'no': 4352, 'hochprozentig': 4353, 'klamotten': 4354, 'laden': 4355, 'bedienen': 4356, 'blog': 4357, '2002': 4358, 'wende': 4359, 'vizekanzler': 4360, 'kimberlyhot4': 4361, 'double': 4362, 'penetration': 4363, 'gleichzeitig': 4364, 'bescheue': 4365, 'senat': 4366, 'zurueckkehrende': 4367, 'herbe': 4368, 'eingeladen': 4369, 'undankbares': 4370, 'inschulz': 4371, 'nah': 4372, 'nahestehen': 4373, 'vault': 4374, '999': 4375, 'namenskind': 4376, 'bettercallaxel': 4377, 'angegriffen': 4378, 'besserer': 4379, 'boi69': 4380, 'bearbeite': 4381, 'rekordergebnis': 4382, 'erzielen': 4383, 'wahlkampfplakaten': 4384, 'marieskyler13': 4385, 'kasperletheater': 4386, 'ztareid': 4387, 'multr4br41n': 4388, 'harit04': 4389, 'justin44243406': 4390, 'dermalteduerr': 4391, 'unterschiedmacher': 4392, 'teamquintus': 4393, 'verschwitzten': 4394, 'lendenschurz': 4395, 'dude': 4396, 'anzuzie': 4397, 'obijuankenobi6': 4398, 'reklamedame': 4399, 'hater': 4400, 'abstempeln': 4401, 'face': 4402, 'simyiscw': 4403, 'deepwaterblue': 4404, 'released': 4405, 'stabiles': 4406, 'downloaden': 4407, 'dieseroskar': 4408, 'unterdruecken': 4409, 'gezwungen': 4410, 'tja': 4411, 'unfaehig': 4412, 'indire': 4413, 'didinable': 4414, 'greeeengurl': 4415, 'ps': 4416, 'xbox': 4417, 'einlaeuten': 4418, 'freierfeie': 4419, 'itsaperoloclock': 4420, 'ourhood': 4421, 'lieblingsnachbar': 4422, 'geribarreti': 4423, 'rauchermuell': 4424, 'ordnungsgemaess': 4425, 'antiraucher': 4426, 'blackandwhitephotography': 4427, 'ungewohnt': 4428, 'old': 4429, 'grumpy': 4430, 'heidi': 4431, 'klum': 4432, 'peinlicher': 4433, 'gesamte': 4434, 'karpreturns': 4435, 'klingt': 4436, 'ulkig': 4437, 'legit': 4438, 'synchronsprecher': 4439, 'rucksaecke': 4440, 'pandas': 4441, 'lamas': 4442, 'abstehenden': 4443, 'beissender': 4444, 'hai': 4445, 'einzelfallinfos': 4446, 'verharmloser': 4447, 'religioesen': 4448, 'kopftuechern': 4449, 'ugugu': 4450, 'studie': 4451, 'unglaeubig': 4452, 'wahlresultate': 4453, 'ehemals': 4454, 'hochburgen': 4455, 'mittel': 4456, 'sueditalien': 4457, 'abgeraeumt': 4458, 'gliederschmerzen': 4459, 'vollhorst': 4460, 'erfunden': 4461, 'boxer': 4462, 'verde': 4463, 'chicodesnudo': 4464, 'bauer': 4465, 'vermummungsverbot': 4466, 'gilt': 4467, 'entlee': 4468, 'vogelbach': 4469, 'favorite': 4470, 'nachti': 4471, 'nani': 4472, 'ausch': 4473, 'segretaria': 4474, 'sklavin': 4475, 'disfosgen': 4476, 'umsetzung': 4477, 'marsch': 4478, 'totalitaeren': 4479, 'slake180': 4480, 'kafunow': 4481, 'zusammenbrechen': 4482, 'vorstellung': 4483, 'malaysia': 4484, 'muellhalde': 4485, 'tonnenweise': 4486, 'impo': 4487, 'ie': 4488, 'absender': 4489, 'abfa': 4490, 'danslesfiammes': 4491, 'erdnussbutter': 4492, 'kelbt': 4493, 'auristrahl': 4494, 'vestalentracht': 4495, 'einher': 4496, 'wirf': 4497, 'geflutet': 4498, 'ange': 4499, 'spielzeug': 4500, 'grobi': 4501, 'grobsen': 4502, 'chefs': 4503, 'lau': 4504, 'ergebnissen': 4505, 'absoluten': 4506, 'panikmodus': 4507, 'verbreiten': 4508, 'dummdreiste': 4509, 'po': 4510, 'kalorien': 4511, 'reinstopfen': 4512, 'ehliz': 4513, 'gersvk': 4514, 'eishockeywm': 4515, 'kifferbarbie': 4516, 'irgendein': 4517, 'maaaaamaaaaa': 4518, 'akebanbluepaw': 4519, 'verarsche': 4520, 'omapornos': 4521, 'krankenschwestern': 4522, 'redtobe': 4523, 'nutte': 4524, 'eiern': 4525, 'brudervom': 4526, 'fluechtling': 4527, 'wohnungen': 4528, 'campingplatz': 4529, 'ziemlichmuede': 4530, 'yess': 4531, 'fuehlt': 4532, 'powercell': 4533, 'sackt': 4534, 'positionieren': 4535, 'uhhhhhhh': 4536, 'vanishedleaf': 4537, 'kannst': 4538, 'teaser': 4539, 'richtet': 4540, 'flammenden': 4541, 'studenten': 4542, 'reisen': 4543, 'bekritteln': 4544, 'rudirocka': 4545, 'inazann': 4546, 'fehlen': 4547, 'oetzemir': 4548, 'oezekuz': 4549, 'barlay': 4550, 'chebli': 4551, 'fahimi': 4552, 'kuenast': 4553, 'schul': 4554, 'geisterradler': 4555, 'versorgungssicherheit': 4556, 'stromversorgung': 4557, 'buettel': 4558, 'systems': 4559, 'beamte': 4560, 'ueberbau': 4561, 'schuettel': 4562, 'normalisierungsarbeit': 4563, 'vereinfachen': 4564, 'spott': 4565, 'anwendet': 4566, 'tomgoerdy': 4567, 'bischte': 4568, 'grossmaeulig': 4569, 'angekuendigte': 4570, 'abstrafen': 4571, 'callmesmz': 4572, 'unterbelichtet': 4573, 'einfallen': 4574, 'einfachen': 4575, 'arb': 4576, 'mikotomunakata': 4577, 'chefkochroci': 4578, 'moviepilot': 4579, 'handsome': 4580, 'jack': 4581, 'collection': 4582, 'sale': 4583, 'steam': 4584, 'haet': 4585, 'blocken': 4586, 'vate': 4587, 'mali': 4588, 'hochburg': 4589, 'menschenschmuggler': 4590, 'ueberwacht': 4591, 'persoenlich': 4592, 'bevoelkerungsaustausch': 4593, 'susannchen01': 4594, 'komplementaerfarbe': 4595, 'erkrankung': 4596, 'placebo': 4597, 'schlucken': 4598, 'zeitmanagement': 4599, 'zerficke': 4600, 'huendin': 4601, 'koeter': 4602, 'momentsammlerin': 4603, 'ableismus': 4604, 'bundesamtfvs': 4605, 'veroeffentlicht': 4606, 'zahl': 4607, 'jetsetcata': 4608, 'chefket': 4609, 'saudi': 4610, 'arabien': 4611, 'schilder': 4612, 'pools': 4613, 'durchgestrichen': 4614, 'surprisedtodoku': 4615, 'veemo2k19': 4616, 'nite': 4617, 'optimized': 4618, 'tbh': 4619, 'pupnsfd': 4620, 'hmph': 4621, 'fine': 4622, 'netzentdecker': 4623, 'russiatoday': 4624, 'googleale': 4625, 'golem': 4626, 'flugtaxi': 4627, 'fuenfsitziger': 4628, 'lilium': 4629, 'jet': 4630, 'hebt': 4631, 'erstmals': 4632, 'elektroflieger': 4633, 'avalanchegerman': 4634, 'zecken': 4635, 'mennschenverachtend': 4636, 'beschweren': 4637, 'cdus': 4638, 'klimapolitik': 4639, 'iggerichte': 4640, 'zutaten': 4641, 'anfnger': 4642, 'home': 4643, 'mpg': 4644, 'ansonsten': 4645, 'tweety': 4646, 'dong': 4647, 'frohmann': 4648, 'hafentaenzerin': 4649, 'eimer': 4650, 'zeitung': 4651, 'janamll15178714': 4652, 'stalingrad': 4653, 'nowplaying': 4654, 'robin': 4655, 'speechless': 4656, 'erika': 4657, 'sirola': 4658, 'clean': 4659, 'ios': 4660, 'android': 4661, 'gustafgabel': 4662, 'nvidiageforcede': 4663, 'geiles': 4664, 'feiern': 4665, 'letztens': 4666, 'traditionell': 4667, 'verdacht': 4668, 'ruestungsindustrie': 4669, 'weils': 4670, 'lieblingsfarbe': 4671, 'gtzfrmming': 4672, 'witzig': 4673, 'untersagen': 4674, 'seinerzeit': 4675, 'pgdeutschland': 4676, 'drecksbayern': 4677, 'iven': 4678, 'axen': 4679, 'blitzschutz': 4680, 'gmbh': 4681, 'mitternacht': 4682, 'beschaeftigen': 4683, 'trans': 4684, 'here': 4685, 'are': 4686, 'asapfuro': 4687, 'fler': 4688, 'flowt': 4689, 'gaensehaut': 4690, 'christinabroth': 4691, 'graeben': 4692, 'organisiere': 4693, 'uebrigens': 4694, 'gesichtspunkten': 4695, 'purelove3103': 4696, 'sirkcaligo': 4697, 'holyprincessch1': 4698, 'bloecke': 4699, 'psychopathen': 4700, 'yagorljoozma': 4701, 'zeppelin': 4702, 'gegenstand': 4703, 'teilt': 4704, 'kauf': 4705, 'zeig': 4706, 'iiioritz': 4707, 'kamar2019': 4708, 'votestrache': 4709, 'seits': 4710, 'cafepress': 4711, 'commerce': 4712, 'verkaeufe': 4713, 'provisionen': 4714, 'pr': 4715, 'ziehe': 4716, 'cr7': 4717, 'dorabromberger': 4718, 'durch': 4719, 'kaschieren': 4720, 'massiv': 4721, 'aufwiegeln': 4722, 'furkan': 4723, 'ak3010': 4724, 'kinderfickerreligion': 4725, 'nnamrreherdna': 4726, 'saechsischer': 4727, 'verharmlost': 4728, 'saechsische': 4729, 'journ': 4730, 'vonbuehlau': 4731, 'zecke': 4732, 'nieder': 4733, 'sicherheitsluecken': 4734, 'onlinebank': 4735, 'finanzaufsicht': 4736, 'bafin': 4737, 'ryulayy': 4738, 'gelaufen': 4739, 'liebling': 4740, 'pornofilme': 4741, 'superior': 4742, 'moglie': 4743, 'erontmaloku': 4744, 'loredana': 4745, 'sterbe': 4746, 'verleiht': 4747, 'weiblichkeit': 4748, 'dennsiewissennichtwaspassie': 4749, 'faschistisch': 4750, 'eppelheim': 4751, 'frisoer': 4752, 'bitangei': 4753, 'kerokerodevito': 4754, 'hochmut': 4755, 'beschaemend': 4756, 'insb': 4757, 'ihrer': 4758, 'pabgee': 4759, '113': 4760, 'pofetisch': 4761, 'rubewaehrung': 4762, 'statistik': 4763, 'huepfen': 4764, 'nazinetzwerk': 4765, 'enttarnt': 4766, 'loswerden': 4767, 'clas': 4768, 'hannes': 4769, '98': 4770, 'warums': 4771, 'co2steu': 4772, 'claudiazettel': 4773, 'hofer': 4774, 'getauscht': 4775, 'weitermachen': 4776, 'zwunchen': 4777, 'sissil': 4778, '75': 4779, 'keineaggrosmehr': 4780, 'abwaegung': 4781, 'zb': 4782, 'impfpflicht': 4783, 'rivotrilmitstil': 4784, 'liga': 4785, 'del': 4786, 'aeh': 4787, 'elon': 4788, 'musks': 4789, 'vergesst': 4790, 'gesellschaften': 4791, 'mehrheit': 4792, 'seht': 4793, 'welc': 4794, 'bekaeme': 4795, 'pleonasmus': 4796, 'dopetobetattoo': 4797, 'offenen': 4798, 'sozialstaat': 4799, 'migraten': 4800, 'finanzieren': 4801, 'renten': 4802, 'sexvideo': 4803, 'bel': 4804, 'kompetenzwolf': 4805, 'brxkentears': 4806, 'scribatz': 4807, 'kevinbtw': 4808, 'simbabwe': 4809, 'porsches': 4810, 'unterhalte': 4811, 'freundinnen': 4812, 'oeffentlichkeit': 4813, 'kerle': 4814, 'hoerwe': 4815, 'reiben': 4816, 'asylunterkuenften': 4817, 'dummm': 4818, 'ausbuergern': 4819, 'bauen': 4820, 'funko': 4821, 'gundam': 4822, 'gf': 4823, 'kahrs': 4824, 'mazze791': 4825, 'neo': 4826, 'justskda': 4827, 'literally': 4828, 'getraenk': 4829, 'cola': 4830, 'bruderych': 4831, 'eliteuni': 4832, 'duepie': 4833, 'trum': 4834, 'koelnerpeter': 4835, 'ueberrollt': 4836, 'talkrunden': 4837, 'darueb': 4838, 'einheit': 4839, 'wahres': 4840, 'fuerchte': 4841, 'bereichen': 4842, 'schm': 4843, 'exotriox52415': 4844, 'raidr': 4845, 'fn': 4846, 'kek': 4847, 'skaltenbrunner': 4848, 'einziga': 4849, 'oest': 4850, 'angelobung': 4851, 'veranstalten': 4852, 'gelocke': 4853, 'poperze': 4854, 'juwelchen': 4855, 'schatzkaestleins': 4856, 'gehuldigt': 4857, 'platonstochter': 4858, 'wue': 4859, 'temberg': 4860, 'landeschef': 4861, 'trendet': 4862, 'jacobyjost': 4863, 'sinkenden': 4864, 'dampfer': 4865, 'werdenden': 4866, 'gewechs': 4867, 'manager': 4868, 'gruender': 4869, 'keilt': 4870, 'lustig': 4871, 'ignoranz': 4872, 'ggue': 4873, 'seitens': 4874, 'wo': 4875, 'telefonie': 4876, 'neuem': 4877, 'ukrainischen': 4878, 'igitt': 4879, 'ekliges': 4880, 'monats': 4881, 'scheine': 4882, 'umlauf': 4883, 'lachknaller': 4884, 'politikerin': 4885, 'goebbels': 4886, 'ziat': 4887, 'tabui': 4888, 'hhavink62': 4889, 'memetohneh': 4890, 'heulst': 4891, 'ramadans': 4892, 'belei': 4893, 'aender': 4894, 'destination': 4895, 'citizen': 4896, 'kane': 4897, 'bereich': 4898, 'toten': 4899, 'verschleisst': 4900, 'alexlntc': 4901, 'toilette': 4902, 'howie': 4903, 'official': 4904, 'ersma': 4905, 'heavenlyuri': 4906, 'schneeridara': 4907, 'soass': 4908, 'verdorben': 4909, 'spaesse': 4910, 'amri': 4911, 'fatalen': 4912, 'myers': 4913, 'mcote': 4914, 'paulieesther1': 4915, 'deadbybhvr': 4916, 'lmclean': 4917, 'patricia': 4918, 'queen': 4919, 'lukifuttrader': 4920, 'fynnfut': 4921, 'taktische': 4922, 'meisterleistung': 4923, 'disasterclass': 4924, 'barca': 4925, 'ba': 4926, 'bodenfahrzeug': 4927, 'beschaedigt': 4928, 'regierungsmaschine': 4929, 'toni62574625': 4930, 'erfolgslose': 4931, 'kloeckner': 4932, 'turgayardahanli': 4933, 'albundy': 4934, 'babys': 4935, 'hinrichten': 4936, 'vergewaltigen': 4937, 'famous': 4938, 'blubb': 4939, 'unpassend': 4940, 'we3lash': 4941, 'heulend': 4942, 'rausgerannt': 4943, 'byebye': 4944, 'filmte': 4945, 'aufdeckte': 4946, 'moscheen': 4947, 'gehetzt': 4948, 'kysoltix': 4949, '200iq': 4950, 'darkskin': 4951, 'men': 4952, 'verpiss': 4953, 'jazellah': 4954, 'koerper': 4955, 'incel': 4956, 'apatzwahl': 4957, 'wahrheiten': 4958, 'fpoeblockwa': 4959, 'leokohlbauer': 4960, 'leo': 4961, 'sweetdiamond': 4962, 'gigi': 4963, 'deppe': 4964, 'ausgestiegen': 4965, 'verpasst': 4966, 'eygulli': 4967, 'hydraor': 4968, 'leonard07226586': 4969, 'haesslicher': 4970, 'hahahahah': 4971, 'hanseat1966': 4972, 'verbracht': 4973, 'vernachlaessig': 4974, 'singleboerse': 4975, 'pat': 4976, 'hoechst': 4977, 'croix': 4978, 'nord': 4979, 'glueckes': 4980, 'schmied': 4981, 'hammer': 4982, 'gywermelanie': 4983, 'parkbank': 4984, 'verliebt': 4985, 'tiny60s': 4986, 'hanyuuvent': 4987, 'orange': 4988, 'schnieke': 4989, 'orf': 4990, 'schuettelt': 4991, 'berueh': 4992, 'densotm': 4993, 'maybach': 4994, 'ron': 4995, 'dduric': 4996, 'nuecht': 4997, 'divinity': 4998, 'ego': 4999, 'draconis': 5000, 'duemmsten': 5001, 'amatre': 5002, 'suche': 5003, 'erotikmassage': 5004, 'emo': 5005, 'nenas': 5006, 'pissende': 5007, 'einkauf': 5008, 'russiagoto': 5009, 'beeinflussen': 5010, 'edward': 5011, 'ussi': 5012, 'ausgrenzung': 5013, 'verir': 5014, 'zugehoerigkeit': 5015, 'vers': 5016, 'sonst': 5017, 'geschlechtergetrennte': 5018, 'lenasnape2': 5019, 'abfuckt': 5020, 'noice': 5021, 'gaumen': 5022, 'douglas': 5023, 'stinkt': 5024, 'huhuhuee': 5025, 'unveil': 5026, 'mara': 5027, 'donner10': 5028, 'angeliciuv': 5029, 'luegt': 5030, '85': 5031, 'rueberkommt': 5032, 'derfuetsch': 5033, 'lotion': 5034, 'creme': 5035, 'sollst': 5036, 'hufeisen': 5037, 'rekordspende': 5038, 'erklaerungsnot': 5039, 'suedwestmetall': 5040, 'klimasekte': 5041, 'erwachsene': 5042, 'kleinkinder': 5043, 'auffuehren': 5044, 'grasimar': 5045, 'schafdas': 5046, 'msp': 5047, 'pictures': 5048, 'wengier': 5049, 'unglueck': 5050, 'jarvis1187': 5051, 'angeboren': 5052, 'religi': 5053, 'heinzsc51846951': 5054, 'croqisunshine': 5055, 'vasall': 5056, 'haldenwang': 5057, 'verstaerkten': 5058, 'rechtsextremi': 5059, 'antisemitismus': 5060, 'jude': 5061, 'kimmich': 5062, 'wrld': 5063, 'wolltest': 5064, 'merke': 5065, 'milchmitzucker': 5066, 'c3llofrau': 5067, 'heilt': 5068, 'schiebt': 5069, 'cam': 5070, 'elektrogeraete': 5071, 'talksh': 5072, 'analyse': 5073, 'infineon': 5074, 'technologies': 5075, 'kursrutsch': 5076, 'aufwae': 5077, 'strend': 5078, 'monte': 5079, 'beleidige': 5080, 'zulassen': 5081, 'rechtspopulismus': 5082, 'staerker': 5083, 'lehrerin': 5084, 'xnxxx': 5085, 'tuesmavieg': 5086, 'body': 5087, 'end': 5088, 'zyendra1': 5089, 'khinnek': 5090, 'edelnickel': 5091, 'kinderlose': 5092, 'haett': 5093, 'absage': 5094, 'eismelone': 5095, 'jaehriges': 5096, 'veeenox': 5097, 'scumpofoptic88': 5098, 'unfruchtbares': 5099, 'streitgespraech': 5100, 'sektenstil': 5101, 'enmachuk': 5102, 'gittern': 5103, 'dauern': 5104, 'garooozis': 5105, 'goataiga': 5106, 'bbbbuddha': 5107, 'rrxsky': 5108, 'reselation': 5109, 'aufreizen': 5110, '0siegfried': 5111, 'hofieren': 5112, 'maulkoerbe': 5113, 'verordnen': 5114, 'lyrics': 5115, 'ick': 5116, 'versteh': 5117, 'geraeuschen': 5118, 'schaedlingen': 5119, 'hendricus56': 5120, 'bear': 5121, 'greeter': 5122, 'drguidoknapp': 5123, 'mindestlohn': 5124, 'buecken': 5125, 'helalbeauty': 5126, 'hochamt': 5127, 'erbauung': 5128, 'hirnlosen': 5129, 'potential': 5130, 'anziehen': 5131, 'afdimbundestag': 5132, 'turkogermane': 5133, 'detlefstoldt': 5134, 'genderklo': 5135, 'lesbischen': 5136, 'angelamerkel': 5137, 'harvarduniversity': 5138, 'finedilettante': 5139, 'tinido': 5140, 'juedischeonline': 5141, 'schatti030': 5142, 'kreditinstitut': 5143, 'deutschebank': 5144, 'globale': 5145, 'finanzkrise': 5146, 'sinofspeed': 5147, 'neulich': 5148, 'konrad': 5149, 'andenauer': 5150, 'fipsi': 5151, 'paule': 5152, 'champagnenihal': 5153, 'drogensachen': 5154, 'keske': 5155, 'yanimda': 5156, 'olsa': 5157, 'ederdim': 5158, 'journaliszt': 5159, 'verstehen': 5160, 'kreuzacht': 5161, 'bandidos': 5162, 'verschworenes': 5163, 'rechtsextremes': 5164, 'angetrunken': 5165, 'baut': 5166, 'umarmung': 5167, 'umarmt': 5168, 'erreiche': 5169, 'hausverwaltung': 5170, 'polit': 5171, 'junkie': 5172, 'saechsischen': 5173, 'justcumm': 5174, 'princess': 5175, 'tsnina': 5176, 'minipimmell': 5177, 'zeitfresser': 5178, 'nichtzahler': 5179, 'negativ': 5180, 'timewaster': 5181, 'matthiashauer': 5182, 'trete': 5183, 'carlderotter': 5184, 'aufgaben': 5185, 'englischunterricht': 5186, 'unueberlegt': 5187, 'vorallem': 5188, 'alexande': 5189, 'ill5': 5190, 'dragonball': 5191, 'dragonballz': 5192, 'philhackemann': 5193, 'schicksalswahl': 5194, 'dribbling': 5195, 'flankt': 5196, 'mueller': 5197, 'hintere': 5198, 'mittelfeld': 5199, 'ding': 5200, 'zielsicher': 5201, 'bumsen': 5202, 'lecke': 5203, 'geschwaetz': 5204, 'derzeroy': 5205, 'stadtbekannt': 5206, 'laeriaa': 5207, 'rr': 5208, 'umstaende': 5209, 'winkel': 5210, 'awuuu': 5211, 'silberner': 5212, 'everyone': 5213, 'ruft': 5214, 'realbrandiblack': 5215, 'huebscher': 5216, 'kompetenzsimba': 5217, 'unwissende': 5218, 'faule': 5219, 'pute': 5220, 'chrisepunkt': 5221, 'not1proud': 5222, 'peperarno': 5223, 'derdems': 5224, 'auszeiten': 5225, 'raeglicher': 5226, 'mobi': 5227, 'feslegen': 5228, 'frht2208': 5229, 'hoechsten': 5230, 'christlichen': 5231, 'karfreitsg': 5232, 'turbomyu': 5233, 'schweinekopf': 5234, 'parkplatz': 5235, 'reiche': 5236, 'massage': 5237, 'braeden': 5238, 'lemasters': 5239, 'braedenlemaster': 5240, 'nato': 5241, 'uno': 5242, 'winnetou': 5243, 'pjakobs': 5244, 'gen': 5245, 'isolieren': 5246, 'newscompact': 5247, 'thrvaim': 5248, 'obacht': 5249, 'fallen': 5250, 'antoniosv97': 5251, 'luisamneubauer': 5252, 'schulze': 5253, 'maximaler': 5254, 'ansagen': 5255, 'unerfuellte': 5256, 'zus': 5257, 'ugmads': 5258, 'lueftet': 5259, 'pikantes': 5260, 'geheimnis': 5261, 'katastrophe': 5262, 'polizistin': 5263, 'orgie': 5264, 'arschfick': 5265, 'tumblr': 5266, 'hausfrau': 5267, 'rapidshare': 5268, 'fachgerecht': 5269, 'verdreherei': 5270, 'dsm': 5271, 'nordkirche': 5272, 'container': 5273, 'kanada': 5274, 'jennywild996': 5275, 'setzen': 5276, 'nude': 5277, 'wild': 5278, 'findom': 5279, 'boobs': 5280, 'foerstercarlo': 5281, 'weglaufen': 5282, 'maori': 5283, 'geldbetrag': 5284, 'abgehoben': 5285, 'erzhngswndrlnd': 5286, 'antonkrell': 5287, 'zddk': 5288, 'abschiedsbesuch': 5289, 'obama': 5290, 'fro': 5291, 'endbossfight': 5292, 'heronooneneeds': 5293, 'mexify': 5294, 'mcky': 5295, 'mikamurstein': 5296, 'saulus': 5297, 'paulus': 5298, 'so1': 5299, 'aware': 5300, 'undso': 5301, 'stimmung': 5302, 'komischerweise': 5303, 'trzd': 5304, 'emmaohnenamen': 5305, 'wenden': 5306, 'waffenhandel': 5307, 'lobbyistin': 5308, 'steuerza': 5309, 'endgame': 5310, 'spoile': 5311, 'dontspoiltheendgame': 5312, 'werner': 5313, 'baumann': 5314, 'schaft': 5315, 'grotesk': 5316, 'abstuerzender': 5317, 'irene97652350': 5318, 'dir': 5319, 'predigen': 5320, 'champagner': 5321, 'saufen': 5322, 'bangros': 5323, 'prag': 5324, 'publik': 5325, 'phenome71810818': 5326, 'quietschenden': 5327, 'iq': 5328, 'stimulator': 5329, 'perfekte': 5330, 'kandidat': 5331, 'bundestagsvizepraesident': 5332, 'cr': 5333, 'wirkst': 5334, 'serioeser': 5335, 'fairdest': 5336, 'cloafleev1606': 5337, 'blizzardcseu': 5338, 'warcraft': 5339, 'anfangen': 5340, 'fehl': 5341, 'taylorlissi': 5342, 'durchschnittliche': 5343, 'umgaenglicher': 5344, 'beute': 5345, 'jungerecato': 5346, 'tol': 5347, 'eranten': 5348, 'hyperintellektuellen': 5349, 'fangt': 5350, 'musikinstrumente': 5351, 'zerschlagen': 5352, 'gaes': 5353, 'andreas69291642': 5354, 'hofstoetter': 5355, 'eddiedonovan': 5356, 'yazidis': 5357, 'konve': 5358, 'ieren': 5359, 'lebendig': 5360, 'kaefigen': 5361, 'verbrannt': 5362, '3000': 5363, 'vielweib': 5364, 'guckst': 5365, 'jawl': 5366, 'miriam': 5367, 'vollmer': 5368, '8xteilzeit': 5369, 'daudi': 5370, 'littlebinf': 5371, 'meist': 5372, 'grundschulalter': 5373, 'andrea': 5374, 'angeblich': 5375, 'fraktionsvorsitz': 5376, 'streitig': 5377, 'briten': 5378, 'schritt': 5379, 'einheimischen': 5380, 'todes': 5381, 'kuehnikev': 5382, 'euwahlen': 5383, 'tektonische': 5384, 'verschiebungen': 5385, 'ausgeloest': 5386, 'sieger': 5387, 'jungwaehl': 5388, 'unentschlossen': 5389, 'dauerapplaus': 5390, 'klimahuepfen': 5391, 'eingebuesst': 5392, 'netteliebe': 5393, 'revo13834527': 5394, 'andauernd': 5395, 'wahlzettel': 5396, 'bauergeorg6': 5397, 'weisshelme': 5398, 'zetteln': 5399, 'akira': 5400, '86': 5401, '74wonnie': 5402, 'wehe': 5403, 'belastbarkeit': 5404, 'son': 5405, 'gitarre159': 5406, 'luna1234luna1': 5407, 'haetten': 5408, 'weder': 5409, 'erwaehnen': 5410, 'bruellbruell': 5411, 'ihnen': 5412, 'mikromobilitaet': 5413, 'scooter': 5414, 'tel': 5415, 'avi': 5416, 'staedte': 5417, 'zukommt': 5418, 'atzenantifa': 5419, 'brillen': 5420, 'kellerfreak': 5421, 'mrsmarrypoppins': 5422, 'herrpantau': 5423, 'winzerin': 5424, 'flott': 5425, 'joanacotar': 5426, 'osteuropaeer': 5427, 'schulfreunde': 5428, 'fakefreunde': 5429, 'hoechste': 5430, 'rechtspopulisten': 5431, 'newromantiics': 5432, 'willsch': 5433, 'macha': 5434, 'hebbet': 5435, 'glaub': 5436, 'thegreathubini': 5437, 'iliiliiiili': 5438, 'haettet': 5439, 'dergleichen': 5440, 'padophilie': 5441, 'ivanrodionov': 5442, 'fleissiger': 5443, 'unbegabter': 5444, 'platzhalter': 5445, 'provisorisc': 5446, 'marcorouvoet': 5447, 'dha': 5448, 'softgels': 5449, 'jarrow': 5450, 'formulas': 5451, 'sachse02': 5452, 'misterlavender': 5453, 'gewissen': 5454, 'standards': 5455, 'rechtschreibung': 5456, 'grammatik': 5457, 'gorezilla360': 5458, 'graubaer1953': 5459, 'rechtsextremisten': 5460, 'gewaltorientie': 5461, 'innenministerium': 5462, 'alarm': 5463, 'ero692015': 5464, 'sailor': 5465, 'kamikatzerl': 5466, 'tentakelkaiser': 5467, 'hineinpruegeln': 5468, 'herausstreicheln': 5469, 'revo': 5470, 'hea': 5471, 'putscht': 5472, 'kuscht': 5473, 'autoplay': 5474, 'better': 5475, 'lovestory': 5476, 'then': 5477, 'twilight': 5478, 'hah': 5479, 'tschuues': 5480, 'meepmeep': 5481, 'knatterknabe': 5482, 'lillauch': 5483, 'kurzgefasst': 5484, 'heult': 5485, 'pfeil': 5486, 'kriege': 5487, 'meyer': 5488, 'laufstrecke': 5489, 'wagner': 5490, 'saubloed': 5491, 'mariafan812': 5492, 'wohlstandsverwahrlost': 5493, 'proletariat': 5494, 'sxmclk': 5495, 'markanter': 5496, 'hehe': 5497, 'mitbekommen': 5498, 'stromberg': 5499, 'billiger': 5500, 'abklatsch': 5501, 'office': 5502, 'pukhovka': 5503, 'alisffm': 5504, 'reinboth': 5505, 'neiodyn': 5506, 'zitatrecht': 5507, 'blackismyfavc': 5508, 'klapper': 5509, 'schrottplaetze': 5510, 'guenstiger': 5511, 'buchladen': 5512, 'raeucherstaebchen': 5513, 'animeep': 5514, 'shinobi': 5515, 'trainingsjacke': 5516, 'hintern': 5517, 'poppen': 5518, 'schlanke': 5519, 'walnusskipferl': 5520, 'sliden': 5521, 'cousine': 5522, 'dms': 5523, 'realdonaldtrump': 5524, 'amerikanischen': 5525, 'kriegstreiber': 5526, 'uebersaet': 5527, 'beiss': 5528, 'hal': 5529, 'wawnord': 5530, 'che': 5531, 'notte': 5532, 'called': 5533, 'kritische': 5534, 'kdf': 5535, 'st4zbl0od': 5536, 'solmecke': 5537, 'oupsi': 5538, 'ferraeterin': 5539, 'feige': 5540, 'ichnicht': 5541, 'wesen': 5542, 'genesen': 5543, 'weltrettungswahn': 5544, 'diesmal': 5545, 'lijusolid': 5546, 'meinten': 5547, 'aufschwingen': 5548, 'heuteplus': 5549, 'luegenmedienverdrossen': 5550, 'bestehen': 5551, 'fickst': 5552, 'eunionb': 5553, 'befremdlich': 5554, 'nationalen': 5555, 'sundayforfuture': 5556, 'dauerjubelmodus': 5557, 'europawah': 5558, 'mariaq549': 5559, 'gabrielzamora': 5560, 'stop': 5561, 'magnus01182053': 5562, 'ausgerechnet': 5563, 'jedem': 5564, 'volksverraeter': 5565, 'koeterklasse': 5566, 'helmut': 5567, 'schmitt': 5568, 'kinderzaenker1': 5569, 'energie': 5570, 'aemtern': 5571, 'immerhin': 5572, 'khmer': 5573, 'klimaleugner': 5574, 'klimafaschisten': 5575, 'okay': 5576, 'kurzes': 5577, 'gomd': 5578, 'tresoren': 5579, '3x': 5580, 'wm35': 5581, 'rey': 5582, 'gable': 5583, 'sheamus': 5584, 'tbg': 5585, 'ciampa': 5586, 'eyo': 5587, 'sebastianhe': 5588, 'geraltwitcher67': 5589, '303': 5590, 'schraege': 5591, 'geschichtsansicht': 5592, 'dwerkopp': 5593, 'autonome': 5594, 'linksbuendig': 5595, 'seenotrettung': 5596, 'erstermai': 5597, 'strassenbahn': 5598, 'janni2872': 5599, 'sinnbildlichen': 5600, 'nachher': 5601, 'beherzten': 5602, 'selbigen': 5603, 'pantherrhei': 5604, 'dolores': 5605, 'umbridge': 5606, 'ciabatta': 5607, 'juriamtresen': 5608, 'toxicsugga': 5609, 'jeansarsch': 5610, 'drueckt': 5611, 'brei': 5612, 'kontaktiere': 5613, 'abmelken': 5614, 'murmelmum': 5615, 'panemetc62': 5616, 'zdfneo': 5617, 'dokus': 5618, 'aufgestellt': 5619, 'grano': 5620, 'duro': 5621, 'pro7': 5622, 'privatsender': 5623, 'xzoddelx': 5624, 'timoreset': 5625, 'benktallmadge': 5626, 'hbrandstaetter': 5627, 'kurierat': 5628, 'babypause': 5629, 'bmeinl': 5630, 'emrich': 5631, '5933': 5632, 'rundfunkbeitrag': 5633, 'eispende': 5634, 'steuerlich': 5635, 'absetzen': 5636, '1207': 5637, 'lehmanowsky': 5638, 'wahlplakaten': 5639, 'vollendet': 5640, 'reif': 5641, 'ustralien': 5642, 'yungdsgnr': 5643, 'argumente': 5644, 'entgegenbringen': 5645, 'weisser': 5646, 'deen321xyz': 5647, 'freak': 5648, 'hope12086051': 5649, 'freches': 5650, 'weib2': 5651, 'geblockt': 5652, 'bad': 5653, 'volksmenge': 5654, 'wagt': 5655, 'oeffentliche': 5656, 'auftrit': 5657, 'gegenkampf': 5658, 'flengulu67': 5659, 'hakenkreuz': 5660, 'schmierereien': 5661, 'svenjaschulze68': 5662, 'garugaathereal': 5663, 'kittyvanwhiskas': 5664, 'victim': 5665, 'harzblume': 5666, 'werd': 5667, 'karma': 5668, 'evt': 5669, 'wiederrum': 5670, 'alwayssomewher4': 5671, 'afgveteran03': 5672, 'wahnsinn': 5673, 'rasenspiesser': 5674, 'liberale': 5675, 'ueberrascht': 5676, 'ordentlich': 5677, 'hatinjuce': 5678, 'prote': 5679, 'luetzowq': 5680, 'louiecrit': 5681, 'umut': 5682, 'landhaustussy': 5683, 'akademikern': 5684, 'facharbeitern': 5685, 'fachkrae': 5686, 'fabian': 5687, 'gabalier': 5688, 'gespiel': 5689, 'fratello': 5690, '2013': 5691, 'entreisst': 5692, 'generalsekretaer': 5693, 'groehe': 5694, 'fahne': 5695, 'hoshisato': 5696, 'halswirbel': 5697, 'auuuaaa': 5698, 'unreine': 5699, 'nervenwasser': 5700, 'dasdrittebein': 5701, 'heyhoheyyy': 5702, 'diktie': 5703, 'naemlic': 5704, 'verena': 5705, 'bahlsen': 5706, 'docboone71': 5707, 'umsetzbar': 5708, 'franksteinbach7': 5709, 'pest': 5710, 'lmaoskar': 5711, 'scralex1899': 5712, 'aids': 5713, 'gehasst': 5714, 'hintergehen': 5715, 'schliche': 5716, 'echtjetzt5': 5717, 'eiffelturm': 5718, 'shlomosapiens': 5719, 'echte': 5720, 'abarbeiten': 5721, 'tipp': 5722, 'beacon4711': 5723, 'zuzusehen': 5724, 'zaehne': 5725, 'unspo': 5726, 'liche': 5727, 'plug': 5728, 'anschliessend': 5729, 'noc': 5730, 'roger896': 5731, 'scheisze': 5732, 'tapeten': 5733, 'besali': 5734, 'naddl0r': 5735, 'endhaltestelle': 5736, 'versuchsweise': 5737, 'wahre': 5738, 'mdemanto': 5739, 'yuna': 5740, 'swimswamnews': 5741, 'jahrgangsmeisterschaften': 5742, 'tobehn': 5743, 'bestzeit': 5744, 'vbqn1': 5745, '1325leon': 5746, 'elvtejan': 5747, 'rqndomabc': 5748, 'skalter': 5749, 'skal': 5750, 'mic': 5751, 'nprncbl': 5752, 'beibootpetri03': 5753, 'eieiei': 5754, 'wiederhole': 5755, 'ungerne': 5756, 'mikemacapple': 5757, 'polizisten': 5758, 'polizeiwache': 5759, 'seelenverbrannt': 5760, 'salty': 5761, 'elli': 5762, 'abgefuckt': 5763, 'h3rzanh3rz': 5764, 'mystisch': 5765, 'besondere': 5766, 'klimafluechtlinge': 5767, 'begriffsklaerung': 5768, 'mallorca': 5769, 'frauenkrper': 5770, 'bae': 5771, 'mathegenies': 5772, 'gtr': 5773, 'anzug': 5774, '160': 5775, 'yoooo': 5776, 'unechtemax': 5777, 'mustixiii': 5778, '04': 5779, 'transe': 5780, 'penisbilder': 5781, '3some': 5782, 'thedouble6': 5783, 'msucrier': 5784, 'thenewlife31': 5785, 'schnurpsen': 5786, 'popcorns': 5787, 'alman': 5788, 'kruzifix': 5789, 'amtsstube': 5790, 'kultursymbol': 5791, 'politischer': 5792, 'sabine': 5793, 'danielkapp': 5794, 'arg': 5795, 'beunruhigend': 5796, 'armseliges': 5797, 'liebendes': 5798, '1938': 5799, 'gew': 5800, 'symbol': 5801, 'synonym': 5802, 'sgewandte': 5803, 'geworde': 5804, 'rattenlinie': 5805, 'flohen': 5806, 'suedamerika': 5807, 'argentinien': 5808, 'juan': 5809, 'albe': 5810, 'fam': 5811, 'wavvyboi': 5812, 'houelle': 5813, 'zeichen': 5814, 'nichtnilo': 5815, 'meld': 5816, 'fragte': 5817, 'mdr': 5818, 'san': 5819, 'ted': 5820, 'telefonumfrage': 5821, 'riefen': 5822, 'zuschau': 5823, 'denniskoch87': 5824, 'jezus': 5825, 'auferstanden': 5826, 'bl0ckversace': 5827, 'nike': 5828, 'serixuz': 5829, 'aso': 5830, 'aufgestanden': 5831, 'gonzos': 5832, 'sympathisieren': 5833, 'holzen': 5834, 'uralte': 5835, 'waelder': 5836, 'baeume': 5837, 'euberu': 5838, 'acuba': 5839, 'genehmige': 5840, 'abends': 5841, 'einen': 5842, 'fuenfe': 5843, 'eichiblubbbel': 5844, 'afpde': 5845, 'greenpeace': 5846, 'ladybitchray1': 5847, 'euch': 5848, 'betruegt': 5849, 'besoffen': 5850, 'najlepse': 5851, 'hotttt': 5852, 'justitz': 5853, 'eraser': 5854, 'org': 5855, 'luegenpack': 5856, 'verscheissern': 5857, 'realbuschkamel': 5858, 'intelligender': 5859, 'positiv': 5860, 'besetzten': 5861, 'themen': 5862, 'kindererzieh': 5863, 'funkhauszorra': 5864, 'politikstandard': 5865, 'einwanderungs': 5866, 'integrationsland': 5867, 'verbindet': 5868, 'fu': 5869, 'you': 5870, 'androidcentral': 5871, 'mate9': 5872, 'mate20x': 5873, 'geworden': 5874, 'seitdem': 5875, 'scuderi': 5876, 'espol': 5877, 'khentay': 5878, 'rusalochka': 5879, 'kaeffchen': 5880, 'reparieren': 5881, 'treff': 5882, 'schwarzeloewe': 5883, 'christoph': 5884, 'schwoer': 5885, 'allerbeste': 5886, 'friss': 5887, 'crunchy': 5888, 'nuts': 5889, 'sasiiii000': 5890, 'ahhh': 5891, 'xpandorya': 5892, 'fana': 5893, 'eosandy': 5894, 'iunahri': 5895, 'blabla': 5896, 'unterschiedlich': 5897, 'drop': 5898, 'temperatur': 5899, 'celsius': 5900, 'starlucycat': 5901, 'got': 5902, 'penis': 5903, 'halb': 5904, 'doppelte': 5905, 'heidiklum': 5906, 'vogelsabine': 5907, 'weidel': 5908, 'steinzeit': 5909, 'antwerpairpo': 5910, 'grove': 5911, 'schendng': 5912, 'skeyes': 5913, 'belgocontrol': 5914, 'rgls': 5915, '3257ft': 5916, 'snake': 5917, 'kaa': 5918, 'ploetzlich': 5919, 'russischer': 5920, 'kriegsgefange': 5921, 'indoktrinierung': 5922, 'unis': 5923, 'dauerwerbung': 5924, 'krstdt': 5925, 'schueler': 5926, 'uniformierung': 5927, 'gewe': 5928, 'maxheld': 5929, 'civey': 5930, 'umm': 5931, 'korrektes': 5932, 'bayesianisches': 5933, 'updating': 5934, 'dreccksack': 5935, 'stehst': 5936, 'kolben': 5937, 'herrlich': 5938, 'streamen': 5939, 'klopp': 5940, 'lfc': 5941, 'skt': 5942, 'johann': 5943, 'nodumballiance': 5944, 'flowerpowe': 5945, 'ric': 5946, 'kanzleramtsmann': 5947, 'andree': 5948, 'dominik': 5949, 'jfliegenschmidt': 5950, 'quazanga': 5951, 'schuessi': 5952, 'areimanios': 5953, 'mittwoch': 5954, 'briefwahl': 5955, 'linksfaschismus': 5956, 'marschie': 5957, 'brandgefaehrliche': 5958, 'stilisieren': 5959, 'dummdreist': 5960, 'gesinnung': 5961, 'baron': 5962, 'snoopy': 5963, 'verstehn': 5964, 'clevnestfn': 5965, 'beschaeftige': 5966, 'sinnvollem': 5967, 'borispalmer': 5968, 'intelligenteren': 5969, 'toxisch': 5970, 'wehgetan': 5971, 'bleibe': 5972, 'torstenbeeck': 5973, 'nationalhymne': 5974, 'bax': 5975, 'schulpflicht': 5976, 'heilig': 5977, 'saekulare': 5978, 'proletdo': 5979, '52': 5980, 'hoerder': 5981, 'neumarkt': 5982, 'do2505': 5983, 'nonazisdo': 5984, 'nonazis': 5985, 'huehner': 5986, 'hof': 5987, 'steuden': 5988, 'nudelkoenigin': 5989, 'sandra': 5990, 'nudelkoenigen': 5991, 'bo': 5992, 'moment': 5993, 'therocketbeans': 5994, 'waiputv': 5995, 'schwarzbild': 5996, '089': 5997, '32168': 5998, 'konservativen': 5999, 'cumkitten': 6000, 'faelle': 6001, 'p1nkl': 6002, 'f1': 6003, 'verstappen': 6004, 'sefi99': 6005, 'spasspa': 6006, 'satirepa': 6007, 'umzudenken': 6008, 'picturepunxx': 6009, 'strahl': 6010, 'orginal': 6011, 'baeder': 6012, 'ichalter': 6013, 'fuxking': 6014, 'xanax': 6015, 'ufxdl': 6016, 'politikstube': 6017, 'korny382': 6018, '19micha09': 6019, 'dachte': 6020, 'sacht': 6021, 'dasselbe': 6022, 'sammer': 6023, 'movie': 6024, 'deal': 6025, 'merida': 6026, 'highlands': 6027, 'itunes': 6028, 'tonspur': 6029, 'zeitgeschehen': 6030, 'press': 6031, 'play': 6032, 'milfs': 6033, 'nylons': 6034, 'ytalk': 6035, 'wichs': 6036, 'ulrabia': 6037, 'faekalgewitter': 6038, 'entsprechung': 6039, 'anglizismus': 6040, 'shitstorm': 6041, 'etablieren': 6042, 'ziel': 6043, 'thetickit': 6044, 'sonnensicht': 6045, 'inflationaer': 6046, 'gaehn': 6047, 'ide': 6048, 'stereotype': 6049, 'malen': 6050, 'know': 6051, 'rztin': 6052, 'orgien': 6053, 'kino': 6054, 'muschifotos': 6055, 'gedson': 6056, 'gelson': 6057, '59karli82': 6058, 'nicolabeerfdp': 6059, 'finanzminister': 6060, 'profitie': 6061, 'niedrigzinspolitik': 6062, 'chaoten': 6063, 'kuemmern': 6064, 'schlawiner8': 6065, 'meedia': 6066, 'nuetzlichen': 6067, 'eidiger': 6068, 'indianern': 6069, 'luchste': 6070, 'glasperlen': 6071, 'feuerwasser': 6072, 'humanitaer': 6073, 'lukkkkkkas': 6074, 'sashimi': 6075, 'chipundcharge': 6076, 'spektakulaerer': 6077, 'tiebreak': 6078, 'thiem': 6079, 'matchball': 6080, 'chanyeolbucky': 6081, 'wokeupcry1ng': 6082, 'juukichiix': 6083, 'uebelst': 6084, 'allaboutnext': 6085, 'dtrnsfrmtn': 6086, 'tierschutz': 6087, 'mitgliedsantrag': 6088, 'brettwelten': 6089, 'grinseschaf': 6090, 'gras': 6091, 'achsooo': 6092, 'captblwillard': 6093, 'politikverdrossenheit': 6094, 'neukoellner': 6095, 'innen': 6096, 'wohngeld': 6097, 'berlinpass': 6098, 'vorweisung': 6099, 'g4rl1n': 6100, 'reicher': 6101, 'eusebio': 6102, 'statik': 6103, 'fettleibig': 6104, 'groesse': 6105, '36': 6106, 'auc': 6107, 'pyramoscgn1': 6108, 'faste': 6109, 'straw': 6110, 'berry': 6111, 'wichtigtuer': 6112, 'halbblutjurist': 6113, 'bashing': 6114, 'ehrenmannerich': 6115, 'kocht': 6116, 'chilli': 6117, 'ketchup': 6118, 'oder': 6119, 'geldgierig': 6120, 'geringsten': 6121, 'tipps': 6122, 'immofux': 6123, 'hoteltagebuch': 6124, 'immorogers': 6125, 'makler1muenchen': 6126, 'ramathiasmuench': 6127, 'immovation': 6128, 'stadtvermieter': 6129, 'seriously': 6130, 'anxiety': 6131, 'kicken': 6132, 'high': 6133, 'farge': 6134, '41': 6135, '59': 6136, 'betriebliche': 6137, 'sey': 6138, 'prons': 6139, 'joujzz': 6140, 'nakte': 6141, 'vidios': 6142, 'faint': 6143, 'visions': 6144, 'live': 6145, 'erlebe': 6146, 'sitzplatzknigge': 6147, 'zug': 6148, 'sitzplatz': 6149, 'taschen': 6150, 'kei': 6151, 'somext': 6152, 'migrationspolitik': 6153, 'geforde': 6154, 'supergefaehrliche': 6155, 'kernkraft': 6156, 'gerettet': 6157, 'aerzte': 6158, 'baekaktuell': 6159, 'diskussionsbeitraege': 6160, 'urlaub': 6161, 'theologisches': 6162, 'erzeugt': 6163, 'geschichte': 6164, 'vorschein': 6165, 'sinnvoll': 6166, 'verbot': 6167, 'schwarzer': 6168, 'kleindungsstueck': 6169, 'namevergeben': 6170, 'lgbt': 6171, 'livbar': 6172, 'neuer': 6173, 'natalie': 6174, 'alba': 6175, 'pornstarscms': 6176, 'mehrkill': 6177, 'krimigranten': 6178, 'higgins': 6179, 'zaentschurie': 6180, 'decider': 6181, 'come': 6182, 'john': 6183, '147sf': 6184, 'ausgenutzt': 6185, 'pornoclips': 6186, 'sinnlicher': 6187, 'paralleluniversum': 6188, 'sylt': 6189, 'foto': 6190, 'solltest': 6191, 'beeilen': 6192, 'duscht': 6193, 'fruehstueck': 6194, 'liba443': 6195, 'verpasste': 6196, 'anrufe': 6197, 'mama': 6198, 'zuhause': 6199, 'frxnckisdead': 6200, 'makeup': 6201, 'traegst': 6202, 'schwul': 6203, 'mindset': 6204, 'tassenhalskette': 6205, 'meme': 6206, 'ungebildete': 6207, 'schulschwaenzer': 6208, 'schnauft': 6209, 'genervt': 6210, 'anrah83': 6211, 'wichtigste': 6212, 'sonstwo': 6213, 'dplautzi': 6214, 'fiqqqqqhure': 6215, 'akskshs': 6216, 'indiestrolche': 6217, 'indiearenabooth': 6218, 'stand': 6219, 'maskulin': 6220, 'iab': 6221, 'europarat': 6222, 'bundesaussenminister': 6223, 'ministe': 6224, 'reffen': 6225, 'europarats': 6226, 'helsink': 6227, 'allem': 6228, 'sprueche': 6229, 'bekannt': 6230, 'kittodario': 6231, 'stephan535': 6232, 'buje78': 6233, 'berxe': 6234, 'enes': 6235, 'gekuesst': 6236, 'lil': 6237, 'juri': 6238, 'besoffene': 6239, 'sklave': 6240, 'onlien': 6241, 'beeg': 6242, 'juegos': 6243, 'uebersetzen': 6244, 'mehrzahl': 6245, 'kommentare': 6246, 'zeitsparend': 6247, 'zusammenzufassen': 6248, 'bilgiliueretmen': 6249, 'sultan44613857': 6250, 'bilgili': 6251, 'wei': 6252, 'thez0ldyck': 6253, 'faito': 6254, 'volkswagen': 6255, 'laurent': 6256, 'janmod': 6257, 'elrobtossohn': 6258, 'gitarre3': 6259, 'luxiboxde': 6260, 'nutze': 6261, 'produzieren': 6262, 'rechtssta': 6263, 'sahur': 6264, 'schlafrhythmus': 6265, 'loay': 6266, 'mudhoon': 6267, 'raz': 6268, 'andres': 6269, 'christianruch': 6270, 'politifinnmark': 6271, 'eierdiebe': 6272, 'katarinabarley': 6273, 'udobullmann': 6274, 'dieu': 6275, 'playlist': 6276, 'annarosabrito': 6277, 'tue': 6278, 'politkaste': 6279, 'stampft': 6280, 'wut': 6281, 'dolle': 6282, 'seelennachtinfo': 6283, 'stripen': 6284, 'sexfilm': 6285, 'ltere': 6286, 'frauenpornos': 6287, 'scheinleben': 6288, 'mut': 6289, 'einredest': 6290, 'piss': 6291, 'schwein': 6292, 'vivian': 6293, 'geplatzt': 6294, 'pensi': 6295, 'wichsorgie': 6296, 'explodie': 6297, 'unterscheidet': 6298, 'zorn': 6299, 'hervorgerufen': 6300, 'lissy': 6301, 'extra': 6302, 'ni': 6303, 'archiphilologus': 6304, 'archi': 6305, 'such': 6306, 'most': 6307, 'privileged': 6308, 'shit': 6309, 'imarior': 6310, 'wahlborn': 6311, 'iknowreview': 6312, 'blackpantherrav': 6313, 'lemmystechkiste': 6314, 'image': 6315, 'solang': 6316, 'fruehzeitig': 6317, 'geruechten': 6318, 'machtwo': 6319, 'gipfelkanzlerin': 6320, 'hofreiter': 6321, 'schaeuble': 6322, 'scholz': 6323, 'telepolis': 6324, 'jesidinnen': 6325, 'unterwelt': 6326, 'kuschelt': 6327, 'blase': 6328, 'asoziale': 6329, 'nichtsnutzige': 6330, 'unterstue': 6331, 'massive': 6332, 'kohleabbau': 6333, 'armee': 6334, 'yout': 6335, 'wutuniverse': 6336, 'kuss': 6337, 'heldenwieich': 6338, 'mint': 6339, 'eliteland': 6340, 'schulsystem': 6341, 'theskender': 6342, 'uwe': 6343, 'mdl': 6344, 'diskutieren': 6345, 'denkbar': 6346, 'niewiedercdu': 6347, 'implizie': 6348, 'scharia': 6349, 'einzuschleichen': 6350, 'karlaknows': 6351, 'gesoffen': 6352, 'blau': 6353, 'ueberzeugung': 6354, 'uhl': 6355, 'edu': 6356, 'verdraengt': 6357, 'jk': 6358, 'hase': 6359, 'rauche': 6360, 'verglimmendes': 6361, 'anregende': 6362, 'verpackung': 6363, 'gesc': 6364, 'och': 6365, 'investeringsfirma': 6366, 'steekt': 6367, 'blockchain': 6368, 'bloxroute': 6369, 'postmichel1': 6370, 'halbswegs': 6371, 'ausgestatte': 6372, 'haustuer': 6373, 'votzen': 6374, 'bionde': 6375, 'kvinna': 6376, 'hopp': 6377, 'severinbrandis': 6378, 'invasoren': 6379, 'ahahahaaaa': 6380, 'zweitstaerkste': 6381, 'abe': 6382, 'blackyellowl0ve': 6383, 'letrabe': 6384, 'behaind': 6385, 'gebirgsjager1': 6386, 'fuehrung': 6387, 'ch': 6388, 'ungenie': 6389, 'weltoffene': 6390, 'mensche': 6391, 'weitkamp': 6392, 'alleingang': 6393, 'lehne': 6394, 'dur': 6395, 'music': 6396, 'einzuschlafen': 6397, 'ufdieblende': 6398, 'adaequate': 6399, 'entschaedigung': 6400, 'verrammeltes': 6401, 'findisch': 6402, 'fredericlebrun': 6403, 'osram': 6404, 'deckenleuchte': 6405, 'leuchte': 6406, 'ausse': 6407, 'meets': 6408, 'monitoring': 6409, 'criteria': 6410, 'fuenferpasch': 6411, 'existie': 6412, 'meinungsfreiheit': 6413, 'atemschutz': 6414, 'deo': 6415, 'parfuem': 6416, 'drin': 6417, 'thecat': 6418, '240x200': 6419, 'leinen': 6420, 'bettwaesche': 6421, 'buegeln': 6422, 'abzuziehen': 6423, 'drpeternagel': 6424, 'elementares': 6425, 'missverstaendnis': 6426, 'merz': 6427, 'mckstf': 6428, 'buerzl': 6429, 'bisherigen': 6430, 'fakts': 6431, 'fynn': 6432, 'gefragt': 6433, 'jan69161843': 6434, 'camanpour': 6435, 'berlusco': 6436, 'einschlafe': 6437, 'barkley': 6438, 'xavi': 6439, '223bpm': 6440, 'druckluft': 6441, 'floor': 6442, 'wenig': 6443, 'benedetusmc': 6444, 'freuts': 6445, 'kovac': 6446, 'rollex': 6447, 'kalle': 6448, 'abgezogen': 6449, 'gesundem': 6450, 'menschenverstand': 6451, 'ottensheim': 6452, 'schlierbach': 6453, 'uebersiedelt': 6454, 'beruflich': 6455, 'mytrans': 6456, 'formel': 6457, 'zaandvoo': 6458, 'ariiiish': 6459, 'blonder': 6460, 'spdde': 6461, 'coribuhh': 6462, 'abtreibungen': 6463, 'dran': 6464, 'paradies': 6465, 'roterpaenda': 6466, 'wuermer': 6467, 'monetas': 6468, 'geldherrin': 6469, 'mevsimherk': 6470, 'ahhaha': 6471, 'playing': 6472, 'aquagen': 6473, '2011': 6474, 'radio': 6475, 'edit': 6476, '6ponge': 6477, 'slipknot': 6478, 'oral': 6479, 'techische': 6480, 'bondage': 6481, 'weiterer': 6482, 'fahren': 6483, 'nebe': 6484, 'kleid': 6485, 'fixifoxy': 6486, 'juliepulie3': 6487, 'astriddorothea': 6488, 'kade': 6489, 'albanien': 6490, 'heinzschmidt41': 6491, 'u21': 6492, 'spielern': 6493, 'trainingslager': 6494, 'suedtirol': 6495, 'vorlaeufige': 6496, 'kader': 6497, 'olafolafson1': 6498, 'orita': 6499, 'bella': 6500, 'donna': 6501, 'teletubbies': 6502, 'titelmelodie': 6503, 'teamalessio': 6504, '70m': 6505, 'kami': 6506, 'keins': 6507, 'japan': 6508, 'birnendung': 6509, 'goku': 6510, 'switch': 6511, 'reaktion': 6512, 'haftbefehl': 6513, 'nennt': 6514, 'vergifte': 6515, 'verfickte': 6516, 'ungluecklich': 6517, 'drecksleben': 6518, 'zentralrat1': 6519, 'vergangenheit': 6520, 'ideologische': 6521, 'verblendung': 6522, 'sprachinkompetenz': 6523, 'arbeitsleben': 6524, 'asiaten': 6525, 'euphorisch': 6526, 'skeptisch': 6527, 'dreilaender': 6528, 'ohnenahme': 6529, 'nobby1949z': 6530, 'bullshitt': 6531, 'kimmathei': 6532, 'taddl': 6533, 'dummer': 6534, 'akenoad': 6535, 'bo3': 6536, 'lorde': 6537, 'sorrynotsorry': 6538, 'alpeninitiative': 6539, 'kapitalistische': 6540, 'warenwelt': 6541, 'verdreht': 6542, 'rennt': 6543, 'anlauf': 6544, 'nicolastransgay': 6545, 'zeugen': 6546, 'repeat': 6547, 'michaellehmann': 6548, 'elltra': 6549, 'ruecktritt': 6550, 'germanletsplay': 6551, 'rate': 6552, 'unitymedia': 6553, '5minuten': 6554, 'vielleicht': 6555, '20m': 6556, 'bit': 6557, 'erikwuensche': 6558, 'wundermittel': 6559, 'unserer': 6560, 'loese': 6561, 'peitelwein': 6562, 'noringerk': 6563, 'oesterreichische': 6564, 'gaebs': 6565, '4kolner': 6566, 'soisset': 6567, 'geholfen': 6568, 'verwunde': 6569, 'erneut': 6570, 'juedische': 6571, 'weltuebernahmewaffe': 6572, 'nwo': 6573, 'goyim': 6574, 'sklavenstaat': 6575, 'nacazafps': 6576, 'spoilerst': 6577, 'garnichts': 6578, 'fuckt': 6579, 'hardcore': 6580, 'damn': 6581, 'weeberwolfgang': 6582, 'chiquitaflanke': 6583, 'ahrens': 6584, 'marcofuchs74': 6585, 'thies': 6586, 'guek62': 6587, 'hildering': 6588, 'verderben': 6589, 'infiltration': 6590, 'katze': 6591, 'bett': 6592, 'heben': 6593, 'geschlafen': 6594, 'neothemarius': 6595, 'niemehrgruen': 6596, 'moderaten': 6597, 'unbequem': 6598, 'steck': 6599, 'ikea': 6600, 'hotdogs': 6601, 'katjarosch': 6602, 'patriziavdlahn': 6603, 'vorsitzende': 6604, 'jana': 6605, 'nachrichtenagentur': 6606, 'headlessdrowned': 6607, 'fpoefails': 6608, 'heimliches': 6609, 'vorbild': 6610, 'wegsperren': 6611, 'gell': 6612, 'decken': 6613, 'linksl': 6614, 'ihea': 6615, 'langwierig': 6616, 'dich': 6617, 'ugh': 6618, 'schreibfehler': 6619, 'brillant': 6620, 'englischen': 6621, 'brilliant': 6622, 'durchein': 6623, 'racconti': 6624, 'bellissime': 6625, 'pfefferminzboi': 6626, 'ehe': 6627, 'amateur': 6628, 'anziane': 6629, 'blenderbottle': 6630, 'whiskware': 6631, 'gostack': 6632, 'eisern': 6633, 'bog': 6634, 'reissen': 6635, 'tust': 6636, 'werktagen': 6637, 'angelam21983732': 6638, 'petra58249513': 6639, 'pipo124567': 6640, 'ingenieure': 6641, 'sadsleepyloser': 6642, 'madchen': 6643, 'unwreq23': 6644, 'spoookeyy': 6645, 'vinyu23': 6646, 'akame': 6647, 'owo': 6648, 'sentakuu71': 6649, 'abgeranzte': 6650, 'tukke': 6651, 'trumps': 6652, 'knallfroesche': 6653, 'er': 6654, 'swinger': 6655, 'noticias': 6656, 'hausgemacht': 6657, 'eidigung': 6658, 'nachdenkseiten': 6659, 'sanktionieren': 6660, 'faeustchen': 6661, 'robe': 6662, '19594': 6663, 'rebound541': 6664, 'datdiscordboy': 6665, '64': 6666, 'galaxy': 6667, 'odyssey': 6668, 'homobehaviorali': 6669, 'rechtliches': 6670, 'fernsehen': 6671, 'cutie': 6672, 'ariana': 6673, 'grande': 6674, 'toll': 6675, 'lebenshaltungskosten': 6676, 'viel': 6677, 'gestiegen': 6678, 'karsten71': 6679, 'typische': 6680, 'lallend': 6681, 'gregormodos': 6682, 'ltwth19': 6683, 'afdwaehlen': 6684, 'thueringen': 6685, 'joroe14': 6686, 'goerlitz': 6687, 'franziskaol': 6688, 'kasse': 6689, 'dadurch': 6690, 'absichtlich': 6691, 'dreister': 6692, 'haeuser': 6693, 'asylbewerber': 6694, 'notunterkuenfte': 6695, 'unzumutbare': 6696, 'zustaende': 6697, 'wettbewerb': 6698, 'peinlichste': 6699, 'form': 6700, 'eskapismus': 6701, 'buehlbecker': 6702, 'reil': 6703, 'pickel': 6704, 'parlamentsverach': 6705, 'bemerken': 6706, 'suspendie': 6707, 'slimemock': 6708, 'kollege': 6709, 'hau': 6710, 'euli': 6711, 'perfektes': 6712, 'date': 6713, 'kramerga': 6714, 'enbau': 6715, 'bringen': 6716, 'livingwall': 6717, 'aufdassdiestaedtegruenerwerden': 6718, 'jochenflasba': 6719, 'einzusparen': 6720, 'eheluder': 6721, 'enfrogge': 6722, 'suechtig': 6723, 'offensiv': 6724, 'ablaeuft': 6725, 'kandidatin': 6726, 'derzeitigen': 6727, 'ausg': 6728, 'interaktiv': 6729, 'wande': 6730, 'euelections2019': 6731, 'waehlerwa': 6732, 'kloebermeraxl': 6733, 'buerostuhlgrossepersonen': 6734, 'buerostuehlmeraxl': 6735, 'buerostuhl': 6736, 'gesundes': 6737, 'mer78': 6738, 'xs': 6739, 'juliusivx': 6740, 'frauproper': 6741, 'darlings': 6742, 'sebastiankurz': 6743, 'boomer': 6744, 'herzberg': 6745, 'jchristandl': 6746, 'bagasch': 6747, 'versagt': 6748, 'dinge': 6749, 'werde': 6750, 'schaltplaene': 6751, 'latex': 6752, 'frittenmelly': 6753, 'bilda': 6754, 'honestly': 6755, 'james': 6756, 'palette': 6757, 'gut': 6758, 'loswer': 6759, 'french': 6760, 'open': 6761, 'aussenseiter': 6762, 'chancenlos': 6763, 'tennis': 6764, 'nadal': 6765, 'parents4future': 6766, 'wozukunft': 6767, 'ansichten': 6768, 'breezypayback': 6769, 'stattwie': 6770, 'dasitzt': 6771, 'romannervnicht': 6772, 'kah': 6773, 'falsche': 6774, 'herangehensweise': 6775, 'veterinaer': 6776, 'duschen': 6777, 'handtuch': 6778, 'grin': 6779, 'leopoldstammler': 6780, 'guenschl': 6781, 'aprestros': 6782, 'hoebi75': 6783, 'helenesteiner4': 6784, 'befehlsempfaenger': 6785, 'mimmismama': 6786, 'christophnebgen': 6787, 'suuuper': 6788, 'rhythmusgefuehl': 6789, 'sparkurs': 6790, 'abgaben': 6791, 'unternehmensteuern': 6792, 'senken': 6793, 'hilfebinhure': 6794, 'htoastbrot': 6795, 'brauner': 6796, '254': 6797, '122': 6798, 'madia': 6799, 'rasmusandresen': 6800, 'vorfahr': 6801, 'abbaurecht': 6802, 'enneaeterisch': 6803, 'kamnonym': 6804, 'frontet': 6805, 'kanak': 6806, 'stabilen': 6807, 'sponsorn': 6808, 'kleinerdonner': 6809, 'aergern': 6810, 'helarctos': 6811, 'gegenueber': 6812, 'katzentisch': 6813, 'obvsthiam': 6814, 'immo': 6815, 'alscumbro': 6816, 'wowyyyy': 6817, 'aqosteee': 6818, 'cclearz': 6819, 'dikka': 6820, 'ratter': 6821, 'verballer': 6822, 'kugeln': 6823, 'kuda': 6824, 'lindner': 6825, 'welle': 6826, 'haidball': 6827, 'charaktere': 6828, 'nowottny': 6829, 'warmes': 6830, 'koelsch': 6831, 'gefrieren': 6832, 'dwarfplanet': 6833, 'der': 6834, 'wahlsieg': 6835, 'tuebingen': 6836, 'gruener': 6837, 'wandazietz': 6838, 'wegschmeissen': 6839, 'einzigste': 6840, 'geliebten': 6841, 'baka': 6842, 'exfreund': 6843, 'uebri': 6844, 'nationalsozialisten': 6845, 'idealisten': 6846, 'spdler': 6847, 'stein': 6848, 'chemnitz': 6849, 'identitaeren': 6850, 'dburschenschaft': 6851, 'kalbitz': 6852, 'hoecke': 6853, 'alex': 6854, 'malenki': 6855, 'senajulya': 6856, 'passivalerio': 6857, 'christianxxx1': 6858, 'dos': 6859, 'meninos': 6860, 'transexclub': 6861, 'spritzt': 6862, 'retweeten': 6863, 'bastarde': 6864, 'helgebruhn': 6865, 'ollilein69': 6866, 'insgesamt': 6867, 'beinfrei': 6868, 'rico': 6869, 'hihi': 6870, 'spr': 6871, 'matteosalvinimi': 6872, 'macrons': 6873, 'junckers': 6874, 'grit': 6875, 'itookmyprozac': 6876, 'kuck': 6877, 'kriminalitaetsstatistik': 6878, 'iaminhellandyou': 6879, 'mlchelangelhoe': 6880, 'currygewuerz': 6881, 'iamomarscurr': 6882, 'iulieeer': 6883, 'valuwunr2': 6884, 'alben': 6885, 'cooler': 6886, 'permanenten': 6887, 'releases': 6888, 'nicoivang19': 6889, 'uber': 6890, 'uninteressant': 6891, 'verblendeten': 6892, 'anluegen': 6893, 'sooooo': 6894, 'kalllllttttt': 6895, 'friere': 6896, 'dialyse': 6897, 'animus': 6898, 'rooz': 6899, 'verstehst': 6900, 'zurueckzuschlagen': 6901, 'influenzer': 6902, 'irgend': 6903, 'clown': 6904, 'angerufen': 6905, 'peruecke': 6906, 'hoodie': 6907, 'aermel': 6908, 'hochkrempeln': 6909, 'shi': 6910, 'entgegengeifern': 6911, 'kanzler': 6912, 'herbeisch': 6913, 'angolanischen': 6914, 'steht': 6915, 'hinzufuegen': 6916, 'angolani': 6917, 'ballou381': 6918, 'sauer': 6919, 'steu': 6920, 'easpo': 6921, 'sfifa': 6922, 'ea': 6923, 'vollziehen': 6924, 'polygamistischen': 6925, 'einbuergerungsgesetz': 6926, 'rechtlich': 6927, 'jen': 6928, 'dieliebeanna': 6929, 'echtnichtstevo': 6930, '2theskyy': 6931, 'verden': 6932, '07': 6933, '08': 6934, 'betrieblich': 6935, 'kingabrieu': 6936, 'kkkkkkkkkkkm': 6937, 'oer': 6938, 'explosion': 6939, 'berichten': 6940, 'wahrheitsgemaess': 6941, 'anschl': 6942, 'falco': 6943, 'richie': 6944, 'turi2': 6945, 'handwerks': 6946, 'verleger': 6947, 'haenden': 6948, 'nagel': 6949, 'fj': 6950, 'murau': 6951, 'liebe': 6952, 'virginia': 6953, 'woolf': 6954, 'romantiker': 6955, 'rotwein': 6956, 'chansons': 6957, 'tanz': 6958, 'geschlechter': 6959, 'sonnenuntergang': 6960, 'neospiesser': 6961, 'hingehen': 6962, 'ab19868': 6963, 'intramorus': 6964, 'vorne': 6965, 'menschenverachtend': 6966, 'boese': 6967, 'avukatramo': 6968, 'sjetzt': 6969, 'hauptjob': 6970, 'kopftu': 6971, 'heiligen': 6972, 'hallen': 6973, 'neonlicht': 6974, 'christine': 6975, 'palleti': 6976, 'huehnchens': 6977, 'speck': 6978, 'schweinch': 6979, 'schalten': 6980, 'flashskynews': 6981, 'ex1lity': 6982, 'untagt': 6983, 'liefern': 6984, 'vorlage': 6985, 'aktionen': 6986, 'rotfaschisten': 6987, 'vlkrdhr': 6988, 'khs': 6989, 'herrenuhr': 6990, 'reaper': 6991, 'taucherband': 6992, '169': 6993, 'hanbunkurai': 6994, 'investie': 6995, 'unnormal': 6996, 'sandy4love': 6997, 'blas': 6998, 'pruegel': 6999, 'satinarsch': 7000, 'hausmeister': 7001, 'anschauen': 7002, 'mastubieren': 7003, 'fernsehfrauen': 7004, 'campingtisch': 7005, 'endozentrisch': 7006, 'yos': 7007, 'sonic': 7008, 'immernoch9': 7009, 'motivieren': 7010, 'time1608': 7011, 'alphasoulmaster': 7012, 'livault': 7013, 'smt': 7014, 'ma2ju': 7015, 'annitheduck': 7016, 'foetus': 7017, 'verhindern': 7018, 'fruehlingssonne': 7019, 'erfreut': 7020, 'gluecklic': 7021, 'messen': 7022, 'verlassene': 7023, 'ferraris': 7024, 'ferrari': 7025, 'pewdiepie': 7026, 'netzwerke': 7027, 'icke': 7028, 'nrwzum0': 7029, 'manuvoice': 7030, 'gruppe': 7031, 'lachkicks': 7032, 'beniourigal': 7033, 'davon': 7034, 'nach': 7035, 'pruefungen': 7036, 'frauenstreik': 7037, 'dimensionen': 7038, 'staa': 7039, 'hangen': 7040, 'claude': 7041, 'wunderblokk': 7042, 'internetausdrucker': 7043, 'rechtskonservativ': 7044, 'rechtsradikal': 7045, 'printformat': 7046, 'tauschen': 7047, 'aurelme': 7048, 'rule': 7049, 'veli0801': 7050, 'vaderyu91': 7051, 'gaming20003': 7052, 'hilf': 7053, 'sauvagecrim': 7054, 'kanaken': 7055, 'pressefreiheit': 7056, 'zuvor': 7057, 'arac': 7058, 'yla': 7059, 'kohlekraftwerke': 7060, 'pflaster': 7061, 'windraedern': 7062, 'oeffnet': 7063, 'lobt': 7064, 'fierce': 7065, 'friday': 7066, 'apologet': 7067, 'minderwe': 7068, 'fang': 7069, 'krad75': 7070, 'festgestellt': 7071, 'metal': 7072, 'attraktiv': 7073, 'sabaton': 7074, 'haesslichen': 7075, 'hhawkeye24': 7076, 'europaweit': 7077, 'inearlierdays': 7078, 'einzige': 7079, 'schriftzug': 7080, 'tuerkischer': 7081, 'br24': 7082, 'staatsversagens': 7083, 'mildtaetigkeitswettbewerb': 7084, 'wisag': 7085, 'transpo': 7086, 'lichtenberg': 7087, 'tamaarriiss': 7088, 'toete': 7089, 'bruch': 7090, 'zivilisation': 7091, 'zivilisationsbruch': 7092, 'ronaldsullivan': 7093, 'linkermob': 7094, 'verwuestet': 7095, 'letzten': 7096, 'unglaeubigen': 7097, 'vernichtet': 7098, 'beaarep': 7099, 'erikasdreck': 7100, 'niemalsafd': 7101, 'faengt': 7102, 'auszubreiten': 7103, 'schwierigste': 7104, 'entfernen': 7105, 'performt': 7106, '03': 7107, 'btc': 7108, 'tauwetter': 7109, 'bitcoin': 7110, 'bakkt': 7111, 'deckt': 7112, 'assets': 7113, 'woker': 7114, 'danielaklucke': 7115, 'begegnungszonen': 7116, 'gescheite': 7117, 'begriffen': 7118, 'masse': 7119, 'berufsbezeichnung': 7120, 'speaker': 7121, 'trendexpe': 7122, 'hiesse': 7123, 'booknerd': 7124, 'weinen': 7125, 'einmal': 7126, 'lustigralf': 7127, 'johannahh2': 7128, '28': 7129, 'absoluter': 7130, 'alleinlage': 7131, 'kauften': 7132, 'sagten': 7133, 'buh': 7134, 'langwe': 7135, 'drumrum': 7136, 'gjsh': 7137, 'glueckliche': 7138, 'aminajxx': 7139, 'denise': 7140, 'loop': 7141, 'ltwsh': 7142, 'szenecode': 7143, 'wies': 7144, 'senfmaedchen': 7145, 'meh': 7146, 'trottel': 7147, 'raffen': 7148, 'verfassungsschutz': 7149, 'sma': 7150, 'traderbulls': 7151, 'fragdenstaat': 7152, 'zensurheberrecht': 7153, 'bfr': 7154, 'zugangscodes': 7155, 'glyphosat': 7156, 'gutachten': 7157, 'antragstellern': 7158, '73rieck': 7159, 'torben12045934': 7160, 'linksgruenen': 7161, 'auspraegung': 7162, 'kampagnengesteue': 7163, 'undemokratisch': 7164, 'schlafen': 7165, 'freehippiegirl': 7166, 'leichten': 7167, 'kotzreiz': 7168, 'verspottet': 7169, 'palastluger': 7170, 'pelzige': 7171, 'ergergruesse': 7172, 'suskadse': 7173, 'hapelanger': 7174, 'atemlos': 7175, 'wau': 7176, 'hottt': 7177, 'hbsch': 7178, 'relazione': 7179, 'vidio': 7180, 'pono': 7181, 'warschau': 7182, 'abgeschaut': 7183, 'montage': 7184, 'mrln63': 7185, 'hxnaz': 7186, 'sarma': 7187, 'weinblaetter': 7188, 'ahah': 7189, 'sksks': 7190, 'rande': 7191, 'momente': 7192, 'natasnoctem': 7193, 'jerk': 7194, 'step': 7195, 'focusonline': 7196, 'wiedereinfuehrung': 7197, 'todesstrafe': 7198, 'faho74': 7199, 'hochstapler': 7200, 'narzisstisches': 7201, 'kleinanzeigen': 7202, 'geizigste': 7203, 'gefuellteste': 7204, 'erde': 7205, 'probeabstimmungen': 7206, 'derstandardat': 7207, 'flygskam': 7208, 'klimaproteste': 7209, 'inlandsfluegen': 7210, 'henningmayone': 7211, 'ahh': 7212, 'biene': 7213, '26maicdu': 7214, 'freubier': 7215, 'bwjetzt': 7216, 'cardigan': 7217, 'friendship': 7218, 'marwosdeath': 7219, 'hallenbadbau': 7220, 'kamenz': 7221, 'metalgod1975': 7222, 'ruppen': 7223, 'erinnerungen': 7224, 'derplietscher': 7225, 'quatsch': 7226, 'wicht': 7227, 'erdokan': 7228, 'aniesmann': 7229, 'kandidie': 7230, 'nachfolge': 7231, 'fraktionskollegen': 7232, 'klausur': 7233, 'aufgab': 7234, 'beat': 7235, 'konzentriere': 7236, 'injamorgan': 7237, 'erotikliteratur': 7238, 'directo': 7239, 'grosse': 7240, 'yung': 7241, 'arkan2': 7242, 'lieferzeit': 7243, 'stornieren': 7244, '9': 7245, 'apuleius': 7246, 'doktorhut': 7247, 'molligekleinesie83': 7248, 'amunet': 7249, 'ac': 7250, 'danielrschmidt': 7251, 'judith': 7252, 'kerr': 7253, 'rosa': 7254, 'kaninchen': 7255, 'stahl': 7256, 'konfrontation': 7257, 'bunny': 7258, 'huh': 7259, 'versauter': 7260, 'geschlechtsverkehr': 7261, 'frauenporno': 7262, 'gesund': 7263, 'faz': 7264, 'verfasster': 7265, 'dieseratze': 7266, 'hoere': 7267, 'utawie': 7268, 'herauslassen': 7269, 'm95': 7270, 'stefanhechl': 7271, 'playbook': 7272, '1930er': 7273, 'glitzeratom': 7274, 'muetter': 7275, 'selbsterhoehung': 7276, 'suhlen': 7277, 'tickt': 7278, 'anders': 7279, 'pappnasen': 7280, 'politclowns': 7281, 'bestimmen': 7282, 'lizarussiahorny': 7283, 'geilsten': 7284, 'beweisen': 7285, 'nachbarin': 7286, 'gebumst': 7287, 'sado': 7288, 'mirbuergerin': 7289, 'stoeckli': 7290, 'winkelzuege': 7291, 'einseitig': 7292, 'orientie': 7293, 'augenaufde': 7294, 'vielfalt': 7295, 'moechtet': 7296, 'schmiddiemaik': 7297, 'josephine': 7298, 'gleichen': 7299, 'ausrufung': 7300, 'klimanotstand': 7301, 'verabschiedung': 7302, 'klimas': 7303, 'grafiken': 7304, 'plaetze': 7305, 'dominanz': 7306, 'fetish': 7307, 'branchenblaetter': 7308, 'headlines': 7309, 'allerdings': 7310, 'omr': 7311, 'lalilein': 7312, 'teste': 7313, 'woelken': 7314, 'kniekehle': 7315, 'zucken': 7316, 'hambi': 7317, 'hie': 7318, 'philosophen': 7319, 'uni': 7320, 'schaebigen': 7321, 'grauen': 7322, 'gebaeude': 7323, 'kennenlernten': 7324, 'daesh': 7325, 'ottos': 7326, 'hueftsteak': 7327, 'online': 7328, 'metzgereien': 7329, 'betreiben': 7330, 'bordeauxdogge2': 7331, 'trainieren': 7332, 'trockenfutter': 7333, 'stueckchen': 7334, 'einerhgw': 7335, 's11': 7336, 'bergisch': 7337, 'gladbach': 7338, '54': 7339, 'dormagen': 7340, '27': 7341, 'neuss': 7342, '45': 7343, 'outen': 7344, 'sprachrohr': 7345, 'paedophilen': 7346, 'kinderschaender': 7347, 'ovg': 7348, 'bautzen': 7349, 'volksverhetzend': 7350, 'ovgbautzen': 7351, 'strahlen': 7352, 'jahrgang': 7353, 'kanidaten': 7354, 'buergerrat': 7355, 'vaterkomplex': 7356, 'gayspacegulag': 7357, 'koenige': 7358, 'neger': 7359, 'oefter': 7360, 'gesellschaftlicher': 7361, 'rueckentwicklung': 7362, 'complaxes': 7363, 'fans': 7364, 'vereins': 7365, 'unsaegliche': 7366, 'umvolkung': 7367, 'bevoelkerung': 7368, 'veredelt': 7369, 'nachhaltig': 7370, 'bzberlin': 7371, 'grenzenlose': 7372, 'hohl': 7373, 'traurigen': 7374, 'thorsten0711': 7375, 'senioren': 7376, 'ueberfallen': 7377, 'misshandeln': 7378, 'aktenzeichenxy': 7379, 'weiteren': 7380, 'verrat': 7381, 'ehrendokto': 7382, 'itel': 7383, 'aufschwungs': 7384, 'tiptopgeheim': 7385, 'ermordung': 7386, 'zutun': 7387, 'rudolfzlabinger': 7388, 'box': 7389, 'latschen': 7390, 'airliners': 7391, 'airbus': 7392, 'informie': 7393, 'postillon': 7394, 'pervers': 7395, 'witten': 7396, 'arminschon': 7397, 'lilien': 7398, 'mspazieren': 7399, 'missbjarmstrong': 7400, 'mupfmama': 7401, 'mupf': 7402, 'kreativsten': 7403, 'sinnigsten': 7404, 'neuschoepfungen': 7405, 'juussyyy': 7406, 'rollo': 7407, 'zufrieden': 7408, 'poetmehmet': 7409, 'witziger': 7410, 'rolle': 7411, 'spielt': 7412, 'fue': 7413, 'hasst': 7414, 'aufgebaut': 7415, 'geleistet': 7416, 'taeglich': 7417, 'borussen': 7418, 'tom09': 7419, 'eafussball': 7420, 'spiele': 7421, 'aufregen': 7422, 'weekend': 7423, 'psychomolehappy': 7424, 'euc': 7425, 'schwaetzerinnen': 7426, 'rosenkohl': 7427, 'krone': 7428, 'massenzuwanderer': 7429, 'keinerlei': 7430, 'oekologisches': 7431, 'bewusstsein': 7432, 'verlaub': 7433, 'unreflektie': 7434, 'kommentaren': 7435, 'geduld': 7436, 'dic': 7437, 'evamolau': 7438, 'unterbrochen': 7439, 'geduzt': 7440, 'mansplainen': 7441, 'tr': 7442, 'fiischyyy': 7443, 'marcelmolitor2': 7444, 'codeveingame': 7445, 'psn': 7446, 'eingeben': 7447, 'anzeigefehler': 7448, 'cd': 7449, 'macco': 7450, 'ekofreezy': 7451, 'german': 7452, 'dream': 7453, 'represented': 7454, 'muahaha': 7455, 'bratzenbuch': 7456, 'klickt': 7457, 'niemalsfacebook': 7458, 'sternzeichen': 7459, 'bedeutender': 7460, 'stierhoerner': 7461, 'ophelia': 7462, 'bdsm': 7463, 'grillgeruch': 7464, 'nase': 7465, 'bratwurst': 7466, 'pharaotom': 7467, 'kaadeeey': 7468, 'pearsxon': 7469, 'lxckz': 7470, 'eskalationzz': 7471, 'zatox95': 7472, 'fxbz': 7473, 'einhorngate': 7474, 'humorlosen': 7475, 'schwaebisch': 7476, 'gmuend': 7477, 'nervermittlung': 7478, 'italienische': 7479, 'monster': 7480, 'desso': 7481, 'wasdges': 7482, 'dior20001': 7483, 'abkuerzungen': 7484, 'galt': 7485, 'gegenpol': 7486, 'heimatminister': 7487, 'teite99': 7488, 'abstimmung': 7489, 'eilen': 7490, 'kioskmein': 7491, '99bluemarlin': 7492, 'dasland': 7493, 'opoe': 7494, 'saubere': 7495, 'sexfilme': 7496, 'marcel': 7497, 'mille': 7498, 'ritter': 7499, 'roter': 7500, 'lediglich': 7501, '145': 7502, 'quellen': 7503, 'abges': 7504, 'ausweisen': 7505, 'dingenskirchenj': 7506, 'fanpost': 7507, 'laed': 7508, 'trolle': 7509, 'playoffcaleb': 7510, 'efg': 7511, 'fg': 7512, 'landesmedienanstalt': 7513, 'veraltet': 7514, 'pharmazeutisches': 7515, 'markenerzeugnis': 7516, 'schaefer': 7517, 'vgtlnd': 7518, 'heltedskelted': 7519, 'credo': 7520, 'lanas08819497': 7521, 'soziale': 7522, 'haengematte': 7523, 'achtmannstark': 7524, 'move': 7525, 'gerlet1': 7526, 'verachtens': 7527, 'zick': 7528, 'le2jh': 7529, 'ijoba': 7530, 'xpensive': 7531, 'zinhle': 7532, 'dammy': 7533, 'krane': 7534, 'youngstar': 7535, 'heavy': 7536, 'duty': 7537, 'plusdemurs': 7538, 'saalschutz': 7539, 'hm': 7540, 'stosstrupp': 7541, 'realitaet': 7542, 'queer': 7543, 'gleiche': 7544, 'scientology': 7545, 'geworben': 7546, 'melodygahlen': 7547, 'zurueckwuensche': 7548, 'marcuserlebach': 7549, 'fault': 7550, 'badespassbarbie': 7551, 'empfehle': 7552, 'riebenen': 7553, 'unterhalten': 7554, 'nac': 7555, 'sebgreiner': 7556, 'atomausstiegs': 7557, 'atomausstieg': 7558, 'speed': 7559, 'magen': 7560, 'gntm2019': 7561, 'hocke': 7562, 'fahre': 7563, '30min': 7564, 'angekommen': 7565, 'klingel': 7566, 'dezent': 7567, 'verzweife': 7568, 'andy93893217': 7569, 'wahlkampfmaschine': 7570, 'wolfgang': 7571, 'wzb': 7572, 'krillin': 7573, 'auseinanderzuhalten': 7574, 'schlussmachen': 7575, 'bakaray': 7576, 'freundlich': 7577, 'niemalscdu': 7578, 'faelt': 7579, 'vergleich': 7580, 'newcomern': 7581, 'haft': 7582, 'xatar': 7583, 'beef': 7584, 'newcomer': 7585, 'europawahlen': 7586, 'hampelmaennchen': 7587, 'verdingen': 7588, 'trommelt': 7589, 'ishaiqz': 7590, 'rrivexx': 7591, 'dopamin': 7592, 'vergeuden': 7593, 'gewunde': 7594, 'andreas': 7595, 'bvb': 7596, 'balerdi': 7597, 'abwehrspieler': 7598, 'enttaeuschung': 7599, 'luftnummer': 7600, 'hofnarr': 7601, 'studierenden': 7602, 'edeka': 7603, 'rumheulen': 7604, 'verstaendlich': 7605, 'sylviapantel': 7606, 'hgmaassen': 7607, 'sigrid': 7608, 'herrmannmarschall': 7609, 'kreises': 7610, 'filme': 7611, 'putze': 7612, 'ultra': 7613, 'nicen': 7614, 'stuff': 7615, 'evil': 7616, 'kapitalismus': 7617, 'bla': 7618, 'chrizzie93': 7619, 'andre09': 7620, '19mei89': 7621, '0610': 7622, 'flobvb666': 7623, 'borusse08': 7624, 'xvoffo': 7625, 'gruss': 7626, 'rezept': 7627, 'illegalen': 7628, 'legalen': 7629, 'sozialsstaats': 7630, 'bereicherern': 7631, 'fluten': 7632, 'city0815': 7633, 'anfange': 7634, 'sheelockmaier': 7635, 'jegliches': 7636, 'rueckstaendigkeit': 7637, 'inkompatibilitaet': 7638, 'jedes': 7639, 'trademonkeys': 7640, 'movement': 7641, 'ttcm': 7642, 'ibgr': 7643, 'krfg': 7644, 'canales': 7645, 'aupair': 7646, 'emoticon': 7647, 'anale': 7648, 'ddrmuseum': 7649, 'pocketkamera': 7650, 'pentacon': 7651, 'k16': 7652, 'ideal': 7653, 'negativformat': 7654, '13x17mm': 7655, 'museumweek': 7656, 'photomw': 7657, 'timo': 7658, 'reeg': 7659, 'fifaprogamer213': 7660, 'aglibic': 7661, 'mxlanax': 7662, 'einig': 7663, 'goekan': 7664, 'derschulze': 7665, 'fediverse': 7666, 'leichter': 7667, 'landesverband': 7668, 'rechnung': 7669, 'tempelhofer': 7670, 'gerhardschwar11': 7671, 'derwanderer4': 7672, 'truppe': 7673, '55uli': 7674, 'reingeholt': 7675, 'uciwwt': 7676, 'emakumeen': 7677, 'bira': 7678, 'uwt': 7679, 'liste': 7680, 'etappenprofile': 7681, 'ace': 7682, 'oute': 7683, 'sexist': 7684, 'schoene': 7685, 'tevsa': 7686, 'sondergipfel': 7687, 'traut': 7688, 'persona': 7689, 'non': 7690, 'grata': 7691, 'jemxkn': 7692, 'henlo': 7693, 'ate': 7694, 'jem': 7695, 'hnnnng': 7696, 'fabigumpeyt': 7697, 'leit': 7698, 'hoxatbox': 7699, 'snowowlem': 7700, 'markenbutter': 7701, 'backstage0000': 7702, 'prioritaet': 7703, 'linksradikale': 7704, 'loft': 7705, 'bekannter': 7706, 'gefluechtete': 7707, 'moria': 7708, 'zelten': 7709, 'baracken': 7710, 'mokoffiziell': 7711, '9000': 7712, 'unattraktiver': 7713, 'mateu': 7714, 'morey': 7715, 'ilkayguendogan': 7716, 'volkerweise': 7717, 'maphimoto': 7718, 'juliahorny1': 7719, 'salsapicantona': 7720, 'spanische': 7721, 'generalanwaltschaft': 7722, 'hassverbrechen': 7723, 'interpretie': 7724, 'verbre': 7725, 'eruiere': 7726, 'nextnews': 7727, 'obamas': 7728, 'harvad': 7729, 'universitaet': 7730, 'ehrend': 7731, 'wachstumspfad': 7732, 'aktienanalyse': 7733, 'kulmbach': 7734, 'extrakaese': 7735, 'frustessen': 7736, 'jansen': 7737, 'ungesund': 7738, 'fresst': 7739, 'to': 7740, 'leude': 7741, 'pspresseschau': 7742, 'huettl': 7743, 'demokratisches': 7744, 'benuetzt': 7745, 'schuetze': 7746, 'hansmll89138006': 7747, 'derherrz': 7748, 'laecherlicher': 7749, 'historie': 7750, 'loetzschmdb': 7751, 'altvorderen': 7752, 'schein': 7753, 'lautstaerke': 7754, 'ps4': 7755, 'unnuetzer': 7756, 'plastikscheisse': 7757, 'street': 7758, 'fighter': 7759, 'hooligans': 7760, 'steelerjungs': 7761, 'scheibe': 7762, 'knaeckebrot': 7763, 'lonsdale': 7764, 'gaysex': 7765, 'verdammten': 7766, 'braune': 7767, 'aj79er': 7768, 'hyracexd': 7769, '1mai': 7770, 'geistige': 7771, 'vorgaenger': 7772, 'verboten': 7773, 'mai': 7774, 'gewer': 7775, 'idiologisch': 7776, 'verblendete': 7777, 'ali': 7778, 'ans': 7779, 'mikrofon': 7780, 'verschlafn': 7781, 'nanny': 7782, 'index': 7783, 'ungesundes': 7784, 'albtraum': 7785, 'krankenversicherer': 7786, 'intellekt': 7787, 'low': 7788, 'hanging': 7789, 'fruit': 7790, 'much': 7791, 'grundrauschens': 7792, 'hoetang': 7793, 'blinder': 7794, 'krueckstock': 7795, 'skinny': 7796, 'zahnstocherbitch': 7797, 'heeeey': 7798, 'duuu': 7799, 'secondcircleosu': 7800, 'trefft': 7801, 'dokomi': 7802, 'osu': 7803, 'turnierveranstalter': 7804, 'bieten': 7805, 'moeglichkeit': 7806, 'fridgeguy': 7807, 'paulo': 7808, 'vaeterchen': 7809, 'duss': 7810, 'machtverlust': 7811, 'klarkommen': 7812, 'babysetter': 7813, 'jeans': 7814, 'adultos': 7815, 'oporno': 7816, 'vwstd': 7817, 'kordimvp': 7818, 'neeyrox': 7819, 'hahahaha': 7820, 'grandel1': 7821, 'meinanusbrennt': 7822, 'foxoderfuchs': 7823, 'eis': 7824, 'buergerliche': 7825, 'pflicht': 7826, 'abzusetzen': 7827, 'inakoslows1': 7828, 'nylonfacesitting': 7829, 'vergoetterst': 7830, 'roxyred19589189': 7831, 'fullgoonzone': 7832, 'hundefriedhoof': 7833, 'profis': 7834, 'zustand': 7835, 'angreifer': 7836, 'verlangten': 7837, 'bekehren': 7838, 'pastor': 7839, 'lehnten': 7840, 'littlepeeps1963': 7841, 'gerueche': 7842, 'jemandem': 7843, 'wahrhe': 7844, 'mount': 7845, 'stupid': 7846, 'dunningkruger': 7847, 'auslaendischen': 7848, 'hochgeschrieben': 7849, 'knuddelbacke': 7850, 'froebelschule': 7851, 'aschaffenburg': 7852, 'integrie': 7853, 'fellgerber': 7854, 'afdnbg': 7855, 'ehemalige': 7856, 'umweltpa': 7857, 'ziele': 7858, 'feuer': 7859, 'seyfe': 7860, 'rad': 7861, 'habende': 7862, 'kathrin': 7863, 'habenschaden': 7864, 'gothano': 7865, 'mitreissende': 7866, 'aufbruch': 7867, 'totalem': 7868, 'spitzenpolitikerin': 7869, 'schwulerfurry': 7870, 'freekringeh': 7871, 'discord': 7872, 'patrickkul': 7873, 'stickerbrush': 7874, 'bittersweet': 7875, 'michalocalpixel': 7876, 'realbuschpilot': 7877, 'schmeissfliege': 7878, 'tiempo': 7879, 'secure': 7880, 'joins': 7881, 'nusim': 7882, 'nering': 7883, 'network': 7884, 'rza': 7885, 'cons': 7886, 'autsch': 7887, 'ipad': 7888, 'svenishell': 7889, 'pegida': 7890, 'montagen': 7891, 'nurindresden': 7892, 'nopegidadd': 7893, 'schwiegersohn': 7894, 'schwiegermutter': 7895, 'perverse': 7896, 'amathure': 7897, 'dachbalken': 7898, 'dicklich': 7899, 'mutti': 7900, 'kuemme': 7901, 'ums': 7902, 'berufstaetigkeit': 7903, 'erlaubt': 7904, 'pflichten': 7905, 'warumeli': 7906, 'opfi': 7907, 'lsss': 7908, 'satansbrut': 7909, 'okee42203068': 7910, 'stroeermedia': 7911, 'dabiggapicta': 7912, 'twitpatli': 7913, 'operationlibero': 7914, 'knarren': 7915, 'dass': 7916, 'muslima': 7917, 'keeprespect79': 7918, 'naiv': 7919, 'aelter': 7920, 'city': 7921, 'roller': 7922, 'rumschleude': 7923, 'knoechel': 7924, 'heutzutage': 7925, 'yungestablismnt': 7926, 'panzerfahrenbot': 7927, 'zonenbiest': 7928, 'taschentuecher': 7929, 'papier': 7930, 'wegwerfen': 7931, 'sollten': 7932, 'furry': 7933, 'knallfrog': 7934, 'fussballfans': 7935, 'daenk': 7936, 'ritaliddle': 7937, 'vatikans': 7938, 'terrorista': 7939, 'komme': 7940, 'next': 7941, '138b': 7942, 'claymation': 7943, 'zwicki': 7944, 'zwacki': 7945, 'platsch': 7946, 'grunneldude': 7947, 'schnapp': 7948, 'lieblingsmenschen': 7949, 'sobald': 7950, 'kuscheln': 7951, 'rueckgaengen': 7952, 'gegensteuern': 7953, 'vergleicht': 7954, 'volkskammer': 7955, 'urgh': 7956, 'wahl2019': 7957, 'disch': 7958, 'gleisch': 7959, 'lan': 7960, 'staatliche': 7961, 'brisantes': 7962, 'dokument': 7963, 'belegt': 7964, 'linksgruene': 7965, 'gehirnwaesche': 7966, 'theviice': 7967, 'spursofficial': 7968, 'klatsche': 7969, 'overperformed': 7970, 'genuss': 7971, 'cdsuerklaerer': 7972, 'stasi': 7973, 'braunste': 7974, 'umlackie': 7975, 'sedfdj': 7976, 'seltsamerweise': 7977, 'ruebenhorst': 7978, 'erscheinen': 7979, 'undankbar': 7980, 'brehm25502987': 7981, 'teilhaben': 7982, 'eskalie': 7983, 'uebersetze': 7984, 'koeppel': 7985, 'sozialdetektive': 7986, 'spionieren': 7987, 'schwerk': 7988, 'surny': 7989, 'pedo': 7990, 'tf2': 7991, 'vielweiberei': 7992, 'mische': 7993, 'creamspeak': 7994, 'life': 7995, 'hack': 7996, 'magenspiegelung': 7997, 'hummer': 7998, 'arzt': 7999, 'verkl': 8000, 'schmidja2017': 8001, 'vorgeschickt': 8002, 'auszuloten': 8003, 'oberen': 8004, 'reagieren': 8005, 'koks': 8006, 'dein': 8007, 'faust': 8008, 'wolff1': 8009, 'wolff': 8010, 'unwaehlbar': 8011, 'bussi': 8012, 'bier': 8013, 'ruegt': 8014, 'bierdeckel': 8015, 'putzt': 8016, 'wichtiger': 8017, 'tiera': 8018, 'reisewut': 8019, 'tiefenunscharf': 8020, 'puste': 8021, 'reagie': 8022, 'scheffel': 8023, 'drdav': 8024, 'lasset': 8025, 'danken': 8026, 'benabdelazizc': 8027, 'thannith': 8028, 'scrogneugneu': 8029, 'weltweit': 8030, 'koryphaeen': 8031, 'steckst': 8032, 'bloedheit': 8033, 'staatszersetzend': 8034, 'krasavice': 8035, 'wessen': 8036, 'frauenarsch': 8037, 'hahn41729786': 8038, 'arbeitslager': 8039, 'aggressive': 8040, 'rauskommen': 8041, 'kurzistweg': 8042, 'imageberatungen': 8043, 'reglementarisch': 8044, 'eingre': 8045, 'laender': 8046, 'vereinigen': 8047, 'verbruedern': 8048, 'konse': 8049, 'duracellsheep': 8050, 'tippe': 8051, 'ohrlaeppchen': 8052, 'ojobamiji': 8053, 'players': 8054, 'alexe1789': 8055, 'unscharf': 8056, 'linkspopulisten': 8057, 'sites': 8058, 'convento': 8059, 'lantermann': 8060, 'intervenie': 8061, 'pormno': 8062, 'nahaufnahme': 8063, 'completi': 8064, 'brak': 8065, 'rothen': 8066, 'schwer': 8067, 'herbst': 8068, 'infantilen': 8069, 'trullas': 8070, 'analena': 8071, 'ska': 8072, 'kats': 8073, 'willk': 8074, 'knastdichti': 8075, 'bekaempfen': 8076, 'hoh': 8077, 'einziger': 8078, 'koscher': 8079, 'jarnderhund': 8080, 'introlohd': 8081, 'rineya': 8082, 'weeb': 8083, 'bastetfurry': 8084, 'iran': 8085, 'wahlveranstaltung': 8086, 'strachegate': 8087, 'strachepk': 8088, 'gottnan': 8089, 'akaprious': 8090, 'adulto': 8091, 'teey': 8092, 'geeh': 8093, 'deutschlandfeindlich': 8094, 'poolshark1910': 8095, 'impft': 8096, '5256verletzter1': 8097, 'evidenz': 8098, 'basie': 8099, 'inkl': 8100, 'annageilgirl': 8101, 'sagst': 8102, 'entscheide': 8103, 'tifftxxxxf': 8104, 'facts': 8105, 'ch1990ris': 8106, 'nobodysheroine': 8107, 'xdonna': 8108, 'mies': 8109, 'hugs': 8110, 'urlaubsstimmung': 8111, 'vermiesen': 8112, 'quentindupont19': 8113, 'dunkerque': 8114, 'schmusedogamos': 8115, 'itcollie': 8116, 'wem': 8117, 'vorwiegend': 8118, 'problemvie': 8119, 'chefredakteur': 8120, 'run': 8121, 'rannilein': 8122, 'mean': 8123, 'ansichtandere': 8124, 'jaehrige': 8125, '70': 8126, 'jaehrigen': 8127, 'zusammengeschlagen': 8128, 'lebensgefaehrlich': 8129, 'verle': 8130, 'juicydiablo': 8131, 'wow': 8132, 'meistens': 8133, 'sow': 8134, 'apa': 8135, 'mentnr9': 8136, 'einzigen': 8137, 'verehren': 8138, 'pauschal': 8139, 'verachten': 8140, 'allmachts': 8141, 'ichbinscaspa': 8142, 'raumplanungtv': 8143, 'lohnt': 8144, 'muehe': 8145, 'verneig': 8146, 'freyafolke': 8147, 'spooeki': 8148, 'lbe': 8149, 'kuba': 8150, 'zutreffend': 8151, 'bilat': 8152, 'denrfun': 8153, 'gottverdammt': 8154, 'ipompeule': 8155, 'vermuellte': 8156, 'verdreckte': 8157, 'afdeppen': 8158, 'pseudopatrioten': 8159, 'meilenweit': 8160, 'vorbei': 8161, 'periklesmeier': 8162, 'mextase': 8163, 'kaelter': 8164, 'sonnenaktivitaet': 8165, 'abnimmt': 8166, 'fleisch': 8167, 'abw': 8168, 'teilzeitotaku': 8169, 'denkweise': 8170, 'polen': 8171, 'crazyivan1979': 8172, 'tommykrappweis': 8173, 'gehwaehlen': 8174, 'waehl': 8175, 'istangelico': 8176, 'archangel': 8177, 'annunciate': 8178, '1433': 8179, 'earlyrenaissance': 8180, 'italiana': 8181, 'darude': 8182, 'sandstorm': 8183, '6th': 8184, 'mix': 8185, 'couchionista': 8186, 'liege': 8187, 'mizunowaverider': 8188, 'pictimundi': 8189, 'erzaehl': 8190, 'bloeder': 8191, 'sebbe2704': 8192, 'fifakadabra': 8193, 'pavard': 8194, 'rfejerwgoje4g0w4ogvkregh0e': 8195, 'beschuetzen': 8196, '5g': 8197, 'mast': 8198, 'guter': 8199, 'einwurf': 8200, 'absenkung': 8201, 'wahlalters': 8202, 'muy': 8203, 'tetonas': 8204, 'mdels': 8205, 'prominente': 8206, 'organisationen': 8207, 'werdens': 8208, 'richten': 8209, 'sammeln': 8210, 'ep': 8211, 'ansammlung': 8212, 'vollidioten': 8213, 'kolonne': 8214, 'moskaus': 8215, 'jusosdresden': 8216, 'gegoogelt': 8217, 'speer': 8218, '02': 8219, 'krokodilgemuese': 8220, 'grafik': 8221, 'erschreckend': 8222, 'bisher': 8223, 'eingeredet': 8224, 'ungebildet': 8225, 'rodrigonavarror': 8226, 'gebrochener': 8227, 'foersterjoerg': 8228, 'kapital': 8229, 'preis': 8230, 'pun': 8231, 'intended': 8232, 'schweinerei': 8233, 'neutralisie': 8234, 'befuerwo': 8235, 'klimanotstandes': 8236, 'grundrechte': 8237, 'nadelstiche': 8238, 'jh': 8239, 'gruszecki': 8240, 'jah': 8241, 'ausends': 8242, 'verein': 8243, 'wochenlang': 8244, 'gefahren': 8245, 'saeckeweise': 8246, 'tobiasinfo': 8247, 'una': 8248, 'programme': 8249, 'zusammenfassen': 8250, 'h4usmeister': 8251, 'vollidiot': 8252, 'entsorgen': 8253, 'marokanischen': 8254, 'hintergrund': 8255, 'sende': 8256, 'fakeblondinchen': 8257, 'raz0rfist': 8258, 'schloothuessi1': 8259, 'machtergreifung': 8260, 'naht': 8261, 'beissen': 8262, 'welches': 8263, 'corgis': 8264, 'hol': 8265, 'biete': 8266, 'displate': 8267, 'wund': 8268, 'stjepan': 8269, 'ivan': 8270, 'stroemungstoene': 8271, 'fuzo': 8272, 'undefinierbares': 8273, 'sprachengewirr': 8274, 'venitroll': 8275, 'mathyvin': 8276, 'zurzeit': 8277, 'thars0n': 8278, 'mirjam': 8279, 'fischer': 8280, 'rand': 8281, 'ner': 8282, 'elstunde': 8283, 'anfaengt': 8284, 'devisen': 8285, 'eurokurs': 8286, 'broeckelt': 8287, 'phelps12347': 8288, 'reimst': 8289, 'kranken': 8290, 'seastarhd': 8291, 'pause': 8292, 'wurde': 8293, 'suro': 8294, 'meg': 8295, 'efganidoenmez': 8296, 'bilden': 8297, 'monoblock': 8298, 'nachtkoenig': 8299, 'realbryanleib': 8300, 'dcexaminer': 8301, 'edlaborcmte': 8302, 'bobbyscott': 8303, 'nenne': 8304, 'niacavaon': 8305, 'irgendwo': 8306, 'maschine': 8307, 'geputzt': 8308, 'proudeucitizen': 8309, 'nation': 8310, 'ehesten': 8311, 'nationalc': 8312, 'sam': 8313, 'reisst': 8314, 'rolandnelles': 8315, 'lebenslange': 8316, 'gastprofessur': 8317, 'realjohr': 8318, 'moralischer': 8319, 'landesverrat': 8320, 'auszeichnung': 8321, 'rueckgratlos': 8322, 'wahlvieh': 8323, 'weltordnung': 8324, 'uebervo': 8325, 'handelsueberschuss': 8326, 'afrikanische': 8327, 'bauern': 8328, 'bankenabhaengikeit': 8329, 'glaesernen': 8330, 'pastelpinkjm': 8331, 'est': 8332, 'raegt': 8333, 'einfaellt': 8334, 'aerger': 8335, 'nachfolger': 8336, 'blatter': 8337, 'wil': 8338, 'hacklauch': 8339, 'vshangrila': 8340, 'tiny': 8341, 'house': 8342, 'migraene': 8343, 'mischung': 8344, 'bravehea': 8345, 'einsamer': 8346, 'hobbit': 8347, 'witzfigur': 8348, 'anonymous': 8349, 'teller': 8350, 'tassen': 8351, 'besteck': 8352, 'geklaut': 8353, 'heule': 8354, 'kkb': 8355, 'zeug': 8356, 'saschakam': 8357, 'hannoderbus': 8358, 'originaltitel': 8359, 'aiararose': 8360, 'fbieger': 8361, 'kormosklaus': 8362, 'verseucht': 8363, 'pazifik': 8364, 'stroemungen': 8365, 'meere': 8366, 'tinosoph': 8367, 'fluegel': 8368, 'fuehler': 8369, 'summst': 8370, 'maaaaannnn': 8371, 'unentschieden': 8372, 'mannschaxtdn': 8373, 'zielen': 8374, 'svwbvb': 8375, 'geisteskrank': 8376, 'rootsroy1': 8377, 'mitregie': 8378, 'armutssc': 8379, 'kazi': 8380, 'suesser': 8381, 'concealer': 8382, 'foundation': 8383, 'ausreise': 8384, 'sperre': 8385, 'verhaengt': 8386, 'inhaftie': 8387, 'mutte': 8388, 'foseti': 8389, 'hals': 8390, 'frauaufunddavon': 8391, 'alexcwha': 8392, 'ziegenstall': 8393, 'einbaerliii': 8394, 'filmen': 8395, 'tristanteuto': 8396, 'ausschnitt': 8397, 'schnelllaufdurchlauf': 8398, 'grossa': 8399, 'maedels': 8400, 'bruellen': 8401, 'contra': 8402, 'mateta': 8403, 'respektlos': 8404, 'mainz05': 8405, 'fsvmainz05': 8406, 'bundesliga': 8407, 'nachtlos': 8408, 'spekuliere': 8409, 'karmadingsbums': 8410, 'ueberlegen': 8411, 'schiethus': 8412, 'wka': 8413, 'flaechen': 8414, 'envielfalt': 8415, 'ingen': 8416, 'mountaindream5': 8417, 'dissidentder': 8418, 'frankvanvossen': 8419, 'derjenige': 8420, 'tro': 8421, 'menno': 8422, 'erkaeltet': 8423, 'klimawandel': 8424, 'fatma': 8425, 'morgana': 8426, 'lieblingsbotschaft': 8427, 'buchlaeden': 8428, '1425833': 8429, 'mails': 8430, 'mentions': 8431, 'botaniker3': 8432, 'knuddelmon': 8433, 'christianklink4': 8434, 'plenken': 8435, 'marlboroplatin': 8436, 'flugangst': 8437, 'bammel': 8438, 'soja': 8439, 'bean': 8440, 'mood': 8441, 'schwingt': 8442, 'snacc': 8443, 'ansc': 8444, 'lufthansanews': 8445, 'vorhang': 8446, 'freiraum': 8447, 'tablet': 8448, 'halterung': 8449, 'usb': 8450, 'anschluesse': 8451, 'a321neo': 8452, 'sirius': 8453, 'cmdkrieger': 8454, 'jettekrokette': 8455, 'zahlsklaven': 8456, 'supplies': 8457, 'teuer': 8458, 'hornyturkgerman': 8459, 'kaeseberg': 8460, 'infotweet': 8461, 'melissapfs': 8462, 'frreschke': 8463, 'grapsch': 8464, 'strolch': 8465, 'sinnvollen': 8466, 'anschreiben': 8467, 'kerstinwagner': 8468, 'innovative': 8469, 'myteam': 8470, 'proudtobepa': 8471, 'giutamat': 8472, 'stolzer': 8473, 'gleich': 8474, 'zielwe': 8475, 'zumindest': 8476, 'yaoi': 8477, 'boys': 8478, 'awww': 8479, 'moser': 8480, 'uniformjacken': 8481, 'saying': 8482, 'marie0ffical': 8483, 'depressed': 8484, 'cum': 8485, 'mouth': 8486, 'lutschen': 8487, 'flugzeug': 8488, 'mit': 8489, 'tschonka': 8490, 'wohnun': 8491, 'wweshieldguy': 8492, 'ernst': 8493, 'saubern': 8494, 'kuerzlich': 8495, 'ramadanan': 8496, 'realredknight': 8497, 'mh120480': 8498, 'jagrost': 8499, 'meldemuschi': 8500, 'punktabzug': 8501, 'verstoesse': 8502, 'grasundespresso': 8503, 'altmnds': 8504, 'jasmrw': 8505, 'shampoos': 8506, 'congratulations': 8507, 'vancullo': 8508, 'vermeh': 8509, 'bienen': 8510, 'erwecken': 8511, 'auserwaehlt': 8512, 'um': 8513, 'kuenstli': 8514, '09': 8515, 'goddessyasemin': 8516, 'bewundere': 8517, 'bluejeans': 8518, 'breit': 8519, 'draussen': 8520, 'tauben': 8521, 'ah': 8522, 'narzisstische': 8523, 'egomanie': 8524, 'boris': 8525, 'verlassen': 8526, 'brigitte': 8527, 'broken': 8528, 'ueberlebende': 8529, 'wahlkampfauftakt': 8530, 'petadeutschland': 8531, 'hoehle': 8532, 'masturbation': 8533, 'l00ser': 8534, 'ykanak': 8535, 'lieferando': 8536, 'haxe': 8537, 'codingcookey': 8538, 'imao': 8539, 'mohssen': 8540, 'massarrat': 8541, 'aussenminister': 8542, 'youngca': 8543, 'ridge': 8544, 'auftrage': 8545, 'dietmarba': 8546, 'langzeitschaedigung': 8547, 'galactictimmy': 8548, 'sandmann': 8549, 'mitliest': 8550, 'binaprivat': 8551, 'kernbehinde': 8552, 'bums': 8553, 'schraube': 8554, 'ssalto': 8555, 'saftigen': 8556, 'ninchen': 8557, 'deadname': 8558, 'surkunde': 8559, 'wahrscheinlich': 8560, 'marcito2018': 8561, 'misscharlez': 8562, 'aufregt': 8563, 'mitgemeint': 8564, 'drbrandner': 8565, 'spiegelredakteure': 8566, 'verschrieben': 8567, 'finsternis': 8568, 'primevideode': 8569, 'baem': 8570, 'style': 8571, 'fleabag2': 8572, 'phoebewallerbridge': 8573, 'primevideo': 8574, 'cauldron': 8575, 'kathari37057708': 8576, 'begruesst': 8577, '32etr02': 8578, 'heuchl': 8579, 'furzkissenn': 8580, 'vetovsvictory': 8581, 'loeblich': 8582, 'packen': 8583, 'latzhosen': 8584, 'diskriminie': 8585, 'gefuehlt': 8586, 'lildidgeridoo1': 8587, 'olafwedekind': 8588, 'paedophilenpolitik': 8589, 'rbarris': 8590, 'reuterspolitics': 8591, 'abides': 8592, 'lsterne': 8593, 'nutten': 8594, 'chatarrero': 8595, 'zwirn': 8596, 'iban': 8597, 'leerzeichen': 8598, 'angeben': 8599, 'schmoren': 8600, 'dreizack': 8601, 'magnumphotos': 8602, 'susan': 8603, 'meiselas': 8604, 'wins': 8605, 'prize': 8606, 'sohrab': 8607, 'hura': 8608, 'collaborates': 8609, 'with': 8610, 'fashion': 8611, 'designer': 8612, 'kiko': 8613, 'kostadinov': 8614, 'plus': 8615, 'manuel': 8616, 'dokto': 8617, 'itelklauenden': 8618, 'erwischten': 8619, 'eidbrechenden': 8620, 'hinstellt': 8621, 'beliebteste': 8622, 'vereidigt': 8623, 'uraltes': 8624, 'postulat': 8625, 'ga': 8626, 'haniawiatrek': 8627, 'tierquaelerei': 8628, 'halal': 8629, 'tiere': 8630, 'mantelgesc1': 8631, 'anemalon19': 8632, 'funktionaerin': 8633, 'hetz': 8634, 'april': 8635, 'braunauer': 8636, 'vizebuergermeister': 8637, 'dorr': 8638, 'gestoe': 8639, 'heit': 8640, 'waffen': 8641, 'dschland': 8642, 'badets': 8643, 'nuevocanario13': 8644, 'youtube': 8645, 'buntepraesident': 8646, 'versammlugsbehoerde': 8647, 'aufraeumen': 8648, 'alex1990glubb': 8649, 'privilegie': 8650, 'taetscheln': 8651, 'leine': 8652, 'asltf': 8653, 'falschinfo': 8654, 'widerspricht': 8655, 'dunn': 8656, 'akita': 8657, 'rocky': 8658, 'syrer': 8659, 'gue': 8660, 'verpruegel': 8661, 'gossenkomiker': 8662, 'bezeichnet': 8663, 'oesterreicher': 8664, 'schnell': 8665, 'statt': 8666, 'weitaus': 8667, 'geschrittener': 8668, 'arbeits': 8669, 'privatsex': 8670, 'vonerlenbach': 8671, 'bolzandrea': 8672, 'ohnehin': 8673, 'dianekrass': 8674, 'gegenwae': 8675, 'regelrechten': 8676, 'dsarkast': 8677, 'grob': 8678, 'gehst': 8679, 'gedankengut': 8680, 'uebst': 8681, 'kri': 8682, 'schoeoeoeoeoen': 8683, 'marine': 8684, 'lepen': 8685, 'suseschmitt': 8686, 'jault': 8687, 'bas': 8688, 'ton': 8689, 'gemein': 8690, 'klagen': 8691, 'bayerns': 8692, 'grenzpolizei': 8693, 'wolfgs2': 8694, 'vergessene': 8695, 'massaker': 8696, 'aleviten': 8697, 'kayemenner': 8698, 'boogie': 8699, 'underground': 8700, 'alhanda': 8701, 'kuzeng': 8702, 'zeitlinie': 8703, 'spuelen': 8704, 'felix': 8705, 'primitiven': 8706, 'gesteinigt': 8707, 'yokuzuna': 8708, 'sumo': 8709, 'pushkick': 8710, 'luft': 8711, 'kialohq': 8712, 'lieber': 8713, 'anandahasbi': 8714, 'internetmarketing': 8715, 'subversivaktiv': 8716, 'individuum': 8717, 'russophobe': 8718, 'alfunterwegs70': 8719, 'beluegen': 8720, 'kapieren': 8721, 'attacken': 8722, 'edwin': 8723, 'iboe': 8724, 'farben': 8725, 'clowns': 8726, 'verwenden': 8727, 'suanahilt': 8728, 'anstrengend': 8729, 'sandralustig13': 8730, 'mannomann': 8731, 'verwoehnte': 8732, 'furor': 8733, 'ethischen': 8734, 'ueberhoehung': 8735, 'kernkraftzwerg': 8736, 'vernascht': 8737, 'herzenssachen': 8738, 'staube': 8739, 'gezahlte': 8740, 'zeche': 8741, 'charakterschwaeche': 8742, 'alternativlose': 8743, 'gottkanzlerin': 8744, 'sammelt': 8745, 'einwanderer': 8746, 'maloche': 8747, 'gesucht': 8748, 'zis': 8749, 'versuchter': 8750, 'tots': 8751, 'shcin': 8752, 'konfermation': 8753, 'konfirmation': 8754, 'joergschindler': 8755, 'rfd': 8756, 'getoetet': 8757, 'dankeschoen': 8758, 'tisoow': 8759, 'gefaellst': 8760, 'naiven': 8761, 'wessis': 8762, 'klimaluege': 8763, 'nachr': 8764, 'pot': 8765, 'verpixelt': 8766, 'zeitw': 8767, 'hoher': 8768, 'natascher': 8769, 'toenung': 8770, 'kurzhaltende': 8771, 'haarfarbe': 8772, 'wodojiban': 8773, 'princhillmaru9': 8774, 'pussy': 8775, 'enger': 8776, 'babe': 8777, 'fraeulein': 8778, 'tessa': 8779, 'debatten': 8780, 'voranbringen': 8781, 'breche': 8782, 'fingernaegel': 8783, 'waisyszn': 8784, 'tommy': 8785, 'mufc11': 8786, 'juicycoman': 8787, 'clearmindset': 8788, 'bredasared': 8789, 'domestizieren': 8790, 'geschweige': 8791, 'integri': 8792, 'ddcyclist': 8793, 'aufklebern': 8794, 'abc321xyblabla': 8795, 'wodurch': 8796, 'ifikat': 8797, 'erwerbe': 8798, 'zerp': 8799, 'matthiashoehn': 8800, 'diegruenen': 8801, 'schafspelz': 8802, 'mollige': 8803, 'schwanzlutscher': 8804, 'asmr': 8805, 'gangbangpornos': 8806, 'gespochen': 8807, 'paddyvomdorf': 8808, 'appt': 8809, 'flug': 8810, 'capetown': 8811, 'klo': 8812, 'steuersenkung': 8813, 'steuerversagen': 8814, 'fli': 8815, 'subventionie': 8816, 'julia': 8817, 'verlinden': 8818, 'schneckentempo': 8819, 'bureg': 8820, 'punkte': 8821, '2086': 8822, 'waermeverso': 8823, 'annakatrein': 8824, 'weltpolikerin': 8825, 'biographie': 8826, 'mutige': 8827, 'progressive': 8828, 'agenda': 8829, 'ableitet': 8830, 'psemy': 8831, 'fut': 8832, 'aerge': 8833, 'improvisie': 8834, 'nagelneuen': 8835, 'glaenzenden': 8836, 'kacheln': 8837, 'dagegen': 8838, 'lackie': 8839, 'gelblich': 8840, 'wuens': 8841, 'schulle99a': 8842, 'engel': 8843, 'laien': 8844, 'schwesig': 8845, 'mafia': 8846, 'beaurisz': 8847, 'laerm': 8848, 'kaiserstrasse': 8849, 'laeutet': 8850, 'glocken': 8851, 'fenstern': 8852, 'droehnt': 8853, 'groenemeyer': 8854, 'sachsenkrieger4': 8855, 'as': 8856, 'untrade': 8857, 'ziehst': 8858, 'conclusion': 8859, 'fritzalter1': 8860, 'abitur': 8861, 'lucabbm': 8862, 'hurnsoehnen': 8863, 'allein': 8864, 'schanz': 8865, 'depressionen': 8866}\n"
          ]
        }
      ]
    },
    {
      "cell_type": "markdown",
      "source": [
        "# encoding or sequencing\n"
      ],
      "metadata": {
        "id": "mRzlwLYqKY8k"
      }
    },
    {
      "cell_type": "code",
      "source": [
        "encoded_clean_text_stem = tok_all.texts_to_sequences(clean_text_stem)\n",
        "print(clean_text_stem[0])\n",
        "print(encoded_clean_text_stem[0])"
      ],
      "metadata": {
        "colab": {
          "base_uri": "https://localhost:8080/"
        },
        "id": "LvQYVAQ9KUa0",
        "outputId": "2c6dfa9f-efcf-4e30-db59-de3a6809f694"
      },
      "execution_count": null,
      "outputs": [
        {
          "output_type": "stream",
          "name": "stdout",
          "text": [
            "deutsche rothaarige porno reife deutsche frauen porno. deutsche politessen pornos porno deutsch inzets. \n",
            "[2, 2054, 16, 352, 2, 13, 16, 2, 2055, 88, 16, 65, 2056]\n"
          ]
        }
      ]
    },
    {
      "cell_type": "markdown",
      "source": [
        "# Pre-padding\n"
      ],
      "metadata": {
        "id": "wWorwY-hKcBK"
      }
    },
    {
      "cell_type": "code",
      "source": [
        "from keras.preprocessing import sequence\n",
        "max_length = 100\n",
        "padded_clean_text_stem = sequence.pad_sequences(encoded_clean_text_stem, maxlen=max_length, padding='pre')"
      ],
      "metadata": {
        "id": "v911ZLQqKfPi"
      },
      "execution_count": null,
      "outputs": []
    },
    {
      "cell_type": "markdown",
      "source": [
        "# Reading Test data and Pre-processing\n"
      ],
      "metadata": {
        "id": "jYqmeRiXKhu7"
      }
    },
    {
      "cell_type": "code",
      "source": [
        "data_t = pd.read_csv('/content/hasoc_de_test_gold.tsv', sep='\\t')\n",
        "pd.set_option('display.max_colwidth',150)\n",
        "data_t.head(10)\n",
        "\n"
      ],
      "metadata": {
        "colab": {
          "base_uri": "https://localhost:8080/",
          "height": 363
        },
        "id": "pLKHp4MaKhSs",
        "outputId": "3f5f8ece-2fd5-4e27-95f4-79ddcf1f7c3d"
      },
      "execution_count": null,
      "outputs": [
        {
          "output_type": "execute_result",
          "data": {
            "text/plain": [
              "         text_id  \\\n",
              "0  hasoc_de_5270   \n",
              "1  hasoc_de_5271   \n",
              "2  hasoc_de_5272   \n",
              "3  hasoc_de_5273   \n",
              "4  hasoc_de_5274   \n",
              "5  hasoc_de_5275   \n",
              "6  hasoc_de_5276   \n",
              "7  hasoc_de_5277   \n",
              "8  hasoc_de_5278   \n",
              "9  hasoc_de_5279   \n",
              "\n",
              "                                                                                                                                                    text  \\\n",
              "0  Die Grüne Intelligenz Bestie 'Eckhardt', Prangert im Ticker,  Christen,sollen nicht die Moscheen anzünden?  Scheinbar sind  nach Ansicht von Eckha...   \n",
              "1                                                                                         Das Deutschlandlied,  Sinn und Unsinn  https://t.co/BIw9k6d1mH   \n",
              "2                                                                                                                   #Eurovision  https://t.co/24T8fzUI44   \n",
              "3                 Unsere ESC Kandidatinnen haben selbst Schuld an die 0 Point vom Public,denn wer soll denn Junge Frauen mit Nutten Fingernägel  wählen!   \n",
              "4                                                                               Scheinbar bekommt Sarah's Conner's Sohn Vincent,bei Mädchen keinen Hoch!   \n",
              "5  #Bundeswehr  erst überzeugen Politische Linke,die Frau von der Gleichberechtigung,jetzt soll auch noch der Fachkräftemangel von der Frau ausgeglic...   \n",
              "6            Du bist ein Rassist,Du erhöhst Dich über andere,das ist außerdem nach dem Christlichen Glauben,einer der Todsünden! https://t.co/XPuTLAIkdC   \n",
              "7                                                                                Und genau das macht er und lässt sich Scheiden! https://t.co/4oLffHv5h1   \n",
              "8                                                    Dann wird das Konto gesperrt und Du musst wieder für fremde Leute arbeiten! https://t.co/eHckGOkKPk   \n",
              "9                                                                                                             Dann bleib Single! https://t.co/TOP0spaU01   \n",
              "\n",
              "  task_1 task_2  \n",
              "0    HOF   HATE  \n",
              "1    NOT   NONE  \n",
              "2    NOT   NONE  \n",
              "3    HOF   OFFN  \n",
              "4    HOF   OFFN  \n",
              "5    HOF   HATE  \n",
              "6    HOF   OFFN  \n",
              "7    NOT   NONE  \n",
              "8    NOT   NONE  \n",
              "9    NOT   NONE  "
            ],
            "text/html": [
              "\n",
              "  <div id=\"df-06892d43-aab8-4721-9112-9efd59e6fd40\">\n",
              "    <div class=\"colab-df-container\">\n",
              "      <div>\n",
              "<style scoped>\n",
              "    .dataframe tbody tr th:only-of-type {\n",
              "        vertical-align: middle;\n",
              "    }\n",
              "\n",
              "    .dataframe tbody tr th {\n",
              "        vertical-align: top;\n",
              "    }\n",
              "\n",
              "    .dataframe thead th {\n",
              "        text-align: right;\n",
              "    }\n",
              "</style>\n",
              "<table border=\"1\" class=\"dataframe\">\n",
              "  <thead>\n",
              "    <tr style=\"text-align: right;\">\n",
              "      <th></th>\n",
              "      <th>text_id</th>\n",
              "      <th>text</th>\n",
              "      <th>task_1</th>\n",
              "      <th>task_2</th>\n",
              "    </tr>\n",
              "  </thead>\n",
              "  <tbody>\n",
              "    <tr>\n",
              "      <th>0</th>\n",
              "      <td>hasoc_de_5270</td>\n",
              "      <td>Die Grüne Intelligenz Bestie 'Eckhardt', Prangert im Ticker,  Christen,sollen nicht die Moscheen anzünden?  Scheinbar sind  nach Ansicht von Eckha...</td>\n",
              "      <td>HOF</td>\n",
              "      <td>HATE</td>\n",
              "    </tr>\n",
              "    <tr>\n",
              "      <th>1</th>\n",
              "      <td>hasoc_de_5271</td>\n",
              "      <td>Das Deutschlandlied,  Sinn und Unsinn  https://t.co/BIw9k6d1mH</td>\n",
              "      <td>NOT</td>\n",
              "      <td>NONE</td>\n",
              "    </tr>\n",
              "    <tr>\n",
              "      <th>2</th>\n",
              "      <td>hasoc_de_5272</td>\n",
              "      <td>#Eurovision  https://t.co/24T8fzUI44</td>\n",
              "      <td>NOT</td>\n",
              "      <td>NONE</td>\n",
              "    </tr>\n",
              "    <tr>\n",
              "      <th>3</th>\n",
              "      <td>hasoc_de_5273</td>\n",
              "      <td>Unsere ESC Kandidatinnen haben selbst Schuld an die 0 Point vom Public,denn wer soll denn Junge Frauen mit Nutten Fingernägel  wählen!</td>\n",
              "      <td>HOF</td>\n",
              "      <td>OFFN</td>\n",
              "    </tr>\n",
              "    <tr>\n",
              "      <th>4</th>\n",
              "      <td>hasoc_de_5274</td>\n",
              "      <td>Scheinbar bekommt Sarah's Conner's Sohn Vincent,bei Mädchen keinen Hoch!</td>\n",
              "      <td>HOF</td>\n",
              "      <td>OFFN</td>\n",
              "    </tr>\n",
              "    <tr>\n",
              "      <th>5</th>\n",
              "      <td>hasoc_de_5275</td>\n",
              "      <td>#Bundeswehr  erst überzeugen Politische Linke,die Frau von der Gleichberechtigung,jetzt soll auch noch der Fachkräftemangel von der Frau ausgeglic...</td>\n",
              "      <td>HOF</td>\n",
              "      <td>HATE</td>\n",
              "    </tr>\n",
              "    <tr>\n",
              "      <th>6</th>\n",
              "      <td>hasoc_de_5276</td>\n",
              "      <td>Du bist ein Rassist,Du erhöhst Dich über andere,das ist außerdem nach dem Christlichen Glauben,einer der Todsünden! https://t.co/XPuTLAIkdC</td>\n",
              "      <td>HOF</td>\n",
              "      <td>OFFN</td>\n",
              "    </tr>\n",
              "    <tr>\n",
              "      <th>7</th>\n",
              "      <td>hasoc_de_5277</td>\n",
              "      <td>Und genau das macht er und lässt sich Scheiden! https://t.co/4oLffHv5h1</td>\n",
              "      <td>NOT</td>\n",
              "      <td>NONE</td>\n",
              "    </tr>\n",
              "    <tr>\n",
              "      <th>8</th>\n",
              "      <td>hasoc_de_5278</td>\n",
              "      <td>Dann wird das Konto gesperrt und Du musst wieder für fremde Leute arbeiten! https://t.co/eHckGOkKPk</td>\n",
              "      <td>NOT</td>\n",
              "      <td>NONE</td>\n",
              "    </tr>\n",
              "    <tr>\n",
              "      <th>9</th>\n",
              "      <td>hasoc_de_5279</td>\n",
              "      <td>Dann bleib Single! https://t.co/TOP0spaU01</td>\n",
              "      <td>NOT</td>\n",
              "      <td>NONE</td>\n",
              "    </tr>\n",
              "  </tbody>\n",
              "</table>\n",
              "</div>\n",
              "      <button class=\"colab-df-convert\" onclick=\"convertToInteractive('df-06892d43-aab8-4721-9112-9efd59e6fd40')\"\n",
              "              title=\"Convert this dataframe to an interactive table.\"\n",
              "              style=\"display:none;\">\n",
              "        \n",
              "  <svg xmlns=\"http://www.w3.org/2000/svg\" height=\"24px\"viewBox=\"0 0 24 24\"\n",
              "       width=\"24px\">\n",
              "    <path d=\"M0 0h24v24H0V0z\" fill=\"none\"/>\n",
              "    <path d=\"M18.56 5.44l.94 2.06.94-2.06 2.06-.94-2.06-.94-.94-2.06-.94 2.06-2.06.94zm-11 1L8.5 8.5l.94-2.06 2.06-.94-2.06-.94L8.5 2.5l-.94 2.06-2.06.94zm10 10l.94 2.06.94-2.06 2.06-.94-2.06-.94-.94-2.06-.94 2.06-2.06.94z\"/><path d=\"M17.41 7.96l-1.37-1.37c-.4-.4-.92-.59-1.43-.59-.52 0-1.04.2-1.43.59L10.3 9.45l-7.72 7.72c-.78.78-.78 2.05 0 2.83L4 21.41c.39.39.9.59 1.41.59.51 0 1.02-.2 1.41-.59l7.78-7.78 2.81-2.81c.8-.78.8-2.07 0-2.86zM5.41 20L4 18.59l7.72-7.72 1.47 1.35L5.41 20z\"/>\n",
              "  </svg>\n",
              "      </button>\n",
              "      \n",
              "  <style>\n",
              "    .colab-df-container {\n",
              "      display:flex;\n",
              "      flex-wrap:wrap;\n",
              "      gap: 12px;\n",
              "    }\n",
              "\n",
              "    .colab-df-convert {\n",
              "      background-color: #E8F0FE;\n",
              "      border: none;\n",
              "      border-radius: 50%;\n",
              "      cursor: pointer;\n",
              "      display: none;\n",
              "      fill: #1967D2;\n",
              "      height: 32px;\n",
              "      padding: 0 0 0 0;\n",
              "      width: 32px;\n",
              "    }\n",
              "\n",
              "    .colab-df-convert:hover {\n",
              "      background-color: #E2EBFA;\n",
              "      box-shadow: 0px 1px 2px rgba(60, 64, 67, 0.3), 0px 1px 3px 1px rgba(60, 64, 67, 0.15);\n",
              "      fill: #174EA6;\n",
              "    }\n",
              "\n",
              "    [theme=dark] .colab-df-convert {\n",
              "      background-color: #3B4455;\n",
              "      fill: #D2E3FC;\n",
              "    }\n",
              "\n",
              "    [theme=dark] .colab-df-convert:hover {\n",
              "      background-color: #434B5C;\n",
              "      box-shadow: 0px 1px 3px 1px rgba(0, 0, 0, 0.15);\n",
              "      filter: drop-shadow(0px 1px 2px rgba(0, 0, 0, 0.3));\n",
              "      fill: #FFFFFF;\n",
              "    }\n",
              "  </style>\n",
              "\n",
              "      <script>\n",
              "        const buttonEl =\n",
              "          document.querySelector('#df-06892d43-aab8-4721-9112-9efd59e6fd40 button.colab-df-convert');\n",
              "        buttonEl.style.display =\n",
              "          google.colab.kernel.accessAllowed ? 'block' : 'none';\n",
              "\n",
              "        async function convertToInteractive(key) {\n",
              "          const element = document.querySelector('#df-06892d43-aab8-4721-9112-9efd59e6fd40');\n",
              "          const dataTable =\n",
              "            await google.colab.kernel.invokeFunction('convertToInteractive',\n",
              "                                                     [key], {});\n",
              "          if (!dataTable) return;\n",
              "\n",
              "          const docLinkHtml = 'Like what you see? Visit the ' +\n",
              "            '<a target=\"_blank\" href=https://colab.research.google.com/notebooks/data_table.ipynb>data table notebook</a>'\n",
              "            + ' to learn more about interactive tables.';\n",
              "          element.innerHTML = '';\n",
              "          dataTable['output_type'] = 'display_data';\n",
              "          await google.colab.output.renderOutput(dataTable, element);\n",
              "          const docLink = document.createElement('div');\n",
              "          docLink.innerHTML = docLinkHtml;\n",
              "          element.appendChild(docLink);\n",
              "        }\n",
              "      </script>\n",
              "    </div>\n",
              "  </div>\n",
              "  "
            ]
          },
          "metadata": {},
          "execution_count": 27
        }
      ]
    },
    {
      "cell_type": "code",
      "source": [
        "data_t.shape"
      ],
      "metadata": {
        "colab": {
          "base_uri": "https://localhost:8080/"
        },
        "id": "QrkMiNNVKrH_",
        "outputId": "d6db6614-1636-4cc5-b90a-1892c369c8a0"
      },
      "execution_count": null,
      "outputs": [
        {
          "output_type": "execute_result",
          "data": {
            "text/plain": [
              "(850, 4)"
            ]
          },
          "metadata": {},
          "execution_count": 28
        }
      ]
    },
    {
      "cell_type": "code",
      "source": [
        "print(data_t.dtypes)"
      ],
      "metadata": {
        "colab": {
          "base_uri": "https://localhost:8080/"
        },
        "id": "MSYUUjUQKuqR",
        "outputId": "f1824cba-a814-448f-9069-613bb13608f5"
      },
      "execution_count": null,
      "outputs": [
        {
          "output_type": "stream",
          "name": "stdout",
          "text": [
            "text_id    object\n",
            "text       object\n",
            "task_1     object\n",
            "task_2     object\n",
            "dtype: object\n"
          ]
        }
      ]
    },
    {
      "cell_type": "code",
      "source": [
        "\n",
        "\n",
        "label_t = data_t['task_1']\n",
        "label_t.head()\n",
        "\n"
      ],
      "metadata": {
        "colab": {
          "base_uri": "https://localhost:8080/"
        },
        "id": "o-We4mNjKwHA",
        "outputId": "c9a7f98a-e54c-4f85-c7e2-16020500e504"
      },
      "execution_count": null,
      "outputs": [
        {
          "output_type": "execute_result",
          "data": {
            "text/plain": [
              "0    HOF\n",
              "1    NOT\n",
              "2    NOT\n",
              "3    HOF\n",
              "4    HOF\n",
              "Name: task_1, dtype: object"
            ]
          },
          "metadata": {},
          "execution_count": 31
        }
      ]
    },
    {
      "cell_type": "code",
      "source": [
        "print(label_t.value_counts())\n",
        "import matplotlib.pyplot as plt\n",
        "label_t.value_counts().plot(kind='bar', color='red')"
      ],
      "metadata": {
        "colab": {
          "base_uri": "https://localhost:8080/",
          "height": 346
        },
        "id": "EO_U9aM1Kxpa",
        "outputId": "cc3aaedb-f86c-4d35-e026-98b909d61de2"
      },
      "execution_count": null,
      "outputs": [
        {
          "output_type": "stream",
          "name": "stdout",
          "text": [
            "NOT    714\n",
            "HOF    136\n",
            "Name: task_1, dtype: int64\n"
          ]
        },
        {
          "output_type": "execute_result",
          "data": {
            "text/plain": [
              "<matplotlib.axes._subplots.AxesSubplot at 0x7f60dd4fc550>"
            ]
          },
          "metadata": {},
          "execution_count": 32
        },
        {
          "output_type": "display_data",
          "data": {
            "text/plain": [
              "<Figure size 432x288 with 1 Axes>"
            ],
            "image/png": "[encoded data removed]"
          },
          "metadata": {
            "needs_background": "light"
          }
        }
      ]
    },
    {
      "cell_type": "code",
      "source": [
        "\n",
        "\n",
        "import numpy as np\n",
        "classes_list_t = [\"HOF\",\"NOT\"]\n",
        "label_t_index = data_t['task_1'].apply(classes_list_t.index)\n",
        "final_label_t = np.asarray(label_t_index)\n",
        "print(final_label_t[:10])\n",
        "\n"
      ],
      "metadata": {
        "colab": {
          "base_uri": "https://localhost:8080/"
        },
        "id": "ckCObbaYKzZz",
        "outputId": "c1f10e45-7389-47e3-eea1-68901dbf8eb4"
      },
      "execution_count": null,
      "outputs": [
        {
          "output_type": "stream",
          "name": "stdout",
          "text": [
            "[0 1 1 0 0 0 0 1 1 1]\n"
          ]
        }
      ]
    },
    {
      "cell_type": "code",
      "source": [
        "\n",
        "\n",
        "from keras.utils.np_utils import to_categorical\n",
        "label_twoDimension_t = to_categorical(final_label_t, num_classes=2)\n",
        "\n"
      ],
      "metadata": {
        "id": "JivaT_m3K1Ww"
      },
      "execution_count": null,
      "outputs": []
    },
    {
      "cell_type": "code",
      "source": [
        "print(label_twoDimension_t[:10])"
      ],
      "metadata": {
        "colab": {
          "base_uri": "https://localhost:8080/"
        },
        "id": "U1SXNpS7K3L5",
        "outputId": "5ee0c69a-8976-426c-e6e6-becd88b5c7e2"
      },
      "execution_count": null,
      "outputs": [
        {
          "output_type": "stream",
          "name": "stdout",
          "text": [
            "[[1. 0.]\n",
            " [0. 1.]\n",
            " [0. 1.]\n",
            " [1. 0.]\n",
            " [1. 0.]\n",
            " [1. 0.]\n",
            " [1. 0.]\n",
            " [0. 1.]\n",
            " [0. 1.]\n",
            " [0. 1.]]\n"
          ]
        }
      ]
    },
    {
      "cell_type": "code",
      "source": [
        "\n",
        "\n",
        "text_t = data_t['text']\n",
        "text_t.head(10)\n",
        "\n"
      ],
      "metadata": {
        "colab": {
          "base_uri": "https://localhost:8080/"
        },
        "id": "B4ok6nElK4sb",
        "outputId": "27ff4b1e-23df-4808-bdb8-694829fa8800"
      },
      "execution_count": null,
      "outputs": [
        {
          "output_type": "execute_result",
          "data": {
            "text/plain": [
              "0    Die Grüne Intelligenz Bestie 'Eckhardt', Prangert im Ticker,  Christen,sollen nicht die Moscheen anzünden?  Scheinbar sind  nach Ansicht von Eckha...\n",
              "1                                                                                           Das Deutschlandlied,  Sinn und Unsinn  https://t.co/BIw9k6d1mH\n",
              "2                                                                                                                     #Eurovision  https://t.co/24T8fzUI44\n",
              "3                   Unsere ESC Kandidatinnen haben selbst Schuld an die 0 Point vom Public,denn wer soll denn Junge Frauen mit Nutten Fingernägel  wählen!\n",
              "4                                                                                 Scheinbar bekommt Sarah's Conner's Sohn Vincent,bei Mädchen keinen Hoch!\n",
              "5    #Bundeswehr  erst überzeugen Politische Linke,die Frau von der Gleichberechtigung,jetzt soll auch noch der Fachkräftemangel von der Frau ausgeglic...\n",
              "6              Du bist ein Rassist,Du erhöhst Dich über andere,das ist außerdem nach dem Christlichen Glauben,einer der Todsünden! https://t.co/XPuTLAIkdC\n",
              "7                                                                                  Und genau das macht er und lässt sich Scheiden! https://t.co/4oLffHv5h1\n",
              "8                                                      Dann wird das Konto gesperrt und Du musst wieder für fremde Leute arbeiten! https://t.co/eHckGOkKPk\n",
              "9                                                                                                               Dann bleib Single! https://t.co/TOP0spaU01\n",
              "Name: text, dtype: object"
            ]
          },
          "metadata": {},
          "execution_count": 37
        }
      ]
    },
    {
      "cell_type": "code",
      "source": [
        "test_wo_umlauts = text_t.apply(lambda x: remove_umlaut(x))"
      ],
      "metadata": {
        "id": "gVKigcCEY1o9"
      },
      "execution_count": null,
      "outputs": []
    },
    {
      "cell_type": "code",
      "source": [
        "\n",
        "\n",
        "import re \n",
        "\n",
        "def text_clean(text):\n",
        "    ''' Pre process and convert texts to a list of words '''\n",
        "    \n",
        "    text=text.lower()\n",
        "\n",
        "    # Clean the text\n",
        "    text = re.sub(r\"[^A-Za-z0-9^,!.\\/'+-=]\", \" \", text)\n",
        "    text = re.sub('https?://\\S+|www\\.\\S+', \"\", text)\n",
        "    text = re.sub(r\"rt\", \" \", text)\n",
        "\n",
        "    return text\n",
        "\n"
      ],
      "metadata": {
        "id": "1slTVaWDK6LP"
      },
      "execution_count": null,
      "outputs": []
    },
    {
      "cell_type": "code",
      "source": [
        "clean_text_t = test_wo_umlauts.apply(lambda x:text_clean(x))"
      ],
      "metadata": {
        "id": "P6zJo8oXK75p"
      },
      "execution_count": null,
      "outputs": []
    },
    {
      "cell_type": "code",
      "source": [
        "clean_text_t.head(10)"
      ],
      "metadata": {
        "colab": {
          "base_uri": "https://localhost:8080/"
        },
        "id": "1vIn6oXdK9ug",
        "outputId": "d7a41c5a-1ad6-4c5f-cefb-d4bd38ca2776"
      },
      "execution_count": null,
      "outputs": [
        {
          "output_type": "execute_result",
          "data": {
            "text/plain": [
              "0    die gruene intelligenz bestie 'eckhardt', prange  im ticker,  christen,sollen nicht die moscheen anzuenden   scheinbar sind  nach ansicht von eckh...\n",
              "1                                                                                                                  das deutschlandlied,  sinn und unsinn  \n",
              "2                                                                                                                                             eurovision  \n",
              "3                 unsere esc kandidatinnen haben selbst schuld an die 0 point vom public,denn wer soll denn junge frauen mit nutten fingernaegel  waehlen!\n",
              "4                                                                                scheinbar bekommt sarah's conner's sohn vincent,bei maedchen keinen hoch!\n",
              "5     bundeswehr  erst ueberzeugen politische linke,die frau von der gleichberechtigung,jetzt soll auch noch der fachkraeftemangel von der frau ausgegl...\n",
              "6                                 du bist ein rassist,du erhoehst dich ueber andere,das ist ausserdem nach dem christlichen glauben,einer der todsuenden! \n",
              "7                                                                                                        und genau das macht er und laesst sich scheiden! \n",
              "8                                                                             dann wird das konto gesper  und du musst wieder fuer fremde leute arbeiten! \n",
              "9                                                                                                                                      dann bleib single! \n",
              "Name: text, dtype: object"
            ]
          },
          "metadata": {},
          "execution_count": 41
        }
      ]
    },
    {
      "cell_type": "code",
      "source": [
        "\n",
        "\n",
        "import nltk\n",
        "from nltk.corpus import stopwords\n",
        "nltk.download('stopwords')\n",
        "def stop_words_removal(text1):\n",
        "    text1=[w for w in  text1.split(\" \")  if w not in stopwords.words('german')]\n",
        "    return \" \".join(text1)\n",
        "\n"
      ],
      "metadata": {
        "colab": {
          "base_uri": "https://localhost:8080/"
        },
        "id": "EH37JPgIK_KB",
        "outputId": "d18f96d0-e7ab-47b6-e276-9c851cb52948"
      },
      "execution_count": null,
      "outputs": [
        {
          "output_type": "stream",
          "name": "stderr",
          "text": [
            "[nltk_data] Downloading package stopwords to /root/nltk_data...\n",
            "[nltk_data]   Package stopwords is already up-to-date!\n"
          ]
        }
      ]
    },
    {
      "cell_type": "code",
      "source": [
        "clean_text_t_ns=clean_text_t.apply(lambda x: stop_words_removal(x))"
      ],
      "metadata": {
        "id": "gXxxzc59LBBX"
      },
      "execution_count": null,
      "outputs": []
    },
    {
      "cell_type": "code",
      "source": [
        "print(clean_text_t_ns.head(10))"
      ],
      "metadata": {
        "colab": {
          "base_uri": "https://localhost:8080/"
        },
        "id": "TpppvvEbLCwK",
        "outputId": "f6cdbb88-9400-4839-8ca8-8ec29d73ac2b"
      },
      "execution_count": null,
      "outputs": [
        {
          "output_type": "stream",
          "name": "stdout",
          "text": [
            "0    gruene intelligenz bestie 'eckhardt', prange  ticker,  christen,sollen moscheen anzuenden   scheinbar  ansicht eckhardt,nur christen taeter frage ...\n",
            "1                                                                                                                          deutschlandlied,  sinn unsinn  \n",
            "2                                                                                                                                             eurovision  \n",
            "3                                                              esc kandidatinnen schuld 0 point public,denn wer junge frauen nutten fingernaegel  waehlen!\n",
            "4                                                                                       scheinbar bekommt sarah's conner's sohn vincent,bei maedchen hoch!\n",
            "5     bundeswehr  erst ueberzeugen politische linke,die frau gleichberechtigung,jetzt fachkraeftemangel frau ausgeglichen womoeglich fuehrungsaufgaben,...\n",
            "6                                                                   rassist,du erhoehst ueber andere,das ausserdem christlichen glauben,einer todsuenden! \n",
            "7                                                                                                                            genau macht laesst scheiden! \n",
            "8                                                                                                         konto gesper  musst fuer fremde leute arbeiten! \n",
            "9                                                                                                                                           bleib single! \n",
            "Name: text, dtype: object\n"
          ]
        }
      ]
    },
    {
      "cell_type": "markdown",
      "source": [
        "# Stemming"
      ],
      "metadata": {
        "id": "ekQq8jY5LGLH"
      }
    },
    {
      "cell_type": "code",
      "source": [
        "# Stemming\n",
        "from nltk.stem import SnowballStemmer \n",
        "stemmer = SnowballStemmer(\"german\")\n",
        "\n",
        "def word_stemmer(text):\n",
        "    stem_text = \"\".join([stemmer.stem(i) for i in text])\n",
        "    return stem_text"
      ],
      "metadata": {
        "id": "tpl3ie1dLEH4"
      },
      "execution_count": null,
      "outputs": []
    },
    {
      "cell_type": "code",
      "source": [
        "clean_text_t_stem = clean_text_t_ns.apply(lambda x : word_stemmer(x))"
      ],
      "metadata": {
        "id": "7TziiQXoLIBA"
      },
      "execution_count": null,
      "outputs": []
    },
    {
      "cell_type": "code",
      "source": [
        "print(clean_text_t_stem.head(10))"
      ],
      "metadata": {
        "colab": {
          "base_uri": "https://localhost:8080/"
        },
        "id": "XasJI_bZLJna",
        "outputId": "06dd0cf5-d2f6-41ce-ab1a-0f1dd989fc8a"
      },
      "execution_count": null,
      "outputs": [
        {
          "output_type": "stream",
          "name": "stdout",
          "text": [
            "0    gruene intelligenz bestie 'eckhardt', prange  ticker,  christen,sollen moscheen anzuenden   scheinbar  ansicht eckhardt,nur christen taeter frage ...\n",
            "1                                                                                                                          deutschlandlied,  sinn unsinn  \n",
            "2                                                                                                                                             eurovision  \n",
            "3                                                              esc kandidatinnen schuld 0 point public,denn wer junge frauen nutten fingernaegel  waehlen!\n",
            "4                                                                                       scheinbar bekommt sarah's conner's sohn vincent,bei maedchen hoch!\n",
            "5     bundeswehr  erst ueberzeugen politische linke,die frau gleichberechtigung,jetzt fachkraeftemangel frau ausgeglichen womoeglich fuehrungsaufgaben,...\n",
            "6                                                                   rassist,du erhoehst ueber andere,das ausserdem christlichen glauben,einer todsuenden! \n",
            "7                                                                                                                            genau macht laesst scheiden! \n",
            "8                                                                                                         konto gesper  musst fuer fremde leute arbeiten! \n",
            "9                                                                                                                                           bleib single! \n",
            "Name: text, dtype: object\n"
          ]
        }
      ]
    },
    {
      "cell_type": "code",
      "source": [
        "\n",
        "\n",
        "import keras\n",
        "import tensorflow\n",
        "from keras.preprocessing.text import Tokenizer\n",
        "tok_test = Tokenizer(filters='!\"#$%&\\'()*+,-./:;<=>?@[\\\\]^_`{|}~', lower=True, char_level = False)\n",
        "tok_test.fit_on_texts(clean_text_t_stem)\n",
        "\n"
      ],
      "metadata": {
        "id": "heX7pGrELLAq"
      },
      "execution_count": null,
      "outputs": []
    },
    {
      "cell_type": "code",
      "source": [
        "\n",
        "\n",
        "vocabulary_all_test = len(tok_test.word_counts)\n",
        "print(vocabulary_all_test)\n",
        "\n"
      ],
      "metadata": {
        "colab": {
          "base_uri": "https://localhost:8080/"
        },
        "id": "i0deLjofLMxh",
        "outputId": "da007246-f5ac-4474-d0dd-55d078ac5a0b"
      },
      "execution_count": null,
      "outputs": [
        {
          "output_type": "stream",
          "name": "stdout",
          "text": [
            "5560\n"
          ]
        }
      ]
    },
    {
      "cell_type": "code",
      "source": [
        "test_list = tok_test.word_index\n",
        "print(test_list)"
      ],
      "metadata": {
        "colab": {
          "base_uri": "https://localhost:8080/"
        },
        "id": "7aNXyczTLOTE",
        "outputId": "48e5f043-804e-4dc6-df36-9e18f3fdc63c"
      },
      "execution_count": null,
      "outputs": [
        {
          "output_type": "stream",
          "name": "stdout",
          "text": [
            "{'junge': 1, 'uwe': 2, 'mdl': 3, 'fuer': 4, 'deutschland': 5, 'schon': 6, 'afd': 7, 'blondjedi': 8, 'ralf64904117': 9, 'mal': 10, 'ekelwilfred': 11, 'ja': 12, 'mehr': 13, 'amp': 14, 'e': 15, 'a': 16, '2': 17, 'merkel': 18, 'wiltewka': 19, 'akk': 20, 'die': 21, 'ueber': 22, 'alias': 23, 'o': 24, 'wer': 25, 'wilberg': 26, 'loch': 27, 'immer': 28, 'ist': 29, 'wilayawilanar': 30, 'haben': 31, 'wurde': 32, 'pa': 33, 'wilke': 34, 'land': 35, 'papa': 36, 'gibt': 37, 'menschen': 38, 'en': 39, 'd': 40, 'spd': 41, 'welt': 42, 'frau': 43, 'wuerde': 44, 'ab': 45, 'deutsche': 46, 'sind': 47, 's': 48, 'fluechtlinge': 49, 'wohl': 50, 'geht': 51, 'werden': 52, 'hat': 53, 'ei': 54, 'ganz': 55, 'kinder': 56, 'gehen': 57, 'u': 58, 'besser': 59, 'waere': 60, 'warum': 61, 'capitol': 62, 'macht': 63, 'sein': 64, 'wird': 65, 'berlin': 66, 'deutschen': 67, 'nie': 68, 'kommt': 69, 'lassen': 70, 'nicht': 71, 'migranten': 72, 'frauen': 73, 'zeit': 74, 'gut': 75, 'koennen': 76, 'geld': 77, 'wegen': 78, 'eien': 79, 'mann': 80, 'frage': 81, 'das': 82, 'natuerlich': 83, 'sagen': 84, 'muessen': 85, 'heute': 86, 'kommen': 87, 'es': 88, 'eu': 89, 'jahre': 90, 'endlich': 91, 'sollen': 92, 'sollten': 93, 'regierung': 94, 'sagt': 95, 'russland': 96, '5': 97, 'cdu': 98, 'gruenen': 99, 'chemnitz': 100, 'waehlt': 101, 'angst': 102, 'polizei': 103, 'rebecca': 104, 'linke': 105, '3': 106, 'leben': 107, 've': 108, 'an': 109, 'liebe': 110, 'einfach': 111, 'nazis': 112, 'der': 113, 'eben': 114, 'viele': 115, '000': 116, 'dafuer': 117, 'auf': 118, 'ich': 119, 'herr': 120, 'demokratie': 121, 'seit': 122, 'zurueck': 123, 'maenner': 124, 'do': 125, 'sie': 126, 'gerade': 127, 'gar': 128, 'danke': 129, 'bitte': 130, 'denen': 131, 'jahren': 132, 'sozialismus': 133, 'freiheit': 134, 'findbecci': 135, 'laender': 136, 'recht': 137, 'stegner': 138, '10': 139, 'wurden': 140, 'we': 141, '1': 142, 'darf': 143, 'bald': 144, 'wirklich': 145, 'mainwasser': 146, 'zwei': 147, 'klar': 148, 'erst': 149, 'twitter': 150, 'ach': 151, 'gewalt': 152, 'vielleicht': 153, 'richtigen': 154, 'problem': 155, 'bild': 156, 'beim': 157, 'ralf': 158, 'bzw': 159, 'bekommen': 160, 'usw': 161, 'gehoe': 162, 'via': 163, 'bessermenschen': 164, 'gruene': 165, 'taeter': 166, 'maedchen': 167, 'genau': 168, 'gute': 169, 'wollen': 170, 'politik': 171, 'ein': 172, 'so': 173, 'europa': 174, 'opfer': 175, 'tun': 176, 'staat': 177, 'b': 178, 'steht': 179, 'gerne': 180, 'sowas': 181, 'haette': 182, 'aus': 183, 'koennte': 184, 'antifa': 185, 'glauben': 186, 'leute': 187, 'na': 188, 'zahlen': 189, 'brauchen': 190, 'gruen': 191, 'unserer': 192, 'glueck': 193, 'oft': 194, 'eigentlich': 195, 'auch': 196, 'un': 197, 'kurzkommentar': 198, 'manu': 199, 'mie': 200, 'medien': 201, 'grenzen': 202, 'wann': 203, 'sicher': 204, 'ganze': 205, 'z': 206, 'jemand': 207, 'grossen': 208, 'laut': 209, 'sogar': 210, 'gab': 211, 'rot': 212, 'rentner': 213, 'gemacht': 214, 'justiz': 215, 'bekommt': 216, 'du': 217, 'arbeiten': 218, 'wenn': 219, 'strasse': 220, 'in': 221, 'jahr': 222, 'eine': 223, 'will': 224, 'waeren': 225, 'gutmenschen': 226, 'denken': 227, 'und': 228, 'vater': 229, 'halten': 230, 'deshalb': 231, 'ende': 232, 'egal': 233, 'vor': 234, 'noch': 235, 'heimat': 236, 'tweet': 237, 'finden': 238, 'verantwo': 239, 'davon': 240, 'homosexuelle': 241, 'duerfen': 242, 'meinung': 243, 'politiker': 244, 'euro': 245, 'uebrigens': 246, 'rechte': 247, 'et': 248, 'gesehen': 249, '4': 250, 'bayern': 251, 'falsch': 252, 'aussenminister': 253, 'auslaender': 254, 'fluechtling': 255, 'sei': 256, 'rechts': 257, 'geben': 258, 'traurig': 259, 'l': 260, 'sucht': 261, 'christen': 262, '2018': 263, '2015': 264, 'steuern': 265, 'fachkraefte': 266, 'bundestag': 267, 'ung': 268, 'hast': 269, 'denkt': 270, 'trotzdem': 271, 'zu': 272, 'eigenen': 273, 'dumm': 274, 'fest': 275, 'naehe': 276, 'wahrheit': 277, 'sich': 278, '7': 279, 'nein': 280, 'laendern': 281, 'blockie': 282, 'eile': 283, 'richtig': 284, 'kann': 285, 'chemiewaffen': 286, '50': 287, '12': 288, 'veru': 289, 'alle': 290, 'bleiben': 291, 'tuerkei': 292, 'frueher': 293, 'italien': 294, 'wa': 295, 'weiss': 296, 'forde': 297, 'lieber': 298, 'weg': 299, 'stehen': 300, 'deutlich': 301, 'arme': 302, 'muslime': 303, 'buerger': 304, 'offen': 305, 'schauen': 306, 'ueberhaupt': 307, 'haelt': 308, 'halt': 309, 'deutschlands': 310, 'je': 311, 'nimmt': 312, 'paar': 313, 'verfluchen': 314, 'wissen': 315, 'probleme': 316, 'ha': 317, 'frei': 318, 'asylbewerber': 319, 'maas': 320, 'fo': 321, 'idioten': 322, 'bla': 323, 'wilfuzius': 324, 'schuld': 325, 'waehlen': 326, 'politische': 327, 'wenigstens': 328, 'thema': 329, 'bundesregierung': 330, 'gelesen': 331, 'eltern': 332, 'wie': 333, 'islam': 334, 'welch': 335, 'schutz': 336, 'nach': 337, 'sowie': 338, 'allein': 339, 'statt': 340, 'rente': 341, 'mehrheit': 342, 'einstellung': 343, 'haus': 344, 'kita': 345, 'berliner': 346, 'fluechtlingen': 347, 'schwule': 348, 'fall': 349, 'wi': 350, 'ausland': 351, 'schaft': 352, 'x': 353, 'er': 354, 'worden': 355, 'voru': 356, 'letzten': 357, 'iran': 358, 'voellig': 359, 'los': 360, 'wuerden': 361, 'gericht': 362, 'zerstoe': 363, 'ungarn': 364, 'trump': 365, 'hand': 366, 'linken': 367, 'schnell': 368, 'gesellschaft': 369, 'erwa': 370, 'vielen': 371, 'selbst': 372, 'homosexualitaet': 373, 'versucht': 374, 'finde': 375, 'lang': 376, 'hirn': 377, 'deren': 378, 'bereits': 379, 'kriminelle': 380, 'klarnamen': 381, 'weniger': 382, 'offensichtlich': 383, 'polizisten': 384, 'klarnamenpflicht': 385, 'zeigt': 386, 'etc': 387, 'neuen': 388, 'laeuft': 389, 'meinungsfreiheit': 390, 'mittlerweile': 391, 'verstehen': 392, 'luegen': 393, 'zieht': 394, 'echte': 395, 'guten': 396, 'ausser': 397, 'rechtsradikalen': 398, 'bus': 399, 'kurz': 400, 'bunte': 401, 'sieht': 402, 'werbung': 403, 'tja': 404, '27': 405, 'blau': 406, 'ne': 407, 'sozis': 408, 'besseren': 409, 'volk': 410, 'faschisten': 411, 'faschismus': 412, 'haetten': 413, 'suchen': 414, 'waehler': 415, 'xyeinzelfall': 416, 'tantegerd1': 417, '6': 418, 'sagte': 419, 'nazi': 420, 'echt': 421, 'teil': 422, 'helllud123': 423, 'leider': 424, '19': 425, 'fdp': 426, 'mord': 427, 'schaut': 428, 'vergewaltigt': 429, 'lustig': 430, 'neues': 431, 'schlecht': 432, 'neue': 433, 'dabei': 434, 'merkelmussweg': 435, 'jetzt': 436, 'laesst': 437, 'gesper': 438, 'zdf': 439, 'messerattacken': 440, 'kleinen': 441, 'sozialen': 442, 'asylanten': 443, 'nehmen': 444, 'doch': 445, 'dann': 446, 'weil': 447, 'hatte': 448, 'den': 449, 'sehen': 450, 'name': 451, '24': 452, 'drei': 453, 'groesste': 454, 'besten': 455, 'familie': 456, 'feiern': 457, 'da': 458, 'dadurch': 459, 'langsam': 460, 'scheint': 461, 'durch': 462, 'phoenix': 463, 'gestern': 464, 'lanz': 465, 'traegt': 466, 'fragen': 467, 'wir': 468, 'kredite': 469, 'interesse': 470, 'eigene': 471, 'heisst': 472, 'also': 473, 'trifft': 474, 'usa': 475, 'quelle': 476, 'muss': 477, 'tagesschau': 478, 'wahrscheinlich': 479, 'stellen': 480, 'eingesetzt': 481, 'beweise': 482, 'genannt': 483, 'c': 484, 'tat': 485, 'erkennt': 486, 'eilt': 487, 'ueberlegen': 488, 'soviel': 489, 'bevoelkerung': 490, 'syrien': 491, 'arbeit': 492, 'soll': 493, 'habt': 494, 'weiter': 495, 'darueber': 496, 'zukunft': 497, 'natur': 498, 'genug': 499, 'kommentar': 500, 'bringt': 501, 'gaeste': 502, 'weder': 503, 'hauptsache': 504, 'darauf': 505, 'lange': 506, 'sicherheit': 507, 'internet': 508, 'laengst': 509, 'ahnung': 510, 'respekt': 511, 'all': 512, 'gilt': 513, 'daran': 514, 'lesen': 515, 'tausende': 516, 'islamische': 517, 'staaten': 518, 'weit': 519, 'gleich': 520, 'verdient': 521, 'bleibt': 522, 'schlaegt': 523, 'moschee': 524, 'direkt': 525, 'dresden': 526, 'is': 527, 'sachsen': 528, 'anwalt': 529, 'frank': 530, 'eher': 531, 'nennt': 532, 'herzen': 533, 'maul': 534, 'mutter': 535, 'schoen': 536, 'schwarz': 537, 'passie': 538, 'tag': 539, 'passt': 540, 'unglaublich': 541, 'altpa': 542, 'verstanden': 543, 'entscheiden': 544, 'fast': 545, 'liegt': 546, '8': 547, 'konsequent': 548, 'man': 549, 'strassen': 550, 'noafd': 551, 'katze': 552, '14': 553, 'millionen': 554, 'montag': 555, 'illner': 556, '18': 557, 'chef': 558, 'loesung': 559, 'brexit': 560, 'essen': 561, 'raus': 562, 'moechte': 563, 'patrioten': 564, 'dank': 565, 'maennern': 566, 'tv': 567, 'zuwanderung': 568, '40': 569, 'herrn': 570, 'linker': 571, '16': 572, 'trotz': 573, 'landes': 574, 'webaxvita': 575, 'damals': 576, 'schlimmer': 577, 'taeglich': 578, 'kleine': 579, 'sehe': 580, 'halb': 581, 'geworden': 582, 'ermordete': 583, 'beobachten': 584, 'ging': 585, 'hamburg': 586, 'besonders': 587, 'uhr': 588, 'schweden': 589, 'co': 590, 'verletzt': 591, 'ausgerechnet': 592, 'aberfair': 593, 'pro': 594, 'syrer': 595, 'presse': 596, 'leisten': 597, 'fckafd': 598, 'homosexuellen': 599, 'unsere': 600, 'schwer': 601, 'verlassen': 602, 'top': 603, 'lebendigen': 604, 'abi': 605, 'moscheen': 606, 'scheinbar': 607, 'fachkraeftemangel': 608, 'interessieren': 609, 'eudebate': 610, 'facebook': 611, '100': 612, 'gerufen': 613, 'arbeitgeber': 614, 'neuerdings': 615, 'spaeter': 616, 'beruf': 617, 'entsprechen': 618, 'nachgehen': 619, 'alter': 620, 'bin': 621, 'retten': 622, 'glaube': 623, 'tage': 624, 'kantholz': 625, 'boden': 626, 'niemand': 627, 'normal': 628, 'gedanken': 629, 'informie': 630, 'prost': 631, 'joachim': 632, 'wendt': 633, 'beispiel': 634, 'sondern': 635, 'weihnachten': 636, 'kam': 637, 'eh': 638, 'mut': 639, 'tief': 640, 'lage': 641, 'unterstuetzt': 642, 'war': 643, 'prof': 644, 'forum': 645, 'kostenlos': 646, 'bloed': 647, 'familien': 648, 'ehemalige': 649, 'monat': 650, 'befuerwo': 651, 'buch': 652, 'unternehmer': 653, 'banken': 654, 'finanzen': 655, 'm': 656, 'hoeher': 657, 'waren': 658, 'geschlecht': 659, 'annahme': 660, 'verbreitet': 661, 'firmen': 662, 'obwohl': 663, 'unmoeglich': 664, 'erreichen': 665, 'wahl': 666, 'gezeigt': 667, 'ansichten': 668, 'unterzeichnet': 669, 'china': 670, 'erreicht': 671, 'altes': 672, 'moeglich': 673, 'machen': 674, 'nun': 675, 'stelle': 676, 'vorher': 677, 'mitglieder': 678, 'entwickelt': 679, 'wo': 680, 'fluechten': 681, 'gefunden': 682, 'arsch': 683, 'israel': 684, 'falls': 685, 'bekannt': 686, 'sollte': 687, 'alleine': 688, 'dagegen': 689, 'jemanden': 690, 'reicht': 691, 'gefluechtet': 692, 'ihr': 693, 'behoerden': 694, 'ansonsten': 695, 'gutes': 696, 'grosse': 697, 'bestimmt': 698, 'danken': 699, 'woanders': 700, 'wenig': 701, 'welle': 702, 'ungebeten1': 703, 'gross': 704, 'gehoeren': 705, 'benehmen': 706, 'strom': 707, 'gott': 708, 'chance': 709, 'deswegen': 710, 'anonymitaet': 711, 'gg': 712, 'hetze': 713, 'bevor': 714, 'schreiben': 715, 'michel': 716, 'vollkommen': 717, 'ok': 718, 'faelle': 719, 'zeigen': 720, 'darum': 721, 'grossteil': 722, 'kultur': 723, 'ebenso': 724, 'unkontrollie': 725, 'union': 726, 'gesicht': 727, 'andersdenkende': 728, 'gold': 729, 'klimawandel': 730, 'was': 731, '75': 732, 'hin': 733, 'afrikaner': 734, 'denke': 735, 'schreien': 736, 'naiv': 737, 'sitzen': 738, 'fanden': 739, 'muell': 740, 'hoffentlich': 741, 'danach': 742, 'voll': 743, 'tod': 744, 'jeanett34822383': 745, 'weh': 746, 'sebastian': 747, 'fresse': 748, 'ex': 749, 'schuetzen': 750, 'stadt': 751, 'ganzen': 752, 'kamen': 753, 'setzen': 754, 'reichsbuerger': 755, 'geschrieben': 756, 'hilfe': 757, 'grad': 758, 'ramadan': 759, 'messer': 760, 'dicke': 761, 'wetter': 762, 'sorgt': 763, 'app': 764, 'namen': 765, 'sofo': 766, '25': 767, 'auto': 768, 'mitleid': 769, 'glyphosat': 770, 'vier': 771, 'gefahren': 772, 'obama': 773, 'zustand': 774, 'posten': 775, 'finger': 776, 'extrem': 777, 'rechtsradikale': 778, 'nazisraus': 779, 'polen': 780, 'bedeutet': 781, 'alternative': 782, 'sack': 783, 'falsche': 784, 'ziel': 785, 'rest': 786, 'hunde': 787, 'stark': 788, 'pasemann': 789, 'gruender': 790, 'csu': 791, 'bundeskanzlerin': 792, 'erklaerung': 793, 'sorge': 794, 'zuwanderer': 795, 'regierungspa': 796, 'gaehn': 797, 'meisten': 798, 'sweety': 799, '4711': 800, 'frankreich': 801, 'eil': 802, 'reisen': 803, 'morgen': 804, 'bestimmte': 805, 'richtung': 806, 'mag': 807, 'europawahl2019': 808, 'lega': 809, 'fordern': 810, 'spiegelonline': 811, 'sex': 812, 'toten': 813, 'braucht': 814, 'bruessel': 815, 'iq': 816, 'sicht': 817, 'straftat': 818, 'angegriffen': 819, 'scheisse': 820, 'einzige': 821, 'tritt': 822, 'salvini': 823, 'deutscher': 824, 'rechtsstaat': 825, 'staats': 826, 'hoechsten': 827, 'waehrend': 828, 'merken': 829, 'ichbinkoelnerin': 830, 'vorbei': 831, 'migrationspakt': 832, 'fahren': 833, 'monaten': 834, 'wollte': 835, 'gez': 836, 'jagen': 837, 'witz': 838, 'anderes': 839, 'funktionie': 840, '23': 841, 'lt': 842, 'gt': 843, 'araber': 844, 'linksradikale': 845, 'schafft': 846, 'hetzjagd': 847, 'c0109': 848, 'wirsindmehr': 849, 'links': 850, 'genauso': 851, 'wohnung': 852, 'staatsanwaltschaft': 853, 'ermordet': 854, 'minuten': 855, 'jungen': 856, 'finanzie': 857, 'zumindest': 858, 'grundrechte': 859, 'getreten': 860, 'iraner': 861, 'sarrazin': 862, 'politischen': 863, 'btw17': 864, 'kriminalitaet': 865, 'straftaten': 866, 'susanna': 867, 'roth': 868, 'offenbar': 869, 'lacht': 870, 'freien': 871, 'kleiner': 872, '57': 873, 't': 874, 'zusammen': 875, 'jamaika': 876, 'kriminell': 877, 'freut': 878, 'naechsten': 879, 'uebernehmen': 880, 'antwo': 881, 'hoelle': 882, 'anzahl': 883, 'beatrix': 884, 'vstorch': 885, 'soros': 886, 'muenchen': 887, 'haft': 888, 'jugendliche': 889, 'begrapscht': 890, 'alt': 891, 'teils': 892, 'fragt': 893, 'alles': 894, 'gretathunberg': 895, 'gesagt': 896, 'autos': 897, 'schule': 898, 'tot': 899, 'r': 900, 'ts': 901, 'whatsapp': 902, 'toll': 903, 'beides': 904, 'blabla': 905, 'extremismus': 906, 'beck': 907, 'homophobie': 908, 'schwager': 909, 'beileid': 910, 'oliver': 911, 'handy': 912, 'maedchenleben': 913, 'menschenleben': 914, 'familienleben': 915, 'gespielt': 916, 'i': 917, 'mutige': 918, 'eckhardt': 919, 'sinn': 920, 'unsinn': 921, 'denn': 922, 'sarah': 923, 'sohn': 924, 'hoch': 925, 'bundeswehr': 926, 'womoeglich': 927, 'fuehrungsaufgaben': 928, 'rassist': 929, 'christlichen': 930, 'konto': 931, 'musst': 932, '2017': 933, 'netzwerke': 934, 'erhalten': 935, 'ausbildung': 936, 'sorgen': 937, 'geringen': 938, 'flucht': 939, 'ostfriesland': 940, 'ampel': 941, 'otto': 942, 'mensch': 943, 'behandelt': 944, 'jobcenter': 945, 'preiswe': 946, 'vermittelt': 947, 'abgeschafft': 948, 'jugend': 949, 'kannst': 950, 'job': 951, 'harry': 952, 'angesagt': 953, 'aber': 954, 'heutzutage': 955, 'religionen': 956, 'erkennen': 957, 'steckt': 958, 'ruecken': 959, 'zog': 960, 'lasst': 961, 'gestalten': 962, 'neujahr': 963, 'verbunden': 964, 'fand': 965, 'stand': 966, 'finanzierung': 967, 'muetter': 968, 'beteiligt': 969, 'beamte': 970, 'demokratisch': 971, 'gewaehlt': 972, 'neid': 973, 'positive': 974, 'irgendwann': 975, 'ans': 976, 'lieben': 977, 'erfahren': 978, 'heinrich': 979, 'klein': 980, 'verloren': 981, 'plaetze': 982, 'bundesland': 983, 'schaffen': 984, 'komplett': 985, 'situation': 986, '1000': 987, '90': 988, 'erde': 989, 'alice': 990, 'erzaehlt': 991, 'algerische': 992, 'algerier': 993, 'aussage': 994, 'opcw': 995, 'expe': 996, 'duma': 997, 'zugang': 998, 'tagen': 999, 'vergeben': 1000, 'kontrolle': 1001, 'glaub': 1002, 'ehefrau': 1003, 'hiv': 1004, 'weibliche': 1005, 'entgegen': 1006, 'umgekeh': 1007, 'ezb': 1008, 'bezahlt': 1009, 'zurueckzahlen': 1010, 'groko': 1011, 'positiv': 1012, 'bevorzugt': 1013, 'weltweit': 1014, 'eur': 1015, 'hohen': 1016, 'verkauft': 1017, 'japan': 1018, '600': 1019, 'milliarden': 1020, 'gegenueber': 1021, 'verlierer': 1022, 'sparer': 1023, 'angeblich': 1024, 'liegen': 1025, 'journalist': 1026, 'wunder': 1027, 'waffen': 1028, 'drohen': 1029, 'de': 1030, 'zurueckgetreten': 1031, 'verhandlung': 1032, 'stecken': 1033, 'voller': 1034, 'anhoerung': 1035, 'zeugen': 1036, 'habe': 1037, 'belegen': 1038, 'praesentieren': 1039, 'eilen': 1040, 'voelkerrecht': 1041, 'assad': 1042, 'existieren': 1043, 'ausgesprochen': 1044, 'meist': 1045, 'statement': 1046, 'ueberheblichkeit': 1047, 'vergleich': 1048, 'bestraft': 1049, 'ersten': 1050, 'bereit': 1051, 'sprichwo': 1052, 'entscheidet': 1053, 'chemie': 1054, 'ohr': 1055, 'bomben': 1056, 'werfen': 1057, 'vs': 1058, 'verhinde': 1059, 'ergeht': 1060, 'garantiemacht': 1061, 'konvention': 1062, 'vernichtung': 1063, 'menschaffe': 1064, 'baut': 1065, 'entstehen': 1066, 'anerkannte': 1067, 'schlau': 1068, 'geringste': 1069, 'entlohnung': 1070, 'drauf': 1071, 'eindruck': 1072, 'politisch': 1073, 'wohnraum': 1074, 'plastikmuell': 1075, 'ermittelt': 1076, 'russen': 1077, 'england': 1078, 'insekten': 1079, 'lebensmittel': 1080, 'zuviel': 1081, 'landwi': 1082, 'gewinnt': 1083, 'sonne': 1084, 'kaufen': 1085, 'pruefen': 1086, 'diese': 1087, 'befreit': 1088, 'oesterreicher': 1089, 'immobilien': 1090, 'verkaufen': 1091, 'erfolgreich': 1092, 'kredit': 1093, 'targo': 1094, 'versicherung': 1095, 'city': 1096, 'kassie': 1097, 'unhcr': 1098, 'nachbarn': 1099, 'schauten': 1100, 'bangladesch': 1101, 'jagt': 1102, 'falschen': 1103, 'bmi': 1104, 'bund': 1105, 'informationen': 1106, 'ehrenamt': 1107, 'haengen': 1108, 'reden': 1109, 'tatsaechlich': 1110, 'irgendein': 1111, 'dritte': 1112, 'aufmerksamkeit': 1113, 'schenken': 1114, 'asylsuchende': 1115, 'obergrenze': 1116, 'genfer': 1117, 'schroeder': 1118, 'gleichen': 1119, 'unteren': 1120, 'regulieren': 1121, 'gegen': 1122, 'kenne': 1123, 'dazu': 1124, 'weise': 1125, 'vermutlich': 1126, 'fleissig': 1127, 'tatsache': 1128, 'ecke': 1129, 'fuehren': 1130, 'energie': 1131, 'schliesse': 1132, 'klasse': 1133, 'aende': 1134, 'problemen': 1135, 'netz': 1136, 'denkende': 1137, 'taeglichen': 1138, 'begeiste': 1139, 'vorschlag': 1140, 'ui': 1141, 'massnahme': 1142, 'bekanntlich': 1143, 'leiden': 1144, 'fressen': 1145, 'normalen': 1146, 'verkraften': 1147, 'identitaeten': 1148, 'hd': 1149, 'petition': 1150, 'veroeffentlicht': 1151, 'medizinische': 1152, 'wichtig': 1153, 'allerdings': 1154, 'gesamte': 1155, 'nix': 1156, 'holen': 1157, 'menschheit': 1158, 'anhaenger': 1159, 'ideologie': 1160, 'beantragung': 1161, 'echten': 1162, '77': 1163, 'weiteren': 1164, 'geschafft': 1165, 'verfolgen': 1166, 'groessten': 1167, 'ppcgk': 1168, 'achso': 1169, 'grundgesetz': 1170, 'vergass': 1171, 'leicht': 1172, 'gekommen': 1173, 'hauabgesetz': 1174, 'illegal': 1175, 'grenze': 1176, 'blick': 1177, 'innenstaedte': 1178, 'aufnehmen': 1179, 'muesste': 1180, 'mit': 1181, 'gleiche': 1182, 'kuehne': 1183, 'ehrlich': 1184, 'verhaftet': 1185, 'buecher': 1186, 'tnt26142414': 1187, 'ding': 1188, 'dicht': 1189, 'kirche': 1190, 'sta': 1191, 'erneut': 1192, 'nich': 1193, 'hass': 1194, 'buendnis': 1195, 'sorry': 1196, 'sprache': 1197, 'brand': 1198, 'schluessel': 1199, 'bloede': 1200, 'vorm': 1201, 'lakaien': 1202, 'erpressen': 1203, 'tut': 1204, 'paris': 1205, 'unbedingt': 1206, 'kind': 1207, 'kaum': 1208, 'interessant': 1209, 'stasi': 1210, 'brite': 1211, 'vollverschleierung': 1212, 'weissen': 1213, 'jedenfalls': 1214, 'etwa': 1215, '150': 1216, 'teilnehmer': 1217, 'treffen': 1218, 'killer': 1219, 'kevin': 1220, 'faellt': 1221, 'grundschule': 1222, 'allahu': 1223, 'akbar': 1224, 'beaarep': 1225, 'jungs': 1226, 'ehrlicher': 1227, 'einfacher': 1228, 'hose': 1229, 'luft': 1230, 'video': 1231, 'trans': 1232, 'erste': 1233, 'miro': 1234, 'wollt': 1235, 'morgens': 1236, 'hoe': 1237, 'aufs': 1238, 'legalisieren': 1239, 'gehts': 1240, 'bunga': 1241, 'sage': 1242, 'verbieten': 1243, 'loeschen': 1244, 'follower': 1245, 'verarscht': 1246, 'seh': 1247, 'nichts': 1248, 'iss': 1249, 'schoene': 1250, 'marx': 1251, 'fahrenheit': 1252, 'verbloedung': 1253, 'demnaechst': 1254, 'glaubt': 1255, 'erfunden': 1256, 'kreatur': 1257, 'davidmc978': 1258, 'kleines': 1259, 'stolz': 1260, 'lass': 1261, 'bereichern': 1262, 'gehabt': 1263, 'bereichernd': 1264, 'fuenf': 1265, 'verboten': 1266, 'al': 1267, 'einheitspa': 1268, 'pur': 1269, 'gabriel': 1270, 'bisschen': 1271, 'drogen': 1272, 'eins': 1273, 'rauen': 1274, 'referenzen': 1275, 'steuer': 1276, 'diejenigen': 1277, 'regierenden': 1278, 'diktatur': 1279, 'unterstuetzen': 1280, 'hasser': 1281, 'aufklaerung': 1282, 'deraufklaerer': 1283, 'ausrufezeichen': 1284, 'aengste': 1285, 'ieren': 1286, 'oh': 1287, 'farben': 1288, 'definitiv': 1289, 'anfangen': 1290, 'merkt': 1291, 'richtige': 1292, 'wirrkoepfe': 1293, 'gaebe': 1294, 'einige': 1295, 'kuemmern': 1296, 'loesen': 1297, 'besteht': 1298, 'afdwuergt': 1299, 'typen': 1300, 'adolfhitlerhooligans': 1301, 'sogafd': 1302, 'getan': 1303, 'sogenannten': 1304, 'prominenter': 1305, 'eindeutig': 1306, 'unfaehige': 1307, 'leuten': 1308, 'hals': 1309, 'eiprogramm': 1310, 'gedenke': 1311, 'heissen': 1312, 'tt4f': 1313, 'geteilt': 1314, 'ueberraschung': 1315, 'schlug': 1316, 'ober': 1317, 'ze': 1318, 'ruemme': 1319, 'ardmoma': 1320, 'dieter': 1321, 'bohlen': 1322, 'sah': 1323, 'laenger': 1324, 'ungefaehr': 1325, 'menge': 1326, 'inzwischen': 1327, 'foerde': 1328, 'hof': 1329, 'kapitalismus': 1330, 'alte': 1331, 'elend': 1332, 'raetsel': 1333, 'themen': 1334, 'imam': 1335, 'zweifel': 1336, 'bester': 1337, 'arabische': 1338, 'alleinerziehende': 1339, 'vaeter': 1340, 'nahezu': 1341, 'armut': 1342, 'stimmung': 1343, 'vo': 1344, 'griechenland': 1345, 'illegalen': 1346, 'achtung': 1347, 'umgehen': 1348, 'deutsch': 1349, 'journalismus': 1350, 'stimmungsmache': 1351, 'manipulation': 1352, 'uns': 1353, 'wirklichkeit': 1354, 'realitaet': 1355, 'einladung': 1356, 'stellt': 1357, 'sprueche': 1358, 'changeger': 1359, 'gesprochen': 1360, 'schweiz': 1361, 'steigerung': 1362, 'bka': 1363, 'haeufiger': 1364, 'attackie': 1365, 'grenzwe': 1366, 'muslimische': 1367, 'toetet': 1368, 'haende': 1369, 'verpflichtet': 1370, 'handeln': 1371, 'moral': 1372, 'luegenpresse': 1373, '34': 1374, 'verdoppelt': 1375, 'irgendwo': 1376, 'stimmen': 1377, 'versteht': 1378, 'religion': 1379, 'aufgrund': 1380, 'strompreise': 1381, 'dushanwegner': 1382, 'verlie': 1383, 'massiv': 1384, 'geloescht': 1385, 'schiff': 1386, 'umwelt': 1387, 'afdler': 1388, 'experiment': 1389, 'intellektuelle': 1390, 'g': 1391, '200': 1392, 'braune': 1393, 'gedacht': 1394, 'system': 1395, 'machterhalt': 1396, 'eidigen': 1397, 'machst': 1398, 'herrlich': 1399, 'aufenthalt': 1400, 'bekommst': 1401, 'ueberall': 1402, 'insbesondere': 1403, 'oeffentlich': 1404, 'rechtlich': 1405, 'jreichelt': 1406, 'totale': 1407, 'gearbeitet': 1408, 'leser': 1409, 'her': 1410, 'ruhig': 1411, 'nationale': 1412, 'asylpolitik': 1413, 'aufgenommen': 1414, 'gestorben': 1415, 'schade': 1416, 'lieb': 1417, 'sog': 1418, 'desaster': 1419, 'hoffe': 1420, 'ablenken': 1421, 'umsturz': 1422, 'ostdeutschland': 1423, 'suff': 1424, 'labern': 1425, 'fuesse': 1426, 'still': 1427, 'hopp': 1428, 'praesident': 1429, 'kanzlerin': 1430, 'bereicherung': 1431, 'verachtung': 1432, 'arbeiterpa': 1433, 'angehoerige': 1434, 'demonstrieren': 1435, 'gestrigen': 1436, 'linkes': 1437, 'afdverbot': 1438, 'jegliche': 1439, 'geh': 1440, 'haftbefehl': 1441, 'ausreisepflichtig': 1442, 'solltet': 1443, 'tipps': 1444, 'moerder': 1445, 'rumlaufen': 1446, 'asyl': 1447, 'genauer': 1448, 'justizminister': 1449, 'ig': 1450, 'linksextreme': 1451, 'wandern': 1452, 'dpolghh': 1453, 'stunden': 1454, 'peinlich': 1455, 'berichtet': 1456, 'gniffke': 1457, 'offenburg': 1458, 'duesseldorf': 1459, 'new': 1460, 'spricht': 1461, 'herz': 1462, 'anschlag': 1463, 'steuergeld': 1464, 'bewerfen': 1465, 'erhaltung': 1466, 'gebracht': 1467, 'gruppen': 1468, 'willkommen': 1469, 'personen': 1470, 'aufhalten': 1471, 'erklaeren': 1472, 'thilosarrazin': 1473, 'familiennachzug': 1474, 'kanzleramt': 1475, 'bericht': 1476, 'westlichen': 1477, 'schlichtweg': 1478, 'bazonline': 1479, 'transpo': 1480, 'bekannten': 1481, 'entwicklung': 1482, 'setzung': 1483, '853': 1484, 'nee': 1485, 'gemeinsam': 1486, 'sed': 1487, 'jaehrlich': 1488, 'gebaut': 1489, 'angeblichen': 1490, 'projekt': 1491, 'weidel': 1492, 'claudia': 1493, 'sechs': 1494, 'bt': 1495, 'faeh': 1496, 'gruppe': 1497, 'loswerden': 1498, 'permanent': 1499, 'schliessen': 1500, 'leer': 1501, 'heiko': 1502, 'schaden': 1503, 'senat': 1504, '17': 1505, 'quadratmeter': 1506, 'gang': 1507, 'gescheite': 1508, 'reagie': 1509, 'offizier': 1510, 'befinden': 1511, 'n': 1512, 'ard': 1513, 'duemmer': 1514, 'dalai': 1515, 'lama': 1516, 'rassistischen': 1517, 'aussagen': 1518, 'eingestuft': 1519, '20': 1520, 'helfen': 1521, 'afrika': 1522, 'btw': 1523, 'ruecksicht': 1524, 'taeters': 1525, 'ueberlegt': 1526, 'gruenden': 1527, 'ausnahmefaelle': 1528, 'berichten': 1529, 'wenigen': 1530, 'traudichdeutschland': 1531, 'oesterreich': 1532, 'george': 1533, 'cnn': 1534, 'behauptet': 1535, 'strauss': 1536, 'reifen': 1537, 'gefaehrder': 1538, 'indien': 1539, 'abgeschoben': 1540, 'sinne': 1541, 'money': 1542, 'sexsklaverei': 1543, 'strukturen': 1544, 'stellte': 1545, 'vergewaltigen': 1546, 'krankenhaus': 1547, 'lehnt': 1548, 'wunsch': 1549, 'sexueller': 1550, 'maennliche': 1551, 'einheimische': 1552, 'schwester': 1553, 'fahrzeug': 1554, 'garnicht': 1555, 'migrant': 1556, 'miri': 1557, 'auslaenderbehoerde': 1558, 'abschiebung': 1559, 'journalistin': 1560, 'antisemitismus': 1561, 'habeck': 1562, 'ali': 1563, 'mutmassliche': 1564, 'jaehrigen': 1565, '22': 1566, 'jaehrige': 1567, 'schueler': 1568, 'mohammed': 1569, 'schulen': 1570, 'auge': 1571, 'teheran': 1572, 'beantragt': 1573, 'auslieferung': 1574, 'anerkannter': 1575, 'todesstrafe': 1576, 'gebuesch': 1577, 'gekuesst': 1578, 'naemlich': 1579, 'programm': 1580, 'hoffen': 1581, 'attraktive': 1582, 'hetzen': 1583, 'grund': 1584, 'volksverhetzung': 1585, 'aufgedeckt': 1586, 'wuerzburg': 1587, 'fahne': 1588, 'elendig': 1589, 'mitbuerger': 1590, 'lernen': 1591, 'folgen': 1592, 'zwingen': 1593, 'demokratische': 1594, 'typ': 1595, 'sekte': 1596, 'bspw': 1597, 'vergessen': 1598, 'groessere': 1599, 'hohl': 1600, 'gefahr': 1601, 'hatten': 1602, 'sterben': 1603, 'schieben': 1604, 'sachleistungen': 1605, 'kopf': 1606, 'massenzuwanderung': 1607, 'nacht': 1608, 'wirkliche': 1609, 'verbrechen': 1610, 'lgbtq': 1611, 'krank': 1612, 'homophobe': 1613, 'islamischen': 1614, 'lesben': 1615, 'wuensch': 1616, 'aluhuete': 1617, 'zerstoeren': 1618, 'motto': 1619, 'weichen': 1620, 'gehirn': 1621, 'volker': 1622, 'freund': 1623, 'niederlande': 1624, 'reinhardswald': 1625, 'jusos': 1626, 'freundin': 1627, 'verpruegeln': 1628, 'serkan': 1629, 'spiel': 1630, 'trio': 1631, 'kopftuch': 1632, 'passen': 1633, 'weiteres': 1634, 'goldstuecke': 1635, 'ueberarbeitet': 1636, 'radikal': 1637, 'ehrenfeld': 1638, 'arabischen': 1639, 'zug': 1640, 'wem': 1641, 'freeflorian': 1642, 'haelfte': 1643, 'tipp': 1644, 'wagenknecht': 1645, 'bienen': 1646, 'sowieso': 1647, 'kragen': 1648, 'birne': 1649, 'janich': 1650, 'faschistenmuessenweg': 1651, 'nahoestlich': 1652, 'nachricht': 1653, 'gebt': 1654, 'fangt': 1655, 'verkeh': 1656, 'headline': 1657, 'gedankengut': 1658, 'legalisie': 1659, 'fehler': 1660, 'verschwindens': 1661, 'quellen': 1662, 'desto': 1663, 'quadrat': 1664, 'buntstiften': 1665, 'auszumalen': 1666, 'hab': 1667, 'komplizie': 1668, 'koerper': 1669, 'maedel': 1670, 'p': 1671, 'rentnerpa': 1672, 'bettel': 1673, 'soldaten': 1674, 'nichtmehrmeinland': 1675, 'fan': 1676, 'lebenden': 1677, 'komiker': 1678, 'ruft': 1679, 'mops': 1680, 'untauglichkeit': 1681, 'zurueckgeben': 1682, 'derwahrepraesident': 1683, 'intelligenz': 1684, 'bestie': 1685, 'prange': 1686, 'ticker': 1687, 'anzuenden': 1688, 'ansicht': 1689, 'nur': 1690, 'kommend': 1691, 'wusste': 1692, 'suender': 1693, 'deutschlandlied': 1694, 'eurovision': 1695, 'esc': 1696, 'kandidatinnen': 1697, '0': 1698, 'point': 1699, 'public': 1700, 'nutten': 1701, 'fingernaegel': 1702, 'conner': 1703, 'vincent': 1704, 'bei': 1705, 'ueberzeugen': 1706, 'gleichberechtigung': 1707, 'ausgeglichen': 1708, 'uebergeben': 1709, 'erhoehst': 1710, 'andere': 1711, 'ausserdem': 1712, 'einer': 1713, 'todsuenden': 1714, 'scheiden': 1715, 'fremde': 1716, 'bleib': 1717, 'single': 1718, '3800': 1719, '3700': 1720, 'kriminalitaetsrate': 1721, 'gesunken': 1722, 'landespolitiker': 1723, 'zugegeben': 1724, 'alg': 1725, 'sicherheitsproblem': 1726, 'steuergerechtigkeit': 1727, 'google': 1728, 'anderen': 1729, 'akquirieren': 1730, 'dienst': 1731, 'arbeitsplaetze': 1732, 'jugendarbeitslosigkeit': 1733, 'angleichung': 1734, 'harmonisierung': 1735, 'noetig': 1736, 'fuehrend': 1737, 'eulaender': 1738, 'theorie': 1739, 'abgehen': 1740, 'parallel': 1741, 'praktische': 1742, 'anbieten': 1743, 'umfang': 1744, 'huepft': 1745, 'uebergang': 1746, 'ausgangspunkt': 1747, 'elefant': 1748, 'stvo': 1749, 'besagt': 1750, 'sonst': 1751, 'rechtliche': 1752, 'konsequenzen': 1753, 'huepfend': 1754, 'abgebildet': 1755, 'befragung': 1756, 'berufe': 1757, 'taetigkeiten': 1758, 'niedrigeren': 1759, 'stundenlohn': 1760, 'wirst': 1761, 'zumutbarkeit': 1762, 'unterwirfst': 1763, 'entwe': 1764, 'garantie': 1765, 'freie': 1766, 'berufsbildung': 1767, 'einen': 1768, 'erlent': 1769, 'taetigkeit': 1770, 'findest': 1771, 'stellst': 1772, 'arbeitsvermittlung': 1773, 'verfuegung': 1774, 'test': 1775, 'ob': 1776, 'uebernommen': 1777, 'fehlt': 1778, 'schraube': 1779, 'prinz': 1780, 'wankt': 1781, 'black': 1782, 'panther': 1783, 'john': 1784, 'bercow': 1785, 'megan': 1786, 'tochter': 1787, 'herzlichen': 1788, 'glueckwunsch': 1789, 'freemynded': 1790, 'absolutistischen': 1791, 'katholizismus': 1792, 'destruktive': 1793, 'lehre': 1794, 'hinter': 1795, 'genommen': 1796, 'trotzt': 1797, 'imame': 1798, 'aufrufen': 1799, 'cgm': 1800, 'urlaub': 1801, 'niedrigsten': 1802, 'stundentariflohn': 1803, 'gewerkschaft': 1804, 'unmut': 1805, 'knueppel': 1806, 'videoaufzeichnung': 1807, 'gesprungen': 1808, 'verletzungen': 1809, 'trat': 1810, 'kleinste': 1811, 'schnauze': 1812, 'starren': 1813, 'talkrunde': 1814, 'als': 1815, 'giftschlange': 1816, 'beschwoeren': 1817, 'ueberlegungen': 1818, 'verlassend': 1819, 'doof': 1820, 'bischen': 1821, 'bestimmen': 1822, '2019': 1823, 'wuenschenzum': 1824, 'gesundheit': 1825, 'zufriedenheit': 1826, 'erfolg': 1827, 'geruhsame': 1828, 'ereignisreiche': 1829, 'erlebnisse': 1830, 'vieles': 1831, 'anregen': 1832, 'awidmannmauz': 1833, 'sowohl': 1834, 'weihnachtsfest': 1835, 'chanukka': 1836, 'zeitlicher': 1837, 'wintersonnenwende': 1838, 'galt': 1839, 'heidnisches': 1840, 'hinzu': 1841, 'verbindung': 1842, 'ausgelassenen': 1843, 'alkoholkonsum': 1844, 'wieso': 1845, 'bevoelkerungsschicht': 1846, 'elternteilzeit': 1847, 'kindergeld': 1848, 'sozialversicherungs': 1849, 'kassen': 1850, 'einzahlen': 1851, 'selbstaendige': 1852, 'millionaere': 1853, 'reiche': 1854, 'gfg': 1855, 'arbeitende': 1856, 'entlohnen': 1857, 'be': 1858, 'gewaehren': 1859, 'altersrente': 1860, 'hinaus': 1861, 'exm': 1862, 'waer': 1863, 'belastung': 1864, 'acht': 1865, 'frisst': 1866, 'seele': 1867, 'falten': 1868, 'runtergezogene': 1869, 'mundwinkel': 1870, 'guttun': 1871, 'felsen': 1872, 'vergraben': 1873, 'hervor': 1874, 'tageslicht': 1875, 'getroffen': 1876, 'wiederholt': 1877, 'antragsteller': 1878, 'aufgenommenen': 1879, 'totschlag': 1880, 'vergewaltigung': 1881, 'eines': 1882, 'angehoerigen': 1883, 'bitter': 1884, 'loewe': 1885, '158': 1886, 'cm': 1887, 'hitler': 1888, 'sargcofark': 1889, 'oeffnen': 1890, 'enttaeuscht': 1891, 'zwerg': 1892, 'blond': 1893, 'hinkte': 1894, 'gehbehinde': 1895, 'history': 1896, 'lane': 1897, 'status': 1898, 'volkspa': 1899, 'duemmpeln': 1900, 'goe': 1901, 'emaker': 1902, 'michael': 1903, 'mueller': 1904, '170': 1905, 'erstes': 1906, 'gebuehren': 1907, 'somit': 1908, 'vorreiter': 1909, 'chancengleichheit': 1910, 'ndrinfo': 1911, 'asyrer': 1912, 'interviewt': 1913, 'bedauernswe': 1914, 'dargestellt': 1915, 'zusammenfuehrung': 1916, 'gefaehrliche': 1917, 'leib': 1918, 'managerin': 1919, 'bank': 1920, 'deponie': 1921, 'lebensjahr': 1922, 'verfuegen': 1923, 'gewande': 1924, 'waescht': 1925, 'selten': 1926, 'slip': 1927, 'spuelt': 1928, 'kochgeschirr': 1929, 'urin': 1930, 'schwarzer': 1931, 'meine': 1932, 'kriminellen': 1933, 'patriarchalen': 1934, 'hintergrund': 1935, 'stammenden': 1936, 'ihre': 1937, 'logisch': 1938, 'sicherheitsgruenden': 1939, 'verweh': 1940, 'kampfgas': 1941, 'fluechtig': 1942, 'nachzuweisen': 1943, 'findet': 1944, 'troll': 1945, 'altmaier': 1946, 'gruendungsoffensive': 1947, 'kfw': 1948, 'gewinn': 1949, 'generieren': 1950, 'ausueben': 1951, 'andrezeven': 1952, 'krippmarie': 1953, 'meint': 1954, 'molath': 1955, 'arbeitete': 1956, 'bfi': 1957, 'finanzdienstleister': 1958, 'angetraute': 1959, 'umleitete': 1960, 'zeigte': 1961, 'rangige': 1962, 'involvie': 1963, 'landete': 1964, 'klapse': 1965, 'michaelako': 1966, 'chris': 1967, 'dercharlie': 1968, 'scheidenbub': 1969, 'miriamozen': 1970, 'promiskuitiv': 1971, 'notorische': 1972, 'fremdgaenger': 1973, 'hohe': 1974, 'nerfrequenz': 1975, 'heteros': 1976, 'dabeisein': 1977, 'verfuehren': 1978, 'liessen': 1979, 'hochmut': 1980, 'nullzinspolitik': 1981, 'ez': 1982, 'investoren': 1983, 'schaftlich': 1984, 'agieren': 1985, 'geneigte': 1986, 'luftkuro': 1987, 'groesster': 1988, 'warenexpo': 1989, 'industrie': 1990, 'aufwand': 1991, 'investie': 1992, 'hergestellte': 1993, 'verzollungspolitik': 1994, 'imaginaer': 1995, 'finanzexpo': 1996, 'null': 1997, 'prozent': 1998, 'verlust': 1999, 'hochzinsphase': 2000, 'lehmannkrise': 2001, 'anleger': 2002, 'umweltfreundlichen': 2003, 'yutebeutel': 2004, 'discounter': 2005, 'plastikbeutel': 2006, '135': 2007, 'benutzen': 2008, 'umweltve': 2009, 'raeglichkeit': 2010, 'plastktasche': 2011, 'gleichzukommen': 2012, 'gewusst': 2013, 'karambolage': 2014, 'mike': 2015, 'vetomaechten': 2016, 'mandat': 2017, 'psychopath': 2018, 'korruptionssumpf': 2019, 'verstrickt': 2020, 'gefaehrlicher': 2021, 'aufzuhoeren': 2022, 'putin': 2023, 'mitten': 2024, 'geaechtete': 2025, 'chemische': 2026, 'bestandteil': 2027, 'russischer': 2028, 'aussenpolitik': 2029, 'zustimmung': 2030, 'anklageeroeffnung': 2031, 'mitgliedern': 2032, 'strafgerichtshofes': 2033, 'nationen': 2034, 'ponte': 2035, 'massgebenden': 2036, 'schuldig': 2037, 'anklagt': 2038, 'anklage': 2039, 'eige': 2040, 'logik': 2041, 'pontes': 2042, 'schluessig': 2043, 'gefolte': 2044, 'gruende': 2045, 'ruecktritts': 2046, 'nochmal': 2047, 'post': 2048, 'poste': 2049, 'gespickt': 2050, 'jahrelang': 2051, 'chefanklaegerin': 2052, 'ponti': 2053, 'stichhaltige': 2054, 'gerechtere': 2055, 'ausmass': 2056, 'hoechststrafe': 2057, 'hehler': 2058, 'chemieeinsatz': 2059, 'gewesen': 2060, 'warnung': 2061, 'unterzeichnen': 2062, 'lebst': 2063, 'indizien': 2064, 'prozesse': 2065, 'richter': 2066, 'stell': 2067, 'gerichtshof': 2068, 'einsaetze': 2069, 'vetos': 2070, 'aenderung': 2071, 'ahndung': 2072, 'wolfgangnitzsc1': 2073, 'hessenschwabe': 2074, 'lawyerberlin': 2075, 'clydevpg': 2076, 'dein': 2077, 'gottes': 2078, 'richtet': 2079, 'vereinba': 2080, 'raege': 2081, 'andauernder': 2082, 'kampf': 2083, 'moegliches': 2084, 'echo2018': 2085, 'auszeichnung': 2086, 'schande': 2087, 'uebrigbleiben': 2088, 'konventionell': 2089, 'russlands': 2090, 'militaerausgaben': 2091, 'resulotionen': 2092, 'selbstmitleid': 2093, 'sicherheitsrat': 2094, 'zur': 2095, 'einsetzung': 2096, 'voelliger': 2097, 'unterzeichnetrussland': 2098, 'lauro': 2099, 'doc': 2100, 'wirft': 2101, 'gas': 2102, 'setzt': 2103, 'nachgefragt': 2104, 'erobern': 2105, 'nation': 2106, 'begehrlichkeiten': 2107, 'fluechtenden': 2108, 'praekere': 2109, 'geringfuegig': 2110, 'bezahlte': 2111, 'ausbeuten': 2112, 'abruestung': 2113, 'anstalt': 2114, 'gewehrlaeufen': 2115, 'abwasserrohre': 2116, 'scheissen': 2117, 'hessenbursche': 2118, 'rasieren': 2119, 'monarchist': 2120, 'fehlen': 2121, 'hoher': 2122, 'gelockt': 2123, 'ungarischen': 2124, 'preisniveau': 2125, 'journal': 2126, 'meeren': 2127, 'unsorgfaelltige': 2128, 'trennung': 2129, 'bio': 2130, 'muelltonnen': 2131, 'biotonnen': 2132, 'forschungsgruppe': 2133, 'biomuell': 2134, 'geschridde': 2135, 'wrd': 2136, 'landet': 2137, 'tonnenweise': 2138, 'meer': 2139, 'oligarchen': 2140, 'enteignet': 2141, 'gebunke': 2142, 'arm': 2143, 'russische': 2144, 'konten': 2145, 'anerkannt': 2146, 'aussterben': 2147, 'unkrautvernichtungsmittel': 2148, 'kakerlakenesser': 2149, 'gewoehnen': 2150, 'abschaffung': 2151, 'plastikverpackungen': 2152, 'obst': 2153, 'gemuese': 2154, 'jede': 2155, 'ware': 2156, 'wischen': 2157, 'dreimal': 2158, 'allah': 2159, 'akbars': 2160, 'mohamed': 2161, 'prophet': 2162, 'allahs': 2163, 'kirchensteuer': 2164, 'tuerken': 2165, 'wien': 2166, 'lagen': 2167, 'moslems': 2168, 'eingearbeitet': 2169, 'personalkosten': 2170, 'senken': 2171, 'fusionieren': 2172, 'mieten': 2173, 'steigern': 2174, 'mieter': 2175, 'aufkaufen': 2176, 'gewinnbringend': 2177, 'scheinfirmen': 2178, 'insolvenz': 2179, 'kreditausfall': 2180, 'teurer': 2181, 'zins': 2182, 'boni': 2183, '16250': 2184, 'lebende': 2185, 'afrikanische': 2186, 'kanada': 2187, 'umgesiedelt': 2188, 'geeinigt': 2189, 'finanzministerium': 2190, 'laenderfinanzausgleich': 2191, 'la': 2192, 'vorsicht': 2193, 'roma': 2194, 'bande': 2195, 'heiligabend': 2196, 'verbringen': 2197, 'moechtest': 2198, 'melde': 2199, 'leistet': 2200, 'anbietet': 2201, 'witte': 2202, 'followerpower': 2203, 'eten': 2204, 'pornofilme': 2205, 'incl': 2206, 'meiner': 2207, 'ungsvoll': 2208, 'zdfmarkuslanz': 2209, 'bringst': 2210, 'rohingyars': 2211, 'miramar': 2212, 'herkunftsland': 2213, 'zurueckgeschickt': 2214, 'rechtens': 2215, 'hasen': 2216, 'aktive': 2217, 'selbsthilfegruppe': 2218, 'schwerbehinde': 2219, 'benoetigten': 2220, 'erhaelt': 2221, 'zustehen': 2222, 'informations': 2223, 'beratungspflicht': 2224, 'kaumzuglauben': 2225, 'soziale': 2226, 'erfahrung': 2227, 'staatliche': 2228, 'pflichtaufgaben': 2229, 'wirsindehrenamt': 2230, 'glocke': 2231, 'zugehoe': 2232, 'bewirken': 2233, 'zurueckzieht': 2234, 'ehrenamtlichen': 2235, 'zusammenbrechen': 2236, 'bundesverdienstkreuz': 2237, 'verliehen': 2238, 'praemie': 2239, 'verschwenden': 2240, 'blumen': 2241, 'maybritillner': 2242, 'popkultur': 2243, 'ferrari': 2244, 'ephon': 2245, 'weltreisen': 2246, 'etablissement': 2247, 'ueberdruckventil': 2248, 'bevoelkerungszuwachs': 2249, 'bremsen': 2250, 'liebenswe': 2251, 'normaler': 2252, 'lebensfuehrung': 2253, 'schrille': 2254, 'zaehle': 2255, 'gestoe': 2256, 'exhibitionisten': 2257, 'oeffentlichkeit': 2258, 'abstossend': 2259, 'anordnen': 2260, 'regenerativen': 2261, 'stromerzeugern': 2262, 'genutzt': 2263, 'idealer': 2264, 'winter': 2265, 'heilige': 2266, 'geist': 2267, 'zieh': 2268, 'rein': 2269, 'islamanhaenger': 2270, 'atheisten': 2271, 'regnen': 2272, 'schirme': 2273, 'aufgespannt': 2274, 'wahr': 2275, 'vermeintlich': 2276, 'tugendhaften': 2277, 'leichter': 2278, 'gedoxt': 2279, 'einzig': 2280, 'mehrfachaccounts': 2281, 'nutzer': 2282, 'stalken': 2283, 'geblockt': 2284, 'beweist': 2285, 'nazimethoden': 2286, 'michaela': 2287, 'bogner': 2288, 'risiken': 2289, 'merkelgaeste': 2290, 'ungestraft': 2291, 'klarnahmenpflicht': 2292, 'eingefueh': 2293, 'paragraph': 2294, 'papier': 2295, 'hausdurchsuchungen': 2296, 'schikanen': 2297, 'routine': 2298, 'willigender': 2299, 'punkt': 2300, 'blonde': 2301, 'jedis': 2302, 'pflicht': 2303, 'nachvollziehbar': 2304, 'guter': 2305, 'ausreisepflicht': 2306, 'dummen': 2307, 'spruechen': 2308, 'intellektuell': 2309, 'maximal': 2310, 'armselig': 2311, 'kennen': 2312, 'irgendwie': 2313, 'spaetestens': 2314, 'beitraege': 2315, 'soziales': 2316, 'erhoeht': 2317, 'absehbar': 2318, 'steigender': 2319, 'arbeitslosigkeit': 2320, 'begreift': 2321, 'dauern': 2322, 'schliesslich': 2323, 'heisse': 2324, 'fox': 2325, 'mulder': 2326, 'bezweifeln': 2327, 'wohnungsmangel': 2328, 'containern': 2329, 'mordopfer': 2330, 'nerkelgaeste': 2331, 'schichtzeiten': 2332, 'bur': 2333, '48': 2334, 'naehme': 2335, 'dierichtigenfragen': 2336, 'asylbetrug': 2337, 'vpn': 2338, 'paesse': 2339, 'bellagropp': 2340, 'altersueberpruefung': 2341, 'zuwanderern': 2342, 'durchgefueh': 2343, 'nachdem': 2344, 'gepostet': 2345, 'physisch': 2346, 'angegangen': 2347, 'einzelnen': 2348, 'garantieren': 2349, 'tinimaus1110': 2350, 'gesetzlich': 2351, 'geregelt': 2352, 'sche': 2353, 'politkriminellengesocks': 2354, 'dreck': 2355, 'merkelregime': 2356, 'oben': 2357, 'abschaum': 2358, 'erziehung': 2359, 'wirren': 2360, 'pp': 2361, 'miesesten': 2362, 'optik': 2363, 'gesegnet': 2364, 'fun': 2365, 'fact': 2366, 'reisepasses': 2367, 'fingerabdruecke': 2368, 'hinterlassen': 2369, 'nebelgranate': 2370, 'abzulenken': 2371, 'niemehrcdu': 2372, 'verfassungswidrig': 2373, 'sarkasmus': 2374, 'heucheln': 2375, 'germany': 2376, 'redpill': 2377, 'doofen': 2378, 'ivm': 2379, 'netzdg': 2380, 'klingt': 2381, 'aushoehlung': 2382, 'masseneinwanderung': 2383, 'erinnern': 2384, 'freundliches': 2385, 'einschuechtern': 2386, 'gelegt': 2387, 'platinmenschen': 2388, 'schlaues': 2389, 'vergeblich': 2390, 'demografie': 2391, 'menschlichkeit': 2392, 'unterstreichen': 2393, 'maechtig': 2394, 'sender': 2395, 'uhrzeiten': 2396, 'husten': 2397, 'schwierig': 2398, 'julia': 2399, 'fuehlt': 2400, 'traditionen': 2401, 'braeuchen': 2402, 'mode': 2403, 'gutscheine': 2404, 'bargeld': 2405, 'kilometer': 2406, 'hierher': 2407, 'sozialamt': 2408, 'gem': 2409, '16a': 2410, 'asylrecht': 2411, 'lebenslange': 2412, 'spaet': 2413, 'genuegt': 2414, 'betreffenden': 2415, 'kassieren': 2416, 'fliesst': 2417, 'grunde': 2418, 'mich': 2419, 'koennten': 2420, 'glaubensbrueder': 2421, 'liebevoll': 2422, 'laatschen': 2423, 'mittelmeer': 2424, 'problen': 2425, 'geloest': 2426, 'friedlich': 2427, 'schreier': 2428, 'migrationshintergrund': 2429, 'migratinshintergrund': 2430, 'brot': 2431, 'ab19868': 2432, 'dummichel': 2433, 'geschnappte': 2434, 'tunesier': 2435, 'grundlos': 2436, 'musel': 2437, 'opferstatus': 2438, 'bedaure': 2439, 'verraten': 2440, 'reinpassen': 2441, 'sero': 2442, 'sammelstelle': 2443, 'klemptner': 2444, 'schuhe': 2445, 'arbeitsschutz': 2446, 'bissl': 2447, 'unheimliches': 2448, 'thriller': 2449, 'tangofranz': 2450, 'roemisch': 2451, 'katholische': 2452, '21': 2453, 'jahrhunde': 2454, 'mglw': 2455, 'christianisierung': 2456, 'abendlandes': 2457, 'fazit': 2458, 'nuescht': 2459, 'jenauet': 2460, 'wees': 2461, 'ma': 2462, 'fragenueberfragen': 2463, 'umgebung': 2464, 'klobuerste': 2465, 'appetitlich': 2466, 'verstopft': 2467, 'klo': 2468, 'schmeissen': 2469, 'nazies': 2470, 'kannten': 2471, 'toiletten': 2472, 'spirale': 2473, 'steinwurf': 2474, 'zwickauer': 2475, 'zwigge': 2476, 'enden': 2477, 'folks': 2478, 'haufen': 2479, 'auspinkeln': 2480, 'elter1land': 2481, 'elter2sprache': 2482, 'beleidigung': 2483, 'kennedy': 2484, 'hoffnung': 2485, 'allesamt': 2486, 'wirds': 2487, 'extinction': 2488, 'sprachlos': 2489, 'wegwerfen': 2490, 'umweltschaedlich': 2491, 'narzisstischen': 2492, 'hysterie': 2493, 'versuchen': 2494, 'fettmonster': 2495, 'bundestags': 2496, 'zwangspolitik': 2497, 'warnen': 2498, 'nirgendwo': 2499, 'wahn': 2500, 'extremistisch': 2501, 'gelebt': 2502, 'gewarnt': 2503, 'promis': 2504, 'stigmatisieren': 2505, 'wippel': 2506, 'oberbuergermeister': 2507, 'saehen': 2508, 'wahlen': 2509, 'lutscher': 2510, 'wohnt': 2511, 'barcelona': 2512, 'teuersten': 2513, 'wohngegenden': 2514, 'goerlitz': 2515, 'king': 2516, 'abode': 2517, 'neubuerger': 2518, 'sagenhaft': 2519, '345': 2520, 'anklagen': 2521, 'endgueltig': 2522, 'strunzenddummheit': 2523, 'eiltes': 2524, 'nen': 2525, 'ehren': 2526, 'dokto': 2527, 'itel': 2528, 'toppen': 2529, 'massnahmen': 2530, 'frisches': 2531, 'arabisches': 2532, 'frischleisch': 2533, 'beschafft': 2534, 'sache': 2535, 'zenker': 2536, 'eidigt': 2537, 'bekannter': 2538, 'hannig': 2539, 'kader': 2540, 'pegida': 2541, 'mutig': 2542, 'durchgestochenen': 2543, 'haftbefehls': 2544, 'uebernutzung': 2545, 'feste': 2546, 'gestattet': 2547, 'buhuuuuuuuuuuuuuu': 2548, 'versteh': 2549, 'betonung': 2550, 'weisser': 2551, 'hautfarbe': 2552, 'englaender': 2553, 'rachitisch': 2554, 'eiscremeverkaeuferin': 2555, 'halal': 2556, 'fleischer': 2557, '2011': 2558, 'offiziellem': 2559, 'census': 2560, '4033': 2561, 'einwohner': 2562, 'eigener': 2563, 'briten': 2564, 'bedient': 2565, 'schuelerinnen': 2566, 'schuelern': 2567, 'vorangegangenen': 2568, 'zeichen': 2569, 'totaler': 2570, 'klimabeschiss': 2571, 'verschwulung': 2572, 'gefuellt': 2573, 'schokopaste': 2574, 'nestle': 2575, 'qualitaet': 2576, 'quantitaet': 2577, 'geplant': 2578, 'strammen': 2579, 'rechnung': 2580, 'regierungsdirektor': 2581, 'vorgesetzt': 2582, 'einlade': 2583, 'buffet': 2584, 'friesenjens': 2585, 'grundschueler': 2586, 'text': 2587, 'absinth': 2588, 'zuknallen': 2589, 'schoenheit': 2590, 'entsprechender': 2591, 'gelassen': 2592, 'hats': 2593, 'gedaue': 2594, 'erschreckend': 2595, 'soviele': 2596, 'rad': 2597, 'hauptbahnhof': 2598, 'fastenbrechens': 2599, 'froehlich': 2600, 'riefen': 2601, 'feierlichkeiten': 2602, 'unsaegliche': 2603, 'polizeigewalt': 2604, 'rasch': 2605, 'beendet': 2606, 'verhafteten': 2607, 'muslim': 2608, 'selbstve': 2609, 'eidigung': 2610, 'mitfuehren': 2611, 'sma': 2612, 'guys': 2613, 'lebensqualitaet': 2614, 'enjoy': 2615, 'aldi': 2616, 'umpacken': 2617, 'och': 2618, 'lauter': 2619, 'drinnen': 2620, 'abgreifen': 2621, 'mitgenommen': 2622, 'phantasie': 2623, 'vorgaben': 2624, 'taeterprofil': 2625, 'frame': 2626, 'dingens': 2627, 'etlichen': 2628, 'testosteron': 2629, 'behandung': 2630, 'ba': 2631, 'spriesst': 2632, 'morgenkaffee': 2633, 'versaut': 2634, 'bae': 2635, 'chen': 2636, 'stimmt': 2637, 'kahane': 2638, 'spezialist': 2639, 'denunzieren': 2640, 'offenes': 2641, 'verkommt': 2642, 'geschaeftsmodell': 2643, 'vermarktet': 2644, 'dienstleiterinnen': 2645, 'medienverkehr': 2646, 'egon': 2647, 'dorge': 2648, 'bahnhof': 2649, 'ffm': 2650, 'dutzende': 2651, 'schlappen': 2652, 'irgendwelche': 2653, 'taschen': 2654, 'mappen': 2655, 'aehnlichem': 2656, 'strategischen': 2657, 'ecken': 2658, 'lungern': 2659, 'lieferung': 2660, 'wettbuero': 2661, 'aufmacht': 2662, 'fcmmicha1': 2663, 'schoener': 2664, 'stuermen': 2665, 'amt': 2666, 'inzest': 2667, 'strafverfolgung': 2668, 'schwingt': 2669, 'keule': 2670, 'bestfollower': 2671, 'anmelden': 2672, 'versendet': 2673, 'wiederum': 2674, 'pms': 2675, 'loesche': 2676, 'schepperle': 2677, 'sheelockmaier': 2678, 'mio': 2679, 'hahren': 2680, 'wahnsinn': 2681, 'h': 2682, 'windenergie': 2683, 'schwarzen': 2684, 'naechtens': 2685, 'gewuenschten': 2686, 'geltung': 2687, 'licht': 2688, 'attraktiver': 2689, 'landschaften': 2690, 'anerkanntes': 2691, 'hochseepatent': 2692, 'beszeichnungen': 2693, 'kapitaen': 2694, 'amtsanmassungen': 2695, 'gelegenheit': 2696, 'treten': 2697, 'sozentante': 2698, 'barbara': 2699, 'ludwig': 2700, 'fass': 2701, 'islamisierung': 2702, 'karl': 2703, 'gluehen': 2704, 'joker19663': 2705, 'temperaturen': 2706, 'gaaaanz': 2707, 'angezeigt': 2708, '78': 2709, 'celsius': 2710, 'therealjoe': 2711, '1958': 2712, 'hinschaut': 2713, 'schiessen': 2714, 'flammen': 2715, 'roten': 2716, 'bereichen': 2717, 'hochgradig': 2718, 'wissenschaftliches': 2719, 'hier': 2720, 'beliebige': 2721, 'wunschdenken': 2722, 'vergleichen': 2723, 'einzelne': 2724, 'wetterfluktuationen': 2725, 'massstab': 2726, 'hernehmen': 2727, 'skalierung': 2728, 'kannste': 2729, 'nirgends': 2730, 'hinlassen': 2731, 'sau': 2732, 'dass': 2733, 'daimler': 2734, 'benz': 2735, 'betrachtet': 2736, 'windrad': 2737, 'von': 2738, 'drehen': 2739, 'hexe': 2740, 'erweitern': 2741, 'nazigeld': 2742, 'allea': 2743, 'bezahler': 2744, 'noenoenoe': 2745, 'gier': 2746, 'groesser': 2747, 'verstand': 2748, 'dummheit': 2749, 'zumal': 2750, 'genuegend': 2751, 'warnungen': 2752, 'guti': 2753, 'pech': 2754, 'blacklabel': 2755, '76': 2756, 'noeoe': 2757, 'wollten': 2758, 'bescherung': 2759, 'silviaherrmann': 2760, 'sitzung': 2761, 'gemaess': 2762, 'gemeinsamen': 2763, 'antrag': 2764, 'gibts': 2765, 'foto': 2766, 'kiesinger': 2767, 'filbinger': 2768, 'vorwae': 2769, 'sozialistischen': 2770, 'spoiler': 2771, 'blackrock': 2772, 'friedrich': 2773, 'gluecklose': 2774, 'saarlaenderin': 2775, 'erz': 2776, 'kaeme': 2777, 'bluemchenkaffee': 2778, 'faende': 2779, 'verzweiflung': 2780, 'selbstfuehrende': 2781, 'dominosteine': 2782, 'oterhasi': 2783, 'spekulatius': 2784, 'gesichtet': 2785, 'letzter': 2786, 'ideen': 2787, 'olaf': 2788, 'sozialdemokratischer': 2789, 'verschenken': 2790, 'wohlfah': 2791, 'sstaat': 2792, 'offene': 2793, 'inkompatibel': 2794, 'daenischen': 2795, 'gewinnen': 2796, 'zweimal': 2797, 'runden': 2798, 'bier': 2799, 'doppelt': 2800, 'klump': 2801, 'groesseres': 2802, 'anve': 2803, 'beste': 2804, 'junker': 2805, 'wuerdig': 2806, 'fahrerinnen': 2807, 'dontdrinkanddrive': 2808, 'aufrechterhaltung': 2809, 'schwache': 2810, 'persoenlichkeiten': 2811, 'geradezu': 2812, 'falle': 2813, 'geraten': 2814, 'wilal': 2815, 'wilatuerk': 2816, 'gib': 2817, 'videos': 2818, 'influencer': 2819, 'energieumwandlungssatz': 2820, 'physik': 2821, 'elektronik': 2822, 'maedels': 2823, 'regel': 2824, 'sehr': 2825, 'molekuelschwingung': 2826, 'energieerhaltungssatz': 2827, 'bushs': 2828, 'nachfolger': 2829, 'ete': 2830, 'gesetz': 2831, 'grenzschutz': 2832, 'kontinuierlich': 2833, 'ausgebaut': 2834, 'apropos': 2835, 'mauer': 2836, 'jasinna': 2837, 'getrunken': 2838, 'wirres': 2839, 'zeug': 2840, 'entipp': 2841, 'fehlende': 2842, 'argumente': 2843, 'sichtbar': 2844, 'hasardeure': 2845, 'juengelchen': 2846, 'kolpo': 2847, 'eisenbahn': 2848, 'gewette': 2849, 'ihren': 2850, 'gefaelligst': 2851, 'brennstoffzelle': 2852, 'umweltschaedigende': 2853, 'lithium': 2854, 'akkumulator': 2855, 'ebenfalls': 2856, 'leistungsschwach': 2857, 'teuer': 2858, 'steuerzahler': 2859, 'alternativen': 2860, 'endlichen': 2861, 'rohstoff': 2862, 'erdoel': 2863, 'erfahrungen': 2864, 'bvb': 2865, 'staedte': 2866, 'profitieren': 2867, 'mittag': 2868, 'verfassungsfeinde': 2869, 'ihnen': 2870, 'alao': 2871, 'bauernopfer': 2872, 'solchen': 2873, 'spruch': 2874, 'haengt': 2875, 'laufen': 2876, 'rauswerfen': 2877, 'gezogen': 2878, 'glaubwuerdig': 2879, 'naziheucheln': 2880, 'leistungen': 2881, 'wehrmacht': 2882, 'unredliches': 2883, 'kleinere': 2884, 'exekutionen': 2885, 'zivilisten': 2886, 'beachtung': 2887, 'kommissarbefehls': 2888, 'verstossenden': 2889, 'ueberfall': 2890, '9': 2891, '39': 2892, 'mist': 2893, 'erzaehlen': 2894, 'niemals': 2895, 'verzeihen': 2896, 'weisst': 2897, 'mimimimi': 2898, 'noble': 2899, 'lars': 2900, 'mollekuel': 2901, 'geil': 2902, 'oekofaschisten': 2903, 'widerlichen': 2904, 'ddr': 2905, 'bestehend': 2906, 'wendeverlierern': 2907, 'altkommunisten': 2908, 'bremen': 2909, 'herb': 2910, 'freising': 2911, 'linksverwir': 2912, 'nachfahren': 2913, 'ihresgleichen': 2914, 'zugelassen': 2915, 'langweilen': 2916, 'kommentaren': 2917, 'nazipack': 2918, 'regierungsverantwo': 2919, 'marxismus': 2920, 'krebs': 2921, 'stillstand': 2922, 'nationalismus': 2923, 'umweltverschmutzung': 2924, 'kleingeisterei': 2925, 'abgehalfte': 2926, 'veraenderungen': 2927, 'loriotfehlt': 2928, 'wandel': 2929, 'klimapolitik': 2930, 'stumpfsinnige': 2931, 'klimaleugnerei': 2932, 'gehn': 2933, 'ueberalles': 2934, 'geliebter': 2935, 'bundeskanzler': 2936, 'wiedervereinigungs': 2937, 'inniator': 2938, 'verstorben': 2939, 'lebensleistung': 2940, 'tradition': 2941, 'mittagstemperaturen': 2942, 'verlegen': 2943, 'italiener': 2944, 'familienaktivitaeten': 2945, 'abend': 2946, 'dachschaden': 2947, 'tages': 2948, 'scarfaceqbc': 2949, 'vanessanut20202': 2950, 'mgwv1oo': 2951, 'vinberger1': 2952, 'kleinslag': 2953, 'ahmad': 2954, 'haif': 2955, 'loversseifie': 2956, 'bleuannrn': 2957, 'exploradoryanez': 2958, 'elite1': 2959, 'link': 2960, 'vaterschaftsurlaub': 2961, 'beantragen': 2962, 'schrecken': 2963, 'dauerschrecken': 2964, 'schulz': 2965, 'schreiende': 2966, 'vorgeladen': 2967, 'versuchten': 2968, 'mordes': 2969, 'paarmal': 2970, 'kieferbruch': 2971, 'nasenbein': 2972, 'anbaggerin': 2973, 'riss': 2974, 'hemd': 2975, 'fetzen': 2976, 'kidnappen': 2977, 'entzug': 2978, 'ruege': 2979, 'neulich': 2980, 'abgearbeiteter': 2981, 'maurer': 2982, 'face': 2983, 'gestrafft': 2984, 'schoenheitsveraenderungen': 2985, 'durchdacht': 2986, 'sultan': 2987, 'androht': 2988, 'villa': 2989, 'arbeitgeberchef': 2990, 'ingo': 2991, 'kramer': 2992, 'verlangt': 2993, '2030': 2994, 'minarette': 2995, 'super': 2996, 'kapitalisten': 2997, 'schont': 2998, 'mammon': 2999, 'wohin': 3000, 'damit': 3001, 'nachfrage': 3002, 'regelt': 3003, 'bereiten': 3004, 'argument': 3005, 'braeuchten': 3006, 'polarisation': 3007, 'scheidungsursache': 3008, 'vergewaltigungen': 3009, 'abschaffen': 3010, 'vernunft': 3011, 'letztendlich': 3012, 'uebrig': 3013, 'traeume': 3014, 'gegangen': 3015, 'diktaturen': 3016, 'waffenhandel': 3017, 'nahrungsmittelindustrie': 3018, 'ebnet': 3019, 'ungehinde': 3020, 'ausbeutung': 3021, 'regie': 3022, 'ermoeglicht': 3023, 'konzernen': 3024, 'ungezuegelten': 3025, 'fischfangflotten': 3026, 'ostafrika': 3027, 'dresdner': 3028, 'demonstration': 3029, 'vereint': 3030, 'platzhaltende': 3031, 'abscheu': 3032, 'kund': 3033, 'renten': 3034, 'diskussion': 3035, 'taeuschen': 3036, 'mobilisieren': 3037, 'rentendiskusion': 3038, 'vorgeschoben': 3039, 'bezuschusst': 3040, 'schlimmeres': 3041, 'kinderarmut': 3042, 'verursacht': 3043, 'iv': 3044, 'wohltaeter': 3045, 'taeuscher': 3046, 'versicherungspflichtig': 3047, 'selbstaendig': 3048, '13': 3049, 'alleinerziehend': 3050, '700': 3051, '27j': 3052, 'seniorcontent': 3053, 'markuslanz': 3054, 'unterhaltsame': 3055, 'konversation': 3056, 'rechtspopulistisch': 3057, 'abstieg': 3058, 'mittelstands': 3059, 'burger': 3060, 'ew': 3061, 'clever': 3062, 'kombinie': 3063, 'gigakombi': 3064, 'vodafone': 3065, 'medaillenspiegel': 3066, 'bundeslaendern': 3067, 'koalitionen': 3068, 'massenspo': 3069, 'vermoegende': 3070, 'selbstbewusten': 3071, 'unabhaengigen': 3072, 'friedlichen': 3073, 'fehlenden': 3074, 'gemeinde': 3075, 'etwas': 3076, 'lernt': 3077, 'bewirkt': 3078, 'aermeren': 3079, 'lotto': 3080, 'ehemann': 3081, 'ner': 3082, 'kennenlernt': 3083, 'aehnlich': 3084, 'terrorwelle': 3085, 'verschont': 3086, 'vorsorge': 3087, 'ersparen': 3088, 'solange': 3089, 'medizinisches': 3090, 'centrum': 3091, 'magnaten': 3092, 'ordnungskraefte': 3093, 'waffenlos': 3094, 'bezahlen': 3095, 'sporadisch': 3096, 'unterhalt': 3097, 'andern': 3098, 'um': 3099, 'negative': 3100, 'gefuehl': 3101, 'ungerechtigkeit': 3102, 'umzuwandeln': 3103, 'einmauern': 3104, 'kaese': 3105, 'bsp': 3106, 'eigen': 3107, 'laden': 3108, 'schwung': 3109, 'ndr': 3110, 'info': 3111, 'temperatur': 3112, 'helmstedt': 3113, 'waldbad': 3114, 'bestaetigen': 3115, 'twitte': 3116, 'mfg': 3117, 'jw': 3118, 'freuen': 3119, 'gebildeten': 3120, 'buergern': 3121, 'neubuergern': 3122, 'sprechen': 3123, 'heiner': 3124, 'flassbeck': 3125, 'pol': 3126, 'privat': 3127, 'geschenkt': 3128, 'waehlerauftrag': 3129, 'umzusetzen': 3130, 'europas': 3131, 'reparatur': 3132, 'anzugehen': 3133, 'dreher': 3134, 'ingrid': 3135, 'joerg': 3136, 'meuthen': 3137, 'schlimme': 3138, 'verschwoerungen': 3139, 'gange': 3140, 'mars': 3141, 'plant': 3142, 'invasion': 3143, 'maennchen': 3144, 'liche': 3145, 'gruesse': 3146, 'mailand': 3147, 'europaeischen': 3148, 'matteosalvinimi': 3149, '26maggiovotolega': 3150, 'ep2019': 3151, 'euwahl2019': 3152, 'euwahl': 3153, 'geholfen': 3154, 'realistisch': 3155, 'lippenbekenntnissen': 3156, 'kanzlerindebatte': 3157, 'konservative': 3158, 'ruecktritt': 3159, 'budapest': 3160, 'impressions': 3161, 'bundesaerztekammer': 3162, 'satzstreichung': 3163, 'blutspende': 3164, 'richtlinien': 3165, 'vfl': 3166, 'wolfsburg': 3167, 'mannschaftsfoto': 3168, 'angela': 3169, 'ozeane': 3170, 'muellkippe': 3171, 'stoppen': 3172, 'irrsinn': 3173, 'talk': 3174, 'hangar': 3175, 'loeblich': 3176, 'oesterreichischen': 3177, 'tourette': 3178, 'zugereisten': 3179, 'undenkbar': 3180, 'einig': 3181, 'wahres': 3182, 'terror': 3183, 'ankommen': 3184, 'volkes': 3185, 'mitschuld': 3186, 'tragen': 3187, 'vernuenftige': 3188, 'regeln': 3189, 'grossbritannien': 3190, 'herrschsuechtigen': 3191, 'buerokraten': 3192, 'bilateral': 3193, 'augenhoehe': 3194, 'schlachtplatte': 3195, 'monettenom': 3196, 'stimulator': 3197, 'einwegpfand': 3198, 'mehrweg': 3199, 'reduzie': 3200, 'e10': 3201, 'raps': 3202, 'monokulturen': 3203, 'gefoerde': 3204, 'akw': 3205, 'ausstieg': 3206, 'co2': 3207, 'reduktion': 3208, 'verminde': 3209, 'eeg': 3210, 'fueh': 3211, 'zweithoechsten': 3212, 'strompreisen': 3213, 'ergaenzt': 3214, 'europaeischer': 3215, 'geschickt': 3216, 'moderne': 3217, 'kriegsfuehrung': 3218, 'bezeichnen': 3219, 'wohlstandsvernichtung': 3220, 'gnade': 3221, 'geldtransfers': 3222, 'brechen': 3223, 'rekorde': 3224, 'schier': 3225, 'gigantische': 3226, 'summe': 3227, 'flossen': 3228, 'lagebild': 3229, 'schweren': 3230, 'auslaendern': 3231, 'symptome': 3232, 'feinstaubve': 3233, 'eufelten': 3234, 'oefen': 3235, 'dieselfahrzeugen': 3236, 'niedrigere': 3237, 'widerliche': 3238, 'doku': 3239, 'besuchen': 3240, 'gefalteten': 3241, 'haenden': 3242, 'altar': 3243, 'beten': 3244, 'bekreuzigen': 3245, 'verharmlost': 3246, 'abendlaendischen': 3247, 'wurzeln': 3248, 'erinnerung': 3249, 'terroristen': 3250, 'ungesiche': 3251, 'migrantenrouten': 3252, 'darunter': 3253, 'kaempfer': 3254, 'terroranschlaege': 3255, 'verhindern': 3256, 'handelt': 3257, 'multilateralismus': 3258, 'preist': 3259, 'tugend': 3260, 'traegerin': 3261, 'dazustehen': 3262, 'komisch': 3263, 'liest': 3264, 'staatsfunk': 3265, 'magengrube': 3266, 'wahlverhalten': 3267, 'niederlaender': 3268, 'erwecken': 3269, 'stimmenanteil': 3270, 'immerhin': 3271, 'europawahl': 3272, 'fuckologe': 3273, 'retweetet': 3274, 'gretchens': 3275, 'verarsche': 3276, 'initiatoren': 3277, 'show': 3278, 'hervorragendes': 3279, 'geschaeft': 3280, 'klima': 3281, 'greta': 3282, 'atom': 3283, 'nordkorea': 3284, 'abgeschirmt': 3285, 'kimjongangela': 3286, 'ep21': 3287, 'kurzem': 3288, 'eingebuesst': 3289, 'persoenlich': 3290, 'verwunderlich': 3291, 'gefeie': 3292, 'rockstar': 3293, 'boyband': 3294, 'einhorn': 3295, 'person': 3296, 'pinsel': 3297, 'satz': 3298, 'kafka': 3299, 'beschrieben': 3300, 'tribunal': 3301, 'oeffentlicher': 3302, 'angeklagt': 3303, 'haltungsjournalisten': 3304, 'relotiusmagazin': 3305, 'spiegel': 3306, 'anklageschrift': 3307, 'vorliegen': 3308, 'angeklagte': 3309, 'hineinsehen': 3310, 'slowakei': 3311, 'terrorismus': 3312, 'digitalisierung': 3313, 'einfachen': 3314, 'jobs': 3315, 'knapp': 3316, 'wohltaten': 3317, 'finanzieren': 3318, 'scholz': 3319, 'milliardenluecke': 3320, 'voraus': 3321, 'mittelschicht': 3322, 'migration': 3323, 'energiewende': 3324, 'instabilsten': 3325, 'netze': 3326, 'ueberstuerzte': 3327, 'kohleausstieg': 3328, 'verschaerfen': 3329, 'muc': 3330, 'nicolediekmann': 3331, 'oscar': 3332, 'wilde': 3333, 'neu': 3334, 'mittelalter': 3335, 'lametta': 3336, 'kubussc7': 3337, 'unerheblich': 3338, 'konstant': 3339, 'absolut': 3340, 'unfairen': 3341, 'methoden': 3342, 'minderbemittelt': 3343, 'helfershelfer': 3344, 'darstellen': 3345, 'landessprecherin': 3346, 'sh': 3347, 'miene': 3348, 'waziri': 3349, 'vorgestern': 3350, 'ausloeschung': 3351, 'fantasie': 3352, 'gefuegig': 3353, 'gemachten': 3354, 'aemter': 3355, 'beobachtet': 3356, 'steuerfinanzie': 3357, 'wdr': 3358, 'marokko': 3359, 'arabischer': 3360, 'schrift': 3361, 'einwanderungsgesetz': 3362, 'greenpeace': 3363, 'uschen': 3364, 'eigenes': 3365, 'rainbowwarriorii': 3366, 'katastophalen': 3367, 'bedingungen': 3368, 'giftstoffe': 3369, 'gelangen': 3370, 'abgewrackt': 3371, 'umweltsuender': 3372, 'kennt': 3373, 'hysterischen': 3374, 'jagd': 3375, 'hauptakteure': 3376, 'massen': 3377, 'nachkriegszeit': 3378, 'erbrechen': 3379, 'georg': 3380, 'restle': 3381, 'geistige': 3382, 'diarrhoe': 3383, 'anja': 3384, 'reschke': 3385, 'claas': 3386, 'relotius': 3387, 'einzelfall': 3388, 'gerhard': 3389, 'strate': 3390, 'exzellent': 3391, 'herausarbeitet': 3392, 'no2': 3393, 'jahresmittel': 3394, 'aussenluft': 3395, 'betraegt': 3396, 'm3': 3397, 'zigarette': 3398, 'ichfahrdieseltagundnacht': 3399, 'dachte': 3400, 'spuk': 3401, '1933': 3402, '45': 3403, 'vorzeichen': 3404, 'geaende': 3405, 'merke': 3406, 'diktatorische': 3407, 'verachtet': 3408, 'aufgeklae': 3409, 'ziele': 3410, 'mitteln': 3411, 'maerker2011': 3412, 'cornelianoack': 3413, 'wossi': 3414, 'koelnerin': 3415, 'tuerkischen': 3416, 'besatzungszone': 3417, 'unbesetzte': 3418, 'eingeholt': 3419, 'sensibilisie': 3420, 'wessis': 3421, 'verarschung': 3422, 'gewoehnt': 3423, '89': 3424, 'unterlagen': 3425, 'veroeffentlichen': 3426, 'dreckige': 3427, 'kranke': 3428, 'linksfaschistoide': 3429, 'tote': 3430, 'beklagen': 3431, 'wozu': 3432, 'juristen': 3433, 'parade': 3434, 'westmedien': 3435, 'zurueckgreifen': 3436, 'halbwegs': 3437, 'neutralen': 3438, 'vorgaenge': 3439, 'kennengelernt': 3440, 'fragte': 3441, 'gratis': 3442, 'wirsinddersand': 3443, 'medienlandschaft': 3444, 'karriere': 3445, 'unangemessenen': 3446, 'verdanken': 3447, 'faelschlicherweise': 3448, 'genannte': 3449, 'eienfernsehen': 3450, 'unterschied': 3451, 'kuendigt': 3452, 'bedrohen': 3453, 'beschmieren': 3454, 'waende': 3455, 'rote': 3456, 'queeniepi': 3457, 'einfallen': 3458, 'unterzeichnung': 3459, 'unterrichtet': 3460, 'weshalb': 3461, 'zurueckkommen': 3462, 'gegenteil': 3463, 'bessere': 3464, 'schritt': 3465, 'benoetigt': 3466, 'schreibt': 3467, 'internationale': 3468, 'moin': 3469, 'euch': 3470, 'schoenen': 3471, 'dienstag': 3472, 'schaftde': 3473, 'tbgstephen': 3474, 'crypt': 3475, 'ghost': 3476, 'assassina36': 3477, 'mahsti25metana1': 3478, '55uli': 3479, 'hansalbers100': 3480, 'ditschi25': 3481, 'lars9596': 3482, 'sabine': 3483, 'jaegermeisterl': 3484, 'mickdonner': 3485, 'connybub': 3486, 'hundebrunomama': 3487, 'croqisunshine': 3488, 'ralf91249454': 3489, 'daenemarks': 3490, 'grundlegend': 3491, 'aendern': 3492, 'zukuenftige': 3493, 'aufnahmen': 3494, 'schnellstmoeglichen': 3495, 'rueckkehr': 3496, 'heimatlaender': 3497, 'beneidenswe': 3498, 'metwo': 3499, 'alltagsrassismus': 3500, 'kluge': 3501, 'gewoehnliches': 3502, 'zerstritten': 3503, 'wacklig': 3504, 'zukunftsblind': 3505, 'pfueati': 3506, 'kz': 3507, 'genozid': 3508, 'kriegen': 3509, 'libe': 3510, 'ad': 3511, 'mue': 3512, 'dummes': 3513, 'geschwaetz': 3514, 'thueringen': 3515, 'general': 3516, 'redet': 3517, 'luegt': 3518, 'faktum': 3519, 'tagx': 3520, 'hannibal': 3521, 'netzwerk': 3522, 'freiheitlichen': 3523, 'drecksfaschismus': 3524, 'hey': 3525, 'soldat': 3526, 'politiksimulator': 3527, 'versuch': 3528, 'utopie': 3529, 'alkoholokratie': 3530, 'erstmal': 3531, 'engels': 3532, 'unterhalten': 3533, 'papnasen': 3534, 'braunen': 3535, 'dokus': 3536, 'uebers': 3537, 'dritten': 3538, 'reiches': 3539, 'sovietunion': 3540, 'soweit': 3541, 'ausfuehrung': 3542, 'demokraten': 3543, 'streng': 3544, 'kavanaughhearings': 3545, 'behaupten': 3546, 'riege': 3547, 'verfassungsschutz': 3548, 'willfaehriges': 3549, 'instrument': 3550, 'dinge': 3551, 'entlarvt': 3552, 'fake': 3553, 'news': 3554, 'aufgabe': 3555, 'bfv': 3556, 'praesidenten': 3557, 'erwaehnte': 3558, 'amtsantritt': 3559, '237': 3560, 'gespraeche': 3561, 'politikern': 3562, '121': 3563, '51': 3564, '69': 3565, '29': 3566, 'andreaschlegel3': 3567, 'heikomaas': 3568, 'bildet': 3569, 'klassige': 3570, 'provinzanwalt': 3571, 'eindrucksvoll': 3572, 'ziehen': 3573, 'schwanz': 3574, 'hauen': 3575, 'wochenende': 3576, 'bands': 3577, 'gutfindet': 3578, 'propagieren': 3579, 'neutral': 3580, 'verhaelt': 3581, 'warnt': 3582, 'resultat': 3583, 'rhetorischen': 3584, 'aufruestung': 3585, 'hinbekommen': 3586, 'standing': 3587, 'ovations': 3588, 'abholen': 3589, 'misthaufen': 3590, 'ehemals': 3591, 'stolzen': 3592, 'demokratieverstaendnisses': 3593, 'ehemaligen': 3594, 'verfassungsschutzpraesident': 3595, 'gezielten': 3596, 'desinformationsversuch': 3597, 'unterbinden': 3598, 'lob': 3599, 'pruegel': 3600, 'skalpjaeger': 3601, 'schulterklopfer': 3602, 'desinformation': 3603, 'gewandt': 3604, 'armselige': 3605, 'mitgefuehl': 3606, 'niede': 3607, 'racht': 3608, 'wahrheitsverdrehung': 3609, 'dich': 3610, 'wette': 3611, 'flasche': 3612, 'wein': 3613, 'meldung': 3614, 'hauptnachrichtensendung': 3615, 'oer': 3616, 'senders': 3617, 'raf': 3618, 'tattoos': 3619, 'letzte': 3620, 'schrei': 3621, 'chemnitzistderanfang': 3622, 'chemnitz0109': 3623, 'qfd': 3624, 'bann': 3625, 'beweis': 3626, 'seht': 3627, '800': 3628, 'retweets': 3629, 'likes': 3630, 'hash': 3631, 'anklickt': 3632, 'unsichtbar': 3633, 'weiterhin': 3634, 'jack': 3635, 'congress': 3636, 'gesockse': 3637, 'tanz': 3638, 'graebern': 3639, 'huldigung': 3640, 'irrlehren': 3641, 'geforde': 3642, 'voran': 3643, 'fuerchten': 3644, 'teufel': 3645, 'weihwasser': 3646, '70j': 3647, 'aufsteht': 3648, 'wege': 3649, 'zahlmeisterei': 3650, 'gegendemonstranten': 3651, 'ueberwiegend': 3652, 'bruellen': 3653, 'deutschem': 3654, 'brauchtum': 3655, 'oktoberfest': 3656, 'crystal': 3657, 'meth': 3658, 'schaedigt': 3659, 'droge': 3660, 'gruenes': 3661, 'totalschaden': 3662, 'messerattacke': 3663, 'toedlichem': 3664, 'ausgang': 3665, 'geschehens': 3666, 'gratiskonze': 3667, 'troestlicher': 3668, 'gedanke': 3669, 'ostalgie': 3670, 'fern': 3671, 'medial': 3672, 'eingeschlagen': 3673, 'automatisch': 3674, 'eidigungsmodus': 3675, 'manch': 3676, 'besorgter': 3677, 'ossi': 3678, 'naeher': 3679, 'buerge': 3680, 'drueben': 3681, 'drueber': 3682, 'einschuechterung': 3683, 'regimekritischen': 3684, 'bremer': 3685, 'landtagsabgeordneten': 3686, 'geleakten': 3687, 'rascher': 3688, 'durchsucht': 3689, 'messerstechers': 3690, 'smisachsen': 3691, 'spinnt': 3692, 'illegaler': 3693, 'ausreise': 3694, 'island': 3695, 'norwegen': 3696, 'australien': 3697, 'umgeht': 3698, 'ausreden': 3699, 'akzeptieren': 3700, 'mutmasslicher': 3701, 'ausweisen': 3702, 'lebensgefaehrliche': 3703, 'feinesahnefischfilet': 3704, 'bedankt': 3705, 'seitdem': 3706, 'verachte': 3707, 'zersetzt': 3708, 'fe': 3709, 'bereitet': 3710, 'marke': 3711, 'politikwechsel': 3712, 'zwingend': 3713, 'afdwirkt': 3714, 'formieren': 3715, 'zusehends': 3716, 'aggressiver': 3717, 'kulturen': 3718, 'schrittlichen': 3719, 'polizeigewerkschaft': 3720, 'gezeigte': 3721, 'sensibles': 3722, 'material': 3723, 'schlechter': 3724, 'kommentieren': 3725, 'abgeht': 3726, 'gelaufen': 3727, 'bricht': 3728, 'trauermarsch': 3729, 'staatsversagen': 3730, 'agitation': 3731, 'anrichtet': 3732, 'noantifa': 3733, 'rausredet': 3734, 'ermordeten': 3735, 'uencher': 3736, 'rechtsbruch': 3737, 'voraussetzungen': 3738, 'geschaffen': 3739, 'bundespraesident': 3740, 'wirbt': 3741, 'auftritt': 3742, 'band': 3743, 'singt': 3744, 'verfasstheit': 3745, 'bundesrepublik': 3746, 'wischt': 3747, 'traenen': 3748, 'inzw': 3749, 'zahlreiche': 3750, 'grundsaetze': 3751, 'fuessen': 3752, 'deckelt': 3753, 'kraeftig': 3754, 'diskreditie': 3755, 'beitraegen': 3756, 'fernab': 3757, 'journalistischen': 3758, 'standards': 3759, 'jene': 3760, 'anmahnen': 3761, 'pressefreiheit': 3762, 'sonntag': 3763, 'dunkelhaeutigen': 3764, '07': 3765, '30': 3766, 'erstochen': 3767, 'verflucht': 3768, 'seien': 3769, 'proborder': 3770, 'york': 3771, 'times': 3772, 'berichtete': 3773, 'vorfall': 3774, 'relevanz': 3775, 'uebel': 3776, 'ardde': 3777, 'sozialisten': 3778, 'bringenen': 3779, 'sami': 3780, 'zurueckgeholt': 3781, 'beschliesst': 3782, 'thing': 3783, 'gegenzug': 3784, 'konsequente': 3785, 'rechtsstaates': 3786, 'umgehend': 3787, 'gerichten': 3788, 'unbefangen': 3789, '089': 3790, 'wiedereinreisesperre': 3791, 'bestandskraeftig': 3792, 'abgelehnten': 3793, 'asylantrag': 3794, 'eingereist': 3795, 'letztes': 3796, 'schwedischer': 3797, 'politker': 3798, 'integration': 3799, 'thilo': 3800, 'sozialdemokratische': 3801, 'mitglied': 3802, 'auszuschliessen': 3803, 'verblueffenden': 3804, 'weltwoche': 3805, 'plus': 3806, 'grossstaedten': 3807, 'zumeist': 3808, 'ausgebildeten': 3809, 'muslimischen': 3810, 'glaubens': 3811, 'entspricht': 3812, 'retweet': 3813, 'lust': 3814, 'tagesthemen': 3815, 'hrfernsehen': 3816, 'bewusst': 3817, 'jesidin': 3818, 'isis': 3819, 'gepeinigt': 3820, 'arab': 3821, 'konfliktgebieten': 3822, 'ueberhoeht': 3823, 'hilft': 3824, 'taetern': 3825, 'merkelgold': 3826, 'joggerin': 3827, 'wuergt': 3828, 'schuldige': 3829, 'zufolge': 3830, 'mindestens': 3831, 'kurzen': 3832, 'herkunftslaender': 3833, 'gereist': 3834, 'schutzstatus': 3835, 'blieb': 3836, 'bestehen': 3837, 'regime': 3838, 'veranstaltet': 3839, 'inszenie': 3840, 'buergerdialoge': 3841, 'handverlesene': 3842, 'workshop': 3843, 'geprobt': 3844, 'gottkanzlerin': 3845, 'schwierigkeiten': 3846, 'geraet': 3847, 'gespielte': 3848, 'burkini': 3849, 'strand': 3850, 'schwimmbad': 3851, 'einkaufsstrasse': 3852, 'legt': 3853, 'feinen': 3854, 'skalpell': 3855, 'moralblase': 3856, 'schlitzt': 3857, 'franzosen': 3858, 'kehle': 3859, 'aufmerksam': 3860, 'fahrraeder': 3861, 'ie': 3862, 'kehren': 3863, 'berichte': 3864, 'massiven': 3865, 'einschuechterungen': 3866, 'teppich': 3867, 'wehren': 3868, 'niedergebrannt': 3869, 'beschimpft': 3870, 'nomerkel': 3871, 'noaltpa': 3872, 'armesdeutschland': 3873, 'bestseller': 3874, 'tiefe': 3875, 'schneise': 3876, 'dickicht': 3877, 'korrektheit': 3878, 'vorschlaege': 3879, 'bevoelkerungspolitik': 3880, 'gesundung': 3881, 'gueltig': 3882, 'ewiges': 3883, 'dennoch': 3884, '87': 3885, 'inkl': 3886, 'vergewaltigten': 3887, 'irrsinnspolitik': 3888, 'konnten': 3889, 'enthuellungsbuch': 3890, 'statistik': 3891, 'sicherer': 3892, 'pks': 3893, 'ltwby': 3894, 'festungeuropa': 3895, 'jouwatch': 3896, 'stimme': 3897, 'immernoch': 3898, 'zusammenhalten': 3899, 'eitelkeiten': 3900, 'ueberwinden': 3901, 'kraefte': 3902, 'buendeln': 3903, 'verbinden': 3904, 'fuerdemokratie': 3905, 'menschenrechte': 3906, 'humanitaet': 3907, 'ueberfallen': 3908, 'schreckschusspistole': 3909, 'waechst': 3910, '715': 3911, 'ausrechnen': 3912, 'wieviele': 3913, 'grossstaedte': 3914, 'einschliesslich': 3915, 'infrastruktur': 3916, 'europaeer': 3917, 'langfristig': 3918, 'hinnehmen': 3919, 'menschenhaendler': 3920, 'suche': 3921, 'moralisch': 3922, 'luftaufnahmen': 3923, 'rettung': 3924, 'angelegtes': 3925, 'schlepper': 3926, 'kohle': 3927, 'fliessen': 3928, 'refugeesnotwelcome': 3929, 'jf': 3930, 'mahnwache': 3931, 'mainz': 3932, 'doppelmoral': 3933, 'gedenkminute': 3934, 'abhielt': 3935, 'gestorbene': 3936, 'edeka': 3937, 'markt': 3938, 'jung': 3939, 'bad': 3940, 'bevensen': 3941, 'zwickau': 3942, 'erhoehter': 3943, 'haftempfindlichkeit': 3944, 'intensivtaeter': 3945, 'adel': 3946, '28': 3947, 'lebte': 3948, 'plauen': 3949, 'beging': 3950, 'sieben': 3951, 'scheibchenweise': 3952, 'futsch': 3953, 'club': 3954, 'med': 3955, 'kapitalvernichtung': 3956, 'weltwi': 3957, 'schaftsgeschichte': 3958, 'schweizer': 3959, 'westfernsehen': 3960, 'cducsubt': 3961, 'samstag': 3962, 'nachmittag': 3963, 'muensteraner': 3964, 'tischen': 3965, 'gaststaette': 3966, 'anschliessend': 3967, 'erschiesst': 3968, 'onlinemedien': 3969, 'zwischenfall': 3970, 'muenster': 3971, 'unterstuetzung': 3972, '40000': 3973, 'gedroht': 3974, 'uscht': 3975, 'aufgebrachten': 3976, '120db': 3977, 'keiragross': 3978, 'kandel': 3979, 'kandelistueberall': 3980, 'tafelessen': 3981, 'rebellin70': 3982, 'messen': 3983, 'rauskommen': 3984, 'richteigen': 3985, 'messpunkte': 3986, 'machtsinn': 3987, 'ps': 3988, 'buntland': 3989, 'merkelmussweghamburg': 3990, 'mass': 3991, 'untauglich': 3992, 'meinen': 3993, 'befaehigt': 3994, 'vorlegen': 3995, 'neuer': 3996, 'doofe': 3997, 'ernennung': 3998, 'anrichten': 3999, 'jaemmerliche': 4000, 'politikbetriebes': 4001, 'transparent': 4002, 'allesgut': 4003, 'hinweis': 4004, 'jersey': 4005, 'terrororganisation': 4006, 'gelistet': 4007, 'miteinander': 4008, 'multikulturelle': 4009, 'schief': 4010, 'freaks': 4011, 'lobeshymnen': 4012, 'scharia': 4013, 'journalisten': 4014, 'solch': 4015, 'schrittliches': 4016, 'paradies': 4017, 'private': 4018, 'bauherren': 4019, 'gezwungen': 4020, 'bezahlbaren': 4021, 'netto': 4022, 'kalt': 4023, 'anzubieten': 4024, 'erzwingt': 4025, 'fluechtlingshaeuser': 4026, 'kaltmiete': 4027, 'warmmiete': 4028, 'tafel': 4029, 'beduerftig': 4030, 'neben': 4031, 'erhaltenen': 4032, 'kostenloser': 4033, 'krankenversicherung': 4034, 'monatliches': 4035, 'schicken': 4036, 'hbf': 4037, 'westernunion': 4038, 'linkspropaganda': 4039, 'verbreitende': 4040, 'internetplattformen': 4041, 'online': 4042, 'schaeumen': 4043, 'besuch': 4044, 'dienen': 4045, 'verbreiten': 4046, 'existenzen': 4047, 'uniformieren': 4048, 'wenden': 4049, 'rotten': 4050, 'machthabern': 4051, 'geduldet': 4052, 'blondes': 4053, 'gift82': 4054, 'patriarchator': 4055, 'medium': 4056, 'radio': 4057, 'potterwatch': 4058, 'potter': 4059, 'verschwundenen': 4060, 'verliest': 4061, 'schicksal': 4062, 'wahlrecht': 4063, 'allergisch': 4064, 'liebaeugelt': 4065, 'veraendern': 4066, 'binnen': 4067, 'aufgeloest': 4068, 'brenzlig': 4069, 'unaussprechliche': 4070, 'krieg': 4071, 'wagt': 4072, 'verlaengerung': 4073, 'zuzustimmen': 4074, 'cuxhaven': 4075, 'woher': 4076, 'agrarminister': 4077, 'weitere': 4078, 'staerkung': 4079, 'rolle': 4080, 'biodiversitaet': 4081, 'tierschutz': 4082, 'kohlekraftwerke': 4083, 'emissionsfreiere': 4084, 'bauen': 4085, 'dauerrandale': 4086, 'sonderlich': 4087, 'konzept': 4088, 'medienfunktionaere': 4089, 'minderheitsregierung': 4090, 'entschlossenheit': 4091, 'unkenntlich': 4092, 'ungebrochen': 4093, 'franzoesin': 4094, 'anlass': 4095, 'empoerung': 4096, 'hoere': 4097, 'abgesehen': 4098, 'aeussern': 4099, 'sandrine': 4100, 'moeglicherweise': 4101, 'geisterfahrer': 4102, 'hofie': 4103, 'diebe': 4104, 'erlaubt': 4105, 'wahlerfolg': 4106, 'oevp': 4107, 'ziemlich': 4108, 'besorgt': 4109, 'retweeten': 4110, 'fremdenfeindlichen': 4111, 'beifall': 4112, 'prognostiziere': 4113, 'schweinefleisch': 4114, 'wurstwaren': 4115, 'problematisch': 4116, 'rumspaziere': 4117, 'stattgefunden': 4118, 'min': 4119, 'fache': 4120, 'zumuten': 4121, 'irre': 4122, 'heimkehren': 4123, 'wiederaufbau': 4124, 'korrektes': 4125, 'schweigen': 4126, 'ignorieren': 4127, 'trendwende': 4128, 'washingtonpost': 4129, 'versuche': 4130, 'vorzustellen': 4131, 'ministerium': 4132, 'freu': 4133, 'neuwahlen': 4134, 'advent': 4135, 'maischberger': 4136, 'verarschen': 4137, 'fluechtlingskonvention': 4138, 'einwanderer': 4139, 'prioritaeten': 4140, 'laedt': 4141, 'talkshows': 4142, 'unglaubliche': 4143, 'zumutung': 4144, 'tagelanger': 4145, 'skandalisierung': 4146, 'gauland': 4147, 'verschweigen': 4148, 'propagandisten': 4149, 'nahles': 4150, 'erwirbt': 4151, 'einfluss': 4152, 'verschwendet': 4153, 'afrikanisie': 4154, 'massenimmigration': 4155, 'red': 4156, 'bull': 4157, 'mateschitz': 4158, 'po': 4159, 'addendum': 4160, 'zitie': 4161, 'krise': 4162, '87prozent': 4163, 'schleppt': 4164, 'mietwohnung': 4165, 'motivationshilfe': 4166, 'refugees': 4167, 'welcome': 4168, 'rezept': 4169, 'chemisch': 4170, 'zwangsbereiche': 4171, 'orwell': 4172, 'tuerke': 4173, 'freispruch': 4174, 'kultureller': 4175, 'eigenheiten': 4176, 'dolches': 4177, 'jahrdesdolches': 4178, 'aldous': 4179, 'leonard': 4180, 'huxley': 4181, 'tatsachen': 4182, 'ignorie': 4183, 'merkelsommer': 4184, 'justdoit': 4185, 'linksgruenen': 4186, 'islamophilen': 4187, 'vietnamesen': 4188, '1975': 4189, '1979': 4190, 'krieges': 4191, 'morden': 4192, 'traumata': 4193, 'entschuldigen': 4194, 'terroranschlag': 4195, 'offiziell': 4196, 'inoffiziell': 4197, 'zustrom': 4198, 'doppelte': 4199, 'ngo': 4200, 'taxidienst': 4201, 'verschwoerungstheorie': 4202, 'patmair1': 4203, 'gleichgeschalteten': 4204, 'durchschnittswaehler': 4205, 'integrie': 4206, 'zurueckkehren': 4207, 'zitte': 4208, 'fluechtlingswelle': 4209, 'anlandet': 4210, 'fruehestens': 4211, 'september': 4212, 'gurke': 4213, 'aufhoe': 4214, 'germanistan': 4215, 'nordafrikaner': 4216, 'anstieg': 4217, 'nafris': 4218, 'echtjetzt': 4219, 'open': 4220, 'society': 4221, 'foundation': 4222, 'begierig': 4223, 'merkels': 4224, 'wiederholte': 4225, 'polizistin': 4226, 'fluechtlings': 4227, 'offizielle': 4228, 'packen': 4229, 'koffer': 4230, 'fr': 4231, 'josef': 4232, 'allgemein': 4233, 'tuerkischer': 4234, 'hochzeitskorso': 4235, 'loest': 4236, 'durchdrehenden': 4237, 'rauchalarm': 4238, 'petueltunnel': 4239, 'nebeln': 4240, 'quietschenden': 4241, 'rauchenden': 4242, 'opernvorplatz': 4243, 'anzeigen': 4244, 'fischadler': 4245, 'horst': 4246, 'wald': 4247, 'windindustriegebiet': 4248, 'bekannte': 4249, 'paare': 4250, 'population': 4251, 'sueddeutschland': 4252, 'befindet': 4253, 'fragilen': 4254, 'unverstaendlich': 4255, 'planungen': 4256, 'unbeir': 4257, 'gesetzt': 4258, 'raschid': 4259, 'k': 4260, 'islamistischer': 4261, 'risikoklasse': 4262, 'ermittler': 4263, 'waffe': 4264, 'gebaren': 4265, 'grotesk': 4266, 'helfer': 4267, 'begehen': 4268, 'kaltbluetig': 4269, 'auftragsmorde': 4270, 'erschiessen': 4271, 'offener': 4272, 'strafrabatt': 4273, 'jugendstrafrecht': 4274, 'arzberg': 4275, 'geduldeter': 4276, 'jaehriges': 4277, 'busbahnhof': 4278, 'informieren': 4279, 'festnehmen': 4280, 'identitaetsfeststellung': 4281, 'fuss': 4282, 'bosnien': 4283, 'kroatien': 4284, 'stauen': 4285, 'aktuell': 4286, '70': 4287, 'vorjahr': 4288, 'folge': 4289, 'extreme': 4290, 'massenschlaegereien': 4291, 'velika': 4292, 'kladusa': 4293, 'schlaeger': 4294, 'erding': 4295, 'afghane': 4296, 'whirlpool': 4297, 'freunden': 4298, 'entspannen': 4299, 'waselzada': 4300, 'einspruch': 4301, 'strafmilderung': 4302, 'deisenhofen': 4303, 'vorhalt': 4304, 'messers': 4305, 'ueberfielen': 4306, 'phaenotypen': 4307, 'supermarkt': 4308, 'fesselten': 4309, 'angestellten': 4310, 'fluechteten': 4311, 'mehreren': 4312, 'zehntausend': 4313, 'beute': 4314, 'menschenhandel': 4315, 'stil': 4316, 'mafioesen': 4317, 'albanerin': 4318, 'entkam': 4319, 'kriminalbeamten': 4320, 'hofga': 4321, 'beschreibt': 4322, 'nordafrikanisch': 4323, 'aussehend': 4324, 'rponline': 4325, 'zoll': 4326, 'serbien': 4327, 'jaehrigem': 4328, 'kalaschnikow': 4329, 'pumpgun': 4330, 'pistole': 4331, 'weiterreisen': 4332, 'schwedischen': 4333, 'absolute': 4334, 'gipfel': 4335, 'laecherliche': 4336, 'extremst': 4337, 'sadistischen': 4338, 'fasse': 4339, 'sitzt': 4340, 'arschbacke': 4341, 'kaputt': 4342, 'kotzen': 4343, 'giessen': 4344, 'beziehung': 4345, 'brutaler': 4346, 'uebergriffe': 4347, 'saemtlichen': 4348, 'taten': 4349, 'schuldunfaehig': 4350, 'psychiatrie': 4351, 'vermummte': 4352, 'krebspatienten': 4353, 'angriff': 4354, 'teilnehmern': 4355, 'kongresses': 4356, 'gelten': 4357, 'eiern': 4358, 'tomaten': 4359, 'farbbechern': 4360, 'beworfen': 4361, 'evolutionsbiologe': 4362, 'ulrich': 4363, 'kutschera': 4364, 'mittwoch': 4365, 'aeusserungen': 4366, 'kasseler': 4367, 'amtsgericht': 4368, 'fanatisie': 4369, 'aelteren': 4370, 'plakat': 4371, 'ngos': 4372, 'gehirngewaschenen': 4373, 'demokratiefeinde': 4374, 'anheizen': 4375, 'london': 4376, 'krimineller': 4377, 'bliesener': 4378, 'formulie': 4379, 'beruecksichtigen': 4380, 'ruf': 4381, 'ruinie': 4382, 'weltweites': 4383, 'presseecho': 4384, 'erzeugt': 4385, 'gegner': 4386, 'diskriminie': 4387, 'recherche': 4388, 'akt': 4389, 'verwerflicher': 4390, 'strache': 4391, 'bonn': 4392, 'brian': 4393, 'kenianer': 4394, 'staatsbuergerschaft': 4395, 'elma': 4396, 'fluechtlingsheim': 4397, 'spielt': 4398, 'posse': 4399, 'widerwo': 4400, 'streit': 4401, 'fluechtlingsunterkuenften': 4402, 'abschiebungen': 4403, 'berlins': 4404, 'innensenator': 4405, 'andreas': 4406, 'geisel': 4407, 'eingeknickt': 4408, 'willen': 4409, 'sozialverwaltung': 4410, 'benoetigen': 4411, 'durchsuchungsbeschluss': 4412, 'asylunterkuenfte': 4413, 'betreten': 4414, 'raub': 4415, 'betrug': 4416, 'vorbestrafte': 4417, 'goekhan': 4418, 'umfahren': 4419, 'schossen': 4420, 'brachten': 4421, 'anhalten': 4422, 'haschisch': 4423, 'crack': 4424, 'kokain': 4425, 'poppers': 4426, 'studie': 4427, 'westghats': 4428, 'gebirge': 4429, 'vie': 4430, 'el': 4431, 'raubvoegel': 4432, 'rotoren': 4433, 'eliminie': 4434, 'geriet': 4435, 'oekosystem': 4436, 'durcheinander': 4437, 'gruenwirkt': 4438, 'brennen': 4439, 'total': 4440, 'fassungslos': 4441, 'nuechtern': 4442, 'aushalten': 4443, 'teile': 4444, 'followern': 4445, '300': 4446, 'haushalte': 4447, 'saft': 4448, 'abgedreht': 4449, 'zukuenftig': 4450, 'muelltonne': 4451, 'gruener': 4452, 'justizsenator': 4453, 'naechste': 4454, 'autorin': 4455, 'herzerwaermende': 4456, 'geschichten': 4457, 'aufgeflogen': 4458, 'gefaelschte': 4459, 'geschichte': 4460, 'sexualkundeunterricht': 4461, 'gefragt': 4462, 'menstruationsblut': 4463, 'aphrodisiakum': 4464, 'hingst': 4465, 'ernstgemeinte': 4466, 'mario': 4467, 'sixtus': 4468, 'diktatorischen': 4469, 'umschwung': 4470, 'ideologische': 4471, 'besorgniserregend': 4472, 'clan': 4473, 'z4': 4474, 'ploetzlich': 4475, 'keinerlei': 4476, 'etablie': 4477, 'europaeische': 4478, 'islamistische': 4479, 'positionen': 4480, 'kluges': 4481, 'maya': 4482, 'khadra': 4483, 'sozialhilfe': 4484, 'islamismus': 4485, '85': 4486, 'aufklaerungswelle': 4487, 'drosselung': 4488, 'shadowban': 4489, 'fridays4future': 4490, 'fridayforfuture': 4491, 'demo': 4492, 'wiesbaden': 4493, 'bashar': 4494, 'vergewaltiger': 4495, '11': 4496, 'fick': 4497, 'ficke': 4498, 'brandstiftung': 4499, '446': 4500, 'gestiegen': 4501, 'politisches': 4502, 'motiv': 4503, 'vermutet': 4504, 'linksextremistisch': 4505, 'motivie': 4506, 'ordnungsamtes': 4507, 'symbolisieren': 4508, 'bahn': 4509, 'telekom': 4510, 'afghanen': 4511, 'belaestigen': 4512, 'uebelste': 4513, 'einschreitender': 4514, 'begleiter': 4515, 'gepruegelt': 4516, 'festnahme': 4517, 'erheblichen': 4518, 'widerstand': 4519, 'folklore': 4520, 'gefaehrdet': 4521, 'regierungstreu': 4522, 'einseitig': 4523, 'polnische': 4524, 'sonderweg': 4525, 'belehrungen': 4526, 'maedchens': 4527, 'sprichst': 4528, 'hoerst': 4529, 'kommst': 4530, 'friedens': 4531, 'potzblitz': 4532, 'juedische': 4533, 'charlottenburg': 4534, 'verpruegelt': 4535, 'muslimen': 4536, 'angreifer': 4537, '15': 4538, 'unbeschulbar': 4539, 'direktor': 4540, 'muslimischer': 4541, 'antistemitismus': 4542, 'latentes': 4543, 'kinderga': 4544, 'josephine': 4545, 'gymnasium': 4546, 'fridaysforfuture': 4547, 'demonstrantin': 4548, 'vorangeschritten': 4549, 'generationgreta': 4550, 'unbegleitete': 4551, 'minderjaehrige': 4552, 'syrische': 4553, 'rapper': 4554, 'gucci': 4555, 'klamotten': 4556, 'jugendarrest': 4557, 'freitag': 4558, 'stach': 4559, 'prognosen': 4560, 'deuten': 4561, 'kanzler': 4562, 'ca': 4563, 'folgende': 4564, 'punkte': 4565, 'spritpreise': 4566, 'kinderehen': 4567, 'klimaluege': 4568, 'uebt': 4569, 'hierzulande': 4570, 'vielero': 4571, 'moslemische': 4572, 'sommerfeste': 4573, 'grillwuerstchen': 4574, 'auskommen': 4575, 'landratsamt': 4576, 'stadtlandsberg': 4577, 'sicherheitsdienst': 4578, '96': 4579, 'aussendienstmitarbeiter': 4580, 'zweit': 4581, 'sechst': 4582, 'schutzwesten': 4583, 'somalischer': 4584, 'pruegelte': 4585, 'soehne': 4586, 'anblick': 4587, 'ragen': 4588, 'detlef': 4589, 'j': 4590, 'intensivstation': 4591, 'riesiges': 4592, 'haematom': 4593, 'ausgeschlagen': 4594, 'iranischer': 4595, 'erschossen': 4596, 'geflohen': 4597, 'abgesetzt': 4598, 'verweige': 4599, 'drohe': 4600, 'lebt': 4601, 'unbehelligt': 4602, 'pakistanischstaemmige': 4603, 'hina': 4604, 'baby': 4605, 'ynacht': 4606, 'samt': 4607, 'one': 4608, 'night': 4609, 'beisst': 4610, 'nabelschnur': 4611, 'abends': 4612, 'passantin': 4613, 'rettet': 4614, 'schwerverletzten': 4615, 'saeugling': 4616, 'prozess': 4617, 'schuelerin': 4618, 'fahndet': 4619, 'phantombild': 4620, 'straftaeter': 4621, 'schulweg': 4622, 'sexuell': 4623, 'belaestigt': 4624, 'gezer': 4625, 'schamlos': 4626, 'berueh': 4627, 'schrie': 4628, 'liess': 4629, 'wirken': 4630, 'bruellende': 4631, 'filmfigur': 4632, 'stummfilmzeit': 4633, 'verzer': 4634, 'weltsicht': 4635, 'bizarr': 4636, 'selbstzerstoererisch': 4637, 'zukunftspolitik': 4638, 'reflektie': 4639, 'licher': 4640, 'oder': 4641, 'wacht': 4642, 'braunland': 4643, 'afdmachtdumm': 4644, 'sozialistische': 4645, 'inhalte': 4646, 'deshslb': 4647, 'braun': 4648, 'ausschliessen': 4649, 'verein': 4650, 'sozialistisch': 4651, 'sagst': 4652, 'wiedermal': 4653, 'populistischer': 4654, 'evtl': 4655, 'beredsame': 4656, 'fachlichen': 4657, 'finanzminister': 4658, 'innenminister': 4659, 'vsefzat': 4660, 'kommunistische': 4661, 'erlebt': 4662, 'vorstellen': 4663, 'unwaehlbar': 4664, 'naechstes': 4665, 'inhaftierung': 4666, 'enteignung': 4667, 'gegnern': 4668, 'plaedieren': 4669, 'traeumer': 4670, 'wuenscht': 4671, 'bundeswehronkel': 4672, 'feindbild': 4673, 'selber': 4674, 'zuhauf': 4675, 'hinweise': 4676, 'programme': 4677, 'indem': 4678, 'kardasiapat': 4679, 'gebu': 4680, 'enunterdrueckung': 4681, 'gelaeufig': 4682, 'positionieren': 4683, 'whitegenocide': 4684, 'bloedsinn': 4685, 'einziges': 4686, 'fakten': 4687, 'argumentieren': 4688, 'unsinniges': 4689, 'rumgebuelle': 4690, 'laecherlich': 4691, 'plump': 4692, 'besseres': 4693, 'erziehen': 4694, 'wiedergebu': 4695, 'neoliberalismus': 4696, 'lobbyismus': 4697, 'ordentlich': 4698, 'wand': 4699, 'depp': 4700, 'plumpe': 4701, 'reinfaellt': 4702, 'empfehlung1': 4703, 'bautzen': 4704, 'hohenschoenhausen': 4705, 'wiedereroeffnet': 4706, 'weltbild': 4707, 'gewuenscht': 4708, 'lobbyistenkuschlern': 4709, 'gelb': 4710, 'lobbyisten': 4711, 'keiner': 4712, 'ehesten': 4713, 'keine': 4714, 'teilen': 4715, 'kaempft': 4716, 'weltmarkt': 4717, 'schuetzt': 4718, 'amerikanisie': 4719, 'verwestlichtes': 4720, 'patriotisch': 4721, 'alternativ': 4722, 'mdb': 4723, 'stefan': 4724, 'keuter': 4725, 'verschickte': 4726, 'nazibilder': 4727, 'marcusbensmann': 4728, 'sternde': 4729, 'correctiv': 4730, 'org': 4731, 'nazibildes': 4732, 'schwimmen': 4733, 'felle': 4734, 'groesseren': 4735, 'spinnern': 4736, 'unterworfen': 4737, 'goenne': 4738, 'paulehasi13': 4739, 'nummer': 4740, 'rueckgrat': 4741, 'schliesst': 4742, 'verbannt': 4743, 'oppositionsbank': 4744, 'nsdap': 4745, 'chinesische': 4746, 'herrschaftssystem': 4747, 'etablieren': 4748, 'raknanordmann': 4749, 'reloaded': 4750, 'auspraegung': 4751, 'krachend': 4752, 'kerbholz': 4753, 'wht': 4754, 'bonzen': 4755, 'genehm': 4756, 'italienische': 4757, 'havarie': 4758, 'besatzung': 4759, 'strafe': 4760, 'anscheinend': 4761, 'rinken': 4762, 'verbitte': 4763, 'laecheln': 4764, 'europ': 4765, 'wach': 4766, 'ital': 4767, 'vorbild': 4768, 'gespannt': 4769, 'ramsch': 4770, 'niveau': 4771, 'aufzunehmen': 4772, 'schulden': 4773, 'starke': 4774, 'einschraenken': 4775, 'schlechtmenschterror': 4776, 'bevorzugen': 4777, 'totalitaeres': 4778, 'wegtreten': 4779, 'beschneiden': 4780, 'staatsbuerger': 4781, 'ungleich': 4782, 'behandeln': 4783, 'gutmenschenterror': 4784, 'bedeuten': 4785, 'regieren': 4786, 'drecks': 4787, 'faschos': 4788, 'koestlich': 4789, 'ekelhafde': 4790, 'platz': 4791, 'restaurant': 4792, 'filme': 4793, 'nazizeit': 4794, 'for': 4795, 'free': 4796, 'bedroht': 4797, 'rechtsnazionalen': 4798, 'anfuehrer': 4799, 'marsches': 4800, 'humor': 4801, 'hoechstwahrscheinlich': 4802, 'gesetze': 4803, 'anreizstruktur': 4804, 'singapur': 4805, 'gefaehrdern': 4806, 'vernuenftiger': 4807, 'idee': 4808, 'einzureisen': 4809, 'lumpenstaat': 4810, 'gedient': 4811, 'rechten': 4812, 'reichis': 4813, 'weitaus': 4814, 'sympathisanten': 4815, 'fehlender': 4816, 'abgrenzung': 4817, 'seda': 4818, 'basay': 4819, 'yildiz': 4820, 'stabsoffizier': 4821, 'hoechste': 4822, 'umtriebe': 4823, 'staatsorgane': 4824, 'extremisten': 4825, 'islamisten': 4826, 'ilonaabels': 4827, 'fordere': 4828, 'liberal': 4829, 'konservativ': 4830, 'gessinungsbrueder': 4831, 'rechtsextremisten': 4832, 'aha': 4833, 'linksradikalen': 4834, 'antideutschen': 4835, 'wiedereinmal': 4836, 'leichtfe': 4837, 'inneren': 4838, 'pearwalts5': 4839, 'beobachen': 4840, 'doerfern': 4841, 'staedten': 4842, 'organen': 4843, 'eingreifen': 4844, 'fungieren': 4845, 'staatsfeinde': 4846, 'fangen': 4847, 'ekelhafden': 4848, 'geschissen': 4849, 'erworben': 4850, 'zusteht': 4851, 'anreize': 4852, 'anreiz': 4853, 'interessie': 4854, 'asylantraege': 4855, 'wesentlich': 4856, 'geringer': 4857, 'taeuscht': 4858, 'asylzahlen': 4859, 'wahren': 4860, 'zuwandererzahlen': 4861, 'hinweg': 4862, 'hellernorden': 4863, 'visum': 4864, 'einfuehren': 4865, 'kriegt': 4866, 'gesteckt': 4867, 'begangen': 4868, 'korrupte': 4869, 'dreht': 4870, 'flugdesalbatros': 4871, 'oops': 4872, 'koennt': 4873, 'allererstes': 4874, 'umgestellt': 4875, 'dach': 4876, 'verfolgung': 4877, 'verschwinden': 4878, 'umstellen': 4879, 'ankerzentren': 4880, 'hause': 4881, 'aussengrente': 4882, 'klarkommen': 4883, 'spielen': 4884, 'saubermann': 4885, 'liebsten': 4886, 'leylabilge': 4887, 'unters': 4888, 'homophoben': 4889, 'haltung': 4890, 'fcknzs': 4891, 'lgbti': 4892, 'hetero': 4893, 'beziehungen': 4894, 'ermutigen': 4895, 'vielfalt': 4896, 'wuensche': 4897, 'erzaehl': 4898, 'roehm': 4899, 'haessliche': 4900, 'steigbuegelhalter': 4901, 'langen': 4902, 'fenster': 4903, 'islamophobie': 4904, 'psychische': 4905, 'stoerung': 4906, 'kamerad': 4907, 'schlechthin': 4908, 'koks': 4909, 'hosentasche': 4910, 'polizeikontrolle': 4911, 'gefallen': 4912, 'ekelhafter': 4913, 'zeitgenosse': 4914, 'nette': 4915, 'strichjungen': 4916, 'bahnhofsklo': 4917, 'benutzt': 4918, 'stich': 4919, 'konte': 4920, 'scharf': 4921, 'einvernehmlich': 4922, 'kaiser': 4923, 'koran': 4924, 'vollzogen': 4925, 'differenzierung': 4926, 'erleben': 4927, 'graue': 4928, 'eminenz': 4929, 'hoecke': 4930, 'pfeife': 4931, 'tanzt': 4932, 'feindlichkeit': 4933, 'begegnet': 4934, 'unaufklaererisch': 4935, 'feindliche': 4936, 'papst': 4937, 'homosexuellenfeinflichen': 4938, 'exaltie': 4939, 'provakante': 4940, 'lgbt': 4941, 'paraden': 4942, 'anseh': 4943, '175': 4944, 'paranoide': 4945, 'wahnvorstellungen': 4946, 'spitze': 4947, 'naschen': 4948, 'kristalle': 4949, 'aktiv': 4950, 'globalsten': 4951, 'radikalsten': 4952, 'republik': 4953, 'zugedrueckt': 4954, 'jetz': 4955, 'stando': 4956, 'mayen': 4957, 'soldatin': 4958, 'brauner': 4959, 'islamist': 4960, 'juckt': 4961, 'homos': 4962, 'eingestaubtes': 4963, 'einschaltest': 4964, 'nachgedacht': 4965, 'kuemme': 4966, 'gesuelze': 4967, 'oeffentlichen': 4968, 'widerlich': 4969, 'wandlung': 4970, 'entdeckt': 4971, 'grade': 4972, 'kern': 4973, 'einmal': 4974, 'clans': 4975, 'konnte': 4976, 'ahnen': 4977, 'wilhelmtell77': 4978, 'etappe': 4979, 'hingerutscht': 4980, 'hoeren': 4981, 'fuehlen': 4982, 'kurzes': 4983, 'erleuchtungsgefuehl': 4984, 'hoehe': 4985, 'hochhauses': 4986, 'sturzbesoffen': 4987, 'maus': 4988, 'ausgerutscht': 4989, 'redest': 4990, 'sauf': 4991, 'bis': 4992, 'koma': 4993, 'klimaschutz': 4994, 'angeprange': 4995, 'moslemischen': 4996, 'mitbuergerinnen': 4997, 'hinweist': 4998, 'aufrechter': 4999, 'erkenne': 5000, 'jemals': 5001, 'erlangen': 5002, 'tolerant': 5003, 'meinungen': 5004, 'kontraeren': 5005, 'henker': 5006, 'bi': 5007, 'galgenhumor': 5008, 'queere': 5009, 'community': 5010, 'norm': 5011, 'ergehen': 5012, 'euresgleichen': 5013, 'rechtsterror': 5014, 'sa': 5015, 'minister': 5016, 'fluechtlingskriminalitaet': 5017, 'todschlag': 5018, 'sexualdelikte': 5019, 'verbucht': 5020, 'normalitaet': 5021, 'regierungen': 5022, 'traurigsten': 5023, 'storys': 5024, 'todesu': 5025, 'naturwaelder': 5026, 'vernichten': 5027, 'bilder': 5028, 'biden': 5029, 'hauptopfer': 5030, 'politischer': 5031, 'haeufig': 5032, 'attacken': 5033, 'nrw': 5034, 'dialog': 5035, 'demokratischen': 5036, 'diskurs': 5037, 'schoensten': 5038, 'waldlandschaften': 5039, 'sagenumwobene': 5040, 'bislang': 5041, 'windradanlagen': 5042, 'befoerdern': 5043, 'zerstoerung': 5044, 'nordhessen': 5045, 'tichyseinblick': 5046, 'zauberhafter': 5047, 'wofuer': 5048, 'ausgibt': 5049, 'nicaragua': 5050, 'gendersensible': 5051, 'maennerarbeit': 5052, 'kolumbien': 5053, 'gendergerechtigkeit': 5054, 'kontext': 5055, 'friedensprozesses': 5056, 'drucksache': 5057, '10277': 5058, 'ibrahim': 5059, 'sticht': 5060, 'st': 5061, 'pauli': 5062, 'oberschenkel': 5063, 'blut': 5064, 'not': 5065, 'op': 5066, 'gerettet': 5067, 'bewaehrung': 5068, 'geschichtliche': 5069, 'ahnungslosigkeit': 5070, 'moralische': 5071, 'vergesslichkeit': 5072, 'mischt': 5073, 'stoppt': 5074, 'austausch': 5075, 'aktionsvideo': 5076, 'aktion': 5077, 'grossdemo': 5078, '1europafueralle': 5079, '05': 5080, 'kleinstadt': 5081, 'fang': 5082, 'lukas': 5083, 'hilflose': 5084, 'oeffentliche': 5085, 'meiden': 5086, 'mund': 5087, 'noten': 5088, 'unzufrieden': 5089, 'deutschlehrer': 5090, 'komplizen': 5091, 'hinterhalt': 5092, 'lockt': 5093, 'haemmern': 5094, 'erschlagen': 5095, 'plan': 5096, 'misslingt': 5097, 'lehrer': 5098, 'zuwendet': 5099, 'drohung': 5100, 'standardmittel': 5101, 'auseinandersetzung': 5102, 'blatt': 5103, 'distanzie': 5104, 'jugendorganisation': 5105, 'wirpackenan': 5106, 'schulunterricht': 5107, 'nooutsider': 5108, 'abgebaut': 5109, 'manchester': 5110, 'birmingham': 5111, 'massiver': 5112, 'proteste': 5113, 'moslemischer': 5114, 'schwarze': 5115, 'abgebrochen': 5116, 'irakischer': 5117, 'alib': 5118, 'arbeitet': 5119, 'putzt': 5120, 'kocht': 5121, 'kontakt': 5122, 'jungfrau': 5123, 'bessermenschinnen': 5124, 'aufschrei': 5125, 'metoo': 5126, 'huch': 5127, 'murksels': 5128, 'uckermark': 5129, 'gefluechtete': 5130, 'fluchtsuchende': 5131, 'regsprecher': 5132, 'wochen': 5133, 'slum': 5134, 'auffaellig': 5135, 'verdaechtigen': 5136, 'ueberpropo': 5137, 'ional': 5138, 'thingsthatarebadforyourhealth': 5139, 'abstimmung': 5140, 'britischen': 5141, 'volks': 5142, 'beschlossen': 5143, 'akzeptie': 5144, 'empoe': 5145, 'demokratiefeindliche': 5146, 'rottelte': 5147, 'referendum': 5148, 'hauptgrund': 5149, 'massenmigration': 5150, 'gb': 5151, 'ablehnte': 5152, 'weist': 5153, 'votum': 5154, 'ergebnis': 5155, 'kippen': 5156, 'unbesorgt': 5157, 'nachwuchs': 5158, 'gegend': 5159, 'schlendernd': 5160, 'rechtglaeubige': 5161, 'restdeutsche': 5162, 'schleppen': 5163, 'blass': 5164, 'sorgenvoll': 5165, 'bewegen': 5166, 'bestimmten': 5167, 'halbe': 5168, 'frauenfeindlich': 5169, 'homophob': 5170, 'wissenschaftsfeindlich': 5171, 'religioes': 5172, 'gepraegt': 5173, 'deal': 5174, 'bessermenschis': 5175, 'ruhe': 5176, 'koelns': 5177, 'buergermeister': 5178, 'hamma': 5179, 'reker': 5180, 'naiver': 5181, 'einschaetzung': 5182, 'eingekoelscht': 5183, 'jeder': 5184, 'jeck': 5185, 'anders': 5186, 'verschaetzt': 5187, 'grossmoschee': 5188, 'reten': 5189, 'saudi': 5190, 'arabien': 5191, 'shariah': 5192, 'gemeint': 5193, 'regen': 5194, 'sternsinger': 5195, 'sexualisierendes': 5196, 'nennen': 5197, 'amokfah': 5198, 'bottrop': 5199, 'rassismus': 5200, 'gemeldet': 5201, 'chinesen': 5202, 'beilangriff': 5203, 'mufl': 5204, 'rief': 5205, 'feuerwerksverbot': 5206, 'innenstaedten': 5207, 'brave': 5208, 'mitte': 5209, 'jungfernstieg': 5210, 'koeln': 5211, 'knallende': 5212, 'durchgesetzt': 5213, 'deutschwurzelige': 5214, 'christliche': 5215, 'clintons': 5216, 'grenzzaun': 5217, 'mexiko': 5218, 'angetan': 5219, 'schutzmauer': 5220, 'saudis': 5221, 'israelis': 5222, 'amerikaner': 5223, 'grenzuebergaenge': 5224, 'sarg': 5225, 'hessen': 5226, 'bedeckt': 5227, 'rip': 5228, 'satzes': 5229, 'riebener': 5230, 'gesocks': 5231, 'aufspielen': 5232, 'leiche': 5233, 'message': 5234, 'musikalischer': 5235, 'untermalung': 5236, 'christina': 5237, 'stuermer': 5238, 'investigative': 5239, '33': 5240, 'duo': 5241, 'qua': 5242, 'ett': 5243, 'wiles': 5244, 'sitze': 5245, 'maennerquote': 5246, 'frauenquote': 5247, 'produktwerbeagentur': 5248, 'ersetzt': 5249, 'trauriger': 5250, 'siehe': 5251, 'klatschis': 5252, 'erwaehnen': 5253, 'lebensunterhalt': 5254, 'billige': 5255, 'ausnutzen': 5256, 'privatschulen': 5257, 'bodyguards': 5258, 'sprecherin': 5259, 'alten': 5260, 'ueberleben': 5261, '5g': 5262, 'kraftvoll': 5263, 'rumfliegen': 5264, 'top5g': 5265, 'gelernt': 5266, 'glaubst': 5267, 'stinken': 5268, 'entschuldigung': 5269, 'platzt': 5270, 'hiermit': 5271, 'krebsgeschwuer': 5272, 'empfehle': 5273, 'krebsgeschwuere': 5274, 'loszuwerden': 5275, 'diktatorin': 5276, 'physikerin': 5277, 'worueber': 5278, 'totlachen': 5279, 'merz': 5280, 'driftest': 5281, 'anstaendiges': 5282, 'sahra': 5283, 'jahrzehnt': 5284, 'gefueh': 5285, 'mitmischt': 5286, 'durchschnitts': 5287, 'letztens': 5288, 'meter': 5289, 'anomalie': 5290, 'aufgetreten': 5291, 'charleskrueger': 5292, 'hyperion': 5293, 'oesterreichische': 5294, 'boese': 5295, 'zungen': 5296, 'aufbluehen': 5297, '80': 5298, 'youtubern': 5299, 'dahinter': 5300, 'umweltschuetzer': 5301, 'senf': 5302, 'dazugeben': 5303, 'muessten': 5304, 'meckern': 5305, 'sooo': 5306, 'produktionsseite': 5307, 'wettbewerbsfaehig': 5308, 'nutzen': 5309, 'kluegsten': 5310, 'koepfe': 5311, 'dummkoepfen': 5312, 'anstaendigen': 5313, 'rausgeekelt': 5314, 'rebeccas': 5315, 'empfangen': 5316, 'frueh': 5317, 'abtruennige': 5318, 'achtkantig': 5319, 'rausgeschmissen': 5320, 'neubewe': 5321, 'axel': 5322, 'petermann': 5323, 'freunde': 5324, 'verstrahlt': 5325, 'viel': 5326, 'ehe': 5327, 'gleichbehandlungsgesetz': 5328, 'parkinson': 5329, 'per': 5330, 'chip': 5331, 'allera': 5332, 'ehen': 5333, 'toller': 5334, 'nichtstun': 5335, 'verkommen': 5336, 'staatsoberhaeupter': 5337, 'hassen': 5338, 'zeitung': 5339, 'weisheit': 5340, 'rechtes': 5341, 'goerlitzer': 5342, 'park': 5343, 'personal': 5344, 'polizeidienst': 5345, 'meinungsinstitute': 5346, 'griff': 5347, 'wahlautomaten': 5348, 'abtruennigen': 5349, 'zweitbester': 5350, 'hirnl': 5351, 'volli': 5352, 'schalten': 5353, 'locken': 5354, 'ausdenken': 5355, 'gesundschrumpfen': 5356, '47': 5357, 'kesy': 5358, 'erfasst': 5359, 'indiz': 5360, 'unschuld': 5361, '41': 5362, 'losgefahren': 5363, '42': 5364, 'bildung': 5365, 'ueberschaetzt': 5366, 'getarnten': 5367, 'ersetzen': 5368, 'wilfuziusine': 5369, 'sahne': 5370, 'lecken': 5371, 'volumen': 5372, 'berechnen': 5373, 'fuers': 5374, 'abitur': 5375, 'cheblige': 5376, 'lustige': 5377, 'ekel': 5378, 'wilfred': 5379, 'heut': 5380, 'weltlachtag': 5381, 'geimpft': 5382, 'spritzen': 5383, 'krankspritzen': 5384, 'haut': 5385, 'geistiger': 5386, 'lebendig': 5387, 'analyse': 5388, 'betreibt': 5389, 'dunning': 5390, 'kruger': 5391, 'effekt': 5392, 'geschaut': 5393, 'insiderinfo': 5394, 'kaffeetrinker': 5395, 'anhaengern': 5396, 'kindern': 5397, 'hinschmeissen': 5398, 'nutzloses': 5399, 'kohl': 5400, 'schmidt': 5401, 'grab': 5402, 'umgedreht': 5403, 'verfassung': 5404, 'aufruf': 5405, 'gefolgt': 5406, 'juan': 5407, 'guaid': 5408, 'erlauben': 5409, 'gebruellt': 5410, 'truppen': 5411, 'oppositionsfuehrer': 5412, 'leopoldo': 5413, 'pez': 5414, 'linksfaschismus': 5415, 'amok': 5416, 'besserung': 5417, 'genesung': 5418, 'zeiten': 5419, 'verblendete': 5420, 'kurios': 5421, 'entweder': 5422, 'papi': 5423, 'alfred': 5424, 'lebe': 5425, 'guantanamo': 5426, 'koenigen': 5427, 'vergoette': 5428, 'jordanien': 5429, 'haetteniepassierenduerfen': 5430, 'christlich': 5431, 'froh': 5432, 'anpassungsfaehiger': 5433, 'aufrichtiger': 5434, 'pipi': 5435, 'augen': 5436, 'verrecke': 5437, 'mieses': 5438, 'stueck': 5439, 'sch': 5440, 'hochachtung': 5441, 'juedischen': 5442, 'stirbt': 5443, 'abo': 5444, 'windkraft': 5445, 'weggeblasen': 5446, 'reiben': 5447, 'intelligenten': 5448, 'adler': 5449, 'fliehn': 5450, 'spreche': 5451, 'sozusagen': 5452, 'knast': 5453, 'schleckerfrauen': 5454, 'schlimmeren': 5455, 'altersarmut': 5456, 'bedeutungslosigkeit': 5457, 'bewah': 5458, 'orden': 5459, 'schlag': 5460, 'luegenbaron': 5461, 'farbenfrohen': 5462, 'dunkeldeutschland': 5463, 'wahlkampf': 5464, 'ver': 5465, 'pressesprecher': 5466, 'maengel': 5467, 'hingewiesen': 5468, 'geraeten': 5469, 'systemen': 5470, 'mittelalterlichen': 5471, 'ideolog': 5472, 'aufrichtiges': 5473, 'opfern': 5474, 'gewalttaten': 5475, 'himmel': 5476, 'komme': 5477, 'wagen': 5478, 'abgruenige': 5479, 'anmaassende': 5480, 'einzelsitzende': 5481, 'kompletten': 5482, 'alternativvollen': 5483, 'minderheit': 5484, 'solidarisieren': 5485, 'illegalitaet': 5486, 'ausufernde': 5487, 'kim': 5488, 'jong': 5489, 'liebt': 5490, 'sauberem': 5491, 'oekostrom': 5492, 'fahrend': 5493, 'umfeld': 5494, 'verpesten': 5495, 'reiten': 5496, 'eklige': 5497, 'liebste': 5498, 'radikale': 5499, 'wegnehmen': 5500, 'passierern': 5501, 'schwulen': 5502, 'lsvd': 5503, 'nicole': 5504, 'hoechst': 5505, 'rede': 5506, 'langem': 5507, 'streitet': 5508, 'gruppierung': 5509, 'juden': 5510, 'reter': 5511, 'vergiss': 5512, 'trotteln': 5513, 'ausnehmen': 5514, 'tag24': 5515, 'schwagerwars': 5516, 'echter': 5517, 'fuehrungsspitze': 5518, 'ukraine': 5519, 'unfreiwillig': 5520, 'innen': 5521, 'erdogan': 5522, 'kemal': 5523, 'ismus': 5524, 'chefin': 5525, 'kipping': 5526, 'arbeitslosengeld': 5527, 'bedeutend': 5528, 'angelegt': 5529, 'diaet': 5530, 'kannweg': 5531, 'mussweg': 5532, 'trumpf': 5533, 'aufgefallen': 5534, 'philippinen': 5535, 'flesch': 5536, 'spanien': 5537, 'hagen': 5538, 'bulgarien': 5539, 'usf': 5540, 'wers': 5541, 'machts': 5542, 'regierungsjet': 5543, 'regierungsflieger': 5544, 'wiederspiegelt': 5545, 'steuerung': 5546, 'legte': 5547, 'bruchlandung': 5548, 'kippte': 5549, 'rechter': 5550, 'fluegel': 5551, 'irreparabel': 5552, 'beschaedigt': 5553, 'spiegelbild': 5554, 'gutemuetter': 5555, 'ausgebildete': 5556, 'derzeitigen': 5557, 'praedestinie': 5558, 'erfuellen': 5559, 'kinderkriegen': 5560}\n"
          ]
        }
      ]
    },
    {
      "cell_type": "code",
      "source": [
        "\n",
        "\n",
        "encoded_clean_text_t_stem = tok_all.texts_to_sequences(clean_text_t_stem)\n",
        "print(clean_text_t_stem[0])\n",
        "print(encoded_clean_text_t_stem[0])\n",
        "\n"
      ],
      "metadata": {
        "colab": {
          "base_uri": "https://localhost:8080/"
        },
        "id": "-P-pLah2LPxY",
        "outputId": "98234576-792f-4bc7-9654-147fa362c732"
      },
      "execution_count": null,
      "outputs": [
        {
          "output_type": "stream",
          "name": "stdout",
          "text": [
            "gruene intelligenz bestie 'eckhardt', prange  ticker,  christen,sollen moscheen anzuenden   scheinbar  ansicht eckhardt,nur christen taeter frage kommend   wusste ja schon immer,' christen suender'!\n",
            "[27, 1704, 253, 4947, 1163, 3140, 228, 1704, 2126, 517, 695, 22, 5, 31, 1704]\n"
          ]
        }
      ]
    },
    {
      "cell_type": "code",
      "source": [
        "\n",
        "\n",
        "from keras.preprocessing import sequence\n",
        "max_length = 100\n",
        "padded_clean_text_t_stem = sequence.pad_sequences(encoded_clean_text_t_stem, maxlen=max_length, padding='pre')\n",
        "\n"
      ],
      "metadata": {
        "id": "2pMhC-TaLSmb"
      },
      "execution_count": null,
      "outputs": []
    },
    {
      "cell_type": "markdown",
      "source": [
        "# FastText Embeddings\n"
      ],
      "metadata": {
        "id": "5X5wvSctLXIh"
      }
    },
    {
      "cell_type": "code",
      "source": [
        "from google.colab import drive\n",
        "drive.mount('/content/drive')"
      ],
      "metadata": {
        "colab": {
          "base_uri": "https://localhost:8080/"
        },
        "id": "dokXCwzTBF9C",
        "outputId": "b81b3054-bc79-4b70-e231-f0dea1eb1285"
      },
      "execution_count": null,
      "outputs": [
        {
          "output_type": "stream",
          "name": "stdout",
          "text": [
            "Mounted at /content/drive\n"
          ]
        }
      ]
    },
    {
      "cell_type": "code",
      "source": [
        "!gunzip /content/drive/MyDrive/cc.de.300.vec.gz"
      ],
      "metadata": {
        "id": "vWWgtLKGRqeg",
        "colab": {
          "base_uri": "https://localhost:8080/"
        },
        "outputId": "a0e176b9-f336-4ffb-cf14-4b7ef5dfda42"
      },
      "execution_count": null,
      "outputs": [
        {
          "output_type": "stream",
          "name": "stdout",
          "text": [
            "gzip: /content/drive/MyDrive/cc.de.300.vec.gz: No such file or directory\n"
          ]
        }
      ]
    },
    {
      "cell_type": "code",
      "source": [
        "# https://stackoverflow.com/questions/69964788/how-to-unzip-gz-file-using-google-colab\n",
        "\n",
        "# FastText Embedding link - https://fasttext.cc/docs/en/crawl-vectors.html\n",
        "\n",
        "import os\n",
        "embeddings_index = {}\n",
        "f = open('/content/drive/MyDrive/cc.de.300.vec',encoding='utf-8',errors='ignore')\n",
        "for line in f:\n",
        "    values = line.split()\n",
        "    word = values[0]\n",
        "    coefs = np.asarray(values[1:], dtype='float32')\n",
        "    embeddings_index[word] = coefs\n",
        "f.close()\n",
        "print('Loaded %s word vectors.' % len(embeddings_index))\n",
        "\n"
      ],
      "metadata": {
        "colab": {
          "base_uri": "https://localhost:8080/"
        },
        "id": "Qoiw0Dq_BQXE",
        "outputId": "3502fe83-66a0-4fca-efa7-d332be652f4d"
      },
      "execution_count": null,
      "outputs": [
        {
          "output_type": "stream",
          "name": "stdout",
          "text": [
            "Loaded 2000000 word vectors.\n"
          ]
        }
      ]
    },
    {
      "cell_type": "code",
      "source": [
        "\n",
        "\n",
        "embedding_matrix = np.zeros((vocabulary_all+1, 300))\n",
        "for word, i in tok_all.word_index.items():\n",
        "    embedding_vector = embeddings_index.get(word)\n",
        "    if embedding_vector is not None:\n",
        "         embedding_matrix[i] = embedding_vector\n",
        "\n"
      ],
      "metadata": {
        "id": "a3edF-OKEHme"
      },
      "execution_count": null,
      "outputs": []
    },
    {
      "cell_type": "markdown",
      "source": [
        "# CNN 1 Model\n"
      ],
      "metadata": {
        "id": "d6GOcaWlTm3y"
      }
    },
    {
      "cell_type": "code",
      "source": [
        "\n",
        "\n",
        "from keras.preprocessing import sequence\n",
        "from keras.preprocessing import text\n",
        "import numpy as np\n",
        "from keras.models import Sequential\n",
        "from keras.layers import Dense, Dropout, Activation\n",
        "from keras.layers import Embedding, LSTM\n",
        "from keras.layers import Conv1D, Flatten\n",
        "from keras.preprocessing import text\n",
        "from keras.models import Sequential,Model\n",
        "from keras.layers import Dense ,Activation,MaxPool1D,Conv1D,Flatten,Dropout,Activation,Dropout,Input,Lambda,concatenate\n",
        "from keras.utils import np_utils\n",
        "from nltk.corpus import stopwords\n",
        "from nltk.tokenize import RegexpTokenizer\n",
        "from nltk.stem.porter import PorterStemmer\n",
        "import nltk\n",
        "import csv\n",
        "import pandas as pd\n",
        "\n",
        "from keras.preprocessing import text as keras_text, sequence as keras_seq\n",
        "\n"
      ],
      "metadata": {
        "id": "9SFf_1_ITmRV"
      },
      "execution_count": null,
      "outputs": []
    },
    {
      "cell_type": "code",
      "source": [
        "Embedding_Layer = Embedding(vocabulary_all+1, 300, weights=[embedding_matrix], input_length=max_length)"
      ],
      "metadata": {
        "id": "-pMKAUQqTsLu"
      },
      "execution_count": null,
      "outputs": []
    },
    {
      "cell_type": "code",
      "source": [
        "CNN1_network=Sequential([Embedding_Layer,\n",
        "                        Conv1D(128,3,activation=\"relu\",padding='same'),\n",
        "                       Dropout(0.2),\n",
        "                       MaxPool1D(2),\n",
        "                       Flatten(),\n",
        "                       Dense(64,activation=\"relu\"),\n",
        "                       Dropout(0.3),\n",
        "                       Dense(2,activation=\"sigmoid\")\n",
        "                       ])\n",
        "\n"
      ],
      "metadata": {
        "id": "FjDa1as8Ts6r"
      },
      "execution_count": null,
      "outputs": []
    },
    {
      "cell_type": "code",
      "source": [
        "CNN1_network.summary()"
      ],
      "metadata": {
        "colab": {
          "base_uri": "https://localhost:8080/"
        },
        "id": "eiFSH30GTxM9",
        "outputId": "0aa9f5ae-ab32-4912-915b-24386f35e888"
      },
      "execution_count": null,
      "outputs": [
        {
          "output_type": "stream",
          "name": "stdout",
          "text": [
            "Model: \"sequential\"\n",
            "_________________________________________________________________\n",
            " Layer (type)                Output Shape              Param #   \n",
            "=================================================================\n",
            " embedding (Embedding)       (None, 100, 300)          2660100   \n",
            "                                                                 \n",
            " conv1d (Conv1D)             (None, 100, 128)          115328    \n",
            "                                                                 \n",
            " dropout (Dropout)           (None, 100, 128)          0         \n",
            "                                                                 \n",
            " max_pooling1d (MaxPooling1D  (None, 50, 128)          0         \n",
            " )                                                               \n",
            "                                                                 \n",
            " flatten (Flatten)           (None, 6400)              0         \n",
            "                                                                 \n",
            " dense (Dense)               (None, 64)                409664    \n",
            "                                                                 \n",
            " dropout_1 (Dropout)         (None, 64)                0         \n",
            "                                                                 \n",
            " dense_1 (Dense)             (None, 2)                 130       \n",
            "                                                                 \n",
            "=================================================================\n",
            "Total params: 3,185,222\n",
            "Trainable params: 3,185,222\n",
            "Non-trainable params: 0\n",
            "_________________________________________________________________\n"
          ]
        }
      ]
    },
    {
      "cell_type": "code",
      "source": [
        "# https://stackoverflow.com/questions/62707558/importerror-cannot-import-name-adam-from-keras-optimizers\n",
        "from tensorflow.keras.optimizers import Adam\n",
        "CNN1_network.compile(loss = \"binary_crossentropy\", optimizer=Adam(lr=0.00003), metrics=[\"accuracy\"])"
      ],
      "metadata": {
        "colab": {
          "base_uri": "https://localhost:8080/"
        },
        "id": "uhrug6aYT0dU",
        "outputId": "914e0c04-e24b-4af7-e953-32f9e6834c45"
      },
      "execution_count": null,
      "outputs": [
        {
          "output_type": "stream",
          "name": "stderr",
          "text": [
            "/usr/local/lib/python3.7/dist-packages/keras/optimizer_v2/adam.py:105: UserWarning: The `lr` argument is deprecated, use `learning_rate` instead.\n",
            "  super(Adam, self).__init__(name, **kwargs)\n"
          ]
        }
      ]
    },
    {
      "cell_type": "code",
      "source": [
        "from keras.utils.vis_utils import plot_model\n",
        "plot_model(CNN1_network, to_file='CNN2_model.png', show_shapes=True, show_layer_names=True)\n",
        "\n",
        "from keras.callbacks import EarlyStopping, ReduceLROnPlateau,ModelCheckpoint\n",
        "earlystopper = EarlyStopping(patience=8, verbose=1)\n",
        "\n",
        "reduce_lr = ReduceLROnPlateau(monitor='val_loss', factor=0.9,\n",
        "                              patience=2, min_lr=0.00001, verbose=1)\n",
        "\n"
      ],
      "metadata": {
        "id": "dt59qzVBT05I"
      },
      "execution_count": null,
      "outputs": []
    },
    {
      "cell_type": "code",
      "source": [
        "\n",
        "\n",
        "from keras.callbacks import EarlyStopping, ReduceLROnPlateau,ModelCheckpoint\n",
        "earlystopper = EarlyStopping(patience=8, verbose=1)\n",
        "\n",
        "reduce_lr = ReduceLROnPlateau(monitor='val_loss', factor=0.9,\n",
        "                              patience=2, min_lr=0.00001, verbose=1)\n",
        "\n"
      ],
      "metadata": {
        "id": "OcgGKGXRUYKs"
      },
      "execution_count": null,
      "outputs": []
    },
    {
      "cell_type": "markdown",
      "source": [
        "# Model Fitting or Training\n"
      ],
      "metadata": {
        "id": "ZzMJN4vKUauw"
      }
    },
    {
      "cell_type": "code",
      "source": [
        "hist = CNN1_network.fit(padded_clean_text_stem,label_twoDimension,epochs=200,batch_size=32,callbacks=[earlystopper, reduce_lr])"
      ],
      "metadata": {
        "colab": {
          "base_uri": "https://localhost:8080/"
        },
        "id": "0FdQuhx4ZP6B",
        "outputId": "0ccfb619-cc48-49e0-8fe8-929240c65cbe"
      },
      "execution_count": null,
      "outputs": [
        {
          "output_type": "stream",
          "name": "stdout",
          "text": [
            "Epoch 1/200\n",
            "75/75 [==============================] - ETA: 0s - loss: 0.6716 - accuracy: 0.6544"
          ]
        },
        {
          "output_type": "stream",
          "name": "stderr",
          "text": [
            "WARNING:tensorflow:Early stopping conditioned on metric `val_loss` which is not available. Available metrics are: loss,accuracy\n",
            "WARNING:tensorflow:Learning rate reduction is conditioned on metric `val_loss` which is not available. Available metrics are: loss,accuracy,lr\n"
          ]
        },
        {
          "output_type": "stream",
          "name": "stdout",
          "text": [
            "\b\b\b\b\b\b\b\b\b\b\b\b\b\b\b\b\b\b\b\b\b\b\b\b\b\b\b\b\b\b\b\b\b\b\b\b\b\b\b\b\b\b\b\b\b\b\b\b\b\b\b\b\b\b\b\b\b\b\b\b\b\b\b\b\b\b\b\b\b\b\b\b\b\b\b\b\b\b\b\b\b\b\r75/75 [==============================] - 14s 8ms/step - loss: 0.6716 - accuracy: 0.6544 - lr: 3.0000e-05\n",
            "Epoch 2/200\n",
            "68/75 [==========================>...] - ETA: 0s - loss: 0.6037 - accuracy: 0.7188"
          ]
        },
        {
          "output_type": "stream",
          "name": "stderr",
          "text": [
            "WARNING:tensorflow:Early stopping conditioned on metric `val_loss` which is not available. Available metrics are: loss,accuracy\n",
            "WARNING:tensorflow:Learning rate reduction is conditioned on metric `val_loss` which is not available. Available metrics are: loss,accuracy,lr\n"
          ]
        },
        {
          "output_type": "stream",
          "name": "stdout",
          "text": [
            "\b\b\b\b\b\b\b\b\b\b\b\b\b\b\b\b\b\b\b\b\b\b\b\b\b\b\b\b\b\b\b\b\b\b\b\b\b\b\b\b\b\b\b\b\b\b\b\b\b\b\b\b\b\b\b\b\b\b\b\b\b\b\b\b\b\b\b\b\b\b\b\b\b\b\b\b\b\b\b\b\b\b\r75/75 [==============================] - 0s 6ms/step - loss: 0.6043 - accuracy: 0.7164 - lr: 3.0000e-05\n",
            "Epoch 3/200\n",
            "73/75 [============================>.] - ETA: 0s - loss: 0.5938 - accuracy: 0.7179"
          ]
        },
        {
          "output_type": "stream",
          "name": "stderr",
          "text": [
            "WARNING:tensorflow:Early stopping conditioned on metric `val_loss` which is not available. Available metrics are: loss,accuracy\n",
            "WARNING:tensorflow:Learning rate reduction is conditioned on metric `val_loss` which is not available. Available metrics are: loss,accuracy,lr\n"
          ]
        },
        {
          "output_type": "stream",
          "name": "stdout",
          "text": [
            "\b\b\b\b\b\b\b\b\b\b\b\b\b\b\b\b\b\b\b\b\b\b\b\b\b\b\b\b\b\b\b\b\b\b\b\b\b\b\b\b\b\b\b\b\b\b\b\b\b\b\b\b\b\b\b\b\b\b\b\b\b\b\b\b\b\b\b\b\b\b\b\b\b\b\b\b\b\b\b\b\b\b\r75/75 [==============================] - 0s 6ms/step - loss: 0.5954 - accuracy: 0.7164 - lr: 3.0000e-05\n",
            "Epoch 4/200\n",
            "68/75 [==========================>...] - ETA: 0s - loss: 0.5899 - accuracy: 0.7151"
          ]
        },
        {
          "output_type": "stream",
          "name": "stderr",
          "text": [
            "WARNING:tensorflow:Early stopping conditioned on metric `val_loss` which is not available. Available metrics are: loss,accuracy\n",
            "WARNING:tensorflow:Learning rate reduction is conditioned on metric `val_loss` which is not available. Available metrics are: loss,accuracy,lr\n"
          ]
        },
        {
          "output_type": "stream",
          "name": "stdout",
          "text": [
            "\b\b\b\b\b\b\b\b\b\b\b\b\b\b\b\b\b\b\b\b\b\b\b\b\b\b\b\b\b\b\b\b\b\b\b\b\b\b\b\b\b\b\b\b\b\b\b\b\b\b\b\b\b\b\b\b\b\b\b\b\b\b\b\b\b\b\b\b\b\b\b\b\b\b\b\b\b\b\b\b\b\b\r75/75 [==============================] - 0s 6ms/step - loss: 0.5876 - accuracy: 0.7164 - lr: 3.0000e-05\n",
            "Epoch 5/200\n",
            "69/75 [==========================>...] - ETA: 0s - loss: 0.5864 - accuracy: 0.7151"
          ]
        },
        {
          "output_type": "stream",
          "name": "stderr",
          "text": [
            "WARNING:tensorflow:Early stopping conditioned on metric `val_loss` which is not available. Available metrics are: loss,accuracy\n",
            "WARNING:tensorflow:Learning rate reduction is conditioned on metric `val_loss` which is not available. Available metrics are: loss,accuracy,lr\n"
          ]
        },
        {
          "output_type": "stream",
          "name": "stdout",
          "text": [
            "\b\b\b\b\b\b\b\b\b\b\b\b\b\b\b\b\b\b\b\b\b\b\b\b\b\b\b\b\b\b\b\b\b\b\b\b\b\b\b\b\b\b\b\b\b\b\b\b\b\b\b\b\b\b\b\b\b\b\b\b\b\b\b\b\b\b\b\b\b\b\b\b\b\b\b\b\b\b\b\b\b\b\r75/75 [==============================] - 0s 6ms/step - loss: 0.5849 - accuracy: 0.7164 - lr: 3.0000e-05\n",
            "Epoch 6/200\n",
            "66/75 [=========================>....] - ETA: 0s - loss: 0.5801 - accuracy: 0.7169"
          ]
        },
        {
          "output_type": "stream",
          "name": "stderr",
          "text": [
            "WARNING:tensorflow:Early stopping conditioned on metric `val_loss` which is not available. Available metrics are: loss,accuracy\n",
            "WARNING:tensorflow:Learning rate reduction is conditioned on metric `val_loss` which is not available. Available metrics are: loss,accuracy,lr\n"
          ]
        },
        {
          "output_type": "stream",
          "name": "stdout",
          "text": [
            "\b\b\b\b\b\b\b\b\b\b\b\b\b\b\b\b\b\b\b\b\b\b\b\b\b\b\b\b\b\b\b\b\b\b\b\b\b\b\b\b\b\b\b\b\b\b\b\b\b\b\b\b\b\b\b\b\b\b\b\b\b\b\b\b\b\b\b\b\b\b\b\b\b\b\b\b\b\b\b\b\b\b\r75/75 [==============================] - 0s 6ms/step - loss: 0.5805 - accuracy: 0.7164 - lr: 3.0000e-05\n",
            "Epoch 7/200\n",
            "67/75 [=========================>....] - ETA: 0s - loss: 0.5741 - accuracy: 0.7169"
          ]
        },
        {
          "output_type": "stream",
          "name": "stderr",
          "text": [
            "WARNING:tensorflow:Early stopping conditioned on metric `val_loss` which is not available. Available metrics are: loss,accuracy\n",
            "WARNING:tensorflow:Learning rate reduction is conditioned on metric `val_loss` which is not available. Available metrics are: loss,accuracy,lr\n"
          ]
        },
        {
          "output_type": "stream",
          "name": "stdout",
          "text": [
            "\b\b\b\b\b\b\b\b\b\b\b\b\b\b\b\b\b\b\b\b\b\b\b\b\b\b\b\b\b\b\b\b\b\b\b\b\b\b\b\b\b\b\b\b\b\b\b\b\b\b\b\b\b\b\b\b\b\b\b\b\b\b\b\b\b\b\b\b\b\b\b\b\b\b\b\b\b\b\b\b\b\b\r75/75 [==============================] - 0s 6ms/step - loss: 0.5732 - accuracy: 0.7164 - lr: 3.0000e-05\n",
            "Epoch 8/200\n",
            "73/75 [============================>.] - ETA: 0s - loss: 0.5620 - accuracy: 0.7183"
          ]
        },
        {
          "output_type": "stream",
          "name": "stderr",
          "text": [
            "WARNING:tensorflow:Early stopping conditioned on metric `val_loss` which is not available. Available metrics are: loss,accuracy\n",
            "WARNING:tensorflow:Learning rate reduction is conditioned on metric `val_loss` which is not available. Available metrics are: loss,accuracy,lr\n"
          ]
        },
        {
          "output_type": "stream",
          "name": "stdout",
          "text": [
            "\b\b\b\b\b\b\b\b\b\b\b\b\b\b\b\b\b\b\b\b\b\b\b\b\b\b\b\b\b\b\b\b\b\b\b\b\b\b\b\b\b\b\b\b\b\b\b\b\b\b\b\b\b\b\b\b\b\b\b\b\b\b\b\b\b\b\b\b\b\b\b\b\b\b\b\b\b\b\b\b\b\b\r75/75 [==============================] - 0s 6ms/step - loss: 0.5634 - accuracy: 0.7164 - lr: 3.0000e-05\n",
            "Epoch 9/200\n",
            "68/75 [==========================>...] - ETA: 0s - loss: 0.5507 - accuracy: 0.7174"
          ]
        },
        {
          "output_type": "stream",
          "name": "stderr",
          "text": [
            "WARNING:tensorflow:Early stopping conditioned on metric `val_loss` which is not available. Available metrics are: loss,accuracy\n",
            "WARNING:tensorflow:Learning rate reduction is conditioned on metric `val_loss` which is not available. Available metrics are: loss,accuracy,lr\n"
          ]
        },
        {
          "output_type": "stream",
          "name": "stdout",
          "text": [
            "\b\b\b\b\b\b\b\b\b\b\b\b\b\b\b\b\b\b\b\b\b\b\b\b\b\b\b\b\b\b\b\b\b\b\b\b\b\b\b\b\b\b\b\b\b\b\b\b\b\b\b\b\b\b\b\b\b\b\b\b\b\b\b\b\b\b\b\b\b\b\b\b\b\b\b\b\b\b\b\b\b\b\r75/75 [==============================] - 0s 6ms/step - loss: 0.5497 - accuracy: 0.7164 - lr: 3.0000e-05\n",
            "Epoch 10/200\n",
            "69/75 [==========================>...] - ETA: 0s - loss: 0.5397 - accuracy: 0.7156"
          ]
        },
        {
          "output_type": "stream",
          "name": "stderr",
          "text": [
            "WARNING:tensorflow:Early stopping conditioned on metric `val_loss` which is not available. Available metrics are: loss,accuracy\n",
            "WARNING:tensorflow:Learning rate reduction is conditioned on metric `val_loss` which is not available. Available metrics are: loss,accuracy,lr\n"
          ]
        },
        {
          "output_type": "stream",
          "name": "stdout",
          "text": [
            "\b\b\b\b\b\b\b\b\b\b\b\b\b\b\b\b\b\b\b\b\b\b\b\b\b\b\b\b\b\b\b\b\b\b\b\b\b\b\b\b\b\b\b\b\b\b\b\b\b\b\b\b\b\b\b\b\b\b\b\b\b\b\b\b\b\b\b\b\b\b\b\b\b\b\b\b\b\b\b\b\b\b\r75/75 [==============================] - 0s 5ms/step - loss: 0.5371 - accuracy: 0.7198 - lr: 3.0000e-05\n",
            "Epoch 11/200\n",
            "69/75 [==========================>...] - ETA: 0s - loss: 0.5176 - accuracy: 0.7255"
          ]
        },
        {
          "output_type": "stream",
          "name": "stderr",
          "text": [
            "WARNING:tensorflow:Early stopping conditioned on metric `val_loss` which is not available. Available metrics are: loss,accuracy\n",
            "WARNING:tensorflow:Learning rate reduction is conditioned on metric `val_loss` which is not available. Available metrics are: loss,accuracy,lr\n"
          ]
        },
        {
          "output_type": "stream",
          "name": "stdout",
          "text": [
            "\b\b\b\b\b\b\b\b\b\b\b\b\b\b\b\b\b\b\b\b\b\b\b\b\b\b\b\b\b\b\b\b\b\b\b\b\b\b\b\b\b\b\b\b\b\b\b\b\b\b\b\b\b\b\b\b\b\b\b\b\b\b\b\b\b\b\b\b\b\b\b\b\b\b\b\b\b\b\b\b\b\b\r75/75 [==============================] - 0s 6ms/step - loss: 0.5159 - accuracy: 0.7290 - lr: 3.0000e-05\n",
            "Epoch 12/200\n",
            "69/75 [==========================>...] - ETA: 0s - loss: 0.4921 - accuracy: 0.7514"
          ]
        },
        {
          "output_type": "stream",
          "name": "stderr",
          "text": [
            "WARNING:tensorflow:Early stopping conditioned on metric `val_loss` which is not available. Available metrics are: loss,accuracy\n",
            "WARNING:tensorflow:Learning rate reduction is conditioned on metric `val_loss` which is not available. Available metrics are: loss,accuracy,lr\n"
          ]
        },
        {
          "output_type": "stream",
          "name": "stdout",
          "text": [
            "\b\b\b\b\b\b\b\b\b\b\b\b\b\b\b\b\b\b\b\b\b\b\b\b\b\b\b\b\b\b\b\b\b\b\b\b\b\b\b\b\b\b\b\b\b\b\b\b\b\b\b\b\b\b\b\b\b\b\b\b\b\b\b\b\b\b\b\b\b\b\b\b\b\b\b\b\b\b\b\b\b\b\r75/75 [==============================] - 0s 6ms/step - loss: 0.4890 - accuracy: 0.7539 - lr: 3.0000e-05\n",
            "Epoch 13/200\n",
            "68/75 [==========================>...] - ETA: 0s - loss: 0.4571 - accuracy: 0.7698"
          ]
        },
        {
          "output_type": "stream",
          "name": "stderr",
          "text": [
            "WARNING:tensorflow:Early stopping conditioned on metric `val_loss` which is not available. Available metrics are: loss,accuracy\n",
            "WARNING:tensorflow:Learning rate reduction is conditioned on metric `val_loss` which is not available. Available metrics are: loss,accuracy,lr\n"
          ]
        },
        {
          "output_type": "stream",
          "name": "stdout",
          "text": [
            "\b\b\b\b\b\b\b\b\b\b\b\b\b\b\b\b\b\b\b\b\b\b\b\b\b\b\b\b\b\b\b\b\b\b\b\b\b\b\b\b\b\b\b\b\b\b\b\b\b\b\b\b\b\b\b\b\b\b\b\b\b\b\b\b\b\b\b\b\b\b\b\b\b\b\b\b\b\b\b\b\b\b\r75/75 [==============================] - 0s 6ms/step - loss: 0.4568 - accuracy: 0.7729 - lr: 3.0000e-05\n",
            "Epoch 14/200\n",
            "67/75 [=========================>....] - ETA: 0s - loss: 0.4206 - accuracy: 0.8111"
          ]
        },
        {
          "output_type": "stream",
          "name": "stderr",
          "text": [
            "WARNING:tensorflow:Early stopping conditioned on metric `val_loss` which is not available. Available metrics are: loss,accuracy\n",
            "WARNING:tensorflow:Learning rate reduction is conditioned on metric `val_loss` which is not available. Available metrics are: loss,accuracy,lr\n"
          ]
        },
        {
          "output_type": "stream",
          "name": "stdout",
          "text": [
            "\b\b\b\b\b\b\b\b\b\b\b\b\b\b\b\b\b\b\b\b\b\b\b\b\b\b\b\b\b\b\b\b\b\b\b\b\b\b\b\b\b\b\b\b\b\b\b\b\b\b\b\b\b\b\b\b\b\b\b\b\b\b\b\b\b\b\b\b\b\b\b\b\b\b\b\b\b\b\b\b\b\b\r75/75 [==============================] - 0s 6ms/step - loss: 0.4230 - accuracy: 0.8091 - lr: 3.0000e-05\n",
            "Epoch 15/200\n",
            "68/75 [==========================>...] - ETA: 0s - loss: 0.3882 - accuracy: 0.8373"
          ]
        },
        {
          "output_type": "stream",
          "name": "stderr",
          "text": [
            "WARNING:tensorflow:Early stopping conditioned on metric `val_loss` which is not available. Available metrics are: loss,accuracy\n",
            "WARNING:tensorflow:Learning rate reduction is conditioned on metric `val_loss` which is not available. Available metrics are: loss,accuracy,lr\n"
          ]
        },
        {
          "output_type": "stream",
          "name": "stdout",
          "text": [
            "\b\b\b\b\b\b\b\b\b\b\b\b\b\b\b\b\b\b\b\b\b\b\b\b\b\b\b\b\b\b\b\b\b\b\b\b\b\b\b\b\b\b\b\b\b\b\b\b\b\b\b\b\b\b\b\b\b\b\b\b\b\b\b\b\b\b\b\b\b\b\b\b\b\b\b\b\b\b\b\b\b\b\r75/75 [==============================] - 0s 6ms/step - loss: 0.3860 - accuracy: 0.8399 - lr: 3.0000e-05\n",
            "Epoch 16/200\n",
            "70/75 [===========================>..] - ETA: 0s - loss: 0.3542 - accuracy: 0.8612"
          ]
        },
        {
          "output_type": "stream",
          "name": "stderr",
          "text": [
            "WARNING:tensorflow:Early stopping conditioned on metric `val_loss` which is not available. Available metrics are: loss,accuracy\n",
            "WARNING:tensorflow:Learning rate reduction is conditioned on metric `val_loss` which is not available. Available metrics are: loss,accuracy,lr\n"
          ]
        },
        {
          "output_type": "stream",
          "name": "stdout",
          "text": [
            "\b\b\b\b\b\b\b\b\b\b\b\b\b\b\b\b\b\b\b\b\b\b\b\b\b\b\b\b\b\b\b\b\b\b\b\b\b\b\b\b\b\b\b\b\b\b\b\b\b\b\b\b\b\b\b\b\b\b\b\b\b\b\b\b\b\b\b\b\b\b\b\b\b\b\b\b\b\b\b\b\b\b\r75/75 [==============================] - 0s 6ms/step - loss: 0.3543 - accuracy: 0.8601 - lr: 3.0000e-05\n",
            "Epoch 17/200\n",
            "70/75 [===========================>..] - ETA: 0s - loss: 0.3287 - accuracy: 0.8768"
          ]
        },
        {
          "output_type": "stream",
          "name": "stderr",
          "text": [
            "WARNING:tensorflow:Early stopping conditioned on metric `val_loss` which is not available. Available metrics are: loss,accuracy\n",
            "WARNING:tensorflow:Learning rate reduction is conditioned on metric `val_loss` which is not available. Available metrics are: loss,accuracy,lr\n"
          ]
        },
        {
          "output_type": "stream",
          "name": "stdout",
          "text": [
            "\b\b\b\b\b\b\b\b\b\b\b\b\b\b\b\b\b\b\b\b\b\b\b\b\b\b\b\b\b\b\b\b\b\b\b\b\b\b\b\b\b\b\b\b\b\b\b\b\b\b\b\b\b\b\b\b\b\b\b\b\b\b\b\b\b\b\b\b\b\b\b\b\b\b\b\b\b\b\b\b\b\b\r75/75 [==============================] - 0s 6ms/step - loss: 0.3235 - accuracy: 0.8803 - lr: 3.0000e-05\n",
            "Epoch 18/200\n",
            "66/75 [=========================>....] - ETA: 0s - loss: 0.2942 - accuracy: 0.8930"
          ]
        },
        {
          "output_type": "stream",
          "name": "stderr",
          "text": [
            "WARNING:tensorflow:Early stopping conditioned on metric `val_loss` which is not available. Available metrics are: loss,accuracy\n",
            "WARNING:tensorflow:Learning rate reduction is conditioned on metric `val_loss` which is not available. Available metrics are: loss,accuracy,lr\n"
          ]
        },
        {
          "output_type": "stream",
          "name": "stdout",
          "text": [
            "\b\b\b\b\b\b\b\b\b\b\b\b\b\b\b\b\b\b\b\b\b\b\b\b\b\b\b\b\b\b\b\b\b\b\b\b\b\b\b\b\b\b\b\b\b\b\b\b\b\b\b\b\b\b\b\b\b\b\b\b\b\b\b\b\b\b\b\b\b\b\b\b\b\b\b\b\b\b\b\b\b\b\r75/75 [==============================] - 0s 6ms/step - loss: 0.2926 - accuracy: 0.8938 - lr: 3.0000e-05\n",
            "Epoch 19/200\n",
            "67/75 [=========================>....] - ETA: 0s - loss: 0.2630 - accuracy: 0.9002"
          ]
        },
        {
          "output_type": "stream",
          "name": "stderr",
          "text": [
            "WARNING:tensorflow:Early stopping conditioned on metric `val_loss` which is not available. Available metrics are: loss,accuracy\n",
            "WARNING:tensorflow:Learning rate reduction is conditioned on metric `val_loss` which is not available. Available metrics are: loss,accuracy,lr\n"
          ]
        },
        {
          "output_type": "stream",
          "name": "stdout",
          "text": [
            "\b\b\b\b\b\b\b\b\b\b\b\b\b\b\b\b\b\b\b\b\b\b\b\b\b\b\b\b\b\b\b\b\b\b\b\b\b\b\b\b\b\b\b\b\b\b\b\b\b\b\b\b\b\b\b\b\b\b\b\b\b\b\b\b\b\b\b\b\b\b\b\b\b\b\b\b\b\b\b\b\b\b\r75/75 [==============================] - 0s 6ms/step - loss: 0.2643 - accuracy: 0.8980 - lr: 3.0000e-05\n",
            "Epoch 20/200\n",
            "67/75 [=========================>....] - ETA: 0s - loss: 0.2387 - accuracy: 0.9156"
          ]
        },
        {
          "output_type": "stream",
          "name": "stderr",
          "text": [
            "WARNING:tensorflow:Early stopping conditioned on metric `val_loss` which is not available. Available metrics are: loss,accuracy\n",
            "WARNING:tensorflow:Learning rate reduction is conditioned on metric `val_loss` which is not available. Available metrics are: loss,accuracy,lr\n"
          ]
        },
        {
          "output_type": "stream",
          "name": "stdout",
          "text": [
            "\b\b\b\b\b\b\b\b\b\b\b\b\b\b\b\b\b\b\b\b\b\b\b\b\b\b\b\b\b\b\b\b\b\b\b\b\b\b\b\b\b\b\b\b\b\b\b\b\b\b\b\b\b\b\b\b\b\b\b\b\b\b\b\b\b\b\b\b\b\b\b\b\b\b\b\b\b\b\b\b\b\b\r75/75 [==============================] - 0s 6ms/step - loss: 0.2408 - accuracy: 0.9136 - lr: 3.0000e-05\n",
            "Epoch 21/200\n",
            "68/75 [==========================>...] - ETA: 0s - loss: 0.2178 - accuracy: 0.9228"
          ]
        },
        {
          "output_type": "stream",
          "name": "stderr",
          "text": [
            "WARNING:tensorflow:Early stopping conditioned on metric `val_loss` which is not available. Available metrics are: loss,accuracy\n",
            "WARNING:tensorflow:Learning rate reduction is conditioned on metric `val_loss` which is not available. Available metrics are: loss,accuracy,lr\n"
          ]
        },
        {
          "output_type": "stream",
          "name": "stdout",
          "text": [
            "\b\b\b\b\b\b\b\b\b\b\b\b\b\b\b\b\b\b\b\b\b\b\b\b\b\b\b\b\b\b\b\b\b\b\b\b\b\b\b\b\b\b\b\b\b\b\b\b\b\b\b\b\b\b\b\b\b\b\b\b\b\b\b\b\b\b\b\b\b\b\b\b\b\b\b\b\b\b\b\b\b\b\r75/75 [==============================] - 0s 6ms/step - loss: 0.2178 - accuracy: 0.9208 - lr: 3.0000e-05\n",
            "Epoch 22/200\n",
            "75/75 [==============================] - ETA: 0s - loss: 0.1984 - accuracy: 0.9330"
          ]
        },
        {
          "output_type": "stream",
          "name": "stderr",
          "text": [
            "WARNING:tensorflow:Early stopping conditioned on metric `val_loss` which is not available. Available metrics are: loss,accuracy\n",
            "WARNING:tensorflow:Learning rate reduction is conditioned on metric `val_loss` which is not available. Available metrics are: loss,accuracy,lr\n"
          ]
        },
        {
          "output_type": "stream",
          "name": "stdout",
          "text": [
            "\b\b\b\b\b\b\b\b\b\b\b\b\b\b\b\b\b\b\b\b\b\b\b\b\b\b\b\b\b\b\b\b\b\b\b\b\b\b\b\b\b\b\b\b\b\b\b\b\b\b\b\b\b\b\b\b\b\b\b\b\b\b\b\b\b\b\b\b\b\b\b\b\b\b\b\b\b\b\b\b\b\b\r75/75 [==============================] - 0s 6ms/step - loss: 0.1984 - accuracy: 0.9330 - lr: 3.0000e-05\n",
            "Epoch 23/200\n",
            "70/75 [===========================>..] - ETA: 0s - loss: 0.1761 - accuracy: 0.9411"
          ]
        },
        {
          "output_type": "stream",
          "name": "stderr",
          "text": [
            "WARNING:tensorflow:Early stopping conditioned on metric `val_loss` which is not available. Available metrics are: loss,accuracy\n",
            "WARNING:tensorflow:Learning rate reduction is conditioned on metric `val_loss` which is not available. Available metrics are: loss,accuracy,lr\n"
          ]
        },
        {
          "output_type": "stream",
          "name": "stdout",
          "text": [
            "\b\b\b\b\b\b\b\b\b\b\b\b\b\b\b\b\b\b\b\b\b\b\b\b\b\b\b\b\b\b\b\b\b\b\b\b\b\b\b\b\b\b\b\b\b\b\b\b\b\b\b\b\b\b\b\b\b\b\b\b\b\b\b\b\b\b\b\b\b\b\b\b\b\b\b\b\b\b\b\b\b\b\r75/75 [==============================] - 0s 6ms/step - loss: 0.1754 - accuracy: 0.9418 - lr: 3.0000e-05\n",
            "Epoch 24/200\n",
            "68/75 [==========================>...] - ETA: 0s - loss: 0.1588 - accuracy: 0.9508"
          ]
        },
        {
          "output_type": "stream",
          "name": "stderr",
          "text": [
            "WARNING:tensorflow:Early stopping conditioned on metric `val_loss` which is not available. Available metrics are: loss,accuracy\n",
            "WARNING:tensorflow:Learning rate reduction is conditioned on metric `val_loss` which is not available. Available metrics are: loss,accuracy,lr\n"
          ]
        },
        {
          "output_type": "stream",
          "name": "stdout",
          "text": [
            "\b\b\b\b\b\b\b\b\b\b\b\b\b\b\b\b\b\b\b\b\b\b\b\b\b\b\b\b\b\b\b\b\b\b\b\b\b\b\b\b\b\b\b\b\b\b\b\b\b\b\b\b\b\b\b\b\b\b\b\b\b\b\b\b\b\b\b\b\b\b\b\b\b\b\b\b\b\b\b\b\b\b\r75/75 [==============================] - 0s 6ms/step - loss: 0.1594 - accuracy: 0.9520 - lr: 3.0000e-05\n",
            "Epoch 25/200\n",
            "70/75 [===========================>..] - ETA: 0s - loss: 0.1488 - accuracy: 0.9527"
          ]
        },
        {
          "output_type": "stream",
          "name": "stderr",
          "text": [
            "WARNING:tensorflow:Early stopping conditioned on metric `val_loss` which is not available. Available metrics are: loss,accuracy\n",
            "WARNING:tensorflow:Learning rate reduction is conditioned on metric `val_loss` which is not available. Available metrics are: loss,accuracy,lr\n"
          ]
        },
        {
          "output_type": "stream",
          "name": "stdout",
          "text": [
            "\b\b\b\b\b\b\b\b\b\b\b\b\b\b\b\b\b\b\b\b\b\b\b\b\b\b\b\b\b\b\b\b\b\b\b\b\b\b\b\b\b\b\b\b\b\b\b\b\b\b\b\b\b\b\b\b\b\b\b\b\b\b\b\b\b\b\b\b\b\b\b\b\b\b\b\b\b\b\b\b\b\b\r75/75 [==============================] - 0s 6ms/step - loss: 0.1461 - accuracy: 0.9549 - lr: 3.0000e-05\n",
            "Epoch 26/200\n",
            "69/75 [==========================>...] - ETA: 0s - loss: 0.1325 - accuracy: 0.9601"
          ]
        },
        {
          "output_type": "stream",
          "name": "stderr",
          "text": [
            "WARNING:tensorflow:Early stopping conditioned on metric `val_loss` which is not available. Available metrics are: loss,accuracy\n",
            "WARNING:tensorflow:Learning rate reduction is conditioned on metric `val_loss` which is not available. Available metrics are: loss,accuracy,lr\n"
          ]
        },
        {
          "output_type": "stream",
          "name": "stdout",
          "text": [
            "\b\b\b\b\b\b\b\b\b\b\b\b\b\b\b\b\b\b\b\b\b\b\b\b\b\b\b\b\b\b\b\b\b\b\b\b\b\b\b\b\b\b\b\b\b\b\b\b\b\b\b\b\b\b\b\b\b\b\b\b\b\b\b\b\b\b\b\b\b\b\b\b\b\b\b\b\b\b\b\b\b\b\r75/75 [==============================] - 0s 6ms/step - loss: 0.1299 - accuracy: 0.9604 - lr: 3.0000e-05\n",
            "Epoch 27/200\n",
            "70/75 [===========================>..] - ETA: 0s - loss: 0.1216 - accuracy: 0.9670"
          ]
        },
        {
          "output_type": "stream",
          "name": "stderr",
          "text": [
            "WARNING:tensorflow:Early stopping conditioned on metric `val_loss` which is not available. Available metrics are: loss,accuracy\n",
            "WARNING:tensorflow:Learning rate reduction is conditioned on metric `val_loss` which is not available. Available metrics are: loss,accuracy,lr\n"
          ]
        },
        {
          "output_type": "stream",
          "name": "stdout",
          "text": [
            "\b\b\b\b\b\b\b\b\b\b\b\b\b\b\b\b\b\b\b\b\b\b\b\b\b\b\b\b\b\b\b\b\b\b\b\b\b\b\b\b\b\b\b\b\b\b\b\b\b\b\b\b\b\b\b\b\b\b\b\b\b\b\b\b\b\b\b\b\b\b\b\b\b\b\b\b\b\b\b\b\b\b\r75/75 [==============================] - 0s 6ms/step - loss: 0.1194 - accuracy: 0.9676 - lr: 3.0000e-05\n",
            "Epoch 28/200\n",
            "74/75 [============================>.] - ETA: 0s - loss: 0.1080 - accuracy: 0.9713"
          ]
        },
        {
          "output_type": "stream",
          "name": "stderr",
          "text": [
            "WARNING:tensorflow:Early stopping conditioned on metric `val_loss` which is not available. Available metrics are: loss,accuracy\n",
            "WARNING:tensorflow:Learning rate reduction is conditioned on metric `val_loss` which is not available. Available metrics are: loss,accuracy,lr\n"
          ]
        },
        {
          "output_type": "stream",
          "name": "stdout",
          "text": [
            "\b\b\b\b\b\b\b\b\b\b\b\b\b\b\b\b\b\b\b\b\b\b\b\b\b\b\b\b\b\b\b\b\b\b\b\b\b\b\b\b\b\b\b\b\b\b\b\b\b\b\b\b\b\b\b\b\b\b\b\b\b\b\b\b\b\b\b\b\b\b\b\b\b\b\b\b\b\b\b\b\b\b\r75/75 [==============================] - 0s 6ms/step - loss: 0.1080 - accuracy: 0.9713 - lr: 3.0000e-05\n",
            "Epoch 29/200\n",
            "66/75 [=========================>....] - ETA: 0s - loss: 0.1026 - accuracy: 0.9725"
          ]
        },
        {
          "output_type": "stream",
          "name": "stderr",
          "text": [
            "WARNING:tensorflow:Early stopping conditioned on metric `val_loss` which is not available. Available metrics are: loss,accuracy\n",
            "WARNING:tensorflow:Learning rate reduction is conditioned on metric `val_loss` which is not available. Available metrics are: loss,accuracy,lr\n"
          ]
        },
        {
          "output_type": "stream",
          "name": "stdout",
          "text": [
            "\b\b\b\b\b\b\b\b\b\b\b\b\b\b\b\b\b\b\b\b\b\b\b\b\b\b\b\b\b\b\b\b\b\b\b\b\b\b\b\b\b\b\b\b\b\b\b\b\b\b\b\b\b\b\b\b\b\b\b\b\b\b\b\b\b\b\b\b\b\b\b\b\b\b\b\b\b\b\b\b\b\b\r75/75 [==============================] - 0s 6ms/step - loss: 0.1003 - accuracy: 0.9726 - lr: 3.0000e-05\n",
            "Epoch 30/200\n",
            "74/75 [============================>.] - ETA: 0s - loss: 0.0868 - accuracy: 0.9768"
          ]
        },
        {
          "output_type": "stream",
          "name": "stderr",
          "text": [
            "WARNING:tensorflow:Early stopping conditioned on metric `val_loss` which is not available. Available metrics are: loss,accuracy\n",
            "WARNING:tensorflow:Learning rate reduction is conditioned on metric `val_loss` which is not available. Available metrics are: loss,accuracy,lr\n"
          ]
        },
        {
          "output_type": "stream",
          "name": "stdout",
          "text": [
            "\b\b\b\b\b\b\b\b\b\b\b\b\b\b\b\b\b\b\b\b\b\b\b\b\b\b\b\b\b\b\b\b\b\b\b\b\b\b\b\b\b\b\b\b\b\b\b\b\b\b\b\b\b\b\b\b\b\b\b\b\b\b\b\b\b\b\b\b\b\b\b\b\b\b\b\b\b\b\b\b\b\b\r75/75 [==============================] - 0s 6ms/step - loss: 0.0867 - accuracy: 0.9768 - lr: 3.0000e-05\n",
            "Epoch 31/200\n",
            "67/75 [=========================>....] - ETA: 0s - loss: 0.0819 - accuracy: 0.9799"
          ]
        },
        {
          "output_type": "stream",
          "name": "stderr",
          "text": [
            "WARNING:tensorflow:Early stopping conditioned on metric `val_loss` which is not available. Available metrics are: loss,accuracy\n",
            "WARNING:tensorflow:Learning rate reduction is conditioned on metric `val_loss` which is not available. Available metrics are: loss,accuracy,lr\n"
          ]
        },
        {
          "output_type": "stream",
          "name": "stdout",
          "text": [
            "\b\b\b\b\b\b\b\b\b\b\b\b\b\b\b\b\b\b\b\b\b\b\b\b\b\b\b\b\b\b\b\b\b\b\b\b\b\b\b\b\b\b\b\b\b\b\b\b\b\b\b\b\b\b\b\b\b\b\b\b\b\b\b\b\b\b\b\b\b\b\b\b\b\b\b\b\b\b\b\b\b\b\r75/75 [==============================] - 0s 6ms/step - loss: 0.0802 - accuracy: 0.9810 - lr: 3.0000e-05\n",
            "Epoch 32/200\n",
            "74/75 [============================>.] - ETA: 0s - loss: 0.0747 - accuracy: 0.9831"
          ]
        },
        {
          "output_type": "stream",
          "name": "stderr",
          "text": [
            "WARNING:tensorflow:Early stopping conditioned on metric `val_loss` which is not available. Available metrics are: loss,accuracy\n",
            "WARNING:tensorflow:Learning rate reduction is conditioned on metric `val_loss` which is not available. Available metrics are: loss,accuracy,lr\n"
          ]
        },
        {
          "output_type": "stream",
          "name": "stdout",
          "text": [
            "\b\b\b\b\b\b\b\b\b\b\b\b\b\b\b\b\b\b\b\b\b\b\b\b\b\b\b\b\b\b\b\b\b\b\b\b\b\b\b\b\b\b\b\b\b\b\b\b\b\b\b\b\b\b\b\b\b\b\b\b\b\b\b\b\b\b\b\b\b\b\b\b\b\b\b\b\b\b\b\b\b\b\r75/75 [==============================] - 0s 6ms/step - loss: 0.0748 - accuracy: 0.9831 - lr: 3.0000e-05\n",
            "Epoch 33/200\n",
            "69/75 [==========================>...] - ETA: 0s - loss: 0.0688 - accuracy: 0.9837"
          ]
        },
        {
          "output_type": "stream",
          "name": "stderr",
          "text": [
            "WARNING:tensorflow:Early stopping conditioned on metric `val_loss` which is not available. Available metrics are: loss,accuracy\n",
            "WARNING:tensorflow:Learning rate reduction is conditioned on metric `val_loss` which is not available. Available metrics are: loss,accuracy,lr\n"
          ]
        },
        {
          "output_type": "stream",
          "name": "stdout",
          "text": [
            "\b\b\b\b\b\b\b\b\b\b\b\b\b\b\b\b\b\b\b\b\b\b\b\b\b\b\b\b\b\b\b\b\b\b\b\b\b\b\b\b\b\b\b\b\b\b\b\b\b\b\b\b\b\b\b\b\b\b\b\b\b\b\b\b\b\b\b\b\b\b\b\b\b\b\b\b\b\b\b\b\b\b\r75/75 [==============================] - 0s 6ms/step - loss: 0.0694 - accuracy: 0.9827 - lr: 3.0000e-05\n",
            "Epoch 34/200\n",
            "68/75 [==========================>...] - ETA: 0s - loss: 0.0613 - accuracy: 0.9853"
          ]
        },
        {
          "output_type": "stream",
          "name": "stderr",
          "text": [
            "WARNING:tensorflow:Early stopping conditioned on metric `val_loss` which is not available. Available metrics are: loss,accuracy\n",
            "WARNING:tensorflow:Learning rate reduction is conditioned on metric `val_loss` which is not available. Available metrics are: loss,accuracy,lr\n"
          ]
        },
        {
          "output_type": "stream",
          "name": "stdout",
          "text": [
            "\b\b\b\b\b\b\b\b\b\b\b\b\b\b\b\b\b\b\b\b\b\b\b\b\b\b\b\b\b\b\b\b\b\b\b\b\b\b\b\b\b\b\b\b\b\b\b\b\b\b\b\b\b\b\b\b\b\b\b\b\b\b\b\b\b\b\b\b\b\b\b\b\b\b\b\b\b\b\b\b\b\b\r75/75 [==============================] - 0s 6ms/step - loss: 0.0609 - accuracy: 0.9848 - lr: 3.0000e-05\n",
            "Epoch 35/200\n",
            "75/75 [==============================] - ETA: 0s - loss: 0.0589 - accuracy: 0.9869"
          ]
        },
        {
          "output_type": "stream",
          "name": "stderr",
          "text": [
            "WARNING:tensorflow:Early stopping conditioned on metric `val_loss` which is not available. Available metrics are: loss,accuracy\n",
            "WARNING:tensorflow:Learning rate reduction is conditioned on metric `val_loss` which is not available. Available metrics are: loss,accuracy,lr\n"
          ]
        },
        {
          "output_type": "stream",
          "name": "stdout",
          "text": [
            "\b\b\b\b\b\b\b\b\b\b\b\b\b\b\b\b\b\b\b\b\b\b\b\b\b\b\b\b\b\b\b\b\b\b\b\b\b\b\b\b\b\b\b\b\b\b\b\b\b\b\b\b\b\b\b\b\b\b\b\b\b\b\b\b\b\b\b\b\b\b\b\b\b\b\b\b\b\b\b\b\b\b\r75/75 [==============================] - 0s 6ms/step - loss: 0.0589 - accuracy: 0.9869 - lr: 3.0000e-05\n",
            "Epoch 36/200\n",
            "67/75 [=========================>....] - ETA: 0s - loss: 0.0547 - accuracy: 0.9874"
          ]
        },
        {
          "output_type": "stream",
          "name": "stderr",
          "text": [
            "WARNING:tensorflow:Early stopping conditioned on metric `val_loss` which is not available. Available metrics are: loss,accuracy\n",
            "WARNING:tensorflow:Learning rate reduction is conditioned on metric `val_loss` which is not available. Available metrics are: loss,accuracy,lr\n"
          ]
        },
        {
          "output_type": "stream",
          "name": "stdout",
          "text": [
            "\b\b\b\b\b\b\b\b\b\b\b\b\b\b\b\b\b\b\b\b\b\b\b\b\b\b\b\b\b\b\b\b\b\b\b\b\b\b\b\b\b\b\b\b\b\b\b\b\b\b\b\b\b\b\b\b\b\b\b\b\b\b\b\b\b\b\b\b\b\b\b\b\b\b\b\b\b\b\b\b\b\b\r75/75 [==============================] - 0s 6ms/step - loss: 0.0543 - accuracy: 0.9874 - lr: 3.0000e-05\n",
            "Epoch 37/200\n",
            "74/75 [============================>.] - ETA: 0s - loss: 0.0486 - accuracy: 0.9911"
          ]
        },
        {
          "output_type": "stream",
          "name": "stderr",
          "text": [
            "WARNING:tensorflow:Early stopping conditioned on metric `val_loss` which is not available. Available metrics are: loss,accuracy\n",
            "WARNING:tensorflow:Learning rate reduction is conditioned on metric `val_loss` which is not available. Available metrics are: loss,accuracy,lr\n"
          ]
        },
        {
          "output_type": "stream",
          "name": "stdout",
          "text": [
            "\b\b\b\b\b\b\b\b\b\b\b\b\b\b\b\b\b\b\b\b\b\b\b\b\b\b\b\b\b\b\b\b\b\b\b\b\b\b\b\b\b\b\b\b\b\b\b\b\b\b\b\b\b\b\b\b\b\b\b\b\b\b\b\b\b\b\b\b\b\b\b\b\b\b\b\b\b\b\b\b\b\b\r75/75 [==============================] - 0s 6ms/step - loss: 0.0487 - accuracy: 0.9912 - lr: 3.0000e-05\n",
            "Epoch 38/200\n",
            "75/75 [==============================] - ETA: 0s - loss: 0.0418 - accuracy: 0.9924"
          ]
        },
        {
          "output_type": "stream",
          "name": "stderr",
          "text": [
            "WARNING:tensorflow:Early stopping conditioned on metric `val_loss` which is not available. Available metrics are: loss,accuracy\n",
            "WARNING:tensorflow:Learning rate reduction is conditioned on metric `val_loss` which is not available. Available metrics are: loss,accuracy,lr\n"
          ]
        },
        {
          "output_type": "stream",
          "name": "stdout",
          "text": [
            "\b\b\b\b\b\b\b\b\b\b\b\b\b\b\b\b\b\b\b\b\b\b\b\b\b\b\b\b\b\b\b\b\b\b\b\b\b\b\b\b\b\b\b\b\b\b\b\b\b\b\b\b\b\b\b\b\b\b\b\b\b\b\b\b\b\b\b\b\b\b\b\b\b\b\b\b\b\b\b\b\b\b\r75/75 [==============================] - 0s 6ms/step - loss: 0.0418 - accuracy: 0.9924 - lr: 3.0000e-05\n",
            "Epoch 39/200\n",
            "69/75 [==========================>...] - ETA: 0s - loss: 0.0414 - accuracy: 0.9928"
          ]
        },
        {
          "output_type": "stream",
          "name": "stderr",
          "text": [
            "WARNING:tensorflow:Early stopping conditioned on metric `val_loss` which is not available. Available metrics are: loss,accuracy\n",
            "WARNING:tensorflow:Learning rate reduction is conditioned on metric `val_loss` which is not available. Available metrics are: loss,accuracy,lr\n"
          ]
        },
        {
          "output_type": "stream",
          "name": "stdout",
          "text": [
            "\b\b\b\b\b\b\b\b\b\b\b\b\b\b\b\b\b\b\b\b\b\b\b\b\b\b\b\b\b\b\b\b\b\b\b\b\b\b\b\b\b\b\b\b\b\b\b\b\b\b\b\b\b\b\b\b\b\b\b\b\b\b\b\b\b\b\b\b\b\b\b\b\b\b\b\b\b\b\b\b\b\b\r75/75 [==============================] - 0s 6ms/step - loss: 0.0409 - accuracy: 0.9928 - lr: 3.0000e-05\n",
            "Epoch 40/200\n",
            "66/75 [=========================>....] - ETA: 0s - loss: 0.0360 - accuracy: 0.9938"
          ]
        },
        {
          "output_type": "stream",
          "name": "stderr",
          "text": [
            "WARNING:tensorflow:Early stopping conditioned on metric `val_loss` which is not available. Available metrics are: loss,accuracy\n",
            "WARNING:tensorflow:Learning rate reduction is conditioned on metric `val_loss` which is not available. Available metrics are: loss,accuracy,lr\n"
          ]
        },
        {
          "output_type": "stream",
          "name": "stdout",
          "text": [
            "\b\b\b\b\b\b\b\b\b\b\b\b\b\b\b\b\b\b\b\b\b\b\b\b\b\b\b\b\b\b\b\b\b\b\b\b\b\b\b\b\b\b\b\b\b\b\b\b\b\b\b\b\b\b\b\b\b\b\b\b\b\b\b\b\b\b\b\b\b\b\b\b\b\b\b\b\b\b\b\b\b\b\r75/75 [==============================] - 0s 6ms/step - loss: 0.0351 - accuracy: 0.9945 - lr: 3.0000e-05\n",
            "Epoch 41/200\n",
            "74/75 [============================>.] - ETA: 0s - loss: 0.0339 - accuracy: 0.9949"
          ]
        },
        {
          "output_type": "stream",
          "name": "stderr",
          "text": [
            "WARNING:tensorflow:Early stopping conditioned on metric `val_loss` which is not available. Available metrics are: loss,accuracy\n",
            "WARNING:tensorflow:Learning rate reduction is conditioned on metric `val_loss` which is not available. Available metrics are: loss,accuracy,lr\n"
          ]
        },
        {
          "output_type": "stream",
          "name": "stdout",
          "text": [
            "\b\b\b\b\b\b\b\b\b\b\b\b\b\b\b\b\b\b\b\b\b\b\b\b\b\b\b\b\b\b\b\b\b\b\b\b\b\b\b\b\b\b\b\b\b\b\b\b\b\b\b\b\b\b\b\b\b\b\b\b\b\b\b\b\b\b\b\b\b\b\b\b\b\b\b\b\b\b\b\b\b\b\r75/75 [==============================] - 0s 6ms/step - loss: 0.0338 - accuracy: 0.9949 - lr: 3.0000e-05\n",
            "Epoch 42/200\n",
            "69/75 [==========================>...] - ETA: 0s - loss: 0.0324 - accuracy: 0.9932"
          ]
        },
        {
          "output_type": "stream",
          "name": "stderr",
          "text": [
            "WARNING:tensorflow:Early stopping conditioned on metric `val_loss` which is not available. Available metrics are: loss,accuracy\n",
            "WARNING:tensorflow:Learning rate reduction is conditioned on metric `val_loss` which is not available. Available metrics are: loss,accuracy,lr\n"
          ]
        },
        {
          "output_type": "stream",
          "name": "stdout",
          "text": [
            "\b\b\b\b\b\b\b\b\b\b\b\b\b\b\b\b\b\b\b\b\b\b\b\b\b\b\b\b\b\b\b\b\b\b\b\b\b\b\b\b\b\b\b\b\b\b\b\b\b\b\b\b\b\b\b\b\b\b\b\b\b\b\b\b\b\b\b\b\b\b\b\b\b\b\b\b\b\b\b\b\b\b\r75/75 [==============================] - 0s 6ms/step - loss: 0.0317 - accuracy: 0.9937 - lr: 3.0000e-05\n",
            "Epoch 43/200\n",
            "73/75 [============================>.] - ETA: 0s - loss: 0.0300 - accuracy: 0.9940"
          ]
        },
        {
          "output_type": "stream",
          "name": "stderr",
          "text": [
            "WARNING:tensorflow:Early stopping conditioned on metric `val_loss` which is not available. Available metrics are: loss,accuracy\n",
            "WARNING:tensorflow:Learning rate reduction is conditioned on metric `val_loss` which is not available. Available metrics are: loss,accuracy,lr\n"
          ]
        },
        {
          "output_type": "stream",
          "name": "stdout",
          "text": [
            "\b\b\b\b\b\b\b\b\b\b\b\b\b\b\b\b\b\b\b\b\b\b\b\b\b\b\b\b\b\b\b\b\b\b\b\b\b\b\b\b\b\b\b\b\b\b\b\b\b\b\b\b\b\b\b\b\b\b\b\b\b\b\b\b\b\b\b\b\b\b\b\b\b\b\b\b\b\b\b\b\b\b\r75/75 [==============================] - 0s 6ms/step - loss: 0.0299 - accuracy: 0.9941 - lr: 3.0000e-05\n",
            "Epoch 44/200\n",
            "69/75 [==========================>...] - ETA: 0s - loss: 0.0273 - accuracy: 0.9955"
          ]
        },
        {
          "output_type": "stream",
          "name": "stderr",
          "text": [
            "WARNING:tensorflow:Early stopping conditioned on metric `val_loss` which is not available. Available metrics are: loss,accuracy\n",
            "WARNING:tensorflow:Learning rate reduction is conditioned on metric `val_loss` which is not available. Available metrics are: loss,accuracy,lr\n"
          ]
        },
        {
          "output_type": "stream",
          "name": "stdout",
          "text": [
            "\b\b\b\b\b\b\b\b\b\b\b\b\b\b\b\b\b\b\b\b\b\b\b\b\b\b\b\b\b\b\b\b\b\b\b\b\b\b\b\b\b\b\b\b\b\b\b\b\b\b\b\b\b\b\b\b\b\b\b\b\b\b\b\b\b\b\b\b\b\b\b\b\b\b\b\b\b\b\b\b\b\b\r75/75 [==============================] - 0s 6ms/step - loss: 0.0280 - accuracy: 0.9954 - lr: 3.0000e-05\n",
            "Epoch 45/200\n",
            "74/75 [============================>.] - ETA: 0s - loss: 0.0260 - accuracy: 0.9949"
          ]
        },
        {
          "output_type": "stream",
          "name": "stderr",
          "text": [
            "WARNING:tensorflow:Early stopping conditioned on metric `val_loss` which is not available. Available metrics are: loss,accuracy\n",
            "WARNING:tensorflow:Learning rate reduction is conditioned on metric `val_loss` which is not available. Available metrics are: loss,accuracy,lr\n"
          ]
        },
        {
          "output_type": "stream",
          "name": "stdout",
          "text": [
            "\b\b\b\b\b\b\b\b\b\b\b\b\b\b\b\b\b\b\b\b\b\b\b\b\b\b\b\b\b\b\b\b\b\b\b\b\b\b\b\b\b\b\b\b\b\b\b\b\b\b\b\b\b\b\b\b\b\b\b\b\b\b\b\b\b\b\b\b\b\b\b\b\b\b\b\b\b\b\b\b\b\b\r75/75 [==============================] - 0s 6ms/step - loss: 0.0260 - accuracy: 0.9949 - lr: 3.0000e-05\n",
            "Epoch 46/200\n",
            "74/75 [============================>.] - ETA: 0s - loss: 0.0240 - accuracy: 0.9970"
          ]
        },
        {
          "output_type": "stream",
          "name": "stderr",
          "text": [
            "WARNING:tensorflow:Early stopping conditioned on metric `val_loss` which is not available. Available metrics are: loss,accuracy\n",
            "WARNING:tensorflow:Learning rate reduction is conditioned on metric `val_loss` which is not available. Available metrics are: loss,accuracy,lr\n"
          ]
        },
        {
          "output_type": "stream",
          "name": "stdout",
          "text": [
            "\b\b\b\b\b\b\b\b\b\b\b\b\b\b\b\b\b\b\b\b\b\b\b\b\b\b\b\b\b\b\b\b\b\b\b\b\b\b\b\b\b\b\b\b\b\b\b\b\b\b\b\b\b\b\b\b\b\b\b\b\b\b\b\b\b\b\b\b\b\b\b\b\b\b\b\b\b\b\b\b\b\b\r75/75 [==============================] - 0s 6ms/step - loss: 0.0240 - accuracy: 0.9971 - lr: 3.0000e-05\n",
            "Epoch 47/200\n",
            "73/75 [============================>.] - ETA: 0s - loss: 0.0230 - accuracy: 0.9966"
          ]
        },
        {
          "output_type": "stream",
          "name": "stderr",
          "text": [
            "WARNING:tensorflow:Early stopping conditioned on metric `val_loss` which is not available. Available metrics are: loss,accuracy\n",
            "WARNING:tensorflow:Learning rate reduction is conditioned on metric `val_loss` which is not available. Available metrics are: loss,accuracy,lr\n"
          ]
        },
        {
          "output_type": "stream",
          "name": "stdout",
          "text": [
            "\b\b\b\b\b\b\b\b\b\b\b\b\b\b\b\b\b\b\b\b\b\b\b\b\b\b\b\b\b\b\b\b\b\b\b\b\b\b\b\b\b\b\b\b\b\b\b\b\b\b\b\b\b\b\b\b\b\b\b\b\b\b\b\b\b\b\b\b\b\b\b\b\b\b\b\b\b\b\b\b\b\b\r75/75 [==============================] - 0s 6ms/step - loss: 0.0233 - accuracy: 0.9966 - lr: 3.0000e-05\n",
            "Epoch 48/200\n",
            "67/75 [=========================>....] - ETA: 0s - loss: 0.0192 - accuracy: 0.9981"
          ]
        },
        {
          "output_type": "stream",
          "name": "stderr",
          "text": [
            "WARNING:tensorflow:Early stopping conditioned on metric `val_loss` which is not available. Available metrics are: loss,accuracy\n",
            "WARNING:tensorflow:Learning rate reduction is conditioned on metric `val_loss` which is not available. Available metrics are: loss,accuracy,lr\n"
          ]
        },
        {
          "output_type": "stream",
          "name": "stdout",
          "text": [
            "\b\b\b\b\b\b\b\b\b\b\b\b\b\b\b\b\b\b\b\b\b\b\b\b\b\b\b\b\b\b\b\b\b\b\b\b\b\b\b\b\b\b\b\b\b\b\b\b\b\b\b\b\b\b\b\b\b\b\b\b\b\b\b\b\b\b\b\b\b\b\b\b\b\b\b\b\b\b\b\b\b\b\r75/75 [==============================] - 0s 6ms/step - loss: 0.0208 - accuracy: 0.9966 - lr: 3.0000e-05\n",
            "Epoch 49/200\n",
            "75/75 [==============================] - ETA: 0s - loss: 0.0198 - accuracy: 0.9971"
          ]
        },
        {
          "output_type": "stream",
          "name": "stderr",
          "text": [
            "WARNING:tensorflow:Early stopping conditioned on metric `val_loss` which is not available. Available metrics are: loss,accuracy\n",
            "WARNING:tensorflow:Learning rate reduction is conditioned on metric `val_loss` which is not available. Available metrics are: loss,accuracy,lr\n"
          ]
        },
        {
          "output_type": "stream",
          "name": "stdout",
          "text": [
            "\b\b\b\b\b\b\b\b\b\b\b\b\b\b\b\b\b\b\b\b\b\b\b\b\b\b\b\b\b\b\b\b\b\b\b\b\b\b\b\b\b\b\b\b\b\b\b\b\b\b\b\b\b\b\b\b\b\b\b\b\b\b\b\b\b\b\b\b\b\b\b\b\b\b\b\b\b\b\b\b\b\b\r75/75 [==============================] - 0s 6ms/step - loss: 0.0198 - accuracy: 0.9971 - lr: 3.0000e-05\n",
            "Epoch 50/200\n",
            "72/75 [===========================>..] - ETA: 0s - loss: 0.0182 - accuracy: 0.9974"
          ]
        },
        {
          "output_type": "stream",
          "name": "stderr",
          "text": [
            "WARNING:tensorflow:Early stopping conditioned on metric `val_loss` which is not available. Available metrics are: loss,accuracy\n",
            "WARNING:tensorflow:Learning rate reduction is conditioned on metric `val_loss` which is not available. Available metrics are: loss,accuracy,lr\n"
          ]
        },
        {
          "output_type": "stream",
          "name": "stdout",
          "text": [
            "\b\b\b\b\b\b\b\b\b\b\b\b\b\b\b\b\b\b\b\b\b\b\b\b\b\b\b\b\b\b\b\b\b\b\b\b\b\b\b\b\b\b\b\b\b\b\b\b\b\b\b\b\b\b\b\b\b\b\b\b\b\b\b\b\b\b\b\b\b\b\b\b\b\b\b\b\b\b\b\b\b\b\r75/75 [==============================] - 0s 6ms/step - loss: 0.0180 - accuracy: 0.9975 - lr: 3.0000e-05\n",
            "Epoch 51/200\n",
            "73/75 [============================>.] - ETA: 0s - loss: 0.0161 - accuracy: 0.9979"
          ]
        },
        {
          "output_type": "stream",
          "name": "stderr",
          "text": [
            "WARNING:tensorflow:Early stopping conditioned on metric `val_loss` which is not available. Available metrics are: loss,accuracy\n",
            "WARNING:tensorflow:Learning rate reduction is conditioned on metric `val_loss` which is not available. Available metrics are: loss,accuracy,lr\n"
          ]
        },
        {
          "output_type": "stream",
          "name": "stdout",
          "text": [
            "\b\b\b\b\b\b\b\b\b\b\b\b\b\b\b\b\b\b\b\b\b\b\b\b\b\b\b\b\b\b\b\b\b\b\b\b\b\b\b\b\b\b\b\b\b\b\b\b\b\b\b\b\b\b\b\b\b\b\b\b\b\b\b\b\b\b\b\b\b\b\b\b\b\b\b\b\b\b\b\b\b\b\r75/75 [==============================] - 0s 6ms/step - loss: 0.0159 - accuracy: 0.9979 - lr: 3.0000e-05\n",
            "Epoch 52/200\n",
            "73/75 [============================>.] - ETA: 0s - loss: 0.0152 - accuracy: 0.9970"
          ]
        },
        {
          "output_type": "stream",
          "name": "stderr",
          "text": [
            "WARNING:tensorflow:Early stopping conditioned on metric `val_loss` which is not available. Available metrics are: loss,accuracy\n",
            "WARNING:tensorflow:Learning rate reduction is conditioned on metric `val_loss` which is not available. Available metrics are: loss,accuracy,lr\n"
          ]
        },
        {
          "output_type": "stream",
          "name": "stdout",
          "text": [
            "\b\b\b\b\b\b\b\b\b\b\b\b\b\b\b\b\b\b\b\b\b\b\b\b\b\b\b\b\b\b\b\b\b\b\b\b\b\b\b\b\b\b\b\b\b\b\b\b\b\b\b\b\b\b\b\b\b\b\b\b\b\b\b\b\b\b\b\b\b\b\b\b\b\b\b\b\b\b\b\b\b\b\r75/75 [==============================] - 0s 6ms/step - loss: 0.0150 - accuracy: 0.9971 - lr: 3.0000e-05\n",
            "Epoch 53/200\n",
            "75/75 [==============================] - ETA: 0s - loss: 0.0138 - accuracy: 0.9979"
          ]
        },
        {
          "output_type": "stream",
          "name": "stderr",
          "text": [
            "WARNING:tensorflow:Early stopping conditioned on metric `val_loss` which is not available. Available metrics are: loss,accuracy\n",
            "WARNING:tensorflow:Learning rate reduction is conditioned on metric `val_loss` which is not available. Available metrics are: loss,accuracy,lr\n"
          ]
        },
        {
          "output_type": "stream",
          "name": "stdout",
          "text": [
            "\b\b\b\b\b\b\b\b\b\b\b\b\b\b\b\b\b\b\b\b\b\b\b\b\b\b\b\b\b\b\b\b\b\b\b\b\b\b\b\b\b\b\b\b\b\b\b\b\b\b\b\b\b\b\b\b\b\b\b\b\b\b\b\b\b\b\b\b\b\b\b\b\b\b\b\b\b\b\b\b\b\b\r75/75 [==============================] - 0s 6ms/step - loss: 0.0138 - accuracy: 0.9979 - lr: 3.0000e-05\n",
            "Epoch 54/200\n",
            "74/75 [============================>.] - ETA: 0s - loss: 0.0145 - accuracy: 0.9975"
          ]
        },
        {
          "output_type": "stream",
          "name": "stderr",
          "text": [
            "WARNING:tensorflow:Early stopping conditioned on metric `val_loss` which is not available. Available metrics are: loss,accuracy\n",
            "WARNING:tensorflow:Learning rate reduction is conditioned on metric `val_loss` which is not available. Available metrics are: loss,accuracy,lr\n"
          ]
        },
        {
          "output_type": "stream",
          "name": "stdout",
          "text": [
            "\b\b\b\b\b\b\b\b\b\b\b\b\b\b\b\b\b\b\b\b\b\b\b\b\b\b\b\b\b\b\b\b\b\b\b\b\b\b\b\b\b\b\b\b\b\b\b\b\b\b\b\b\b\b\b\b\b\b\b\b\b\b\b\b\b\b\b\b\b\b\b\b\b\b\b\b\b\b\b\b\b\b\r75/75 [==============================] - 0s 6ms/step - loss: 0.0145 - accuracy: 0.9975 - lr: 3.0000e-05\n",
            "Epoch 55/200\n",
            "66/75 [=========================>....] - ETA: 0s - loss: 0.0138 - accuracy: 0.9981"
          ]
        },
        {
          "output_type": "stream",
          "name": "stderr",
          "text": [
            "WARNING:tensorflow:Early stopping conditioned on metric `val_loss` which is not available. Available metrics are: loss,accuracy\n",
            "WARNING:tensorflow:Learning rate reduction is conditioned on metric `val_loss` which is not available. Available metrics are: loss,accuracy,lr\n"
          ]
        },
        {
          "output_type": "stream",
          "name": "stdout",
          "text": [
            "\b\b\b\b\b\b\b\b\b\b\b\b\b\b\b\b\b\b\b\b\b\b\b\b\b\b\b\b\b\b\b\b\b\b\b\b\b\b\b\b\b\b\b\b\b\b\b\b\b\b\b\b\b\b\b\b\b\b\b\b\b\b\b\b\b\b\b\b\b\b\b\b\b\b\b\b\b\b\b\b\b\b\r75/75 [==============================] - 0s 6ms/step - loss: 0.0136 - accuracy: 0.9983 - lr: 3.0000e-05\n",
            "Epoch 56/200\n",
            "73/75 [============================>.] - ETA: 0s - loss: 0.0126 - accuracy: 0.9979"
          ]
        },
        {
          "output_type": "stream",
          "name": "stderr",
          "text": [
            "WARNING:tensorflow:Early stopping conditioned on metric `val_loss` which is not available. Available metrics are: loss,accuracy\n",
            "WARNING:tensorflow:Learning rate reduction is conditioned on metric `val_loss` which is not available. Available metrics are: loss,accuracy,lr\n"
          ]
        },
        {
          "output_type": "stream",
          "name": "stdout",
          "text": [
            "\b\b\b\b\b\b\b\b\b\b\b\b\b\b\b\b\b\b\b\b\b\b\b\b\b\b\b\b\b\b\b\b\b\b\b\b\b\b\b\b\b\b\b\b\b\b\b\b\b\b\b\b\b\b\b\b\b\b\b\b\b\b\b\b\b\b\b\b\b\b\b\b\b\b\b\b\b\b\b\b\b\b\r75/75 [==============================] - 0s 6ms/step - loss: 0.0125 - accuracy: 0.9979 - lr: 3.0000e-05\n",
            "Epoch 57/200\n",
            "73/75 [============================>.] - ETA: 0s - loss: 0.0118 - accuracy: 0.9983"
          ]
        },
        {
          "output_type": "stream",
          "name": "stderr",
          "text": [
            "WARNING:tensorflow:Early stopping conditioned on metric `val_loss` which is not available. Available metrics are: loss,accuracy\n",
            "WARNING:tensorflow:Learning rate reduction is conditioned on metric `val_loss` which is not available. Available metrics are: loss,accuracy,lr\n"
          ]
        },
        {
          "output_type": "stream",
          "name": "stdout",
          "text": [
            "\b\b\b\b\b\b\b\b\b\b\b\b\b\b\b\b\b\b\b\b\b\b\b\b\b\b\b\b\b\b\b\b\b\b\b\b\b\b\b\b\b\b\b\b\b\b\b\b\b\b\b\b\b\b\b\b\b\b\b\b\b\b\b\b\b\b\b\b\b\b\b\b\b\b\b\b\b\b\b\b\b\b\r75/75 [==============================] - 0s 6ms/step - loss: 0.0118 - accuracy: 0.9983 - lr: 3.0000e-05\n",
            "Epoch 58/200\n",
            "66/75 [=========================>....] - ETA: 0s - loss: 0.0112 - accuracy: 0.9986"
          ]
        },
        {
          "output_type": "stream",
          "name": "stderr",
          "text": [
            "WARNING:tensorflow:Early stopping conditioned on metric `val_loss` which is not available. Available metrics are: loss,accuracy\n",
            "WARNING:tensorflow:Learning rate reduction is conditioned on metric `val_loss` which is not available. Available metrics are: loss,accuracy,lr\n"
          ]
        },
        {
          "output_type": "stream",
          "name": "stdout",
          "text": [
            "\b\b\b\b\b\b\b\b\b\b\b\b\b\b\b\b\b\b\b\b\b\b\b\b\b\b\b\b\b\b\b\b\b\b\b\b\b\b\b\b\b\b\b\b\b\b\b\b\b\b\b\b\b\b\b\b\b\b\b\b\b\b\b\b\b\b\b\b\b\b\b\b\b\b\b\b\b\b\b\b\b\b\r75/75 [==============================] - 0s 6ms/step - loss: 0.0113 - accuracy: 0.9987 - lr: 3.0000e-05\n",
            "Epoch 59/200\n",
            "73/75 [============================>.] - ETA: 0s - loss: 0.0098 - accuracy: 0.9991"
          ]
        },
        {
          "output_type": "stream",
          "name": "stderr",
          "text": [
            "WARNING:tensorflow:Early stopping conditioned on metric `val_loss` which is not available. Available metrics are: loss,accuracy\n",
            "WARNING:tensorflow:Learning rate reduction is conditioned on metric `val_loss` which is not available. Available metrics are: loss,accuracy,lr\n"
          ]
        },
        {
          "output_type": "stream",
          "name": "stdout",
          "text": [
            "\b\b\b\b\b\b\b\b\b\b\b\b\b\b\b\b\b\b\b\b\b\b\b\b\b\b\b\b\b\b\b\b\b\b\b\b\b\b\b\b\b\b\b\b\b\b\b\b\b\b\b\b\b\b\b\b\b\b\b\b\b\b\b\b\b\b\b\b\b\b\b\b\b\b\b\b\b\b\b\b\b\b\r75/75 [==============================] - 0s 6ms/step - loss: 0.0097 - accuracy: 0.9992 - lr: 3.0000e-05\n",
            "Epoch 60/200\n",
            "70/75 [===========================>..] - ETA: 0s - loss: 0.0091 - accuracy: 0.9991"
          ]
        },
        {
          "output_type": "stream",
          "name": "stderr",
          "text": [
            "WARNING:tensorflow:Early stopping conditioned on metric `val_loss` which is not available. Available metrics are: loss,accuracy\n",
            "WARNING:tensorflow:Learning rate reduction is conditioned on metric `val_loss` which is not available. Available metrics are: loss,accuracy,lr\n"
          ]
        },
        {
          "output_type": "stream",
          "name": "stdout",
          "text": [
            "\b\b\b\b\b\b\b\b\b\b\b\b\b\b\b\b\b\b\b\b\b\b\b\b\b\b\b\b\b\b\b\b\b\b\b\b\b\b\b\b\b\b\b\b\b\b\b\b\b\b\b\b\b\b\b\b\b\b\b\b\b\b\b\b\b\b\b\b\b\b\b\b\b\b\b\b\b\b\b\b\b\b\r75/75 [==============================] - 0s 6ms/step - loss: 0.0101 - accuracy: 0.9987 - lr: 3.0000e-05\n",
            "Epoch 61/200\n",
            "66/75 [=========================>....] - ETA: 0s - loss: 0.0090 - accuracy: 0.9981"
          ]
        },
        {
          "output_type": "stream",
          "name": "stderr",
          "text": [
            "WARNING:tensorflow:Early stopping conditioned on metric `val_loss` which is not available. Available metrics are: loss,accuracy\n",
            "WARNING:tensorflow:Learning rate reduction is conditioned on metric `val_loss` which is not available. Available metrics are: loss,accuracy,lr\n"
          ]
        },
        {
          "output_type": "stream",
          "name": "stdout",
          "text": [
            "\b\b\b\b\b\b\b\b\b\b\b\b\b\b\b\b\b\b\b\b\b\b\b\b\b\b\b\b\b\b\b\b\b\b\b\b\b\b\b\b\b\b\b\b\b\b\b\b\b\b\b\b\b\b\b\b\b\b\b\b\b\b\b\b\b\b\b\b\b\b\b\b\b\b\b\b\b\b\b\b\b\b\r75/75 [==============================] - 0s 6ms/step - loss: 0.0086 - accuracy: 0.9983 - lr: 3.0000e-05\n",
            "Epoch 62/200\n",
            "66/75 [=========================>....] - ETA: 0s - loss: 0.0089 - accuracy: 0.9986"
          ]
        },
        {
          "output_type": "stream",
          "name": "stderr",
          "text": [
            "WARNING:tensorflow:Early stopping conditioned on metric `val_loss` which is not available. Available metrics are: loss,accuracy\n",
            "WARNING:tensorflow:Learning rate reduction is conditioned on metric `val_loss` which is not available. Available metrics are: loss,accuracy,lr\n"
          ]
        },
        {
          "output_type": "stream",
          "name": "stdout",
          "text": [
            "\b\b\b\b\b\b\b\b\b\b\b\b\b\b\b\b\b\b\b\b\b\b\b\b\b\b\b\b\b\b\b\b\b\b\b\b\b\b\b\b\b\b\b\b\b\b\b\b\b\b\b\b\b\b\b\b\b\b\b\b\b\b\b\b\b\b\b\b\b\b\b\b\b\b\b\b\b\b\b\b\b\b\r75/75 [==============================] - 0s 6ms/step - loss: 0.0086 - accuracy: 0.9987 - lr: 3.0000e-05\n",
            "Epoch 63/200\n",
            "74/75 [============================>.] - ETA: 0s - loss: 0.0092 - accuracy: 0.9983"
          ]
        },
        {
          "output_type": "stream",
          "name": "stderr",
          "text": [
            "WARNING:tensorflow:Early stopping conditioned on metric `val_loss` which is not available. Available metrics are: loss,accuracy\n",
            "WARNING:tensorflow:Learning rate reduction is conditioned on metric `val_loss` which is not available. Available metrics are: loss,accuracy,lr\n"
          ]
        },
        {
          "output_type": "stream",
          "name": "stdout",
          "text": [
            "\b\b\b\b\b\b\b\b\b\b\b\b\b\b\b\b\b\b\b\b\b\b\b\b\b\b\b\b\b\b\b\b\b\b\b\b\b\b\b\b\b\b\b\b\b\b\b\b\b\b\b\b\b\b\b\b\b\b\b\b\b\b\b\b\b\b\b\b\b\b\b\b\b\b\b\b\b\b\b\b\b\b\r75/75 [==============================] - 0s 6ms/step - loss: 0.0091 - accuracy: 0.9983 - lr: 3.0000e-05\n",
            "Epoch 64/200\n",
            "66/75 [=========================>....] - ETA: 0s - loss: 0.0077 - accuracy: 0.9995"
          ]
        },
        {
          "output_type": "stream",
          "name": "stderr",
          "text": [
            "WARNING:tensorflow:Early stopping conditioned on metric `val_loss` which is not available. Available metrics are: loss,accuracy\n",
            "WARNING:tensorflow:Learning rate reduction is conditioned on metric `val_loss` which is not available. Available metrics are: loss,accuracy,lr\n"
          ]
        },
        {
          "output_type": "stream",
          "name": "stdout",
          "text": [
            "\b\b\b\b\b\b\b\b\b\b\b\b\b\b\b\b\b\b\b\b\b\b\b\b\b\b\b\b\b\b\b\b\b\b\b\b\b\b\b\b\b\b\b\b\b\b\b\b\b\b\b\b\b\b\b\b\b\b\b\b\b\b\b\b\b\b\b\b\b\b\b\b\b\b\b\b\b\b\b\b\b\b\r75/75 [==============================] - 0s 6ms/step - loss: 0.0078 - accuracy: 0.9996 - lr: 3.0000e-05\n",
            "Epoch 65/200\n",
            "70/75 [===========================>..] - ETA: 0s - loss: 0.0077 - accuracy: 0.9982"
          ]
        },
        {
          "output_type": "stream",
          "name": "stderr",
          "text": [
            "WARNING:tensorflow:Early stopping conditioned on metric `val_loss` which is not available. Available metrics are: loss,accuracy\n",
            "WARNING:tensorflow:Learning rate reduction is conditioned on metric `val_loss` which is not available. Available metrics are: loss,accuracy,lr\n"
          ]
        },
        {
          "output_type": "stream",
          "name": "stdout",
          "text": [
            "\b\b\b\b\b\b\b\b\b\b\b\b\b\b\b\b\b\b\b\b\b\b\b\b\b\b\b\b\b\b\b\b\b\b\b\b\b\b\b\b\b\b\b\b\b\b\b\b\b\b\b\b\b\b\b\b\b\b\b\b\b\b\b\b\b\b\b\b\b\b\b\b\b\b\b\b\b\b\b\b\b\b\r75/75 [==============================] - 0s 6ms/step - loss: 0.0074 - accuracy: 0.9983 - lr: 3.0000e-05\n",
            "Epoch 66/200\n",
            "74/75 [============================>.] - ETA: 0s - loss: 0.0069 - accuracy: 0.9987"
          ]
        },
        {
          "output_type": "stream",
          "name": "stderr",
          "text": [
            "WARNING:tensorflow:Early stopping conditioned on metric `val_loss` which is not available. Available metrics are: loss,accuracy\n",
            "WARNING:tensorflow:Learning rate reduction is conditioned on metric `val_loss` which is not available. Available metrics are: loss,accuracy,lr\n"
          ]
        },
        {
          "output_type": "stream",
          "name": "stdout",
          "text": [
            "\b\b\b\b\b\b\b\b\b\b\b\b\b\b\b\b\b\b\b\b\b\b\b\b\b\b\b\b\b\b\b\b\b\b\b\b\b\b\b\b\b\b\b\b\b\b\b\b\b\b\b\b\b\b\b\b\b\b\b\b\b\b\b\b\b\b\b\b\b\b\b\b\b\b\b\b\b\b\b\b\b\b\r75/75 [==============================] - 0s 6ms/step - loss: 0.0069 - accuracy: 0.9987 - lr: 3.0000e-05\n",
            "Epoch 67/200\n",
            "68/75 [==========================>...] - ETA: 0s - loss: 0.0065 - accuracy: 0.9986"
          ]
        },
        {
          "output_type": "stream",
          "name": "stderr",
          "text": [
            "WARNING:tensorflow:Early stopping conditioned on metric `val_loss` which is not available. Available metrics are: loss,accuracy\n",
            "WARNING:tensorflow:Learning rate reduction is conditioned on metric `val_loss` which is not available. Available metrics are: loss,accuracy,lr\n"
          ]
        },
        {
          "output_type": "stream",
          "name": "stdout",
          "text": [
            "\b\b\b\b\b\b\b\b\b\b\b\b\b\b\b\b\b\b\b\b\b\b\b\b\b\b\b\b\b\b\b\b\b\b\b\b\b\b\b\b\b\b\b\b\b\b\b\b\b\b\b\b\b\b\b\b\b\b\b\b\b\b\b\b\b\b\b\b\b\b\b\b\b\b\b\b\b\b\b\b\b\b\r75/75 [==============================] - 0s 6ms/step - loss: 0.0062 - accuracy: 0.9987 - lr: 3.0000e-05\n",
            "Epoch 68/200\n",
            "74/75 [============================>.] - ETA: 0s - loss: 0.0073 - accuracy: 0.9983"
          ]
        },
        {
          "output_type": "stream",
          "name": "stderr",
          "text": [
            "WARNING:tensorflow:Early stopping conditioned on metric `val_loss` which is not available. Available metrics are: loss,accuracy\n",
            "WARNING:tensorflow:Learning rate reduction is conditioned on metric `val_loss` which is not available. Available metrics are: loss,accuracy,lr\n"
          ]
        },
        {
          "output_type": "stream",
          "name": "stdout",
          "text": [
            "\b\b\b\b\b\b\b\b\b\b\b\b\b\b\b\b\b\b\b\b\b\b\b\b\b\b\b\b\b\b\b\b\b\b\b\b\b\b\b\b\b\b\b\b\b\b\b\b\b\b\b\b\b\b\b\b\b\b\b\b\b\b\b\b\b\b\b\b\b\b\b\b\b\b\b\b\b\b\b\b\b\b\r75/75 [==============================] - 0s 6ms/step - loss: 0.0073 - accuracy: 0.9983 - lr: 3.0000e-05\n",
            "Epoch 69/200\n",
            "68/75 [==========================>...] - ETA: 0s - loss: 0.0064 - accuracy: 0.9991"
          ]
        },
        {
          "output_type": "stream",
          "name": "stderr",
          "text": [
            "WARNING:tensorflow:Early stopping conditioned on metric `val_loss` which is not available. Available metrics are: loss,accuracy\n",
            "WARNING:tensorflow:Learning rate reduction is conditioned on metric `val_loss` which is not available. Available metrics are: loss,accuracy,lr\n"
          ]
        },
        {
          "output_type": "stream",
          "name": "stdout",
          "text": [
            "\b\b\b\b\b\b\b\b\b\b\b\b\b\b\b\b\b\b\b\b\b\b\b\b\b\b\b\b\b\b\b\b\b\b\b\b\b\b\b\b\b\b\b\b\b\b\b\b\b\b\b\b\b\b\b\b\b\b\b\b\b\b\b\b\b\b\b\b\b\b\b\b\b\b\b\b\b\b\b\b\b\b\r75/75 [==============================] - 0s 6ms/step - loss: 0.0061 - accuracy: 0.9992 - lr: 3.0000e-05\n",
            "Epoch 70/200\n",
            "75/75 [==============================] - ETA: 0s - loss: 0.0067 - accuracy: 0.9979"
          ]
        },
        {
          "output_type": "stream",
          "name": "stderr",
          "text": [
            "WARNING:tensorflow:Early stopping conditioned on metric `val_loss` which is not available. Available metrics are: loss,accuracy\n",
            "WARNING:tensorflow:Learning rate reduction is conditioned on metric `val_loss` which is not available. Available metrics are: loss,accuracy,lr\n"
          ]
        },
        {
          "output_type": "stream",
          "name": "stdout",
          "text": [
            "\b\b\b\b\b\b\b\b\b\b\b\b\b\b\b\b\b\b\b\b\b\b\b\b\b\b\b\b\b\b\b\b\b\b\b\b\b\b\b\b\b\b\b\b\b\b\b\b\b\b\b\b\b\b\b\b\b\b\b\b\b\b\b\b\b\b\b\b\b\b\b\b\b\b\b\b\b\b\b\b\b\b\r75/75 [==============================] - 0s 6ms/step - loss: 0.0067 - accuracy: 0.9979 - lr: 3.0000e-05\n",
            "Epoch 71/200\n",
            "71/75 [===========================>..] - ETA: 0s - loss: 0.0050 - accuracy: 0.9991"
          ]
        },
        {
          "output_type": "stream",
          "name": "stderr",
          "text": [
            "WARNING:tensorflow:Early stopping conditioned on metric `val_loss` which is not available. Available metrics are: loss,accuracy\n",
            "WARNING:tensorflow:Learning rate reduction is conditioned on metric `val_loss` which is not available. Available metrics are: loss,accuracy,lr\n"
          ]
        },
        {
          "output_type": "stream",
          "name": "stdout",
          "text": [
            "\b\b\b\b\b\b\b\b\b\b\b\b\b\b\b\b\b\b\b\b\b\b\b\b\b\b\b\b\b\b\b\b\b\b\b\b\b\b\b\b\b\b\b\b\b\b\b\b\b\b\b\b\b\b\b\b\b\b\b\b\b\b\b\b\b\b\b\b\b\b\b\b\b\b\b\b\b\b\b\b\b\b\r75/75 [==============================] - 0s 6ms/step - loss: 0.0053 - accuracy: 0.9987 - lr: 3.0000e-05\n",
            "Epoch 72/200\n",
            "67/75 [=========================>....] - ETA: 0s - loss: 0.0054 - accuracy: 0.9991"
          ]
        },
        {
          "output_type": "stream",
          "name": "stderr",
          "text": [
            "WARNING:tensorflow:Early stopping conditioned on metric `val_loss` which is not available. Available metrics are: loss,accuracy\n",
            "WARNING:tensorflow:Learning rate reduction is conditioned on metric `val_loss` which is not available. Available metrics are: loss,accuracy,lr\n"
          ]
        },
        {
          "output_type": "stream",
          "name": "stdout",
          "text": [
            "\b\b\b\b\b\b\b\b\b\b\b\b\b\b\b\b\b\b\b\b\b\b\b\b\b\b\b\b\b\b\b\b\b\b\b\b\b\b\b\b\b\b\b\b\b\b\b\b\b\b\b\b\b\b\b\b\b\b\b\b\b\b\b\b\b\b\b\b\b\b\b\b\b\b\b\b\b\b\b\b\b\b\r75/75 [==============================] - 0s 6ms/step - loss: 0.0051 - accuracy: 0.9992 - lr: 3.0000e-05\n",
            "Epoch 73/200\n",
            "73/75 [============================>.] - ETA: 0s - loss: 0.0050 - accuracy: 0.9991"
          ]
        },
        {
          "output_type": "stream",
          "name": "stderr",
          "text": [
            "WARNING:tensorflow:Early stopping conditioned on metric `val_loss` which is not available. Available metrics are: loss,accuracy\n",
            "WARNING:tensorflow:Learning rate reduction is conditioned on metric `val_loss` which is not available. Available metrics are: loss,accuracy,lr\n"
          ]
        },
        {
          "output_type": "stream",
          "name": "stdout",
          "text": [
            "\b\b\b\b\b\b\b\b\b\b\b\b\b\b\b\b\b\b\b\b\b\b\b\b\b\b\b\b\b\b\b\b\b\b\b\b\b\b\b\b\b\b\b\b\b\b\b\b\b\b\b\b\b\b\b\b\b\b\b\b\b\b\b\b\b\b\b\b\b\b\b\b\b\b\b\b\b\b\b\b\b\b\r75/75 [==============================] - 0s 6ms/step - loss: 0.0050 - accuracy: 0.9992 - lr: 3.0000e-05\n",
            "Epoch 74/200\n",
            "74/75 [============================>.] - ETA: 0s - loss: 0.0053 - accuracy: 0.9992"
          ]
        },
        {
          "output_type": "stream",
          "name": "stderr",
          "text": [
            "WARNING:tensorflow:Early stopping conditioned on metric `val_loss` which is not available. Available metrics are: loss,accuracy\n",
            "WARNING:tensorflow:Learning rate reduction is conditioned on metric `val_loss` which is not available. Available metrics are: loss,accuracy,lr\n"
          ]
        },
        {
          "output_type": "stream",
          "name": "stdout",
          "text": [
            "\b\b\b\b\b\b\b\b\b\b\b\b\b\b\b\b\b\b\b\b\b\b\b\b\b\b\b\b\b\b\b\b\b\b\b\b\b\b\b\b\b\b\b\b\b\b\b\b\b\b\b\b\b\b\b\b\b\b\b\b\b\b\b\b\b\b\b\b\b\b\b\b\b\b\b\b\b\b\b\b\b\b\r75/75 [==============================] - 0s 6ms/step - loss: 0.0053 - accuracy: 0.9992 - lr: 3.0000e-05\n",
            "Epoch 75/200\n",
            "73/75 [============================>.] - ETA: 0s - loss: 0.0048 - accuracy: 0.9991"
          ]
        },
        {
          "output_type": "stream",
          "name": "stderr",
          "text": [
            "WARNING:tensorflow:Early stopping conditioned on metric `val_loss` which is not available. Available metrics are: loss,accuracy\n",
            "WARNING:tensorflow:Learning rate reduction is conditioned on metric `val_loss` which is not available. Available metrics are: loss,accuracy,lr\n"
          ]
        },
        {
          "output_type": "stream",
          "name": "stdout",
          "text": [
            "\b\b\b\b\b\b\b\b\b\b\b\b\b\b\b\b\b\b\b\b\b\b\b\b\b\b\b\b\b\b\b\b\b\b\b\b\b\b\b\b\b\b\b\b\b\b\b\b\b\b\b\b\b\b\b\b\b\b\b\b\b\b\b\b\b\b\b\b\b\b\b\b\b\b\b\b\b\b\b\b\b\b\r75/75 [==============================] - 0s 6ms/step - loss: 0.0048 - accuracy: 0.9992 - lr: 3.0000e-05\n",
            "Epoch 76/200\n",
            "73/75 [============================>.] - ETA: 0s - loss: 0.0048 - accuracy: 0.9991"
          ]
        },
        {
          "output_type": "stream",
          "name": "stderr",
          "text": [
            "WARNING:tensorflow:Early stopping conditioned on metric `val_loss` which is not available. Available metrics are: loss,accuracy\n",
            "WARNING:tensorflow:Learning rate reduction is conditioned on metric `val_loss` which is not available. Available metrics are: loss,accuracy,lr\n"
          ]
        },
        {
          "output_type": "stream",
          "name": "stdout",
          "text": [
            "\b\b\b\b\b\b\b\b\b\b\b\b\b\b\b\b\b\b\b\b\b\b\b\b\b\b\b\b\b\b\b\b\b\b\b\b\b\b\b\b\b\b\b\b\b\b\b\b\b\b\b\b\b\b\b\b\b\b\b\b\b\b\b\b\b\b\b\b\b\b\b\b\b\b\b\b\b\b\b\b\b\b\r75/75 [==============================] - 0s 6ms/step - loss: 0.0048 - accuracy: 0.9992 - lr: 3.0000e-05\n",
            "Epoch 77/200\n",
            "72/75 [===========================>..] - ETA: 0s - loss: 0.0042 - accuracy: 0.9996"
          ]
        },
        {
          "output_type": "stream",
          "name": "stderr",
          "text": [
            "WARNING:tensorflow:Early stopping conditioned on metric `val_loss` which is not available. Available metrics are: loss,accuracy\n",
            "WARNING:tensorflow:Learning rate reduction is conditioned on metric `val_loss` which is not available. Available metrics are: loss,accuracy,lr\n"
          ]
        },
        {
          "output_type": "stream",
          "name": "stdout",
          "text": [
            "\b\b\b\b\b\b\b\b\b\b\b\b\b\b\b\b\b\b\b\b\b\b\b\b\b\b\b\b\b\b\b\b\b\b\b\b\b\b\b\b\b\b\b\b\b\b\b\b\b\b\b\b\b\b\b\b\b\b\b\b\b\b\b\b\b\b\b\b\b\b\b\b\b\b\b\b\b\b\b\b\b\b\r75/75 [==============================] - 0s 6ms/step - loss: 0.0041 - accuracy: 0.9996 - lr: 3.0000e-05\n",
            "Epoch 78/200\n",
            "71/75 [===========================>..] - ETA: 0s - loss: 0.0046 - accuracy: 0.9996"
          ]
        },
        {
          "output_type": "stream",
          "name": "stderr",
          "text": [
            "WARNING:tensorflow:Early stopping conditioned on metric `val_loss` which is not available. Available metrics are: loss,accuracy\n",
            "WARNING:tensorflow:Learning rate reduction is conditioned on metric `val_loss` which is not available. Available metrics are: loss,accuracy,lr\n"
          ]
        },
        {
          "output_type": "stream",
          "name": "stdout",
          "text": [
            "\b\b\b\b\b\b\b\b\b\b\b\b\b\b\b\b\b\b\b\b\b\b\b\b\b\b\b\b\b\b\b\b\b\b\b\b\b\b\b\b\b\b\b\b\b\b\b\b\b\b\b\b\b\b\b\b\b\b\b\b\b\b\b\b\b\b\b\b\b\b\b\b\b\b\b\b\b\b\b\b\b\b\r75/75 [==============================] - 0s 6ms/step - loss: 0.0047 - accuracy: 0.9996 - lr: 3.0000e-05\n",
            "Epoch 79/200\n",
            "74/75 [============================>.] - ETA: 0s - loss: 0.0037 - accuracy: 0.9992"
          ]
        },
        {
          "output_type": "stream",
          "name": "stderr",
          "text": [
            "WARNING:tensorflow:Early stopping conditioned on metric `val_loss` which is not available. Available metrics are: loss,accuracy\n",
            "WARNING:tensorflow:Learning rate reduction is conditioned on metric `val_loss` which is not available. Available metrics are: loss,accuracy,lr\n"
          ]
        },
        {
          "output_type": "stream",
          "name": "stdout",
          "text": [
            "\b\b\b\b\b\b\b\b\b\b\b\b\b\b\b\b\b\b\b\b\b\b\b\b\b\b\b\b\b\b\b\b\b\b\b\b\b\b\b\b\b\b\b\b\b\b\b\b\b\b\b\b\b\b\b\b\b\b\b\b\b\b\b\b\b\b\b\b\b\b\b\b\b\b\b\b\b\b\b\b\b\b\r75/75 [==============================] - 0s 6ms/step - loss: 0.0037 - accuracy: 0.9992 - lr: 3.0000e-05\n",
            "Epoch 80/200\n",
            "67/75 [=========================>....] - ETA: 0s - loss: 0.0038 - accuracy: 0.9995"
          ]
        },
        {
          "output_type": "stream",
          "name": "stderr",
          "text": [
            "WARNING:tensorflow:Early stopping conditioned on metric `val_loss` which is not available. Available metrics are: loss,accuracy\n",
            "WARNING:tensorflow:Learning rate reduction is conditioned on metric `val_loss` which is not available. Available metrics are: loss,accuracy,lr\n"
          ]
        },
        {
          "output_type": "stream",
          "name": "stdout",
          "text": [
            "\b\b\b\b\b\b\b\b\b\b\b\b\b\b\b\b\b\b\b\b\b\b\b\b\b\b\b\b\b\b\b\b\b\b\b\b\b\b\b\b\b\b\b\b\b\b\b\b\b\b\b\b\b\b\b\b\b\b\b\b\b\b\b\b\b\b\b\b\b\b\b\b\b\b\b\b\b\b\b\b\b\b\r75/75 [==============================] - 0s 6ms/step - loss: 0.0040 - accuracy: 0.9996 - lr: 3.0000e-05\n",
            "Epoch 81/200\n",
            "74/75 [============================>.] - ETA: 0s - loss: 0.0037 - accuracy: 0.9996"
          ]
        },
        {
          "output_type": "stream",
          "name": "stderr",
          "text": [
            "WARNING:tensorflow:Early stopping conditioned on metric `val_loss` which is not available. Available metrics are: loss,accuracy\n",
            "WARNING:tensorflow:Learning rate reduction is conditioned on metric `val_loss` which is not available. Available metrics are: loss,accuracy,lr\n"
          ]
        },
        {
          "output_type": "stream",
          "name": "stdout",
          "text": [
            "\b\b\b\b\b\b\b\b\b\b\b\b\b\b\b\b\b\b\b\b\b\b\b\b\b\b\b\b\b\b\b\b\b\b\b\b\b\b\b\b\b\b\b\b\b\b\b\b\b\b\b\b\b\b\b\b\b\b\b\b\b\b\b\b\b\b\b\b\b\b\b\b\b\b\b\b\b\b\b\b\b\b\r75/75 [==============================] - 0s 6ms/step - loss: 0.0037 - accuracy: 0.9996 - lr: 3.0000e-05\n",
            "Epoch 82/200\n",
            "74/75 [============================>.] - ETA: 0s - loss: 0.0031 - accuracy: 1.0000"
          ]
        },
        {
          "output_type": "stream",
          "name": "stderr",
          "text": [
            "WARNING:tensorflow:Early stopping conditioned on metric `val_loss` which is not available. Available metrics are: loss,accuracy\n",
            "WARNING:tensorflow:Learning rate reduction is conditioned on metric `val_loss` which is not available. Available metrics are: loss,accuracy,lr\n"
          ]
        },
        {
          "output_type": "stream",
          "name": "stdout",
          "text": [
            "\b\b\b\b\b\b\b\b\b\b\b\b\b\b\b\b\b\b\b\b\b\b\b\b\b\b\b\b\b\b\b\b\b\b\b\b\b\b\b\b\b\b\b\b\b\b\b\b\b\b\b\b\b\b\b\b\b\b\b\b\b\b\b\b\b\b\b\b\b\b\b\b\b\b\b\b\b\b\b\b\b\b\r75/75 [==============================] - 0s 6ms/step - loss: 0.0031 - accuracy: 1.0000 - lr: 3.0000e-05\n",
            "Epoch 83/200\n",
            "75/75 [==============================] - ETA: 0s - loss: 0.0032 - accuracy: 0.9996"
          ]
        },
        {
          "output_type": "stream",
          "name": "stderr",
          "text": [
            "WARNING:tensorflow:Early stopping conditioned on metric `val_loss` which is not available. Available metrics are: loss,accuracy\n",
            "WARNING:tensorflow:Learning rate reduction is conditioned on metric `val_loss` which is not available. Available metrics are: loss,accuracy,lr\n"
          ]
        },
        {
          "output_type": "stream",
          "name": "stdout",
          "text": [
            "\b\b\b\b\b\b\b\b\b\b\b\b\b\b\b\b\b\b\b\b\b\b\b\b\b\b\b\b\b\b\b\b\b\b\b\b\b\b\b\b\b\b\b\b\b\b\b\b\b\b\b\b\b\b\b\b\b\b\b\b\b\b\b\b\b\b\b\b\b\b\b\b\b\b\b\b\b\b\b\b\b\b\r75/75 [==============================] - 0s 6ms/step - loss: 0.0032 - accuracy: 0.9996 - lr: 3.0000e-05\n",
            "Epoch 84/200\n",
            "72/75 [===========================>..] - ETA: 0s - loss: 0.0031 - accuracy: 0.9996"
          ]
        },
        {
          "output_type": "stream",
          "name": "stderr",
          "text": [
            "WARNING:tensorflow:Early stopping conditioned on metric `val_loss` which is not available. Available metrics are: loss,accuracy\n",
            "WARNING:tensorflow:Learning rate reduction is conditioned on metric `val_loss` which is not available. Available metrics are: loss,accuracy,lr\n"
          ]
        },
        {
          "output_type": "stream",
          "name": "stdout",
          "text": [
            "\b\b\b\b\b\b\b\b\b\b\b\b\b\b\b\b\b\b\b\b\b\b\b\b\b\b\b\b\b\b\b\b\b\b\b\b\b\b\b\b\b\b\b\b\b\b\b\b\b\b\b\b\b\b\b\b\b\b\b\b\b\b\b\b\b\b\b\b\b\b\b\b\b\b\b\b\b\b\b\b\b\b\r75/75 [==============================] - 0s 6ms/step - loss: 0.0037 - accuracy: 0.9992 - lr: 3.0000e-05\n",
            "Epoch 85/200\n",
            "74/75 [============================>.] - ETA: 0s - loss: 0.0037 - accuracy: 0.9992"
          ]
        },
        {
          "output_type": "stream",
          "name": "stderr",
          "text": [
            "WARNING:tensorflow:Early stopping conditioned on metric `val_loss` which is not available. Available metrics are: loss,accuracy\n",
            "WARNING:tensorflow:Learning rate reduction is conditioned on metric `val_loss` which is not available. Available metrics are: loss,accuracy,lr\n"
          ]
        },
        {
          "output_type": "stream",
          "name": "stdout",
          "text": [
            "\b\b\b\b\b\b\b\b\b\b\b\b\b\b\b\b\b\b\b\b\b\b\b\b\b\b\b\b\b\b\b\b\b\b\b\b\b\b\b\b\b\b\b\b\b\b\b\b\b\b\b\b\b\b\b\b\b\b\b\b\b\b\b\b\b\b\b\b\b\b\b\b\b\b\b\b\b\b\b\b\b\b\r75/75 [==============================] - 0s 6ms/step - loss: 0.0037 - accuracy: 0.9992 - lr: 3.0000e-05\n",
            "Epoch 86/200\n",
            "71/75 [===========================>..] - ETA: 0s - loss: 0.0030 - accuracy: 0.9991"
          ]
        },
        {
          "output_type": "stream",
          "name": "stderr",
          "text": [
            "WARNING:tensorflow:Early stopping conditioned on metric `val_loss` which is not available. Available metrics are: loss,accuracy\n",
            "WARNING:tensorflow:Learning rate reduction is conditioned on metric `val_loss` which is not available. Available metrics are: loss,accuracy,lr\n"
          ]
        },
        {
          "output_type": "stream",
          "name": "stdout",
          "text": [
            "\b\b\b\b\b\b\b\b\b\b\b\b\b\b\b\b\b\b\b\b\b\b\b\b\b\b\b\b\b\b\b\b\b\b\b\b\b\b\b\b\b\b\b\b\b\b\b\b\b\b\b\b\b\b\b\b\b\b\b\b\b\b\b\b\b\b\b\b\b\b\b\b\b\b\b\b\b\b\b\b\b\b\r75/75 [==============================] - 0s 6ms/step - loss: 0.0029 - accuracy: 0.9992 - lr: 3.0000e-05\n",
            "Epoch 87/200\n",
            "72/75 [===========================>..] - ETA: 0s - loss: 0.0035 - accuracy: 0.9987"
          ]
        },
        {
          "output_type": "stream",
          "name": "stderr",
          "text": [
            "WARNING:tensorflow:Early stopping conditioned on metric `val_loss` which is not available. Available metrics are: loss,accuracy\n",
            "WARNING:tensorflow:Learning rate reduction is conditioned on metric `val_loss` which is not available. Available metrics are: loss,accuracy,lr\n"
          ]
        },
        {
          "output_type": "stream",
          "name": "stdout",
          "text": [
            "\b\b\b\b\b\b\b\b\b\b\b\b\b\b\b\b\b\b\b\b\b\b\b\b\b\b\b\b\b\b\b\b\b\b\b\b\b\b\b\b\b\b\b\b\b\b\b\b\b\b\b\b\b\b\b\b\b\b\b\b\b\b\b\b\b\b\b\b\b\b\b\b\b\b\b\b\b\b\b\b\b\b\r75/75 [==============================] - 0s 6ms/step - loss: 0.0034 - accuracy: 0.9987 - lr: 3.0000e-05\n",
            "Epoch 88/200\n",
            "75/75 [==============================] - ETA: 0s - loss: 0.0027 - accuracy: 0.9996"
          ]
        },
        {
          "output_type": "stream",
          "name": "stderr",
          "text": [
            "WARNING:tensorflow:Early stopping conditioned on metric `val_loss` which is not available. Available metrics are: loss,accuracy\n",
            "WARNING:tensorflow:Learning rate reduction is conditioned on metric `val_loss` which is not available. Available metrics are: loss,accuracy,lr\n"
          ]
        },
        {
          "output_type": "stream",
          "name": "stdout",
          "text": [
            "\b\b\b\b\b\b\b\b\b\b\b\b\b\b\b\b\b\b\b\b\b\b\b\b\b\b\b\b\b\b\b\b\b\b\b\b\b\b\b\b\b\b\b\b\b\b\b\b\b\b\b\b\b\b\b\b\b\b\b\b\b\b\b\b\b\b\b\b\b\b\b\b\b\b\b\b\b\b\b\b\b\b\r75/75 [==============================] - 0s 6ms/step - loss: 0.0027 - accuracy: 0.9996 - lr: 3.0000e-05\n",
            "Epoch 89/200\n",
            "75/75 [==============================] - ETA: 0s - loss: 0.0028 - accuracy: 0.9996"
          ]
        },
        {
          "output_type": "stream",
          "name": "stderr",
          "text": [
            "WARNING:tensorflow:Early stopping conditioned on metric `val_loss` which is not available. Available metrics are: loss,accuracy\n",
            "WARNING:tensorflow:Learning rate reduction is conditioned on metric `val_loss` which is not available. Available metrics are: loss,accuracy,lr\n"
          ]
        },
        {
          "output_type": "stream",
          "name": "stdout",
          "text": [
            "\b\b\b\b\b\b\b\b\b\b\b\b\b\b\b\b\b\b\b\b\b\b\b\b\b\b\b\b\b\b\b\b\b\b\b\b\b\b\b\b\b\b\b\b\b\b\b\b\b\b\b\b\b\b\b\b\b\b\b\b\b\b\b\b\b\b\b\b\b\b\b\b\b\b\b\b\b\b\b\b\b\b\r75/75 [==============================] - 0s 6ms/step - loss: 0.0028 - accuracy: 0.9996 - lr: 3.0000e-05\n",
            "Epoch 90/200\n",
            "74/75 [============================>.] - ETA: 0s - loss: 0.0022 - accuracy: 1.0000"
          ]
        },
        {
          "output_type": "stream",
          "name": "stderr",
          "text": [
            "WARNING:tensorflow:Early stopping conditioned on metric `val_loss` which is not available. Available metrics are: loss,accuracy\n",
            "WARNING:tensorflow:Learning rate reduction is conditioned on metric `val_loss` which is not available. Available metrics are: loss,accuracy,lr\n"
          ]
        },
        {
          "output_type": "stream",
          "name": "stdout",
          "text": [
            "\b\b\b\b\b\b\b\b\b\b\b\b\b\b\b\b\b\b\b\b\b\b\b\b\b\b\b\b\b\b\b\b\b\b\b\b\b\b\b\b\b\b\b\b\b\b\b\b\b\b\b\b\b\b\b\b\b\b\b\b\b\b\b\b\b\b\b\b\b\b\b\b\b\b\b\b\b\b\b\b\b\b\r75/75 [==============================] - 0s 6ms/step - loss: 0.0022 - accuracy: 1.0000 - lr: 3.0000e-05\n",
            "Epoch 91/200\n",
            "73/75 [============================>.] - ETA: 0s - loss: 0.0039 - accuracy: 0.9987"
          ]
        },
        {
          "output_type": "stream",
          "name": "stderr",
          "text": [
            "WARNING:tensorflow:Early stopping conditioned on metric `val_loss` which is not available. Available metrics are: loss,accuracy\n",
            "WARNING:tensorflow:Learning rate reduction is conditioned on metric `val_loss` which is not available. Available metrics are: loss,accuracy,lr\n"
          ]
        },
        {
          "output_type": "stream",
          "name": "stdout",
          "text": [
            "\b\b\b\b\b\b\b\b\b\b\b\b\b\b\b\b\b\b\b\b\b\b\b\b\b\b\b\b\b\b\b\b\b\b\b\b\b\b\b\b\b\b\b\b\b\b\b\b\b\b\b\b\b\b\b\b\b\b\b\b\b\b\b\b\b\b\b\b\b\b\b\b\b\b\b\b\b\b\b\b\b\b\r75/75 [==============================] - 0s 6ms/step - loss: 0.0039 - accuracy: 0.9987 - lr: 3.0000e-05\n",
            "Epoch 92/200\n",
            "74/75 [============================>.] - ETA: 0s - loss: 0.0036 - accuracy: 0.9983"
          ]
        },
        {
          "output_type": "stream",
          "name": "stderr",
          "text": [
            "WARNING:tensorflow:Early stopping conditioned on metric `val_loss` which is not available. Available metrics are: loss,accuracy\n",
            "WARNING:tensorflow:Learning rate reduction is conditioned on metric `val_loss` which is not available. Available metrics are: loss,accuracy,lr\n"
          ]
        },
        {
          "output_type": "stream",
          "name": "stdout",
          "text": [
            "\b\b\b\b\b\b\b\b\b\b\b\b\b\b\b\b\b\b\b\b\b\b\b\b\b\b\b\b\b\b\b\b\b\b\b\b\b\b\b\b\b\b\b\b\b\b\b\b\b\b\b\b\b\b\b\b\b\b\b\b\b\b\b\b\b\b\b\b\b\b\b\b\b\b\b\b\b\b\b\b\b\b\r75/75 [==============================] - 0s 6ms/step - loss: 0.0036 - accuracy: 0.9983 - lr: 3.0000e-05\n",
            "Epoch 93/200\n",
            "72/75 [===========================>..] - ETA: 0s - loss: 0.0028 - accuracy: 0.9996"
          ]
        },
        {
          "output_type": "stream",
          "name": "stderr",
          "text": [
            "WARNING:tensorflow:Early stopping conditioned on metric `val_loss` which is not available. Available metrics are: loss,accuracy\n",
            "WARNING:tensorflow:Learning rate reduction is conditioned on metric `val_loss` which is not available. Available metrics are: loss,accuracy,lr\n"
          ]
        },
        {
          "output_type": "stream",
          "name": "stdout",
          "text": [
            "\b\b\b\b\b\b\b\b\b\b\b\b\b\b\b\b\b\b\b\b\b\b\b\b\b\b\b\b\b\b\b\b\b\b\b\b\b\b\b\b\b\b\b\b\b\b\b\b\b\b\b\b\b\b\b\b\b\b\b\b\b\b\b\b\b\b\b\b\b\b\b\b\b\b\b\b\b\b\b\b\b\b\r75/75 [==============================] - 0s 6ms/step - loss: 0.0028 - accuracy: 0.9996 - lr: 3.0000e-05\n",
            "Epoch 94/200\n",
            "74/75 [============================>.] - ETA: 0s - loss: 0.0037 - accuracy: 0.9992"
          ]
        },
        {
          "output_type": "stream",
          "name": "stderr",
          "text": [
            "WARNING:tensorflow:Early stopping conditioned on metric `val_loss` which is not available. Available metrics are: loss,accuracy\n",
            "WARNING:tensorflow:Learning rate reduction is conditioned on metric `val_loss` which is not available. Available metrics are: loss,accuracy,lr\n"
          ]
        },
        {
          "output_type": "stream",
          "name": "stdout",
          "text": [
            "\b\b\b\b\b\b\b\b\b\b\b\b\b\b\b\b\b\b\b\b\b\b\b\b\b\b\b\b\b\b\b\b\b\b\b\b\b\b\b\b\b\b\b\b\b\b\b\b\b\b\b\b\b\b\b\b\b\b\b\b\b\b\b\b\b\b\b\b\b\b\b\b\b\b\b\b\b\b\b\b\b\b\r75/75 [==============================] - 0s 6ms/step - loss: 0.0037 - accuracy: 0.9992 - lr: 3.0000e-05\n",
            "Epoch 95/200\n",
            "73/75 [============================>.] - ETA: 0s - loss: 0.0034 - accuracy: 0.9983"
          ]
        },
        {
          "output_type": "stream",
          "name": "stderr",
          "text": [
            "WARNING:tensorflow:Early stopping conditioned on metric `val_loss` which is not available. Available metrics are: loss,accuracy\n",
            "WARNING:tensorflow:Learning rate reduction is conditioned on metric `val_loss` which is not available. Available metrics are: loss,accuracy,lr\n"
          ]
        },
        {
          "output_type": "stream",
          "name": "stdout",
          "text": [
            "\b\b\b\b\b\b\b\b\b\b\b\b\b\b\b\b\b\b\b\b\b\b\b\b\b\b\b\b\b\b\b\b\b\b\b\b\b\b\b\b\b\b\b\b\b\b\b\b\b\b\b\b\b\b\b\b\b\b\b\b\b\b\b\b\b\b\b\b\b\b\b\b\b\b\b\b\b\b\b\b\b\b\r75/75 [==============================] - 0s 6ms/step - loss: 0.0034 - accuracy: 0.9983 - lr: 3.0000e-05\n",
            "Epoch 96/200\n",
            "67/75 [=========================>....] - ETA: 0s - loss: 0.0031 - accuracy: 0.9986"
          ]
        },
        {
          "output_type": "stream",
          "name": "stderr",
          "text": [
            "WARNING:tensorflow:Early stopping conditioned on metric `val_loss` which is not available. Available metrics are: loss,accuracy\n",
            "WARNING:tensorflow:Learning rate reduction is conditioned on metric `val_loss` which is not available. Available metrics are: loss,accuracy,lr\n"
          ]
        },
        {
          "output_type": "stream",
          "name": "stdout",
          "text": [
            "\b\b\b\b\b\b\b\b\b\b\b\b\b\b\b\b\b\b\b\b\b\b\b\b\b\b\b\b\b\b\b\b\b\b\b\b\b\b\b\b\b\b\b\b\b\b\b\b\b\b\b\b\b\b\b\b\b\b\b\b\b\b\b\b\b\b\b\b\b\b\b\b\b\b\b\b\b\b\b\b\b\b\r75/75 [==============================] - 0s 6ms/step - loss: 0.0029 - accuracy: 0.9987 - lr: 3.0000e-05\n",
            "Epoch 97/200\n",
            "70/75 [===========================>..] - ETA: 0s - loss: 0.0032 - accuracy: 0.9996"
          ]
        },
        {
          "output_type": "stream",
          "name": "stderr",
          "text": [
            "WARNING:tensorflow:Early stopping conditioned on metric `val_loss` which is not available. Available metrics are: loss,accuracy\n",
            "WARNING:tensorflow:Learning rate reduction is conditioned on metric `val_loss` which is not available. Available metrics are: loss,accuracy,lr\n"
          ]
        },
        {
          "output_type": "stream",
          "name": "stdout",
          "text": [
            "\b\b\b\b\b\b\b\b\b\b\b\b\b\b\b\b\b\b\b\b\b\b\b\b\b\b\b\b\b\b\b\b\b\b\b\b\b\b\b\b\b\b\b\b\b\b\b\b\b\b\b\b\b\b\b\b\b\b\b\b\b\b\b\b\b\b\b\b\b\b\b\b\b\b\b\b\b\b\b\b\b\b\r75/75 [==============================] - 0s 6ms/step - loss: 0.0032 - accuracy: 0.9996 - lr: 3.0000e-05\n",
            "Epoch 98/200\n",
            "72/75 [===========================>..] - ETA: 0s - loss: 0.0026 - accuracy: 0.9991"
          ]
        },
        {
          "output_type": "stream",
          "name": "stderr",
          "text": [
            "WARNING:tensorflow:Early stopping conditioned on metric `val_loss` which is not available. Available metrics are: loss,accuracy\n",
            "WARNING:tensorflow:Learning rate reduction is conditioned on metric `val_loss` which is not available. Available metrics are: loss,accuracy,lr\n"
          ]
        },
        {
          "output_type": "stream",
          "name": "stdout",
          "text": [
            "\b\b\b\b\b\b\b\b\b\b\b\b\b\b\b\b\b\b\b\b\b\b\b\b\b\b\b\b\b\b\b\b\b\b\b\b\b\b\b\b\b\b\b\b\b\b\b\b\b\b\b\b\b\b\b\b\b\b\b\b\b\b\b\b\b\b\b\b\b\b\b\b\b\b\b\b\b\b\b\b\b\b\r75/75 [==============================] - 0s 6ms/step - loss: 0.0025 - accuracy: 0.9992 - lr: 3.0000e-05\n",
            "Epoch 99/200\n",
            "72/75 [===========================>..] - ETA: 0s - loss: 0.0027 - accuracy: 0.9991"
          ]
        },
        {
          "output_type": "stream",
          "name": "stderr",
          "text": [
            "WARNING:tensorflow:Early stopping conditioned on metric `val_loss` which is not available. Available metrics are: loss,accuracy\n",
            "WARNING:tensorflow:Learning rate reduction is conditioned on metric `val_loss` which is not available. Available metrics are: loss,accuracy,lr\n"
          ]
        },
        {
          "output_type": "stream",
          "name": "stdout",
          "text": [
            "\b\b\b\b\b\b\b\b\b\b\b\b\b\b\b\b\b\b\b\b\b\b\b\b\b\b\b\b\b\b\b\b\b\b\b\b\b\b\b\b\b\b\b\b\b\b\b\b\b\b\b\b\b\b\b\b\b\b\b\b\b\b\b\b\b\b\b\b\b\b\b\b\b\b\b\b\b\b\b\b\b\b\r75/75 [==============================] - 0s 6ms/step - loss: 0.0026 - accuracy: 0.9992 - lr: 3.0000e-05\n",
            "Epoch 100/200\n",
            "74/75 [============================>.] - ETA: 0s - loss: 0.0020 - accuracy: 0.9996"
          ]
        },
        {
          "output_type": "stream",
          "name": "stderr",
          "text": [
            "WARNING:tensorflow:Early stopping conditioned on metric `val_loss` which is not available. Available metrics are: loss,accuracy\n",
            "WARNING:tensorflow:Learning rate reduction is conditioned on metric `val_loss` which is not available. Available metrics are: loss,accuracy,lr\n"
          ]
        },
        {
          "output_type": "stream",
          "name": "stdout",
          "text": [
            "\b\b\b\b\b\b\b\b\b\b\b\b\b\b\b\b\b\b\b\b\b\b\b\b\b\b\b\b\b\b\b\b\b\b\b\b\b\b\b\b\b\b\b\b\b\b\b\b\b\b\b\b\b\b\b\b\b\b\b\b\b\b\b\b\b\b\b\b\b\b\b\b\b\b\b\b\b\b\b\b\b\b\r75/75 [==============================] - 0s 6ms/step - loss: 0.0020 - accuracy: 0.9996 - lr: 3.0000e-05\n",
            "Epoch 101/200\n",
            "75/75 [==============================] - ETA: 0s - loss: 0.0030 - accuracy: 0.9992"
          ]
        },
        {
          "output_type": "stream",
          "name": "stderr",
          "text": [
            "WARNING:tensorflow:Early stopping conditioned on metric `val_loss` which is not available. Available metrics are: loss,accuracy\n",
            "WARNING:tensorflow:Learning rate reduction is conditioned on metric `val_loss` which is not available. Available metrics are: loss,accuracy,lr\n"
          ]
        },
        {
          "output_type": "stream",
          "name": "stdout",
          "text": [
            "\b\b\b\b\b\b\b\b\b\b\b\b\b\b\b\b\b\b\b\b\b\b\b\b\b\b\b\b\b\b\b\b\b\b\b\b\b\b\b\b\b\b\b\b\b\b\b\b\b\b\b\b\b\b\b\b\b\b\b\b\b\b\b\b\b\b\b\b\b\b\b\b\b\b\b\b\b\b\b\b\b\b\r75/75 [==============================] - 0s 6ms/step - loss: 0.0030 - accuracy: 0.9992 - lr: 3.0000e-05\n",
            "Epoch 102/200\n",
            "72/75 [===========================>..] - ETA: 0s - loss: 0.0020 - accuracy: 0.9996"
          ]
        },
        {
          "output_type": "stream",
          "name": "stderr",
          "text": [
            "WARNING:tensorflow:Early stopping conditioned on metric `val_loss` which is not available. Available metrics are: loss,accuracy\n",
            "WARNING:tensorflow:Learning rate reduction is conditioned on metric `val_loss` which is not available. Available metrics are: loss,accuracy,lr\n"
          ]
        },
        {
          "output_type": "stream",
          "name": "stdout",
          "text": [
            "\b\b\b\b\b\b\b\b\b\b\b\b\b\b\b\b\b\b\b\b\b\b\b\b\b\b\b\b\b\b\b\b\b\b\b\b\b\b\b\b\b\b\b\b\b\b\b\b\b\b\b\b\b\b\b\b\b\b\b\b\b\b\b\b\b\b\b\b\b\b\b\b\b\b\b\b\b\b\b\b\b\b\r75/75 [==============================] - 0s 6ms/step - loss: 0.0020 - accuracy: 0.9996 - lr: 3.0000e-05\n",
            "Epoch 103/200\n",
            "74/75 [============================>.] - ETA: 0s - loss: 0.0021 - accuracy: 0.9996"
          ]
        },
        {
          "output_type": "stream",
          "name": "stderr",
          "text": [
            "WARNING:tensorflow:Early stopping conditioned on metric `val_loss` which is not available. Available metrics are: loss,accuracy\n",
            "WARNING:tensorflow:Learning rate reduction is conditioned on metric `val_loss` which is not available. Available metrics are: loss,accuracy,lr\n"
          ]
        },
        {
          "output_type": "stream",
          "name": "stdout",
          "text": [
            "\b\b\b\b\b\b\b\b\b\b\b\b\b\b\b\b\b\b\b\b\b\b\b\b\b\b\b\b\b\b\b\b\b\b\b\b\b\b\b\b\b\b\b\b\b\b\b\b\b\b\b\b\b\b\b\b\b\b\b\b\b\b\b\b\b\b\b\b\b\b\b\b\b\b\b\b\b\b\b\b\b\b\r75/75 [==============================] - 0s 6ms/step - loss: 0.0021 - accuracy: 0.9996 - lr: 3.0000e-05\n",
            "Epoch 104/200\n",
            "74/75 [============================>.] - ETA: 0s - loss: 0.0024 - accuracy: 0.9992"
          ]
        },
        {
          "output_type": "stream",
          "name": "stderr",
          "text": [
            "WARNING:tensorflow:Early stopping conditioned on metric `val_loss` which is not available. Available metrics are: loss,accuracy\n",
            "WARNING:tensorflow:Learning rate reduction is conditioned on metric `val_loss` which is not available. Available metrics are: loss,accuracy,lr\n"
          ]
        },
        {
          "output_type": "stream",
          "name": "stdout",
          "text": [
            "\b\b\b\b\b\b\b\b\b\b\b\b\b\b\b\b\b\b\b\b\b\b\b\b\b\b\b\b\b\b\b\b\b\b\b\b\b\b\b\b\b\b\b\b\b\b\b\b\b\b\b\b\b\b\b\b\b\b\b\b\b\b\b\b\b\b\b\b\b\b\b\b\b\b\b\b\b\b\b\b\b\b\r75/75 [==============================] - 0s 6ms/step - loss: 0.0024 - accuracy: 0.9992 - lr: 3.0000e-05\n",
            "Epoch 105/200\n",
            "74/75 [============================>.] - ETA: 0s - loss: 0.0032 - accuracy: 0.9992"
          ]
        },
        {
          "output_type": "stream",
          "name": "stderr",
          "text": [
            "WARNING:tensorflow:Early stopping conditioned on metric `val_loss` which is not available. Available metrics are: loss,accuracy\n",
            "WARNING:tensorflow:Learning rate reduction is conditioned on metric `val_loss` which is not available. Available metrics are: loss,accuracy,lr\n"
          ]
        },
        {
          "output_type": "stream",
          "name": "stdout",
          "text": [
            "\b\b\b\b\b\b\b\b\b\b\b\b\b\b\b\b\b\b\b\b\b\b\b\b\b\b\b\b\b\b\b\b\b\b\b\b\b\b\b\b\b\b\b\b\b\b\b\b\b\b\b\b\b\b\b\b\b\b\b\b\b\b\b\b\b\b\b\b\b\b\b\b\b\b\b\b\b\b\b\b\b\b\r75/75 [==============================] - 0s 6ms/step - loss: 0.0032 - accuracy: 0.9992 - lr: 3.0000e-05\n",
            "Epoch 106/200\n",
            "74/75 [============================>.] - ETA: 0s - loss: 0.0021 - accuracy: 0.9992"
          ]
        },
        {
          "output_type": "stream",
          "name": "stderr",
          "text": [
            "WARNING:tensorflow:Early stopping conditioned on metric `val_loss` which is not available. Available metrics are: loss,accuracy\n",
            "WARNING:tensorflow:Learning rate reduction is conditioned on metric `val_loss` which is not available. Available metrics are: loss,accuracy,lr\n"
          ]
        },
        {
          "output_type": "stream",
          "name": "stdout",
          "text": [
            "\b\b\b\b\b\b\b\b\b\b\b\b\b\b\b\b\b\b\b\b\b\b\b\b\b\b\b\b\b\b\b\b\b\b\b\b\b\b\b\b\b\b\b\b\b\b\b\b\b\b\b\b\b\b\b\b\b\b\b\b\b\b\b\b\b\b\b\b\b\b\b\b\b\b\b\b\b\b\b\b\b\b\r75/75 [==============================] - 0s 6ms/step - loss: 0.0021 - accuracy: 0.9992 - lr: 3.0000e-05\n",
            "Epoch 107/200\n",
            "74/75 [============================>.] - ETA: 0s - loss: 0.0022 - accuracy: 0.9996"
          ]
        },
        {
          "output_type": "stream",
          "name": "stderr",
          "text": [
            "WARNING:tensorflow:Early stopping conditioned on metric `val_loss` which is not available. Available metrics are: loss,accuracy\n",
            "WARNING:tensorflow:Learning rate reduction is conditioned on metric `val_loss` which is not available. Available metrics are: loss,accuracy,lr\n"
          ]
        },
        {
          "output_type": "stream",
          "name": "stdout",
          "text": [
            "\b\b\b\b\b\b\b\b\b\b\b\b\b\b\b\b\b\b\b\b\b\b\b\b\b\b\b\b\b\b\b\b\b\b\b\b\b\b\b\b\b\b\b\b\b\b\b\b\b\b\b\b\b\b\b\b\b\b\b\b\b\b\b\b\b\b\b\b\b\b\b\b\b\b\b\b\b\b\b\b\b\b\r75/75 [==============================] - 0s 6ms/step - loss: 0.0022 - accuracy: 0.9996 - lr: 3.0000e-05\n",
            "Epoch 108/200\n",
            "70/75 [===========================>..] - ETA: 0s - loss: 0.0017 - accuracy: 0.9996"
          ]
        },
        {
          "output_type": "stream",
          "name": "stderr",
          "text": [
            "WARNING:tensorflow:Early stopping conditioned on metric `val_loss` which is not available. Available metrics are: loss,accuracy\n",
            "WARNING:tensorflow:Learning rate reduction is conditioned on metric `val_loss` which is not available. Available metrics are: loss,accuracy,lr\n"
          ]
        },
        {
          "output_type": "stream",
          "name": "stdout",
          "text": [
            "\b\b\b\b\b\b\b\b\b\b\b\b\b\b\b\b\b\b\b\b\b\b\b\b\b\b\b\b\b\b\b\b\b\b\b\b\b\b\b\b\b\b\b\b\b\b\b\b\b\b\b\b\b\b\b\b\b\b\b\b\b\b\b\b\b\b\b\b\b\b\b\b\b\b\b\b\b\b\b\b\b\b\r75/75 [==============================] - 0s 6ms/step - loss: 0.0016 - accuracy: 0.9996 - lr: 3.0000e-05\n",
            "Epoch 109/200\n",
            "73/75 [============================>.] - ETA: 0s - loss: 0.0020 - accuracy: 0.9996"
          ]
        },
        {
          "output_type": "stream",
          "name": "stderr",
          "text": [
            "WARNING:tensorflow:Early stopping conditioned on metric `val_loss` which is not available. Available metrics are: loss,accuracy\n",
            "WARNING:tensorflow:Learning rate reduction is conditioned on metric `val_loss` which is not available. Available metrics are: loss,accuracy,lr\n"
          ]
        },
        {
          "output_type": "stream",
          "name": "stdout",
          "text": [
            "\b\b\b\b\b\b\b\b\b\b\b\b\b\b\b\b\b\b\b\b\b\b\b\b\b\b\b\b\b\b\b\b\b\b\b\b\b\b\b\b\b\b\b\b\b\b\b\b\b\b\b\b\b\b\b\b\b\b\b\b\b\b\b\b\b\b\b\b\b\b\b\b\b\b\b\b\b\b\b\b\b\b\r75/75 [==============================] - 0s 6ms/step - loss: 0.0020 - accuracy: 0.9996 - lr: 3.0000e-05\n",
            "Epoch 110/200\n",
            "72/75 [===========================>..] - ETA: 0s - loss: 0.0021 - accuracy: 0.9991"
          ]
        },
        {
          "output_type": "stream",
          "name": "stderr",
          "text": [
            "WARNING:tensorflow:Early stopping conditioned on metric `val_loss` which is not available. Available metrics are: loss,accuracy\n",
            "WARNING:tensorflow:Learning rate reduction is conditioned on metric `val_loss` which is not available. Available metrics are: loss,accuracy,lr\n"
          ]
        },
        {
          "output_type": "stream",
          "name": "stdout",
          "text": [
            "\b\b\b\b\b\b\b\b\b\b\b\b\b\b\b\b\b\b\b\b\b\b\b\b\b\b\b\b\b\b\b\b\b\b\b\b\b\b\b\b\b\b\b\b\b\b\b\b\b\b\b\b\b\b\b\b\b\b\b\b\b\b\b\b\b\b\b\b\b\b\b\b\b\b\b\b\b\b\b\b\b\b\r75/75 [==============================] - 0s 6ms/step - loss: 0.0020 - accuracy: 0.9992 - lr: 3.0000e-05\n",
            "Epoch 111/200\n",
            "67/75 [=========================>....] - ETA: 0s - loss: 0.0018 - accuracy: 0.9995"
          ]
        },
        {
          "output_type": "stream",
          "name": "stderr",
          "text": [
            "WARNING:tensorflow:Early stopping conditioned on metric `val_loss` which is not available. Available metrics are: loss,accuracy\n",
            "WARNING:tensorflow:Learning rate reduction is conditioned on metric `val_loss` which is not available. Available metrics are: loss,accuracy,lr\n"
          ]
        },
        {
          "output_type": "stream",
          "name": "stdout",
          "text": [
            "\b\b\b\b\b\b\b\b\b\b\b\b\b\b\b\b\b\b\b\b\b\b\b\b\b\b\b\b\b\b\b\b\b\b\b\b\b\b\b\b\b\b\b\b\b\b\b\b\b\b\b\b\b\b\b\b\b\b\b\b\b\b\b\b\b\b\b\b\b\b\b\b\b\b\b\b\b\b\b\b\b\b\r75/75 [==============================] - 0s 6ms/step - loss: 0.0016 - accuracy: 0.9996 - lr: 3.0000e-05\n",
            "Epoch 112/200\n",
            "74/75 [============================>.] - ETA: 0s - loss: 0.0013 - accuracy: 1.0000"
          ]
        },
        {
          "output_type": "stream",
          "name": "stderr",
          "text": [
            "WARNING:tensorflow:Early stopping conditioned on metric `val_loss` which is not available. Available metrics are: loss,accuracy\n",
            "WARNING:tensorflow:Learning rate reduction is conditioned on metric `val_loss` which is not available. Available metrics are: loss,accuracy,lr\n"
          ]
        },
        {
          "output_type": "stream",
          "name": "stdout",
          "text": [
            "\b\b\b\b\b\b\b\b\b\b\b\b\b\b\b\b\b\b\b\b\b\b\b\b\b\b\b\b\b\b\b\b\b\b\b\b\b\b\b\b\b\b\b\b\b\b\b\b\b\b\b\b\b\b\b\b\b\b\b\b\b\b\b\b\b\b\b\b\b\b\b\b\b\b\b\b\b\b\b\b\b\b\r75/75 [==============================] - 0s 6ms/step - loss: 0.0013 - accuracy: 1.0000 - lr: 3.0000e-05\n",
            "Epoch 113/200\n",
            "72/75 [===========================>..] - ETA: 0s - loss: 0.0026 - accuracy: 0.9987"
          ]
        },
        {
          "output_type": "stream",
          "name": "stderr",
          "text": [
            "WARNING:tensorflow:Early stopping conditioned on metric `val_loss` which is not available. Available metrics are: loss,accuracy\n",
            "WARNING:tensorflow:Learning rate reduction is conditioned on metric `val_loss` which is not available. Available metrics are: loss,accuracy,lr\n"
          ]
        },
        {
          "output_type": "stream",
          "name": "stdout",
          "text": [
            "\b\b\b\b\b\b\b\b\b\b\b\b\b\b\b\b\b\b\b\b\b\b\b\b\b\b\b\b\b\b\b\b\b\b\b\b\b\b\b\b\b\b\b\b\b\b\b\b\b\b\b\b\b\b\b\b\b\b\b\b\b\b\b\b\b\b\b\b\b\b\b\b\b\b\b\b\b\b\b\b\b\b\r75/75 [==============================] - 0s 6ms/step - loss: 0.0025 - accuracy: 0.9987 - lr: 3.0000e-05\n",
            "Epoch 114/200\n",
            "74/75 [============================>.] - ETA: 0s - loss: 0.0023 - accuracy: 0.9992"
          ]
        },
        {
          "output_type": "stream",
          "name": "stderr",
          "text": [
            "WARNING:tensorflow:Early stopping conditioned on metric `val_loss` which is not available. Available metrics are: loss,accuracy\n",
            "WARNING:tensorflow:Learning rate reduction is conditioned on metric `val_loss` which is not available. Available metrics are: loss,accuracy,lr\n"
          ]
        },
        {
          "output_type": "stream",
          "name": "stdout",
          "text": [
            "\b\b\b\b\b\b\b\b\b\b\b\b\b\b\b\b\b\b\b\b\b\b\b\b\b\b\b\b\b\b\b\b\b\b\b\b\b\b\b\b\b\b\b\b\b\b\b\b\b\b\b\b\b\b\b\b\b\b\b\b\b\b\b\b\b\b\b\b\b\b\b\b\b\b\b\b\b\b\b\b\b\b\r75/75 [==============================] - 0s 6ms/step - loss: 0.0023 - accuracy: 0.9992 - lr: 3.0000e-05\n",
            "Epoch 115/200\n",
            "67/75 [=========================>....] - ETA: 0s - loss: 0.0012 - accuracy: 1.0000    "
          ]
        },
        {
          "output_type": "stream",
          "name": "stderr",
          "text": [
            "WARNING:tensorflow:Early stopping conditioned on metric `val_loss` which is not available. Available metrics are: loss,accuracy\n",
            "WARNING:tensorflow:Learning rate reduction is conditioned on metric `val_loss` which is not available. Available metrics are: loss,accuracy,lr\n"
          ]
        },
        {
          "output_type": "stream",
          "name": "stdout",
          "text": [
            "\b\b\b\b\b\b\b\b\b\b\b\b\b\b\b\b\b\b\b\b\b\b\b\b\b\b\b\b\b\b\b\b\b\b\b\b\b\b\b\b\b\b\b\b\b\b\b\b\b\b\b\b\b\b\b\b\b\b\b\b\b\b\b\b\b\b\b\b\b\b\b\b\b\b\b\b\b\b\b\b\b\b\r75/75 [==============================] - 0s 6ms/step - loss: 0.0017 - accuracy: 0.9996 - lr: 3.0000e-05\n",
            "Epoch 116/200\n",
            "67/75 [=========================>....] - ETA: 0s - loss: 0.0017 - accuracy: 0.9995"
          ]
        },
        {
          "output_type": "stream",
          "name": "stderr",
          "text": [
            "WARNING:tensorflow:Early stopping conditioned on metric `val_loss` which is not available. Available metrics are: loss,accuracy\n",
            "WARNING:tensorflow:Learning rate reduction is conditioned on metric `val_loss` which is not available. Available metrics are: loss,accuracy,lr\n"
          ]
        },
        {
          "output_type": "stream",
          "name": "stdout",
          "text": [
            "\b\b\b\b\b\b\b\b\b\b\b\b\b\b\b\b\b\b\b\b\b\b\b\b\b\b\b\b\b\b\b\b\b\b\b\b\b\b\b\b\b\b\b\b\b\b\b\b\b\b\b\b\b\b\b\b\b\b\b\b\b\b\b\b\b\b\b\b\b\b\b\b\b\b\b\b\b\b\b\b\b\b\r75/75 [==============================] - 0s 6ms/step - loss: 0.0020 - accuracy: 0.9992 - lr: 3.0000e-05\n",
            "Epoch 117/200\n",
            "73/75 [============================>.] - ETA: 0s - loss: 0.0026 - accuracy: 0.9991"
          ]
        },
        {
          "output_type": "stream",
          "name": "stderr",
          "text": [
            "WARNING:tensorflow:Early stopping conditioned on metric `val_loss` which is not available. Available metrics are: loss,accuracy\n",
            "WARNING:tensorflow:Learning rate reduction is conditioned on metric `val_loss` which is not available. Available metrics are: loss,accuracy,lr\n"
          ]
        },
        {
          "output_type": "stream",
          "name": "stdout",
          "text": [
            "\b\b\b\b\b\b\b\b\b\b\b\b\b\b\b\b\b\b\b\b\b\b\b\b\b\b\b\b\b\b\b\b\b\b\b\b\b\b\b\b\b\b\b\b\b\b\b\b\b\b\b\b\b\b\b\b\b\b\b\b\b\b\b\b\b\b\b\b\b\b\b\b\b\b\b\b\b\b\b\b\b\b\r75/75 [==============================] - 0s 6ms/step - loss: 0.0025 - accuracy: 0.9992 - lr: 3.0000e-05\n",
            "Epoch 118/200\n",
            "74/75 [============================>.] - ETA: 0s - loss: 0.0018 - accuracy: 0.9992"
          ]
        },
        {
          "output_type": "stream",
          "name": "stderr",
          "text": [
            "WARNING:tensorflow:Early stopping conditioned on metric `val_loss` which is not available. Available metrics are: loss,accuracy\n",
            "WARNING:tensorflow:Learning rate reduction is conditioned on metric `val_loss` which is not available. Available metrics are: loss,accuracy,lr\n"
          ]
        },
        {
          "output_type": "stream",
          "name": "stdout",
          "text": [
            "\b\b\b\b\b\b\b\b\b\b\b\b\b\b\b\b\b\b\b\b\b\b\b\b\b\b\b\b\b\b\b\b\b\b\b\b\b\b\b\b\b\b\b\b\b\b\b\b\b\b\b\b\b\b\b\b\b\b\b\b\b\b\b\b\b\b\b\b\b\b\b\b\b\b\b\b\b\b\b\b\b\b\r75/75 [==============================] - 0s 6ms/step - loss: 0.0018 - accuracy: 0.9992 - lr: 3.0000e-05\n",
            "Epoch 119/200\n",
            "73/75 [============================>.] - ETA: 0s - loss: 0.0014 - accuracy: 0.9996"
          ]
        },
        {
          "output_type": "stream",
          "name": "stderr",
          "text": [
            "WARNING:tensorflow:Early stopping conditioned on metric `val_loss` which is not available. Available metrics are: loss,accuracy\n",
            "WARNING:tensorflow:Learning rate reduction is conditioned on metric `val_loss` which is not available. Available metrics are: loss,accuracy,lr\n"
          ]
        },
        {
          "output_type": "stream",
          "name": "stdout",
          "text": [
            "\b\b\b\b\b\b\b\b\b\b\b\b\b\b\b\b\b\b\b\b\b\b\b\b\b\b\b\b\b\b\b\b\b\b\b\b\b\b\b\b\b\b\b\b\b\b\b\b\b\b\b\b\b\b\b\b\b\b\b\b\b\b\b\b\b\b\b\b\b\b\b\b\b\b\b\b\b\b\b\b\b\b\r75/75 [==============================] - 0s 6ms/step - loss: 0.0014 - accuracy: 0.9996 - lr: 3.0000e-05\n",
            "Epoch 120/200\n",
            "70/75 [===========================>..] - ETA: 0s - loss: 0.0023 - accuracy: 0.9996"
          ]
        },
        {
          "output_type": "stream",
          "name": "stderr",
          "text": [
            "WARNING:tensorflow:Early stopping conditioned on metric `val_loss` which is not available. Available metrics are: loss,accuracy\n",
            "WARNING:tensorflow:Learning rate reduction is conditioned on metric `val_loss` which is not available. Available metrics are: loss,accuracy,lr\n"
          ]
        },
        {
          "output_type": "stream",
          "name": "stdout",
          "text": [
            "\b\b\b\b\b\b\b\b\b\b\b\b\b\b\b\b\b\b\b\b\b\b\b\b\b\b\b\b\b\b\b\b\b\b\b\b\b\b\b\b\b\b\b\b\b\b\b\b\b\b\b\b\b\b\b\b\b\b\b\b\b\b\b\b\b\b\b\b\b\b\b\b\b\b\b\b\b\b\b\b\b\b\r75/75 [==============================] - 0s 6ms/step - loss: 0.0034 - accuracy: 0.9992 - lr: 3.0000e-05\n",
            "Epoch 121/200\n",
            "71/75 [===========================>..] - ETA: 0s - loss: 0.0016 - accuracy: 0.9991"
          ]
        },
        {
          "output_type": "stream",
          "name": "stderr",
          "text": [
            "WARNING:tensorflow:Early stopping conditioned on metric `val_loss` which is not available. Available metrics are: loss,accuracy\n",
            "WARNING:tensorflow:Learning rate reduction is conditioned on metric `val_loss` which is not available. Available metrics are: loss,accuracy,lr\n"
          ]
        },
        {
          "output_type": "stream",
          "name": "stdout",
          "text": [
            "\b\b\b\b\b\b\b\b\b\b\b\b\b\b\b\b\b\b\b\b\b\b\b\b\b\b\b\b\b\b\b\b\b\b\b\b\b\b\b\b\b\b\b\b\b\b\b\b\b\b\b\b\b\b\b\b\b\b\b\b\b\b\b\b\b\b\b\b\b\b\b\b\b\b\b\b\b\b\b\b\b\b\r75/75 [==============================] - 0s 6ms/step - loss: 0.0031 - accuracy: 0.9987 - lr: 3.0000e-05\n",
            "Epoch 122/200\n",
            "71/75 [===========================>..] - ETA: 0s - loss: 0.0026 - accuracy: 0.9991"
          ]
        },
        {
          "output_type": "stream",
          "name": "stderr",
          "text": [
            "WARNING:tensorflow:Early stopping conditioned on metric `val_loss` which is not available. Available metrics are: loss,accuracy\n",
            "WARNING:tensorflow:Learning rate reduction is conditioned on metric `val_loss` which is not available. Available metrics are: loss,accuracy,lr\n"
          ]
        },
        {
          "output_type": "stream",
          "name": "stdout",
          "text": [
            "\b\b\b\b\b\b\b\b\b\b\b\b\b\b\b\b\b\b\b\b\b\b\b\b\b\b\b\b\b\b\b\b\b\b\b\b\b\b\b\b\b\b\b\b\b\b\b\b\b\b\b\b\b\b\b\b\b\b\b\b\b\b\b\b\b\b\b\b\b\b\b\b\b\b\b\b\b\b\b\b\b\b\r75/75 [==============================] - 0s 6ms/step - loss: 0.0025 - accuracy: 0.9992 - lr: 3.0000e-05\n",
            "Epoch 123/200\n",
            "72/75 [===========================>..] - ETA: 0s - loss: 0.0026 - accuracy: 0.9991"
          ]
        },
        {
          "output_type": "stream",
          "name": "stderr",
          "text": [
            "WARNING:tensorflow:Early stopping conditioned on metric `val_loss` which is not available. Available metrics are: loss,accuracy\n",
            "WARNING:tensorflow:Learning rate reduction is conditioned on metric `val_loss` which is not available. Available metrics are: loss,accuracy,lr\n"
          ]
        },
        {
          "output_type": "stream",
          "name": "stdout",
          "text": [
            "\b\b\b\b\b\b\b\b\b\b\b\b\b\b\b\b\b\b\b\b\b\b\b\b\b\b\b\b\b\b\b\b\b\b\b\b\b\b\b\b\b\b\b\b\b\b\b\b\b\b\b\b\b\b\b\b\b\b\b\b\b\b\b\b\b\b\b\b\b\b\b\b\b\b\b\b\b\b\b\b\b\b\r75/75 [==============================] - 0s 6ms/step - loss: 0.0025 - accuracy: 0.9992 - lr: 3.0000e-05\n",
            "Epoch 124/200\n",
            "74/75 [============================>.] - ETA: 0s - loss: 0.0018 - accuracy: 0.9996"
          ]
        },
        {
          "output_type": "stream",
          "name": "stderr",
          "text": [
            "WARNING:tensorflow:Early stopping conditioned on metric `val_loss` which is not available. Available metrics are: loss,accuracy\n",
            "WARNING:tensorflow:Learning rate reduction is conditioned on metric `val_loss` which is not available. Available metrics are: loss,accuracy,lr\n"
          ]
        },
        {
          "output_type": "stream",
          "name": "stdout",
          "text": [
            "\b\b\b\b\b\b\b\b\b\b\b\b\b\b\b\b\b\b\b\b\b\b\b\b\b\b\b\b\b\b\b\b\b\b\b\b\b\b\b\b\b\b\b\b\b\b\b\b\b\b\b\b\b\b\b\b\b\b\b\b\b\b\b\b\b\b\b\b\b\b\b\b\b\b\b\b\b\b\b\b\b\b\r75/75 [==============================] - 0s 6ms/step - loss: 0.0018 - accuracy: 0.9996 - lr: 3.0000e-05\n",
            "Epoch 125/200\n",
            "74/75 [============================>.] - ETA: 0s - loss: 0.0014 - accuracy: 0.9996"
          ]
        },
        {
          "output_type": "stream",
          "name": "stderr",
          "text": [
            "WARNING:tensorflow:Early stopping conditioned on metric `val_loss` which is not available. Available metrics are: loss,accuracy\n",
            "WARNING:tensorflow:Learning rate reduction is conditioned on metric `val_loss` which is not available. Available metrics are: loss,accuracy,lr\n"
          ]
        },
        {
          "output_type": "stream",
          "name": "stdout",
          "text": [
            "\b\b\b\b\b\b\b\b\b\b\b\b\b\b\b\b\b\b\b\b\b\b\b\b\b\b\b\b\b\b\b\b\b\b\b\b\b\b\b\b\b\b\b\b\b\b\b\b\b\b\b\b\b\b\b\b\b\b\b\b\b\b\b\b\b\b\b\b\b\b\b\b\b\b\b\b\b\b\b\b\b\b\r75/75 [==============================] - 0s 6ms/step - loss: 0.0014 - accuracy: 0.9996 - lr: 3.0000e-05\n",
            "Epoch 126/200\n",
            "72/75 [===========================>..] - ETA: 0s - loss: 0.0017 - accuracy: 0.9996"
          ]
        },
        {
          "output_type": "stream",
          "name": "stderr",
          "text": [
            "WARNING:tensorflow:Early stopping conditioned on metric `val_loss` which is not available. Available metrics are: loss,accuracy\n",
            "WARNING:tensorflow:Learning rate reduction is conditioned on metric `val_loss` which is not available. Available metrics are: loss,accuracy,lr\n"
          ]
        },
        {
          "output_type": "stream",
          "name": "stdout",
          "text": [
            "\b\b\b\b\b\b\b\b\b\b\b\b\b\b\b\b\b\b\b\b\b\b\b\b\b\b\b\b\b\b\b\b\b\b\b\b\b\b\b\b\b\b\b\b\b\b\b\b\b\b\b\b\b\b\b\b\b\b\b\b\b\b\b\b\b\b\b\b\b\b\b\b\b\b\b\b\b\b\b\b\b\b\r75/75 [==============================] - 0s 6ms/step - loss: 0.0016 - accuracy: 0.9996 - lr: 3.0000e-05\n",
            "Epoch 127/200\n",
            "73/75 [============================>.] - ETA: 0s - loss: 0.0021 - accuracy: 0.9991"
          ]
        },
        {
          "output_type": "stream",
          "name": "stderr",
          "text": [
            "WARNING:tensorflow:Early stopping conditioned on metric `val_loss` which is not available. Available metrics are: loss,accuracy\n",
            "WARNING:tensorflow:Learning rate reduction is conditioned on metric `val_loss` which is not available. Available metrics are: loss,accuracy,lr\n"
          ]
        },
        {
          "output_type": "stream",
          "name": "stdout",
          "text": [
            "\b\b\b\b\b\b\b\b\b\b\b\b\b\b\b\b\b\b\b\b\b\b\b\b\b\b\b\b\b\b\b\b\b\b\b\b\b\b\b\b\b\b\b\b\b\b\b\b\b\b\b\b\b\b\b\b\b\b\b\b\b\b\b\b\b\b\b\b\b\b\b\b\b\b\b\b\b\b\b\b\b\b\r75/75 [==============================] - 0s 6ms/step - loss: 0.0021 - accuracy: 0.9992 - lr: 3.0000e-05\n",
            "Epoch 128/200\n",
            "73/75 [============================>.] - ETA: 0s - loss: 0.0010 - accuracy: 0.9996    "
          ]
        },
        {
          "output_type": "stream",
          "name": "stderr",
          "text": [
            "WARNING:tensorflow:Early stopping conditioned on metric `val_loss` which is not available. Available metrics are: loss,accuracy\n",
            "WARNING:tensorflow:Learning rate reduction is conditioned on metric `val_loss` which is not available. Available metrics are: loss,accuracy,lr\n"
          ]
        },
        {
          "output_type": "stream",
          "name": "stdout",
          "text": [
            "\b\b\b\b\b\b\b\b\b\b\b\b\b\b\b\b\b\b\b\b\b\b\b\b\b\b\b\b\b\b\b\b\b\b\b\b\b\b\b\b\b\b\b\b\b\b\b\b\b\b\b\b\b\b\b\b\b\b\b\b\b\b\b\b\b\b\b\b\b\b\b\b\b\b\b\b\b\b\b\b\b\b\r75/75 [==============================] - 0s 6ms/step - loss: 0.0011 - accuracy: 0.9996 - lr: 3.0000e-05\n",
            "Epoch 129/200\n",
            "75/75 [==============================] - ETA: 0s - loss: 0.0011 - accuracy: 1.0000"
          ]
        },
        {
          "output_type": "stream",
          "name": "stderr",
          "text": [
            "WARNING:tensorflow:Early stopping conditioned on metric `val_loss` which is not available. Available metrics are: loss,accuracy\n",
            "WARNING:tensorflow:Learning rate reduction is conditioned on metric `val_loss` which is not available. Available metrics are: loss,accuracy,lr\n"
          ]
        },
        {
          "output_type": "stream",
          "name": "stdout",
          "text": [
            "\b\b\b\b\b\b\b\b\b\b\b\b\b\b\b\b\b\b\b\b\b\b\b\b\b\b\b\b\b\b\b\b\b\b\b\b\b\b\b\b\b\b\b\b\b\b\b\b\b\b\b\b\b\b\b\b\b\b\b\b\b\b\b\b\b\b\b\b\b\b\b\b\b\b\b\b\b\b\b\b\b\b\r75/75 [==============================] - 0s 6ms/step - loss: 0.0011 - accuracy: 1.0000 - lr: 3.0000e-05\n",
            "Epoch 130/200\n",
            "74/75 [============================>.] - ETA: 0s - loss: 0.0016 - accuracy: 0.9996"
          ]
        },
        {
          "output_type": "stream",
          "name": "stderr",
          "text": [
            "WARNING:tensorflow:Early stopping conditioned on metric `val_loss` which is not available. Available metrics are: loss,accuracy\n",
            "WARNING:tensorflow:Learning rate reduction is conditioned on metric `val_loss` which is not available. Available metrics are: loss,accuracy,lr\n"
          ]
        },
        {
          "output_type": "stream",
          "name": "stdout",
          "text": [
            "\b\b\b\b\b\b\b\b\b\b\b\b\b\b\b\b\b\b\b\b\b\b\b\b\b\b\b\b\b\b\b\b\b\b\b\b\b\b\b\b\b\b\b\b\b\b\b\b\b\b\b\b\b\b\b\b\b\b\b\b\b\b\b\b\b\b\b\b\b\b\b\b\b\b\b\b\b\b\b\b\b\b\r75/75 [==============================] - 0s 6ms/step - loss: 0.0016 - accuracy: 0.9996 - lr: 3.0000e-05\n",
            "Epoch 131/200\n",
            "75/75 [==============================] - ETA: 0s - loss: 0.0018 - accuracy: 0.9987"
          ]
        },
        {
          "output_type": "stream",
          "name": "stderr",
          "text": [
            "WARNING:tensorflow:Early stopping conditioned on metric `val_loss` which is not available. Available metrics are: loss,accuracy\n",
            "WARNING:tensorflow:Learning rate reduction is conditioned on metric `val_loss` which is not available. Available metrics are: loss,accuracy,lr\n"
          ]
        },
        {
          "output_type": "stream",
          "name": "stdout",
          "text": [
            "\b\b\b\b\b\b\b\b\b\b\b\b\b\b\b\b\b\b\b\b\b\b\b\b\b\b\b\b\b\b\b\b\b\b\b\b\b\b\b\b\b\b\b\b\b\b\b\b\b\b\b\b\b\b\b\b\b\b\b\b\b\b\b\b\b\b\b\b\b\b\b\b\b\b\b\b\b\b\b\b\b\b\r75/75 [==============================] - 0s 6ms/step - loss: 0.0018 - accuracy: 0.9987 - lr: 3.0000e-05\n",
            "Epoch 132/200\n",
            "67/75 [=========================>....] - ETA: 0s - loss: 0.0027 - accuracy: 0.9991"
          ]
        },
        {
          "output_type": "stream",
          "name": "stderr",
          "text": [
            "WARNING:tensorflow:Early stopping conditioned on metric `val_loss` which is not available. Available metrics are: loss,accuracy\n",
            "WARNING:tensorflow:Learning rate reduction is conditioned on metric `val_loss` which is not available. Available metrics are: loss,accuracy,lr\n"
          ]
        },
        {
          "output_type": "stream",
          "name": "stdout",
          "text": [
            "\b\b\b\b\b\b\b\b\b\b\b\b\b\b\b\b\b\b\b\b\b\b\b\b\b\b\b\b\b\b\b\b\b\b\b\b\b\b\b\b\b\b\b\b\b\b\b\b\b\b\b\b\b\b\b\b\b\b\b\b\b\b\b\b\b\b\b\b\b\b\b\b\b\b\b\b\b\b\b\b\b\b\r75/75 [==============================] - 0s 6ms/step - loss: 0.0026 - accuracy: 0.9992 - lr: 3.0000e-05\n",
            "Epoch 133/200\n",
            "75/75 [==============================] - ETA: 0s - loss: 0.0019 - accuracy: 0.9992"
          ]
        },
        {
          "output_type": "stream",
          "name": "stderr",
          "text": [
            "WARNING:tensorflow:Early stopping conditioned on metric `val_loss` which is not available. Available metrics are: loss,accuracy\n",
            "WARNING:tensorflow:Learning rate reduction is conditioned on metric `val_loss` which is not available. Available metrics are: loss,accuracy,lr\n"
          ]
        },
        {
          "output_type": "stream",
          "name": "stdout",
          "text": [
            "\b\b\b\b\b\b\b\b\b\b\b\b\b\b\b\b\b\b\b\b\b\b\b\b\b\b\b\b\b\b\b\b\b\b\b\b\b\b\b\b\b\b\b\b\b\b\b\b\b\b\b\b\b\b\b\b\b\b\b\b\b\b\b\b\b\b\b\b\b\b\b\b\b\b\b\b\b\b\b\b\b\b\r75/75 [==============================] - 0s 6ms/step - loss: 0.0019 - accuracy: 0.9992 - lr: 3.0000e-05\n",
            "Epoch 134/200\n",
            "67/75 [=========================>....] - ETA: 0s - loss: 0.0023 - accuracy: 0.9991"
          ]
        },
        {
          "output_type": "stream",
          "name": "stderr",
          "text": [
            "WARNING:tensorflow:Early stopping conditioned on metric `val_loss` which is not available. Available metrics are: loss,accuracy\n",
            "WARNING:tensorflow:Learning rate reduction is conditioned on metric `val_loss` which is not available. Available metrics are: loss,accuracy,lr\n"
          ]
        },
        {
          "output_type": "stream",
          "name": "stdout",
          "text": [
            "\b\b\b\b\b\b\b\b\b\b\b\b\b\b\b\b\b\b\b\b\b\b\b\b\b\b\b\b\b\b\b\b\b\b\b\b\b\b\b\b\b\b\b\b\b\b\b\b\b\b\b\b\b\b\b\b\b\b\b\b\b\b\b\b\b\b\b\b\b\b\b\b\b\b\b\b\b\b\b\b\b\b\r75/75 [==============================] - 0s 6ms/step - loss: 0.0021 - accuracy: 0.9992 - lr: 3.0000e-05\n",
            "Epoch 135/200\n",
            "71/75 [===========================>..] - ETA: 0s - loss: 0.0024 - accuracy: 0.9991"
          ]
        },
        {
          "output_type": "stream",
          "name": "stderr",
          "text": [
            "WARNING:tensorflow:Early stopping conditioned on metric `val_loss` which is not available. Available metrics are: loss,accuracy\n",
            "WARNING:tensorflow:Learning rate reduction is conditioned on metric `val_loss` which is not available. Available metrics are: loss,accuracy,lr\n"
          ]
        },
        {
          "output_type": "stream",
          "name": "stdout",
          "text": [
            "\b\b\b\b\b\b\b\b\b\b\b\b\b\b\b\b\b\b\b\b\b\b\b\b\b\b\b\b\b\b\b\b\b\b\b\b\b\b\b\b\b\b\b\b\b\b\b\b\b\b\b\b\b\b\b\b\b\b\b\b\b\b\b\b\b\b\b\b\b\b\b\b\b\b\b\b\b\b\b\b\b\b\r75/75 [==============================] - 0s 6ms/step - loss: 0.0023 - accuracy: 0.9992 - lr: 3.0000e-05\n",
            "Epoch 136/200\n",
            "75/75 [==============================] - ETA: 0s - loss: 0.0020 - accuracy: 0.9992"
          ]
        },
        {
          "output_type": "stream",
          "name": "stderr",
          "text": [
            "WARNING:tensorflow:Early stopping conditioned on metric `val_loss` which is not available. Available metrics are: loss,accuracy\n",
            "WARNING:tensorflow:Learning rate reduction is conditioned on metric `val_loss` which is not available. Available metrics are: loss,accuracy,lr\n"
          ]
        },
        {
          "output_type": "stream",
          "name": "stdout",
          "text": [
            "\b\b\b\b\b\b\b\b\b\b\b\b\b\b\b\b\b\b\b\b\b\b\b\b\b\b\b\b\b\b\b\b\b\b\b\b\b\b\b\b\b\b\b\b\b\b\b\b\b\b\b\b\b\b\b\b\b\b\b\b\b\b\b\b\b\b\b\b\b\b\b\b\b\b\b\b\b\b\b\b\b\b\r75/75 [==============================] - 0s 6ms/step - loss: 0.0020 - accuracy: 0.9992 - lr: 3.0000e-05\n",
            "Epoch 137/200\n",
            "74/75 [============================>.] - ETA: 0s - loss: 0.0013 - accuracy: 0.9996    "
          ]
        },
        {
          "output_type": "stream",
          "name": "stderr",
          "text": [
            "WARNING:tensorflow:Early stopping conditioned on metric `val_loss` which is not available. Available metrics are: loss,accuracy\n",
            "WARNING:tensorflow:Learning rate reduction is conditioned on metric `val_loss` which is not available. Available metrics are: loss,accuracy,lr\n"
          ]
        },
        {
          "output_type": "stream",
          "name": "stdout",
          "text": [
            "\b\b\b\b\b\b\b\b\b\b\b\b\b\b\b\b\b\b\b\b\b\b\b\b\b\b\b\b\b\b\b\b\b\b\b\b\b\b\b\b\b\b\b\b\b\b\b\b\b\b\b\b\b\b\b\b\b\b\b\b\b\b\b\b\b\b\b\b\b\b\b\b\b\b\b\b\b\b\b\b\b\b\r75/75 [==============================] - 0s 6ms/step - loss: 0.0013 - accuracy: 0.9996 - lr: 3.0000e-05\n",
            "Epoch 138/200\n",
            "73/75 [============================>.] - ETA: 0s - loss: 0.0015 - accuracy: 0.9996"
          ]
        },
        {
          "output_type": "stream",
          "name": "stderr",
          "text": [
            "WARNING:tensorflow:Early stopping conditioned on metric `val_loss` which is not available. Available metrics are: loss,accuracy\n",
            "WARNING:tensorflow:Learning rate reduction is conditioned on metric `val_loss` which is not available. Available metrics are: loss,accuracy,lr\n"
          ]
        },
        {
          "output_type": "stream",
          "name": "stdout",
          "text": [
            "\b\b\b\b\b\b\b\b\b\b\b\b\b\b\b\b\b\b\b\b\b\b\b\b\b\b\b\b\b\b\b\b\b\b\b\b\b\b\b\b\b\b\b\b\b\b\b\b\b\b\b\b\b\b\b\b\b\b\b\b\b\b\b\b\b\b\b\b\b\b\b\b\b\b\b\b\b\b\b\b\b\b\r75/75 [==============================] - 0s 6ms/step - loss: 0.0015 - accuracy: 0.9996 - lr: 3.0000e-05\n",
            "Epoch 139/200\n",
            "74/75 [============================>.] - ETA: 0s - loss: 0.0019 - accuracy: 0.9992"
          ]
        },
        {
          "output_type": "stream",
          "name": "stderr",
          "text": [
            "WARNING:tensorflow:Early stopping conditioned on metric `val_loss` which is not available. Available metrics are: loss,accuracy\n",
            "WARNING:tensorflow:Learning rate reduction is conditioned on metric `val_loss` which is not available. Available metrics are: loss,accuracy,lr\n"
          ]
        },
        {
          "output_type": "stream",
          "name": "stdout",
          "text": [
            "\b\b\b\b\b\b\b\b\b\b\b\b\b\b\b\b\b\b\b\b\b\b\b\b\b\b\b\b\b\b\b\b\b\b\b\b\b\b\b\b\b\b\b\b\b\b\b\b\b\b\b\b\b\b\b\b\b\b\b\b\b\b\b\b\b\b\b\b\b\b\b\b\b\b\b\b\b\b\b\b\b\b\r75/75 [==============================] - 0s 6ms/step - loss: 0.0019 - accuracy: 0.9992 - lr: 3.0000e-05\n",
            "Epoch 140/200\n",
            "74/75 [============================>.] - ETA: 0s - loss: 0.0016 - accuracy: 0.9992"
          ]
        },
        {
          "output_type": "stream",
          "name": "stderr",
          "text": [
            "WARNING:tensorflow:Early stopping conditioned on metric `val_loss` which is not available. Available metrics are: loss,accuracy\n",
            "WARNING:tensorflow:Learning rate reduction is conditioned on metric `val_loss` which is not available. Available metrics are: loss,accuracy,lr\n"
          ]
        },
        {
          "output_type": "stream",
          "name": "stdout",
          "text": [
            "\b\b\b\b\b\b\b\b\b\b\b\b\b\b\b\b\b\b\b\b\b\b\b\b\b\b\b\b\b\b\b\b\b\b\b\b\b\b\b\b\b\b\b\b\b\b\b\b\b\b\b\b\b\b\b\b\b\b\b\b\b\b\b\b\b\b\b\b\b\b\b\b\b\b\b\b\b\b\b\b\b\b\r75/75 [==============================] - 0s 6ms/step - loss: 0.0015 - accuracy: 0.9992 - lr: 3.0000e-05\n",
            "Epoch 141/200\n",
            "72/75 [===========================>..] - ETA: 0s - loss: 0.0012 - accuracy: 0.9996    "
          ]
        },
        {
          "output_type": "stream",
          "name": "stderr",
          "text": [
            "WARNING:tensorflow:Early stopping conditioned on metric `val_loss` which is not available. Available metrics are: loss,accuracy\n",
            "WARNING:tensorflow:Learning rate reduction is conditioned on metric `val_loss` which is not available. Available metrics are: loss,accuracy,lr\n"
          ]
        },
        {
          "output_type": "stream",
          "name": "stdout",
          "text": [
            "\b\b\b\b\b\b\b\b\b\b\b\b\b\b\b\b\b\b\b\b\b\b\b\b\b\b\b\b\b\b\b\b\b\b\b\b\b\b\b\b\b\b\b\b\b\b\b\b\b\b\b\b\b\b\b\b\b\b\b\b\b\b\b\b\b\b\b\b\b\b\b\b\b\b\b\b\b\b\b\b\b\b\r75/75 [==============================] - 0s 6ms/step - loss: 0.0011 - accuracy: 0.9996 - lr: 3.0000e-05\n",
            "Epoch 142/200\n",
            "73/75 [============================>.] - ETA: 0s - loss: 0.0015 - accuracy: 0.9996"
          ]
        },
        {
          "output_type": "stream",
          "name": "stderr",
          "text": [
            "WARNING:tensorflow:Early stopping conditioned on metric `val_loss` which is not available. Available metrics are: loss,accuracy\n",
            "WARNING:tensorflow:Learning rate reduction is conditioned on metric `val_loss` which is not available. Available metrics are: loss,accuracy,lr\n"
          ]
        },
        {
          "output_type": "stream",
          "name": "stdout",
          "text": [
            "\b\b\b\b\b\b\b\b\b\b\b\b\b\b\b\b\b\b\b\b\b\b\b\b\b\b\b\b\b\b\b\b\b\b\b\b\b\b\b\b\b\b\b\b\b\b\b\b\b\b\b\b\b\b\b\b\b\b\b\b\b\b\b\b\b\b\b\b\b\b\b\b\b\b\b\b\b\b\b\b\b\b\r75/75 [==============================] - 0s 6ms/step - loss: 0.0014 - accuracy: 0.9996 - lr: 3.0000e-05\n",
            "Epoch 143/200\n",
            "71/75 [===========================>..] - ETA: 0s - loss: 0.0013 - accuracy: 0.9996    "
          ]
        },
        {
          "output_type": "stream",
          "name": "stderr",
          "text": [
            "WARNING:tensorflow:Early stopping conditioned on metric `val_loss` which is not available. Available metrics are: loss,accuracy\n",
            "WARNING:tensorflow:Learning rate reduction is conditioned on metric `val_loss` which is not available. Available metrics are: loss,accuracy,lr\n"
          ]
        },
        {
          "output_type": "stream",
          "name": "stdout",
          "text": [
            "\b\b\b\b\b\b\b\b\b\b\b\b\b\b\b\b\b\b\b\b\b\b\b\b\b\b\b\b\b\b\b\b\b\b\b\b\b\b\b\b\b\b\b\b\b\b\b\b\b\b\b\b\b\b\b\b\b\b\b\b\b\b\b\b\b\b\b\b\b\b\b\b\b\b\b\b\b\b\b\b\b\b\r75/75 [==============================] - 0s 6ms/step - loss: 0.0012 - accuracy: 0.9996 - lr: 3.0000e-05\n",
            "Epoch 144/200\n",
            "73/75 [============================>.] - ETA: 0s - loss: 0.0013 - accuracy: 0.9991"
          ]
        },
        {
          "output_type": "stream",
          "name": "stderr",
          "text": [
            "WARNING:tensorflow:Early stopping conditioned on metric `val_loss` which is not available. Available metrics are: loss,accuracy\n",
            "WARNING:tensorflow:Learning rate reduction is conditioned on metric `val_loss` which is not available. Available metrics are: loss,accuracy,lr\n"
          ]
        },
        {
          "output_type": "stream",
          "name": "stdout",
          "text": [
            "\b\b\b\b\b\b\b\b\b\b\b\b\b\b\b\b\b\b\b\b\b\b\b\b\b\b\b\b\b\b\b\b\b\b\b\b\b\b\b\b\b\b\b\b\b\b\b\b\b\b\b\b\b\b\b\b\b\b\b\b\b\b\b\b\b\b\b\b\b\b\b\b\b\b\b\b\b\b\b\b\b\b\r75/75 [==============================] - 0s 6ms/step - loss: 0.0013 - accuracy: 0.9992 - lr: 3.0000e-05\n",
            "Epoch 145/200\n",
            "67/75 [=========================>....] - ETA: 0s - loss: 8.6826e-04 - accuracy: 1.0000"
          ]
        },
        {
          "output_type": "stream",
          "name": "stderr",
          "text": [
            "WARNING:tensorflow:Early stopping conditioned on metric `val_loss` which is not available. Available metrics are: loss,accuracy\n",
            "WARNING:tensorflow:Learning rate reduction is conditioned on metric `val_loss` which is not available. Available metrics are: loss,accuracy,lr\n"
          ]
        },
        {
          "output_type": "stream",
          "name": "stdout",
          "text": [
            "\b\b\b\b\b\b\b\b\b\b\b\b\b\b\b\b\b\b\b\b\b\b\b\b\b\b\b\b\b\b\b\b\b\b\b\b\b\b\b\b\b\b\b\b\b\b\b\b\b\b\b\b\b\b\b\b\b\b\b\b\b\b\b\b\b\b\b\b\b\b\b\b\b\b\b\b\b\b\b\b\b\b\b\b\b\b\r75/75 [==============================] - 0s 6ms/step - loss: 0.0011 - accuracy: 1.0000 - lr: 3.0000e-05\n",
            "Epoch 146/200\n",
            "72/75 [===========================>..] - ETA: 0s - loss: 0.0017 - accuracy: 0.9996"
          ]
        },
        {
          "output_type": "stream",
          "name": "stderr",
          "text": [
            "WARNING:tensorflow:Early stopping conditioned on metric `val_loss` which is not available. Available metrics are: loss,accuracy\n",
            "WARNING:tensorflow:Learning rate reduction is conditioned on metric `val_loss` which is not available. Available metrics are: loss,accuracy,lr\n"
          ]
        },
        {
          "output_type": "stream",
          "name": "stdout",
          "text": [
            "\b\b\b\b\b\b\b\b\b\b\b\b\b\b\b\b\b\b\b\b\b\b\b\b\b\b\b\b\b\b\b\b\b\b\b\b\b\b\b\b\b\b\b\b\b\b\b\b\b\b\b\b\b\b\b\b\b\b\b\b\b\b\b\b\b\b\b\b\b\b\b\b\b\b\b\b\b\b\b\b\b\b\r75/75 [==============================] - 0s 6ms/step - loss: 0.0016 - accuracy: 0.9996 - lr: 3.0000e-05\n",
            "Epoch 147/200\n",
            "66/75 [=========================>....] - ETA: 0s - loss: 0.0010 - accuracy: 1.0000"
          ]
        },
        {
          "output_type": "stream",
          "name": "stderr",
          "text": [
            "WARNING:tensorflow:Early stopping conditioned on metric `val_loss` which is not available. Available metrics are: loss,accuracy\n",
            "WARNING:tensorflow:Learning rate reduction is conditioned on metric `val_loss` which is not available. Available metrics are: loss,accuracy,lr\n"
          ]
        },
        {
          "output_type": "stream",
          "name": "stdout",
          "text": [
            "\b\b\b\b\b\b\b\b\b\b\b\b\b\b\b\b\b\b\b\b\b\b\b\b\b\b\b\b\b\b\b\b\b\b\b\b\b\b\b\b\b\b\b\b\b\b\b\b\b\b\b\b\b\b\b\b\b\b\b\b\b\b\b\b\b\b\b\b\b\b\b\b\b\b\b\b\b\b\b\b\b\b\r75/75 [==============================] - 0s 6ms/step - loss: 9.2169e-04 - accuracy: 1.0000 - lr: 3.0000e-05\n",
            "Epoch 148/200\n",
            "73/75 [============================>.] - ETA: 0s - loss: 0.0017 - accuracy: 0.9996"
          ]
        },
        {
          "output_type": "stream",
          "name": "stderr",
          "text": [
            "WARNING:tensorflow:Early stopping conditioned on metric `val_loss` which is not available. Available metrics are: loss,accuracy\n",
            "WARNING:tensorflow:Learning rate reduction is conditioned on metric `val_loss` which is not available. Available metrics are: loss,accuracy,lr\n"
          ]
        },
        {
          "output_type": "stream",
          "name": "stdout",
          "text": [
            "\b\b\b\b\b\b\b\b\b\b\b\b\b\b\b\b\b\b\b\b\b\b\b\b\b\b\b\b\b\b\b\b\b\b\b\b\b\b\b\b\b\b\b\b\b\b\b\b\b\b\b\b\b\b\b\b\b\b\b\b\b\b\b\b\b\b\b\b\b\b\b\b\b\b\b\b\b\b\b\b\b\b\r75/75 [==============================] - 0s 6ms/step - loss: 0.0017 - accuracy: 0.9996 - lr: 3.0000e-05\n",
            "Epoch 149/200\n",
            "75/75 [==============================] - ETA: 0s - loss: 0.0029 - accuracy: 0.9992"
          ]
        },
        {
          "output_type": "stream",
          "name": "stderr",
          "text": [
            "WARNING:tensorflow:Early stopping conditioned on metric `val_loss` which is not available. Available metrics are: loss,accuracy\n",
            "WARNING:tensorflow:Learning rate reduction is conditioned on metric `val_loss` which is not available. Available metrics are: loss,accuracy,lr\n"
          ]
        },
        {
          "output_type": "stream",
          "name": "stdout",
          "text": [
            "\b\b\b\b\b\b\b\b\b\b\b\b\b\b\b\b\b\b\b\b\b\b\b\b\b\b\b\b\b\b\b\b\b\b\b\b\b\b\b\b\b\b\b\b\b\b\b\b\b\b\b\b\b\b\b\b\b\b\b\b\b\b\b\b\b\b\b\b\b\b\b\b\b\b\b\b\b\b\b\b\b\b\r75/75 [==============================] - 0s 6ms/step - loss: 0.0029 - accuracy: 0.9992 - lr: 3.0000e-05\n",
            "Epoch 150/200\n",
            "72/75 [===========================>..] - ETA: 0s - loss: 0.0015 - accuracy: 0.9996"
          ]
        },
        {
          "output_type": "stream",
          "name": "stderr",
          "text": [
            "WARNING:tensorflow:Early stopping conditioned on metric `val_loss` which is not available. Available metrics are: loss,accuracy\n",
            "WARNING:tensorflow:Learning rate reduction is conditioned on metric `val_loss` which is not available. Available metrics are: loss,accuracy,lr\n"
          ]
        },
        {
          "output_type": "stream",
          "name": "stdout",
          "text": [
            "\b\b\b\b\b\b\b\b\b\b\b\b\b\b\b\b\b\b\b\b\b\b\b\b\b\b\b\b\b\b\b\b\b\b\b\b\b\b\b\b\b\b\b\b\b\b\b\b\b\b\b\b\b\b\b\b\b\b\b\b\b\b\b\b\b\b\b\b\b\b\b\b\b\b\b\b\b\b\b\b\b\b\r75/75 [==============================] - 0s 6ms/step - loss: 0.0014 - accuracy: 0.9996 - lr: 3.0000e-05\n",
            "Epoch 151/200\n",
            "70/75 [===========================>..] - ETA: 0s - loss: 8.1580e-04 - accuracy: 0.9996"
          ]
        },
        {
          "output_type": "stream",
          "name": "stderr",
          "text": [
            "WARNING:tensorflow:Early stopping conditioned on metric `val_loss` which is not available. Available metrics are: loss,accuracy\n",
            "WARNING:tensorflow:Learning rate reduction is conditioned on metric `val_loss` which is not available. Available metrics are: loss,accuracy,lr\n"
          ]
        },
        {
          "output_type": "stream",
          "name": "stdout",
          "text": [
            "\b\b\b\b\b\b\b\b\b\b\b\b\b\b\b\b\b\b\b\b\b\b\b\b\b\b\b\b\b\b\b\b\b\b\b\b\b\b\b\b\b\b\b\b\b\b\b\b\b\b\b\b\b\b\b\b\b\b\b\b\b\b\b\b\b\b\b\b\b\b\b\b\b\b\b\b\b\b\b\b\b\b\b\b\b\b\r75/75 [==============================] - 0s 6ms/step - loss: 8.6388e-04 - accuracy: 0.9996 - lr: 3.0000e-05\n",
            "Epoch 152/200\n",
            "72/75 [===========================>..] - ETA: 0s - loss: 0.0013 - accuracy: 0.9996    "
          ]
        },
        {
          "output_type": "stream",
          "name": "stderr",
          "text": [
            "WARNING:tensorflow:Early stopping conditioned on metric `val_loss` which is not available. Available metrics are: loss,accuracy\n",
            "WARNING:tensorflow:Learning rate reduction is conditioned on metric `val_loss` which is not available. Available metrics are: loss,accuracy,lr\n"
          ]
        },
        {
          "output_type": "stream",
          "name": "stdout",
          "text": [
            "\b\b\b\b\b\b\b\b\b\b\b\b\b\b\b\b\b\b\b\b\b\b\b\b\b\b\b\b\b\b\b\b\b\b\b\b\b\b\b\b\b\b\b\b\b\b\b\b\b\b\b\b\b\b\b\b\b\b\b\b\b\b\b\b\b\b\b\b\b\b\b\b\b\b\b\b\b\b\b\b\b\b\r75/75 [==============================] - 0s 6ms/step - loss: 0.0012 - accuracy: 0.9996 - lr: 3.0000e-05\n",
            "Epoch 153/200\n",
            "71/75 [===========================>..] - ETA: 0s - loss: 0.0018 - accuracy: 0.9996    "
          ]
        },
        {
          "output_type": "stream",
          "name": "stderr",
          "text": [
            "WARNING:tensorflow:Early stopping conditioned on metric `val_loss` which is not available. Available metrics are: loss,accuracy\n",
            "WARNING:tensorflow:Learning rate reduction is conditioned on metric `val_loss` which is not available. Available metrics are: loss,accuracy,lr\n"
          ]
        },
        {
          "output_type": "stream",
          "name": "stdout",
          "text": [
            "\b\b\b\b\b\b\b\b\b\b\b\b\b\b\b\b\b\b\b\b\b\b\b\b\b\b\b\b\b\b\b\b\b\b\b\b\b\b\b\b\b\b\b\b\b\b\b\b\b\b\b\b\b\b\b\b\b\b\b\b\b\b\b\b\b\b\b\b\b\b\b\b\b\b\b\b\b\b\b\b\b\b\r75/75 [==============================] - 0s 6ms/step - loss: 0.0017 - accuracy: 0.9996 - lr: 3.0000e-05\n",
            "Epoch 154/200\n",
            "74/75 [============================>.] - ETA: 0s - loss: 0.0013 - accuracy: 0.9996"
          ]
        },
        {
          "output_type": "stream",
          "name": "stderr",
          "text": [
            "WARNING:tensorflow:Early stopping conditioned on metric `val_loss` which is not available. Available metrics are: loss,accuracy\n",
            "WARNING:tensorflow:Learning rate reduction is conditioned on metric `val_loss` which is not available. Available metrics are: loss,accuracy,lr\n"
          ]
        },
        {
          "output_type": "stream",
          "name": "stdout",
          "text": [
            "\b\b\b\b\b\b\b\b\b\b\b\b\b\b\b\b\b\b\b\b\b\b\b\b\b\b\b\b\b\b\b\b\b\b\b\b\b\b\b\b\b\b\b\b\b\b\b\b\b\b\b\b\b\b\b\b\b\b\b\b\b\b\b\b\b\b\b\b\b\b\b\b\b\b\b\b\b\b\b\b\b\b\r75/75 [==============================] - 0s 6ms/step - loss: 0.0013 - accuracy: 0.9996 - lr: 3.0000e-05\n",
            "Epoch 155/200\n",
            "71/75 [===========================>..] - ETA: 0s - loss: 0.0014 - accuracy: 0.9996"
          ]
        },
        {
          "output_type": "stream",
          "name": "stderr",
          "text": [
            "WARNING:tensorflow:Early stopping conditioned on metric `val_loss` which is not available. Available metrics are: loss,accuracy\n",
            "WARNING:tensorflow:Learning rate reduction is conditioned on metric `val_loss` which is not available. Available metrics are: loss,accuracy,lr\n"
          ]
        },
        {
          "output_type": "stream",
          "name": "stdout",
          "text": [
            "\b\b\b\b\b\b\b\b\b\b\b\b\b\b\b\b\b\b\b\b\b\b\b\b\b\b\b\b\b\b\b\b\b\b\b\b\b\b\b\b\b\b\b\b\b\b\b\b\b\b\b\b\b\b\b\b\b\b\b\b\b\b\b\b\b\b\b\b\b\b\b\b\b\b\b\b\b\b\b\b\b\b\r75/75 [==============================] - 0s 6ms/step - loss: 0.0013 - accuracy: 0.9996 - lr: 3.0000e-05\n",
            "Epoch 156/200\n",
            "75/75 [==============================] - ETA: 0s - loss: 0.0024 - accuracy: 0.9992"
          ]
        },
        {
          "output_type": "stream",
          "name": "stderr",
          "text": [
            "WARNING:tensorflow:Early stopping conditioned on metric `val_loss` which is not available. Available metrics are: loss,accuracy\n",
            "WARNING:tensorflow:Learning rate reduction is conditioned on metric `val_loss` which is not available. Available metrics are: loss,accuracy,lr\n"
          ]
        },
        {
          "output_type": "stream",
          "name": "stdout",
          "text": [
            "\b\b\b\b\b\b\b\b\b\b\b\b\b\b\b\b\b\b\b\b\b\b\b\b\b\b\b\b\b\b\b\b\b\b\b\b\b\b\b\b\b\b\b\b\b\b\b\b\b\b\b\b\b\b\b\b\b\b\b\b\b\b\b\b\b\b\b\b\b\b\b\b\b\b\b\b\b\b\b\b\b\b\r75/75 [==============================] - 0s 6ms/step - loss: 0.0024 - accuracy: 0.9992 - lr: 3.0000e-05\n",
            "Epoch 157/200\n",
            "72/75 [===========================>..] - ETA: 0s - loss: 0.0013 - accuracy: 0.9991"
          ]
        },
        {
          "output_type": "stream",
          "name": "stderr",
          "text": [
            "WARNING:tensorflow:Early stopping conditioned on metric `val_loss` which is not available. Available metrics are: loss,accuracy\n",
            "WARNING:tensorflow:Learning rate reduction is conditioned on metric `val_loss` which is not available. Available metrics are: loss,accuracy,lr\n"
          ]
        },
        {
          "output_type": "stream",
          "name": "stdout",
          "text": [
            "\b\b\b\b\b\b\b\b\b\b\b\b\b\b\b\b\b\b\b\b\b\b\b\b\b\b\b\b\b\b\b\b\b\b\b\b\b\b\b\b\b\b\b\b\b\b\b\b\b\b\b\b\b\b\b\b\b\b\b\b\b\b\b\b\b\b\b\b\b\b\b\b\b\b\b\b\b\b\b\b\b\b\r75/75 [==============================] - 0s 6ms/step - loss: 0.0013 - accuracy: 0.9992 - lr: 3.0000e-05\n",
            "Epoch 158/200\n",
            "74/75 [============================>.] - ETA: 0s - loss: 0.0016 - accuracy: 0.9996    "
          ]
        },
        {
          "output_type": "stream",
          "name": "stderr",
          "text": [
            "WARNING:tensorflow:Early stopping conditioned on metric `val_loss` which is not available. Available metrics are: loss,accuracy\n",
            "WARNING:tensorflow:Learning rate reduction is conditioned on metric `val_loss` which is not available. Available metrics are: loss,accuracy,lr\n"
          ]
        },
        {
          "output_type": "stream",
          "name": "stdout",
          "text": [
            "\b\b\b\b\b\b\b\b\b\b\b\b\b\b\b\b\b\b\b\b\b\b\b\b\b\b\b\b\b\b\b\b\b\b\b\b\b\b\b\b\b\b\b\b\b\b\b\b\b\b\b\b\b\b\b\b\b\b\b\b\b\b\b\b\b\b\b\b\b\b\b\b\b\b\b\b\b\b\b\b\b\b\r75/75 [==============================] - 0s 6ms/step - loss: 0.0016 - accuracy: 0.9996 - lr: 3.0000e-05\n",
            "Epoch 159/200\n",
            "67/75 [=========================>....] - ETA: 0s - loss: 0.0011 - accuracy: 0.9995"
          ]
        },
        {
          "output_type": "stream",
          "name": "stderr",
          "text": [
            "WARNING:tensorflow:Early stopping conditioned on metric `val_loss` which is not available. Available metrics are: loss,accuracy\n",
            "WARNING:tensorflow:Learning rate reduction is conditioned on metric `val_loss` which is not available. Available metrics are: loss,accuracy,lr\n"
          ]
        },
        {
          "output_type": "stream",
          "name": "stdout",
          "text": [
            "\b\b\b\b\b\b\b\b\b\b\b\b\b\b\b\b\b\b\b\b\b\b\b\b\b\b\b\b\b\b\b\b\b\b\b\b\b\b\b\b\b\b\b\b\b\b\b\b\b\b\b\b\b\b\b\b\b\b\b\b\b\b\b\b\b\b\b\b\b\b\b\b\b\b\b\b\b\b\b\b\b\b\r75/75 [==============================] - 0s 6ms/step - loss: 0.0011 - accuracy: 0.9996 - lr: 3.0000e-05\n",
            "Epoch 160/200\n",
            "73/75 [============================>.] - ETA: 0s - loss: 7.5945e-04 - accuracy: 0.9996"
          ]
        },
        {
          "output_type": "stream",
          "name": "stderr",
          "text": [
            "WARNING:tensorflow:Early stopping conditioned on metric `val_loss` which is not available. Available metrics are: loss,accuracy\n",
            "WARNING:tensorflow:Learning rate reduction is conditioned on metric `val_loss` which is not available. Available metrics are: loss,accuracy,lr\n"
          ]
        },
        {
          "output_type": "stream",
          "name": "stdout",
          "text": [
            "\b\b\b\b\b\b\b\b\b\b\b\b\b\b\b\b\b\b\b\b\b\b\b\b\b\b\b\b\b\b\b\b\b\b\b\b\b\b\b\b\b\b\b\b\b\b\b\b\b\b\b\b\b\b\b\b\b\b\b\b\b\b\b\b\b\b\b\b\b\b\b\b\b\b\b\b\b\b\b\b\b\b\b\b\b\b\r75/75 [==============================] - 0s 6ms/step - loss: 0.0014 - accuracy: 0.9992 - lr: 3.0000e-05\n",
            "Epoch 161/200\n",
            "74/75 [============================>.] - ETA: 0s - loss: 0.0013 - accuracy: 0.9996"
          ]
        },
        {
          "output_type": "stream",
          "name": "stderr",
          "text": [
            "WARNING:tensorflow:Early stopping conditioned on metric `val_loss` which is not available. Available metrics are: loss,accuracy\n",
            "WARNING:tensorflow:Learning rate reduction is conditioned on metric `val_loss` which is not available. Available metrics are: loss,accuracy,lr\n"
          ]
        },
        {
          "output_type": "stream",
          "name": "stdout",
          "text": [
            "\b\b\b\b\b\b\b\b\b\b\b\b\b\b\b\b\b\b\b\b\b\b\b\b\b\b\b\b\b\b\b\b\b\b\b\b\b\b\b\b\b\b\b\b\b\b\b\b\b\b\b\b\b\b\b\b\b\b\b\b\b\b\b\b\b\b\b\b\b\b\b\b\b\b\b\b\b\b\b\b\b\b\r75/75 [==============================] - 0s 6ms/step - loss: 0.0012 - accuracy: 0.9996 - lr: 3.0000e-05\n",
            "Epoch 162/200\n",
            "69/75 [==========================>...] - ETA: 0s - loss: 0.0021 - accuracy: 0.9991"
          ]
        },
        {
          "output_type": "stream",
          "name": "stderr",
          "text": [
            "WARNING:tensorflow:Early stopping conditioned on metric `val_loss` which is not available. Available metrics are: loss,accuracy\n",
            "WARNING:tensorflow:Learning rate reduction is conditioned on metric `val_loss` which is not available. Available metrics are: loss,accuracy,lr\n"
          ]
        },
        {
          "output_type": "stream",
          "name": "stdout",
          "text": [
            "\b\b\b\b\b\b\b\b\b\b\b\b\b\b\b\b\b\b\b\b\b\b\b\b\b\b\b\b\b\b\b\b\b\b\b\b\b\b\b\b\b\b\b\b\b\b\b\b\b\b\b\b\b\b\b\b\b\b\b\b\b\b\b\b\b\b\b\b\b\b\b\b\b\b\b\b\b\b\b\b\b\b\r75/75 [==============================] - 0s 6ms/step - loss: 0.0020 - accuracy: 0.9992 - lr: 3.0000e-05\n",
            "Epoch 163/200\n",
            "72/75 [===========================>..] - ETA: 0s - loss: 0.0014 - accuracy: 0.9996"
          ]
        },
        {
          "output_type": "stream",
          "name": "stderr",
          "text": [
            "WARNING:tensorflow:Early stopping conditioned on metric `val_loss` which is not available. Available metrics are: loss,accuracy\n",
            "WARNING:tensorflow:Learning rate reduction is conditioned on metric `val_loss` which is not available. Available metrics are: loss,accuracy,lr\n"
          ]
        },
        {
          "output_type": "stream",
          "name": "stdout",
          "text": [
            "\b\b\b\b\b\b\b\b\b\b\b\b\b\b\b\b\b\b\b\b\b\b\b\b\b\b\b\b\b\b\b\b\b\b\b\b\b\b\b\b\b\b\b\b\b\b\b\b\b\b\b\b\b\b\b\b\b\b\b\b\b\b\b\b\b\b\b\b\b\b\b\b\b\b\b\b\b\b\b\b\b\b\r75/75 [==============================] - 0s 6ms/step - loss: 0.0015 - accuracy: 0.9996 - lr: 3.0000e-05\n",
            "Epoch 164/200\n",
            "73/75 [============================>.] - ETA: 0s - loss: 0.0011 - accuracy: 0.9996"
          ]
        },
        {
          "output_type": "stream",
          "name": "stderr",
          "text": [
            "WARNING:tensorflow:Early stopping conditioned on metric `val_loss` which is not available. Available metrics are: loss,accuracy\n",
            "WARNING:tensorflow:Learning rate reduction is conditioned on metric `val_loss` which is not available. Available metrics are: loss,accuracy,lr\n"
          ]
        },
        {
          "output_type": "stream",
          "name": "stdout",
          "text": [
            "\b\b\b\b\b\b\b\b\b\b\b\b\b\b\b\b\b\b\b\b\b\b\b\b\b\b\b\b\b\b\b\b\b\b\b\b\b\b\b\b\b\b\b\b\b\b\b\b\b\b\b\b\b\b\b\b\b\b\b\b\b\b\b\b\b\b\b\b\b\b\b\b\b\b\b\b\b\b\b\b\b\b\r75/75 [==============================] - 0s 6ms/step - loss: 0.0010 - accuracy: 0.9996 - lr: 3.0000e-05\n",
            "Epoch 165/200\n",
            "73/75 [============================>.] - ETA: 0s - loss: 0.0014 - accuracy: 0.9996"
          ]
        },
        {
          "output_type": "stream",
          "name": "stderr",
          "text": [
            "WARNING:tensorflow:Early stopping conditioned on metric `val_loss` which is not available. Available metrics are: loss,accuracy\n",
            "WARNING:tensorflow:Learning rate reduction is conditioned on metric `val_loss` which is not available. Available metrics are: loss,accuracy,lr\n"
          ]
        },
        {
          "output_type": "stream",
          "name": "stdout",
          "text": [
            "\b\b\b\b\b\b\b\b\b\b\b\b\b\b\b\b\b\b\b\b\b\b\b\b\b\b\b\b\b\b\b\b\b\b\b\b\b\b\b\b\b\b\b\b\b\b\b\b\b\b\b\b\b\b\b\b\b\b\b\b\b\b\b\b\b\b\b\b\b\b\b\b\b\b\b\b\b\b\b\b\b\b\r75/75 [==============================] - 0s 6ms/step - loss: 0.0014 - accuracy: 0.9996 - lr: 3.0000e-05\n",
            "Epoch 166/200\n",
            "73/75 [============================>.] - ETA: 0s - loss: 0.0019 - accuracy: 0.9991"
          ]
        },
        {
          "output_type": "stream",
          "name": "stderr",
          "text": [
            "WARNING:tensorflow:Early stopping conditioned on metric `val_loss` which is not available. Available metrics are: loss,accuracy\n",
            "WARNING:tensorflow:Learning rate reduction is conditioned on metric `val_loss` which is not available. Available metrics are: loss,accuracy,lr\n"
          ]
        },
        {
          "output_type": "stream",
          "name": "stdout",
          "text": [
            "\b\b\b\b\b\b\b\b\b\b\b\b\b\b\b\b\b\b\b\b\b\b\b\b\b\b\b\b\b\b\b\b\b\b\b\b\b\b\b\b\b\b\b\b\b\b\b\b\b\b\b\b\b\b\b\b\b\b\b\b\b\b\b\b\b\b\b\b\b\b\b\b\b\b\b\b\b\b\b\b\b\b\r75/75 [==============================] - 0s 6ms/step - loss: 0.0018 - accuracy: 0.9992 - lr: 3.0000e-05\n",
            "Epoch 167/200\n",
            "71/75 [===========================>..] - ETA: 0s - loss: 0.0010 - accuracy: 0.9996"
          ]
        },
        {
          "output_type": "stream",
          "name": "stderr",
          "text": [
            "WARNING:tensorflow:Early stopping conditioned on metric `val_loss` which is not available. Available metrics are: loss,accuracy\n",
            "WARNING:tensorflow:Learning rate reduction is conditioned on metric `val_loss` which is not available. Available metrics are: loss,accuracy,lr\n"
          ]
        },
        {
          "output_type": "stream",
          "name": "stdout",
          "text": [
            "\b\b\b\b\b\b\b\b\b\b\b\b\b\b\b\b\b\b\b\b\b\b\b\b\b\b\b\b\b\b\b\b\b\b\b\b\b\b\b\b\b\b\b\b\b\b\b\b\b\b\b\b\b\b\b\b\b\b\b\b\b\b\b\b\b\b\b\b\b\b\b\b\b\b\b\b\b\b\b\b\b\b\r75/75 [==============================] - 0s 6ms/step - loss: 9.9988e-04 - accuracy: 0.9996 - lr: 3.0000e-05\n",
            "Epoch 168/200\n",
            "73/75 [============================>.] - ETA: 0s - loss: 9.3230e-04 - accuracy: 0.9996"
          ]
        },
        {
          "output_type": "stream",
          "name": "stderr",
          "text": [
            "WARNING:tensorflow:Early stopping conditioned on metric `val_loss` which is not available. Available metrics are: loss,accuracy\n",
            "WARNING:tensorflow:Learning rate reduction is conditioned on metric `val_loss` which is not available. Available metrics are: loss,accuracy,lr\n"
          ]
        },
        {
          "output_type": "stream",
          "name": "stdout",
          "text": [
            "\b\b\b\b\b\b\b\b\b\b\b\b\b\b\b\b\b\b\b\b\b\b\b\b\b\b\b\b\b\b\b\b\b\b\b\b\b\b\b\b\b\b\b\b\b\b\b\b\b\b\b\b\b\b\b\b\b\b\b\b\b\b\b\b\b\b\b\b\b\b\b\b\b\b\b\b\b\b\b\b\b\b\b\b\b\b\r75/75 [==============================] - 0s 6ms/step - loss: 9.2086e-04 - accuracy: 0.9996 - lr: 3.0000e-05\n",
            "Epoch 169/200\n",
            "72/75 [===========================>..] - ETA: 0s - loss: 0.0015 - accuracy: 0.9996"
          ]
        },
        {
          "output_type": "stream",
          "name": "stderr",
          "text": [
            "WARNING:tensorflow:Early stopping conditioned on metric `val_loss` which is not available. Available metrics are: loss,accuracy\n",
            "WARNING:tensorflow:Learning rate reduction is conditioned on metric `val_loss` which is not available. Available metrics are: loss,accuracy,lr\n"
          ]
        },
        {
          "output_type": "stream",
          "name": "stdout",
          "text": [
            "\b\b\b\b\b\b\b\b\b\b\b\b\b\b\b\b\b\b\b\b\b\b\b\b\b\b\b\b\b\b\b\b\b\b\b\b\b\b\b\b\b\b\b\b\b\b\b\b\b\b\b\b\b\b\b\b\b\b\b\b\b\b\b\b\b\b\b\b\b\b\b\b\b\b\b\b\b\b\b\b\b\b\r75/75 [==============================] - 0s 6ms/step - loss: 0.0015 - accuracy: 0.9996 - lr: 3.0000e-05\n",
            "Epoch 170/200\n",
            "75/75 [==============================] - ETA: 0s - loss: 0.0017 - accuracy: 0.9992"
          ]
        },
        {
          "output_type": "stream",
          "name": "stderr",
          "text": [
            "WARNING:tensorflow:Early stopping conditioned on metric `val_loss` which is not available. Available metrics are: loss,accuracy\n",
            "WARNING:tensorflow:Learning rate reduction is conditioned on metric `val_loss` which is not available. Available metrics are: loss,accuracy,lr\n"
          ]
        },
        {
          "output_type": "stream",
          "name": "stdout",
          "text": [
            "\b\b\b\b\b\b\b\b\b\b\b\b\b\b\b\b\b\b\b\b\b\b\b\b\b\b\b\b\b\b\b\b\b\b\b\b\b\b\b\b\b\b\b\b\b\b\b\b\b\b\b\b\b\b\b\b\b\b\b\b\b\b\b\b\b\b\b\b\b\b\b\b\b\b\b\b\b\b\b\b\b\b\r75/75 [==============================] - 0s 6ms/step - loss: 0.0017 - accuracy: 0.9992 - lr: 3.0000e-05\n",
            "Epoch 171/200\n",
            "74/75 [============================>.] - ETA: 0s - loss: 8.0004e-04 - accuracy: 0.9996"
          ]
        },
        {
          "output_type": "stream",
          "name": "stderr",
          "text": [
            "WARNING:tensorflow:Early stopping conditioned on metric `val_loss` which is not available. Available metrics are: loss,accuracy\n",
            "WARNING:tensorflow:Learning rate reduction is conditioned on metric `val_loss` which is not available. Available metrics are: loss,accuracy,lr\n"
          ]
        },
        {
          "output_type": "stream",
          "name": "stdout",
          "text": [
            "\b\b\b\b\b\b\b\b\b\b\b\b\b\b\b\b\b\b\b\b\b\b\b\b\b\b\b\b\b\b\b\b\b\b\b\b\b\b\b\b\b\b\b\b\b\b\b\b\b\b\b\b\b\b\b\b\b\b\b\b\b\b\b\b\b\b\b\b\b\b\b\b\b\b\b\b\b\b\b\b\b\b\b\b\b\b\r75/75 [==============================] - 0s 6ms/step - loss: 7.9839e-04 - accuracy: 0.9996 - lr: 3.0000e-05\n",
            "Epoch 172/200\n",
            "74/75 [============================>.] - ETA: 0s - loss: 0.0014 - accuracy: 0.9992"
          ]
        },
        {
          "output_type": "stream",
          "name": "stderr",
          "text": [
            "WARNING:tensorflow:Early stopping conditioned on metric `val_loss` which is not available. Available metrics are: loss,accuracy\n",
            "WARNING:tensorflow:Learning rate reduction is conditioned on metric `val_loss` which is not available. Available metrics are: loss,accuracy,lr\n"
          ]
        },
        {
          "output_type": "stream",
          "name": "stdout",
          "text": [
            "\b\b\b\b\b\b\b\b\b\b\b\b\b\b\b\b\b\b\b\b\b\b\b\b\b\b\b\b\b\b\b\b\b\b\b\b\b\b\b\b\b\b\b\b\b\b\b\b\b\b\b\b\b\b\b\b\b\b\b\b\b\b\b\b\b\b\b\b\b\b\b\b\b\b\b\b\b\b\b\b\b\b\r75/75 [==============================] - 0s 6ms/step - loss: 0.0014 - accuracy: 0.9992 - lr: 3.0000e-05\n",
            "Epoch 173/200\n",
            "72/75 [===========================>..] - ETA: 0s - loss: 0.0017 - accuracy: 0.9991"
          ]
        },
        {
          "output_type": "stream",
          "name": "stderr",
          "text": [
            "WARNING:tensorflow:Early stopping conditioned on metric `val_loss` which is not available. Available metrics are: loss,accuracy\n",
            "WARNING:tensorflow:Learning rate reduction is conditioned on metric `val_loss` which is not available. Available metrics are: loss,accuracy,lr\n"
          ]
        },
        {
          "output_type": "stream",
          "name": "stdout",
          "text": [
            "\b\b\b\b\b\b\b\b\b\b\b\b\b\b\b\b\b\b\b\b\b\b\b\b\b\b\b\b\b\b\b\b\b\b\b\b\b\b\b\b\b\b\b\b\b\b\b\b\b\b\b\b\b\b\b\b\b\b\b\b\b\b\b\b\b\b\b\b\b\b\b\b\b\b\b\b\b\b\b\b\b\b\r75/75 [==============================] - 0s 6ms/step - loss: 0.0016 - accuracy: 0.9992 - lr: 3.0000e-05\n",
            "Epoch 174/200\n",
            "72/75 [===========================>..] - ETA: 0s - loss: 0.0012 - accuracy: 0.9996"
          ]
        },
        {
          "output_type": "stream",
          "name": "stderr",
          "text": [
            "WARNING:tensorflow:Early stopping conditioned on metric `val_loss` which is not available. Available metrics are: loss,accuracy\n",
            "WARNING:tensorflow:Learning rate reduction is conditioned on metric `val_loss` which is not available. Available metrics are: loss,accuracy,lr\n"
          ]
        },
        {
          "output_type": "stream",
          "name": "stdout",
          "text": [
            "\b\b\b\b\b\b\b\b\b\b\b\b\b\b\b\b\b\b\b\b\b\b\b\b\b\b\b\b\b\b\b\b\b\b\b\b\b\b\b\b\b\b\b\b\b\b\b\b\b\b\b\b\b\b\b\b\b\b\b\b\b\b\b\b\b\b\b\b\b\b\b\b\b\b\b\b\b\b\b\b\b\b\r75/75 [==============================] - 0s 6ms/step - loss: 0.0012 - accuracy: 0.9996 - lr: 3.0000e-05\n",
            "Epoch 175/200\n",
            "72/75 [===========================>..] - ETA: 0s - loss: 5.0476e-04 - accuracy: 1.0000"
          ]
        },
        {
          "output_type": "stream",
          "name": "stderr",
          "text": [
            "WARNING:tensorflow:Early stopping conditioned on metric `val_loss` which is not available. Available metrics are: loss,accuracy\n",
            "WARNING:tensorflow:Learning rate reduction is conditioned on metric `val_loss` which is not available. Available metrics are: loss,accuracy,lr\n"
          ]
        },
        {
          "output_type": "stream",
          "name": "stdout",
          "text": [
            "\b\b\b\b\b\b\b\b\b\b\b\b\b\b\b\b\b\b\b\b\b\b\b\b\b\b\b\b\b\b\b\b\b\b\b\b\b\b\b\b\b\b\b\b\b\b\b\b\b\b\b\b\b\b\b\b\b\b\b\b\b\b\b\b\b\b\b\b\b\b\b\b\b\b\b\b\b\b\b\b\b\b\b\b\b\b\r75/75 [==============================] - 0s 6ms/step - loss: 6.4899e-04 - accuracy: 1.0000 - lr: 3.0000e-05\n",
            "Epoch 176/200\n",
            "73/75 [============================>.] - ETA: 0s - loss: 0.0016 - accuracy: 0.9996    "
          ]
        },
        {
          "output_type": "stream",
          "name": "stderr",
          "text": [
            "WARNING:tensorflow:Early stopping conditioned on metric `val_loss` which is not available. Available metrics are: loss,accuracy\n",
            "WARNING:tensorflow:Learning rate reduction is conditioned on metric `val_loss` which is not available. Available metrics are: loss,accuracy,lr\n"
          ]
        },
        {
          "output_type": "stream",
          "name": "stdout",
          "text": [
            "\b\b\b\b\b\b\b\b\b\b\b\b\b\b\b\b\b\b\b\b\b\b\b\b\b\b\b\b\b\b\b\b\b\b\b\b\b\b\b\b\b\b\b\b\b\b\b\b\b\b\b\b\b\b\b\b\b\b\b\b\b\b\b\b\b\b\b\b\b\b\b\b\b\b\b\b\b\b\b\b\b\b\r75/75 [==============================] - 0s 6ms/step - loss: 0.0015 - accuracy: 0.9996 - lr: 3.0000e-05\n",
            "Epoch 177/200\n",
            "74/75 [============================>.] - ETA: 0s - loss: 0.0011 - accuracy: 0.9996"
          ]
        },
        {
          "output_type": "stream",
          "name": "stderr",
          "text": [
            "WARNING:tensorflow:Early stopping conditioned on metric `val_loss` which is not available. Available metrics are: loss,accuracy\n",
            "WARNING:tensorflow:Learning rate reduction is conditioned on metric `val_loss` which is not available. Available metrics are: loss,accuracy,lr\n"
          ]
        },
        {
          "output_type": "stream",
          "name": "stdout",
          "text": [
            "\b\b\b\b\b\b\b\b\b\b\b\b\b\b\b\b\b\b\b\b\b\b\b\b\b\b\b\b\b\b\b\b\b\b\b\b\b\b\b\b\b\b\b\b\b\b\b\b\b\b\b\b\b\b\b\b\b\b\b\b\b\b\b\b\b\b\b\b\b\b\b\b\b\b\b\b\b\b\b\b\b\b\r75/75 [==============================] - 0s 6ms/step - loss: 0.0011 - accuracy: 0.9996 - lr: 3.0000e-05\n",
            "Epoch 178/200\n",
            "71/75 [===========================>..] - ETA: 0s - loss: 0.0011 - accuracy: 0.9996"
          ]
        },
        {
          "output_type": "stream",
          "name": "stderr",
          "text": [
            "WARNING:tensorflow:Early stopping conditioned on metric `val_loss` which is not available. Available metrics are: loss,accuracy\n",
            "WARNING:tensorflow:Learning rate reduction is conditioned on metric `val_loss` which is not available. Available metrics are: loss,accuracy,lr\n"
          ]
        },
        {
          "output_type": "stream",
          "name": "stdout",
          "text": [
            "\b\b\b\b\b\b\b\b\b\b\b\b\b\b\b\b\b\b\b\b\b\b\b\b\b\b\b\b\b\b\b\b\b\b\b\b\b\b\b\b\b\b\b\b\b\b\b\b\b\b\b\b\b\b\b\b\b\b\b\b\b\b\b\b\b\b\b\b\b\b\b\b\b\b\b\b\b\b\b\b\b\b\r75/75 [==============================] - 0s 6ms/step - loss: 0.0010 - accuracy: 0.9996 - lr: 3.0000e-05\n",
            "Epoch 179/200\n",
            "73/75 [============================>.] - ETA: 0s - loss: 8.9330e-04 - accuracy: 0.9996"
          ]
        },
        {
          "output_type": "stream",
          "name": "stderr",
          "text": [
            "WARNING:tensorflow:Early stopping conditioned on metric `val_loss` which is not available. Available metrics are: loss,accuracy\n",
            "WARNING:tensorflow:Learning rate reduction is conditioned on metric `val_loss` which is not available. Available metrics are: loss,accuracy,lr\n"
          ]
        },
        {
          "output_type": "stream",
          "name": "stdout",
          "text": [
            "\b\b\b\b\b\b\b\b\b\b\b\b\b\b\b\b\b\b\b\b\b\b\b\b\b\b\b\b\b\b\b\b\b\b\b\b\b\b\b\b\b\b\b\b\b\b\b\b\b\b\b\b\b\b\b\b\b\b\b\b\b\b\b\b\b\b\b\b\b\b\b\b\b\b\b\b\b\b\b\b\b\b\b\b\b\b\r75/75 [==============================] - 0s 6ms/step - loss: 8.7963e-04 - accuracy: 0.9996 - lr: 3.0000e-05\n",
            "Epoch 180/200\n",
            "74/75 [============================>.] - ETA: 0s - loss: 9.7517e-04 - accuracy: 0.9996"
          ]
        },
        {
          "output_type": "stream",
          "name": "stderr",
          "text": [
            "WARNING:tensorflow:Early stopping conditioned on metric `val_loss` which is not available. Available metrics are: loss,accuracy\n",
            "WARNING:tensorflow:Learning rate reduction is conditioned on metric `val_loss` which is not available. Available metrics are: loss,accuracy,lr\n"
          ]
        },
        {
          "output_type": "stream",
          "name": "stdout",
          "text": [
            "\b\b\b\b\b\b\b\b\b\b\b\b\b\b\b\b\b\b\b\b\b\b\b\b\b\b\b\b\b\b\b\b\b\b\b\b\b\b\b\b\b\b\b\b\b\b\b\b\b\b\b\b\b\b\b\b\b\b\b\b\b\b\b\b\b\b\b\b\b\b\b\b\b\b\b\b\b\b\b\b\b\b\b\b\b\b\r75/75 [==============================] - 0s 6ms/step - loss: 9.7349e-04 - accuracy: 0.9996 - lr: 3.0000e-05\n",
            "Epoch 181/200\n",
            "66/75 [=========================>....] - ETA: 0s - loss: 0.0016 - accuracy: 0.9991"
          ]
        },
        {
          "output_type": "stream",
          "name": "stderr",
          "text": [
            "WARNING:tensorflow:Early stopping conditioned on metric `val_loss` which is not available. Available metrics are: loss,accuracy\n",
            "WARNING:tensorflow:Learning rate reduction is conditioned on metric `val_loss` which is not available. Available metrics are: loss,accuracy,lr\n"
          ]
        },
        {
          "output_type": "stream",
          "name": "stdout",
          "text": [
            "\b\b\b\b\b\b\b\b\b\b\b\b\b\b\b\b\b\b\b\b\b\b\b\b\b\b\b\b\b\b\b\b\b\b\b\b\b\b\b\b\b\b\b\b\b\b\b\b\b\b\b\b\b\b\b\b\b\b\b\b\b\b\b\b\b\b\b\b\b\b\b\b\b\b\b\b\b\b\b\b\b\b\r75/75 [==============================] - 0s 6ms/step - loss: 0.0015 - accuracy: 0.9992 - lr: 3.0000e-05\n",
            "Epoch 182/200\n",
            "73/75 [============================>.] - ETA: 0s - loss: 4.5130e-04 - accuracy: 1.0000"
          ]
        },
        {
          "output_type": "stream",
          "name": "stderr",
          "text": [
            "WARNING:tensorflow:Early stopping conditioned on metric `val_loss` which is not available. Available metrics are: loss,accuracy\n",
            "WARNING:tensorflow:Learning rate reduction is conditioned on metric `val_loss` which is not available. Available metrics are: loss,accuracy,lr\n"
          ]
        },
        {
          "output_type": "stream",
          "name": "stdout",
          "text": [
            "\b\b\b\b\b\b\b\b\b\b\b\b\b\b\b\b\b\b\b\b\b\b\b\b\b\b\b\b\b\b\b\b\b\b\b\b\b\b\b\b\b\b\b\b\b\b\b\b\b\b\b\b\b\b\b\b\b\b\b\b\b\b\b\b\b\b\b\b\b\b\b\b\b\b\b\b\b\b\b\b\b\b\b\b\b\b\r75/75 [==============================] - 0s 6ms/step - loss: 4.4457e-04 - accuracy: 1.0000 - lr: 3.0000e-05\n",
            "Epoch 183/200\n",
            "66/75 [=========================>....] - ETA: 0s - loss: 2.7143e-04 - accuracy: 1.0000"
          ]
        },
        {
          "output_type": "stream",
          "name": "stderr",
          "text": [
            "WARNING:tensorflow:Early stopping conditioned on metric `val_loss` which is not available. Available metrics are: loss,accuracy\n",
            "WARNING:tensorflow:Learning rate reduction is conditioned on metric `val_loss` which is not available. Available metrics are: loss,accuracy,lr\n"
          ]
        },
        {
          "output_type": "stream",
          "name": "stdout",
          "text": [
            "\b\b\b\b\b\b\b\b\b\b\b\b\b\b\b\b\b\b\b\b\b\b\b\b\b\b\b\b\b\b\b\b\b\b\b\b\b\b\b\b\b\b\b\b\b\b\b\b\b\b\b\b\b\b\b\b\b\b\b\b\b\b\b\b\b\b\b\b\b\b\b\b\b\b\b\b\b\b\b\b\b\b\b\b\b\b\r75/75 [==============================] - 0s 6ms/step - loss: 6.8032e-04 - accuracy: 0.9996 - lr: 3.0000e-05\n",
            "Epoch 184/200\n",
            "71/75 [===========================>..] - ETA: 0s - loss: 6.2349e-04 - accuracy: 0.9996"
          ]
        },
        {
          "output_type": "stream",
          "name": "stderr",
          "text": [
            "WARNING:tensorflow:Early stopping conditioned on metric `val_loss` which is not available. Available metrics are: loss,accuracy\n",
            "WARNING:tensorflow:Learning rate reduction is conditioned on metric `val_loss` which is not available. Available metrics are: loss,accuracy,lr\n"
          ]
        },
        {
          "output_type": "stream",
          "name": "stdout",
          "text": [
            "\b\b\b\b\b\b\b\b\b\b\b\b\b\b\b\b\b\b\b\b\b\b\b\b\b\b\b\b\b\b\b\b\b\b\b\b\b\b\b\b\b\b\b\b\b\b\b\b\b\b\b\b\b\b\b\b\b\b\b\b\b\b\b\b\b\b\b\b\b\b\b\b\b\b\b\b\b\b\b\b\b\b\b\b\b\b\r75/75 [==============================] - 0s 6ms/step - loss: 6.0280e-04 - accuracy: 0.9996 - lr: 3.0000e-05\n",
            "Epoch 185/200\n",
            "72/75 [===========================>..] - ETA: 0s - loss: 0.0016 - accuracy: 0.9996"
          ]
        },
        {
          "output_type": "stream",
          "name": "stderr",
          "text": [
            "WARNING:tensorflow:Early stopping conditioned on metric `val_loss` which is not available. Available metrics are: loss,accuracy\n",
            "WARNING:tensorflow:Learning rate reduction is conditioned on metric `val_loss` which is not available. Available metrics are: loss,accuracy,lr\n"
          ]
        },
        {
          "output_type": "stream",
          "name": "stdout",
          "text": [
            "\b\b\b\b\b\b\b\b\b\b\b\b\b\b\b\b\b\b\b\b\b\b\b\b\b\b\b\b\b\b\b\b\b\b\b\b\b\b\b\b\b\b\b\b\b\b\b\b\b\b\b\b\b\b\b\b\b\b\b\b\b\b\b\b\b\b\b\b\b\b\b\b\b\b\b\b\b\b\b\b\b\b\r75/75 [==============================] - 0s 6ms/step - loss: 0.0016 - accuracy: 0.9996 - lr: 3.0000e-05\n",
            "Epoch 186/200\n",
            "73/75 [============================>.] - ETA: 0s - loss: 0.0028 - accuracy: 0.9991"
          ]
        },
        {
          "output_type": "stream",
          "name": "stderr",
          "text": [
            "WARNING:tensorflow:Early stopping conditioned on metric `val_loss` which is not available. Available metrics are: loss,accuracy\n",
            "WARNING:tensorflow:Learning rate reduction is conditioned on metric `val_loss` which is not available. Available metrics are: loss,accuracy,lr\n"
          ]
        },
        {
          "output_type": "stream",
          "name": "stdout",
          "text": [
            "\b\b\b\b\b\b\b\b\b\b\b\b\b\b\b\b\b\b\b\b\b\b\b\b\b\b\b\b\b\b\b\b\b\b\b\b\b\b\b\b\b\b\b\b\b\b\b\b\b\b\b\b\b\b\b\b\b\b\b\b\b\b\b\b\b\b\b\b\b\b\b\b\b\b\b\b\b\b\b\b\b\b\r75/75 [==============================] - 0s 6ms/step - loss: 0.0028 - accuracy: 0.9992 - lr: 3.0000e-05\n",
            "Epoch 187/200\n",
            "72/75 [===========================>..] - ETA: 0s - loss: 0.0016 - accuracy: 0.9996    "
          ]
        },
        {
          "output_type": "stream",
          "name": "stderr",
          "text": [
            "WARNING:tensorflow:Early stopping conditioned on metric `val_loss` which is not available. Available metrics are: loss,accuracy\n",
            "WARNING:tensorflow:Learning rate reduction is conditioned on metric `val_loss` which is not available. Available metrics are: loss,accuracy,lr\n"
          ]
        },
        {
          "output_type": "stream",
          "name": "stdout",
          "text": [
            "\b\b\b\b\b\b\b\b\b\b\b\b\b\b\b\b\b\b\b\b\b\b\b\b\b\b\b\b\b\b\b\b\b\b\b\b\b\b\b\b\b\b\b\b\b\b\b\b\b\b\b\b\b\b\b\b\b\b\b\b\b\b\b\b\b\b\b\b\b\b\b\b\b\b\b\b\b\b\b\b\b\b\r75/75 [==============================] - 0s 6ms/step - loss: 0.0015 - accuracy: 0.9996 - lr: 3.0000e-05\n",
            "Epoch 188/200\n",
            "69/75 [==========================>...] - ETA: 0s - loss: 0.0015 - accuracy: 0.9995"
          ]
        },
        {
          "output_type": "stream",
          "name": "stderr",
          "text": [
            "WARNING:tensorflow:Early stopping conditioned on metric `val_loss` which is not available. Available metrics are: loss,accuracy\n",
            "WARNING:tensorflow:Learning rate reduction is conditioned on metric `val_loss` which is not available. Available metrics are: loss,accuracy,lr\n"
          ]
        },
        {
          "output_type": "stream",
          "name": "stdout",
          "text": [
            "\b\b\b\b\b\b\b\b\b\b\b\b\b\b\b\b\b\b\b\b\b\b\b\b\b\b\b\b\b\b\b\b\b\b\b\b\b\b\b\b\b\b\b\b\b\b\b\b\b\b\b\b\b\b\b\b\b\b\b\b\b\b\b\b\b\b\b\b\b\b\b\b\b\b\b\b\b\b\b\b\b\b\r75/75 [==============================] - 0s 6ms/step - loss: 0.0015 - accuracy: 0.9996 - lr: 3.0000e-05\n",
            "Epoch 189/200\n",
            "73/75 [============================>.] - ETA: 0s - loss: 7.0397e-04 - accuracy: 0.9996"
          ]
        },
        {
          "output_type": "stream",
          "name": "stderr",
          "text": [
            "WARNING:tensorflow:Early stopping conditioned on metric `val_loss` which is not available. Available metrics are: loss,accuracy\n",
            "WARNING:tensorflow:Learning rate reduction is conditioned on metric `val_loss` which is not available. Available metrics are: loss,accuracy,lr\n"
          ]
        },
        {
          "output_type": "stream",
          "name": "stdout",
          "text": [
            "\b\b\b\b\b\b\b\b\b\b\b\b\b\b\b\b\b\b\b\b\b\b\b\b\b\b\b\b\b\b\b\b\b\b\b\b\b\b\b\b\b\b\b\b\b\b\b\b\b\b\b\b\b\b\b\b\b\b\b\b\b\b\b\b\b\b\b\b\b\b\b\b\b\b\b\b\b\b\b\b\b\b\b\b\b\b\r75/75 [==============================] - 0s 6ms/step - loss: 0.0014 - accuracy: 0.9992 - lr: 3.0000e-05\n",
            "Epoch 190/200\n",
            "71/75 [===========================>..] - ETA: 0s - loss: 0.0026 - accuracy: 0.9991"
          ]
        },
        {
          "output_type": "stream",
          "name": "stderr",
          "text": [
            "WARNING:tensorflow:Early stopping conditioned on metric `val_loss` which is not available. Available metrics are: loss,accuracy\n",
            "WARNING:tensorflow:Learning rate reduction is conditioned on metric `val_loss` which is not available. Available metrics are: loss,accuracy,lr\n"
          ]
        },
        {
          "output_type": "stream",
          "name": "stdout",
          "text": [
            "\b\b\b\b\b\b\b\b\b\b\b\b\b\b\b\b\b\b\b\b\b\b\b\b\b\b\b\b\b\b\b\b\b\b\b\b\b\b\b\b\b\b\b\b\b\b\b\b\b\b\b\b\b\b\b\b\b\b\b\b\b\b\b\b\b\b\b\b\b\b\b\b\b\b\b\b\b\b\b\b\b\b\r75/75 [==============================] - 0s 6ms/step - loss: 0.0025 - accuracy: 0.9992 - lr: 3.0000e-05\n",
            "Epoch 191/200\n",
            "71/75 [===========================>..] - ETA: 0s - loss: 0.0012 - accuracy: 0.9996"
          ]
        },
        {
          "output_type": "stream",
          "name": "stderr",
          "text": [
            "WARNING:tensorflow:Early stopping conditioned on metric `val_loss` which is not available. Available metrics are: loss,accuracy\n",
            "WARNING:tensorflow:Learning rate reduction is conditioned on metric `val_loss` which is not available. Available metrics are: loss,accuracy,lr\n"
          ]
        },
        {
          "output_type": "stream",
          "name": "stdout",
          "text": [
            "\b\b\b\b\b\b\b\b\b\b\b\b\b\b\b\b\b\b\b\b\b\b\b\b\b\b\b\b\b\b\b\b\b\b\b\b\b\b\b\b\b\b\b\b\b\b\b\b\b\b\b\b\b\b\b\b\b\b\b\b\b\b\b\b\b\b\b\b\b\b\b\b\b\b\b\b\b\b\b\b\b\b\r75/75 [==============================] - 0s 6ms/step - loss: 0.0011 - accuracy: 0.9996 - lr: 3.0000e-05\n",
            "Epoch 192/200\n",
            "74/75 [============================>.] - ETA: 0s - loss: 9.7730e-04 - accuracy: 0.9992"
          ]
        },
        {
          "output_type": "stream",
          "name": "stderr",
          "text": [
            "WARNING:tensorflow:Early stopping conditioned on metric `val_loss` which is not available. Available metrics are: loss,accuracy\n",
            "WARNING:tensorflow:Learning rate reduction is conditioned on metric `val_loss` which is not available. Available metrics are: loss,accuracy,lr\n"
          ]
        },
        {
          "output_type": "stream",
          "name": "stdout",
          "text": [
            "\b\b\b\b\b\b\b\b\b\b\b\b\b\b\b\b\b\b\b\b\b\b\b\b\b\b\b\b\b\b\b\b\b\b\b\b\b\b\b\b\b\b\b\b\b\b\b\b\b\b\b\b\b\b\b\b\b\b\b\b\b\b\b\b\b\b\b\b\b\b\b\b\b\b\b\b\b\b\b\b\b\b\b\b\b\b\r75/75 [==============================] - 0s 6ms/step - loss: 9.7525e-04 - accuracy: 0.9992 - lr: 3.0000e-05\n",
            "Epoch 193/200\n",
            "72/75 [===========================>..] - ETA: 0s - loss: 6.0129e-04 - accuracy: 0.9996"
          ]
        },
        {
          "output_type": "stream",
          "name": "stderr",
          "text": [
            "WARNING:tensorflow:Early stopping conditioned on metric `val_loss` which is not available. Available metrics are: loss,accuracy\n",
            "WARNING:tensorflow:Learning rate reduction is conditioned on metric `val_loss` which is not available. Available metrics are: loss,accuracy,lr\n"
          ]
        },
        {
          "output_type": "stream",
          "name": "stdout",
          "text": [
            "\b\b\b\b\b\b\b\b\b\b\b\b\b\b\b\b\b\b\b\b\b\b\b\b\b\b\b\b\b\b\b\b\b\b\b\b\b\b\b\b\b\b\b\b\b\b\b\b\b\b\b\b\b\b\b\b\b\b\b\b\b\b\b\b\b\b\b\b\b\b\b\b\b\b\b\b\b\b\b\b\b\b\b\b\b\b\r75/75 [==============================] - 0s 6ms/step - loss: 6.1120e-04 - accuracy: 0.9996 - lr: 3.0000e-05\n",
            "Epoch 194/200\n",
            "73/75 [============================>.] - ETA: 0s - loss: 0.0017 - accuracy: 0.9991"
          ]
        },
        {
          "output_type": "stream",
          "name": "stderr",
          "text": [
            "WARNING:tensorflow:Early stopping conditioned on metric `val_loss` which is not available. Available metrics are: loss,accuracy\n",
            "WARNING:tensorflow:Learning rate reduction is conditioned on metric `val_loss` which is not available. Available metrics are: loss,accuracy,lr\n"
          ]
        },
        {
          "output_type": "stream",
          "name": "stdout",
          "text": [
            "\b\b\b\b\b\b\b\b\b\b\b\b\b\b\b\b\b\b\b\b\b\b\b\b\b\b\b\b\b\b\b\b\b\b\b\b\b\b\b\b\b\b\b\b\b\b\b\b\b\b\b\b\b\b\b\b\b\b\b\b\b\b\b\b\b\b\b\b\b\b\b\b\b\b\b\b\b\b\b\b\b\b\r75/75 [==============================] - 0s 6ms/step - loss: 0.0017 - accuracy: 0.9992 - lr: 3.0000e-05\n",
            "Epoch 195/200\n",
            "70/75 [===========================>..] - ETA: 0s - loss: 3.9557e-04 - accuracy: 1.0000"
          ]
        },
        {
          "output_type": "stream",
          "name": "stderr",
          "text": [
            "WARNING:tensorflow:Early stopping conditioned on metric `val_loss` which is not available. Available metrics are: loss,accuracy\n",
            "WARNING:tensorflow:Learning rate reduction is conditioned on metric `val_loss` which is not available. Available metrics are: loss,accuracy,lr\n"
          ]
        },
        {
          "output_type": "stream",
          "name": "stdout",
          "text": [
            "\b\b\b\b\b\b\b\b\b\b\b\b\b\b\b\b\b\b\b\b\b\b\b\b\b\b\b\b\b\b\b\b\b\b\b\b\b\b\b\b\b\b\b\b\b\b\b\b\b\b\b\b\b\b\b\b\b\b\b\b\b\b\b\b\b\b\b\b\b\b\b\b\b\b\b\b\b\b\b\b\b\b\b\b\b\b\r75/75 [==============================] - 0s 6ms/step - loss: 5.1496e-04 - accuracy: 1.0000 - lr: 3.0000e-05\n",
            "Epoch 196/200\n",
            "74/75 [============================>.] - ETA: 0s - loss: 0.0016 - accuracy: 0.9996"
          ]
        },
        {
          "output_type": "stream",
          "name": "stderr",
          "text": [
            "WARNING:tensorflow:Early stopping conditioned on metric `val_loss` which is not available. Available metrics are: loss,accuracy\n",
            "WARNING:tensorflow:Learning rate reduction is conditioned on metric `val_loss` which is not available. Available metrics are: loss,accuracy,lr\n"
          ]
        },
        {
          "output_type": "stream",
          "name": "stdout",
          "text": [
            "\b\b\b\b\b\b\b\b\b\b\b\b\b\b\b\b\b\b\b\b\b\b\b\b\b\b\b\b\b\b\b\b\b\b\b\b\b\b\b\b\b\b\b\b\b\b\b\b\b\b\b\b\b\b\b\b\b\b\b\b\b\b\b\b\b\b\b\b\b\b\b\b\b\b\b\b\b\b\b\b\b\b\r75/75 [==============================] - 0s 6ms/step - loss: 0.0016 - accuracy: 0.9996 - lr: 3.0000e-05\n",
            "Epoch 197/200\n",
            "72/75 [===========================>..] - ETA: 0s - loss: 0.0022 - accuracy: 0.9991"
          ]
        },
        {
          "output_type": "stream",
          "name": "stderr",
          "text": [
            "WARNING:tensorflow:Early stopping conditioned on metric `val_loss` which is not available. Available metrics are: loss,accuracy\n",
            "WARNING:tensorflow:Learning rate reduction is conditioned on metric `val_loss` which is not available. Available metrics are: loss,accuracy,lr\n"
          ]
        },
        {
          "output_type": "stream",
          "name": "stdout",
          "text": [
            "\b\b\b\b\b\b\b\b\b\b\b\b\b\b\b\b\b\b\b\b\b\b\b\b\b\b\b\b\b\b\b\b\b\b\b\b\b\b\b\b\b\b\b\b\b\b\b\b\b\b\b\b\b\b\b\b\b\b\b\b\b\b\b\b\b\b\b\b\b\b\b\b\b\b\b\b\b\b\b\b\b\b\r75/75 [==============================] - 0s 6ms/step - loss: 0.0022 - accuracy: 0.9992 - lr: 3.0000e-05\n",
            "Epoch 198/200\n",
            "69/75 [==========================>...] - ETA: 0s - loss: 0.0013 - accuracy: 0.9995"
          ]
        },
        {
          "output_type": "stream",
          "name": "stderr",
          "text": [
            "WARNING:tensorflow:Early stopping conditioned on metric `val_loss` which is not available. Available metrics are: loss,accuracy\n",
            "WARNING:tensorflow:Learning rate reduction is conditioned on metric `val_loss` which is not available. Available metrics are: loss,accuracy,lr\n"
          ]
        },
        {
          "output_type": "stream",
          "name": "stdout",
          "text": [
            "\b\b\b\b\b\b\b\b\b\b\b\b\b\b\b\b\b\b\b\b\b\b\b\b\b\b\b\b\b\b\b\b\b\b\b\b\b\b\b\b\b\b\b\b\b\b\b\b\b\b\b\b\b\b\b\b\b\b\b\b\b\b\b\b\b\b\b\b\b\b\b\b\b\b\b\b\b\b\b\b\b\b\r75/75 [==============================] - 0s 6ms/step - loss: 0.0017 - accuracy: 0.9992 - lr: 3.0000e-05\n",
            "Epoch 199/200\n",
            "70/75 [===========================>..] - ETA: 0s - loss: 0.0016 - accuracy: 0.9996"
          ]
        },
        {
          "output_type": "stream",
          "name": "stderr",
          "text": [
            "WARNING:tensorflow:Early stopping conditioned on metric `val_loss` which is not available. Available metrics are: loss,accuracy\n",
            "WARNING:tensorflow:Learning rate reduction is conditioned on metric `val_loss` which is not available. Available metrics are: loss,accuracy,lr\n"
          ]
        },
        {
          "output_type": "stream",
          "name": "stdout",
          "text": [
            "\b\b\b\b\b\b\b\b\b\b\b\b\b\b\b\b\b\b\b\b\b\b\b\b\b\b\b\b\b\b\b\b\b\b\b\b\b\b\b\b\b\b\b\b\b\b\b\b\b\b\b\b\b\b\b\b\b\b\b\b\b\b\b\b\b\b\b\b\b\b\b\b\b\b\b\b\b\b\b\b\b\b\r75/75 [==============================] - 0s 6ms/step - loss: 0.0015 - accuracy: 0.9996 - lr: 3.0000e-05\n",
            "Epoch 200/200\n",
            "72/75 [===========================>..] - ETA: 0s - loss: 5.9874e-04 - accuracy: 1.0000"
          ]
        },
        {
          "output_type": "stream",
          "name": "stderr",
          "text": [
            "WARNING:tensorflow:Early stopping conditioned on metric `val_loss` which is not available. Available metrics are: loss,accuracy\n",
            "WARNING:tensorflow:Learning rate reduction is conditioned on metric `val_loss` which is not available. Available metrics are: loss,accuracy,lr\n"
          ]
        },
        {
          "output_type": "stream",
          "name": "stdout",
          "text": [
            "\b\b\b\b\b\b\b\b\b\b\b\b\b\b\b\b\b\b\b\b\b\b\b\b\b\b\b\b\b\b\b\b\b\b\b\b\b\b\b\b\b\b\b\b\b\b\b\b\b\b\b\b\b\b\b\b\b\b\b\b\b\b\b\b\b\b\b\b\b\b\b\b\b\b\b\b\b\b\b\b\b\b\b\b\b\b\r75/75 [==============================] - 0s 6ms/step - loss: 5.8680e-04 - accuracy: 1.0000 - lr: 3.0000e-05\n"
          ]
        }
      ]
    },
    {
      "cell_type": "markdown",
      "source": [
        "# log loss"
      ],
      "metadata": {
        "id": "U3Xg55v7ZbWc"
      }
    },
    {
      "cell_type": "code",
      "source": [
        "CNN1_network_predictions = CNN1_network.predict(padded_clean_text_t_stem)"
      ],
      "metadata": {
        "id": "dbcI7RTeZcn2"
      },
      "execution_count": null,
      "outputs": []
    },
    {
      "cell_type": "code",
      "source": [
        "from sklearn.metrics import log_loss\n",
        "log_loss_test= log_loss(label_twoDimension_t,CNN1_network_predictions)\n",
        "log_loss_test"
      ],
      "metadata": {
        "colab": {
          "base_uri": "https://localhost:8080/"
        },
        "id": "vBA3XmTFZf4y",
        "outputId": "555eeb17-3f20-467c-943f-47e56bc30c52"
      },
      "execution_count": null,
      "outputs": [
        {
          "output_type": "execute_result",
          "data": {
            "text/plain": [
              "1.552771566076975"
            ]
          },
          "metadata": {},
          "execution_count": 66
        }
      ]
    },
    {
      "cell_type": "markdown",
      "source": [
        "# Classification Report\n"
      ],
      "metadata": {
        "id": "gIX9etNsZiSb"
      }
    },
    {
      "cell_type": "code",
      "source": [
        "predictions = np.zeros_like(CNN1_network_predictions)\n",
        "predictions[np.arange(len(CNN1_network_predictions)), CNN1_network_predictions.argmax(1)] = 1\n",
        "\n"
      ],
      "metadata": {
        "id": "EejyfrakZjSe"
      },
      "execution_count": null,
      "outputs": []
    },
    {
      "cell_type": "code",
      "source": [
        "\n",
        "\n",
        "predictionInteger=(np.argmax(predictions, axis=1))\n",
        "predictionInteger\n",
        "\n"
      ],
      "metadata": {
        "colab": {
          "base_uri": "https://localhost:8080/"
        },
        "id": "gegx60d8ZmD0",
        "outputId": "a0825071-a2ac-4b51-f569-865edf774ea9"
      },
      "execution_count": null,
      "outputs": [
        {
          "output_type": "execute_result",
          "data": {
            "text/plain": [
              "array([1, 1, 1, 0, 1, 1, 1, 0, 0, 1, 1, 1, 1, 1, 1, 1, 1, 1, 1, 1, 1, 1,\n",
              "       1, 1, 1, 1, 1, 1, 1, 1, 1, 1, 1, 1, 1, 1, 1, 1, 1, 1, 0, 1, 1, 1,\n",
              "       0, 1, 1, 1, 1, 1, 1, 1, 1, 1, 1, 1, 1, 0, 1, 1, 1, 1, 1, 0, 1, 1,\n",
              "       1, 1, 1, 1, 1, 1, 1, 1, 1, 1, 1, 0, 0, 1, 1, 1, 0, 1, 1, 1, 0, 1,\n",
              "       1, 1, 1, 1, 1, 1, 1, 1, 1, 1, 1, 1, 1, 0, 1, 1, 1, 0, 1, 1, 1, 1,\n",
              "       1, 1, 0, 1, 1, 0, 1, 1, 1, 0, 1, 1, 1, 1, 1, 1, 1, 1, 1, 0, 1, 1,\n",
              "       1, 1, 1, 1, 1, 0, 1, 1, 1, 0, 1, 1, 1, 1, 0, 1, 1, 1, 1, 1, 1, 1,\n",
              "       1, 1, 1, 1, 1, 1, 1, 1, 1, 1, 1, 1, 1, 1, 1, 1, 1, 0, 1, 1, 1, 1,\n",
              "       1, 1, 1, 1, 1, 1, 1, 1, 1, 1, 1, 1, 1, 1, 1, 1, 1, 1, 1, 1, 1, 0,\n",
              "       1, 1, 1, 1, 1, 0, 1, 1, 0, 1, 0, 1, 1, 1, 1, 0, 1, 1, 1, 1, 1, 1,\n",
              "       1, 1, 1, 1, 0, 0, 1, 0, 0, 1, 1, 1, 1, 1, 1, 1, 1, 1, 1, 1, 1, 1,\n",
              "       1, 1, 1, 1, 1, 1, 1, 0, 1, 1, 1, 1, 1, 1, 1, 1, 1, 1, 1, 1, 1, 1,\n",
              "       0, 1, 1, 1, 1, 1, 1, 1, 1, 1, 1, 1, 1, 1, 1, 1, 1, 1, 1, 1, 1, 1,\n",
              "       1, 1, 1, 1, 1, 1, 1, 1, 1, 1, 1, 1, 1, 1, 1, 1, 1, 1, 1, 1, 1, 1,\n",
              "       1, 1, 1, 1, 1, 1, 0, 1, 1, 0, 1, 1, 1, 1, 1, 1, 1, 1, 1, 1, 0, 1,\n",
              "       0, 0, 1, 1, 1, 1, 0, 1, 1, 1, 1, 1, 1, 1, 1, 0, 1, 0, 1, 1, 1, 1,\n",
              "       1, 1, 1, 1, 1, 1, 1, 1, 1, 1, 1, 1, 1, 1, 1, 1, 1, 1, 1, 1, 1, 1,\n",
              "       1, 1, 1, 1, 1, 1, 1, 1, 1, 1, 1, 1, 1, 1, 1, 1, 1, 1, 1, 1, 1, 1,\n",
              "       1, 1, 1, 1, 1, 1, 1, 1, 1, 1, 1, 1, 1, 1, 1, 1, 1, 1, 0, 1, 1, 1,\n",
              "       1, 1, 1, 1, 1, 1, 1, 1, 1, 1, 1, 1, 1, 1, 1, 0, 0, 1, 1, 1, 1, 1,\n",
              "       1, 1, 1, 1, 0, 1, 1, 1, 0, 0, 1, 1, 0, 1, 1, 0, 1, 1, 1, 1, 0, 1,\n",
              "       1, 1, 1, 1, 1, 1, 1, 0, 1, 1, 1, 1, 1, 1, 1, 1, 0, 1, 1, 1, 1, 1,\n",
              "       1, 1, 1, 1, 1, 1, 1, 1, 1, 1, 1, 1, 1, 1, 0, 1, 1, 0, 1, 1, 1, 1,\n",
              "       1, 1, 1, 1, 1, 1, 1, 0, 1, 1, 1, 0, 1, 1, 1, 1, 1, 1, 1, 1, 0, 1,\n",
              "       1, 1, 1, 1, 1, 0, 1, 1, 1, 1, 1, 1, 0, 1, 1, 1, 1, 1, 1, 1, 1, 1,\n",
              "       1, 1, 1, 1, 0, 0, 1, 1, 1, 1, 1, 1, 1, 1, 1, 0, 1, 1, 1, 1, 1, 1,\n",
              "       1, 1, 1, 1, 1, 1, 1, 1, 1, 1, 0, 1, 1, 1, 1, 1, 1, 1, 0, 1, 1, 1,\n",
              "       1, 1, 1, 1, 1, 1, 1, 1, 1, 1, 0, 1, 1, 1, 1, 0, 0, 1, 1, 1, 0, 1,\n",
              "       1, 1, 1, 1, 1, 1, 1, 1, 1, 0, 1, 1, 1, 1, 1, 1, 1, 1, 1, 1, 1, 0,\n",
              "       1, 1, 1, 1, 1, 1, 0, 1, 1, 1, 0, 1, 1, 1, 1, 1, 1, 1, 1, 1, 1, 1,\n",
              "       1, 1, 1, 1, 1, 1, 1, 1, 1, 1, 1, 1, 1, 1, 1, 1, 1, 1, 1, 1, 1, 1,\n",
              "       1, 1, 1, 0, 1, 1, 1, 1, 1, 0, 1, 1, 1, 1, 1, 1, 1, 1, 1, 1, 1, 1,\n",
              "       1, 1, 0, 1, 1, 1, 1, 1, 1, 1, 1, 1, 1, 1, 1, 1, 1, 1, 1, 0, 1, 1,\n",
              "       1, 1, 1, 1, 1, 1, 1, 1, 1, 1, 1, 1, 1, 1, 1, 1, 1, 0, 1, 1, 1, 1,\n",
              "       1, 0, 1, 1, 1, 1, 1, 1, 1, 1, 0, 1, 1, 1, 1, 1, 1, 1, 1, 1, 1, 1,\n",
              "       1, 0, 0, 1, 1, 1, 1, 1, 1, 1, 1, 1, 0, 1, 1, 0, 0, 1, 1, 0, 1, 1,\n",
              "       0, 0, 0, 1, 1, 0, 1, 1, 1, 1, 1, 1, 1, 0, 1, 1, 0, 0, 0, 1, 1, 1,\n",
              "       1, 1, 1, 1, 0, 1, 0, 0, 0, 0, 1, 1, 1, 0, 1, 0, 1, 0, 1, 1, 1, 0,\n",
              "       1, 1, 1, 1, 1, 1, 1, 0, 1, 1, 1, 1, 1, 1])"
            ]
          },
          "metadata": {},
          "execution_count": 68
        }
      ]
    },
    {
      "cell_type": "code",
      "source": [
        "\n",
        "\n",
        "pred_label = np.array(predictionInteger)\n",
        "df = pd.DataFrame(data=pred_label , columns=[\"task1\"])\n",
        "print(df)\n",
        "\n"
      ],
      "metadata": {
        "colab": {
          "base_uri": "https://localhost:8080/"
        },
        "id": "oceUPc_tZniC",
        "outputId": "78e63c03-964f-4376-97c8-cbad2fae370a"
      },
      "execution_count": null,
      "outputs": [
        {
          "output_type": "stream",
          "name": "stdout",
          "text": [
            "     task1\n",
            "0        1\n",
            "1        1\n",
            "2        1\n",
            "3        0\n",
            "4        1\n",
            "..     ...\n",
            "845      1\n",
            "846      1\n",
            "847      1\n",
            "848      1\n",
            "849      1\n",
            "\n",
            "[850 rows x 1 columns]\n"
          ]
        }
      ]
    },
    {
      "cell_type": "code",
      "source": [
        "df.to_csv(\"NSIT_submission_DE_Train_HASOC2020_Test_HASOC2019_TASK_A.csv\", index=False)"
      ],
      "metadata": {
        "id": "Ey4jhyzcZpFS"
      },
      "execution_count": null,
      "outputs": []
    },
    {
      "cell_type": "code",
      "source": [
        "\n",
        "\n",
        "from sklearn.metrics import classification_report\n",
        "print(classification_report(label_twoDimension_t,predictions))\n",
        "\n"
      ],
      "metadata": {
        "colab": {
          "base_uri": "https://localhost:8080/"
        },
        "id": "XLy5CXJXZtSj",
        "outputId": "eefc05a4-37fd-48cd-a9cc-9852b4672167"
      },
      "execution_count": null,
      "outputs": [
        {
          "output_type": "stream",
          "name": "stdout",
          "text": [
            "              precision    recall  f1-score   support\n",
            "\n",
            "           0       0.35      0.26      0.30       136\n",
            "           1       0.87      0.91      0.89       714\n",
            "\n",
            "   micro avg       0.80      0.80      0.80       850\n",
            "   macro avg       0.61      0.59      0.59       850\n",
            "weighted avg       0.78      0.80      0.79       850\n",
            " samples avg       0.80      0.80      0.80       850\n",
            "\n"
          ]
        }
      ]
    },
    {
      "cell_type": "markdown",
      "source": [
        "# Epoch v/s Loss Plot\n"
      ],
      "metadata": {
        "id": "vtezBAMJZvBv"
      }
    },
    {
      "cell_type": "code",
      "source": [
        "\n",
        "\n",
        "from matplotlib import pyplot as plt\n",
        "plt.plot(hist.history[\"loss\"],color = 'red', label = 'train_loss')\n",
        "#plt.plot(hist.history[\"val_loss\"],color = 'blue', label = 'val_loss')\n",
        "plt.title('Loss Visualisation')\n",
        "plt.xlabel('Epochs')\n",
        "plt.ylabel('Loss')\n",
        "plt.legend()\n",
        "plt.savefig('CNN1_Train_HASOC2020_Test_HASOC2019_TASK_A_Ger_lossPlot.pdf',dpi=1000)\n",
        "\n",
        "from google.colab import files\n",
        "files.download('CNN1_Train_HASOC2020_Test_HASOC2019_TASK_A_Ger_lossPlot.pdf') \n",
        "\n"
      ],
      "metadata": {
        "colab": {
          "base_uri": "https://localhost:8080/"
        },
        "id": "3Q4VbA71ZwwS",
        "outputId": "7843f077-f927-424e-a581-11751a9328f6"
      },
      "execution_count": null,
      "outputs": [
        {
          "output_type": "display_data",
          "data": {
            "text/plain": [
              "<IPython.core.display.Javascript object>"
            ],
            "application/javascript": [
              "\n",
              "    async function download(id, filename, size) {\n",
              "      if (!google.colab.kernel.accessAllowed) {\n",
              "        return;\n",
              "      }\n",
              "      const div = document.createElement('div');\n",
              "      const label = document.createElement('label');\n",
              "      label.textContent = `Downloading \"${filename}\": `;\n",
              "      div.appendChild(label);\n",
              "      const progress = document.createElement('progress');\n",
              "      progress.max = size;\n",
              "      div.appendChild(progress);\n",
              "      document.body.appendChild(div);\n",
              "\n",
              "      const buffers = [];\n",
              "      let downloaded = 0;\n",
              "\n",
              "      const channel = await google.colab.kernel.comms.open(id);\n",
              "      // Send a message to notify the kernel that we're ready.\n",
              "      channel.send({})\n",
              "\n",
              "      for await (const message of channel.messages) {\n",
              "        // Send a message to notify the kernel that we're ready.\n",
              "        channel.send({})\n",
              "        if (message.buffers) {\n",
              "          for (const buffer of message.buffers) {\n",
              "            buffers.push(buffer);\n",
              "            downloaded += buffer.byteLength;\n",
              "            progress.value = downloaded;\n",
              "          }\n",
              "        }\n",
              "      }\n",
              "      const blob = new Blob(buffers, {type: 'application/binary'});\n",
              "      const a = document.createElement('a');\n",
              "      a.href = window.URL.createObjectURL(blob);\n",
              "      a.download = filename;\n",
              "      div.appendChild(a);\n",
              "      a.click();\n",
              "      div.remove();\n",
              "    }\n",
              "  "
            ]
          },
          "metadata": {}
        },
        {
          "output_type": "display_data",
          "data": {
            "text/plain": [
              "<IPython.core.display.Javascript object>"
            ],
            "application/javascript": [
              "download(\"download_7df1fb2a-0e93-460f-9494-ffa8046e0ce1\", \"CNN1_Train_HASOC2020_Test_HASOC2019_TASK_A_Ger_lossPlot.pdf\", 12501)"
            ]
          },
          "metadata": {}
        },
        {
          "output_type": "display_data",
          "data": {
            "text/plain": [
              "<Figure size 432x288 with 1 Axes>"
            ],
            "image/png": "[encoded data removed]"
          },
          "metadata": {
            "needs_background": "light"
          }
        }
      ]
    },
    {
      "cell_type": "markdown",
      "source": [
        "# Epoch v/s Accuracy Plot\n"
      ],
      "metadata": {
        "id": "NEu9wKuUZ0z3"
      }
    },
    {
      "cell_type": "code",
      "source": [
        "\n",
        "\n",
        "plt.plot(hist.history[\"accuracy\"],color = 'red', label = 'train_accuracy')\n",
        "#plt.plot(hist.history[\"val_accuracy\"],color = 'blue', label = 'val_accuracy')\n",
        "plt.title('Accuracy Visualisation')\n",
        "plt.xlabel('Epochs')\n",
        "plt.ylabel('Accuracy')\n",
        "plt.legend()\n",
        "plt.savefig('CNN1_Train_HASOC2020_Test_HASOC2019_TASK_A_Ger_accuracyPlot.pdf',dpi=1000)\n",
        "files.download('CNN1_Train_HASOC2020_Test_HASOC2019_TASK_A_Ger_accuracyPlot.pdf') \n",
        "\n"
      ],
      "metadata": {
        "colab": {
          "base_uri": "https://localhost:8080/"
        },
        "id": "6Ad_2uQZZyuB",
        "outputId": "1a56d051-adfe-4e0d-86c4-718c76ef87cf"
      },
      "execution_count": null,
      "outputs": [
        {
          "output_type": "display_data",
          "data": {
            "text/plain": [
              "<IPython.core.display.Javascript object>"
            ],
            "application/javascript": [
              "\n",
              "    async function download(id, filename, size) {\n",
              "      if (!google.colab.kernel.accessAllowed) {\n",
              "        return;\n",
              "      }\n",
              "      const div = document.createElement('div');\n",
              "      const label = document.createElement('label');\n",
              "      label.textContent = `Downloading \"${filename}\": `;\n",
              "      div.appendChild(label);\n",
              "      const progress = document.createElement('progress');\n",
              "      progress.max = size;\n",
              "      div.appendChild(progress);\n",
              "      document.body.appendChild(div);\n",
              "\n",
              "      const buffers = [];\n",
              "      let downloaded = 0;\n",
              "\n",
              "      const channel = await google.colab.kernel.comms.open(id);\n",
              "      // Send a message to notify the kernel that we're ready.\n",
              "      channel.send({})\n",
              "\n",
              "      for await (const message of channel.messages) {\n",
              "        // Send a message to notify the kernel that we're ready.\n",
              "        channel.send({})\n",
              "        if (message.buffers) {\n",
              "          for (const buffer of message.buffers) {\n",
              "            buffers.push(buffer);\n",
              "            downloaded += buffer.byteLength;\n",
              "            progress.value = downloaded;\n",
              "          }\n",
              "        }\n",
              "      }\n",
              "      const blob = new Blob(buffers, {type: 'application/binary'});\n",
              "      const a = document.createElement('a');\n",
              "      a.href = window.URL.createObjectURL(blob);\n",
              "      a.download = filename;\n",
              "      div.appendChild(a);\n",
              "      a.click();\n",
              "      div.remove();\n",
              "    }\n",
              "  "
            ]
          },
          "metadata": {}
        },
        {
          "output_type": "display_data",
          "data": {
            "text/plain": [
              "<IPython.core.display.Javascript object>"
            ],
            "application/javascript": [
              "download(\"download_f017efc3-3c32-4ef6-9cdb-b89b0ef29d5d\", \"CNN1_Train_HASOC2020_Test_HASOC2019_TASK_A_Ger_accuracyPlot.pdf\", 12711)"
            ]
          },
          "metadata": {}
        },
        {
          "output_type": "display_data",
          "data": {
            "text/plain": [
              "<Figure size 432x288 with 1 Axes>"
            ],
            "image/png": "[encoded data removed]"
          },
          "metadata": {
            "needs_background": "light"
          }
        }
      ]
    },
    {
      "cell_type": "markdown",
      "source": [
        "# Area under Curve-ROC\n"
      ],
      "metadata": {
        "id": "ce9BJNbLZ65e"
      }
    },
    {
      "cell_type": "code",
      "source": [
        "\n",
        "\n",
        "pred_train = CNN1_network.predict(padded_clean_text_stem)\n",
        "pred_test = CNN1_network.predict(padded_clean_text_t_stem)\n",
        "\n"
      ],
      "metadata": {
        "id": "swegVICbZ5_M"
      },
      "execution_count": null,
      "outputs": []
    },
    {
      "cell_type": "code",
      "source": [
        "\n",
        "\n",
        "import numpy as np\n",
        "import matplotlib.pyplot as plt\n",
        "from itertools import cycle\n",
        "\n",
        "from sklearn import svm, datasets\n",
        "from sklearn.metrics import roc_curve, auc\n",
        "from sklearn.model_selection import train_test_split\n",
        "from sklearn.preprocessing import label_binarize\n",
        "from sklearn.multiclass import OneVsRestClassifier\n",
        "from scipy import interp\n",
        "\n",
        "def plot_AUC_ROC(y_true, y_pred):\n",
        "    n_classes = 2 #change this value according to class value\n",
        "\n",
        "    # Compute ROC curve and ROC area for each class\n",
        "    fpr = dict()\n",
        "    tpr = dict()\n",
        "    roc_auc = dict()\n",
        "    for i in range(n_classes):\n",
        "        fpr[i], tpr[i], _ = roc_curve(y_true[:, i], y_pred[:, i])\n",
        "        roc_auc[i] = auc(fpr[i], tpr[i])\n",
        "\n",
        "    # Compute micro-average ROC curve and ROC area\n",
        "    fpr[\"micro\"], tpr[\"micro\"], _ = roc_curve(y_true.ravel(), y_pred.ravel())\n",
        "    roc_auc[\"micro\"] = auc(fpr[\"micro\"], tpr[\"micro\"])\n",
        "############################################################################################\n",
        "    lw = 2\n",
        "    # Compute macro-average ROC curve and ROC area\n",
        "\n",
        "    # First aggregate all false positive rates\n",
        "    all_fpr = np.unique(np.concatenate([fpr[i] for i in range(n_classes)]))\n",
        "\n",
        "    # Then interpolate all ROC curves at this points\n",
        "    mean_tpr = np.zeros_like(all_fpr)\n",
        "    for i in range(n_classes):\n",
        "        mean_tpr += interp(all_fpr, fpr[i], tpr[i])\n",
        "\n",
        "    # Finally average it and compute AUC\n",
        "    mean_tpr /= n_classes\n",
        "\n",
        "    fpr[\"macro\"] = all_fpr\n",
        "    tpr[\"macro\"] = mean_tpr\n",
        "    roc_auc[\"macro\"] = auc(fpr[\"macro\"], tpr[\"macro\"])\n",
        "\n",
        "    # Plot all ROC curves\n",
        "    plt.figure()\n",
        "    \n",
        "    plt.plot(fpr[\"micro\"], tpr[\"micro\"],\n",
        "            label='micro-average ROC curve (area = {0:0.2f})'\n",
        "               ''.format(roc_auc[\"micro\"]),\n",
        "            color='deeppink', linestyle=':', linewidth=4)\n",
        "\n",
        "    plt.plot(fpr[\"macro\"], tpr[\"macro\"],\n",
        "            label='macro-average ROC curve (area = {0:0.2f})'\n",
        "               ''.format(roc_auc[\"macro\"]),\n",
        "            color='navy', linestyle=':', linewidth=4)\n",
        "    \n",
        "    colors = cycle(['aqua', 'darkorange'])\n",
        "    #classes_list1 = [\"DE\",\"NE\",\"DK\"]\n",
        "    classes_list1 = [\"Non-duplicate\",\"Duplicate\"]\n",
        "    for i, color,c in zip(range(n_classes), colors,classes_list1):\n",
        "        plt.plot(fpr[i], tpr[i], color=color, lw=lw,\n",
        "                label='{0} (AUC = {1:0.2f})'\n",
        "                ''.format(c, roc_auc[i]))\n",
        "\n",
        "    plt.plot([0, 1], [0, 1], 'k--', lw=lw)\n",
        "    plt.xlim([0.0, 1.0])\n",
        "    plt.ylim([0.0, 1.05])\n",
        "    plt.xlabel('False Positive Rate')\n",
        "    plt.ylabel('True Positive Rate')\n",
        "    plt.title('Receiver operating characteristic curve')\n",
        "    plt.legend(loc=\"lower right\")\n",
        "    #plt.show()\n",
        "    plt.savefig('CNN1_Train_HASOC2020_Test_HASOC2019_TASK_A_Ger_Area_RocPlot.pdf',dpi=1000)\n",
        "    files.download('CNN1_Train_HASOC2020_Test_HASOC2019_TASK_A_Ger_Area_RocPlot.pdf')\n",
        "\n",
        "  \n",
        "\n"
      ],
      "metadata": {
        "id": "0IMSFAXwZ_Va"
      },
      "execution_count": null,
      "outputs": []
    },
    {
      "cell_type": "code",
      "source": [
        "plot_AUC_ROC(label_twoDimension_t,pred_test)"
      ],
      "metadata": {
        "colab": {
          "base_uri": "https://localhost:8080/"
        },
        "id": "f4qx5tmXaB0L",
        "outputId": "ef68efce-c258-49df-bc51-fda9eb153af8"
      },
      "execution_count": null,
      "outputs": [
        {
          "output_type": "stream",
          "name": "stderr",
          "text": [
            "/usr/local/lib/python3.7/dist-packages/ipykernel_launcher.py:36: DeprecationWarning: scipy.interp is deprecated and will be removed in SciPy 2.0.0, use numpy.interp instead\n"
          ]
        },
        {
          "output_type": "display_data",
          "data": {
            "text/plain": [
              "<IPython.core.display.Javascript object>"
            ],
            "application/javascript": [
              "\n",
              "    async function download(id, filename, size) {\n",
              "      if (!google.colab.kernel.accessAllowed) {\n",
              "        return;\n",
              "      }\n",
              "      const div = document.createElement('div');\n",
              "      const label = document.createElement('label');\n",
              "      label.textContent = `Downloading \"${filename}\": `;\n",
              "      div.appendChild(label);\n",
              "      const progress = document.createElement('progress');\n",
              "      progress.max = size;\n",
              "      div.appendChild(progress);\n",
              "      document.body.appendChild(div);\n",
              "\n",
              "      const buffers = [];\n",
              "      let downloaded = 0;\n",
              "\n",
              "      const channel = await google.colab.kernel.comms.open(id);\n",
              "      // Send a message to notify the kernel that we're ready.\n",
              "      channel.send({})\n",
              "\n",
              "      for await (const message of channel.messages) {\n",
              "        // Send a message to notify the kernel that we're ready.\n",
              "        channel.send({})\n",
              "        if (message.buffers) {\n",
              "          for (const buffer of message.buffers) {\n",
              "            buffers.push(buffer);\n",
              "            downloaded += buffer.byteLength;\n",
              "            progress.value = downloaded;\n",
              "          }\n",
              "        }\n",
              "      }\n",
              "      const blob = new Blob(buffers, {type: 'application/binary'});\n",
              "      const a = document.createElement('a');\n",
              "      a.href = window.URL.createObjectURL(blob);\n",
              "      a.download = filename;\n",
              "      div.appendChild(a);\n",
              "      a.click();\n",
              "      div.remove();\n",
              "    }\n",
              "  "
            ]
          },
          "metadata": {}
        },
        {
          "output_type": "display_data",
          "data": {
            "text/plain": [
              "<IPython.core.display.Javascript object>"
            ],
            "application/javascript": [
              "download(\"download_cd6a68e9-864e-488e-89ab-41937622119f\", \"CNN1_Train_HASOC2020_Test_HASOC2019_TASK_A_Ger_Area_RocPlot.pdf\", 21816)"
            ]
          },
          "metadata": {}
        },
        {
          "output_type": "display_data",
          "data": {
            "text/plain": [
              "<Figure size 432x288 with 1 Axes>"
            ],
            "image/png": "[encoded data removed]"
          },
          "metadata": {
            "needs_background": "light"
          }
        }
      ]
    }
  ]
}
