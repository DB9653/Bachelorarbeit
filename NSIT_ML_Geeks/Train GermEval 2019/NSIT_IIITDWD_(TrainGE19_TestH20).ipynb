{
  "nbformat": 4,
  "nbformat_minor": 0,
  "metadata": {
    "colab": {
      "provenance": [],
      "include_colab_link": true
    },
    "kernelspec": {
      "name": "python3",
      "display_name": "Python 3"
    },
    "language_info": {
      "name": "python"
    },
    "accelerator": "GPU"
  },
  "cells": [
    {
      "cell_type": "markdown",
      "metadata": {
        "id": "view-in-github",
        "colab_type": "text"
      },
      "source": [
        "<a href=\"https://colab.research.google.com/github/DB9653/Bachelorarbeit/blob/main/NSIT_IIITDWD_(TrainGE19_TestH20).ipynb\" target=\"_parent\"><img src=\"https://colab.research.google.com/assets/colab-badge.svg\" alt=\"Open In Colab\"/></a>"
      ]
    },
    {
      "cell_type": "markdown",
      "source": [
        "https://github.com/roushan-raj/HASOC-2020/blob/master/Models/German%20Models/German%20Sub-task%20A.ipynb\n"
      ],
      "metadata": {
        "id": "8pdYFRmoIhyM"
      }
    },
    {
      "cell_type": "code",
      "source": [
        "import tensorflow as tf\n",
        "tf.test.gpu_device_name()"
      ],
      "metadata": {
        "colab": {
          "base_uri": "https://localhost:8080/",
          "height": 35
        },
        "id": "hof4s6snVN0W",
        "outputId": "3381a1f4-4237-4d4d-c627-07cedd4070a3"
      },
      "execution_count": null,
      "outputs": [
        {
          "output_type": "execute_result",
          "data": {
            "text/plain": [
              "'/device:GPU:0'"
            ],
            "application/vnd.google.colaboratory.intrinsic+json": {
              "type": "string"
            }
          },
          "metadata": {},
          "execution_count": 1
        }
      ]
    },
    {
      "cell_type": "markdown",
      "source": [
        "\n",
        "# Dataset Reading\n"
      ],
      "metadata": {
        "id": "CU0P3rpqJMHH"
      }
    },
    {
      "cell_type": "code",
      "execution_count": null,
      "metadata": {
        "colab": {
          "base_uri": "https://localhost:8080/"
        },
        "id": "UtPbRsnBIVpd",
        "outputId": "8b723b87-b177-4228-c5e7-05f02dfec8ea"
      },
      "outputs": [
        {
          "output_type": "execute_result",
          "data": {
            "text/plain": [
              "                                                                                                                                                    text  \\\n",
              "0                                                      @jouwatch Hat die Polizei keine Kanone mehr ? 20 mal in die Munition laufen lassen und Ruhe ist .   \n",
              "1  @de_sputnik @Saudi Arabien habt ihr mal wieder einen Orgasmus gebaucht oder weswegen habt ihr die Frau gekillt ? Erzählt mit aber nicht so einen v...   \n",
              "2    Glaube ich nicht , die Bundesregierung so wie die Justiz ist so was von Korrupt und arbeiten so fleißig zusammen , das dies nicht erscheinen wird .   \n",
              "3  \" Doch schockierend viele Jugendliche wissen kaum mehr etwas über den Holocaust. \" Das ist nicht schockierend das ist gut so . Wie sollen junge Me...   \n",
              "4                             Sein Charakter war ihm wichtiger anstatt als billige Nute für Korrupte Regierungen zu arbeiten .Er hat das Leben begriffen   \n",
              "5  @de_sputnik @JPN_PMO \" Obwohl das US-Militär gemäß dem Sicherheitsvertrag zwischen den USA und Japan das Recht hat Land und Kapazitäten auf dem Te...   \n",
              "6  Warum schalten sich die verdammten Schmierenkomödianten nicht dann ein wenn das schiff 40 km vor der Libyschen Küste ist anstatt sie weit auf,s Me...   \n",
              "7  Ob Jesus für das oder jenes Starb ist doch wohl Scheißegal , wir leben im hier und jetzt und sollten versuchen ein vernümftiges Leben auf zu bauen...   \n",
              "8  @de_sputnik Ob Jesus für das oder jenes Starb ist doch wohl Scheißegal , wir leben im hier und jetzt und sollten versuchen ein vernümftiges Leben ...   \n",
              "9                Das ist allerdings wahr , jeder Amerikaner weiß das der Tot Amerika aufgebaut hat und immer weiter versucht auf diese Basis auszubauen.   \n",
              "\n",
              "     task1      task2  \n",
              "0  OFFENSE      ABUSE  \n",
              "1  OFFENSE      ABUSE  \n",
              "2  OFFENSE      ABUSE  \n",
              "3  OFFENSE  PROFANITY  \n",
              "4  OFFENSE  PROFANITY  \n",
              "5  OFFENSE      ABUSE  \n",
              "6  OFFENSE  PROFANITY  \n",
              "7  OFFENSE  PROFANITY  \n",
              "8  OFFENSE  PROFANITY  \n",
              "9  OFFENSE      ABUSE  "
            ],
            "text/html": [
              "\n",
              "  <div id=\"df-5bea139c-ad61-409a-ae9d-5c511d764ccb\">\n",
              "    <div class=\"colab-df-container\">\n",
              "      <div>\n",
              "<style scoped>\n",
              "    .dataframe tbody tr th:only-of-type {\n",
              "        vertical-align: middle;\n",
              "    }\n",
              "\n",
              "    .dataframe tbody tr th {\n",
              "        vertical-align: top;\n",
              "    }\n",
              "\n",
              "    .dataframe thead th {\n",
              "        text-align: right;\n",
              "    }\n",
              "</style>\n",
              "<table border=\"1\" class=\"dataframe\">\n",
              "  <thead>\n",
              "    <tr style=\"text-align: right;\">\n",
              "      <th></th>\n",
              "      <th>text</th>\n",
              "      <th>task1</th>\n",
              "      <th>task2</th>\n",
              "    </tr>\n",
              "  </thead>\n",
              "  <tbody>\n",
              "    <tr>\n",
              "      <th>0</th>\n",
              "      <td>@jouwatch Hat die Polizei keine Kanone mehr ? 20 mal in die Munition laufen lassen und Ruhe ist .</td>\n",
              "      <td>OFFENSE</td>\n",
              "      <td>ABUSE</td>\n",
              "    </tr>\n",
              "    <tr>\n",
              "      <th>1</th>\n",
              "      <td>@de_sputnik @Saudi Arabien habt ihr mal wieder einen Orgasmus gebaucht oder weswegen habt ihr die Frau gekillt ? Erzählt mit aber nicht so einen v...</td>\n",
              "      <td>OFFENSE</td>\n",
              "      <td>ABUSE</td>\n",
              "    </tr>\n",
              "    <tr>\n",
              "      <th>2</th>\n",
              "      <td>Glaube ich nicht , die Bundesregierung so wie die Justiz ist so was von Korrupt und arbeiten so fleißig zusammen , das dies nicht erscheinen wird .</td>\n",
              "      <td>OFFENSE</td>\n",
              "      <td>ABUSE</td>\n",
              "    </tr>\n",
              "    <tr>\n",
              "      <th>3</th>\n",
              "      <td>\" Doch schockierend viele Jugendliche wissen kaum mehr etwas über den Holocaust. \" Das ist nicht schockierend das ist gut so . Wie sollen junge Me...</td>\n",
              "      <td>OFFENSE</td>\n",
              "      <td>PROFANITY</td>\n",
              "    </tr>\n",
              "    <tr>\n",
              "      <th>4</th>\n",
              "      <td>Sein Charakter war ihm wichtiger anstatt als billige Nute für Korrupte Regierungen zu arbeiten .Er hat das Leben begriffen</td>\n",
              "      <td>OFFENSE</td>\n",
              "      <td>PROFANITY</td>\n",
              "    </tr>\n",
              "    <tr>\n",
              "      <th>5</th>\n",
              "      <td>@de_sputnik @JPN_PMO \" Obwohl das US-Militär gemäß dem Sicherheitsvertrag zwischen den USA und Japan das Recht hat Land und Kapazitäten auf dem Te...</td>\n",
              "      <td>OFFENSE</td>\n",
              "      <td>ABUSE</td>\n",
              "    </tr>\n",
              "    <tr>\n",
              "      <th>6</th>\n",
              "      <td>Warum schalten sich die verdammten Schmierenkomödianten nicht dann ein wenn das schiff 40 km vor der Libyschen Küste ist anstatt sie weit auf,s Me...</td>\n",
              "      <td>OFFENSE</td>\n",
              "      <td>PROFANITY</td>\n",
              "    </tr>\n",
              "    <tr>\n",
              "      <th>7</th>\n",
              "      <td>Ob Jesus für das oder jenes Starb ist doch wohl Scheißegal , wir leben im hier und jetzt und sollten versuchen ein vernümftiges Leben auf zu bauen...</td>\n",
              "      <td>OFFENSE</td>\n",
              "      <td>PROFANITY</td>\n",
              "    </tr>\n",
              "    <tr>\n",
              "      <th>8</th>\n",
              "      <td>@de_sputnik Ob Jesus für das oder jenes Starb ist doch wohl Scheißegal , wir leben im hier und jetzt und sollten versuchen ein vernümftiges Leben ...</td>\n",
              "      <td>OFFENSE</td>\n",
              "      <td>PROFANITY</td>\n",
              "    </tr>\n",
              "    <tr>\n",
              "      <th>9</th>\n",
              "      <td>Das ist allerdings wahr , jeder Amerikaner weiß das der Tot Amerika aufgebaut hat und immer weiter versucht auf diese Basis auszubauen.</td>\n",
              "      <td>OFFENSE</td>\n",
              "      <td>ABUSE</td>\n",
              "    </tr>\n",
              "  </tbody>\n",
              "</table>\n",
              "</div>\n",
              "      <button class=\"colab-df-convert\" onclick=\"convertToInteractive('df-5bea139c-ad61-409a-ae9d-5c511d764ccb')\"\n",
              "              title=\"Convert this dataframe to an interactive table.\"\n",
              "              style=\"display:none;\">\n",
              "        \n",
              "  <svg xmlns=\"http://www.w3.org/2000/svg\" height=\"24px\"viewBox=\"0 0 24 24\"\n",
              "       width=\"24px\">\n",
              "    <path d=\"M0 0h24v24H0V0z\" fill=\"none\"/>\n",
              "    <path d=\"M18.56 5.44l.94 2.06.94-2.06 2.06-.94-2.06-.94-.94-2.06-.94 2.06-2.06.94zm-11 1L8.5 8.5l.94-2.06 2.06-.94-2.06-.94L8.5 2.5l-.94 2.06-2.06.94zm10 10l.94 2.06.94-2.06 2.06-.94-2.06-.94-.94-2.06-.94 2.06-2.06.94z\"/><path d=\"M17.41 7.96l-1.37-1.37c-.4-.4-.92-.59-1.43-.59-.52 0-1.04.2-1.43.59L10.3 9.45l-7.72 7.72c-.78.78-.78 2.05 0 2.83L4 21.41c.39.39.9.59 1.41.59.51 0 1.02-.2 1.41-.59l7.78-7.78 2.81-2.81c.8-.78.8-2.07 0-2.86zM5.41 20L4 18.59l7.72-7.72 1.47 1.35L5.41 20z\"/>\n",
              "  </svg>\n",
              "      </button>\n",
              "      \n",
              "  <style>\n",
              "    .colab-df-container {\n",
              "      display:flex;\n",
              "      flex-wrap:wrap;\n",
              "      gap: 12px;\n",
              "    }\n",
              "\n",
              "    .colab-df-convert {\n",
              "      background-color: #E8F0FE;\n",
              "      border: none;\n",
              "      border-radius: 50%;\n",
              "      cursor: pointer;\n",
              "      display: none;\n",
              "      fill: #1967D2;\n",
              "      height: 32px;\n",
              "      padding: 0 0 0 0;\n",
              "      width: 32px;\n",
              "    }\n",
              "\n",
              "    .colab-df-convert:hover {\n",
              "      background-color: #E2EBFA;\n",
              "      box-shadow: 0px 1px 2px rgba(60, 64, 67, 0.3), 0px 1px 3px 1px rgba(60, 64, 67, 0.15);\n",
              "      fill: #174EA6;\n",
              "    }\n",
              "\n",
              "    [theme=dark] .colab-df-convert {\n",
              "      background-color: #3B4455;\n",
              "      fill: #D2E3FC;\n",
              "    }\n",
              "\n",
              "    [theme=dark] .colab-df-convert:hover {\n",
              "      background-color: #434B5C;\n",
              "      box-shadow: 0px 1px 3px 1px rgba(0, 0, 0, 0.15);\n",
              "      filter: drop-shadow(0px 1px 2px rgba(0, 0, 0, 0.3));\n",
              "      fill: #FFFFFF;\n",
              "    }\n",
              "  </style>\n",
              "\n",
              "      <script>\n",
              "        const buttonEl =\n",
              "          document.querySelector('#df-5bea139c-ad61-409a-ae9d-5c511d764ccb button.colab-df-convert');\n",
              "        buttonEl.style.display =\n",
              "          google.colab.kernel.accessAllowed ? 'block' : 'none';\n",
              "\n",
              "        async function convertToInteractive(key) {\n",
              "          const element = document.querySelector('#df-5bea139c-ad61-409a-ae9d-5c511d764ccb');\n",
              "          const dataTable =\n",
              "            await google.colab.kernel.invokeFunction('convertToInteractive',\n",
              "                                                     [key], {});\n",
              "          if (!dataTable) return;\n",
              "\n",
              "          const docLinkHtml = 'Like what you see? Visit the ' +\n",
              "            '<a target=\"_blank\" href=https://colab.research.google.com/notebooks/data_table.ipynb>data table notebook</a>'\n",
              "            + ' to learn more about interactive tables.';\n",
              "          element.innerHTML = '';\n",
              "          dataTable['output_type'] = 'display_data';\n",
              "          await google.colab.output.renderOutput(dataTable, element);\n",
              "          const docLink = document.createElement('div');\n",
              "          docLink.innerHTML = docLinkHtml;\n",
              "          element.appendChild(docLink);\n",
              "        }\n",
              "      </script>\n",
              "    </div>\n",
              "  </div>\n",
              "  "
            ]
          },
          "metadata": {},
          "execution_count": 2
        }
      ],
      "source": [
        "import csv\n",
        "import pandas as pd \n",
        "#data = pd.read_excel('/content/hasoc_2020_de_train_new_a.xlsx', converters={'tweet_id':int})\n",
        "data = pd.read_csv(\"/content/germeval2019.training_subtask1_2_korrigiert.txt\",sep=\"\\t\", encoding = \"UTF-8\", quoting=csv.QUOTE_NONE, names=(\"text\", \"task1\", \"task2\"))\n",
        "pd.set_option('display.max_colwidth',150)\n",
        "data.head(10)"
      ]
    },
    {
      "cell_type": "code",
      "source": [
        "data.shape"
      ],
      "metadata": {
        "colab": {
          "base_uri": "https://localhost:8080/"
        },
        "id": "UaxJGj2BJA-_",
        "outputId": "8814d2a1-6529-4c9c-8f0a-2a61c7a318e8"
      },
      "execution_count": null,
      "outputs": [
        {
          "output_type": "execute_result",
          "data": {
            "text/plain": [
              "(3995, 3)"
            ]
          },
          "metadata": {},
          "execution_count": 3
        }
      ]
    },
    {
      "cell_type": "code",
      "source": [
        "print(data.dtypes)"
      ],
      "metadata": {
        "colab": {
          "base_uri": "https://localhost:8080/"
        },
        "id": "4F6snrckJDhs",
        "outputId": "019bd6d9-09cd-47c4-fcb8-5dbfd7c218fc"
      },
      "execution_count": null,
      "outputs": [
        {
          "output_type": "stream",
          "name": "stdout",
          "text": [
            "text     object\n",
            "task1    object\n",
            "task2    object\n",
            "dtype: object\n"
          ]
        }
      ]
    },
    {
      "cell_type": "markdown",
      "source": [
        "# Making of \"label\" Variable\n"
      ],
      "metadata": {
        "id": "kK4jE-XuJN3r"
      }
    },
    {
      "cell_type": "code",
      "source": [
        "label = data['task1']\n",
        "label.head()"
      ],
      "metadata": {
        "colab": {
          "base_uri": "https://localhost:8080/"
        },
        "id": "8UB11BsEJF-U",
        "outputId": "2ba643eb-e0ed-498f-fa5c-8a71d462415d"
      },
      "execution_count": null,
      "outputs": [
        {
          "output_type": "execute_result",
          "data": {
            "text/plain": [
              "0    OFFENSE\n",
              "1    OFFENSE\n",
              "2    OFFENSE\n",
              "3    OFFENSE\n",
              "4    OFFENSE\n",
              "Name: task1, dtype: object"
            ]
          },
          "metadata": {},
          "execution_count": 5
        }
      ]
    },
    {
      "cell_type": "markdown",
      "source": [
        "# Checking Dataset Balancing\n"
      ],
      "metadata": {
        "id": "HM112SzAJW-z"
      }
    },
    {
      "cell_type": "code",
      "source": [
        "print(label.value_counts())\n",
        "import matplotlib.pyplot as plt\n",
        "label.value_counts().plot(kind='bar', color='blue')"
      ],
      "metadata": {
        "colab": {
          "base_uri": "https://localhost:8080/"
        },
        "id": "wxq3PRLwJVIQ",
        "outputId": "4205098e-c493-457a-80d4-87cbf75576d6"
      },
      "execution_count": null,
      "outputs": [
        {
          "output_type": "stream",
          "name": "stdout",
          "text": [
            "OTHER      2708\n",
            "OFFENSE    1287\n",
            "Name: task1, dtype: int64\n"
          ]
        },
        {
          "output_type": "execute_result",
          "data": {
            "text/plain": [
              "<matplotlib.axes._subplots.AxesSubplot at 0x7f75200942d0>"
            ]
          },
          "metadata": {},
          "execution_count": 6
        },
        {
          "output_type": "display_data",
          "data": {
            "text/plain": [
              "<Figure size 432x288 with 1 Axes>"
            ],
            "image/png": "[encoded data removed]"
          },
          "metadata": {
            "needs_background": "light"
          }
        }
      ]
    },
    {
      "cell_type": "markdown",
      "source": [
        "# Converting label into \"0\" or \"1\"\n"
      ],
      "metadata": {
        "id": "IiBz2hcFJdIF"
      }
    },
    {
      "cell_type": "code",
      "source": [
        "import numpy as np\n",
        "classes_list = [\"OFFENSE\",\"OTHER\"]\n",
        "label_index = data['task1'].apply(classes_list.index)\n",
        "final_label = np.asarray(label_index)\n",
        "print(final_label[:10])\n",
        "\n"
      ],
      "metadata": {
        "colab": {
          "base_uri": "https://localhost:8080/"
        },
        "id": "iaAQQh4kJZ1X",
        "outputId": "225be313-1fa0-427f-b98b-d6f523882543"
      },
      "execution_count": null,
      "outputs": [
        {
          "output_type": "stream",
          "name": "stdout",
          "text": [
            "[0 0 0 0 0 0 0 0 0 0]\n"
          ]
        }
      ]
    },
    {
      "cell_type": "code",
      "source": [
        "from keras.utils.np_utils import to_categorical\n",
        "label_twoDimension = to_categorical(final_label, num_classes=2)"
      ],
      "metadata": {
        "id": "DHcylJMvJhLu"
      },
      "execution_count": null,
      "outputs": []
    },
    {
      "cell_type": "code",
      "source": [
        "print(label_twoDimension[:10])"
      ],
      "metadata": {
        "colab": {
          "base_uri": "https://localhost:8080/"
        },
        "id": "1NGqjeVBJjbM",
        "outputId": "806e0844-0d98-498b-8ccd-287bbed98585"
      },
      "execution_count": null,
      "outputs": [
        {
          "output_type": "stream",
          "name": "stdout",
          "text": [
            "[[1. 0.]\n",
            " [1. 0.]\n",
            " [1. 0.]\n",
            " [1. 0.]\n",
            " [1. 0.]\n",
            " [1. 0.]\n",
            " [1. 0.]\n",
            " [1. 0.]\n",
            " [1. 0.]\n",
            " [1. 0.]]\n"
          ]
        }
      ]
    },
    {
      "cell_type": "markdown",
      "source": [
        "# Making of \"text\" Variable\n"
      ],
      "metadata": {
        "id": "nqRHYUSBJl0K"
      }
    },
    {
      "cell_type": "code",
      "source": [
        "text = data['text']\n",
        "text.head(10)\n",
        "\n"
      ],
      "metadata": {
        "colab": {
          "base_uri": "https://localhost:8080/"
        },
        "id": "ZZ_FmnnqJjpU",
        "outputId": "b75ca45d-0384-4eb9-abf5-a3be1264ccad"
      },
      "execution_count": null,
      "outputs": [
        {
          "output_type": "execute_result",
          "data": {
            "text/plain": [
              "0                                                        @jouwatch Hat die Polizei keine Kanone mehr ? 20 mal in die Munition laufen lassen und Ruhe ist .\n",
              "1    @de_sputnik @Saudi Arabien habt ihr mal wieder einen Orgasmus gebaucht oder weswegen habt ihr die Frau gekillt ? Erzählt mit aber nicht so einen v...\n",
              "2      Glaube ich nicht , die Bundesregierung so wie die Justiz ist so was von Korrupt und arbeiten so fleißig zusammen , das dies nicht erscheinen wird .\n",
              "3    \" Doch schockierend viele Jugendliche wissen kaum mehr etwas über den Holocaust. \" Das ist nicht schockierend das ist gut so . Wie sollen junge Me...\n",
              "4                               Sein Charakter war ihm wichtiger anstatt als billige Nute für Korrupte Regierungen zu arbeiten .Er hat das Leben begriffen\n",
              "5    @de_sputnik @JPN_PMO \" Obwohl das US-Militär gemäß dem Sicherheitsvertrag zwischen den USA und Japan das Recht hat Land und Kapazitäten auf dem Te...\n",
              "6    Warum schalten sich die verdammten Schmierenkomödianten nicht dann ein wenn das schiff 40 km vor der Libyschen Küste ist anstatt sie weit auf,s Me...\n",
              "7    Ob Jesus für das oder jenes Starb ist doch wohl Scheißegal , wir leben im hier und jetzt und sollten versuchen ein vernümftiges Leben auf zu bauen...\n",
              "8    @de_sputnik Ob Jesus für das oder jenes Starb ist doch wohl Scheißegal , wir leben im hier und jetzt und sollten versuchen ein vernümftiges Leben ...\n",
              "9                  Das ist allerdings wahr , jeder Amerikaner weiß das der Tot Amerika aufgebaut hat und immer weiter versucht auf diese Basis auszubauen.\n",
              "Name: text, dtype: object"
            ]
          },
          "metadata": {},
          "execution_count": 10
        }
      ]
    },
    {
      "cell_type": "markdown",
      "source": [
        "# Dataset Pre-processing\n"
      ],
      "metadata": {
        "id": "5vgUgPviJteq"
      }
    },
    {
      "cell_type": "code",
      "source": [
        "def remove_umlaut(string):\n",
        "    \"\"\"\n",
        "    Removes umlauts from strings and replaces them with the letter+e convention\n",
        "    :param string: string to remove umlauts from\n",
        "    :return: unumlauted string\n",
        "    \"\"\"\n",
        "    u = 'ü'.encode()\n",
        "    U = 'Ü'.encode()\n",
        "    a = 'ä'.encode()\n",
        "    A = 'Ä'.encode()\n",
        "    o = 'ö'.encode()\n",
        "    O = 'Ö'.encode()\n",
        "    ss = 'ß'.encode()\n",
        "\n",
        "    string = string.encode()\n",
        "    string = string.replace(u, b'ue')\n",
        "    string = string.replace(U, b'Ue')\n",
        "    string = string.replace(a, b'ae')\n",
        "    string = string.replace(A, b'Ae')\n",
        "    string = string.replace(o, b'oe')\n",
        "    string = string.replace(O, b'Oe')\n",
        "    string = string.replace(ss, b'ss')\n",
        "\n",
        "    string = string.decode('utf-8')\n",
        "    return string"
      ],
      "metadata": {
        "id": "DGwiXYyoJNa5"
      },
      "execution_count": null,
      "outputs": []
    },
    {
      "cell_type": "code",
      "source": [
        "text_wo_umlauts = text.apply(lambda x:remove_umlaut(x))\n",
        "text_wo_umlauts.head(10)"
      ],
      "metadata": {
        "colab": {
          "base_uri": "https://localhost:8080/"
        },
        "id": "rRDXJUlkJQkB",
        "outputId": "76176683-cb8c-484d-de5b-ba1ddaf6a553"
      },
      "execution_count": null,
      "outputs": [
        {
          "output_type": "execute_result",
          "data": {
            "text/plain": [
              "0                                                        @jouwatch Hat die Polizei keine Kanone mehr ? 20 mal in die Munition laufen lassen und Ruhe ist .\n",
              "1    @de_sputnik @Saudi Arabien habt ihr mal wieder einen Orgasmus gebaucht oder weswegen habt ihr die Frau gekillt ? Erzaehlt mit aber nicht so einen ...\n",
              "2     Glaube ich nicht , die Bundesregierung so wie die Justiz ist so was von Korrupt und arbeiten so fleissig zusammen , das dies nicht erscheinen wird .\n",
              "3    \" Doch schockierend viele Jugendliche wissen kaum mehr etwas ueber den Holocaust. \" Das ist nicht schockierend das ist gut so . Wie sollen junge M...\n",
              "4                              Sein Charakter war ihm wichtiger anstatt als billige Nute fuer Korrupte Regierungen zu arbeiten .Er hat das Leben begriffen\n",
              "5    @de_sputnik @JPN_PMO \" Obwohl das US-Militaer gemaess dem Sicherheitsvertrag zwischen den USA und Japan das Recht hat Land und Kapazitaeten auf de...\n",
              "6    Warum schalten sich die verdammten Schmierenkomoedianten nicht dann ein wenn das schiff 40 km vor der Libyschen Kueste ist anstatt sie weit auf,s ...\n",
              "7    Ob Jesus fuer das oder jenes Starb ist doch wohl Scheissegal , wir leben im hier und jetzt und sollten versuchen ein vernuemftiges Leben auf zu ba...\n",
              "8    @de_sputnik Ob Jesus fuer das oder jenes Starb ist doch wohl Scheissegal , wir leben im hier und jetzt und sollten versuchen ein vernuemftiges Leb...\n",
              "9                 Das ist allerdings wahr , jeder Amerikaner weiss das der Tot Amerika aufgebaut hat und immer weiter versucht auf diese Basis auszubauen.\n",
              "Name: text, dtype: object"
            ]
          },
          "metadata": {},
          "execution_count": 12
        }
      ]
    },
    {
      "cell_type": "code",
      "source": [
        "\n",
        "\n",
        "import re \n",
        "\n",
        "def text_clean(text):\n",
        "    ''' Pre process and convert texts to a list of words '''\n",
        "    \n",
        "    text=text.lower()\n",
        "\n",
        "    # Clean the text\n",
        "    text = re.sub(r\"[^A-Za-z0-9^,!.\\/'+-=]\", \" \", text)\n",
        "    text = re.sub('https?://\\S+|www\\.\\S+', \"\", text)\n",
        "    text = re.sub(r\"rt\", \" \", text)\n",
        "\n",
        "    return text\n",
        "\n"
      ],
      "metadata": {
        "id": "iP9R4lCkJrSn"
      },
      "execution_count": null,
      "outputs": []
    },
    {
      "cell_type": "code",
      "source": [],
      "metadata": {
        "id": "1yA10s9pJT9c"
      },
      "execution_count": null,
      "outputs": []
    },
    {
      "cell_type": "code",
      "source": [
        "clean_text = text_wo_umlauts.apply(lambda x:text_clean(x))"
      ],
      "metadata": {
        "id": "btvahRPaJwkh"
      },
      "execution_count": null,
      "outputs": []
    },
    {
      "cell_type": "code",
      "source": [
        "clean_text.head(10)"
      ],
      "metadata": {
        "colab": {
          "base_uri": "https://localhost:8080/"
        },
        "id": "rVm6XFqoJyPl",
        "outputId": "a51748b0-82f9-4a29-eb73-970efda96238"
      },
      "execution_count": null,
      "outputs": [
        {
          "output_type": "execute_result",
          "data": {
            "text/plain": [
              "0                                                         jouwatch hat die polizei keine kanone mehr   20 mal in die munition laufen lassen und ruhe ist .\n",
              "1     de sputnik  saudi arabien habt ihr mal wieder einen orgasmus gebaucht oder weswegen habt ihr die frau gekillt   erzaehlt mit aber nicht so einen ...\n",
              "2     glaube ich nicht , die bundesregierung so wie die justiz ist so was von korrupt und arbeiten so fleissig zusammen , das dies nicht erscheinen wird .\n",
              "3      doch schockierend viele jugendliche wissen kaum mehr etwas ueber den holocaust.   das ist nicht schockierend das ist gut so . wie sollen junge m...\n",
              "4                              sein charakter war ihm wichtiger anstatt als billige nute fuer korrupte regierungen zu arbeiten .er hat das leben begriffen\n",
              "5     de sputnik  jpn pmo   obwohl das us-militaer gemaess dem sicherheitsve rag zwischen den usa und japan das recht hat land und kapazitaeten auf dem...\n",
              "6    warum schalten sich die verdammten schmierenkomoedianten nicht dann ein wenn das schiff 40 km vor der libyschen kueste ist anstatt sie weit auf,s ...\n",
              "7    ob jesus fuer das oder jenes starb ist doch wohl scheissegal , wir leben im hier und jetzt und sollten versuchen ein vernuemftiges leben auf zu ba...\n",
              "8     de sputnik ob jesus fuer das oder jenes starb ist doch wohl scheissegal , wir leben im hier und jetzt und sollten versuchen ein vernuemftiges leb...\n",
              "9                 das ist allerdings wahr , jeder amerikaner weiss das der tot amerika aufgebaut hat und immer weiter versucht auf diese basis auszubauen.\n",
              "Name: text, dtype: object"
            ]
          },
          "metadata": {},
          "execution_count": 15
        }
      ]
    },
    {
      "cell_type": "markdown",
      "source": [
        "# Removing stopwords\n"
      ],
      "metadata": {
        "id": "Cr_9fbmQJ14E"
      }
    },
    {
      "cell_type": "code",
      "source": [
        "import nltk\n",
        "from nltk.corpus import stopwords\n",
        "nltk.download('stopwords')\n",
        "def stop_words_removal(text1):\n",
        "    text1=[w for w in  text1.split(\" \")  if w not in stopwords.words('german')]\n",
        "    return \" \".join(text1)"
      ],
      "metadata": {
        "colab": {
          "base_uri": "https://localhost:8080/"
        },
        "id": "fnKAVUGKJzkf",
        "outputId": "af97cd63-325c-4252-ab05-dbfd7c399bea"
      },
      "execution_count": null,
      "outputs": [
        {
          "output_type": "stream",
          "name": "stderr",
          "text": [
            "[nltk_data] Downloading package stopwords to /root/nltk_data...\n",
            "[nltk_data]   Unzipping corpora/stopwords.zip.\n"
          ]
        }
      ]
    },
    {
      "cell_type": "code",
      "source": [
        "clean_text_ns=clean_text.apply(lambda x: stop_words_removal(x))"
      ],
      "metadata": {
        "id": "EAe2hR7jJ5R8"
      },
      "execution_count": null,
      "outputs": []
    },
    {
      "cell_type": "code",
      "source": [
        "print(clean_text_ns.head(10))"
      ],
      "metadata": {
        "colab": {
          "base_uri": "https://localhost:8080/"
        },
        "id": "hMapIVGXJ7Cf",
        "outputId": "b5e8a9d7-82ba-493c-f37d-865497e98e7f"
      },
      "execution_count": null,
      "outputs": [
        {
          "output_type": "stream",
          "name": "stdout",
          "text": [
            "0                                                                                      jouwatch polizei kanone mehr   20 mal munition laufen lassen ruhe .\n",
            "1     de sputnik  saudi arabien habt mal orgasmus gebaucht weswegen habt frau gekillt   erzaehlt verlogenen scheissdreck bezogen   gemordet luegen seit...\n",
            "2                                                                        glaube , bundesregierung justiz korrupt arbeiten fleissig zusammen , erscheinen .\n",
            "3      schockierend viele jugendliche wissen kaum mehr ueber holocaust.   schockierend gut . sollen junge menschen freundschaften juden entwickeln ,wen...\n",
            "4                                                          charakter wichtiger anstatt billige nute fuer korrupte regierungen arbeiten .er leben begriffen\n",
            "5     de sputnik  jpn pmo   obwohl us-militaer gemaess sicherheitsve rag usa japan recht land kapazitaeten territorium japans nutzen,   munde zergehen ...\n",
            "6                                        warum schalten verdammten schmierenkomoedianten schiff 40 km libyschen kueste anstatt weit auf,s meer schippern  \n",
            "7                  jesus fuer starb wohl scheissegal , leben sollten versuchen vernuemftiges leben bauen gerechtes menschen gleich individualitaet leben .\n",
            "8                             de sputnik jesus fuer starb wohl scheissegal , leben sollten versuchen vernuemftiges leben bauen gerechtes menschen gleich .\n",
            "9                                                                allerdings wahr , amerikaner weiss tot amerika aufgebaut immer versucht basis auszubauen.\n",
            "Name: text, dtype: object\n"
          ]
        }
      ]
    },
    {
      "cell_type": "markdown",
      "source": [
        "# Lemmatization"
      ],
      "metadata": {
        "id": "UbNspWraJ-a5"
      }
    },
    {
      "cell_type": "markdown",
      "source": [
        "# Stemming"
      ],
      "metadata": {
        "id": "cGRUIHNgKB8P"
      }
    },
    {
      "cell_type": "code",
      "source": [
        "\n",
        "\n",
        "# Stemming\n",
        "from nltk.stem import SnowballStemmer \n",
        "stemmer = SnowballStemmer(\"german\")\n",
        "\n",
        "def word_stemmer(text):\n",
        "    stem_text = \"\".join([stemmer.stem(i) for i in text])\n",
        "    return stem_text\n",
        "\n"
      ],
      "metadata": {
        "id": "xzacVq1jJ8ru"
      },
      "execution_count": null,
      "outputs": []
    },
    {
      "cell_type": "code",
      "source": [
        "clean_text_stem = clean_text_ns.apply(lambda x : word_stemmer(x))"
      ],
      "metadata": {
        "id": "gLvtC-DlKFJ3"
      },
      "execution_count": null,
      "outputs": []
    },
    {
      "cell_type": "code",
      "source": [
        "print(clean_text_stem.head())"
      ],
      "metadata": {
        "colab": {
          "base_uri": "https://localhost:8080/"
        },
        "id": "hLTYkzd6KGpw",
        "outputId": "ff8efba4-44e9-40d3-c594-db2c448a0c70"
      },
      "execution_count": null,
      "outputs": [
        {
          "output_type": "stream",
          "name": "stdout",
          "text": [
            "0                                                                                      jouwatch polizei kanone mehr   20 mal munition laufen lassen ruhe .\n",
            "1     de sputnik  saudi arabien habt mal orgasmus gebaucht weswegen habt frau gekillt   erzaehlt verlogenen scheissdreck bezogen   gemordet luegen seit...\n",
            "2                                                                        glaube , bundesregierung justiz korrupt arbeiten fleissig zusammen , erscheinen .\n",
            "3      schockierend viele jugendliche wissen kaum mehr ueber holocaust.   schockierend gut . sollen junge menschen freundschaften juden entwickeln ,wen...\n",
            "4                                                          charakter wichtiger anstatt billige nute fuer korrupte regierungen arbeiten .er leben begriffen\n",
            "Name: text, dtype: object\n"
          ]
        }
      ]
    },
    {
      "cell_type": "markdown",
      "source": [
        "# Tokenization using \"keras\"\n"
      ],
      "metadata": {
        "id": "aqZfKW9_KId4"
      }
    },
    {
      "cell_type": "code",
      "source": [
        "import keras\n",
        "import tensorflow\n",
        "from keras.preprocessing.text import Tokenizer\n",
        "tok_all = Tokenizer(filters='!\"#$%&\\'()*+,-./:;<=>?@[\\\\]^_`{|}~', lower=True, char_level = False)\n",
        "tok_all.fit_on_texts(clean_text_stem)"
      ],
      "metadata": {
        "id": "64oQb-b9KL7d"
      },
      "execution_count": null,
      "outputs": []
    },
    {
      "cell_type": "markdown",
      "source": [
        "# Making Vocab for words\n"
      ],
      "metadata": {
        "id": "Azliz45-KOH2"
      }
    },
    {
      "cell_type": "code",
      "source": [
        "vocabulary_all = len(tok_all.word_counts)\n",
        "print(vocabulary_all)"
      ],
      "metadata": {
        "colab": {
          "base_uri": "https://localhost:8080/"
        },
        "id": "kjRctAdKKNqA",
        "outputId": "74d3bc3d-c37b-4068-f964-0451c8098d2c"
      },
      "execution_count": null,
      "outputs": [
        {
          "output_type": "stream",
          "name": "stdout",
          "text": [
            "16773\n"
          ]
        }
      ]
    },
    {
      "cell_type": "code",
      "source": [
        "\n",
        "\n",
        "l = tok_all.word_index\n",
        "print(l)\n",
        "\n"
      ],
      "metadata": {
        "colab": {
          "base_uri": "https://localhost:8080/"
        },
        "id": "ruZahltoKSBk",
        "outputId": "584ef330-18e1-416e-9431-30e3d53a4b97"
      },
      "execution_count": null,
      "outputs": [
        {
          "output_type": "stream",
          "name": "stdout",
          "text": [
            "{'u': 1, 'lbr': 2, 'fuer': 3, 'ja': 4, 'mal': 5, 'schon': 6, 'mehr': 7, 'heute': 8, 'immer': 9, '0001f602': 10, 'uhr': 11, 'gibt': 12, 'afd': 13, 'menschen': 14, 'geht': 15, 'nicht': 16, 'ueber': 17, 'aachen': 18, 'en': 19, 'ist': 20, 'e': 21, 'deutschland': 22, 'ab': 23, 'spd': 24, 'gut': 25, 'wer': 26, '0001f44b': 27, 'a': 28, 'amp': 29, 'fe0f': 30, 'einfach': 31, 'koennen': 32, 'warum': 33, 'kommt': 34, 'ganz': 35, 'macht': 36, 'pa': 37, 'blockupy': 38, 'stegner': 39, 's': 40, '200d': 41, 'hat': 42, 'seit': 43, 'az': 44, 'merkel': 45, '00': 46, 'sein': 47, '2': 48, 'genau': 49, '1': 50, '30': 51, 'danke': 52, 'wuerde': 53, 'eigentlich': 54, '18': 55, 'lassen': 56, 'deutsche': 57, 'werden': 58, '20': 59, 'muessen': 60, 'hast': 61, 'ralf': 62, 'do': 63, 'eu': 64, 'endlich': 65, 'waere': 66, 'bitte': 67, 'nazis': 68, 'haben': 69, 'frankfu': 70, 'morgen': 71, 'wirklich': 72, 'welt': 73, 'demo': 74, 'cdu': 75, 'wurde': 76, 'sind': 77, 'dafuer': 78, 'bild': 79, 'tag': 80, 'gar': 81, 'frau': 82, 'land': 83, 'antifa': 84, 'zusammen': 85, 'politik': 86, 'richtig': 87, 'frauen': 88, 'wohl': 89, 'natuerlich': 90, 'zeit': 91, 'gerade': 92, 'd': 93, 'venezuela': 94, 'gruenen': 95, 'frage': 96, 'jahren': 97, 've': 98, '19': 99, '0001f609': 100, 'leben': 101, 'tun': 102, 'besser': 103, 'ei': 104, 'maltekaufmann': 105, 'woche': 106, 'robe': 107, 'viele': 108, 'wird': 109, 'erst': 110, 'vielleicht': 111, 'schoen': 112, 'sagen': 113, '0001f923': 114, '0001f914': 115, 'nein': 116, 'buerger': 117, 'hambibleibt': 118, 'so': 119, 'sollen': 120, 'deutschen': 121, 'kommen': 122, 'wissen': 123, 'weiss': 124, 'lange': 125, '0001f44d': 126, 'beim': 127, 'ne': 128, 'das': 129, 'polizei': 130, 'nie': 131, '2642': 132, 'an': 133, 'habt': 134, 'haette': 135, 'gute': 136, 'hambacherforst': 137, '0001f3fd': 138, 'moin': 139, 'steht': 140, 'gleich': 141, 'leute': 142, 'nazi': 143, 'h': 144, 'nix': 145, '5': 146, 'dabei': 147, '3': 148, 'auf': 149, 'die': 150, 'leider': 151, 'recht': 152, 'halt': 153, 'geld': 154, 'sehen': 155, 'linken': 156, 'de': 157, 'knobloch': 158, 'raus': 159, 'medien': 160, 'ueberhaupt': 161, 'berlin': 162, 'demokratie': 163, 'tweet': 164, 'mensch': 165, 'eher': 166, '0001f937': 167, '0001f92a': 168, 'spdde': 169, 'aufgewachtewelt': 170, 'geben': 171, '0001f92e': 172, 'aus': 173, 'jouwatch': 174, '4': 175, 'sagt': 176, 'wegen': 177, 'koennte': 178, 'brauchen': 179, 'karl': 180, 'linke': 181, 'twitter': 182, 'innen': 183, 'ha': 184, 'ich': 185, 'meinung': 186, 'passt': 187, 'statt': 188, 'machen': 189, 'halten': 190, '2640': 191, 'chris': 192, 'connybub': 193, 'engelge': 194, 'lanyihunter1': 195, 'bekommen': 196, 'kann': 197, '15': 198, '10': 199, 'nen': 200, 'stehen': 201, 'n59': 202, 'puppche': 203, 'willplaat': 204, 'bibby182': 205, 'coyosilver': 206, '98763': 207, 'wellejena': 208, 'louispeterle': 209, 'maxanonymous': 210, 'johannes135': 211, 'sozialismus': 212, 'glaube': 213, 'vielen': 214, 'ende': 215, '16': 216, 'm': 217, 'eben': 218, 'lieber': 219, 'madameschwarzi': 220, 'ph': 221, 'phanuel': 222, 'migraene': 223, 'ralftheuer': 224, 'venum27004632': 225, 'chisnoria': 226, 'assassina36': 227, 'bine1007': 228, 'iamcovar': 229, 'lukas64f': 230, 'ron1872': 231, 'ungebeten1': 232, 'ptroll3': 233, 'apuleius': 234, 'machata9': 235, 'hake': 236, 'koyamamichi': 237, 'cherylli18': 238, 'botedesunrechts': 239, 'asiegwa': 240, 'freitweeter': 241, 'odmantsuperstar': 242, 'smuelle26677552': 243, 'fredkrger2': 244, 'heidi1274': 245, 'pseudros': 246, 'strandvogt3': 247, 'hausfrau4ever': 248, '19594': 249, 'invictu53409591': 250, 'vigilant': 251, 'estathor': 252, 'metalwilli': 253, 'usa': 254, 'darf': 255, 'davon': 256, 'neue': 257, 'angst': 258, 'ganze': 259, 'wi': 260, 'jochen': 261, '0001f644': 262, 'gehen': 263, 'wann': 264, 'weiter': 265, 'selber': 266, '2764': 267, 'ach': 268, 'sieht': 269, 'vorbei': 270, 'cha': 271, 'volk': 272, 'gerne': 273, 'klar': 274, 'gehoe': 275, 'sawsanchebli': 276, 'we': 277, 'samstag': 278, 'abend': 279, 'tweets': 280, 'beatrix': 281, 'arbeit': 282, 'vergessen': 283, 'guten': 284, 'jemand': 285, 'gemacht': 286, 'kinder': 287, 'staat': 288, 'jahr': 289, 'denen': 290, 'niemand': 291, 'seid': 292, 'jahre': 293, 'deshalb': 294, 'vstorch': 295, '0001f5a4': 296, 'aber': 297, '100': 298, 'mitschka': 299, 'regierung': 300, 'du': 301, 'laesst': 302, 'und': 303, 'eien': 304, 'genug': 305, 'finde': 306, 'sogar': 307, '11': 308, 'n': 309, 'arbeiten': 310, 'wenig': 311, 'moechte': 312, 'voll': 313, 'bevor': 314, 'antwo': 315, 'zeigt': 316, 'sei': 317, '0001f926': 318, '6': 319, 'bald': 320, 'cem': 321, 'oezdemir': 322, '0001f44f': 323, 'brexit': 324, 'kokaxcola': 325, 'hoffe': 326, 'groko': 327, '8': 328, 'super': 329, 'letzten': 330, 'gruene': 331, 'eigenen': 332, 'rechts': 333, 'rechten': 334, 'kannst': 335, 'daran': 336, 'sta': 337, 't': 338, 'findet': 339, 'z': 340, 'finden': 341, 'b': 342, '0001f92f': 343, 'ffm': 344, 'rag': 345, 'sollten': 346, 'stimmt': 347, 'alice': 348, 'bleibt': 349, 'tut': 350, 'lauterbach': 351, 'bleiben': 352, 'schuld': 353, 'bund': 354, 'ganzen': 355, 'maedchen': 356, 'bestimmt': 357, 'weg': 358, 'liebe': 359, 'gestern': 360, 'zwei': 361, 'pegida': 362, 'faschisten': 363, 'islam': 364, 'es': 365, 'weidel': 366, 'auch': 367, 'dumm': 368, 'ein': 369, 'war': 370, 'opfer': 371, '000': 372, 'echt': 373, 'thema': 374, 'frei': 375, '23': 376, 'freitag': 377, 'wuerden': 378, '2018': 379, 'o': 380, 'k': 381, '14': 382, 'chemnitz': 383, 'egal': 384, 'bisschen': 385, 'helllud123': 386, 'grace30714933': 387, 'junge': 388, 'scheisse': 389, 'politiker': 390, 'zurueck': 391, 'zukunft': 392, 'zdf': 393, 'oh': 394, 'bereits': 395, 'folgen': 396, 'schnell': 397, '21': 398, 'gesellschaft': 399, 'gesagt': 400, 'maduro': 401, 'dank': 402, 'stadt': 403, 'alle': 404, 'braucht': 405, 'krippmarie': 406, 'herr': 407, '2018wahrheit': 408, 'europa': 409, 'krieg': 410, 'verfassungsschutz': 411, '12': 412, 'bzw': 413, 'hans': 414, 'verantwo': 415, 'hass': 416, 'fragen': 417, 'ig': 418, '17': 419, 'naziwatchac': 420, 'haetten': 421, '9': 422, 'paar': 423, 'fast': 424, 'sorry': 425, 'trotzdem': 426, 'deren': 427, 'geh': 428, 'netzpolitik': 429, 'schoenen': 430, 'rassisten': 431, 'russland': 432, 'denken': 433, 'kritik': 434, 'los': 435, 'politischen': 436, 'je': 437, 'alte': 438, 'fall': 439, 'sofo': 440, 'reden': 441, 'is': 442, 'scheint': 443, 'y': 444, 'neuen': 445, 'uebrigens': 446, 'essen': 447, 'offenbar': 448, 'f': 449, 'v': 450, 'hbf': 451, 'kundgebung': 452, 'wollen': 453, 'ma': 454, 'regime': 455, 'freiheit': 456, 'sicher': 457, 'sozialistische': 458, 'kahrs': 459, 'trinchen312': 460, 'scheiss': 461, 'geworden': 462, 'der': 463, 'na': 464, 'vo': 465, 'kleine': 466, 'will': 467, 'verloren': 468, 'doch': 469, 'mach': 470, 'bekannt': 471, '7': 472, 'problem': 473, 'ersten': 474, 'of': 475, 'repression': 476, '13': 477, 'et': 478, 'solidaritaet': 479, 'nonazis': 480, 'weniger': 481, 'eh': 482, 'nehmen': 483, 'seehofer': 484, 'kleinen': 485, 'clyde261282': 486, 'denkerwerner': 487, 'org': 488, 'drdavidberger': 489, 'mann': 490, 'bringen': 491, 'koennt': 492, 'wahl': 493, 'bevoelkerung': 494, 'oft': 495, 'teil': 496, 'probleme': 497, 'ka': 498, 'helfen': 499, 'fr': 500, 'neonazis': 501, '2019': 502, 'infos': 503, 'geschichte': 504, '01': 505, 'alter': 506, 'the': 507, 'nrw': 508, 'laut': 509, 'kneipe': 510, 'i': 511, 'wa': 512, 'maassen': 513, 'duerfen': 514, 'rechte': 515, 'darum': 516, 'links': 517, 'ernst': 518, 'ok': 519, 'propaganda': 520, 'maenner': 521, 'ddr': 522, 'aloa5': 523, 'korrupte': 524, 'eltern': 525, 'rum': 526, 'da': 527, 'absolut': 528, 'lang': 529, 'groesste': 530, 'hand': 531, 'vor': 532, 'mittelfinger': 533, 'besten': 534, 'buch': 535, 'hoffentlich': 536, 'falsch': 537, 'mag': 538, 'politische': 539, 'unterwegs': 540, 'erstmal': 541, 'nochmal': 542, 'tage': 543, 'minuten': 544, 'fahren': 545, 'voellig': 546, 'hilft': 547, 'frueher': 548, 'ung': 549, 'titten': 550, 'bullenschubser': 551, '40': 552, 'versuchen': 553, 'versucht': 554, 'gleiche': 555, 'israel': 556, 'bezahlt': 557, 'klein': 558, 'deutsch': 559, 'toll': 560, 'worden': 561, 'suchen': 562, 'weihnachten': 563, 'feiern': 564, 'sie': 565, 'gewalt': 566, 'liegt': 567, 'sehe': 568, 'weiterhin': 569, 'bekaempfen': 570, 'erste': 571, 'gab': 572, 'soweit': 573, 'laecherlich': 574, 'grosse': 575, 'zdfheute': 576, 'sonntag': 577, 'hunde': 578, 'ac1811': 579, 'antirepac': 580, 'lt': 581, 'konze': 582, 'wichtig': 583, 'oliver': 584, 'r': 585, 'strasse': 586, 'nsu': 587, 'zu': 588, 'erfolg': 589, 'text': 590, 'schlecht': 591, 'beste': 592, '0001f643': 593, 'drei': 594, 'spiegelonline': 595, 'brd': 596, 'pamelacostaric1': 597, 'stasi': 598, 'andreaschlegel3': 599, 'sanktionen': 600, 'spiro0815': 601, '18m': 602, 'laufen': 603, 'allerdings': 604, 'langsam': 605, 'kopf': 606, 'china': 607, 'platz': 608, 'unterstuetzt': 609, 'wuensche': 610, 'migranten': 611, 'rein': 612, 'wir': 613, 'presse': 614, 'deswegen': 615, 'journalisten': 616, 'her': 617, 'co': 618, 'selbst': 619, 'wurden': 620, 'waehrend': 621, 'namen': 622, 'besonders': 623, 'kleiner': 624, 'markt': 625, 'heisst': 626, 'account': 627, 'fair': 628, 'tatsaechlich': 629, 'news': 630, 'montag': 631, 'koeln': 632, 'lesen': 633, 'nem': 634, 'passie': 635, '0001f60a': 636, 'allein': 637, 'irgendwie': 638, 'kathaschulze': 639, 'system': 640, 'lideli7': 641, 'vs': 642, 'sozialistischen': 643, 'kommunistische': 644, 'slinr': 645, 'sputnik': 646, 'weit': 647, 'weder': 648, 'grund': 649, 'darauf': 650, 'eigene': 651, 'glauben': 652, 'aussage': 653, 'dagegen': 654, 'amt': 655, 'syrien': 656, 'beide': 657, 'sache': 658, 'meisten': 659, 'broder': 660, 'staaten': 661, 'antisemitismus': 662, 'nachdem': 663, 'hitler': 664, 'laeuft': 665, 'hund': 666, 'dumme': 667, 'wenigstens': 668, 'moeglich': 669, 'hier': 670, 'schreiben': 671, '22': 672, 'gt': 673, 'lasst': 674, 'danach': 675, 'ahnung': 676, 'sowas': 677, 'hasse': 678, 'rad': 679, '0001f6b4': 680, '0001f4a8': 681, 'waehlen': 682, 'fehler': 683, 'beispiel': 684, 'mainstream': 685, 'andreasstraub': 686, 'gott': 687, 'tagesschau': 688, 'alten': 689, 'parlament': 690, 'ficker': 691, 'trump': 692, 'spdbt': 693, 'lass': 694, 'merkels': 695, 'ditfu': 696, 'frodilon': 697, 'specht': 698, 'neom1913': 699, '0001f60b': 700, 'subversivaktiv': 701, 'holocaust': 702, 'scheissegal': 703, 'waeren': 704, 'macron': 705, 'verboten': 706, 'tuerkei': 707, 'verdammt': 708, 'seite': 709, 'fdp': 710, 'gefallen': 711, 'bringt': 712, 'stellen': 713, 'all': 714, 'sprechen': 715, 'denke': 716, 'wahrheit': 717, 'bekommt': 718, 'seiten': 719, 'lich': 720, 'kennt': 721, 'diskussion': 722, 'raum': 723, 'glaubt': 724, 'sinn': 725, 'rede': 726, 'mehrheit': 727, 'heutigen': 728, 'ey': 729, 'direkt': 730, 'gilt': 731, 'show': 732, 'stellt': 733, 'no': 734, 'schwarz': 735, 'rote': 736, 'ca': 737, 'veranstaltung': 738, 'lustig': 739, 'merz': 740, 'jkasek': 741, 'korrekt': 742, 'wochenende': 743, 'verstanden': 744, 'gegenueber': 745, 'wen': 746, 'unserer': 747, 'deutlich': 748, 'wieder': 749, 'dich': 750, 'darueber': 751, 'ausser': 752, 'setzt': 753, 'maas': 754, 'alleine': 755, 'mund': 756, 'sed': 757, 'csu': 758, 'jutta': 759, '270a': 760, '0001f92c': 761, '161schlotle': 762, '200': 763, 'justiz': 764, 'typen': 765, 'dreck': 766, 'steinbacherika': 767, 'pack': 768, 'vater': 769, 'zeitonline': 770, 'kultur': 771, 'schaft': 772, 'gehoeren': 773, 'verstehen': 774, 'geschrieben': 775, 'mut': 776, 'verdient': 777, 'interessie': 778, 'haelt': 779, 'besteht': 780, 'hose': 781, 'hintergrund': 782, 'spass': 783, 'etwa': 784, 'kurz': 785, 'nennt': 786, 'fuers': 787, 'gretathunberg': 788, 'dlf': 789, 'unternehmen': 790, 'punkt': 791, 'hoch': 792, 'leicht': 793, 'schade': 794, 'stschilling75': 795, 'sa': 796, 'gruppen': 797, 'aktivist': 798, 'falls': 799, 'gedenken': 800, 'soli': 801, 'laenger': 802, 'usw': 803, 'gemeinsam': 804, 'naechsten': 805, 'w': 806, 'gruppe': 807, 'stunde': 808, 'realitaet': 809, 'mit': 810, 'nennen': 811, 'mist': 812, 'neu': 813, 'ibes': 814, 'damals': 815, 'niveau': 816, 'fe': 817, 'schmutz': 818, 'bundestag': 819, 'schwer': 820, 'rwe': 821, 'fritzvonsteiner': 822, 'schlimmer': 823, 'nazifresser': 824, 'schweizok2': 825, 'einzige': 826, 'westen': 827, 'hamburg': 828, 'habe': 829, 'job': 830, 'c': 831, 'rechtsextreme': 832, 'demokratische': 833, 'gelesen': 834, 'deutsch365': 835, 'verlag': 836, 'jensspahn': 837, 'blubberette': 838, 'bus': 839, 'lol': 840, 'bierkrawalle': 841, 'terminal': 842, '0001f3fe': 843, 'book': 844, 'hauptwache': 845, 'ruhe': 846, 'erzaehlt': 847, 'bundesregierung': 848, 'juden': 849, 'er': 850, 'nutzen': 851, 'nimmt': 852, 'tot': 853, 'arschloch': 854, 'kind': 855, 'kriminellen': 856, 'drin': 857, 'schauen': 858, 'faellt': 859, 'durch': 860, 'kriminelle': 861, 'vorher': 862, 'erde': 863, 'solltest': 864, 'nasir': 865, 'ahmad': 866, 'erdogan': 867, 'genauso': 868, 'meuthen': 869, 'was': 870, 'gefahr': 871, 'letzte': 872, 'naja': 873, 'begriff': 874, 'hoe': 875, 'gemeint': 876, 'ichbinschoener': 877, 'ecke': 878, 'schaffen': 879, 'muesste': 880, 'grenzen': 881, 'werbung': 882, 'sorgen': 883, 'ueberall': 884, 'noch': 885, 'leuten': 886, 'dazu': 887, 'spiel': 888, 'bisher': 889, 'aktion': 890, 'erreicht': 891, 'wunde': 892, 'augen': 893, 'offen': 894, 'rund': 895, 'folgt': 896, 'twittern': 897, 'koennten': 898, 'nacht': 899, 'gesa': 900, 'korallenherz': 901, 'kampf': 902, '27': 903, 'derzeit': 904, 'jetzt': 905, 'euch': 906, 'kapitalismus': 907, 'aufgrund': 908, 'le': 909, 'sachsen': 910, 'mitglieder': 911, 'sich': 912, 'beiden': 913, 'irgendwas': 914, 'hoeren': 915, 'janboehm': 916, 'per': 917, 'waehler': 918, 'schnee': 919, 'gesicht': 920, 'schoenes': 921, 'peinlich': 922, 'feinstaub': 923, 'kenne': 924, 'lindner': 925, 'habeck': 926, 'person': 927, 'taeter': 928, 'unterstuetzung': 929, 'reicht': 930, 'dr': 931, 'block': 932, 'g20': 933, 'annewill': 934, 'boese': 935, 'ihr': 936, 'logisch': 937, 'monat': 938, 'sicherlich': 939, 'spannend': 940, 'gewaltregime': 941, 'poesen': 942, 'm18': 943, 'bullen': 944, 'arsch': 945, 'dann': 946, 'altpa': 947, 'rechnen': 948, 'gebracht': 949, 'magnitz': 950, 'diesmal': 951, 'knast': 952, 'gleichen': 953, '28': 954, 'j': 955, 'kindern': 956, 'kleines': 957, 'bahn': 958, 'drauf': 959, 'tuerken': 960, 'volksverpetzer': 961, 'muslime': 962, 'fluechtlinge': 963, 'naehe': 964, 'setzen': 965, 'unterstuetzen': 966, 'somit': 967, 'heinrich': 968, 'krug': 969, 'sack': 970, 'kampagne': 971, 'amis': 972, 'millionen': 973, 'tausende': 974, 'konnte': 975, 'spaet': 976, 'unterschied': 977, 'neues': 978, 'laender': 979, 'paeddy1994': 980, 'yt': 981, 'verhindern': 982, 'klimawandel': 983, 'sicherheit': 984, 'kontrolle': 985, 'mehrere': 986, 'gg': 987, 'geoeffnet': 988, 'richtung': 989, 'personen': 990, 'erwa': 991, 'to': 992, 'suppo': 993, 'draussen': 994, 'hambi': 995, '26': 996, 'people': 997, 'widerstand': 998, 'now': 999, 'fordern': 1000, 'neben': 1001, 'weitere': 1002, 'donnerstag': 1003, 'unsinn': 1004, '06': 1005, 'okay': 1006, 'niemals': 1007, 'erklae': 1008, 'etc': 1009, 'meist': 1010, 'dinge': 1011, 'tv': 1012, 'miraclemorning': 1013, 'null': 1014, 'wahrscheinlich': 1015, 'schreibt': 1016, 'verbieten': 1017, 'vollkommen': 1018, 'fuehrer': 1019, 'oeffentlich': 1020, 'ikel': 1021, 'interessant': 1022, 'zumindest': 1023, 'michael': 1024, 'deutscher': 1025, 'angeblich': 1026, 'gearbeitet': 1027, 'total': 1028, 'anjareschke1': 1029, 'soll': 1030, 'wdr': 1031, 'reichen': 1032, 'davor': 1033, 'nachbarn': 1034, 'skandal': 1035, '90': 1036, '0001f3ff': 1037, 'stuttga': 1038, 'resistance20186': 1039, 'flughafen': 1040, 'wahlen': 1041, 'wirrkoepfe': 1042, 'klimasekte': 1043, 'kommunisten': 1044, 'larsklingbeil': 1045, 'kobane': 1046, 'arabien': 1047, 'luegen': 1048, 'kaum': 1049, 'wenn': 1050, 'us': 1051, 'wahr': 1052, 'diktatur': 1053, 'bedeutet': 1054, 'euro': 1055, 'zahlen': 1056, 'sag': 1057, 'frankreich': 1058, 'funktionie': 1059, 'unfassbar': 1060, 'schnauze': 1061, 'armen': 1062, 'zieht': 1063, 'musst': 1064, 'wollt': 1065, 'hirn': 1066, 'buergerkrieg': 1067, 'ehrlich': 1068, 'kohle': 1069, 'joerg': 1070, 'typ': 1071, 'bfv': 1072, 'versuch': 1073, 'aktuell': 1074, 'spielt': 1075, 'offensichtlich': 1076, 'schlimm': 1077, 'rassismus': 1078, 'irgendjemand': 1079, 'stoppen': 1080, 'steckt': 1081, 'politisch': 1082, 'blytton7': 1083, 'gespannt': 1084, 'hae': 1085, 'muss': 1086, 'heikomaas': 1087, 'religion': 1088, 'repo': 1089, 'hilfe': 1090, 'kraft': 1091, 'rest': 1092, 'hey': 1093, 'knapp': 1094, '24': 1095, 'wehren': 1096, 'uns': 1097, 'schicken': 1098, 'erhalt': 1099, '45': 1100, 'daher': 1101, 'ideologie': 1102, 'buendnis': 1103, 'gekommen': 1104, 'jungen': 1105, 'idee': 1106, 'kaempfen': 1107, 'irgendwo': 1108, 'bayern': 1109, 'taeglich': 1110, 'osten': 1111, 'dresden': 1112, 'pro': 1113, 'parolen': 1114, 'muessten': 1115, 'ordnung': 1116, 'grad': 1117, 'nazisraus': 1118, 'p': 1119, 'ner': 1120, 'schlafen': 1121, 'online': 1122, 'nichts': 1123, 'haha': 1124, 'argumente': 1125, 'une': 1126, 'foseti': 1127, 'merkt': 1128, 'dadurch': 1129, 'grossen': 1130, 'juergen': 1131, 'fritz': 1132, 'erkennen': 1133, 'fuehren': 1134, 'steinhoefel': 1135, 'situation': 1136, 'genossen': 1137, 'haesslichen': 1138, 'gegeben': 1139, 'mudda': 1140, 'geblockt': 1141, 'verlieren': 1142, 'kranke': 1143, 'holger56228648': 1144, 'familie': 1145, 'obdachlose': 1146, 'aflint2': 1147, 'erdosultan': 1148, 'msrebre': 1149, 'airpo': 1150, '0001f621': 1151, 'gewusst': 1152, 'poese': 1153, 'wolkenfluff': 1154, 'anstatt': 1155, 'km': 1156, 'bauen': 1157, 'sitzen': 1158, 'gelbwesten': 1159, 'unbedingt': 1160, 'richter': 1161, 'verbrecher': 1162, 'sonnst': 1163, '50': 1164, 'dummes': 1165, 'freund': 1166, 'bewusst': 1167, 'frieden': 1168, 'stolz': 1169, 'themen': 1170, 'gern': 1171, 'gedanken': 1172, 'facebook': 1173, 'mittlerweile': 1174, 'tuerke': 1175, 'gesehen': 1176, 'gestellt': 1177, 'igen': 1178, 'schneller': 1179, 'verdienen': 1180, 'ie': 1181, 'spricht': 1182, 'dran': 1183, 'l': 1184, 'rolle': 1185, 'daraus': 1186, 'rechter': 1187, 'ohnehin': 1188, 'nation': 1189, 'imperialisten': 1190, 'mache': 1191, 'heuchler': 1192, 'ziehen': 1193, 'ungarn': 1194, 'praesident': 1195, 'gegenteil': 1196, 'tja': 1197, 'retten': 1198, 'up': 1199, 'co2': 1200, 'nase': 1201, 'nasanasal': 1202, 'ag': 1203, 'westliche': 1204, '08': 1205, 'gewonnen': 1206, 'spo': 1207, 'gehabt': 1208, 'komm': 1209, 'tuerkischen': 1210, 'faschismus': 1211, 'techno': 1212, 'demos': 1213, 'zeiten': 1214, 'hinweis': 1215, 'geschlossen': 1216, '04': 1217, '25': 1218, 'anarchist': 1219, 'kitchen': 1220, 'gefueh': 1221, 'more': 1222, 'ige': 1223, 'nachricht': 1224, 'cops': 1225, 'mindestens': 1226, 'zentrum': 1227, 'fest': 1228, 'stunden': 1229, 'x': 1230, 'hallo': 1231, 'noborderaction': 1232, 'zeigen': 1233, '271d': 1234, 'leipzig': 1235, 'protest': 1236, 'verbot': 1237, 'informieren': 1238, 'ac1312': 1239, 'hause': 1240, 'ignorie': 1241, 'urlaub': 1242, 'treten': 1243, 'zb': 1244, 'krank': 1245, 'irgendwann': 1246, 'manchmal': 1247, 'fehlt': 1248, 'haus': 1249, 'gefaehrlich': 1250, 'opa': 1251, 'guter': 1252, 'huuuuiiiii': 1253, 'planlos': 1254, 'buero': 1255, 'hin': 1256, '0001f60e': 1257, 'patty': 1258, '261d': 1259, 'nee': 1260, 'gebu': 1261, 'wach': 1262, 'blockie': 1263, 'aufs': 1264, '0': 1265, 'armer': 1266, 'raeglich': 1267, 'darin': 1268, 'erinnern': 1269, 'franz': 1270, 'geloescht': 1271, 'juedischen': 1272, 'massiv': 1273, 'spiegel': 1274, 'ausland': 1275, 'gericht': 1276, 'respekt': 1277, 'kirche': 1278, 'degenerie': 1279, 'arbeitet': 1280, 'kackscheisse': 1281, 'bin': 1282, 'definitiv': 1283, 'ruhig': 1284, 'bmi': 1285, 'klang': 1286, 'ruinen': 1287, 'nahles': 1288, 'beginn': 1289, 'richtige': 1290, 'gross': 1291, 'verein': 1292, 'gelernt': 1293, 'fakten': 1294, 'verstehe': 1295, 'gefaellt': 1296, 'gruen': 1297, 'kuehnikev': 1298, 'europaeischen': 1299, '203c': 1300, 'gamemommanuela': 1301, 'grundgesetz': 1302, 'sozialisten': 1303, 'arbeiter': 1304, 'tinimaus1110': 1305, 'fred': 1306, 'lumma': 1307, 'united': 1308, 'europe': 1309, 'kramersmatze': 1310, 'edithapastre': 1311, 'wichsfloete': 1312, 'maicotheman': 1313, 'schleswig': 1314, 'holstein': 1315, 'nowkr': 1316, 'kowalsky': 1317, 'rojava': 1318, 'saudi': 1319, 'erlaubt': 1320, 'fueh': 1321, 'gedacht': 1322, 'brauch': 1323, 'also': 1324, 'hinterfragen': 1325, 'dummheit': 1326, 'idioten': 1327, 'sollte': 1328, 'woher': 1329, 'gefangenen': 1330, 'isis': 1331, 'elite': 1332, 'eil': 1333, 'regie': 1334, 'auslaender': 1335, 'muesst': 1336, 'zerstoeren': 1337, 'pass': 1338, 'impo': 1339, 'jugend': 1340, 'drogen': 1341, 'akzeptie': 1342, 'kamera': 1343, 'stelle': 1344, 'definition': 1345, 'noetig': 1346, 'haltung': 1347, 'naechste': 1348, 'leisten': 1349, 'klimaschutz': 1350, 'kritisch': 1351, 'empfehle': 1352, 'ueberzeugen': 1353, 'mio': 1354, 'fuehlt': 1355, 'tradition': 1356, 'heutige': 1357, 'don': 1358, 'gefahren': 1359, 'weise': 1360, 'weisse': 1361, 'verfolgt': 1362, 'eindeutig': 1363, 'gernor': 1364, 'offeln': 1365, 'handeln': 1366, 'lebt': 1367, 'punk': 1368, 'beendet': 1369, 'haltet': 1370, 'antifanrw': 1371, 'niewieder': 1372, 'gestalten': 1373, 'accounts': 1374, '29': 1375, 'meldet': 1376, 'gruesse': 1377, 'ac': 1378, 'faschos': 1379, 'raeumung': 1380, '2000': 1381, 'aktivisten': 1382, '1000': 1383, 'genommen': 1384, 'hambicamp': 1385, 'gebraucht': 1386, 'kaffee': 1387, 'gibts': 1388, 'wuenschen': 1389, 'bieten': 1390, 'sowie': 1391, 'zeichen': 1392, 'ga': 1393, 'solange': 1394, 'lust': 1395, 'live': 1396, 'npd': 1397, 'migration': 1398, 'fo': 1399, 'ku': 1400, 'denkt': 1401, 'entfernt': 1402, 'kotzen': 1403, '0001f605': 1404, 'mdb': 1405, 'aktuellen': 1406, 'ueble': 1407, 'grosser': 1408, 'halte': 1409, 'legt': 1410, 'spaeter': 1411, 'merkwuerdig': 1412, 'dachte': 1413, 'liegen': 1414, '0001f44c': 1415, 'sohn': 1416, 'folge': 1417, 'ziele': 1418, 'team': 1419, 'uebe': 1420, 'erreichen': 1421, 'schwarze': 1422, 'humor': 1423, 'schule': 1424, 'fahrrad': 1425, 'oder': 1426, 'chef': 1427, 'stueck': 1428, 'schuetzen': 1429, 'fuelinup': 1430, 'fresse': 1431, 'liste': 1432, 'loesung': 1433, 'sternenrot': 1434, 'spinner': 1435, 'ruhrbarone': 1436, 'komisch': 1437, 'meinungsfreiheit': 1438, 'quote': 1439, 'hannover': 1440, '66norweger66': 1441, 'zeitung': 1442, 'falschen': 1443, 'alles': 1444, 'deutschlands': 1445, 'hetze': 1446, 'lehrer': 1447, 'sprache': 1448, 'passen': 1449, 'wagenknecht': 1450, 'jemals': 1451, 'akk': 1452, 'demokratisch': 1453, 'reich': 1454, 'armes': 1455, 'pisser': 1456, 'abgehalfte': 1457, 'feie': 1458, 'mir': 1459, 'interessieren': 1460, 'beleidigt': 1461, 'storch': 1462, 'toleranz': 1463, 'dlfnachrichten': 1464, 'uebel': 1465, 'bunt': 1466, '60': 1467, 'lieb': 1468, 'suess': 1469, 'werfen': 1470, 'bezeichnen': 1471, 'maassenmussweg': 1472, 'polizeisachsen': 1473, 'studium': 1474, 'locker': 1475, 'hahaha': 1476, 'schlimme': 1477, 'heutejournal': 1478, 'heinrichludger': 1479, 'aha': 1480, 'sandra2519691': 1481, 'straftat': 1482, '0001f595': 1483, 'ligurrio': 1484, 'hain': 1485, 'blod': 1486, 'mitarbeiter': 1487, 'puenktlich': 1488, 'berge': 1489, 'demokratischen': 1490, '2017': 1491, 'oeffentlichkeit': 1492, 'seien': 1493, 'verfassung': 1494, 'gewaltdiktatur': 1495, 'politclowns': 1496, 'mud': 1497, 'bloedsinn': 1498, 'gescheite': 1499, 'mrmontybrogan': 1500, 'hauptbahnhof': 1501, 'refugees': 1502, '18nulldrei': 1503, 'wichtiger': 1504, 'obwohl': 1505, 'militaer': 1506, 'besuch': 1507, 'aufhoeren': 1508, 'holen': 1509, 'std': 1510, 'russen': 1511, 'bewegung': 1512, 'lieben': 1513, 'gesetzt': 1514, 'gesamte': 1515, 'abschaum': 1516, 'fb': 1517, 'denn': 1518, 'fressen': 1519, 'kommentar': 1520, 'bloed': 1521, 'moerder': 1522, 'kanzlerin': 1523, 'schwachsinn': 1524, 'rassist': 1525, 'nur': 1526, 'bundeswehr': 1527, 'bereit': 1528, 'revolution': 1529, 'europaeische': 1530, 'google': 1531, 'beobachten': 1532, 'schliesslich': 1533, 'zionisten': 1534, 'ausschliesslich': 1535, 'steuerzahler': 1536, 'oben': 1537, 'waren': 1538, 'akifpirincci': 1539, 'schlicht': 1540, 'sogenannten': 1541, 'wahlkampf': 1542, 'ruecken': 1543, 'redet': 1544, 'michel': 1545, 'herum': 1546, 'pr': 1547, 'vorstellen': 1548, 'dummen': 1549, 'masse': 1550, 'auggcaggaauaugu': 1551, 'irgendwelche': 1552, 'beteiligt': 1553, 'rufen': 1554, 'angekommen': 1555, '500': 1556, 'gewinnen': 1557, 'scheinen': 1558, 'behauptet': 1559, 'schafft': 1560, 'aufmerksamkeit': 1561, 'beteiligen': 1562, 'gegangen': 1563, '400': 1564, 'wusste': 1565, 'allgemein': 1566, 'laengst': 1567, 'teams': 1568, 'info': 1569, 'handball': 1570, 'kommst': 1571, 'gerichtet': 1572, 'konnten': 1573, 'ukraine': 1574, 'harry': 1575, 'gesinnung': 1576, 'gewaehlt': 1577, 'hoecke': 1578, 'desto': 1579, 'frankenberger': 1580, 'vie': 1581, 'redebeitrag': 1582, 'mai': 1583, 'gehalten': 1584, 'trotz': 1585, 'anreise': 1586, 'melden': 1587, 'motto': 1588, 'mahnwache': 1589, 'acgesa': 1590, 'um': 1591, 'blocken': 1592, 'still': 1593, 'schliessen': 1594, 'hreul': 1595, '800': 1596, 'minute': 1597, 'g': 1598, 'ansonsten': 1599, 'sichere': 1600, 'mittwoch': 1601, 'musik': 1602, 'tod': 1603, 'teufel': 1604, 'di': 1605, 'film': 1606, 'vorm': 1607, 'be': 1608, 'linnich': 1609, 'nachmittag': 1610, 'dueren': 1611, 'aktuelle': 1612, 'ea': 1613, 'arschloecher': 1614, 'waer': 1615, 'moege': 1616, 'beides': 1617, 'moeglichkeit': 1618, 'ausserdem': 1619, 'ideen': 1620, 'stark': 1621, 'konservative': 1622, 'schweiz': 1623, 'eitag': 1624, 'sz': 1625, 'durchaus': 1626, 'indulig': 1627, 'delegie': 1628, 'thread': 1629, 'leradiophare': 1630, 'plattform': 1631, 'dok': 1632, 'tagen': 1633, 'btw': 1634, 'verhalten': 1635, 'meint': 1636, 'reter': 1637, 'wem': 1638, 'bilder': 1639, 'gewesen': 1640, 'autobahn': 1641, 'komplett': 1642, 'wisst': 1643, 'geschafft': 1644, 'gruenden': 1645, 'vier': 1646, 'ragen': 1647, 'aufstehen': 1648, 'willst': 1649, 'sachen': 1650, 'dermassen': 1651, 'tazgezwitscher': 1652, 'zaehlen': 1653, 'glaub': 1654, 'witz': 1655, 'leid': 1656, 'kantholz': 1657, 'nummer': 1658, 'blog': 1659, 'naemlich': 1660, 'auseinander': 1661, 'sowieso': 1662, 'hassen': 1663, 'forde': 1664, 'weh': 1665, 'schlipztrega': 1666, 'berichten': 1667, 'maul': 1668, 'gez': 1669, 'bist': 1670, 'jwinkelv': 1671, 'wissenschaft': 1672, 'quelle': 1673, 'sinne': 1674, 'gutmenschen': 1675, 'bashing': 1676, 'rstrohmi': 1677, 'tichyseinblick': 1678, 'liche': 1679, 'halbgebildeten': 1680, 'verfolgen': 1681, 'menschheit': 1682, 'dushanwegner': 1683, 'bezeichnet': 1684, 'berliner': 1685, 'beitrag': 1686, 'tragen': 1687, 'rolandtichy': 1688, 'ansichten': 1689, 'eilen': 1690, 'gefragt': 1691, 'arm': 1692, 'tolle': 1693, 'chance': 1694, 'lawyerberlin': 1695, 'empoe': 1696, 'goeringeckardt': 1697, 'club': 1698, 'moegen': 1699, 'scheissen': 1700, 'sommer': 1701, 'dicht': 1702, 'vorne': 1703, 'find': 1704, 'bloss': 1705, 'hab': 1706, 'blut': 1707, 'weisst': 1708, 'saal': 1709, 'tagesspiegel': 1710, 'geil': 1711, 'gesund': 1712, 'zuviel': 1713, 'grenzwe': 1714, 'maischberger': 1715, 'eier': 1716, 'daemlich': 1717, 'verkehr': 1718, 'abgeordneten': 1719, 'strassen': 1720, 'unten': 1721, 'aehnlich': 1722, 'korrupten': 1723, 'gtzfrmming': 1724, 'ingolstadt': 1725, 'fisch001': 1726, 'e13kiki': 1727, 'uk': 1728, 'dummfick': 1729, 'nae': 1730, 'jahrzehnten': 1731, 'jusos': 1732, 'sozial': 1733, 'erkannt': 1734, 'hatte': 1735, 'kabra66': 1736, 'gesetze': 1737, 'billiger': 1738, 'ploetzlich': 1739, 'kurdistan': 1740, 'meldungen': 1741, '0001f623': 1742, '0001f616': 1743, 'sicaminou': 1744, 'jobs': 1745, 'schaftlich': 1746, 'treiben': 1747, 'verbrechen': 1748, 'breite': 1749, 'faschist': 1750, 'faz': 1751, 'erklaeren': 1752, 'verbreitet': 1753, 'sauhaufen': 1754, 'expo': 1755, 'verbrecherbande': 1756, 'mindestlohn': 1757, 'wahlfarce': 1758, 'mrd': 1759, 'putsch': 1760, 'menschenverachtenden': 1761, 'niemanden': 1762, 'mahnmal': 1763, 'faschistische': 1764, 'net': 1765, 'freiwildjaeger': 1766, 'solidarisch': 1767, 'kiel': 1768, 'theweirdgerman': 1769, 'theriver2010': 1770, 'verlage': 1771, 'iz': 1772, 'massaker': 1773, 'korrupt': 1774, 'erscheinen': 1775, 'regierungen': 1776, 'massenmoerder': 1777, 'verdammten': 1778, 'jesus': 1779, 'langen': 1780, 'schickt': 1781, 'aussehen': 1782, 'fuehrung': 1783, 'passieren': 1784, 'wieso': 1785, 'flucht': 1786, 'fallen': 1787, 'mitteln': 1788, 'anfangen': 1789, 'verfahren': 1790, 'nun': 1791, 'gelassen': 1792, 'gesteue': 1793, 'diskutie': 1794, 'frank': 1795, 'eilt': 1796, 'muell': 1797, 'bnd': 1798, 'geistig': 1799, 'gesper': 1800, 'friedlich': 1801, 'verletzt': 1802, 'fluechtlingen': 1803, 'entschieden': 1804, 'politikstube': 1805, 'wohnen': 1806, 'schoene': 1807, 'rechtfe': 1808, 'kriminell': 1809, 'stimmen': 1810, 'eintritt': 1811, 'gegensatz': 1812, 'wand': 1813, 'thomas': 1814, 'tilojung': 1815, 'panik': 1816, 'steuern': 1817, 'hoffen': 1818, 'bezueglich': 1819, 'einladen': 1820, 'instrumentalisierung': 1821, 'auswae': 1822, 'spielen': 1823, 'moechten': 1824, 'schlechte': 1825, 'gesorgt': 1826, 'nuetzt': 1827, 'sicht': 1828, 'atomic': 1829, 'ranch': 1830, 'gefunden': 1831, 'grenze': 1832, 'persoenlichen': 1833, 'froh': 1834, 'aussagen': 1835, 'ardde': 1836, 'rat': 1837, 'weisen': 1838, 'planeten': 1839, 'klappe': 1840, 'ze': 1841, 'jahrhunde': 1842, 'aufgabe': 1843, 'aktiv': 1844, 'expe': 1845, 'beu': 1846, 'dahinter': 1847, 'machst': 1848, 'gemeinsame': 1849, 'wichtigste': 1850, 'glaubst': 1851, 'chavez': 1852, 'reihe': 1853, 'plan': 1854, 'droht': 1855, 'singen': 1856, 'reaktionen': 1857, 'volkes': 1858, 'wagen': 1859, 'putin': 1860, 'bedroht': 1861, 'wolf': 1862, 'palaestinenser': 1863, 'prinz': 1864, 'uebernehmen': 1865, 'mitte': 1866, 'opposition': 1867, 'kommentare': 1868, 'hh': 1869, 'metal': 1870, '120': 1871, 'fotos': 1872, 'bewegt': 1873, 'el': 1874, '55': 1875, 'elisenbrunnen': 1876, 'wg': 1877, 'polizeigewalt': 1878, 'anschluss': 1879, 'anlaesslich': 1880, 'hasi': 1881, 'kunst': 1882, 'lernen': 1883, 'endegelaende': 1884, '02': 1885, 'festnahmen': 1886, 'bereich': 1887, 'andere': 1888, 'mi': 1889, 'not': 1890, 'freuen': 1891, 'rodung': 1892, 'forst': 1893, 'stop': 1894, 'are': 1895, 'for': 1896, '03': 1897, 'freut': 1898, 'kriegen': 1899, 'roten': 1900, 'beginnt': 1901, 'dienstag': 1902, 'verfuegung': 1903, 'schaut': 1904, 'forderung': 1905, '07': 1906, 'geraeumt': 1907, 'organisie': 1908, 'aktionen': 1909, 'follower': 1910, '34': 1911, 'groessten': 1912, 'li2606': 1913, 'regen': 1914, 'redner': 1915, 'netz': 1916, 'laden': 1917, 'absurd': 1918, 'angriff': 1919, 'bier': 1920, 'uebrigen': 1921, 'sinnlos': 1922, 'hauptsache': 1923, 'fuehlen': 1924, '0001f60f': 1925, 'rainerzufall': 1926, 'gleichzeitig': 1927, 'freude': 1928, 'achtung': 1929, 'gaeste': 1930, 'hmm': 1931, 'erinne': 1932, 'ost': 1933, 'schwierig': 1934, 'hehe': 1935, 'traeume': 1936, 'kam': 1937, 'gutes': 1938, 'fliege': 1939, 'merken': 1940, 'bescheue': 1941, 'trifft': 1942, 'insgesamt': 1943, 'erneut': 1944, 'arbeitnehmer': 1945, 'satire': 1946, 'ignorieren': 1947, 'brandt': 1948, '0001f620': 1949, 'mtb': 1950, 'wald': 1951, 'faeh': 1952, 'naechstes': 1953, 'link': 1954, 'wasser': 1955, 'gewinnt': 1956, 'laecheln': 1957, 'gebe': 1958, 'noe': 1959, 'veganer': 1960, 'thorste1499': 1961, 'selten': 1962, 'hackerangriff': 1963, 'schreibst': 1964, 'sau': 1965, 'ff': 1966, 'ging': 1967, 'geraet': 1968, 'frohes': 1969, 'pfefferspray': 1970, 'ueberleben': 1971, 'video': 1972, 'jemanden': 1973, 'kennen': 1974, 'kannste': 1975, 'gehalt': 1976, 'siehst': 1977, 'gamerleaksde': 1978, 'gamer': 1979, 'jahres': 1980, 'eins': 1981, 'eigentliche': 1982, 'beleidigen': 1983, 'journalismus': 1984, 'ueberfall': 1985, 'quoten': 1986, 'quatsch': 1987, 'bessere': 1988, 'alicewo18626168': 1989, 'figur': 1990, 'michaimpress': 1991, 'befuerchte': 1992, '80': 1993, 'ard': 1994, 'moderator': 1995, 'seyfe': 1996, 'mutig': 1997, 'politikern': 1998, 'khinnek': 1999, 'bernd471': 2000, 'gelungen': 2001, 'bewiesen': 2002, 'moralisch': 2003, 'empfaenger': 2004, 'schweigen': 2005, 'unglaublich': 2006, 'merdeux': 2007, 'miteinander': 2008, 'luegenpresse': 2009, 'organisationen': 2010, 'arzt': 2011, 'mariacron': 2012, 'maedels': 2013, 'fett': 2014, 'kalt': 2015, 'winter': 2016, 'telekom': 2017, 'absingen': 2018, 'griesonalhymne': 2019, 'schlabberfotzen': 2020, 'absatz': 2021, 'ficken': 2022, 'fuesse': 2023, 'stand': 2024, 'richtigen': 2025, 'tief': 2026, 'new': 2027, 'nich': 2028, 'lediglich': 2029, 'doll': 2030, 'erkenntnis': 2031, 'donalphonso': 2032, 'nachdenken': 2033, 'stoeren': 2034, 'wunder': 2035, 'vermutlich': 2036, 'internationalen': 2037, 'demokraten': 2038, 'klientel': 2039, 'tl': 2040, 'afdnazis': 2041, 'bremen': 2042, 'anderswo': 2043, 'lexluthorisrich': 2044, 'gucken': 2045, 'neuer': 2046, 'satirianexe': 2047, 'linksfaschisten': 2048, 'kreatur': 2049, 'untergang': 2050, 'kranken': 2051, 'hasst': 2052, 'sibirien': 2053, 'georg': 2054, 'pazderski': 2055, 'sender': 2056, 'irrer': 2057, 'freunden': 2058, 'bewegen': 2059, 'selbstverstaendlich': 2060, 'luft': 2061, 'daten': 2062, 'medikamente': 2063, 'bauknecht': 2064, 'verbreiten': 2065, 'reine': 2066, 'meinst': 2067, 'baer': 2068, 'nachts': 2069, 'teilen': 2070, 'sarah': 2071, 'peter': 2072, '31': 2073, 'tipp': 2074, 'plus': 2075, 'ale': 2076, 'fckafd': 2077, 'boesen': 2078, 'angebot': 2079, 'name': 2080, 'ralle': 2081, 'versteht': 2082, 'blitzbirne': 2083, 'hoffnung': 2084, '0001f600': 2085, 'tote': 2086, 'katarinabarley': 2087, 'toeten': 2088, 'herrn': 2089, 'zukarolinger': 2090, 'europaeischstaemmige': 2091, 'speziell': 2092, 'nahezu': 2093, 'menschenrechte': 2094, 'erhaelt': 2095, '0001f60d': 2096, 'dielinke': 2097, 'weil': 2098, 'francismalevil': 2099, 'pippilotta14': 2100, 'anarchie': 2101, 'schwarzr0t': 2102, 'willkommen': 2103, '2015': 2104, 'oho': 2105, 'grundsaetzlich': 2106, 'garioncoyote': 2107, 'linie': 2108, 'beantwo': 2109, 'nicolediekmann': 2110, 'mpkretschmer': 2111, 'klingt': 2112, 'zerschlagung': 2113, 'rente': 2114, 'ansicht': 2115, 'may': 2116, 'vorsitzender': 2117, 'weiteren': 2118, 'kurdischen': 2119, 'terror': 2120, '25ab': 2121, 'sogenannte': 2122, 'grossbritannien': 2123, 'verhaengt': 2124, 'pip': 2125, 'referendum': 2126, 'ami': 2127, 'persoenlich': 2128, 'einsatz': 2129, '6ukorj8h0b623px': 2130, 'finanzie': 2131, 'change': 2132, 'mdr': 2133, 'menschenverachtende': 2134, 'geputscht': 2135, 'kommunistischen': 2136, 'putschisten': 2137, 'witzig': 2138, 'zuruecktreten': 2139, 'ulfposh': 2140, 'haldewang': 2141, 'unrecht': 2142, 'linksdrehenden': 2143, 'kommunismus': 2144, 'andyrahim2': 2145, 'thegroundhogcan': 2146, 'ns': 2147, 'vbtorsten': 2148, 'dummesindimmermehr': 2149, 'daimagm': 2150, 'waszumelden': 2151, 'grade': 2152, 'hardbeat3': 2153, 'pausbaeckchen': 2154, 'scheisz': 2155, 'otto': 2156, 'thunderpure': 2157, 'francogoethe': 2158, 'kita': 2159, 'morshoch': 2160, 'conny': 2161, 'asf': 2162, 'verletzte': 2163, 'zitat': 2164, 'demonstranten': 2165, 'umsganze': 2166, 'wien': 2167, 'demonstrantinnen': 2168, '0001f922': 2169, 'baerbock': 2170, 'herbe': 2171, 'kelle': 2172, 'sanddrn': 2173, '0001f44e': 2174, 'rechtsextremen': 2175, 'buchmesse': 2176, '0001f525': 2177, 'spaemann': 2178, 'gefluechtete': 2179, 'kaisersack': 2180, 'fragendiefehlen': 2181, 'hc': 2182, 'stoodt': 2183, 'ank': 2184, 'fleissig': 2185, 'wege': 2186, 'begriffen': 2187, 'japan': 2188, 'amerika': 2189, 'basis': 2190, 'abholen': 2191, 'holt': 2192, 'halb': 2193, 'begruendung': 2194, 'wohin': 2195, 'irgend': 2196, 'hinzu': 2197, 'betreibt': 2198, 'gegner': 2199, 'me': 2200, 'verdammte': 2201, 'verlogene': 2202, 'freie': 2203, 'gekauft': 2204, 'glueck': 2205, 'mittag': 2206, 'unverschaemt': 2207, 'verkaufen': 2208, 'abfallhaufen': 2209, 'fragt': 2210, 'prozess': 2211, 'offiziell': 2212, 'uebelste': 2213, 'geistige': 2214, 'voraus': 2215, 'iq': 2216, 'wofuer': 2217, 'kapital': 2218, 'gekaufte': 2219, 'lage': 2220, 'greift': 2221, 'dreckiger': 2222, 'fliegen': 2223, 'stufe': 2224, 'saufen': 2225, 'stattfinden': 2226, 'islamische': 2227, 'illegal': 2228, 'autos': 2229, 'getan': 2230, 'runter': 2231, 'willen': 2232, 'anfang': 2233, 'tuer': 2234, 'behandeln': 2235, 'westlichen': 2236, 'petrbystronafd': 2237, 'licht': 2238, 'womit': 2239, 'faellen': 2240, 'beispiele': 2241, 'muslimen': 2242, 'roland': 2243, 'echte': 2244, 'adolf': 2245, 'islamfeindlichkeit': 2246, 'janfleischhauer': 2247, 'geworfen': 2248, 'islamisten': 2249, 'alexjahns': 2250, 'ersetzen': 2251, 'bonn': 2252, 'begreifen': 2253, 'abgesehen': 2254, 'wieviel': 2255, 'drum': 2256, 'phase': 2257, 'abteilung': 2258, 'neuerdings': 2259, 'klima': 2260, 'malala': 2261, 'handelt': 2262, 'ntvde': 2263, 'lovefefee': 2264, 'jaehrigen': 2265, 'wieviele': 2266, 'berichtet': 2267, 'schlagen': 2268, 'reisst': 2269, 'koepfen': 2270, 'steinigen': 2271, 'bruder': 2272, 'teile': 2273, 'verwir': 2274, 'relativ': 2275, 'billig': 2276, 'tatsache': 2277, 'aufgeklae': 2278, 'haraldpetermann': 2279, 'emmycollects': 2280, 'weissen': 2281, 'jah': 2282, 'ebenfalls': 2283, 'ginge': 2284, 'stiefel': 2285, 'weiteres': 2286, 'dhb': 2287, 'erlebt': 2288, 'mannschaft': 2289, 'kanak68ers': 2290, 'brasilien': 2291, 'tuerkische': 2292, 'bestimmten': 2293, 'fan': 2294, 'jreichelt': 2295, 'opfern': 2296, 'guaido': 2297, 'kader': 2298, 'cia': 2299, 'kosten': 2300, 'schaftlichen': 2301, 'geleistet': 2302, 'aeusserungen': 2303, 'schaden': 2304, 'bernd': 2305, 'genaue': 2306, 'politisie': 2307, 'muenchen': 2308, 'aufbauen': 2309, 'lese': 2310, 'hallaschka': 2311, 'demonstrie': 2312, 'rechtsruck': 2313, 'zusammenhang': 2314, '44': 2315, 'revolutionaeren': 2316, 'stimmung': 2317, 'buechel': 2318, 'achtet': 2319, 'angesichts': 2320, 'sexismus': 2321, 'fussball': 2322, 'verzichten': 2323, 'hardcore': 2324, 'innenstadt': 2325, 'gelaende': 2326, 'mahnwachehambi': 2327, 'informie': 2328, 'solidarische': 2329, 'kaempfe': 2330, 'mob': 2331, 'psb': 2332, 'from': 2333, 'about': 2334, 'than': 2335, 'stay': 2336, 'hambacher': 2337, 'fehlen': 2338, '300': 2339, 'anschliessend': 2340, 'geplante': 2341, 'od': 2342, 'hambiea': 2343, 'wochen': 2344, 'interessante': 2345, 'welch': 2346, 'datum': 2347, 'ideale': 2348, 'open': 2349, '09': 2350, 'hunger': 2351, 'anschlag': 2352, 'hinweise': 2353, 'days': 2354, 'fight': 2355, 'waa': 2356, 'finger': 2357, 'kraefte': 2358, '2049': 2359, 'sponti': 2360, 'auswirkungen': 2361, 'erstaunlich': 2362, 'ziemlich': 2363, 'energie': 2364, 'angestellt': 2365, 'spahn': 2366, 'statistiken': 2367, '0001f921': 2368, 'taz': 2369, 'blogs': 2370, 'spaltung': 2371, 'veroeffentlicht': 2372, '0001f928': 2373, 'spdsachsen': 2374, 'liberal': 2375, 'existie': 2376, 'saetze': 2377, 'einfuehren': 2378, 'position': 2379, 'oeffentlichen': 2380, 'brauche': 2381, 'ausserhalb': 2382, 'effektiv': 2383, 'teilnehmer': 2384, 'innerhalb': 2385, 'gesichter': 2386, '2014': 2387, 'aufklaerung': 2388, 'eigener': 2389, 'dokleipzig': 2390, 'entsprechend': 2391, 'akt': 2392, 'sky': 2393, 'service': 2394, 'skyticketde': 2395, 'bestellen': 2396, 'ebenso': 2397, 'blase': 2398, 'johannesgrune': 2399, 'lohnt': 2400, 'ansatzweise': 2401, 'brechen': 2402, 'nachfragen': 2403, 'bauhaus': 2404, 'unpolitisch': 2405, '0001f3fc': 2406, 'dd2110': 2407, 'monate': 2408, 'woe': 2409, 'schlaegt': 2410, 'wirkungslos': 2411, '160': 2412, 'tritt': 2413, 'radfahrer': 2414, 'lady': 2415, 'hexe': 2416, 'allen': 2417, 'dschungelcamp': 2418, 'homie': 2419, '0001f4aa': 2420, 'guhelwi': 2421, 'fridaysforfuture': 2422, 'extra': 2423, 'teilweise': 2424, 'mehreren': 2425, 'starken': 2426, 'dritte': 2427, 'trinken': 2428, 'foto': 2429, '0001f3b6': 2430, 'och': 2431, 'man': 2432, 'dem': 2433, 'kittypunk7': 2434, 'erklaerung': 2435, 'stag': 2436, 'post': 2437, 'traegt': 2438, 'eigenes': 2439, 'hinten': 2440, 'einsetzen': 2441, 'erfahrungen': 2442, 'leise': 2443, 'huuuuiiiiii': 2444, 'scheite': 2445, 'neujahrsansprache': 2446, 'spenden': 2447, 'duerft': 2448, 'vorschreiben': 2449, 'radweg': 2450, 'generation': 2451, 'problematisch': 2452, 'wankelmut': 2453, 'ruft': 2454, 'achso': 2455, 'mich': 2456, 'teuer': 2457, 'mama': 2458, 'ernsthaft': 2459, 'iblali': 2460, 'geaeusse': 2461, 'debatte': 2462, 'stuetzt': 2463, 'ueberraschend': 2464, 'ordentliche': 2465, 'talkshows': 2466, 'zerstoe': 2467, 'behauptung': 2468, 'beweise': 2469, 'hingegen': 2470, 'stirn': 2471, 'geb': 2472, 'fick': 2473, 'teils': 2474, 'hugomuellervogg': 2475, 'claudia': 2476, 'tschonka': 2477, 'aufgeben': 2478, 'einstellung': 2479, 'parasiten': 2480, 'spitze': 2481, 'hetzer': 2482, 'kirchen': 2483, 'schlimmste': 2484, 'miriamozen': 2485, 'rudi': 2486, 'vergangenheit': 2487, 'kragen': 2488, 'ernten': 2489, 'behoerden': 2490, 'kauft': 2491, 'verhaeltnis': 2492, 'maennchen': 2493, 'achimw': 2494, 'hoere': 2495, 'nato': 2496, 'zusaetzlich': 2497, 'apatzwahl': 2498, 'sachlich': 2499, 'vorstellung': 2500, 'chaos': 2501, 'straftaten': 2502, 'figuren': 2503, 'dieter': 2504, 'suessen': 2505, 'geschichten': 2506, 'sehr': 2507, 'phoenix': 2508, 'polen': 2509, 'posten': 2510, 'schulz': 2511, 'weibern': 2512, 'sendung': 2513, 'dose': 2514, 'z4': 2515, 'einzig': 2516, 'wuetend': 2517, 'ohren': 2518, 'sch': 2519, 'rauen': 2520, 'buergern': 2521, 'geeignet': 2522, 'werde': 2523, 'geholfen': 2524, 'kapitalistischen': 2525, 'gewaltbereite': 2526, 'bestand': 2527, 'grobilixx1': 2528, 'haesslicher': 2529, 'binsenwombat': 2530, 'erstes': 2531, 'weiber': 2532, 'dicken': 2533, 'verfickte': 2534, 'ytalkhannah': 2535, 'entfolgt': 2536, 'wissenschaftler': 2537, 'binsenwombats': 2538, 'dicke': 2539, 'haesslich': 2540, 'nutten': 2541, 'veraende': 2542, 'po': 2543, 'nu': 2544, 'freunde': 2545, 'liest': 2546, 'nachrichten': 2547, 'zuerst': 2548, 'mimimi': 2549, 'form': 2550, 'york': 2551, 'sucht': 2552, 'dunkel': 2553, 'refugeeswelcome': 2554, 'liebsten': 2555, 'extrem': 2556, 'tat': 2557, 'braunen': 2558, 'verlassen': 2559, '219a': 2560, 'andischeuer': 2561, 'offel': 2562, 'geplant': 2563, 'daumen': 2564, 'bjoernhoecke': 2565, 'haeufig': 2566, 'pneumologen': 2567, 'loeschen': 2568, 'erkennt': 2569, 'ueblichen': 2570, 'aufruf': 2571, 'kontext': 2572, 'wirsindmehr': 2573, 'minderjaehrige': 2574, 'bio': 2575, 'frag': 2576, 'widerlich': 2577, 'regberlin': 2578, 'boden': 2579, 'omg': 2580, 'vt27kolt11': 2581, 'graf': 2582, 'fencheltee': 2583, 'geboten': 2584, 'schreit': 2585, 'scholz': 2586, 'tiere': 2587, 'heimat': 2588, 'verraeterin': 2589, 'siglo76': 2590, 'ex': 2591, 'dreckspack': 2592, 'wolfssanguis': 2593, 'monaten': 2594, 'beweisen': 2595, 'psycho': 2596, 'kalte': 2597, 'lach': 2598, 'norbe': 2599, 'uwe': 2600, 'mord': 2601, 'umbilicussuevia': 2602, 'lauter': 2603, 'gesiche': 2604, 'schande': 2605, 'nselbstdenker': 2606, 'belegen': 2607, 'quellen': 2608, 'phrasen': 2609, 'regel': 2610, 'vieles': 2611, 'rezimafia': 2612, 'feld': 2613, '0001f61a': 2614, 'langer': 2615, 'zentrale': 2616, 'insbesondere': 2617, 'einfluss': 2618, 'bolsonaro': 2619, 'klaeren': 2620, 'verhinde': 2621, 'fcknzs': 2622, 'seehofermussweg': 2623, 'kuehne': 2624, 'hingeschmissen': 2625, 'joseph': 2626, 'baeume': 2627, 'linksfraktion': 2628, 'hau': 2629, 'greta': 2630, 'lustige': 2631, 'vollgeschissene': 2632, 'menschenhaut': 2633, 'unwaehlbar': 2634, 'ordentlich': 2635, 'min': 2636, 'kommentie': 2637, 'haste': 2638, 'lowerclassmag': 2639, 'paulziemiak': 2640, 'sekte': 2641, 'cducsubt': 2642, 'clown': 2643, 'prinzip': 2644, 'bezahlen': 2645, 'hure': 2646, 'luegt': 2647, 'grossa': 2648, 'brandenburg': 2649, 'familien': 2650, 'ministerium': 2651, 'reagieren': 2652, 'marx': 2653, 'bolsheviken': 2654, 'tochter': 2655, 'relativierung': 2656, 'maske': 2657, 'uwek83442904': 2658, 'relativieren': 2659, 'blick': 2660, 'marleneschfer1': 2661, 'bezug': 2662, 'motiv': 2663, 'hd': 2664, 'schlaege': 2665, 'behinde': 2666, 'mutter': 2667, 'blockliste': 2668, 'alfred996': 2669, 'andreaswerwolf': 2670, 'meinen': 2671, '0001f607': 2672, 'satz': 2673, '2021': 2674, 'soviel': 2675, 'betreiben': 2676, 'kotzenderstern': 2677, 'als': 2678, 'berichterstattung': 2679, 'anti': 2680, 'renatekuenast': 2681, 'sprueche': 2682, 'sog': 2683, 'halbwegs': 2684, 'antifaschismus': 2685, 'sagte': 2686, 'sonne': 2687, 'natalieamiri': 2688, 'busse': 2689, 'toten': 2690, 'reisen': 2691, 'verlorenen': 2692, 'verhandlungen': 2693, 'schulen': 2694, 'minderheiten': 2695, 'bericht': 2696, 'bayernspd': 2697, 'soros': 2698, 'eugh': 2699, 'abschaffen': 2700, 'kritisie': 2701, 'verschwinden': 2702, 'staatlichen': 2703, 'briten': 2704, 'kameras': 2705, 'experimente': 2706, 'wahlkreis': 2707, 'landtag': 2708, 'schwester': 2709, 'koelner': 2710, 'udostiehl': 2711, 'religioesen': 2712, 'termin': 2713, 'treffen': 2714, 'buergerliche': 2715, 'darunter': 2716, 'linksverwir': 2717, 'verzichtet': 2718, 'wohnungen': 2719, '2016': 2720, 'blockpa': 2721, 'darfst': 2722, 'deal': 2723, 'funktion': 2724, 'aerzte': 2725, 'irak': 2726, 'eckleben': 2727, 'freiheiten': 2728, 'rauben': 2729, 'stalinismus': 2730, 'anteil': 2731, 'kommunen': 2732, 'grandios': 2733, 'hermann3004': 2734, 'falsche': 2735, 'linksfaschistischen': 2736, 'gewaehlte': 2737, 'geheim': 2738, 'demnaechst': 2739, 'oer': 2740, 'bimbas': 2741, 'world': 2742, 'stimme': 2743, 'bla': 2744, 'provozieren': 2745, 'albrecht120': 2746, 'faschistischen': 2747, 'janick': 2748, 'klossner': 2749, 'infooetken': 2750, 'embato3': 2751, 'hasiichbin': 2752, 'sophiepassmann': 2753, 'user': 2754, 'nikonundnikotin': 2755, 'dieserroman': 2756, 'b0911': 2757, 'rosenmarmelade': 2758, 'penzonator': 2759, 'woelken': 2760, 'u98': 2761, 'durchgesetzt': 2762, 'spdeckernfoerde': 2763, 'blablajakob': 2764, 'ninascheer': 2765, 'tjax5': 2766, 'delarabur': 2767, 'tsghessen': 2768, 'programm': 2769, 'edrossmann': 2770, 'buergerinnen': 2771, 'atklauner': 2772, 'reichenbach': 2773, 'blockieren': 2774, 'bednarz': 2775, 'jva': 2776, 'kessel': 2777, 'goettingen': 2778, '95657426': 2779, 'plant': 2780, 'bockenheim': 2781, 'maron': 2782, 'kuestenkorsar': 2783, 'ehrung': 2784, 'twin': 2785, 'lengsfeld': 2786, 'birgit': 2787, 'ifs': 2788, '2639': 2789, 'kreiten': 2790, 'irma': 2791, 'vokue': 2792, 'nofragida': 2793, 'riseup': 2794, 'bezogen': 2795, 'jugendliche': 2796, 'verbloedete': 2797, 'charakter': 2798, 'billige': 2799, 'kueste': 2800, 'starb': 2801, 'amerikaner': 2802, 'aufgebaut': 2803, 'religionen': 2804, 'kuemme': 2805, 'profitie': 2806, 'gefaehrliche': 2807, 'vogel': 2808, 'dreckige': 2809, 'bezieht': 2810, 'transparent': 2811, 'machenschaften': 2812, 'chebli': 2813, 'betten': 2814, 'milliarden': 2815, 'firmen': 2816, 'haengt': 2817, 'solch': 2818, 'anders': 2819, 'schmidt': 2820, 'misthaufen': 2821, 'definiere': 2822, 'kerl': 2823, 'zuckungen': 2824, 'schrott': 2825, 'knueppeln': 2826, 'kindergeld': 2827, 'baby': 2828, 'ausgeht': 2829, 'marionette': 2830, 'drueber': 2831, 'binden': 2832, 'monster': 2833, 'afdimbundestag': 2834, 'alt': 2835, 'christian': 2836, 'tode': 2837, 'pak': 2838, 'zeug': 2839, 'fake': 2840, 'bundesland': 2841, 'amberg': 2842, 'schweigt': 2843, 'vorbilder': 2844, 'kriege': 2845, 'reichste': 2846, 'photo': 2847, 'schwanz': 2848, 'studie': 2849, 'swagenknecht': 2850, 'kaufen': 2851, 'kulturen': 2852, 'leichter': 2853, 'waffe': 2854, 'siehe': 2855, 'afghanistan': 2856, 'polizisten': 2857, 'gerichtshof': 2858, 'gefuehl': 2859, 'genuegt': 2860, 'uebernimmt': 2861, 'scheissbayernmuenchen': 2862, 'dienen': 2863, 'assad': 2864, 'engagement': 2865, 'sparen': 2866, 'kali': 2867, 'yuga': 2868, 'sepp': 2869, 'selbstueberschaetzung': 2870, 'sachliche': 2871, 'pauldhonest': 2872, 'medzeraj': 2873, 'besseren': 2874, 'bestaetigt': 2875, 'igesamt': 2876, 'waffen': 2877, 'zunaechst': 2878, 'geschaeft': 2879, 'loben': 2880, 'antisemitische': 2881, 'zuhause': 2882, 'agenda': 2883, 'hetzen': 2884, 'rieben': 2885, 'ermordet': 2886, 'voelkermord': 2887, 'normale': 2888, 'abwa': 2889, 'alltag': 2890, 'wagt': 2891, 'ihre': 2892, 'umsonst': 2893, 'angriffe': 2894, 'bt': 2895, 'uebrig': 2896, 'domin': 2897, 'ede': 2898, 'faznet': 2899, 'angesprochen': 2900, 'maerchen': 2901, 'oeko': 2902, 'gewissen': 2903, 'vergeht': 2904, 'ruf': 2905, 'gas': 2906, 'profitorientie': 2907, 'anschauen': 2908, 'rettet': 2909, 'wilhardww': 2910, 'bereiche': 2911, 'aendern': 2912, 'befindet': 2913, 'diffamieren': 2914, 'angeht': 2915, 'islamismus': 2916, 'spektrum': 2917, 'have': 2918, 'googeln': 2919, 'sorgt': 2920, 'farben': 2921, 'bayer': 2922, 'christlichen': 2923, 'weremember': 2924, 'obermeier': 2925, 'lager': 2926, 'unschuldige': 2927, 'ichbinkoelnerin': 2928, 'unterscheidet': 2929, 'beweis': 2930, 'spiele': 2931, 'tor': 2932, 'fans': 2933, 'wm': 2934, 'jan': 2935, 'grindel': 2936, 'suendenbock': 2937, 'kollektiv': 2938, 'halle': 2939, 'zustaendig': 2940, 'rechtzeitig': 2941, 'lautet': 2942, 'bravo': 2943, 'wwf': 2944, 'menge': 2945, 'wohle': 2946, 'judenfeindlichkeit': 2947, 'interessen': 2948, 'moralische': 2949, 'pseudo': 2950, 'heuchelei': 2951, 'umzusetzen': 2952, 'wunsch': 2953, 'mehrheitlich': 2954, 'lachen': 2955, 'nutzt': 2956, 'rechtlichen': 2957, 'grossteil': 2958, 'radikalen': 2959, 'dar': 2960, 'vorwurf': 2961, 'schuldkult': 2962, 'gelten': 2963, 'gedenkveranstaltung': 2964, 'unterscheiden': 2965, 'moskau': 2966, 'tropical': 2967, 'machine': 2968, 'lecker': 2969, 'neumarkt': 2970, 'weiterer': 2971, 'normaluhr': 2972, 'nopolgnrw': 2973, 'hoelle': 2974, 'antifaschistische': 2975, 'strukturen': 2976, 'empfehlen': 2977, 'timestamps': 2978, 'demonstrieren': 2979, 'antifaschist': 2980, 'moeglichst': 2981, 'schnelle': 2982, 'genutzt': 2983, 'fotzen': 2984, 'generell': 2985, 'halloween': 2986, 'wo': 2987, 'em': 2988, 'aufkommen': 2989, 'deppen': 2990, 'verschnaufpause': 2991, 'manheim': 2992, 'festival': 2993, 'wow': 2994, 'racism': 2995, 'tollen': 2996, 'diskursiv': 2997, 'polizeipraesidium': 2998, 'bar': 2999, 'mitverantwo': 3000, 'forest': 3001, 'on': 3002, 'genoss': 3003, 'ruecktritt': 3004, 'stopp': 3005, '32': 3006, 'mittw': 3007, 'moenchengladbach': 3008, 'moment': 3009, 'fah': 3010, 'couch': 3011, 'teller': 3012, '33': 3013, 'staerkung': 3014, 'getraenk': 3015, '05': 3016, 'getraenke': 3017, 'erhalten': 3018, 'demonstration': 3019, 'rodungsstopp': 3020, 'sommerpause': 3021, 'seenotrettung': 3022, 'dub': 3023, 'entstanden': 3024, 'haeuser': 3025, 'juli': 3026, 'iii': 3027, 'music': 3028, '35': 3029, 'april': 3030, 'herzlich': 3031, 'god': 3032, 'hard': 3033, 'damn': 3034, 'gabberwitch': 3035, 'meldung': 3036, 'rechtsrock': 3037, 'vorhin': 3038, 'umfeld': 3039, 'you': 3040, 'kuendigen': 3041, 'aufmarsch': 3042, 'kleidung': 3043, 'alexander': 3044, 'legida': 3045, 'treffpkt': 3046, 'bahnhof': 3047, 'termine': 3048, 'nice': 3049, 'razzien': 3050, 'gehn': 3051, 'va': 3052, 'oeffnen': 3053, 'besucher': 3054, 'malmedy': 3055, 'ua': 3056, 'marsch': 3057, 'nopegida': 3058, 'tivoli': 3059, 'tee': 3060, 'sitze': 3061, 'saechsischen': 3062, 'mdl': 3063, '0001f62c': 3064, '0001f601': 3065, 'stattdessen': 3066, 'herkunft': 3067, 'verhaeltnisse': 3068, 'gedanke': 3069, 'gesellschaftlichen': 3070, 'what': 3071, 'gruende': 3072, 'einfache': 3073, 'suche': 3074, 'hach': 3075, '70': 3076, 'recherche': 3077, 'ergeben': 3078, '0001f612': 3079, 'buehne': 3080, 'mittel': 3081, 'entscheiden': 3082, 'linker': 3083, 'endet': 3084, 'ritt': 3085, 'verstehst': 3086, 'ding': 3087, 'inhalte': 3088, 'david': 3089, 'patriotischen': 3090, 'vorschlaege': 3091, 'debatten': 3092, 'ib': 3093, 'webseite': 3094, 'rassistischen': 3095, 'konzept': 3096, 'witze': 3097, 'herzstatthetze': 3098, 'landespa': 3099, 'wohnung': 3100, 'putzen': 3101, 'spontan': 3102, 'tool': 3103, 'halbe': 3104, 'jeweiligen': 3105, 'interesse': 3106, 'bewusstsein': 3107, 'eklig': 3108, 'dessau': 3109, 'eine': 3110, 'gewerkschaften': 3111, '270c': 3112, 'huebschen': 3113, 'grunde': 3114, 'willy': 3115, 'barley': 3116, 'solltet': 3117, 'raeumen': 3118, 'neee': 3119, 'andersrum': 3120, 'nasty242': 3121, 'lichen': 3122, 'vollidiot': 3123, 'maximal': 3124, 'angela': 3125, 'draus': 3126, 'machste': 3127, '0001f631': 3128, 'gucke': 3129, 'gelaufen': 3130, 'strong': 3131, 'healthy': 3132, 'out': 3133, 'energy': 3134, 'regnet': 3135, 'miracle': 3136, 'morning': 3137, 'dahin': 3138, '0001f603': 3139, 'jeglicher': 3140, 'hinsicht': 3141, 'zahl': 3142, 'allianz': 3143, 'erfahren': 3144, 'versicherung': 3145, 'auto': 3146, 'kfz': 3147, 'einwanderung': 3148, 'selbstmord': 3149, 'meter': 3150, 'komplette': 3151, 'seawatchcrew': 3152, 'motivie': 3153, 'anzeigen': 3154, 'verhandeln': 3155, 'gehirn': 3156, 'herzen': 3157, 'hinterher': 3158, 'gegend': 3159, 'umgeben': 3160, 'noodles': 3161, 'compact': 3162, 'mitglied': 3163, 'runde': 3164, 'staendig': 3165, 'jeden': 3166, 'stagerbn': 3167, 'widerwae': 3168, 'diejenigen': 3169, 'angeboten': 3170, 'geschlagen': 3171, 'wide': 3172, '0001f633': 3173, 'fantasie': 3174, 'diffamie': 3175, 'zitie': 3176, 'umgang': 3177, 'shitstorm': 3178, 'habecks': 3179, 'eintrag': 3180, 'loescht': 3181, 'social': 3182, 'frisch': 3183, 'gebt': 3184, 'bislang': 3185, 'ran': 3186, 'anrufen': 3187, '6000': 3188, 'beantragen': 3189, 'gesundheit': 3190, 'zaehlt': 3191, 'garantie': 3192, 'waffenschein': 3193, 'guck': 3194, 'jubelt': 3195, 'gelbe': 3196, 'politischer': 3197, 'kaputt': 3198, 'diskussionen': 3199, 'kritischen': 3200, 'echter': 3201, 'fremdschaemen': 3202, 'instagram': 3203, 'tbh': 3204, 'ziehe': 3205, 'innenminister': 3206, 'koerper': 3207, 'real': 3208, 'sexisten': 3209, 'youtube': 3210, 'verstecken': 3211, 'extremistische': 3212, 'argumentation': 3213, 'gelogen': 3214, 'dpa': 3215, 'geglaubt': 3216, 'unterlagen': 3217, 'beigebracht': 3218, 'zeig': 3219, 'erfaeh': 3220, 'generationen': 3221, 'aeussern': 3222, 'anderes': 3223, 'unfug': 3224, 'objektiv': 3225, 'konzernen': 3226, 'konzerne': 3227, 'einfacher': 3228, 'perfekte': 3229, 'aufzuklaeren': 3230, 'studien': 3231, 'weltweit': 3232, 'ungefaehr': 3233, 'beteiligung': 3234, 'umwelt': 3235, 'vernichtung': 3236, 'rechtlich': 3237, 'leh': 3238, 'naiven': 3239, 'aufschrei': 3240, 'einseitige': 3241, 'louiecrit': 3242, 'langweilig': 3243, 'leistung': 3244, 'wirre': 3245, 'fern': 3246, 'verboh': 3247, 'heit': 3248, 'feind': 3249, 'sarrazin': 3250, 'anmassung': 3251, 'lebe': 3252, 'moralduenkel': 3253, 'platzt': 3254, 'beleidigung': 3255, 'wind': 3256, 'saet': 3257, 'sirschnee': 3258, 'liesche13761429': 3259, 'sanktionie': 3260, 'riesige': 3261, 'suseschmitt': 3262, 'erzeugt': 3263, 'geschwaetz': 3264, 'tier': 3265, 'natur': 3266, 'eddie': 3267, '1412': 3268, 'achimspiegel': 3269, 'roth': 3270, 'denkfaulheit': 3271, 'schiesst': 3272, 'stehst': 3273, 'nach': 3274, 'handel': 3275, 'kreaturen': 3276, 'gottes': 3277, 'sendungen': 3278, 'handy': 3279, 'totale': 3280, 'tagesthemen': 3281, 'gestorben': 3282, 'arroganz': 3283, 'bewe': 3284, 'rotwein': 3285, 'forum': 3286, 'reis': 3287, 'stein': 3288, 'asyl': 3289, 'georgrestle': 3290, 'pube': 3291, 'offenen': 3292, 'geblieben': 3293, 'netzdenunziant': 3294, 'erfundenen': 3295, 'bedienen': 3296, 'publizistikon': 3297, 'jury': 3298, 'zustand': 3299, 'bekannte': 3300, 'alternativlose': 3301, 'ueben': 3302, 'ventil': 3303, 'compactmagazin': 3304, 'stbrandner': 3305, 'shakriet': 3306, 'personifizie': 3307, 'aufgewacht': 3308, 'beck': 3309, 'vernunft': 3310, 'demonstrationen': 3311, 'entlassen': 3312, 'regsprecher': 3313, 'reaktion': 3314, 'afdsalzgitterkv': 3315, 'horden': 3316, 'abschluss': 3317, 'ausbildung': 3318, 'diezeit': 3319, 'emotionale': 3320, 'diffamierung': 3321, 'aimanmazyek': 3322, 'schild': 3323, 'regeln': 3324, 'klug': 3325, 'verschwunden': 3326, 'journaille': 3327, 'personal': 3328, 'koeppelroger': 3329, 'faehig': 3330, 'abgelehnt': 3331, 'vereine': 3332, 'laendern': 3333, 'caicien': 3334, 'kommando': 3335, 'geretteten': 3336, 'gebrochen': 3337, 'provozie': 3338, 'christen': 3339, 'hobby': 3340, 'frigiden': 3341, 'touristen': 3342, 'heult': 3343, 'huehner': 3344, 'koerbchengroesse': 3345, 'kacken': 3346, 'riecht': 3347, 'heut': 3348, 'prost': 3349, 'etwas': 3350, 'verfluchte': 3351, 'haengen': 3352, 'verbraucht': 3353, 'besoffen': 3354, 'wollte': 3355, 'herz': 3356, 'schlaft': 3357, 'entweder': 3358, 'garnix': 3359, 'fickt': 3360, 'potter': 3361, 'einmal': 3362, 'dick': 3363, 'dera': 3364, 'kurze': 3365, 'aende': 3366, 'db': 3367, 'kritisieren': 3368, 'pissern': 3369, 'zimmer': 3370, 'sauber': 3371, 'berlinale': 3372, 'riechen': 3373, 'missbrauchen': 3374, 'dfacheck': 3375, 'schiebt': 3376, 'groesser': 3377, 'erleichte': 3378, 'positionen': 3379, 'reten': 3380, 'wirkungsvoll': 3381, 'dzienus': 3382, 'in': 3383, 'lies': 3384, 'gepruegelt': 3385, 'jahrzehnte': 3386, 'wirken': 3387, 'gutachten': 3388, 'klare': 3389, 'entscheidungen': 3390, 'tempolimit': 3391, 'scheuer': 3392, 'auspuff': 3393, 'autoindustrie': 3394, 'fakenews': 3395, 'automobilindustrie': 3396, 'internationale': 3397, 'fachleute': 3398, 'keineafd2017': 3399, 'faschistoiden': 3400, 'dennoch': 3401, 'duemmliche': 3402, 'franzosen': 3403, 'soeder': 3404, 'heulen': 3405, '2011': 3406, 'wut': 3407, 'bloede': 3408, 'wichser': 3409, 'kaeltebus': 3410, 'senias': 3411, 'andvaka': 3412, 'muede': 3413, 'inhalt': 3414, 'wobei': 3415, 'standards': 3416, 'seeheimer': 3417, 'kreis': 3418, 'markus': 3419, 'krause': 3420, 'parlamenten': 3421, 'schieben': 3422, 'vorsicht': 3423, 'moslem': 3424, 'nordkorea': 3425, 'verstaendlich': 3426, 'bestaetigen': 3427, 'assetskater72': 3428, 'rattenkopf24': 3429, 'vernichten': 3430, 'lutscher': 3431, 'bunten': 3432, 'bunter': 3433, 'republik': 3434, 'tierquaelerei': 3435, 'egon': 3436, 'dorge': 3437, 'djanecek': 3438, 'abgeht': 3439, 'ratten': 3440, 'komme': 3441, 'eliminieren': 3442, 'aufhoe': 3443, 'schreibe': 3444, 'graubaer1953': 3445, 'vernichtet': 3446, 'jo': 3447, 'staerker': 3448, 'seuche': 3449, 'mond': 3450, 'waende': 3451, 'dummer': 3452, 'pest': 3453, 'lache': 3454, 'maulwerker1': 3455, 'irre': 3456, 'buchstaben': 3457, 'gaebe': 3458, 'alexarusss': 3459, 'rburunki': 3460, 'schau': 3461, 'surdt': 3462, 'ticken': 3463, 'perfekt': 3464, 'entscheidung': 3465, 'bedenken': 3466, 'kochen': 3467, 'krankheiten': 3468, 'hotline': 3469, 'einer': 3470, 'unqualifizie': 3471, 'schiessen': 3472, 'elektriker': 3473, 'se': 3474, 'fakt': 3475, 'forschen': 3476, 'daue': 3477, 'diskutieren': 3478, 'angemessen': 3479, 'konkret': 3480, 'funktionieren': 3481, 'kuehlschrank': 3482, 'kumpel': 3483, 'kekse': 3484, '0schneggsch': 3485, 'muc': 3486, 'corinnelehfeldt': 3487, 'jedenfalls': 3488, 'vaters': 3489, 'erfahrung': 3490, 'professor': 3491, 'meinte': 3492, 'hoefe': 3493, 'vorstellungen': 3494, 'gaborhalasz1': 3495, 'gueha': 3496, 'alternative': 3497, 'nogroko': 3498, 'kevin': 3499, 'berufsausbildung': 3500, 'taugenichts': 3501, 'novelle': 3502, 'eichendorff': 3503, 'messermaenner': 3504, 'alimentieren': 3505, 'dummbatz': 3506, 'peteraltmaier': 3507, '0001f4a3': 3508, 'wirst': 3509, 'thomasreichelhb': 3510, 'netteliebe': 3511, 'hucke': 3512, 'blonde': 3513, 'saefken': 3514, 'maria': 3515, 'hiesigen': 3516, 'verraet': 3517, 'kritische': 3518, 'roll': 3519, 'eingestellt': 3520, 'keine': 3521, 'kufnuke': 3522, 'ansehen': 3523, 'wurdest': 3524, 'gezaehlt': 3525, 'kachelmann': 3526, 'reschke': 3527, 'zweifel': 3528, 'entlarvt': 3529, 'kollegen': 3530, 'staatsfunk': 3531, 'abhaengigkeit': 3532, 'doehnermann': 3533, 'magazin': 3534, 'werdet': 3535, 'giletsjaunes': 3536, 'interview': 3537, 'scheixxe': 3538, 'quotenmatronen': 3539, 'fliehen': 3540, 'unsinnig': 3541, 'fraktion': 3542, 'aufgefallen': 3543, 'unter': 3544, 'ossis': 3545, 'durchschauen': 3546, 'engagie': 3547, 'benutzt': 3548, 'weiblich': 3549, 'entgegen': 3550, 'moeglichkeiten': 3551, 'schoos76': 3552, 'einschaetzung': 3553, 'komplex': 3554, 'lokal': 3555, 'eis': 3556, 'trick': 3557, 'luege': 3558, 'diesbezueglich': 3559, 'betrueger': 3560, 'funktionaere': 3561, 'wohnt': 3562, 'haenden': 3563, 'signal': 3564, 'abgeschafft': 3565, 'bei': 3566, 'gans': 3567, 'nationen': 3568, 'davos': 3569, 'iges': 3570, 'richten': 3571, 'dient': 3572, 'ehe': 3573, 'eindruck': 3574, 'never': 3575, 'evers21': 3576, 'follow': 3577, 'schluessel': 3578, 'beguenstigung': 3579, 'riexinger': 3580, 'frauhoppensted1': 3581, 'oeffentliche': 3582, 'koenigreich': 3583, 'protesten': 3584, 'spalten': 3585, 'provokateur': 3586, 'ecksack': 3587, 'sarkasmus': 3588, 'imageschaden': 3589, 'menschenverachtend': 3590, 'spaetestens': 3591, 'besetzung': 3592, 'ironisch': 3593, 'angeben': 3594, 'doof': 3595, 'immerhin': 3596, 'bielefeld': 3597, '0001f382': 3598, 'hotel': 3599, 'oesterreich': 3600, 'lag': 3601, 'wat': 3602, 'infotweet': 3603, 'blatt': 3604, 'fundie': 3605, 'shi': 3606, 'reise': 3607, 'insofern': 3608, 'unangenehm': 3609, 'aet': 3610, 'jobcenter': 3611, 'soerenkohlhuber': 3612, 'wesentlich': 3613, 'szene': 3614, 'lernt': 3615, 'fahrraeder': 3616, '0001f618': 3617, 'jens': 3618, 'gib': 3619, 'haettest': 3620, 'haustuer': 3621, 'statement': 3622, 'ursache': 3623, 'rot': 3624, 'buchhandlung': 3625, 'buecher': 3626, 'ausreden': 3627, 'zumutung': 3628, 'muesse': 3629, 'irland': 3630, 'massnahmen': 3631, 'deutsches': 3632, 'vereinigten': 3633, 'erzogen': 3634, 'wundern': 3635, 'verbreitung': 3636, 'aberfair': 3637, 'armut': 3638, 'kostet': 3639, 'klimawandels': 3640, 'berlindirekt': 3641, 'gesprochen': 3642, 'instrumentalisieren': 3643, 'mitlaeufer': 3644, 'hitlers': 3645, 'buerokratie': 3646, 'nationalen': 3647, 'sieben': 3648, 'vollstaendig': 3649, 'ueberlegen': 3650, 'oe': 3651, 'handelsabkommen': 3652, 'strafe': 3653, 'kontrollieren': 3654, 'buergerlichen': 3655, 'h4': 3656, 'austritt': 3657, 'ueberwachung': 3658, 'koenne': 3659, 'fuenf': 3660, 'froehlich': 3661, 'spruch': 3662, 'eingesetzt': 3663, 'aussen': 3664, 'zwangs': 3665, 'angeblichen': 3666, 'mutigen': 3667, 'diskurs': 3668, 'faseln': 3669, 'josef': 3670, 'arbeitslose': 3671, 'allez': 3672, 'vorsitzende': 3673, 'gast': 3674, 'staates': 3675, 'weltkrieg': 3676, 'irren': 3677, 'umbau': 3678, 'wirklichkeit': 3679, 'geaende': 3680, 'ueberlassen': 3681, 'gezeigt': 3682, 'iss': 3683, 'geschaeftsfuehrer': 3684, 'empoerung': 3685, 'teurer': 3686, 'vergeben': 3687, 'kinderehe': 3688, 'eidigen': 3689, 'paradies': 3690, 'betraegt': 3691, 'umgerechnet': 3692, 'forderungen': 3693, 'lebensmittel': 3694, 'bau': 3695, 'vereiteln': 3696, 'spannende': 3697, 'volksrepublik': 3698, 'wetterwandel': 3699, 'unnoetiger': 3700, 'erleben': 3701, 'verarmt': 3702, 'chicago': 3703, 'agie': 3704, 'verkuendet': 3705, 'libyen': 3706, 'mohamedanische': 3707, 'regimechange': 3708, 'moerderregime': 3709, 'parlamentswahl': 3710, 'korrigie': 3711, 'boykott': 3712, 'waehrungen': 3713, 'psu': 3714, 'verschiedenen': 3715, 'diversen': 3716, 'aba': 3717, 'batterien': 3718, 'ehemaligen': 3719, 'hicks': 3720, 'jedesmal': 3721, 'knueppel': 3722, 'tessarakt': 3723, 'technische': 3724, 'linksextremisten': 3725, 'friedliche': 3726, '1989': 3727, 'korruptes': 3728, 'menschenverachtendes': 3729, 'loehne': 3730, 'zusaetzliche': 3731, 'linksextremen': 3732, 'parlamentswahlen': 3733, 'israelische': 3734, 'unrechtsregime': 3735, 'fegen': 3736, 'systems': 3737, 'cuba': 3738, 'dan': 3739, 'roedding': 3740, 'ronaldglaeser': 3741, 'quotenfrau': 3742, 'juan': 3743, 'guaid': 3744, 'schaemt': 3745, 'hm': 3746, 'wunderl97628159': 3747, 'morgenmagazin': 3748, 'glueckwunsch': 3749, 'gebieten': 3750, 'vereinbaren': 3751, 'terroristen': 3752, 'unverschaemtheit': 3753, 'merkelhunter1': 3754, 'rechtsbeugung': 3755, 'geheimnissverrat': 3756, 'gutachtens': 3757, 'voller': 3758, 'geistigen': 3759, 'unbewaffnet': 3760, 'meinungsterroristen': 3761, 'burger': 3762, 'feuchten': 3763, 'aufnehmen': 3764, 'jungs': 3765, 'haare': 3766, 'antisemitisch': 3767, 'eingriff': 3768, 'pkk': 3769, 'spalter': 3770, 'oliverkulikbln': 3771, 'dunjahayali': 3772, 'medienwirksam': 3773, 'gehaltene': 3774, 'sitzt': 3775, 'durchstechen': 3776, 'raulich': 3777, 'eingestuft': 3778, 'strafanzeige': 3779, 'vorschlag': 3780, 'sage': 3781, 'klagen': 3782, 'arme': 3783, 'ingcat': 3784, 'hmmn': 3785, 'bissel': 3786, 'kohl': 3787, 'roman': 3788, 'impfen': 3789, 'gegendemonstranten': 3790, 'neodeutscher': 3791, 'madbutscher': 3792, 'huch': 3793, 'flower': 3794, 'riot0711': 3795, 'ibdeutschland': 3796, 'jaja': 3797, 'massnahme': 3798, '1schlobohm': 3799, 'ball': 3800, 'mdraktuell': 3801, 'focusonline': 3802, 'nicole': 3803, 'taschenorakel': 3804, 'wichtigen': 3805, 'datflug': 3806, 'konsumieren': 3807, 'antid': 3808, 'zahlreich': 3809, 'bubble': 3810, 'ottos': 3811, 'stirbt': 3812, 'ollowain': 3813, 'boi': 3814, 'meinungen': 3815, 'jettekrokette': 3816, 'blaue': 3817, 'weisz': 3818, 'antifas': 3819, 'karlhjunghans': 3820, 'waehlt': 3821, 'abgeordnete': 3822, 'gestimmt': 3823, 'kradwege': 3824, 'kurzfristig': 3825, 'soenkerix': 3826, 'bestrafen': 3827, 'tarifloehne': 3828, 'vorwae': 3829, 'hhoeppe': 3830, 'petition': 3831, 'frauenwahlrecht': 3832, 'nrwspd': 3833, 'ltsh': 3834, 'brutalen': 3835, 'feinde': 3836, 'ostdeutschen': 3837, 'mussten': 3838, 'phaenomen': 3839, 'chaosradio': 3840, 'spddc': 3841, 'hessen': 3842, 'ausctk': 3843, 'koalition': 3844, 'inhabersaat': 3845, 'sh': 3846, 'jasiebe': 3847, 'organisieren': 3848, 'segeberg': 3849, 'ums': 3850, 'diejuramama': 3851, 'begonnen': 3852, 'donatella091259': 3853, 'juliakloeckner': 3854, 'kesseln': 3855, 'exekutive': 3856, 'unbegleitet': 3857, 'noafd': 3858, 'preungesheim': 3859, 'fede': 3860, 'oper': 3861, 'gehts': 3862, 'ezb': 3863, 'eingekesselten': 3864, 'campus': 3865, 'ausfuehrlich': 3866, 'verbindungen': 3867, 'elend': 3868, 'antifaraus': 3869, 'mordversuch': 3870, 'journalist': 3871, 'enteignet': 3872, 'palaestinensischen': 3873, 'googlem': 3874, 'persoenliches': 3875, 'alexcwha': 3876, 'ergaenzung': 3877, 'patzelt': 3878, 'augenauf': 3879, '0001f440': 3880, 'gegenhomohass': 3881, 'verabscheuungswuerdig': 3882, 'juliustroeger': 3883, 'grundguetiger': 3884, 'zahlreichen': 3885, 'buchmessefrankfu': 3886, 'zukuenftig': 3887, '2757': 3888, 'baeh': 3889, 'pag': 3890, 'tomahrweiler': 3891, 'wallintin': 3892, '2010': 3893, 'jcc': 3894, 'sek': 3895, 'imperialismus': 3896, 'pinochet': 3897, 'blockade': 3898, 'machmal7': 3899, 'ellibobby': 3900, 'nog20': 3901, '0646': 3902, '0627': 3903, 'bka': 3904, 'rossmarkt': 3905, 'barabend': 3906, 'konsulat': 3907, 'blockaden': 3908, 'fluchtursachen': 3909, 'roemer': 3910, 'antira': 3911, '1012ffm': 3912, 'fuck': 3913, 'gallus': 3914, 'giessen': 3915, 'project': 3916, 'shelter': 3917, 'refugeesuppo': 3918, 'lists': 3919, 'fragida': 3920, 'biji': 3921, 'munition': 3922, 'orgasmus': 3923, 'weswegen': 3924, 'scheissdreck': 3925, 'weltmeister': 3926, 'schockierend': 3927, 'suggestion': 3928, 'munde': 3929, 'schalten': 3930, 'schiff': 3931, 'meer': 3932, 'vernuemftiges': 3933, 'gerechtes': 3934, 'gehirnwaesche': 3935, 'mafia': 3936, 'kriminelles': 3937, 'dreckstueck': 3938, 'vorhanden': 3939, 'bitteren': 3940, 'behandlung': 3941, 'ruinieren': 3942, 'auftrag': 3943, 'gekauften': 3944, 'mat': 3945, 'allah': 3946, 'erzaehlen': 3947, 'nehme': 3948, 'vergesst': 3949, 'franzoesische': 3950, 'entwicklung': 3951, 'messer': 3952, 'kapitalistische': 3953, 'betrieben': 3954, 'richterin': 3955, 'kennst': 3956, 'anstelle': 3957, 'ups': 3958, 'einzuschraenken': 3959, 'verbloedeter': 3960, 'kurzen': 3961, 'helmut': 3962, 'intellekt': 3963, 'cent': 3964, 'hinein': 3965, 'inklusiv': 3966, 'beschuetzt': 3967, 'alexandersneu': 3968, 'russlandru': 3969, 'feige': 3970, 'verfluchtes': 3971, 'bse': 3972, 'rindvieh': 3973, 'mitmenschen': 3974, 'moschee': 3975, 'bauer': 3976, 'papst': 3977, 'trottel': 3978, 'ueberprueft': 3979, 'stoe': 3980, 'deklarie': 3981, 'bauch': 3982, 'gepraegt': 3983, 'vetternwi': 3984, 'veru': 3985, 'institution': 3986, 'idiot': 3987, 'kapitalisten': 3988, 'vernuemftigen': 3989, 'konzens': 3990, 'sozialstaat': 3991, 'tauschen': 3992, 'treibt': 3993, 'kokain': 3994, 'hergekommen': 3995, 'bottrop': 3996, 'schaeumt': 3997, 'umsteigen': 3998, 'rasen': 3999, 'notwendig': 4000, 'dreist': 4001, 'eile': 4002, 'aussieht': 4003, 'brutaler': 4004, 'besitzen': 4005, 'arabische': 4006, 'dannygodan': 4007, 'vatikan': 4008, 'annektieren': 4009, 'ulf': 4010, 'torusle': 4011, 'neugierig': 4012, 'aeusse': 4013, 'voelker': 4014, 'zugunsten': 4015, 'manipulie': 4016, 'manipulieren': 4017, 'aggressiv': 4018, 'greifen': 4019, 'jemen': 4020, 'hochachtung': 4021, 'glaubwuerdigen': 4022, 'saemtliche': 4023, 'suggerieren': 4024, 'entfernen': 4025, 'klatschen': 4026, 'bundesverfassungsgericht': 4027, 'nsa': 4028, 'uebelsten': 4029, 'heiss': 4030, 'verzweifelte': 4031, 'lde': 4032, 'anglo': 4033, 'fuss': 4034, 'sprich': 4035, 'passenden': 4036, 'maidan': 4037, 'kriegstreiber': 4038, 'gegeneinander': 4039, 'mdrde': 4040, 'beitragen': 4041, 'bilden': 4042, 'zug': 4043, 'grosskonzernen': 4044, 'zahlt': 4045, 'westlich': 4046, 'umarmung': 4047, 'schlampe': 4048, 'angefueh': 4049, 'regimewechsel': 4050, 'daemlicher': 4051, 'vermisst': 4052, 'geweckt': 4053, 'gekostet': 4054, 'gezogen': 4055, 'keule': 4056, 'zionismus': 4057, 'unabhaengigen': 4058, 'ausgetragen': 4059, 'duemmlinge': 4060, 'bemuehen': 4061, 'religionsgemeinschaft': 4062, 'fatale': 4063, 'bewiesene': 4064, 'rassistenpa': 4065, 'anscheinend': 4066, 'antiislamische': 4067, 'zionist': 4068, 'zionistische': 4069, 'islamhasser': 4070, 'bester': 4071, 'getaugt': 4072, 'bestehende': 4073, 'aufgehoben': 4074, 'sichern': 4075, 'schafe': 4076, 'maschinerie': 4077, 'bedenkt': 4078, 'etablie': 4079, 'rueckt': 4080, 'cl': 4081, 'maechtig': 4082, 'ausrede': 4083, 'wagner': 4084, 'kontrollie': 4085, 'krankes': 4086, 'genannt': 4087, 'netzwerke': 4088, 'jederzeit': 4089, 'erinnerungskultur': 4090, 'edel': 4091, 'restlichen': 4092, 'grab': 4093, 'kriegt': 4094, 'vater73': 4095, 'derspiegel': 4096, 'maybritillner': 4097, 'journalistin': 4098, 'gelobt': 4099, 'gefeie': 4100, 'troll': 4101, 'eigenregie': 4102, 'loesen': 4103, 'folgst': 4104, 'oekofaschisten': 4105, 'goldene': 4106, 'amen': 4107, 'patent': 4108, 'sevimdagdelen': 4109, 'zustimmung': 4110, 'missbraucht': 4111, 'sollst': 4112, 'verweis': 4113, 'seitens': 4114, 'zustimmen': 4115, 'berechtigte': 4116, 'mesutozil1088': 4117, 'dankbar': 4118, 'zionistischen': 4119, 'eilung': 4120, 'standpunkt': 4121, 'time': 4122, 'repraesentie': 4123, 'ifikaten': 4124, 'naiv': 4125, 'christliche': 4126, 'reines': 4127, 'arbeitslager': 4128, 'wovon': 4129, 'andreaskemper': 4130, 'hasspredigern': 4131, 'clans': 4132, 'ausgelassen': 4133, 'praesentie': 4134, 'gretas': 4135, 'irgendjemanden': 4136, 'fonokkemeny': 4137, '20min': 4138, 'huginmunin91': 4139, 'gruessen': 4140, 'vorbild': 4141, 'auge': 4142, 'abwehr': 4143, 'abordramy': 4144, 'selbstbestimmung': 4145, 'nr': 4146, 'jan0077': 4147, 'nikyello': 4148, 'ihf': 4149, 'teamd': 4150, 'finale': 4151, 'sunnyboytande': 4152, 'uwegensheimer': 4153, 'est': 4154, 'who': 4155, 'groupie': 4156, 'nationalhymne': 4157, 'magst': 4158, 'duisburg': 4159, 'ausgegangen': 4160, 'arbeitest': 4161, 'mediale': 4162, 'wahnsinnig': 4163, 'praesidenten': 4164, 'wussten': 4165, 'versaut': 4166, 'verachtung': 4167, 'verlauf': 4168, 'umgehen': 4169, 'gemessen': 4170, 'klatsche': 4171, 'meister': 4172, 'sieg': 4173, 'dna': 4174, 'svenjaschulze68': 4175, 'fridayforfuture': 4176, 'noggout': 4177, 'aufgebauscht': 4178, 'ronzheimer': 4179, 'front': 4180, 'geweiht': 4181, 'paketbote': 4182, 'gruendete': 4183, 'vorhandene': 4184, 'mittels': 4185, 'wahre': 4186, 'entkraeften': 4187, 'gewuenschten': 4188, 'schicksal': 4189, 'syrer': 4190, 'bescheren': 4191, 'gestehen': 4192, 'lehnt': 4193, 'rahmen': 4194, 'ablehnt': 4195, 'strobelsteffen': 4196, 'undemokratisch': 4197, 'abzulehnen': 4198, 'vergleich': 4199, 'judenfeindliche': 4200, 'islamfeindlich': 4201, 'wild': 4202, 'wahren': 4203, 'judenhasser': 4204, 'geballer': 4205, 'kruste': 4206, 'eiter': 4207, 'inkasso': 4208, 'shitshifter': 4209, 'mard': 4210, 'house': 4211, 'zeitgleich': 4212, 'nahmen': 4213, '51': 4214, '38': 4215, 'zunahme': 4216, 'neonazi': 4217, 'aktivitaeten': 4218, 'massive': 4219, 'bedeuten': 4220, 'wuppe': 4221, 'al': 4222, 'antifaschistischen': 4223, 'kaelte': 4224, 'kollektive': 4225, 'hashtags': 4226, 'fettes': 4227, 'lothar': 4228, 'verharmlosung': 4229, 'schwule': 4230, 'einerseits': 4231, 'andererseits': 4232, 'aftershow': 4233, 'emo': 4234, 'rassistischer': 4235, 'faschistischer': 4236, 'winterzeit': 4237, 'eahambi': 4238, 'azaachen': 4239, '54': 4240, 'anlaufstelle': 4241, 'krawallelfe': 4242, 'ooakoeln': 4243, 'zahlreicher': 4244, 'durchreisende': 4245, 'kriegsgebiet': 4246, 'sowohl': 4247, 'unmittelbarer': 4248, '36': 4249, 'veranstaltungen': 4250, 'love': 4251, 'ska': 4252, 'gabba': 4253, 'unsersquat': 4254, 'mutige': 4255, 'erbe': 4256, 'dead': 4257, 'entlastung': 4258, '53': 4259, '115': 4260, 'krischer': 4261, 'jedoch': 4262, 'entwicklungen': 4263, 'resistance': 4264, 'zollernstr': 4265, 'words': 4266, 'friends': 4267, 'reaches': 4268, 'silent': 4269, 'demanding': 4270, 'minister': 4271, 'reul': 4272, '41': 4273, 'geforde': 4274, 'save': 4275, 'hambachforest': 4276, 'right': 4277, 'knappen': 4278, 'eroeffnet': 4279, 'schweigeminute': 4280, 'sho': 4281, 'by': 4282, 'at': 4283, 'evtl': 4284, 'kameraden': 4285, 'laeden': 4286, 'closed': 4287, 'informationen': 4288, 'freigelassen': 4289, 'dringend': 4290, 'laune': 4291, 'bedarf': 4292, 'power': 4293, 'frueh': 4294, 'decken': 4295, 'huhu': 4296, 'aufgesucht': 4297, 'your': 4298, 'feministischer': 4299, 'beobachtet': 4300, 'betroffen': 4301, 'darueberhinaus': 4302, 'mind': 4303, 'spontane': 4304, 'marktplatz': 4305, 'september': 4306, 'ueberstanden': 4307, 'aufrufen': 4308, 'samt': 4309, 'gewaechshaeusern': 4310, 'schlussstrich': 4311, 'ducking': 4312, 'punches': 4313, 'summe': 4314, 'skarbone': 4315, 'stupidos': 4316, 'juni': 4317, 'trash': 4318, 'hauen': 4319, 'dave': 4320, 'disco': 4321, 'wounds': 4322, 'bunker': 4323, 'noise': 4324, 'goa': 4325, 'innocent': 4326, 'wandel': 4327, 'shards': 4328, 'release': 4329, 'blickt': 4330, 'harker': 4331, 'erials': 4332, 'leopa': 4333, 'tides': 4334, 'besondere': 4335, 'wadeye': 4336, 'bicahunas': 4337, 'karlsson': 4338, 'hour': 4339, 'eingeladen': 4340, '2h': 4341, 'filqsa': 4342, 'rock': 4343, 'direktnachricht': 4344, 'bitten': 4345, 'steigt': 4346, 'absage': 4347, 'traum': 4348, 'kleinere': 4349, 'kategoriec': 4350, 'vermeiden': 4351, 'hools': 4352, 'city': 4353, 'boza': 4354, 'safe': 4355, 'chili': 4356, 'there': 4357, 'vegan': 4358, 'please': 4359, 'beginnen': 4360, 'input': 4361, 'abends': 4362, 'noborders': 4363, '17h': 4364, 'cryptic': 4365, 'vellocet': 4366, 'paul': 4367, 'bungenstab': 4368, 'kaan': 4369, 'happy': 4370, 'warme': 4371, 'jacky': 4372, 'angekuendigt': 4373, 'rap': 4374, 'discoctrl': 4375, 'amk': 4376, 'alternativlos': 4377, 'angek': 4378, 'naziaufmarsch': 4379, 'abgesagt': 4380, 'hashtag': 4381, 'back': 4382, 'miss': 4383, 'erkelenz': 4384, 'belg': 4385, 'naziwatch': 4386, 'rd': 4387, 'hogesa': 4388, 'neonazistischen': 4389, 'ue': 4390, 'gegenprotest': 4391, 'umgebung': 4392, 'einsaetze': 4393, 'immernoch': 4394, 'groesstenteils': 4395, 'versammlung': 4396, 'aufgeloest': 4397, 'freilassung': 4398, 'radieschendunst': 4399, 'vierlagig': 4400, 'null4zwo77': 4401, 'luna': 4402, 'inhaltlich': 4403, 'zps': 4404, 'zuordnen': 4405, 'aufrufe': 4406, 'antifaschisten': 4407, 'verarscht': 4408, 'tobibernet': 4409, 'saechsische': 4410, 'nhile': 4411, 'anbieten': 4412, 'weihnachtlich': 4413, 'linksradikales': 4414, 'element': 4415, 'ad': 4416, 'anpassen': 4417, 'kramp': 4418, 'karrenbauer': 4419, 'definieren': 4420, 'reaktionaere': 4421, 'felixsschulz': 4422, 'gebunke': 4423, 'obm': 4424, 'erweiterung': 4425, 'status': 4426, 'erscheint': 4427, 'lasersushi': 4428, 'feine': 4429, 'musste': 4430, 'isses': 4431, 'landtagswahl': 4432, 'hippie': 4433, 'faengt': 4434, 'ottosmopsklopft': 4435, 'pauschal': 4436, 'wirfst': 4437, 'mountaindream5': 4438, 'anpoebeln': 4439, 'wenige': 4440, 'gefaehrdung': 4441, 'vermute': 4442, 'seht': 4443, 'komfo': 4444, 'luxus': 4445, 'verfuegbar': 4446, 'nutze': 4447, 'gaming': 4448, 'inzwischen': 4449, 'handys': 4450, 'benutzen': 4451, '0001f9d0': 4452, 'konsequenzen': 4453, 'meiden': 4454, 'kunsthippies': 4455, 'danken': 4456, 'tickets': 4457, 'login': 4458, 'details': 4459, 'afaik': 4460, 'hastig': 4461, 'gespraech': 4462, 'draufhalten': 4463, 'doku': 4464, 'libe': 4465, 'aere': 4466, 'inklusive': 4467, 'rechtsoffen': 4468, 'bratwurst': 4469, 'abgibt': 4470, 'schlimmeres': 4471, 'seh': 4472, 'tante': 4473, 'beisammen': 4474, 'red': 4475, 'redemption': 4476, 'nett': 4477, 'web': 4478, 'versuche': 4479, 'architektur': 4480, 'stiftung': 4481, 'arbeitgeber': 4482, 'landesregierung': 4483, 'explizit': 4484, 'veganen': 4485, 'tausend': 4486, 'ausraus': 4487, 'plakate': 4488, 'fazit': 4489, 'wenigen': 4490, 'kurzer': 4491, 'streifen': 4492, 'dotheba': 4493, 'fahrer': 4494, 'januar': 4495, 'zweimal': 4496, 'irgendein': 4497, 'bundeskanzlerin': 4498, 'doctor': 4499, 'wehe': 4500, 'gelacht': 4501, 'genie': 4502, 'profil': 4503, 'evelyn': 4504, 'stichwo': 4505, 'volksverdummung': 4506, 'versetzt': 4507, 'and': 4508, 'full': 4509, 'yottageil': 4510, '0001f37b': 4511, 'nullachtk': 4512, 'oefter': 4513, 'strom': 4514, 'geldbeutel': 4515, 'tschernobyl': 4516, 'vernuenftig': 4517, '2030': 4518, 'moderne': 4519, 'kuendigung': 4520, 'anruf': 4521, 'kostenlos': 4522, 'dezember': 4523, 'radio': 4524, 'bande': 4525, 'argumentie': 4526, 'tieren': 4527, 'schweizer': 4528, 'abenteuer': 4529, 'frauenparkplaetze': 4530, 'hust': 4531, 'feierabendrunde': 4532, 'laenge': 4533, 'begibt': 4534, 'kasalla': 4535, 'version': 4536, 'gemeldet': 4537, 'schrank': 4538, 'radspo': 4539, 'vollidioten': 4540, 'psychisch': 4541, 'schrift': 4542, 'leer': 4543, 'drucken': 4544, 'thermo': 4545, 'flasche': 4546, 'eng': 4547, 'einschlafen': 4548, 'hackedicht': 4549, 'vorallem': 4550, 'illegalen': 4551, 'gutheissen': 4552, 'flugzeug': 4553, 'umwelthilfe': 4554, 'angerufen': 4555, 'linksradikale': 4556, 'les': 4557, 'unabhaengige': 4558, 'zeitungen': 4559, 'buerzl': 4560, 'aegypten': 4561, 'england': 4562, 'maledivien': 4563, 'karriere': 4564, 'nordkap': 4565, 'tages': 4566, '2705': 4567, 'geiler': 4568, 'seltsam': 4569, 'arbeitenden': 4570, 'rain': 4571, '0001f327': 4572, 'matsch': 4573, 'male': 4574, 'feierabend': 4575, 'tw': 4576, 'verfasst': 4577, 'community': 4578, 'morgens': 4579, '0001f389': 4580, 'baumersd': 4581, 'schaue': 4582, 'merke': 4583, 'tue': 4584, 'wunderbar': 4585, 'besseres': 4586, 'fehlinformation': 4587, '0001f642': 4588, 'abgelehnte': 4589, 'asylbewerber': 4590, 'mundtot': 4591, 'islamistische': 4592, 'stolzen': 4593, 'otz': 4594, 'zurueckgeben': 4595, 'verlaesst': 4596, 'thueringen': 4597, 'videos': 4598, 'media': 4599, 'hinterradnabe': 4600, 'freilauf': 4601, 'angeschaut': 4602, 'muelltonne': 4603, 'arbeitswoche': 4604, 'geile': 4605, 'neidisch': 4606, 'setze': 4607, 'cosmos': 4608, 'gehackt': 4609, 'schlau': 4610, 'passwoe': 4611, 'fitnessstudio': 4612, 'erster': 4613, 'hurra': 4614, 'bestimmte': 4615, '0001f680': 4616, 'machete': 4617, 'treffsicherheit': 4618, 'vorsaetze': 4619, 'tacho': 4620, 'lest': 4621, 'letztes': 4622, '000km': 4623, 'kenner': 4624, 'hell': 4625, 'vergisst': 4626, 'wochentag': 4627, 'song': 4628, 'feuerwerk': 4629, 'anzusehen': 4630, 'aeltere': 4631, 'pissen': 4632, 'ruecksichtnahme': 4633, 'ruecksicht': 4634, 'hunden': 4635, 'feuerwerksverbot': 4636, 'besinnlichkeit': 4637, 'loominext': 4638, 'langweilige': 4639, 'good': 4640, 'mitbekommen': 4641, 'ueberschritten': 4642, 'internet': 4643, 'unbekannte': 4644, 'justice': 4645, 'cdupt18': 4646, 'menschliche': 4647, 'eitagen': 4648, 'close': 4649, 'puh': 4650, 'nette': 4651, 'hut': 4652, 'rechtsradikale': 4653, 'diskriminierung': 4654, 'freu': 4655, 'tempel': 4656, 'ichbinrakete': 4657, 'regelmaessig': 4658, 'gehauen': 4659, 'maennliche': 4660, 'youtuber': 4661, 'ueberrascht': 4662, 'both': 4663, 'move': 4664, 'typisch': 4665, 'strange': 4666, 'vllt': 4667, 'strawbewyvgcake': 4668, 'helfe': 4669, 'ergebnissen': 4670, 'gerechnet': 4671, 'rumlabern': 4672, 'ausgehen': 4673, 'ueberraschenden': 4674, 'vorlaeufigen': 4675, 'belegt': 4676, 'suprise': 4677, 'parlamentarischen': 4678, 'staatsform': 4679, 'timmgiesbers': 4680, 'hendrikkraft': 4681, 'sondersendungen': 4682, 'vermummung': 4683, 'ausgefueh': 4684, 'inhaltliche': 4685, 'whataboutism': 4686, 'subjektiv': 4687, 'ablenken': 4688, 'taktik': 4689, 'pm': 4690, 'elsmann': 4691, 'skandalisieren': 4692, 'reflektieren': 4693, 'aufzuzeigen': 4694, 'beitraege': 4695, 'glaubwuerdigkeit': 4696, 'nachhilfe': 4697, 'journos': 4698, 'auslaendischer': 4699, 'zerstoerung': 4700, 'ungemein': 4701, 'duesseldorf': 4702, 'glatt': 4703, 'uebernahme': 4704, 'schutzsuchende': 4705, 'gender': 4706, 'hochgejazzt': 4707, 'krankenhausreif': 4708, 'kinkerlitze': 4709, 'unsaeglich': 4710, 'krimis': 4711, 'eingeschraenkt': 4712, 'eingefueh': 4713, 'bisherige': 4714, 'wohlstandsverwahrloste': 4715, 'baum79308079': 4716, 'schreiber': 4717, 'vorhaben': 4718, 'groesse': 4719, 'ideologische': 4720, 'lazid1957': 4721, 'mainstreams': 4722, 'furchtbar': 4723, 'diffamierer': 4724, 'intelligente': 4725, 'ausschliessen': 4726, 'mo': 4727, 'von': 4728, 'schlagwo': 4729, 'peinliche': 4730, 'unverantwo': 4731, 'autoritaet': 4732, 'plappermaeulern': 4733, 'dutschke': 4734, 'gefuehlt': 4735, '1945': 4736, 'umgekeh': 4737, 'suhlen': 4738, 'schwerer': 4739, 'gauland': 4740, 'globalisie': 4741, 'absehbar': 4742, 'niemandem': 4743, 'zweier': 4744, 'muslimischen': 4745, 'schueler': 4746, 'lehrerin': 4747, 'denkfaehigen': 4748, 'beschimpfung': 4749, 'strafbar': 4750, 'klagt': 4751, 'zentralrat1': 4752, 'sturm': 4753, 'physikerin': 4754, 'versaeumnisse': 4755, 'positive': 4756, 'kreuz': 4757, 'zuschauer': 4758, 'it': 4759, 'uninteressanter': 4760, 'zittern': 4761, 'unsicher': 4762, 'plappern': 4763, 'loriotfehlt': 4764, 'jaeckchen': 4765, 'top': 4766, 'daraschi': 4767, 'verrecke': 4768, 'groelen': 4769, 'buechern': 4770, 'stellung': 4771, 'verrueckt': 4772, 'streiten': 4773, 'taetern': 4774, 'ausgepraegt': 4775, 'modewo': 4776, 'tabularasa2018': 4777, 'eigentor': 4778, 'sterne': 4779, 'hypermoral': 4780, 'daenemark': 4781, 'adresse': 4782, 'riskie': 4783, 'daseinsberechtigung': 4784, 'gerettet': 4785, 'vorfuehren': 4786, 'geschenkt': 4787, 'abzugeben': 4788, 'ausreichend': 4789, 'sprech': 4790, 'tothecloud2014': 4791, 'besonderen': 4792, 'selbsternannte': 4793, 'sondergleichen': 4794, 'eliten': 4795, 'duerften': 4796, 'darkgermany': 4797, 'angeschlossen': 4798, 'pruegel': 4799, 'attacken': 4800, 'kombination': 4801, 'frech': 4802, 'uninformie': 4803, 'medial': 4804, 'wollten': 4805, 'geschoepf': 4806, 'sm100d': 4807, 'verachten': 4808, 'wessen': 4809, 'englisch': 4810, 'weltgewandt': 4811, 'redaktionen': 4812, 'bedient': 4813, 'karinazurich': 4814, 'entdeckt': 4815, 'bundestagsdebatten': 4816, 'poebelt': 4817, 'naivitaet': 4818, 'tichys': 4819, 'einblick': 4820, 'eingewande': 4821, 'gleichgestellt': 4822, 'integration': 4823, 'woanders': 4824, 'cicero': 4825, 'empfinde': 4826, 'regelrecht': 4827, 'noetigung': 4828, 'gleichgueltig': 4829, 'winterspo': 4830, 'wiederholungen': 4831, 'verbloedung': 4832, 'beleh': 4833, 'widerspruch': 4834, 'udohemmelgarn': 4835, 'wodurch': 4836, 'haltungsjournalisten': 4837, 'genehmen': 4838, 'bedanken': 4839, 'unsaeglichen': 4840, 'empathie': 4841, 'ueberlegung': 4842, 'blondjedi': 4843, 'prinzipiell': 4844, 'ausgezeichnete': 4845, 'funktionaer': 4846, 'nobileseba': 4847, 'hetzt': 4848, 'einzelfaellen': 4849, 'krim': 4850, 'oberflaechlich': 4851, 'volksabstimmungen': 4852, 'petitionen': 4853, 'begeistern': 4854, 'gerechtigkeit': 4855, 'medium': 4856, 'unte': 4857, 'legalisieren': 4858, 'empfehlung': 4859, 'gesiegt': 4860, 'fleisskae': 4861, 'chen': 4862, 'format': 4863, 'stoesst': 4864, 'charakterlich': 4865, 'abstand': 4866, 'offener': 4867, 'diskussionskultur': 4868, 'boell': 4869, 'hierher': 4870, 'non': 4871, 'vergewaltigungen': 4872, 'ausgehoehlt': 4873, 'gelingt': 4874, 'kipping': 4875, 'dauerempoe': 4876, 'auseinandersetzung': 4877, 'antrag': 4878, 'zuhoeren': 4879, 'erledigt': 4880, 'mieses': 4881, 'unterschicht': 4882, 'burschen': 4883, 'gesunde': 4884, 'menschenverstand': 4885, 'armselig': 4886, 'erfolgreich': 4887, 'beschaeftigen': 4888, 'eule': 4889, 'angenommen': 4890, 'qualitaet': 4891, 'versorgung': 4892, 'kandidat': 4893, 'kompetent': 4894, 'buergerlich': 4895, 'untersuchungsausschuss': 4896, 'studienabbrechern': 4897, 'kanaelen': 4898, 'einziger': 4899, 'kuba': 4900, 'analphabeten': 4901, 'einfaeltigen': 4902, 'ajkaestner': 4903, 'aufnahme': 4904, 'hatten': 4905, 'blieb': 4906, 'fremde': 4907, 'gewaltbereiten': 4908, 'schutzbeduerftig': 4909, 'projekte': 4910, 'star': 4911, 'stinkt': 4912, 'heilen': 4913, 'guennis': 4914, 'trinkhalle': 4915, 'explodieren': 4916, 'jungmuetter': 4917, 'verkackten': 4918, 'rennt': 4919, 'kiez': 4920, 'bretzel': 4921, 'kueche': 4922, 'rauchen': 4923, 'gesundes': 4924, 'napfsuelze': 4925, 'kerze': 4926, 'anziehen': 4927, 'bruesteguckerin': 4928, 'gottverdammte': 4929, 'rotz': 4930, 'fickfehler': 4931, '4zido': 4932, 'vodafone': 4933, 'nervt': 4934, 'machwa': 4935, 'guuuuuuuuut': 4936, 'hobbits': 4937, 'behaupten': 4938, 'garde': 4939, 'amerikanische': 4940, 'herausgefunden': 4941, 'praktische': 4942, 'gehe': 4943, 'lack': 4944, 'gesoffen': 4945, 'app': 4946, 'zer': 4947, 'ausm': 4948, 'niksput': 4949, 'bekomme': 4950, 'mitten': 4951, 'internetz': 4952, 'nehm': 4953, 'mc': 4954, 'donalds': 4955, 'l2': 4956, 'tamm': 4957, 'koerbchen': 4958, 'freiwillige': 4959, 'ruhrpott': 4960, 'ausdruck': 4961, 'vollpfosten': 4962, 'rhetorische': 4963, 'zweiten': 4964, 'pisse': 4965, 'gebot': 4966, 'hosen': 4967, 'getwitte': 4968, 'grosses': 4969, 'kinderga': 4970, 'wutbuerger': 4971, 'fluechten': 4972, 'gesellschaftliche': 4973, 'zettel': 4974, 'tueren': 4975, 'aufschrift': 4976, 'ekelhaft': 4977, 'heikokanzler': 4978, 'atmen': 4979, 'verpisst': 4980, 'stehn': 4981, 'platt': 4982, '58': 4983, 'veganismus': 4984, 'stoerung': 4985, 'kreuzberger': 4986, 'naechte': 4987, 'gefressen': 4988, 'brueste': 4989, 'mutti': 4990, 'salat': 4991, 'fleisch': 4992, 'gitarra': 4993, 'nachbar': 4994, 'daemliches': 4995, 'mantel': 4996, 'steh': 4997, 'stuhlgang': 4998, 'flaschen': 4999, 'terroranschlag': 5000, 'versteh': 5001, 'prisma': 5002, 'versifften': 5003, 'drecks': 5004, 'niedrigen': 5005, 'selbstaendig': 5006, 'bleib': 5007, 'bestehen': 5008, 'zusammenhaenge': 5009, 'ever': 5010, 'erstaatlich': 5011, 'ers': 5012, 'chat': 5013, 'atkins': 5014, 'missbrauch': 5015, 'blender': 5016, 'gefaehrlicher': 5017, 'feigheit': 5018, 'uebersehen': 5019, 'charlotte': 5020, 'jude': 5021, 'genossinnen': 5022, 'rueckgrat': 5023, 'alexabringmann': 5024, 'bruecke': 5025, 'andi': 5026, 'muriel': 5027, 'muraene': 5028, 'erwachsene': 5029, 'auftritt': 5030, 'darstellen': 5031, 'anfaengt': 5032, 'pipi': 5033, 'bett': 5034, 'drueck': 5035, 'melde': 5036, 'zunehmenden': 5037, 'lovebeatshb': 5038, 'intern': 5039, 'taeuschen': 5040, 'as': 5041, 'krankenhaus': 5042, 'bundeswehrinfo': 5043, 'soldat': 5044, 'psyche': 5045, 'bewirken': 5046, 'gesunden': 5047, 'lungenfachaerzte': 5048, 'heil': 5049, 'birnen': 5050, 'betroffenen': 5051, 'werbeverbot': 5052, 'schmanle': 5053, 'schmaehungen': 5054, 'ber': 5055, 'dieselgenerators': 5056, 'fneuhann': 5057, 'konzepte': 5058, 'einzuholen': 5059, 'reif': 5060, 'bestehenden': 5061, 'verdaechtigen': 5062, 'stuerzen': 5063, 'annewilltalk': 5064, 'herbei': 5065, 'bezahlte': 5066, 'widersprechen': 5067, 'verschwindet': 5068, 'msverstaendnis2': 5069, 'moschaefer66': 5070, 'legitimation': 5071, 'handballwm': 5072, 'tapfer': 5073, 'gekaempft': 5074, 'niewiederfaschismus': 5075, 'niewiederkrieg': 5076, 'kuduzu': 5077, 'geredet': 5078, 'buchenwald': 5079, 'ausdenken': 5080, 'gemeinsamen': 5081, 'patriotismus': 5082, 'p0llyticks': 5083, 'petry': 5084, 'nah': 5085, 'auschwitz': 5086, 'ausgeschlossen': 5087, 'opfaopfaopfa': 5088, 'ava': 5089, 'lungenaerzte': 5090, '71': 5091, 'adaequate': 5092, 'eidiger': 5093, 'erwaehnt': 5094, 'geguckt': 5095, 'tust': 5096, 'schieb': 5097, 'hals': 5098, 'brot': 5099, 'loswerden': 5100, 'wahlrecht': 5101, 'anwalt': 5102, 'habens': 5103, 'widerlicher': 5104, 'leben7777777': 5105, 'ueberpruefen': 5106, 'letzter': 5107, 'einkaufen': 5108, 'niedrige': 5109, 'kritisiere': 5110, 'tonline': 5111, 'ihnen': 5112, 'kattascha': 5113, 'freien': 5114, 'yannic': 5115, 'hendricks': 5116, 'konsequenter': 5117, 'bvg': 5118, 'sbahn': 5119, 'autofahrer': 5120, 'diskriminie': 5121, 'realjohnwick77': 5122, 'naturmacht': 5123, 'lovebomb11': 5124, 'topf': 5125, 'hinte': 5126, 'geraten': 5127, 'sondern': 5128, 'schaetze': 5129, 'verwunde': 5130, 'distanzieren': 5131, 'hs': 5132, 'drehen': 5133, 'vorraus': 5134, 'kotze': 5135, 'nasse': 5136, 'loser': 5137, 'verpissen': 5138, 'heavy': 5139, 'ganzer': 5140, 'bring': 5141, 'suesse': 5142, 'groesster': 5143, 'islamisierung': 5144, 'gange': 5145, 'eigenem': 5146, 'verlierer': 5147, 'wochenblickat': 5148, 'befinden': 5149, 'normal': 5150, 'sklaverei': 5151, 'unterdrueckung': 5152, 'sasarahj': 5153, 'busch': 5154, 'asi': 5155, 'schulenburgch': 5156, 'sachsenanhalt': 5157, 'donjoschi': 5158, 'methoden': 5159, 'affen': 5160, 'wandern': 5161, 'erziehung': 5162, 'mehrfach': 5163, 'prima': 5164, 'adolfo': 5165, 'krankheit': 5166, 'ansteckend': 5167, 'verusoss1': 5168, 'beinen': 5169, '700': 5170, 'pervers': 5171, 'theater': 5172, 'versagern': 5173, 'deubelbianca': 5174, 'weber': 5175, 'ausgetreten': 5176, 'positiv': 5177, 'sorge': 5178, 'kaufe': 5179, 'retweeten': 5180, 'persoenliche': 5181, 'getroffen': 5182, 'arbeite': 5183, 'patienten': 5184, 'techniker': 5185, 'feststellen': 5186, 'spedition': 5187, 'liefe': 5188, 'einbaut': 5189, 'haenge': 5190, 'verzweifelt': 5191, 'festgestellt': 5192, 'einbau': 5193, 'hase': 5194, 'schadet': 5195, 'homoeopathie': 5196, 'medikament': 5197, 'laufendem': 5198, 'sofern': 5199, 'hoehere': 5200, 'minervasevera': 5201, 'wirkt': 5202, 'ohrwurm': 5203, 'beschaeftigt': 5204, 'hungriger': 5205, 'brav': 5206, 'con': 5207, 'call': 5208, 'geheimen': 5209, 'wuerdest': 5210, 'sauer': 5211, 'projekt': 5212, 'trudering': 5213, 'honig': 5214, 'iment': 5215, 'fantasy': 5216, 'geselle': 5217, 'schluss': 5218, 'pause': 5219, 'gabihbeck': 5220, 'knackigem': 5221, 'yeah': 5222, 'udo': 5223, 'fahr': 5224, 'heimweg': 5225, 'blabla': 5226, 'behoerde': 5227, 'zurecht': 5228, 'modell': 5229, 'weggeworfen': 5230, 'maerz': 5231, 'verlaenge': 5232, 'mvv': 5233, 'isch': 5234, 'ewigesommerzeit': 5235, 'cloudpiep': 5236, 'geister': 5237, 'drachen': 5238, 'bestellt': 5239, 'fckcdu': 5240, 'proasyl': 5241, 'sachbeschaedigung': 5242, 'luebbermann': 5243, 'selbstzweck': 5244, 'unmenschlich': 5245, 'nirgendwo': 5246, 'podcast': 5247, 'kandidaten': 5248, 'vsabschaffen': 5249, 'zorn': 5250, 'entgegenstellen': 5251, 'ruhestand': 5252, 'koalitionsbruch': 5253, 'fckcsu': 5254, 'fehlverhalten': 5255, 'fckgroko': 5256, 'fckspd': 5257, 'abi89': 5258, 'findungsphase': 5259, 'voraussetzungen': 5260, 'goere': 5261, 'vereh': 5262, 'losgesagt': 5263, 'paulehasi13': 5264, 'garnicht': 5265, 'teppich': 5266, 'begehbaren': 5267, 'kulturell': 5268, 'sozialhilfe': 5269, 'alimentie': 5270, 'quotenmigrantin': 5271, 'ipd': 5272, 'gespuelt': 5273, 'laenderfinanzausgleich': 5274, 'bestocker': 5275, 'see': 5276, 'besserung': 5277, 'abwaehlen': 5278, 'fredsonnensche3': 5279, 'kop': 5280, '0001f62d': 5281, 'hinterlader': 5282, 'uebler': 5283, 'packung': 5284, 'stimulator': 5285, 'minusmensch': 5286, 'kuestennebel': 5287, 'minusmaedchen': 5288, 'linksversifften': 5289, 'gewaltig': 5290, 'veruebt': 5291, 'giannamariella': 5292, 'torsten62128502': 5293, 'keeprespect79': 5294, 'systemling': 5295, 'redcat': 5296, '0001f1e9': 5297, 'dreistigkeit': 5298, 'eklatanter': 5299, 'uebergriffe': 5300, 'abermals': 5301, 'gebeutelten': 5302, 'geringsten': 5303, 'peterpa34083139': 5304, '0001f9e0': 5305, 'belehrend': 5306, 'verbaenden': 5307, 'erfroren': 5308, 'sozialdemokratie': 5309, 'lustigen': 5310, 'oezcanmutlu': 5311, 'telefon': 5312, 'lichtmesz': 5313, 'nordischbynatur': 5314, 'fuckbook': 5315, 'pornodarstellerin': 5316, 'ullajelpke': 5317, 'toter': 5318, 'dass': 5319, 'oktober': 5320, 'muehe': 5321, 'beschweren': 5322, 'schaemen': 5323, 'telefonschreck': 5324, 'babies': 5325, 'belaestigt': 5326, 'verkommt': 5327, 'murksel': 5328, 'dreckssekte': 5329, 'rbrinkhaus': 5330, 'unflat': 5331, 'indoktrinie': 5332, 'hajo': 5333, 'friedrichs': 5334, 'fuessen': 5335, 'verdreht': 5336, 'beruf': 5337, 'spdsh': 5338, 'geisteszustand': 5339, 'waehlbar': 5340, 'vi': 5341, 'reissmann': 5342, 'cocacola': 5343, 'vita': 5344, 'cola': 5345, 'kuffnuke': 5346, 'ndr': 5347, 'rhetorisch': 5348, 'platzwa': 5349, '1907': 5350, 'hahahaha': 5351, 'gepostet': 5352, 'bekannten': 5353, 'franzoesischen': 5354, 'lanz': 5355, 'geschadet': 5356, 'nationalistin': 5357, 'linksfaschismus': 5358, 'versorgt': 5359, 'rotgruenen': 5360, 'dunkeldeutsch': 5361, 'ossi': 5362, 'ewige': 5363, 'extremen': 5364, 'heinrichheine12': 5365, 'schwarzesscha13': 5366, 'erkennbar': 5367, 'etablieren': 5368, 'dh': 5369, 'westl': 5370, 'stinken': 5371, 'selbstgerechtigkeit': 5372, 'wahrgenommen': 5373, 'weiblichen': 5374, 'verlogen': 5375, 'bigott': 5376, 'westens': 5377, 'laternen': 5378, 'baumeln': 5379, 'zeichnet': 5380, 'profitieren': 5381, 'proxy': 5382, 'jewish': 5383, 'typischer': 5384, 'kumbajah': 5385, 'loyal': 5386, 'hoer': 5387, 'unangebracht': 5388, 'haut': 5389, 'physikalischen': 5390, 'suedpol': 5391, 'hegel': 5392, 'argumenten': 5393, 'sche': 5394, 'physiker': 5395, 'serioese': 5396, 'soldaten': 5397, 'museumsdoerfer': 5398, 'strucki': 5399, 'argument': 5400, 'koehler': 5401, 'hybris': 5402, 'lobby': 5403, 'eisenhower': 5404, 'paralla80562715': 5405, 'sigmargabriel': 5406, 'vermeintlich': 5407, 'heutzutage': 5408, 'einziges': 5409, 'scheinbar': 5410, 'lauf': 5411, 'vollluegen': 5412, 'shuggy3531294': 5413, 'geflohen': 5414, 'luegner': 5415, 'terroristische': 5416, 'nwo': 5417, 'falle': 5418, 'staemme': 5419, 'handlung': 5420, 'wirren': 5421, 'deutet': 5422, 'isidormeyer1': 5423, 'joanacotar': 5424, 'talmud': 5425, 'patriot92358398': 5426, 'souveraenitaet': 5427, 'bibel': 5428, 'sebastianlotzer': 5429, 'gibst': 5430, 'dankeolga': 5431, 'cool': 5432, 'hannanoori': 5433, 'samelou': 5434, 'moetant36': 5435, 'motor': 5436, 'stecken': 5437, 'radicalpast': 5438, 'ge': 5439, 'nunmehr': 5440, 'ausnahmeregelung': 5441, 'surprise': 5442, 'berufsverbot': 5443, 'versauen': 5444, 's21': 5445, 'senior': 5446, 'heizung': 5447, 'hoechstwahrscheinlich': 5448, 'header': 5449, 'knie': 5450, 'fascho': 5451, 'idealform': 5452, 'kinderlebenfrei': 5453, 'draht': 5454, 'menschlichen': 5455, 'seine': 5456, 'vivi': 5457, '4234': 5458, 'burka': 5459, 'seitdem': 5460, 'bis': 5461, 'nahen': 5462, 'keremschamberg': 5463, 'pegidioten': 5464, 'verdienst': 5465, 'weltweiten': 5466, 'folglich': 5467, 'herunter': 5468, 'momentan': 5469, 'followerpower': 5470, 'ausende': 5471, 'pulsfeuer': 5472, 'handwerker': 5473, 'haeufiger': 5474, 'strecke': 5475, 'sauce': 5476, 'angehoerigen': 5477, 'kleinstpa': 5478, 'ueberheblichkeit': 5479, 'charly': 5480, 'mensuel': 5481, 'kenn': 5482, 'ritawerner7': 5483, 'einverstanden': 5484, 'pflanzen': 5485, 'unerheblich': 5486, 'benzin': 5487, 'marketing': 5488, 'strategie': 5489, 'cousin': 5490, 'stechen': 5491, 'banane0711': 5492, 'lovelycologne': 5493, 'fuhren': 5494, 'schwarzen': 5495, 'holler': 5496, 'jimmy': 5497, 'meyer': 5498, 'machs': 5499, 'jammern': 5500, 'kopftisch': 5501, 'weltherrschor': 5502, 'waffel': 5503, 'haengst': 5504, 'offelcore': 5505, 'blackmosqcrew': 5506, 'probie': 5507, 'kelticca': 5508, 'posts': 5509, 'eskalie': 5510, 'bschuller': 5511, 'notwendigen': 5512, 'panda': 5513, 'munich': 5514, 'kids': 5515, 'grundlagen': 5516, 'wille': 5517, 'sumpf': 5518, 'mv': 5519, 'beleidigte': 5520, 'fand': 5521, 'erholt': 5522, 'sebczaja': 5523, 'papier': 5524, 'keinerlei': 5525, '161taunus': 5526, '150': 5527, 'grille': 5528, 'chompa': 5529, 'ausreise': 5530, 'stempel': 5531, 'einreise': 5532, '161': 5533, 'bot': 5534, 'nicoleherder': 5535, 'naaaa': 5536, 'raegst': 5537, 'ibus': 5538, 'weglassen': 5539, 'dublinstinkt': 5540, 'ihm': 5541, 'jung': 5542, 'zahlreiche': 5543, 'buerokraten': 5544, 'mitgliedschaft': 5545, 'wehrpflicht': 5546, 'staendige': 5547, 'sollt': 5548, 'namens': 5549, 'floriangathmann': 5550, 'superstaats': 5551, 'echten': 5552, 'miete': 5553, 'nachfrage': 5554, 'verbrannt': 5555, 'kraftwerken': 5556, 'praxis': 5557, 'genuegend': 5558, 'hautfarbe': 5559, 'versammelt': 5560, 'verschwoerungstheorien': 5561, 'legen': 5562, 'getoetet': 5563, 'angestellte': 5564, 'staatsfernsehen': 5565, 'regierungspolitik': 5566, 'chinesischen': 5567, 'jeweilige': 5568, 'warm': 5569, 'walde': 5570, 'nataschakohnen': 5571, 'ausstieg': 5572, 'ieft': 5573, 'identitaet': 5574, 'nazigegnerin': 5575, 'rettete': 5576, 'multilateralismus': 5577, 'urheber': 5578, 'gewaltenteilung': 5579, 'oma': 5580, 'psychologische': 5581, 'absoluten': 5582, 'faust': 5583, 'fraeulein': 5584, 'scharf': 5585, 'duennes': 5586, 'unkontrollie': 5587, 'verfuegen': 5588, 'ablehnung': 5589, 'lebensluege': 5590, 'arabischen': 5591, 'geniessen': 5592, 'eingetreten': 5593, 'nannte': 5594, 'denkweise': 5595, 'raf': 5596, 'ziel': 5597, 'abgeben': 5598, 'europas': 5599, 'solle': 5600, 'zurueckgekeh': 5601, 'wahn': 5602, '1933': 5603, 'durchsetzen': 5604, 'unfaehigkeit': 5605, 'sammeln': 5606, 'altmedien': 5607, 'ablegen': 5608, 'ernstes': 5609, 'doppelten': 5610, 'mittelfristig': 5611, 'absurde': 5612, 'hetzerischen': 5613, 'gloria': 5614, 'schach': 5615, 'truppen': 5616, 'besorgte': 5617, 'abschied': 5618, 'automobil': 5619, 'moralischen': 5620, 'perspektive': 5621, 'wichtige': 5622, 'endgueltig': 5623, 'schlimmsten': 5624, 'entziehen': 5625, 'hacker': 5626, 'konten': 5627, 'gestuerzt': 5628, 'mordanschlag': 5629, 'passanten': 5630, 'erfinder': 5631, '1979': 5632, 'spueren': 5633, 'verbalen': 5634, 'quatschen': 5635, 'entlarven': 5636, 'berufspolitiker': 5637, 'friesenphilosoph': 5638, 'th': 5639, 'draengen': 5640, 'usbouwman': 5641, 'staedtischen': 5642, 'freundin': 5643, 'zeitonlinespo': 5644, 'allee': 5645, 'sass': 5646, 'zuvor': 5647, 'bloeder': 5648, 'grenzdebilen': 5649, 'atmosphaere': 5650, 'ueberzeugung': 5651, 'reegegil': 5652, 'altmaier': 5653, 'privat': 5654, 'aerger': 5655, 'minderwe': 5656, 'unterlegt': 5657, 'sicherer': 5658, 'getreten': 5659, 'gestossen': 5660, 'brutalitaet': 5661, 'industrie': 5662, 'anfuehrerin': 5663, 'staats': 5664, 'innerislamischer': 5665, 'glaubenskrieg': 5666, 'internationaler': 5667, 'faul': 5668, 'koestlich': 5669, 'reduzieren': 5670, 'moscheesteuer': 5671, 'steuer': 5672, 'austreten': 5673, 'finanzierung': 5674, 'sharia': 5675, 'dauernd': 5676, 'tisch': 5677, 'anbietet': 5678, 'marokko': 5679, 'misscaro': 5680, 'unterstuetzer': 5681, 'doragezwitscher': 5682, '131': 5683, 'milizen': 5684, 'sterben': 5685, 'bestialische': 5686, 'begann': 5687, 'wissenschaftliche': 5688, 'experimenten': 5689, 'verbietet': 5690, 'belogen': 5691, 'akten': 5692, 'fanatische': 5693, 'staerkste': 5694, 'substanz': 5695, 'kaempft': 5696, 'paritegesetz': 5697, 'beseitigen': 5698, 'rezession': 5699, 'zuschlaegt': 5700, 'einstellen': 5701, 'regimes': 5702, 'tendenziell': 5703, 'kinderschaendung': 5704, 'ostblock': 5705, 'verhassten': 5706, 'zusammengebrochen': 5707, 'schaftliche': 5708, 'grenzkontrollen': 5709, 'bolivar': 5710, '63': 5711, '83': 5712, '145': 5713, 'grueninnen': 5714, 'erhoeht': 5715, 'verstossen': 5716, 'quasi': 5717, 'linksradikalen': 5718, 'scheitern': 5719, 'ausbreitung': 5720, 'einschlaegt': 5721, 'markusehrler': 5722, 'regieren': 5723, 'faulen': 5724, 'erik': 5725, 'werft': 5726, 'ergebnis': 5727, 'jahrelang': 5728, 'dauerhaft': 5729, 'kuscheln': 5730, 'fliegt': 5731, 'unterhaus': 5732, 'zweites': 5733, 'tibet': 5734, 'annexion': 5735, 'ueberfallen': 5736, '1950': 5737, 'indien': 5738, 'bekaempft': 5739, 'andreanahlesspd': 5740, 'ausend': 5741, 'unsinnige': 5742, 'euern': 5743, 'sabotie': 5744, 'scheisshaus': 5745, 'oel': 5746, 'unterhaelt': 5747, 'mp': 5748, 'lenasakurablume': 5749, 'genauer': 5750, 'abgehalten': 5751, 'initiie': 5752, 'kommunalwahl': 5753, 'dollar': 5754, 'klimareligion': 5755, 'liefern': 5756, 'erschreckend': 5757, 'nationalsozialismus': 5758, 'schlaegst': 5759, 'anked': 5760, 'piraten': 5761, 'vorstand': 5762, 'private': 5763, 'minimieren': 5764, 'versagen': 5765, 'chancen': 5766, 'adler': 5767, 'gefangen': 5768, 'sinnvoller': 5769, 'flugzeuge': 5770, 'vorwerfen': 5771, 'pollen': 5772, 'perverser': 5773, 'klimafaschismus': 5774, 'ihrerseits': 5775, 'absetzung': 5776, 'unrechtsregimes': 5777, 'duemmlichen': 5778, 'wahnsinn': 5779, 'betriebserlaubnis': 5780, 'gesetz': 5781, 'handwerk': 5782, 'standard': 5783, 'wissenschaftsfeindlich': 5784, 'ausnahme': 5785, 'letztens': 5786, 'simulation': 5787, 'hubschrauber': 5788, 'hohe': 5789, 'lande': 5790, 'gruendlich': 5791, 'heizen': 5792, 'einschraenkung': 5793, 'legitime': 5794, 'honecker': 5795, 'denk': 5796, 'chile': 5797, 'uebergangsregierung': 5798, 'anerkannt': 5799, 'verschenkt': 5800, 'veranstaltet': 5801, 'diktator': 5802, 'wegfegen': 5803, 'uebergangspraesident': 5804, 'sozialdemokrat': 5805, 'schuhe': 5806, 'axel': 5807, 'magnus': 5808, 'abkommen': 5809, 'abgesetzt': 5810, 'monika': 5811, 'linksextremistischen': 5812, 'zugeben': 5813, 'verbrecherregime': 5814, 'putschist': 5815, 'heldin': 5816, 'anerkennt': 5817, 'erinnerung': 5818, 'umgesetzt': 5819, 'gestrigen': 5820, 'abstimmung': 5821, 'einzutreten': 5822, 'ieren': 5823, 'mannschaften': 5824, 'schweine': 5825, 'daemme': 5826, 'scharia': 5827, 'gutmannmanfred': 5828, 'rrg': 5829, 'axell90263793': 5830, 'kommunikation': 5831, 'geruecht': 5832, 'knete': 5833, 'abschiebung': 5834, 'kriegsverbrechen': 5835, 'dergermane2': 5836, 'buchen': 5837, 'aposener': 5838, 'volker': 5839, 'boot': 5840, 'freiheitlich': 5841, 'grundordnung': 5842, 'spdberlin': 5843, 'bitter': 5844, 'gebrauchen': 5845, 'wirkliche': 5846, 'neigungen': 5847, 'verschaffen': 5848, 'dianekrass': 5849, 'verfassungsfeindlich': 5850, 'pat22344': 5851, 'strafen': 5852, 'substanzlosen': 5853, 'verbotsfetischisten': 5854, 'freundlich': 5855, 'fliegst': 5856, 'duennschiss': 5857, 'tschuess': 5858, 'sturmtruppen': 5859, 'freisler': 5860, 'schergen': 5861, 'ultra': 5862, 'vielzahl': 5863, 'viel': 5864, 'marxistischen': 5865, 'bildet': 5866, 'nationalsozialisten': 5867, 'intellektuell': 5868, 'hofschranzen': 5869, 'linkspopulistischer': 5870, 'schlepper': 5871, 'relevanz': 5872, 'abzusetzen': 5873, 'rollt': 5874, 'raten': 5875, 'manuelakoller2': 5876, 'bruessel': 5877, 'aufpassen': 5878, 'afrika': 5879, 'jelpke': 5880, 'beweissicherung': 5881, 'jim': 5882, 'beau': 5883, 'risiko': 5884, 'notwehr': 5885, 'ministerpraesidenten': 5886, 'schaftsfluechtlinge': 5887, 'prueffall': 5888, 'rathaus': 5889, 'iv': 5890, 'gell': 5891, 'abtreiben': 5892, 'schaechten': 5893, 'beschneidung': 5894, 'persoenlichkeits': 5895, 'scham': 5896, 'loedwood': 5897, 'rechtsradikalen': 5898, 'realshira': 5899, 'meinungsaeusserung': 5900, 'katjakipping': 5901, 'fckantifa': 5902, 'vorgehen': 5903, 'erwinkussmaul': 5904, 'verzer': 5905, 'mtubeman': 5906, 'arrogant': 5907, 'terrororganisation': 5908, 'distanzie': 5909, 'empfangen': 5910, 'din': 5911, 'waehre': 5912, 'schwere': 5913, 'seilschaften': 5914, '450': 5915, 'onkeljurgen': 5916, 'varg': 5917, 'veum': 5918, 'zeitarbeit': 5919, 'streng': 5920, 'kath': 5921, 'verifizie': 5922, 'bereichen': 5923, 'held': 5924, 'heranzuziehen': 5925, 'polizeimuenchen': 5926, 'engagieren': 5927, 'misscharlez': 5928, 'zwecke': 5929, 'wuerstchen': 5930, 'traurige': 5931, 'anzeige': 5932, 'vgl': 5933, 'strafprozessordnung': 5934, 'delikte': 5935, 'antragsdelikt': 5936, 'strafantrag': 5937, '77': 5938, 'stgb': 5939, 'nullnummer': 5940, 'wie': 5941, 'hetzlichendank': 5942, 'biste': 5943, 'kontravets': 5944, 'brueder': 5945, 'unglaeubige': 5946, 'maxihome27': 5947, 'uni': 5948, 'aluhutt': 5949, 'jaaa': 5950, 'sophiefee2': 5951, 'rasier': 5952, 'zitate': 5953, 'afgveteran': 5954, 'holgermeinel': 5955, 'diehumanisten': 5956, 'vergiftet': 5957, 'jaa': 5958, 'baum': 5959, 'gereicht': 5960, 'cdusachsen': 5961, 'hakijaavdic': 5962, '7lebt': 5963, 'sn': 5964, 'spoontabby': 5965, 'andrelogen': 5966, 'ch': 5967, 'erklaer': 5968, 'selbe': 5969, 'kulturelle': 5970, 'stevehermanne': 5971, 'faulheit': 5972, 'technik': 5973, 'gruss': 5974, 'ohhh': 5975, 'duezentekkal': 5976, 'faschistisches': 5977, 'djvde': 5978, 'inc': 5979, 'xellmann': 5980, 'aergern': 5981, 'innere': 5982, 'oezlemtopcu': 5983, 'dietmarba': 5984, 'iger': 5985, 'beleidigungen': 5986, 'theorie': 5987, 'vermittelt': 5988, 'trollaccount': 5989, 'azeckenbiss': 5990, 'existenz': 5991, 'schuetzt': 5992, 'schreien': 5993, 'evira48881550': 5994, 'entnehmen': 5995, 'geschmackloser': 5996, 'hapeka01': 5997, 'golzheimer': 5998, 'wattsefacker': 5999, 'gegenseitig': 6000, 'heiligtag': 6001, 'ketamin': 6002, 'anjakli': 6003, 'turbobuchung': 6004, 'sunny': 6005, 'mayhem': 6006, 'daniel': 6007, 'drugstore': 6008, 'gentrifizierung': 6009, 'dauerhafte': 6010, 'verdraengung': 6011, 'vermisse': 6012, 'solidarisieren': 6013, 'smash': 6014, 'raeume': 6015, 'belastet': 6016, 'thawraone': 6017, 'wellblechdach': 6018, 'gegrilltebanane': 6019, 'ruesselst': 6020, 'ncolnz': 6021, 'poebelei': 6022, 'unterhaltung': 6023, 'reinruesseln': 6024, 'meltingm8': 6025, 'muedi': 6026, 'halts': 6027, 'goldenetage': 6028, 'twitterknast': 6029, 'wtf': 6030, 'radikale': 6031, 'unterhalten': 6032, 'uebergriffig': 6033, 'unreflektie': 6034, 'heissen': 6035, 'november': 6036, 'pret': 6037, 'gelesene': 6038, 'gezielt': 6039, 'antifatraeumer': 6040, 'schwarzekatze': 6041, 'balance': 6042, 'max': 6043, 'fussgaenger': 6044, 'midyatli': 6045, 'gegruendet': 6046, 'wahlergebnisse': 6047, 'vielmehr': 6048, 'iirc': 6049, 'enricokreft': 6050, 'moin81787269': 6051, 'schwattebea': 6052, 'kn': 6053, 'b76': 6054, 'rdeck': 6055, 'herzlichen': 6056, 'kinderarbeit': 6057, 'kersten': 6058, 'dergiebel': 6059, 'gaehn': 6060, 'simone': 6061, 'stephanweil': 6062, 'mfratzscher': 6063, 'arbeitsplatz': 6064, 'christundlinks': 6065, 'uebergang': 6066, 'revolutionaere': 6067, 'schweitzer': 6068, 'gabs': 6069, 'finanzpolitik': 6070, 'debattencamp': 6071, 'coralproject': 6072, 'ordentlichen': 6073, 'diskutier': 6074, 'zeitrafferin': 6075, 'alex': 6076, 'menschenrecht': 6077, 'duerfte': 6078, 'wilmsval': 6079, 'jensausbochum': 6080, 'ehrenamt': 6081, 'generalsekretaer': 6082, '2008': 6083, '2009': 6084, 'angefangen': 6085, 'entlasten': 6086, 'prozentig': 6087, 'entsprach': 6088, 'bestanden': 6089, 'stimmberechtigt': 6090, 'familiennachzug': 6091, 'ehepa': 6092, 'tommyschett': 6093, 'bildung': 6094, 'adfc': 6095, 'fahrradclub': 6096, 'bessersode': 6097, 'manske': 6098, 'gaesten': 6099, 'enricotokar': 6100, 'spdbordesholm': 6101, 'georgscharioth': 6102, 'klokea': 6103, 'kobsalbe': 6104, 'verenahube': 6105, 'bundesgesundheitsminister': 6106, 'kapieren': 6107, 'klappt': 6108, 'showkuenstlerde': 6109, 'geeh': 6110, 'com': 6111, 'staerke': 6112, 'hitlergruesse': 6113, 'verharmlost': 6114, 'marschie': 6115, 'verfassungsschutzes': 6116, 'amri': 6117, 'versagt': 6118, 'beraet': 6119, 'menschenfeind': 6120, 'inneren': 6121, 'offenkundig': 6122, 'kretschmer': 6123, 'salonfaehig': 6124, 'braune': 6125, 'pegizei': 6126, 'schwerverletzte': 6127, 'svenishell': 6128, 'geschehnisse': 6129, 'proteste': 6130, 'antikapitalistischen': 6131, 'mobi': 6132, 'freefede': 6133, 'parallel': 6134, 'sonderzug': 6135, 'refugee': 6136, 'camp': 6137, 'ticker': 6138, 'rostock': 6139, 'offline': 6140, 'vermummt': 6141, 'hilfreich': 6142, 'gekleidete': 6143, 'stoerergruppe': 6144, 'staedten': 6145, 'dom': 6146, 'admiralstr': 6147, 'burgplatz': 6148, 'anmelder': 6149, 'werner': 6150, 'gegenstaende': 6151, '49': 6152, 'antikapitalistischer': 6153, 'capitalism': 6154, 'wanderkessel': 6155, 'depo': 6156, 'ation': 6157, '18h': 6158, 'mobivideo': 6159, 'sued': 6160, 'nord': 6161, '2013': 6162, 'zelt': 6163, 'roemerberg': 6164, 'm31': 6165, 'gunsten': 6166, 'fuersten': 6167, 'gelb': 6168, 'stolpersteine': 6169, '0001f927': 6170, '0001f975': 6171, 'erhoehen': 6172, 'selig': 6173, 'unterirdisch': 6174, 'direktor': 6175, 'geschaetzt': 6176, 'naund10': 6177, 'hsts': 6178, 'schaeuble': 6179, 'beschaemend': 6180, 'hr': 6181, 'kall90384061': 6182, 'festgenommen': 6183, 'janarudolph13': 6184, 'hofreiter': 6185, 'oekostrom': 6186, 'entsorgung': 6187, 'nachsorge': 6188, 'mathematik': 6189, 'schachzug': 6190, 'migrant': 6191, '0001f632': 6192, 'steuerzahlern': 6193, 'unterschiedlicher': 6194, 'eilmeldung': 6195, 'hpfahle': 6196, 'munduntotbar': 6197, 'josefweiglein': 6198, '0001f61f': 6199, 'kritisier': 6200, 'warnt': 6201, 'hebron': 6202, 'navigie': 6203, 'eingriffe': 6204, 'geschehen': 6205, 'klaren': 6206, 'rechtswidrig': 6207, 'buergers': 6208, 'seife': 6209, 'alliie': 6210, 'gedenktag': 6211, 'luxemburg': 6212, 'liebknecht': 6213, 'sahra': 6214, 'stefan': 6215, 'ueberzeugt': 6216, 'nahe': 6217, 'bedacht': 6218, 'anlass': 6219, 'kackscheisze': 6220, 'verpasst': 6221, 'permanent': 6222, 'vera': 6223, 'nocdu': 6224, 'gruesze': 6225, 'sim': 6226, 'kannte': 6227, 'zugeordnet': 6228, 'abtreibungsgegner': 6229, 'flens': 6230, 'pirat': 6231, 'bublies': 6232, 'kriegsverbrecher': 6233, 'screenshot': 6234, 'onlineplattform': 6235, 'vereins': 6236, 'nadine': 6237, 'luise': 6238, 'rassistische': 6239, 'nofundis': 6240, 'genderkrieg': 6241, 'iso': 6242, 'reproduzieren': 6243, 'rettungstasse': 6244, 'offensive': 6245, 'dringender': 6246, 'oktoberfest': 6247, 'verlagen': 6248, 'vereinen': 6249, 'verlinkungen': 6250, 'kas': 6251, 'ilumiriel': 6252, 'verkommen': 6253, 'mehlprinzessin': 6254, 'faloeffelfoks': 6255, 'kuerze': 6256, 'hense': 6257, 'ergaenzenden': 6258, 'wissenschaftlicher': 6259, 'barcode': 6260, 'huellen': 6261, 'treffpunkt': 6262, 'hinblick': 6263, 'lehne': 6264, 'harald': 6265, 'weyel': 6266, 'tumult': 6267, 'larswienand': 6268, 'gegenwind': 6269, 'fbm2018': 6270, 'generatoren': 6271, 'irr': 6272, 'orgas': 6273, 'regin': 6274, 'narzisse': 6275, 'anbetracht': 6276, 'homosexuellenfeindlichen': 6277, 'ueberschrift': 6278, 'sezession': 6279, 'jf': 6280, 'scholl': 6281, 'evangelikale': 6282, 'formelfriedrich': 6283, 'unterzeichner': 6284, 'wochenzeitung': 6285, 'referent': 6286, 'prochoice': 6287, 'pfui': 6288, 'sallowthorn': 6289, 'thegurkenkaiser': 6290, 'libre': 6291, 'jr': 6292, 'begruendet': 6293, 'judentum': 6294, 'israels': 6295, 'betrug': 6296, 'fariss': 6297, 'israelisten': 6298, 'iof': 6299, 'akteur': 6300, 'angegriffen': 6301, 'junta': 6302, '1973': 6303, 'neoliberalismus': 6304, 'ausgearbeitet': 6305, 'boys': 6306, 'freiraum': 6307, 'beschlossen': 6308, 'spuren': 6309, 'toetete': 6310, 'faschisie': 6311, '2025': 6312, 'antikriegstag': 6313, 'klapperfeldstrasse': 6314, 'hausdurchsuchungen': 6315, 'mohnblume2000': 6316, 'gaza': 6317, 'tel': 6318, 'aviv': 6319, 'haifa': 6320, 'jerusalem': 6321, 'repressive': 6322, 'gefluechteten': 6323, 'massiver': 6324, 'bullengewalt': 6325, 'movement': 6326, '062c': 6327, 'imperialistischer': 6328, 'aktivistinnen': 6329, 'anklage': 6330, 'muentzer': 6331, 'bauernkrieg': 6332, '250': 6333, 'here': 6334, 'schliesst': 6335, 'temme': 6336, 'staatsschutz': 6337, 'kpfrankfu': 6338, 'page': 6339, 'staatsschutzes': 6340, 'bgk': 6341, 'ak31er': 6342, 'katharinakoenig': 6343, 'cizre': 6344, 'jahrestag': 6345, 'str': 6346, 'junker': 6347, 'abg': 6348, 'ordnet': 6349, 'share': 6350, 'shelternow': 6351, 'butzbach': 6352, 'akp': 6353, 'ermordung': 6354, 'schlagstockeinsatz': 6355, 'saalbau': 6356, 'darmstadt': 6357, 'luisenplatz': 6358, 'welcome': 6359, 'azad': 6360, 'yxk': 6361, 'meinfrankfu': 6362, 'heidi': 6363, 'temporaer': 6364, 'pegidaffm': 6365, 'oenen': 6366, 'nopegidaffm': 6367, 'pfeffer': 6368, 'tuned': 6369, 'exzess': 6370, 'festnahme': 6371, '0160': 6372, 'voltaire': 6373, 'berxwedana': 6374, 'khaled': 6375, 'idris': 6376, 'bahray': 6377, 'fluechtling': 6378, 'ableger': 6379, 'carlos': 6380, 'anarchists': 6381, 'against': 6382, 'wall': 6383, 'raumstation': 6384, 'roedelheim': 6385, 'gezi': 6386, 'kanone': 6387, 'gebaucht': 6388, 'gekillt': 6389, 'verlogenen': 6390, 'gemordet': 6391, 'koran': 6392, 'freundschaften': 6393, 'entwickeln': 6394, 'hinterkopf': 6395, 'nute': 6396, 'jpn': 6397, 'pmo': 6398, 'gemaess': 6399, 'sicherheitsve': 6400, 'kapazitaeten': 6401, 'territorium': 6402, 'japans': 6403, 'zergehen': 6404, 'militaerbasen': 6405, 'kurilen': 6406, 'errichten': 6407, 'schmierenkomoedianten': 6408, 'libyschen': 6409, 'schippern': 6410, 'individualitaet': 6411, 'auszubauen': 6412, 'pflicht': 6413, 'verecken': 6414, 'arbeitskraefte': 6415, 'ueberlegt': 6416, 'arbeitslosen': 6417, 'roboter': 6418, 'weggenommen': 6419, 'weltherrschaft': 6420, 'wirklichen': 6421, 'harz': 6422, 'erschlagen': 6423, 'gedenke': 6424, 'zumal': 6425, 'poren': 6426, 'unterbinden': 6427, 'radikalislamische': 6428, 'muslimbruderschaft': 6429, 'islamisieren': 6430, 'tiefes': 6431, 'loch': 6432, 'bum': 6433, 'schaufeln': 6434, 'beitreten': 6435, 'weltordnung': 6436, 'sande': 6437, 'verlaeuft': 6438, 'feigling': 6439, 'spezialeinheiten': 6440, 'uniform': 6441, 'angeordnet': 6442, 'illusionen': 6443, 'weib': 6444, 'gedenkkultur': 6445, 'sawsan': 6446, 'freches': 6447, 'versohlen': 6448, 'ekelt': 6449, 'anzufassen': 6450, 'asozialste': 6451, 'express24': 6452, 'verdammtes': 6453, 'kriegerisches': 6454, 'miststueck': 6455, 'violences': 6456, 'polici': 6457, 'res': 6458, 'france': 6459, 'schmusi': 6460, 'animie': 6461, 'drecksack': 6462, 'betrachte': 6463, 'verleitet': 6464, 'arbeitskraft': 6465, 'lohn': 6466, 'asylrecht': 6467, 'observie': 6468, 'weiser': 6469, 'vernuemftiger': 6470, 'kochtopf': 6471, 'fingerhut': 6472, 'vergleichen': 6473, 'waoterkonterau': 6474, 'primitiv': 6475, 'taschen': 6476, 'stopfen': 6477, 'stecht': 6478, 'machtdemonstration': 6479, 'flutschen': 6480, 'haufen': 6481, 'emmanuelmacron': 6482, 'wozu': 6483, 'zugehoe': 6484, 'asozialer': 6485, 'schnellzuender': 6486, 'diktators': 6487, 'verfluchten': 6488, 'atombomben': 6489, 'rottet': 6490, 'british': 6491, 'army': 6492, 'skrupellos': 6493, 'erschiessen': 6494, 'nieder': 6495, 'brennend': 6496, 'ine': 6497, 'isieren': 6498, 'schwarzgeld': 6499, 'benoetigt': 6500, 'atombunker': 6501, 'unterirdischen': 6502, 'gaengen': 6503, 'annette': 6504, 'salvini': 6505, 'brauchst': 6506, 'hamed': 6507, 'samad': 6508, 'vergoette': 6509, 'individuum': 6510, 'unterordnet': 6511, 'wiederum': 6512, 'besitzt': 6513, 'dogmatisch': 6514, 'ratte': 6515, 'kaefig': 6516, 'konsens': 6517, 'besuchen': 6518, 'christlich': 6519, 'zufunkt': 6520, 'entscheidet': 6521, 'eingesessenen': 6522, 'straflager': 6523, 'kinderporno': 6524, 'ring': 6525, 'gruender': 6526, 'maire': 6527, 'gefaengnis': 6528, 'brisanten': 6529, 'aushebeln': 6530, 'legalen': 6531, 'drecksaecken': 6532, 'maasmaenschen': 6533, 'strotzt': 6534, 'abruesten': 6535, 'aufruesten': 6536, 'par': 6537, 'excellence': 6538, 'offenlegung': 6539, 'bmw': 6540, 'bmwdeutschland': 6541, 'gekaufter': 6542, 'insinuie': 6543, 'last': 6544, 'auslaenderbehoerde': 6545, 'kanadierin': 6546, 'ausgewiesen': 6547, 'mary': 6548, 'ann': 6549, 'elender': 6550, 'involvie': 6551, 'schmeisst': 6552, 'entsorgen': 6553, 'lebensformen': 6554, 'spiegelt': 6555, 'hirnverbrannter': 6556, 'unterentwickelte': 6557, 'unternimmst': 6558, 'asozialen': 6559, '1200': 6560, 'hoehe': 6561, 'fallschirm': 6562, 'helm': 6563, 'verletzen': 6564, 'aggression': 6565, 'muellkippe': 6566, 'hinterlassen': 6567, 'aufraeumen': 6568, 'nagelschere': 6569, 'schneiden': 6570, 'mekel': 6571, 'schmeissen': 6572, 'anreden': 6573, 'naher': 6574, 'befehl': 6575, 'aermsten': 6576, 'abzuzocken': 6577, 'verleitung': 6578, 'diebstahl': 6579, 'herholen': 6580, 'russiabeyond': 6581, 'winterfest': 6582, 'mauer': 6583, 'erwecken': 6584, 'trueffelschweine': 6585, 'geldboersenschweine': 6586, 'bundesgerichtshof': 6587, 'uebersetzung': 6588, 'kardinal': 6589, 'woelki': 6590, 'paedophile': 6591, 'vergewaltiger': 6592, 'staete': 6593, 'einlarven': 6594, 'gebauten': 6595, 'zurueckzahlen': 6596, 'israelingermany': 6597, 'illegalem': 6598, 'mohammed': 6599, 'salman': 6600, 'rechtswissenschaft': 6601, 'auftragskiller': 6602, 'thiele': 6603, 'domikronos': 6604, 'dergleichen': 6605, 'obedmarsh': 6606, 'begruende': 6607, 'vermischung': 6608, 'irgendwelcher': 6609, 'betuel': 6610, 'character': 6611, 'zusage': 6612, 'leyen': 6613, 'goldjungen': 6614, 'gemause': 6615, 'politikerpak': 6616, 'jagt': 6617, 'benziner': 6618, 'wasserstoff': 6619, 'angetriebene': 6620, 'goldjunge': 6621, 'abzuleisten': 6622, 'poroschenko': 6623, 'schwarzgeschaeft': 6624, 'ruestung': 6625, 'killer': 6626, 'baustelle': 6627, 'denkmal': 6628, 'selbststaendig': 6629, 'dogmatik': 6630, 'kaemm': 6631, 'meiersimson': 6632, 'verhaelt': 6633, 'vernuemftig': 6634, 'nazistisch': 6635, 'saugt': 6636, 'isanen': 6637, 'verfluchter': 6638, 'marokkanern': 6639, 'einzufloessen': 6640, 'nazistische': 6641, 'rudelfuehrer': 6642, 'exhibitionisten': 6643, 'haldenwangnn': 6644, 'ungutes': 6645, 'verheimlicht': 6646, 'auszuloesen': 6647, 'safari': 6648, '61': 6649, 'beraten': 6650, 'ivanrodionov': 6651, 'lutschen': 6652, 'unserjena': 6653, 'eingerichtet': 6654, 'klinke': 6655, 'venezolanische': 6656, 'aufhetzen': 6657, 'verklagen': 6658, 'rufmord': 6659, 'schwammiger': 6660, 'besitzverhaeltnisse': 6661, 'oekonomisch': 6662, 'vasall': 6663, 'einzupruegeln': 6664, 'joachimscheich': 6665, 'angewiesen': 6666, 'saschalobo': 6667, 'ironie': 6668, 'islamhetze': 6669, 'waerst': 6670, 'duemmling': 6671, 'stecker': 6672, 'rassistisches': 6673, 'weltbild': 6674, 'erschuette': 6675, 'gewinnst': 6676, 'blumentopf': 6677, 'chinesen': 6678, 'knickt': 6679, 'imperialist': 6680, 'holgersiebe': 6681, 'hofjuden': 6682, 'terminfracht': 6683, 'dauerorgasmus': 6684, 'bedauernswe': 6685, 'aufregt': 6686, 'daemonisierung': 6687, 'zweck': 6688, 'disfosgen': 6689, 'anlastet': 6690, 'orban': 6691, 'mini': 6692, 'abnoetigten': 6693, 'verstand': 6694, 'ablenkungsmanoever': 6695, 'loesungen': 6696, 'tragende': 6697, 'vorhandenen': 6698, 'anwesenheit': 6699, 'trend': 6700, 'islamhass': 6701, 'aufgemacht': 6702, 'glasklare': 6703, 'verschleiern': 6704, 'leugnen': 6705, 'vorwuerfe': 6706, 'prozentpunkte': 6707, 'entkraeftet': 6708, 'islamkritiker': 6709, '0001f911': 6710, 'vespasianus69bc': 6711, 'belieben': 6712, 'instrumentalisie': 6713, 'jjhavemann': 6714, 'zionistischer': 6715, 'manier': 6716, 'decksarbeit': 6717, 'musterdemokraten': 6718, 'ermoeglicht': 6719, 'einheimischen': 6720, 'ausschlachtet': 6721, 'puettmann': 6722, 'antijuedisch': 6723, 'antiislamisch': 6724, 'zionheuchler': 6725, 'bildschmierfink': 6726, 'ikonenstatus': 6727, 'daemonisie': 6728, 'loszulegen': 6729, 'ausgehend': 6730, 'segen': 6731, 'gewollt': 6732, 'tagespolitik': 6733, 'verlust': 6734, 'ko': 6735, 'liverpool': 6736, 'parat': 6737, 'charliemayvuele': 6738, 'ikone': 6739, 'vorsteht': 6740, 'hinterfragt': 6741, 'geschriebene': 6742, 'busreise': 6743, 'kroatien': 6744, 'schengen': 6745, 'zugpferd': 6746, 'ausgesucht': 6747, 'fungie': 6748, 'rhetorik': 6749, 'beweist': 6750, 'taetervolk': 6751, 'angekreidet': 6752, 'wichtigeren': 6753, 'kommentars': 6754, 'nebensaechlich': 6755, 'frankklarname': 6756, 'hoechstens': 6757, 'bengalomusik': 6758, 'justuserb3': 6759, 'nachdenkseiten': 6760, 'swraktuell': 6761, 'bosnischen': 6762, 'premier': 6763, 'league': 6764, 'bl': 6765, 'rowdy': 6766, 'benehmen': 6767, 'watchingyou81': 6768, 'irgendetwas': 6769, 'plagt': 6770, 'romy': 6771, 'isback': 6772, 'mobilisie': 6773, 'ifikate': 6774, 'kunibe': 6775, 'ingmarstadelman': 6776, 'vergasen': 6777, 'praktiken': 6778, 'angelehnt': 6779, 'bewaffnete': 6780, 'miliz': 6781, 'juedisch': 6782, 'christlicher': 6783, 'anmeldet': 6784, 'taliban': 6785, 'korrumpieren': 6786, 'impressum': 6787, 'newelmedia': 6788, 'pozelt': 6789, 'gemeinwohl': 6790, 'masseyfriend': 6791, 'mitmachten': 6792, 'minderheit': 6793, 'begruessen': 6794, 'erkrankung': 6795, 'propagandaform': 6796, 'guenstig': 6797, 'folgekosten': 6798, 'guek62': 6799, 'muslimstar': 6800, 'nationalmannschaft': 6801, 'senf': 6802, 'appt': 6803, 'followern': 6804, 'zurueckrudern': 6805, 'ideologischen': 6806, 'unterstellung': 6807, 'wohlstand': 6808, 'meckern': 6809, 'cdgham': 6810, 'nochmals': 6811, 'hassprediger': 6812, 'vernichtungslager': 6813, 'basf': 6814, 'hoechst': 6815, 'unachalnik': 6816, 'leim': 6817, 'islamischen': 6818, 'polizeikontrolle': 6819, 'banden': 6820, 'standen': 6821, 'gaesteliste': 6822, 'eingangstor': 6823, 'lagers': 6824, 'eidigst': 6825, 'farmer': 6826, 'suedafrika': 6827, 'fremdes': 6828, 'einverleibt': 6829, 'parsaahmadnia': 6830, 'monowitz': 6831, 'keinlemming': 6832, 'gebildete': 6833, 'gehirnwaschstrasse': 6834, 'finanzstarken': 6835, 'investoren': 6836, 'vedient': 6837, 'verkauf': 6838, 'bleichgesichter': 6839, 'buntuwanderung': 6840, 'ausenden': 6841, 'viehzuechter': 6842, 'weideland': 6843, 'beansprucht': 6844, 'besagten': 6845, 'silvesternacht': 6846, 'ominoesen': 6847, 'migrantenhorden': 6848, 'fremdkoerper': 6849, 'akif': 6850, 'wasch': 6851, 'lappen': 6852, 'turadalet': 6853, 'kaisi13': 6854, 'oelreichste': 6855, 'suedamerika': 6856, 'dorn': 6857, 'prosperieren': 6858, 'lecken': 6859, 'unentschieden': 6860, 'kram': 6861, 'gepasst': 6862, 'islamisch': 6863, 'gerufen': 6864, 'fluchtursache': 6865, 'rgruhn': 6866, 'raeder': 6867, 'konntest': 6868, 'einzug': 6869, 'ohnesinn0815': 6870, 'scheinst': 6871, 'versager': 6872, 'norweger': 6873, 'angler': 6874, 'einsam': 6875, 'tanzen': 6876, 'cares': 6877, 'vunallemebbes': 6878, 'tobi180': 6879, 'jonastwentyone': 6880, 'gefehlt': 6881, 'auspowe': 6882, 'clemenskl': 6883, 'shelovestheusa': 6884, 'echo': 6885, 'gedicht': 6886, 'kreisen': 6887, 'ziegenficker': 6888, 'dargestellt': 6889, 'stattfindet': 6890, 'fahnenkult': 6891, 'ausleben': 6892, 'regt': 6893, 'franzi240600': 6894, 'buehlbecker': 6895, 'homo': 6896, 'mittelkreis': 6897, 'djakobi64': 6898, 'schiedsrichter': 6899, 'bisherigen': 6900, 'analysie': 6901, 'kommentaren': 6902, 'ausscheiden': 6903, 'kueren': 6904, 'ausnahmsweise': 6905, 'verstehn': 6906, 'spielerisch': 6907, 'ruhm': 6908, 'bekleckern': 6909, 'geschulte': 6910, 'ankam': 6911, 'sst3107': 6912, 'krisenmanagement': 6913, 'devise': 6914, 'patriotengebaren': 6915, 'bombt': 6916, 'bmwi': 6917, 'bmu': 6918, 'mathew': 6919, 'bavaria': 6920, 'saar': 6921, 'worldjewishcong': 6922, 'vorfahren': 6923, 'verkackt': 6924, 'ausbaden': 6925, 'anschuldigungen': 6926, 'schneidet': 6927, 'noblessefatigue': 6928, 'zum': 6929, 'wievielten': 6930, 'hochstilisie': 6931, 'tabernamontanu7': 6932, 'sobald': 6933, 'kiew': 6934, 'schuesse': 6935, 'ausgebildeter': 6936, 'oppositionsfuehrer': 6937, 'berufen': 6938, 'heimatland': 6939, 'altar': 6940, 'venezolanischen': 6941, 'hoffnungstraeger': 6942, 'verscherbeln': 6943, 'schwelessio': 6944, 'westdeutschland': 6945, 'dame': 6946, 'dreckspa': 6947, 'faschistin': 6948, 'durchsetzung': 6949, 'schaftlicher': 6950, 'festmachen': 6951, 'treibende': 6952, 'verbundenen': 6953, 'neuzeit': 6954, 'feindbild': 6955, 'verbergen': 6956, 'bescheinigen': 6957, 'zeige': 6958, 'puren': 6959, 'resultie': 6960, 'wahlbetrug': 6961, 'libyer': 6962, 'iraker': 6963, 'diaspora': 6964, 'kerwal3': 6965, 'bevormundung': 6966, 'opferrolle': 6967, 'kindesmissbrauch': 6968, 'einspannt': 6969, 'keim': 6970, 'ersticken': 6971, 'unfallfrei': 6972, 'ueberleitung': 6973, 'salafisten': 6974, 'wieeinverkehrs1': 6975, 'linde964166471': 6976, 'l27027232': 6977, 'friedlichen': 6978, 'bruchteil': 6979, 'vermindern': 6980, 'pauschalisierung': 6981, 'jobbeige': 6982, 'rehabilitie': 6983, 'einsnochamrande': 6984, 'marcusscheller': 6985, 'skythe83': 6986, 'macbeth0815': 6987, 'ajcberlin': 6988, 'antisemiten': 6989, 'ablenkung': 6990, 'nickycolin1': 6991, 'barbara33366': 6992, 'worin': 6993, 'islamhassern': 6994, 'gebretter': 6995, 'gekruste': 6996, 'crust': 6997, 'shades': 6998, 'santa': 6999, 'brawl': 7000, 'fanden': 7001, 'identitaeren': 7002, 'staatl': 7003, 'nachbericht': 7004, 'bn1811': 7005, '57': 7006, 'drinks': 7007, 'strukturelle': 7008, 'falschbehauptungen': 7009, 'demonstrationszug': 7010, 'abschlusskundgebung': 7011, 'park': 7012, 'geplanten': 7013, 'verschaerfung': 7014, 'polizeigesetzes': 7015, 'einschraenkungen': 7016, 'grundrechte': 7017, 'polizeigesetz': 7018, 'schneeballschlacht': 7019, 'bergischen': 7020, '1maiwtal': 7021, 'kaiserplatz': 7022, 'eisiger': 7023, 'rechtsrucks': 7024, 'bushof': 7025, 'zwischenkundgebung': 7026, 'anlaessl': 7027, 'toetung': 7028, 'mitchhenriquez': 7029, 'staatliche': 7030, 'einzelpersonen': 7031, 'herumtreiben': 7032, 'gerichts': 7033, 'prozesse': 7034, 'massiven': 7035, 'loehrzeichen': 7036, 'oha': 7037, 'schonmal': 7038, 'klaerungsbedarf': 7039, 'archiv': 7040, 'erweitern': 7041, 'bock': 7042, 'raetselhafte': 7043, 'flyer': 7044, 'lambe': 7045, 'gleichsetzung': 7046, 'schraegstrich': 7047, 'dessen': 7048, 'gleichsetzungen': 7049, 'behinhalten': 7050, 'akut': 7051, 'raeumungsbedroht': 7052, 'sc': 7053, 'homophobie': 7054, 'dj': 7055, 'stoner': 7056, 'doom': 7057, 'death': 7058, 'too': 7059, 'stoned': 7060, 'ratsam': 7061, 'pogromnachts': 7062, 'etwaige': 7063, 'umtriebigkeiten': 7064, '43': 7065, 'kleingruppe': 7066, 'bewaffneter': 7067, 'rothe': 7068, 'melodic': 7069, 'valley': 7070, 'vermeh': 7071, 'kaltland': 7072, 'sommerzeit': 7073, 'exakt': 7074, 'uhren': 7075, 'durcheinander': 7076, 'kalten': 7077, 'warmen': 7078, 'getraenken': 7079, 'vincetmoll': 7080, 'byebye': 7081, '56': 7082, 'bushcraftrhein1': 7083, 'sarahthies1': 7084, 'aufgr': 7085, 'protestcamp': 7086, 'ofen': 7087, 'freigelassene': 7088, 'fankultur': 7089, 'verschiedene': 7090, 'posthof': 7091, 'sichtungen': 7092, 'grueppchen': 7093, 'abzufangen': 7094, 'hate': 7095, 'skafield': 7096, 'la': 7097, 'familia': 7098, 'nocturnus': 7099, 'habitum': 7100, 'aktionunterholz': 7101, 'rabazkoeln': 7102, 'besetzenberlin': 7103, 'azkoeln': 7104, 'verbinden': 7105, 'solidar': 7106, 'fronten': 7107, 'solidaritaetstatthetze': 7108, 'sheeeshpeng': 7109, 'antifainfoac': 7110, 'seeehr': 7111, 'nachwuchs': 7112, 'gesticke': 7113, '1818': 7114, 'juedisches': 7115, 'cenotaph': 7116, 'anachronism': 7117, 'funk': 7118, 'lhotse': 7119, 'kaczka': 7120, 'zen': 7121, 'versammlungsleiter': 7122, 'gesucht': 7123, 'duldet': 7124, 'rhizom': 7125, 'friedrichstr': 7126, 'gesaac': 7127, 'aufgeheizte': 7128, 'aussprach': 7129, '2041': 7130, 'activist': 7131, 'invited': 7132, 'join': 7133, 'lud': 7134, 'totally': 7135, 'overcrowded': 7136, 'some': 7137, 'imprisoned': 7138, 'comrades': 7139, 'dont': 7140, 'forget': 7141, 'them': 7142, 'ueberfuellten': 7143, 'bzgl': 7144, 'joining': 7145, 'much': 7146, 'hambach': 7147, 'must': 7148, 'anymore': 7149, 'chanting': 7150, 'stays': 7151, 'prisoners': 7152, 'missing': 7153, 'stille': 7154, 'immediate': 7155, 'resignation': 7156, 'interior': 7157, 'innenministers': 7158, '1800': 7159, 'silently': 7160, 'eviction': 7161, 'police': 7162, 'via': 7163, 'auftaktkundgebung': 7164, 'gefolgt': 7165, 'first': 7166, 'speech': 7167, 'opens': 7168, 'followed': 7169, 'silence': 7170, 'already': 7171, 'ing': 7172, 'point': 7173, 'auftakt': 7174, 'hooligans': 7175, 'gestorbenen': 7176, 'getoeteten': 7177, 'huldigen': 7178, 'bietet': 7179, 'selbstschutz': 7180, 'antifannrw': 7181, 'just': 7182, 'xabc': 7183, 'rlx': 7184, 'solidarischen': 7185, 'empfang': 7186, 'geschirr': 7187, 'besteck': 7188, 'autreiben': 7189, 'bringts': 7190, 'gebts': 7191, 'retweet': 7192, 'gesamten': 7193, 'ausruhen': 7194, 'updates': 7195, 'rechtshilfe': 7196, 'pennplatz': 7197, '2103': 7198, 'festgehalten': 7199, 'sachspenden': 7200, 'bspw': 7201, 'zelte': 7202, 'vorbeibringen': 7203, 'leiten': 7204, 'zwecks': 7205, 'direct': 7206, 'message': 7207, 'nachtschicht': 7208, 'derweil': 7209, 'rueckzugso': 7210, 'heisses': 7211, 'kaltes': 7212, 'ruhepause': 7213, 'hacklaenderstr': 7214, 'raise': 7215, 'voices': 7216, 'poetry': 7217, 'slam': 7218, '80s': 7219, '59': 7220, 'innenjagd': 7221, '0177': 7222, '1897053': 7223, 'anderweitige': 7224, 'reisende': 7225, 'geruhsame': 7226, 'anlaufpunkt': 7227, 'warmes': 7228, 'benoetigen': 7229, 'postfach': 7230, 'ankuendigungen': 7231, 'theaterplatz': 7232, 'raeumungs': 7233, 'ultras': 7234, 'maennlichkeit': 7235, 'hallihallo': 7236, 'folgenden': 7237, 'events': 7238, 'revolting': 7239, 'queers': 7240, 'sub': 7241, 'graz': 7242, 'verabschieden': 7243, 'kommenden': 7244, 'wochenuebersicht': 7245, 'queer': 7246, 'seebruecke': 7247, 'haefen': 7248, 'kriminalisierung': 7249, 'fluchtwege': 7250, 'folgendes': 7251, 'wurstclub': 7252, 'ep': 7253, 'releaseshow': 7254, 'fictionpa': 7255, 'frauennetzwerk': 7256, 'staedteregion': 7257, 'metoo': 7258, 'hausbesetzung': 7259, 'muffeter': 7260, 'gebaeude': 7261, 'leerstehen': 7262, 'muffi5': 7263, 'keinschlussstrich': 7264, 'eilsverkuendung': 7265, 'erfreuen': 7266, 'klaenge': 7267, 'kneipen': 7268, 'ime': 7269, 'rapness': 7270, 'schwingt': 7271, 'tanzbein': 7272, 'clash': 7273, 'pt': 7274, 'amanoman1': 7275, 'filmvorfuehrung': 7276, 'dokumentarfilm': 7277, 'hausbesetzungen': 7278, 'tuerkin': 7279, 'grauen': 7280, 'woelfen': 7281, 'egotronic': 7282, 'mighty': 7283, 'five': 7284, 'wandelbar': 7285, 'austeros': 7286, 'erica': 7287, 'freas': 7288, 'autonomes': 7289, 'minutes': 7290, 'schelle': 7291, 'little': 7292, 'brother': 7293, 'space': 7294, 'dubstep': 7295, 'jungle': 7296, 'bass': 7297, 'wobbly': 7298, 'tail': 7299, 'zion': 7300, 'empathea': 7301, '6x8': 7302, 'tour': 7303, 'awaking': 7304, 'neverland': 7305, 'ashes': 7306, 'dreams': 7307, 'fuse': 7308, 'pogendroblem': 7309, 'scruffyheads': 7310, 'bloodstains': 7311, 'black': 7312, 'punkrock': 7313, 'oppositon': 7314, 'oekonomie': 7315, 'religoese': 7316, 'iran': 7317, 'icipation': 7318, 'mosh': 7319, 'ully': 7320, 'nsurrectionary': 7321, 'uxury': 7322, 'q': 7323, 'ueer': 7324, 'pace': 7325, 'narchism': 7326, 'mofo': 7327, 'sexy': 7328, 'humans': 7329, 'h4ck': 7330, 'hal': 7331, 'johnson': 7332, 'snareset': 7333, 'vitamin': 7334, '001': 7335, 'truemmerratten': 7336, 'trashgefluester': 7337, 'flti': 7338, 'hammer': 7339, 'sichel': 7340, 'gepichel': 7341, 'digitalen': 7342, 'ii': 7343, 'kuafoer': 7344, 'keupstrasse': 7345, 'projekts': 7346, 'hintergr': 7347, 'homepage': 7348, 'down': 7349, 'squatbo': 7350, 'koenntet': 7351, 'angesetzte': 7352, 'sasch': 7353, 'heinsberg': 7354, 'angekuendigte': 7355, 'hueckelhoven': 7356, 'baal': 7357, 'kl': 7358, 'junger': 7359, 'trfpkt': 7360, 'koeln2204': 7361, 'bu': 7362, 'scheid': 7363, 'catacombs': 7364, 'utopolis': 7365, 'sissys': 7366, 'reiterstaffel': 7367, 'faudsseldorf': 7368, 'topsy': 7369, 'turvy': 7370, 'mazonit': 7371, 'liqour': 7372, 'lads': 7373, 'pornick': 7374, 'casino': 7375, 'missverstaendnisse': 7376, 'alemannia': 7377, 'fussballfans': 7378, 'movie': 7379, 'refuge': 7380, 'again': 7381, 'clock': 7382, 'leckeres': 7383, 'veganes': 7384, 'one': 7385, 'yummy': 7386, 'zeitstempel': 7387, 'twitte': 7388, 'use': 7389, 'if': 7390, 'actions': 7391, 'anlaufpkt': 7392, 'resseurope': 7393, 'momored21': 7394, '15h': 7395, 'workshops': 7396, 'rechtl': 7397, 'gedenkdemo': 7398, 'promenadenstr': 7399, 'trap': 7400, 'witchhouse': 7401, 'kickermatch': 7402, 'neunzigerjahre': 7403, 'hits': 7404, 'jahrzehnts': 7405, 'psychischesprbl': 7406, 'vage': 7407, 'schland': 7408, 'regentaugliche': 7409, 'suessdorf': 7410, 'ricarda': 7411, 'riefling': 7412, 'thuegida': 7413, 'entfaellt': 7414, 'dreizugrunde': 7415, 'traut': 7416, 'unsern': 7417, 'admins': 7418, 'schwarzrote': 7419, 'analyse': 7420, 'three': 7421, 'duester': 7422, 'anklicken': 7423, 'swagt': 7424, 'alternativloes': 7425, 'duerener': 7426, 'besuchten': 7427, 'milit': 7428, 'kameradschaft': 7429, 'burschenschaft': 7430, 'afdwatch': 7431, 'entspannten': 7432, 'kneipenabend': 7433, '00er': 7434, 'krachen': 7435, 'niederrhein': 7436, 'ruhrgebiet': 7437, 'aggr': 7438, 'mssq': 7439, 'koeln1203': 7440, 'reclaim': 7441, 'feminism': 7442, 'feminismus': 7443, 'antirassistisch': 7444, 'mssquer': 7445, 'quer': 7446, 'einlass': 7447, 'nomoegida': 7448, 'erk2702': 7449, 'juhu': 7450, 'veranstaltungsankuendigungen': 7451, 'abreisender': 7452, 'verviers': 7453, 'eupen': 7454, 'groessenwahnsinnig': 7455, 'makssdamage': 7456, 'werben': 7457, 'pronrw': 7458, 'rep': 7459, 'arminiusbund': 7460, '12h': 7461, '13h': 7462, 'mgladbach': 7463, 'vereinzelt': 7464, 'polizeiac': 7465, 'herausragende': 7466, 'grosseinsatz': 7467, 'vereiteltem': 7468, 'mehrerer': 7469, 'dankepolizei': 7470, 'abgezogen': 7471, '1929': 7472, 'angriffversuch': 7473, 'missglueckt': 7474, 'nopegidanrw': 7475, 'samst': 7476, 'entschlossen': 7477, 'entgegentreten': 7478, 'knastis': 7479, '1726': 7480, '1708': 7481, 'gegendemonstrant': 7482, '1638': 7483, '1624': 7484, 'kundegebung': 7485, 'aufrecht': 7486, '1620': 7487, 'genehmigt': 7488, 'angemeldet': 7489, 'enlassen': 7490, '1559': 7491, 'conligit': 7492, 'teh': 7493, 'riddle': 7494, 'geopfe': 7495, 'restaurant': 7496, 'landtags': 7497, 'schreck': 7498, 'runterspuelen': 7499, 'ba': 7500, 'erhielt': 7501, 'fantastisch': 7502, 'strahl': 7503, 'withvision': 7504, 'reichte': 7505, 'faszinierend': 7506, 'fabeln': 7507, 'bots': 7508, 'herhalten': 7509, 'panzerfee': 7510, 'ansprueche': 7511, 'niedrig': 7512, 'mistergreen77': 7513, 'gilmourorgasm': 7514, 'wuenschte': 7515, 'kopptisch': 7516, 'ursprungstext': 7517, 'schoeussfolgerung': 7518, 'liberale': 7519, 'errungenschaften': 7520, 'einzufrieren': 7521, 'kapitulationserklaerung': 7522, 'averagepony': 7523, 'ddreudnitz': 7524, 'faend': 7525, 'johannesvogel': 7526, 'vermeintlicher': 7527, 'geschmaeht': 7528, 'heat': 7529, 'vhs': 7530, 'dvd': 7531, 'bluray': 7532, 'itunes': 7533, 'eingetippt': 7534, 'honeypott': 7535, 'dateb': 7536, 'validieren': 7537, 'einkalkulie': 7538, 'ausgenutzt': 7539, 'backdrop': 7540, 'effekhascherische': 7541, 'eigeninszenierung': 7542, 'outing': 7543, 'smoke': 7544, 'mirrors': 7545, 'valide': 7546, 'beinhalten': 7547, 'tatsaechlichen': 7548, 'lokalen': 7549, 'regionalen': 7550, 'verhaeltnissen': 7551, 'performance': 7552, 'realen': 7553, 'ausblendet': 7554, 'hanvoi': 7555, 'packages': 7556, 'kuenstlerhippies': 7557, 'outen': 7558, 'strukturell': 7559, 'zuneigt': 7560, 'zielfuehrenderen': 7561, 'raeuberhose': 7562, 'gefaelligst': 7563, 'winterlich': 7564, 'pudding83': 7565, 'kbsachsen': 7566, 'hoehoe': 7567, 'meins': 7568, 'hoc': 7569, 'labern': 7570, 'gegenpruefen': 7571, 'regionalkonferenz': 7572, 'anhalt': 7573, 'konservatismus': 7574, 'altbackene': 7575, 'zurueckzugreifen': 7576, 'gold': 7577, 'beziehungen': 7578, 'rast': 7579, 'meme': 7580, 'deutschtwitter': 7581, 'dude': 7582, 'aufbaut': 7583, 'matthias': 7584, 'moosdorf': 7585, 'quell': 7586, 'hochkultur': 7587, 'huh': 7588, 'bahamas': 7589, 'gehuldigt': 7590, 'grusswo': 7591, 'stadtpa': 7592, 'realistisch': 7593, 'eventhalle': 7594, 'planen': 7595, 'handballer': 7596, 'international': 7597, 'zweitliga': 7598, 'eishockey': 7599, 'aufsteigen': 7600, 'nopolizeigesetz': 7601, 'befugnisse': 7602, 'quo': 7603, 'hannibal': 7604, 'normalitaeten': 7605, 'famose': 7606, 'dystopie': 7607, 'gedruckt': 7608, 'interessanter': 7609, '263a': 7610, 'unschluessig': 7611, 'apokalyptischen': 7612, 'publikumsbeschimpfung': 7613, 'erhobener': 7614, 'aeh': 7615, 'zeigefinger': 7616, 'spoilern': 7617, 'sahne': 7618, 'nolegida': 7619, 'bombendrohung': 7620, 'beruhigen': 7621, 'spoiler': 7622, 'ursprungstweet': 7623, 'bullshit': 7624, 'popkulturell': 7625, 'novum': 7626, 'superheldencomics': 7627, 'gespielt': 7628, 'hypnotisie': 7629, 'antideutscher': 7630, 'verbracht': 7631, 'jezzt': 7632, 'publictorsten': 7633, 'nuetzlich': 7634, 'werbemails': 7635, 'produkten': 7636, 'kurzem': 7637, 'amazon': 7638, 'deutscheselend': 7639, 'beklagte': 7640, 'montagsmahnwachen': 7641, 'wkprognose': 7642, 'loechrig': 7643, 'geographiekenntnisse': 7644, 'zugeschrieben': 7645, 'grafik': 7646, 'west': 7647, 'lautschrift': 7648, 'prognosen': 7649, 'angabe': 7650, 'kandidatur': 7651, 'kuechentisch': 7652, 'paupinet': 7653, 'nuja': 7654, 'sach': 7655, 'listenplaetze': 7656, 'songs': 7657, 'debattenjunkies': 7658, 'quichottes': 7659, 'windmuehlen': 7660, 'tragikkomik': 7661, 'vernuenftige': 7662, 'ausschlussklausel': 7663, 'sprachlich': 7664, 'blinder': 7665, 'fleck': 7666, 'poschardt': 7667, 'stock': 7668, 'bayernnachspielzeit': 7669, 'anerkannten': 7670, 'abseitstor': 7671, 'sahnehaeubchen': 7672, 'bvbfcb': 7673, 'vollmond': 7674, 'wesjohann': 7675, 'copista': 7676, 'uhm': 7677, 'erklaerst': 7678, 'abseitige': 7679, 'verkuerzung': 7680, 'abstrakte': 7681, 'allgemeinplaetze': 7682, 'explizite': 7683, 'nachweisbare': 7684, 'vorliegen': 7685, 'anhaltspunkte': 7686, 'gitarre': 7687, 'saiten': 7688, 'aufziehen': 7689, '1gbit': 7690, 'abfallprodukt': 7691, 'infrastrukturupdates': 7692, 'vermarkten': 7693, 'router': 7694, 'consumer': 7695, 'inhalten': 7696, 'erfuellen': 7697, 'externe': 7698, 'festplatten': 7699, 'konsole': 7700, 'bereitzuhalten': 7701, '100gig': 7702, '1g': 7703, 'grundkosten': 7704, 'mhm': 7705, 'verkabelt': 7706, 'downloads': 7707, 'riesig': 7708, 'exilsaxe': 7709, 'regelmaessiger': 7710, 'kontakte': 7711, 'koecke': 7712, 'gelinde': 7713, 'reloaded': 7714, 'birgitundandre': 7715, 'konstruktive': 7716, 'bratka': 7717, 'rohen': 7718, 'riesensauerei': 7719, 'amish': 7720, 'beimwo': 7721, 'inhoffmann': 7722, 'auffliegen': 7723, 'ernataverna': 7724, 'luftleeren': 7725, 'ise': 7726, 'diskursen': 7727, 'auskennt': 7728, 'unkritische': 7729, 'distanzlose': 7730, 'ergoetzen': 7731, 'jugendphaenomenen': 7732, 'aufklaererischer': 7733, 'einfallen': 7734, 'propanda': 7735, 'zugriff': 7736, 'bestellvorgang': 7737, 'gives': 7738, 'preisnominierung': 7739, 'menschlichkeit': 7740, 'auswahl': 7741, 'problems': 7742, '24h': 7743, 'unmoeglichen': 7744, 'angesetzt': 7745, 'kuemmerliche': 7746, 'kuenstlerisches': 7747, 'blabubb': 7748, 'substanzlos': 7749, 'protagonisten': 7750, 'antisemitischen': 7751, 'sexistischen': 7752, 'films': 7753, 'kommentarlos': 7754, 'ungefilte': 7755, 'sendet': 7756, 'lordschmordtoyboys': 7757, 'albernspeak': 7758, 'unkritisch': 7759, 'faeustchen': 7760, 'witzchen': 7761, 'festivalkatalog': 7762, 'akteure': 7763, 'ueberspitzung': 7764, 'korrekterweise': 7765, 'anne': 7766, 'vlpx': 7767, 'karangtateng': 7768, 'hintereinander': 7769, 'eivorsitz': 7770, 'chiffre': 7771, 'behalten': 7772, '1080p': 7773, 'downsampling': 7774, 'fps': 7775, 'hdr': 7776, 'blinsen': 7777, 'groehlen': 7778, 'aufgestanden': 7779, 'abrissbirne': 7780, 'vorverkauf': 7781, 'zack': 7782, 'ausverkauft': 7783, 'igbce': 7784, 'verdi': 7785, 'polizeigewerkschaften': 7786, 'dgb': 7787, 'trauerspiel': 7788, 'bergleute': 7789, 'braunkohlerevieren': 7790, 'landesregierungen': 7791, 'energieversorger': 7792, 'bergbaugewerkschaft': 7793, 'steinkohlemalochern': 7794, 'tagesticket': 7795, 'zurueckfordern': 7796, '0001f636': 7797, 'ticket': 7798, 'einloggen': 7799, 'apple': 7800, 'unpolitischen': 7801, 'paradebeispiel': 7802, 'speer': 7803, 'mangelnde': 7804, 'bauhau': 7805, 'unseelige': 7806, 'gestalt': 7807, 'totalitaeren': 7808, 'gedient': 7809, 'fsf': 7810, 'kulturstiftung': 7811, 'schwerpunkt': 7812, 'darzustellen': 7813, 'braunkohledemo': 7814, 'beinahe': 7815, 'zimtschnecken': 7816, 'demosanis': 7817, 'brauchten': 7818, 'zustecken': 7819, 'eigensinn83': 7820, 'andrea': 7821, 'erwaermen': 7822, 'manifestie': 7823, 'dresdner': 7824, 'kilometer': 7825, 'positionieren': 7826, 'tschagchen': 7827, 'krampfhaft': 7828, 'beten': 7829, 'weltfrieden': 7830, 'nonsenses': 7831, 'selbstbespassung': 7832, 'herzgegenhetze': 7833, 'mitbekam': 7834, 'neustadt': 7835, 'gegenprotests': 7836, 'knicken': 7837, 'ungestoe': 7838, 'unbeeindruckt': 7839, 'sammle': 7840, 'annahmen': 7841, 'strategen': 7842, 'hoffnungsvollen': 7843, 'anschieben': 7844, 'catch22': 7845, 'gelaenge': 7846, 'kohaerent': 7847, 'aufzustellen': 7848, 'neuaufstellung': 7849, 'durchbekaeme': 7850, 'paket': 7851, '15er': 7852, 'inbusschluessel': 7853, 'raeumdienste': 7854, 'spur': 7855, 'lkws': 7856, 'ueberholen': 7857, 'durchhalten': 7858, 'nachgedacht': 7859, 'tuerkisblau2002': 7860, 'schneemann': 7861, 'vorbeifaeh': 7862, 'karotte': 7863, '0001f608': 7864, 'unverseh': 7865, 'bodenkontakt': 7866, 'schneetreiben': 7867, 'hinlegt': 7868, 'ahnt': 7869, '2005': 7870, 'rechnung': 7871, 'volksverrae': 7872, 'aehh': 7873, 'alsich16war': 7874, '0001f629': 7875, 'bergfest': 7876, 'gendersternchen': 7877, 'sprace': 7878, 'verhunzt': 7879, 'englischen': 7880, 'teacher': 7881, 'student': 7882, 'klick': 7883, 'fave': 7884, 'anrufern': 7885, 'waehlern': 7886, 'schnittmenge': 7887, 'este': 7888, 'dschungelpruefung': 7889, 'kruterhexe1': 7890, 'scyltara': 7891, 'aufwachen': 7892, 'dschungelkoenigin': 7893, 'shootguy': 7894, 'monk': 7895, 'nationalitaet': 7896, 'aussuchen': 7897, 'kontostand': 7898, 'steigenden': 7899, 'strompreis': 7900, 'schonen': 7901, 'katastrophe': 7902, 'fukushima': 7903, 'sicherheitsstandards': 7904, 'windrad': 7905, 'kohlekommission': 7906, 'denkender': 7907, 'kohleausstieg': 7908, 'atomkraftwerke': 7909, 'windraedern': 7910, 'verschandeln': 7911, 'asyltourismus': 7912, 'wahnvorstellungen': 7913, 'anzuenden': 7914, 'aboalarm': 7915, 'kuendigungstatus': 7916, 'duemmste': 7917, '3fachverglast': 7918, 'klugscheisser': 7919, 'rfh': 7920, '2611': 7921, 'dieselfahrverbote': 7922, 'diesel': 7923, 'tierversuche': 7924, 'gruenlinge': 7925, 'deppenmoral': 7926, 'rocken': 7927, 'gutschein': 7928, 'schadenfreiheitsrabatt': 7929, 'ungehinde': 7930, 'fachkraeften': 7931, 'schwarzafrika': 7932, 'suv': 7933, 'schleicht': 7934, 'kleinwagen': 7935, 'polo': 7936, 'kurve': 7937, 'drifte': 7938, 'schneit': 7939, 'mountainbike': 7940, 'abgestiegen': 7941, 'geschoben': 7942, 'eifel': 7943, 'waldweg': 7944, 'eisflaeche': 7945, 'menschenleben': 7946, 'leichtsinn': 7947, 'klapprigen': 7948, 'schlauchboot': 7949, 'uebers': 7950, 'aussetzt': 7951, 'sprichwo': 7952, 'geknallt': 7953, 'legat': 7954, 'dm': 7955, 'bekleidung': 7956, 'durchgegangen': 7957, 'ausso': 7958, 'ebay': 7959, 'kleinanzeigen': 7960, 'reingestellt': 7961, 'festpreis': 7962, 'eingefroren': 7963, 'ueberpropo': 7964, 'ional': 7965, 'arschkalt': 7966, 'waerme': 7967, 'geschaut': 7968, 'aufnahmen': 7969, 'ueberstehe': 7970, 'drucker': 7971, 'willste': 7972, 'ruecksendelabel': 7973, 'ausdrucken': 7974, 'tinte': 7975, 'cyan': 7976, 'way': 7977, 'trinkflasche': 7978, 'eiskaltes': 7979, 'erfrieren': 7980, '0001f64c': 7981, 'yotta': 7982, 'atem': 7983, 'bergauf': 7984, 'steigung': 7985, 'deckmantel': 7986, 'transenv': 7987, 'schwaenzen': 7988, 'saufgelage': 7989, 'mallorca': 7990, 'dorfkneipe': 7991, 'bestes': 7992, 'unpassendesten': 7993, 'momenten': 7994, 'toilettentweet': 7995, 'hetzblatt': 7996, 'neutrale': 7997, 'objektive': 7998, 'unmotivated': 7999, 'mitsingen': 8000, 'urlauben': 8001, 'urlaubso': 8002, 'noerdlichster': 8003, 'suedlichster': 8004, 'westlichster': 8005, 'london': 8006, 'oestlichster': 8007, 'hoechster': 8008, 'eisjoechl': 8009, 'tiefster': 8010, 'tunnel': 8011, 'rumkriegen': 8012, 'alexxinho22': 8013, 'perverses': 8014, '273': 8015, 'spiegelbild': 8016, 'anbruellen': 8017, 'aufbleiben': 8018, 'terminbedingt': 8019, 'kuerzere': 8020, 'wetter': 8021, 'superheld': 8022, 'viby': 8023, 'dinie': 8024, 'wegwerfen': 8025, 'dat': 8026, 'aufgegessen': 8027, 'shadow36399458': 8028, 'hobbyhexe': 8029, 'steinig': 8030, 'uneleganten': 8031, 'abstieg': 8032, 'nachgemacht': 8033, 'gratulieren': 8034, '1111': 8035, 'gaumen': 8036, 'sinnsausen': 8037, 'auffaellt': 8038, 'kuerzel': 8039, 'wodka': 8040, 'cw': 8041, 'zauberhaftes': 8042, 'gif': 8043, 'nichtraucher': 8044, 'bachelor': 8045, 'hoeher': 8046, 'mideg': 8047, 'abkuerzung': 8048, 'nfdap': 8049, 'kopfschuettelnd': 8050, 'vorzuwerfen': 8051, 'bestmoeglich': 8052, 'auszuschlachten': 8053, 'schwerst': 8054, 'verwende': 8055, 'respektlosigkeit': 8056, 'stilistisches': 8057, 'respektiere': 8058, 'sieze': 8059, 'freundschaftlicher': 8060, 'ebene': 8061, 'hopfen': 8062, 'malz': 8063, 'reply': 8064, 'bestaetigst': 8065, 'brutalste': 8066, 'tatwaffe': 8067, 'afdlieder': 8068, 'entspannt': 8069, 'keinvogel': 8070, 'toilettenpapier': 8071, 'hergestellt': 8072, 'straffaellige': 8073, 'rauswerfen': 8074, 'nacheifern': 8075, 'inflationaer': 8076, 'titulieren': 8077, 'gefaehrder': 8078, 'rauszuwerfen': 8079, 'biete': 8080, 'hiermit': 8081, 'schulung': 8082, 'durchgelesen': 8083, 'erreichbar': 8084, 'eingesehen': 8085, 'bockmist': 8086, 'verzapft': 8087, 'thesituation46': 8088, 'verbaut': 8089, 'ausgesetzt': 8090, 'geliebter': 8091, 'knistern': 8092, 'nabe': 8093, 'gesaeube': 8094, 'gefettet': 8095, 'lief': 8096, 'shimano': 8097, 'fh': 8098, 'm8000': 8099, '0001f64f': 8100, 'weint': 8101, 'ribery': 8102, 'steak': 8103, 'blattgold': 8104, 'goennen': 8105, 'abgebogen': 8106, 'versicherungen': 8107, 'springflohback': 8108, 'gueltigkeitsdauer': 8109, 'dreistellige': 8110, 'sicherheitscode': 8111, 'eschleifen': 8112, '260e': 8113, 'snapchat': 8114, 'filter': 8115, 'dir': 8116, 'verwenden': 8117, 'verrechnet': 8118, '365x3': 8119, '48': 8120, 'laundrycats': 8121, 'krafttraining': 8122, 'flug': 8123, '0001f61c': 8124, 'bahnunternehmen': 8125, 'grossbritanien': 8126, 'droelfzig': 8127, 'zubuchen': 8128, 'kalender': 8129, 'aufhaengen': 8130, 'markieren': 8131, 'abwesenheitsplaner': 8132, 'sturmfreies': 8133, 'arbeitstag': 8134, 'jahresrueckblick': 8135, 'swm': 8136, 'selbstbewusstsein': 8137, 'leichten': 8138, 'knicks': 8139, 'schwererem': 8140, 'captains': 8141, 'father': 8142, 'bevoelkerungsgruppen': 8143, 'restalkohol': 8144, 'ausschwitzen': 8145, '0001f388': 8146, '0001f386': 8147, 'waffengesetz': 8148, 'werkzeug': 8149, 'fussgaengerzone': 8150, 'bevorzuge': 8151, 'abgesaegte': 8152, 'schrotflinte': 8153, 'handlich': 8154, 'streuradius': 8155, 'effektiver': 8156, 'schreckschusswaffen': 8157, 'masochistisch': 8158, 'weltkanzlerin': 8159, 'hasserin': 8160, '274c': 8161, 'fuege': 8162, 'folie': 8163, 'gefrierbeutel': 8164, 'gummi': 8165, 'edeka': 8166, 'geiles': 8167, 'rutsch': 8168, 'schueper': 8169, '500km': 8170, 'radtour': 8171, 'aehmmm': 8172, 'jahrgang': 8173, 'nordmannmeer': 8174, 'jugoslawien': 8175, 'trinkgefaess': 8176, 'rumpfeife': 8177, 'gebeten': 8178, 'entspanntes': 8179, 'ungsvolles': 8180, 'dramatisches': 8181, 'ueberblendungen': 8182, 'einblendungen': 8183, 'nicimithut': 8184, 'carpblu': 8185, 'bestimmen': 8186, 'auszugeben': 8187, 'belastungssteuerung': 8188, 'radfahrern': 8189, 'hinscheissen': 8190, 'egoistisch': 8191, 'zuenden': 8192, 'hulyahulyab': 8193, 'verzichtest': 8194, 'jahresurlaub': 8195, 'verkaufe': 8196, 'sonstigen': 8197, 'unnoetigen': 8198, 'jahaaa': 8199, '0001f913': 8200, 'drittletzten': 8201, '2744': 8202, 'vorbeifahren': 8203, 'anzupoebeln': 8204, '363': 8205, 'weihnachtsstress': 8206, 'lukicit': 8207, 'damaligen': 8208, 'einwanderer': 8209, 'totalitaerem': 8210, 'reist': 8211, 'realgucciminh': 8212, 'schlage': 8213, 'punkerin': 8214, 'trug': 8215, 'botschaften': 8216, 'plakativ': 8217, 'schlampen': 8218, 'tattoo': 8219, 'spiessbuergerliche': 8220, 'tinder': 8221, 'solemnly': 8222, 'swear': 8223, 'that': 8224, 'prozent': 8225, 'pfleger': 8226, 'streik': 8227, 'prekaer': 8228, 'beschaeftigten': 8229, 'berufsgruppen': 8230, 'gegeinander': 8231, 'ausspielen': 8232, 'streikrecht': 8233, 'ratlos': 8234, 'prank': 8235, 'genatzt': 8236, 'keinetheorie': 8237, 'journ': 8238, 'faende': 8239, 'danny': 8240, '0001f615': 8241, 'anfahren': 8242, 'blossstellen': 8243, 'diskriminierenden': 8244, 'warrior': 8245, 'liebeskummer': 8246, '15min': 8247, 'kapitalismuskritiker': 8248, 'gesten': 8249, 'beeindruckend': 8250, 'markusparadise': 8251, 'story': 8252, 'gruselig': 8253, 'friend': 8254, 'einso': 8255, 'simpel': 8256, 'sinticalist': 8257, 'komplexerer': 8258, 'sachverhalt': 8259, 'lawtroll': 8260, '0001f634': 8261, 'beizutreten': 8262, 'autoritaer': 8263, 'beschreibt': 8264, 'brueckenschlag': 8265, 'erprobt': 8266, 'geprobt': 8267, 'sticker': 8268, 'versandhandel': 8269, 'annalist': 8270, 'guenstigen': 8271, 'buntfront': 8272, 'gecoppt': 8273, 'ohhhhh': 8274, 'suessboy': 8275, 'freue': 8276, 'vd': 8277, 'zweite': 8278, 'juedische': 8279, 'gewuetet': 8280, 'grim104': 8281, 'schlauen': 8282, 'qualitativ': 8283, 'content': 8284, '0815': 8285, 'rappers': 8286, 'sexist': 8287, 'twitch': 8288, 'streams': 8289, 'life': 8290, 'joekuhherde': 8291, 'schlaf': 8292, 'weinen': 8293, 'sexualisie': 8294, 'widerwo': 8295, 'staerken': 8296, 'diskriminierungserfahrungen': 8297, 'rumheulen': 8298, 'gemein': 8299, 'petersilienplan': 8300, 'side': 8301, 'gepullt': 8302, 'extremistischen': 8303, 'moralrittern': 8304, 'geschwafelt': 8305, 'heulsusen': 8306, 'outcallt': 8307, 'geweint': 8308, 'rumgeheule': 8309, 'schuetzend': 8310, 'bugx': 8311, 'twitterde': 8312, 'moralritter': 8313, 'blauen': 8314, 'haken': 8315, 'sides': 8316, 'bestaetige': 8317, 'faengst': 8318, 'armin66120629': 8319, 'eintreiber': 8320, 'mez': 8321, 'seinundseid': 8322, 'gamerheine69': 8323, 'reinkommen': 8324, 'stranges': 8325, 'gerichtsverfahren': 8326, 'schlaegerei': 8327, 'verwuesten': 8328, 'miteinader': 8329, 'tara': 8330, 'zahn': 8331, 'umweltaktivist': 8332, 'minimalem': 8333, 'sachverstand': 8334, 'maschine': 8335, 'stumpf': 8336, 'ueberraschung': 8337, 'substantiie': 8338, 'dargetan': 8339, 'entsprechende': 8340, 'schwerwiegenden': 8341, 'konkreten': 8342, 'anderenfalls': 8343, 'energieversorgung': 8344, 'bundes': 8345, 'landesweit': 8346, 'gewaehrleistet': 8347, 'verraten': 8348, 'entschaedigung': 8349, 'einzukassieren': 8350, 'ovg': 8351, 'muenster': 8352, 'verfuegt': 8353, 'tatsachen': 8354, 'mobilisierung': 8355, 'unnuetze': 8356, 'erhoben': 8357, 'umkehrschluss': 8358, 'sitzenden': 8359, 'einschlagen': 8360, 'polizist': 8361, 'stueckchen': 8362, 'raubt': 8363, 'widersprueche': 8364, 'stumpfes': 8365, 'stumpfer': 8366, 'schwerwiegender': 8367, 'argumentativ': 8368, 'rande': 8369, 'aufgestellt': 8370, 'gemeinte': 8371, 'klicks': 8372, 'aktivistische': 8373, 'wimpern': 8374, 'zucken': 8375, 'hinausposaunen': 8376, 'aufdecken': 8377, 'grossangelegte': 8378, 'desinformationskampagnen': 8379, 'gemuetlicher': 8380, 'objektivitaets': 8381, 'journalimus': 8382, 'strukturelles': 8383, 'konzernes': 8384, 'kostenlose': 8385, 'lebensgrundlagen': 8386, 'alman': 8387, 'offenba': 8388, 'profitinteresse': 8389, 'nachfolgenden': 8390, 'dienern': 8391, 'bestueckt': 8392, 'kardasiapat': 8393, 'grob': 8394, 'vereinfacht': 8395, 'einstroemen': 8396, 'kulturfremden': 8397, 'terroristisch': 8398, 'ausweisen': 8399, 'andersdenkender': 8400, 'kino': 8401, 'gaststaette': 8402, 'uebermorgen': 8403, 'woelfisches': 8404, 'ungebildetes': 8405, 'kulturloses': 8406, 'gesindel': 8407, 'ellibisathide': 8408, 'unwo': 8409, 'schmierige': 8410, 'fernab': 8411, 'millionenfach': 8412, 'rausposaunt': 8413, 'geschlecht': 8414, 'toilette': 8415, 'hetero': 8416, 'ominoese': 8417, 'kge': 8418, 'baerboek': 8419, 'maennern': 8420, 'messen': 8421, 'leistet': 8422, 'kleinsten': 8423, 'politikhoerigkeit': 8424, 'verlude': 8425, 'zunft': 8426, 'taetersuche': 8427, 'hergezaube': 8428, 'realitaetsnah': 8429, 'migrations': 8430, 'qualifikation': 8431, 'verschone': 8432, 'unausgelastete': 8433, 'neuber': 8434, 'casilein77': 8435, 'rebound541': 8436, 'ranzigeimme': 8437, 'schutzsuchenden': 8438, 'perfide': 8439, 'motivation': 8440, 'schleifernr5': 8441, 'outfit': 8442, 'kleinste': 8443, 'ideenlose': 8444, 'einfaeltigkeit': 8445, 'ueberforderung': 8446, 'karikatur': 8447, 'aussenministers': 8448, 'drpeternagel': 8449, 'gratis': 8450, 'lespen': 8451, 'weltoffene': 8452, 'buntdurchmischte': 8453, 'manipulierende': 8454, 'repraesentanten': 8455, 'parallelen': 8456, 'bekaempften': 8457, 'historischen': 8458, 'shlomosapiens': 8459, 'unbegreiflich': 8460, 'umgibt': 8461, 'trotzend': 8462, 'geschichtsunwissenheit': 8463, 'kompetente': 8464, 'persoenlichkeiten': 8465, 'tumbes': 8466, 'denkfaules': 8467, 'nachplappern': 8468, 'vorgegebenen': 8469, 'uneins': 8470, 'einig': 8471, 'anbiederung': 8472, 'kurzsichtigkeit': 8473, 'unverschaemte': 8474, 'muendige': 8475, 'erziehen': 8476, 'dumpfen': 8477, 'schlaeger': 8478, 'hetzaufrufe': 8479, 'lizenz': 8480, 'zuschlagen': 8481, 'erinnere': 8482, 'schuss': 8483, 'hetzkampagne': 8484, 'abdriftet': 8485, 'entruestung': 8486, 'heiligenschein': 8487, 'scheinheiligen': 8488, 'kleben': 8489, 'gedenktage': 8490, 'gedenkstunden': 8491, 'ermahnungen': 8492, 'wohlfeiler': 8493, 'unechter': 8494, 'schmierig': 8495, 'unecht': 8496, 'aufgearbeitet': 8497, 'lehren': 8498, 'karlen73432305': 8499, 'universal': 8500, 'gemischten': 8501, 'weltrasse': 8502, 'aufgehen': 8503, 'jstaltenberg': 8504, 'renetruninger': 8505, 'nzz': 8506, 'verweige': 8507, 'handschlag': 8508, 'schulinternen': 8509, 'kompromiss': 8510, 'ungeheuere': 8511, 'geschichtsvergessenheit': 8512, 'realitaetsleugnung': 8513, 'bodenlose': 8514, 'eingekeh': 8515, 'wegsehen': 8516, 'schoenreden': 8517, 'untaten': 8518, 'verroht': 8519, 'brutalisie': 8520, '6854afs': 8521, 'traurig': 8522, 'hahnwaldjens': 8523, 'feshistory': 8524, 'waehlerinnen': 8525, 'ausgedrueckt': 8526, 'dfakenews': 8527, 'naturwissenschaftlich': 8528, '1tag': 8529, 'geahndet': 8530, 'kokolores20': 8531, 'muster': 8532, 'kurzes': 8533, 'formales': 8534, 'bedauern': 8535, 'stereotype': 8536, 'drohung': 8537, 'untat': 8538, 'szenerie': 8539, 'identisch': 8540, 'schlagt': 8541, 'bemerken': 8542, 'absurdistan': 8543, 'symbole': 8544, 'verkeh': 8545, 'deutschlandlied': 8546, 'mordaufrufe': 8547, 'fachkraft': 8548, 'pinselpoetin': 8549, 'jahrzehntelang': 8550, 'abitur': 8551, 'hochschul': 8552, 'karrieren': 8553, 'favorisie': 8554, 'verunglimpften': 8555, 'keulen': 8556, 'lawine': 8557, 'lahmlegen': 8558, 'logiker01': 8559, 'sonjafu2007': 8560, 'mails': 8561, 'verunsiche': 8562, 'kritisches': 8563, 'dummschwaetzer': 8564, 'weibchen': 8565, 'gequatschte': 8566, 'matcho': 8567, 'westend': 8568, 'wilde': 8569, 'hunderudel': 8570, 'tierfeinde': 8571, 'menschenfreunde': 8572, 'verlaghochfeld': 8573, 'waehlerstimmen': 8574, 'hundefreunde': 8575, 'gemeinde': 8576, 'dirkmey3101': 8577, 'wunderschoenen': 8578, 'srpasgard': 8579, 'behaupteten': 8580, 'herrenmode': 8581, 'enge': 8582, 'anzueglein': 8583, 'model': 8584, 'pflichtlektuere': 8585, 'pharisaeern': 8586, 'schreier': 8587, 'dumpfes': 8588, 'schreipack': 8589, 'lesehilfe': 8590, 'migrationskinder': 8591, 'hundegeschichten': 8592, 'hundes': 8593, 'leidenschaftliches': 8594, 'anstrengung': 8595, 'mitlaeufern': 8596, 'gelben': 8597, 'tyrannen': 8598, 'alicologne': 8599, 'karikaturisten': 8600, 'vogelfrei': 8601, 'wegbeschreibung': 8602, 'hannoveraner201': 8603, 'mitlaufen': 8604, 'kriegstreibern': 8605, 'staatsgewalt': 8606, 'zurueckgewinnen': 8607, 'selbstachtung': 8608, 'primitiven': 8609, 'akdemir40': 8610, 'ukrainisch': 8611, 'juedischer': 8612, 'klavierlehrer': 8613, 'normalitaet': 8614, 'beleidigten': 8615, 'unzufrieden': 8616, 'kriminalitaet': 8617, 'aufgestockt': 8618, 'daserste': 8619, 'nachrichtensendung': 8620, 'followtoread8': 8621, 'selbstjustiz': 8622, 'axorcreex': 8623, 'jaaaaaa': 8624, 'herrlich': 8625, 'markenklamotten': 8626, 'strassenkindern': 8627, 'tim': 8628, 'roehn': 8629, 'humanitaet': 8630, 'auslebt': 8631, 'mijoste': 8632, 'inkompetenten': 8633, 'plappermaeulchen': 8634, 'muendigen': 8635, 'ngo': 8636, 'schiffe': 8637, 'monatelanger': 8638, 'koerperlichen': 8639, 'andersdenkende': 8640, 'aufhetzt': 8641, 'bange': 8642, 'naivlinge': 8643, 'pruegelt': 8644, 'raegliche': 8645, 'qualitaets': 8646, 'rechtspopulist': 8647, 'eingeschaetzt': 8648, 'tendenzioese': 8649, 'anwuerfe': 8650, 'bochum': 8651, 'schandtat': 8652, 'totgeschwiegen': 8653, 'zweierlei': 8654, 'mass': 8655, 'kade': 8656, 'studiums': 8657, 'naechtelang': 8658, 'billigen': 8659, 'unausgegorenem': 8660, 'peters16649683': 8661, 'idiotisches': 8662, 'abwegige': 8663, 'verqueren': 8664, 'gewaehren': 8665, 'beine': 8666, 'fehlanzeige': 8667, 'ungebildet': 8668, 'weltoffen': 8669, 'abgewandt': 8670, 'pflegt': 8671, 'emmakoechner': 8672, 'silvesterscherz': 8673, 'unsaegliche': 8674, 'beauftragte': 8675, '370': 8676, 'lebenslang': 8677, 'uninteressante': 8678, 'anmassen': 8679, 'tendenz': 8680, 'schalte': 8681, 'abwendung': 8682, 'haltungs': 8683, 'toloko56': 8684, 'markusettenheim': 8685, 'qualitaetsniveau': 8686, 'beschraenkt': 8687, 'endlose': 8688, 'quiz': 8689, 'reallity': 8690, 'knuesel66': 8691, 'tamarawernli': 8692, 'ungefragt': 8693, 'dialog': 8694, 'leisesten': 8695, 'abwenden': 8696, 'weihnachtsmarkt': 8697, 'maerkten': 8698, 'weihnachtlicher': 8699, 'dekoration': 8700, 'buden': 8701, 'woltron2': 8702, 'selbstgerechte': 8703, 'irgendwelchen': 8704, 'angestellten': 8705, 'anprange': 8706, 'hievt': 8707, 'willfaehrige': 8708, 'einflussreiche': 8709, 'annigohome': 8710, 'sensationen': 8711, 'moderie': 8712, 'fussballspiel': 8713, 'widerliches': 8714, 'aergernis': 8715, 'hwieduwilt': 8716, 'luebberding': 8717, 'generalverdacht': 8718, 'pietaetlos': 8719, 'klugheit': 8720, 'klugen': 8721, 'purojunkie': 8722, 'bereicherung': 8723, 'vorgefassten': 8724, 'untergeordnet': 8725, 'nachdenklichkeit': 8726, 'defensive': 8727, 'lautstarke': 8728, 'proletenhafte': 8729, 'primitiver': 8730, 'auswurf': 8731, 'praemie': 8732, 'geistes': 8733, 'bonus': 8734, 'zurueckzutreten': 8735, 'verheerenden': 8736, 'berufsabschluss': 8737, 'lebenserfahrung': 8738, 'affentheater': 8739, 'demokratieverhalten': 8740, 'abgehaengt': 8741, 'zurueckgelassen': 8742, 'petraschnautzer': 8743, 'hsaulich3': 8744, 'lehrerleben': 8745, 'tinahassel': 8746, 'jenseits': 8747, 'aufgeblasen': 8748, 'ressentiments': 8749, 'schueren': 8750, 'boeses': 8751, 'konstellation': 8752, 'nichtbeachtung': 8753, '90jaehrige': 8754, 'greise': 8755, 'rollstuhl': 8756, '73': 8757, 'monstroese': 8758, 'wiederfindet': 8759, 'meinungs': 8760, 'hoheits': 8761, 'verwalter': 8762, 'personenkult': 8763, 'bezeichnend': 8764, 'devote': 8765, 'anen': 8766, 'herrscherin': 8767, 'erfuellt': 8768, 'liches': 8769, 'katastrophales': 8770, 'fluechtlingschaos': 8771, 'unterschrieben': 8772, 'kontroverser': 8773, 'anstrengen': 8774, 'bequemer': 8775, 'stoerer': 8776, 'politfunktionaere': 8777, 'reale': 8778, 'arbeitserfahrung': 8779, 'eichef': 8780, 'praedestinie': 8781, 'eten': 8782, 'olliluksic': 8783, 'koenigin': 8784, 'gehorcht': 8785, 'standingovations': 8786, 'gehorsam': 8787, 'fokus': 8788, 'weibernetzwerk': 8789, 'geruhsam': 8790, 'intellektueller': 8791, 'kontrast': 8792, 'frohlocken': 8793, 'ohrfeigen': 8794, 'befluegelt': 8795, 'intellektuellen': 8796, 'schub': 8797, 'irgendeines': 8798, 'unwichtigen': 8799, 'exponie': 8800, 'reichweite': 8801, 'bilde': 8802, 'neoego22': 8803, 'webde': 8804, 'ursachenforschung': 8805, 'billiges': 8806, 'steinbrueck': 8807, 'wahlplakate': 8808, 'gemalt': 8809, 'tenor': 8810, 'bevormundet': 8811, 'schlaefe': 8812, 'bewirkt': 8813, 'heimatlos': 8814, 'houelle': 8815, 'beweh': 8816, 'vaumue': 8817, 'emrich': 8818, '5933': 8819, 'verwahrloster': 8820, 'munter': 8821, 'sehne': 8822, 'bauchgesteue': 8823, 'moralingefuehlsbeduselten': 8824, 'plapper': 8825, 'verstandesmann': 8826, 'nuechternheit': 8827, 'sachlichkeit': 8828, 'anarchistischen': 8829, 'bands': 8830, 'einseitigen': 8831, 'erledigen': 8832, 'ueberqualifizie': 8833, 'armenischen': 8834, 'liedern': 8835, 'persona': 8836, 'grata': 8837, 'hinteranatolien': 8838, 'verschlafen': 8839, 'inscheerer': 8840, 'kanzlerkandidaten': 8841, 'tyske': 8842, 'unzufriedenheit': 8843, 'populismus': 8844, 'ursachen': 8845, 'morden': 8846, 'kultu': 8847, 'raeger': 8848, 'vergewaltigen': 8849, 'ponys': 8850, 'sammelbecken': 8851, 'dreckigsten': 8852, 'abschaums': 8853, 'plappermaeuler': 8854, 'schulsprecher': 8855, 'enorme': 8856, 'moralduenkelhafte': 8857, 'demonstrationsrecht': 8858, 'denunzie': 8859, 'anachronistischen': 8860, 'golinehatai': 8861, 'dornblueth': 8862, 'michaelothumann': 8863, 'einseitiges': 8864, 'stephanharba': 8865, 'bundestagsdebatte': 8866, 'schmiedet': 8867, 'allianzen': 8868, 'jaeger': 8869, 'wohltat': 8870, 'unsagbaren': 8871, 'neidischen': 8872, 'triefende': 8873, 'harderkuehnel': 8874, 'nachlaeuft': 8875, 'rosi08683946': 8876, 'tabuthema': 8877, 'entwurzelten': 8878, 'kulturlosen': 8879, 'gewalttaetigen': 8880, 'akzeptanz': 8881, 'integrie': 8882, 'gagaberlin': 8883, 'kenntnisreich': 8884, 'institutionen': 8885, 'verdummt': 8886, 'tweetba': 8887, 'vonschwer': 8888, 'philipplicke': 8889, 'kenntnis': 8890, 'qualitaetsmedien': 8891, 'abgewe': 8892, 'kulturlose': 8893, 'kulturgueter': 8894, 'lieder': 8895, 'diskreditieren': 8896, 'negation': 8897, 'kulturbanausen': 8898, 'seeyouinhell11': 8899, 'wesen': 8900, 'genesen': 8901, 'selbstbehaupteten': 8902, 'moral': 8903, 'spaltet': 8904, 'duenkel': 8905, 'geliefe': 8906, 'bemo28': 8907, 'brinkhaus': 8908, 'fairness': 8909, 'minimum': 8910, 'zuzuhoeren': 8911, 'ungezogen': 8912, 'bundestagsabgeordneten': 8913, 'rdiger90523539': 8914, 'beklagt': 8915, 'geschwafel': 8916, 'migrationspakt': 8917, 'illegale': 8918, 'einwanderungspolitik': 8919, 'pakt': 8920, 'fpiatov': 8921, 'erfolgloser': 8922, 'integer': 8923, 'textkraut': 8924, 'kiffen': 8925, 'musizieren': 8926, 'spiessig': 8927, 'skala': 8928, 'holgerewald1': 8929, 'unheimlich': 8930, 'erpressung': 8931, 'schmeisse': 8932, 'gegenbeweise': 8933, 'synonym': 8934, 'menschenjagd': 8935, 'progrom': 8936, 'haeftlings': 8937, 'matratze': 8938, 'angezuendet': 8939, 'gestottere': 8940, 'sprachmelodie': 8941, 'verschandelt': 8942, 'lasse': 8943, 'verbotene': 8944, 'benutze': 8945, 'af': 8946, 'evangelische': 8947, 'sozialarbeiter': 8948, 'dienstleistungsgesellschaft': 8949, 'mutie': 8950, 'spiritualitaet': 8951, 'performa131': 8952, 'tuerkischer': 8953, 'islamlehrer': 8954, 'urkultur': 8955, 'hinter': 8956, 'anatolien': 8957, 'steinzeit': 8958, 'smuellermdb': 8959, 'sachlicher': 8960, 'haribo0203': 8961, 'castro': 8962, 'konsumenten': 8963, 'verdummung': 8964, 'tatkraeftiger': 8965, 'koenigsmacher': 8966, 'gelenkt': 8967, 'unbegruendet': 8968, 'ungebildete': 8969, 'aussicht': 8970, 'besetzen': 8971, 'atom': 8972, 'uboot': 8973, 'flotte': 8974, 'wiederzufinden': 8975, 'schutzbeduerftigen': 8976, 'willkommens': 8977, 'klatschern': 8978, 'versorgen': 8979, 'unbegrenzte': 8980, 'politikerin': 8981, 'herlaeuft': 8982, 'aufmachen': 8983, 'zensieren': 8984, 'osthollandia': 8985, 'gwinkl': 8986, 'versprechen': 8987, 'manoevern': 8988, 'westgrenze': 8989, 'angesehen': 8990, 'tektellin': 8991, 'historiker': 8992, 'klausel': 8993, 'jokel1505': 8994, 'taltgeld': 8995, 'hatz4': 8996, 'umve': 8997, 'eiler': 8998, 'mittelschicht': 8999, 'intellektuelle': 9000, 'innovative': 9001, 'unbequeme': 9002, 'anging': 9003, 'swingtanz': 9004, 'gaborsteinga': 9005, 'rom': 9006, '80iger': 9007, 'bevoelkerungsexplosion': 9008, 'umweltverschmutzung': 9009, 'ungebremsten': 9010, 'wachstums': 9011, 'hauptursachen': 9012, 'zivilisation': 9013, 'bedrohen': 9014, 'erinnerungswe': 9015, 'rueckblick': 9016, 'deredleritter': 9017, 'gemuete': 9018, 'suedost': 9019, 'westfaelischer': 9020, 'trek': 9021, 'knallwuerste': 9022, 'tropenarzt': 9023, 'merry': 9024, 'christmas': 9025, 'aetzenderes': 9026, 'fruehstueck': 9027, 'herbekommen': 9028, 'tittenhefte': 9029, 'daemlichem': 9030, 'napfsuelzen': 9031, 'dms': 9032, 'kauf': 9033, 'puff': 9034, 'werd': 9035, 'furzen': 9036, 'zusieht': 9037, 'penis': 9038, 'scheissmond': 9039, 'fotografieren': 9040, 'these': 9041, 'fahrradhelme': 9042, 'analsex': 9043, 'damenfahrrad': 9044, 'maestet': 9045, 'wurstwasser': 9046, 'fetischisten': 9047, 'gewohnt': 9048, 'malle': 9049, 'pisskoeppe': 9050, 'aufm': 9051, 'keller': 9052, 'geschirrspuelerrette': 9053, 'missverstehen': 9054, 'streichholz': 9055, 'larifariabel': 9056, 'schlachtzeile': 9057, 'landpomeritze': 9058, 'aufwae': 9059, 'tribute2bretzel': 9060, 'besuchte': 9061, 'versuchten': 9062, 'kasten': 9063, 'leerzusaufen': 9064, 'eingeschlafen': 9065, 'reinigungsmittel': 9066, 'mhd': 9067, 'fette': 9068, 'haessliche': 9069, 'halbes': 9070, 'zuendet': 9071, 'knackwurstgesichter': 9072, 'bh': 9073, 'arminrohde': 9074, 'suedostwestfaelischer': 9075, 'aehs': 9076, 'rausgeschnitten': 9077, 'kosenamen': 9078, 'weibliche': 9079, 'tittenglotzungsausbildungsfachassistenzprueferin': 9080, 'kackbratze': 9081, 'verlange': 9082, 'naehern': 9083, 'moechtegernficker': 9084, 'jeeeeeedes': 9085, 'ostern': 9086, 'bruesten': 9087, 'lautstark': 9088, 'huehnerfutter': 9089, 'hinwerfen': 9090, 'quaestor': 9091, 'hamburch': 9092, 'scheisskalt': 9093, 'august': 9094, 'ueblich': 9095, 'angenehmer': 9096, 'klositz': 9097, 'unitymedia': 9098, 'unity': 9099, 'stuhlkreis': 9100, 'irgendeinen': 9101, 'busfahrer': 9102, 'furzt': 9103, 'weihnachtsklopapier': 9104, 'ooooooh': 9105, 'mmmmh': 9106, 'sinnlose': 9107, 'schlabberpussis': 9108, 'suederstrasse': 9109, 'rammtammtamm': 9110, 'guuuuuut': 9111, 'mariiiiaaaaacroooooooon': 9112, 'bockwuerste': 9113, 'dicksten': 9114, 'zwoooo': 9115, 'wiesen': 9116, 'tofu': 9117, 'gehoerig': 9118, 'synapsen': 9119, 'geschissen': 9120, 'durchgenudelten': 9121, 'zweihunde': 9122, 'achtzig': 9123, 'vergaser': 9124, 'single': 9125, 'verrostete': 9126, 'ukrainische': 9127, 'babyklappe': 9128, 'wochentagen': 9129, 'sissis': 9130, 'knien': 9131, 'telefone': 9132, 'erneue': 9133, 'beerdigt': 9134, 'verfickten': 9135, 'wuensch': 9136, 'schluebber': 9137, 'dauereinsatz': 9138, 'bohnensuppe': 9139, 'bea': 9140, 'gesacht': 9141, 'kurzhaarfrisuren': 9142, 'verbraucherinformationsgesetz': 9143, 'praktikant': 9144, 'ios': 9145, 'zusammengeloetet': 9146, 'vollzeit': 9147, 'aushilfs': 9148, 'nassauer': 9149, 'nullsechshunde': 9150, 'fruehschicht': 9151, 'lebende': 9152, 'game': 9153, 'thrones': 9154, 'zeugungsfick': 9155, 'beichtstuhl': 9156, 'plappara': 9157, 'brunoremix': 9158, 'verschissene': 9159, 'auszusetzen': 9160, 'aeaeaeaeaeaeaeaeaeaey': 9161, 'ausschalten': 9162, 'haessliches': 9163, 'headset': 9164, 'langeweile': 9165, 'vegane': 9166, 'binsen': 9167, 'wombatsine': 9168, 'steigense': 9169, 'abgehalfe': 9170, 'gilf': 9171, 'fluesterer': 9172, 'ramm': 9173, 'guuuuuuuuuut': 9174, 'maaariiaaacroooon': 9175, 'stricher': 9176, 'zwooooo': 9177, 'verschimmelter': 9178, 'granatapfel': 9179, 'gebaelk': 9180, 'scheisserchen': 9181, 'mrsaltmann': 9182, 'fetter': 9183, 'leon': 9184, 'mitttelgross': 9185, 'glutenfrei': 9186, 'achtundfuffzig': 9187, 'stationen': 9188, 'beton': 9189, 'donnerschiss': 9190, 'todes': 9191, 'pseudonymphe': 9192, 'tastatur': 9193, 'fruehling': 9194, 'einqua': 9195, 'kackscheiss': 9196, 'verfetteten': 9197, 'gratulie': 9198, 'muettern': 9199, 'stich': 9200, 'debilen': 9201, 'zeugungsunfaelle': 9202, 'jogginghose': 9203, 'ungeduscht': 9204, 'sintaura': 9205, 'bingo': 9206, 'beschissen': 9207, 'durchzaehlen': 9208, 'feier': 9209, 'verdammtem': 9210, 'schier': 9211, 'halbschwester': 9212, 'salonfaehiger': 9213, 'beschissenen': 9214, 'beschisseneres': 9215, 'jetlag': 9216, 'irgendwem': 9217, 'realdonaldtrump': 9218, 'haue': 9219, 'trivago': 9220, 'fotze': 9221, 'samma': 9222, 'ungefickten': 9223, 'adipoesen': 9224, 'ekelhaften': 9225, 'langzeit': 9226, 'selbstbefriediger': 9227, 'bilderbuch': 9228, 'abendessen': 9229, 'hingekotzt': 9230, 'hingeschissen': 9231, 'mikrowellen': 9232, 'sinnloseste': 9233, 'scheissedreck': 9234, 'erfindung': 9235, 'uebergangsjacken': 9236, 'hex2': 9237, 'eklige': 9238, 'leggings': 9239, 'armseligen': 9240, 'zusammenfassen': 9241, 'adventskalender': 9242, 'tuerchen': 9243, 'verhasste': 9244, 'ausfluegler': 9245, 'jahreszeit': 9246, 'weihnachtsbaum': 9247, 'mahnung': 9248, 'zwischenmenschliche': 9249, 'pakete': 9250, 'muelltonnen': 9251, 'haemorriden': 9252, 'schreckens': 9253, 'halbblut': 9254, 'gefangene': 9255, 'darkroom': 9256, 'exil': 9257, 'badener': 9258, 'dickere': 9259, 'phosphatstange': 9260, 'hauptschul': 9261, 'ungeduschten': 9262, 'halbwichser': 9263, 'unentgeltlich': 9264, 'fickbare': 9265, 'kleidungsstils': 9266, 'pennymyss': 9267, 'holznuss': 9268, 'heinz': 9269, 'bridge': 9270, 'lebenseinstellung': 9271, 'ess': 9272, 'kleintittigen': 9273, 'fangse': 9274, 'janz': 9275, 'andrakelly5': 9276, 'hoernse': 9277, 'voeoeoeoeoeoellig': 9278, 'losgeloeoeoeoest': 9279, 'aeaeaeaeaeaeaeaeaerde': 9280, 'fliiiiiiegt': 9281, 'raaaaaumschiff': 9282, 'voeoeoeoellig': 9283, 'schwereloooooohoooooooooooos': 9284, 'sperrbezirk': 9285, 'roooooooosie': 9286, 'kietz': 9287, 'ausgetauscht': 9288, 'lasagne': 9289, 'ionen': 9290, 'verkleinern': 9291, 'bhs': 9292, 'groessen': 9293, 'winken': 9294, 'businesskasper': 9295, 'kackbraunen': 9296, 'anzuegen': 9297, 'hakenkreuz': 9298, 'aermel': 9299, 'abgekratzt': 9300, 'arschglotzine': 9301, 'huehnern': 9302, 'hupen': 9303, 'germanpsycho': 9304, 'egaler': 9305, 'dispo': 9306, 'tomaten': 9307, 'rosinen': 9308, 'beilagen': 9309, 'sitzpissenden': 9310, 'verhu': 9311, 'drecksfotzenkackscheiss': 9312, 'kirchenglocken': 9313, 'verfickter': 9314, 'imaginaerer': 9315, 'tragt': 9316, 'holz': 9317, 'sneakers': 9318, 'polohemden': 9319, 'hochgestelltem': 9320, 'kurzhaarfrisur': 9321, 'fickbar': 9322, 'fisch': 9323, 'allerletztes': 9324, 'latteschluerferetten': 9325, 'jungdynamische': 9326, 'hamburger': 9327, 'hipster': 9328, 'identifizieren': 9329, 'mitnehme': 9330, 'ethischen': 9331, 'eloquenten': 9332, 'fickerchen': 9333, 'mamafariabel': 9334, 'hossa': 9335, 'grabstein': 9336, 'folgende': 9337, '12x': 9338, 'ausrufezeichen': 9339, 'innem': 9340, 'eeeeeeeyes': 9341, 'singt': 9342, 'steggen': 9343, 'raaaaaain': 9344, 'kackern': 9345, 'haften': 9346, 'duenner': 9347, 'katzenbilder': 9348, 'postet': 9349, 'offenetuer': 9350, 'einladung': 9351, 'daemlichen': 9352, 'hohlroller': 9353, 'oez': 9354, 'verkacktes': 9355, 'schnellrestaurant': 9356, 'lahm': 9357, 'dsr3000': 9358, 'idiotische': 9359, 'merkste': 9360, 'schlachttier': 9361, 'ersatzfleisch': 9362, 'bratwuersten': 9363, 'nachbilden': 9364, 'blassbacke': 9365, 'next': 9366, 'schuess': 9367, 'arschlochwelt': 9368, 'rosaelfe': 9369, 'rotze': 9370, 'sehn': 9371, 'besen': 9372, 'pub': 9373, 'fleich': 9374, 'pimmel': 9375, 'harlem': 9376, '85': 9377, 'arschkrampengesichtswurstvollpfostenpissflischidtiotenbinsenwombatfickschnitzel': 9378, 'verlass': 9379, 'penetrations': 9380, 'unfaelle': 9381, 'herkommen': 9382, 'schneeeeeeeeeeeeell': 9383, 'volkerhellein': 9384, 'hochheimer': 9385, 'radiogloe': 9386, 'langweile': 9387, 'anstaendig': 9388, 'twelectra': 9389, 'frost': 9390, 'biggest': 9391, 'snowman': 9392, 'wischt': 9393, 'nasenloecher': 9394, 'augstein': 9395, 'nachholebedarf': 9396, 'fach': 9397, 'aussenminister': 9398, 'clayzcrypto': 9399, 'hal9000bma': 9400, 'mfm': 9401, 'derl': 9402, 'kuere': 9403, 'annernas': 9404, 'malte': 9405, 'oberstuebchen': 9406, 'rumwuehlen': 9407, 'kapie': 9408, 'beratung': 9409, 'fruechte': 9410, 'diepolierer': 9411, 'arwenmagdalena': 9412, 'warnung': 9413, 'krude': 9414, 'vollstrecker': 9415, 'missbrauchte': 9416, 'unterzugehen': 9417, 'nucht': 9418, 'liebt': 9419, 'littlewisehen': 9420, 'traue': 9421, 'jeine': 9422, 'schmerzen': 9423, 'gliedmassen': 9424, 'piep': 9425, 'streichtdentagausdemkalenderundmalteinschwarzeslochandiestelle': 9426, 'sixtus': 9427, 'populist': 9428, 'rechne': 9429, 'klinkha': 9430, 'wiegen': 9431, 'meitli73': 9432, 'gedenkstunde': 9433, 'chefhasser': 9434, 'b4st1n3um4nn': 9435, 'den': 9436, 'hochintelligenten': 9437, 'vorzeigejude': 9438, 'kryptonazis': 9439, 'frakrionssitzung': 9440, 'verbiegen': 9441, 'horrstn': 9442, 'heiderosie': 9443, 'd4nny': 9444, 'ela': 9445, 'mueller': 9446, 'staatsbetrieb': 9447, 'dealer': 9448, 'chemieprodukten': 9449, 'kopftuchverbot': 9450, 'dinkelzuffer': 9451, 'fuettern': 9452, 'gefroren': 9453, 'voegel': 9454, 'sibelschick': 9455, 'unfall': 9456, 'rudolf': 9457, 'wissell': 9458, 'totalsperrung': 9459, 'stau': 9460, 'schnelleres': 9461, 'vz': 9462, '247': 9463, 'autolobbyist': 9464, 'bundesverkehrsminister': 9465, 'krstorevic': 9466, 'nehmt': 9467, 'schmackhafter': 9468, 'mithelfen': 9469, 'siegt': 9470, 'heimt': 9471, 'wecker': 9472, 'leichtes': 9473, 'herzrasen': 9474, 'verspue': 9475, 'sons': 9476, 'verschlaeft': 9477, 'autolobby': 9478, 'sagjazurpflege': 9479, 'schreib': 9480, 'wenns': 9481, 'spektrums': 9482, 'auflage': 9483, 'getrickst': 9484, 'extern': 9485, 'trixen': 9486, 'verleumden': 9487, 'verkorkste': 9488, 'fuehrungsriege': 9489, 'uebriges': 9490, 'buergermeister': 9491, 'mountain': 9492, 'lover': 9493, 'issen': 9494, 'spuckt': 9495, 'gift': 9496, 'galle': 9497, 'medienpreis': 9498, 'bundestages': 9499, 'insifern': 9500, 'grueneclaudi': 9501, 'srensre79820048': 9502, 'volkergoebbels': 9503, 'kulturbolschewi': 9504, 'entlassungsrezept': 9505, 'ausstellen': 9506, 'stefaniewitte': 9507, 'seelsorge': 9508, 'vorstelle': 9509, 'meiner': 9510, 'befolgen': 9511, 'bernardgollas': 9512, 'brauchte': 9513, '1000de': 9514, 'unterschrift': 9515, 'mysterioeses': 9516, 'tanzt': 9517, 'duschen': 9518, 'schreibtisch': 9519, 'landolf': 9520, 'ladig': 9521, 'nocheinmal': 9522, 'aepfeln': 9523, 'friedhosruhe': 9524, 'spdabwaehlen': 9525, 'radioeins': 9526, 'ergreifend': 9527, 'verwendung': 9528, 'begriffs': 9529, 'irrefuehrend': 9530, 'rhbrink': 9531, 'lobreden': 9532, 'entwickelt': 9533, 'gurkenschaeler': 9534, 'genesung': 9535, 'akkordeonistin': 9536, 'weshalb': 9537, 'waehlergunst': 9538, 'abzusacken': 9539, 'letzteres': 9540, 'felixleidecker': 9541, 'spacho360': 9542, 'volksbuehne': 9543, 'unterwerfung': 9544, 'edgar': 9545, 'selge': 9546, 'ergatte': 9547, 'ick': 9548, 'bolle': 9549, 'uff': 9550, 'milchwajen': 9551, 'brat': 9552, 'genuckelt': 9553, 'trixie': 9554, 'thomaswalde': 9555, 'ansatz': 9556, 'draengenden': 9557, 'vorzulegen': 9558, 'absackt': 9559, 'vorsprung': 9560, 'aufholen': 9561, 'rettungsring': 9562, 'ergreifen': 9563, 'herumschwimmenden': 9564, 'plastikmuell': 9565, 'festzuhalten': 9566, 'runterleben': 9567, 'eufelung': 9568, 'stickoxiden': 9569, 'sabbernd': 9570, 'voran': 9571, 'konservativen': 9572, 'streit': 9573, 'inszenie': 9574, 'behilflich': 9575, 'umweltschleudern': 9576, 'annaehernd': 9577, '4500': 9578, 'unterschreiben': 9579, 'bestellten': 9580, 'plaedieren': 9581, 'aufweichung': 9582, 'stickoxide': 9583, 'heizt': 9584, 'dieselgate': 9585, 'oddnina': 9586, 'carpe': 9587, 'diem': 9588, 'zutiefst': 9589, 'undemokratische': 9590, 'schritts': 9591, 'menschenfeindliche': 9592, 'bildflaeche': 9593, 'gegenwa': 9594, 'multitain': 9595, 'vergleichst': 9596, 'ger': 9597, 'michaelagrasser': 9598, 'matthia71701474': 9599, 'andreasandy3131': 9600, 'kv': 9601, 'abi': 9602, 'nazibratze': 9603, 'holocaustleugner': 9604, 'schlafzimmer': 9605, 'ausziehen': 9606, 'schnarchen': 9607, 'begruenden': 9608, 'geheimnissen': 9609, 'differenzierung': 9610, 'nationalismus': 9611, 'jhdt': 9612, 'herauszustreichen': 9613, 'rechtsgegrechts': 9614, 'frauke': 9615, 'beruhigt': 9616, 'abgesiche': 9617, 'siebtes': 9618, 'hinarbeiten': 9619, 'mutterkreuz': 9620, 'dieblauen': 9621, 'pressekonferenzen': 9622, 'hen73317144': 9623, 'vonstorch': 9624, 'abgase': 9625, 'rueckfueh': 9626, 'prostituie': 9627, 'ir': 9628, 'truthfinder811': 9629, 'therapierbar': 9630, 'gauner': 9631, 'beute': 9632, 'bereut': 9633, 'gevoegelt': 9634, 'claudiazettel': 9635, 'creation': 9636, 'motochen': 9637, 'benedetusmc': 9638, 'guckerin': 9639, 'grundmann': 9640, 'aushaengeschild': 9641, 'berufsstand': 9642, 'reaktionaer': 9643, 'bekloppt': 9644, 'erwaehnenswe': 9645, 'veronikaharz': 9646, 'angebliche': 9647, 'aspergerin': 9648, 'ralfpodszus': 9649, 'uwolf67': 9650, 'wac': 9651, 'bimmelzerbott': 9652, 'mundgeruch': 9653, 'fusspilz': 9654, 'apfelkernchen': 9655, 'nachtlos': 9656, 'fluessiger': 9657, 'zucker': 9658, 'kotau': 9659, 'hutbuergern': 9660, 'fdj': 9661, 'schleimspuren': 9662, 'hms': 9663, 'sealord': 9664, 'hro': 9665, 'altermananne': 9666, 'sperma': 9667, 'derherrgott': 9668, 'gerutscht': 9669, 'funkleenergie': 9670, 'symbolbild': 9671, 'heizkissen': 9672, 'unterm': 9673, 'soziarsch': 9674, 'flexyama': 9675, 'obdachlosenhilfe': 9676, 'kaeltehilfe': 9677, 'obendrauf': 9678, 'erstma': 9679, 'renommie': 9680, 'jaehriges': 9681, 'vollzuspammen': 9682, 'kahlen': 9683, 'schaedel': 9684, 'abspielen': 9685, 'glatzkopf': 9686, 'vermocht': 9687, 'seichtes': 9688, 'geblubber': 9689, 'geschwurbel': 9690, 'medikation': 9691, 'kalorien': 9692, 'stressig': 9693, 'umschaue': 9694, 'kranker': 9695, 'vetstand': 9696, 'damuc110': 9697, 'publikum': 9698, 'alina': 9699, 'stiegler': 9700, 'doppelte': 9701, 'kritikwuerdig': 9702, 'raumplanungtv': 9703, 'ehren': 9704, 'zusaetzlichen': 9705, 'waschen': 9706, 'buegeln': 9707, 'rumliegt': 9708, 'eingeschneit': 9709, 'cm': 9710, 'caferizz': 9711, 'erliegen': 9712, 'yleine': 9713, 'schneechaos': 9714, 'kreuzacht': 9715, 'jkcork76': 9716, 'checkyourinfo': 9717, 'katja291266': 9718, '1966skywalker': 9719, 'pogo161': 9720, 'moe': 9721, 'elundkelle': 9722, 'thomasknorra': 9723, 'kinderzaenker1': 9724, 'knordlichtw': 9725, 'schenken': 9726, 'zugang': 9727, 'universitaet': 9728, 'alias': 9729, 'dominik': 9730, 'landolfladig': 9731, 'druecke': 9732, 'niklas': 9733, 'franzen': 9734, 'meisterklaeger': 9735, 'abtreibung': 9736, 'pseudonym': 9737, 'hoellenaufsicht': 9738, 'revht': 9739, 'kopfkinoan': 9740, 'tonne': 9741, 'millimeterhoch': 9742, 'dienste': 9743, 'suvs': 9744, 'dankemerkel': 9745, 'angehenden': 9746, 'juristen': 9747, 'eichstaett': 9748, 'verdorren': 9749, 'nachwuchsjuristen': 9750, 'ilsepupilse': 9751, 'ops1403': 9752, 'kloake': 9753, 'farbige': 9754, 'diffamierend': 9755, 'color': 9756, 'colored': 9757, 'fresseagentur': 9758, 'atheismus': 9759, 'umgerueh': 9760, 'herauskommt': 9761, 'undifferenzie': 9762, 'unternommen': 9763, 'glaeubiger': 9764, 'joernpl': 9765, 'regierungszeit': 9766, 'fehlende': 9767, 'starke': 9768, 'gesellschaftlich': 9769, 'reffen': 9770, 'durchweg': 9771, 'ministerien': 9772, 'linkspopulistisch': 9773, 'schraube': 9774, 'dreht': 9775, 'ritterschlag': 9776, 'kschwanke': 9777, 'begreifbar': 9778, 'tx0h': 9779, 'staffel': 9780, 'einschliesslich': 9781, 'sekretariat': 9782, 'revolutionsvorbereitungen': 9783, 'genaueres': 9784, 'olaf': 9785, 'bundeskanzler': 9786, 'leiche': 9787, 'dsmo': 9788, 'rhonschnegge': 9789, 'zerquetschen': 9790, 'armesdeutschla6': 9791, 'mut73': 9792, 'hoeschen': 9793, 'vorprogrammie': 9794, 'leilak8585': 9795, 'braut': 9796, 'machtgierigen': 9797, 'diktatorin': 9798, 'mfhd': 9799, 'marionetten': 9800, 'kriminal': 9801, 'komprende': 9802, 'droge': 9803, 'debate': 9804, 'schmerzlos': 9805, 'ausgestorben': 9806, 'poppen': 9807, 'nachweisbar': 9808, 'schwanzgesteue': 9809, 'aschmelting': 9810, 'vors': 9811, 'tierschutz': 9812, 'tierquaeler': 9813, 'pamela': 9814, 'systeme': 9815, 'giftig': 9816, 'vaterland': 9817, 'leichen': 9818, 'koste': 9819, 'wolle': 9820, 'dessecerre': 9821, 'olquit': 9822, 'muenzenmaier': 9823, 'verdanken': 9824, 'schrecklich': 9825, 'bete': 9826, 'rache': 9827, 'aehniche': 9828, 'dokumentie': 9829, 'geleitet': 9830, 'trolkragnpulova': 9831, 'entscheide': 9832, 'amigo': 9833, 'pullover': 9834, 'trettwer1': 9835, 'abgrund': 9836, 'aufstehe': 9837, 'rausgehe': 9838, 'regenbogenbruecke': 9839, 'suesser': 9840, 'brennen': 9841, 'lebendig': 9842, 'gekocht': 9843, 'nobby1949z': 9844, 'landkaufhalina': 9845, 'kaninchen': 9846, 'vermehrung': 9847, 'selbstverwirklichung': 9848, 'realisieren': 9849, 'lupe': 9850, 'katja44158378': 9851, 'schwein': 9852, 'kirschenilona': 9853, 'wehrlosen': 9854, 'vergreifen': 9855, 'einsperren': 9856, 'kastrieren': 9857, 'viktorbaranoff': 9858, 'drecksbande': 9859, 'pasemann': 9860, 'vorliegt': 9861, 'erfunden': 9862, 'wueste': 9863, 'hans82129841': 9864, 'jooo': 9865, 'schlauer': 9866, 'reinbringt': 9867, 'wachsen': 9868, 'cuntdestroyed': 9869, 'banane': 9870, 'durchgedreht': 9871, 'trebing': 9872, 'joo': 9873, 'verbrecherin': 9874, 'luegnerin': 9875, 'bastarde': 9876, 'visage': 9877, 'deutschlandrep1': 9878, 'bananenrepublik': 9879, 'helmutnater': 9880, 'getraeumt': 9881, 'dreckspisser': 9882, 'kompost': 9883, 'drehe': 9884, 'scherze': 9885, 'fenster': 9886, 'rausgehauen': 9887, 'manieren': 9888, 'mitbringen': 9889, 'sventaug': 9890, 'treffe': 9891, 'theophanu74': 9892, 'unheil': 9893, 'tommyblfd': 9894, 'ursulaneumann16': 9895, 'skoubidou3': 9896, 'bbeherit': 9897, 'updayde': 9898, 'blaggen': 9899, 'brut': 9900, 'vonzainach': 9901, 'dankeschoen': 9902, 'kayrytter': 9903, 'geschlossene': 9904, 'panne': 9905, 'puffyka81': 9906, 'koenigsblauer41': 9907, 'sprachen': 9908, 'geschaeftspa': 9909, 'achten': 9910, 'zrozumiales': 9911, 'teraz': 9912, 'ty': 9913, 'panimaju': 9914, 'thomasecke': 9915, 'anklagen': 9916, 'volkverraeterin': 9917, 'korrektus': 9918, 'rocky0668': 9919, 'berechtigung': 9920, 'pinkcrazypony': 9921, 'saecke': 9922, 'gesetzgebung': 9923, 'kasperle': 9924, 'unfaehige': 9925, 'grossmaulfroesche': 9926, 'therealaw2': 9927, 'angesagt': 9928, 'ar': 9929, 'katastrophen': 9930, 'woitkebernd': 9931, 'yaglob': 9932, 'lachkrampf': 9933, 'kai': 9934, 'ausgetrocknet': 9935, '1988': 9936, 'glaeubig': 9937, 'larstrep': 9938, 'hetzbeweis': 9939, 'fahre': 9940, 'islamisches': 9941, 'ueberholt': 9942, 'staerksten': 9943, 'auftreten': 9944, 'esse': 9945, 'durchlesen': 9946, 'erweist': 9947, 'teures': 9948, 'problemkind': 9949, 'lesson': 9950, 'learn': 9951, 'einbaukueche': 9952, 'vormieter': 9953, 'zusammengebaut': 9954, 'geraete': 9955, 'nachreden': 9956, 'fieber': 9957, 'nervoes': 9958, 'hoeflich': 9959, 'ausgedrueckten': 9960, 'negativen': 9961, 'ceranfeld': 9962, 'nachmieterin': 9963, 'einzieht': 9964, 'bisserl': 9965, 'fraubruellen': 9966, 'gespraechspa': 9967, 'nerin': 9968, 'second': 9969, 'beziehen': 9970, 'intention': 9971, 'nerv': 9972, '65': 9973, 'meds': 9974, 'fachwissen': 9975, 'spazieren': 9976, 'albtraum': 9977, 'verlaengerungsgarantien': 9978, 'gywermelanie': 9979, 'pharmaindustrie': 9980, 'schaftsunternehmen': 9981, 'behauptungen': 9982, 'geduldsfaden': 9983, 'caroluskaterus': 9984, 'md': 9985, 'grand': 9986, 'eschleife': 9987, 'eyjala': 9988, 'source': 9989, 'reduzie': 9990, 'laienhaft': 9991, 'erfolglos': 9992, 'merkwuerdigen': 9993, 'anschlusskabel': 9994, 'pharmaunternehmen': 9995, 'forschung': 9996, 'vermutung': 9997, 'sicherungen': 9998, 'seltene': 9999, 'investie': 10000, 'einkommen': 10001, 'heilung': 10002, 'praevention': 10003, 'widerspreche': 10004, 'vermutungen': 10005, 'heilmittel': 10006, 'nullleiter': 10007, 'ahhhhhhhh': 10008, 'nervoeser': 10009, 'gruendliche': 10010, 'durchgefueh': 10011, 'einreichung': 10012, 'zulassungsantrag': 10013, '220': 10014, 'wirkstoff': 10015, 'spekulation': 10016, 'patentpraxis': 10017, 'laufzeit': 10018, 'blickfang': 10019, 'wunderschoen': 10020, 'simplifizie': 10021, 'heilungsrate': 10022, 'nebenwirkungen': 10023, 'regulatorisch': 10024, 'geregelt': 10025, 'zolle': 10026, 'technikern': 10027, 'handwerkern': 10028, 'unersetzlich': 10029, 'klebt': 10030, 'abzocke': 10031, 'naturheilkunde': 10032, 'chemie': 10033, 'pharmabranche': 10034, 'ceranfeldlieferung': 10035, 'biddoe': 10036, 'lob': 10037, 'getraut': 10038, 'kla': 10039, 'ext': 10040, 'titelmelodie': 10041, 'maus': 10042, 'schnipsel': 10043, 'werwillslesen': 10044, 'ravioli': 10045, 'daheim': 10046, 'wachstum': 10047, 'make': 10048, 'or': 10049, 'break': 10050, 'ausmachen': 10051, 'abo': 10052, 'home': 10053, 'office': 10054, 'kollege': 10055, 'rausgeholt': 10056, 'doofen': 10057, 'widme': 10058, 'stressfreien': 10059, 'braten': 10060, 'schliebe': 10061, 'offelsalat': 10062, 'schleiche': 10063, 'gaenge': 10064, 'abstauben': 10065, 'pausenbrot': 10066, 'mitgebracht': 10067, 'kochst': 10068, 'knoedel': 10069, 'nudeln': 10070, 'chaotischer': 10071, 'teamwork': 10072, 'ueberbewe': 10073, 'tuerknall': 10074, 'stadteilladen': 10075, 'markttreff': 10076, 'verpackungsfreien': 10077, 'trockenwaren': 10078, 'region': 10079, 'mer': 10080, 'zeitig': 10081, 'dschobb': 10082, 'schaffe': 10083, 'juten': 10084, 'morjen': 10085, 'gerstaecker': 10086, 'kollegin': 10087, 'skyr': 10088, 'probieren': 10089, 'besonderes': 10090, 'mittagspausenkommentar': 10091, 'hooked': 10092, 'treuer': 10093, 'dire': 10094, 'straits': 10095, 'resultate': 10096, 'eventuell': 10097, 'blumenkohl': 10098, 'stampf': 10099, 'burp': 10100, 'beginne': 10101, 'ausflug': 10102, 'genre': 10103, 'starbuckgen': 10104, 'baltimores': 10105, 'einlegen': 10106, 'romanen': 10107, 'erfolgreiche': 10108, 'alleinstehende': 10109, 'abendbrot': 10110, 'omelette': 10111, 'glas': 10112, 'chardonnay': 10113, 'ruehrei': 10114, 'baked': 10115, 'beans': 10116, 'ecokidsgermany': 10117, 'weebly': 10118, 'leckerer': 10119, 'schwippschwager': 10120, 'freitagabend': 10121, 'marcusjohanus': 10122, 'anna': 10123, 'thane': 10124, 'lisatorberg': 10125, 'evafarohi': 10126, 'axelhollmann': 10127, 'sax': 10128, 'andreas': 10129, 'liestwilli': 10130, 'katinkameves': 10131, 'casas2718': 10132, 'corinne': 10133, 'wunderschoenes': 10134, 'florida': 10135, 'eingeimpft': 10136, 'juergens': 10137, 'brett': 10138, 'schiefe': 10139, 'blicke': 10140, 'schlager': 10141, 'linien': 10142, 'bausstellen': 10143, 'lieblingslied': 10144, 'dankoe': 10145, 'kaeffchenpause': 10146, 'thyrelli': 10147, 'geklae': 10148, 'uebergangsfrist': 10149, 'variations': 10150, 'mhra': 10151, 'arzneimittelproduktinfos': 10152, 'zugelassen': 10153, 'zulassung': 10154, 'produktinfos': 10155, 'klauen': 10156, 'kopie': 10157, 'hundemuede': 10158, 'friteuse': 10159, 'aufgewachsen': 10160, 'giere': 10161, 'pommes': 10162, 'fritie': 10163, 'dingen': 10164, 'heissluftfriteusen': 10165, 'schliesse': 10166, 'sonnenstrahl': 10167, 'nieselregen': 10168, 'wundervolle': 10169, 'pose': 10170, 'urlaubsanspruch': 10171, 'verfiel': 10172, 'ion': 10173, 'katzenliebe': 10174, 'doofer': 10175, 'passte': 10176, 'kilometern': 10177, 'baden': 10178, 'nischt': 10179, 'wirklisch': 10180, 'tweeps': 10181, 'grinsen': 10182, 'wetterbericht': 10183, 'lesefutter': 10184, 'mittagspause': 10185, 'mimimal': 10186, 'adjektiv': 10187, 'minimaler': 10188, 'meinerseits': 10189, 'eingezogen': 10190, 'hardcover': 10191, 'fantasywelt': 10192, 'locken': 10193, 'magie': 10194, 'fae': 10195, 'zig': 10196, 'karllagerfeld': 10197, 'fckcapitalism': 10198, 'oomenberlin': 10199, 'protip': 10200, 'rasierschaum': 10201, 'ausrichten': 10202, 'chenazihunter': 10203, 'diskriminieren': 10204, 'einbringen': 10205, 'klassischen': 10206, 'tiefst': 10207, 'grenzt': 10208, 'farbbeutel': 10209, 'wbgkhr': 10210, 'rechtspopulismus': 10211, 'dammtor': 10212, 'handarbeit': 10213, 'nonazishh': 10214, 'hh0711': 10215, 'janine': 10216, 'wissler': 10217, 'extra3': 10218, 'antritt': 10219, 'spende': 10220, 'exitdeutschland': 10221, 'maassenistweg': 10222, 'podcatcher': 10223, 'aktualisie': 10224, 'minkorrekt': 10225, 'pritlovevsminkorrekt': 10226, 'verfassungsschutzchef': 10227, 'nicosemsrott': 10228, 'blinde': 10229, 'groesserer': 10230, 'wucht': 10231, 'dienstbar': 10232, 'alternatives': 10233, 'monopolen': 10234, 'angebote': 10235, 'mais': 10236, 'nsafd': 10237, 'sympatisanten': 10238, 'omasgegenrechts': 10239, 'oberaffengeil': 10240, 'maassendeal': 10241, 'kruger': 10242, 'elke': 10243, 'keinvergessen': 10244, 'andyger': 10245, 'druck': 10246, 'beschuetzen': 10247, 'belohnen': 10248, 'offensichtliches': 10249, 'fragdenminister': 10250, 'tigerelch': 10251, 'machterhalt': 10252, 'schuettelt': 10253, 'maasen': 10254, 'befoerderung': 10255, 'oberstklein': 10256, 'tschuldigung': 10257, 'generalklein': 10258, 'unrechtsstaat': 10259, 'bundeswehrabschaffen': 10260, 'september7777': 10261, 'bengel': 10262, 'ldeniz': 10263, 'fabianmcmxcii': 10264, 'aoc': 10265, 'matthiasmeisner': 10266, 'meisner': 10267, 'gcm': 10268, 'siggiweise': 10269, 'binding': 10270, 'dieses': 10271, 'daimler': 10272, 'cv': 10273, 'bekiffte': 10274, 'wohatder': 10275, 'thor200375': 10276, 'schuleschwaenzenden': 10277, 'unreifen': 10278, 'unwissenden': 10279, 'bloedsinnigst': 10280, 'ideologisie': 10281, 'bejubelei': 10282, 'peinlichen': 10283, 'sauerstoff': 10284, 'hieronymuseisen': 10285, 'gruener': 10286, 'milchbubi': 10287, 'kiff': 10288, 'spatzenhirn': 10289, 'islamismmap': 10290, 'elisa': 10291, 'wein': 10292, 'irgendwan': 10293, 'atomreisfleisch': 10294, 'schulzi': 10295, 'schlaffen': 10296, 'gezeugt': 10297, 'unerhoe': 10298, 'verbitte': 10299, 'plau': 10300, 'reha': 10301, 'katzen': 10302, 'klinik': 10303, 'bescheid': 10304, 'versorgungsamt': 10305, 'mistschweine': 10306, 'marcuspretzell': 10307, 'toechter': 10308, 'luschen': 10309, 'ersatz': 10310, 'acunts': 10311, 'soehne': 10312, 'minusmenschen': 10313, 'theborisbecker': 10314, 'besenkammer': 10315, 'bonnyundrambo': 10316, 'mein': 10317, 'mitgefuehl': 10318, 'topen': 10319, 'vaterlandsverraeter': 10320, 'zeitnah': 10321, 'imageberatungen': 10322, 'bischen': 10323, 'gekifft': 10324, 'vollkriegt': 10325, 'bendodo7': 10326, 'looser': 10327, 'eindosen': 10328, '81psycho81': 10329, 'taufen': 10330, 'tinod78': 10331, 'albe': 10332, 'michl': 10333, 'schnallt': 10334, 'hohlen': 10335, 'ruebe': 10336, 'alkoholfrei': 10337, 'annabayern': 10338, 'abzusehen': 10339, 'schulabschluss': 10340, 'aroehrig23': 10341, 'taykra': 10342, 'drecklochland': 10343, 'schief': 10344, 'bomebenanschlag': 10345, 'schneidercar': 10346, 'fettarsch': 10347, 'schwesig': 10348, 'wilma44218613': 10349, 'pussi': 10350, 'hansalbers100': 10351, 'altmeier': 10352, 'kiffende': 10353, 'duest': 10354, 'beachtet': 10355, 'merkeln': 10356, 'agronym': 10357, 'catwolf': 10358, 'ditfuth': 10359, 'ditfut': 10360, 'zahnarzthelferin': 10361, 'neumuenster': 10362, 'karina': 10363, '0001f1ea': 10364, '0001f1ee': 10365, '0001f1f1': 10366, '0001f1e8': 10367, '0001f1ed': 10368, 'muslimische': 10369, 'besetzt': 10370, 'abmurksen': 10371, 'allerletzte': 10372, 'toehle': 10373, 'irmgardboysen2f': 10374, 'paulinamagdale': 10375, 'einmotten': 10376, 'wette': 10377, 'heiko': 10378, 'maxotte': 10379, 'says': 10380, 'pillen': 10381, 'bundespressekonferenz': 10382, 'ueberforde': 10383, 'patzig': 10384, 'juengst': 10385, 'bosbach': 10386, 'vorzeigesyrer': 10387, 'aras': 10388, 'bacho': 10389, 'sexualstraftaeter': 10390, 'sooooo': 10391, 'arbeiterpa': 10392, 'wirkl': 10393, 'berufsausbild': 10394, 'schwulenclubs': 10395, 'bestens': 10396, 'fprudow': 10397, 'kluge': 10398, 'thilo': 10399, 'rausschmeissen': 10400, 'spaetpube': 10401, 'ierende': 10402, 'streben': 10403, 'abendrot': 10404, 'gutmenschbrille': 10405, 'schenkelklopfer': 10406, 'karlchen': 10407, 'schwachkoepfe': 10408, 'eiensterben': 10409, 'schoensten': 10410, 'nachweisslich': 10411, 'pdausend': 10412, 'marcbrost': 10413, 'einstellig': 10414, 'wahlumfragen': 10415, 'malsackwinkeman': 10416, 'wismar': 10417, 'udolindenberg': 10418, 'angepasster': 10419, 'schweiger': 10420, 'hakantasberlin': 10421, 'durst': 10422, 'terrorisie': 10423, 'demutsch': 10424, 'goenne': 10425, 'dildo': 10426, 'annmariaberger': 10427, 'avast': 10428, 'deine': 10429, '5oo': 10430, 'rolex': 10431, 'palestina': 10432, 'eingedost': 10433, 'loesche': 10434, 'allharald': 10435, 'abgehafte': 10436, 'hajona10': 10437, 'branko0805': 10438, 'rosette': 10439, 'versilbern': 10440, 'stephandetjen': 10441, 'organisation': 10442, 'axelkirk1': 10443, 'poroshenko': 10444, 'pornoshenko': 10445, 'tribunal': 10446, 'miese': 10447, 'merkelsekte': 10448, 'friedrichmerz': 10449, 'medwedjew': 10450, 'pudel': 10451, 'installie': 10452, 'demuetigung': 10453, 'friedrich': 10454, 'hinweg': 10455, 'lude69a': 10456, 'sprach': 10457, 'kk': 10458, 'unlat': 10459, 'vermaechtnis': 10460, 'diktum': 10461, 'zwanggebuehren': 10462, 'perve': 10463, 'gesinnungsjournalisten': 10464, 'ismailtipi': 10465, 'with': 10466, 'bang': 10467, 'begehren': 10468, 'grossstaedte': 10469, 'uellen': 10470, 'ebenen': 10471, 'weltnetzes': 10472, 'wurscht': 10473, 'adivonpoes': 10474, 'genuss': 10475, 'chueblue': 10476, 'befriedigen': 10477, 'erschiess': 10478, 'bekommst': 10479, 'speckbomber': 10480, 'heuteshow': 10481, 'dutzen': 10482, 'einzelfallinfos': 10483, 'festerflausch': 10484, 'neomagazin': 10485, 'ekelhafte': 10486, 'balken': 10487, 'biegen': 10488, 'kenianer': 10489, 'deutschem': 10490, 'fluechtlingsheim': 10491, 'staedtische': 10492, 'unterkunft': 10493, 'thomasruettgers': 10494, 'ruettgers': 10495, 'fums': 10496, 'calmund': 10497, 'rolfheinemann1': 10498, 'tasche': 10499, 'duenn': 10500, 'gramm': 10501, 'saeed6ali': 10502, 'ausgestattete': 10503, 'knaeste': 10504, 'humanes': 10505, 'vorbildliche': 10506, 'wae': 10507, 'latenightberlin': 10508, 'flodavidfitz': 10509, 'blaehungen': 10510, 'ehrensohn': 10511, 'leuchte': 10512, 'erstaunt': 10513, 'markusuli': 10514, 'speichellecker': 10515, 'witzbold': 10516, 'womens': 10517, 'radikaler': 10518, 'soft': 10519, 'spoken': 10520, 'girls': 10521, 'gleichzieht': 10522, 'laufenden': 10523, 'abgeschossen': 10524, 'ytubers': 10525, 'feministin': 10526, 'mika': 10527, 'major': 10528, 'tom': 10529, 'pfft': 10530, 'karlchen0815': 10531, 'linksgruenen': 10532, 'angerichtet': 10533, 'usurpieren': 10534, 'landstrich': 10535, 'infighting': 10536, 'electre': 10537, 'legendaeren': 10538, 'aelteren': 10539, 'speckgue': 10540, 'julia': 10541, 'zehs': 10542, 'widerstaendler': 10543, 'enklaven': 10544, 'gewisse': 10545, 'ostler': 10546, 'mitgeholfen': 10547, 'geschossen': 10548, 'oerr': 10549, 'gremien': 10550, 'kahane': 10551, 'amadeu': 10552, 'antonio': 10553, 'transen': 10554, 'schwulen': 10555, 'lesben': 10556, 'gay': 10557, 'zuegeln': 10558, 'dupie': 10559, 'ueberdeckt': 10560, 'aufloesen': 10561, 'beschleunigt': 10562, 'genozidieren': 10563, 'schrottet': 10564, 'rg': 10565, 'nachgeben': 10566, 'juengeren': 10567, 'perfiden': 10568, 'cult': 10569, 'doppeldenk': 10570, 'neusprech': 10571, 'blitzschnell': 10572, 'funktionaeren': 10573, 'neo': 10574, 'sedlern': 10575, 'merkelianern': 10576, 'irrst': 10577, 'fankurve': 10578, 'blockst': 10579, 'missverstehst': 10580, 'fiesematenten': 10581, 'beinha': 10582, 'eingeblendet': 10583, 'linksfaschistisch': 10584, 'original': 10585, 'sin': 10586, 'sippenhaft': 10587, 'starker': 10588, 'staendigen': 10589, 'ueberhoehten': 10590, 'buerger18': 10591, 'supremacism': 10592, 'usual': 10593, 'angegeben': 10594, 'dekadente': 10595, 'stillschweigend': 10596, 'gegnerschaft': 10597, 'hinreichendem': 10598, 'zweckdienlich': 10599, 'niedergemacht': 10600, 'chopping': 10601, 'zzt': 10602, 'babytoeten': 10603, 'cultureofdeath': 10604, 'era': 10605, 'error': 10606, 'svenhoehn81': 10607, 'sinnfrei': 10608, 'religiote': 10609, 'stuss': 10610, 'weisser': 10611, 'westlicher': 10612, 'raut': 10613, 'weggehen': 10614, 'seele': 10615, 'einbrennen': 10616, 'illoyalen': 10617, 'vergewaltigungsmaterial': 10618, 'odinsjunge': 10619, 'teutoburk': 10620, 'unehrlicher': 10621, 'bigotterie': 10622, 'charaktere': 10623, 'hereingelassenen': 10624, 'massenmoerderinnen': 10625, 'widerlichst': 10626, 'vaeter': 10627, 'reibend': 10628, 'verlogener': 10629, 'genozidie': 10630, 'haesslichst': 10631, 'illoyal': 10632, 'verheuchelt': 10633, 'beziehung': 10634, 'verraeterinnen': 10635, 'ladies': 10636, 'patriotinnen': 10637, 'bahnhofskiosken': 10638, 'quillt': 10639, 'dekadenzdreck': 10640, 'massivst': 10641, 'abstossend': 10642, 'strassergregor': 10643, 'falklandfuchs': 10644, 'style': 10645, 'untergehen': 10646, 'bolschwistisch': 10647, 'heuchelnden': 10648, 'rotzhuren': 10649, 'endliche': 10650, 'lebenszeit': 10651, 'schuetzende': 10652, 'heuchelnder': 10653, 'massenhafte': 10654, 'indigener': 10655, 'europaeer': 10656, 'entmenschlichenden': 10657, 'losstellung': 10658, 'entsprechender': 10659, 'auslieferung': 10660, 'gerechtem': 10661, 'verursachen': 10662, 'ereilenden': 10663, 'abgestraft': 10664, 'gerechte': 10665, 'zufuehrung': 10666, 'abtoetens': 10667, 'jugendlicher': 10668, 'gleise': 10669, 'schubsen': 10670, 'scheinfluechtlinge': 10671, 'entrechtung': 10672, 'gleichem': 10673, 'kulturmarxistischen': 10674, 'moralglasperlenspiel': 10675, 'strunzbloed': 10676, 'herein': 10677, 'eysvog3l': 10678, 'schindlers': 10679, 'pure': 10680, 'fiktion': 10681, 'verhetzungsfilm': 10682, 'globohomo': 10683, 'volkspruegler': 10684, 'svs1946': 10685, 'trotzkistisches': 10686, 'pressen': 10687, 'angelikatappe': 10688, 'supreme': 10689, 'cou': 10690, 'zweifelhaften': 10691, 'auffassungen': 10692, 'boeswilliger': 10693, 'hirnschiss': 10694, 'gutglaeubig': 10695, 'naive': 10696, 'anpassung': 10697, 'ethnie': 10698, 'forstlmaria': 10699, 'emittieren': 10700, 'baerendienste': 10701, 'zieh': 10702, 'leine': 10703, 'lehrmeisternd': 10704, 'fingerzeigen': 10705, 'benennen': 10706, 'schadend': 10707, 'drueckend': 10708, 'ausstehen': 10709, 'verwirren': 10710, 'derailen': 10711, 'spurengas': 10712, 'gering': 10713, 'treibhauseffekt': 10714, 'fraglich': 10715, 'physikalisch': 10716, 'hoechstgradig': 10717, 'unserioesen': 10718, 'klimamodellen': 10719, 'unbeholfen': 10720, 'verwirrende': 10721, 'geotektonische': 10722, 'vulkanische': 10723, 'aktivitaet': 10724, 'waermezentren': 10725, 'riesigen': 10726, 'energetischen': 10727, 'schwankungen': 10728, 'waermeabstrahlung': 10729, 'nordkappe': 10730, 'abschmelzen': 10731, 'bestaendigen': 10732, 'abkuehlungsprozess': 10733, 'ondolie': 10734, 'erdmantel': 10735, 'konvektionstroeme': 10736, 'erdmagnetfeld': 10737, 'magn': 10738, 'nordpol': 10739, 'stromaenderungen': 10740, 'hinweist': 10741, 'scher': 10742, 'trickster': 10743, 'universum': 10744, 'prallt': 10745, 'tricksterei': 10746, 'aufsaessiger': 10747, 'verscheixxereien': 10748, 'herausreden': 10749, 'taschenspiele': 10750, 'rick': 10751, 'fuehlst': 10752, 'hochgradig': 10753, 'aetzend': 10754, 'aergerlich': 10755, 'faselst': 10756, 'krusen': 10757, 'funzt': 10758, 'zaudernde': 10759, 'zaunsitzer': 10760, 'planieren': 10761, 'checkst': 10762, 'hindernis': 10763, 'reihen': 10764, 'vorn': 10765, 'erschossen': 10766, 'angefeindet': 10767, 'autist': 10768, 'kenntnisse': 10769, 'baeren': 10770, 'aufbinden': 10771, 'kalkuel': 10772, 'sektierer': 10773, 'ziehenden': 10774, 'endlos': 10775, 'gravy': 10776, 'train': 10777, 'mengenverhaeltnisse': 10778, 'bolshevikenluege': 10779, 'rome': 10780, 'zuendete': 10781, 'exproriation': 10782, 'ikarusflug': 10783, 'erdklima': 10784, 'redest': 10785, 'planierst': 10786, 'ersichtliche': 10787, 'niedermangeln': 10788, 'logik': 10789, 'niedergemangelt': 10790, 'wahrscheinlichkeit': 10791, 'zaunsitzen': 10792, 'allmaehlich': 10793, 'antisemitin': 10794, 'derailing': 10795, 'ausgesuchten': 10796, 'kulaken': 10797, 'verbotsquote': 10798, 'vorsorgeprinzip': 10799, 'willkuerlich': 10800, 'schmutzigen': 10801, 'erstunken': 10802, 'erlogen': 10803, 'halskrause': 10804, 'fuerchterlich': 10805, 'fahrverbote': 10806, 'erdulden': 10807, 'messungen': 10808, 'anzieher': 10809, 'hebeln': 10810, 'platitueden': 10811, 'rhetorischen': 10812, 'extremer': 10813, 'redeschwall': 10814, 'sachliches': 10815, 'beschmierung': 10816, 'defamation': 10817, 'funktionaers': 10818, 'gruenes': 10819, 'luegengeschnatter': 10820, 'pochen': 10821, 'korrumpie': 10822, 'betruegerischen': 10823, 'ueberrumpelungen': 10824, 'punkten': 10825, 'aufrechter': 10826, 'rgs': 10827, 'gebogen': 10828, 'verbaende': 10829, 'schuetteln': 10830, 'mauscheln': 10831, 'betruegen': 10832, 'ueberrumpeln': 10833, 'fernzuhalten': 10834, 'einschlaegig': 10835, 'recherchieren': 10836, 'boesewichte': 10837, 'gutem': 10838, 'anspruchs': 10839, 'abpressrechten': 10840, 'propagandisie': 10841, 'brutales': 10842, 'ethnic': 10843, 'cleansing': 10844, 'insb': 10845, 'proxies': 10846, 'hergang': 10847, 'balkankrieges': 10848, 'gedenkwuerdig': 10849, 'pharisaeischen': 10850, 'politratten': 10851, 'masturbieren': 10852, 'bloedindoktrinie': 10853, 'verratenden': 10854, 'gepluende': 10855, 'fsa': 10856, 'terrormilizen': 10857, 'nahestehenden': 10858, 'aufschlagen': 10859, 'abziehen': 10860, 'terrorisieren': 10861, 'terrormiliz': 10862, 'vorwiegend': 10863, 'erdo': 10864, 'empfinden': 10865, 'intentionen': 10866, 'huldigst': 10867, 'kraeften': 10868, 'angelegt': 10869, 'solschenizyn': 10870, 'maedel': 10871, 'durchschaut': 10872, 'europaererin': 10873, 'schwarzewitwebs': 10874, 'taharush': 10875, 'kriegerische': 10876, 'assimilieren': 10877, 'ceuta': 10878, 'zaeune': 10879, 'steigen': 10880, 'durchtrainie': 10881, 'krieger': 10882, 'saarland': 10883, 'brutstaette': 10884, 'bevorzugt': 10885, 'kamen': 10886, 'kolonien': 10887, 'imperiales': 10888, 'negierenden': 10889, 'imperialen': 10890, 'zeitgenoessisch': 10891, 'gelaeufig': 10892, 'veraltet': 10893, 'zugvogel': 10894, 'ursprungs': 10895, 'posier': 10896, 'session': 10897, 'heftig': 10898, 'heikolein': 10899, 'rumspringen': 10900, 'separat': 10901, 'bestrahlt': 10902, 'kongresszentrum': 10903, 'schwan': 10904, 'denver': 10905, 'eigena': 10906, 'glob': 10907, 'fresko': 10908, 'luciferian': 10909, 'thesen': 10910, 'guillaume': 10911, 'faye': 10912, 'petra58249513': 10913, 'freezye2': 10914, 'hoffnungslos': 10915, 'bruhaha': 10916, 'ki': 10917, 'tummeln': 10918, 'schmarotzer': 10919, 'eiterbeule': 10920, 'driftet': 10921, 'gen': 10922, 'chinesisches': 10923, 'mayday18568706': 10924, 'agiteur': 10925, 'establishments': 10926, 'ausgesuchte': 10927, 'kulaks': 10928, 'bezmenov': 10929, 'nuetzliche': 10930, 'unfassbare': 10931, 'daemlichkeit': 10932, 'gepaa': 10933, 'verschlagenheit': 10934, 'sirgaheris01': 10935, 'espinakka': 10936, 'supremazistisch': 10937, 'verschlagen': 10938, 'hassend': 10939, 'gelebter': 10940, 'covingtonboys': 10941, 'sichtbar': 10942, 'hatespeech': 10943, 'unterdrueckungsspiel': 10944, 'eingetrichte': 10945, 'guetlich': 10946, 'ethnien': 10947, 'trotzkistischer': 10948, 'trollerei': 10949, 'jansamis': 10950, 'provokationsroutine': 10951, 'europaeischstaemmigen': 10952, 'genozidal': 10953, 'neobolsheviken': 10954, 'unagenda2030': 10955, 'organizedcrime': 10956, 'exekutie': 10957, 'mauschelnd': 10958, 'oligarchen': 10959, 'dieselverbot': 10960, 'debauchery': 10961, 'abspaltung': 10962, 'supremazistisches': 10963, 'machwerk': 10964, 'bolschewistischer': 10965, 'coup': 10966, 'eingeordnet': 10967, 'national': 10968, 'bolshevik': 10969, 'vereinnahmt': 10970, 'labt': 10971, 'geknebelten': 10972, 'lupenreiner': 10973, 'amann': 10974, 'fabulie': 10975, 'bolschewistisches': 10976, 'bolschewistischen': 10977, 'kruse': 10978, 'verraeter': 10979, 'ufer': 10980, 'andient': 10981, 'neobolsheviks': 10982, 'zwischenstaende': 10983, 'kubikmeter': 10984, 'lp': 10985, 'vinyl': 10986, 'eindrucksvolle': 10987, 'fotografin': 10988, 'rarely': 10989, 'such': 10990, 'impressive': 10991, 'pictures': 10992, 'this': 10993, 'photographer': 10994, 'resistance2019': 10995, 'hehehe': 10996, 'beisst': 10997, 'pobacke': 10998, 'honks': 10999, 'abstammen': 11000, 'strangelove1976': 11001, 'autodiebstahl': 11002, 'diebstahls': 11003, 'itown': 11004, 'tommychong': 11005, 'zwillingsbruder': 11006, 'jama08768523': 11007, 'okokokok': 11008, 'krampkarrenbauer': 11009, 'wummms': 11010, 'rauspruegeln': 11011, 'klage': 11012, 'kundenservice': 11013, 'vorbildlich': 11014, 'tip': 11015, 'ikk': 11016, 'sachbearbeiterin': 11017, 'vollstaendiger': 11018, 'dieselfahrverbot': 11019, 'abgedeckt': 11020, 'ausuebung': 11021, 'explodie': 11022, 'cityrebel2018': 11023, 'nadel': 11024, 'mitgelaufen': 11025, 'cyclepeda': 11026, 'witch': 11027, 'theresakalmer': 11028, 'radentscheid': 11029, 'aelter': 11030, 'herdplatte': 11031, 'sparst': 11032, 'verhunge': 11033, 'solikurdin': 11034, 'irgendwer': 11035, 'dieterfrikadell': 11036, 'uebliche': 11037, 'milliyetciccc': 11038, 'fatihzingal': 11039, 'wolfsgruss': 11040, 'sympathische': 11041, 'anarchistalri': 11042, 'anarchisten': 11043, 'radikal': 11044, 'utopie': 11045, 'utopisten': 11046, 'zusammenlebens': 11047, 'urform': 11048, 'basisdemokratie': 11049, 'arne': 11050, 'jj': 11051, 'regineguenther': 11052, 'braeuchte': 11053, 'zusammenhaengende': 11054, 'radwege': 11055, 'marga': 11056, 'owski': 11057, 'stn': 11058, 'kerngeschaeft': 11059, 'provinzblatt': 11060, 'provinzielle': 11061, 'buergis': 11062, 'kuerzer': 11063, 'blocklisten': 11064, 'auffuellen': 11065, 'rumzuhacken': 11066, 'schwarzem': 11067, 'pruegeln': 11068, 'drunter': 11069, 'zuckt': 11070, 'einsauen': 11071, 'blutspritzern': 11072, 'schraeger': 11073, 'rufe': 11074, 'krasse': 11075, 'erwischt': 11076, 'gratulanten': 11077, 'suechtig': 11078, 'absprung': 11079, 'he': 11080, 'habsc': 11081, 'dfb': 11082, 'erlaesst': 11083, 'verordnung': 11084, 'strafzahlungen': 11085, 'ferraro': 11086, 'leo': 11087, 'schwarzrund': 11088, 'rolnam': 11089, 'florableibt': 11090, 'vorab': 11091, 'hanseatische': 11092, 'zeitreise': 11093, 'deluxe': 11094, 'ungefaehre': 11095, 'waehlers': 11096, 'leopoldomones': 11097, 'krawuzikabuzi': 11098, 'frontal21': 11099, 'tdfev': 11100, 'hilfetelefon': 11101, 'bmfsfj': 11102, 'viecher': 11103, 'unterkriegen': 11104, 'juenger': 11105, 'runtermachen': 11106, 'eingebildeten': 11107, 'herabzusetzen': 11108, 'ueberhoehe': 11109, 'anwesenden': 11110, 'vereinsrecht': 11111, 'sonderstimmrecht': 11112, 'ausserordentlichen': 11113, 'vollversammlungen': 11114, 'informative': 11115, 'dreijaehrige': 11116, 'jackyfux': 11117, 'angebracht': 11118, 'abe': 11119, 'ins': 11120, 'darstellerinnen': 11121, 'schwe': 11122, 'anschaust': 11123, 'sarkastisch': 11124, 'gebacken': 11125, 'blockempfehlung': 11126, 'guerilla': 11127, 'gardening': 11128, 'obi': 11129, 'naysayer': 11130, 'unterbezahlte': 11131, 'hilfskraefte': 11132, 'rosamundebay': 11133, 'informatiker': 11134, 'abgestuerzt': 11135, 'tato': 11136, 'logischen': 11137, 'amigaberlin': 11138, 'fraukefke': 11139, 'lamm': 11140, '0001f356': 11141, '0001f357': 11142, '0001f37d': 11143, '0001f377': 11144, 'nazizeit': 11145, 'erben': 11146, 'einzuknicken': 11147, 'rainerrogge': 11148, 'aussagekraeftig': 11149, 'lovisraubermama': 11150, 'wiebe': 11151, 'zumsaru': 11152, 'politikundliebe': 11153, 'hhvrecords': 11154, 'rambazamba161': 11155, 'antikalypse': 11156, 'andauernd': 11157, 'gesabbel': 11158, 'timeline': 11159, 'spuelen': 11160, 'arrogante': 11161, '0105145': 11162, '859e': 11163, 'tellerrand': 11164, 'desch': 11165, 'fai': 11166, 'garnedd': 11167, 'erhol': 11168, 'gefaelligscht': 11169, 'brauchet': 11170, 'genesungs': 11171, 'weichspueler': 11172, 'klimakillers': 11173, 'vorgestern': 11174, 'abgefahrene': 11175, 'kugel': 11176, 'kakteen': 11177, 'lsd': 11178, 'trinkwasser': 11179, 'schuetten': 11180, 'hhuesino': 11181, 'hinkomme': 11182, 'gedanklich': 11183, 'bundesweiten': 11184, '2400': 11185, 'fehringerma': 11186, 'nabu': 11187, 'einschalten': 11188, 'plumpe': 11189, 'werder': 11190, 'worry': 11191, 'anettselle': 11192, '0001f37e': 11193, 'modeutschmann': 11194, 'eva': 11195, 'leisner': 11196, 'hahahahaha': 11197, 'best': 11198, 'buddys': 11199, 'pittbull': 11200, 'nt': 11201, 'muehevoll': 11202, 'rndm': 11203, 'welche': 11204, 'kerosin': 11205, 'yep': 11206, 'johnzabrada': 11207, 'byondgraymatter': 11208, 'vefleihfirma': 11209, 'radlader': 11210, 'steiger': 11211, 'aesthetische': 11212, 'vollkatastrophe': 11213, 'architekt': 11214, 'einbetonie': 11215, 'ihea': 11216, 'lord': 11217, 'fusseck': 11218, 'vorkommt': 11219, 'selah002': 11220, 'vollem': 11221, 'drogeneinfluss': 11222, 'warnungen': 11223, 's4': 11224, 's5': 11225, 's6': 11226, 'verspaetet': 11227, 'zuffenhausen': 11228, 'bahnen': 11229, 'energiewerke': 11230, 'schoenau': 11231, 'profit': 11232, 'sueddeutschen': 11233, 'beziehbar': 11234, 'vorrausgesetzt': 11235, 'grundsaetzliche': 11236, 'hoheitszeichen': 11237, 'jedweder': 11238, 'verlaub': 11239, 'klebestreifen': 11240, 'rotehilfeberlin': 11241, 'versand': 11242, 'm99': 11243, 'beziehst': 11244, 'gemalte': 11245, 'nrrrdstdt': 11246, 'diekadda': 11247, 'massgeblich': 11248, 'serioesen': 11249, 'befreiungs': 11250, 'bewegungen': 11251, 'weareafreeworld': 11252, 'ebnerst': 11253, 'jungnaiv': 11254, 'mayntz': 11255, 'moeglicherweise': 11256, 'fotoschwetje': 11257, 'hi': 11258, 'imtmee': 11259, 'suchfilter': 11260, 'eingegeben': 11261, 'rojrev69': 11262, 'erfrischend': 11263, 'mutmasslich': 11264, 'linketshi': 11265, 'truerebel': 11266, 'store': 11267, 'anarchismus': 11268, 'ausschnitt': 11269, '0001f628': 11270, '0001f630': 11271, 'begluecke': 11272, 'photos': 11273, 'detektivbasil': 11274, 'zusatz': 11275, 'knackpunkt': 11276, 'beobachtung': 11277, 'sarikariwa': 11278, 'stecke': 11279, 'kriegst': 11280, 'floeten': 11281, 'anarcho161zecke': 11282, 'heisswachs': 11283, 'heckscheibe': 11284, 'nacken': 11285, 'bordercollies': 11286, 'geilsten': 11287, 'mitbewohner': 11288, 'selbststaendiger': 11289, 'todo': 11290, 'auslauf': 11291, 'spielzeit': 11292, 'ermoeglichen': 11293, '20qm': 11294, 'sebastianwaiter': 11295, 'kollenbergkai': 11296, 'kraftklub': 11297, 'angeln': 11298, 'anstaendigen': 11299, 'remler': 11300, 'wurzelschlag': 11301, 'wuessten': 11302, 'image': 11303, 'landesebene': 11304, 'klaeglichen': 11305, 'schusslinie': 11306, 'aehnlichen': 11307, 'sachbearbeiter': 11308, 'soeren': 11309, 'leberwurst': 11310, 'fehl': 11311, 'relativiere': 11312, 'nachtzuege': 11313, 'abel': 11314, 'entfernungen': 11315, 'hauptstrecken': 11316, 'ausgebaut': 11317, 'ueberland': 11318, 'peterpstuttga': 11319, 'teilnehmerzahl': 11320, 'fcstpauli63': 11321, 'kalessebo': 11322, 'gewachsene': 11323, '1995': 11324, 'internen': 11325, 'querelen': 11326, 'antifakollektiv': 11327, 'gerhardkopilot': 11328, 'schreibweisen': 11329, 'entschuldigen': 11330, 'hoeckewatch': 11331, 'moellemann': 11332, 'ruecktrittsfoderungen': 11333, 'geschrei': 11334, 'spendenlauf': 11335, 'kaputte': 11336, '50ct': 11337, 'landet': 11338, 'direktspende': 11339, 'bildnachweis': 11340, 'erwuenscht': 11341, 'c2708': 11342, 'dankeantifa': 11343, 'treffpunkte': 11344, 'dach': 11345, 'normalfall': 11346, 'panzerfaust': 11347, 'dilemma': 11348, 'beenden': 11349, 'klostervessra': 11350, 'mattstedt': 11351, 'manofwar': 11352, 'aut': 11353, 'ahhhhh': 11354, 'siehste': 11355, 'sturmfrei': 11356, 'challenge': 11357, 'vinyls': 11358, 'nacheinander': 11359, 'durchhoeren': 11360, 'autorin': 11361, 'kaese': 11362, 'gras': 11363, 'wohnmobilen': 11364, 'autobahnen': 11365, 'blackbird': 11366, 'pistenbuckel': 11367, 'landweg': 11368, 'visum': 11369, 'anrainer': 11370, 'iranische': 11371, 'niemandsland': 11372, 'rumhaengen': 11373, 'spacken': 11374, 'like': 11375, 'zerreisst': 11376, '0001f494': 11377, 'gruess': 11378, 'unbekannterweise': 11379, 'zwiebelpaeckchen': 11380, 'kiefer': 11381, 'gedrueckt': 11382, 'symptomatischen': 11383, 'symptome': 11384, 'nimm': 11385, 'schwoere': 11386, 'entzuendungen': 11387, 'zwiebeln': 11388, 'kamillen': 11389, 'sud': 11390, 'apotheker': 11391, 'ibu': 11392, 'sekundaer': 11393, 'heilungsprozess': 11394, 'ansetzen': 11395, 'naturprodukte': 11396, 'moegliche': 11397, 'entzuendung': 11398, 'verhinderst': 11399, 'kernpanik': 11400, 'absurdum': 11401, 'gothville': 11402, 'kathyfcsp': 11403, 'bein': 11404, 'sexuelle': 11405, 'anspielung': 11406, 'saggsenschnegge': 11407, 'sheeplnthedark': 11408, 'dentlike': 11409, 'therese': 11410, 'bln': 11411, 'kritikfaehig': 11412, 'persoehnlichkeitsrechte': 11413, 'fahrerin': 11414, 'autozeitung': 11415, 'kennzeichen': 11416, 'gepixelt': 11417, 'diethelmnickel': 11418, 'niemamovassat': 11419, 'stress': 11420, 'reaktionaeren': 11421, 'vorsitzenden': 11422, 'hiess': 11423, 'aerge': 11424, 'aufgehoe': 11425, 'schwitzkasten': 11426, 'frontal': 11427, 'klassenzimmer': 11428, 'gerannt': 11429, 'klassenbuch': 11430, 'zappendusterhh': 11431, 'schlamm': 11432, 'einreiben': 11433, 'sonnenbrandgefahr': 11434, 'verlags': 11435, 'ndaktuell': 11436, 'beschwerden': 11437, 'elsaesser': 11438, '100te': 11439, 'eingefallen': 11440, 'ichbincsu': 11441, 'stummschalten': 11442, 'einzelner': 11443, 'zimmerleute': 11444, 'klerikal': 11445, 'geschuetzt': 11446, 'berufsverwandtschaft': 11447, 'einzigen': 11448, 'nachgesehen': 11449, 'aufgehalten': 11450, 'gleichschaltung': 11451, 'mainstreammedien': 11452, 'tilo': 11453, 'aufgerufen': 11454, 'klimaleugner': 11455, 'leugner': 11456, 'anprangern': 11457, 'nordirland': 11458, 'zollgrenze': 11459, 'abgetrennt': 11460, 'isolie': 11461, 'zollunion': 11462, 'stagtagspraesent': 11463, 'abschaffung': 11464, 'kernenergie': 11465, 'kohlenutzung': 11466, 'ansiedlung': 11467, 'afrikanern': 11468, 'kapitulationsve': 11469, 'merkelschen': 11470, 'aletheia156': 11471, 'geschaeftlichen': 11472, 'diplomatischen': 11473, 'agree': 11474, 'allow': 11475, 'ministerlein': 11476, 'erlauben': 11477, 'konfrontie': 11478, 'berufliche': 11479, 'entgegnet': 11480, 'plastikfunktionaerin': 11481, 'dummdreist': 11482, 'abschlossen': 11483, 'bloeden': 11484, 'buendnisautomatismus': 11485, 'abgelegenen': 11486, 'winkel': 11487, 'nordmazedonienen': 11488, 'leugnung': 11489, 'glaeubige': 11490, 'schnittpause': 11491, 'komplizie': 11492, 'unbegabten': 11493, 'ueberehrgeizigen': 11494, 'dorfprinzesschen': 11495, 'uebersetzt': 11496, 'schleichenden': 11497, 'verwaltungsbezirke': 11498, 'degradieren': 11499, 'uebermuetigen': 11500, 'grenzoeffnung': 11501, 'verkorkst': 11502, 'unfreiwillig': 11503, 'selbstbehauptungswillen': 11504, 'erweckt': 11505, 'causa': 11506, 'problemen': 11507, 'progression': 11508, 'kohlekraftwerke': 11509, 'sinkende': 11510, 'verbuddeln': 11511, 'modernen': 11512, 'kuenftig': 11513, 'verbrennen': 11514, 'schlechteren': 11515, 'wegfallende': 11516, 'sinkt': 11517, 'weltweite': 11518, 'kohlepreis': 11519, 'huebsches': 11520, 'unbeachteten': 11521, 'wirksam': 11522, 'rauensverlust': 11523, 'jurgenpresser': 11524, 'lehreraufgabe': 11525, 'mitschueler': 11526, 'schuechternen': 11527, 'androhen': 11528, 'jungenklo': 11529, 'aufzusuchen': 11530, 'reloadius': 11531, 'sekretaerin': 11532, 'anruft': 11533, 'taegliches': 11534, 'bueroleiter': 11535, 'drueben': 11536, 'heuteplus': 11537, 'sexuellen': 11538, 'grundschulalter': 11539, 'aufsuchen': 11540, 'toiletten': 11541, 'parkbaenke': 11542, 'pinseln': 11543, 'schlussfolgerungen': 11544, 'aufzaehlt': 11545, 'atlantik': 11546, 'grundstein': 11547, 'kriegsende': 11548, 'zugehoerigkeit': 11549, 'religionsgruppe': 11550, 'dlfmedien': 11551, 'kontrollierenden': 11552, 'preise': 11553, 'verleihen': 11554, 'sicherheitskraefte': 11555, 'heikohain': 11556, 'studio': 11557, 'zweieinhalb': 11558, 'pensionie': 11559, 'rolf': 11560, 'trauriges': 11561, 'verkleidete': 11562, 'agitatoren': 11563, 'schleusen': 11564, 'streitereien': 11565, 'groesstes': 11566, 'ereignis': 11567, 'epoche': 11568, 'gelang': 11569, 'fuenftel': 11570, 'bitterer': 11571, 'wohlhabende': 11572, 'klimaanlage': 11573, 'vielem': 11574, 'tageswetter': 11575, 'unbewiesene': 11576, 'klimamassnahmen': 11577, 'vorzustrecken': 11578, 'digitalisierung': 11579, 'hektischer': 11580, 'effizienter': 11581, 'personaleinsparender': 11582, 'unpersoenlicher': 11583, 'kontrollierbarer': 11584, 'auspressbare': 11585, 'datensaetze': 11586, 'prominenten': 11587, 'fernsehen': 11588, 'radikalisie': 11589, 'unweltministerin': 11590, 'befragt': 11591, 'hintergrundbilder': 11592, 'tagebaubagger': 11593, 'qualmende': 11594, 'schornsteine': 11595, 'kohnen': 11596, 'berufspolitik': 11597, 'plappe': 11598, '4jaehrige': 11599, 'stieftochter': 11600, 'mine': 11601, '6jaehriger': 11602, 'zuletzt': 11603, 'formt': 11604, 'sozialverhalten': 11605, 'geschlechter': 11606, 'steveweb777': 11607, 'georgesoros': 11608, 'global': 11609, 'values': 11610, 'gewachsener': 11611, 'gesellschaften': 11612, 'multikulti': 11613, 'kommunalpolitisch': 11614, 'grossstaedten': 11615, 'kriegsgeneration': 11616, 'erwachsenen': 11617, 'akkuraten': 11618, 'punktemodell': 11619, 'ausrechnen': 11620, 'verfolgter': 11621, 'nazigegner': 11622, 'naziwaehler': 11623, 'trage': 11624, 'neothemarius': 11625, 'raubte': 11626, 'omi': 11627, 'tiefen': 11628, 'katholischen': 11629, 'glaubens': 11630, 'schwiegersohn': 11631, 'bolivien': 11632, 'nichtjuedin': 11633, 'naziopfer': 11634, 'gelobten': 11635, 'konstrukten': 11636, 'un': 11637, 'herrscht': 11638, 'bezeichnung': 11639, 'gerichte': 11640, 'legislative': 11641, 'staatsve': 11642, 'raege': 11643, 'exekutiven': 11644, 'vereinba': 11645, 'andersdenkenden': 11646, 'oesterreicher': 11647, 'helfer': 11648, 'ersatzweise': 11649, 'fpoe': 11650, 'rechtsstaat': 11651, 'hecklers': 11652, 'koch': 11653, 'christi': 11654, 'himmelfah': 11655, 'vate': 11656, 'knoblochs': 11657, 'kz': 11658, 'umgebracht': 11659, 'kennengelernt': 11660, 'erschoepft': 11661, 'bombenkrieg': 11662, '47': 11663, 'verbat': 11664, 'hj': 11665, 'opferenkel': 11666, 'taeterenkel': 11667, 'enthusiastisch': 11668, 'filmbericht': 11669, 'senken': 11670, 'unbeantwo': 11671, 'goldfachkraefte': 11672, 'geniale': 11673, 'bewundernswe': 11674, 'herunte': 11675, 'ippen': 11676, 'moeglichen': 11677, 'zeichenumfang': 11678, 'ausschoepfe': 11679, 'gestrandete': 11680, 'kleinbuerger': 11681, 'kulturlosigkeit': 11682, 'zelebrie': 11683, 'opern': 11684, 'entlarvenden': 11685, 'irrglauben': 11686, 'chor': 11687, 'kostueme': 11688, 'regierungsphrasen': 11689, 'journalistische': 11690, 'zielgruppe': 11691, 'griffig': 11692, 'uebersetzen': 11693, 'grossmutter': 11694, 'grosselternteil': 11695, 'frechen': 11696, 'welterklaerer': 11697, 'niederen': 11698, 'wahrheiten': 11699, 'ueberspitzt': 11700, 'genderwahn': 11701, 'goethes': 11702, 'hauptwerk': 11703, 'geleit': 11704, 'anzutragen': 11705, 'margarete': 11706, 'divers': 11707, 'altmaennersprache': 11708, 'seltsame': 11709, 'dialektik': 11710, 'woran': 11711, 'journalistisch': 11712, 'sammlung': 11713, 'schriftlicher': 11714, 'absichtserklaerungen': 11715, 'ahnte': 11716, 'vermisste': 11717, 'historischer': 11718, 'ununterscheidbar': 11719, 'kollateralschaeden': 11720, 'angelockt': 11721, 'brutalos': 11722, 'unverzichtbar': 11723, 'linksgruen': 11724, 'bestrittenen': 11725, 'ethnisch': 11726, 'erkennbare': 11727, 'kulturnation': 11728, 'winterhysterie': 11729, 'urbanes': 11730, 'kleidungsphaenomen': 11731, 'laendlichen': 11732, 'kommend': 11733, 'staune': 11734, 'u50': 11735, 'panisch': 11736, 'aehnelt': 11737, 'fifa': 11738, 'anfuehrer': 11739, 'staatsoberhaeupter': 11740, 'hofieren': 11741, 'vielfach': 11742, 'versoffene': 11743, 'anve': 11744, 'raute': 11745, 'gemeinschaftsgeld': 11746, 'grosskotzig': 11747, 'krisen': 11748, 'konfliktpa': 11749, 'raglich': 11750, 'einigen': 11751, 'mitgliedsstaat': 11752, 'vernuenftigen': 11753, 'austrittsve': 11754, 'verhandlungscleverness': 11755, 'vorratizie': 11756, 'ragsentwurf': 11757, 'vorlegen': 11758, 'laege': 11759, 'moegliches': 11760, 'unfaehig': 11761, 'austrittschaos': 11762, 'handelsregelungen': 11763, 'wesentlichen': 11764, 'unveraende': 11765, 'blieben': 11766, 'bruesseler': 11767, 'somme': 11768, 'ags': 11769, 'stadtparks': 11770, 'rappelvoll': 11771, 'grossfamilien': 11772, 'winterwetter': 11773, 'spaziergaenger': 11774, 'verpackten': 11775, 'herrlichen': 11776, 'sonnenschein': 11777, '2603': 11778, 'wildbienen': 11779, 'feldhamster': 11780, 'deutschstaemmiger': 11781, 'krimigant': 11782, 'paesse': 11783, 'multiplizie': 11784, 'studienabbrecher': 11785, 'schwadronierende': 11786, 'lebenskuenstler': 11787, 'eiapparat': 11788, 'hochgezuechtete': 11789, 'politroboter': 11790, 'fuehrungsspitze': 11791, 'sozialwissenschaftlichen': 11792, 'asozial': 11793, 'normalmenschen': 11794, 'geregelten': 11795, 'privaten': 11796, 'beruflichen': 11797, 'lebensentwurf': 11798, 'laecherlicher': 11799, 'verdrehen': 11800, 'unterwande': 11801, 'aussenpolitische': 11802, 'schicksalskampf': 11803, 'staatsjournalisten': 11804, 'kriegszustand': 11805, 'steckbrief': 11806, 'enttarnt': 11807, 'spoettisch': 11808, 'weltuntergangspanik': 11809, 'aengstigen': 11810, 'kleingruppen': 11811, 'volksve': 11812, 'verwaltungssysteme': 11813, 'baendigen': 11814, 'synthetisch': 11815, 'designte': 11816, 'entstammen': 11817, 'bewaeh': 11818, 'buerokratien': 11819, 'verkoerpern': 11820, 'habitus': 11821, 'selbstbezeichnung': 11822, 'einamen': 11823, '80er': 11824, 'unterstuetzerszene': 11825, 'oekologie': 11826, 'verpackung': 11827, 'jahrzehntealte': 11828, 'blutige': 11829, 'waehrung': 11830, 'friedensprojekt': 11831, 'queeniepi': 11832, 'fingerabdruecke': 11833, 'marokkanischer': 11834, 'beliebter': 11835, 'landsleuten': 11836, 'ausweis': 11837, 'korrektur': 11838, 'nachnamens': 11839, 'nachbarstadt': 11840, 'scheinadresse': 11841, 'versinken': 11842, 'norwegen': 11843, 'german': 11844, 'critical': 11845, 'rechtspopulisten': 11846, 'annaehere': 11847, 'widerstandskaempfer': 11848, 'massensuggestion': 11849, 'hineingesteige': 11850, 'revanchieren': 11851, 'ueberzeugten': 11852, 'liberalitaet': 11853, 'verdiente': 11854, 'langfristig': 11855, 'drang': 11856, 'weltverbessernden': 11857, 'kollektivismus': 11858, 'spitzfindig': 11859, 'ausreisepflichtigen': 11860, 'einraeumt': 11861, 'bricht': 11862, 'auslaenderbonus': 11863, 'beider': 11864, 'rational': 11865, 'grundsatzfrage': 11866, 'herschiebt': 11867, 'bespricht': 11868, 'zollka': 11869, 'ell': 11870, 'echtzeit': 11871, 'zweifeln': 11872, 'alternativlosigkeit': 11873, 'mglw': 11874, 'versehentlich': 11875, 'straenge': 11876, 'ruebenhorst': 11877, 'cynisch': 11878, 'allerersten': 11879, 'absichtlich': 11880, 'platzie': 11881, 'tsinyschen': 11882, 'berechnung': 11883, 'leser': 11884, 'menschlicher': 11885, 'sympathischer': 11886, 'regierungskritische': 11887, 'ausschneiden': 11888, '0001f575': 11889, 'tweeten': 11890, 'sonnebrille': 11891, 'vorzeigedemokratie': 11892, 'versammlungsgesetzes': 11893, 'regelt': 11894, 'gleicha': 11895, 'kleidungsstuecke': 11896, 'nschn': 11897, 'berichte': 11898, 'mediatheken': 11899, 'bringe': 11900, 'iefen': 11901, 'anerzogene': 11902, 'wichtigsten': 11903, 'evp': 11904, 'prahlt': 11905, 'plastikverbot': 11906, 'verbote': 11907, 'lebensziel': 11908, 'trauriger': 11909, 'diskutanten': 11910, 'dozieren': 11911, 'basisdemokratische': 11912, 'entscheid': 11913, 'suchmaschine': 11914, 'eigenstaendiger': 11915, 'meinungsbildung': 11916, 'aufstacheln': 11917, 'subversive': 11918, 'manfredweber': 11919, 'juncker': 11920, 'mutiger': 11921, 'kandidie': 11922, 'kommissionspraesident': 11923, 'listenplatz': 11924, 'finanziell': 11925, 'abzusichern': 11926, 'doppelkandidatur': 11927, 'vergrault': 11928, 'verstaerkt': 11929, 'politikverdrossenheit': 11930, 'entwuerdigender': 11931, 'ahne': 11932, 'jubelnde': 11933, 'sozen': 11934, 'wahlpa': 11935, 'ys': 11936, 'umfragen': 11937, 'zweistellig': 11938, 'huepft': 11939, 'schuhsohle': 11940, 'markusblume': 11941, 'herstellung': 11942, 'verbrennungsmotoren': 11943, 'faktisch': 11944, 'abgasgrenzwe': 11945, 'schwerster': 11946, 'waehlerwechsel': 11947, 'trailer': 11948, 'durchsichtigen': 11949, 'einzutriggern': 11950, 'gleichbedeutend': 11951, 'mariae': 11952, '0001f955': 11953, 'offensiv': 11954, 'spielfeld': 11955, 'aussichtsreiche': 11956, 'schluesselpositionen': 11957, 'schwaecht': 11958, 'optionen': 11959, 'gegners': 11960, 'ungarische': 11961, 'nachbarin': 11962, 'heimatlichen': 11963, 'weihnachtsurlaub': 11964, 'unruhen': 11965, 'losbrechen': 11966, 'mahnte': 11967, 'traenenreichen': 11968, 'buerokrat': 11969, 'hochlohnland': 11970, 'maschinenbausektoren': 11971, 'oekospinner': 11972, 'zerschlagen': 11973, 'kaemen': 11974, 'anschl': 11975, 'revolte': 11976, 'motive': 11977, 'napoleon': 11978, 'unterschiedlich': 11979, 'russ': 11980, 'geeintes': 11981, 'westeuropa': 11982, 'expansiv': 11983, 'osteuropa': 11984, 'inkl': 11985, 'einverleiben': 11986, 'historisch': 11987, 'unfreiwillige': 11988, 'unionsgefueh': 11989, 'herauszuhalten': 11990, 'alx': 11991, 'unverschaemten': 11992, 'menschheitsgeschichte': 11993, 'entwe': 11994, 'sachlichen': 11995, 'rponline': 11996, 'dorf': 11997, 'verschwoerung': 11998, 'russe': 11999, '20jaehriges': 12000, 'milchgesicht': 12001, 'kinderzimmer': 12002, 'heraus': 12003, 'stupiden': 12004, 'ern': 12005, 'promi': 12006, 'geknackt': 12007, 'schuelerin': 12008, 'klasse': 12009, 'tuerkischstaemmige': 12010, 'grundschullehrerin': 12011, 'betreutes': 12012, 'innenpolitik': 12013, 'filmbildern': 12014, 'verzieht': 12015, 'moderatorin': 12016, 'sekundenlang': 12017, 'trotziges': 12018, 'angeekelt': 12019, 'anmoderie': 12020, 'videoaufnahmen': 12021, 'gegenstand': 12022, 'eingepruegelt': 12023, 'verfaelscht': 12024, 'stuendlich': 12025, 'radionachrichten': 12026, 'eingreifen': 12027, 'attacke': 12028, 'milvus84': 12029, 'mikrofon': 12030, 'metapher': 12031, 'unterschlagen': 12032, 'drumheadberlin': 12033, 'europawahl': 12034, 'lobbyist': 12035, 'mueder': 12036, 'peinlicher': 12037, 'loslassen': 12038, 'union': 12039, 'verfasser': 12040, 'anstossen': 12041, 'profi': 12042, 'dampfplauderer': 12043, 'normalbuerger': 12044, 'niederbruellen': 12045, 'aufzuschreiben': 12046, 'nackt': 12047, 'chats': 12048, 'langweiligen': 12049, 'privatleben': 12050, 'langweiliger': 12051, 'neuesten': 12052, 'verdruckster': 12053, 'weltverschwoerungsterminologie': 12054, 'server': 12055, 'bab': 12056, 'weinerlicher': 12057, 'waschlappen': 12058, 'entgleisungen': 12059, 'schalthebeln': 12060, 'irgendeiner': 12061, 'talkshow': 12062, 'kurzstatements': 12063, 'nutzer': 12064, 'mediums': 12065, 'versendet': 12066, 'verungluecktes': 12067, 'videostatement': 12068, 'irgendeine': 12069, 'hineinsprechen': 12070, 'zeitpunkt': 12071, 'hofft': 12072, 'schwachen': 12073, 'abgang': 12074, 'akute': 12075, 'personalnot': 12076, 'nachfolge': 12077, 'flann1000': 12078, 'niederlande': 12079, 'wegenetze': 12080, 'hochgefaehrlichen': 12081, 'aufgemalten': 12082, 'randstreifen': 12083, 'tatsaechliche': 12084, 'erlaubte': 12085, 'durchschnittsgeschwindigkeit': 12086, 'dreispurigen': 12087, 'stadtverwaltung': 12088, 'korrektheit': 12089, 'aufgepinselt': 12090, 'radler': 12091, 'zubringerstrassen': 12092, 'verkehrshindernis': 12093, 'geschwaenge': 12094, 'geschenke': 12095, 'dreikoenigstag': 12096, 'freiheitlichen': 12097, 'gefaengnisse': 12098, 'geheimdienstzentralen': 12099, 'stuermen': 12100, 'nester': 12101, 'manipulierenden': 12102, 'staatsfunks': 12103, 'megastoned1948': 12104, 'bloedsinnslied': 12105, 'groelte': 12106, 'vfb': 12107, 'leverkusen': 12108, 'f4': 12109, 'sblock': 12110, 'spielende': 12111, 'vergehen': 12112, 'elterngeneration': 12113, '70er': 12114, 'uralte': 12115, 'pruegelns': 12116, 'genannte': 12117, 'wilhelm': 12118, 'regierungssprecher': 12119, 'stoibers': 12120, 'pressesprecher': 12121, 'klebrige': 12122, 'maechtigen': 12123, 'zufall': 12124, 'meide': 12125, 'stadionbesuche': 12126, 'sfans': 12127, 'kinderliedaehnlichen': 12128, 'endlosgesang': 12129, 'baeumen': 12130, '70minuetigen': 12131, 'ununterbrochenen': 12132, 'dauerschleife': 12133, 'wiwo': 12134, 'geschoepfe': 12135, 'cptcoock': 12136, 'umweltschaedlich': 12137, 'morgendlich': 12138, 'emittie': 12139, 'biogas': 12140, 'weizen': 12141, 'photosynthese': 12142, 'entnommen': 12143, 'pflanze': 12144, 'gebunden': 12145, 'konzipie': 12146, 'exklusiv': 12147, 'kunden': 12148, 'designten': 12149, 'lifestyle': 12150, 'umweltschuetzer': 12151, 'waldschrat': 12152, 'verlacht': 12153, 'lukelametta': 12154, 'illusion': 12155, 'kontinent': 12156, 'heisser': 12157, 'wiegt': 12158, 'pkzaryte': 12159, 'arnek': 12160, 'verpixelt': 12161, 'interviewt': 12162, 'einzelgaenger': 12163, 'wichtigtuerei': 12164, 'bundesjustizministerin': 12165, 'mutmassungen': 12166, 'taeters': 12167, 'fairer': 12168, 'wettbewerb': 12169, 'pschnieder': 12170, 'kontodaten': 12171, 'steueroasen': 12172, 'panamapapers': 12173, 'umweltbundesamt': 12174, 'listet': 12175, 'bienenfleissiger': 12176, 'beflissenheit': 12177, 'bequem': 12178, 'belehrungstweets': 12179, 'typischen': 12180, 'impetus': 12181, 'oekomoralischen': 12182, 'gefasst': 12183, 'winterfrank35': 12184, 'schimpfenden': 12185, 'aendere': 12186, 'waehle': 12187, 'waechst': 12188, 'leitmedien': 12189, 'merkelrassismus': 12190, 'tobiashans': 12191, 'einwohner': 12192, 'doppelpass': 12193, 'raet': 12194, 'wuetende': 12195, 'armlaenge': 12196, 'russenhetze': 12197, 'abstuerzenden': 12198, 'paketdrohne': 12199, 'sibirischen': 12200, 'ulan': 12201, 'ude': 12202, 'gehaessig': 12203, 'russischen': 12204, 'bloedem': 12205, 'bandgelaechter': 12206, 'kriegsvorbereitung': 12207, 'nachbarvoelker': 12208, 'amokfah': 12209, 'sammelpunkt': 12210, 'sarahbosetti': 12211, 'fussballhooligans': 12212, 'treppe': 12213, 'freundlichen': 12214, 'zivilisatorischen': 12215, 'automobilzulieferindustrie': 12216, 'existenzangst': 12217, 'oekologischen': 12218, 'ankuendigen': 12219, 'arbeitsplatzes': 12220, '81jaehrigen': 12221, 'schimpft': 12222, 'ununterbrochen': 12223, 'rohrspatz': 12224, 'groessenwahnsinnige': 12225, 'welterklaerung': 12226, 'sinngemaess': 12227, 'mitdenken': 12228, 'seniorinnen': 12229, 'palme': 12230, 'wahnhaften': 12231, 'schicksalsfrage': 12232, 'kuendigt': 12233, 'traditionellen': 12234, 'technologien': 12235, 'aussichten': 12236, 'maschinenbauindustrien': 12237, 'grundlage': 12238, 'wohlstands': 12239, 'silvesterprogramm': 12240, 'sketche': 12241, 'jerry': 12242, 'lewis': 12243, 'imitie': 12244, 'tippen': 12245, 'schreibmaschine': 12246, 'krebs': 12247, 'carell': 12248, 'juhnke': 12249, 'telefonzelle': 12250, 'kellner': 12251, 'siezen': 12252, 'akuelle': 12253, 'kontrollen': 12254, 'absperrgitter': 12255, 'silvester': 12256, 'unattraktiv': 12257, 'ersparen': 12258, 'schlagzeilen': 12259, 'stehend': 12260, 'elf': 12261, 'pk': 12262, 'weltpresse': 12263, 'staendchen': 12264, 'constschreiber': 12265, 'klassischer': 12266, 'konflikt': 12267, 'eilungskampf': 12268, 'ressourcen': 12269, 'nasskalt': 12270, 'bruellen': 12271, 'heizungen': 12272, 'kater': 12273, 'decke': 12274, 'dampft': 12275, 'amuesieren': 12276, 'panikmedien': 12277, 'waermer': 12278, 'geographisches': 12279, 'gebiet': 12280, 'kulturellen': 12281, 'besonderheiten': 12282, 'unwichtig': 12283, 'staatsbildung': 12284, 'ausblenden': 12285, 'horrorfilm': 12286, 'netten': 12287, 'supe': 12288, 'yp': 12289, 'verstorbene': 12290, 'urploetzlich': 12291, 'funkeln': 12292, 'bruellt': 12293, 'psychos': 12294, 'sicherstellen': 12295, 'lebensgefahr': 12296, 'kirchensteuer': 12297, 'christ': 12298, 'parallelgesellschaft': 12299, 'verhinderung': 12300, 'rechtserlaubnis': 12301, 'koerperschaften': 12302, 'dienstherren': 12303, 'arbeitsrecht': 12304, 'pbahners': 12305, 'gleichgesinnte': 12306, 'let': 12307, 'dance': 12308, 'heide': 12309, 'simonis': 12310, 'gewoehne': 12311, 'kleinerbruder': 12312, 'jody29567782': 12313, '16jaehrige': 12314, 'nachbarstochter': 12315, 'einjaehrigen': 12316, 'praktikumsstelle': 12317, 'luthers': 12318, 'afpmayer': 12319, 'vollstreckt': 12320, 'verhaengten': 12321, 'todesstrafen': 12322, 'unverheiratete': 12323, 'schwangere': 12324, 'schlepperboot': 12325, 'mitreisenden': 12326, 'fundamentalistischen': 12327, 'maennlichen': 12328, 'mitfahrern': 12329, 'enthauptet': 12330, 'bord': 12331, 'germanyonmena': 12332, 'bethlehem': 12333, 'ideologisch': 12334, 'verkauftes': 12335, 'plastik': 12336, 'pazifik': 12337, 'sauberer': 12338, 'strohhalme': 12339, 'fuersorglichen': 12340, 'stiefvater': 12341, 'undankbar': 12342, 'verehren': 12343, 'anbeten': 12344, 'fleissige': 12345, 'zusammenhalten': 12346, 'frohe': 12347, 'linkespd': 12348, 'cocacomas': 12349, 'schwaechsten': 12350, 'selbstbeweihraeucherung': 12351, 'gutverdienenden': 12352, 'arbeitsmarkt': 12353, 'armutsmigranten': 12354, 'prekaere': 12355, 'wohnraum': 12356, 'ringen': 12357, 'suppe': 12358, 'kuchen': 12359, 'enthaupteten': 12360, 'louisa': 12361, 'feindin': 12362, 'moerders': 12363, 'eindringlicher': 12364, 'vulkanausbruechen': 12365, 'abs': 12366, 'vorgaenge': 12367, 'zeitgeschehens': 12368, 'fachleuten': 12369, 'escalation': 12370, 'anschliessen': 12371, 'hinde': 12372, 'verlangen': 12373, 'amerikanern': 12374, 'trumps': 12375, 'rueckzug': 12376, 'kashoggi': 12377, 'zerstueckelung': 12378, 'saudischen': 12379, 'verbuendeten': 12380, 'hocken': 12381, 'amerikanischer': 12382, 'schreckliche': 12383, 'syrische': 12384, 'kern': 12385, 'auskaempfen': 12386, 'bemerkt': 12387, 'filmberichte': 12388, 'bedrohlicher': 12389, 'synthesizermusik': 12390, 'relotius': 12391, 'plumper': 12392, 'luegerei': 12393, 'umfasst': 12394, 'psychologischen': 12395, 'manipulation': 12396, 'erfolgreicher': 12397, 'strukturwandel': 12398, 'dampfplaudernden': 12399, 'landsmannsbuddy': 12400, 'kompetenten': 12401, 'schaftsfachmann': 12402, 'beschlossene': 12403, 'abzug': 12404, 'folgerichtig': 12405, 'mitmacht': 12406, 'enthauptung': 12407, 'igungen': 12408, 'boesa': 12409, 'maler': 12410, 'kuendigte': 12411, 'langes': 12412, 'erstellung': 12413, 'machbarkeitsstudie': 12414, 'renovierungskonzepts': 12415, 'holte': 12416, 'wolfgangherle': 12417, 'derklunki': 12418, 'fossilien': 12419, 'energiequellen': 12420, 'verbrauchssteuern': 12421, 'subventionie': 12422, 'vivapapaya': 12423, 'halben': 12424, 'schwerelosigkeit': 12425, 'durchfueh': 12426, 'untersuchungen': 12427, 'besonderer': 12428, 'wichtigkeit': 12429, 'medienhype': 12430, 'eugegner55': 12431, 'talentie': 12432, 'ans': 12433, 'cern': 12434, 'fernsehgerechte': 12435, 'depressiv': 12436, 'platypus803': 12437, 'materialforschung': 12438, 'heutejornal': 12439, 'schwaermend': 12440, 'gersts': 12441, 'laeppisches': 12442, 'leuchtturmprojekte': 12443, 'nachrichtenwe': 12444, 'igt': 12445, 'falkrichter2': 12446, 'fcmmicha1': 12447, 'vielseitig': 12448, 'sah': 12449, 'flieger': 12450, 'hochkonzentrie': 12451, 'flog': 12452, 'ministerin': 12453, 'gelangweilt': 12454, 'leere': 12455, 'kennzeichnet': 12456, 'gespuelte': 12457, 'funktionaerskaste': 12458, 'industrieverbandes': 12459, 'frustrie': 12460, 'landesministerium': 12461, 'entourage': 12462, 'ministers': 12463, 'autohasser': 12464, 'rauter': 12465, 'beamter': 12466, 'lope': 12467, 'ingo': 12468, 'appelt': 12469, 'rausgegangen': 12470, 'staatsclown': 12471, 'zuschauern': 12472, 'hinterhergebruellt': 12473, 'hundekrawatte': 12474, 'besorgt': 12475, 'king': 12476, 'dream': 12477, 'gandhi': 12478, 'einstein': 12479, 'wuerfelt': 12480, 'gegenseitige': 12481, 'begriffe': 12482, 'abgewoehnen': 12483, 'vordringen': 12484, 'dreijaehrigen': 12485, 'migrationschaos': 12486, 'burghard': 12487, 'visier': 12488, 'politikers': 12489, 'achselzuckend': 12490, 'spdbpt18': 12491, 'eichel': 12492, 'muentefering': 12493, 'scharping': 12494, 'kaeme': 12495, 'macronhatmichangerufen': 12496, 'wahlprogramm': 12497, 'buergerschaftswahl': 12498, 'klares': 12499, 'beitritt': 12500, 'bremerhaven': 12501, 'niedersachsen': 12502, 'hb': 12503, 'diesjaehrige': 12504, 'auswirkung': 12505, 'femifaschistischen': 12506, 'ausschaut': 12507, 'gravierende': 12508, 'bankencrash': 12509, 'raeumt': 12510, 'wirkungsvolle': 12511, 'sanktion': 12512, 'sanktionierende': 12513, 'einflussbereich': 12514, 'befindlichen': 12515, 'vermoegen': 12516, 'einfrie': 12517, 'leiden': 12518, 'konkurrenz': 12519, 'blaeht': 12520, 'listen': 12521, 'aussichtsreichsten': 12522, 'plaetze': 12523, 'quotenweibchen': 12524, 'aufgefuellt': 12525, 'toller': 12526, '12jaehriges': 12527, '12jaehrigen': 12528, 'heiraten': 12529, '48jaehriger': 12530, '9jaehriges': 12531, 'schaendet': 12532, 'bestialisches': 12533, 'verwirrend': 12534, 'abzuziehen': 12535, 'hindukusch': 12536, 'bmvg': 12537, 'schaftssanktionen': 12538, 'klassenfeind': 12539, 'verhaengen': 12540, 'komma': 12541, 'klassenfeinds': 12542, 'phantomdiskussion': 12543, 'geeinigt': 12544, 'insel': 12545, 'mitspracherecht': 12546, '37': 12547, 'staatsbetrieben': 12548, 'durchschnittslohn': 12549, 'sozialistisches': 12550, 'erschaffen': 12551, 'igprodukte': 12552, 'mittagessen': 12553, 'schnitt': 12554, 'sparsam': 12555, 'psssst': 12556, 'dreikoepfige': 12557, 'verbrauchen': 12558, 'wollens': 12559, 'kochbuecher': 12560, 'anleitung': 12561, 'kostenguenstigen': 12562, 'ernaehrung': 12563, 'kocht': 12564, 'teuren': 12565, 'shnickschnack': 12566, 'grundsteuer': 12567, 'mieter': 12568, 'betriebskosten': 12569, 'mietwohnungen': 12570, 'teure': 12571, 'befindliche': 12572, 'verlaengerung': 12573, 'a100': 12574, 'richtiger': 12575, 'checker': 12576, 'corbyn': 12577, 'votum': 12578, 'labour': 12579, 'olewahr': 12580, 'wahlsystem': 12581, 'aufstellen': 12582, 'kinderehen': 12583, 'verharmlosender': 12584, 'verniedlicht': 12585, 'allzu': 12586, 'menschlich': 12587, 'nackte': 12588, 'radikalisieren': 12589, 'kontrastfarbe': 12590, 'systembedingtes': 12591, 'religioeser': 12592, 'vorstellbar': 12593, 'umerziehung': 12594, 'mohamedanern': 12595, 'grossflaechig': 12596, 'vorgeht': 12597, 'uiguren': 12598, 'kasachen': 12599, 'umerziehungslager': 12600, 'klimasystem': 12601, 'arktischen': 12602, 'stroemungssystem': 12603, 'polarwirbel': 12604, 'menschengemacht': 12605, 'urzeiten': 12606, 'zuschreiben': 12607, 'gemerkt': 12608, 'weigerung': 12609, 'annehmbaren': 12610, 'handelsve': 12611, 'schuldeingestaendnis': 12612, 'gegenrechtsde': 12613, 'deppensternchen': 12614, 'erkennungssymbol': 12615, 'aufrechterhalten': 12616, 'aufschwung': 12617, 'unternehme': 12618, 'zulaesst': 12619, 'systembedingten': 12620, 'zurast': 12621, 'gustloff': 12622, 'militaerisch': 12623, 'massenmord': 12624, 'craftergut': 12625, 'erneute': 12626, 'raeuberbande': 12627, 'ausgeraubt': 12628, 'erhebt': 12629, 'abseits': 12630, 'zugucken': 12631, 'eindeutiger': 12632, 'menschengemachte': 12633, 'klimaerwaermung': 12634, 'minneapolis': 12635, 'giftlampen': 12636, 'annahmestelle': 12637, 'sondermuell': 12638, 'premierministerin': 12639, 'ieften': 12640, 'bruesk': 12641, 'anschliessender': 12642, 'handelsvereinbarung': 12643, 'bs': 12644, 'soberano': 12645, 'wechselkurs': 12646, 'balast': 12647, 'passgenaue': 12648, 'abschliessen': 12649, 'kompromissen': 12650, 'rumaergern': 12651, 'guetliche': 12652, 'scheidung': 12653, 'blauaeugig': 12654, 'handelspa': 12655, 'nern': 12656, 'verhandelt': 12657, 'verhandelei': 12658, 'popo': 12659, 'efta': 12660, 'abzuschliessen': 12661, 'druecker': 12662, 'anzureisen': 12663, 'leif': 12664, 'holm': 12665, 'rettungsgesuelze': 12666, 'insolventen': 12667, 'peene': 12668, 'zivilem': 12669, 'schiffs': 12670, 'bootsbau': 12671, 'zuwendet': 12672, 'militaerischen': 12673, 'sinnvoll': 12674, 'verhandlungspa': 12675, 'annehmbares': 12676, 'aebrexit': 12677, 'derfreitag': 12678, 'verwunderung': 12679, 'verraeterpa': 12680, 'kanzler': 12681, 'umsetzen': 12682, 'krakeelen': 12683, 'grossbritannioen': 12684, 'koruppten': 12685, 'hoechste': 12686, 'grussaugust': 12687, 'aethiopien': 12688, 'ueberfluessige': 12689, 'vollziehen': 12690, 'verschiebung': 12691, 'geordneten': 12692, 'ungeordneter': 12693, 'geordnetes': 12694, 'drittes': 12695, 'achtes': 12696, 'volksabstimmung': 12697, 'mere': 12698, 'marktchancen': 12699, 'strategiewechsel': 12700, 'aldi': 12701, 'unuebersichtlichen': 12702, 'filialen': 12703, 'mentswandel': 12704, 'preiserhoehungen': 12705, 'anbieter': 12706, 'schnickschnack': 12707, 'fairen': 12708, 'preisen': 12709, 'anschliessende': 12710, 'stereotypischen': 12711, 'kolonialisierung': 12712, 'igst': 12713, 'bedenklich': 12714, 'kolonialismus': 12715, 'begruessst': 12716, 'buddhistische': 12717, 'theokratien': 12718, 'auffassung': 12719, 'teilnahme': 12720, 'koreakrieg': 12721, 'aggressors': 12722, 'kim': 12723, '1962': 12724, '1966': 12725, 'massenmorde': 12726, 'kulturrevolution': 12727, 'vietnam': 12728, 'gewaltregimes': 12729, 'dunkelsten': 12730, 'mittelalter': 12731, 'eaglepowder': 12732, 'halbtags': 12733, 'versiche': 12734, 'wtiefensee': 12735, 'horrorliste': 12736, 'steuersenkung': 12737, 'subventionen': 12738, 'ausgaben': 12739, 'anerkennen': 12740, 'bahrain': 12741, 'katar': 12742, 'libanon': 12743, 'algerien': 12744, 'kuwait': 12745, 'sudan': 12746, 'pakistan': 12747, 'brunei': 12748, 'bangladesch': 12749, 'vereinigte': 12750, 'horrogeschichten': 12751, 'relotiusmedien': 12752, 'zufolge': 12753, 'hungersnot': 12754, 'abschlachtung': 12755, 'europaeischer': 12756, 'linksgurken': 12757, 'kapitailistische': 12758, 'investitionen': 12759, 'industrieunternehmen': 12760, 'veralteten': 12761, 'trabant': 12762, 'rotchina': 12763, 'kratzt': 12764, 'linksextremistische': 12765, 'potentiell': 12766, 'tankstellennetz': 12767, 'mohamedanischen': 12768, 'invasion': 12769, 'abschlachten': 12770, 'andersherum': 12771, 'seinerseits': 12772, 'ringt': 12773, 'automatisch': 12774, 'handelsbeziehungen': 12775, 'zusammenbruch': 12776, 'sozialisismus': 12777, 'kollabie': 12778, 'diktaturen': 12779, 'ruin': 12780, 'antiamerikaner': 12781, 'poesem': 12782, 'abschuetteln': 12783, 'einsehen': 12784, 'systembedingt': 12785, 'verwandelt': 12786, 'imperium': 12787, 'vader': 12788, 'engel': 12789, 'verwechseln': 12790, 'hinzuschauen': 12791, 'spezifischen': 12792, 'auseinandergesetzt': 12793, 'wahlfarcen': 12794, 'verhungern': 12795, 'kredite': 12796, 'amerikanischen': 12797, 'emotionaler': 12798, 'antiamerikanismus': 12799, 'limitie': 12800, 'froenen': 12801, 'offene': 12802, 'kreditforderungen': 12803, 'ermessen': 12804, 'praesidentschafts': 12805, 'missachtet': 12806, 'entmachtet': 12807, 'bezog': 12808, 'teilnehmen': 12809, 'anulie': 12810, 'diesjaehrigen': 12811, 'oelfoerderung': 12812, 'verpfaendet': 12813, 'pleite': 12814, 'verschuldet': 12815, 'reminbi': 12816, 'konve': 12817, 'ierbare': 12818, 'entmachtung': 12819, 'protestie': 12820, 'lucasguttenberg': 12821, 'ansinnen': 12822, 'bearbeiten': 12823, 'gefuehle': 12824, 'kleinglaeubiger': 12825, 'widerlegt': 12826, 'erstarkt': 12827, 'polpot': 12828, 'neosozialismus': 12829, 'dergegenspieler': 12830, '40h': 12831, 'entlohnt': 12832, 'lohnzuwachs': 12833, 'lohnentwicklung': 12834, 'produktivitaetssteigerung': 12835, 'zurueckhaengt': 12836, 'machbar': 12837, 'stadtwerke': 12838, 'solingen': 12839, 'testen': 12840, 'oberleitungsbussen': 12841, 'zusaetzlicher': 12842, 'batterie': 12843, 'streckenabschnitte': 12844, 'oberleitung': 12845, 'oepnv': 12846, 'elektroantrieb': 12847, 'einzusetzen': 12848, 'oberleitungsbus': 12849, 'recihweite': 12850, '50km': 12851, 'voro': 12852, 'oberleitungen': 12853, 'anbinden': 12854, 'realexistierendersozialismus': 12855, '21jahrhunde': 12856, 'berndf10': 12857, 'neythomas': 12858, 'buvo': 12859, 'feminazis': 12860, 'unwesen': 12861, 'mitgliedern': 12862, 'antideutsch': 12863, 'oelpreis': 12864, 'barrel': 12865, '95': 12866, 'angestiegen': 12867, 'sechsfachen': 12868, 'einnahmen': 12869, 'rumasen': 12870, 'gigantischen': 12871, 'oeleinnahmen': 12872, 'citgo': 12873, 'korruption': 12874, 'ubootin': 12875, 'buchvorstellungs': 12876, 'promotion': 12877, 'idiotisch': 12878, 'eintreten': 12879, 'graben': 12880, 'ernaehrungsgrundlage': 12881, 'gefoerde': 12882, 'baeder': 12883, 'thueringer': 12884, 'privatisie': 12885, 'anstehenden': 12886, 'praesidentschaftswahl': 12887, 'unternehmer': 12888, 'lorenzo': 12889, 'alejandro': 12890, 'mendoza': 12891, 'gim': 12892, 'nez': 12893, 'korruptionssumpf': 12894, 'herauszufuehren': 12895, 'edirks2011': 12896, 'originalstatue': 12897, 'juengling': 12898, 'gefangenem': 12899, 'ziegt': 12900, 'nakten': 12901, 'stammt': 12902, 'iffland': 12903, 'nachahmung': 12904, 'zuechtig': 12905, 'verhuelltem': 12906, 'feminazistische': 12907, 'verlangt': 12908, 'luftreinhaltung': 12909, 'hauptverbrauchern': 12910, 'handelsschiffe': 12911, 'fabriken': 12912, 'enteignen': 12913, 'segeltexter': 12914, 'auswe': 12915, 'ungen': 12916, 'wissenschaftlichen': 12917, 'eisbohrungen': 12918, 'groenland': 12919, 'tausenden': 12920, 'geschwankt': 12921, 'menschengemachten': 12922, 'berechtigter': 12923, 'schadstoff': 12924, 'einzuordnen': 12925, 'schadstoffe': 12926, 'salzkristallen': 12927, 'reizklima': 12928, 'axe': 12929, 'missbrauchten': 12930, 'medienmaschine': 12931, 'angeworfen': 12932, 'gegenwae': 12933, 'sinnvolle': 12934, 'abermillionen': 12935, 'blicken': 12936, 'selbstkritisch': 12937, 'kontroverse': 12938, 'beschaedigtes': 12939, 'poeser': 12940, 'wacht': 12941, 'moerderideologie': 12942, 'asoziale': 12943, 'lobbytruppe': 12944, 'irrsinnigen': 12945, 'duempelst': 12946, 'befahren': 12947, 'vorbehalt': 12948, 'fahrzeug': 12949, 'eingetragene': 12950, 'geschwindgikeit': 12951, 'erwaegen': 12952, 'erlassen': 12953, 'cnn': 12954, 'sinnvollsten': 12955, 'beheizung': 12956, 'rotorblaetter': 12957, 'eisbildung': 12958, 'darstellt': 12959, 'windanlage': 12960, 'veraltete': 12961, 'gewissenlose': 12962, 'clique': 12963, 'erdenklichen': 12964, 'begehen': 12965, 'jubeln': 12966, 'erkenntnisse': 12967, 'glaubensthesen': 12968, 'einsturz': 12969, 'niederschlagung': 12970, 'koordinie': 12971, 'angriffs': 12972, 'berechtigt': 12973, 'verharmlosend': 12974, 'zugegeben': 12975, 'angestiegenen': 12976, 'wasse': 12977, 'emperaturen': 12978, 'anhand': 12979, 'computer': 12980, 'errechnet': 12981, 'beruht': 12982, 'ausgedachten': 12983, 'enteisungswagen': 12984, 'windraeder': 12985, 'meistens': 12986, 'pampa': 12987, 'weiten': 12988, 'anfliegen': 12989, 'begrenzt': 12990, 'enteisungsmittel': 12991, 'gruenkohl': 12992, 'schweinshaxen': 12993, 'enteisen': 12994, 'andreag799': 12995, 'iere': 12996, 'hiesse': 12997, 'elektrofahrzeuge': 12998, 'produzenten': 12999, 'entpuppt': 13000, 'phantomdebatte': 13001, 'treu': 13002, 'abloest': 13003, 'widerholt': 13004, 'staatsbesuch': 13005, 'produktion': 13006, 'ausmacht': 13007, 'unsinnigen': 13008, 'geisterdebatte': 13009, 'belege': 13010, 'rausgerotzt': 13011, 'naeherer': 13012, 'betrachtung': 13013, 'allesamt': 13014, 'zusammenfallen': 13015, 'unprofessionell': 13016, 'feinstaubs': 13017, 'megabatzen': 13018, '180': 13019, 'solche': 13020, 'vorgeschriebene': 13021, 'mindestgeschwindigkeit': 13022, 'kaysenius': 13023, 'fachkraeftemangel': 13024, 'senkt': 13025, 'ledigleich': 13026, 'verursacht': 13027, 'natuerliche': 13028, 'aufgewirbelter': 13029, 'salzkristalle': 13030, 'salzwasser': 13031, 'ostsee': 13032, 'schlag': 13033, 'agenten': 13034, 'eingeschleust': 13035, 'weggeputscht': 13036, 'geknebelt': 13037, 'lerneffekte': 13038, 'erbracht': 13039, 'frauentag': 13040, 'bikini': 13041, 'wahres': 13042, 'verderben': 13043, 'getrieben': 13044, 'anregung': 13045, 'stimmst': 13046, 'ueberein': 13047, 'keineswegs': 13048, 'zugrunde': 13049, 'hunge': 13050, 'aufrichtig': 13051, 'geschenken': 13052, 'reissen': 13053, 'perez': 13054, 'bloedsinnig': 13055, 'menschenverachtender': 13056, 'randomdudeger': 13057, 'iranischen': 13058, 'revolutionsgarden': 13059, 'moerderbande': 13060, 'wusstest': 13061, 'wolltest': 13062, 'laestern': 13063, 'weia': 13064, 'positionierung': 13065, 'sympathien': 13066, 'verspielen': 13067, 'tassen': 13068, 'verbrechers': 13069, 'geopolitischen': 13070, 'spin': 13071, 'einzulegen': 13072, 'rohstoffreichsten': 13073, 'ueberfaellt': 13074, 'zurueckgeschossen': 13075, 'ablaeufe': 13076, 'ueberwaeltigender': 13077, 'daraufhin': 13078, 'putzig': 13079, 'experiment': 13080, 'dolle': 13081, 'reichsten': 13082, 'abtreten': 13083, 'anzetteln': 13084, 'machtkampf': 13085, 'breiten': 13086, 'sozialdemokraten': 13087, 'gelungener': 13088, 'aachenerve': 13089, 'mitgezeichnet': 13090, 'stuetzen': 13091, 'regierungswechsel': 13092, 'wirrkoepfen': 13093, 'sozialistisch': 13094, 'putscht': 13095, 'anzettelt': 13096, 'wiederherstellung': 13097, 'abgeschlossen': 13098, 'natuerlichen': 13099, 'ablaufs': 13100, 'erheben': 13101, 'geknechteten': 13102, 'ochs': 13103, 'esel': 13104, 'interner': 13105, 'blanco70': 13106, 'embacubaaustria': 13107, 'putschregime': 13108, 'bekloppten': 13109, 'winden': 13110, 'oezlemademirel': 13111, 'durchkommen': 13112, 'ersetzt': 13113, 'absetzen': 13114, 'stange': 13115, 'tantiemen': 13116, 'lohndrueckerunternehmen': 13117, 'ueberbezahlt': 13118, 'amnestie': 13119, 'verkuenden': 13120, 'abgelaufen': 13121, 'ruinie': 13122, 'ausgepluende': 13123, 'verbrecherisches': 13124, 'stuerzt': 13125, 'ueberbezahlte': 13126, 'rueckzieher': 13127, 'fluchhafen': 13128, 'durchsta': 13129, 'eucopresident': 13130, 'eie': 13131, 'uebergangspraesidenten': 13132, 'exakter': 13133, 'parlamentspraesident': 13134, 'mehrheitsfuehrer': 13135, 'siegreichen': 13136, 'buendnisses': 13137, 'grotesk': 13138, 'ueberfaellig': 13139, 'praktoretiker': 13140, 'grundfalsch': 13141, 'diks': 13142, 'campbell': 13143, 'dup': 13144, 'bereitsschaft': 13145, 'ernsthafte': 13146, 'lektion': 13147, 'joesauerforreal': 13148, 'vollbeschaeftigung': 13149, 'immensen': 13150, 'nachholbedarf': 13151, 'lohnhoehe': 13152, 'dmark': 13153, 'aufwe': 13154, 'egmontegon': 13155, 'vmp2666': 13156, 'zwiebeifisch': 13157, 'ungedeckte': 13158, 'target2': 13159, 'salden': 13160, 'aufzuhaeufen': 13161, 'ausgeglichene': 13162, 'sterberate': 13163, 'merkwuerdige': 13164, 'gruppeneinteilung': 13165, 'serbien': 13166, 'top6': 13167, 'weltrangliste': 13168, 'dritt': 13169, 'klassigen': 13170, 'endgegen': 13171, 'grafspee8': 13172, 'profraika': 13173, 'dreckigen': 13174, 'ueberkommt': 13175, 'blanke': 13176, 'ungezuegelte': 13177, 'aud': 13178, 'unmenschlichen': 13179, 'gruenebundestag': 13180, 'geloest': 13181, 'dreister': 13182, 'unverfrorener': 13183, 'feuchte': 13184, 'aufrechte': 13185, 'kursie': 13186, 'taucht': 13187, 'potomaker': 13188, 'abgeklae': 13189, 'bekloppte': 13190, 'klaussen': 13191, 'unseligen': 13192, 'vogelschiss': 13193, 'iannis': 13194, 'joseph00361604': 13195, 'wg12307': 13196, 'sicherheitsverwahrung': 13197, 'weggesper': 13198, 'relativie': 13199, 'unzensurie': 13200, 'finanzieren': 13201, 'uspd': 13202, '1922': 13203, 'uim': 13204, 'staatenlos': 13205, 'fun': 13206, 'audiosuechtiger': 13207, 'dreckschwein': 13208, 'elkampfredo': 13209, 'djanplsrb': 13210, 'kuenstlich': 13211, 'geschriebenen': 13212, 'abgerechnet': 13213, 'jagen': 13214, 'herzlichstes': 13215, 'beileid': 13216, 'verrotten': 13217, 'herren': 13218, 'clan': 13219, 'abzuschiebenden': 13220, 'scheinasylanten': 13221, 'aucxh': 13222, 'ausgeaschlafen': 13223, 'ekelhaftes': 13224, 'luegenpack': 13225, 'diue': 13226, 'auszufuehren': 13227, 'prominente': 13228, 'kecks': 13229, 'verbuendete': 13230, 'hundehassern': 13231, 'anschaffen': 13232, '666': 13233, 'ekelerregend': 13234, 'subjekte': 13235, 'unaufhaltsam': 13236, 'reschtstaatlichen': 13237, 'einhalt': 13238, 'ditip': 13239, 'jogoebel': 13240, 'alk': 13241, 'bildungsfernen': 13242, 'linkspopulist': 13243, 'arrogannte': 13244, 'frechheit': 13245, 'filme': 13246, 'nazus': 13247, 'gesaber': 13248, 'ueberfluessigen': 13249, 'ueberbezahlten': 13250, 'staatskosten': 13251, 'exibitionistischen': 13252, 'profilneurose': 13253, 'arbeitengehen': 13254, 'deutschewelle': 13255, 'dw': 13256, 'turkce': 13257, 'gruesst': 13258, 'murmeltier': 13259, 'alexf50451971': 13260, 'verfassungsfeind': 13261, 'abonennten': 13262, 'linksextreme': 13263, 'globaldefence': 13264, 'untereinander': 13265, 'weile': 13266, 'bemerkenswe': 13267, 'heiko31086906': 13268, 'kotzt': 13269, 'schwimmunterricht': 13270, 'fabrik': 13271, 'schweinefleisch': 13272, 'verarbeitet': 13273, 'gottesdienst': 13274, 'geschichtsbuecher': 13275, 'enddecken': 13276, 'ruecktrittsforderungen': 13277, 'allerwe': 13278, 'esten': 13279, 'buergschaften': 13280, 'bahnhofsklatscher': 13281, 'durchgestochenen': 13282, 'betreffend': 13283, 'aufgeraeumt': 13284, 'googlede': 13285, 'haeme': 13286, 'beeintraechtigungen': 13287, 'deowerhess': 13288, 'franzneuman75': 13289, 'felimaus99': 13290, 'linksdrehender': 13291, 'verschwoerungstheoretiker': 13292, 'verbots': 13293, 'meinungsmanipulationsfetischisten': 13294, 'klopapier': 13295, 'zerreissen': 13296, 'geschweige': 13297, 'geschichtlich': 13298, 'nachgewiesene': 13299, 'theorien': 13300, 'akzeptieren': 13301, 'geleichen': 13302, 'blaupausen': 13303, 'dritten': 13304, 'resistent': 13305, 'linksdrehende': 13306, 'denkkonzept': 13307, 'ermuedend': 13308, 'naeckigen': 13309, 'realitaetsverweigerern': 13310, 'pferdebremsen': 13311, 'wehr': 13312, 'goebels': 13313, 'kommunist': 13314, 'spitzel': 13315, 'sozialistischhen': 13316, 'soldatenraete': 13317, 'lautsprecher': 13318, 'langstrumpf': 13319, 'zuzuordnen': 13320, 'spinnern': 13321, 'ueberlege': 13322, 'entschluss': 13323, 'geistiges': 13324, 'gleicht': 13325, 'eintagsfliege': 13326, 'unbestrittene': 13327, 'lieblingszeitung': 13328, 'einschlaegige': 13329, 'besitzbuerge': 13330, 'mussolinis': 13331, 'zugewandt': 13332, 'nationalistische': 13333, 'hinzugefuegt': 13334, 'nachher': 13335, 'aufgepasst': 13336, 'wuesstest': 13337, 'mittelmass': 13338, 'profilneurotiker': 13339, 'begrenzten': 13340, 'faehigkeiten': 13341, 'klee': 13342, 'lobt': 13343, 'gegenargumente': 13344, 'ewigen': 13345, 'gebruell': 13346, 'erwiedern': 13347, 'wiederlegen': 13348, 'linksfaschist': 13349, 'begabung': 13350, 'pansens': 13351, 'lernst': 13352, 'sebst': 13353, 'absoluter': 13354, 'realitaetsverweigerer': 13355, 'wehrhaften': 13356, 'verbotsfestischisten': 13357, 'wiederstanswillen': 13358, 'entwickle': 13359, 'extremisten': 13360, 'stempeln': 13361, 'machtergreifung': 13362, 'butter': 13363, 'einschuechtern': 13364, 'folterlagen': 13365, 'hafen': 13366, 'erpressern': 13367, 'schleppern': 13368, 'gelegt': 13369, 'seelenverkaeufer': 13370, 'versenkt': 13371, 'beugen': 13372, 'aufnimmt': 13373, 'finanziellen': 13374, 'fluechtlingslawine': 13375, 'ibikus31': 13376, 'handschi2': 13377, 'umsturz': 13378, 'bruesselkratie': 13379, 'muslimisches': 13380, 'arbeitstiere': 13381, 'einwendet': 13382, 'islamistischen': 13383, 'endziehen': 13384, 'mitnehemen': 13385, 'bach': 13386, 'unterwerfen': 13387, 'beschimpfen': 13388, 'absurden': 13389, 'kruden': 13390, 'ansagen': 13391, 'unmoeglich': 13392, 'veranstalten': 13393, 'geiste': 13394, 'boykottieren': 13395, 'hinnehmen': 13396, 'packen': 13397, 'schulden': 13398, 'besoffenen': 13399, 'drittklassigen': 13400, 'lineber98': 13401, 'proxnin': 13402, 'rasierwasser': 13403, 'symptomatik': 13404, 'danny23032000': 13405, 'bewaffnen': 13406, 'croqisunshine': 13407, 'gespalten': 13408, 'kommunistin': 13409, 'verraterin': 13410, 'michaelglaser0': 13411, 'kommandomensch': 13412, 'mbmnursingstaff': 13413, 'brigaden': 13414, 'menschenrechtler': 13415, 'schuldkomplex': 13416, 'abgrundtief': 13417, 'abzuschaffen': 13418, 'fischer': 13419, 'doktrin': 13420, 'verfassungsfeindlichen': 13421, 'provokativen': 13422, 'strauch': 13423, 'zufaellig': 13424, 'beschreiben': 13425, 'karawane': 13426, 'flohmarkt': 13427, 'yuma': 13428, 'lein': 13429, 'absurdesten': 13430, 'esoteriker': 13431, 'schwachmaten': 13432, 'claqueure': 13433, 'jurist': 13434, 'reihenweise': 13435, 'aufwand': 13436, 'derretzglaran': 13437, 'gewalttaeigen': 13438, 'schuechte': 13439, 'vorbereitet': 13440, 'sozialismaus': 13441, 'erdrutscha': 13442, 'goldfischlassa1': 13443, 'abgeschoben': 13444, 'signale': 13445, 'rumspricht': 13446, 'solida': 13447, 'amtsleiter': 13448, 'lpessen2017': 13449, 'meinungsterror': 13450, 'beeinflussen': 13451, 'trieft': 13452, 'gdphauptstadt': 13453, 'ferdi10709': 13454, 'gepampe': 13455, 'papenstiel': 13456, 'enpaessen': 13457, 'behandelt': 13458, 'arnd': 13459, 'diringer': 13460, 'stalkt': 13461, 'teweets': 13462, 'keinen': 13463, 'carismavan': 13464, '0911': 13465, 'robbie': 13466, 'zehntausen': 13467, 'schulschwaenzende': 13468, 'agen': 13469, 'umdeuten': 13470, 'brennstoffzelle': 13471, 'besteuern': 13472, 'quatscht': 13473, 'stigmatisierung': 13474, 'hohles': 13475, 'finanzielle': 13476, 'zuwendungen': 13477, 'rituell': 13478, 'beschnitten': 13479, 'ekelhafteste': 13480, 'doppelmoral': 13481, 'rituelle': 13482, 'tieres': 13483, 'einzelnen': 13484, 'vorzutragen': 13485, 'hauptstadt': 13486, 'hydraxxx2016': 13487, 'mariafu20903311': 13488, 'begegnet': 13489, 'gesichtern': 13490, 'dreckspolitikern': 13491, 'anlauf': 13492, 'einlauf': 13493, 'feinsten': 13494, 'gegendarstellung': 13495, 'bekenneder': 13496, 'zweitens': 13497, 'drittens': 13498, 'unangebraucht': 13499, 'provokant': 13500, 'futter': 13501, 'gegeangen': 13502, 'frechheiten': 13503, 'unverschaemtheiten': 13504, 'igno': 13505, 'igorpianist': 13506, 'entschuldigung': 13507, 'gesetzlicher': 13508, 'provokanten': 13509, 'katharsis939': 13510, 'angriffsflaeche': 13511, 'breitolatlivede': 13512, 'konsequenz': 13513, 'tichtig': 13514, 'nachtrag': 13515, 'haltungen': 13516, 'bedenlklich': 13517, 'terrororganisationen': 13518, 'marschieren': 13519, 'gebruellt': 13520, 'judenhass': 13521, 'auffordernde': 13522, 'leungnen': 13523, 'strafbares': 13524, 'antisemitisches': 13525, 'linksraus': 13526, 'gegengewalt': 13527, 'gegenstasi': 13528, 'keinkommunismus': 13529, 'fckddr': 13530, 'fckmauermoerder': 13531, 'rechtstaatlichen': 13532, 'medizin': 13533, 'pressekomferenzen': 13534, 'gerieten': 13535, 'farce': 13536, 'podium': 13537, 'sassen': 13538, 'angewiede': 13539, 'smoreland': 13540, 'begreift': 13541, 'wechseln': 13542, 'blablablub': 13543, 'climategate09': 13544, 'mtenne': 13545, 'haraldlaatsch': 13546, 'ronntex': 13547, 'linksextremismus': 13548, '0001f499': 13549, 'staende': 13550, 'selbstdarsteller': 13551, 'gebuehrend': 13552, 'wehret': 13553, 'anfaengen': 13554, 'familienurlaub': 13555, 'mitnehmen': 13556, 'abteil': 13557, 'demuetig': 13558, 'blaettchen': 13559, 'gegenantisemitismus': 13560, 'gegenheuchler': 13561, 'linksfaschistenraus': 13562, 'gegenausgrenzung': 13563, 'gegenhass': 13564, 'scheuers': 13565, 'stuhl': 13566, 'deut': 13567, 'bosse': 13568, 'pruefberichtes': 13569, 'geheimnisverrat': 13570, 'staatgefaehrdende': 13571, 'berichtes': 13572, 'staatsgefaehrdende': 13573, 'unbekannt': 13574, 'erstatten': 13575, 'bvs': 13576, 'eingestufte': 13577, 'schafspelz': 13578, 'demyboyka': 13579, 'nachvolluziehen': 13580, '02mo2': 13581, 'gesinnungsgenossen': 13582, 'diheler': 13583, 'geschaeften': 13584, 'zeitarbeiter': 13585, 'umsaetze': 13586, 'einkaufsmoeglichkeiten': 13587, 'kamers': 13588, 'blaetter': 13589, 'schildchen': 13590, 'grotenschlecht': 13591, 'wahlkampfhilfe': 13592, 'mariomayl': 13593, 'verbessern': 13594, 'wordpressdotcom': 13595, 'italien': 13596, 'kauder': 13597, 'abservie': 13598, 'betaetigungsfeld': 13599, 'autorisie': 13600, 'hasser': 13601, 'populistischer': 13602, 'angehoe': 13603, 'anzutun': 13604, 'shiwa': 13605, 'waltraud': 13606, 'dreckssender': 13607, 'strippen': 13608, 'boykottiere': 13609, 'probordernation': 13610, 'hattet': 13611, 'versemmelt': 13612, '67': 13613, 'schweinereien': 13614, 'steigbuegelhalter': 13615, 'warnen': 13616, 'drohen': 13617, 'plenum': 13618, 'abgrenzung': 13619, 'verfassungsfeinden': 13620, 'demokratiefeinden': 13621, 'umstuerzlern': 13622, 'sinngem': 13623, 'aussagte': 13624, 'juedin': 13625, 'roem': 13626, 'steuerzahlers': 13627, 'dienst': 13628, 'gehetzt': 13629, 'intolerante': 13630, 'fckhetze': 13631, 'fckgruene': 13632, 'hetzerraus': 13633, 'kommunistenraus': 13634, 'gruenelandtagby': 13635, 'antun': 13636, 'lebenslauf': 13637, 'verheiratet': 13638, 'wohltaten': 13639, 'huendische': 13640, 'feministinnen': 13641, 'gleichbehandlung': 13642, 'anweisen': 13643, 'drecksarbeiten': 13644, 'begeiste': 13645, 'anzuweisen': 13646, 'muellfrau': 13647, 'hof': 13648, 'parks': 13649, 'hilfsarbeiten': 13650, 'igmetall': 13651, 'eikehallitzky': 13652, 'buechler': 13653, 'evalettenbauer': 13654, 'gehring': 13655, 'anhang': 13656, 'antidemokratisch': 13657, 'hater': 13658, 'rechtskonservativen': 13659, 'heimatliebenden': 13660, 'erwehren': 13661, 'unnuetzen': 13662, 'buechlein': 13663, 'promoten': 13664, 'firma': 13665, 'ceo': 13666, 'berater': 13667, 'jetten': 13668, 'durchatmen': 13669, 'dieselkarossen': 13670, 'offizialdelikt': 13671, 'staatanwaltschaft': 13672, 'umbedingt': 13673, 'reschtstaatlichem': 13674, 'amts': 13675, 'officio': 13676, '152': 13677, '163': 13678, 'stpo': 13679, 'strafwuerdigen': 13680, 'sachverhaltes': 13681, 'offizialdelikte': 13682, 'offizialprinzip': 13683, 'prozessmaxime': 13684, 'strafverfahren': 13685, 'unterliegen': 13686, 'antragsdelikten': 13687, 'antragsberechtigt': 13688, 'derjenige': 13689, 'geschaedigter': 13690, 'hervorgeht': 13691, 'frist': 13692, 'antragstellung': 13693, 'gesetzlich': 13694, '77e': 13695, 'strafgesetzbuches': 13696, '158': 13697, 'veranke': 13698, 'firefly249942': 13699, 'gebeugt': 13700, 'hxjulia': 13701, 'injafd': 13702, 'meeenschengemachter': 13703, 'regenmann': 13704, 'till': 13705, 'consuelaputze': 13706, 'spotty72': 13707, 'lahgaza1': 13708, 'gewaltsame': 13709, 'exzesse': 13710, 'wooow': 13711, 'naziueberwachungsfaschistenscheisse': 13712, 'schizo': 13713, 'triggern': 13714, 'virgen48': 13715, 'langguthalex': 13716, '69': 13717, 'guru': 13718, 'medikamentoes': 13719, 'einstelln': 13720, 'wirste': 13721, 'getrigge': 13722, 'niedlich': 13723, 'noafd87prozent': 13724, 'trigge': 13725, 'ergenju': 13726, 'straehnen': 13727, 'veranda': 13728, 'schreibste': 13729, 'krueger': 13730, 'kud': 13731, 'klimaglaeubiger': 13732, 'quasseltier': 13733, 'meddlboy': 13734, 'vorlesungen': 13735, 'knutsch': 13736, 'ladymcmuffin': 13737, 'schreibn': 13738, 'markbrandis1968': 13739, 'vonerlenbach': 13740, 'schattn': 13741, 'schwachkoepfin': 13742, 'sinnbefreiter': 13743, 'gutmensch': 13744, 'weltbekannt': 13745, 'faschistoide': 13746, 'gutschreiben': 13747, 'herrlicher': 13748, 'dummschwatzfaschist': 13749, 'haendchen': 13750, 'nazifresse': 13751, 'besserer': 13752, 'spuer': 13753, 'eales': 13754, 'versteck': 13755, 'schwaetzer': 13756, 'mpetuhoff': 13757, 'schein': 13758, 'humanen': 13759, 'jankosamm': 13760, 'weggecrackt': 13761, 'versprochen': 13762, 'diese': 13763, 'rumspuken': 13764, 'mehren': 13765, 'meinungsmache': 13766, 'tiefsten': 13767, 'bayernrocker': 13768, 'bwler': 13769, 'schneef': 13770, 'loeckchen': 13771, 'biddetanke': 13772, 'thremeine': 13773, 'ueberlebt': 13774, 'gawrilaghul': 13775, 'lebenswichtig': 13776, 'wasserversorgung': 13777, 'riesen': 13778, 'schritte': 13779, 'machte': 13780, 'munkelt': 13781, 'ausgenommen': 13782, 'wegschauen': 13783, 'rosalescaroline': 13784, 'lejeune': 13785, 'klappse': 13786, 'kuh': 13787, 'jeremiah': 13788, 'messias': 13789, 'loesungsansatz': 13790, 'schikanen': 13791, 'nichtmediale': 13792, 'betreffen': 13793, 'laufbahnen': 13794, 'veraendern': 13795, 'beeinflusst': 13796, 'keult': 13797, 'frenseh': 13798, 'trol': 13799, 'mmenschen': 13800, 'seelenloser': 13801, 'geistiger': 13802, 'krueppel': 13803, 'unwuerdiger': 13804, 'jawohl': 13805, 'obersturmbannfuehrer': 13806, 'oehmm': 13807, 'weisses': 13808, 'huckfeldtoliver': 13809, 'kaltnase': 13810, 'koksen': 13811, 'klappts': 13812, 'gefreut': 13813, 'stimmts': 13814, 'lump': 13815, 'erzhngswndrlnd': 13816, 'bildungsklick': 13817, 'hibtag': 13818, 'katjasuding': 13819, 'cad59': 13820, 'nicolabeerfdp': 13821, 'waus': 13822, 'empfindlich': 13823, 'suchste': 13824, 'ruhige': 13825, 'zelle': 13826, 'endspannst': 13827, 'blumen': 13828, 'rosen': 13829, 'blumnstattflaschn': 13830, 'bemvamlebac': 13831, 'punishedzionist': 13832, 'geier': 13833, 'melan': 13834, 'kaidiekmann': 13835, 'jessenphil': 13836, 'norabeckershaus': 13837, 'axeltelzerow': 13838, 'jenifergirke': 13839, 'fraaanie': 13840, 'kalifat': 13841, 'aufgeteilt': 13842, 'projizieren': 13843, 'gesteige': 13844, 'unheilbar': 13845, 'falconsmember': 13846, 'taraxata1': 13847, 'rrrrechts': 13848, 'kanns': 13849, 'glewamm': 13850, 'frazionetoskana': 13851, 'wuerdet': 13852, 'karambadiaby': 13853, 'scaramouche1989': 13854, 'untoten': 13855, 'violingi': 13856, 'patriotgames123': 13857, 'kapitalistenschmutz': 13858, 'ep21': 13859, 'insceleris': 13860, 'lumpigsterlump': 13861, 'gewichtigen': 13862, 'randnischen': 13863, 'erzaehl': 13864, 'trollst': 13865, 'medtech': 13866, 'klimke': 13867, 'nuss': 13868, 'thebacktab': 13869, 'zeugenaussage': 13870, 'spar': 13871, 'kanthoelzer': 13872, 'vorzeigefaschist': 13873, 'nazihorden': 13874, 'ueberrannt': 13875, 'trittin': 13876, 'brodnig': 13877, 'hnsgr': 13878, 'orpiieus': 13879, 'freust': 13880, 'gutheisst': 13881, 'selbsthass': 13882, 'demokratiefeind': 13883, 'polsprung': 13884, 'verursachten': 13885, 'gottchen': 13886, 'kennste': 13887, 'kein': 13888, 'alkohol': 13889, 'sinnfreie': 13890, 'deutschfeindliche': 13891, 'zaehne': 13892, 'knutschi': 13893, 'sahinb123': 13894, 'naaaazis': 13895, 'eidigungsfaehigkeit': 13896, 'entzogen': 13897, 'bereitet': 13898, 'besserdasist': 13899, 'bezahlter': 13900, 'hochmut': 13901, 'punchracism': 13902, 'marcboe': 13903, 'frauenkleidern': 13904, 'sexobjekte': 13905, 'radioberlin': 13906, '88': 13907, 'linkenazisraus': 13908, 'philippkoester': 13909, 'klaer': 13910, 'hofnarr': 13911, 'digitalfarmer3': 13912, 'quadrateule': 13913, 'flach': 13914, 'einzeller': 13915, 'schellno': 13916, 'zwergnase': 13917, 'gj': 13918, 'gegenrede': 13919, 'linksjugend': 13920, 'lusttropfen': 13921, 'ueberalltv': 13922, 'huebscher': 13923, 'herbeifantasieren': 13924, 'erzaehler': 13925, 'verband': 13926, 'onestepbayond': 13927, 'nohatespeechde': 13928, 'f95': 13929, 'fritzde': 13930, 'dgbjugend': 13931, 'regierungbw': 13932, 'grenzenlos': 13933, 'prinzipien': 13934, 'abgewi': 13935, 'schaftet': 13936, 'wahrsten': 13937, 'geldhuren': 13938, 'schulhof': 13939, 'beschreibe': 13940, 'unfreien': 13941, 'hugh': 13942, 'hormonelles': 13943, 'eierstoecke': 13944, 'abklemmen': 13945, 'ruempfen': 13946, 'hittler': 13947, 'entnazifizieren': 13948, 'keivaneenpapa': 13949, 'teilt': 13950, 'implizie': 13951, 'reichskrueppelflagge': 13952, 'staatnverbundsdingens': 13953, 'eidigung': 13954, 'staetigen': 13955, 'zerfall': 13956, 'luegengebaeudes': 13957, 'neurologisches': 13958, 'verfallen': 13959, 'fakenewsmonopol': 13960, 'm4yl0n': 13961, 'gamefreake89': 13962, 'karlengels9': 13963, 'keiner': 13964, 'henriettereker': 13965, 'ddbnews': 13966, 'vv': 13967, 'denkenden': 13968, 'fasst': 13969, 'bodoramelow': 13970, 'ferdinandscholz': 13971, 'endern': 13972, 'amadeuantonio': 13973, 'renatebiller': 13974, 'nazimethoden': 13975, 'victoria': 13976, 'gabrishhka': 13977, 'alpen': 13978, 'oo': 13979, 'obersturmband': 13980, 'verhaltensweisen': 13981, 'behalte': 13982, 'geschmueckten': 13983, 'unsaeglicher': 13984, 'propagie': 13985, 'windeln': 13986, 'mille': 13987, 'jue': 13988, 'bento': 13989, 'verabschiede': 13990, 'kampflos': 13991, 'genderverwir': 13992, 'huepfedings': 13993, 'bestaetigende': 13994, 'kraulkraul': 13995, 'schaetzchen': 13996, 'hamma': 13997, 'warscheinlich': 13998, 'schreibenwiegehoe': 13999, 'schnellstmoeglich': 14000, 'mpoessel': 14001, 'townspandau': 14002, 'nennst': 14003, 'simple': 14004, 'schmaehtaktik': 14005, 'rassistisch': 14006, 'selbstverliebte': 14007, 'endzeit': 14008, 'salonbolschewik': 14009, 'kultureller': 14010, 'vorspielen': 14011, 'grundwe': 14012, 'sjws': 14013, 'poc': 14014, 'uh': 14015, 'feste': 14016, 'daemonisieren': 14017, 'schrittlich': 14018, 'gestapo': 14019, 'bissl': 14020, 'ryhminsimon': 14021, 'freeride233': 14022, 'preistaube': 14023, 'galactica2019': 14024, 'wuestenprophet': 14025, 'musicalia88': 14026, 'enna': 14027, 'needreve': 14028, 'verschwulten': 14029, 'zeitschlaufe': 14030, 'meinestimmede': 14031, 'hattermir': 14032, 't4mike': 14033, 'r05515451': 14034, 'blosse': 14035, 'frauenfeindliche': 14036, 'gruetzi': 14037, 'chrysis391': 14038, 'findest': 14039, 'durchmultikultisie': 14040, 'umsetzung': 14041, 'geisteskranke': 14042, 'ueberblicken': 14043, 'montagen2002': 14044, 'kontrollierbar': 14045, 'hoher': 14046, 'sympathie': 14047, 'truppe': 14048, 'haeltst': 14049, 'entschluesseln': 14050, 'acdc': 14051, 'platten': 14052, 'rueckwae': 14053, 'trampelt': 14054, 'denunzieren': 14055, 'schluesse': 14056, 'vermeidest': 14057, 'verblendung': 14058, 'spiegeln': 14059, 'sosse': 14060, 'rumnuckelst': 14061, 'verunglimpfen': 14062, 'goebbelz': 14063, 'moechtest': 14064, 'eig': 14065, 'vereinigen': 14066, 'muselmanischen': 14067, 'merkts': 14068, 'morbidisten': 14069, 'betroffene': 14070, 'naehere': 14071, 'ausfuehrungen': 14072, 'totenschein': 14073, 'maedchenchoeren': 14074, 'spaerlicher': 14075, 'anzutreffen': 14076, 'beginnst': 14077, 'morbide': 14078, 'keinhelfer': 14079, 'inklusion': 14080, 'chanukka': 14081, 'ottowelz': 14082, 'smandel': 14083, 'panemetc62': 14084, 'choisy65730826': 14085, 'juedischeonline': 14086, 'schimmer': 14087, 'ssler': 14088, 'nazinazinazi': 14089, 'labbi10': 14090, 'gregorgrz': 14091, 'rahaase': 14092, 'mobbe': 14093, 'damitdasklaas': 14094, 'officiallyjoko': 14095, 'lobotomit': 14096, 'seelenloses': 14097, 'affenkind': 14098, 'frauzora': 14099, 'bheinzlmaier': 14100, 'toni': 14101, 'rambold': 14102, 'brunzpichler': 14103, 'echsenschwanz': 14104, 'zombii': 14105, 'defense': 14106, 'hohlraumsausen': 14107, 'annettecreft': 14108, 'grass': 14109, 'anbauen': 14110, 'ahh': 14111, 'dankebitte': 14112, 'neeein': 14113, '4445': 14114, 'entfolgen': 14115, 'affenstaat': 14116, 'maennerwelt': 14117, 'armseelig': 14118, 'mequoh': 14119, 'ueberzahl': 14120, 'leiderleider': 14121, 'andern': 14122, 'maehh': 14123, 'auslegung': 14124, 'haemme': 14125, 'koepfe': 14126, 'unterdruecken': 14127, 'patrickgensing': 14128, 'faktenverdreher': 14129, 'schleuderste': 14130, 'berufenen': 14131, 'auswerfung': 14132, 'faktenfinder': 14133, 'nachlaessig': 14134, 'facker': 14135, 'vorgenommen': 14136, 'stiehl': 14137, 'trollen': 14138, 'aepfel': 14139, 'messermann': 14140, 'roma': 14141, 'kulturkreis': 14142, 'haeh': 14143, 'suse1603': 14144, 'huebsche': 14145, 'baut': 14146, 'sozialisisches': 14147, 'ekelhaftigkeit': 14148, 'feindbildes': 14149, 'roffen': 14150, 'hgw': 14151, 'ottoberger6': 14152, 'nikawrd': 14153, 'reinemachfrau': 14154, 'axelpatriot': 14155, 'rausrutscht': 14156, 'narzistische': 14157, 'supi': 14158, 'tolleranzschwellen': 14159, 'ramadan': 14160, 'zippelklatscher': 14161, 'schreienden': 14162, 'gottfuehrer': 14163, 'legitimie': 14164, 'kinderliebhaber': 14165, 'ramadant': 14166, 'schwestern': 14167, 'morkramer': 14168, 'rudel': 14169, 'drphiloponus': 14170, 'neos': 14171, 'volkspa': 14172, 'sebastiankurz': 14173, 'lobotimit': 14174, 'nachuntersuchung': 14175, 'mjsa1980': 14176, 'promille': 14177, 'rausrechnen': 14178, 'probagandajochen': 14179, 'mysterium': 14180, 'arbeitslos': 14181, 'neuwahlen': 14182, 'schlaukoepfe': 14183, 'rotzt': 14184, 'solang': 14185, 'niederschreibe': 14186, 'ists': 14187, 'hts': 14188, '1312': 14189, 'gelaber': 14190, 'griff': 14191, 'gorgorott1': 14192, 'stfemini': 14193, 'schakschuka': 14194, 'gefruehstueckt': 14195, 'konstant': 14196, 'antids': 14197, 'mcdrivenina': 14198, 'wohnzimmer': 14199, 'eingerahmtes': 14200, 'erwaehnten': 14201, 'lebensschuetzern': 14202, 'waers': 14203, 'spruechebuch': 14204, 'abgeschrieben': 14205, 'kinderfotos': 14206, 'emls': 14207, 'adoptivkindern': 14208, 'wichtigster': 14209, 'geklappt': 14210, 'antifascistfox': 14211, 'furry': 14212, 'schreibender': 14213, 'schmutzvilles': 14214, 'regenbogenbaesse': 14215, 'geballe': 14216, 'anzueignen': 14217, 'tomson1611': 14218, 'prollzecke': 14219, 'materialistgrl': 14220, 'arnoxcao': 14221, 'euros': 14222, '1972': 14223, 'aelteste': 14224, 'sebstverwaltete': 14225, 'jugendzentrum': 14226, 'berlins': 14227, 'yuppiedreck': 14228, 'jugendkultur': 14229, 'leidet': 14230, 'oberwallstr': 14231, 'rent': 14232, 'coworkingspaces': 14233, 'geschmissen': 14234, 'potse': 14235, 'schoeneberg': 14236, 'memepotential': 14237, 'gelbwestenrevolution': 14238, 'jw': 14239, 'ehrenlos': 14240, 'julezietta': 14241, '420rheisterkamp': 14242, 'hmu': 14243, 'goennt': 14244, 'stabile': 14245, 'texten': 14246, 'dus': 14247, 'competitive': 14248, 'wichtigeres': 14249, 'kathamarinaa': 14250, 'ultimate': 14251, 'bros': 14252, 'gezockt': 14253, 'gamerbubble': 14254, 'paue': 14255, 'weet': 14256, 'wundervoll': 14257, 'crxxkedminds': 14258, 'passe': 14259, 'brudi': 14260, 'ifikat': 14261, 'entstehen': 14262, 'fuszpiis': 14263, 'anderem': 14264, 'besagte': 14265, 'gentrifizie': 14266, 'freiraeume': 14267, 'einkaufszentren': 14268, 'eigentumswohnungen': 14269, 'beschissener': 14270, 'druko': 14271, 'gag': 14272, 'durstabteilung': 14273, 'konstikov': 14274, 'allem': 14275, 'subkukturellen': 14276, 'einkaufszentrum': 14277, 'hotels': 14278, 'feenwald': 14279, 'zielen': 14280, 'weste': 14281, 'bevors': 14282, 'seitenwechsel': 14283, 'rechtsantideutsche': 14284, 'scheise': 14285, 'memegruenden': 14286, 'edger': 14287, 'edgebreak': 14288, 'shamen': 14289, 'konsum': 14290, 'nope': 14291, 'straight': 14292, 'edge': 14293, 'kneipenjenki': 14294, 'unterschiedliche': 14295, 'trinkst': 14296, 'durchschnittliche': 14297, 'siffschaftsottos': 14298, 'gamern': 14299, 'nunmal': 14300, 'scheisze': 14301, 'energieverschwendung': 14302, 'idole': 14303, 'betrachtet': 14304, 'favst': 14305, 'aktueller': 14306, 'grind': 14307, 'abgewandelte': 14308, 'electropunk': 14309, 'lyrics': 14310, 'pahantasieland': 14311, 'flagge': 14312, 'emoji': 14313, '0001f1f8': 14314, 'eingeben': 14315, 'unfair': 14316, 'zocken': 14317, 'alkoholkonsum': 14318, 'staubsauger': 14319, 'pin': 14320, 'reingeruesselt': 14321, 'verpetz': 14322, 'regulaer': 14323, 'verbunden': 14324, 'upsi': 14325, '187': 14326, 'kraut': 14327, 'ueberglorifizierung': 14328, 'orangenschalentweet': 14329, 'franzhuber': 14330, 'witziger': 14331, 'vulgaerbahamit': 14332, 'oida': 14333, 'allegegenalle': 14334, 'ehrenmann': 14335, 'retweets': 14336, 'bestaerken': 14337, 'finds': 14338, 'witzigste': 14339, 'tr4sh': 14340, 'coutur3': 14341, 'kriterium': 14342, 'aubergine': 14343, 'heulaccount': 14344, 'krokodil': 14345, 'pffff': 14346, 'stick': 14347, 'poken': 14348, 'rauskam': 14349, 'ichs': 14350, 'tatto': 14351, 'weils': 14352, 'annehmen': 14353, 'wolkendark': 14354, 'arschloechern': 14355, 'outcall': 14356, '0001f495': 14357, 'widerlichen': 14358, 'anzuschauen': 14359, 'buttons': 14360, 'drueckt': 14361, 'interagie': 14362, 'widerliche': 14363, 'hundesohn': 14364, 'klemmen': 14365, 'gamerhass': 14366, 'ironischer': 14367, 'nurzumballernda': 14368, 'laster': 14369, 'suizidai': 14370, 'beduerfnis': 14371, 'kackt': 14372, 'schnaps': 14373, 'trinkt': 14374, 'praeferenzen': 14375, 'stelln': 14376, 'ironiebasis': 14377, 'interpretation': 14378, 'schusswaffen': 14379, 'wuerd': 14380, 'loesungsansaetze': 14381, 'derkieinebauer': 14382, 'goethe': 14383, 'praktisch': 14384, 'toedlich': 14385, 'francois': 14386, 'rankommen': 14387, 'humorvoll': 14388, 'bedrohung': 14389, 'penetrativen': 14390, 'oralen': 14391, 'reservie': 14392, 'hetzjagd': 14393, 'mitkriegen': 14394, 'freesubi': 14395, 'sputnikschlaeft': 14396, 'andis': 14397, 'pathie': 14398, 'unangenehmerweise': 14399, 'davidstern': 14400, 'scouts': 14401, 'pulli': 14402, 'roter': 14403, 'hellbraune': 14404, 'vollba': 14405, 'beanie': 14406, '2150': 14407, 'peep': 14408, 'sprachnachrichten': 14409, 'getippt': 14410, 'verschwand': 14411, 'zuegig': 14412, '1909': 14413, 'jacke': 14414, 'jeans': 14415, 'filmt': 14416, 'zoomt': 14417, 'grumpyvkitten': 14418, 'nervig': 14419, 'aufgegeben': 14420, 'survived': 14421, 'pepp': 14422, '2k18': 14423, 'tattoowieren': 14424, 'fus': 14425, 'liquid': 14426, 'ecstasy': 14427, 'mikeyyy328': 14428, 'judenwiderstand': 14429, 'ozweego': 14430, 'gepoebelt': 14431, 'beidem': 14432, 'fliegendehummer': 14433, 'air': 14434, 'geschmacklose': 14435, 'normies': 14436, 'blink': 14437, '182': 14438, 'small': 14439, 'things': 14440, 'durchpeppten': 14441, 'radikalisier': 14442, 'baller': 14443, 'israelfahne': 14444, 'giorap90': 14445, 'brokeaberaggro': 14446, 'gendernotfound': 14447, 'versacehottie93': 14448, 'ughvld': 14449, 'rrreveuse': 14450, 'andursten': 14451, 'brokeaberdope': 14452, 'stabil': 14453, 'theophilusepsil': 14454, 'konstiha': 14455, 'penisgroesse': 14456, 'rosanorbe': 14457, 'gefolgschaft': 14458, 'fussgaengerins': 14459, 'zrndng': 14460, 'ruecksichtslos': 14461, 'ps': 14462, 'tabletten': 14463, 'beobachte': 14464, 'hddoger': 14465, 'titania60': 14466, 'in01001110': 14467, 'groessere': 14468, 'begeben': 14469, 'wanderung': 14470, 'atlasgebirge': 14471, 'reisegruppe': 14472, 'beliebtes': 14473, 'wandergebiet': 14474, 'ahnen': 14475, 'scheine': 14476, 'hervorragend': 14477, 'hochgearbeitet': 14478, 'wechselte': 14479, 'vorgeworfen': 14480, 'akademiker': 14481, 'peterschiefer3': 14482, 'verkehrsmittel': 14483, 'mitfahren': 14484, 'inselpastor': 14485, 'normalen': 14486, 'volkskammerwahlen': 14487, 'andyalt1': 14488, 'ikel13': 14489, 'piratenulm': 14490, 'tarif': 14491, 'juso': 14492, '60er': 14493, 'herrschley': 14494, 'lnnen': 14495, 'wt': 14496, 'brennmittel': 14497, 'atomkraft': 14498, 'erneuerbare': 14499, 'ubaehr': 14500, 'michfleischer': 14501, 'stade': 14502, 'horst': 14503, 'bloggt': 14504, 'fettere': 14505, 'reallive404': 14506, 'europaistdieantwo': 14507, 'einsames': 14508, 'politischem': 14509, 'flugzeugtraeger': 14510, 'spitzenverdiener': 14511, 'urheberrechtsrichtlinie': 14512, 'anlasten': 14513, 'richtlinie': 14514, 'mdep': 14515, 'foerderung': 14516, 'plaetzen': 14517, 'grundrente': 14518, 'kritiker': 14519, 'vorkaempfer': 14520, 'konsequent': 14521, 'cc': 14522, 'wahlkampfspd': 14523, 'derclitourist': 14524, 'pflege': 14525, 'sma': 14526, 'ie1944': 14527, 'einkommens': 14528, 'geschlechtern': 14529, 'dirkdiedrich': 14530, 'ploen': 14531, 'rendsburg': 14532, 'eckernfoerde': 14533, 'herzaubern': 14534, 'bahnstecken': 14535, 'option': 14536, 'eck': 14537, 'stadtregionalbahn': 14538, 'fahrverbot': 14539, 'umweg': 14540, 'dorfstrasse': 14541, 'verkehrswende': 14542, 'torbenmichler': 14543, 'petraneumanneck': 14544, 'skowron': 14545, 'klimaneutral': 14546, 'leitest': 14547, 'mobilitaet': 14548, 'moneyma27665627': 14549, 'alters': 14550, 'griniarn': 14551, 'koalitionsve': 14552, 'ueberbringer': 14553, 'schlechten': 14554, 'sensoren': 14555, 'umbauen': 14556, 'preetz': 14557, 'einschaetzen': 14558, 'mknhofheim': 14559, 'talenten': 14560, 'siegba': 14561, 'gemeinwesen': 14562, 'spdmuenchen': 14563, 'gossip': 14564, 'pausanias': 14565, 'steuergelder': 14566, 'ausgeben': 14567, 'seus': 14568, 'mehrheiten': 14569, 'spdkiel': 14570, 'testlauf': 14571, 'stefanjoens': 14572, 'ulrichschneider': 14573, 'bmas': 14574, 'tobiwan80': 14575, 'dianaownz100': 14576, 'arbeitsbedingungen': 14577, 'zwangsarbeit': 14578, 'auftraege': 14579, 'fl40000': 14580, 'jubilaeum': 14581, 'cooler': 14582, 'spindoctor': 14583, 'mb': 14584, 'atomkraftwerken': 14585, 'endlagerung': 14586, 'kohlestrom': 14587, '155': 14588, 'gleichstellung': 14589, 'kilian54957329': 14590, 'scbachmann': 14591, 'lohntransparenz': 14592, 'bjoernthoroe': 14593, 'linkspa': 14594, '2grimreaper3': 14595, 'bestuende': 14596, 'aermere': 14597, 'gezwungen': 14598, 'privatsphaere': 14599, 'reichere': 14600, 'ingonorge': 14601, 'klimakrise': 14602, 'zaehmen': 14603, 'lebenswe': 14604, 'prefec2': 14605, 'herausforderung': 14606, 'hager': 14607, 'unblutigen': 14608, 'kaiserreich': 14609, 'gemetzel': 14610, 'eidigt': 14611, 'schatzipaaf66': 14612, '1918': 14613, 'protestzug': 14614, 'matrosen': 14615, 'befreiung': 14616, 'claasen': 14617, 'nils': 14618, 'sozipod': 14619, 'renomie': 14620, 'energiewende': 14621, 'oekologisch': 14622, 'dumpingloehnen': 14623, 'konkurrieren': 14624, 'geeinten': 14625, 'schtegna': 14626, 'fraukorbik': 14627, 'faenden': 14628, 'exbgm': 14629, 'udobullmann': 14630, 'matrosenaufstand': 14631, 'meilenweit': 14632, 'vorgestellt': 14633, 'aussprache': 14634, 'wahlkonferenz': 14635, 'spitzenkandidatur': 14636, 'ausbeutung': 14637, 'zulassen': 14638, 'europaweit': 14639, 'ausgespielt': 14640, 'arbeitern': 14641, 'sozialpolitik': 14642, 'kaunlaran1': 14643, 'captainkling': 14644, 'simonkaatz': 14645, 'kaffeeringe': 14646, 'sebastianjahnz': 14647, 'tools': 14648, 'zielgerichteter': 14649, 'bedienbarkeit': 14650, 'gekape': 14651, 'huerde': 14652, 'goetzborche': 14653, 'krewor': 14654, 'niklaswillma': 14655, 'evma2000': 14656, 'landesverband': 14657, 'mitfahrgelegenheit': 14658, 'langejulian': 14659, 'julian': 14660, 'kaeffchen': 14661, 'josefzweck14': 14662, 'ersaufen': 14663, 'bezahlbaren': 14664, 'hwlae': 14665, 'ralfstegner1': 14666, 'besprochen': 14667, 'pienkny': 14668, 'stefan2sander': 14669, 'einreichen': 14670, 'helmerkrane': 14671, 'macava': 14672, 'ferien': 14673, 'schlagfe': 14674, 'sympathisch': 14675, 'frischen': 14676, 'druecken': 14677, 'tvduell': 14678, 'ltwhessen': 14679, 'ihemsen': 14680, 'dguenther': 14681, 'cdush': 14682, 'rasmusandresen': 14683, 'ansprecht': 14684, 'kuemmern': 14685, 'hermannrass': 14686, 'gabihillerohm': 14687, 'stonie': 14688, 'buergerfah': 14689, 'anmelden': 14690, 'duemmer': 14691, 'sventeuber': 14692, 'gedankenlesen': 14693, 'kestlerimmob': 14694, 'eigentum': 14695, 'verpflichtet': 14696, 'gebrauch': 14697, 'zugleich': 14698, 'allgemeinheit': 14699, 'sozialcha': 14700, 'armutsrisiko': 14701, 'hermannehrhardt': 14702, 'vermieter': 14703, 'bevorzugen': 14704, 'hattenwir': 14705, '90ern': 14706, 'demografischen': 14707, 'braeuchten': 14708, 'fehleinschaetzung': 14709, 'brechstangenplanung': 14710, 'huebsch': 14711, 'wittglobal': 14712, 'volleralsgo': 14713, 'sonnabend': 14714, 'vormittag': 14715, 'steinmeier': 14716, 'kieler': 14717, 'gewuenscht': 14718, 'profebe': 14719, 'noelkramerspd': 14720, 'spdnds': 14721, 'wolfgangbaasch': 14722, 'cake': 14723, 'pops': 14724, 'spdfrauen': 14725, 'sitzende': 14726, 'anzuege': 14727, 'marioberger19': 14728, 'ueberzeug': 14729, 'munnigan': 14730, 'aufwendigen': 14731, 'aussichtsreichen': 14732, 'derpfahler': 14733, 'guenter1960': 14734, 'tinctoriu': 14735, 'sozialen': 14736, 'herausforderungen': 14737, 'sneustra': 14738, 'kostenfrei': 14739, 'kitageld': 14740, 'beitragfrei': 14741, 'lndtg': 14742, 'tjark': 14743, 'limmer': 14744, 'outerheaven1987': 14745, 'kooperationsverbot': 14746, 'klint': 14747, 'kitas': 14748, 'buerofloskeln': 14749, 'graciosa': 14750, 'arbeitsplaetze': 14751, 'abhaengen': 14752, 'keinem': 14753, 'wars': 14754, 'unterbezirken': 14755, 'cfuscus': 14756, 'thiloadamitz': 14757, 'schlegelvo': 14758, 'damit': 14759, 'schlechter': 14760, 'drwetti': 14761, 'njaehring': 14762, 'spdjevenstedt': 14763, 'progoko': 14764, 'reihefolge': 14765, 'ausgelost': 14766, '806': 14767, '107': 14768, 'mitgliedervotum': 14769, 'neujahrsempfang': 14770, 'anfngerfehler1': 14771, 'barbarella9876': 14772, 'stuetze': 14773, 'sondierungspapier': 14774, 'tschmitz': 14775, 'timhall42': 14776, '440': 14777, '1987': 14778, '1991': 14779, 'rohalderengar': 14780, 'schutz': 14781, 'flieht': 14782, 'gelte': 14783, 'fluehen': 14784, 'wur': 14785, 'abschotten': 14786, 'brummsumsel': 14787, 'hoenig': 14788, 'marco': 14789, 'faire': 14790, 'zusammenarbeiten': 14791, 'programme': 14792, 'svereine': 14793, 'kreisverbaende': 14794, 'vmedick': 14795, 'eivorstands': 14796, 'primaer': 14797, 'aufregen': 14798, 'terrabyte1973': 14799, 'atomunfall': 14800, 'uran': 14801, 'aufgebraucht': 14802, 'meere': 14803, 'robinloxley6': 14804, 'malpe': 14805, 'ms': 14806, 'pieper': 14807, 'serkan': 14808, 'agci': 14809, '1a': 14810, 'hessenspd': 14811, 'nordsee': 14812, 'kriegste': 14813, 'beelzeb31695946': 14814, 'ehrenaemter': 14815, 'danielreitzig': 14816, 'larsfetkoeter': 14817, 'steeilts': 14818, 'dattel': 14819, 'axelflasba': 14820, 'missverstaendlich': 14821, 'freistern': 14822, 'gerecht': 14823, 'beamte': 14824, 'selbststaendige': 14825, 'tinka3335': 14826, 'verkehrsminister': 14827, 'dobrinth': 14828, 'praagelmam': 14829, 'abfotografieren': 14830, 'soenke': 14831, 'rix': 14832, 'gustavg8': 14833, 'alexwagner': 14834, 'mitmachen': 14835, '98': 14836, 'freizeit': 14837, 'reconquista979': 14838, 'entlastet': 14839, 'gebuehren': 14840, 'stephanholowaty': 14841, 'selbstgaenger': 14842, 'claasrohmeyer': 14843, 'jugendverband': 14844, 'einsetzt': 14845, 'netter': 14846, 'heimfah': 14847, 'ruhiges': 14848, 'restwochenende': 14849, 'freundschaft': 14850, 'falken': 14851, 'mrmacsimon': 14852, 'coolkrsna': 14853, '1994': 14854, 'kurzarbeit': 14855, 'leiharbeit': 14856, 'commandelicious': 14857, 'gucks': 14858, 'rnawratil': 14859, 'ladet': 14860, 'landesvorstand': 14861, 'eivorstand': 14862, 'soetwas': 14863, 'sprecht': 14864, 'ergebnisse': 14865, 'eientwicklung': 14866, 'flensburg': 14867, 'svereins': 14868, 'workshop': 14869, 'besagt': 14870, 'einzubringen': 14871, 'ah': 14872, 'gewunde': 14873, 'rossmann': 14874, 'spdrlp': 14875, 'juttasteinruck': 14876, 'langner': 14877, 'herzliche': 14878, 'glueckwuensche': 14879, 'norden': 14880, 'ausgemurkselt': 14881, 'safari19655': 14882, 'konstruktiv': 14883, 'verschlaege': 14884, 'leitantrag': 14885, 'eingearbeitet': 14886, 'lavo': 14887, 'rederecht': 14888, 'einfacharne': 14889, 'ndrsh': 14890, 'ampel': 14891, 'raussuchen': 14892, 'dierehfeldt': 14893, '3x': 14894, 'honki': 14895, 'wan': 14896, 'bonki': 14897, 'itweet': 14898, 'nikkmachiavelli': 14899, 'niedrigste': 14900, 'arbeitslosenquote': 14901, '1993': 14902, '80000': 14903, 'sozialversicherungspflichtige': 14904, '2012': 14905, 'kleber': 14906, 'geschnueffelt': 14907, 'eigentlicher': 14908, 'rockkonze': 14909, 'dynamodresden': 14910, 'fanprojektdd': 14911, 'diesen': 14912, 'budget': 14913, 'palmer': 14914, 'ausgelastet': 14915, 'schaebigkeit': 14916, 'ueberbieten': 14917, 'mele30431606': 14918, 'dutschi': 14919, 'bmg': 14920, 'intelligenz': 14921, 'dorobaer': 14922, 'kernkompetenz': 14923, 'infrastruktur': 14924, 'flugtaxis': 14925, 'gebaut': 14926, 'adoesr': 14927, 'ausfaelle': 14928, 'nuhr': 14929, 'prozenten': 14930, 'emojis': 14931, 'konradlitschko': 14932, 'momentanen': 14933, 'rumopfern': 14934, 'nachhinein': 14935, 'unausgelastet': 14936, 'gesundheitsminister': 14937, 'schwieriges': 14938, 'lustigzumachen': 14939, 'unterschaetzt': 14940, 'ob': 14941, 'blockpolitik': 14942, 'deutschebankag': 14943, 'geschaefte': 14944, 'nielsannen': 14945, 'nachrichtenmagazin': 14946, 'govolunteer': 14947, 'entmutigen': 14948, 'nilzenburger': 14949, 'mrspepperoni': 14950, 'nervositaet': 14951, 'selbstbewusster': 14952, 'extremismus': 14953, 'hessenschau': 14954, 'tvtotal': 14955, 'prosieben': 14956, 'investigativ': 14957, 'satte': 14958, 'veraenderung': 14959, 'bestandteil': 14960, 'wait': 14961, 'laecherlichen': 14962, 'muskeljesus': 14963, 'christianhelms': 14964, 'light': 14965, 'bmvi': 14966, 'bdi': 14967, 'furchtlos': 14968, 'zuruecktritt': 14969, 'zentralen': 14970, 'kavanaugh': 14971, 'lunaliv89': 14972, 'glaubwuerdigkeitsproblem': 14973, 'bsp': 14974, 'kleve': 14975, 'rwepruegeltrupps': 14976, 'selbstreflexion': 14977, 'juliaschramm': 14978, 'bleibst': 14979, 'punkbln': 14980, 'olafscholz': 14981, 'manoevrie': 14982, 'muellhaufen': 14983, 'luschenspd': 14984, 'rinderspacher': 14985, 'dringendes': 14986, 'vernachlaessigt': 14987, 'deppendorfu': 14988, 'anonnewsde': 14989, 'hetzjagden': 14990, 'stundenlanges': 14991, 'wachen': 14992, 'ennolenze': 14993, 'entlassung': 14994, 'kloeckner': 14995, 'erscheinung': 14996, 'rikealexandra': 14997, 'belastbare': 14998, 'vorgelegt': 14999, 'inkaul': 15000, 'anzugtraeger': 15001, 'schlaegern': 15002, 'untragbar': 15003, 'fotiama': 15004, 'populisten': 15005, 'leiter': 15006, 'ausfaellen': 15007, 'disqualifizie': 15008, 'konradsybille': 15009, 'vonknoche': 15010, 'seehoferruecktritt': 15011, 'fink': 15012, 'samy': 15013, 'konfrontieren': 15014, 'gemeinsamkeiten': 15015, 'abgrenzungen': 15016, 'crashkurs': 15017, 'highflyer': 15018, 'vonnoeten': 15019, 'einschuechterung': 15020, 'menschenfeinde': 15021, 'abqualifizieren': 15022, 'lobbyarbeit': 15023, 'rheinland': 15024, 'pfaelzische': 15025, 'winzer': 15026, 'loop': 15027, 'zentrumspa': 15028, 'airjibeer': 15029, 'gastonstuttga': 15030, 'gegendemonstration': 15031, 'vorzugehen': 15032, 'dobrindt': 15033, 'zweifler': 15034, 'widerspricht': 15035, 'grundgesetzt': 15036, 'pilgrim': 15037, 'rosine': 15038, 'wahrheitsgemaess': 15039, 'rechtsstaatlichkeit': 15040, 'aufloesung': 15041, 'smisachsen': 15042, 'larsradau': 15043, 'annetteditte': 15044, 'sachsenbankrotterklaerung': 15045, 'populismuswelle': 15046, 'reiten': 15047, 'ratschlaege': 15048, 'saat': 15049, 'aufgeht': 15050, 'fotomodell': 15051, 'ritze': 15052, 'aufmarschieren': 15053, 'alexdierks1987': 15054, 'selbstwahrnehmung': 15055, 'fremdwahrnehmung': 15056, 'situationen': 15057, 'optimal': 15058, 'besorgten': 15059, 'verknuepft': 15060, 'nazidemo': 15061, 'lebenundlassen': 15062, 'mutschrewe': 15063, 'pecan1003': 15064, 'nazispeech': 15065, 'selbstentlarvend': 15066, 'gewalttaeter': 15067, 'panorama': 15068, 'vollversager': 15069, 'abdanken': 15070, 'schlimmes': 15071, 'inaschein': 15072, 'schweigende': 15073, 'gaenze': 15074, 'grossaufmarsch': 15075, 'b2705': 15076, 'kraftvolle': 15077, 'lieblingsbrit': 15078, 'communisminuk': 15079, 'solid': 15080, 'italienische': 15081, 'unermuetlich': 15082, 'eschenheimer': 15083, 'wasserwerfer': 15084, 'raeumpanzer': 15085, 'konsti': 15086, 'vorsichtige': 15087, 'schaetzung': 15088, 'demobeginn': 15089, 'demospitze': 15090, 'biegt': 15091, 'schumacher': 15092, 'hanauer': 15093, 'landstasse': 15094, 'uhlandstr': 15095, 'helikopter': 15096, 'kreist': 15097, 'einzelne': 15098, 'sperrzone': 15099, 'hektisch': 15100, 'zeil': 15101, 'lets': 15102, 'crash': 15103, 'opening': 15104, 'zauberhafte': 15105, 'zugansage': 15106, 'lichter': 15107, 'wirsehenunsimmorgengrauen': 15108, 'angebrochen': 15109, 'dasbieristalle': 15110, 'laeuftbeiuns': 15111, 'pressekonferenz': 15112, 'griechische': 15113, 'gestoppt': 15114, 'durchsuchung': 15115, '5000': 15116, 'antinationalen': 15117, 'oct3h': 15118, 'schoener': 15119, 'zusammenschnitt': 15120, 'leftvision': 15121, 'vorbereitungen': 15122, 'hochtouren': 15123, 'toetet': 15124, 'oranienplatz': 15125, 'spontandemo': 15126, 'gaenseliesel': 15127, 'solidaritaetsdemo': 15128, 'odeonsplatz': 15129, 'heile': 15130, 'eingeschlossenen': 15131, 'solidemo': 15132, 'soliaktion': 15133, 'demobloecke': 15134, 'forderen': 15135, 'sanis': 15136, 'museum': 15137, 'lerntux': 15138, 'stream': 15139, 'zwanzig': 15140, 'mainzer': 15141, 'erkennbaren': 15142, 'verhaftet': 15143, 'kay': 15144, 'sehnen': 15145, 'gekleideten': 15146, 'demonstrantiinnen': 15147, 'livestream': 15148, 'anzuhoeren': 15149, 'hronline': 15150, 'perspektiven': 15151, 'blockupyorganisatoren': 15152, 'zuden': 15153, 'zugehen': 15154, 'ketten': 15155, 'blanker': 15156, 'hohn': 15157, 'erzdf': 15158, 'frschreibt': 15159, 'vermummungen': 15160, 'oberste': 15161, 'einsatzleitung': 15162, 'personalien': 15163, 'demoleitung': 15164, 'raetz': 15165, 'einzeln': 15166, 'durchsuchen': 15167, 'peterwolf': 15168, 'gekleidet': 15169, 'spontis': 15170, 'duesselorf': 15171, 'cps': 15172, 'antikapblock': 15173, 'potenziell': 15174, 'gefaehlichen': 15175, 'buettel': 15176, 'merci': 15177, 'tomorrow': 15178, 'grossdemo': 15179, 'abschiebeflughafen': 15180, 'immerwieder': 15181, 'durchs': 15182, 'autoritaerer': 15183, 'krisenprotesten': 15184, 'vogue': 15185, 'laerm': 15186, 'reinzulassen': 15187, 'grosszuegig': 15188, 'llen': 15189, 'megaphon': 15190, 'flugreisenden': 15191, 'abschiebepolitik': 15192, 'auswaehlen': 15193, 'aufschreiben': 15194, 'schwierigkeiten': 15195, 'ausgewaehlt': 15196, 'unnoetig': 15197, 'setzte': 15198, 'skandieren': 15199, 'bleiberecht': 15200, 'demonstrierende': 15201, 'unversoehnliche': 15202, 'terminal1': 15203, 'genehmigten': 15204, 'teilnehmenden': 15205, 'abgezaehlt': 15206, 'reingelassen': 15207, 's8': 15208, 'crisis': 15209, 'deutliches': 15210, 'normalzustand': 15211, 'europaplatz': 15212, 'anfah': 15213, 'dtl': 15214, 'kiberer': 15215, 'veroeffentlichte': 15216, 'antifaberlin': 15217, 'hgegennazis': 15218, 'mobilisieren': 15219, 'wkr': 15220, 'busanreise': 15221, 'planung': 15222, 'kaempferischer': 15223, 'linksreformismus': 15224, '16h': 15225, 'studihaus': 15226, 'shiftzine': 15227, 'internationalem': 15228, 'antinationalismus': 15229, 'pavillion': 15230, 'action': 15231, 'm31ffm': 15232, 'stuff': 15233, 'risse': 15234, 'birdie51411736': 15235, 'hochfinanz': 15236, 'liner': 15237, 'verzeihen': 15238, 'bejubelt': 15239, 'versehen': 15240, 'kaltschnaeuzigkeit': 15241, 'verspotten': 15242, 'erfuellungsgehilfen': 15243, 'rrotlinkengruenen': 15244, 'zwangsgebuehren': 15245, 'aenderung': 15246, 'ebony': 15247, 'sunrise': 15248, 'herauszuholen': 15249, 'brechern': 15250, 'mittelstaendler': 15251, 'selbstaendigen': 15252, 'parasitten': 15253, 'macrons': 15254, 'schals': 15255, 'ruppe': 15256, 'klatscht': 15257, 'brutal': 15258, 'papi': 15259, 'emmanuel': 15260, 'journal': 15261, 'netanjahu': 15262, 'ngos': 15263, 'unding': 15264, 'uebernommen': 15265, 'souveraene': 15266, 'souveraenes': 15267, 'regierungsschutz': 15268, 'besatzungsschutz': 15269, 'gepflaste': 15270, 'rainer3778': 15271, 'geldhahn': 15272, 'abzudrehen': 15273, 'finanziere': 15274, 'radiothueringen': 15275, '75': 15276, 'kurzfassung': 15277, '8std': 15278, 'kleinkinder': 15279, 'kleinkind': 15280, 'kreuzung': 15281, 'aufgetragen': 15282, 'virulensina': 15283, 'rayffm': 15284, 'unterhaltungen': 15285, 'gundel': 15286, 'gaukeley': 15287, 'verzeiht': 15288, 'panik1props': 15289, 'bazookadiebombe': 15290, 'ausgang': 15291, 'hobbit733': 15292, 'loesch': 15293, 'allwissenden': 15294, 'gebildeten': 15295, 'kanzlei': 15296, '0001f976': 15297, 'stahlza': 15298, 'spiegel4d': 15299, 'feinden': 15300, 'pruefen': 15301, 'aufwacht': 15302, 'hopl9495': 15303, 'schweren': 15304, 'holo': 15305, 'cephalugie': 15306, 'zusammenhaengen': 15307, 'inks': 15308, 'alhope1': 15309, 'immergenau': 15310, 'schamlos': 15311, 'robby': 15312, 'mitleid': 15313, 'onnnoeoeoeoeoeng': 15314, 'daemliche': 15315, 'antidemokratischen': 15316, 'schandschnauze': 15317, 'nachvollziehbare': 15318, 'moslems': 15319, 'moslemische': 15320, 'spaetschaeden': 15321, 'wahllos': 15322, 'pruegeltour': 15323, 'neun': 15324, 'schritt': 15325, 'verpruegeln': 15326, 'hildering': 15327, 'handfeste': 15328, 'fzfazer1': 15329, 'powerforukraine': 15330, 'convalaria1': 15331, 'steuererhoehungen': 15332, '42': 15333, 'bemessungsgrenze': 15334, '84t': 15335, '54t': 15336, 'mittelstand': 15337, 'matthiasgrimm7': 15338, 'erzgebirge': 15339, '0001f622': 15340, '0001f63f': 15341, 'zugewande': 15342, 'inakzeptabel': 15343, 'massen': 15344, 'einwandern': 15345, 'outback1963': 15346, 'jena': 15347, 'karnickel': 15348, 'stehlen': 15349, 'pastor': 15350, 'dunkeldeutschland': 15351, 'goering': 15352, 'ecka': 15353, 'mitteldeutschen': 15354, 'honduras': 15355, 'niedermeiergg': 15356, 'landwi': 15357, 'gebue': 15358, 'landwird': 15359, 'florian': 15360, 'hillen': 15361, 'umso': 15362, 'aufpasst': 15363, 'buschilein70': 15364, 'rapeterelias': 15365, 'augenroller': 15366, 'wlernr': 15367, 'faktoren': 15368, 'punkte': 15369, 'faktor': 15370, 'ipischeldr': 15371, 'lehrern': 15372, 'geschichtsunterricht': 15373, 'grauenvoll': 15374, 'heike': 15375, 'gassmann': 15376, 'homasbruns': 15377, 'drandrauf92': 15378, 'ostdeutschland': 15379, 'bewaehrungsprobe': 15380, 'jugendlichen': 15381, 'vernachlaessigen': 15382, 'weige': 15383, 'stuetz': 15384, 'wissendlich': 15385, 'udo66ko': 15386, 'damen': 15387, 'naeher': 15388, 'biebel': 15389, 'kluger': 15390, 'konso': 15391, 'beruehmt': 15392, 'kindes': 15393, 'karin': 15394, 'kaiser': 15395, 'zusammenleben': 15396, 'justizminister': 15397, 'ungestraft': 15398, 'angaben': 15399, 'buergschaft': 15400, 'ausgesprochen': 15401, 'reinigen': 15402, 'ausfuzzy': 15403, 'delikt': 15404, 'bestraft': 15405, 'oliverstern11': 15406, 'gedenkfeier': 15407, 'georgdrache': 15408, 'staate': 15409, 'marmelade': 15410, 'normalos': 15411, 'renten': 15412, 'zinsgestuetzt': 15413, 'gabyniemand': 15414, 'michaelstauber': 15415, 'gesundheitsexpe': 15416, 'zins': 15417, 'sparer': 15418, 'kaputten': 15419, 'ruger': 15420, 'ute': 15421, 'bayrischen': 15422, 'graut': 15423, 'sinken': 15424, 'eingestaendnis': 15425, 'drehhofer': 15426, 'boris': 15427, 'pistorius': 15428, 'rechtsbewusstsein': 15429, 'ankauf': 15430, 'cds': 15431, 'reiche': 15432, 'verkehrssuender': 15433, 'kinggeorgvi': 15434, 'gespeiche': 15435, 'dieterschien': 15436, 'claudisbest': 15437, 'traumatisie': 15438, 'schwach': 15439, 'zurechnungsfaehig': 15440, 'aufzeichnungen': 15441, 'muehlen': 15442, 'mahlen': 15443, '100jaehrige': 15444, 'rechenschaft': 15445, 'unbequemes': 15446, 'vorerst': 15447, 'franzjo98100261': 15448, 'fleh': 15449, 'widerstandskind': 15450, 'provokateur2000': 15451, '100x': 15452, 'nephrovip': 15453, 'eleration': 15454, 'differenzieren': 15455, 'whats': 15456, 'schraenkt': 15457, 'informationsfreiheit': 15458, 'senden': 15459, 'gratulation': 15460, 'michaelscheune3': 15461, 'rentner': 15462, 'zusammengefasst': 15463, 'einsticht': 15464, 'feuerrad1': 15465, 'entstehung': 15466, 'soches': 15467, 'genetik': 15468, 'neid': 15469, 'missgunst': 15470, 'habgier': 15471, 'diametral': 15472, 'mus': 15473, 'spanier': 15474, 'griechen': 15475, 'ugiesen': 15476, 'vietnamesen': 15477, 'jeannetteleipz2': 15478, 'stehe': 15479, '0001f617': 15480, '0001f619': 15481, 'kosvo': 15482, 'rassel1408': 15483, 'barbara25411': 15484, '89': 15485, 'mistrauen': 15486, 'verstreuen': 15487, 'verdaechtigte': 15488, 'regenerieren': 15489, 'vorsichtig': 15490, 'strauss': 15491, 'verkraften': 15492, 'schwaechere': 15493, 'animositaeten': 15494, 'abstellen': 15495, 'gehegt': 15496, 'gepflegt': 15497, 'auffangen': 15498, 'aufwaermen': 15499, 'geschieht': 15500, 'bestem': 15501, 'frizcatcom': 15502, 'angezeigt': 15503, 'schilde': 15504, 'anstehen': 15505, 'poggeburg': 15506, 'sprengung': 15507, 'zusammenschweisst': 15508, 'reagie': 15509, 'uebereilt': 15510, 'teilstuecke': 15511, 'zerlegen': 15512, 'buendeln': 15513, 'disziplin': 15514, 'stoeckchen': 15515, 'springen': 15516, 'kreuzwo': 15517, 'raetsel': 15518, 'gesellschaftsform': 15519, 'erziehungsauftrag': 15520, 'anja': 15521, 'erziehungsanstalt': 15522, 'regierungslinie': 15523, 'erhebung': 15524, 'beitrages': 15525, 'laendersache': 15526, 'demokratieverstaendnis': 15527, 'katrinw': 15528, 'bpol': 15529, 'pokerspiel': 15530, 'gb': 15531, 'unannehmbare': 15532, 'bedingungen': 15533, 'erzwingen': 15534, 'abschreckung': 15535, 'antidemokraten': 15536, 'satireunfreiesd': 15537, 'gelingen': 15538, 'vorlaeufigkeit': 15539, 'sagten': 15540, 'weimarer': 15541, '1919': 15542, 'unterzeichnung': 15543, 'unionrotgruenlinks': 15544, 'ergo': 15545, 'nazikeule': 15546, 'ars': 15547, 'ethische': 15548, 'eignung': 15549, 'veronicakoch16': 15550, 'silvanazander': 15551, 'meinungsunterdrueckung': 15552, 'jackreacher90': 15553, 'stadtralle': 15554, 'dieterrad123': 15555, 'grossvaters': 15556, 'baugrundstueck': 15557, 'nachtraeglich': 15558, 'zugestimmt': 15559, 'joachimfriede4': 15560, 'wintersohnx': 15561, 'nachsichtig': 15562, '40jahre': 15563, 'emonnaine': 15564, 'kommuniste': 15565, 'stuetzten': 15566, 'himmelr1': 15567, 'tatkraft': 15568, 'schranken': 15569, 'standfestigkeit': 15570, 'falz': 15571, 'umar': 15572, 'alalmani': 15573, 'spreche': 15574, 'gruenrotlinke': 15575, 'klicke': 15576, 'kitt': 15577, 'fenstern': 15578, 'loeschung': 15579, 'harmlos': 15580, 'hinkelek': 15581, 'staatsanwalts': 15582, 'achterberg63': 15583, 'staatsanwalt': 15584, 'ermittler': 15585, 'gewissheit': 15586, 'ergreifung': 15587, 'passade': 15588, 'glaubs': 15589, 'ekm': 15590, 'bischoefin': 15591, 'ilse': 15592, 'junkermann': 15593, 'mitteldeutschland': 15594, 'einueben': 15595, 'beleidigend': 15596, 'explosion': 15597, 'beschaedigt': 15598, 'eskalationsstufe': 15599, 'bomben': 15600, 'beifall': 15601, 'faires': 15602, 'regierungsverantwo': 15603, 'herzens': 15604, 'einsicht': 15605, 'ware': 15606, 'n0rd3': 15607, 'aegisbridge': 15608, 'relation': 15609, 'hikarigoi': 15610, 'gabelle': 15611, 'erbeten': 15612, 'las': 15613, 'wehmuetiges': 15614, 'seinesgleichen': 15615, 'narrative': 15616, 'unters': 15617, 'pessimistisch': 15618, 'enhaus': 15619, 'einstuerzt': 15620, 'gefaehrdet': 15621, 'normax': 15622, 'sexistische': 15623, 'nordhessische': 15624, 'sduwe': 15625, 'dummerle': 15626, 'schulkind': 15627, 'nordhessischen': 15628, 'intellektuelles': 15629, 'armutszeugnis': 15630, 'kochshow': 15631, 'hayali': 15632, 'backen': 15633, 'plaudern': 15634, 'geladenen': 15635, '0001f410': 15636, 'kaeseta': 15637, 'kubitschek': 15638, 'ritter': 15639, '0001f93a': 15640, '0001f954': 15641, 'spezialitaeten': 15642, 'endenwollendes': 15643, 'leyla': 15644, 'bilge': 15645, 'mitarbeiterin': 15646, 'ulrich': 15647, 'oehme': 15648, 'schirm': 15649, 'foerdermitglieder': 15650, 'briefkasten': 15651, 'initiative': 15652, 'volksbegehren': 15653, 'viell': 15654, 'antifabued': 15655, 'unerwaehnt': 15656, 'hutbuerger': 15657, 'angelika': 15658, 'barbe': 15659, 'klaus': 15660, 'otte': 15661, 'veronika': 15662, 'bellmann': 15663, 'stundenlang': 15664, 'erstmalig': 15665, 'zarkojank': 15666, 'verpixeln': 15667, 'unterlaesst': 15668, 'herrje': 15669, '2714': 15670, 'recherchemd': 15671, 'ueberblick': 15672, 'landete': 15673, 'obskuren': 15674, 'webseiten': 15675, 'guete': 15676, 'anastasia': 15677, 'zehnbaendige': 15678, 'buecherreihe': 15679, 'megre': 15680, 'fachstelle': 15681, 'sektenfragen': 15682, 'infosekta': 15683, 'rechtsesoterischen': 15684, 'idacampe': 15685, 'bmel': 15686, 'genehmigen': 15687, 'glyphosat': 15688, 'zygoten': 15689, 'scheiszdreck': 15690, 'abholzung': 15691, 'waldes': 15692, 'flora': 15693, 'fauna': 15694, 'beworben': 15695, 'stammtischphilo': 15696, 'journalistenwatch': 15697, 'gemeinnuetzigen': 15698, 'opapaul1895': 15699, 'interessanten': 15700, 'informativen': 15701, 'belastend': 15702, 'supervision': 15703, 'anspruch': 15704, 'psych': 15705, 'verabscheuungswuerdige': 15706, 'gesichtet': 15707, 'unklar': 15708, 'hawarhelp': 15709, 'bmz': 15710, 'rassistin': 15711, 'abtreibungsgegnerin': 15712, 'bevorstehenden': 15713, 'tagung': 15714, 'gegenantifeminismus': 15715, 'querfront': 15716, 'ausstopfen': 15717, 'nassem': 15718, 'schuhwerk': 15719, 'anrichten': 15720, 'einzelfall': 15721, 'rammdoesig': 15722, 'chronik': 15723, 're': 15724, 'laessig': 15725, 'unterzeichnet': 15726, 'gerritmarsen': 15727, 'blocke': 15728, 'abscheulich': 15729, 'rabboobo': 15730, 'zisch': 15731, 'antifeministin': 15732, 'preistraegerin': 15733, 'jetzige': 15734, 'klonovsky': 15735, 'rechtestrukturenzerschlagen': 15736, '1997': 15737, 'strafbarkeit': 15738, 'vergewaltigung': 15739, 'stimmte': 15740, 'prollst': 15741, 'kostbar': 15742, 'kungebung': 15743, 'gera': 15744, 'csd': 15745, 'museumsplatz': 15746, 'profilacktisch': 15747, 'screenshots': 15748, '0001f6ae': 15749, 'klaerenden': 15750, 'kniescheiben': 15751, 'ruemme': 15752, 'deutschlandspricht': 15753, 'letzteren': 15754, 'pressetrotteln': 15755, 'faszination': 15756, 'schnellroda': 15757, 'jamel': 15758, 'einziehen': 15759, 'grundvers': 15760, 'rechtsextremer': 15761, 'kopp': 15762, 'ahriman': 15763, 'handlungsbedarf': 15764, 'ergaenzende': 15765, 'information': 15766, 'mitgeteilt': 15767, 'schliesze': 15768, 'scheusslich': 15769, 'schunkeln': 15770, 'kellnerinnen': 15771, 'ausnehmen': 15772, 'saugen': 15773, 'sexuell': 15774, 'belaestigen': 15775, 'leitkultur': 15776, 'wiesn': 15777, 'oeffentliches': 15778, 'pinkeln': 15779, 'schmeckt': 15780, 'ueberflogen': 15781, 'menschmerz': 15782, 'yakkul': 15783, 'hintergrundinfos': 15784, 'threads': 15785, 'eingebunden': 15786, 'fliessend': 15787, 'erlaeute': 15788, '0001f49c': 15789, 'hosenkauf': 15790, 'umkleidekabinen': 15791, 'informationswe': 15792, 'besagter': 15793, 'ugrul': 15794, 'yigit': 15795, 'richtigstellung': 15796, 'dokurechts': 15797, 'aussergewoehnlich': 15798, 'kontaktie': 15799, 'entfolge': 15800, 'blockiere': 15801, 'antifeminismus': 15802, 'auffallen': 15803, 'sexistisch': 15804, 'bitch': 15805, 'schl': 15806, 'sexismen': 15807, 'suesz': 15808, '0001f431': 15809, '0001f33b': 15810, '0001f33c': 15811, 'moohten': 15812, 'jessicajones': 15813, 'begruesze': 15814, 'schmiedwilhelm': 15815, 'sarrazins': 15816, 'finanzbuch': 15817, 'manuscriptum': 15818, 'buches': 15819, 'hennig': 15820, 'bluesbr79599722': 15821, 'chen1980': 15822, '0001f917': 15823, 'korrigieren': 15824, 'pressesprecherin': 15825, 'nachfolgende': 15826, 'vielfalt': 15827, 'geherrscht': 15828, 'sprachlos': 15829, 'hauptr': 15830, 'rwiesengrund': 15831, '0001f604': 15832, 'illy': 15833, 'veranstalterin': 15834, 'schaebig': 15835, 'wunsiedel': 15836, 'mae': 15837, 'yrerstadt': 15838, 'heldengedenken': 15839, 'screenhot': 15840, 'keinfussbreit': 15841, 'katquat': 15842, 'alexschestag': 15843, 'rechtsextrem': 15844, 'hervor': 15845, 'philip': 15846, 'plicke': 15847, 'autor': 15848, 'schrieb': 15849, 'interviewpa': 15850, 'albrecht': 15851, 'schachtschneider': 15852, 'des': 15853, 'praesidiumsmitglied': 15854, 'studienzentrums': 15855, 'weikersheims': 15856, 'beirat': 15857, 'wissensmanufaktur': 15858, 'abormuede': 15859, 'tasse': 15860, 'lenkt': 15861, 'friedenswatch': 15862, 'rueckfah': 15863, 'geschichtsrevisionisten': 15864, 'kivallara': 15865, 'preisschild': 15866, 'ablenkt': 15867, 'wolfhh66': 15868, 'aspekt': 15869, 'gegruendeten': 15870, 'belassen': 15871, 'kampagnen': 15872, 'lichtermarsch': 15873, 'plauen': 15874, 'capitol': 15875, 'bahnhofstrasse': 15876, 'wirkung': 15877, 'banners': 15878, 'dreh': 15879, 'liesze': 15880, 'wutlevel': 15881, '0001f4c8': 15882, 'bevorstehende': 15883, 'bdk': 15884, 'personenkreis': 15885, 'grosz': 15886, 'aechten': 15887, 'rate': 15888, 'stets': 15889, 'histamin': 15890, 'biogenes': 15891, 'amin': 15892, 'diagnostik': 15893, 'allergietests': 15894, 'halbjaehrlich': 15895, 'ernaehrungstagebuch': 15896, 'schlimmen': 15897, 'aerzt': 15898, 'verzweiflung': 15899, 'eingehen': 15900, 'nachdenke': 15901, 'schiessbefehl': 15902, 'hinauslaeuft': 15903, 'freidrehen': 15904, 'order': 15905, 'fuerchten': 15906, 'nazisaufsmaul': 15907, 'achgut': 15908, 'erbaermlich': 15909, 'ifsdichtmachen': 15910, 'neuerechtewatch': 15911, 'wiesberg': 15912, 'derrechterand': 15913, 'schatzmeister': 15914, 'benjamin': 15915, 'jahn': 15916, 'zschocke': 15917, 'sprecher': 15918, 'verleiht': 15919, 'boeckelmann': 15920, 'brisanz': 15921, 'gegenerklaerung': 15922, 'verpufft': 15923, 'verlorengegangen': 15924, 'hinaus': 15925, 'verpassen': 15926, 'abschliesst': 15927, 'endete': 15928, 'patriarchat': 15929, '0001f4a5': 15930, 'ausgiebig': 15931, 'lodernden': 15932, 'braenden': 15933, 'erfreut': 15934, 'totalausfall': 15935, 'uterus': 15936, 'public': 15937, 'domain': 15938, 'zuchtsaeue': 15939, 'vatikantreuen': 15940, 'opus': 15941, 'dei': 15942, 'nuklearia': 15943, 'koerner': 15944, 'retungsberechtigten': 15945, 'rainer': 15946, 'klute': 15947, 'steuerlich': 15948, 'absetzbar': 15949, 'gemeinnuetzig': 15950, 'ohrenbetaeubendes': 15951, 'jungeuropa': 15952, 'philipp': 15953, 'reibt': 15954, 'verlegt': 15955, 'aussteller': 15956, 'antifeministischer': 15957, 'neuerscheinungen': 15958, 'identitaere': 15959, 'gewaehrleisten': 15960, 'stellungnahme': 15961, 'eichholtzalex': 15962, 'tichy': 15963, 'retweeted': 15964, 'berger': 15965, 'replys': 15966, 'gefallene': 15967, 'weltmaedchentags': 15968, 'suboptimal': 15969, 'zusamenhang': 15970, 'studierenden': 15971, 'demographie': 15972, 'erholung': 15973, 'umstrittenes': 15974, 'schlafwandler': 15975, 'zog': 15976, 'ausbruch': 15977, 'wk': 15978, 'befasste': 15979, 'aufsaetze': 15980, 'tournee': 15981, 'verschafften': 15982, 'entsprechenden': 15983, 'dokus': 15984, 'einordnung': 15985, 'anmerkungen': 15986, 'zoske': 15987, 'verfasste': 15988, 'warf': 15989, 'thorsten': 15990, 'polleit': 15991, 'ludwig': 15992, 'mises': 15993, 'institut': 15994, 'aeren': 15995, 'staatenhasser': 15996, 'unfassbares': 15997, 'hierzulande': 15998, 'netzwerka': 15999, 'kooperationen': 16000, 'gruppierungen': 16001, 'zentren': 16002, 'justsaying': 16003, 'maditamedusa': 16004, 'pinky': 16005, 'acc': 16006, 'geballte': 16007, 'abfeiern': 16008, 'glocke': 16009, 'befuerchtet': 16010, 'eingetroffen': 16011, 'angeschlossenen': 16012, 'tatkraeftige': 16013, 'beabsichtigten': 16014, 'umzug': 16015, 'behoben': 16016, 'deutschlandfunk': 16017, 'verstorbenen': 16018, 'philosophen': 16019, 'lebenwerk': 16020, 'gewuerdigt': 16021, 'leerstellen': 16022, 'gefuellt': 16023, 'marburger': 16024, 'appells': 16025, 'pressefreiheit': 16026, '2006': 16027, 'philosoph': 16028, 'schriften': 16029, 'rezensionen': 16030, 'befasst': 16031, 'fussstapfen': 16032, 'beiratsmitglied': 16033, 'dijg': 16034, 'genuegen': 16035, 'nichtigkeiten': 16036, 'abgeaende': 16037, 'taltalim': 16038, 'cor': 16039, 'evangelikalen': 16040, 'kreationismus': 16041, 'antifeministisch': 16042, 'lgbtiq': 16043, 'feindlich': 16044, 'dietma': 16045, 'hesing': 16046, 'babycaust': 16047, 'ankommt': 16048, 'annen': 16049, 'berlinrum': 16050, 'allermeisten': 16051, 'schweigend': 16052, 'groszen': 16053, 'popanz': 16054, 'raushaengen': 16055, 'unabhaengig': 16056, 'anzahl': 16057, 'gezeugter': 16058, '0001f92b': 16059, 'vergessenheit': 16060, 'markwo': 16061, 'jahrzehnt': 16062, 'geladener': 16063, 'phillip': 16064, 'amthor': 16065, 'durchblick': 16066, 'werbevorbot': 16067, 'schwangerschaftsabbrueche': 16068, 'berichtete': 16069, 'diskriminierendes': 16070, 'produzieren': 16071, 'zwangslaeufig': 16072, 'fghtafd': 16073, 'fightracism': 16074, 'smashfascism': 16075, 'informationspflicht': 16076, 'medizinischen': 16077, 'hbraun': 16078, 'taeuschung': 16079, 'tarnen': 16080, 'wegmit219a': 16081, 'wegmit218': 16082, 'allesistmoeglichdonnerstag': 16083, 'ueberschneidet': 16084, 'erfolgreichen': 16085, 'acab': 16086, '0001f44a': 16087, 'kamikaze': 16088, 'peakyblinder': 16089, 'abfuehrungszeichen': 16090, 'neutralisie': 16091, 'entmenschlicht': 16092, 'schlagzeile': 16093, 'hingewiesen': 16094, 'roemelta': 16095, 'diskutiere': 16096, 'axelavie': 16097, 'aeuszerung': 16098, 'weilichnichtmitnazisrede': 16099, 'kameradluedden': 16100, 'jairbolsonaro': 16101, 'vondobrowolski': 16102, 'marcgoecke': 16103, 'konsumwahn': 16104, 'kaufrausch': 16105, 'fetisch': 16106, 'uebersaettigten': 16107, 'abgeschobenen': 16108, 'surrogat': 16109, 'bedruckten': 16110, 'markenetikett': 16111, 'jegliche': 16112, 'tiefe': 16113, 'bedeutung': 16114, 'dauerkater': 16115, 'eskapismus': 16116, 'verjagt': 16117, 'voelkermordes': 16118, 'palaestinensische': 16119, 'erleidet': 16120, 'enteignung': 16121, 'kolonialen': 16122, 'gebiete': 16123, 'geltung': 16124, 'hochblauen': 16125, 'buchbesprechung': 16126, 'gemeinschaft': 16127, 'aufforde': 16128, 'gebietet': 16129, 'verweh': 16130, 'sura': 16131, '105': 16132, 'kriegs': 16133, 'alltagsverbrechen': 16134, 'breitengraden': 16135, 'hofie': 16136, 'exemplarisch': 16137, 'zentralrat': 16138, 'indes': 16139, 'nationalwahnstaat': 16140, 'anmerkenswe': 16141, 'bekunden': 16142, 'betitelt': 16143, 'zitiere': 16144, 'erwin': 16145, 'geschonneck': 16146, 'unruhigen': 16147, '1984': 16148, '7000': 16149, 'haeftlinge': 16150, 'zuchthaeuser': 16151, 'ferne': 16152, 'draengt': 16153, 'hysterischen': 16154, 'unablaessigen': 16155, 'berufung': 16156, 'toxische': 16157, 'waffenlieferant': 16158, 'begeht': 16159, 'verrat': 16160, 'voelkerrechtlichen': 16161, 'grundprinzipien': 16162, 'paradox': 16163, 'igung': 16164, 'verweist': 16165, 'erschien': 16166, 'prof': 16167, 'finkelstein': 16168, 'nanu': 16169, 'claim': 16170, 'conference': 16171, 'entschaedigungsfonds': 16172, 'betreut': 16173, 'spon': 16174, '2007': 16175, 'langjaehrige': 16176, 'rabbi': 16177, 'singer': 16178, 'gelder': 16179, 'weltkongresses': 16180, 'veruntreut': 16181, '46': 16182, 'schilla': 16183, 'geliked': 16184, 'getweeted': 16185, 'kenfm': 16186, 'graphischen': 16187, 'bg': 16188, 'denkende': 16189, 'klarstellen': 16190, 'vernunftdenken': 16191, 'toto': 16192, 'glaubensausrichtigung': 16193, 'bedeutsam': 16194, 'menschsein': 16195, 'cezan': 16196, 'gesungen': 16197, 'slime': 16198, 'amerik': 16199, 'engl': 16200, 'profis': 16201, 'solo': 16202, 'siempre': 16203, 'palaestina': 16204, 'erprobten': 16205, 'herontp': 16206, 'drohnen': 16207, 'raketen': 16208, 'ausgeruestet': 16209, 'einschlag': 16210, 'rakete': 16211, 'zentimeter': 16212, 'ermordungen': 16213, 'bildschirm': 16214, 'manuela': 16215, 'schulddoktrin': 16216, 'wahrhaft': 16217, 'variable': 16218, 'dienerin': 16219, 'shengal': 16220, 'mexmur': 16221, 'brandenburger': 16222, 'sondereinheiten': 16223, 'bac': 16224, 'frontkonzept': 16225, 'distanz': 16226, 'greiftruppkonzept': 16227, 'offensivgranaten': 16228, 'gummigeschossen': 16229, 'paris': 16230, 'bushs': 16231, 'brutkastenluege': 16232, 'panama': 16233, 'paramilitaers': 16234, 'kolumbien': 16235, '1990': 16236, 'somalia': 16237, '1992': 16238, '1976': 16239, 'brasilianische': 16240, 'schaftsminister': 16241, 'wirkte': 16242, 'dozent': 16243, 'plaene': 16244, 'aehneln': 16245, 'schaftspolitik': 16246, 'chilenischen': 16247, 'allende': 16248, 'erstmalige': 16249, 'erprobung': 16250, 'neoliberalen': 16251, 'oekonomen': 16252, 'bank': 16253, '1870': 16254, 'schweinerei': 16255, 'brasilianischen': 16256, 'wunschkandidat': 16257, 'maerkte': 16258, 'landlosen': 16259, 'mst': 16260, 'obdachlosen': 16261, 'mtst': 16262, 'terrorismus': 16263, 'praeventivgesetzen': 16264, 'taten': 16265, 'folgenlos': 16266, 'gedeihen': 16267, 'bayerischen': 16268, 'ermaechtigungsgesetz': 16269, 'geradezu': 16270, 'legalisierung': 16271, 'polizeiwillkuer': 16272, 'willens': 16273, 'deckt': 16274, 'kriminalisie': 16275, 'selben': 16276, 'polizeirevier': 16277, 'mediziner': 16278, 'faelle': 16279, 'obduktionsfotos': 16280, 'sichtbaren': 16281, 'gefesselt': 16282, 'schlagstoecken': 16283, 'stiefeln': 16284, 'richtungen': 16285, 'traktie': 16286, '1980': 16287, 'muenchner': 16288, 'bombe': 16289, 'schwerste': 16290, 'lancie': 16291, 'einzeltaete': 16292, 'hese': 16293, 'uschen': 16294, 'verstaendnis': 16295, 'stellve': 16296, 'staatssekretaer': 16297, 'leugnet': 16298, 'apparate': 16299, 'staatsapparat': 16300, 'orientieren': 16301, 'volkstribun': 16302, 'gestuetzt': 16303, 'strassenmob': 16304, 'rechtssuspension': 16305, 'exekutiv': 16306, 'ermaechtigung': 16307, 'geschichtsvergessen': 16308, 'ahnungslos': 16309, 'blind': 16310, 'terrornetzwerk': 16311, 'migrantinnen': 16312, 'symbolik': 16313, 'gegenprotesten': 16314, 'nika': 16315, 'exifrecherche': 16316, 'c0109': 16317, 'stattfindenden': 16318, 'festivals': 16319, 'vernehmen': 16320, 'unserere': 16321, 'allgemeinen': 16322, 'kurdischem': 16323, 'ccc': 16324, 'zwiebelfreunden': 16325, 'linkem': 16326, 'repressionsalltag': 16327, 'polizeistaat': 16328, 'aktionswoche': 16329, 'thematisie': 16330, 'grefift': 16331, 'dschihadistischen': 16332, 'ellibobx02': 16333, 'ibrejkr': 16334, 'unverkuerzte': 16335, 'darstellung': 16336, 'nahostkonflikts': 16337, '280': 16338, 'schwerpunktsetzung': 16339, 'repraesentieren': 16340, 'fluechtlingsunterkunft': 16341, 'ellwangen': 16342, 'zurueckziehen': 16343, 'grossaufgebot': 16344, 'selbstorganisierung': 16345, 'mali': 16346, 'afganistan': 16347, 'ausgeweitet': 16348, 'hauptfeind': 16349, 'ouryjalloh': 16350, 'koalieren': 16351, 'radi0tv': 16352, 'worauf': 16353, 'unterschiede': 16354, '1913': 16355, 'eilungsfrage': 16356, 'eigentums': 16357, 'produktionsverhaeltnisse': 16358, 'soziale': 16359, 'auslandseinsaetze': 16360, 'pesco': 16361, 'massives': 16362, 'aufruestungsprogramm': 16363, 'militarismus': 16364, 'klassengesellschaft': 16365, 'ordnungsgelder': 16366, 'sleep': 16367, 'solidaritycity': 16368, 'ordnungspolitik': 16369, 'oekonom': 16370, 'ausgrenzung': 16371, 'rondenbarg': 16372, 'vorabend': 16373, 'demonstanten': 16374, 'fabio': 16375, 'konstruie': 16376, 'verdichten': 16377, 'gerodet': 16378, 'solidarisie': 16379, 'energiemultis': 16380, 'gittern': 16381, 'freefabio': 16382, 'antirepression': 16383, 'wahlerfolg': 16384, 'prognostizie': 16385, 'riot': 16386, 'kollektiven': 16387, 'aufarbeitung': 16388, 'koz': 16389, 'eingesetze': 16390, 'repressionskraefte': 16391, 'kontrollverlust': 16392, 'produktionsmittel': 16393, 'banken': 16394, 'vergesellschaftet': 16395, 'arabiens': 16396, 'exzessen': 16397, 'rechtswidriger': 16398, 'flaechendeckenden': 16399, 'geheimdienste': 16400, 'afghan': 16401, '0628': 16402, '0634': 16403, '0645': 16404, '0647': 16405, '0631': 16406, '06cc': 16407, '0641': 16408, '063a': 16409, 'kundus': 16410, 'kriegsursachen': 16411, 'unterbrechen': 16412, 'bundesanwaltschaft': 16413, 'gerichtssaal': 16414, 'mangelhafter': 16415, 'terroru': 16416, 'bewaehrung': 16417, 'unschuldsvermutung': 16418, 'ade': 16419, 'datei': 16420, 'widerstandsspektrum': 16421, 'erfassen': 16422, 'kriminalisieren': 16423, 'morde': 16424, 'aufgeflogen': 16425, 'hessischer': 16426, 'sper': 16427, 'abschlussbericht': 16428, 'rekordzeit': 16429, 'schuldbekenntnis': 16430, 'allerlei': 16431, 'faschistischem': 16432, 'geschmeiss': 16433, 'repressionsorgane': 16434, 'abschaltung': 16435, 'indy': 16436, 'linksunten': 16437, 'wiederkommen': 16438, 'freemedia': 16439, 'haft': 16440, '18jaehrigen': 16441, 'anlage': 16442, 'erziehungsmaengel': 16443, 'schaedlicher': 16444, 'multimedia': 16445, 'reformation': 16446, 'zugticketverkauf': 16447, 'haende': 16448, 'besetzten': 16449, 'haeusern': 16450, 'athen': 16451, 'solikundgebung': 16452, 'griechischen': 16453, 'izffm': 16454, 'offizielle': 16455, 'lutherjahr': 16456, 'westbahnhof': 16457, 'nazimuell': 16458, 'verklebt': 16459, 'watch': 16460, 'mrcl': 16461, 'mrvls': 16462, 'konferenz': 16463, 'zusammenfuehrung': 16464, 'polizeilicher': 16465, '113': 16466, 'verschaerft': 16467, 'verzoege': 16468, 'afdler': 16469, 'starkem': 16470, 'polizeischutz': 16471, 'wetzlar': 16472, 'militant': 16473, 'erkenn': 16474, 'ansprechbar': 16475, 'kongress': 16476, 'mittelmeer': 16477, 'ueberwinden': 16478, 'bi': 16479, 'hday': 16480, 'sehid': 16481, 'namirin': 16482, 'ivana': 16483, 'uebung': 16484, 'getex': 16485, 'trainieren': 16486, 'erstmals': 16487, 'etappe': 16488, 'autoritaerem': 16489, 'jonas': 16490, 'fedders': 16491, 'zweimonatiger': 16492, 'sperre': 16493, 'fluchtursachent': 16494, 'nuernberg': 16495, 'kpd': 16496, '129': 16497, 'verfolgung': 16498, 'aeussere': 16499, 'aufruestung': 16500, '2300': 16501, 'gsg9': 16502, 'cobras': 16503, 'feldjaeger': 16504, 'reserve': 16505, 'freiwilligenverbaende': 16506, 'inlandseinsatz': 16507, 'schatten': 16508, 'ausnahmezustands': 16509, 'umkaempftes': 16510, 'arbeitsmarktgesetz': 16511, 'loitravail': 16512, 'verabschiedet': 16513, 'ausnahmezustand': 16514, 'massenverhaftungen': 16515, 'aufhebung': 16516, 'kurdinnen': 16517, 'oppositionelle': 16518, 'galten': 16519, 'putschversuch': 16520, 'demokratiebegriff': 16521, 'eidigende': 16522, 'verhaftungen': 16523, 'lynchmobs': 16524, 'agent': 16525, 'unglaubwuerdig': 16526, 'nebenklage': 16527, 'unwiderlegt': 16528, 'interne': 16529, 'einschaetzungen': 16530, 'nachlesen': 16531, 'abschnitt': 16532, 'befragen': 16533, 'bloecke': 16534, 'etlicher': 16535, 'zweifelhafter': 16536, 'interna': 16537, 'solcherlei': 16538, 'obs': 16539, 'koenig': 16540, 'puncto': 16541, 'sozialfaschismus': 16542, 'debettenbeiraege': 16543, 'entscheidender': 16544, 'desillsuion': 16545, 'staatsbuergerschaften': 16546, 'teilnehmern': 16547, 'nazifrei': 16548, '1004ffm': 16549, 'einheitsfront': 16550, 'vereinte': 16551, 'kennedyallee': 16552, '117': 16553, 'zivilisten': 16554, 'free': 16555, 'leonardpeltier': 16556, 'indigenen': 16557, 'unrechtmaessig': 16558, '4000': 16559, 'prag': 16560, 'amsterdam': 16561, 'ausgerechnet': 16562, 'machtuebe': 16563, 'ragung': 16564, 'nsdap': 16565, 'fackelmarsch': 16566, 'buedingen': 16567, 'durchfuehren': 16568, 'freeahmedsaid': 16569, 'generalkonsulat': 16570, 'eysseneckstrasse': 16571, 'mensa': 16572, 'infostand': 16573, 'konsultation': 16574, 'frontstaat': 16575, 'gefahrengebiete': 16576, 'provokationen': 16577, 'praeventive': 16578, 'aufstandsbekaempfung': 16579, 'rigaer': 16580, 'knallen': 16581, 'bornheim': 16582, 'einreissen': 16583, 'abschiebungen': 16584, 'naziuntergrund': 16585, 'unbestraft': 16586, 'milde': 16587, 'uwes': 16588, 'zschaepes': 16589, 'bekraeftigt': 16590, 'baw': 16591, 'diktie': 16592, 'siche': 16593, 'konstrukt': 16594, 'verdunkelung': 16595, 'hungerstreik': 16596, '52': 16597, 'gleis': 16598, 'kurd': 16599, 'anwalts': 16600, 'tahir': 16601, 'elci': 16602, 'stoppt': 16603, 'staatsterror': 16604, 'weinheim': 16605, '130': 16606, 'nd': 16607, 'carlo': 16608, 'giuliani': 16609, 'giuliano': 16610, 'internationales': 16611, 'rechtspopulistin': 16612, 'abschieben': 16613, 'gutleut': 16614, 'fck': 16615, 'tgb': 16616, 'solikundgebungen': 16617, 'kirchplatz': 16618, 'mainz': 16619, 'geldspendeabend': 16620, 'main': 16621, 'ankommen': 16622, 'begruessung': 16623, 'yxkonline': 16624, 'studi': 16625, 'iabffm': 16626, 'derzeitigen': 16627, 'suruc': 16628, 'projectsheltercamp': 16629, 'afrikapolitik': 16630, 'militarisierung': 16631, 'solidaritaetskueche': 16632, 'bedraengten': 16633, 'freital': 16634, 'aufrufende': 16635, 'ciwanen': 16636, 'hinweisen': 16637, 'gegeninformationen': 16638, 'rassistenaufmarsch': 16639, 'desaster': 16640, 'derzeitiger': 16641, 'nowow2006': 16642, 'stopwow': 16643, 'belasten': 16644, 'beamten': 16645, 'schmauchspuren': 16646, 'handschuhen': 16647, 'entsprechen': 16648, 'mordserie': 16649, 'attentaeter': 16650, 'aehnlichkeit': 16651, 'aktionszelt': 16652, 'reinhard': 16653, 'ukrainischen': 16654, 'auffuehrung': 16655, 'lauffeuer': 16656, 'dokzu': 16657, 'odessa': 16658, 'borotbaorg': 16659, 'antirassistische': 16660, 'bildungsstreik': 16661, 'solidaritaets': 16662, 'koblenzer': 16663, 'abendlandve': 16664, 'inhaftie': 16665, 'ronneburgstrasse': 16666, 'goetheplatz': 16667, 'nachfolger': 16668, 'menschenblockaden': 16669, 'barrikaden': 16670, 'belage': 16671, 'floesserbruecke': 16672, 'wasserwerfern': 16673, 'osthafenbruecke': 16674, 'massenweise': 16675, 'bullenrevier': 16676, 'feuerspektakel': 16677, 'daheimgebliebenen': 16678, 'vollversammlung': 16679, 'cafe': 16680, 'leipziger': 16681, '91': 16682, 'basteltreffen': 16683, 'klapperfeld': 16684, 'schweinen': 16685, 'crew': 16686, 'fotojournalisten': 16687, 'angegangen': 16688, 'umgedreht': 16689, 'becher': 16690, 'krankheitsbedingt': 16691, 'entfallen': 16692, 'nachgeholt': 16693, 'zehn': 16694, 'fn': 16695, 'antinazi': 16696, 'ludwigshafen': 16697, '1300': 16698, 'blockadepunkten': 16699, 'befreit': 16700, 'area': 16701, 'gedenkdemonstration': 16702, 'ermordeten': 16703, 'lokale': 16704, 'gegendemo': 16705, 'giessener': 16706, 'bekanntgegeben': 16707, 'eritraeischer': 16708, 'blutueberstroemt': 16709, 'peace': 16710, 'fckpegida': 16711, 'brill': 16712, 'jagsch': 16713, 'bleibe': 16714, 'bor': 16715, 'derffm': 16716, 'imk': 16717, 'bustickets': 16718, '78': 16719, 'revolutionaer': 16720, 'anarchosyndikalist': 16721, 'buenaventura': 16722, 'durruti': 16723, 'dumange': 16724, 'schussverletzung': 16725, 'russische': 16726, 'ivan': 16727, 'khutorskoy': 16728, 'palomino': 16729, 'madrid': 16730, 'nosotros': 16731, 'olvidamos': 16732, 'israelischen': 16733, 'aktivistengruppe': 16734, 'grossdemonstration': 16735, 'delegationsbericht': 16736, 'atik': 16737, 'ydg': 16738, 'demotermine': 16739, 'koban': 16740, 'update': 16741, 'konstablerwache': 16742, 'wiesbaden': 16743, 'eingang': 16744, 'drohende': 16745, 'ypg': 16746, 'canceln': 16747, 'internationalistischen': 16748, 'geplanter': 16749, 'bundesweiter': 16750, 'mobilisierungen': 16751, 'bedrohlichen': 16752, 'civaka': 16753, 'ulla': 16754, 'mahnwachen': 16755, 'freegaza': 16756, 'fckisis': 16757, 'lice': 16758, 'dublin': 16759, 'selbstorganisie': 16760, 'kurdische': 16761, 'zivilistinnen': 16762, 'bundesweit': 16763, 'spanischen': 16764, 'exklave': 16765, 'melilla': 16766, 'ueberwunden': 16767, 'freedom': 16768, 'everybodies': 16769, 'noborder': 16770, 'picknick': 16771, 'taksim': 16772, 'empfehlt': 16773}\n"
          ]
        }
      ]
    },
    {
      "cell_type": "markdown",
      "source": [
        "# encoding or sequencing\n"
      ],
      "metadata": {
        "id": "mRzlwLYqKY8k"
      }
    },
    {
      "cell_type": "code",
      "source": [
        "encoded_clean_text_stem = tok_all.texts_to_sequences(clean_text_stem)\n",
        "print(clean_text_stem[0])\n",
        "print(encoded_clean_text_stem[0])"
      ],
      "metadata": {
        "colab": {
          "base_uri": "https://localhost:8080/"
        },
        "id": "LvQYVAQ9KUa0",
        "outputId": "3eae932a-743f-4874-cd6d-05836df750d3"
      },
      "execution_count": null,
      "outputs": [
        {
          "output_type": "stream",
          "name": "stdout",
          "text": [
            " jouwatch polizei kanone mehr   20 mal munition laufen lassen ruhe .\n",
            "[174, 130, 6387, 7, 59, 5, 3922, 603, 56, 846]\n"
          ]
        }
      ]
    },
    {
      "cell_type": "markdown",
      "source": [
        "# Pre-padding\n"
      ],
      "metadata": {
        "id": "wWorwY-hKcBK"
      }
    },
    {
      "cell_type": "code",
      "source": [
        "from keras.preprocessing import sequence\n",
        "max_length = 100\n",
        "padded_clean_text_stem = sequence.pad_sequences(encoded_clean_text_stem, maxlen=max_length, padding='pre')"
      ],
      "metadata": {
        "id": "v911ZLQqKfPi"
      },
      "execution_count": null,
      "outputs": []
    },
    {
      "cell_type": "code",
      "source": [],
      "metadata": {
        "id": "sQQTtijOkqE9"
      },
      "execution_count": null,
      "outputs": []
    },
    {
      "cell_type": "markdown",
      "source": [
        "# Reading Test data and Pre-processing\n"
      ],
      "metadata": {
        "id": "jYqmeRiXKhu7"
      }
    },
    {
      "cell_type": "code",
      "source": [
        "data_t = pd.read_csv(\"/content/hasoc20test_improved.csv\", converters={'tweet_id':int})\n",
        "\n",
        "pd.set_option('display.max_colwidth',150)\n",
        "data_t.head(10)\n",
        "\n",
        "data_t['task1'] = data_t['task1'].str.replace('NOT', 'OTHER')\n",
        "data_t\n",
        "\n",
        "data_t['task1'] = data_t['task1'].str.replace('HOF', 'OFFENSE')\n",
        "data_t\n",
        "\n",
        "data_t = data_t.drop([\"Unnamed: 0\"], axis = 1)"
      ],
      "metadata": {
        "id": "pLKHp4MaKhSs"
      },
      "execution_count": null,
      "outputs": []
    },
    {
      "cell_type": "code",
      "source": [
        "data_t.shape"
      ],
      "metadata": {
        "colab": {
          "base_uri": "https://localhost:8080/"
        },
        "id": "QrkMiNNVKrH_",
        "outputId": "ceb1c5bd-0a9d-4e07-ab74-ee22e83eb46c"
      },
      "execution_count": null,
      "outputs": [
        {
          "output_type": "execute_result",
          "data": {
            "text/plain": [
              "(526, 5)"
            ]
          },
          "metadata": {},
          "execution_count": 28
        }
      ]
    },
    {
      "cell_type": "code",
      "source": [
        "print(data_t.dtypes)"
      ],
      "metadata": {
        "colab": {
          "base_uri": "https://localhost:8080/"
        },
        "id": "MSYUUjUQKuqR",
        "outputId": "f4ba2a75-f068-4df3-c850-3e4d88d903dd"
      },
      "execution_count": null,
      "outputs": [
        {
          "output_type": "stream",
          "name": "stdout",
          "text": [
            "tweet_id     int64\n",
            "text        object\n",
            "task1       object\n",
            "task2       object\n",
            "ID          object\n",
            "dtype: object\n"
          ]
        }
      ]
    },
    {
      "cell_type": "code",
      "source": [
        "\n",
        "\n",
        "label_t = data_t['task1']\n",
        "label_t.head()\n",
        "\n"
      ],
      "metadata": {
        "colab": {
          "base_uri": "https://localhost:8080/"
        },
        "id": "o-We4mNjKwHA",
        "outputId": "661437a7-8543-48b7-d221-754da0d76962"
      },
      "execution_count": null,
      "outputs": [
        {
          "output_type": "execute_result",
          "data": {
            "text/plain": [
              "0    OTHER\n",
              "1    OTHER\n",
              "2    OTHER\n",
              "3    OTHER\n",
              "4    OTHER\n",
              "Name: task1, dtype: object"
            ]
          },
          "metadata": {},
          "execution_count": 30
        }
      ]
    },
    {
      "cell_type": "code",
      "source": [
        "print(label_t.value_counts())\n",
        "import matplotlib.pyplot as plt\n",
        "label_t.value_counts().plot(kind='bar', color='red')"
      ],
      "metadata": {
        "colab": {
          "base_uri": "https://localhost:8080/"
        },
        "id": "EO_U9aM1Kxpa",
        "outputId": "0c64e5e4-adc3-46fa-e49d-b22bae340c3e"
      },
      "execution_count": null,
      "outputs": [
        {
          "output_type": "stream",
          "name": "stdout",
          "text": [
            "OTHER      365\n",
            "OFFENSE    161\n",
            "Name: task1, dtype: int64\n"
          ]
        },
        {
          "output_type": "execute_result",
          "data": {
            "text/plain": [
              "<matplotlib.axes._subplots.AxesSubplot at 0x7f7496192f50>"
            ]
          },
          "metadata": {},
          "execution_count": 31
        },
        {
          "output_type": "display_data",
          "data": {
            "text/plain": [
              "<Figure size 432x288 with 1 Axes>"
            ],
            "image/png": "[encoded data removed]"
          },
          "metadata": {
            "needs_background": "light"
          }
        }
      ]
    },
    {
      "cell_type": "code",
      "source": [
        "\n",
        "\n",
        "import numpy as np\n",
        "classes_list_t = [\"OFFENSE\",\"OTHER\"]\n",
        "label_t_index = data_t['task1'].apply(classes_list_t.index)\n",
        "final_label_t = np.asarray(label_t_index)\n",
        "print(final_label_t[:10])\n",
        "\n"
      ],
      "metadata": {
        "colab": {
          "base_uri": "https://localhost:8080/"
        },
        "id": "ckCObbaYKzZz",
        "outputId": "5467ac5c-f2bb-41e6-f9e1-9908e93a07fc"
      },
      "execution_count": null,
      "outputs": [
        {
          "output_type": "stream",
          "name": "stdout",
          "text": [
            "[1 1 1 1 1 0 0 1 1 1]\n"
          ]
        }
      ]
    },
    {
      "cell_type": "code",
      "source": [
        "\n",
        "\n",
        "from keras.utils.np_utils import to_categorical\n",
        "label_twoDimension_t = to_categorical(final_label_t, num_classes=2)\n",
        "\n"
      ],
      "metadata": {
        "id": "JivaT_m3K1Ww"
      },
      "execution_count": null,
      "outputs": []
    },
    {
      "cell_type": "code",
      "source": [
        "print(label_twoDimension_t[:10])"
      ],
      "metadata": {
        "colab": {
          "base_uri": "https://localhost:8080/"
        },
        "id": "U1SXNpS7K3L5",
        "outputId": "f8124c25-3e02-4db2-8b81-eb5cc563c7ca"
      },
      "execution_count": null,
      "outputs": [
        {
          "output_type": "stream",
          "name": "stdout",
          "text": [
            "[[0. 1.]\n",
            " [0. 1.]\n",
            " [0. 1.]\n",
            " [0. 1.]\n",
            " [0. 1.]\n",
            " [1. 0.]\n",
            " [1. 0.]\n",
            " [0. 1.]\n",
            " [0. 1.]\n",
            " [0. 1.]]\n"
          ]
        }
      ]
    },
    {
      "cell_type": "code",
      "source": [
        "\n",
        "\n",
        "text_t = data_t['text']\n",
        "text_t.head(10)\n",
        "\n"
      ],
      "metadata": {
        "colab": {
          "base_uri": "https://localhost:8080/"
        },
        "id": "B4ok6nElK4sb",
        "outputId": "9a328553-24c7-40af-b1b6-d06a61addffd"
      },
      "execution_count": null,
      "outputs": [
        {
          "output_type": "execute_result",
          "data": {
            "text/plain": [
              "0                                                                                                  @derCarsti Boykottieren hört sich besser an. 💙💙\n",
              "1    RT @ibikus31: Es wird spekuliert, ob Merkel ein Amt in Brüssel übernimmt.\\nWäre es so, wie schätzen Sie dann die Zukunft der Mitgliedstaaten…\n",
              "2                             Hat #Hitler wirklich den Krieg in der Wüste verloren? Nach der #Welt Schlagzeile hat die #Tagesschau nicht reagiert.\n",
              "3     RT @Beatrix_vStorch: #May tritt in UK unter Tränen zurück. Wenn #Merkel zurücktritt, dann auch unter Tränen – unter den Freudentränen von M…\n",
              "4                                                     @justmeDoro Eher nicht. Das Gänse hauen wieder ab in ihre warmen Überwinterungsquartiere. 😅😂\n",
              "5     RT @VonSchwer: Ein guter Patriot geht von Bord‼️Gestürzt durch einen, vom ZDF finanzierten, linken Schmierenkomödianten 😡‼️ https://t.co/rl…\n",
              "6                     @yooli_derechte @MontanaBlack Mich wundert es echt wie du noch keine Cockschelle bekommen hast. Du kinderfickender Hurensohn\n",
              "7                                                        Da war #SPD #Kuehnert und am Ende auch #Nahles einfach nur dumm:  https://t.co/aj001ZKeWk\n",
              "8                        Nazan, komm bittebitte zurück, löse die „Punggdä“-Trulla ab und werde wieder LD-Moderatorin! 🙏🏻 #letsdance2019 #letsdance\n",
              "9     RT @Junge_Freiheit: Die europäische Spitzenkandidatin der Grünen im Europawahlkampf, Franziska Keller, hat sich für eine CO2-Steuer ausgesp…\n",
              "Name: text, dtype: object"
            ]
          },
          "metadata": {},
          "execution_count": 35
        }
      ]
    },
    {
      "cell_type": "code",
      "source": [
        "test_wo_umlauts = text_t.apply(lambda x: remove_umlaut(x))"
      ],
      "metadata": {
        "id": "N7fvvsExPnYn"
      },
      "execution_count": null,
      "outputs": []
    },
    {
      "cell_type": "code",
      "source": [],
      "metadata": {
        "id": "lxCHAymQPnw7"
      },
      "execution_count": null,
      "outputs": []
    },
    {
      "cell_type": "code",
      "source": [
        "\n",
        "\n",
        "import re \n",
        "\n",
        "def text_clean(text):\n",
        "    ''' Pre process and convert texts to a list of words '''\n",
        "    \n",
        "    text=text.lower()\n",
        "\n",
        "    # Clean the text\n",
        "    text = re.sub(r\"[^A-Za-z0-9^,!.\\/'+-=]\", \" \", text)\n",
        "    text = re.sub('https?://\\S+|www\\.\\S+', \"\", text)\n",
        "    text = re.sub(r\"rt\", \" \", text)\n",
        "\n",
        "    return text\n",
        "\n"
      ],
      "metadata": {
        "id": "1slTVaWDK6LP"
      },
      "execution_count": null,
      "outputs": []
    },
    {
      "cell_type": "code",
      "source": [
        "clean_text_t = test_wo_umlauts.apply(lambda x:text_clean(x))"
      ],
      "metadata": {
        "id": "P6zJo8oXK75p"
      },
      "execution_count": null,
      "outputs": []
    },
    {
      "cell_type": "code",
      "source": [
        "clean_text_t.head(10)"
      ],
      "metadata": {
        "colab": {
          "base_uri": "https://localhost:8080/"
        },
        "id": "1vIn6oXdK9ug",
        "outputId": "1f781a7e-ac73-4b32-d19f-6f6097e46914"
      },
      "execution_count": null,
      "outputs": [
        {
          "output_type": "execute_result",
          "data": {
            "text/plain": [
              "0                                                                                                      dercarsti boykottieren hoe  sich besser an.   \n",
              "1         ibikus31: es wird spekulie , ob merkel ein amt in bruessel uebernimmt. waere es so, wie schaetzen sie dann die zukunft der mitgliedstaaten \n",
              "2                                hat  hitler wirklich den krieg in der wueste verloren  nach der  welt schlagzeile hat die  tagesschau nicht reagie .\n",
              "3       beatrix vstorch:  may tritt in uk unter traenen zurueck. wenn  merkel zuruecktritt, dann auch unter traenen   unter den freudentraenen von m \n",
              "4                                                        justmedoro eher nicht. das gaense hauen wieder ab in ihre warmen ueberwinterungsqua iere.   \n",
              "5                          vonschwer: ein guter patriot geht von bord  gestuerzt durch einen, vom zdf finanzie en, linken schmierenkomoedianten      \n",
              "6                          yooli derechte  montanablack mich wunde  es echt wie du noch keine cockschelle bekommen hast. du kinderfickender hurensohn\n",
              "7                                                                                   da war  spd  kuehne  und am ende auch  nahles einfach nur dumm:  \n",
              "8                        nazan, komm bittebitte zurueck, loese die  punggdae -trulla ab und werde wieder ld-moderatorin!     letsdance2019  letsdance\n",
              "9         junge freiheit: die europaeische spitzenkandidatin der gruenen im europawahlkampf, franziska keller, hat sich fuer eine co2-steuer ausgesp \n",
              "Name: text, dtype: object"
            ]
          },
          "metadata": {},
          "execution_count": 39
        }
      ]
    },
    {
      "cell_type": "code",
      "source": [
        "\n",
        "\n",
        "import nltk\n",
        "from nltk.corpus import stopwords\n",
        "nltk.download('stopwords')\n",
        "def stop_words_removal(text1):\n",
        "    text1=[w for w in  text1.split(\" \")  if w not in stopwords.words('german')]\n",
        "    return \" \".join(text1)\n",
        "\n"
      ],
      "metadata": {
        "colab": {
          "base_uri": "https://localhost:8080/"
        },
        "id": "EH37JPgIK_KB",
        "outputId": "936f51e1-bd1d-4620-d3e1-c6483c39b80c"
      },
      "execution_count": null,
      "outputs": [
        {
          "output_type": "stream",
          "name": "stderr",
          "text": [
            "[nltk_data] Downloading package stopwords to /root/nltk_data...\n",
            "[nltk_data]   Package stopwords is already up-to-date!\n"
          ]
        }
      ]
    },
    {
      "cell_type": "code",
      "source": [
        "clean_text_t_ns=clean_text_t.apply(lambda x: stop_words_removal(x))"
      ],
      "metadata": {
        "id": "gXxxzc59LBBX"
      },
      "execution_count": null,
      "outputs": []
    },
    {
      "cell_type": "code",
      "source": [
        "print(clean_text_t_ns.head(10))"
      ],
      "metadata": {
        "colab": {
          "base_uri": "https://localhost:8080/"
        },
        "id": "TpppvvEbLCwK",
        "outputId": "2d275c60-e808-44f4-9ddb-c334cc6cecfd"
      },
      "execution_count": null,
      "outputs": [
        {
          "output_type": "stream",
          "name": "stdout",
          "text": [
            "0                                                                                dercarsti boykottieren hoe  besser an.   \n",
            "1                        ibikus31: spekulie , merkel amt bruessel uebernimmt. waere so, schaetzen zukunft mitgliedstaaten \n",
            "2                                            hitler wirklich krieg wueste verloren   welt schlagzeile  tagesschau reagie .\n",
            "3                        beatrix vstorch:  may tritt uk traenen zurueck.  merkel zuruecktritt, traenen   freudentraenen m \n",
            "4                                                justmedoro eher nicht. gaense hauen ab warmen ueberwinterungsqua iere.   \n",
            "5                 vonschwer: guter patriot geht bord  gestuerzt einen, zdf finanzie en, linken schmierenkomoedianten      \n",
            "6                            yooli derechte  montanablack wunde  echt cockschelle bekommen hast. kinderfickender hurensohn\n",
            "7                                                                                spd  kuehne  ende  nahles einfach dumm:  \n",
            "8                  nazan, komm bittebitte zurueck, loese  punggdae -trulla ab ld-moderatorin!     letsdance2019  letsdance\n",
            "9       junge freiheit: europaeische spitzenkandidatin gruenen europawahlkampf, franziska keller, fuer co2-steuer ausgesp \n",
            "Name: text, dtype: object\n"
          ]
        }
      ]
    },
    {
      "cell_type": "markdown",
      "source": [
        "# Stemming"
      ],
      "metadata": {
        "id": "ekQq8jY5LGLH"
      }
    },
    {
      "cell_type": "code",
      "source": [
        "# Stemming\n",
        "from nltk.stem import SnowballStemmer \n",
        "stemmer = SnowballStemmer(\"german\")\n",
        "\n",
        "def word_stemmer(text):\n",
        "    stem_text = \"\".join([stemmer.stem(i) for i in text])\n",
        "    return stem_text"
      ],
      "metadata": {
        "id": "tpl3ie1dLEH4"
      },
      "execution_count": null,
      "outputs": []
    },
    {
      "cell_type": "code",
      "source": [
        "clean_text_t_stem = clean_text_t_ns.apply(lambda x : word_stemmer(x))"
      ],
      "metadata": {
        "id": "7TziiQXoLIBA"
      },
      "execution_count": null,
      "outputs": []
    },
    {
      "cell_type": "code",
      "source": [
        "print(clean_text_t_stem.head(10))"
      ],
      "metadata": {
        "colab": {
          "base_uri": "https://localhost:8080/"
        },
        "id": "XasJI_bZLJna",
        "outputId": "6db98b14-9012-4815-82e9-9fa51489b0ba"
      },
      "execution_count": null,
      "outputs": [
        {
          "output_type": "stream",
          "name": "stdout",
          "text": [
            "0                                                                                dercarsti boykottieren hoe  besser an.   \n",
            "1                        ibikus31: spekulie , merkel amt bruessel uebernimmt. waere so, schaetzen zukunft mitgliedstaaten \n",
            "2                                            hitler wirklich krieg wueste verloren   welt schlagzeile  tagesschau reagie .\n",
            "3                        beatrix vstorch:  may tritt uk traenen zurueck.  merkel zuruecktritt, traenen   freudentraenen m \n",
            "4                                                justmedoro eher nicht. gaense hauen ab warmen ueberwinterungsqua iere.   \n",
            "5                 vonschwer: guter patriot geht bord  gestuerzt einen, zdf finanzie en, linken schmierenkomoedianten      \n",
            "6                            yooli derechte  montanablack wunde  echt cockschelle bekommen hast. kinderfickender hurensohn\n",
            "7                                                                                spd  kuehne  ende  nahles einfach dumm:  \n",
            "8                  nazan, komm bittebitte zurueck, loese  punggdae -trulla ab ld-moderatorin!     letsdance2019  letsdance\n",
            "9       junge freiheit: europaeische spitzenkandidatin gruenen europawahlkampf, franziska keller, fuer co2-steuer ausgesp \n",
            "Name: text, dtype: object\n"
          ]
        }
      ]
    },
    {
      "cell_type": "code",
      "source": [
        "\n",
        "\n",
        "import keras\n",
        "import tensorflow\n",
        "from keras.preprocessing.text import Tokenizer\n",
        "tok_test = Tokenizer(filters='!\"#$%&\\'()*+,-./:;<=>?@[\\\\]^_`{|}~', lower=True, char_level = False)\n",
        "tok_test.fit_on_texts(clean_text_t_stem)\n",
        "\n"
      ],
      "metadata": {
        "id": "heX7pGrELLAq"
      },
      "execution_count": null,
      "outputs": []
    },
    {
      "cell_type": "code",
      "source": [
        "\n",
        "\n",
        "vocabulary_all_test = len(tok_test.word_counts)\n",
        "print(vocabulary_all_test)\n",
        "\n"
      ],
      "metadata": {
        "colab": {
          "base_uri": "https://localhost:8080/"
        },
        "id": "i0deLjofLMxh",
        "outputId": "1e3ae695-add8-4916-c405-ee0f3126d5b1"
      },
      "execution_count": null,
      "outputs": [
        {
          "output_type": "stream",
          "name": "stdout",
          "text": [
            "2687\n"
          ]
        }
      ]
    },
    {
      "cell_type": "code",
      "source": [
        "test_list = tok_test.word_index\n",
        "print(test_list)"
      ],
      "metadata": {
        "colab": {
          "base_uri": "https://localhost:8080/"
        },
        "id": "7aNXyczTLOTE",
        "outputId": "5541051c-9779-42ea-9b5b-beac05ff9c4d"
      },
      "execution_count": null,
      "outputs": [
        {
          "output_type": "stream",
          "name": "stdout",
          "text": [
            "{'einfach': 1, 'deutsche': 2, 'arsch': 3, 'merkel': 4, 'fuer': 5, 'schon': 6, 'gruenen': 7, 'scheiss': 8, 'gt': 9, 'ab': 10, 'mal': 11, 'halt': 12, 'linken': 13, 'dumm': 14, 'porno': 15, 'welt': 16, 'hurensohn': 17, 'immer': 18, 'nazis': 19, 'frau': 20, 'mehr': 21, 'scheisse': 22, 'frauen': 23, 'ja': 24, 'zurueck': 25, 'gratis': 26, 'echt': 27, 'gruene': 28, 'warum': 29, 'tagesschau': 30, 'islam': 31, 'gibt': 32, 'en': 33, 'kinder': 34, 'ficken': 35, 'pack': 36, 'heute': 37, 'idioten': 38, 'ueber': 39, 'hoe': 40, 'besser': 41, 'lange': 42, 'eu': 43, 'dumme': 44, 'e': 45, 'schulz': 46, '3': 47, 'linke': 48, 'wuerde': 49, 'erst': 50, 'leben': 51, 'bild': 52, 'europa': 53, 'ist': 54, 'kopf': 55, 's': 56, 'kurz': 57, '5': 58, '12': 59, 'hasse': 60, 'deutschland': 61, 'eigentlich': 62, 'fresse': 63, 'b': 64, 'gabriel': 65, 'neue': 66, 'an': 67, 'waere': 68, 'eher': 69, 'nicht': 70, 'ganzen': 71, 'lassen': 72, 'a': 73, 'grund': 74, 'kotzen': 75, 'de': 76, 'dummen': 77, 'ma': 78, 'afd': 79, 'politiker': 80, 'h': 81, 'gesicht': 82, 'nie': 83, 'so': 84, 'hitler': 85, 'zdf': 86, 'spd': 87, '2019': 88, 'deutschen': 89, 'c': 90, 'habt': 91, 'neuen': 92, 'stimmt': 93, 'd': 94, 'gehirn': 95, 'moslems': 96, 'koennen': 97, 'reicht': 98, 'sowas': 99, 'x': 100, '10': 101, '99': 102, 'macht': 103, '50': 104, 'geile': 105, 'gruen': 106, 'pornos': 107, 'gerne': 108, 'sta': 109, 'm': 110, 'bekommen': 111, 'junge': 112, 'nich': 113, 'eh': 114, 'weiss': 115, '06': 116, '14': 117, '05': 118, 'wollen': 119, 'net': 120, '2': 121, 'ahnung': 122, 'richtig': 123, 'sitzen': 124, 'seehofer': 125, 'nazi': 126, 'zdfheute': 127, 'gefickt': 128, 'darf': 129, 'meisten': 130, 'politik': 131, 'usa': 132, 'u': 133, 'haben': 134, 'tuerken': 135, 'mutter': 136, 'luegen': 137, 'deutsch': 138, 'tief': 139, 'quak': 140, 'deal': 141, 'auch': 142, 'essen': 143, 'groesste': 144, 'maul': 145, 'schoen': 146, 'mdchen': 147, 'sawsanchebli': 148, 'pa': 149, 'peter': 150, 'jungen': 151, '29': 152, 'zeigt': 153, 'hennef': 154, 'amp': 155, 'bruessel': 156, 'vonschwer': 157, 'geht': 158, 'ende': 159, 'nahles': 160, 'is': 161, 'ideologie': 162, '4': 163, 'vorbei': 164, 'schaut': 165, 'hbf': 166, 'europas': 167, 'willst': 168, 'ard': 169, 'gehoe': 170, 'ausfall': 171, '21': 172, '11': 173, '01': 174, 'land': 175, 'moechte': 176, 'ifb': 177, 'zusammen': 178, 'v': 179, 'warn': 180, 'westen': 181, 'bald': 182, 'dafuer': 183, 'hoer': 184, 'lass': 185, '20': 186, 'wurde': 187, 'koennte': 188, 'f': 189, 'sehen': 190, 'ka': 191, 'damals': 192, 'oma': 193, 'ddr': 194, 'likes': 195, 'bezahlt': 196, 'lt': 197, 'dummes': 198, 'gewaehlt': 199, 'sicherheit': 200, 'frueher': 201, 'sirschnee': 202, 'angela': 203, 'gehoeren': 204, 'geld': 205, 'arschloch': 206, 'be': 207, 'tuerkei': 208, 'aufraeumen': 209, 'tragen': 210, 'sollen': 211, 'ausser': 212, 'fette': 213, 'voll': 214, 'geiler': 215, 'richtiger': 216, 'rot': 217, 'kyshera': 218, 'ei': 219, 'watch': 220, 'alten': 221, 'do': 222, 'passt': 223, 'geil': 224, 'arschloecher': 225, 'sehe': 226, 'dummer': 227, 'liebe': 228, '13': 229, 'wegen': 230, 'dr': 231, '6': 232, 'kostenlose': 233, 'fluechtlinge': 234, 'irgendwie': 235, 'glaube': 236, 'z': 237, 'wand': 238, 'merkels': 239, 'reden': 240, 'leute': 241, '7': 242, '8': 243, 'ibikus31': 244, 'wirklich': 245, 'verloren': 246, 'beatrix': 247, 'vstorch': 248, 'may': 249, 'traenen': 250, 'yooli': 251, 'derechte': 252, 'montanablack': 253, 'wunde': 254, 'hast': 255, 'kuehne': 256, 'komm': 257, 'freiheit': 258, 'europaeische': 259, 'europawahlkampf': 260, 'heissen': 261, 'drauf': 262, 'esc2019': 263, 'menschen': 264, 'bezeichnen': 265, 'ach': 266, 'gar': 267, 'sagt': 268, 'waehlen': 269, 'tot': 270, 'fuern': 271, 'lol': 272, 'fr': 273, 'ueberall': 274, 'gib': 275, 'dorsten': 276, 'teilausfall': 277, 'kommt': 278, 'einfuehren': 279, 'fah': 280, 'wild': 281, 'ne': 282, 'reg': 283, 'wahl': 284, 'erste': 285, 'schlimm': 286, '19': 287, 'one': 288, 'fies': 289, 'arme': 290, 'typ': 291, 'bremen': 292, 'kommen': 293, 'schaffen': 294, 'eva': 295, 'spiegelonline': 296, 'gibts': 297, 'unglaublich': 298, 'russische': 299, 'nackt': 300, 'alte': 301, 'muschi': 302, 'boden': 303, 'mir': 304, 'fahren': 305, '36': 306, 'alle': 307, 'regierung': 308, 'sagen': 309, 'hund': 310, 'sieht': 311, 'unfollow': 312, 'drdavidberger': 313, 'heulen': 314, '33': 315, 'brot': 316, 'seit': 317, 'findom': 318, 'teilen': 319, 'europawahl2019': 320, 'lachen': 321, 'islamisierung': 322, 'werden': 323, 'schlimmer': 324, 'same': 325, 'nic': 326, 'automaten': 327, 'verdammt': 328, 'waehler': 329, 'anfang': 330, 'sachen': 331, 'aufklaerer2017': 332, 'los': 333, 'verdanken': 334, 'erwa': 335, 'et': 336, 'schlagabtausch': 337, 'live': 338, 'rede': 339, 'propaganda': 340, 'sex': 341, 'muessen': 342, 'd2s': 343, '38': 344, 'eur': 345, 'raus': 346, 'mdr': 347, 'versucht': 348, 'pennen': 349, 'kacke': 350, 'merkst': 351, 'unserer': 352, 'tun': 353, 'kostenlos': 354, 'deutscher': 355, 'xd': 356, 'soviel': 357, 'haut': 358, 'movie': 359, '9': 360, 'itunes': 361, 'sale': 362, 'ueberhaupt': 363, 'korrupt': 364, 'w': 365, 'passie': 366, 'claudia': 367, 'religion': 368, 'friedens': 369, 'verkaufen': 370, 'luegenpresse': 371, 'erdogan': 372, 'trotzdem': 373, 'millionen': 374, '1': 375, 'ig': 376, 'loeffel': 377, 'penner': 378, 'wer': 379, 'brief': 380, 'at': 381, 'stbrandner': 382, 'das': 383, 'es': 384, 'der': 385, 'auf': 386, 'rechte': 387, 'rein': 388, 'wird': 389, 'no': 390, 'langsam': 391, 'vergewaltigung': 392, 'bereits': 393, 'tv': 394, 'eingeladen': 395, 'sofo': 396, 'update': 397, 'ca': 398, 'ramsen': 399, 'hoffe': 400, 'eier': 401, 'derb': 402, 'abseits': 403, 'zivilisation': 404, 'abgelegen': 405, 'umschrieben': 406, 'einlauf': 407, 'gerade': 408, 'fickt': 409, 'koblenz': 410, 'akk': 411, 'cdu': 412, 'funktionie': 413, 'wissenschaft': 414, 'bareholebitch': 415, 'frank': 416, 'song': 417, 'freundin': 418, 'werbung': 419, 'union': 420, 'machen': 421, 'geilen': 422, 'moegen': 423, 'bitte': 424, 'via': 425, 'erkenntnis': 426, 'cem': 427, 'oezdemir': 428, 'schlampen': 429, 'wisst': 430, 'nutte': 431, 'sorry': 432, 'nix': 433, 'nen': 434, 'fick': 435, 'nigromontanus': 436, 'milf': 437, 'merkelmussweg': 438, 'system': 439, 'warnung': 440, 'kant': 441, 'ko': 442, 'hr': 443, 'erlaubt': 444, 'berlin': 445, 'mitte': 446, 'i': 447, 'wuerselen': 448, 'harvard': 449, 'af': 450, 'stueck': 451, 'schwanz': 452, 'maas': 453, 'ltere': 454, '57': 455, 'xdeanmusicx': 456, 'gauland': 457, 'denken': 458, 'nazisraus': 459, 'vllt': 460, 'schwester': 461, 'gesagt': 462, 'naja': 463, 'si': 464, 'iq': 465, 'stimulator': 466, 'konservative': 467, 'troisdorf': 468, 'verspaetungskuerzung': 469, 'schere': 470, 'trump': 471, 'steine': 472, 'herrn': 473, 'aus': 474, 'tyske': 475, 'verantwo': 476, 'heimat': 477, 've': 478, 'berliner': 479, 'ziemlich': 480, 'sterben': 481, 'koennt': 482, 'yeah': 483, 'welle': 484, 'schiebt': 485, 'gaebe': 486, 'bereit': 487, 'gab': 488, 'downloaden': 489, 'nackte': 490, 'rp19': 491, '0': 492, 'al': 493, 'sozialisten': 494, 'freilichmagazin': 495, 'interfilm': 496, 'horrem': 497, 'lets': 498, 'plays': 499, 'fcbayern': 500, 'dercarsti': 501, 'boykottieren': 502, 'spekulie': 503, 'amt': 504, 'uebernimmt': 505, 'schaetzen': 506, 'zukunft': 507, 'mitgliedstaaten': 508, 'krieg': 509, 'wueste': 510, 'schlagzeile': 511, 'reagie': 512, 'tritt': 513, 'uk': 514, 'zuruecktritt': 515, 'freudentraenen': 516, 'justmedoro': 517, 'gaense': 518, 'hauen': 519, 'warmen': 520, 'ueberwinterungsqua': 521, 'iere': 522, 'guter': 523, 'patriot': 524, 'bord': 525, 'gestuerzt': 526, 'einen': 527, 'finanzie': 528, 'schmierenkomoedianten': 529, 'cockschelle': 530, 'kinderfickender': 531, 'nazan': 532, 'bittebitte': 533, 'loese': 534, 'punggdae': 535, 'trulla': 536, 'ld': 537, 'moderatorin': 538, 'letsdance2019': 539, 'letsdance': 540, 'spitzenkandidatin': 541, 'franziska': 542, 'keller': 543, 'co2': 544, 'steuer': 545, 'ausgesp': 546, 'mknhofheim': 547, 'backstage0000': 548, 'graubaer1953': 549, 'dduric': 550, 'yorck': 551, 'weber': 552, 'altmaier': 553, 'haen': 554, 'denkausfall': 555, 'lenarogl': 556, 'zunaechst': 557, 'beschraenken': 558, 'monsieur': 559, 'belier': 560, 'swiftxcited': 561, 'arsenal': 562, 'lady': 563, 'blockieren': 564, 'gut': 565, 'pakinson': 566, 'hand': 567, 'gbr': 568, 'jemandoriginal': 569, 'bestimmten': 570, 'folgen': 571, 'crazydigital': 572, 'vor': 573, 'uhr': 574, 'die': 575, '31': 576, 'jahre': 577, 'mach': 578, 'mit': 579, 'festpreise': 580, 'lob': 581, 'holzen': 582, 'amazonas': 583, 'sche': 584, 'cwbwelias': 585, 'theresagesper': 586, 'note': 587, 'verbessern': 588, 'physik': 589, 'referat': 590, 'stabile': 591, 'sahel': 592, 'staaten': 593, 'hilfe': 594, 'andyamholst': 595, 'sozialdarwinistische': 596, 'vorstufe': 597, 'froh': 598, 'saison': 599, 'verlaengerung': 600, 'leidens': 601, 'vfb': 602, 'sgepeeti': 603, 'verdursten': 604, 'gam': 605, 'fo': 606, 'nitegame': 607, 'almans': 608, 'problem': 609, 'gntm': 610, 'hyperbushido': 611, 'streu': 612, 'symon634': 613, 'ficke': 614, 'enkeltochter': 615, 'opas': 616, 'opis': 617, 'alter': 618, 'sack': 619, 'nwbrb44': 620, 'oberhausen': 621, '51': 622, '15': 623, 'greenziegel': 624, 'idee': 625, 'parkgebuehr': 626, 'fahrrader': 627, 'parkgebuehren': 628, 'comfeekazu': 629, 'freigeist': 630, 'nicolasjanzen': 631, 'och': 632, 'haha': 633, 'wohne': 634, 'schwelm': 635, 'nerd': 636, 'tj': 637, 'tweets': 638, 'rezomusik': 639, 'erinnerungen': 640, 'lefloid': 641, 'wach': 642, 'nationalismus': 643, 'feind': 644, 'europawahl19': 645, 'saufkumpel': 646, 'betiteln': 647, 'talent': 648, 'chrisepunkt': 649, 'doh': 650, 'bruder': 651, 'beides': 652, 'theitcrowdblog': 653, 'theitcrowd': 654, '04': 655, '07': 656, 'freetv': 657, 'itcrowd': 658, 'islamiqde': 659, 'amifabnow': 660, 'ashie': 661, 'pandabrchenthe1': 662, 'unbequem': 663, 'dwntwnbeats': 664, 'nachbarn': 665, 'laut': 666, 'musik': 667, 'anmacht': 668, 'messen': 669, 'anlange': 670, 'spucke': 671, 'seife': 672, 'nwbrs2': 673, 'burg': 674, '08': 675, 'twistringen': 676, '09': 677, 'betriebliche': 678, 'gruend': 679, 'wincent': 680, 'lanz': 681, 'kaum': 682, 'respekt': 683, 'deutscheamateu1': 684, 'sahne': 685, 'julia42833681': 686, 'leisner': 687, 'finde': 688, 'gewinne': 689, 'ekelhaft': 690, 'schockierend': 691, 'robdoubleyoo': 692, 'mialleixa34': 693, 'idiot': 694, 'veg': 695, 'and': 696, 'were': 697, 'pro': 698, 'animals': 699, 'sionist': 700, 'priv': 701, 'girl': 702, 'froehliches': 703, 'nationalitaetenraten': 704, 'angesagt': 705, 'degenerie': 706, 'master': 707, 'dlx': 708, 'lieben': 709, 'staendiger': 710, 'suppo': 711, 'exclusiv': 712, 'orientales': 713, 'follando': 714, 'fotosammlung': 715, 'pneumannberlin': 716, 'flixbus': 717, 'sebczaja': 718, 'omnibus': 719, 'bdo': 720, 'fernbus': 721, 'kasi': 722, 'alb': 723, 'lieblingslied': 724, 'innenminister': 725, 'kehre': 726, 'pisst': 727, 'stroemen': 728, 'fahrrad': 729, 'grillen': 730, 'unt': 731, 'hab': 732, 'durch': 733, 'jahren': 734, 'du': 735, 'hoehepunkt': 736, 'olivia': 737, 'frey55': 738, 'maltekaufmann': 739, 'maltchen': 740, 'hetze': 741, 'genutzt': 742, 'geschaetzt': 743, 'ra': 744, 'unglaublicher': 745, 'sigrid': 746, 'aktiv': 747, 'paranoia': 748, 'bestaeubung': 749, 'fridaysforfu': 750, 'ure': 751, 'voraus': 752, 'ooh': 753, 'narzisstischen': 754, 'ih': 755, 'seppgamsbichler': 756, 'joachimkessel': 757, 'soleylifa': 758, 'hockerrocker80': 759, 'exgruene': 760, 'mauschwitz': 761, 'joerg': 762, 'meuthen': 763, 'darauf': 764, 'organisie': 765, 'jutta': 766, 'ditfu': 767, 'tanturs': 768, 'jaaaa': 769, 'maxscurscur': 770, 'sah': 771, 'hurensoehne': 772, 'uech': 773, 'tadelloser': 774, 'wolf': 775, 'rudere': 776, 'verdammte': 777, 'ufer': 778, 'moza': 779, '2018': 780, 'sponse': 781, 'bau': 782, 'bloedsinn': 783, 'steuerzahler': 784, 'brutal': 785, 'abgemolken': 786, 'moment': 787, 'zugewandt': 788, 'zeitgleich': 789, 'ruecken': 790, 'hintern': 791, 'semihkrll': 792, 'hkktndr': 793, 'immediately': 794, 'xadlive': 795, 'cool': 796, 'bemuehtes': 797, 'ikelchen': 798, 'stellen': 799, 'kongress': 800, 'waegen': 801, 'wider': 802, 'skandaaaaaa': 803, 'bundestagsabgeordnete': 804, 'hoechst': 805, 'steigender': 806, 'verfolgung': 807, 'homosexueller': 808, 'riegel': 809, 'vorschieben': 810, 'lassmichbitteee': 811, 'eltern': 812, 'spass': 813, 'hurensohne': 814, 'fucking': 815, 'rum': 816, 'fuxking': 817, 'piraten': 818, 'nbb': 819, 'oranienburg': 820, 'sowie': 821, 'kreistag': 822, 'oberhavel': 823, 'kandidie': 824, 'ria': 825, 'nicola': 826, 'patchworkmutter': 827, 'quasseltier': 828, 'cyberramona': 829, 'huensoehne': 830, 'wuaaaaaaa': 831, 'fettes': 832, 'nordisch': 833, 'by': 834, 'nature': 835, 'hip': 836, 'hop': 837, 'legende': 838, 'neuem': 839, 'album': 840, 'lovestory': 841, 'moegt': 842, 'neueste': 843, 'bilder': 844, 'mandala': 845, 'retweet': 846, 'setzen': 847, 'sexy': 848, 'nude': 849, 'young': 850, 'germany': 851, 'ass': 852, 'nichtleslo': 853, 'erdkunde': 854, 'dermassen': 855, 'hauptstaede': 856, 'palastluger': 857, 'koepi': 858, 'momentanen': 859, 'abgeht': 860, 'laecherlich': 861, 'just': 862, 'sayin': 863, 'sackhaarfrisur': 864, 'gemuetlichen': 865, 'feie': 866, 'ags': 867, 'abend': 868, 'bissele': 869, 'trans': 870, 'warp': 871, 'gleichung': 872, 'tuefteln': 873, 'kr': 874, 'drumheadberlin': 875, 'unheil': 876, 'groessten': 877, 'anteil': 878, 'rest': 879, 'vasallen': 880, 'fern': 881, 'schreiber': 882, 'klasse': 883, 'zwei': 884, 'scheissegal': 885, 'opfer': 886, 'rapperin': 887, 'juju': 888, 'aktue': 889, 'zeitung': 890, 'energie': 891, 'vattenfall': 892, 'wasserstoff': 893, 'stayawakexo': 894, 'icys0da': 895, 'kongstrongru': 896, 'saskia': 897, 'harmon': 898, 'stellst': 899, 'triggern': 900, 'eucap': 901, 'niger': 902, 'funkeberlin': 903, 'westiebot': 904, 'mamafus': 905, 'peiwei': 906, 'apatzwahl': 907, 'nachdenkenswe': 908, 'siegeszug': 909, 'netzfund': 910, 'guidodietel': 911, 'entzauberung': 912, 'gestoppt': 913, 'skakeller': 914, 'geheimwaffe': 915, 'lautet': 916, 'labern': 917, 'aufgibt': 918, 'holgerewald1': 919, 'imam': 920, 'warnt': 921, 'uns': 922, 'gemaessigten': 923, 'helfen': 924, 'amy': 925, 'fliegenderelf': 926, 'suesseste': 927, 'koesst': 928, 'feiern': 929, 'klimawandelskeptikerin': 930, 'ruth': 931, 'townsley': 932, 'gefeue': 933, 'saeure': 934, 'farage': 935, 'gespritzt': 936, 'eklig': 937, 'charity': 938, 'policy': 939, 'chief': 940, 'kontoauszug': 941, 'drucken': 942, 'kassei': 943, 'tretet': 944, 'nochmal': 945, 'parlaments': 946, 'zieht': 947, 'hasser': 948, 'ulihaase': 949, 'sounds2move': 950, 'therealmrboccia': 951, 'taunusabbel': 952, 'eintracht': 953, 'merk': 954, 'freie': 955, 'gemeinderat': 956, 'multitain': 957, 'haticeakyuen': 958, 'kuehe': 959, 'unfinanzierbaren': 960, 'zukunftsvisionen': 961, 'melken': 962, 'kann': 963, 'buje78': 964, 'abgestiegen': 965, 'egal': 966, 'liga': 967, 'hsv': 968, 'hapaxlegomenos': 969, 'gestellt': 970, 'grunde': 971, 'normativ': 972, 'fakuum': 973, 'abgespaceste': 974, 'leipzig': 975, 'eisenbahnstrasse': 976, 'gingen': 977, 'araber': 978, 'aufeinander': 979, 'tuerke': 980, 'abgestochen': 981, 'bruststich': 982, 'alido': 983, 'olivari': 984, 'pepper46477330': 985, 'studienabbrechern': 986, 'subjekten': 987, 'ausbildung': 988, 'halbg': 989, 'ragazzi': 990, 'viele': 991, 'ticker': 992, 'spannung': 993, 'spricht': 994, 'havard': 995, 'absolventen': 996, 'swatch': 997, 'uhren': 998, 'toblerone': 999, 'muesst': 1000, 'schweizer': 1001, 'fernse': 1002, 'nebelniek': 1003, 'schlafen': 1004, 'kacken': 1005, 'jeky': 1006, 'veroeffentlicht': 1007, 'weitaus': 1008, 'bka': 1009, 'lagebild': 1010, 'gewalt': 1011, 'zuwanderern': 1012, 'nimm': 1013, 'analulla': 1014, 'fickgeilste': 1015, 'sekretaerin': 1016, 'ever': 1017, 'ruebenhorst': 1018, 'lernen': 1019, 'fehlern': 1020, 'quittung': 1021, 'steuerfinanzie': 1022, 'herbs': 1023, 'muttis': 1024, 'kostenloser': 1025, 'frankfu': 1026, 'erotik': 1027, 'massage': 1028, 'fkk': 1029, 'schweden': 1030, 'sitze': 1031, 'halbie': 1032, 'tja': 1033, 'ohren': 1034, 'klingeln': 1035, 'osram': 1036, '66240clc': 1037, 'xenarc': 1038, 'classic': 1039, 'duo': 1040, '61': 1041, 'new': 1042, 'lampen': 1043, 'xenon': 1044, 'brenner': 1045, 'xenonlampen': 1046, 'hallaschka': 1047, 'hh': 1048, 'konataplayz': 1049, 'mofuggaffm': 1050, 'tacoskr': 1051, '68': 1052, 'mdraktuell': 1053, 'soso': 1054, 'gelogen': 1055, 'war': 1056, 'plaer': 1057, 'tof': 1058, 'spekulieren': 1059, 'geliebt': 1060, 'worden': 1061, 'besinnunglos': 1062, 'abends': 1063, 'penis': 1064, 'aschenbecher': 1065, 'prdgrmn': 1066, 'renft1964': 1067, 'vorstellen': 1068, 'dinge': 1069, 'findet': 1070, 'traditionelles': 1071, 'backhausfest': 1072, 'tetscher': 1073, 'zwiebelkuchen': 1074, 'kuchen': 1075, 'special': 1076, 'heujahr': 1077, 'lauchkuchen': 1078, 'niederlaendische': 1079, 'abn': 1080, 'amro': 1081, 'bank': 1082, 'schwaechelt': 1083, 'jahresbeginn': 1084, 'tradesfeed': 1085, 'lanaaloveless': 1086, 'eiern': 1087, 'militaerhubschrauber': 1088, 'spezielle': 1089, 'zyklonfilter': 1090, 'shaden': 1091, 'aufgewirbeltem': 1092, 'turbinen': 1093, 'ninchen': 1094, 'lebst': 1095, 'feminismusgruppe': 1096, 'frauelo': 1097, 'sempfglas': 1098, 'herbstgefuehl': 1099, 'abtreibung': 1100, 'unmoralisch': 1101, 'erkennt': 1102, 'hinsicht': 1103, 'hirnverbrannte': 1104, 'drunkenraindrop': 1105, 'gefragt': 1106, 'presse': 1107, 'altpa': 1108, 'eien': 1109, '1000': 1110, 'islamisch': 1111, 'motivie': 1112, 'gewalttaten': 1113, 'abe': 1114, 'titten': 1115, 'nylon': 1116, 'parkplatzsex': 1117, 'kmoneydom': 1118, 'dunkle': 1119, 'jeans': 1120, 'l': 1121, 'brauchen': 1122, 'vibrator': 1123, 'ytbestofsjonas': 1124, 'redet': 1125, 'tag': 1126, 'kong': 1127, 'skull': 1128, 'island': 1129, 'regieren': 1130, 'ewig': 1131, 'hin': 1132, 'wiskundig': 1133, 'onjuist': 1134, 'disfosgen': 1135, 'geschwafel': 1136, 'schreiberling': 1137, 'buerokratie': 1138, 'joy333': 1139, 'fremde': 1140, 'frech': 1141, 'bekannte': 1142, 'freunde': 1143, 'etc': 1144, 'jagdfieber': 1145, 'kinderleben': 1146, 'fahne': 1147, 'nationalfahnen': 1148, 'hunde': 1149, 'tausende': 1150, 'naechsterunde': 1151, 'allerdings': 1152, 'bgefahren': 1153, 'machtgeil': 1154, 'jetzigen': 1155, 'charge': 1156, 'beschleicht': 1157, 'verdacht': 1158, 'waeren': 1159, 'einfa': 1160, 'officialnuplays': 1161, 'lowerclassmag': 1162, 'wichtig': 1163, 'liberalos': 1164, 'auslaendische': 1165, 'insbesondere': 1166, 'oligarchin': 1167, 'adele66661': 1168, 'schreddern': 1169, 'voegeln': 1170, 'vernichten': 1171, 'bienen': 1172, 'anbau': 1173, 'monokulturen': 1174, 'inf': 1175, 'blickch': 1176, 'erwiesen': 1177, 'muell': 1178, 'mikelontour': 1179, 'hasselfeld': 1180, 'wahlkampfhelferin': 1181, 'deepstateexpose': 1182, 'rothschild': 1183, 'lineage': 1184, 'houelle': 1185, 'beck': 1186, 'lu': 1187, 'rasend': 1188, 'windraeder': 1189, 'dazu': 1190, 'toetungs': 1191, 'crazy': 1192, 'umgehen': 1193, 'guennitack': 1194, 'teuren': 1195, 'karre': 1196, 'geizig': 1197, 'paar': 1198, 'euro': 1199, 'fuers': 1200, 'parkhaus': 1201, 'verraet': 1202, 'strenge': 1203, 'vorschriften': 1204, 'mimini97': 1205, 'kade': 1206, 're': 1207, 'gnocchi': 1208, 'mane': 1209, 'unbegreiflich': 1210, 'nido': 1211, 'magazin': 1212, 'grossbritannien': 1213, 'verhaltensforscher': 1214, 'unverheiratete': 1215, 'gluecklichsten': 1216, 'matthewsnow777': 1217, 'kevinalpha100': 1218, 'fernsehga': 1219, 'roterpaenda': 1220, 'piapale': 1221, 'niere': 1222, 'blutplasma': 1223, 'sebaso': 1224, 'grenzen': 1225, 'wachstums': 1226, 'billige': 1227, 'unwissenschaftliche': 1228, 'modellrechnung': 1229, 'verher': 1230, 'afternoonsand': 1231, 'acosta': 1232, 'seik': 1233, 'heilp': 1234, 'for': 1235, 'your': 1236, 'bullshit': 1237, 'hake': 1238, 'nach': 1239, 'europaweit': 1240, 'deutschla': 1241, 'wetter': 1242, 'wind': 1243, 'nnw': 1244, 'feuchtigkeit': 1245, 'luftdruck': 1246, '1039': 1247, 'hpa': 1248, 'eclipsesquirrei': 1249, 'doris': 1250, 'voice': 1251, 'valeriehoehne': 1252, 'oeffentlich': 1253, 'rechtlichen': 1254, 'grossteil': 1255, 'medien': 1256, 'infl': 1257, 'outofvalhalla': 1258, 'all': 1259, 'draussen': 1260, 'kritiker': 1261, 'leichtfe': 1262, 'nennt': 1263, 'kaempfen': 1264, 'dirkhafermann': 1265, 'kippa': 1266, 'refugeeswelcome': 1267, 'button': 1268, 'fancy': 1269, 'vorkommen': 1270, 'spaghetti': 1271, 'nem': 1272, 'gabel': 1273, 'sinnlos': 1274, 'dasperfektedinner': 1275, 'horopat': 1276, 'verfassungsschutz': 1277, 'lumpenverein': 1278, 'wollt': 1279, 'hier': 1280, 'andersdenkende': 1281, 'ueb': 1282, 'isis': 1283, 'anhaenger': 1284, 'updayde': 1285, 'gesendet': 1286, 'philippkirchbe2': 1287, 'regsprecher': 1288, 'peinliches': 1289, 'yasinaygan': 1290, 'tdoernb': 1291, 'alican': 1292, '2023': 1293, 'provomed': 1294, 'halts': 1295, 'stolz': 1296, 'har41637914': 1297, 'juergenbraunafd': 1298, 'volksterroristen': 1299, 'keiner': 1300, 'lamijaparker': 1301, 'zugzwang74': 1302, 'dave': 1303, 'mitchell': 1304, 'fsv': 1305, 'dfr38314168': 1306, 'devote': 1307, 'unweigerlich': 1308, 'geben': 1309, 'abgeschlossen': 1310, 'erol19732': 1311, 'zeitonline': 1312, 'sollten': 1313, 'ehemaligen': 1314, 'ueberprueft': 1315, 'stasi': 1316, 'boogie': 1317, 'underground': 1318, 'alhanda': 1319, 'amerikas': 1320, 'avengersendgame': 1321, 'b4rr0th': 1322, 'rufe': 1323, 'axel': 1324, 'voss': 1325, 'reisst': 1326, 'pepinosten': 1327, 'macher': 1328, 'gegensatz': 1329, 'lachern': 1330, 'ghile': 1331, 'ungesunde': 1332, 'schweinerei': 1333, 'knapper': 1334, 'zirkus': 1335, 'ceeembo': 1336, 'marcedonia': 1337, 'schroeder': 1338, 'vergleich': 1339, 'politicalbeauty': 1340, 'identitaeren': 1341, 'politische': 1342, 'kuenstler': 1343, 'radi': 1344, 'schule': 1345, 'gestern': 1346, 'abistress': 1347, 'wichsvorlage': 1348, 'teen': 1349, 'groe': 1350, 'schwnze': 1351, 'sexfilmegratis': 1352, 'clip': 1353, 'rickj78': 1354, 'fuuuuu': 1355, 'davinismus': 1356, 'rassist': 1357, 'supermarkt': 1358, 'weisse': 1359, 'bohnen': 1360, 'kauft': 1361, 'taschen': 1362, 'papier': 1363, 'zweitstaerkste': 1364, 'kraft': 1365, 'erzeit': 1366, 'fakt': 1367, 'sinnvoll': 1368, 'vi': 1369, 'lawyerberlin': 1370, 'staats': 1371, 'wurden': 1372, 'habeck': 1373, 'abaerbock': 1374, 'talk': 1375, 'shows': 1376, 'wahlmanipulatio': 1377, 'vazhnicza76765': 1378, 'tamaraberlin85': 1379, 'noverclaudia': 1380, 'kennst': 1381, 'embodiment': 1382, 'biete': 1383, 'coachingangebot': 1384, 'monate': 1385, 'embodimentcoaching': 1386, 'demutsch': 1387, 'busnotverkehr': 1388, 'gruenstadt': 1389, '40': 1390, 'matthiasmeisner': 1391, 'irr': 1392, 'news': 1393, 'dernbachan': 1394, 'ricarda': 1395, 'lang': 1396, 'fliegen': 1397, 'nerven': 1398, 'irgendwann': 1399, 'flieg': 1400, 'holyvitality': 1401, 'justvnty': 1402, 'verpiss': 1403, 'bineuerboss': 1404, 'fivethrsix': 1405, 'unlustig': 1406, 'sexistisch': 1407, 'hirntot': 1408, 'icj': 1409, 'fallen': 1410, 'berraschend': 1411, 'puff': 1412, 'thringen': 1413, 'tittenfick': 1414, 'german': 1415, 'brazer': 1416, 'gogollafit': 1417, 'reinscrolle': 1418, 'merke': 1419, 'ich': 1420, 'kompletten': 1421, 'gegenrealitaet': 1422, 'kon': 1423, 'lepenseur': 1424, 'treu': 1425, 'unserm': 1426, 'volkstum': 1427, 'fragolin': 1428, 'mitlesenden': 1429, 'blockwa': 1430, 'rausch': 1431, 'fetter': 1432, 'gynkologe': 1433, 'amate': 1434, 'jugendtliche': 1435, 'outdoor': 1436, 'isariuzcs': 1437, 'erstmal': 1438, 'bissel': 1439, 'klinik': 1440, 'goennen': 1441, 'neuwied': 1442, 'vanillelikoer': 1443, 'tuerkin': 1444, 'anfuehrungszeichen': 1445, 'kurdin': 1446, 'ausspionie': 1447, 'rbrinkhaus': 1448, 'rassistisch': 1449, 'verschissenen': 1450, 'externe': 1451, 'adapter': 1452, 'eingebaute': 1453, 'sfgjklkf': 1454, 'chrisjcsgo': 1455, 'fazeniko': 1456, 'eslcs': 1457, 'thanks': 1458, 'meterphysik': 1459, 'diversitaet': 1460, 'nikab': 1461, 'burka': 1462, 'tjador': 1463, 'hijab': 1464, 'jungs': 1465, 'duerfen': 1466, 'fetten': 1467, 'schwaenze': 1468, 'blank': 1469, 'schieben': 1470, 'reinspritzen': 1471, 'anne': 1472, 'kyf': 1473, 'destandaard': 1474, 'schwarz': 1475, 'gelb': 1476, 'blau': 1477, 'dreck': 1478, 'antidemokraten': 1479, 'verenden': 1480, 'glubschauge': 1481, 'barley': 1482, 'buergerrechtler': 1483, 'carsten': 1484, 'moralapostel': 1485, 'verschwoerer': 1486, 'walter': 1487, 'stei': 1488, 'bamberg': 1489, 'adac': 1490, 'beunruhigung': 1491, 'sargtraeger': 1492, 'ueberholte': 1493, 'autokultur': 1494, 'grabe': 1495, 'germanymisfits': 1496, 'juekofubago5': 1497, 'hexehanna8': 1498, 'philip': 1499, 'sympathisch': 1500, 'queen': 1501, 'bin': 1502, 'fan': 1503, 'heutige': 1504, 'grummelmann': 1505, 'ckmeine': 1506, 'explizit': 1507, 'sharebenhaufen': 1508, 'nachhaltig': 1509, 'pornofoto': 1510, 'sveta': 1511, 'belochkina': 1512, 'jugendliche': 1513, 'pono': 1514, 'italiano': 1515, 'perspective': 1516, '1978': 1517, 'interscope': 1518, 'hevellia64': 1519, 'ralf64904117': 1520, 'chrisfuerafd': 1521, 'kaempften': 1522, 'raeaechts': 1523, 'enkel': 1524, 'fridayforfuture': 1525, 'ser0599': 1526, 'elba': 1527, 'o08973042': 1528, 'missionen': 1529, 'merlethewizard': 1530, 'beweg': 1531, 'berxe': 1532, 'oesterreichischen': 1533, 'heraus': 1534, 'halten': 1535, 'sie': 1536, 'karina140911': 1537, 'herman': 1538, 'seid': 1539, 'politikstube': 1540, 'jogg': 1541, 'pfad': 1542, 'stopfe': 1543, 'wellensittich': 1544, 'ente': 1545, 'yannikau': 1546, 'abschieben': 1547, 'nackter': 1548, 'pornogratis': 1549, 'movil': 1550, 'extrem': 1551, 'ficksau': 1552, 'ost': 1553, 'carpediem041703': 1554, 'reichts': 1555, 'fluechtling': 1556, 'roten': 1557, 'braunen': 1558, 'meinungsfaschisten': 1559, 'hau': 1560, 'blog': 1561, 'fefe': 1562, 'ihr': 1563, 'kraftvollen': 1564, 'firefox': 1565, 'fuckup': 1566, 'voellig': 1567, 'unvorhergesehen': 1568, 'ueberraschen': 1569, 'dreckige': 1570, 'sterbanen': 1571, 'reachtruckchauffeur': 1572, 'vm': 1573, 'dittrich': 1574, 'bloed': 1575, 'lied': 1576, 'gone': 1577, 'jameskennedyuk': 1578, 'soundcloud': 1579, 'netreaper': 1580, 'miatamuc': 1581, 'kachelmann': 1582, 'gaaarrrrnix': 1583, 'tabulosen': 1584, 'touristenschreck': 1585, 'public': 1586, 'murksel': 1587, 'kopftuchtante': 1588, 'neckar67': 1589, 'nur': 1590, 'andr': 1591, 'ficktitze': 1592, 'praesentie': 1593, 'snipzh': 1594, 'staender': 1595, 'gebrauchen': 1596, 'drwaumiau': 1597, 'alexa': 1598, 'single': 1599, 'heisse': 1600, 'siri': 1601, 'anal': 1602, 'fahrschlerin': 1603, 'hausfrauen': 1604, 'lukaschenkaver1': 1605, 'belgien': 1606, 'failed': 1607, 'state': 1608, 'siehe': 1609, 'dutroux': 1610, 'bande': 1611, 'brabant': 1612, 'friedenau': 1613, 'matzegeisthardt': 1614, 'niedrig': 1615, 'loehne': 1616, 'spinner': 1617, 'frolleinvommeer': 1618, 'daue': 1619, 'frage': 1620, 'apotheke': 1621, 'haeufiger': 1622, 'versuche': 1623, 'meist': 1624, 'parallel': 1625, 'schade': 1626, 'drphiloponus': 1627, 'einmaersche': 1628, 'hui': 1629, 'einmischung': 1630, 'pfui': 1631, 'humor': 1632, 'xxx': 1633, 'vater': 1634, 'tweetba': 1635, 'hals': 1636, 'blockchains': 1637, 'denen': 1638, 'sebastiankurz': 1639, 'reinlegen': 1640, 'nwbrb84': 1641, 'holzminden': 1642, 'stadtoldendorf': 1643, 'fahrzeugstoerung': 1644, 'araujo': 1645, 'feltscher': 1646, 'exprofis': 1647, 'vengaboys': 1648, 'aidrieeen': 1649, 'ueberforde': 1650, 'katzenhaxen': 1651, 'dark': 1652, 'fighter': 1653, '87': 1654, 'r3tu4s': 1655, 'wenked': 1656, 'doch': 1657, 'verbiete': 1658, 'deswe': 1659, 'lowl3v3l': 1660, 'saftmoppel': 1661, 'klingt': 1662, 'allzu': 1663, 'faelle': 1664, 'irgendein': 1665, 'funktionierendes': 1666, 'militr49': 1667, 'irren': 1668, 'personen': 1669, 'roth': 1670, 'fdj': 1671, 'lerin': 1672, 'meinung': 1673, 'ichbinkoelnerin': 1674, 'menschheitsgeschichte': 1675, 'agitation': 1676, 'jackcaroni': 1677, 'metastabil': 1678, 'mateundottdrei': 1679, 'flexxer': 1680, 'sohn': 1681, 'vergewaltigt': 1682, 'blondine': 1683, 'spanking': 1684, 'po': 1685, 'katharinalotter': 1686, 'genial': 1687, 'trigger': 1688, 'crazy21292822': 1689, 'ons': 1690, 'angegeben': 1691, 'null': 1692, 'durchschnitt': 1693, 'unskilledjosh3': 1694, 'klassische': 1695, 'strecke': 1696, 'stadtstrecke': 1697, 'tilke': 1698, 'klarnamehornet': 1699, 'usw': 1700, 'genannt': 1701, 'hohlkoerper': 1702, 'lehnt': 1703, 'morden': 1704, 'vergewaltigen': 1705, 'erk': 1706, 'wohnungsbelegung': 1707, 'reglementieren': 1708, 'omi': 1709, 'raum': 1710, 'wohnung': 1711, 'bones': 1712, 'eiffel65': 1713, 'teamsesh': 1714, 'send': 1715, 'music': 1716, 'tage': 1717, 'woche': 1718, 'done': 1719, 'erleben': 1720, 'legendaeren': 1721, 'the': 1722, 'schulzzug': 1723, 'richtngfreiheit': 1724, 'woaaaah': 1725, 'knuffig': 1726, 'suesse': 1727, 'mietze': 1728, 'vickershv10': 1729, 'wohnungen': 1730, '3785': 1731, 'monatlich': 1732, 'syrien': 1733, 'zurue': 1734, 'tsuga1453': 1735, 'ehrensackhaar': 1736, 'permanent': 1737, 'verlie': 1738, 'jegliche': 1739, 'bedeutung': 1740, 'obwohl': 1741, 'oftmals': 1742, 'stefanolix': 1743, 'sagte': 1744, 'orban': 1745, 'nuetzliche': 1746, 'rolandgiersig': 1747, 'tuerkisen': 1748, 'blaunen': 1749, 'hauptsache': 1750, 'manipulie': 1751, 'weiterverbreiten': 1752, '1hver': 1753, 'dem': 1754, 'blauen': 1755, 'franzoesisch': 1756, 'olafundsabrina': 1757, 'schaeme': 1758, 'bunt': 1759, 'gewollt': 1760, 'offene': 1761, 'abc': 1762, 'einsatz': 1763, 'postve': 1764, 'eilzentrum': 1765, 'herford': 1766, 'will': 1767, 'duenkelhafter': 1768, 'kasernenhofton': 1769, 'strache': 1770, 'skandal': 1771, 'oesterreich': 1772, 'nwz': 1773, 'kommentar': 1774, 'xqualli': 1775, 'quallen': 1776, 'arrogante': 1777, 'grinsen': 1778, 'bayernspieler': 1779, 'geistigen': 1780, 'auge': 1781, 'schrder47552341': 1782, 'kvomlande': 1783, 'liz': 1784, 'skripte': 1785, 'liefen': 1786, '4kolner': 1787, 'bimmermann': 1788, 'dreckiges': 1789, 'ratte': 1790, 'verfuehredich': 1791, 'versenken': 1792, 'cootuegpa': 1793, 'migos': 1794, 'melekwtr': 1795, 'samsunspor': 1796, 'lutfen': 1797, 'aktuelle': 1798, 'stunde': 1799, 'damit': 1800, 'dusche': 1801, 'neuken': 1802, 'eindhoven': 1803, 'sexfilme': 1804, 'trinkt': 1805, 'reagenzglas': 1806, 'wohl': 1807, 'mrs': 1808, 'hyde': 1809, 'celestescoeurs': 1810, 'fussmatte': 1811, 'versiffte': 1812, 'kindermaschine': 1813, 'aka': 1814, 'papi': 1815, 'geholfen': 1816, 'fckafd': 1817, 'harburg': 1818, 'noafd': 1819, 'noafdhh': 1820, 'nonazishh': 1821, 'gerhardschwar11': 1822, 'wohlhabender': 1823, 'nebenjobs': 1824, 'verdienen': 1825, 'leistungsbeziehern': 1826, 'abzugspfl': 1827, 'serotoninaffine': 1828, 'aba': 1829, 'maria': 1830, 'zuckerfreie': 1831, 'free': 1832, 'porrno': 1833, 'tubes': 1834, 'vgeln': 1835, 'zeiten': 1836, 'back': 1837, 'chillig': 1838, 'dead': 1839, 'heinz': 1840, 'a1': 1841, 'linuzifer': 1842, 'eimer': 1843, 'dfkring': 1844, 'kuanqia': 1845, 'film': 1846, 'keksen': 1847, 'charlton': 1848, 'heston': 1849, 'quick': 1850, 'bzberlin': 1851, 'stellt': 1852, 'schicksalsfrage': 1853, 'enteignungen': 1854, 'kreditaufnahme': 1855, 'seenotrettung': 1856, 'mittelmeer': 1857, 'sea': 1858, 'kapitaenin': 1859, 'pia': 1860, 'klemp': 1861, 'beklagte': 1862, 'jokoundklaas': 1863, 'besatzung': 1864, 'kriminal': 1865, 'karlv1954': 1866, 'buerstmayr': 1867, 'spoe': 1868, 'kompletter': 1869, 'schwachsinn': 1870, 'waehlt': 1871, 'missbababelle': 1872, 'gestoe': 1873, 'sat1': 1874, 'fruehstuecksfernsehen': 1875, 'behauptet': 1876, 'bruenette': 1877, 'kuh': 1878, 'tatsaechlich': 1879, 'gefeie': 1880, 'digitalfarmer3': 1881, 'benoetigen': 1882, 'betreutes': 1883, 'impfanoffiziell': 1884, 'joe': 1885, 'rogan': 1886, 'bitte1bitcoin': 1887, 'bitcoin': 1888, 'initiative': 1889, 'schaumstoff': 1890, 'riesigen': 1891, 'stuecken': 1892, 'stopf': 1893, 'shoulderpads': 1894, 'kissenfuellung': 1895, 'krzyx0': 1896, 'fickfilme': 1897, 'geschichten': 1898, 'denise': 1899, 'pornovideo': 1900, 'besprechung': 1901, 'kollege': 1902, 'vergangenheit': 1903, 'oefteren': 1904, 'gerettet': 1905, 'doktordab': 1906, 'views': 1907, 'wuerzburg': 1908, 'gewohnheiten': 1909, 'haemophagus': 1910, 'gegroele': 1911, 'gif': 1912, 'dickelippe': 1913, 'stehen': 1914, 'betten': 1915, 'dachbalkon': 1916, 'hollywoodschaukel': 1917, 'famosa': 1918, 'style': 1919, 'camoesdeluis': 1920, 'dormdkepmsnfkw': 1921, 'birnstinglausro': 1922, 'mehrehe': 1923, 'maenner': 1924, 'kibaseasons': 1925, 'patronus': 1926, 'donalphonso': 1927, 'dachten': 1928, 'wahrheit': 1929, 'halbem': 1930, 'strauss': 1931, 'mielke': 1932, 'liegen': 1933, 'muesste': 1934, 'mi': 1935, 'natebmccann': 1936, 'larabmccann': 1937, 'icon': 1938, 'unnormal': 1939, 'heiss': 1940, 'hornyturkgerman': 1941, 'hammer': 1942, 'juliereichwein1': 1943, 'nanunan32440900': 1944, '72': 1945, 'jungfrauen': 1946, 'paradies': 1947, 'julia': 1948, 'kloeckner': 1949, 'weigern': 1950, 'anreichen': 1951, 'archiv': 1952, 'puettmann': 1953, 'bonn': 1954, 'alt': 1955, 'erklaeren': 1956, 'sch': 1957, 'geschafft': 1958, 'kollektivistischen': 1959, 'sozialistischen': 1960, 'ungebeten1': 1961, 'pinkcrazypony': 1962, 'gottseidank': 1963, 'vate': 1964, 'ag': 1965, 'wegsaufen': 1966, 'wahlplakate': 1967, 'ressourcen': 1968, 'verschwendungen': 1969, 'haraldlaatsch': 1970, 'isseshalt': 1971, 's19': 1972, '48': 1973, '02': 1974, 'arm': 1975, 'reich': 1976, 'gesehen': 1977, 'neomagazin': 1978, 'organisationsstruktur': 1979, 'black': 1980, 'to': 1981, 'illeras': 1982, 'geilereife': 1983, 'thzoern': 1984, 'huettl': 1985, 'alicewo18626168': 1986, 'donald': 1987, 'volk': 1988, 'stuerzen': 1989, 'eusouvizzy': 1990, 'digga': 1991, 'hose': 1992, '19steffen09': 1993, 'nina2776': 1994, 'raeuber': 1995, 'hoemma': 1996, 'schokokitsune': 1997, 'kriege': 1998, 'bla': 1999, 'wars': 2000, 'hirnwixerei': 2001, 'dpolgthueringen': 2002, 'eigenen': 2003, 'moechtegern': 2004, 'heilen': 2005, 'scheinwelt': 2006, '20j': 2007, 'bremehafen': 2008, 'afrikaner': 2009, 'kontainerschiffen': 2010, 'eingeschleust': 2011, 'geldsumme': 2012, 'uniondermitte': 2013, 'cm2111': 2014, 'prienkarin': 2015, 'bekannt': 2016, 'eivorsitzende': 2017, 'homasbruns': 2018, 'feministinnen': 2019, 'kanzleramtsmann': 2020, 'andree': 2021, 'dominik': 2022, 'jfliegenschmidt': 2023, 'quazanga': 2024, 'inpfgegner': 2025, 'homoeopathie': 2026, 'befuerwo': 2027, 'tro': 2028, 'blubeiia': 2029, 'kannst': 2030, 'benutz': 2031, 'deko': 2032, 'aussieht': 2033, 'inflation': 2034, 'atomreisfleisch': 2035, 'sascha2801': 2036, 'masochisten': 2037, 'mutie': 2038, 'luege': 2039, 'pepsovic': 2040, 'aceofm': 2041, 'beef': 2042, 'chiarerra': 2043, 'unterschrift': 2044, 'groupie': 2045, 'wuensche': 2046, 'sitcom': 2047, 'maassen': 2048, 'erika': 2049, 'steinbach': 2050, 'kramp': 2051, 'karrenbauer': 2052, 'sabineosman': 2053, 'sozialdemokrat': 2054, 'aeusse': 2055, 'sozialdemokratische': 2056, 'ideen': 2057, 'flippt': 2058, 'hissy': 2059, 'fits': 2060, 'latschen': 2061, 'block': 2062, 'esraschelt': 2063, 'instant': 2064, 'uniformen': 2065, 'frueh': 2066, 'geknallt': 2067, 'badewannenrand': 2068, 'gestossen': 2069, 'autsch': 2070, 'krafts': 2071, 'werk': 2072, 'wahlomat': 2073, 'stimme': 2074, 'komplett': 2075, 'infohunter161': 2076, 'leibhaftige': 2077, 'imaginaere': 2078, 'rote': 2079, 'gespenst': 2080, 'steuersenkung': 2081, 'video': 2082, 'geeignet': 2083, 'teddybaerenwerfer': 2084, 'bahnhofsklatscher': 2085, 'asylfans': 2086, 'gutmenschen': 2087, 'denniswe': 2088, 'versteh': 2089, 'schaue': 2090, 'gern': 2091, 'rainbow': 2092, 'arbeitest': 2093, 'level': 2094, 'licher': 2095, 'up': 2096, 'fragst': 2097, 'bikini': 2098, 'ischen': 2099, 'notgeiles': 2100, 'schlefaz': 2101, 'ruiner110': 2102, 'schwultuete': 2103, 'blickt': 2104, 'csu': 2105, 'yui': 2106, 'cristate': 2107, 'werd': 2108, 'ansonsten': 2109, 'wuerd': 2110, 'zeichnen': 2111, 'ars': 2112, 'halile': 2113, 'em67': 2114, 'berichterstattung': 2115, 'putschversuch': 2116, 'venezuela': 2117, 'aegypten': 2118, 'reiben': 2119, 'christen': 2120, 'asylunterkuenften': 2121, 'netzeitung': 2122, 'dann': 2123, 'ze': 2124, 'ruemmern': 2125, 'erdloch': 2126, 'abziehen': 2127, 'pferden': 2128, 'primamuslima': 2129, 'fall': 2130, 'sogenannten': 2131, 'ehrenmordes': 2132, 'islamischen': 2133, 'milieu': 2134, 'ehrenmorde': 2135, 'neoxynx': 2136, 'gittib2': 2137, 'bohnenstroh': 2138, 'argumente': 2139, 'nazikeule': 2140, 'geschwungen': 2141, 'kayrytter': 2142, 'compactmagazin': 2143, 'mitschuldig': 2144, 'gemacht': 2145, 'mord': 2146, 'totschlag': 2147, 'hofie': 2148, 'gaest': 2149, 'vollidiot': 2150, 'natur': 2151, 'entsorgen': 2152, 'treffen': 2153, 'venezolanischer': 2154, 'opposition': 2155, 'sanktionen': 2156, 'maduro': 2157, 'pruefen': 2158, 'haufen': 2159, 's1': 2160, 'mund': 2161, 'bochum': 2162, '56': 2163, 'umgeleitet': 2164, 'vorheriger': 2165, 'toll': 2166, 'einzigen': 2167, 'relevanten': 2168, 'zuwaechsen': 2169, '43': 2170, 'links': 2171, 'vielleic': 2172, 'hypnose': 2173, 'domina': 2174, 'blondinen': 2175, 'weiber': 2176, 'hermannuli': 2177, 'helgebruhn': 2178, 'blocken': 2179, 'imageberatungen': 2180, 'totale': 2181, 'polit': 2182, 'soaps': 2183, 'circa': 2184, '620': 2185, 'arabien': 2186, 'mohamme': 2187, 'teutonis52': 2188, 'verbrecher': 2189, 'abschaum': 2190, 'bowserofs': 2191, 'captaina': 2192, 'sephyr': 2193, 'yoshi': 2194, 'fett': 2195, 'zwannabe': 2196, 'draisaitl': 2197, 'gigant': 2198, 'jungwaehler': 2199, 'gebt': 2200, 'fuehrerscheine': 2201, 'bzw': 2202, 'keinen': 2203, 'autos': 2204, 'durchaus': 2205, 'dawa': 2206, 'aufrufe': 2207, 'hoeheren': 2208, 'gebu': 2209, 'enraten': 2210, 'peachcentral': 2211, 'jaehyunctzen': 2212, 'dealo': 2213, 'ru': 2214, 'intro': 2215, 'europaeer': 2216, 'amthor': 2217, 'aggro': 2218, 'hoo': 2219, 'nichtdasgrinsel': 2220, 'runtervomradweg': 2221, 'genauso': 2222, 'wenig': 2223, 'autofahrern': 2224, 'verhalten': 2225, 'achimspiegel': 2226, 'nichts': 2227, 'zerfall': 2228, 'armut': 2229, 'unterdrueckung': 2230, 'niewiedersozialismus': 2231, 'finanzidee': 2232, 'realistisch': 2233, 'spurengas': 2234, 'helllud123': 2235, 'messerverbot': 2236, 'oeffentlichen': 2237, 'o': 2238, 'massenhaft': 2239, 'messerstechereien': 2240, 'mckstf': 2241, 'ipcc': 2242, 'berichte': 2243, 'fibel': 2244, 'nachfolgendes': 2245, 'lesen': 2246, 'trottel': 2247, 'hauptpost': 2248, 'mitten': 2249, 'innenstadt': 2250, 'beim': 2251, 'telephonieren': 2252, 'paare': 2253, 'baseballschlger': 2254, 'hd': 2255, 'faznet': 2256, 'gefaellt': 2257, 'luvtigbiddies': 2258, 'liebs': 2259, 'mature': 2260, 'trkische': 2261, 'jue': 2262, 'iss': 2263, 'verkalkten': 2264, 'senil': 2265, 'krank': 2266, 'einheitlichen': 2267, 'nagen': 2268, 'hunge': 2269, 'uch': 2270, 'kalidreadful': 2271, 'dachte': 2272, 'zuerst': 2273, 'gluehendes': 2274, 'eisen': 2275, 'justin': 2276, 'bieber': 2277, 'such': 2278, 'kackjob': 2279, 'anfuehlt': 2280, 'ehrlich': 2281, 'ministerium': 2282, 'entscheidungen': 2283, 'tref': 2284, 'vielen': 2285, 'wuessten': 2286, 'bevorsteht': 2287, 'un': 2288, 'sprung': 2289, 'ung': 2290, 'schicksal': 2291, 'kuemmern': 2292, 'cmielinski': 2293, 'wvdnord': 2294, 'verbindung': 2295, 'bringen': 2296, 'offenbar': 2297, 'pragmatische': 2298, 'we': 2299, 'stoffhof': 2300, 'sperrmuell': 2301, 'entsorgt': 2302, 'zeitgedanke': 2303, 'eidigen': 2304, 'mag': 2305, 'doktor': 2306, 'glatt': 2307, 'jemand': 2308, 'doktorarbeit': 2309, 'angeschaut': 2310, 'kosmar': 2311, 'stage': 2312, 'gebaerdendolmetscher': 2313, 'mitschrift': 2314, 'pasemann': 2315, 'san': 2316, 'afdimbundestag': 2317, 'lillauch': 2318, 'knatterknabe': 2319, 'jailbreak': 2320, 'schafe': 2321, 'gras': 2322, 'viel': 2323, 'beaengstigend': 2324, 'solche': 2325, 'vollpfosten': 2326, 'ga': 2327, 'insekt': 2328, 'wegscheuchen': 2329, 'zack': 2330, 'schickt': 2331, 'groesseren': 2332, 'kollegen': 2333, 'kim53688025': 2334, 'fingern': 2335, 'bevor': 2336, 'loecher': 2337, 'lasse': 2338, 'ewingo13': 2339, 'vemoegen': 2340, 'beharrungsvermoegen': 2341, 'saschalobo': 2342, 'tut': 2343, 'klar': 2344, 'gabs': 2345, 'duemmer': 2346, 'wicket': 2347, 'ireland': 2348, '159': 2349, 'target': 2350, '382': 2351, 'balbirnie': 2352, 'ambris': 2353, '35': 2354, 'kobo013': 2355, 'grundeis': 2356, 'oben': 2357, 'sauerstoff': 2358, 'fehlt': 2359, 'dcberlin18': 2360, 'gelungene': 2361, 'horrorvision': 2362, 'sozialistischeren': 2363, 'deutschlands': 2364, 'eingeleitete': 2365, 'selbstz': 2366, 'wzwuppe': 2367, 'wuppe': 2368, 'seilbahn': 2369, 'staerksten': 2370, 'canellabini': 2371, 'brueste': 2372, 'da': 2373, 'abzulenken': 2374, 'ntvde': 2375, 'hoeren': 2376, 'tommayereuropa': 2377, 'mittlerweile': 2378, 'erstarkten': 2379, 'blockade': 2380, 'umaufen': 2381, 'dd0105': 2382, 'dd': 2383, 'nazifrei': 2384, 'dirkerik': 2385, 'dirk': 2386, 'erik': 2387, 'meinte': 2388, 'sz': 2389, 'muenchen': 2390, 'stadt': 2391, 'ns': 2392, 'dokuzentrum': 2393, 'ausstellung': 2394, 'gesellschaft': 2395, 'polarisie': 2396, 'jud': 2397, 'meinereiner76': 2398, 'tomaten': 2399, 'abwaschen': 2400, 'trocken': 2401, 'rubbeln': 2402, 'infotweet': 2403, 'firebro': 2404, 'kult': 2405, 'klassiker': 2406, 'drruschka': 2407, 'vbohrnmena': 2408, 'chuck': 2409, 'norris': 2410, 'kam': 2411, 'fand': 2412, 'faust': 2413, 'anti': 2414, 'baby': 2415, 'pille': 2416, 'unterscheidet': 2417, 'zorn': 2418, 'hass': 2419, 'hervorgeru': 2420, 'j': 2421, 'oo7': 2422, 'weit': 2423, 'denkmal': 2424, 'aufstellen': 2425, 'denkliebernicht': 2426, 'maximalist': 2427, 'spinnt': 2428, 'verrueckter': 2429, 'spitze': 2430, 'des': 2431, 'staates': 2432, 'steht': 2433, 'ausversehen': 2434, 'fickst': 2435, 'anstatt': 2436, 'netto': 2437, 'gehst': 2438, 'milch': 2439, 'kaufen': 2440, 'batalhadaldeia': 2441, 'lebensformation': 2442, 'kuendigt': 2443, 'kriminellen': 2444, 'clans': 2445, 'kampf': 2446, 'captblwillard': 2447, 'quergedachtblog': 2448, 'dasschafi': 2449, 'migraene': 2450, 'muslim': 2451, 'brueder': 2452, 'terroristen': 2453, 'streng': 2454, 'anscheinend': 2455, 'tomk19941417': 2456, 'paulvernica': 2457, 'heikomaas': 2458, 'kennt': 2459, 'wirkung': 2460, 'yungchristus': 2461, 'rules': 2462, 'ernennt': 2463, 'hauptgegner': 2464, 'huren': 2465, 'krankenschwester': 2466, 'kleines': 2467, 'missgebu': 2468, 'lifestyle': 2469, 'ethik': 2470, 'lic': 2471, 'ang': 2472, 'bezahlst': 2473, '18': 2474, 'jaehrige': 2475, 'unterhaelt': 2476, 'erbaermlich': 2477, 'reinduerfen': 2478, 'baehhh': 2479, 'inarenner': 2480, 'niveau': 2481, '21withcon': 2482, 'newhopereece': 2483, 'thevampscon': 2484, 'corbynbesson': 2485, 'pretty': 2486, 'mlkr': 2487, 'tigerelch': 2488, 'altermananne': 2489, 'gespult': 2490, 'ansatzweise': 2491, 'filmfestivalsb': 2492, 'bln': 2493, 'filmfestivalszene': 2494, 'zetix': 2495, 'maki': 2496, 'jolosohn': 2497, 'erforde': 2498, 'groben': 2499, 'mangel': 2500, 'skill': 2501, 'nachhause': 2502, 'weg': 2503, 'solch': 2504, 'andreasandy3131': 2505, 'sachsen': 2506, 'begruesst': 2507, 'angestossene': 2508, 'debatte': 2509, 'eigene': 2510, 'nase': 2511, 'fassen': 2512, 'sa': 2513, 'rablpeter': 2514, 'genau': 2515, 'deswegen': 2516, 'oevp': 2517, 'erfolgreich': 2518, 'kapieren': 2519, 'verkauft': 2520, 'maxxxporco': 2521, 'riesen': 2522, 'toy': 2523, 's12': 2524, '32': 2525, '30': 2526, 'betrieblicher': 2527, 'steinbacherika': 2528, 'gewisse': 2529, 'fehler': 2530, 'bringt': 2531, 'haette': 2532, 'trends': 2533, 'tony': 2534, 'hawk': 2535, 'ratchet': 2536, 'clank': 2537, 'jb': 2538, 'tagedieb': 2539, 'guerillahistori': 2540, 'bmjv': 2541, 'bund': 2542, 'erzaehlt': 2543, 'karl': 2544, 'yoongisbottle': 2545, 'zurueckgebliebenen': 2546, 'mensch': 2547, 'intelligent': 2548, 'don': 2549, 't': 2550, 'hard': 2551, 'on': 2552, 'yourself': 2553, 'ralf': 2554, 'stegner': 2555, 'obacht': 2556, 'ralle': 2557, 'schlappe': 2558, 'sushisascha1': 2559, 'besonders': 2560, 'verwe': 2561, 'bare': 2562, 'objekte': 2563, 'sparen': 2564, 'lego': 2565, 'legodimensions': 2566, '71170': 2567, 'playstation': 2568, '49': 2569, 'brickmerge': 2570, 'preisvergleich': 2571, 'can65schalke': 2572, 'goet': 2573, 'tuerkisch': 2574, 'heisst': 2575, 'maxotte': 2576, 'says': 2577, 'elite': 2578, 'universitaet': 2579, 'holen': 2580, 'studieren': 2581, 'ruinie': 2582, 'chhuegel': 2583, 'manfredweber': 2584, 'uebergeschnappten': 2585, 'ueberlassen': 2586, 'eine': 2587, 'anmassung': 2588, 'westwald1974': 2589, 'milvus84': 2590, 'waldenmonk': 2591, 'britainopello5': 2592, 'chrdorner': 2593, 'hoecke': 2594, 'uboot': 2595, 'vizzionsxi': 2596, 'le': 2597, 'grand': 2598, 'hizokay': 2599, 'chikitauz': 2600, 'babosa': 2601, 'espo': 2602, 'rep': 2603, 'maschine': 2604, 'filip': 2605, 'pog': 2606, 'digitale': 2607, 'stadionzeitung': 2608, 'puenktlich': 2609, 'meister': 2610, 'finale': 2611, 'packmas': 2612, 'fcbs': 2613, 'evoli': 2614, 'zelda': 2615, 'majoras': 2616, 'mask': 2617, 'derpepo': 2618, 's04': 2619, 'schalke': 2620, 'gg': 2621, 'leitbild': 2622, 'ziff': 2623, 'amtlich': 2624, 'olgatatala': 2625, 'uebermachst': 2626, 'tauss': 2627, 'erlebe': 2628, 'dielinke': 2629, 'absenkung': 2630, 'zahlungen': 2631, 'nato': 2632, 'forde': 2633, 'neues': 2634, 'lukasinho01': 2635, 'beschaef': 2636, 'noelmgb': 2637, 'sebbe2704': 2638, 'bass': 2639, 'atmosphaere': 2640, 'entspannt': 2641, 'dicke': 2642, 'steifen': 2643, 'ha': 2644, 'bettinaschimak': 2645, 'gschamig': 2646, 'mokoffiziell': 2647, 'wesentlich': 2648, 'timeline': 2649, 'doku': 2650, 'europakrise': 2651, 'machtpoker': 2652, 'theunwantedpath': 2653, 'offen': 2654, 'skyspo': 2655, 'spiel': 2656, 'lief': 2657, 'noch': 2658, 'verfickte': 2659, 'sonstwo': 2660, 'sgdfcsp': 2661, 'vegetarisch': 2662, 'aergern': 2663, 'garamsalami': 2664, 'graf': 2665, 'persephone': 2666, 'denk': 2667, 'sibel': 2668, 'schreibt': 2669, 'abgrund': 2670, 'einladend': 2671, 'chanmachtso': 2672, 'schmerzen': 2673, 'au': 2674, 'auuuuuu': 2675, 'zerstoerung': 2676, 'pparzival': 2677, 'antideutsche': 2678, 'pseudo': 2679, 'sache': 2680, 'innerhalb': 2681, 'bewegung': 2682, 'etablie': 2683, 'klug': 2684, 'wissen': 2685, 'hat': 2686, 'erfahren': 2687}\n"
          ]
        }
      ]
    },
    {
      "cell_type": "code",
      "source": [
        "\n",
        "\n",
        "encoded_clean_text_t_stem = tok_all.texts_to_sequences(clean_text_t_stem)\n",
        "print(clean_text_t_stem[0])\n",
        "print(encoded_clean_text_t_stem[0])\n",
        "\n"
      ],
      "metadata": {
        "colab": {
          "base_uri": "https://localhost:8080/"
        },
        "id": "-P-pLah2LPxY",
        "outputId": "a1b7af63-197f-47f6-a1dd-e9cbee67252b"
      },
      "execution_count": null,
      "outputs": [
        {
          "output_type": "stream",
          "name": "stdout",
          "text": [
            " dercarsti boykottieren hoe  besser an.   \n",
            "[13395, 875, 103, 133]\n"
          ]
        }
      ]
    },
    {
      "cell_type": "code",
      "source": [
        "\n",
        "\n",
        "from keras.preprocessing import sequence\n",
        "max_length = 100\n",
        "padded_clean_text_t_stem = sequence.pad_sequences(encoded_clean_text_t_stem, maxlen=max_length, padding='pre')\n",
        "\n"
      ],
      "metadata": {
        "id": "2pMhC-TaLSmb"
      },
      "execution_count": null,
      "outputs": []
    },
    {
      "cell_type": "markdown",
      "source": [
        "# FastText Embeddings\n"
      ],
      "metadata": {
        "id": "5X5wvSctLXIh"
      }
    },
    {
      "cell_type": "code",
      "source": [
        "from google.colab import drive\n",
        "drive.mount('/content/drive')"
      ],
      "metadata": {
        "colab": {
          "base_uri": "https://localhost:8080/"
        },
        "id": "dokXCwzTBF9C",
        "outputId": "7937b817-f948-445e-d391-5488d6ac9e3f"
      },
      "execution_count": null,
      "outputs": [
        {
          "output_type": "stream",
          "name": "stdout",
          "text": [
            "Mounted at /content/drive\n"
          ]
        }
      ]
    },
    {
      "cell_type": "code",
      "source": [
        "!gunzip /content/drive/MyDrive/cc.de.300.vec.gz"
      ],
      "metadata": {
        "id": "vWWgtLKGRqeg",
        "colab": {
          "base_uri": "https://localhost:8080/"
        },
        "outputId": "3c406a7f-bf6d-4da7-990c-28fcbfb63eb2"
      },
      "execution_count": null,
      "outputs": [
        {
          "output_type": "stream",
          "name": "stdout",
          "text": [
            "gzip: /content/drive/MyDrive/cc.de.300.vec.gz: No such file or directory\n"
          ]
        }
      ]
    },
    {
      "cell_type": "code",
      "source": [
        "# https://stackoverflow.com/questions/69964788/how-to-unzip-gz-file-using-google-colab\n",
        "\n",
        "# FastText Embedding link - https://fasttext.cc/docs/en/crawl-vectors.html\n",
        "\n",
        "import os\n",
        "embeddings_index = {}\n",
        "f = open('/content/drive/MyDrive/cc.de.300.vec',encoding='utf-8',errors='ignore')\n",
        "for line in f:\n",
        "    values = line.split()\n",
        "    word = values[0]\n",
        "    coefs = np.asarray(values[1:], dtype='float32')\n",
        "    embeddings_index[word] = coefs\n",
        "f.close()\n",
        "print('Loaded %s word vectors.' % len(embeddings_index))\n",
        "\n"
      ],
      "metadata": {
        "colab": {
          "base_uri": "https://localhost:8080/"
        },
        "id": "Qoiw0Dq_BQXE",
        "outputId": "84e01736-3d9b-45a8-cafd-569806b824c7"
      },
      "execution_count": null,
      "outputs": [
        {
          "output_type": "stream",
          "name": "stdout",
          "text": [
            "Loaded 2000000 word vectors.\n"
          ]
        }
      ]
    },
    {
      "cell_type": "code",
      "source": [
        "\n",
        "\n",
        "embedding_matrix = np.zeros((vocabulary_all+1, 300))\n",
        "for word, i in tok_all.word_index.items():\n",
        "    embedding_vector = embeddings_index.get(word)\n",
        "    if embedding_vector is not None:\n",
        "         embedding_matrix[i] = embedding_vector\n",
        "\n"
      ],
      "metadata": {
        "id": "a3edF-OKEHme"
      },
      "execution_count": null,
      "outputs": []
    },
    {
      "cell_type": "markdown",
      "source": [
        "# CNN 1 Model\n"
      ],
      "metadata": {
        "id": "d6GOcaWlTm3y"
      }
    },
    {
      "cell_type": "code",
      "source": [
        "\n",
        "\n",
        "from keras.preprocessing import sequence\n",
        "from keras.preprocessing import text\n",
        "import numpy as np\n",
        "from keras.models import Sequential\n",
        "from keras.layers import Dense, Dropout, Activation\n",
        "from keras.layers import Embedding, LSTM\n",
        "from keras.layers import Conv1D, Flatten\n",
        "from keras.preprocessing import text\n",
        "from keras.models import Sequential,Model\n",
        "from keras.layers import Dense ,Activation,MaxPool1D,Conv1D,Flatten,Dropout,Activation,Dropout,Input,Lambda,concatenate\n",
        "from keras.utils import np_utils\n",
        "from nltk.corpus import stopwords\n",
        "from nltk.tokenize import RegexpTokenizer\n",
        "from nltk.stem.porter import PorterStemmer\n",
        "import nltk\n",
        "import csv\n",
        "import pandas as pd\n",
        "\n",
        "from keras.preprocessing import text as keras_text, sequence as keras_seq\n",
        "\n"
      ],
      "metadata": {
        "id": "9SFf_1_ITmRV"
      },
      "execution_count": null,
      "outputs": []
    },
    {
      "cell_type": "code",
      "source": [
        "Embedding_Layer = Embedding(vocabulary_all+1, 300, weights=[embedding_matrix], input_length=max_length)"
      ],
      "metadata": {
        "id": "-pMKAUQqTsLu"
      },
      "execution_count": null,
      "outputs": []
    },
    {
      "cell_type": "code",
      "source": [
        "CNN1_network=Sequential([Embedding_Layer,\n",
        "                        Conv1D(128,3,activation=\"relu\",padding='same'),\n",
        "                       Dropout(0.2),\n",
        "                       MaxPool1D(2),\n",
        "                       Flatten(),\n",
        "                       Dense(64,activation=\"relu\"),\n",
        "                       Dropout(0.3),\n",
        "                       Dense(2,activation=\"sigmoid\")\n",
        "                       ])\n",
        "\n"
      ],
      "metadata": {
        "id": "FjDa1as8Ts6r"
      },
      "execution_count": null,
      "outputs": []
    },
    {
      "cell_type": "code",
      "source": [
        "CNN1_network.summary()"
      ],
      "metadata": {
        "colab": {
          "base_uri": "https://localhost:8080/"
        },
        "id": "eiFSH30GTxM9",
        "outputId": "cac95d88-0649-49ac-c464-d37df667b39f"
      },
      "execution_count": null,
      "outputs": [
        {
          "output_type": "stream",
          "name": "stdout",
          "text": [
            "Model: \"sequential\"\n",
            "_________________________________________________________________\n",
            " Layer (type)                Output Shape              Param #   \n",
            "=================================================================\n",
            " embedding (Embedding)       (None, 100, 300)          5032200   \n",
            "                                                                 \n",
            " conv1d (Conv1D)             (None, 100, 128)          115328    \n",
            "                                                                 \n",
            " dropout (Dropout)           (None, 100, 128)          0         \n",
            "                                                                 \n",
            " max_pooling1d (MaxPooling1D  (None, 50, 128)          0         \n",
            " )                                                               \n",
            "                                                                 \n",
            " flatten (Flatten)           (None, 6400)              0         \n",
            "                                                                 \n",
            " dense (Dense)               (None, 64)                409664    \n",
            "                                                                 \n",
            " dropout_1 (Dropout)         (None, 64)                0         \n",
            "                                                                 \n",
            " dense_1 (Dense)             (None, 2)                 130       \n",
            "                                                                 \n",
            "=================================================================\n",
            "Total params: 5,557,322\n",
            "Trainable params: 5,557,322\n",
            "Non-trainable params: 0\n",
            "_________________________________________________________________\n"
          ]
        }
      ]
    },
    {
      "cell_type": "code",
      "source": [
        "# https://stackoverflow.com/questions/62707558/importerror-cannot-import-name-adam-from-keras-optimizers\n",
        "from tensorflow.keras.optimizers import Adam\n",
        "CNN1_network.compile(loss = \"binary_crossentropy\", optimizer=Adam(lr=0.00003), metrics=[\"accuracy\"])"
      ],
      "metadata": {
        "colab": {
          "base_uri": "https://localhost:8080/"
        },
        "id": "uhrug6aYT0dU",
        "outputId": "bec8f420-9565-4002-dd51-33a394d1353f"
      },
      "execution_count": null,
      "outputs": [
        {
          "output_type": "stream",
          "name": "stderr",
          "text": [
            "/usr/local/lib/python3.7/dist-packages/keras/optimizer_v2/adam.py:105: UserWarning: The `lr` argument is deprecated, use `learning_rate` instead.\n",
            "  super(Adam, self).__init__(name, **kwargs)\n"
          ]
        }
      ]
    },
    {
      "cell_type": "code",
      "source": [
        "from keras.utils.vis_utils import plot_model\n",
        "plot_model(CNN1_network, to_file='CNN2_model_Train_GERMEVAL2019_Test_GERMEVAL2018_Task_A.png', show_shapes=True, show_layer_names=True)\n",
        "\n",
        "from keras.callbacks import EarlyStopping, ReduceLROnPlateau,ModelCheckpoint\n",
        "earlystopper = EarlyStopping(patience=8, verbose=1)\n",
        "\n",
        "reduce_lr = ReduceLROnPlateau(monitor='val_loss', factor=0.9,\n",
        "                              patience=2, min_lr=0.00001, verbose=1)\n",
        "\n"
      ],
      "metadata": {
        "id": "dt59qzVBT05I"
      },
      "execution_count": null,
      "outputs": []
    },
    {
      "cell_type": "code",
      "source": [
        "\n",
        "\n",
        "from keras.callbacks import EarlyStopping, ReduceLROnPlateau,ModelCheckpoint\n",
        "earlystopper = EarlyStopping(patience=8, verbose=1)\n",
        "\n",
        "reduce_lr = ReduceLROnPlateau(monitor='val_loss', factor=0.9,\n",
        "                              patience=2, min_lr=0.00001, verbose=1)\n",
        "\n"
      ],
      "metadata": {
        "id": "OcgGKGXRUYKs"
      },
      "execution_count": null,
      "outputs": []
    },
    {
      "cell_type": "markdown",
      "source": [
        "# Model Fitting or Training\n"
      ],
      "metadata": {
        "id": "ZzMJN4vKUauw"
      }
    },
    {
      "cell_type": "code",
      "source": [
        "hist = CNN1_network.fit(padded_clean_text_stem,label_twoDimension,epochs=200,batch_size=32,callbacks=[earlystopper, reduce_lr])"
      ],
      "metadata": {
        "colab": {
          "base_uri": "https://localhost:8080/"
        },
        "id": "0FdQuhx4ZP6B",
        "outputId": "5adfffff-8d9a-44d1-ab10-0fb0caaab70c"
      },
      "execution_count": null,
      "outputs": [
        {
          "output_type": "stream",
          "name": "stdout",
          "text": [
            "Epoch 1/200\n",
            "123/125 [============================>.] - ETA: 0s - loss: 0.6583 - accuracy: 0.6690"
          ]
        },
        {
          "output_type": "stream",
          "name": "stderr",
          "text": [
            "WARNING:tensorflow:Early stopping conditioned on metric `val_loss` which is not available. Available metrics are: loss,accuracy\n",
            "WARNING:tensorflow:Learning rate reduction is conditioned on metric `val_loss` which is not available. Available metrics are: loss,accuracy,lr\n"
          ]
        },
        {
          "output_type": "stream",
          "name": "stdout",
          "text": [
            "\b\b\b\b\b\b\b\b\b\b\b\b\b\b\b\b\b\b\b\b\b\b\b\b\b\b\b\b\b\b\b\b\b\b\b\b\b\b\b\b\b\b\b\b\b\b\b\b\b\b\b\b\b\b\b\b\b\b\b\b\b\b\b\b\b\b\b\b\b\b\b\b\b\b\b\b\b\b\b\b\b\b\b\b\r125/125 [==============================] - 13s 7ms/step - loss: 0.6576 - accuracy: 0.6693 - lr: 3.0000e-05\n",
            "Epoch 2/200\n",
            "121/125 [============================>.] - ETA: 0s - loss: 0.6274 - accuracy: 0.6779"
          ]
        },
        {
          "output_type": "stream",
          "name": "stderr",
          "text": [
            "WARNING:tensorflow:Early stopping conditioned on metric `val_loss` which is not available. Available metrics are: loss,accuracy\n",
            "WARNING:tensorflow:Learning rate reduction is conditioned on metric `val_loss` which is not available. Available metrics are: loss,accuracy,lr\n"
          ]
        },
        {
          "output_type": "stream",
          "name": "stdout",
          "text": [
            "\b\b\b\b\b\b\b\b\b\b\b\b\b\b\b\b\b\b\b\b\b\b\b\b\b\b\b\b\b\b\b\b\b\b\b\b\b\b\b\b\b\b\b\b\b\b\b\b\b\b\b\b\b\b\b\b\b\b\b\b\b\b\b\b\b\b\b\b\b\b\b\b\b\b\b\b\b\b\b\b\b\b\b\b\r125/125 [==============================] - 1s 7ms/step - loss: 0.6269 - accuracy: 0.6778 - lr: 3.0000e-05\n",
            "Epoch 3/200\n",
            "121/125 [============================>.] - ETA: 0s - loss: 0.6183 - accuracy: 0.6808"
          ]
        },
        {
          "output_type": "stream",
          "name": "stderr",
          "text": [
            "WARNING:tensorflow:Early stopping conditioned on metric `val_loss` which is not available. Available metrics are: loss,accuracy\n",
            "WARNING:tensorflow:Learning rate reduction is conditioned on metric `val_loss` which is not available. Available metrics are: loss,accuracy,lr\n"
          ]
        },
        {
          "output_type": "stream",
          "name": "stdout",
          "text": [
            "\b\b\b\b\b\b\b\b\b\b\b\b\b\b\b\b\b\b\b\b\b\b\b\b\b\b\b\b\b\b\b\b\b\b\b\b\b\b\b\b\b\b\b\b\b\b\b\b\b\b\b\b\b\b\b\b\b\b\b\b\b\b\b\b\b\b\b\b\b\b\b\b\b\b\b\b\b\b\b\b\b\b\b\b\r125/125 [==============================] - 1s 7ms/step - loss: 0.6200 - accuracy: 0.6778 - lr: 3.0000e-05\n",
            "Epoch 4/200\n",
            "120/125 [===========================>..] - ETA: 0s - loss: 0.6128 - accuracy: 0.6784"
          ]
        },
        {
          "output_type": "stream",
          "name": "stderr",
          "text": [
            "WARNING:tensorflow:Early stopping conditioned on metric `val_loss` which is not available. Available metrics are: loss,accuracy\n",
            "WARNING:tensorflow:Learning rate reduction is conditioned on metric `val_loss` which is not available. Available metrics are: loss,accuracy,lr\n"
          ]
        },
        {
          "output_type": "stream",
          "name": "stdout",
          "text": [
            "\b\b\b\b\b\b\b\b\b\b\b\b\b\b\b\b\b\b\b\b\b\b\b\b\b\b\b\b\b\b\b\b\b\b\b\b\b\b\b\b\b\b\b\b\b\b\b\b\b\b\b\b\b\b\b\b\b\b\b\b\b\b\b\b\b\b\b\b\b\b\b\b\b\b\b\b\b\b\b\b\b\b\b\b\r125/125 [==============================] - 1s 7ms/step - loss: 0.6133 - accuracy: 0.6778 - lr: 3.0000e-05\n",
            "Epoch 5/200\n",
            "120/125 [===========================>..] - ETA: 0s - loss: 0.6091 - accuracy: 0.6773"
          ]
        },
        {
          "output_type": "stream",
          "name": "stderr",
          "text": [
            "WARNING:tensorflow:Early stopping conditioned on metric `val_loss` which is not available. Available metrics are: loss,accuracy\n",
            "WARNING:tensorflow:Learning rate reduction is conditioned on metric `val_loss` which is not available. Available metrics are: loss,accuracy,lr\n"
          ]
        },
        {
          "output_type": "stream",
          "name": "stdout",
          "text": [
            "\b\b\b\b\b\b\b\b\b\b\b\b\b\b\b\b\b\b\b\b\b\b\b\b\b\b\b\b\b\b\b\b\b\b\b\b\b\b\b\b\b\b\b\b\b\b\b\b\b\b\b\b\b\b\b\b\b\b\b\b\b\b\b\b\b\b\b\b\b\b\b\b\b\b\b\b\b\b\b\b\b\b\b\b\r125/125 [==============================] - 1s 7ms/step - loss: 0.6083 - accuracy: 0.6778 - lr: 3.0000e-05\n",
            "Epoch 6/200\n",
            "122/125 [============================>.] - ETA: 0s - loss: 0.6000 - accuracy: 0.6780"
          ]
        },
        {
          "output_type": "stream",
          "name": "stderr",
          "text": [
            "WARNING:tensorflow:Early stopping conditioned on metric `val_loss` which is not available. Available metrics are: loss,accuracy\n",
            "WARNING:tensorflow:Learning rate reduction is conditioned on metric `val_loss` which is not available. Available metrics are: loss,accuracy,lr\n"
          ]
        },
        {
          "output_type": "stream",
          "name": "stdout",
          "text": [
            "\b\b\b\b\b\b\b\b\b\b\b\b\b\b\b\b\b\b\b\b\b\b\b\b\b\b\b\b\b\b\b\b\b\b\b\b\b\b\b\b\b\b\b\b\b\b\b\b\b\b\b\b\b\b\b\b\b\b\b\b\b\b\b\b\b\b\b\b\b\b\b\b\b\b\b\b\b\b\b\b\b\b\b\b\r125/125 [==============================] - 1s 7ms/step - loss: 0.5999 - accuracy: 0.6783 - lr: 3.0000e-05\n",
            "Epoch 7/200\n",
            "120/125 [===========================>..] - ETA: 0s - loss: 0.5894 - accuracy: 0.6771"
          ]
        },
        {
          "output_type": "stream",
          "name": "stderr",
          "text": [
            "WARNING:tensorflow:Early stopping conditioned on metric `val_loss` which is not available. Available metrics are: loss,accuracy\n",
            "WARNING:tensorflow:Learning rate reduction is conditioned on metric `val_loss` which is not available. Available metrics are: loss,accuracy,lr\n"
          ]
        },
        {
          "output_type": "stream",
          "name": "stdout",
          "text": [
            "\b\b\b\b\b\b\b\b\b\b\b\b\b\b\b\b\b\b\b\b\b\b\b\b\b\b\b\b\b\b\b\b\b\b\b\b\b\b\b\b\b\b\b\b\b\b\b\b\b\b\b\b\b\b\b\b\b\b\b\b\b\b\b\b\b\b\b\b\b\b\b\b\b\b\b\b\b\b\b\b\b\b\b\b\r125/125 [==============================] - 1s 7ms/step - loss: 0.5882 - accuracy: 0.6786 - lr: 3.0000e-05\n",
            "Epoch 8/200\n",
            "121/125 [============================>.] - ETA: 0s - loss: 0.5757 - accuracy: 0.6826"
          ]
        },
        {
          "output_type": "stream",
          "name": "stderr",
          "text": [
            "WARNING:tensorflow:Early stopping conditioned on metric `val_loss` which is not available. Available metrics are: loss,accuracy\n",
            "WARNING:tensorflow:Learning rate reduction is conditioned on metric `val_loss` which is not available. Available metrics are: loss,accuracy,lr\n"
          ]
        },
        {
          "output_type": "stream",
          "name": "stdout",
          "text": [
            "\b\b\b\b\b\b\b\b\b\b\b\b\b\b\b\b\b\b\b\b\b\b\b\b\b\b\b\b\b\b\b\b\b\b\b\b\b\b\b\b\b\b\b\b\b\b\b\b\b\b\b\b\b\b\b\b\b\b\b\b\b\b\b\b\b\b\b\b\b\b\b\b\b\b\b\b\b\b\b\b\b\b\b\b\r125/125 [==============================] - 1s 7ms/step - loss: 0.5749 - accuracy: 0.6836 - lr: 3.0000e-05\n",
            "Epoch 9/200\n",
            "120/125 [===========================>..] - ETA: 0s - loss: 0.5552 - accuracy: 0.6987"
          ]
        },
        {
          "output_type": "stream",
          "name": "stderr",
          "text": [
            "WARNING:tensorflow:Early stopping conditioned on metric `val_loss` which is not available. Available metrics are: loss,accuracy\n",
            "WARNING:tensorflow:Learning rate reduction is conditioned on metric `val_loss` which is not available. Available metrics are: loss,accuracy,lr\n"
          ]
        },
        {
          "output_type": "stream",
          "name": "stdout",
          "text": [
            "\b\b\b\b\b\b\b\b\b\b\b\b\b\b\b\b\b\b\b\b\b\b\b\b\b\b\b\b\b\b\b\b\b\b\b\b\b\b\b\b\b\b\b\b\b\b\b\b\b\b\b\b\b\b\b\b\b\b\b\b\b\b\b\b\b\b\b\b\b\b\b\b\b\b\b\b\b\b\b\b\b\b\b\b\r125/125 [==============================] - 1s 7ms/step - loss: 0.5541 - accuracy: 0.6999 - lr: 3.0000e-05\n",
            "Epoch 10/200\n",
            "120/125 [===========================>..] - ETA: 0s - loss: 0.5292 - accuracy: 0.7273"
          ]
        },
        {
          "output_type": "stream",
          "name": "stderr",
          "text": [
            "WARNING:tensorflow:Early stopping conditioned on metric `val_loss` which is not available. Available metrics are: loss,accuracy\n",
            "WARNING:tensorflow:Learning rate reduction is conditioned on metric `val_loss` which is not available. Available metrics are: loss,accuracy,lr\n"
          ]
        },
        {
          "output_type": "stream",
          "name": "stdout",
          "text": [
            "\b\b\b\b\b\b\b\b\b\b\b\b\b\b\b\b\b\b\b\b\b\b\b\b\b\b\b\b\b\b\b\b\b\b\b\b\b\b\b\b\b\b\b\b\b\b\b\b\b\b\b\b\b\b\b\b\b\b\b\b\b\b\b\b\b\b\b\b\b\b\b\b\b\b\b\b\b\b\b\b\b\b\b\b\r125/125 [==============================] - 1s 7ms/step - loss: 0.5281 - accuracy: 0.7302 - lr: 3.0000e-05\n",
            "Epoch 11/200\n",
            "120/125 [===========================>..] - ETA: 0s - loss: 0.4974 - accuracy: 0.7602"
          ]
        },
        {
          "output_type": "stream",
          "name": "stderr",
          "text": [
            "WARNING:tensorflow:Early stopping conditioned on metric `val_loss` which is not available. Available metrics are: loss,accuracy\n",
            "WARNING:tensorflow:Learning rate reduction is conditioned on metric `val_loss` which is not available. Available metrics are: loss,accuracy,lr\n"
          ]
        },
        {
          "output_type": "stream",
          "name": "stdout",
          "text": [
            "\b\b\b\b\b\b\b\b\b\b\b\b\b\b\b\b\b\b\b\b\b\b\b\b\b\b\b\b\b\b\b\b\b\b\b\b\b\b\b\b\b\b\b\b\b\b\b\b\b\b\b\b\b\b\b\b\b\b\b\b\b\b\b\b\b\b\b\b\b\b\b\b\b\b\b\b\b\b\b\b\b\b\b\b\r125/125 [==============================] - 1s 7ms/step - loss: 0.4952 - accuracy: 0.7640 - lr: 3.0000e-05\n",
            "Epoch 12/200\n",
            "120/125 [===========================>..] - ETA: 0s - loss: 0.4514 - accuracy: 0.8055"
          ]
        },
        {
          "output_type": "stream",
          "name": "stderr",
          "text": [
            "WARNING:tensorflow:Early stopping conditioned on metric `val_loss` which is not available. Available metrics are: loss,accuracy\n",
            "WARNING:tensorflow:Learning rate reduction is conditioned on metric `val_loss` which is not available. Available metrics are: loss,accuracy,lr\n"
          ]
        },
        {
          "output_type": "stream",
          "name": "stdout",
          "text": [
            "\b\b\b\b\b\b\b\b\b\b\b\b\b\b\b\b\b\b\b\b\b\b\b\b\b\b\b\b\b\b\b\b\b\b\b\b\b\b\b\b\b\b\b\b\b\b\b\b\b\b\b\b\b\b\b\b\b\b\b\b\b\b\b\b\b\b\b\b\b\b\b\b\b\b\b\b\b\b\b\b\b\b\b\b\r125/125 [==============================] - 1s 7ms/step - loss: 0.4544 - accuracy: 0.8038 - lr: 3.0000e-05\n",
            "Epoch 13/200\n",
            "121/125 [============================>.] - ETA: 0s - loss: 0.4067 - accuracy: 0.8510"
          ]
        },
        {
          "output_type": "stream",
          "name": "stderr",
          "text": [
            "WARNING:tensorflow:Early stopping conditioned on metric `val_loss` which is not available. Available metrics are: loss,accuracy\n",
            "WARNING:tensorflow:Learning rate reduction is conditioned on metric `val_loss` which is not available. Available metrics are: loss,accuracy,lr\n"
          ]
        },
        {
          "output_type": "stream",
          "name": "stdout",
          "text": [
            "\b\b\b\b\b\b\b\b\b\b\b\b\b\b\b\b\b\b\b\b\b\b\b\b\b\b\b\b\b\b\b\b\b\b\b\b\b\b\b\b\b\b\b\b\b\b\b\b\b\b\b\b\b\b\b\b\b\b\b\b\b\b\b\b\b\b\b\b\b\b\b\b\b\b\b\b\b\b\b\b\b\b\b\b\r125/125 [==============================] - 1s 7ms/step - loss: 0.4053 - accuracy: 0.8523 - lr: 3.0000e-05\n",
            "Epoch 14/200\n",
            "121/125 [============================>.] - ETA: 0s - loss: 0.3566 - accuracy: 0.8807"
          ]
        },
        {
          "output_type": "stream",
          "name": "stderr",
          "text": [
            "WARNING:tensorflow:Early stopping conditioned on metric `val_loss` which is not available. Available metrics are: loss,accuracy\n",
            "WARNING:tensorflow:Learning rate reduction is conditioned on metric `val_loss` which is not available. Available metrics are: loss,accuracy,lr\n"
          ]
        },
        {
          "output_type": "stream",
          "name": "stdout",
          "text": [
            "\b\b\b\b\b\b\b\b\b\b\b\b\b\b\b\b\b\b\b\b\b\b\b\b\b\b\b\b\b\b\b\b\b\b\b\b\b\b\b\b\b\b\b\b\b\b\b\b\b\b\b\b\b\b\b\b\b\b\b\b\b\b\b\b\b\b\b\b\b\b\b\b\b\b\b\b\b\b\b\b\b\b\b\b\r125/125 [==============================] - 1s 7ms/step - loss: 0.3551 - accuracy: 0.8819 - lr: 3.0000e-05\n",
            "Epoch 15/200\n",
            "120/125 [===========================>..] - ETA: 0s - loss: 0.3047 - accuracy: 0.9104"
          ]
        },
        {
          "output_type": "stream",
          "name": "stderr",
          "text": [
            "WARNING:tensorflow:Early stopping conditioned on metric `val_loss` which is not available. Available metrics are: loss,accuracy\n",
            "WARNING:tensorflow:Learning rate reduction is conditioned on metric `val_loss` which is not available. Available metrics are: loss,accuracy,lr\n"
          ]
        },
        {
          "output_type": "stream",
          "name": "stdout",
          "text": [
            "\b\b\b\b\b\b\b\b\b\b\b\b\b\b\b\b\b\b\b\b\b\b\b\b\b\b\b\b\b\b\b\b\b\b\b\b\b\b\b\b\b\b\b\b\b\b\b\b\b\b\b\b\b\b\b\b\b\b\b\b\b\b\b\b\b\b\b\b\b\b\b\b\b\b\b\b\b\b\b\b\b\b\b\b\r125/125 [==============================] - 1s 7ms/step - loss: 0.3035 - accuracy: 0.9114 - lr: 3.0000e-05\n",
            "Epoch 16/200\n",
            "120/125 [===========================>..] - ETA: 0s - loss: 0.2588 - accuracy: 0.9289"
          ]
        },
        {
          "output_type": "stream",
          "name": "stderr",
          "text": [
            "WARNING:tensorflow:Early stopping conditioned on metric `val_loss` which is not available. Available metrics are: loss,accuracy\n",
            "WARNING:tensorflow:Learning rate reduction is conditioned on metric `val_loss` which is not available. Available metrics are: loss,accuracy,lr\n"
          ]
        },
        {
          "output_type": "stream",
          "name": "stdout",
          "text": [
            "\b\b\b\b\b\b\b\b\b\b\b\b\b\b\b\b\b\b\b\b\b\b\b\b\b\b\b\b\b\b\b\b\b\b\b\b\b\b\b\b\b\b\b\b\b\b\b\b\b\b\b\b\b\b\b\b\b\b\b\b\b\b\b\b\b\b\b\b\b\b\b\b\b\b\b\b\b\b\b\b\b\b\b\b\r125/125 [==============================] - 1s 7ms/step - loss: 0.2597 - accuracy: 0.9282 - lr: 3.0000e-05\n",
            "Epoch 17/200\n",
            "120/125 [===========================>..] - ETA: 0s - loss: 0.2177 - accuracy: 0.9445"
          ]
        },
        {
          "output_type": "stream",
          "name": "stderr",
          "text": [
            "WARNING:tensorflow:Early stopping conditioned on metric `val_loss` which is not available. Available metrics are: loss,accuracy\n",
            "WARNING:tensorflow:Learning rate reduction is conditioned on metric `val_loss` which is not available. Available metrics are: loss,accuracy,lr\n"
          ]
        },
        {
          "output_type": "stream",
          "name": "stdout",
          "text": [
            "\b\b\b\b\b\b\b\b\b\b\b\b\b\b\b\b\b\b\b\b\b\b\b\b\b\b\b\b\b\b\b\b\b\b\b\b\b\b\b\b\b\b\b\b\b\b\b\b\b\b\b\b\b\b\b\b\b\b\b\b\b\b\b\b\b\b\b\b\b\b\b\b\b\b\b\b\b\b\b\b\b\b\b\b\r125/125 [==============================] - 1s 7ms/step - loss: 0.2160 - accuracy: 0.9452 - lr: 3.0000e-05\n",
            "Epoch 18/200\n",
            "120/125 [===========================>..] - ETA: 0s - loss: 0.1788 - accuracy: 0.9563"
          ]
        },
        {
          "output_type": "stream",
          "name": "stderr",
          "text": [
            "WARNING:tensorflow:Early stopping conditioned on metric `val_loss` which is not available. Available metrics are: loss,accuracy\n",
            "WARNING:tensorflow:Learning rate reduction is conditioned on metric `val_loss` which is not available. Available metrics are: loss,accuracy,lr\n"
          ]
        },
        {
          "output_type": "stream",
          "name": "stdout",
          "text": [
            "\b\b\b\b\b\b\b\b\b\b\b\b\b\b\b\b\b\b\b\b\b\b\b\b\b\b\b\b\b\b\b\b\b\b\b\b\b\b\b\b\b\b\b\b\b\b\b\b\b\b\b\b\b\b\b\b\b\b\b\b\b\b\b\b\b\b\b\b\b\b\b\b\b\b\b\b\b\b\b\b\b\b\b\b\r125/125 [==============================] - 1s 7ms/step - loss: 0.1817 - accuracy: 0.9542 - lr: 3.0000e-05\n",
            "Epoch 19/200\n",
            "120/125 [===========================>..] - ETA: 0s - loss: 0.1528 - accuracy: 0.9680"
          ]
        },
        {
          "output_type": "stream",
          "name": "stderr",
          "text": [
            "WARNING:tensorflow:Early stopping conditioned on metric `val_loss` which is not available. Available metrics are: loss,accuracy\n",
            "WARNING:tensorflow:Learning rate reduction is conditioned on metric `val_loss` which is not available. Available metrics are: loss,accuracy,lr\n"
          ]
        },
        {
          "output_type": "stream",
          "name": "stdout",
          "text": [
            "\b\b\b\b\b\b\b\b\b\b\b\b\b\b\b\b\b\b\b\b\b\b\b\b\b\b\b\b\b\b\b\b\b\b\b\b\b\b\b\b\b\b\b\b\b\b\b\b\b\b\b\b\b\b\b\b\b\b\b\b\b\b\b\b\b\b\b\b\b\b\b\b\b\b\b\b\b\b\b\b\b\b\b\b\r125/125 [==============================] - 1s 7ms/step - loss: 0.1522 - accuracy: 0.9687 - lr: 3.0000e-05\n",
            "Epoch 20/200\n",
            "119/125 [===========================>..] - ETA: 0s - loss: 0.1268 - accuracy: 0.9722"
          ]
        },
        {
          "output_type": "stream",
          "name": "stderr",
          "text": [
            "WARNING:tensorflow:Early stopping conditioned on metric `val_loss` which is not available. Available metrics are: loss,accuracy\n",
            "WARNING:tensorflow:Learning rate reduction is conditioned on metric `val_loss` which is not available. Available metrics are: loss,accuracy,lr\n"
          ]
        },
        {
          "output_type": "stream",
          "name": "stdout",
          "text": [
            "\b\b\b\b\b\b\b\b\b\b\b\b\b\b\b\b\b\b\b\b\b\b\b\b\b\b\b\b\b\b\b\b\b\b\b\b\b\b\b\b\b\b\b\b\b\b\b\b\b\b\b\b\b\b\b\b\b\b\b\b\b\b\b\b\b\b\b\b\b\b\b\b\b\b\b\b\b\b\b\b\b\b\b\b\r125/125 [==============================] - 1s 7ms/step - loss: 0.1264 - accuracy: 0.9732 - lr: 3.0000e-05\n",
            "Epoch 21/200\n",
            "121/125 [============================>.] - ETA: 0s - loss: 0.1065 - accuracy: 0.9806"
          ]
        },
        {
          "output_type": "stream",
          "name": "stderr",
          "text": [
            "WARNING:tensorflow:Early stopping conditioned on metric `val_loss` which is not available. Available metrics are: loss,accuracy\n",
            "WARNING:tensorflow:Learning rate reduction is conditioned on metric `val_loss` which is not available. Available metrics are: loss,accuracy,lr\n"
          ]
        },
        {
          "output_type": "stream",
          "name": "stdout",
          "text": [
            "\b\b\b\b\b\b\b\b\b\b\b\b\b\b\b\b\b\b\b\b\b\b\b\b\b\b\b\b\b\b\b\b\b\b\b\b\b\b\b\b\b\b\b\b\b\b\b\b\b\b\b\b\b\b\b\b\b\b\b\b\b\b\b\b\b\b\b\b\b\b\b\b\b\b\b\b\b\b\b\b\b\b\b\b\r125/125 [==============================] - 1s 7ms/step - loss: 0.1065 - accuracy: 0.9807 - lr: 3.0000e-05\n",
            "Epoch 22/200\n",
            "118/125 [===========================>..] - ETA: 0s - loss: 0.0913 - accuracy: 0.9844"
          ]
        },
        {
          "output_type": "stream",
          "name": "stderr",
          "text": [
            "WARNING:tensorflow:Early stopping conditioned on metric `val_loss` which is not available. Available metrics are: loss,accuracy\n",
            "WARNING:tensorflow:Learning rate reduction is conditioned on metric `val_loss` which is not available. Available metrics are: loss,accuracy,lr\n"
          ]
        },
        {
          "output_type": "stream",
          "name": "stdout",
          "text": [
            "\b\b\b\b\b\b\b\b\b\b\b\b\b\b\b\b\b\b\b\b\b\b\b\b\b\b\b\b\b\b\b\b\b\b\b\b\b\b\b\b\b\b\b\b\b\b\b\b\b\b\b\b\b\b\b\b\b\b\b\b\b\b\b\b\b\b\b\b\b\b\b\b\b\b\b\b\b\b\b\b\b\b\b\b\r125/125 [==============================] - 1s 7ms/step - loss: 0.0910 - accuracy: 0.9840 - lr: 3.0000e-05\n",
            "Epoch 23/200\n",
            "120/125 [===========================>..] - ETA: 0s - loss: 0.0735 - accuracy: 0.9893"
          ]
        },
        {
          "output_type": "stream",
          "name": "stderr",
          "text": [
            "WARNING:tensorflow:Early stopping conditioned on metric `val_loss` which is not available. Available metrics are: loss,accuracy\n",
            "WARNING:tensorflow:Learning rate reduction is conditioned on metric `val_loss` which is not available. Available metrics are: loss,accuracy,lr\n"
          ]
        },
        {
          "output_type": "stream",
          "name": "stdout",
          "text": [
            "\b\b\b\b\b\b\b\b\b\b\b\b\b\b\b\b\b\b\b\b\b\b\b\b\b\b\b\b\b\b\b\b\b\b\b\b\b\b\b\b\b\b\b\b\b\b\b\b\b\b\b\b\b\b\b\b\b\b\b\b\b\b\b\b\b\b\b\b\b\b\b\b\b\b\b\b\b\b\b\b\b\b\b\b\r125/125 [==============================] - 1s 7ms/step - loss: 0.0735 - accuracy: 0.9892 - lr: 3.0000e-05\n",
            "Epoch 24/200\n",
            "118/125 [===========================>..] - ETA: 0s - loss: 0.0644 - accuracy: 0.9907"
          ]
        },
        {
          "output_type": "stream",
          "name": "stderr",
          "text": [
            "WARNING:tensorflow:Early stopping conditioned on metric `val_loss` which is not available. Available metrics are: loss,accuracy\n",
            "WARNING:tensorflow:Learning rate reduction is conditioned on metric `val_loss` which is not available. Available metrics are: loss,accuracy,lr\n"
          ]
        },
        {
          "output_type": "stream",
          "name": "stdout",
          "text": [
            "\b\b\b\b\b\b\b\b\b\b\b\b\b\b\b\b\b\b\b\b\b\b\b\b\b\b\b\b\b\b\b\b\b\b\b\b\b\b\b\b\b\b\b\b\b\b\b\b\b\b\b\b\b\b\b\b\b\b\b\b\b\b\b\b\b\b\b\b\b\b\b\b\b\b\b\b\b\b\b\b\b\b\b\b\r125/125 [==============================] - 1s 7ms/step - loss: 0.0650 - accuracy: 0.9900 - lr: 3.0000e-05\n",
            "Epoch 25/200\n",
            "124/125 [============================>.] - ETA: 0s - loss: 0.0539 - accuracy: 0.9927"
          ]
        },
        {
          "output_type": "stream",
          "name": "stderr",
          "text": [
            "WARNING:tensorflow:Early stopping conditioned on metric `val_loss` which is not available. Available metrics are: loss,accuracy\n",
            "WARNING:tensorflow:Learning rate reduction is conditioned on metric `val_loss` which is not available. Available metrics are: loss,accuracy,lr\n"
          ]
        },
        {
          "output_type": "stream",
          "name": "stdout",
          "text": [
            "\b\b\b\b\b\b\b\b\b\b\b\b\b\b\b\b\b\b\b\b\b\b\b\b\b\b\b\b\b\b\b\b\b\b\b\b\b\b\b\b\b\b\b\b\b\b\b\b\b\b\b\b\b\b\b\b\b\b\b\b\b\b\b\b\b\b\b\b\b\b\b\b\b\b\b\b\b\b\b\b\b\b\b\b\r125/125 [==============================] - 1s 7ms/step - loss: 0.0537 - accuracy: 0.9927 - lr: 3.0000e-05\n",
            "Epoch 26/200\n",
            "121/125 [============================>.] - ETA: 0s - loss: 0.0474 - accuracy: 0.9925"
          ]
        },
        {
          "output_type": "stream",
          "name": "stderr",
          "text": [
            "WARNING:tensorflow:Early stopping conditioned on metric `val_loss` which is not available. Available metrics are: loss,accuracy\n",
            "WARNING:tensorflow:Learning rate reduction is conditioned on metric `val_loss` which is not available. Available metrics are: loss,accuracy,lr\n"
          ]
        },
        {
          "output_type": "stream",
          "name": "stdout",
          "text": [
            "\b\b\b\b\b\b\b\b\b\b\b\b\b\b\b\b\b\b\b\b\b\b\b\b\b\b\b\b\b\b\b\b\b\b\b\b\b\b\b\b\b\b\b\b\b\b\b\b\b\b\b\b\b\b\b\b\b\b\b\b\b\b\b\b\b\b\b\b\b\b\b\b\b\b\b\b\b\b\b\b\b\b\b\b\r125/125 [==============================] - 1s 7ms/step - loss: 0.0475 - accuracy: 0.9925 - lr: 3.0000e-05\n",
            "Epoch 27/200\n",
            "120/125 [===========================>..] - ETA: 0s - loss: 0.0402 - accuracy: 0.9948"
          ]
        },
        {
          "output_type": "stream",
          "name": "stderr",
          "text": [
            "WARNING:tensorflow:Early stopping conditioned on metric `val_loss` which is not available. Available metrics are: loss,accuracy\n",
            "WARNING:tensorflow:Learning rate reduction is conditioned on metric `val_loss` which is not available. Available metrics are: loss,accuracy,lr\n"
          ]
        },
        {
          "output_type": "stream",
          "name": "stdout",
          "text": [
            "\b\b\b\b\b\b\b\b\b\b\b\b\b\b\b\b\b\b\b\b\b\b\b\b\b\b\b\b\b\b\b\b\b\b\b\b\b\b\b\b\b\b\b\b\b\b\b\b\b\b\b\b\b\b\b\b\b\b\b\b\b\b\b\b\b\b\b\b\b\b\b\b\b\b\b\b\b\b\b\b\b\b\b\b\r125/125 [==============================] - 1s 7ms/step - loss: 0.0399 - accuracy: 0.9950 - lr: 3.0000e-05\n",
            "Epoch 28/200\n",
            "120/125 [===========================>..] - ETA: 0s - loss: 0.0348 - accuracy: 0.9951"
          ]
        },
        {
          "output_type": "stream",
          "name": "stderr",
          "text": [
            "WARNING:tensorflow:Early stopping conditioned on metric `val_loss` which is not available. Available metrics are: loss,accuracy\n",
            "WARNING:tensorflow:Learning rate reduction is conditioned on metric `val_loss` which is not available. Available metrics are: loss,accuracy,lr\n"
          ]
        },
        {
          "output_type": "stream",
          "name": "stdout",
          "text": [
            "\b\b\b\b\b\b\b\b\b\b\b\b\b\b\b\b\b\b\b\b\b\b\b\b\b\b\b\b\b\b\b\b\b\b\b\b\b\b\b\b\b\b\b\b\b\b\b\b\b\b\b\b\b\b\b\b\b\b\b\b\b\b\b\b\b\b\b\b\b\b\b\b\b\b\b\b\b\b\b\b\b\b\b\b\r125/125 [==============================] - 1s 7ms/step - loss: 0.0348 - accuracy: 0.9952 - lr: 3.0000e-05\n",
            "Epoch 29/200\n",
            "119/125 [===========================>..] - ETA: 0s - loss: 0.0315 - accuracy: 0.9966"
          ]
        },
        {
          "output_type": "stream",
          "name": "stderr",
          "text": [
            "WARNING:tensorflow:Early stopping conditioned on metric `val_loss` which is not available. Available metrics are: loss,accuracy\n",
            "WARNING:tensorflow:Learning rate reduction is conditioned on metric `val_loss` which is not available. Available metrics are: loss,accuracy,lr\n"
          ]
        },
        {
          "output_type": "stream",
          "name": "stdout",
          "text": [
            "\b\b\b\b\b\b\b\b\b\b\b\b\b\b\b\b\b\b\b\b\b\b\b\b\b\b\b\b\b\b\b\b\b\b\b\b\b\b\b\b\b\b\b\b\b\b\b\b\b\b\b\b\b\b\b\b\b\b\b\b\b\b\b\b\b\b\b\b\b\b\b\b\b\b\b\b\b\b\b\b\b\b\b\b\r125/125 [==============================] - 1s 7ms/step - loss: 0.0309 - accuracy: 0.9967 - lr: 3.0000e-05\n",
            "Epoch 30/200\n",
            "119/125 [===========================>..] - ETA: 0s - loss: 0.0263 - accuracy: 0.9971"
          ]
        },
        {
          "output_type": "stream",
          "name": "stderr",
          "text": [
            "WARNING:tensorflow:Early stopping conditioned on metric `val_loss` which is not available. Available metrics are: loss,accuracy\n",
            "WARNING:tensorflow:Learning rate reduction is conditioned on metric `val_loss` which is not available. Available metrics are: loss,accuracy,lr\n"
          ]
        },
        {
          "output_type": "stream",
          "name": "stdout",
          "text": [
            "\b\b\b\b\b\b\b\b\b\b\b\b\b\b\b\b\b\b\b\b\b\b\b\b\b\b\b\b\b\b\b\b\b\b\b\b\b\b\b\b\b\b\b\b\b\b\b\b\b\b\b\b\b\b\b\b\b\b\b\b\b\b\b\b\b\b\b\b\b\b\b\b\b\b\b\b\b\b\b\b\b\b\b\b\r125/125 [==============================] - 1s 7ms/step - loss: 0.0263 - accuracy: 0.9972 - lr: 3.0000e-05\n",
            "Epoch 31/200\n",
            "118/125 [===========================>..] - ETA: 0s - loss: 0.0225 - accuracy: 0.9971"
          ]
        },
        {
          "output_type": "stream",
          "name": "stderr",
          "text": [
            "WARNING:tensorflow:Early stopping conditioned on metric `val_loss` which is not available. Available metrics are: loss,accuracy\n",
            "WARNING:tensorflow:Learning rate reduction is conditioned on metric `val_loss` which is not available. Available metrics are: loss,accuracy,lr\n"
          ]
        },
        {
          "output_type": "stream",
          "name": "stdout",
          "text": [
            "\b\b\b\b\b\b\b\b\b\b\b\b\b\b\b\b\b\b\b\b\b\b\b\b\b\b\b\b\b\b\b\b\b\b\b\b\b\b\b\b\b\b\b\b\b\b\b\b\b\b\b\b\b\b\b\b\b\b\b\b\b\b\b\b\b\b\b\b\b\b\b\b\b\b\b\b\b\b\b\b\b\b\b\b\r125/125 [==============================] - 1s 7ms/step - loss: 0.0223 - accuracy: 0.9972 - lr: 3.0000e-05\n",
            "Epoch 32/200\n",
            "120/125 [===========================>..] - ETA: 0s - loss: 0.0186 - accuracy: 0.9987"
          ]
        },
        {
          "output_type": "stream",
          "name": "stderr",
          "text": [
            "WARNING:tensorflow:Early stopping conditioned on metric `val_loss` which is not available. Available metrics are: loss,accuracy\n",
            "WARNING:tensorflow:Learning rate reduction is conditioned on metric `val_loss` which is not available. Available metrics are: loss,accuracy,lr\n"
          ]
        },
        {
          "output_type": "stream",
          "name": "stdout",
          "text": [
            "\b\b\b\b\b\b\b\b\b\b\b\b\b\b\b\b\b\b\b\b\b\b\b\b\b\b\b\b\b\b\b\b\b\b\b\b\b\b\b\b\b\b\b\b\b\b\b\b\b\b\b\b\b\b\b\b\b\b\b\b\b\b\b\b\b\b\b\b\b\b\b\b\b\b\b\b\b\b\b\b\b\b\b\b\r125/125 [==============================] - 1s 7ms/step - loss: 0.0189 - accuracy: 0.9985 - lr: 3.0000e-05\n",
            "Epoch 33/200\n",
            "119/125 [===========================>..] - ETA: 0s - loss: 0.0175 - accuracy: 0.9982"
          ]
        },
        {
          "output_type": "stream",
          "name": "stderr",
          "text": [
            "WARNING:tensorflow:Early stopping conditioned on metric `val_loss` which is not available. Available metrics are: loss,accuracy\n",
            "WARNING:tensorflow:Learning rate reduction is conditioned on metric `val_loss` which is not available. Available metrics are: loss,accuracy,lr\n"
          ]
        },
        {
          "output_type": "stream",
          "name": "stdout",
          "text": [
            "\b\b\b\b\b\b\b\b\b\b\b\b\b\b\b\b\b\b\b\b\b\b\b\b\b\b\b\b\b\b\b\b\b\b\b\b\b\b\b\b\b\b\b\b\b\b\b\b\b\b\b\b\b\b\b\b\b\b\b\b\b\b\b\b\b\b\b\b\b\b\b\b\b\b\b\b\b\b\b\b\b\b\b\b\r125/125 [==============================] - 1s 7ms/step - loss: 0.0174 - accuracy: 0.9982 - lr: 3.0000e-05\n",
            "Epoch 34/200\n",
            "120/125 [===========================>..] - ETA: 0s - loss: 0.0152 - accuracy: 0.9982"
          ]
        },
        {
          "output_type": "stream",
          "name": "stderr",
          "text": [
            "WARNING:tensorflow:Early stopping conditioned on metric `val_loss` which is not available. Available metrics are: loss,accuracy\n",
            "WARNING:tensorflow:Learning rate reduction is conditioned on metric `val_loss` which is not available. Available metrics are: loss,accuracy,lr\n"
          ]
        },
        {
          "output_type": "stream",
          "name": "stdout",
          "text": [
            "\b\b\b\b\b\b\b\b\b\b\b\b\b\b\b\b\b\b\b\b\b\b\b\b\b\b\b\b\b\b\b\b\b\b\b\b\b\b\b\b\b\b\b\b\b\b\b\b\b\b\b\b\b\b\b\b\b\b\b\b\b\b\b\b\b\b\b\b\b\b\b\b\b\b\b\b\b\b\b\b\b\b\b\b\r125/125 [==============================] - 1s 7ms/step - loss: 0.0155 - accuracy: 0.9982 - lr: 3.0000e-05\n",
            "Epoch 35/200\n",
            "120/125 [===========================>..] - ETA: 0s - loss: 0.0129 - accuracy: 0.9992"
          ]
        },
        {
          "output_type": "stream",
          "name": "stderr",
          "text": [
            "WARNING:tensorflow:Early stopping conditioned on metric `val_loss` which is not available. Available metrics are: loss,accuracy\n",
            "WARNING:tensorflow:Learning rate reduction is conditioned on metric `val_loss` which is not available. Available metrics are: loss,accuracy,lr\n"
          ]
        },
        {
          "output_type": "stream",
          "name": "stdout",
          "text": [
            "\b\b\b\b\b\b\b\b\b\b\b\b\b\b\b\b\b\b\b\b\b\b\b\b\b\b\b\b\b\b\b\b\b\b\b\b\b\b\b\b\b\b\b\b\b\b\b\b\b\b\b\b\b\b\b\b\b\b\b\b\b\b\b\b\b\b\b\b\b\b\b\b\b\b\b\b\b\b\b\b\b\b\b\b\r125/125 [==============================] - 1s 7ms/step - loss: 0.0128 - accuracy: 0.9992 - lr: 3.0000e-05\n",
            "Epoch 36/200\n",
            "118/125 [===========================>..] - ETA: 0s - loss: 0.0112 - accuracy: 0.9995"
          ]
        },
        {
          "output_type": "stream",
          "name": "stderr",
          "text": [
            "WARNING:tensorflow:Early stopping conditioned on metric `val_loss` which is not available. Available metrics are: loss,accuracy\n",
            "WARNING:tensorflow:Learning rate reduction is conditioned on metric `val_loss` which is not available. Available metrics are: loss,accuracy,lr\n"
          ]
        },
        {
          "output_type": "stream",
          "name": "stdout",
          "text": [
            "\b\b\b\b\b\b\b\b\b\b\b\b\b\b\b\b\b\b\b\b\b\b\b\b\b\b\b\b\b\b\b\b\b\b\b\b\b\b\b\b\b\b\b\b\b\b\b\b\b\b\b\b\b\b\b\b\b\b\b\b\b\b\b\b\b\b\b\b\b\b\b\b\b\b\b\b\b\b\b\b\b\b\b\b\r125/125 [==============================] - 1s 7ms/step - loss: 0.0115 - accuracy: 0.9992 - lr: 3.0000e-05\n",
            "Epoch 37/200\n",
            "120/125 [===========================>..] - ETA: 0s - loss: 0.0101 - accuracy: 0.9995"
          ]
        },
        {
          "output_type": "stream",
          "name": "stderr",
          "text": [
            "WARNING:tensorflow:Early stopping conditioned on metric `val_loss` which is not available. Available metrics are: loss,accuracy\n",
            "WARNING:tensorflow:Learning rate reduction is conditioned on metric `val_loss` which is not available. Available metrics are: loss,accuracy,lr\n"
          ]
        },
        {
          "output_type": "stream",
          "name": "stdout",
          "text": [
            "\b\b\b\b\b\b\b\b\b\b\b\b\b\b\b\b\b\b\b\b\b\b\b\b\b\b\b\b\b\b\b\b\b\b\b\b\b\b\b\b\b\b\b\b\b\b\b\b\b\b\b\b\b\b\b\b\b\b\b\b\b\b\b\b\b\b\b\b\b\b\b\b\b\b\b\b\b\b\b\b\b\b\b\b\r125/125 [==============================] - 1s 7ms/step - loss: 0.0100 - accuracy: 0.9995 - lr: 3.0000e-05\n",
            "Epoch 38/200\n",
            "121/125 [============================>.] - ETA: 0s - loss: 0.0085 - accuracy: 0.9997"
          ]
        },
        {
          "output_type": "stream",
          "name": "stderr",
          "text": [
            "WARNING:tensorflow:Early stopping conditioned on metric `val_loss` which is not available. Available metrics are: loss,accuracy\n",
            "WARNING:tensorflow:Learning rate reduction is conditioned on metric `val_loss` which is not available. Available metrics are: loss,accuracy,lr\n"
          ]
        },
        {
          "output_type": "stream",
          "name": "stdout",
          "text": [
            "\b\b\b\b\b\b\b\b\b\b\b\b\b\b\b\b\b\b\b\b\b\b\b\b\b\b\b\b\b\b\b\b\b\b\b\b\b\b\b\b\b\b\b\b\b\b\b\b\b\b\b\b\b\b\b\b\b\b\b\b\b\b\b\b\b\b\b\b\b\b\b\b\b\b\b\b\b\b\b\b\b\b\b\b\r125/125 [==============================] - 1s 7ms/step - loss: 0.0085 - accuracy: 0.9997 - lr: 3.0000e-05\n",
            "Epoch 39/200\n",
            "119/125 [===========================>..] - ETA: 0s - loss: 0.0084 - accuracy: 0.9995"
          ]
        },
        {
          "output_type": "stream",
          "name": "stderr",
          "text": [
            "WARNING:tensorflow:Early stopping conditioned on metric `val_loss` which is not available. Available metrics are: loss,accuracy\n",
            "WARNING:tensorflow:Learning rate reduction is conditioned on metric `val_loss` which is not available. Available metrics are: loss,accuracy,lr\n"
          ]
        },
        {
          "output_type": "stream",
          "name": "stdout",
          "text": [
            "\b\b\b\b\b\b\b\b\b\b\b\b\b\b\b\b\b\b\b\b\b\b\b\b\b\b\b\b\b\b\b\b\b\b\b\b\b\b\b\b\b\b\b\b\b\b\b\b\b\b\b\b\b\b\b\b\b\b\b\b\b\b\b\b\b\b\b\b\b\b\b\b\b\b\b\b\b\b\b\b\b\b\b\b\r125/125 [==============================] - 1s 7ms/step - loss: 0.0084 - accuracy: 0.9995 - lr: 3.0000e-05\n",
            "Epoch 40/200\n",
            "119/125 [===========================>..] - ETA: 0s - loss: 0.0074 - accuracy: 1.0000"
          ]
        },
        {
          "output_type": "stream",
          "name": "stderr",
          "text": [
            "WARNING:tensorflow:Early stopping conditioned on metric `val_loss` which is not available. Available metrics are: loss,accuracy\n",
            "WARNING:tensorflow:Learning rate reduction is conditioned on metric `val_loss` which is not available. Available metrics are: loss,accuracy,lr\n"
          ]
        },
        {
          "output_type": "stream",
          "name": "stdout",
          "text": [
            "\b\b\b\b\b\b\b\b\b\b\b\b\b\b\b\b\b\b\b\b\b\b\b\b\b\b\b\b\b\b\b\b\b\b\b\b\b\b\b\b\b\b\b\b\b\b\b\b\b\b\b\b\b\b\b\b\b\b\b\b\b\b\b\b\b\b\b\b\b\b\b\b\b\b\b\b\b\b\b\b\b\b\b\b\r125/125 [==============================] - 1s 7ms/step - loss: 0.0072 - accuracy: 1.0000 - lr: 3.0000e-05\n",
            "Epoch 41/200\n",
            "119/125 [===========================>..] - ETA: 0s - loss: 0.0068 - accuracy: 1.0000"
          ]
        },
        {
          "output_type": "stream",
          "name": "stderr",
          "text": [
            "WARNING:tensorflow:Early stopping conditioned on metric `val_loss` which is not available. Available metrics are: loss,accuracy\n",
            "WARNING:tensorflow:Learning rate reduction is conditioned on metric `val_loss` which is not available. Available metrics are: loss,accuracy,lr\n"
          ]
        },
        {
          "output_type": "stream",
          "name": "stdout",
          "text": [
            "\b\b\b\b\b\b\b\b\b\b\b\b\b\b\b\b\b\b\b\b\b\b\b\b\b\b\b\b\b\b\b\b\b\b\b\b\b\b\b\b\b\b\b\b\b\b\b\b\b\b\b\b\b\b\b\b\b\b\b\b\b\b\b\b\b\b\b\b\b\b\b\b\b\b\b\b\b\b\b\b\b\b\b\b\r125/125 [==============================] - 1s 7ms/step - loss: 0.0068 - accuracy: 1.0000 - lr: 3.0000e-05\n",
            "Epoch 42/200\n",
            "121/125 [============================>.] - ETA: 0s - loss: 0.0058 - accuracy: 1.0000"
          ]
        },
        {
          "output_type": "stream",
          "name": "stderr",
          "text": [
            "WARNING:tensorflow:Early stopping conditioned on metric `val_loss` which is not available. Available metrics are: loss,accuracy\n",
            "WARNING:tensorflow:Learning rate reduction is conditioned on metric `val_loss` which is not available. Available metrics are: loss,accuracy,lr\n"
          ]
        },
        {
          "output_type": "stream",
          "name": "stdout",
          "text": [
            "\b\b\b\b\b\b\b\b\b\b\b\b\b\b\b\b\b\b\b\b\b\b\b\b\b\b\b\b\b\b\b\b\b\b\b\b\b\b\b\b\b\b\b\b\b\b\b\b\b\b\b\b\b\b\b\b\b\b\b\b\b\b\b\b\b\b\b\b\b\b\b\b\b\b\b\b\b\b\b\b\b\b\b\b\r125/125 [==============================] - 1s 7ms/step - loss: 0.0057 - accuracy: 1.0000 - lr: 3.0000e-05\n",
            "Epoch 43/200\n",
            "120/125 [===========================>..] - ETA: 0s - loss: 0.0052 - accuracy: 1.0000"
          ]
        },
        {
          "output_type": "stream",
          "name": "stderr",
          "text": [
            "WARNING:tensorflow:Early stopping conditioned on metric `val_loss` which is not available. Available metrics are: loss,accuracy\n",
            "WARNING:tensorflow:Learning rate reduction is conditioned on metric `val_loss` which is not available. Available metrics are: loss,accuracy,lr\n"
          ]
        },
        {
          "output_type": "stream",
          "name": "stdout",
          "text": [
            "\b\b\b\b\b\b\b\b\b\b\b\b\b\b\b\b\b\b\b\b\b\b\b\b\b\b\b\b\b\b\b\b\b\b\b\b\b\b\b\b\b\b\b\b\b\b\b\b\b\b\b\b\b\b\b\b\b\b\b\b\b\b\b\b\b\b\b\b\b\b\b\b\b\b\b\b\b\b\b\b\b\b\b\b\r125/125 [==============================] - 1s 7ms/step - loss: 0.0052 - accuracy: 1.0000 - lr: 3.0000e-05\n",
            "Epoch 44/200\n",
            "121/125 [============================>.] - ETA: 0s - loss: 0.0044 - accuracy: 1.0000"
          ]
        },
        {
          "output_type": "stream",
          "name": "stderr",
          "text": [
            "WARNING:tensorflow:Early stopping conditioned on metric `val_loss` which is not available. Available metrics are: loss,accuracy\n",
            "WARNING:tensorflow:Learning rate reduction is conditioned on metric `val_loss` which is not available. Available metrics are: loss,accuracy,lr\n"
          ]
        },
        {
          "output_type": "stream",
          "name": "stdout",
          "text": [
            "\b\b\b\b\b\b\b\b\b\b\b\b\b\b\b\b\b\b\b\b\b\b\b\b\b\b\b\b\b\b\b\b\b\b\b\b\b\b\b\b\b\b\b\b\b\b\b\b\b\b\b\b\b\b\b\b\b\b\b\b\b\b\b\b\b\b\b\b\b\b\b\b\b\b\b\b\b\b\b\b\b\b\b\b\r125/125 [==============================] - 1s 7ms/step - loss: 0.0045 - accuracy: 1.0000 - lr: 3.0000e-05\n",
            "Epoch 45/200\n",
            "120/125 [===========================>..] - ETA: 0s - loss: 0.0044 - accuracy: 0.9997"
          ]
        },
        {
          "output_type": "stream",
          "name": "stderr",
          "text": [
            "WARNING:tensorflow:Early stopping conditioned on metric `val_loss` which is not available. Available metrics are: loss,accuracy\n",
            "WARNING:tensorflow:Learning rate reduction is conditioned on metric `val_loss` which is not available. Available metrics are: loss,accuracy,lr\n"
          ]
        },
        {
          "output_type": "stream",
          "name": "stdout",
          "text": [
            "\b\b\b\b\b\b\b\b\b\b\b\b\b\b\b\b\b\b\b\b\b\b\b\b\b\b\b\b\b\b\b\b\b\b\b\b\b\b\b\b\b\b\b\b\b\b\b\b\b\b\b\b\b\b\b\b\b\b\b\b\b\b\b\b\b\b\b\b\b\b\b\b\b\b\b\b\b\b\b\b\b\b\b\b\r125/125 [==============================] - 1s 7ms/step - loss: 0.0044 - accuracy: 0.9997 - lr: 3.0000e-05\n",
            "Epoch 46/200\n",
            "119/125 [===========================>..] - ETA: 0s - loss: 0.0039 - accuracy: 0.9997"
          ]
        },
        {
          "output_type": "stream",
          "name": "stderr",
          "text": [
            "WARNING:tensorflow:Early stopping conditioned on metric `val_loss` which is not available. Available metrics are: loss,accuracy\n",
            "WARNING:tensorflow:Learning rate reduction is conditioned on metric `val_loss` which is not available. Available metrics are: loss,accuracy,lr\n"
          ]
        },
        {
          "output_type": "stream",
          "name": "stdout",
          "text": [
            "\b\b\b\b\b\b\b\b\b\b\b\b\b\b\b\b\b\b\b\b\b\b\b\b\b\b\b\b\b\b\b\b\b\b\b\b\b\b\b\b\b\b\b\b\b\b\b\b\b\b\b\b\b\b\b\b\b\b\b\b\b\b\b\b\b\b\b\b\b\b\b\b\b\b\b\b\b\b\b\b\b\b\b\b\r125/125 [==============================] - 1s 7ms/step - loss: 0.0039 - accuracy: 0.9997 - lr: 3.0000e-05\n",
            "Epoch 47/200\n",
            "119/125 [===========================>..] - ETA: 0s - loss: 0.0035 - accuracy: 0.9997"
          ]
        },
        {
          "output_type": "stream",
          "name": "stderr",
          "text": [
            "WARNING:tensorflow:Early stopping conditioned on metric `val_loss` which is not available. Available metrics are: loss,accuracy\n",
            "WARNING:tensorflow:Learning rate reduction is conditioned on metric `val_loss` which is not available. Available metrics are: loss,accuracy,lr\n"
          ]
        },
        {
          "output_type": "stream",
          "name": "stdout",
          "text": [
            "\b\b\b\b\b\b\b\b\b\b\b\b\b\b\b\b\b\b\b\b\b\b\b\b\b\b\b\b\b\b\b\b\b\b\b\b\b\b\b\b\b\b\b\b\b\b\b\b\b\b\b\b\b\b\b\b\b\b\b\b\b\b\b\b\b\b\b\b\b\b\b\b\b\b\b\b\b\b\b\b\b\b\b\b\r125/125 [==============================] - 1s 7ms/step - loss: 0.0035 - accuracy: 0.9997 - lr: 3.0000e-05\n",
            "Epoch 48/200\n",
            "121/125 [============================>.] - ETA: 0s - loss: 0.0032 - accuracy: 1.0000"
          ]
        },
        {
          "output_type": "stream",
          "name": "stderr",
          "text": [
            "WARNING:tensorflow:Early stopping conditioned on metric `val_loss` which is not available. Available metrics are: loss,accuracy\n",
            "WARNING:tensorflow:Learning rate reduction is conditioned on metric `val_loss` which is not available. Available metrics are: loss,accuracy,lr\n"
          ]
        },
        {
          "output_type": "stream",
          "name": "stdout",
          "text": [
            "\b\b\b\b\b\b\b\b\b\b\b\b\b\b\b\b\b\b\b\b\b\b\b\b\b\b\b\b\b\b\b\b\b\b\b\b\b\b\b\b\b\b\b\b\b\b\b\b\b\b\b\b\b\b\b\b\b\b\b\b\b\b\b\b\b\b\b\b\b\b\b\b\b\b\b\b\b\b\b\b\b\b\b\b\r125/125 [==============================] - 1s 7ms/step - loss: 0.0031 - accuracy: 1.0000 - lr: 3.0000e-05\n",
            "Epoch 49/200\n",
            "119/125 [===========================>..] - ETA: 0s - loss: 0.0027 - accuracy: 1.0000"
          ]
        },
        {
          "output_type": "stream",
          "name": "stderr",
          "text": [
            "WARNING:tensorflow:Early stopping conditioned on metric `val_loss` which is not available. Available metrics are: loss,accuracy\n",
            "WARNING:tensorflow:Learning rate reduction is conditioned on metric `val_loss` which is not available. Available metrics are: loss,accuracy,lr\n"
          ]
        },
        {
          "output_type": "stream",
          "name": "stdout",
          "text": [
            "\b\b\b\b\b\b\b\b\b\b\b\b\b\b\b\b\b\b\b\b\b\b\b\b\b\b\b\b\b\b\b\b\b\b\b\b\b\b\b\b\b\b\b\b\b\b\b\b\b\b\b\b\b\b\b\b\b\b\b\b\b\b\b\b\b\b\b\b\b\b\b\b\b\b\b\b\b\b\b\b\b\b\b\b\r125/125 [==============================] - 1s 7ms/step - loss: 0.0027 - accuracy: 1.0000 - lr: 3.0000e-05\n",
            "Epoch 50/200\n",
            "120/125 [===========================>..] - ETA: 0s - loss: 0.0025 - accuracy: 1.0000"
          ]
        },
        {
          "output_type": "stream",
          "name": "stderr",
          "text": [
            "WARNING:tensorflow:Early stopping conditioned on metric `val_loss` which is not available. Available metrics are: loss,accuracy\n",
            "WARNING:tensorflow:Learning rate reduction is conditioned on metric `val_loss` which is not available. Available metrics are: loss,accuracy,lr\n"
          ]
        },
        {
          "output_type": "stream",
          "name": "stdout",
          "text": [
            "\b\b\b\b\b\b\b\b\b\b\b\b\b\b\b\b\b\b\b\b\b\b\b\b\b\b\b\b\b\b\b\b\b\b\b\b\b\b\b\b\b\b\b\b\b\b\b\b\b\b\b\b\b\b\b\b\b\b\b\b\b\b\b\b\b\b\b\b\b\b\b\b\b\b\b\b\b\b\b\b\b\b\b\b\r125/125 [==============================] - 1s 7ms/step - loss: 0.0025 - accuracy: 1.0000 - lr: 3.0000e-05\n",
            "Epoch 51/200\n",
            "120/125 [===========================>..] - ETA: 0s - loss: 0.0024 - accuracy: 1.0000"
          ]
        },
        {
          "output_type": "stream",
          "name": "stderr",
          "text": [
            "WARNING:tensorflow:Early stopping conditioned on metric `val_loss` which is not available. Available metrics are: loss,accuracy\n",
            "WARNING:tensorflow:Learning rate reduction is conditioned on metric `val_loss` which is not available. Available metrics are: loss,accuracy,lr\n"
          ]
        },
        {
          "output_type": "stream",
          "name": "stdout",
          "text": [
            "\b\b\b\b\b\b\b\b\b\b\b\b\b\b\b\b\b\b\b\b\b\b\b\b\b\b\b\b\b\b\b\b\b\b\b\b\b\b\b\b\b\b\b\b\b\b\b\b\b\b\b\b\b\b\b\b\b\b\b\b\b\b\b\b\b\b\b\b\b\b\b\b\b\b\b\b\b\b\b\b\b\b\b\b\r125/125 [==============================] - 1s 7ms/step - loss: 0.0024 - accuracy: 1.0000 - lr: 3.0000e-05\n",
            "Epoch 52/200\n",
            "120/125 [===========================>..] - ETA: 0s - loss: 0.0021 - accuracy: 1.0000"
          ]
        },
        {
          "output_type": "stream",
          "name": "stderr",
          "text": [
            "WARNING:tensorflow:Early stopping conditioned on metric `val_loss` which is not available. Available metrics are: loss,accuracy\n",
            "WARNING:tensorflow:Learning rate reduction is conditioned on metric `val_loss` which is not available. Available metrics are: loss,accuracy,lr\n"
          ]
        },
        {
          "output_type": "stream",
          "name": "stdout",
          "text": [
            "\b\b\b\b\b\b\b\b\b\b\b\b\b\b\b\b\b\b\b\b\b\b\b\b\b\b\b\b\b\b\b\b\b\b\b\b\b\b\b\b\b\b\b\b\b\b\b\b\b\b\b\b\b\b\b\b\b\b\b\b\b\b\b\b\b\b\b\b\b\b\b\b\b\b\b\b\b\b\b\b\b\b\b\b\r125/125 [==============================] - 1s 7ms/step - loss: 0.0021 - accuracy: 1.0000 - lr: 3.0000e-05\n",
            "Epoch 53/200\n",
            "118/125 [===========================>..] - ETA: 0s - loss: 0.0022 - accuracy: 0.9997"
          ]
        },
        {
          "output_type": "stream",
          "name": "stderr",
          "text": [
            "WARNING:tensorflow:Early stopping conditioned on metric `val_loss` which is not available. Available metrics are: loss,accuracy\n",
            "WARNING:tensorflow:Learning rate reduction is conditioned on metric `val_loss` which is not available. Available metrics are: loss,accuracy,lr\n"
          ]
        },
        {
          "output_type": "stream",
          "name": "stdout",
          "text": [
            "\b\b\b\b\b\b\b\b\b\b\b\b\b\b\b\b\b\b\b\b\b\b\b\b\b\b\b\b\b\b\b\b\b\b\b\b\b\b\b\b\b\b\b\b\b\b\b\b\b\b\b\b\b\b\b\b\b\b\b\b\b\b\b\b\b\b\b\b\b\b\b\b\b\b\b\b\b\b\b\b\b\b\b\b\r125/125 [==============================] - 1s 7ms/step - loss: 0.0022 - accuracy: 0.9997 - lr: 3.0000e-05\n",
            "Epoch 54/200\n",
            "119/125 [===========================>..] - ETA: 0s - loss: 0.0017 - accuracy: 1.0000"
          ]
        },
        {
          "output_type": "stream",
          "name": "stderr",
          "text": [
            "WARNING:tensorflow:Early stopping conditioned on metric `val_loss` which is not available. Available metrics are: loss,accuracy\n",
            "WARNING:tensorflow:Learning rate reduction is conditioned on metric `val_loss` which is not available. Available metrics are: loss,accuracy,lr\n"
          ]
        },
        {
          "output_type": "stream",
          "name": "stdout",
          "text": [
            "\b\b\b\b\b\b\b\b\b\b\b\b\b\b\b\b\b\b\b\b\b\b\b\b\b\b\b\b\b\b\b\b\b\b\b\b\b\b\b\b\b\b\b\b\b\b\b\b\b\b\b\b\b\b\b\b\b\b\b\b\b\b\b\b\b\b\b\b\b\b\b\b\b\b\b\b\b\b\b\b\b\b\b\b\r125/125 [==============================] - 1s 7ms/step - loss: 0.0017 - accuracy: 1.0000 - lr: 3.0000e-05\n",
            "Epoch 55/200\n",
            "120/125 [===========================>..] - ETA: 0s - loss: 0.0015 - accuracy: 1.0000"
          ]
        },
        {
          "output_type": "stream",
          "name": "stderr",
          "text": [
            "WARNING:tensorflow:Early stopping conditioned on metric `val_loss` which is not available. Available metrics are: loss,accuracy\n",
            "WARNING:tensorflow:Learning rate reduction is conditioned on metric `val_loss` which is not available. Available metrics are: loss,accuracy,lr\n"
          ]
        },
        {
          "output_type": "stream",
          "name": "stdout",
          "text": [
            "\b\b\b\b\b\b\b\b\b\b\b\b\b\b\b\b\b\b\b\b\b\b\b\b\b\b\b\b\b\b\b\b\b\b\b\b\b\b\b\b\b\b\b\b\b\b\b\b\b\b\b\b\b\b\b\b\b\b\b\b\b\b\b\b\b\b\b\b\b\b\b\b\b\b\b\b\b\b\b\b\b\b\b\b\r125/125 [==============================] - 1s 7ms/step - loss: 0.0016 - accuracy: 1.0000 - lr: 3.0000e-05\n",
            "Epoch 56/200\n",
            "120/125 [===========================>..] - ETA: 0s - loss: 0.0016 - accuracy: 1.0000"
          ]
        },
        {
          "output_type": "stream",
          "name": "stderr",
          "text": [
            "WARNING:tensorflow:Early stopping conditioned on metric `val_loss` which is not available. Available metrics are: loss,accuracy\n",
            "WARNING:tensorflow:Learning rate reduction is conditioned on metric `val_loss` which is not available. Available metrics are: loss,accuracy,lr\n"
          ]
        },
        {
          "output_type": "stream",
          "name": "stdout",
          "text": [
            "\b\b\b\b\b\b\b\b\b\b\b\b\b\b\b\b\b\b\b\b\b\b\b\b\b\b\b\b\b\b\b\b\b\b\b\b\b\b\b\b\b\b\b\b\b\b\b\b\b\b\b\b\b\b\b\b\b\b\b\b\b\b\b\b\b\b\b\b\b\b\b\b\b\b\b\b\b\b\b\b\b\b\b\b\r125/125 [==============================] - 1s 7ms/step - loss: 0.0016 - accuracy: 1.0000 - lr: 3.0000e-05\n",
            "Epoch 57/200\n",
            "120/125 [===========================>..] - ETA: 0s - loss: 0.0014 - accuracy: 1.0000"
          ]
        },
        {
          "output_type": "stream",
          "name": "stderr",
          "text": [
            "WARNING:tensorflow:Early stopping conditioned on metric `val_loss` which is not available. Available metrics are: loss,accuracy\n",
            "WARNING:tensorflow:Learning rate reduction is conditioned on metric `val_loss` which is not available. Available metrics are: loss,accuracy,lr\n"
          ]
        },
        {
          "output_type": "stream",
          "name": "stdout",
          "text": [
            "\b\b\b\b\b\b\b\b\b\b\b\b\b\b\b\b\b\b\b\b\b\b\b\b\b\b\b\b\b\b\b\b\b\b\b\b\b\b\b\b\b\b\b\b\b\b\b\b\b\b\b\b\b\b\b\b\b\b\b\b\b\b\b\b\b\b\b\b\b\b\b\b\b\b\b\b\b\b\b\b\b\b\b\b\r125/125 [==============================] - 1s 7ms/step - loss: 0.0014 - accuracy: 1.0000 - lr: 3.0000e-05\n",
            "Epoch 58/200\n",
            "121/125 [============================>.] - ETA: 0s - loss: 0.0012 - accuracy: 1.0000"
          ]
        },
        {
          "output_type": "stream",
          "name": "stderr",
          "text": [
            "WARNING:tensorflow:Early stopping conditioned on metric `val_loss` which is not available. Available metrics are: loss,accuracy\n",
            "WARNING:tensorflow:Learning rate reduction is conditioned on metric `val_loss` which is not available. Available metrics are: loss,accuracy,lr\n"
          ]
        },
        {
          "output_type": "stream",
          "name": "stdout",
          "text": [
            "\b\b\b\b\b\b\b\b\b\b\b\b\b\b\b\b\b\b\b\b\b\b\b\b\b\b\b\b\b\b\b\b\b\b\b\b\b\b\b\b\b\b\b\b\b\b\b\b\b\b\b\b\b\b\b\b\b\b\b\b\b\b\b\b\b\b\b\b\b\b\b\b\b\b\b\b\b\b\b\b\b\b\b\b\r125/125 [==============================] - 1s 7ms/step - loss: 0.0012 - accuracy: 1.0000 - lr: 3.0000e-05\n",
            "Epoch 59/200\n",
            "119/125 [===========================>..] - ETA: 0s - loss: 0.0012 - accuracy: 1.0000"
          ]
        },
        {
          "output_type": "stream",
          "name": "stderr",
          "text": [
            "WARNING:tensorflow:Early stopping conditioned on metric `val_loss` which is not available. Available metrics are: loss,accuracy\n",
            "WARNING:tensorflow:Learning rate reduction is conditioned on metric `val_loss` which is not available. Available metrics are: loss,accuracy,lr\n"
          ]
        },
        {
          "output_type": "stream",
          "name": "stdout",
          "text": [
            "\b\b\b\b\b\b\b\b\b\b\b\b\b\b\b\b\b\b\b\b\b\b\b\b\b\b\b\b\b\b\b\b\b\b\b\b\b\b\b\b\b\b\b\b\b\b\b\b\b\b\b\b\b\b\b\b\b\b\b\b\b\b\b\b\b\b\b\b\b\b\b\b\b\b\b\b\b\b\b\b\b\b\b\b\r125/125 [==============================] - 1s 7ms/step - loss: 0.0012 - accuracy: 1.0000 - lr: 3.0000e-05\n",
            "Epoch 60/200\n",
            "118/125 [===========================>..] - ETA: 0s - loss: 0.0012 - accuracy: 1.0000"
          ]
        },
        {
          "output_type": "stream",
          "name": "stderr",
          "text": [
            "WARNING:tensorflow:Early stopping conditioned on metric `val_loss` which is not available. Available metrics are: loss,accuracy\n",
            "WARNING:tensorflow:Learning rate reduction is conditioned on metric `val_loss` which is not available. Available metrics are: loss,accuracy,lr\n"
          ]
        },
        {
          "output_type": "stream",
          "name": "stdout",
          "text": [
            "\b\b\b\b\b\b\b\b\b\b\b\b\b\b\b\b\b\b\b\b\b\b\b\b\b\b\b\b\b\b\b\b\b\b\b\b\b\b\b\b\b\b\b\b\b\b\b\b\b\b\b\b\b\b\b\b\b\b\b\b\b\b\b\b\b\b\b\b\b\b\b\b\b\b\b\b\b\b\b\b\b\b\b\b\r125/125 [==============================] - 1s 7ms/step - loss: 0.0012 - accuracy: 1.0000 - lr: 3.0000e-05\n",
            "Epoch 61/200\n",
            "119/125 [===========================>..] - ETA: 0s - loss: 9.9623e-04 - accuracy: 1.0000"
          ]
        },
        {
          "output_type": "stream",
          "name": "stderr",
          "text": [
            "WARNING:tensorflow:Early stopping conditioned on metric `val_loss` which is not available. Available metrics are: loss,accuracy\n",
            "WARNING:tensorflow:Learning rate reduction is conditioned on metric `val_loss` which is not available. Available metrics are: loss,accuracy,lr\n"
          ]
        },
        {
          "output_type": "stream",
          "name": "stdout",
          "text": [
            "\b\b\b\b\b\b\b\b\b\b\b\b\b\b\b\b\b\b\b\b\b\b\b\b\b\b\b\b\b\b\b\b\b\b\b\b\b\b\b\b\b\b\b\b\b\b\b\b\b\b\b\b\b\b\b\b\b\b\b\b\b\b\b\b\b\b\b\b\b\b\b\b\b\b\b\b\b\b\b\b\b\b\b\b\b\b\b\b\r125/125 [==============================] - 1s 7ms/step - loss: 9.9802e-04 - accuracy: 1.0000 - lr: 3.0000e-05\n",
            "Epoch 62/200\n",
            "122/125 [============================>.] - ETA: 0s - loss: 8.6372e-04 - accuracy: 1.0000"
          ]
        },
        {
          "output_type": "stream",
          "name": "stderr",
          "text": [
            "WARNING:tensorflow:Early stopping conditioned on metric `val_loss` which is not available. Available metrics are: loss,accuracy\n",
            "WARNING:tensorflow:Learning rate reduction is conditioned on metric `val_loss` which is not available. Available metrics are: loss,accuracy,lr\n"
          ]
        },
        {
          "output_type": "stream",
          "name": "stdout",
          "text": [
            "\b\b\b\b\b\b\b\b\b\b\b\b\b\b\b\b\b\b\b\b\b\b\b\b\b\b\b\b\b\b\b\b\b\b\b\b\b\b\b\b\b\b\b\b\b\b\b\b\b\b\b\b\b\b\b\b\b\b\b\b\b\b\b\b\b\b\b\b\b\b\b\b\b\b\b\b\b\b\b\b\b\b\b\b\b\b\b\b\r125/125 [==============================] - 1s 7ms/step - loss: 8.5856e-04 - accuracy: 1.0000 - lr: 3.0000e-05\n",
            "Epoch 63/200\n",
            "119/125 [===========================>..] - ETA: 0s - loss: 9.8682e-04 - accuracy: 1.0000"
          ]
        },
        {
          "output_type": "stream",
          "name": "stderr",
          "text": [
            "WARNING:tensorflow:Early stopping conditioned on metric `val_loss` which is not available. Available metrics are: loss,accuracy\n",
            "WARNING:tensorflow:Learning rate reduction is conditioned on metric `val_loss` which is not available. Available metrics are: loss,accuracy,lr\n"
          ]
        },
        {
          "output_type": "stream",
          "name": "stdout",
          "text": [
            "\b\b\b\b\b\b\b\b\b\b\b\b\b\b\b\b\b\b\b\b\b\b\b\b\b\b\b\b\b\b\b\b\b\b\b\b\b\b\b\b\b\b\b\b\b\b\b\b\b\b\b\b\b\b\b\b\b\b\b\b\b\b\b\b\b\b\b\b\b\b\b\b\b\b\b\b\b\b\b\b\b\b\b\b\b\b\b\b\r125/125 [==============================] - 1s 7ms/step - loss: 9.7046e-04 - accuracy: 1.0000 - lr: 3.0000e-05\n",
            "Epoch 64/200\n",
            "120/125 [===========================>..] - ETA: 0s - loss: 7.4970e-04 - accuracy: 1.0000"
          ]
        },
        {
          "output_type": "stream",
          "name": "stderr",
          "text": [
            "WARNING:tensorflow:Early stopping conditioned on metric `val_loss` which is not available. Available metrics are: loss,accuracy\n",
            "WARNING:tensorflow:Learning rate reduction is conditioned on metric `val_loss` which is not available. Available metrics are: loss,accuracy,lr\n"
          ]
        },
        {
          "output_type": "stream",
          "name": "stdout",
          "text": [
            "\b\b\b\b\b\b\b\b\b\b\b\b\b\b\b\b\b\b\b\b\b\b\b\b\b\b\b\b\b\b\b\b\b\b\b\b\b\b\b\b\b\b\b\b\b\b\b\b\b\b\b\b\b\b\b\b\b\b\b\b\b\b\b\b\b\b\b\b\b\b\b\b\b\b\b\b\b\b\b\b\b\b\b\b\b\b\b\b\r125/125 [==============================] - 1s 7ms/step - loss: 7.4515e-04 - accuracy: 1.0000 - lr: 3.0000e-05\n",
            "Epoch 65/200\n",
            "118/125 [===========================>..] - ETA: 0s - loss: 6.9544e-04 - accuracy: 1.0000"
          ]
        },
        {
          "output_type": "stream",
          "name": "stderr",
          "text": [
            "WARNING:tensorflow:Early stopping conditioned on metric `val_loss` which is not available. Available metrics are: loss,accuracy\n",
            "WARNING:tensorflow:Learning rate reduction is conditioned on metric `val_loss` which is not available. Available metrics are: loss,accuracy,lr\n"
          ]
        },
        {
          "output_type": "stream",
          "name": "stdout",
          "text": [
            "\b\b\b\b\b\b\b\b\b\b\b\b\b\b\b\b\b\b\b\b\b\b\b\b\b\b\b\b\b\b\b\b\b\b\b\b\b\b\b\b\b\b\b\b\b\b\b\b\b\b\b\b\b\b\b\b\b\b\b\b\b\b\b\b\b\b\b\b\b\b\b\b\b\b\b\b\b\b\b\b\b\b\b\b\b\b\b\b\r125/125 [==============================] - 1s 7ms/step - loss: 6.7935e-04 - accuracy: 1.0000 - lr: 3.0000e-05\n",
            "Epoch 66/200\n",
            "118/125 [===========================>..] - ETA: 0s - loss: 5.6643e-04 - accuracy: 1.0000"
          ]
        },
        {
          "output_type": "stream",
          "name": "stderr",
          "text": [
            "WARNING:tensorflow:Early stopping conditioned on metric `val_loss` which is not available. Available metrics are: loss,accuracy\n",
            "WARNING:tensorflow:Learning rate reduction is conditioned on metric `val_loss` which is not available. Available metrics are: loss,accuracy,lr\n"
          ]
        },
        {
          "output_type": "stream",
          "name": "stdout",
          "text": [
            "\b\b\b\b\b\b\b\b\b\b\b\b\b\b\b\b\b\b\b\b\b\b\b\b\b\b\b\b\b\b\b\b\b\b\b\b\b\b\b\b\b\b\b\b\b\b\b\b\b\b\b\b\b\b\b\b\b\b\b\b\b\b\b\b\b\b\b\b\b\b\b\b\b\b\b\b\b\b\b\b\b\b\b\b\b\b\b\b\r125/125 [==============================] - 1s 7ms/step - loss: 5.6406e-04 - accuracy: 1.0000 - lr: 3.0000e-05\n",
            "Epoch 67/200\n",
            "124/125 [============================>.] - ETA: 0s - loss: 5.7730e-04 - accuracy: 1.0000"
          ]
        },
        {
          "output_type": "stream",
          "name": "stderr",
          "text": [
            "WARNING:tensorflow:Early stopping conditioned on metric `val_loss` which is not available. Available metrics are: loss,accuracy\n",
            "WARNING:tensorflow:Learning rate reduction is conditioned on metric `val_loss` which is not available. Available metrics are: loss,accuracy,lr\n"
          ]
        },
        {
          "output_type": "stream",
          "name": "stdout",
          "text": [
            "\b\b\b\b\b\b\b\b\b\b\b\b\b\b\b\b\b\b\b\b\b\b\b\b\b\b\b\b\b\b\b\b\b\b\b\b\b\b\b\b\b\b\b\b\b\b\b\b\b\b\b\b\b\b\b\b\b\b\b\b\b\b\b\b\b\b\b\b\b\b\b\b\b\b\b\b\b\b\b\b\b\b\b\b\b\b\b\b\r125/125 [==============================] - 1s 7ms/step - loss: 5.7701e-04 - accuracy: 1.0000 - lr: 3.0000e-05\n",
            "Epoch 68/200\n",
            "121/125 [============================>.] - ETA: 0s - loss: 5.6291e-04 - accuracy: 1.0000"
          ]
        },
        {
          "output_type": "stream",
          "name": "stderr",
          "text": [
            "WARNING:tensorflow:Early stopping conditioned on metric `val_loss` which is not available. Available metrics are: loss,accuracy\n",
            "WARNING:tensorflow:Learning rate reduction is conditioned on metric `val_loss` which is not available. Available metrics are: loss,accuracy,lr\n"
          ]
        },
        {
          "output_type": "stream",
          "name": "stdout",
          "text": [
            "\b\b\b\b\b\b\b\b\b\b\b\b\b\b\b\b\b\b\b\b\b\b\b\b\b\b\b\b\b\b\b\b\b\b\b\b\b\b\b\b\b\b\b\b\b\b\b\b\b\b\b\b\b\b\b\b\b\b\b\b\b\b\b\b\b\b\b\b\b\b\b\b\b\b\b\b\b\b\b\b\b\b\b\b\b\b\b\b\r125/125 [==============================] - 1s 7ms/step - loss: 5.5635e-04 - accuracy: 1.0000 - lr: 3.0000e-05\n",
            "Epoch 69/200\n",
            "120/125 [===========================>..] - ETA: 0s - loss: 6.5691e-04 - accuracy: 1.0000"
          ]
        },
        {
          "output_type": "stream",
          "name": "stderr",
          "text": [
            "WARNING:tensorflow:Early stopping conditioned on metric `val_loss` which is not available. Available metrics are: loss,accuracy\n",
            "WARNING:tensorflow:Learning rate reduction is conditioned on metric `val_loss` which is not available. Available metrics are: loss,accuracy,lr\n"
          ]
        },
        {
          "output_type": "stream",
          "name": "stdout",
          "text": [
            "\b\b\b\b\b\b\b\b\b\b\b\b\b\b\b\b\b\b\b\b\b\b\b\b\b\b\b\b\b\b\b\b\b\b\b\b\b\b\b\b\b\b\b\b\b\b\b\b\b\b\b\b\b\b\b\b\b\b\b\b\b\b\b\b\b\b\b\b\b\b\b\b\b\b\b\b\b\b\b\b\b\b\b\b\b\b\b\b\r125/125 [==============================] - 1s 7ms/step - loss: 6.5058e-04 - accuracy: 1.0000 - lr: 3.0000e-05\n",
            "Epoch 70/200\n",
            "120/125 [===========================>..] - ETA: 0s - loss: 5.1658e-04 - accuracy: 1.0000"
          ]
        },
        {
          "output_type": "stream",
          "name": "stderr",
          "text": [
            "WARNING:tensorflow:Early stopping conditioned on metric `val_loss` which is not available. Available metrics are: loss,accuracy\n",
            "WARNING:tensorflow:Learning rate reduction is conditioned on metric `val_loss` which is not available. Available metrics are: loss,accuracy,lr\n"
          ]
        },
        {
          "output_type": "stream",
          "name": "stdout",
          "text": [
            "\b\b\b\b\b\b\b\b\b\b\b\b\b\b\b\b\b\b\b\b\b\b\b\b\b\b\b\b\b\b\b\b\b\b\b\b\b\b\b\b\b\b\b\b\b\b\b\b\b\b\b\b\b\b\b\b\b\b\b\b\b\b\b\b\b\b\b\b\b\b\b\b\b\b\b\b\b\b\b\b\b\b\b\b\b\b\b\b\r125/125 [==============================] - 1s 7ms/step - loss: 5.0514e-04 - accuracy: 1.0000 - lr: 3.0000e-05\n",
            "Epoch 71/200\n",
            "120/125 [===========================>..] - ETA: 0s - loss: 5.2172e-04 - accuracy: 1.0000"
          ]
        },
        {
          "output_type": "stream",
          "name": "stderr",
          "text": [
            "WARNING:tensorflow:Early stopping conditioned on metric `val_loss` which is not available. Available metrics are: loss,accuracy\n",
            "WARNING:tensorflow:Learning rate reduction is conditioned on metric `val_loss` which is not available. Available metrics are: loss,accuracy,lr\n"
          ]
        },
        {
          "output_type": "stream",
          "name": "stdout",
          "text": [
            "\b\b\b\b\b\b\b\b\b\b\b\b\b\b\b\b\b\b\b\b\b\b\b\b\b\b\b\b\b\b\b\b\b\b\b\b\b\b\b\b\b\b\b\b\b\b\b\b\b\b\b\b\b\b\b\b\b\b\b\b\b\b\b\b\b\b\b\b\b\b\b\b\b\b\b\b\b\b\b\b\b\b\b\b\b\b\b\b\r125/125 [==============================] - 1s 7ms/step - loss: 5.3922e-04 - accuracy: 1.0000 - lr: 3.0000e-05\n",
            "Epoch 72/200\n",
            "120/125 [===========================>..] - ETA: 0s - loss: 4.2199e-04 - accuracy: 1.0000"
          ]
        },
        {
          "output_type": "stream",
          "name": "stderr",
          "text": [
            "WARNING:tensorflow:Early stopping conditioned on metric `val_loss` which is not available. Available metrics are: loss,accuracy\n",
            "WARNING:tensorflow:Learning rate reduction is conditioned on metric `val_loss` which is not available. Available metrics are: loss,accuracy,lr\n"
          ]
        },
        {
          "output_type": "stream",
          "name": "stdout",
          "text": [
            "\b\b\b\b\b\b\b\b\b\b\b\b\b\b\b\b\b\b\b\b\b\b\b\b\b\b\b\b\b\b\b\b\b\b\b\b\b\b\b\b\b\b\b\b\b\b\b\b\b\b\b\b\b\b\b\b\b\b\b\b\b\b\b\b\b\b\b\b\b\b\b\b\b\b\b\b\b\b\b\b\b\b\b\b\b\b\b\b\r125/125 [==============================] - 1s 7ms/step - loss: 4.1983e-04 - accuracy: 1.0000 - lr: 3.0000e-05\n",
            "Epoch 73/200\n",
            "120/125 [===========================>..] - ETA: 0s - loss: 3.2924e-04 - accuracy: 1.0000"
          ]
        },
        {
          "output_type": "stream",
          "name": "stderr",
          "text": [
            "WARNING:tensorflow:Early stopping conditioned on metric `val_loss` which is not available. Available metrics are: loss,accuracy\n",
            "WARNING:tensorflow:Learning rate reduction is conditioned on metric `val_loss` which is not available. Available metrics are: loss,accuracy,lr\n"
          ]
        },
        {
          "output_type": "stream",
          "name": "stdout",
          "text": [
            "\b\b\b\b\b\b\b\b\b\b\b\b\b\b\b\b\b\b\b\b\b\b\b\b\b\b\b\b\b\b\b\b\b\b\b\b\b\b\b\b\b\b\b\b\b\b\b\b\b\b\b\b\b\b\b\b\b\b\b\b\b\b\b\b\b\b\b\b\b\b\b\b\b\b\b\b\b\b\b\b\b\b\b\b\b\b\b\b\r125/125 [==============================] - 1s 7ms/step - loss: 3.2559e-04 - accuracy: 1.0000 - lr: 3.0000e-05\n",
            "Epoch 74/200\n",
            "120/125 [===========================>..] - ETA: 0s - loss: 3.4227e-04 - accuracy: 1.0000"
          ]
        },
        {
          "output_type": "stream",
          "name": "stderr",
          "text": [
            "WARNING:tensorflow:Early stopping conditioned on metric `val_loss` which is not available. Available metrics are: loss,accuracy\n",
            "WARNING:tensorflow:Learning rate reduction is conditioned on metric `val_loss` which is not available. Available metrics are: loss,accuracy,lr\n"
          ]
        },
        {
          "output_type": "stream",
          "name": "stdout",
          "text": [
            "\b\b\b\b\b\b\b\b\b\b\b\b\b\b\b\b\b\b\b\b\b\b\b\b\b\b\b\b\b\b\b\b\b\b\b\b\b\b\b\b\b\b\b\b\b\b\b\b\b\b\b\b\b\b\b\b\b\b\b\b\b\b\b\b\b\b\b\b\b\b\b\b\b\b\b\b\b\b\b\b\b\b\b\b\b\b\b\b\r125/125 [==============================] - 1s 7ms/step - loss: 3.4793e-04 - accuracy: 1.0000 - lr: 3.0000e-05\n",
            "Epoch 75/200\n",
            "121/125 [============================>.] - ETA: 0s - loss: 3.1722e-04 - accuracy: 1.0000"
          ]
        },
        {
          "output_type": "stream",
          "name": "stderr",
          "text": [
            "WARNING:tensorflow:Early stopping conditioned on metric `val_loss` which is not available. Available metrics are: loss,accuracy\n",
            "WARNING:tensorflow:Learning rate reduction is conditioned on metric `val_loss` which is not available. Available metrics are: loss,accuracy,lr\n"
          ]
        },
        {
          "output_type": "stream",
          "name": "stdout",
          "text": [
            "\b\b\b\b\b\b\b\b\b\b\b\b\b\b\b\b\b\b\b\b\b\b\b\b\b\b\b\b\b\b\b\b\b\b\b\b\b\b\b\b\b\b\b\b\b\b\b\b\b\b\b\b\b\b\b\b\b\b\b\b\b\b\b\b\b\b\b\b\b\b\b\b\b\b\b\b\b\b\b\b\b\b\b\b\b\b\b\b\r125/125 [==============================] - 1s 7ms/step - loss: 3.1207e-04 - accuracy: 1.0000 - lr: 3.0000e-05\n",
            "Epoch 76/200\n",
            "120/125 [===========================>..] - ETA: 0s - loss: 2.8819e-04 - accuracy: 1.0000"
          ]
        },
        {
          "output_type": "stream",
          "name": "stderr",
          "text": [
            "WARNING:tensorflow:Early stopping conditioned on metric `val_loss` which is not available. Available metrics are: loss,accuracy\n",
            "WARNING:tensorflow:Learning rate reduction is conditioned on metric `val_loss` which is not available. Available metrics are: loss,accuracy,lr\n"
          ]
        },
        {
          "output_type": "stream",
          "name": "stdout",
          "text": [
            "\b\b\b\b\b\b\b\b\b\b\b\b\b\b\b\b\b\b\b\b\b\b\b\b\b\b\b\b\b\b\b\b\b\b\b\b\b\b\b\b\b\b\b\b\b\b\b\b\b\b\b\b\b\b\b\b\b\b\b\b\b\b\b\b\b\b\b\b\b\b\b\b\b\b\b\b\b\b\b\b\b\b\b\b\b\b\b\b\r125/125 [==============================] - 1s 7ms/step - loss: 2.8455e-04 - accuracy: 1.0000 - lr: 3.0000e-05\n",
            "Epoch 77/200\n",
            "120/125 [===========================>..] - ETA: 0s - loss: 3.1600e-04 - accuracy: 1.0000"
          ]
        },
        {
          "output_type": "stream",
          "name": "stderr",
          "text": [
            "WARNING:tensorflow:Early stopping conditioned on metric `val_loss` which is not available. Available metrics are: loss,accuracy\n",
            "WARNING:tensorflow:Learning rate reduction is conditioned on metric `val_loss` which is not available. Available metrics are: loss,accuracy,lr\n"
          ]
        },
        {
          "output_type": "stream",
          "name": "stdout",
          "text": [
            "\b\b\b\b\b\b\b\b\b\b\b\b\b\b\b\b\b\b\b\b\b\b\b\b\b\b\b\b\b\b\b\b\b\b\b\b\b\b\b\b\b\b\b\b\b\b\b\b\b\b\b\b\b\b\b\b\b\b\b\b\b\b\b\b\b\b\b\b\b\b\b\b\b\b\b\b\b\b\b\b\b\b\b\b\b\b\b\b\r125/125 [==============================] - 1s 7ms/step - loss: 3.1532e-04 - accuracy: 1.0000 - lr: 3.0000e-05\n",
            "Epoch 78/200\n",
            "118/125 [===========================>..] - ETA: 0s - loss: 2.7674e-04 - accuracy: 1.0000"
          ]
        },
        {
          "output_type": "stream",
          "name": "stderr",
          "text": [
            "WARNING:tensorflow:Early stopping conditioned on metric `val_loss` which is not available. Available metrics are: loss,accuracy\n",
            "WARNING:tensorflow:Learning rate reduction is conditioned on metric `val_loss` which is not available. Available metrics are: loss,accuracy,lr\n"
          ]
        },
        {
          "output_type": "stream",
          "name": "stdout",
          "text": [
            "\b\b\b\b\b\b\b\b\b\b\b\b\b\b\b\b\b\b\b\b\b\b\b\b\b\b\b\b\b\b\b\b\b\b\b\b\b\b\b\b\b\b\b\b\b\b\b\b\b\b\b\b\b\b\b\b\b\b\b\b\b\b\b\b\b\b\b\b\b\b\b\b\b\b\b\b\b\b\b\b\b\b\b\b\b\b\b\b\r125/125 [==============================] - 1s 7ms/step - loss: 2.7798e-04 - accuracy: 1.0000 - lr: 3.0000e-05\n",
            "Epoch 79/200\n",
            "121/125 [============================>.] - ETA: 0s - loss: 3.3827e-04 - accuracy: 1.0000"
          ]
        },
        {
          "output_type": "stream",
          "name": "stderr",
          "text": [
            "WARNING:tensorflow:Early stopping conditioned on metric `val_loss` which is not available. Available metrics are: loss,accuracy\n",
            "WARNING:tensorflow:Learning rate reduction is conditioned on metric `val_loss` which is not available. Available metrics are: loss,accuracy,lr\n"
          ]
        },
        {
          "output_type": "stream",
          "name": "stdout",
          "text": [
            "\b\b\b\b\b\b\b\b\b\b\b\b\b\b\b\b\b\b\b\b\b\b\b\b\b\b\b\b\b\b\b\b\b\b\b\b\b\b\b\b\b\b\b\b\b\b\b\b\b\b\b\b\b\b\b\b\b\b\b\b\b\b\b\b\b\b\b\b\b\b\b\b\b\b\b\b\b\b\b\b\b\b\b\b\b\b\b\b\r125/125 [==============================] - 1s 7ms/step - loss: 3.4238e-04 - accuracy: 1.0000 - lr: 3.0000e-05\n",
            "Epoch 80/200\n",
            "119/125 [===========================>..] - ETA: 0s - loss: 2.7670e-04 - accuracy: 1.0000"
          ]
        },
        {
          "output_type": "stream",
          "name": "stderr",
          "text": [
            "WARNING:tensorflow:Early stopping conditioned on metric `val_loss` which is not available. Available metrics are: loss,accuracy\n",
            "WARNING:tensorflow:Learning rate reduction is conditioned on metric `val_loss` which is not available. Available metrics are: loss,accuracy,lr\n"
          ]
        },
        {
          "output_type": "stream",
          "name": "stdout",
          "text": [
            "\b\b\b\b\b\b\b\b\b\b\b\b\b\b\b\b\b\b\b\b\b\b\b\b\b\b\b\b\b\b\b\b\b\b\b\b\b\b\b\b\b\b\b\b\b\b\b\b\b\b\b\b\b\b\b\b\b\b\b\b\b\b\b\b\b\b\b\b\b\b\b\b\b\b\b\b\b\b\b\b\b\b\b\b\b\b\b\b\r125/125 [==============================] - 1s 7ms/step - loss: 2.7153e-04 - accuracy: 1.0000 - lr: 3.0000e-05\n",
            "Epoch 81/200\n",
            "120/125 [===========================>..] - ETA: 0s - loss: 2.1556e-04 - accuracy: 1.0000"
          ]
        },
        {
          "output_type": "stream",
          "name": "stderr",
          "text": [
            "WARNING:tensorflow:Early stopping conditioned on metric `val_loss` which is not available. Available metrics are: loss,accuracy\n",
            "WARNING:tensorflow:Learning rate reduction is conditioned on metric `val_loss` which is not available. Available metrics are: loss,accuracy,lr\n"
          ]
        },
        {
          "output_type": "stream",
          "name": "stdout",
          "text": [
            "\b\b\b\b\b\b\b\b\b\b\b\b\b\b\b\b\b\b\b\b\b\b\b\b\b\b\b\b\b\b\b\b\b\b\b\b\b\b\b\b\b\b\b\b\b\b\b\b\b\b\b\b\b\b\b\b\b\b\b\b\b\b\b\b\b\b\b\b\b\b\b\b\b\b\b\b\b\b\b\b\b\b\b\b\b\b\b\b\r125/125 [==============================] - 1s 7ms/step - loss: 2.1640e-04 - accuracy: 1.0000 - lr: 3.0000e-05\n",
            "Epoch 82/200\n",
            "120/125 [===========================>..] - ETA: 0s - loss: 2.2504e-04 - accuracy: 1.0000"
          ]
        },
        {
          "output_type": "stream",
          "name": "stderr",
          "text": [
            "WARNING:tensorflow:Early stopping conditioned on metric `val_loss` which is not available. Available metrics are: loss,accuracy\n",
            "WARNING:tensorflow:Learning rate reduction is conditioned on metric `val_loss` which is not available. Available metrics are: loss,accuracy,lr\n"
          ]
        },
        {
          "output_type": "stream",
          "name": "stdout",
          "text": [
            "\b\b\b\b\b\b\b\b\b\b\b\b\b\b\b\b\b\b\b\b\b\b\b\b\b\b\b\b\b\b\b\b\b\b\b\b\b\b\b\b\b\b\b\b\b\b\b\b\b\b\b\b\b\b\b\b\b\b\b\b\b\b\b\b\b\b\b\b\b\b\b\b\b\b\b\b\b\b\b\b\b\b\b\b\b\b\b\b\r125/125 [==============================] - 1s 7ms/step - loss: 2.2147e-04 - accuracy: 1.0000 - lr: 3.0000e-05\n",
            "Epoch 83/200\n",
            "118/125 [===========================>..] - ETA: 0s - loss: 1.8827e-04 - accuracy: 1.0000"
          ]
        },
        {
          "output_type": "stream",
          "name": "stderr",
          "text": [
            "WARNING:tensorflow:Early stopping conditioned on metric `val_loss` which is not available. Available metrics are: loss,accuracy\n",
            "WARNING:tensorflow:Learning rate reduction is conditioned on metric `val_loss` which is not available. Available metrics are: loss,accuracy,lr\n"
          ]
        },
        {
          "output_type": "stream",
          "name": "stdout",
          "text": [
            "\b\b\b\b\b\b\b\b\b\b\b\b\b\b\b\b\b\b\b\b\b\b\b\b\b\b\b\b\b\b\b\b\b\b\b\b\b\b\b\b\b\b\b\b\b\b\b\b\b\b\b\b\b\b\b\b\b\b\b\b\b\b\b\b\b\b\b\b\b\b\b\b\b\b\b\b\b\b\b\b\b\b\b\b\b\b\b\b\r125/125 [==============================] - 1s 7ms/step - loss: 1.8634e-04 - accuracy: 1.0000 - lr: 3.0000e-05\n",
            "Epoch 84/200\n",
            "125/125 [==============================] - ETA: 0s - loss: 1.5739e-04 - accuracy: 1.0000"
          ]
        },
        {
          "output_type": "stream",
          "name": "stderr",
          "text": [
            "WARNING:tensorflow:Early stopping conditioned on metric `val_loss` which is not available. Available metrics are: loss,accuracy\n",
            "WARNING:tensorflow:Learning rate reduction is conditioned on metric `val_loss` which is not available. Available metrics are: loss,accuracy,lr\n"
          ]
        },
        {
          "output_type": "stream",
          "name": "stdout",
          "text": [
            "\b\b\b\b\b\b\b\b\b\b\b\b\b\b\b\b\b\b\b\b\b\b\b\b\b\b\b\b\b\b\b\b\b\b\b\b\b\b\b\b\b\b\b\b\b\b\b\b\b\b\b\b\b\b\b\b\b\b\b\b\b\b\b\b\b\b\b\b\b\b\b\b\b\b\b\b\b\b\b\b\b\b\b\b\b\b\b\b\r125/125 [==============================] - 1s 7ms/step - loss: 1.5739e-04 - accuracy: 1.0000 - lr: 3.0000e-05\n",
            "Epoch 85/200\n",
            "125/125 [==============================] - ETA: 0s - loss: 1.4751e-04 - accuracy: 1.0000"
          ]
        },
        {
          "output_type": "stream",
          "name": "stderr",
          "text": [
            "WARNING:tensorflow:Early stopping conditioned on metric `val_loss` which is not available. Available metrics are: loss,accuracy\n",
            "WARNING:tensorflow:Learning rate reduction is conditioned on metric `val_loss` which is not available. Available metrics are: loss,accuracy,lr\n"
          ]
        },
        {
          "output_type": "stream",
          "name": "stdout",
          "text": [
            "\b\b\b\b\b\b\b\b\b\b\b\b\b\b\b\b\b\b\b\b\b\b\b\b\b\b\b\b\b\b\b\b\b\b\b\b\b\b\b\b\b\b\b\b\b\b\b\b\b\b\b\b\b\b\b\b\b\b\b\b\b\b\b\b\b\b\b\b\b\b\b\b\b\b\b\b\b\b\b\b\b\b\b\b\b\b\b\b\r125/125 [==============================] - 1s 7ms/step - loss: 1.4751e-04 - accuracy: 1.0000 - lr: 3.0000e-05\n",
            "Epoch 86/200\n",
            "121/125 [============================>.] - ETA: 0s - loss: 1.4921e-04 - accuracy: 1.0000"
          ]
        },
        {
          "output_type": "stream",
          "name": "stderr",
          "text": [
            "WARNING:tensorflow:Early stopping conditioned on metric `val_loss` which is not available. Available metrics are: loss,accuracy\n",
            "WARNING:tensorflow:Learning rate reduction is conditioned on metric `val_loss` which is not available. Available metrics are: loss,accuracy,lr\n"
          ]
        },
        {
          "output_type": "stream",
          "name": "stdout",
          "text": [
            "\b\b\b\b\b\b\b\b\b\b\b\b\b\b\b\b\b\b\b\b\b\b\b\b\b\b\b\b\b\b\b\b\b\b\b\b\b\b\b\b\b\b\b\b\b\b\b\b\b\b\b\b\b\b\b\b\b\b\b\b\b\b\b\b\b\b\b\b\b\b\b\b\b\b\b\b\b\b\b\b\b\b\b\b\b\b\b\b\r125/125 [==============================] - 1s 8ms/step - loss: 1.4789e-04 - accuracy: 1.0000 - lr: 3.0000e-05\n",
            "Epoch 87/200\n",
            "118/125 [===========================>..] - ETA: 0s - loss: 1.1318e-04 - accuracy: 1.0000"
          ]
        },
        {
          "output_type": "stream",
          "name": "stderr",
          "text": [
            "WARNING:tensorflow:Early stopping conditioned on metric `val_loss` which is not available. Available metrics are: loss,accuracy\n",
            "WARNING:tensorflow:Learning rate reduction is conditioned on metric `val_loss` which is not available. Available metrics are: loss,accuracy,lr\n"
          ]
        },
        {
          "output_type": "stream",
          "name": "stdout",
          "text": [
            "\b\b\b\b\b\b\b\b\b\b\b\b\b\b\b\b\b\b\b\b\b\b\b\b\b\b\b\b\b\b\b\b\b\b\b\b\b\b\b\b\b\b\b\b\b\b\b\b\b\b\b\b\b\b\b\b\b\b\b\b\b\b\b\b\b\b\b\b\b\b\b\b\b\b\b\b\b\b\b\b\b\b\b\b\b\b\b\b\r125/125 [==============================] - 1s 7ms/step - loss: 1.1507e-04 - accuracy: 1.0000 - lr: 3.0000e-05\n",
            "Epoch 88/200\n",
            "120/125 [===========================>..] - ETA: 0s - loss: 1.2676e-04 - accuracy: 1.0000"
          ]
        },
        {
          "output_type": "stream",
          "name": "stderr",
          "text": [
            "WARNING:tensorflow:Early stopping conditioned on metric `val_loss` which is not available. Available metrics are: loss,accuracy\n",
            "WARNING:tensorflow:Learning rate reduction is conditioned on metric `val_loss` which is not available. Available metrics are: loss,accuracy,lr\n"
          ]
        },
        {
          "output_type": "stream",
          "name": "stdout",
          "text": [
            "\b\b\b\b\b\b\b\b\b\b\b\b\b\b\b\b\b\b\b\b\b\b\b\b\b\b\b\b\b\b\b\b\b\b\b\b\b\b\b\b\b\b\b\b\b\b\b\b\b\b\b\b\b\b\b\b\b\b\b\b\b\b\b\b\b\b\b\b\b\b\b\b\b\b\b\b\b\b\b\b\b\b\b\b\b\b\b\b\r125/125 [==============================] - 1s 7ms/step - loss: 1.2579e-04 - accuracy: 1.0000 - lr: 3.0000e-05\n",
            "Epoch 89/200\n",
            "121/125 [============================>.] - ETA: 0s - loss: 1.1889e-04 - accuracy: 1.0000"
          ]
        },
        {
          "output_type": "stream",
          "name": "stderr",
          "text": [
            "WARNING:tensorflow:Early stopping conditioned on metric `val_loss` which is not available. Available metrics are: loss,accuracy\n",
            "WARNING:tensorflow:Learning rate reduction is conditioned on metric `val_loss` which is not available. Available metrics are: loss,accuracy,lr\n"
          ]
        },
        {
          "output_type": "stream",
          "name": "stdout",
          "text": [
            "\b\b\b\b\b\b\b\b\b\b\b\b\b\b\b\b\b\b\b\b\b\b\b\b\b\b\b\b\b\b\b\b\b\b\b\b\b\b\b\b\b\b\b\b\b\b\b\b\b\b\b\b\b\b\b\b\b\b\b\b\b\b\b\b\b\b\b\b\b\b\b\b\b\b\b\b\b\b\b\b\b\b\b\b\b\b\b\b\r125/125 [==============================] - 1s 7ms/step - loss: 1.1679e-04 - accuracy: 1.0000 - lr: 3.0000e-05\n",
            "Epoch 90/200\n",
            "125/125 [==============================] - ETA: 0s - loss: 1.0603e-04 - accuracy: 1.0000"
          ]
        },
        {
          "output_type": "stream",
          "name": "stderr",
          "text": [
            "WARNING:tensorflow:Early stopping conditioned on metric `val_loss` which is not available. Available metrics are: loss,accuracy\n",
            "WARNING:tensorflow:Learning rate reduction is conditioned on metric `val_loss` which is not available. Available metrics are: loss,accuracy,lr\n"
          ]
        },
        {
          "output_type": "stream",
          "name": "stdout",
          "text": [
            "\b\b\b\b\b\b\b\b\b\b\b\b\b\b\b\b\b\b\b\b\b\b\b\b\b\b\b\b\b\b\b\b\b\b\b\b\b\b\b\b\b\b\b\b\b\b\b\b\b\b\b\b\b\b\b\b\b\b\b\b\b\b\b\b\b\b\b\b\b\b\b\b\b\b\b\b\b\b\b\b\b\b\b\b\b\b\b\b\r125/125 [==============================] - 1s 7ms/step - loss: 1.0603e-04 - accuracy: 1.0000 - lr: 3.0000e-05\n",
            "Epoch 91/200\n",
            "120/125 [===========================>..] - ETA: 0s - loss: 1.1890e-04 - accuracy: 1.0000"
          ]
        },
        {
          "output_type": "stream",
          "name": "stderr",
          "text": [
            "WARNING:tensorflow:Early stopping conditioned on metric `val_loss` which is not available. Available metrics are: loss,accuracy\n",
            "WARNING:tensorflow:Learning rate reduction is conditioned on metric `val_loss` which is not available. Available metrics are: loss,accuracy,lr\n"
          ]
        },
        {
          "output_type": "stream",
          "name": "stdout",
          "text": [
            "\b\b\b\b\b\b\b\b\b\b\b\b\b\b\b\b\b\b\b\b\b\b\b\b\b\b\b\b\b\b\b\b\b\b\b\b\b\b\b\b\b\b\b\b\b\b\b\b\b\b\b\b\b\b\b\b\b\b\b\b\b\b\b\b\b\b\b\b\b\b\b\b\b\b\b\b\b\b\b\b\b\b\b\b\b\b\b\b\r125/125 [==============================] - 1s 7ms/step - loss: 1.1647e-04 - accuracy: 1.0000 - lr: 3.0000e-05\n",
            "Epoch 92/200\n",
            "120/125 [===========================>..] - ETA: 0s - loss: 9.8543e-05 - accuracy: 1.0000"
          ]
        },
        {
          "output_type": "stream",
          "name": "stderr",
          "text": [
            "WARNING:tensorflow:Early stopping conditioned on metric `val_loss` which is not available. Available metrics are: loss,accuracy\n",
            "WARNING:tensorflow:Learning rate reduction is conditioned on metric `val_loss` which is not available. Available metrics are: loss,accuracy,lr\n"
          ]
        },
        {
          "output_type": "stream",
          "name": "stdout",
          "text": [
            "\b\b\b\b\b\b\b\b\b\b\b\b\b\b\b\b\b\b\b\b\b\b\b\b\b\b\b\b\b\b\b\b\b\b\b\b\b\b\b\b\b\b\b\b\b\b\b\b\b\b\b\b\b\b\b\b\b\b\b\b\b\b\b\b\b\b\b\b\b\b\b\b\b\b\b\b\b\b\b\b\b\b\b\b\b\b\b\b\r125/125 [==============================] - 1s 7ms/step - loss: 9.6831e-05 - accuracy: 1.0000 - lr: 3.0000e-05\n",
            "Epoch 93/200\n",
            "118/125 [===========================>..] - ETA: 0s - loss: 9.4837e-05 - accuracy: 1.0000"
          ]
        },
        {
          "output_type": "stream",
          "name": "stderr",
          "text": [
            "WARNING:tensorflow:Early stopping conditioned on metric `val_loss` which is not available. Available metrics are: loss,accuracy\n",
            "WARNING:tensorflow:Learning rate reduction is conditioned on metric `val_loss` which is not available. Available metrics are: loss,accuracy,lr\n"
          ]
        },
        {
          "output_type": "stream",
          "name": "stdout",
          "text": [
            "\b\b\b\b\b\b\b\b\b\b\b\b\b\b\b\b\b\b\b\b\b\b\b\b\b\b\b\b\b\b\b\b\b\b\b\b\b\b\b\b\b\b\b\b\b\b\b\b\b\b\b\b\b\b\b\b\b\b\b\b\b\b\b\b\b\b\b\b\b\b\b\b\b\b\b\b\b\b\b\b\b\b\b\b\b\b\b\b\r125/125 [==============================] - 1s 7ms/step - loss: 9.1507e-05 - accuracy: 1.0000 - lr: 3.0000e-05\n",
            "Epoch 94/200\n",
            "121/125 [============================>.] - ETA: 0s - loss: 1.3194e-04 - accuracy: 1.0000"
          ]
        },
        {
          "output_type": "stream",
          "name": "stderr",
          "text": [
            "WARNING:tensorflow:Early stopping conditioned on metric `val_loss` which is not available. Available metrics are: loss,accuracy\n",
            "WARNING:tensorflow:Learning rate reduction is conditioned on metric `val_loss` which is not available. Available metrics are: loss,accuracy,lr\n"
          ]
        },
        {
          "output_type": "stream",
          "name": "stdout",
          "text": [
            "\b\b\b\b\b\b\b\b\b\b\b\b\b\b\b\b\b\b\b\b\b\b\b\b\b\b\b\b\b\b\b\b\b\b\b\b\b\b\b\b\b\b\b\b\b\b\b\b\b\b\b\b\b\b\b\b\b\b\b\b\b\b\b\b\b\b\b\b\b\b\b\b\b\b\b\b\b\b\b\b\b\b\b\b\b\b\b\b\r125/125 [==============================] - 1s 7ms/step - loss: 1.4934e-04 - accuracy: 1.0000 - lr: 3.0000e-05\n",
            "Epoch 95/200\n",
            "121/125 [============================>.] - ETA: 0s - loss: 1.0593e-04 - accuracy: 1.0000"
          ]
        },
        {
          "output_type": "stream",
          "name": "stderr",
          "text": [
            "WARNING:tensorflow:Early stopping conditioned on metric `val_loss` which is not available. Available metrics are: loss,accuracy\n",
            "WARNING:tensorflow:Learning rate reduction is conditioned on metric `val_loss` which is not available. Available metrics are: loss,accuracy,lr\n"
          ]
        },
        {
          "output_type": "stream",
          "name": "stdout",
          "text": [
            "\b\b\b\b\b\b\b\b\b\b\b\b\b\b\b\b\b\b\b\b\b\b\b\b\b\b\b\b\b\b\b\b\b\b\b\b\b\b\b\b\b\b\b\b\b\b\b\b\b\b\b\b\b\b\b\b\b\b\b\b\b\b\b\b\b\b\b\b\b\b\b\b\b\b\b\b\b\b\b\b\b\b\b\b\b\b\b\b\r125/125 [==============================] - 1s 7ms/step - loss: 1.0768e-04 - accuracy: 1.0000 - lr: 3.0000e-05\n",
            "Epoch 96/200\n",
            "121/125 [============================>.] - ETA: 0s - loss: 8.6456e-05 - accuracy: 1.0000"
          ]
        },
        {
          "output_type": "stream",
          "name": "stderr",
          "text": [
            "WARNING:tensorflow:Early stopping conditioned on metric `val_loss` which is not available. Available metrics are: loss,accuracy\n",
            "WARNING:tensorflow:Learning rate reduction is conditioned on metric `val_loss` which is not available. Available metrics are: loss,accuracy,lr\n"
          ]
        },
        {
          "output_type": "stream",
          "name": "stdout",
          "text": [
            "\b\b\b\b\b\b\b\b\b\b\b\b\b\b\b\b\b\b\b\b\b\b\b\b\b\b\b\b\b\b\b\b\b\b\b\b\b\b\b\b\b\b\b\b\b\b\b\b\b\b\b\b\b\b\b\b\b\b\b\b\b\b\b\b\b\b\b\b\b\b\b\b\b\b\b\b\b\b\b\b\b\b\b\b\b\b\b\b\r125/125 [==============================] - 1s 7ms/step - loss: 8.4951e-05 - accuracy: 1.0000 - lr: 3.0000e-05\n",
            "Epoch 97/200\n",
            "125/125 [==============================] - ETA: 0s - loss: 6.3956e-05 - accuracy: 1.0000"
          ]
        },
        {
          "output_type": "stream",
          "name": "stderr",
          "text": [
            "WARNING:tensorflow:Early stopping conditioned on metric `val_loss` which is not available. Available metrics are: loss,accuracy\n",
            "WARNING:tensorflow:Learning rate reduction is conditioned on metric `val_loss` which is not available. Available metrics are: loss,accuracy,lr\n"
          ]
        },
        {
          "output_type": "stream",
          "name": "stdout",
          "text": [
            "\b\b\b\b\b\b\b\b\b\b\b\b\b\b\b\b\b\b\b\b\b\b\b\b\b\b\b\b\b\b\b\b\b\b\b\b\b\b\b\b\b\b\b\b\b\b\b\b\b\b\b\b\b\b\b\b\b\b\b\b\b\b\b\b\b\b\b\b\b\b\b\b\b\b\b\b\b\b\b\b\b\b\b\b\b\b\b\b\r125/125 [==============================] - 1s 7ms/step - loss: 6.3956e-05 - accuracy: 1.0000 - lr: 3.0000e-05\n",
            "Epoch 98/200\n",
            "120/125 [===========================>..] - ETA: 0s - loss: 6.2037e-05 - accuracy: 1.0000"
          ]
        },
        {
          "output_type": "stream",
          "name": "stderr",
          "text": [
            "WARNING:tensorflow:Early stopping conditioned on metric `val_loss` which is not available. Available metrics are: loss,accuracy\n",
            "WARNING:tensorflow:Learning rate reduction is conditioned on metric `val_loss` which is not available. Available metrics are: loss,accuracy,lr\n"
          ]
        },
        {
          "output_type": "stream",
          "name": "stdout",
          "text": [
            "\b\b\b\b\b\b\b\b\b\b\b\b\b\b\b\b\b\b\b\b\b\b\b\b\b\b\b\b\b\b\b\b\b\b\b\b\b\b\b\b\b\b\b\b\b\b\b\b\b\b\b\b\b\b\b\b\b\b\b\b\b\b\b\b\b\b\b\b\b\b\b\b\b\b\b\b\b\b\b\b\b\b\b\b\b\b\b\b\r125/125 [==============================] - 1s 7ms/step - loss: 6.1721e-05 - accuracy: 1.0000 - lr: 3.0000e-05\n",
            "Epoch 99/200\n",
            "119/125 [===========================>..] - ETA: 0s - loss: 6.3972e-05 - accuracy: 1.0000"
          ]
        },
        {
          "output_type": "stream",
          "name": "stderr",
          "text": [
            "WARNING:tensorflow:Early stopping conditioned on metric `val_loss` which is not available. Available metrics are: loss,accuracy\n",
            "WARNING:tensorflow:Learning rate reduction is conditioned on metric `val_loss` which is not available. Available metrics are: loss,accuracy,lr\n"
          ]
        },
        {
          "output_type": "stream",
          "name": "stdout",
          "text": [
            "\b\b\b\b\b\b\b\b\b\b\b\b\b\b\b\b\b\b\b\b\b\b\b\b\b\b\b\b\b\b\b\b\b\b\b\b\b\b\b\b\b\b\b\b\b\b\b\b\b\b\b\b\b\b\b\b\b\b\b\b\b\b\b\b\b\b\b\b\b\b\b\b\b\b\b\b\b\b\b\b\b\b\b\b\b\b\b\b\r125/125 [==============================] - 1s 7ms/step - loss: 6.2628e-05 - accuracy: 1.0000 - lr: 3.0000e-05\n",
            "Epoch 100/200\n",
            "119/125 [===========================>..] - ETA: 0s - loss: 5.6840e-05 - accuracy: 1.0000"
          ]
        },
        {
          "output_type": "stream",
          "name": "stderr",
          "text": [
            "WARNING:tensorflow:Early stopping conditioned on metric `val_loss` which is not available. Available metrics are: loss,accuracy\n",
            "WARNING:tensorflow:Learning rate reduction is conditioned on metric `val_loss` which is not available. Available metrics are: loss,accuracy,lr\n"
          ]
        },
        {
          "output_type": "stream",
          "name": "stdout",
          "text": [
            "\b\b\b\b\b\b\b\b\b\b\b\b\b\b\b\b\b\b\b\b\b\b\b\b\b\b\b\b\b\b\b\b\b\b\b\b\b\b\b\b\b\b\b\b\b\b\b\b\b\b\b\b\b\b\b\b\b\b\b\b\b\b\b\b\b\b\b\b\b\b\b\b\b\b\b\b\b\b\b\b\b\b\b\b\b\b\b\b\r125/125 [==============================] - 1s 7ms/step - loss: 5.6075e-05 - accuracy: 1.0000 - lr: 3.0000e-05\n",
            "Epoch 101/200\n",
            "119/125 [===========================>..] - ETA: 0s - loss: 5.1943e-05 - accuracy: 1.0000"
          ]
        },
        {
          "output_type": "stream",
          "name": "stderr",
          "text": [
            "WARNING:tensorflow:Early stopping conditioned on metric `val_loss` which is not available. Available metrics are: loss,accuracy\n",
            "WARNING:tensorflow:Learning rate reduction is conditioned on metric `val_loss` which is not available. Available metrics are: loss,accuracy,lr\n"
          ]
        },
        {
          "output_type": "stream",
          "name": "stdout",
          "text": [
            "\b\b\b\b\b\b\b\b\b\b\b\b\b\b\b\b\b\b\b\b\b\b\b\b\b\b\b\b\b\b\b\b\b\b\b\b\b\b\b\b\b\b\b\b\b\b\b\b\b\b\b\b\b\b\b\b\b\b\b\b\b\b\b\b\b\b\b\b\b\b\b\b\b\b\b\b\b\b\b\b\b\b\b\b\b\b\b\b\r125/125 [==============================] - 1s 7ms/step - loss: 5.1930e-05 - accuracy: 1.0000 - lr: 3.0000e-05\n",
            "Epoch 102/200\n",
            "124/125 [============================>.] - ETA: 0s - loss: 4.2768e-05 - accuracy: 1.0000"
          ]
        },
        {
          "output_type": "stream",
          "name": "stderr",
          "text": [
            "WARNING:tensorflow:Early stopping conditioned on metric `val_loss` which is not available. Available metrics are: loss,accuracy\n",
            "WARNING:tensorflow:Learning rate reduction is conditioned on metric `val_loss` which is not available. Available metrics are: loss,accuracy,lr\n"
          ]
        },
        {
          "output_type": "stream",
          "name": "stdout",
          "text": [
            "\b\b\b\b\b\b\b\b\b\b\b\b\b\b\b\b\b\b\b\b\b\b\b\b\b\b\b\b\b\b\b\b\b\b\b\b\b\b\b\b\b\b\b\b\b\b\b\b\b\b\b\b\b\b\b\b\b\b\b\b\b\b\b\b\b\b\b\b\b\b\b\b\b\b\b\b\b\b\b\b\b\b\b\b\b\b\b\b\r125/125 [==============================] - 1s 9ms/step - loss: 4.3046e-05 - accuracy: 1.0000 - lr: 3.0000e-05\n",
            "Epoch 103/200\n",
            "121/125 [============================>.] - ETA: 0s - loss: 4.7991e-05 - accuracy: 1.0000"
          ]
        },
        {
          "output_type": "stream",
          "name": "stderr",
          "text": [
            "WARNING:tensorflow:Early stopping conditioned on metric `val_loss` which is not available. Available metrics are: loss,accuracy\n",
            "WARNING:tensorflow:Learning rate reduction is conditioned on metric `val_loss` which is not available. Available metrics are: loss,accuracy,lr\n"
          ]
        },
        {
          "output_type": "stream",
          "name": "stdout",
          "text": [
            "\b\b\b\b\b\b\b\b\b\b\b\b\b\b\b\b\b\b\b\b\b\b\b\b\b\b\b\b\b\b\b\b\b\b\b\b\b\b\b\b\b\b\b\b\b\b\b\b\b\b\b\b\b\b\b\b\b\b\b\b\b\b\b\b\b\b\b\b\b\b\b\b\b\b\b\b\b\b\b\b\b\b\b\b\b\b\b\b\r125/125 [==============================] - 1s 9ms/step - loss: 4.7363e-05 - accuracy: 1.0000 - lr: 3.0000e-05\n",
            "Epoch 104/200\n",
            "123/125 [============================>.] - ETA: 0s - loss: 4.9279e-05 - accuracy: 1.0000"
          ]
        },
        {
          "output_type": "stream",
          "name": "stderr",
          "text": [
            "WARNING:tensorflow:Early stopping conditioned on metric `val_loss` which is not available. Available metrics are: loss,accuracy\n",
            "WARNING:tensorflow:Learning rate reduction is conditioned on metric `val_loss` which is not available. Available metrics are: loss,accuracy,lr\n"
          ]
        },
        {
          "output_type": "stream",
          "name": "stdout",
          "text": [
            "\b\b\b\b\b\b\b\b\b\b\b\b\b\b\b\b\b\b\b\b\b\b\b\b\b\b\b\b\b\b\b\b\b\b\b\b\b\b\b\b\b\b\b\b\b\b\b\b\b\b\b\b\b\b\b\b\b\b\b\b\b\b\b\b\b\b\b\b\b\b\b\b\b\b\b\b\b\b\b\b\b\b\b\b\b\b\b\b\r125/125 [==============================] - 1s 10ms/step - loss: 4.8781e-05 - accuracy: 1.0000 - lr: 3.0000e-05\n",
            "Epoch 105/200\n",
            "123/125 [============================>.] - ETA: 0s - loss: 3.6285e-05 - accuracy: 1.0000"
          ]
        },
        {
          "output_type": "stream",
          "name": "stderr",
          "text": [
            "WARNING:tensorflow:Early stopping conditioned on metric `val_loss` which is not available. Available metrics are: loss,accuracy\n",
            "WARNING:tensorflow:Learning rate reduction is conditioned on metric `val_loss` which is not available. Available metrics are: loss,accuracy,lr\n"
          ]
        },
        {
          "output_type": "stream",
          "name": "stdout",
          "text": [
            "\b\b\b\b\b\b\b\b\b\b\b\b\b\b\b\b\b\b\b\b\b\b\b\b\b\b\b\b\b\b\b\b\b\b\b\b\b\b\b\b\b\b\b\b\b\b\b\b\b\b\b\b\b\b\b\b\b\b\b\b\b\b\b\b\b\b\b\b\b\b\b\b\b\b\b\b\b\b\b\b\b\b\b\b\b\b\b\b\r125/125 [==============================] - 1s 10ms/step - loss: 3.6034e-05 - accuracy: 1.0000 - lr: 3.0000e-05\n",
            "Epoch 106/200\n",
            "124/125 [============================>.] - ETA: 0s - loss: 3.3240e-05 - accuracy: 1.0000"
          ]
        },
        {
          "output_type": "stream",
          "name": "stderr",
          "text": [
            "WARNING:tensorflow:Early stopping conditioned on metric `val_loss` which is not available. Available metrics are: loss,accuracy\n",
            "WARNING:tensorflow:Learning rate reduction is conditioned on metric `val_loss` which is not available. Available metrics are: loss,accuracy,lr\n"
          ]
        },
        {
          "output_type": "stream",
          "name": "stdout",
          "text": [
            "\b\b\b\b\b\b\b\b\b\b\b\b\b\b\b\b\b\b\b\b\b\b\b\b\b\b\b\b\b\b\b\b\b\b\b\b\b\b\b\b\b\b\b\b\b\b\b\b\b\b\b\b\b\b\b\b\b\b\b\b\b\b\b\b\b\b\b\b\b\b\b\b\b\b\b\b\b\b\b\b\b\b\b\b\b\b\b\b\r125/125 [==============================] - 1s 10ms/step - loss: 3.3091e-05 - accuracy: 1.0000 - lr: 3.0000e-05\n",
            "Epoch 107/200\n",
            "120/125 [===========================>..] - ETA: 0s - loss: 3.9423e-05 - accuracy: 1.0000"
          ]
        },
        {
          "output_type": "stream",
          "name": "stderr",
          "text": [
            "WARNING:tensorflow:Early stopping conditioned on metric `val_loss` which is not available. Available metrics are: loss,accuracy\n",
            "WARNING:tensorflow:Learning rate reduction is conditioned on metric `val_loss` which is not available. Available metrics are: loss,accuracy,lr\n"
          ]
        },
        {
          "output_type": "stream",
          "name": "stdout",
          "text": [
            "\b\b\b\b\b\b\b\b\b\b\b\b\b\b\b\b\b\b\b\b\b\b\b\b\b\b\b\b\b\b\b\b\b\b\b\b\b\b\b\b\b\b\b\b\b\b\b\b\b\b\b\b\b\b\b\b\b\b\b\b\b\b\b\b\b\b\b\b\b\b\b\b\b\b\b\b\b\b\b\b\b\b\b\b\b\b\b\b\r125/125 [==============================] - 1s 9ms/step - loss: 3.9655e-05 - accuracy: 1.0000 - lr: 3.0000e-05\n",
            "Epoch 108/200\n",
            "119/125 [===========================>..] - ETA: 0s - loss: 2.3554e-05 - accuracy: 1.0000"
          ]
        },
        {
          "output_type": "stream",
          "name": "stderr",
          "text": [
            "WARNING:tensorflow:Early stopping conditioned on metric `val_loss` which is not available. Available metrics are: loss,accuracy\n",
            "WARNING:tensorflow:Learning rate reduction is conditioned on metric `val_loss` which is not available. Available metrics are: loss,accuracy,lr\n"
          ]
        },
        {
          "output_type": "stream",
          "name": "stdout",
          "text": [
            "\b\b\b\b\b\b\b\b\b\b\b\b\b\b\b\b\b\b\b\b\b\b\b\b\b\b\b\b\b\b\b\b\b\b\b\b\b\b\b\b\b\b\b\b\b\b\b\b\b\b\b\b\b\b\b\b\b\b\b\b\b\b\b\b\b\b\b\b\b\b\b\b\b\b\b\b\b\b\b\b\b\b\b\b\b\b\b\b\r125/125 [==============================] - 1s 7ms/step - loss: 2.3942e-05 - accuracy: 1.0000 - lr: 3.0000e-05\n",
            "Epoch 109/200\n",
            "120/125 [===========================>..] - ETA: 0s - loss: 4.2086e-05 - accuracy: 1.0000"
          ]
        },
        {
          "output_type": "stream",
          "name": "stderr",
          "text": [
            "WARNING:tensorflow:Early stopping conditioned on metric `val_loss` which is not available. Available metrics are: loss,accuracy\n",
            "WARNING:tensorflow:Learning rate reduction is conditioned on metric `val_loss` which is not available. Available metrics are: loss,accuracy,lr\n"
          ]
        },
        {
          "output_type": "stream",
          "name": "stdout",
          "text": [
            "\b\b\b\b\b\b\b\b\b\b\b\b\b\b\b\b\b\b\b\b\b\b\b\b\b\b\b\b\b\b\b\b\b\b\b\b\b\b\b\b\b\b\b\b\b\b\b\b\b\b\b\b\b\b\b\b\b\b\b\b\b\b\b\b\b\b\b\b\b\b\b\b\b\b\b\b\b\b\b\b\b\b\b\b\b\b\b\b\r125/125 [==============================] - 1s 7ms/step - loss: 4.1166e-05 - accuracy: 1.0000 - lr: 3.0000e-05\n",
            "Epoch 110/200\n",
            "119/125 [===========================>..] - ETA: 0s - loss: 5.3802e-05 - accuracy: 1.0000"
          ]
        },
        {
          "output_type": "stream",
          "name": "stderr",
          "text": [
            "WARNING:tensorflow:Early stopping conditioned on metric `val_loss` which is not available. Available metrics are: loss,accuracy\n",
            "WARNING:tensorflow:Learning rate reduction is conditioned on metric `val_loss` which is not available. Available metrics are: loss,accuracy,lr\n"
          ]
        },
        {
          "output_type": "stream",
          "name": "stdout",
          "text": [
            "\b\b\b\b\b\b\b\b\b\b\b\b\b\b\b\b\b\b\b\b\b\b\b\b\b\b\b\b\b\b\b\b\b\b\b\b\b\b\b\b\b\b\b\b\b\b\b\b\b\b\b\b\b\b\b\b\b\b\b\b\b\b\b\b\b\b\b\b\b\b\b\b\b\b\b\b\b\b\b\b\b\b\b\b\b\b\b\b\r125/125 [==============================] - 1s 7ms/step - loss: 5.2266e-05 - accuracy: 1.0000 - lr: 3.0000e-05\n",
            "Epoch 111/200\n",
            "119/125 [===========================>..] - ETA: 0s - loss: 3.7202e-05 - accuracy: 1.0000"
          ]
        },
        {
          "output_type": "stream",
          "name": "stderr",
          "text": [
            "WARNING:tensorflow:Early stopping conditioned on metric `val_loss` which is not available. Available metrics are: loss,accuracy\n",
            "WARNING:tensorflow:Learning rate reduction is conditioned on metric `val_loss` which is not available. Available metrics are: loss,accuracy,lr\n"
          ]
        },
        {
          "output_type": "stream",
          "name": "stdout",
          "text": [
            "\b\b\b\b\b\b\b\b\b\b\b\b\b\b\b\b\b\b\b\b\b\b\b\b\b\b\b\b\b\b\b\b\b\b\b\b\b\b\b\b\b\b\b\b\b\b\b\b\b\b\b\b\b\b\b\b\b\b\b\b\b\b\b\b\b\b\b\b\b\b\b\b\b\b\b\b\b\b\b\b\b\b\b\b\b\b\b\b\r125/125 [==============================] - 1s 7ms/step - loss: 3.6749e-05 - accuracy: 1.0000 - lr: 3.0000e-05\n",
            "Epoch 112/200\n",
            "120/125 [===========================>..] - ETA: 0s - loss: 2.7335e-05 - accuracy: 1.0000"
          ]
        },
        {
          "output_type": "stream",
          "name": "stderr",
          "text": [
            "WARNING:tensorflow:Early stopping conditioned on metric `val_loss` which is not available. Available metrics are: loss,accuracy\n",
            "WARNING:tensorflow:Learning rate reduction is conditioned on metric `val_loss` which is not available. Available metrics are: loss,accuracy,lr\n"
          ]
        },
        {
          "output_type": "stream",
          "name": "stdout",
          "text": [
            "\b\b\b\b\b\b\b\b\b\b\b\b\b\b\b\b\b\b\b\b\b\b\b\b\b\b\b\b\b\b\b\b\b\b\b\b\b\b\b\b\b\b\b\b\b\b\b\b\b\b\b\b\b\b\b\b\b\b\b\b\b\b\b\b\b\b\b\b\b\b\b\b\b\b\b\b\b\b\b\b\b\b\b\b\b\b\b\b\r125/125 [==============================] - 1s 7ms/step - loss: 3.0575e-05 - accuracy: 1.0000 - lr: 3.0000e-05\n",
            "Epoch 113/200\n",
            "119/125 [===========================>..] - ETA: 0s - loss: 2.9949e-05 - accuracy: 1.0000"
          ]
        },
        {
          "output_type": "stream",
          "name": "stderr",
          "text": [
            "WARNING:tensorflow:Early stopping conditioned on metric `val_loss` which is not available. Available metrics are: loss,accuracy\n",
            "WARNING:tensorflow:Learning rate reduction is conditioned on metric `val_loss` which is not available. Available metrics are: loss,accuracy,lr\n"
          ]
        },
        {
          "output_type": "stream",
          "name": "stdout",
          "text": [
            "\b\b\b\b\b\b\b\b\b\b\b\b\b\b\b\b\b\b\b\b\b\b\b\b\b\b\b\b\b\b\b\b\b\b\b\b\b\b\b\b\b\b\b\b\b\b\b\b\b\b\b\b\b\b\b\b\b\b\b\b\b\b\b\b\b\b\b\b\b\b\b\b\b\b\b\b\b\b\b\b\b\b\b\b\b\b\b\b\r125/125 [==============================] - 1s 7ms/step - loss: 3.0030e-05 - accuracy: 1.0000 - lr: 3.0000e-05\n",
            "Epoch 114/200\n",
            "125/125 [==============================] - ETA: 0s - loss: 2.4711e-05 - accuracy: 1.0000"
          ]
        },
        {
          "output_type": "stream",
          "name": "stderr",
          "text": [
            "WARNING:tensorflow:Early stopping conditioned on metric `val_loss` which is not available. Available metrics are: loss,accuracy\n",
            "WARNING:tensorflow:Learning rate reduction is conditioned on metric `val_loss` which is not available. Available metrics are: loss,accuracy,lr\n"
          ]
        },
        {
          "output_type": "stream",
          "name": "stdout",
          "text": [
            "\b\b\b\b\b\b\b\b\b\b\b\b\b\b\b\b\b\b\b\b\b\b\b\b\b\b\b\b\b\b\b\b\b\b\b\b\b\b\b\b\b\b\b\b\b\b\b\b\b\b\b\b\b\b\b\b\b\b\b\b\b\b\b\b\b\b\b\b\b\b\b\b\b\b\b\b\b\b\b\b\b\b\b\b\b\b\b\b\r125/125 [==============================] - 1s 7ms/step - loss: 2.4711e-05 - accuracy: 1.0000 - lr: 3.0000e-05\n",
            "Epoch 115/200\n",
            "120/125 [===========================>..] - ETA: 0s - loss: 2.3435e-05 - accuracy: 1.0000"
          ]
        },
        {
          "output_type": "stream",
          "name": "stderr",
          "text": [
            "WARNING:tensorflow:Early stopping conditioned on metric `val_loss` which is not available. Available metrics are: loss,accuracy\n",
            "WARNING:tensorflow:Learning rate reduction is conditioned on metric `val_loss` which is not available. Available metrics are: loss,accuracy,lr\n"
          ]
        },
        {
          "output_type": "stream",
          "name": "stdout",
          "text": [
            "\b\b\b\b\b\b\b\b\b\b\b\b\b\b\b\b\b\b\b\b\b\b\b\b\b\b\b\b\b\b\b\b\b\b\b\b\b\b\b\b\b\b\b\b\b\b\b\b\b\b\b\b\b\b\b\b\b\b\b\b\b\b\b\b\b\b\b\b\b\b\b\b\b\b\b\b\b\b\b\b\b\b\b\b\b\b\b\b\r125/125 [==============================] - 1s 7ms/step - loss: 2.3124e-05 - accuracy: 1.0000 - lr: 3.0000e-05\n",
            "Epoch 116/200\n",
            "125/125 [==============================] - ETA: 0s - loss: 5.8252e-05 - accuracy: 1.0000"
          ]
        },
        {
          "output_type": "stream",
          "name": "stderr",
          "text": [
            "WARNING:tensorflow:Early stopping conditioned on metric `val_loss` which is not available. Available metrics are: loss,accuracy\n",
            "WARNING:tensorflow:Learning rate reduction is conditioned on metric `val_loss` which is not available. Available metrics are: loss,accuracy,lr\n"
          ]
        },
        {
          "output_type": "stream",
          "name": "stdout",
          "text": [
            "\b\b\b\b\b\b\b\b\b\b\b\b\b\b\b\b\b\b\b\b\b\b\b\b\b\b\b\b\b\b\b\b\b\b\b\b\b\b\b\b\b\b\b\b\b\b\b\b\b\b\b\b\b\b\b\b\b\b\b\b\b\b\b\b\b\b\b\b\b\b\b\b\b\b\b\b\b\b\b\b\b\b\b\b\b\b\b\b\r125/125 [==============================] - 1s 7ms/step - loss: 5.8252e-05 - accuracy: 1.0000 - lr: 3.0000e-05\n",
            "Epoch 117/200\n",
            "118/125 [===========================>..] - ETA: 0s - loss: 2.9090e-05 - accuracy: 1.0000"
          ]
        },
        {
          "output_type": "stream",
          "name": "stderr",
          "text": [
            "WARNING:tensorflow:Early stopping conditioned on metric `val_loss` which is not available. Available metrics are: loss,accuracy\n",
            "WARNING:tensorflow:Learning rate reduction is conditioned on metric `val_loss` which is not available. Available metrics are: loss,accuracy,lr\n"
          ]
        },
        {
          "output_type": "stream",
          "name": "stdout",
          "text": [
            "\b\b\b\b\b\b\b\b\b\b\b\b\b\b\b\b\b\b\b\b\b\b\b\b\b\b\b\b\b\b\b\b\b\b\b\b\b\b\b\b\b\b\b\b\b\b\b\b\b\b\b\b\b\b\b\b\b\b\b\b\b\b\b\b\b\b\b\b\b\b\b\b\b\b\b\b\b\b\b\b\b\b\b\b\b\b\b\b\r125/125 [==============================] - 1s 7ms/step - loss: 2.8372e-05 - accuracy: 1.0000 - lr: 3.0000e-05\n",
            "Epoch 118/200\n",
            "125/125 [==============================] - ETA: 0s - loss: 1.5358e-05 - accuracy: 1.0000"
          ]
        },
        {
          "output_type": "stream",
          "name": "stderr",
          "text": [
            "WARNING:tensorflow:Early stopping conditioned on metric `val_loss` which is not available. Available metrics are: loss,accuracy\n",
            "WARNING:tensorflow:Learning rate reduction is conditioned on metric `val_loss` which is not available. Available metrics are: loss,accuracy,lr\n"
          ]
        },
        {
          "output_type": "stream",
          "name": "stdout",
          "text": [
            "\b\b\b\b\b\b\b\b\b\b\b\b\b\b\b\b\b\b\b\b\b\b\b\b\b\b\b\b\b\b\b\b\b\b\b\b\b\b\b\b\b\b\b\b\b\b\b\b\b\b\b\b\b\b\b\b\b\b\b\b\b\b\b\b\b\b\b\b\b\b\b\b\b\b\b\b\b\b\b\b\b\b\b\b\b\b\b\b\r125/125 [==============================] - 1s 7ms/step - loss: 1.5358e-05 - accuracy: 1.0000 - lr: 3.0000e-05\n",
            "Epoch 119/200\n",
            "119/125 [===========================>..] - ETA: 0s - loss: 1.5387e-05 - accuracy: 1.0000"
          ]
        },
        {
          "output_type": "stream",
          "name": "stderr",
          "text": [
            "WARNING:tensorflow:Early stopping conditioned on metric `val_loss` which is not available. Available metrics are: loss,accuracy\n",
            "WARNING:tensorflow:Learning rate reduction is conditioned on metric `val_loss` which is not available. Available metrics are: loss,accuracy,lr\n"
          ]
        },
        {
          "output_type": "stream",
          "name": "stdout",
          "text": [
            "\b\b\b\b\b\b\b\b\b\b\b\b\b\b\b\b\b\b\b\b\b\b\b\b\b\b\b\b\b\b\b\b\b\b\b\b\b\b\b\b\b\b\b\b\b\b\b\b\b\b\b\b\b\b\b\b\b\b\b\b\b\b\b\b\b\b\b\b\b\b\b\b\b\b\b\b\b\b\b\b\b\b\b\b\b\b\b\b\r125/125 [==============================] - 1s 7ms/step - loss: 1.6236e-05 - accuracy: 1.0000 - lr: 3.0000e-05\n",
            "Epoch 120/200\n",
            "119/125 [===========================>..] - ETA: 0s - loss: 1.5521e-05 - accuracy: 1.0000"
          ]
        },
        {
          "output_type": "stream",
          "name": "stderr",
          "text": [
            "WARNING:tensorflow:Early stopping conditioned on metric `val_loss` which is not available. Available metrics are: loss,accuracy\n",
            "WARNING:tensorflow:Learning rate reduction is conditioned on metric `val_loss` which is not available. Available metrics are: loss,accuracy,lr\n"
          ]
        },
        {
          "output_type": "stream",
          "name": "stdout",
          "text": [
            "\b\b\b\b\b\b\b\b\b\b\b\b\b\b\b\b\b\b\b\b\b\b\b\b\b\b\b\b\b\b\b\b\b\b\b\b\b\b\b\b\b\b\b\b\b\b\b\b\b\b\b\b\b\b\b\b\b\b\b\b\b\b\b\b\b\b\b\b\b\b\b\b\b\b\b\b\b\b\b\b\b\b\b\b\b\b\b\b\r125/125 [==============================] - 1s 7ms/step - loss: 1.5941e-05 - accuracy: 1.0000 - lr: 3.0000e-05\n",
            "Epoch 121/200\n",
            "118/125 [===========================>..] - ETA: 0s - loss: 1.6464e-05 - accuracy: 1.0000"
          ]
        },
        {
          "output_type": "stream",
          "name": "stderr",
          "text": [
            "WARNING:tensorflow:Early stopping conditioned on metric `val_loss` which is not available. Available metrics are: loss,accuracy\n",
            "WARNING:tensorflow:Learning rate reduction is conditioned on metric `val_loss` which is not available. Available metrics are: loss,accuracy,lr\n"
          ]
        },
        {
          "output_type": "stream",
          "name": "stdout",
          "text": [
            "\b\b\b\b\b\b\b\b\b\b\b\b\b\b\b\b\b\b\b\b\b\b\b\b\b\b\b\b\b\b\b\b\b\b\b\b\b\b\b\b\b\b\b\b\b\b\b\b\b\b\b\b\b\b\b\b\b\b\b\b\b\b\b\b\b\b\b\b\b\b\b\b\b\b\b\b\b\b\b\b\b\b\b\b\b\b\b\b\r125/125 [==============================] - 1s 7ms/step - loss: 1.5998e-05 - accuracy: 1.0000 - lr: 3.0000e-05\n",
            "Epoch 122/200\n",
            "125/125 [==============================] - ETA: 0s - loss: 1.7182e-05 - accuracy: 1.0000"
          ]
        },
        {
          "output_type": "stream",
          "name": "stderr",
          "text": [
            "WARNING:tensorflow:Early stopping conditioned on metric `val_loss` which is not available. Available metrics are: loss,accuracy\n",
            "WARNING:tensorflow:Learning rate reduction is conditioned on metric `val_loss` which is not available. Available metrics are: loss,accuracy,lr\n"
          ]
        },
        {
          "output_type": "stream",
          "name": "stdout",
          "text": [
            "\b\b\b\b\b\b\b\b\b\b\b\b\b\b\b\b\b\b\b\b\b\b\b\b\b\b\b\b\b\b\b\b\b\b\b\b\b\b\b\b\b\b\b\b\b\b\b\b\b\b\b\b\b\b\b\b\b\b\b\b\b\b\b\b\b\b\b\b\b\b\b\b\b\b\b\b\b\b\b\b\b\b\b\b\b\b\b\b\r125/125 [==============================] - 1s 7ms/step - loss: 1.7182e-05 - accuracy: 1.0000 - lr: 3.0000e-05\n",
            "Epoch 123/200\n",
            "125/125 [==============================] - ETA: 0s - loss: 1.0779e-05 - accuracy: 1.0000"
          ]
        },
        {
          "output_type": "stream",
          "name": "stderr",
          "text": [
            "WARNING:tensorflow:Early stopping conditioned on metric `val_loss` which is not available. Available metrics are: loss,accuracy\n",
            "WARNING:tensorflow:Learning rate reduction is conditioned on metric `val_loss` which is not available. Available metrics are: loss,accuracy,lr\n"
          ]
        },
        {
          "output_type": "stream",
          "name": "stdout",
          "text": [
            "\b\b\b\b\b\b\b\b\b\b\b\b\b\b\b\b\b\b\b\b\b\b\b\b\b\b\b\b\b\b\b\b\b\b\b\b\b\b\b\b\b\b\b\b\b\b\b\b\b\b\b\b\b\b\b\b\b\b\b\b\b\b\b\b\b\b\b\b\b\b\b\b\b\b\b\b\b\b\b\b\b\b\b\b\b\b\b\b\r125/125 [==============================] - 1s 7ms/step - loss: 1.0779e-05 - accuracy: 1.0000 - lr: 3.0000e-05\n",
            "Epoch 124/200\n",
            "119/125 [===========================>..] - ETA: 0s - loss: 1.3302e-05 - accuracy: 1.0000"
          ]
        },
        {
          "output_type": "stream",
          "name": "stderr",
          "text": [
            "WARNING:tensorflow:Early stopping conditioned on metric `val_loss` which is not available. Available metrics are: loss,accuracy\n",
            "WARNING:tensorflow:Learning rate reduction is conditioned on metric `val_loss` which is not available. Available metrics are: loss,accuracy,lr\n"
          ]
        },
        {
          "output_type": "stream",
          "name": "stdout",
          "text": [
            "\b\b\b\b\b\b\b\b\b\b\b\b\b\b\b\b\b\b\b\b\b\b\b\b\b\b\b\b\b\b\b\b\b\b\b\b\b\b\b\b\b\b\b\b\b\b\b\b\b\b\b\b\b\b\b\b\b\b\b\b\b\b\b\b\b\b\b\b\b\b\b\b\b\b\b\b\b\b\b\b\b\b\b\b\b\b\b\b\r125/125 [==============================] - 1s 7ms/step - loss: 1.3026e-05 - accuracy: 1.0000 - lr: 3.0000e-05\n",
            "Epoch 125/200\n",
            "118/125 [===========================>..] - ETA: 0s - loss: 1.0048e-05 - accuracy: 1.0000"
          ]
        },
        {
          "output_type": "stream",
          "name": "stderr",
          "text": [
            "WARNING:tensorflow:Early stopping conditioned on metric `val_loss` which is not available. Available metrics are: loss,accuracy\n",
            "WARNING:tensorflow:Learning rate reduction is conditioned on metric `val_loss` which is not available. Available metrics are: loss,accuracy,lr\n"
          ]
        },
        {
          "output_type": "stream",
          "name": "stdout",
          "text": [
            "\b\b\b\b\b\b\b\b\b\b\b\b\b\b\b\b\b\b\b\b\b\b\b\b\b\b\b\b\b\b\b\b\b\b\b\b\b\b\b\b\b\b\b\b\b\b\b\b\b\b\b\b\b\b\b\b\b\b\b\b\b\b\b\b\b\b\b\b\b\b\b\b\b\b\b\b\b\b\b\b\b\b\b\b\b\b\b\b\r125/125 [==============================] - 1s 7ms/step - loss: 9.8148e-06 - accuracy: 1.0000 - lr: 3.0000e-05\n",
            "Epoch 126/200\n",
            "125/125 [==============================] - ETA: 0s - loss: 1.1266e-05 - accuracy: 1.0000"
          ]
        },
        {
          "output_type": "stream",
          "name": "stderr",
          "text": [
            "WARNING:tensorflow:Early stopping conditioned on metric `val_loss` which is not available. Available metrics are: loss,accuracy\n",
            "WARNING:tensorflow:Learning rate reduction is conditioned on metric `val_loss` which is not available. Available metrics are: loss,accuracy,lr\n"
          ]
        },
        {
          "output_type": "stream",
          "name": "stdout",
          "text": [
            "\b\b\b\b\b\b\b\b\b\b\b\b\b\b\b\b\b\b\b\b\b\b\b\b\b\b\b\b\b\b\b\b\b\b\b\b\b\b\b\b\b\b\b\b\b\b\b\b\b\b\b\b\b\b\b\b\b\b\b\b\b\b\b\b\b\b\b\b\b\b\b\b\b\b\b\b\b\b\b\b\b\b\b\b\b\b\b\b\r125/125 [==============================] - 1s 7ms/step - loss: 1.1266e-05 - accuracy: 1.0000 - lr: 3.0000e-05\n",
            "Epoch 127/200\n",
            "120/125 [===========================>..] - ETA: 0s - loss: 8.8286e-06 - accuracy: 1.0000"
          ]
        },
        {
          "output_type": "stream",
          "name": "stderr",
          "text": [
            "WARNING:tensorflow:Early stopping conditioned on metric `val_loss` which is not available. Available metrics are: loss,accuracy\n",
            "WARNING:tensorflow:Learning rate reduction is conditioned on metric `val_loss` which is not available. Available metrics are: loss,accuracy,lr\n"
          ]
        },
        {
          "output_type": "stream",
          "name": "stdout",
          "text": [
            "\b\b\b\b\b\b\b\b\b\b\b\b\b\b\b\b\b\b\b\b\b\b\b\b\b\b\b\b\b\b\b\b\b\b\b\b\b\b\b\b\b\b\b\b\b\b\b\b\b\b\b\b\b\b\b\b\b\b\b\b\b\b\b\b\b\b\b\b\b\b\b\b\b\b\b\b\b\b\b\b\b\b\b\b\b\b\b\b\r125/125 [==============================] - 1s 7ms/step - loss: 8.6615e-06 - accuracy: 1.0000 - lr: 3.0000e-05\n",
            "Epoch 128/200\n",
            "118/125 [===========================>..] - ETA: 0s - loss: 7.8404e-06 - accuracy: 1.0000"
          ]
        },
        {
          "output_type": "stream",
          "name": "stderr",
          "text": [
            "WARNING:tensorflow:Early stopping conditioned on metric `val_loss` which is not available. Available metrics are: loss,accuracy\n",
            "WARNING:tensorflow:Learning rate reduction is conditioned on metric `val_loss` which is not available. Available metrics are: loss,accuracy,lr\n"
          ]
        },
        {
          "output_type": "stream",
          "name": "stdout",
          "text": [
            "\b\b\b\b\b\b\b\b\b\b\b\b\b\b\b\b\b\b\b\b\b\b\b\b\b\b\b\b\b\b\b\b\b\b\b\b\b\b\b\b\b\b\b\b\b\b\b\b\b\b\b\b\b\b\b\b\b\b\b\b\b\b\b\b\b\b\b\b\b\b\b\b\b\b\b\b\b\b\b\b\b\b\b\b\b\b\b\b\r125/125 [==============================] - 1s 7ms/step - loss: 8.0165e-06 - accuracy: 1.0000 - lr: 3.0000e-05\n",
            "Epoch 129/200\n",
            "119/125 [===========================>..] - ETA: 0s - loss: 9.7905e-06 - accuracy: 1.0000"
          ]
        },
        {
          "output_type": "stream",
          "name": "stderr",
          "text": [
            "WARNING:tensorflow:Early stopping conditioned on metric `val_loss` which is not available. Available metrics are: loss,accuracy\n",
            "WARNING:tensorflow:Learning rate reduction is conditioned on metric `val_loss` which is not available. Available metrics are: loss,accuracy,lr\n"
          ]
        },
        {
          "output_type": "stream",
          "name": "stdout",
          "text": [
            "\b\b\b\b\b\b\b\b\b\b\b\b\b\b\b\b\b\b\b\b\b\b\b\b\b\b\b\b\b\b\b\b\b\b\b\b\b\b\b\b\b\b\b\b\b\b\b\b\b\b\b\b\b\b\b\b\b\b\b\b\b\b\b\b\b\b\b\b\b\b\b\b\b\b\b\b\b\b\b\b\b\b\b\b\b\b\b\b\r125/125 [==============================] - 1s 7ms/step - loss: 9.5294e-06 - accuracy: 1.0000 - lr: 3.0000e-05\n",
            "Epoch 130/200\n",
            "123/125 [============================>.] - ETA: 0s - loss: 8.1546e-06 - accuracy: 1.0000"
          ]
        },
        {
          "output_type": "stream",
          "name": "stderr",
          "text": [
            "WARNING:tensorflow:Early stopping conditioned on metric `val_loss` which is not available. Available metrics are: loss,accuracy\n",
            "WARNING:tensorflow:Learning rate reduction is conditioned on metric `val_loss` which is not available. Available metrics are: loss,accuracy,lr\n"
          ]
        },
        {
          "output_type": "stream",
          "name": "stdout",
          "text": [
            "\b\b\b\b\b\b\b\b\b\b\b\b\b\b\b\b\b\b\b\b\b\b\b\b\b\b\b\b\b\b\b\b\b\b\b\b\b\b\b\b\b\b\b\b\b\b\b\b\b\b\b\b\b\b\b\b\b\b\b\b\b\b\b\b\b\b\b\b\b\b\b\b\b\b\b\b\b\b\b\b\b\b\b\b\b\b\b\b\r125/125 [==============================] - 1s 7ms/step - loss: 8.3440e-06 - accuracy: 1.0000 - lr: 3.0000e-05\n",
            "Epoch 131/200\n",
            "124/125 [============================>.] - ETA: 0s - loss: 7.1999e-06 - accuracy: 1.0000"
          ]
        },
        {
          "output_type": "stream",
          "name": "stderr",
          "text": [
            "WARNING:tensorflow:Early stopping conditioned on metric `val_loss` which is not available. Available metrics are: loss,accuracy\n",
            "WARNING:tensorflow:Learning rate reduction is conditioned on metric `val_loss` which is not available. Available metrics are: loss,accuracy,lr\n"
          ]
        },
        {
          "output_type": "stream",
          "name": "stdout",
          "text": [
            "\b\b\b\b\b\b\b\b\b\b\b\b\b\b\b\b\b\b\b\b\b\b\b\b\b\b\b\b\b\b\b\b\b\b\b\b\b\b\b\b\b\b\b\b\b\b\b\b\b\b\b\b\b\b\b\b\b\b\b\b\b\b\b\b\b\b\b\b\b\b\b\b\b\b\b\b\b\b\b\b\b\b\b\b\b\b\b\b\r125/125 [==============================] - 1s 7ms/step - loss: 7.1657e-06 - accuracy: 1.0000 - lr: 3.0000e-05\n",
            "Epoch 132/200\n",
            "120/125 [===========================>..] - ETA: 0s - loss: 7.0492e-06 - accuracy: 1.0000"
          ]
        },
        {
          "output_type": "stream",
          "name": "stderr",
          "text": [
            "WARNING:tensorflow:Early stopping conditioned on metric `val_loss` which is not available. Available metrics are: loss,accuracy\n",
            "WARNING:tensorflow:Learning rate reduction is conditioned on metric `val_loss` which is not available. Available metrics are: loss,accuracy,lr\n"
          ]
        },
        {
          "output_type": "stream",
          "name": "stdout",
          "text": [
            "\b\b\b\b\b\b\b\b\b\b\b\b\b\b\b\b\b\b\b\b\b\b\b\b\b\b\b\b\b\b\b\b\b\b\b\b\b\b\b\b\b\b\b\b\b\b\b\b\b\b\b\b\b\b\b\b\b\b\b\b\b\b\b\b\b\b\b\b\b\b\b\b\b\b\b\b\b\b\b\b\b\b\b\b\b\b\b\b\r125/125 [==============================] - 1s 7ms/step - loss: 6.8435e-06 - accuracy: 1.0000 - lr: 3.0000e-05\n",
            "Epoch 133/200\n",
            "125/125 [==============================] - ETA: 0s - loss: 8.0238e-06 - accuracy: 1.0000"
          ]
        },
        {
          "output_type": "stream",
          "name": "stderr",
          "text": [
            "WARNING:tensorflow:Early stopping conditioned on metric `val_loss` which is not available. Available metrics are: loss,accuracy\n",
            "WARNING:tensorflow:Learning rate reduction is conditioned on metric `val_loss` which is not available. Available metrics are: loss,accuracy,lr\n"
          ]
        },
        {
          "output_type": "stream",
          "name": "stdout",
          "text": [
            "\b\b\b\b\b\b\b\b\b\b\b\b\b\b\b\b\b\b\b\b\b\b\b\b\b\b\b\b\b\b\b\b\b\b\b\b\b\b\b\b\b\b\b\b\b\b\b\b\b\b\b\b\b\b\b\b\b\b\b\b\b\b\b\b\b\b\b\b\b\b\b\b\b\b\b\b\b\b\b\b\b\b\b\b\b\b\b\b\r125/125 [==============================] - 1s 7ms/step - loss: 8.0238e-06 - accuracy: 1.0000 - lr: 3.0000e-05\n",
            "Epoch 134/200\n",
            "119/125 [===========================>..] - ETA: 0s - loss: 9.8145e-06 - accuracy: 1.0000"
          ]
        },
        {
          "output_type": "stream",
          "name": "stderr",
          "text": [
            "WARNING:tensorflow:Early stopping conditioned on metric `val_loss` which is not available. Available metrics are: loss,accuracy\n",
            "WARNING:tensorflow:Learning rate reduction is conditioned on metric `val_loss` which is not available. Available metrics are: loss,accuracy,lr\n"
          ]
        },
        {
          "output_type": "stream",
          "name": "stdout",
          "text": [
            "\b\b\b\b\b\b\b\b\b\b\b\b\b\b\b\b\b\b\b\b\b\b\b\b\b\b\b\b\b\b\b\b\b\b\b\b\b\b\b\b\b\b\b\b\b\b\b\b\b\b\b\b\b\b\b\b\b\b\b\b\b\b\b\b\b\b\b\b\b\b\b\b\b\b\b\b\b\b\b\b\b\b\b\b\b\b\b\b\r125/125 [==============================] - 1s 7ms/step - loss: 9.5608e-06 - accuracy: 1.0000 - lr: 3.0000e-05\n",
            "Epoch 135/200\n",
            "125/125 [==============================] - ETA: 0s - loss: 8.2979e-06 - accuracy: 1.0000"
          ]
        },
        {
          "output_type": "stream",
          "name": "stderr",
          "text": [
            "WARNING:tensorflow:Early stopping conditioned on metric `val_loss` which is not available. Available metrics are: loss,accuracy\n",
            "WARNING:tensorflow:Learning rate reduction is conditioned on metric `val_loss` which is not available. Available metrics are: loss,accuracy,lr\n"
          ]
        },
        {
          "output_type": "stream",
          "name": "stdout",
          "text": [
            "\b\b\b\b\b\b\b\b\b\b\b\b\b\b\b\b\b\b\b\b\b\b\b\b\b\b\b\b\b\b\b\b\b\b\b\b\b\b\b\b\b\b\b\b\b\b\b\b\b\b\b\b\b\b\b\b\b\b\b\b\b\b\b\b\b\b\b\b\b\b\b\b\b\b\b\b\b\b\b\b\b\b\b\b\b\b\b\b\r125/125 [==============================] - 1s 7ms/step - loss: 8.2979e-06 - accuracy: 1.0000 - lr: 3.0000e-05\n",
            "Epoch 136/200\n",
            "118/125 [===========================>..] - ETA: 0s - loss: 5.0114e-06 - accuracy: 1.0000"
          ]
        },
        {
          "output_type": "stream",
          "name": "stderr",
          "text": [
            "WARNING:tensorflow:Early stopping conditioned on metric `val_loss` which is not available. Available metrics are: loss,accuracy\n",
            "WARNING:tensorflow:Learning rate reduction is conditioned on metric `val_loss` which is not available. Available metrics are: loss,accuracy,lr\n"
          ]
        },
        {
          "output_type": "stream",
          "name": "stdout",
          "text": [
            "\b\b\b\b\b\b\b\b\b\b\b\b\b\b\b\b\b\b\b\b\b\b\b\b\b\b\b\b\b\b\b\b\b\b\b\b\b\b\b\b\b\b\b\b\b\b\b\b\b\b\b\b\b\b\b\b\b\b\b\b\b\b\b\b\b\b\b\b\b\b\b\b\b\b\b\b\b\b\b\b\b\b\b\b\b\b\b\b\r125/125 [==============================] - 1s 7ms/step - loss: 4.8752e-06 - accuracy: 1.0000 - lr: 3.0000e-05\n",
            "Epoch 137/200\n",
            "120/125 [===========================>..] - ETA: 0s - loss: 1.9063e-05 - accuracy: 1.0000"
          ]
        },
        {
          "output_type": "stream",
          "name": "stderr",
          "text": [
            "WARNING:tensorflow:Early stopping conditioned on metric `val_loss` which is not available. Available metrics are: loss,accuracy\n",
            "WARNING:tensorflow:Learning rate reduction is conditioned on metric `val_loss` which is not available. Available metrics are: loss,accuracy,lr\n"
          ]
        },
        {
          "output_type": "stream",
          "name": "stdout",
          "text": [
            "\b\b\b\b\b\b\b\b\b\b\b\b\b\b\b\b\b\b\b\b\b\b\b\b\b\b\b\b\b\b\b\b\b\b\b\b\b\b\b\b\b\b\b\b\b\b\b\b\b\b\b\b\b\b\b\b\b\b\b\b\b\b\b\b\b\b\b\b\b\b\b\b\b\b\b\b\b\b\b\b\b\b\b\b\b\b\b\b\r125/125 [==============================] - 1s 7ms/step - loss: 1.8546e-05 - accuracy: 1.0000 - lr: 3.0000e-05\n",
            "Epoch 138/200\n",
            "118/125 [===========================>..] - ETA: 0s - loss: 1.0367e-05 - accuracy: 1.0000"
          ]
        },
        {
          "output_type": "stream",
          "name": "stderr",
          "text": [
            "WARNING:tensorflow:Early stopping conditioned on metric `val_loss` which is not available. Available metrics are: loss,accuracy\n",
            "WARNING:tensorflow:Learning rate reduction is conditioned on metric `val_loss` which is not available. Available metrics are: loss,accuracy,lr\n"
          ]
        },
        {
          "output_type": "stream",
          "name": "stdout",
          "text": [
            "\b\b\b\b\b\b\b\b\b\b\b\b\b\b\b\b\b\b\b\b\b\b\b\b\b\b\b\b\b\b\b\b\b\b\b\b\b\b\b\b\b\b\b\b\b\b\b\b\b\b\b\b\b\b\b\b\b\b\b\b\b\b\b\b\b\b\b\b\b\b\b\b\b\b\b\b\b\b\b\b\b\b\b\b\b\b\b\b\r125/125 [==============================] - 1s 7ms/step - loss: 1.0080e-05 - accuracy: 1.0000 - lr: 3.0000e-05\n",
            "Epoch 139/200\n",
            "118/125 [===========================>..] - ETA: 0s - loss: 1.3286e-05 - accuracy: 1.0000"
          ]
        },
        {
          "output_type": "stream",
          "name": "stderr",
          "text": [
            "WARNING:tensorflow:Early stopping conditioned on metric `val_loss` which is not available. Available metrics are: loss,accuracy\n",
            "WARNING:tensorflow:Learning rate reduction is conditioned on metric `val_loss` which is not available. Available metrics are: loss,accuracy,lr\n"
          ]
        },
        {
          "output_type": "stream",
          "name": "stdout",
          "text": [
            "\b\b\b\b\b\b\b\b\b\b\b\b\b\b\b\b\b\b\b\b\b\b\b\b\b\b\b\b\b\b\b\b\b\b\b\b\b\b\b\b\b\b\b\b\b\b\b\b\b\b\b\b\b\b\b\b\b\b\b\b\b\b\b\b\b\b\b\b\b\b\b\b\b\b\b\b\b\b\b\b\b\b\b\b\b\b\b\b\r125/125 [==============================] - 1s 7ms/step - loss: 1.2715e-05 - accuracy: 1.0000 - lr: 3.0000e-05\n",
            "Epoch 140/200\n",
            "125/125 [==============================] - ETA: 0s - loss: 4.4928e-06 - accuracy: 1.0000"
          ]
        },
        {
          "output_type": "stream",
          "name": "stderr",
          "text": [
            "WARNING:tensorflow:Early stopping conditioned on metric `val_loss` which is not available. Available metrics are: loss,accuracy\n",
            "WARNING:tensorflow:Learning rate reduction is conditioned on metric `val_loss` which is not available. Available metrics are: loss,accuracy,lr\n"
          ]
        },
        {
          "output_type": "stream",
          "name": "stdout",
          "text": [
            "\b\b\b\b\b\b\b\b\b\b\b\b\b\b\b\b\b\b\b\b\b\b\b\b\b\b\b\b\b\b\b\b\b\b\b\b\b\b\b\b\b\b\b\b\b\b\b\b\b\b\b\b\b\b\b\b\b\b\b\b\b\b\b\b\b\b\b\b\b\b\b\b\b\b\b\b\b\b\b\b\b\b\b\b\b\b\b\b\r125/125 [==============================] - 1s 7ms/step - loss: 4.4928e-06 - accuracy: 1.0000 - lr: 3.0000e-05\n",
            "Epoch 141/200\n",
            "124/125 [============================>.] - ETA: 0s - loss: 5.2936e-06 - accuracy: 1.0000"
          ]
        },
        {
          "output_type": "stream",
          "name": "stderr",
          "text": [
            "WARNING:tensorflow:Early stopping conditioned on metric `val_loss` which is not available. Available metrics are: loss,accuracy\n",
            "WARNING:tensorflow:Learning rate reduction is conditioned on metric `val_loss` which is not available. Available metrics are: loss,accuracy,lr\n"
          ]
        },
        {
          "output_type": "stream",
          "name": "stdout",
          "text": [
            "\b\b\b\b\b\b\b\b\b\b\b\b\b\b\b\b\b\b\b\b\b\b\b\b\b\b\b\b\b\b\b\b\b\b\b\b\b\b\b\b\b\b\b\b\b\b\b\b\b\b\b\b\b\b\b\b\b\b\b\b\b\b\b\b\b\b\b\b\b\b\b\b\b\b\b\b\b\b\b\b\b\b\b\b\b\b\b\b\r125/125 [==============================] - 1s 7ms/step - loss: 5.2912e-06 - accuracy: 1.0000 - lr: 3.0000e-05\n",
            "Epoch 142/200\n",
            "120/125 [===========================>..] - ETA: 0s - loss: 7.1782e-06 - accuracy: 1.0000"
          ]
        },
        {
          "output_type": "stream",
          "name": "stderr",
          "text": [
            "WARNING:tensorflow:Early stopping conditioned on metric `val_loss` which is not available. Available metrics are: loss,accuracy\n",
            "WARNING:tensorflow:Learning rate reduction is conditioned on metric `val_loss` which is not available. Available metrics are: loss,accuracy,lr\n"
          ]
        },
        {
          "output_type": "stream",
          "name": "stdout",
          "text": [
            "\b\b\b\b\b\b\b\b\b\b\b\b\b\b\b\b\b\b\b\b\b\b\b\b\b\b\b\b\b\b\b\b\b\b\b\b\b\b\b\b\b\b\b\b\b\b\b\b\b\b\b\b\b\b\b\b\b\b\b\b\b\b\b\b\b\b\b\b\b\b\b\b\b\b\b\b\b\b\b\b\b\b\b\b\b\b\b\b\r125/125 [==============================] - 1s 7ms/step - loss: 6.9728e-06 - accuracy: 1.0000 - lr: 3.0000e-05\n",
            "Epoch 143/200\n",
            "121/125 [============================>.] - ETA: 0s - loss: 1.1623e-05 - accuracy: 1.0000"
          ]
        },
        {
          "output_type": "stream",
          "name": "stderr",
          "text": [
            "WARNING:tensorflow:Early stopping conditioned on metric `val_loss` which is not available. Available metrics are: loss,accuracy\n",
            "WARNING:tensorflow:Learning rate reduction is conditioned on metric `val_loss` which is not available. Available metrics are: loss,accuracy,lr\n"
          ]
        },
        {
          "output_type": "stream",
          "name": "stdout",
          "text": [
            "\b\b\b\b\b\b\b\b\b\b\b\b\b\b\b\b\b\b\b\b\b\b\b\b\b\b\b\b\b\b\b\b\b\b\b\b\b\b\b\b\b\b\b\b\b\b\b\b\b\b\b\b\b\b\b\b\b\b\b\b\b\b\b\b\b\b\b\b\b\b\b\b\b\b\b\b\b\b\b\b\b\b\b\b\b\b\b\b\r125/125 [==============================] - 1s 7ms/step - loss: 1.1302e-05 - accuracy: 1.0000 - lr: 3.0000e-05\n",
            "Epoch 144/200\n",
            "120/125 [===========================>..] - ETA: 0s - loss: 4.7815e-06 - accuracy: 1.0000"
          ]
        },
        {
          "output_type": "stream",
          "name": "stderr",
          "text": [
            "WARNING:tensorflow:Early stopping conditioned on metric `val_loss` which is not available. Available metrics are: loss,accuracy\n",
            "WARNING:tensorflow:Learning rate reduction is conditioned on metric `val_loss` which is not available. Available metrics are: loss,accuracy,lr\n"
          ]
        },
        {
          "output_type": "stream",
          "name": "stdout",
          "text": [
            "\b\b\b\b\b\b\b\b\b\b\b\b\b\b\b\b\b\b\b\b\b\b\b\b\b\b\b\b\b\b\b\b\b\b\b\b\b\b\b\b\b\b\b\b\b\b\b\b\b\b\b\b\b\b\b\b\b\b\b\b\b\b\b\b\b\b\b\b\b\b\b\b\b\b\b\b\b\b\b\b\b\b\b\b\b\b\b\b\r125/125 [==============================] - 1s 7ms/step - loss: 4.7507e-06 - accuracy: 1.0000 - lr: 3.0000e-05\n",
            "Epoch 145/200\n",
            "125/125 [==============================] - ETA: 0s - loss: 3.5939e-06 - accuracy: 1.0000"
          ]
        },
        {
          "output_type": "stream",
          "name": "stderr",
          "text": [
            "WARNING:tensorflow:Early stopping conditioned on metric `val_loss` which is not available. Available metrics are: loss,accuracy\n",
            "WARNING:tensorflow:Learning rate reduction is conditioned on metric `val_loss` which is not available. Available metrics are: loss,accuracy,lr\n"
          ]
        },
        {
          "output_type": "stream",
          "name": "stdout",
          "text": [
            "\b\b\b\b\b\b\b\b\b\b\b\b\b\b\b\b\b\b\b\b\b\b\b\b\b\b\b\b\b\b\b\b\b\b\b\b\b\b\b\b\b\b\b\b\b\b\b\b\b\b\b\b\b\b\b\b\b\b\b\b\b\b\b\b\b\b\b\b\b\b\b\b\b\b\b\b\b\b\b\b\b\b\b\b\b\b\b\b\r125/125 [==============================] - 1s 7ms/step - loss: 3.5939e-06 - accuracy: 1.0000 - lr: 3.0000e-05\n",
            "Epoch 146/200\n",
            "118/125 [===========================>..] - ETA: 0s - loss: 3.7071e-06 - accuracy: 1.0000"
          ]
        },
        {
          "output_type": "stream",
          "name": "stderr",
          "text": [
            "WARNING:tensorflow:Early stopping conditioned on metric `val_loss` which is not available. Available metrics are: loss,accuracy\n",
            "WARNING:tensorflow:Learning rate reduction is conditioned on metric `val_loss` which is not available. Available metrics are: loss,accuracy,lr\n"
          ]
        },
        {
          "output_type": "stream",
          "name": "stdout",
          "text": [
            "\b\b\b\b\b\b\b\b\b\b\b\b\b\b\b\b\b\b\b\b\b\b\b\b\b\b\b\b\b\b\b\b\b\b\b\b\b\b\b\b\b\b\b\b\b\b\b\b\b\b\b\b\b\b\b\b\b\b\b\b\b\b\b\b\b\b\b\b\b\b\b\b\b\b\b\b\b\b\b\b\b\b\b\b\b\b\b\b\r125/125 [==============================] - 1s 7ms/step - loss: 3.6029e-06 - accuracy: 1.0000 - lr: 3.0000e-05\n",
            "Epoch 147/200\n",
            "124/125 [============================>.] - ETA: 0s - loss: 3.2728e-06 - accuracy: 1.0000"
          ]
        },
        {
          "output_type": "stream",
          "name": "stderr",
          "text": [
            "WARNING:tensorflow:Early stopping conditioned on metric `val_loss` which is not available. Available metrics are: loss,accuracy\n",
            "WARNING:tensorflow:Learning rate reduction is conditioned on metric `val_loss` which is not available. Available metrics are: loss,accuracy,lr\n"
          ]
        },
        {
          "output_type": "stream",
          "name": "stdout",
          "text": [
            "\b\b\b\b\b\b\b\b\b\b\b\b\b\b\b\b\b\b\b\b\b\b\b\b\b\b\b\b\b\b\b\b\b\b\b\b\b\b\b\b\b\b\b\b\b\b\b\b\b\b\b\b\b\b\b\b\b\b\b\b\b\b\b\b\b\b\b\b\b\b\b\b\b\b\b\b\b\b\b\b\b\b\b\b\b\b\b\b\r125/125 [==============================] - 1s 7ms/step - loss: 3.2581e-06 - accuracy: 1.0000 - lr: 3.0000e-05\n",
            "Epoch 148/200\n",
            "118/125 [===========================>..] - ETA: 0s - loss: 2.8995e-06 - accuracy: 1.0000"
          ]
        },
        {
          "output_type": "stream",
          "name": "stderr",
          "text": [
            "WARNING:tensorflow:Early stopping conditioned on metric `val_loss` which is not available. Available metrics are: loss,accuracy\n",
            "WARNING:tensorflow:Learning rate reduction is conditioned on metric `val_loss` which is not available. Available metrics are: loss,accuracy,lr\n"
          ]
        },
        {
          "output_type": "stream",
          "name": "stdout",
          "text": [
            "\b\b\b\b\b\b\b\b\b\b\b\b\b\b\b\b\b\b\b\b\b\b\b\b\b\b\b\b\b\b\b\b\b\b\b\b\b\b\b\b\b\b\b\b\b\b\b\b\b\b\b\b\b\b\b\b\b\b\b\b\b\b\b\b\b\b\b\b\b\b\b\b\b\b\b\b\b\b\b\b\b\b\b\b\b\b\b\b\r125/125 [==============================] - 1s 7ms/step - loss: 2.8761e-06 - accuracy: 1.0000 - lr: 3.0000e-05\n",
            "Epoch 149/200\n",
            "125/125 [==============================] - ETA: 0s - loss: 2.9417e-06 - accuracy: 1.0000"
          ]
        },
        {
          "output_type": "stream",
          "name": "stderr",
          "text": [
            "WARNING:tensorflow:Early stopping conditioned on metric `val_loss` which is not available. Available metrics are: loss,accuracy\n",
            "WARNING:tensorflow:Learning rate reduction is conditioned on metric `val_loss` which is not available. Available metrics are: loss,accuracy,lr\n"
          ]
        },
        {
          "output_type": "stream",
          "name": "stdout",
          "text": [
            "\b\b\b\b\b\b\b\b\b\b\b\b\b\b\b\b\b\b\b\b\b\b\b\b\b\b\b\b\b\b\b\b\b\b\b\b\b\b\b\b\b\b\b\b\b\b\b\b\b\b\b\b\b\b\b\b\b\b\b\b\b\b\b\b\b\b\b\b\b\b\b\b\b\b\b\b\b\b\b\b\b\b\b\b\b\b\b\b\r125/125 [==============================] - 1s 7ms/step - loss: 2.9417e-06 - accuracy: 1.0000 - lr: 3.0000e-05\n",
            "Epoch 150/200\n",
            "125/125 [==============================] - ETA: 0s - loss: 2.7513e-06 - accuracy: 1.0000"
          ]
        },
        {
          "output_type": "stream",
          "name": "stderr",
          "text": [
            "WARNING:tensorflow:Early stopping conditioned on metric `val_loss` which is not available. Available metrics are: loss,accuracy\n",
            "WARNING:tensorflow:Learning rate reduction is conditioned on metric `val_loss` which is not available. Available metrics are: loss,accuracy,lr\n"
          ]
        },
        {
          "output_type": "stream",
          "name": "stdout",
          "text": [
            "\b\b\b\b\b\b\b\b\b\b\b\b\b\b\b\b\b\b\b\b\b\b\b\b\b\b\b\b\b\b\b\b\b\b\b\b\b\b\b\b\b\b\b\b\b\b\b\b\b\b\b\b\b\b\b\b\b\b\b\b\b\b\b\b\b\b\b\b\b\b\b\b\b\b\b\b\b\b\b\b\b\b\b\b\b\b\b\b\r125/125 [==============================] - 1s 7ms/step - loss: 2.7513e-06 - accuracy: 1.0000 - lr: 3.0000e-05\n",
            "Epoch 151/200\n",
            "118/125 [===========================>..] - ETA: 0s - loss: 3.9878e-06 - accuracy: 1.0000"
          ]
        },
        {
          "output_type": "stream",
          "name": "stderr",
          "text": [
            "WARNING:tensorflow:Early stopping conditioned on metric `val_loss` which is not available. Available metrics are: loss,accuracy\n",
            "WARNING:tensorflow:Learning rate reduction is conditioned on metric `val_loss` which is not available. Available metrics are: loss,accuracy,lr\n"
          ]
        },
        {
          "output_type": "stream",
          "name": "stdout",
          "text": [
            "\b\b\b\b\b\b\b\b\b\b\b\b\b\b\b\b\b\b\b\b\b\b\b\b\b\b\b\b\b\b\b\b\b\b\b\b\b\b\b\b\b\b\b\b\b\b\b\b\b\b\b\b\b\b\b\b\b\b\b\b\b\b\b\b\b\b\b\b\b\b\b\b\b\b\b\b\b\b\b\b\b\b\b\b\b\b\b\b\r125/125 [==============================] - 1s 7ms/step - loss: 4.0854e-06 - accuracy: 1.0000 - lr: 3.0000e-05\n",
            "Epoch 152/200\n",
            "124/125 [============================>.] - ETA: 0s - loss: 3.5499e-06 - accuracy: 1.0000"
          ]
        },
        {
          "output_type": "stream",
          "name": "stderr",
          "text": [
            "WARNING:tensorflow:Early stopping conditioned on metric `val_loss` which is not available. Available metrics are: loss,accuracy\n",
            "WARNING:tensorflow:Learning rate reduction is conditioned on metric `val_loss` which is not available. Available metrics are: loss,accuracy,lr\n"
          ]
        },
        {
          "output_type": "stream",
          "name": "stdout",
          "text": [
            "\b\b\b\b\b\b\b\b\b\b\b\b\b\b\b\b\b\b\b\b\b\b\b\b\b\b\b\b\b\b\b\b\b\b\b\b\b\b\b\b\b\b\b\b\b\b\b\b\b\b\b\b\b\b\b\b\b\b\b\b\b\b\b\b\b\b\b\b\b\b\b\b\b\b\b\b\b\b\b\b\b\b\b\b\b\b\b\b\r125/125 [==============================] - 1s 7ms/step - loss: 3.5436e-06 - accuracy: 1.0000 - lr: 3.0000e-05\n",
            "Epoch 153/200\n",
            "118/125 [===========================>..] - ETA: 0s - loss: 2.4227e-06 - accuracy: 1.0000"
          ]
        },
        {
          "output_type": "stream",
          "name": "stderr",
          "text": [
            "WARNING:tensorflow:Early stopping conditioned on metric `val_loss` which is not available. Available metrics are: loss,accuracy\n",
            "WARNING:tensorflow:Learning rate reduction is conditioned on metric `val_loss` which is not available. Available metrics are: loss,accuracy,lr\n"
          ]
        },
        {
          "output_type": "stream",
          "name": "stdout",
          "text": [
            "\b\b\b\b\b\b\b\b\b\b\b\b\b\b\b\b\b\b\b\b\b\b\b\b\b\b\b\b\b\b\b\b\b\b\b\b\b\b\b\b\b\b\b\b\b\b\b\b\b\b\b\b\b\b\b\b\b\b\b\b\b\b\b\b\b\b\b\b\b\b\b\b\b\b\b\b\b\b\b\b\b\b\b\b\b\b\b\b\r125/125 [==============================] - 1s 7ms/step - loss: 2.4310e-06 - accuracy: 1.0000 - lr: 3.0000e-05\n",
            "Epoch 154/200\n",
            "119/125 [===========================>..] - ETA: 0s - loss: 1.9938e-06 - accuracy: 1.0000"
          ]
        },
        {
          "output_type": "stream",
          "name": "stderr",
          "text": [
            "WARNING:tensorflow:Early stopping conditioned on metric `val_loss` which is not available. Available metrics are: loss,accuracy\n",
            "WARNING:tensorflow:Learning rate reduction is conditioned on metric `val_loss` which is not available. Available metrics are: loss,accuracy,lr\n"
          ]
        },
        {
          "output_type": "stream",
          "name": "stdout",
          "text": [
            "\b\b\b\b\b\b\b\b\b\b\b\b\b\b\b\b\b\b\b\b\b\b\b\b\b\b\b\b\b\b\b\b\b\b\b\b\b\b\b\b\b\b\b\b\b\b\b\b\b\b\b\b\b\b\b\b\b\b\b\b\b\b\b\b\b\b\b\b\b\b\b\b\b\b\b\b\b\b\b\b\b\b\b\b\b\b\b\b\r125/125 [==============================] - 1s 7ms/step - loss: 2.0253e-06 - accuracy: 1.0000 - lr: 3.0000e-05\n",
            "Epoch 155/200\n",
            "125/125 [==============================] - ETA: 0s - loss: 2.3388e-06 - accuracy: 1.0000"
          ]
        },
        {
          "output_type": "stream",
          "name": "stderr",
          "text": [
            "WARNING:tensorflow:Early stopping conditioned on metric `val_loss` which is not available. Available metrics are: loss,accuracy\n",
            "WARNING:tensorflow:Learning rate reduction is conditioned on metric `val_loss` which is not available. Available metrics are: loss,accuracy,lr\n"
          ]
        },
        {
          "output_type": "stream",
          "name": "stdout",
          "text": [
            "\b\b\b\b\b\b\b\b\b\b\b\b\b\b\b\b\b\b\b\b\b\b\b\b\b\b\b\b\b\b\b\b\b\b\b\b\b\b\b\b\b\b\b\b\b\b\b\b\b\b\b\b\b\b\b\b\b\b\b\b\b\b\b\b\b\b\b\b\b\b\b\b\b\b\b\b\b\b\b\b\b\b\b\b\b\b\b\b\r125/125 [==============================] - 1s 7ms/step - loss: 2.3388e-06 - accuracy: 1.0000 - lr: 3.0000e-05\n",
            "Epoch 156/200\n",
            "123/125 [============================>.] - ETA: 0s - loss: 2.3158e-06 - accuracy: 1.0000"
          ]
        },
        {
          "output_type": "stream",
          "name": "stderr",
          "text": [
            "WARNING:tensorflow:Early stopping conditioned on metric `val_loss` which is not available. Available metrics are: loss,accuracy\n",
            "WARNING:tensorflow:Learning rate reduction is conditioned on metric `val_loss` which is not available. Available metrics are: loss,accuracy,lr\n"
          ]
        },
        {
          "output_type": "stream",
          "name": "stdout",
          "text": [
            "\b\b\b\b\b\b\b\b\b\b\b\b\b\b\b\b\b\b\b\b\b\b\b\b\b\b\b\b\b\b\b\b\b\b\b\b\b\b\b\b\b\b\b\b\b\b\b\b\b\b\b\b\b\b\b\b\b\b\b\b\b\b\b\b\b\b\b\b\b\b\b\b\b\b\b\b\b\b\b\b\b\b\b\b\b\b\b\b\r125/125 [==============================] - 1s 7ms/step - loss: 2.2940e-06 - accuracy: 1.0000 - lr: 3.0000e-05\n",
            "Epoch 157/200\n",
            "118/125 [===========================>..] - ETA: 0s - loss: 2.1651e-06 - accuracy: 1.0000"
          ]
        },
        {
          "output_type": "stream",
          "name": "stderr",
          "text": [
            "WARNING:tensorflow:Early stopping conditioned on metric `val_loss` which is not available. Available metrics are: loss,accuracy\n",
            "WARNING:tensorflow:Learning rate reduction is conditioned on metric `val_loss` which is not available. Available metrics are: loss,accuracy,lr\n"
          ]
        },
        {
          "output_type": "stream",
          "name": "stdout",
          "text": [
            "\b\b\b\b\b\b\b\b\b\b\b\b\b\b\b\b\b\b\b\b\b\b\b\b\b\b\b\b\b\b\b\b\b\b\b\b\b\b\b\b\b\b\b\b\b\b\b\b\b\b\b\b\b\b\b\b\b\b\b\b\b\b\b\b\b\b\b\b\b\b\b\b\b\b\b\b\b\b\b\b\b\b\b\b\b\b\b\b\r125/125 [==============================] - 1s 7ms/step - loss: 2.1107e-06 - accuracy: 1.0000 - lr: 3.0000e-05\n",
            "Epoch 158/200\n",
            "118/125 [===========================>..] - ETA: 0s - loss: 1.8258e-06 - accuracy: 1.0000"
          ]
        },
        {
          "output_type": "stream",
          "name": "stderr",
          "text": [
            "WARNING:tensorflow:Early stopping conditioned on metric `val_loss` which is not available. Available metrics are: loss,accuracy\n",
            "WARNING:tensorflow:Learning rate reduction is conditioned on metric `val_loss` which is not available. Available metrics are: loss,accuracy,lr\n"
          ]
        },
        {
          "output_type": "stream",
          "name": "stdout",
          "text": [
            "\b\b\b\b\b\b\b\b\b\b\b\b\b\b\b\b\b\b\b\b\b\b\b\b\b\b\b\b\b\b\b\b\b\b\b\b\b\b\b\b\b\b\b\b\b\b\b\b\b\b\b\b\b\b\b\b\b\b\b\b\b\b\b\b\b\b\b\b\b\b\b\b\b\b\b\b\b\b\b\b\b\b\b\b\b\b\b\b\r125/125 [==============================] - 1s 7ms/step - loss: 1.7902e-06 - accuracy: 1.0000 - lr: 3.0000e-05\n",
            "Epoch 159/200\n",
            "121/125 [============================>.] - ETA: 0s - loss: 4.7922e-06 - accuracy: 1.0000"
          ]
        },
        {
          "output_type": "stream",
          "name": "stderr",
          "text": [
            "WARNING:tensorflow:Early stopping conditioned on metric `val_loss` which is not available. Available metrics are: loss,accuracy\n",
            "WARNING:tensorflow:Learning rate reduction is conditioned on metric `val_loss` which is not available. Available metrics are: loss,accuracy,lr\n"
          ]
        },
        {
          "output_type": "stream",
          "name": "stdout",
          "text": [
            "\b\b\b\b\b\b\b\b\b\b\b\b\b\b\b\b\b\b\b\b\b\b\b\b\b\b\b\b\b\b\b\b\b\b\b\b\b\b\b\b\b\b\b\b\b\b\b\b\b\b\b\b\b\b\b\b\b\b\b\b\b\b\b\b\b\b\b\b\b\b\b\b\b\b\b\b\b\b\b\b\b\b\b\b\b\b\b\b\r125/125 [==============================] - 1s 7ms/step - loss: 4.6710e-06 - accuracy: 1.0000 - lr: 3.0000e-05\n",
            "Epoch 160/200\n",
            "125/125 [==============================] - ETA: 0s - loss: 1.9671e-06 - accuracy: 1.0000"
          ]
        },
        {
          "output_type": "stream",
          "name": "stderr",
          "text": [
            "WARNING:tensorflow:Early stopping conditioned on metric `val_loss` which is not available. Available metrics are: loss,accuracy\n",
            "WARNING:tensorflow:Learning rate reduction is conditioned on metric `val_loss` which is not available. Available metrics are: loss,accuracy,lr\n"
          ]
        },
        {
          "output_type": "stream",
          "name": "stdout",
          "text": [
            "\b\b\b\b\b\b\b\b\b\b\b\b\b\b\b\b\b\b\b\b\b\b\b\b\b\b\b\b\b\b\b\b\b\b\b\b\b\b\b\b\b\b\b\b\b\b\b\b\b\b\b\b\b\b\b\b\b\b\b\b\b\b\b\b\b\b\b\b\b\b\b\b\b\b\b\b\b\b\b\b\b\b\b\b\b\b\b\b\r125/125 [==============================] - 1s 7ms/step - loss: 1.9671e-06 - accuracy: 1.0000 - lr: 3.0000e-05\n",
            "Epoch 161/200\n",
            "118/125 [===========================>..] - ETA: 0s - loss: 1.6577e-06 - accuracy: 1.0000"
          ]
        },
        {
          "output_type": "stream",
          "name": "stderr",
          "text": [
            "WARNING:tensorflow:Early stopping conditioned on metric `val_loss` which is not available. Available metrics are: loss,accuracy\n",
            "WARNING:tensorflow:Learning rate reduction is conditioned on metric `val_loss` which is not available. Available metrics are: loss,accuracy,lr\n"
          ]
        },
        {
          "output_type": "stream",
          "name": "stdout",
          "text": [
            "\b\b\b\b\b\b\b\b\b\b\b\b\b\b\b\b\b\b\b\b\b\b\b\b\b\b\b\b\b\b\b\b\b\b\b\b\b\b\b\b\b\b\b\b\b\b\b\b\b\b\b\b\b\b\b\b\b\b\b\b\b\b\b\b\b\b\b\b\b\b\b\b\b\b\b\b\b\b\b\b\b\b\b\b\b\b\b\b\r125/125 [==============================] - 1s 7ms/step - loss: 1.6098e-06 - accuracy: 1.0000 - lr: 3.0000e-05\n",
            "Epoch 162/200\n",
            "120/125 [===========================>..] - ETA: 0s - loss: 1.7481e-06 - accuracy: 1.0000"
          ]
        },
        {
          "output_type": "stream",
          "name": "stderr",
          "text": [
            "WARNING:tensorflow:Early stopping conditioned on metric `val_loss` which is not available. Available metrics are: loss,accuracy\n",
            "WARNING:tensorflow:Learning rate reduction is conditioned on metric `val_loss` which is not available. Available metrics are: loss,accuracy,lr\n"
          ]
        },
        {
          "output_type": "stream",
          "name": "stdout",
          "text": [
            "\b\b\b\b\b\b\b\b\b\b\b\b\b\b\b\b\b\b\b\b\b\b\b\b\b\b\b\b\b\b\b\b\b\b\b\b\b\b\b\b\b\b\b\b\b\b\b\b\b\b\b\b\b\b\b\b\b\b\b\b\b\b\b\b\b\b\b\b\b\b\b\b\b\b\b\b\b\b\b\b\b\b\b\b\b\b\b\b\r125/125 [==============================] - 1s 7ms/step - loss: 1.7221e-06 - accuracy: 1.0000 - lr: 3.0000e-05\n",
            "Epoch 163/200\n",
            "118/125 [===========================>..] - ETA: 0s - loss: 1.6633e-06 - accuracy: 1.0000"
          ]
        },
        {
          "output_type": "stream",
          "name": "stderr",
          "text": [
            "WARNING:tensorflow:Early stopping conditioned on metric `val_loss` which is not available. Available metrics are: loss,accuracy\n",
            "WARNING:tensorflow:Learning rate reduction is conditioned on metric `val_loss` which is not available. Available metrics are: loss,accuracy,lr\n"
          ]
        },
        {
          "output_type": "stream",
          "name": "stdout",
          "text": [
            "\b\b\b\b\b\b\b\b\b\b\b\b\b\b\b\b\b\b\b\b\b\b\b\b\b\b\b\b\b\b\b\b\b\b\b\b\b\b\b\b\b\b\b\b\b\b\b\b\b\b\b\b\b\b\b\b\b\b\b\b\b\b\b\b\b\b\b\b\b\b\b\b\b\b\b\b\b\b\b\b\b\b\b\b\b\b\b\b\r125/125 [==============================] - 1s 7ms/step - loss: 1.6320e-06 - accuracy: 1.0000 - lr: 3.0000e-05\n",
            "Epoch 164/200\n",
            "119/125 [===========================>..] - ETA: 0s - loss: 2.4904e-06 - accuracy: 1.0000"
          ]
        },
        {
          "output_type": "stream",
          "name": "stderr",
          "text": [
            "WARNING:tensorflow:Early stopping conditioned on metric `val_loss` which is not available. Available metrics are: loss,accuracy\n",
            "WARNING:tensorflow:Learning rate reduction is conditioned on metric `val_loss` which is not available. Available metrics are: loss,accuracy,lr\n"
          ]
        },
        {
          "output_type": "stream",
          "name": "stdout",
          "text": [
            "\b\b\b\b\b\b\b\b\b\b\b\b\b\b\b\b\b\b\b\b\b\b\b\b\b\b\b\b\b\b\b\b\b\b\b\b\b\b\b\b\b\b\b\b\b\b\b\b\b\b\b\b\b\b\b\b\b\b\b\b\b\b\b\b\b\b\b\b\b\b\b\b\b\b\b\b\b\b\b\b\b\b\b\b\b\b\b\b\r125/125 [==============================] - 1s 7ms/step - loss: 2.4087e-06 - accuracy: 1.0000 - lr: 3.0000e-05\n",
            "Epoch 165/200\n",
            "120/125 [===========================>..] - ETA: 0s - loss: 1.1892e-06 - accuracy: 1.0000"
          ]
        },
        {
          "output_type": "stream",
          "name": "stderr",
          "text": [
            "WARNING:tensorflow:Early stopping conditioned on metric `val_loss` which is not available. Available metrics are: loss,accuracy\n",
            "WARNING:tensorflow:Learning rate reduction is conditioned on metric `val_loss` which is not available. Available metrics are: loss,accuracy,lr\n"
          ]
        },
        {
          "output_type": "stream",
          "name": "stdout",
          "text": [
            "\b\b\b\b\b\b\b\b\b\b\b\b\b\b\b\b\b\b\b\b\b\b\b\b\b\b\b\b\b\b\b\b\b\b\b\b\b\b\b\b\b\b\b\b\b\b\b\b\b\b\b\b\b\b\b\b\b\b\b\b\b\b\b\b\b\b\b\b\b\b\b\b\b\b\b\b\b\b\b\b\b\b\b\b\b\b\b\b\r125/125 [==============================] - 1s 7ms/step - loss: 1.1735e-06 - accuracy: 1.0000 - lr: 3.0000e-05\n",
            "Epoch 166/200\n",
            "125/125 [==============================] - ETA: 0s - loss: 1.1933e-06 - accuracy: 1.0000"
          ]
        },
        {
          "output_type": "stream",
          "name": "stderr",
          "text": [
            "WARNING:tensorflow:Early stopping conditioned on metric `val_loss` which is not available. Available metrics are: loss,accuracy\n",
            "WARNING:tensorflow:Learning rate reduction is conditioned on metric `val_loss` which is not available. Available metrics are: loss,accuracy,lr\n"
          ]
        },
        {
          "output_type": "stream",
          "name": "stdout",
          "text": [
            "\b\b\b\b\b\b\b\b\b\b\b\b\b\b\b\b\b\b\b\b\b\b\b\b\b\b\b\b\b\b\b\b\b\b\b\b\b\b\b\b\b\b\b\b\b\b\b\b\b\b\b\b\b\b\b\b\b\b\b\b\b\b\b\b\b\b\b\b\b\b\b\b\b\b\b\b\b\b\b\b\b\b\b\b\b\b\b\b\r125/125 [==============================] - 1s 7ms/step - loss: 1.1933e-06 - accuracy: 1.0000 - lr: 3.0000e-05\n",
            "Epoch 167/200\n",
            "125/125 [==============================] - ETA: 0s - loss: 7.3798e-07 - accuracy: 1.0000"
          ]
        },
        {
          "output_type": "stream",
          "name": "stderr",
          "text": [
            "WARNING:tensorflow:Early stopping conditioned on metric `val_loss` which is not available. Available metrics are: loss,accuracy\n",
            "WARNING:tensorflow:Learning rate reduction is conditioned on metric `val_loss` which is not available. Available metrics are: loss,accuracy,lr\n"
          ]
        },
        {
          "output_type": "stream",
          "name": "stdout",
          "text": [
            "\b\b\b\b\b\b\b\b\b\b\b\b\b\b\b\b\b\b\b\b\b\b\b\b\b\b\b\b\b\b\b\b\b\b\b\b\b\b\b\b\b\b\b\b\b\b\b\b\b\b\b\b\b\b\b\b\b\b\b\b\b\b\b\b\b\b\b\b\b\b\b\b\b\b\b\b\b\b\b\b\b\b\b\b\b\b\b\b\r125/125 [==============================] - 1s 7ms/step - loss: 7.3798e-07 - accuracy: 1.0000 - lr: 3.0000e-05\n",
            "Epoch 168/200\n",
            "119/125 [===========================>..] - ETA: 0s - loss: 1.1947e-06 - accuracy: 1.0000"
          ]
        },
        {
          "output_type": "stream",
          "name": "stderr",
          "text": [
            "WARNING:tensorflow:Early stopping conditioned on metric `val_loss` which is not available. Available metrics are: loss,accuracy\n",
            "WARNING:tensorflow:Learning rate reduction is conditioned on metric `val_loss` which is not available. Available metrics are: loss,accuracy,lr\n"
          ]
        },
        {
          "output_type": "stream",
          "name": "stdout",
          "text": [
            "\b\b\b\b\b\b\b\b\b\b\b\b\b\b\b\b\b\b\b\b\b\b\b\b\b\b\b\b\b\b\b\b\b\b\b\b\b\b\b\b\b\b\b\b\b\b\b\b\b\b\b\b\b\b\b\b\b\b\b\b\b\b\b\b\b\b\b\b\b\b\b\b\b\b\b\b\b\b\b\b\b\b\b\b\b\b\b\b\r125/125 [==============================] - 1s 7ms/step - loss: 1.1603e-06 - accuracy: 1.0000 - lr: 3.0000e-05\n",
            "Epoch 169/200\n",
            "124/125 [============================>.] - ETA: 0s - loss: 1.2581e-06 - accuracy: 1.0000"
          ]
        },
        {
          "output_type": "stream",
          "name": "stderr",
          "text": [
            "WARNING:tensorflow:Early stopping conditioned on metric `val_loss` which is not available. Available metrics are: loss,accuracy\n",
            "WARNING:tensorflow:Learning rate reduction is conditioned on metric `val_loss` which is not available. Available metrics are: loss,accuracy,lr\n"
          ]
        },
        {
          "output_type": "stream",
          "name": "stdout",
          "text": [
            "\b\b\b\b\b\b\b\b\b\b\b\b\b\b\b\b\b\b\b\b\b\b\b\b\b\b\b\b\b\b\b\b\b\b\b\b\b\b\b\b\b\b\b\b\b\b\b\b\b\b\b\b\b\b\b\b\b\b\b\b\b\b\b\b\b\b\b\b\b\b\b\b\b\b\b\b\b\b\b\b\b\b\b\b\b\b\b\b\r125/125 [==============================] - 1s 7ms/step - loss: 1.2521e-06 - accuracy: 1.0000 - lr: 3.0000e-05\n",
            "Epoch 170/200\n",
            "118/125 [===========================>..] - ETA: 0s - loss: 1.3335e-06 - accuracy: 1.0000"
          ]
        },
        {
          "output_type": "stream",
          "name": "stderr",
          "text": [
            "WARNING:tensorflow:Early stopping conditioned on metric `val_loss` which is not available. Available metrics are: loss,accuracy\n",
            "WARNING:tensorflow:Learning rate reduction is conditioned on metric `val_loss` which is not available. Available metrics are: loss,accuracy,lr\n"
          ]
        },
        {
          "output_type": "stream",
          "name": "stdout",
          "text": [
            "\b\b\b\b\b\b\b\b\b\b\b\b\b\b\b\b\b\b\b\b\b\b\b\b\b\b\b\b\b\b\b\b\b\b\b\b\b\b\b\b\b\b\b\b\b\b\b\b\b\b\b\b\b\b\b\b\b\b\b\b\b\b\b\b\b\b\b\b\b\b\b\b\b\b\b\b\b\b\b\b\b\b\b\b\b\b\b\b\r125/125 [==============================] - 1s 7ms/step - loss: 1.2864e-06 - accuracy: 1.0000 - lr: 3.0000e-05\n",
            "Epoch 171/200\n",
            "124/125 [============================>.] - ETA: 0s - loss: 9.5480e-07 - accuracy: 1.0000"
          ]
        },
        {
          "output_type": "stream",
          "name": "stderr",
          "text": [
            "WARNING:tensorflow:Early stopping conditioned on metric `val_loss` which is not available. Available metrics are: loss,accuracy\n",
            "WARNING:tensorflow:Learning rate reduction is conditioned on metric `val_loss` which is not available. Available metrics are: loss,accuracy,lr\n"
          ]
        },
        {
          "output_type": "stream",
          "name": "stdout",
          "text": [
            "\b\b\b\b\b\b\b\b\b\b\b\b\b\b\b\b\b\b\b\b\b\b\b\b\b\b\b\b\b\b\b\b\b\b\b\b\b\b\b\b\b\b\b\b\b\b\b\b\b\b\b\b\b\b\b\b\b\b\b\b\b\b\b\b\b\b\b\b\b\b\b\b\b\b\b\b\b\b\b\b\b\b\b\b\b\b\b\b\r125/125 [==============================] - 1s 7ms/step - loss: 9.5229e-07 - accuracy: 1.0000 - lr: 3.0000e-05\n",
            "Epoch 172/200\n",
            "119/125 [===========================>..] - ETA: 0s - loss: 2.4269e-06 - accuracy: 1.0000"
          ]
        },
        {
          "output_type": "stream",
          "name": "stderr",
          "text": [
            "WARNING:tensorflow:Early stopping conditioned on metric `val_loss` which is not available. Available metrics are: loss,accuracy\n",
            "WARNING:tensorflow:Learning rate reduction is conditioned on metric `val_loss` which is not available. Available metrics are: loss,accuracy,lr\n"
          ]
        },
        {
          "output_type": "stream",
          "name": "stdout",
          "text": [
            "\b\b\b\b\b\b\b\b\b\b\b\b\b\b\b\b\b\b\b\b\b\b\b\b\b\b\b\b\b\b\b\b\b\b\b\b\b\b\b\b\b\b\b\b\b\b\b\b\b\b\b\b\b\b\b\b\b\b\b\b\b\b\b\b\b\b\b\b\b\b\b\b\b\b\b\b\b\b\b\b\b\b\b\b\b\b\b\b\r125/125 [==============================] - 1s 7ms/step - loss: 2.3848e-06 - accuracy: 1.0000 - lr: 3.0000e-05\n",
            "Epoch 173/200\n",
            "118/125 [===========================>..] - ETA: 0s - loss: 9.7584e-07 - accuracy: 1.0000"
          ]
        },
        {
          "output_type": "stream",
          "name": "stderr",
          "text": [
            "WARNING:tensorflow:Early stopping conditioned on metric `val_loss` which is not available. Available metrics are: loss,accuracy\n",
            "WARNING:tensorflow:Learning rate reduction is conditioned on metric `val_loss` which is not available. Available metrics are: loss,accuracy,lr\n"
          ]
        },
        {
          "output_type": "stream",
          "name": "stdout",
          "text": [
            "\b\b\b\b\b\b\b\b\b\b\b\b\b\b\b\b\b\b\b\b\b\b\b\b\b\b\b\b\b\b\b\b\b\b\b\b\b\b\b\b\b\b\b\b\b\b\b\b\b\b\b\b\b\b\b\b\b\b\b\b\b\b\b\b\b\b\b\b\b\b\b\b\b\b\b\b\b\b\b\b\b\b\b\b\b\b\b\b\r125/125 [==============================] - 1s 7ms/step - loss: 9.6644e-07 - accuracy: 1.0000 - lr: 3.0000e-05\n",
            "Epoch 174/200\n",
            "124/125 [============================>.] - ETA: 0s - loss: 7.9057e-07 - accuracy: 1.0000"
          ]
        },
        {
          "output_type": "stream",
          "name": "stderr",
          "text": [
            "WARNING:tensorflow:Early stopping conditioned on metric `val_loss` which is not available. Available metrics are: loss,accuracy\n",
            "WARNING:tensorflow:Learning rate reduction is conditioned on metric `val_loss` which is not available. Available metrics are: loss,accuracy,lr\n"
          ]
        },
        {
          "output_type": "stream",
          "name": "stdout",
          "text": [
            "\b\b\b\b\b\b\b\b\b\b\b\b\b\b\b\b\b\b\b\b\b\b\b\b\b\b\b\b\b\b\b\b\b\b\b\b\b\b\b\b\b\b\b\b\b\b\b\b\b\b\b\b\b\b\b\b\b\b\b\b\b\b\b\b\b\b\b\b\b\b\b\b\b\b\b\b\b\b\b\b\b\b\b\b\b\b\b\b\r125/125 [==============================] - 1s 7ms/step - loss: 7.8615e-07 - accuracy: 1.0000 - lr: 3.0000e-05\n",
            "Epoch 175/200\n",
            "122/125 [============================>.] - ETA: 0s - loss: 5.7195e-07 - accuracy: 1.0000"
          ]
        },
        {
          "output_type": "stream",
          "name": "stderr",
          "text": [
            "WARNING:tensorflow:Early stopping conditioned on metric `val_loss` which is not available. Available metrics are: loss,accuracy\n",
            "WARNING:tensorflow:Learning rate reduction is conditioned on metric `val_loss` which is not available. Available metrics are: loss,accuracy,lr\n"
          ]
        },
        {
          "output_type": "stream",
          "name": "stdout",
          "text": [
            "\b\b\b\b\b\b\b\b\b\b\b\b\b\b\b\b\b\b\b\b\b\b\b\b\b\b\b\b\b\b\b\b\b\b\b\b\b\b\b\b\b\b\b\b\b\b\b\b\b\b\b\b\b\b\b\b\b\b\b\b\b\b\b\b\b\b\b\b\b\b\b\b\b\b\b\b\b\b\b\b\b\b\b\b\b\b\b\b\r125/125 [==============================] - 1s 7ms/step - loss: 5.8729e-07 - accuracy: 1.0000 - lr: 3.0000e-05\n",
            "Epoch 176/200\n",
            "121/125 [============================>.] - ETA: 0s - loss: 7.8829e-07 - accuracy: 1.0000"
          ]
        },
        {
          "output_type": "stream",
          "name": "stderr",
          "text": [
            "WARNING:tensorflow:Early stopping conditioned on metric `val_loss` which is not available. Available metrics are: loss,accuracy\n",
            "WARNING:tensorflow:Learning rate reduction is conditioned on metric `val_loss` which is not available. Available metrics are: loss,accuracy,lr\n"
          ]
        },
        {
          "output_type": "stream",
          "name": "stdout",
          "text": [
            "\b\b\b\b\b\b\b\b\b\b\b\b\b\b\b\b\b\b\b\b\b\b\b\b\b\b\b\b\b\b\b\b\b\b\b\b\b\b\b\b\b\b\b\b\b\b\b\b\b\b\b\b\b\b\b\b\b\b\b\b\b\b\b\b\b\b\b\b\b\b\b\b\b\b\b\b\b\b\b\b\b\b\b\b\b\b\b\b\r125/125 [==============================] - 1s 7ms/step - loss: 8.0827e-07 - accuracy: 1.0000 - lr: 3.0000e-05\n",
            "Epoch 177/200\n",
            "123/125 [============================>.] - ETA: 0s - loss: 7.5472e-07 - accuracy: 1.0000"
          ]
        },
        {
          "output_type": "stream",
          "name": "stderr",
          "text": [
            "WARNING:tensorflow:Early stopping conditioned on metric `val_loss` which is not available. Available metrics are: loss,accuracy\n",
            "WARNING:tensorflow:Learning rate reduction is conditioned on metric `val_loss` which is not available. Available metrics are: loss,accuracy,lr\n"
          ]
        },
        {
          "output_type": "stream",
          "name": "stdout",
          "text": [
            "\b\b\b\b\b\b\b\b\b\b\b\b\b\b\b\b\b\b\b\b\b\b\b\b\b\b\b\b\b\b\b\b\b\b\b\b\b\b\b\b\b\b\b\b\b\b\b\b\b\b\b\b\b\b\b\b\b\b\b\b\b\b\b\b\b\b\b\b\b\b\b\b\b\b\b\b\b\b\b\b\b\b\b\b\b\b\b\b\r125/125 [==============================] - 1s 7ms/step - loss: 7.4713e-07 - accuracy: 1.0000 - lr: 3.0000e-05\n",
            "Epoch 178/200\n",
            "124/125 [============================>.] - ETA: 0s - loss: 1.3245e-06 - accuracy: 1.0000"
          ]
        },
        {
          "output_type": "stream",
          "name": "stderr",
          "text": [
            "WARNING:tensorflow:Early stopping conditioned on metric `val_loss` which is not available. Available metrics are: loss,accuracy\n",
            "WARNING:tensorflow:Learning rate reduction is conditioned on metric `val_loss` which is not available. Available metrics are: loss,accuracy,lr\n"
          ]
        },
        {
          "output_type": "stream",
          "name": "stdout",
          "text": [
            "\b\b\b\b\b\b\b\b\b\b\b\b\b\b\b\b\b\b\b\b\b\b\b\b\b\b\b\b\b\b\b\b\b\b\b\b\b\b\b\b\b\b\b\b\b\b\b\b\b\b\b\b\b\b\b\b\b\b\b\b\b\b\b\b\b\b\b\b\b\b\b\b\b\b\b\b\b\b\b\b\b\b\b\b\b\b\b\b\r125/125 [==============================] - 1s 7ms/step - loss: 1.3158e-06 - accuracy: 1.0000 - lr: 3.0000e-05\n",
            "Epoch 179/200\n",
            "125/125 [==============================] - ETA: 0s - loss: 1.6396e-06 - accuracy: 1.0000"
          ]
        },
        {
          "output_type": "stream",
          "name": "stderr",
          "text": [
            "WARNING:tensorflow:Early stopping conditioned on metric `val_loss` which is not available. Available metrics are: loss,accuracy\n",
            "WARNING:tensorflow:Learning rate reduction is conditioned on metric `val_loss` which is not available. Available metrics are: loss,accuracy,lr\n"
          ]
        },
        {
          "output_type": "stream",
          "name": "stdout",
          "text": [
            "\b\b\b\b\b\b\b\b\b\b\b\b\b\b\b\b\b\b\b\b\b\b\b\b\b\b\b\b\b\b\b\b\b\b\b\b\b\b\b\b\b\b\b\b\b\b\b\b\b\b\b\b\b\b\b\b\b\b\b\b\b\b\b\b\b\b\b\b\b\b\b\b\b\b\b\b\b\b\b\b\b\b\b\b\b\b\b\b\r125/125 [==============================] - 1s 7ms/step - loss: 1.6396e-06 - accuracy: 1.0000 - lr: 3.0000e-05\n",
            "Epoch 180/200\n",
            "123/125 [============================>.] - ETA: 0s - loss: 8.9602e-07 - accuracy: 1.0000"
          ]
        },
        {
          "output_type": "stream",
          "name": "stderr",
          "text": [
            "WARNING:tensorflow:Early stopping conditioned on metric `val_loss` which is not available. Available metrics are: loss,accuracy\n",
            "WARNING:tensorflow:Learning rate reduction is conditioned on metric `val_loss` which is not available. Available metrics are: loss,accuracy,lr\n"
          ]
        },
        {
          "output_type": "stream",
          "name": "stdout",
          "text": [
            "\b\b\b\b\b\b\b\b\b\b\b\b\b\b\b\b\b\b\b\b\b\b\b\b\b\b\b\b\b\b\b\b\b\b\b\b\b\b\b\b\b\b\b\b\b\b\b\b\b\b\b\b\b\b\b\b\b\b\b\b\b\b\b\b\b\b\b\b\b\b\b\b\b\b\b\b\b\b\b\b\b\b\b\b\b\b\b\b\r125/125 [==============================] - 1s 7ms/step - loss: 8.8629e-07 - accuracy: 1.0000 - lr: 3.0000e-05\n",
            "Epoch 181/200\n",
            "125/125 [==============================] - ETA: 0s - loss: 5.0169e-07 - accuracy: 1.0000"
          ]
        },
        {
          "output_type": "stream",
          "name": "stderr",
          "text": [
            "WARNING:tensorflow:Early stopping conditioned on metric `val_loss` which is not available. Available metrics are: loss,accuracy\n",
            "WARNING:tensorflow:Learning rate reduction is conditioned on metric `val_loss` which is not available. Available metrics are: loss,accuracy,lr\n"
          ]
        },
        {
          "output_type": "stream",
          "name": "stdout",
          "text": [
            "\b\b\b\b\b\b\b\b\b\b\b\b\b\b\b\b\b\b\b\b\b\b\b\b\b\b\b\b\b\b\b\b\b\b\b\b\b\b\b\b\b\b\b\b\b\b\b\b\b\b\b\b\b\b\b\b\b\b\b\b\b\b\b\b\b\b\b\b\b\b\b\b\b\b\b\b\b\b\b\b\b\b\b\b\b\b\b\b\r125/125 [==============================] - 1s 7ms/step - loss: 5.0169e-07 - accuracy: 1.0000 - lr: 3.0000e-05\n",
            "Epoch 182/200\n",
            "119/125 [===========================>..] - ETA: 0s - loss: 5.7082e-07 - accuracy: 1.0000"
          ]
        },
        {
          "output_type": "stream",
          "name": "stderr",
          "text": [
            "WARNING:tensorflow:Early stopping conditioned on metric `val_loss` which is not available. Available metrics are: loss,accuracy\n",
            "WARNING:tensorflow:Learning rate reduction is conditioned on metric `val_loss` which is not available. Available metrics are: loss,accuracy,lr\n"
          ]
        },
        {
          "output_type": "stream",
          "name": "stdout",
          "text": [
            "\b\b\b\b\b\b\b\b\b\b\b\b\b\b\b\b\b\b\b\b\b\b\b\b\b\b\b\b\b\b\b\b\b\b\b\b\b\b\b\b\b\b\b\b\b\b\b\b\b\b\b\b\b\b\b\b\b\b\b\b\b\b\b\b\b\b\b\b\b\b\b\b\b\b\b\b\b\b\b\b\b\b\b\b\b\b\b\b\r125/125 [==============================] - 1s 7ms/step - loss: 8.4215e-07 - accuracy: 1.0000 - lr: 3.0000e-05\n",
            "Epoch 183/200\n",
            "124/125 [============================>.] - ETA: 0s - loss: 1.3185e-05 - accuracy: 1.0000"
          ]
        },
        {
          "output_type": "stream",
          "name": "stderr",
          "text": [
            "WARNING:tensorflow:Early stopping conditioned on metric `val_loss` which is not available. Available metrics are: loss,accuracy\n",
            "WARNING:tensorflow:Learning rate reduction is conditioned on metric `val_loss` which is not available. Available metrics are: loss,accuracy,lr\n"
          ]
        },
        {
          "output_type": "stream",
          "name": "stdout",
          "text": [
            "\b\b\b\b\b\b\b\b\b\b\b\b\b\b\b\b\b\b\b\b\b\b\b\b\b\b\b\b\b\b\b\b\b\b\b\b\b\b\b\b\b\b\b\b\b\b\b\b\b\b\b\b\b\b\b\b\b\b\b\b\b\b\b\b\b\b\b\b\b\b\b\b\b\b\b\b\b\b\b\b\b\b\b\b\b\b\b\b\r125/125 [==============================] - 1s 7ms/step - loss: 1.3097e-05 - accuracy: 1.0000 - lr: 3.0000e-05\n",
            "Epoch 184/200\n",
            "124/125 [============================>.] - ETA: 0s - loss: 2.1473e-06 - accuracy: 1.0000"
          ]
        },
        {
          "output_type": "stream",
          "name": "stderr",
          "text": [
            "WARNING:tensorflow:Early stopping conditioned on metric `val_loss` which is not available. Available metrics are: loss,accuracy\n",
            "WARNING:tensorflow:Learning rate reduction is conditioned on metric `val_loss` which is not available. Available metrics are: loss,accuracy,lr\n"
          ]
        },
        {
          "output_type": "stream",
          "name": "stdout",
          "text": [
            "\b\b\b\b\b\b\b\b\b\b\b\b\b\b\b\b\b\b\b\b\b\b\b\b\b\b\b\b\b\b\b\b\b\b\b\b\b\b\b\b\b\b\b\b\b\b\b\b\b\b\b\b\b\b\b\b\b\b\b\b\b\b\b\b\b\b\b\b\b\b\b\b\b\b\b\b\b\b\b\b\b\b\b\b\b\b\b\b\r125/125 [==============================] - 1s 7ms/step - loss: 2.1392e-06 - accuracy: 1.0000 - lr: 3.0000e-05\n",
            "Epoch 185/200\n",
            "124/125 [============================>.] - ETA: 0s - loss: 1.0623e-06 - accuracy: 1.0000"
          ]
        },
        {
          "output_type": "stream",
          "name": "stderr",
          "text": [
            "WARNING:tensorflow:Early stopping conditioned on metric `val_loss` which is not available. Available metrics are: loss,accuracy\n",
            "WARNING:tensorflow:Learning rate reduction is conditioned on metric `val_loss` which is not available. Available metrics are: loss,accuracy,lr\n"
          ]
        },
        {
          "output_type": "stream",
          "name": "stdout",
          "text": [
            "\b\b\b\b\b\b\b\b\b\b\b\b\b\b\b\b\b\b\b\b\b\b\b\b\b\b\b\b\b\b\b\b\b\b\b\b\b\b\b\b\b\b\b\b\b\b\b\b\b\b\b\b\b\b\b\b\b\b\b\b\b\b\b\b\b\b\b\b\b\b\b\b\b\b\b\b\b\b\b\b\b\b\b\b\b\b\b\b\r125/125 [==============================] - 1s 7ms/step - loss: 1.0852e-06 - accuracy: 1.0000 - lr: 3.0000e-05\n",
            "Epoch 186/200\n",
            "124/125 [============================>.] - ETA: 0s - loss: 1.0540e-06 - accuracy: 1.0000"
          ]
        },
        {
          "output_type": "stream",
          "name": "stderr",
          "text": [
            "WARNING:tensorflow:Early stopping conditioned on metric `val_loss` which is not available. Available metrics are: loss,accuracy\n",
            "WARNING:tensorflow:Learning rate reduction is conditioned on metric `val_loss` which is not available. Available metrics are: loss,accuracy,lr\n"
          ]
        },
        {
          "output_type": "stream",
          "name": "stdout",
          "text": [
            "\b\b\b\b\b\b\b\b\b\b\b\b\b\b\b\b\b\b\b\b\b\b\b\b\b\b\b\b\b\b\b\b\b\b\b\b\b\b\b\b\b\b\b\b\b\b\b\b\b\b\b\b\b\b\b\b\b\b\b\b\b\b\b\b\b\b\b\b\b\b\b\b\b\b\b\b\b\b\b\b\b\b\b\b\b\b\b\b\r125/125 [==============================] - 1s 7ms/step - loss: 1.0533e-06 - accuracy: 1.0000 - lr: 3.0000e-05\n",
            "Epoch 187/200\n",
            "118/125 [===========================>..] - ETA: 0s - loss: 1.0462e-06 - accuracy: 1.0000"
          ]
        },
        {
          "output_type": "stream",
          "name": "stderr",
          "text": [
            "WARNING:tensorflow:Early stopping conditioned on metric `val_loss` which is not available. Available metrics are: loss,accuracy\n",
            "WARNING:tensorflow:Learning rate reduction is conditioned on metric `val_loss` which is not available. Available metrics are: loss,accuracy,lr\n"
          ]
        },
        {
          "output_type": "stream",
          "name": "stdout",
          "text": [
            "\b\b\b\b\b\b\b\b\b\b\b\b\b\b\b\b\b\b\b\b\b\b\b\b\b\b\b\b\b\b\b\b\b\b\b\b\b\b\b\b\b\b\b\b\b\b\b\b\b\b\b\b\b\b\b\b\b\b\b\b\b\b\b\b\b\b\b\b\b\b\b\b\b\b\b\b\b\b\b\b\b\b\b\b\b\b\b\b\r125/125 [==============================] - 1s 7ms/step - loss: 1.0265e-06 - accuracy: 1.0000 - lr: 3.0000e-05\n",
            "Epoch 188/200\n",
            "125/125 [==============================] - ETA: 0s - loss: 6.7110e-07 - accuracy: 1.0000"
          ]
        },
        {
          "output_type": "stream",
          "name": "stderr",
          "text": [
            "WARNING:tensorflow:Early stopping conditioned on metric `val_loss` which is not available. Available metrics are: loss,accuracy\n",
            "WARNING:tensorflow:Learning rate reduction is conditioned on metric `val_loss` which is not available. Available metrics are: loss,accuracy,lr\n"
          ]
        },
        {
          "output_type": "stream",
          "name": "stdout",
          "text": [
            "\b\b\b\b\b\b\b\b\b\b\b\b\b\b\b\b\b\b\b\b\b\b\b\b\b\b\b\b\b\b\b\b\b\b\b\b\b\b\b\b\b\b\b\b\b\b\b\b\b\b\b\b\b\b\b\b\b\b\b\b\b\b\b\b\b\b\b\b\b\b\b\b\b\b\b\b\b\b\b\b\b\b\b\b\b\b\b\b\r125/125 [==============================] - 1s 7ms/step - loss: 6.7110e-07 - accuracy: 1.0000 - lr: 3.0000e-05\n",
            "Epoch 189/200\n",
            "120/125 [===========================>..] - ETA: 0s - loss: 5.1136e-07 - accuracy: 1.0000"
          ]
        },
        {
          "output_type": "stream",
          "name": "stderr",
          "text": [
            "WARNING:tensorflow:Early stopping conditioned on metric `val_loss` which is not available. Available metrics are: loss,accuracy\n",
            "WARNING:tensorflow:Learning rate reduction is conditioned on metric `val_loss` which is not available. Available metrics are: loss,accuracy,lr\n"
          ]
        },
        {
          "output_type": "stream",
          "name": "stdout",
          "text": [
            "\b\b\b\b\b\b\b\b\b\b\b\b\b\b\b\b\b\b\b\b\b\b\b\b\b\b\b\b\b\b\b\b\b\b\b\b\b\b\b\b\b\b\b\b\b\b\b\b\b\b\b\b\b\b\b\b\b\b\b\b\b\b\b\b\b\b\b\b\b\b\b\b\b\b\b\b\b\b\b\b\b\b\b\b\b\b\b\b\r125/125 [==============================] - 1s 7ms/step - loss: 5.0511e-07 - accuracy: 1.0000 - lr: 3.0000e-05\n",
            "Epoch 190/200\n",
            "121/125 [============================>.] - ETA: 0s - loss: 1.1530e-06 - accuracy: 1.0000"
          ]
        },
        {
          "output_type": "stream",
          "name": "stderr",
          "text": [
            "WARNING:tensorflow:Early stopping conditioned on metric `val_loss` which is not available. Available metrics are: loss,accuracy\n",
            "WARNING:tensorflow:Learning rate reduction is conditioned on metric `val_loss` which is not available. Available metrics are: loss,accuracy,lr\n"
          ]
        },
        {
          "output_type": "stream",
          "name": "stdout",
          "text": [
            "\b\b\b\b\b\b\b\b\b\b\b\b\b\b\b\b\b\b\b\b\b\b\b\b\b\b\b\b\b\b\b\b\b\b\b\b\b\b\b\b\b\b\b\b\b\b\b\b\b\b\b\b\b\b\b\b\b\b\b\b\b\b\b\b\b\b\b\b\b\b\b\b\b\b\b\b\b\b\b\b\b\b\b\b\b\b\b\b\r125/125 [==============================] - 1s 7ms/step - loss: 1.1546e-06 - accuracy: 1.0000 - lr: 3.0000e-05\n",
            "Epoch 191/200\n",
            "123/125 [============================>.] - ETA: 0s - loss: 2.5887e-06 - accuracy: 1.0000"
          ]
        },
        {
          "output_type": "stream",
          "name": "stderr",
          "text": [
            "WARNING:tensorflow:Early stopping conditioned on metric `val_loss` which is not available. Available metrics are: loss,accuracy\n",
            "WARNING:tensorflow:Learning rate reduction is conditioned on metric `val_loss` which is not available. Available metrics are: loss,accuracy,lr\n"
          ]
        },
        {
          "output_type": "stream",
          "name": "stdout",
          "text": [
            "\b\b\b\b\b\b\b\b\b\b\b\b\b\b\b\b\b\b\b\b\b\b\b\b\b\b\b\b\b\b\b\b\b\b\b\b\b\b\b\b\b\b\b\b\b\b\b\b\b\b\b\b\b\b\b\b\b\b\b\b\b\b\b\b\b\b\b\b\b\b\b\b\b\b\b\b\b\b\b\b\b\b\b\b\b\b\b\b\r125/125 [==============================] - 1s 7ms/step - loss: 2.5709e-06 - accuracy: 1.0000 - lr: 3.0000e-05\n",
            "Epoch 192/200\n",
            "124/125 [============================>.] - ETA: 0s - loss: 7.1259e-07 - accuracy: 1.0000"
          ]
        },
        {
          "output_type": "stream",
          "name": "stderr",
          "text": [
            "WARNING:tensorflow:Early stopping conditioned on metric `val_loss` which is not available. Available metrics are: loss,accuracy\n",
            "WARNING:tensorflow:Learning rate reduction is conditioned on metric `val_loss` which is not available. Available metrics are: loss,accuracy,lr\n"
          ]
        },
        {
          "output_type": "stream",
          "name": "stdout",
          "text": [
            "\b\b\b\b\b\b\b\b\b\b\b\b\b\b\b\b\b\b\b\b\b\b\b\b\b\b\b\b\b\b\b\b\b\b\b\b\b\b\b\b\b\b\b\b\b\b\b\b\b\b\b\b\b\b\b\b\b\b\b\b\b\b\b\b\b\b\b\b\b\b\b\b\b\b\b\b\b\b\b\b\b\b\b\b\b\b\b\b\r125/125 [==============================] - 1s 7ms/step - loss: 7.1394e-07 - accuracy: 1.0000 - lr: 3.0000e-05\n",
            "Epoch 193/200\n",
            "124/125 [============================>.] - ETA: 0s - loss: 6.1771e-07 - accuracy: 1.0000"
          ]
        },
        {
          "output_type": "stream",
          "name": "stderr",
          "text": [
            "WARNING:tensorflow:Early stopping conditioned on metric `val_loss` which is not available. Available metrics are: loss,accuracy\n",
            "WARNING:tensorflow:Learning rate reduction is conditioned on metric `val_loss` which is not available. Available metrics are: loss,accuracy,lr\n"
          ]
        },
        {
          "output_type": "stream",
          "name": "stdout",
          "text": [
            "\b\b\b\b\b\b\b\b\b\b\b\b\b\b\b\b\b\b\b\b\b\b\b\b\b\b\b\b\b\b\b\b\b\b\b\b\b\b\b\b\b\b\b\b\b\b\b\b\b\b\b\b\b\b\b\b\b\b\b\b\b\b\b\b\b\b\b\b\b\b\b\b\b\b\b\b\b\b\b\b\b\b\b\b\b\b\b\b\r125/125 [==============================] - 1s 7ms/step - loss: 6.4524e-07 - accuracy: 1.0000 - lr: 3.0000e-05\n",
            "Epoch 194/200\n",
            "125/125 [==============================] - ETA: 0s - loss: 4.6852e-07 - accuracy: 1.0000"
          ]
        },
        {
          "output_type": "stream",
          "name": "stderr",
          "text": [
            "WARNING:tensorflow:Early stopping conditioned on metric `val_loss` which is not available. Available metrics are: loss,accuracy\n",
            "WARNING:tensorflow:Learning rate reduction is conditioned on metric `val_loss` which is not available. Available metrics are: loss,accuracy,lr\n"
          ]
        },
        {
          "output_type": "stream",
          "name": "stdout",
          "text": [
            "\b\b\b\b\b\b\b\b\b\b\b\b\b\b\b\b\b\b\b\b\b\b\b\b\b\b\b\b\b\b\b\b\b\b\b\b\b\b\b\b\b\b\b\b\b\b\b\b\b\b\b\b\b\b\b\b\b\b\b\b\b\b\b\b\b\b\b\b\b\b\b\b\b\b\b\b\b\b\b\b\b\b\b\b\b\b\b\b\r125/125 [==============================] - 1s 7ms/step - loss: 4.6852e-07 - accuracy: 1.0000 - lr: 3.0000e-05\n",
            "Epoch 195/200\n",
            "124/125 [============================>.] - ETA: 0s - loss: 4.6440e-07 - accuracy: 1.0000"
          ]
        },
        {
          "output_type": "stream",
          "name": "stderr",
          "text": [
            "WARNING:tensorflow:Early stopping conditioned on metric `val_loss` which is not available. Available metrics are: loss,accuracy\n",
            "WARNING:tensorflow:Learning rate reduction is conditioned on metric `val_loss` which is not available. Available metrics are: loss,accuracy,lr\n"
          ]
        },
        {
          "output_type": "stream",
          "name": "stdout",
          "text": [
            "\b\b\b\b\b\b\b\b\b\b\b\b\b\b\b\b\b\b\b\b\b\b\b\b\b\b\b\b\b\b\b\b\b\b\b\b\b\b\b\b\b\b\b\b\b\b\b\b\b\b\b\b\b\b\b\b\b\b\b\b\b\b\b\b\b\b\b\b\b\b\b\b\b\b\b\b\b\b\b\b\b\b\b\b\b\b\b\b\r125/125 [==============================] - 1s 7ms/step - loss: 4.6153e-07 - accuracy: 1.0000 - lr: 3.0000e-05\n",
            "Epoch 196/200\n",
            "119/125 [===========================>..] - ETA: 0s - loss: 4.3396e-07 - accuracy: 1.0000"
          ]
        },
        {
          "output_type": "stream",
          "name": "stderr",
          "text": [
            "WARNING:tensorflow:Early stopping conditioned on metric `val_loss` which is not available. Available metrics are: loss,accuracy\n",
            "WARNING:tensorflow:Learning rate reduction is conditioned on metric `val_loss` which is not available. Available metrics are: loss,accuracy,lr\n"
          ]
        },
        {
          "output_type": "stream",
          "name": "stdout",
          "text": [
            "\b\b\b\b\b\b\b\b\b\b\b\b\b\b\b\b\b\b\b\b\b\b\b\b\b\b\b\b\b\b\b\b\b\b\b\b\b\b\b\b\b\b\b\b\b\b\b\b\b\b\b\b\b\b\b\b\b\b\b\b\b\b\b\b\b\b\b\b\b\b\b\b\b\b\b\b\b\b\b\b\b\b\b\b\b\b\b\b\r125/125 [==============================] - 1s 7ms/step - loss: 4.3152e-07 - accuracy: 1.0000 - lr: 3.0000e-05\n",
            "Epoch 197/200\n",
            "120/125 [===========================>..] - ETA: 0s - loss: 7.5571e-07 - accuracy: 1.0000"
          ]
        },
        {
          "output_type": "stream",
          "name": "stderr",
          "text": [
            "WARNING:tensorflow:Early stopping conditioned on metric `val_loss` which is not available. Available metrics are: loss,accuracy\n",
            "WARNING:tensorflow:Learning rate reduction is conditioned on metric `val_loss` which is not available. Available metrics are: loss,accuracy,lr\n"
          ]
        },
        {
          "output_type": "stream",
          "name": "stdout",
          "text": [
            "\b\b\b\b\b\b\b\b\b\b\b\b\b\b\b\b\b\b\b\b\b\b\b\b\b\b\b\b\b\b\b\b\b\b\b\b\b\b\b\b\b\b\b\b\b\b\b\b\b\b\b\b\b\b\b\b\b\b\b\b\b\b\b\b\b\b\b\b\b\b\b\b\b\b\b\b\b\b\b\b\b\b\b\b\b\b\b\b\r125/125 [==============================] - 1s 7ms/step - loss: 7.2997e-07 - accuracy: 1.0000 - lr: 3.0000e-05\n",
            "Epoch 198/200\n",
            "125/125 [==============================] - ETA: 0s - loss: 3.9216e-07 - accuracy: 1.0000"
          ]
        },
        {
          "output_type": "stream",
          "name": "stderr",
          "text": [
            "WARNING:tensorflow:Early stopping conditioned on metric `val_loss` which is not available. Available metrics are: loss,accuracy\n",
            "WARNING:tensorflow:Learning rate reduction is conditioned on metric `val_loss` which is not available. Available metrics are: loss,accuracy,lr\n"
          ]
        },
        {
          "output_type": "stream",
          "name": "stdout",
          "text": [
            "\b\b\b\b\b\b\b\b\b\b\b\b\b\b\b\b\b\b\b\b\b\b\b\b\b\b\b\b\b\b\b\b\b\b\b\b\b\b\b\b\b\b\b\b\b\b\b\b\b\b\b\b\b\b\b\b\b\b\b\b\b\b\b\b\b\b\b\b\b\b\b\b\b\b\b\b\b\b\b\b\b\b\b\b\b\b\b\b\r125/125 [==============================] - 1s 7ms/step - loss: 3.9216e-07 - accuracy: 1.0000 - lr: 3.0000e-05\n",
            "Epoch 199/200\n",
            "123/125 [============================>.] - ETA: 0s - loss: 5.1993e-07 - accuracy: 1.0000"
          ]
        },
        {
          "output_type": "stream",
          "name": "stderr",
          "text": [
            "WARNING:tensorflow:Early stopping conditioned on metric `val_loss` which is not available. Available metrics are: loss,accuracy\n",
            "WARNING:tensorflow:Learning rate reduction is conditioned on metric `val_loss` which is not available. Available metrics are: loss,accuracy,lr\n"
          ]
        },
        {
          "output_type": "stream",
          "name": "stdout",
          "text": [
            "\b\b\b\b\b\b\b\b\b\b\b\b\b\b\b\b\b\b\b\b\b\b\b\b\b\b\b\b\b\b\b\b\b\b\b\b\b\b\b\b\b\b\b\b\b\b\b\b\b\b\b\b\b\b\b\b\b\b\b\b\b\b\b\b\b\b\b\b\b\b\b\b\b\b\b\b\b\b\b\b\b\b\b\b\b\b\b\b\r125/125 [==============================] - 1s 7ms/step - loss: 5.1342e-07 - accuracy: 1.0000 - lr: 3.0000e-05\n",
            "Epoch 200/200\n",
            "125/125 [==============================] - ETA: 0s - loss: 8.5697e-07 - accuracy: 1.0000"
          ]
        },
        {
          "output_type": "stream",
          "name": "stderr",
          "text": [
            "WARNING:tensorflow:Early stopping conditioned on metric `val_loss` which is not available. Available metrics are: loss,accuracy\n",
            "WARNING:tensorflow:Learning rate reduction is conditioned on metric `val_loss` which is not available. Available metrics are: loss,accuracy,lr\n"
          ]
        },
        {
          "output_type": "stream",
          "name": "stdout",
          "text": [
            "\b\b\b\b\b\b\b\b\b\b\b\b\b\b\b\b\b\b\b\b\b\b\b\b\b\b\b\b\b\b\b\b\b\b\b\b\b\b\b\b\b\b\b\b\b\b\b\b\b\b\b\b\b\b\b\b\b\b\b\b\b\b\b\b\b\b\b\b\b\b\b\b\b\b\b\b\b\b\b\b\b\b\b\b\b\b\b\b\r125/125 [==============================] - 1s 7ms/step - loss: 8.5697e-07 - accuracy: 1.0000 - lr: 3.0000e-05\n"
          ]
        }
      ]
    },
    {
      "cell_type": "markdown",
      "source": [
        "# log loss"
      ],
      "metadata": {
        "id": "U3Xg55v7ZbWc"
      }
    },
    {
      "cell_type": "code",
      "source": [
        "CNN1_network_predictions = CNN1_network.predict(padded_clean_text_t_stem)"
      ],
      "metadata": {
        "id": "dbcI7RTeZcn2"
      },
      "execution_count": null,
      "outputs": []
    },
    {
      "cell_type": "code",
      "source": [
        "from sklearn.metrics import log_loss\n",
        "log_loss_test= log_loss(label_twoDimension_t,CNN1_network_predictions)\n",
        "log_loss_test"
      ],
      "metadata": {
        "colab": {
          "base_uri": "https://localhost:8080/"
        },
        "id": "vBA3XmTFZf4y",
        "outputId": "fc2aadd5-9960-4658-aa94-2aff58b26dd9"
      },
      "execution_count": null,
      "outputs": [
        {
          "output_type": "execute_result",
          "data": {
            "text/plain": [
              "2.612916594524118"
            ]
          },
          "metadata": {},
          "execution_count": 64
        }
      ]
    },
    {
      "cell_type": "markdown",
      "source": [
        "# Classification Report\n"
      ],
      "metadata": {
        "id": "gIX9etNsZiSb"
      }
    },
    {
      "cell_type": "code",
      "source": [
        "predictions = np.zeros_like(CNN1_network_predictions)\n",
        "predictions[np.arange(len(CNN1_network_predictions)), CNN1_network_predictions.argmax(1)] = 1\n",
        "\n"
      ],
      "metadata": {
        "id": "EejyfrakZjSe"
      },
      "execution_count": null,
      "outputs": []
    },
    {
      "cell_type": "code",
      "source": [
        "\n",
        "\n",
        "predictionInteger=(np.argmax(predictions, axis=1))\n",
        "predictionInteger\n",
        "\n"
      ],
      "metadata": {
        "colab": {
          "base_uri": "https://localhost:8080/"
        },
        "id": "gegx60d8ZmD0",
        "outputId": "bd0b9107-ff70-4e8f-bb8a-0ef9b3176b5d"
      },
      "execution_count": null,
      "outputs": [
        {
          "output_type": "execute_result",
          "data": {
            "text/plain": [
              "array([1, 0, 1, 1, 1, 0, 1, 0, 0, 0, 0, 0, 1, 1, 1, 0, 0, 1, 1, 1, 1, 0,\n",
              "       0, 0, 0, 0, 1, 0, 1, 1, 1, 0, 1, 0, 1, 0, 1, 0, 0, 1, 1, 1, 1, 0,\n",
              "       1, 0, 0, 0, 1, 1, 1, 0, 0, 1, 1, 0, 0, 1, 0, 0, 0, 0, 1, 1, 1, 1,\n",
              "       1, 1, 0, 1, 0, 0, 1, 1, 0, 0, 0, 1, 0, 0, 1, 0, 0, 0, 1, 1, 0, 1,\n",
              "       1, 0, 1, 1, 1, 1, 0, 0, 0, 1, 1, 0, 0, 0, 1, 0, 1, 0, 1, 0, 0, 1,\n",
              "       0, 0, 1, 0, 0, 1, 1, 1, 1, 0, 1, 0, 1, 1, 1, 1, 1, 1, 1, 1, 1, 0,\n",
              "       0, 1, 0, 0, 0, 1, 0, 1, 1, 1, 1, 0, 1, 0, 1, 0, 0, 0, 1, 0, 0, 1,\n",
              "       1, 0, 0, 0, 1, 1, 0, 1, 1, 0, 0, 1, 1, 0, 1, 1, 1, 1, 1, 0, 1, 1,\n",
              "       0, 0, 1, 1, 0, 0, 1, 1, 1, 0, 0, 1, 1, 1, 0, 0, 1, 1, 1, 1, 1, 0,\n",
              "       1, 1, 0, 1, 0, 0, 0, 0, 0, 1, 1, 1, 0, 1, 0, 1, 0, 1, 0, 1, 0, 0,\n",
              "       1, 1, 1, 1, 1, 1, 1, 1, 1, 1, 0, 0, 1, 1, 1, 1, 1, 1, 1, 0, 0, 1,\n",
              "       1, 1, 1, 0, 1, 0, 1, 0, 0, 1, 1, 0, 1, 1, 0, 1, 0, 1, 0, 0, 0, 1,\n",
              "       0, 1, 1, 1, 0, 1, 1, 0, 0, 0, 1, 1, 1, 0, 1, 1, 1, 0, 1, 1, 1, 1,\n",
              "       1, 0, 1, 0, 1, 0, 1, 0, 1, 0, 0, 0, 1, 0, 0, 1, 1, 1, 0, 0, 1, 0,\n",
              "       0, 1, 1, 0, 1, 1, 0, 1, 1, 1, 1, 0, 0, 0, 0, 1, 1, 0, 0, 0, 1, 1,\n",
              "       0, 0, 1, 1, 0, 1, 1, 1, 1, 1, 1, 1, 1, 0, 0, 0, 1, 1, 1, 1, 1, 0,\n",
              "       1, 0, 1, 0, 1, 1, 1, 1, 0, 0, 0, 1, 1, 1, 0, 0, 0, 0, 1, 1, 1, 1,\n",
              "       0, 1, 1, 1, 1, 0, 0, 0, 1, 0, 1, 0, 1, 1, 0, 0, 0, 1, 0, 0, 0, 1,\n",
              "       1, 0, 0, 0, 0, 0, 1, 1, 1, 1, 1, 1, 0, 1, 1, 1, 1, 0, 1, 0, 0, 0,\n",
              "       1, 1, 0, 1, 1, 0, 0, 1, 1, 1, 0, 0, 1, 1, 1, 1, 0, 1, 1, 1, 1, 0,\n",
              "       0, 0, 1, 0, 0, 1, 1, 1, 1, 1, 1, 0, 0, 1, 1, 0, 1, 1, 1, 1, 1, 1,\n",
              "       1, 1, 0, 1, 0, 0, 0, 1, 1, 1, 1, 0, 0, 0, 1, 1, 1, 1, 0, 0, 1, 1,\n",
              "       0, 1, 1, 1, 1, 1, 1, 1, 0, 1, 1, 1, 1, 0, 1, 1, 0, 1, 1, 1, 1, 1,\n",
              "       1, 1, 1, 0, 1, 0, 0, 1, 0, 1, 1, 1, 1, 0, 1, 1, 0, 1, 1, 1])"
            ]
          },
          "metadata": {},
          "execution_count": 66
        }
      ]
    },
    {
      "cell_type": "code",
      "source": [
        "\n",
        "\n",
        "pred_label = np.array(predictionInteger)\n",
        "df = pd.DataFrame(data=pred_label , columns=[\"task1\"])\n",
        "print(df)\n",
        "\n"
      ],
      "metadata": {
        "colab": {
          "base_uri": "https://localhost:8080/"
        },
        "id": "oceUPc_tZniC",
        "outputId": "1358088f-a1f9-4eef-c2a5-1657cda4b023"
      },
      "execution_count": null,
      "outputs": [
        {
          "output_type": "stream",
          "name": "stdout",
          "text": [
            "     task1\n",
            "0        1\n",
            "1        0\n",
            "2        1\n",
            "3        1\n",
            "4        1\n",
            "..     ...\n",
            "521      1\n",
            "522      0\n",
            "523      1\n",
            "524      1\n",
            "525      1\n",
            "\n",
            "[526 rows x 1 columns]\n"
          ]
        }
      ]
    },
    {
      "cell_type": "code",
      "source": [
        "df.to_csv(\"NSIT_Train_GERMEVAL2019_Test_HASOC2020_Task_A_submission_DE_A.csv\", index=False)"
      ],
      "metadata": {
        "id": "Ey4jhyzcZpFS"
      },
      "execution_count": null,
      "outputs": []
    },
    {
      "cell_type": "code",
      "source": [
        "\n",
        "\n",
        "from sklearn.metrics import classification_report\n",
        "print(classification_report(label_twoDimension_t,predictions))\n",
        "\n"
      ],
      "metadata": {
        "colab": {
          "base_uri": "https://localhost:8080/"
        },
        "id": "XLy5CXJXZtSj",
        "outputId": "b207b477-5624-4988-f247-6dde4bfaefd1"
      },
      "execution_count": null,
      "outputs": [
        {
          "output_type": "stream",
          "name": "stdout",
          "text": [
            "              precision    recall  f1-score   support\n",
            "\n",
            "           0       0.44      0.59      0.50       161\n",
            "           1       0.79      0.67      0.72       365\n",
            "\n",
            "   micro avg       0.64      0.64      0.64       526\n",
            "   macro avg       0.61      0.63      0.61       526\n",
            "weighted avg       0.68      0.64      0.65       526\n",
            " samples avg       0.64      0.64      0.64       526\n",
            "\n"
          ]
        }
      ]
    },
    {
      "cell_type": "markdown",
      "source": [
        "# Epoch v/s Loss Plot\n"
      ],
      "metadata": {
        "id": "vtezBAMJZvBv"
      }
    },
    {
      "cell_type": "code",
      "source": [
        "\n",
        "\n",
        "from matplotlib import pyplot as plt\n",
        "plt.plot(hist.history[\"loss\"],color = 'red', label = 'train_loss')\n",
        "#plt.plot(hist.history[\"val_loss\"],color = 'blue', label = 'val_loss')\n",
        "plt.title('Loss Visualisation')\n",
        "plt.xlabel('Epochs')\n",
        "plt.ylabel('Loss')\n",
        "plt.legend()\n",
        "plt.savefig('CNN1_Train_GERMEVAL2019_Test_HASOC2020_Task_A_Ger_lossPlot.pdf',dpi=1000)\n",
        "\n",
        "from google.colab import files\n",
        "files.download('CNN1_Train_GERMEVAL2019_Test_HASOC2020_Task_A_Ger_lossPlot.pdf') \n",
        "\n"
      ],
      "metadata": {
        "colab": {
          "base_uri": "https://localhost:8080/"
        },
        "id": "3Q4VbA71ZwwS",
        "outputId": "58ef0733-9ae3-42ae-8940-17aab72352f2"
      },
      "execution_count": null,
      "outputs": [
        {
          "output_type": "display_data",
          "data": {
            "text/plain": [
              "<IPython.core.display.Javascript object>"
            ],
            "application/javascript": [
              "\n",
              "    async function download(id, filename, size) {\n",
              "      if (!google.colab.kernel.accessAllowed) {\n",
              "        return;\n",
              "      }\n",
              "      const div = document.createElement('div');\n",
              "      const label = document.createElement('label');\n",
              "      label.textContent = `Downloading \"${filename}\": `;\n",
              "      div.appendChild(label);\n",
              "      const progress = document.createElement('progress');\n",
              "      progress.max = size;\n",
              "      div.appendChild(progress);\n",
              "      document.body.appendChild(div);\n",
              "\n",
              "      const buffers = [];\n",
              "      let downloaded = 0;\n",
              "\n",
              "      const channel = await google.colab.kernel.comms.open(id);\n",
              "      // Send a message to notify the kernel that we're ready.\n",
              "      channel.send({})\n",
              "\n",
              "      for await (const message of channel.messages) {\n",
              "        // Send a message to notify the kernel that we're ready.\n",
              "        channel.send({})\n",
              "        if (message.buffers) {\n",
              "          for (const buffer of message.buffers) {\n",
              "            buffers.push(buffer);\n",
              "            downloaded += buffer.byteLength;\n",
              "            progress.value = downloaded;\n",
              "          }\n",
              "        }\n",
              "      }\n",
              "      const blob = new Blob(buffers, {type: 'application/binary'});\n",
              "      const a = document.createElement('a');\n",
              "      a.href = window.URL.createObjectURL(blob);\n",
              "      a.download = filename;\n",
              "      div.appendChild(a);\n",
              "      a.click();\n",
              "      div.remove();\n",
              "    }\n",
              "  "
            ]
          },
          "metadata": {}
        },
        {
          "output_type": "display_data",
          "data": {
            "text/plain": [
              "<IPython.core.display.Javascript object>"
            ],
            "application/javascript": [
              "download(\"download_4f3efb10-76c3-4256-ba84-6aa2c088a03d\", \"CNN1_Train_GERMEVAL2019_Test_HASOC2020_Task_A_Ger_lossPlot.pdf\", 11327)"
            ]
          },
          "metadata": {}
        },
        {
          "output_type": "display_data",
          "data": {
            "text/plain": [
              "<Figure size 432x288 with 1 Axes>"
            ],
            "image/png": "[encoded data removed]"
          },
          "metadata": {
            "needs_background": "light"
          }
        }
      ]
    },
    {
      "cell_type": "markdown",
      "source": [
        "# Epoch v/s Accuracy Plot\n"
      ],
      "metadata": {
        "id": "NEu9wKuUZ0z3"
      }
    },
    {
      "cell_type": "code",
      "source": [
        "\n",
        "\n",
        "plt.plot(hist.history[\"accuracy\"],color = 'red', label = 'train_accuracy')\n",
        "#plt.plot(hist.history[\"val_accuracy\"],color = 'blue', label = 'val_accuracy')\n",
        "plt.title('Accuracy Visualisation')\n",
        "plt.xlabel('Epochs')\n",
        "plt.ylabel('Accuracy')\n",
        "plt.legend()\n",
        "plt.savefig('CNN1_Train_GERMEVAL2019_Test_HASOC2020_Task_A_Ger_accuracyPlot.pdf',dpi=1000)\n",
        "files.download('CNN1_Train_GERMEVAL2019_Test_HASOC2020_Task_A_Ger_accuracyPlot.pdf') \n",
        "\n"
      ],
      "metadata": {
        "colab": {
          "base_uri": "https://localhost:8080/"
        },
        "id": "6Ad_2uQZZyuB",
        "outputId": "2efea810-3d7a-4269-bcc5-a920b80f6075"
      },
      "execution_count": null,
      "outputs": [
        {
          "output_type": "display_data",
          "data": {
            "text/plain": [
              "<IPython.core.display.Javascript object>"
            ],
            "application/javascript": [
              "\n",
              "    async function download(id, filename, size) {\n",
              "      if (!google.colab.kernel.accessAllowed) {\n",
              "        return;\n",
              "      }\n",
              "      const div = document.createElement('div');\n",
              "      const label = document.createElement('label');\n",
              "      label.textContent = `Downloading \"${filename}\": `;\n",
              "      div.appendChild(label);\n",
              "      const progress = document.createElement('progress');\n",
              "      progress.max = size;\n",
              "      div.appendChild(progress);\n",
              "      document.body.appendChild(div);\n",
              "\n",
              "      const buffers = [];\n",
              "      let downloaded = 0;\n",
              "\n",
              "      const channel = await google.colab.kernel.comms.open(id);\n",
              "      // Send a message to notify the kernel that we're ready.\n",
              "      channel.send({})\n",
              "\n",
              "      for await (const message of channel.messages) {\n",
              "        // Send a message to notify the kernel that we're ready.\n",
              "        channel.send({})\n",
              "        if (message.buffers) {\n",
              "          for (const buffer of message.buffers) {\n",
              "            buffers.push(buffer);\n",
              "            downloaded += buffer.byteLength;\n",
              "            progress.value = downloaded;\n",
              "          }\n",
              "        }\n",
              "      }\n",
              "      const blob = new Blob(buffers, {type: 'application/binary'});\n",
              "      const a = document.createElement('a');\n",
              "      a.href = window.URL.createObjectURL(blob);\n",
              "      a.download = filename;\n",
              "      div.appendChild(a);\n",
              "      a.click();\n",
              "      div.remove();\n",
              "    }\n",
              "  "
            ]
          },
          "metadata": {}
        },
        {
          "output_type": "display_data",
          "data": {
            "text/plain": [
              "<IPython.core.display.Javascript object>"
            ],
            "application/javascript": [
              "download(\"download_75254c81-0954-4275-8e5c-e1988450155a\", \"CNN1_Train_GERMEVAL2019_Test_HASOC2020_Task_A_Ger_accuracyPlot.pdf\", 11412)"
            ]
          },
          "metadata": {}
        },
        {
          "output_type": "display_data",
          "data": {
            "text/plain": [
              "<Figure size 432x288 with 1 Axes>"
            ],
            "image/png": "[encoded data removed]"
          },
          "metadata": {
            "needs_background": "light"
          }
        }
      ]
    },
    {
      "cell_type": "markdown",
      "source": [
        "# Area under Curve-ROC\n"
      ],
      "metadata": {
        "id": "ce9BJNbLZ65e"
      }
    },
    {
      "cell_type": "code",
      "source": [
        "\n",
        "\n",
        "pred_train = CNN1_network.predict(padded_clean_text_stem)\n",
        "pred_test = CNN1_network.predict(padded_clean_text_t_stem)\n",
        "\n"
      ],
      "metadata": {
        "id": "swegVICbZ5_M"
      },
      "execution_count": null,
      "outputs": []
    },
    {
      "cell_type": "code",
      "source": [
        "\n",
        "\n",
        "import numpy as np\n",
        "import matplotlib.pyplot as plt\n",
        "from itertools import cycle\n",
        "\n",
        "from sklearn import svm, datasets\n",
        "from sklearn.metrics import roc_curve, auc\n",
        "from sklearn.model_selection import train_test_split\n",
        "from sklearn.preprocessing import label_binarize\n",
        "from sklearn.multiclass import OneVsRestClassifier\n",
        "from scipy import interp\n",
        "\n",
        "def plot_AUC_ROC(y_true, y_pred):\n",
        "    n_classes = 2 #change this value according to class value\n",
        "\n",
        "    # Compute ROC curve and ROC area for each class\n",
        "    fpr = dict()\n",
        "    tpr = dict()\n",
        "    roc_auc = dict()\n",
        "    for i in range(n_classes):\n",
        "        fpr[i], tpr[i], _ = roc_curve(y_true[:, i], y_pred[:, i])\n",
        "        roc_auc[i] = auc(fpr[i], tpr[i])\n",
        "\n",
        "    # Compute micro-average ROC curve and ROC area\n",
        "    fpr[\"micro\"], tpr[\"micro\"], _ = roc_curve(y_true.ravel(), y_pred.ravel())\n",
        "    roc_auc[\"micro\"] = auc(fpr[\"micro\"], tpr[\"micro\"])\n",
        "############################################################################################\n",
        "    lw = 2\n",
        "    # Compute macro-average ROC curve and ROC area\n",
        "\n",
        "    # First aggregate all false positive rates\n",
        "    all_fpr = np.unique(np.concatenate([fpr[i] for i in range(n_classes)]))\n",
        "\n",
        "    # Then interpolate all ROC curves at this points\n",
        "    mean_tpr = np.zeros_like(all_fpr)\n",
        "    for i in range(n_classes):\n",
        "        mean_tpr += interp(all_fpr, fpr[i], tpr[i])\n",
        "\n",
        "    # Finally average it and compute AUC\n",
        "    mean_tpr /= n_classes\n",
        "\n",
        "    fpr[\"macro\"] = all_fpr\n",
        "    tpr[\"macro\"] = mean_tpr\n",
        "    roc_auc[\"macro\"] = auc(fpr[\"macro\"], tpr[\"macro\"])\n",
        "\n",
        "    # Plot all ROC curves\n",
        "    plt.figure()\n",
        "    \n",
        "    plt.plot(fpr[\"micro\"], tpr[\"micro\"],\n",
        "            label='micro-average ROC curve (area = {0:0.2f})'\n",
        "               ''.format(roc_auc[\"micro\"]),\n",
        "            color='deeppink', linestyle=':', linewidth=4)\n",
        "\n",
        "    plt.plot(fpr[\"macro\"], tpr[\"macro\"],\n",
        "            label='macro-average ROC curve (area = {0:0.2f})'\n",
        "               ''.format(roc_auc[\"macro\"]),\n",
        "            color='navy', linestyle=':', linewidth=4)\n",
        "    \n",
        "    colors = cycle(['aqua', 'darkorange'])\n",
        "    #classes_list1 = [\"DE\",\"NE\",\"DK\"]\n",
        "    classes_list1 = [\"Non-duplicate\",\"Duplicate\"]\n",
        "    for i, color,c in zip(range(n_classes), colors,classes_list1):\n",
        "        plt.plot(fpr[i], tpr[i], color=color, lw=lw,\n",
        "                label='{0} (AUC = {1:0.2f})'\n",
        "                ''.format(c, roc_auc[i]))\n",
        "\n",
        "    plt.plot([0, 1], [0, 1], 'k--', lw=lw)\n",
        "    plt.xlim([0.0, 1.0])\n",
        "    plt.ylim([0.0, 1.05])\n",
        "    plt.xlabel('False Positive Rate')\n",
        "    plt.ylabel('True Positive Rate')\n",
        "    plt.title('Receiver operating characteristic curve')\n",
        "    plt.legend(loc=\"lower right\")\n",
        "    #plt.show()\n",
        "    plt.savefig('CNN1_Train_GERMEVAL2019_Test_HASOC2020_Task_A_Ger_Area_RocPlot.pdf',dpi=1000)\n",
        "    files.download('CNN1_Train_GERMEVAL2019_Test_HASOC2020_Task_A_Ger_Area_RocPlot.pdf')\n",
        "\n",
        "  \n",
        "\n"
      ],
      "metadata": {
        "id": "0IMSFAXwZ_Va"
      },
      "execution_count": null,
      "outputs": []
    },
    {
      "cell_type": "code",
      "source": [
        "plot_AUC_ROC(label_twoDimension_t,pred_test)"
      ],
      "metadata": {
        "colab": {
          "base_uri": "https://localhost:8080/"
        },
        "id": "f4qx5tmXaB0L",
        "outputId": "f0128088-951b-4907-daf8-d92973bf8795"
      },
      "execution_count": null,
      "outputs": [
        {
          "output_type": "stream",
          "name": "stderr",
          "text": [
            "/usr/local/lib/python3.7/dist-packages/ipykernel_launcher.py:36: DeprecationWarning: scipy.interp is deprecated and will be removed in SciPy 2.0.0, use numpy.interp instead\n"
          ]
        },
        {
          "output_type": "display_data",
          "data": {
            "text/plain": [
              "<IPython.core.display.Javascript object>"
            ],
            "application/javascript": [
              "\n",
              "    async function download(id, filename, size) {\n",
              "      if (!google.colab.kernel.accessAllowed) {\n",
              "        return;\n",
              "      }\n",
              "      const div = document.createElement('div');\n",
              "      const label = document.createElement('label');\n",
              "      label.textContent = `Downloading \"${filename}\": `;\n",
              "      div.appendChild(label);\n",
              "      const progress = document.createElement('progress');\n",
              "      progress.max = size;\n",
              "      div.appendChild(progress);\n",
              "      document.body.appendChild(div);\n",
              "\n",
              "      const buffers = [];\n",
              "      let downloaded = 0;\n",
              "\n",
              "      const channel = await google.colab.kernel.comms.open(id);\n",
              "      // Send a message to notify the kernel that we're ready.\n",
              "      channel.send({})\n",
              "\n",
              "      for await (const message of channel.messages) {\n",
              "        // Send a message to notify the kernel that we're ready.\n",
              "        channel.send({})\n",
              "        if (message.buffers) {\n",
              "          for (const buffer of message.buffers) {\n",
              "            buffers.push(buffer);\n",
              "            downloaded += buffer.byteLength;\n",
              "            progress.value = downloaded;\n",
              "          }\n",
              "        }\n",
              "      }\n",
              "      const blob = new Blob(buffers, {type: 'application/binary'});\n",
              "      const a = document.createElement('a');\n",
              "      a.href = window.URL.createObjectURL(blob);\n",
              "      a.download = filename;\n",
              "      div.appendChild(a);\n",
              "      a.click();\n",
              "      div.remove();\n",
              "    }\n",
              "  "
            ]
          },
          "metadata": {}
        },
        {
          "output_type": "display_data",
          "data": {
            "text/plain": [
              "<IPython.core.display.Javascript object>"
            ],
            "application/javascript": [
              "download(\"download_c031e617-69f8-444e-a21e-9c535959db36\", \"CNN1_Train_GERMEVAL2019_Test_HASOC2020_Task_A_Ger_Area_RocPlot.pdf\", 21508)"
            ]
          },
          "metadata": {}
        },
        {
          "output_type": "display_data",
          "data": {
            "text/plain": [
              "<Figure size 432x288 with 1 Axes>"
            ],
            "image/png": "[encoded data removed]"
          },
          "metadata": {
            "needs_background": "light"
          }
        }
      ]
    }
  ]
}
