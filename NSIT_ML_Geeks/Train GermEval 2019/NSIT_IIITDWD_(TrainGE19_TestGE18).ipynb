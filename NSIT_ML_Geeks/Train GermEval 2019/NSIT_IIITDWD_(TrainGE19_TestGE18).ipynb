{
  "nbformat": 4,
  "nbformat_minor": 0,
  "metadata": {
    "colab": {
      "provenance": [],
      "include_colab_link": true
    },
    "kernelspec": {
      "name": "python3",
      "display_name": "Python 3"
    },
    "language_info": {
      "name": "python"
    },
    "accelerator": "GPU"
  },
  "cells": [
    {
      "cell_type": "markdown",
      "metadata": {
        "id": "view-in-github",
        "colab_type": "text"
      },
      "source": [
        "<a href=\"https://colab.research.google.com/github/DB9653/Bachelorarbeit/blob/main/NSIT_IIITDWD_(TrainGE19_TestGE18).ipynb\" target=\"_parent\"><img src=\"https://colab.research.google.com/assets/colab-badge.svg\" alt=\"Open In Colab\"/></a>"
      ]
    },
    {
      "cell_type": "markdown",
      "source": [
        "https://github.com/roushan-raj/HASOC-2020/blob/master/Models/German%20Models/German%20Sub-task%20A.ipynb\n"
      ],
      "metadata": {
        "id": "8pdYFRmoIhyM"
      }
    },
    {
      "cell_type": "code",
      "source": [
        "import tensorflow as tf\n",
        "tf.test.gpu_device_name()"
      ],
      "metadata": {
        "colab": {
          "base_uri": "https://localhost:8080/",
          "height": 35
        },
        "id": "hof4s6snVN0W",
        "outputId": "d3ca1980-553d-4ce2-b905-83031f9dbd98"
      },
      "execution_count": null,
      "outputs": [
        {
          "output_type": "execute_result",
          "data": {
            "text/plain": [
              "'/device:GPU:0'"
            ],
            "application/vnd.google.colaboratory.intrinsic+json": {
              "type": "string"
            }
          },
          "metadata": {},
          "execution_count": 1
        }
      ]
    },
    {
      "cell_type": "markdown",
      "source": [
        "\n",
        "# Dataset Reading\n"
      ],
      "metadata": {
        "id": "CU0P3rpqJMHH"
      }
    },
    {
      "cell_type": "code",
      "execution_count": null,
      "metadata": {
        "colab": {
          "base_uri": "https://localhost:8080/"
        },
        "id": "UtPbRsnBIVpd",
        "outputId": "6940769b-410a-4289-89ef-666131d5bcd5"
      },
      "outputs": [
        {
          "output_type": "execute_result",
          "data": {
            "text/plain": [
              "                                                                                                                                                    text  \\\n",
              "0                                                      @jouwatch Hat die Polizei keine Kanone mehr ? 20 mal in die Munition laufen lassen und Ruhe ist .   \n",
              "1  @de_sputnik @Saudi Arabien habt ihr mal wieder einen Orgasmus gebaucht oder weswegen habt ihr die Frau gekillt ? Erzählt mit aber nicht so einen v...   \n",
              "2    Glaube ich nicht , die Bundesregierung so wie die Justiz ist so was von Korrupt und arbeiten so fleißig zusammen , das dies nicht erscheinen wird .   \n",
              "3  \" Doch schockierend viele Jugendliche wissen kaum mehr etwas über den Holocaust. \" Das ist nicht schockierend das ist gut so . Wie sollen junge Me...   \n",
              "4                             Sein Charakter war ihm wichtiger anstatt als billige Nute für Korrupte Regierungen zu arbeiten .Er hat das Leben begriffen   \n",
              "5  @de_sputnik @JPN_PMO \" Obwohl das US-Militär gemäß dem Sicherheitsvertrag zwischen den USA und Japan das Recht hat Land und Kapazitäten auf dem Te...   \n",
              "6  Warum schalten sich die verdammten Schmierenkomödianten nicht dann ein wenn das schiff 40 km vor der Libyschen Küste ist anstatt sie weit auf,s Me...   \n",
              "7  Ob Jesus für das oder jenes Starb ist doch wohl Scheißegal , wir leben im hier und jetzt und sollten versuchen ein vernümftiges Leben auf zu bauen...   \n",
              "8  @de_sputnik Ob Jesus für das oder jenes Starb ist doch wohl Scheißegal , wir leben im hier und jetzt und sollten versuchen ein vernümftiges Leben ...   \n",
              "9                Das ist allerdings wahr , jeder Amerikaner weiß das der Tot Amerika aufgebaut hat und immer weiter versucht auf diese Basis auszubauen.   \n",
              "\n",
              "     task1      task2  \n",
              "0  OFFENSE      ABUSE  \n",
              "1  OFFENSE      ABUSE  \n",
              "2  OFFENSE      ABUSE  \n",
              "3  OFFENSE  PROFANITY  \n",
              "4  OFFENSE  PROFANITY  \n",
              "5  OFFENSE      ABUSE  \n",
              "6  OFFENSE  PROFANITY  \n",
              "7  OFFENSE  PROFANITY  \n",
              "8  OFFENSE  PROFANITY  \n",
              "9  OFFENSE      ABUSE  "
            ],
            "text/html": [
              "\n",
              "  <div id=\"df-27e14a35-99b3-4670-ada6-789fe4796759\">\n",
              "    <div class=\"colab-df-container\">\n",
              "      <div>\n",
              "<style scoped>\n",
              "    .dataframe tbody tr th:only-of-type {\n",
              "        vertical-align: middle;\n",
              "    }\n",
              "\n",
              "    .dataframe tbody tr th {\n",
              "        vertical-align: top;\n",
              "    }\n",
              "\n",
              "    .dataframe thead th {\n",
              "        text-align: right;\n",
              "    }\n",
              "</style>\n",
              "<table border=\"1\" class=\"dataframe\">\n",
              "  <thead>\n",
              "    <tr style=\"text-align: right;\">\n",
              "      <th></th>\n",
              "      <th>text</th>\n",
              "      <th>task1</th>\n",
              "      <th>task2</th>\n",
              "    </tr>\n",
              "  </thead>\n",
              "  <tbody>\n",
              "    <tr>\n",
              "      <th>0</th>\n",
              "      <td>@jouwatch Hat die Polizei keine Kanone mehr ? 20 mal in die Munition laufen lassen und Ruhe ist .</td>\n",
              "      <td>OFFENSE</td>\n",
              "      <td>ABUSE</td>\n",
              "    </tr>\n",
              "    <tr>\n",
              "      <th>1</th>\n",
              "      <td>@de_sputnik @Saudi Arabien habt ihr mal wieder einen Orgasmus gebaucht oder weswegen habt ihr die Frau gekillt ? Erzählt mit aber nicht so einen v...</td>\n",
              "      <td>OFFENSE</td>\n",
              "      <td>ABUSE</td>\n",
              "    </tr>\n",
              "    <tr>\n",
              "      <th>2</th>\n",
              "      <td>Glaube ich nicht , die Bundesregierung so wie die Justiz ist so was von Korrupt und arbeiten so fleißig zusammen , das dies nicht erscheinen wird .</td>\n",
              "      <td>OFFENSE</td>\n",
              "      <td>ABUSE</td>\n",
              "    </tr>\n",
              "    <tr>\n",
              "      <th>3</th>\n",
              "      <td>\" Doch schockierend viele Jugendliche wissen kaum mehr etwas über den Holocaust. \" Das ist nicht schockierend das ist gut so . Wie sollen junge Me...</td>\n",
              "      <td>OFFENSE</td>\n",
              "      <td>PROFANITY</td>\n",
              "    </tr>\n",
              "    <tr>\n",
              "      <th>4</th>\n",
              "      <td>Sein Charakter war ihm wichtiger anstatt als billige Nute für Korrupte Regierungen zu arbeiten .Er hat das Leben begriffen</td>\n",
              "      <td>OFFENSE</td>\n",
              "      <td>PROFANITY</td>\n",
              "    </tr>\n",
              "    <tr>\n",
              "      <th>5</th>\n",
              "      <td>@de_sputnik @JPN_PMO \" Obwohl das US-Militär gemäß dem Sicherheitsvertrag zwischen den USA und Japan das Recht hat Land und Kapazitäten auf dem Te...</td>\n",
              "      <td>OFFENSE</td>\n",
              "      <td>ABUSE</td>\n",
              "    </tr>\n",
              "    <tr>\n",
              "      <th>6</th>\n",
              "      <td>Warum schalten sich die verdammten Schmierenkomödianten nicht dann ein wenn das schiff 40 km vor der Libyschen Küste ist anstatt sie weit auf,s Me...</td>\n",
              "      <td>OFFENSE</td>\n",
              "      <td>PROFANITY</td>\n",
              "    </tr>\n",
              "    <tr>\n",
              "      <th>7</th>\n",
              "      <td>Ob Jesus für das oder jenes Starb ist doch wohl Scheißegal , wir leben im hier und jetzt und sollten versuchen ein vernümftiges Leben auf zu bauen...</td>\n",
              "      <td>OFFENSE</td>\n",
              "      <td>PROFANITY</td>\n",
              "    </tr>\n",
              "    <tr>\n",
              "      <th>8</th>\n",
              "      <td>@de_sputnik Ob Jesus für das oder jenes Starb ist doch wohl Scheißegal , wir leben im hier und jetzt und sollten versuchen ein vernümftiges Leben ...</td>\n",
              "      <td>OFFENSE</td>\n",
              "      <td>PROFANITY</td>\n",
              "    </tr>\n",
              "    <tr>\n",
              "      <th>9</th>\n",
              "      <td>Das ist allerdings wahr , jeder Amerikaner weiß das der Tot Amerika aufgebaut hat und immer weiter versucht auf diese Basis auszubauen.</td>\n",
              "      <td>OFFENSE</td>\n",
              "      <td>ABUSE</td>\n",
              "    </tr>\n",
              "  </tbody>\n",
              "</table>\n",
              "</div>\n",
              "      <button class=\"colab-df-convert\" onclick=\"convertToInteractive('df-27e14a35-99b3-4670-ada6-789fe4796759')\"\n",
              "              title=\"Convert this dataframe to an interactive table.\"\n",
              "              style=\"display:none;\">\n",
              "        \n",
              "  <svg xmlns=\"http://www.w3.org/2000/svg\" height=\"24px\"viewBox=\"0 0 24 24\"\n",
              "       width=\"24px\">\n",
              "    <path d=\"M0 0h24v24H0V0z\" fill=\"none\"/>\n",
              "    <path d=\"M18.56 5.44l.94 2.06.94-2.06 2.06-.94-2.06-.94-.94-2.06-.94 2.06-2.06.94zm-11 1L8.5 8.5l.94-2.06 2.06-.94-2.06-.94L8.5 2.5l-.94 2.06-2.06.94zm10 10l.94 2.06.94-2.06 2.06-.94-2.06-.94-.94-2.06-.94 2.06-2.06.94z\"/><path d=\"M17.41 7.96l-1.37-1.37c-.4-.4-.92-.59-1.43-.59-.52 0-1.04.2-1.43.59L10.3 9.45l-7.72 7.72c-.78.78-.78 2.05 0 2.83L4 21.41c.39.39.9.59 1.41.59.51 0 1.02-.2 1.41-.59l7.78-7.78 2.81-2.81c.8-.78.8-2.07 0-2.86zM5.41 20L4 18.59l7.72-7.72 1.47 1.35L5.41 20z\"/>\n",
              "  </svg>\n",
              "      </button>\n",
              "      \n",
              "  <style>\n",
              "    .colab-df-container {\n",
              "      display:flex;\n",
              "      flex-wrap:wrap;\n",
              "      gap: 12px;\n",
              "    }\n",
              "\n",
              "    .colab-df-convert {\n",
              "      background-color: #E8F0FE;\n",
              "      border: none;\n",
              "      border-radius: 50%;\n",
              "      cursor: pointer;\n",
              "      display: none;\n",
              "      fill: #1967D2;\n",
              "      height: 32px;\n",
              "      padding: 0 0 0 0;\n",
              "      width: 32px;\n",
              "    }\n",
              "\n",
              "    .colab-df-convert:hover {\n",
              "      background-color: #E2EBFA;\n",
              "      box-shadow: 0px 1px 2px rgba(60, 64, 67, 0.3), 0px 1px 3px 1px rgba(60, 64, 67, 0.15);\n",
              "      fill: #174EA6;\n",
              "    }\n",
              "\n",
              "    [theme=dark] .colab-df-convert {\n",
              "      background-color: #3B4455;\n",
              "      fill: #D2E3FC;\n",
              "    }\n",
              "\n",
              "    [theme=dark] .colab-df-convert:hover {\n",
              "      background-color: #434B5C;\n",
              "      box-shadow: 0px 1px 3px 1px rgba(0, 0, 0, 0.15);\n",
              "      filter: drop-shadow(0px 1px 2px rgba(0, 0, 0, 0.3));\n",
              "      fill: #FFFFFF;\n",
              "    }\n",
              "  </style>\n",
              "\n",
              "      <script>\n",
              "        const buttonEl =\n",
              "          document.querySelector('#df-27e14a35-99b3-4670-ada6-789fe4796759 button.colab-df-convert');\n",
              "        buttonEl.style.display =\n",
              "          google.colab.kernel.accessAllowed ? 'block' : 'none';\n",
              "\n",
              "        async function convertToInteractive(key) {\n",
              "          const element = document.querySelector('#df-27e14a35-99b3-4670-ada6-789fe4796759');\n",
              "          const dataTable =\n",
              "            await google.colab.kernel.invokeFunction('convertToInteractive',\n",
              "                                                     [key], {});\n",
              "          if (!dataTable) return;\n",
              "\n",
              "          const docLinkHtml = 'Like what you see? Visit the ' +\n",
              "            '<a target=\"_blank\" href=https://colab.research.google.com/notebooks/data_table.ipynb>data table notebook</a>'\n",
              "            + ' to learn more about interactive tables.';\n",
              "          element.innerHTML = '';\n",
              "          dataTable['output_type'] = 'display_data';\n",
              "          await google.colab.output.renderOutput(dataTable, element);\n",
              "          const docLink = document.createElement('div');\n",
              "          docLink.innerHTML = docLinkHtml;\n",
              "          element.appendChild(docLink);\n",
              "        }\n",
              "      </script>\n",
              "    </div>\n",
              "  </div>\n",
              "  "
            ]
          },
          "metadata": {},
          "execution_count": 2
        }
      ],
      "source": [
        "import csv\n",
        "import pandas as pd \n",
        "#data = pd.read_excel('/content/hasoc_2020_de_train_new_a.xlsx', converters={'tweet_id':int})\n",
        "data = pd.read_csv(\"/content/germeval2019.training_subtask1_2_korrigiert.txt\",sep=\"\\t\", encoding = \"UTF-8\", quoting=csv.QUOTE_NONE, names=(\"text\", \"task1\", \"task2\"))\n",
        "pd.set_option('display.max_colwidth',150)\n",
        "data.head(10)"
      ]
    },
    {
      "cell_type": "code",
      "source": [
        "data.shape"
      ],
      "metadata": {
        "colab": {
          "base_uri": "https://localhost:8080/"
        },
        "id": "UaxJGj2BJA-_",
        "outputId": "9d41b700-2228-4f95-f9bd-3c1fcc535287"
      },
      "execution_count": null,
      "outputs": [
        {
          "output_type": "execute_result",
          "data": {
            "text/plain": [
              "(3995, 3)"
            ]
          },
          "metadata": {},
          "execution_count": 3
        }
      ]
    },
    {
      "cell_type": "code",
      "source": [
        "print(data.dtypes)"
      ],
      "metadata": {
        "colab": {
          "base_uri": "https://localhost:8080/"
        },
        "id": "4F6snrckJDhs",
        "outputId": "af4538f9-6f58-47b7-c3af-939616b933b8"
      },
      "execution_count": null,
      "outputs": [
        {
          "output_type": "stream",
          "name": "stdout",
          "text": [
            "text     object\n",
            "task1    object\n",
            "task2    object\n",
            "dtype: object\n"
          ]
        }
      ]
    },
    {
      "cell_type": "markdown",
      "source": [
        "# Making of \"label\" Variable\n"
      ],
      "metadata": {
        "id": "kK4jE-XuJN3r"
      }
    },
    {
      "cell_type": "code",
      "source": [
        "label = data['task1']\n",
        "label.head()"
      ],
      "metadata": {
        "colab": {
          "base_uri": "https://localhost:8080/"
        },
        "id": "8UB11BsEJF-U",
        "outputId": "e6a3dae2-e3b7-4a21-e9dc-28f4cb33da11"
      },
      "execution_count": null,
      "outputs": [
        {
          "output_type": "execute_result",
          "data": {
            "text/plain": [
              "0    OFFENSE\n",
              "1    OFFENSE\n",
              "2    OFFENSE\n",
              "3    OFFENSE\n",
              "4    OFFENSE\n",
              "Name: task1, dtype: object"
            ]
          },
          "metadata": {},
          "execution_count": 5
        }
      ]
    },
    {
      "cell_type": "markdown",
      "source": [
        "# Checking Dataset Balancing\n"
      ],
      "metadata": {
        "id": "HM112SzAJW-z"
      }
    },
    {
      "cell_type": "code",
      "source": [
        "print(label.value_counts())\n",
        "import matplotlib.pyplot as plt\n",
        "label.value_counts().plot(kind='bar', color='blue')"
      ],
      "metadata": {
        "colab": {
          "base_uri": "https://localhost:8080/"
        },
        "id": "wxq3PRLwJVIQ",
        "outputId": "bcaecb35-ee66-45a9-f55f-5a59d8c7c9b9"
      },
      "execution_count": null,
      "outputs": [
        {
          "output_type": "stream",
          "name": "stdout",
          "text": [
            "OTHER      2708\n",
            "OFFENSE    1287\n",
            "Name: task1, dtype: int64\n"
          ]
        },
        {
          "output_type": "execute_result",
          "data": {
            "text/plain": [
              "<matplotlib.axes._subplots.AxesSubplot at 0x7fa8a79bb390>"
            ]
          },
          "metadata": {},
          "execution_count": 6
        },
        {
          "output_type": "display_data",
          "data": {
            "text/plain": [
              "<Figure size 432x288 with 1 Axes>"
            ],
            "image/png": "[encoded data removed]"
          },
          "metadata": {
            "needs_background": "light"
          }
        }
      ]
    },
    {
      "cell_type": "markdown",
      "source": [
        "# Converting label into \"0\" or \"1\"\n"
      ],
      "metadata": {
        "id": "IiBz2hcFJdIF"
      }
    },
    {
      "cell_type": "code",
      "source": [
        "import numpy as np\n",
        "classes_list = [\"OFFENSE\",\"OTHER\"]\n",
        "label_index = data['task1'].apply(classes_list.index)\n",
        "final_label = np.asarray(label_index)\n",
        "print(final_label[:10])\n",
        "\n"
      ],
      "metadata": {
        "colab": {
          "base_uri": "https://localhost:8080/"
        },
        "id": "iaAQQh4kJZ1X",
        "outputId": "d79f8ac5-69ed-42e8-c2c4-0be3608404aa"
      },
      "execution_count": null,
      "outputs": [
        {
          "output_type": "stream",
          "name": "stdout",
          "text": [
            "[0 0 0 0 0 0 0 0 0 0]\n"
          ]
        }
      ]
    },
    {
      "cell_type": "code",
      "source": [
        "from keras.utils.np_utils import to_categorical\n",
        "label_twoDimension = to_categorical(final_label, num_classes=2)"
      ],
      "metadata": {
        "id": "DHcylJMvJhLu"
      },
      "execution_count": null,
      "outputs": []
    },
    {
      "cell_type": "code",
      "source": [
        "print(label_twoDimension[:10])"
      ],
      "metadata": {
        "colab": {
          "base_uri": "https://localhost:8080/"
        },
        "id": "1NGqjeVBJjbM",
        "outputId": "71255bf8-a214-44d3-efeb-0ce11be6bd66"
      },
      "execution_count": null,
      "outputs": [
        {
          "output_type": "stream",
          "name": "stdout",
          "text": [
            "[[1. 0.]\n",
            " [1. 0.]\n",
            " [1. 0.]\n",
            " [1. 0.]\n",
            " [1. 0.]\n",
            " [1. 0.]\n",
            " [1. 0.]\n",
            " [1. 0.]\n",
            " [1. 0.]\n",
            " [1. 0.]]\n"
          ]
        }
      ]
    },
    {
      "cell_type": "markdown",
      "source": [
        "# Making of \"text\" Variable\n"
      ],
      "metadata": {
        "id": "nqRHYUSBJl0K"
      }
    },
    {
      "cell_type": "code",
      "source": [
        "text = data['text']\n",
        "text.head(10)\n",
        "\n"
      ],
      "metadata": {
        "colab": {
          "base_uri": "https://localhost:8080/"
        },
        "id": "ZZ_FmnnqJjpU",
        "outputId": "392d9ec9-fa41-4bb7-fbbc-f459809ce01d"
      },
      "execution_count": null,
      "outputs": [
        {
          "output_type": "execute_result",
          "data": {
            "text/plain": [
              "0                                                        @jouwatch Hat die Polizei keine Kanone mehr ? 20 mal in die Munition laufen lassen und Ruhe ist .\n",
              "1    @de_sputnik @Saudi Arabien habt ihr mal wieder einen Orgasmus gebaucht oder weswegen habt ihr die Frau gekillt ? Erzählt mit aber nicht so einen v...\n",
              "2      Glaube ich nicht , die Bundesregierung so wie die Justiz ist so was von Korrupt und arbeiten so fleißig zusammen , das dies nicht erscheinen wird .\n",
              "3    \" Doch schockierend viele Jugendliche wissen kaum mehr etwas über den Holocaust. \" Das ist nicht schockierend das ist gut so . Wie sollen junge Me...\n",
              "4                               Sein Charakter war ihm wichtiger anstatt als billige Nute für Korrupte Regierungen zu arbeiten .Er hat das Leben begriffen\n",
              "5    @de_sputnik @JPN_PMO \" Obwohl das US-Militär gemäß dem Sicherheitsvertrag zwischen den USA und Japan das Recht hat Land und Kapazitäten auf dem Te...\n",
              "6    Warum schalten sich die verdammten Schmierenkomödianten nicht dann ein wenn das schiff 40 km vor der Libyschen Küste ist anstatt sie weit auf,s Me...\n",
              "7    Ob Jesus für das oder jenes Starb ist doch wohl Scheißegal , wir leben im hier und jetzt und sollten versuchen ein vernümftiges Leben auf zu bauen...\n",
              "8    @de_sputnik Ob Jesus für das oder jenes Starb ist doch wohl Scheißegal , wir leben im hier und jetzt und sollten versuchen ein vernümftiges Leben ...\n",
              "9                  Das ist allerdings wahr , jeder Amerikaner weiß das der Tot Amerika aufgebaut hat und immer weiter versucht auf diese Basis auszubauen.\n",
              "Name: text, dtype: object"
            ]
          },
          "metadata": {},
          "execution_count": 10
        }
      ]
    },
    {
      "cell_type": "markdown",
      "source": [
        "# Dataset Pre-processing\n"
      ],
      "metadata": {
        "id": "5vgUgPviJteq"
      }
    },
    {
      "cell_type": "code",
      "source": [
        "def remove_umlaut(string):\n",
        "    \"\"\"\n",
        "    Removes umlauts from strings and replaces them with the letter+e convention\n",
        "    :param string: string to remove umlauts from\n",
        "    :return: unumlauted string\n",
        "    \"\"\"\n",
        "    u = 'ü'.encode()\n",
        "    U = 'Ü'.encode()\n",
        "    a = 'ä'.encode()\n",
        "    A = 'Ä'.encode()\n",
        "    o = 'ö'.encode()\n",
        "    O = 'Ö'.encode()\n",
        "    ss = 'ß'.encode()\n",
        "\n",
        "    string = string.encode()\n",
        "    string = string.replace(u, b'ue')\n",
        "    string = string.replace(U, b'Ue')\n",
        "    string = string.replace(a, b'ae')\n",
        "    string = string.replace(A, b'Ae')\n",
        "    string = string.replace(o, b'oe')\n",
        "    string = string.replace(O, b'Oe')\n",
        "    string = string.replace(ss, b'ss')\n",
        "\n",
        "    string = string.decode('utf-8')\n",
        "    return string"
      ],
      "metadata": {
        "id": "DGwiXYyoJNa5"
      },
      "execution_count": null,
      "outputs": []
    },
    {
      "cell_type": "code",
      "source": [
        "text_wo_umlauts = text.apply(lambda x:remove_umlaut(x))\n",
        "text_wo_umlauts.head(10)"
      ],
      "metadata": {
        "colab": {
          "base_uri": "https://localhost:8080/"
        },
        "id": "rRDXJUlkJQkB",
        "outputId": "b07d5b3c-946c-4782-b291-b03fda07e3e9"
      },
      "execution_count": null,
      "outputs": [
        {
          "output_type": "execute_result",
          "data": {
            "text/plain": [
              "0                                                        @jouwatch Hat die Polizei keine Kanone mehr ? 20 mal in die Munition laufen lassen und Ruhe ist .\n",
              "1    @de_sputnik @Saudi Arabien habt ihr mal wieder einen Orgasmus gebaucht oder weswegen habt ihr die Frau gekillt ? Erzaehlt mit aber nicht so einen ...\n",
              "2     Glaube ich nicht , die Bundesregierung so wie die Justiz ist so was von Korrupt und arbeiten so fleissig zusammen , das dies nicht erscheinen wird .\n",
              "3    \" Doch schockierend viele Jugendliche wissen kaum mehr etwas ueber den Holocaust. \" Das ist nicht schockierend das ist gut so . Wie sollen junge M...\n",
              "4                              Sein Charakter war ihm wichtiger anstatt als billige Nute fuer Korrupte Regierungen zu arbeiten .Er hat das Leben begriffen\n",
              "5    @de_sputnik @JPN_PMO \" Obwohl das US-Militaer gemaess dem Sicherheitsvertrag zwischen den USA und Japan das Recht hat Land und Kapazitaeten auf de...\n",
              "6    Warum schalten sich die verdammten Schmierenkomoedianten nicht dann ein wenn das schiff 40 km vor der Libyschen Kueste ist anstatt sie weit auf,s ...\n",
              "7    Ob Jesus fuer das oder jenes Starb ist doch wohl Scheissegal , wir leben im hier und jetzt und sollten versuchen ein vernuemftiges Leben auf zu ba...\n",
              "8    @de_sputnik Ob Jesus fuer das oder jenes Starb ist doch wohl Scheissegal , wir leben im hier und jetzt und sollten versuchen ein vernuemftiges Leb...\n",
              "9                 Das ist allerdings wahr , jeder Amerikaner weiss das der Tot Amerika aufgebaut hat und immer weiter versucht auf diese Basis auszubauen.\n",
              "Name: text, dtype: object"
            ]
          },
          "metadata": {},
          "execution_count": 12
        }
      ]
    },
    {
      "cell_type": "code",
      "source": [
        "\n",
        "\n",
        "import re \n",
        "\n",
        "def text_clean(text):\n",
        "    ''' Pre process and convert texts to a list of words '''\n",
        "    \n",
        "    text=text.lower()\n",
        "\n",
        "    # Clean the text\n",
        "    text = re.sub(r\"[^A-Za-z0-9^,!.\\/'+-=]\", \" \", text)\n",
        "    text = re.sub('https?://\\S+|www\\.\\S+', \"\", text)\n",
        "    text = re.sub(r\"rt\", \" \", text)\n",
        "\n",
        "    return text\n",
        "\n"
      ],
      "metadata": {
        "id": "iP9R4lCkJrSn"
      },
      "execution_count": null,
      "outputs": []
    },
    {
      "cell_type": "code",
      "source": [],
      "metadata": {
        "id": "1yA10s9pJT9c"
      },
      "execution_count": null,
      "outputs": []
    },
    {
      "cell_type": "code",
      "source": [
        "clean_text = text_wo_umlauts.apply(lambda x:text_clean(x))"
      ],
      "metadata": {
        "id": "btvahRPaJwkh"
      },
      "execution_count": null,
      "outputs": []
    },
    {
      "cell_type": "code",
      "source": [
        "clean_text.head(10)"
      ],
      "metadata": {
        "colab": {
          "base_uri": "https://localhost:8080/"
        },
        "id": "rVm6XFqoJyPl",
        "outputId": "e01a4d02-e58a-46c0-a389-dfa5d5bb37a0"
      },
      "execution_count": null,
      "outputs": [
        {
          "output_type": "execute_result",
          "data": {
            "text/plain": [
              "0                                                         jouwatch hat die polizei keine kanone mehr   20 mal in die munition laufen lassen und ruhe ist .\n",
              "1     de sputnik  saudi arabien habt ihr mal wieder einen orgasmus gebaucht oder weswegen habt ihr die frau gekillt   erzaehlt mit aber nicht so einen ...\n",
              "2     glaube ich nicht , die bundesregierung so wie die justiz ist so was von korrupt und arbeiten so fleissig zusammen , das dies nicht erscheinen wird .\n",
              "3      doch schockierend viele jugendliche wissen kaum mehr etwas ueber den holocaust.   das ist nicht schockierend das ist gut so . wie sollen junge m...\n",
              "4                              sein charakter war ihm wichtiger anstatt als billige nute fuer korrupte regierungen zu arbeiten .er hat das leben begriffen\n",
              "5     de sputnik  jpn pmo   obwohl das us-militaer gemaess dem sicherheitsve rag zwischen den usa und japan das recht hat land und kapazitaeten auf dem...\n",
              "6    warum schalten sich die verdammten schmierenkomoedianten nicht dann ein wenn das schiff 40 km vor der libyschen kueste ist anstatt sie weit auf,s ...\n",
              "7    ob jesus fuer das oder jenes starb ist doch wohl scheissegal , wir leben im hier und jetzt und sollten versuchen ein vernuemftiges leben auf zu ba...\n",
              "8     de sputnik ob jesus fuer das oder jenes starb ist doch wohl scheissegal , wir leben im hier und jetzt und sollten versuchen ein vernuemftiges leb...\n",
              "9                 das ist allerdings wahr , jeder amerikaner weiss das der tot amerika aufgebaut hat und immer weiter versucht auf diese basis auszubauen.\n",
              "Name: text, dtype: object"
            ]
          },
          "metadata": {},
          "execution_count": 15
        }
      ]
    },
    {
      "cell_type": "markdown",
      "source": [
        "# Removing stopwords\n"
      ],
      "metadata": {
        "id": "Cr_9fbmQJ14E"
      }
    },
    {
      "cell_type": "code",
      "source": [
        "import nltk\n",
        "from nltk.corpus import stopwords\n",
        "nltk.download('stopwords')\n",
        "def stop_words_removal(text1):\n",
        "    text1=[w for w in  text1.split(\" \")  if w not in stopwords.words('german')]\n",
        "    return \" \".join(text1)"
      ],
      "metadata": {
        "colab": {
          "base_uri": "https://localhost:8080/"
        },
        "id": "fnKAVUGKJzkf",
        "outputId": "52298f66-0da4-4512-a58f-b19bd49ab3ab"
      },
      "execution_count": null,
      "outputs": [
        {
          "output_type": "stream",
          "name": "stderr",
          "text": [
            "[nltk_data] Downloading package stopwords to /root/nltk_data...\n",
            "[nltk_data]   Unzipping corpora/stopwords.zip.\n"
          ]
        }
      ]
    },
    {
      "cell_type": "code",
      "source": [
        "clean_text_ns=clean_text.apply(lambda x: stop_words_removal(x))"
      ],
      "metadata": {
        "id": "EAe2hR7jJ5R8"
      },
      "execution_count": null,
      "outputs": []
    },
    {
      "cell_type": "code",
      "source": [
        "print(clean_text_ns.head(10))"
      ],
      "metadata": {
        "colab": {
          "base_uri": "https://localhost:8080/"
        },
        "id": "hMapIVGXJ7Cf",
        "outputId": "d91b77d4-2e82-4b39-ce88-b959357de140"
      },
      "execution_count": null,
      "outputs": [
        {
          "output_type": "stream",
          "name": "stdout",
          "text": [
            "0                                                                                      jouwatch polizei kanone mehr   20 mal munition laufen lassen ruhe .\n",
            "1     de sputnik  saudi arabien habt mal orgasmus gebaucht weswegen habt frau gekillt   erzaehlt verlogenen scheissdreck bezogen   gemordet luegen seit...\n",
            "2                                                                        glaube , bundesregierung justiz korrupt arbeiten fleissig zusammen , erscheinen .\n",
            "3      schockierend viele jugendliche wissen kaum mehr ueber holocaust.   schockierend gut . sollen junge menschen freundschaften juden entwickeln ,wen...\n",
            "4                                                          charakter wichtiger anstatt billige nute fuer korrupte regierungen arbeiten .er leben begriffen\n",
            "5     de sputnik  jpn pmo   obwohl us-militaer gemaess sicherheitsve rag usa japan recht land kapazitaeten territorium japans nutzen,   munde zergehen ...\n",
            "6                                        warum schalten verdammten schmierenkomoedianten schiff 40 km libyschen kueste anstatt weit auf,s meer schippern  \n",
            "7                  jesus fuer starb wohl scheissegal , leben sollten versuchen vernuemftiges leben bauen gerechtes menschen gleich individualitaet leben .\n",
            "8                             de sputnik jesus fuer starb wohl scheissegal , leben sollten versuchen vernuemftiges leben bauen gerechtes menschen gleich .\n",
            "9                                                                allerdings wahr , amerikaner weiss tot amerika aufgebaut immer versucht basis auszubauen.\n",
            "Name: text, dtype: object\n"
          ]
        }
      ]
    },
    {
      "cell_type": "markdown",
      "source": [
        "# Lemmatization"
      ],
      "metadata": {
        "id": "UbNspWraJ-a5"
      }
    },
    {
      "cell_type": "markdown",
      "source": [
        "# Stemming"
      ],
      "metadata": {
        "id": "cGRUIHNgKB8P"
      }
    },
    {
      "cell_type": "code",
      "source": [
        "\n",
        "\n",
        "# Stemming\n",
        "from nltk.stem import SnowballStemmer \n",
        "stemmer = SnowballStemmer(\"german\")\n",
        "\n",
        "def word_stemmer(text):\n",
        "    stem_text = \"\".join([stemmer.stem(i) for i in text])\n",
        "    return stem_text\n",
        "\n"
      ],
      "metadata": {
        "id": "xzacVq1jJ8ru"
      },
      "execution_count": null,
      "outputs": []
    },
    {
      "cell_type": "code",
      "source": [
        "clean_text_stem = clean_text_ns.apply(lambda x : word_stemmer(x))"
      ],
      "metadata": {
        "id": "gLvtC-DlKFJ3"
      },
      "execution_count": null,
      "outputs": []
    },
    {
      "cell_type": "code",
      "source": [
        "print(clean_text_stem.head())"
      ],
      "metadata": {
        "colab": {
          "base_uri": "https://localhost:8080/"
        },
        "id": "hLTYkzd6KGpw",
        "outputId": "422869ca-0a02-4203-987c-3d2381e15bcc"
      },
      "execution_count": null,
      "outputs": [
        {
          "output_type": "stream",
          "name": "stdout",
          "text": [
            "0                                                                                      jouwatch polizei kanone mehr   20 mal munition laufen lassen ruhe .\n",
            "1     de sputnik  saudi arabien habt mal orgasmus gebaucht weswegen habt frau gekillt   erzaehlt verlogenen scheissdreck bezogen   gemordet luegen seit...\n",
            "2                                                                        glaube , bundesregierung justiz korrupt arbeiten fleissig zusammen , erscheinen .\n",
            "3      schockierend viele jugendliche wissen kaum mehr ueber holocaust.   schockierend gut . sollen junge menschen freundschaften juden entwickeln ,wen...\n",
            "4                                                          charakter wichtiger anstatt billige nute fuer korrupte regierungen arbeiten .er leben begriffen\n",
            "Name: text, dtype: object\n"
          ]
        }
      ]
    },
    {
      "cell_type": "markdown",
      "source": [
        "# Tokenization using \"keras\"\n"
      ],
      "metadata": {
        "id": "aqZfKW9_KId4"
      }
    },
    {
      "cell_type": "code",
      "source": [
        "import keras\n",
        "import tensorflow\n",
        "from keras.preprocessing.text import Tokenizer\n",
        "tok_all = Tokenizer(filters='!\"#$%&\\'()*+,-./:;<=>?@[\\\\]^_`{|}~', lower=True, char_level = False)\n",
        "tok_all.fit_on_texts(clean_text_stem)"
      ],
      "metadata": {
        "id": "64oQb-b9KL7d"
      },
      "execution_count": null,
      "outputs": []
    },
    {
      "cell_type": "markdown",
      "source": [
        "# Making Vocab for words\n"
      ],
      "metadata": {
        "id": "Azliz45-KOH2"
      }
    },
    {
      "cell_type": "code",
      "source": [
        "vocabulary_all = len(tok_all.word_counts)\n",
        "print(vocabulary_all)"
      ],
      "metadata": {
        "colab": {
          "base_uri": "https://localhost:8080/"
        },
        "id": "kjRctAdKKNqA",
        "outputId": "9a251177-5021-43a4-82a6-f5f5d9a12c17"
      },
      "execution_count": null,
      "outputs": [
        {
          "output_type": "stream",
          "name": "stdout",
          "text": [
            "16773\n"
          ]
        }
      ]
    },
    {
      "cell_type": "code",
      "source": [
        "\n",
        "\n",
        "l = tok_all.word_index\n",
        "print(l)\n",
        "\n"
      ],
      "metadata": {
        "colab": {
          "base_uri": "https://localhost:8080/"
        },
        "id": "ruZahltoKSBk",
        "outputId": "2db255c7-c5ba-42da-8516-045243d8275c"
      },
      "execution_count": null,
      "outputs": [
        {
          "output_type": "stream",
          "name": "stdout",
          "text": [
            "{'u': 1, 'lbr': 2, 'fuer': 3, 'ja': 4, 'mal': 5, 'schon': 6, 'mehr': 7, 'heute': 8, 'immer': 9, '0001f602': 10, 'uhr': 11, 'gibt': 12, 'afd': 13, 'menschen': 14, 'geht': 15, 'nicht': 16, 'ueber': 17, 'aachen': 18, 'en': 19, 'ist': 20, 'e': 21, 'deutschland': 22, 'ab': 23, 'spd': 24, 'gut': 25, 'wer': 26, '0001f44b': 27, 'a': 28, 'amp': 29, 'fe0f': 30, 'einfach': 31, 'koennen': 32, 'warum': 33, 'kommt': 34, 'ganz': 35, 'macht': 36, 'pa': 37, 'blockupy': 38, 'stegner': 39, 's': 40, '200d': 41, 'hat': 42, 'seit': 43, 'az': 44, 'merkel': 45, '00': 46, 'sein': 47, '2': 48, 'genau': 49, '1': 50, '30': 51, 'danke': 52, 'wuerde': 53, 'eigentlich': 54, '18': 55, 'lassen': 56, 'deutsche': 57, 'werden': 58, '20': 59, 'muessen': 60, 'hast': 61, 'ralf': 62, 'do': 63, 'eu': 64, 'endlich': 65, 'waere': 66, 'bitte': 67, 'nazis': 68, 'haben': 69, 'frankfu': 70, 'morgen': 71, 'wirklich': 72, 'welt': 73, 'demo': 74, 'cdu': 75, 'wurde': 76, 'sind': 77, 'dafuer': 78, 'bild': 79, 'tag': 80, 'gar': 81, 'frau': 82, 'land': 83, 'antifa': 84, 'zusammen': 85, 'politik': 86, 'richtig': 87, 'frauen': 88, 'wohl': 89, 'natuerlich': 90, 'zeit': 91, 'gerade': 92, 'd': 93, 'venezuela': 94, 'gruenen': 95, 'frage': 96, 'jahren': 97, 've': 98, '19': 99, '0001f609': 100, 'leben': 101, 'tun': 102, 'besser': 103, 'ei': 104, 'maltekaufmann': 105, 'woche': 106, 'robe': 107, 'viele': 108, 'wird': 109, 'erst': 110, 'vielleicht': 111, 'schoen': 112, 'sagen': 113, '0001f923': 114, '0001f914': 115, 'nein': 116, 'buerger': 117, 'hambibleibt': 118, 'so': 119, 'sollen': 120, 'deutschen': 121, 'kommen': 122, 'wissen': 123, 'weiss': 124, 'lange': 125, '0001f44d': 126, 'beim': 127, 'ne': 128, 'das': 129, 'polizei': 130, 'nie': 131, '2642': 132, 'an': 133, 'habt': 134, 'haette': 135, 'gute': 136, 'hambacherforst': 137, '0001f3fd': 138, 'moin': 139, 'steht': 140, 'gleich': 141, 'leute': 142, 'nazi': 143, 'h': 144, 'nix': 145, '5': 146, 'dabei': 147, '3': 148, 'auf': 149, 'die': 150, 'leider': 151, 'recht': 152, 'halt': 153, 'geld': 154, 'sehen': 155, 'linken': 156, 'de': 157, 'knobloch': 158, 'raus': 159, 'medien': 160, 'ueberhaupt': 161, 'berlin': 162, 'demokratie': 163, 'tweet': 164, 'mensch': 165, 'eher': 166, '0001f937': 167, '0001f92a': 168, 'spdde': 169, 'aufgewachtewelt': 170, 'geben': 171, '0001f92e': 172, 'aus': 173, 'jouwatch': 174, '4': 175, 'sagt': 176, 'wegen': 177, 'koennte': 178, 'brauchen': 179, 'karl': 180, 'linke': 181, 'twitter': 182, 'innen': 183, 'ha': 184, 'ich': 185, 'meinung': 186, 'passt': 187, 'statt': 188, 'machen': 189, 'halten': 190, '2640': 191, 'chris': 192, 'connybub': 193, 'engelge': 194, 'lanyihunter1': 195, 'bekommen': 196, 'kann': 197, '15': 198, '10': 199, 'nen': 200, 'stehen': 201, 'n59': 202, 'puppche': 203, 'willplaat': 204, 'bibby182': 205, 'coyosilver': 206, '98763': 207, 'wellejena': 208, 'louispeterle': 209, 'maxanonymous': 210, 'johannes135': 211, 'sozialismus': 212, 'glaube': 213, 'vielen': 214, 'ende': 215, '16': 216, 'm': 217, 'eben': 218, 'lieber': 219, 'madameschwarzi': 220, 'ph': 221, 'phanuel': 222, 'migraene': 223, 'ralftheuer': 224, 'venum27004632': 225, 'chisnoria': 226, 'assassina36': 227, 'bine1007': 228, 'iamcovar': 229, 'lukas64f': 230, 'ron1872': 231, 'ungebeten1': 232, 'ptroll3': 233, 'apuleius': 234, 'machata9': 235, 'hake': 236, 'koyamamichi': 237, 'cherylli18': 238, 'botedesunrechts': 239, 'asiegwa': 240, 'freitweeter': 241, 'odmantsuperstar': 242, 'smuelle26677552': 243, 'fredkrger2': 244, 'heidi1274': 245, 'pseudros': 246, 'strandvogt3': 247, 'hausfrau4ever': 248, '19594': 249, 'invictu53409591': 250, 'vigilant': 251, 'estathor': 252, 'metalwilli': 253, 'usa': 254, 'darf': 255, 'davon': 256, 'neue': 257, 'angst': 258, 'ganze': 259, 'wi': 260, 'jochen': 261, '0001f644': 262, 'gehen': 263, 'wann': 264, 'weiter': 265, 'selber': 266, '2764': 267, 'ach': 268, 'sieht': 269, 'vorbei': 270, 'cha': 271, 'volk': 272, 'gerne': 273, 'klar': 274, 'gehoe': 275, 'sawsanchebli': 276, 'we': 277, 'samstag': 278, 'abend': 279, 'tweets': 280, 'beatrix': 281, 'arbeit': 282, 'vergessen': 283, 'guten': 284, 'jemand': 285, 'gemacht': 286, 'kinder': 287, 'staat': 288, 'jahr': 289, 'denen': 290, 'niemand': 291, 'seid': 292, 'jahre': 293, 'deshalb': 294, 'vstorch': 295, '0001f5a4': 296, 'aber': 297, '100': 298, 'mitschka': 299, 'regierung': 300, 'du': 301, 'laesst': 302, 'und': 303, 'eien': 304, 'genug': 305, 'finde': 306, 'sogar': 307, '11': 308, 'n': 309, 'arbeiten': 310, 'wenig': 311, 'moechte': 312, 'voll': 313, 'bevor': 314, 'antwo': 315, 'zeigt': 316, 'sei': 317, '0001f926': 318, '6': 319, 'bald': 320, 'cem': 321, 'oezdemir': 322, '0001f44f': 323, 'brexit': 324, 'kokaxcola': 325, 'hoffe': 326, 'groko': 327, '8': 328, 'super': 329, 'letzten': 330, 'gruene': 331, 'eigenen': 332, 'rechts': 333, 'rechten': 334, 'kannst': 335, 'daran': 336, 'sta': 337, 't': 338, 'findet': 339, 'z': 340, 'finden': 341, 'b': 342, '0001f92f': 343, 'ffm': 344, 'rag': 345, 'sollten': 346, 'stimmt': 347, 'alice': 348, 'bleibt': 349, 'tut': 350, 'lauterbach': 351, 'bleiben': 352, 'schuld': 353, 'bund': 354, 'ganzen': 355, 'maedchen': 356, 'bestimmt': 357, 'weg': 358, 'liebe': 359, 'gestern': 360, 'zwei': 361, 'pegida': 362, 'faschisten': 363, 'islam': 364, 'es': 365, 'weidel': 366, 'auch': 367, 'dumm': 368, 'ein': 369, 'war': 370, 'opfer': 371, '000': 372, 'echt': 373, 'thema': 374, 'frei': 375, '23': 376, 'freitag': 377, 'wuerden': 378, '2018': 379, 'o': 380, 'k': 381, '14': 382, 'chemnitz': 383, 'egal': 384, 'bisschen': 385, 'helllud123': 386, 'grace30714933': 387, 'junge': 388, 'scheisse': 389, 'politiker': 390, 'zurueck': 391, 'zukunft': 392, 'zdf': 393, 'oh': 394, 'bereits': 395, 'folgen': 396, 'schnell': 397, '21': 398, 'gesellschaft': 399, 'gesagt': 400, 'maduro': 401, 'dank': 402, 'stadt': 403, 'alle': 404, 'braucht': 405, 'krippmarie': 406, 'herr': 407, '2018wahrheit': 408, 'europa': 409, 'krieg': 410, 'verfassungsschutz': 411, '12': 412, 'bzw': 413, 'hans': 414, 'verantwo': 415, 'hass': 416, 'fragen': 417, 'ig': 418, '17': 419, 'naziwatchac': 420, 'haetten': 421, '9': 422, 'paar': 423, 'fast': 424, 'sorry': 425, 'trotzdem': 426, 'deren': 427, 'geh': 428, 'netzpolitik': 429, 'schoenen': 430, 'rassisten': 431, 'russland': 432, 'denken': 433, 'kritik': 434, 'los': 435, 'politischen': 436, 'je': 437, 'alte': 438, 'fall': 439, 'sofo': 440, 'reden': 441, 'is': 442, 'scheint': 443, 'y': 444, 'neuen': 445, 'uebrigens': 446, 'essen': 447, 'offenbar': 448, 'f': 449, 'v': 450, 'hbf': 451, 'kundgebung': 452, 'wollen': 453, 'ma': 454, 'regime': 455, 'freiheit': 456, 'sicher': 457, 'sozialistische': 458, 'kahrs': 459, 'trinchen312': 460, 'scheiss': 461, 'geworden': 462, 'der': 463, 'na': 464, 'vo': 465, 'kleine': 466, 'will': 467, 'verloren': 468, 'doch': 469, 'mach': 470, 'bekannt': 471, '7': 472, 'problem': 473, 'ersten': 474, 'of': 475, 'repression': 476, '13': 477, 'et': 478, 'solidaritaet': 479, 'nonazis': 480, 'weniger': 481, 'eh': 482, 'nehmen': 483, 'seehofer': 484, 'kleinen': 485, 'clyde261282': 486, 'denkerwerner': 487, 'org': 488, 'drdavidberger': 489, 'mann': 490, 'bringen': 491, 'koennt': 492, 'wahl': 493, 'bevoelkerung': 494, 'oft': 495, 'teil': 496, 'probleme': 497, 'ka': 498, 'helfen': 499, 'fr': 500, 'neonazis': 501, '2019': 502, 'infos': 503, 'geschichte': 504, '01': 505, 'alter': 506, 'the': 507, 'nrw': 508, 'laut': 509, 'kneipe': 510, 'i': 511, 'wa': 512, 'maassen': 513, 'duerfen': 514, 'rechte': 515, 'darum': 516, 'links': 517, 'ernst': 518, 'ok': 519, 'propaganda': 520, 'maenner': 521, 'ddr': 522, 'aloa5': 523, 'korrupte': 524, 'eltern': 525, 'rum': 526, 'da': 527, 'absolut': 528, 'lang': 529, 'groesste': 530, 'hand': 531, 'vor': 532, 'mittelfinger': 533, 'besten': 534, 'buch': 535, 'hoffentlich': 536, 'falsch': 537, 'mag': 538, 'politische': 539, 'unterwegs': 540, 'erstmal': 541, 'nochmal': 542, 'tage': 543, 'minuten': 544, 'fahren': 545, 'voellig': 546, 'hilft': 547, 'frueher': 548, 'ung': 549, 'titten': 550, 'bullenschubser': 551, '40': 552, 'versuchen': 553, 'versucht': 554, 'gleiche': 555, 'israel': 556, 'bezahlt': 557, 'klein': 558, 'deutsch': 559, 'toll': 560, 'worden': 561, 'suchen': 562, 'weihnachten': 563, 'feiern': 564, 'sie': 565, 'gewalt': 566, 'liegt': 567, 'sehe': 568, 'weiterhin': 569, 'bekaempfen': 570, 'erste': 571, 'gab': 572, 'soweit': 573, 'laecherlich': 574, 'grosse': 575, 'zdfheute': 576, 'sonntag': 577, 'hunde': 578, 'ac1811': 579, 'antirepac': 580, 'lt': 581, 'konze': 582, 'wichtig': 583, 'oliver': 584, 'r': 585, 'strasse': 586, 'nsu': 587, 'zu': 588, 'erfolg': 589, 'text': 590, 'schlecht': 591, 'beste': 592, '0001f643': 593, 'drei': 594, 'spiegelonline': 595, 'brd': 596, 'pamelacostaric1': 597, 'stasi': 598, 'andreaschlegel3': 599, 'sanktionen': 600, 'spiro0815': 601, '18m': 602, 'laufen': 603, 'allerdings': 604, 'langsam': 605, 'kopf': 606, 'china': 607, 'platz': 608, 'unterstuetzt': 609, 'wuensche': 610, 'migranten': 611, 'rein': 612, 'wir': 613, 'presse': 614, 'deswegen': 615, 'journalisten': 616, 'her': 617, 'co': 618, 'selbst': 619, 'wurden': 620, 'waehrend': 621, 'namen': 622, 'besonders': 623, 'kleiner': 624, 'markt': 625, 'heisst': 626, 'account': 627, 'fair': 628, 'tatsaechlich': 629, 'news': 630, 'montag': 631, 'koeln': 632, 'lesen': 633, 'nem': 634, 'passie': 635, '0001f60a': 636, 'allein': 637, 'irgendwie': 638, 'kathaschulze': 639, 'system': 640, 'lideli7': 641, 'vs': 642, 'sozialistischen': 643, 'kommunistische': 644, 'slinr': 645, 'sputnik': 646, 'weit': 647, 'weder': 648, 'grund': 649, 'darauf': 650, 'eigene': 651, 'glauben': 652, 'aussage': 653, 'dagegen': 654, 'amt': 655, 'syrien': 656, 'beide': 657, 'sache': 658, 'meisten': 659, 'broder': 660, 'staaten': 661, 'antisemitismus': 662, 'nachdem': 663, 'hitler': 664, 'laeuft': 665, 'hund': 666, 'dumme': 667, 'wenigstens': 668, 'moeglich': 669, 'hier': 670, 'schreiben': 671, '22': 672, 'gt': 673, 'lasst': 674, 'danach': 675, 'ahnung': 676, 'sowas': 677, 'hasse': 678, 'rad': 679, '0001f6b4': 680, '0001f4a8': 681, 'waehlen': 682, 'fehler': 683, 'beispiel': 684, 'mainstream': 685, 'andreasstraub': 686, 'gott': 687, 'tagesschau': 688, 'alten': 689, 'parlament': 690, 'ficker': 691, 'trump': 692, 'spdbt': 693, 'lass': 694, 'merkels': 695, 'ditfu': 696, 'frodilon': 697, 'specht': 698, 'neom1913': 699, '0001f60b': 700, 'subversivaktiv': 701, 'holocaust': 702, 'scheissegal': 703, 'waeren': 704, 'macron': 705, 'verboten': 706, 'tuerkei': 707, 'verdammt': 708, 'seite': 709, 'fdp': 710, 'gefallen': 711, 'bringt': 712, 'stellen': 713, 'all': 714, 'sprechen': 715, 'denke': 716, 'wahrheit': 717, 'bekommt': 718, 'seiten': 719, 'lich': 720, 'kennt': 721, 'diskussion': 722, 'raum': 723, 'glaubt': 724, 'sinn': 725, 'rede': 726, 'mehrheit': 727, 'heutigen': 728, 'ey': 729, 'direkt': 730, 'gilt': 731, 'show': 732, 'stellt': 733, 'no': 734, 'schwarz': 735, 'rote': 736, 'ca': 737, 'veranstaltung': 738, 'lustig': 739, 'merz': 740, 'jkasek': 741, 'korrekt': 742, 'wochenende': 743, 'verstanden': 744, 'gegenueber': 745, 'wen': 746, 'unserer': 747, 'deutlich': 748, 'wieder': 749, 'dich': 750, 'darueber': 751, 'ausser': 752, 'setzt': 753, 'maas': 754, 'alleine': 755, 'mund': 756, 'sed': 757, 'csu': 758, 'jutta': 759, '270a': 760, '0001f92c': 761, '161schlotle': 762, '200': 763, 'justiz': 764, 'typen': 765, 'dreck': 766, 'steinbacherika': 767, 'pack': 768, 'vater': 769, 'zeitonline': 770, 'kultur': 771, 'schaft': 772, 'gehoeren': 773, 'verstehen': 774, 'geschrieben': 775, 'mut': 776, 'verdient': 777, 'interessie': 778, 'haelt': 779, 'besteht': 780, 'hose': 781, 'hintergrund': 782, 'spass': 783, 'etwa': 784, 'kurz': 785, 'nennt': 786, 'fuers': 787, 'gretathunberg': 788, 'dlf': 789, 'unternehmen': 790, 'punkt': 791, 'hoch': 792, 'leicht': 793, 'schade': 794, 'stschilling75': 795, 'sa': 796, 'gruppen': 797, 'aktivist': 798, 'falls': 799, 'gedenken': 800, 'soli': 801, 'laenger': 802, 'usw': 803, 'gemeinsam': 804, 'naechsten': 805, 'w': 806, 'gruppe': 807, 'stunde': 808, 'realitaet': 809, 'mit': 810, 'nennen': 811, 'mist': 812, 'neu': 813, 'ibes': 814, 'damals': 815, 'niveau': 816, 'fe': 817, 'schmutz': 818, 'bundestag': 819, 'schwer': 820, 'rwe': 821, 'fritzvonsteiner': 822, 'schlimmer': 823, 'nazifresser': 824, 'schweizok2': 825, 'einzige': 826, 'westen': 827, 'hamburg': 828, 'habe': 829, 'job': 830, 'c': 831, 'rechtsextreme': 832, 'demokratische': 833, 'gelesen': 834, 'deutsch365': 835, 'verlag': 836, 'jensspahn': 837, 'blubberette': 838, 'bus': 839, 'lol': 840, 'bierkrawalle': 841, 'terminal': 842, '0001f3fe': 843, 'book': 844, 'hauptwache': 845, 'ruhe': 846, 'erzaehlt': 847, 'bundesregierung': 848, 'juden': 849, 'er': 850, 'nutzen': 851, 'nimmt': 852, 'tot': 853, 'arschloch': 854, 'kind': 855, 'kriminellen': 856, 'drin': 857, 'schauen': 858, 'faellt': 859, 'durch': 860, 'kriminelle': 861, 'vorher': 862, 'erde': 863, 'solltest': 864, 'nasir': 865, 'ahmad': 866, 'erdogan': 867, 'genauso': 868, 'meuthen': 869, 'was': 870, 'gefahr': 871, 'letzte': 872, 'naja': 873, 'begriff': 874, 'hoe': 875, 'gemeint': 876, 'ichbinschoener': 877, 'ecke': 878, 'schaffen': 879, 'muesste': 880, 'grenzen': 881, 'werbung': 882, 'sorgen': 883, 'ueberall': 884, 'noch': 885, 'leuten': 886, 'dazu': 887, 'spiel': 888, 'bisher': 889, 'aktion': 890, 'erreicht': 891, 'wunde': 892, 'augen': 893, 'offen': 894, 'rund': 895, 'folgt': 896, 'twittern': 897, 'koennten': 898, 'nacht': 899, 'gesa': 900, 'korallenherz': 901, 'kampf': 902, '27': 903, 'derzeit': 904, 'jetzt': 905, 'euch': 906, 'kapitalismus': 907, 'aufgrund': 908, 'le': 909, 'sachsen': 910, 'mitglieder': 911, 'sich': 912, 'beiden': 913, 'irgendwas': 914, 'hoeren': 915, 'janboehm': 916, 'per': 917, 'waehler': 918, 'schnee': 919, 'gesicht': 920, 'schoenes': 921, 'peinlich': 922, 'feinstaub': 923, 'kenne': 924, 'lindner': 925, 'habeck': 926, 'person': 927, 'taeter': 928, 'unterstuetzung': 929, 'reicht': 930, 'dr': 931, 'block': 932, 'g20': 933, 'annewill': 934, 'boese': 935, 'ihr': 936, 'logisch': 937, 'monat': 938, 'sicherlich': 939, 'spannend': 940, 'gewaltregime': 941, 'poesen': 942, 'm18': 943, 'bullen': 944, 'arsch': 945, 'dann': 946, 'altpa': 947, 'rechnen': 948, 'gebracht': 949, 'magnitz': 950, 'diesmal': 951, 'knast': 952, 'gleichen': 953, '28': 954, 'j': 955, 'kindern': 956, 'kleines': 957, 'bahn': 958, 'drauf': 959, 'tuerken': 960, 'volksverpetzer': 961, 'muslime': 962, 'fluechtlinge': 963, 'naehe': 964, 'setzen': 965, 'unterstuetzen': 966, 'somit': 967, 'heinrich': 968, 'krug': 969, 'sack': 970, 'kampagne': 971, 'amis': 972, 'millionen': 973, 'tausende': 974, 'konnte': 975, 'spaet': 976, 'unterschied': 977, 'neues': 978, 'laender': 979, 'paeddy1994': 980, 'yt': 981, 'verhindern': 982, 'klimawandel': 983, 'sicherheit': 984, 'kontrolle': 985, 'mehrere': 986, 'gg': 987, 'geoeffnet': 988, 'richtung': 989, 'personen': 990, 'erwa': 991, 'to': 992, 'suppo': 993, 'draussen': 994, 'hambi': 995, '26': 996, 'people': 997, 'widerstand': 998, 'now': 999, 'fordern': 1000, 'neben': 1001, 'weitere': 1002, 'donnerstag': 1003, 'unsinn': 1004, '06': 1005, 'okay': 1006, 'niemals': 1007, 'erklae': 1008, 'etc': 1009, 'meist': 1010, 'dinge': 1011, 'tv': 1012, 'miraclemorning': 1013, 'null': 1014, 'wahrscheinlich': 1015, 'schreibt': 1016, 'verbieten': 1017, 'vollkommen': 1018, 'fuehrer': 1019, 'oeffentlich': 1020, 'ikel': 1021, 'interessant': 1022, 'zumindest': 1023, 'michael': 1024, 'deutscher': 1025, 'angeblich': 1026, 'gearbeitet': 1027, 'total': 1028, 'anjareschke1': 1029, 'soll': 1030, 'wdr': 1031, 'reichen': 1032, 'davor': 1033, 'nachbarn': 1034, 'skandal': 1035, '90': 1036, '0001f3ff': 1037, 'stuttga': 1038, 'resistance20186': 1039, 'flughafen': 1040, 'wahlen': 1041, 'wirrkoepfe': 1042, 'klimasekte': 1043, 'kommunisten': 1044, 'larsklingbeil': 1045, 'kobane': 1046, 'arabien': 1047, 'luegen': 1048, 'kaum': 1049, 'wenn': 1050, 'us': 1051, 'wahr': 1052, 'diktatur': 1053, 'bedeutet': 1054, 'euro': 1055, 'zahlen': 1056, 'sag': 1057, 'frankreich': 1058, 'funktionie': 1059, 'unfassbar': 1060, 'schnauze': 1061, 'armen': 1062, 'zieht': 1063, 'musst': 1064, 'wollt': 1065, 'hirn': 1066, 'buergerkrieg': 1067, 'ehrlich': 1068, 'kohle': 1069, 'joerg': 1070, 'typ': 1071, 'bfv': 1072, 'versuch': 1073, 'aktuell': 1074, 'spielt': 1075, 'offensichtlich': 1076, 'schlimm': 1077, 'rassismus': 1078, 'irgendjemand': 1079, 'stoppen': 1080, 'steckt': 1081, 'politisch': 1082, 'blytton7': 1083, 'gespannt': 1084, 'hae': 1085, 'muss': 1086, 'heikomaas': 1087, 'religion': 1088, 'repo': 1089, 'hilfe': 1090, 'kraft': 1091, 'rest': 1092, 'hey': 1093, 'knapp': 1094, '24': 1095, 'wehren': 1096, 'uns': 1097, 'schicken': 1098, 'erhalt': 1099, '45': 1100, 'daher': 1101, 'ideologie': 1102, 'buendnis': 1103, 'gekommen': 1104, 'jungen': 1105, 'idee': 1106, 'kaempfen': 1107, 'irgendwo': 1108, 'bayern': 1109, 'taeglich': 1110, 'osten': 1111, 'dresden': 1112, 'pro': 1113, 'parolen': 1114, 'muessten': 1115, 'ordnung': 1116, 'grad': 1117, 'nazisraus': 1118, 'p': 1119, 'ner': 1120, 'schlafen': 1121, 'online': 1122, 'nichts': 1123, 'haha': 1124, 'argumente': 1125, 'une': 1126, 'foseti': 1127, 'merkt': 1128, 'dadurch': 1129, 'grossen': 1130, 'juergen': 1131, 'fritz': 1132, 'erkennen': 1133, 'fuehren': 1134, 'steinhoefel': 1135, 'situation': 1136, 'genossen': 1137, 'haesslichen': 1138, 'gegeben': 1139, 'mudda': 1140, 'geblockt': 1141, 'verlieren': 1142, 'kranke': 1143, 'holger56228648': 1144, 'familie': 1145, 'obdachlose': 1146, 'aflint2': 1147, 'erdosultan': 1148, 'msrebre': 1149, 'airpo': 1150, '0001f621': 1151, 'gewusst': 1152, 'poese': 1153, 'wolkenfluff': 1154, 'anstatt': 1155, 'km': 1156, 'bauen': 1157, 'sitzen': 1158, 'gelbwesten': 1159, 'unbedingt': 1160, 'richter': 1161, 'verbrecher': 1162, 'sonnst': 1163, '50': 1164, 'dummes': 1165, 'freund': 1166, 'bewusst': 1167, 'frieden': 1168, 'stolz': 1169, 'themen': 1170, 'gern': 1171, 'gedanken': 1172, 'facebook': 1173, 'mittlerweile': 1174, 'tuerke': 1175, 'gesehen': 1176, 'gestellt': 1177, 'igen': 1178, 'schneller': 1179, 'verdienen': 1180, 'ie': 1181, 'spricht': 1182, 'dran': 1183, 'l': 1184, 'rolle': 1185, 'daraus': 1186, 'rechter': 1187, 'ohnehin': 1188, 'nation': 1189, 'imperialisten': 1190, 'mache': 1191, 'heuchler': 1192, 'ziehen': 1193, 'ungarn': 1194, 'praesident': 1195, 'gegenteil': 1196, 'tja': 1197, 'retten': 1198, 'up': 1199, 'co2': 1200, 'nase': 1201, 'nasanasal': 1202, 'ag': 1203, 'westliche': 1204, '08': 1205, 'gewonnen': 1206, 'spo': 1207, 'gehabt': 1208, 'komm': 1209, 'tuerkischen': 1210, 'faschismus': 1211, 'techno': 1212, 'demos': 1213, 'zeiten': 1214, 'hinweis': 1215, 'geschlossen': 1216, '04': 1217, '25': 1218, 'anarchist': 1219, 'kitchen': 1220, 'gefueh': 1221, 'more': 1222, 'ige': 1223, 'nachricht': 1224, 'cops': 1225, 'mindestens': 1226, 'zentrum': 1227, 'fest': 1228, 'stunden': 1229, 'x': 1230, 'hallo': 1231, 'noborderaction': 1232, 'zeigen': 1233, '271d': 1234, 'leipzig': 1235, 'protest': 1236, 'verbot': 1237, 'informieren': 1238, 'ac1312': 1239, 'hause': 1240, 'ignorie': 1241, 'urlaub': 1242, 'treten': 1243, 'zb': 1244, 'krank': 1245, 'irgendwann': 1246, 'manchmal': 1247, 'fehlt': 1248, 'haus': 1249, 'gefaehrlich': 1250, 'opa': 1251, 'guter': 1252, 'huuuuiiiii': 1253, 'planlos': 1254, 'buero': 1255, 'hin': 1256, '0001f60e': 1257, 'patty': 1258, '261d': 1259, 'nee': 1260, 'gebu': 1261, 'wach': 1262, 'blockie': 1263, 'aufs': 1264, '0': 1265, 'armer': 1266, 'raeglich': 1267, 'darin': 1268, 'erinnern': 1269, 'franz': 1270, 'geloescht': 1271, 'juedischen': 1272, 'massiv': 1273, 'spiegel': 1274, 'ausland': 1275, 'gericht': 1276, 'respekt': 1277, 'kirche': 1278, 'degenerie': 1279, 'arbeitet': 1280, 'kackscheisse': 1281, 'bin': 1282, 'definitiv': 1283, 'ruhig': 1284, 'bmi': 1285, 'klang': 1286, 'ruinen': 1287, 'nahles': 1288, 'beginn': 1289, 'richtige': 1290, 'gross': 1291, 'verein': 1292, 'gelernt': 1293, 'fakten': 1294, 'verstehe': 1295, 'gefaellt': 1296, 'gruen': 1297, 'kuehnikev': 1298, 'europaeischen': 1299, '203c': 1300, 'gamemommanuela': 1301, 'grundgesetz': 1302, 'sozialisten': 1303, 'arbeiter': 1304, 'tinimaus1110': 1305, 'fred': 1306, 'lumma': 1307, 'united': 1308, 'europe': 1309, 'kramersmatze': 1310, 'edithapastre': 1311, 'wichsfloete': 1312, 'maicotheman': 1313, 'schleswig': 1314, 'holstein': 1315, 'nowkr': 1316, 'kowalsky': 1317, 'rojava': 1318, 'saudi': 1319, 'erlaubt': 1320, 'fueh': 1321, 'gedacht': 1322, 'brauch': 1323, 'also': 1324, 'hinterfragen': 1325, 'dummheit': 1326, 'idioten': 1327, 'sollte': 1328, 'woher': 1329, 'gefangenen': 1330, 'isis': 1331, 'elite': 1332, 'eil': 1333, 'regie': 1334, 'auslaender': 1335, 'muesst': 1336, 'zerstoeren': 1337, 'pass': 1338, 'impo': 1339, 'jugend': 1340, 'drogen': 1341, 'akzeptie': 1342, 'kamera': 1343, 'stelle': 1344, 'definition': 1345, 'noetig': 1346, 'haltung': 1347, 'naechste': 1348, 'leisten': 1349, 'klimaschutz': 1350, 'kritisch': 1351, 'empfehle': 1352, 'ueberzeugen': 1353, 'mio': 1354, 'fuehlt': 1355, 'tradition': 1356, 'heutige': 1357, 'don': 1358, 'gefahren': 1359, 'weise': 1360, 'weisse': 1361, 'verfolgt': 1362, 'eindeutig': 1363, 'gernor': 1364, 'offeln': 1365, 'handeln': 1366, 'lebt': 1367, 'punk': 1368, 'beendet': 1369, 'haltet': 1370, 'antifanrw': 1371, 'niewieder': 1372, 'gestalten': 1373, 'accounts': 1374, '29': 1375, 'meldet': 1376, 'gruesse': 1377, 'ac': 1378, 'faschos': 1379, 'raeumung': 1380, '2000': 1381, 'aktivisten': 1382, '1000': 1383, 'genommen': 1384, 'hambicamp': 1385, 'gebraucht': 1386, 'kaffee': 1387, 'gibts': 1388, 'wuenschen': 1389, 'bieten': 1390, 'sowie': 1391, 'zeichen': 1392, 'ga': 1393, 'solange': 1394, 'lust': 1395, 'live': 1396, 'npd': 1397, 'migration': 1398, 'fo': 1399, 'ku': 1400, 'denkt': 1401, 'entfernt': 1402, 'kotzen': 1403, '0001f605': 1404, 'mdb': 1405, 'aktuellen': 1406, 'ueble': 1407, 'grosser': 1408, 'halte': 1409, 'legt': 1410, 'spaeter': 1411, 'merkwuerdig': 1412, 'dachte': 1413, 'liegen': 1414, '0001f44c': 1415, 'sohn': 1416, 'folge': 1417, 'ziele': 1418, 'team': 1419, 'uebe': 1420, 'erreichen': 1421, 'schwarze': 1422, 'humor': 1423, 'schule': 1424, 'fahrrad': 1425, 'oder': 1426, 'chef': 1427, 'stueck': 1428, 'schuetzen': 1429, 'fuelinup': 1430, 'fresse': 1431, 'liste': 1432, 'loesung': 1433, 'sternenrot': 1434, 'spinner': 1435, 'ruhrbarone': 1436, 'komisch': 1437, 'meinungsfreiheit': 1438, 'quote': 1439, 'hannover': 1440, '66norweger66': 1441, 'zeitung': 1442, 'falschen': 1443, 'alles': 1444, 'deutschlands': 1445, 'hetze': 1446, 'lehrer': 1447, 'sprache': 1448, 'passen': 1449, 'wagenknecht': 1450, 'jemals': 1451, 'akk': 1452, 'demokratisch': 1453, 'reich': 1454, 'armes': 1455, 'pisser': 1456, 'abgehalfte': 1457, 'feie': 1458, 'mir': 1459, 'interessieren': 1460, 'beleidigt': 1461, 'storch': 1462, 'toleranz': 1463, 'dlfnachrichten': 1464, 'uebel': 1465, 'bunt': 1466, '60': 1467, 'lieb': 1468, 'suess': 1469, 'werfen': 1470, 'bezeichnen': 1471, 'maassenmussweg': 1472, 'polizeisachsen': 1473, 'studium': 1474, 'locker': 1475, 'hahaha': 1476, 'schlimme': 1477, 'heutejournal': 1478, 'heinrichludger': 1479, 'aha': 1480, 'sandra2519691': 1481, 'straftat': 1482, '0001f595': 1483, 'ligurrio': 1484, 'hain': 1485, 'blod': 1486, 'mitarbeiter': 1487, 'puenktlich': 1488, 'berge': 1489, 'demokratischen': 1490, '2017': 1491, 'oeffentlichkeit': 1492, 'seien': 1493, 'verfassung': 1494, 'gewaltdiktatur': 1495, 'politclowns': 1496, 'mud': 1497, 'bloedsinn': 1498, 'gescheite': 1499, 'mrmontybrogan': 1500, 'hauptbahnhof': 1501, 'refugees': 1502, '18nulldrei': 1503, 'wichtiger': 1504, 'obwohl': 1505, 'militaer': 1506, 'besuch': 1507, 'aufhoeren': 1508, 'holen': 1509, 'std': 1510, 'russen': 1511, 'bewegung': 1512, 'lieben': 1513, 'gesetzt': 1514, 'gesamte': 1515, 'abschaum': 1516, 'fb': 1517, 'denn': 1518, 'fressen': 1519, 'kommentar': 1520, 'bloed': 1521, 'moerder': 1522, 'kanzlerin': 1523, 'schwachsinn': 1524, 'rassist': 1525, 'nur': 1526, 'bundeswehr': 1527, 'bereit': 1528, 'revolution': 1529, 'europaeische': 1530, 'google': 1531, 'beobachten': 1532, 'schliesslich': 1533, 'zionisten': 1534, 'ausschliesslich': 1535, 'steuerzahler': 1536, 'oben': 1537, 'waren': 1538, 'akifpirincci': 1539, 'schlicht': 1540, 'sogenannten': 1541, 'wahlkampf': 1542, 'ruecken': 1543, 'redet': 1544, 'michel': 1545, 'herum': 1546, 'pr': 1547, 'vorstellen': 1548, 'dummen': 1549, 'masse': 1550, 'auggcaggaauaugu': 1551, 'irgendwelche': 1552, 'beteiligt': 1553, 'rufen': 1554, 'angekommen': 1555, '500': 1556, 'gewinnen': 1557, 'scheinen': 1558, 'behauptet': 1559, 'schafft': 1560, 'aufmerksamkeit': 1561, 'beteiligen': 1562, 'gegangen': 1563, '400': 1564, 'wusste': 1565, 'allgemein': 1566, 'laengst': 1567, 'teams': 1568, 'info': 1569, 'handball': 1570, 'kommst': 1571, 'gerichtet': 1572, 'konnten': 1573, 'ukraine': 1574, 'harry': 1575, 'gesinnung': 1576, 'gewaehlt': 1577, 'hoecke': 1578, 'desto': 1579, 'frankenberger': 1580, 'vie': 1581, 'redebeitrag': 1582, 'mai': 1583, 'gehalten': 1584, 'trotz': 1585, 'anreise': 1586, 'melden': 1587, 'motto': 1588, 'mahnwache': 1589, 'acgesa': 1590, 'um': 1591, 'blocken': 1592, 'still': 1593, 'schliessen': 1594, 'hreul': 1595, '800': 1596, 'minute': 1597, 'g': 1598, 'ansonsten': 1599, 'sichere': 1600, 'mittwoch': 1601, 'musik': 1602, 'tod': 1603, 'teufel': 1604, 'di': 1605, 'film': 1606, 'vorm': 1607, 'be': 1608, 'linnich': 1609, 'nachmittag': 1610, 'dueren': 1611, 'aktuelle': 1612, 'ea': 1613, 'arschloecher': 1614, 'waer': 1615, 'moege': 1616, 'beides': 1617, 'moeglichkeit': 1618, 'ausserdem': 1619, 'ideen': 1620, 'stark': 1621, 'konservative': 1622, 'schweiz': 1623, 'eitag': 1624, 'sz': 1625, 'durchaus': 1626, 'indulig': 1627, 'delegie': 1628, 'thread': 1629, 'leradiophare': 1630, 'plattform': 1631, 'dok': 1632, 'tagen': 1633, 'btw': 1634, 'verhalten': 1635, 'meint': 1636, 'reter': 1637, 'wem': 1638, 'bilder': 1639, 'gewesen': 1640, 'autobahn': 1641, 'komplett': 1642, 'wisst': 1643, 'geschafft': 1644, 'gruenden': 1645, 'vier': 1646, 'ragen': 1647, 'aufstehen': 1648, 'willst': 1649, 'sachen': 1650, 'dermassen': 1651, 'tazgezwitscher': 1652, 'zaehlen': 1653, 'glaub': 1654, 'witz': 1655, 'leid': 1656, 'kantholz': 1657, 'nummer': 1658, 'blog': 1659, 'naemlich': 1660, 'auseinander': 1661, 'sowieso': 1662, 'hassen': 1663, 'forde': 1664, 'weh': 1665, 'schlipztrega': 1666, 'berichten': 1667, 'maul': 1668, 'gez': 1669, 'bist': 1670, 'jwinkelv': 1671, 'wissenschaft': 1672, 'quelle': 1673, 'sinne': 1674, 'gutmenschen': 1675, 'bashing': 1676, 'rstrohmi': 1677, 'tichyseinblick': 1678, 'liche': 1679, 'halbgebildeten': 1680, 'verfolgen': 1681, 'menschheit': 1682, 'dushanwegner': 1683, 'bezeichnet': 1684, 'berliner': 1685, 'beitrag': 1686, 'tragen': 1687, 'rolandtichy': 1688, 'ansichten': 1689, 'eilen': 1690, 'gefragt': 1691, 'arm': 1692, 'tolle': 1693, 'chance': 1694, 'lawyerberlin': 1695, 'empoe': 1696, 'goeringeckardt': 1697, 'club': 1698, 'moegen': 1699, 'scheissen': 1700, 'sommer': 1701, 'dicht': 1702, 'vorne': 1703, 'find': 1704, 'bloss': 1705, 'hab': 1706, 'blut': 1707, 'weisst': 1708, 'saal': 1709, 'tagesspiegel': 1710, 'geil': 1711, 'gesund': 1712, 'zuviel': 1713, 'grenzwe': 1714, 'maischberger': 1715, 'eier': 1716, 'daemlich': 1717, 'verkehr': 1718, 'abgeordneten': 1719, 'strassen': 1720, 'unten': 1721, 'aehnlich': 1722, 'korrupten': 1723, 'gtzfrmming': 1724, 'ingolstadt': 1725, 'fisch001': 1726, 'e13kiki': 1727, 'uk': 1728, 'dummfick': 1729, 'nae': 1730, 'jahrzehnten': 1731, 'jusos': 1732, 'sozial': 1733, 'erkannt': 1734, 'hatte': 1735, 'kabra66': 1736, 'gesetze': 1737, 'billiger': 1738, 'ploetzlich': 1739, 'kurdistan': 1740, 'meldungen': 1741, '0001f623': 1742, '0001f616': 1743, 'sicaminou': 1744, 'jobs': 1745, 'schaftlich': 1746, 'treiben': 1747, 'verbrechen': 1748, 'breite': 1749, 'faschist': 1750, 'faz': 1751, 'erklaeren': 1752, 'verbreitet': 1753, 'sauhaufen': 1754, 'expo': 1755, 'verbrecherbande': 1756, 'mindestlohn': 1757, 'wahlfarce': 1758, 'mrd': 1759, 'putsch': 1760, 'menschenverachtenden': 1761, 'niemanden': 1762, 'mahnmal': 1763, 'faschistische': 1764, 'net': 1765, 'freiwildjaeger': 1766, 'solidarisch': 1767, 'kiel': 1768, 'theweirdgerman': 1769, 'theriver2010': 1770, 'verlage': 1771, 'iz': 1772, 'massaker': 1773, 'korrupt': 1774, 'erscheinen': 1775, 'regierungen': 1776, 'massenmoerder': 1777, 'verdammten': 1778, 'jesus': 1779, 'langen': 1780, 'schickt': 1781, 'aussehen': 1782, 'fuehrung': 1783, 'passieren': 1784, 'wieso': 1785, 'flucht': 1786, 'fallen': 1787, 'mitteln': 1788, 'anfangen': 1789, 'verfahren': 1790, 'nun': 1791, 'gelassen': 1792, 'gesteue': 1793, 'diskutie': 1794, 'frank': 1795, 'eilt': 1796, 'muell': 1797, 'bnd': 1798, 'geistig': 1799, 'gesper': 1800, 'friedlich': 1801, 'verletzt': 1802, 'fluechtlingen': 1803, 'entschieden': 1804, 'politikstube': 1805, 'wohnen': 1806, 'schoene': 1807, 'rechtfe': 1808, 'kriminell': 1809, 'stimmen': 1810, 'eintritt': 1811, 'gegensatz': 1812, 'wand': 1813, 'thomas': 1814, 'tilojung': 1815, 'panik': 1816, 'steuern': 1817, 'hoffen': 1818, 'bezueglich': 1819, 'einladen': 1820, 'instrumentalisierung': 1821, 'auswae': 1822, 'spielen': 1823, 'moechten': 1824, 'schlechte': 1825, 'gesorgt': 1826, 'nuetzt': 1827, 'sicht': 1828, 'atomic': 1829, 'ranch': 1830, 'gefunden': 1831, 'grenze': 1832, 'persoenlichen': 1833, 'froh': 1834, 'aussagen': 1835, 'ardde': 1836, 'rat': 1837, 'weisen': 1838, 'planeten': 1839, 'klappe': 1840, 'ze': 1841, 'jahrhunde': 1842, 'aufgabe': 1843, 'aktiv': 1844, 'expe': 1845, 'beu': 1846, 'dahinter': 1847, 'machst': 1848, 'gemeinsame': 1849, 'wichtigste': 1850, 'glaubst': 1851, 'chavez': 1852, 'reihe': 1853, 'plan': 1854, 'droht': 1855, 'singen': 1856, 'reaktionen': 1857, 'volkes': 1858, 'wagen': 1859, 'putin': 1860, 'bedroht': 1861, 'wolf': 1862, 'palaestinenser': 1863, 'prinz': 1864, 'uebernehmen': 1865, 'mitte': 1866, 'opposition': 1867, 'kommentare': 1868, 'hh': 1869, 'metal': 1870, '120': 1871, 'fotos': 1872, 'bewegt': 1873, 'el': 1874, '55': 1875, 'elisenbrunnen': 1876, 'wg': 1877, 'polizeigewalt': 1878, 'anschluss': 1879, 'anlaesslich': 1880, 'hasi': 1881, 'kunst': 1882, 'lernen': 1883, 'endegelaende': 1884, '02': 1885, 'festnahmen': 1886, 'bereich': 1887, 'andere': 1888, 'mi': 1889, 'not': 1890, 'freuen': 1891, 'rodung': 1892, 'forst': 1893, 'stop': 1894, 'are': 1895, 'for': 1896, '03': 1897, 'freut': 1898, 'kriegen': 1899, 'roten': 1900, 'beginnt': 1901, 'dienstag': 1902, 'verfuegung': 1903, 'schaut': 1904, 'forderung': 1905, '07': 1906, 'geraeumt': 1907, 'organisie': 1908, 'aktionen': 1909, 'follower': 1910, '34': 1911, 'groessten': 1912, 'li2606': 1913, 'regen': 1914, 'redner': 1915, 'netz': 1916, 'laden': 1917, 'absurd': 1918, 'angriff': 1919, 'bier': 1920, 'uebrigen': 1921, 'sinnlos': 1922, 'hauptsache': 1923, 'fuehlen': 1924, '0001f60f': 1925, 'rainerzufall': 1926, 'gleichzeitig': 1927, 'freude': 1928, 'achtung': 1929, 'gaeste': 1930, 'hmm': 1931, 'erinne': 1932, 'ost': 1933, 'schwierig': 1934, 'hehe': 1935, 'traeume': 1936, 'kam': 1937, 'gutes': 1938, 'fliege': 1939, 'merken': 1940, 'bescheue': 1941, 'trifft': 1942, 'insgesamt': 1943, 'erneut': 1944, 'arbeitnehmer': 1945, 'satire': 1946, 'ignorieren': 1947, 'brandt': 1948, '0001f620': 1949, 'mtb': 1950, 'wald': 1951, 'faeh': 1952, 'naechstes': 1953, 'link': 1954, 'wasser': 1955, 'gewinnt': 1956, 'laecheln': 1957, 'gebe': 1958, 'noe': 1959, 'veganer': 1960, 'thorste1499': 1961, 'selten': 1962, 'hackerangriff': 1963, 'schreibst': 1964, 'sau': 1965, 'ff': 1966, 'ging': 1967, 'geraet': 1968, 'frohes': 1969, 'pfefferspray': 1970, 'ueberleben': 1971, 'video': 1972, 'jemanden': 1973, 'kennen': 1974, 'kannste': 1975, 'gehalt': 1976, 'siehst': 1977, 'gamerleaksde': 1978, 'gamer': 1979, 'jahres': 1980, 'eins': 1981, 'eigentliche': 1982, 'beleidigen': 1983, 'journalismus': 1984, 'ueberfall': 1985, 'quoten': 1986, 'quatsch': 1987, 'bessere': 1988, 'alicewo18626168': 1989, 'figur': 1990, 'michaimpress': 1991, 'befuerchte': 1992, '80': 1993, 'ard': 1994, 'moderator': 1995, 'seyfe': 1996, 'mutig': 1997, 'politikern': 1998, 'khinnek': 1999, 'bernd471': 2000, 'gelungen': 2001, 'bewiesen': 2002, 'moralisch': 2003, 'empfaenger': 2004, 'schweigen': 2005, 'unglaublich': 2006, 'merdeux': 2007, 'miteinander': 2008, 'luegenpresse': 2009, 'organisationen': 2010, 'arzt': 2011, 'mariacron': 2012, 'maedels': 2013, 'fett': 2014, 'kalt': 2015, 'winter': 2016, 'telekom': 2017, 'absingen': 2018, 'griesonalhymne': 2019, 'schlabberfotzen': 2020, 'absatz': 2021, 'ficken': 2022, 'fuesse': 2023, 'stand': 2024, 'richtigen': 2025, 'tief': 2026, 'new': 2027, 'nich': 2028, 'lediglich': 2029, 'doll': 2030, 'erkenntnis': 2031, 'donalphonso': 2032, 'nachdenken': 2033, 'stoeren': 2034, 'wunder': 2035, 'vermutlich': 2036, 'internationalen': 2037, 'demokraten': 2038, 'klientel': 2039, 'tl': 2040, 'afdnazis': 2041, 'bremen': 2042, 'anderswo': 2043, 'lexluthorisrich': 2044, 'gucken': 2045, 'neuer': 2046, 'satirianexe': 2047, 'linksfaschisten': 2048, 'kreatur': 2049, 'untergang': 2050, 'kranken': 2051, 'hasst': 2052, 'sibirien': 2053, 'georg': 2054, 'pazderski': 2055, 'sender': 2056, 'irrer': 2057, 'freunden': 2058, 'bewegen': 2059, 'selbstverstaendlich': 2060, 'luft': 2061, 'daten': 2062, 'medikamente': 2063, 'bauknecht': 2064, 'verbreiten': 2065, 'reine': 2066, 'meinst': 2067, 'baer': 2068, 'nachts': 2069, 'teilen': 2070, 'sarah': 2071, 'peter': 2072, '31': 2073, 'tipp': 2074, 'plus': 2075, 'ale': 2076, 'fckafd': 2077, 'boesen': 2078, 'angebot': 2079, 'name': 2080, 'ralle': 2081, 'versteht': 2082, 'blitzbirne': 2083, 'hoffnung': 2084, '0001f600': 2085, 'tote': 2086, 'katarinabarley': 2087, 'toeten': 2088, 'herrn': 2089, 'zukarolinger': 2090, 'europaeischstaemmige': 2091, 'speziell': 2092, 'nahezu': 2093, 'menschenrechte': 2094, 'erhaelt': 2095, '0001f60d': 2096, 'dielinke': 2097, 'weil': 2098, 'francismalevil': 2099, 'pippilotta14': 2100, 'anarchie': 2101, 'schwarzr0t': 2102, 'willkommen': 2103, '2015': 2104, 'oho': 2105, 'grundsaetzlich': 2106, 'garioncoyote': 2107, 'linie': 2108, 'beantwo': 2109, 'nicolediekmann': 2110, 'mpkretschmer': 2111, 'klingt': 2112, 'zerschlagung': 2113, 'rente': 2114, 'ansicht': 2115, 'may': 2116, 'vorsitzender': 2117, 'weiteren': 2118, 'kurdischen': 2119, 'terror': 2120, '25ab': 2121, 'sogenannte': 2122, 'grossbritannien': 2123, 'verhaengt': 2124, 'pip': 2125, 'referendum': 2126, 'ami': 2127, 'persoenlich': 2128, 'einsatz': 2129, '6ukorj8h0b623px': 2130, 'finanzie': 2131, 'change': 2132, 'mdr': 2133, 'menschenverachtende': 2134, 'geputscht': 2135, 'kommunistischen': 2136, 'putschisten': 2137, 'witzig': 2138, 'zuruecktreten': 2139, 'ulfposh': 2140, 'haldewang': 2141, 'unrecht': 2142, 'linksdrehenden': 2143, 'kommunismus': 2144, 'andyrahim2': 2145, 'thegroundhogcan': 2146, 'ns': 2147, 'vbtorsten': 2148, 'dummesindimmermehr': 2149, 'daimagm': 2150, 'waszumelden': 2151, 'grade': 2152, 'hardbeat3': 2153, 'pausbaeckchen': 2154, 'scheisz': 2155, 'otto': 2156, 'thunderpure': 2157, 'francogoethe': 2158, 'kita': 2159, 'morshoch': 2160, 'conny': 2161, 'asf': 2162, 'verletzte': 2163, 'zitat': 2164, 'demonstranten': 2165, 'umsganze': 2166, 'wien': 2167, 'demonstrantinnen': 2168, '0001f922': 2169, 'baerbock': 2170, 'herbe': 2171, 'kelle': 2172, 'sanddrn': 2173, '0001f44e': 2174, 'rechtsextremen': 2175, 'buchmesse': 2176, '0001f525': 2177, 'spaemann': 2178, 'gefluechtete': 2179, 'kaisersack': 2180, 'fragendiefehlen': 2181, 'hc': 2182, 'stoodt': 2183, 'ank': 2184, 'fleissig': 2185, 'wege': 2186, 'begriffen': 2187, 'japan': 2188, 'amerika': 2189, 'basis': 2190, 'abholen': 2191, 'holt': 2192, 'halb': 2193, 'begruendung': 2194, 'wohin': 2195, 'irgend': 2196, 'hinzu': 2197, 'betreibt': 2198, 'gegner': 2199, 'me': 2200, 'verdammte': 2201, 'verlogene': 2202, 'freie': 2203, 'gekauft': 2204, 'glueck': 2205, 'mittag': 2206, 'unverschaemt': 2207, 'verkaufen': 2208, 'abfallhaufen': 2209, 'fragt': 2210, 'prozess': 2211, 'offiziell': 2212, 'uebelste': 2213, 'geistige': 2214, 'voraus': 2215, 'iq': 2216, 'wofuer': 2217, 'kapital': 2218, 'gekaufte': 2219, 'lage': 2220, 'greift': 2221, 'dreckiger': 2222, 'fliegen': 2223, 'stufe': 2224, 'saufen': 2225, 'stattfinden': 2226, 'islamische': 2227, 'illegal': 2228, 'autos': 2229, 'getan': 2230, 'runter': 2231, 'willen': 2232, 'anfang': 2233, 'tuer': 2234, 'behandeln': 2235, 'westlichen': 2236, 'petrbystronafd': 2237, 'licht': 2238, 'womit': 2239, 'faellen': 2240, 'beispiele': 2241, 'muslimen': 2242, 'roland': 2243, 'echte': 2244, 'adolf': 2245, 'islamfeindlichkeit': 2246, 'janfleischhauer': 2247, 'geworfen': 2248, 'islamisten': 2249, 'alexjahns': 2250, 'ersetzen': 2251, 'bonn': 2252, 'begreifen': 2253, 'abgesehen': 2254, 'wieviel': 2255, 'drum': 2256, 'phase': 2257, 'abteilung': 2258, 'neuerdings': 2259, 'klima': 2260, 'malala': 2261, 'handelt': 2262, 'ntvde': 2263, 'lovefefee': 2264, 'jaehrigen': 2265, 'wieviele': 2266, 'berichtet': 2267, 'schlagen': 2268, 'reisst': 2269, 'koepfen': 2270, 'steinigen': 2271, 'bruder': 2272, 'teile': 2273, 'verwir': 2274, 'relativ': 2275, 'billig': 2276, 'tatsache': 2277, 'aufgeklae': 2278, 'haraldpetermann': 2279, 'emmycollects': 2280, 'weissen': 2281, 'jah': 2282, 'ebenfalls': 2283, 'ginge': 2284, 'stiefel': 2285, 'weiteres': 2286, 'dhb': 2287, 'erlebt': 2288, 'mannschaft': 2289, 'kanak68ers': 2290, 'brasilien': 2291, 'tuerkische': 2292, 'bestimmten': 2293, 'fan': 2294, 'jreichelt': 2295, 'opfern': 2296, 'guaido': 2297, 'kader': 2298, 'cia': 2299, 'kosten': 2300, 'schaftlichen': 2301, 'geleistet': 2302, 'aeusserungen': 2303, 'schaden': 2304, 'bernd': 2305, 'genaue': 2306, 'politisie': 2307, 'muenchen': 2308, 'aufbauen': 2309, 'lese': 2310, 'hallaschka': 2311, 'demonstrie': 2312, 'rechtsruck': 2313, 'zusammenhang': 2314, '44': 2315, 'revolutionaeren': 2316, 'stimmung': 2317, 'buechel': 2318, 'achtet': 2319, 'angesichts': 2320, 'sexismus': 2321, 'fussball': 2322, 'verzichten': 2323, 'hardcore': 2324, 'innenstadt': 2325, 'gelaende': 2326, 'mahnwachehambi': 2327, 'informie': 2328, 'solidarische': 2329, 'kaempfe': 2330, 'mob': 2331, 'psb': 2332, 'from': 2333, 'about': 2334, 'than': 2335, 'stay': 2336, 'hambacher': 2337, 'fehlen': 2338, '300': 2339, 'anschliessend': 2340, 'geplante': 2341, 'od': 2342, 'hambiea': 2343, 'wochen': 2344, 'interessante': 2345, 'welch': 2346, 'datum': 2347, 'ideale': 2348, 'open': 2349, '09': 2350, 'hunger': 2351, 'anschlag': 2352, 'hinweise': 2353, 'days': 2354, 'fight': 2355, 'waa': 2356, 'finger': 2357, 'kraefte': 2358, '2049': 2359, 'sponti': 2360, 'auswirkungen': 2361, 'erstaunlich': 2362, 'ziemlich': 2363, 'energie': 2364, 'angestellt': 2365, 'spahn': 2366, 'statistiken': 2367, '0001f921': 2368, 'taz': 2369, 'blogs': 2370, 'spaltung': 2371, 'veroeffentlicht': 2372, '0001f928': 2373, 'spdsachsen': 2374, 'liberal': 2375, 'existie': 2376, 'saetze': 2377, 'einfuehren': 2378, 'position': 2379, 'oeffentlichen': 2380, 'brauche': 2381, 'ausserhalb': 2382, 'effektiv': 2383, 'teilnehmer': 2384, 'innerhalb': 2385, 'gesichter': 2386, '2014': 2387, 'aufklaerung': 2388, 'eigener': 2389, 'dokleipzig': 2390, 'entsprechend': 2391, 'akt': 2392, 'sky': 2393, 'service': 2394, 'skyticketde': 2395, 'bestellen': 2396, 'ebenso': 2397, 'blase': 2398, 'johannesgrune': 2399, 'lohnt': 2400, 'ansatzweise': 2401, 'brechen': 2402, 'nachfragen': 2403, 'bauhaus': 2404, 'unpolitisch': 2405, '0001f3fc': 2406, 'dd2110': 2407, 'monate': 2408, 'woe': 2409, 'schlaegt': 2410, 'wirkungslos': 2411, '160': 2412, 'tritt': 2413, 'radfahrer': 2414, 'lady': 2415, 'hexe': 2416, 'allen': 2417, 'dschungelcamp': 2418, 'homie': 2419, '0001f4aa': 2420, 'guhelwi': 2421, 'fridaysforfuture': 2422, 'extra': 2423, 'teilweise': 2424, 'mehreren': 2425, 'starken': 2426, 'dritte': 2427, 'trinken': 2428, 'foto': 2429, '0001f3b6': 2430, 'och': 2431, 'man': 2432, 'dem': 2433, 'kittypunk7': 2434, 'erklaerung': 2435, 'stag': 2436, 'post': 2437, 'traegt': 2438, 'eigenes': 2439, 'hinten': 2440, 'einsetzen': 2441, 'erfahrungen': 2442, 'leise': 2443, 'huuuuiiiiii': 2444, 'scheite': 2445, 'neujahrsansprache': 2446, 'spenden': 2447, 'duerft': 2448, 'vorschreiben': 2449, 'radweg': 2450, 'generation': 2451, 'problematisch': 2452, 'wankelmut': 2453, 'ruft': 2454, 'achso': 2455, 'mich': 2456, 'teuer': 2457, 'mama': 2458, 'ernsthaft': 2459, 'iblali': 2460, 'geaeusse': 2461, 'debatte': 2462, 'stuetzt': 2463, 'ueberraschend': 2464, 'ordentliche': 2465, 'talkshows': 2466, 'zerstoe': 2467, 'behauptung': 2468, 'beweise': 2469, 'hingegen': 2470, 'stirn': 2471, 'geb': 2472, 'fick': 2473, 'teils': 2474, 'hugomuellervogg': 2475, 'claudia': 2476, 'tschonka': 2477, 'aufgeben': 2478, 'einstellung': 2479, 'parasiten': 2480, 'spitze': 2481, 'hetzer': 2482, 'kirchen': 2483, 'schlimmste': 2484, 'miriamozen': 2485, 'rudi': 2486, 'vergangenheit': 2487, 'kragen': 2488, 'ernten': 2489, 'behoerden': 2490, 'kauft': 2491, 'verhaeltnis': 2492, 'maennchen': 2493, 'achimw': 2494, 'hoere': 2495, 'nato': 2496, 'zusaetzlich': 2497, 'apatzwahl': 2498, 'sachlich': 2499, 'vorstellung': 2500, 'chaos': 2501, 'straftaten': 2502, 'figuren': 2503, 'dieter': 2504, 'suessen': 2505, 'geschichten': 2506, 'sehr': 2507, 'phoenix': 2508, 'polen': 2509, 'posten': 2510, 'schulz': 2511, 'weibern': 2512, 'sendung': 2513, 'dose': 2514, 'z4': 2515, 'einzig': 2516, 'wuetend': 2517, 'ohren': 2518, 'sch': 2519, 'rauen': 2520, 'buergern': 2521, 'geeignet': 2522, 'werde': 2523, 'geholfen': 2524, 'kapitalistischen': 2525, 'gewaltbereite': 2526, 'bestand': 2527, 'grobilixx1': 2528, 'haesslicher': 2529, 'binsenwombat': 2530, 'erstes': 2531, 'weiber': 2532, 'dicken': 2533, 'verfickte': 2534, 'ytalkhannah': 2535, 'entfolgt': 2536, 'wissenschaftler': 2537, 'binsenwombats': 2538, 'dicke': 2539, 'haesslich': 2540, 'nutten': 2541, 'veraende': 2542, 'po': 2543, 'nu': 2544, 'freunde': 2545, 'liest': 2546, 'nachrichten': 2547, 'zuerst': 2548, 'mimimi': 2549, 'form': 2550, 'york': 2551, 'sucht': 2552, 'dunkel': 2553, 'refugeeswelcome': 2554, 'liebsten': 2555, 'extrem': 2556, 'tat': 2557, 'braunen': 2558, 'verlassen': 2559, '219a': 2560, 'andischeuer': 2561, 'offel': 2562, 'geplant': 2563, 'daumen': 2564, 'bjoernhoecke': 2565, 'haeufig': 2566, 'pneumologen': 2567, 'loeschen': 2568, 'erkennt': 2569, 'ueblichen': 2570, 'aufruf': 2571, 'kontext': 2572, 'wirsindmehr': 2573, 'minderjaehrige': 2574, 'bio': 2575, 'frag': 2576, 'widerlich': 2577, 'regberlin': 2578, 'boden': 2579, 'omg': 2580, 'vt27kolt11': 2581, 'graf': 2582, 'fencheltee': 2583, 'geboten': 2584, 'schreit': 2585, 'scholz': 2586, 'tiere': 2587, 'heimat': 2588, 'verraeterin': 2589, 'siglo76': 2590, 'ex': 2591, 'dreckspack': 2592, 'wolfssanguis': 2593, 'monaten': 2594, 'beweisen': 2595, 'psycho': 2596, 'kalte': 2597, 'lach': 2598, 'norbe': 2599, 'uwe': 2600, 'mord': 2601, 'umbilicussuevia': 2602, 'lauter': 2603, 'gesiche': 2604, 'schande': 2605, 'nselbstdenker': 2606, 'belegen': 2607, 'quellen': 2608, 'phrasen': 2609, 'regel': 2610, 'vieles': 2611, 'rezimafia': 2612, 'feld': 2613, '0001f61a': 2614, 'langer': 2615, 'zentrale': 2616, 'insbesondere': 2617, 'einfluss': 2618, 'bolsonaro': 2619, 'klaeren': 2620, 'verhinde': 2621, 'fcknzs': 2622, 'seehofermussweg': 2623, 'kuehne': 2624, 'hingeschmissen': 2625, 'joseph': 2626, 'baeume': 2627, 'linksfraktion': 2628, 'hau': 2629, 'greta': 2630, 'lustige': 2631, 'vollgeschissene': 2632, 'menschenhaut': 2633, 'unwaehlbar': 2634, 'ordentlich': 2635, 'min': 2636, 'kommentie': 2637, 'haste': 2638, 'lowerclassmag': 2639, 'paulziemiak': 2640, 'sekte': 2641, 'cducsubt': 2642, 'clown': 2643, 'prinzip': 2644, 'bezahlen': 2645, 'hure': 2646, 'luegt': 2647, 'grossa': 2648, 'brandenburg': 2649, 'familien': 2650, 'ministerium': 2651, 'reagieren': 2652, 'marx': 2653, 'bolsheviken': 2654, 'tochter': 2655, 'relativierung': 2656, 'maske': 2657, 'uwek83442904': 2658, 'relativieren': 2659, 'blick': 2660, 'marleneschfer1': 2661, 'bezug': 2662, 'motiv': 2663, 'hd': 2664, 'schlaege': 2665, 'behinde': 2666, 'mutter': 2667, 'blockliste': 2668, 'alfred996': 2669, 'andreaswerwolf': 2670, 'meinen': 2671, '0001f607': 2672, 'satz': 2673, '2021': 2674, 'soviel': 2675, 'betreiben': 2676, 'kotzenderstern': 2677, 'als': 2678, 'berichterstattung': 2679, 'anti': 2680, 'renatekuenast': 2681, 'sprueche': 2682, 'sog': 2683, 'halbwegs': 2684, 'antifaschismus': 2685, 'sagte': 2686, 'sonne': 2687, 'natalieamiri': 2688, 'busse': 2689, 'toten': 2690, 'reisen': 2691, 'verlorenen': 2692, 'verhandlungen': 2693, 'schulen': 2694, 'minderheiten': 2695, 'bericht': 2696, 'bayernspd': 2697, 'soros': 2698, 'eugh': 2699, 'abschaffen': 2700, 'kritisie': 2701, 'verschwinden': 2702, 'staatlichen': 2703, 'briten': 2704, 'kameras': 2705, 'experimente': 2706, 'wahlkreis': 2707, 'landtag': 2708, 'schwester': 2709, 'koelner': 2710, 'udostiehl': 2711, 'religioesen': 2712, 'termin': 2713, 'treffen': 2714, 'buergerliche': 2715, 'darunter': 2716, 'linksverwir': 2717, 'verzichtet': 2718, 'wohnungen': 2719, '2016': 2720, 'blockpa': 2721, 'darfst': 2722, 'deal': 2723, 'funktion': 2724, 'aerzte': 2725, 'irak': 2726, 'eckleben': 2727, 'freiheiten': 2728, 'rauben': 2729, 'stalinismus': 2730, 'anteil': 2731, 'kommunen': 2732, 'grandios': 2733, 'hermann3004': 2734, 'falsche': 2735, 'linksfaschistischen': 2736, 'gewaehlte': 2737, 'geheim': 2738, 'demnaechst': 2739, 'oer': 2740, 'bimbas': 2741, 'world': 2742, 'stimme': 2743, 'bla': 2744, 'provozieren': 2745, 'albrecht120': 2746, 'faschistischen': 2747, 'janick': 2748, 'klossner': 2749, 'infooetken': 2750, 'embato3': 2751, 'hasiichbin': 2752, 'sophiepassmann': 2753, 'user': 2754, 'nikonundnikotin': 2755, 'dieserroman': 2756, 'b0911': 2757, 'rosenmarmelade': 2758, 'penzonator': 2759, 'woelken': 2760, 'u98': 2761, 'durchgesetzt': 2762, 'spdeckernfoerde': 2763, 'blablajakob': 2764, 'ninascheer': 2765, 'tjax5': 2766, 'delarabur': 2767, 'tsghessen': 2768, 'programm': 2769, 'edrossmann': 2770, 'buergerinnen': 2771, 'atklauner': 2772, 'reichenbach': 2773, 'blockieren': 2774, 'bednarz': 2775, 'jva': 2776, 'kessel': 2777, 'goettingen': 2778, '95657426': 2779, 'plant': 2780, 'bockenheim': 2781, 'maron': 2782, 'kuestenkorsar': 2783, 'ehrung': 2784, 'twin': 2785, 'lengsfeld': 2786, 'birgit': 2787, 'ifs': 2788, '2639': 2789, 'kreiten': 2790, 'irma': 2791, 'vokue': 2792, 'nofragida': 2793, 'riseup': 2794, 'bezogen': 2795, 'jugendliche': 2796, 'verbloedete': 2797, 'charakter': 2798, 'billige': 2799, 'kueste': 2800, 'starb': 2801, 'amerikaner': 2802, 'aufgebaut': 2803, 'religionen': 2804, 'kuemme': 2805, 'profitie': 2806, 'gefaehrliche': 2807, 'vogel': 2808, 'dreckige': 2809, 'bezieht': 2810, 'transparent': 2811, 'machenschaften': 2812, 'chebli': 2813, 'betten': 2814, 'milliarden': 2815, 'firmen': 2816, 'haengt': 2817, 'solch': 2818, 'anders': 2819, 'schmidt': 2820, 'misthaufen': 2821, 'definiere': 2822, 'kerl': 2823, 'zuckungen': 2824, 'schrott': 2825, 'knueppeln': 2826, 'kindergeld': 2827, 'baby': 2828, 'ausgeht': 2829, 'marionette': 2830, 'drueber': 2831, 'binden': 2832, 'monster': 2833, 'afdimbundestag': 2834, 'alt': 2835, 'christian': 2836, 'tode': 2837, 'pak': 2838, 'zeug': 2839, 'fake': 2840, 'bundesland': 2841, 'amberg': 2842, 'schweigt': 2843, 'vorbilder': 2844, 'kriege': 2845, 'reichste': 2846, 'photo': 2847, 'schwanz': 2848, 'studie': 2849, 'swagenknecht': 2850, 'kaufen': 2851, 'kulturen': 2852, 'leichter': 2853, 'waffe': 2854, 'siehe': 2855, 'afghanistan': 2856, 'polizisten': 2857, 'gerichtshof': 2858, 'gefuehl': 2859, 'genuegt': 2860, 'uebernimmt': 2861, 'scheissbayernmuenchen': 2862, 'dienen': 2863, 'assad': 2864, 'engagement': 2865, 'sparen': 2866, 'kali': 2867, 'yuga': 2868, 'sepp': 2869, 'selbstueberschaetzung': 2870, 'sachliche': 2871, 'pauldhonest': 2872, 'medzeraj': 2873, 'besseren': 2874, 'bestaetigt': 2875, 'igesamt': 2876, 'waffen': 2877, 'zunaechst': 2878, 'geschaeft': 2879, 'loben': 2880, 'antisemitische': 2881, 'zuhause': 2882, 'agenda': 2883, 'hetzen': 2884, 'rieben': 2885, 'ermordet': 2886, 'voelkermord': 2887, 'normale': 2888, 'abwa': 2889, 'alltag': 2890, 'wagt': 2891, 'ihre': 2892, 'umsonst': 2893, 'angriffe': 2894, 'bt': 2895, 'uebrig': 2896, 'domin': 2897, 'ede': 2898, 'faznet': 2899, 'angesprochen': 2900, 'maerchen': 2901, 'oeko': 2902, 'gewissen': 2903, 'vergeht': 2904, 'ruf': 2905, 'gas': 2906, 'profitorientie': 2907, 'anschauen': 2908, 'rettet': 2909, 'wilhardww': 2910, 'bereiche': 2911, 'aendern': 2912, 'befindet': 2913, 'diffamieren': 2914, 'angeht': 2915, 'islamismus': 2916, 'spektrum': 2917, 'have': 2918, 'googeln': 2919, 'sorgt': 2920, 'farben': 2921, 'bayer': 2922, 'christlichen': 2923, 'weremember': 2924, 'obermeier': 2925, 'lager': 2926, 'unschuldige': 2927, 'ichbinkoelnerin': 2928, 'unterscheidet': 2929, 'beweis': 2930, 'spiele': 2931, 'tor': 2932, 'fans': 2933, 'wm': 2934, 'jan': 2935, 'grindel': 2936, 'suendenbock': 2937, 'kollektiv': 2938, 'halle': 2939, 'zustaendig': 2940, 'rechtzeitig': 2941, 'lautet': 2942, 'bravo': 2943, 'wwf': 2944, 'menge': 2945, 'wohle': 2946, 'judenfeindlichkeit': 2947, 'interessen': 2948, 'moralische': 2949, 'pseudo': 2950, 'heuchelei': 2951, 'umzusetzen': 2952, 'wunsch': 2953, 'mehrheitlich': 2954, 'lachen': 2955, 'nutzt': 2956, 'rechtlichen': 2957, 'grossteil': 2958, 'radikalen': 2959, 'dar': 2960, 'vorwurf': 2961, 'schuldkult': 2962, 'gelten': 2963, 'gedenkveranstaltung': 2964, 'unterscheiden': 2965, 'moskau': 2966, 'tropical': 2967, 'machine': 2968, 'lecker': 2969, 'neumarkt': 2970, 'weiterer': 2971, 'normaluhr': 2972, 'nopolgnrw': 2973, 'hoelle': 2974, 'antifaschistische': 2975, 'strukturen': 2976, 'empfehlen': 2977, 'timestamps': 2978, 'demonstrieren': 2979, 'antifaschist': 2980, 'moeglichst': 2981, 'schnelle': 2982, 'genutzt': 2983, 'fotzen': 2984, 'generell': 2985, 'halloween': 2986, 'wo': 2987, 'em': 2988, 'aufkommen': 2989, 'deppen': 2990, 'verschnaufpause': 2991, 'manheim': 2992, 'festival': 2993, 'wow': 2994, 'racism': 2995, 'tollen': 2996, 'diskursiv': 2997, 'polizeipraesidium': 2998, 'bar': 2999, 'mitverantwo': 3000, 'forest': 3001, 'on': 3002, 'genoss': 3003, 'ruecktritt': 3004, 'stopp': 3005, '32': 3006, 'mittw': 3007, 'moenchengladbach': 3008, 'moment': 3009, 'fah': 3010, 'couch': 3011, 'teller': 3012, '33': 3013, 'staerkung': 3014, 'getraenk': 3015, '05': 3016, 'getraenke': 3017, 'erhalten': 3018, 'demonstration': 3019, 'rodungsstopp': 3020, 'sommerpause': 3021, 'seenotrettung': 3022, 'dub': 3023, 'entstanden': 3024, 'haeuser': 3025, 'juli': 3026, 'iii': 3027, 'music': 3028, '35': 3029, 'april': 3030, 'herzlich': 3031, 'god': 3032, 'hard': 3033, 'damn': 3034, 'gabberwitch': 3035, 'meldung': 3036, 'rechtsrock': 3037, 'vorhin': 3038, 'umfeld': 3039, 'you': 3040, 'kuendigen': 3041, 'aufmarsch': 3042, 'kleidung': 3043, 'alexander': 3044, 'legida': 3045, 'treffpkt': 3046, 'bahnhof': 3047, 'termine': 3048, 'nice': 3049, 'razzien': 3050, 'gehn': 3051, 'va': 3052, 'oeffnen': 3053, 'besucher': 3054, 'malmedy': 3055, 'ua': 3056, 'marsch': 3057, 'nopegida': 3058, 'tivoli': 3059, 'tee': 3060, 'sitze': 3061, 'saechsischen': 3062, 'mdl': 3063, '0001f62c': 3064, '0001f601': 3065, 'stattdessen': 3066, 'herkunft': 3067, 'verhaeltnisse': 3068, 'gedanke': 3069, 'gesellschaftlichen': 3070, 'what': 3071, 'gruende': 3072, 'einfache': 3073, 'suche': 3074, 'hach': 3075, '70': 3076, 'recherche': 3077, 'ergeben': 3078, '0001f612': 3079, 'buehne': 3080, 'mittel': 3081, 'entscheiden': 3082, 'linker': 3083, 'endet': 3084, 'ritt': 3085, 'verstehst': 3086, 'ding': 3087, 'inhalte': 3088, 'david': 3089, 'patriotischen': 3090, 'vorschlaege': 3091, 'debatten': 3092, 'ib': 3093, 'webseite': 3094, 'rassistischen': 3095, 'konzept': 3096, 'witze': 3097, 'herzstatthetze': 3098, 'landespa': 3099, 'wohnung': 3100, 'putzen': 3101, 'spontan': 3102, 'tool': 3103, 'halbe': 3104, 'jeweiligen': 3105, 'interesse': 3106, 'bewusstsein': 3107, 'eklig': 3108, 'dessau': 3109, 'eine': 3110, 'gewerkschaften': 3111, '270c': 3112, 'huebschen': 3113, 'grunde': 3114, 'willy': 3115, 'barley': 3116, 'solltet': 3117, 'raeumen': 3118, 'neee': 3119, 'andersrum': 3120, 'nasty242': 3121, 'lichen': 3122, 'vollidiot': 3123, 'maximal': 3124, 'angela': 3125, 'draus': 3126, 'machste': 3127, '0001f631': 3128, 'gucke': 3129, 'gelaufen': 3130, 'strong': 3131, 'healthy': 3132, 'out': 3133, 'energy': 3134, 'regnet': 3135, 'miracle': 3136, 'morning': 3137, 'dahin': 3138, '0001f603': 3139, 'jeglicher': 3140, 'hinsicht': 3141, 'zahl': 3142, 'allianz': 3143, 'erfahren': 3144, 'versicherung': 3145, 'auto': 3146, 'kfz': 3147, 'einwanderung': 3148, 'selbstmord': 3149, 'meter': 3150, 'komplette': 3151, 'seawatchcrew': 3152, 'motivie': 3153, 'anzeigen': 3154, 'verhandeln': 3155, 'gehirn': 3156, 'herzen': 3157, 'hinterher': 3158, 'gegend': 3159, 'umgeben': 3160, 'noodles': 3161, 'compact': 3162, 'mitglied': 3163, 'runde': 3164, 'staendig': 3165, 'jeden': 3166, 'stagerbn': 3167, 'widerwae': 3168, 'diejenigen': 3169, 'angeboten': 3170, 'geschlagen': 3171, 'wide': 3172, '0001f633': 3173, 'fantasie': 3174, 'diffamie': 3175, 'zitie': 3176, 'umgang': 3177, 'shitstorm': 3178, 'habecks': 3179, 'eintrag': 3180, 'loescht': 3181, 'social': 3182, 'frisch': 3183, 'gebt': 3184, 'bislang': 3185, 'ran': 3186, 'anrufen': 3187, '6000': 3188, 'beantragen': 3189, 'gesundheit': 3190, 'zaehlt': 3191, 'garantie': 3192, 'waffenschein': 3193, 'guck': 3194, 'jubelt': 3195, 'gelbe': 3196, 'politischer': 3197, 'kaputt': 3198, 'diskussionen': 3199, 'kritischen': 3200, 'echter': 3201, 'fremdschaemen': 3202, 'instagram': 3203, 'tbh': 3204, 'ziehe': 3205, 'innenminister': 3206, 'koerper': 3207, 'real': 3208, 'sexisten': 3209, 'youtube': 3210, 'verstecken': 3211, 'extremistische': 3212, 'argumentation': 3213, 'gelogen': 3214, 'dpa': 3215, 'geglaubt': 3216, 'unterlagen': 3217, 'beigebracht': 3218, 'zeig': 3219, 'erfaeh': 3220, 'generationen': 3221, 'aeussern': 3222, 'anderes': 3223, 'unfug': 3224, 'objektiv': 3225, 'konzernen': 3226, 'konzerne': 3227, 'einfacher': 3228, 'perfekte': 3229, 'aufzuklaeren': 3230, 'studien': 3231, 'weltweit': 3232, 'ungefaehr': 3233, 'beteiligung': 3234, 'umwelt': 3235, 'vernichtung': 3236, 'rechtlich': 3237, 'leh': 3238, 'naiven': 3239, 'aufschrei': 3240, 'einseitige': 3241, 'louiecrit': 3242, 'langweilig': 3243, 'leistung': 3244, 'wirre': 3245, 'fern': 3246, 'verboh': 3247, 'heit': 3248, 'feind': 3249, 'sarrazin': 3250, 'anmassung': 3251, 'lebe': 3252, 'moralduenkel': 3253, 'platzt': 3254, 'beleidigung': 3255, 'wind': 3256, 'saet': 3257, 'sirschnee': 3258, 'liesche13761429': 3259, 'sanktionie': 3260, 'riesige': 3261, 'suseschmitt': 3262, 'erzeugt': 3263, 'geschwaetz': 3264, 'tier': 3265, 'natur': 3266, 'eddie': 3267, '1412': 3268, 'achimspiegel': 3269, 'roth': 3270, 'denkfaulheit': 3271, 'schiesst': 3272, 'stehst': 3273, 'nach': 3274, 'handel': 3275, 'kreaturen': 3276, 'gottes': 3277, 'sendungen': 3278, 'handy': 3279, 'totale': 3280, 'tagesthemen': 3281, 'gestorben': 3282, 'arroganz': 3283, 'bewe': 3284, 'rotwein': 3285, 'forum': 3286, 'reis': 3287, 'stein': 3288, 'asyl': 3289, 'georgrestle': 3290, 'pube': 3291, 'offenen': 3292, 'geblieben': 3293, 'netzdenunziant': 3294, 'erfundenen': 3295, 'bedienen': 3296, 'publizistikon': 3297, 'jury': 3298, 'zustand': 3299, 'bekannte': 3300, 'alternativlose': 3301, 'ueben': 3302, 'ventil': 3303, 'compactmagazin': 3304, 'stbrandner': 3305, 'shakriet': 3306, 'personifizie': 3307, 'aufgewacht': 3308, 'beck': 3309, 'vernunft': 3310, 'demonstrationen': 3311, 'entlassen': 3312, 'regsprecher': 3313, 'reaktion': 3314, 'afdsalzgitterkv': 3315, 'horden': 3316, 'abschluss': 3317, 'ausbildung': 3318, 'diezeit': 3319, 'emotionale': 3320, 'diffamierung': 3321, 'aimanmazyek': 3322, 'schild': 3323, 'regeln': 3324, 'klug': 3325, 'verschwunden': 3326, 'journaille': 3327, 'personal': 3328, 'koeppelroger': 3329, 'faehig': 3330, 'abgelehnt': 3331, 'vereine': 3332, 'laendern': 3333, 'caicien': 3334, 'kommando': 3335, 'geretteten': 3336, 'gebrochen': 3337, 'provozie': 3338, 'christen': 3339, 'hobby': 3340, 'frigiden': 3341, 'touristen': 3342, 'heult': 3343, 'huehner': 3344, 'koerbchengroesse': 3345, 'kacken': 3346, 'riecht': 3347, 'heut': 3348, 'prost': 3349, 'etwas': 3350, 'verfluchte': 3351, 'haengen': 3352, 'verbraucht': 3353, 'besoffen': 3354, 'wollte': 3355, 'herz': 3356, 'schlaft': 3357, 'entweder': 3358, 'garnix': 3359, 'fickt': 3360, 'potter': 3361, 'einmal': 3362, 'dick': 3363, 'dera': 3364, 'kurze': 3365, 'aende': 3366, 'db': 3367, 'kritisieren': 3368, 'pissern': 3369, 'zimmer': 3370, 'sauber': 3371, 'berlinale': 3372, 'riechen': 3373, 'missbrauchen': 3374, 'dfacheck': 3375, 'schiebt': 3376, 'groesser': 3377, 'erleichte': 3378, 'positionen': 3379, 'reten': 3380, 'wirkungsvoll': 3381, 'dzienus': 3382, 'in': 3383, 'lies': 3384, 'gepruegelt': 3385, 'jahrzehnte': 3386, 'wirken': 3387, 'gutachten': 3388, 'klare': 3389, 'entscheidungen': 3390, 'tempolimit': 3391, 'scheuer': 3392, 'auspuff': 3393, 'autoindustrie': 3394, 'fakenews': 3395, 'automobilindustrie': 3396, 'internationale': 3397, 'fachleute': 3398, 'keineafd2017': 3399, 'faschistoiden': 3400, 'dennoch': 3401, 'duemmliche': 3402, 'franzosen': 3403, 'soeder': 3404, 'heulen': 3405, '2011': 3406, 'wut': 3407, 'bloede': 3408, 'wichser': 3409, 'kaeltebus': 3410, 'senias': 3411, 'andvaka': 3412, 'muede': 3413, 'inhalt': 3414, 'wobei': 3415, 'standards': 3416, 'seeheimer': 3417, 'kreis': 3418, 'markus': 3419, 'krause': 3420, 'parlamenten': 3421, 'schieben': 3422, 'vorsicht': 3423, 'moslem': 3424, 'nordkorea': 3425, 'verstaendlich': 3426, 'bestaetigen': 3427, 'assetskater72': 3428, 'rattenkopf24': 3429, 'vernichten': 3430, 'lutscher': 3431, 'bunten': 3432, 'bunter': 3433, 'republik': 3434, 'tierquaelerei': 3435, 'egon': 3436, 'dorge': 3437, 'djanecek': 3438, 'abgeht': 3439, 'ratten': 3440, 'komme': 3441, 'eliminieren': 3442, 'aufhoe': 3443, 'schreibe': 3444, 'graubaer1953': 3445, 'vernichtet': 3446, 'jo': 3447, 'staerker': 3448, 'seuche': 3449, 'mond': 3450, 'waende': 3451, 'dummer': 3452, 'pest': 3453, 'lache': 3454, 'maulwerker1': 3455, 'irre': 3456, 'buchstaben': 3457, 'gaebe': 3458, 'alexarusss': 3459, 'rburunki': 3460, 'schau': 3461, 'surdt': 3462, 'ticken': 3463, 'perfekt': 3464, 'entscheidung': 3465, 'bedenken': 3466, 'kochen': 3467, 'krankheiten': 3468, 'hotline': 3469, 'einer': 3470, 'unqualifizie': 3471, 'schiessen': 3472, 'elektriker': 3473, 'se': 3474, 'fakt': 3475, 'forschen': 3476, 'daue': 3477, 'diskutieren': 3478, 'angemessen': 3479, 'konkret': 3480, 'funktionieren': 3481, 'kuehlschrank': 3482, 'kumpel': 3483, 'kekse': 3484, '0schneggsch': 3485, 'muc': 3486, 'corinnelehfeldt': 3487, 'jedenfalls': 3488, 'vaters': 3489, 'erfahrung': 3490, 'professor': 3491, 'meinte': 3492, 'hoefe': 3493, 'vorstellungen': 3494, 'gaborhalasz1': 3495, 'gueha': 3496, 'alternative': 3497, 'nogroko': 3498, 'kevin': 3499, 'berufsausbildung': 3500, 'taugenichts': 3501, 'novelle': 3502, 'eichendorff': 3503, 'messermaenner': 3504, 'alimentieren': 3505, 'dummbatz': 3506, 'peteraltmaier': 3507, '0001f4a3': 3508, 'wirst': 3509, 'thomasreichelhb': 3510, 'netteliebe': 3511, 'hucke': 3512, 'blonde': 3513, 'saefken': 3514, 'maria': 3515, 'hiesigen': 3516, 'verraet': 3517, 'kritische': 3518, 'roll': 3519, 'eingestellt': 3520, 'keine': 3521, 'kufnuke': 3522, 'ansehen': 3523, 'wurdest': 3524, 'gezaehlt': 3525, 'kachelmann': 3526, 'reschke': 3527, 'zweifel': 3528, 'entlarvt': 3529, 'kollegen': 3530, 'staatsfunk': 3531, 'abhaengigkeit': 3532, 'doehnermann': 3533, 'magazin': 3534, 'werdet': 3535, 'giletsjaunes': 3536, 'interview': 3537, 'scheixxe': 3538, 'quotenmatronen': 3539, 'fliehen': 3540, 'unsinnig': 3541, 'fraktion': 3542, 'aufgefallen': 3543, 'unter': 3544, 'ossis': 3545, 'durchschauen': 3546, 'engagie': 3547, 'benutzt': 3548, 'weiblich': 3549, 'entgegen': 3550, 'moeglichkeiten': 3551, 'schoos76': 3552, 'einschaetzung': 3553, 'komplex': 3554, 'lokal': 3555, 'eis': 3556, 'trick': 3557, 'luege': 3558, 'diesbezueglich': 3559, 'betrueger': 3560, 'funktionaere': 3561, 'wohnt': 3562, 'haenden': 3563, 'signal': 3564, 'abgeschafft': 3565, 'bei': 3566, 'gans': 3567, 'nationen': 3568, 'davos': 3569, 'iges': 3570, 'richten': 3571, 'dient': 3572, 'ehe': 3573, 'eindruck': 3574, 'never': 3575, 'evers21': 3576, 'follow': 3577, 'schluessel': 3578, 'beguenstigung': 3579, 'riexinger': 3580, 'frauhoppensted1': 3581, 'oeffentliche': 3582, 'koenigreich': 3583, 'protesten': 3584, 'spalten': 3585, 'provokateur': 3586, 'ecksack': 3587, 'sarkasmus': 3588, 'imageschaden': 3589, 'menschenverachtend': 3590, 'spaetestens': 3591, 'besetzung': 3592, 'ironisch': 3593, 'angeben': 3594, 'doof': 3595, 'immerhin': 3596, 'bielefeld': 3597, '0001f382': 3598, 'hotel': 3599, 'oesterreich': 3600, 'lag': 3601, 'wat': 3602, 'infotweet': 3603, 'blatt': 3604, 'fundie': 3605, 'shi': 3606, 'reise': 3607, 'insofern': 3608, 'unangenehm': 3609, 'aet': 3610, 'jobcenter': 3611, 'soerenkohlhuber': 3612, 'wesentlich': 3613, 'szene': 3614, 'lernt': 3615, 'fahrraeder': 3616, '0001f618': 3617, 'jens': 3618, 'gib': 3619, 'haettest': 3620, 'haustuer': 3621, 'statement': 3622, 'ursache': 3623, 'rot': 3624, 'buchhandlung': 3625, 'buecher': 3626, 'ausreden': 3627, 'zumutung': 3628, 'muesse': 3629, 'irland': 3630, 'massnahmen': 3631, 'deutsches': 3632, 'vereinigten': 3633, 'erzogen': 3634, 'wundern': 3635, 'verbreitung': 3636, 'aberfair': 3637, 'armut': 3638, 'kostet': 3639, 'klimawandels': 3640, 'berlindirekt': 3641, 'gesprochen': 3642, 'instrumentalisieren': 3643, 'mitlaeufer': 3644, 'hitlers': 3645, 'buerokratie': 3646, 'nationalen': 3647, 'sieben': 3648, 'vollstaendig': 3649, 'ueberlegen': 3650, 'oe': 3651, 'handelsabkommen': 3652, 'strafe': 3653, 'kontrollieren': 3654, 'buergerlichen': 3655, 'h4': 3656, 'austritt': 3657, 'ueberwachung': 3658, 'koenne': 3659, 'fuenf': 3660, 'froehlich': 3661, 'spruch': 3662, 'eingesetzt': 3663, 'aussen': 3664, 'zwangs': 3665, 'angeblichen': 3666, 'mutigen': 3667, 'diskurs': 3668, 'faseln': 3669, 'josef': 3670, 'arbeitslose': 3671, 'allez': 3672, 'vorsitzende': 3673, 'gast': 3674, 'staates': 3675, 'weltkrieg': 3676, 'irren': 3677, 'umbau': 3678, 'wirklichkeit': 3679, 'geaende': 3680, 'ueberlassen': 3681, 'gezeigt': 3682, 'iss': 3683, 'geschaeftsfuehrer': 3684, 'empoerung': 3685, 'teurer': 3686, 'vergeben': 3687, 'kinderehe': 3688, 'eidigen': 3689, 'paradies': 3690, 'betraegt': 3691, 'umgerechnet': 3692, 'forderungen': 3693, 'lebensmittel': 3694, 'bau': 3695, 'vereiteln': 3696, 'spannende': 3697, 'volksrepublik': 3698, 'wetterwandel': 3699, 'unnoetiger': 3700, 'erleben': 3701, 'verarmt': 3702, 'chicago': 3703, 'agie': 3704, 'verkuendet': 3705, 'libyen': 3706, 'mohamedanische': 3707, 'regimechange': 3708, 'moerderregime': 3709, 'parlamentswahl': 3710, 'korrigie': 3711, 'boykott': 3712, 'waehrungen': 3713, 'psu': 3714, 'verschiedenen': 3715, 'diversen': 3716, 'aba': 3717, 'batterien': 3718, 'ehemaligen': 3719, 'hicks': 3720, 'jedesmal': 3721, 'knueppel': 3722, 'tessarakt': 3723, 'technische': 3724, 'linksextremisten': 3725, 'friedliche': 3726, '1989': 3727, 'korruptes': 3728, 'menschenverachtendes': 3729, 'loehne': 3730, 'zusaetzliche': 3731, 'linksextremen': 3732, 'parlamentswahlen': 3733, 'israelische': 3734, 'unrechtsregime': 3735, 'fegen': 3736, 'systems': 3737, 'cuba': 3738, 'dan': 3739, 'roedding': 3740, 'ronaldglaeser': 3741, 'quotenfrau': 3742, 'juan': 3743, 'guaid': 3744, 'schaemt': 3745, 'hm': 3746, 'wunderl97628159': 3747, 'morgenmagazin': 3748, 'glueckwunsch': 3749, 'gebieten': 3750, 'vereinbaren': 3751, 'terroristen': 3752, 'unverschaemtheit': 3753, 'merkelhunter1': 3754, 'rechtsbeugung': 3755, 'geheimnissverrat': 3756, 'gutachtens': 3757, 'voller': 3758, 'geistigen': 3759, 'unbewaffnet': 3760, 'meinungsterroristen': 3761, 'burger': 3762, 'feuchten': 3763, 'aufnehmen': 3764, 'jungs': 3765, 'haare': 3766, 'antisemitisch': 3767, 'eingriff': 3768, 'pkk': 3769, 'spalter': 3770, 'oliverkulikbln': 3771, 'dunjahayali': 3772, 'medienwirksam': 3773, 'gehaltene': 3774, 'sitzt': 3775, 'durchstechen': 3776, 'raulich': 3777, 'eingestuft': 3778, 'strafanzeige': 3779, 'vorschlag': 3780, 'sage': 3781, 'klagen': 3782, 'arme': 3783, 'ingcat': 3784, 'hmmn': 3785, 'bissel': 3786, 'kohl': 3787, 'roman': 3788, 'impfen': 3789, 'gegendemonstranten': 3790, 'neodeutscher': 3791, 'madbutscher': 3792, 'huch': 3793, 'flower': 3794, 'riot0711': 3795, 'ibdeutschland': 3796, 'jaja': 3797, 'massnahme': 3798, '1schlobohm': 3799, 'ball': 3800, 'mdraktuell': 3801, 'focusonline': 3802, 'nicole': 3803, 'taschenorakel': 3804, 'wichtigen': 3805, 'datflug': 3806, 'konsumieren': 3807, 'antid': 3808, 'zahlreich': 3809, 'bubble': 3810, 'ottos': 3811, 'stirbt': 3812, 'ollowain': 3813, 'boi': 3814, 'meinungen': 3815, 'jettekrokette': 3816, 'blaue': 3817, 'weisz': 3818, 'antifas': 3819, 'karlhjunghans': 3820, 'waehlt': 3821, 'abgeordnete': 3822, 'gestimmt': 3823, 'kradwege': 3824, 'kurzfristig': 3825, 'soenkerix': 3826, 'bestrafen': 3827, 'tarifloehne': 3828, 'vorwae': 3829, 'hhoeppe': 3830, 'petition': 3831, 'frauenwahlrecht': 3832, 'nrwspd': 3833, 'ltsh': 3834, 'brutalen': 3835, 'feinde': 3836, 'ostdeutschen': 3837, 'mussten': 3838, 'phaenomen': 3839, 'chaosradio': 3840, 'spddc': 3841, 'hessen': 3842, 'ausctk': 3843, 'koalition': 3844, 'inhabersaat': 3845, 'sh': 3846, 'jasiebe': 3847, 'organisieren': 3848, 'segeberg': 3849, 'ums': 3850, 'diejuramama': 3851, 'begonnen': 3852, 'donatella091259': 3853, 'juliakloeckner': 3854, 'kesseln': 3855, 'exekutive': 3856, 'unbegleitet': 3857, 'noafd': 3858, 'preungesheim': 3859, 'fede': 3860, 'oper': 3861, 'gehts': 3862, 'ezb': 3863, 'eingekesselten': 3864, 'campus': 3865, 'ausfuehrlich': 3866, 'verbindungen': 3867, 'elend': 3868, 'antifaraus': 3869, 'mordversuch': 3870, 'journalist': 3871, 'enteignet': 3872, 'palaestinensischen': 3873, 'googlem': 3874, 'persoenliches': 3875, 'alexcwha': 3876, 'ergaenzung': 3877, 'patzelt': 3878, 'augenauf': 3879, '0001f440': 3880, 'gegenhomohass': 3881, 'verabscheuungswuerdig': 3882, 'juliustroeger': 3883, 'grundguetiger': 3884, 'zahlreichen': 3885, 'buchmessefrankfu': 3886, 'zukuenftig': 3887, '2757': 3888, 'baeh': 3889, 'pag': 3890, 'tomahrweiler': 3891, 'wallintin': 3892, '2010': 3893, 'jcc': 3894, 'sek': 3895, 'imperialismus': 3896, 'pinochet': 3897, 'blockade': 3898, 'machmal7': 3899, 'ellibobby': 3900, 'nog20': 3901, '0646': 3902, '0627': 3903, 'bka': 3904, 'rossmarkt': 3905, 'barabend': 3906, 'konsulat': 3907, 'blockaden': 3908, 'fluchtursachen': 3909, 'roemer': 3910, 'antira': 3911, '1012ffm': 3912, 'fuck': 3913, 'gallus': 3914, 'giessen': 3915, 'project': 3916, 'shelter': 3917, 'refugeesuppo': 3918, 'lists': 3919, 'fragida': 3920, 'biji': 3921, 'munition': 3922, 'orgasmus': 3923, 'weswegen': 3924, 'scheissdreck': 3925, 'weltmeister': 3926, 'schockierend': 3927, 'suggestion': 3928, 'munde': 3929, 'schalten': 3930, 'schiff': 3931, 'meer': 3932, 'vernuemftiges': 3933, 'gerechtes': 3934, 'gehirnwaesche': 3935, 'mafia': 3936, 'kriminelles': 3937, 'dreckstueck': 3938, 'vorhanden': 3939, 'bitteren': 3940, 'behandlung': 3941, 'ruinieren': 3942, 'auftrag': 3943, 'gekauften': 3944, 'mat': 3945, 'allah': 3946, 'erzaehlen': 3947, 'nehme': 3948, 'vergesst': 3949, 'franzoesische': 3950, 'entwicklung': 3951, 'messer': 3952, 'kapitalistische': 3953, 'betrieben': 3954, 'richterin': 3955, 'kennst': 3956, 'anstelle': 3957, 'ups': 3958, 'einzuschraenken': 3959, 'verbloedeter': 3960, 'kurzen': 3961, 'helmut': 3962, 'intellekt': 3963, 'cent': 3964, 'hinein': 3965, 'inklusiv': 3966, 'beschuetzt': 3967, 'alexandersneu': 3968, 'russlandru': 3969, 'feige': 3970, 'verfluchtes': 3971, 'bse': 3972, 'rindvieh': 3973, 'mitmenschen': 3974, 'moschee': 3975, 'bauer': 3976, 'papst': 3977, 'trottel': 3978, 'ueberprueft': 3979, 'stoe': 3980, 'deklarie': 3981, 'bauch': 3982, 'gepraegt': 3983, 'vetternwi': 3984, 'veru': 3985, 'institution': 3986, 'idiot': 3987, 'kapitalisten': 3988, 'vernuemftigen': 3989, 'konzens': 3990, 'sozialstaat': 3991, 'tauschen': 3992, 'treibt': 3993, 'kokain': 3994, 'hergekommen': 3995, 'bottrop': 3996, 'schaeumt': 3997, 'umsteigen': 3998, 'rasen': 3999, 'notwendig': 4000, 'dreist': 4001, 'eile': 4002, 'aussieht': 4003, 'brutaler': 4004, 'besitzen': 4005, 'arabische': 4006, 'dannygodan': 4007, 'vatikan': 4008, 'annektieren': 4009, 'ulf': 4010, 'torusle': 4011, 'neugierig': 4012, 'aeusse': 4013, 'voelker': 4014, 'zugunsten': 4015, 'manipulie': 4016, 'manipulieren': 4017, 'aggressiv': 4018, 'greifen': 4019, 'jemen': 4020, 'hochachtung': 4021, 'glaubwuerdigen': 4022, 'saemtliche': 4023, 'suggerieren': 4024, 'entfernen': 4025, 'klatschen': 4026, 'bundesverfassungsgericht': 4027, 'nsa': 4028, 'uebelsten': 4029, 'heiss': 4030, 'verzweifelte': 4031, 'lde': 4032, 'anglo': 4033, 'fuss': 4034, 'sprich': 4035, 'passenden': 4036, 'maidan': 4037, 'kriegstreiber': 4038, 'gegeneinander': 4039, 'mdrde': 4040, 'beitragen': 4041, 'bilden': 4042, 'zug': 4043, 'grosskonzernen': 4044, 'zahlt': 4045, 'westlich': 4046, 'umarmung': 4047, 'schlampe': 4048, 'angefueh': 4049, 'regimewechsel': 4050, 'daemlicher': 4051, 'vermisst': 4052, 'geweckt': 4053, 'gekostet': 4054, 'gezogen': 4055, 'keule': 4056, 'zionismus': 4057, 'unabhaengigen': 4058, 'ausgetragen': 4059, 'duemmlinge': 4060, 'bemuehen': 4061, 'religionsgemeinschaft': 4062, 'fatale': 4063, 'bewiesene': 4064, 'rassistenpa': 4065, 'anscheinend': 4066, 'antiislamische': 4067, 'zionist': 4068, 'zionistische': 4069, 'islamhasser': 4070, 'bester': 4071, 'getaugt': 4072, 'bestehende': 4073, 'aufgehoben': 4074, 'sichern': 4075, 'schafe': 4076, 'maschinerie': 4077, 'bedenkt': 4078, 'etablie': 4079, 'rueckt': 4080, 'cl': 4081, 'maechtig': 4082, 'ausrede': 4083, 'wagner': 4084, 'kontrollie': 4085, 'krankes': 4086, 'genannt': 4087, 'netzwerke': 4088, 'jederzeit': 4089, 'erinnerungskultur': 4090, 'edel': 4091, 'restlichen': 4092, 'grab': 4093, 'kriegt': 4094, 'vater73': 4095, 'derspiegel': 4096, 'maybritillner': 4097, 'journalistin': 4098, 'gelobt': 4099, 'gefeie': 4100, 'troll': 4101, 'eigenregie': 4102, 'loesen': 4103, 'folgst': 4104, 'oekofaschisten': 4105, 'goldene': 4106, 'amen': 4107, 'patent': 4108, 'sevimdagdelen': 4109, 'zustimmung': 4110, 'missbraucht': 4111, 'sollst': 4112, 'verweis': 4113, 'seitens': 4114, 'zustimmen': 4115, 'berechtigte': 4116, 'mesutozil1088': 4117, 'dankbar': 4118, 'zionistischen': 4119, 'eilung': 4120, 'standpunkt': 4121, 'time': 4122, 'repraesentie': 4123, 'ifikaten': 4124, 'naiv': 4125, 'christliche': 4126, 'reines': 4127, 'arbeitslager': 4128, 'wovon': 4129, 'andreaskemper': 4130, 'hasspredigern': 4131, 'clans': 4132, 'ausgelassen': 4133, 'praesentie': 4134, 'gretas': 4135, 'irgendjemanden': 4136, 'fonokkemeny': 4137, '20min': 4138, 'huginmunin91': 4139, 'gruessen': 4140, 'vorbild': 4141, 'auge': 4142, 'abwehr': 4143, 'abordramy': 4144, 'selbstbestimmung': 4145, 'nr': 4146, 'jan0077': 4147, 'nikyello': 4148, 'ihf': 4149, 'teamd': 4150, 'finale': 4151, 'sunnyboytande': 4152, 'uwegensheimer': 4153, 'est': 4154, 'who': 4155, 'groupie': 4156, 'nationalhymne': 4157, 'magst': 4158, 'duisburg': 4159, 'ausgegangen': 4160, 'arbeitest': 4161, 'mediale': 4162, 'wahnsinnig': 4163, 'praesidenten': 4164, 'wussten': 4165, 'versaut': 4166, 'verachtung': 4167, 'verlauf': 4168, 'umgehen': 4169, 'gemessen': 4170, 'klatsche': 4171, 'meister': 4172, 'sieg': 4173, 'dna': 4174, 'svenjaschulze68': 4175, 'fridayforfuture': 4176, 'noggout': 4177, 'aufgebauscht': 4178, 'ronzheimer': 4179, 'front': 4180, 'geweiht': 4181, 'paketbote': 4182, 'gruendete': 4183, 'vorhandene': 4184, 'mittels': 4185, 'wahre': 4186, 'entkraeften': 4187, 'gewuenschten': 4188, 'schicksal': 4189, 'syrer': 4190, 'bescheren': 4191, 'gestehen': 4192, 'lehnt': 4193, 'rahmen': 4194, 'ablehnt': 4195, 'strobelsteffen': 4196, 'undemokratisch': 4197, 'abzulehnen': 4198, 'vergleich': 4199, 'judenfeindliche': 4200, 'islamfeindlich': 4201, 'wild': 4202, 'wahren': 4203, 'judenhasser': 4204, 'geballer': 4205, 'kruste': 4206, 'eiter': 4207, 'inkasso': 4208, 'shitshifter': 4209, 'mard': 4210, 'house': 4211, 'zeitgleich': 4212, 'nahmen': 4213, '51': 4214, '38': 4215, 'zunahme': 4216, 'neonazi': 4217, 'aktivitaeten': 4218, 'massive': 4219, 'bedeuten': 4220, 'wuppe': 4221, 'al': 4222, 'antifaschistischen': 4223, 'kaelte': 4224, 'kollektive': 4225, 'hashtags': 4226, 'fettes': 4227, 'lothar': 4228, 'verharmlosung': 4229, 'schwule': 4230, 'einerseits': 4231, 'andererseits': 4232, 'aftershow': 4233, 'emo': 4234, 'rassistischer': 4235, 'faschistischer': 4236, 'winterzeit': 4237, 'eahambi': 4238, 'azaachen': 4239, '54': 4240, 'anlaufstelle': 4241, 'krawallelfe': 4242, 'ooakoeln': 4243, 'zahlreicher': 4244, 'durchreisende': 4245, 'kriegsgebiet': 4246, 'sowohl': 4247, 'unmittelbarer': 4248, '36': 4249, 'veranstaltungen': 4250, 'love': 4251, 'ska': 4252, 'gabba': 4253, 'unsersquat': 4254, 'mutige': 4255, 'erbe': 4256, 'dead': 4257, 'entlastung': 4258, '53': 4259, '115': 4260, 'krischer': 4261, 'jedoch': 4262, 'entwicklungen': 4263, 'resistance': 4264, 'zollernstr': 4265, 'words': 4266, 'friends': 4267, 'reaches': 4268, 'silent': 4269, 'demanding': 4270, 'minister': 4271, 'reul': 4272, '41': 4273, 'geforde': 4274, 'save': 4275, 'hambachforest': 4276, 'right': 4277, 'knappen': 4278, 'eroeffnet': 4279, 'schweigeminute': 4280, 'sho': 4281, 'by': 4282, 'at': 4283, 'evtl': 4284, 'kameraden': 4285, 'laeden': 4286, 'closed': 4287, 'informationen': 4288, 'freigelassen': 4289, 'dringend': 4290, 'laune': 4291, 'bedarf': 4292, 'power': 4293, 'frueh': 4294, 'decken': 4295, 'huhu': 4296, 'aufgesucht': 4297, 'your': 4298, 'feministischer': 4299, 'beobachtet': 4300, 'betroffen': 4301, 'darueberhinaus': 4302, 'mind': 4303, 'spontane': 4304, 'marktplatz': 4305, 'september': 4306, 'ueberstanden': 4307, 'aufrufen': 4308, 'samt': 4309, 'gewaechshaeusern': 4310, 'schlussstrich': 4311, 'ducking': 4312, 'punches': 4313, 'summe': 4314, 'skarbone': 4315, 'stupidos': 4316, 'juni': 4317, 'trash': 4318, 'hauen': 4319, 'dave': 4320, 'disco': 4321, 'wounds': 4322, 'bunker': 4323, 'noise': 4324, 'goa': 4325, 'innocent': 4326, 'wandel': 4327, 'shards': 4328, 'release': 4329, 'blickt': 4330, 'harker': 4331, 'erials': 4332, 'leopa': 4333, 'tides': 4334, 'besondere': 4335, 'wadeye': 4336, 'bicahunas': 4337, 'karlsson': 4338, 'hour': 4339, 'eingeladen': 4340, '2h': 4341, 'filqsa': 4342, 'rock': 4343, 'direktnachricht': 4344, 'bitten': 4345, 'steigt': 4346, 'absage': 4347, 'traum': 4348, 'kleinere': 4349, 'kategoriec': 4350, 'vermeiden': 4351, 'hools': 4352, 'city': 4353, 'boza': 4354, 'safe': 4355, 'chili': 4356, 'there': 4357, 'vegan': 4358, 'please': 4359, 'beginnen': 4360, 'input': 4361, 'abends': 4362, 'noborders': 4363, '17h': 4364, 'cryptic': 4365, 'vellocet': 4366, 'paul': 4367, 'bungenstab': 4368, 'kaan': 4369, 'happy': 4370, 'warme': 4371, 'jacky': 4372, 'angekuendigt': 4373, 'rap': 4374, 'discoctrl': 4375, 'amk': 4376, 'alternativlos': 4377, 'angek': 4378, 'naziaufmarsch': 4379, 'abgesagt': 4380, 'hashtag': 4381, 'back': 4382, 'miss': 4383, 'erkelenz': 4384, 'belg': 4385, 'naziwatch': 4386, 'rd': 4387, 'hogesa': 4388, 'neonazistischen': 4389, 'ue': 4390, 'gegenprotest': 4391, 'umgebung': 4392, 'einsaetze': 4393, 'immernoch': 4394, 'groesstenteils': 4395, 'versammlung': 4396, 'aufgeloest': 4397, 'freilassung': 4398, 'radieschendunst': 4399, 'vierlagig': 4400, 'null4zwo77': 4401, 'luna': 4402, 'inhaltlich': 4403, 'zps': 4404, 'zuordnen': 4405, 'aufrufe': 4406, 'antifaschisten': 4407, 'verarscht': 4408, 'tobibernet': 4409, 'saechsische': 4410, 'nhile': 4411, 'anbieten': 4412, 'weihnachtlich': 4413, 'linksradikales': 4414, 'element': 4415, 'ad': 4416, 'anpassen': 4417, 'kramp': 4418, 'karrenbauer': 4419, 'definieren': 4420, 'reaktionaere': 4421, 'felixsschulz': 4422, 'gebunke': 4423, 'obm': 4424, 'erweiterung': 4425, 'status': 4426, 'erscheint': 4427, 'lasersushi': 4428, 'feine': 4429, 'musste': 4430, 'isses': 4431, 'landtagswahl': 4432, 'hippie': 4433, 'faengt': 4434, 'ottosmopsklopft': 4435, 'pauschal': 4436, 'wirfst': 4437, 'mountaindream5': 4438, 'anpoebeln': 4439, 'wenige': 4440, 'gefaehrdung': 4441, 'vermute': 4442, 'seht': 4443, 'komfo': 4444, 'luxus': 4445, 'verfuegbar': 4446, 'nutze': 4447, 'gaming': 4448, 'inzwischen': 4449, 'handys': 4450, 'benutzen': 4451, '0001f9d0': 4452, 'konsequenzen': 4453, 'meiden': 4454, 'kunsthippies': 4455, 'danken': 4456, 'tickets': 4457, 'login': 4458, 'details': 4459, 'afaik': 4460, 'hastig': 4461, 'gespraech': 4462, 'draufhalten': 4463, 'doku': 4464, 'libe': 4465, 'aere': 4466, 'inklusive': 4467, 'rechtsoffen': 4468, 'bratwurst': 4469, 'abgibt': 4470, 'schlimmeres': 4471, 'seh': 4472, 'tante': 4473, 'beisammen': 4474, 'red': 4475, 'redemption': 4476, 'nett': 4477, 'web': 4478, 'versuche': 4479, 'architektur': 4480, 'stiftung': 4481, 'arbeitgeber': 4482, 'landesregierung': 4483, 'explizit': 4484, 'veganen': 4485, 'tausend': 4486, 'ausraus': 4487, 'plakate': 4488, 'fazit': 4489, 'wenigen': 4490, 'kurzer': 4491, 'streifen': 4492, 'dotheba': 4493, 'fahrer': 4494, 'januar': 4495, 'zweimal': 4496, 'irgendein': 4497, 'bundeskanzlerin': 4498, 'doctor': 4499, 'wehe': 4500, 'gelacht': 4501, 'genie': 4502, 'profil': 4503, 'evelyn': 4504, 'stichwo': 4505, 'volksverdummung': 4506, 'versetzt': 4507, 'and': 4508, 'full': 4509, 'yottageil': 4510, '0001f37b': 4511, 'nullachtk': 4512, 'oefter': 4513, 'strom': 4514, 'geldbeutel': 4515, 'tschernobyl': 4516, 'vernuenftig': 4517, '2030': 4518, 'moderne': 4519, 'kuendigung': 4520, 'anruf': 4521, 'kostenlos': 4522, 'dezember': 4523, 'radio': 4524, 'bande': 4525, 'argumentie': 4526, 'tieren': 4527, 'schweizer': 4528, 'abenteuer': 4529, 'frauenparkplaetze': 4530, 'hust': 4531, 'feierabendrunde': 4532, 'laenge': 4533, 'begibt': 4534, 'kasalla': 4535, 'version': 4536, 'gemeldet': 4537, 'schrank': 4538, 'radspo': 4539, 'vollidioten': 4540, 'psychisch': 4541, 'schrift': 4542, 'leer': 4543, 'drucken': 4544, 'thermo': 4545, 'flasche': 4546, 'eng': 4547, 'einschlafen': 4548, 'hackedicht': 4549, 'vorallem': 4550, 'illegalen': 4551, 'gutheissen': 4552, 'flugzeug': 4553, 'umwelthilfe': 4554, 'angerufen': 4555, 'linksradikale': 4556, 'les': 4557, 'unabhaengige': 4558, 'zeitungen': 4559, 'buerzl': 4560, 'aegypten': 4561, 'england': 4562, 'maledivien': 4563, 'karriere': 4564, 'nordkap': 4565, 'tages': 4566, '2705': 4567, 'geiler': 4568, 'seltsam': 4569, 'arbeitenden': 4570, 'rain': 4571, '0001f327': 4572, 'matsch': 4573, 'male': 4574, 'feierabend': 4575, 'tw': 4576, 'verfasst': 4577, 'community': 4578, 'morgens': 4579, '0001f389': 4580, 'baumersd': 4581, 'schaue': 4582, 'merke': 4583, 'tue': 4584, 'wunderbar': 4585, 'besseres': 4586, 'fehlinformation': 4587, '0001f642': 4588, 'abgelehnte': 4589, 'asylbewerber': 4590, 'mundtot': 4591, 'islamistische': 4592, 'stolzen': 4593, 'otz': 4594, 'zurueckgeben': 4595, 'verlaesst': 4596, 'thueringen': 4597, 'videos': 4598, 'media': 4599, 'hinterradnabe': 4600, 'freilauf': 4601, 'angeschaut': 4602, 'muelltonne': 4603, 'arbeitswoche': 4604, 'geile': 4605, 'neidisch': 4606, 'setze': 4607, 'cosmos': 4608, 'gehackt': 4609, 'schlau': 4610, 'passwoe': 4611, 'fitnessstudio': 4612, 'erster': 4613, 'hurra': 4614, 'bestimmte': 4615, '0001f680': 4616, 'machete': 4617, 'treffsicherheit': 4618, 'vorsaetze': 4619, 'tacho': 4620, 'lest': 4621, 'letztes': 4622, '000km': 4623, 'kenner': 4624, 'hell': 4625, 'vergisst': 4626, 'wochentag': 4627, 'song': 4628, 'feuerwerk': 4629, 'anzusehen': 4630, 'aeltere': 4631, 'pissen': 4632, 'ruecksichtnahme': 4633, 'ruecksicht': 4634, 'hunden': 4635, 'feuerwerksverbot': 4636, 'besinnlichkeit': 4637, 'loominext': 4638, 'langweilige': 4639, 'good': 4640, 'mitbekommen': 4641, 'ueberschritten': 4642, 'internet': 4643, 'unbekannte': 4644, 'justice': 4645, 'cdupt18': 4646, 'menschliche': 4647, 'eitagen': 4648, 'close': 4649, 'puh': 4650, 'nette': 4651, 'hut': 4652, 'rechtsradikale': 4653, 'diskriminierung': 4654, 'freu': 4655, 'tempel': 4656, 'ichbinrakete': 4657, 'regelmaessig': 4658, 'gehauen': 4659, 'maennliche': 4660, 'youtuber': 4661, 'ueberrascht': 4662, 'both': 4663, 'move': 4664, 'typisch': 4665, 'strange': 4666, 'vllt': 4667, 'strawbewyvgcake': 4668, 'helfe': 4669, 'ergebnissen': 4670, 'gerechnet': 4671, 'rumlabern': 4672, 'ausgehen': 4673, 'ueberraschenden': 4674, 'vorlaeufigen': 4675, 'belegt': 4676, 'suprise': 4677, 'parlamentarischen': 4678, 'staatsform': 4679, 'timmgiesbers': 4680, 'hendrikkraft': 4681, 'sondersendungen': 4682, 'vermummung': 4683, 'ausgefueh': 4684, 'inhaltliche': 4685, 'whataboutism': 4686, 'subjektiv': 4687, 'ablenken': 4688, 'taktik': 4689, 'pm': 4690, 'elsmann': 4691, 'skandalisieren': 4692, 'reflektieren': 4693, 'aufzuzeigen': 4694, 'beitraege': 4695, 'glaubwuerdigkeit': 4696, 'nachhilfe': 4697, 'journos': 4698, 'auslaendischer': 4699, 'zerstoerung': 4700, 'ungemein': 4701, 'duesseldorf': 4702, 'glatt': 4703, 'uebernahme': 4704, 'schutzsuchende': 4705, 'gender': 4706, 'hochgejazzt': 4707, 'krankenhausreif': 4708, 'kinkerlitze': 4709, 'unsaeglich': 4710, 'krimis': 4711, 'eingeschraenkt': 4712, 'eingefueh': 4713, 'bisherige': 4714, 'wohlstandsverwahrloste': 4715, 'baum79308079': 4716, 'schreiber': 4717, 'vorhaben': 4718, 'groesse': 4719, 'ideologische': 4720, 'lazid1957': 4721, 'mainstreams': 4722, 'furchtbar': 4723, 'diffamierer': 4724, 'intelligente': 4725, 'ausschliessen': 4726, 'mo': 4727, 'von': 4728, 'schlagwo': 4729, 'peinliche': 4730, 'unverantwo': 4731, 'autoritaet': 4732, 'plappermaeulern': 4733, 'dutschke': 4734, 'gefuehlt': 4735, '1945': 4736, 'umgekeh': 4737, 'suhlen': 4738, 'schwerer': 4739, 'gauland': 4740, 'globalisie': 4741, 'absehbar': 4742, 'niemandem': 4743, 'zweier': 4744, 'muslimischen': 4745, 'schueler': 4746, 'lehrerin': 4747, 'denkfaehigen': 4748, 'beschimpfung': 4749, 'strafbar': 4750, 'klagt': 4751, 'zentralrat1': 4752, 'sturm': 4753, 'physikerin': 4754, 'versaeumnisse': 4755, 'positive': 4756, 'kreuz': 4757, 'zuschauer': 4758, 'it': 4759, 'uninteressanter': 4760, 'zittern': 4761, 'unsicher': 4762, 'plappern': 4763, 'loriotfehlt': 4764, 'jaeckchen': 4765, 'top': 4766, 'daraschi': 4767, 'verrecke': 4768, 'groelen': 4769, 'buechern': 4770, 'stellung': 4771, 'verrueckt': 4772, 'streiten': 4773, 'taetern': 4774, 'ausgepraegt': 4775, 'modewo': 4776, 'tabularasa2018': 4777, 'eigentor': 4778, 'sterne': 4779, 'hypermoral': 4780, 'daenemark': 4781, 'adresse': 4782, 'riskie': 4783, 'daseinsberechtigung': 4784, 'gerettet': 4785, 'vorfuehren': 4786, 'geschenkt': 4787, 'abzugeben': 4788, 'ausreichend': 4789, 'sprech': 4790, 'tothecloud2014': 4791, 'besonderen': 4792, 'selbsternannte': 4793, 'sondergleichen': 4794, 'eliten': 4795, 'duerften': 4796, 'darkgermany': 4797, 'angeschlossen': 4798, 'pruegel': 4799, 'attacken': 4800, 'kombination': 4801, 'frech': 4802, 'uninformie': 4803, 'medial': 4804, 'wollten': 4805, 'geschoepf': 4806, 'sm100d': 4807, 'verachten': 4808, 'wessen': 4809, 'englisch': 4810, 'weltgewandt': 4811, 'redaktionen': 4812, 'bedient': 4813, 'karinazurich': 4814, 'entdeckt': 4815, 'bundestagsdebatten': 4816, 'poebelt': 4817, 'naivitaet': 4818, 'tichys': 4819, 'einblick': 4820, 'eingewande': 4821, 'gleichgestellt': 4822, 'integration': 4823, 'woanders': 4824, 'cicero': 4825, 'empfinde': 4826, 'regelrecht': 4827, 'noetigung': 4828, 'gleichgueltig': 4829, 'winterspo': 4830, 'wiederholungen': 4831, 'verbloedung': 4832, 'beleh': 4833, 'widerspruch': 4834, 'udohemmelgarn': 4835, 'wodurch': 4836, 'haltungsjournalisten': 4837, 'genehmen': 4838, 'bedanken': 4839, 'unsaeglichen': 4840, 'empathie': 4841, 'ueberlegung': 4842, 'blondjedi': 4843, 'prinzipiell': 4844, 'ausgezeichnete': 4845, 'funktionaer': 4846, 'nobileseba': 4847, 'hetzt': 4848, 'einzelfaellen': 4849, 'krim': 4850, 'oberflaechlich': 4851, 'volksabstimmungen': 4852, 'petitionen': 4853, 'begeistern': 4854, 'gerechtigkeit': 4855, 'medium': 4856, 'unte': 4857, 'legalisieren': 4858, 'empfehlung': 4859, 'gesiegt': 4860, 'fleisskae': 4861, 'chen': 4862, 'format': 4863, 'stoesst': 4864, 'charakterlich': 4865, 'abstand': 4866, 'offener': 4867, 'diskussionskultur': 4868, 'boell': 4869, 'hierher': 4870, 'non': 4871, 'vergewaltigungen': 4872, 'ausgehoehlt': 4873, 'gelingt': 4874, 'kipping': 4875, 'dauerempoe': 4876, 'auseinandersetzung': 4877, 'antrag': 4878, 'zuhoeren': 4879, 'erledigt': 4880, 'mieses': 4881, 'unterschicht': 4882, 'burschen': 4883, 'gesunde': 4884, 'menschenverstand': 4885, 'armselig': 4886, 'erfolgreich': 4887, 'beschaeftigen': 4888, 'eule': 4889, 'angenommen': 4890, 'qualitaet': 4891, 'versorgung': 4892, 'kandidat': 4893, 'kompetent': 4894, 'buergerlich': 4895, 'untersuchungsausschuss': 4896, 'studienabbrechern': 4897, 'kanaelen': 4898, 'einziger': 4899, 'kuba': 4900, 'analphabeten': 4901, 'einfaeltigen': 4902, 'ajkaestner': 4903, 'aufnahme': 4904, 'hatten': 4905, 'blieb': 4906, 'fremde': 4907, 'gewaltbereiten': 4908, 'schutzbeduerftig': 4909, 'projekte': 4910, 'star': 4911, 'stinkt': 4912, 'heilen': 4913, 'guennis': 4914, 'trinkhalle': 4915, 'explodieren': 4916, 'jungmuetter': 4917, 'verkackten': 4918, 'rennt': 4919, 'kiez': 4920, 'bretzel': 4921, 'kueche': 4922, 'rauchen': 4923, 'gesundes': 4924, 'napfsuelze': 4925, 'kerze': 4926, 'anziehen': 4927, 'bruesteguckerin': 4928, 'gottverdammte': 4929, 'rotz': 4930, 'fickfehler': 4931, '4zido': 4932, 'vodafone': 4933, 'nervt': 4934, 'machwa': 4935, 'guuuuuuuuut': 4936, 'hobbits': 4937, 'behaupten': 4938, 'garde': 4939, 'amerikanische': 4940, 'herausgefunden': 4941, 'praktische': 4942, 'gehe': 4943, 'lack': 4944, 'gesoffen': 4945, 'app': 4946, 'zer': 4947, 'ausm': 4948, 'niksput': 4949, 'bekomme': 4950, 'mitten': 4951, 'internetz': 4952, 'nehm': 4953, 'mc': 4954, 'donalds': 4955, 'l2': 4956, 'tamm': 4957, 'koerbchen': 4958, 'freiwillige': 4959, 'ruhrpott': 4960, 'ausdruck': 4961, 'vollpfosten': 4962, 'rhetorische': 4963, 'zweiten': 4964, 'pisse': 4965, 'gebot': 4966, 'hosen': 4967, 'getwitte': 4968, 'grosses': 4969, 'kinderga': 4970, 'wutbuerger': 4971, 'fluechten': 4972, 'gesellschaftliche': 4973, 'zettel': 4974, 'tueren': 4975, 'aufschrift': 4976, 'ekelhaft': 4977, 'heikokanzler': 4978, 'atmen': 4979, 'verpisst': 4980, 'stehn': 4981, 'platt': 4982, '58': 4983, 'veganismus': 4984, 'stoerung': 4985, 'kreuzberger': 4986, 'naechte': 4987, 'gefressen': 4988, 'brueste': 4989, 'mutti': 4990, 'salat': 4991, 'fleisch': 4992, 'gitarra': 4993, 'nachbar': 4994, 'daemliches': 4995, 'mantel': 4996, 'steh': 4997, 'stuhlgang': 4998, 'flaschen': 4999, 'terroranschlag': 5000, 'versteh': 5001, 'prisma': 5002, 'versifften': 5003, 'drecks': 5004, 'niedrigen': 5005, 'selbstaendig': 5006, 'bleib': 5007, 'bestehen': 5008, 'zusammenhaenge': 5009, 'ever': 5010, 'erstaatlich': 5011, 'ers': 5012, 'chat': 5013, 'atkins': 5014, 'missbrauch': 5015, 'blender': 5016, 'gefaehrlicher': 5017, 'feigheit': 5018, 'uebersehen': 5019, 'charlotte': 5020, 'jude': 5021, 'genossinnen': 5022, 'rueckgrat': 5023, 'alexabringmann': 5024, 'bruecke': 5025, 'andi': 5026, 'muriel': 5027, 'muraene': 5028, 'erwachsene': 5029, 'auftritt': 5030, 'darstellen': 5031, 'anfaengt': 5032, 'pipi': 5033, 'bett': 5034, 'drueck': 5035, 'melde': 5036, 'zunehmenden': 5037, 'lovebeatshb': 5038, 'intern': 5039, 'taeuschen': 5040, 'as': 5041, 'krankenhaus': 5042, 'bundeswehrinfo': 5043, 'soldat': 5044, 'psyche': 5045, 'bewirken': 5046, 'gesunden': 5047, 'lungenfachaerzte': 5048, 'heil': 5049, 'birnen': 5050, 'betroffenen': 5051, 'werbeverbot': 5052, 'schmanle': 5053, 'schmaehungen': 5054, 'ber': 5055, 'dieselgenerators': 5056, 'fneuhann': 5057, 'konzepte': 5058, 'einzuholen': 5059, 'reif': 5060, 'bestehenden': 5061, 'verdaechtigen': 5062, 'stuerzen': 5063, 'annewilltalk': 5064, 'herbei': 5065, 'bezahlte': 5066, 'widersprechen': 5067, 'verschwindet': 5068, 'msverstaendnis2': 5069, 'moschaefer66': 5070, 'legitimation': 5071, 'handballwm': 5072, 'tapfer': 5073, 'gekaempft': 5074, 'niewiederfaschismus': 5075, 'niewiederkrieg': 5076, 'kuduzu': 5077, 'geredet': 5078, 'buchenwald': 5079, 'ausdenken': 5080, 'gemeinsamen': 5081, 'patriotismus': 5082, 'p0llyticks': 5083, 'petry': 5084, 'nah': 5085, 'auschwitz': 5086, 'ausgeschlossen': 5087, 'opfaopfaopfa': 5088, 'ava': 5089, 'lungenaerzte': 5090, '71': 5091, 'adaequate': 5092, 'eidiger': 5093, 'erwaehnt': 5094, 'geguckt': 5095, 'tust': 5096, 'schieb': 5097, 'hals': 5098, 'brot': 5099, 'loswerden': 5100, 'wahlrecht': 5101, 'anwalt': 5102, 'habens': 5103, 'widerlicher': 5104, 'leben7777777': 5105, 'ueberpruefen': 5106, 'letzter': 5107, 'einkaufen': 5108, 'niedrige': 5109, 'kritisiere': 5110, 'tonline': 5111, 'ihnen': 5112, 'kattascha': 5113, 'freien': 5114, 'yannic': 5115, 'hendricks': 5116, 'konsequenter': 5117, 'bvg': 5118, 'sbahn': 5119, 'autofahrer': 5120, 'diskriminie': 5121, 'realjohnwick77': 5122, 'naturmacht': 5123, 'lovebomb11': 5124, 'topf': 5125, 'hinte': 5126, 'geraten': 5127, 'sondern': 5128, 'schaetze': 5129, 'verwunde': 5130, 'distanzieren': 5131, 'hs': 5132, 'drehen': 5133, 'vorraus': 5134, 'kotze': 5135, 'nasse': 5136, 'loser': 5137, 'verpissen': 5138, 'heavy': 5139, 'ganzer': 5140, 'bring': 5141, 'suesse': 5142, 'groesster': 5143, 'islamisierung': 5144, 'gange': 5145, 'eigenem': 5146, 'verlierer': 5147, 'wochenblickat': 5148, 'befinden': 5149, 'normal': 5150, 'sklaverei': 5151, 'unterdrueckung': 5152, 'sasarahj': 5153, 'busch': 5154, 'asi': 5155, 'schulenburgch': 5156, 'sachsenanhalt': 5157, 'donjoschi': 5158, 'methoden': 5159, 'affen': 5160, 'wandern': 5161, 'erziehung': 5162, 'mehrfach': 5163, 'prima': 5164, 'adolfo': 5165, 'krankheit': 5166, 'ansteckend': 5167, 'verusoss1': 5168, 'beinen': 5169, '700': 5170, 'pervers': 5171, 'theater': 5172, 'versagern': 5173, 'deubelbianca': 5174, 'weber': 5175, 'ausgetreten': 5176, 'positiv': 5177, 'sorge': 5178, 'kaufe': 5179, 'retweeten': 5180, 'persoenliche': 5181, 'getroffen': 5182, 'arbeite': 5183, 'patienten': 5184, 'techniker': 5185, 'feststellen': 5186, 'spedition': 5187, 'liefe': 5188, 'einbaut': 5189, 'haenge': 5190, 'verzweifelt': 5191, 'festgestellt': 5192, 'einbau': 5193, 'hase': 5194, 'schadet': 5195, 'homoeopathie': 5196, 'medikament': 5197, 'laufendem': 5198, 'sofern': 5199, 'hoehere': 5200, 'minervasevera': 5201, 'wirkt': 5202, 'ohrwurm': 5203, 'beschaeftigt': 5204, 'hungriger': 5205, 'brav': 5206, 'con': 5207, 'call': 5208, 'geheimen': 5209, 'wuerdest': 5210, 'sauer': 5211, 'projekt': 5212, 'trudering': 5213, 'honig': 5214, 'iment': 5215, 'fantasy': 5216, 'geselle': 5217, 'schluss': 5218, 'pause': 5219, 'gabihbeck': 5220, 'knackigem': 5221, 'yeah': 5222, 'udo': 5223, 'fahr': 5224, 'heimweg': 5225, 'blabla': 5226, 'behoerde': 5227, 'zurecht': 5228, 'modell': 5229, 'weggeworfen': 5230, 'maerz': 5231, 'verlaenge': 5232, 'mvv': 5233, 'isch': 5234, 'ewigesommerzeit': 5235, 'cloudpiep': 5236, 'geister': 5237, 'drachen': 5238, 'bestellt': 5239, 'fckcdu': 5240, 'proasyl': 5241, 'sachbeschaedigung': 5242, 'luebbermann': 5243, 'selbstzweck': 5244, 'unmenschlich': 5245, 'nirgendwo': 5246, 'podcast': 5247, 'kandidaten': 5248, 'vsabschaffen': 5249, 'zorn': 5250, 'entgegenstellen': 5251, 'ruhestand': 5252, 'koalitionsbruch': 5253, 'fckcsu': 5254, 'fehlverhalten': 5255, 'fckgroko': 5256, 'fckspd': 5257, 'abi89': 5258, 'findungsphase': 5259, 'voraussetzungen': 5260, 'goere': 5261, 'vereh': 5262, 'losgesagt': 5263, 'paulehasi13': 5264, 'garnicht': 5265, 'teppich': 5266, 'begehbaren': 5267, 'kulturell': 5268, 'sozialhilfe': 5269, 'alimentie': 5270, 'quotenmigrantin': 5271, 'ipd': 5272, 'gespuelt': 5273, 'laenderfinanzausgleich': 5274, 'bestocker': 5275, 'see': 5276, 'besserung': 5277, 'abwaehlen': 5278, 'fredsonnensche3': 5279, 'kop': 5280, '0001f62d': 5281, 'hinterlader': 5282, 'uebler': 5283, 'packung': 5284, 'stimulator': 5285, 'minusmensch': 5286, 'kuestennebel': 5287, 'minusmaedchen': 5288, 'linksversifften': 5289, 'gewaltig': 5290, 'veruebt': 5291, 'giannamariella': 5292, 'torsten62128502': 5293, 'keeprespect79': 5294, 'systemling': 5295, 'redcat': 5296, '0001f1e9': 5297, 'dreistigkeit': 5298, 'eklatanter': 5299, 'uebergriffe': 5300, 'abermals': 5301, 'gebeutelten': 5302, 'geringsten': 5303, 'peterpa34083139': 5304, '0001f9e0': 5305, 'belehrend': 5306, 'verbaenden': 5307, 'erfroren': 5308, 'sozialdemokratie': 5309, 'lustigen': 5310, 'oezcanmutlu': 5311, 'telefon': 5312, 'lichtmesz': 5313, 'nordischbynatur': 5314, 'fuckbook': 5315, 'pornodarstellerin': 5316, 'ullajelpke': 5317, 'toter': 5318, 'dass': 5319, 'oktober': 5320, 'muehe': 5321, 'beschweren': 5322, 'schaemen': 5323, 'telefonschreck': 5324, 'babies': 5325, 'belaestigt': 5326, 'verkommt': 5327, 'murksel': 5328, 'dreckssekte': 5329, 'rbrinkhaus': 5330, 'unflat': 5331, 'indoktrinie': 5332, 'hajo': 5333, 'friedrichs': 5334, 'fuessen': 5335, 'verdreht': 5336, 'beruf': 5337, 'spdsh': 5338, 'geisteszustand': 5339, 'waehlbar': 5340, 'vi': 5341, 'reissmann': 5342, 'cocacola': 5343, 'vita': 5344, 'cola': 5345, 'kuffnuke': 5346, 'ndr': 5347, 'rhetorisch': 5348, 'platzwa': 5349, '1907': 5350, 'hahahaha': 5351, 'gepostet': 5352, 'bekannten': 5353, 'franzoesischen': 5354, 'lanz': 5355, 'geschadet': 5356, 'nationalistin': 5357, 'linksfaschismus': 5358, 'versorgt': 5359, 'rotgruenen': 5360, 'dunkeldeutsch': 5361, 'ossi': 5362, 'ewige': 5363, 'extremen': 5364, 'heinrichheine12': 5365, 'schwarzesscha13': 5366, 'erkennbar': 5367, 'etablieren': 5368, 'dh': 5369, 'westl': 5370, 'stinken': 5371, 'selbstgerechtigkeit': 5372, 'wahrgenommen': 5373, 'weiblichen': 5374, 'verlogen': 5375, 'bigott': 5376, 'westens': 5377, 'laternen': 5378, 'baumeln': 5379, 'zeichnet': 5380, 'profitieren': 5381, 'proxy': 5382, 'jewish': 5383, 'typischer': 5384, 'kumbajah': 5385, 'loyal': 5386, 'hoer': 5387, 'unangebracht': 5388, 'haut': 5389, 'physikalischen': 5390, 'suedpol': 5391, 'hegel': 5392, 'argumenten': 5393, 'sche': 5394, 'physiker': 5395, 'serioese': 5396, 'soldaten': 5397, 'museumsdoerfer': 5398, 'strucki': 5399, 'argument': 5400, 'koehler': 5401, 'hybris': 5402, 'lobby': 5403, 'eisenhower': 5404, 'paralla80562715': 5405, 'sigmargabriel': 5406, 'vermeintlich': 5407, 'heutzutage': 5408, 'einziges': 5409, 'scheinbar': 5410, 'lauf': 5411, 'vollluegen': 5412, 'shuggy3531294': 5413, 'geflohen': 5414, 'luegner': 5415, 'terroristische': 5416, 'nwo': 5417, 'falle': 5418, 'staemme': 5419, 'handlung': 5420, 'wirren': 5421, 'deutet': 5422, 'isidormeyer1': 5423, 'joanacotar': 5424, 'talmud': 5425, 'patriot92358398': 5426, 'souveraenitaet': 5427, 'bibel': 5428, 'sebastianlotzer': 5429, 'gibst': 5430, 'dankeolga': 5431, 'cool': 5432, 'hannanoori': 5433, 'samelou': 5434, 'moetant36': 5435, 'motor': 5436, 'stecken': 5437, 'radicalpast': 5438, 'ge': 5439, 'nunmehr': 5440, 'ausnahmeregelung': 5441, 'surprise': 5442, 'berufsverbot': 5443, 'versauen': 5444, 's21': 5445, 'senior': 5446, 'heizung': 5447, 'hoechstwahrscheinlich': 5448, 'header': 5449, 'knie': 5450, 'fascho': 5451, 'idealform': 5452, 'kinderlebenfrei': 5453, 'draht': 5454, 'menschlichen': 5455, 'seine': 5456, 'vivi': 5457, '4234': 5458, 'burka': 5459, 'seitdem': 5460, 'bis': 5461, 'nahen': 5462, 'keremschamberg': 5463, 'pegidioten': 5464, 'verdienst': 5465, 'weltweiten': 5466, 'folglich': 5467, 'herunter': 5468, 'momentan': 5469, 'followerpower': 5470, 'ausende': 5471, 'pulsfeuer': 5472, 'handwerker': 5473, 'haeufiger': 5474, 'strecke': 5475, 'sauce': 5476, 'angehoerigen': 5477, 'kleinstpa': 5478, 'ueberheblichkeit': 5479, 'charly': 5480, 'mensuel': 5481, 'kenn': 5482, 'ritawerner7': 5483, 'einverstanden': 5484, 'pflanzen': 5485, 'unerheblich': 5486, 'benzin': 5487, 'marketing': 5488, 'strategie': 5489, 'cousin': 5490, 'stechen': 5491, 'banane0711': 5492, 'lovelycologne': 5493, 'fuhren': 5494, 'schwarzen': 5495, 'holler': 5496, 'jimmy': 5497, 'meyer': 5498, 'machs': 5499, 'jammern': 5500, 'kopftisch': 5501, 'weltherrschor': 5502, 'waffel': 5503, 'haengst': 5504, 'offelcore': 5505, 'blackmosqcrew': 5506, 'probie': 5507, 'kelticca': 5508, 'posts': 5509, 'eskalie': 5510, 'bschuller': 5511, 'notwendigen': 5512, 'panda': 5513, 'munich': 5514, 'kids': 5515, 'grundlagen': 5516, 'wille': 5517, 'sumpf': 5518, 'mv': 5519, 'beleidigte': 5520, 'fand': 5521, 'erholt': 5522, 'sebczaja': 5523, 'papier': 5524, 'keinerlei': 5525, '161taunus': 5526, '150': 5527, 'grille': 5528, 'chompa': 5529, 'ausreise': 5530, 'stempel': 5531, 'einreise': 5532, '161': 5533, 'bot': 5534, 'nicoleherder': 5535, 'naaaa': 5536, 'raegst': 5537, 'ibus': 5538, 'weglassen': 5539, 'dublinstinkt': 5540, 'ihm': 5541, 'jung': 5542, 'zahlreiche': 5543, 'buerokraten': 5544, 'mitgliedschaft': 5545, 'wehrpflicht': 5546, 'staendige': 5547, 'sollt': 5548, 'namens': 5549, 'floriangathmann': 5550, 'superstaats': 5551, 'echten': 5552, 'miete': 5553, 'nachfrage': 5554, 'verbrannt': 5555, 'kraftwerken': 5556, 'praxis': 5557, 'genuegend': 5558, 'hautfarbe': 5559, 'versammelt': 5560, 'verschwoerungstheorien': 5561, 'legen': 5562, 'getoetet': 5563, 'angestellte': 5564, 'staatsfernsehen': 5565, 'regierungspolitik': 5566, 'chinesischen': 5567, 'jeweilige': 5568, 'warm': 5569, 'walde': 5570, 'nataschakohnen': 5571, 'ausstieg': 5572, 'ieft': 5573, 'identitaet': 5574, 'nazigegnerin': 5575, 'rettete': 5576, 'multilateralismus': 5577, 'urheber': 5578, 'gewaltenteilung': 5579, 'oma': 5580, 'psychologische': 5581, 'absoluten': 5582, 'faust': 5583, 'fraeulein': 5584, 'scharf': 5585, 'duennes': 5586, 'unkontrollie': 5587, 'verfuegen': 5588, 'ablehnung': 5589, 'lebensluege': 5590, 'arabischen': 5591, 'geniessen': 5592, 'eingetreten': 5593, 'nannte': 5594, 'denkweise': 5595, 'raf': 5596, 'ziel': 5597, 'abgeben': 5598, 'europas': 5599, 'solle': 5600, 'zurueckgekeh': 5601, 'wahn': 5602, '1933': 5603, 'durchsetzen': 5604, 'unfaehigkeit': 5605, 'sammeln': 5606, 'altmedien': 5607, 'ablegen': 5608, 'ernstes': 5609, 'doppelten': 5610, 'mittelfristig': 5611, 'absurde': 5612, 'hetzerischen': 5613, 'gloria': 5614, 'schach': 5615, 'truppen': 5616, 'besorgte': 5617, 'abschied': 5618, 'automobil': 5619, 'moralischen': 5620, 'perspektive': 5621, 'wichtige': 5622, 'endgueltig': 5623, 'schlimmsten': 5624, 'entziehen': 5625, 'hacker': 5626, 'konten': 5627, 'gestuerzt': 5628, 'mordanschlag': 5629, 'passanten': 5630, 'erfinder': 5631, '1979': 5632, 'spueren': 5633, 'verbalen': 5634, 'quatschen': 5635, 'entlarven': 5636, 'berufspolitiker': 5637, 'friesenphilosoph': 5638, 'th': 5639, 'draengen': 5640, 'usbouwman': 5641, 'staedtischen': 5642, 'freundin': 5643, 'zeitonlinespo': 5644, 'allee': 5645, 'sass': 5646, 'zuvor': 5647, 'bloeder': 5648, 'grenzdebilen': 5649, 'atmosphaere': 5650, 'ueberzeugung': 5651, 'reegegil': 5652, 'altmaier': 5653, 'privat': 5654, 'aerger': 5655, 'minderwe': 5656, 'unterlegt': 5657, 'sicherer': 5658, 'getreten': 5659, 'gestossen': 5660, 'brutalitaet': 5661, 'industrie': 5662, 'anfuehrerin': 5663, 'staats': 5664, 'innerislamischer': 5665, 'glaubenskrieg': 5666, 'internationaler': 5667, 'faul': 5668, 'koestlich': 5669, 'reduzieren': 5670, 'moscheesteuer': 5671, 'steuer': 5672, 'austreten': 5673, 'finanzierung': 5674, 'sharia': 5675, 'dauernd': 5676, 'tisch': 5677, 'anbietet': 5678, 'marokko': 5679, 'misscaro': 5680, 'unterstuetzer': 5681, 'doragezwitscher': 5682, '131': 5683, 'milizen': 5684, 'sterben': 5685, 'bestialische': 5686, 'begann': 5687, 'wissenschaftliche': 5688, 'experimenten': 5689, 'verbietet': 5690, 'belogen': 5691, 'akten': 5692, 'fanatische': 5693, 'staerkste': 5694, 'substanz': 5695, 'kaempft': 5696, 'paritegesetz': 5697, 'beseitigen': 5698, 'rezession': 5699, 'zuschlaegt': 5700, 'einstellen': 5701, 'regimes': 5702, 'tendenziell': 5703, 'kinderschaendung': 5704, 'ostblock': 5705, 'verhassten': 5706, 'zusammengebrochen': 5707, 'schaftliche': 5708, 'grenzkontrollen': 5709, 'bolivar': 5710, '63': 5711, '83': 5712, '145': 5713, 'grueninnen': 5714, 'erhoeht': 5715, 'verstossen': 5716, 'quasi': 5717, 'linksradikalen': 5718, 'scheitern': 5719, 'ausbreitung': 5720, 'einschlaegt': 5721, 'markusehrler': 5722, 'regieren': 5723, 'faulen': 5724, 'erik': 5725, 'werft': 5726, 'ergebnis': 5727, 'jahrelang': 5728, 'dauerhaft': 5729, 'kuscheln': 5730, 'fliegt': 5731, 'unterhaus': 5732, 'zweites': 5733, 'tibet': 5734, 'annexion': 5735, 'ueberfallen': 5736, '1950': 5737, 'indien': 5738, 'bekaempft': 5739, 'andreanahlesspd': 5740, 'ausend': 5741, 'unsinnige': 5742, 'euern': 5743, 'sabotie': 5744, 'scheisshaus': 5745, 'oel': 5746, 'unterhaelt': 5747, 'mp': 5748, 'lenasakurablume': 5749, 'genauer': 5750, 'abgehalten': 5751, 'initiie': 5752, 'kommunalwahl': 5753, 'dollar': 5754, 'klimareligion': 5755, 'liefern': 5756, 'erschreckend': 5757, 'nationalsozialismus': 5758, 'schlaegst': 5759, 'anked': 5760, 'piraten': 5761, 'vorstand': 5762, 'private': 5763, 'minimieren': 5764, 'versagen': 5765, 'chancen': 5766, 'adler': 5767, 'gefangen': 5768, 'sinnvoller': 5769, 'flugzeuge': 5770, 'vorwerfen': 5771, 'pollen': 5772, 'perverser': 5773, 'klimafaschismus': 5774, 'ihrerseits': 5775, 'absetzung': 5776, 'unrechtsregimes': 5777, 'duemmlichen': 5778, 'wahnsinn': 5779, 'betriebserlaubnis': 5780, 'gesetz': 5781, 'handwerk': 5782, 'standard': 5783, 'wissenschaftsfeindlich': 5784, 'ausnahme': 5785, 'letztens': 5786, 'simulation': 5787, 'hubschrauber': 5788, 'hohe': 5789, 'lande': 5790, 'gruendlich': 5791, 'heizen': 5792, 'einschraenkung': 5793, 'legitime': 5794, 'honecker': 5795, 'denk': 5796, 'chile': 5797, 'uebergangsregierung': 5798, 'anerkannt': 5799, 'verschenkt': 5800, 'veranstaltet': 5801, 'diktator': 5802, 'wegfegen': 5803, 'uebergangspraesident': 5804, 'sozialdemokrat': 5805, 'schuhe': 5806, 'axel': 5807, 'magnus': 5808, 'abkommen': 5809, 'abgesetzt': 5810, 'monika': 5811, 'linksextremistischen': 5812, 'zugeben': 5813, 'verbrecherregime': 5814, 'putschist': 5815, 'heldin': 5816, 'anerkennt': 5817, 'erinnerung': 5818, 'umgesetzt': 5819, 'gestrigen': 5820, 'abstimmung': 5821, 'einzutreten': 5822, 'ieren': 5823, 'mannschaften': 5824, 'schweine': 5825, 'daemme': 5826, 'scharia': 5827, 'gutmannmanfred': 5828, 'rrg': 5829, 'axell90263793': 5830, 'kommunikation': 5831, 'geruecht': 5832, 'knete': 5833, 'abschiebung': 5834, 'kriegsverbrechen': 5835, 'dergermane2': 5836, 'buchen': 5837, 'aposener': 5838, 'volker': 5839, 'boot': 5840, 'freiheitlich': 5841, 'grundordnung': 5842, 'spdberlin': 5843, 'bitter': 5844, 'gebrauchen': 5845, 'wirkliche': 5846, 'neigungen': 5847, 'verschaffen': 5848, 'dianekrass': 5849, 'verfassungsfeindlich': 5850, 'pat22344': 5851, 'strafen': 5852, 'substanzlosen': 5853, 'verbotsfetischisten': 5854, 'freundlich': 5855, 'fliegst': 5856, 'duennschiss': 5857, 'tschuess': 5858, 'sturmtruppen': 5859, 'freisler': 5860, 'schergen': 5861, 'ultra': 5862, 'vielzahl': 5863, 'viel': 5864, 'marxistischen': 5865, 'bildet': 5866, 'nationalsozialisten': 5867, 'intellektuell': 5868, 'hofschranzen': 5869, 'linkspopulistischer': 5870, 'schlepper': 5871, 'relevanz': 5872, 'abzusetzen': 5873, 'rollt': 5874, 'raten': 5875, 'manuelakoller2': 5876, 'bruessel': 5877, 'aufpassen': 5878, 'afrika': 5879, 'jelpke': 5880, 'beweissicherung': 5881, 'jim': 5882, 'beau': 5883, 'risiko': 5884, 'notwehr': 5885, 'ministerpraesidenten': 5886, 'schaftsfluechtlinge': 5887, 'prueffall': 5888, 'rathaus': 5889, 'iv': 5890, 'gell': 5891, 'abtreiben': 5892, 'schaechten': 5893, 'beschneidung': 5894, 'persoenlichkeits': 5895, 'scham': 5896, 'loedwood': 5897, 'rechtsradikalen': 5898, 'realshira': 5899, 'meinungsaeusserung': 5900, 'katjakipping': 5901, 'fckantifa': 5902, 'vorgehen': 5903, 'erwinkussmaul': 5904, 'verzer': 5905, 'mtubeman': 5906, 'arrogant': 5907, 'terrororganisation': 5908, 'distanzie': 5909, 'empfangen': 5910, 'din': 5911, 'waehre': 5912, 'schwere': 5913, 'seilschaften': 5914, '450': 5915, 'onkeljurgen': 5916, 'varg': 5917, 'veum': 5918, 'zeitarbeit': 5919, 'streng': 5920, 'kath': 5921, 'verifizie': 5922, 'bereichen': 5923, 'held': 5924, 'heranzuziehen': 5925, 'polizeimuenchen': 5926, 'engagieren': 5927, 'misscharlez': 5928, 'zwecke': 5929, 'wuerstchen': 5930, 'traurige': 5931, 'anzeige': 5932, 'vgl': 5933, 'strafprozessordnung': 5934, 'delikte': 5935, 'antragsdelikt': 5936, 'strafantrag': 5937, '77': 5938, 'stgb': 5939, 'nullnummer': 5940, 'wie': 5941, 'hetzlichendank': 5942, 'biste': 5943, 'kontravets': 5944, 'brueder': 5945, 'unglaeubige': 5946, 'maxihome27': 5947, 'uni': 5948, 'aluhutt': 5949, 'jaaa': 5950, 'sophiefee2': 5951, 'rasier': 5952, 'zitate': 5953, 'afgveteran': 5954, 'holgermeinel': 5955, 'diehumanisten': 5956, 'vergiftet': 5957, 'jaa': 5958, 'baum': 5959, 'gereicht': 5960, 'cdusachsen': 5961, 'hakijaavdic': 5962, '7lebt': 5963, 'sn': 5964, 'spoontabby': 5965, 'andrelogen': 5966, 'ch': 5967, 'erklaer': 5968, 'selbe': 5969, 'kulturelle': 5970, 'stevehermanne': 5971, 'faulheit': 5972, 'technik': 5973, 'gruss': 5974, 'ohhh': 5975, 'duezentekkal': 5976, 'faschistisches': 5977, 'djvde': 5978, 'inc': 5979, 'xellmann': 5980, 'aergern': 5981, 'innere': 5982, 'oezlemtopcu': 5983, 'dietmarba': 5984, 'iger': 5985, 'beleidigungen': 5986, 'theorie': 5987, 'vermittelt': 5988, 'trollaccount': 5989, 'azeckenbiss': 5990, 'existenz': 5991, 'schuetzt': 5992, 'schreien': 5993, 'evira48881550': 5994, 'entnehmen': 5995, 'geschmackloser': 5996, 'hapeka01': 5997, 'golzheimer': 5998, 'wattsefacker': 5999, 'gegenseitig': 6000, 'heiligtag': 6001, 'ketamin': 6002, 'anjakli': 6003, 'turbobuchung': 6004, 'sunny': 6005, 'mayhem': 6006, 'daniel': 6007, 'drugstore': 6008, 'gentrifizierung': 6009, 'dauerhafte': 6010, 'verdraengung': 6011, 'vermisse': 6012, 'solidarisieren': 6013, 'smash': 6014, 'raeume': 6015, 'belastet': 6016, 'thawraone': 6017, 'wellblechdach': 6018, 'gegrilltebanane': 6019, 'ruesselst': 6020, 'ncolnz': 6021, 'poebelei': 6022, 'unterhaltung': 6023, 'reinruesseln': 6024, 'meltingm8': 6025, 'muedi': 6026, 'halts': 6027, 'goldenetage': 6028, 'twitterknast': 6029, 'wtf': 6030, 'radikale': 6031, 'unterhalten': 6032, 'uebergriffig': 6033, 'unreflektie': 6034, 'heissen': 6035, 'november': 6036, 'pret': 6037, 'gelesene': 6038, 'gezielt': 6039, 'antifatraeumer': 6040, 'schwarzekatze': 6041, 'balance': 6042, 'max': 6043, 'fussgaenger': 6044, 'midyatli': 6045, 'gegruendet': 6046, 'wahlergebnisse': 6047, 'vielmehr': 6048, 'iirc': 6049, 'enricokreft': 6050, 'moin81787269': 6051, 'schwattebea': 6052, 'kn': 6053, 'b76': 6054, 'rdeck': 6055, 'herzlichen': 6056, 'kinderarbeit': 6057, 'kersten': 6058, 'dergiebel': 6059, 'gaehn': 6060, 'simone': 6061, 'stephanweil': 6062, 'mfratzscher': 6063, 'arbeitsplatz': 6064, 'christundlinks': 6065, 'uebergang': 6066, 'revolutionaere': 6067, 'schweitzer': 6068, 'gabs': 6069, 'finanzpolitik': 6070, 'debattencamp': 6071, 'coralproject': 6072, 'ordentlichen': 6073, 'diskutier': 6074, 'zeitrafferin': 6075, 'alex': 6076, 'menschenrecht': 6077, 'duerfte': 6078, 'wilmsval': 6079, 'jensausbochum': 6080, 'ehrenamt': 6081, 'generalsekretaer': 6082, '2008': 6083, '2009': 6084, 'angefangen': 6085, 'entlasten': 6086, 'prozentig': 6087, 'entsprach': 6088, 'bestanden': 6089, 'stimmberechtigt': 6090, 'familiennachzug': 6091, 'ehepa': 6092, 'tommyschett': 6093, 'bildung': 6094, 'adfc': 6095, 'fahrradclub': 6096, 'bessersode': 6097, 'manske': 6098, 'gaesten': 6099, 'enricotokar': 6100, 'spdbordesholm': 6101, 'georgscharioth': 6102, 'klokea': 6103, 'kobsalbe': 6104, 'verenahube': 6105, 'bundesgesundheitsminister': 6106, 'kapieren': 6107, 'klappt': 6108, 'showkuenstlerde': 6109, 'geeh': 6110, 'com': 6111, 'staerke': 6112, 'hitlergruesse': 6113, 'verharmlost': 6114, 'marschie': 6115, 'verfassungsschutzes': 6116, 'amri': 6117, 'versagt': 6118, 'beraet': 6119, 'menschenfeind': 6120, 'inneren': 6121, 'offenkundig': 6122, 'kretschmer': 6123, 'salonfaehig': 6124, 'braune': 6125, 'pegizei': 6126, 'schwerverletzte': 6127, 'svenishell': 6128, 'geschehnisse': 6129, 'proteste': 6130, 'antikapitalistischen': 6131, 'mobi': 6132, 'freefede': 6133, 'parallel': 6134, 'sonderzug': 6135, 'refugee': 6136, 'camp': 6137, 'ticker': 6138, 'rostock': 6139, 'offline': 6140, 'vermummt': 6141, 'hilfreich': 6142, 'gekleidete': 6143, 'stoerergruppe': 6144, 'staedten': 6145, 'dom': 6146, 'admiralstr': 6147, 'burgplatz': 6148, 'anmelder': 6149, 'werner': 6150, 'gegenstaende': 6151, '49': 6152, 'antikapitalistischer': 6153, 'capitalism': 6154, 'wanderkessel': 6155, 'depo': 6156, 'ation': 6157, '18h': 6158, 'mobivideo': 6159, 'sued': 6160, 'nord': 6161, '2013': 6162, 'zelt': 6163, 'roemerberg': 6164, 'm31': 6165, 'gunsten': 6166, 'fuersten': 6167, 'gelb': 6168, 'stolpersteine': 6169, '0001f927': 6170, '0001f975': 6171, 'erhoehen': 6172, 'selig': 6173, 'unterirdisch': 6174, 'direktor': 6175, 'geschaetzt': 6176, 'naund10': 6177, 'hsts': 6178, 'schaeuble': 6179, 'beschaemend': 6180, 'hr': 6181, 'kall90384061': 6182, 'festgenommen': 6183, 'janarudolph13': 6184, 'hofreiter': 6185, 'oekostrom': 6186, 'entsorgung': 6187, 'nachsorge': 6188, 'mathematik': 6189, 'schachzug': 6190, 'migrant': 6191, '0001f632': 6192, 'steuerzahlern': 6193, 'unterschiedlicher': 6194, 'eilmeldung': 6195, 'hpfahle': 6196, 'munduntotbar': 6197, 'josefweiglein': 6198, '0001f61f': 6199, 'kritisier': 6200, 'warnt': 6201, 'hebron': 6202, 'navigie': 6203, 'eingriffe': 6204, 'geschehen': 6205, 'klaren': 6206, 'rechtswidrig': 6207, 'buergers': 6208, 'seife': 6209, 'alliie': 6210, 'gedenktag': 6211, 'luxemburg': 6212, 'liebknecht': 6213, 'sahra': 6214, 'stefan': 6215, 'ueberzeugt': 6216, 'nahe': 6217, 'bedacht': 6218, 'anlass': 6219, 'kackscheisze': 6220, 'verpasst': 6221, 'permanent': 6222, 'vera': 6223, 'nocdu': 6224, 'gruesze': 6225, 'sim': 6226, 'kannte': 6227, 'zugeordnet': 6228, 'abtreibungsgegner': 6229, 'flens': 6230, 'pirat': 6231, 'bublies': 6232, 'kriegsverbrecher': 6233, 'screenshot': 6234, 'onlineplattform': 6235, 'vereins': 6236, 'nadine': 6237, 'luise': 6238, 'rassistische': 6239, 'nofundis': 6240, 'genderkrieg': 6241, 'iso': 6242, 'reproduzieren': 6243, 'rettungstasse': 6244, 'offensive': 6245, 'dringender': 6246, 'oktoberfest': 6247, 'verlagen': 6248, 'vereinen': 6249, 'verlinkungen': 6250, 'kas': 6251, 'ilumiriel': 6252, 'verkommen': 6253, 'mehlprinzessin': 6254, 'faloeffelfoks': 6255, 'kuerze': 6256, 'hense': 6257, 'ergaenzenden': 6258, 'wissenschaftlicher': 6259, 'barcode': 6260, 'huellen': 6261, 'treffpunkt': 6262, 'hinblick': 6263, 'lehne': 6264, 'harald': 6265, 'weyel': 6266, 'tumult': 6267, 'larswienand': 6268, 'gegenwind': 6269, 'fbm2018': 6270, 'generatoren': 6271, 'irr': 6272, 'orgas': 6273, 'regin': 6274, 'narzisse': 6275, 'anbetracht': 6276, 'homosexuellenfeindlichen': 6277, 'ueberschrift': 6278, 'sezession': 6279, 'jf': 6280, 'scholl': 6281, 'evangelikale': 6282, 'formelfriedrich': 6283, 'unterzeichner': 6284, 'wochenzeitung': 6285, 'referent': 6286, 'prochoice': 6287, 'pfui': 6288, 'sallowthorn': 6289, 'thegurkenkaiser': 6290, 'libre': 6291, 'jr': 6292, 'begruendet': 6293, 'judentum': 6294, 'israels': 6295, 'betrug': 6296, 'fariss': 6297, 'israelisten': 6298, 'iof': 6299, 'akteur': 6300, 'angegriffen': 6301, 'junta': 6302, '1973': 6303, 'neoliberalismus': 6304, 'ausgearbeitet': 6305, 'boys': 6306, 'freiraum': 6307, 'beschlossen': 6308, 'spuren': 6309, 'toetete': 6310, 'faschisie': 6311, '2025': 6312, 'antikriegstag': 6313, 'klapperfeldstrasse': 6314, 'hausdurchsuchungen': 6315, 'mohnblume2000': 6316, 'gaza': 6317, 'tel': 6318, 'aviv': 6319, 'haifa': 6320, 'jerusalem': 6321, 'repressive': 6322, 'gefluechteten': 6323, 'massiver': 6324, 'bullengewalt': 6325, 'movement': 6326, '062c': 6327, 'imperialistischer': 6328, 'aktivistinnen': 6329, 'anklage': 6330, 'muentzer': 6331, 'bauernkrieg': 6332, '250': 6333, 'here': 6334, 'schliesst': 6335, 'temme': 6336, 'staatsschutz': 6337, 'kpfrankfu': 6338, 'page': 6339, 'staatsschutzes': 6340, 'bgk': 6341, 'ak31er': 6342, 'katharinakoenig': 6343, 'cizre': 6344, 'jahrestag': 6345, 'str': 6346, 'junker': 6347, 'abg': 6348, 'ordnet': 6349, 'share': 6350, 'shelternow': 6351, 'butzbach': 6352, 'akp': 6353, 'ermordung': 6354, 'schlagstockeinsatz': 6355, 'saalbau': 6356, 'darmstadt': 6357, 'luisenplatz': 6358, 'welcome': 6359, 'azad': 6360, 'yxk': 6361, 'meinfrankfu': 6362, 'heidi': 6363, 'temporaer': 6364, 'pegidaffm': 6365, 'oenen': 6366, 'nopegidaffm': 6367, 'pfeffer': 6368, 'tuned': 6369, 'exzess': 6370, 'festnahme': 6371, '0160': 6372, 'voltaire': 6373, 'berxwedana': 6374, 'khaled': 6375, 'idris': 6376, 'bahray': 6377, 'fluechtling': 6378, 'ableger': 6379, 'carlos': 6380, 'anarchists': 6381, 'against': 6382, 'wall': 6383, 'raumstation': 6384, 'roedelheim': 6385, 'gezi': 6386, 'kanone': 6387, 'gebaucht': 6388, 'gekillt': 6389, 'verlogenen': 6390, 'gemordet': 6391, 'koran': 6392, 'freundschaften': 6393, 'entwickeln': 6394, 'hinterkopf': 6395, 'nute': 6396, 'jpn': 6397, 'pmo': 6398, 'gemaess': 6399, 'sicherheitsve': 6400, 'kapazitaeten': 6401, 'territorium': 6402, 'japans': 6403, 'zergehen': 6404, 'militaerbasen': 6405, 'kurilen': 6406, 'errichten': 6407, 'schmierenkomoedianten': 6408, 'libyschen': 6409, 'schippern': 6410, 'individualitaet': 6411, 'auszubauen': 6412, 'pflicht': 6413, 'verecken': 6414, 'arbeitskraefte': 6415, 'ueberlegt': 6416, 'arbeitslosen': 6417, 'roboter': 6418, 'weggenommen': 6419, 'weltherrschaft': 6420, 'wirklichen': 6421, 'harz': 6422, 'erschlagen': 6423, 'gedenke': 6424, 'zumal': 6425, 'poren': 6426, 'unterbinden': 6427, 'radikalislamische': 6428, 'muslimbruderschaft': 6429, 'islamisieren': 6430, 'tiefes': 6431, 'loch': 6432, 'bum': 6433, 'schaufeln': 6434, 'beitreten': 6435, 'weltordnung': 6436, 'sande': 6437, 'verlaeuft': 6438, 'feigling': 6439, 'spezialeinheiten': 6440, 'uniform': 6441, 'angeordnet': 6442, 'illusionen': 6443, 'weib': 6444, 'gedenkkultur': 6445, 'sawsan': 6446, 'freches': 6447, 'versohlen': 6448, 'ekelt': 6449, 'anzufassen': 6450, 'asozialste': 6451, 'express24': 6452, 'verdammtes': 6453, 'kriegerisches': 6454, 'miststueck': 6455, 'violences': 6456, 'polici': 6457, 'res': 6458, 'france': 6459, 'schmusi': 6460, 'animie': 6461, 'drecksack': 6462, 'betrachte': 6463, 'verleitet': 6464, 'arbeitskraft': 6465, 'lohn': 6466, 'asylrecht': 6467, 'observie': 6468, 'weiser': 6469, 'vernuemftiger': 6470, 'kochtopf': 6471, 'fingerhut': 6472, 'vergleichen': 6473, 'waoterkonterau': 6474, 'primitiv': 6475, 'taschen': 6476, 'stopfen': 6477, 'stecht': 6478, 'machtdemonstration': 6479, 'flutschen': 6480, 'haufen': 6481, 'emmanuelmacron': 6482, 'wozu': 6483, 'zugehoe': 6484, 'asozialer': 6485, 'schnellzuender': 6486, 'diktators': 6487, 'verfluchten': 6488, 'atombomben': 6489, 'rottet': 6490, 'british': 6491, 'army': 6492, 'skrupellos': 6493, 'erschiessen': 6494, 'nieder': 6495, 'brennend': 6496, 'ine': 6497, 'isieren': 6498, 'schwarzgeld': 6499, 'benoetigt': 6500, 'atombunker': 6501, 'unterirdischen': 6502, 'gaengen': 6503, 'annette': 6504, 'salvini': 6505, 'brauchst': 6506, 'hamed': 6507, 'samad': 6508, 'vergoette': 6509, 'individuum': 6510, 'unterordnet': 6511, 'wiederum': 6512, 'besitzt': 6513, 'dogmatisch': 6514, 'ratte': 6515, 'kaefig': 6516, 'konsens': 6517, 'besuchen': 6518, 'christlich': 6519, 'zufunkt': 6520, 'entscheidet': 6521, 'eingesessenen': 6522, 'straflager': 6523, 'kinderporno': 6524, 'ring': 6525, 'gruender': 6526, 'maire': 6527, 'gefaengnis': 6528, 'brisanten': 6529, 'aushebeln': 6530, 'legalen': 6531, 'drecksaecken': 6532, 'maasmaenschen': 6533, 'strotzt': 6534, 'abruesten': 6535, 'aufruesten': 6536, 'par': 6537, 'excellence': 6538, 'offenlegung': 6539, 'bmw': 6540, 'bmwdeutschland': 6541, 'gekaufter': 6542, 'insinuie': 6543, 'last': 6544, 'auslaenderbehoerde': 6545, 'kanadierin': 6546, 'ausgewiesen': 6547, 'mary': 6548, 'ann': 6549, 'elender': 6550, 'involvie': 6551, 'schmeisst': 6552, 'entsorgen': 6553, 'lebensformen': 6554, 'spiegelt': 6555, 'hirnverbrannter': 6556, 'unterentwickelte': 6557, 'unternimmst': 6558, 'asozialen': 6559, '1200': 6560, 'hoehe': 6561, 'fallschirm': 6562, 'helm': 6563, 'verletzen': 6564, 'aggression': 6565, 'muellkippe': 6566, 'hinterlassen': 6567, 'aufraeumen': 6568, 'nagelschere': 6569, 'schneiden': 6570, 'mekel': 6571, 'schmeissen': 6572, 'anreden': 6573, 'naher': 6574, 'befehl': 6575, 'aermsten': 6576, 'abzuzocken': 6577, 'verleitung': 6578, 'diebstahl': 6579, 'herholen': 6580, 'russiabeyond': 6581, 'winterfest': 6582, 'mauer': 6583, 'erwecken': 6584, 'trueffelschweine': 6585, 'geldboersenschweine': 6586, 'bundesgerichtshof': 6587, 'uebersetzung': 6588, 'kardinal': 6589, 'woelki': 6590, 'paedophile': 6591, 'vergewaltiger': 6592, 'staete': 6593, 'einlarven': 6594, 'gebauten': 6595, 'zurueckzahlen': 6596, 'israelingermany': 6597, 'illegalem': 6598, 'mohammed': 6599, 'salman': 6600, 'rechtswissenschaft': 6601, 'auftragskiller': 6602, 'thiele': 6603, 'domikronos': 6604, 'dergleichen': 6605, 'obedmarsh': 6606, 'begruende': 6607, 'vermischung': 6608, 'irgendwelcher': 6609, 'betuel': 6610, 'character': 6611, 'zusage': 6612, 'leyen': 6613, 'goldjungen': 6614, 'gemause': 6615, 'politikerpak': 6616, 'jagt': 6617, 'benziner': 6618, 'wasserstoff': 6619, 'angetriebene': 6620, 'goldjunge': 6621, 'abzuleisten': 6622, 'poroschenko': 6623, 'schwarzgeschaeft': 6624, 'ruestung': 6625, 'killer': 6626, 'baustelle': 6627, 'denkmal': 6628, 'selbststaendig': 6629, 'dogmatik': 6630, 'kaemm': 6631, 'meiersimson': 6632, 'verhaelt': 6633, 'vernuemftig': 6634, 'nazistisch': 6635, 'saugt': 6636, 'isanen': 6637, 'verfluchter': 6638, 'marokkanern': 6639, 'einzufloessen': 6640, 'nazistische': 6641, 'rudelfuehrer': 6642, 'exhibitionisten': 6643, 'haldenwangnn': 6644, 'ungutes': 6645, 'verheimlicht': 6646, 'auszuloesen': 6647, 'safari': 6648, '61': 6649, 'beraten': 6650, 'ivanrodionov': 6651, 'lutschen': 6652, 'unserjena': 6653, 'eingerichtet': 6654, 'klinke': 6655, 'venezolanische': 6656, 'aufhetzen': 6657, 'verklagen': 6658, 'rufmord': 6659, 'schwammiger': 6660, 'besitzverhaeltnisse': 6661, 'oekonomisch': 6662, 'vasall': 6663, 'einzupruegeln': 6664, 'joachimscheich': 6665, 'angewiesen': 6666, 'saschalobo': 6667, 'ironie': 6668, 'islamhetze': 6669, 'waerst': 6670, 'duemmling': 6671, 'stecker': 6672, 'rassistisches': 6673, 'weltbild': 6674, 'erschuette': 6675, 'gewinnst': 6676, 'blumentopf': 6677, 'chinesen': 6678, 'knickt': 6679, 'imperialist': 6680, 'holgersiebe': 6681, 'hofjuden': 6682, 'terminfracht': 6683, 'dauerorgasmus': 6684, 'bedauernswe': 6685, 'aufregt': 6686, 'daemonisierung': 6687, 'zweck': 6688, 'disfosgen': 6689, 'anlastet': 6690, 'orban': 6691, 'mini': 6692, 'abnoetigten': 6693, 'verstand': 6694, 'ablenkungsmanoever': 6695, 'loesungen': 6696, 'tragende': 6697, 'vorhandenen': 6698, 'anwesenheit': 6699, 'trend': 6700, 'islamhass': 6701, 'aufgemacht': 6702, 'glasklare': 6703, 'verschleiern': 6704, 'leugnen': 6705, 'vorwuerfe': 6706, 'prozentpunkte': 6707, 'entkraeftet': 6708, 'islamkritiker': 6709, '0001f911': 6710, 'vespasianus69bc': 6711, 'belieben': 6712, 'instrumentalisie': 6713, 'jjhavemann': 6714, 'zionistischer': 6715, 'manier': 6716, 'decksarbeit': 6717, 'musterdemokraten': 6718, 'ermoeglicht': 6719, 'einheimischen': 6720, 'ausschlachtet': 6721, 'puettmann': 6722, 'antijuedisch': 6723, 'antiislamisch': 6724, 'zionheuchler': 6725, 'bildschmierfink': 6726, 'ikonenstatus': 6727, 'daemonisie': 6728, 'loszulegen': 6729, 'ausgehend': 6730, 'segen': 6731, 'gewollt': 6732, 'tagespolitik': 6733, 'verlust': 6734, 'ko': 6735, 'liverpool': 6736, 'parat': 6737, 'charliemayvuele': 6738, 'ikone': 6739, 'vorsteht': 6740, 'hinterfragt': 6741, 'geschriebene': 6742, 'busreise': 6743, 'kroatien': 6744, 'schengen': 6745, 'zugpferd': 6746, 'ausgesucht': 6747, 'fungie': 6748, 'rhetorik': 6749, 'beweist': 6750, 'taetervolk': 6751, 'angekreidet': 6752, 'wichtigeren': 6753, 'kommentars': 6754, 'nebensaechlich': 6755, 'frankklarname': 6756, 'hoechstens': 6757, 'bengalomusik': 6758, 'justuserb3': 6759, 'nachdenkseiten': 6760, 'swraktuell': 6761, 'bosnischen': 6762, 'premier': 6763, 'league': 6764, 'bl': 6765, 'rowdy': 6766, 'benehmen': 6767, 'watchingyou81': 6768, 'irgendetwas': 6769, 'plagt': 6770, 'romy': 6771, 'isback': 6772, 'mobilisie': 6773, 'ifikate': 6774, 'kunibe': 6775, 'ingmarstadelman': 6776, 'vergasen': 6777, 'praktiken': 6778, 'angelehnt': 6779, 'bewaffnete': 6780, 'miliz': 6781, 'juedisch': 6782, 'christlicher': 6783, 'anmeldet': 6784, 'taliban': 6785, 'korrumpieren': 6786, 'impressum': 6787, 'newelmedia': 6788, 'pozelt': 6789, 'gemeinwohl': 6790, 'masseyfriend': 6791, 'mitmachten': 6792, 'minderheit': 6793, 'begruessen': 6794, 'erkrankung': 6795, 'propagandaform': 6796, 'guenstig': 6797, 'folgekosten': 6798, 'guek62': 6799, 'muslimstar': 6800, 'nationalmannschaft': 6801, 'senf': 6802, 'appt': 6803, 'followern': 6804, 'zurueckrudern': 6805, 'ideologischen': 6806, 'unterstellung': 6807, 'wohlstand': 6808, 'meckern': 6809, 'cdgham': 6810, 'nochmals': 6811, 'hassprediger': 6812, 'vernichtungslager': 6813, 'basf': 6814, 'hoechst': 6815, 'unachalnik': 6816, 'leim': 6817, 'islamischen': 6818, 'polizeikontrolle': 6819, 'banden': 6820, 'standen': 6821, 'gaesteliste': 6822, 'eingangstor': 6823, 'lagers': 6824, 'eidigst': 6825, 'farmer': 6826, 'suedafrika': 6827, 'fremdes': 6828, 'einverleibt': 6829, 'parsaahmadnia': 6830, 'monowitz': 6831, 'keinlemming': 6832, 'gebildete': 6833, 'gehirnwaschstrasse': 6834, 'finanzstarken': 6835, 'investoren': 6836, 'vedient': 6837, 'verkauf': 6838, 'bleichgesichter': 6839, 'buntuwanderung': 6840, 'ausenden': 6841, 'viehzuechter': 6842, 'weideland': 6843, 'beansprucht': 6844, 'besagten': 6845, 'silvesternacht': 6846, 'ominoesen': 6847, 'migrantenhorden': 6848, 'fremdkoerper': 6849, 'akif': 6850, 'wasch': 6851, 'lappen': 6852, 'turadalet': 6853, 'kaisi13': 6854, 'oelreichste': 6855, 'suedamerika': 6856, 'dorn': 6857, 'prosperieren': 6858, 'lecken': 6859, 'unentschieden': 6860, 'kram': 6861, 'gepasst': 6862, 'islamisch': 6863, 'gerufen': 6864, 'fluchtursache': 6865, 'rgruhn': 6866, 'raeder': 6867, 'konntest': 6868, 'einzug': 6869, 'ohnesinn0815': 6870, 'scheinst': 6871, 'versager': 6872, 'norweger': 6873, 'angler': 6874, 'einsam': 6875, 'tanzen': 6876, 'cares': 6877, 'vunallemebbes': 6878, 'tobi180': 6879, 'jonastwentyone': 6880, 'gefehlt': 6881, 'auspowe': 6882, 'clemenskl': 6883, 'shelovestheusa': 6884, 'echo': 6885, 'gedicht': 6886, 'kreisen': 6887, 'ziegenficker': 6888, 'dargestellt': 6889, 'stattfindet': 6890, 'fahnenkult': 6891, 'ausleben': 6892, 'regt': 6893, 'franzi240600': 6894, 'buehlbecker': 6895, 'homo': 6896, 'mittelkreis': 6897, 'djakobi64': 6898, 'schiedsrichter': 6899, 'bisherigen': 6900, 'analysie': 6901, 'kommentaren': 6902, 'ausscheiden': 6903, 'kueren': 6904, 'ausnahmsweise': 6905, 'verstehn': 6906, 'spielerisch': 6907, 'ruhm': 6908, 'bekleckern': 6909, 'geschulte': 6910, 'ankam': 6911, 'sst3107': 6912, 'krisenmanagement': 6913, 'devise': 6914, 'patriotengebaren': 6915, 'bombt': 6916, 'bmwi': 6917, 'bmu': 6918, 'mathew': 6919, 'bavaria': 6920, 'saar': 6921, 'worldjewishcong': 6922, 'vorfahren': 6923, 'verkackt': 6924, 'ausbaden': 6925, 'anschuldigungen': 6926, 'schneidet': 6927, 'noblessefatigue': 6928, 'zum': 6929, 'wievielten': 6930, 'hochstilisie': 6931, 'tabernamontanu7': 6932, 'sobald': 6933, 'kiew': 6934, 'schuesse': 6935, 'ausgebildeter': 6936, 'oppositionsfuehrer': 6937, 'berufen': 6938, 'heimatland': 6939, 'altar': 6940, 'venezolanischen': 6941, 'hoffnungstraeger': 6942, 'verscherbeln': 6943, 'schwelessio': 6944, 'westdeutschland': 6945, 'dame': 6946, 'dreckspa': 6947, 'faschistin': 6948, 'durchsetzung': 6949, 'schaftlicher': 6950, 'festmachen': 6951, 'treibende': 6952, 'verbundenen': 6953, 'neuzeit': 6954, 'feindbild': 6955, 'verbergen': 6956, 'bescheinigen': 6957, 'zeige': 6958, 'puren': 6959, 'resultie': 6960, 'wahlbetrug': 6961, 'libyer': 6962, 'iraker': 6963, 'diaspora': 6964, 'kerwal3': 6965, 'bevormundung': 6966, 'opferrolle': 6967, 'kindesmissbrauch': 6968, 'einspannt': 6969, 'keim': 6970, 'ersticken': 6971, 'unfallfrei': 6972, 'ueberleitung': 6973, 'salafisten': 6974, 'wieeinverkehrs1': 6975, 'linde964166471': 6976, 'l27027232': 6977, 'friedlichen': 6978, 'bruchteil': 6979, 'vermindern': 6980, 'pauschalisierung': 6981, 'jobbeige': 6982, 'rehabilitie': 6983, 'einsnochamrande': 6984, 'marcusscheller': 6985, 'skythe83': 6986, 'macbeth0815': 6987, 'ajcberlin': 6988, 'antisemiten': 6989, 'ablenkung': 6990, 'nickycolin1': 6991, 'barbara33366': 6992, 'worin': 6993, 'islamhassern': 6994, 'gebretter': 6995, 'gekruste': 6996, 'crust': 6997, 'shades': 6998, 'santa': 6999, 'brawl': 7000, 'fanden': 7001, 'identitaeren': 7002, 'staatl': 7003, 'nachbericht': 7004, 'bn1811': 7005, '57': 7006, 'drinks': 7007, 'strukturelle': 7008, 'falschbehauptungen': 7009, 'demonstrationszug': 7010, 'abschlusskundgebung': 7011, 'park': 7012, 'geplanten': 7013, 'verschaerfung': 7014, 'polizeigesetzes': 7015, 'einschraenkungen': 7016, 'grundrechte': 7017, 'polizeigesetz': 7018, 'schneeballschlacht': 7019, 'bergischen': 7020, '1maiwtal': 7021, 'kaiserplatz': 7022, 'eisiger': 7023, 'rechtsrucks': 7024, 'bushof': 7025, 'zwischenkundgebung': 7026, 'anlaessl': 7027, 'toetung': 7028, 'mitchhenriquez': 7029, 'staatliche': 7030, 'einzelpersonen': 7031, 'herumtreiben': 7032, 'gerichts': 7033, 'prozesse': 7034, 'massiven': 7035, 'loehrzeichen': 7036, 'oha': 7037, 'schonmal': 7038, 'klaerungsbedarf': 7039, 'archiv': 7040, 'erweitern': 7041, 'bock': 7042, 'raetselhafte': 7043, 'flyer': 7044, 'lambe': 7045, 'gleichsetzung': 7046, 'schraegstrich': 7047, 'dessen': 7048, 'gleichsetzungen': 7049, 'behinhalten': 7050, 'akut': 7051, 'raeumungsbedroht': 7052, 'sc': 7053, 'homophobie': 7054, 'dj': 7055, 'stoner': 7056, 'doom': 7057, 'death': 7058, 'too': 7059, 'stoned': 7060, 'ratsam': 7061, 'pogromnachts': 7062, 'etwaige': 7063, 'umtriebigkeiten': 7064, '43': 7065, 'kleingruppe': 7066, 'bewaffneter': 7067, 'rothe': 7068, 'melodic': 7069, 'valley': 7070, 'vermeh': 7071, 'kaltland': 7072, 'sommerzeit': 7073, 'exakt': 7074, 'uhren': 7075, 'durcheinander': 7076, 'kalten': 7077, 'warmen': 7078, 'getraenken': 7079, 'vincetmoll': 7080, 'byebye': 7081, '56': 7082, 'bushcraftrhein1': 7083, 'sarahthies1': 7084, 'aufgr': 7085, 'protestcamp': 7086, 'ofen': 7087, 'freigelassene': 7088, 'fankultur': 7089, 'verschiedene': 7090, 'posthof': 7091, 'sichtungen': 7092, 'grueppchen': 7093, 'abzufangen': 7094, 'hate': 7095, 'skafield': 7096, 'la': 7097, 'familia': 7098, 'nocturnus': 7099, 'habitum': 7100, 'aktionunterholz': 7101, 'rabazkoeln': 7102, 'besetzenberlin': 7103, 'azkoeln': 7104, 'verbinden': 7105, 'solidar': 7106, 'fronten': 7107, 'solidaritaetstatthetze': 7108, 'sheeeshpeng': 7109, 'antifainfoac': 7110, 'seeehr': 7111, 'nachwuchs': 7112, 'gesticke': 7113, '1818': 7114, 'juedisches': 7115, 'cenotaph': 7116, 'anachronism': 7117, 'funk': 7118, 'lhotse': 7119, 'kaczka': 7120, 'zen': 7121, 'versammlungsleiter': 7122, 'gesucht': 7123, 'duldet': 7124, 'rhizom': 7125, 'friedrichstr': 7126, 'gesaac': 7127, 'aufgeheizte': 7128, 'aussprach': 7129, '2041': 7130, 'activist': 7131, 'invited': 7132, 'join': 7133, 'lud': 7134, 'totally': 7135, 'overcrowded': 7136, 'some': 7137, 'imprisoned': 7138, 'comrades': 7139, 'dont': 7140, 'forget': 7141, 'them': 7142, 'ueberfuellten': 7143, 'bzgl': 7144, 'joining': 7145, 'much': 7146, 'hambach': 7147, 'must': 7148, 'anymore': 7149, 'chanting': 7150, 'stays': 7151, 'prisoners': 7152, 'missing': 7153, 'stille': 7154, 'immediate': 7155, 'resignation': 7156, 'interior': 7157, 'innenministers': 7158, '1800': 7159, 'silently': 7160, 'eviction': 7161, 'police': 7162, 'via': 7163, 'auftaktkundgebung': 7164, 'gefolgt': 7165, 'first': 7166, 'speech': 7167, 'opens': 7168, 'followed': 7169, 'silence': 7170, 'already': 7171, 'ing': 7172, 'point': 7173, 'auftakt': 7174, 'hooligans': 7175, 'gestorbenen': 7176, 'getoeteten': 7177, 'huldigen': 7178, 'bietet': 7179, 'selbstschutz': 7180, 'antifannrw': 7181, 'just': 7182, 'xabc': 7183, 'rlx': 7184, 'solidarischen': 7185, 'empfang': 7186, 'geschirr': 7187, 'besteck': 7188, 'autreiben': 7189, 'bringts': 7190, 'gebts': 7191, 'retweet': 7192, 'gesamten': 7193, 'ausruhen': 7194, 'updates': 7195, 'rechtshilfe': 7196, 'pennplatz': 7197, '2103': 7198, 'festgehalten': 7199, 'sachspenden': 7200, 'bspw': 7201, 'zelte': 7202, 'vorbeibringen': 7203, 'leiten': 7204, 'zwecks': 7205, 'direct': 7206, 'message': 7207, 'nachtschicht': 7208, 'derweil': 7209, 'rueckzugso': 7210, 'heisses': 7211, 'kaltes': 7212, 'ruhepause': 7213, 'hacklaenderstr': 7214, 'raise': 7215, 'voices': 7216, 'poetry': 7217, 'slam': 7218, '80s': 7219, '59': 7220, 'innenjagd': 7221, '0177': 7222, '1897053': 7223, 'anderweitige': 7224, 'reisende': 7225, 'geruhsame': 7226, 'anlaufpunkt': 7227, 'warmes': 7228, 'benoetigen': 7229, 'postfach': 7230, 'ankuendigungen': 7231, 'theaterplatz': 7232, 'raeumungs': 7233, 'ultras': 7234, 'maennlichkeit': 7235, 'hallihallo': 7236, 'folgenden': 7237, 'events': 7238, 'revolting': 7239, 'queers': 7240, 'sub': 7241, 'graz': 7242, 'verabschieden': 7243, 'kommenden': 7244, 'wochenuebersicht': 7245, 'queer': 7246, 'seebruecke': 7247, 'haefen': 7248, 'kriminalisierung': 7249, 'fluchtwege': 7250, 'folgendes': 7251, 'wurstclub': 7252, 'ep': 7253, 'releaseshow': 7254, 'fictionpa': 7255, 'frauennetzwerk': 7256, 'staedteregion': 7257, 'metoo': 7258, 'hausbesetzung': 7259, 'muffeter': 7260, 'gebaeude': 7261, 'leerstehen': 7262, 'muffi5': 7263, 'keinschlussstrich': 7264, 'eilsverkuendung': 7265, 'erfreuen': 7266, 'klaenge': 7267, 'kneipen': 7268, 'ime': 7269, 'rapness': 7270, 'schwingt': 7271, 'tanzbein': 7272, 'clash': 7273, 'pt': 7274, 'amanoman1': 7275, 'filmvorfuehrung': 7276, 'dokumentarfilm': 7277, 'hausbesetzungen': 7278, 'tuerkin': 7279, 'grauen': 7280, 'woelfen': 7281, 'egotronic': 7282, 'mighty': 7283, 'five': 7284, 'wandelbar': 7285, 'austeros': 7286, 'erica': 7287, 'freas': 7288, 'autonomes': 7289, 'minutes': 7290, 'schelle': 7291, 'little': 7292, 'brother': 7293, 'space': 7294, 'dubstep': 7295, 'jungle': 7296, 'bass': 7297, 'wobbly': 7298, 'tail': 7299, 'zion': 7300, 'empathea': 7301, '6x8': 7302, 'tour': 7303, 'awaking': 7304, 'neverland': 7305, 'ashes': 7306, 'dreams': 7307, 'fuse': 7308, 'pogendroblem': 7309, 'scruffyheads': 7310, 'bloodstains': 7311, 'black': 7312, 'punkrock': 7313, 'oppositon': 7314, 'oekonomie': 7315, 'religoese': 7316, 'iran': 7317, 'icipation': 7318, 'mosh': 7319, 'ully': 7320, 'nsurrectionary': 7321, 'uxury': 7322, 'q': 7323, 'ueer': 7324, 'pace': 7325, 'narchism': 7326, 'mofo': 7327, 'sexy': 7328, 'humans': 7329, 'h4ck': 7330, 'hal': 7331, 'johnson': 7332, 'snareset': 7333, 'vitamin': 7334, '001': 7335, 'truemmerratten': 7336, 'trashgefluester': 7337, 'flti': 7338, 'hammer': 7339, 'sichel': 7340, 'gepichel': 7341, 'digitalen': 7342, 'ii': 7343, 'kuafoer': 7344, 'keupstrasse': 7345, 'projekts': 7346, 'hintergr': 7347, 'homepage': 7348, 'down': 7349, 'squatbo': 7350, 'koenntet': 7351, 'angesetzte': 7352, 'sasch': 7353, 'heinsberg': 7354, 'angekuendigte': 7355, 'hueckelhoven': 7356, 'baal': 7357, 'kl': 7358, 'junger': 7359, 'trfpkt': 7360, 'koeln2204': 7361, 'bu': 7362, 'scheid': 7363, 'catacombs': 7364, 'utopolis': 7365, 'sissys': 7366, 'reiterstaffel': 7367, 'faudsseldorf': 7368, 'topsy': 7369, 'turvy': 7370, 'mazonit': 7371, 'liqour': 7372, 'lads': 7373, 'pornick': 7374, 'casino': 7375, 'missverstaendnisse': 7376, 'alemannia': 7377, 'fussballfans': 7378, 'movie': 7379, 'refuge': 7380, 'again': 7381, 'clock': 7382, 'leckeres': 7383, 'veganes': 7384, 'one': 7385, 'yummy': 7386, 'zeitstempel': 7387, 'twitte': 7388, 'use': 7389, 'if': 7390, 'actions': 7391, 'anlaufpkt': 7392, 'resseurope': 7393, 'momored21': 7394, '15h': 7395, 'workshops': 7396, 'rechtl': 7397, 'gedenkdemo': 7398, 'promenadenstr': 7399, 'trap': 7400, 'witchhouse': 7401, 'kickermatch': 7402, 'neunzigerjahre': 7403, 'hits': 7404, 'jahrzehnts': 7405, 'psychischesprbl': 7406, 'vage': 7407, 'schland': 7408, 'regentaugliche': 7409, 'suessdorf': 7410, 'ricarda': 7411, 'riefling': 7412, 'thuegida': 7413, 'entfaellt': 7414, 'dreizugrunde': 7415, 'traut': 7416, 'unsern': 7417, 'admins': 7418, 'schwarzrote': 7419, 'analyse': 7420, 'three': 7421, 'duester': 7422, 'anklicken': 7423, 'swagt': 7424, 'alternativloes': 7425, 'duerener': 7426, 'besuchten': 7427, 'milit': 7428, 'kameradschaft': 7429, 'burschenschaft': 7430, 'afdwatch': 7431, 'entspannten': 7432, 'kneipenabend': 7433, '00er': 7434, 'krachen': 7435, 'niederrhein': 7436, 'ruhrgebiet': 7437, 'aggr': 7438, 'mssq': 7439, 'koeln1203': 7440, 'reclaim': 7441, 'feminism': 7442, 'feminismus': 7443, 'antirassistisch': 7444, 'mssquer': 7445, 'quer': 7446, 'einlass': 7447, 'nomoegida': 7448, 'erk2702': 7449, 'juhu': 7450, 'veranstaltungsankuendigungen': 7451, 'abreisender': 7452, 'verviers': 7453, 'eupen': 7454, 'groessenwahnsinnig': 7455, 'makssdamage': 7456, 'werben': 7457, 'pronrw': 7458, 'rep': 7459, 'arminiusbund': 7460, '12h': 7461, '13h': 7462, 'mgladbach': 7463, 'vereinzelt': 7464, 'polizeiac': 7465, 'herausragende': 7466, 'grosseinsatz': 7467, 'vereiteltem': 7468, 'mehrerer': 7469, 'dankepolizei': 7470, 'abgezogen': 7471, '1929': 7472, 'angriffversuch': 7473, 'missglueckt': 7474, 'nopegidanrw': 7475, 'samst': 7476, 'entschlossen': 7477, 'entgegentreten': 7478, 'knastis': 7479, '1726': 7480, '1708': 7481, 'gegendemonstrant': 7482, '1638': 7483, '1624': 7484, 'kundegebung': 7485, 'aufrecht': 7486, '1620': 7487, 'genehmigt': 7488, 'angemeldet': 7489, 'enlassen': 7490, '1559': 7491, 'conligit': 7492, 'teh': 7493, 'riddle': 7494, 'geopfe': 7495, 'restaurant': 7496, 'landtags': 7497, 'schreck': 7498, 'runterspuelen': 7499, 'ba': 7500, 'erhielt': 7501, 'fantastisch': 7502, 'strahl': 7503, 'withvision': 7504, 'reichte': 7505, 'faszinierend': 7506, 'fabeln': 7507, 'bots': 7508, 'herhalten': 7509, 'panzerfee': 7510, 'ansprueche': 7511, 'niedrig': 7512, 'mistergreen77': 7513, 'gilmourorgasm': 7514, 'wuenschte': 7515, 'kopptisch': 7516, 'ursprungstext': 7517, 'schoeussfolgerung': 7518, 'liberale': 7519, 'errungenschaften': 7520, 'einzufrieren': 7521, 'kapitulationserklaerung': 7522, 'averagepony': 7523, 'ddreudnitz': 7524, 'faend': 7525, 'johannesvogel': 7526, 'vermeintlicher': 7527, 'geschmaeht': 7528, 'heat': 7529, 'vhs': 7530, 'dvd': 7531, 'bluray': 7532, 'itunes': 7533, 'eingetippt': 7534, 'honeypott': 7535, 'dateb': 7536, 'validieren': 7537, 'einkalkulie': 7538, 'ausgenutzt': 7539, 'backdrop': 7540, 'effekhascherische': 7541, 'eigeninszenierung': 7542, 'outing': 7543, 'smoke': 7544, 'mirrors': 7545, 'valide': 7546, 'beinhalten': 7547, 'tatsaechlichen': 7548, 'lokalen': 7549, 'regionalen': 7550, 'verhaeltnissen': 7551, 'performance': 7552, 'realen': 7553, 'ausblendet': 7554, 'hanvoi': 7555, 'packages': 7556, 'kuenstlerhippies': 7557, 'outen': 7558, 'strukturell': 7559, 'zuneigt': 7560, 'zielfuehrenderen': 7561, 'raeuberhose': 7562, 'gefaelligst': 7563, 'winterlich': 7564, 'pudding83': 7565, 'kbsachsen': 7566, 'hoehoe': 7567, 'meins': 7568, 'hoc': 7569, 'labern': 7570, 'gegenpruefen': 7571, 'regionalkonferenz': 7572, 'anhalt': 7573, 'konservatismus': 7574, 'altbackene': 7575, 'zurueckzugreifen': 7576, 'gold': 7577, 'beziehungen': 7578, 'rast': 7579, 'meme': 7580, 'deutschtwitter': 7581, 'dude': 7582, 'aufbaut': 7583, 'matthias': 7584, 'moosdorf': 7585, 'quell': 7586, 'hochkultur': 7587, 'huh': 7588, 'bahamas': 7589, 'gehuldigt': 7590, 'grusswo': 7591, 'stadtpa': 7592, 'realistisch': 7593, 'eventhalle': 7594, 'planen': 7595, 'handballer': 7596, 'international': 7597, 'zweitliga': 7598, 'eishockey': 7599, 'aufsteigen': 7600, 'nopolizeigesetz': 7601, 'befugnisse': 7602, 'quo': 7603, 'hannibal': 7604, 'normalitaeten': 7605, 'famose': 7606, 'dystopie': 7607, 'gedruckt': 7608, 'interessanter': 7609, '263a': 7610, 'unschluessig': 7611, 'apokalyptischen': 7612, 'publikumsbeschimpfung': 7613, 'erhobener': 7614, 'aeh': 7615, 'zeigefinger': 7616, 'spoilern': 7617, 'sahne': 7618, 'nolegida': 7619, 'bombendrohung': 7620, 'beruhigen': 7621, 'spoiler': 7622, 'ursprungstweet': 7623, 'bullshit': 7624, 'popkulturell': 7625, 'novum': 7626, 'superheldencomics': 7627, 'gespielt': 7628, 'hypnotisie': 7629, 'antideutscher': 7630, 'verbracht': 7631, 'jezzt': 7632, 'publictorsten': 7633, 'nuetzlich': 7634, 'werbemails': 7635, 'produkten': 7636, 'kurzem': 7637, 'amazon': 7638, 'deutscheselend': 7639, 'beklagte': 7640, 'montagsmahnwachen': 7641, 'wkprognose': 7642, 'loechrig': 7643, 'geographiekenntnisse': 7644, 'zugeschrieben': 7645, 'grafik': 7646, 'west': 7647, 'lautschrift': 7648, 'prognosen': 7649, 'angabe': 7650, 'kandidatur': 7651, 'kuechentisch': 7652, 'paupinet': 7653, 'nuja': 7654, 'sach': 7655, 'listenplaetze': 7656, 'songs': 7657, 'debattenjunkies': 7658, 'quichottes': 7659, 'windmuehlen': 7660, 'tragikkomik': 7661, 'vernuenftige': 7662, 'ausschlussklausel': 7663, 'sprachlich': 7664, 'blinder': 7665, 'fleck': 7666, 'poschardt': 7667, 'stock': 7668, 'bayernnachspielzeit': 7669, 'anerkannten': 7670, 'abseitstor': 7671, 'sahnehaeubchen': 7672, 'bvbfcb': 7673, 'vollmond': 7674, 'wesjohann': 7675, 'copista': 7676, 'uhm': 7677, 'erklaerst': 7678, 'abseitige': 7679, 'verkuerzung': 7680, 'abstrakte': 7681, 'allgemeinplaetze': 7682, 'explizite': 7683, 'nachweisbare': 7684, 'vorliegen': 7685, 'anhaltspunkte': 7686, 'gitarre': 7687, 'saiten': 7688, 'aufziehen': 7689, '1gbit': 7690, 'abfallprodukt': 7691, 'infrastrukturupdates': 7692, 'vermarkten': 7693, 'router': 7694, 'consumer': 7695, 'inhalten': 7696, 'erfuellen': 7697, 'externe': 7698, 'festplatten': 7699, 'konsole': 7700, 'bereitzuhalten': 7701, '100gig': 7702, '1g': 7703, 'grundkosten': 7704, 'mhm': 7705, 'verkabelt': 7706, 'downloads': 7707, 'riesig': 7708, 'exilsaxe': 7709, 'regelmaessiger': 7710, 'kontakte': 7711, 'koecke': 7712, 'gelinde': 7713, 'reloaded': 7714, 'birgitundandre': 7715, 'konstruktive': 7716, 'bratka': 7717, 'rohen': 7718, 'riesensauerei': 7719, 'amish': 7720, 'beimwo': 7721, 'inhoffmann': 7722, 'auffliegen': 7723, 'ernataverna': 7724, 'luftleeren': 7725, 'ise': 7726, 'diskursen': 7727, 'auskennt': 7728, 'unkritische': 7729, 'distanzlose': 7730, 'ergoetzen': 7731, 'jugendphaenomenen': 7732, 'aufklaererischer': 7733, 'einfallen': 7734, 'propanda': 7735, 'zugriff': 7736, 'bestellvorgang': 7737, 'gives': 7738, 'preisnominierung': 7739, 'menschlichkeit': 7740, 'auswahl': 7741, 'problems': 7742, '24h': 7743, 'unmoeglichen': 7744, 'angesetzt': 7745, 'kuemmerliche': 7746, 'kuenstlerisches': 7747, 'blabubb': 7748, 'substanzlos': 7749, 'protagonisten': 7750, 'antisemitischen': 7751, 'sexistischen': 7752, 'films': 7753, 'kommentarlos': 7754, 'ungefilte': 7755, 'sendet': 7756, 'lordschmordtoyboys': 7757, 'albernspeak': 7758, 'unkritisch': 7759, 'faeustchen': 7760, 'witzchen': 7761, 'festivalkatalog': 7762, 'akteure': 7763, 'ueberspitzung': 7764, 'korrekterweise': 7765, 'anne': 7766, 'vlpx': 7767, 'karangtateng': 7768, 'hintereinander': 7769, 'eivorsitz': 7770, 'chiffre': 7771, 'behalten': 7772, '1080p': 7773, 'downsampling': 7774, 'fps': 7775, 'hdr': 7776, 'blinsen': 7777, 'groehlen': 7778, 'aufgestanden': 7779, 'abrissbirne': 7780, 'vorverkauf': 7781, 'zack': 7782, 'ausverkauft': 7783, 'igbce': 7784, 'verdi': 7785, 'polizeigewerkschaften': 7786, 'dgb': 7787, 'trauerspiel': 7788, 'bergleute': 7789, 'braunkohlerevieren': 7790, 'landesregierungen': 7791, 'energieversorger': 7792, 'bergbaugewerkschaft': 7793, 'steinkohlemalochern': 7794, 'tagesticket': 7795, 'zurueckfordern': 7796, '0001f636': 7797, 'ticket': 7798, 'einloggen': 7799, 'apple': 7800, 'unpolitischen': 7801, 'paradebeispiel': 7802, 'speer': 7803, 'mangelnde': 7804, 'bauhau': 7805, 'unseelige': 7806, 'gestalt': 7807, 'totalitaeren': 7808, 'gedient': 7809, 'fsf': 7810, 'kulturstiftung': 7811, 'schwerpunkt': 7812, 'darzustellen': 7813, 'braunkohledemo': 7814, 'beinahe': 7815, 'zimtschnecken': 7816, 'demosanis': 7817, 'brauchten': 7818, 'zustecken': 7819, 'eigensinn83': 7820, 'andrea': 7821, 'erwaermen': 7822, 'manifestie': 7823, 'dresdner': 7824, 'kilometer': 7825, 'positionieren': 7826, 'tschagchen': 7827, 'krampfhaft': 7828, 'beten': 7829, 'weltfrieden': 7830, 'nonsenses': 7831, 'selbstbespassung': 7832, 'herzgegenhetze': 7833, 'mitbekam': 7834, 'neustadt': 7835, 'gegenprotests': 7836, 'knicken': 7837, 'ungestoe': 7838, 'unbeeindruckt': 7839, 'sammle': 7840, 'annahmen': 7841, 'strategen': 7842, 'hoffnungsvollen': 7843, 'anschieben': 7844, 'catch22': 7845, 'gelaenge': 7846, 'kohaerent': 7847, 'aufzustellen': 7848, 'neuaufstellung': 7849, 'durchbekaeme': 7850, 'paket': 7851, '15er': 7852, 'inbusschluessel': 7853, 'raeumdienste': 7854, 'spur': 7855, 'lkws': 7856, 'ueberholen': 7857, 'durchhalten': 7858, 'nachgedacht': 7859, 'tuerkisblau2002': 7860, 'schneemann': 7861, 'vorbeifaeh': 7862, 'karotte': 7863, '0001f608': 7864, 'unverseh': 7865, 'bodenkontakt': 7866, 'schneetreiben': 7867, 'hinlegt': 7868, 'ahnt': 7869, '2005': 7870, 'rechnung': 7871, 'volksverrae': 7872, 'aehh': 7873, 'alsich16war': 7874, '0001f629': 7875, 'bergfest': 7876, 'gendersternchen': 7877, 'sprace': 7878, 'verhunzt': 7879, 'englischen': 7880, 'teacher': 7881, 'student': 7882, 'klick': 7883, 'fave': 7884, 'anrufern': 7885, 'waehlern': 7886, 'schnittmenge': 7887, 'este': 7888, 'dschungelpruefung': 7889, 'kruterhexe1': 7890, 'scyltara': 7891, 'aufwachen': 7892, 'dschungelkoenigin': 7893, 'shootguy': 7894, 'monk': 7895, 'nationalitaet': 7896, 'aussuchen': 7897, 'kontostand': 7898, 'steigenden': 7899, 'strompreis': 7900, 'schonen': 7901, 'katastrophe': 7902, 'fukushima': 7903, 'sicherheitsstandards': 7904, 'windrad': 7905, 'kohlekommission': 7906, 'denkender': 7907, 'kohleausstieg': 7908, 'atomkraftwerke': 7909, 'windraedern': 7910, 'verschandeln': 7911, 'asyltourismus': 7912, 'wahnvorstellungen': 7913, 'anzuenden': 7914, 'aboalarm': 7915, 'kuendigungstatus': 7916, 'duemmste': 7917, '3fachverglast': 7918, 'klugscheisser': 7919, 'rfh': 7920, '2611': 7921, 'dieselfahrverbote': 7922, 'diesel': 7923, 'tierversuche': 7924, 'gruenlinge': 7925, 'deppenmoral': 7926, 'rocken': 7927, 'gutschein': 7928, 'schadenfreiheitsrabatt': 7929, 'ungehinde': 7930, 'fachkraeften': 7931, 'schwarzafrika': 7932, 'suv': 7933, 'schleicht': 7934, 'kleinwagen': 7935, 'polo': 7936, 'kurve': 7937, 'drifte': 7938, 'schneit': 7939, 'mountainbike': 7940, 'abgestiegen': 7941, 'geschoben': 7942, 'eifel': 7943, 'waldweg': 7944, 'eisflaeche': 7945, 'menschenleben': 7946, 'leichtsinn': 7947, 'klapprigen': 7948, 'schlauchboot': 7949, 'uebers': 7950, 'aussetzt': 7951, 'sprichwo': 7952, 'geknallt': 7953, 'legat': 7954, 'dm': 7955, 'bekleidung': 7956, 'durchgegangen': 7957, 'ausso': 7958, 'ebay': 7959, 'kleinanzeigen': 7960, 'reingestellt': 7961, 'festpreis': 7962, 'eingefroren': 7963, 'ueberpropo': 7964, 'ional': 7965, 'arschkalt': 7966, 'waerme': 7967, 'geschaut': 7968, 'aufnahmen': 7969, 'ueberstehe': 7970, 'drucker': 7971, 'willste': 7972, 'ruecksendelabel': 7973, 'ausdrucken': 7974, 'tinte': 7975, 'cyan': 7976, 'way': 7977, 'trinkflasche': 7978, 'eiskaltes': 7979, 'erfrieren': 7980, '0001f64c': 7981, 'yotta': 7982, 'atem': 7983, 'bergauf': 7984, 'steigung': 7985, 'deckmantel': 7986, 'transenv': 7987, 'schwaenzen': 7988, 'saufgelage': 7989, 'mallorca': 7990, 'dorfkneipe': 7991, 'bestes': 7992, 'unpassendesten': 7993, 'momenten': 7994, 'toilettentweet': 7995, 'hetzblatt': 7996, 'neutrale': 7997, 'objektive': 7998, 'unmotivated': 7999, 'mitsingen': 8000, 'urlauben': 8001, 'urlaubso': 8002, 'noerdlichster': 8003, 'suedlichster': 8004, 'westlichster': 8005, 'london': 8006, 'oestlichster': 8007, 'hoechster': 8008, 'eisjoechl': 8009, 'tiefster': 8010, 'tunnel': 8011, 'rumkriegen': 8012, 'alexxinho22': 8013, 'perverses': 8014, '273': 8015, 'spiegelbild': 8016, 'anbruellen': 8017, 'aufbleiben': 8018, 'terminbedingt': 8019, 'kuerzere': 8020, 'wetter': 8021, 'superheld': 8022, 'viby': 8023, 'dinie': 8024, 'wegwerfen': 8025, 'dat': 8026, 'aufgegessen': 8027, 'shadow36399458': 8028, 'hobbyhexe': 8029, 'steinig': 8030, 'uneleganten': 8031, 'abstieg': 8032, 'nachgemacht': 8033, 'gratulieren': 8034, '1111': 8035, 'gaumen': 8036, 'sinnsausen': 8037, 'auffaellt': 8038, 'kuerzel': 8039, 'wodka': 8040, 'cw': 8041, 'zauberhaftes': 8042, 'gif': 8043, 'nichtraucher': 8044, 'bachelor': 8045, 'hoeher': 8046, 'mideg': 8047, 'abkuerzung': 8048, 'nfdap': 8049, 'kopfschuettelnd': 8050, 'vorzuwerfen': 8051, 'bestmoeglich': 8052, 'auszuschlachten': 8053, 'schwerst': 8054, 'verwende': 8055, 'respektlosigkeit': 8056, 'stilistisches': 8057, 'respektiere': 8058, 'sieze': 8059, 'freundschaftlicher': 8060, 'ebene': 8061, 'hopfen': 8062, 'malz': 8063, 'reply': 8064, 'bestaetigst': 8065, 'brutalste': 8066, 'tatwaffe': 8067, 'afdlieder': 8068, 'entspannt': 8069, 'keinvogel': 8070, 'toilettenpapier': 8071, 'hergestellt': 8072, 'straffaellige': 8073, 'rauswerfen': 8074, 'nacheifern': 8075, 'inflationaer': 8076, 'titulieren': 8077, 'gefaehrder': 8078, 'rauszuwerfen': 8079, 'biete': 8080, 'hiermit': 8081, 'schulung': 8082, 'durchgelesen': 8083, 'erreichbar': 8084, 'eingesehen': 8085, 'bockmist': 8086, 'verzapft': 8087, 'thesituation46': 8088, 'verbaut': 8089, 'ausgesetzt': 8090, 'geliebter': 8091, 'knistern': 8092, 'nabe': 8093, 'gesaeube': 8094, 'gefettet': 8095, 'lief': 8096, 'shimano': 8097, 'fh': 8098, 'm8000': 8099, '0001f64f': 8100, 'weint': 8101, 'ribery': 8102, 'steak': 8103, 'blattgold': 8104, 'goennen': 8105, 'abgebogen': 8106, 'versicherungen': 8107, 'springflohback': 8108, 'gueltigkeitsdauer': 8109, 'dreistellige': 8110, 'sicherheitscode': 8111, 'eschleifen': 8112, '260e': 8113, 'snapchat': 8114, 'filter': 8115, 'dir': 8116, 'verwenden': 8117, 'verrechnet': 8118, '365x3': 8119, '48': 8120, 'laundrycats': 8121, 'krafttraining': 8122, 'flug': 8123, '0001f61c': 8124, 'bahnunternehmen': 8125, 'grossbritanien': 8126, 'droelfzig': 8127, 'zubuchen': 8128, 'kalender': 8129, 'aufhaengen': 8130, 'markieren': 8131, 'abwesenheitsplaner': 8132, 'sturmfreies': 8133, 'arbeitstag': 8134, 'jahresrueckblick': 8135, 'swm': 8136, 'selbstbewusstsein': 8137, 'leichten': 8138, 'knicks': 8139, 'schwererem': 8140, 'captains': 8141, 'father': 8142, 'bevoelkerungsgruppen': 8143, 'restalkohol': 8144, 'ausschwitzen': 8145, '0001f388': 8146, '0001f386': 8147, 'waffengesetz': 8148, 'werkzeug': 8149, 'fussgaengerzone': 8150, 'bevorzuge': 8151, 'abgesaegte': 8152, 'schrotflinte': 8153, 'handlich': 8154, 'streuradius': 8155, 'effektiver': 8156, 'schreckschusswaffen': 8157, 'masochistisch': 8158, 'weltkanzlerin': 8159, 'hasserin': 8160, '274c': 8161, 'fuege': 8162, 'folie': 8163, 'gefrierbeutel': 8164, 'gummi': 8165, 'edeka': 8166, 'geiles': 8167, 'rutsch': 8168, 'schueper': 8169, '500km': 8170, 'radtour': 8171, 'aehmmm': 8172, 'jahrgang': 8173, 'nordmannmeer': 8174, 'jugoslawien': 8175, 'trinkgefaess': 8176, 'rumpfeife': 8177, 'gebeten': 8178, 'entspanntes': 8179, 'ungsvolles': 8180, 'dramatisches': 8181, 'ueberblendungen': 8182, 'einblendungen': 8183, 'nicimithut': 8184, 'carpblu': 8185, 'bestimmen': 8186, 'auszugeben': 8187, 'belastungssteuerung': 8188, 'radfahrern': 8189, 'hinscheissen': 8190, 'egoistisch': 8191, 'zuenden': 8192, 'hulyahulyab': 8193, 'verzichtest': 8194, 'jahresurlaub': 8195, 'verkaufe': 8196, 'sonstigen': 8197, 'unnoetigen': 8198, 'jahaaa': 8199, '0001f913': 8200, 'drittletzten': 8201, '2744': 8202, 'vorbeifahren': 8203, 'anzupoebeln': 8204, '363': 8205, 'weihnachtsstress': 8206, 'lukicit': 8207, 'damaligen': 8208, 'einwanderer': 8209, 'totalitaerem': 8210, 'reist': 8211, 'realgucciminh': 8212, 'schlage': 8213, 'punkerin': 8214, 'trug': 8215, 'botschaften': 8216, 'plakativ': 8217, 'schlampen': 8218, 'tattoo': 8219, 'spiessbuergerliche': 8220, 'tinder': 8221, 'solemnly': 8222, 'swear': 8223, 'that': 8224, 'prozent': 8225, 'pfleger': 8226, 'streik': 8227, 'prekaer': 8228, 'beschaeftigten': 8229, 'berufsgruppen': 8230, 'gegeinander': 8231, 'ausspielen': 8232, 'streikrecht': 8233, 'ratlos': 8234, 'prank': 8235, 'genatzt': 8236, 'keinetheorie': 8237, 'journ': 8238, 'faende': 8239, 'danny': 8240, '0001f615': 8241, 'anfahren': 8242, 'blossstellen': 8243, 'diskriminierenden': 8244, 'warrior': 8245, 'liebeskummer': 8246, '15min': 8247, 'kapitalismuskritiker': 8248, 'gesten': 8249, 'beeindruckend': 8250, 'markusparadise': 8251, 'story': 8252, 'gruselig': 8253, 'friend': 8254, 'einso': 8255, 'simpel': 8256, 'sinticalist': 8257, 'komplexerer': 8258, 'sachverhalt': 8259, 'lawtroll': 8260, '0001f634': 8261, 'beizutreten': 8262, 'autoritaer': 8263, 'beschreibt': 8264, 'brueckenschlag': 8265, 'erprobt': 8266, 'geprobt': 8267, 'sticker': 8268, 'versandhandel': 8269, 'annalist': 8270, 'guenstigen': 8271, 'buntfront': 8272, 'gecoppt': 8273, 'ohhhhh': 8274, 'suessboy': 8275, 'freue': 8276, 'vd': 8277, 'zweite': 8278, 'juedische': 8279, 'gewuetet': 8280, 'grim104': 8281, 'schlauen': 8282, 'qualitativ': 8283, 'content': 8284, '0815': 8285, 'rappers': 8286, 'sexist': 8287, 'twitch': 8288, 'streams': 8289, 'life': 8290, 'joekuhherde': 8291, 'schlaf': 8292, 'weinen': 8293, 'sexualisie': 8294, 'widerwo': 8295, 'staerken': 8296, 'diskriminierungserfahrungen': 8297, 'rumheulen': 8298, 'gemein': 8299, 'petersilienplan': 8300, 'side': 8301, 'gepullt': 8302, 'extremistischen': 8303, 'moralrittern': 8304, 'geschwafelt': 8305, 'heulsusen': 8306, 'outcallt': 8307, 'geweint': 8308, 'rumgeheule': 8309, 'schuetzend': 8310, 'bugx': 8311, 'twitterde': 8312, 'moralritter': 8313, 'blauen': 8314, 'haken': 8315, 'sides': 8316, 'bestaetige': 8317, 'faengst': 8318, 'armin66120629': 8319, 'eintreiber': 8320, 'mez': 8321, 'seinundseid': 8322, 'gamerheine69': 8323, 'reinkommen': 8324, 'stranges': 8325, 'gerichtsverfahren': 8326, 'schlaegerei': 8327, 'verwuesten': 8328, 'miteinader': 8329, 'tara': 8330, 'zahn': 8331, 'umweltaktivist': 8332, 'minimalem': 8333, 'sachverstand': 8334, 'maschine': 8335, 'stumpf': 8336, 'ueberraschung': 8337, 'substantiie': 8338, 'dargetan': 8339, 'entsprechende': 8340, 'schwerwiegenden': 8341, 'konkreten': 8342, 'anderenfalls': 8343, 'energieversorgung': 8344, 'bundes': 8345, 'landesweit': 8346, 'gewaehrleistet': 8347, 'verraten': 8348, 'entschaedigung': 8349, 'einzukassieren': 8350, 'ovg': 8351, 'muenster': 8352, 'verfuegt': 8353, 'tatsachen': 8354, 'mobilisierung': 8355, 'unnuetze': 8356, 'erhoben': 8357, 'umkehrschluss': 8358, 'sitzenden': 8359, 'einschlagen': 8360, 'polizist': 8361, 'stueckchen': 8362, 'raubt': 8363, 'widersprueche': 8364, 'stumpfes': 8365, 'stumpfer': 8366, 'schwerwiegender': 8367, 'argumentativ': 8368, 'rande': 8369, 'aufgestellt': 8370, 'gemeinte': 8371, 'klicks': 8372, 'aktivistische': 8373, 'wimpern': 8374, 'zucken': 8375, 'hinausposaunen': 8376, 'aufdecken': 8377, 'grossangelegte': 8378, 'desinformationskampagnen': 8379, 'gemuetlicher': 8380, 'objektivitaets': 8381, 'journalimus': 8382, 'strukturelles': 8383, 'konzernes': 8384, 'kostenlose': 8385, 'lebensgrundlagen': 8386, 'alman': 8387, 'offenba': 8388, 'profitinteresse': 8389, 'nachfolgenden': 8390, 'dienern': 8391, 'bestueckt': 8392, 'kardasiapat': 8393, 'grob': 8394, 'vereinfacht': 8395, 'einstroemen': 8396, 'kulturfremden': 8397, 'terroristisch': 8398, 'ausweisen': 8399, 'andersdenkender': 8400, 'kino': 8401, 'gaststaette': 8402, 'uebermorgen': 8403, 'woelfisches': 8404, 'ungebildetes': 8405, 'kulturloses': 8406, 'gesindel': 8407, 'ellibisathide': 8408, 'unwo': 8409, 'schmierige': 8410, 'fernab': 8411, 'millionenfach': 8412, 'rausposaunt': 8413, 'geschlecht': 8414, 'toilette': 8415, 'hetero': 8416, 'ominoese': 8417, 'kge': 8418, 'baerboek': 8419, 'maennern': 8420, 'messen': 8421, 'leistet': 8422, 'kleinsten': 8423, 'politikhoerigkeit': 8424, 'verlude': 8425, 'zunft': 8426, 'taetersuche': 8427, 'hergezaube': 8428, 'realitaetsnah': 8429, 'migrations': 8430, 'qualifikation': 8431, 'verschone': 8432, 'unausgelastete': 8433, 'neuber': 8434, 'casilein77': 8435, 'rebound541': 8436, 'ranzigeimme': 8437, 'schutzsuchenden': 8438, 'perfide': 8439, 'motivation': 8440, 'schleifernr5': 8441, 'outfit': 8442, 'kleinste': 8443, 'ideenlose': 8444, 'einfaeltigkeit': 8445, 'ueberforderung': 8446, 'karikatur': 8447, 'aussenministers': 8448, 'drpeternagel': 8449, 'gratis': 8450, 'lespen': 8451, 'weltoffene': 8452, 'buntdurchmischte': 8453, 'manipulierende': 8454, 'repraesentanten': 8455, 'parallelen': 8456, 'bekaempften': 8457, 'historischen': 8458, 'shlomosapiens': 8459, 'unbegreiflich': 8460, 'umgibt': 8461, 'trotzend': 8462, 'geschichtsunwissenheit': 8463, 'kompetente': 8464, 'persoenlichkeiten': 8465, 'tumbes': 8466, 'denkfaules': 8467, 'nachplappern': 8468, 'vorgegebenen': 8469, 'uneins': 8470, 'einig': 8471, 'anbiederung': 8472, 'kurzsichtigkeit': 8473, 'unverschaemte': 8474, 'muendige': 8475, 'erziehen': 8476, 'dumpfen': 8477, 'schlaeger': 8478, 'hetzaufrufe': 8479, 'lizenz': 8480, 'zuschlagen': 8481, 'erinnere': 8482, 'schuss': 8483, 'hetzkampagne': 8484, 'abdriftet': 8485, 'entruestung': 8486, 'heiligenschein': 8487, 'scheinheiligen': 8488, 'kleben': 8489, 'gedenktage': 8490, 'gedenkstunden': 8491, 'ermahnungen': 8492, 'wohlfeiler': 8493, 'unechter': 8494, 'schmierig': 8495, 'unecht': 8496, 'aufgearbeitet': 8497, 'lehren': 8498, 'karlen73432305': 8499, 'universal': 8500, 'gemischten': 8501, 'weltrasse': 8502, 'aufgehen': 8503, 'jstaltenberg': 8504, 'renetruninger': 8505, 'nzz': 8506, 'verweige': 8507, 'handschlag': 8508, 'schulinternen': 8509, 'kompromiss': 8510, 'ungeheuere': 8511, 'geschichtsvergessenheit': 8512, 'realitaetsleugnung': 8513, 'bodenlose': 8514, 'eingekeh': 8515, 'wegsehen': 8516, 'schoenreden': 8517, 'untaten': 8518, 'verroht': 8519, 'brutalisie': 8520, '6854afs': 8521, 'traurig': 8522, 'hahnwaldjens': 8523, 'feshistory': 8524, 'waehlerinnen': 8525, 'ausgedrueckt': 8526, 'dfakenews': 8527, 'naturwissenschaftlich': 8528, '1tag': 8529, 'geahndet': 8530, 'kokolores20': 8531, 'muster': 8532, 'kurzes': 8533, 'formales': 8534, 'bedauern': 8535, 'stereotype': 8536, 'drohung': 8537, 'untat': 8538, 'szenerie': 8539, 'identisch': 8540, 'schlagt': 8541, 'bemerken': 8542, 'absurdistan': 8543, 'symbole': 8544, 'verkeh': 8545, 'deutschlandlied': 8546, 'mordaufrufe': 8547, 'fachkraft': 8548, 'pinselpoetin': 8549, 'jahrzehntelang': 8550, 'abitur': 8551, 'hochschul': 8552, 'karrieren': 8553, 'favorisie': 8554, 'verunglimpften': 8555, 'keulen': 8556, 'lawine': 8557, 'lahmlegen': 8558, 'logiker01': 8559, 'sonjafu2007': 8560, 'mails': 8561, 'verunsiche': 8562, 'kritisches': 8563, 'dummschwaetzer': 8564, 'weibchen': 8565, 'gequatschte': 8566, 'matcho': 8567, 'westend': 8568, 'wilde': 8569, 'hunderudel': 8570, 'tierfeinde': 8571, 'menschenfreunde': 8572, 'verlaghochfeld': 8573, 'waehlerstimmen': 8574, 'hundefreunde': 8575, 'gemeinde': 8576, 'dirkmey3101': 8577, 'wunderschoenen': 8578, 'srpasgard': 8579, 'behaupteten': 8580, 'herrenmode': 8581, 'enge': 8582, 'anzueglein': 8583, 'model': 8584, 'pflichtlektuere': 8585, 'pharisaeern': 8586, 'schreier': 8587, 'dumpfes': 8588, 'schreipack': 8589, 'lesehilfe': 8590, 'migrationskinder': 8591, 'hundegeschichten': 8592, 'hundes': 8593, 'leidenschaftliches': 8594, 'anstrengung': 8595, 'mitlaeufern': 8596, 'gelben': 8597, 'tyrannen': 8598, 'alicologne': 8599, 'karikaturisten': 8600, 'vogelfrei': 8601, 'wegbeschreibung': 8602, 'hannoveraner201': 8603, 'mitlaufen': 8604, 'kriegstreibern': 8605, 'staatsgewalt': 8606, 'zurueckgewinnen': 8607, 'selbstachtung': 8608, 'primitiven': 8609, 'akdemir40': 8610, 'ukrainisch': 8611, 'juedischer': 8612, 'klavierlehrer': 8613, 'normalitaet': 8614, 'beleidigten': 8615, 'unzufrieden': 8616, 'kriminalitaet': 8617, 'aufgestockt': 8618, 'daserste': 8619, 'nachrichtensendung': 8620, 'followtoread8': 8621, 'selbstjustiz': 8622, 'axorcreex': 8623, 'jaaaaaa': 8624, 'herrlich': 8625, 'markenklamotten': 8626, 'strassenkindern': 8627, 'tim': 8628, 'roehn': 8629, 'humanitaet': 8630, 'auslebt': 8631, 'mijoste': 8632, 'inkompetenten': 8633, 'plappermaeulchen': 8634, 'muendigen': 8635, 'ngo': 8636, 'schiffe': 8637, 'monatelanger': 8638, 'koerperlichen': 8639, 'andersdenkende': 8640, 'aufhetzt': 8641, 'bange': 8642, 'naivlinge': 8643, 'pruegelt': 8644, 'raegliche': 8645, 'qualitaets': 8646, 'rechtspopulist': 8647, 'eingeschaetzt': 8648, 'tendenzioese': 8649, 'anwuerfe': 8650, 'bochum': 8651, 'schandtat': 8652, 'totgeschwiegen': 8653, 'zweierlei': 8654, 'mass': 8655, 'kade': 8656, 'studiums': 8657, 'naechtelang': 8658, 'billigen': 8659, 'unausgegorenem': 8660, 'peters16649683': 8661, 'idiotisches': 8662, 'abwegige': 8663, 'verqueren': 8664, 'gewaehren': 8665, 'beine': 8666, 'fehlanzeige': 8667, 'ungebildet': 8668, 'weltoffen': 8669, 'abgewandt': 8670, 'pflegt': 8671, 'emmakoechner': 8672, 'silvesterscherz': 8673, 'unsaegliche': 8674, 'beauftragte': 8675, '370': 8676, 'lebenslang': 8677, 'uninteressante': 8678, 'anmassen': 8679, 'tendenz': 8680, 'schalte': 8681, 'abwendung': 8682, 'haltungs': 8683, 'toloko56': 8684, 'markusettenheim': 8685, 'qualitaetsniveau': 8686, 'beschraenkt': 8687, 'endlose': 8688, 'quiz': 8689, 'reallity': 8690, 'knuesel66': 8691, 'tamarawernli': 8692, 'ungefragt': 8693, 'dialog': 8694, 'leisesten': 8695, 'abwenden': 8696, 'weihnachtsmarkt': 8697, 'maerkten': 8698, 'weihnachtlicher': 8699, 'dekoration': 8700, 'buden': 8701, 'woltron2': 8702, 'selbstgerechte': 8703, 'irgendwelchen': 8704, 'angestellten': 8705, 'anprange': 8706, 'hievt': 8707, 'willfaehrige': 8708, 'einflussreiche': 8709, 'annigohome': 8710, 'sensationen': 8711, 'moderie': 8712, 'fussballspiel': 8713, 'widerliches': 8714, 'aergernis': 8715, 'hwieduwilt': 8716, 'luebberding': 8717, 'generalverdacht': 8718, 'pietaetlos': 8719, 'klugheit': 8720, 'klugen': 8721, 'purojunkie': 8722, 'bereicherung': 8723, 'vorgefassten': 8724, 'untergeordnet': 8725, 'nachdenklichkeit': 8726, 'defensive': 8727, 'lautstarke': 8728, 'proletenhafte': 8729, 'primitiver': 8730, 'auswurf': 8731, 'praemie': 8732, 'geistes': 8733, 'bonus': 8734, 'zurueckzutreten': 8735, 'verheerenden': 8736, 'berufsabschluss': 8737, 'lebenserfahrung': 8738, 'affentheater': 8739, 'demokratieverhalten': 8740, 'abgehaengt': 8741, 'zurueckgelassen': 8742, 'petraschnautzer': 8743, 'hsaulich3': 8744, 'lehrerleben': 8745, 'tinahassel': 8746, 'jenseits': 8747, 'aufgeblasen': 8748, 'ressentiments': 8749, 'schueren': 8750, 'boeses': 8751, 'konstellation': 8752, 'nichtbeachtung': 8753, '90jaehrige': 8754, 'greise': 8755, 'rollstuhl': 8756, '73': 8757, 'monstroese': 8758, 'wiederfindet': 8759, 'meinungs': 8760, 'hoheits': 8761, 'verwalter': 8762, 'personenkult': 8763, 'bezeichnend': 8764, 'devote': 8765, 'anen': 8766, 'herrscherin': 8767, 'erfuellt': 8768, 'liches': 8769, 'katastrophales': 8770, 'fluechtlingschaos': 8771, 'unterschrieben': 8772, 'kontroverser': 8773, 'anstrengen': 8774, 'bequemer': 8775, 'stoerer': 8776, 'politfunktionaere': 8777, 'reale': 8778, 'arbeitserfahrung': 8779, 'eichef': 8780, 'praedestinie': 8781, 'eten': 8782, 'olliluksic': 8783, 'koenigin': 8784, 'gehorcht': 8785, 'standingovations': 8786, 'gehorsam': 8787, 'fokus': 8788, 'weibernetzwerk': 8789, 'geruhsam': 8790, 'intellektueller': 8791, 'kontrast': 8792, 'frohlocken': 8793, 'ohrfeigen': 8794, 'befluegelt': 8795, 'intellektuellen': 8796, 'schub': 8797, 'irgendeines': 8798, 'unwichtigen': 8799, 'exponie': 8800, 'reichweite': 8801, 'bilde': 8802, 'neoego22': 8803, 'webde': 8804, 'ursachenforschung': 8805, 'billiges': 8806, 'steinbrueck': 8807, 'wahlplakate': 8808, 'gemalt': 8809, 'tenor': 8810, 'bevormundet': 8811, 'schlaefe': 8812, 'bewirkt': 8813, 'heimatlos': 8814, 'houelle': 8815, 'beweh': 8816, 'vaumue': 8817, 'emrich': 8818, '5933': 8819, 'verwahrloster': 8820, 'munter': 8821, 'sehne': 8822, 'bauchgesteue': 8823, 'moralingefuehlsbeduselten': 8824, 'plapper': 8825, 'verstandesmann': 8826, 'nuechternheit': 8827, 'sachlichkeit': 8828, 'anarchistischen': 8829, 'bands': 8830, 'einseitigen': 8831, 'erledigen': 8832, 'ueberqualifizie': 8833, 'armenischen': 8834, 'liedern': 8835, 'persona': 8836, 'grata': 8837, 'hinteranatolien': 8838, 'verschlafen': 8839, 'inscheerer': 8840, 'kanzlerkandidaten': 8841, 'tyske': 8842, 'unzufriedenheit': 8843, 'populismus': 8844, 'ursachen': 8845, 'morden': 8846, 'kultu': 8847, 'raeger': 8848, 'vergewaltigen': 8849, 'ponys': 8850, 'sammelbecken': 8851, 'dreckigsten': 8852, 'abschaums': 8853, 'plappermaeuler': 8854, 'schulsprecher': 8855, 'enorme': 8856, 'moralduenkelhafte': 8857, 'demonstrationsrecht': 8858, 'denunzie': 8859, 'anachronistischen': 8860, 'golinehatai': 8861, 'dornblueth': 8862, 'michaelothumann': 8863, 'einseitiges': 8864, 'stephanharba': 8865, 'bundestagsdebatte': 8866, 'schmiedet': 8867, 'allianzen': 8868, 'jaeger': 8869, 'wohltat': 8870, 'unsagbaren': 8871, 'neidischen': 8872, 'triefende': 8873, 'harderkuehnel': 8874, 'nachlaeuft': 8875, 'rosi08683946': 8876, 'tabuthema': 8877, 'entwurzelten': 8878, 'kulturlosen': 8879, 'gewalttaetigen': 8880, 'akzeptanz': 8881, 'integrie': 8882, 'gagaberlin': 8883, 'kenntnisreich': 8884, 'institutionen': 8885, 'verdummt': 8886, 'tweetba': 8887, 'vonschwer': 8888, 'philipplicke': 8889, 'kenntnis': 8890, 'qualitaetsmedien': 8891, 'abgewe': 8892, 'kulturlose': 8893, 'kulturgueter': 8894, 'lieder': 8895, 'diskreditieren': 8896, 'negation': 8897, 'kulturbanausen': 8898, 'seeyouinhell11': 8899, 'wesen': 8900, 'genesen': 8901, 'selbstbehaupteten': 8902, 'moral': 8903, 'spaltet': 8904, 'duenkel': 8905, 'geliefe': 8906, 'bemo28': 8907, 'brinkhaus': 8908, 'fairness': 8909, 'minimum': 8910, 'zuzuhoeren': 8911, 'ungezogen': 8912, 'bundestagsabgeordneten': 8913, 'rdiger90523539': 8914, 'beklagt': 8915, 'geschwafel': 8916, 'migrationspakt': 8917, 'illegale': 8918, 'einwanderungspolitik': 8919, 'pakt': 8920, 'fpiatov': 8921, 'erfolgloser': 8922, 'integer': 8923, 'textkraut': 8924, 'kiffen': 8925, 'musizieren': 8926, 'spiessig': 8927, 'skala': 8928, 'holgerewald1': 8929, 'unheimlich': 8930, 'erpressung': 8931, 'schmeisse': 8932, 'gegenbeweise': 8933, 'synonym': 8934, 'menschenjagd': 8935, 'progrom': 8936, 'haeftlings': 8937, 'matratze': 8938, 'angezuendet': 8939, 'gestottere': 8940, 'sprachmelodie': 8941, 'verschandelt': 8942, 'lasse': 8943, 'verbotene': 8944, 'benutze': 8945, 'af': 8946, 'evangelische': 8947, 'sozialarbeiter': 8948, 'dienstleistungsgesellschaft': 8949, 'mutie': 8950, 'spiritualitaet': 8951, 'performa131': 8952, 'tuerkischer': 8953, 'islamlehrer': 8954, 'urkultur': 8955, 'hinter': 8956, 'anatolien': 8957, 'steinzeit': 8958, 'smuellermdb': 8959, 'sachlicher': 8960, 'haribo0203': 8961, 'castro': 8962, 'konsumenten': 8963, 'verdummung': 8964, 'tatkraeftiger': 8965, 'koenigsmacher': 8966, 'gelenkt': 8967, 'unbegruendet': 8968, 'ungebildete': 8969, 'aussicht': 8970, 'besetzen': 8971, 'atom': 8972, 'uboot': 8973, 'flotte': 8974, 'wiederzufinden': 8975, 'schutzbeduerftigen': 8976, 'willkommens': 8977, 'klatschern': 8978, 'versorgen': 8979, 'unbegrenzte': 8980, 'politikerin': 8981, 'herlaeuft': 8982, 'aufmachen': 8983, 'zensieren': 8984, 'osthollandia': 8985, 'gwinkl': 8986, 'versprechen': 8987, 'manoevern': 8988, 'westgrenze': 8989, 'angesehen': 8990, 'tektellin': 8991, 'historiker': 8992, 'klausel': 8993, 'jokel1505': 8994, 'taltgeld': 8995, 'hatz4': 8996, 'umve': 8997, 'eiler': 8998, 'mittelschicht': 8999, 'intellektuelle': 9000, 'innovative': 9001, 'unbequeme': 9002, 'anging': 9003, 'swingtanz': 9004, 'gaborsteinga': 9005, 'rom': 9006, '80iger': 9007, 'bevoelkerungsexplosion': 9008, 'umweltverschmutzung': 9009, 'ungebremsten': 9010, 'wachstums': 9011, 'hauptursachen': 9012, 'zivilisation': 9013, 'bedrohen': 9014, 'erinnerungswe': 9015, 'rueckblick': 9016, 'deredleritter': 9017, 'gemuete': 9018, 'suedost': 9019, 'westfaelischer': 9020, 'trek': 9021, 'knallwuerste': 9022, 'tropenarzt': 9023, 'merry': 9024, 'christmas': 9025, 'aetzenderes': 9026, 'fruehstueck': 9027, 'herbekommen': 9028, 'tittenhefte': 9029, 'daemlichem': 9030, 'napfsuelzen': 9031, 'dms': 9032, 'kauf': 9033, 'puff': 9034, 'werd': 9035, 'furzen': 9036, 'zusieht': 9037, 'penis': 9038, 'scheissmond': 9039, 'fotografieren': 9040, 'these': 9041, 'fahrradhelme': 9042, 'analsex': 9043, 'damenfahrrad': 9044, 'maestet': 9045, 'wurstwasser': 9046, 'fetischisten': 9047, 'gewohnt': 9048, 'malle': 9049, 'pisskoeppe': 9050, 'aufm': 9051, 'keller': 9052, 'geschirrspuelerrette': 9053, 'missverstehen': 9054, 'streichholz': 9055, 'larifariabel': 9056, 'schlachtzeile': 9057, 'landpomeritze': 9058, 'aufwae': 9059, 'tribute2bretzel': 9060, 'besuchte': 9061, 'versuchten': 9062, 'kasten': 9063, 'leerzusaufen': 9064, 'eingeschlafen': 9065, 'reinigungsmittel': 9066, 'mhd': 9067, 'fette': 9068, 'haessliche': 9069, 'halbes': 9070, 'zuendet': 9071, 'knackwurstgesichter': 9072, 'bh': 9073, 'arminrohde': 9074, 'suedostwestfaelischer': 9075, 'aehs': 9076, 'rausgeschnitten': 9077, 'kosenamen': 9078, 'weibliche': 9079, 'tittenglotzungsausbildungsfachassistenzprueferin': 9080, 'kackbratze': 9081, 'verlange': 9082, 'naehern': 9083, 'moechtegernficker': 9084, 'jeeeeeedes': 9085, 'ostern': 9086, 'bruesten': 9087, 'lautstark': 9088, 'huehnerfutter': 9089, 'hinwerfen': 9090, 'quaestor': 9091, 'hamburch': 9092, 'scheisskalt': 9093, 'august': 9094, 'ueblich': 9095, 'angenehmer': 9096, 'klositz': 9097, 'unitymedia': 9098, 'unity': 9099, 'stuhlkreis': 9100, 'irgendeinen': 9101, 'busfahrer': 9102, 'furzt': 9103, 'weihnachtsklopapier': 9104, 'ooooooh': 9105, 'mmmmh': 9106, 'sinnlose': 9107, 'schlabberpussis': 9108, 'suederstrasse': 9109, 'rammtammtamm': 9110, 'guuuuuut': 9111, 'mariiiiaaaaacroooooooon': 9112, 'bockwuerste': 9113, 'dicksten': 9114, 'zwoooo': 9115, 'wiesen': 9116, 'tofu': 9117, 'gehoerig': 9118, 'synapsen': 9119, 'geschissen': 9120, 'durchgenudelten': 9121, 'zweihunde': 9122, 'achtzig': 9123, 'vergaser': 9124, 'single': 9125, 'verrostete': 9126, 'ukrainische': 9127, 'babyklappe': 9128, 'wochentagen': 9129, 'sissis': 9130, 'knien': 9131, 'telefone': 9132, 'erneue': 9133, 'beerdigt': 9134, 'verfickten': 9135, 'wuensch': 9136, 'schluebber': 9137, 'dauereinsatz': 9138, 'bohnensuppe': 9139, 'bea': 9140, 'gesacht': 9141, 'kurzhaarfrisuren': 9142, 'verbraucherinformationsgesetz': 9143, 'praktikant': 9144, 'ios': 9145, 'zusammengeloetet': 9146, 'vollzeit': 9147, 'aushilfs': 9148, 'nassauer': 9149, 'nullsechshunde': 9150, 'fruehschicht': 9151, 'lebende': 9152, 'game': 9153, 'thrones': 9154, 'zeugungsfick': 9155, 'beichtstuhl': 9156, 'plappara': 9157, 'brunoremix': 9158, 'verschissene': 9159, 'auszusetzen': 9160, 'aeaeaeaeaeaeaeaeaeaey': 9161, 'ausschalten': 9162, 'haessliches': 9163, 'headset': 9164, 'langeweile': 9165, 'vegane': 9166, 'binsen': 9167, 'wombatsine': 9168, 'steigense': 9169, 'abgehalfe': 9170, 'gilf': 9171, 'fluesterer': 9172, 'ramm': 9173, 'guuuuuuuuuut': 9174, 'maaariiaaacroooon': 9175, 'stricher': 9176, 'zwooooo': 9177, 'verschimmelter': 9178, 'granatapfel': 9179, 'gebaelk': 9180, 'scheisserchen': 9181, 'mrsaltmann': 9182, 'fetter': 9183, 'leon': 9184, 'mitttelgross': 9185, 'glutenfrei': 9186, 'achtundfuffzig': 9187, 'stationen': 9188, 'beton': 9189, 'donnerschiss': 9190, 'todes': 9191, 'pseudonymphe': 9192, 'tastatur': 9193, 'fruehling': 9194, 'einqua': 9195, 'kackscheiss': 9196, 'verfetteten': 9197, 'gratulie': 9198, 'muettern': 9199, 'stich': 9200, 'debilen': 9201, 'zeugungsunfaelle': 9202, 'jogginghose': 9203, 'ungeduscht': 9204, 'sintaura': 9205, 'bingo': 9206, 'beschissen': 9207, 'durchzaehlen': 9208, 'feier': 9209, 'verdammtem': 9210, 'schier': 9211, 'halbschwester': 9212, 'salonfaehiger': 9213, 'beschissenen': 9214, 'beschisseneres': 9215, 'jetlag': 9216, 'irgendwem': 9217, 'realdonaldtrump': 9218, 'haue': 9219, 'trivago': 9220, 'fotze': 9221, 'samma': 9222, 'ungefickten': 9223, 'adipoesen': 9224, 'ekelhaften': 9225, 'langzeit': 9226, 'selbstbefriediger': 9227, 'bilderbuch': 9228, 'abendessen': 9229, 'hingekotzt': 9230, 'hingeschissen': 9231, 'mikrowellen': 9232, 'sinnloseste': 9233, 'scheissedreck': 9234, 'erfindung': 9235, 'uebergangsjacken': 9236, 'hex2': 9237, 'eklige': 9238, 'leggings': 9239, 'armseligen': 9240, 'zusammenfassen': 9241, 'adventskalender': 9242, 'tuerchen': 9243, 'verhasste': 9244, 'ausfluegler': 9245, 'jahreszeit': 9246, 'weihnachtsbaum': 9247, 'mahnung': 9248, 'zwischenmenschliche': 9249, 'pakete': 9250, 'muelltonnen': 9251, 'haemorriden': 9252, 'schreckens': 9253, 'halbblut': 9254, 'gefangene': 9255, 'darkroom': 9256, 'exil': 9257, 'badener': 9258, 'dickere': 9259, 'phosphatstange': 9260, 'hauptschul': 9261, 'ungeduschten': 9262, 'halbwichser': 9263, 'unentgeltlich': 9264, 'fickbare': 9265, 'kleidungsstils': 9266, 'pennymyss': 9267, 'holznuss': 9268, 'heinz': 9269, 'bridge': 9270, 'lebenseinstellung': 9271, 'ess': 9272, 'kleintittigen': 9273, 'fangse': 9274, 'janz': 9275, 'andrakelly5': 9276, 'hoernse': 9277, 'voeoeoeoeoeoellig': 9278, 'losgeloeoeoeoest': 9279, 'aeaeaeaeaeaeaeaeaerde': 9280, 'fliiiiiiegt': 9281, 'raaaaaumschiff': 9282, 'voeoeoeoellig': 9283, 'schwereloooooohoooooooooooos': 9284, 'sperrbezirk': 9285, 'roooooooosie': 9286, 'kietz': 9287, 'ausgetauscht': 9288, 'lasagne': 9289, 'ionen': 9290, 'verkleinern': 9291, 'bhs': 9292, 'groessen': 9293, 'winken': 9294, 'businesskasper': 9295, 'kackbraunen': 9296, 'anzuegen': 9297, 'hakenkreuz': 9298, 'aermel': 9299, 'abgekratzt': 9300, 'arschglotzine': 9301, 'huehnern': 9302, 'hupen': 9303, 'germanpsycho': 9304, 'egaler': 9305, 'dispo': 9306, 'tomaten': 9307, 'rosinen': 9308, 'beilagen': 9309, 'sitzpissenden': 9310, 'verhu': 9311, 'drecksfotzenkackscheiss': 9312, 'kirchenglocken': 9313, 'verfickter': 9314, 'imaginaerer': 9315, 'tragt': 9316, 'holz': 9317, 'sneakers': 9318, 'polohemden': 9319, 'hochgestelltem': 9320, 'kurzhaarfrisur': 9321, 'fickbar': 9322, 'fisch': 9323, 'allerletztes': 9324, 'latteschluerferetten': 9325, 'jungdynamische': 9326, 'hamburger': 9327, 'hipster': 9328, 'identifizieren': 9329, 'mitnehme': 9330, 'ethischen': 9331, 'eloquenten': 9332, 'fickerchen': 9333, 'mamafariabel': 9334, 'hossa': 9335, 'grabstein': 9336, 'folgende': 9337, '12x': 9338, 'ausrufezeichen': 9339, 'innem': 9340, 'eeeeeeeyes': 9341, 'singt': 9342, 'steggen': 9343, 'raaaaaain': 9344, 'kackern': 9345, 'haften': 9346, 'duenner': 9347, 'katzenbilder': 9348, 'postet': 9349, 'offenetuer': 9350, 'einladung': 9351, 'daemlichen': 9352, 'hohlroller': 9353, 'oez': 9354, 'verkacktes': 9355, 'schnellrestaurant': 9356, 'lahm': 9357, 'dsr3000': 9358, 'idiotische': 9359, 'merkste': 9360, 'schlachttier': 9361, 'ersatzfleisch': 9362, 'bratwuersten': 9363, 'nachbilden': 9364, 'blassbacke': 9365, 'next': 9366, 'schuess': 9367, 'arschlochwelt': 9368, 'rosaelfe': 9369, 'rotze': 9370, 'sehn': 9371, 'besen': 9372, 'pub': 9373, 'fleich': 9374, 'pimmel': 9375, 'harlem': 9376, '85': 9377, 'arschkrampengesichtswurstvollpfostenpissflischidtiotenbinsenwombatfickschnitzel': 9378, 'verlass': 9379, 'penetrations': 9380, 'unfaelle': 9381, 'herkommen': 9382, 'schneeeeeeeeeeeeell': 9383, 'volkerhellein': 9384, 'hochheimer': 9385, 'radiogloe': 9386, 'langweile': 9387, 'anstaendig': 9388, 'twelectra': 9389, 'frost': 9390, 'biggest': 9391, 'snowman': 9392, 'wischt': 9393, 'nasenloecher': 9394, 'augstein': 9395, 'nachholebedarf': 9396, 'fach': 9397, 'aussenminister': 9398, 'clayzcrypto': 9399, 'hal9000bma': 9400, 'mfm': 9401, 'derl': 9402, 'kuere': 9403, 'annernas': 9404, 'malte': 9405, 'oberstuebchen': 9406, 'rumwuehlen': 9407, 'kapie': 9408, 'beratung': 9409, 'fruechte': 9410, 'diepolierer': 9411, 'arwenmagdalena': 9412, 'warnung': 9413, 'krude': 9414, 'vollstrecker': 9415, 'missbrauchte': 9416, 'unterzugehen': 9417, 'nucht': 9418, 'liebt': 9419, 'littlewisehen': 9420, 'traue': 9421, 'jeine': 9422, 'schmerzen': 9423, 'gliedmassen': 9424, 'piep': 9425, 'streichtdentagausdemkalenderundmalteinschwarzeslochandiestelle': 9426, 'sixtus': 9427, 'populist': 9428, 'rechne': 9429, 'klinkha': 9430, 'wiegen': 9431, 'meitli73': 9432, 'gedenkstunde': 9433, 'chefhasser': 9434, 'b4st1n3um4nn': 9435, 'den': 9436, 'hochintelligenten': 9437, 'vorzeigejude': 9438, 'kryptonazis': 9439, 'frakrionssitzung': 9440, 'verbiegen': 9441, 'horrstn': 9442, 'heiderosie': 9443, 'd4nny': 9444, 'ela': 9445, 'mueller': 9446, 'staatsbetrieb': 9447, 'dealer': 9448, 'chemieprodukten': 9449, 'kopftuchverbot': 9450, 'dinkelzuffer': 9451, 'fuettern': 9452, 'gefroren': 9453, 'voegel': 9454, 'sibelschick': 9455, 'unfall': 9456, 'rudolf': 9457, 'wissell': 9458, 'totalsperrung': 9459, 'stau': 9460, 'schnelleres': 9461, 'vz': 9462, '247': 9463, 'autolobbyist': 9464, 'bundesverkehrsminister': 9465, 'krstorevic': 9466, 'nehmt': 9467, 'schmackhafter': 9468, 'mithelfen': 9469, 'siegt': 9470, 'heimt': 9471, 'wecker': 9472, 'leichtes': 9473, 'herzrasen': 9474, 'verspue': 9475, 'sons': 9476, 'verschlaeft': 9477, 'autolobby': 9478, 'sagjazurpflege': 9479, 'schreib': 9480, 'wenns': 9481, 'spektrums': 9482, 'auflage': 9483, 'getrickst': 9484, 'extern': 9485, 'trixen': 9486, 'verleumden': 9487, 'verkorkste': 9488, 'fuehrungsriege': 9489, 'uebriges': 9490, 'buergermeister': 9491, 'mountain': 9492, 'lover': 9493, 'issen': 9494, 'spuckt': 9495, 'gift': 9496, 'galle': 9497, 'medienpreis': 9498, 'bundestages': 9499, 'insifern': 9500, 'grueneclaudi': 9501, 'srensre79820048': 9502, 'volkergoebbels': 9503, 'kulturbolschewi': 9504, 'entlassungsrezept': 9505, 'ausstellen': 9506, 'stefaniewitte': 9507, 'seelsorge': 9508, 'vorstelle': 9509, 'meiner': 9510, 'befolgen': 9511, 'bernardgollas': 9512, 'brauchte': 9513, '1000de': 9514, 'unterschrift': 9515, 'mysterioeses': 9516, 'tanzt': 9517, 'duschen': 9518, 'schreibtisch': 9519, 'landolf': 9520, 'ladig': 9521, 'nocheinmal': 9522, 'aepfeln': 9523, 'friedhosruhe': 9524, 'spdabwaehlen': 9525, 'radioeins': 9526, 'ergreifend': 9527, 'verwendung': 9528, 'begriffs': 9529, 'irrefuehrend': 9530, 'rhbrink': 9531, 'lobreden': 9532, 'entwickelt': 9533, 'gurkenschaeler': 9534, 'genesung': 9535, 'akkordeonistin': 9536, 'weshalb': 9537, 'waehlergunst': 9538, 'abzusacken': 9539, 'letzteres': 9540, 'felixleidecker': 9541, 'spacho360': 9542, 'volksbuehne': 9543, 'unterwerfung': 9544, 'edgar': 9545, 'selge': 9546, 'ergatte': 9547, 'ick': 9548, 'bolle': 9549, 'uff': 9550, 'milchwajen': 9551, 'brat': 9552, 'genuckelt': 9553, 'trixie': 9554, 'thomaswalde': 9555, 'ansatz': 9556, 'draengenden': 9557, 'vorzulegen': 9558, 'absackt': 9559, 'vorsprung': 9560, 'aufholen': 9561, 'rettungsring': 9562, 'ergreifen': 9563, 'herumschwimmenden': 9564, 'plastikmuell': 9565, 'festzuhalten': 9566, 'runterleben': 9567, 'eufelung': 9568, 'stickoxiden': 9569, 'sabbernd': 9570, 'voran': 9571, 'konservativen': 9572, 'streit': 9573, 'inszenie': 9574, 'behilflich': 9575, 'umweltschleudern': 9576, 'annaehernd': 9577, '4500': 9578, 'unterschreiben': 9579, 'bestellten': 9580, 'plaedieren': 9581, 'aufweichung': 9582, 'stickoxide': 9583, 'heizt': 9584, 'dieselgate': 9585, 'oddnina': 9586, 'carpe': 9587, 'diem': 9588, 'zutiefst': 9589, 'undemokratische': 9590, 'schritts': 9591, 'menschenfeindliche': 9592, 'bildflaeche': 9593, 'gegenwa': 9594, 'multitain': 9595, 'vergleichst': 9596, 'ger': 9597, 'michaelagrasser': 9598, 'matthia71701474': 9599, 'andreasandy3131': 9600, 'kv': 9601, 'abi': 9602, 'nazibratze': 9603, 'holocaustleugner': 9604, 'schlafzimmer': 9605, 'ausziehen': 9606, 'schnarchen': 9607, 'begruenden': 9608, 'geheimnissen': 9609, 'differenzierung': 9610, 'nationalismus': 9611, 'jhdt': 9612, 'herauszustreichen': 9613, 'rechtsgegrechts': 9614, 'frauke': 9615, 'beruhigt': 9616, 'abgesiche': 9617, 'siebtes': 9618, 'hinarbeiten': 9619, 'mutterkreuz': 9620, 'dieblauen': 9621, 'pressekonferenzen': 9622, 'hen73317144': 9623, 'vonstorch': 9624, 'abgase': 9625, 'rueckfueh': 9626, 'prostituie': 9627, 'ir': 9628, 'truthfinder811': 9629, 'therapierbar': 9630, 'gauner': 9631, 'beute': 9632, 'bereut': 9633, 'gevoegelt': 9634, 'claudiazettel': 9635, 'creation': 9636, 'motochen': 9637, 'benedetusmc': 9638, 'guckerin': 9639, 'grundmann': 9640, 'aushaengeschild': 9641, 'berufsstand': 9642, 'reaktionaer': 9643, 'bekloppt': 9644, 'erwaehnenswe': 9645, 'veronikaharz': 9646, 'angebliche': 9647, 'aspergerin': 9648, 'ralfpodszus': 9649, 'uwolf67': 9650, 'wac': 9651, 'bimmelzerbott': 9652, 'mundgeruch': 9653, 'fusspilz': 9654, 'apfelkernchen': 9655, 'nachtlos': 9656, 'fluessiger': 9657, 'zucker': 9658, 'kotau': 9659, 'hutbuergern': 9660, 'fdj': 9661, 'schleimspuren': 9662, 'hms': 9663, 'sealord': 9664, 'hro': 9665, 'altermananne': 9666, 'sperma': 9667, 'derherrgott': 9668, 'gerutscht': 9669, 'funkleenergie': 9670, 'symbolbild': 9671, 'heizkissen': 9672, 'unterm': 9673, 'soziarsch': 9674, 'flexyama': 9675, 'obdachlosenhilfe': 9676, 'kaeltehilfe': 9677, 'obendrauf': 9678, 'erstma': 9679, 'renommie': 9680, 'jaehriges': 9681, 'vollzuspammen': 9682, 'kahlen': 9683, 'schaedel': 9684, 'abspielen': 9685, 'glatzkopf': 9686, 'vermocht': 9687, 'seichtes': 9688, 'geblubber': 9689, 'geschwurbel': 9690, 'medikation': 9691, 'kalorien': 9692, 'stressig': 9693, 'umschaue': 9694, 'kranker': 9695, 'vetstand': 9696, 'damuc110': 9697, 'publikum': 9698, 'alina': 9699, 'stiegler': 9700, 'doppelte': 9701, 'kritikwuerdig': 9702, 'raumplanungtv': 9703, 'ehren': 9704, 'zusaetzlichen': 9705, 'waschen': 9706, 'buegeln': 9707, 'rumliegt': 9708, 'eingeschneit': 9709, 'cm': 9710, 'caferizz': 9711, 'erliegen': 9712, 'yleine': 9713, 'schneechaos': 9714, 'kreuzacht': 9715, 'jkcork76': 9716, 'checkyourinfo': 9717, 'katja291266': 9718, '1966skywalker': 9719, 'pogo161': 9720, 'moe': 9721, 'elundkelle': 9722, 'thomasknorra': 9723, 'kinderzaenker1': 9724, 'knordlichtw': 9725, 'schenken': 9726, 'zugang': 9727, 'universitaet': 9728, 'alias': 9729, 'dominik': 9730, 'landolfladig': 9731, 'druecke': 9732, 'niklas': 9733, 'franzen': 9734, 'meisterklaeger': 9735, 'abtreibung': 9736, 'pseudonym': 9737, 'hoellenaufsicht': 9738, 'revht': 9739, 'kopfkinoan': 9740, 'tonne': 9741, 'millimeterhoch': 9742, 'dienste': 9743, 'suvs': 9744, 'dankemerkel': 9745, 'angehenden': 9746, 'juristen': 9747, 'eichstaett': 9748, 'verdorren': 9749, 'nachwuchsjuristen': 9750, 'ilsepupilse': 9751, 'ops1403': 9752, 'kloake': 9753, 'farbige': 9754, 'diffamierend': 9755, 'color': 9756, 'colored': 9757, 'fresseagentur': 9758, 'atheismus': 9759, 'umgerueh': 9760, 'herauskommt': 9761, 'undifferenzie': 9762, 'unternommen': 9763, 'glaeubiger': 9764, 'joernpl': 9765, 'regierungszeit': 9766, 'fehlende': 9767, 'starke': 9768, 'gesellschaftlich': 9769, 'reffen': 9770, 'durchweg': 9771, 'ministerien': 9772, 'linkspopulistisch': 9773, 'schraube': 9774, 'dreht': 9775, 'ritterschlag': 9776, 'kschwanke': 9777, 'begreifbar': 9778, 'tx0h': 9779, 'staffel': 9780, 'einschliesslich': 9781, 'sekretariat': 9782, 'revolutionsvorbereitungen': 9783, 'genaueres': 9784, 'olaf': 9785, 'bundeskanzler': 9786, 'leiche': 9787, 'dsmo': 9788, 'rhonschnegge': 9789, 'zerquetschen': 9790, 'armesdeutschla6': 9791, 'mut73': 9792, 'hoeschen': 9793, 'vorprogrammie': 9794, 'leilak8585': 9795, 'braut': 9796, 'machtgierigen': 9797, 'diktatorin': 9798, 'mfhd': 9799, 'marionetten': 9800, 'kriminal': 9801, 'komprende': 9802, 'droge': 9803, 'debate': 9804, 'schmerzlos': 9805, 'ausgestorben': 9806, 'poppen': 9807, 'nachweisbar': 9808, 'schwanzgesteue': 9809, 'aschmelting': 9810, 'vors': 9811, 'tierschutz': 9812, 'tierquaeler': 9813, 'pamela': 9814, 'systeme': 9815, 'giftig': 9816, 'vaterland': 9817, 'leichen': 9818, 'koste': 9819, 'wolle': 9820, 'dessecerre': 9821, 'olquit': 9822, 'muenzenmaier': 9823, 'verdanken': 9824, 'schrecklich': 9825, 'bete': 9826, 'rache': 9827, 'aehniche': 9828, 'dokumentie': 9829, 'geleitet': 9830, 'trolkragnpulova': 9831, 'entscheide': 9832, 'amigo': 9833, 'pullover': 9834, 'trettwer1': 9835, 'abgrund': 9836, 'aufstehe': 9837, 'rausgehe': 9838, 'regenbogenbruecke': 9839, 'suesser': 9840, 'brennen': 9841, 'lebendig': 9842, 'gekocht': 9843, 'nobby1949z': 9844, 'landkaufhalina': 9845, 'kaninchen': 9846, 'vermehrung': 9847, 'selbstverwirklichung': 9848, 'realisieren': 9849, 'lupe': 9850, 'katja44158378': 9851, 'schwein': 9852, 'kirschenilona': 9853, 'wehrlosen': 9854, 'vergreifen': 9855, 'einsperren': 9856, 'kastrieren': 9857, 'viktorbaranoff': 9858, 'drecksbande': 9859, 'pasemann': 9860, 'vorliegt': 9861, 'erfunden': 9862, 'wueste': 9863, 'hans82129841': 9864, 'jooo': 9865, 'schlauer': 9866, 'reinbringt': 9867, 'wachsen': 9868, 'cuntdestroyed': 9869, 'banane': 9870, 'durchgedreht': 9871, 'trebing': 9872, 'joo': 9873, 'verbrecherin': 9874, 'luegnerin': 9875, 'bastarde': 9876, 'visage': 9877, 'deutschlandrep1': 9878, 'bananenrepublik': 9879, 'helmutnater': 9880, 'getraeumt': 9881, 'dreckspisser': 9882, 'kompost': 9883, 'drehe': 9884, 'scherze': 9885, 'fenster': 9886, 'rausgehauen': 9887, 'manieren': 9888, 'mitbringen': 9889, 'sventaug': 9890, 'treffe': 9891, 'theophanu74': 9892, 'unheil': 9893, 'tommyblfd': 9894, 'ursulaneumann16': 9895, 'skoubidou3': 9896, 'bbeherit': 9897, 'updayde': 9898, 'blaggen': 9899, 'brut': 9900, 'vonzainach': 9901, 'dankeschoen': 9902, 'kayrytter': 9903, 'geschlossene': 9904, 'panne': 9905, 'puffyka81': 9906, 'koenigsblauer41': 9907, 'sprachen': 9908, 'geschaeftspa': 9909, 'achten': 9910, 'zrozumiales': 9911, 'teraz': 9912, 'ty': 9913, 'panimaju': 9914, 'thomasecke': 9915, 'anklagen': 9916, 'volkverraeterin': 9917, 'korrektus': 9918, 'rocky0668': 9919, 'berechtigung': 9920, 'pinkcrazypony': 9921, 'saecke': 9922, 'gesetzgebung': 9923, 'kasperle': 9924, 'unfaehige': 9925, 'grossmaulfroesche': 9926, 'therealaw2': 9927, 'angesagt': 9928, 'ar': 9929, 'katastrophen': 9930, 'woitkebernd': 9931, 'yaglob': 9932, 'lachkrampf': 9933, 'kai': 9934, 'ausgetrocknet': 9935, '1988': 9936, 'glaeubig': 9937, 'larstrep': 9938, 'hetzbeweis': 9939, 'fahre': 9940, 'islamisches': 9941, 'ueberholt': 9942, 'staerksten': 9943, 'auftreten': 9944, 'esse': 9945, 'durchlesen': 9946, 'erweist': 9947, 'teures': 9948, 'problemkind': 9949, 'lesson': 9950, 'learn': 9951, 'einbaukueche': 9952, 'vormieter': 9953, 'zusammengebaut': 9954, 'geraete': 9955, 'nachreden': 9956, 'fieber': 9957, 'nervoes': 9958, 'hoeflich': 9959, 'ausgedrueckten': 9960, 'negativen': 9961, 'ceranfeld': 9962, 'nachmieterin': 9963, 'einzieht': 9964, 'bisserl': 9965, 'fraubruellen': 9966, 'gespraechspa': 9967, 'nerin': 9968, 'second': 9969, 'beziehen': 9970, 'intention': 9971, 'nerv': 9972, '65': 9973, 'meds': 9974, 'fachwissen': 9975, 'spazieren': 9976, 'albtraum': 9977, 'verlaengerungsgarantien': 9978, 'gywermelanie': 9979, 'pharmaindustrie': 9980, 'schaftsunternehmen': 9981, 'behauptungen': 9982, 'geduldsfaden': 9983, 'caroluskaterus': 9984, 'md': 9985, 'grand': 9986, 'eschleife': 9987, 'eyjala': 9988, 'source': 9989, 'reduzie': 9990, 'laienhaft': 9991, 'erfolglos': 9992, 'merkwuerdigen': 9993, 'anschlusskabel': 9994, 'pharmaunternehmen': 9995, 'forschung': 9996, 'vermutung': 9997, 'sicherungen': 9998, 'seltene': 9999, 'investie': 10000, 'einkommen': 10001, 'heilung': 10002, 'praevention': 10003, 'widerspreche': 10004, 'vermutungen': 10005, 'heilmittel': 10006, 'nullleiter': 10007, 'ahhhhhhhh': 10008, 'nervoeser': 10009, 'gruendliche': 10010, 'durchgefueh': 10011, 'einreichung': 10012, 'zulassungsantrag': 10013, '220': 10014, 'wirkstoff': 10015, 'spekulation': 10016, 'patentpraxis': 10017, 'laufzeit': 10018, 'blickfang': 10019, 'wunderschoen': 10020, 'simplifizie': 10021, 'heilungsrate': 10022, 'nebenwirkungen': 10023, 'regulatorisch': 10024, 'geregelt': 10025, 'zolle': 10026, 'technikern': 10027, 'handwerkern': 10028, 'unersetzlich': 10029, 'klebt': 10030, 'abzocke': 10031, 'naturheilkunde': 10032, 'chemie': 10033, 'pharmabranche': 10034, 'ceranfeldlieferung': 10035, 'biddoe': 10036, 'lob': 10037, 'getraut': 10038, 'kla': 10039, 'ext': 10040, 'titelmelodie': 10041, 'maus': 10042, 'schnipsel': 10043, 'werwillslesen': 10044, 'ravioli': 10045, 'daheim': 10046, 'wachstum': 10047, 'make': 10048, 'or': 10049, 'break': 10050, 'ausmachen': 10051, 'abo': 10052, 'home': 10053, 'office': 10054, 'kollege': 10055, 'rausgeholt': 10056, 'doofen': 10057, 'widme': 10058, 'stressfreien': 10059, 'braten': 10060, 'schliebe': 10061, 'offelsalat': 10062, 'schleiche': 10063, 'gaenge': 10064, 'abstauben': 10065, 'pausenbrot': 10066, 'mitgebracht': 10067, 'kochst': 10068, 'knoedel': 10069, 'nudeln': 10070, 'chaotischer': 10071, 'teamwork': 10072, 'ueberbewe': 10073, 'tuerknall': 10074, 'stadteilladen': 10075, 'markttreff': 10076, 'verpackungsfreien': 10077, 'trockenwaren': 10078, 'region': 10079, 'mer': 10080, 'zeitig': 10081, 'dschobb': 10082, 'schaffe': 10083, 'juten': 10084, 'morjen': 10085, 'gerstaecker': 10086, 'kollegin': 10087, 'skyr': 10088, 'probieren': 10089, 'besonderes': 10090, 'mittagspausenkommentar': 10091, 'hooked': 10092, 'treuer': 10093, 'dire': 10094, 'straits': 10095, 'resultate': 10096, 'eventuell': 10097, 'blumenkohl': 10098, 'stampf': 10099, 'burp': 10100, 'beginne': 10101, 'ausflug': 10102, 'genre': 10103, 'starbuckgen': 10104, 'baltimores': 10105, 'einlegen': 10106, 'romanen': 10107, 'erfolgreiche': 10108, 'alleinstehende': 10109, 'abendbrot': 10110, 'omelette': 10111, 'glas': 10112, 'chardonnay': 10113, 'ruehrei': 10114, 'baked': 10115, 'beans': 10116, 'ecokidsgermany': 10117, 'weebly': 10118, 'leckerer': 10119, 'schwippschwager': 10120, 'freitagabend': 10121, 'marcusjohanus': 10122, 'anna': 10123, 'thane': 10124, 'lisatorberg': 10125, 'evafarohi': 10126, 'axelhollmann': 10127, 'sax': 10128, 'andreas': 10129, 'liestwilli': 10130, 'katinkameves': 10131, 'casas2718': 10132, 'corinne': 10133, 'wunderschoenes': 10134, 'florida': 10135, 'eingeimpft': 10136, 'juergens': 10137, 'brett': 10138, 'schiefe': 10139, 'blicke': 10140, 'schlager': 10141, 'linien': 10142, 'bausstellen': 10143, 'lieblingslied': 10144, 'dankoe': 10145, 'kaeffchenpause': 10146, 'thyrelli': 10147, 'geklae': 10148, 'uebergangsfrist': 10149, 'variations': 10150, 'mhra': 10151, 'arzneimittelproduktinfos': 10152, 'zugelassen': 10153, 'zulassung': 10154, 'produktinfos': 10155, 'klauen': 10156, 'kopie': 10157, 'hundemuede': 10158, 'friteuse': 10159, 'aufgewachsen': 10160, 'giere': 10161, 'pommes': 10162, 'fritie': 10163, 'dingen': 10164, 'heissluftfriteusen': 10165, 'schliesse': 10166, 'sonnenstrahl': 10167, 'nieselregen': 10168, 'wundervolle': 10169, 'pose': 10170, 'urlaubsanspruch': 10171, 'verfiel': 10172, 'ion': 10173, 'katzenliebe': 10174, 'doofer': 10175, 'passte': 10176, 'kilometern': 10177, 'baden': 10178, 'nischt': 10179, 'wirklisch': 10180, 'tweeps': 10181, 'grinsen': 10182, 'wetterbericht': 10183, 'lesefutter': 10184, 'mittagspause': 10185, 'mimimal': 10186, 'adjektiv': 10187, 'minimaler': 10188, 'meinerseits': 10189, 'eingezogen': 10190, 'hardcover': 10191, 'fantasywelt': 10192, 'locken': 10193, 'magie': 10194, 'fae': 10195, 'zig': 10196, 'karllagerfeld': 10197, 'fckcapitalism': 10198, 'oomenberlin': 10199, 'protip': 10200, 'rasierschaum': 10201, 'ausrichten': 10202, 'chenazihunter': 10203, 'diskriminieren': 10204, 'einbringen': 10205, 'klassischen': 10206, 'tiefst': 10207, 'grenzt': 10208, 'farbbeutel': 10209, 'wbgkhr': 10210, 'rechtspopulismus': 10211, 'dammtor': 10212, 'handarbeit': 10213, 'nonazishh': 10214, 'hh0711': 10215, 'janine': 10216, 'wissler': 10217, 'extra3': 10218, 'antritt': 10219, 'spende': 10220, 'exitdeutschland': 10221, 'maassenistweg': 10222, 'podcatcher': 10223, 'aktualisie': 10224, 'minkorrekt': 10225, 'pritlovevsminkorrekt': 10226, 'verfassungsschutzchef': 10227, 'nicosemsrott': 10228, 'blinde': 10229, 'groesserer': 10230, 'wucht': 10231, 'dienstbar': 10232, 'alternatives': 10233, 'monopolen': 10234, 'angebote': 10235, 'mais': 10236, 'nsafd': 10237, 'sympatisanten': 10238, 'omasgegenrechts': 10239, 'oberaffengeil': 10240, 'maassendeal': 10241, 'kruger': 10242, 'elke': 10243, 'keinvergessen': 10244, 'andyger': 10245, 'druck': 10246, 'beschuetzen': 10247, 'belohnen': 10248, 'offensichtliches': 10249, 'fragdenminister': 10250, 'tigerelch': 10251, 'machterhalt': 10252, 'schuettelt': 10253, 'maasen': 10254, 'befoerderung': 10255, 'oberstklein': 10256, 'tschuldigung': 10257, 'generalklein': 10258, 'unrechtsstaat': 10259, 'bundeswehrabschaffen': 10260, 'september7777': 10261, 'bengel': 10262, 'ldeniz': 10263, 'fabianmcmxcii': 10264, 'aoc': 10265, 'matthiasmeisner': 10266, 'meisner': 10267, 'gcm': 10268, 'siggiweise': 10269, 'binding': 10270, 'dieses': 10271, 'daimler': 10272, 'cv': 10273, 'bekiffte': 10274, 'wohatder': 10275, 'thor200375': 10276, 'schuleschwaenzenden': 10277, 'unreifen': 10278, 'unwissenden': 10279, 'bloedsinnigst': 10280, 'ideologisie': 10281, 'bejubelei': 10282, 'peinlichen': 10283, 'sauerstoff': 10284, 'hieronymuseisen': 10285, 'gruener': 10286, 'milchbubi': 10287, 'kiff': 10288, 'spatzenhirn': 10289, 'islamismmap': 10290, 'elisa': 10291, 'wein': 10292, 'irgendwan': 10293, 'atomreisfleisch': 10294, 'schulzi': 10295, 'schlaffen': 10296, 'gezeugt': 10297, 'unerhoe': 10298, 'verbitte': 10299, 'plau': 10300, 'reha': 10301, 'katzen': 10302, 'klinik': 10303, 'bescheid': 10304, 'versorgungsamt': 10305, 'mistschweine': 10306, 'marcuspretzell': 10307, 'toechter': 10308, 'luschen': 10309, 'ersatz': 10310, 'acunts': 10311, 'soehne': 10312, 'minusmenschen': 10313, 'theborisbecker': 10314, 'besenkammer': 10315, 'bonnyundrambo': 10316, 'mein': 10317, 'mitgefuehl': 10318, 'topen': 10319, 'vaterlandsverraeter': 10320, 'zeitnah': 10321, 'imageberatungen': 10322, 'bischen': 10323, 'gekifft': 10324, 'vollkriegt': 10325, 'bendodo7': 10326, 'looser': 10327, 'eindosen': 10328, '81psycho81': 10329, 'taufen': 10330, 'tinod78': 10331, 'albe': 10332, 'michl': 10333, 'schnallt': 10334, 'hohlen': 10335, 'ruebe': 10336, 'alkoholfrei': 10337, 'annabayern': 10338, 'abzusehen': 10339, 'schulabschluss': 10340, 'aroehrig23': 10341, 'taykra': 10342, 'drecklochland': 10343, 'schief': 10344, 'bomebenanschlag': 10345, 'schneidercar': 10346, 'fettarsch': 10347, 'schwesig': 10348, 'wilma44218613': 10349, 'pussi': 10350, 'hansalbers100': 10351, 'altmeier': 10352, 'kiffende': 10353, 'duest': 10354, 'beachtet': 10355, 'merkeln': 10356, 'agronym': 10357, 'catwolf': 10358, 'ditfuth': 10359, 'ditfut': 10360, 'zahnarzthelferin': 10361, 'neumuenster': 10362, 'karina': 10363, '0001f1ea': 10364, '0001f1ee': 10365, '0001f1f1': 10366, '0001f1e8': 10367, '0001f1ed': 10368, 'muslimische': 10369, 'besetzt': 10370, 'abmurksen': 10371, 'allerletzte': 10372, 'toehle': 10373, 'irmgardboysen2f': 10374, 'paulinamagdale': 10375, 'einmotten': 10376, 'wette': 10377, 'heiko': 10378, 'maxotte': 10379, 'says': 10380, 'pillen': 10381, 'bundespressekonferenz': 10382, 'ueberforde': 10383, 'patzig': 10384, 'juengst': 10385, 'bosbach': 10386, 'vorzeigesyrer': 10387, 'aras': 10388, 'bacho': 10389, 'sexualstraftaeter': 10390, 'sooooo': 10391, 'arbeiterpa': 10392, 'wirkl': 10393, 'berufsausbild': 10394, 'schwulenclubs': 10395, 'bestens': 10396, 'fprudow': 10397, 'kluge': 10398, 'thilo': 10399, 'rausschmeissen': 10400, 'spaetpube': 10401, 'ierende': 10402, 'streben': 10403, 'abendrot': 10404, 'gutmenschbrille': 10405, 'schenkelklopfer': 10406, 'karlchen': 10407, 'schwachkoepfe': 10408, 'eiensterben': 10409, 'schoensten': 10410, 'nachweisslich': 10411, 'pdausend': 10412, 'marcbrost': 10413, 'einstellig': 10414, 'wahlumfragen': 10415, 'malsackwinkeman': 10416, 'wismar': 10417, 'udolindenberg': 10418, 'angepasster': 10419, 'schweiger': 10420, 'hakantasberlin': 10421, 'durst': 10422, 'terrorisie': 10423, 'demutsch': 10424, 'goenne': 10425, 'dildo': 10426, 'annmariaberger': 10427, 'avast': 10428, 'deine': 10429, '5oo': 10430, 'rolex': 10431, 'palestina': 10432, 'eingedost': 10433, 'loesche': 10434, 'allharald': 10435, 'abgehafte': 10436, 'hajona10': 10437, 'branko0805': 10438, 'rosette': 10439, 'versilbern': 10440, 'stephandetjen': 10441, 'organisation': 10442, 'axelkirk1': 10443, 'poroshenko': 10444, 'pornoshenko': 10445, 'tribunal': 10446, 'miese': 10447, 'merkelsekte': 10448, 'friedrichmerz': 10449, 'medwedjew': 10450, 'pudel': 10451, 'installie': 10452, 'demuetigung': 10453, 'friedrich': 10454, 'hinweg': 10455, 'lude69a': 10456, 'sprach': 10457, 'kk': 10458, 'unlat': 10459, 'vermaechtnis': 10460, 'diktum': 10461, 'zwanggebuehren': 10462, 'perve': 10463, 'gesinnungsjournalisten': 10464, 'ismailtipi': 10465, 'with': 10466, 'bang': 10467, 'begehren': 10468, 'grossstaedte': 10469, 'uellen': 10470, 'ebenen': 10471, 'weltnetzes': 10472, 'wurscht': 10473, 'adivonpoes': 10474, 'genuss': 10475, 'chueblue': 10476, 'befriedigen': 10477, 'erschiess': 10478, 'bekommst': 10479, 'speckbomber': 10480, 'heuteshow': 10481, 'dutzen': 10482, 'einzelfallinfos': 10483, 'festerflausch': 10484, 'neomagazin': 10485, 'ekelhafte': 10486, 'balken': 10487, 'biegen': 10488, 'kenianer': 10489, 'deutschem': 10490, 'fluechtlingsheim': 10491, 'staedtische': 10492, 'unterkunft': 10493, 'thomasruettgers': 10494, 'ruettgers': 10495, 'fums': 10496, 'calmund': 10497, 'rolfheinemann1': 10498, 'tasche': 10499, 'duenn': 10500, 'gramm': 10501, 'saeed6ali': 10502, 'ausgestattete': 10503, 'knaeste': 10504, 'humanes': 10505, 'vorbildliche': 10506, 'wae': 10507, 'latenightberlin': 10508, 'flodavidfitz': 10509, 'blaehungen': 10510, 'ehrensohn': 10511, 'leuchte': 10512, 'erstaunt': 10513, 'markusuli': 10514, 'speichellecker': 10515, 'witzbold': 10516, 'womens': 10517, 'radikaler': 10518, 'soft': 10519, 'spoken': 10520, 'girls': 10521, 'gleichzieht': 10522, 'laufenden': 10523, 'abgeschossen': 10524, 'ytubers': 10525, 'feministin': 10526, 'mika': 10527, 'major': 10528, 'tom': 10529, 'pfft': 10530, 'karlchen0815': 10531, 'linksgruenen': 10532, 'angerichtet': 10533, 'usurpieren': 10534, 'landstrich': 10535, 'infighting': 10536, 'electre': 10537, 'legendaeren': 10538, 'aelteren': 10539, 'speckgue': 10540, 'julia': 10541, 'zehs': 10542, 'widerstaendler': 10543, 'enklaven': 10544, 'gewisse': 10545, 'ostler': 10546, 'mitgeholfen': 10547, 'geschossen': 10548, 'oerr': 10549, 'gremien': 10550, 'kahane': 10551, 'amadeu': 10552, 'antonio': 10553, 'transen': 10554, 'schwulen': 10555, 'lesben': 10556, 'gay': 10557, 'zuegeln': 10558, 'dupie': 10559, 'ueberdeckt': 10560, 'aufloesen': 10561, 'beschleunigt': 10562, 'genozidieren': 10563, 'schrottet': 10564, 'rg': 10565, 'nachgeben': 10566, 'juengeren': 10567, 'perfiden': 10568, 'cult': 10569, 'doppeldenk': 10570, 'neusprech': 10571, 'blitzschnell': 10572, 'funktionaeren': 10573, 'neo': 10574, 'sedlern': 10575, 'merkelianern': 10576, 'irrst': 10577, 'fankurve': 10578, 'blockst': 10579, 'missverstehst': 10580, 'fiesematenten': 10581, 'beinha': 10582, 'eingeblendet': 10583, 'linksfaschistisch': 10584, 'original': 10585, 'sin': 10586, 'sippenhaft': 10587, 'starker': 10588, 'staendigen': 10589, 'ueberhoehten': 10590, 'buerger18': 10591, 'supremacism': 10592, 'usual': 10593, 'angegeben': 10594, 'dekadente': 10595, 'stillschweigend': 10596, 'gegnerschaft': 10597, 'hinreichendem': 10598, 'zweckdienlich': 10599, 'niedergemacht': 10600, 'chopping': 10601, 'zzt': 10602, 'babytoeten': 10603, 'cultureofdeath': 10604, 'era': 10605, 'error': 10606, 'svenhoehn81': 10607, 'sinnfrei': 10608, 'religiote': 10609, 'stuss': 10610, 'weisser': 10611, 'westlicher': 10612, 'raut': 10613, 'weggehen': 10614, 'seele': 10615, 'einbrennen': 10616, 'illoyalen': 10617, 'vergewaltigungsmaterial': 10618, 'odinsjunge': 10619, 'teutoburk': 10620, 'unehrlicher': 10621, 'bigotterie': 10622, 'charaktere': 10623, 'hereingelassenen': 10624, 'massenmoerderinnen': 10625, 'widerlichst': 10626, 'vaeter': 10627, 'reibend': 10628, 'verlogener': 10629, 'genozidie': 10630, 'haesslichst': 10631, 'illoyal': 10632, 'verheuchelt': 10633, 'beziehung': 10634, 'verraeterinnen': 10635, 'ladies': 10636, 'patriotinnen': 10637, 'bahnhofskiosken': 10638, 'quillt': 10639, 'dekadenzdreck': 10640, 'massivst': 10641, 'abstossend': 10642, 'strassergregor': 10643, 'falklandfuchs': 10644, 'style': 10645, 'untergehen': 10646, 'bolschwistisch': 10647, 'heuchelnden': 10648, 'rotzhuren': 10649, 'endliche': 10650, 'lebenszeit': 10651, 'schuetzende': 10652, 'heuchelnder': 10653, 'massenhafte': 10654, 'indigener': 10655, 'europaeer': 10656, 'entmenschlichenden': 10657, 'losstellung': 10658, 'entsprechender': 10659, 'auslieferung': 10660, 'gerechtem': 10661, 'verursachen': 10662, 'ereilenden': 10663, 'abgestraft': 10664, 'gerechte': 10665, 'zufuehrung': 10666, 'abtoetens': 10667, 'jugendlicher': 10668, 'gleise': 10669, 'schubsen': 10670, 'scheinfluechtlinge': 10671, 'entrechtung': 10672, 'gleichem': 10673, 'kulturmarxistischen': 10674, 'moralglasperlenspiel': 10675, 'strunzbloed': 10676, 'herein': 10677, 'eysvog3l': 10678, 'schindlers': 10679, 'pure': 10680, 'fiktion': 10681, 'verhetzungsfilm': 10682, 'globohomo': 10683, 'volkspruegler': 10684, 'svs1946': 10685, 'trotzkistisches': 10686, 'pressen': 10687, 'angelikatappe': 10688, 'supreme': 10689, 'cou': 10690, 'zweifelhaften': 10691, 'auffassungen': 10692, 'boeswilliger': 10693, 'hirnschiss': 10694, 'gutglaeubig': 10695, 'naive': 10696, 'anpassung': 10697, 'ethnie': 10698, 'forstlmaria': 10699, 'emittieren': 10700, 'baerendienste': 10701, 'zieh': 10702, 'leine': 10703, 'lehrmeisternd': 10704, 'fingerzeigen': 10705, 'benennen': 10706, 'schadend': 10707, 'drueckend': 10708, 'ausstehen': 10709, 'verwirren': 10710, 'derailen': 10711, 'spurengas': 10712, 'gering': 10713, 'treibhauseffekt': 10714, 'fraglich': 10715, 'physikalisch': 10716, 'hoechstgradig': 10717, 'unserioesen': 10718, 'klimamodellen': 10719, 'unbeholfen': 10720, 'verwirrende': 10721, 'geotektonische': 10722, 'vulkanische': 10723, 'aktivitaet': 10724, 'waermezentren': 10725, 'riesigen': 10726, 'energetischen': 10727, 'schwankungen': 10728, 'waermeabstrahlung': 10729, 'nordkappe': 10730, 'abschmelzen': 10731, 'bestaendigen': 10732, 'abkuehlungsprozess': 10733, 'ondolie': 10734, 'erdmantel': 10735, 'konvektionstroeme': 10736, 'erdmagnetfeld': 10737, 'magn': 10738, 'nordpol': 10739, 'stromaenderungen': 10740, 'hinweist': 10741, 'scher': 10742, 'trickster': 10743, 'universum': 10744, 'prallt': 10745, 'tricksterei': 10746, 'aufsaessiger': 10747, 'verscheixxereien': 10748, 'herausreden': 10749, 'taschenspiele': 10750, 'rick': 10751, 'fuehlst': 10752, 'hochgradig': 10753, 'aetzend': 10754, 'aergerlich': 10755, 'faselst': 10756, 'krusen': 10757, 'funzt': 10758, 'zaudernde': 10759, 'zaunsitzer': 10760, 'planieren': 10761, 'checkst': 10762, 'hindernis': 10763, 'reihen': 10764, 'vorn': 10765, 'erschossen': 10766, 'angefeindet': 10767, 'autist': 10768, 'kenntnisse': 10769, 'baeren': 10770, 'aufbinden': 10771, 'kalkuel': 10772, 'sektierer': 10773, 'ziehenden': 10774, 'endlos': 10775, 'gravy': 10776, 'train': 10777, 'mengenverhaeltnisse': 10778, 'bolshevikenluege': 10779, 'rome': 10780, 'zuendete': 10781, 'exproriation': 10782, 'ikarusflug': 10783, 'erdklima': 10784, 'redest': 10785, 'planierst': 10786, 'ersichtliche': 10787, 'niedermangeln': 10788, 'logik': 10789, 'niedergemangelt': 10790, 'wahrscheinlichkeit': 10791, 'zaunsitzen': 10792, 'allmaehlich': 10793, 'antisemitin': 10794, 'derailing': 10795, 'ausgesuchten': 10796, 'kulaken': 10797, 'verbotsquote': 10798, 'vorsorgeprinzip': 10799, 'willkuerlich': 10800, 'schmutzigen': 10801, 'erstunken': 10802, 'erlogen': 10803, 'halskrause': 10804, 'fuerchterlich': 10805, 'fahrverbote': 10806, 'erdulden': 10807, 'messungen': 10808, 'anzieher': 10809, 'hebeln': 10810, 'platitueden': 10811, 'rhetorischen': 10812, 'extremer': 10813, 'redeschwall': 10814, 'sachliches': 10815, 'beschmierung': 10816, 'defamation': 10817, 'funktionaers': 10818, 'gruenes': 10819, 'luegengeschnatter': 10820, 'pochen': 10821, 'korrumpie': 10822, 'betruegerischen': 10823, 'ueberrumpelungen': 10824, 'punkten': 10825, 'aufrechter': 10826, 'rgs': 10827, 'gebogen': 10828, 'verbaende': 10829, 'schuetteln': 10830, 'mauscheln': 10831, 'betruegen': 10832, 'ueberrumpeln': 10833, 'fernzuhalten': 10834, 'einschlaegig': 10835, 'recherchieren': 10836, 'boesewichte': 10837, 'gutem': 10838, 'anspruchs': 10839, 'abpressrechten': 10840, 'propagandisie': 10841, 'brutales': 10842, 'ethnic': 10843, 'cleansing': 10844, 'insb': 10845, 'proxies': 10846, 'hergang': 10847, 'balkankrieges': 10848, 'gedenkwuerdig': 10849, 'pharisaeischen': 10850, 'politratten': 10851, 'masturbieren': 10852, 'bloedindoktrinie': 10853, 'verratenden': 10854, 'gepluende': 10855, 'fsa': 10856, 'terrormilizen': 10857, 'nahestehenden': 10858, 'aufschlagen': 10859, 'abziehen': 10860, 'terrorisieren': 10861, 'terrormiliz': 10862, 'vorwiegend': 10863, 'erdo': 10864, 'empfinden': 10865, 'intentionen': 10866, 'huldigst': 10867, 'kraeften': 10868, 'angelegt': 10869, 'solschenizyn': 10870, 'maedel': 10871, 'durchschaut': 10872, 'europaererin': 10873, 'schwarzewitwebs': 10874, 'taharush': 10875, 'kriegerische': 10876, 'assimilieren': 10877, 'ceuta': 10878, 'zaeune': 10879, 'steigen': 10880, 'durchtrainie': 10881, 'krieger': 10882, 'saarland': 10883, 'brutstaette': 10884, 'bevorzugt': 10885, 'kamen': 10886, 'kolonien': 10887, 'imperiales': 10888, 'negierenden': 10889, 'imperialen': 10890, 'zeitgenoessisch': 10891, 'gelaeufig': 10892, 'veraltet': 10893, 'zugvogel': 10894, 'ursprungs': 10895, 'posier': 10896, 'session': 10897, 'heftig': 10898, 'heikolein': 10899, 'rumspringen': 10900, 'separat': 10901, 'bestrahlt': 10902, 'kongresszentrum': 10903, 'schwan': 10904, 'denver': 10905, 'eigena': 10906, 'glob': 10907, 'fresko': 10908, 'luciferian': 10909, 'thesen': 10910, 'guillaume': 10911, 'faye': 10912, 'petra58249513': 10913, 'freezye2': 10914, 'hoffnungslos': 10915, 'bruhaha': 10916, 'ki': 10917, 'tummeln': 10918, 'schmarotzer': 10919, 'eiterbeule': 10920, 'driftet': 10921, 'gen': 10922, 'chinesisches': 10923, 'mayday18568706': 10924, 'agiteur': 10925, 'establishments': 10926, 'ausgesuchte': 10927, 'kulaks': 10928, 'bezmenov': 10929, 'nuetzliche': 10930, 'unfassbare': 10931, 'daemlichkeit': 10932, 'gepaa': 10933, 'verschlagenheit': 10934, 'sirgaheris01': 10935, 'espinakka': 10936, 'supremazistisch': 10937, 'verschlagen': 10938, 'hassend': 10939, 'gelebter': 10940, 'covingtonboys': 10941, 'sichtbar': 10942, 'hatespeech': 10943, 'unterdrueckungsspiel': 10944, 'eingetrichte': 10945, 'guetlich': 10946, 'ethnien': 10947, 'trotzkistischer': 10948, 'trollerei': 10949, 'jansamis': 10950, 'provokationsroutine': 10951, 'europaeischstaemmigen': 10952, 'genozidal': 10953, 'neobolsheviken': 10954, 'unagenda2030': 10955, 'organizedcrime': 10956, 'exekutie': 10957, 'mauschelnd': 10958, 'oligarchen': 10959, 'dieselverbot': 10960, 'debauchery': 10961, 'abspaltung': 10962, 'supremazistisches': 10963, 'machwerk': 10964, 'bolschewistischer': 10965, 'coup': 10966, 'eingeordnet': 10967, 'national': 10968, 'bolshevik': 10969, 'vereinnahmt': 10970, 'labt': 10971, 'geknebelten': 10972, 'lupenreiner': 10973, 'amann': 10974, 'fabulie': 10975, 'bolschewistisches': 10976, 'bolschewistischen': 10977, 'kruse': 10978, 'verraeter': 10979, 'ufer': 10980, 'andient': 10981, 'neobolsheviks': 10982, 'zwischenstaende': 10983, 'kubikmeter': 10984, 'lp': 10985, 'vinyl': 10986, 'eindrucksvolle': 10987, 'fotografin': 10988, 'rarely': 10989, 'such': 10990, 'impressive': 10991, 'pictures': 10992, 'this': 10993, 'photographer': 10994, 'resistance2019': 10995, 'hehehe': 10996, 'beisst': 10997, 'pobacke': 10998, 'honks': 10999, 'abstammen': 11000, 'strangelove1976': 11001, 'autodiebstahl': 11002, 'diebstahls': 11003, 'itown': 11004, 'tommychong': 11005, 'zwillingsbruder': 11006, 'jama08768523': 11007, 'okokokok': 11008, 'krampkarrenbauer': 11009, 'wummms': 11010, 'rauspruegeln': 11011, 'klage': 11012, 'kundenservice': 11013, 'vorbildlich': 11014, 'tip': 11015, 'ikk': 11016, 'sachbearbeiterin': 11017, 'vollstaendiger': 11018, 'dieselfahrverbot': 11019, 'abgedeckt': 11020, 'ausuebung': 11021, 'explodie': 11022, 'cityrebel2018': 11023, 'nadel': 11024, 'mitgelaufen': 11025, 'cyclepeda': 11026, 'witch': 11027, 'theresakalmer': 11028, 'radentscheid': 11029, 'aelter': 11030, 'herdplatte': 11031, 'sparst': 11032, 'verhunge': 11033, 'solikurdin': 11034, 'irgendwer': 11035, 'dieterfrikadell': 11036, 'uebliche': 11037, 'milliyetciccc': 11038, 'fatihzingal': 11039, 'wolfsgruss': 11040, 'sympathische': 11041, 'anarchistalri': 11042, 'anarchisten': 11043, 'radikal': 11044, 'utopie': 11045, 'utopisten': 11046, 'zusammenlebens': 11047, 'urform': 11048, 'basisdemokratie': 11049, 'arne': 11050, 'jj': 11051, 'regineguenther': 11052, 'braeuchte': 11053, 'zusammenhaengende': 11054, 'radwege': 11055, 'marga': 11056, 'owski': 11057, 'stn': 11058, 'kerngeschaeft': 11059, 'provinzblatt': 11060, 'provinzielle': 11061, 'buergis': 11062, 'kuerzer': 11063, 'blocklisten': 11064, 'auffuellen': 11065, 'rumzuhacken': 11066, 'schwarzem': 11067, 'pruegeln': 11068, 'drunter': 11069, 'zuckt': 11070, 'einsauen': 11071, 'blutspritzern': 11072, 'schraeger': 11073, 'rufe': 11074, 'krasse': 11075, 'erwischt': 11076, 'gratulanten': 11077, 'suechtig': 11078, 'absprung': 11079, 'he': 11080, 'habsc': 11081, 'dfb': 11082, 'erlaesst': 11083, 'verordnung': 11084, 'strafzahlungen': 11085, 'ferraro': 11086, 'leo': 11087, 'schwarzrund': 11088, 'rolnam': 11089, 'florableibt': 11090, 'vorab': 11091, 'hanseatische': 11092, 'zeitreise': 11093, 'deluxe': 11094, 'ungefaehre': 11095, 'waehlers': 11096, 'leopoldomones': 11097, 'krawuzikabuzi': 11098, 'frontal21': 11099, 'tdfev': 11100, 'hilfetelefon': 11101, 'bmfsfj': 11102, 'viecher': 11103, 'unterkriegen': 11104, 'juenger': 11105, 'runtermachen': 11106, 'eingebildeten': 11107, 'herabzusetzen': 11108, 'ueberhoehe': 11109, 'anwesenden': 11110, 'vereinsrecht': 11111, 'sonderstimmrecht': 11112, 'ausserordentlichen': 11113, 'vollversammlungen': 11114, 'informative': 11115, 'dreijaehrige': 11116, 'jackyfux': 11117, 'angebracht': 11118, 'abe': 11119, 'ins': 11120, 'darstellerinnen': 11121, 'schwe': 11122, 'anschaust': 11123, 'sarkastisch': 11124, 'gebacken': 11125, 'blockempfehlung': 11126, 'guerilla': 11127, 'gardening': 11128, 'obi': 11129, 'naysayer': 11130, 'unterbezahlte': 11131, 'hilfskraefte': 11132, 'rosamundebay': 11133, 'informatiker': 11134, 'abgestuerzt': 11135, 'tato': 11136, 'logischen': 11137, 'amigaberlin': 11138, 'fraukefke': 11139, 'lamm': 11140, '0001f356': 11141, '0001f357': 11142, '0001f37d': 11143, '0001f377': 11144, 'nazizeit': 11145, 'erben': 11146, 'einzuknicken': 11147, 'rainerrogge': 11148, 'aussagekraeftig': 11149, 'lovisraubermama': 11150, 'wiebe': 11151, 'zumsaru': 11152, 'politikundliebe': 11153, 'hhvrecords': 11154, 'rambazamba161': 11155, 'antikalypse': 11156, 'andauernd': 11157, 'gesabbel': 11158, 'timeline': 11159, 'spuelen': 11160, 'arrogante': 11161, '0105145': 11162, '859e': 11163, 'tellerrand': 11164, 'desch': 11165, 'fai': 11166, 'garnedd': 11167, 'erhol': 11168, 'gefaelligscht': 11169, 'brauchet': 11170, 'genesungs': 11171, 'weichspueler': 11172, 'klimakillers': 11173, 'vorgestern': 11174, 'abgefahrene': 11175, 'kugel': 11176, 'kakteen': 11177, 'lsd': 11178, 'trinkwasser': 11179, 'schuetten': 11180, 'hhuesino': 11181, 'hinkomme': 11182, 'gedanklich': 11183, 'bundesweiten': 11184, '2400': 11185, 'fehringerma': 11186, 'nabu': 11187, 'einschalten': 11188, 'plumpe': 11189, 'werder': 11190, 'worry': 11191, 'anettselle': 11192, '0001f37e': 11193, 'modeutschmann': 11194, 'eva': 11195, 'leisner': 11196, 'hahahahaha': 11197, 'best': 11198, 'buddys': 11199, 'pittbull': 11200, 'nt': 11201, 'muehevoll': 11202, 'rndm': 11203, 'welche': 11204, 'kerosin': 11205, 'yep': 11206, 'johnzabrada': 11207, 'byondgraymatter': 11208, 'vefleihfirma': 11209, 'radlader': 11210, 'steiger': 11211, 'aesthetische': 11212, 'vollkatastrophe': 11213, 'architekt': 11214, 'einbetonie': 11215, 'ihea': 11216, 'lord': 11217, 'fusseck': 11218, 'vorkommt': 11219, 'selah002': 11220, 'vollem': 11221, 'drogeneinfluss': 11222, 'warnungen': 11223, 's4': 11224, 's5': 11225, 's6': 11226, 'verspaetet': 11227, 'zuffenhausen': 11228, 'bahnen': 11229, 'energiewerke': 11230, 'schoenau': 11231, 'profit': 11232, 'sueddeutschen': 11233, 'beziehbar': 11234, 'vorrausgesetzt': 11235, 'grundsaetzliche': 11236, 'hoheitszeichen': 11237, 'jedweder': 11238, 'verlaub': 11239, 'klebestreifen': 11240, 'rotehilfeberlin': 11241, 'versand': 11242, 'm99': 11243, 'beziehst': 11244, 'gemalte': 11245, 'nrrrdstdt': 11246, 'diekadda': 11247, 'massgeblich': 11248, 'serioesen': 11249, 'befreiungs': 11250, 'bewegungen': 11251, 'weareafreeworld': 11252, 'ebnerst': 11253, 'jungnaiv': 11254, 'mayntz': 11255, 'moeglicherweise': 11256, 'fotoschwetje': 11257, 'hi': 11258, 'imtmee': 11259, 'suchfilter': 11260, 'eingegeben': 11261, 'rojrev69': 11262, 'erfrischend': 11263, 'mutmasslich': 11264, 'linketshi': 11265, 'truerebel': 11266, 'store': 11267, 'anarchismus': 11268, 'ausschnitt': 11269, '0001f628': 11270, '0001f630': 11271, 'begluecke': 11272, 'photos': 11273, 'detektivbasil': 11274, 'zusatz': 11275, 'knackpunkt': 11276, 'beobachtung': 11277, 'sarikariwa': 11278, 'stecke': 11279, 'kriegst': 11280, 'floeten': 11281, 'anarcho161zecke': 11282, 'heisswachs': 11283, 'heckscheibe': 11284, 'nacken': 11285, 'bordercollies': 11286, 'geilsten': 11287, 'mitbewohner': 11288, 'selbststaendiger': 11289, 'todo': 11290, 'auslauf': 11291, 'spielzeit': 11292, 'ermoeglichen': 11293, '20qm': 11294, 'sebastianwaiter': 11295, 'kollenbergkai': 11296, 'kraftklub': 11297, 'angeln': 11298, 'anstaendigen': 11299, 'remler': 11300, 'wurzelschlag': 11301, 'wuessten': 11302, 'image': 11303, 'landesebene': 11304, 'klaeglichen': 11305, 'schusslinie': 11306, 'aehnlichen': 11307, 'sachbearbeiter': 11308, 'soeren': 11309, 'leberwurst': 11310, 'fehl': 11311, 'relativiere': 11312, 'nachtzuege': 11313, 'abel': 11314, 'entfernungen': 11315, 'hauptstrecken': 11316, 'ausgebaut': 11317, 'ueberland': 11318, 'peterpstuttga': 11319, 'teilnehmerzahl': 11320, 'fcstpauli63': 11321, 'kalessebo': 11322, 'gewachsene': 11323, '1995': 11324, 'internen': 11325, 'querelen': 11326, 'antifakollektiv': 11327, 'gerhardkopilot': 11328, 'schreibweisen': 11329, 'entschuldigen': 11330, 'hoeckewatch': 11331, 'moellemann': 11332, 'ruecktrittsfoderungen': 11333, 'geschrei': 11334, 'spendenlauf': 11335, 'kaputte': 11336, '50ct': 11337, 'landet': 11338, 'direktspende': 11339, 'bildnachweis': 11340, 'erwuenscht': 11341, 'c2708': 11342, 'dankeantifa': 11343, 'treffpunkte': 11344, 'dach': 11345, 'normalfall': 11346, 'panzerfaust': 11347, 'dilemma': 11348, 'beenden': 11349, 'klostervessra': 11350, 'mattstedt': 11351, 'manofwar': 11352, 'aut': 11353, 'ahhhhh': 11354, 'siehste': 11355, 'sturmfrei': 11356, 'challenge': 11357, 'vinyls': 11358, 'nacheinander': 11359, 'durchhoeren': 11360, 'autorin': 11361, 'kaese': 11362, 'gras': 11363, 'wohnmobilen': 11364, 'autobahnen': 11365, 'blackbird': 11366, 'pistenbuckel': 11367, 'landweg': 11368, 'visum': 11369, 'anrainer': 11370, 'iranische': 11371, 'niemandsland': 11372, 'rumhaengen': 11373, 'spacken': 11374, 'like': 11375, 'zerreisst': 11376, '0001f494': 11377, 'gruess': 11378, 'unbekannterweise': 11379, 'zwiebelpaeckchen': 11380, 'kiefer': 11381, 'gedrueckt': 11382, 'symptomatischen': 11383, 'symptome': 11384, 'nimm': 11385, 'schwoere': 11386, 'entzuendungen': 11387, 'zwiebeln': 11388, 'kamillen': 11389, 'sud': 11390, 'apotheker': 11391, 'ibu': 11392, 'sekundaer': 11393, 'heilungsprozess': 11394, 'ansetzen': 11395, 'naturprodukte': 11396, 'moegliche': 11397, 'entzuendung': 11398, 'verhinderst': 11399, 'kernpanik': 11400, 'absurdum': 11401, 'gothville': 11402, 'kathyfcsp': 11403, 'bein': 11404, 'sexuelle': 11405, 'anspielung': 11406, 'saggsenschnegge': 11407, 'sheeplnthedark': 11408, 'dentlike': 11409, 'therese': 11410, 'bln': 11411, 'kritikfaehig': 11412, 'persoehnlichkeitsrechte': 11413, 'fahrerin': 11414, 'autozeitung': 11415, 'kennzeichen': 11416, 'gepixelt': 11417, 'diethelmnickel': 11418, 'niemamovassat': 11419, 'stress': 11420, 'reaktionaeren': 11421, 'vorsitzenden': 11422, 'hiess': 11423, 'aerge': 11424, 'aufgehoe': 11425, 'schwitzkasten': 11426, 'frontal': 11427, 'klassenzimmer': 11428, 'gerannt': 11429, 'klassenbuch': 11430, 'zappendusterhh': 11431, 'schlamm': 11432, 'einreiben': 11433, 'sonnenbrandgefahr': 11434, 'verlags': 11435, 'ndaktuell': 11436, 'beschwerden': 11437, 'elsaesser': 11438, '100te': 11439, 'eingefallen': 11440, 'ichbincsu': 11441, 'stummschalten': 11442, 'einzelner': 11443, 'zimmerleute': 11444, 'klerikal': 11445, 'geschuetzt': 11446, 'berufsverwandtschaft': 11447, 'einzigen': 11448, 'nachgesehen': 11449, 'aufgehalten': 11450, 'gleichschaltung': 11451, 'mainstreammedien': 11452, 'tilo': 11453, 'aufgerufen': 11454, 'klimaleugner': 11455, 'leugner': 11456, 'anprangern': 11457, 'nordirland': 11458, 'zollgrenze': 11459, 'abgetrennt': 11460, 'isolie': 11461, 'zollunion': 11462, 'stagtagspraesent': 11463, 'abschaffung': 11464, 'kernenergie': 11465, 'kohlenutzung': 11466, 'ansiedlung': 11467, 'afrikanern': 11468, 'kapitulationsve': 11469, 'merkelschen': 11470, 'aletheia156': 11471, 'geschaeftlichen': 11472, 'diplomatischen': 11473, 'agree': 11474, 'allow': 11475, 'ministerlein': 11476, 'erlauben': 11477, 'konfrontie': 11478, 'berufliche': 11479, 'entgegnet': 11480, 'plastikfunktionaerin': 11481, 'dummdreist': 11482, 'abschlossen': 11483, 'bloeden': 11484, 'buendnisautomatismus': 11485, 'abgelegenen': 11486, 'winkel': 11487, 'nordmazedonienen': 11488, 'leugnung': 11489, 'glaeubige': 11490, 'schnittpause': 11491, 'komplizie': 11492, 'unbegabten': 11493, 'ueberehrgeizigen': 11494, 'dorfprinzesschen': 11495, 'uebersetzt': 11496, 'schleichenden': 11497, 'verwaltungsbezirke': 11498, 'degradieren': 11499, 'uebermuetigen': 11500, 'grenzoeffnung': 11501, 'verkorkst': 11502, 'unfreiwillig': 11503, 'selbstbehauptungswillen': 11504, 'erweckt': 11505, 'causa': 11506, 'problemen': 11507, 'progression': 11508, 'kohlekraftwerke': 11509, 'sinkende': 11510, 'verbuddeln': 11511, 'modernen': 11512, 'kuenftig': 11513, 'verbrennen': 11514, 'schlechteren': 11515, 'wegfallende': 11516, 'sinkt': 11517, 'weltweite': 11518, 'kohlepreis': 11519, 'huebsches': 11520, 'unbeachteten': 11521, 'wirksam': 11522, 'rauensverlust': 11523, 'jurgenpresser': 11524, 'lehreraufgabe': 11525, 'mitschueler': 11526, 'schuechternen': 11527, 'androhen': 11528, 'jungenklo': 11529, 'aufzusuchen': 11530, 'reloadius': 11531, 'sekretaerin': 11532, 'anruft': 11533, 'taegliches': 11534, 'bueroleiter': 11535, 'drueben': 11536, 'heuteplus': 11537, 'sexuellen': 11538, 'grundschulalter': 11539, 'aufsuchen': 11540, 'toiletten': 11541, 'parkbaenke': 11542, 'pinseln': 11543, 'schlussfolgerungen': 11544, 'aufzaehlt': 11545, 'atlantik': 11546, 'grundstein': 11547, 'kriegsende': 11548, 'zugehoerigkeit': 11549, 'religionsgruppe': 11550, 'dlfmedien': 11551, 'kontrollierenden': 11552, 'preise': 11553, 'verleihen': 11554, 'sicherheitskraefte': 11555, 'heikohain': 11556, 'studio': 11557, 'zweieinhalb': 11558, 'pensionie': 11559, 'rolf': 11560, 'trauriges': 11561, 'verkleidete': 11562, 'agitatoren': 11563, 'schleusen': 11564, 'streitereien': 11565, 'groesstes': 11566, 'ereignis': 11567, 'epoche': 11568, 'gelang': 11569, 'fuenftel': 11570, 'bitterer': 11571, 'wohlhabende': 11572, 'klimaanlage': 11573, 'vielem': 11574, 'tageswetter': 11575, 'unbewiesene': 11576, 'klimamassnahmen': 11577, 'vorzustrecken': 11578, 'digitalisierung': 11579, 'hektischer': 11580, 'effizienter': 11581, 'personaleinsparender': 11582, 'unpersoenlicher': 11583, 'kontrollierbarer': 11584, 'auspressbare': 11585, 'datensaetze': 11586, 'prominenten': 11587, 'fernsehen': 11588, 'radikalisie': 11589, 'unweltministerin': 11590, 'befragt': 11591, 'hintergrundbilder': 11592, 'tagebaubagger': 11593, 'qualmende': 11594, 'schornsteine': 11595, 'kohnen': 11596, 'berufspolitik': 11597, 'plappe': 11598, '4jaehrige': 11599, 'stieftochter': 11600, 'mine': 11601, '6jaehriger': 11602, 'zuletzt': 11603, 'formt': 11604, 'sozialverhalten': 11605, 'geschlechter': 11606, 'steveweb777': 11607, 'georgesoros': 11608, 'global': 11609, 'values': 11610, 'gewachsener': 11611, 'gesellschaften': 11612, 'multikulti': 11613, 'kommunalpolitisch': 11614, 'grossstaedten': 11615, 'kriegsgeneration': 11616, 'erwachsenen': 11617, 'akkuraten': 11618, 'punktemodell': 11619, 'ausrechnen': 11620, 'verfolgter': 11621, 'nazigegner': 11622, 'naziwaehler': 11623, 'trage': 11624, 'neothemarius': 11625, 'raubte': 11626, 'omi': 11627, 'tiefen': 11628, 'katholischen': 11629, 'glaubens': 11630, 'schwiegersohn': 11631, 'bolivien': 11632, 'nichtjuedin': 11633, 'naziopfer': 11634, 'gelobten': 11635, 'konstrukten': 11636, 'un': 11637, 'herrscht': 11638, 'bezeichnung': 11639, 'gerichte': 11640, 'legislative': 11641, 'staatsve': 11642, 'raege': 11643, 'exekutiven': 11644, 'vereinba': 11645, 'andersdenkenden': 11646, 'oesterreicher': 11647, 'helfer': 11648, 'ersatzweise': 11649, 'fpoe': 11650, 'rechtsstaat': 11651, 'hecklers': 11652, 'koch': 11653, 'christi': 11654, 'himmelfah': 11655, 'vate': 11656, 'knoblochs': 11657, 'kz': 11658, 'umgebracht': 11659, 'kennengelernt': 11660, 'erschoepft': 11661, 'bombenkrieg': 11662, '47': 11663, 'verbat': 11664, 'hj': 11665, 'opferenkel': 11666, 'taeterenkel': 11667, 'enthusiastisch': 11668, 'filmbericht': 11669, 'senken': 11670, 'unbeantwo': 11671, 'goldfachkraefte': 11672, 'geniale': 11673, 'bewundernswe': 11674, 'herunte': 11675, 'ippen': 11676, 'moeglichen': 11677, 'zeichenumfang': 11678, 'ausschoepfe': 11679, 'gestrandete': 11680, 'kleinbuerger': 11681, 'kulturlosigkeit': 11682, 'zelebrie': 11683, 'opern': 11684, 'entlarvenden': 11685, 'irrglauben': 11686, 'chor': 11687, 'kostueme': 11688, 'regierungsphrasen': 11689, 'journalistische': 11690, 'zielgruppe': 11691, 'griffig': 11692, 'uebersetzen': 11693, 'grossmutter': 11694, 'grosselternteil': 11695, 'frechen': 11696, 'welterklaerer': 11697, 'niederen': 11698, 'wahrheiten': 11699, 'ueberspitzt': 11700, 'genderwahn': 11701, 'goethes': 11702, 'hauptwerk': 11703, 'geleit': 11704, 'anzutragen': 11705, 'margarete': 11706, 'divers': 11707, 'altmaennersprache': 11708, 'seltsame': 11709, 'dialektik': 11710, 'woran': 11711, 'journalistisch': 11712, 'sammlung': 11713, 'schriftlicher': 11714, 'absichtserklaerungen': 11715, 'ahnte': 11716, 'vermisste': 11717, 'historischer': 11718, 'ununterscheidbar': 11719, 'kollateralschaeden': 11720, 'angelockt': 11721, 'brutalos': 11722, 'unverzichtbar': 11723, 'linksgruen': 11724, 'bestrittenen': 11725, 'ethnisch': 11726, 'erkennbare': 11727, 'kulturnation': 11728, 'winterhysterie': 11729, 'urbanes': 11730, 'kleidungsphaenomen': 11731, 'laendlichen': 11732, 'kommend': 11733, 'staune': 11734, 'u50': 11735, 'panisch': 11736, 'aehnelt': 11737, 'fifa': 11738, 'anfuehrer': 11739, 'staatsoberhaeupter': 11740, 'hofieren': 11741, 'vielfach': 11742, 'versoffene': 11743, 'anve': 11744, 'raute': 11745, 'gemeinschaftsgeld': 11746, 'grosskotzig': 11747, 'krisen': 11748, 'konfliktpa': 11749, 'raglich': 11750, 'einigen': 11751, 'mitgliedsstaat': 11752, 'vernuenftigen': 11753, 'austrittsve': 11754, 'verhandlungscleverness': 11755, 'vorratizie': 11756, 'ragsentwurf': 11757, 'vorlegen': 11758, 'laege': 11759, 'moegliches': 11760, 'unfaehig': 11761, 'austrittschaos': 11762, 'handelsregelungen': 11763, 'wesentlichen': 11764, 'unveraende': 11765, 'blieben': 11766, 'bruesseler': 11767, 'somme': 11768, 'ags': 11769, 'stadtparks': 11770, 'rappelvoll': 11771, 'grossfamilien': 11772, 'winterwetter': 11773, 'spaziergaenger': 11774, 'verpackten': 11775, 'herrlichen': 11776, 'sonnenschein': 11777, '2603': 11778, 'wildbienen': 11779, 'feldhamster': 11780, 'deutschstaemmiger': 11781, 'krimigant': 11782, 'paesse': 11783, 'multiplizie': 11784, 'studienabbrecher': 11785, 'schwadronierende': 11786, 'lebenskuenstler': 11787, 'eiapparat': 11788, 'hochgezuechtete': 11789, 'politroboter': 11790, 'fuehrungsspitze': 11791, 'sozialwissenschaftlichen': 11792, 'asozial': 11793, 'normalmenschen': 11794, 'geregelten': 11795, 'privaten': 11796, 'beruflichen': 11797, 'lebensentwurf': 11798, 'laecherlicher': 11799, 'verdrehen': 11800, 'unterwande': 11801, 'aussenpolitische': 11802, 'schicksalskampf': 11803, 'staatsjournalisten': 11804, 'kriegszustand': 11805, 'steckbrief': 11806, 'enttarnt': 11807, 'spoettisch': 11808, 'weltuntergangspanik': 11809, 'aengstigen': 11810, 'kleingruppen': 11811, 'volksve': 11812, 'verwaltungssysteme': 11813, 'baendigen': 11814, 'synthetisch': 11815, 'designte': 11816, 'entstammen': 11817, 'bewaeh': 11818, 'buerokratien': 11819, 'verkoerpern': 11820, 'habitus': 11821, 'selbstbezeichnung': 11822, 'einamen': 11823, '80er': 11824, 'unterstuetzerszene': 11825, 'oekologie': 11826, 'verpackung': 11827, 'jahrzehntealte': 11828, 'blutige': 11829, 'waehrung': 11830, 'friedensprojekt': 11831, 'queeniepi': 11832, 'fingerabdruecke': 11833, 'marokkanischer': 11834, 'beliebter': 11835, 'landsleuten': 11836, 'ausweis': 11837, 'korrektur': 11838, 'nachnamens': 11839, 'nachbarstadt': 11840, 'scheinadresse': 11841, 'versinken': 11842, 'norwegen': 11843, 'german': 11844, 'critical': 11845, 'rechtspopulisten': 11846, 'annaehere': 11847, 'widerstandskaempfer': 11848, 'massensuggestion': 11849, 'hineingesteige': 11850, 'revanchieren': 11851, 'ueberzeugten': 11852, 'liberalitaet': 11853, 'verdiente': 11854, 'langfristig': 11855, 'drang': 11856, 'weltverbessernden': 11857, 'kollektivismus': 11858, 'spitzfindig': 11859, 'ausreisepflichtigen': 11860, 'einraeumt': 11861, 'bricht': 11862, 'auslaenderbonus': 11863, 'beider': 11864, 'rational': 11865, 'grundsatzfrage': 11866, 'herschiebt': 11867, 'bespricht': 11868, 'zollka': 11869, 'ell': 11870, 'echtzeit': 11871, 'zweifeln': 11872, 'alternativlosigkeit': 11873, 'mglw': 11874, 'versehentlich': 11875, 'straenge': 11876, 'ruebenhorst': 11877, 'cynisch': 11878, 'allerersten': 11879, 'absichtlich': 11880, 'platzie': 11881, 'tsinyschen': 11882, 'berechnung': 11883, 'leser': 11884, 'menschlicher': 11885, 'sympathischer': 11886, 'regierungskritische': 11887, 'ausschneiden': 11888, '0001f575': 11889, 'tweeten': 11890, 'sonnebrille': 11891, 'vorzeigedemokratie': 11892, 'versammlungsgesetzes': 11893, 'regelt': 11894, 'gleicha': 11895, 'kleidungsstuecke': 11896, 'nschn': 11897, 'berichte': 11898, 'mediatheken': 11899, 'bringe': 11900, 'iefen': 11901, 'anerzogene': 11902, 'wichtigsten': 11903, 'evp': 11904, 'prahlt': 11905, 'plastikverbot': 11906, 'verbote': 11907, 'lebensziel': 11908, 'trauriger': 11909, 'diskutanten': 11910, 'dozieren': 11911, 'basisdemokratische': 11912, 'entscheid': 11913, 'suchmaschine': 11914, 'eigenstaendiger': 11915, 'meinungsbildung': 11916, 'aufstacheln': 11917, 'subversive': 11918, 'manfredweber': 11919, 'juncker': 11920, 'mutiger': 11921, 'kandidie': 11922, 'kommissionspraesident': 11923, 'listenplatz': 11924, 'finanziell': 11925, 'abzusichern': 11926, 'doppelkandidatur': 11927, 'vergrault': 11928, 'verstaerkt': 11929, 'politikverdrossenheit': 11930, 'entwuerdigender': 11931, 'ahne': 11932, 'jubelnde': 11933, 'sozen': 11934, 'wahlpa': 11935, 'ys': 11936, 'umfragen': 11937, 'zweistellig': 11938, 'huepft': 11939, 'schuhsohle': 11940, 'markusblume': 11941, 'herstellung': 11942, 'verbrennungsmotoren': 11943, 'faktisch': 11944, 'abgasgrenzwe': 11945, 'schwerster': 11946, 'waehlerwechsel': 11947, 'trailer': 11948, 'durchsichtigen': 11949, 'einzutriggern': 11950, 'gleichbedeutend': 11951, 'mariae': 11952, '0001f955': 11953, 'offensiv': 11954, 'spielfeld': 11955, 'aussichtsreiche': 11956, 'schluesselpositionen': 11957, 'schwaecht': 11958, 'optionen': 11959, 'gegners': 11960, 'ungarische': 11961, 'nachbarin': 11962, 'heimatlichen': 11963, 'weihnachtsurlaub': 11964, 'unruhen': 11965, 'losbrechen': 11966, 'mahnte': 11967, 'traenenreichen': 11968, 'buerokrat': 11969, 'hochlohnland': 11970, 'maschinenbausektoren': 11971, 'oekospinner': 11972, 'zerschlagen': 11973, 'kaemen': 11974, 'anschl': 11975, 'revolte': 11976, 'motive': 11977, 'napoleon': 11978, 'unterschiedlich': 11979, 'russ': 11980, 'geeintes': 11981, 'westeuropa': 11982, 'expansiv': 11983, 'osteuropa': 11984, 'inkl': 11985, 'einverleiben': 11986, 'historisch': 11987, 'unfreiwillige': 11988, 'unionsgefueh': 11989, 'herauszuhalten': 11990, 'alx': 11991, 'unverschaemten': 11992, 'menschheitsgeschichte': 11993, 'entwe': 11994, 'sachlichen': 11995, 'rponline': 11996, 'dorf': 11997, 'verschwoerung': 11998, 'russe': 11999, '20jaehriges': 12000, 'milchgesicht': 12001, 'kinderzimmer': 12002, 'heraus': 12003, 'stupiden': 12004, 'ern': 12005, 'promi': 12006, 'geknackt': 12007, 'schuelerin': 12008, 'klasse': 12009, 'tuerkischstaemmige': 12010, 'grundschullehrerin': 12011, 'betreutes': 12012, 'innenpolitik': 12013, 'filmbildern': 12014, 'verzieht': 12015, 'moderatorin': 12016, 'sekundenlang': 12017, 'trotziges': 12018, 'angeekelt': 12019, 'anmoderie': 12020, 'videoaufnahmen': 12021, 'gegenstand': 12022, 'eingepruegelt': 12023, 'verfaelscht': 12024, 'stuendlich': 12025, 'radionachrichten': 12026, 'eingreifen': 12027, 'attacke': 12028, 'milvus84': 12029, 'mikrofon': 12030, 'metapher': 12031, 'unterschlagen': 12032, 'drumheadberlin': 12033, 'europawahl': 12034, 'lobbyist': 12035, 'mueder': 12036, 'peinlicher': 12037, 'loslassen': 12038, 'union': 12039, 'verfasser': 12040, 'anstossen': 12041, 'profi': 12042, 'dampfplauderer': 12043, 'normalbuerger': 12044, 'niederbruellen': 12045, 'aufzuschreiben': 12046, 'nackt': 12047, 'chats': 12048, 'langweiligen': 12049, 'privatleben': 12050, 'langweiliger': 12051, 'neuesten': 12052, 'verdruckster': 12053, 'weltverschwoerungsterminologie': 12054, 'server': 12055, 'bab': 12056, 'weinerlicher': 12057, 'waschlappen': 12058, 'entgleisungen': 12059, 'schalthebeln': 12060, 'irgendeiner': 12061, 'talkshow': 12062, 'kurzstatements': 12063, 'nutzer': 12064, 'mediums': 12065, 'versendet': 12066, 'verungluecktes': 12067, 'videostatement': 12068, 'irgendeine': 12069, 'hineinsprechen': 12070, 'zeitpunkt': 12071, 'hofft': 12072, 'schwachen': 12073, 'abgang': 12074, 'akute': 12075, 'personalnot': 12076, 'nachfolge': 12077, 'flann1000': 12078, 'niederlande': 12079, 'wegenetze': 12080, 'hochgefaehrlichen': 12081, 'aufgemalten': 12082, 'randstreifen': 12083, 'tatsaechliche': 12084, 'erlaubte': 12085, 'durchschnittsgeschwindigkeit': 12086, 'dreispurigen': 12087, 'stadtverwaltung': 12088, 'korrektheit': 12089, 'aufgepinselt': 12090, 'radler': 12091, 'zubringerstrassen': 12092, 'verkehrshindernis': 12093, 'geschwaenge': 12094, 'geschenke': 12095, 'dreikoenigstag': 12096, 'freiheitlichen': 12097, 'gefaengnisse': 12098, 'geheimdienstzentralen': 12099, 'stuermen': 12100, 'nester': 12101, 'manipulierenden': 12102, 'staatsfunks': 12103, 'megastoned1948': 12104, 'bloedsinnslied': 12105, 'groelte': 12106, 'vfb': 12107, 'leverkusen': 12108, 'f4': 12109, 'sblock': 12110, 'spielende': 12111, 'vergehen': 12112, 'elterngeneration': 12113, '70er': 12114, 'uralte': 12115, 'pruegelns': 12116, 'genannte': 12117, 'wilhelm': 12118, 'regierungssprecher': 12119, 'stoibers': 12120, 'pressesprecher': 12121, 'klebrige': 12122, 'maechtigen': 12123, 'zufall': 12124, 'meide': 12125, 'stadionbesuche': 12126, 'sfans': 12127, 'kinderliedaehnlichen': 12128, 'endlosgesang': 12129, 'baeumen': 12130, '70minuetigen': 12131, 'ununterbrochenen': 12132, 'dauerschleife': 12133, 'wiwo': 12134, 'geschoepfe': 12135, 'cptcoock': 12136, 'umweltschaedlich': 12137, 'morgendlich': 12138, 'emittie': 12139, 'biogas': 12140, 'weizen': 12141, 'photosynthese': 12142, 'entnommen': 12143, 'pflanze': 12144, 'gebunden': 12145, 'konzipie': 12146, 'exklusiv': 12147, 'kunden': 12148, 'designten': 12149, 'lifestyle': 12150, 'umweltschuetzer': 12151, 'waldschrat': 12152, 'verlacht': 12153, 'lukelametta': 12154, 'illusion': 12155, 'kontinent': 12156, 'heisser': 12157, 'wiegt': 12158, 'pkzaryte': 12159, 'arnek': 12160, 'verpixelt': 12161, 'interviewt': 12162, 'einzelgaenger': 12163, 'wichtigtuerei': 12164, 'bundesjustizministerin': 12165, 'mutmassungen': 12166, 'taeters': 12167, 'fairer': 12168, 'wettbewerb': 12169, 'pschnieder': 12170, 'kontodaten': 12171, 'steueroasen': 12172, 'panamapapers': 12173, 'umweltbundesamt': 12174, 'listet': 12175, 'bienenfleissiger': 12176, 'beflissenheit': 12177, 'bequem': 12178, 'belehrungstweets': 12179, 'typischen': 12180, 'impetus': 12181, 'oekomoralischen': 12182, 'gefasst': 12183, 'winterfrank35': 12184, 'schimpfenden': 12185, 'aendere': 12186, 'waehle': 12187, 'waechst': 12188, 'leitmedien': 12189, 'merkelrassismus': 12190, 'tobiashans': 12191, 'einwohner': 12192, 'doppelpass': 12193, 'raet': 12194, 'wuetende': 12195, 'armlaenge': 12196, 'russenhetze': 12197, 'abstuerzenden': 12198, 'paketdrohne': 12199, 'sibirischen': 12200, 'ulan': 12201, 'ude': 12202, 'gehaessig': 12203, 'russischen': 12204, 'bloedem': 12205, 'bandgelaechter': 12206, 'kriegsvorbereitung': 12207, 'nachbarvoelker': 12208, 'amokfah': 12209, 'sammelpunkt': 12210, 'sarahbosetti': 12211, 'fussballhooligans': 12212, 'treppe': 12213, 'freundlichen': 12214, 'zivilisatorischen': 12215, 'automobilzulieferindustrie': 12216, 'existenzangst': 12217, 'oekologischen': 12218, 'ankuendigen': 12219, 'arbeitsplatzes': 12220, '81jaehrigen': 12221, 'schimpft': 12222, 'ununterbrochen': 12223, 'rohrspatz': 12224, 'groessenwahnsinnige': 12225, 'welterklaerung': 12226, 'sinngemaess': 12227, 'mitdenken': 12228, 'seniorinnen': 12229, 'palme': 12230, 'wahnhaften': 12231, 'schicksalsfrage': 12232, 'kuendigt': 12233, 'traditionellen': 12234, 'technologien': 12235, 'aussichten': 12236, 'maschinenbauindustrien': 12237, 'grundlage': 12238, 'wohlstands': 12239, 'silvesterprogramm': 12240, 'sketche': 12241, 'jerry': 12242, 'lewis': 12243, 'imitie': 12244, 'tippen': 12245, 'schreibmaschine': 12246, 'krebs': 12247, 'carell': 12248, 'juhnke': 12249, 'telefonzelle': 12250, 'kellner': 12251, 'siezen': 12252, 'akuelle': 12253, 'kontrollen': 12254, 'absperrgitter': 12255, 'silvester': 12256, 'unattraktiv': 12257, 'ersparen': 12258, 'schlagzeilen': 12259, 'stehend': 12260, 'elf': 12261, 'pk': 12262, 'weltpresse': 12263, 'staendchen': 12264, 'constschreiber': 12265, 'klassischer': 12266, 'konflikt': 12267, 'eilungskampf': 12268, 'ressourcen': 12269, 'nasskalt': 12270, 'bruellen': 12271, 'heizungen': 12272, 'kater': 12273, 'decke': 12274, 'dampft': 12275, 'amuesieren': 12276, 'panikmedien': 12277, 'waermer': 12278, 'geographisches': 12279, 'gebiet': 12280, 'kulturellen': 12281, 'besonderheiten': 12282, 'unwichtig': 12283, 'staatsbildung': 12284, 'ausblenden': 12285, 'horrorfilm': 12286, 'netten': 12287, 'supe': 12288, 'yp': 12289, 'verstorbene': 12290, 'urploetzlich': 12291, 'funkeln': 12292, 'bruellt': 12293, 'psychos': 12294, 'sicherstellen': 12295, 'lebensgefahr': 12296, 'kirchensteuer': 12297, 'christ': 12298, 'parallelgesellschaft': 12299, 'verhinderung': 12300, 'rechtserlaubnis': 12301, 'koerperschaften': 12302, 'dienstherren': 12303, 'arbeitsrecht': 12304, 'pbahners': 12305, 'gleichgesinnte': 12306, 'let': 12307, 'dance': 12308, 'heide': 12309, 'simonis': 12310, 'gewoehne': 12311, 'kleinerbruder': 12312, 'jody29567782': 12313, '16jaehrige': 12314, 'nachbarstochter': 12315, 'einjaehrigen': 12316, 'praktikumsstelle': 12317, 'luthers': 12318, 'afpmayer': 12319, 'vollstreckt': 12320, 'verhaengten': 12321, 'todesstrafen': 12322, 'unverheiratete': 12323, 'schwangere': 12324, 'schlepperboot': 12325, 'mitreisenden': 12326, 'fundamentalistischen': 12327, 'maennlichen': 12328, 'mitfahrern': 12329, 'enthauptet': 12330, 'bord': 12331, 'germanyonmena': 12332, 'bethlehem': 12333, 'ideologisch': 12334, 'verkauftes': 12335, 'plastik': 12336, 'pazifik': 12337, 'sauberer': 12338, 'strohhalme': 12339, 'fuersorglichen': 12340, 'stiefvater': 12341, 'undankbar': 12342, 'verehren': 12343, 'anbeten': 12344, 'fleissige': 12345, 'zusammenhalten': 12346, 'frohe': 12347, 'linkespd': 12348, 'cocacomas': 12349, 'schwaechsten': 12350, 'selbstbeweihraeucherung': 12351, 'gutverdienenden': 12352, 'arbeitsmarkt': 12353, 'armutsmigranten': 12354, 'prekaere': 12355, 'wohnraum': 12356, 'ringen': 12357, 'suppe': 12358, 'kuchen': 12359, 'enthaupteten': 12360, 'louisa': 12361, 'feindin': 12362, 'moerders': 12363, 'eindringlicher': 12364, 'vulkanausbruechen': 12365, 'abs': 12366, 'vorgaenge': 12367, 'zeitgeschehens': 12368, 'fachleuten': 12369, 'escalation': 12370, 'anschliessen': 12371, 'hinde': 12372, 'verlangen': 12373, 'amerikanern': 12374, 'trumps': 12375, 'rueckzug': 12376, 'kashoggi': 12377, 'zerstueckelung': 12378, 'saudischen': 12379, 'verbuendeten': 12380, 'hocken': 12381, 'amerikanischer': 12382, 'schreckliche': 12383, 'syrische': 12384, 'kern': 12385, 'auskaempfen': 12386, 'bemerkt': 12387, 'filmberichte': 12388, 'bedrohlicher': 12389, 'synthesizermusik': 12390, 'relotius': 12391, 'plumper': 12392, 'luegerei': 12393, 'umfasst': 12394, 'psychologischen': 12395, 'manipulation': 12396, 'erfolgreicher': 12397, 'strukturwandel': 12398, 'dampfplaudernden': 12399, 'landsmannsbuddy': 12400, 'kompetenten': 12401, 'schaftsfachmann': 12402, 'beschlossene': 12403, 'abzug': 12404, 'folgerichtig': 12405, 'mitmacht': 12406, 'enthauptung': 12407, 'igungen': 12408, 'boesa': 12409, 'maler': 12410, 'kuendigte': 12411, 'langes': 12412, 'erstellung': 12413, 'machbarkeitsstudie': 12414, 'renovierungskonzepts': 12415, 'holte': 12416, 'wolfgangherle': 12417, 'derklunki': 12418, 'fossilien': 12419, 'energiequellen': 12420, 'verbrauchssteuern': 12421, 'subventionie': 12422, 'vivapapaya': 12423, 'halben': 12424, 'schwerelosigkeit': 12425, 'durchfueh': 12426, 'untersuchungen': 12427, 'besonderer': 12428, 'wichtigkeit': 12429, 'medienhype': 12430, 'eugegner55': 12431, 'talentie': 12432, 'ans': 12433, 'cern': 12434, 'fernsehgerechte': 12435, 'depressiv': 12436, 'platypus803': 12437, 'materialforschung': 12438, 'heutejornal': 12439, 'schwaermend': 12440, 'gersts': 12441, 'laeppisches': 12442, 'leuchtturmprojekte': 12443, 'nachrichtenwe': 12444, 'igt': 12445, 'falkrichter2': 12446, 'fcmmicha1': 12447, 'vielseitig': 12448, 'sah': 12449, 'flieger': 12450, 'hochkonzentrie': 12451, 'flog': 12452, 'ministerin': 12453, 'gelangweilt': 12454, 'leere': 12455, 'kennzeichnet': 12456, 'gespuelte': 12457, 'funktionaerskaste': 12458, 'industrieverbandes': 12459, 'frustrie': 12460, 'landesministerium': 12461, 'entourage': 12462, 'ministers': 12463, 'autohasser': 12464, 'rauter': 12465, 'beamter': 12466, 'lope': 12467, 'ingo': 12468, 'appelt': 12469, 'rausgegangen': 12470, 'staatsclown': 12471, 'zuschauern': 12472, 'hinterhergebruellt': 12473, 'hundekrawatte': 12474, 'besorgt': 12475, 'king': 12476, 'dream': 12477, 'gandhi': 12478, 'einstein': 12479, 'wuerfelt': 12480, 'gegenseitige': 12481, 'begriffe': 12482, 'abgewoehnen': 12483, 'vordringen': 12484, 'dreijaehrigen': 12485, 'migrationschaos': 12486, 'burghard': 12487, 'visier': 12488, 'politikers': 12489, 'achselzuckend': 12490, 'spdbpt18': 12491, 'eichel': 12492, 'muentefering': 12493, 'scharping': 12494, 'kaeme': 12495, 'macronhatmichangerufen': 12496, 'wahlprogramm': 12497, 'buergerschaftswahl': 12498, 'klares': 12499, 'beitritt': 12500, 'bremerhaven': 12501, 'niedersachsen': 12502, 'hb': 12503, 'diesjaehrige': 12504, 'auswirkung': 12505, 'femifaschistischen': 12506, 'ausschaut': 12507, 'gravierende': 12508, 'bankencrash': 12509, 'raeumt': 12510, 'wirkungsvolle': 12511, 'sanktion': 12512, 'sanktionierende': 12513, 'einflussbereich': 12514, 'befindlichen': 12515, 'vermoegen': 12516, 'einfrie': 12517, 'leiden': 12518, 'konkurrenz': 12519, 'blaeht': 12520, 'listen': 12521, 'aussichtsreichsten': 12522, 'plaetze': 12523, 'quotenweibchen': 12524, 'aufgefuellt': 12525, 'toller': 12526, '12jaehriges': 12527, '12jaehrigen': 12528, 'heiraten': 12529, '48jaehriger': 12530, '9jaehriges': 12531, 'schaendet': 12532, 'bestialisches': 12533, 'verwirrend': 12534, 'abzuziehen': 12535, 'hindukusch': 12536, 'bmvg': 12537, 'schaftssanktionen': 12538, 'klassenfeind': 12539, 'verhaengen': 12540, 'komma': 12541, 'klassenfeinds': 12542, 'phantomdiskussion': 12543, 'geeinigt': 12544, 'insel': 12545, 'mitspracherecht': 12546, '37': 12547, 'staatsbetrieben': 12548, 'durchschnittslohn': 12549, 'sozialistisches': 12550, 'erschaffen': 12551, 'igprodukte': 12552, 'mittagessen': 12553, 'schnitt': 12554, 'sparsam': 12555, 'psssst': 12556, 'dreikoepfige': 12557, 'verbrauchen': 12558, 'wollens': 12559, 'kochbuecher': 12560, 'anleitung': 12561, 'kostenguenstigen': 12562, 'ernaehrung': 12563, 'kocht': 12564, 'teuren': 12565, 'shnickschnack': 12566, 'grundsteuer': 12567, 'mieter': 12568, 'betriebskosten': 12569, 'mietwohnungen': 12570, 'teure': 12571, 'befindliche': 12572, 'verlaengerung': 12573, 'a100': 12574, 'richtiger': 12575, 'checker': 12576, 'corbyn': 12577, 'votum': 12578, 'labour': 12579, 'olewahr': 12580, 'wahlsystem': 12581, 'aufstellen': 12582, 'kinderehen': 12583, 'verharmlosender': 12584, 'verniedlicht': 12585, 'allzu': 12586, 'menschlich': 12587, 'nackte': 12588, 'radikalisieren': 12589, 'kontrastfarbe': 12590, 'systembedingtes': 12591, 'religioeser': 12592, 'vorstellbar': 12593, 'umerziehung': 12594, 'mohamedanern': 12595, 'grossflaechig': 12596, 'vorgeht': 12597, 'uiguren': 12598, 'kasachen': 12599, 'umerziehungslager': 12600, 'klimasystem': 12601, 'arktischen': 12602, 'stroemungssystem': 12603, 'polarwirbel': 12604, 'menschengemacht': 12605, 'urzeiten': 12606, 'zuschreiben': 12607, 'gemerkt': 12608, 'weigerung': 12609, 'annehmbaren': 12610, 'handelsve': 12611, 'schuldeingestaendnis': 12612, 'gegenrechtsde': 12613, 'deppensternchen': 12614, 'erkennungssymbol': 12615, 'aufrechterhalten': 12616, 'aufschwung': 12617, 'unternehme': 12618, 'zulaesst': 12619, 'systembedingten': 12620, 'zurast': 12621, 'gustloff': 12622, 'militaerisch': 12623, 'massenmord': 12624, 'craftergut': 12625, 'erneute': 12626, 'raeuberbande': 12627, 'ausgeraubt': 12628, 'erhebt': 12629, 'abseits': 12630, 'zugucken': 12631, 'eindeutiger': 12632, 'menschengemachte': 12633, 'klimaerwaermung': 12634, 'minneapolis': 12635, 'giftlampen': 12636, 'annahmestelle': 12637, 'sondermuell': 12638, 'premierministerin': 12639, 'ieften': 12640, 'bruesk': 12641, 'anschliessender': 12642, 'handelsvereinbarung': 12643, 'bs': 12644, 'soberano': 12645, 'wechselkurs': 12646, 'balast': 12647, 'passgenaue': 12648, 'abschliessen': 12649, 'kompromissen': 12650, 'rumaergern': 12651, 'guetliche': 12652, 'scheidung': 12653, 'blauaeugig': 12654, 'handelspa': 12655, 'nern': 12656, 'verhandelt': 12657, 'verhandelei': 12658, 'popo': 12659, 'efta': 12660, 'abzuschliessen': 12661, 'druecker': 12662, 'anzureisen': 12663, 'leif': 12664, 'holm': 12665, 'rettungsgesuelze': 12666, 'insolventen': 12667, 'peene': 12668, 'zivilem': 12669, 'schiffs': 12670, 'bootsbau': 12671, 'zuwendet': 12672, 'militaerischen': 12673, 'sinnvoll': 12674, 'verhandlungspa': 12675, 'annehmbares': 12676, 'aebrexit': 12677, 'derfreitag': 12678, 'verwunderung': 12679, 'verraeterpa': 12680, 'kanzler': 12681, 'umsetzen': 12682, 'krakeelen': 12683, 'grossbritannioen': 12684, 'koruppten': 12685, 'hoechste': 12686, 'grussaugust': 12687, 'aethiopien': 12688, 'ueberfluessige': 12689, 'vollziehen': 12690, 'verschiebung': 12691, 'geordneten': 12692, 'ungeordneter': 12693, 'geordnetes': 12694, 'drittes': 12695, 'achtes': 12696, 'volksabstimmung': 12697, 'mere': 12698, 'marktchancen': 12699, 'strategiewechsel': 12700, 'aldi': 12701, 'unuebersichtlichen': 12702, 'filialen': 12703, 'mentswandel': 12704, 'preiserhoehungen': 12705, 'anbieter': 12706, 'schnickschnack': 12707, 'fairen': 12708, 'preisen': 12709, 'anschliessende': 12710, 'stereotypischen': 12711, 'kolonialisierung': 12712, 'igst': 12713, 'bedenklich': 12714, 'kolonialismus': 12715, 'begruessst': 12716, 'buddhistische': 12717, 'theokratien': 12718, 'auffassung': 12719, 'teilnahme': 12720, 'koreakrieg': 12721, 'aggressors': 12722, 'kim': 12723, '1962': 12724, '1966': 12725, 'massenmorde': 12726, 'kulturrevolution': 12727, 'vietnam': 12728, 'gewaltregimes': 12729, 'dunkelsten': 12730, 'mittelalter': 12731, 'eaglepowder': 12732, 'halbtags': 12733, 'versiche': 12734, 'wtiefensee': 12735, 'horrorliste': 12736, 'steuersenkung': 12737, 'subventionen': 12738, 'ausgaben': 12739, 'anerkennen': 12740, 'bahrain': 12741, 'katar': 12742, 'libanon': 12743, 'algerien': 12744, 'kuwait': 12745, 'sudan': 12746, 'pakistan': 12747, 'brunei': 12748, 'bangladesch': 12749, 'vereinigte': 12750, 'horrogeschichten': 12751, 'relotiusmedien': 12752, 'zufolge': 12753, 'hungersnot': 12754, 'abschlachtung': 12755, 'europaeischer': 12756, 'linksgurken': 12757, 'kapitailistische': 12758, 'investitionen': 12759, 'industrieunternehmen': 12760, 'veralteten': 12761, 'trabant': 12762, 'rotchina': 12763, 'kratzt': 12764, 'linksextremistische': 12765, 'potentiell': 12766, 'tankstellennetz': 12767, 'mohamedanischen': 12768, 'invasion': 12769, 'abschlachten': 12770, 'andersherum': 12771, 'seinerseits': 12772, 'ringt': 12773, 'automatisch': 12774, 'handelsbeziehungen': 12775, 'zusammenbruch': 12776, 'sozialisismus': 12777, 'kollabie': 12778, 'diktaturen': 12779, 'ruin': 12780, 'antiamerikaner': 12781, 'poesem': 12782, 'abschuetteln': 12783, 'einsehen': 12784, 'systembedingt': 12785, 'verwandelt': 12786, 'imperium': 12787, 'vader': 12788, 'engel': 12789, 'verwechseln': 12790, 'hinzuschauen': 12791, 'spezifischen': 12792, 'auseinandergesetzt': 12793, 'wahlfarcen': 12794, 'verhungern': 12795, 'kredite': 12796, 'amerikanischen': 12797, 'emotionaler': 12798, 'antiamerikanismus': 12799, 'limitie': 12800, 'froenen': 12801, 'offene': 12802, 'kreditforderungen': 12803, 'ermessen': 12804, 'praesidentschafts': 12805, 'missachtet': 12806, 'entmachtet': 12807, 'bezog': 12808, 'teilnehmen': 12809, 'anulie': 12810, 'diesjaehrigen': 12811, 'oelfoerderung': 12812, 'verpfaendet': 12813, 'pleite': 12814, 'verschuldet': 12815, 'reminbi': 12816, 'konve': 12817, 'ierbare': 12818, 'entmachtung': 12819, 'protestie': 12820, 'lucasguttenberg': 12821, 'ansinnen': 12822, 'bearbeiten': 12823, 'gefuehle': 12824, 'kleinglaeubiger': 12825, 'widerlegt': 12826, 'erstarkt': 12827, 'polpot': 12828, 'neosozialismus': 12829, 'dergegenspieler': 12830, '40h': 12831, 'entlohnt': 12832, 'lohnzuwachs': 12833, 'lohnentwicklung': 12834, 'produktivitaetssteigerung': 12835, 'zurueckhaengt': 12836, 'machbar': 12837, 'stadtwerke': 12838, 'solingen': 12839, 'testen': 12840, 'oberleitungsbussen': 12841, 'zusaetzlicher': 12842, 'batterie': 12843, 'streckenabschnitte': 12844, 'oberleitung': 12845, 'oepnv': 12846, 'elektroantrieb': 12847, 'einzusetzen': 12848, 'oberleitungsbus': 12849, 'recihweite': 12850, '50km': 12851, 'voro': 12852, 'oberleitungen': 12853, 'anbinden': 12854, 'realexistierendersozialismus': 12855, '21jahrhunde': 12856, 'berndf10': 12857, 'neythomas': 12858, 'buvo': 12859, 'feminazis': 12860, 'unwesen': 12861, 'mitgliedern': 12862, 'antideutsch': 12863, 'oelpreis': 12864, 'barrel': 12865, '95': 12866, 'angestiegen': 12867, 'sechsfachen': 12868, 'einnahmen': 12869, 'rumasen': 12870, 'gigantischen': 12871, 'oeleinnahmen': 12872, 'citgo': 12873, 'korruption': 12874, 'ubootin': 12875, 'buchvorstellungs': 12876, 'promotion': 12877, 'idiotisch': 12878, 'eintreten': 12879, 'graben': 12880, 'ernaehrungsgrundlage': 12881, 'gefoerde': 12882, 'baeder': 12883, 'thueringer': 12884, 'privatisie': 12885, 'anstehenden': 12886, 'praesidentschaftswahl': 12887, 'unternehmer': 12888, 'lorenzo': 12889, 'alejandro': 12890, 'mendoza': 12891, 'gim': 12892, 'nez': 12893, 'korruptionssumpf': 12894, 'herauszufuehren': 12895, 'edirks2011': 12896, 'originalstatue': 12897, 'juengling': 12898, 'gefangenem': 12899, 'ziegt': 12900, 'nakten': 12901, 'stammt': 12902, 'iffland': 12903, 'nachahmung': 12904, 'zuechtig': 12905, 'verhuelltem': 12906, 'feminazistische': 12907, 'verlangt': 12908, 'luftreinhaltung': 12909, 'hauptverbrauchern': 12910, 'handelsschiffe': 12911, 'fabriken': 12912, 'enteignen': 12913, 'segeltexter': 12914, 'auswe': 12915, 'ungen': 12916, 'wissenschaftlichen': 12917, 'eisbohrungen': 12918, 'groenland': 12919, 'tausenden': 12920, 'geschwankt': 12921, 'menschengemachten': 12922, 'berechtigter': 12923, 'schadstoff': 12924, 'einzuordnen': 12925, 'schadstoffe': 12926, 'salzkristallen': 12927, 'reizklima': 12928, 'axe': 12929, 'missbrauchten': 12930, 'medienmaschine': 12931, 'angeworfen': 12932, 'gegenwae': 12933, 'sinnvolle': 12934, 'abermillionen': 12935, 'blicken': 12936, 'selbstkritisch': 12937, 'kontroverse': 12938, 'beschaedigtes': 12939, 'poeser': 12940, 'wacht': 12941, 'moerderideologie': 12942, 'asoziale': 12943, 'lobbytruppe': 12944, 'irrsinnigen': 12945, 'duempelst': 12946, 'befahren': 12947, 'vorbehalt': 12948, 'fahrzeug': 12949, 'eingetragene': 12950, 'geschwindgikeit': 12951, 'erwaegen': 12952, 'erlassen': 12953, 'cnn': 12954, 'sinnvollsten': 12955, 'beheizung': 12956, 'rotorblaetter': 12957, 'eisbildung': 12958, 'darstellt': 12959, 'windanlage': 12960, 'veraltete': 12961, 'gewissenlose': 12962, 'clique': 12963, 'erdenklichen': 12964, 'begehen': 12965, 'jubeln': 12966, 'erkenntnisse': 12967, 'glaubensthesen': 12968, 'einsturz': 12969, 'niederschlagung': 12970, 'koordinie': 12971, 'angriffs': 12972, 'berechtigt': 12973, 'verharmlosend': 12974, 'zugegeben': 12975, 'angestiegenen': 12976, 'wasse': 12977, 'emperaturen': 12978, 'anhand': 12979, 'computer': 12980, 'errechnet': 12981, 'beruht': 12982, 'ausgedachten': 12983, 'enteisungswagen': 12984, 'windraeder': 12985, 'meistens': 12986, 'pampa': 12987, 'weiten': 12988, 'anfliegen': 12989, 'begrenzt': 12990, 'enteisungsmittel': 12991, 'gruenkohl': 12992, 'schweinshaxen': 12993, 'enteisen': 12994, 'andreag799': 12995, 'iere': 12996, 'hiesse': 12997, 'elektrofahrzeuge': 12998, 'produzenten': 12999, 'entpuppt': 13000, 'phantomdebatte': 13001, 'treu': 13002, 'abloest': 13003, 'widerholt': 13004, 'staatsbesuch': 13005, 'produktion': 13006, 'ausmacht': 13007, 'unsinnigen': 13008, 'geisterdebatte': 13009, 'belege': 13010, 'rausgerotzt': 13011, 'naeherer': 13012, 'betrachtung': 13013, 'allesamt': 13014, 'zusammenfallen': 13015, 'unprofessionell': 13016, 'feinstaubs': 13017, 'megabatzen': 13018, '180': 13019, 'solche': 13020, 'vorgeschriebene': 13021, 'mindestgeschwindigkeit': 13022, 'kaysenius': 13023, 'fachkraeftemangel': 13024, 'senkt': 13025, 'ledigleich': 13026, 'verursacht': 13027, 'natuerliche': 13028, 'aufgewirbelter': 13029, 'salzkristalle': 13030, 'salzwasser': 13031, 'ostsee': 13032, 'schlag': 13033, 'agenten': 13034, 'eingeschleust': 13035, 'weggeputscht': 13036, 'geknebelt': 13037, 'lerneffekte': 13038, 'erbracht': 13039, 'frauentag': 13040, 'bikini': 13041, 'wahres': 13042, 'verderben': 13043, 'getrieben': 13044, 'anregung': 13045, 'stimmst': 13046, 'ueberein': 13047, 'keineswegs': 13048, 'zugrunde': 13049, 'hunge': 13050, 'aufrichtig': 13051, 'geschenken': 13052, 'reissen': 13053, 'perez': 13054, 'bloedsinnig': 13055, 'menschenverachtender': 13056, 'randomdudeger': 13057, 'iranischen': 13058, 'revolutionsgarden': 13059, 'moerderbande': 13060, 'wusstest': 13061, 'wolltest': 13062, 'laestern': 13063, 'weia': 13064, 'positionierung': 13065, 'sympathien': 13066, 'verspielen': 13067, 'tassen': 13068, 'verbrechers': 13069, 'geopolitischen': 13070, 'spin': 13071, 'einzulegen': 13072, 'rohstoffreichsten': 13073, 'ueberfaellt': 13074, 'zurueckgeschossen': 13075, 'ablaeufe': 13076, 'ueberwaeltigender': 13077, 'daraufhin': 13078, 'putzig': 13079, 'experiment': 13080, 'dolle': 13081, 'reichsten': 13082, 'abtreten': 13083, 'anzetteln': 13084, 'machtkampf': 13085, 'breiten': 13086, 'sozialdemokraten': 13087, 'gelungener': 13088, 'aachenerve': 13089, 'mitgezeichnet': 13090, 'stuetzen': 13091, 'regierungswechsel': 13092, 'wirrkoepfen': 13093, 'sozialistisch': 13094, 'putscht': 13095, 'anzettelt': 13096, 'wiederherstellung': 13097, 'abgeschlossen': 13098, 'natuerlichen': 13099, 'ablaufs': 13100, 'erheben': 13101, 'geknechteten': 13102, 'ochs': 13103, 'esel': 13104, 'interner': 13105, 'blanco70': 13106, 'embacubaaustria': 13107, 'putschregime': 13108, 'bekloppten': 13109, 'winden': 13110, 'oezlemademirel': 13111, 'durchkommen': 13112, 'ersetzt': 13113, 'absetzen': 13114, 'stange': 13115, 'tantiemen': 13116, 'lohndrueckerunternehmen': 13117, 'ueberbezahlt': 13118, 'amnestie': 13119, 'verkuenden': 13120, 'abgelaufen': 13121, 'ruinie': 13122, 'ausgepluende': 13123, 'verbrecherisches': 13124, 'stuerzt': 13125, 'ueberbezahlte': 13126, 'rueckzieher': 13127, 'fluchhafen': 13128, 'durchsta': 13129, 'eucopresident': 13130, 'eie': 13131, 'uebergangspraesidenten': 13132, 'exakter': 13133, 'parlamentspraesident': 13134, 'mehrheitsfuehrer': 13135, 'siegreichen': 13136, 'buendnisses': 13137, 'grotesk': 13138, 'ueberfaellig': 13139, 'praktoretiker': 13140, 'grundfalsch': 13141, 'diks': 13142, 'campbell': 13143, 'dup': 13144, 'bereitsschaft': 13145, 'ernsthafte': 13146, 'lektion': 13147, 'joesauerforreal': 13148, 'vollbeschaeftigung': 13149, 'immensen': 13150, 'nachholbedarf': 13151, 'lohnhoehe': 13152, 'dmark': 13153, 'aufwe': 13154, 'egmontegon': 13155, 'vmp2666': 13156, 'zwiebeifisch': 13157, 'ungedeckte': 13158, 'target2': 13159, 'salden': 13160, 'aufzuhaeufen': 13161, 'ausgeglichene': 13162, 'sterberate': 13163, 'merkwuerdige': 13164, 'gruppeneinteilung': 13165, 'serbien': 13166, 'top6': 13167, 'weltrangliste': 13168, 'dritt': 13169, 'klassigen': 13170, 'endgegen': 13171, 'grafspee8': 13172, 'profraika': 13173, 'dreckigen': 13174, 'ueberkommt': 13175, 'blanke': 13176, 'ungezuegelte': 13177, 'aud': 13178, 'unmenschlichen': 13179, 'gruenebundestag': 13180, 'geloest': 13181, 'dreister': 13182, 'unverfrorener': 13183, 'feuchte': 13184, 'aufrechte': 13185, 'kursie': 13186, 'taucht': 13187, 'potomaker': 13188, 'abgeklae': 13189, 'bekloppte': 13190, 'klaussen': 13191, 'unseligen': 13192, 'vogelschiss': 13193, 'iannis': 13194, 'joseph00361604': 13195, 'wg12307': 13196, 'sicherheitsverwahrung': 13197, 'weggesper': 13198, 'relativie': 13199, 'unzensurie': 13200, 'finanzieren': 13201, 'uspd': 13202, '1922': 13203, 'uim': 13204, 'staatenlos': 13205, 'fun': 13206, 'audiosuechtiger': 13207, 'dreckschwein': 13208, 'elkampfredo': 13209, 'djanplsrb': 13210, 'kuenstlich': 13211, 'geschriebenen': 13212, 'abgerechnet': 13213, 'jagen': 13214, 'herzlichstes': 13215, 'beileid': 13216, 'verrotten': 13217, 'herren': 13218, 'clan': 13219, 'abzuschiebenden': 13220, 'scheinasylanten': 13221, 'aucxh': 13222, 'ausgeaschlafen': 13223, 'ekelhaftes': 13224, 'luegenpack': 13225, 'diue': 13226, 'auszufuehren': 13227, 'prominente': 13228, 'kecks': 13229, 'verbuendete': 13230, 'hundehassern': 13231, 'anschaffen': 13232, '666': 13233, 'ekelerregend': 13234, 'subjekte': 13235, 'unaufhaltsam': 13236, 'reschtstaatlichen': 13237, 'einhalt': 13238, 'ditip': 13239, 'jogoebel': 13240, 'alk': 13241, 'bildungsfernen': 13242, 'linkspopulist': 13243, 'arrogannte': 13244, 'frechheit': 13245, 'filme': 13246, 'nazus': 13247, 'gesaber': 13248, 'ueberfluessigen': 13249, 'ueberbezahlten': 13250, 'staatskosten': 13251, 'exibitionistischen': 13252, 'profilneurose': 13253, 'arbeitengehen': 13254, 'deutschewelle': 13255, 'dw': 13256, 'turkce': 13257, 'gruesst': 13258, 'murmeltier': 13259, 'alexf50451971': 13260, 'verfassungsfeind': 13261, 'abonennten': 13262, 'linksextreme': 13263, 'globaldefence': 13264, 'untereinander': 13265, 'weile': 13266, 'bemerkenswe': 13267, 'heiko31086906': 13268, 'kotzt': 13269, 'schwimmunterricht': 13270, 'fabrik': 13271, 'schweinefleisch': 13272, 'verarbeitet': 13273, 'gottesdienst': 13274, 'geschichtsbuecher': 13275, 'enddecken': 13276, 'ruecktrittsforderungen': 13277, 'allerwe': 13278, 'esten': 13279, 'buergschaften': 13280, 'bahnhofsklatscher': 13281, 'durchgestochenen': 13282, 'betreffend': 13283, 'aufgeraeumt': 13284, 'googlede': 13285, 'haeme': 13286, 'beeintraechtigungen': 13287, 'deowerhess': 13288, 'franzneuman75': 13289, 'felimaus99': 13290, 'linksdrehender': 13291, 'verschwoerungstheoretiker': 13292, 'verbots': 13293, 'meinungsmanipulationsfetischisten': 13294, 'klopapier': 13295, 'zerreissen': 13296, 'geschweige': 13297, 'geschichtlich': 13298, 'nachgewiesene': 13299, 'theorien': 13300, 'akzeptieren': 13301, 'geleichen': 13302, 'blaupausen': 13303, 'dritten': 13304, 'resistent': 13305, 'linksdrehende': 13306, 'denkkonzept': 13307, 'ermuedend': 13308, 'naeckigen': 13309, 'realitaetsverweigerern': 13310, 'pferdebremsen': 13311, 'wehr': 13312, 'goebels': 13313, 'kommunist': 13314, 'spitzel': 13315, 'sozialistischhen': 13316, 'soldatenraete': 13317, 'lautsprecher': 13318, 'langstrumpf': 13319, 'zuzuordnen': 13320, 'spinnern': 13321, 'ueberlege': 13322, 'entschluss': 13323, 'geistiges': 13324, 'gleicht': 13325, 'eintagsfliege': 13326, 'unbestrittene': 13327, 'lieblingszeitung': 13328, 'einschlaegige': 13329, 'besitzbuerge': 13330, 'mussolinis': 13331, 'zugewandt': 13332, 'nationalistische': 13333, 'hinzugefuegt': 13334, 'nachher': 13335, 'aufgepasst': 13336, 'wuesstest': 13337, 'mittelmass': 13338, 'profilneurotiker': 13339, 'begrenzten': 13340, 'faehigkeiten': 13341, 'klee': 13342, 'lobt': 13343, 'gegenargumente': 13344, 'ewigen': 13345, 'gebruell': 13346, 'erwiedern': 13347, 'wiederlegen': 13348, 'linksfaschist': 13349, 'begabung': 13350, 'pansens': 13351, 'lernst': 13352, 'sebst': 13353, 'absoluter': 13354, 'realitaetsverweigerer': 13355, 'wehrhaften': 13356, 'verbotsfestischisten': 13357, 'wiederstanswillen': 13358, 'entwickle': 13359, 'extremisten': 13360, 'stempeln': 13361, 'machtergreifung': 13362, 'butter': 13363, 'einschuechtern': 13364, 'folterlagen': 13365, 'hafen': 13366, 'erpressern': 13367, 'schleppern': 13368, 'gelegt': 13369, 'seelenverkaeufer': 13370, 'versenkt': 13371, 'beugen': 13372, 'aufnimmt': 13373, 'finanziellen': 13374, 'fluechtlingslawine': 13375, 'ibikus31': 13376, 'handschi2': 13377, 'umsturz': 13378, 'bruesselkratie': 13379, 'muslimisches': 13380, 'arbeitstiere': 13381, 'einwendet': 13382, 'islamistischen': 13383, 'endziehen': 13384, 'mitnehemen': 13385, 'bach': 13386, 'unterwerfen': 13387, 'beschimpfen': 13388, 'absurden': 13389, 'kruden': 13390, 'ansagen': 13391, 'unmoeglich': 13392, 'veranstalten': 13393, 'geiste': 13394, 'boykottieren': 13395, 'hinnehmen': 13396, 'packen': 13397, 'schulden': 13398, 'besoffenen': 13399, 'drittklassigen': 13400, 'lineber98': 13401, 'proxnin': 13402, 'rasierwasser': 13403, 'symptomatik': 13404, 'danny23032000': 13405, 'bewaffnen': 13406, 'croqisunshine': 13407, 'gespalten': 13408, 'kommunistin': 13409, 'verraterin': 13410, 'michaelglaser0': 13411, 'kommandomensch': 13412, 'mbmnursingstaff': 13413, 'brigaden': 13414, 'menschenrechtler': 13415, 'schuldkomplex': 13416, 'abgrundtief': 13417, 'abzuschaffen': 13418, 'fischer': 13419, 'doktrin': 13420, 'verfassungsfeindlichen': 13421, 'provokativen': 13422, 'strauch': 13423, 'zufaellig': 13424, 'beschreiben': 13425, 'karawane': 13426, 'flohmarkt': 13427, 'yuma': 13428, 'lein': 13429, 'absurdesten': 13430, 'esoteriker': 13431, 'schwachmaten': 13432, 'claqueure': 13433, 'jurist': 13434, 'reihenweise': 13435, 'aufwand': 13436, 'derretzglaran': 13437, 'gewalttaeigen': 13438, 'schuechte': 13439, 'vorbereitet': 13440, 'sozialismaus': 13441, 'erdrutscha': 13442, 'goldfischlassa1': 13443, 'abgeschoben': 13444, 'signale': 13445, 'rumspricht': 13446, 'solida': 13447, 'amtsleiter': 13448, 'lpessen2017': 13449, 'meinungsterror': 13450, 'beeinflussen': 13451, 'trieft': 13452, 'gdphauptstadt': 13453, 'ferdi10709': 13454, 'gepampe': 13455, 'papenstiel': 13456, 'enpaessen': 13457, 'behandelt': 13458, 'arnd': 13459, 'diringer': 13460, 'stalkt': 13461, 'teweets': 13462, 'keinen': 13463, 'carismavan': 13464, '0911': 13465, 'robbie': 13466, 'zehntausen': 13467, 'schulschwaenzende': 13468, 'agen': 13469, 'umdeuten': 13470, 'brennstoffzelle': 13471, 'besteuern': 13472, 'quatscht': 13473, 'stigmatisierung': 13474, 'hohles': 13475, 'finanzielle': 13476, 'zuwendungen': 13477, 'rituell': 13478, 'beschnitten': 13479, 'ekelhafteste': 13480, 'doppelmoral': 13481, 'rituelle': 13482, 'tieres': 13483, 'einzelnen': 13484, 'vorzutragen': 13485, 'hauptstadt': 13486, 'hydraxxx2016': 13487, 'mariafu20903311': 13488, 'begegnet': 13489, 'gesichtern': 13490, 'dreckspolitikern': 13491, 'anlauf': 13492, 'einlauf': 13493, 'feinsten': 13494, 'gegendarstellung': 13495, 'bekenneder': 13496, 'zweitens': 13497, 'drittens': 13498, 'unangebraucht': 13499, 'provokant': 13500, 'futter': 13501, 'gegeangen': 13502, 'frechheiten': 13503, 'unverschaemtheiten': 13504, 'igno': 13505, 'igorpianist': 13506, 'entschuldigung': 13507, 'gesetzlicher': 13508, 'provokanten': 13509, 'katharsis939': 13510, 'angriffsflaeche': 13511, 'breitolatlivede': 13512, 'konsequenz': 13513, 'tichtig': 13514, 'nachtrag': 13515, 'haltungen': 13516, 'bedenlklich': 13517, 'terrororganisationen': 13518, 'marschieren': 13519, 'gebruellt': 13520, 'judenhass': 13521, 'auffordernde': 13522, 'leungnen': 13523, 'strafbares': 13524, 'antisemitisches': 13525, 'linksraus': 13526, 'gegengewalt': 13527, 'gegenstasi': 13528, 'keinkommunismus': 13529, 'fckddr': 13530, 'fckmauermoerder': 13531, 'rechtstaatlichen': 13532, 'medizin': 13533, 'pressekomferenzen': 13534, 'gerieten': 13535, 'farce': 13536, 'podium': 13537, 'sassen': 13538, 'angewiede': 13539, 'smoreland': 13540, 'begreift': 13541, 'wechseln': 13542, 'blablablub': 13543, 'climategate09': 13544, 'mtenne': 13545, 'haraldlaatsch': 13546, 'ronntex': 13547, 'linksextremismus': 13548, '0001f499': 13549, 'staende': 13550, 'selbstdarsteller': 13551, 'gebuehrend': 13552, 'wehret': 13553, 'anfaengen': 13554, 'familienurlaub': 13555, 'mitnehmen': 13556, 'abteil': 13557, 'demuetig': 13558, 'blaettchen': 13559, 'gegenantisemitismus': 13560, 'gegenheuchler': 13561, 'linksfaschistenraus': 13562, 'gegenausgrenzung': 13563, 'gegenhass': 13564, 'scheuers': 13565, 'stuhl': 13566, 'deut': 13567, 'bosse': 13568, 'pruefberichtes': 13569, 'geheimnisverrat': 13570, 'staatgefaehrdende': 13571, 'berichtes': 13572, 'staatsgefaehrdende': 13573, 'unbekannt': 13574, 'erstatten': 13575, 'bvs': 13576, 'eingestufte': 13577, 'schafspelz': 13578, 'demyboyka': 13579, 'nachvolluziehen': 13580, '02mo2': 13581, 'gesinnungsgenossen': 13582, 'diheler': 13583, 'geschaeften': 13584, 'zeitarbeiter': 13585, 'umsaetze': 13586, 'einkaufsmoeglichkeiten': 13587, 'kamers': 13588, 'blaetter': 13589, 'schildchen': 13590, 'grotenschlecht': 13591, 'wahlkampfhilfe': 13592, 'mariomayl': 13593, 'verbessern': 13594, 'wordpressdotcom': 13595, 'italien': 13596, 'kauder': 13597, 'abservie': 13598, 'betaetigungsfeld': 13599, 'autorisie': 13600, 'hasser': 13601, 'populistischer': 13602, 'angehoe': 13603, 'anzutun': 13604, 'shiwa': 13605, 'waltraud': 13606, 'dreckssender': 13607, 'strippen': 13608, 'boykottiere': 13609, 'probordernation': 13610, 'hattet': 13611, 'versemmelt': 13612, '67': 13613, 'schweinereien': 13614, 'steigbuegelhalter': 13615, 'warnen': 13616, 'drohen': 13617, 'plenum': 13618, 'abgrenzung': 13619, 'verfassungsfeinden': 13620, 'demokratiefeinden': 13621, 'umstuerzlern': 13622, 'sinngem': 13623, 'aussagte': 13624, 'juedin': 13625, 'roem': 13626, 'steuerzahlers': 13627, 'dienst': 13628, 'gehetzt': 13629, 'intolerante': 13630, 'fckhetze': 13631, 'fckgruene': 13632, 'hetzerraus': 13633, 'kommunistenraus': 13634, 'gruenelandtagby': 13635, 'antun': 13636, 'lebenslauf': 13637, 'verheiratet': 13638, 'wohltaten': 13639, 'huendische': 13640, 'feministinnen': 13641, 'gleichbehandlung': 13642, 'anweisen': 13643, 'drecksarbeiten': 13644, 'begeiste': 13645, 'anzuweisen': 13646, 'muellfrau': 13647, 'hof': 13648, 'parks': 13649, 'hilfsarbeiten': 13650, 'igmetall': 13651, 'eikehallitzky': 13652, 'buechler': 13653, 'evalettenbauer': 13654, 'gehring': 13655, 'anhang': 13656, 'antidemokratisch': 13657, 'hater': 13658, 'rechtskonservativen': 13659, 'heimatliebenden': 13660, 'erwehren': 13661, 'unnuetzen': 13662, 'buechlein': 13663, 'promoten': 13664, 'firma': 13665, 'ceo': 13666, 'berater': 13667, 'jetten': 13668, 'durchatmen': 13669, 'dieselkarossen': 13670, 'offizialdelikt': 13671, 'staatanwaltschaft': 13672, 'umbedingt': 13673, 'reschtstaatlichem': 13674, 'amts': 13675, 'officio': 13676, '152': 13677, '163': 13678, 'stpo': 13679, 'strafwuerdigen': 13680, 'sachverhaltes': 13681, 'offizialdelikte': 13682, 'offizialprinzip': 13683, 'prozessmaxime': 13684, 'strafverfahren': 13685, 'unterliegen': 13686, 'antragsdelikten': 13687, 'antragsberechtigt': 13688, 'derjenige': 13689, 'geschaedigter': 13690, 'hervorgeht': 13691, 'frist': 13692, 'antragstellung': 13693, 'gesetzlich': 13694, '77e': 13695, 'strafgesetzbuches': 13696, '158': 13697, 'veranke': 13698, 'firefly249942': 13699, 'gebeugt': 13700, 'hxjulia': 13701, 'injafd': 13702, 'meeenschengemachter': 13703, 'regenmann': 13704, 'till': 13705, 'consuelaputze': 13706, 'spotty72': 13707, 'lahgaza1': 13708, 'gewaltsame': 13709, 'exzesse': 13710, 'wooow': 13711, 'naziueberwachungsfaschistenscheisse': 13712, 'schizo': 13713, 'triggern': 13714, 'virgen48': 13715, 'langguthalex': 13716, '69': 13717, 'guru': 13718, 'medikamentoes': 13719, 'einstelln': 13720, 'wirste': 13721, 'getrigge': 13722, 'niedlich': 13723, 'noafd87prozent': 13724, 'trigge': 13725, 'ergenju': 13726, 'straehnen': 13727, 'veranda': 13728, 'schreibste': 13729, 'krueger': 13730, 'kud': 13731, 'klimaglaeubiger': 13732, 'quasseltier': 13733, 'meddlboy': 13734, 'vorlesungen': 13735, 'knutsch': 13736, 'ladymcmuffin': 13737, 'schreibn': 13738, 'markbrandis1968': 13739, 'vonerlenbach': 13740, 'schattn': 13741, 'schwachkoepfin': 13742, 'sinnbefreiter': 13743, 'gutmensch': 13744, 'weltbekannt': 13745, 'faschistoide': 13746, 'gutschreiben': 13747, 'herrlicher': 13748, 'dummschwatzfaschist': 13749, 'haendchen': 13750, 'nazifresse': 13751, 'besserer': 13752, 'spuer': 13753, 'eales': 13754, 'versteck': 13755, 'schwaetzer': 13756, 'mpetuhoff': 13757, 'schein': 13758, 'humanen': 13759, 'jankosamm': 13760, 'weggecrackt': 13761, 'versprochen': 13762, 'diese': 13763, 'rumspuken': 13764, 'mehren': 13765, 'meinungsmache': 13766, 'tiefsten': 13767, 'bayernrocker': 13768, 'bwler': 13769, 'schneef': 13770, 'loeckchen': 13771, 'biddetanke': 13772, 'thremeine': 13773, 'ueberlebt': 13774, 'gawrilaghul': 13775, 'lebenswichtig': 13776, 'wasserversorgung': 13777, 'riesen': 13778, 'schritte': 13779, 'machte': 13780, 'munkelt': 13781, 'ausgenommen': 13782, 'wegschauen': 13783, 'rosalescaroline': 13784, 'lejeune': 13785, 'klappse': 13786, 'kuh': 13787, 'jeremiah': 13788, 'messias': 13789, 'loesungsansatz': 13790, 'schikanen': 13791, 'nichtmediale': 13792, 'betreffen': 13793, 'laufbahnen': 13794, 'veraendern': 13795, 'beeinflusst': 13796, 'keult': 13797, 'frenseh': 13798, 'trol': 13799, 'mmenschen': 13800, 'seelenloser': 13801, 'geistiger': 13802, 'krueppel': 13803, 'unwuerdiger': 13804, 'jawohl': 13805, 'obersturmbannfuehrer': 13806, 'oehmm': 13807, 'weisses': 13808, 'huckfeldtoliver': 13809, 'kaltnase': 13810, 'koksen': 13811, 'klappts': 13812, 'gefreut': 13813, 'stimmts': 13814, 'lump': 13815, 'erzhngswndrlnd': 13816, 'bildungsklick': 13817, 'hibtag': 13818, 'katjasuding': 13819, 'cad59': 13820, 'nicolabeerfdp': 13821, 'waus': 13822, 'empfindlich': 13823, 'suchste': 13824, 'ruhige': 13825, 'zelle': 13826, 'endspannst': 13827, 'blumen': 13828, 'rosen': 13829, 'blumnstattflaschn': 13830, 'bemvamlebac': 13831, 'punishedzionist': 13832, 'geier': 13833, 'melan': 13834, 'kaidiekmann': 13835, 'jessenphil': 13836, 'norabeckershaus': 13837, 'axeltelzerow': 13838, 'jenifergirke': 13839, 'fraaanie': 13840, 'kalifat': 13841, 'aufgeteilt': 13842, 'projizieren': 13843, 'gesteige': 13844, 'unheilbar': 13845, 'falconsmember': 13846, 'taraxata1': 13847, 'rrrrechts': 13848, 'kanns': 13849, 'glewamm': 13850, 'frazionetoskana': 13851, 'wuerdet': 13852, 'karambadiaby': 13853, 'scaramouche1989': 13854, 'untoten': 13855, 'violingi': 13856, 'patriotgames123': 13857, 'kapitalistenschmutz': 13858, 'ep21': 13859, 'insceleris': 13860, 'lumpigsterlump': 13861, 'gewichtigen': 13862, 'randnischen': 13863, 'erzaehl': 13864, 'trollst': 13865, 'medtech': 13866, 'klimke': 13867, 'nuss': 13868, 'thebacktab': 13869, 'zeugenaussage': 13870, 'spar': 13871, 'kanthoelzer': 13872, 'vorzeigefaschist': 13873, 'nazihorden': 13874, 'ueberrannt': 13875, 'trittin': 13876, 'brodnig': 13877, 'hnsgr': 13878, 'orpiieus': 13879, 'freust': 13880, 'gutheisst': 13881, 'selbsthass': 13882, 'demokratiefeind': 13883, 'polsprung': 13884, 'verursachten': 13885, 'gottchen': 13886, 'kennste': 13887, 'kein': 13888, 'alkohol': 13889, 'sinnfreie': 13890, 'deutschfeindliche': 13891, 'zaehne': 13892, 'knutschi': 13893, 'sahinb123': 13894, 'naaaazis': 13895, 'eidigungsfaehigkeit': 13896, 'entzogen': 13897, 'bereitet': 13898, 'besserdasist': 13899, 'bezahlter': 13900, 'hochmut': 13901, 'punchracism': 13902, 'marcboe': 13903, 'frauenkleidern': 13904, 'sexobjekte': 13905, 'radioberlin': 13906, '88': 13907, 'linkenazisraus': 13908, 'philippkoester': 13909, 'klaer': 13910, 'hofnarr': 13911, 'digitalfarmer3': 13912, 'quadrateule': 13913, 'flach': 13914, 'einzeller': 13915, 'schellno': 13916, 'zwergnase': 13917, 'gj': 13918, 'gegenrede': 13919, 'linksjugend': 13920, 'lusttropfen': 13921, 'ueberalltv': 13922, 'huebscher': 13923, 'herbeifantasieren': 13924, 'erzaehler': 13925, 'verband': 13926, 'onestepbayond': 13927, 'nohatespeechde': 13928, 'f95': 13929, 'fritzde': 13930, 'dgbjugend': 13931, 'regierungbw': 13932, 'grenzenlos': 13933, 'prinzipien': 13934, 'abgewi': 13935, 'schaftet': 13936, 'wahrsten': 13937, 'geldhuren': 13938, 'schulhof': 13939, 'beschreibe': 13940, 'unfreien': 13941, 'hugh': 13942, 'hormonelles': 13943, 'eierstoecke': 13944, 'abklemmen': 13945, 'ruempfen': 13946, 'hittler': 13947, 'entnazifizieren': 13948, 'keivaneenpapa': 13949, 'teilt': 13950, 'implizie': 13951, 'reichskrueppelflagge': 13952, 'staatnverbundsdingens': 13953, 'eidigung': 13954, 'staetigen': 13955, 'zerfall': 13956, 'luegengebaeudes': 13957, 'neurologisches': 13958, 'verfallen': 13959, 'fakenewsmonopol': 13960, 'm4yl0n': 13961, 'gamefreake89': 13962, 'karlengels9': 13963, 'keiner': 13964, 'henriettereker': 13965, 'ddbnews': 13966, 'vv': 13967, 'denkenden': 13968, 'fasst': 13969, 'bodoramelow': 13970, 'ferdinandscholz': 13971, 'endern': 13972, 'amadeuantonio': 13973, 'renatebiller': 13974, 'nazimethoden': 13975, 'victoria': 13976, 'gabrishhka': 13977, 'alpen': 13978, 'oo': 13979, 'obersturmband': 13980, 'verhaltensweisen': 13981, 'behalte': 13982, 'geschmueckten': 13983, 'unsaeglicher': 13984, 'propagie': 13985, 'windeln': 13986, 'mille': 13987, 'jue': 13988, 'bento': 13989, 'verabschiede': 13990, 'kampflos': 13991, 'genderverwir': 13992, 'huepfedings': 13993, 'bestaetigende': 13994, 'kraulkraul': 13995, 'schaetzchen': 13996, 'hamma': 13997, 'warscheinlich': 13998, 'schreibenwiegehoe': 13999, 'schnellstmoeglich': 14000, 'mpoessel': 14001, 'townspandau': 14002, 'nennst': 14003, 'simple': 14004, 'schmaehtaktik': 14005, 'rassistisch': 14006, 'selbstverliebte': 14007, 'endzeit': 14008, 'salonbolschewik': 14009, 'kultureller': 14010, 'vorspielen': 14011, 'grundwe': 14012, 'sjws': 14013, 'poc': 14014, 'uh': 14015, 'feste': 14016, 'daemonisieren': 14017, 'schrittlich': 14018, 'gestapo': 14019, 'bissl': 14020, 'ryhminsimon': 14021, 'freeride233': 14022, 'preistaube': 14023, 'galactica2019': 14024, 'wuestenprophet': 14025, 'musicalia88': 14026, 'enna': 14027, 'needreve': 14028, 'verschwulten': 14029, 'zeitschlaufe': 14030, 'meinestimmede': 14031, 'hattermir': 14032, 't4mike': 14033, 'r05515451': 14034, 'blosse': 14035, 'frauenfeindliche': 14036, 'gruetzi': 14037, 'chrysis391': 14038, 'findest': 14039, 'durchmultikultisie': 14040, 'umsetzung': 14041, 'geisteskranke': 14042, 'ueberblicken': 14043, 'montagen2002': 14044, 'kontrollierbar': 14045, 'hoher': 14046, 'sympathie': 14047, 'truppe': 14048, 'haeltst': 14049, 'entschluesseln': 14050, 'acdc': 14051, 'platten': 14052, 'rueckwae': 14053, 'trampelt': 14054, 'denunzieren': 14055, 'schluesse': 14056, 'vermeidest': 14057, 'verblendung': 14058, 'spiegeln': 14059, 'sosse': 14060, 'rumnuckelst': 14061, 'verunglimpfen': 14062, 'goebbelz': 14063, 'moechtest': 14064, 'eig': 14065, 'vereinigen': 14066, 'muselmanischen': 14067, 'merkts': 14068, 'morbidisten': 14069, 'betroffene': 14070, 'naehere': 14071, 'ausfuehrungen': 14072, 'totenschein': 14073, 'maedchenchoeren': 14074, 'spaerlicher': 14075, 'anzutreffen': 14076, 'beginnst': 14077, 'morbide': 14078, 'keinhelfer': 14079, 'inklusion': 14080, 'chanukka': 14081, 'ottowelz': 14082, 'smandel': 14083, 'panemetc62': 14084, 'choisy65730826': 14085, 'juedischeonline': 14086, 'schimmer': 14087, 'ssler': 14088, 'nazinazinazi': 14089, 'labbi10': 14090, 'gregorgrz': 14091, 'rahaase': 14092, 'mobbe': 14093, 'damitdasklaas': 14094, 'officiallyjoko': 14095, 'lobotomit': 14096, 'seelenloses': 14097, 'affenkind': 14098, 'frauzora': 14099, 'bheinzlmaier': 14100, 'toni': 14101, 'rambold': 14102, 'brunzpichler': 14103, 'echsenschwanz': 14104, 'zombii': 14105, 'defense': 14106, 'hohlraumsausen': 14107, 'annettecreft': 14108, 'grass': 14109, 'anbauen': 14110, 'ahh': 14111, 'dankebitte': 14112, 'neeein': 14113, '4445': 14114, 'entfolgen': 14115, 'affenstaat': 14116, 'maennerwelt': 14117, 'armseelig': 14118, 'mequoh': 14119, 'ueberzahl': 14120, 'leiderleider': 14121, 'andern': 14122, 'maehh': 14123, 'auslegung': 14124, 'haemme': 14125, 'koepfe': 14126, 'unterdruecken': 14127, 'patrickgensing': 14128, 'faktenverdreher': 14129, 'schleuderste': 14130, 'berufenen': 14131, 'auswerfung': 14132, 'faktenfinder': 14133, 'nachlaessig': 14134, 'facker': 14135, 'vorgenommen': 14136, 'stiehl': 14137, 'trollen': 14138, 'aepfel': 14139, 'messermann': 14140, 'roma': 14141, 'kulturkreis': 14142, 'haeh': 14143, 'suse1603': 14144, 'huebsche': 14145, 'baut': 14146, 'sozialisisches': 14147, 'ekelhaftigkeit': 14148, 'feindbildes': 14149, 'roffen': 14150, 'hgw': 14151, 'ottoberger6': 14152, 'nikawrd': 14153, 'reinemachfrau': 14154, 'axelpatriot': 14155, 'rausrutscht': 14156, 'narzistische': 14157, 'supi': 14158, 'tolleranzschwellen': 14159, 'ramadan': 14160, 'zippelklatscher': 14161, 'schreienden': 14162, 'gottfuehrer': 14163, 'legitimie': 14164, 'kinderliebhaber': 14165, 'ramadant': 14166, 'schwestern': 14167, 'morkramer': 14168, 'rudel': 14169, 'drphiloponus': 14170, 'neos': 14171, 'volkspa': 14172, 'sebastiankurz': 14173, 'lobotimit': 14174, 'nachuntersuchung': 14175, 'mjsa1980': 14176, 'promille': 14177, 'rausrechnen': 14178, 'probagandajochen': 14179, 'mysterium': 14180, 'arbeitslos': 14181, 'neuwahlen': 14182, 'schlaukoepfe': 14183, 'rotzt': 14184, 'solang': 14185, 'niederschreibe': 14186, 'ists': 14187, 'hts': 14188, '1312': 14189, 'gelaber': 14190, 'griff': 14191, 'gorgorott1': 14192, 'stfemini': 14193, 'schakschuka': 14194, 'gefruehstueckt': 14195, 'konstant': 14196, 'antids': 14197, 'mcdrivenina': 14198, 'wohnzimmer': 14199, 'eingerahmtes': 14200, 'erwaehnten': 14201, 'lebensschuetzern': 14202, 'waers': 14203, 'spruechebuch': 14204, 'abgeschrieben': 14205, 'kinderfotos': 14206, 'emls': 14207, 'adoptivkindern': 14208, 'wichtigster': 14209, 'geklappt': 14210, 'antifascistfox': 14211, 'furry': 14212, 'schreibender': 14213, 'schmutzvilles': 14214, 'regenbogenbaesse': 14215, 'geballe': 14216, 'anzueignen': 14217, 'tomson1611': 14218, 'prollzecke': 14219, 'materialistgrl': 14220, 'arnoxcao': 14221, 'euros': 14222, '1972': 14223, 'aelteste': 14224, 'sebstverwaltete': 14225, 'jugendzentrum': 14226, 'berlins': 14227, 'yuppiedreck': 14228, 'jugendkultur': 14229, 'leidet': 14230, 'oberwallstr': 14231, 'rent': 14232, 'coworkingspaces': 14233, 'geschmissen': 14234, 'potse': 14235, 'schoeneberg': 14236, 'memepotential': 14237, 'gelbwestenrevolution': 14238, 'jw': 14239, 'ehrenlos': 14240, 'julezietta': 14241, '420rheisterkamp': 14242, 'hmu': 14243, 'goennt': 14244, 'stabile': 14245, 'texten': 14246, 'dus': 14247, 'competitive': 14248, 'wichtigeres': 14249, 'kathamarinaa': 14250, 'ultimate': 14251, 'bros': 14252, 'gezockt': 14253, 'gamerbubble': 14254, 'paue': 14255, 'weet': 14256, 'wundervoll': 14257, 'crxxkedminds': 14258, 'passe': 14259, 'brudi': 14260, 'ifikat': 14261, 'entstehen': 14262, 'fuszpiis': 14263, 'anderem': 14264, 'besagte': 14265, 'gentrifizie': 14266, 'freiraeume': 14267, 'einkaufszentren': 14268, 'eigentumswohnungen': 14269, 'beschissener': 14270, 'druko': 14271, 'gag': 14272, 'durstabteilung': 14273, 'konstikov': 14274, 'allem': 14275, 'subkukturellen': 14276, 'einkaufszentrum': 14277, 'hotels': 14278, 'feenwald': 14279, 'zielen': 14280, 'weste': 14281, 'bevors': 14282, 'seitenwechsel': 14283, 'rechtsantideutsche': 14284, 'scheise': 14285, 'memegruenden': 14286, 'edger': 14287, 'edgebreak': 14288, 'shamen': 14289, 'konsum': 14290, 'nope': 14291, 'straight': 14292, 'edge': 14293, 'kneipenjenki': 14294, 'unterschiedliche': 14295, 'trinkst': 14296, 'durchschnittliche': 14297, 'siffschaftsottos': 14298, 'gamern': 14299, 'nunmal': 14300, 'scheisze': 14301, 'energieverschwendung': 14302, 'idole': 14303, 'betrachtet': 14304, 'favst': 14305, 'aktueller': 14306, 'grind': 14307, 'abgewandelte': 14308, 'electropunk': 14309, 'lyrics': 14310, 'pahantasieland': 14311, 'flagge': 14312, 'emoji': 14313, '0001f1f8': 14314, 'eingeben': 14315, 'unfair': 14316, 'zocken': 14317, 'alkoholkonsum': 14318, 'staubsauger': 14319, 'pin': 14320, 'reingeruesselt': 14321, 'verpetz': 14322, 'regulaer': 14323, 'verbunden': 14324, 'upsi': 14325, '187': 14326, 'kraut': 14327, 'ueberglorifizierung': 14328, 'orangenschalentweet': 14329, 'franzhuber': 14330, 'witziger': 14331, 'vulgaerbahamit': 14332, 'oida': 14333, 'allegegenalle': 14334, 'ehrenmann': 14335, 'retweets': 14336, 'bestaerken': 14337, 'finds': 14338, 'witzigste': 14339, 'tr4sh': 14340, 'coutur3': 14341, 'kriterium': 14342, 'aubergine': 14343, 'heulaccount': 14344, 'krokodil': 14345, 'pffff': 14346, 'stick': 14347, 'poken': 14348, 'rauskam': 14349, 'ichs': 14350, 'tatto': 14351, 'weils': 14352, 'annehmen': 14353, 'wolkendark': 14354, 'arschloechern': 14355, 'outcall': 14356, '0001f495': 14357, 'widerlichen': 14358, 'anzuschauen': 14359, 'buttons': 14360, 'drueckt': 14361, 'interagie': 14362, 'widerliche': 14363, 'hundesohn': 14364, 'klemmen': 14365, 'gamerhass': 14366, 'ironischer': 14367, 'nurzumballernda': 14368, 'laster': 14369, 'suizidai': 14370, 'beduerfnis': 14371, 'kackt': 14372, 'schnaps': 14373, 'trinkt': 14374, 'praeferenzen': 14375, 'stelln': 14376, 'ironiebasis': 14377, 'interpretation': 14378, 'schusswaffen': 14379, 'wuerd': 14380, 'loesungsansaetze': 14381, 'derkieinebauer': 14382, 'goethe': 14383, 'praktisch': 14384, 'toedlich': 14385, 'francois': 14386, 'rankommen': 14387, 'humorvoll': 14388, 'bedrohung': 14389, 'penetrativen': 14390, 'oralen': 14391, 'reservie': 14392, 'hetzjagd': 14393, 'mitkriegen': 14394, 'freesubi': 14395, 'sputnikschlaeft': 14396, 'andis': 14397, 'pathie': 14398, 'unangenehmerweise': 14399, 'davidstern': 14400, 'scouts': 14401, 'pulli': 14402, 'roter': 14403, 'hellbraune': 14404, 'vollba': 14405, 'beanie': 14406, '2150': 14407, 'peep': 14408, 'sprachnachrichten': 14409, 'getippt': 14410, 'verschwand': 14411, 'zuegig': 14412, '1909': 14413, 'jacke': 14414, 'jeans': 14415, 'filmt': 14416, 'zoomt': 14417, 'grumpyvkitten': 14418, 'nervig': 14419, 'aufgegeben': 14420, 'survived': 14421, 'pepp': 14422, '2k18': 14423, 'tattoowieren': 14424, 'fus': 14425, 'liquid': 14426, 'ecstasy': 14427, 'mikeyyy328': 14428, 'judenwiderstand': 14429, 'ozweego': 14430, 'gepoebelt': 14431, 'beidem': 14432, 'fliegendehummer': 14433, 'air': 14434, 'geschmacklose': 14435, 'normies': 14436, 'blink': 14437, '182': 14438, 'small': 14439, 'things': 14440, 'durchpeppten': 14441, 'radikalisier': 14442, 'baller': 14443, 'israelfahne': 14444, 'giorap90': 14445, 'brokeaberaggro': 14446, 'gendernotfound': 14447, 'versacehottie93': 14448, 'ughvld': 14449, 'rrreveuse': 14450, 'andursten': 14451, 'brokeaberdope': 14452, 'stabil': 14453, 'theophilusepsil': 14454, 'konstiha': 14455, 'penisgroesse': 14456, 'rosanorbe': 14457, 'gefolgschaft': 14458, 'fussgaengerins': 14459, 'zrndng': 14460, 'ruecksichtslos': 14461, 'ps': 14462, 'tabletten': 14463, 'beobachte': 14464, 'hddoger': 14465, 'titania60': 14466, 'in01001110': 14467, 'groessere': 14468, 'begeben': 14469, 'wanderung': 14470, 'atlasgebirge': 14471, 'reisegruppe': 14472, 'beliebtes': 14473, 'wandergebiet': 14474, 'ahnen': 14475, 'scheine': 14476, 'hervorragend': 14477, 'hochgearbeitet': 14478, 'wechselte': 14479, 'vorgeworfen': 14480, 'akademiker': 14481, 'peterschiefer3': 14482, 'verkehrsmittel': 14483, 'mitfahren': 14484, 'inselpastor': 14485, 'normalen': 14486, 'volkskammerwahlen': 14487, 'andyalt1': 14488, 'ikel13': 14489, 'piratenulm': 14490, 'tarif': 14491, 'juso': 14492, '60er': 14493, 'herrschley': 14494, 'lnnen': 14495, 'wt': 14496, 'brennmittel': 14497, 'atomkraft': 14498, 'erneuerbare': 14499, 'ubaehr': 14500, 'michfleischer': 14501, 'stade': 14502, 'horst': 14503, 'bloggt': 14504, 'fettere': 14505, 'reallive404': 14506, 'europaistdieantwo': 14507, 'einsames': 14508, 'politischem': 14509, 'flugzeugtraeger': 14510, 'spitzenverdiener': 14511, 'urheberrechtsrichtlinie': 14512, 'anlasten': 14513, 'richtlinie': 14514, 'mdep': 14515, 'foerderung': 14516, 'plaetzen': 14517, 'grundrente': 14518, 'kritiker': 14519, 'vorkaempfer': 14520, 'konsequent': 14521, 'cc': 14522, 'wahlkampfspd': 14523, 'derclitourist': 14524, 'pflege': 14525, 'sma': 14526, 'ie1944': 14527, 'einkommens': 14528, 'geschlechtern': 14529, 'dirkdiedrich': 14530, 'ploen': 14531, 'rendsburg': 14532, 'eckernfoerde': 14533, 'herzaubern': 14534, 'bahnstecken': 14535, 'option': 14536, 'eck': 14537, 'stadtregionalbahn': 14538, 'fahrverbot': 14539, 'umweg': 14540, 'dorfstrasse': 14541, 'verkehrswende': 14542, 'torbenmichler': 14543, 'petraneumanneck': 14544, 'skowron': 14545, 'klimaneutral': 14546, 'leitest': 14547, 'mobilitaet': 14548, 'moneyma27665627': 14549, 'alters': 14550, 'griniarn': 14551, 'koalitionsve': 14552, 'ueberbringer': 14553, 'schlechten': 14554, 'sensoren': 14555, 'umbauen': 14556, 'preetz': 14557, 'einschaetzen': 14558, 'mknhofheim': 14559, 'talenten': 14560, 'siegba': 14561, 'gemeinwesen': 14562, 'spdmuenchen': 14563, 'gossip': 14564, 'pausanias': 14565, 'steuergelder': 14566, 'ausgeben': 14567, 'seus': 14568, 'mehrheiten': 14569, 'spdkiel': 14570, 'testlauf': 14571, 'stefanjoens': 14572, 'ulrichschneider': 14573, 'bmas': 14574, 'tobiwan80': 14575, 'dianaownz100': 14576, 'arbeitsbedingungen': 14577, 'zwangsarbeit': 14578, 'auftraege': 14579, 'fl40000': 14580, 'jubilaeum': 14581, 'cooler': 14582, 'spindoctor': 14583, 'mb': 14584, 'atomkraftwerken': 14585, 'endlagerung': 14586, 'kohlestrom': 14587, '155': 14588, 'gleichstellung': 14589, 'kilian54957329': 14590, 'scbachmann': 14591, 'lohntransparenz': 14592, 'bjoernthoroe': 14593, 'linkspa': 14594, '2grimreaper3': 14595, 'bestuende': 14596, 'aermere': 14597, 'gezwungen': 14598, 'privatsphaere': 14599, 'reichere': 14600, 'ingonorge': 14601, 'klimakrise': 14602, 'zaehmen': 14603, 'lebenswe': 14604, 'prefec2': 14605, 'herausforderung': 14606, 'hager': 14607, 'unblutigen': 14608, 'kaiserreich': 14609, 'gemetzel': 14610, 'eidigt': 14611, 'schatzipaaf66': 14612, '1918': 14613, 'protestzug': 14614, 'matrosen': 14615, 'befreiung': 14616, 'claasen': 14617, 'nils': 14618, 'sozipod': 14619, 'renomie': 14620, 'energiewende': 14621, 'oekologisch': 14622, 'dumpingloehnen': 14623, 'konkurrieren': 14624, 'geeinten': 14625, 'schtegna': 14626, 'fraukorbik': 14627, 'faenden': 14628, 'exbgm': 14629, 'udobullmann': 14630, 'matrosenaufstand': 14631, 'meilenweit': 14632, 'vorgestellt': 14633, 'aussprache': 14634, 'wahlkonferenz': 14635, 'spitzenkandidatur': 14636, 'ausbeutung': 14637, 'zulassen': 14638, 'europaweit': 14639, 'ausgespielt': 14640, 'arbeitern': 14641, 'sozialpolitik': 14642, 'kaunlaran1': 14643, 'captainkling': 14644, 'simonkaatz': 14645, 'kaffeeringe': 14646, 'sebastianjahnz': 14647, 'tools': 14648, 'zielgerichteter': 14649, 'bedienbarkeit': 14650, 'gekape': 14651, 'huerde': 14652, 'goetzborche': 14653, 'krewor': 14654, 'niklaswillma': 14655, 'evma2000': 14656, 'landesverband': 14657, 'mitfahrgelegenheit': 14658, 'langejulian': 14659, 'julian': 14660, 'kaeffchen': 14661, 'josefzweck14': 14662, 'ersaufen': 14663, 'bezahlbaren': 14664, 'hwlae': 14665, 'ralfstegner1': 14666, 'besprochen': 14667, 'pienkny': 14668, 'stefan2sander': 14669, 'einreichen': 14670, 'helmerkrane': 14671, 'macava': 14672, 'ferien': 14673, 'schlagfe': 14674, 'sympathisch': 14675, 'frischen': 14676, 'druecken': 14677, 'tvduell': 14678, 'ltwhessen': 14679, 'ihemsen': 14680, 'dguenther': 14681, 'cdush': 14682, 'rasmusandresen': 14683, 'ansprecht': 14684, 'kuemmern': 14685, 'hermannrass': 14686, 'gabihillerohm': 14687, 'stonie': 14688, 'buergerfah': 14689, 'anmelden': 14690, 'duemmer': 14691, 'sventeuber': 14692, 'gedankenlesen': 14693, 'kestlerimmob': 14694, 'eigentum': 14695, 'verpflichtet': 14696, 'gebrauch': 14697, 'zugleich': 14698, 'allgemeinheit': 14699, 'sozialcha': 14700, 'armutsrisiko': 14701, 'hermannehrhardt': 14702, 'vermieter': 14703, 'bevorzugen': 14704, 'hattenwir': 14705, '90ern': 14706, 'demografischen': 14707, 'braeuchten': 14708, 'fehleinschaetzung': 14709, 'brechstangenplanung': 14710, 'huebsch': 14711, 'wittglobal': 14712, 'volleralsgo': 14713, 'sonnabend': 14714, 'vormittag': 14715, 'steinmeier': 14716, 'kieler': 14717, 'gewuenscht': 14718, 'profebe': 14719, 'noelkramerspd': 14720, 'spdnds': 14721, 'wolfgangbaasch': 14722, 'cake': 14723, 'pops': 14724, 'spdfrauen': 14725, 'sitzende': 14726, 'anzuege': 14727, 'marioberger19': 14728, 'ueberzeug': 14729, 'munnigan': 14730, 'aufwendigen': 14731, 'aussichtsreichen': 14732, 'derpfahler': 14733, 'guenter1960': 14734, 'tinctoriu': 14735, 'sozialen': 14736, 'herausforderungen': 14737, 'sneustra': 14738, 'kostenfrei': 14739, 'kitageld': 14740, 'beitragfrei': 14741, 'lndtg': 14742, 'tjark': 14743, 'limmer': 14744, 'outerheaven1987': 14745, 'kooperationsverbot': 14746, 'klint': 14747, 'kitas': 14748, 'buerofloskeln': 14749, 'graciosa': 14750, 'arbeitsplaetze': 14751, 'abhaengen': 14752, 'keinem': 14753, 'wars': 14754, 'unterbezirken': 14755, 'cfuscus': 14756, 'thiloadamitz': 14757, 'schlegelvo': 14758, 'damit': 14759, 'schlechter': 14760, 'drwetti': 14761, 'njaehring': 14762, 'spdjevenstedt': 14763, 'progoko': 14764, 'reihefolge': 14765, 'ausgelost': 14766, '806': 14767, '107': 14768, 'mitgliedervotum': 14769, 'neujahrsempfang': 14770, 'anfngerfehler1': 14771, 'barbarella9876': 14772, 'stuetze': 14773, 'sondierungspapier': 14774, 'tschmitz': 14775, 'timhall42': 14776, '440': 14777, '1987': 14778, '1991': 14779, 'rohalderengar': 14780, 'schutz': 14781, 'flieht': 14782, 'gelte': 14783, 'fluehen': 14784, 'wur': 14785, 'abschotten': 14786, 'brummsumsel': 14787, 'hoenig': 14788, 'marco': 14789, 'faire': 14790, 'zusammenarbeiten': 14791, 'programme': 14792, 'svereine': 14793, 'kreisverbaende': 14794, 'vmedick': 14795, 'eivorstands': 14796, 'primaer': 14797, 'aufregen': 14798, 'terrabyte1973': 14799, 'atomunfall': 14800, 'uran': 14801, 'aufgebraucht': 14802, 'meere': 14803, 'robinloxley6': 14804, 'malpe': 14805, 'ms': 14806, 'pieper': 14807, 'serkan': 14808, 'agci': 14809, '1a': 14810, 'hessenspd': 14811, 'nordsee': 14812, 'kriegste': 14813, 'beelzeb31695946': 14814, 'ehrenaemter': 14815, 'danielreitzig': 14816, 'larsfetkoeter': 14817, 'steeilts': 14818, 'dattel': 14819, 'axelflasba': 14820, 'missverstaendlich': 14821, 'freistern': 14822, 'gerecht': 14823, 'beamte': 14824, 'selbststaendige': 14825, 'tinka3335': 14826, 'verkehrsminister': 14827, 'dobrinth': 14828, 'praagelmam': 14829, 'abfotografieren': 14830, 'soenke': 14831, 'rix': 14832, 'gustavg8': 14833, 'alexwagner': 14834, 'mitmachen': 14835, '98': 14836, 'freizeit': 14837, 'reconquista979': 14838, 'entlastet': 14839, 'gebuehren': 14840, 'stephanholowaty': 14841, 'selbstgaenger': 14842, 'claasrohmeyer': 14843, 'jugendverband': 14844, 'einsetzt': 14845, 'netter': 14846, 'heimfah': 14847, 'ruhiges': 14848, 'restwochenende': 14849, 'freundschaft': 14850, 'falken': 14851, 'mrmacsimon': 14852, 'coolkrsna': 14853, '1994': 14854, 'kurzarbeit': 14855, 'leiharbeit': 14856, 'commandelicious': 14857, 'gucks': 14858, 'rnawratil': 14859, 'ladet': 14860, 'landesvorstand': 14861, 'eivorstand': 14862, 'soetwas': 14863, 'sprecht': 14864, 'ergebnisse': 14865, 'eientwicklung': 14866, 'flensburg': 14867, 'svereins': 14868, 'workshop': 14869, 'besagt': 14870, 'einzubringen': 14871, 'ah': 14872, 'gewunde': 14873, 'rossmann': 14874, 'spdrlp': 14875, 'juttasteinruck': 14876, 'langner': 14877, 'herzliche': 14878, 'glueckwuensche': 14879, 'norden': 14880, 'ausgemurkselt': 14881, 'safari19655': 14882, 'konstruktiv': 14883, 'verschlaege': 14884, 'leitantrag': 14885, 'eingearbeitet': 14886, 'lavo': 14887, 'rederecht': 14888, 'einfacharne': 14889, 'ndrsh': 14890, 'ampel': 14891, 'raussuchen': 14892, 'dierehfeldt': 14893, '3x': 14894, 'honki': 14895, 'wan': 14896, 'bonki': 14897, 'itweet': 14898, 'nikkmachiavelli': 14899, 'niedrigste': 14900, 'arbeitslosenquote': 14901, '1993': 14902, '80000': 14903, 'sozialversicherungspflichtige': 14904, '2012': 14905, 'kleber': 14906, 'geschnueffelt': 14907, 'eigentlicher': 14908, 'rockkonze': 14909, 'dynamodresden': 14910, 'fanprojektdd': 14911, 'diesen': 14912, 'budget': 14913, 'palmer': 14914, 'ausgelastet': 14915, 'schaebigkeit': 14916, 'ueberbieten': 14917, 'mele30431606': 14918, 'dutschi': 14919, 'bmg': 14920, 'intelligenz': 14921, 'dorobaer': 14922, 'kernkompetenz': 14923, 'infrastruktur': 14924, 'flugtaxis': 14925, 'gebaut': 14926, 'adoesr': 14927, 'ausfaelle': 14928, 'nuhr': 14929, 'prozenten': 14930, 'emojis': 14931, 'konradlitschko': 14932, 'momentanen': 14933, 'rumopfern': 14934, 'nachhinein': 14935, 'unausgelastet': 14936, 'gesundheitsminister': 14937, 'schwieriges': 14938, 'lustigzumachen': 14939, 'unterschaetzt': 14940, 'ob': 14941, 'blockpolitik': 14942, 'deutschebankag': 14943, 'geschaefte': 14944, 'nielsannen': 14945, 'nachrichtenmagazin': 14946, 'govolunteer': 14947, 'entmutigen': 14948, 'nilzenburger': 14949, 'mrspepperoni': 14950, 'nervositaet': 14951, 'selbstbewusster': 14952, 'extremismus': 14953, 'hessenschau': 14954, 'tvtotal': 14955, 'prosieben': 14956, 'investigativ': 14957, 'satte': 14958, 'veraenderung': 14959, 'bestandteil': 14960, 'wait': 14961, 'laecherlichen': 14962, 'muskeljesus': 14963, 'christianhelms': 14964, 'light': 14965, 'bmvi': 14966, 'bdi': 14967, 'furchtlos': 14968, 'zuruecktritt': 14969, 'zentralen': 14970, 'kavanaugh': 14971, 'lunaliv89': 14972, 'glaubwuerdigkeitsproblem': 14973, 'bsp': 14974, 'kleve': 14975, 'rwepruegeltrupps': 14976, 'selbstreflexion': 14977, 'juliaschramm': 14978, 'bleibst': 14979, 'punkbln': 14980, 'olafscholz': 14981, 'manoevrie': 14982, 'muellhaufen': 14983, 'luschenspd': 14984, 'rinderspacher': 14985, 'dringendes': 14986, 'vernachlaessigt': 14987, 'deppendorfu': 14988, 'anonnewsde': 14989, 'hetzjagden': 14990, 'stundenlanges': 14991, 'wachen': 14992, 'ennolenze': 14993, 'entlassung': 14994, 'kloeckner': 14995, 'erscheinung': 14996, 'rikealexandra': 14997, 'belastbare': 14998, 'vorgelegt': 14999, 'inkaul': 15000, 'anzugtraeger': 15001, 'schlaegern': 15002, 'untragbar': 15003, 'fotiama': 15004, 'populisten': 15005, 'leiter': 15006, 'ausfaellen': 15007, 'disqualifizie': 15008, 'konradsybille': 15009, 'vonknoche': 15010, 'seehoferruecktritt': 15011, 'fink': 15012, 'samy': 15013, 'konfrontieren': 15014, 'gemeinsamkeiten': 15015, 'abgrenzungen': 15016, 'crashkurs': 15017, 'highflyer': 15018, 'vonnoeten': 15019, 'einschuechterung': 15020, 'menschenfeinde': 15021, 'abqualifizieren': 15022, 'lobbyarbeit': 15023, 'rheinland': 15024, 'pfaelzische': 15025, 'winzer': 15026, 'loop': 15027, 'zentrumspa': 15028, 'airjibeer': 15029, 'gastonstuttga': 15030, 'gegendemonstration': 15031, 'vorzugehen': 15032, 'dobrindt': 15033, 'zweifler': 15034, 'widerspricht': 15035, 'grundgesetzt': 15036, 'pilgrim': 15037, 'rosine': 15038, 'wahrheitsgemaess': 15039, 'rechtsstaatlichkeit': 15040, 'aufloesung': 15041, 'smisachsen': 15042, 'larsradau': 15043, 'annetteditte': 15044, 'sachsenbankrotterklaerung': 15045, 'populismuswelle': 15046, 'reiten': 15047, 'ratschlaege': 15048, 'saat': 15049, 'aufgeht': 15050, 'fotomodell': 15051, 'ritze': 15052, 'aufmarschieren': 15053, 'alexdierks1987': 15054, 'selbstwahrnehmung': 15055, 'fremdwahrnehmung': 15056, 'situationen': 15057, 'optimal': 15058, 'besorgten': 15059, 'verknuepft': 15060, 'nazidemo': 15061, 'lebenundlassen': 15062, 'mutschrewe': 15063, 'pecan1003': 15064, 'nazispeech': 15065, 'selbstentlarvend': 15066, 'gewalttaeter': 15067, 'panorama': 15068, 'vollversager': 15069, 'abdanken': 15070, 'schlimmes': 15071, 'inaschein': 15072, 'schweigende': 15073, 'gaenze': 15074, 'grossaufmarsch': 15075, 'b2705': 15076, 'kraftvolle': 15077, 'lieblingsbrit': 15078, 'communisminuk': 15079, 'solid': 15080, 'italienische': 15081, 'unermuetlich': 15082, 'eschenheimer': 15083, 'wasserwerfer': 15084, 'raeumpanzer': 15085, 'konsti': 15086, 'vorsichtige': 15087, 'schaetzung': 15088, 'demobeginn': 15089, 'demospitze': 15090, 'biegt': 15091, 'schumacher': 15092, 'hanauer': 15093, 'landstasse': 15094, 'uhlandstr': 15095, 'helikopter': 15096, 'kreist': 15097, 'einzelne': 15098, 'sperrzone': 15099, 'hektisch': 15100, 'zeil': 15101, 'lets': 15102, 'crash': 15103, 'opening': 15104, 'zauberhafte': 15105, 'zugansage': 15106, 'lichter': 15107, 'wirsehenunsimmorgengrauen': 15108, 'angebrochen': 15109, 'dasbieristalle': 15110, 'laeuftbeiuns': 15111, 'pressekonferenz': 15112, 'griechische': 15113, 'gestoppt': 15114, 'durchsuchung': 15115, '5000': 15116, 'antinationalen': 15117, 'oct3h': 15118, 'schoener': 15119, 'zusammenschnitt': 15120, 'leftvision': 15121, 'vorbereitungen': 15122, 'hochtouren': 15123, 'toetet': 15124, 'oranienplatz': 15125, 'spontandemo': 15126, 'gaenseliesel': 15127, 'solidaritaetsdemo': 15128, 'odeonsplatz': 15129, 'heile': 15130, 'eingeschlossenen': 15131, 'solidemo': 15132, 'soliaktion': 15133, 'demobloecke': 15134, 'forderen': 15135, 'sanis': 15136, 'museum': 15137, 'lerntux': 15138, 'stream': 15139, 'zwanzig': 15140, 'mainzer': 15141, 'erkennbaren': 15142, 'verhaftet': 15143, 'kay': 15144, 'sehnen': 15145, 'gekleideten': 15146, 'demonstrantiinnen': 15147, 'livestream': 15148, 'anzuhoeren': 15149, 'hronline': 15150, 'perspektiven': 15151, 'blockupyorganisatoren': 15152, 'zuden': 15153, 'zugehen': 15154, 'ketten': 15155, 'blanker': 15156, 'hohn': 15157, 'erzdf': 15158, 'frschreibt': 15159, 'vermummungen': 15160, 'oberste': 15161, 'einsatzleitung': 15162, 'personalien': 15163, 'demoleitung': 15164, 'raetz': 15165, 'einzeln': 15166, 'durchsuchen': 15167, 'peterwolf': 15168, 'gekleidet': 15169, 'spontis': 15170, 'duesselorf': 15171, 'cps': 15172, 'antikapblock': 15173, 'potenziell': 15174, 'gefaehlichen': 15175, 'buettel': 15176, 'merci': 15177, 'tomorrow': 15178, 'grossdemo': 15179, 'abschiebeflughafen': 15180, 'immerwieder': 15181, 'durchs': 15182, 'autoritaerer': 15183, 'krisenprotesten': 15184, 'vogue': 15185, 'laerm': 15186, 'reinzulassen': 15187, 'grosszuegig': 15188, 'llen': 15189, 'megaphon': 15190, 'flugreisenden': 15191, 'abschiebepolitik': 15192, 'auswaehlen': 15193, 'aufschreiben': 15194, 'schwierigkeiten': 15195, 'ausgewaehlt': 15196, 'unnoetig': 15197, 'setzte': 15198, 'skandieren': 15199, 'bleiberecht': 15200, 'demonstrierende': 15201, 'unversoehnliche': 15202, 'terminal1': 15203, 'genehmigten': 15204, 'teilnehmenden': 15205, 'abgezaehlt': 15206, 'reingelassen': 15207, 's8': 15208, 'crisis': 15209, 'deutliches': 15210, 'normalzustand': 15211, 'europaplatz': 15212, 'anfah': 15213, 'dtl': 15214, 'kiberer': 15215, 'veroeffentlichte': 15216, 'antifaberlin': 15217, 'hgegennazis': 15218, 'mobilisieren': 15219, 'wkr': 15220, 'busanreise': 15221, 'planung': 15222, 'kaempferischer': 15223, 'linksreformismus': 15224, '16h': 15225, 'studihaus': 15226, 'shiftzine': 15227, 'internationalem': 15228, 'antinationalismus': 15229, 'pavillion': 15230, 'action': 15231, 'm31ffm': 15232, 'stuff': 15233, 'risse': 15234, 'birdie51411736': 15235, 'hochfinanz': 15236, 'liner': 15237, 'verzeihen': 15238, 'bejubelt': 15239, 'versehen': 15240, 'kaltschnaeuzigkeit': 15241, 'verspotten': 15242, 'erfuellungsgehilfen': 15243, 'rrotlinkengruenen': 15244, 'zwangsgebuehren': 15245, 'aenderung': 15246, 'ebony': 15247, 'sunrise': 15248, 'herauszuholen': 15249, 'brechern': 15250, 'mittelstaendler': 15251, 'selbstaendigen': 15252, 'parasitten': 15253, 'macrons': 15254, 'schals': 15255, 'ruppe': 15256, 'klatscht': 15257, 'brutal': 15258, 'papi': 15259, 'emmanuel': 15260, 'journal': 15261, 'netanjahu': 15262, 'ngos': 15263, 'unding': 15264, 'uebernommen': 15265, 'souveraene': 15266, 'souveraenes': 15267, 'regierungsschutz': 15268, 'besatzungsschutz': 15269, 'gepflaste': 15270, 'rainer3778': 15271, 'geldhahn': 15272, 'abzudrehen': 15273, 'finanziere': 15274, 'radiothueringen': 15275, '75': 15276, 'kurzfassung': 15277, '8std': 15278, 'kleinkinder': 15279, 'kleinkind': 15280, 'kreuzung': 15281, 'aufgetragen': 15282, 'virulensina': 15283, 'rayffm': 15284, 'unterhaltungen': 15285, 'gundel': 15286, 'gaukeley': 15287, 'verzeiht': 15288, 'panik1props': 15289, 'bazookadiebombe': 15290, 'ausgang': 15291, 'hobbit733': 15292, 'loesch': 15293, 'allwissenden': 15294, 'gebildeten': 15295, 'kanzlei': 15296, '0001f976': 15297, 'stahlza': 15298, 'spiegel4d': 15299, 'feinden': 15300, 'pruefen': 15301, 'aufwacht': 15302, 'hopl9495': 15303, 'schweren': 15304, 'holo': 15305, 'cephalugie': 15306, 'zusammenhaengen': 15307, 'inks': 15308, 'alhope1': 15309, 'immergenau': 15310, 'schamlos': 15311, 'robby': 15312, 'mitleid': 15313, 'onnnoeoeoeoeoeng': 15314, 'daemliche': 15315, 'antidemokratischen': 15316, 'schandschnauze': 15317, 'nachvollziehbare': 15318, 'moslems': 15319, 'moslemische': 15320, 'spaetschaeden': 15321, 'wahllos': 15322, 'pruegeltour': 15323, 'neun': 15324, 'schritt': 15325, 'verpruegeln': 15326, 'hildering': 15327, 'handfeste': 15328, 'fzfazer1': 15329, 'powerforukraine': 15330, 'convalaria1': 15331, 'steuererhoehungen': 15332, '42': 15333, 'bemessungsgrenze': 15334, '84t': 15335, '54t': 15336, 'mittelstand': 15337, 'matthiasgrimm7': 15338, 'erzgebirge': 15339, '0001f622': 15340, '0001f63f': 15341, 'zugewande': 15342, 'inakzeptabel': 15343, 'massen': 15344, 'einwandern': 15345, 'outback1963': 15346, 'jena': 15347, 'karnickel': 15348, 'stehlen': 15349, 'pastor': 15350, 'dunkeldeutschland': 15351, 'goering': 15352, 'ecka': 15353, 'mitteldeutschen': 15354, 'honduras': 15355, 'niedermeiergg': 15356, 'landwi': 15357, 'gebue': 15358, 'landwird': 15359, 'florian': 15360, 'hillen': 15361, 'umso': 15362, 'aufpasst': 15363, 'buschilein70': 15364, 'rapeterelias': 15365, 'augenroller': 15366, 'wlernr': 15367, 'faktoren': 15368, 'punkte': 15369, 'faktor': 15370, 'ipischeldr': 15371, 'lehrern': 15372, 'geschichtsunterricht': 15373, 'grauenvoll': 15374, 'heike': 15375, 'gassmann': 15376, 'homasbruns': 15377, 'drandrauf92': 15378, 'ostdeutschland': 15379, 'bewaehrungsprobe': 15380, 'jugendlichen': 15381, 'vernachlaessigen': 15382, 'weige': 15383, 'stuetz': 15384, 'wissendlich': 15385, 'udo66ko': 15386, 'damen': 15387, 'naeher': 15388, 'biebel': 15389, 'kluger': 15390, 'konso': 15391, 'beruehmt': 15392, 'kindes': 15393, 'karin': 15394, 'kaiser': 15395, 'zusammenleben': 15396, 'justizminister': 15397, 'ungestraft': 15398, 'angaben': 15399, 'buergschaft': 15400, 'ausgesprochen': 15401, 'reinigen': 15402, 'ausfuzzy': 15403, 'delikt': 15404, 'bestraft': 15405, 'oliverstern11': 15406, 'gedenkfeier': 15407, 'georgdrache': 15408, 'staate': 15409, 'marmelade': 15410, 'normalos': 15411, 'renten': 15412, 'zinsgestuetzt': 15413, 'gabyniemand': 15414, 'michaelstauber': 15415, 'gesundheitsexpe': 15416, 'zins': 15417, 'sparer': 15418, 'kaputten': 15419, 'ruger': 15420, 'ute': 15421, 'bayrischen': 15422, 'graut': 15423, 'sinken': 15424, 'eingestaendnis': 15425, 'drehhofer': 15426, 'boris': 15427, 'pistorius': 15428, 'rechtsbewusstsein': 15429, 'ankauf': 15430, 'cds': 15431, 'reiche': 15432, 'verkehrssuender': 15433, 'kinggeorgvi': 15434, 'gespeiche': 15435, 'dieterschien': 15436, 'claudisbest': 15437, 'traumatisie': 15438, 'schwach': 15439, 'zurechnungsfaehig': 15440, 'aufzeichnungen': 15441, 'muehlen': 15442, 'mahlen': 15443, '100jaehrige': 15444, 'rechenschaft': 15445, 'unbequemes': 15446, 'vorerst': 15447, 'franzjo98100261': 15448, 'fleh': 15449, 'widerstandskind': 15450, 'provokateur2000': 15451, '100x': 15452, 'nephrovip': 15453, 'eleration': 15454, 'differenzieren': 15455, 'whats': 15456, 'schraenkt': 15457, 'informationsfreiheit': 15458, 'senden': 15459, 'gratulation': 15460, 'michaelscheune3': 15461, 'rentner': 15462, 'zusammengefasst': 15463, 'einsticht': 15464, 'feuerrad1': 15465, 'entstehung': 15466, 'soches': 15467, 'genetik': 15468, 'neid': 15469, 'missgunst': 15470, 'habgier': 15471, 'diametral': 15472, 'mus': 15473, 'spanier': 15474, 'griechen': 15475, 'ugiesen': 15476, 'vietnamesen': 15477, 'jeannetteleipz2': 15478, 'stehe': 15479, '0001f617': 15480, '0001f619': 15481, 'kosvo': 15482, 'rassel1408': 15483, 'barbara25411': 15484, '89': 15485, 'mistrauen': 15486, 'verstreuen': 15487, 'verdaechtigte': 15488, 'regenerieren': 15489, 'vorsichtig': 15490, 'strauss': 15491, 'verkraften': 15492, 'schwaechere': 15493, 'animositaeten': 15494, 'abstellen': 15495, 'gehegt': 15496, 'gepflegt': 15497, 'auffangen': 15498, 'aufwaermen': 15499, 'geschieht': 15500, 'bestem': 15501, 'frizcatcom': 15502, 'angezeigt': 15503, 'schilde': 15504, 'anstehen': 15505, 'poggeburg': 15506, 'sprengung': 15507, 'zusammenschweisst': 15508, 'reagie': 15509, 'uebereilt': 15510, 'teilstuecke': 15511, 'zerlegen': 15512, 'buendeln': 15513, 'disziplin': 15514, 'stoeckchen': 15515, 'springen': 15516, 'kreuzwo': 15517, 'raetsel': 15518, 'gesellschaftsform': 15519, 'erziehungsauftrag': 15520, 'anja': 15521, 'erziehungsanstalt': 15522, 'regierungslinie': 15523, 'erhebung': 15524, 'beitrages': 15525, 'laendersache': 15526, 'demokratieverstaendnis': 15527, 'katrinw': 15528, 'bpol': 15529, 'pokerspiel': 15530, 'gb': 15531, 'unannehmbare': 15532, 'bedingungen': 15533, 'erzwingen': 15534, 'abschreckung': 15535, 'antidemokraten': 15536, 'satireunfreiesd': 15537, 'gelingen': 15538, 'vorlaeufigkeit': 15539, 'sagten': 15540, 'weimarer': 15541, '1919': 15542, 'unterzeichnung': 15543, 'unionrotgruenlinks': 15544, 'ergo': 15545, 'nazikeule': 15546, 'ars': 15547, 'ethische': 15548, 'eignung': 15549, 'veronicakoch16': 15550, 'silvanazander': 15551, 'meinungsunterdrueckung': 15552, 'jackreacher90': 15553, 'stadtralle': 15554, 'dieterrad123': 15555, 'grossvaters': 15556, 'baugrundstueck': 15557, 'nachtraeglich': 15558, 'zugestimmt': 15559, 'joachimfriede4': 15560, 'wintersohnx': 15561, 'nachsichtig': 15562, '40jahre': 15563, 'emonnaine': 15564, 'kommuniste': 15565, 'stuetzten': 15566, 'himmelr1': 15567, 'tatkraft': 15568, 'schranken': 15569, 'standfestigkeit': 15570, 'falz': 15571, 'umar': 15572, 'alalmani': 15573, 'spreche': 15574, 'gruenrotlinke': 15575, 'klicke': 15576, 'kitt': 15577, 'fenstern': 15578, 'loeschung': 15579, 'harmlos': 15580, 'hinkelek': 15581, 'staatsanwalts': 15582, 'achterberg63': 15583, 'staatsanwalt': 15584, 'ermittler': 15585, 'gewissheit': 15586, 'ergreifung': 15587, 'passade': 15588, 'glaubs': 15589, 'ekm': 15590, 'bischoefin': 15591, 'ilse': 15592, 'junkermann': 15593, 'mitteldeutschland': 15594, 'einueben': 15595, 'beleidigend': 15596, 'explosion': 15597, 'beschaedigt': 15598, 'eskalationsstufe': 15599, 'bomben': 15600, 'beifall': 15601, 'faires': 15602, 'regierungsverantwo': 15603, 'herzens': 15604, 'einsicht': 15605, 'ware': 15606, 'n0rd3': 15607, 'aegisbridge': 15608, 'relation': 15609, 'hikarigoi': 15610, 'gabelle': 15611, 'erbeten': 15612, 'las': 15613, 'wehmuetiges': 15614, 'seinesgleichen': 15615, 'narrative': 15616, 'unters': 15617, 'pessimistisch': 15618, 'enhaus': 15619, 'einstuerzt': 15620, 'gefaehrdet': 15621, 'normax': 15622, 'sexistische': 15623, 'nordhessische': 15624, 'sduwe': 15625, 'dummerle': 15626, 'schulkind': 15627, 'nordhessischen': 15628, 'intellektuelles': 15629, 'armutszeugnis': 15630, 'kochshow': 15631, 'hayali': 15632, 'backen': 15633, 'plaudern': 15634, 'geladenen': 15635, '0001f410': 15636, 'kaeseta': 15637, 'kubitschek': 15638, 'ritter': 15639, '0001f93a': 15640, '0001f954': 15641, 'spezialitaeten': 15642, 'endenwollendes': 15643, 'leyla': 15644, 'bilge': 15645, 'mitarbeiterin': 15646, 'ulrich': 15647, 'oehme': 15648, 'schirm': 15649, 'foerdermitglieder': 15650, 'briefkasten': 15651, 'initiative': 15652, 'volksbegehren': 15653, 'viell': 15654, 'antifabued': 15655, 'unerwaehnt': 15656, 'hutbuerger': 15657, 'angelika': 15658, 'barbe': 15659, 'klaus': 15660, 'otte': 15661, 'veronika': 15662, 'bellmann': 15663, 'stundenlang': 15664, 'erstmalig': 15665, 'zarkojank': 15666, 'verpixeln': 15667, 'unterlaesst': 15668, 'herrje': 15669, '2714': 15670, 'recherchemd': 15671, 'ueberblick': 15672, 'landete': 15673, 'obskuren': 15674, 'webseiten': 15675, 'guete': 15676, 'anastasia': 15677, 'zehnbaendige': 15678, 'buecherreihe': 15679, 'megre': 15680, 'fachstelle': 15681, 'sektenfragen': 15682, 'infosekta': 15683, 'rechtsesoterischen': 15684, 'idacampe': 15685, 'bmel': 15686, 'genehmigen': 15687, 'glyphosat': 15688, 'zygoten': 15689, 'scheiszdreck': 15690, 'abholzung': 15691, 'waldes': 15692, 'flora': 15693, 'fauna': 15694, 'beworben': 15695, 'stammtischphilo': 15696, 'journalistenwatch': 15697, 'gemeinnuetzigen': 15698, 'opapaul1895': 15699, 'interessanten': 15700, 'informativen': 15701, 'belastend': 15702, 'supervision': 15703, 'anspruch': 15704, 'psych': 15705, 'verabscheuungswuerdige': 15706, 'gesichtet': 15707, 'unklar': 15708, 'hawarhelp': 15709, 'bmz': 15710, 'rassistin': 15711, 'abtreibungsgegnerin': 15712, 'bevorstehenden': 15713, 'tagung': 15714, 'gegenantifeminismus': 15715, 'querfront': 15716, 'ausstopfen': 15717, 'nassem': 15718, 'schuhwerk': 15719, 'anrichten': 15720, 'einzelfall': 15721, 'rammdoesig': 15722, 'chronik': 15723, 're': 15724, 'laessig': 15725, 'unterzeichnet': 15726, 'gerritmarsen': 15727, 'blocke': 15728, 'abscheulich': 15729, 'rabboobo': 15730, 'zisch': 15731, 'antifeministin': 15732, 'preistraegerin': 15733, 'jetzige': 15734, 'klonovsky': 15735, 'rechtestrukturenzerschlagen': 15736, '1997': 15737, 'strafbarkeit': 15738, 'vergewaltigung': 15739, 'stimmte': 15740, 'prollst': 15741, 'kostbar': 15742, 'kungebung': 15743, 'gera': 15744, 'csd': 15745, 'museumsplatz': 15746, 'profilacktisch': 15747, 'screenshots': 15748, '0001f6ae': 15749, 'klaerenden': 15750, 'kniescheiben': 15751, 'ruemme': 15752, 'deutschlandspricht': 15753, 'letzteren': 15754, 'pressetrotteln': 15755, 'faszination': 15756, 'schnellroda': 15757, 'jamel': 15758, 'einziehen': 15759, 'grundvers': 15760, 'rechtsextremer': 15761, 'kopp': 15762, 'ahriman': 15763, 'handlungsbedarf': 15764, 'ergaenzende': 15765, 'information': 15766, 'mitgeteilt': 15767, 'schliesze': 15768, 'scheusslich': 15769, 'schunkeln': 15770, 'kellnerinnen': 15771, 'ausnehmen': 15772, 'saugen': 15773, 'sexuell': 15774, 'belaestigen': 15775, 'leitkultur': 15776, 'wiesn': 15777, 'oeffentliches': 15778, 'pinkeln': 15779, 'schmeckt': 15780, 'ueberflogen': 15781, 'menschmerz': 15782, 'yakkul': 15783, 'hintergrundinfos': 15784, 'threads': 15785, 'eingebunden': 15786, 'fliessend': 15787, 'erlaeute': 15788, '0001f49c': 15789, 'hosenkauf': 15790, 'umkleidekabinen': 15791, 'informationswe': 15792, 'besagter': 15793, 'ugrul': 15794, 'yigit': 15795, 'richtigstellung': 15796, 'dokurechts': 15797, 'aussergewoehnlich': 15798, 'kontaktie': 15799, 'entfolge': 15800, 'blockiere': 15801, 'antifeminismus': 15802, 'auffallen': 15803, 'sexistisch': 15804, 'bitch': 15805, 'schl': 15806, 'sexismen': 15807, 'suesz': 15808, '0001f431': 15809, '0001f33b': 15810, '0001f33c': 15811, 'moohten': 15812, 'jessicajones': 15813, 'begruesze': 15814, 'schmiedwilhelm': 15815, 'sarrazins': 15816, 'finanzbuch': 15817, 'manuscriptum': 15818, 'buches': 15819, 'hennig': 15820, 'bluesbr79599722': 15821, 'chen1980': 15822, '0001f917': 15823, 'korrigieren': 15824, 'pressesprecherin': 15825, 'nachfolgende': 15826, 'vielfalt': 15827, 'geherrscht': 15828, 'sprachlos': 15829, 'hauptr': 15830, 'rwiesengrund': 15831, '0001f604': 15832, 'illy': 15833, 'veranstalterin': 15834, 'schaebig': 15835, 'wunsiedel': 15836, 'mae': 15837, 'yrerstadt': 15838, 'heldengedenken': 15839, 'screenhot': 15840, 'keinfussbreit': 15841, 'katquat': 15842, 'alexschestag': 15843, 'rechtsextrem': 15844, 'hervor': 15845, 'philip': 15846, 'plicke': 15847, 'autor': 15848, 'schrieb': 15849, 'interviewpa': 15850, 'albrecht': 15851, 'schachtschneider': 15852, 'des': 15853, 'praesidiumsmitglied': 15854, 'studienzentrums': 15855, 'weikersheims': 15856, 'beirat': 15857, 'wissensmanufaktur': 15858, 'abormuede': 15859, 'tasse': 15860, 'lenkt': 15861, 'friedenswatch': 15862, 'rueckfah': 15863, 'geschichtsrevisionisten': 15864, 'kivallara': 15865, 'preisschild': 15866, 'ablenkt': 15867, 'wolfhh66': 15868, 'aspekt': 15869, 'gegruendeten': 15870, 'belassen': 15871, 'kampagnen': 15872, 'lichtermarsch': 15873, 'plauen': 15874, 'capitol': 15875, 'bahnhofstrasse': 15876, 'wirkung': 15877, 'banners': 15878, 'dreh': 15879, 'liesze': 15880, 'wutlevel': 15881, '0001f4c8': 15882, 'bevorstehende': 15883, 'bdk': 15884, 'personenkreis': 15885, 'grosz': 15886, 'aechten': 15887, 'rate': 15888, 'stets': 15889, 'histamin': 15890, 'biogenes': 15891, 'amin': 15892, 'diagnostik': 15893, 'allergietests': 15894, 'halbjaehrlich': 15895, 'ernaehrungstagebuch': 15896, 'schlimmen': 15897, 'aerzt': 15898, 'verzweiflung': 15899, 'eingehen': 15900, 'nachdenke': 15901, 'schiessbefehl': 15902, 'hinauslaeuft': 15903, 'freidrehen': 15904, 'order': 15905, 'fuerchten': 15906, 'nazisaufsmaul': 15907, 'achgut': 15908, 'erbaermlich': 15909, 'ifsdichtmachen': 15910, 'neuerechtewatch': 15911, 'wiesberg': 15912, 'derrechterand': 15913, 'schatzmeister': 15914, 'benjamin': 15915, 'jahn': 15916, 'zschocke': 15917, 'sprecher': 15918, 'verleiht': 15919, 'boeckelmann': 15920, 'brisanz': 15921, 'gegenerklaerung': 15922, 'verpufft': 15923, 'verlorengegangen': 15924, 'hinaus': 15925, 'verpassen': 15926, 'abschliesst': 15927, 'endete': 15928, 'patriarchat': 15929, '0001f4a5': 15930, 'ausgiebig': 15931, 'lodernden': 15932, 'braenden': 15933, 'erfreut': 15934, 'totalausfall': 15935, 'uterus': 15936, 'public': 15937, 'domain': 15938, 'zuchtsaeue': 15939, 'vatikantreuen': 15940, 'opus': 15941, 'dei': 15942, 'nuklearia': 15943, 'koerner': 15944, 'retungsberechtigten': 15945, 'rainer': 15946, 'klute': 15947, 'steuerlich': 15948, 'absetzbar': 15949, 'gemeinnuetzig': 15950, 'ohrenbetaeubendes': 15951, 'jungeuropa': 15952, 'philipp': 15953, 'reibt': 15954, 'verlegt': 15955, 'aussteller': 15956, 'antifeministischer': 15957, 'neuerscheinungen': 15958, 'identitaere': 15959, 'gewaehrleisten': 15960, 'stellungnahme': 15961, 'eichholtzalex': 15962, 'tichy': 15963, 'retweeted': 15964, 'berger': 15965, 'replys': 15966, 'gefallene': 15967, 'weltmaedchentags': 15968, 'suboptimal': 15969, 'zusamenhang': 15970, 'studierenden': 15971, 'demographie': 15972, 'erholung': 15973, 'umstrittenes': 15974, 'schlafwandler': 15975, 'zog': 15976, 'ausbruch': 15977, 'wk': 15978, 'befasste': 15979, 'aufsaetze': 15980, 'tournee': 15981, 'verschafften': 15982, 'entsprechenden': 15983, 'dokus': 15984, 'einordnung': 15985, 'anmerkungen': 15986, 'zoske': 15987, 'verfasste': 15988, 'warf': 15989, 'thorsten': 15990, 'polleit': 15991, 'ludwig': 15992, 'mises': 15993, 'institut': 15994, 'aeren': 15995, 'staatenhasser': 15996, 'unfassbares': 15997, 'hierzulande': 15998, 'netzwerka': 15999, 'kooperationen': 16000, 'gruppierungen': 16001, 'zentren': 16002, 'justsaying': 16003, 'maditamedusa': 16004, 'pinky': 16005, 'acc': 16006, 'geballte': 16007, 'abfeiern': 16008, 'glocke': 16009, 'befuerchtet': 16010, 'eingetroffen': 16011, 'angeschlossenen': 16012, 'tatkraeftige': 16013, 'beabsichtigten': 16014, 'umzug': 16015, 'behoben': 16016, 'deutschlandfunk': 16017, 'verstorbenen': 16018, 'philosophen': 16019, 'lebenwerk': 16020, 'gewuerdigt': 16021, 'leerstellen': 16022, 'gefuellt': 16023, 'marburger': 16024, 'appells': 16025, 'pressefreiheit': 16026, '2006': 16027, 'philosoph': 16028, 'schriften': 16029, 'rezensionen': 16030, 'befasst': 16031, 'fussstapfen': 16032, 'beiratsmitglied': 16033, 'dijg': 16034, 'genuegen': 16035, 'nichtigkeiten': 16036, 'abgeaende': 16037, 'taltalim': 16038, 'cor': 16039, 'evangelikalen': 16040, 'kreationismus': 16041, 'antifeministisch': 16042, 'lgbtiq': 16043, 'feindlich': 16044, 'dietma': 16045, 'hesing': 16046, 'babycaust': 16047, 'ankommt': 16048, 'annen': 16049, 'berlinrum': 16050, 'allermeisten': 16051, 'schweigend': 16052, 'groszen': 16053, 'popanz': 16054, 'raushaengen': 16055, 'unabhaengig': 16056, 'anzahl': 16057, 'gezeugter': 16058, '0001f92b': 16059, 'vergessenheit': 16060, 'markwo': 16061, 'jahrzehnt': 16062, 'geladener': 16063, 'phillip': 16064, 'amthor': 16065, 'durchblick': 16066, 'werbevorbot': 16067, 'schwangerschaftsabbrueche': 16068, 'berichtete': 16069, 'diskriminierendes': 16070, 'produzieren': 16071, 'zwangslaeufig': 16072, 'fghtafd': 16073, 'fightracism': 16074, 'smashfascism': 16075, 'informationspflicht': 16076, 'medizinischen': 16077, 'hbraun': 16078, 'taeuschung': 16079, 'tarnen': 16080, 'wegmit219a': 16081, 'wegmit218': 16082, 'allesistmoeglichdonnerstag': 16083, 'ueberschneidet': 16084, 'erfolgreichen': 16085, 'acab': 16086, '0001f44a': 16087, 'kamikaze': 16088, 'peakyblinder': 16089, 'abfuehrungszeichen': 16090, 'neutralisie': 16091, 'entmenschlicht': 16092, 'schlagzeile': 16093, 'hingewiesen': 16094, 'roemelta': 16095, 'diskutiere': 16096, 'axelavie': 16097, 'aeuszerung': 16098, 'weilichnichtmitnazisrede': 16099, 'kameradluedden': 16100, 'jairbolsonaro': 16101, 'vondobrowolski': 16102, 'marcgoecke': 16103, 'konsumwahn': 16104, 'kaufrausch': 16105, 'fetisch': 16106, 'uebersaettigten': 16107, 'abgeschobenen': 16108, 'surrogat': 16109, 'bedruckten': 16110, 'markenetikett': 16111, 'jegliche': 16112, 'tiefe': 16113, 'bedeutung': 16114, 'dauerkater': 16115, 'eskapismus': 16116, 'verjagt': 16117, 'voelkermordes': 16118, 'palaestinensische': 16119, 'erleidet': 16120, 'enteignung': 16121, 'kolonialen': 16122, 'gebiete': 16123, 'geltung': 16124, 'hochblauen': 16125, 'buchbesprechung': 16126, 'gemeinschaft': 16127, 'aufforde': 16128, 'gebietet': 16129, 'verweh': 16130, 'sura': 16131, '105': 16132, 'kriegs': 16133, 'alltagsverbrechen': 16134, 'breitengraden': 16135, 'hofie': 16136, 'exemplarisch': 16137, 'zentralrat': 16138, 'indes': 16139, 'nationalwahnstaat': 16140, 'anmerkenswe': 16141, 'bekunden': 16142, 'betitelt': 16143, 'zitiere': 16144, 'erwin': 16145, 'geschonneck': 16146, 'unruhigen': 16147, '1984': 16148, '7000': 16149, 'haeftlinge': 16150, 'zuchthaeuser': 16151, 'ferne': 16152, 'draengt': 16153, 'hysterischen': 16154, 'unablaessigen': 16155, 'berufung': 16156, 'toxische': 16157, 'waffenlieferant': 16158, 'begeht': 16159, 'verrat': 16160, 'voelkerrechtlichen': 16161, 'grundprinzipien': 16162, 'paradox': 16163, 'igung': 16164, 'verweist': 16165, 'erschien': 16166, 'prof': 16167, 'finkelstein': 16168, 'nanu': 16169, 'claim': 16170, 'conference': 16171, 'entschaedigungsfonds': 16172, 'betreut': 16173, 'spon': 16174, '2007': 16175, 'langjaehrige': 16176, 'rabbi': 16177, 'singer': 16178, 'gelder': 16179, 'weltkongresses': 16180, 'veruntreut': 16181, '46': 16182, 'schilla': 16183, 'geliked': 16184, 'getweeted': 16185, 'kenfm': 16186, 'graphischen': 16187, 'bg': 16188, 'denkende': 16189, 'klarstellen': 16190, 'vernunftdenken': 16191, 'toto': 16192, 'glaubensausrichtigung': 16193, 'bedeutsam': 16194, 'menschsein': 16195, 'cezan': 16196, 'gesungen': 16197, 'slime': 16198, 'amerik': 16199, 'engl': 16200, 'profis': 16201, 'solo': 16202, 'siempre': 16203, 'palaestina': 16204, 'erprobten': 16205, 'herontp': 16206, 'drohnen': 16207, 'raketen': 16208, 'ausgeruestet': 16209, 'einschlag': 16210, 'rakete': 16211, 'zentimeter': 16212, 'ermordungen': 16213, 'bildschirm': 16214, 'manuela': 16215, 'schulddoktrin': 16216, 'wahrhaft': 16217, 'variable': 16218, 'dienerin': 16219, 'shengal': 16220, 'mexmur': 16221, 'brandenburger': 16222, 'sondereinheiten': 16223, 'bac': 16224, 'frontkonzept': 16225, 'distanz': 16226, 'greiftruppkonzept': 16227, 'offensivgranaten': 16228, 'gummigeschossen': 16229, 'paris': 16230, 'bushs': 16231, 'brutkastenluege': 16232, 'panama': 16233, 'paramilitaers': 16234, 'kolumbien': 16235, '1990': 16236, 'somalia': 16237, '1992': 16238, '1976': 16239, 'brasilianische': 16240, 'schaftsminister': 16241, 'wirkte': 16242, 'dozent': 16243, 'plaene': 16244, 'aehneln': 16245, 'schaftspolitik': 16246, 'chilenischen': 16247, 'allende': 16248, 'erstmalige': 16249, 'erprobung': 16250, 'neoliberalen': 16251, 'oekonomen': 16252, 'bank': 16253, '1870': 16254, 'schweinerei': 16255, 'brasilianischen': 16256, 'wunschkandidat': 16257, 'maerkte': 16258, 'landlosen': 16259, 'mst': 16260, 'obdachlosen': 16261, 'mtst': 16262, 'terrorismus': 16263, 'praeventivgesetzen': 16264, 'taten': 16265, 'folgenlos': 16266, 'gedeihen': 16267, 'bayerischen': 16268, 'ermaechtigungsgesetz': 16269, 'geradezu': 16270, 'legalisierung': 16271, 'polizeiwillkuer': 16272, 'willens': 16273, 'deckt': 16274, 'kriminalisie': 16275, 'selben': 16276, 'polizeirevier': 16277, 'mediziner': 16278, 'faelle': 16279, 'obduktionsfotos': 16280, 'sichtbaren': 16281, 'gefesselt': 16282, 'schlagstoecken': 16283, 'stiefeln': 16284, 'richtungen': 16285, 'traktie': 16286, '1980': 16287, 'muenchner': 16288, 'bombe': 16289, 'schwerste': 16290, 'lancie': 16291, 'einzeltaete': 16292, 'hese': 16293, 'uschen': 16294, 'verstaendnis': 16295, 'stellve': 16296, 'staatssekretaer': 16297, 'leugnet': 16298, 'apparate': 16299, 'staatsapparat': 16300, 'orientieren': 16301, 'volkstribun': 16302, 'gestuetzt': 16303, 'strassenmob': 16304, 'rechtssuspension': 16305, 'exekutiv': 16306, 'ermaechtigung': 16307, 'geschichtsvergessen': 16308, 'ahnungslos': 16309, 'blind': 16310, 'terrornetzwerk': 16311, 'migrantinnen': 16312, 'symbolik': 16313, 'gegenprotesten': 16314, 'nika': 16315, 'exifrecherche': 16316, 'c0109': 16317, 'stattfindenden': 16318, 'festivals': 16319, 'vernehmen': 16320, 'unserere': 16321, 'allgemeinen': 16322, 'kurdischem': 16323, 'ccc': 16324, 'zwiebelfreunden': 16325, 'linkem': 16326, 'repressionsalltag': 16327, 'polizeistaat': 16328, 'aktionswoche': 16329, 'thematisie': 16330, 'grefift': 16331, 'dschihadistischen': 16332, 'ellibobx02': 16333, 'ibrejkr': 16334, 'unverkuerzte': 16335, 'darstellung': 16336, 'nahostkonflikts': 16337, '280': 16338, 'schwerpunktsetzung': 16339, 'repraesentieren': 16340, 'fluechtlingsunterkunft': 16341, 'ellwangen': 16342, 'zurueckziehen': 16343, 'grossaufgebot': 16344, 'selbstorganisierung': 16345, 'mali': 16346, 'afganistan': 16347, 'ausgeweitet': 16348, 'hauptfeind': 16349, 'ouryjalloh': 16350, 'koalieren': 16351, 'radi0tv': 16352, 'worauf': 16353, 'unterschiede': 16354, '1913': 16355, 'eilungsfrage': 16356, 'eigentums': 16357, 'produktionsverhaeltnisse': 16358, 'soziale': 16359, 'auslandseinsaetze': 16360, 'pesco': 16361, 'massives': 16362, 'aufruestungsprogramm': 16363, 'militarismus': 16364, 'klassengesellschaft': 16365, 'ordnungsgelder': 16366, 'sleep': 16367, 'solidaritycity': 16368, 'ordnungspolitik': 16369, 'oekonom': 16370, 'ausgrenzung': 16371, 'rondenbarg': 16372, 'vorabend': 16373, 'demonstanten': 16374, 'fabio': 16375, 'konstruie': 16376, 'verdichten': 16377, 'gerodet': 16378, 'solidarisie': 16379, 'energiemultis': 16380, 'gittern': 16381, 'freefabio': 16382, 'antirepression': 16383, 'wahlerfolg': 16384, 'prognostizie': 16385, 'riot': 16386, 'kollektiven': 16387, 'aufarbeitung': 16388, 'koz': 16389, 'eingesetze': 16390, 'repressionskraefte': 16391, 'kontrollverlust': 16392, 'produktionsmittel': 16393, 'banken': 16394, 'vergesellschaftet': 16395, 'arabiens': 16396, 'exzessen': 16397, 'rechtswidriger': 16398, 'flaechendeckenden': 16399, 'geheimdienste': 16400, 'afghan': 16401, '0628': 16402, '0634': 16403, '0645': 16404, '0647': 16405, '0631': 16406, '06cc': 16407, '0641': 16408, '063a': 16409, 'kundus': 16410, 'kriegsursachen': 16411, 'unterbrechen': 16412, 'bundesanwaltschaft': 16413, 'gerichtssaal': 16414, 'mangelhafter': 16415, 'terroru': 16416, 'bewaehrung': 16417, 'unschuldsvermutung': 16418, 'ade': 16419, 'datei': 16420, 'widerstandsspektrum': 16421, 'erfassen': 16422, 'kriminalisieren': 16423, 'morde': 16424, 'aufgeflogen': 16425, 'hessischer': 16426, 'sper': 16427, 'abschlussbericht': 16428, 'rekordzeit': 16429, 'schuldbekenntnis': 16430, 'allerlei': 16431, 'faschistischem': 16432, 'geschmeiss': 16433, 'repressionsorgane': 16434, 'abschaltung': 16435, 'indy': 16436, 'linksunten': 16437, 'wiederkommen': 16438, 'freemedia': 16439, 'haft': 16440, '18jaehrigen': 16441, 'anlage': 16442, 'erziehungsmaengel': 16443, 'schaedlicher': 16444, 'multimedia': 16445, 'reformation': 16446, 'zugticketverkauf': 16447, 'haende': 16448, 'besetzten': 16449, 'haeusern': 16450, 'athen': 16451, 'solikundgebung': 16452, 'griechischen': 16453, 'izffm': 16454, 'offizielle': 16455, 'lutherjahr': 16456, 'westbahnhof': 16457, 'nazimuell': 16458, 'verklebt': 16459, 'watch': 16460, 'mrcl': 16461, 'mrvls': 16462, 'konferenz': 16463, 'zusammenfuehrung': 16464, 'polizeilicher': 16465, '113': 16466, 'verschaerft': 16467, 'verzoege': 16468, 'afdler': 16469, 'starkem': 16470, 'polizeischutz': 16471, 'wetzlar': 16472, 'militant': 16473, 'erkenn': 16474, 'ansprechbar': 16475, 'kongress': 16476, 'mittelmeer': 16477, 'ueberwinden': 16478, 'bi': 16479, 'hday': 16480, 'sehid': 16481, 'namirin': 16482, 'ivana': 16483, 'uebung': 16484, 'getex': 16485, 'trainieren': 16486, 'erstmals': 16487, 'etappe': 16488, 'autoritaerem': 16489, 'jonas': 16490, 'fedders': 16491, 'zweimonatiger': 16492, 'sperre': 16493, 'fluchtursachent': 16494, 'nuernberg': 16495, 'kpd': 16496, '129': 16497, 'verfolgung': 16498, 'aeussere': 16499, 'aufruestung': 16500, '2300': 16501, 'gsg9': 16502, 'cobras': 16503, 'feldjaeger': 16504, 'reserve': 16505, 'freiwilligenverbaende': 16506, 'inlandseinsatz': 16507, 'schatten': 16508, 'ausnahmezustands': 16509, 'umkaempftes': 16510, 'arbeitsmarktgesetz': 16511, 'loitravail': 16512, 'verabschiedet': 16513, 'ausnahmezustand': 16514, 'massenverhaftungen': 16515, 'aufhebung': 16516, 'kurdinnen': 16517, 'oppositionelle': 16518, 'galten': 16519, 'putschversuch': 16520, 'demokratiebegriff': 16521, 'eidigende': 16522, 'verhaftungen': 16523, 'lynchmobs': 16524, 'agent': 16525, 'unglaubwuerdig': 16526, 'nebenklage': 16527, 'unwiderlegt': 16528, 'interne': 16529, 'einschaetzungen': 16530, 'nachlesen': 16531, 'abschnitt': 16532, 'befragen': 16533, 'bloecke': 16534, 'etlicher': 16535, 'zweifelhafter': 16536, 'interna': 16537, 'solcherlei': 16538, 'obs': 16539, 'koenig': 16540, 'puncto': 16541, 'sozialfaschismus': 16542, 'debettenbeiraege': 16543, 'entscheidender': 16544, 'desillsuion': 16545, 'staatsbuergerschaften': 16546, 'teilnehmern': 16547, 'nazifrei': 16548, '1004ffm': 16549, 'einheitsfront': 16550, 'vereinte': 16551, 'kennedyallee': 16552, '117': 16553, 'zivilisten': 16554, 'free': 16555, 'leonardpeltier': 16556, 'indigenen': 16557, 'unrechtmaessig': 16558, '4000': 16559, 'prag': 16560, 'amsterdam': 16561, 'ausgerechnet': 16562, 'machtuebe': 16563, 'ragung': 16564, 'nsdap': 16565, 'fackelmarsch': 16566, 'buedingen': 16567, 'durchfuehren': 16568, 'freeahmedsaid': 16569, 'generalkonsulat': 16570, 'eysseneckstrasse': 16571, 'mensa': 16572, 'infostand': 16573, 'konsultation': 16574, 'frontstaat': 16575, 'gefahrengebiete': 16576, 'provokationen': 16577, 'praeventive': 16578, 'aufstandsbekaempfung': 16579, 'rigaer': 16580, 'knallen': 16581, 'bornheim': 16582, 'einreissen': 16583, 'abschiebungen': 16584, 'naziuntergrund': 16585, 'unbestraft': 16586, 'milde': 16587, 'uwes': 16588, 'zschaepes': 16589, 'bekraeftigt': 16590, 'baw': 16591, 'diktie': 16592, 'siche': 16593, 'konstrukt': 16594, 'verdunkelung': 16595, 'hungerstreik': 16596, '52': 16597, 'gleis': 16598, 'kurd': 16599, 'anwalts': 16600, 'tahir': 16601, 'elci': 16602, 'stoppt': 16603, 'staatsterror': 16604, 'weinheim': 16605, '130': 16606, 'nd': 16607, 'carlo': 16608, 'giuliani': 16609, 'giuliano': 16610, 'internationales': 16611, 'rechtspopulistin': 16612, 'abschieben': 16613, 'gutleut': 16614, 'fck': 16615, 'tgb': 16616, 'solikundgebungen': 16617, 'kirchplatz': 16618, 'mainz': 16619, 'geldspendeabend': 16620, 'main': 16621, 'ankommen': 16622, 'begruessung': 16623, 'yxkonline': 16624, 'studi': 16625, 'iabffm': 16626, 'derzeitigen': 16627, 'suruc': 16628, 'projectsheltercamp': 16629, 'afrikapolitik': 16630, 'militarisierung': 16631, 'solidaritaetskueche': 16632, 'bedraengten': 16633, 'freital': 16634, 'aufrufende': 16635, 'ciwanen': 16636, 'hinweisen': 16637, 'gegeninformationen': 16638, 'rassistenaufmarsch': 16639, 'desaster': 16640, 'derzeitiger': 16641, 'nowow2006': 16642, 'stopwow': 16643, 'belasten': 16644, 'beamten': 16645, 'schmauchspuren': 16646, 'handschuhen': 16647, 'entsprechen': 16648, 'mordserie': 16649, 'attentaeter': 16650, 'aehnlichkeit': 16651, 'aktionszelt': 16652, 'reinhard': 16653, 'ukrainischen': 16654, 'auffuehrung': 16655, 'lauffeuer': 16656, 'dokzu': 16657, 'odessa': 16658, 'borotbaorg': 16659, 'antirassistische': 16660, 'bildungsstreik': 16661, 'solidaritaets': 16662, 'koblenzer': 16663, 'abendlandve': 16664, 'inhaftie': 16665, 'ronneburgstrasse': 16666, 'goetheplatz': 16667, 'nachfolger': 16668, 'menschenblockaden': 16669, 'barrikaden': 16670, 'belage': 16671, 'floesserbruecke': 16672, 'wasserwerfern': 16673, 'osthafenbruecke': 16674, 'massenweise': 16675, 'bullenrevier': 16676, 'feuerspektakel': 16677, 'daheimgebliebenen': 16678, 'vollversammlung': 16679, 'cafe': 16680, 'leipziger': 16681, '91': 16682, 'basteltreffen': 16683, 'klapperfeld': 16684, 'schweinen': 16685, 'crew': 16686, 'fotojournalisten': 16687, 'angegangen': 16688, 'umgedreht': 16689, 'becher': 16690, 'krankheitsbedingt': 16691, 'entfallen': 16692, 'nachgeholt': 16693, 'zehn': 16694, 'fn': 16695, 'antinazi': 16696, 'ludwigshafen': 16697, '1300': 16698, 'blockadepunkten': 16699, 'befreit': 16700, 'area': 16701, 'gedenkdemonstration': 16702, 'ermordeten': 16703, 'lokale': 16704, 'gegendemo': 16705, 'giessener': 16706, 'bekanntgegeben': 16707, 'eritraeischer': 16708, 'blutueberstroemt': 16709, 'peace': 16710, 'fckpegida': 16711, 'brill': 16712, 'jagsch': 16713, 'bleibe': 16714, 'bor': 16715, 'derffm': 16716, 'imk': 16717, 'bustickets': 16718, '78': 16719, 'revolutionaer': 16720, 'anarchosyndikalist': 16721, 'buenaventura': 16722, 'durruti': 16723, 'dumange': 16724, 'schussverletzung': 16725, 'russische': 16726, 'ivan': 16727, 'khutorskoy': 16728, 'palomino': 16729, 'madrid': 16730, 'nosotros': 16731, 'olvidamos': 16732, 'israelischen': 16733, 'aktivistengruppe': 16734, 'grossdemonstration': 16735, 'delegationsbericht': 16736, 'atik': 16737, 'ydg': 16738, 'demotermine': 16739, 'koban': 16740, 'update': 16741, 'konstablerwache': 16742, 'wiesbaden': 16743, 'eingang': 16744, 'drohende': 16745, 'ypg': 16746, 'canceln': 16747, 'internationalistischen': 16748, 'geplanter': 16749, 'bundesweiter': 16750, 'mobilisierungen': 16751, 'bedrohlichen': 16752, 'civaka': 16753, 'ulla': 16754, 'mahnwachen': 16755, 'freegaza': 16756, 'fckisis': 16757, 'lice': 16758, 'dublin': 16759, 'selbstorganisie': 16760, 'kurdische': 16761, 'zivilistinnen': 16762, 'bundesweit': 16763, 'spanischen': 16764, 'exklave': 16765, 'melilla': 16766, 'ueberwunden': 16767, 'freedom': 16768, 'everybodies': 16769, 'noborder': 16770, 'picknick': 16771, 'taksim': 16772, 'empfehlt': 16773}\n"
          ]
        }
      ]
    },
    {
      "cell_type": "markdown",
      "source": [
        "# encoding or sequencing\n"
      ],
      "metadata": {
        "id": "mRzlwLYqKY8k"
      }
    },
    {
      "cell_type": "code",
      "source": [
        "encoded_clean_text_stem = tok_all.texts_to_sequences(clean_text_stem)\n",
        "print(clean_text_stem[0])\n",
        "print(encoded_clean_text_stem[0])"
      ],
      "metadata": {
        "colab": {
          "base_uri": "https://localhost:8080/"
        },
        "id": "LvQYVAQ9KUa0",
        "outputId": "284d683b-5d5d-46d5-cf15-0f6162dee48e"
      },
      "execution_count": null,
      "outputs": [
        {
          "output_type": "stream",
          "name": "stdout",
          "text": [
            " jouwatch polizei kanone mehr   20 mal munition laufen lassen ruhe .\n",
            "[174, 130, 6387, 7, 59, 5, 3922, 603, 56, 846]\n"
          ]
        }
      ]
    },
    {
      "cell_type": "markdown",
      "source": [
        "# Pre-padding\n"
      ],
      "metadata": {
        "id": "wWorwY-hKcBK"
      }
    },
    {
      "cell_type": "code",
      "source": [
        "from keras.preprocessing import sequence\n",
        "max_length = 100\n",
        "padded_clean_text_stem = sequence.pad_sequences(encoded_clean_text_stem, maxlen=max_length, padding='pre')"
      ],
      "metadata": {
        "id": "v911ZLQqKfPi"
      },
      "execution_count": null,
      "outputs": []
    },
    {
      "cell_type": "code",
      "source": [],
      "metadata": {
        "id": "sQQTtijOkqE9"
      },
      "execution_count": null,
      "outputs": []
    },
    {
      "cell_type": "markdown",
      "source": [
        "# Reading Test data and Pre-processing\n"
      ],
      "metadata": {
        "id": "jYqmeRiXKhu7"
      }
    },
    {
      "cell_type": "code",
      "source": [
        "import csv\n",
        "data_t = pd.read_csv(\"/content/germeval2018test.txt\",sep='\\t', encoding = \"UTF-8\", quoting=csv.QUOTE_NONE, names=(\"text\", \"task1\", \"task2\"))\n",
        "pd.set_option('display.max_colwidth',150)\n",
        "data_t.head(10)\n",
        "\n"
      ],
      "metadata": {
        "colab": {
          "base_uri": "https://localhost:8080/",
          "height": 363
        },
        "id": "pLKHp4MaKhSs",
        "outputId": "d4861387-5f57-4eef-c50f-c036c11e33e5"
      },
      "execution_count": null,
      "outputs": [
        {
          "output_type": "execute_result",
          "data": {
            "text/plain": [
              "                                                                                                                                                    text  \\\n",
              "0                           Meine Mutter hat mir erzählt, dass mein Vater einen Wahlkreiskandidaten nicht gewählt hat, weil der gegen die Homo-Ehe ist ☺   \n",
              "1  @Tom174_ @davidbest95 Meine Reaktion; |LBR| Nicht jeder Moslem ist ein Terrorist. Aber jeder Moslem glaubt an Überlieferungen, die Gewalt und Terr...   \n",
              "2            #Merkel rollt dem Emir von #Katar, der islamistischen Terror unterstützt, den roten Teppich aus.Wir brauchen einen sofortigen #Waffenstopp!   \n",
              "3                                                                                      „Merle ist kein junges unschuldiges Mädchen“ Kch....... 😱 #tatort   \n",
              "4                               @umweltundaktiv Asylantenflut bringt eben nur negatives für Deutschland. Drum Asylanenstop und Rückführung der Mehrzahl.   \n",
              "5                                                                          @_StultaMundi Die Bibel enthält ebenfalls Gesetze des Zivil- und Strafrechts.   \n",
              "6                                     @Thueringen_ @Miquwarchar @Pontifex_de Man munkelt, Franziskus ist großer \"Kiss\"- und \"Black Sabbath\"-Fan! #RockOn   \n",
              "7                       @hugresch @saltomentale Seit dem ist die Gesellschaft noch einmal deutlich vielfältiger geworden, auch durch die Globalisierung.   \n",
              "8                                                   \"Wenn man Mädchen bildet, bildet man Generationen\" - Aqeela Asifi, Gewinnerin des #NansenAward 2015.   \n",
              "9  @FeePatzer Frauen zu einem \"Ja\" zu überreden, ist nicht selten erfolgreich. Viele Frauen wollen nicht als zu leicht zu haben angesehen werden. Ode...   \n",
              "\n",
              "     task1  task2  \n",
              "0    OTHER  OTHER  \n",
              "1    OTHER  OTHER  \n",
              "2    OTHER  OTHER  \n",
              "3    OTHER  OTHER  \n",
              "4  OFFENSE  ABUSE  \n",
              "5    OTHER  OTHER  \n",
              "6    OTHER  OTHER  \n",
              "7    OTHER  OTHER  \n",
              "8    OTHER  OTHER  \n",
              "9  OFFENSE  ABUSE  "
            ],
            "text/html": [
              "\n",
              "  <div id=\"df-1f7ee064-d1d0-49ce-b984-09bc02a217e6\">\n",
              "    <div class=\"colab-df-container\">\n",
              "      <div>\n",
              "<style scoped>\n",
              "    .dataframe tbody tr th:only-of-type {\n",
              "        vertical-align: middle;\n",
              "    }\n",
              "\n",
              "    .dataframe tbody tr th {\n",
              "        vertical-align: top;\n",
              "    }\n",
              "\n",
              "    .dataframe thead th {\n",
              "        text-align: right;\n",
              "    }\n",
              "</style>\n",
              "<table border=\"1\" class=\"dataframe\">\n",
              "  <thead>\n",
              "    <tr style=\"text-align: right;\">\n",
              "      <th></th>\n",
              "      <th>text</th>\n",
              "      <th>task1</th>\n",
              "      <th>task2</th>\n",
              "    </tr>\n",
              "  </thead>\n",
              "  <tbody>\n",
              "    <tr>\n",
              "      <th>0</th>\n",
              "      <td>Meine Mutter hat mir erzählt, dass mein Vater einen Wahlkreiskandidaten nicht gewählt hat, weil der gegen die Homo-Ehe ist ☺</td>\n",
              "      <td>OTHER</td>\n",
              "      <td>OTHER</td>\n",
              "    </tr>\n",
              "    <tr>\n",
              "      <th>1</th>\n",
              "      <td>@Tom174_ @davidbest95 Meine Reaktion; |LBR| Nicht jeder Moslem ist ein Terrorist. Aber jeder Moslem glaubt an Überlieferungen, die Gewalt und Terr...</td>\n",
              "      <td>OTHER</td>\n",
              "      <td>OTHER</td>\n",
              "    </tr>\n",
              "    <tr>\n",
              "      <th>2</th>\n",
              "      <td>#Merkel rollt dem Emir von #Katar, der islamistischen Terror unterstützt, den roten Teppich aus.Wir brauchen einen sofortigen #Waffenstopp!</td>\n",
              "      <td>OTHER</td>\n",
              "      <td>OTHER</td>\n",
              "    </tr>\n",
              "    <tr>\n",
              "      <th>3</th>\n",
              "      <td>„Merle ist kein junges unschuldiges Mädchen“ Kch....... 😱 #tatort</td>\n",
              "      <td>OTHER</td>\n",
              "      <td>OTHER</td>\n",
              "    </tr>\n",
              "    <tr>\n",
              "      <th>4</th>\n",
              "      <td>@umweltundaktiv Asylantenflut bringt eben nur negatives für Deutschland. Drum Asylanenstop und Rückführung der Mehrzahl.</td>\n",
              "      <td>OFFENSE</td>\n",
              "      <td>ABUSE</td>\n",
              "    </tr>\n",
              "    <tr>\n",
              "      <th>5</th>\n",
              "      <td>@_StultaMundi Die Bibel enthält ebenfalls Gesetze des Zivil- und Strafrechts.</td>\n",
              "      <td>OTHER</td>\n",
              "      <td>OTHER</td>\n",
              "    </tr>\n",
              "    <tr>\n",
              "      <th>6</th>\n",
              "      <td>@Thueringen_ @Miquwarchar @Pontifex_de Man munkelt, Franziskus ist großer \"Kiss\"- und \"Black Sabbath\"-Fan! #RockOn</td>\n",
              "      <td>OTHER</td>\n",
              "      <td>OTHER</td>\n",
              "    </tr>\n",
              "    <tr>\n",
              "      <th>7</th>\n",
              "      <td>@hugresch @saltomentale Seit dem ist die Gesellschaft noch einmal deutlich vielfältiger geworden, auch durch die Globalisierung.</td>\n",
              "      <td>OTHER</td>\n",
              "      <td>OTHER</td>\n",
              "    </tr>\n",
              "    <tr>\n",
              "      <th>8</th>\n",
              "      <td>\"Wenn man Mädchen bildet, bildet man Generationen\" - Aqeela Asifi, Gewinnerin des #NansenAward 2015.</td>\n",
              "      <td>OTHER</td>\n",
              "      <td>OTHER</td>\n",
              "    </tr>\n",
              "    <tr>\n",
              "      <th>9</th>\n",
              "      <td>@FeePatzer Frauen zu einem \"Ja\" zu überreden, ist nicht selten erfolgreich. Viele Frauen wollen nicht als zu leicht zu haben angesehen werden. Ode...</td>\n",
              "      <td>OFFENSE</td>\n",
              "      <td>ABUSE</td>\n",
              "    </tr>\n",
              "  </tbody>\n",
              "</table>\n",
              "</div>\n",
              "      <button class=\"colab-df-convert\" onclick=\"convertToInteractive('df-1f7ee064-d1d0-49ce-b984-09bc02a217e6')\"\n",
              "              title=\"Convert this dataframe to an interactive table.\"\n",
              "              style=\"display:none;\">\n",
              "        \n",
              "  <svg xmlns=\"http://www.w3.org/2000/svg\" height=\"24px\"viewBox=\"0 0 24 24\"\n",
              "       width=\"24px\">\n",
              "    <path d=\"M0 0h24v24H0V0z\" fill=\"none\"/>\n",
              "    <path d=\"M18.56 5.44l.94 2.06.94-2.06 2.06-.94-2.06-.94-.94-2.06-.94 2.06-2.06.94zm-11 1L8.5 8.5l.94-2.06 2.06-.94-2.06-.94L8.5 2.5l-.94 2.06-2.06.94zm10 10l.94 2.06.94-2.06 2.06-.94-2.06-.94-.94-2.06-.94 2.06-2.06.94z\"/><path d=\"M17.41 7.96l-1.37-1.37c-.4-.4-.92-.59-1.43-.59-.52 0-1.04.2-1.43.59L10.3 9.45l-7.72 7.72c-.78.78-.78 2.05 0 2.83L4 21.41c.39.39.9.59 1.41.59.51 0 1.02-.2 1.41-.59l7.78-7.78 2.81-2.81c.8-.78.8-2.07 0-2.86zM5.41 20L4 18.59l7.72-7.72 1.47 1.35L5.41 20z\"/>\n",
              "  </svg>\n",
              "      </button>\n",
              "      \n",
              "  <style>\n",
              "    .colab-df-container {\n",
              "      display:flex;\n",
              "      flex-wrap:wrap;\n",
              "      gap: 12px;\n",
              "    }\n",
              "\n",
              "    .colab-df-convert {\n",
              "      background-color: #E8F0FE;\n",
              "      border: none;\n",
              "      border-radius: 50%;\n",
              "      cursor: pointer;\n",
              "      display: none;\n",
              "      fill: #1967D2;\n",
              "      height: 32px;\n",
              "      padding: 0 0 0 0;\n",
              "      width: 32px;\n",
              "    }\n",
              "\n",
              "    .colab-df-convert:hover {\n",
              "      background-color: #E2EBFA;\n",
              "      box-shadow: 0px 1px 2px rgba(60, 64, 67, 0.3), 0px 1px 3px 1px rgba(60, 64, 67, 0.15);\n",
              "      fill: #174EA6;\n",
              "    }\n",
              "\n",
              "    [theme=dark] .colab-df-convert {\n",
              "      background-color: #3B4455;\n",
              "      fill: #D2E3FC;\n",
              "    }\n",
              "\n",
              "    [theme=dark] .colab-df-convert:hover {\n",
              "      background-color: #434B5C;\n",
              "      box-shadow: 0px 1px 3px 1px rgba(0, 0, 0, 0.15);\n",
              "      filter: drop-shadow(0px 1px 2px rgba(0, 0, 0, 0.3));\n",
              "      fill: #FFFFFF;\n",
              "    }\n",
              "  </style>\n",
              "\n",
              "      <script>\n",
              "        const buttonEl =\n",
              "          document.querySelector('#df-1f7ee064-d1d0-49ce-b984-09bc02a217e6 button.colab-df-convert');\n",
              "        buttonEl.style.display =\n",
              "          google.colab.kernel.accessAllowed ? 'block' : 'none';\n",
              "\n",
              "        async function convertToInteractive(key) {\n",
              "          const element = document.querySelector('#df-1f7ee064-d1d0-49ce-b984-09bc02a217e6');\n",
              "          const dataTable =\n",
              "            await google.colab.kernel.invokeFunction('convertToInteractive',\n",
              "                                                     [key], {});\n",
              "          if (!dataTable) return;\n",
              "\n",
              "          const docLinkHtml = 'Like what you see? Visit the ' +\n",
              "            '<a target=\"_blank\" href=https://colab.research.google.com/notebooks/data_table.ipynb>data table notebook</a>'\n",
              "            + ' to learn more about interactive tables.';\n",
              "          element.innerHTML = '';\n",
              "          dataTable['output_type'] = 'display_data';\n",
              "          await google.colab.output.renderOutput(dataTable, element);\n",
              "          const docLink = document.createElement('div');\n",
              "          docLink.innerHTML = docLinkHtml;\n",
              "          element.appendChild(docLink);\n",
              "        }\n",
              "      </script>\n",
              "    </div>\n",
              "  </div>\n",
              "  "
            ]
          },
          "metadata": {},
          "execution_count": 27
        }
      ]
    },
    {
      "cell_type": "code",
      "source": [
        "data_t.shape"
      ],
      "metadata": {
        "colab": {
          "base_uri": "https://localhost:8080/"
        },
        "id": "QrkMiNNVKrH_",
        "outputId": "ac0733c5-cb64-4bb1-8672-355f6337ffe9"
      },
      "execution_count": null,
      "outputs": [
        {
          "output_type": "execute_result",
          "data": {
            "text/plain": [
              "(3532, 3)"
            ]
          },
          "metadata": {},
          "execution_count": 28
        }
      ]
    },
    {
      "cell_type": "code",
      "source": [
        "print(data_t.dtypes)"
      ],
      "metadata": {
        "colab": {
          "base_uri": "https://localhost:8080/"
        },
        "id": "MSYUUjUQKuqR",
        "outputId": "e2f845f3-b8b5-48f0-c4b3-9ba765f8ba11"
      },
      "execution_count": null,
      "outputs": [
        {
          "output_type": "stream",
          "name": "stdout",
          "text": [
            "text     object\n",
            "task1    object\n",
            "task2    object\n",
            "dtype: object\n"
          ]
        }
      ]
    },
    {
      "cell_type": "code",
      "source": [
        "\n",
        "\n",
        "label_t = data_t['task1']\n",
        "label_t.head()\n",
        "\n"
      ],
      "metadata": {
        "colab": {
          "base_uri": "https://localhost:8080/"
        },
        "id": "o-We4mNjKwHA",
        "outputId": "696a878a-ae1b-4ea6-c6b0-14162c9cd307"
      },
      "execution_count": null,
      "outputs": [
        {
          "output_type": "execute_result",
          "data": {
            "text/plain": [
              "0      OTHER\n",
              "1      OTHER\n",
              "2      OTHER\n",
              "3      OTHER\n",
              "4    OFFENSE\n",
              "Name: task1, dtype: object"
            ]
          },
          "metadata": {},
          "execution_count": 30
        }
      ]
    },
    {
      "cell_type": "code",
      "source": [
        "print(label_t.value_counts())\n",
        "import matplotlib.pyplot as plt\n",
        "label_t.value_counts().plot(kind='bar', color='red')"
      ],
      "metadata": {
        "colab": {
          "base_uri": "https://localhost:8080/",
          "height": 370
        },
        "id": "EO_U9aM1Kxpa",
        "outputId": "658ad6a6-3884-4a86-a0f7-c15a7962bf00"
      },
      "execution_count": null,
      "outputs": [
        {
          "output_type": "stream",
          "name": "stdout",
          "text": [
            "OTHER      2330\n",
            "OFFENSE    1202\n",
            "Name: task1, dtype: int64\n"
          ]
        },
        {
          "output_type": "execute_result",
          "data": {
            "text/plain": [
              "<matplotlib.axes._subplots.AxesSubplot at 0x7fa8114d2290>"
            ]
          },
          "metadata": {},
          "execution_count": 31
        },
        {
          "output_type": "display_data",
          "data": {
            "text/plain": [
              "<Figure size 432x288 with 1 Axes>"
            ],
            "image/png": "[encoded data removed]"
          },
          "metadata": {
            "needs_background": "light"
          }
        }
      ]
    },
    {
      "cell_type": "code",
      "source": [
        "\n",
        "\n",
        "import numpy as np\n",
        "classes_list_t = [\"OFFENSE\",\"OTHER\"]\n",
        "label_t_index = data_t['task1'].apply(classes_list_t.index)\n",
        "final_label_t = np.asarray(label_t_index)\n",
        "print(final_label_t[:10])\n",
        "\n"
      ],
      "metadata": {
        "colab": {
          "base_uri": "https://localhost:8080/"
        },
        "id": "ckCObbaYKzZz",
        "outputId": "cec12312-e3cf-4aa8-83de-bc660e4cfa68"
      },
      "execution_count": null,
      "outputs": [
        {
          "output_type": "stream",
          "name": "stdout",
          "text": [
            "[1 1 1 1 0 1 1 1 1 0]\n"
          ]
        }
      ]
    },
    {
      "cell_type": "code",
      "source": [
        "\n",
        "\n",
        "from keras.utils.np_utils import to_categorical\n",
        "label_twoDimension_t = to_categorical(final_label_t, num_classes=2)\n",
        "\n"
      ],
      "metadata": {
        "id": "JivaT_m3K1Ww"
      },
      "execution_count": null,
      "outputs": []
    },
    {
      "cell_type": "code",
      "source": [
        "print(label_twoDimension_t[:10])"
      ],
      "metadata": {
        "colab": {
          "base_uri": "https://localhost:8080/"
        },
        "id": "U1SXNpS7K3L5",
        "outputId": "694441f6-f41d-4662-b795-1d91768dffda"
      },
      "execution_count": null,
      "outputs": [
        {
          "output_type": "stream",
          "name": "stdout",
          "text": [
            "[[0. 1.]\n",
            " [0. 1.]\n",
            " [0. 1.]\n",
            " [0. 1.]\n",
            " [1. 0.]\n",
            " [0. 1.]\n",
            " [0. 1.]\n",
            " [0. 1.]\n",
            " [0. 1.]\n",
            " [1. 0.]]\n"
          ]
        }
      ]
    },
    {
      "cell_type": "code",
      "source": [
        "\n",
        "\n",
        "text_t = data_t['text']\n",
        "text_t.head(10)\n",
        "\n"
      ],
      "metadata": {
        "colab": {
          "base_uri": "https://localhost:8080/"
        },
        "id": "B4ok6nElK4sb",
        "outputId": "ffed8f34-2eec-4156-ae75-9ce6fc1a3007"
      },
      "execution_count": null,
      "outputs": [
        {
          "output_type": "execute_result",
          "data": {
            "text/plain": [
              "0                             Meine Mutter hat mir erzählt, dass mein Vater einen Wahlkreiskandidaten nicht gewählt hat, weil der gegen die Homo-Ehe ist ☺\n",
              "1    @Tom174_ @davidbest95 Meine Reaktion; |LBR| Nicht jeder Moslem ist ein Terrorist. Aber jeder Moslem glaubt an Überlieferungen, die Gewalt und Terr...\n",
              "2              #Merkel rollt dem Emir von #Katar, der islamistischen Terror unterstützt, den roten Teppich aus.Wir brauchen einen sofortigen #Waffenstopp!\n",
              "3                                                                                        „Merle ist kein junges unschuldiges Mädchen“ Kch....... 😱 #tatort\n",
              "4                                 @umweltundaktiv Asylantenflut bringt eben nur negatives für Deutschland. Drum Asylanenstop und Rückführung der Mehrzahl.\n",
              "5                                                                            @_StultaMundi Die Bibel enthält ebenfalls Gesetze des Zivil- und Strafrechts.\n",
              "6                                       @Thueringen_ @Miquwarchar @Pontifex_de Man munkelt, Franziskus ist großer \"Kiss\"- und \"Black Sabbath\"-Fan! #RockOn\n",
              "7                         @hugresch @saltomentale Seit dem ist die Gesellschaft noch einmal deutlich vielfältiger geworden, auch durch die Globalisierung.\n",
              "8                                                     \"Wenn man Mädchen bildet, bildet man Generationen\" - Aqeela Asifi, Gewinnerin des #NansenAward 2015.\n",
              "9    @FeePatzer Frauen zu einem \"Ja\" zu überreden, ist nicht selten erfolgreich. Viele Frauen wollen nicht als zu leicht zu haben angesehen werden. Ode...\n",
              "Name: text, dtype: object"
            ]
          },
          "metadata": {},
          "execution_count": 35
        }
      ]
    },
    {
      "cell_type": "code",
      "source": [
        "test_wo_umlauts = text_t.apply(lambda x: remove_umlaut(x))"
      ],
      "metadata": {
        "id": "N7fvvsExPnYn"
      },
      "execution_count": null,
      "outputs": []
    },
    {
      "cell_type": "code",
      "source": [],
      "metadata": {
        "id": "lxCHAymQPnw7"
      },
      "execution_count": null,
      "outputs": []
    },
    {
      "cell_type": "code",
      "source": [
        "\n",
        "\n",
        "import re \n",
        "\n",
        "def text_clean(text):\n",
        "    ''' Pre process and convert texts to a list of words '''\n",
        "    \n",
        "    text=text.lower()\n",
        "\n",
        "    # Clean the text\n",
        "    text = re.sub(r\"[^A-Za-z0-9^,!.\\/'+-=]\", \" \", text)\n",
        "    text = re.sub('https?://\\S+|www\\.\\S+', \"\", text)\n",
        "    text = re.sub(r\"rt\", \" \", text)\n",
        "\n",
        "    return text\n",
        "\n"
      ],
      "metadata": {
        "id": "1slTVaWDK6LP"
      },
      "execution_count": null,
      "outputs": []
    },
    {
      "cell_type": "code",
      "source": [
        "clean_text_t = test_wo_umlauts.apply(lambda x:text_clean(x))"
      ],
      "metadata": {
        "id": "P6zJo8oXK75p"
      },
      "execution_count": null,
      "outputs": []
    },
    {
      "cell_type": "code",
      "source": [
        "clean_text_t.head(10)"
      ],
      "metadata": {
        "colab": {
          "base_uri": "https://localhost:8080/"
        },
        "id": "1vIn6oXdK9ug",
        "outputId": "2837f878-0415-42fb-93c0-2f069a2f3825"
      },
      "execution_count": null,
      "outputs": [
        {
          "output_type": "execute_result",
          "data": {
            "text/plain": [
              "0                           meine mutter hat mir erzaehlt, dass mein vater einen wahlkreiskandidaten nicht gewaehlt hat, weil der gegen die homo-ehe ist  \n",
              "1     tom174   davidbest95 meine reaktion;  lbr  nicht jeder moslem ist ein terrorist. aber jeder moslem glaubt an ueberlieferungen, die gewalt und ter...\n",
              "2               merkel rollt dem emir von  katar, der islamistischen terror unterstuetzt, den roten teppich aus.wir brauchen einen sofo igen  waffenstopp!\n",
              "3                                                                                         merle ist kein junges unschuldiges maedchen  kch.......    tato \n",
              "4                               umweltundaktiv asylantenflut bringt eben nur negatives fuer deutschland. drum asylanenstop und rueckfuehrung der mehrzahl.\n",
              "5                                                                             stultamundi die bibel enthaelt ebenfalls gesetze des zivil- und strafrechts.\n",
              "6                                       thueringen   miquwarchar  pontifex de man munkelt, franziskus ist grosser  kiss - und  black sabbath -fan!  rockon\n",
              "7                         hugresch  saltomentale seit dem ist die gesellschaft noch einmal deutlich vielfaeltiger geworden, auch durch die globalisierung.\n",
              "8                                                     wenn man maedchen bildet, bildet man generationen  - aqeela asifi, gewinnerin des  nansenaward 2015.\n",
              "9     feepatzer frauen zu einem  ja  zu ueberreden, ist nicht selten erfolgreich. viele frauen wollen nicht als zu leicht zu haben angesehen werden. od...\n",
              "Name: text, dtype: object"
            ]
          },
          "metadata": {},
          "execution_count": 39
        }
      ]
    },
    {
      "cell_type": "code",
      "source": [
        "\n",
        "\n",
        "import nltk\n",
        "from nltk.corpus import stopwords\n",
        "nltk.download('stopwords')\n",
        "def stop_words_removal(text1):\n",
        "    text1=[w for w in  text1.split(\" \")  if w not in stopwords.words('german')]\n",
        "    return \" \".join(text1)\n",
        "\n"
      ],
      "metadata": {
        "colab": {
          "base_uri": "https://localhost:8080/"
        },
        "id": "EH37JPgIK_KB",
        "outputId": "bb5e7ee5-9415-4fde-80c1-d1b05fd1b22a"
      },
      "execution_count": null,
      "outputs": [
        {
          "output_type": "stream",
          "name": "stderr",
          "text": [
            "[nltk_data] Downloading package stopwords to /root/nltk_data...\n",
            "[nltk_data]   Package stopwords is already up-to-date!\n"
          ]
        }
      ]
    },
    {
      "cell_type": "code",
      "source": [
        "clean_text_t_ns=clean_text_t.apply(lambda x: stop_words_removal(x))"
      ],
      "metadata": {
        "id": "gXxxzc59LBBX"
      },
      "execution_count": null,
      "outputs": []
    },
    {
      "cell_type": "code",
      "source": [
        "print(clean_text_t_ns.head(10))"
      ],
      "metadata": {
        "colab": {
          "base_uri": "https://localhost:8080/"
        },
        "id": "TpppvvEbLCwK",
        "outputId": "13f5059b-cb6c-4c18-c3ae-5e8010c9106d"
      },
      "execution_count": null,
      "outputs": [
        {
          "output_type": "stream",
          "name": "stdout",
          "text": [
            "0                                                                             mutter erzaehlt, vater wahlkreiskandidaten gewaehlt hat, homo-ehe  \n",
            "1                              tom174   davidbest95 reaktion;  lbr  moslem terrorist. moslem glaubt ueberlieferungen, gewalt terror beguenstigen.\n",
            "2                            merkel rollt emir  katar, islamistischen terror unterstuetzt, roten teppich aus.wir brauchen sofo igen  waffenstopp!\n",
            "3                                                                                         merle junges unschuldiges maedchen  kch.......    tato \n",
            "4                                  umweltundaktiv asylantenflut bringt eben negatives fuer deutschland. drum asylanenstop rueckfuehrung mehrzahl.\n",
            "5                                                                                stultamundi bibel enthaelt ebenfalls gesetze zivil- strafrechts.\n",
            "6                                          thueringen   miquwarchar  pontifex de munkelt, franziskus grosser  kiss -  black sabbath -fan!  rockon\n",
            "7                                                       hugresch  saltomentale seit gesellschaft deutlich vielfaeltiger geworden, globalisierung.\n",
            "8                                                             maedchen bildet, bildet generationen  - aqeela asifi, gewinnerin  nansenaward 2015.\n",
            "9     feepatzer frauen  ja  ueberreden, selten erfolgreich. viele frauen leicht angesehen werden. moegen spiel. testen, wirklich interessie  ist.\n",
            "Name: text, dtype: object\n"
          ]
        }
      ]
    },
    {
      "cell_type": "markdown",
      "source": [
        "# Stemming"
      ],
      "metadata": {
        "id": "ekQq8jY5LGLH"
      }
    },
    {
      "cell_type": "code",
      "source": [
        "# Stemming\n",
        "from nltk.stem import SnowballStemmer \n",
        "stemmer = SnowballStemmer(\"german\")\n",
        "\n",
        "def word_stemmer(text):\n",
        "    stem_text = \"\".join([stemmer.stem(i) for i in text])\n",
        "    return stem_text"
      ],
      "metadata": {
        "id": "tpl3ie1dLEH4"
      },
      "execution_count": null,
      "outputs": []
    },
    {
      "cell_type": "code",
      "source": [
        "clean_text_t_stem = clean_text_t_ns.apply(lambda x : word_stemmer(x))"
      ],
      "metadata": {
        "id": "7TziiQXoLIBA"
      },
      "execution_count": null,
      "outputs": []
    },
    {
      "cell_type": "code",
      "source": [
        "print(clean_text_t_stem.head(10))"
      ],
      "metadata": {
        "colab": {
          "base_uri": "https://localhost:8080/"
        },
        "id": "XasJI_bZLJna",
        "outputId": "daede919-2f10-4b79-d0fa-e551b54aa3b1"
      },
      "execution_count": null,
      "outputs": [
        {
          "output_type": "stream",
          "name": "stdout",
          "text": [
            "0                                                                             mutter erzaehlt, vater wahlkreiskandidaten gewaehlt hat, homo-ehe  \n",
            "1                              tom174   davidbest95 reaktion;  lbr  moslem terrorist. moslem glaubt ueberlieferungen, gewalt terror beguenstigen.\n",
            "2                            merkel rollt emir  katar, islamistischen terror unterstuetzt, roten teppich aus.wir brauchen sofo igen  waffenstopp!\n",
            "3                                                                                         merle junges unschuldiges maedchen  kch.......    tato \n",
            "4                                  umweltundaktiv asylantenflut bringt eben negatives fuer deutschland. drum asylanenstop rueckfuehrung mehrzahl.\n",
            "5                                                                                stultamundi bibel enthaelt ebenfalls gesetze zivil- strafrechts.\n",
            "6                                          thueringen   miquwarchar  pontifex de munkelt, franziskus grosser  kiss -  black sabbath -fan!  rockon\n",
            "7                                                       hugresch  saltomentale seit gesellschaft deutlich vielfaeltiger geworden, globalisierung.\n",
            "8                                                             maedchen bildet, bildet generationen  - aqeela asifi, gewinnerin  nansenaward 2015.\n",
            "9     feepatzer frauen  ja  ueberreden, selten erfolgreich. viele frauen leicht angesehen werden. moegen spiel. testen, wirklich interessie  ist.\n",
            "Name: text, dtype: object\n"
          ]
        }
      ]
    },
    {
      "cell_type": "code",
      "source": [
        "\n",
        "\n",
        "import keras\n",
        "import tensorflow\n",
        "from keras.preprocessing.text import Tokenizer\n",
        "tok_test = Tokenizer(filters='!\"#$%&\\'()*+,-./:;<=>?@[\\\\]^_`{|}~', lower=True, char_level = False)\n",
        "tok_test.fit_on_texts(clean_text_t_stem)\n",
        "\n"
      ],
      "metadata": {
        "id": "heX7pGrELLAq"
      },
      "execution_count": null,
      "outputs": []
    },
    {
      "cell_type": "code",
      "source": [
        "\n",
        "\n",
        "vocabulary_all_test = len(tok_test.word_counts)\n",
        "print(vocabulary_all_test)\n",
        "\n"
      ],
      "metadata": {
        "colab": {
          "base_uri": "https://localhost:8080/"
        },
        "id": "i0deLjofLMxh",
        "outputId": "542ad810-d0b6-4813-e090-ebb96eab6a82"
      },
      "execution_count": null,
      "outputs": [
        {
          "output_type": "stream",
          "name": "stdout",
          "text": [
            "11999\n"
          ]
        }
      ]
    },
    {
      "cell_type": "code",
      "source": [
        "test_list = tok_test.word_index\n",
        "print(test_list)"
      ],
      "metadata": {
        "colab": {
          "base_uri": "https://localhost:8080/"
        },
        "id": "7aNXyczTLOTE",
        "outputId": "85554056-bb83-4f89-b463-a7b23b9d84bd"
      },
      "execution_count": null,
      "outputs": [
        {
          "output_type": "stream",
          "name": "stdout",
          "text": [
            "{'lbr': 1, 'fuer': 2, 'ja': 3, 'spd': 4, 'thomasmichael71': 5, 'mal': 6, 'miatamuc': 7, 'afd': 8, 'deutschland': 9, 'mehr': 10, 'frauen': 11, 'schon': 12, 'immer': 13, 'ist': 14, 'merkel': 15, 'mountainman1977': 16, 'gibt': 17, 'geht': 18, 'ueber': 19, 'nicht': 20, 'd': 21, 'beck': 22, 'e': 23, 'wer': 24, 'frau': 25, 'ma': 26, 'menschen': 27, 'gruenen': 28, 'werden': 29, 'pa': 30, 'heute': 31, 'rspctfl': 32, 'leben': 33, 'warum': 34, 'gut': 35, 'deutsche': 36, 'en': 37, 'ei': 38, 'houelle': 39, 'recht': 40, 'innenwelttramp': 41, 'waere': 42, 'haben': 43, 'koennen': 44, 'sein': 45, 'muessen': 46, 'cdu': 47, 'eigentlich': 48, 'deutschen': 49, 'ksemann2': 50, 'drkassandrapari': 51, 'wuerde': 52, 'genau': 53, 'f': 54, 'steht': 55, 'macht': 56, 'welt': 57, 've': 58, 'a': 59, 'tom174': 60, 'konseqliberal': 61, 'ergroovt': 62, 'einfach': 63, 'liebe': 64, 'nein': 65, 'besser': 66, 'islam': 67, 'endlich': 68, 'maenner': 69, 'fdp': 70, 'sind': 71, 'darf': 72, 'lassen': 73, 'kommt': 74, 'tun': 75, 'amp': 76, 'danke': 77, 'seit': 78, 'sj': 79, 'org': 80, 'u': 81, 'groko': 82, 'ha': 83, 'tschonka': 84, 'land': 85, 'gbs': 86, 'ganz': 87, 'fluechtlinge': 88, 'oadiakosmos': 89, 'fjordspringer': 90, 'schnubb36': 91, '3rd': 92, 'stone': 93, 'sun': 94, 'gselsbaer': 95, 'transsimian': 96, 'alfredandpaul': 97, 'tombell46959788': 98, 'kosmosoadia': 99, 'druzim': 100, 'dasebenbild': 101, 'apuleius': 102, 'karlrahner': 103, 'veronikusz': 104, 'ladyleliana': 105, 'vjanusch': 106, 'helma': 107, 'ifw': 108, 'stefanolix': 109, 'volk': 110, 'ab': 111, 'bundestag': 112, 'finde': 113, 'claudia': 114, 'wurde': 115, 'zeichentaten': 116, 'gerade': 117, 'hat': 118, 'gesellschaft': 119, 'herr': 120, 'lieber': 121, '1': 122, 'wdr': 123, 'nie': 124, 's': 125, 'freunde': 126, 'stapelchipsyt': 127, 'politik': 128, 'zeit': 129, 'spdde': 130, 'wird': 131, 'europa': 132, '2': 133, 'an': 134, 'mann': 135, 'freiheit': 136, 'sieht': 137, 'haette': 138, 'juden': 139, 'so': 140, 'hast': 141, 'inschulz': 142, 'richtig': 143, 'aus': 144, 'klar': 145, 'raus': 146, 'gott': 147, 'leider': 148, 'csu': 149, 'gewalt': 150, 'noafd': 151, 'auf': 152, 'berlin': 153, 'dafuer': 154, 'bereits': 155, 'gar': 156, 'gruene': 157, 'sagt': 158, 'erst': 159, 'de': 160, 'auswae': 161, 'ne': 162, 'vielleicht': 163, 'na': 164, 'problem': 165, 'tato': 166, 'wirklich': 167, 'lindner': 168, 'zeitonline': 169, 'scheisse': 170, 'dasstimmvieh': 171, 'linke': 172, 'ach': 173, 'indomig': 174, 'sofo': 175, 'religion': 176, 'jusos': 177, 'wegen': 178, 'beim': 179, 'regierung': 180, 'glaube': 181, 'kinder': 182, 'aktuellestunde': 183, 'dabei': 184, 'feminismus': 185, 'viele': 186, 'wohl': 187, 'arsch': 188, 'tag': 189, 'natuerlich': 190, 'we': 191, 'geben': 192, 'helgethiessen': 193, 'me': 194, 'gehen': 195, 'das': 196, 'sollten': 197, 'gehoe': 198, 'frage': 199, 'sagen': 200, 'schmarotzer': 201, 'tn': 202, 'ericca': 203, 'mensmum': 204, 'ganze': 205, 'duerfen': 206, 'ein': 207, 'weiss': 208, 'halt': 209, 'rechte': 210, 'statt': 211, 'joehellback': 212, 'alexa': 213, 'jung60': 214, 'mohrenpost': 215, 'npd': 216, 'egal': 217, 'schulz': 218, 'geschlecht': 219, 'do': 220, 'verantwo': 221, 'tuerkei': 222, 'bitte': 223, 'jahr': 224, 'weniger': 225, 'bleiben': 226, 'neuen': 227, 'sollen': 228, 'sei': 229, 'sehen': 230, 'unserer': 231, 'c': 232, 'glauben': 233, 'heisst': 234, 'schockadin': 235, 'kommen': 236, 'volker': 237, 'ard': 238, 'jahren': 239, 'gute': 240, 'staat': 241, 'stimmt': 242, 'moechte': 243, 'sie': 244, 'fakt': 245, 'allesevolution': 246, 'paedophile': 247, 'tevsa': 248, 'uhr': 249, 'amt': 250, 'namiimon': 251, 'sexuelle': 252, '4': 253, 'machen': 254, 'dank': 255, 'seid': 256, 'die': 257, 'politiker': 258, 'war': 259, 'ganzen': 260, 'eben': 261, 'meinung': 262, '10': 263, 'israel': 264, 'erwa': 265, 'zukunft': 266, 'bleibt': 267, 'geld': 268, 'roth': 269, 'nahles': 270, 'maischberger': 271, 'eu': 272, 'genug': 273, 'wann': 274, 'gemacht': 275, 'demokratie': 276, 'gerne': 277, 'tbb': 278, 'sogar': 279, 'gleich': 280, 'antwo': 281, 'gottes': 282, 'allerdings': 283, 'will': 284, 'antisemitismus': 285, 'zdf': 286, 'us': 287, 'brauchen': 288, 'usa': 289, '2017': 290, 'tweet': 291, 'es': 292, '5': 293, 'b': 294, '3': 295, 'fxn': 296, 'jemand': 297, 'uebrigens': 298, 'eien': 299, 'linken': 300, 'krippmarie': 301, 'asylanten': 302, 'ich': 303, 'wissen': 304, 'opfer': 305, 'sicher': 306, 'augen': 307, 'cayvl': 308, 'deutschlands': 309, 'bild': 310, 'nur': 311, 'gwen': 312, 'ny': 313, 'lesen': 314, 'frankyb122': 315, 'zurueck': 316, 'nazis': 317, 'ueberhaupt': 318, 'ba': 319, 'braucht': 320, 'deshalb': 321, 'ekdsynode': 322, 'gewaehlt': 323, 'igen': 324, 'stultamundi': 325, 'nazi': 326, 'ige': 327, 'sex': 328, 'mensch': 329, 'sicherheit': 330, 'z': 331, 'maennern': 332, 'miro': 333, 'denken': 334, 'fast': 335, 'wurden': 336, 'christen': 337, 'et': 338, 'neue': 339, 'beispiel': 340, 'vor': 341, 'denen': 342, 'lsvd': 343, 'abgefuckten': 344, 'voll': 345, 'koennte': 346, 'sehe': 347, 'kopftuch': 348, 'etwa': 349, 'belaestigung': 350, 'davon': 351, 'teil': 352, 'aber': 353, 'haetten': 354, 'darauf': 355, 'stolz': 356, 'denunzianten': 357, 'wenig': 358, 'alles': 359, 'morgen': 360, 'oh': 361, 'pack': 362, 'grund': 363, 'zeigt': 364, 'geschichte': 365, 'is': 366, 'wahr': 367, 'muslime': 368, 'heil': 369, 'auch': 370, 'zwei': 371, 'kann': 372, 'wuensche': 373, 'helfen': 374, 'rechten': 375, 'interessie': 376, 'arbeiten': 377, 'dagegen': 378, 'stasi': 379, 'bundesregierung': 380, 'redet': 381, 'nix': 382, 'ende': 383, 'karl': 384, 'jahre': 385, 'lange': 386, 'seite': 387, 'bloed': 388, 'reden': 389, 'schwul': 390, 'anna': 391, 'ostkueste': 392, 'deren': 393, 'stehen': 394, 'ikel': 395, 'freies': 396, 'grosse': 397, 'daran': 398, 'moderatorin': 399, 'eher': 400, 'stimme': 401, 'bekommen': 402, 'sklaven': 403, 'waldenmonk': 404, 'natur': 405, 'ung': 406, '000': 407, 'buerger': 408, 'denkt': 409, 'zissey': 410, 'waehlen': 411, 'niemals': 412, 'wichtig': 413, 'jamaika': 414, 'finden': 415, 'passt': 416, 'feepatzer': 417, 'also': 418, 'lasst': 419, 'probleme': 420, 'beatrix': 421, 'vstorch': 422, 'gesehen': 423, 'deutscher': 424, 'oezdemir': 425, '100': 426, 'vielen': 427, 'heikomaas': 428, 'verlierer50': 429, 'derdoktorant': 430, 'niemand': 431, 'kirche': 432, 'tagesspiegel': 433, 'bekommt': 434, 'sawsanchebli': 435, 'islamisten': 436, 'system': 437, '9': 438, 'weder': 439, 'ddr': 440, 'illner': 441, 'sakoelabo': 442, 'echt': 443, 'schoen': 444, 'weg': 445, 'aberfair': 446, 'thema': 447, 'alten': 448, 'bringen': 449, 'sowas': 450, 'bald': 451, 'bahn': 452, 'waehler': 453, 'kannst': 454, 'worden': 455, 'bibel': 456, 'stegner': 457, 'du': 458, '11': 459, 'groesste': 460, 'netreaper': 461, 'grossen': 462, 'thiloadamitz': 463, 'lauterbach': 464, 'jedenfalls': 465, 'lanz': 466, 'prozent': 467, 'aussage': 468, 'mittlerweile': 469, 'gesagt': 470, 'iina': 471, 'unterschied': 472, 'maas': 473, 'hoffe': 474, 'schneeridara': 475, 'goeringeckardt': 476, 'suppo': 477, 'gender': 478, 'gruen': 479, 'schande': 480, 'integration': 481, 'tut': 482, 'respekt': 483, 'twitter': 484, 'syrien': 485, 'selber': 486, 'schoenen': 487, 'kaempft': 488, 'thesme': 489, 'erdogan': 490, 'moslems': 491, 'laecherlich': 492, 'mehrheit': 493, 'wir': 494, 'hugresch': 495, 'saltomentale': 496, 'sigmargabriel': 497, 'hass': 498, 'neodeutscher': 499, 'familie': 500, 'l': 501, 'bruck': 502, '68': 503, 'nadine': 504, 'wicke': 505, 'suchen': 506, 'eilen': 507, 'abgefuckte': 508, 'leute': 509, 'hoffentlich': 510, 'schafft': 511, 'dreck': 512, 'spdbt': 513, 'kaum': 514, 'steinmeier': 515, 'politische': 516, 'habt': 517, 'ey': 518, 'zersetzung': 519, 'alte': 520, 'alt': 521, 'islamischen': 522, 'scheiss': 523, 'dumm': 524, '30': 525, 'joemino': 526, 'groessten': 527, 'ueberall': 528, 'h': 529, 'eigenen': 530, 'm': 531, 'daher': 532, 'schlecht': 533, 'bedford': 534, 'strohm': 535, 'hand': 536, 'falsch': 537, 'nehmen': 538, 'rechts': 539, 'hose': 540, 'koalition': 541, 'hube': 542, 'trotzdem': 543, 'flucht': 544, 'haelt': 545, 'mit': 546, 'zeiten': 547, 'nennt': 548, '15': 549, 'schlimm': 550, 'krieg': 551, 'o': 552, 'spiel': 553, 'strunzdumm': 554, 'botschaft': 555, 'der': 556, 'weiter': 557, 'willst': 558, 'oesterreich': 559, 'rede': 560, 'verloren': 561, '20': 562, 'hilfe': 563, 'ausser': 564, 'neythomas': 565, 'wittenberg': 566, 'wahrheit': 567, 'meyermit': 568, 'freien': 569, '12': 570, 'ideologie': 571, 'ig': 572, 'mut': 573, 'teufel': 574, 'sich': 575, 'bayern': 576, '27': 577, 'verbrecher': 578, 'damals': 579, 'muss': 580, 'swagenknecht': 581, 'hunde': 582, 'doch': 583, 'auslaender': 584, '19': 585, 'findet': 586, 'studies': 587, 'tatsaechlich': 588, 'palmer': 589, 'atheisten': 590, 'bestimmt': 591, 'all': 592, 'bonn': 593, 'tragen': 594, 'da': 595, 'ichwars': 596, 'zdfheute': 597, 'abschieben': 598, 'tod': 599, 'darueber': 600, 'letzten': 601, 'neu': 602, 'suzimiya': 603, 'kittypunk7': 604, 'wollen': 605, 'kopf': 606, 'ekd': 607, 'behauptet': 608, 'sci': 609, 'fanboi': 610, 'xxxopexobxxx': 611, 'los': 612, 'steinbacherika': 613, 'nimmt': 614, 'junge': 615, 'ersten': 616, 'gegenueber': 617, 'bin': 618, 'eh': 619, 'behandelt': 620, 'bund': 621, 'gauck': 622, 'ralf': 623, 'verrecken': 624, 'usw': 625, 'scheinheilgste': 626, 'frueher': 627, 'clydevpg': 628, 'verdient': 629, 'besteht': 630, 'solange': 631, 'laesst': 632, 'union': 633, 'cem': 634, 'bist': 635, 'jetzt': 636, 'zeichen': 637, 'whetzler': 638, 'handeln': 639, 'weit': 640, 'gabriel': 641, 'tiere': 642, 'gilt': 643, 'dennoch': 644, 'kultur': 645, 'koran': 646, 'tagesschau': 647, 'bio': 648, 'kischeph': 649, 'ekelhaft': 650, 'hannes': 651, 'elefant': 652, 'chsascha': 653, 'pfui': 654, 'freue': 655, 'unbekannnt': 656, 'geist': 657, 'begriff': 658, 'links': 659, 'polizei': 660, 'helheimer': 661, '14': 662, 'was': 663, 'landesbischof': 664, 'verstehen': 665, 'passie': 666, 'ging': 667, 'neba17': 668, 'bloss': 669, 'mich': 670, 'frei': 671, 'sendung': 672, 'heimat': 673, '2016': 674, 'wi': 675, 'schaft': 676, 'muesste': 677, 'direkt': 678, 'zahlen': 679, 'hinweis': 680, 'mag': 681, 'sonntag': 682, 'mdr': 683, 'm8flo': 684, 'bolzandrea': 685, 'lgnimag': 686, 'nordicskulled': 687, 'coffee': 688, 'grind': 689, 'chinasky64a': 690, 'regieren': 691, 'wollten': 692, 'aendern': 693, 'mio': 694, 'rot': 695, '18': 696, 'sagte': 697, 'denke': 698, 'rentner': 699, 'kjempeslu': 700, 'erkennen': 701, 'drei': 702, 'unsinn': 703, 'innen': 704, 'nsu': 705, 'euch': 706, 'folgen': 707, 'obergrenze': 708, 'kotzen': 709, 'wieso': 710, 'fettigen': 711, 'haaren': 712, 'kennen': 713, 'wahlen': 714, 'hetero': 715, 'ehe': 716, 'glaubt': 717, 'terror': 718, 'maedchen': 719, 'drum': 720, 'mariobuchinger': 721, 'vt2017': 722, 'gefueh': 723, 'manila': 724, 'obwohl': 725, 'kampf': 726, 'halten': 727, 'tweets': 728, 'lucasschoppe1': 729, 'hoeren': 730, 'ziemlich': 731, 'je': 732, 'maurice': 733, 'breuer': 734, 'kindern': 735, 'gemeinsam': 736, 'abschaum': 737, 'meinungsfreiheit': 738, 'geil': 739, 'sozis': 740, 'dazu': 741, 'stadt': 742, 'dann': 743, 'oben': 744, 'nrw': 745, 'insbesondere': 746, 'arbeitet': 747, 'forde': 748, 'rassismus': 749, 'landes': 750, 'stellt': 751, 'gab': 752, 'glueckwunsch': 753, 'facebook': 754, 'altpa': 755, 'medien': 756, 'solidaritaet': 757, 'gesamte': 758, 'hi': 759, 'korrekt': 760, 'zusammen': 761, 'fragt': 762, 'zumindest': 763, 'grenzen': 764, 'gutes': 765, 'padit1337': 766, 'cducsubt': 767, 'text': 768, 'heuchler': 769, 'sager': 770, 'er': 771, 'glueck': 772, 'deintherapeut': 773, 'fs': 774, 'angst': 775, 'familien': 776, 'spricht': 777, 'besten': 778, 'alle': 779, 'wahl': 780, 'eigene': 781, 'muenchen': 782, 'stimmen': 783, 'politischen': 784, 'schnell': 785, 'weidenkatzl': 786, 'setzt': 787, 'hetze': 788, 'tuerken': 789, 'waehlt': 790, 'kennt': 791, 'rein': 792, 'verbieten': 793, 'religioese': 794, 'allein': 795, 'mehrere': 796, 'deswegen': 797, 'weihnachten': 798, 'fluechtlingen': 799, 'feie': 800, 'voellig': 801, 'mutter': 802, 'deutlich': 803, 'afrika': 804, 'weisst': 805, 'i': 806, 'kosten': 807, 'weibliche': 808, 'liegt': 809, 'geh': 810, 'fussball': 811, 'schauen': 812, 'menschenverachtung': 813, 'waffen': 814, 'gesetz': 815, 'erfolg': 816, 'bevoelkerung': 817, 'balleryna': 818, 'schliesslich': 819, 'neues': 820, 'faz': 821, 'soziale': 822, 'glyphosat': 823, 'kritik': 824, 'gebracht': 825, 'punkt': 826, 'film': 827, 'huebner': 828, 'law': 829, 'arbeit': 830, 'falsche': 831, 'informationen': 832, 'gelten': 833, 'interessant': 834, 'bisher': 835, 'erklae': 836, 'petpanther0': 837, 'vorher': 838, 'laenger': 839, 'religionen': 840, 'zerstoe': 841, 'lieben': 842, 'schuld': 843, 'npdde': 844, 'christoph': 845, 'scottiracer': 846, 'ziehen': 847, 'online': 848, 'sozi': 849, 'dielinke': 850, 'jim': 851, 'beau': 852, 'wuerden': 853, 'neben': 854, 'flyingtomoon': 855, 'mo': 856, 'imer': 857, 'niels': 858, 'rechtsstaat': 859, 'vergessen': 860, 'haut': 861, 'igesamt': 862, 'san': 863, 'stellen': 864, 'hilft': 865, 'connor': 866, 'larkin': 867, 'asyl': 868, 'ehrlich': 869, 'gehoeren': 870, 'letzte': 871, 'ichbinmuckmuck': 872, 'tonino85': 873, 'platz': 874, 'heissen': 875, 'darin': 876, 'um': 877, 'eltern': 878, '8': 879, 'kirchentag': 880, 'zeigen': 881, 'dadurch': 882, 'fahren': 883, 'faellt': 884, '13': 885, 'mitglieder': 886, 'freiwillig': 887, 'feministen': 888, 'uns': 889, 'bstu': 890, 'live': 891, 'erfahren': 892, 'fehlt': 893, 'unterlagen': 894, 'reten': 895, 'klasse': 896, 'laut': 897, 'jahres': 898, 'wissenschaft': 899, 'pro': 900, 'salafisten': 901, 'zu': 902, 'tja': 903, 'davidbest95': 904, 'moslem': 905, 'gesetze': 906, 'wen': 907, 'schwarz': 908, 'koennt': 909, '28': 910, 'hier': 911, 'stark': 912, 'immerhin': 913, 'bett': 914, 'grundsaetzlich': 915, 'kirchen': 916, 'kraft': 917, 'ns': 918, 'regime': 919, 'jugend': 920, 'via': 921, 'sed': 922, 'joeygerlach': 923, 'spitze': 924, 'rente': 925, 'gerechtigkeit': 926, 'basis': 927, 'israels': 928, 'annewill': 929, 'linksgruene': 930, 'propaganda': 931, 'und': 932, 'bonkekolja': 933, 'mz': 934, 'lass': 935, 'dinge': 936, 'kurz': 937, 'bieten': 938, 'christentum': 939, 'ruhe': 940, 'wussten': 941, 'woche': 942, 'grad': 943, 'untergang': 944, 'donbarbone': 945, 'sag': 946, 'sorry': 947, 'mama': 948, 'essen': 949, 'verstehe': 950, 'bestimmte': 951, 'schwule': 952, 'kleidung': 953, 'leisten': 954, 'patriotismus': 955, 'aposener': 956, 'hab': 957, 'sh': 958, 'npdwittenberg': 959, 'offen': 960, 'herzlichen': 961, 'gleiche': 962, 'preis': 963, 'staatsbuerger': 964, 'erinne': 965, 'darum': 966, 'verhindern': 967, 'fr': 968, 'reformationsjubilaeum': 969, 'lebt': 970, 'mir': 971, 'n': 972, 'btw17': 973, 'meisten': 974, 'tagen': 975, 'ziel': 976, 'bekannt': 977, 'info': 978, 'geschrieben': 979, 'wenn': 980, 'ergebnis': 981, 'westminster1000': 982, 'schreibt': 983, 'werdet': 984, 'gehabt': 985, 'lich': 986, 'hoelle': 987, 'fueh': 988, 'berichtet': 989, 'verhinde': 990, 'migranten': 991, 'ueberleben': 992, 'kleine': 993, 'everlast': 994, '6': 995, 'voller': 996, 'olewahr': 997, 'erlebt': 998, 'christlichen': 999, 'verkaufen': 1000, 'froh': 1001, 'ick': 1002, 'geschafft': 1003, 'pfaffen': 1004, 'montagsdemogida': 1005, 'deutsches': 1006, 'erinnern': 1007, 'durchaus': 1008, 'super': 1009, 'x': 1010, 'brd': 1011, 'schoene': 1012, 'mohammed': 1013, 'muslimen': 1014, 'erstmal': 1015, 'wie': 1016, 'abend': 1017, 'kaempfen': 1018, 'gamergateblogde': 1019, 'obama': 1020, 'diskriminierung': 1021, 'noch': 1022, 'rausschmeissen': 1023, 'btw2017': 1024, 'freuen': 1025, 'gefaellt': 1026, 'namen': 1027, 'fluechtling': 1028, 'teile': 1029, 'sinn': 1030, 'erreicht': 1031, 'sage': 1032, 'studie': 1033, 'taeglich': 1034, 'ebenso': 1035, 'bmfsfj': 1036, 'guten': 1037, 'servicezeit': 1038, 'offenbar': 1039, 'lacht': 1040, 'schwachsinn': 1041, 'benjyr01': 1042, 'mach': 1043, 'realitaet': 1044, 'gelesen': 1045, 'claasen': 1046, 'nils': 1047, 'afdwuergt': 1048, 'eilt': 1049, 'schmoddrigen': 1050, 'age': 1051, 'setzen': 1052, 'vater': 1053, 'bringt': 1054, 'geworden': 1055, '2015': 1056, 'moegen': 1057, 'bastarde': 1058, 'damit': 1059, 'traurig': 1060, 'metoo': 1061, 'sollte': 1062, 'nichts': 1063, 'einst': 1064, 'stehe': 1065, 'minderheit': 1066, 'erste': 1067, 'beantwo': 1068, 'iv': 1069, 'erklaeren': 1070, 'sprechen': 1071, 'peter': 1072, 'simone': 1073, 'ehefueralle': 1074, 'judentum': 1075, 'kapitalismus': 1076, 'alter': 1077, 'dietrich': 1078, 'bonhoeffer': 1079, 'erkennt': 1080, 'dich': 1081, 'pfaffe': 1082, 'versucht': 1083, 'persoenlich': 1084, 'lehrer': 1085, 'traegt': 1086, 'sitzen': 1087, 'asiaten': 1088, 'boehmermann': 1089, 'laferlichterluther': 1090, 'schuetzen': 1091, 'wichtiger': 1092, 'stoppen': 1093, 'siehst': 1094, 'asylantenpack': 1095, 'arme': 1096, 'sexuell': 1097, 'eil': 1098, 'aufgrund': 1099, 'widerstand': 1100, 'jala': 1101, 'varietas': 1102, 'konso': 1103, 'rache': 1104, 'voelker': 1105, 'regie': 1106, 'gefallen': 1107, 'freie': 1108, 'ideen': 1109, 'selbstverstaendlich': 1110, 'wacht': 1111, 'melideluxe': 1112, 'schutz': 1113, 'geschichten': 1114, 'dialog': 1115, 'sz': 1116, 'handelt': 1117, 'annika': 1118, 'schach': 1119, 'vernichten': 1120, 'wieviel': 1121, 'bislang': 1122, 'aufnehmen': 1123, 'familiennachzug': 1124, '2018': 1125, 'habe': 1126, 'ermordet': 1127, 'dera': 1128, 'strunzdumme': 1129, 'wem': 1130, 'reicht': 1131, 'nee': 1132, 'waehrend': 1133, 'volksverraeter': 1134, 'frankfu': 1135, 'ignorie': 1136, 'frankreich': 1137, 'bezahlt': 1138, 't': 1139, 'el': 1140, 'golzheimer': 1141, 'boese': 1142, 'plan': 1143, 'hoe': 1144, 'entscheidung': 1145, 'linksfraktion': 1146, 'nacht': 1147, 'irgendwie': 1148, 'jungen': 1149, 'ner': 1150, 'spookymoth': 1151, 'jung': 1152, 'millionen': 1153, 'waeren': 1154, 'schwarzen': 1155, 'anders': 1156, 'stefanscharf': 1157, 'dd': 1158, 'gewinnen': 1159, 'naechsten': 1160, 'langsam': 1161, 'fall': 1162, 'tinido': 1163, 'herzen': 1164, 'langweilig': 1165, 'weiterhin': 1166, 'einwanderung': 1167, 'strasse': 1168, 'palaestina': 1169, 'verboten': 1170, 'veru': 1171, 'aufs': 1172, 'luegen': 1173, 'fuehren': 1174, 'hauptstadt': 1175, 'scheint': 1176, 'alleine': 1177, 'pete': 1178, 'auber': 1179, 'stecken': 1180, 'deutschpi': 1181, 'noetig': 1182, 'stunden': 1183, 'kriege': 1184, 'patriciad0305': 1185, 'ausgerechnet': 1186, 'ihr': 1187, 'fette': 1188, 'wuenschen': 1189, 'gespannt': 1190, 'mdraktuell': 1191, 'danach': 1192, 'hetzen': 1193, 'praeses': 1194, 'schwaetzer': 1195, 'scheisst': 1196, 'schwer': 1197, 'orf': 1198, 'autos': 1199, 'gelder': 1200, 'fliehen': 1201, 'ah': 1202, 'umbilicussuevia': 1203, 'neuwahlen': 1204, 'weh': 1205, 'botschaften': 1206, 'typisch': 1207, 'deutsch': 1208, 'ausserdem': 1209, 'besonders': 1210, 'derspiegel': 1211, 'gern': 1212, 'gibts': 1213, 'maul': 1214, 'staendig': 1215, 'rv': 1216, 'gefahr': 1217, 'alternativends': 1218, 'diskussion': 1219, 'laendern': 1220, 'laeuft': 1221, 'paar': 1222, 'spielen': 1223, 'wende': 1224, '80': 1225, 'dumme': 1226, 'berichten': 1227, 'ruecksicht': 1228, 'entgegen': 1229, 'strunz': 1230, 'axel': 1231, 'nach': 1232, 'bundeswehr': 1233, 'incirlik': 1234, 'fuers': 1235, 'schieritz': 1236, 'ernst': 1237, 'quatsch': 1238, 'vorsitzende': 1239, 'hilbig': 1240, 'hoch': 1241, 'gegenteil': 1242, 'asylschmarotzer': 1243, 'frieden': 1244, 'westen': 1245, 'anspruch': 1246, 'geniessen': 1247, 'milliarden': 1248, 'jedemequality': 1249, 'wieder': 1250, 'nochmal': 1251, 'bezahlen': 1252, 'fraktion': 1253, 'v': 1254, 'focusonline': 1255, 'wahrscheinlich': 1256, 'gefaehrlich': 1257, 'bevor': 1258, 'jo': 1259, 'verhalten': 1260, 'diskutieren': 1261, 'behaupten': 1262, 'rueckgrat': 1263, 'yvonne': 1264, 'willicks': 1265, 'fressen': 1266, 'leid': 1267, 'hause': 1268, 'fe': 1269, 'anschlag': 1270, 'vs': 1271, 'rechter': 1272, 'bedeutet': 1273, 'minderheitsregierung': 1274, 'treue': 1275, 'mdl': 1276, 'muell': 1277, 'bernd': 1278, 'haus': 1279, 'kind': 1280, 'gegeben': 1281, 'zwingen': 1282, '00': 1283, 'untera': 1284, 'faschisten': 1285, 'berliner': 1286, 'ibikus31': 1287, 'fresse': 1288, 'schwulen': 1289, 'oeffentlich': 1290, 'leipzig': 1291, 'dass': 1292, 'sicht': 1293, 'lang': 1294, 'rolandtichy': 1295, 'aufstehen': 1296, 'ebenfalls': 1297, 'leicht': 1298, 'symbol': 1299, 'meinst': 1300, 'dittmar': 1301, 'katrin': 1302, 'internet': 1303, 'nutzen': 1304, 'heiligen': 1305, 'entschieden': 1306, 'vie': 1307, 'geschlechter': 1308, 'mache': 1309, 'saudi': 1310, 'situation': 1311, 'jemen': 1312, 'beiden': 1313, 'menschenrechten': 1314, 'posten': 1315, 'erlaubt': 1316, 'mitarbeiter': 1317, 'konsequenzen': 1318, 'tradition': 1319, 'hoecke': 1320, 'gelernt': 1321, 'kuehnikev': 1322, 'kollektivismus': 1323, 'bedenken': 1324, 'doof': 1325, 'niedersachsen': 1326, 'friedman': 1327, 'parlament': 1328, 'beste': 1329, 'aufgeklae': 1330, 'heribe': 1331, 'prantl': 1332, 'eile': 1333, 'per': 1334, 'jcm': 1335, 'achim7871': 1336, 'bzw': 1337, 'wahnsinn': 1338, 'afdberlin': 1339, 'stand': 1340, 'these': 1341, 'hadithe': 1342, 'schreiben': 1343, 'xyeinzelfall': 1344, 'getan': 1345, 'klein': 1346, 'wenigstens': 1347, 'zusammenhang': 1348, 'anhaenger': 1349, 'schwein': 1350, 'eier': 1351, 'alice': 1352, 'weidel': 1353, 'hollsteinm': 1354, 'antisemitischen': 1355, 'zuvor': 1356, 'andrea': 1357, 'gleichzeitig': 1358, 'gehe': 1359, 'gewesen': 1360, 'suche': 1361, 'fremden': 1362, 'sozialdemokraten': 1363, 'merkels': 1364, 'maybritillner': 1365, 'unrecht': 1366, 'eilung': 1367, 'oft': 1368, 'hoffen': 1369, 'betroffenen': 1370, 'lsvdsaar': 1371, 'minderheiten': 1372, 'liefe': 1373, 'luther': 1374, 'littlewisehen': 1375, 'gruenden': 1376, 'apfel': 1377, 'drittesgeschlecht': 1378, 'ecke': 1379, 'musst': 1380, 'buch': 1381, 'dummkoepfe': 1382, 'radikal': 1383, 'taff': 1384, 'muesst': 1385, 'lage': 1386, 'matt': 1387, 'espunkt': 1388, 'merken': 1389, 'un': 1390, 'interview': 1391, 'dran': 1392, 'komplett': 1393, 'halte': 1394, 'gestalten': 1395, 'angewiesen': 1396, 'manchmal': 1397, 'schoener': 1398, 'freund': 1399, 'nervt': 1400, 'christliche': 1401, 'larswinter': 1402, 'bolschewismus': 1403, 'wunde': 1404, 'sexualitaet': 1405, 'mindestens': 1406, 'bwspricht': 1407, 'auto': 1408, '25': 1409, 'moeglich': 1410, 'keine': 1411, 'erleben': 1412, 'widerlich': 1413, 'tatsache': 1414, 'lernen': 1415, 'wach': 1416, 'schlimmer': 1417, 'hamburg': 1418, 'jerusalem': 1419, 'dienst': 1420, 'fraukepetry': 1421, 'sorgt': 1422, 'tat': 1423, 'knast': 1424, 'jude': 1425, 'china': 1426, 'orban': 1427, 'wies': 1428, 'himmel': 1429, 'sth': 1430, 'anschauen': 1431, 'riexinger': 1432, 'bundestagswahl': 1433, 'jedoch': 1434, 'idee': 1435, 'retten': 1436, 'urlaub': 1437, 'gg': 1438, '0': 1439, 'meistens': 1440, 'kaempfe': 1441, 'hevellia64': 1442, 'taeter': 1443, 'denk': 1444, 'krank': 1445, 'toleranz': 1446, 'kanzlerin': 1447, 'europas': 1448, 'nogroko': 1449, 'anti': 1450, 'ka': 1451, 'schlafmichel': 1452, 'weitere': 1453, 'crossss': 1454, 'bommel': 1455, 'rockt': 1456, 'herz': 1457, 'schlabonski': 1458, 'fo': 1459, 'akifpirincci': 1460, 'willen': 1461, 'follower': 1462, 'willkommen': 1463, 'christian': 1464, 'belaestigt': 1465, 'aba': 1466, 'opfern': 1467, 'verstaendnis': 1468, 'gedenken': 1469, 'sexismus': 1470, 'bildung': 1471, 'gestern': 1472, 'profil': 1473, 'stoll': 1474, 'erzbistumhh': 1475, 'strafe': 1476, 'allzu': 1477, 'antrag': 1478, 'abstimmung': 1479, 'abzug': 1480, 'drauf': 1481, 'scheinheilige': 1482, 'gleichberechtigung': 1483, 'tv': 1484, 'steuerzahler': 1485, 'entscheiden': 1486, 'heutigen': 1487, 'radikalen': 1488, 'ltwnds17': 1489, 'pass': 1490, 'notwendig': 1491, 'beenden': 1492, 'genommen': 1493, 'droht': 1494, 'ruhig': 1495, 'verstanden': 1496, 'amtes': 1497, 'boesen': 1498, 'schwarze': 1499, 'bloedsinn': 1500, 'tochter': 1501, 'eins': 1502, 'irgendwo': 1503, 'davor': 1504, 'tief': 1505, 'debatte': 1506, 'akten': 1507, 'glaubst': 1508, '09': 1509, 'wohlstand': 1510, 'achtpanther': 1511, 'heuchelei': 1512, 'fragen': 1513, 'weiblichkeit': 1514, 'naemlich': 1515, 'r': 1516, 'erkannt': 1517, 'neger': 1518, 'offensichtlich': 1519, 'gezwungen': 1520, 'freiheiten': 1521, 'euro': 1522, 'morgenmagazin': 1523, 'gestellt': 1524, 'entwicklung': 1525, 'schlechter': 1526, 'schaeuble': 1527, 'reter': 1528, 'ulfposh': 1529, 'awillburger': 1530, 'gesellschaftliche': 1531, 'hauptsache': 1532, 'kleiner': 1533, '7': 1534, 'papst': 1535, 'demo': 1536, 'marx': 1537, 'passieren': 1538, 'sterben': 1539, 'lies': 1540, 'robinalexander': 1541, 'osten': 1542, 'kulturen': 1543, 'funktionie': 1544, 'fenster': 1545, 'tuebingen': 1546, 'peterpa34083139': 1547, 'hilfetelefon': 1548, 'diejenigen': 1549, 'trump': 1550, 'schade': 1551, 'raum': 1552, 'account': 1553, 'lawyerberlin': 1554, 'ziv': 1555, 'frag': 1556, 'job': 1557, 'abgeordneten': 1558, 'volkes': 1559, 'gruppe': 1560, 'stueck': 1561, 'ewig': 1562, 'ohne': 1563, 'abhaengig': 1564, 'kicher': 1565, 'erzaehlt': 1566, 'homo': 1567, 'reaktion': 1568, 'islamistischen': 1569, 'roten': 1570, 'grosser': 1571, 'fan': 1572, 'ivyandwoe': 1573, 'heuteshow': 1574, '21': 1575, 'jahrzehnten': 1576, 'grundgesetz': 1577, 'erreichen': 1578, 'geklae': 1579, 'wind': 1580, 'dummschwaetzer': 1581, 'dobrindt': 1582, 'geschlossen': 1583, 'kaeme': 1584, 'vorhanden': 1585, 'logik': 1586, 'tschuess': 1587, 'arabien': 1588, 'mist': 1589, 'schulen': 1590, 'unterricht': 1591, 'ismail': 1592, 'kupeli': 1593, 'demnaechst': 1594, 'dr': 1595, 'och': 1596, 'joerg': 1597, 'meuthen': 1598, 'erfahrungen': 1599, 'man': 1600, 'deppen': 1601, 'verraten': 1602, 'verwendet': 1603, 'hugomuellervogg': 1604, 'werfen': 1605, 'kinderfickerpa': 1606, 'extrem': 1607, 'spass': 1608, 'kriechen': 1609, 'quelle': 1610, 'kontext': 1611, 'beziehungen': 1612, 'griechen': 1613, 'voru': 1614, 'ronzheimer': 1615, 'migrationshintergrund': 1616, 'kahuna456': 1617, 'hae': 1618, 'bereit': 1619, 'abschaffung': 1620, 'gruener': 1621, 'bestehen': 1622, 'ihnen': 1623, 'plus': 1624, 'neuer': 1625, 'com': 1626, 'tschechen': 1627, 'etwas': 1628, 'furchtbar': 1629, 'nennen': 1630, 'mannheim': 1631, 'bvg': 1632, 'strotzt': 1633, 'inmitten': 1634, 'kostenlosen': 1635, 'kita': 1636, 'machst': 1637, 'fernsehen': 1638, 'donalphonso': 1639, 'faeh': 1640, 'wobei': 1641, 'verletzt': 1642, 'den': 1643, 'mundaufmachen': 1644, 'waehle': 1645, '17': 1646, 'ignorieren': 1647, '90': 1648, 'straftaten': 1649, 'merkt': 1650, 'europaeischen': 1651, 'wozu': 1652, 'entsorgen': 1653, 'wisst': 1654, 'dachte': 1655, 'palaestinenser': 1656, 'jamme': 1657, 'licht': 1658, '60': 1659, 'sahneschoko': 1660, 'juedische': 1661, 'normal': 1662, 'leistungen': 1663, 'woanders': 1664, 'falschen': 1665, 'kritisieren': 1666, 'armut': 1667, 'hitler': 1668, 'loki777': 1669, 'bjoern': 1670, 'lsvdhamburg': 1671, 'lsvdkoeln': 1672, 'lsvdndshb': 1673, 'rlp': 1674, 'september': 1675, 'ritt': 1676, 'definition': 1677, 'einsatz': 1678, 'kuehne': 1679, 'mocho2': 1680, 'zaehlt': 1681, 'soeder': 1682, 'entsorgt': 1683, '1945': 1684, 'kommentare': 1685, 'steckt': 1686, 'kunst': 1687, 'uebrigen': 1688, 'sichern': 1689, 'etc': 1690, 'teilweise': 1691, 'drin': 1692, 'darfst': 1693, 'unterstuetzen': 1694, 'hapatamast': 1695, 'fli': 1696, 'mass': 1697, 'christ': 1698, 'vorgehen': 1699, 'versuch': 1700, 'schau': 1701, 'spderneuern': 1702, 'erneuern': 1703, 'capslockchris': 1704, 'lgrimsqueaker': 1705, 'rieben': 1706, 'geheimnis': 1707, 'beide': 1708, 'dicht': 1709, 'renatekuenast': 1710, 'islamischer': 1711, 'fluechtlingspolitik': 1712, 'trident750': 1713, 'christus': 1714, 'stille': 1715, 'ceta': 1716, 'db': 1717, 'minuten': 1718, 'blut': 1719, 'frank': 1720, 'pasemann': 1721, 'stuerzen': 1722, 'gesprochen': 1723, 'unterstuetzung': 1724, 'schweiz': 1725, 'terroristen': 1726, 'endogamieregel': 1727, 'gaborsteinga': 1728, 'total': 1729, 'gauland': 1730, 'afdimbundestag': 1731, 'niemanden': 1732, 'schlagen': 1733, 'verraeter': 1734, 'aha': 1735, 'verfassung': 1736, 'gesicht': 1737, 'sau': 1738, 'name': 1739, 'lauhofmann': 1740, 'kahrs': 1741, 'thomasoppermann': 1742, 'sondierungen': 1743, 'menschenrechte': 1744, 'jahrhunde': 1745, 'traeum': 1746, 'belegen': 1747, 'ben': 1748, 'ausweisen': 1749, 'kaufen': 1750, 'nachrichten': 1751, 'naiv': 1752, 'korrigie': 1753, 'cool': 1754, 'wundern': 1755, 'meint': 1756, 'schweigen': 1757, 'hoere': 1758, 'titten': 1759, 'gebt': 1760, 'wechseln': 1761, 'twaudes': 1762, 'betet': 1763, 'matthiasmeisner': 1764, 'entweder': 1765, 'woher': 1766, 'zufolge': 1767, 'angaben': 1768, 'erfahrung': 1769, 'patriarchat': 1770, 'muslimische': 1771, 'soweit': 1772, 'arbeitgeber': 1773, 'kompetent': 1774, 'mossul': 1775, 'rakubln': 1776, 'minister': 1777, 'ulrichkelber': 1778, 'quote': 1779, 'durchsetzen': 1780, 'haufen': 1781, 'dietmarba': 1782, 'sch': 1783, 'koennten': 1784, 'reisewarnung': 1785, 'typ': 1786, 'kreuz': 1787, 'ungarn': 1788, 'blick': 1789, 'dorabromberger': 1790, 'verlieren': 1791, 'hin': 1792, 'kz': 1793, 'dieter': 1794, 'nuhr': 1795, 'lustig': 1796, 'heinrich': 1797, 'krug': 1798, 'besondere': 1799, 'gespraech': 1800, 'schwesig': 1801, 'ums': 1802, 'heiko': 1803, 'toll': 1804, 'bestraft': 1805, 'frankfranz': 1806, 'beitrag': 1807, 'tage': 1808, 'systemlinge': 1809, 'toeten': 1810, 'anderen': 1811, 'homosexualitaet': 1812, 'marine': 1813, 'le': 1814, 'pen': 1815, 'bekloppt': 1816, 'zieht': 1817, 'logisch': 1818, 'larsklingbeil': 1819, 'versuchen': 1820, 'lehne': 1821, 'muslimischen': 1822, 'handelsblatt': 1823, 'hetzt': 1824, '200': 1825, 'herzlich': 1826, 'stellung': 1827, 'durch': 1828, 'phoenix': 1829, 'sohn': 1830, 'traegst': 1831, 'gefunden': 1832, 'traum': 1833, 'friedliches': 1834, 'link': 1835, 'keinen': 1836, 'daten': 1837, 'ziele': 1838, 'buerger18': 1839, 'gesundheit': 1840, 'staaten': 1841, 'freundin': 1842, 'foerdern': 1843, 'rauen': 1844, 'gefluechteten': 1845, 'argumente': 1846, 'journalismus': 1847, 'drittklassige': 1848, 'schmidt': 1849, 'soviel': 1850, 'kam': 1851, 'pur': 1852, 'kuemmern': 1853, 'oeffentlichkeit': 1854, 'marcuspretzell': 1855, 'dreckigen': 1856, 'irgendwas': 1857, 'diktator': 1858, 'eskalation': 1859, 'sowieso': 1860, 'ell': 1861, 'news': 1862, 'vorbei': 1863, 'gehts': 1864, 'ca': 1865, 'erfunden': 1866, 'greenclaudia': 1867, 'typen': 1868, 'kritisie': 1869, 'peinlich': 1870, 'herrn': 1871, 'ermittelt': 1872, 'fallen': 1873, 'republikaner': 1874, 'abgelehnt': 1875, 'seht': 1876, 'privilegien': 1877, 'gefragt': 1878, 'benachteiligt': 1879, 'sellner': 1880, 'bisschen': 1881, 'intersexualitaet': 1882, 'benachteiligung': 1883, 'seehofer': 1884, 'huehnerscheisse': 1885, 'strom': 1886, 'taten': 1887, 'liberal': 1888, 'schwuler': 1889, 'glaub': 1890, 'persoenliche': 1891, 'verarscht': 1892, 'dorobaer': 1893, 'berichtausberlin': 1894, 'politisch': 1895, 'hauptsaechlich': 1896, 'tagdermenschenrechte': 1897, 'anteil': 1898, 'wofuer': 1899, 'schriften': 1900, 'fuehlen': 1901, 'verein': 1902, 'ergibt': 1903, 'heutejournal': 1904, 'geeignet': 1905, 'behauptungen': 1906, '16': 1907, 'lohnt': 1908, 'kolonialismus': 1909, 'unten': 1910, 'hwieduwilt': 1911, 'daemon': 1912, 'pegida': 1913, 'vollkommen': 1914, 'liebt': 1915, 'loesung': 1916, 'rasse': 1917, 'kaiser': 1918, 'huerde': 1919, 'luegenpresse': 1920, 'maria': 1921, 'derjenige': 1922, 'beobachtet': 1923, 'gnade': 1924, 'weltweit': 1925, 'gebuehren': 1926, 'noe': 1927, 'themen': 1928, 'fluechtlingshilfe': 1929, 'zuerst': 1930, 'liberale': 1931, 'bewilligt': 1932, 'bzberlin': 1933, 'verkeh': 1934, 'kauf': 1935, 'staatspreisnrw': 1936, 'wolfgang': 1937, 'aufmerksamkeit': 1938, 'drecks': 1939, 'wieviele': 1940, 'position': 1941, 'rest': 1942, 'verfolgung': 1943, 'spalten': 1944, 'arschloch': 1945, 'albern': 1946, 'gutmenschen': 1947, 'gemeldet': 1948, 'uwe': 1949, 'opposition': 1950, 'une': 1951, 'raeglich': 1952, 'trotz': 1953, 'landwi': 1954, 'linie': 1955, 'bei': 1956, 'nahen': 1957, 'systems': 1958, 'vier': 1959, 'vermutlich': 1960, 'grosses': 1961, 'argument': 1962, 'journalisten': 1963, 'irre': 1964, 'komisch': 1965, 'eroeffnet': 1966, 'einfuehren': 1967, 'konkret': 1968, 'gefluechtete': 1969, 'tilojung': 1970, 'weihnachtsmarkt': 1971, 'bmi': 1972, 'getoetet': 1973, 'zusammenleben': 1974, 'zustimmung': 1975, 'soros': 1976, 'kandidat': 1977, 'pruefen': 1978, 'verlassen': 1979, 'gegner': 1980, 'berlincopa': 1981, 'unhcr': 1982, 'schlechten': 1983, 'sondierungsgespraeche': 1984, 'erstaunlich': 1985, 'schrift': 1986, 'amis': 1987, 'angeht': 1988, 'spielt': 1989, 'gross': 1990, 'tier': 1991, 'sanddrn': 1992, 'unterscheiden': 1993, 'staatsanwaltschaft': 1994, 'heteros': 1995, 'burka': 1996, 'anderes': 1997, 'geaeusse': 1998, 'bezeichnen': 1999, 'dawa': 2000, 'zangpo': 2001, 'pallemison': 2002, 'konservativen': 2003, 'saemtliche': 2004, 'besetztes': 2005, 'jochenbittner': 2006, 'treu': 2007, 'sexy': 2008, 'einzige': 2009, 'auftreten': 2010, 'tauss': 2011, 'strunzdummen': 2012, 'schauspieler': 2013, 'vaterland': 2014, 'duerfte': 2015, 'republik': 2016, 'johannes': 2017, 'dir': 2018, 'fanatikerin': 2019, 'weltanschauung': 2020, 'ahnung': 2021, 'gedanken': 2022, 'beginnen': 2023, 'pbahners': 2024, 'unterstuetzt': 2025, 'mehrzahl': 2026, 'enthaelt': 2027, 'pontifex': 2028, 'erfolgreich': 2029, 'zeugnis': 2030, 'aussenminister': 2031, 'verdammt': 2032, 'blondjedi': 2033, 'projekt': 2034, 'michel': 2035, 'tote': 2036, 'achtung': 2037, 'barcelona': 2038, 'netz': 2039, 'demokratische': 2040, 'beginnt': 2041, 'melden': 2042, 'manuelaschwesig': 2043, 'schwulemiker': 2044, 'woran': 2045, 'asylwahnsinn': 2046, 'faktor': 2047, 'nation': 2048, 'kreis': 2049, 'nabbia2': 2050, 'umgehen': 2051, 'spinner': 2052, 'asozialen': 2053, 'sender': 2054, 'liefern': 2055, 'barbarische': 2056, 'mutti': 2057, 'pesch': 2058, 'piratnrw': 2059, 'nem': 2060, 'visa': 2061, 'domau': 2062, 'satrapen': 2063, 'onlinemagazin': 2064, 'gelebt': 2065, 'verkauft': 2066, 'unglaublich': 2067, 'argumentation': 2068, 'abzugrenzen': 2069, 'entdeckt': 2070, 'haettest': 2071, 'arschloecher': 2072, 'franzoesische': 2073, 'lobby': 2074, 'tritt': 2075, 'umgehend': 2076, 'afghanistan': 2077, 'spahn': 2078, 'keinerlei': 2079, 'nohatespeechde': 2080, 'rassisten': 2081, 'verschissen': 2082, 'agenda': 2083, 'rational': 2084, 'gekommen': 2085, 'screenshot': 2086, 'zaehlen': 2087, 'eliten': 2088, 'ansprechen': 2089, 'biste': 2090, 'entlastet': 2091, 'multikulturell': 2092, 'still': 2093, 'wenige': 2094, 'anfang': 2095, 'miteinander': 2096, 'hruotland2017': 2097, 'matthias': 2098, 'kamann': 2099, 'legt': 2100, 'vernichtung': 2101, 'k': 2102, 'existie': 2103, 'wuerdest': 2104, 'hinzufuegungen': 2105, 'interpretationen': 2106, 'wolfganghetzler1964': 2107, 'googlemail': 2108, 'knapp': 2109, 'langweilige': 2110, 'helfer': 2111, 'bauen': 2112, 'naechste': 2113, 'haesslich': 2114, 'musevg': 2115, 'insofern': 2116, 'markrudolph2701': 2117, 'barbarei': 2118, 'demaiziere': 2119, 'brandenburg': 2120, 'studieren': 2121, 'arzt': 2122, 'sitzt': 2123, 'monikaherrmann1': 2124, 'willkuerlich': 2125, 'koerperverletzung': 2126, 'begriffe': 2127, 'quasi': 2128, 'problematisch': 2129, 'anfangen': 2130, 'konnten': 2131, 'scheuer': 2132, 'behalten': 2133, 'null': 2134, 'maerz': 2135, 'geir': 2136, 'hoeness': 2137, 'fehlen': 2138, 'maedels': 2139, 'reich': 2140, 'verheissung': 2141, 'schrifttext': 2142, 'jes': 2143, 'soldaten': 2144, 'zitat': 2145, 'federn': 2146, 'schmuecken': 2147, 'ordnung': 2148, 'twitte': 2149, 'buergern': 2150, 'geplant': 2151, 'hoechstens': 2152, 'november': 2153, 'aigudewi': 2154, 'verfolgt': 2155, '24': 2156, 'tuer': 2157, 'verkommen': 2158, 'strategie': 2159, 'holydforce': 2160, 'erwaehnt': 2161, 'geschwiegen': 2162, 'person': 2163, 'durcheinander': 2164, 'allah': 2165, 'niveau': 2166, 'holger': 2167, 'kneipe': 2168, 'treffen': 2169, '1933': 2170, 'n59': 2171, 'puppche': 2172, 'geloescht': 2173, 'dahinter': 2174, 'advent': 2175, 'wohnraum': 2176, 'sozial': 2177, 'rainer': 2178, 'koch': 2179, 'liegen': 2180, 'schlimmsten': 2181, 'dokiligo': 2182, 'solltest': 2183, 'rand': 2184, 'hl': 2185, 'prosieben': 2186, 'beschaeftigen': 2187, 'unbedingt': 2188, 'oekumene': 2189, 'inzwischen': 2190, 'angela': 2191, 'schaden': 2192, 'wenden': 2193, 'sonst': 2194, 'wollte': 2195, 'kapitel': 2196, 'vorkommen': 2197, 'personal': 2198, 'schalte': 2199, 'est': 2200, 'fraktionsnahles': 2201, 'boris': 2202, 'liberalen': 2203, 'humanitaere': 2204, '1000': 2205, 'jeden': 2206, 'lata': 2207, 'mariusz': 2208, 'wagenknecht': 2209, 'ueberholen': 2210, 'dominanz': 2211, 'staerke': 2212, 'mannes': 2213, 'kaffee': 2214, 'beitraege': 2215, 'belgien': 2216, 'erfuellen': 2217, 'kindheit': 2218, 'zug': 2219, 'hallo': 2220, 'heterosexuellen': 2221, 'lebens': 2222, 'moralisch': 2223, 'shahakshapira': 2224, 'buergerkrieg': 2225, 'seele': 2226, 'bullshit': 2227, 'nuernberg': 2228, 'ku': 2229, 'wand': 2230, 'nachdem': 2231, 'heutige': 2232, 'angriff': 2233, 'alkohol': 2234, 'ficken': 2235, 'hessen': 2236, 'p': 2237, 'koeln': 2238, 'verseuchte': 2239, 'gewohnt': 2240, 'nopgy8i7': 2241, 'po': 2242, 'arminph': 2243, 'reagieren': 2244, 'karlaschnik': 2245, '90ern': 2246, 'stammwaehler': 2247, 'pottrlot': 2248, 'jaja': 2249, 'se': 2250, 'menge': 2251, 'salomo': 2252, 'frankbeh': 2253, 'gezielt': 2254, 'laden': 2255, 'nieder': 2256, 'tiffanyangelx': 2257, 'gefuehle': 2258, 'fakten': 2259, 'neutral': 2260, 'fahrer': 2261, 'fuhr': 2262, 'hassprediger': 2263, 'vorne': 2264, 'befuerchte': 2265, 'gegenwa': 2266, 'jammern': 2267, 'weisse': 2268, 'laender': 2269, 'chebli': 2270, 'dankt': 2271, 'bekenntnis': 2272, 'bunt': 2273, 'titania0001': 2274, 'bein': 2275, 'treiben': 2276, 'theorie': 2277, 'buergermeister': 2278, 'farbenbekennen': 2279, 'gt': 2280, 'ergebnisse': 2281, 'polizisten': 2282, 'vergangenheit': 2283, 'bewaehrung': 2284, 'geforde': 2285, 'nachdenken': 2286, 'verlierer': 2287, 'voegel': 2288, 'mitteln': 2289, 'verfassungsgericht': 2290, 'new': 2291, 'diskutie': 2292, 'ausgedacht': 2293, 'infostand': 2294, 'kamen': 2295, 'nationaldemokrat': 2296, 'einschlagen': 2297, 'al': 2298, 'brauchst': 2299, 'auftrag': 2300, 'jammerlappen': 2301, 'gesindel': 2302, 'gegenwehr': 2303, 'insgesamt': 2304, '2010': 2305, 'team': 2306, 'religionsfreiheit': 2307, 'inhalte': 2308, 'vermitteln': 2309, 'spiegel': 2310, 'steigt': 2311, 'ziegen': 2312, 'vorreiter': 2313, 'drkissler': 2314, 'gesetzgeber': 2315, 'abnahme': 2316, 'gebet': 2317, 'spiegelonline': 2318, 'wow': 2319, 'weitaus': 2320, 'klitschko': 2321, 'gefeie': 2322, 'sklave': 2323, 'nazikeule': 2324, 'scheinheiligen': 2325, 'gebildet': 2326, 'ardkontraste': 2327, 'rhein': 2328, 'erster': 2329, 'uebernehmen': 2330, 'richtige': 2331, 'eingefueh': 2332, 'spaeter': 2333, 'aergern': 2334, 'frauenwelt': 2335, 'betrogen': 2336, 'freude': 2337, 'zentrum': 2338, 'heiraten': 2339, 'wesentlichen': 2340, 'aynrandism': 2341, 'alicologne': 2342, 'meist': 2343, 'vielfalt': 2344, 'gewaehrleistet': 2345, 'aldavoodi': 2346, 'piratenlily': 2347, 'foerderung': 2348, 'nationalen': 2349, 'amerikanische': 2350, 'islamisierung': 2351, 'steuergeld': 2352, 'j': 2353, 'wa': 2354, 'neef': 2355, 'wahlprogramm': 2356, 'weise': 2357, 'sanktionen': 2358, 'sogenannten': 2359, 'siehe': 2360, 'schergen': 2361, 'david': 2362, 'angriffe': 2363, 'freut': 2364, 'fern': 2365, 'deniz': 2366, 'yuecel': 2367, 'grossa': 2368, 'weil': 2369, 'tuerke': 2370, 'vorfaelle': 2371, 'vordergrund': 2372, 'k3vk4': 2373, 'brutal': 2374, 'jemanden': 2375, 'geweiht': 2376, 'erneut': 2377, 'mischa0815': 2378, 'amerika': 2379, 'projekte': 2380, 'fluechtlingsarbeit': 2381, 'schwerin': 2382, 'luegner': 2383, 'dummheit': 2384, 'wehe': 2385, 'gestoe': 2386, 'lemminge': 2387, 'niemamovassat': 2388, 'konfrontie': 2389, 'signale': 2390, 'maennlicher': 2391, 'laiendarsteller': 2392, 'bricht': 2393, 'verwechselt': 2394, 'antisemitische': 2395, 'massnahmen': 2396, 'beachten': 2397, 'billiger': 2398, 'untereinander': 2399, 'vermisse': 2400, 'wahlkampf': 2401, '4genderstudies': 2402, 'geschickt': 2403, 'bilden': 2404, 'eingesetzt': 2405, 'zeig': 2406, 'wo': 2407, 'material': 2408, 'sache': 2409, 'schaffen': 2410, 'europaeer': 2411, 'dinosaurier': 2412, 'scharia': 2413, 'kampagne': 2414, 'feststellen': 2415, 'nrw17': 2416, 'trumps': 2417, 'paedophilen': 2418, 'buzzfeed': 2419, 'jaeger': 2420, 'pfeife': 2421, 'kerstingriese': 2422, 'reine': 2423, 'kleinen': 2424, 'milliardaere': 2425, 'formel': 2426, 'sozialstaat': 2427, 'sven': 2428, 'zittern': 2429, 'reform': 2430, 'erziehen': 2431, 'boundborg': 2432, 'rechtfe': 2433, 'individuum': 2434, 'besseren': 2435, 'mitte': 2436, 'erde': 2437, 'schlaf': 2438, 'demokraten': 2439, 'siegen': 2440, 'aufgepasst': 2441, 'verzichtet': 2442, 'vorsicht': 2443, 'betont': 2444, 'informieren': 2445, 'anwalt': 2446, 'fremde': 2447, 'leh': 2448, 'satz': 2449, 'demi': 2450, 'as': 2451, 'freilassung': 2452, 'bax': 2453, 'daniel': 2454, 'no': 2455, 'gesetzen': 2456, 'bedeuten': 2457, 'aufgeben': 2458, 'legal': 2459, 'bastard': 2460, 'implizit': 2461, 'bestaetigen': 2462, 'eberhunter1': 2463, 'tamarawernli': 2464, 'derzeit': 2465, 'sah': 2466, 'haelst': 2467, 'aussehen': 2468, 'vorsitzenden': 2469, 'sachsen': 2470, 'klaus': 2471, 'wehren': 2472, 'lilly': 2473, 'blaudszun': 2474, 'erika': 2475, 'erbe': 2476, 'sondierung': 2477, 'runter': 2478, 'tierquaeler': 2479, 'kenne': 2480, 'mandat': 2481, 'kern': 2482, 'geholfen': 2483, 'verbrennen': 2484, 'multikulturalismus': 2485, 'schlafen': 2486, 'rylahbd': 2487, 'indoktrination': 2488, 'unternehmen': 2489, 'vorbild': 2490, 'karriere': 2491, 'fehler': 2492, 'breit': 2493, 'beteiligung': 2494, 'klaun': 2495, 'nirgendwo': 2496, 'uno': 2497, 'grundlagen': 2498, 'zivilisation': 2499, 'frechheit': 2500, 'bedanken': 2501, 'hochschulen': 2502, 'pro7': 2503, 'filipinos': 2504, 'sozialschmarotzern': 2505, 'dreckige': 2506, 'rolandbauer11': 2507, 'caroline': 2508, 'lmu': 2509, 'untergehen': 2510, 'posener': 2511, 'grenze': 2512, 'spenden': 2513, 'konze': 2514, 'feind': 2515, 'benennen': 2516, 'ihn': 2517, 'bande': 2518, 'm0rpheouz': 2519, 'hausfrau4ever': 2520, 'berechtigt': 2521, 'stinkt': 2522, 'lesben': 2523, 'hinterher': 2524, 'ueberzeugt': 2525, 'lauch': 2526, 'mittelalter': 2527, 'emanzipie': 2528, 'drehen': 2529, 'baetschi': 2530, 'sorge': 2531, 'vergangenen': 2532, 'tobiasm': 2533, 'russen': 2534, 'pure': 2535, 'regel': 2536, 'arm': 2537, 'waehlbar': 2538, 'nopgy': 2539, 'muetter': 2540, 'dahin': 2541, 'mode': 2542, 'begeistern': 2543, 'unfassbar': 2544, 'goering': 2545, 'konzerne': 2546, 'worin': 2547, 'automatisch': 2548, 'bauer': 2549, 'runden': 2550, 'knechte': 2551, 'jensspahn': 2552, 'verfall': 2553, 'klare': 2554, 'kardinal': 2555, 'bistuemern': 2556, 'friedenslicht': 2557, 'wahrheiten': 2558, 'vadderland': 2559, 'navid': 2560, 'kermani': 2561, 'mueller': 2562, 'hosen': 2563, 'ansonsten': 2564, 'sowohl': 2565, 'zivilisie': 2566, 'rag': 2567, 'karlsruhe': 2568, 'thom2805': 2569, 'entwicklungslaendern': 2570, 'dschihadisten': 2571, 'spdybit': 2572, 'strafen': 2573, 'nt': 2574, 'regionen': 2575, 'syrischen': 2576, 'feministisch': 2577, 'hoeher': 2578, 'ausschuss': 2579, 'islamische': 2580, 'bestaetigt': 2581, 'verdienen': 2582, 'schroeder': 2583, 'oeffnen': 2584, 'gemeinden': 2585, 'masteroftwitr': 2586, 'schicken': 2587, 'syrer': 2588, 'teatimecookie': 2589, 'schuetzt': 2590, 'amerikanischen': 2591, 'storch': 2592, 'tahirovic': 2593, 'zwang': 2594, 'weltoffen': 2595, 'wunder': 2596, 'bt': 2597, 'duennschiss': 2598, 'religioesen': 2599, 'narzissmus': 2600, 'propheten': 2601, 'gutjahr': 2602, 'schliesst': 2603, 'oder': 2604, 'uni': 2605, 'schluss': 2606, 'groesser': 2607, 'hautfarbe': 2608, 'pervers': 2609, 'wirklichkeit': 2610, 'faelle': 2611, 'verlie': 2612, 'schlimmes': 2613, 'bewegung': 2614, 'lenasmileey': 2615, 'koalitionsverhandlungen': 2616, 'oppo': 2617, 'derberliiner': 2618, 'moeglichkeit': 2619, 'zeitung': 2620, 'fxneumann': 2621, 'gruende': 2622, 'amadeuantonio': 2623, 'kannte': 2624, 'facto': 2625, 'weltbild': 2626, 'erklaerung': 2627, 'cicero': 2628, 'saufen': 2629, 'wenigsten': 2630, 'erheben': 2631, 'westbank': 2632, 'juso': 2633, 'tollversterker': 2634, 'voelkerrecht': 2635, 'changeger': 2636, 'mossis': 2637, 'israelingermany': 2638, 'arabischen': 2639, 'taschen': 2640, 'sklavin': 2641, 'trinken': 2642, 'einzigen': 2643, 'differenzieren': 2644, 'scheinheilgsten': 2645, 'schiessen': 2646, 'georg': 2647, 'bernd471': 2648, 'anscheinend': 2649, 'negern': 2650, 'arabern': 2651, 'welthandel': 2652, 'kragen': 2653, 'verbloedete': 2654, 'gnadenlos': 2655, 'praesentie': 2656, 'erbaermlich': 2657, 'wochen': 2658, 'regsprecher': 2659, 'ihm': 2660, 'bemuehen': 2661, 'ideologischer': 2662, 'naehe': 2663, 'unmoeglich': 2664, 'vergiften': 2665, '06': 2666, 'bibaltonensis': 2667, 'transpo': 2668, 'hanvoi': 2669, 'franz': 2670, 'empfinde': 2671, 'saekulare': 2672, 'vergewaltigungen': 2673, 'entwickelt': 2674, 'jolantel': 2675, 'beobachten': 2676, 'baum': 2677, 'schenken': 2678, 'chemie': 2679, 'haeufiger': 2680, 'fair': 2681, 're': 2682, 'beschimpft': 2683, 'wahren': 2684, 'hund': 2685, 'gehoerst': 2686, 'umso': 2687, 'guter': 2688, 'mind': 2689, 'vorstand': 2690, 'einzelfallinfos': 2691, 'iran': 2692, 'rechtliche': 2693, 'heikowasser': 2694, 'mai': 2695, 'janjansen96': 2696, 'atheist': 2697, 'hetzer': 2698, 'sprache': 2699, 'jennyimwesten': 2700, 'politikern': 2701, 'breitscheidplatz': 2702, 'vorschlag': 2703, 'inhaltlich': 2704, 'pornos': 2705, 'absolut': 2706, 'hilluabblader': 2707, 'hierfuer': 2708, 'nationalismus': 2709, 'grausamkeit': 2710, 'gewalttaetig': 2711, 'beziehen': 2712, 'besinnliche': 2713, 'zugang': 2714, 'witz': 2715, 'verfuegung': 2716, 'ausdruck': 2717, 'real': 2718, 'instrumentalisie': 2719, 'her': 2720, 'sonderrechte': 2721, 'gericht': 2722, 'feinde': 2723, 'staerken': 2724, 'warne': 2725, 'spiele': 2726, 'freier': 2727, 'irgendein': 2728, 'digitalisierung': 2729, 'besorgt': 2730, 'peteraltmaier': 2731, 'triviales': 2732, 'dezember': 2733, 'ratte': 2734, 'sieg': 2735, 'emanzipation': 2736, 'sondern': 2737, 'selben': 2738, 'ausweis': 2739, 'warnen': 2740, 'migration': 2741, 'problems': 2742, 'komm': 2743, 'feministin': 2744, 'rassistischen': 2745, 'altena': 2746, 'gemerkt': 2747, 'chinesen': 2748, 'schuhe': 2749, 'lg': 2750, 'demonstration': 2751, 'tatsachen': 2752, 'kleines': 2753, '2013': 2754, 'akzeptie': 2755, 'teppich': 2756, 'negatives': 2757, 'rueckfuehrung': 2758, 'thueringen': 2759, 'franziskus': 2760, 'black': 2761, 'globalisierung': 2762, 'bildet': 2763, 'generationen': 2764, 'ueberreden': 2765, 'selten': 2766, 'angesehen': 2767, 'stell': 2768, 'unzufriedenerb': 2769, 'jaemmerlich': 2770, 'begegnung': 2771, 'moschee': 2772, 'tuerkische': 2773, 'facharbeiter': 2774, 'aerzte': 2775, 'laengst': 2776, 'eindeutig': 2777, 'vereinbar': 2778, 'verletzte': 2779, 'zivilgesellschaft': 2780, 'lauten': 2781, 'jojoschraps': 2782, 'bestreiten': 2783, 'schwerer': 2784, 'universitaet': 2785, 'vergiss': 2786, 'friedens': 2787, 'herren': 2788, 'irrenhaus': 2789, 'tschechien': 2790, 'heiligabend': 2791, 'gerecht': 2792, 'muslima': 2793, 'ethnie': 2794, 'waffenexpo': 2795, 'verbietet': 2796, 'angemessene': 2797, '65': 2798, 'balkon': 2799, 'als': 2800, 'peters': 2801, 'klappe': 2802, 'maerchen': 2803, 'fehlende': 2804, 'vk': 2805, 'aelter': 2806, 'institutionalisie': 2807, 'dietmaramann1': 2808, 'sozialwo': 2809, 'tolles': 2810, 'genossen': 2811, 'jaemmerlichen': 2812, 'machtgeilheit': 2813, 'sammelbegriff': 2814, 'nationalistischen': 2815, 'befuerwo': 2816, 'engagieren': 2817, 'sozialer': 2818, 'alvar': 2819, 'erwischt': 2820, 'kkleinigkeit': 2821, 'psychische': 2822, 'benoetigt': 2823, 'pferdegebiss': 2824, 'reiterfee': 2825, 'tauber': 2826, 'jean': 2827, 'luc': 2828, 'grandioser': 2829, 'umweltministerin': 2830, 'gelobte': 2831, 'schneider': 2832, 'argumentie': 2833, 'verlaengerung': 2834, 'suntsu': 2835, 'angeboten': 2836, 'sturm': 2837, 'abbrechen': 2838, 'quuux': 2839, 'paktie': 2840, 'ursache': 2841, 'verfluchte': 2842, 'waffel': 2843, 'bosegundolf': 2844, 'knooshoodknorke': 2845, 'angreifen': 2846, 'hollstein63': 2847, 'senatskanzlei': 2848, 'mariae': 2849, 'gloria': 2850, 'faul': 2851, 'spdberlin': 2852, 'kapieren': 2853, 'lotus88118558': 2854, 'mitbekommen': 2855, 'staerker': 2856, 'einkommen': 2857, 'entlastung': 2858, 'erfolgt': 2859, 'beispiele': 2860, 'kindergeld': 2861, 'normale': 2862, 'bis': 2863, 'buergerkrieges': 2864, 'biblische': 2865, 'ablehnt': 2866, 'rechtsradikal': 2867, 'aeusserungen': 2868, 'erscheinen': 2869, 'beweis': 2870, 'testament': 2871, 'nennst': 2872, 'asylant': 2873, 'tagesthemen': 2874, 'diesen': 2875, 'rep': 2876, 'meldet': 2877, 'wolfibey': 2878, 'klima': 2879, 'freu': 2880, 'durchgehend': 2881, 'multikulti': 2882, 'versiffte': 2883, 'istambul': 2884, 'rumaenen': 2885, 'bulgaren': 2886, 'tram': 2887, 'schlampen': 2888, 'xxgiana': 2889, 'mollemopp': 2890, 'schwaenze': 2891, 'werfe': 2892, 'mark': 2893, 'stets': 2894, 'scheinbar': 2895, 'masse': 2896, 'unglaubwuerdig': 2897, 'grotesk': 2898, 'gespraeche': 2899, 'vergwohlrumpler': 2900, 'doktor': 2901, 'entlasten': 2902, 'bauch': 2903, 'fangen': 2904, 'drphiloponus': 2905, 'entschuldigung': 2906, 'nord': 2907, 'karmel': 2908, 'impulse': 2909, 'matthiasbannas': 2910, 'rechtsextremen': 2911, 'hintergrund': 2912, 'timon': 2913, 'gremmels': 2914, 'ploetzlich': 2915, 'kulturellen': 2916, 'gysi': 2917, 'mochten': 2918, 'riesen': 2919, 'christa': 2920, 'kuchen': 2921, 'spruch': 2922, 'verkommt': 2923, 'floskel': 2924, 'migrate89': 2925, 'amnesty': 2926, 'bolschewisten': 2927, 'schwerverbrecher': 2928, 'uli': 2929, 'fc': 2930, 'redpillberlin': 2931, 'gegutgeschlecht': 2932, 'streit': 2933, 'demirkan': 2934, 'mitten': 2935, '35': 2936, 'demokratischen': 2937, 'beschuetzt': 2938, 'privileg': 2939, 'ausgelegt': 2940, 'vilar': 2941, 'beigetragen': 2942, 'geblockt': 2943, 'asylpolitik': 2944, 'umvolkung': 2945, 'scientology': 2946, 'schaebig': 2947, 'bundesrepublik': 2948, 'kubicki': 2949, 'gruendung': 2950, 'freundeskreises': 2951, 'main': 2952, 'horde': 2953, 'foerde': 2954, 'ausnahmen': 2955, 'hintermaenner': 2956, 'cholera': 2957, 'ss': 2958, 'aufgeforde': 2959, 'abzuschaffen': 2960, 'zutiefst': 2961, 'dar': 2962, 'entstehen': 2963, 'ablehnung': 2964, 'ausgrenzung': 2965, 'angebracht': 2966, 'vergewaltigt': 2967, 'wirft': 2968, 'treten': 2969, 'segen': 2970, 'realdonaldtrump': 2971, 'sogenannte': 2972, 'preussen': 2973, 'drittklassigen': 2974, 'vernuenftiger': 2975, 'widersprochen': 2976, 'niedriger': 2977, 'aufklaerung': 2978, 'trans': 2979, 'palaestinensern': 2980, 'erhalten': 2981, 'leuchtturm': 2982, 'verbreitet': 2983, 'taktischen': 2984, 'begeben': 2985, 'eidigungsminister': 2986, 'leyen': 2987, 'gebot': 2988, 'naechstenliebe': 2989, 'rhetorik': 2990, 'kinchkun': 2991, 'nachtraeglich': 2992, 'mussten': 2993, 'vorfeld': 2994, 'aussatz': 2995, 'leon': 2996, 'weihnacht': 2997, 'rechtlich': 2998, 'kategorie': 2999, 'ausgewogen': 3000, 'abwa': 3001, 'jfda': 3002, 'ev': 3003, 'ragen': 3004, 'tot': 3005, 'schneidercar': 3006, 'interessante': 3007, 'ansichten': 3008, 'miststueck': 3009, 'markus': 3010, 'kostenlos': 3011, 'lebendigen': 3012, 'moderatoren': 3013, 'schaeme': 3014, 'buergerinnen': 3015, 'naechstes': 3016, 'korallenherz': 3017, 'resdocs': 3018, 'simpel': 3019, 'lag': 3020, 'aufrechten': 3021, 'gedanke': 3022, 'strand': 3023, 'clauskleber': 3024, 'vergleichen': 3025, 'rocktoamna': 3026, 'elisalocuta': 3027, 'hrmnn01': 3028, 'ergaenzen': 3029, 'faschist': 3030, 'neumann': 3031, 'volle': 3032, 'koerper': 3033, 'schwuchtel': 3034, 'verraet': 3035, 'ntv': 3036, 'liste': 3037, 'splendidmachao': 3038, 'binnenve': 3039, 'riebene': 3040, 'unte': 3041, 'milieus': 3042, 'moralisierende': 3043, 'viel': 3044, 'moral': 3045, 'fahne': 3046, 'beherrschen': 3047, 'on': 3048, 'fundamentalisten': 3049, 'einfluss': 3050, 'bescheid': 3051, 'dein': 3052, 'benehmt': 3053, 'gehalten': 3054, 'afrikaner': 3055, 'packen': 3056, 'karlchen0815': 3057, 'mauer': 3058, 'sonder': 3059, 'asranomani': 3060, 'ernaehrung': 3061, 'anbetrifft': 3062, 'abehosooh': 3063, 'ohren': 3064, 'sehnsucht': 3065, 'innerhalb': 3066, 'wiederholt': 3067, 'einigung': 3068, 'betrifft': 3069, 'spaet': 3070, 'arschka': 3071, 'legitimie': 3072, 'lehren': 3073, 'aende': 3074, 'enden': 3075, 'produktion': 3076, 'puettmann': 3077, 'gluecklicherweise': 3078, 'form': 3079, 'stroebele': 3080, 'schmidtlepp': 3081, 'behinde': 3082, 'bequem': 3083, 'absolute': 3084, 'vollniete': 3085, 'selbstbeweihraeucherung': 3086, 'aktenzeichenxy': 3087, 'schaerfste': 3088, 'rum': 3089, 'stammt': 3090, 'papier': 3091, 'muessten': 3092, 'weltgeschichte': 3093, 'akzeptieren': 3094, 'voelkermordzentrale': 3095, 'schweinefleisch': 3096, 'aeh': 3097, 'jagen': 3098, 'repraesentie': 3099, 'heulen': 3100, 'puh': 3101, 'afdneuigkeiten': 3102, 'heavenlydogz': 3103, 'funktionierende': 3104, 'sozialpolitik': 3105, 'hure': 3106, 'onestepbayond': 3107, 'kubyalcin': 3108, 'bestanden': 3109, 'unwo': 3110, 'dreckig': 3111, 'foto': 3112, 'schaeubele': 3113, 'harmlos': 3114, 'gebote': 3115, 'pech': 3116, 'opferrolle': 3117, 'festung': 3118, 'todsicher': 3119, 'baumannx': 3120, 'schreit': 3121, 'schweigt': 3122, 'verrueckt': 3123, 'vermutung': 3124, 'bus': 3125, 'fauli': 3126, 'moinmoinsager': 3127, 'kumaandrea': 3128, 'klugen': 3129, 'devoten': 3130, 'folgt': 3131, 'gemeint': 3132, 'lucke': 3133, 'kopftuecher': 3134, 'gynaekologen': 3135, 'muschis': 3136, 'fruehstueck': 3137, 'ans': 3138, 'beten': 3139, 'presswurst': 3140, 'knabe': 3141, 'tsp': 3142, 'ag': 3143, 'touristen': 3144, 'gelogen': 3145, 'weltanschaulich': 3146, 'grossveranstaltung': 3147, 'edathy': 3148, 'stattdessen': 3149, 'wegsperren': 3150, 'apoll0x': 3151, 'moscheen': 3152, 'kuh': 3153, 'menschenwuerde': 3154, 'elmarbrok': 3155, 'mep': 3156, 'derzeitige': 3157, 'bedeutung': 3158, 'irmgard': 3159, 'tarek': 3160, 'leitner': 3161, 'r1chtungsweiser': 3162, 'auswandern': 3163, 'schlafe': 3164, 'petrapaumahe': 3165, 'couragie': 3166, 'armen': 3167, 'beginn': 3168, 'oktober': 3169, 'unabhaengig': 3170, 'bekaempft': 3171, 'justiz': 3172, 'doppel500': 3173, 'dummen': 3174, 'opferkultur': 3175, 'biologie': 3176, 'spon': 3177, 'garantie': 3178, 'wettbewerb': 3179, 'gebe': 3180, 'eivorsitzender': 3181, 'samstag': 3182, 'menschenbild': 3183, 'schweigespirale': 3184, 'demokratisch': 3185, 'einstellen': 3186, 'stopp': 3187, 'beitrittsgespraeche': 3188, 'clown': 3189, 'nigeria': 3190, 'darunter': 3191, 'bokoharam': 3192, 'erlaeutern': 3193, 'polen': 3194, 'habens': 3195, 'schuldkult': 3196, 'kv171311': 3197, 'rettet': 3198, 'forderung': 3199, 'kanada': 3200, 'armutsrentner': 3201, 'flaschen': 3202, 'sammeln': 3203, 'happy': 3204, 'suendenfall': 3205, 'bspw': 3206, 'nachweislich': 3207, 'argumentieren': 3208, 'scheissegal': 3209, 'unser': 3210, 'anhoeren': 3211, 'nun': 3212, 'rassistische': 3213, 'gleicher': 3214, 'armes': 3215, 'tsukino': 3216, 'usako': 3217, 'marenleinchen66': 3218, 'jreichelt': 3219, 'loescht': 3220, 'zulassen': 3221, 'richten': 3222, 'magazin': 3223, 'elend': 3224, 'verfluchten': 3225, 'hueten': 3226, 'versprochen': 3227, 'wuehlen': 3228, 'einkaufen': 3229, 'schweizer': 3230, 'almosta': 3231, 'bessere': 3232, 'wahlrecht': 3233, 'kurs': 3234, 'entscheidungen': 3235, 'geschissen': 3236, 'einigermassen': 3237, 'michael': 3238, 'nationalisten': 3239, 'redaktion': 3240, 'anzeige': 3241, 'lesenswe': 3242, 'brauch': 3243, 'peacecakex': 3244, 'handlungsfaehig': 3245, 'zustand': 3246, 'reissen': 3247, 'auslaendern': 3248, 'hierzulande': 3249, 'wenns': 3250, 'karikatur': 3251, 'journ': 3252, 'ali': 3253, 'kelghazzali': 3254, 'unglaeubige': 3255, 'claire': 3256, 'farr0n': 3257, 'antisemitisch': 3258, 'zumal': 3259, 'kulturkreis': 3260, 'zeichnet': 3261, 'worum': 3262, 'roland': 3263, 'jesiden': 3264, 'uropas': 3265, 'meldungen': 3266, 'tgl': 3267, 'taetern': 3268, 'todesstrafe': 3269, 'witze': 3270, 'momentan': 3271, 'koenntet': 3272, 'frauschmauke': 3273, 'ehen': 3274, 'gewollt': 3275, 'entspricht': 3276, 'beduerfnis': 3277, 'obsolet': 3278, 'altermediad': 3279, 'gewusst': 3280, 'feministische': 3281, 'analyse': 3282, 'unterziehen': 3283, 'brueste': 3284, 'allgemeinen': 3285, 'oeffentlichen': 3286, 'nachhilfestunde': 3287, 'einsperren': 3288, 'funktionaerin': 3289, 'finanzie': 3290, 'schoenheit': 3291, 'mariamlau1': 3292, 'punkte': 3293, 'besuch': 3294, 'verrate': 3295, 'zurecht': 3296, 'entlassen': 3297, 'bombasstard': 3298, 'pinselpoetin': 3299, 'erstaunt': 3300, 'hirn': 3301, 'ausgeben': 3302, 'zurueckweisen': 3303, 'ebhhfluechthilf': 3304, 'schleimer': 3305, 'beruf': 3306, 'relativie': 3307, 'krim': 3308, 'missbraucht': 3309, 'fuessen': 3310, 'schwarzer': 3311, 'foxnews': 3312, 'bendels': 3313, 'stein': 3314, 'schwerpunktthema': 3315, 'eigentlichen': 3316, 'eidigung': 3317, 'mesale': 3318, 'tolu': 3319, 'sehr': 3320, 'druck': 3321, 'freedeniz': 3322, 'freethemall': 3323, 'holmhw': 3324, 'meinungsdiktatur': 3325, 'blau': 3326, 'win': 3327, 'gebraucht': 3328, 'suedsudan': 3329, 'sentenza66': 3330, 'tuerkischen': 3331, 'perspektive': 3332, 'antisemitischer': 3333, 'sinne': 3334, 'dient': 3335, 'grafik': 3336, 'raubt': 3337, 'dagegensein': 3338, 'ropietsch': 3339, 'jungs': 3340, 'durchzusetzen': 3341, 'retweets': 3342, 'krebsgeschwuer': 3343, 'ausbreiten': 3344, 'pest': 3345, 'beine': 3346, 'eigenes': 3347, 'connect17de': 3348, 'samad': 3349, 'ebensowenig': 3350, 'nen': 3351, 'fuerchte': 3352, 'verringern': 3353, 'instrument': 3354, 'internationalen': 3355, 'fanseite': 3356, 'siche': 3357, 'privat': 3358, 'seltsam': 3359, 'lohndrueckerei': 3360, 'olle': 3361, 'bundeskanzlerin': 3362, 'wirken': 3363, 'aufzuklaeren': 3364, 'rote': 3365, 'brauchte': 3366, 'gentechnik': 3367, 'oekologische': 3368, 'produzieren': 3369, 'farbe': 3370, 'bekennen': 3371, 'gemeinsamen': 3372, 'hiess': 3373, 'gabonn': 3374, 'braunen': 3375, 'bewusst': 3376, 'regeln': 3377, 'grenzt': 3378, 'berlinerzeitung': 3379, 'frauenrechte': 3380, 'gelegt': 3381, 'schmarotzenden': 3382, 'ossis': 3383, 'gerede': 3384, 'prognose': 3385, 'vernuenftige': 3386, 'somit': 3387, 'beschneidung': 3388, 'kosmos': 3389, 'relevante': 3390, 'gefahren': 3391, 'grauen': 3392, 'airline': 3393, 'sta': 3394, 'landet': 3395, 'beides': 3396, 'unqualifizie': 3397, 'wuenscht': 3398, 'bochum': 3399, 'jtrittin': 3400, 'anzahl': 3401, 'fractality': 3402, 'umve': 3403, 'massiv': 3404, 'jasiebe': 3405, 'mund': 3406, 'produktivitaet': 3407, 'angebot': 3408, 'absurdistan': 3409, 'mgtow': 3410, 'gerechtfe': 3411, 'igt': 3412, 'zeitalter': 3413, 'wegwerfen': 3414, 'anzuerkennen': 3415, 'gerechter': 3416, 'israelis': 3417, 'unmenschlich': 3418, 'generation': 3419, 'subjekt': 3420, 'kriegstreiber': 3421, 'you': 3422, 'helmut': 3423, 'zweiten': 3424, 'manipulie': 3425, 'dfakenews': 3426, 'aufruestung': 3427, 'milatrud11': 3428, 'buzzfeedgermany': 3429, '85': 3430, 'mhoepflinger': 3431, 'zecken': 3432, 'antifa': 3433, 'verschwindet': 3434, 'elite': 3435, 'werbung': 3436, 'ohnehin': 3437, 'grundeinkommen': 3438, 'jagt': 3439, 'ehre': 3440, 'kurzer': 3441, 'twitternwieposener': 3442, 'augustinus': 3443, 'rostein45': 3444, 'miss': 3445, 'tinotschka': 3446, 'januar': 3447, 'jf': 3448, 'hoffgaard': 3449, 'staatsanwalt': 3450, 'jost2018': 3451, 'deusneptune': 3452, 'freavonwegen': 3453, 'abschiebungen': 3454, 'samt': 3455, 'gutmensch': 3456, 'ablenken': 3457, 'auftritt': 3458, 'umbringen': 3459, 'schweine': 3460, 'funktion': 3461, 'trittin': 3462, 'spueren': 3463, 'klae': 3464, 'weissen': 3465, 'personen': 3466, 'irgendetwas': 3467, 'wuesste': 3468, 'buergerversicherung': 3469, 'muslimas': 3470, 'unbegreiflich': 3471, 'establishment': 3472, 'korruption': 3473, 'bernie': 3474, 'strukturie': 3475, 'kanal': 3476, 'organisieren': 3477, 'indoktrinie': 3478, 'rolle': 3479, 'mindph': 3480, 'verfuegungsmasse': 3481, 'durchgesetzt': 3482, 'anwendung': 3483, 'jens': 3484, 'weitermachen': 3485, 'scheinheiligsten': 3486, 'gegen': 3487, 'claudi': 3488, 'lpdwien': 3489, 'fuehle': 3490, 'bleibe': 3491, 'herojacques': 3492, 'kompromisse': 3493, 'fatal': 3494, 'irgend': 3495, 'langem': 3496, 'mitarbeiterin': 3497, 'irgendwann': 3498, 'kuenstler': 3499, 'buwehr': 3500, 'hdp': 3501, 'streiten': 3502, 'aufklaeren': 3503, 'austausch': 3504, 'bedingungen': 3505, 'zweckkind': 3506, 'mgenblog': 3507, '1983film': 3508, 'befuerchten': 3509, 'konsequenten': 3510, 'rahmen': 3511, 'degenerie': 3512, 'schlechte': 3513, 'blinzeln': 3514, 'eingeladen': 3515, 'eingewande': 3516, 'no934': 3517, 'faellen': 3518, 'goebbels': 3519, 'hasse': 3520, 'genderisten': 3521, 'huldigen': 3522, 'registrieren': 3523, 'kant': 3524, 'kontrakulturell': 3525, 'sowie': 3526, 'alltag': 3527, 'schmeisst': 3528, 'poggenburg': 3529, 'kreativitaet': 3530, 'bekanntlich': 3531, 'nehme': 3532, 'fliessend': 3533, 'bezug': 3534, 'geredet': 3535, 'vorbereitung': 3536, 'doofe': 3537, 'steuer': 3538, 'steuergeldern': 3539, 'reisst': 3540, 'robe': 3541, 'guete': 3542, 'ue': 3543, 'hashtag': 3544, 'stephanushh': 3545, 'teufelskueche': 3546, 'kennst': 3547, 'gleichen': 3548, 'nordkorea': 3549, 'geistige': 3550, 'ausstattung': 3551, 'staatsfernsehen': 3552, 'ueberwinden': 3553, 'israelische': 3554, 'israelischen': 3555, 'uminterpretie': 3556, 'spezielle': 3557, 'reise': 3558, 'schaefchen': 3559, 'moeglichst': 3560, 'gescheite': 3561, 'augenblick': 3562, 'fernsehgottesdienst': 3563, 'zentrale': 3564, 'europaeische': 3565, 'adi': 3566, 'ggue': 3567, 'russland': 3568, 'nato': 3569, 'nich': 3570, 'he': 3571, 'kritisiere': 3572, 'stattgefunden': 3573, 'kinos': 3574, 'wagt': 3575, 'bodenlose': 3576, 'dummschwaetzerei': 3577, 'reibung': 3578, 'ostgebieten': 3579, 'y': 3580, 'achse': 3581, 'verfassungsrichter': 3582, 'patienten': 3583, 'keirdullea2001': 3584, 'keineafd2017': 3585, 'mindestlohn': 3586, 'behandeln': 3587, 'strack': 3588, 'hals': 3589, 'nahezu': 3590, 'echten': 3591, 'sahra': 3592, 'lsbtiq': 3593, 'familiengruendung': 3594, 'noherrman': 3595, 'intelligenz': 3596, 'official': 3597, 'imame': 3598, 'gezeigt': 3599, 'unisono': 3600, 'hlnbg': 3601, 'gerrie352': 3602, 'raute': 3603, 'verbrecherin': 3604, 'anprangern': 3605, 'unbekannten': 3606, 'derliuhvan': 3607, 'rassist': 3608, 'moguai': 3609, 'verlogene': 3610, 'wirklichen': 3611, 'ralfme': 3612, 'ens14': 3613, 'enricotokar': 3614, 'best': 3615, 'djanecek': 3616, 'verbaende': 3617, 'ober': 3618, 'fuenf': 3619, 'betreibt': 3620, 'diesmal': 3621, 'angekommen': 3622, 'lande': 3623, 'bundespraesident': 3624, 'geschwaetz': 3625, 'putin': 3626, 'buergerlich': 3627, 'patriotische': 3628, 'verfolgen': 3629, 'buettnersdl': 3630, 'zarah': 3631, 'zylinder': 3632, 'spoe': 3633, 'bedient': 3634, 'herrurbach': 3635, 'begreifen': 3636, 'demnach': 3637, 'berufen': 3638, 'lade': 3639, 'kriminellen': 3640, 'hysterie': 3641, 'hochverrat': 3642, 'mj123451': 3643, 'nationalsozialismus': 3644, 'diente': 3645, 'diese': 3646, 'schaue': 3647, 'daraufhin': 3648, 'staatsdienst': 3649, 'primitive': 3650, 'islamistin': 3651, 'leichter': 3652, 'hypervizual': 3653, 'laengere': 3654, 'liberalismus': 3655, 'dermassen': 3656, 'history': 3657, 'sechs': 3658, 'kontinuitaeten': 3659, 'oekumenisch': 3660, 'schwestern': 3661, 'brueder': 3662, 'verpoent': 3663, 'vorstellungskraft': 3664, 'auseinandersetzung': 3665, 'arnd': 3666, 'diringer': 3667, 'refugeeschief': 3668, 'industrialisie': 3669, 'geglaubt': 3670, 'zahl': 3671, 'veroniquebantau': 3672, 'swingtanz': 3673, 'angenommen': 3674, 'fein': 3675, 'allgemeinheit': 3676, 'verbreiten': 3677, 'jotdora': 3678, 'rana': 3679, 'gruenebundestag': 3680, 'sachfragen': 3681, 'herein': 3682, 'shakriet': 3683, 'bedingt': 3684, 'morde': 3685, 'gegangen': 3686, 'wlan': 3687, 'einfacher': 3688, 'thilo': 3689, 'dalek': 3690, 'bitten': 3691, 'faellig': 3692, 'angsthasen': 3693, 'akut': 3694, 'rassenlehre': 3695, 'bereich': 3696, 'sandra': 3697, 'hinterfragt': 3698, 'fordere': 3699, 'zahle': 3700, 'brut': 3701, 'angesagt': 3702, 'interessen': 3703, 'gelang': 3704, 'kameramann': 3705, 'sozialen': 3706, 'gefehlt': 3707, 'zaehle': 3708, 'statement': 3709, 'dementi': 3710, 'geschuetzt': 3711, 'hyaenen': 3712, 'anziehung': 3713, 'oeko': 3714, 'panik': 3715, 'setze': 3716, 'suess': 3717, 'zweite': 3718, 'markie': 3719, 'kommissar': 3720, 'gelb': 3721, 'demonstrieren': 3722, 'kalt': 3723, 'davidermes': 3724, 'brandenburger': 3725, 'tor': 3726, 'lichterzuenden': 3727, 'kriegsgebiet': 3728, 'scheinen': 3729, 'bab': 3730, 'ganzes': 3731, 'eintritt': 3732, 'runde': 3733, 'zustaendig': 3734, 'ethnisch': 3735, 'widerspricht': 3736, 'kante': 3737, 'franken': 3738, 'woelki': 3739, 'entwurf': 3740, 'justizkreisen': 3741, 'beutebadener': 3742, 'veroeffentlicht': 3743, 'gast': 3744, 'katholisch': 3745, 'kontrollie': 3746, 'branche': 3747, 'teilzeit': 3748, 'chefs': 3749, 'verpisst': 3750, 'jenseits': 3751, 'feige': 3752, 'steh': 3753, 'pater': 3754, 'philipp': 3755, 'eintagimadvent': 3756, 'weicheier': 3757, 'harmonie': 3758, 'tvduell': 3759, 'etablie': 3760, 'bruessel': 3761, 'erlebe': 3762, 'kafee': 3763, 'volksve': 3764, 'manuring72': 3765, 'getroffen': 3766, 'oma': 3767, 'wagemanja': 3768, 'fundamentalismus': 3769, 'propagie': 3770, 'beziehung': 3771, 'kumpel': 3772, 'forcieren': 3773, 'grausam': 3774, 'tschrammen': 3775, 'solidavidwache': 3776, 'hessenschaude': 3777, 'oliver': 3778, 'landbau': 3779, 'hohe': 3780, 'larve': 3781, 'traue': 3782, 'kulturell': 3783, 'faustregel': 3784, 'verpflichtet': 3785, 'software': 3786, 'binninger': 3787, 'leuten': 3788, 'kaufe': 3789, 'beschaeftigt': 3790, 'staedten': 3791, 'erklaer': 3792, 'staedte': 3793, 'stelle': 3794, 'kluge': 3795, 'eingehen': 3796, 'rufen': 3797, 'arschkriecher': 3798, 'suender': 3799, 'moeglichkeiten': 3800, 'ingosalmen': 3801, 'blickwinkel': 3802, 'ziehe': 3803, 'doerfern': 3804, 'versteht': 3805, 'kritischepress1': 3806, 'schaechten': 3807, 'komplette': 3808, 'heraus': 3809, 'forderungen': 3810, '300': 3811, 'uebermedien': 3812, 'werbellinstrasse': 3813, 'komplizie': 3814, 'programmie': 3815, 'parlamentarischen': 3816, 'kajhoffmann': 3817, 'zustimmen': 3818, 'paritaetberlin': 3819, 'eitag': 3820, 'schulbildung': 3821, 'kompromiss': 3822, 'ausschliesslich': 3823, 'landtagen': 3824, 'wage': 3825, 'bezweifeln': 3826, 'sommer': 3827, 'durchschnittlich': 3828, 'teite99': 3829, 'weizen': 3830, 'dresden': 3831, 'spdbpt18': 3832, 'fahnenfluechtlinge': 3833, 'thaler': 3834, 'heimatschutz': 3835, 'zweifel': 3836, 'unterrichten': 3837, 'maximal': 3838, 'anked': 3839, 'rbb': 3840, 'augstein': 3841, 'zaussel': 3842, 'urne': 3843, 'at': 3844, 'wuetend': 3845, 'bescheue': 3846, 'geholt': 3847, 'inhaerente': 3848, 'rechnen': 3849, 'richard': 3850, 'dididumm': 3851, 'trollen': 3852, 'huren': 3853, 'gehirnwaesche': 3854, '150': 3855, 'reg': 3856, 'vagina': 3857, 'traeumen': 3858, 'dom': 3859, 'warm': 3860, 'schwuchteln': 3861, 'merkwuerdig': 3862, 'vorstellung': 3863, 'attraktiv': 3864, 'eine': 3865, 'ausgebu': 3866, 'bloede': 3867, 'daemlich': 3868, 'schaemen': 3869, 'emmanuelmacron': 3870, 'besatzerknechte': 3871, 'gelobten': 3872, 'scharfe': 3873, 'dt': 3874, 'mauerfall89': 3875, 'frauenquoten': 3876, 'wollt': 3877, 'respektieren': 3878, 'zurueckdrehen': 3879, 'fickt': 3880, 'herzliche': 3881, 'hannover': 3882, 'frydewelt': 3883, 'empfehle': 3884, 'elektrojude': 3885, 'unisten': 3886, 'wesen': 3887, 'konflikt': 3888, 'doktorant': 3889, 'verwenden': 3890, 'festhalten': 3891, 'monaten': 3892, 'wetten': 3893, 'polemik': 3894, 'evahoegl': 3895, 'kontrolle': 3896, 'funkel': 3897, 'juenger': 3898, 'konkrete': 3899, 'exodus': 3900, 'ww2': 3901, 'schlimmbo2': 3902, 'einige': 3903, 'muenster': 3904, 'studenten': 3905, 'strafbar': 3906, 'pauschal': 3907, 'saekularen': 3908, 'atheistischen': 3909, 'bezweifle': 3910, 'wiedergegeben': 3911, 'lebenden': 3912, 'freihandel': 3913, 'grundlage': 3914, 'schnuckis': 3915, 'wusste': 3916, 'motto': 3917, 'trete': 3918, 'faschismus': 3919, 'wette': 3920, 'fettige': 3921, 'atheismus': 3922, 'stalin': 3923, 'analog': 3924, 'zeugen': 3925, 'beraten': 3926, 'kommst': 3927, 'berivan': 3928, 'aslan': 3929, 'aetzend': 3930, 'gruppen': 3931, 'allesamt': 3932, 'antisemiten': 3933, 'selbstmord': 3934, '75': 3935, 'nackt': 3936, 'scheut': 3937, 'demokratiemeile': 3938, 'allie': 3939, 'ruppe': 3940, 'umgang': 3941, 'stephan': 3942, 'riskie': 3943, 'nenn': 3944, 'unendlich': 3945, 'fuehrung': 3946, 'monikahanutko': 3947, 'hobbyhuren': 3948, 'titel': 3949, 'kritische': 3950, 'belegt': 3951, 'twitterde': 3952, 'schule': 3953, 'weblump': 3954, 'albe': 3955, 'neudf': 3956, 'dritter': 3957, 'csdleipzig': 3958, 'leipziger': 3959, 'ruecken': 3960, 'tust': 3961, 'muslim': 3962, 'lern': 3963, '49': 3964, 'differenzie': 3965, 'maziere': 3966, 'irak': 3967, 'faber': 3968, 'gastfreundschaft': 3969, 'pazderski': 3970, 'unfaehigkeit': 3971, 'mob': 3972, 'bedroht': 3973, 'simulacron2': 3974, 'abgrenzung': 3975, 'innenminister': 3976, 'kirchl': 3977, 'einrichtungen': 3978, 'beweist': 3979, 'herres': 3980, 'fruehstuecksfernsehen': 3981, 'beteiligt': 3982, 'ciao': 3983, 'ig0nix': 3984, 'westens': 3985, 'jeweils': 3986, 'offensichtlichen': 3987, 'gezielte': 3988, 'impulsreferat': 3989, 'trauerspiel': 3990, 'schaust': 3991, 'w': 3992, 'trueben': 3993, 'ermittlungsarbeit': 3994, 'vorbereitet': 3995, 'ideologisch': 3996, 'dicke': 3997, 'holen': 3998, 'unwissend': 3999, 'tragisch': 4000, 'tafel': 4001, 'kraefte': 4002, 'pressestelle': 4003, 'grundeis': 4004, 'vergesst': 4005, 'ok': 4006, 'schlampe': 4007, 'solch': 4008, 'gerhard': 4009, 'zunaechst': 4010, 'lebensqualitaet': 4011, 'genannten': 4012, 'wissenschaftliche': 4013, 'errungenschaften': 4014, 'stimmung': 4015, 'fischt': 4016, 'verbal': 4017, 'lokalzeit': 4018, 'kommunizieren': 4019, 'empfaenger': 4020, 'szenevie': 4021, 'eln': 4022, 'althusmann': 4023, 'nbi': 4024, 'ffm': 4025, 'irisbuecker': 4026, 'lebensgefahr': 4027, 'demos': 4028, 'meckern': 4029, 'ave': 4030, 'platon': 4031, 'klaren': 4032, 'ow': 4033, 'ohr': 4034, 'genial': 4035, 'landtagsabgeordneten': 4036, 'schwere': 4037, 'vorwuerfe': 4038, 'kuenast': 4039, 'haifa': 4040, 'israelfahne': 4041, 'lauter': 4042, 'endet': 4043, 'soll': 4044, 'verpasst': 4045, 'zahlreich': 4046, 'kastration': 4047, 'nirgends': 4048, 'mfg': 4049, 'verheiratet': 4050, 'richter': 4051, 'veroeffentlichten': 4052, 'verbot': 4053, 'janboehm': 4054, 'vorschaubild': 4055, 'hessenschau': 4056, 'top': 4057, 'bundesvorstand': 4058, 'wasser': 4059, 'rechtspopulisten': 4060, 'ieren': 4061, 'viktor': 4062, 'bewe': 4063, 'mitsamt': 4064, 'zigeuner': 4065, 'feiern': 4066, 'freidenker': 4067, 'konservative': 4068, 'falls': 4069, '22': 4070, 'jaehrigen': 4071, 'romaday': 4072, 'zweifellos': 4073, 'rasibo': 4074, 'pmaurus': 4075, 'verstuemmeln': 4076, 'gaebe': 4077, 'feiglinge': 4078, 'illegal': 4079, 'loriotfehlt': 4080, 'gewaehlte': 4081, 'singen': 4082, 'einzigste': 4083, 'aranxo': 4084, 'schneefloeckchen': 4085, 'aehnlich': 4086, 'ob': 4087, 'tendenziell': 4088, 'geringverdiener': 4089, 'ton': 4090, 'dingen': 4091, 'geendet': 4092, 'schneider91ms': 4093, 'wunsch': 4094, 'schwachen': 4095, 'teresa': 4096, 'clausstrunz': 4097, 'befragt': 4098, 'formulie': 4099, 'schwanger': 4100, 'wien': 4101, 'gezuechtet': 4102, 'unbarmherzig': 4103, 'wunderbar': 4104, 'mehrals1wombat': 4105, 'zealousranter': 4106, 'book': 4107, 'boev': 4108, 'kohl': 4109, 'komischerweise': 4110, 'weiber': 4111, 'wovon': 4112, 'abwe': 4113, 'hr': 4114, 'eingreifen': 4115, 'profsalzborn': 4116, 'drittklassig': 4117, '3sat': 4118, 'fahre': 4119, 'verschwult': 4120, 'scouts': 4121, 'schlaegt': 4122, 'sascha': 4123, 'helden': 4124, 'gearbeitet': 4125, 'sueueuess': 4126, 'denn': 4127, 'sexist': 4128, 'meetoo': 4129, 'alkoholiker': 4130, 'masslos': 4131, 'dach': 4132, 'baer': 4133, 'jesidischen': 4134, 'interpretieren': 4135, 'zerrissenheit': 4136, 'oppositionsfuehrer': 4137, 'verseuchten': 4138, 'trifft': 4139, 'aufsetzen': 4140, 'anziehen': 4141, 'finanzielle': 4142, 'esgeld': 4143, 'einseitig': 4144, 'amri': 4145, 'inklusive': 4146, 'lege': 4147, '26': 4148, 'szene': 4149, 'kirchlichen': 4150, 'taetig': 4151, 'sozialschmarotzer': 4152, 'mohamed': 4153, 'ludhell321': 4154, 'grab': 4155, 'schaufeln': 4156, 'erden': 4157, 'prophet': 4158, 'weltweiten': 4159, 'riebenen': 4160, 'umgebungen': 4161, 'abfall': 4162, 'kompost': 4163, 'rus': 4164, 'fordern': 4165, 'neoliberale': 4166, 'mutwillig': 4167, 'risiko': 4168, 'geistig': 4169, 'nope': 4170, 'waren': 4171, 'vasallen': 4172, 'aufbau': 4173, 'jeder': 4174, 'moege': 4175, 'kaputt': 4176, 'ministerposten': 4177, 'bestrafen': 4178, 'besitzes': 4179, 'verrat': 4180, 'volke': 4181, 'teilen': 4182, 'widerlichen': 4183, 'beschrieben': 4184, 'einzuschraenken': 4185, 'gesper': 4186, 'kriegen': 4187, 'lumpen': 4188, 'yxyzyxy': 4189, 'oekonomisch': 4190, 'einig': 4191, 'einschuechtern': 4192, 'michaelaelfgen': 4193, 'geringe': 4194, 'rbbabendschau': 4195, '86': 4196, 'moechtest': 4197, 'jageradeheraus': 4198, 'piratenfrank': 4199, 'dreckschwein': 4200, 'zitie': 4201, 'mittel': 4202, 'rohingya': 4203, 'legen': 4204, 'menno': 4205, 'sozialabbau': 4206, 'meier': 4207, 'diktatur': 4208, 'brechen': 4209, 'gebu': 4210, 'stag': 4211, 'jordanien': 4212, 'lehnen': 4213, 'sondierungsergebnisse': 4214, 'unterdruecken': 4215, 'lgbt': 4216, 'nabu': 4217, 'presse': 4218, 'gewinnt': 4219, 'vanberlichingen': 4220, 'haseloff': 4221, 'such': 4222, 'anstatt': 4223, 'gedenkt': 4224, '2005': 4225, 'kalbluetig': 4226, 'mehrheiten': 4227, 'nachricht': 4228, 'genitalverstuemmelung': 4229, 'kenntnis': 4230, 'linksgruen': 4231, 'horst': 4232, 'aufbruch': 4233, 'unrealistisch': 4234, 'verlangt': 4235, 'blockieren': 4236, 'anatolien': 4237, 'anschlaege': 4238, 'annaehernd': 4239, 'konzept': 4240, 'klug': 4241, 'altersarmut': 4242, 'herrscht': 4243, 'webseiten': 4244, 'penner': 4245, 'falscher': 4246, 'the': 4247, 'seitdem': 4248, 'zwingend': 4249, 'rueckrat': 4250, 'kaiebel': 4251, 'pinkstinksde': 4252, 'endgueltige': 4253, 'umerziehung': 4254, 'schaetzung': 4255, '4sonicc': 4256, 'frisst': 4257, 'befehle': 4258, 'heterosexualitaet': 4259, 'auslaendischen': 4260, 'rechtsextremismus': 4261, 'parasiten': 4262, 'dennis': 4263, 'wieland': 4264, 'qualvoll': 4265, 'analphabeten': 4266, 'sucht': 4267, 'verbloedet': 4268, 'liberaler': 4269, 'allem': 4270, 'distanzieren': 4271, 'seiten99ueber': 4272, 'shalom': 4273, 'bluethenstaub': 4274, '66freedom66': 4275, 'abgeschafft': 4276, 'monate': 4277, 'besonderen': 4278, 'gewonnen': 4279, 'staatliche': 4280, 'polizeimuenchen': 4281, 'komme': 4282, 'vegetarier': 4283, 'kapitalistische': 4284, 'mirjam': 4285, 'verschwinden': 4286, 'schweineblut': 4287, 'blieb': 4288, 'meth': 4289, 'uebrig': 4290, 'moechten': 4291, 'stehlen': 4292, 'dreckspa': 4293, 'interesse': 4294, 'bestimmten': 4295, 'politischer': 4296, 'arbeitslose': 4297, 'lager': 4298, 'zweimal': 4299, 'duesseldorf': 4300, 'prostituie': 4301, 'formel1': 4302, 'non': 4303, 'zeitpunkt': 4304, 'kriecht': 4305, 'linksfaschist': 4306, 'streichen': 4307, 'fluechten': 4308, 'umkaempften': 4309, 'nachfahren': 4310, 'somalia': 4311, 'therealkare': 4312, 'alternative': 4313, 'programm': 4314, 'staatsbuergerschaft': 4315, 'irrsinn': 4316, 'zaeune': 4317, 'stunde': 4318, 'trf84': 4319, 'berger': 4320, 'faende': 4321, 'finanzminister': 4322, 'unterbezahlt': 4323, 'anzeigen': 4324, 'permanent': 4325, 'verni': 4326, 'htung': 4327, 'drittes': 4328, 'saeugetieren': 4329, 'stiftung': 4330, 'chef': 4331, 'kaeser': 4332, 'einzig': 4333, 'gesocks': 4334, 'nypd': 4335, 'w203go': 4336, 'nationalitaet': 4337, 'geschlossene': 4338, 'gerichtshof': 4339, 'versprechen': 4340, 'haelfte': 4341, 'schwierigkeiten': 4342, 'zerstoeren': 4343, 'spezies': 4344, 'erlangen': 4345, 'leistung': 4346, 'tue': 4347, 'einzulassen': 4348, 'abe': 4349, 'h66': 4350, 'verwurzelt': 4351, 'tiefes': 4352, 'aufregung': 4353, 'bekaempfen': 4354, 'andere': 4355, 'traditionelle': 4356, 'faengt': 4357, 'kommenden': 4358, 'landgericht': 4359, 'voraus': 4360, 'sofa': 4361, 'moustafa': 4362, 'merkelno': 4363, 'ruf': 4364, 'einschaetzen': 4365, 'zb': 4366, 'nuetzt': 4367, 'leiden': 4368, 'kamera': 4369, 'rechtlichen': 4370, 'belogen': 4371, 'cent': 4372, 'zahlt': 4373, 'vielfaeltige': 4374, 'islamistischer': 4375, 'verschwiegen': 4376, 'abgeben': 4377, 'drbrandner': 4378, 'nicola': 4379, 'erbschaftssteuer': 4380, 'immerzu': 4381, 'anlass': 4382, 'luxus': 4383, 'zweiter': 4384, 'kommunismus': 4385, 'luegt': 4386, 'zeug': 4387, 'anstand': 4388, 'versuche': 4389, 'tichyseinblick': 4390, 'aufgebauschtes': 4391, 'h2o': 4392, 'jobs': 4393, 'leistet': 4394, 'garstig': 4395, 'domradio': 4396, 'ideologien': 4397, 'korrektur': 4398, 'fischer': 4399, 'bundesbuerger': 4400, 'patriarchator': 4401, 'staatsfunk': 4402, 'rauten': 4403, 'gib': 4404, 'anstaendige': 4405, 'gleichstellung': 4406, 'haustiere': 4407, 'fdpbw': 4408, 'privilegie': 4409, '3k18': 4410, 'abwehr': 4411, 'westlichen': 4412, 'menschliche': 4413, 'maltelehming': 4414, 'nah': 4415, 'magdeburg': 4416, 'evangelium': 4417, 'historischen': 4418, 'besatzer': 4419, 'destso': 4420, 'flieht': 4421, 'bekaempfung': 4422, 'anstaendigen': 4423, 'maennl': 4424, 'aufhalten': 4425, 'ueberzeugungen': 4426, 'campact': 4427, 'polit': 4428, 'schlimmste': 4429, 'bundesinnenminister': 4430, 'maizi': 4431, 'praxis': 4432, 'vo': 4433, 'freeworld2': 4434, 'noburkaverbot': 4435, 'amazikat': 4436, 'mittelalterlichen': 4437, 'gegenwae': 4438, 'allerseits': 4439, 'schreibe': 4440, 'gefuehl': 4441, 'john': 4442, 'beu': 4443, 'sozialromantik': 4444, 'individuelle': 4445, 'islamismus': 4446, '91': 4447, 'seiten': 4448, 'russischen': 4449, 'dauern': 4450, 'hysterisch': 4451, 'kohle': 4452, 'nonnjochen': 4453, 'norgeprivacy': 4454, 'zersetzt': 4455, 'schnelle': 4456, 'vollzogen': 4457, 'beller': 4458, 'werk': 4459, 'sexueller': 4460, 'manhattan': 4461, 'abgetaucht': 4462, 'fans': 4463, 'aufgaben': 4464, 'iss': 4465, 'pr': 4466, 'vorstellen': 4467, 'reagie': 4468, 'mangelnde': 4469, 'schandmaeuler': 4470, 'dukenford': 4471, 'keinesfalls': 4472, 'machtgeile': 4473, 'begangen': 4474, 'toten': 4475, 'geboren': 4476, 'rohstoffe': 4477, '70': 4478, 'bunter': 4479, 'indern': 4480, 'wurscht': 4481, 'front': 4482, 'wueste': 4483, 'predigt': 4484, '2000': 4485, 'asf': 4486, 'katholizismus': 4487, 'neonazis': 4488, 'richtigen': 4489, 'ernstes': 4490, 'alma': 4491, 'konzernen': 4492, 'perverse': 4493, 'putzen': 4494, 'fiat': 4495, 'anerkennung': 4496, 'wein': 4497, 'sang': 4498, 'antiisraelischen': 4499, 'dargestellt': 4500, 'beitrittsverhandlungen': 4501, 'moralische': 4502, 'ueberlassen': 4503, 'strassenbau': 4504, 'mitschuld': 4505, 'schmarotzen': 4506, 'gleichstellungsbeauftragter': 4507, 'aufpassen': 4508, 'komplexe': 4509, 'stephdammi': 4510, 'brodnig': 4511, 'grundsicherung': 4512, 'verletzten': 4513, 'hiphop': 4514, 'geschlechtsorgane': 4515, 'frueh': 4516, 'fraunhofer': 4517, 'durchbruch': 4518, 'freitag': 4519, 'konsequent': 4520, 'verbrechen': 4521, 'zuhoeren': 4522, 'folter': 4523, 'date': 4524, 'frueheren': 4525, 'geringer': 4526, 'stop': 4527, 'anerkennt': 4528, 'oefter': 4529, 'ketten': 4530, 'geheiratet': 4531, 'fake': 4532, 'schaut': 4533, 'reiche': 4534, 'verwaltung': 4535, 'wahlkreiskandidaten': 4536, 'terrorist': 4537, 'ueberlieferungen': 4538, 'beguenstigen': 4539, 'rollt': 4540, 'emir': 4541, 'katar': 4542, 'waffenstopp': 4543, 'merle': 4544, 'junges': 4545, 'unschuldiges': 4546, 'kch': 4547, 'umweltundaktiv': 4548, 'asylantenflut': 4549, 'asylanenstop': 4550, 'zivil': 4551, 'strafrechts': 4552, 'miquwarchar': 4553, 'munkelt': 4554, 'kiss': 4555, 'sabbath': 4556, 'rockon': 4557, 'vielfaeltiger': 4558, 'aqeela': 4559, 'asifi': 4560, 'gewinnerin': 4561, 'nansenaward': 4562, 'testen': 4563, 'miauen': 4564, 'sklaventums': 4565, 'au': 4566, 'ueberschuss': 4567, 'verschenken': 4568, 'lwaff': 4569, 'nationalsozialist': 4570, 'schimpfwo': 4571, 'dulden': 4572, 'vorkommt': 4573, 'elmo31226': 4574, 'mond': 4575, 'kehrseite': 4576, 'reichsdeutschen': 4577, 'flugscheiben': 4578, 'ufos': 4579, 'kosmetikindustrie': 4580, 'modelbranche': 4581, 'praesent': 4582, 'intereligioese': 4583, 'integrative': 4584, 'flh': 4585, '11uhr': 4586, 'kl': 4587, 'alnour': 4588, 'nicolabeerfdp': 4589, 'glaeubige': 4590, 'ehemals': 4591, 'bosnische': 4592, 'gastwi': 4593, 'persische': 4594, 'schueren': 4595, 'ausuebung': 4596, 'erschweren': 4597, 'entsetzlich': 4598, 'international': 4599, 'vernetzt': 4600, 'bestens': 4601, 'aufgestellt': 4602, 'kulturkampf': 4603, 'be': 4604, 'parole': 4605, 'vaterlaender': 4606, 'versagt': 4607, 'besuchervisa': 4608, 'uebernommen': 4609, 'liebhabereien': 4610, 'orgasmus': 4611, 'queeristan': 4612, 'ausstehen': 4613, 'fobimania': 4614, 'bedrohung': 4615, 'harry': 4616, 'potter': 4617, 'verweiblicht': 4618, 'kaffeeklatsch': 4619, 'kriegserklaerung': 4620, 'roemischen': 4621, 'reiches': 4622, 'habsburger': 4623, 'monarchie': 4624, 'hessische': 4625, 'sozialministerium': 4626, 'geschaefte': 4627, 'entschluss': 4628, 'diesjaehrigen': 4629, 'adventssonntag': 4630, 'schoenes': 4631, 'entspanntes': 4632, 'weihnachtsfest': 4633, 'riceblues': 4634, 'unnatuerlichen': 4635, 'stoffe': 4636, 'atomen': 4637, 'spinnern': 4638, 'gelangen': 4639, 'ecken': 4640, 'konter': 4641, 'gespielt': 4642, 'comeoneffzeh': 4643, 'afckol': 4644, 'effzeh': 4645, 'thereturnofthegoat': 4646, 'afckoe': 4647, 'ungleiche': 4648, 'sympathischer': 4649, 'abgesehen': 4650, 'dreiundzwoelfzig': 4651, 'wlernr': 4652, 'hasserfuellte': 4653, 'weiterleite': 4654, 'blinder': 4655, 'bezwecken': 4656, 'brauner': 4657, 'verschlimmern': 4658, 'friedenspolitik': 4659, 'verhuellen': 4660, 'gesichts': 4661, 'siegermaechte': 4662, 'christophcolla2': 4663, 'jani': 4664, 'dobrinth': 4665, 'belanglosen': 4666, 'quatschen': 4667, 'unkenntlichkeit': 4668, 'anzubiedern': 4669, 'oefters': 4670, 'literatur': 4671, 'roettgen': 4672, 'nunmehr': 4673, 'verstaendlich': 4674, 'babypause': 4675, 'ausfaellt': 4676, 'arbeitnehmende': 4677, 'auslandsaufenthalten': 4678, 'eheleute': 4679, 'tauscht': 4680, 'haupt': 4681, 'rueckenhaar': 4682, 'westkurvenfan': 4683, 'schwester': 4684, 'minderjaehrige': 4685, 'toechter': 4686, 'scharf': 4687, 'lesetipp': 4688, 'prof': 4689, 'friedhelm': 4690, 'hengsbach': 4691, 'umfai': 4692, 'vermoegenssteuer': 4693, 'wiuge': 4694, 'antifeministisch': 4695, 'produkt': 4696, 'propagandafilm': 4697, 'abgenickt': 4698, 'eid': 4699, 'geschaffen': 4700, 'gelitten': 4701, 'naivitaet': 4702, 'klarer': 4703, 'strikter': 4704, 'pluralistischen': 4705, 'zdfwatch': 4706, 'jorg': 4707, 'radek': 4708, 'schaem': 4709, 'anzupoebeln': 4710, 'selbstgefaellig': 4711, 'stinkig': 4712, 'pilgern': 4713, 'schlaeft': 4714, 'michaelspreng': 4715, 'studio': 4716, 'lenken': 4717, 'laestige': 4718, 'basisdemokratie': 4719, 'laestigen': 4720, 'laestig': 4721, 'lea': 4722, 'chiara': 4723, 'professionelle': 4724, 'wjanka634': 4725, 'jacobjoussen': 4726, 'entdecken': 4727, 'boettinger': 4728, 'belaestigen': 4729, 'pkk': 4730, 'flagge': 4731, 'anstecker': 4732, 'spdnds': 4733, 'danielmindon': 4734, 'tatsaechlichen': 4735, 'toutes': 4736, 'mes': 4737, 'licitations': 4738, 'melenchon': 4739, 'frankreichwahl': 4740, 'jdoeschner': 4741, 'nrwspd': 4742, 'lokale': 4743, 'rwe': 4744, 'private': 4745, 'wachdienst': 4746, 'spannend': 4747, 'carsten': 4748, 'abstimmen': 4749, 'einsatzes': 4750, 'ablehnen': 4751, 'tierfreundlich': 4752, 'buddisten': 4753, 'zugetraut': 4754, 'linksfaschisten': 4755, 'philipplicke': 4756, 'pflicht': 4757, 'gegenterror': 4758, 'messverfahren': 4759, 'erschliesst': 4760, 'intuition': 4761, 'institution': 4762, 'erik': 4763, 'fluegge': 4764, 'arndt': 4765, 'klocke': 4766, 'fuehrungsmannschaft': 4767, 'machtsinn': 4768, 'wasserglas': 4769, 'tucke': 4770, 'renten': 4771, 'sozialleistungen': 4772, 'konstantinandm': 4773, 'ohnekonsequenz': 4774, 'kuscheljutiz': 4775, 'erhoehte': 4776, 'geschwindigkeit': 4777, 'raser': 4778, 'verfolge': 4779, 'ausgelacht': 4780, 'loewe': 4781, 'territorium': 4782, 'eindringe': 4783, 'eils': 4784, 'vermeide': 4785, 'zoo': 4786, 'loewengehege': 4787, 'klettern': 4788, 'oezcanmutlu': 4789, 'rbb24': 4790, 'tspberlin': 4791, 'tspleute': 4792, 'dm': 4793, 'anhaenglich': 4794, 'zahm': 4795, 'berl': 4796, 'piratenberlin': 4797, 'dielinkeberlin': 4798, 'verminde': 4799, 'wohlergehen': 4800, 'ausrotten': 4801, 'traurige': 4802, 'ausrottung': 4803, 'zurueckkommen': 4804, 'willig': 4805, 'untere': 4806, 'solis': 4807, 'suesser': 4808, 'senf': 4809, 'broetchen': 4810, 'mischbrot': 4811, 'sozusagen': 4812, 'kameraden': 4813, 'vernetzen': 4814, 'exegese': 4815, 'jubelt': 4816, 'ursprung': 4817, 'waus': 4818, 'neonazi': 4819, 'anknuepfungspunkte': 4820, 'vorangehenden': 4821, 'zuordnung': 4822, 'retbar': 4823, 'auszuleben': 4824, 'fassbarer': 4825, 'ignorierende': 4826, 'neutestamentliche': 4827, 'abzueglich': 4828, 'diverser': 4829, 'hofer': 4830, 'straeters': 4831, 'maennerhaushalt': 4832, 'gaehnend': 4833, 'billigproduktion': 4834, 'one': 4835, 'schaenden': 4836, 'umzubringen': 4837, 'vorfahren': 4838, 'patent': 4839, 'schulle99': 4840, 'lieblingskoalition': 4841, 'envielfalt': 4842, 'siegel': 4843, 'prominent': 4844, 'bauernfamilien': 4845, 'scheibe': 4846, 'abschneiden': 4847, 'nobby1949z': 4848, 'weltoffenheit': 4849, 'fremdwo': 4850, 'magst': 4851, 'schildern': 4852, 'froschfresser': 4853, 'selbstverschuldet': 4854, 'lutschen': 4855, 'gefaengnis': 4856, 'ndrrecherche': 4857, 'aerzten': 4858, 'abgelehnten': 4859, 'asylbewerbern': 4860, 'leichtfe': 4861, 'atteste': 4862, 'auszustellen': 4863, 'abschiebung': 4864, 'bewahren': 4865, 'stamme': 4866, 'spritz': 4867, 'gejaule': 4868, 'trutze': 4869, 'bruederlich': 4870, 'zusammenhaelt': 4871, 'memel': 4872, 'etsch': 4873, 'belt': 4874, 'missbrauchen': 4875, 'servicetweet': 4876, 'evolution': 4877, 'nachvollziehbar': 4878, 'hoechstem': 4879, 'unplausibel': 4880, 'm10': 4881, 'f8z': 4882, 'kontrollieren': 4883, 'reibungspunkte': 4884, 'abbrachen': 4885, 'nuetzliches': 4886, 'ehr': 4887, 'philosophie': 4888, 'kunstgeschichte': 4889, 'geraumer': 4890, 'bauchschmerzen': 4891, 'menschenrecht': 4892, 'geficktes': 4893, 'elitaere': 4894, 'freierwaehler': 4895, 'renner': 4896, 'alternativenrw': 4897, 'traudichde': 4898, 'afdwaehlen': 4899, 'grueneversenken': 4900, 'beschissen': 4901, 'hingegen': 4902, 'regionaltreffen': 4903, 'wirklicher': 4904, 'eklat': 4905, 'menschenverachtend': 4906, 'verhaelt': 4907, 'juliakloeckner': 4908, 'steffenkuhne': 4909, 'kulturelle': 4910, 'breitet': 4911, 'identitaeren': 4912, 'fehlenden': 4913, 'info2099': 4914, 'reche': 4915, 'ers': 4916, 'umzukrempeln': 4917, 'nagel': 4918, 'kappe': 4919, 'okkupanten': 4920, 'trink': 4921, 'einen': 4922, 'daneben': 4923, 'benehmen': 4924, 'isst': 4925, 'behaelt': 4926, 'rumsucher': 4927, 'rueckstandslos': 4928, 'gestorben': 4929, 'nahrungskette': 4930, 'hmh': 4931, 'schonmal': 4932, 'ausgesetzt': 4933, 'achte': 4934, 'libelle2000r': 4935, 'unterdrueckt': 4936, 'folte': 4937, 'terrorisie': 4938, 'erotischer': 4939, 'elektrische': 4940, 'zahnbuerste': 4941, 'laedt': 4942, 'theodora58x': 4943, 'fuerchtet': 4944, 'messianischen': 4945, 'heils': 4946, '62': 4947, 'mobile': 4948, 'stoffgefaengnis': 4949, 'naaa': 4950, 'umkleidekabine': 4951, 'maennlichen': 4952, 'effizienz': 4953, 'bestmoegliche': 4954, 'ausnutzung': 4955, 'arbeitskraft': 4956, 'extravagante': 4957, 'maskeraden': 4958, 'legitimer': 4959, 'onyx0815': 4960, 'korrespondieren': 4961, 'fehlts': 4962, 'bettina': 4963, 'kudla': 4964, 'winkler': 4965, 'kolationen': 4966, 'lilalapras': 4967, 'usrgreg': 4968, 'andre290573': 4969, 'profilieren': 4970, 'selbstbewusste': 4971, 'erziehung': 4972, 'geschundenen': 4973, '40': 4974, 'hessenbooten': 4975, 'beleidigt': 4976, 'trinker': 4977, 'hurenbock': 4978, 'giesskannenve': 4979, 'asiatische': 4980, 'ostkuesstenhelfer': 4981, 'schranken': 4982, 'gewiesen': 4983, 'andreas': 4984, 'b1985': 4985, 'rechtschreibkorrekturverfaelschungsmistprogramm': 4986, 'besiegelt': 4987, 'zauberhand': 4988, 'verringe': 4989, 'quengelig': 4990, 'zickig': 4991, 'ausgeschlafen': 4992, 'statistische': 4993, 'wahrscheinlichkeit': 4994, 'vereinfachung': 4995, 'benannt': 4996, 'haiti': 4997, 'staerksten': 4998, 'hurrikan': 4999, 'matthew': 5000, 'gebieten': 5001, 'geimpft': 5002, 'offizier': 5003, 'neuerlichen': 5004, 'bverfg': 5005, 'kopftuchtragende': 5006, 'erzieherin': 5007, 'blner': 5008, 'senat': 5009, 'neutralitaetsgesetz': 5010, 'paradox': 5011, 'homophobe': 5012, 'lindenstrasse': 5013, 'hochpolitisch': 5014, 'radikalisierung': 5015, 'mehrheitsgesellschaft': 5016, 'wahlverlierer': 5017, 'attentaten': 5018, 'ueberfaellt': 5019, 'zuhause': 5020, 'kidnappt': 5021, 'unfaehiger': 5022, 'ttipp': 5023, 'dummbatz': 5024, 'betreten': 5025, 'andreasmiddel': 5026, 'pg': 5027, 'blindheim': 5028, 'rump': 5029, 'sympathisch': 5030, 'loben': 5031, 'medium': 5032, 'darmbewohner': 5033, 'steinzeitzombies': 5034, 'laiendarstellerin': 5035, 'talkshow': 5036, 'golffahrer': 5037, 'golfspieler': 5038, 'golfdiktatoren': 5039, 'mfratzscher': 5040, 'rueckgabe': 5041, 'steuermehreinnahmen': 5042, 'wahlgeschenke': 5043, 'hinde': 5044, 'ausgabenstruktur': 5045, 'bemerke': 5046, 'abschuss': 5047, 'freizugeben': 5048, 'holisticcaremh': 5049, 'verbrochen': 5050, 'intersexueller': 5051, 'homosexuell': 5052, 'handele': 5053, 'gesandten': 5054, 'zuwider': 5055, 'unglaeubig': 5056, 'rumaenischen': 5057, 'banden': 5058, 'besetzen': 5059, 'otzt': 5060, 'zions': 5061, 'benediktiner': 5062, 'kloster': 5063, 'nuetschau': 5064, 'nordens': 5065, 'verliehen': 5066, 'frshev': 5067, 'mallorca': 5068, 'aufgemacht': 5069, 'tompabb': 5070, 'wahlentscheidungen': 5071, 'grundorientierungen': 5072, 'glaubte': 5073, 'befriedigendem': 5074, 'sexleben': 5075, 'rennt': 5076, 'emilbriard': 5077, 'redner': 5078, 'chemtrail': 5079, 'uebt': 5080, 'kucken': 5081, 'erkundige': 5082, 'hooton': 5083, 'rechtswidrige': 5084, 'abgegeben': 5085, 'hochzuschlafen': 5086, 'ausnutzen': 5087, 'friedmann': 5088, 'bildenden': 5089, 'verschwoerungsideologien': 5090, 'israelkritik': 5091, 'avantgardistisch': 5092, 'befangen': 5093, 'kahane': 5094, 'kommende': 5095, 'versaut': 5096, 'detail': 5097, 'ausbau': 5098, 'bezahlbar': 5099, 'eigenheimfoerderung': 5100, 'pp': 5101, 'svbabelsberg03': 5102, 'dfb': 5103, 'vizepraesident': 5104, 'erhebliche': 5105, 'rechtmaessigkeit': 5106, 'nofv': 5107, 'verbandsgerichts': 5108, 'faszifankurve': 5109, 'svbfce': 5110, 'babelsberg': 5111, 'cottbus': 5112, 'rauensranking': 5113, 'schwierig': 5114, 'mgtows': 5115, 'erfrischend': 5116, 'negativ': 5117, 'hassen': 5118, 'fuerh': 5119, 'vizepraesidentin': 5120, 'bundestages': 5121, 'svk': 5122, 'inntal': 5123, 'fisch': 5124, 'metapher': 5125, 'aun': 5126, 'definitiv': 5127, 'prenzlstimme': 5128, 'repressives': 5129, 'transgender': 5130, 'ausfuehren': 5131, 'verschafft': 5132, 'dates': 5133, 'bayrische': 5134, 'hingekommen': 5135, 'stronz': 5136, 'gespenster': 5137, 'wassers': 5138, 'gingen': 5139, 'meer': 5140, 'elends': 5141, 'holomaeus': 5142, 'ansektionob': 5143, 'inhalt': 5144, 'rechtschreibung': 5145, 'konsumieren': 5146, 'ralfs1812': 5147, 'find': 5148, 'platzeck': 5149, 'chanukkia': 5150, 'gestanden': 5151, 'olaf': 5152, 'stumm': 5153, 'geschaltet': 5154, 'reputation': 5155, 'schlag': 5156, 'steigern': 5157, 'lehrstuhl': 5158, 'aufloesen': 5159, 'echtes': 5160, 'potenzial': 5161, 'ausweitung': 5162, 'dialogs': 5163, 'freiheitliche': 5164, 'saekularisie': 5165, 'voraussetzungen': 5166, 'garantieren': 5167, 'boeckenfoerde': 5168, 'vernunft': 5169, 'ungsgefuehl': 5170, 'kompromissfaehigkeit': 5171, 'schwinden': 5172, 'epidemisch': 5173, 'getreuen': 5174, 'beherrscht': 5175, 'mehren': 5176, 'gammln': 5177, 'buddel': 5178, 'fckoeln': 5179, 'jon': 5180, 'sin': 5181, 'fueer': 5182, 'kleber': 5183, 'ernsthaft': 5184, 'msnbc': 5185, 'lehrbuch': 5186, 'betrunkenen': 5187, 'gespraechspa': 5188, 'weiterleitungen': 5189, 'auszuprobieren': 5190, 'direktorium': 5191, 'verbergen': 5192, 'ichbinantifa': 5193, 'andersdenkende': 5194, 'ausuebe': 5195, 'erneue': 5196, 'wiedersehen': 5197, 'kristinahaenel': 5198, 'schwangerschaftsabbrueche': 5199, 'vorzuenthalten': 5200, 'selbstbestimmungsrecht': 5201, 'beschneiden': 5202, 'bevormundend': 5203, '219a': 5204, 'koelne': 5205, 'reff': 5206, 'ekelhafte': 5207, 'co': 5208, 'effizient': 5209, 'angehoe': 5210, 'mrmacsimon': 5211, 'skybirdphoenix': 5212, 'schnauze': 5213, 'steinmaier': 5214, 'facebpalmer': 5215, 'abschnitten': 5216, 'verschaerft': 5217, 'grenzblockade': 5218, 'notlage': 5219, 'hmheinig': 5220, 'verfallserscheinungen': 5221, 'linear': 5222, 'gekennzeichnet': 5223, 'muten': 5224, 'exponentiell': 5225, 'verrohtekonservative': 5226, 'daemlichkeit': 5227, 'gepachtet': 5228, 'annett': 5229, 'rose': 5230, 'deutscland': 5231, 'pluralistische': 5232, 'pluralismus': 5233, 'geloest': 5234, 'thomas': 5235, 'islamophob': 5236, 'huebsche': 5237, 'energie': 5238, 'gleichmaessiger': 5239, 'schleimig': 5240, 'rueckgratlos': 5241, 'boah': 5242, 'lebensunwe': 5243, 'meinte': 5244, 'net': 5245, 'einsehen': 5246, 'drcarmenschwarz': 5247, 'kuesst': 5248, 'zaehne': 5249, 'putzt': 5250, 'falldermauer': 5251, 'muesstest': 5252, 'planeten': 5253, 'klares': 5254, 'linkspa': 5255, 'unmittelbar': 5256, 'getrigge': 5257, 'vermischte': 5258, 'vermanschte': 5259, 'vernichter': 5260, 'barley': 5261, 'dauerrede': 5262, 'kalte': 5263, 'verbundenheit': 5264, 'wachsen': 5265, 'hanne': 5266, 'huemmer': 5267, 'gaehn': 5268, 'erpresste': 5269, 'verfass': 5270, 'gerichtauflagen': 5271, 'goldig': 5272, 'heimatgefuehl': 5273, 'fina': 5274, '74': 5275, 'haenden': 5276, 'klebt': 5277, 'faszinierende': 5278, 'existenz': 5279, 'stoische': 5280, 'bereitschaft': 5281, 'gelassen': 5282, 'muffpepper': 5283, 'finkfinkmichael': 5284, 'sebastiankurz': 5285, 'diepa': 5286, 'praktiken': 5287, 'korrektheiten': 5288, 'reiserobby': 5289, 'antrages': 5290, 'ergaenzt': 5291, 'umsetzung': 5292, 'troste': 5293, 'deutschs': 5294, 'blockie': 5295, 'gueter': 5296, 'kundtun': 5297, 'erhoe': 5298, 'hinterfotzige': 5299, 'gruensprecher': 5300, 'shuggy35312948': 5301, 'cherusker6': 5302, 'sunami495': 5303, 'gehandelt': 5304, 'skandal': 5305, 'gesamten': 5306, 'niederlanden': 5307, 'irgendeine': 5308, 'vollverschleierung': 5309, 'satte': 5310, 'aufzustehen': 5311, 'zion': 5312, 'mdb': 5313, 'schuetzer': 5314, 'unternimmst': 5315, 'gehst': 5316, 'einreden': 5317, 'verlieben': 5318, 'jeside': 5319, 'nlpete007': 5320, 'joyia': 5321, 'consult': 5322, 'handschuh': 5323, 'inku': 5324, 'lux': 5325, 'herrfranken': 5326, 'untalentie': 5327, 'zuruecktritt': 5328, 'mieseste': 5329, 'konto': 5330, 'nuerburgring': 5331, 'versenkt': 5332, 'nullnummer': 5333, 'ungeheuerlich': 5334, 'ckoemmlinger': 5335, 'niggergesindel': 5336, 'menschen2017': 5337, 'plappe': 5338, 'abstossend': 5339, 'dritte': 5340, 'skurrile': 5341, 'alexander': 5342, 'bismarck': 5343, 'beruehmten': 5344, 'fasste': 5345, 'verzichte': 5346, 'esse': 5347, 'lasse': 5348, 'unglaeubiger': 5349, 'provozieren': 5350, 'talent': 5351, 'provokation': 5352, 'titanic': 5353, 'linksgedrehten': 5354, 'hinrichten': 5355, 'retweet': 5356, 'kommunisten': 5357, 'andrezeven': 5358, 'fraup': 5359, 'gummis': 5360, 'gummitwist': 5361, 'frz': 5362, 'leonhi': 5363, 'geleitete': 5364, 'ehs': 5365, 'woelfe': 5366, 'erwiesen': 5367, 'finsterem': 5368, 'herzig': 5369, 'taugt': 5370, 'hinzugehoeren': 5371, 'angefueh': 5372, 'korangeleh': 5373, 'heimatland': 5374, 'scheissen': 5375, 'koreatourism': 5376, 'koreanern': 5377, 'pofalla': 5378, 'ole': 5379, 'beust': 5380, 'falla': 5381, 'schaftsliberale': 5382, 'gealte': 5383, 'schoss': 5384, 'aether': 5385, 'faeulnis': 5386, 'wabe': 5387, 'erkennbar': 5388, 'bewegt': 5389, 'entzug': 5390, 'trendinaliade': 5391, 'riesenarschloch': 5392, 'ketzerei': 5393, 'haeltst': 5394, 'innerlich': 5395, 'karltompson': 5396, 'macho': 5397, 'sexistischen': 5398, 'ebene': 5399, 'mutexdeadlock': 5400, 'cinderella': 5401, 'gesund': 5402, 'wald': 5403, 'gesammelte': 5404, 'fliegenpilz': 5405, 'munden': 5406, 'behandeltes': 5407, 'wurzelgemuese': 5408, 'heisses': 5409, 'hetzkammer': 5410, 'tradingtheponzi': 5411, 'chance': 5412, 'bolchewisten': 5413, 'landesverraeter': 5414, 'juedischerer': 5415, 'remigration': 5416, 'schleichend': 5417, 'textstelle': 5418, 'wolltest': 5419, 'mord': 5420, 'dargelegt': 5421, 'tatbestaende': 5422, 'aufgefueh': 5423, 'aufzuwachsen': 5424, 'offensiv': 5425, 'umgegangen': 5426, 'vorbereitungstreffen': 5427, 'medienpreis': 5428, 'einreichungen': 5429, 'abweisen': 5430, 'griechenland': 5431, 'auffanglager': 5432, 'belassen': 5433, 'indentitaet': 5434, 'unwahrschlich': 5435, 'vorgaben': 5436, 'spanischen': 5437, 'inakzeptabel': 5438, 'katalonien': 5439, 'entsendung': 5440, 'osze': 5441, 'beobachter': 5442, 'referendum': 5443, 'fernverkehr': 5444, 'einstellt': 5445, 'gereicht': 5446, 'erwischen': 5447, 'insteiger': 5448, 'zawhie': 5449, 'gucke': 5450, 'guenstiger': 5451, 'doppelte': 5452, 'lauwarmen': 5453, 'wahrgenommen': 5454, 'gesellschaftlichen': 5455, 'bemuehungen': 5456, 'wurzeln': 5457, 'normie': 5458, 'grundwe': 5459, 'vergiftete': 5460, 'praline': 5461, 'auferstehen': 5462, 'typischer': 5463, 'wenigen': 5464, 'krawall': 5465, 'kaethe': 5466, 'katjakipping': 5467, 'gemobbt': 5468, 'lemmingen': 5469, 'markustomberg': 5470, 'verursacher': 5471, 'krieges': 5472, 'gehorchen': 5473, 'kontra': 5474, 'staatsgelder': 5475, 'kassieren': 5476, 'gouverneur': 5477, 'kalifornien': 5478, 'jerry': 5479, 'brown': 5480, 'liebes': 5481, 'jeff': 5482, 'cop23': 5483, 'dedododadeda': 5484, 'feminist': 5485, 'neidisch': 5486, 'eng': 5487, 'umschlungen': 5488, 'aufwacht': 5489, 'rueber': 5490, 'laudes': 5491, 'ziegenficker': 5492, 'ausreichend': 5493, 'maifeie': 5494, 'sn': 5495, 'siegfriedsfrom': 5496, 'thehumblejosh': 5497, 'greencard': 5498, 'inhaber': 5499, 'befristetem': 5500, 'aufenthaltsrecht': 5501, 'weltanschauliche': 5502, 'neutralitaet': 5503, 'absurd': 5504, 'wendung': 5505, 'aufgeloest': 5506, 'roulette': 5507, 'offene': 5508, 'zers': 5509, 'tzer': 5510, 'friedrich': 5511, 'erf': 5512, 'nd': 5513, 'fuehrungspack': 5514, 'drnunzianten': 5515, 'zeugenaussagen': 5516, 'passanten': 5517, 'spruenge': 5518, 'anschliessend': 5519, 'wendete': 5520, 'buergersteig': 5521, 'gegenueberliegenden': 5522, 'fahrbahnseite': 5523, 'ergriff': 5524, 'mieter': 5525, 'wagens': 5526, 'marokkaner': 5527, 'bundestagsvize': 5528, 'hinterhof': 5529, 'gebetshaeuser': 5530, 'brutstaetten': 5531, 'salafismus': 5532, 'dschihadismus': 5533, 'zurueckzublicken': 5534, 'blicken': 5535, 'aufdringlich': 5536, 'gegafft': 5537, 'globalen': 5538, 'erwaermung': 5539, 'westliche': 5540, 'staedter': 5541, 'panda': 5542, 'koala': 5543, 'wiese': 5544, 'beams': 5545, 'game': 5546, 'vorsichtig': 5547, 'ener': 5548, 'ausage': 5549, 'beitritt': 5550, 'kataloniens': 5551, 'verhinder': 5552, 'geleh': 5553, 'rumheulen': 5554, '1918': 5555, '1938': 5556, '1989': 5557, 'historische': 5558, 'bleibende': 5559, 'schwaezer': 5560, 'fehlgeleiteter': 5561, 'hurensohn': 5562, 'konfrontationen': 5563, 'genuege': 5564, 'misogyn': 5565, 'erinnere': 5566, 'bearbeitet': 5567, 'schulunterricht': 5568, 'verzichten': 5569, 'stehende': 5570, 'hasselhof': 5571, 'dagen': 5572, 'frauvogelbein': 5573, 'bundeslaendern': 5574, 'anfuehrer': 5575, 'alkoholisie': 5576, 'klotz': 5577, '875': 5578, 'geflohen': 5579, 'didyouknow': 5580, 'kriminalitaet': 5581, 'herkunft': 5582, 'rechtssystem': 5583, 'gooney75': 5584, 'geschlechte': 5585, 'rennung': 5586, 'menschensammlungen': 5587, 'toleranten': 5588, 'geifer': 5589, 'schreitet': 5590, 'voran': 5591, 'adolfglunz': 5592, 'schaemt': 5593, 'saeue': 5594, 'brdgmbh': 5595, 'zweierlei': 5596, 'brech': 5597, 'wusst': 5598, 'jawohl': 5599, 'weiteres': 5600, 'linker': 5601, 'wonach': 5602, 'oekobilanz': 5603, 'colognerin': 5604, 'konzentration': 5605, 'bundestagsmandat': 5606, 'eddie': 5607, '1412': 5608, 'unbedeutendheit': 5609, 'verhetzt': 5610, 'praktischeres': 5611, 'lewin': 5612, 'sozialprinzipien': 5613, 'tugendethik': 5614, 'gesellschaftslehre': 5615, 'noelle': 5616, 'transsexuelitaet': 5617, 'scheinheiligeren': 5618, 'theaterdonner': 5619, 'blosser': 5620, 'playboy': 5621, 'kommentie': 5622, '87': 5623, 'tom': 5624, 'rettete': 5625, 'hollstein': 5626, 'ahmet': 5627, 'demir': 5628, 'rathaus': 5629, 'gdp': 5630, 'dir4': 5631, 'gdppresse': 5632, 'autonome': 5633, 'hoechtstrafen': 5634, 'sozialdemokrat': 5635, 'hervorragenden': 5636, 'eichef': 5637, 'kleinredet': 5638, 'konstellation': 5639, 'vorbildliche': 5640, 'migrationspolitik': 5641, 'mitmachen': 5642, 'weihnachtsmaerkten': 5643, 'barrieren': 5644, 'nagelbomben': 5645, 'don': 5646, 'quijote': 5647, 'gerichtet': 5648, 'windmuehlen': 5649, 'kaempfend': 5650, 'bekloppte': 5651, 'frenchies': 5652, 'toene': 5653, 'unmengen': 5654, 'tieren': 5655, 'umkommen': 5656, 'ausl': 5657, 'ueblich': 5658, 'freigelassen': 5659, 'arbeitslager': 5660, 'umfallen': 5661, 'rueckstandlos': 5662, 'junkie': 5663, 'crack': 5664, 'autoritaet': 5665, 'gehirngewaschene': 5666, 'muesse': 5667, 'regierungsbeteiligung': 5668, 'option': 5669, 'gewinner': 5670, 'zwerge': 5671, 'anmutigsten': 5672, 'benoette': 5673, 'verzweifelte': 5674, 'ueberlegung': 5675, 'stinken': 5676, 'patrioten': 5677, 'besucht': 5678, 'verarschungsgericht': 5679, 'verrotten': 5680, 'randgruppen': 5681, 'rvrsapachemastr': 5682, 'neuseeland': 5683, 'nairax23': 5684, 'harlekin1991': 5685, 'naira': 5686, 'baby': 5687, 'krabbelalter': 5688, 'krippe': 5689, 'stecknadeln': 5690, 'carocreamreal': 5691, 'caro': 5692, 'jeahr': 5693, 'interpretationsmethoden': 5694, 'angewandt': 5695, 'alicegreschkow': 5696, 'lieb': 5697, 'rueckendeckung': 5698, 'weiterzumachen': 5699, 'koepfe': 5700, 'eskalieren': 5701, 'bano': 5702, 'romina': 5703, 'power': 5704, 'schlagerchampions': 5705, 'medienarbeiter': 5706, 'rene': 5707, 'springer': 5708, 'jaemmerlicher': 5709, 'letzen': 5710, 'wesentlich': 5711, 'konsulaten': 5712, 'beamte': 5713, 'spionieren': 5714, 'besatzungsmacht': 5715, 'teure': 5716, 'austauschbar': 5717, 'bescheissen': 5718, 'spre': 5719, 'cher': 5720, 'jus': 5721, 'tiz': 5722, 'mi': 5723, 'nis': 5724, 'te': 5725, 'ri': 5726, 'ge': 5727, 'reichelt': 5728, 'adressat': 5729, 'twitteraccount': 5730, 'ministerium': 5731, 'nachfragen': 5732, 'fundamentalistischen': 5733, 'investigatives': 5734, 'ausgaben': 5735, 'rechtsanwaeltin': 5736, 'maut': 5737, 'muelltonnen': 5738, 'gemuetlich': 5739, 'gaaaaanz': 5740, 'mitgekriegt': 5741, 'repraesentativen': 5742, 'grandioses': 5743, 'von': 5744, 'koalitionsverhandler': 5745, 'schrumpfen': 5746, 'sammelbewegung': 5747, 'gelaber': 5748, 'gerichte': 5749, 'angemessenen': 5750, 'strafrahmen': 5751, 'vorzusehen': 5752, 'popularitaet': 5753, '1997': 5754, 'verlasse': 5755, 'einsamkeit': 5756, 'anhaltendem': 5757, 'carlo': 5758, 'caretti': 5759, 'moepsen': 5760, 'vaginas': 5761, 'light': 5762, 'eingeschwungen': 5763, 'ellpa': 5764, 'verschwulten': 5765, 'verfassungsrichtern': 5766, 'hinr': 5767, 'vosskuhlescheisskule': 5768, 'finanziell': 5769, 'volksverraetern': 5770, 'entschlossen': 5771, 'entgegentreten': 5772, 'g': 5773, 'bete': 5774, 'schauhin2': 5775, 'sieger': 5776, 'asylantenbeschuetzer': 5777, 'asyalantenabschaum': 5778, 'diaetenerhoehung': 5779, 'muelleimern': 5780, 'herausfordern': 5781, 'verdammten': 5782, 'kna': 5783, 'krippewelle': 5784, 'nominieren': 5785, 'eidigen': 5786, 'tateinheit': 5787, 'rassismuss': 5788, 'sixtus': 5789, 'spitzenverdienern': 5790, 'selektiver': 5791, 'schwaecher': 5792, 'letzteren': 5793, 'bedrohlich': 5794, 'emoclewtonswej': 5795, 'seltenes': 5796, 'pforzheim': 5797, 'furzheim': 5798, 'audienz': 5799, 'kaiserin': 5800, 'geschaeftsfuehrend': 5801, 'staatskrise': 5802, 'debile': 5803, 'primitiver': 5804, 'darksideoftheeg': 5805, 'govkorea': 5806, 'mafrakorea': 5807, 'koreanischen': 5808, 'tierquaelern': 5809, 'verunglimpft': 5810, 'sodass': 5811, 'homerogner': 5812, 'herausgeber': 5813, 'disse': 5814, 'ation': 5815, 'umfassend': 5816, 'orientie': 5817, 'moderat': 5818, 'menschenfreundlich': 5819, 'spotten': 5820, 'rueckenwind': 5821, 'praegen': 5822, 'zwar': 5823, 'gegensatzpaar': 5824, 'voelkisch': 5825, 'identitaeten': 5826, 'schnittmenge': 5827, 'aschkenasische': 5828, 'scheintote': 5829, 'trainer': 5830, 'management': 5831, 'emotionalen': 5832, 'befindlichkeiten': 5833, 'ntvde': 5834, 'cherwa': 5835, 'religioes': 5836, 'bestritten': 5837, 'skupellosen': 5838, 'shrimps': 5839, 'vorhaut': 5840, 'praesidentin': 5841, 'frankreichs': 5842, 'eifreund': 5843, 'geschrittenen': 5844, 'stadium': 5845, 'errungenschaft': 5846, 'eigenem': 5847, 'wegzunehmen': 5848, 'strassenausbaubeitraege': 5849, 'luklktourscr': 5850, 'ueblicherweise': 5851, 'romantik': 5852, 'versorgung': 5853, 'angehoerigen': 5854, 'solidarisieren': 5855, 'ueberhoeht': 5856, 'bmel': 5857, 'bmub': 5858, 'gift': 5859, 'wildtiere': 5860, 'vorangetrieben': 5861, 'nationale': 5862, 'entschuldigt': 5863, 'judenspuren': 5864, 'gesundes': 5865, 'faznet': 5866, 'meine': 5867, 'grenzenlos': 5868, 'erikmarquardt': 5869, 'eulentweet': 5870, 'oststaaten': 5871, 'handhaben': 5872, 'homosexueller': 5873, 'erlaube': 5874, 'thesen': 5875, 'nuechternen': 5876, 'verlockung': 5877, 'geblendet': 5878, 'handbuch': 5879, 'staatsrechts': 5880, 'staatslehre': 5881, 'rundfunkbeitrag': 5882, 'rocken': 5883, 'blasphemie': 5884, 'atem': 5885, 'rauben': 5886, 'beton': 5887, 'absperrungen': 5888, 'fdj': 5889, 'onyx': 5890, 'mariaklschmeink': 5891, 'gruenenrw': 5892, 'nachfuehlen': 5893, 'flach': 5894, 'fit': 5895, 'kurier': 5896, 'hzulla': 5897, 'baggern': 5898, 'gnurpsnewoel': 5899, 'teamliebe': 5900, 'eidigst': 5901, 'hakijaavdic': 5902, 'gedenkstaette': 5903, 'verlange': 5904, 'shlomosapiens': 5905, 'umfrage': 5906, 'forsa': 5907, 'atheistische': 5908, 'fuerchten': 5909, 'intolerante': 5910, 'strengglaeubige': 5911, 'landsleute': 5912, 'anonyme': 5913, 'titulie': 5914, 'asylbetruegern': 5915, 'konnte': 5916, 'studiengebuehren': 5917, 'angehenden': 5918, 'geistes': 5919, 'sozialwissenschaftler': 5920, 'alleinige': 5921, 'oeffentliche': 5922, 'naturwissenschaften': 5923, 'oho': 5924, 'josef': 5925, 'paulpanter16': 5926, 'migrantenpack': 5927, 'zahlreichen': 5928, 'kanalisationen': 5929, 'ratten': 5930, 'verzehren': 5931, 'unbemerkt': 5932, 'eingefunden': 5933, 'aggressiv': 5934, 'bezieht': 5935, 'ausschusses': 5936, 'beschluss': 5937, 'aufzufordern': 5938, 'generalbundesanwaltschaft': 5939, 'anzuweisen': 5940, 'verfahren': 5941, 'auszuweiten': 5942, 'kriecher': 5943, 'sklavenstaat': 5944, 'arbeite': 5945, 'verschwende': 5946, 'buergergespraech': 5947, 'oper': 5948, 'meinungsforscher': 5949, 'guellner': 5950, 'wissler': 5951, 'sonen': 5952, 'neujahrsvorsaetze': 5953, 'kompass': 5954, 'ideales': 5955, 'abgeaende': 5956, 'annektion': 5957, 'zeitrafferin': 5958, 'goere': 5959, 'inarenner': 5960, 'gedenke': 5961, 'kapie': 5962, 'naech': 5963, 'kameras': 5964, 'draengt': 5965, 'schoeneren': 5966, 'frustrie': 5967, 'unternehemens': 5968, 'jurgenelsasser': 5969, 'rogerkoeppel': 5970, 'beschlussvorschlag': 5971, 'aggressoren': 5972, 'stilisieren': 5973, 'haftverschonung': 5974, 'gefaengnismauern': 5975, 'gefangenen': 5976, 'frohes': 5977, 'osterfest': 5978, 'donrikus72': 5979, 'selbstherrlichkeit': 5980, 'estherschapira': 5981, 'fsv': 5982, 'wintermohn': 5983, 'bjoernhoecke': 5984, 'handel': 5985, 'zustande': 5986, 'ceetzie': 5987, 'glueckliches': 5988, 'wichtigeres': 5989, 'gesockse': 5990, 'clan': 5991, 'tages': 5992, 'williptz': 5993, 'elnachvier': 5994, 'rias': 5995, 'monitoringstelle': 5996, 'meldenetzwerk': 5997, 'veroeffentlichen': 5998, 'vorfalls': 5999, 'vornehmste': 6000, 'studium': 6001, 'theologie': 6002, 'lerne': 6003, 'kirchenprofil': 6004, '340': 6005, 'pressemitteilung': 6006, 'mief': 6007, 'attraktivitaet': 6008, 'rdigerbrandt': 6009, 'folgere': 6010, 'daraus': 6011, 'feigheit': 6012, 'eipolitischen': 6013, 'standardmodus': 6014, 'regierbarkeit': 6015, 'schwaechen': 6016, 'evadahlmann': 6017, 'anonym': 6018, 'klicks': 6019, 'eingeben': 6020, 'kinderexpe': 6021, 'simontelemann': 6022, 'feile': 6023, 'dieterjosef': 6024, 'mlk': 6025, 'cgasch1': 6026, 'knueppel': 6027, 'ego': 6028, 'trotzig': 6029, 'hamed': 6030, 'abdel': 6031, 'meinen': 6032, 'sawsan': 6033, 'kinderhochzeiten': 6034, 'sterberate': 6035, 'verbessern': 6036, 'homosexuelle': 6037, 'paare': 6038, 'rechtliches': 6039, 'juristischen': 6040, 'instanz': 6041, 'einzufordern': 6042, 'costa': 6043, 'rica': 6044, 'umsetzen': 6045, 'anstelle': 6046, 'abzureisen': 6047, 'armselige': 6048, 'straeter': 6049, 'geteilt': 6050, 'vollstaendig': 6051, 'vernetztes': 6052, 'deaktivie': 6053, 'debattiere': 6054, 'mutet': 6055, 'armutsloehne': 6056, 'leiharbeit': 6057, 'diaeten': 6058, 'erhoeht': 6059, 'stimmte': 6060, 'beantragte': 6061, 'diaetensteigerung': 6062, 'waldruhe': 6063, 'infoleonhardt': 6064, 'elekrojude': 6065, 'angie': 6066, 'praesident': 6067, 'mr': 6068, 'sorgen': 6069, 'langer': 6070, 'sprachunterricht': 6071, 'rehna': 6072, 'sprachfoerderung': 6073, 'parchim': 6074, 'naturgemaesse': 6075, 'geschlechts': 6076, 'gestrichen': 6077, 'bloesse': 6078, 'unattraktiv': 6079, 'sicherheitsbehoerden': 6080, 'empfindlich': 6081, 'hintergruende': 6082, 'wesskraut': 6083, 'sellerie': 6084, 'moehren': 6085, 'beete': 6086, 'spargel': 6087, 'angebaut': 6088, 'flicklgruber': 6089, 'schwulenlobby': 6090, 'ferner': 6091, 'fleisch': 6092, 'unsrer': 6093, 'grosseltern': 6094, 'ehrenamtliche': 6095, 'lageso': 6096, 'syrers': 6097, 'nuss': 6098, 'vassiligolod': 6099, 'gefasel': 6100, 'dreckslinken': 6101, 'faschistenschweine': 6102, 'nachvollziehbare': 6103, 'zurechtgemogelt': 6104, 'irgendwelchen': 6105, 'postulie': 6106, 'wurdest': 6107, 'helenaserbent': 6108, 'schminke': 6109, 'high': 6110, 'heels': 6111, 'sternenrot': 6112, 'opfernummer': 6113, 'zitiere': 6114, 'fragwuerdigkeit': 6115, 'demagogie': 6116, 'beschissenen': 6117, 'trustno1': 6118, '1973': 6119, 'brutus': 6120, 'verus': 6121, 'sanften': 6122, 'ruege': 6123, 'entscheider': 6124, 'vorgefueh': 6125, 'ermahnung': 6126, 'geradezu': 6127, 'todessehnsucht': 6128, 'anstrebt': 6129, 'unkommentie': 6130, 'vorsetzen': 6131, 'erklaerbaer': 6132, 'abwae': 6133, 'linkgruener': 6134, 'journalistenblock': 6135, 'wunschdenken': 6136, 'moselexpi': 6137, 'verkennen': 6138, 'ausfuehrungen': 6139, 'kindeswohlentscheidungen': 6140, 'rechtswirksame': 6141, 'einwilligung': 6142, 'zutraut': 6143, 'sozialadaequanz': 6144, '00uhr': 6145, 'ver': 6146, 'queeres': 6147, 'lsbttiq': 6148, 'terrorstaat': 6149, 'ansetzen': 6150, 'zusammenschliessen': 6151, 'hallomolli': 6152, 'kollektivschuld': 6153, 'mehrheitsvotum': 6154, 'leugnen': 6155, 'stiessen': 6156, 'kuwaitische': 6157, 'arbeitsschutzgesetze': 6158, 'angestellten': 6159, 'glatt': 6160, 'zustimmst': 6161, 'abknallen': 6162, 'tierheime': 6163, 'finanzieren': 6164, 'humane': 6165, 'strecke': 6166, 'schaedel': 6167, 'ex': 6168, 'beachtet': 6169, 'zwangslaeufig': 6170, 'afdschmidt': 6171, 'berufliche': 6172, 'rennen': 6173, 'doppelspitze': 6174, 'afdbpt': 6175, 'rechtspopulistische': 6176, 'reconquista': 6177, 'liberalisierung': 6178, 'offenheit': 6179, 'vor1968': 6180, 'abkassieren': 6181, 'langweilen': 6182, 'guidoreil': 6183, 'reil': 6184, 'vel': 6185, 'freundeskreis': 6186, 'maritafickel': 6187, 'worrius': 6188, 'lenibreymaier': 6189, 'janfleischhauer': 6190, 'politverbloedungsshows': 6191, 'denselben': 6192, 'vorschieben': 6193, 'heilige': 6194, 'vorschreibt': 6195, 'eilaktionen': 6196, 'infostaende': 6197, 'loslegen': 6198, 'verschaerfen': 6199, 'zusaetzlich': 6200, 'ausgestorben': 6201, 'maennersteuer': 6202, 'religioeses': 6203, 'gezogen': 6204, 'hochschlafen': 6205, 'nachfrage': 6206, 'fahrplanwechsel': 6207, 'netzplaene': 6208, 'app': 6209, 'aktualisieren': 6210, 'drueckt': 6211, 'ausgibt': 6212, 'negative': 6213, 'attituede': 6214, 'gewissen': 6215, 'feministischen': 6216, 'tjark': 6217, 'limmer': 6218, 'stehtfest': 6219, 'fpoe': 6220, 'oevp': 6221, 'asylantrag': 6222, 'pulverfass': 6223, 'nahost': 6224, 'anlauf': 6225, 'friedensregelung': 6226, 'hochgefaehrliche': 6227, 'hinzu': 6228, 'zefilipe22': 6229, 'meinungska': 6230, 'zerlegt': 6231, 'plaene': 6232, 'ausgehandelt': 6233, '220': 6234, 'streng': 6235, 'nudepic': 6236, 'erfolgreichen': 6237, 'jugendprojekte': 6238, 'dauerhaft': 6239, 'verankern': 6240, 'leerer': 6241, '630': 6242, 'einfrieren': 6243, 'dishonoredsushi': 6244, 'weltherrschaft': 6245, 'schmieriger': 6246, 'extremen': 6247, 'antideutsches': 6248, 'blablabla': 6249, 'verehrst': 6250, 'bekehren': 6251, 'mittels': 6252, 'bohemien': 6253, 'grove': 6254, 'tube': 6255, 'biografie': 6256, 'gesinnungslaerm': 6257, 'geweige': 6258, 'softwareupdate': 6259, 'dieselsoftware': 6260, 'durchfuehren': 6261, 'josie4you': 6262, 'eismann': 6263, 'niedrigloehnen': 6264, 'armutsrenten': 6265, 'zynischer': 6266, 'schaebige': 6267, 'bankensystem': 6268, 'ausnehmen': 6269, 'shysmurf': 6270, 'trinkspender': 6271, 'ostkuestenhure': 6272, 'iliev': 6273, 'volksfeinde': 6274, 'komministen': 6275, 'demontie': 6276, 'pastorsandy': 6277, 'bedfordstrohm': 6278, 'knuuut': 6279, 'supergern': 6280, 'relaunch': 6281, 'mettmanfred': 6282, 'meinungsaeusserung': 6283, 'hahaha': 6284, 'verstappen': 6285, 'seifenkisten': 6286, 'wohnwagen': 6287, 'f1sky': 6288, 'inoetting': 6289, 'bedingungslose': 6290, 'bge': 6291, 'neoliberalismus': 6292, 'derzeitigen': 6293, 'klapproth': 6294, 'uncelsa': 6295, 'cleosls': 6296, '16a': 6297, 'dschiadisten': 6298, 'freunden': 6299, 'nacke': 6300, 'querkop': 6301, 'deisteredith': 6302, 'dummer': 6303, 'rotfaschisten': 6304, 'claudiaroth': 6305, 'bundestagsvizepraesident': 6306, 'nb': 6307, 'pik': 6308, 'quatschkopp': 6309, 'schickt': 6310, 'brennen': 6311, 'entzuenden': 6312, 'ramsesleben': 6313, 'geschieht': 6314, 'hochverraeter': 6315, 'erscheinung': 6316, 'zukunftsfaehigkeit': 6317, 'duckmaeuser': 6318, 'begnadeten': 6319, 'polemiker': 6320, 'berndulrich': 6321, 'bewerbung': 6322, 'sprecher': 6323, 'verdaechtiger': 6324, 'verwendest': 6325, 'naturgemaess': 6326, 'ludkethomas': 6327, 'igung': 6328, 'erstochene': 6329, 'touristinnen': 6330, 'volvo': 6331, 'productplacement': 6332, 'afdfraktion': 6333, 'mv': 6334, 'chrstl': 6335, 'deutschland77': 6336, 'kastrie': 6337, 'ewigen': 6338, 'scroll': 6339, 'handies': 6340, 'katjadoerner': 6341, 'schlager': 6342, 'impressivamicha': 6343, 'ardde': 6344, 'kanonenfutter': 6345, 'fuehlst': 6346, 'auserwaehlt': 6347, 'spuerst': 6348, 'wissenschaftlichen': 6349, 'methoden': 6350, 'nachweisbar': 6351, 'agnostiker': 6352, 'ausso': 6353, 'ie': 6354, 'gespue': 6355, 'kalten': 6356, 'jahreszeit': 6357, 'obdachlosen': 6358, 'juergenhardt': 6359, 'angerufen': 6360, 'hinschicken': 6361, 'pazifisten': 6362, 'einsatzfaehige': 6363, 'armee': 6364, 'fotoluxlux': 6365, 'koalitionspa': 6366, 'gr': 6367, 'klimaschutz': 6368, 'zuzug': 6369, 'selbstbewusst': 6370, 'tragoedie': 6371, 'neomagazin': 6372, 'bashing': 6373, 'flache': 6374, 'ueberraschen': 6375, 'saerdnaya': 6376, 'ermuedend': 6377, 'wohltuend': 6378, 'gemaessigte': 6379, 'schlechteres': 6380, 'waers': 6381, 'gelaufen': 6382, 'aufgeraeumter': 6383, 'ansprechender': 6384, 'bereiche': 6385, 'grade': 6386, 'auschwitz': 6387, 'indonesien': 6388, 'salafistisch': 6389, 'gesinnte': 6390, 'schwesternschaften': 6391, 'vorgehensweise': 6392, 'starker': 6393, 'aufschlag': 6394, 'aufschieben': 6395, 'hoffnung': 6396, 'groesseres': 6397, 'ignatius': 6398, 'loyola': 6399, 'elfiold': 6400, 'augustfinger': 6401, 'betrunken': 6402, '375': 6403, 'gefoerde': 6404, 'tweeten': 6405, 'maennliche': 6406, 'klagen': 6407, 'spiegeln': 6408, 'rechtlicher': 6409, 'scheidungs': 6410, 'familienrecht': 6411, 'sexualstrafrecht': 6412, 'vt27kolt11': 6413, 'streubel': 6414, 'aquohe': 6415, 'boh': 6416, 'sauer': 6417, 'verhandelt': 6418, 'lernt': 6419, 'schwimmen': 6420, 'erschaffen': 6421, 'direktwahl': 6422, 'nichtmal': 6423, 'grid': 6424, 'girls': 6425, 'abderrahimde1': 6426, 'geheimdienste': 6427, 'sichtbar': 6428, 'gefaehrlicher': 6429, 'salafist': 6430, 'vergiftet': 6431, 'israelischer': 6432, 'tourist': 6433, 'klienten': 6434, 'verstrickt': 6435, 'seltsames': 6436, 'rechtsverstaendnis': 6437, 'gleichschaltung': 6438, 'ler': 6439, 'besitzen': 6440, 'theodor': 6441, 'fontane': 6442, 'wanderungen': 6443, 'rassistin': 6444, 'sexistin': 6445, 'eindruck': 6446, 'entstuende': 6447, 'drehe': 6448, 'mister': 6449, 'abaerbock': 6450, 'staerkster': 6451, 'emanzipatorischer': 6452, 'ehrung': 6453, 'staatskanzlei': 6454, 'bahr': 6455, 'staatssicherheit': 6456, 'postdoc': 6457, 'hauptressource': 6458, 'erschienen': 6459, 'dokumente': 6460, 'stasiunterlagenarchiv': 6461, 'rechtskonservativ': 6462, 'dekadenz': 6463, 'waechst': 6464, 'quittung': 6465, 'wuerselen': 6466, 'vergeigt': 6467, 'politicalbeauty': 6468, 'subversiv': 6469, 'foerdergeldern': 6470, 'mediale': 6471, 'schaetzt': 6472, 'bureg': 6473, 'iq': 6474, 'stimulator': 6475, 'honecker': 6476, 'saarlaender': 6477, 'pewresearch': 6478, 'go': 6479, 'area': 6480, 'jock': 6481, 'schrader': 6482, 'eizugehoerigkeit': 6483, 'desto': 6484, 'bewah': 6485, 'meinten': 6486, 'faksilar': 6487, 'gleichwe': 6488, 'ungewoehnlicher': 6489, 'persoenlichem': 6490, 'ausweisung': 6491, 'politischeverfolgung': 6492, 'plaedieren': 6493, 'saekularismus': 6494, 'offenegesellschaft': 6495, 'weltlich': 6496, 'begruendeten': 6497, 'zeitgemaessen': 6498, 'sabine': 6499, 'drogen': 6500, 'nervoese': 6501, 'selbsternannten': 6502, 'antirassisten': 6503, 'mohammedanische': 6504, 'sozialisierung': 6505, 'worunter': 6506, 'frauenverachtung': 6507, 'zyniker': 6508, 'talkshows': 6509, 'einbuergern': 6510, 'christl': 6511, 'bedraengung': 6512, 'glaubens': 6513, 'klamotten': 6514, 'uebergewichtigen': 6515, 'nutte': 6516, 'nordsyrien': 6517, 'klausfenn': 6518, 'umsonst': 6519, 'miete': 6520, 'krassen': 6521, 'wichtigen': 6522, 'aktuell': 6523, 'gerichtlich': 6524, 'klaerende': 6525, 'praezedenzfaelle': 6526, 'subventioniere': 6527, 'anhieb': 6528, 'nahe': 6529, 'himmler': 6530, 'tiefster': 6531, 'inbrunst': 6532, 'holtmann': 6533, 'konstruie': 6534, 'protestantischer': 6535, 'anfrage': 6536, 'visastellen': 6537, 'generalkonsulate': 6538, 'terminwuensche': 6539, 'politikverdrossene': 6540, 'abschminken': 6541, 'schlummern': 6542, 'hybris': 6543, 'postengeschacher': 6544, 'schmarotze': 6545, 'gejagt': 6546, 'brockman': 6547, 'unterkuenfte': 6548, 'angegriffen': 6549, 'differenzierung': 6550, 'hierbleiben': 6551, 'vogelfuetterung': 6552, 'anhalt': 6553, 'andr': 6554, 'vgl': 6555, 'schnitt': 6556, 'ehrgeiz': 6557, 'arbeitseifer': 6558, 'versetzt': 6559, 'berge': 6560, 'bikedb06': 6561, 'lauro': 6562, 'doc': 6563, 'langsamm': 6564, 'schmodder': 6565, 'luca': 6566, 'smarke': 6567, 'altenbeken': 6568, 'uebung': 6569, 'reinerkeller': 6570, 'fy': 6571, 'schaebigen': 6572, 'aehnliches': 6573, 'hate': 6574, 'melamann': 6575, 'schlaegern': 6576, 'evolutionaeres': 6577, 'realromanwagner': 6578, 'pfeile': 6579, 'kommunen': 6580, 'bereitet': 6581, 'melkkuh': 6582, 'abgabenerhoehungen': 6583, 'sperrig': 6584, 'pussikratie': 6585, 'vorschlagen': 6586, 'rentenkuerzungen': 6587, 'werkoffiziell': 6588, 'eingestellt': 6589, 'feierst': 6590, 'dirnd': 6591, 'grafwer': 6592, 'eubel': 6593, 'kaddinsky': 6594, 'cv': 6595, 'wissel': 6596, 'habeck': 6597, 'defokusie': 6598, 'sonstwas': 6599, 'bodoramelow': 6600, 'hinweise': 6601, 'gestellte': 6602, 'verstossen': 6603, 'norden': 6604, 'hinein': 6605, 'kiel': 6606, 'hhhilft': 6607, 'meiendorfhilft': 6608, 'hrohilft': 6609, 'zufall': 6610, 'infantilisierung': 6611, 'schattengebannt': 6612, 'voegele': 6613, 'flaggen': 6614, '123kocour': 6615, 'hur': 6616, 'schoppenhauer': 6617, 'oberhalb': 6618, 'nivcht': 6619, 'gewoehnlich': 6620, 'statusniederen': 6621, 'wuerdigt': 6622, 'menschendesjahres2016': 6623, 'vielfaches': 6624, 'krakrakrakrakra': 6625, 'vermissen': 6626, 'machthungring': 6627, 'leichen': 6628, 'mundwinkel': 6629, 'zuckten': 6630, 'medizinisch': 6631, 'kauder': 6632, 'antisemitismusbeauftragten': 6633, 'ausdruecklich': 6634, 'bekennt': 6635, 'dastehen': 6636, 'tiefen': 6637, 'spalltungen': 6638, 'begruende': 6639, 'fleissig': 6640, 'dazugedichtet': 6641, 'objektivie': 6642, 'umerziehungslager': 6643, 'profitgierig': 6644, 'psychopathisch': 6645, 'betonpoller': 6646, 'feste': 6647, 'schutzzone': 6648, 'wohin': 6649, 'driftet': 6650, 'vermoegen': 6651, 'drohung': 6652, 'zuwiderhandlung': 6653, 'belohnung': 6654, 'weltfremden': 6655, 'statische': 6656, 'haeufigkeit': 6657, 'unentwegt': 6658, 'fastenaktion': 6659, '7wochenohne': 6660, 'regionalbischoefin': 6661, 'susanne': 6662, 'kessler': 6663, 'marionettaslomka': 6664, 'linksgruenen': 6665, 'gesteue': 6666, 'verlinken': 6667, 'laterpay': 6668, 'herrjeh': 6669, 'anbeissen': 6670, 'geiler': 6671, 'respektvoll': 6672, 'eickhoffstephan': 6673, 'tynca1': 6674, 'zusammentun': 6675, 'migrations': 6676, 'entspannung': 6677, 'militaeruebung': 6678, 'eiserner': 6679, 'wolf': 6680, 'inlitauen': 6681, 'ungslos': 6682, 'aeppel': 6683, 'wuellt': 6684, 'ruck': 6685, 'zuck': 6686, 'oevern': 6687, 'zaun': 6688, 'dat': 6689, 'mutt': 6690, 'ut': 6691, 'hamborg': 6692, 'sien': 6693, 'xlastdefence': 6694, 'mightybuyer': 6695, 'bundestags': 6696, 'etliche': 6697, 'aufgezaehlt': 6698, 'sinngemaess': 6699, 'gegenargument': 6700, 'fraglich': 6701, 'hingehen': 6702, 'humanflowmovie': 6703, 'bewegende': 6704, 'ai': 6705, 'weiwei': 6706, 'ausgewaehlten': 6707, 'filmtipp': 6708, 'petitionen': 6709, 'unterschreibe': 6710, 'tierquaelerei': 6711, 'aufzumucken': 6712, 'beendet': 6713, 'afrikas': 6714, 'misere': 6715, 'hausgemacht': 6716, 'unabhaengigkeit': 6717, 'vmtl': 6718, 'elitaeren': 6719, 'ausgeloescht': 6720, 'versklaven': 6721, 'heuchlerei': 6722, 'verhunge': 6723, 'bericht': 6724, 'jury': 6725, 'intendanten': 6726, 'abschlachten': 6727, 'vogelwa': 6728, '79': 6729, 'lahnduscher': 6730, 'bedauere': 6731, 'reichs': 6732, 'bedaure': 6733, 'unschoen': 6734, 'anzetteln': 6735, 'zunahme': 6736, 'verbloedeter': 6737, 'skrupellose': 6738, 'erbaermliche': 6739, 'krebskranken': 6740, 'doctorpuppe': 6741, 'croqisunshine': 6742, 'uwewelzel': 6743, 'dummdeutschland': 6744, 'vergewaltigenden': 6745, 'gekrochen': 6746, 'ulrichkhn2': 6747, 'jedeliebe': 6748, 'gottseidank': 6749, 'weltfrieden': 6750, 'astroloop': 6751, 'bayerischer': 6752, 'kommunalpolitik': 6753, 'raut': 6754, 'markantdjpool': 6755, 'verlgeicht': 6756, 'paralle': 6757, 'goerings': 6758, 'tschechische': 6759, 'tech12358': 6760, 'vorstelle': 6761, 'strangelove666': 6762, 'fffrauki': 6763, 'kuenstl': 6764, 'merker': 6765, 'deutlichen': 6766, 'schlussstrich': 6767, 'blossen': 6768, 'hirngespinste': 6769, 'tatenlos': 6770, 'zusehen': 6771, 'verlosung': 6772, 'juni': 6773, 'unoflucht': 6774, 'exklusive': 6775, 'preise': 6776, 'nruegenberg': 6777, 'moderner': 6778, 'werwolf': 6779, 'todes': 6780, 'minuetige': 6781, 'werbesendung': 6782, 'liksgruene': 6783, 'schaubild': 6784, 'erstellt': 6785, 'pks': 6786, 'krimminelle': 6787, 'noete': 6788, 'beschissenes': 6789, 'kannste': 6790, 'sprueche': 6791, 'akzeptabel': 6792, 'traunen': 6793, 'normalbuerger': 6794, 'interessanten': 6795, 'uebersicht': 6796, 'legende': 6797, 'meinungsdominanz': 6798, 'retweetet': 6799, 'absender': 6800, 'zugehoe': 6801, 'second': 6802, 'bekloppten': 6803, 'nepomuk': 6804, 'loeblich': 6805, 'redlich': 6806, 'schleimpilzen': 6807, 'umzugehen': 6808, 'dirkhafermann': 6809, 'vosskuhle': 6810, 'volksverdummung': 6811, 'heterosexuelle': 6812, 'anen': 6813, 'tausend': 6814, 'illegalen': 6815, 'untergetauchten': 6816, 'katzenstreu': 6817, 'nachher': 6818, 'komische': 6819, 'katze': 6820, 'zielt': 6821, 'karnassos': 6822, 'abspaltung': 6823, 'scheitern': 6824, 'buzzaldrinsblog': 6825, 'gewalttaetigsten': 6826, 'patriarchats': 6827, 'schulter': 6828, 'klopf': 6829, 'generalstreick': 6830, 'gesammte': 6831, 'erliegen': 6832, 'restaurant': 6833, 'sass': 6834, 'erschuetternden': 6835, 'ausgeht': 6836, 'zuege': 6837, 'gebietet': 6838, 'vorangekuendigt': 6839, 'verbuendeten': 6840, 'aufruf': 6841, 'th': 6842, 'lisieux': 6843, 'pds': 6844, 'beschreibt': 6845, 'treffend': 6846, 'nimmer': 6847, 'psst': 6848, 'teilst': 6849, 'rawls': 6850, 'melange': 6851, 'halbwahrheiten': 6852, 'thora': 6853, 'rhodan': 6854, 'anstalt': 6855, 'anklagen': 6856, 'pimpf': 6857, 'dienstgrad': 6858, 'jaehrige': 6859, 'jungvolks': 6860, 'bestandener': 6861, 'pimpfenprobe': 6862, 'durften': 6863, 'schulterriemen': 6864, 'hj': 6865, 'fah': 6866, 'enmesser': 6867, 'obskurolaph': 6868, 'sondie': 6869, 'idiotie': 6870, 'abgebrochen': 6871, 'erinnerung': 6872, '76': 6873, 'polizeiverordnung': 6874, 'kennzeichnung': 6875, 'erlassen': 6876, 'straightallies': 6877, 'aimanmazyek': 6878, 'pestfloh': 6879, 'geschuetzten': 6880, 'tiera': 6881, 'barbarischen': 6882, 'wuestenkrieger': 6883, 'verehren': 6884, '9jaehriges': 6885, 'gevoegelt': 6886, 'propagierung': 6887, 'schwanzgesteu': 6888, 'lyllithb': 6889, 'svenstrasen': 6890, 'uncleheri': 6891, 'mvphone': 6892, 'drecksministerium': 6893, 'jensmaierafd': 6894, 'herumopfern': 6895, 'frodilon': 6896, 'schnoedes': 6897, 'rechtschreibproblem': 6898, 'ueberlebensmesser': 6899, 'aufbewahren': 6900, 'ankotzt': 6901, 'echo': 6902, 'mittelschicht': 6903, 'heinemo': 6904, 'kimderga': 6905, 'getragen': 6906, 'rls': 6907, 'forscher': 6908, 'kommission': 6909, 'forscherin': 6910, 'xbimmix': 6911, 'solls': 6912, 'freiwilligen': 6913, 'asylantenhelfer': 6914, 'geschwisterlichem': 6915, 'geistvollen': 6916, 'dankbar': 6917, 'maennerfreundschaften': 6918, 'urgrosseltern': 6919, 'zurueckgelassen': 6920, 'falsifizie': 6921, 'ergebnisoffen': 6922, 'vorweisen': 6923, 'gelamab': 6924, 'eingegangen': 6925, 'inhaltliche': 6926, 'knebel68': 6927, 'rechtsbeugung': 6928, 'laest': 6929, 'genehme': 6930, 'meinungen': 6931, 'daemonisch': 6932, 'sahen': 6933, 'waehlten': 6934, 'endspu': 6935, 'darkcerax': 6936, 'loewenmoerder': 6937, 'hobbyjaeger': 6938, '2006': 6939, 'verdoppelt': 6940, 'ethik': 6941, 'befremdlich': 6942, 'womit': 6943, 'ausgebildet': 6944, 'vorzugsweise': 6945, 'ansprache': 6946, 'selbst': 6947, 'omas': 6948, 'hetzmedien': 6949, 'wuenschte': 6950, 'einem': 6951, 'geschenk': 6952, 'neugewonnenes': 6953, 'alexbercht': 6954, 'brihasselmann': 6955, 'potenzielle': 6956, 'einigkeitszwang': 6957, 'verabredet': 6958, 'bedaerungswuerdigen': 6959, 'abschlusspressekonferenz': 6960, 'praesenz': 6961, 'ratholomaeus': 6962, 'fraumaja': 6963, 'kabel': 6964, 's97145759': 6965, 'vollsuff': 6966, 'bundestagsabgeordneter': 6967, '542': 6968, 'monat': 6969, 'gehalt': 6970, 'ausstellen': 6971, 'erlaubnis': 6972, 'steiblbarbara': 6973, 'revoluzzer0815': 6974, 'generalstreik': 6975, 'schlafmuetzen': 6976, 'mrwinpromz1': 6977, 'retweeten': 6978, 'leser': 6979, 'angefangen': 6980, 'piquecritique': 6981, '5y5t3m': 6982, '3rr0r': 6983, 'kreisler': 6984, 'ressentiments': 6985, 'antiamerikanischen': 6986, 'arbeitskreises': 6987, 'langeweile': 6988, 'ueberbieten': 6989, 'allgemeine': 6990, 'betaetigungsverbot': 6991, 'autogramm': 6992, 'eckardt': 6993, 'zig': 6994, 'uralte': 6995, 'kamellen': 6996, 'hadi': 6997, 'riedel': 6998, 'epmobil': 6999, 'isl': 7000, 'davidbraundavid': 7001, 'fritzkuhn1': 7002, 'niqab': 7003, 'erfundenen': 7004, 'flugzeug': 7005, 'steigen': 7006, 'aehnlicher': 7007, 'fschmidt77': 7008, 'feix': 7009, 'abbestellen': 7010, 'mail': 7011, 'relevanten': 7012, 'adresse': 7013, 'abbestellwunsch': 7014, 'spendenservice': 7015, 'zehn': 7016, 'lebewesen': 7017, 'thevolawatcher': 7018, 'hrreisen': 7019, 'eurostat': 7020, 'defizit': 7021, 'machtgeil': 7022, 'unterschreiben': 7023, 'jpw': 7024, '77': 7025, 'weihnachtsmaerkte': 7026, 'fussgaengerzonen': 7027, 'lkws': 7028, 'sprengstoff': 7029, 'nasanasal': 7030, 'afgahnischer': 7031, 'einreiten': 7032, '1live': 7033, 'krone': 7034, 'schwachkoepfen': 7035, 'bildungsfernen': 7036, 'schichten': 7037, 'halbmast': 7038, 'haschisch': 7039, 'herueber': 7040, 'therealmaaaates': 7041, 'spuren': 7042, 'spam': 7043, 'geloeschten': 7044, 'kommentaren': 7045, 'muster': 7046, 'meckerkopp': 7047, 'prust': 7048, 'profitie': 7049, 'strukturellen': 7050, 'vorgaengerregierung': 7051, 'verhandlungsergebnisse': 7052, 'hannelore': 7053, 'laenderfinanzausgleich': 7054, 'unfair': 7055, 'regierungswechseln': 7056, 'whes18': 7057, 'gebrochenes': 7058, 'fotos': 7059, 'ebner': 7060, 'sha': 7061, 'lenna': 7062, 'pfahler': 7063, 'braune': 7064, 'zuzeiten': 7065, 'widrstand': 7066, 'heten': 7067, 'verputz': 7068, 'jajaja': 7069, 'spontan': 7070, 'susfner': 7071, 'fuener': 7072, 'stream': 7073, 'grusswo': 7074, 'social': 7075, 'media': 7076, 'vorindustriellen': 7077, 'halbwegs': 7078, 'inre': 7079, 'merkeltruppe': 7080, 'paulstrobel': 7081, 'lambsdorff': 7082, 'shoah': 7083, 'ausloesende': 7084, 'momentum': 7085, 'staatsgruendung': 7086, 'gekaempft': 7087, 'oeffentlichkiet': 7088, 'panzern': 7089, 'willichnich': 7090, 'konglomerat': 7091, 'staatlicher': 7092, 'maennerrunde': 7093, 'verlangen': 7094, 'gewaehren': 7095, 'beschweren': 7096, 'jana': 7097, 'haushaltsbereinigungssitzung': 7098, 'fotze': 7099, 'niederlande': 7100, 'wilders': 7101, 'abschneidet': 7102, 'unterdrueckte': 7103, 'tagung': 7104, 'bilanzierung': 7105, 'vergangeheit': 7106, 'schliessen': 7107, 'einander': 7108, 'terroristischem': 7109, 'stalkt': 7110, 'anonymisierung': 7111, 'vorgenommen': 7112, '76bvb': 7113, 'detaillie': 7114, 'grob': 7115, 'hilfswerke': 7116, 'orden': 7117, 'adventssingen': 7118, 'krippen': 7119, 'abschluss': 7120, 'show': 7121, 'taub': 7122, 'willnurschreibn': 7123, 'besserung': 7124, 'deftigen': 7125, 'laetacara': 7126, 'abnehmen': 7127, 'paxter': 7128, 'redwyne': 7129, 'wanderfichte': 7130, 'allemn': 7131, 'differenz': 7132, 'vollzeit': 7133, 'qualifikation': 7134, 'lohnluecke': 7135, 'erklaerungsbeduerftig': 7136, 'selahattin': 7137, 'figen': 7138, 'yueksekdag': 7139, 'tuerk': 7140, 'haft': 7141, 'bubernd': 7142, 'uff': 7143, 'ausgiebig': 7144, 'schmeckt': 7145, 'schmerzhaft': 7146, 'weltwoche': 7147, 'mundschutz': 7148, 'geblieben': 7149, 'weisheit': 7150, 'menschlicher': 7151, 'taiga1947': 7152, 'rambonelli': 7153, 'traege': 7154, 'livestream': 7155, 'laach': 7156, '1960': 7157, 'bfluche': 7158, 'eysvog3l': 7159, 'schalt': 7160, 'eletrojuden': 7161, 'aua': 7162, 'duell': 7163, '95': 7164, 'min': 7165, 'grosskoalitionaerer': 7166, 'einigkeit': 7167, 'umarmt': 7168, 'hauptgegner': 7169, 'ohrfeige': 7170, 'italiener': 7171, 'renzi': 7172, 'eurokrise': 7173, 'wessi': 7174, 'countdown': 7175, 'entscheidet': 7176, 'dokumentieren': 7177, 'eingreift': 7178, 'gradmesser': 7179, 'zuversicht': 7180, 'gaensehautmoment': 7181, 'henriettereker': 7182, 'beinahe': 7183, 'gesetzt': 7184, 'thh': 7185, 'vermittlung': 7186, 'suessen': 7187, 'brunnenvergifterkomplex': 7188, 'hauch': 7189, 'nagelbombe': 7190, 'islamist': 7191, 'angriffskrieg': 7192, 'wehrloses': 7193, 'planet': 7194, 'weichenstellung': 7195, 'langfristigen': 7196, 'aktenzugang': 7197, 'neuorganisation': 7198, 'nrwjusos': 7199, 'agenten': 7200, 'kelber': 7201, 'story': 7202, 'zitelmann': 7203, 'schneller': 7204, 'verharmlost': 7205, 'angeschaut': 7206, 'weggeschaut': 7207, 'schutzvorkehrungen': 7208, 'niedrigere': 7209, 'diskriminie': 7210, 'fuehrungsposition': 7211, 'tinaluchskind': 7212, 'verkehrsminister': 7213, 'halbe': 7214, 'sinnlos': 7215, 'versoffen': 7216, 'braeuchte': 7217, 'information': 7218, 'steuergelder': 7219, 'echte': 7220, 'einheimischen': 7221, 'zugewande': 7222, 'fuehrungspositionen': 7223, 'hieven': 7224, 'bevorzuge': 7225, 'tagesplan': 7226, 'besprechen': 7227, 'pssst': 7228, 'vzbv': 7229, 'netzausbau': 7230, 'krischer': 7231, 'telefonve': 7232, 'raege': 7233, 'schriftliche': 7234, 'bestaetigung': 7235, 'verbraucher': 7236, 'ueberfluessig': 7237, 'gesundheitliche': 7238, 'oekonomische': 7239, 'notwendigkeit': 7240, 'reiner': 7241, 'luxustrend': 7242, 'ditisberlin': 7243, 'versieht': 7244, 'mehrheitsfaehig': 7245, 'likes': 7246, 'im': 7247, 'schadet': 7248, 'teilerfolg': 7249, 'standards': 7250, 'beerdigen': 7251, 'webman': 7252, 'sofware': 7253, 'schreibfehler': 7254, 'clemens': 7255, 'zeitungsinterview': 7256, 'gedenkaccount': 7257, 'jahrestage': 7258, 'ereignisse': 7259, 'opfernazigewalt': 7260, 'region': 7261, 'nahostkonflikts': 7262, 'klingst': 7263, 'verarmte': 7264, 'proletariat': 7265, 'wande': 7266, 'nurzoabe': 7267, 'antisemitismusbeauftragte': 7268, 'ausgestattet': 7269, 'konfliktfaehig': 7270, 'verkommender': 7271, 'hauptproblem': 7272, 'weltgemeinschaft': 7273, 'verweisen': 7274, 'maxschiefi': 7275, 'zulange': 7276, '45': 7277, 'vakuum': 7278, 'leichtesten': 7279, 'einnisten': 7280, 'steckst': 7281, 'mittendrin': 7282, 'konventexerzitien': 7283, 'impulsen': 7284, 'umweltenzyklika': 7285, 'laudato': 7286, 'si': 7287, 'gesegneten': 7288, 'ursuende': 7289, 'ueberschrieben': 7290, 'tepes1291': 7291, 'wille': 7292, 'terraxpress': 7293, 'muede': 7294, 'ausgegangen': 7295, 'rkk': 7296, 'zusammengestellt': 7297, 'freundlich': 7298, 'auszudruecken': 7299, 'sicherlich': 7300, 'lenkt': 7301, 'ukraine': 7302, 'muentefering': 7303, 'bereist': 7304, 'befuerchtet': 7305, 'westlich': 7306, 'sozialisie': 7307, 'warmen': 7308, 'dementsprechend': 7309, 'geraten': 7310, 'anzeigetafel': 7311, 'opferfest': 7312, 'steiermark': 7313, 'schafherde': 7314, 'muslems': 7315, 'schafe': 7316, 'vielschichtiger': 7317, 'wechselseitiger': 7318, 'prozess': 7319, 'zuwanderer': 7320, 'aufnahmegesellschaft': 7321, 'fassade': 7322, 'blickt': 7323, 'sezie': 7324, 'frauengeneration': 7325, 'grandios': 7326, 'initiativen': 7327, 'gewoehnliche': 7328, 'ungewoehnlich': 7329, 'neri': 7330, 'libanesischer': 7331, 'ueberlasst': 7332, 'chaos': 7333, 'weltbilder': 7334, 'broeckeln': 7335, 'kuedder': 7336, 'asylsuchenden': 7337, 'elsalvador': 7338, 'guatemala': 7339, 'honduras': 7340, '10x': 7341, 'verbunden': 7342, 'national': 7343, 'eingestellte': 7344, 'maedel': 7345, 'schaendliches': 7346, 'betrugsspiel': 7347, 'antrags': 7348, 'tomcologne77': 7349, 'besagt': 7350, 'freibeuterin': 7351, 'durchs': 7352, 'bahnhofsvie': 7353, 'burg': 7354, 'schreckenstein': 7355, 'cuckoo1510': 7356, 'emotional': 7357, 'begehren': 7358, 'klaer': 7359, 'stammbaum': 7360, 'bunker': 7361, 'segnungen': 7362, 'eurooeffnung': 7363, 'unberechenbarkeit': 7364, 'hinzufuegen': 7365, 'praesidentiellen': 7366, 'legislative': 7367, 'exekutive': 7368, 'aufgesetzte': 7369, 'lachen': 7370, 'ruecktritt': 7371, 'zustimmt': 7372, 'hinlaenglich': 7373, 'hanssarpei': 7374, 'ihen': 7375, 'hautnah': 7376, 'miterlebt': 7377, 'kei': 7378, 'pferdekopf': 7379, 'mafia': 7380, 'elkwue': 7381, 'gestrige': 7382, 'traugottesdienste': 7383, 'mehrheitlich': 7384, 'einfuehrung': 7385, 'amtshandlung': 7386, 'kirchengemeinderates': 7387, 'enttaeuschend': 7388, 'tststs': 7389, 'notie': 7390, 'braunes': 7391, 'anal': 7392, 'prinz': 7393, 'bruedern': 7394, 'isis': 7395, 'lutsch': 7396, 'donnerbeutel': 7397, 'piratenpa': 7398, 'wahlpruefsteine': 7399, 'zuschauer': 7400, 'zuschauen': 7401, 'ghoheneck': 7402, '0x663030623472': 7403, 'edeweiss': 7404, 'ddrmuseum': 7405, 'vernichtungsaktion': 7406, 'belastbares': 7407, 'vorliegt': 7408, 'dritteoption': 7409, 'geschlechtliche': 7410, 'anomalien': 7411, 'jeher': 7412, 'revolution': 7413, 'halbjahr': 7414, 'annikaspahn': 7415, 'orientierungen': 7416, 'gewoehn': 7417, 'raubtierkapitalismus': 7418, 'komisches': 7419, 'privates': 7420, 'alkoholfreies': 7421, 'eiabzeichen': 7422, 'cor': 7423, 'scipio': 7424, 'ardmoma': 7425, 'dummgruenen': 7426, 'daemliches': 7427, 'sauhaufen': 7428, 'moslempa': 7429, 'fonds': 7430, 'hilfen': 7431, 'ludwigslust': 7432, 'oehzenmiriam': 7433, 'nicksynicky': 7434, 'syrische': 7435, 'schlaraffenland': 7436, 'equilibrium1986': 7437, 'intellektuelle': 7438, 'verlust': 7439, 'woe': 7440, 'erbuch': 7441, 'anpassung': 7442, 'uebe': 7443, 'tierwelt': 7444, 'daimagm': 7445, 'geniess': 7446, 'plaedoyer': 7447, 'sevimdagdelen': 7448, 'tagesthema': 7449, 'mausgerutscht': 7450, 'becker': 7451, 'karrierre': 7452, 'verlogenen': 7453, 'findest': 7454, 'agh2016': 7455, 'agh16': 7456, 'ihretwegen': 7457, 'unregierbar': 7458, 'konzeptionell': 7459, 'humbug': 7460, 'huebsch': 7461, 'schlimme': 7462, 'vollidioten': 7463, 'euros': 7464, 'kaputtmachen': 7465, 'hattest': 7466, 'sascha1352': 7467, 'abstimmungen': 7468, 'auslandsmandaten': 7469, 'lafo': 7470, 'waagenknecht': 7471, 'beliebt': 7472, 'beschliesst': 7473, 'kundgebung': 7474, 'lk': 7475, 'evangelische': 7476, 'fluechtlingsbot': 7477, 'habeauch': 7478, 'flatrate': 7479, 'monall': 7480, 'sozilal': 7481, 'gegenteiligem': 7482, 'votum': 7483, 'hendricks': 7484, 'zulassung': 7485, 'angepisst': 7486, 'belaesst': 7487, 'speziell': 7488, 'geistiger': 7489, 'denkende': 7490, 'jesu': 7491, 'youth': 7492, 'ups': 7493, 'schief': 7494, 'ziffer': 7495, 'todesjahres': 7496, 'frixinator': 7497, 'kulturradio': 7498, 'tazgezwitscher': 7499, 'eniejahr': 7500, 'repraesentieren': 7501, 'initiator': 7502, 'signal': 7503, 'indien': 7504, 'doeddel': 7505, 'gewinnst': 7506, 'werder': 7507, 'krawatte': 7508, 'anzug': 7509, 'hohen': 7510, 'jings667': 7511, 'kindleautorali': 7512, 'unheimlich': 7513, 'nichtstun': 7514, 'soeren': 7515, 'iraner': 7516, 'kinni': 7517, 'maerchenschloss': 7518, 'herrschaftanspruch': 7519, 'istandwithisrael': 7520, 'herben': 7521, 'verlusten': 7522, 'luegenschleudern': 7523, 'finanziellen': 7524, 'motiven': 7525, 'karrieren': 7526, 'logenplatz': 7527, 'nizza': 7528, 'hatten': 7529, 'abzuschieben': 7530, 'jedwede': 7531, 'haltung': 7532, 'willkommene': 7533, 'infragestellung': 7534, 'dialogunfaehige': 7535, 'fanatiker': 7536, 'blocken': 7537, 'billige': 7538, 'grundgesetzliche': 7539, '30uhr': 7540, 'koerner': 7541, 'regenbogenfamilienzentrum': 7542, 'ausfuehrlich': 7543, 'evolutionsbiologie': 7544, 'konsulate': 7545, 'eune': 7546, 'schnellhuber': 7547, 'diplom': 7548, 'tuntenhausen': 7549, 'bdk17': 7550, 'sobald': 7551, 'vermuten': 7552, 'loest': 7553, 'einwand': 7554, 'dominikrzepka': 7555, 'eivorsitzende': 7556, 'magie': 7557, 'daemonischen': 7558, 'kraete': 7559, 'geschlechterbeziehungen': 7560, 'zentraler': 7561, 'ansatzpunkt': 7562, 'stagnie': 7563, 'kreativen': 7564, 'innovativen': 7565, 'trage': 7566, 'vollba': 7567, 'traeumt': 7568, 'helder': 7569, 'camara': 7570, 'tanz': 7571, 'massenschlaegerein': 7572, 'schossen': 7573, 'decke': 7574, 'wetterchen': 7575, 'noetigen': 7576, 'einzelnen': 7577, 'anfaengt': 7578, 'wuehler': 7579, 'schmierer': 7580, 'zersetzer': 7581, 'ostkuestenbraut': 7582, 'brisant': 7583, 'entschuldige': 7584, 'promis': 7585, 'gesellschaftlich': 7586, 'einflussreich': 7587, 'homosexuelles': 7588, 'moderator': 7589, 'moma': 7590, 'nilsbeyer': 7591, 'stolzem': 7592, 'ergreifen': 7593, 'positive': 7594, 'vorschlaege': 7595, 'sarkumpmak': 7596, 'wanderausstellung': 7597, 'museum': 7598, 'kommunikation': 7599, 'stories': 7600, 'befriedigung': 7601, 'vorgaukeln': 7602, 'werbepkakaten': 7603, 'triumphieren': 7604, 'wehrwoelfe': 7605, 'asiatischen': 7606, 'horden': 7607, 'bratwurst': 7608, 'oingoing': 7609, 'grobe': 7610, 'rinderbratwurst': 7611, 'schlachter': 7612, 'lecker': 7613, 'schmorsauerkraut': 7614, 'knoedel': 7615, 'fidelisamica': 7616, 'pronos': 7617, 'redeanteil': 7618, 'zzfpotsdam': 7619, 'onlinekommunikation': 7620, 'institutionen': 7621, 'dpok': 7622, 'befreiung': 7623, 'joch': 7624, 'zionisten': 7625, 'quotenfrauen': 7626, 'grill': 7627, 'kandidie': 7628, 'vorsitzender': 7629, 'boar': 7630, 'sachen': 7631, 'praevention': 7632, 'antidiskriminierungsgesetz': 7633, 'michaelroder1': 7634, 'reinste': 7635, 'thomallasophia': 7636, 'moese': 7637, 'beisst': 7638, 'einladungen': 7639, 'gottesdiensten': 7640, 'messe': 7641, 'gesungene': 7642, 'vesper': 7643, 'christmette': 7644, 'google': 7645, 'sondierungverhandlungen': 7646, 'furchtbaren': 7647, 'anschlaegen': 7648, 'kontinuierliche': 7649, 'daemonisierung': 7650, 'herauspicken': 7651, 'dosb': 7652, 'teamd': 7653, 'lebensfreude': 7654, 'ausstrahlt': 7655, 'bewundernswe': 7656, 'versoffene': 7657, 'unistin': 7658, 'lupuslotarius': 7659, 'muschi': 7660, 'spazie': 7661, 'beschissener': 7662, 'laiendarstellern': 7663, 'gidion': 7664, 'rogg': 7665, 'ueberarbeiteten': 7666, 'kundgebungsentwurf': 7667, 'enttaeuschung': 7668, 'fehleinschaetzung': 7669, 'erwachsen': 7670, 'race': 7671, 'realists': 7672, 'entlarven': 7673, 'biologischen': 7674, 'zeugt': 7675, 'argumentativen': 7676, 'schwaeche': 7677, 'ursula': 7678, 'haverbeck': 7679, 'amtsgericht': 7680, 'voksverhetzung': 7681, 'iger': 7682, 'schmeiss': 7683, 'fernseher': 7684, 'woratschka': 7685, 'faktenfreie': 7686, 'enttaeuscht': 7687, 'abgehoe': 7688, 'speziellen': 7689, 'anpassungen': 7690, 'geographische': 7691, 'gegebenheiten': 7692, 'populationen': 7693, 'geraet': 7694, 'kanallie': 7695, 'verseucht': 7696, 'comicerkai': 7697, 'bildblog': 7698, 'moritz': 7699, 'tschermak': 7700, 'unabhaenige': 7701, 'spuerbar': 7702, 'blassen': 7703, 'dunklen': 7704, 'christi': 7705, 'herxheim': 7706, 'antisemitismunsbeauftragten': 7707, 'hitlerglocke': 7708, 'fruehlingswetter': 7709, 'laue': 7710, 'temperatur': 7711, 'sonne': 7712, 'junghanelenrico': 7713, 'npddirekt': 7714, 'gaaaanz': 7715, 'harald70199': 7716, 'trapo': 7717, 'helfende': 7718, 'geilsten': 7719, 'grundrechtlich': 7720, 'grundrecht': 7721, 'duemmste': 7722, 'sonderrecht': 7723, 'carlclausewitz1': 7724, 'qualifizie': 7725, 'verirren': 7726, 'zugute': 7727, 'enorm': 7728, 'verhaeltnisse': 7729, 'bktb': 7730, 'kotti': 7731, 'rosen': 7732, 'migrantehintergrund': 7733, 'ho': 7734, 'arimar': 7735, 'vergleich': 7736, 'geschichtsloser': 7737, 'antisemit': 7738, 'heimatstadt': 7739, 'zigarre': 7740, 'unbeschreiblich': 7741, 'polemisch': 7742, 'tiermoerder': 7743, 'geschaechtet': 7744, 'kohleausstieg': 7745, 'schnellstmoeglich': 7746, 'fahrlaessig': 7747, 'gestemmt': 7748, 'saefken': 7749, 'raender': 7750, 'staerkt': 7751, 'flughafen': 7752, 'verkuendet': 7753, 'sturmsicher': 7754, 'fliegen': 7755, 'orkan': 7756, 'haeuchlerin': 7757, 'prometheusinst': 7758, 'schmoddrige': 7759, 'haare': 7760, 'fuehrer': 7761, 'eventuell': 7762, 'belege': 7763, 'kindlich': 7764, 'naives': 7765, 'zeichnen': 7766, 'grossstaedten': 7767, 'zur': 7768, 'israeliten': 7769, 'gratuliere': 7770, 'stigmatisie': 7771, 'kriminalisie': 7772, 'sozialdemokratischer': 7773, 'annehmbarer': 7774, 'maybritt': 7775, 'statisten': 7776, 'publikum': 7777, 'flatterhose': 7778, 'standesaemter': 7779, 'schleho': 7780, 'ehepruefungsgebuehren': 7781, 'umwandlungsgebuehren': 7782, 'darasasmaz': 7783, 'aufgehts100': 7784, 'prueffrage': 7785, 'gaza': 7786, 'bundestagspraesident': 7787, 'inklusion': 7788, 'schiebt': 7789, 'programmpunkte': 7790, 'bord': 7791, 'schmeissen': 7792, 'normalitaet': 7793, 'qua': 7794, 'abzufeuern': 7795, 'vereinten': 7796, 'nationen': 7797, 'zuge': 7798, 'konflikts': 7799, 'wackere': 7800, 'aufrechte': 7801, 'enmoerd': 7802, 'bombern': 7803, 'zw': 7804, 'auslaend': 7805, 'katholiken': 7806, 'motor': 7807, 'zukunftsweisendes': 7808, 'leviten': 7809, 'dwarfplanet': 7810, 'rf': 7811, 'wda': 7812, 'groesster': 7813, 'preussisches': 7814, 'maechtigste': 7815, 'saeugetiere': 7816, 'biologische': 7817, 'krizzy4peace': 7818, 'alphawelle': 7819, 'rechtsnachfolge': 7820, 'mitzunehmen': 7821, 'strang': 7822, 'neuwahl': 7823, 'nachts': 7824, 'schnelles': 7825, 'ensterben': 7826, 'unausweichlich': 7827, 'schiss': 7828, 'stunk': 7829, 'besuche': 7830, 'drittweltlaender': 7831, 'fanatisch': 7832, 'abzulegen': 7833, 'sollst': 7834, 'hemabe': 7835, 'clickbait': 7836, 'judenunterwande': 7837, 'prange': 7838, 'fakenews': 7839, 'mediennutzung': 7840, 'fluechtet': 7841, 'verlinkten': 7842, 'zeitungsa': 7843, 'juedisches': 7844, 'meins': 7845, 'fliessen': 7846, 'geworben': 7847, 'respektarbeit': 7848, 'fruehschikanierung': 7849, 'gefaehrdet': 7850, 'kindeswohl': 7851, 'enst1': 7852, 'voelkerrechtliche': 7853, 'rechtsetzungern': 7854, 'beduerfen': 7855, 'wirksamkeit': 7856, 'skrieg': 7857, 'verstoss': 7858, 'cha': 7859, 'george': 7860, 'freimaurer': 7861, 'niete': 7862, 'hats': 7863, 'bildzeitung': 7864, 'verkommenste': 7865, 'kaeppi': 7866, 'fand': 7867, 'katzen': 7868, 'kathrinott': 7869, 'blatt': 7870, 'helles': 7871, 'galanterie': 7872, 'mantel': 7873, 'stuhl': 7874, 'ablegen': 7875, 'paulplotzer': 7876, 'schnee': 7877, 'regen': 7878, 'melkami7': 7879, 'weden': 7880, 'abnormalitaet': 7881, 'gutheissen': 7882, 'nue': 7883, 'gueltig': 7884, 'prosecco': 7885, 'lesbo': 7886, 'queer': 7887, 'theoretiker': 7888, 'immunisie': 7889, 'rueckgratlosen': 7890, 'verspricht': 7891, 'fuckthegroko': 7892, 'einlaesst': 7893, 'sicherer': 7894, 'pakt': 7895, 'luftspringer': 7896, 'monatlich': 7897, 'geisteszustand': 7898, 'vergeht': 7899, 'henri': 7900, 'nouwen': 7901, 'regierungspolitiker': 7902, 'benoetigen': 7903, 'fahnenfluechtigen': 7904, 'kopftuchdichte': 7905, 'kontinuierlich': 7906, 'mauern': 7907, 'fungieren': 7908, 'ergeben': 7909, 'chancen': 7910, 'berufl': 7911, 'pfarrer': 7912, 'messer': 7913, 'gekoepft': 7914, 'produzie': 7915, 'sat': 7916, 'galdregons': 7917, 'schalupe': 7918, 'guckt': 7919, 'son': 7920, 'luftangriff': 7921, 'deirezzor': 7922, 'seltsamer': 7923, 'ausgestattete': 7924, 'tilschweiger': 7925, 'pfefferspray': 7926, 'aussticht': 7927, 'ideologischen': 7928, 'weshalb': 7929, 'besonderem': 7930, 'beachte': 7931, 'bibelzitate': 7932, 'welche': 7933, 'widersprueche': 7934, 'grausamkeiten': 7935, 'darstellungen': 7936, 'christentums': 7937, 'aufzuzeigen': 7938, 'brandenburgische': 7939, 'aepfel': 7940, 'kongolesischen': 7941, 'reis': 7942, 'aegyptische': 7943, 'chinesische': 7944, 'hamburger': 7945, 'mikrokosmos': 7946, 'konflikte': 7947, 'christianeflori': 7948, 'synode': 7949, 'maennerhintern': 7950, 'verlorener': 7951, 'verlass': 7952, 'dauer': 7953, 'projekt15': 7954, 'spdbtp18': 7955, 'zeigefinger': 7956, 'hage': 7957, 'ressentiment': 7958, 'eilskraft': 7959, 'voelligen': 7960, 'kenntnisnahmeverweigerung': 7961, '1943ff': 7962, 'anhatte': 7963, 'getrunken': 7964, 'durchas': 7965, 'emotiontouch': 7966, 'captaincalvinca': 7967, '34': 7968, 'tippe': 7969, 'unvernunft': 7970, 'pfarrerpohl': 7971, 'geliebte': 7972, 'autokorrektur': 7973, 'kurhessen': 7974, 'platzt': 7975, 'schweden': 7976, 'nordmaennern': 7977, 'vikingern': 7978, 'digiwomende': 7979, 'konstanzegkiel': 7980, 'beeindruckend': 7981, 'sachlich': 7982, 'investigativ': 7983, 'preisverdaechtig': 7984, 'goldkehlchen': 7985, 'begrenzung': 7986, 'garnichts': 7987, 'sagtst': 7988, 'unterstuetze': 7989, '709': 7990, 'iraker': 7991, 'rueckehrer': 7992, 'aufnehmenden': 7993, 'schlaegst': 7994, 'lustige': 7995, 'negativen': 7996, 'klischees': 7997, 'bildungsferne': 7998, 'lippe': 7999, 'zustimmer': 8000, 'selbstausrottung': 8001, 'kueche': 8002, 'schnaps': 8003, 'runterzuschlucken': 8004, 'dirk': 8005, 'thesenvitz': 8006, 'ekdjugend': 8007, 'internets': 8008, 'komplimente': 8009, 'respektlos': 8010, 'vollverpflegung': 8011, 'asylantenheim': 8012, 'buergerlichen': 8013, 'merkelgruene': 8014, 'schaefers': 8015, 'bischofgebhard': 8016, 'kathkirche': 8017, 'nachgefragt': 8018, 'bespielt': 8019, 'korrupten': 8020, 'schwarzgeldverbrecher': 8021, 'tollen': 8022, 'rechtsanwaelte': 8023, 'schoepfung': 8024, 'schoenschrift': 8025, 'sinnloses': 8026, 'ernesto': 8027, 'cardenal': 8028, 'peppermind': 8029, 'lesbe': 8030, 'hezten': 8031, 'schlagerkultur': 8032, 'depp': 8033, 'ausgehalten': 8034, 'heuchlerische': 8035, 'entgehen': 8036, 'mangott': 8037, 'rebharms': 8038, 'fbrantner': 8039, 'evtl': 8040, 'einschraenkungen': 8041, 'gentechnologie': 8042, 'kuenstliche': 8043, 'erhoehen': 8044, '113': 8045, 'asylsuchend': 8046, 'jutta': 8047, 'ditfu': 8048, 'fluechtlingskrise': 8049, 'drumherum': 8050, 'wiederhole': 8051, 'vmedick': 8052, 'gradlinig': 8053, 'eleganter': 8054, 'schlepper': 8055, 'prallt': 8056, 'ausnahmsweise': 8057, 'qualitaet': 8058, 'einwanderer': 8059, 'schaeden': 8060, 'ergebniss': 8061, 'plischkewolfga1': 8062, 'nichtexistenten': 8063, 'saalfeld': 8064, 'format': 8065, 'bundesweiten': 8066, 'verwirklicht': 8067, 'neoliberalen': 8068, 'hauptziel': 8069, 'zerschlagen': 8070, 'grossveranstaltungen': 8071, 'akzeptiere': 8072, 'mumpitz': 8073, 'falsifizierbarkeit': 8074, 'erforschen': 8075, 'robbatt': 8076, 'entschuldigen': 8077, 'unterlaufen': 8078, '1995': 8079, 'bali': 8080, 'schmeissfliegen': 8081, 'stefansasse': 8082, 'metaliberal': 8083, 'staatlich': 8084, 'unterlass': 8085, 'jesus': 8086, 'verachtet': 8087, 'prophetisches': 8088, 'prueft': 8089, 'behaltet': 8090, 'thess': 8091, 'sozialpsychologische': 8092, 'noelles': 8093, 'hauptbahnhof': 8094, 'asylbewerber': 8095, 'anwesenheit': 8096, 'tratschen': 8097, 'kumpanei': 8098, 'hilfsleistungen': 8099, 'gespraechskanal': 8100, 'offenhalten': 8101, 'dialogfaehig': 8102, 'heucheln': 8103, 'vollfressen': 8104, 'teuflisch': 8105, 'raffinie': 8106, 'dierechten': 8107, 'schusswaffe': 8108, 'heut': 8109, 'schusswaffen': 8110, 'ueberlegen': 8111, 'positionen': 8112, 'fruehere': 8113, 'erhebt': 8114, 'vergewaltigungsverdachts': 8115, 'weist': 8116, 'anschuldigungen': 8117, 'ueberfaellig': 8118, 'fistbump': 8119, 'psychologischen': 8120, 'untersuchung': 8121, 'sweiermann': 8122, 'netter': 8123, 'rl': 8124, 'begegnet': 8125, 'oeffnung': 8126, 'fahrerlaubnis': 8127, 'verwandte': 8128, 'kriegsverschont': 8129, 'bagage': 8130, 'hyperventilieren': 8131, 'afdler': 8132, 'nervenklinik': 8133, 'betroffenheit': 8134, 'blutig': 8135, 'toedlich': 8136, 'dannschmeisst': 8137, 'saemtliches': 8138, 'rnf': 8139, 'ring': 8140, 'nationaler': 8141, 'persoenlichkeiten': 8142, 'indiz': 8143, 'gedreht': 8144, 'fiktion': 8145, 'urmenschen': 8146, 'stammesaelteste': 8147, 'stehst': 8148, 'galaxie499': 8149, 'bababangz': 8150, 'gerda': 8151, 'watchingyou81': 8152, 'hakenkreuze': 8153, 'symbole': 8154, 'voelkischen': 8155, 'arier': 8156, 'rassenwahn': 8157, 'usurpie': 8158, 'tomkoehler252': 8159, 'mandate': 8160, 'ihre': 8161, 'hinterhofmoscheen': 8162, 'radikalisie': 8163, 'kuffar': 8164, 'gepredigt': 8165, 'aufgerufen': 8166, 'prostata': 8167, 'subotnik1': 8168, 'anarkitty': 8169, 'gba': 8170, 'bgh': 8171, 'todesu': 8172, 'mindeststards': 8173, 'zivilpaktes': 8174, 'systematischen': 8175, 'angriffs': 8176, 'verkehr': 8177, 'gepumpt': 8178, 'gier': 8179, 'unersaettlich': 8180, 'belasten': 8181, 'publicsexcrimes': 8182, 'ostasiatischen': 8183, 'problemgruppe': 8184, 'mightbedamian': 8185, 'nat': 8186, 'aktionsplan': 8187, 'erreichtes': 8188, 'demergencybrake': 8189, '07': 8190, 'jensausbochum': 8191, 'erzaehl': 8192, 'wenked': 8193, 'vollpfosten': 8194, 'automatische': 8195, 'propagandaschau': 8196, 'auszuweichen': 8197, 'grundproblem': 8198, 'genderrolle': 8199, 'rueckwae': 8200, 'henny': 8201, 'engels': 8202, 'abzockerei': 8203, 'kostenintensiv': 8204, 'fliessendem': 8205, 'widersprechen': 8206, 'weiterzugeben': 8207, 'schutzpatron': 8208, 'voeker': 8209, 'green': 8210, 'peace': 8211, 'irgendwelche': 8212, 'lokalpolitiker': 8213, 'eingebrockt': 8214, 'ehrliche': 8215, 'begruessungsgeld': 8216, 'oberbuergermeisters': 8217, 'verbrecherapparat': 8218, 'sozialdemokratie': 8219, 'steigbuegelhalter': 8220, 'spezifischen': 8221, 'weiblichen': 8222, 'klatsch': 8223, 'mutlu': 8224, 'folgendes': 8225, 'dunkle': 8226, 'franzoesischem': 8227, 'datenritter': 8228, 'maxdefflow': 8229, 'illyriom': 8230, 'dasnuf': 8231, 'steinwurf': 8232, 'aggression': 8233, 'aufloesung': 8234, 'versammlung': 8235, 'antifa666ffm': 8236, 'wahlkampfmaterial': 8237, 'storman': 8238, 'abgeschaffte': 8239, 'paritaetische': 8240, 'finanzierung': 8241, 'gesetzlichen': 8242, 'krankenversicherung': 8243, 'silkeburmester': 8244, 'wievielefrauen': 8245, 'haarinsuppe': 8246, 'oha': 8247, 'originell': 8248, 'zora': 8249, '211212': 8250, 'spaltungen': 8251, 'danijelmajic': 8252, 'voigts': 8253, 'fluechteten': 8254, 'mentale': 8255, 'physiologische': 8256, 'aversion': 8257, 'beamten': 8258, 'verstaerkung': 8259, 'ueberwaeltigten': 8260, 'trennende': 8261, 'verbindende': 8262, 'romeo': 8263, 'entkommt': 8264, 'manuel': 8265, 'twittere': 8266, 'eingeblendet': 8267, 'lec457': 8268, 'agm': 8269, 'alain': 8270, 'spakkos': 8271, 'bolschewiki': 8272, 'meerschweinchen': 8273, 'strassen': 8274, 'verrueckter': 8275, 'aachen': 8276, 'tivoli': 8277, 'huegelkind': 8278, 'einvernehmlich': 8279, 'holge': 8280, 'verbindet': 8281, 'unkontrollie': 8282, 'sicherheitsrisiko': 8283, 'darstellt': 8284, 'gelegenheiten': 8285, 'jesidische': 8286, 'mitansehen': 8287, 'angehoerige': 8288, 'glaubensgemeinschaft': 8289, 'extremismus': 8290, 'niemandem': 8291, 'spontandemos': 8292, 'greywolfing': 8293, 'angelangt': 8294, '90er': 8295, 'smiley': 8296, 'abgeordnete': 8297, 'kinderlieder': 8298, 'obe': 8299, 'anprobie': 8300, 'gepasst': 8301, 'drama': 8302, 'kleinste': 8303, 'gewuerzt': 8304, 'liebenswuerdigkeit': 8305, 'wiegt': 8306, 'schatz': 8307, 'candida': 8308, 'jeannetteleipz2': 8309, 'pflege': 8310, 'zivi': 8311, 'wehrpflicht': 8312, 'weicheiern': 8313, 'haye': 8314, 'geballte': 8315, 'ladung': 8316, 'suff': 8317, 'bilder': 8318, 'menschlich': 8319, 'stoppt': 8320, 'asylantenflucht': 8321, 'verpflichtung': 8322, 'irgendwen': 8323, 'aufzunehmen': 8324, 'raetsel': 8325, '400': 8326, 'sprecht': 8327, 'diskreter': 8328, 'ansprechpa': 8329, 'atheistenhelfen': 8330, 'verklagen': 8331, 'schiessbefehlaeusserung': 8332, 'trumpf': 8333, 'geplanten': 8334, 'propagandaauftritt': 8335, 'untersagen': 8336, 'versekten': 8337, 'gesinnungszirkeln': 8338, 'radikalisieren': 8339, 'gewerkschaften': 8340, 'leiharbeiter': 8341, 'algii': 8342, 'bezieher': 8343, 'inneren': 8344, 'wolke': 8345, 'romano': 8346, 'guardini': 8347, 'bolschewistenhure': 8348, 'dimetrodon109': 8349, 'wilderer': 8350, 'a9': 8351, 'hoehe': 8352, 'glebitzsch': 8353, 'graffiti': 8354, 'bruecke': 8355, 'davidsternen': 8356, 'rueckzahlungsverpfichtungen': 8357, 'auferlegen': 8358, 'nominell': 8359, 'todfeind': 8360, 'verbuendeter': 8361, 'bundesminister': 8362, 'schaftliche': 8363, 'zusammenarbeit': 8364, 'gerd': 8365, 'dreht': 8366, 'werke': 8367, 'aufstrahlen': 8368, 'avila': 8369, 'verlogen': 8370, 'menschenfeinde': 8371, 'zuschlagen': 8372, 'ditib': 8373, 'reinzustecken': 8374, 'kuenfitg': 8375, 'bibisbeauty': 8376, 'verhungern': 8377, 'anke4you': 8378, 'verstehst': 8379, 'sanfter': 8380, 'gekroent': 8381, 'anlaeufe': 8382, 'deutschenfreundlich': 8383, 'assimilieren': 8384, 'schweitzer': 8385, 'druecken': 8386, 'marktplaetzen': 8387, 'gigantisch': 8388, 'hochgeschlafen': 8389, 'besitzer': 8390, 'cschwennicke': 8391, 'dreckshaufen': 8392, 'anbetet': 8393, 'judenkomplex': 8394, 'dummdeutschen': 8395, 'gewaehlten': 8396, 'islamdreck': 8397, 'zugehoerig': 8398, 'eingeschraenkt': 8399, 'volksverhetzung': 8400, 'kostet': 8401, 'fehlschlaege': 8402, 'umgehst': 8403, 'ruedigerwala': 8404, 'puste': 8405, 'wandern': 8406, 'saraocd': 8407, 'naiven': 8408, '4jahreerholung': 8409, 'zusammenarbeitet': 8410, 'pm': 8411, 'dazugelernt': 8412, 'sarahwagenknecht': 8413, 'loeschzentren': 8414, 'erklaerbar': 8415, 'bluse': 8416, 'ndrinfo': 8417, 'bibelglaube': 8418, 'einzelfaelle': 8419, 'stande': 8420, 'kamst': 8421, 'bibelglauben': 8422, 'hapelanger': 8423, 'offensichtl': 8424, 'demaizi': 8425, 'bundesve': 8426, 'zustaendiger': 8427, 'bundesinnensminister': 8428, 'brei': 8429, 'michawitcz': 8430, 'bistumbamberg': 8431, 'ueberzeugen': 8432, 'aktualisie': 8433, 'vorschaubilder': 8434, 'schweinefleischpflicht': 8435, 'ausdenken': 8436, 'modeerscheinung': 8437, 'phantasie': 8438, 'streams': 8439, 'lieblingsaffen': 8440, 'westhim': 8441, 'regelsatz': 8442, 'reichen': 8443, 'irgendwer': 8444, 'rechnung': 8445, 'bemerken': 8446, 'holgernohr': 8447, 'dritten': 8448, 'hauptamtlichen': 8449, 'inoffiziellen': 8450, 'mitarbeitern': 8451, 'bringst': 8452, 'genauso': 8453, 'end': 8454, 'bikinis': 8455, 'freizuegigkeit': 8456, 'aeusserst': 8457, 'gaborhalasz1': 8458, 'personals': 8459, 'sicherheitskraeften': 8460, 'integrationskurs': 8461, '4gg': 8462, 'durcharbeiten': 8463, 'religionsausuebung': 8464, '1984er': 8465, 'feministischer': 8466, 'porno': 8467, 'rauskommen': 8468, 'penetration': 8469, 'vergewaltigung': 8470, 'systematisches': 8471, 'unwichtiger': 8472, 'gemachten': 8473, 'versprechungen': 8474, 'vizekanzler': 8475, 'einloesen': 8476, 'generalsekretaer': 8477, 'poebler': 8478, 'polypepper': 8479, 'gaeste': 8480, 'deadline': 8481, 'wk58kl': 8482, 'poggenburgandre': 8483, 'schlagzeile': 8484, 'firma': 8485, 'geknechtete': 8486, 'gefrkamnitzer': 8487, 'voskhule': 8488, 'administration': 8489, 'linksrotgruen': 8490, 'armutsrenter': 8491, 'praesidium': 8492, 'hetzern': 8493, 'spoun': 8494, 'zusammenhaengenden': 8495, 'solidarische': 8496, 'alex': 8497, 'berlinnazifrei': 8498, 'glueckwuensche': 8499, 'detzer': 8500, 'hildenbrand': 8501, 'wiederwahl': 8502, 'gruenebw': 8503, 'ldkbw': 8504, 'brightsblog': 8505, 'aufgespielt': 8506, 'zahlreiche': 8507, 'herausgeschlagen': 8508, 'huehnerherzen': 8509, 'fuern': 8510, 'kocht': 8511, 'schokolade': 8512, 'gerechte': 8513, 'loehne': 8514, 'narr': 8515, 'cduberlin': 8516, 'zuegeln': 8517, 'wahlpraeferenz': 8518, 'henkel': 8519, 'webarchive': 8520, 'keineswegs': 8521, 'ferdinandscholz': 8522, 'umstaenden': 8523, 'aussprechen': 8524, 'verdraengt': 8525, 'zuneigung': 8526, 'ahnungslosen': 8527, 'eivorsitzenden': 8528, 'katholischer': 8529, 'pechschwarzen': 8530, 'niederrheiner': 8531, 'kurierat': 8532, 'enttaeuschen': 8533, 'untreu': 8534, 'kriegerisch': 8535, 'spatz': 8536, 'taube': 8537, 'vorhersagen': 8538, 'entfernt': 8539, 'reinen': 8540, 'fassen': 8541, 'tritin': 8542, 'phaedophilen': 8543, 'plakat': 8544, 'anziehst': 8545, 'wirst': 8546, 'hysterikern': 8547, 'thomasmatzka': 8548, 'zeitverschwendung': 8549, 'legitimitaet': 8550, 'spreche': 8551, 'wahlergebnis': 8552, 'favorisie': 8553, 'vermasselt': 8554, 'angeblicher': 8555, 'hypower': 8556, 'beschaeftige': 8557, 'ueberzeugung': 8558, 'diagnose': 8559, 'fick': 8560, 'barett': 8561, 'armeestiefel': 8562, 'kika': 8563, 'jaehriger': 8564, 'siebenjaehrige': 8565, 'ehefrau': 8566, 'paedophilie': 8567, 'jellermann': 8568, 'endlic': 8569, 'polemisie': 8570, 'entschaedigung': 8571, 'zehntausend': 8572, 'schnittchen': 8573, 'mettigel': 8574, 'bigotterie': 8575, 'deluxe': 8576, 'fasse': 8577, 'sondierungsgespraechen': 8578, 'provozie': 8579, 'breitscheitplatz': 8580, 'heester11': 8581, 'fragenmundschenk': 8582, 'bewacht': 8583, 'sendest': 8584, 'schenke': 8585, 'ez': 8586, '36': 8587, 'neujahrspredigt': 8588, 'jammergestallt': 8589, 'petra': 8590, 'darzustellen': 8591, 'marcboe': 8592, 'landtag': 8593, 'dikrisminierung': 8594, 'jesuitenfluechtlingsdienst': 8595, 'jrseurope': 8596, 'jesuitrefugee': 8597, 'gepflegte': 8598, 'unterhaltung': 8599, 'asylantenstopp': 8600, 'problematische': 8601, 'infobergmann': 8602, 'oesi': 8603, 'cia': 8604, 'geseiere': 8605, 'wide': 8606, 'beantragt': 8607, 'objekt': 8608, 'druecke': 8609, 'fest': 8610, 'daumen': 8611, 'fanclub': 8612, 'friedhof': 8613, 'revolutionaerste': 8614, 'arbeiter': 8615, 'apostaten': 8616, 'hadithen': 8617, 'staedtischen': 8618, 'entmachten': 8619, 'tedtalks': 8620, 'neuanfang': 8621, 'militaereskalation': 8622, 'nutzt': 8623, 'gestoppt': 8624, 'breg': 8625, 'chanscheichun': 8626, 'verstaendigung': 8627, 'lb': 8628, 'schaetze': 8629, 'annexion': 8630, 'dezimie': 8631, 'eingeht': 8632, 'unverhandelbar': 8633, 'vollmundig': 8634, 'hantieren': 8635, 'berufslesbe': 8636, 'queerspiegel': 8637, 'lebenspa': 8638, 'nerin': 8639, 'wege': 8640, 'stiefkindadoption': 8641, 'elternteil': 8642, 'kindes': 8643, 'einsicht': 8644, 'koerperlich': 8645, 'protektorat': 8646, 'imperialismus': 8647, 'gedaechtnis': 8648, 'inahuber15': 8649, 'krimineller': 8650, 'staatssekretaere': 8651, 'blaue': 8652, 'widerliche': 8653, 'eunuchenstimme': 8654, 'einzuwenden': 8655, 'charakter': 8656, 'einstimmig': 8657, 'beschlossen': 8658, 'ewiglich': 8659, 'ps': 8660, '146': 8661, 'dominikko': 8662, 'flyer': 8663, 'soziologie': 8664, 'bds': 8665, 'hinaus': 8666, 'beobachtung': 8667, 'exklusiv': 8668, 'persoenlichen': 8669, 'vorgang': 8670, 'century': 8671, 'girl': 8672, 'zahnarzt': 8673, 'verabscheue': 8674, 'besoffen': 8675, 'puff': 8676, 'erhoehung': 8677, 'zeichenzahl': 8678, 'supi': 8679, 'vernuenftig': 8680, 'saetze': 8681, 'formulieren': 8682, 'themalgot': 8683, 'coldsweetness': 8684, 'marionetten': 8685, 'welle': 8686, 'reisen': 8687, 'verrecke': 8688, 'elendig': 8689, 'aufgehoben': 8690, 'schlaeger': 8691, '184b': 8692, 'stgb': 8693, 'kinderpornographischer': 8694, '102': 8695, 'freiheitsstrafe': 8696, 'blaueswunder13': 8697, 'schwurspruch': 8698, 'vereidigung': 8699, 'fluechtlingssituation': 8700, 'jetzigen': 8701, 'auskunft': 8702, 'trittst': 8703, 'medialmann': 8704, 'hinweisen': 8705, 'bundeswehrsoldat': 8706, 'buehne': 8707, 'kaese': 8708, 'gestaltet': 8709, 'zittere': 8710, 'regelmaessiger': 8711, 'stoerungsfreier': 8712, 'heutzutage': 8713, 'manfredweber': 8714, 'huehnermist': 8715, 'sog': 8716, 'denuzianten': 8717, 'podium': 8718, 'lehramtsstudierende': 8719, 'sensibilisie': 8720, 'strukturell': 8721, 'begleitet': 8722, 'ekelhaftes': 8723, 'widerwae': 8724, 'iges': 8725, 'rechtspopulist': 8726, 'kritiker': 8727, 'ekel': 8728, 'lief': 8729, 'soeben': 8730, 'eloquente': 8731, 'ehrlichen': 8732, 'verpulve': 8733, 'ordentlich': 8734, 'ausland': 8735, 'schweinerei': 8736, 'bundesland': 8737, 'tragischer': 8738, 'bundeswehrsoldaten': 8739, 'mali': 8740, 'ordnungsmacht': 8741, 'dringend': 8742, 'solidarrente': 8743, 'lohnzahlung': 8744, 'subventionie': 8745, 'kuschelkurs': 8746, 'machtgeilen': 8747, 'fuehrern': 8748, 'heimlich': 8749, 'lustvoll': 8750, 'entgegenhecheln': 8751, 'getee': 8752, 'gefede': 8753, 'gepruegelt': 8754, 'meck': 8755, 'pomm': 8756, 'tapfere': 8757, 'gratulation': 8758, 'engagie': 8759, 'beeindruckende': 8760, 'auslaenderbeauftragte': 8761, 'station': 8762, 'rechtsreferendarin': 8763, 'niedrigem': 8764, 'mittlerem': 8765, 'zitate': 8766, 'bischofskonferenz': 8767, '2004': 8768, 'sjeschor': 8769, 'aussagen': 8770, 'aufrufe': 8771, 'susa': 8772, 'schreib': 8773, 'refugees': 8774, 'mitarbeit': 8775, 'anbieten': 8776, 'netzwerk': 8777, 'bundesweit': 8778, 'arbeitsmittelpunkt': 8779, 'daddy': 8780, 'hoer': 8781, 'einfache': 8782, 'schreibst': 8783, 'texte': 8784, 'islamistische': 8785, 'narkose': 8786, 'operie': 8787, 'befreienden': 8788, 'kristindavis': 8789, 'sonderbotschafterin': 8790, 'bangladesch': 8791, 'stecker': 8792, 'schutzwall': 8793, 'spdler': 8794, 'reihe': 8795, 'europamagazin': 8796, 'maechtig': 8797, 'strikt': 8798, 'unangemessene': 8799, 'thomasbstein': 8800, 'unkonventionellen': 8801, 'stil': 8802, 'angreifbar': 8803, 'schaeubles': 8804, 'mimik': 8805, 'baende': 8806, 'kriegsbefuerwo': 8807, 'chancenlos': 8808, 'kretsc': 8809, 'sachsens': 8810, 'mp': 8811, 'erdogans': 8812, 'waffenlieferungen': 8813, 'panzerfabrik': 8814, 'unfrieden': 8815, 'goslar': 8816, 'genick': 8817, 'weiblich': 8818, 'maennlich': 8819, 'weihnachtsstress': 8820, 'nett': 8821, 'iphone': 8822, 'steuerbetrueger': 8823, 'apple': 8824, 'verlogenes': 8825, 'gluecklich': 8826, 'schaetzen': 8827, 'stando': 8828, 'zypern': 8829, 'kuwait': 8830, 'brexitchaosgewinnler': 8831, 'profiteure': 8832, 'bloedheit': 8833, 'britischen': 8834, 'sonderrolle': 8835, 'radarfurie': 8836, 'menschenverachtenden': 8837, 'fernsehturm': 8838, 'palast': 8839, 'gewandhaus': 8840, 'zwergenaufstand': 8841, 'nachverhandlungen': 8842, 'fuehrenden': 8843, 'juttambrandt': 8844, 'element': 8845, 'agendakanzler': 8846, 'hoffnungstraeger': 8847, 'wahlniederlagen': 8848, 'harmonieren': 8849, 'poebel': 8850, 'chefetagen': 8851, 'starkes': 8852, 'bestimmen': 8853, 'geschundenes': 8854, 'begruesst': 8855, 'elkebreitenbach': 8856, 'eingestellten': 8857, 'auszubildenden': 8858, 'suchst': 8859, 'unwichtig': 8860, 'aegypten': 8861, 'unterdrueckung': 8862, 'praesentation': 8863, '01': 8864, 'saarbruecken': 8865, 'heimatfreund': 8866, 'patriotger': 8867, 'daisyduck1990': 8868, 'twitterversion': 8869, 'update': 8870, 'uebersetzen': 8871, 'hottie': 8872, 'kurz2017': 8873, 'laasst': 8874, 'gefaelligst': 8875, 'abloesung': 8876, 'internationallesbianday': 8877, 'lesbische': 8878, 'sichbarkeit': 8879, 'gestaltung': 8880, 'gottesdienstes': 8881, 'gottesdienst': 8882, 'einladender': 8883, 'professioneller': 8884, 'konkreten': 8885, 'anzubringen': 8886, 'kuerzer': 8887, 'detlef': 8888, 'pollack': 8889, 'taetigkeit': 8890, 'ausuebt': 8891, 'joshuastrack': 8892, 'hochbekommen': 8893, 'schwaengern': 8894, 'theodoros': 8895, 'boulgarides': 8896, 'theodorsboulgarides': 8897, 'grosskoalitionaeren': 8898, 'personell': 8899, 'aufstellen': 8900, 'maltaeser': 8901, 'homoeopathie': 8902, 'zucker': 8903, 'kichern': 8904, 'keinekleinigkeit': 8905, 'identifiziere': 8906, 'wohnsitz': 8907, 'stade': 8908, 'snape': 8909, 'sama': 8910, 'volkesstimme': 8911, 'wegfegen': 8912, 'fazit': 8913, 'erfindet': 8914, 'prozessbeobachtern': 8915, 'auflagen': 8916, 'petersteudtner': 8917, 'lasch': 8918, 'mitbestimmung': 8919, 'hermann': 8920, 'behrendt': 8921, 'plaedie': 8922, 'kuendigungsschutzes': 8923, 'streikrechts': 8924, 'kandel': 8925, 'kandelistueberall': 8926, '600': 8927, 'betroffen': 8928, 'mittelalterliches': 8929, 'integrieren': 8930, 'thistell': 8931, 'haraldlaatsch': 8932, 'veraende': 8933, 'lordhornhaut': 8934, 'sitzpinkler': 8935, 'oftmals': 8936, 'tragik': 8937, 'ausweg': 8938, 'beibehaltung': 8939, 'wohlstandes': 8940, 'technischer': 8941, 'schritt': 8942, 'abzukuerzen': 8943, 'straflosigkeit': 8944, 'zufuegt': 8945, 'negerkuss': 8946, 'glas': 8947, 'negerschweiss': 8948, 'bestelle': 8949, 'leuchttuerme': 8950, 'wuerfe': 8951, 'ungen': 8952, 'unpolitisch': 8953, 'allemal': 8954, 'bewaehrst': 8955, 'lockung': 8956, 'reiz': 8957, 'kehrst': 8958, 'blenden': 8959, 'reichtum': 8960, 'reicher': 8961, 'goettern': 8962, 'raouldukevegas': 8963, 'hakanmesser': 8964, 'tuerkensau': 8965, 'reist': 8966, 'sippe': 8967, 'verueben': 8968, 'stabilitaet': 8969, 'abtut': 8970, 'sparkurs': 8971, 'revidieren': 8972, 'uebel': 8973, 'pirat': 8974, 'mlooks': 8975, 'deckung': 8976, 'herrebmensch': 8977, 'kampfpresse': 8978, 'vollfosten': 8979, 'jugendliche': 8980, 'nervig': 8981, 'versorgt': 8982, 'handle': 8983, 'maxime': 8984, 'handelns': 8985, 'gesetzes': 8986, 'jobcenter': 8987, 'armseligen': 8988, 'runterladen': 8989, 'sinnlose': 8990, 'magazine': 8991, 'drucken': 8992, 'rundfunkstaatsve': 8993, 'jaemmerliche': 8994, 'verfassungsfeinde': 8995, 'supermaerkten': 8996, 'durchgekauter': 8997, 'kalter': 8998, 'rumerzaehlen': 8999, 'aufhoeren': 9000, 'falschverstandener': 9001, 'plattform': 9002, 'fuck': 9003, 'wernergoehl': 9004, 'rohr': 9005, 'wagen': 9006, 'bauernkind': 9007, 'lpg': 9008, 'ausschlafen': 9009, 'bestes': 9010, 'otto': 9011, 'rbbfernsehen': 9012, 'gruenefraktionb': 9013, '55': 9014, 'ausgestrahlt': 9015, 'hahahaha': 9016, 'vorgeschmack': 9017, 'egoismus': 9018, 'gnarfer': 9019, 'bundesverkehrsministerium': 9020, 'vollhonk': 9021, 'plaque': 9022, 'huebschesten': 9023, 'kircheneigenen': 9024, 'zweckbauten': 9025, 'einfachheit': 9026, 'achten': 9027, 'limburg': 9028, 'teba': 9029, 'dbk': 9030, 'hh': 9031, 'luise': 9032, 'humanitaeren': 9033, 'krisen': 9034, 'ezeekelt': 9035, 'gestrigen': 9036, '1943': 9037, 'allerletzte': 9038, 'herzlicher': 9039, 'februar': 9040, 'rom': 9041, 'jmd': 9042, 'normalerweise': 9043, 'genderismus': 9044, 'bettinaroehl': 9045, 'adolf': 9046, 'verlag': 9047, 'reichsbuerger': 9048, 'illegale': 9049, 'paket': 9050, 'abholen': 9051, 'werd': 9052, 'deutschpi2': 9053, 'reformation': 9054, 'geistlicher': 9055, 'historisch': 9056, 'wirksam': 9057, 'wuensch': 9058, 'krankheiten': 9059, 'ostkuestensatrapen': 9060, 'gelbe': 9061, 'lt': 9062, 'th24deinenews': 9063, 'arnstadt': 9064, 'zeitraum': 9065, 'zweiteilige': 9066, 'schoa': 9067, 'beschaedigt': 9068, '9nov': 9069, 'verbesserung': 9070, 'scheinasylanten': 9071, 'gewalttaeter': 9072, 'yep': 9073, 'potential': 9074, 'intrakulturelle': 9075, 'verwerfungen': 9076, 'eicheln': 9077, 'aussatzes': 9078, 'janfurchtenicht': 9079, 'steffenkrach': 9080, 'bekomme': 9081, 'seelischer': 9082, 'islamunterricht': 9083, 'erklaere': 9084, 'haeuslicher': 9085, 'entgegenbrachte': 9086, 'ur': 9087, 'prachtarier': 9088, 'handelte': 9089, 'verdroschen': 9090, 'afdduesseldorf': 9091, 'faszinierend': 9092, 'sternenstaub': 9093, 'araber': 9094, 'begriffen': 9095, 'mychiffre': 9096, 'chrisl137': 9097, '53': 9098, 'b1': 9099, 'koedukation': 9100, 'ansehe': 9101, 'gemixt': 9102, 'frisian': 9103, 'verblendeter': 9104, 'powerphil': 9105, 'ikswokrubretnug': 9106, 'eigen': 9107, 'amuesant': 9108, 'entfolgungs': 9109, 'wellen': 9110, 'verschiedenen': 9111, 'gesinnungslagern': 9112, 'selbstbestaetigung': 9113, 'nikotin': 9114, 'vergleichbar': 9115, 'kognitivedissonanz': 9116, 'vermeidung': 9117, 'polarisie': 9118, 'auftrage': 9119, 'krummnasen': 9120, 'usrael': 9121, 'demokratien': 9122, 'religioeser': 9123, 'autoritaerer': 9124, 'geschlechtsbestimmung': 9125, 'gefuehlen': 9126, 'nochmals': 9127, 'herzlichem': 9128, 'transfernomaden': 9129, 'scharren': 9130, 'hufen': 9131, 'diebspiel': 9132, 'prioritaetensetzung': 9133, 'jaehrlicher': 9134, 'finanzbedarf': 9135, 'estnische': 9136, 'demonstrie': 9137, 'ausnahmezustand': 9138, 'vonneudeck': 9139, 'crazy': 9140, 'fluechtig': 9141, 'hafen': 9142, 'stichwo': 9143, 'gucken': 9144, 'rotula': 9145, 'hoppla': 9146, 'autodeformie': 9147, 'manuell': 9148, 'spasskultur': 9149, 'bulldoggen': 9150, 'schlittenhunde': 9151, 'mpunktg': 9152, 'konstanz': 9153, 'grau': 9154, 'fliesst': 9155, 'neckar': 9156, 'schwabensau': 9157, 'zurzeit': 9158, 'hochkonjunktur': 9159, 'durchseucht': 9160, 'kleidest': 9161, 'fickender': 9162, 'hurenshon': 9163, 'volkerbeck': 9164, 'esel': 9165, 'kebekus': 9166, 'dieanstalt': 9167, 'gesamt': 9168, 'beschnitten': 9169, 'bewerfen': 9170, 'schulzmaennchen': 9171, 'keh': 9172, 'darein': 9173, 'dreckschleudern': 9174, 'prinzen': 9175, 'ichgebeab': 9176, 'selbsthilfegruppe': 9177, 'heulsusen': 9178, 'wirrheit': 9179, 'sprichst': 9180, 'germanen': 9181, 'friedlich': 9182, 'christianisie': 9183, 'sklaverei': 9184, 'hexenverbrennungen': 9185, 'praktizie': 9186, 'barmherzigen': 9187, 'gestehe': 9188, 'zeile': 9189, 'geaende': 9190, 'ricardariefling': 9191, 'zugehen': 9192, 'finger': 9193, 'krumm': 9194, 'verraeterin': 9195, 'angeschrieben': 9196, '08': 9197, 'zdfmoma': 9198, 'rupe': 9199, 'mayer': 9200, '50': 9201, 'buches': 9202, 'ramazanakbas37': 9203, 'nemmersatt': 9204, 'verlogenere': 9205, 'loser': 9206, 'subventionen': 9207, 'kapitalistisch': 9208, 'pfff': 9209, 'kaempfst': 9210, 'wagner': 9211, 'hasserfuellt': 9212, 'gastfreundlichen': 9213, 'begrabscht': 9214, 'beruehmt': 9215, 'traumatisie': 9216, 'herrschenden': 9217, 'stegherr': 9218, 'joohannssen': 9219, 'djvde': 9220, 'kard': 9221, 'ausgabe': 9222, 'pfarreien': 9223, 'kristallisationspunkte': 9224, 'werde': 9225, 'ginge': 9226, 'pkws': 9227, 'schiffe': 9228, 'verlegt': 9229, 'ermoeglichen': 9230, 'befoerdern': 9231, 'klangspur': 9232, 'ineshansla': 9233, 'oekumenische': 9234, 'kooperationen': 9235, 'bckirche': 9236, 'painkillerjay': 9237, 'valandir': 9238, 'chribenesch': 9239, 'spende': 9240, 'netzpolitik': 9241, 'obszoen': 9242, 'irgendeinem': 9243, 'aspekt': 9244, 'menschlichen': 9245, 'herauszuhalten': 9246, 'verlaesst': 9247, 'reconquistaneu': 9248, 'bw': 9249, 'studierendenparlament': 9250, 'mitglied': 9251, 'unbekannte': 9252, 'traenken': 9253, 'lkr': 9254, 'dreistellig': 9255, 'immunitaet': 9256, 'dealer': 9257, 'matteo67': 9258, 'verriss': 9259, 'niggerschwein': 9260, 'gekillt': 9261, 'icherheitsvorkehrungen': 9262, 'flugkontrollen': 9263, 'repo': 9264, 'juengst': 9265, 'koerperliche': 9266, 'unverseh': 9267, 'heit': 9268, 'hohes': 9269, 'verpruegeln': 9270, 'versinke': 9271, 'kuesse': 9272, 'prallen': 9273, 'weichen': 9274, 'lippen': 9275, 'besuchsvisum': 9276, 'kein': 9277, 'friedensve': 9278, 'ronaiveromaus': 9279, 'angesicht': 9280, 'elija': 9281, 'grossteil': 9282, 'behoerdenumgang': 9283, 'anschlags': 9284, 'restlos': 9285, 'polizeiberlin': 9286, 'ruesten': 9287, 'dreckskanacken': 9288, 'berechtigter': 9289, '943': 9290, 'nicosemsrott': 9291, 'willigender': 9292, 'imregrimm': 9293, 'siehste': 9294, 'sesamstrasse': 9295, 'sesamstrassen': 9296, 'isses': 9297, 'anpassen': 9298, 'dativ': 9299, 'nurmalso': 9300, 'ekdsnyode': 9301, 'menschenwerk': 9302, 'gerbes': 9303, 'jlmelenchon': 9304, 'loetzschmdb': 9305, 'gregorgysi': 9306, 'veranstaltung': 9307, 'kurze': 9308, 'anmeldung': 9309, 'platzka': 9310, 'anderswo': 9311, 'aufgezwungen': 9312, 'cc00lm': 9313, 'prometheus': 9314, 'zugehoerigkeit': 9315, 'frisuren': 9316, 'familienzusammenfuehrung': 9317, 'daemmt': 9318, 'schlepperwesen': 9319, 'pinter': 9320, 'arbeitslosen': 9321, 'senden': 9322, 'muehlstein': 9323, 'eidige': 9324, 'maltekaufmann': 9325, 'volksverrat': 9326, 'offensichtlicher': 9327, 'bischofschick': 9328, 'kommentator': 9329, 'altbier': 9330, 'anzuhoeren': 9331, 'laufen': 9332, 'ticker': 9333, 'sowjetunion': 9334, 'grammatikalisch': 9335, 'sequitur': 9336, 'starb': 9337, 'taeterin': 9338, 'polizeiarbeit': 9339, 'psychischen': 9340, 'stoerungen': 9341, 'kitten': 9342, 'miriamozen': 9343, 'franzchristia15': 9344, 'buergerwehr': 9345, 'vereinsstatus': 9346, 'gelingen': 9347, 'angemessener': 9348, 'ghettobildung': 9349, 'irakische': 9350, 'zutun': 9351, 'ubbelohdeberlin': 9352, 'avalasek1': 9353, 'bloeden': 9354, 'entsenden': 9355, 'rueckkehrmoeglichkeit': 9356, 'ehefrauen': 9357, 'nachholen': 9358, 'polygamie': 9359, 'derheribe': 9360, 'schlaumeier': 9361, 'diktie': 9362, 'nachgelesen': 9363, 'maerchenbuch': 9364, 'genauer': 9365, 'toetet': 9366, 'unglaeubigen': 9367, 'affen': 9368, 'schweinen': 9369, 'katrinhilger': 9370, 'sma': 9371, 'phonegruessen': 9372, 'versuessen': 9373, '1994': 9374, 'pussies': 9375, 'droetkerde': 9376, 'gonosom': 9377, 'umerzogenes': 9378, 'elberfelder': 9379, 'uebersetzung': 9380, 'naehsten': 9381, 'original': 9382, 'mordsucht': 9383, 'betruegen': 9384, 'goetzendienst': 9385, 'pharmazie': 9386, 'zauberei': 9387, 'hurerei': 9388, 'gattoanovecode': 9389, 'blaues': 9390, 'haushoch': 9391, 'schluessel': 9392, 'nawa': 9393, 'like': 9394, 'raheandreas': 9395, 'die12': 9396, 'beluegt': 9397, 'trotziges': 9398, 'tagderdeutscheneinheit': 9399, 'angehoeren': 9400, 'verfassungsfeindlichen': 9401, 'organisation': 9402, 'wendet': 9403, 'anrecht': 9404, 'gratisgeschenk': 9405, 'erhaelt': 9406, 'dilettantisch': 9407, 'synchronschwimmen': 9408, 'interpretier': 9409, 'verkuenden': 9410, 'ungslosigkeit': 9411, 'aussengrenze': 9412, 'bewaffnete': 9413, 'grenzer': 9414, 'unsicheren': 9415, 'christuskirche': 9416, 'gehrin': 9417, 'digital': 9418, 'tuuramash': 9419, 'pfaffenbrut': 9420, 'geschaeftsfuehrende': 9421, 'sozialdemokratischen': 9422, 'kriegt': 9423, 'erlebte': 9424, 'parallel': 9425, 'steinigen': 9426, 'gruppenerlebnis': 9427, 'trag': 9428, 'backenfutter': 9429, 'kurse': 9430, 'zusammengefueh': 9431, 'brautschau': 9432, 'mischehe': 9433, 'dominik': 9434, 'krause': 9435, 'bestellt': 9436, 'weis': 9437, 'krankenhaus': 9438, 'smail': 9439, 'ya': 9440, 'ar': 9441, 'ismailyasar': 9442, 'schmidja2017': 9443, 'whiterosede': 9444, 'schlafschafe': 9445, 'egoisten': 9446, 'rechtsbruch': 9447, 'ronamiti': 9448, 'verbliebenen': 9449, 'versprachen': 9450, 'soli': 9451, 'nunmal': 9452, 'todesschrei': 9453, 'verzweiflung': 9454, 'wild': 9455, 'katzbuckeln': 9456, 'erkenntnisse': 9457, 'peer': 9458, 'review': 9459, 'scheinheiligste': 9460, '2012': 9461, 'ungestoe': 9462, 'ungestraft': 9463, 'stattfindet': 9464, 'verschissene': 9465, 'betroffene': 9466, 'rechtsgrundlage': 9467, 'transparentes': 9468, 'beschwerdeverfahren': 9469, 'wehr': 9470, 'linksgruener': 9471, 'journalist': 9472, 'suesse': 9473, 'maus': 9474, 'philippinische': 9475, 'aa': 9476, 'siemens': 9477, 'joe': 9478, 'firmenchefs': 9479, 'massenentlassungen': 9480, 'profitsteigerung': 9481, 'gesetzlich': 9482, 'helft': 9483, 'eiol': 9484, 'jour86': 9485, 'dreier': 9486, 'stalinistische': 9487, 'tagtraeumer': 9488, 'geschossen': 9489, 'befinde': 9490, 'polizeigewahrsam': 9491, 'gabs': 9492, 'saisongarbeiter': 9493, 'algerien': 9494, 'vietnam': 9495, 'begruessenswe': 9496, 'wegretuschierst': 9497, 'netten': 9498, 'praktizierst': 9499, 'oadiatum': 9500, 'beheben': 9501, 'verwurzelten': 9502, 'abzulenken': 9503, 'grossmutter': 9504, 'zerlegen': 9505, 'vermaehlt': 9506, 'exup': 9507, 'ry': 9508, 'heilig': 9509, 'laeden': 9510, 'abu': 9511, 'beseitigung': 9512, 'besetzung': 9513, 'zentralrat': 9514, 'haste': 9515, 'verkloppt': 9516, 'zdfmarkuslanz': 9517, 'passagen': 9518, 'lebe': 9519, 'missbrauche': 9520, 'echter': 9521, 'rentenkuerzung': 9522, 'zuruecknehmen': 9523, 'glaubwuerdig': 9524, 'motivation': 9525, 'ablegst': 9526, 'stammeier': 9527, 'uhde171': 9528, 'herausgeforde': 9529, 'glaubensgrundlagen': 9530, 'ueberaus': 9531, 'schwachsinniger': 9532, 'tuecher': 9533, 'ausspucken': 9534, 'kommunistenbraut': 9535, 'erfaeh': 9536, 'gegebenenfalls': 9537, 'mitfreuen': 9538, 'reklamieren': 9539, 'mae': 9540, 'yrer': 9541, 'oettinger': 9542, 'zusaetzliche': 9543, 'rachen': 9544, 'weihnachtsmann': 9545, 'akzeptanz': 9546, 'andersseins': 9547, 'boy': 9548, 'sekte': 9549, 'standhaft': 9550, 'erschuetterungen': 9551, 'nachgeben': 9552, 'soreth': 9553, 'positives': 9554, 'verhandeln': 9555, 'boss': 9556, 'narrenfreiheit': 9557, 'kinderga': 9558, 'berlin2bronx': 9559, 'einizge': 9560, 'kernfrage': 9561, 'einteilen': 9562, 'stringent': 9563, 'beruht': 9564, 'koennes': 9565, 'dicker': 9566, 'tobak': 9567, 'aufgetragen': 9568, 'reisserisch': 9569, 'fluechtlingskinder': 9570, '5mal': 9571, 'hoeheres': 9572, 'mitbewohner': 9573, 'spo': 9574, 'getrennt': 9575, 'asselborn': 9576, 'scheissdreck': 9577, 'erschlagen': 9578, 'besseres': 9579, 'pohlmann': 9580, 'plattformen': 9581, 'rechtswidrigen': 9582, 'beschraenkungen': 9583, 'unterlassungserklaerungen': 9584, 'wg': 9585, 'rechtswidriger': 9586, 'loeschungen': 9587, 'abo': 9588, 'trennungen': 9589, 'betrachtet': 9590, 'nazibrut': 9591, 'einschaetzung': 9592, 'pachelbel': 9593, 'besonnen': 9594, 'offenlegen': 9595, 'auslaenderrueckfuehrung': 9596, 'asylantenstop': 9597, 'ambivalenz': 9598, 'widerspruechlichkeit': 9599, 'note': 9600, 'vonnem': 9601, 'kirchenfutzi': 9602, 'eliasleikeb': 9603, 'geschminkt': 9604, 'lametta': 9605, 'behangen': 9606, 'zutreffend': 9607, 'fluchtursachen': 9608, 'faire': 9609, 'handelspolitik': 9610, 'abkehr': 9611, 'agrarindustrie': 9612, 'correctiv': 9613, 'compactmagazin': 9614, 'nu': 9615, 'kampfkraft': 9616, 'gotteskrieger': 9617, 'netzwerke': 9618, 'vermeintlich': 9619, 'familienbild': 9620, 'krebsforschungsagentur': 9621, 'weltgesundheitsorganisation': 9622, 'krebserregend': 9623, 'eingestuft': 9624, 'nationales': 9625, 'bestrebungen': 9626, 'schnellen': 9627, 'beendigung': 9628, 'verstaerkt': 9629, 'weltfrauentag': 9630, 'sondierungspapier': 9631, 'optimalfall': 9632, 'ausgehen': 9633, 'paritaet': 9634, 'vorbeten': 9635, 'alexbfromg': 9636, 'anfaenge': 9637, 'privilegieren': 9638, 'saemtlicher': 9639, 'freizustellen': 9640, 'intervention': 9641, 'schube': 9642, 'gefreut': 9643, 'beruehmte': 9644, 'gemaelde': 9645, 'sperrung': 9646, 'erhob': 9647, '2009': 9648, 'anklage': 9649, 'weitergabe': 9650, 'kinderpornografischem': 9651, 'warf': 9652, 'beschafft': 9653, 'erregen': 9654, 'woli2017': 9655, 'expe': 9656, 'skopstein1': 9657, 'huber2017walter': 9658, 'alles1frage': 9659, 'landesregierung': 9660, 'primat': 9661, 'universellen': 9662, 'humanismus': 9663, 'zweck': 9664, 'niedere': 9665, 'triebe': 9666, 'anderer': 9667, 'spaltung': 9668, 'staerkeres': 9669, 'silvester': 9670, 'renataadler6': 9671, 'unmenschen': 9672, 'tierschutz': 9673, 'aussterben': 9674, 'nightkiss661': 9675, 'wtf': 9676, 'zunge': 9677, 'rumlecken': 9678, 'willideutscher': 9679, 'bohne': 9680, 'vernehmbare': 9681, 'spaetestens': 9682, 'arbeitslosigkeit': 9683, '696castro': 9684, 'gaenze': 9685, 'profalla': 9686, 'det': 9687, 'knecht': 9688, 'kapitals': 9689, 'betrachte': 9690, 'hindernis': 9691, 'individuen': 9692, 'besiegt': 9693, 'haltet': 9694, 'trumpfka': 9695, 'hierzu': 9696, 'ausspielen': 9697, 'gutglaeubig': 9698, 'giegold': 9699, 'skakeller': 9700, 'blochbihler': 9701, 'proasyl': 9702, 'armselig': 9703, 'handwerker': 9704, 'versteckter': 9705, 'empfangen': 9706, 'rundfunkanstalten': 9707, '39': 9708, 'aufwaendigen': 9709, 'erlauben': 9710, 'befreit': 9711, 'oekologisch': 9712, 'einklang': 9713, 'hunger': 9714, 'auffassung': 9715, 'bundesanwaltschaft': 9716, 'begangenen': 9717, 'pilot': 9718, 'ryanair': 9719, 'darstellen': 9720, 'besserverdienende': 9721, 'york': 9722, 'geruchtekellner': 9723, 'updates': 9724, 'twittern': 9725, 'rosenkranz': 9726, 'volknational': 9727, 'wordpressdotcom': 9728, 'judenfuehrungsstaat': 9729, 'muslimischer': 9730, 'kreigsfluechtling': 9731, 'sauber': 9732, 'verfehlen': 9733, 'bohei': 9734, 'notz': 9735, 'umfallerei': 9736, 'durchschlagen': 9737, 'tobias': 9738, 'striegl': 9739, 'plenum': 9740, 'urbanen': 9741, 'galliner': 9742, 'kuerzungen': 9743, 'bundesmittel': 9744, 'filmfestival': 9745, 'unabhaengigen': 9746, 'kurator': 9747, 'fhhffghj': 9748, 'verhandlungen': 9749, 'jahrmarkt': 9750, 'eitelkeiten': 9751, 'kungelrunde': 9752, 'unsoziale': 9753, 'airberlin': 9754, 'wahre': 9755, 'lindtner': 9756, 'bundesrat': 9757, 'mini': 9758, 'aktuellem': 9759, 'steueroase': 9760, 'boeser': 9761, 'steuern': 9762, 'sauerkreatur': 9763, 'angesichts': 9764, 'humaner': 9765, 'in': 9766, 'lesbisch': 9767, 'stadtfest': 9768, 'csdberlin': 9769, 'burghard': 9770, 'volltreffer': 9771, 'pip': 9772, 'fachkraefte': 9773, 'einwandern': 9774, 'gelohnt': 9775, 'eckhardhoeffner': 9776, 'bundeskultur': 9777, 'spezialgesetz': 9778, 'stug': 9779, 'rechtssichere': 9780, 'ihrerer': 9781, 'vaeter': 9782, 'passverschwinden': 9783, 'hotspo': 9784, 'leiste': 9785, 'gluten': 9786, 'insektensterben': 9787, 'klimawandel': 9788, 'koenntest': 9789, 'staates': 9790, 'staatsform': 9791, 'holgerewald1': 9792, 'buergerwehren': 9793, 'reduzie': 9794, '2michi': 9795, 'indiefresse': 9796, 'diepfefferkoerner': 9797, 'staffel': 9798, 'unaufgeregt': 9799, 'liebevoll': 9800, 'zweigeschlechlichkeit': 9801, 'daserste': 9802, 'durchgaengig': 9803, 'summen': 9804, 'unterstellen': 9805, 'policy': 9806, 'polity': 9807, 'bezogen': 9808, 'bzgl': 9809, 'geborener': 9810, 'eidiger': 9811, 'verabsolutierend': 9812, 'assimilie': 9813, 'grundordnung': 9814, 'katarinabarley': 9815, 'raue': 9816, 'sachgerechter': 9817, 'ungefaehrlich': 9818, 'gdpvorsitzender': 9819, 'sollt': 9820, 'kuenftig': 9821, 'fewmaster': 9822, 'unimog': 9823, 'andi': 9824, 'hadmut': 9825, 'belaestigungen': 9826, 'juengste': 9827, 'betrachten': 9828, 'erspar': 9829, 'ausschnitt': 9830, 'praesentiere': 9831, 'beschwere': 9832, 'gierig': 9833, 'hingeschaut': 9834, 'vermeidbar': 9835, 'ansteigenden': 9836, 'moralischer': 9837, 'tacheles': 9838, 'carbon': 9839, 'compound': 9840, 'rasieren': 9841, 'rechtspopulismus': 9842, 'bob': 9843, 'kollege': 9844, 'erzaehlcaf': 9845, 'verbindung': 9846, 'queere': 9847, 'miles': 9848, 'gestalt': 9849, 'anschaue': 9850, 'weihnachtswuensche': 9851, 'erfuellung': 9852, 'dreifaltigen': 9853, 'kokolores': 9854, 'abweicht': 9855, 'erzaehlen': 9856, 'koberind': 9857, 'mdrinfo': 9858, 'theborisbecker': 9859, 'marke': 9860, 'pleitegeier': 9861, 'abstellkammer': 9862, 'astridgeisler': 9863, 'dotie': 9864, 'extremisten': 9865, 'verschont': 9866, 'schlacht': 9867, 'besuchen': 9868, 'freiheitskaempfer': 9869, 'manipulation': 9870, 'sendern': 9871, 'uberwachen': 9872, 'youtube': 9873, 'studierende': 9874, 'pestfloehe': 9875, 'brauchten': 9876, 'pfandflaschen': 9877, 'entsetzt': 9878, 'reife': 9879, 'deutlichsten': 9880, 'gemeinschaft': 9881, 'pedro': 9882, 'arrupe': 9883, 'keks': 9884, 'weihnachts': 9885, 'vorueber': 9886, 'dnebach': 9887, 'selbstversaendlich': 9888, 'zuminest': 9889, 'machtlosigkeit': 9890, 'kriminelles': 9891, 'damasiuspugnax': 9892, 'saetzen': 9893, 'aufgehoe': 9894, 'hori': 9895, 'pdf': 9896, 'erreichbar': 9897, 'zauber': 9898, 'anfangs': 9899, 'meister': 9900, 'eckha': 9901, 'priester': 9902, 'dereinst': 9903, 'liebevolle': 9904, 'msn': 9905, 'hervorragend': 9906, 'bevormunden': 9907, 'abgesetzt': 9908, 'robocopmagic': 9909, 'hotzenploetz': 9910, 'bitteschoen': 9911, 'chr': 9912, 'butterwegge': 9913, 'lichtblick': 9914, 'denniskoerner': 9915, 'durchzieht': 9916, 'grrenzen': 9917, 'blutsaugende': 9918, 'halsschlagader': 9919, 'gedacht': 9920, 'vollverschleierungsverbot': 9921, 'egmr': 9922, 'sensationelles': 9923, 'gaesteliste': 9924, 'renardojoachim': 9925, 'absaegt': 9926, 'sinken': 9927, 'tiefer': 9928, 'weltanschauungen': 9929, 'intoleranz': 9930, 'tschauderzwerg': 9931, 'schauderzwerg': 9932, 'kommentar': 9933, 'beeinflusst': 9934, 'flueke': 9935, 'rasie': 9936, 'varg': 9937, 'veum': 9938, 'staatlichkeit': 9939, 'palaestinas': 9940, 'begruesse': 9941, 'beschuss': 9942, 'zeitungen': 9943, 'westfernsehen': 9944, 'wecken': 9945, 'aktuellen': 9946, 'fluchtbewegungen': 9947, 'hilfsbereitschaft': 9948, 'liebten': 9949, 'parlamentspraesidenten': 9950, 'altmeier': 9951, 'gestapo': 9952, 'ueberwachen': 9953, 'hausarrest': 9954, 'lu': 9955, 'cice': 9956, 'internetseiten': 9957, 'morddrohungen': 9958, 'websites': 9959, 'standgericht': 9960, 'verbrecherregim': 9961, 'spiegel4d': 9962, 'marietta': 9963, 'slomka': 9964, 'journalistin': 9965, 'oezoguz': 9966, 'unfaehig': 9967, 'ueberfluss': 9968, 'landkaufhalina': 9969, 'rotweinjuncker': 9970, 'palaestinensischen': 9971, 'geile': 9972, 'hammer': 9973, 'gleichstellungsbeauftragte': 9974, 'lueders': 9975, 'ads': 9976, 'fruehzeitig': 9977, 'vorzubereiten': 9978, 'schulform': 9979, 'gemeinschaftsschule': 9980, 'gynmasien': 9981, 'hauptschulen': 9982, 'berufsschulen': 9983, 'kollegs': 9984, 'gymnasien': 9985, 'geschwaecht': 9986, 'belogenes': 9987, 'wolfszeit1970': 9988, 'verschaerfung': 9989, 'asylrechts': 9990, 'sebastian': 9991, 'besinnlichen': 9992, 'weihnachtslieder': 9993, 'halse': 9994, 'idiot': 9995, 'befremdet': 9996, 'mihaelhadrian': 9997, 'kirchenvaeter': 9998, 'hieronymus': 9999, 'gregor': 10000, 'nette': 10001, 'fuerwahr': 10002, 'maersche': 10003, 'symboliken': 10004, 'vollkommn': 10005, 'unsinnig': 10006, 'bittet': 10007, 'dag': 10008, 'hammarskjoeld': 10009, 'beteiligten': 10010, 'palis': 10011, 'nelly': 10012, 'sachs': 10013, 'explitzit': 10014, 'wahljahr': 10015, 'agh': 10016, 'soz': 10017, 'mieten': 10018, 'gentrifizierung': 10019, 'izipation': 10020, 'lut': 10021, 'michaelfuchsr': 10022, 'familienrueckflug': 10023, 'rueckflug': 10024, 'vorschalg': 10025, 'amarienbad': 10026, 'weltsichtig': 10027, 'unterschlaegt': 10028, 'uckermark': 10029, 'beanie': 10030, 'angezeigt': 10031, 'tweetet': 10032, 'eliyahhavemann': 10033, 'rsl99': 10034, 'jdn': 10035, 'chm': 10036, 'umfeld': 10037, 'lok': 10038, 'bsg': 10039, 'ostern': 10040, 'resettlement': 10041, '93': 10042, 'verfuegbare': 10043, 'plaetze': 10044, 'merkelmussgehen': 10045, 'asylantenwahsinn': 10046, 'ich60': 10047, '0000': 10048, 'musste': 10049, 'stiefmutter': 10050, 'haeslii': 10051, 'natalierickli': 10052, 'verbale': 10053, 'ausstrahlung': 10054, 'verschoben': 10055, 'franzoseder': 10056, 'iranische': 10057, 'interpretation': 10058, 'verstoesst': 10059, 'kampsabine': 10060, 'cogat': 10061, 'idfonline': 10062, 'rosnersdomain': 10063, 'nytimes': 10064, 'personalien': 10065, 'siedler': 10066, 'vandalismus': 10067, 'chat': 10068, 'atkins': 10069, 'pilz': 10070, 'listepilz': 10071, 'ainyrockstar': 10072, 'sitze': 10073, 'hinterfotziger': 10074, 'muselwahn': 10075, 'siegstyle': 10076, 'verwerflich': 10077, 'dienerschaft': 10078, 'klischee': 10079, 'homos': 10080, 'sichtbarer': 10081, 'falle': 10082, 'friday': 10083, 'personelle': 10084, 'neunaufzustellen': 10085, 'einmal': 10086, 'ethische': 10087, 'omis': 10088, 'weckt': 10089, 'sitzungstag': 10090, 'synodale': 10091, 'filitz': 10092, 'andacht': 10093, 'aufregt': 10094, 'begruessen': 10095, 'aussageabsicht': 10096, 'katholische': 10097, 'fundamentalistische': 10098, 'bibelauslegung': 10099, 'heilsgeschichte': 10100, 'termin': 10101, 'planen': 10102, 'langfristig': 10103, 'st': 10104, 'verhoehnen': 10105, 'enmoerder': 10106, 'bomben': 10107, 'hc': 10108, 'vedammten': 10109, 'bedeutsame': 10110, 'hmmm': 10111, 'quietschen': 10112, 'bearbeite': 10113, 'buendnis90diegruenen': 10114, 'haengst': 10115, 'scheinst': 10116, 'ansagen': 10117, 'konjunkturen': 10118, 'aufgabe': 10119, 'krawalle': 10120, 'herausgekommen': 10121, 'rechnet': 10122, 'boshaftigkeit': 10123, '54': 10124, 'luege': 10125, 'kenntkein': 10126, 'phuuuu': 10127, 'montage': 10128, 'angreifer': 10129, 'einebeln': 10130, 'gefaehrliche': 10131, 'einrevoluzzer': 10132, 'desatuere': 10133, 'fettes': 10134, 'undsonst1975': 10135, 'pst': 10136, 'rheinseite': 10137, 'umgepflanzt': 10138, 'wegnehmen': 10139, 'tl': 10140, 'kjarrigan': 10141, 'betrittsverhandlungen': 10142, 'erforde': 10143, 'macron': 10144, 'attac': 10145, 'tobin': 10146, 'schaeffler': 10147, 'afrikanische': 10148, 'unterentwicklung': 10149, 'kleinreden': 10150, 'migrantische': 10151, 'alibi': 10152, 'hinteren': 10153, 'listenplaetzen': 10154, 'platzieren': 10155, 'siwiarchiv': 10156, 'ausformung': 10157, 'zusage': 10158, 'verschlechtern': 10159, 'politikwelt': 10160, 'demonstrationen': 10161, 'lieblingsreligion': 10162, 'sissyzk': 10163, 'erdscheiblette': 10164, 'verlotte': 10165, 'nordbirke': 10166, 'wunderbare': 10167, 'birken': 10168, 'auslachen': 10169, '781johnny': 10170, 'arbeitnehmer': 10171, 'fristlos': 10172, 'kuendigen': 10173, 'lto': 10174, 'interessieren': 10175, 'auswirkung': 10176, 'richters': 10177, 'verhandlung': 10178, 'kreuzes': 10179, 'heiliger': 10180, 'stiften': 10181, 'gegensaetze': 10182, 'aufeinanderprallen': 10183, 'widerschein': 10184, 'erbarmens': 10185, 'frere': 10186, 'roger': 10187, 'skandaloes': 10188, 'tho': 10189, 'rie': 10190, 'incl': 10191, 'straffaelligkeiten': 10192, 'seitens': 10193, 'abzuschiebenden': 10194, 'hirnlose': 10195, 'lirogruen': 10196, 'koalitionsgespraechen': 10197, 'goodbye': 10198, 'sho': 10199, 'ymatic': 10200, 'orschloch': 10201, 'gebadet': 10202, 'gefressen': 10203, 'taumelt': 10204, 'maltraetie': 10205, 'postmodernismus': 10206, 'suggerieren': 10207, 'geheimdienst': 10208, 'steckte': 10209, 'zufaellig': 10210, 'unterschiedliche': 10211, 'voreiligen': 10212, 'schlussfolgerungen': 10213, 'anhoerung': 10214, 'schaechtverbot': 10215, 'juedischen': 10216, 'zusammengehen': 10217, 'ehebruch': 10218, 'apostasie': 10219, 'konform': 10220, 'jane71z': 10221, 'eilhaft': 10222, 'selektiv': 10223, 'steue': 10224, 'reinlaesst': 10225, 'pr0fessor': 10226, 'anzusprechen': 10227, 'kriminalisieren': 10228, 'stigmatisieren': 10229, 'scheiden': 10230, 'ueberragenden': 10231, 'grossem': 10232, 'hauptgruende': 10233, 'weiblicher': 10234, 'verhuetungsmittel': 10235, 'moderation': 10236, 'abgewuergt': 10237, 'schlussrunde': 10238, 'reiseliste': 10239, 'reiseziele': 10240, 'anbiede': 10241, 'gerad': 10242, 'schlauch': 10243, 'lueg': 10244, 'ernstnehmen': 10245, 'verschleudere': 10246, 'angeblich': 10247, 'vorhandenes': 10248, 'gebiet': 10249, 'orb': 10250, 'erlass': 10251, 'einstweilige': 10252, 'cyberdoc60': 10253, 'rechtsextrem': 10254, 'strukturierst': 10255, 'gesamtes': 10256, 'outspoken': 10257, 'pragmatisch': 10258, 'offbeat24': 10259, 'obs': 10260, 'speichellecker': 10261, 'totalen': 10262, 'missstaenden': 10263, 'kapiere': 10264, 'diaeter': 10265, 'loesen': 10266, 'identifizieren': 10267, 'hilfreich': 10268, 'angeblichen': 10269, 'cosmos4u': 10270, 'saxoniagerd': 10271, 'astroholl': 10272, 'untrennbarer': 10273, 'michaelefler': 10274, 'sedler': 10275, 'woernmuc': 10276, 'hochrein': 10277, 'applaudie': 10278, 'fahrgaeste': 10279, 'georgd63': 10280, 'antideutsche': 10281, 'zumutung': 10282, 'archiv': 10283, 'scanner': 10284, 'scantechnologie': 10285, 'automatisie': 10286, 'schnipsel': 10287, 'ausgereift': 10288, 'zt': 10289, 'pause': 10290, 'rekonstruie': 10291, 'mitschwester': 10292, 'foederationsversammlung': 10293, 'karmelitinnen': 10294, 'muensterschwarzach': 10295, 'danielfreyger': 10296, 'derbeheimatete': 10297, 'arbeitskreis': 10298, 'ohmmmm': 10299, 'drecksislam': 10300, 'kindergae': 10301, 'zelten': 10302, 'abseits': 10303, 'australien': 10304, 'empholen': 10305, 'jemals': 10306, 'wahlentscheidung': 10307, 'ueberreaktion': 10308, 'nachrichtenagentur': 10309, 'reuter': 10310, 'fass': 10311, 'platzen': 10312, 'frohe': 10313, 'gesegnete': 10314, 'rausausdemkabinett': 10315, 'arroganz': 10316, 'demokratieverweigerung': 10317, 'waehlerwillen': 10318, 'wohnen': 10319, 'qualitaetsjournalisten': 10320, 'agieren': 10321, 'lest': 10322, 'ostkuestensklaven': 10323, 'lars': 10324, 'tspd': 10325, 'pay': 10326, 'gap': 10327, 'schwach': 10328, 'beer': 10329, 'verstand': 10330, 'laschet': 10331, 'ausstieg': 10332, '68er': 10333, 'lagern': 10334, 'stefan': 10335, 'beschaemt': 10336, 'angelogen': 10337, 'befehlshaber': 10338, 'lv': 10339, 'widerspruch': 10340, 'fruchtlos': 10341, 'verhaeltnis': 10342, 'pochen': 10343, 'besuchsrecht': 10344, 'weitergehen': 10345, 'enten': 10346, 'herausfinden': 10347, 'geschehen': 10348, 'unschuldsvermutung': 10349, 'polizeirevier': 10350, 'klatschpa': 10351, 'bejaht': 10352, 'lach': 10353, 'verneint': 10354, 'austritt': 10355, 'germane': 10356, 'unvorstellbar': 10357, 'fridolinpsp': 10358, 'lehnst': 10359, 'fraeulein': 10360, 'tessa': 10361, 'mittwoch': 10362, 'kalender': 10363, '1950': 10364, '1960ern': 10365, 'diaa': 10366, 'abdullah': 10367, 'jaka': 10368, 'reh': 10369, 'geschichtsklitterung': 10370, 'egoistischer': 10371, 'agrar': 10372, 'csucdu': 10373, 'mehrgeld': 10374, 'werwoelfe': 10375, 'aeusse': 10376, 'spezial': 10377, 'unterkunft': 10378, 'rk': 10379, 'einzahlen': 10380, 'einstigen': 10381, 'hinfuehren': 10382, '66': 10383, 'enkel': 10384, 'goettlich': 10385, 'esther': 10386, 'mitgezaehlt': 10387, 'livasommar': 10388, 'missschmaguelze': 10389, 'kaktusimgesicht': 10390, 'joggt': 10391, 'gespraechskreises': 10392, 'bodyguards': 10393, 'cerd': 10394, 'verpflichtende': 10395, 'weiterbildungsmassnahmen': 10396, 'staatsanwaelt': 10397, 'konstanten': 10398, 'hinweg': 10399, 'lichte': 10400, 'ueberliefe': 10401, 'riten': 10402, 'lucian': 10403, 'hoelscher': 10404, 'attentat': 10405, 'abscheulich': 10406, 'angreift': 10407, 'greift': 10408, 'genesung': 10409, 'erzaehlerin': 10410, 'feministisches': 10411, 'souveraen': 10412, 'netzdg': 10413, 'kooperation': 10414, 'retenen': 10415, 'abstrakter': 10416, 'normenkontrollklage': 10417, 'vorzulegen': 10418, 'parlamentarier': 10419, 'galt': 10420, 'annullie': 10421, 'geschieden': 10422, 'rude': 10423, 'chefredakteurin': 10424, 'sensibleren': 10425, 'sprachgenau': 10426, 'muenchner': 10427, 'vittel': 10428, 'irina': 10429, 'geeh': 10430, 'heiss': 10431, 'bestand': 10432, 'maechtigen': 10433, 'saemtl': 10434, 'ind': 10435, 'einzieht': 10436, 'unzuverlaessiger': 10437, 'bestaendige': 10438, 'therapiesitzung': 10439, 'sack': 10440, 'gesundheitseinrichtungen': 10441, 'betrieb': 10442, 'akuter': 10443, 'aerztemangel': 10444, 'grossmaul': 10445, '2030': 10446, 'benzinmotor': 10447, 'monstersandmen': 10448, 'mammutband': 10449, 'technik': 10450, 'gleichgueltigkeit': 10451, 'ignoranz': 10452, 'gefaehrlichsten': 10453, 'rechtschreibkorrektur': 10454, 'gesandt': 10455, 'assisi': 10456, 'toleranter': 10457, 'masseneinwanderung': 10458, 'saekularisieren': 10459, 'bekannten': 10460, 'staatenlosen': 10461, 'bevoelkerungsgruppen': 10462, 'bereiten': 10463, 'einzuteilen': 10464, 'lebenswe': 10465, 'nfskiberlin': 10466, 'mica4711': 10467, 'merdeux': 10468, 'efdlan': 10469, 'chris': 10470, '98763': 10471, 'trollkotze99': 10472, 'zwetschgenmandi': 10473, 'thedragonslaw': 10474, 'exit': 10475, 'laos': 10476, '1999wilbur': 10477, 'giedtpeter900': 10478, 'nureinschatten': 10479, 'brigadoomde': 10480, 'hebihebiheb': 10481, 'littlej07059497': 10482, 'schneideru18': 10483, 'norbinator2403': 10484, 'yuma': 10485, 'lein': 10486, 'matrixgofire': 10487, 'istanbul': 10488, 'themes': 10489, 'merksatz': 10490, 'duzt': 10491, 'starken': 10492, 'gegnspam': 10493, 'dutzend': 10494, 'pirateneintritt': 10495, 'waz': 10496, '41': 10497, 'gekuendigt': 10498, 'einseitige': 10499, 'berichte': 10500, 'attung': 10501, 'r67': 10502, 'h4': 10503, 'uam': 10504, 'unternehmer': 10505, 'jeeeee': 10506, 'bushman': 10507, 'mcscrub': 10508, 'petrapebs': 10509, 'markusalbrech16': 10510, 'dick': 10511, 'korrelie': 10512, 'hoechstes': 10513, 'tiggena': 10514, 'sexistische': 10515, 'belohnen': 10516, 'selbe': 10517, 'einstieg': 10518, 'herbstritt': 10519, 'spionage': 10520, 'gutachten': 10521, 'mitteilte': 10522, 'fahrzeug': 10523, 'fussgaenger': 10524, 'fahrradweg': 10525, 'gerammt': 10526, 'staerkung': 10527, 'frauenquote': 10528, 'quotenfrau': 10529, 'anstoessig': 10530, 'aussenministern': 10531, 'grundgesetzt': 10532, 'market': 10533, 'fool': 10534, 'schaebiger': 10535, 'lump': 10536, 'fahnenflucht': 10537, 'evermittlung': 10538, 'geschue': 10539, 'vasteh': 10540, 'nua': 10541, 'halb': 10542, 'cradle': 10543, 'beurkunden': 10544, 'industrielle': 10545, 'angeprange': 10546, 'trinkwasser': 10547, 'trinkbar': 10548, 'wg12307': 10549, 'friedliebend': 10550, 'vervollstaendigen': 10551, 'abhaengen': 10552, 'decker': 10553, 'gewaessern': 10554, 'feiner': 10555, 'hassmoscheen': 10556, 'dschihad': 10557, 'verherrlichen': 10558, 'verbote': 10559, 'ausnahme': 10560, 'berlincore': 10561, 'chillensiemalnbisschen': 10562, 'autoritaeres': 10563, 'islamisches': 10564, 'beibringt': 10565, 'kinderschaender': 10566, 'oto': 10567, 'severinweiland': 10568, 'volksvoraeda': 10569, 'lechzen': 10570, 'serioese': 10571, 'aufarbeitung': 10572, 'prozesse': 10573, 'legitim': 10574, 'nixnebelkerze': 10575, 'mei': 10576, 'men': 10577, 'going': 10578, 'their': 10579, 'own': 10580, 'way': 10581, 'hamburgonline': 10582, 'leerstehende': 10583, 'wohnungen': 10584, 'wgschaften': 10585, 'nachbarn': 10586, 'fokussierung': 10587, 'zeitgemaess': 10588, 'iefen': 10589, 'fietzke': 10590, 'vich': 10591, 'formen': 10592, 'fangenspielen': 10593, 'pott': 10594, 'rueckzugsraum': 10595, 'unangreifbarkeit': 10596, 'anhaltender': 10597, 'repression': 10598, 'waffe': 10599, 'sosse': 10600, 'antatschen': 10601, 'einheimische': 10602, 'feminazis': 10603, 'gemassregelt': 10604, 'henry': 10605, 'newmann': 10606, 'boraetlabora': 10607, 'georgius': 10608, 'bach': 10609, 'vaniredfox': 10610, 'zank': 10611, 'hausgemeinde': 10612, 'pers': 10613, 'zusammenhalt': 10614, 'besetzt': 10615, 'uwekleine': 10616, 'grosszuegige': 10617, 'key': 10618, 'boarder': 10619, 'kai': 10620, 'scheide': 10621, 'boehmermanns': 10622, 'versifftes': 10623, 'autoren': 10624, 'nagelbombenanschlag': 10625, 'scheite': 10626, 'zwoelfjaehrigen': 10627, 'gebastelten': 10628, 'sprengsatz': 10629, 'zuenden': 10630, 'niki': 10631, 'lauda': 10632, 'mercedes': 10633, 'feed': 10634, '1400': 10635, '500': 10636, 'followern': 10637, 'impressionen': 10638, 'nwo': 10639, 'schlange': 10640, 'hinterhaeltig': 10641, 'blockade': 10642, 'respektwaehlen': 10643, 'genaue': 10644, 'analysen': 10645, 'rhetoriken': 10646, 'strategien': 10647, 'entlarvt': 10648, 'gefaehrlichkeit': 10649, 'freundliche': 10650, 'maske': 10651, 'abgezogen': 10652, 'klage': 10653, 'petrakelly': 10654, 'danken': 10655, 'finanz': 10656, 'knueller': 10657, 'ausgegraben': 10658, 'siehts': 10659, 'akte': 10660, 'briefmarke': 10661, 'prost': 10662, 'berlindirekt': 10663, 'bmjv': 10664, 'einizg': 10665, 'gesuelze': 10666, 'gaffer': 10667, 'butter': 10668, 'brot': 10669, 'bo': 10670, 'aufloest': 10671, 'verwestlicht': 10672, 'etlichen': 10673, 'tipp': 10674, 'christlich': 10675, 'amtseid': 10676, 'geschworen': 10677, 'personalausweis': 10678, 'beantragen': 10679, 'papiere': 10680, 'geduldet': 10681, 'behandlung': 10682, 'darstellung': 10683, 'ueberzogen': 10684, 'rechtsextreme': 10685, 'milieu': 10686, 'thematisie': 10687, 'bescheidenheit': 10688, 'erbrachte': 10689, 'relation': 10690, 'leistungsfaehigkeit': 10691, 'zorras': 10692, 'goettin': 10693, 'ihaveahunger': 10694, 'bunnyfield': 10695, 'fricarfri': 10696, 'petracyber': 10697, 'typo3': 10698, 'hintern': 10699, 'kresszwitscher': 10700, 'anjareschke1': 10701, 'barbarahans': 10702, 'hinrichs': 10703, 'akolbusa': 10704, 'journalistisch': 10705, 'komplexitaet': 10706, 'vereinfacher': 10707, 'fruchtbaren': 10708, 'boden': 10709, 'gunterseife': 10710, 'hansalbers6': 10711, 'dieses': 10712, 'ekelt': 10713, 'ausgetraeumten': 10714, 'marxistischen': 10715, 'atombomben': 10716, 'niedrig': 10717, 'aktuellenstunde': 10718, 'am': 10719, 'zentra': 10720, 'lafrika': 10721, 'frey': 10722, 'menschenfeindlichkeit': 10723, 'kollegen': 10724, 'unnachgiebig': 10725, 'knacken': 10726, 'eingeloggt': 10727, 'ruinieren': 10728, 'aufkommen': 10729, 'gernder': 10730, 'gay': 10731, 'niveauloser': 10732, 'bereichern': 10733, 'slow': 10734, 'verletzungen': 10735, 'nichtweisse': 10736, 'bad': 10737, 'luck': 10738, 'stephanjbauer': 10739, 'verkehrsunfalls': 10740, 'schuettel': 10741, 'spinnt': 10742, 'stern': 10743, 'aufmachte': 10744, 'bischof': 10745, 'hemmerle': 10746, 'erstes': 10747, 'haesslichen': 10748, 'toller': 10749, 'weestedoch': 10750, 'aeter': 10751, 'nigger': 10752, 'nigerianer': 10753, 'abgestochen': 10754, 'gelesene': 10755, 'deckt': 10756, 'biblisches': 10757, 'weggelassen': 10758, 'hinzugefuegt': 10759, 'monokultur': 10760, 'mono': 10761, 'spanisches': 10762, 'affe': 10763, 'friseur': 10764, 'schicker': 10765, 'anbetung': 10766, 'intensivieren': 10767, 'ausgangslaendern': 10768, 'barbie': 10769, 'paedos': 10770, 'voelkerbundmandat': 10771, 'teilungsplan': 10772, 'karllagerfeld': 10773, 'knaeckebrot': 10774, 'doppelanschlag': 10775, 'bagdad': 10776, 'klingbeil': 10777, 'waehlern': 10778, 'meiden': 10779, 'hinzerzimmern': 10780, 'kneipen': 10781, 'infostaenden': 10782, 'allesadventure': 10783, '31': 10784, 'benedikts': 10785, 'entstammt': 10786, 'festschrift': 10787, 'sieh': 10788, 'bestaendig': 10789, 'aktion': 10790, 'mahatma': 10791, 'gandhi': 10792, 'planetsafer': 10793, 'implizieren': 10794, 'apa': 10795, 'heid': 10796, 'einfaches': 10797, 'kleidungsstueck': 10798, 'rehabilitierung': 10799, 'offizielle': 10800, 'eingestaendnis': 10801, 'demokratisches': 10802, 'menschenrechtsverletzungen': 10803, 'beging': 10804, 'billigen': 10805, 'phrasen': 10806, 'zum': 10807, 'macpromastek': 10808, 'saschalitvin': 10809, 'verheerenden': 10810, 'unterschiede': 10811, 'skandinaviern': 10812, 'aborigines': 10813, 'territoriale': 10814, 'verbreitung': 10815, 'einstufung': 10816, 'inkompetenz': 10817, 'provokationen': 10818, 'verschleiern': 10819, 'wuerdelos': 10820, 'sandrasigel': 10821, 'loveparade': 10822, 'aussenseiter': 10823, 'forum': 10824, 'geboten': 10825, 'sprachfehler': 10826, 'gemeinsamkeiten': 10827, 'zensurkontrolle': 10828, 'meinungs': 10829, 'versammlungsfreiheit': 10830, 'optische': 10831, 'marin': 10832, 'haesslicherer': 10833, 'jene': 10834, 'tragische': 10835, 'einsetzt': 10836, 'potenziell': 10837, 'harald': 10838, 'georgii': 10839, 'instituts': 10840, 'soviele': 10841, 'anwerben': 10842, 'auftragen': 10843, 'make': 10844, 'up': 10845, 'herauszuputzen': 10846, 'allianz': 10847, 'ausgeschlossen': 10848, 'babies': 10849, 'libanon': 10850, 'neugeborenen': 10851, 'intensivpflege': 10852, 'sichergestellt': 10853, 'studienabbrecherin': 10854, 'engel': 10855, 'beherbergt': 10856, 'hebr': 10857, 'katjabzaich': 10858, 'apfelzweig': 10859, 'kastrieren': 10860, 'stinkende': 10861, 'saekularem': 10862, 'sub': 10863, 'specie': 10864, 'aeternitatis': 10865, 'universalen': 10866, 'grassierenden': 10867, 'kontrapunkt': 10868, 'koestlich': 10869, 'komoediant': 10870, 'nachgedacht': 10871, 'sarkasmus': 10872, 'empfehlen': 10873, 'schwindet': 10874, 'feigen': 10875, 'ttrwttr': 10876, 'themrrroc': 10877, 'abwechslung': 10878, 'scheuklappen': 10879, 'wichsvorlageni': 10880, 'dialektik': 10881, 'vergesslich': 10882, 'skandale': 10883, 'murks': 10884, 'off': 10885, 'widerhole': 10886, 'salafistenmoscheen': 10887, 'strenge': 10888, 'kontrollen': 10889, 'tendenzen': 10890, 'vorbeugen': 10891, 'empfinden': 10892, 'anmassend': 10893, 'zuvorkommendes': 10894, 'kindesbeinen': 10895, 'lese': 10896, 'kommentatoren': 10897, 'abbau': 10898, 'dominiquehber': 10899, 'abgefucktespd': 10900, 'mitverursacht': 10901, 'geschlechterrollen': 10902, 'aufbrechen': 10903, 'absprechen': 10904, 'helalbeauty': 10905, 'prinzipiell': 10906, 'disziplin': 10907, '2001': 10908, 'alexneuber': 10909, 'weseler': 10910, 'kriterium': 10911, 'uebergriffe': 10912, 'hach': 10913, 'ochs': 10914, 'la': 10915, 'biennale': 10916, 'marianne': 10917, 'bi': 10918, 'hler': 10919, '2011': 10920, 'bundesbeauftragte': 10921, 'mobilisie': 10922, 'peinlichkeit': 10923, 'bildschirm': 10924, 'ursursen': 10925, 'abschalten': 10926, 'paulroegler': 10927, 'tomahrweiler': 10928, 'conny': 10929, 'judentun': 10930, 'kippe': 10931, 'anblick': 10932, 'erschuette': 10933, 'einzug': 10934, 'schaufenstern': 10935, 'glotzen': 10936, 'offensichtliche': 10937, 'behagt': 10938, 'fruehjahr': 10939, 'publikation': 10940, 'verfuegbar': 10941, 'manuskript': 10942, 'stichtagsregelung': 10943, 'dekt17': 10944, 'erneuten': 10945, 'koalitionpa': 10946, 'taxreform': 10947, 'massive': 10948, 'gigantische': 10949, 'schulden': 10950, 'herum': 10951, 'gerechterwerden': 10952, 'verwandtschaft': 10953, 'trennen': 10954, 'anstrengend': 10955, 'populismus': 10956, 'wahn': 10957, 'erfinden': 10958, 'tnnmagazine': 10959, 'dummkopf': 10960, 'hinreissen': 10961, 'zdfspezial': 10962, 'nachzulesen': 10963, 'unter': 10964, 'willkuer': 10965, 'amter': 10966, 'vorgeschlagen': 10967, 'darmblaehungen': 10968, 'ibiebs1dcookie': 10969, 'hey': 10970, 'machs': 10971, 'kreische': 10972, 'krisengebiet': 10973, '360': 10974, 'pakistanische': 10975, 'behoerden': 10976, 'zurueckzukehren': 10977, 'umfrageergebnisse': 10978, 'stimmungsmacher': 10979, 'erfolge': 10980, 'rentenfrage': 10981, 'garant': 10982, 'kongo': 10983, 'diamanten': 10984, 'korrupte': 10985, 'einwohner': 10986, 'aufgebaut': 10987, 'sonstige': 10988, 'zeitgeist': 10989, 'ausschweifende': 10990, 'westl': 10991, 'geseschaft': 10992, 'sensibilitaet': 10993, 'beduerfnisse': 10994, 'gefluechteter': 10995, 'bereichen': 10996, 'engagements': 10997, 'lebensbedingungen': 10998, 'gefluechtet': 10999, 'dieterbrehms': 11000, 'bmw': 11001, 'hmm': 11002, 'wm': 11003, 'spassig': 11004, 'identifizie': 11005, 'lesbischer': 11006, 'transe': 11007, 'backen': 11008, 'reparieren': 11009, 'laune': 11010, 'johannesvogel': 11011, 'fairen': 11012, 'spielregeln': 11013, 'merkste': 11014, 'wegputschen': 11015, 'neujahrsgruesse': 11016, 'uh': 11017, 'begleiten': 11018, 'mlp': 11019, 'officiel': 11020, 'verwandt': 11021, 'madeluxxe': 11022, 'wutzwilly': 11023, 'siegfriedricht5': 11024, '1984': 11025, 'wahlplakaten': 11026, 'begann': 11027, 'drink': 11028, 'spendie': 11029, 'este': 11030, 'volksverraete': 11031, 'entsprechend': 11032, 'evetiger': 11033, 'leidlich': 11034, 'sicheren': 11035, 'beschreiben': 11036, 'wasch': 11037, 'pelz': 11038, 'nass': 11039, 'foerster': 11040, 'hinterkopf': 11041, 'rechnergestuetzt': 11042, 'bedienung': 11043, 'hallenpd': 11044, 'verdammte': 11045, 'merkelregierung': 11046, 'fasern': 11047, 'seins': 11048, 'tuns': 11049, 'wuenschens': 11050, 'gelangt': 11051, 'tiefsten': 11052, 'lehnt': 11053, 'jeweiligen': 11054, 'aufenthaltsstatus': 11055, 'adaequaten': 11056, 'gesundheitsversorgung': 11057, 'klang': 11058, 'edler': 11059, 'entschu': 11060, 'digt': 11061, 'satrape': 11062, 'besatzung': 11063, 'frauenkram': 11064, 'laber': 11065, 'durfte': 11066, 'jahrelange': 11067, 'anmelder': 11068, 'quds': 11069, 'marsches': 11070, 'gewaltverbrechen': 11071, 'vieles': 11072, 'lebensstil': 11073, 'aufm': 11074, 'katastrophe': 11075, 'rumaenien': 11076, 'qualufizie': 11077, 'diejenige': 11078, 'trauerfaellen': 11079, 'fratze': 11080, 'sittliche': 11081, '68ern': 11082, 'videobotschaften': 11083, 'stufe': 11084, 'videos': 11085, 'verherrlicht': 11086, 'spdfrauen': 11087, 'riesenunterschied': 11088, 'atheistenstaat': 11089, 'zwangs': 11090, 'entwurzelung': 11091, 'glaeubigen': 11092, 'religiositaet': 11093, 'abgrenzen': 11094, 'mitwirkung': 11095, 'des': 11096, 'derjenigen': 11097, 'offenengesellschaft': 11098, 'schinkel': 11099, 'ib': 11100, 'trauer': 11101, 'tattooforaweek': 11102, 'taetowieren': 11103, 'scheusslich': 11104, 'daemonenhaft': 11105, 'sprachlos': 11106, 'air': 11107, 'bedeutungslosigkeit': 11108, 'berndlucke': 11109, 'ltwnds': 11110, 'ltw17': 11111, 'schwarzfuss': 11112, 'raketenlurch': 11113, 'entwicklungsland': 11114, 'jenspressh': 11115, 'breitscheidtplatz': 11116, 'gesammten': 11117, 'keiner': 11118, 'krisenzeiten': 11119, 'grundlegende': 11120, 'rechtsstaatl': 11121, 'gesiche': 11122, 'migrationsbuero': 11123, 'vatikan': 11124, 'rsection': 11125, 'perve': 11126, 'ierung': 11127, 'beinhaltet': 11128, 'unmoralisch': 11129, 'grundschueler': 11130, 'aushagen': 11131, 'gruftipower': 11132, 'gewissenlos': 11133, 'gottlos': 11134, 'westbindung': 11135, 'fundament': 11136, 'provisorium': 11137, 'toetung': 11138, 'eintreten': 11139, 'mitarbeiten': 11140, 'mitentscheiden': 11141, 'zuzusehen': 11142, 'trauriger': 11143, 'weine': 11144, 'deutschistan': 11145, 'traene': 11146, 'abziehen': 11147, 'ruestungsexpo': 11148, 'zurechnungsfaehig': 11149, 'fluechtlingsschutz': 11150, 'ergaenzende': 11151, 'verwirklichen': 11152, 'ungeheuerlichen': 11153, 'hoffend': 11154, 'liebend': 11155, 'betend': 11156, 'unbegreiflichkeit': 11157, 'bergenden': 11158, 'entgegenzugehen': 11159, 'rahner': 11160, 'baeume': 11161, 'aufzuhaengen': 11162, 'quotierung': 11163, 'gespalten': 11164, 'gegeneinander': 11165, 'aufgehetzt': 11166, 'smsteinitz': 11167, 'echauffieren': 11168, 'hysterischem': 11169, 'jekelanke': 11170, 'amtszeit': 11171, 'geschlechtschromosomen': 11172, 'fakdberlin': 11173, 'nikolaus': 11174, 'ehem': 11175, 'ratsvorsitzender': 11176, 'hielt': 11177, 'verbrecherorga': 11178, 'isation': 11179, 'knutsche': 11180, 'gaehnst': 11181, 'ueberangebot': 11182, 'lenchon': 11183, 'jlm2017': 11184, 'duisburg': 11185, 'klingt': 11186, 'ruhrpott': 11187, 'qual': 11188, 'kwgberlin': 11189, 'verwechseln': 11190, 'homophobie': 11191, 'kuscheln': 11192, 'forschungsgruppe': 11193, 'bluehe': 11194, 'gepflanzt': 11195, 'sales': 11196, 'anfangsphase': 11197, 'schandmaeulern': 11198, 'dummgenosse': 11199, 'geilt': 11200, 'helferinnen': 11201, 'herausragende': 11202, 'erdenklichen': 11203, 'bremse': 11204, 'technologien': 11205, 'gewinne': 11206, 'haengen': 11207, 'atomwaffen': 11208, 'geb': 11209, 'gewuenscht': 11210, 'bremst': 11211, 'jan': 11212, 'ni': 11213, 'mdrextra': 11214, 'jahn': 11215, 'mitverantwo': 11216, 'ermunte': 11217, 'chemikalien': 11218, 'verfolgten': 11219, 'schauprozesse': 11220, 'gazetecilereoezguerluek': 11221, 'cumhuriyetgzt': 11222, 'drecksau': 11223, 'schmerzen': 11224, 'praeambel': 11225, 'ethisch': 11226, 'redete': 11227, 'kreist': 11228, 'gedanklich': 11229, 'bauernhof': 11230, 'mecklenburg': 11231, 'vorpommern': 11232, 'ungeeignet': 11233, 'aufstrebende': 11234, 'industrienationen': 11235, 'steigendem': 11236, 'chanukka': 11237, 'feierlichkeiten': 11238, 'jahreswechsel': 11239, 'zeige': 11240, 'mechanismen': 11241, 'toxischer': 11242, 'schaftde': 11243, 'vegetarisch': 11244, 'haessliche': 11245, 'jamaikakoalition': 11246, 'ergreife': 11247, 'anrueh': 11248, 'absoluten': 11249, 'geborgenheit': 11250, 'edith': 11251, 'radikaler': 11252, 'realistischerweise': 11253, 'erringen': 11254, 'moderaten': 11255, 'veraendern': 11256, 'einzuschuechtern': 11257, 'demoralisieren': 11258, 'kalkuel': 11259, 'aufgehen': 11260, 'manns': 11261, 'funke': 11262, 'hochzeit': 11263, 'insolvent': 11264, 'klappt': 11265, 'sims4': 11266, 'traummann': 11267, 'gebacken': 11268, 'binaeren': 11269, 'ausrede': 11270, 'unantastbar': 11271, 'teampetrapau': 11272, 'gedenkstunde': 11273, 'einaehe': 11274, 'sekundaer': 11275, 'eiloser': 11276, 'wechselwaehler': 11277, 'katechismus': 11278, 'messbuch': 11279, 'kreuzzeichen': 11280, 'allererste': 11281, 'hasselloff': 11282, 'kiraseidel': 11283, 'typische': 11284, 'gepaa': 11285, 'dreisten': 11286, 'weils': 11287, 'undenkbar': 11288, 'miezekatzen': 11289, 'behauptung': 11290, 'einschraenken': 11291, 'goldaufweiss': 11292, 'interessiere': 11293, 'konntest': 11294, 'zufriedenstellende': 11295, 'spannende': 11296, 'konstruktive': 11297, 'it': 11298, 'poothverona': 11299, 'schlauchboot': 11300, 'halloween': 11301, 'ausdenkt': 11302, 'biologisch': 11303, 'determinie': 11304, 'abweichung': 11305, 'asylantenschmarotzer': 11306, 'stirbt': 11307, 'sissis': 11308, 'nationalfrager': 11309, 'furchtbare': 11310, 'mitgefuehl': 11311, 'glubbdidi': 11312, 'schreien': 11313, 'jugendlichen': 11314, 'erzitte': 11315, 'weint': 11316, 'erlebnis': 11317, 'breiter': 11318, 'denis': 11319, 'cuspe': 11320, 'deso': 11321, 'dogg': 11322, 'hizbollah': 11323, 'auftrat': 11324, 'zog': 11325, 'fahnen': 11326, 'wess': 11327, 'terrororganisation': 11328, 'einverstanden': 11329, 'cookies': 11330, 'hhumorlos': 11331, 'foetzchen': 11332, 'gefickt': 11333, 'sehsuechtig': 11334, 'talkrunde': 11335, 'sassen': 11336, 'gegie': 11337, 'stellst': 11338, 'aberglauben': 11339, 'jedweden': 11340, 'befinden': 11341, 'trend': 11342, 'stadtbewohnern': 11343, 'entfremdet': 11344, 'folgendessen': 11345, 'idealisieren': 11346, 'eindrucksvoll': 11347, 'raetselhaft': 11348, 'moegliche': 11349, 'schicksalsschlag': 11350, 'erkrankung': 11351, 'interessanterweise': 11352, 'politikerin': 11353, 'leubecherx': 11354, 'leubecher': 11355, 'vermerkt': 11356, 'infos': 11357, 'kriminalwissenschaftler': 11358, 'pfeiffer': 11359, 'geleiteten': 11360, 'ursachen': 11361, 'zuwanderkriminalitaet': 11362, 'stammen': 11363, 'vermerken': 11364, 'nbardeff': 11365, 'vorgeworfen': 11366, 'versteckten': 11367, 'komponenten': 11368, 'gonosomen': 11369, 'geschlechtshormone': 11370, 'yorker': 11371, 'stadtteil': 11372, 'kleinlasters': 11373, 'beispielsweise': 11374, 'anheben': 11375, 'ansicht': 11376, 'schleimern': 11377, 'mitgliedern': 11378, 'nachhause': 11379, 'bestem': 11380, 'schmeisse': 11381, 'fuss': 11382, 'sichere': 11383, 'drittstaaten': 11384, 'durchque': 11385, 'anliegen': 11386, 'schutzsuchender': 11387, 'schlachten': 11388, 'betaeubung': 11389, 'leibe': 11390, 'haeuten': 11391, 'pflegebengel1': 11392, 'lisaklaster': 11393, 'geschickte': 11394, 'umdeutung': 11395, 'nutzbringende': 11396, 'nutzlosen': 11397, 'jackiedryder': 11398, 'kristianlempa': 11399, 'cduspdfdplinkegruene': 11400, 'grueninnen': 11401, 'wichsen': 11402, 'gelabber': 11403, 'zugestimmt': 11404, 'nenne': 11405, 'hadear': 11406, 'kontexten': 11407, 'bauchpinselei': 11408, 'toedlichen': 11409, 'terroranschlaege': 11410, 'dramatisch': 11411, 'ipk': 11412, 'puzzle': 11413, 'gelungen': 11414, 'digit': 11415, 'gepuzzelte': 11416, 'scan': 11417, 'technologie': 11418, 'schaftsmethoden': 11419, 'sebast': 11420, 'volksverarschung': 11421, 'huehnerfickerei': 11422, 'moeglicherweise': 11423, 'hihi': 11424, 'weisswuerste': 11425, 'sklavenhandel': 11426, 'aktiv': 11427, 'voltaire': 11428, 'oberhaupt': 11429, 'amlukassek': 11430, 'silvesterboellerei': 11431, 'brotstattboeller': 11432, 'terroranschlag': 11433, 'bewiesen': 11434, 'aufbauen': 11435, 'diw': 11436, 'quotienten': 11437, 'rausgerechnet': 11438, 'poltern': 11439, 'wahrnehmung': 11440, 'interpretierst': 11441, 'schnubb': 11442, 'groesse': 11443, 'wisselstefan': 11444, 'rinkenden': 11445, 'anzubieten': 11446, 'sinnvoll': 11447, 'zynisch': 11448, 'weitsicht': 11449, 'blind': 11450, 'heiliges': 11451, 'immobilienmakler': 11452, 'marspet': 11453, 'nachvollziehen': 11454, 'kleben': 11455, 'spitzenkandidatin': 11456, 'zuverlaessig': 11457, 'gemischtes': 11458, 'kriminalstatistik': 11459, 'eindeutige': 11460, 'ueberrepraesentie': 11461, 'safe': 11462, 'space': 11463, 'sozialethik': 11464, 'dubiose': 11465, 'umfragen': 11466, 'erstellen': 11467, 'nase': 11468, 'switchangel1975': 11469, 'antilegida': 11470, 'entsteht': 11471, 'klarheit': 11472, 'fraktionbb': 11473, 'vogel': 11474, 'auslaenderfeindlichkeit': 11475, 'acker': 11476, 'zugibst': 11477, 'offiziellen': 11478, 'soso': 11479, 'beobachtest': 11480, 'moment': 11481, 'haeufig': 11482, 'worauf': 11483, 'stuetzt': 11484, 'kranke': 11485, 'hindurchfinden': 11486, 'schulle60': 11487, 'kanns': 11488, 'marktwi': 11489, 'sozialausgaben': 11490, 'olympe': 11491, 'dushanwegner': 11492, 'anwerberinnen': 11493, 'freundinnen': 11494, 'salafistische': 11495, 'anzulocken': 11496, 'weitem': 11497, 'integrie': 11498, 'mahne': 11499, 'demokratiefeinde': 11500, 'lebensweg': 11501, 'infotweepnl': 11502, 'eussr': 11503, 'botschafter': 11504, 'einbestellen': 11505, 'truppen': 11506, 'islamkritiker': 11507, 'zensie': 11508, 'debattie': 11509, 'germanywatcher': 11510, 'hinfahren': 11511, 'schuldzuschreibung': 11512, 'arg': 11513, 'mager': 11514, 'wahrlich': 11515, 'koalitionsfaehig': 11516, 'ueberwiegend': 11517, 'vermag': 11518, 'verbuche': 11519, 'kristallisieren': 11520, 'rudisagmal': 11521, 'ger': 11522, 'reichten': 11523, 'geistigen': 11524, 'kapazitaeten': 11525, 'verreckt': 11526, 'strukturen': 11527, 'funktionierenden': 11528, 'buerokratie': 11529, 'lichtenhagen': 11530, 'mahnt': 11531, 'fussbreit': 11532, 'taschenrechner': 11533, 'abgeschnitten': 11534, 'daas': 11535, 'ueberschlagen': 11536, 'suesses': 11537, 'endgueltig': 11538, 'ueberrascht': 11539, 'mitbekomme': 11540, 'obamas': 11541, 'vorstaenden': 11542, 'bezahlte': 11543, 'reinplatzt': 11544, 'abwuergt': 11545, 'verseuchtes': 11546, 'nazipack': 11547, 'merkur': 11548, 'shalimarharper': 11549, 'kanzler': 11550, '1982': 11551, '1998': 11552, 'andererseits': 11553, 'herrchen': 11554, 'amateur': 11555, 'lernfaehig': 11556, 'verlauste': 11557, 'kochkaese24': 11558, 'dringenden': 11559, 'gemeinsames': 11560, 'andrittis': 11561, 'vikinger': 11562, 'asylnten': 11563, 'gerdhansi': 11564, 'luschenpa': 11565, 'organisie': 11566, 'menschenkette': 11567, 'moderne': 11568, 'konservativ': 11569, 'autoritaeren': 11570, 'befreien': 11571, 'anlegen': 11572, 'fvorwerg': 11573, 'zuegig': 11574, 'fuerchterlich': 11575, 'staendige': 11576, 'of': 11577, 'twin': 11578, 'versammlungsanmeldung': 11579, 'unbequeme': 11580, 'vorstellt': 11581, 'eidigt': 11582, 'hatespeech': 11583, 'beteht': 11584, 'anspricht': 11585, 'ranzmann': 11586, 'inshallah': 11587, 'schwanz': 11588, '40cm': 11589, '10cmdick': 11590, 'hans': 11591, 'ampel': 11592, 'treibhausev': 11593, 'auswe': 11594, 'ui': 11595, 'grins': 11596, 'xx': 11597, 'morgentau100': 11598, 'hereinspazie': 11599, 'einfachnurmark': 11600, 'janalbrecht': 11601, 'bliebe': 11602, 'holocaustmahnmal': 11603, 'bezeichnet': 11604, 'klatscht': 11605, 'rueh': 11606, 'schweizerguy': 11607, 'megatwingo': 11608, 'behauptest': 11609, 'definie': 11610, 'personenschuetzern': 11611, 'verbraucherfalle': 11612, 'einziger': 11613, 'hotels': 11614, 'aufgefallen': 11615, 'zimmer': 11616, 'ungsbereitschaft': 11617, 'zuvoerderst': 11618, 'verfassungsvoraussetzungen': 11619, 'verordnet': 11620, 'hochgradiger': 11621, 'anmerkst': 11622, 'osteuropa': 11623, 'himmelweiter': 11624, 'tommyschett': 11625, 'unterschiedlich': 11626, 'tolerie': 11627, 'endogamen': 11628, 'bueti': 11629, 'maaluf': 11630, 'diekreuzzuege': 11631, 'empfehlenswe': 11632, 'erhellend': 11633, 'tzounakis': 11634, 'victorvetterle': 11635, 'scheinheilig': 11636, 'sche': 11637, 'menschenverachtende': 11638, 'chsommers': 11639, 'debatten': 11640, 'reduzieren': 11641, 'neuner': 11642, 'auslaendische': 11643, 'pflegekraefte': 11644, 'steine': 11645, 'fahrverbote': 11646, 'diesel': 11647, 'dummes': 11648, 'gegessen': 11649, 'gekocht': 11650, 'bankrotterklaerung': 11651, 'schulterschluss': 11652, 'freizulassen': 11653, 'fl': 11654, 'securityka': 11655, 'rumspringen': 11656, 'kokolores100': 11657, 'folge': 11658, 'einschliessenden': 11659, 'ausschliesslichen': 11660, 'polizeiruf': 11661, '110': 11662, 'sterbenslangweilig': 11663, 'endlosfrei': 11664, 'geltendes': 11665, 'spendet': 11666, 'beifall': 11667, 'antidiskriminerungsgesetz': 11668, 'staatsbuergern': 11669, 'perfektes': 11670, 'einfallstor': 11671, 'opferkult': 11672, 'sexuellen': 11673, 'bezichtigt': 11674, 'handtaschen': 11675, 'sonderangebot': 11676, 'stef': 11677, 'egli': 11678, 'nzz': 11679, 'grundsatz': 11680, 'verschleie': 11681, 'problematik': 11682, 'vielmehr': 11683, 'lde': 11684, 'taqiyya': 11685, 'tabelle': 11686, 'kriegsgebeutelten': 11687, 'starben': 11688, 'krankheit': 11689, 'leidet': 11690, 'geschadet': 11691, 'anziehungskraft': 11692, 'haraldrostock': 11693, 'traeume': 11694, 'industrialisierung': 11695, 'entscheidender': 11696, 'kreislauf': 11697, 'auszubrechen': 11698, 'netzwerkdurchsetzungsgesetz': 11699, 'nigromontanus': 11700, 'mkaltental': 11701, 'wehklagen': 11702, 'rudigerkirsch': 11703, 'betrug': 11704, 'kinderficken': 11705, 'vergleichst': 11706, 'zuzuschreiben': 11707, 'kindesmissbrauch': 11708, 'haeusliche': 11709, 'gentlemind': 11710, 'tim': 11711, 'unkenntlich': 11712, 'btwahl2017': 11713, 'thyssenkrupp': 11714, 'kastensystem': 11715, 'reformator': 11716, 'institut': 11717, 'schaftsforschung': 11718, 'isolie': 11719, 'ihrer': 11720, 'kipping': 11721, 'schaedlinge': 11722, 'indonesischen': 11723, 'provinz': 11724, 'aceh': 11725, 'kuerzlich': 11726, 'islamisie': 11727, 'tolle': 11728, 'ceglarm': 11729, 'paradisepapaers': 11730, 'kriminelle': 11731, 'steuerhinterziehung': 11732, 'superreichen': 11733, 'fluechte': 11734, 'nachbarland': 11735, 'hassverbrechen': 11736, 'rbbinforadio': 11737, 'aktionaere': 11738, 'vw': 11739, 'verdraengen': 11740, 'nachruestung': 11741, 'dieselgate': 11742, '1969': 11743, 'browser': 11744, 'militaeroperation': 11745, 'bundesstaat': 11746, 'rakhaing': 11747, 'myanmar': 11748, 'haeuser': 11749, 'ethnischen': 11750, 'kopftuchzwang': 11751, 'protest': 11752, 'verbesserungen': 11753, 'iranprotest': 11754, 'ossi': 11755, 'unterirdisch': 11756, 'haesslichten': 11757, 'wahlpa': 11758, 'strunzdummes': 11759, 'blamieren': 11760, 'kapitales': 11761, 'versagen': 11762, 'saechsischer': 11763, 'jva': 11764, 'pk': 11765, 'unauffaelliger': 11766, 'gefangener': 11767, 'lampe': 11768, 'steckdose': 11769, 'begeht': 11770, 'bakr': 11771, 'alexabringmann': 11772, 'mullssl': 11773, 'berufung': 11774, 'einlegen': 11775, 'gemeine': 11776, 'soze': 11777, 'weltmacht': 11778, 'wachen': 11779, 'sanktionsandrohungen': 11780, 'unmenschlichen': 11781, 'strapazen': 11782, 'erholen': 11783, 'gdhring': 11784, 'gegensatz': 11785, 'unterwegs': 11786, 'piesteritz': 11787, 'hanisch': 11788, 'axtangriff': 11789, 'schreckliche': 11790, 'psychisch': 11791, 'kranken': 11792, 'vollstaendige': 11793, 'erholung': 11794, 'ihra': 11795, 'eigentum': 11796, 'braeuche': 11797, 'subsistenzwi': 11798, 'ernaehren': 11799, 'befielst': 11800, 'xi': 11801, 'xinping': 11802, 'umtriebe': 11803, 'ausmacht': 11804, 'sylketempel': 11805, 'bluten': 11806, 'weihnachtsstimmung': 11807, 'stoeren': 11808, 'traechtigen': 11809, 'events': 11810, 'wohnungslose': 11811, 'bezahlbaren': 11812, 'michaelumlandt': 11813, 'ze': 11814, 'ifizie': 11815, 'eifel': 11816, 'dialekt': 11817, 'transkribierer': 11818, 'abgeschlossen': 11819, 'wundere': 11820, 'maennchen': 11821, 'bezeugt': 11822, 'brandenburge': 11823, 'or': 11824, 'neukoelln': 11825, 'teilnehmer': 11826, 'selbstgemalte': 11827, 'entzuendet': 11828, 'roguefirstlady': 11829, 'first': 11830, 'lady': 11831, 'bono': 11832, 'zeichengrenze': 11833, 'verzehnfachen': 11834, 'beleg': 11835, 'wahrheitsgehalt': 11836, 'maerchenonkel': 11837, 'angepriesen': 11838, 'eingetrichte': 11839, 'widerspruechliche': 11840, 'vernichtet': 11841, 'ueberraschung': 11842, 'basie': 11843, 'kochen': 11844, 'wut': 11845, 'melix19': 11846, 'anfaengen': 11847, '1000mal': 11848, 'cam': 11849, 'gekniffen': 11850, 'rechtsrock': 11851, 'genre': 11852, 'stattfindenden': 11853, 'lautsprecherwagen': 11854, 'kindermoerder': 11855, 'intifada': 11856, 'parolen': 11857, 'gerufen': 11858, 'rico': 11859, 'caviezel': 11860, 'reifenstahl': 11861, 'schlimmster': 11862, 'alptraum': 11863, 'verbliebene': 11864, 'pragmatische': 11865, 'verwoehnt': 11866, 'durchwinkt': 11867, 'uepsilonniks1': 11868, 'sagst': 11869, 'arasbacho': 11870, 'aras': 11871, 'sonny250874': 11872, 'loga': 11873, 'steinmeiers': 11874, 'renatebergmann': 11875, 'notruf': 11876, 'nummer': 11877, 'zettel': 11878, 'kath': 11879, 'bluem': 11880, 'kanzleramtsminister': 11881, 'altmaier': 11882, 'schwitzt': 11883, 'volksverraeterpack': 11884, 'eigens': 11885, 'konflikten': 11886, 'withrefugees': 11887, 'handvoll': 11888, 'co2': 11889, 'ausstoss': 11890, 'senken': 11891, 'van': 11892, 'vleet': 11893, 'aussengrenzen': 11894, 'hilf': 11895, 'einfachen': 11896, 'gemuet': 11897, 'sachark': 11898, 'staatlichen': 11899, 'ichnicht': 11900, 'erscheint': 11901, 'steffen': 11902, 'rechne': 11903, 'monatsverdienst': 11904, 'besserverdiener': 11905, 'compact': 11906, 'konfernz': 11907, 'bester': 11908, 'verschwoerungsideologischer': 11909, 'manier': 11910, 'globalisten': 11911, 'globalem': 11912, 'finanzkapital': 11913, 'nocompact': 11914, 'reingepfuscht': 11915, 'westlicher': 11916, 'richtung': 11917, 'womoeglich': 11918, 'enf': 11919, 'efdd': 11920, 'verfaelscht': 11921, 'schminkflinte': 11922, 'sexistisch': 11923, 'verschiedener': 11924, 'wupperkauz': 11925, 'gebaeck': 11926, 'saisonspezifisch': 11927, 'rund': 11928, 'weihnachtszeit': 11929, '280': 11930, 'leviticus': 11931, 'beschreibung': 11932, 'jauche': 11933, 'bereicherung': 11934, 'betruegerpack': 11935, 'juristen': 11936, 'respektiere': 11937, 'ralficb': 11938, 'realfremd': 11939, 'fruehes': 11940, 'shabbat': 11941, 'ruhiges': 11942, 'wochenende': 11943, 'vergangenem': 11944, 'isolationshaft': 11945, 'verdaechtigen': 11946, 'anbeten': 11947, 'klick': 11948, 'saekularer': 11949, 'ruestungslobbyisten': 11950, 'aussenpolitisch': 11951, 'angeben': 11952, 'r2g': 11953, 'illusionaer': 11954, 'grundschulalter': 11955, 'ueberzieht': 11956, 'kabul': 11957, 'eckleben': 11958, 'dislike': 11959, 'button': 11960, 'totengraeber': 11961, 'rakeeede': 11962, 'insnamehier': 11963, 'bundesweite': 11964, 'sichtungen': 11965, 'voigt': 11966, 'abgeschaltet': 11967, 'alltags': 11968, 'kotze': 11969, 'genderquatsch': 11970, 'rueckspiegel': 11971, 'karren': 11972, 'udoulfkotte': 11973, 'gesundheitlich': 11974, 'siegerkranz': 11975, 'herrscher': 11976, 'vaterlands': 11977, 'fuehl': 11978, 'trohnes': 11979, 'glanz': 11980, 'wonne': 11981, 'liebling': 11982, 'volks': 11983, 'bezeichne': 11984, 'kriegsgeheul': 11985, 'saebelrasseln': 11986, 'entspannungspolitik': 11987, 'polnische': 11988, 'ostgebiete': 11989, '1990': 11990, 'autonomierechte': 11991, 'gewaeh': 11992, 'hasenscha': 11993, 'rknillmann': 11994, 'podilein': 11995, 'kunterbunt': 11996, 'multikultiliebhaber': 11997, 'stephanweil': 11998, 'kitas': 11999}\n"
          ]
        }
      ]
    },
    {
      "cell_type": "code",
      "source": [
        "\n",
        "\n",
        "encoded_clean_text_t_stem = tok_all.texts_to_sequences(clean_text_t_stem)\n",
        "print(clean_text_t_stem[0])\n",
        "print(encoded_clean_text_t_stem[0])\n",
        "\n"
      ],
      "metadata": {
        "colab": {
          "base_uri": "https://localhost:8080/"
        },
        "id": "-P-pLah2LPxY",
        "outputId": "a34a2ddb-9d6a-41b8-8fc2-41cff043dd33"
      },
      "execution_count": null,
      "outputs": [
        {
          "output_type": "stream",
          "name": "stdout",
          "text": [
            "mutter erzaehlt, vater wahlkreiskandidaten gewaehlt hat, homo-ehe  \n",
            "[2667, 847, 769, 1577, 42, 6896, 3573]\n"
          ]
        }
      ]
    },
    {
      "cell_type": "code",
      "source": [
        "\n",
        "\n",
        "from keras.preprocessing import sequence\n",
        "max_length = 100\n",
        "padded_clean_text_t_stem = sequence.pad_sequences(encoded_clean_text_t_stem, maxlen=max_length, padding='pre')\n",
        "\n"
      ],
      "metadata": {
        "id": "2pMhC-TaLSmb"
      },
      "execution_count": null,
      "outputs": []
    },
    {
      "cell_type": "markdown",
      "source": [
        "# FastText Embeddings\n"
      ],
      "metadata": {
        "id": "5X5wvSctLXIh"
      }
    },
    {
      "cell_type": "code",
      "source": [
        "from google.colab import drive\n",
        "drive.mount('/content/drive')"
      ],
      "metadata": {
        "colab": {
          "base_uri": "https://localhost:8080/"
        },
        "id": "dokXCwzTBF9C",
        "outputId": "55a55d9d-0ae0-44a2-8fb3-f5e64811689a"
      },
      "execution_count": null,
      "outputs": [
        {
          "output_type": "stream",
          "name": "stdout",
          "text": [
            "Mounted at /content/drive\n"
          ]
        }
      ]
    },
    {
      "cell_type": "code",
      "source": [
        "!gunzip /content/drive/MyDrive/cc.de.300.vec.gz"
      ],
      "metadata": {
        "id": "vWWgtLKGRqeg",
        "colab": {
          "base_uri": "https://localhost:8080/"
        },
        "outputId": "42b0a238-08d2-42e2-a74e-7be77388ac72"
      },
      "execution_count": null,
      "outputs": [
        {
          "output_type": "stream",
          "name": "stdout",
          "text": [
            "gzip: /content/drive/MyDrive/cc.de.300.vec.gz: No such file or directory\n"
          ]
        }
      ]
    },
    {
      "cell_type": "code",
      "source": [
        "# https://stackoverflow.com/questions/69964788/how-to-unzip-gz-file-using-google-colab\n",
        "\n",
        "# FastText Embedding link - https://fasttext.cc/docs/en/crawl-vectors.html\n",
        "\n",
        "import os\n",
        "embeddings_index = {}\n",
        "f = open('/content/drive/MyDrive/cc.de.300.vec',encoding='utf-8',errors='ignore')\n",
        "for line in f:\n",
        "    values = line.split()\n",
        "    word = values[0]\n",
        "    coefs = np.asarray(values[1:], dtype='float32')\n",
        "    embeddings_index[word] = coefs\n",
        "f.close()\n",
        "print('Loaded %s word vectors.' % len(embeddings_index))\n",
        "\n"
      ],
      "metadata": {
        "colab": {
          "base_uri": "https://localhost:8080/"
        },
        "id": "Qoiw0Dq_BQXE",
        "outputId": "e8cf9ede-8ab3-45f9-a851-ff2d48e952a3"
      },
      "execution_count": null,
      "outputs": [
        {
          "output_type": "stream",
          "name": "stdout",
          "text": [
            "Loaded 2000000 word vectors.\n"
          ]
        }
      ]
    },
    {
      "cell_type": "code",
      "source": [
        "\n",
        "\n",
        "embedding_matrix = np.zeros((vocabulary_all+1, 300))\n",
        "for word, i in tok_all.word_index.items():\n",
        "    embedding_vector = embeddings_index.get(word)\n",
        "    if embedding_vector is not None:\n",
        "         embedding_matrix[i] = embedding_vector\n",
        "\n"
      ],
      "metadata": {
        "id": "a3edF-OKEHme"
      },
      "execution_count": null,
      "outputs": []
    },
    {
      "cell_type": "markdown",
      "source": [
        "# CNN 1 Model\n"
      ],
      "metadata": {
        "id": "d6GOcaWlTm3y"
      }
    },
    {
      "cell_type": "code",
      "source": [
        "\n",
        "\n",
        "from keras.preprocessing import sequence\n",
        "from keras.preprocessing import text\n",
        "import numpy as np\n",
        "from keras.models import Sequential\n",
        "from keras.layers import Dense, Dropout, Activation\n",
        "from keras.layers import Embedding, LSTM\n",
        "from keras.layers import Conv1D, Flatten\n",
        "from keras.preprocessing import text\n",
        "from keras.models import Sequential,Model\n",
        "from keras.layers import Dense ,Activation,MaxPool1D,Conv1D,Flatten,Dropout,Activation,Dropout,Input,Lambda,concatenate\n",
        "from keras.utils import np_utils\n",
        "from nltk.corpus import stopwords\n",
        "from nltk.tokenize import RegexpTokenizer\n",
        "from nltk.stem.porter import PorterStemmer\n",
        "import nltk\n",
        "import csv\n",
        "import pandas as pd\n",
        "\n",
        "from keras.preprocessing import text as keras_text, sequence as keras_seq\n",
        "\n"
      ],
      "metadata": {
        "id": "9SFf_1_ITmRV"
      },
      "execution_count": null,
      "outputs": []
    },
    {
      "cell_type": "code",
      "source": [
        "Embedding_Layer = Embedding(vocabulary_all+1, 300, weights=[embedding_matrix], input_length=max_length)"
      ],
      "metadata": {
        "id": "-pMKAUQqTsLu"
      },
      "execution_count": null,
      "outputs": []
    },
    {
      "cell_type": "code",
      "source": [
        "CNN1_network=Sequential([Embedding_Layer,\n",
        "                        Conv1D(128,3,activation=\"relu\",padding='same'),\n",
        "                       Dropout(0.2),\n",
        "                       MaxPool1D(2),\n",
        "                       Flatten(),\n",
        "                       Dense(64,activation=\"relu\"),\n",
        "                       Dropout(0.3),\n",
        "                       Dense(2,activation=\"sigmoid\")\n",
        "                       ])\n",
        "\n"
      ],
      "metadata": {
        "id": "FjDa1as8Ts6r"
      },
      "execution_count": null,
      "outputs": []
    },
    {
      "cell_type": "code",
      "source": [
        "CNN1_network.summary()"
      ],
      "metadata": {
        "colab": {
          "base_uri": "https://localhost:8080/"
        },
        "id": "eiFSH30GTxM9",
        "outputId": "ea0662ff-df1a-454c-ac01-d2de320933b7"
      },
      "execution_count": null,
      "outputs": [
        {
          "output_type": "stream",
          "name": "stdout",
          "text": [
            "Model: \"sequential\"\n",
            "_________________________________________________________________\n",
            " Layer (type)                Output Shape              Param #   \n",
            "=================================================================\n",
            " embedding (Embedding)       (None, 100, 300)          5032200   \n",
            "                                                                 \n",
            " conv1d (Conv1D)             (None, 100, 128)          115328    \n",
            "                                                                 \n",
            " dropout (Dropout)           (None, 100, 128)          0         \n",
            "                                                                 \n",
            " max_pooling1d (MaxPooling1D  (None, 50, 128)          0         \n",
            " )                                                               \n",
            "                                                                 \n",
            " flatten (Flatten)           (None, 6400)              0         \n",
            "                                                                 \n",
            " dense (Dense)               (None, 64)                409664    \n",
            "                                                                 \n",
            " dropout_1 (Dropout)         (None, 64)                0         \n",
            "                                                                 \n",
            " dense_1 (Dense)             (None, 2)                 130       \n",
            "                                                                 \n",
            "=================================================================\n",
            "Total params: 5,557,322\n",
            "Trainable params: 5,557,322\n",
            "Non-trainable params: 0\n",
            "_________________________________________________________________\n"
          ]
        }
      ]
    },
    {
      "cell_type": "code",
      "source": [
        "# https://stackoverflow.com/questions/62707558/importerror-cannot-import-name-adam-from-keras-optimizers\n",
        "from tensorflow.keras.optimizers import Adam\n",
        "CNN1_network.compile(loss = \"binary_crossentropy\", optimizer=Adam(lr=0.00003), metrics=[\"accuracy\"])"
      ],
      "metadata": {
        "colab": {
          "base_uri": "https://localhost:8080/"
        },
        "id": "uhrug6aYT0dU",
        "outputId": "4d961276-b0fa-450c-f0df-0b6c68aa8844"
      },
      "execution_count": null,
      "outputs": [
        {
          "output_type": "stream",
          "name": "stderr",
          "text": [
            "/usr/local/lib/python3.7/dist-packages/keras/optimizer_v2/adam.py:105: UserWarning: The `lr` argument is deprecated, use `learning_rate` instead.\n",
            "  super(Adam, self).__init__(name, **kwargs)\n"
          ]
        }
      ]
    },
    {
      "cell_type": "code",
      "source": [
        "from keras.utils.vis_utils import plot_model\n",
        "plot_model(CNN1_network, to_file='CNN2_model_Train_GERMEVAL2019_Test_GERMEVAL2018_Task_A.png', show_shapes=True, show_layer_names=True)\n",
        "\n",
        "from keras.callbacks import EarlyStopping, ReduceLROnPlateau,ModelCheckpoint\n",
        "earlystopper = EarlyStopping(patience=8, verbose=1)\n",
        "\n",
        "reduce_lr = ReduceLROnPlateau(monitor='val_loss', factor=0.9,\n",
        "                              patience=2, min_lr=0.00001, verbose=1)\n",
        "\n"
      ],
      "metadata": {
        "id": "dt59qzVBT05I"
      },
      "execution_count": null,
      "outputs": []
    },
    {
      "cell_type": "code",
      "source": [
        "\n",
        "\n",
        "from keras.callbacks import EarlyStopping, ReduceLROnPlateau,ModelCheckpoint\n",
        "earlystopper = EarlyStopping(patience=8, verbose=1)\n",
        "\n",
        "reduce_lr = ReduceLROnPlateau(monitor='val_loss', factor=0.9,\n",
        "                              patience=2, min_lr=0.00001, verbose=1)\n",
        "\n"
      ],
      "metadata": {
        "id": "OcgGKGXRUYKs"
      },
      "execution_count": null,
      "outputs": []
    },
    {
      "cell_type": "markdown",
      "source": [
        "# Model Fitting or Training\n"
      ],
      "metadata": {
        "id": "ZzMJN4vKUauw"
      }
    },
    {
      "cell_type": "code",
      "source": [
        "hist = CNN1_network.fit(padded_clean_text_stem,label_twoDimension,epochs=200,batch_size=32,callbacks=[earlystopper, reduce_lr])"
      ],
      "metadata": {
        "colab": {
          "base_uri": "https://localhost:8080/"
        },
        "id": "0FdQuhx4ZP6B",
        "outputId": "82a896b7-df42-4dff-9486-109544c586a5"
      },
      "execution_count": null,
      "outputs": [
        {
          "output_type": "stream",
          "name": "stdout",
          "text": [
            "Epoch 1/200\n",
            "125/125 [==============================] - ETA: 0s - loss: 0.6574 - accuracy: 0.6611"
          ]
        },
        {
          "output_type": "stream",
          "name": "stderr",
          "text": [
            "WARNING:tensorflow:Early stopping conditioned on metric `val_loss` which is not available. Available metrics are: loss,accuracy\n",
            "WARNING:tensorflow:Learning rate reduction is conditioned on metric `val_loss` which is not available. Available metrics are: loss,accuracy,lr\n"
          ]
        },
        {
          "output_type": "stream",
          "name": "stdout",
          "text": [
            "\b\b\b\b\b\b\b\b\b\b\b\b\b\b\b\b\b\b\b\b\b\b\b\b\b\b\b\b\b\b\b\b\b\b\b\b\b\b\b\b\b\b\b\b\b\b\b\b\b\b\b\b\b\b\b\b\b\b\b\b\b\b\b\b\b\b\b\b\b\b\b\b\b\b\b\b\b\b\b\b\b\b\b\b\r125/125 [==============================] - 13s 7ms/step - loss: 0.6574 - accuracy: 0.6611 - lr: 3.0000e-05\n",
            "Epoch 2/200\n",
            "119/125 [===========================>..] - ETA: 0s - loss: 0.6235 - accuracy: 0.6770"
          ]
        },
        {
          "output_type": "stream",
          "name": "stderr",
          "text": [
            "WARNING:tensorflow:Early stopping conditioned on metric `val_loss` which is not available. Available metrics are: loss,accuracy\n",
            "WARNING:tensorflow:Learning rate reduction is conditioned on metric `val_loss` which is not available. Available metrics are: loss,accuracy,lr\n"
          ]
        },
        {
          "output_type": "stream",
          "name": "stdout",
          "text": [
            "\b\b\b\b\b\b\b\b\b\b\b\b\b\b\b\b\b\b\b\b\b\b\b\b\b\b\b\b\b\b\b\b\b\b\b\b\b\b\b\b\b\b\b\b\b\b\b\b\b\b\b\b\b\b\b\b\b\b\b\b\b\b\b\b\b\b\b\b\b\b\b\b\b\b\b\b\b\b\b\b\b\b\b\b\r125/125 [==============================] - 1s 7ms/step - loss: 0.6232 - accuracy: 0.6778 - lr: 3.0000e-05\n",
            "Epoch 3/200\n",
            "118/125 [===========================>..] - ETA: 0s - loss: 0.6160 - accuracy: 0.6803"
          ]
        },
        {
          "output_type": "stream",
          "name": "stderr",
          "text": [
            "WARNING:tensorflow:Early stopping conditioned on metric `val_loss` which is not available. Available metrics are: loss,accuracy\n",
            "WARNING:tensorflow:Learning rate reduction is conditioned on metric `val_loss` which is not available. Available metrics are: loss,accuracy,lr\n"
          ]
        },
        {
          "output_type": "stream",
          "name": "stdout",
          "text": [
            "\b\b\b\b\b\b\b\b\b\b\b\b\b\b\b\b\b\b\b\b\b\b\b\b\b\b\b\b\b\b\b\b\b\b\b\b\b\b\b\b\b\b\b\b\b\b\b\b\b\b\b\b\b\b\b\b\b\b\b\b\b\b\b\b\b\b\b\b\b\b\b\b\b\b\b\b\b\b\b\b\b\b\b\b\r125/125 [==============================] - 1s 7ms/step - loss: 0.6183 - accuracy: 0.6778 - lr: 3.0000e-05\n",
            "Epoch 4/200\n",
            "119/125 [===========================>..] - ETA: 0s - loss: 0.6107 - accuracy: 0.6780"
          ]
        },
        {
          "output_type": "stream",
          "name": "stderr",
          "text": [
            "WARNING:tensorflow:Early stopping conditioned on metric `val_loss` which is not available. Available metrics are: loss,accuracy\n",
            "WARNING:tensorflow:Learning rate reduction is conditioned on metric `val_loss` which is not available. Available metrics are: loss,accuracy,lr\n"
          ]
        },
        {
          "output_type": "stream",
          "name": "stdout",
          "text": [
            "\b\b\b\b\b\b\b\b\b\b\b\b\b\b\b\b\b\b\b\b\b\b\b\b\b\b\b\b\b\b\b\b\b\b\b\b\b\b\b\b\b\b\b\b\b\b\b\b\b\b\b\b\b\b\b\b\b\b\b\b\b\b\b\b\b\b\b\b\b\b\b\b\b\b\b\b\b\b\b\b\b\b\b\b\r125/125 [==============================] - 1s 7ms/step - loss: 0.6106 - accuracy: 0.6778 - lr: 3.0000e-05\n",
            "Epoch 5/200\n",
            "124/125 [============================>.] - ETA: 0s - loss: 0.6036 - accuracy: 0.6789"
          ]
        },
        {
          "output_type": "stream",
          "name": "stderr",
          "text": [
            "WARNING:tensorflow:Early stopping conditioned on metric `val_loss` which is not available. Available metrics are: loss,accuracy\n",
            "WARNING:tensorflow:Learning rate reduction is conditioned on metric `val_loss` which is not available. Available metrics are: loss,accuracy,lr\n"
          ]
        },
        {
          "output_type": "stream",
          "name": "stdout",
          "text": [
            "\b\b\b\b\b\b\b\b\b\b\b\b\b\b\b\b\b\b\b\b\b\b\b\b\b\b\b\b\b\b\b\b\b\b\b\b\b\b\b\b\b\b\b\b\b\b\b\b\b\b\b\b\b\b\b\b\b\b\b\b\b\b\b\b\b\b\b\b\b\b\b\b\b\b\b\b\b\b\b\b\b\b\b\b\r125/125 [==============================] - 1s 7ms/step - loss: 0.6041 - accuracy: 0.6781 - lr: 3.0000e-05\n",
            "Epoch 6/200\n",
            "120/125 [===========================>..] - ETA: 0s - loss: 0.5940 - accuracy: 0.6776"
          ]
        },
        {
          "output_type": "stream",
          "name": "stderr",
          "text": [
            "WARNING:tensorflow:Early stopping conditioned on metric `val_loss` which is not available. Available metrics are: loss,accuracy\n",
            "WARNING:tensorflow:Learning rate reduction is conditioned on metric `val_loss` which is not available. Available metrics are: loss,accuracy,lr\n"
          ]
        },
        {
          "output_type": "stream",
          "name": "stdout",
          "text": [
            "\b\b\b\b\b\b\b\b\b\b\b\b\b\b\b\b\b\b\b\b\b\b\b\b\b\b\b\b\b\b\b\b\b\b\b\b\b\b\b\b\b\b\b\b\b\b\b\b\b\b\b\b\b\b\b\b\b\b\b\b\b\b\b\b\b\b\b\b\b\b\b\b\b\b\b\b\b\b\b\b\b\b\b\b\r125/125 [==============================] - 1s 7ms/step - loss: 0.5941 - accuracy: 0.6783 - lr: 3.0000e-05\n",
            "Epoch 7/200\n",
            "119/125 [===========================>..] - ETA: 0s - loss: 0.5835 - accuracy: 0.6820"
          ]
        },
        {
          "output_type": "stream",
          "name": "stderr",
          "text": [
            "WARNING:tensorflow:Early stopping conditioned on metric `val_loss` which is not available. Available metrics are: loss,accuracy\n",
            "WARNING:tensorflow:Learning rate reduction is conditioned on metric `val_loss` which is not available. Available metrics are: loss,accuracy,lr\n"
          ]
        },
        {
          "output_type": "stream",
          "name": "stdout",
          "text": [
            "\b\b\b\b\b\b\b\b\b\b\b\b\b\b\b\b\b\b\b\b\b\b\b\b\b\b\b\b\b\b\b\b\b\b\b\b\b\b\b\b\b\b\b\b\b\b\b\b\b\b\b\b\b\b\b\b\b\b\b\b\b\b\b\b\b\b\b\b\b\b\b\b\b\b\b\b\b\b\b\b\b\b\b\b\r125/125 [==============================] - 1s 7ms/step - loss: 0.5852 - accuracy: 0.6804 - lr: 3.0000e-05\n",
            "Epoch 8/200\n",
            "119/125 [===========================>..] - ETA: 0s - loss: 0.5672 - accuracy: 0.6899"
          ]
        },
        {
          "output_type": "stream",
          "name": "stderr",
          "text": [
            "WARNING:tensorflow:Early stopping conditioned on metric `val_loss` which is not available. Available metrics are: loss,accuracy\n",
            "WARNING:tensorflow:Learning rate reduction is conditioned on metric `val_loss` which is not available. Available metrics are: loss,accuracy,lr\n"
          ]
        },
        {
          "output_type": "stream",
          "name": "stdout",
          "text": [
            "\b\b\b\b\b\b\b\b\b\b\b\b\b\b\b\b\b\b\b\b\b\b\b\b\b\b\b\b\b\b\b\b\b\b\b\b\b\b\b\b\b\b\b\b\b\b\b\b\b\b\b\b\b\b\b\b\b\b\b\b\b\b\b\b\b\b\b\b\b\b\b\b\b\b\b\b\b\b\b\b\b\b\b\b\r125/125 [==============================] - 1s 7ms/step - loss: 0.5671 - accuracy: 0.6894 - lr: 3.0000e-05\n",
            "Epoch 9/200\n",
            "120/125 [===========================>..] - ETA: 0s - loss: 0.5445 - accuracy: 0.7146"
          ]
        },
        {
          "output_type": "stream",
          "name": "stderr",
          "text": [
            "WARNING:tensorflow:Early stopping conditioned on metric `val_loss` which is not available. Available metrics are: loss,accuracy\n",
            "WARNING:tensorflow:Learning rate reduction is conditioned on metric `val_loss` which is not available. Available metrics are: loss,accuracy,lr\n"
          ]
        },
        {
          "output_type": "stream",
          "name": "stdout",
          "text": [
            "\b\b\b\b\b\b\b\b\b\b\b\b\b\b\b\b\b\b\b\b\b\b\b\b\b\b\b\b\b\b\b\b\b\b\b\b\b\b\b\b\b\b\b\b\b\b\b\b\b\b\b\b\b\b\b\b\b\b\b\b\b\b\b\b\b\b\b\b\b\b\b\b\b\b\b\b\b\b\b\b\b\b\b\b\r125/125 [==============================] - 1s 7ms/step - loss: 0.5466 - accuracy: 0.7121 - lr: 3.0000e-05\n",
            "Epoch 10/200\n",
            "120/125 [===========================>..] - ETA: 0s - loss: 0.5237 - accuracy: 0.7352"
          ]
        },
        {
          "output_type": "stream",
          "name": "stderr",
          "text": [
            "WARNING:tensorflow:Early stopping conditioned on metric `val_loss` which is not available. Available metrics are: loss,accuracy\n",
            "WARNING:tensorflow:Learning rate reduction is conditioned on metric `val_loss` which is not available. Available metrics are: loss,accuracy,lr\n"
          ]
        },
        {
          "output_type": "stream",
          "name": "stdout",
          "text": [
            "\b\b\b\b\b\b\b\b\b\b\b\b\b\b\b\b\b\b\b\b\b\b\b\b\b\b\b\b\b\b\b\b\b\b\b\b\b\b\b\b\b\b\b\b\b\b\b\b\b\b\b\b\b\b\b\b\b\b\b\b\b\b\b\b\b\b\b\b\b\b\b\b\b\b\b\b\b\b\b\b\b\b\b\b\r125/125 [==============================] - 1s 7ms/step - loss: 0.5241 - accuracy: 0.7357 - lr: 3.0000e-05\n",
            "Epoch 11/200\n",
            "118/125 [===========================>..] - ETA: 0s - loss: 0.4924 - accuracy: 0.7760"
          ]
        },
        {
          "output_type": "stream",
          "name": "stderr",
          "text": [
            "WARNING:tensorflow:Early stopping conditioned on metric `val_loss` which is not available. Available metrics are: loss,accuracy\n",
            "WARNING:tensorflow:Learning rate reduction is conditioned on metric `val_loss` which is not available. Available metrics are: loss,accuracy,lr\n"
          ]
        },
        {
          "output_type": "stream",
          "name": "stdout",
          "text": [
            "\b\b\b\b\b\b\b\b\b\b\b\b\b\b\b\b\b\b\b\b\b\b\b\b\b\b\b\b\b\b\b\b\b\b\b\b\b\b\b\b\b\b\b\b\b\b\b\b\b\b\b\b\b\b\b\b\b\b\b\b\b\b\b\b\b\b\b\b\b\b\b\b\b\b\b\b\b\b\b\b\b\b\b\b\r125/125 [==============================] - 1s 7ms/step - loss: 0.4921 - accuracy: 0.7762 - lr: 3.0000e-05\n",
            "Epoch 12/200\n",
            "120/125 [===========================>..] - ETA: 0s - loss: 0.4569 - accuracy: 0.8070"
          ]
        },
        {
          "output_type": "stream",
          "name": "stderr",
          "text": [
            "WARNING:tensorflow:Early stopping conditioned on metric `val_loss` which is not available. Available metrics are: loss,accuracy\n",
            "WARNING:tensorflow:Learning rate reduction is conditioned on metric `val_loss` which is not available. Available metrics are: loss,accuracy,lr\n"
          ]
        },
        {
          "output_type": "stream",
          "name": "stdout",
          "text": [
            "\b\b\b\b\b\b\b\b\b\b\b\b\b\b\b\b\b\b\b\b\b\b\b\b\b\b\b\b\b\b\b\b\b\b\b\b\b\b\b\b\b\b\b\b\b\b\b\b\b\b\b\b\b\b\b\b\b\b\b\b\b\b\b\b\b\b\b\b\b\b\b\b\b\b\b\b\b\b\b\b\b\b\b\b\r125/125 [==============================] - 1s 7ms/step - loss: 0.4547 - accuracy: 0.8098 - lr: 3.0000e-05\n",
            "Epoch 13/200\n",
            "121/125 [============================>.] - ETA: 0s - loss: 0.4088 - accuracy: 0.8435"
          ]
        },
        {
          "output_type": "stream",
          "name": "stderr",
          "text": [
            "WARNING:tensorflow:Early stopping conditioned on metric `val_loss` which is not available. Available metrics are: loss,accuracy\n",
            "WARNING:tensorflow:Learning rate reduction is conditioned on metric `val_loss` which is not available. Available metrics are: loss,accuracy,lr\n"
          ]
        },
        {
          "output_type": "stream",
          "name": "stdout",
          "text": [
            "\b\b\b\b\b\b\b\b\b\b\b\b\b\b\b\b\b\b\b\b\b\b\b\b\b\b\b\b\b\b\b\b\b\b\b\b\b\b\b\b\b\b\b\b\b\b\b\b\b\b\b\b\b\b\b\b\b\b\b\b\b\b\b\b\b\b\b\b\b\b\b\b\b\b\b\b\b\b\b\b\b\b\b\b\r125/125 [==============================] - 1s 7ms/step - loss: 0.4083 - accuracy: 0.8433 - lr: 3.0000e-05\n",
            "Epoch 14/200\n",
            "121/125 [============================>.] - ETA: 0s - loss: 0.3646 - accuracy: 0.8737"
          ]
        },
        {
          "output_type": "stream",
          "name": "stderr",
          "text": [
            "WARNING:tensorflow:Early stopping conditioned on metric `val_loss` which is not available. Available metrics are: loss,accuracy\n",
            "WARNING:tensorflow:Learning rate reduction is conditioned on metric `val_loss` which is not available. Available metrics are: loss,accuracy,lr\n"
          ]
        },
        {
          "output_type": "stream",
          "name": "stdout",
          "text": [
            "\b\b\b\b\b\b\b\b\b\b\b\b\b\b\b\b\b\b\b\b\b\b\b\b\b\b\b\b\b\b\b\b\b\b\b\b\b\b\b\b\b\b\b\b\b\b\b\b\b\b\b\b\b\b\b\b\b\b\b\b\b\b\b\b\b\b\b\b\b\b\b\b\b\b\b\b\b\b\b\b\b\b\b\b\r125/125 [==============================] - 1s 7ms/step - loss: 0.3660 - accuracy: 0.8733 - lr: 3.0000e-05\n",
            "Epoch 15/200\n",
            "118/125 [===========================>..] - ETA: 0s - loss: 0.3212 - accuracy: 0.8986"
          ]
        },
        {
          "output_type": "stream",
          "name": "stderr",
          "text": [
            "WARNING:tensorflow:Early stopping conditioned on metric `val_loss` which is not available. Available metrics are: loss,accuracy\n",
            "WARNING:tensorflow:Learning rate reduction is conditioned on metric `val_loss` which is not available. Available metrics are: loss,accuracy,lr\n"
          ]
        },
        {
          "output_type": "stream",
          "name": "stdout",
          "text": [
            "\b\b\b\b\b\b\b\b\b\b\b\b\b\b\b\b\b\b\b\b\b\b\b\b\b\b\b\b\b\b\b\b\b\b\b\b\b\b\b\b\b\b\b\b\b\b\b\b\b\b\b\b\b\b\b\b\b\b\b\b\b\b\b\b\b\b\b\b\b\b\b\b\b\b\b\b\b\b\b\b\b\b\b\b\r125/125 [==============================] - 1s 7ms/step - loss: 0.3191 - accuracy: 0.8991 - lr: 3.0000e-05\n",
            "Epoch 16/200\n",
            "119/125 [===========================>..] - ETA: 0s - loss: 0.2724 - accuracy: 0.9228"
          ]
        },
        {
          "output_type": "stream",
          "name": "stderr",
          "text": [
            "WARNING:tensorflow:Early stopping conditioned on metric `val_loss` which is not available. Available metrics are: loss,accuracy\n",
            "WARNING:tensorflow:Learning rate reduction is conditioned on metric `val_loss` which is not available. Available metrics are: loss,accuracy,lr\n"
          ]
        },
        {
          "output_type": "stream",
          "name": "stdout",
          "text": [
            "\b\b\b\b\b\b\b\b\b\b\b\b\b\b\b\b\b\b\b\b\b\b\b\b\b\b\b\b\b\b\b\b\b\b\b\b\b\b\b\b\b\b\b\b\b\b\b\b\b\b\b\b\b\b\b\b\b\b\b\b\b\b\b\b\b\b\b\b\b\b\b\b\b\b\b\b\b\b\b\b\b\b\b\b\r125/125 [==============================] - 1s 7ms/step - loss: 0.2718 - accuracy: 0.9242 - lr: 3.0000e-05\n",
            "Epoch 17/200\n",
            "119/125 [===========================>..] - ETA: 0s - loss: 0.2324 - accuracy: 0.9430"
          ]
        },
        {
          "output_type": "stream",
          "name": "stderr",
          "text": [
            "WARNING:tensorflow:Early stopping conditioned on metric `val_loss` which is not available. Available metrics are: loss,accuracy\n",
            "WARNING:tensorflow:Learning rate reduction is conditioned on metric `val_loss` which is not available. Available metrics are: loss,accuracy,lr\n"
          ]
        },
        {
          "output_type": "stream",
          "name": "stdout",
          "text": [
            "\b\b\b\b\b\b\b\b\b\b\b\b\b\b\b\b\b\b\b\b\b\b\b\b\b\b\b\b\b\b\b\b\b\b\b\b\b\b\b\b\b\b\b\b\b\b\b\b\b\b\b\b\b\b\b\b\b\b\b\b\b\b\b\b\b\b\b\b\b\b\b\b\b\b\b\b\b\b\b\b\b\b\b\b\r125/125 [==============================] - 1s 7ms/step - loss: 0.2326 - accuracy: 0.9422 - lr: 3.0000e-05\n",
            "Epoch 18/200\n",
            "123/125 [============================>.] - ETA: 0s - loss: 0.1957 - accuracy: 0.9507"
          ]
        },
        {
          "output_type": "stream",
          "name": "stderr",
          "text": [
            "WARNING:tensorflow:Early stopping conditioned on metric `val_loss` which is not available. Available metrics are: loss,accuracy\n",
            "WARNING:tensorflow:Learning rate reduction is conditioned on metric `val_loss` which is not available. Available metrics are: loss,accuracy,lr\n"
          ]
        },
        {
          "output_type": "stream",
          "name": "stdout",
          "text": [
            "\b\b\b\b\b\b\b\b\b\b\b\b\b\b\b\b\b\b\b\b\b\b\b\b\b\b\b\b\b\b\b\b\b\b\b\b\b\b\b\b\b\b\b\b\b\b\b\b\b\b\b\b\b\b\b\b\b\b\b\b\b\b\b\b\b\b\b\b\b\b\b\b\b\b\b\b\b\b\b\b\b\b\b\b\r125/125 [==============================] - 1s 7ms/step - loss: 0.1966 - accuracy: 0.9504 - lr: 3.0000e-05\n",
            "Epoch 19/200\n",
            "121/125 [============================>.] - ETA: 0s - loss: 0.1673 - accuracy: 0.9631"
          ]
        },
        {
          "output_type": "stream",
          "name": "stderr",
          "text": [
            "WARNING:tensorflow:Early stopping conditioned on metric `val_loss` which is not available. Available metrics are: loss,accuracy\n",
            "WARNING:tensorflow:Learning rate reduction is conditioned on metric `val_loss` which is not available. Available metrics are: loss,accuracy,lr\n"
          ]
        },
        {
          "output_type": "stream",
          "name": "stdout",
          "text": [
            "\b\b\b\b\b\b\b\b\b\b\b\b\b\b\b\b\b\b\b\b\b\b\b\b\b\b\b\b\b\b\b\b\b\b\b\b\b\b\b\b\b\b\b\b\b\b\b\b\b\b\b\b\b\b\b\b\b\b\b\b\b\b\b\b\b\b\b\b\b\b\b\b\b\b\b\b\b\b\b\b\b\b\b\b\r125/125 [==============================] - 1s 7ms/step - loss: 0.1675 - accuracy: 0.9630 - lr: 3.0000e-05\n",
            "Epoch 20/200\n",
            "119/125 [===========================>..] - ETA: 0s - loss: 0.1385 - accuracy: 0.9695"
          ]
        },
        {
          "output_type": "stream",
          "name": "stderr",
          "text": [
            "WARNING:tensorflow:Early stopping conditioned on metric `val_loss` which is not available. Available metrics are: loss,accuracy\n",
            "WARNING:tensorflow:Learning rate reduction is conditioned on metric `val_loss` which is not available. Available metrics are: loss,accuracy,lr\n"
          ]
        },
        {
          "output_type": "stream",
          "name": "stdout",
          "text": [
            "\b\b\b\b\b\b\b\b\b\b\b\b\b\b\b\b\b\b\b\b\b\b\b\b\b\b\b\b\b\b\b\b\b\b\b\b\b\b\b\b\b\b\b\b\b\b\b\b\b\b\b\b\b\b\b\b\b\b\b\b\b\b\b\b\b\b\b\b\b\b\b\b\b\b\b\b\b\b\b\b\b\b\b\b\r125/125 [==============================] - 1s 7ms/step - loss: 0.1389 - accuracy: 0.9690 - lr: 3.0000e-05\n",
            "Epoch 21/200\n",
            "118/125 [===========================>..] - ETA: 0s - loss: 0.1172 - accuracy: 0.9751"
          ]
        },
        {
          "output_type": "stream",
          "name": "stderr",
          "text": [
            "WARNING:tensorflow:Early stopping conditioned on metric `val_loss` which is not available. Available metrics are: loss,accuracy\n",
            "WARNING:tensorflow:Learning rate reduction is conditioned on metric `val_loss` which is not available. Available metrics are: loss,accuracy,lr\n"
          ]
        },
        {
          "output_type": "stream",
          "name": "stdout",
          "text": [
            "\b\b\b\b\b\b\b\b\b\b\b\b\b\b\b\b\b\b\b\b\b\b\b\b\b\b\b\b\b\b\b\b\b\b\b\b\b\b\b\b\b\b\b\b\b\b\b\b\b\b\b\b\b\b\b\b\b\b\b\b\b\b\b\b\b\b\b\b\b\b\b\b\b\b\b\b\b\b\b\b\b\b\b\b\r125/125 [==============================] - 1s 7ms/step - loss: 0.1163 - accuracy: 0.9755 - lr: 3.0000e-05\n",
            "Epoch 22/200\n",
            "119/125 [===========================>..] - ETA: 0s - loss: 0.1006 - accuracy: 0.9824"
          ]
        },
        {
          "output_type": "stream",
          "name": "stderr",
          "text": [
            "WARNING:tensorflow:Early stopping conditioned on metric `val_loss` which is not available. Available metrics are: loss,accuracy\n",
            "WARNING:tensorflow:Learning rate reduction is conditioned on metric `val_loss` which is not available. Available metrics are: loss,accuracy,lr\n"
          ]
        },
        {
          "output_type": "stream",
          "name": "stdout",
          "text": [
            "\b\b\b\b\b\b\b\b\b\b\b\b\b\b\b\b\b\b\b\b\b\b\b\b\b\b\b\b\b\b\b\b\b\b\b\b\b\b\b\b\b\b\b\b\b\b\b\b\b\b\b\b\b\b\b\b\b\b\b\b\b\b\b\b\b\b\b\b\b\b\b\b\b\b\b\b\b\b\b\b\b\b\b\b\r125/125 [==============================] - 1s 7ms/step - loss: 0.0998 - accuracy: 0.9825 - lr: 3.0000e-05\n",
            "Epoch 23/200\n",
            "119/125 [===========================>..] - ETA: 0s - loss: 0.0853 - accuracy: 0.9845"
          ]
        },
        {
          "output_type": "stream",
          "name": "stderr",
          "text": [
            "WARNING:tensorflow:Early stopping conditioned on metric `val_loss` which is not available. Available metrics are: loss,accuracy\n",
            "WARNING:tensorflow:Learning rate reduction is conditioned on metric `val_loss` which is not available. Available metrics are: loss,accuracy,lr\n"
          ]
        },
        {
          "output_type": "stream",
          "name": "stdout",
          "text": [
            "\b\b\b\b\b\b\b\b\b\b\b\b\b\b\b\b\b\b\b\b\b\b\b\b\b\b\b\b\b\b\b\b\b\b\b\b\b\b\b\b\b\b\b\b\b\b\b\b\b\b\b\b\b\b\b\b\b\b\b\b\b\b\b\b\b\b\b\b\b\b\b\b\b\b\b\b\b\b\b\b\b\b\b\b\r125/125 [==============================] - 1s 7ms/step - loss: 0.0846 - accuracy: 0.9847 - lr: 3.0000e-05\n",
            "Epoch 24/200\n",
            "120/125 [===========================>..] - ETA: 0s - loss: 0.0740 - accuracy: 0.9867"
          ]
        },
        {
          "output_type": "stream",
          "name": "stderr",
          "text": [
            "WARNING:tensorflow:Early stopping conditioned on metric `val_loss` which is not available. Available metrics are: loss,accuracy\n",
            "WARNING:tensorflow:Learning rate reduction is conditioned on metric `val_loss` which is not available. Available metrics are: loss,accuracy,lr\n"
          ]
        },
        {
          "output_type": "stream",
          "name": "stdout",
          "text": [
            "\b\b\b\b\b\b\b\b\b\b\b\b\b\b\b\b\b\b\b\b\b\b\b\b\b\b\b\b\b\b\b\b\b\b\b\b\b\b\b\b\b\b\b\b\b\b\b\b\b\b\b\b\b\b\b\b\b\b\b\b\b\b\b\b\b\b\b\b\b\b\b\b\b\b\b\b\b\b\b\b\b\b\b\b\r125/125 [==============================] - 1s 7ms/step - loss: 0.0734 - accuracy: 0.9872 - lr: 3.0000e-05\n",
            "Epoch 25/200\n",
            "118/125 [===========================>..] - ETA: 0s - loss: 0.0582 - accuracy: 0.9931"
          ]
        },
        {
          "output_type": "stream",
          "name": "stderr",
          "text": [
            "WARNING:tensorflow:Early stopping conditioned on metric `val_loss` which is not available. Available metrics are: loss,accuracy\n",
            "WARNING:tensorflow:Learning rate reduction is conditioned on metric `val_loss` which is not available. Available metrics are: loss,accuracy,lr\n"
          ]
        },
        {
          "output_type": "stream",
          "name": "stdout",
          "text": [
            "\b\b\b\b\b\b\b\b\b\b\b\b\b\b\b\b\b\b\b\b\b\b\b\b\b\b\b\b\b\b\b\b\b\b\b\b\b\b\b\b\b\b\b\b\b\b\b\b\b\b\b\b\b\b\b\b\b\b\b\b\b\b\b\b\b\b\b\b\b\b\b\b\b\b\b\b\b\b\b\b\b\b\b\b\r125/125 [==============================] - 1s 7ms/step - loss: 0.0581 - accuracy: 0.9930 - lr: 3.0000e-05\n",
            "Epoch 26/200\n",
            "119/125 [===========================>..] - ETA: 0s - loss: 0.0526 - accuracy: 0.9921"
          ]
        },
        {
          "output_type": "stream",
          "name": "stderr",
          "text": [
            "WARNING:tensorflow:Early stopping conditioned on metric `val_loss` which is not available. Available metrics are: loss,accuracy\n",
            "WARNING:tensorflow:Learning rate reduction is conditioned on metric `val_loss` which is not available. Available metrics are: loss,accuracy,lr\n"
          ]
        },
        {
          "output_type": "stream",
          "name": "stdout",
          "text": [
            "\b\b\b\b\b\b\b\b\b\b\b\b\b\b\b\b\b\b\b\b\b\b\b\b\b\b\b\b\b\b\b\b\b\b\b\b\b\b\b\b\b\b\b\b\b\b\b\b\b\b\b\b\b\b\b\b\b\b\b\b\b\b\b\b\b\b\b\b\b\b\b\b\b\b\b\b\b\b\b\b\b\b\b\b\r125/125 [==============================] - 1s 7ms/step - loss: 0.0521 - accuracy: 0.9925 - lr: 3.0000e-05\n",
            "Epoch 27/200\n",
            "125/125 [==============================] - ETA: 0s - loss: 0.0447 - accuracy: 0.9940"
          ]
        },
        {
          "output_type": "stream",
          "name": "stderr",
          "text": [
            "WARNING:tensorflow:Early stopping conditioned on metric `val_loss` which is not available. Available metrics are: loss,accuracy\n",
            "WARNING:tensorflow:Learning rate reduction is conditioned on metric `val_loss` which is not available. Available metrics are: loss,accuracy,lr\n"
          ]
        },
        {
          "output_type": "stream",
          "name": "stdout",
          "text": [
            "\b\b\b\b\b\b\b\b\b\b\b\b\b\b\b\b\b\b\b\b\b\b\b\b\b\b\b\b\b\b\b\b\b\b\b\b\b\b\b\b\b\b\b\b\b\b\b\b\b\b\b\b\b\b\b\b\b\b\b\b\b\b\b\b\b\b\b\b\b\b\b\b\b\b\b\b\b\b\b\b\b\b\b\b\r125/125 [==============================] - 1s 7ms/step - loss: 0.0447 - accuracy: 0.9940 - lr: 3.0000e-05\n",
            "Epoch 28/200\n",
            "120/125 [===========================>..] - ETA: 0s - loss: 0.0383 - accuracy: 0.9956"
          ]
        },
        {
          "output_type": "stream",
          "name": "stderr",
          "text": [
            "WARNING:tensorflow:Early stopping conditioned on metric `val_loss` which is not available. Available metrics are: loss,accuracy\n",
            "WARNING:tensorflow:Learning rate reduction is conditioned on metric `val_loss` which is not available. Available metrics are: loss,accuracy,lr\n"
          ]
        },
        {
          "output_type": "stream",
          "name": "stdout",
          "text": [
            "\b\b\b\b\b\b\b\b\b\b\b\b\b\b\b\b\b\b\b\b\b\b\b\b\b\b\b\b\b\b\b\b\b\b\b\b\b\b\b\b\b\b\b\b\b\b\b\b\b\b\b\b\b\b\b\b\b\b\b\b\b\b\b\b\b\b\b\b\b\b\b\b\b\b\b\b\b\b\b\b\b\b\b\b\r125/125 [==============================] - 1s 7ms/step - loss: 0.0389 - accuracy: 0.9952 - lr: 3.0000e-05\n",
            "Epoch 29/200\n",
            "125/125 [==============================] - ETA: 0s - loss: 0.0334 - accuracy: 0.9965"
          ]
        },
        {
          "output_type": "stream",
          "name": "stderr",
          "text": [
            "WARNING:tensorflow:Early stopping conditioned on metric `val_loss` which is not available. Available metrics are: loss,accuracy\n",
            "WARNING:tensorflow:Learning rate reduction is conditioned on metric `val_loss` which is not available. Available metrics are: loss,accuracy,lr\n"
          ]
        },
        {
          "output_type": "stream",
          "name": "stdout",
          "text": [
            "\b\b\b\b\b\b\b\b\b\b\b\b\b\b\b\b\b\b\b\b\b\b\b\b\b\b\b\b\b\b\b\b\b\b\b\b\b\b\b\b\b\b\b\b\b\b\b\b\b\b\b\b\b\b\b\b\b\b\b\b\b\b\b\b\b\b\b\b\b\b\b\b\b\b\b\b\b\b\b\b\b\b\b\b\r125/125 [==============================] - 1s 7ms/step - loss: 0.0334 - accuracy: 0.9965 - lr: 3.0000e-05\n",
            "Epoch 30/200\n",
            "118/125 [===========================>..] - ETA: 0s - loss: 0.0281 - accuracy: 0.9971"
          ]
        },
        {
          "output_type": "stream",
          "name": "stderr",
          "text": [
            "WARNING:tensorflow:Early stopping conditioned on metric `val_loss` which is not available. Available metrics are: loss,accuracy\n",
            "WARNING:tensorflow:Learning rate reduction is conditioned on metric `val_loss` which is not available. Available metrics are: loss,accuracy,lr\n"
          ]
        },
        {
          "output_type": "stream",
          "name": "stdout",
          "text": [
            "\b\b\b\b\b\b\b\b\b\b\b\b\b\b\b\b\b\b\b\b\b\b\b\b\b\b\b\b\b\b\b\b\b\b\b\b\b\b\b\b\b\b\b\b\b\b\b\b\b\b\b\b\b\b\b\b\b\b\b\b\b\b\b\b\b\b\b\b\b\b\b\b\b\b\b\b\b\b\b\b\b\b\b\b\r125/125 [==============================] - 1s 7ms/step - loss: 0.0283 - accuracy: 0.9970 - lr: 3.0000e-05\n",
            "Epoch 31/200\n",
            "120/125 [===========================>..] - ETA: 0s - loss: 0.0255 - accuracy: 0.9969"
          ]
        },
        {
          "output_type": "stream",
          "name": "stderr",
          "text": [
            "WARNING:tensorflow:Early stopping conditioned on metric `val_loss` which is not available. Available metrics are: loss,accuracy\n",
            "WARNING:tensorflow:Learning rate reduction is conditioned on metric `val_loss` which is not available. Available metrics are: loss,accuracy,lr\n"
          ]
        },
        {
          "output_type": "stream",
          "name": "stdout",
          "text": [
            "\b\b\b\b\b\b\b\b\b\b\b\b\b\b\b\b\b\b\b\b\b\b\b\b\b\b\b\b\b\b\b\b\b\b\b\b\b\b\b\b\b\b\b\b\b\b\b\b\b\b\b\b\b\b\b\b\b\b\b\b\b\b\b\b\b\b\b\b\b\b\b\b\b\b\b\b\b\b\b\b\b\b\b\b\r125/125 [==============================] - 1s 7ms/step - loss: 0.0256 - accuracy: 0.9967 - lr: 3.0000e-05\n",
            "Epoch 32/200\n",
            "121/125 [============================>.] - ETA: 0s - loss: 0.0214 - accuracy: 0.9979"
          ]
        },
        {
          "output_type": "stream",
          "name": "stderr",
          "text": [
            "WARNING:tensorflow:Early stopping conditioned on metric `val_loss` which is not available. Available metrics are: loss,accuracy\n",
            "WARNING:tensorflow:Learning rate reduction is conditioned on metric `val_loss` which is not available. Available metrics are: loss,accuracy,lr\n"
          ]
        },
        {
          "output_type": "stream",
          "name": "stdout",
          "text": [
            "\b\b\b\b\b\b\b\b\b\b\b\b\b\b\b\b\b\b\b\b\b\b\b\b\b\b\b\b\b\b\b\b\b\b\b\b\b\b\b\b\b\b\b\b\b\b\b\b\b\b\b\b\b\b\b\b\b\b\b\b\b\b\b\b\b\b\b\b\b\b\b\b\b\b\b\b\b\b\b\b\b\b\b\b\r125/125 [==============================] - 1s 7ms/step - loss: 0.0212 - accuracy: 0.9980 - lr: 3.0000e-05\n",
            "Epoch 33/200\n",
            "119/125 [===========================>..] - ETA: 0s - loss: 0.0184 - accuracy: 0.9992"
          ]
        },
        {
          "output_type": "stream",
          "name": "stderr",
          "text": [
            "WARNING:tensorflow:Early stopping conditioned on metric `val_loss` which is not available. Available metrics are: loss,accuracy\n",
            "WARNING:tensorflow:Learning rate reduction is conditioned on metric `val_loss` which is not available. Available metrics are: loss,accuracy,lr\n"
          ]
        },
        {
          "output_type": "stream",
          "name": "stdout",
          "text": [
            "\b\b\b\b\b\b\b\b\b\b\b\b\b\b\b\b\b\b\b\b\b\b\b\b\b\b\b\b\b\b\b\b\b\b\b\b\b\b\b\b\b\b\b\b\b\b\b\b\b\b\b\b\b\b\b\b\b\b\b\b\b\b\b\b\b\b\b\b\b\b\b\b\b\b\b\b\b\b\b\b\b\b\b\b\r125/125 [==============================] - 1s 7ms/step - loss: 0.0183 - accuracy: 0.9992 - lr: 3.0000e-05\n",
            "Epoch 34/200\n",
            "119/125 [===========================>..] - ETA: 0s - loss: 0.0166 - accuracy: 0.9984"
          ]
        },
        {
          "output_type": "stream",
          "name": "stderr",
          "text": [
            "WARNING:tensorflow:Early stopping conditioned on metric `val_loss` which is not available. Available metrics are: loss,accuracy\n",
            "WARNING:tensorflow:Learning rate reduction is conditioned on metric `val_loss` which is not available. Available metrics are: loss,accuracy,lr\n"
          ]
        },
        {
          "output_type": "stream",
          "name": "stdout",
          "text": [
            "\b\b\b\b\b\b\b\b\b\b\b\b\b\b\b\b\b\b\b\b\b\b\b\b\b\b\b\b\b\b\b\b\b\b\b\b\b\b\b\b\b\b\b\b\b\b\b\b\b\b\b\b\b\b\b\b\b\b\b\b\b\b\b\b\b\b\b\b\b\b\b\b\b\b\b\b\b\b\b\b\b\b\b\b\r125/125 [==============================] - 1s 7ms/step - loss: 0.0165 - accuracy: 0.9985 - lr: 3.0000e-05\n",
            "Epoch 35/200\n",
            "121/125 [============================>.] - ETA: 0s - loss: 0.0139 - accuracy: 0.9992"
          ]
        },
        {
          "output_type": "stream",
          "name": "stderr",
          "text": [
            "WARNING:tensorflow:Early stopping conditioned on metric `val_loss` which is not available. Available metrics are: loss,accuracy\n",
            "WARNING:tensorflow:Learning rate reduction is conditioned on metric `val_loss` which is not available. Available metrics are: loss,accuracy,lr\n"
          ]
        },
        {
          "output_type": "stream",
          "name": "stdout",
          "text": [
            "\b\b\b\b\b\b\b\b\b\b\b\b\b\b\b\b\b\b\b\b\b\b\b\b\b\b\b\b\b\b\b\b\b\b\b\b\b\b\b\b\b\b\b\b\b\b\b\b\b\b\b\b\b\b\b\b\b\b\b\b\b\b\b\b\b\b\b\b\b\b\b\b\b\b\b\b\b\b\b\b\b\b\b\b\r125/125 [==============================] - 1s 7ms/step - loss: 0.0138 - accuracy: 0.9992 - lr: 3.0000e-05\n",
            "Epoch 36/200\n",
            "118/125 [===========================>..] - ETA: 0s - loss: 0.0127 - accuracy: 0.9995"
          ]
        },
        {
          "output_type": "stream",
          "name": "stderr",
          "text": [
            "WARNING:tensorflow:Early stopping conditioned on metric `val_loss` which is not available. Available metrics are: loss,accuracy\n",
            "WARNING:tensorflow:Learning rate reduction is conditioned on metric `val_loss` which is not available. Available metrics are: loss,accuracy,lr\n"
          ]
        },
        {
          "output_type": "stream",
          "name": "stdout",
          "text": [
            "\b\b\b\b\b\b\b\b\b\b\b\b\b\b\b\b\b\b\b\b\b\b\b\b\b\b\b\b\b\b\b\b\b\b\b\b\b\b\b\b\b\b\b\b\b\b\b\b\b\b\b\b\b\b\b\b\b\b\b\b\b\b\b\b\b\b\b\b\b\b\b\b\b\b\b\b\b\b\b\b\b\b\b\b\r125/125 [==============================] - 1s 7ms/step - loss: 0.0126 - accuracy: 0.9995 - lr: 3.0000e-05\n",
            "Epoch 37/200\n",
            "125/125 [==============================] - ETA: 0s - loss: 0.0114 - accuracy: 0.9995"
          ]
        },
        {
          "output_type": "stream",
          "name": "stderr",
          "text": [
            "WARNING:tensorflow:Early stopping conditioned on metric `val_loss` which is not available. Available metrics are: loss,accuracy\n",
            "WARNING:tensorflow:Learning rate reduction is conditioned on metric `val_loss` which is not available. Available metrics are: loss,accuracy,lr\n"
          ]
        },
        {
          "output_type": "stream",
          "name": "stdout",
          "text": [
            "\b\b\b\b\b\b\b\b\b\b\b\b\b\b\b\b\b\b\b\b\b\b\b\b\b\b\b\b\b\b\b\b\b\b\b\b\b\b\b\b\b\b\b\b\b\b\b\b\b\b\b\b\b\b\b\b\b\b\b\b\b\b\b\b\b\b\b\b\b\b\b\b\b\b\b\b\b\b\b\b\b\b\b\b\r125/125 [==============================] - 1s 7ms/step - loss: 0.0114 - accuracy: 0.9995 - lr: 3.0000e-05\n",
            "Epoch 38/200\n",
            "125/125 [==============================] - ETA: 0s - loss: 0.0111 - accuracy: 0.9985"
          ]
        },
        {
          "output_type": "stream",
          "name": "stderr",
          "text": [
            "WARNING:tensorflow:Early stopping conditioned on metric `val_loss` which is not available. Available metrics are: loss,accuracy\n",
            "WARNING:tensorflow:Learning rate reduction is conditioned on metric `val_loss` which is not available. Available metrics are: loss,accuracy,lr\n"
          ]
        },
        {
          "output_type": "stream",
          "name": "stdout",
          "text": [
            "\b\b\b\b\b\b\b\b\b\b\b\b\b\b\b\b\b\b\b\b\b\b\b\b\b\b\b\b\b\b\b\b\b\b\b\b\b\b\b\b\b\b\b\b\b\b\b\b\b\b\b\b\b\b\b\b\b\b\b\b\b\b\b\b\b\b\b\b\b\b\b\b\b\b\b\b\b\b\b\b\b\b\b\b\r125/125 [==============================] - 1s 7ms/step - loss: 0.0111 - accuracy: 0.9985 - lr: 3.0000e-05\n",
            "Epoch 39/200\n",
            "119/125 [===========================>..] - ETA: 0s - loss: 0.0095 - accuracy: 0.9995"
          ]
        },
        {
          "output_type": "stream",
          "name": "stderr",
          "text": [
            "WARNING:tensorflow:Early stopping conditioned on metric `val_loss` which is not available. Available metrics are: loss,accuracy\n",
            "WARNING:tensorflow:Learning rate reduction is conditioned on metric `val_loss` which is not available. Available metrics are: loss,accuracy,lr\n"
          ]
        },
        {
          "output_type": "stream",
          "name": "stdout",
          "text": [
            "\b\b\b\b\b\b\b\b\b\b\b\b\b\b\b\b\b\b\b\b\b\b\b\b\b\b\b\b\b\b\b\b\b\b\b\b\b\b\b\b\b\b\b\b\b\b\b\b\b\b\b\b\b\b\b\b\b\b\b\b\b\b\b\b\b\b\b\b\b\b\b\b\b\b\b\b\b\b\b\b\b\b\b\b\r125/125 [==============================] - 1s 7ms/step - loss: 0.0093 - accuracy: 0.9995 - lr: 3.0000e-05\n",
            "Epoch 40/200\n",
            "119/125 [===========================>..] - ETA: 0s - loss: 0.0083 - accuracy: 0.9995"
          ]
        },
        {
          "output_type": "stream",
          "name": "stderr",
          "text": [
            "WARNING:tensorflow:Early stopping conditioned on metric `val_loss` which is not available. Available metrics are: loss,accuracy\n",
            "WARNING:tensorflow:Learning rate reduction is conditioned on metric `val_loss` which is not available. Available metrics are: loss,accuracy,lr\n"
          ]
        },
        {
          "output_type": "stream",
          "name": "stdout",
          "text": [
            "\b\b\b\b\b\b\b\b\b\b\b\b\b\b\b\b\b\b\b\b\b\b\b\b\b\b\b\b\b\b\b\b\b\b\b\b\b\b\b\b\b\b\b\b\b\b\b\b\b\b\b\b\b\b\b\b\b\b\b\b\b\b\b\b\b\b\b\b\b\b\b\b\b\b\b\b\b\b\b\b\b\b\b\b\r125/125 [==============================] - 1s 7ms/step - loss: 0.0081 - accuracy: 0.9995 - lr: 3.0000e-05\n",
            "Epoch 41/200\n",
            "121/125 [============================>.] - ETA: 0s - loss: 0.0072 - accuracy: 0.9997"
          ]
        },
        {
          "output_type": "stream",
          "name": "stderr",
          "text": [
            "WARNING:tensorflow:Early stopping conditioned on metric `val_loss` which is not available. Available metrics are: loss,accuracy\n",
            "WARNING:tensorflow:Learning rate reduction is conditioned on metric `val_loss` which is not available. Available metrics are: loss,accuracy,lr\n"
          ]
        },
        {
          "output_type": "stream",
          "name": "stdout",
          "text": [
            "\b\b\b\b\b\b\b\b\b\b\b\b\b\b\b\b\b\b\b\b\b\b\b\b\b\b\b\b\b\b\b\b\b\b\b\b\b\b\b\b\b\b\b\b\b\b\b\b\b\b\b\b\b\b\b\b\b\b\b\b\b\b\b\b\b\b\b\b\b\b\b\b\b\b\b\b\b\b\b\b\b\b\b\b\r125/125 [==============================] - 1s 7ms/step - loss: 0.0074 - accuracy: 0.9997 - lr: 3.0000e-05\n",
            "Epoch 42/200\n",
            "119/125 [===========================>..] - ETA: 0s - loss: 0.0059 - accuracy: 1.0000"
          ]
        },
        {
          "output_type": "stream",
          "name": "stderr",
          "text": [
            "WARNING:tensorflow:Early stopping conditioned on metric `val_loss` which is not available. Available metrics are: loss,accuracy\n",
            "WARNING:tensorflow:Learning rate reduction is conditioned on metric `val_loss` which is not available. Available metrics are: loss,accuracy,lr\n"
          ]
        },
        {
          "output_type": "stream",
          "name": "stdout",
          "text": [
            "\b\b\b\b\b\b\b\b\b\b\b\b\b\b\b\b\b\b\b\b\b\b\b\b\b\b\b\b\b\b\b\b\b\b\b\b\b\b\b\b\b\b\b\b\b\b\b\b\b\b\b\b\b\b\b\b\b\b\b\b\b\b\b\b\b\b\b\b\b\b\b\b\b\b\b\b\b\b\b\b\b\b\b\b\r125/125 [==============================] - 1s 7ms/step - loss: 0.0059 - accuracy: 1.0000 - lr: 3.0000e-05\n",
            "Epoch 43/200\n",
            "118/125 [===========================>..] - ETA: 0s - loss: 0.0057 - accuracy: 0.9997"
          ]
        },
        {
          "output_type": "stream",
          "name": "stderr",
          "text": [
            "WARNING:tensorflow:Early stopping conditioned on metric `val_loss` which is not available. Available metrics are: loss,accuracy\n",
            "WARNING:tensorflow:Learning rate reduction is conditioned on metric `val_loss` which is not available. Available metrics are: loss,accuracy,lr\n"
          ]
        },
        {
          "output_type": "stream",
          "name": "stdout",
          "text": [
            "\b\b\b\b\b\b\b\b\b\b\b\b\b\b\b\b\b\b\b\b\b\b\b\b\b\b\b\b\b\b\b\b\b\b\b\b\b\b\b\b\b\b\b\b\b\b\b\b\b\b\b\b\b\b\b\b\b\b\b\b\b\b\b\b\b\b\b\b\b\b\b\b\b\b\b\b\b\b\b\b\b\b\b\b\r125/125 [==============================] - 1s 7ms/step - loss: 0.0056 - accuracy: 0.9997 - lr: 3.0000e-05\n",
            "Epoch 44/200\n",
            "120/125 [===========================>..] - ETA: 0s - loss: 0.0048 - accuracy: 0.9997"
          ]
        },
        {
          "output_type": "stream",
          "name": "stderr",
          "text": [
            "WARNING:tensorflow:Early stopping conditioned on metric `val_loss` which is not available. Available metrics are: loss,accuracy\n",
            "WARNING:tensorflow:Learning rate reduction is conditioned on metric `val_loss` which is not available. Available metrics are: loss,accuracy,lr\n"
          ]
        },
        {
          "output_type": "stream",
          "name": "stdout",
          "text": [
            "\b\b\b\b\b\b\b\b\b\b\b\b\b\b\b\b\b\b\b\b\b\b\b\b\b\b\b\b\b\b\b\b\b\b\b\b\b\b\b\b\b\b\b\b\b\b\b\b\b\b\b\b\b\b\b\b\b\b\b\b\b\b\b\b\b\b\b\b\b\b\b\b\b\b\b\b\b\b\b\b\b\b\b\b\r125/125 [==============================] - 1s 7ms/step - loss: 0.0048 - accuracy: 0.9997 - lr: 3.0000e-05\n",
            "Epoch 45/200\n",
            "119/125 [===========================>..] - ETA: 0s - loss: 0.0045 - accuracy: 1.0000"
          ]
        },
        {
          "output_type": "stream",
          "name": "stderr",
          "text": [
            "WARNING:tensorflow:Early stopping conditioned on metric `val_loss` which is not available. Available metrics are: loss,accuracy\n",
            "WARNING:tensorflow:Learning rate reduction is conditioned on metric `val_loss` which is not available. Available metrics are: loss,accuracy,lr\n"
          ]
        },
        {
          "output_type": "stream",
          "name": "stdout",
          "text": [
            "\b\b\b\b\b\b\b\b\b\b\b\b\b\b\b\b\b\b\b\b\b\b\b\b\b\b\b\b\b\b\b\b\b\b\b\b\b\b\b\b\b\b\b\b\b\b\b\b\b\b\b\b\b\b\b\b\b\b\b\b\b\b\b\b\b\b\b\b\b\b\b\b\b\b\b\b\b\b\b\b\b\b\b\b\r125/125 [==============================] - 1s 7ms/step - loss: 0.0045 - accuracy: 1.0000 - lr: 3.0000e-05\n",
            "Epoch 46/200\n",
            "119/125 [===========================>..] - ETA: 0s - loss: 0.0040 - accuracy: 1.0000"
          ]
        },
        {
          "output_type": "stream",
          "name": "stderr",
          "text": [
            "WARNING:tensorflow:Early stopping conditioned on metric `val_loss` which is not available. Available metrics are: loss,accuracy\n",
            "WARNING:tensorflow:Learning rate reduction is conditioned on metric `val_loss` which is not available. Available metrics are: loss,accuracy,lr\n"
          ]
        },
        {
          "output_type": "stream",
          "name": "stdout",
          "text": [
            "\b\b\b\b\b\b\b\b\b\b\b\b\b\b\b\b\b\b\b\b\b\b\b\b\b\b\b\b\b\b\b\b\b\b\b\b\b\b\b\b\b\b\b\b\b\b\b\b\b\b\b\b\b\b\b\b\b\b\b\b\b\b\b\b\b\b\b\b\b\b\b\b\b\b\b\b\b\b\b\b\b\b\b\b\r125/125 [==============================] - 1s 7ms/step - loss: 0.0039 - accuracy: 1.0000 - lr: 3.0000e-05\n",
            "Epoch 47/200\n",
            "121/125 [============================>.] - ETA: 0s - loss: 0.0037 - accuracy: 1.0000"
          ]
        },
        {
          "output_type": "stream",
          "name": "stderr",
          "text": [
            "WARNING:tensorflow:Early stopping conditioned on metric `val_loss` which is not available. Available metrics are: loss,accuracy\n",
            "WARNING:tensorflow:Learning rate reduction is conditioned on metric `val_loss` which is not available. Available metrics are: loss,accuracy,lr\n"
          ]
        },
        {
          "output_type": "stream",
          "name": "stdout",
          "text": [
            "\b\b\b\b\b\b\b\b\b\b\b\b\b\b\b\b\b\b\b\b\b\b\b\b\b\b\b\b\b\b\b\b\b\b\b\b\b\b\b\b\b\b\b\b\b\b\b\b\b\b\b\b\b\b\b\b\b\b\b\b\b\b\b\b\b\b\b\b\b\b\b\b\b\b\b\b\b\b\b\b\b\b\b\b\r125/125 [==============================] - 1s 7ms/step - loss: 0.0039 - accuracy: 1.0000 - lr: 3.0000e-05\n",
            "Epoch 48/200\n",
            "120/125 [===========================>..] - ETA: 0s - loss: 0.0034 - accuracy: 0.9997"
          ]
        },
        {
          "output_type": "stream",
          "name": "stderr",
          "text": [
            "WARNING:tensorflow:Early stopping conditioned on metric `val_loss` which is not available. Available metrics are: loss,accuracy\n",
            "WARNING:tensorflow:Learning rate reduction is conditioned on metric `val_loss` which is not available. Available metrics are: loss,accuracy,lr\n"
          ]
        },
        {
          "output_type": "stream",
          "name": "stdout",
          "text": [
            "\b\b\b\b\b\b\b\b\b\b\b\b\b\b\b\b\b\b\b\b\b\b\b\b\b\b\b\b\b\b\b\b\b\b\b\b\b\b\b\b\b\b\b\b\b\b\b\b\b\b\b\b\b\b\b\b\b\b\b\b\b\b\b\b\b\b\b\b\b\b\b\b\b\b\b\b\b\b\b\b\b\b\b\b\r125/125 [==============================] - 1s 7ms/step - loss: 0.0034 - accuracy: 0.9997 - lr: 3.0000e-05\n",
            "Epoch 49/200\n",
            "120/125 [===========================>..] - ETA: 0s - loss: 0.0030 - accuracy: 1.0000"
          ]
        },
        {
          "output_type": "stream",
          "name": "stderr",
          "text": [
            "WARNING:tensorflow:Early stopping conditioned on metric `val_loss` which is not available. Available metrics are: loss,accuracy\n",
            "WARNING:tensorflow:Learning rate reduction is conditioned on metric `val_loss` which is not available. Available metrics are: loss,accuracy,lr\n"
          ]
        },
        {
          "output_type": "stream",
          "name": "stdout",
          "text": [
            "\b\b\b\b\b\b\b\b\b\b\b\b\b\b\b\b\b\b\b\b\b\b\b\b\b\b\b\b\b\b\b\b\b\b\b\b\b\b\b\b\b\b\b\b\b\b\b\b\b\b\b\b\b\b\b\b\b\b\b\b\b\b\b\b\b\b\b\b\b\b\b\b\b\b\b\b\b\b\b\b\b\b\b\b\r125/125 [==============================] - 1s 7ms/step - loss: 0.0031 - accuracy: 1.0000 - lr: 3.0000e-05\n",
            "Epoch 50/200\n",
            "118/125 [===========================>..] - ETA: 0s - loss: 0.0027 - accuracy: 1.0000"
          ]
        },
        {
          "output_type": "stream",
          "name": "stderr",
          "text": [
            "WARNING:tensorflow:Early stopping conditioned on metric `val_loss` which is not available. Available metrics are: loss,accuracy\n",
            "WARNING:tensorflow:Learning rate reduction is conditioned on metric `val_loss` which is not available. Available metrics are: loss,accuracy,lr\n"
          ]
        },
        {
          "output_type": "stream",
          "name": "stdout",
          "text": [
            "\b\b\b\b\b\b\b\b\b\b\b\b\b\b\b\b\b\b\b\b\b\b\b\b\b\b\b\b\b\b\b\b\b\b\b\b\b\b\b\b\b\b\b\b\b\b\b\b\b\b\b\b\b\b\b\b\b\b\b\b\b\b\b\b\b\b\b\b\b\b\b\b\b\b\b\b\b\b\b\b\b\b\b\b\r125/125 [==============================] - 1s 7ms/step - loss: 0.0027 - accuracy: 1.0000 - lr: 3.0000e-05\n",
            "Epoch 51/200\n",
            "120/125 [===========================>..] - ETA: 0s - loss: 0.0026 - accuracy: 1.0000"
          ]
        },
        {
          "output_type": "stream",
          "name": "stderr",
          "text": [
            "WARNING:tensorflow:Early stopping conditioned on metric `val_loss` which is not available. Available metrics are: loss,accuracy\n",
            "WARNING:tensorflow:Learning rate reduction is conditioned on metric `val_loss` which is not available. Available metrics are: loss,accuracy,lr\n"
          ]
        },
        {
          "output_type": "stream",
          "name": "stdout",
          "text": [
            "\b\b\b\b\b\b\b\b\b\b\b\b\b\b\b\b\b\b\b\b\b\b\b\b\b\b\b\b\b\b\b\b\b\b\b\b\b\b\b\b\b\b\b\b\b\b\b\b\b\b\b\b\b\b\b\b\b\b\b\b\b\b\b\b\b\b\b\b\b\b\b\b\b\b\b\b\b\b\b\b\b\b\b\b\r125/125 [==============================] - 1s 7ms/step - loss: 0.0026 - accuracy: 1.0000 - lr: 3.0000e-05\n",
            "Epoch 52/200\n",
            "119/125 [===========================>..] - ETA: 0s - loss: 0.0022 - accuracy: 1.0000"
          ]
        },
        {
          "output_type": "stream",
          "name": "stderr",
          "text": [
            "WARNING:tensorflow:Early stopping conditioned on metric `val_loss` which is not available. Available metrics are: loss,accuracy\n",
            "WARNING:tensorflow:Learning rate reduction is conditioned on metric `val_loss` which is not available. Available metrics are: loss,accuracy,lr\n"
          ]
        },
        {
          "output_type": "stream",
          "name": "stdout",
          "text": [
            "\b\b\b\b\b\b\b\b\b\b\b\b\b\b\b\b\b\b\b\b\b\b\b\b\b\b\b\b\b\b\b\b\b\b\b\b\b\b\b\b\b\b\b\b\b\b\b\b\b\b\b\b\b\b\b\b\b\b\b\b\b\b\b\b\b\b\b\b\b\b\b\b\b\b\b\b\b\b\b\b\b\b\b\b\r125/125 [==============================] - 1s 7ms/step - loss: 0.0022 - accuracy: 1.0000 - lr: 3.0000e-05\n",
            "Epoch 53/200\n",
            "120/125 [===========================>..] - ETA: 0s - loss: 0.0025 - accuracy: 1.0000"
          ]
        },
        {
          "output_type": "stream",
          "name": "stderr",
          "text": [
            "WARNING:tensorflow:Early stopping conditioned on metric `val_loss` which is not available. Available metrics are: loss,accuracy\n",
            "WARNING:tensorflow:Learning rate reduction is conditioned on metric `val_loss` which is not available. Available metrics are: loss,accuracy,lr\n"
          ]
        },
        {
          "output_type": "stream",
          "name": "stdout",
          "text": [
            "\b\b\b\b\b\b\b\b\b\b\b\b\b\b\b\b\b\b\b\b\b\b\b\b\b\b\b\b\b\b\b\b\b\b\b\b\b\b\b\b\b\b\b\b\b\b\b\b\b\b\b\b\b\b\b\b\b\b\b\b\b\b\b\b\b\b\b\b\b\b\b\b\b\b\b\b\b\b\b\b\b\b\b\b\r125/125 [==============================] - 1s 7ms/step - loss: 0.0024 - accuracy: 1.0000 - lr: 3.0000e-05\n",
            "Epoch 54/200\n",
            "118/125 [===========================>..] - ETA: 0s - loss: 0.0018 - accuracy: 1.0000"
          ]
        },
        {
          "output_type": "stream",
          "name": "stderr",
          "text": [
            "WARNING:tensorflow:Early stopping conditioned on metric `val_loss` which is not available. Available metrics are: loss,accuracy\n",
            "WARNING:tensorflow:Learning rate reduction is conditioned on metric `val_loss` which is not available. Available metrics are: loss,accuracy,lr\n"
          ]
        },
        {
          "output_type": "stream",
          "name": "stdout",
          "text": [
            "\b\b\b\b\b\b\b\b\b\b\b\b\b\b\b\b\b\b\b\b\b\b\b\b\b\b\b\b\b\b\b\b\b\b\b\b\b\b\b\b\b\b\b\b\b\b\b\b\b\b\b\b\b\b\b\b\b\b\b\b\b\b\b\b\b\b\b\b\b\b\b\b\b\b\b\b\b\b\b\b\b\b\b\b\r125/125 [==============================] - 1s 7ms/step - loss: 0.0019 - accuracy: 1.0000 - lr: 3.0000e-05\n",
            "Epoch 55/200\n",
            "118/125 [===========================>..] - ETA: 0s - loss: 0.0019 - accuracy: 1.0000"
          ]
        },
        {
          "output_type": "stream",
          "name": "stderr",
          "text": [
            "WARNING:tensorflow:Early stopping conditioned on metric `val_loss` which is not available. Available metrics are: loss,accuracy\n",
            "WARNING:tensorflow:Learning rate reduction is conditioned on metric `val_loss` which is not available. Available metrics are: loss,accuracy,lr\n"
          ]
        },
        {
          "output_type": "stream",
          "name": "stdout",
          "text": [
            "\b\b\b\b\b\b\b\b\b\b\b\b\b\b\b\b\b\b\b\b\b\b\b\b\b\b\b\b\b\b\b\b\b\b\b\b\b\b\b\b\b\b\b\b\b\b\b\b\b\b\b\b\b\b\b\b\b\b\b\b\b\b\b\b\b\b\b\b\b\b\b\b\b\b\b\b\b\b\b\b\b\b\b\b\r125/125 [==============================] - 1s 7ms/step - loss: 0.0019 - accuracy: 1.0000 - lr: 3.0000e-05\n",
            "Epoch 56/200\n",
            "120/125 [===========================>..] - ETA: 0s - loss: 0.0015 - accuracy: 1.0000"
          ]
        },
        {
          "output_type": "stream",
          "name": "stderr",
          "text": [
            "WARNING:tensorflow:Early stopping conditioned on metric `val_loss` which is not available. Available metrics are: loss,accuracy\n",
            "WARNING:tensorflow:Learning rate reduction is conditioned on metric `val_loss` which is not available. Available metrics are: loss,accuracy,lr\n"
          ]
        },
        {
          "output_type": "stream",
          "name": "stdout",
          "text": [
            "\b\b\b\b\b\b\b\b\b\b\b\b\b\b\b\b\b\b\b\b\b\b\b\b\b\b\b\b\b\b\b\b\b\b\b\b\b\b\b\b\b\b\b\b\b\b\b\b\b\b\b\b\b\b\b\b\b\b\b\b\b\b\b\b\b\b\b\b\b\b\b\b\b\b\b\b\b\b\b\b\b\b\b\b\r125/125 [==============================] - 1s 7ms/step - loss: 0.0016 - accuracy: 1.0000 - lr: 3.0000e-05\n",
            "Epoch 57/200\n",
            "124/125 [============================>.] - ETA: 0s - loss: 0.0013 - accuracy: 1.0000"
          ]
        },
        {
          "output_type": "stream",
          "name": "stderr",
          "text": [
            "WARNING:tensorflow:Early stopping conditioned on metric `val_loss` which is not available. Available metrics are: loss,accuracy\n",
            "WARNING:tensorflow:Learning rate reduction is conditioned on metric `val_loss` which is not available. Available metrics are: loss,accuracy,lr\n"
          ]
        },
        {
          "output_type": "stream",
          "name": "stdout",
          "text": [
            "\b\b\b\b\b\b\b\b\b\b\b\b\b\b\b\b\b\b\b\b\b\b\b\b\b\b\b\b\b\b\b\b\b\b\b\b\b\b\b\b\b\b\b\b\b\b\b\b\b\b\b\b\b\b\b\b\b\b\b\b\b\b\b\b\b\b\b\b\b\b\b\b\b\b\b\b\b\b\b\b\b\b\b\b\r125/125 [==============================] - 1s 7ms/step - loss: 0.0013 - accuracy: 1.0000 - lr: 3.0000e-05\n",
            "Epoch 58/200\n",
            "120/125 [===========================>..] - ETA: 0s - loss: 0.0014 - accuracy: 1.0000"
          ]
        },
        {
          "output_type": "stream",
          "name": "stderr",
          "text": [
            "WARNING:tensorflow:Early stopping conditioned on metric `val_loss` which is not available. Available metrics are: loss,accuracy\n",
            "WARNING:tensorflow:Learning rate reduction is conditioned on metric `val_loss` which is not available. Available metrics are: loss,accuracy,lr\n"
          ]
        },
        {
          "output_type": "stream",
          "name": "stdout",
          "text": [
            "\b\b\b\b\b\b\b\b\b\b\b\b\b\b\b\b\b\b\b\b\b\b\b\b\b\b\b\b\b\b\b\b\b\b\b\b\b\b\b\b\b\b\b\b\b\b\b\b\b\b\b\b\b\b\b\b\b\b\b\b\b\b\b\b\b\b\b\b\b\b\b\b\b\b\b\b\b\b\b\b\b\b\b\b\r125/125 [==============================] - 1s 7ms/step - loss: 0.0014 - accuracy: 1.0000 - lr: 3.0000e-05\n",
            "Epoch 59/200\n",
            "121/125 [============================>.] - ETA: 0s - loss: 0.0014 - accuracy: 1.0000"
          ]
        },
        {
          "output_type": "stream",
          "name": "stderr",
          "text": [
            "WARNING:tensorflow:Early stopping conditioned on metric `val_loss` which is not available. Available metrics are: loss,accuracy\n",
            "WARNING:tensorflow:Learning rate reduction is conditioned on metric `val_loss` which is not available. Available metrics are: loss,accuracy,lr\n"
          ]
        },
        {
          "output_type": "stream",
          "name": "stdout",
          "text": [
            "\b\b\b\b\b\b\b\b\b\b\b\b\b\b\b\b\b\b\b\b\b\b\b\b\b\b\b\b\b\b\b\b\b\b\b\b\b\b\b\b\b\b\b\b\b\b\b\b\b\b\b\b\b\b\b\b\b\b\b\b\b\b\b\b\b\b\b\b\b\b\b\b\b\b\b\b\b\b\b\b\b\b\b\b\r125/125 [==============================] - 1s 7ms/step - loss: 0.0014 - accuracy: 1.0000 - lr: 3.0000e-05\n",
            "Epoch 60/200\n",
            "119/125 [===========================>..] - ETA: 0s - loss: 0.0013 - accuracy: 1.0000"
          ]
        },
        {
          "output_type": "stream",
          "name": "stderr",
          "text": [
            "WARNING:tensorflow:Early stopping conditioned on metric `val_loss` which is not available. Available metrics are: loss,accuracy\n",
            "WARNING:tensorflow:Learning rate reduction is conditioned on metric `val_loss` which is not available. Available metrics are: loss,accuracy,lr\n"
          ]
        },
        {
          "output_type": "stream",
          "name": "stdout",
          "text": [
            "\b\b\b\b\b\b\b\b\b\b\b\b\b\b\b\b\b\b\b\b\b\b\b\b\b\b\b\b\b\b\b\b\b\b\b\b\b\b\b\b\b\b\b\b\b\b\b\b\b\b\b\b\b\b\b\b\b\b\b\b\b\b\b\b\b\b\b\b\b\b\b\b\b\b\b\b\b\b\b\b\b\b\b\b\r125/125 [==============================] - 1s 7ms/step - loss: 0.0013 - accuracy: 1.0000 - lr: 3.0000e-05\n",
            "Epoch 61/200\n",
            "120/125 [===========================>..] - ETA: 0s - loss: 0.0012 - accuracy: 1.0000"
          ]
        },
        {
          "output_type": "stream",
          "name": "stderr",
          "text": [
            "WARNING:tensorflow:Early stopping conditioned on metric `val_loss` which is not available. Available metrics are: loss,accuracy\n",
            "WARNING:tensorflow:Learning rate reduction is conditioned on metric `val_loss` which is not available. Available metrics are: loss,accuracy,lr\n"
          ]
        },
        {
          "output_type": "stream",
          "name": "stdout",
          "text": [
            "\b\b\b\b\b\b\b\b\b\b\b\b\b\b\b\b\b\b\b\b\b\b\b\b\b\b\b\b\b\b\b\b\b\b\b\b\b\b\b\b\b\b\b\b\b\b\b\b\b\b\b\b\b\b\b\b\b\b\b\b\b\b\b\b\b\b\b\b\b\b\b\b\b\b\b\b\b\b\b\b\b\b\b\b\r125/125 [==============================] - 1s 7ms/step - loss: 0.0012 - accuracy: 1.0000 - lr: 3.0000e-05\n",
            "Epoch 62/200\n",
            "125/125 [==============================] - ETA: 0s - loss: 0.0010 - accuracy: 1.0000"
          ]
        },
        {
          "output_type": "stream",
          "name": "stderr",
          "text": [
            "WARNING:tensorflow:Early stopping conditioned on metric `val_loss` which is not available. Available metrics are: loss,accuracy\n",
            "WARNING:tensorflow:Learning rate reduction is conditioned on metric `val_loss` which is not available. Available metrics are: loss,accuracy,lr\n"
          ]
        },
        {
          "output_type": "stream",
          "name": "stdout",
          "text": [
            "\b\b\b\b\b\b\b\b\b\b\b\b\b\b\b\b\b\b\b\b\b\b\b\b\b\b\b\b\b\b\b\b\b\b\b\b\b\b\b\b\b\b\b\b\b\b\b\b\b\b\b\b\b\b\b\b\b\b\b\b\b\b\b\b\b\b\b\b\b\b\b\b\b\b\b\b\b\b\b\b\b\b\b\b\r125/125 [==============================] - 1s 7ms/step - loss: 0.0010 - accuracy: 1.0000 - lr: 3.0000e-05\n",
            "Epoch 63/200\n",
            "119/125 [===========================>..] - ETA: 0s - loss: 7.6410e-04 - accuracy: 1.0000"
          ]
        },
        {
          "output_type": "stream",
          "name": "stderr",
          "text": [
            "WARNING:tensorflow:Early stopping conditioned on metric `val_loss` which is not available. Available metrics are: loss,accuracy\n",
            "WARNING:tensorflow:Learning rate reduction is conditioned on metric `val_loss` which is not available. Available metrics are: loss,accuracy,lr\n"
          ]
        },
        {
          "output_type": "stream",
          "name": "stdout",
          "text": [
            "\b\b\b\b\b\b\b\b\b\b\b\b\b\b\b\b\b\b\b\b\b\b\b\b\b\b\b\b\b\b\b\b\b\b\b\b\b\b\b\b\b\b\b\b\b\b\b\b\b\b\b\b\b\b\b\b\b\b\b\b\b\b\b\b\b\b\b\b\b\b\b\b\b\b\b\b\b\b\b\b\b\b\b\b\b\b\b\b\r125/125 [==============================] - 1s 7ms/step - loss: 7.6532e-04 - accuracy: 1.0000 - lr: 3.0000e-05\n",
            "Epoch 64/200\n",
            "125/125 [==============================] - ETA: 0s - loss: 8.2862e-04 - accuracy: 1.0000"
          ]
        },
        {
          "output_type": "stream",
          "name": "stderr",
          "text": [
            "WARNING:tensorflow:Early stopping conditioned on metric `val_loss` which is not available. Available metrics are: loss,accuracy\n",
            "WARNING:tensorflow:Learning rate reduction is conditioned on metric `val_loss` which is not available. Available metrics are: loss,accuracy,lr\n"
          ]
        },
        {
          "output_type": "stream",
          "name": "stdout",
          "text": [
            "\b\b\b\b\b\b\b\b\b\b\b\b\b\b\b\b\b\b\b\b\b\b\b\b\b\b\b\b\b\b\b\b\b\b\b\b\b\b\b\b\b\b\b\b\b\b\b\b\b\b\b\b\b\b\b\b\b\b\b\b\b\b\b\b\b\b\b\b\b\b\b\b\b\b\b\b\b\b\b\b\b\b\b\b\b\b\b\b\r125/125 [==============================] - 1s 7ms/step - loss: 8.2862e-04 - accuracy: 1.0000 - lr: 3.0000e-05\n",
            "Epoch 65/200\n",
            "124/125 [============================>.] - ETA: 0s - loss: 6.8460e-04 - accuracy: 1.0000"
          ]
        },
        {
          "output_type": "stream",
          "name": "stderr",
          "text": [
            "WARNING:tensorflow:Early stopping conditioned on metric `val_loss` which is not available. Available metrics are: loss,accuracy\n",
            "WARNING:tensorflow:Learning rate reduction is conditioned on metric `val_loss` which is not available. Available metrics are: loss,accuracy,lr\n"
          ]
        },
        {
          "output_type": "stream",
          "name": "stdout",
          "text": [
            "\b\b\b\b\b\b\b\b\b\b\b\b\b\b\b\b\b\b\b\b\b\b\b\b\b\b\b\b\b\b\b\b\b\b\b\b\b\b\b\b\b\b\b\b\b\b\b\b\b\b\b\b\b\b\b\b\b\b\b\b\b\b\b\b\b\b\b\b\b\b\b\b\b\b\b\b\b\b\b\b\b\b\b\b\b\b\b\b\r125/125 [==============================] - 1s 7ms/step - loss: 6.8403e-04 - accuracy: 1.0000 - lr: 3.0000e-05\n",
            "Epoch 66/200\n",
            "119/125 [===========================>..] - ETA: 0s - loss: 7.3169e-04 - accuracy: 1.0000"
          ]
        },
        {
          "output_type": "stream",
          "name": "stderr",
          "text": [
            "WARNING:tensorflow:Early stopping conditioned on metric `val_loss` which is not available. Available metrics are: loss,accuracy\n",
            "WARNING:tensorflow:Learning rate reduction is conditioned on metric `val_loss` which is not available. Available metrics are: loss,accuracy,lr\n"
          ]
        },
        {
          "output_type": "stream",
          "name": "stdout",
          "text": [
            "\b\b\b\b\b\b\b\b\b\b\b\b\b\b\b\b\b\b\b\b\b\b\b\b\b\b\b\b\b\b\b\b\b\b\b\b\b\b\b\b\b\b\b\b\b\b\b\b\b\b\b\b\b\b\b\b\b\b\b\b\b\b\b\b\b\b\b\b\b\b\b\b\b\b\b\b\b\b\b\b\b\b\b\b\b\b\b\b\r125/125 [==============================] - 1s 7ms/step - loss: 7.2286e-04 - accuracy: 1.0000 - lr: 3.0000e-05\n",
            "Epoch 67/200\n",
            "119/125 [===========================>..] - ETA: 0s - loss: 8.2968e-04 - accuracy: 1.0000"
          ]
        },
        {
          "output_type": "stream",
          "name": "stderr",
          "text": [
            "WARNING:tensorflow:Early stopping conditioned on metric `val_loss` which is not available. Available metrics are: loss,accuracy\n",
            "WARNING:tensorflow:Learning rate reduction is conditioned on metric `val_loss` which is not available. Available metrics are: loss,accuracy,lr\n"
          ]
        },
        {
          "output_type": "stream",
          "name": "stdout",
          "text": [
            "\b\b\b\b\b\b\b\b\b\b\b\b\b\b\b\b\b\b\b\b\b\b\b\b\b\b\b\b\b\b\b\b\b\b\b\b\b\b\b\b\b\b\b\b\b\b\b\b\b\b\b\b\b\b\b\b\b\b\b\b\b\b\b\b\b\b\b\b\b\b\b\b\b\b\b\b\b\b\b\b\b\b\b\b\b\b\b\b\r125/125 [==============================] - 1s 7ms/step - loss: 8.1043e-04 - accuracy: 1.0000 - lr: 3.0000e-05\n",
            "Epoch 68/200\n",
            "120/125 [===========================>..] - ETA: 0s - loss: 6.3229e-04 - accuracy: 1.0000"
          ]
        },
        {
          "output_type": "stream",
          "name": "stderr",
          "text": [
            "WARNING:tensorflow:Early stopping conditioned on metric `val_loss` which is not available. Available metrics are: loss,accuracy\n",
            "WARNING:tensorflow:Learning rate reduction is conditioned on metric `val_loss` which is not available. Available metrics are: loss,accuracy,lr\n"
          ]
        },
        {
          "output_type": "stream",
          "name": "stdout",
          "text": [
            "\b\b\b\b\b\b\b\b\b\b\b\b\b\b\b\b\b\b\b\b\b\b\b\b\b\b\b\b\b\b\b\b\b\b\b\b\b\b\b\b\b\b\b\b\b\b\b\b\b\b\b\b\b\b\b\b\b\b\b\b\b\b\b\b\b\b\b\b\b\b\b\b\b\b\b\b\b\b\b\b\b\b\b\b\b\b\b\b\r125/125 [==============================] - 1s 7ms/step - loss: 6.1673e-04 - accuracy: 1.0000 - lr: 3.0000e-05\n",
            "Epoch 69/200\n",
            "123/125 [============================>.] - ETA: 0s - loss: 4.9616e-04 - accuracy: 1.0000"
          ]
        },
        {
          "output_type": "stream",
          "name": "stderr",
          "text": [
            "WARNING:tensorflow:Early stopping conditioned on metric `val_loss` which is not available. Available metrics are: loss,accuracy\n",
            "WARNING:tensorflow:Learning rate reduction is conditioned on metric `val_loss` which is not available. Available metrics are: loss,accuracy,lr\n"
          ]
        },
        {
          "output_type": "stream",
          "name": "stdout",
          "text": [
            "\b\b\b\b\b\b\b\b\b\b\b\b\b\b\b\b\b\b\b\b\b\b\b\b\b\b\b\b\b\b\b\b\b\b\b\b\b\b\b\b\b\b\b\b\b\b\b\b\b\b\b\b\b\b\b\b\b\b\b\b\b\b\b\b\b\b\b\b\b\b\b\b\b\b\b\b\b\b\b\b\b\b\b\b\b\b\b\b\r125/125 [==============================] - 1s 7ms/step - loss: 4.9501e-04 - accuracy: 1.0000 - lr: 3.0000e-05\n",
            "Epoch 70/200\n",
            "125/125 [==============================] - ETA: 0s - loss: 5.1089e-04 - accuracy: 1.0000"
          ]
        },
        {
          "output_type": "stream",
          "name": "stderr",
          "text": [
            "WARNING:tensorflow:Early stopping conditioned on metric `val_loss` which is not available. Available metrics are: loss,accuracy\n",
            "WARNING:tensorflow:Learning rate reduction is conditioned on metric `val_loss` which is not available. Available metrics are: loss,accuracy,lr\n"
          ]
        },
        {
          "output_type": "stream",
          "name": "stdout",
          "text": [
            "\b\b\b\b\b\b\b\b\b\b\b\b\b\b\b\b\b\b\b\b\b\b\b\b\b\b\b\b\b\b\b\b\b\b\b\b\b\b\b\b\b\b\b\b\b\b\b\b\b\b\b\b\b\b\b\b\b\b\b\b\b\b\b\b\b\b\b\b\b\b\b\b\b\b\b\b\b\b\b\b\b\b\b\b\b\b\b\b\r125/125 [==============================] - 1s 7ms/step - loss: 5.1089e-04 - accuracy: 1.0000 - lr: 3.0000e-05\n",
            "Epoch 71/200\n",
            "120/125 [===========================>..] - ETA: 0s - loss: 4.8178e-04 - accuracy: 1.0000"
          ]
        },
        {
          "output_type": "stream",
          "name": "stderr",
          "text": [
            "WARNING:tensorflow:Early stopping conditioned on metric `val_loss` which is not available. Available metrics are: loss,accuracy\n",
            "WARNING:tensorflow:Learning rate reduction is conditioned on metric `val_loss` which is not available. Available metrics are: loss,accuracy,lr\n"
          ]
        },
        {
          "output_type": "stream",
          "name": "stdout",
          "text": [
            "\b\b\b\b\b\b\b\b\b\b\b\b\b\b\b\b\b\b\b\b\b\b\b\b\b\b\b\b\b\b\b\b\b\b\b\b\b\b\b\b\b\b\b\b\b\b\b\b\b\b\b\b\b\b\b\b\b\b\b\b\b\b\b\b\b\b\b\b\b\b\b\b\b\b\b\b\b\b\b\b\b\b\b\b\b\b\b\b\r125/125 [==============================] - 1s 7ms/step - loss: 4.9905e-04 - accuracy: 1.0000 - lr: 3.0000e-05\n",
            "Epoch 72/200\n",
            "118/125 [===========================>..] - ETA: 0s - loss: 5.5560e-04 - accuracy: 1.0000"
          ]
        },
        {
          "output_type": "stream",
          "name": "stderr",
          "text": [
            "WARNING:tensorflow:Early stopping conditioned on metric `val_loss` which is not available. Available metrics are: loss,accuracy\n",
            "WARNING:tensorflow:Learning rate reduction is conditioned on metric `val_loss` which is not available. Available metrics are: loss,accuracy,lr\n"
          ]
        },
        {
          "output_type": "stream",
          "name": "stdout",
          "text": [
            "\b\b\b\b\b\b\b\b\b\b\b\b\b\b\b\b\b\b\b\b\b\b\b\b\b\b\b\b\b\b\b\b\b\b\b\b\b\b\b\b\b\b\b\b\b\b\b\b\b\b\b\b\b\b\b\b\b\b\b\b\b\b\b\b\b\b\b\b\b\b\b\b\b\b\b\b\b\b\b\b\b\b\b\b\b\b\b\b\r125/125 [==============================] - 1s 7ms/step - loss: 5.8200e-04 - accuracy: 1.0000 - lr: 3.0000e-05\n",
            "Epoch 73/200\n",
            "119/125 [===========================>..] - ETA: 0s - loss: 3.5567e-04 - accuracy: 1.0000"
          ]
        },
        {
          "output_type": "stream",
          "name": "stderr",
          "text": [
            "WARNING:tensorflow:Early stopping conditioned on metric `val_loss` which is not available. Available metrics are: loss,accuracy\n",
            "WARNING:tensorflow:Learning rate reduction is conditioned on metric `val_loss` which is not available. Available metrics are: loss,accuracy,lr\n"
          ]
        },
        {
          "output_type": "stream",
          "name": "stdout",
          "text": [
            "\b\b\b\b\b\b\b\b\b\b\b\b\b\b\b\b\b\b\b\b\b\b\b\b\b\b\b\b\b\b\b\b\b\b\b\b\b\b\b\b\b\b\b\b\b\b\b\b\b\b\b\b\b\b\b\b\b\b\b\b\b\b\b\b\b\b\b\b\b\b\b\b\b\b\b\b\b\b\b\b\b\b\b\b\b\b\b\b\r125/125 [==============================] - 1s 7ms/step - loss: 3.5381e-04 - accuracy: 1.0000 - lr: 3.0000e-05\n",
            "Epoch 74/200\n",
            "124/125 [============================>.] - ETA: 0s - loss: 3.3040e-04 - accuracy: 1.0000"
          ]
        },
        {
          "output_type": "stream",
          "name": "stderr",
          "text": [
            "WARNING:tensorflow:Early stopping conditioned on metric `val_loss` which is not available. Available metrics are: loss,accuracy\n",
            "WARNING:tensorflow:Learning rate reduction is conditioned on metric `val_loss` which is not available. Available metrics are: loss,accuracy,lr\n"
          ]
        },
        {
          "output_type": "stream",
          "name": "stdout",
          "text": [
            "\b\b\b\b\b\b\b\b\b\b\b\b\b\b\b\b\b\b\b\b\b\b\b\b\b\b\b\b\b\b\b\b\b\b\b\b\b\b\b\b\b\b\b\b\b\b\b\b\b\b\b\b\b\b\b\b\b\b\b\b\b\b\b\b\b\b\b\b\b\b\b\b\b\b\b\b\b\b\b\b\b\b\b\b\b\b\b\b\r125/125 [==============================] - 1s 7ms/step - loss: 3.2922e-04 - accuracy: 1.0000 - lr: 3.0000e-05\n",
            "Epoch 75/200\n",
            "119/125 [===========================>..] - ETA: 0s - loss: 3.2727e-04 - accuracy: 1.0000"
          ]
        },
        {
          "output_type": "stream",
          "name": "stderr",
          "text": [
            "WARNING:tensorflow:Early stopping conditioned on metric `val_loss` which is not available. Available metrics are: loss,accuracy\n",
            "WARNING:tensorflow:Learning rate reduction is conditioned on metric `val_loss` which is not available. Available metrics are: loss,accuracy,lr\n"
          ]
        },
        {
          "output_type": "stream",
          "name": "stdout",
          "text": [
            "\b\b\b\b\b\b\b\b\b\b\b\b\b\b\b\b\b\b\b\b\b\b\b\b\b\b\b\b\b\b\b\b\b\b\b\b\b\b\b\b\b\b\b\b\b\b\b\b\b\b\b\b\b\b\b\b\b\b\b\b\b\b\b\b\b\b\b\b\b\b\b\b\b\b\b\b\b\b\b\b\b\b\b\b\b\b\b\b\r125/125 [==============================] - 1s 7ms/step - loss: 3.2937e-04 - accuracy: 1.0000 - lr: 3.0000e-05\n",
            "Epoch 76/200\n",
            "119/125 [===========================>..] - ETA: 0s - loss: 3.5892e-04 - accuracy: 1.0000"
          ]
        },
        {
          "output_type": "stream",
          "name": "stderr",
          "text": [
            "WARNING:tensorflow:Early stopping conditioned on metric `val_loss` which is not available. Available metrics are: loss,accuracy\n",
            "WARNING:tensorflow:Learning rate reduction is conditioned on metric `val_loss` which is not available. Available metrics are: loss,accuracy,lr\n"
          ]
        },
        {
          "output_type": "stream",
          "name": "stdout",
          "text": [
            "\b\b\b\b\b\b\b\b\b\b\b\b\b\b\b\b\b\b\b\b\b\b\b\b\b\b\b\b\b\b\b\b\b\b\b\b\b\b\b\b\b\b\b\b\b\b\b\b\b\b\b\b\b\b\b\b\b\b\b\b\b\b\b\b\b\b\b\b\b\b\b\b\b\b\b\b\b\b\b\b\b\b\b\b\b\b\b\b\r125/125 [==============================] - 1s 7ms/step - loss: 3.6201e-04 - accuracy: 1.0000 - lr: 3.0000e-05\n",
            "Epoch 77/200\n",
            "118/125 [===========================>..] - ETA: 0s - loss: 3.6034e-04 - accuracy: 1.0000"
          ]
        },
        {
          "output_type": "stream",
          "name": "stderr",
          "text": [
            "WARNING:tensorflow:Early stopping conditioned on metric `val_loss` which is not available. Available metrics are: loss,accuracy\n",
            "WARNING:tensorflow:Learning rate reduction is conditioned on metric `val_loss` which is not available. Available metrics are: loss,accuracy,lr\n"
          ]
        },
        {
          "output_type": "stream",
          "name": "stdout",
          "text": [
            "\b\b\b\b\b\b\b\b\b\b\b\b\b\b\b\b\b\b\b\b\b\b\b\b\b\b\b\b\b\b\b\b\b\b\b\b\b\b\b\b\b\b\b\b\b\b\b\b\b\b\b\b\b\b\b\b\b\b\b\b\b\b\b\b\b\b\b\b\b\b\b\b\b\b\b\b\b\b\b\b\b\b\b\b\b\b\b\b\r125/125 [==============================] - 1s 7ms/step - loss: 3.5725e-04 - accuracy: 1.0000 - lr: 3.0000e-05\n",
            "Epoch 78/200\n",
            "120/125 [===========================>..] - ETA: 0s - loss: 2.4949e-04 - accuracy: 1.0000"
          ]
        },
        {
          "output_type": "stream",
          "name": "stderr",
          "text": [
            "WARNING:tensorflow:Early stopping conditioned on metric `val_loss` which is not available. Available metrics are: loss,accuracy\n",
            "WARNING:tensorflow:Learning rate reduction is conditioned on metric `val_loss` which is not available. Available metrics are: loss,accuracy,lr\n"
          ]
        },
        {
          "output_type": "stream",
          "name": "stdout",
          "text": [
            "\b\b\b\b\b\b\b\b\b\b\b\b\b\b\b\b\b\b\b\b\b\b\b\b\b\b\b\b\b\b\b\b\b\b\b\b\b\b\b\b\b\b\b\b\b\b\b\b\b\b\b\b\b\b\b\b\b\b\b\b\b\b\b\b\b\b\b\b\b\b\b\b\b\b\b\b\b\b\b\b\b\b\b\b\b\b\b\b\r125/125 [==============================] - 1s 7ms/step - loss: 2.4940e-04 - accuracy: 1.0000 - lr: 3.0000e-05\n",
            "Epoch 79/200\n",
            "119/125 [===========================>..] - ETA: 0s - loss: 2.4799e-04 - accuracy: 1.0000"
          ]
        },
        {
          "output_type": "stream",
          "name": "stderr",
          "text": [
            "WARNING:tensorflow:Early stopping conditioned on metric `val_loss` which is not available. Available metrics are: loss,accuracy\n",
            "WARNING:tensorflow:Learning rate reduction is conditioned on metric `val_loss` which is not available. Available metrics are: loss,accuracy,lr\n"
          ]
        },
        {
          "output_type": "stream",
          "name": "stdout",
          "text": [
            "\b\b\b\b\b\b\b\b\b\b\b\b\b\b\b\b\b\b\b\b\b\b\b\b\b\b\b\b\b\b\b\b\b\b\b\b\b\b\b\b\b\b\b\b\b\b\b\b\b\b\b\b\b\b\b\b\b\b\b\b\b\b\b\b\b\b\b\b\b\b\b\b\b\b\b\b\b\b\b\b\b\b\b\b\b\b\b\b\r125/125 [==============================] - 1s 7ms/step - loss: 2.4440e-04 - accuracy: 1.0000 - lr: 3.0000e-05\n",
            "Epoch 80/200\n",
            "119/125 [===========================>..] - ETA: 0s - loss: 2.5685e-04 - accuracy: 1.0000"
          ]
        },
        {
          "output_type": "stream",
          "name": "stderr",
          "text": [
            "WARNING:tensorflow:Early stopping conditioned on metric `val_loss` which is not available. Available metrics are: loss,accuracy\n",
            "WARNING:tensorflow:Learning rate reduction is conditioned on metric `val_loss` which is not available. Available metrics are: loss,accuracy,lr\n"
          ]
        },
        {
          "output_type": "stream",
          "name": "stdout",
          "text": [
            "\b\b\b\b\b\b\b\b\b\b\b\b\b\b\b\b\b\b\b\b\b\b\b\b\b\b\b\b\b\b\b\b\b\b\b\b\b\b\b\b\b\b\b\b\b\b\b\b\b\b\b\b\b\b\b\b\b\b\b\b\b\b\b\b\b\b\b\b\b\b\b\b\b\b\b\b\b\b\b\b\b\b\b\b\b\b\b\b\r125/125 [==============================] - 1s 7ms/step - loss: 2.5309e-04 - accuracy: 1.0000 - lr: 3.0000e-05\n",
            "Epoch 81/200\n",
            "120/125 [===========================>..] - ETA: 0s - loss: 1.8845e-04 - accuracy: 1.0000"
          ]
        },
        {
          "output_type": "stream",
          "name": "stderr",
          "text": [
            "WARNING:tensorflow:Early stopping conditioned on metric `val_loss` which is not available. Available metrics are: loss,accuracy\n",
            "WARNING:tensorflow:Learning rate reduction is conditioned on metric `val_loss` which is not available. Available metrics are: loss,accuracy,lr\n"
          ]
        },
        {
          "output_type": "stream",
          "name": "stdout",
          "text": [
            "\b\b\b\b\b\b\b\b\b\b\b\b\b\b\b\b\b\b\b\b\b\b\b\b\b\b\b\b\b\b\b\b\b\b\b\b\b\b\b\b\b\b\b\b\b\b\b\b\b\b\b\b\b\b\b\b\b\b\b\b\b\b\b\b\b\b\b\b\b\b\b\b\b\b\b\b\b\b\b\b\b\b\b\b\b\b\b\b\r125/125 [==============================] - 1s 7ms/step - loss: 1.8621e-04 - accuracy: 1.0000 - lr: 3.0000e-05\n",
            "Epoch 82/200\n",
            "119/125 [===========================>..] - ETA: 0s - loss: 1.9720e-04 - accuracy: 1.0000"
          ]
        },
        {
          "output_type": "stream",
          "name": "stderr",
          "text": [
            "WARNING:tensorflow:Early stopping conditioned on metric `val_loss` which is not available. Available metrics are: loss,accuracy\n",
            "WARNING:tensorflow:Learning rate reduction is conditioned on metric `val_loss` which is not available. Available metrics are: loss,accuracy,lr\n"
          ]
        },
        {
          "output_type": "stream",
          "name": "stdout",
          "text": [
            "\b\b\b\b\b\b\b\b\b\b\b\b\b\b\b\b\b\b\b\b\b\b\b\b\b\b\b\b\b\b\b\b\b\b\b\b\b\b\b\b\b\b\b\b\b\b\b\b\b\b\b\b\b\b\b\b\b\b\b\b\b\b\b\b\b\b\b\b\b\b\b\b\b\b\b\b\b\b\b\b\b\b\b\b\b\b\b\b\r125/125 [==============================] - 1s 7ms/step - loss: 2.0355e-04 - accuracy: 1.0000 - lr: 3.0000e-05\n",
            "Epoch 83/200\n",
            "119/125 [===========================>..] - ETA: 0s - loss: 1.9589e-04 - accuracy: 1.0000"
          ]
        },
        {
          "output_type": "stream",
          "name": "stderr",
          "text": [
            "WARNING:tensorflow:Early stopping conditioned on metric `val_loss` which is not available. Available metrics are: loss,accuracy\n",
            "WARNING:tensorflow:Learning rate reduction is conditioned on metric `val_loss` which is not available. Available metrics are: loss,accuracy,lr\n"
          ]
        },
        {
          "output_type": "stream",
          "name": "stdout",
          "text": [
            "\b\b\b\b\b\b\b\b\b\b\b\b\b\b\b\b\b\b\b\b\b\b\b\b\b\b\b\b\b\b\b\b\b\b\b\b\b\b\b\b\b\b\b\b\b\b\b\b\b\b\b\b\b\b\b\b\b\b\b\b\b\b\b\b\b\b\b\b\b\b\b\b\b\b\b\b\b\b\b\b\b\b\b\b\b\b\b\b\r125/125 [==============================] - 1s 7ms/step - loss: 1.9321e-04 - accuracy: 1.0000 - lr: 3.0000e-05\n",
            "Epoch 84/200\n",
            "120/125 [===========================>..] - ETA: 0s - loss: 1.6742e-04 - accuracy: 1.0000"
          ]
        },
        {
          "output_type": "stream",
          "name": "stderr",
          "text": [
            "WARNING:tensorflow:Early stopping conditioned on metric `val_loss` which is not available. Available metrics are: loss,accuracy\n",
            "WARNING:tensorflow:Learning rate reduction is conditioned on metric `val_loss` which is not available. Available metrics are: loss,accuracy,lr\n"
          ]
        },
        {
          "output_type": "stream",
          "name": "stdout",
          "text": [
            "\b\b\b\b\b\b\b\b\b\b\b\b\b\b\b\b\b\b\b\b\b\b\b\b\b\b\b\b\b\b\b\b\b\b\b\b\b\b\b\b\b\b\b\b\b\b\b\b\b\b\b\b\b\b\b\b\b\b\b\b\b\b\b\b\b\b\b\b\b\b\b\b\b\b\b\b\b\b\b\b\b\b\b\b\b\b\b\b\r125/125 [==============================] - 1s 7ms/step - loss: 1.6641e-04 - accuracy: 1.0000 - lr: 3.0000e-05\n",
            "Epoch 85/200\n",
            "120/125 [===========================>..] - ETA: 0s - loss: 1.5440e-04 - accuracy: 1.0000"
          ]
        },
        {
          "output_type": "stream",
          "name": "stderr",
          "text": [
            "WARNING:tensorflow:Early stopping conditioned on metric `val_loss` which is not available. Available metrics are: loss,accuracy\n",
            "WARNING:tensorflow:Learning rate reduction is conditioned on metric `val_loss` which is not available. Available metrics are: loss,accuracy,lr\n"
          ]
        },
        {
          "output_type": "stream",
          "name": "stdout",
          "text": [
            "\b\b\b\b\b\b\b\b\b\b\b\b\b\b\b\b\b\b\b\b\b\b\b\b\b\b\b\b\b\b\b\b\b\b\b\b\b\b\b\b\b\b\b\b\b\b\b\b\b\b\b\b\b\b\b\b\b\b\b\b\b\b\b\b\b\b\b\b\b\b\b\b\b\b\b\b\b\b\b\b\b\b\b\b\b\b\b\b\r125/125 [==============================] - 1s 7ms/step - loss: 1.5143e-04 - accuracy: 1.0000 - lr: 3.0000e-05\n",
            "Epoch 86/200\n",
            "124/125 [============================>.] - ETA: 0s - loss: 1.4958e-04 - accuracy: 1.0000"
          ]
        },
        {
          "output_type": "stream",
          "name": "stderr",
          "text": [
            "WARNING:tensorflow:Early stopping conditioned on metric `val_loss` which is not available. Available metrics are: loss,accuracy\n",
            "WARNING:tensorflow:Learning rate reduction is conditioned on metric `val_loss` which is not available. Available metrics are: loss,accuracy,lr\n"
          ]
        },
        {
          "output_type": "stream",
          "name": "stdout",
          "text": [
            "\b\b\b\b\b\b\b\b\b\b\b\b\b\b\b\b\b\b\b\b\b\b\b\b\b\b\b\b\b\b\b\b\b\b\b\b\b\b\b\b\b\b\b\b\b\b\b\b\b\b\b\b\b\b\b\b\b\b\b\b\b\b\b\b\b\b\b\b\b\b\b\b\b\b\b\b\b\b\b\b\b\b\b\b\b\b\b\b\r125/125 [==============================] - 1s 7ms/step - loss: 1.4915e-04 - accuracy: 1.0000 - lr: 3.0000e-05\n",
            "Epoch 87/200\n",
            "118/125 [===========================>..] - ETA: 0s - loss: 1.3520e-04 - accuracy: 1.0000"
          ]
        },
        {
          "output_type": "stream",
          "name": "stderr",
          "text": [
            "WARNING:tensorflow:Early stopping conditioned on metric `val_loss` which is not available. Available metrics are: loss,accuracy\n",
            "WARNING:tensorflow:Learning rate reduction is conditioned on metric `val_loss` which is not available. Available metrics are: loss,accuracy,lr\n"
          ]
        },
        {
          "output_type": "stream",
          "name": "stdout",
          "text": [
            "\b\b\b\b\b\b\b\b\b\b\b\b\b\b\b\b\b\b\b\b\b\b\b\b\b\b\b\b\b\b\b\b\b\b\b\b\b\b\b\b\b\b\b\b\b\b\b\b\b\b\b\b\b\b\b\b\b\b\b\b\b\b\b\b\b\b\b\b\b\b\b\b\b\b\b\b\b\b\b\b\b\b\b\b\b\b\b\b\r125/125 [==============================] - 1s 7ms/step - loss: 1.3234e-04 - accuracy: 1.0000 - lr: 3.0000e-05\n",
            "Epoch 88/200\n",
            "118/125 [===========================>..] - ETA: 0s - loss: 1.3534e-04 - accuracy: 1.0000"
          ]
        },
        {
          "output_type": "stream",
          "name": "stderr",
          "text": [
            "WARNING:tensorflow:Early stopping conditioned on metric `val_loss` which is not available. Available metrics are: loss,accuracy\n",
            "WARNING:tensorflow:Learning rate reduction is conditioned on metric `val_loss` which is not available. Available metrics are: loss,accuracy,lr\n"
          ]
        },
        {
          "output_type": "stream",
          "name": "stdout",
          "text": [
            "\b\b\b\b\b\b\b\b\b\b\b\b\b\b\b\b\b\b\b\b\b\b\b\b\b\b\b\b\b\b\b\b\b\b\b\b\b\b\b\b\b\b\b\b\b\b\b\b\b\b\b\b\b\b\b\b\b\b\b\b\b\b\b\b\b\b\b\b\b\b\b\b\b\b\b\b\b\b\b\b\b\b\b\b\b\b\b\b\r125/125 [==============================] - 1s 7ms/step - loss: 1.3212e-04 - accuracy: 1.0000 - lr: 3.0000e-05\n",
            "Epoch 89/200\n",
            "118/125 [===========================>..] - ETA: 0s - loss: 3.7783e-04 - accuracy: 1.0000"
          ]
        },
        {
          "output_type": "stream",
          "name": "stderr",
          "text": [
            "WARNING:tensorflow:Early stopping conditioned on metric `val_loss` which is not available. Available metrics are: loss,accuracy\n",
            "WARNING:tensorflow:Learning rate reduction is conditioned on metric `val_loss` which is not available. Available metrics are: loss,accuracy,lr\n"
          ]
        },
        {
          "output_type": "stream",
          "name": "stdout",
          "text": [
            "\b\b\b\b\b\b\b\b\b\b\b\b\b\b\b\b\b\b\b\b\b\b\b\b\b\b\b\b\b\b\b\b\b\b\b\b\b\b\b\b\b\b\b\b\b\b\b\b\b\b\b\b\b\b\b\b\b\b\b\b\b\b\b\b\b\b\b\b\b\b\b\b\b\b\b\b\b\b\b\b\b\b\b\b\b\b\b\b\r125/125 [==============================] - 1s 7ms/step - loss: 3.6761e-04 - accuracy: 1.0000 - lr: 3.0000e-05\n",
            "Epoch 90/200\n",
            "119/125 [===========================>..] - ETA: 0s - loss: 1.1509e-04 - accuracy: 1.0000"
          ]
        },
        {
          "output_type": "stream",
          "name": "stderr",
          "text": [
            "WARNING:tensorflow:Early stopping conditioned on metric `val_loss` which is not available. Available metrics are: loss,accuracy\n",
            "WARNING:tensorflow:Learning rate reduction is conditioned on metric `val_loss` which is not available. Available metrics are: loss,accuracy,lr\n"
          ]
        },
        {
          "output_type": "stream",
          "name": "stdout",
          "text": [
            "\b\b\b\b\b\b\b\b\b\b\b\b\b\b\b\b\b\b\b\b\b\b\b\b\b\b\b\b\b\b\b\b\b\b\b\b\b\b\b\b\b\b\b\b\b\b\b\b\b\b\b\b\b\b\b\b\b\b\b\b\b\b\b\b\b\b\b\b\b\b\b\b\b\b\b\b\b\b\b\b\b\b\b\b\b\b\b\b\r125/125 [==============================] - 1s 7ms/step - loss: 1.1837e-04 - accuracy: 1.0000 - lr: 3.0000e-05\n",
            "Epoch 91/200\n",
            "124/125 [============================>.] - ETA: 0s - loss: 1.0169e-04 - accuracy: 1.0000"
          ]
        },
        {
          "output_type": "stream",
          "name": "stderr",
          "text": [
            "WARNING:tensorflow:Early stopping conditioned on metric `val_loss` which is not available. Available metrics are: loss,accuracy\n",
            "WARNING:tensorflow:Learning rate reduction is conditioned on metric `val_loss` which is not available. Available metrics are: loss,accuracy,lr\n"
          ]
        },
        {
          "output_type": "stream",
          "name": "stdout",
          "text": [
            "\b\b\b\b\b\b\b\b\b\b\b\b\b\b\b\b\b\b\b\b\b\b\b\b\b\b\b\b\b\b\b\b\b\b\b\b\b\b\b\b\b\b\b\b\b\b\b\b\b\b\b\b\b\b\b\b\b\b\b\b\b\b\b\b\b\b\b\b\b\b\b\b\b\b\b\b\b\b\b\b\b\b\b\b\b\b\b\b\r125/125 [==============================] - 1s 7ms/step - loss: 1.0330e-04 - accuracy: 1.0000 - lr: 3.0000e-05\n",
            "Epoch 92/200\n",
            "118/125 [===========================>..] - ETA: 0s - loss: 1.1202e-04 - accuracy: 1.0000"
          ]
        },
        {
          "output_type": "stream",
          "name": "stderr",
          "text": [
            "WARNING:tensorflow:Early stopping conditioned on metric `val_loss` which is not available. Available metrics are: loss,accuracy\n",
            "WARNING:tensorflow:Learning rate reduction is conditioned on metric `val_loss` which is not available. Available metrics are: loss,accuracy,lr\n"
          ]
        },
        {
          "output_type": "stream",
          "name": "stdout",
          "text": [
            "\b\b\b\b\b\b\b\b\b\b\b\b\b\b\b\b\b\b\b\b\b\b\b\b\b\b\b\b\b\b\b\b\b\b\b\b\b\b\b\b\b\b\b\b\b\b\b\b\b\b\b\b\b\b\b\b\b\b\b\b\b\b\b\b\b\b\b\b\b\b\b\b\b\b\b\b\b\b\b\b\b\b\b\b\b\b\b\b\r125/125 [==============================] - 1s 7ms/step - loss: 1.1304e-04 - accuracy: 1.0000 - lr: 3.0000e-05\n",
            "Epoch 93/200\n",
            "125/125 [==============================] - ETA: 0s - loss: 9.5743e-05 - accuracy: 1.0000"
          ]
        },
        {
          "output_type": "stream",
          "name": "stderr",
          "text": [
            "WARNING:tensorflow:Early stopping conditioned on metric `val_loss` which is not available. Available metrics are: loss,accuracy\n",
            "WARNING:tensorflow:Learning rate reduction is conditioned on metric `val_loss` which is not available. Available metrics are: loss,accuracy,lr\n"
          ]
        },
        {
          "output_type": "stream",
          "name": "stdout",
          "text": [
            "\b\b\b\b\b\b\b\b\b\b\b\b\b\b\b\b\b\b\b\b\b\b\b\b\b\b\b\b\b\b\b\b\b\b\b\b\b\b\b\b\b\b\b\b\b\b\b\b\b\b\b\b\b\b\b\b\b\b\b\b\b\b\b\b\b\b\b\b\b\b\b\b\b\b\b\b\b\b\b\b\b\b\b\b\b\b\b\b\r125/125 [==============================] - 1s 7ms/step - loss: 9.5743e-05 - accuracy: 1.0000 - lr: 3.0000e-05\n",
            "Epoch 94/200\n",
            "120/125 [===========================>..] - ETA: 0s - loss: 7.2162e-05 - accuracy: 1.0000"
          ]
        },
        {
          "output_type": "stream",
          "name": "stderr",
          "text": [
            "WARNING:tensorflow:Early stopping conditioned on metric `val_loss` which is not available. Available metrics are: loss,accuracy\n",
            "WARNING:tensorflow:Learning rate reduction is conditioned on metric `val_loss` which is not available. Available metrics are: loss,accuracy,lr\n"
          ]
        },
        {
          "output_type": "stream",
          "name": "stdout",
          "text": [
            "\b\b\b\b\b\b\b\b\b\b\b\b\b\b\b\b\b\b\b\b\b\b\b\b\b\b\b\b\b\b\b\b\b\b\b\b\b\b\b\b\b\b\b\b\b\b\b\b\b\b\b\b\b\b\b\b\b\b\b\b\b\b\b\b\b\b\b\b\b\b\b\b\b\b\b\b\b\b\b\b\b\b\b\b\b\b\b\b\r125/125 [==============================] - 1s 7ms/step - loss: 7.1221e-05 - accuracy: 1.0000 - lr: 3.0000e-05\n",
            "Epoch 95/200\n",
            "120/125 [===========================>..] - ETA: 0s - loss: 8.5113e-05 - accuracy: 1.0000"
          ]
        },
        {
          "output_type": "stream",
          "name": "stderr",
          "text": [
            "WARNING:tensorflow:Early stopping conditioned on metric `val_loss` which is not available. Available metrics are: loss,accuracy\n",
            "WARNING:tensorflow:Learning rate reduction is conditioned on metric `val_loss` which is not available. Available metrics are: loss,accuracy,lr\n"
          ]
        },
        {
          "output_type": "stream",
          "name": "stdout",
          "text": [
            "\b\b\b\b\b\b\b\b\b\b\b\b\b\b\b\b\b\b\b\b\b\b\b\b\b\b\b\b\b\b\b\b\b\b\b\b\b\b\b\b\b\b\b\b\b\b\b\b\b\b\b\b\b\b\b\b\b\b\b\b\b\b\b\b\b\b\b\b\b\b\b\b\b\b\b\b\b\b\b\b\b\b\b\b\b\b\b\b\r125/125 [==============================] - 1s 7ms/step - loss: 8.3834e-05 - accuracy: 1.0000 - lr: 3.0000e-05\n",
            "Epoch 96/200\n",
            "118/125 [===========================>..] - ETA: 0s - loss: 8.1190e-05 - accuracy: 1.0000"
          ]
        },
        {
          "output_type": "stream",
          "name": "stderr",
          "text": [
            "WARNING:tensorflow:Early stopping conditioned on metric `val_loss` which is not available. Available metrics are: loss,accuracy\n",
            "WARNING:tensorflow:Learning rate reduction is conditioned on metric `val_loss` which is not available. Available metrics are: loss,accuracy,lr\n"
          ]
        },
        {
          "output_type": "stream",
          "name": "stdout",
          "text": [
            "\b\b\b\b\b\b\b\b\b\b\b\b\b\b\b\b\b\b\b\b\b\b\b\b\b\b\b\b\b\b\b\b\b\b\b\b\b\b\b\b\b\b\b\b\b\b\b\b\b\b\b\b\b\b\b\b\b\b\b\b\b\b\b\b\b\b\b\b\b\b\b\b\b\b\b\b\b\b\b\b\b\b\b\b\b\b\b\b\r125/125 [==============================] - 1s 7ms/step - loss: 7.9307e-05 - accuracy: 1.0000 - lr: 3.0000e-05\n",
            "Epoch 97/200\n",
            "119/125 [===========================>..] - ETA: 0s - loss: 8.0487e-05 - accuracy: 1.0000"
          ]
        },
        {
          "output_type": "stream",
          "name": "stderr",
          "text": [
            "WARNING:tensorflow:Early stopping conditioned on metric `val_loss` which is not available. Available metrics are: loss,accuracy\n",
            "WARNING:tensorflow:Learning rate reduction is conditioned on metric `val_loss` which is not available. Available metrics are: loss,accuracy,lr\n"
          ]
        },
        {
          "output_type": "stream",
          "name": "stdout",
          "text": [
            "\b\b\b\b\b\b\b\b\b\b\b\b\b\b\b\b\b\b\b\b\b\b\b\b\b\b\b\b\b\b\b\b\b\b\b\b\b\b\b\b\b\b\b\b\b\b\b\b\b\b\b\b\b\b\b\b\b\b\b\b\b\b\b\b\b\b\b\b\b\b\b\b\b\b\b\b\b\b\b\b\b\b\b\b\b\b\b\b\r125/125 [==============================] - 1s 7ms/step - loss: 7.8333e-05 - accuracy: 1.0000 - lr: 3.0000e-05\n",
            "Epoch 98/200\n",
            "125/125 [==============================] - ETA: 0s - loss: 7.0193e-05 - accuracy: 1.0000"
          ]
        },
        {
          "output_type": "stream",
          "name": "stderr",
          "text": [
            "WARNING:tensorflow:Early stopping conditioned on metric `val_loss` which is not available. Available metrics are: loss,accuracy\n",
            "WARNING:tensorflow:Learning rate reduction is conditioned on metric `val_loss` which is not available. Available metrics are: loss,accuracy,lr\n"
          ]
        },
        {
          "output_type": "stream",
          "name": "stdout",
          "text": [
            "\b\b\b\b\b\b\b\b\b\b\b\b\b\b\b\b\b\b\b\b\b\b\b\b\b\b\b\b\b\b\b\b\b\b\b\b\b\b\b\b\b\b\b\b\b\b\b\b\b\b\b\b\b\b\b\b\b\b\b\b\b\b\b\b\b\b\b\b\b\b\b\b\b\b\b\b\b\b\b\b\b\b\b\b\b\b\b\b\r125/125 [==============================] - 1s 7ms/step - loss: 7.0193e-05 - accuracy: 1.0000 - lr: 3.0000e-05\n",
            "Epoch 99/200\n",
            "119/125 [===========================>..] - ETA: 0s - loss: 6.4979e-05 - accuracy: 1.0000"
          ]
        },
        {
          "output_type": "stream",
          "name": "stderr",
          "text": [
            "WARNING:tensorflow:Early stopping conditioned on metric `val_loss` which is not available. Available metrics are: loss,accuracy\n",
            "WARNING:tensorflow:Learning rate reduction is conditioned on metric `val_loss` which is not available. Available metrics are: loss,accuracy,lr\n"
          ]
        },
        {
          "output_type": "stream",
          "name": "stdout",
          "text": [
            "\b\b\b\b\b\b\b\b\b\b\b\b\b\b\b\b\b\b\b\b\b\b\b\b\b\b\b\b\b\b\b\b\b\b\b\b\b\b\b\b\b\b\b\b\b\b\b\b\b\b\b\b\b\b\b\b\b\b\b\b\b\b\b\b\b\b\b\b\b\b\b\b\b\b\b\b\b\b\b\b\b\b\b\b\b\b\b\b\r125/125 [==============================] - 1s 7ms/step - loss: 6.4328e-05 - accuracy: 1.0000 - lr: 3.0000e-05\n",
            "Epoch 100/200\n",
            "119/125 [===========================>..] - ETA: 0s - loss: 6.7106e-05 - accuracy: 1.0000"
          ]
        },
        {
          "output_type": "stream",
          "name": "stderr",
          "text": [
            "WARNING:tensorflow:Early stopping conditioned on metric `val_loss` which is not available. Available metrics are: loss,accuracy\n",
            "WARNING:tensorflow:Learning rate reduction is conditioned on metric `val_loss` which is not available. Available metrics are: loss,accuracy,lr\n"
          ]
        },
        {
          "output_type": "stream",
          "name": "stdout",
          "text": [
            "\b\b\b\b\b\b\b\b\b\b\b\b\b\b\b\b\b\b\b\b\b\b\b\b\b\b\b\b\b\b\b\b\b\b\b\b\b\b\b\b\b\b\b\b\b\b\b\b\b\b\b\b\b\b\b\b\b\b\b\b\b\b\b\b\b\b\b\b\b\b\b\b\b\b\b\b\b\b\b\b\b\b\b\b\b\b\b\b\r125/125 [==============================] - 1s 7ms/step - loss: 6.8349e-05 - accuracy: 1.0000 - lr: 3.0000e-05\n",
            "Epoch 101/200\n",
            "125/125 [==============================] - ETA: 0s - loss: 5.9442e-05 - accuracy: 1.0000"
          ]
        },
        {
          "output_type": "stream",
          "name": "stderr",
          "text": [
            "WARNING:tensorflow:Early stopping conditioned on metric `val_loss` which is not available. Available metrics are: loss,accuracy\n",
            "WARNING:tensorflow:Learning rate reduction is conditioned on metric `val_loss` which is not available. Available metrics are: loss,accuracy,lr\n"
          ]
        },
        {
          "output_type": "stream",
          "name": "stdout",
          "text": [
            "\b\b\b\b\b\b\b\b\b\b\b\b\b\b\b\b\b\b\b\b\b\b\b\b\b\b\b\b\b\b\b\b\b\b\b\b\b\b\b\b\b\b\b\b\b\b\b\b\b\b\b\b\b\b\b\b\b\b\b\b\b\b\b\b\b\b\b\b\b\b\b\b\b\b\b\b\b\b\b\b\b\b\b\b\b\b\b\b\r125/125 [==============================] - 1s 7ms/step - loss: 5.9442e-05 - accuracy: 1.0000 - lr: 3.0000e-05\n",
            "Epoch 102/200\n",
            "125/125 [==============================] - ETA: 0s - loss: 5.7373e-05 - accuracy: 1.0000"
          ]
        },
        {
          "output_type": "stream",
          "name": "stderr",
          "text": [
            "WARNING:tensorflow:Early stopping conditioned on metric `val_loss` which is not available. Available metrics are: loss,accuracy\n",
            "WARNING:tensorflow:Learning rate reduction is conditioned on metric `val_loss` which is not available. Available metrics are: loss,accuracy,lr\n"
          ]
        },
        {
          "output_type": "stream",
          "name": "stdout",
          "text": [
            "\b\b\b\b\b\b\b\b\b\b\b\b\b\b\b\b\b\b\b\b\b\b\b\b\b\b\b\b\b\b\b\b\b\b\b\b\b\b\b\b\b\b\b\b\b\b\b\b\b\b\b\b\b\b\b\b\b\b\b\b\b\b\b\b\b\b\b\b\b\b\b\b\b\b\b\b\b\b\b\b\b\b\b\b\b\b\b\b\r125/125 [==============================] - 1s 7ms/step - loss: 5.7373e-05 - accuracy: 1.0000 - lr: 3.0000e-05\n",
            "Epoch 103/200\n",
            "118/125 [===========================>..] - ETA: 0s - loss: 4.5180e-05 - accuracy: 1.0000"
          ]
        },
        {
          "output_type": "stream",
          "name": "stderr",
          "text": [
            "WARNING:tensorflow:Early stopping conditioned on metric `val_loss` which is not available. Available metrics are: loss,accuracy\n",
            "WARNING:tensorflow:Learning rate reduction is conditioned on metric `val_loss` which is not available. Available metrics are: loss,accuracy,lr\n"
          ]
        },
        {
          "output_type": "stream",
          "name": "stdout",
          "text": [
            "\b\b\b\b\b\b\b\b\b\b\b\b\b\b\b\b\b\b\b\b\b\b\b\b\b\b\b\b\b\b\b\b\b\b\b\b\b\b\b\b\b\b\b\b\b\b\b\b\b\b\b\b\b\b\b\b\b\b\b\b\b\b\b\b\b\b\b\b\b\b\b\b\b\b\b\b\b\b\b\b\b\b\b\b\b\b\b\b\r125/125 [==============================] - 1s 7ms/step - loss: 4.6172e-05 - accuracy: 1.0000 - lr: 3.0000e-05\n",
            "Epoch 104/200\n",
            "119/125 [===========================>..] - ETA: 0s - loss: 4.1085e-05 - accuracy: 1.0000"
          ]
        },
        {
          "output_type": "stream",
          "name": "stderr",
          "text": [
            "WARNING:tensorflow:Early stopping conditioned on metric `val_loss` which is not available. Available metrics are: loss,accuracy\n",
            "WARNING:tensorflow:Learning rate reduction is conditioned on metric `val_loss` which is not available. Available metrics are: loss,accuracy,lr\n"
          ]
        },
        {
          "output_type": "stream",
          "name": "stdout",
          "text": [
            "\b\b\b\b\b\b\b\b\b\b\b\b\b\b\b\b\b\b\b\b\b\b\b\b\b\b\b\b\b\b\b\b\b\b\b\b\b\b\b\b\b\b\b\b\b\b\b\b\b\b\b\b\b\b\b\b\b\b\b\b\b\b\b\b\b\b\b\b\b\b\b\b\b\b\b\b\b\b\b\b\b\b\b\b\b\b\b\b\r125/125 [==============================] - 1s 7ms/step - loss: 4.1185e-05 - accuracy: 1.0000 - lr: 3.0000e-05\n",
            "Epoch 105/200\n",
            "118/125 [===========================>..] - ETA: 0s - loss: 4.6149e-05 - accuracy: 1.0000"
          ]
        },
        {
          "output_type": "stream",
          "name": "stderr",
          "text": [
            "WARNING:tensorflow:Early stopping conditioned on metric `val_loss` which is not available. Available metrics are: loss,accuracy\n",
            "WARNING:tensorflow:Learning rate reduction is conditioned on metric `val_loss` which is not available. Available metrics are: loss,accuracy,lr\n"
          ]
        },
        {
          "output_type": "stream",
          "name": "stdout",
          "text": [
            "\b\b\b\b\b\b\b\b\b\b\b\b\b\b\b\b\b\b\b\b\b\b\b\b\b\b\b\b\b\b\b\b\b\b\b\b\b\b\b\b\b\b\b\b\b\b\b\b\b\b\b\b\b\b\b\b\b\b\b\b\b\b\b\b\b\b\b\b\b\b\b\b\b\b\b\b\b\b\b\b\b\b\b\b\b\b\b\b\r125/125 [==============================] - 1s 7ms/step - loss: 4.4969e-05 - accuracy: 1.0000 - lr: 3.0000e-05\n",
            "Epoch 106/200\n",
            "121/125 [============================>.] - ETA: 0s - loss: 3.5623e-05 - accuracy: 1.0000"
          ]
        },
        {
          "output_type": "stream",
          "name": "stderr",
          "text": [
            "WARNING:tensorflow:Early stopping conditioned on metric `val_loss` which is not available. Available metrics are: loss,accuracy\n",
            "WARNING:tensorflow:Learning rate reduction is conditioned on metric `val_loss` which is not available. Available metrics are: loss,accuracy,lr\n"
          ]
        },
        {
          "output_type": "stream",
          "name": "stdout",
          "text": [
            "\b\b\b\b\b\b\b\b\b\b\b\b\b\b\b\b\b\b\b\b\b\b\b\b\b\b\b\b\b\b\b\b\b\b\b\b\b\b\b\b\b\b\b\b\b\b\b\b\b\b\b\b\b\b\b\b\b\b\b\b\b\b\b\b\b\b\b\b\b\b\b\b\b\b\b\b\b\b\b\b\b\b\b\b\b\b\b\b\r125/125 [==============================] - 1s 7ms/step - loss: 3.8712e-05 - accuracy: 1.0000 - lr: 3.0000e-05\n",
            "Epoch 107/200\n",
            "120/125 [===========================>..] - ETA: 0s - loss: 4.0963e-05 - accuracy: 1.0000"
          ]
        },
        {
          "output_type": "stream",
          "name": "stderr",
          "text": [
            "WARNING:tensorflow:Early stopping conditioned on metric `val_loss` which is not available. Available metrics are: loss,accuracy\n",
            "WARNING:tensorflow:Learning rate reduction is conditioned on metric `val_loss` which is not available. Available metrics are: loss,accuracy,lr\n"
          ]
        },
        {
          "output_type": "stream",
          "name": "stdout",
          "text": [
            "\b\b\b\b\b\b\b\b\b\b\b\b\b\b\b\b\b\b\b\b\b\b\b\b\b\b\b\b\b\b\b\b\b\b\b\b\b\b\b\b\b\b\b\b\b\b\b\b\b\b\b\b\b\b\b\b\b\b\b\b\b\b\b\b\b\b\b\b\b\b\b\b\b\b\b\b\b\b\b\b\b\b\b\b\b\b\b\b\r125/125 [==============================] - 1s 7ms/step - loss: 4.1826e-05 - accuracy: 1.0000 - lr: 3.0000e-05\n",
            "Epoch 108/200\n",
            "125/125 [==============================] - ETA: 0s - loss: 3.2914e-05 - accuracy: 1.0000"
          ]
        },
        {
          "output_type": "stream",
          "name": "stderr",
          "text": [
            "WARNING:tensorflow:Early stopping conditioned on metric `val_loss` which is not available. Available metrics are: loss,accuracy\n",
            "WARNING:tensorflow:Learning rate reduction is conditioned on metric `val_loss` which is not available. Available metrics are: loss,accuracy,lr\n"
          ]
        },
        {
          "output_type": "stream",
          "name": "stdout",
          "text": [
            "\b\b\b\b\b\b\b\b\b\b\b\b\b\b\b\b\b\b\b\b\b\b\b\b\b\b\b\b\b\b\b\b\b\b\b\b\b\b\b\b\b\b\b\b\b\b\b\b\b\b\b\b\b\b\b\b\b\b\b\b\b\b\b\b\b\b\b\b\b\b\b\b\b\b\b\b\b\b\b\b\b\b\b\b\b\b\b\b\r125/125 [==============================] - 1s 7ms/step - loss: 3.2914e-05 - accuracy: 1.0000 - lr: 3.0000e-05\n",
            "Epoch 109/200\n",
            "120/125 [===========================>..] - ETA: 0s - loss: 3.8115e-05 - accuracy: 1.0000"
          ]
        },
        {
          "output_type": "stream",
          "name": "stderr",
          "text": [
            "WARNING:tensorflow:Early stopping conditioned on metric `val_loss` which is not available. Available metrics are: loss,accuracy\n",
            "WARNING:tensorflow:Learning rate reduction is conditioned on metric `val_loss` which is not available. Available metrics are: loss,accuracy,lr\n"
          ]
        },
        {
          "output_type": "stream",
          "name": "stdout",
          "text": [
            "\b\b\b\b\b\b\b\b\b\b\b\b\b\b\b\b\b\b\b\b\b\b\b\b\b\b\b\b\b\b\b\b\b\b\b\b\b\b\b\b\b\b\b\b\b\b\b\b\b\b\b\b\b\b\b\b\b\b\b\b\b\b\b\b\b\b\b\b\b\b\b\b\b\b\b\b\b\b\b\b\b\b\b\b\b\b\b\b\r125/125 [==============================] - 1s 7ms/step - loss: 3.7538e-05 - accuracy: 1.0000 - lr: 3.0000e-05\n",
            "Epoch 110/200\n",
            "120/125 [===========================>..] - ETA: 0s - loss: 2.8142e-05 - accuracy: 1.0000"
          ]
        },
        {
          "output_type": "stream",
          "name": "stderr",
          "text": [
            "WARNING:tensorflow:Early stopping conditioned on metric `val_loss` which is not available. Available metrics are: loss,accuracy\n",
            "WARNING:tensorflow:Learning rate reduction is conditioned on metric `val_loss` which is not available. Available metrics are: loss,accuracy,lr\n"
          ]
        },
        {
          "output_type": "stream",
          "name": "stdout",
          "text": [
            "\b\b\b\b\b\b\b\b\b\b\b\b\b\b\b\b\b\b\b\b\b\b\b\b\b\b\b\b\b\b\b\b\b\b\b\b\b\b\b\b\b\b\b\b\b\b\b\b\b\b\b\b\b\b\b\b\b\b\b\b\b\b\b\b\b\b\b\b\b\b\b\b\b\b\b\b\b\b\b\b\b\b\b\b\b\b\b\b\r125/125 [==============================] - 1s 7ms/step - loss: 2.7818e-05 - accuracy: 1.0000 - lr: 3.0000e-05\n",
            "Epoch 111/200\n",
            "124/125 [============================>.] - ETA: 0s - loss: 2.6050e-05 - accuracy: 1.0000"
          ]
        },
        {
          "output_type": "stream",
          "name": "stderr",
          "text": [
            "WARNING:tensorflow:Early stopping conditioned on metric `val_loss` which is not available. Available metrics are: loss,accuracy\n",
            "WARNING:tensorflow:Learning rate reduction is conditioned on metric `val_loss` which is not available. Available metrics are: loss,accuracy,lr\n"
          ]
        },
        {
          "output_type": "stream",
          "name": "stdout",
          "text": [
            "\b\b\b\b\b\b\b\b\b\b\b\b\b\b\b\b\b\b\b\b\b\b\b\b\b\b\b\b\b\b\b\b\b\b\b\b\b\b\b\b\b\b\b\b\b\b\b\b\b\b\b\b\b\b\b\b\b\b\b\b\b\b\b\b\b\b\b\b\b\b\b\b\b\b\b\b\b\b\b\b\b\b\b\b\b\b\b\b\r125/125 [==============================] - 1s 7ms/step - loss: 2.5963e-05 - accuracy: 1.0000 - lr: 3.0000e-05\n",
            "Epoch 112/200\n",
            "125/125 [==============================] - ETA: 0s - loss: 2.7257e-05 - accuracy: 1.0000"
          ]
        },
        {
          "output_type": "stream",
          "name": "stderr",
          "text": [
            "WARNING:tensorflow:Early stopping conditioned on metric `val_loss` which is not available. Available metrics are: loss,accuracy\n",
            "WARNING:tensorflow:Learning rate reduction is conditioned on metric `val_loss` which is not available. Available metrics are: loss,accuracy,lr\n"
          ]
        },
        {
          "output_type": "stream",
          "name": "stdout",
          "text": [
            "\b\b\b\b\b\b\b\b\b\b\b\b\b\b\b\b\b\b\b\b\b\b\b\b\b\b\b\b\b\b\b\b\b\b\b\b\b\b\b\b\b\b\b\b\b\b\b\b\b\b\b\b\b\b\b\b\b\b\b\b\b\b\b\b\b\b\b\b\b\b\b\b\b\b\b\b\b\b\b\b\b\b\b\b\b\b\b\b\r125/125 [==============================] - 1s 7ms/step - loss: 2.7257e-05 - accuracy: 1.0000 - lr: 3.0000e-05\n",
            "Epoch 113/200\n",
            "125/125 [==============================] - ETA: 0s - loss: 3.1056e-05 - accuracy: 1.0000"
          ]
        },
        {
          "output_type": "stream",
          "name": "stderr",
          "text": [
            "WARNING:tensorflow:Early stopping conditioned on metric `val_loss` which is not available. Available metrics are: loss,accuracy\n",
            "WARNING:tensorflow:Learning rate reduction is conditioned on metric `val_loss` which is not available. Available metrics are: loss,accuracy,lr\n"
          ]
        },
        {
          "output_type": "stream",
          "name": "stdout",
          "text": [
            "\b\b\b\b\b\b\b\b\b\b\b\b\b\b\b\b\b\b\b\b\b\b\b\b\b\b\b\b\b\b\b\b\b\b\b\b\b\b\b\b\b\b\b\b\b\b\b\b\b\b\b\b\b\b\b\b\b\b\b\b\b\b\b\b\b\b\b\b\b\b\b\b\b\b\b\b\b\b\b\b\b\b\b\b\b\b\b\b\r125/125 [==============================] - 1s 7ms/step - loss: 3.1056e-05 - accuracy: 1.0000 - lr: 3.0000e-05\n",
            "Epoch 114/200\n",
            "124/125 [============================>.] - ETA: 0s - loss: 2.2397e-05 - accuracy: 1.0000"
          ]
        },
        {
          "output_type": "stream",
          "name": "stderr",
          "text": [
            "WARNING:tensorflow:Early stopping conditioned on metric `val_loss` which is not available. Available metrics are: loss,accuracy\n",
            "WARNING:tensorflow:Learning rate reduction is conditioned on metric `val_loss` which is not available. Available metrics are: loss,accuracy,lr\n"
          ]
        },
        {
          "output_type": "stream",
          "name": "stdout",
          "text": [
            "\b\b\b\b\b\b\b\b\b\b\b\b\b\b\b\b\b\b\b\b\b\b\b\b\b\b\b\b\b\b\b\b\b\b\b\b\b\b\b\b\b\b\b\b\b\b\b\b\b\b\b\b\b\b\b\b\b\b\b\b\b\b\b\b\b\b\b\b\b\b\b\b\b\b\b\b\b\b\b\b\b\b\b\b\b\b\b\b\r125/125 [==============================] - 1s 7ms/step - loss: 2.2295e-05 - accuracy: 1.0000 - lr: 3.0000e-05\n",
            "Epoch 115/200\n",
            "119/125 [===========================>..] - ETA: 0s - loss: 2.4000e-05 - accuracy: 1.0000"
          ]
        },
        {
          "output_type": "stream",
          "name": "stderr",
          "text": [
            "WARNING:tensorflow:Early stopping conditioned on metric `val_loss` which is not available. Available metrics are: loss,accuracy\n",
            "WARNING:tensorflow:Learning rate reduction is conditioned on metric `val_loss` which is not available. Available metrics are: loss,accuracy,lr\n"
          ]
        },
        {
          "output_type": "stream",
          "name": "stdout",
          "text": [
            "\b\b\b\b\b\b\b\b\b\b\b\b\b\b\b\b\b\b\b\b\b\b\b\b\b\b\b\b\b\b\b\b\b\b\b\b\b\b\b\b\b\b\b\b\b\b\b\b\b\b\b\b\b\b\b\b\b\b\b\b\b\b\b\b\b\b\b\b\b\b\b\b\b\b\b\b\b\b\b\b\b\b\b\b\b\b\b\b\r125/125 [==============================] - 1s 7ms/step - loss: 2.3562e-05 - accuracy: 1.0000 - lr: 3.0000e-05\n",
            "Epoch 116/200\n",
            "118/125 [===========================>..] - ETA: 0s - loss: 2.3890e-05 - accuracy: 1.0000"
          ]
        },
        {
          "output_type": "stream",
          "name": "stderr",
          "text": [
            "WARNING:tensorflow:Early stopping conditioned on metric `val_loss` which is not available. Available metrics are: loss,accuracy\n",
            "WARNING:tensorflow:Learning rate reduction is conditioned on metric `val_loss` which is not available. Available metrics are: loss,accuracy,lr\n"
          ]
        },
        {
          "output_type": "stream",
          "name": "stdout",
          "text": [
            "\b\b\b\b\b\b\b\b\b\b\b\b\b\b\b\b\b\b\b\b\b\b\b\b\b\b\b\b\b\b\b\b\b\b\b\b\b\b\b\b\b\b\b\b\b\b\b\b\b\b\b\b\b\b\b\b\b\b\b\b\b\b\b\b\b\b\b\b\b\b\b\b\b\b\b\b\b\b\b\b\b\b\b\b\b\b\b\b\r125/125 [==============================] - 1s 7ms/step - loss: 2.4076e-05 - accuracy: 1.0000 - lr: 3.0000e-05\n",
            "Epoch 117/200\n",
            "118/125 [===========================>..] - ETA: 0s - loss: 2.3111e-05 - accuracy: 1.0000"
          ]
        },
        {
          "output_type": "stream",
          "name": "stderr",
          "text": [
            "WARNING:tensorflow:Early stopping conditioned on metric `val_loss` which is not available. Available metrics are: loss,accuracy\n",
            "WARNING:tensorflow:Learning rate reduction is conditioned on metric `val_loss` which is not available. Available metrics are: loss,accuracy,lr\n"
          ]
        },
        {
          "output_type": "stream",
          "name": "stdout",
          "text": [
            "\b\b\b\b\b\b\b\b\b\b\b\b\b\b\b\b\b\b\b\b\b\b\b\b\b\b\b\b\b\b\b\b\b\b\b\b\b\b\b\b\b\b\b\b\b\b\b\b\b\b\b\b\b\b\b\b\b\b\b\b\b\b\b\b\b\b\b\b\b\b\b\b\b\b\b\b\b\b\b\b\b\b\b\b\b\b\b\b\r125/125 [==============================] - 1s 7ms/step - loss: 2.2820e-05 - accuracy: 1.0000 - lr: 3.0000e-05\n",
            "Epoch 118/200\n",
            "124/125 [============================>.] - ETA: 0s - loss: 1.9746e-05 - accuracy: 1.0000"
          ]
        },
        {
          "output_type": "stream",
          "name": "stderr",
          "text": [
            "WARNING:tensorflow:Early stopping conditioned on metric `val_loss` which is not available. Available metrics are: loss,accuracy\n",
            "WARNING:tensorflow:Learning rate reduction is conditioned on metric `val_loss` which is not available. Available metrics are: loss,accuracy,lr\n"
          ]
        },
        {
          "output_type": "stream",
          "name": "stdout",
          "text": [
            "\b\b\b\b\b\b\b\b\b\b\b\b\b\b\b\b\b\b\b\b\b\b\b\b\b\b\b\b\b\b\b\b\b\b\b\b\b\b\b\b\b\b\b\b\b\b\b\b\b\b\b\b\b\b\b\b\b\b\b\b\b\b\b\b\b\b\b\b\b\b\b\b\b\b\b\b\b\b\b\b\b\b\b\b\b\b\b\b\r125/125 [==============================] - 1s 7ms/step - loss: 1.9695e-05 - accuracy: 1.0000 - lr: 3.0000e-05\n",
            "Epoch 119/200\n",
            "123/125 [============================>.] - ETA: 0s - loss: 2.1960e-05 - accuracy: 1.0000"
          ]
        },
        {
          "output_type": "stream",
          "name": "stderr",
          "text": [
            "WARNING:tensorflow:Early stopping conditioned on metric `val_loss` which is not available. Available metrics are: loss,accuracy\n",
            "WARNING:tensorflow:Learning rate reduction is conditioned on metric `val_loss` which is not available. Available metrics are: loss,accuracy,lr\n"
          ]
        },
        {
          "output_type": "stream",
          "name": "stdout",
          "text": [
            "\b\b\b\b\b\b\b\b\b\b\b\b\b\b\b\b\b\b\b\b\b\b\b\b\b\b\b\b\b\b\b\b\b\b\b\b\b\b\b\b\b\b\b\b\b\b\b\b\b\b\b\b\b\b\b\b\b\b\b\b\b\b\b\b\b\b\b\b\b\b\b\b\b\b\b\b\b\b\b\b\b\b\b\b\b\b\b\b\r125/125 [==============================] - 1s 7ms/step - loss: 2.1701e-05 - accuracy: 1.0000 - lr: 3.0000e-05\n",
            "Epoch 120/200\n",
            "125/125 [==============================] - ETA: 0s - loss: 1.6298e-05 - accuracy: 1.0000"
          ]
        },
        {
          "output_type": "stream",
          "name": "stderr",
          "text": [
            "WARNING:tensorflow:Early stopping conditioned on metric `val_loss` which is not available. Available metrics are: loss,accuracy\n",
            "WARNING:tensorflow:Learning rate reduction is conditioned on metric `val_loss` which is not available. Available metrics are: loss,accuracy,lr\n"
          ]
        },
        {
          "output_type": "stream",
          "name": "stdout",
          "text": [
            "\b\b\b\b\b\b\b\b\b\b\b\b\b\b\b\b\b\b\b\b\b\b\b\b\b\b\b\b\b\b\b\b\b\b\b\b\b\b\b\b\b\b\b\b\b\b\b\b\b\b\b\b\b\b\b\b\b\b\b\b\b\b\b\b\b\b\b\b\b\b\b\b\b\b\b\b\b\b\b\b\b\b\b\b\b\b\b\b\r125/125 [==============================] - 1s 7ms/step - loss: 1.6298e-05 - accuracy: 1.0000 - lr: 3.0000e-05\n",
            "Epoch 121/200\n",
            "125/125 [==============================] - ETA: 0s - loss: 1.5602e-05 - accuracy: 1.0000"
          ]
        },
        {
          "output_type": "stream",
          "name": "stderr",
          "text": [
            "WARNING:tensorflow:Early stopping conditioned on metric `val_loss` which is not available. Available metrics are: loss,accuracy\n",
            "WARNING:tensorflow:Learning rate reduction is conditioned on metric `val_loss` which is not available. Available metrics are: loss,accuracy,lr\n"
          ]
        },
        {
          "output_type": "stream",
          "name": "stdout",
          "text": [
            "\b\b\b\b\b\b\b\b\b\b\b\b\b\b\b\b\b\b\b\b\b\b\b\b\b\b\b\b\b\b\b\b\b\b\b\b\b\b\b\b\b\b\b\b\b\b\b\b\b\b\b\b\b\b\b\b\b\b\b\b\b\b\b\b\b\b\b\b\b\b\b\b\b\b\b\b\b\b\b\b\b\b\b\b\b\b\b\b\r125/125 [==============================] - 1s 9ms/step - loss: 1.5602e-05 - accuracy: 1.0000 - lr: 3.0000e-05\n",
            "Epoch 122/200\n",
            "124/125 [============================>.] - ETA: 0s - loss: 1.5789e-05 - accuracy: 1.0000"
          ]
        },
        {
          "output_type": "stream",
          "name": "stderr",
          "text": [
            "WARNING:tensorflow:Early stopping conditioned on metric `val_loss` which is not available. Available metrics are: loss,accuracy\n",
            "WARNING:tensorflow:Learning rate reduction is conditioned on metric `val_loss` which is not available. Available metrics are: loss,accuracy,lr\n"
          ]
        },
        {
          "output_type": "stream",
          "name": "stdout",
          "text": [
            "\b\b\b\b\b\b\b\b\b\b\b\b\b\b\b\b\b\b\b\b\b\b\b\b\b\b\b\b\b\b\b\b\b\b\b\b\b\b\b\b\b\b\b\b\b\b\b\b\b\b\b\b\b\b\b\b\b\b\b\b\b\b\b\b\b\b\b\b\b\b\b\b\b\b\b\b\b\b\b\b\b\b\b\b\b\b\b\b\r125/125 [==============================] - 1s 9ms/step - loss: 1.6161e-05 - accuracy: 1.0000 - lr: 3.0000e-05\n",
            "Epoch 123/200\n",
            "125/125 [==============================] - ETA: 0s - loss: 1.4298e-05 - accuracy: 1.0000"
          ]
        },
        {
          "output_type": "stream",
          "name": "stderr",
          "text": [
            "WARNING:tensorflow:Early stopping conditioned on metric `val_loss` which is not available. Available metrics are: loss,accuracy\n",
            "WARNING:tensorflow:Learning rate reduction is conditioned on metric `val_loss` which is not available. Available metrics are: loss,accuracy,lr\n"
          ]
        },
        {
          "output_type": "stream",
          "name": "stdout",
          "text": [
            "\b\b\b\b\b\b\b\b\b\b\b\b\b\b\b\b\b\b\b\b\b\b\b\b\b\b\b\b\b\b\b\b\b\b\b\b\b\b\b\b\b\b\b\b\b\b\b\b\b\b\b\b\b\b\b\b\b\b\b\b\b\b\b\b\b\b\b\b\b\b\b\b\b\b\b\b\b\b\b\b\b\b\b\b\b\b\b\b\r125/125 [==============================] - 1s 8ms/step - loss: 1.4298e-05 - accuracy: 1.0000 - lr: 3.0000e-05\n",
            "Epoch 124/200\n",
            "124/125 [============================>.] - ETA: 0s - loss: 1.4448e-05 - accuracy: 1.0000"
          ]
        },
        {
          "output_type": "stream",
          "name": "stderr",
          "text": [
            "WARNING:tensorflow:Early stopping conditioned on metric `val_loss` which is not available. Available metrics are: loss,accuracy\n",
            "WARNING:tensorflow:Learning rate reduction is conditioned on metric `val_loss` which is not available. Available metrics are: loss,accuracy,lr\n"
          ]
        },
        {
          "output_type": "stream",
          "name": "stdout",
          "text": [
            "\b\b\b\b\b\b\b\b\b\b\b\b\b\b\b\b\b\b\b\b\b\b\b\b\b\b\b\b\b\b\b\b\b\b\b\b\b\b\b\b\b\b\b\b\b\b\b\b\b\b\b\b\b\b\b\b\b\b\b\b\b\b\b\b\b\b\b\b\b\b\b\b\b\b\b\b\b\b\b\b\b\b\b\b\b\b\b\b\r125/125 [==============================] - 1s 8ms/step - loss: 1.4412e-05 - accuracy: 1.0000 - lr: 3.0000e-05\n",
            "Epoch 125/200\n",
            "122/125 [============================>.] - ETA: 0s - loss: 1.6511e-05 - accuracy: 1.0000"
          ]
        },
        {
          "output_type": "stream",
          "name": "stderr",
          "text": [
            "WARNING:tensorflow:Early stopping conditioned on metric `val_loss` which is not available. Available metrics are: loss,accuracy\n",
            "WARNING:tensorflow:Learning rate reduction is conditioned on metric `val_loss` which is not available. Available metrics are: loss,accuracy,lr\n"
          ]
        },
        {
          "output_type": "stream",
          "name": "stdout",
          "text": [
            "\b\b\b\b\b\b\b\b\b\b\b\b\b\b\b\b\b\b\b\b\b\b\b\b\b\b\b\b\b\b\b\b\b\b\b\b\b\b\b\b\b\b\b\b\b\b\b\b\b\b\b\b\b\b\b\b\b\b\b\b\b\b\b\b\b\b\b\b\b\b\b\b\b\b\b\b\b\b\b\b\b\b\b\b\b\b\b\b\r125/125 [==============================] - 1s 7ms/step - loss: 1.6459e-05 - accuracy: 1.0000 - lr: 3.0000e-05\n",
            "Epoch 126/200\n",
            "119/125 [===========================>..] - ETA: 0s - loss: 1.1249e-05 - accuracy: 1.0000"
          ]
        },
        {
          "output_type": "stream",
          "name": "stderr",
          "text": [
            "WARNING:tensorflow:Early stopping conditioned on metric `val_loss` which is not available. Available metrics are: loss,accuracy\n",
            "WARNING:tensorflow:Learning rate reduction is conditioned on metric `val_loss` which is not available. Available metrics are: loss,accuracy,lr\n"
          ]
        },
        {
          "output_type": "stream",
          "name": "stdout",
          "text": [
            "\b\b\b\b\b\b\b\b\b\b\b\b\b\b\b\b\b\b\b\b\b\b\b\b\b\b\b\b\b\b\b\b\b\b\b\b\b\b\b\b\b\b\b\b\b\b\b\b\b\b\b\b\b\b\b\b\b\b\b\b\b\b\b\b\b\b\b\b\b\b\b\b\b\b\b\b\b\b\b\b\b\b\b\b\b\b\b\b\r125/125 [==============================] - 1s 7ms/step - loss: 1.1169e-05 - accuracy: 1.0000 - lr: 3.0000e-05\n",
            "Epoch 127/200\n",
            "125/125 [==============================] - ETA: 0s - loss: 1.3662e-05 - accuracy: 1.0000"
          ]
        },
        {
          "output_type": "stream",
          "name": "stderr",
          "text": [
            "WARNING:tensorflow:Early stopping conditioned on metric `val_loss` which is not available. Available metrics are: loss,accuracy\n",
            "WARNING:tensorflow:Learning rate reduction is conditioned on metric `val_loss` which is not available. Available metrics are: loss,accuracy,lr\n"
          ]
        },
        {
          "output_type": "stream",
          "name": "stdout",
          "text": [
            "\b\b\b\b\b\b\b\b\b\b\b\b\b\b\b\b\b\b\b\b\b\b\b\b\b\b\b\b\b\b\b\b\b\b\b\b\b\b\b\b\b\b\b\b\b\b\b\b\b\b\b\b\b\b\b\b\b\b\b\b\b\b\b\b\b\b\b\b\b\b\b\b\b\b\b\b\b\b\b\b\b\b\b\b\b\b\b\b\r125/125 [==============================] - 1s 7ms/step - loss: 1.3662e-05 - accuracy: 1.0000 - lr: 3.0000e-05\n",
            "Epoch 128/200\n",
            "125/125 [==============================] - ETA: 0s - loss: 1.0735e-05 - accuracy: 1.0000"
          ]
        },
        {
          "output_type": "stream",
          "name": "stderr",
          "text": [
            "WARNING:tensorflow:Early stopping conditioned on metric `val_loss` which is not available. Available metrics are: loss,accuracy\n",
            "WARNING:tensorflow:Learning rate reduction is conditioned on metric `val_loss` which is not available. Available metrics are: loss,accuracy,lr\n"
          ]
        },
        {
          "output_type": "stream",
          "name": "stdout",
          "text": [
            "\b\b\b\b\b\b\b\b\b\b\b\b\b\b\b\b\b\b\b\b\b\b\b\b\b\b\b\b\b\b\b\b\b\b\b\b\b\b\b\b\b\b\b\b\b\b\b\b\b\b\b\b\b\b\b\b\b\b\b\b\b\b\b\b\b\b\b\b\b\b\b\b\b\b\b\b\b\b\b\b\b\b\b\b\b\b\b\b\r125/125 [==============================] - 1s 7ms/step - loss: 1.0735e-05 - accuracy: 1.0000 - lr: 3.0000e-05\n",
            "Epoch 129/200\n",
            "118/125 [===========================>..] - ETA: 0s - loss: 1.1799e-05 - accuracy: 1.0000"
          ]
        },
        {
          "output_type": "stream",
          "name": "stderr",
          "text": [
            "WARNING:tensorflow:Early stopping conditioned on metric `val_loss` which is not available. Available metrics are: loss,accuracy\n",
            "WARNING:tensorflow:Learning rate reduction is conditioned on metric `val_loss` which is not available. Available metrics are: loss,accuracy,lr\n"
          ]
        },
        {
          "output_type": "stream",
          "name": "stdout",
          "text": [
            "\b\b\b\b\b\b\b\b\b\b\b\b\b\b\b\b\b\b\b\b\b\b\b\b\b\b\b\b\b\b\b\b\b\b\b\b\b\b\b\b\b\b\b\b\b\b\b\b\b\b\b\b\b\b\b\b\b\b\b\b\b\b\b\b\b\b\b\b\b\b\b\b\b\b\b\b\b\b\b\b\b\b\b\b\b\b\b\b\r125/125 [==============================] - 1s 7ms/step - loss: 1.1478e-05 - accuracy: 1.0000 - lr: 3.0000e-05\n",
            "Epoch 130/200\n",
            "120/125 [===========================>..] - ETA: 0s - loss: 1.4338e-05 - accuracy: 1.0000"
          ]
        },
        {
          "output_type": "stream",
          "name": "stderr",
          "text": [
            "WARNING:tensorflow:Early stopping conditioned on metric `val_loss` which is not available. Available metrics are: loss,accuracy\n",
            "WARNING:tensorflow:Learning rate reduction is conditioned on metric `val_loss` which is not available. Available metrics are: loss,accuracy,lr\n"
          ]
        },
        {
          "output_type": "stream",
          "name": "stdout",
          "text": [
            "\b\b\b\b\b\b\b\b\b\b\b\b\b\b\b\b\b\b\b\b\b\b\b\b\b\b\b\b\b\b\b\b\b\b\b\b\b\b\b\b\b\b\b\b\b\b\b\b\b\b\b\b\b\b\b\b\b\b\b\b\b\b\b\b\b\b\b\b\b\b\b\b\b\b\b\b\b\b\b\b\b\b\b\b\b\b\b\b\r125/125 [==============================] - 1s 7ms/step - loss: 1.4099e-05 - accuracy: 1.0000 - lr: 3.0000e-05\n",
            "Epoch 131/200\n",
            "121/125 [============================>.] - ETA: 0s - loss: 1.7130e-05 - accuracy: 1.0000"
          ]
        },
        {
          "output_type": "stream",
          "name": "stderr",
          "text": [
            "WARNING:tensorflow:Early stopping conditioned on metric `val_loss` which is not available. Available metrics are: loss,accuracy\n",
            "WARNING:tensorflow:Learning rate reduction is conditioned on metric `val_loss` which is not available. Available metrics are: loss,accuracy,lr\n"
          ]
        },
        {
          "output_type": "stream",
          "name": "stdout",
          "text": [
            "\b\b\b\b\b\b\b\b\b\b\b\b\b\b\b\b\b\b\b\b\b\b\b\b\b\b\b\b\b\b\b\b\b\b\b\b\b\b\b\b\b\b\b\b\b\b\b\b\b\b\b\b\b\b\b\b\b\b\b\b\b\b\b\b\b\b\b\b\b\b\b\b\b\b\b\b\b\b\b\b\b\b\b\b\b\b\b\b\r125/125 [==============================] - 1s 7ms/step - loss: 1.6747e-05 - accuracy: 1.0000 - lr: 3.0000e-05\n",
            "Epoch 132/200\n",
            "118/125 [===========================>..] - ETA: 0s - loss: 7.9325e-06 - accuracy: 1.0000"
          ]
        },
        {
          "output_type": "stream",
          "name": "stderr",
          "text": [
            "WARNING:tensorflow:Early stopping conditioned on metric `val_loss` which is not available. Available metrics are: loss,accuracy\n",
            "WARNING:tensorflow:Learning rate reduction is conditioned on metric `val_loss` which is not available. Available metrics are: loss,accuracy,lr\n"
          ]
        },
        {
          "output_type": "stream",
          "name": "stdout",
          "text": [
            "\b\b\b\b\b\b\b\b\b\b\b\b\b\b\b\b\b\b\b\b\b\b\b\b\b\b\b\b\b\b\b\b\b\b\b\b\b\b\b\b\b\b\b\b\b\b\b\b\b\b\b\b\b\b\b\b\b\b\b\b\b\b\b\b\b\b\b\b\b\b\b\b\b\b\b\b\b\b\b\b\b\b\b\b\b\b\b\b\r125/125 [==============================] - 1s 7ms/step - loss: 7.6628e-06 - accuracy: 1.0000 - lr: 3.0000e-05\n",
            "Epoch 133/200\n",
            "119/125 [===========================>..] - ETA: 0s - loss: 7.6887e-06 - accuracy: 1.0000"
          ]
        },
        {
          "output_type": "stream",
          "name": "stderr",
          "text": [
            "WARNING:tensorflow:Early stopping conditioned on metric `val_loss` which is not available. Available metrics are: loss,accuracy\n",
            "WARNING:tensorflow:Learning rate reduction is conditioned on metric `val_loss` which is not available. Available metrics are: loss,accuracy,lr\n"
          ]
        },
        {
          "output_type": "stream",
          "name": "stdout",
          "text": [
            "\b\b\b\b\b\b\b\b\b\b\b\b\b\b\b\b\b\b\b\b\b\b\b\b\b\b\b\b\b\b\b\b\b\b\b\b\b\b\b\b\b\b\b\b\b\b\b\b\b\b\b\b\b\b\b\b\b\b\b\b\b\b\b\b\b\b\b\b\b\b\b\b\b\b\b\b\b\b\b\b\b\b\b\b\b\b\b\b\r125/125 [==============================] - 1s 7ms/step - loss: 7.6528e-06 - accuracy: 1.0000 - lr: 3.0000e-05\n",
            "Epoch 134/200\n",
            "124/125 [============================>.] - ETA: 0s - loss: 9.3406e-06 - accuracy: 1.0000"
          ]
        },
        {
          "output_type": "stream",
          "name": "stderr",
          "text": [
            "WARNING:tensorflow:Early stopping conditioned on metric `val_loss` which is not available. Available metrics are: loss,accuracy\n",
            "WARNING:tensorflow:Learning rate reduction is conditioned on metric `val_loss` which is not available. Available metrics are: loss,accuracy,lr\n"
          ]
        },
        {
          "output_type": "stream",
          "name": "stdout",
          "text": [
            "\b\b\b\b\b\b\b\b\b\b\b\b\b\b\b\b\b\b\b\b\b\b\b\b\b\b\b\b\b\b\b\b\b\b\b\b\b\b\b\b\b\b\b\b\b\b\b\b\b\b\b\b\b\b\b\b\b\b\b\b\b\b\b\b\b\b\b\b\b\b\b\b\b\b\b\b\b\b\b\b\b\b\b\b\b\b\b\b\r125/125 [==============================] - 1s 7ms/step - loss: 9.3598e-06 - accuracy: 1.0000 - lr: 3.0000e-05\n",
            "Epoch 135/200\n",
            "119/125 [===========================>..] - ETA: 0s - loss: 6.3977e-06 - accuracy: 1.0000"
          ]
        },
        {
          "output_type": "stream",
          "name": "stderr",
          "text": [
            "WARNING:tensorflow:Early stopping conditioned on metric `val_loss` which is not available. Available metrics are: loss,accuracy\n",
            "WARNING:tensorflow:Learning rate reduction is conditioned on metric `val_loss` which is not available. Available metrics are: loss,accuracy,lr\n"
          ]
        },
        {
          "output_type": "stream",
          "name": "stdout",
          "text": [
            "\b\b\b\b\b\b\b\b\b\b\b\b\b\b\b\b\b\b\b\b\b\b\b\b\b\b\b\b\b\b\b\b\b\b\b\b\b\b\b\b\b\b\b\b\b\b\b\b\b\b\b\b\b\b\b\b\b\b\b\b\b\b\b\b\b\b\b\b\b\b\b\b\b\b\b\b\b\b\b\b\b\b\b\b\b\b\b\b\r125/125 [==============================] - 1s 7ms/step - loss: 6.3785e-06 - accuracy: 1.0000 - lr: 3.0000e-05\n",
            "Epoch 136/200\n",
            "123/125 [============================>.] - ETA: 0s - loss: 4.8335e-06 - accuracy: 1.0000"
          ]
        },
        {
          "output_type": "stream",
          "name": "stderr",
          "text": [
            "WARNING:tensorflow:Early stopping conditioned on metric `val_loss` which is not available. Available metrics are: loss,accuracy\n",
            "WARNING:tensorflow:Learning rate reduction is conditioned on metric `val_loss` which is not available. Available metrics are: loss,accuracy,lr\n"
          ]
        },
        {
          "output_type": "stream",
          "name": "stdout",
          "text": [
            "\b\b\b\b\b\b\b\b\b\b\b\b\b\b\b\b\b\b\b\b\b\b\b\b\b\b\b\b\b\b\b\b\b\b\b\b\b\b\b\b\b\b\b\b\b\b\b\b\b\b\b\b\b\b\b\b\b\b\b\b\b\b\b\b\b\b\b\b\b\b\b\b\b\b\b\b\b\b\b\b\b\b\b\b\b\b\b\b\r125/125 [==============================] - 1s 7ms/step - loss: 4.8413e-06 - accuracy: 1.0000 - lr: 3.0000e-05\n",
            "Epoch 137/200\n",
            "124/125 [============================>.] - ETA: 0s - loss: 5.8260e-06 - accuracy: 1.0000"
          ]
        },
        {
          "output_type": "stream",
          "name": "stderr",
          "text": [
            "WARNING:tensorflow:Early stopping conditioned on metric `val_loss` which is not available. Available metrics are: loss,accuracy\n",
            "WARNING:tensorflow:Learning rate reduction is conditioned on metric `val_loss` which is not available. Available metrics are: loss,accuracy,lr\n"
          ]
        },
        {
          "output_type": "stream",
          "name": "stdout",
          "text": [
            "\b\b\b\b\b\b\b\b\b\b\b\b\b\b\b\b\b\b\b\b\b\b\b\b\b\b\b\b\b\b\b\b\b\b\b\b\b\b\b\b\b\b\b\b\b\b\b\b\b\b\b\b\b\b\b\b\b\b\b\b\b\b\b\b\b\b\b\b\b\b\b\b\b\b\b\b\b\b\b\b\b\b\b\b\b\b\b\b\r125/125 [==============================] - 1s 7ms/step - loss: 5.8017e-06 - accuracy: 1.0000 - lr: 3.0000e-05\n",
            "Epoch 138/200\n",
            "124/125 [============================>.] - ETA: 0s - loss: 7.2180e-06 - accuracy: 1.0000"
          ]
        },
        {
          "output_type": "stream",
          "name": "stderr",
          "text": [
            "WARNING:tensorflow:Early stopping conditioned on metric `val_loss` which is not available. Available metrics are: loss,accuracy\n",
            "WARNING:tensorflow:Learning rate reduction is conditioned on metric `val_loss` which is not available. Available metrics are: loss,accuracy,lr\n"
          ]
        },
        {
          "output_type": "stream",
          "name": "stdout",
          "text": [
            "\b\b\b\b\b\b\b\b\b\b\b\b\b\b\b\b\b\b\b\b\b\b\b\b\b\b\b\b\b\b\b\b\b\b\b\b\b\b\b\b\b\b\b\b\b\b\b\b\b\b\b\b\b\b\b\b\b\b\b\b\b\b\b\b\b\b\b\b\b\b\b\b\b\b\b\b\b\b\b\b\b\b\b\b\b\b\b\b\r125/125 [==============================] - 1s 7ms/step - loss: 7.5002e-06 - accuracy: 1.0000 - lr: 3.0000e-05\n",
            "Epoch 139/200\n",
            "118/125 [===========================>..] - ETA: 0s - loss: 6.9741e-06 - accuracy: 1.0000"
          ]
        },
        {
          "output_type": "stream",
          "name": "stderr",
          "text": [
            "WARNING:tensorflow:Early stopping conditioned on metric `val_loss` which is not available. Available metrics are: loss,accuracy\n",
            "WARNING:tensorflow:Learning rate reduction is conditioned on metric `val_loss` which is not available. Available metrics are: loss,accuracy,lr\n"
          ]
        },
        {
          "output_type": "stream",
          "name": "stdout",
          "text": [
            "\b\b\b\b\b\b\b\b\b\b\b\b\b\b\b\b\b\b\b\b\b\b\b\b\b\b\b\b\b\b\b\b\b\b\b\b\b\b\b\b\b\b\b\b\b\b\b\b\b\b\b\b\b\b\b\b\b\b\b\b\b\b\b\b\b\b\b\b\b\b\b\b\b\b\b\b\b\b\b\b\b\b\b\b\b\b\b\b\r125/125 [==============================] - 1s 7ms/step - loss: 6.7428e-06 - accuracy: 1.0000 - lr: 3.0000e-05\n",
            "Epoch 140/200\n",
            "120/125 [===========================>..] - ETA: 0s - loss: 4.2985e-06 - accuracy: 1.0000"
          ]
        },
        {
          "output_type": "stream",
          "name": "stderr",
          "text": [
            "WARNING:tensorflow:Early stopping conditioned on metric `val_loss` which is not available. Available metrics are: loss,accuracy\n",
            "WARNING:tensorflow:Learning rate reduction is conditioned on metric `val_loss` which is not available. Available metrics are: loss,accuracy,lr\n"
          ]
        },
        {
          "output_type": "stream",
          "name": "stdout",
          "text": [
            "\b\b\b\b\b\b\b\b\b\b\b\b\b\b\b\b\b\b\b\b\b\b\b\b\b\b\b\b\b\b\b\b\b\b\b\b\b\b\b\b\b\b\b\b\b\b\b\b\b\b\b\b\b\b\b\b\b\b\b\b\b\b\b\b\b\b\b\b\b\b\b\b\b\b\b\b\b\b\b\b\b\b\b\b\b\b\b\b\r125/125 [==============================] - 1s 8ms/step - loss: 4.2682e-06 - accuracy: 1.0000 - lr: 3.0000e-05\n",
            "Epoch 141/200\n",
            "122/125 [============================>.] - ETA: 0s - loss: 4.3226e-06 - accuracy: 1.0000"
          ]
        },
        {
          "output_type": "stream",
          "name": "stderr",
          "text": [
            "WARNING:tensorflow:Early stopping conditioned on metric `val_loss` which is not available. Available metrics are: loss,accuracy\n",
            "WARNING:tensorflow:Learning rate reduction is conditioned on metric `val_loss` which is not available. Available metrics are: loss,accuracy,lr\n"
          ]
        },
        {
          "output_type": "stream",
          "name": "stdout",
          "text": [
            "\b\b\b\b\b\b\b\b\b\b\b\b\b\b\b\b\b\b\b\b\b\b\b\b\b\b\b\b\b\b\b\b\b\b\b\b\b\b\b\b\b\b\b\b\b\b\b\b\b\b\b\b\b\b\b\b\b\b\b\b\b\b\b\b\b\b\b\b\b\b\b\b\b\b\b\b\b\b\b\b\b\b\b\b\b\b\b\b\r125/125 [==============================] - 1s 7ms/step - loss: 4.6631e-06 - accuracy: 1.0000 - lr: 3.0000e-05\n",
            "Epoch 142/200\n",
            "122/125 [============================>.] - ETA: 0s - loss: 4.7799e-06 - accuracy: 1.0000"
          ]
        },
        {
          "output_type": "stream",
          "name": "stderr",
          "text": [
            "WARNING:tensorflow:Early stopping conditioned on metric `val_loss` which is not available. Available metrics are: loss,accuracy\n",
            "WARNING:tensorflow:Learning rate reduction is conditioned on metric `val_loss` which is not available. Available metrics are: loss,accuracy,lr\n"
          ]
        },
        {
          "output_type": "stream",
          "name": "stdout",
          "text": [
            "\b\b\b\b\b\b\b\b\b\b\b\b\b\b\b\b\b\b\b\b\b\b\b\b\b\b\b\b\b\b\b\b\b\b\b\b\b\b\b\b\b\b\b\b\b\b\b\b\b\b\b\b\b\b\b\b\b\b\b\b\b\b\b\b\b\b\b\b\b\b\b\b\b\b\b\b\b\b\b\b\b\b\b\b\b\b\b\b\r125/125 [==============================] - 1s 7ms/step - loss: 4.7583e-06 - accuracy: 1.0000 - lr: 3.0000e-05\n",
            "Epoch 143/200\n",
            "122/125 [============================>.] - ETA: 0s - loss: 3.3226e-06 - accuracy: 1.0000"
          ]
        },
        {
          "output_type": "stream",
          "name": "stderr",
          "text": [
            "WARNING:tensorflow:Early stopping conditioned on metric `val_loss` which is not available. Available metrics are: loss,accuracy\n",
            "WARNING:tensorflow:Learning rate reduction is conditioned on metric `val_loss` which is not available. Available metrics are: loss,accuracy,lr\n"
          ]
        },
        {
          "output_type": "stream",
          "name": "stdout",
          "text": [
            "\b\b\b\b\b\b\b\b\b\b\b\b\b\b\b\b\b\b\b\b\b\b\b\b\b\b\b\b\b\b\b\b\b\b\b\b\b\b\b\b\b\b\b\b\b\b\b\b\b\b\b\b\b\b\b\b\b\b\b\b\b\b\b\b\b\b\b\b\b\b\b\b\b\b\b\b\b\b\b\b\b\b\b\b\b\b\b\b\r125/125 [==============================] - 1s 7ms/step - loss: 3.3100e-06 - accuracy: 1.0000 - lr: 3.0000e-05\n",
            "Epoch 144/200\n",
            "122/125 [============================>.] - ETA: 0s - loss: 3.1384e-06 - accuracy: 1.0000"
          ]
        },
        {
          "output_type": "stream",
          "name": "stderr",
          "text": [
            "WARNING:tensorflow:Early stopping conditioned on metric `val_loss` which is not available. Available metrics are: loss,accuracy\n",
            "WARNING:tensorflow:Learning rate reduction is conditioned on metric `val_loss` which is not available. Available metrics are: loss,accuracy,lr\n"
          ]
        },
        {
          "output_type": "stream",
          "name": "stdout",
          "text": [
            "\b\b\b\b\b\b\b\b\b\b\b\b\b\b\b\b\b\b\b\b\b\b\b\b\b\b\b\b\b\b\b\b\b\b\b\b\b\b\b\b\b\b\b\b\b\b\b\b\b\b\b\b\b\b\b\b\b\b\b\b\b\b\b\b\b\b\b\b\b\b\b\b\b\b\b\b\b\b\b\b\b\b\b\b\b\b\b\b\r125/125 [==============================] - 1s 7ms/step - loss: 3.1191e-06 - accuracy: 1.0000 - lr: 3.0000e-05\n",
            "Epoch 145/200\n",
            "120/125 [===========================>..] - ETA: 0s - loss: 4.6051e-06 - accuracy: 1.0000"
          ]
        },
        {
          "output_type": "stream",
          "name": "stderr",
          "text": [
            "WARNING:tensorflow:Early stopping conditioned on metric `val_loss` which is not available. Available metrics are: loss,accuracy\n",
            "WARNING:tensorflow:Learning rate reduction is conditioned on metric `val_loss` which is not available. Available metrics are: loss,accuracy,lr\n"
          ]
        },
        {
          "output_type": "stream",
          "name": "stdout",
          "text": [
            "\b\b\b\b\b\b\b\b\b\b\b\b\b\b\b\b\b\b\b\b\b\b\b\b\b\b\b\b\b\b\b\b\b\b\b\b\b\b\b\b\b\b\b\b\b\b\b\b\b\b\b\b\b\b\b\b\b\b\b\b\b\b\b\b\b\b\b\b\b\b\b\b\b\b\b\b\b\b\b\b\b\b\b\b\b\b\b\b\r125/125 [==============================] - 1s 7ms/step - loss: 4.6002e-06 - accuracy: 1.0000 - lr: 3.0000e-05\n",
            "Epoch 146/200\n",
            "121/125 [============================>.] - ETA: 0s - loss: 6.6201e-06 - accuracy: 1.0000"
          ]
        },
        {
          "output_type": "stream",
          "name": "stderr",
          "text": [
            "WARNING:tensorflow:Early stopping conditioned on metric `val_loss` which is not available. Available metrics are: loss,accuracy\n",
            "WARNING:tensorflow:Learning rate reduction is conditioned on metric `val_loss` which is not available. Available metrics are: loss,accuracy,lr\n"
          ]
        },
        {
          "output_type": "stream",
          "name": "stdout",
          "text": [
            "\b\b\b\b\b\b\b\b\b\b\b\b\b\b\b\b\b\b\b\b\b\b\b\b\b\b\b\b\b\b\b\b\b\b\b\b\b\b\b\b\b\b\b\b\b\b\b\b\b\b\b\b\b\b\b\b\b\b\b\b\b\b\b\b\b\b\b\b\b\b\b\b\b\b\b\b\b\b\b\b\b\b\b\b\b\b\b\b\r125/125 [==============================] - 1s 7ms/step - loss: 6.5043e-06 - accuracy: 1.0000 - lr: 3.0000e-05\n",
            "Epoch 147/200\n",
            "120/125 [===========================>..] - ETA: 0s - loss: 5.6233e-06 - accuracy: 1.0000"
          ]
        },
        {
          "output_type": "stream",
          "name": "stderr",
          "text": [
            "WARNING:tensorflow:Early stopping conditioned on metric `val_loss` which is not available. Available metrics are: loss,accuracy\n",
            "WARNING:tensorflow:Learning rate reduction is conditioned on metric `val_loss` which is not available. Available metrics are: loss,accuracy,lr\n"
          ]
        },
        {
          "output_type": "stream",
          "name": "stdout",
          "text": [
            "\b\b\b\b\b\b\b\b\b\b\b\b\b\b\b\b\b\b\b\b\b\b\b\b\b\b\b\b\b\b\b\b\b\b\b\b\b\b\b\b\b\b\b\b\b\b\b\b\b\b\b\b\b\b\b\b\b\b\b\b\b\b\b\b\b\b\b\b\b\b\b\b\b\b\b\b\b\b\b\b\b\b\b\b\b\b\b\b\r125/125 [==============================] - 1s 7ms/step - loss: 5.5644e-06 - accuracy: 1.0000 - lr: 3.0000e-05\n",
            "Epoch 148/200\n",
            "125/125 [==============================] - ETA: 0s - loss: 3.3216e-06 - accuracy: 1.0000"
          ]
        },
        {
          "output_type": "stream",
          "name": "stderr",
          "text": [
            "WARNING:tensorflow:Early stopping conditioned on metric `val_loss` which is not available. Available metrics are: loss,accuracy\n",
            "WARNING:tensorflow:Learning rate reduction is conditioned on metric `val_loss` which is not available. Available metrics are: loss,accuracy,lr\n"
          ]
        },
        {
          "output_type": "stream",
          "name": "stdout",
          "text": [
            "\b\b\b\b\b\b\b\b\b\b\b\b\b\b\b\b\b\b\b\b\b\b\b\b\b\b\b\b\b\b\b\b\b\b\b\b\b\b\b\b\b\b\b\b\b\b\b\b\b\b\b\b\b\b\b\b\b\b\b\b\b\b\b\b\b\b\b\b\b\b\b\b\b\b\b\b\b\b\b\b\b\b\b\b\b\b\b\b\r125/125 [==============================] - 1s 7ms/step - loss: 3.3216e-06 - accuracy: 1.0000 - lr: 3.0000e-05\n",
            "Epoch 149/200\n",
            "123/125 [============================>.] - ETA: 0s - loss: 2.4291e-06 - accuracy: 1.0000"
          ]
        },
        {
          "output_type": "stream",
          "name": "stderr",
          "text": [
            "WARNING:tensorflow:Early stopping conditioned on metric `val_loss` which is not available. Available metrics are: loss,accuracy\n",
            "WARNING:tensorflow:Learning rate reduction is conditioned on metric `val_loss` which is not available. Available metrics are: loss,accuracy,lr\n"
          ]
        },
        {
          "output_type": "stream",
          "name": "stdout",
          "text": [
            "\b\b\b\b\b\b\b\b\b\b\b\b\b\b\b\b\b\b\b\b\b\b\b\b\b\b\b\b\b\b\b\b\b\b\b\b\b\b\b\b\b\b\b\b\b\b\b\b\b\b\b\b\b\b\b\b\b\b\b\b\b\b\b\b\b\b\b\b\b\b\b\b\b\b\b\b\b\b\b\b\b\b\b\b\b\b\b\b\r125/125 [==============================] - 1s 7ms/step - loss: 2.4088e-06 - accuracy: 1.0000 - lr: 3.0000e-05\n",
            "Epoch 150/200\n",
            "123/125 [============================>.] - ETA: 0s - loss: 3.7143e-06 - accuracy: 1.0000"
          ]
        },
        {
          "output_type": "stream",
          "name": "stderr",
          "text": [
            "WARNING:tensorflow:Early stopping conditioned on metric `val_loss` which is not available. Available metrics are: loss,accuracy\n",
            "WARNING:tensorflow:Learning rate reduction is conditioned on metric `val_loss` which is not available. Available metrics are: loss,accuracy,lr\n"
          ]
        },
        {
          "output_type": "stream",
          "name": "stdout",
          "text": [
            "\b\b\b\b\b\b\b\b\b\b\b\b\b\b\b\b\b\b\b\b\b\b\b\b\b\b\b\b\b\b\b\b\b\b\b\b\b\b\b\b\b\b\b\b\b\b\b\b\b\b\b\b\b\b\b\b\b\b\b\b\b\b\b\b\b\b\b\b\b\b\b\b\b\b\b\b\b\b\b\b\b\b\b\b\b\b\b\b\r125/125 [==============================] - 1s 7ms/step - loss: 3.6856e-06 - accuracy: 1.0000 - lr: 3.0000e-05\n",
            "Epoch 151/200\n",
            "121/125 [============================>.] - ETA: 0s - loss: 2.5246e-06 - accuracy: 1.0000"
          ]
        },
        {
          "output_type": "stream",
          "name": "stderr",
          "text": [
            "WARNING:tensorflow:Early stopping conditioned on metric `val_loss` which is not available. Available metrics are: loss,accuracy\n",
            "WARNING:tensorflow:Learning rate reduction is conditioned on metric `val_loss` which is not available. Available metrics are: loss,accuracy,lr\n"
          ]
        },
        {
          "output_type": "stream",
          "name": "stdout",
          "text": [
            "\b\b\b\b\b\b\b\b\b\b\b\b\b\b\b\b\b\b\b\b\b\b\b\b\b\b\b\b\b\b\b\b\b\b\b\b\b\b\b\b\b\b\b\b\b\b\b\b\b\b\b\b\b\b\b\b\b\b\b\b\b\b\b\b\b\b\b\b\b\b\b\b\b\b\b\b\b\b\b\b\b\b\b\b\b\b\b\b\r125/125 [==============================] - 1s 7ms/step - loss: 2.5094e-06 - accuracy: 1.0000 - lr: 3.0000e-05\n",
            "Epoch 152/200\n",
            "122/125 [============================>.] - ETA: 0s - loss: 1.9774e-06 - accuracy: 1.0000"
          ]
        },
        {
          "output_type": "stream",
          "name": "stderr",
          "text": [
            "WARNING:tensorflow:Early stopping conditioned on metric `val_loss` which is not available. Available metrics are: loss,accuracy\n",
            "WARNING:tensorflow:Learning rate reduction is conditioned on metric `val_loss` which is not available. Available metrics are: loss,accuracy,lr\n"
          ]
        },
        {
          "output_type": "stream",
          "name": "stdout",
          "text": [
            "\b\b\b\b\b\b\b\b\b\b\b\b\b\b\b\b\b\b\b\b\b\b\b\b\b\b\b\b\b\b\b\b\b\b\b\b\b\b\b\b\b\b\b\b\b\b\b\b\b\b\b\b\b\b\b\b\b\b\b\b\b\b\b\b\b\b\b\b\b\b\b\b\b\b\b\b\b\b\b\b\b\b\b\b\b\b\b\b\r125/125 [==============================] - 1s 7ms/step - loss: 1.9615e-06 - accuracy: 1.0000 - lr: 3.0000e-05\n",
            "Epoch 153/200\n",
            "125/125 [==============================] - ETA: 0s - loss: 2.7115e-06 - accuracy: 1.0000"
          ]
        },
        {
          "output_type": "stream",
          "name": "stderr",
          "text": [
            "WARNING:tensorflow:Early stopping conditioned on metric `val_loss` which is not available. Available metrics are: loss,accuracy\n",
            "WARNING:tensorflow:Learning rate reduction is conditioned on metric `val_loss` which is not available. Available metrics are: loss,accuracy,lr\n"
          ]
        },
        {
          "output_type": "stream",
          "name": "stdout",
          "text": [
            "\b\b\b\b\b\b\b\b\b\b\b\b\b\b\b\b\b\b\b\b\b\b\b\b\b\b\b\b\b\b\b\b\b\b\b\b\b\b\b\b\b\b\b\b\b\b\b\b\b\b\b\b\b\b\b\b\b\b\b\b\b\b\b\b\b\b\b\b\b\b\b\b\b\b\b\b\b\b\b\b\b\b\b\b\b\b\b\b\r125/125 [==============================] - 1s 7ms/step - loss: 2.7115e-06 - accuracy: 1.0000 - lr: 3.0000e-05\n",
            "Epoch 154/200\n",
            "124/125 [============================>.] - ETA: 0s - loss: 2.0462e-06 - accuracy: 1.0000"
          ]
        },
        {
          "output_type": "stream",
          "name": "stderr",
          "text": [
            "WARNING:tensorflow:Early stopping conditioned on metric `val_loss` which is not available. Available metrics are: loss,accuracy\n",
            "WARNING:tensorflow:Learning rate reduction is conditioned on metric `val_loss` which is not available. Available metrics are: loss,accuracy,lr\n"
          ]
        },
        {
          "output_type": "stream",
          "name": "stdout",
          "text": [
            "\b\b\b\b\b\b\b\b\b\b\b\b\b\b\b\b\b\b\b\b\b\b\b\b\b\b\b\b\b\b\b\b\b\b\b\b\b\b\b\b\b\b\b\b\b\b\b\b\b\b\b\b\b\b\b\b\b\b\b\b\b\b\b\b\b\b\b\b\b\b\b\b\b\b\b\b\b\b\b\b\b\b\b\b\b\b\b\b\r125/125 [==============================] - 1s 7ms/step - loss: 2.0369e-06 - accuracy: 1.0000 - lr: 3.0000e-05\n",
            "Epoch 155/200\n",
            "121/125 [============================>.] - ETA: 0s - loss: 1.9543e-06 - accuracy: 1.0000"
          ]
        },
        {
          "output_type": "stream",
          "name": "stderr",
          "text": [
            "WARNING:tensorflow:Early stopping conditioned on metric `val_loss` which is not available. Available metrics are: loss,accuracy\n",
            "WARNING:tensorflow:Learning rate reduction is conditioned on metric `val_loss` which is not available. Available metrics are: loss,accuracy,lr\n"
          ]
        },
        {
          "output_type": "stream",
          "name": "stdout",
          "text": [
            "\b\b\b\b\b\b\b\b\b\b\b\b\b\b\b\b\b\b\b\b\b\b\b\b\b\b\b\b\b\b\b\b\b\b\b\b\b\b\b\b\b\b\b\b\b\b\b\b\b\b\b\b\b\b\b\b\b\b\b\b\b\b\b\b\b\b\b\b\b\b\b\b\b\b\b\b\b\b\b\b\b\b\b\b\b\b\b\b\r125/125 [==============================] - 1s 7ms/step - loss: 1.9415e-06 - accuracy: 1.0000 - lr: 3.0000e-05\n",
            "Epoch 156/200\n",
            "121/125 [============================>.] - ETA: 0s - loss: 2.3865e-06 - accuracy: 1.0000"
          ]
        },
        {
          "output_type": "stream",
          "name": "stderr",
          "text": [
            "WARNING:tensorflow:Early stopping conditioned on metric `val_loss` which is not available. Available metrics are: loss,accuracy\n",
            "WARNING:tensorflow:Learning rate reduction is conditioned on metric `val_loss` which is not available. Available metrics are: loss,accuracy,lr\n"
          ]
        },
        {
          "output_type": "stream",
          "name": "stdout",
          "text": [
            "\b\b\b\b\b\b\b\b\b\b\b\b\b\b\b\b\b\b\b\b\b\b\b\b\b\b\b\b\b\b\b\b\b\b\b\b\b\b\b\b\b\b\b\b\b\b\b\b\b\b\b\b\b\b\b\b\b\b\b\b\b\b\b\b\b\b\b\b\b\b\b\b\b\b\b\b\b\b\b\b\b\b\b\b\b\b\b\b\r125/125 [==============================] - 1s 7ms/step - loss: 2.3579e-06 - accuracy: 1.0000 - lr: 3.0000e-05\n",
            "Epoch 157/200\n",
            "124/125 [============================>.] - ETA: 0s - loss: 1.6240e-06 - accuracy: 1.0000"
          ]
        },
        {
          "output_type": "stream",
          "name": "stderr",
          "text": [
            "WARNING:tensorflow:Early stopping conditioned on metric `val_loss` which is not available. Available metrics are: loss,accuracy\n",
            "WARNING:tensorflow:Learning rate reduction is conditioned on metric `val_loss` which is not available. Available metrics are: loss,accuracy,lr\n"
          ]
        },
        {
          "output_type": "stream",
          "name": "stdout",
          "text": [
            "\b\b\b\b\b\b\b\b\b\b\b\b\b\b\b\b\b\b\b\b\b\b\b\b\b\b\b\b\b\b\b\b\b\b\b\b\b\b\b\b\b\b\b\b\b\b\b\b\b\b\b\b\b\b\b\b\b\b\b\b\b\b\b\b\b\b\b\b\b\b\b\b\b\b\b\b\b\b\b\b\b\b\b\b\b\b\b\b\r125/125 [==============================] - 1s 7ms/step - loss: 1.6184e-06 - accuracy: 1.0000 - lr: 3.0000e-05\n",
            "Epoch 158/200\n",
            "124/125 [============================>.] - ETA: 0s - loss: 2.0960e-06 - accuracy: 1.0000"
          ]
        },
        {
          "output_type": "stream",
          "name": "stderr",
          "text": [
            "WARNING:tensorflow:Early stopping conditioned on metric `val_loss` which is not available. Available metrics are: loss,accuracy\n",
            "WARNING:tensorflow:Learning rate reduction is conditioned on metric `val_loss` which is not available. Available metrics are: loss,accuracy,lr\n"
          ]
        },
        {
          "output_type": "stream",
          "name": "stdout",
          "text": [
            "\b\b\b\b\b\b\b\b\b\b\b\b\b\b\b\b\b\b\b\b\b\b\b\b\b\b\b\b\b\b\b\b\b\b\b\b\b\b\b\b\b\b\b\b\b\b\b\b\b\b\b\b\b\b\b\b\b\b\b\b\b\b\b\b\b\b\b\b\b\b\b\b\b\b\b\b\b\b\b\b\b\b\b\b\b\b\b\b\r125/125 [==============================] - 1s 7ms/step - loss: 2.0903e-06 - accuracy: 1.0000 - lr: 3.0000e-05\n",
            "Epoch 159/200\n",
            "121/125 [============================>.] - ETA: 0s - loss: 2.9985e-06 - accuracy: 1.0000"
          ]
        },
        {
          "output_type": "stream",
          "name": "stderr",
          "text": [
            "WARNING:tensorflow:Early stopping conditioned on metric `val_loss` which is not available. Available metrics are: loss,accuracy\n",
            "WARNING:tensorflow:Learning rate reduction is conditioned on metric `val_loss` which is not available. Available metrics are: loss,accuracy,lr\n"
          ]
        },
        {
          "output_type": "stream",
          "name": "stdout",
          "text": [
            "\b\b\b\b\b\b\b\b\b\b\b\b\b\b\b\b\b\b\b\b\b\b\b\b\b\b\b\b\b\b\b\b\b\b\b\b\b\b\b\b\b\b\b\b\b\b\b\b\b\b\b\b\b\b\b\b\b\b\b\b\b\b\b\b\b\b\b\b\b\b\b\b\b\b\b\b\b\b\b\b\b\b\b\b\b\b\b\b\r125/125 [==============================] - 1s 7ms/step - loss: 2.9311e-06 - accuracy: 1.0000 - lr: 3.0000e-05\n",
            "Epoch 160/200\n",
            "125/125 [==============================] - ETA: 0s - loss: 2.2607e-06 - accuracy: 1.0000"
          ]
        },
        {
          "output_type": "stream",
          "name": "stderr",
          "text": [
            "WARNING:tensorflow:Early stopping conditioned on metric `val_loss` which is not available. Available metrics are: loss,accuracy\n",
            "WARNING:tensorflow:Learning rate reduction is conditioned on metric `val_loss` which is not available. Available metrics are: loss,accuracy,lr\n"
          ]
        },
        {
          "output_type": "stream",
          "name": "stdout",
          "text": [
            "\b\b\b\b\b\b\b\b\b\b\b\b\b\b\b\b\b\b\b\b\b\b\b\b\b\b\b\b\b\b\b\b\b\b\b\b\b\b\b\b\b\b\b\b\b\b\b\b\b\b\b\b\b\b\b\b\b\b\b\b\b\b\b\b\b\b\b\b\b\b\b\b\b\b\b\b\b\b\b\b\b\b\b\b\b\b\b\b\r125/125 [==============================] - 1s 7ms/step - loss: 2.2607e-06 - accuracy: 1.0000 - lr: 3.0000e-05\n",
            "Epoch 161/200\n",
            "118/125 [===========================>..] - ETA: 0s - loss: 1.5792e-06 - accuracy: 1.0000"
          ]
        },
        {
          "output_type": "stream",
          "name": "stderr",
          "text": [
            "WARNING:tensorflow:Early stopping conditioned on metric `val_loss` which is not available. Available metrics are: loss,accuracy\n",
            "WARNING:tensorflow:Learning rate reduction is conditioned on metric `val_loss` which is not available. Available metrics are: loss,accuracy,lr\n"
          ]
        },
        {
          "output_type": "stream",
          "name": "stdout",
          "text": [
            "\b\b\b\b\b\b\b\b\b\b\b\b\b\b\b\b\b\b\b\b\b\b\b\b\b\b\b\b\b\b\b\b\b\b\b\b\b\b\b\b\b\b\b\b\b\b\b\b\b\b\b\b\b\b\b\b\b\b\b\b\b\b\b\b\b\b\b\b\b\b\b\b\b\b\b\b\b\b\b\b\b\b\b\b\b\b\b\b\r125/125 [==============================] - 1s 7ms/step - loss: 1.5697e-06 - accuracy: 1.0000 - lr: 3.0000e-05\n",
            "Epoch 162/200\n",
            "124/125 [============================>.] - ETA: 0s - loss: 1.4259e-06 - accuracy: 1.0000"
          ]
        },
        {
          "output_type": "stream",
          "name": "stderr",
          "text": [
            "WARNING:tensorflow:Early stopping conditioned on metric `val_loss` which is not available. Available metrics are: loss,accuracy\n",
            "WARNING:tensorflow:Learning rate reduction is conditioned on metric `val_loss` which is not available. Available metrics are: loss,accuracy,lr\n"
          ]
        },
        {
          "output_type": "stream",
          "name": "stdout",
          "text": [
            "\b\b\b\b\b\b\b\b\b\b\b\b\b\b\b\b\b\b\b\b\b\b\b\b\b\b\b\b\b\b\b\b\b\b\b\b\b\b\b\b\b\b\b\b\b\b\b\b\b\b\b\b\b\b\b\b\b\b\b\b\b\b\b\b\b\b\b\b\b\b\b\b\b\b\b\b\b\b\b\b\b\b\b\b\b\b\b\b\r125/125 [==============================] - 1s 7ms/step - loss: 1.4514e-06 - accuracy: 1.0000 - lr: 3.0000e-05\n",
            "Epoch 163/200\n",
            "125/125 [==============================] - ETA: 0s - loss: 1.1210e-06 - accuracy: 1.0000"
          ]
        },
        {
          "output_type": "stream",
          "name": "stderr",
          "text": [
            "WARNING:tensorflow:Early stopping conditioned on metric `val_loss` which is not available. Available metrics are: loss,accuracy\n",
            "WARNING:tensorflow:Learning rate reduction is conditioned on metric `val_loss` which is not available. Available metrics are: loss,accuracy,lr\n"
          ]
        },
        {
          "output_type": "stream",
          "name": "stdout",
          "text": [
            "\b\b\b\b\b\b\b\b\b\b\b\b\b\b\b\b\b\b\b\b\b\b\b\b\b\b\b\b\b\b\b\b\b\b\b\b\b\b\b\b\b\b\b\b\b\b\b\b\b\b\b\b\b\b\b\b\b\b\b\b\b\b\b\b\b\b\b\b\b\b\b\b\b\b\b\b\b\b\b\b\b\b\b\b\b\b\b\b\r125/125 [==============================] - 1s 7ms/step - loss: 1.1210e-06 - accuracy: 1.0000 - lr: 3.0000e-05\n",
            "Epoch 164/200\n",
            "122/125 [============================>.] - ETA: 0s - loss: 2.2516e-06 - accuracy: 1.0000"
          ]
        },
        {
          "output_type": "stream",
          "name": "stderr",
          "text": [
            "WARNING:tensorflow:Early stopping conditioned on metric `val_loss` which is not available. Available metrics are: loss,accuracy\n",
            "WARNING:tensorflow:Learning rate reduction is conditioned on metric `val_loss` which is not available. Available metrics are: loss,accuracy,lr\n"
          ]
        },
        {
          "output_type": "stream",
          "name": "stdout",
          "text": [
            "\b\b\b\b\b\b\b\b\b\b\b\b\b\b\b\b\b\b\b\b\b\b\b\b\b\b\b\b\b\b\b\b\b\b\b\b\b\b\b\b\b\b\b\b\b\b\b\b\b\b\b\b\b\b\b\b\b\b\b\b\b\b\b\b\b\b\b\b\b\b\b\b\b\b\b\b\b\b\b\b\b\b\b\b\b\b\b\b\r125/125 [==============================] - 1s 7ms/step - loss: 2.2321e-06 - accuracy: 1.0000 - lr: 3.0000e-05\n",
            "Epoch 165/200\n",
            "122/125 [============================>.] - ETA: 0s - loss: 1.5646e-06 - accuracy: 1.0000"
          ]
        },
        {
          "output_type": "stream",
          "name": "stderr",
          "text": [
            "WARNING:tensorflow:Early stopping conditioned on metric `val_loss` which is not available. Available metrics are: loss,accuracy\n",
            "WARNING:tensorflow:Learning rate reduction is conditioned on metric `val_loss` which is not available. Available metrics are: loss,accuracy,lr\n"
          ]
        },
        {
          "output_type": "stream",
          "name": "stdout",
          "text": [
            "\b\b\b\b\b\b\b\b\b\b\b\b\b\b\b\b\b\b\b\b\b\b\b\b\b\b\b\b\b\b\b\b\b\b\b\b\b\b\b\b\b\b\b\b\b\b\b\b\b\b\b\b\b\b\b\b\b\b\b\b\b\b\b\b\b\b\b\b\b\b\b\b\b\b\b\b\b\b\b\b\b\b\b\b\b\b\b\b\r125/125 [==============================] - 1s 7ms/step - loss: 1.5832e-06 - accuracy: 1.0000 - lr: 3.0000e-05\n",
            "Epoch 166/200\n",
            "119/125 [===========================>..] - ETA: 0s - loss: 1.1854e-06 - accuracy: 1.0000"
          ]
        },
        {
          "output_type": "stream",
          "name": "stderr",
          "text": [
            "WARNING:tensorflow:Early stopping conditioned on metric `val_loss` which is not available. Available metrics are: loss,accuracy\n",
            "WARNING:tensorflow:Learning rate reduction is conditioned on metric `val_loss` which is not available. Available metrics are: loss,accuracy,lr\n"
          ]
        },
        {
          "output_type": "stream",
          "name": "stdout",
          "text": [
            "\b\b\b\b\b\b\b\b\b\b\b\b\b\b\b\b\b\b\b\b\b\b\b\b\b\b\b\b\b\b\b\b\b\b\b\b\b\b\b\b\b\b\b\b\b\b\b\b\b\b\b\b\b\b\b\b\b\b\b\b\b\b\b\b\b\b\b\b\b\b\b\b\b\b\b\b\b\b\b\b\b\b\b\b\b\b\b\b\r125/125 [==============================] - 1s 7ms/step - loss: 1.1557e-06 - accuracy: 1.0000 - lr: 3.0000e-05\n",
            "Epoch 167/200\n",
            "123/125 [============================>.] - ETA: 0s - loss: 8.4696e-07 - accuracy: 1.0000"
          ]
        },
        {
          "output_type": "stream",
          "name": "stderr",
          "text": [
            "WARNING:tensorflow:Early stopping conditioned on metric `val_loss` which is not available. Available metrics are: loss,accuracy\n",
            "WARNING:tensorflow:Learning rate reduction is conditioned on metric `val_loss` which is not available. Available metrics are: loss,accuracy,lr\n"
          ]
        },
        {
          "output_type": "stream",
          "name": "stdout",
          "text": [
            "\b\b\b\b\b\b\b\b\b\b\b\b\b\b\b\b\b\b\b\b\b\b\b\b\b\b\b\b\b\b\b\b\b\b\b\b\b\b\b\b\b\b\b\b\b\b\b\b\b\b\b\b\b\b\b\b\b\b\b\b\b\b\b\b\b\b\b\b\b\b\b\b\b\b\b\b\b\b\b\b\b\b\b\b\b\b\b\b\r125/125 [==============================] - 1s 7ms/step - loss: 8.4234e-07 - accuracy: 1.0000 - lr: 3.0000e-05\n",
            "Epoch 168/200\n",
            "123/125 [============================>.] - ETA: 0s - loss: 1.1469e-06 - accuracy: 1.0000"
          ]
        },
        {
          "output_type": "stream",
          "name": "stderr",
          "text": [
            "WARNING:tensorflow:Early stopping conditioned on metric `val_loss` which is not available. Available metrics are: loss,accuracy\n",
            "WARNING:tensorflow:Learning rate reduction is conditioned on metric `val_loss` which is not available. Available metrics are: loss,accuracy,lr\n"
          ]
        },
        {
          "output_type": "stream",
          "name": "stdout",
          "text": [
            "\b\b\b\b\b\b\b\b\b\b\b\b\b\b\b\b\b\b\b\b\b\b\b\b\b\b\b\b\b\b\b\b\b\b\b\b\b\b\b\b\b\b\b\b\b\b\b\b\b\b\b\b\b\b\b\b\b\b\b\b\b\b\b\b\b\b\b\b\b\b\b\b\b\b\b\b\b\b\b\b\b\b\b\b\b\b\b\b\r125/125 [==============================] - 1s 7ms/step - loss: 1.1326e-06 - accuracy: 1.0000 - lr: 3.0000e-05\n",
            "Epoch 169/200\n",
            "122/125 [============================>.] - ETA: 0s - loss: 1.2300e-06 - accuracy: 1.0000"
          ]
        },
        {
          "output_type": "stream",
          "name": "stderr",
          "text": [
            "WARNING:tensorflow:Early stopping conditioned on metric `val_loss` which is not available. Available metrics are: loss,accuracy\n",
            "WARNING:tensorflow:Learning rate reduction is conditioned on metric `val_loss` which is not available. Available metrics are: loss,accuracy,lr\n"
          ]
        },
        {
          "output_type": "stream",
          "name": "stdout",
          "text": [
            "\b\b\b\b\b\b\b\b\b\b\b\b\b\b\b\b\b\b\b\b\b\b\b\b\b\b\b\b\b\b\b\b\b\b\b\b\b\b\b\b\b\b\b\b\b\b\b\b\b\b\b\b\b\b\b\b\b\b\b\b\b\b\b\b\b\b\b\b\b\b\b\b\b\b\b\b\b\b\b\b\b\b\b\b\b\b\b\b\r125/125 [==============================] - 1s 7ms/step - loss: 1.2215e-06 - accuracy: 1.0000 - lr: 3.0000e-05\n",
            "Epoch 170/200\n",
            "120/125 [===========================>..] - ETA: 0s - loss: 1.0745e-06 - accuracy: 1.0000"
          ]
        },
        {
          "output_type": "stream",
          "name": "stderr",
          "text": [
            "WARNING:tensorflow:Early stopping conditioned on metric `val_loss` which is not available. Available metrics are: loss,accuracy\n",
            "WARNING:tensorflow:Learning rate reduction is conditioned on metric `val_loss` which is not available. Available metrics are: loss,accuracy,lr\n"
          ]
        },
        {
          "output_type": "stream",
          "name": "stdout",
          "text": [
            "\b\b\b\b\b\b\b\b\b\b\b\b\b\b\b\b\b\b\b\b\b\b\b\b\b\b\b\b\b\b\b\b\b\b\b\b\b\b\b\b\b\b\b\b\b\b\b\b\b\b\b\b\b\b\b\b\b\b\b\b\b\b\b\b\b\b\b\b\b\b\b\b\b\b\b\b\b\b\b\b\b\b\b\b\b\b\b\b\r125/125 [==============================] - 1s 7ms/step - loss: 1.0396e-06 - accuracy: 1.0000 - lr: 3.0000e-05\n",
            "Epoch 171/200\n",
            "121/125 [============================>.] - ETA: 0s - loss: 1.3340e-06 - accuracy: 1.0000"
          ]
        },
        {
          "output_type": "stream",
          "name": "stderr",
          "text": [
            "WARNING:tensorflow:Early stopping conditioned on metric `val_loss` which is not available. Available metrics are: loss,accuracy\n",
            "WARNING:tensorflow:Learning rate reduction is conditioned on metric `val_loss` which is not available. Available metrics are: loss,accuracy,lr\n"
          ]
        },
        {
          "output_type": "stream",
          "name": "stdout",
          "text": [
            "\b\b\b\b\b\b\b\b\b\b\b\b\b\b\b\b\b\b\b\b\b\b\b\b\b\b\b\b\b\b\b\b\b\b\b\b\b\b\b\b\b\b\b\b\b\b\b\b\b\b\b\b\b\b\b\b\b\b\b\b\b\b\b\b\b\b\b\b\b\b\b\b\b\b\b\b\b\b\b\b\b\b\b\b\b\b\b\b\r125/125 [==============================] - 1s 7ms/step - loss: 1.3967e-06 - accuracy: 1.0000 - lr: 3.0000e-05\n",
            "Epoch 172/200\n",
            "123/125 [============================>.] - ETA: 0s - loss: 9.9460e-07 - accuracy: 1.0000"
          ]
        },
        {
          "output_type": "stream",
          "name": "stderr",
          "text": [
            "WARNING:tensorflow:Early stopping conditioned on metric `val_loss` which is not available. Available metrics are: loss,accuracy\n",
            "WARNING:tensorflow:Learning rate reduction is conditioned on metric `val_loss` which is not available. Available metrics are: loss,accuracy,lr\n"
          ]
        },
        {
          "output_type": "stream",
          "name": "stdout",
          "text": [
            "\b\b\b\b\b\b\b\b\b\b\b\b\b\b\b\b\b\b\b\b\b\b\b\b\b\b\b\b\b\b\b\b\b\b\b\b\b\b\b\b\b\b\b\b\b\b\b\b\b\b\b\b\b\b\b\b\b\b\b\b\b\b\b\b\b\b\b\b\b\b\b\b\b\b\b\b\b\b\b\b\b\b\b\b\b\b\b\b\r125/125 [==============================] - 1s 7ms/step - loss: 9.8513e-07 - accuracy: 1.0000 - lr: 3.0000e-05\n",
            "Epoch 173/200\n",
            "124/125 [============================>.] - ETA: 0s - loss: 7.3247e-07 - accuracy: 1.0000"
          ]
        },
        {
          "output_type": "stream",
          "name": "stderr",
          "text": [
            "WARNING:tensorflow:Early stopping conditioned on metric `val_loss` which is not available. Available metrics are: loss,accuracy\n",
            "WARNING:tensorflow:Learning rate reduction is conditioned on metric `val_loss` which is not available. Available metrics are: loss,accuracy,lr\n"
          ]
        },
        {
          "output_type": "stream",
          "name": "stdout",
          "text": [
            "\b\b\b\b\b\b\b\b\b\b\b\b\b\b\b\b\b\b\b\b\b\b\b\b\b\b\b\b\b\b\b\b\b\b\b\b\b\b\b\b\b\b\b\b\b\b\b\b\b\b\b\b\b\b\b\b\b\b\b\b\b\b\b\b\b\b\b\b\b\b\b\b\b\b\b\b\b\b\b\b\b\b\b\b\b\b\b\b\r125/125 [==============================] - 1s 7ms/step - loss: 7.3032e-07 - accuracy: 1.0000 - lr: 3.0000e-05\n",
            "Epoch 174/200\n",
            "123/125 [============================>.] - ETA: 0s - loss: 7.1531e-07 - accuracy: 1.0000"
          ]
        },
        {
          "output_type": "stream",
          "name": "stderr",
          "text": [
            "WARNING:tensorflow:Early stopping conditioned on metric `val_loss` which is not available. Available metrics are: loss,accuracy\n",
            "WARNING:tensorflow:Learning rate reduction is conditioned on metric `val_loss` which is not available. Available metrics are: loss,accuracy,lr\n"
          ]
        },
        {
          "output_type": "stream",
          "name": "stdout",
          "text": [
            "\b\b\b\b\b\b\b\b\b\b\b\b\b\b\b\b\b\b\b\b\b\b\b\b\b\b\b\b\b\b\b\b\b\b\b\b\b\b\b\b\b\b\b\b\b\b\b\b\b\b\b\b\b\b\b\b\b\b\b\b\b\b\b\b\b\b\b\b\b\b\b\b\b\b\b\b\b\b\b\b\b\b\b\b\b\b\b\b\r125/125 [==============================] - 1s 7ms/step - loss: 7.2450e-07 - accuracy: 1.0000 - lr: 3.0000e-05\n",
            "Epoch 175/200\n",
            "123/125 [============================>.] - ETA: 0s - loss: 6.3011e-07 - accuracy: 1.0000"
          ]
        },
        {
          "output_type": "stream",
          "name": "stderr",
          "text": [
            "WARNING:tensorflow:Early stopping conditioned on metric `val_loss` which is not available. Available metrics are: loss,accuracy\n",
            "WARNING:tensorflow:Learning rate reduction is conditioned on metric `val_loss` which is not available. Available metrics are: loss,accuracy,lr\n"
          ]
        },
        {
          "output_type": "stream",
          "name": "stdout",
          "text": [
            "\b\b\b\b\b\b\b\b\b\b\b\b\b\b\b\b\b\b\b\b\b\b\b\b\b\b\b\b\b\b\b\b\b\b\b\b\b\b\b\b\b\b\b\b\b\b\b\b\b\b\b\b\b\b\b\b\b\b\b\b\b\b\b\b\b\b\b\b\b\b\b\b\b\b\b\b\b\b\b\b\b\b\b\b\b\b\b\b\r125/125 [==============================] - 1s 7ms/step - loss: 6.2473e-07 - accuracy: 1.0000 - lr: 3.0000e-05\n",
            "Epoch 176/200\n",
            "124/125 [============================>.] - ETA: 0s - loss: 8.1745e-07 - accuracy: 1.0000"
          ]
        },
        {
          "output_type": "stream",
          "name": "stderr",
          "text": [
            "WARNING:tensorflow:Early stopping conditioned on metric `val_loss` which is not available. Available metrics are: loss,accuracy\n",
            "WARNING:tensorflow:Learning rate reduction is conditioned on metric `val_loss` which is not available. Available metrics are: loss,accuracy,lr\n"
          ]
        },
        {
          "output_type": "stream",
          "name": "stdout",
          "text": [
            "\b\b\b\b\b\b\b\b\b\b\b\b\b\b\b\b\b\b\b\b\b\b\b\b\b\b\b\b\b\b\b\b\b\b\b\b\b\b\b\b\b\b\b\b\b\b\b\b\b\b\b\b\b\b\b\b\b\b\b\b\b\b\b\b\b\b\b\b\b\b\b\b\b\b\b\b\b\b\b\b\b\b\b\b\b\b\b\b\r125/125 [==============================] - 1s 7ms/step - loss: 8.1254e-07 - accuracy: 1.0000 - lr: 3.0000e-05\n",
            "Epoch 177/200\n",
            "119/125 [===========================>..] - ETA: 0s - loss: 6.0784e-07 - accuracy: 1.0000"
          ]
        },
        {
          "output_type": "stream",
          "name": "stderr",
          "text": [
            "WARNING:tensorflow:Early stopping conditioned on metric `val_loss` which is not available. Available metrics are: loss,accuracy\n",
            "WARNING:tensorflow:Learning rate reduction is conditioned on metric `val_loss` which is not available. Available metrics are: loss,accuracy,lr\n"
          ]
        },
        {
          "output_type": "stream",
          "name": "stdout",
          "text": [
            "\b\b\b\b\b\b\b\b\b\b\b\b\b\b\b\b\b\b\b\b\b\b\b\b\b\b\b\b\b\b\b\b\b\b\b\b\b\b\b\b\b\b\b\b\b\b\b\b\b\b\b\b\b\b\b\b\b\b\b\b\b\b\b\b\b\b\b\b\b\b\b\b\b\b\b\b\b\b\b\b\b\b\b\b\b\b\b\b\r125/125 [==============================] - 1s 7ms/step - loss: 5.9115e-07 - accuracy: 1.0000 - lr: 3.0000e-05\n",
            "Epoch 178/200\n",
            "124/125 [============================>.] - ETA: 0s - loss: 5.3639e-07 - accuracy: 1.0000"
          ]
        },
        {
          "output_type": "stream",
          "name": "stderr",
          "text": [
            "WARNING:tensorflow:Early stopping conditioned on metric `val_loss` which is not available. Available metrics are: loss,accuracy\n",
            "WARNING:tensorflow:Learning rate reduction is conditioned on metric `val_loss` which is not available. Available metrics are: loss,accuracy,lr\n"
          ]
        },
        {
          "output_type": "stream",
          "name": "stdout",
          "text": [
            "\b\b\b\b\b\b\b\b\b\b\b\b\b\b\b\b\b\b\b\b\b\b\b\b\b\b\b\b\b\b\b\b\b\b\b\b\b\b\b\b\b\b\b\b\b\b\b\b\b\b\b\b\b\b\b\b\b\b\b\b\b\b\b\b\b\b\b\b\b\b\b\b\b\b\b\b\b\b\b\b\b\b\b\b\b\b\b\b\r125/125 [==============================] - 1s 7ms/step - loss: 5.3826e-07 - accuracy: 1.0000 - lr: 3.0000e-05\n",
            "Epoch 179/200\n",
            "122/125 [============================>.] - ETA: 0s - loss: 5.9783e-07 - accuracy: 1.0000"
          ]
        },
        {
          "output_type": "stream",
          "name": "stderr",
          "text": [
            "WARNING:tensorflow:Early stopping conditioned on metric `val_loss` which is not available. Available metrics are: loss,accuracy\n",
            "WARNING:tensorflow:Learning rate reduction is conditioned on metric `val_loss` which is not available. Available metrics are: loss,accuracy,lr\n"
          ]
        },
        {
          "output_type": "stream",
          "name": "stdout",
          "text": [
            "\b\b\b\b\b\b\b\b\b\b\b\b\b\b\b\b\b\b\b\b\b\b\b\b\b\b\b\b\b\b\b\b\b\b\b\b\b\b\b\b\b\b\b\b\b\b\b\b\b\b\b\b\b\b\b\b\b\b\b\b\b\b\b\b\b\b\b\b\b\b\b\b\b\b\b\b\b\b\b\b\b\b\b\b\b\b\b\b\r125/125 [==============================] - 1s 7ms/step - loss: 5.8658e-07 - accuracy: 1.0000 - lr: 3.0000e-05\n",
            "Epoch 180/200\n",
            "122/125 [============================>.] - ETA: 0s - loss: 7.8356e-07 - accuracy: 1.0000"
          ]
        },
        {
          "output_type": "stream",
          "name": "stderr",
          "text": [
            "WARNING:tensorflow:Early stopping conditioned on metric `val_loss` which is not available. Available metrics are: loss,accuracy\n",
            "WARNING:tensorflow:Learning rate reduction is conditioned on metric `val_loss` which is not available. Available metrics are: loss,accuracy,lr\n"
          ]
        },
        {
          "output_type": "stream",
          "name": "stdout",
          "text": [
            "\b\b\b\b\b\b\b\b\b\b\b\b\b\b\b\b\b\b\b\b\b\b\b\b\b\b\b\b\b\b\b\b\b\b\b\b\b\b\b\b\b\b\b\b\b\b\b\b\b\b\b\b\b\b\b\b\b\b\b\b\b\b\b\b\b\b\b\b\b\b\b\b\b\b\b\b\b\b\b\b\b\b\b\b\b\b\b\b\r125/125 [==============================] - 1s 7ms/step - loss: 7.6934e-07 - accuracy: 1.0000 - lr: 3.0000e-05\n",
            "Epoch 181/200\n",
            "119/125 [===========================>..] - ETA: 0s - loss: 1.1251e-06 - accuracy: 1.0000"
          ]
        },
        {
          "output_type": "stream",
          "name": "stderr",
          "text": [
            "WARNING:tensorflow:Early stopping conditioned on metric `val_loss` which is not available. Available metrics are: loss,accuracy\n",
            "WARNING:tensorflow:Learning rate reduction is conditioned on metric `val_loss` which is not available. Available metrics are: loss,accuracy,lr\n"
          ]
        },
        {
          "output_type": "stream",
          "name": "stdout",
          "text": [
            "\b\b\b\b\b\b\b\b\b\b\b\b\b\b\b\b\b\b\b\b\b\b\b\b\b\b\b\b\b\b\b\b\b\b\b\b\b\b\b\b\b\b\b\b\b\b\b\b\b\b\b\b\b\b\b\b\b\b\b\b\b\b\b\b\b\b\b\b\b\b\b\b\b\b\b\b\b\b\b\b\b\b\b\b\b\b\b\b\r125/125 [==============================] - 1s 7ms/step - loss: 1.0796e-06 - accuracy: 1.0000 - lr: 3.0000e-05\n",
            "Epoch 182/200\n",
            "124/125 [============================>.] - ETA: 0s - loss: 4.2732e-07 - accuracy: 1.0000"
          ]
        },
        {
          "output_type": "stream",
          "name": "stderr",
          "text": [
            "WARNING:tensorflow:Early stopping conditioned on metric `val_loss` which is not available. Available metrics are: loss,accuracy\n",
            "WARNING:tensorflow:Learning rate reduction is conditioned on metric `val_loss` which is not available. Available metrics are: loss,accuracy,lr\n"
          ]
        },
        {
          "output_type": "stream",
          "name": "stdout",
          "text": [
            "\b\b\b\b\b\b\b\b\b\b\b\b\b\b\b\b\b\b\b\b\b\b\b\b\b\b\b\b\b\b\b\b\b\b\b\b\b\b\b\b\b\b\b\b\b\b\b\b\b\b\b\b\b\b\b\b\b\b\b\b\b\b\b\b\b\b\b\b\b\b\b\b\b\b\b\b\b\b\b\b\b\b\b\b\b\b\b\b\r125/125 [==============================] - 1s 7ms/step - loss: 4.2453e-07 - accuracy: 1.0000 - lr: 3.0000e-05\n",
            "Epoch 183/200\n",
            "123/125 [============================>.] - ETA: 0s - loss: 4.5184e-07 - accuracy: 1.0000"
          ]
        },
        {
          "output_type": "stream",
          "name": "stderr",
          "text": [
            "WARNING:tensorflow:Early stopping conditioned on metric `val_loss` which is not available. Available metrics are: loss,accuracy\n",
            "WARNING:tensorflow:Learning rate reduction is conditioned on metric `val_loss` which is not available. Available metrics are: loss,accuracy,lr\n"
          ]
        },
        {
          "output_type": "stream",
          "name": "stdout",
          "text": [
            "\b\b\b\b\b\b\b\b\b\b\b\b\b\b\b\b\b\b\b\b\b\b\b\b\b\b\b\b\b\b\b\b\b\b\b\b\b\b\b\b\b\b\b\b\b\b\b\b\b\b\b\b\b\b\b\b\b\b\b\b\b\b\b\b\b\b\b\b\b\b\b\b\b\b\b\b\b\b\b\b\b\b\b\b\b\b\b\b\r125/125 [==============================] - 1s 7ms/step - loss: 4.4664e-07 - accuracy: 1.0000 - lr: 3.0000e-05\n",
            "Epoch 184/200\n",
            "124/125 [============================>.] - ETA: 0s - loss: 4.3106e-07 - accuracy: 1.0000"
          ]
        },
        {
          "output_type": "stream",
          "name": "stderr",
          "text": [
            "WARNING:tensorflow:Early stopping conditioned on metric `val_loss` which is not available. Available metrics are: loss,accuracy\n",
            "WARNING:tensorflow:Learning rate reduction is conditioned on metric `val_loss` which is not available. Available metrics are: loss,accuracy,lr\n"
          ]
        },
        {
          "output_type": "stream",
          "name": "stdout",
          "text": [
            "\b\b\b\b\b\b\b\b\b\b\b\b\b\b\b\b\b\b\b\b\b\b\b\b\b\b\b\b\b\b\b\b\b\b\b\b\b\b\b\b\b\b\b\b\b\b\b\b\b\b\b\b\b\b\b\b\b\b\b\b\b\b\b\b\b\b\b\b\b\b\b\b\b\b\b\b\b\b\b\b\b\b\b\b\b\b\b\b\r125/125 [==============================] - 1s 7ms/step - loss: 4.3246e-07 - accuracy: 1.0000 - lr: 3.0000e-05\n",
            "Epoch 185/200\n",
            "125/125 [==============================] - ETA: 0s - loss: 5.7275e-07 - accuracy: 1.0000"
          ]
        },
        {
          "output_type": "stream",
          "name": "stderr",
          "text": [
            "WARNING:tensorflow:Early stopping conditioned on metric `val_loss` which is not available. Available metrics are: loss,accuracy\n",
            "WARNING:tensorflow:Learning rate reduction is conditioned on metric `val_loss` which is not available. Available metrics are: loss,accuracy,lr\n"
          ]
        },
        {
          "output_type": "stream",
          "name": "stdout",
          "text": [
            "\b\b\b\b\b\b\b\b\b\b\b\b\b\b\b\b\b\b\b\b\b\b\b\b\b\b\b\b\b\b\b\b\b\b\b\b\b\b\b\b\b\b\b\b\b\b\b\b\b\b\b\b\b\b\b\b\b\b\b\b\b\b\b\b\b\b\b\b\b\b\b\b\b\b\b\b\b\b\b\b\b\b\b\b\b\b\b\b\r125/125 [==============================] - 1s 7ms/step - loss: 5.7275e-07 - accuracy: 1.0000 - lr: 3.0000e-05\n",
            "Epoch 186/200\n",
            "125/125 [==============================] - ETA: 0s - loss: 4.3416e-07 - accuracy: 1.0000"
          ]
        },
        {
          "output_type": "stream",
          "name": "stderr",
          "text": [
            "WARNING:tensorflow:Early stopping conditioned on metric `val_loss` which is not available. Available metrics are: loss,accuracy\n",
            "WARNING:tensorflow:Learning rate reduction is conditioned on metric `val_loss` which is not available. Available metrics are: loss,accuracy,lr\n"
          ]
        },
        {
          "output_type": "stream",
          "name": "stdout",
          "text": [
            "\b\b\b\b\b\b\b\b\b\b\b\b\b\b\b\b\b\b\b\b\b\b\b\b\b\b\b\b\b\b\b\b\b\b\b\b\b\b\b\b\b\b\b\b\b\b\b\b\b\b\b\b\b\b\b\b\b\b\b\b\b\b\b\b\b\b\b\b\b\b\b\b\b\b\b\b\b\b\b\b\b\b\b\b\b\b\b\b\r125/125 [==============================] - 1s 7ms/step - loss: 4.3416e-07 - accuracy: 1.0000 - lr: 3.0000e-05\n",
            "Epoch 187/200\n",
            "124/125 [============================>.] - ETA: 0s - loss: 2.8526e-07 - accuracy: 1.0000"
          ]
        },
        {
          "output_type": "stream",
          "name": "stderr",
          "text": [
            "WARNING:tensorflow:Early stopping conditioned on metric `val_loss` which is not available. Available metrics are: loss,accuracy\n",
            "WARNING:tensorflow:Learning rate reduction is conditioned on metric `val_loss` which is not available. Available metrics are: loss,accuracy,lr\n"
          ]
        },
        {
          "output_type": "stream",
          "name": "stdout",
          "text": [
            "\b\b\b\b\b\b\b\b\b\b\b\b\b\b\b\b\b\b\b\b\b\b\b\b\b\b\b\b\b\b\b\b\b\b\b\b\b\b\b\b\b\b\b\b\b\b\b\b\b\b\b\b\b\b\b\b\b\b\b\b\b\b\b\b\b\b\b\b\b\b\b\b\b\b\b\b\b\b\b\b\b\b\b\b\b\b\b\b\r125/125 [==============================] - 1s 7ms/step - loss: 2.8511e-07 - accuracy: 1.0000 - lr: 3.0000e-05\n",
            "Epoch 188/200\n",
            "118/125 [===========================>..] - ETA: 0s - loss: 4.5313e-07 - accuracy: 1.0000"
          ]
        },
        {
          "output_type": "stream",
          "name": "stderr",
          "text": [
            "WARNING:tensorflow:Early stopping conditioned on metric `val_loss` which is not available. Available metrics are: loss,accuracy\n",
            "WARNING:tensorflow:Learning rate reduction is conditioned on metric `val_loss` which is not available. Available metrics are: loss,accuracy,lr\n"
          ]
        },
        {
          "output_type": "stream",
          "name": "stdout",
          "text": [
            "\b\b\b\b\b\b\b\b\b\b\b\b\b\b\b\b\b\b\b\b\b\b\b\b\b\b\b\b\b\b\b\b\b\b\b\b\b\b\b\b\b\b\b\b\b\b\b\b\b\b\b\b\b\b\b\b\b\b\b\b\b\b\b\b\b\b\b\b\b\b\b\b\b\b\b\b\b\b\b\b\b\b\b\b\b\b\b\b\r125/125 [==============================] - 1s 7ms/step - loss: 4.3377e-07 - accuracy: 1.0000 - lr: 3.0000e-05\n",
            "Epoch 189/200\n",
            "119/125 [===========================>..] - ETA: 0s - loss: 6.9897e-07 - accuracy: 1.0000"
          ]
        },
        {
          "output_type": "stream",
          "name": "stderr",
          "text": [
            "WARNING:tensorflow:Early stopping conditioned on metric `val_loss` which is not available. Available metrics are: loss,accuracy\n",
            "WARNING:tensorflow:Learning rate reduction is conditioned on metric `val_loss` which is not available. Available metrics are: loss,accuracy,lr\n"
          ]
        },
        {
          "output_type": "stream",
          "name": "stdout",
          "text": [
            "\b\b\b\b\b\b\b\b\b\b\b\b\b\b\b\b\b\b\b\b\b\b\b\b\b\b\b\b\b\b\b\b\b\b\b\b\b\b\b\b\b\b\b\b\b\b\b\b\b\b\b\b\b\b\b\b\b\b\b\b\b\b\b\b\b\b\b\b\b\b\b\b\b\b\b\b\b\b\b\b\b\b\b\b\b\b\b\b\r125/125 [==============================] - 1s 7ms/step - loss: 7.3605e-07 - accuracy: 1.0000 - lr: 3.0000e-05\n",
            "Epoch 190/200\n",
            "125/125 [==============================] - ETA: 0s - loss: 4.4991e-07 - accuracy: 1.0000"
          ]
        },
        {
          "output_type": "stream",
          "name": "stderr",
          "text": [
            "WARNING:tensorflow:Early stopping conditioned on metric `val_loss` which is not available. Available metrics are: loss,accuracy\n",
            "WARNING:tensorflow:Learning rate reduction is conditioned on metric `val_loss` which is not available. Available metrics are: loss,accuracy,lr\n"
          ]
        },
        {
          "output_type": "stream",
          "name": "stdout",
          "text": [
            "\b\b\b\b\b\b\b\b\b\b\b\b\b\b\b\b\b\b\b\b\b\b\b\b\b\b\b\b\b\b\b\b\b\b\b\b\b\b\b\b\b\b\b\b\b\b\b\b\b\b\b\b\b\b\b\b\b\b\b\b\b\b\b\b\b\b\b\b\b\b\b\b\b\b\b\b\b\b\b\b\b\b\b\b\b\b\b\b\r125/125 [==============================] - 1s 7ms/step - loss: 4.4991e-07 - accuracy: 1.0000 - lr: 3.0000e-05\n",
            "Epoch 191/200\n",
            "120/125 [===========================>..] - ETA: 0s - loss: 6.8393e-07 - accuracy: 1.0000"
          ]
        },
        {
          "output_type": "stream",
          "name": "stderr",
          "text": [
            "WARNING:tensorflow:Early stopping conditioned on metric `val_loss` which is not available. Available metrics are: loss,accuracy\n",
            "WARNING:tensorflow:Learning rate reduction is conditioned on metric `val_loss` which is not available. Available metrics are: loss,accuracy,lr\n"
          ]
        },
        {
          "output_type": "stream",
          "name": "stdout",
          "text": [
            "\b\b\b\b\b\b\b\b\b\b\b\b\b\b\b\b\b\b\b\b\b\b\b\b\b\b\b\b\b\b\b\b\b\b\b\b\b\b\b\b\b\b\b\b\b\b\b\b\b\b\b\b\b\b\b\b\b\b\b\b\b\b\b\b\b\b\b\b\b\b\b\b\b\b\b\b\b\b\b\b\b\b\b\b\b\b\b\b\r125/125 [==============================] - 1s 7ms/step - loss: 6.6527e-07 - accuracy: 1.0000 - lr: 3.0000e-05\n",
            "Epoch 192/200\n",
            "125/125 [==============================] - ETA: 0s - loss: 6.0122e-07 - accuracy: 1.0000"
          ]
        },
        {
          "output_type": "stream",
          "name": "stderr",
          "text": [
            "WARNING:tensorflow:Early stopping conditioned on metric `val_loss` which is not available. Available metrics are: loss,accuracy\n",
            "WARNING:tensorflow:Learning rate reduction is conditioned on metric `val_loss` which is not available. Available metrics are: loss,accuracy,lr\n"
          ]
        },
        {
          "output_type": "stream",
          "name": "stdout",
          "text": [
            "\b\b\b\b\b\b\b\b\b\b\b\b\b\b\b\b\b\b\b\b\b\b\b\b\b\b\b\b\b\b\b\b\b\b\b\b\b\b\b\b\b\b\b\b\b\b\b\b\b\b\b\b\b\b\b\b\b\b\b\b\b\b\b\b\b\b\b\b\b\b\b\b\b\b\b\b\b\b\b\b\b\b\b\b\b\b\b\b\r125/125 [==============================] - 1s 7ms/step - loss: 6.0122e-07 - accuracy: 1.0000 - lr: 3.0000e-05\n",
            "Epoch 193/200\n",
            "125/125 [==============================] - ETA: 0s - loss: 4.2820e-07 - accuracy: 1.0000"
          ]
        },
        {
          "output_type": "stream",
          "name": "stderr",
          "text": [
            "WARNING:tensorflow:Early stopping conditioned on metric `val_loss` which is not available. Available metrics are: loss,accuracy\n",
            "WARNING:tensorflow:Learning rate reduction is conditioned on metric `val_loss` which is not available. Available metrics are: loss,accuracy,lr\n"
          ]
        },
        {
          "output_type": "stream",
          "name": "stdout",
          "text": [
            "\b\b\b\b\b\b\b\b\b\b\b\b\b\b\b\b\b\b\b\b\b\b\b\b\b\b\b\b\b\b\b\b\b\b\b\b\b\b\b\b\b\b\b\b\b\b\b\b\b\b\b\b\b\b\b\b\b\b\b\b\b\b\b\b\b\b\b\b\b\b\b\b\b\b\b\b\b\b\b\b\b\b\b\b\b\b\b\b\r125/125 [==============================] - 1s 7ms/step - loss: 4.2820e-07 - accuracy: 1.0000 - lr: 3.0000e-05\n",
            "Epoch 194/200\n",
            "124/125 [============================>.] - ETA: 0s - loss: 3.2203e-07 - accuracy: 1.0000"
          ]
        },
        {
          "output_type": "stream",
          "name": "stderr",
          "text": [
            "WARNING:tensorflow:Early stopping conditioned on metric `val_loss` which is not available. Available metrics are: loss,accuracy\n",
            "WARNING:tensorflow:Learning rate reduction is conditioned on metric `val_loss` which is not available. Available metrics are: loss,accuracy,lr\n"
          ]
        },
        {
          "output_type": "stream",
          "name": "stdout",
          "text": [
            "\b\b\b\b\b\b\b\b\b\b\b\b\b\b\b\b\b\b\b\b\b\b\b\b\b\b\b\b\b\b\b\b\b\b\b\b\b\b\b\b\b\b\b\b\b\b\b\b\b\b\b\b\b\b\b\b\b\b\b\b\b\b\b\b\b\b\b\b\b\b\b\b\b\b\b\b\b\b\b\b\b\b\b\b\b\b\b\b\r125/125 [==============================] - 1s 7ms/step - loss: 3.2395e-07 - accuracy: 1.0000 - lr: 3.0000e-05\n",
            "Epoch 195/200\n",
            "125/125 [==============================] - ETA: 0s - loss: 6.8695e-07 - accuracy: 1.0000"
          ]
        },
        {
          "output_type": "stream",
          "name": "stderr",
          "text": [
            "WARNING:tensorflow:Early stopping conditioned on metric `val_loss` which is not available. Available metrics are: loss,accuracy\n",
            "WARNING:tensorflow:Learning rate reduction is conditioned on metric `val_loss` which is not available. Available metrics are: loss,accuracy,lr\n"
          ]
        },
        {
          "output_type": "stream",
          "name": "stdout",
          "text": [
            "\b\b\b\b\b\b\b\b\b\b\b\b\b\b\b\b\b\b\b\b\b\b\b\b\b\b\b\b\b\b\b\b\b\b\b\b\b\b\b\b\b\b\b\b\b\b\b\b\b\b\b\b\b\b\b\b\b\b\b\b\b\b\b\b\b\b\b\b\b\b\b\b\b\b\b\b\b\b\b\b\b\b\b\b\b\b\b\b\r125/125 [==============================] - 1s 7ms/step - loss: 6.8695e-07 - accuracy: 1.0000 - lr: 3.0000e-05\n",
            "Epoch 196/200\n",
            "121/125 [============================>.] - ETA: 0s - loss: 3.6455e-07 - accuracy: 1.0000"
          ]
        },
        {
          "output_type": "stream",
          "name": "stderr",
          "text": [
            "WARNING:tensorflow:Early stopping conditioned on metric `val_loss` which is not available. Available metrics are: loss,accuracy\n",
            "WARNING:tensorflow:Learning rate reduction is conditioned on metric `val_loss` which is not available. Available metrics are: loss,accuracy,lr\n"
          ]
        },
        {
          "output_type": "stream",
          "name": "stdout",
          "text": [
            "\b\b\b\b\b\b\b\b\b\b\b\b\b\b\b\b\b\b\b\b\b\b\b\b\b\b\b\b\b\b\b\b\b\b\b\b\b\b\b\b\b\b\b\b\b\b\b\b\b\b\b\b\b\b\b\b\b\b\b\b\b\b\b\b\b\b\b\b\b\b\b\b\b\b\b\b\b\b\b\b\b\b\b\b\b\b\b\b\r125/125 [==============================] - 1s 7ms/step - loss: 3.6189e-07 - accuracy: 1.0000 - lr: 3.0000e-05\n",
            "Epoch 197/200\n",
            "118/125 [===========================>..] - ETA: 0s - loss: 2.8468e-07 - accuracy: 1.0000"
          ]
        },
        {
          "output_type": "stream",
          "name": "stderr",
          "text": [
            "WARNING:tensorflow:Early stopping conditioned on metric `val_loss` which is not available. Available metrics are: loss,accuracy\n",
            "WARNING:tensorflow:Learning rate reduction is conditioned on metric `val_loss` which is not available. Available metrics are: loss,accuracy,lr\n"
          ]
        },
        {
          "output_type": "stream",
          "name": "stdout",
          "text": [
            "\b\b\b\b\b\b\b\b\b\b\b\b\b\b\b\b\b\b\b\b\b\b\b\b\b\b\b\b\b\b\b\b\b\b\b\b\b\b\b\b\b\b\b\b\b\b\b\b\b\b\b\b\b\b\b\b\b\b\b\b\b\b\b\b\b\b\b\b\b\b\b\b\b\b\b\b\b\b\b\b\b\b\b\b\b\b\b\b\r125/125 [==============================] - 1s 7ms/step - loss: 2.7497e-07 - accuracy: 1.0000 - lr: 3.0000e-05\n",
            "Epoch 198/200\n",
            "118/125 [===========================>..] - ETA: 0s - loss: 3.7326e-07 - accuracy: 1.0000"
          ]
        },
        {
          "output_type": "stream",
          "name": "stderr",
          "text": [
            "WARNING:tensorflow:Early stopping conditioned on metric `val_loss` which is not available. Available metrics are: loss,accuracy\n",
            "WARNING:tensorflow:Learning rate reduction is conditioned on metric `val_loss` which is not available. Available metrics are: loss,accuracy,lr\n"
          ]
        },
        {
          "output_type": "stream",
          "name": "stdout",
          "text": [
            "\b\b\b\b\b\b\b\b\b\b\b\b\b\b\b\b\b\b\b\b\b\b\b\b\b\b\b\b\b\b\b\b\b\b\b\b\b\b\b\b\b\b\b\b\b\b\b\b\b\b\b\b\b\b\b\b\b\b\b\b\b\b\b\b\b\b\b\b\b\b\b\b\b\b\b\b\b\b\b\b\b\b\b\b\b\b\b\b\r125/125 [==============================] - 1s 7ms/step - loss: 3.7466e-07 - accuracy: 1.0000 - lr: 3.0000e-05\n",
            "Epoch 199/200\n",
            "124/125 [============================>.] - ETA: 0s - loss: 2.6651e-07 - accuracy: 1.0000"
          ]
        },
        {
          "output_type": "stream",
          "name": "stderr",
          "text": [
            "WARNING:tensorflow:Early stopping conditioned on metric `val_loss` which is not available. Available metrics are: loss,accuracy\n",
            "WARNING:tensorflow:Learning rate reduction is conditioned on metric `val_loss` which is not available. Available metrics are: loss,accuracy,lr\n"
          ]
        },
        {
          "output_type": "stream",
          "name": "stdout",
          "text": [
            "\b\b\b\b\b\b\b\b\b\b\b\b\b\b\b\b\b\b\b\b\b\b\b\b\b\b\b\b\b\b\b\b\b\b\b\b\b\b\b\b\b\b\b\b\b\b\b\b\b\b\b\b\b\b\b\b\b\b\b\b\b\b\b\b\b\b\b\b\b\b\b\b\b\b\b\b\b\b\b\b\b\b\b\b\b\b\b\b\r125/125 [==============================] - 1s 7ms/step - loss: 2.6496e-07 - accuracy: 1.0000 - lr: 3.0000e-05\n",
            "Epoch 200/200\n",
            "118/125 [===========================>..] - ETA: 0s - loss: 1.8302e-07 - accuracy: 1.0000"
          ]
        },
        {
          "output_type": "stream",
          "name": "stderr",
          "text": [
            "WARNING:tensorflow:Early stopping conditioned on metric `val_loss` which is not available. Available metrics are: loss,accuracy\n",
            "WARNING:tensorflow:Learning rate reduction is conditioned on metric `val_loss` which is not available. Available metrics are: loss,accuracy,lr\n"
          ]
        },
        {
          "output_type": "stream",
          "name": "stdout",
          "text": [
            "\b\b\b\b\b\b\b\b\b\b\b\b\b\b\b\b\b\b\b\b\b\b\b\b\b\b\b\b\b\b\b\b\b\b\b\b\b\b\b\b\b\b\b\b\b\b\b\b\b\b\b\b\b\b\b\b\b\b\b\b\b\b\b\b\b\b\b\b\b\b\b\b\b\b\b\b\b\b\b\b\b\b\b\b\b\b\b\b\r125/125 [==============================] - 1s 7ms/step - loss: 1.7820e-07 - accuracy: 1.0000 - lr: 3.0000e-05\n"
          ]
        }
      ]
    },
    {
      "cell_type": "markdown",
      "source": [
        "# log loss"
      ],
      "metadata": {
        "id": "U3Xg55v7ZbWc"
      }
    },
    {
      "cell_type": "code",
      "source": [
        "CNN1_network_predictions = CNN1_network.predict(padded_clean_text_t_stem)"
      ],
      "metadata": {
        "id": "dbcI7RTeZcn2"
      },
      "execution_count": null,
      "outputs": []
    },
    {
      "cell_type": "code",
      "source": [
        "from sklearn.metrics import log_loss\n",
        "log_loss_test= log_loss(label_twoDimension_t,CNN1_network_predictions)\n",
        "log_loss_test"
      ],
      "metadata": {
        "colab": {
          "base_uri": "https://localhost:8080/"
        },
        "id": "vBA3XmTFZf4y",
        "outputId": "c350d36f-67cc-4d17-dff9-308c4a016a0e"
      },
      "execution_count": null,
      "outputs": [
        {
          "output_type": "execute_result",
          "data": {
            "text/plain": [
              "2.7007962743727814"
            ]
          },
          "metadata": {},
          "execution_count": 64
        }
      ]
    },
    {
      "cell_type": "markdown",
      "source": [
        "# Classification Report\n"
      ],
      "metadata": {
        "id": "gIX9etNsZiSb"
      }
    },
    {
      "cell_type": "code",
      "source": [
        "predictions = np.zeros_like(CNN1_network_predictions)\n",
        "predictions[np.arange(len(CNN1_network_predictions)), CNN1_network_predictions.argmax(1)] = 1\n",
        "\n"
      ],
      "metadata": {
        "id": "EejyfrakZjSe"
      },
      "execution_count": null,
      "outputs": []
    },
    {
      "cell_type": "code",
      "source": [
        "\n",
        "\n",
        "predictionInteger=(np.argmax(predictions, axis=1))\n",
        "predictionInteger\n",
        "\n"
      ],
      "metadata": {
        "colab": {
          "base_uri": "https://localhost:8080/"
        },
        "id": "gegx60d8ZmD0",
        "outputId": "d899e265-49ec-4510-8e3f-843dc0bf1165"
      },
      "execution_count": null,
      "outputs": [
        {
          "output_type": "execute_result",
          "data": {
            "text/plain": [
              "array([0, 0, 0, ..., 1, 1, 1])"
            ]
          },
          "metadata": {},
          "execution_count": 66
        }
      ]
    },
    {
      "cell_type": "code",
      "source": [
        "\n",
        "\n",
        "pred_label = np.array(predictionInteger)\n",
        "df = pd.DataFrame(data=pred_label , columns=[\"task1\"])\n",
        "print(df)\n",
        "\n"
      ],
      "metadata": {
        "colab": {
          "base_uri": "https://localhost:8080/"
        },
        "id": "oceUPc_tZniC",
        "outputId": "1d89761d-9005-4d04-c746-5bae21588211"
      },
      "execution_count": null,
      "outputs": [
        {
          "output_type": "stream",
          "name": "stdout",
          "text": [
            "      task1\n",
            "0         0\n",
            "1         0\n",
            "2         0\n",
            "3         1\n",
            "4         1\n",
            "...     ...\n",
            "3527      1\n",
            "3528      1\n",
            "3529      1\n",
            "3530      1\n",
            "3531      1\n",
            "\n",
            "[3532 rows x 1 columns]\n"
          ]
        }
      ]
    },
    {
      "cell_type": "code",
      "source": [
        "df.to_csv(\"NSIT_Train_GERMEVAL2019_Test_GERMEVAL2018_Task_A_submission_DE_A.csv\", index=False)"
      ],
      "metadata": {
        "id": "Ey4jhyzcZpFS"
      },
      "execution_count": null,
      "outputs": []
    },
    {
      "cell_type": "code",
      "source": [
        "\n",
        "\n",
        "from sklearn.metrics import classification_report\n",
        "print(classification_report(label_twoDimension_t,predictions))\n",
        "\n"
      ],
      "metadata": {
        "colab": {
          "base_uri": "https://localhost:8080/"
        },
        "id": "XLy5CXJXZtSj",
        "outputId": "a1204891-4855-49bf-be61-eb19317febf4"
      },
      "execution_count": null,
      "outputs": [
        {
          "output_type": "stream",
          "name": "stdout",
          "text": [
            "              precision    recall  f1-score   support\n",
            "\n",
            "           0       0.55      0.37      0.45      1202\n",
            "           1       0.72      0.85      0.78      2330\n",
            "\n",
            "   micro avg       0.68      0.68      0.68      3532\n",
            "   macro avg       0.64      0.61      0.61      3532\n",
            "weighted avg       0.67      0.68      0.67      3532\n",
            " samples avg       0.68      0.68      0.68      3532\n",
            "\n"
          ]
        }
      ]
    },
    {
      "cell_type": "markdown",
      "source": [
        "# Epoch v/s Loss Plot\n"
      ],
      "metadata": {
        "id": "vtezBAMJZvBv"
      }
    },
    {
      "cell_type": "code",
      "source": [
        "\n",
        "\n",
        "from matplotlib import pyplot as plt\n",
        "plt.plot(hist.history[\"loss\"],color = 'red', label = 'train_loss')\n",
        "#plt.plot(hist.history[\"val_loss\"],color = 'blue', label = 'val_loss')\n",
        "plt.title('Loss Visualisation')\n",
        "plt.xlabel('Epochs')\n",
        "plt.ylabel('Loss')\n",
        "plt.legend()\n",
        "plt.savefig('CNN1_Train_GERMEVAL2019_Test_GERMEVAL2018_Task_A_Ger_lossPlot.pdf',dpi=1000)\n",
        "\n",
        "from google.colab import files\n",
        "files.download('CNN1_Train_GERMEVAL2019_Test_GERMEVAL2018_Task_A_Ger_lossPlot.pdf') \n",
        "\n"
      ],
      "metadata": {
        "colab": {
          "base_uri": "https://localhost:8080/"
        },
        "id": "3Q4VbA71ZwwS",
        "outputId": "5abe41a5-3cea-4dad-fabe-489e5754a300"
      },
      "execution_count": null,
      "outputs": [
        {
          "output_type": "display_data",
          "data": {
            "text/plain": [
              "<IPython.core.display.Javascript object>"
            ],
            "application/javascript": [
              "\n",
              "    async function download(id, filename, size) {\n",
              "      if (!google.colab.kernel.accessAllowed) {\n",
              "        return;\n",
              "      }\n",
              "      const div = document.createElement('div');\n",
              "      const label = document.createElement('label');\n",
              "      label.textContent = `Downloading \"${filename}\": `;\n",
              "      div.appendChild(label);\n",
              "      const progress = document.createElement('progress');\n",
              "      progress.max = size;\n",
              "      div.appendChild(progress);\n",
              "      document.body.appendChild(div);\n",
              "\n",
              "      const buffers = [];\n",
              "      let downloaded = 0;\n",
              "\n",
              "      const channel = await google.colab.kernel.comms.open(id);\n",
              "      // Send a message to notify the kernel that we're ready.\n",
              "      channel.send({})\n",
              "\n",
              "      for await (const message of channel.messages) {\n",
              "        // Send a message to notify the kernel that we're ready.\n",
              "        channel.send({})\n",
              "        if (message.buffers) {\n",
              "          for (const buffer of message.buffers) {\n",
              "            buffers.push(buffer);\n",
              "            downloaded += buffer.byteLength;\n",
              "            progress.value = downloaded;\n",
              "          }\n",
              "        }\n",
              "      }\n",
              "      const blob = new Blob(buffers, {type: 'application/binary'});\n",
              "      const a = document.createElement('a');\n",
              "      a.href = window.URL.createObjectURL(blob);\n",
              "      a.download = filename;\n",
              "      div.appendChild(a);\n",
              "      a.click();\n",
              "      div.remove();\n",
              "    }\n",
              "  "
            ]
          },
          "metadata": {}
        },
        {
          "output_type": "display_data",
          "data": {
            "text/plain": [
              "<IPython.core.display.Javascript object>"
            ],
            "application/javascript": [
              "download(\"download_afae8462-07b2-4cf0-a571-a0d6bbcf597d\", \"CNN1_Train_GERMEVAL2019_Test_GERMEVAL2018_Task_A_Ger_lossPlot.pdf\", 11385)"
            ]
          },
          "metadata": {}
        },
        {
          "output_type": "display_data",
          "data": {
            "text/plain": [
              "<Figure size 432x288 with 1 Axes>"
            ],
            "image/png": "[encoded data removed]"
          },
          "metadata": {
            "needs_background": "light"
          }
        }
      ]
    },
    {
      "cell_type": "markdown",
      "source": [
        "# Epoch v/s Accuracy Plot\n"
      ],
      "metadata": {
        "id": "NEu9wKuUZ0z3"
      }
    },
    {
      "cell_type": "code",
      "source": [
        "\n",
        "\n",
        "plt.plot(hist.history[\"accuracy\"],color = 'red', label = 'train_accuracy')\n",
        "#plt.plot(hist.history[\"val_accuracy\"],color = 'blue', label = 'val_accuracy')\n",
        "plt.title('Accuracy Visualisation')\n",
        "plt.xlabel('Epochs')\n",
        "plt.ylabel('Accuracy')\n",
        "plt.legend()\n",
        "plt.savefig('CNN1_Train_GERMEVAL2019_Test_GERMEVAL2018_Task_A_Ger_accuracyPlot.pdf',dpi=1000)\n",
        "files.download('CNN1_Train_GERMEVAL2019_Test_GERMEVAL2018_Task_A_Ger_accuracyPlot.pdf') \n",
        "\n"
      ],
      "metadata": {
        "colab": {
          "base_uri": "https://localhost:8080/"
        },
        "id": "6Ad_2uQZZyuB",
        "outputId": "a24efed0-cfa0-401d-d39c-76e05311fae5"
      },
      "execution_count": null,
      "outputs": [
        {
          "output_type": "display_data",
          "data": {
            "text/plain": [
              "<IPython.core.display.Javascript object>"
            ],
            "application/javascript": [
              "\n",
              "    async function download(id, filename, size) {\n",
              "      if (!google.colab.kernel.accessAllowed) {\n",
              "        return;\n",
              "      }\n",
              "      const div = document.createElement('div');\n",
              "      const label = document.createElement('label');\n",
              "      label.textContent = `Downloading \"${filename}\": `;\n",
              "      div.appendChild(label);\n",
              "      const progress = document.createElement('progress');\n",
              "      progress.max = size;\n",
              "      div.appendChild(progress);\n",
              "      document.body.appendChild(div);\n",
              "\n",
              "      const buffers = [];\n",
              "      let downloaded = 0;\n",
              "\n",
              "      const channel = await google.colab.kernel.comms.open(id);\n",
              "      // Send a message to notify the kernel that we're ready.\n",
              "      channel.send({})\n",
              "\n",
              "      for await (const message of channel.messages) {\n",
              "        // Send a message to notify the kernel that we're ready.\n",
              "        channel.send({})\n",
              "        if (message.buffers) {\n",
              "          for (const buffer of message.buffers) {\n",
              "            buffers.push(buffer);\n",
              "            downloaded += buffer.byteLength;\n",
              "            progress.value = downloaded;\n",
              "          }\n",
              "        }\n",
              "      }\n",
              "      const blob = new Blob(buffers, {type: 'application/binary'});\n",
              "      const a = document.createElement('a');\n",
              "      a.href = window.URL.createObjectURL(blob);\n",
              "      a.download = filename;\n",
              "      div.appendChild(a);\n",
              "      a.click();\n",
              "      div.remove();\n",
              "    }\n",
              "  "
            ]
          },
          "metadata": {}
        },
        {
          "output_type": "display_data",
          "data": {
            "text/plain": [
              "<IPython.core.display.Javascript object>"
            ],
            "application/javascript": [
              "download(\"download_763b04e0-04f1-4fb0-bd13-b20c0776f70a\", \"CNN1_Train_GERMEVAL2019_Test_GERMEVAL2018_Task_A_Ger_accuracyPlot.pdf\", 11819)"
            ]
          },
          "metadata": {}
        },
        {
          "output_type": "display_data",
          "data": {
            "text/plain": [
              "<Figure size 432x288 with 1 Axes>"
            ],
            "image/png": "[encoded data removed]"
          },
          "metadata": {
            "needs_background": "light"
          }
        }
      ]
    },
    {
      "cell_type": "markdown",
      "source": [
        "# Area under Curve-ROC\n"
      ],
      "metadata": {
        "id": "ce9BJNbLZ65e"
      }
    },
    {
      "cell_type": "code",
      "source": [
        "\n",
        "\n",
        "pred_train = CNN1_network.predict(padded_clean_text_stem)\n",
        "pred_test = CNN1_network.predict(padded_clean_text_t_stem)\n",
        "\n"
      ],
      "metadata": {
        "id": "swegVICbZ5_M"
      },
      "execution_count": null,
      "outputs": []
    },
    {
      "cell_type": "code",
      "source": [
        "\n",
        "\n",
        "import numpy as np\n",
        "import matplotlib.pyplot as plt\n",
        "from itertools import cycle\n",
        "\n",
        "from sklearn import svm, datasets\n",
        "from sklearn.metrics import roc_curve, auc\n",
        "from sklearn.model_selection import train_test_split\n",
        "from sklearn.preprocessing import label_binarize\n",
        "from sklearn.multiclass import OneVsRestClassifier\n",
        "from scipy import interp\n",
        "\n",
        "def plot_AUC_ROC(y_true, y_pred):\n",
        "    n_classes = 2 #change this value according to class value\n",
        "\n",
        "    # Compute ROC curve and ROC area for each class\n",
        "    fpr = dict()\n",
        "    tpr = dict()\n",
        "    roc_auc = dict()\n",
        "    for i in range(n_classes):\n",
        "        fpr[i], tpr[i], _ = roc_curve(y_true[:, i], y_pred[:, i])\n",
        "        roc_auc[i] = auc(fpr[i], tpr[i])\n",
        "\n",
        "    # Compute micro-average ROC curve and ROC area\n",
        "    fpr[\"micro\"], tpr[\"micro\"], _ = roc_curve(y_true.ravel(), y_pred.ravel())\n",
        "    roc_auc[\"micro\"] = auc(fpr[\"micro\"], tpr[\"micro\"])\n",
        "############################################################################################\n",
        "    lw = 2\n",
        "    # Compute macro-average ROC curve and ROC area\n",
        "\n",
        "    # First aggregate all false positive rates\n",
        "    all_fpr = np.unique(np.concatenate([fpr[i] for i in range(n_classes)]))\n",
        "\n",
        "    # Then interpolate all ROC curves at this points\n",
        "    mean_tpr = np.zeros_like(all_fpr)\n",
        "    for i in range(n_classes):\n",
        "        mean_tpr += interp(all_fpr, fpr[i], tpr[i])\n",
        "\n",
        "    # Finally average it and compute AUC\n",
        "    mean_tpr /= n_classes\n",
        "\n",
        "    fpr[\"macro\"] = all_fpr\n",
        "    tpr[\"macro\"] = mean_tpr\n",
        "    roc_auc[\"macro\"] = auc(fpr[\"macro\"], tpr[\"macro\"])\n",
        "\n",
        "    # Plot all ROC curves\n",
        "    plt.figure()\n",
        "    \n",
        "    plt.plot(fpr[\"micro\"], tpr[\"micro\"],\n",
        "            label='micro-average ROC curve (area = {0:0.2f})'\n",
        "               ''.format(roc_auc[\"micro\"]),\n",
        "            color='deeppink', linestyle=':', linewidth=4)\n",
        "\n",
        "    plt.plot(fpr[\"macro\"], tpr[\"macro\"],\n",
        "            label='macro-average ROC curve (area = {0:0.2f})'\n",
        "               ''.format(roc_auc[\"macro\"]),\n",
        "            color='navy', linestyle=':', linewidth=4)\n",
        "    \n",
        "    colors = cycle(['aqua', 'darkorange'])\n",
        "    #classes_list1 = [\"DE\",\"NE\",\"DK\"]\n",
        "    classes_list1 = [\"Non-duplicate\",\"Duplicate\"]\n",
        "    for i, color,c in zip(range(n_classes), colors,classes_list1):\n",
        "        plt.plot(fpr[i], tpr[i], color=color, lw=lw,\n",
        "                label='{0} (AUC = {1:0.2f})'\n",
        "                ''.format(c, roc_auc[i]))\n",
        "\n",
        "    plt.plot([0, 1], [0, 1], 'k--', lw=lw)\n",
        "    plt.xlim([0.0, 1.0])\n",
        "    plt.ylim([0.0, 1.05])\n",
        "    plt.xlabel('False Positive Rate')\n",
        "    plt.ylabel('True Positive Rate')\n",
        "    plt.title('Receiver operating characteristic curve')\n",
        "    plt.legend(loc=\"lower right\")\n",
        "    #plt.show()\n",
        "    plt.savefig('CNN1_Train_GERMEVAL2019_Test_GERMEVAL2018_Task_A_Ger_Area_RocPlot.pdf',dpi=1000)\n",
        "    files.download('CNN1_Train_GERMEVAL2019_Test_GERMEVAL2018_Task_A_Ger_Area_RocPlot.pdf')\n",
        "\n",
        "  \n",
        "\n"
      ],
      "metadata": {
        "id": "0IMSFAXwZ_Va"
      },
      "execution_count": null,
      "outputs": []
    },
    {
      "cell_type": "code",
      "source": [
        "plot_AUC_ROC(label_twoDimension_t,pred_test)"
      ],
      "metadata": {
        "colab": {
          "base_uri": "https://localhost:8080/"
        },
        "id": "f4qx5tmXaB0L",
        "outputId": "10805b45-bddf-47d0-df91-17a1f35b2508"
      },
      "execution_count": null,
      "outputs": [
        {
          "output_type": "stream",
          "name": "stderr",
          "text": [
            "/usr/local/lib/python3.7/dist-packages/ipykernel_launcher.py:36: DeprecationWarning: scipy.interp is deprecated and will be removed in SciPy 2.0.0, use numpy.interp instead\n"
          ]
        },
        {
          "output_type": "display_data",
          "data": {
            "text/plain": [
              "<IPython.core.display.Javascript object>"
            ],
            "application/javascript": [
              "\n",
              "    async function download(id, filename, size) {\n",
              "      if (!google.colab.kernel.accessAllowed) {\n",
              "        return;\n",
              "      }\n",
              "      const div = document.createElement('div');\n",
              "      const label = document.createElement('label');\n",
              "      label.textContent = `Downloading \"${filename}\": `;\n",
              "      div.appendChild(label);\n",
              "      const progress = document.createElement('progress');\n",
              "      progress.max = size;\n",
              "      div.appendChild(progress);\n",
              "      document.body.appendChild(div);\n",
              "\n",
              "      const buffers = [];\n",
              "      let downloaded = 0;\n",
              "\n",
              "      const channel = await google.colab.kernel.comms.open(id);\n",
              "      // Send a message to notify the kernel that we're ready.\n",
              "      channel.send({})\n",
              "\n",
              "      for await (const message of channel.messages) {\n",
              "        // Send a message to notify the kernel that we're ready.\n",
              "        channel.send({})\n",
              "        if (message.buffers) {\n",
              "          for (const buffer of message.buffers) {\n",
              "            buffers.push(buffer);\n",
              "            downloaded += buffer.byteLength;\n",
              "            progress.value = downloaded;\n",
              "          }\n",
              "        }\n",
              "      }\n",
              "      const blob = new Blob(buffers, {type: 'application/binary'});\n",
              "      const a = document.createElement('a');\n",
              "      a.href = window.URL.createObjectURL(blob);\n",
              "      a.download = filename;\n",
              "      div.appendChild(a);\n",
              "      a.click();\n",
              "      div.remove();\n",
              "    }\n",
              "  "
            ]
          },
          "metadata": {}
        },
        {
          "output_type": "display_data",
          "data": {
            "text/plain": [
              "<IPython.core.display.Javascript object>"
            ],
            "application/javascript": [
              "download(\"download_b1f2abb2-e21d-4b31-9ae9-b1e2d97aa749\", \"CNN1_Train_GERMEVAL2019_Test_GERMEVAL2018_Task_A_Ger_Area_RocPlot.pdf\", 43001)"
            ]
          },
          "metadata": {}
        },
        {
          "output_type": "display_data",
          "data": {
            "text/plain": [
              "<Figure size 432x288 with 1 Axes>"
            ],
            "image/png": "[encoded data removed]"
          },
          "metadata": {
            "needs_background": "light"
          }
        }
      ]
    }
  ]
}
