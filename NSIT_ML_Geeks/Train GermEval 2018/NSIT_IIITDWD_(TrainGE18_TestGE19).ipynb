{
  "nbformat": 4,
  "nbformat_minor": 0,
  "metadata": {
    "colab": {
      "provenance": [],
      "include_colab_link": true
    },
    "kernelspec": {
      "name": "python3",
      "display_name": "Python 3"
    },
    "language_info": {
      "name": "python"
    },
    "accelerator": "GPU",
    "gpuClass": "standard"
  },
  "cells": [
    {
      "cell_type": "markdown",
      "metadata": {
        "id": "view-in-github",
        "colab_type": "text"
      },
      "source": [
        "<a href=\"https://colab.research.google.com/github/DB9653/Bachelorarbeit/blob/main/NSIT_IIITDWD_(TrainGE18_TestGE19).ipynb\" target=\"_parent\"><img src=\"https://colab.research.google.com/assets/colab-badge.svg\" alt=\"Open In Colab\"/></a>"
      ]
    },
    {
      "cell_type": "markdown",
      "source": [
        "https://github.com/roushan-raj/HASOC-2020/blob/master/Models/German%20Models/German%20Sub-task%20A.ipynb\n"
      ],
      "metadata": {
        "id": "8pdYFRmoIhyM"
      }
    },
    {
      "cell_type": "code",
      "source": [
        "import tensorflow as tf\n",
        "tf.test.gpu_device_name()"
      ],
      "metadata": {
        "colab": {
          "base_uri": "https://localhost:8080/",
          "height": 35
        },
        "id": "hof4s6snVN0W",
        "outputId": "95248675-da32-487d-ad91-e7b8a5892c99"
      },
      "execution_count": null,
      "outputs": [
        {
          "output_type": "execute_result",
          "data": {
            "text/plain": [
              "'/device:GPU:0'"
            ],
            "application/vnd.google.colaboratory.intrinsic+json": {
              "type": "string"
            }
          },
          "metadata": {},
          "execution_count": 2
        }
      ]
    },
    {
      "cell_type": "markdown",
      "source": [
        "\n",
        "# Dataset Reading\n"
      ],
      "metadata": {
        "id": "CU0P3rpqJMHH"
      }
    },
    {
      "cell_type": "code",
      "execution_count": null,
      "metadata": {
        "colab": {
          "base_uri": "https://localhost:8080/"
        },
        "id": "UtPbRsnBIVpd",
        "outputId": "1dec2115-7fdc-456a-fd61-ec26195e4a45"
      },
      "outputs": [
        {
          "output_type": "execute_result",
          "data": {
            "text/plain": [
              "                                                                                                                                                    text  \\\n",
              "0                                          @corinnamilborn Liebe Corinna, wir würden dich gerne als Moderatorin für uns gewinnen! Wärst du begeisterbar?   \n",
              "1         @Martin28a Sie haben ja auch Recht. Unser Tweet war etwas missverständlich. Dass das BVerfG Sachleistungen nicht ausschließt, kritisieren wir.   \n",
              "2                                                                                  @ahrens_theo fröhlicher gruß aus der schönsten stadt der welt theo ⚓️   \n",
              "3           @dushanwegner Amis hätten alles und jeden gewählt...nur Hillary wollten sie nicht und eine Fortsetzung von Obama-Politik erst recht nicht..!   \n",
              "4               @spdde kein verläßlicher Verhandlungspartner. Nachkarteln nach den Sondierzngsgesprächen - schickt diese Stümper #SPD in die Versenkung.   \n",
              "5  @Dirki_M Ja, aber wo widersprechen die Zahlen denn denen, die im von uns verlinkten Artikel stehen? In unserem Tweet geht es rein um subs. Geschüt...   \n",
              "6  @milenahanm 33 bis 45 habe ich noch gar nicht gelebt und es geht mir am Arsch vorbei was in dieser Zeit geschehen ist. Ich lebe im heute und jetzt...   \n",
              "7                                                                                        @jayxderxmensch @jayxthexhuman Wieso? Was findest du da unklar?   \n",
              "8                                                                          @tagesschau Euere AfD Hetze wirkt. Da könnt ihr stolz sein bei #ARD-Fernsehen   \n",
              "9                  Deutsche Medien, Halbwahrheiten und einseitige Betrachtung, wie bei allen vom Staat finanzierten \"billigen\" Propagandainstitutionen 😜   \n",
              "\n",
              "     task1      task2  \n",
              "0    OTHER      OTHER  \n",
              "1    OTHER      OTHER  \n",
              "2    OTHER      OTHER  \n",
              "3    OTHER      OTHER  \n",
              "4  OFFENSE     INSULT  \n",
              "5    OTHER      OTHER  \n",
              "6  OFFENSE  PROFANITY  \n",
              "7    OTHER      OTHER  \n",
              "8  OFFENSE      ABUSE  \n",
              "9  OFFENSE      ABUSE  "
            ],
            "text/html": [
              "\n",
              "  <div id=\"df-5203664e-a9fa-4a2f-b54d-616378330b87\">\n",
              "    <div class=\"colab-df-container\">\n",
              "      <div>\n",
              "<style scoped>\n",
              "    .dataframe tbody tr th:only-of-type {\n",
              "        vertical-align: middle;\n",
              "    }\n",
              "\n",
              "    .dataframe tbody tr th {\n",
              "        vertical-align: top;\n",
              "    }\n",
              "\n",
              "    .dataframe thead th {\n",
              "        text-align: right;\n",
              "    }\n",
              "</style>\n",
              "<table border=\"1\" class=\"dataframe\">\n",
              "  <thead>\n",
              "    <tr style=\"text-align: right;\">\n",
              "      <th></th>\n",
              "      <th>text</th>\n",
              "      <th>task1</th>\n",
              "      <th>task2</th>\n",
              "    </tr>\n",
              "  </thead>\n",
              "  <tbody>\n",
              "    <tr>\n",
              "      <th>0</th>\n",
              "      <td>@corinnamilborn Liebe Corinna, wir würden dich gerne als Moderatorin für uns gewinnen! Wärst du begeisterbar?</td>\n",
              "      <td>OTHER</td>\n",
              "      <td>OTHER</td>\n",
              "    </tr>\n",
              "    <tr>\n",
              "      <th>1</th>\n",
              "      <td>@Martin28a Sie haben ja auch Recht. Unser Tweet war etwas missverständlich. Dass das BVerfG Sachleistungen nicht ausschließt, kritisieren wir.</td>\n",
              "      <td>OTHER</td>\n",
              "      <td>OTHER</td>\n",
              "    </tr>\n",
              "    <tr>\n",
              "      <th>2</th>\n",
              "      <td>@ahrens_theo fröhlicher gruß aus der schönsten stadt der welt theo ⚓️</td>\n",
              "      <td>OTHER</td>\n",
              "      <td>OTHER</td>\n",
              "    </tr>\n",
              "    <tr>\n",
              "      <th>3</th>\n",
              "      <td>@dushanwegner Amis hätten alles und jeden gewählt...nur Hillary wollten sie nicht und eine Fortsetzung von Obama-Politik erst recht nicht..!</td>\n",
              "      <td>OTHER</td>\n",
              "      <td>OTHER</td>\n",
              "    </tr>\n",
              "    <tr>\n",
              "      <th>4</th>\n",
              "      <td>@spdde kein verläßlicher Verhandlungspartner. Nachkarteln nach den Sondierzngsgesprächen - schickt diese Stümper #SPD in die Versenkung.</td>\n",
              "      <td>OFFENSE</td>\n",
              "      <td>INSULT</td>\n",
              "    </tr>\n",
              "    <tr>\n",
              "      <th>5</th>\n",
              "      <td>@Dirki_M Ja, aber wo widersprechen die Zahlen denn denen, die im von uns verlinkten Artikel stehen? In unserem Tweet geht es rein um subs. Geschüt...</td>\n",
              "      <td>OTHER</td>\n",
              "      <td>OTHER</td>\n",
              "    </tr>\n",
              "    <tr>\n",
              "      <th>6</th>\n",
              "      <td>@milenahanm 33 bis 45 habe ich noch gar nicht gelebt und es geht mir am Arsch vorbei was in dieser Zeit geschehen ist. Ich lebe im heute und jetzt...</td>\n",
              "      <td>OFFENSE</td>\n",
              "      <td>PROFANITY</td>\n",
              "    </tr>\n",
              "    <tr>\n",
              "      <th>7</th>\n",
              "      <td>@jayxderxmensch @jayxthexhuman Wieso? Was findest du da unklar?</td>\n",
              "      <td>OTHER</td>\n",
              "      <td>OTHER</td>\n",
              "    </tr>\n",
              "    <tr>\n",
              "      <th>8</th>\n",
              "      <td>@tagesschau Euere AfD Hetze wirkt. Da könnt ihr stolz sein bei #ARD-Fernsehen</td>\n",
              "      <td>OFFENSE</td>\n",
              "      <td>ABUSE</td>\n",
              "    </tr>\n",
              "    <tr>\n",
              "      <th>9</th>\n",
              "      <td>Deutsche Medien, Halbwahrheiten und einseitige Betrachtung, wie bei allen vom Staat finanzierten \"billigen\" Propagandainstitutionen 😜</td>\n",
              "      <td>OFFENSE</td>\n",
              "      <td>ABUSE</td>\n",
              "    </tr>\n",
              "  </tbody>\n",
              "</table>\n",
              "</div>\n",
              "      <button class=\"colab-df-convert\" onclick=\"convertToInteractive('df-5203664e-a9fa-4a2f-b54d-616378330b87')\"\n",
              "              title=\"Convert this dataframe to an interactive table.\"\n",
              "              style=\"display:none;\">\n",
              "        \n",
              "  <svg xmlns=\"http://www.w3.org/2000/svg\" height=\"24px\"viewBox=\"0 0 24 24\"\n",
              "       width=\"24px\">\n",
              "    <path d=\"M0 0h24v24H0V0z\" fill=\"none\"/>\n",
              "    <path d=\"M18.56 5.44l.94 2.06.94-2.06 2.06-.94-2.06-.94-.94-2.06-.94 2.06-2.06.94zm-11 1L8.5 8.5l.94-2.06 2.06-.94-2.06-.94L8.5 2.5l-.94 2.06-2.06.94zm10 10l.94 2.06.94-2.06 2.06-.94-2.06-.94-.94-2.06-.94 2.06-2.06.94z\"/><path d=\"M17.41 7.96l-1.37-1.37c-.4-.4-.92-.59-1.43-.59-.52 0-1.04.2-1.43.59L10.3 9.45l-7.72 7.72c-.78.78-.78 2.05 0 2.83L4 21.41c.39.39.9.59 1.41.59.51 0 1.02-.2 1.41-.59l7.78-7.78 2.81-2.81c.8-.78.8-2.07 0-2.86zM5.41 20L4 18.59l7.72-7.72 1.47 1.35L5.41 20z\"/>\n",
              "  </svg>\n",
              "      </button>\n",
              "      \n",
              "  <style>\n",
              "    .colab-df-container {\n",
              "      display:flex;\n",
              "      flex-wrap:wrap;\n",
              "      gap: 12px;\n",
              "    }\n",
              "\n",
              "    .colab-df-convert {\n",
              "      background-color: #E8F0FE;\n",
              "      border: none;\n",
              "      border-radius: 50%;\n",
              "      cursor: pointer;\n",
              "      display: none;\n",
              "      fill: #1967D2;\n",
              "      height: 32px;\n",
              "      padding: 0 0 0 0;\n",
              "      width: 32px;\n",
              "    }\n",
              "\n",
              "    .colab-df-convert:hover {\n",
              "      background-color: #E2EBFA;\n",
              "      box-shadow: 0px 1px 2px rgba(60, 64, 67, 0.3), 0px 1px 3px 1px rgba(60, 64, 67, 0.15);\n",
              "      fill: #174EA6;\n",
              "    }\n",
              "\n",
              "    [theme=dark] .colab-df-convert {\n",
              "      background-color: #3B4455;\n",
              "      fill: #D2E3FC;\n",
              "    }\n",
              "\n",
              "    [theme=dark] .colab-df-convert:hover {\n",
              "      background-color: #434B5C;\n",
              "      box-shadow: 0px 1px 3px 1px rgba(0, 0, 0, 0.15);\n",
              "      filter: drop-shadow(0px 1px 2px rgba(0, 0, 0, 0.3));\n",
              "      fill: #FFFFFF;\n",
              "    }\n",
              "  </style>\n",
              "\n",
              "      <script>\n",
              "        const buttonEl =\n",
              "          document.querySelector('#df-5203664e-a9fa-4a2f-b54d-616378330b87 button.colab-df-convert');\n",
              "        buttonEl.style.display =\n",
              "          google.colab.kernel.accessAllowed ? 'block' : 'none';\n",
              "\n",
              "        async function convertToInteractive(key) {\n",
              "          const element = document.querySelector('#df-5203664e-a9fa-4a2f-b54d-616378330b87');\n",
              "          const dataTable =\n",
              "            await google.colab.kernel.invokeFunction('convertToInteractive',\n",
              "                                                     [key], {});\n",
              "          if (!dataTable) return;\n",
              "\n",
              "          const docLinkHtml = 'Like what you see? Visit the ' +\n",
              "            '<a target=\"_blank\" href=https://colab.research.google.com/notebooks/data_table.ipynb>data table notebook</a>'\n",
              "            + ' to learn more about interactive tables.';\n",
              "          element.innerHTML = '';\n",
              "          dataTable['output_type'] = 'display_data';\n",
              "          await google.colab.output.renderOutput(dataTable, element);\n",
              "          const docLink = document.createElement('div');\n",
              "          docLink.innerHTML = docLinkHtml;\n",
              "          element.appendChild(docLink);\n",
              "        }\n",
              "      </script>\n",
              "    </div>\n",
              "  </div>\n",
              "  "
            ]
          },
          "metadata": {},
          "execution_count": 3
        }
      ],
      "source": [
        "import pandas as pd \n",
        "#data = pd.read_excel('/content/hasoc_2020_de_train_new_a.xlsx', converters={'tweet_id':int})\n",
        "data = pd.read_csv(\"/content/germeval2018training.txt\",sep=\"\\t\", encoding = \"UTF-8\", names=(\"text\", \"task1\", \"task2\"))\n",
        "pd.set_option('display.max_colwidth',150)\n",
        "data.head(10)"
      ]
    },
    {
      "cell_type": "code",
      "source": [
        "data.shape"
      ],
      "metadata": {
        "colab": {
          "base_uri": "https://localhost:8080/"
        },
        "id": "UaxJGj2BJA-_",
        "outputId": "040767ea-a409-4e33-d9c2-999645c4f45c"
      },
      "execution_count": null,
      "outputs": [
        {
          "output_type": "execute_result",
          "data": {
            "text/plain": [
              "(5009, 3)"
            ]
          },
          "metadata": {},
          "execution_count": 4
        }
      ]
    },
    {
      "cell_type": "code",
      "source": [
        "print(data.dtypes)"
      ],
      "metadata": {
        "colab": {
          "base_uri": "https://localhost:8080/"
        },
        "id": "4F6snrckJDhs",
        "outputId": "dc80f97d-46f6-4b43-a6b7-6888480fcee5"
      },
      "execution_count": null,
      "outputs": [
        {
          "output_type": "stream",
          "name": "stdout",
          "text": [
            "text     object\n",
            "task1    object\n",
            "task2    object\n",
            "dtype: object\n"
          ]
        }
      ]
    },
    {
      "cell_type": "markdown",
      "source": [
        "# Making of \"label\" Variable\n"
      ],
      "metadata": {
        "id": "kK4jE-XuJN3r"
      }
    },
    {
      "cell_type": "code",
      "source": [
        "label = data['task1']\n",
        "label.head()"
      ],
      "metadata": {
        "colab": {
          "base_uri": "https://localhost:8080/"
        },
        "id": "8UB11BsEJF-U",
        "outputId": "6d44f59b-3064-4d00-aeaf-95d47da96f56"
      },
      "execution_count": null,
      "outputs": [
        {
          "output_type": "execute_result",
          "data": {
            "text/plain": [
              "0      OTHER\n",
              "1      OTHER\n",
              "2      OTHER\n",
              "3      OTHER\n",
              "4    OFFENSE\n",
              "Name: task1, dtype: object"
            ]
          },
          "metadata": {},
          "execution_count": 6
        }
      ]
    },
    {
      "cell_type": "markdown",
      "source": [
        "# Checking Dataset Balancing\n"
      ],
      "metadata": {
        "id": "HM112SzAJW-z"
      }
    },
    {
      "cell_type": "code",
      "source": [
        "print(label.value_counts())\n",
        "import matplotlib.pyplot as plt\n",
        "label.value_counts().plot(kind='bar', color='blue')"
      ],
      "metadata": {
        "colab": {
          "base_uri": "https://localhost:8080/"
        },
        "id": "wxq3PRLwJVIQ",
        "outputId": "6207be14-6476-4f25-8c84-8861b1516a9f"
      },
      "execution_count": null,
      "outputs": [
        {
          "output_type": "stream",
          "name": "stdout",
          "text": [
            "OTHER      3321\n",
            "OFFENSE    1688\n",
            "Name: task1, dtype: int64\n"
          ]
        },
        {
          "output_type": "execute_result",
          "data": {
            "text/plain": [
              "<matplotlib.axes._subplots.AxesSubplot at 0x7f93a0697350>"
            ]
          },
          "metadata": {},
          "execution_count": 7
        },
        {
          "output_type": "display_data",
          "data": {
            "text/plain": [
              "<Figure size 432x288 with 1 Axes>"
            ],
            "image/png": "[encoded data removed]"
          },
          "metadata": {
            "needs_background": "light"
          }
        }
      ]
    },
    {
      "cell_type": "markdown",
      "source": [
        "# Converting label into \"0\" or \"1\"\n"
      ],
      "metadata": {
        "id": "IiBz2hcFJdIF"
      }
    },
    {
      "cell_type": "code",
      "source": [
        "import numpy as np\n",
        "classes_list = [\"OFFENSE\",\"OTHER\"]\n",
        "label_index = data['task1'].apply(classes_list.index)\n",
        "final_label = np.asarray(label_index)\n",
        "print(final_label[:10])\n",
        "\n"
      ],
      "metadata": {
        "colab": {
          "base_uri": "https://localhost:8080/"
        },
        "id": "iaAQQh4kJZ1X",
        "outputId": "68f7569a-c877-4577-eb81-d32fe6a5f4ce"
      },
      "execution_count": null,
      "outputs": [
        {
          "output_type": "stream",
          "name": "stdout",
          "text": [
            "[1 1 1 1 0 1 0 1 0 0]\n"
          ]
        }
      ]
    },
    {
      "cell_type": "code",
      "source": [
        "from keras.utils.np_utils import to_categorical\n",
        "label_twoDimension = to_categorical(final_label, num_classes=2)"
      ],
      "metadata": {
        "id": "DHcylJMvJhLu"
      },
      "execution_count": null,
      "outputs": []
    },
    {
      "cell_type": "code",
      "source": [
        "print(label_twoDimension[:10])"
      ],
      "metadata": {
        "colab": {
          "base_uri": "https://localhost:8080/"
        },
        "id": "1NGqjeVBJjbM",
        "outputId": "31a37206-352d-43ad-d926-3d1dafbf8cf3"
      },
      "execution_count": null,
      "outputs": [
        {
          "output_type": "stream",
          "name": "stdout",
          "text": [
            "[[0. 1.]\n",
            " [0. 1.]\n",
            " [0. 1.]\n",
            " [0. 1.]\n",
            " [1. 0.]\n",
            " [0. 1.]\n",
            " [1. 0.]\n",
            " [0. 1.]\n",
            " [1. 0.]\n",
            " [1. 0.]]\n"
          ]
        }
      ]
    },
    {
      "cell_type": "markdown",
      "source": [
        "# Making of \"text\" Variable\n"
      ],
      "metadata": {
        "id": "nqRHYUSBJl0K"
      }
    },
    {
      "cell_type": "code",
      "source": [
        "text = data['text']\n",
        "text.head(10)\n",
        "\n"
      ],
      "metadata": {
        "colab": {
          "base_uri": "https://localhost:8080/"
        },
        "id": "ZZ_FmnnqJjpU",
        "outputId": "e5bc7290-4418-4aaf-ddfc-d9d1be4a82e2"
      },
      "execution_count": null,
      "outputs": [
        {
          "output_type": "execute_result",
          "data": {
            "text/plain": [
              "0                                            @corinnamilborn Liebe Corinna, wir würden dich gerne als Moderatorin für uns gewinnen! Wärst du begeisterbar?\n",
              "1           @Martin28a Sie haben ja auch Recht. Unser Tweet war etwas missverständlich. Dass das BVerfG Sachleistungen nicht ausschließt, kritisieren wir.\n",
              "2                                                                                    @ahrens_theo fröhlicher gruß aus der schönsten stadt der welt theo ⚓️\n",
              "3             @dushanwegner Amis hätten alles und jeden gewählt...nur Hillary wollten sie nicht und eine Fortsetzung von Obama-Politik erst recht nicht..!\n",
              "4                 @spdde kein verläßlicher Verhandlungspartner. Nachkarteln nach den Sondierzngsgesprächen - schickt diese Stümper #SPD in die Versenkung.\n",
              "5    @Dirki_M Ja, aber wo widersprechen die Zahlen denn denen, die im von uns verlinkten Artikel stehen? In unserem Tweet geht es rein um subs. Geschüt...\n",
              "6    @milenahanm 33 bis 45 habe ich noch gar nicht gelebt und es geht mir am Arsch vorbei was in dieser Zeit geschehen ist. Ich lebe im heute und jetzt...\n",
              "7                                                                                          @jayxderxmensch @jayxthexhuman Wieso? Was findest du da unklar?\n",
              "8                                                                            @tagesschau Euere AfD Hetze wirkt. Da könnt ihr stolz sein bei #ARD-Fernsehen\n",
              "9                    Deutsche Medien, Halbwahrheiten und einseitige Betrachtung, wie bei allen vom Staat finanzierten \"billigen\" Propagandainstitutionen 😜\n",
              "Name: text, dtype: object"
            ]
          },
          "metadata": {},
          "execution_count": 11
        }
      ]
    },
    {
      "cell_type": "markdown",
      "source": [
        "# Dataset Pre-processing\n"
      ],
      "metadata": {
        "id": "5vgUgPviJteq"
      }
    },
    {
      "cell_type": "code",
      "source": [
        "def remove_umlaut(string):\n",
        "    \"\"\"\n",
        "    Removes umlauts from strings and replaces them with the letter+e convention\n",
        "    :param string: string to remove umlauts from\n",
        "    :return: unumlauted string\n",
        "    \"\"\"\n",
        "    u = 'ü'.encode()\n",
        "    U = 'Ü'.encode()\n",
        "    a = 'ä'.encode()\n",
        "    A = 'Ä'.encode()\n",
        "    o = 'ö'.encode()\n",
        "    O = 'Ö'.encode()\n",
        "    ss = 'ß'.encode()\n",
        "\n",
        "    string = string.encode()\n",
        "    string = string.replace(u, b'ue')\n",
        "    string = string.replace(U, b'Ue')\n",
        "    string = string.replace(a, b'ae')\n",
        "    string = string.replace(A, b'Ae')\n",
        "    string = string.replace(o, b'oe')\n",
        "    string = string.replace(O, b'Oe')\n",
        "    string = string.replace(ss, b'ss')\n",
        "\n",
        "    string = string.decode('utf-8')\n",
        "    return string"
      ],
      "metadata": {
        "id": "Ia2i0MqpPdGM"
      },
      "execution_count": null,
      "outputs": []
    },
    {
      "cell_type": "code",
      "source": [
        "text_wo_umlauts = text.apply(lambda x:remove_umlaut(x))\n",
        "text_wo_umlauts.head(10)"
      ],
      "metadata": {
        "colab": {
          "base_uri": "https://localhost:8080/"
        },
        "id": "IGd2-YIIPdnq",
        "outputId": "36d5a086-789d-4e4f-d3fd-23a8fc6f3a42"
      },
      "execution_count": null,
      "outputs": [
        {
          "output_type": "execute_result",
          "data": {
            "text/plain": [
              "0                                         @corinnamilborn Liebe Corinna, wir wuerden dich gerne als Moderatorin fuer uns gewinnen! Waerst du begeisterbar?\n",
              "1         @Martin28a Sie haben ja auch Recht. Unser Tweet war etwas missverstaendlich. Dass das BVerfG Sachleistungen nicht ausschliesst, kritisieren wir.\n",
              "2                                                                                 @ahrens_theo froehlicher gruss aus der schoensten stadt der welt theo ⚓️\n",
              "3           @dushanwegner Amis haetten alles und jeden gewaehlt...nur Hillary wollten sie nicht und eine Fortsetzung von Obama-Politik erst recht nicht..!\n",
              "4             @spdde kein verlaesslicher Verhandlungspartner. Nachkarteln nach den Sondierzngsgespraechen - schickt diese Stuemper #SPD in die Versenkung.\n",
              "5    @Dirki_M Ja, aber wo widersprechen die Zahlen denn denen, die im von uns verlinkten Artikel stehen? In unserem Tweet geht es rein um subs. Geschue...\n",
              "6    @milenahanm 33 bis 45 habe ich noch gar nicht gelebt und es geht mir am Arsch vorbei was in dieser Zeit geschehen ist. Ich lebe im heute und jetzt...\n",
              "7                                                                                          @jayxderxmensch @jayxthexhuman Wieso? Was findest du da unklar?\n",
              "8                                                                           @tagesschau Euere AfD Hetze wirkt. Da koennt ihr stolz sein bei #ARD-Fernsehen\n",
              "9                    Deutsche Medien, Halbwahrheiten und einseitige Betrachtung, wie bei allen vom Staat finanzierten \"billigen\" Propagandainstitutionen 😜\n",
              "Name: text, dtype: object"
            ]
          },
          "metadata": {},
          "execution_count": 13
        }
      ]
    },
    {
      "cell_type": "code",
      "source": [
        "\n",
        "\n",
        "import re \n",
        "\n",
        "def text_clean(text):\n",
        "    ''' Pre process and convert texts to a list of words '''\n",
        "    \n",
        "    text=text.lower()\n",
        "\n",
        "    # Clean the text\n",
        "    text = re.sub(r\"[^A-Za-z0-9^,!.\\/'+-=]\", \" \", text)\n",
        "    text = re.sub('https?://\\S+|www\\.\\S+', \"\", text)\n",
        "    text = re.sub(r\"rt\", \" \", text)\n",
        "\n",
        "    return text\n",
        "\n"
      ],
      "metadata": {
        "id": "iP9R4lCkJrSn"
      },
      "execution_count": null,
      "outputs": []
    },
    {
      "cell_type": "code",
      "source": [
        "clean_text = text_wo_umlauts.apply(lambda x:text_clean(x))"
      ],
      "metadata": {
        "id": "btvahRPaJwkh"
      },
      "execution_count": null,
      "outputs": []
    },
    {
      "cell_type": "code",
      "source": [
        "clean_text.head(10)"
      ],
      "metadata": {
        "colab": {
          "base_uri": "https://localhost:8080/"
        },
        "id": "rVm6XFqoJyPl",
        "outputId": "730faed3-aa6d-4a63-e264-63bb7ede61ee"
      },
      "execution_count": null,
      "outputs": [
        {
          "output_type": "execute_result",
          "data": {
            "text/plain": [
              "0                                          corinnamilborn liebe corinna, wir wuerden dich gerne als moderatorin fuer uns gewinnen! waerst du begeisterbar \n",
              "1           ma in28a sie haben ja auch recht. unser tweet war etwas missverstaendlich. dass das bverfg sachleistungen nicht ausschliesst, kritisieren wir.\n",
              "2                                                                                  ahrens theo froehlicher gruss aus der schoensten stadt der welt theo   \n",
              "3             dushanwegner amis haetten alles und jeden gewaehlt...nur hillary wollten sie nicht und eine fo setzung von obama-politik erst recht nicht..!\n",
              "4                spdde kein verlaesslicher verhandlungspa ner. nachka eln nach den sondierzngsgespraechen - schickt diese stuemper  spd in die versenkung.\n",
              "5     dirki m ja, aber wo widersprechen die zahlen denn denen, die im von uns verlinkten a ikel stehen  in unserem tweet geht es rein um subs. geschuet...\n",
              "6     milenahanm 33 bis 45 habe ich noch gar nicht gelebt und es geht mir am arsch vorbei was in dieser zeit geschehen ist. ich lebe im heute und jetzt...\n",
              "7                                                                                           jayxderxmensch  jayxthexhuman wieso  was findest du da unklar \n",
              "8                                                                            tagesschau euere afd hetze wirkt. da koennt ihr stolz sein bei  ard-fernsehen\n",
              "9                     deutsche medien, halbwahrheiten und einseitige betrachtung, wie bei allen vom staat finanzie en  billigen  propagandainstitutionen  \n",
              "Name: text, dtype: object"
            ]
          },
          "metadata": {},
          "execution_count": 16
        }
      ]
    },
    {
      "cell_type": "markdown",
      "source": [
        "# Removing stopwords\n"
      ],
      "metadata": {
        "id": "Cr_9fbmQJ14E"
      }
    },
    {
      "cell_type": "code",
      "source": [
        "import nltk\n",
        "from nltk.corpus import stopwords\n",
        "nltk.download('stopwords')\n",
        "def stop_words_removal(text1):\n",
        "    text1=[w for w in  text1.split(\" \")  if w not in stopwords.words('german')]\n",
        "    return \" \".join(text1)"
      ],
      "metadata": {
        "colab": {
          "base_uri": "https://localhost:8080/"
        },
        "id": "fnKAVUGKJzkf",
        "outputId": "5d948596-e632-4658-eb92-9c32af29820c"
      },
      "execution_count": null,
      "outputs": [
        {
          "output_type": "stream",
          "name": "stderr",
          "text": [
            "[nltk_data] Downloading package stopwords to /root/nltk_data...\n",
            "[nltk_data]   Unzipping corpora/stopwords.zip.\n"
          ]
        }
      ]
    },
    {
      "cell_type": "code",
      "source": [
        "clean_text_ns=clean_text.apply(lambda x: stop_words_removal(x))"
      ],
      "metadata": {
        "id": "EAe2hR7jJ5R8"
      },
      "execution_count": null,
      "outputs": []
    },
    {
      "cell_type": "code",
      "source": [
        "print(clean_text_ns.head(10))"
      ],
      "metadata": {
        "colab": {
          "base_uri": "https://localhost:8080/"
        },
        "id": "hMapIVGXJ7Cf",
        "outputId": "76c91c6b-6d24-414d-8ec6-954281f0a0a9"
      },
      "execution_count": null,
      "outputs": [
        {
          "output_type": "stream",
          "name": "stdout",
          "text": [
            "0                                                              corinnamilborn liebe corinna, wuerden gerne moderatorin fuer gewinnen! waerst begeisterbar \n",
            "1                                                         ma in28a ja recht. tweet missverstaendlich. bverfg sachleistungen ausschliesst, kritisieren wir.\n",
            "2                                                                                              ahrens theo froehlicher gruss schoensten stadt welt theo   \n",
            "3                                                    dushanwegner amis haetten gewaehlt...nur hillary wollten fo setzung obama-politik erst recht nicht..!\n",
            "4                                           spdde verlaesslicher verhandlungspa ner. nachka eln sondierzngsgespraechen - schickt stuemper  spd versenkung.\n",
            "5     dirki m ja, widersprechen zahlen denen, verlinkten a ikel stehen  tweet geht rein subs. geschuetzte. 2017 gesamte familiennachzug vergleich 2016 ...\n",
            "6                                                              milenahanm 33 45 gar gelebt geht arsch vorbei zeit geschehen ist. lebe heute vergangenheit.\n",
            "7                                                                                                     jayxderxmensch  jayxthexhuman wieso  findest unklar \n",
            "8                                                                                            tagesschau euere afd hetze wirkt. koennt stolz  ard-fernsehen\n",
            "9                                           deutsche medien, halbwahrheiten einseitige betrachtung, staat finanzie en  billigen  propagandainstitutionen  \n",
            "Name: text, dtype: object\n"
          ]
        }
      ]
    },
    {
      "cell_type": "markdown",
      "source": [
        "# Lemmatization"
      ],
      "metadata": {
        "id": "UbNspWraJ-a5"
      }
    },
    {
      "cell_type": "markdown",
      "source": [
        "# Stemming"
      ],
      "metadata": {
        "id": "cGRUIHNgKB8P"
      }
    },
    {
      "cell_type": "code",
      "source": [
        "\n",
        "\n",
        "# Stemming\n",
        "from nltk.stem import SnowballStemmer \n",
        "stemmer = SnowballStemmer(\"german\")\n",
        "\n",
        "def word_stemmer(text):\n",
        "    stem_text = \"\".join([stemmer.stem(i) for i in text])\n",
        "    return stem_text\n",
        "\n"
      ],
      "metadata": {
        "id": "xzacVq1jJ8ru"
      },
      "execution_count": null,
      "outputs": []
    },
    {
      "cell_type": "code",
      "source": [
        "clean_text_stem = clean_text_ns.apply(lambda x : word_stemmer(x))"
      ],
      "metadata": {
        "id": "gLvtC-DlKFJ3"
      },
      "execution_count": null,
      "outputs": []
    },
    {
      "cell_type": "code",
      "source": [
        "print(clean_text_stem.head())"
      ],
      "metadata": {
        "colab": {
          "base_uri": "https://localhost:8080/"
        },
        "id": "hLTYkzd6KGpw",
        "outputId": "64afa641-941f-47f7-c06b-7d02b64ec943"
      },
      "execution_count": null,
      "outputs": [
        {
          "output_type": "stream",
          "name": "stdout",
          "text": [
            "0                        corinnamilborn liebe corinna, wuerden gerne moderatorin fuer gewinnen! waerst begeisterbar \n",
            "1                   ma in28a ja recht. tweet missverstaendlich. bverfg sachleistungen ausschliesst, kritisieren wir.\n",
            "2                                                        ahrens theo froehlicher gruss schoensten stadt welt theo   \n",
            "3              dushanwegner amis haetten gewaehlt...nur hillary wollten fo setzung obama-politik erst recht nicht..!\n",
            "4     spdde verlaesslicher verhandlungspa ner. nachka eln sondierzngsgespraechen - schickt stuemper  spd versenkung.\n",
            "Name: text, dtype: object\n"
          ]
        }
      ]
    },
    {
      "cell_type": "markdown",
      "source": [
        "# Tokenization using \"keras\"\n"
      ],
      "metadata": {
        "id": "aqZfKW9_KId4"
      }
    },
    {
      "cell_type": "code",
      "source": [
        "import keras\n",
        "import tensorflow\n",
        "from keras.preprocessing.text import Tokenizer\n",
        "tok_all = Tokenizer(filters='!\"#$%&\\'()*+,-./:;<=>?@[\\\\]^_`{|}~', lower=True, char_level = False)\n",
        "tok_all.fit_on_texts(clean_text_stem)"
      ],
      "metadata": {
        "id": "64oQb-b9KL7d"
      },
      "execution_count": null,
      "outputs": []
    },
    {
      "cell_type": "markdown",
      "source": [
        "# Making Vocab for words\n"
      ],
      "metadata": {
        "id": "Azliz45-KOH2"
      }
    },
    {
      "cell_type": "code",
      "source": [
        "vocabulary_all = len(tok_all.word_counts)\n",
        "print(vocabulary_all)"
      ],
      "metadata": {
        "colab": {
          "base_uri": "https://localhost:8080/"
        },
        "id": "kjRctAdKKNqA",
        "outputId": "cce507c6-765b-4d1f-c21a-93c975e9523b"
      },
      "execution_count": null,
      "outputs": [
        {
          "output_type": "stream",
          "name": "stdout",
          "text": [
            "17327\n"
          ]
        }
      ]
    },
    {
      "cell_type": "code",
      "source": [
        "\n",
        "\n",
        "l = tok_all.word_index\n",
        "print(l)\n",
        "\n"
      ],
      "metadata": {
        "colab": {
          "base_uri": "https://localhost:8080/"
        },
        "id": "ruZahltoKSBk",
        "outputId": "f306a318-fe8b-46f4-cfd1-9c7d3e1cca1e"
      },
      "execution_count": null,
      "outputs": [
        {
          "output_type": "stream",
          "name": "stdout",
          "text": [
            "{'lbr': 1, 'fuer': 2, 'merkel': 3, 'schon': 4, 'deutschland': 5, 'afd': 6, 'mehr': 7, 'mal': 8, 'ja': 9, 'ueber': 10, 'u': 11, 'immer': 12, 'heute': 13, 'gibt': 14, 'welt': 15, 'wer': 16, 'd': 17, 'nicht': 18, 'ist': 19, 'deutschen': 20, 'e': 21, 'deutsche': 22, 'land': 23, 'geht': 24, 'spd': 25, 'werden': 26, 'krippmarie': 27, 'en': 28, 'info2099': 29, 'amp': 30, 'petpanther0': 31, 'noherrman': 32, 'franz': 33, 'muessen': 34, 'md': 35, 'ellibisathide': 36, 'wuerde': 37, 'pa': 38, 'athinamala': 39, 'macmike': 40, 'a': 41, 'menschen': 42, 'thomasgbauer': 43, 'feldenfrizz': 44, 'gut': 45, 'macht': 46, 'charlie': 47, 'silve': 48, 'nasanasal': 49, 's': 50, 'koennen': 51, 'machtjanix23': 52, 'einfach': 53, 'lifetrend': 54, 'gruenen': 55, 'eu': 56, 'schmiddiemaik': 57, 'willjrosenblatt': 58, 'waere': 59, 'wurde': 60, 'seit': 61, 'politiker': 62, 'die': 63, 'putin': 64, 'cdu': 65, 'haben': 66, 'geld': 67, 'wohl': 68, 'warum': 69, 'gerade': 70, 'politik': 71, '2': 72, 'und': 73, 'troll': 74, 'recht': 75, 'erst': 76, 'lassen': 77, 'islam': 78, 'ab': 79, 'zeit': 80, 'bild': 81, 've': 82, 'europa': 83, 'das': 84, 'norbinator2403': 85, 'hat': 86, 'dafuer': 87, 'besser': 88, 'tuerken': 89, 'tun': 90, 'anna': 91, 'miriamozen': 92, 'volk': 93, 'kommt': 94, 'do': 95, 'trump': 96, 'iina': 97, 'schulz': 98, 'ei': 99, 'endlich': 100, 'sein': 101, 'nancypeggymandy': 102, 'ennof': 103, 'ma': 104, 'gt': 105, 'de': 106, 'sind': 107, 'frau': 108, 'viele': 109, 'sollten': 110, 'frage': 111, 'tagesschau': 112, 'danke': 113, 'eigentlich': 114, 'beim': 115, 'leben': 116, 'ha': 117, 'ganz': 118, 'haette': 119, 'nie': 120, 'fdp': 121, 'focusonline': 122, 'israel': 123, 'klar': 124, 'medien': 125, 'wissen': 126, 'kommen': 127, 'juden': 128, 'leider': 129, 'antisemitismus': 130, 'merkels': 131, 'wird': 132, 'leute': 133, 'csu': 134, 'genau': 135, 'sagen': 136, 'lieber': 137, 'gehoe': 138, 'darf': 139, '1': 140, 'moslems': 141, 'gemacht': 142, 'steht': 143, 'zurueck': 144, 'mastermikeg': 145, 'an': 146, 'richtig': 147, 'tuerkei': 148, 'aber': 149, 'ich': 150, 'gehen': 151, 'sehen': 152, 'auch': 153, 'so': 154, 'stegner': 155, 'kinder': 156, 'wirklich': 157, 'regierung': 158, 'wegen': 159, 'jahren': 160, 'maischberger': 161, 'gute': 162, 'aksynode16': 163, 'heinrich': 164, 'krug': 165, 'fluechtlinge': 166, 'dabei': 167, 'ralf': 168, 'geben': 169, 'ende': 170, 'sie': 171, 'sicher': 172, 'news': 173, 'bitte': 174, 'linke': 175, 'verantwo': 176, 'deutsch': 177, 'berlin': 178, 'eben': 179, 'eien': 180, 'wurden': 181, 'regsprecher': 182, 'weiss': 183, 'nein': 184, 'buerger': 185, 'es': 186, 'neue': 187, 'sollen': 188, 'gleich': 189, 'sogar': 190, 'liebe': 191, 'tag': 192, 'steinbacherika': 193, 'waehlen': 194, 'cl': 195, 'lawyerberlin': 196, 'linken': 197, 'maas': 198, 'problem': 199, 'ein': 200, 'polizei': 201, '3': 202, 'sofo': 203, 'zdf': 204, 'steffmann45': 205, 'wir': 206, 'gott': 207, 'mann': 208, 'brauchen': 209, 'sagt': 210, 'krieg': 211, 'gruene': 212, 'uhr': 213, 'davon': 214, 'bleibt': 215, 'brd': 216, 'bundestag': 217, 'frauen': 218, 'demokratie': 219, 'sjw': 220, 'gewaehlt': 221, 'hetze': 222, 'egal': 223, 'vielleicht': 224, 'glaube': 225, 'dumm': 226, 'we': 227, 'beatrix': 228, 'ne': 229, 'braucht': 230, 'niemand': 231, 'jahr': 232, 'gerne': 233, 'gar': 234, 'hast': 235, 'lange': 236, 'gestern': 237, 'vstorch': 238, 'jahre': 239, 'madbunny': 240, 'staat': 241, 'morgen': 242, 'glauben': 243, 'gab': 244, 'meinung': 245, 'habt': 246, 'dank': 247, 'bleiben': 248, 'denken': 249, 'heisst': 250, 'kurz': 251, 'wahl': 252, 'aus': 253, 'herr': 254, 'bestimmt': 255, 'nehmen': 256, 'antwo': 257, 'wuerden': 258, 'haetten': 259, 'koennte': 260, 'raus': 261, 'auf': 262, 'junge': 263, 'scheiss': 264, 'unserer': 265, 'china': 266, 'kann': 267, 'thema': 268, 'sei': 269, 'b': 270, 'waehler': 271, 'spdde': 272, 'na': 273, 'eigenen': 274, 'da': 275, 'oesterreich': 276, 'weg': 277, 'twitter': 278, 'nix': 279, 'natuerlich': 280, 'sieht': 281, 'vielen': 282, 'groko': 283, 'machen': 284, 'asylanten': 285, 'eher': 286, 'was': 287, 'teite99': 288, 'laesst': 289, 'reden': 290, '5': 291, 'schoen': 292, 'findet': 293, 'deutscher': 294, 'gewalt': 295, 'stasi': 296, 'fragen': 297, 'm': 298, 'uebrigens': 299, 'verstehen': 300, 'duerfen': 301, 'georg': 302, 'halten': 303, 'darueber': 304, 'hoffe': 305, 'kirche': 306, 'freiheit': 307, 'niemals': 308, 'c': 309, 'frueher': 310, 'glaubt': 311, 'vorbei': 312, 'wieso': 313, 'arbeit': 314, 'finden': 315, 'innen': 316, 'wann': 317, 'all': 318, 'ueberhaupt': 319, 'moechte': 320, 'statt': 321, 'dumme': 322, '20': 323, 'n': 324, 'vasallen': 325, 'geschichte': 326, 'tweet': 327, 'stehen': 328, 'ard': 329, 'terroristen': 330, 'ach': 331, 'nazi': 332, 'ddr': 333, 'wahrheit': 334, 'meisten': 335, 'guten': 336, 'gilt': 337, 'frank': 338, 'o': 339, 'ganze': 340, 'seite': 341, 'alle': 342, 'arsch': 343, 'wollen': 344, 'invasoren': 345, 'tatsaechlich': 346, 'laender': 347, 'duhugonotte': 348, 'spricht': 349, 'gesagt': 350, 'krahmax': 351, 'usw': 352, 'h': 353, 'bald': 354, 'gabriel': 355, 'uns': 356, 'weidel': 357, 'muslime': 358, 'zahlen': 359, '4': 360, 'namen': 361, 'hamburg': 362, 'lesen': 363, 'sitzen': 364, 'jemand': 365, 'pack': 366, 'bekommen': 367, 'einzige': 368, 'voll': 369, 'nichts': 370, 'opfer': 371, 'jouwatch': 372, 'gesehen': 373, 'terror': 374, 'inschulz': 375, 'gruen': 376, 'regieren': 377, 'vergessen': 378, 'pazderski': 379, 'fffrauki': 380, 'los': 381, 'erdogan': 382, 'kopf': 383, 'bayern': 384, 'verstanden': 385, 'lindner': 386, 'nazis': 387, 'trotzdem': 388, 'halt': 389, 'vor': 390, 'z': 391, 'is': 392, 'angst': 393, 'iq': 394, 'stimmt': 395, 'links': 396, 'v': 397, 'stellen': 398, 'deren': 399, 'altkatholisch': 400, 'l': 401, 'schuld': 402, 'daran': 403, 'sehe': 404, 'will': 405, 'spiegelonline': 406, 'i': 407, 'zwei': 408, 'laeuft': 409, 'x': 410, 'polen': 411, '66freedom66': 412, 'pasemann': 413, 'bringen': 414, 'weniger': 415, 'grosse': 416, 'fall': 417, 'wi': 418, 'et': 419, 'familiennachzug': 420, 'ndaktuell': 421, 'gg': 422, 'diskussion': 423, 'pinselpoetin': 424, 'hoe': 425, 'pride': 426, 'zusammen': 427, 'war': 428, 'der': 429, 'ainyrockstar': 430, 'alte': 431, 'luegen': 432, 'ausser': 433, 'falsch': 434, 'afrika': 435, 'hallo': 436, 'tut': 437, 'grenzen': 438, '10': 439, 'spadecarrier': 440, 'alice': 441, 'fast': 442, 'oft': 443, 'kokolores20': 444, 'hass': 445, 'denen': 446, 'mag': 447, 'beutebadener': 448, 'kotzenderstern': 449, 'moeglich': 450, 'noch': 451, 'ganzen': 452, 'dielinke': 453, 'luegenpresse': 454, 'bringt': 455, 'konnte': 456, 'happyhaidrich3': 457, 'respekt': 458, 'asyl': 459, 'holocaust': 460, 'interessie': 461, 'sebastiankurz': 462, '000': 463, 'staaten': 464, 'kennen': 465, 'etwa': 466, 'drdavidberger': 467, 'fehler': 468, 'darum': 469, 'finde': 470, 'teil': 471, 'kanzler': 472, 'fuehren': 473, 'illner': 474, 'dummen': 475, 'maenner': 476, 'murksel': 477, 'siehe': 478, 'damals': 479, 'abend': 480, 'schreiben': 481, 'faellt': 482, 'kaum': 483, 'weder': 484, 'millionen': 485, 'hauptstadt': 486, 'deutschlands': 487, 'schlimmer': 488, 'wuensche': 489, 'ernst': 490, 'sagte': 491, 'sache': 492, 'ung': 493, 'zeigt': 494, 'schande': 495, 'neuen': 496, 'ungarn': 497, 'kennt': 498, 'lieben': 499, 'dr': 500, '8': 501, 'spdbt': 502, 'oeffentlich': 503, 'beck': 504, 'wie': 505, 'ml': 506, 'dushanwegner': 507, 'ikel': 508, 'union': 509, 'bevor': 510, 'doch': 511, 'mir': 512, 'wenn': 513, 'tv': 514, 'aendern': 515, 'paar': 516, 'mittlerweile': 517, 'russland': 518, 'bereits': 519, 'internet': 520, 'groesste': 521, 'veru': 522, 'migranten': 523, 'kosten': 524, 'genauso': 525, 'grals': 526, 'hueter': 527, 'bekannt': 528, 'religion': 529, 'jamaika': 530, 'rechts': 531, 'kannst': 532, 'fakt': 533, 'gesellschaft': 534, 'voellig': 535, 'syrien': 536, 'usa': 537, 'er': 538, 'idioten': 539, 'froehlicher': 540, 'gruss': 541, 'etc': 542, 'passt': 543, 'zu': 544, 'meinungsfreiheit': 545, 'gehoeren': 546, 'koran': 547, 'renft1964': 548, 'letzte': 549, 'tvduell': 550, 'mehrheit': 551, 'g': 552, 'kind': 553, 'gross': 554, 'bekommt': 555, 'typisch': 556, 'koeln': 557, 'verloren': 558, 'sich': 559, 'erste': 560, 'naechste': 561, 'willkommen': 562, 'worden': 563, 'richtige': 564, 'weit': 565, 'buch': 566, 'hamburgpride': 567, 'heikomaas': 568, 'lich': 569, 'zeitonline': 570, 'alten': 571, 'neuwahlen': 572, 'eitag': 573, 'zeiten': 574, 'hilfe': 575, 'besten': 576, 'seehofer': 577, 'volker': 578, 'spo': 579, 'folgen': 580, 'nur': 581, 'muss': 582, 'kenne': 583, 'ersten': 584, 'dass': 585, 'rest': 586, 'gedanken': 587, 'erklae': 588, '9': 589, 'r': 590, 'sed': 591, 'familien': 592, 'verlassen': 593, 'dreck': 594, 'sawsanchebli': 595, 'altpa': 596, '15': 597, 'zukunft': 598, 'genug': 599, 'goeringeckardt': 600, 'seid': 601, 'deswegen': 602, '12': 603, 'rot': 604, 'bundespa': 605, 'suppo': 606, 'darauf': 607, 'politischen': 608, 'redet': 609, 'feie': 610, '6': 611, 'sowas': 612, 'n24': 613, 'rechte': 614, 'fo': 615, 'sicherheit': 616, 'schauen': 617, 'letzten': 618, 'ziehen': 619, 'christen': 620, 'afghanistan': 621, 'jerusalem': 622, 'lese': 623, 'hause': 624, 'ahnung': 625, 'haus': 626, 'nimmt': 627, 'dritteoption': 628, 'politisch': 629, 'mensch': 630, 'luege': 631, 'politikern': 632, 'punkt': 633, 'obwohl': 634, 'sternde': 635, 'schaden': 636, 'wenig': 637, '100': 638, 'hitler': 639, 'drauf': 640, 'dummheit': 641, 'dann': 642, 'moin': 643, 'hin': 644, 'vonschwer': 645, 'kriegen': 646, 'probleme': 647, 'laendern': 648, 'synode': 649, 'mitglieder': 650, 'antrag': 651, 'alles': 652, 'mit': 653, '90': 654, 'frei': 655, 'stadt': 656, '2017': 657, 'bildung': 658, 'schnell': 659, 'youtube': 660, 'leggaknoppers': 661, 'dagegen': 662, 'fake': 663, 'tage': 664, 'propaganda': 665, 'islamisierung': 666, 'kahane': 667, 'hauptsache': 668, 'weiterhin': 669, 'muenchen': 670, 'hoffentlich': 671, 'waren': 672, 'reicht': 673, 'unterschied': 674, 'scheisse': 675, 'sorry': 676, 'vorher': 677, 'berichten': 678, 'naechsten': 679, 'geschrieben': 680, 'fest': 681, 'mio': 682, 'ig': 683, 'zeigen': 684, 'eilen': 685, 'erwa': 686, 'deshalb': 687, 'rag': 688, 'entscheidung': 689, 'eigene': 690, 'gegenueber': 691, 'niveau': 692, 'erklaeren': 693, 'account': 694, 'beide': 695, 'nsu': 696, 'verraten': 697, 'berichtet': 698, 'debatte': 699, '2018': 700, '30': 701, 'stolz': 702, 'familie': 703, 'rassismus': 704, 'regie': 705, 'je': 706, 'arbeiten': 707, 'msm': 708, 'bei': 709, 'scheint': 710, 'polizeiberlin': 711, 'hdberretz': 712, 'ziel': 713, 'schaffen': 714, 'du': 715, 'herrn': 716, 'holgerewald1': 717, 'kriminelle': 718, 'bka': 719, 'facebook': 720, 'schulabschluss': 721, 'heimat': 722, 'kopftuch': 723, 'pl': 724, 'sm100d': 725, 'abgeschoben': 726, 'tief': 727, 'kotzen': 728, 'roth': 729, 'waeren': 730, 'bilder': 731, 'nacht': 732, 'gesper': 733, 'tod': 734, 'ueberall': 735, 'direkt': 736, 'fueh': 737, 'minister': 738, 'morgenmagazin': 739, 'gutmenschen': 740, 'richtigen': 741, 'justiz': 742, 'selber': 743, 'nrw': 744, 'laut': 745, 'auslaender': 746, 'europas': 747, 'bedeutet': 748, 'passie': 749, 'sigmargabriel': 750, 'feiern': 751, 'einst': 752, 'oh': 753, 'kanzlerin': 754, 'afdimbundestag': 755, 'gibts': 756, 'solange': 757, 'widerstand': 758, 'co': 759, 'nutzen': 760, 'schland': 761, 'judenhass': 762, 'neues': 763, 'angela': 764, 'buergermeister': 765, 'rede': 766, 'handelt': 767, 'sowie': 768, 'neu': 769, 'frankfu': 770, 'gehts': 771, '7': 772, 'liegt': 773, 'erkennen': 774, 'hunde': 775, 'rebellin70': 776, 'glueckwunsch': 777, 'giki56534206': 778, 'islamisten': 779, 'tragen': 780, 'posten': 781, 'schoenen': 782, 'rentner': 783, 'mund': 784, 'wahr': 785, 'langsam': 786, 'melden': 787, 'geblieben': 788, 'joemino': 789, 'bonn': 790, 'stimulator': 791, 'ging': 792, 'destatis': 793, 'f': 794, 'afrikaner': 795, 'denke': 796, 'bezahlen': 797, 'ibikus31': 798, 'echt': 799, 'waehrend': 800, 'zdfheute': 801, 'schade': 802, 'untergang': 803, 'denkt': 804, 'landes': 805, 'nochmal': 806, 'kleine': 807, 'riedegost': 808, 'lc180666': 809, 'irgendwann': 810, 'schluss': 811, 'lage': 812, '19': 813, 'vo': 814, 'spiel': 815, 'schlimm': 816, 'erfolg': 817, 'also': 818, 'wichtig': 819, 'mich': 820, 'mitglied': 821, 'gern': 822, 'vielfalt': 823, 'eh': 824, '14': 825, 'presse': 826, 'reter': 827, 'wenigstens': 828, 'taeglich': 829, 'position': 830, 'guter': 831, 'faz': 832, 'interessant': 833, 'hetzer': 834, 'eine': 835, 'moslem': 836, 'strafe': 837, 'dummes': 838, 'netzdg': 839, 'bezeichnen': 840, 'wollten': 841, 'auswae': 842, 'integration': 843, 'oesterreicher': 844, 'us': 845, 'anders': 846, 'in': 847, 'retten': 848, 'ami66stefan': 849, 'schlecht': 850, 'toleranz': 851, 'kam': 852, 'ineshenkler': 853, 'ausschliesslich': 854, 'politische': 855, 'nato': 856, 'koennten': 857, 'gesicht': 858, 'erreicht': 859, 'holen': 860, 'fakten': 861, 'oben': 862, 'versucht': 863, 'hoffen': 864, 'boese': 865, 'liegen': 866, 'eindeutig': 867, 'sprechen': 868, 'spielen': 869, 'hinweis': 870, 'platz': 871, 'verbloedet': 872, 'hirn': 873, 'follower': 874, 'ideologie': 875, 'heiko': 876, 'tweets': 877, 'michael': 878, 'freunde': 879, 'laenger': 880, 'suchen': 881, 'person': 882, 'um': 883, 'her': 884, 'loesung': 885, 'ca': 886, 'gestellt': 887, 'bericht': 888, 'fresse': 889, 'gleichen': 890, 'tomsch24': 891, 'mord': 892, 'magna': 893, 'est': 894, 'boelscheline': 895, 'helfen': 896, 'soweit': 897, 'eilt': 898, 'verbrecher': 899, 'jemanden': 900, 'entscheiden': 901, 'gesetz': 902, 'oezdemir': 903, 'situation': 904, 'bund': 905, 'deutlich': 906, '18': 907, 'muesste': 908, 'wa': 909, 'schule': 910, 'fritz': 911, 'freie': 912, 'allerdings': 913, 'weitere': 914, 'absolut': 915, 'sondierungen': 916, 'hier': 917, 'akifpirincci': 918, 'schickt': 919, 'igesamt': 920, 'verbreitet': 921, 'schwarz': 922, 'willen': 923, 'besonders': 924, 'nachrichten': 925, 'gottes': 926, 'ag': 927, 'ausland': 928, 'halte': 929, 'verkauft': 930, 'unbedingt': 931, 'kindern': 932, 'kundgebung': 933, 'unterstuetzung': 934, 'jungen': 935, 'sorgen': 936, 'schritt': 937, 'loriotfehlt': 938, 'bonkekolja': 939, 'themen': 940, 'nen': 941, 'verhandlungen': 942, 'geworden': 943, 'deutschfeindlichen': 944, 'westen': 945, 'wieder': 946, 'fahren': 947, 'unterstuetzen': 948, 'erstmal': 949, 'muslimischen': 950, 'entschieden': 951, 'bestraft': 952, 'bezahlt': 953, 'unterstuetzt': 954, 'meuthen': 955, 'setzt': 956, 'hoch': 957, 'eliten': 958, 'verboten': 959, 'stimmen': 960, 'fluechtlingen': 961, 'lernen': 962, 'expe': 963, 'bzw': 964, 'stand': 965, 'diktatur': 966, 'sellner': 967, 'weiter': 968, 'vasall': 969, 'freuen': 970, 'illegale': 971, 'abschaum': 972, 'interview': 973, 'monikabergholz1': 974, 'maul': 975, 'schutz': 976, 'beiden': 977, 'ru': 978, 'stiftung': 979, 'sondierung': 980, 'schicken': 981, 'zeichen': 982, 'gegenteil': 983, 'handeln': 984, 'wieviel': 985, 'k': 986, 'drei': 987, 'gehirn': 988, 'gebu': 989, 'illegal': 990, 'allen': 991, 'dunjahayali': 992, 'tausende': 993, 'stellt': 994, 'gefallen': 995, 'phoenix': 996, 'iran': 997, 'milliarden': 998, 'helmut': 999, 'gebe': 1000, 'aussagen': 1001, 'verhalten': 1002, 'soviel': 1003, 'waffen': 1004, 'dorabromberger': 1005, 'bisschen': 1006, '2016': 1007, 'gewesen': 1008, 'geschehen': 1009, 'zieht': 1010, 'swagenknecht': 1011, 'info': 1012, 'spdler': 1013, 'soskinderdorf': 1014, 'impo': 1015, 'ie': 1016, 'euch': 1017, 'taeter': 1018, 'ulfposh': 1019, 'grund': 1020, 'kommentare': 1021, 'heutigen': 1022, 'bisher': 1023, 'ergebnis': 1024, 'begreifen': 1025, 'grossen': 1026, 'y': 1027, 'p': 1028, 'allein': 1029, 'gerechtigkeit': 1030, 'kameraden': 1031, 'froh': 1032, 'volkes': 1033, 'ziemlich': 1034, 'freue': 1035, 'titania0001': 1036, 'erhalten': 1037, 'gutes': 1038, 'tja': 1039, 'yuecel': 1040, 'alt': 1041, 'nennen': 1042, 'joerg': 1043, 'kuemmern': 1044, 'entsorgt': 1045, 'jala': 1046, 'varietas': 1047, 'teilen': 1048, 'gericht': 1049, 'magoorooma': 1050, 'offen': 1051, 'ige': 1052, 'beendet': 1053, 'oder': 1054, 'g20': 1055, 'schreibt': 1056, 'setzen': 1057, 'haengt': 1058, 'kriegt': 1059, 'europaeer': 1060, 'tor': 1061, 'werbung': 1062, 'katjakipping': 1063, 'stunden': 1064, 'laufen': 1065, 'ritter': 1066, 'lohnt': 1067, 'kleinen': 1068, 'islamischen': 1069, 'od': 1070, 'mittelfinger': 1071, 'system': 1072, 'geboren': 1073, 'essen': 1074, 'wahlen': 1075, 'dran': 1076, 'marx': 1077, 'durch': 1078, 'haelt': 1079, 'anne': 1080, 'wand': 1081, '17': 1082, 'pro': 1083, 'chaoten': 1084, 'csd': 1085, 'europaeischen': 1086, 'italien': 1087, 'westminster1000': 1088, 'alter': 1089, 'feind': 1090, 'danach': 1091, 'gekommen': 1092, 'berliner': 1093, 'taugt': 1094, 'beste': 1095, '2015': 1096, 'nennt': 1097, 'isidormeyer1': 1098, 'arbeitet': 1099, 'treffen': 1100, 'geschieht': 1101, 'gesetzt': 1102, 'bejubinich': 1103, 'ihr': 1104, 'schwachsinn': 1105, 'spaeter': 1106, 'gleichzeitig': 1107, 'brot': 1108, 'erster': 1109, 'selbstverstaendlich': 1110, 'okay': 1111, 'sz': 1112, 'maltekaufmann': 1113, '11': 1114, 'verbieten': 1115, 'fb': 1116, 'sowieso': 1117, 'gauck': 1118, 'gefragt': 1119, 'j': 1120, 'wochenende': 1121, 'geh': 1122, 'rente': 1123, 'wem': 1124, 'l7250402': 1125, 'rgutmensch': 1126, 'versuchen': 1127, 'steinhoefel': 1128, 'woche': 1129, 'jahrhunde': 1130, 'folgt': 1131, 'ho': 1132, 'arimar': 1133, 'einzelfallinfos': 1134, 'bezeichnet': 1135, 'england': 1136, 'frankreich': 1137, 'spaetestens': 1138, 'generell': 1139, 'werdet': 1140, 'sondierungsgespraeche': 1141, 'wolfgang': 1142, 'rechtsstaat': 1143, 'fordern': 1144, 'anstatt': 1145, 'gruenden': 1146, 'gemeint': 1147, 'hoeren': 1148, 'wenigen': 1149, 'aussage': 1150, 'gutachten': 1151, 'eier': 1152, 'ntvde': 1153, 'kleiner': 1154, 'al': 1155, 'w': 1156, 'alternative': 1157, 'schaut': 1158, 'tuer': 1159, 'karl': 1160, 'lauterbach': 1161, 'varg': 1162, 'veum': 1163, 'arme': 1164, 'merken': 1165, 'volksverraeterin': 1166, 'habe': 1167, 'rose': 1168, 'robe': 1169, 'stelle': 1170, 'september': 1171, 'iammascho': 1172, 'fuehrung': 1173, 'bloed': 1174, 'weltweit': 1175, 'seiten': 1176, 'soll': 1177, 'rassistische': 1178, 'wahrscheinlich': 1179, 'schuetzen': 1180, 'lauter': 1181, 'ausserdem': 1182, 'sonntag': 1183, 'irgendwie': 1184, 'diskutie': 1185, 'kritisch': 1186, 'praesident': 1187, 'muell': 1188, 'koalition': 1189, 'gefaellt': 1190, 'duesseldorf': 1191, 'andrezeven': 1192, 'ehrlich': 1193, '50': 1194, 'grosser': 1195, 'un': 1196, 'hd': 1197, 'afrin': 1198, 'knast': 1199, 'vorne': 1200, 'antifa': 1201, 'tl': 1202, 'demonstranten': 1203, 'rechtlichen': 1204, 'verbrechen': 1205, 't': 1206, 'man': 1207, 'gelten': 1208, 'hoecke': 1209, 'verein': 1210, 'spass': 1211, 'mae': 1212, 'getan': 1213, 'besteht': 1214, 'cducsubt': 1215, 'hugomuellervogg': 1216, 'ntv': 1217, 'rechten': 1218, 'blondjedi': 1219, 'dennoch': 1220, 'metoo': 1221, 'grad': 1222, 'linker': 1223, 'entweder': 1224, 'aktuell': 1225, 'dachte': 1226, 'jedoch': 1227, 'margit030': 1228, 'spenden': 1229, 'nehme': 1230, 'dinge': 1231, 'steiner': 1232, 'deniz': 1233, 'verstand': 1234, 'idee': 1235, 'hoere': 1236, 'demo': 1237, 'donalphonso': 1238, 'verhindern': 1239, 'wut': 1240, 'polizisten': 1241, 'beides': 1242, 'quatsch': 1243, 'ragen': 1244, 'infos': 1245, 'beginnt': 1246, 'wuenschen': 1247, 'exilmengele': 1248, 'ok': 1249, 'leicht': 1250, 'dich': 1251, 'zumindest': 1252, 'obergrenze': 1253, 'groessten': 1254, 'verdient': 1255, 'sitzt': 1256, 'vorhanden': 1257, 'neben': 1258, 'ebenfalls': 1259, 'zahl': 1260, 'shakriet': 1261, 'tuerkischen': 1262, 'lachen': 1263, 'soeder': 1264, 'rassistisch': 1265, 'herzen': 1266, 'zensie': 1267, 'zb': 1268, 'herzlichen': 1269, 'kriege': 1270, 'uebe': 1271, 'meinst': 1272, 'zw': 1273, 'bundesregierung': 1274, 'dresden': 1275, 'garnicht': 1276, 'argumente': 1277, 'richter': 1278, 'johannesdal': 1279, 'wahre': 1280, 'goering': 1281, 'asiaten': 1282, 'neonazis': 1283, 'per': 1284, 'tochter': 1285, 'daemlich': 1286, 'bevoelkerung': 1287, 'schulen': 1288, 'veranstaltung': 1289, 'preis': 1290, 'ansonsten': 1291, 'laengst': 1292, 'markus': 1293, 'film': 1294, 'schleswig': 1295, 'strasse': 1296, 'kriminellen': 1297, 'epmobil': 1298, 'euro': 1299, 'israelische': 1300, 'flagge': 1301, 'herz': 1302, 'schliessen': 1303, 'piepser': 1304, 'bekaempfen': 1305, 'wochen': 1306, 'heissen': 1307, 'sicherlich': 1308, 'fe': 1309, 'forde': 1310, 'freund': 1311, 'tat': 1312, 'fragt': 1313, 'eilung': 1314, 'rainer': 1315, 'falschen': 1316, 'zustaende': 1317, 'osten': 1318, 'drogen': 1319, '95': 1320, 'journalismus': 1321, 'mecklenburger': 1322, 'widerlich': 1323, 'mehrere': 1324, 'koalitionsverhandlungen': 1325, 'entscheidet': 1326, 'neujahrsempfang': 1327, 'ob': 1328, 'gaebe': 1329, 'eins': 1330, 'verstaendnis': 1331, 'stimme': 1332, 'teufel': 1333, 'online': 1334, 'eile': 1335, 'mitte': 1336, 'beleidigt': 1337, 'aufs': 1338, 'thomasoppermann': 1339, 'freitag': 1340, 'retung': 1341, 'sta': 1342, 'kirchentag': 1343, 'zerstoe': 1344, 'schaft': 1345, 'fussball': 1346, 'uebernehmen': 1347, 'kaufen': 1348, 'arabisch': 1349, 'verstehe': 1350, 'bescheue': 1351, 'abgesehen': 1352, 'gedeon': 1353, 'janboehm': 1354, 'hi': 1355, 'gezeigt': 1356, 'entschuldigung': 1357, 'bleibe': 1358, 'umso': 1359, 'mach': 1360, 'maybritillner': 1361, 'cem': 1362, 'blacknarga300': 1363, 'lediglich': 1364, 'ingofunke': 1365, 'sterben': 1366, 'licht': 1367, 'seht': 1368, 'tolle': 1369, 'erlaubt': 1370, 'tot': 1371, 'richtung': 1372, 'kaiserdesrap': 1373, 'nee': 1374, 'klasse': 1375, 'beantwo': 1376, 'daher': 1377, 'weisst': 1378, 'moerder': 1379, 'feinde': 1380, 'versager': 1381, 'sachen': 1382, 'lasst': 1383, 'prozent': 1384, 'gewissen': 1385, 'gehabt': 1386, 'vernichtung': 1387, 'hetzen': 1388, 'null': 1389, 'ihre': 1390, 'gleiche': 1391, 'schoene': 1392, 'gefahr': 1393, 'anschlag': 1394, 'staendig': 1395, 'gelesen': 1396, 'runde': 1397, 'erzaehlen': 1398, 'definitiv': 1399, 'deutsches': 1400, 'fotos': 1401, '80': 1402, 'diskutiere': 1403, 'kritik': 1404, 'eysvog3l': 1405, 'beispiel': 1406, 'chaos': 1407, 'gesetze': 1408, 'integrieren': 1409, 'gauland': 1410, '40': 1411, 'schlechte': 1412, 'sprache': 1413, 'ring': 1414, 'bahn': 1415, 'sinn': 1416, 'chanukka': 1417, 'korrekt': 1418, 'frieden': 1419, 'samt': 1420, 'neuer': 1421, 'versteht': 1422, 'gehe': 1423, 'gegeben': 1424, 'unfaehig': 1425, 'nase': 1426, 'einreise': 1427, '24': 1428, 'werfen': 1429, 'kultur': 1430, 'altena': 1431, 'beamte': 1432, 'genommen': 1433, 'persoenlich': 1434, 'iss': 1435, 'koelner': 1436, 'lang': 1437, 'kritisieren': 1438, 'hillary': 1439, 'ner': 1440, 'gesamte': 1441, 'schaeuble': 1442, 'ralle': 1443, 'willst': 1444, 'schafft': 1445, 'jeder': 1446, 'weihnachten': 1447, '1945': 1448, 'chance': 1449, 'schau': 1450, 'multikulti': 1451, 'muessten': 1452, 'sage': 1453, 'leuten': 1454, 'laden': 1455, 'blauekep': 1456, 'strafbar': 1457, 'grab': 1458, 'mitgliederentscheid': 1459, 'luther': 1460, 'israelpedia': 1461, 'jetzt': 1462, 'anschlaege': 1463, 'norgeprivacy': 1464, 'miquwarchar': 1465, 'abschieben': 1466, 'komplett': 1467, 'haut': 1468, 'zensur': 1469, 'frueh': 1470, 'flaschen': 1471, 'amt': 1472, 'dimgiulia1': 1473, 'araber': 1474, 'tages': 1475, 'lott': 1476, 'freut': 1477, 'sogenannten': 1478, 'heraus': 1479, 'grosses': 1480, 'sammeln': 1481, 'davonjagen': 1482, 'schaeme': 1483, 'bmi': 1484, 'aende': 1485, 'notwendig': 1486, '1000': 1487, 'interesse': 1488, 'palaestinenser': 1489, 'fehlen': 1490, 'dringend': 1491, 'kaeme': 1492, 'konsequent': 1493, 'spanien': 1494, 'punkte': 1495, 'menschheit': 1496, 'beweis': 1497, 'ardde': 1498, 'veroeffentlicht': 1499, 'unterstuetzer': 1500, 'ding': 1501, 'geist': 1502, 'verlogene': 1503, 'reihen': 1504, '44': 1505, 'permanent': 1506, 'vergewaltigung': 1507, 'antifantenbrut': 1508, 'rassist': 1509, 'sonneundmond1': 1510, 'flaggen': 1511, 'hh': 1512, 'de0701': 1513, 'ao': 1514, 'alicologne': 1515, 'gucken': 1516, 'video': 1517, 'angehoerigen': 1518, 'niemanden': 1519, 'anstand': 1520, 'keinerlei': 1521, 'sitzengeblieben': 1522, 'traum': 1523, 'falls': 1524, 'bw': 1525, 'rolle': 1526, 'ultrabreit': 1527, 'wien': 1528, 'davongejagt': 1529, 'wieviele': 1530, 'lebt': 1531, 'wunsch': 1532, 'gemeldet': 1533, 'abschiebungen': 1534, 'offensichtlich': 1535, 'feige': 1536, 'gewollt': 1537, 'verfolgt': 1538, 'klare': 1539, 'augen': 1540, 'wenige': 1541, 'dazu': 1542, 'schweigen': 1543, '00': 1544, 'kuh': 1545, 'grunde': 1546, 'plan': 1547, '200': 1548, 'diskutieren': 1549, 'hurensohn': 1550, 'labern': 1551, 'peter': 1552, 'ss': 1553, 'auto': 1554, 'bewusst': 1555, 'fluechtling': 1556, 'todesstrafe': 1557, 'lanz': 1558, 'asylrecht': 1559, 'auge': 1560, 'klein': 1561, 'beschlossen': 1562, 'eigenes': 1563, 'ur': 1564, 'beamten': 1565, 'refugees': 1566, 'monaten': 1567, 'voru': 1568, 'liebt': 1569, 'nachbarn': 1570, 'hose': 1571, 'behauptet': 1572, 'grenze': 1573, 'auschwitz': 1574, 'eidigen': 1575, 'angeblich': 1576, 'weshalb': 1577, 'ordnung': 1578, 'motto': 1579, 'donald': 1580, 'ps': 1581, 'sirschnee': 1582, 'mail': 1583, 'trifft': 1584, 'sturm': 1585, 'toten': 1586, 'kreuzritter1099': 1587, 'unterstellen': 1588, 'user': 1589, 'keine': 1590, 'hilft': 1591, 'vereinigten': 1592, 'danielseuffe': 1593, 'stark': 1594, 'kampf': 1595, 'einzigen': 1596, 'nun': 1597, 'bruder': 1598, 'massen': 1599, 'ruhe': 1600, 'freiwillig': 1601, 'spa': 1602, 'solch': 1603, 'tuerkische': 1604, 'muslimen': 1605, 'schlechter': 1606, 'nahles': 1607, 'weise': 1608, '2013': 1609, 'vorwerfen': 1610, 'wasser': 1611, 'uebrig': 1612, 'entschuldigen': 1613, 'mist': 1614, 'hamas': 1615, 'brandenburger': 1616, 'verlierern': 1617, 'grundgesetz': 1618, 'antisemiten': 1619, 'fehlt': 1620, 'antraege': 1621, 'nafris': 1622, 'armes': 1623, 'fallen': 1624, 'leiden': 1625, 'studie': 1626, 'mustaphamondah': 1627, 'nessie43': 1628, 'juergen': 1629, 'haelfte': 1630, 'leyen': 1631, 'bist': 1632, 'lichen': 1633, 'traurig': 1634, 'leitkultur': 1635, 'moege': 1636, 'dlf': 1637, 'soviele': 1638, 'toeten': 1639, 'religioesen': 1640, 'zeitung': 1641, 'juedische': 1642, 'rauen': 1643, 'journalisten': 1644, 'charakter': 1645, 'missbraucht': 1646, 'kohl': 1647, 'rum': 1648, 'ueberleben': 1649, 'el': 1650, 'bverfg': 1651, 'rein': 1652, '45': 1653, 'vergangenheit': 1654, 'steuern': 1655, 'toll': 1656, 'djanecek': 1657, 'landsleute': 1658, 'von': 1659, 'identitaet': 1660, 'lacht': 1661, 'als': 1662, 'hae': 1663, 'antifaschisten': 1664, 'anarchisten': 1665, 'dig': 1666, 'nu': 1667, 'heuchler': 1668, 'erinne': 1669, 'berichterstattung': 1670, 'aeusserungen': 1671, 'gebracht': 1672, 'angezeigt': 1673, 'satz': 1674, 'text': 1675, 'gestrichen': 1676, 'abgelehnt': 1677, 'echte': 1678, 'geschlechter': 1679, 'gutmensch': 1680, 'tritt': 1681, 'norbe': 1682, '70': 1683, 'einsatz': 1684, 'tagesspiegel': 1685, 'anzeigen': 1686, 'wichtige': 1687, 'amerika': 1688, 'sogenannte': 1689, '16': 1690, 'papier451': 1691, 'typ': 1692, 'wahren': 1693, 'ya': 1694, 'ago': 1695, 'kontaktvito': 1696, 'druck': 1697, 'manchmal': 1698, 'dicke': 1699, 'dora': 1700, 'bromberger': 1701, 'freier': 1702, 'bruessel': 1703, 'singt': 1704, '25': 1705, 'mitteln': 1706, 'aufhoeren': 1707, 'hans': 1708, 'gruppe': 1709, 'hohe': 1710, 'strom': 1711, 'kanzlerkandidat': 1712, 'spaet': 1713, 'fette': 1714, 'ursachen': 1715, 'katalonien': 1716, 'pest': 1717, 'alleine': 1718, 'gelernt': 1719, 'koepfe': 1720, 'wahnsinn': 1721, 'deutschfeindliche': 1722, 'realitaet': 1723, 'trolle': 1724, 'wunde': 1725, 'duemmer': 1726, 'hund': 1727, 'proasyl': 1728, '0': 1729, 'voller': 1730, 'repo': 1731, 'begreift': 1732, 'zuerst': 1733, 'beschaeftigt': 1734, 'zuviel': 1735, 'benutzt': 1736, 'juedischen': 1737, 'naemlich': 1738, 'im': 1739, 'ebenso': 1740, 'wohin': 1741, 'erika': 1742, 'passen': 1743, 'wollt': 1744, 'nationalmannschaft': 1745, 'aktuellen': 1746, 'stil': 1747, 'waldoknalldo': 1748, 'bundeskanzler': 1749, 'happy': 1750, 'ar': 1751, 'weissrot': 1752, 'mdb': 1753, 'total': 1754, 'vieles': 1755, 'enorm': 1756, 'wuenschte': 1757, 'demokratisch': 1758, 'nich': 1759, 'merkt': 1760, 'jedenfalls': 1761, 'aba': 1762, 'analphabeten': 1763, 'hetzt': 1764, 'praesidenten': 1765, 'verdammt': 1766, 'templer': 1767, 'schwachkoepfe': 1768, 'wen': 1769, 'israels': 1770, '60': 1771, 'behoerden': 1772, 'treten': 1773, 'engagie': 1774, 'dachau': 1775, 'of': 1776, 'stueck': 1777, 'liefern': 1778, 'mafia': 1779, 'existenz': 1780, 'dilk16': 1781, 'isis': 1782, 'vier': 1783, 'beschweren': 1784, 'reichen': 1785, 'kindergae': 1786, 'abgeschafft': 1787, 'banken': 1788, 'mauer': 1789, 'herkunft': 1790, 'funktionaere': 1791, 'leipzig': 1792, '1989': 1793, 'ost': 1794, 'kommunisten': 1795, 'kardinal': 1796, 'st': 1797, 'erklaerung': 1798, 'linksfraktion': 1799, 'noafd': 1800, 'krankenversicherung': 1801, 'tote': 1802, 'kommentar': 1803, 'nahe': 1804, 'maxe8888': 1805, 'maedchen': 1806, 'korallenherz': 1807, 'kamen': 1808, 'aufklaerer2017': 1809, 'ruhig': 1810, 'dejancrosic': 1811, 'bzgl': 1812, 'vllt': 1813, 'antisemitische': 1814, 'rueckgrat': 1815, 'zustimmung': 1816, 'statistiken': 1817, 'verbreiten': 1818, 'vorgehen': 1819, 'bundeswehr': 1820, 'bin': 1821, 'gewonnen': 1822, 'bundeswehrinfo': 1823, 'plattform': 1824, 'blick': 1825, 'klagen': 1826, 'altmaier': 1827, 'lieb': 1828, 'schoener': 1829, 'laecherlich': 1830, 'verhinde': 1831, 'tato': 1832, 'dienstag': 1833, 'sprach': 1834, 'eltern': 1835, 'ueberzeugt': 1836, 'abgeordneten': 1837, 'meldet': 1838, 'akten': 1839, 'oezoguz': 1840, 'sharia': 1841, 'verlierer': 1842, 'steinmeier': 1843, 'naja': 1844, 'groening': 1845, 'bloss': 1846, 'faschismus': 1847, 'neubrandenburg': 1848, 'wo': 1849, 'soldaten': 1850, 'normal': 1851, 'verlieren': 1852, 'kritisie': 1853, 'ossimarzahn76': 1854, 'legitim': 1855, 'verursacht': 1856, 'vonmontfo': 1857, 'schlagen': 1858, 'super': 1859, 'erwaehnt': 1860, 'tuerkisch': 1861, 'peinlich': 1862, 'yrer': 1863, 'foto': 1864, 'rponline': 1865, 'mutter': 1866, 'stfries': 1867, 'passieren': 1868, 'gelaber': 1869, 'peteraltmaier': 1870, 'sommer': 1871, 'hals': 1872, 'pfeife': 1873, 'verarschen': 1874, 'jugend': 1875, 'trotz': 1876, 'lustig': 1877, 'adolfglunz': 1878, 'germanbub': 1879, 'bereit': 1880, 'woher': 1881, 'privat': 1882, 'rote': 1883, 'vollpfosten': 1884, 'sender': 1885, 'irrsinn': 1886, 'faznet': 1887, 'rechter': 1888, 'polit': 1889, 'korrupte': 1890, 'schneller': 1891, 'sog': 1892, 'bischof': 1893, 'heut': 1894, 'benutzen': 1895, 'claudia': 1896, 'lager': 1897, 'gestapo': 1898, 'jufo': 1899, 'kika': 1900, 'blockie': 1901, 'waffe': 1902, 'loeschen': 1903, 'hebraeisch': 1904, 'finanzkommission': 1905, 'vermutlich': 1906, 'linksgruene': 1907, 'krank': 1908, 'real': 1909, 'irre': 1910, 'roten': 1911, 'genannt': 1912, 'kurs': 1913, 'hahaha': 1914, 'bezug': 1915, 'insbesondere': 1916, 'wojtekthomalla': 1917, 'delegie': 1918, 'wunder': 1919, 'etablie': 1920, 'opfern': 1921, 'fuehlen': 1922, 'nutzt': 1923, 'meldung': 1924, 'freiburg': 1925, 'bio': 1926, 'absehbar': 1927, 'lande': 1928, '23': 1929, 'aktion': 1930, 'papst': 1931, 'szczecin': 1932, 'feiglinge': 1933, 'hand': 1934, 'schwer': 1935, 'droht': 1936, 'linksgruen': 1937, 'geloescht': 1938, 'entspricht': 1939, 'hermann': 1940, 'sehr': 1941, 'analyse': 1942, 'folge': 1943, 'weisse': 1944, 'kamerad': 1945, 'garantie': 1946, 'kern': 1947, 'sollte': 1948, 'kaempfen': 1949, 'stephanderrick2': 1950, 'wundern': 1951, 'intelligenz': 1952, 'thl': 1953, 'fakenews': 1954, 'theo': 1955, 'koennt': 1956, 'fernsehen': 1957, 'unfassbar': 1958, 'bestimmen': 1959, 'falsche': 1960, 'sch': 1961, 'schweiz': 1962, 'gelegenheit': 1963, 'daserste': 1964, 'schnelle': 1965, 'dargestellt': 1966, 'groesser': 1967, 'nach': 1968, 'protestieren': 1969, 'aufstand': 1970, 'armee': 1971, 'unsichere': 1972, 'sicheren': 1973, 'maria': 1974, 'existie': 1975, 'nation': 1976, 'adolf': 1977, 'programm': 1978, 'entsetzt': 1979, 'anzeige': 1980, 'lust': 1981, '83': 1982, 'perfekt': 1983, 'sammy': 1984, 'cux': 1985, 'brosel': 1986, 'werner': 1987, 'spreche': 1988, 'froehlichkait': 1989, 'brandt': 1990, 'dieter': 1991, 'mv': 1992, 'draus': 1993, 'gebrauchen': 1994, '13': 1995, 'st3pp3nwqlf': 1996, 'scharia': 1997, 'unabhaengig': 1998, 'emrich': 1999, '5933': 2000, 'begriff': 2001, 'waldruhe': 2002, 'nachdenken': 2003, 'erreichen': 2004, 'spiegel': 2005, 'oesterreichische': 2006, 'kacke': 2007, 'google': 2008, 'dient': 2009, 'voelker': 2010, 'bayer': 2011, 'meint': 2012, '31': 2013, 'wichtiger': 2014, 'wind': 2015, 'oeffentlichen': 2016, 'leid': 2017, 'gefuehl': 2018, 'koenntet': 2019, 'behalten': 2020, 'nulltipper': 2021, 'kritischen': 2022, 'retweet': 2023, 'vancullo': 2024, 'angerichtet': 2025, 'ans': 2026, 'madameplissee': 2027, 'retweeten': 2028, 'klo': 2029, 'nenne': 2030, 'schreibe': 2031, 'dt': 2032, 'noe': 2033, 'humor': 2034, 'anscheinend': 2035, 'kuemme': 2036, 'gez': 2037, 'kotzt': 2038, 'beweise': 2039, 'gefunden': 2040, 'naechstes': 2041, 'khajiit7': 2042, 'lt': 2043, 'koenig': 2044, 'acc': 2045, 'jagen': 2046, 'souveraen': 2047, 'berichte': 2048, 'hinterbliebenen': 2049, 'diesmal': 2050, 'satire': 2051, 'ddb': 2052, 'belogen': 2053, 'bislang': 2054, 'schaemen': 2055, 'idiot': 2056, 'gegenseitig': 2057, 'holstein': 2058, 'schmonzes': 2059, 'gedenken': 2060, 'shlomosapiens': 2061, 'aussieht': 2062, 'andere': 2063, 'herzlich': 2064, 'geeignet': 2065, 'afdberlin': 2066, 'belegt': 2067, 'finger': 2068, 'sichern': 2069, 'undayou': 2070, 'paradoxxiss': 2071, 'entgegen': 2072, 'etwas': 2073, 'aotto1968': 2074, 'jemals': 2075, 'rechtskommission': 2076, 'kandidaten': 2077, 'stevemotley': 2078, 'waehlbar': 2079, 'muslimische': 2080, 'zurecht': 2081, 'sieger': 2082, 'welch': 2083, 'soeldner': 2084, 'anwaelte': 2085, 'sag': 2086, 'spielt': 2087, 'echter': 2088, 'staerker': 2089, 'interessieren': 2090, 'verstaendlich': 2091, 'dir': 2092, 'selbst': 2093, 'komm': 2094, 'widerspruch': 2095, 'dialog': 2096, 'damit': 2097, 'amygdala712': 2098, 'herum': 2099, 'lass': 2100, 'luegt': 2101, 'glaub': 2102, 'versiffte': 2103, 'schwachmaten': 2104, 'denker': 2105, 'gerhard': 2106, 'opposition': 2107, 'kommenden': 2108, 'basta': 2109, 'held': 2110, 'herkommen': 2111, 'gemerkt': 2112, 'paesse': 2113, 'erkannt': 2114, '2014': 2115, 'awp2015awp': 2116, 'meinungen': 2117, '1933': 2118, 'islamische': 2119, 'organisation': 2120, 'schmidt': 2121, 'endet': 2122, 'ehrliche': 2123, 'not': 2124, 'the': 2125, 'fuerchten': 2126, 'schmarotzer': 2127, 'teile': 2128, 'baut': 2129, 'spinner': 2130, 'parlament': 2131, 'gemeinden': 2132, 'mitleid': 2133, 'schergen': 2134, 'ratte': 2135, 'pferd': 2136, 'koalitionsve': 2137, 'kriminalitaet': 2138, 'grossteil': 2139, 'first': 2140, 'wdr': 2141, 'taschen': 2142, 'sorge': 2143, 'predigt': 2144, 'trinken': 2145, 'polens': 2146, 'maedels': 2147, 'gesamten': 2148, 'verschwinden': 2149, 'staates': 2150, 'steuerzahler': 2151, 'ermordeten': 2152, 'schlampe': 2153, 'arasbacho': 2154, 'fabriziafalcone': 2155, 'wuerstel': 2156, 'schmierfinke': 2157, 'reich': 2158, 'hinten': 2159, 'vergewaltigt': 2160, 'lawtroll': 2161, 'fraulein': 2162, 'antje': 2163, 'haeufig': 2164, 'schwarze': 2165, 'weissen': 2166, 'machtjanix': 2167, 'genuegend': 2168, 'rund': 2169, 'filme': 2170, 'verlogenen': 2171, 'cerberus456': 2172, 'lichtmesz': 2173, 'ir': 2174, 'hcstrachefp': 2175, 'unsinn': 2176, 'puenktlich': 2177, 'dermassen': 2178, 'scheitern': 2179, 'schlimmehelena': 2180, 'pass': 2181, 'primitiv': 2182, 'ber': 2183, 'ka': 2184, 'geschlecht': 2185, 'videos': 2186, 'balken': 2187, 'damian': 2188, 'tamwood': 2189, 'abschiebung': 2190, 'gescheite': 2191, 'ideen': 2192, 'schein': 2193, 'gerechte': 2194, 'logen': 2195, 'franzoesische': 2196, 'franzosen': 2197, 'ouryjalloh': 2198, 'bilderberger': 2199, 'magaldi': 2200, 'vanja': 2201, 'ricardo25701887': 2202, 'jfda': 2203, 'vergewaltiger': 2204, 'abschaffen': 2205, 'putins': 2206, 'offiziell': 2207, 'einer': 2208, 'abwa': 2209, 'spiele': 2210, 'dera': 2211, 'klima': 2212, 'fein': 2213, 'lug': 2214, 'einheit': 2215, 'link': 2216, 'legt': 2217, 'abends': 2218, 'informationen': 2219, 'la': 2220, 'schreib': 2221, '73': 2222, 'oer': 2223, 'anti': 2224, 'parade': 2225, 'ruhrgebiet': 2226, 'ritt': 2227, 'arschloch': 2228, 'verdienen': 2229, 'lobby': 2230, 'sprachen': 2231, 'blockieren': 2232, 'anlass': 2233, 'internationalen': 2234, 'bab': 2235, 'muslim': 2236, 'drohen': 2237, 'team': 2238, 'gekaempft': 2239, 'mehrfach': 2240, 'subsidiaer': 2241, 'frlurban': 2242, 'london': 2243, 'beenden': 2244, 'weh': 2245, 'amri': 2246, 'kompromisse': 2247, 'organisationen': 2248, 'habeck': 2249, 'bewohner': 2250, 'gebraucht': 2251, 'bundestages': 2252, 'integrie': 2253, 'wirken': 2254, 'rolandtichy': 2255, 'kurden': 2256, 'mo': 2257, 'zuhoeren': 2258, 'helalbeauty': 2259, 'gesprochen': 2260, 'personen': 2261, 'krone': 2262, 'ehe': 2263, 'frag': 2264, 'schwein': 2265, 'sondern': 2266, 'bloede': 2267, 'heimatland': 2268, 'bett': 2269, 'leoknauf': 2270, 'informieren': 2271, 'lied': 2272, 'selben': 2273, 'tisch': 2274, 'ganzes': 2275, 'verkaufen': 2276, 'himbeerhans': 2277, 'helden': 2278, 'focus': 2279, 'sultanat': 2280, 'csupt17': 2281, 'linksgruenen': 2282, 'dienst': 2283, 'lexie': 2284, 'thomas': 2285, 'prozess': 2286, 'stunde': 2287, 'nirgends': 2288, 'verletzten': 2289, 'sachsen': 2290, 'rassisten': 2291, 'schiessen': 2292, 'mass': 2293, 'demokraten': 2294, 'sma': 2295, 'verfahren': 2296, 'faulen': 2297, 'fuss': 2298, 'innerhalb': 2299, 'terroranschlag': 2300, 'via': 2301, 'suche': 2302, 'regeln': 2303, 'be': 2304, 'kandidatschulz': 2305, 'bewaehrung': 2306, 'abgewaehlt': 2307, 'ersetzen': 2308, 'vorschlag': 2309, 'gruener': 2310, 'hiess': 2311, 'greifen': 2312, 'rechnung': 2313, 'filmelf': 2314, 'yt': 2315, 'tichyseinblick': 2316, 'sinne': 2317, 'netz': 2318, 'naeher': 2319, 'freude': 2320, 'halb': 2321, 'projekt': 2322, 'schulden': 2323, 'ieren': 2324, 'mutti': 2325, 'ev': 2326, 'israelischer': 2327, 'haenden': 2328, 'armen': 2329, 'toller': 2330, 'meldungen': 2331, 'btw17': 2332, 'mutig': 2333, 'nawratanna': 2334, 'betrug': 2335, 'generation': 2336, 'buchstaben': 2337, 'mp': 2338, 'miriam': 2339, 'yay': 2340, 'eurovision': 2341, 'sicherer': 2342, 'abwaehlen': 2343, 'saemtliche': 2344, 'haltung': 2345, 'christ': 2346, 'moeglichkeit': 2347, 'weil': 2348, 'besuch': 2349, 'profilieren': 2350, 'pfui': 2351, 'entfernt': 2352, 'durfte': 2353, 'breitscheidplatz': 2354, 'wookie': 2355, 'crime': 2356, 'moscheen': 2357, 'sichere': 2358, 'schneeridara': 2359, 'twittonium': 2360, 'besucht': 2361, 'geistliche': 2362, 'brauche': 2363, 'spekulant1': 2364, 'everoll': 2365, 'mache': 2366, 'auftrag': 2367, 'orden': 2368, 'advent': 2369, 'renate': 2370, 'croqisunshine': 2371, 'panzer': 2372, 'dtl': 2373, 'mindestens': 2374, 'non': 2375, 'kreuz': 2376, 'straftaten': 2377, 'regt': 2378, 'dahinter': 2379, 'marcschriese': 2380, 'rnzonline': 2381, 'erinnern': 2382, 'nurmalso': 2383, 'reichsbuerger': 2384, 'profil': 2385, 'viel': 2386, 'fahnen': 2387, 'ausserhalb': 2388, 'lenna': 2389, 'schoenste': 2390, 'sozialsystem': 2391, 'steckt': 2392, 'gefaehrlich': 2393, 'diesel': 2394, 'anfang': 2395, 'gruesse': 2396, 'fasse': 2397, 'herrscht': 2398, 'frohes': 2399, 'juni': 2400, 'goetter': 2401, 'hoffnung': 2402, 'gesteue': 2403, 'wk': 2404, 'altersarmut': 2405, 'steue': 2406, 'sozialamt': 2407, 'geschafft': 2408, 'mittel': 2409, 'langem': 2410, 'karlheppner': 2411, 'diejenigen': 2412, 'schueler': 2413, 'gelaufen': 2414, 'koerper': 2415, 'aufgebaut': 2416, 'menge': 2417, 'gewinnen': 2418, 'waerst': 2419, 'amis': 2420, 'obama': 2421, '33': 2422, 'lebe': 2423, 'findest': 2424, 'finanzie': 2425, 'getroffen': 2426, 'keiner': 2427, 'pension': 2428, 'kraft': 2429, 'scheinbar': 2430, 'riesen': 2431, 'schoenes': 2432, 'wichtigen': 2433, 'helfer': 2434, 'hungern': 2435, 'staatsbuerger': 2436, 'arabischer': 2437, 'wwf': 2438, 'gebaut': 2439, 'tee': 2440, 'hoechste': 2441, 'meistens': 2442, 'bundeskanzlerin': 2443, 'ruhestand': 2444, 'machte': 2445, 'fremden': 2446, 'schweine': 2447, 'affen': 2448, 'theater': 2449, 'onlinemagazin': 2450, 'ausspricht': 2451, 'daraus': 2452, 'jugendlichen': 2453, 'fneuhann': 2454, 'warnung': 2455, 'widerspricht': 2456, 'unverseh': 2457, 'verlogener': 2458, 'eigentlichen': 2459, 'kontext': 2460, 'hohl': 2461, 'solltet': 2462, 'mitternacht': 2463, 'konrad': 2464, 'adenauer': 2465, 'staerke': 2466, 'erbe': 2467, 'caffier': 2468, 'npd': 2469, 'gesetzgeber': 2470, 'ndr': 2471, 'fressen': 2472, 'ukraine': 2473, 'scheinen': 2474, 'stattfinden': 2475, 'groessenwahn': 2476, 'eid': 2477, 'tazgezwitscher': 2478, '26': 2479, 'durchaus': 2480, 'vernichtet': 2481, 'haessliche': 2482, 'verhandelt': 2483, 'hollstein': 2484, 'albrecht': 2485, 'arm': 2486, 'wohnungen': 2487, 'bieten': 2488, 'ploetzlich': 2489, 'staatsbuergerschaft': 2490, 'eil': 2491, 'jetzige': 2492, 'verjagen': 2493, 'braun': 2494, 'kaempfer': 2495, 'amerikaner': 2496, 'stuttga': 2497, 'nuernberg': 2498, '27': 2499, 'beweisen': 2500, 'energie': 2501, 'erneut': 2502, 'taugen': 2503, '68er': 2504, 'abgetrieben': 2505, 'schlimmsten': 2506, 'calineczka505': 2507, 'kennst': 2508, 'gast': 2509, 'zerstoeren': 2510, 'schiffbruechigen': 2511, 'behinde': 2512, 'heinrichwiechm1': 2513, 'belegen': 2514, 'friedliche': 2515, 'krabatkabat': 2516, 'nichtmal': 2517, 'reissen': 2518, 'rechtzeitig': 2519, 'le': 2520, 'aufgenommen': 2521, 'sachlich': 2522, 'zugrunde': 2523, 'aeusserst': 2524, 'oe': 2525, 'spruch': 2526, 'titel': 2527, 'sondierungsergebnisse': 2528, 'asylbewerber': 2529, 'gruende': 2530, 'argumentation': 2531, 'geloest': 2532, 'gesichter': 2533, 'schaechten': 2534, 'aranxo': 2535, 'hannes': 2536, 'moser': 2537, 'frankyfkp': 2538, 'ermordet': 2539, 'haha': 2540, 'japaner': 2541, 'raketen': 2542, 'kotzgruene': 2543, 'bruehe': 2544, 'traeumt': 2545, 'braeuchte': 2546, 'umgekeh': 2547, 'grossa': 2548, 'prigge': 2549, 'schwimmen': 2550, 'boote': 2551, 'rathaus': 2552, 'strassen': 2553, 'markt': 2554, 'halbe': 2555, 'br': 2556, 'daumen': 2557, 'klaus': 2558, 'tjark': 2559, 'limmer': 2560, 'katholischen': 2561, 'ehemaliger': 2562, 'beobachter': 2563, 'gemeinsam': 2564, 'definieren': 2565, 'recherchieren': 2566, 'weisen': 2567, 'gefueh': 2568, 'betroffen': 2569, 'armut': 2570, 'zwitter': 2571, 'anschliessend': 2572, 'kontrollie': 2573, 'erziehung': 2574, 'achtung': 2575, 'erfahrungen': 2576, 'undenkbar': 2577, 'boeses': 2578, 'fr': 2579, 'beleidigen': 2580, 'gegenposition': 2581, 'urlaub': 2582, 'geistigen': 2583, 'entwicklung': 2584, 'bedarf': 2585, 'stock': 2586, 'regierungsbildung': 2587, 'soziale': 2588, 'gehirnwaesche': 2589, 'einstellung': 2590, 'schlechten': 2591, 'nachfragen': 2592, 'manipulie': 2593, 'aufruf': 2594, 'aergern': 2595, 'loesen': 2596, 'spannend': 2597, 'aussehen': 2598, 'larswinter': 2599, 'roll': 2600, 'ruft': 2601, 'khajiit': 2602, 'hessen': 2603, 'beifall': 2604, 'syrer': 2605, 'verklagt': 2606, 'besucher': 2607, 'sawsan': 2608, 'schaeden': 2609, 'verband': 2610, 'gedacht': 2611, 'bestimmten': 2612, 'uebrigen': 2613, 'andreas': 2614, 'mecklenburg': 2615, 'hoelle': 2616, 'einigkeit': 2617, 'josef': 2618, 'schuster': 2619, 'hasst': 2620, 'barcelona': 2621, 'stoe': 2622, 'geaende': 2623, 'wahlergebnis': 2624, 'ditfu': 2625, 'juncker': 2626, 'demonstrieren': 2627, 'flughafen': 2628, 'erinnerung': 2629, 'dpa': 2630, 'kandel': 2631, 'verlangt': 2632, 'beitritt': 2633, 'beissen': 2634, 'kim': 2635, 'guete': 2636, 'reine': 2637, 'freierdiskurs': 2638, 'gewisse': 2639, 'alternativenrw': 2640, 'freytag': 2641, 'schuldig': 2642, 'queeniepi': 2643, 'regierenden': 2644, 'haufen': 2645, 'herkommt': 2646, 'ausnahme': 2647, 'abstand': 2648, 'basis': 2649, 'derjenige': 2650, 'treibt': 2651, 'jufodigberlin': 2652, 'tagen': 2653, 'hebraeische': 2654, 'tastatur': 2655, 'irgendeiner': 2656, 'schnellstmoeglich': 2657, 'schaukel': 2658, 'gestanden': 2659, 'westerwelle': 2660, 'illegalen': 2661, 'une': 2662, 'raeglich': 2663, 'autos': 2664, 'daten': 2665, 'verbindung': 2666, 'zudem': 2667, 'werbe': 2668, 'benannt': 2669, 'seh': 2670, '300': 2671, 'sohn': 2672, 'befuerwo': 2673, 'zustande': 2674, 'schlawiner2017': 2675, 'einstellen': 2676, 'zaehlen': 2677, 'nachricht': 2678, 'vergangenen': 2679, 'bereicherung': 2680, 'spderneuern': 2681, 'bauen': 2682, 'kirstjeremy': 2683, 'luegenafd': 2684, 'hauen': 2685, 'ge': 2686, 'tuerkischer': 2687, 'kokolores100': 2688, 'patmair1': 2689, 'schonmal': 2690, 'russischen': 2691, 'revolution': 2692, 'islamismus': 2693, 'botschaft': 2694, 'erscheint': 2695, 'marcon': 2696, 'raiminem': 2697, 'grind': 2698, 'jesus': 2699, 'siehst': 2700, 'nicolabeerfdp': 2701, 'irgendwas': 2702, 'eingereiste': 2703, 'gtzfrmming': 2704, 'fuerchtet': 2705, 'fuehrerin': 2706, 'klingt': 2707, 'sozialsysteme': 2708, 'schwarzen': 2709, 'zuvor': 2710, 'nachzulesen': 2711, 'joeygerlach': 2712, 'lesung': 2713, 'monat': 2714, 'spdbt2017': 2715, 'dritten': 2716, 'aha': 2717, 'scheissen': 2718, 'hut': 2719, 'mai': 2720, 'waehlt': 2721, 'kugelschreiber': 2722, 'einig': 2723, 'nick': 2724, 'ossimarzahn': 2725, 'konnten': 2726, 'thread': 2727, 'sack': 2728, 'personal': 2729, 'em': 2730, 'legen': 2731, 'synodalve': 2732, 'geoeffnet': 2733, 'trug': 2734, '1990': 2735, 'show': 2736, 'korrigie': 2737, 'apatzwahl': 2738, 'erwachen': 2739, 'kulturen': 2740, 'morden': 2741, 'name': 2742, 'moegen': 2743, 'kontrolle': 2744, 'geistige': 2745, 'franzchristian8': 2746, 'platiniumray': 2747, 'biegen': 2748, 'beschaemend': 2749, 'inhalte': 2750, 'toter': 2751, 'gnade': 2752, 'veroniquebantau': 2753, 'tinimaus1110': 2754, 'geschuetzten': 2755, 'annewilltalk': 2756, 'apa': 2757, 'hasse': 2758, 'furchtbar': 2759, 'propheten': 2760, 'koerperliche': 2761, 'verstecken': 2762, 'ihnen': 2763, 'aufgabe': 2764, 'persoenliche': 2765, 'bezahlte': 2766, 'gehaelter': 2767, 'jonwo': 2768, 'europaeische': 2769, 'parallel': 2770, 'bad': 2771, 'bekaempft': 2772, 'bestens': 2773, 'regime': 2774, 'winter': 2775, 'woe': 2776, 'hinweg': 2777, 'alhope1': 2778, 'aerge': 2779, 'burka': 2780, 'glueck': 2781, 'fpoe': 2782, 'sozial': 2783, 'drumheadberlin': 2784, 'muschpoke': 2785, 'soli': 2786, 'pflicht': 2787, '22': 2788, 'eddie': 2789, '1412': 2790, 'tuerke': 2791, 'arabien': 2792, 'trulla': 2793, 'bekam': 2794, 'ismailtipi': 2795, 'erforderlich': 2796, 'esse': 2797, 'eingefueh': 2798, 'getrennt': 2799, 'altmaiers': 2800, 'nordkorea': 2801, 'mitgefuehl': 2802, 'populisten': 2803, 'einfachen': 2804, 'loesungen': 2805, 'niederlage': 2806, 'betrachtet': 2807, 'simpla': 2808, 'isr': 2809, 'gutem': 2810, 'statements': 2811, 'mainz': 2812, 'haengen': 2813, 'falsches': 2814, 'petry': 2815, 'bahnhofsklatscher': 2816, 'tatsache': 2817, 'kirchen': 2818, 'grundsaetzlich': 2819, 'live': 2820, 'fans': 2821, 'svbabelsberg03': 2822, 'einwanderung': 2823, 'sammelabschiebung': 2824, 'schweden': 2825, 'nachdem': 2826, 'landesve': 2827, 'stag': 2828, 'truppe': 2829, 'gemeinde': 2830, 'alliie': 2831, 'verraet': 2832, 'alkohol': 2833, 'drin': 2834, 'unfaehigkeit': 2835, 'vollkommen': 2836, 'vorm': 2837, 'gesindel': 2838, 'gelogen': 2839, 'funktionie': 2840, 'mesut': 2841, 'frech': 2842, 'lol': 2843, 'entsorgen': 2844, 'nuetzt': 2845, 'agenda': 2846, 'honecker': 2847, 'entscheidungen': 2848, 'zweite': 2849, 'zauber': 2850, 'dercharlie': 2851, 'unterdrueckung': 2852, 'verletzt': 2853, 'erik': 2854, 'zentrum': 2855, 'unmoeglich': 2856, 'matthias': 2857, 'verstoesst': 2858, 'franziskus': 2859, 'patriotismus': 2860, 'gummigeschossen': 2861, 'eindruck': 2862, 'bundes': 2863, 'kge': 2864, '21': 2865, 'klaren': 2866, 'mittwoch': 2867, 'goreminister': 2868, 'erfahrung': 2869, 'medienpack': 2870, 'loge': 2871, 'republik': 2872, 'lecker': 2873, 'hm': 2874, 'moeglichkeiten': 2875, 'klappe': 2876, 'lkw': 2877, 'musst': 2878, 'vater': 2879, 'anhaenger': 2880, 'totschlag': 2881, 'ch': 2882, 'pruefen': 2883, 'rassistischen': 2884, 'lehrer': 2885, 'feier': 2886, 'gelder': 2887, 'uebt': 2888, 'witz': 2889, 'gang': 2890, 'aegypten': 2891, 'hohlkoepfe': 2892, 'mitbekommen': 2893, 'angesichts': 2894, 'existieren': 2895, 'huffpostde': 2896, 'sendung': 2897, 'offenbar': 2898, 'seitdem': 2899, 'zmd': 2900, 'bezeichnung': 2901, 'ueberforde': 2902, 'menschenrechte': 2903, 'brueder': 2904, 'islamist': 2905, 'achja': 2906, 'fuers': 2907, 'haare': 2908, 'gesucht': 2909, 'goebbels': 2910, 'prothesen': 2911, 'germany': 2912, 'onkeljakob': 2913, 'ironie': 2914, 'aussen': 2915, 'dingen': 2916, 'wirkung': 2917, 'verwaltet': 2918, 'anette': 2919, 'fassen': 2920, 'einsetzt': 2921, 'aberfair': 2922, 'erhaelt': 2923, 'job': 2924, 'mark': 2925, 'schicke': 2926, 'anschauen': 2927, 'lehnt': 2928, 'begriffen': 2929, 'dolmetscher': 2930, 'treu': 2931, 'kittypunk7': 2932, 'pol': 2933, 'bescheissen': 2934, 'vernuenftig': 2935, 'heilige': 2936, 'heike': 2937, 'bewiesen': 2938, 'klauen': 2939, 'kratzer': 2940, 'klassen': 2941, 'meinungsaeusserung': 2942, 'einzig': 2943, 'taetern': 2944, 'gebliebene': 2945, 'oeffentlichkeit': 2946, 'birne': 2947, 'volke': 2948, 'gewoehnen': 2949, 'gedenkfeier': 2950, 'aussenminister': 2951, 'schwule': 2952, 'beruf': 2953, 'lebst': 2954, 'eingestellt': 2955, 'kaliber': 2956, 'indersee': 2957, 'greift': 2958, '1895': 2959, 'lebenden': 2960, 'schliesst': 2961, 'tolles': 2962, 'vorgibt': 2963, 'bekannten': 2964, 'texte': 2965, 'verdammte': 2966, 'traumatisie': 2967, 'arzt': 2968, 'unte': 2969, 'einkaufen': 2970, 'ohren': 2971, 'gegner': 2972, 'igen': 2973, 'net': 2974, 'kontinent': 2975, 'regelung': 2976, 'vie': 2977, 'absicht': 2978, 'caro22one': 2979, 'dieses': 2980, 'anwalt': 2981, 'loehne': 2982, 'auslaendische': 2983, 'stattfindet': 2984, 'bande': 2985, 'aschentonne': 2986, 'antifas': 2987, 'blockiere': 2988, 'jungs': 2989, 'chebli': 2990, 'runter': 2991, 'erkennbar': 2992, 'geschlossen': 2993, 'beschaeftigen': 2994, 'hau': 2995, 'wetter': 2996, 'foj45360104': 2997, 'cent': 2998, 'denn': 2999, 'versagt': 3000, 'nem': 3001, 'tusk': 3002, 'auftritt': 3003, 'liste': 3004, 'fanatiker': 3005, 'gefahren': 3006, 'annehmen': 3007, 'unfaehige': 3008, 'dominique': 3009, 'oster': 3010, 'meist': 3011, 'sah': 3012, 'himmel': 3013, 'dauernd': 3014, 'vulgaere': 3015, 'hackt': 3016, 'buecher': 3017, 'muehe': 3018, 'aemtern': 3019, 'akzeptieren': 3020, 'irgendetwas': 3021, 'gruselig': 3022, 'juristisch': 3023, 'gefaehrlicher': 3024, 'swraktuell': 3025, 'besetzt': 3026, 'chteffie': 3027, 'reten': 3028, 'messer': 3029, 'dietmar': 3030, 'schmutz': 3031, 'geblockt': 3032, 'verbrennt': 3033, 'versuch': 3034, 'gras': 3035, 'wg': 3036, 'zentralrat': 3037, 'mdrkultur': 3038, 'sondierungsgespraechen': 3039, 'manchester': 3040, 'hautfarbe': 3041, 'kunst': 3042, 'italiener': 3043, 'krim': 3044, 'verrat': 3045, 'stell': 3046, 'arschloecher': 3047, 'liest': 3048, 'bereich': 3049, 'co2': 3050, 'zeug': 3051, 'petrus': 3052, 'negativ': 3053, 'schweren': 3054, 'majak': 3055, 'dahin': 3056, 'vespasianus69bc': 3057, 'no': 3058, 'staatsfunk': 3059, 'hedrich': 3060, 'promis': 3061, 'uebliche': 3062, 'schiesst': 3063, 'nimmer': 3064, 'neulich': 3065, 'leaks': 3066, 'wiedervereinigung': 3067, 'interessante': 3068, 'flucht': 3069, 'lars9596': 3070, 'hatten': 3071, 'voss': 3072, 'fgabrieleu': 3073, 'einreisen': 3074, 'erobe': 3075, 'kard': 3076, 'beleidigungen': 3077, 'kuenast': 3078, 'regel': 3079, 'erwaehnen': 3080, 'schrecklichen': 3081, 'wohlstand': 3082, 'boden': 3083, 'verweige': 3084, 'juenger': 3085, 'ausgedrueckt': 3086, 'robinalexander': 3087, 'min': 3088, 'patriarchator': 3089, 'fazit': 3090, 'shithole': 3091, 'to': 3092, 'or': 3093, 'wofuer': 3094, 'form': 3095, 'nahen': 3096, 'ex': 3097, 'genossen': 3098, 'daue': 3099, 'arrogant': 3100, 'einfacher': 3101, 'hamster': 3102, 'in28a': 3103, 'ahrens': 3104, 'subs': 3105, 'hr': 3106, 'jayxthexhuman': 3107, 'wirkt': 3108, 'vermeh': 3109, 'digitalisierung': 3110, 'wohnen': 3111, 'souveraenitaet': 3112, 'niederlande': 3113, 'ausweisen': 3114, 'finanzieren': 3115, 'ablegen': 3116, 'nochmals': 3117, 'dieselgipfel': 3118, 'reduzieren': 3119, 'sauber': 3120, 'nachvollziehbar': 3121, 'sollst': 3122, 'stephanjbauer': 3123, 'einsammeln': 3124, 'israelischen': 3125, 'dokumentation': 3126, 'gedreht': 3127, 'dadurch': 3128, 'unsere': 3129, 'abgeschaltet': 3130, 'natur': 3131, 'schaemt': 3132, 'konstruktive': 3133, 'uwe': 3134, 'mdl': 3135, 'lernte': 3136, 'praxis': 3137, 'beweist': 3138, 'ewig': 3139, 'verkehr': 3140, 'begehen': 3141, 'weltmeister': 3142, 'aufarbeitung': 3143, 'pfeifen': 3144, 'helfershelfer': 3145, 'infotweet': 3146, 'inarenner': 3147, 'fluten': 3148, 'bla': 3149, 'erkenntnis': 3150, '87prozent': 3151, 'stoeren': 3152, 'kinderga': 3153, 'ggf': 3154, 'abgestimmt': 3155, 'ruecksichtslose': 3156, 'cuffedcatling': 3157, 'willy': 3158, 'gratuliere': 3159, 'bundestagspraesident': 3160, 'lamme': 3161, 'ekelhafte': 3162, 'engagement': 3163, 'burkhardewe': 3164, 'wm': 3165, 'besuchen': 3166, 'geplante': 3167, 'dom': 3168, 'schlimme': 3169, 'lippen': 3170, 'bekenntnis': 3171, 'belangen': 3172, 'newsletter': 3173, 'netanyahu': 3174, 'modus': 3175, 'andre': 3176, 'erwacht': 3177, 'meinte': 3178, 'fangen': 3179, 'stuhl': 3180, 'pervers': 3181, 'gerichte': 3182, 'wagenknecht': 3183, 'trittin': 3184, 'subjekte': 3185, 'systems': 3186, 'fluechtlings': 3187, 'dritte': 3188, 'ganztaegig': 3189, 'konzentrie': 3190, 'teilweise': 3191, 'vereinba': 3192, 'schnauze': 3193, 'vereinigung': 3194, 'hotnakedlove': 3195, 'gl': 3196, 'owwyrm': 3197, 'genkuchen': 3198, 'tenreccc': 3199, 'magda': 3200, 'wetten': 3201, 'btsmeier': 3202, 'differenzieren': 3203, 'internationale': 3204, 'antideutsch': 3205, 'yorck': 3206, 'sinnvoll': 3207, 'staatsanwaltschaft': 3208, 'selbstbestimmung': 3209, 'nationalstaaten': 3210, 'richten': 3211, 'vergleichen': 3212, 'atheisten': 3213, 'aufklaerung': 3214, 'schweizerguy': 3215, 'obermeier': 3216, 'kerzen': 3217, 'stephanstaiger': 3218, 'woanders': 3219, 'faeh': 3220, 'skybirdphoenix': 3221, 'metronom': 3222, 'philosemitismus': 3223, 'al3x': 3224, 'predigen': 3225, 'anspruch': 3226, 'andreasleu1': 3227, 'verwehren': 3228, 'handy': 3229, 'kaempft': 3230, 'finanzminister': 3231, 'ueb': 3232, 'ufhoven': 3233, 'jreichelt': 3234, 'fuehle': 3235, 'versprechen': 3236, 'weiteren': 3237, 'katja': 3238, 'kratzen': 3239, 'zuwanderung': 3240, 'kette': 3241, 'traeume': 3242, 'scheisser': 3243, 'buergerkrieg': 3244, 'ernsthaft': 3245, 'sifftwitter': 3246, 'inkl': 3247, 'shop': 3248, 'auskennt': 3249, 'demonstrie': 3250, 'gebannt': 3251, 'gaeste': 3252, 'saschaulbrich': 3253, 'sonder': 3254, 'flchtlngwllkmmn': 3255, 'umsetzen': 3256, 'dirkhafermann': 3257, 'journalist': 3258, 'werd': 3259, 'antisem': 3260, 'bergab': 3261, 'aufforderung': 3262, 'hohle': 3263, 'franzandes45': 3264, 'clinton': 3265, 'nazizeit': 3266, 'owslanderufo': 3267, 'hoffnungslos': 3268, 'radio': 3269, 'roemer': 3270, 'trommler69': 3271, 'beschneidung': 3272, 'dese': 3273, 'fliegen': 3274, 'versicke': 3275, 'anderen': 3276, 'sager': 3277, 'haeuser': 3278, 'klausgunk': 3279, 'voraus': 3280, 'anhohx': 3281, 'verkommen': 3282, 'holgerscherer': 3283, 'geschlagen': 3284, 'schnee': 3285, 'fliehen': 3286, 'sebwan1': 3287, 'regelt': 3288, 'berufspolitiker': 3289, 'nahmen': 3290, 'unfall': 3291, 'cuxhaven': 3292, 'geglaubt': 3293, 'steuergelder': 3294, 'infrastruktur': 3295, 'munter': 3296, 'seele': 3297, 'karina': 3298, 'vogel': 3299, 'zweimal': 3300, 'ueberfluessige': 3301, 'abschaffung': 3302, 'verhandeln': 3303, 'hashtag': 3304, 'demokratische': 3305, 'sanktionen': 3306, 'jagt': 3307, 'bsp': 3308, 'wozu': 3309, 'aktuelle': 3310, 'ohrfeigen': 3311, 'assad': 3312, 'minderheiten': 3313, 'genfer': 3314, 'denkst': 3315, 'innenminister': 3316, '1683': 3317, 'spuren': 3318, 'tust': 3319, 'mohammed': 3320, 'haende': 3321, 'fahne': 3322, 'schmeisst': 3323, 'feindbild': 3324, 'besseres': 3325, 'afdkoeln': 3326, 'demonstration': 3327, 'jeanvansta': 3328, 'ums': 3329, 'studio': 3330, 'gegenseite': 3331, 'integrationsforum': 3332, 'dbbforum': 3333, 'berndfachinsson': 3334, 'staatlich': 3335, 'igkeit': 3336, 'son': 3337, 'ignorieren': 3338, 'erstatten': 3339, 'ansehen': 3340, 'mangott': 3341, 'wahlkampf': 3342, 'kampagne': 3343, 'shoppen': 3344, 'draussen': 3345, 'sos': 3346, 'europe': 3347, 'luegenbande': 3348, 'motikat': 3349, 'einzusteigen': 3350, 'kalt': 3351, 'afdfraktionagh': 3352, 'staedten': 3353, 'erstes': 3354, 'och': 3355, 'bunten': 3356, 'dirkderkaiser': 3357, 'saekularer': 3358, 'geschuetzt': 3359, 'taten': 3360, 'strategie': 3361, 'diesjaehrige': 3362, 'dumpfbacken': 3363, 'on': 3364, 'traut': 3365, 'zur': 3366, 'snoopysbrain': 3367, '1netzrepo': 3368, 'peppermind': 3369, 'hassen': 3370, 'region': 3371, 'au': 3372, 'bitten': 3373, 'wollte': 3374, 'vorstellen': 3375, 'bluten': 3376, 'verbrannt': 3377, 'drastisch': 3378, 'loswerden': 3379, 'beobachte': 3380, 'jahres': 3381, 'baetschi': 3382, 'stopfen': 3383, 'voran': 3384, 'anlage': 3385, 'aksynode': 3386, 'cicero': 3387, 'zweck': 3388, 'wuenscht': 3389, 'getwitte': 3390, 'bekennen': 3391, 'bestehen': 3392, 'silvester': 3393, 'umgang': 3394, 'moeglichen': 3395, 'achimspiegel': 3396, 'sigmar': 3397, 'amerikanische': 3398, 'dfakenews': 3399, 'haesslich': 3400, 'nachzug': 3401, 'gezogen': 3402, '1949': 3403, 'anstieg': 3404, 'minderheit': 3405, 'sexuelle': 3406, 'tauber': 3407, 'menschenwuerde': 3408, 'ami': 3409, 'aufhalten': 3410, 'kuenftig': 3411, 'schleunigst': 3412, 'germonney': 3413, 'denis': 3414, 'oeffnung': 3415, 'beleidigend': 3416, 'unterkunft': 3417, 'sozialtouristen': 3418, 'bittere': 3419, 'schluessel': 3420, 'andersdenkender': 3421, 'odenwaelderin': 3422, 'kommentieren': 3423, '1700': 3424, 'monate': 3425, 'angie': 3426, 'renatekuenast': 3427, 'oliver': 3428, 'leisten': 3429, 'mahnmal': 3430, 'anrecht': 3431, 'fckafd': 3432, 'inhalt': 3433, 'schuss': 3434, 'imam': 3435, 'abgewi': 3436, 'meck': 3437, 'pomm': 3438, 'and': 3439, 'heil': 3440, 'segen': 3441, 'gelobet': 3442, 'verdanken': 3443, 'nachher': 3444, 'waer': 3445, 'carlascheytt': 3446, 'jutta': 3447, 'benennen': 3448, 'rechtsextremismus': 3449, 'skepsis': 3450, 'auffassung': 3451, 'hingegen': 3452, 'differenzie': 3453, 'begonnen': 3454, 'bewaffnet': 3455, 'lupenreinen': 3456, 'sympathisanten': 3457, 'halbneger': 3458, 'sat1': 3459, 'mittelpunkt': 3460, 'doppelmoral': 3461, 'derweil': 3462, 'votum': 3463, 'schei': 3464, 'osteuropa': 3465, 'freizeitrobin': 3466, 'haettest': 3467, 'stehe': 3468, 'gemessen': 3469, 'unterhalten': 3470, 'angeboten': 3471, 'bruecke': 3472, 'kuehe': 3473, 'systemmedien': 3474, 'klimawandel': 3475, 'unwuerdiger': 3476, 'quellen': 3477, 'haft': 3478, 'aufgehts100': 3479, 'birdie51411736': 3480, 'vorgegeben': 3481, 'strop': 3482, 'wow': 3483, 'regierungen': 3484, 'kranzmarkus': 3485, 'karlsruhe': 3486, 'berghueserfritz': 3487, 'emmanuelmacron': 3488, 'gefangenen': 3489, 'rauten': 3490, 'boehmermann': 3491, 'duerft': 3492, 'kalten': 3493, 'getrieben': 3494, 'wach': 3495, 'finnland': 3496, 'schroeder': 3497, 'verbesserungen': 3498, 'oefter': 3499, 'pflaster': 3500, 'irren': 3501, 'coffee': 3502, 'luna': 3503, 'waltrautdunz': 3504, 'irgendwo': 3505, 'gewuenscht': 3506, 'einreden': 3507, 'gerufen': 3508, 'buntland': 3509, 'osb': 3510, 'donnerstag': 3511, 'tragt': 3512, 'lichtes': 3513, 'gerd': 3514, 'heutejournal': 3515, 'linksradikalen': 3516, 'einwanderer': 3517, 'schadet': 3518, 'ecke': 3519, 'schulabbrecher': 3520, 'sieg': 3521, '2020': 3522, 'analysieren': 3523, 'darfst': 3524, 'm0ntico83': 3525, 'yep': 3526, 'vmedick': 3527, '3000': 3528, 'ungewoehnlich': 3529, 'beschimpfen': 3530, 'ranzmann': 3531, 'verachtung': 3532, 'schuldige': 3533, 'eckardt': 3534, 'kot': 3535, 'davor': 3536, 'kaputt': 3537, 'nachfolger': 3538, 'speichellecker': 3539, 'ueberwiegend': 3540, 'schuetzt': 3541, 'psychisch': 3542, 'kranke': 3543, 'erdowahn': 3544, 'heiseonline': 3545, 'deutschpi': 3546, 'verfassungsbeschwerde': 3547, 'wenden': 3548, 'flintenuschi': 3549, 'berlinerzeitung': 3550, 'schenken': 3551, 'ausbildung': 3552, 'traegt': 3553, 'poggenburg': 3554, 'einzelne': 3555, 'gemaess': 3556, 'beruhigen': 3557, 'demenz': 3558, 'zivilcourage': 3559, 'feigling': 3560, 'at': 3561, 'dorf': 3562, 'visioneurope': 3563, 'walter': 3564, 'forderungen': 3565, 'nationalismus': 3566, 'brenner': 3567, 'bildet': 3568, 'betrifft': 3569, 'wunderbar': 3570, 'verbloedung': 3571, 'terroristischen': 3572, 'gemeinschaft': 3573, 'unkontrollie': 3574, 'absoluter': 3575, 'kapital': 3576, 'volksve': 3577, 'woxl0r': 3578, 'bethel': 3579, 'stellungnahme': 3580, 'beliebt': 3581, 'empfehlen': 3582, 'dollar': 3583, 'gesorgt': 3584, 'unverantwo': 3585, 'zieh': 3586, 'gefluechteten': 3587, 'elend': 3588, 'verzichten': 3589, 'angesprochen': 3590, 'unterworfen': 3591, 'mareike': 3592, 'gespraech': 3593, 'jederzeit': 3594, 'antun': 3595, 'heidstaat': 3596, 'benennt': 3597, 'zer': 3598, 'heit': 3599, 'getreten': 3600, 'friede': 3601, 'aposener': 3602, 'zwang': 3603, 'kotz': 3604, 'angriffe': 3605, 'faule': 3606, 'feststellen': 3607, 'nachgewiesen': 3608, 'praktisch': 3609, 'generationen': 3610, '220': 3611, 'noeoeoe': 3612, 'flasche': 3613, 'nachtschicht': 3614, 'spitze': 3615, 'rahmen': 3616, 'kannste': 3617, 'seenplatte': 3618, 'heuteshow': 3619, 'zeitungen': 3620, 'nationalitaet': 3621, 'akte': 3622, 'firma': 3623, 'fluechtlingspolitik': 3624, 'brav': 3625, 'datum': 3626, 'absitzen': 3627, 'bezahle': 3628, 'saudi': 3629, 'erfunden': 3630, 'renten': 3631, 'einbezahlt': 3632, 'albtraum': 3633, 'fdj': 3634, 'statement': 3635, 'umfrage': 3636, 'rechtspopulisten': 3637, 'lautet': 3638, 'fraukepetry': 3639, '123lenchen': 3640, 'betreiben': 3641, 'tonihofreiter': 3642, 'ausdruck': 3643, 'klatschen': 3644, 'wessen': 3645, 'erkennt': 3646, 'gespendet': 3647, 'myanmar': 3648, 'dreckspack': 3649, 'aufgerufen': 3650, 'geklae': 3651, 'muelleimer': 3652, 'neutral': 3653, 'rechnungspruefer': 3654, 'bistumssynode': 3655, 'unesco': 3656, 'zorn': 3657, 'ardmoma': 3658, 'stein': 3659, 'zuviele': 3660, 'aehnlich': 3661, 'freigelassen': 3662, 'labe': 3663, 'duckmaeuser': 3664, 'ko': 3665, 'gewinnt': 3666, 'verraeter': 3667, 'volkspa': 3668, 'raum': 3669, 'ihm': 3670, 'krieger': 3671, 'boykottieren': 3672, 'burkas': 3673, 'berufung': 3674, 'aufgehoben': 3675, 'identitaeten': 3676, 'juli': 3677, 'bayerischen': 3678, 'hey': 3679, 'heiligen': 3680, 'larsklingbeil': 3681, 'senden': 3682, 'fischer': 3683, 'betruegen': 3684, 'btw': 3685, 'grundgesetzes': 3686, 'merke': 3687, 'gewaehlten': 3688, 'geboten': 3689, 'jorg': 3690, 'gewarnt': 3691, 'oeffentliche': 3692, 'irrelevant': 3693, 'staatsmedien': 3694, 'vorbereitet': 3695, 'reise': 3696, 'zitie': 3697, 'soros': 3698, 'zufaellig': 3699, 'yigidoyosi58': 3700, 'dusselige': 3701, 'ronaiveromaus': 3702, 'anatolien': 3703, 'unternehmen': 3704, 'spdbpt18': 3705, 'forum': 3706, 'sekte': 3707, 'sogenannter': 3708, 'erstens': 3709, 'zweitens': 3710, 'sauerei': 3711, 'topnews': 3712, 'bloedsinn': 3713, 'freien': 3714, 'stern': 3715, 'gehalten': 3716, 'schaftsfluechtlinge': 3717, 'meter': 3718, 'nationalen': 3719, 'ergebnisse': 3720, 'einzelnen': 3721, 're': 3722, 'renetruninger': 3723, 'zeitpunkt': 3724, 'zweiten': 3725, 'cholera': 3726, 'asylantrag': 3727, 'rvrsapachemastr': 3728, 'wohnung': 3729, 'mob': 3730, 'gestoe': 3731, 'nachbarin': 3732, 'dame': 3733, 'negohotshlomo': 3734, 'ineslandmann': 3735, 'populismus': 3736, 'hauptsaechlich': 3737, 'gegenteilige': 3738, 'dulden': 3739, 'hochverrat': 3740, 'nah': 3741, 'bt': 3742, 'dreht': 3743, 'gender': 3744, 'baf': 3745, 'regierungsfaehig': 3746, 'den': 3747, 'sexismus': 3748, 'feuer': 3749, 'bezieht': 3750, 'gegruendet': 3751, 'reaktion': 3752, 'gespannt': 3753, 'pruefung': 3754, 'teurer': 3755, 'investitionen': 3756, 'ueberdenken': 3757, 'typen': 3758, 'allerletzte': 3759, 'omichalsky': 3760, 'daneben': 3761, 'ebony': 3762, 'sunrise': 3763, 'wisst': 3764, 'moechten': 3765, 'gefeie': 3766, 'genehmigt': 3767, 'logo': 3768, 'beratung': 3769, 'bestand': 3770, 'stammt': 3771, 'refomie': 3772, 'extrem': 3773, 'kulturellen': 3774, 'aeussern': 3775, 'mein': 3776, 'ausnahmen': 3777, 'fett': 3778, 'geraucht': 3779, 'konferenz': 3780, 'formulieren': 3781, 'fand': 3782, 'manipulation': 3783, 'furchtbare': 3784, 'kar98': 3785, 'dfw': 3786, 'raege': 3787, 'religioes': 3788, 'fbluecher': 3789, 'verfluchte': 3790, 'schillhaneck': 3791, 'blut': 3792, 'aeltere': 3793, 'japan': 3794, 'langer': 3795, 'nationalhymne': 3796, 'mexiko': 3797, 'widerliche': 3798, 'skandal': 3799, 'refugee': 3800, 'rohollah': 3801, 'taetig': 3802, 'verkennen': 3803, 'inneren': 3804, 'traumdiebe': 3805, 'beziehungen': 3806, 'harald70199': 3807, 'gedanke': 3808, 'woechentlich': 3809, 'parallelgesellschaften': 3810, 'magazin': 3811, 'wahlsystem': 3812, 'trage': 3813, 'tradition': 3814, 'notfalls': 3815, 'traeger': 3816, 'libelle2000r': 3817, 'mathias': 3818, 'klappt': 3819, 'betrachte': 3820, 'joausdo': 3821, 'nationalsozialismus': 3822, 'umve': 3823, 'antideutsche': 3824, 'eikonferenz': 3825, 'neumuenster': 3826, 'staats': 3827, 'eidiger': 3828, 'silvesternacht': 3829, 'merkwuerdig': 3830, 'langjaehriges': 3831, 'shuttleservice': 3832, 'mehrheitlich': 3833, 'immerhin': 3834, 'epanastatis04': 3835, 'terrorismus': 3836, 'ypsilon': 3837, 'buehne': 3838, 'einfachafdwaehlen': 3839, 'bekomme': 3840, 'keller': 3841, 'dueker': 3842, 'kacktus2010': 3843, 'vorsicht': 3844, 'definie': 3845, 'schiffe': 3846, 'belohnen': 3847, 'kommtmituns': 3848, 'einfluss': 3849, 'kenntnisse': 3850, 'veroeffentlichen': 3851, 'thomaslauer10': 3852, 'bayrische': 3853, 'nichtkonformist': 3854, 'blind': 3855, 'washington': 3856, 'fetter': 3857, 'sau': 3858, 'jude': 3859, 'webde': 3860, 'bloedes': 3861, '28': 3862, 'listen': 3863, 'vorbereitung': 3864, 'duerfte': 3865, 'dickes': 3866, 'bundesweit': 3867, 'bitter': 3868, 'nerschaft': 3869, 'gauinator': 3870, 'megatwingo': 3871, 'glatt': 3872, 'nerven': 3873, 'verzweiflung': 3874, 'snoopy92': 3875, 'kapitel': 3876, 'alfredoihl': 3877, 'interpretation': 3878, 'raub': 3879, 'drueber': 3880, 'birnen': 3881, 'verbrechern': 3882, 'massnahmen': 3883, 'aufzwingen': 3884, 'mussten': 3885, 'islamkritiker': 3886, 'kenntnis': 3887, 'vernuenftige': 3888, 'verbrennen': 3889, 'bescheid': 3890, 'foerdern': 3891, '150': 3892, 'haefen': 3893, 'rekord': 3894, 'glasenapphenrik': 3895, 'laien': 3896, 'nachbarschaft': 3897, 'kohle': 3898, 'verschleie': 3899, 'freiem': 3900, 'formulie': 3901, 'empoerung': 3902, 'schliesslich': 3903, 'freies': 3904, 'studiere': 3905, 'quelle': 3906, 'vs': 3907, '40er': 3908, 'privileg': 3909, '2000': 3910, 'friedlich': 3911, 'werdenden': 3912, 'genderwahn': 3913, 'keoma58': 3914, 'hungrig': 3915, 'jankalkbrenner': 3916, 'gottseidank': 3917, 'atatuerk': 3918, 'stich': 3919, 'zuhause': 3920, 'mica4711': 3921, 'raz': 3922, 'waehle': 3923, 'naiven': 3924, 'jost2018': 3925, 'reiner': 3926, 'knall': 3927, 'minderjaehrige': 3928, 'wusste': 3929, 'vollspacken': 3930, 'negatives': 3931, 'hebraeischen': 3932, 'massstab': 3933, 'fenster': 3934, 'gestalten': 3935, 'politikstube': 3936, 'neuhinzugekommenen': 3937, 'vong': 3938, 'gift': 3939, 'unkraut': 3940, 'dm': 3941, 'see': 3942, 'inez': 3943, 'aust': 3944, 'imriziv': 3945, 'bigreiner': 3946, 'ursula': 3947, 'andreaschlegel3': 3948, 'moeglichst': 3949, 'made': 3950, 'mdraktuell': 3951, 'verpasst': 3952, 'machst': 3953, 'erzogen': 3954, 'impulse': 3955, 'gespraeche': 3956, 'gebt': 3957, 'rueckreise': 3958, 'lach': 3959, 'loest': 3960, 'chef': 3961, 'moderatoren': 3962, 'gauweiler': 3963, 'anal': 3964, 'russ': 3965, 'sepiroth1986': 3966, 'arbeitslager': 3967, 'schwierigkeiten': 3968, 'weitaus': 3969, 'uni': 3970, 'antidemokraten': 3971, 'patriot': 3972, 'preise': 3973, 'paedophile': 3974, 'empoe': 3975, 'kriecht': 3976, 'provokation': 3977, 'linie': 3978, 'wehe': 3979, 'landet': 3980, 'antarotv': 3981, 'genehmigung': 3982, 'allgemeinbildung': 3983, 'neonazi': 3984, 'morgens': 3985, 'brut': 3986, 'gelassen': 3987, 'steiblbarbara': 3988, 'umdrehen': 3989, 'demnaechst': 3990, 'verfuegung': 3991, 'hovelshorst': 3992, 'selten': 3993, 'zustand': 3994, 'schutzstatus': 3995, 'untergetaucht': 3996, 'heinzegly': 3997, 'wolle': 3998, 'bewegung': 3999, 'mueller': 4000, '99': 4001, 'normale': 4002, 'kraehe': 4003, 'termin': 4004, 'ice': 4005, 'gemeiner': 4006, 'fehlanzeige': 4007, 'schweinejournalisten': 4008, 'gewaehlte': 4009, 'grenzenlos': 4010, 'ehemalige': 4011, '55': 4012, 'schwanz': 4013, 'extremismus': 4014, 'pfr': 4015, 'angewiesen': 4016, 'bundestagswahl': 4017, 'ba': 4018, 'melli': 4019, 'wandern': 4020, 'marokko': 4021, 'einzusetzen': 4022, 'angegriffen': 4023, 'absolute': 4024, 'eintrag': 4025, 'definition': 4026, 'kroete': 4027, 'manuelaschwesig': 4028, 'kollektiv': 4029, 'nahezu': 4030, 'guelle': 4031, 'fragte': 4032, 'geniessen': 4033, 'kauf': 4034, 'gewinnerin': 4035, 'plus': 4036, 'bento': 4037, 'wurst': 4038, 'vereidigung': 4039, 'durchzusetzen': 4040, 'durchsetzen': 4041, 'behandelt': 4042, 'fleisch': 4043, 'wirft': 4044, 'diktaturen': 4045, 'schlaf': 4046, 'verarscht': 4047, 'mandat': 4048, 'ehem': 4049, 'eigentliche': 4050, 'aufregung': 4051, 'age': 4052, 'stroemen': 4053, 'hmm': 4054, 'summe': 4055, 'evangelisch': 4056, 'masse': 4057, 'neger': 4058, 'terrorist': 4059, 'zerstoerung': 4060, 'nachts': 4061, 'unterwegs': 4062, 'besserung': 4063, 'pube': 4064, 'ierende': 4065, 'hatespeech': 4066, 'tantegerd1': 4067, '1963': 4068, 'irsn': 4069, 'glaubens': 4070, 'identitaere': 4071, 'verkauf': 4072, 'angeblichen': 4073, 'enttaeuschen': 4074, 'ngos': 4075, 'errichten': 4076, 'teilnehmer': 4077, 'nette': 4078, 'herren': 4079, 'jung': 4080, 'wenigsten': 4081, 'verzweifelt': 4082, 'sucht': 4083, 'fruehling': 4084, 'ueberlebt': 4085, 'kuerze': 4086, 'jissacharoff': 4087, 'bingowist': 4088, 'christliche': 4089, 'hirne': 4090, 'gegensatz': 4091, 'atadic13': 4092, 'bremen': 4093, 'patrioten': 4094, 'fass': 4095, 'naechster': 4096, 'heike891': 4097, 'verspricht': 4098, 'spannenden': 4099, 'sbunners': 4100, 'bln': 4101, 'situationen': 4102, 'bekenntnisses': 4103, 'moderne': 4104, 'ralfpflug': 4105, 'intensive': 4106, 'beraten': 4107, 'geraet': 4108, 'salzmanufaktur': 4109, 'geschossen': 4110, 'uli': 4111, 'aufgefallen': 4112, 'volle': 4113, 'gruessen': 4114, 'glaubst': 4115, 'gefasst': 4116, 'terrors': 4117, 'mama': 4118, 'birgit': 4119, 'kelle': 4120, 'erleben': 4121, '07': 4122, 'verharmlost': 4123, 'national': 4124, 'bedeutung': 4125, 'gesta': 4126, 'entsteht': 4127, 'operation': 4128, 'messe': 4129, 'entwirklichung': 4130, 'gernot': 4131, 'tagesthemen': 4132, 'ii': 4133, 'voelkermord': 4134, 'unterzeichnet': 4135, 'komme': 4136, 'griechenland': 4137, 'minuten': 4138, 'goes': 4139, 'tollen': 4140, 'image': 4141, 'erfahren': 4142, 'mauermoerder': 4143, 'volksfahrraeder': 4144, 'jensspahn': 4145, 'obdachlose': 4146, 'konzept': 4147, 'bahnhof': 4148, 'scholz': 4149, 'meine': 4150, 'cia': 4151, 'vermissen': 4152, 'welcome': 4153, 'erfolge': 4154, 'passau': 4155, 'blumen': 4156, 'schlicht': 4157, 'geisteskrank': 4158, 'zusaetzliche': 4159, 'komossa': 4160, 'aktivitaeten': 4161, 'rutsch': 4162, 'petryficker': 4163, 'strauss': 4164, 'nd': 4165, 'afghanen': 4166, 'buergern': 4167, 'vzsaar': 4168, 'nachfrage': 4169, 'billige': 4170, 'politisches': 4171, 'angebliche': 4172, 'jammern': 4173, 'auffallend': 4174, 'hinzufuegen': 4175, 'angelegenheiten': 4176, 'drbrandner': 4177, 'trauern': 4178, 'kerze': 4179, 'dezember': 4180, 'kollegen': 4181, 'hochkonjunktur': 4182, 'begibt': 4183, 'darin': 4184, 'kiste': 4185, 'gipfel': 4186, 'erlebt': 4187, 'diese': 4188, 'xx7nitro1xx': 4189, 'regen': 4190, 'untergehen': 4191, 'amtsuebergabe': 4192, 'bullshit': 4193, 'lenken': 4194, 'ueberheblich': 4195, 'zwingend': 4196, 'esel': 4197, 'akzeptabel': 4198, 'brauchte': 4199, 'ziele': 4200, 'aufschrei': 4201, 'wmuhsal': 4202, 'duemmste': 4203, 'wissenschaftler': 4204, 'thueringen': 4205, 'vorsitzende': 4206, 'hoeher': 4207, 'vorgestellt': 4208, 'wurmreiter': 4209, 'steh': 4210, 'lovingawarenes': 4211, 'angriff': 4212, 'angenommen': 4213, 'such': 4214, 'abos': 4215, 'seien': 4216, 'katze': 4217, 'priester': 4218, 'kerl': 4219, 'mdr': 4220, 'corinnamilborn': 4221, 'missverstaendlich': 4222, 'sachleistungen': 4223, 'schoensten': 4224, 'versenkung': 4225, 'dirki': 4226, 'geschuetzte': 4227, 'vergleich': 4228, 'bemueht': 4229, 'unklar': 4230, 'halbwahrheiten': 4231, 'billigen': 4232, 'aufhoe': 4233, 'verzichte': 4234, 'veraenderungen': 4235, 'pflege': 4236, 'schlussfolgerungen': 4237, 'schamlos': 4238, 'dietmarba': 4239, 'morgige': 4240, 'mogelpackung': 4241, 'festgehalten': 4242, 'transparent': 4243, 'grabe': 4244, 'getragen': 4245, 'beliebigkeit': 4246, 'schwaetzer': 4247, 'fremd': 4248, 'gedenkt': 4249, 'steigt': 4250, 'kohleausstieg': 4251, 'atomenergie': 4252, 'lgjohnsilver': 4253, 'deppen': 4254, 'poschuetzge': 4255, 'schuldgefuehlen': 4256, 'carolin94815291': 4257, 'monikabergholz2': 4258, 'nunmal': 4259, 'ueberbezahlten': 4260, 'ueben': 4261, 'maennern': 4262, 'suren': 4263, 'wider': 4264, 'sicheres': 4265, 'waschlappen': 4266, 'polnischen': 4267, 'strafrechtlich': 4268, 'dokumentie': 4269, 'verlogenes': 4270, 'miststueck': 4271, 'angreift': 4272, 'polizist': 4273, 'austreten': 4274, 'politischer': 4275, 'erschien': 4276, 'community': 4277, 'klarer': 4278, 'gruenes': 4279, 'heimischen': 4280, 'weltklasse': 4281, 'fuelle': 4282, 'nummer': 4283, 'katholik': 4284, 'felsenfest': 4285, 'verbot': 4286, 'deanerschnitzel': 4287, 'boycottlove': 4288, 'verdeutlicht': 4289, 'verfolgten': 4290, 'krieges': 4291, 'verbinden': 4292, 'pip': 4293, 'week': 4294, 'planung': 4295, 'reiben': 4296, 'israelipm': 4297, 'niedergang': 4298, 'vierling': 4299, 'imber': 4300, 'musgatnus': 4301, 'naegl': 4302, 'sendet': 4303, 'dauerquerulant': 4304, 'maeuse': 4305, 'beanspruchen': 4306, 'ungerechtigkeit': 4307, 'weihnachtsmann': 4308, 'freiwillige': 4309, 'erscheinung': 4310, 'ns': 4311, 'raute': 4312, 'totalitaeren': 4313, 'vollstaendig': 4314, 'streit': 4315, 'lel': 4316, 'klicken': 4317, 'laecherliste': 4318, 'mutschrewe': 4319, 'staette': 4320, 'zustaendigkeit': 4321, 'korrupt': 4322, 'korrupten': 4323, 'saetze': 4324, 'whatsapp': 4325, 'ersetzt': 4326, 'wildeastberlin': 4327, 'europ': 4328, 'wille': 4329, 'website': 4330, 'juhu': 4331, 'hymne': 4332, 'grossstaedten': 4333, '36': 4334, '38': 4335, 'obliegt': 4336, 'awkwardpixels': 4337, 'ultra': 4338, 'operationen': 4339, 'stromkosten': 4340, 'rnv': 4341, 'haettet': 4342, '2x': 4343, 'aufgestellt': 4344, 'verlogen': 4345, 'armlaenge': 4346, 'kreis': 4347, 'barbaren': 4348, 'gewichst': 4349, '41': 4350, 'jh': 4351, 'burghard': 4352, 'aelter': 4353, 'hindukusch': 4354, 'zitat': 4355, 'tiefer': 4356, 'weite': 4357, 'ranspo': 4358, 'entmachtet': 4359, 'desaster': 4360, 'hatte': 4361, 'reiches': 4362, 'angekommen': 4363, 'beschwerde': 4364, 'lorbass1962': 4365, 'snowcrash729': 4366, 'davidermes': 4367, 'lorenzmaroldt': 4368, 'vorhaben': 4369, 'entschuldigt': 4370, 'westhim': 4371, 'alternativen': 4372, 'graebt': 4373, 'oberflaeche': 4374, 'oeffentl': 4375, 'katholiken': 4376, 'holger': 4377, 'diktatoren': 4378, 'allesamt': 4379, 'liessen': 4380, 'ausgruenden': 4381, 'durchgesetzt': 4382, 'lauch': 4383, 'joschka': 4384, 'vorgemacht': 4385, 'provozie': 4386, 'julia': 4387, 'kalte': 4388, 'loetstellen': 4389, 'begriffe': 4390, 'konfrontie': 4391, 'horden': 4392, 'dat': 4393, 'inhaltlich': 4394, 'jeher': 4395, 'sun': 4396, 'rain': 4397, 'thunderrainman': 4398, 'arian': 4399, 'elquaida': 4400, 'hauses': 4401, 'wuensch': 4402, 'indiesoph': 4403, 'seb': 4404, 'positive': 4405, 'auswirkungen': 4406, 'unglaubwuerdig': 4407, 'machts': 4408, 'ga': 4409, 'daraufhin': 4410, 'heim': 4411, 'schauspieler': 4412, 'xyeinzelfall': 4413, 'objektiver': 4414, 'sieh': 4415, 'tatsaechlichen': 4416, 'redakteure': 4417, 'reichlich': 4418, 'landen': 4419, 'blaue': 4420, 'gabyulm': 4421, 'gaby': 4422, 'jobs': 4423, 'rd': 4424, 'oftmals': 4425, 'familienmitglied': 4426, 'flieht': 4427, 'ablehnen': 4428, 'irgend': 4429, 'erich': 4430, 'absurd': 4431, 'jahresempfang': 4432, 'rsh': 4433, 'polizeihamburg': 4434, 'jellybean4711': 4435, 'levante': 4436, 'palaestina': 4437, 'irgendwelche': 4438, 'medizinischen': 4439, 'aerzten': 4440, 'erledigt': 4441, 'erdreich': 4442, 'untersuchen': 4443, 'ungebildete': 4444, 'derspiegel': 4445, 'ausgeschlossen': 4446, 'klatscher': 4447, 'asylinnot': 4448, 'mutigen': 4449, 'unerwuenscht': 4450, 'versammlung': 4451, 'wurdest': 4452, 'inbott75334': 4453, 'nachdenke': 4454, 'lobbyisten': 4455, 'marionette': 4456, 'zugelegt': 4457, 'servicetweet': 4458, 'schoepfung': 4459, 'vatikan': 4460, 'menschheitsgeschichte': 4461, 'christophgiesa': 4462, 'mollemopp': 4463, 'misstrauen': 4464, 'herausforderungen': 4465, 'alias': 4466, 'masturbierende': 4467, 'transpersonen': 4468, 'lob': 4469, 'tatsaechliche': 4470, 'unternommen': 4471, 'kalergi': 4472, 'zionistische': 4473, 'entsetzen': 4474, 'terpentinsusi': 4475, 'verfasst': 4476, 'zig': 4477, 'marode': 4478, 'geraumer': 4479, 'out': 4480, 'gesund': 4481, 'fehle': 4482, 'andersdenkende': 4483, 'unbelehrbar': 4484, 'desto': 4485, 'grauens': 4486, 'malen': 4487, 'forderung': 4488, 'malu': 4489, 'dreyer': 4490, 'reisspat': 4491, 'dafancytrancy': 4492, 'willacker': 4493, 'marga': 4494, 'owski': 4495, 'angaben': 4496, 'zugestimmt': 4497, 'personalausweis': 4498, 'geschlechtsangabe': 4499, 'bergholzmonika': 4500, 'verpassen': 4501, 'horsti': 4502, 'kanzlerette': 4503, 'europaeern': 4504, 'schaun': 4505, 'erfuellung': 4506, 'saarland': 4507, 'saar': 4508, 'seine': 4509, 'aufwand': 4510, 'betrieben': 4511, 'unterschreiben': 4512, 'konvention': 4513, 'private': 4514, 'ausnahmezustand': 4515, 'wiederdaichbin': 4516, 'bazonline': 4517, 'strafantrag': 4518, 'klage': 4519, 'schaetze': 4520, 'baum': 4521, 'politbarometer': 4522, 'wichtigsten': 4523, 'spdbpt17': 4524, 'wundere': 4525, 'hinterlassen': 4526, 'am': 4527, 'treiben': 4528, 'ruhrpott': 4529, 'moebbeck': 4530, 'bluehenden': 4531, 'ernstes': 4532, 'schwachsinnige': 4533, 'gleichsam': 4534, 'ordentlich': 4535, 'einnehmen': 4536, 'bamf': 4537, 'laecherliche': 4538, 'conchita': 4539, 'jahrzehnte': 4540, 'gefoerde': 4541, 'personifizie': 4542, 'innovative': 4543, 'ramazanakbas37': 4544, 'verlaub': 4545, 'oel': 4546, 'ukrainischen': 4547, 'poroschenko': 4548, 'betruegt': 4549, 'schlepper': 4550, 'orban': 4551, 'crabonace': 4552, 'doerfern': 4553, 'fangt': 4554, 'gestellten': 4555, 'streiten': 4556, 'bschmeitzner': 4557, 'evgenyfeldman': 4558, 'unserioesen': 4559, 'rinn': 4560, 'britten': 4561, 'rad': 4562, 'wicht': 4563, 'angesehen': 4564, 'unterwande': 4565, 'abendland': 4566, 'aufzuzeigen': 4567, 'erspa': 4568, 'hyperpigmentie': 4569, 'austausch': 4570, '2010': 4571, 'grundrecht': 4572, 'unterwerfen': 4573, 'tschechien': 4574, '58': 4575, '42': 4576, '39': 4577, 'mila': 4578, '32': 4579, 'wehner': 4580, 'gerecht': 4581, 'verletzen': 4582, 'oeffnet': 4583, 'buettner': 4584, 'plakat': 4585, 'bienen': 4586, 'darkegg4ever': 4587, '67muellerpeter': 4588, 'empfang': 4589, 'einstieg': 4590, 'aufnahme': 4591, 'josie4you': 4592, 'verstaerkung': 4593, 'trennen': 4594, 'fluechtlingskrise': 4595, 'solidarisch': 4596, 'sultan': 4597, 'option': 4598, 'koszalin': 4599, 'kurze': 4600, 'herein': 4601, 'oschorsche': 4602, 'ernstvall': 4603, 'ungewaschenen': 4604, 'backe': 4605, 'offline': 4606, 'witzfigur': 4607, 'eigenschaften': 4608, 'ideologien': 4609, 'rumlaufen': 4610, 'teuer': 4611, 'hingerichtet': 4612, 'genervt': 4613, 'jamaikaabbruch': 4614, 'aggressiv': 4615, '2009': 4616, 'polnische': 4617, 'durchs': 4618, 'still': 4619, 'maronen': 4620, 'bosbach': 4621, 'faecher': 4622, 'betrogen': 4623, 'richtlinien': 4624, 'ungenie': 4625, 'wagner3': 4626, 'nett': 4627, 'buergerliche': 4628, 'ronzheimer': 4629, 'taktik': 4630, 'lachhaft': 4631, 'pferdestall': 4632, 'connybub': 4633, 'suess': 4634, 'bellen': 4635, 'erwaegung': 4636, 'volksverraeter': 4637, 'terfiostorm': 4638, 'pete': 4639, 'auber': 4640, 'zusammenbringt': 4641, 'termine': 4642, 'aufnehmen': 4643, 'erwaegen': 4644, 'ausgebeuteten': 4645, 'identifizieren': 4646, 'vorwurf': 4647, 'privatclaudia': 4648, 'faelle': 4649, 'jaja': 4650, 'grenz': 4651, 'steuerzahlers': 4652, 'schoeffen': 4653, 'landshut': 4654, 'landshuterhochzeit': 4655, 'wuesste': 4656, 'starken': 4657, 'empfinde': 4658, 'dreckiges': 4659, 'zusammenhalt': 4660, 'bestellen': 4661, 'sippenhaftung': 4662, 'kannte': 4663, 'grueble': 4664, 'leidet': 4665, 'krischer': 4666, 'brihasselmann': 4667, 'luft': 4668, 'botschafter': 4669, 'otto': 4670, 'sitz': 4671, 'einzug': 4672, 'denkmal': 4673, 'bds': 4674, 'paritaet': 4675, 'europapolitik': 4676, 'einwanderungsgesetz': 4677, 'schaftet': 4678, '280': 4679, 'ausreichen': 4680, 'phantasie': 4681, 'redner': 4682, 'brandlegung': 4683, 'repetiergewehr': 4684, 'geistesgestoe': 4685, 'pruegeln': 4686, 'geschlossenen': 4687, 'renner': 4688, 'unwesen': 4689, 'kooperation': 4690, 'israelingermany': 4691, 'mission': 4692, 'heiland': 4693, 'derhalben': 4694, 'jauchzt': 4695, 'freuden': 4696, 'geschwiegen': 4697, 'kompakt': 4698, 'sachverstand': 4699, 'spohnmichael': 4700, 'ddbnews': 4701, 'profi': 4702, 'schwierigen': 4703, 'lernt': 4704, 'reihe': 4705, 'xxxopexobxxx': 4706, 'dieb': 4707, 'haltet': 4708, 'belaestigt': 4709, 'aufrichtig': 4710, 'erlitten': 4711, 'auslaendischen': 4712, 'werben': 4713, 'weiterer': 4714, 'schuldienst': 4715, 'berufsluegner': 4716, 'bm': 4717, 'entwickelt': 4718, 'mischt': 4719, 'derlinkeleftie': 4720, 'ey': 4721, 'eigenschaft': 4722, 'wasn': 4723, 'washingtonplatz': 4724, 'halbwegs': 4725, 'auffaelligen': 4726, 'faschistoiden': 4727, 'zahlreichen': 4728, 'becker': 4729, 'ismail': 4730, 'kupeli': 4731, 'chancen': 4732, 'kinderpornos': 4733, 'parolen': 4734, 'bereuen': 4735, '29': 4736, 'waehlerschaft': 4737, 'pampers': 4738, 'produkte': 4739, 'verbraucher': 4740, 'konzerne': 4741, 'diesen': 4742, 'leidwesen': 4743, 'neumann': 4744, 'emilydische': 4745, 'keineswegs': 4746, 'wahlkampfauftakt': 4747, 'ermittelt': 4748, 'bruesseler': 4749, '100tsd': 4750, 'zuscheissen': 4751, 'nest': 4752, 'finale': 4753, 'vernichten': 4754, 'sitzenbleiber': 4755, '213': 4756, 'tausend': 4757, 'aktivitaet': 4758, 'gerechtfe': 4759, 'begann': 4760, 'ausreisser': 4761, 'magdeburg': 4762, 'leugner': 4763, 'relativieren': 4764, 'abzulehnen': 4765, 'genutzt': 4766, 'ronaldlaessig': 4767, 'weile': 4768, 'versichern': 4769, 'ethische': 4770, 'kriterien': 4771, 'gesiche': 4772, 'klingelt': 4773, 'tour': 4774, 'rostein45': 4775, 'unterstehen': 4776, 'halbzeitpfiffi': 4777, 'chicsancho': 4778, 'kurzem': 4779, 'unabhaengigkeit': 4780, 'eingetroffen': 4781, 'frohe': 4782, 'teilnehmern': 4783, 'skeptisch': 4784, 'endergebnis': 4785, 'robin': 4786, 'kompliment': 4787, 'staedte': 4788, 'voruebergehend': 4789, 'nachholen': 4790, 'anjareschke1': 4791, 'reschke': 4792, 'objektivitaet': 4793, 'me': 4794, 'produzieren': 4795, 'munich': 4796, 'strafrecht': 4797, 'pressefreiheit': 4798, 'bananenrepublik': 4799, 'sebbi': 4800, 'zusammenhang': 4801, 'tobiashuch': 4802, 'kehren': 4803, 'babsi58089': 4804, 'zeitverschwendung': 4805, 'abschuss': 4806, 'axel': 4807, 'rienhoff': 4808, 'ehre': 4809, 'requiem': 4810, 'odilo': 4811, 'lechner': 4812, 'liebfrauendom': 4813, 'kranken': 4814, 'huerde': 4815, 'wiederholt': 4816, 'koriander': 4817, 'arbeitgeber': 4818, 'organisieren': 4819, 'retter': 4820, 'behauptung': 4821, 'gebliebener': 4822, 'mitgliederversammlung': 4823, 'europride': 4824, 'klugscheissern': 4825, 'globale': 4826, 'stoppen': 4827, 'hoer': 4828, 'spinnen': 4829, 'alessandro': 4830, 'meluzzi': 4831, 'psychater': 4832, 'kriminalist': 4833, 'mirco': 4834, 'jonny': 4835, 'baby': 4836, 'pan': 4837, 'schweigt': 4838, 'laufe': 4839, 'hinterher': 4840, 'thestormishere': 4841, 'bmf': 4842, 'oberen': 4843, '81': 4844, 'kopp': 4845, 'weltkrieg': 4846, 'zuge': 4847, 'loechern': 4848, 'regelrecht': 4849, 'gegenwehr': 4850, 'schnur': 4851, 'ueberlegen': 4852, 'warnen': 4853, 'jo': 4854, 'wovon': 4855, 'gedankengut': 4856, 'facharbeiter': 4857, 'diener': 4858, 'korrumpie': 4859, 'arbeitslagern': 4860, 'fair': 4861, 'kooperieren': 4862, 'lageso': 4863, 'sigi': 4864, 'gepostet': 4865, 'zwingt': 4866, 'schulischen': 4867, 'handschriften': 4868, 'drumrum': 4869, 'packen': 4870, 'vaterlandsverraeter': 4871, 'sahne': 4872, 'veraltet': 4873, 'einsteht': 4874, 'rechtsstaats': 4875, 'gezielt': 4876, 'fotografieren': 4877, 'beantragt': 4878, 'trigge': 4879, 'explizit': 4880, 'verwir': 4881, 'lumpen': 4882, 'westhexe': 4883, 'schlechtes': 4884, 'beabsichtigt': 4885, 'demontieren': 4886, 'erziehen': 4887, 'vollbracht': 4888, 'utawie': 4889, 'schlechtreden': 4890, 'interviews': 4891, 'gastredner': 4892, 'westerwald': 4893, 'ruete': 4894, 'commission': 4895, 'zurueckkehren': 4896, 'heinmax50': 4897, 'naziverhalten': 4898, 'rederecht': 4899, 'scheisshausparolen': 4900, 'schweigendemehrheit': 4901, 'zollen': 4902, 'nerin': 4903, 'knopf': 4904, 'lederhose': 4905, 'industriellen': 4906, 'erschreckend': 4907, 'haverbeck': 4908, 'prinzwilli89': 4909, 'schwierig': 4910, 'inter': 4911, 'etliche': 4912, 'danilotepsa': 4913, 'leonreas': 4914, 'fettsack': 4915, 'diskussionen': 4916, 'unabhaengige': 4917, 'deutschlandhasser': 4918, 'kehrwoche': 4919, 'kipping': 4920, 'noherrmann': 4921, 'breitba': 4922, 'wgs': 4923, 'fluechtlingewillkommen': 4924, 'zitronenfalter': 4925, 'zitronen': 4926, 'falten': 4927, 'achmett': 4928, 'abdul': 4929, 'aya': 4930, 'muetter': 4931, 'brechen': 4932, 'alleinerziehende': 4933, 'zuschauer': 4934, 'unverschaemtheit': 4935, 'unwissenden': 4936, 'klimakatastrophe': 4937, 'dazn': 4938, 'rainbowflash': 4939, 'jc': 4940, '35': 4941, 'schnellstens': 4942, 'verschwindet': 4943, 'doofe': 4944, 'aids': 4945, 'losgelassen': 4946, 'strukturen': 4947, 'linksradikale': 4948, 'kauder': 4949, 'bepissen': 4950, 'heer': 4951, 'stuerzen': 4952, 'hochtouren': 4953, 'endgueltig': 4954, 'miro': 4955, 'aenderung': 4956, 'vielmehr': 4957, 'einziger': 4958, 'weis': 4959, 'verb': 4960, 'realdennislenz': 4961, 'political': 4962, 'correctness': 4963, 'testament': 4964, 'fuessen': 4965, 'susanbrenning': 4966, 'latz': 4967, 'wide': 4968, 'antisemit': 4969, 'org': 4970, 'shiwamustafa': 4971, 'felisefeutraum': 4972, 'verschweigen': 4973, 'verfuegen': 4974, 'traeumen': 4975, 'geheimdienste': 4976, 'fan': 4977, 'bedrohung': 4978, 'international': 4979, 'ball': 4980, 'millionaere': 4981, 'grafwer': 4982, 'posaunen': 4983, 'schaftsgebiets': 4984, 'selbsternannte': 4985, 'sklaven': 4986, 'rostock': 4987, 'bedienen': 4988, 'oeffnen': 4989, 'good': 4990, 'beende': 4991, 'geisteskranke': 4992, 'einsetzen': 4993, 'uebersetzen': 4994, 'strich': 4995, 'ansatz': 4996, 'o2': 4997, 'bvb': 4998, 'aufzunehmen': 4999, 'ausrastet': 5000, 'saboteure': 5001, 'storch': 5002, 'ausdenken': 5003, 'pressepo': 5004, 'knueppel': 5005, 'madfwagner': 5006, 'rational': 5007, 'zeitlich': 5008, 'benimmt': 5009, 'vegan': 5010, 'kroatien': 5011, 'slowenien': 5012, 'faehiger': 5013, 'beu': 5014, 'spontan': 5015, 'locken': 5016, 'entwickeln': 5017, 'rheinmetall': 5018, 'oeffentliches': 5019, 'jebsen': 5020, 'meister': 5021, 'fikentscher': 5022, 'supersitges2': 5023, 'sarastra': 5024, 'demaiziere': 5025, 'anreize': 5026, 'subsidiaeren': 5027, 'achimw': 5028, 'geb': 5029, 'bundespraesidenten': 5030, 'miteinander': 5031, '04': 5032, 'alexm7117': 5033, 'keeprespect79': 5034, 'versorgt': 5035, 'dienen': 5036, 'extra': 5037, 'handwerk': 5038, 'beleidigung': 5039, 'aufgehoe': 5040, 'katar': 5041, 'befreit': 5042, 'leistungen': 5043, 'getraeumt': 5044, 'watschen': 5045, 'faust': 5046, 'gefluechtete': 5047, 'transgender': 5048, 'aufgezeichnet': 5049, 'ausstellung': 5050, 'nationaler': 5051, 'begruenden': 5052, 'weist': 5053, 'konten': 5054, 'einzigsten': 5055, 'wahlversprechen': 5056, 'kriechen': 5057, 'jede': 5058, 'shit': 5059, 'db': 5060, 'wahabiten': 5061, 'religionen': 5062, 'fahrverbot': 5063, 'spreu': 5064, 'weizen': 5065, 'nawalnij': 5066, 'nyt': 5067, 'pxg96fcb': 5068, 'kleinstaat': 5069, 'information': 5070, 'morde': 5071, 'lasvegas': 5072, 'instrument': 5073, 'vorsaetzlich': 5074, 'geistlicher': 5075, 'ehrenamt': 5076, 'vermisst': 5077, 'rutschen': 5078, 'hereingefallen': 5079, 'anno': 5080, '1307': 5081, 'theborisbecker': 5082, 'insgesamt': 5083, 'bobbele': 5084, 'salonfaehig': 5085, 'geschichtliche': 5086, 'judentum': 5087, 'hintergruende': 5088, 'turkkick': 5089, 'ausgetragen': 5090, 'currywurst': 5091, 'breaking': 5092, 'geschwister': 5093, 'bzberlin': 5094, 'regional': 5095, 'garnix': 5096, 'waehlern': 5097, 'oesterreichischen': 5098, 'bord': 5099, 'umgehen': 5100, 'ungebildet': 5101, 'personalien': 5102, '3sat': 5103, 'gysi': 5104, 'wendehaelse': 5105, 'werk': 5106, 'ansage': 5107, 'seehofers': 5108, 'vorbilder': 5109, 'kommentaren': 5110, 'doof': 5111, 'ziege': 5112, 'dietersteffmann': 5113, 'juedischeonline': 5114, 'unterstuetzte': 5115, 'gr': 5116, 'betroffene': 5117, 'instanzen': 5118, 'trauriges': 5119, 'vorherigen': 5120, 'momentan': 5121, 'rufe': 5122, 'praevention': 5123, 'bedacht': 5124, 'gerichts': 5125, 'vorfaelle': 5126, 'legale': 5127, 'abschiebungenstoppen': 5128, 'belege': 5129, 'raegt': 5130, 'mutte': 5131, 'anonymous': 5132, 'brittadn': 5133, 'iron': 5134, 'front': 5135, 'hohn': 5136, 'wache': 5137, 'gefaengnisse': 5138, 'widerliches': 5139, 'hinck': 5140, 'melde': 5141, 'afdtrischi': 5142, 'vonerlenbach': 5143, 'estoylimpia': 5144, 'moni4950': 5145, 'poln': 5146, 'gluecklich': 5147, 'wagner': 5148, 'poste': 5149, 'aufgrund': 5150, 'genehmigen': 5151, 'ausleben': 5152, 'probieren': 5153, 'boykottie': 5154, 'daspunkt': 5155, 'konservativ': 5156, 'mariamlau1': 5157, 'inklin': 5158, 'hinkt': 5159, 'entdeckt': 5160, 'kanonen': 5161, 'krawatte': 5162, 'bjoernstritzel': 5163, 'eingliede': 5164, 'nimmst': 5165, 'gazastreifen': 5166, 'ueberschwemmt': 5167, 'enden': 5168, 'tagderdeutscheneinheit': 5169, 'menuhin': 5170, 'treue': 5171, '800jahre': 5172, 'watschn': 5173, 'gestimmt': 5174, 'vizekanzler': 5175, 'anzahl': 5176, 'einnahmen': 5177, 'lebens': 5178, 'gebildet': 5179, 'kindernothilfe': 5180, 'efaelle': 5181, 'wiederholen': 5182, 'moslemterror': 5183, 'maasmaenneken': 5184, 'geschlechtseintrag': 5185, 'vormittag': 5186, 'invasion': 5187, 'beeinflussen': 5188, 'brechende': 5189, 'gelb': 5190, 'drdrdietz': 5191, 'enkontrolle': 5192, 'ausreichend': 5193, 'versifft': 5194, 'unaufhoerlich': 5195, 'langweilt': 5196, 'guck': 5197, 'fuehrungsanspruch': 5198, 'loechrig': 5199, 'sozialhilfe': 5200, 'geschaut': 5201, 'teilnehmen': 5202, 'begrenzt': 5203, 'undifferenzie': 5204, 'diversity': 5205, 'newyork': 5206, 'januar': 5207, 'beeindrucken': 5208, 'ueberlaufen': 5209, 'phones': 5210, 'erzeugt': 5211, 'frettchen': 5212, 'grenzkontrollen': 5213, 'senderwahl': 5214, 'nominie': 5215, 'halile': 5216, 'em67': 5217, 'hasskriminalitaet': 5218, 'redefreiheit': 5219, 'titulie': 5220, 'feinsten': 5221, 'wahlbeteiligung': 5222, 'kommunistin': 5223, 'tolerie': 5224, 'weiten': 5225, 'einzelfall': 5226, 'fuehrer': 5227, 'veruebt': 5228, 'melbourne': 5229, 'punkten': 5230, 'end': 5231, 'raeumen': 5232, 'terroranschlaege': 5233, 'feinen': 5234, 'fluegge': 5235, 'kurzfristig': 5236, 'followerpower': 5237, 'deutschlandhassern': 5238, 'soeben': 5239, 'frshev': 5240, 'gesine': 5241, 'schwan': 5242, 'wege': 5243, 'aussengrenzen': 5244, 'mieten': 5245, 'freihandel': 5246, 'ibes': 5247, 'marodierenden': 5248, 'rechtsgrundlage': 5249, 'ausgefallen': 5250, 'dachgeschoss': 5251, 'waesche': 5252, 'gekuendigt': 5253, 'fluechtlingshilfe': 5254, 'kostet': 5255, 'gekko125': 5256, 'liess': 5257, 'organisie': 5258, 'auszug': 5259, 'scharf': 5260, 'verhaftet': 5261, 'unterdruecken': 5262, 'brauchst': 5263, 'kernseife': 5264, 'eingefressen': 5265, 'kohn': 5266, 'bendit': 5267, 'meineid': 5268, 'uiiii': 5269, 'bank': 5270, 'beibootpetri03': 5271, 'jockie59': 5272, 'kommission': 5273, 'darunter': 5274, 'anderes': 5275, 'kriminell': 5276, 'populistisch': 5277, 'einsetze': 5278, 'fachkraefte': 5279, 'firmen': 5280, 'sprech': 5281, 'smashjulian': 5282, 'steuer': 5283, 'topdilopp': 5284, 'eierlikoer': 5285, 'prost': 5286, 'saeht': 5287, 'erntet': 5288, 'henrysorgenfrei': 5289, 'propagieren': 5290, 'msn': 5291, 'shitstorm': 5292, 'vielfaltdemo': 5293, 'befreien': 5294, 'erlauben': 5295, 'gereist': 5296, 'tamarawernli': 5297, 'unverschaemt': 5298, 'schonungslose': 5299, 'custserv': 5300, 'ergibt': 5301, 'medienmogul': 5302, 'valentin': 5303, 'dietrich': 5304, 'verschenkt': 5305, 'gefutte': 5306, 'op': 5307, 'positiven': 5308, 'abschreckung': 5309, 'daemliche': 5310, 'entwurf': 5311, 'mar': 5312, 'aufrecht': 5313, 'unterirdisch': 5314, 'acht': 5315, 'moschee': 5316, 'braeuche': 5317, 'fit': 5318, 'telefonische': 5319, 'bizkazandik': 5320, 'lko': 5321, 'verbreitung': 5322, 'nrw17': 5323, 'liebes': 5324, 'wueste': 5325, 'einzuschuechtern': 5326, 'anforderungen': 5327, 'israelhasser': 5328, 'dflp': 5329, 'traudichde': 5330, 'antideutschen': 5331, 'fucken': 5332, 'muesstet': 5333, 'kaeseblatt': 5334, 'antonio': 5335, 'amadeus': 5336, 'homepage': 5337, 'unwuerdige': 5338, 'schwarzeampel': 5339, 'butze': 5340, 'verlag': 5341, 'cobe68': 5342, 'abnehmen': 5343, 'hospitaeler': 5344, 'ablasshandel': 5345, 'alkoholiker': 5346, 'kiel': 5347, 'autobahnen': 5348, 'matthiasmeisner': 5349, 'franzrichard45': 5350, 'bewusste': 5351, 'straftat': 5352, 'beruhigt': 5353, 'boeser': 5354, 'unrecht': 5355, 'russenkeppi': 5356, 'demos': 5357, 'erscheinen': 5358, 'annaehernd': 5359, 'paeulchen': 5360, 'freitagsgebet': 5361, 'knebel99': 5362, 'montag': 5363, 'band': 5364, 'patenamt': 5365, 'anerkennung': 5366, 'firmung': 5367, 'konfirmation': 5368, 'nachweislich': 5369, 'half': 5370, 'unbedeutend': 5371, 'konso': 5372, 'uebergangen': 5373, 'blocken': 5374, 'argument': 5375, 'aussprechen': 5376, 'rohingyas': 5377, 'gastgeber': 5378, 'fema': 5379, 'ausl': 5380, 'doku': 5381, 'luegenmedien': 5382, 'jayb392': 5383, 'male': 5384, 'bernd': 5385, 'by': 5386, 'knallt': 5387, 'befuerchten': 5388, 'beziehen': 5389, 'buergerinnen': 5390, 'fisch': 5391, 'geschenke': 5392, 'abgerechnet': 5393, 'haessliches': 5394, 'kabinett': 5395, 'kinderschaender': 5396, 'ausgewiesen': 5397, 'watt': 5398, 'zwischenfrage': 5399, '82': 5400, 'sabinema': 5401, 'iny': 5402, 'vorlieben': 5403, 'angelegenheit': 5404, 'spaniens': 5405, 'leuchter': 5406, 'entzogen': 5407, 'tauwetter': 5408, 'edeka': 5409, 'aufmachen': 5410, 'biodeutschen': 5411, 'beauftragten': 5412, 'reihenweise': 5413, 'sc': 5414, 'abgesetzt': 5415, 'veranke': 5416, 'fuehre': 5417, 'hochdotie': 5418, 'genauem': 5419, 'johnwboer': 5420, 'witzig': 5421, 'menschlich': 5422, 'zweiter': 5423, 'wichtigeres': 5424, 'hollywood': 5425, 'zinsen': 5426, 'penner': 5427, 'vorsatz': 5428, 'unterscheiden': 5429, 'moelln': 5430, 'hoyerswerda': 5431, 'lichtenhagen': 5432, 'stattdessen': 5433, 'unterhaltung': 5434, 'einheimische': 5435, 'huegelkind': 5436, 'ostens': 5437, 'likelocusts': 5438, 'brand': 5439, 'defekten': 5440, 'hubschrauber': 5441, 'braeuchten': 5442, 'kasten': 5443, 'bergen': 5444, 'unmissverstaendlich': 5445, 'vorbestraft': 5446, 'methoden': 5447, 'braunen': 5448, 'problematisch': 5449, 'rechtsradikalen': 5450, 'eigeninteresse': 5451, 'kretsc': 5452, 'zusammenarbeit': 5453, 'vanberlichingen': 5454, 'gezahlt': 5455, 'greenpeacemag': 5456, 'hesselmann': 5457, 'oehzen': 5458, 'quatschen': 5459, 'off': 5460, 'fester': 5461, 'bewaeh': 5462, 'gemeinsame': 5463, 'udssr': 5464, 'israelisch': 5465, 'eng': 5466, 'holt': 5467, 'herkunftsland': 5468, 'phatentophon': 5469, 'ordensrecht': 5470, 'mrhovistar': 5471, 'bonuszahlungen': 5472, 'erzeugen': 5473, 'massive': 5474, 'morddrohungen': 5475, 'janko': 5476, 'emdb': 5477, 'unterkriegen': 5478, 'entschlossen': 5479, 'periscope': 5480, 'allahuakbar': 5481, 'franc': 5482, 'auftritte': 5483, 'inszenie': 5484, 'genscher': 5485, 'schnitzel': 5486, '10meter': 5487, 'goldene': 5488, 'vorhergesagt': 5489, 'verschenken': 5490, 'mordeten': 5491, 'ukrainische': 5492, 'angehoerige': 5493, 'arminlaschet': 5494, 'mahnt': 5495, 'mehrmals': 5496, 'eizentrale': 5497, 'resultat': 5498, 'erlaubnis': 5499, 'werde': 5500, 'kreuzfah': 5501, 'blasen': 5502, 'umwelt': 5503, 'milde': 5504, 'froehlichen': 5505, 'beobachtet': 5506, 'ausschliessen': 5507, 'registrie': 5508, 'richvolkmann': 5509, 'erbaermliche': 5510, 'verachte': 5511, 'gaenzlich': 5512, 'taub': 5513, 'fassungslos': 5514, 'refugeeswlcm': 5515, 'beklagen': 5516, 'griechen': 5517, 'gewaltig': 5518, 'absichten': 5519, 'erweckt': 5520, 'teufels': 5521, 'altes': 5522, 'sprichwo': 5523, 'gewe': 5524, 'ville': 5525, 'joanacotar': 5526, 'naiv': 5527, 'truppen': 5528, 'schlachten': 5529, 'ernaehren': 5530, 'freivonreue': 5531, 'konfrontation': 5532, 'disziplin': 5533, 'verbuendeten': 5534, 'leh': 5535, 'go': 5536, 'for': 5537, 'you': 5538, 'sel': 5539, 'stolberg': 5540, 'familienrueckfuehrung': 5541, 'ober': 5542, 'diverse': 5543, 'gespraechen': 5544, 'jenen': 5545, 'beteiligen': 5546, 'dienstzeitverlaengerung': 5547, 'hinaus': 5548, 'datenschutz': 5549, 'schnueffler': 5550, 'abgehakt': 5551, 'namens': 5552, 'fell': 5553, 'eigenhaendig': 5554, 'erschlagen': 5555, 'echtzeitreise': 5556, 'as': 5557, 'aufgezeigt': 5558, 'issn81': 5559, 'bundesweite': 5560, 'enttaeuscht': 5561, 'stasikasper': 5562, 'ritakratze': 5563, 'begeben': 5564, 'pure': 5565, 'nafri': 5566, 'versuche': 5567, 'nervt': 5568, 'tierisch': 5569, 'dringen': 5570, 'weicheier': 5571, 'gespielt': 5572, 'kuschelns': 5573, '800': 5574, 'interessanten': 5575, 'jochenbittner': 5576, 'diffamierung': 5577, 'zitiere': 5578, 'grundlage': 5579, 'gegen': 5580, 'nico': 5581, 'schmutzigen': 5582, 'hiesige': 5583, 'siegen': 5584, 'gesoffen': 5585, 'perspektive': 5586, 'anstaendige': 5587, 'schaedigen': 5588, 'schaetzung': 5589, 'teilnehmende': 5590, 'eindeutigen': 5591, 'ramadan': 5592, 'zuzug': 5593, 'stoppt': 5594, 'auslaenderfeindlich': 5595, 'whataboutism': 5596, 'crew': 5597, 'einzelfaelle': 5598, 'waehre': 5599, 'geklappt': 5600, 'weinen': 5601, 'worum': 5602, 'sprich': 5603, 'ministerin': 5604, 'investiere': 5605, 'bemerkung': 5606, 'ausgegrenzt': 5607, 'dazukommen': 5608, 'ignorie': 5609, 'schwuchtel': 5610, 'floriangathmann': 5611, 'buerokratie': 5612, 'empfehlung': 5613, 'ulschzi': 5614, 'zeitliche': 5615, 'hinterfragen': 5616, 'mimimi': 5617, 'entscheidende': 5618, 'sternrot': 5619, 'schiedsrichters': 5620, 'vermerkt': 5621, 'belohnt': 5622, 'ofenschlampe': 5623, 'holland': 5624, 'rastaflip': 5625, 'weltgeschichte': 5626, 'genauer': 5627, 'vollverschleierung': 5628, 'bloedheit': 5629, 'fatima': 5630, 'sitewinder': 5631, 'balianibelin65': 5632, 'demonstrationsfreiheit': 5633, 'nehmt': 5634, 'juristische': 5635, 'radikaler': 5636, 'kamannuwe': 5637, 'wuessten': 5638, 'passend': 5639, 'mirlangtes': 5640, 'ungarin': 5641, 'tunesien': 5642, 'dustpills': 5643, 'wirklichen': 5644, 'bis': 5645, 'groessere': 5646, 'lionwoman18': 5647, 'krk979': 5648, 'verwechselt': 5649, 'papstes': 5650, 'retweetet': 5651, 'wespen': 5652, 'vermaechtnis': 5653, 'hinkriegen': 5654, 'dreckigen': 5655, 'saarl': 5656, 'lyoner': 5657, 'bier': 5658, 'humanitaerer': 5659, 'kritisches': 5660, 'brief': 5661, 'olivergeorgi': 5662, 'verheiratet': 5663, 'damen': 5664, 'gefreut': 5665, 'komplexe': 5666, 'ehrenamtliche': 5667, 'trauen': 5668, '600': 5669, 'ade': 5670, 'bereinigen': 5671, 'konze': 5672, 'hstiebe': 5673, 'eroloenal': 5674, 'intellektuelle': 5675, 'zeugen': 5676, 'sagten': 5677, 'burkaverbot': 5678, 'oschnederpelz': 5679, 'anweisung': 5680, 'fehlerfrei': 5681, 'qualifikation': 5682, 'djjem': 5683, 'sahara': 5684, 'begegnen': 5685, 'ergeben': 5686, 'loveislove': 5687, 'joachim': 5688, 'vita': 5689, 'schlafschaf': 5690, 'klicks': 5691, 'geschickt': 5692, 'besiegen': 5693, 'niemandem': 5694, 'ueblich': 5695, 'offener': 5696, 'uk': 5697, 'tip': 5698, 'mgrieber': 5699, 'unter': 5700, 'weib': 5701, 'fleissig': 5702, 'heiraten': 5703, 'wahltag': 5704, 'kreaturen': 5705, 'material': 5706, 'randalie': 5707, 'gib': 5708, 'schadenfreude': 5709, 'ueberfluessig': 5710, 'toiletten': 5711, 'benachteiligt': 5712, 'schlepperei': 5713, 'vergiftet': 5714, 'abstieg': 5715, 'geweiht': 5716, 'gummigeschosse': 5717, 'druecken': 5718, 'gestiegen': 5719, 'anwaeltin': 5720, 'doppelstaatsbuerger': 5721, 'oesterr': 5722, 'qm': 5723, 'lief': 5724, 'entwicklungshilfe': 5725, 'legislaturperiode': 5726, 'diaeten': 5727, 'bestaetigen': 5728, 'zusammenfuehren': 5729, 'schaltet': 5730, 'gepraegt': 5731, 'oekologische': 5732, 'menschlichkeit': 5733, 'erschuette': 5734, 'obrigkeit': 5735, 'sprachmittlerud': 5736, 'wolffreewilli': 5737, 'trottel': 5738, 'mehrzahl': 5739, 'anerkannte': 5740, 'comedian': 5741, 'tempelberg': 5742, 'freunden': 5743, 'paxter': 5744, 'redwyne': 5745, 'wirkliche': 5746, 'danielm2601': 5747, 'bazille': 5748, 'realappell': 5749, 'schlinge': 5750, 'amazonde': 5751, 'geschaeftsfuehrer': 5752, 'serioesen': 5753, 'journalistin': 5754, 'day': 5755, 'aufstehen': 5756, 'dem': 5757, 'erhebt': 5758, 'geholfen': 5759, 'begeht': 5760, 'incl': 5761, 'ueberprueft': 5762, 'saecke': 5763, 'angreifen': 5764, 'lachnummern': 5765, 'grausam': 5766, 'halbtot': 5767, 'anerkennen': 5768, 'abgelaufen': 5769, 'verlie': 5770, 'ulrichhenning2': 5771, 'liberalen': 5772, 'ordentliches': 5773, 'donalds': 5774, 'angenehmen': 5775, 'imp': 5776, 'omg': 5777, 'wedrfoelnir': 5778, 'gulag': 5779, 'grim': 5780, 'exilprincess': 5781, 'fokel': 5782, 'exil': 5783, 'doggo': 5784, 'grata': 5785, 'niemandesstimme': 5786, 'baccarat': 5787, 'black': 5788, 'werkoffiziell': 5789, 'rayzon899': 5790, 'elliottstaender': 5791, 'sadisticniles': 5792, 'dietmoarschwarz': 5793, 'therpgprincess': 5794, 'zionismus': 5795, 'heulen': 5796, 'meiste': 5797, 'buches': 5798, 'aktionen': 5799, 'akademiker': 5800, 'schnellinfo': 5801, 'allianz': 5802, 'abdreht': 5803, 'jeweils': 5804, 'voegel': 5805, 'faengt': 5806, 'adventskalender': 5807, 'saebelrasseln': 5808, 'militaer': 5809, 'fanatismus': 5810, 'diplomat': 5811, 'yuecsel': 5812, 'flintenuschis': 5813, 'obhut': 5814, 'wochenblickat': 5815, 'frisch': 5816, 'wichtigtuer': 5817, 'nicid': 5818, 'patricia': 5819, 'seelig': 5820, 'spdrlp': 5821, 'vonwegen': 5822, 'routeandswitch1': 5823, 'positionen': 5824, 'bestaetigt': 5825, 'getrost': 5826, 'abzulenken': 5827, 'begeiste': 5828, 'harziv': 5829, 'hype': 5830, 'afrikanischen': 5831, 'vereinen': 5832, 'verfassung': 5833, 'unfairen': 5834, 'handelsbeziehungen': 5835, 'furdiewelt': 5836, 'verbrennung': 5837, 'auslaendern': 5838, 'absurdistan': 5839, 'geschenk': 5840, 'jaulen': 5841, 'verlor': 5842, 'getragene': 5843, 'version': 5844, '5y5t3m': 5845, '3rr0r': 5846, 'fraktionsgremien': 5847, 'flensburg': 5848, 'abwae': 5849, 'natuerliche': 5850, 'bevorstehenden': 5851, 'malente': 5852, 'kreisverband': 5853, 'ostholstein': 5854, 'abstellgleis': 5855, 'banner': 5856, 'polkemajewski': 5857, 'herles': 5858, 'duennschiss': 5859, 'schlaegt': 5860, 'experiment': 5861, 'fcknzs': 5862, 'pegida': 5863, 'hessenadler82': 5864, 'fdpfraktionnrw': 5865, 'cdunrw': 5866, 'wald': 5867, 'kommst': 5868, 'ad': 5869, 'hebr': 5870, 'gefaengnis': 5871, 'rufen': 5872, 'ernannte': 5873, 'gmeiner': 5874, 'hingehoe': 5875, 'manfredheck1': 5876, 'hasser': 5877, 'dana': 5878, 'heide': 5879, 'handelsblatt': 5880, 'flaechendeckend': 5881, 'marco': 5882, 'spiegelt': 5883, 'fucking': 5884, 'dauerhaft': 5885, 'ausgesetzt': 5886, 'buergermeisterlein': 5887, 'negative': 5888, 'komische': 5889, 'freu': 5890, 'michel': 5891, 'chrisjuko': 5892, 'blonde': 5893, 'umgeben': 5894, 'beteiligt': 5895, 'jasmin': 5896, 'islamrat': 5897, 'chapeau': 5898, 'anhaengern': 5899, 'freedeniz': 5900, 'unehrlich': 5901, 'raut': 5902, 'gleichsetzung': 5903, 'einzieht': 5904, 'kanal': 5905, 'quasir': 5906, 'bleidsamel': 5907, 'entdecken': 5908, 'sparen': 5909, 'saemtlichen': 5910, 'vorgehensweise': 5911, 'vergibt': 5912, 'loser': 5913, 'twittingthom': 5914, 'gewinner': 5915, 'umzusetzen': 5916, 'plenum': 5917, 'post': 5918, 'sonst': 5919, 'attentate': 5920, 'yapp': 5921, 'beilaeufig': 5922, 'anzutreffen': 5923, 'persoenlichkeitsrecht': 5924, 'beihilfe': 5925, 'anklagen': 5926, 'geschworen': 5927, 'mattfux': 5928, 'roland01962': 5929, 'christentum': 5930, 'behaupten': 5931, 'kanacken': 5932, 'nachmittag': 5933, 'laschet': 5934, 'verrueckt': 5935, 'trueffelschwein': 5936, 'toetet': 5937, 'bewe': 5938, 'tayyeb': 5939, 'zynismus': 5940, 'umgesetzt': 5941, 'dobrindt': 5942, 'spannender': 5943, 'kaidiekmann': 5944, 'adi': 5945, 'farjon': 5946, 'atomwaffen': 5947, 'zuenden': 5948, 'gleichgueltigkeit': 5949, 'jhurn': 5950, 'waehren': 5951, 'bilden': 5952, 'lichterkette': 5953, 'achte': 5954, 'furz': 5955, 'globalisten': 5956, 'jedenfall': 5957, 'trocken': 5958, 'vronixi': 5959, 'fordere': 5960, 'wahlweise': 5961, 'deibel': 5962, 'israelkritik': 5963, 'wodka': 5964, 'nostradamus': 5965, 'goethe': 5966, 'kasner': 5967, 'regierungs': 5968, 'glas': 5969, 'ueberfremdung': 5970, 'schwebt': 5971, 'danz': 5972, 'tropf': 5973, 'khasarischen': 5974, 'entgangen': 5975, 'bloeden': 5976, 'engagieren': 5977, 'jusos': 5978, 'leere': 5979, 'geleh': 5980, 'stuss': 5981, 'profit': 5982, 'spendenfinanzie': 5983, 'schleierhaft': 5984, 'rundfunkrat': 5985, 'erwuenscht': 5986, 'ehrenmann': 5987, 'wette': 5988, 'raschie2': 5989, 'kandidieren': 5990, 'soldat': 5991, 'hoechsten': 5992, 'achso': 5993, 'stumm': 5994, 'historischen': 5995, 'bewaehrungsstrafe': 5996, 'globalisierung': 5997, 'korrektur': 5998, 'unterlassen': 5999, 'syrischen': 6000, 'empfaenger': 6001, 'umwelthilfe': 6002, 'vermittlung': 6003, 'refugeeswelcome': 6004, 'trauriger': 6005, 'ueberfaelle': 6006, 'tinahassel': 6007, 'perverser': 6008, '2ten': 6009, 'status': 6010, 'ueberlassen': 6011, 'auseinandersetzung': 6012, 'drueckt': 6013, 'gthummerer': 6014, 'kaufe': 6015, 'basteln': 6016, '1947': 6017, 'andersdenkenden': 6018, 'rasse': 6019, 'schreiber': 6020, 'niedriger': 6021, 'glyphosat': 6022, 'bewegt': 6023, 'beseitigt': 6024, 'las': 6025, 'abdel': 6026, 'ourghi': 6027, 'ali': 6028, 'hamburger': 6029, 'eigentum': 6030, 'ruinieren': 6031, 'jotdora': 6032, 'zins': 6033, 'allenfalls': 6034, 'beider': 6035, 'systeme': 6036, 'groesse': 6037, 'auswahl': 6038, 'professoren': 6039, 'pc': 6040, 'jlomm': 6041, 'ricarda': 6042, 'frisst': 6043, 'scharfschuetzen': 6044, 'wiedergewaehlt': 6045, 'eigenem': 6046, 'geborene': 6047, 'schwere': 6048, 'geraeusche': 6049, 'langweilig': 6050, 'stellung': 6051, 'geschmacklos': 6052, 'vorstellung': 6053, 'grenzenlose': 6054, 'ablehnung': 6055, 'scheissdreck': 6056, '1994': 6057, 'tillschneider': 6058, 'afdler': 6059, 'ausschreitungen': 6060, 'metaller': 6061, '70er': 6062, 'simon': 6063, 'ernsthafte': 6064, 'bewahren': 6065, 'zweifelhaft': 6066, 'sachsens': 6067, 'tsghessen': 6068, 'meinen': 6069, 'aengstlich': 6070, 'darkgermany': 6071, 'zeitungsa': 6072, 'abdruck': 6073, 'religionsfreiheit': 6074, 'tgd': 6075, '2700': 6076, 'grueneversenken': 6077, 'glaubwuerdig': 6078, 'weathernews2016': 6079, 'georgrestle': 6080, 'ardkontraste': 6081, 'stecken': 6082, 'revisionismus': 6083, 'industrielle': 6084, 'wirres': 6085, 'nsdap': 6086, 'zahlenden': 6087, 'bomben': 6088, 'eidigt': 6089, 'meer': 6090, 'verabschiedete': 6091, 'dummer': 6092, 'beschraenkt': 6093, 'schaedel': 6094, 'unglaublich': 6095, 'tipp': 6096, 'umerziehungslager': 6097, 'genesung': 6098, 'stolzes': 6099, 'nunja': 6100, 'jedermann': 6101, 'ziegen': 6102, 'patriotisch': 6103, 'schick': 6104, 'herbst': 6105, 'stoff': 6106, 'hervor': 6107, 'gehetzt': 6108, 'scheindemokratie': 6109, 'muenzenmaier': 6110, 'politmarionetten': 6111, 'cducsu': 6112, 'eintreten': 6113, 'prozessen': 6114, 'klopft': 6115, 'winkler': 6116, 'veraenderung': 6117, 'spueren': 6118, 'absaufen': 6119, 'erfinden': 6120, 'anh': 6121, 'illinger': 6122, 'arabische': 6123, 'erpressen': 6124, 'kaemen': 6125, 'gae': 6126, 'talkshow': 6127, 'stream': 6128, 'umweltschutz': 6129, 'verschwiegen': 6130, 'iii': 6131, 'steinen': 6132, 'einstein': 6133, 'aegisbridge': 6134, 'vaeter': 6135, 'abstimmen': 6136, 'hinnehmen': 6137, 'metropole': 6138, 'florianklenk': 6139, 'erfreulich': 6140, '130': 6141, 'hinterhaeltiger': 6142, 'attackie': 6143, 'obenausthomas': 6144, 'koelle': 6145, 'streichen': 6146, 'koffer': 6147, 'laecherliches': 6148, 'wahlschafe': 6149, 'bildungs': 6150, 'kranker': 6151, 'vergewaltigen': 6152, 'jaehrigen': 6153, 'muschi': 6154, 'lecken': 6155, 'minderbemittelt': 6156, 'fiedler': 6157, 'irene': 6158, 'deutschtuerken': 6159, 'new': 6160, 'year': 6161, 'ueberstanden': 6162, 'ehrlicher': 6163, '01': 6164, 'musik': 6165, 'funken': 6166, 'leistung': 6167, 'eifer': 6168, 'zweifel': 6169, 'raucher': 6170, 'rauchen': 6171, 'kino': 6172, 'babylon': 6173, 'islamischer': 6174, 'mbremerde': 6175, 'tompat': 6176, 'zehn': 6177, 'notwendige': 6178, 'nachweisen': 6179, 'letzteres': 6180, 'ruthenium': 6181, 'objektiv': 6182, 'aeaehh': 6183, 'establishment': 6184, 'richtiges': 6185, 'frauenhaeuser': 6186, 'abgewiesen': 6187, 'plaetze': 6188, 'afrikanern': 6189, 'erfolgreich': 6190, 'reinerhaseloff': 6191, 'logischerweise': 6192, 'rechtshilfefonds': 6193, 'falscher': 6194, 'uebernommen': 6195, 'christlich': 6196, '900': 6197, 'abschied': 6198, 'legal': 6199, 'geselle': 6200, 'volksverhetzung': 6201, 'kla': 6202, 'ext': 6203, 'stuetze': 6204, 'neuem': 6205, 'vorn': 6206, 'widerwae': 6207, '1962': 6208, 'missachtet': 6209, 'missgebu': 6210, 'bastarde': 6211, 'unterwandern': 6212, 'heuschrecken': 6213, 'beisp': 6214, 'volltrottel': 6215, 'gue': 6216, 'sitze': 6217, 'reichstag': 6218, 'zt': 6219, 'immigranten': 6220, 'aufpassen': 6221, 'touristen': 6222, 'evtl': 6223, 'petrbystronafd': 6224, 'hansestadt': 6225, 'missbrauch': 6226, 'exklusiv': 6227, 'michaeladam1984': 6228, 'verkaufte': 6229, 'staatsgewalt': 6230, 'jegliche': 6231, 'brexit': 6232, 'fuehlt': 6233, 'deutschfeindlichkeit': 6234, 'esc2017': 6235, 'auseinander': 6236, 'thomasverheugen': 6237, 'schwarzer': 6238, 'iranischen': 6239, 'regimes': 6240, 'erfolgt': 6241, '133': 6242, 'schrieb': 6243, 'gratulieren': 6244, 'fatihakin': 6245, 'gewinn': 6246, 'goldenglobes2017': 6247, '80er': 6248, 'basketball': 6249, 'sperma': 6250, 'traue': 6251, 'beleg': 6252, 'publizistikon': 6253, 'minute': 6254, 'antisemitischen': 6255, 'unzufriedenen': 6256, 'gewaltsam': 6257, 'erdulden': 6258, 'gelingen': 6259, 'ansprechen': 6260, 'papp': 6261, 'aufhat': 6262, 'texten': 6263, 'klimaschutz': 6264, 'kadmos': 6265, 'junghans': 6266, 'eventuell': 6267, 'sitzung': 6268, 'mitgliedern': 6269, 'ruppe': 6270, 'schieben': 6271, 'vatanmillet77': 6272, 'matrixgofire': 6273, 'entlarvt': 6274, 'oktober': 6275, 'wellejena': 6276, 'oskar752': 6277, 'munition': 6278, 'erhielt': 6279, 'kurde': 6280, 'designer': 6281, 'diktator': 6282, 'bevorzugen': 6283, 'claus': 6284, 'bestrafung': 6285, 'titanic': 6286, 'gesungen': 6287, 'bestimmte': 6288, 'geredet': 6289, 'vermeintlich': 6290, 'stoerfall': 6291, 'verlosen': 6292, 'anbieten': 6293, 'kaffee': 6294, 'brennt': 6295, 'uebersetzung': 6296, 'strippenzieher': 6297, 'weltoffenheit': 6298, 'problemen': 6299, 'gluehwein': 6300, 'dieselmeister': 6301, 'didifreiheit': 6302, 'gekostet': 6303, 'erbrechen': 6304, 'strombelberg': 6305, 'juliakloeckner': 6306, 'sperre': 6307, 'sex': 6308, 'englaender': 6309, 'innere': 6310, 'diewahremargot': 6311, 'rief': 6312, 'kinderarmut': 6313, 'gehinde': 6314, 'bezahlten': 6315, 'eis': 6316, 'kinderehen': 6317, 'dublin': 6318, 'entschaedigen': 6319, 'clowns': 6320, 'ehrenamtlichen': 6321, 'beschaedigen': 6322, 'fachkraft': 6323, 'kanaelen': 6324, 'taeglichen': 6325, 'tier': 6326, 'chem': 6327, 'toony': 6328, 'polnischer': 6329, 'meinungsunterdrueckung': 6330, 'fleischtoepfe': 6331, 'nichtregierungsorganisation': 6332, 'hintergrund': 6333, 'dan': 6334, 'wuerdest': 6335, 'geltungsbereich': 6336, 'loewenherz': 6337, 'lagen': 6338, 'wahn': 6339, 'yrers': 6340, 'sep': 6341, 'oksadok': 6342, 'veraende': 6343, 'ginge': 6344, 'einigermassen': 6345, 'wande': 6346, 'geahndet': 6347, 'asylant': 6348, 'unentwegt': 6349, 'veraendern': 6350, 'helfe': 6351, 'west': 6352, 'herauszunehmen': 6353, 'gb': 6354, 'henker': 6355, 'nord': 6356, 'hathor': 6357, 'pentalpha': 6358, 'bleib': 6359, 'prothese': 6360, 'tue': 6361, 'brueste': 6362, 'maut': 6363, 'paket': 6364, 'koa': 6365, 'modonaigoldberg': 6366, 'white': 6367, 'freundeskreis': 6368, 'ausgerechnet': 6369, 'nahrung': 6370, 'foermlich': 6371, 'verbergen': 6372, 'offenes': 6373, 'geplant': 6374, 'maerz': 6375, 'time': 6376, 'offenba': 6377, '20piraten': 6378, 'piratringwraith': 6379, 'barmbek': 6380, 'aufgeklae': 6381, 'nichtmengele': 6382, 'truemmerfrau': 6383, 'winfootball': 6384, '333dersim': 6385, 'verklickern': 6386, 'arbeiter': 6387, 'blicken': 6388, 'betroffenen': 6389, 'belastet': 6390, 'echtzeit': 6391, 'marcel02935041': 6392, 'verarmen': 6393, 'profitieren': 6394, 'befindet': 6395, 'krankenhaus': 6396, 'produzie': 6397, 'erreichbar': 6398, 'spahn': 6399, 'kritisiere': 6400, 'ohne': 6401, 'elfiold': 6402, 'laecherlichen': 6403, 'ueberfallen': 6404, 'saesse': 6405, 'gittern': 6406, 'historisch': 6407, 'langen': 6408, 'sa': 6409, 'zurueckgewiesen': 6410, 'strassenfest': 6411, 'zweier': 6412, 'initiativen': 6413, '03': 6414, 'langendreer': 6415, 'bochum': 6416, 'type': 6417, 'ekelhaft': 6418, 'auflehnen': 6419, 'aufbegehren': 6420, 'starker': 6421, 'tomschreibermda': 6422, 'anked': 6423, 'unterschicht': 6424, 'wiederwahl': 6425, 'bundesverfassungsgericht': 6426, 'juforuhr': 6427, 'jaeger': 6428, 'kuessen': 6429, 'ueberfueh': 6430, 'antiquarische': 6431, 'kaiserwetter49': 6432, 'freimaurer': 6433, 'zukunftskinder': 6434, 'logik': 6435, 'sued': 6436, 'kindergeld': 6437, 'krokodilstraenen': 6438, 'blase': 6439, 'dazwischen': 6440, 'australien': 6441, 'ae': 6442, '92': 6443, 'scham': 6444, 'ihn': 6445, 'goldstuecke': 6446, 'ordne': 6447, 'fuerstlich': 6448, 'dreckspresse': 6449, 'kassieren': 6450, 'wahnsinnigen': 6451, 'letztes': 6452, 'arbeitslos': 6453, 'laedt': 6454, 'oberhausen': 6455, 'ich78': 6456, 'sarkasmus': 6457, 'boykott': 6458, 'uwebecher': 6459, 'kuhnerwanna': 6460, 'vorausschauend': 6461, 'helm': 6462, 'gefiel': 6463, 'verflucht': 6464, 'konservative': 6465, 'zusaetzl': 6466, 'mind': 6467, 'bestellt': 6468, 'absurde': 6469, 'erdbeeren': 6470, 'besonderen': 6471, 'bawue': 6472, 'februar': 6473, 'konkret': 6474, 'sprecherin': 6475, 'unglaeubige': 6476, 'ohnehin': 6477, 'eingeschleppt': 6478, 'gestorben': 6479, 'bemerkt': 6480, 'verleihung': 6481, 'felix': 6482, 'rexhausen': 6483, 'spox': 6484, 'juergenzimper': 6485, 'beutler': 6486, 'diplomatie': 6487, 'glied': 6488, 'hammer': 6489, 'erwischt': 6490, 'pseudo': 6491, 'reinste': 6492, 'laune': 6493, 'weihnachtsmarkt': 6494, 'auflauf': 6495, 'vergass': 6496, 'muhammedkani': 6497, 'attacken': 6498, 'erlassen': 6499, 'normalerweise': 6500, 'gier': 6501, 'skyspo': 6502, 'scheiden': 6503, 'kulturelle': 6504, 'ralfmueller12': 6505, 'ausmacht': 6506, 'israeli': 6507, 'schaftskriminalitaet': 6508, 'berlindirekt': 6509, 'beschluss': 6510, 'unterschiedlichen': 6511, 'tatsachen': 6512, 'kein': 6513, 'schuetteln': 6514, 'literatur': 6515, 'ronny': 6516, 'funk': 6517, 'ehemaligen': 6518, 'doppelt': 6519, 'inkompetenz': 6520, 'lohn': 6521, 'rechtsanwaeldin': 6522, 'rohingya': 6523, 'doerfer': 6524, 'sendungen': 6525, 'schullerkonrad': 6526, 'depp': 6527, 'religioese': 6528, 'umfragen': 6529, 'anzusehen': 6530, 'allem': 6531, 'uhrzeit': 6532, 'breitscheid': 6533, 'fehlten': 6534, 'bevoelkerungsgruppen': 6535, 'walli5': 6536, 'kanaele': 6537, '87': 6538, 'belangt': 6539, 'austritt': 6540, 'krebbi': 6541, 'vergangenheit17': 6542, 'mxlola5': 6543, 'lazarus06': 6544, 'heinrichheine12': 6545, 'dunkeldenk': 6546, 'kreativdesign1': 6547, 'emiliac32': 6548, 'diebajuwaren': 6549, 'gunnar': 6550, 'riche': 6551, 'tbgstephen': 6552, 'bombardieren': 6553, 'verdorben': 6554, 'dienste': 6555, 'original': 6556, 'verleihen': 6557, 'sonstigen': 6558, 'zuteil': 6559, 'enythen': 6560, 'ackern': 6561, 'king': 6562, 'david': 6563, 'reaktionen': 6564, 'afdwirkt': 6565, 'professionell': 6566, 'andrea': 6567, 'geantwo': 6568, 'praesidiumsbeschluss': 6569, 'hetzerische': 6570, '6000': 6571, 'anja69': 6572, 'ernaehrung': 6573, 'mr': 6574, 'nudel': 6575, 'vorgefueh': 6576, 'sabbe': 6577, 'langweiliger': 6578, 'rothschild': 6579, 'auffaellt': 6580, 'japp': 6581, 'loewe': 6582, 'massenmoerder': 6583, 'genozid': 6584, 'angaylamerkel': 6585, '17uhr': 6586, 'bein': 6587, 'auffallen': 6588, 'oberhaeuptling': 6589, 'konsequenzen': 6590, 'handgranate': 6591, 'duisburg': 6592, 'radek': 6593, 'joern': 6594, 'komplizen': 6595, 'fluchtursachen': 6596, 'briten': 6597, 'rolandbauer11': 6598, 'maerchen': 6599, 'fliegt': 6600, 'weich': 6601, 'konto': 6602, 'mohamed': 6603, 'multiple': 6604, 'kamera': 6605, 'mitnehmen': 6606, 'maiziere': 6607, 'verwaltungsakt': 6608, 'rosenbogen111': 6609, 'fuellen': 6610, 'meide': 6611, 'lunge': 6612, 'opfers': 6613, 'allgemein': 6614, 'rechtsextrem': 6615, 'mehrsprachig': 6616, 'gemischt': 6617, 'schritte': 6618, 'steigen': 6619, 'bewerbung': 6620, 'bastard': 6621, 'verhoehnen': 6622, 'leugnen': 6623, 'pdf': 6624, 'mad': 6625, 'sper': 6626, '500': 6627, 'wieweit': 6628, 'holocaustleugner': 6629, 'moechtest': 6630, 'einzelner': 6631, 'marcel': 6632, 'wahrer': 6633, 'beteiligten': 6634, 'mario': 6635, 'fremdschaemen': 6636, 'geier': 6637, 'loecher': 6638, 'gegessen': 6639, 'einmischen': 6640, 'raumschiff': 6641, 'jeweiligen': 6642, 'hofieren': 6643, 'moment': 6644, 'pflegt': 6645, 'deckmantel': 6646, 'brandenburge': 6647, 'neuesten': 6648, 'konve': 6649, 'recherche': 6650, 'beachten': 6651, 'plingl': 6652, 'sowohl': 6653, 'pfannekuchen': 6654, 'amadeuantonio': 6655, 'gramm': 6656, 'einrichtungen': 6657, 'scheissegal': 6658, 'diskurse': 6659, 'ukrainer': 6660, 'dichter': 6661, 'sicht': 6662, 'schlagstoecken': 6663, 'jaehrige': 6664, 'wobei': 6665, 'aufbegeh': 6666, '4jahre': 6667, 'alltag': 6668, 'kapitalismus': 6669, 'pinkeln': 6670, 'denunzieren': 6671, 'langjaehrige': 6672, 'atheismus': 6673, 'gefickt': 6674, 'stimmung': 6675, 'waffensysteme': 6676, 'universitaet': 6677, 'eidigungsminister': 6678, 'genuegt': 6679, 'geschaeftsstelle': 6680, 'loewen': 6681, 'reagieren': 6682, 'ruecktritt': 6683, 'krimigranten': 6684, 'quoten': 6685, 'hexlepia': 6686, 'kardinalmarx': 6687, 'gottesdienst': 6688, 'wahlerfolg': 6689, 'simone': 6690, 'ueberfluessigen': 6691, 'r2g': 6692, 'maechtigste': 6693, 'sobald': 6694, 'esser': 6695, 'aufspielen': 6696, 'beschlossene': 6697, 'felixleidecker': 6698, 'aussuchen': 6699, 'einnehme': 6700, 'geschwuer': 6701, 'haftung': 6702, 'kommentie': 6703, 'schief': 6704, 'annettecreft': 6705, 'eilten': 6706, 'ueberzeugend': 6707, 'talmud': 6708, 'sohar': 6709, 'unterstellten': 6710, 'einander': 6711, 'migration': 6712, 'lobbycontrol': 6713, 'junckereu': 6714, 'historiker': 6715, 'ausgraben': 6716, 'ain': 6717, 'tagx': 6718, 'schaften': 6719, 'pay': 6720, 'mikro': 6721, 'bukowskisnephew': 6722, 'kreatur': 6723, 'gepruegelt': 6724, 'rechnen': 6725, 'geholt': 6726, 'drohungen': 6727, 'letzter': 6728, 'szczeciner': 6729, 'schrieben': 6730, 'wohnt': 6731, 'erfuellt': 6732, 'ute': 6733, 'silfoiera': 6734, '20min': 6735, 'viren': 6736, 'diskriminieren': 6737, 'alman': 6738, 'angefangen': 6739, 'aehhh': 6740, 'rete': 6741, 'these': 6742, 'gral': 6743, 'rebellion': 6744, 'aktiv': 6745, 'gleichgesinnten': 6746, 'roemisch': 6747, 'geschlechts': 6748, 'nationen': 6749, 'fundamentalische': 6750, 'biermann': 6751, 'lump': 6752, 'pressesprecherin': 6753, 'ursprung': 6754, 'auferstehen': 6755, 'ingreive': 6756, 'streiken': 6757, 'fehlern': 6758, 'schreien': 6759, 'dunja': 6760, 'brodelt': 6761, 'militaers': 6762, 'raffst': 6763, 'versprochen': 6764, 'arabischen': 6765, 'liebsten': 6766, 'noergeln': 6767, 'pilgramswords': 6768, 'theologie': 6769, 'aemter': 6770, 'rate': 6771, 'bock': 6772, 'bau': 6773, 'beherbergen': 6774, 'dekrete': 6775, 'stefanscharf': 6776, 'dd': 6777, 'schriesheim': 6778, 'abgesagt': 6779, 'prussian': 6780, 'po': 6781, 'radikal': 6782, 'unterbinden': 6783, 'janine': 6784, 'wissler': 6785, '89': 6786, 'niggi': 6787, 'verbloedete': 6788, 'larve': 6789, 'eur': 6790, 'nuetzlich': 6791, 'nasses': 6792, 'vorbild': 6793, 'allgemeinen': 6794, 'verraeterin': 6795, 'corinna': 6796, 'moderatorin': 6797, 'begeisterbar': 6798, 'ausschliesst': 6799, 'setzung': 6800, 'verlaesslicher': 6801, 'verhandlungspa': 6802, 'nachka': 6803, 'eln': 6804, 'sondierzngsgespraechen': 6805, 'stuemper': 6806, 'widersprechen': 6807, 'verlinkten': 6808, 'brandner': 6809, 'ruecklaeufig': 6810, 'milenahanm': 6811, 'gelebt': 6812, 'jayxderxmensch': 6813, 'euere': 6814, 'einseitige': 6815, 'betrachtung': 6816, 'propagandainstitutionen': 6817, 'ajcberlin': 6818, 'oman': 6819, '2deiner': 6820, 'klausu': 6821, 'agung': 6822, 'fragezeichen': 6823, 'erforderlichen': 6824, 'gesundheit': 6825, 'anzugehen': 6826, 'auweia': 6827, 'nachtsitzung': 6828, 'abhandeln': 6829, 'dunkelrot': 6830, 'amtseide': 6831, 'schweinerei': 6832, 'bekloppter': 6833, 'einzureisen': 6834, 'automobilindustrie': 6835, 'schadstoffe': 6836, 'gesetzestreu': 6837, 'technisch': 6838, 'peter2018huber': 6839, 'teflon': 6840, 'spitzname': 6841, 'prallt': 6842, 'laberst': 6843, 'inzucht': 6844, 'jensmeding': 6845, 'initiationritual': 6846, 'kurdischen': 6847, 'hdp': 6848, 'vernetzen': 6849, 'leylaimret': 6850, 'coban95': 6851, 'unterschlagungen': 6852, 'wiegen': 6853, 'bedenke': 6854, 'islamfeie': 6855, '5junx': 6856, 'zusagen': 6857, 'gebrochen': 6858, 'umfallen': 6859, 'postengeilheit': 6860, 'geopolitisches': 6861, 'abwandlung': 6862, 'armutschere': 6863, 'zutun': 6864, 'radikalen': 6865, 'heimschicken': 6866, 'rekruten': 6867, 'rasant': 6868, 'bbc': 6869, 'bbcarabic': 6870, 'atomkraftwerke': 6871, 'winkraftraeder': 6872, 'verschandelung': 6873, 'checken': 6874, 'unterstellungen': 6875, 'vi': 6876, 'uellen': 6877, 'gemeinsamer': 6878, 'internationaler': 6879, 'kraftanstrengung': 6880, 'gebotener': 6881, 'lautesten': 6882, 'jurastud': 6883, 'therapierbar': 6884, 'hube': 6885, 'erstarre': 6886, 'diebstaehle': 6887, 'ausgebildete': 6888, 'mielke': 6889, 'totgelacht': 6890, 'endlose': 6891, 'vorkehrungen': 6892, 'anklagebank': 6893, 'nils': 6894, 'puels': 6895, 'marcobuelow': 6896, 'eint': 6897, 'planeten': 6898, 'universum': 6899, 'milchstrasse': 6900, 'vernachlaessigte': 6901, 'scheidungskinder': 6902, 'brueckentag': 6903, 'reformation': 6904, 'eroeffnung': 6905, 'gerdm4863': 6906, 'erspare': 6907, 'gespieltes': 6908, 'sowenig': 6909, 'nichtdeutsche': 6910, 'welche': 6911, 'polemisch': 6912, 'buergernahe': 6913, 'doppelmoraler': 6914, 'regendelfin': 6915, 'girlies': 6916, 'modell': 6917, 'bluemchen': 6918, 'aufem': 6919, 'enspielplatz': 6920, 'anstellen': 6921, 'endstanden': 6922, 'ferienfreizeit': 6923, 'vielzahl': 6924, 'menschenverachtender': 6925, 'stigmatisierender': 6926, 'rassistischer': 6927, 'potentiell': 6928, 'relevante': 6929, 'zustaendigkeitsdebatten': 6930, 'ausreichender': 6931, 'denunziantenerfahrung': 6932, 'kurses': 6933, 'verbal': 6934, 'jedesmal': 6935, 'getaner': 6936, 'aenderungsantrag': 6937, 'sgo': 6938, 'onkel': 6939, 'renomarky': 6940, 'russiaconnects': 6941, 'senjohnmccain': 6942, 'mccain': 6943, 'erwies': 6944, 'ueberzogener': 6945, 'dreckshaufen': 6946, 'fluechtlingseinrichtungen': 6947, 'intersexuell': 6948, 'maennlein': 6949, 'weiblein': 6950, 'bodygards': 6951, 'verdoppeln': 6952, 'intensitaet': 6953, 'guenter': 6954, 'grass': 6955, 'schnecke': 6956, 'harz': 6957, 'schmeckt': 6958, 'sicherheitsland': 6959, 'ueberwaeltigenden': 6960, 'berni1173': 6961, 'berlinwerbung': 6962, 'hochwichtiges': 6963, 'innenminist': 6964, 'federfuehrend': 6965, 'verbotsverfahren': 6966, 'optimist': 6967, 'hinbekommen': 6968, 'fu': 6969, 'frauenpower': 6970, 'gewissens': 6971, 'aktiven': 6972, 'besetzung': 6973, 'kleber': 6974, 'erstaunt': 6975, 'friedensnobelpreistraeger': 6976, 'ufer': 6977, 'queer': 6978, 'halligalli': 6979, 'verbuenden': 6980, 'jack': 6981, 'promotions': 6982, '430': 6983, 'bc': 6984, 'zuwiederhandlung': 6985, 'botschaftern': 6986, 'oesi': 6987, 'pilz': 6988, 'peterunfried': 6989, 'erklaerungen': 6990, 'cdm': 6991, 'ingwer': 6992, 'muskatnuss': 6993, 'nelken': 6994, 'zusammenstoesse': 6995, 'glaeubigen': 6996, 'sicherheitskraeften': 6997, 'anchuelo': 6998, 'tocotronic': 6999, 'koma': 7000, 'zuckungen': 7001, 'dahinsiechenden': 7002, 'solle': 7003, 'flink': 7004, 'viecher': 7005, 'verhungern': 7006, 'klebt': 7007, 'beginnende': 7008, 'dekubitus': 7009, 'edel': 7010, 'hilfreich': 7011, 'charaktereigenschaften': 7012, 'konzentrieren': 7013, 'einzufordern': 7014, 'investyines': 7015, 'changeger': 7016, 'nichten': 7017, 'ausnahmegerichte': 7018, 'maizire': 7019, 'eckhard': 7020, 'imerika': 7021, 'agitation': 7022, 'schaufeln': 7023, 'zugunsten': 7024, 'fratze': 7025, 'schwierige': 7026, 'kontroverse': 7027, 'weitgehend': 7028, 'professionelle': 7029, 'leaken': 7030, 'wolfgangwerda': 7031, 'ericgiesel': 7032, 'maus': 7033, '67': 7034, 'sozialfaelle': 7035, 'verbitte': 7036, 'scheidungskind': 7037, 'pegidareden': 7038, 'hoerenswe': 7039, 'aufspringen': 7040, 'kamm': 7041, 'scheren': 7042, 'exilschlangi': 7043, 'itsamettworld': 7044, 'drolnegul': 7045, 'octopussietus': 7046, 'gereizt': 7047, 'erschlichen': 7048, 'aufgedeckt': 7049, 'kirchlichen': 7050, 'aufgetreten': 7051, 'verbrecherisch': 7052, 'hochkriminell': 7053, 'geldgierig': 7054, 'muffe': 7055, 'braunhaeutigen': 7056, 'slogan': 7057, 'bunt': 7058, 'bravo': 7059, 'newsphotode': 7060, 'verbrecherstaat': 7061, 'ganoven': 7062, 'richtern': 7063, 'zusammenhaengenden': 7064, 'patricecore': 7065, 'skype': 7066, 'wmda1978': 7067, 'neuzeit': 7068, 'carnolie': 7069, 'anordnungen': 7070, 'sinds': 7071, 'aushebelung': 7072, 'waehlermehrheit': 7073, 'zentralregierung': 7074, 'deusvultkti': 7075, 'mitteilen': 7076, 'pinkel': 7077, 'zwangslaeufig': 7078, 'hirnlos': 7079, 'gejubelt': 7080, 'scheinheiliges': 7081, 'migrantenanteil': 7082, '43': 7083, '37': 7084, 'magn1ficus': 7085, 'beweispflicht': 7086, 'unnoetigen': 7087, 'kiez': 7088, 'afdfraktion': 7089, 'enbw': 7090, 'erneuerbarer': 7091, 'anfangstweet': 7092, 'geschaeftsschluss': 7093, 'verkehrsmitteln': 7094, 'kaefe': 7095, 'viernheim': 7096, 'weinheim': 7097, 'kongo': 7098, 'buergerfreundliche': 7099, 'rausgeschnitten': 7100, 'werwald': 7101, 'halbnigger': 7102, 'bekanntschaft': 7103, 'linkem': 7104, 'bevormundet': 7105, 'warf': 7106, 'sympathie': 7107, 'oberlehrerhaft': 7108, 'shmock': 7109, 'langerbeats': 7110, 'ruder': 7111, 'beschuetzt': 7112, 'welchen': 7113, 'hinausziehen': 7114, 'evangelium': 7115, 'mullahs': 7116, 'steinigen': 7117, 'verrutscht': 7118, 'bo': 7119, 'reset': 7120, 'grundschulsystems': 7121, 'verfluchten': 7122, 'handsockenpuppen': 7123, 'schwingenden': 7124, 'oekoantifafeministinnen': 7125, 'dringlichst': 7126, 'thethomaskatz': 7127, 'imamofpeace': 7128, 'thegreyghostofw': 7129, 'hallal': 7130, 'tierquaelerei': 7131, 'supermaerkte': 7132, 'projekte': 7133, 'pln': 7134, 'familienteil': 7135, 'hoher': 7136, 'befunden': 7137, 'lieferwagen': 7138, 'quote': 7139, 'kuechenschabe': 7140, 'kammerjaeger': 7141, 'verstrahlt': 7142, 'afganen': 7143, 'fusling': 7144, 'drogenhandel': 7145, 'kurier': 7146, 'bruno': 7147, 'burzynski': 7148, 'feuchten': 7149, 'schaeubles': 7150, 'aufkommen': 7151, 'flugzeugfuehrer': 7152, 'herrschaften': 7153, 'handschellen': 7154, 'vehement': 7155, 'nazitaeter': 7156, 'fuehrungsspitze': 7157, 'anstrengend': 7158, 'ueberfordernd': 7159, 'plagt': 7160, 'kriegsgebiet': 7161, 'fuenf': 7162, 'wohltaten': 7163, 'mohammends': 7164, 'palestina': 7165, 'finanziell': 7166, 'eienwahlkampf': 7167, 'eingelullt': 7168, 'mildernde': 7169, 'bruesten': 7170, 'duemmere': 7171, 'ausreicht': 7172, 'staatsanwalt': 7173, 'einzelstaaten': 7174, 'abschiebt': 7175, 'lucius': 7176, 'reiht': 7177, 'nahtlos': 7178, 'biographien': 7179, 'zeig': 7180, 'eliderwanderer': 7181, 'yuma': 7182, 'lein': 7183, 'fakenfinder': 7184, 'dmfreund1': 7185, 'klebend': 7186, 'sitzend': 7187, 'warze': 7188, 'perfektionie': 7189, 'sonderbehandlung': 7190, 'herrenmentalitaet': 7191, 'blitzsieg': 7192, 'niklas': 7193, 'salm': 7194, 'derbe': 7195, 'unmenschlich': 7196, 'find': 7197, 'zuhauf': 7198, 'mobbing': 7199, 'abfaellig': 7200, 'protestie': 7201, 'bahh': 7202, 'bockt': 7203, 'lu': 7204, 'honeychurch': 7205, 'laloeffelstiel': 7206, 'breiter': 7207, 'reterin': 7208, 'istanbul': 7209, 'grossmeister': 7210, 'henhoffgaard': 7211, 'mboe0407': 7212, 'herrschenden': 7213, 'gekrochen': 7214, 'meets': 7215, 'grundreinigung': 7216, 'kinderbildung': 7217, 'juan': 7218, 'carlos': 7219, 'verlaesst': 7220, 'sinkende': 7221, 'schiff': 7222, 'gewusst': 7223, 'nationalstaates': 7224, 'gedemuetigt': 7225, 'thinktankarsch': 7226, 'immo': 7227, 'drehen': 7228, 'stalinisten': 7229, 'grammatikfehler': 7230, 'rotgruenes': 7231, 'doppelmoralistenheuchler': 7232, 'uneingeladene': 7233, 'zwischenfazit': 7234, 'verbissen': 7235, 'buergerkriegen': 7236, 'planen': 7237, 'gierige': 7238, 'aphrabehne': 7239, 'fuhr': 7240, 'enlatschen': 7241, 'kaufte': 7242, 'laetzchen': 7243, 'klecke': 7244, 'fiese': 7245, 'rollen': 7246, 'denkende': 7247, 'faehig': 7248, 'einfo': 7249, 'formie': 7250, 'erkundigt': 7251, 'bekanntgabe': 7252, 'zuruecktreten': 7253, 'aufatmen': 7254, 'strack': 7255, 'arbeitsloser': 7256, 'frechen': 7257, 'erstelle': 7258, 'musikalisches': 7259, 'comedyprogramm': 7260, 'methaphorischer': 7261, 'anspielungen': 7262, 'ludhell123': 7263, 'andreasch': 7264, 'entstanden': 7265, 'eingenommen': 7266, 'abgebogen': 7267, 'signalisie': 7268, 'phrasen': 7269, 'erlaeutern': 7270, 'ue18': 7271, 'staerkste': 7272, 'germania': 7273, 'bewundere': 7274, 'genetik': 7275, 'prinzip': 7276, 'natuerlichen': 7277, 'auslese': 7278, 'antichrist': 7279, 'feuerzangenbowle': 7280, 'aufgeregt': 7281, 'bestsellers': 7282, 'emil': 7283, 'detektive': 7284, 'puenktchen': 7285, 'anton': 7286, 'fliegende': 7287, 'klassenzimmer': 7288, 'kaestner': 7289, 'inszenierung': 7290, 'zuzuschustern': 7291, 'laendersache': 7292, 'bundessache': 7293, 'kommunal': 7294, 'sou': 7295, 'legalisie': 7296, 'launige': 7297, 'breitseiten': 7298, 'kabarettisten': 7299, 'detlev': 7300, 'wischmeyer': 7301, 'gewoehnlich': 7302, 'klagerecht': 7303, 'schwesigraubgeld': 7304, 'linksautonome': 7305, 'prob': 7306, 'kangarooger': 7307, 'deadhunt16': 7308, 'mpeteraltona': 7309, 'udukai2002': 7310, 'linksversifften': 7311, 'stoeckchen': 7312, 'springen': 7313, 'hinhalten': 7314, 'terrorfuerst': 7315, 'yassir': 7316, 'arafat': 7317, 'bediente': 7318, 'demuetigten': 7319, 'eretz': 7320, 'unbenannten': 7321, 'jbuttermilch': 7322, 'taykra': 7323, 'kashrut': 7324, 'speisegesetzen': 7325, 'tiere': 7326, 'tierwohl': 7327, 'reinheit': 7328, 'oberster': 7329, 'shechita': 7330, 'wissenschaft': 7331, 'weggeworfene': 7332, 'schmock': 7333, 'geschminkt': 7334, 'feiglingen': 7335, 'xenophob': 7336, 'inseln': 7337, 'abschiessen': 7338, 'ausreisewilligen': 7339, 'hilflos': 7340, 'jochen': 7341, 'rohrberg': 7342, 'geisteszustand': 7343, 'wasistzeitgeist': 7344, 'gemuetlich': 7345, 'kriegsbilligende': 7346, 'charakterlose': 7347, 'schultchristoph': 7348, 'ergaenzte': 7349, 'transfer': 7350, 'haftungsunion': 7351, 'zonen': 7352, 'budget': 7353, 'realpolitisch': 7354, 'bedeutsamer': 7355, 'zurueckfahren': 7356, 'esm': 7357, 'hihihi': 7358, 'bastelte': 7359, 'blockfloeten': 7360, 'davidsternen': 7361, 'brennen': 7362, 'juedinnen': 7363, 'bedroht': 7364, 'solider': 7365, 'wahnsinnig': 7366, 'beeindruckt': 7367, 'svenheberling': 7368, 'abendfarben': 7369, 'gen': 7370, 'group': 7371, 'udyrsux': 7372, 'fluechtlingsboote': 7373, 'kuestennaehe': 7374, 'torpedieren': 7375, 'sozialschmarotzer': 7376, 'einsatzfaehig': 7377, 'abgesang': 7378, 'urlaubsbilder': 7379, 'schoenreden': 7380, 'zum': 7381, 'luder': 7382, 'schreibverbot': 7383, 'kanackenstadt': 7384, 'kanackenstaat': 7385, 'bischofswerda': 7386, 'maxxbikede': 7387, 'erniedrigend': 7388, 'babel': 7389, 'kauenden': 7390, 'verarschung': 7391, 'gewaltexzesse': 7392, 'wahlsieg': 7393, 'spesen': 7394, 'dierehfeldt': 7395, 'brettl': 7396, 'spitzen': 7397, 'politikkaspar': 7398, 'drueck': 7399, 'glaser': 7400, 'vizepraesident': 7401, 'albe': 7402, 'rivera': 7403, 'gleichnamige': 7404, 'jesuitenpater': 7405, 'schwach': 7406, 'uebernahmen': 7407, 'lizaswelt': 7408, 'vasallenpack': 7409, 'haenge': 7410, '20cm': 7411, 'kommunalpolitik': 7412, 'durcheinander': 7413, 'eigener': 7414, 'herausforderung': 7415, 'vanderbellen': 7416, 'matthiascremer': 7417, 'kickl': 7418, 'amtes': 7419, 'enthoben': 7420, 'pickelplatagen': 7421, 'wuffelchen': 7422, 'kategorien': 7423, 'blindenhund': 7424, 'friedhoefe': 7425, 'sprecht': 7426, '1990ern': 7427, 'balkankonflikt': 7428, 'schueren': 7429, '1920ern': 7430, 'verfassten': 7431, 'pamphlete': 7432, 'vorweg': 7433, 'vermischung': 7434, 'abzielt': 7435, 'herrenrasse': 7436, 'sche': 7437, 'schriftsteller': 7438, 'ebmeyer': 7439, 'schmalzigen': 7440, 'veruntreut': 7441, 'kandidatinnen': 7442, 'wohltat': 7443, 'eufel': 7444, 'eingeschlichen': 7445, 'tippt': 7446, 'schonwieder': 7447, 'privatversiche': 7448, 'einheitsversicherung': 7449, 'therapie': 7450, 'muendige': 7451, 'staatlichen': 7452, 'vormund': 7453, 'nannystaat': 7454, 'heuchelnde': 7455, 'anhaengerin': 7456, 'ny': 7457, 'kurse': 7458, 'unwissend': 7459, 'geschrei': 7460, 'armutszeichen': 7461, 'ueble': 7462, 'ausweisdokumenten': 7463, 'aufgemacht': 7464, 'reisepass': 7465, 'trauerspiel': 7466, 'verfestigt': 7467, 'twitte': 7468, 'phantomschmerz': 7469, 'fehlende': 7470, 'machtgeilheit': 7471, 'zwangen': 7472, 'vaseline': 7473, 'steuerbetrueger': 7474, 'verschwunden': 7475, 'eigentore': 7476, 'verhaenger': 7477, 'lalalalla': 7478, 'lalalallaalla': 7479, 'arroganz': 7480, 'tapfere': 7481, 'bloedies': 7482, 'watschenbaum': 7483, 'ruetteln': 7484, 'shengfui': 7485, 'zustaendiger': 7486, 'entspannt': 7487, 'hunsrueck': 7488, 'steig': 7489, 'baumwipfelpfad': 7490, 'vauban': 7491, 'polygon': 7492, 'schilde': 7493, 'prophetien': 7494, 'deutet': 7495, 'selbsterfuellung': 7496, 'auslandseinsatz': 7497, 'staatsarmeen': 7498, '6x': 7499, 'verlaenge': 7500, 'notstandsgesetze': 7501, 'macbeth0815': 7502, 'dasnoch': 7503, 'nightmanager6': 7504, 'dtpmaker': 7505, 'matthiasfux': 7506, 'kostbar': 7507, 'eidige': 7508, 'liebst': 7509, 'verstaendigt': 7510, 'hecke': 7511, 'pissen': 7512, 'knien': 7513, 'demut': 7514, 'ostfale': 7515, 'dez': 7516, 'streams': 7517, 'berlusconi': 7518, 'kz': 7519, 'aufseher': 7520, 'verglich': 7521, 'fruehen': 7522, 'lecke': 7523, 'arsche': 7524, 'lauf': 7525, 'forrest': 7526, 'hrfernsehen': 7527, 'setz': 7528, 'lorbeerkranz': 7529, 'schmierige': 7530, 'frisur': 7531, 'bestehend': 7532, 'duckmaeusern': 7533, 'hatern': 7534, 'orientierungslose': 7535, 'jugendliche': 7536, 'lotstep1': 7537, 'sezession': 7538, 'woll': 7539, 'weht': 7540, 'draufspuckt': 7541, 'blutmerkel': 7542, 'conny': 7543, 'asf': 7544, 'ulrichsiegmund': 7545, 'realitaetsfernes': 7546, 'geschwafel': 7547, 'landschaften': 7548, 'ausgezeichnete': 7549, 'befindlichen': 7550, 'psychopathin': 7551, 'mfheine': 7552, 'voelkern': 7553, 'aufruft': 7554, 'verwirkt': 7555, 'antirassitisch': 7556, 'vorfuehren': 7557, 'inkompetenteste': 7558, 'bundesamt': 7559, 'eienlandschaft': 7560, 'murksels': 7561, 'thron': 7562, 'udo': 7563, 'juergens': 7564, 'gewandelt': 7565, 'gewiss': 7566, 'heile': 7567, 'asylbetrug': 7568, 'juttambrandt': 7569, 'linksgruenversyphte': 7570, 'messerschwingenden': 7571, 'libanesen': 7572, 'tuerkenabschaum': 7573, 'angetan': 7574, 'unmenschen': 7575, 'quietschen': 7576, 'kanne': 7577, 'asien': 7578, 'reines': 7579, 'heinrichkrug': 7580, 'hinterfotziger': 7581, 'nichtsnuetzigen': 7582, 'hergibt': 7583, 'vorziehen': 7584, 'trauten': 7585, 'abhauen': 7586, 'machtpoker': 7587, 'zuzusehen': 7588, 'stiehlt': 7589, 'lebenszeit': 7590, 'moenche': 7591, 'maedchenblog': 7592, 'chatterinnen': 7593, 'navalnij': 7594, 'hemd': 7595, 'gekauft': 7596, 'slim': 7597, 'schietkrom': 7598, 'dor': 7599, 'sueddeutscher': 7600, 'sprottenbuckel': 7601, 'kurzschwanzdackel': 7602, 'luschet': 7603, 'hlnbg': 7604, 'cdudresden': 7605, 'kritische': 7606, 'mittelmass': 7607, 'jungewelt': 7608, 'direkten': 7609, 'frie': 7610, 'ueberfuellter': 7611, 'innenplatz': 7612, 'christliches': 7613, 'zurueckgeschickt': 7614, 'abfangen': 7615, 'zurueckjagen': 7616, 'teure': 7617, 'schwarzafrikanischen': 7618, 'propagie': 7619, 'gewollten': 7620, 'nobitwt': 7621, 'schuldigen': 7622, 'kopfklara': 7623, 'jazzlover2017': 7624, 'sarrazin': 7625, 'schondie': 7626, 'katastrophalen': 7627, 'beschrieben': 7628, 'kefer83512': 7629, 'tiraden': 7630, 'manipulationspresse': 7631, 'knechtschaft': 7632, 'stirn': 7633, 'insider': 7634, 'aufzuregen': 7635, 'terrorangriffs': 7636, 'telaviv': 7637, 'ido': 7638, 'ben': 7639, 'ari': 7640, 'ilana': 7641, 'naveh': 7642, 'mishaev': 7643, 'wunderbarer': 7644, 'tbe979': 7645, 'bleibende': 7646, 'hinterlaesst': 7647, 'minder': 7648, 'bemitleiden': 7649, 'furor': 7650, 'teutonicus': 7651, 'zurhoellemitmerkel': 7652, 'tiefm66': 7653, 'margareta': 7654, 'gerechtigkeitsmanufaktur': 7655, 'mainstreams': 7656, 'respektieren': 7657, 'brennend': 7658, 'iwf': 7659, 'enteignung': 7660, 'sparer': 7661, 'schumacher': 7662, 'leber': 7663, 'ehmke': 7664, 'shariah': 7665, 'rausschmeissen': 7666, 'durchbruch': 7667, 'koalitions': 7668, 'juchtenkaefer': 7669, 'gerungen': 7670, 'angewendet': 7671, 'alina': 7672, 'stiegler': 7673, 'koloniestaaten': 7674, 'solen': 7675, 'ausgebeutet': 7676, 'burkhardt': 7677, 'integrationsgesetz': 7678, 'hebelt': 7679, 'individuellen': 7680, 'fluechtlingsschutz': 7681, 'bedingung': 7682, 'schuhmacherfr': 7683, 'dumbest': 7684, 'woman': 7685, 'ea': 7686, 'says': 7687, 'source': 7688, 'terrorism': 7689, 'ioandar': 7690, 'gelle': 7691, 'ueblichen': 7692, 'buergschaften': 7693, 'verwandten': 7694, 'maghreb': 7695, 'beamen': 7696, 'waldheidelbeeren': 7697, 'asylantraege': 7698, 'weltweiten': 7699, 'polenboeller': 7700, 'goldjungenfamilien': 7701, 'menschenwuerdiges': 7702, 'dasein': 7703, 'grossreich': 7704, 'gefuehlsdusel': 7705, 'geebnet': 7706, 'bialogard': 7707, 'einzuklinken': 7708, 'verzettelt': 7709, 'nazidiskussionen': 7710, 'herrsche': 7711, 'fallt': 7712, 'vereinigt': 7713, 'dackel': 7714, 'rotti': 7715, 'zdj': 7716, 'iraels': 7717, 'staatsraeson': 7718, 'lebensraeson': 7719, 'realhelmchen': 7720, 'lord': 7721, 'helmchen': 7722, 'herumgebastelt': 7723, 'hographische': 7724, 'grundkenntnisse': 7725, 'berechtigt': 7726, 'hinauszuonanieren': 7727, 'dillerjohann': 7728, 'mett': 7729, 'bilgiliueretmen': 7730, 'defende': 7731, 'magenverkleinerung': 7732, 'dramatischen': 7733, 'existentiellen': 7734, 'ereignisse': 7735, 'sondersendung': 7736, 'pasinelli72': 7737, 'biologische': 7738, 'angeboren': 7739, 'fischblog': 7740, 'mundschutz': 7741, 'xd': 7742, 'motiven': 7743, 'bakkanwahl': 7744, 'fahnenfluechtige': 7745, 'geaechtet': 7746, 'hexe': 7747, 'hughbronson': 7748, 'mephisto966': 7749, 'kadett': 7750, 'pirx': 7751, 'ueberreif': 7752, 'ausmisten': 7753, 'eibuch': 7754, 'fjfstrauss': 7755, 'geheimes': 7756, 'kreuzchen': 7757, 'wahlurne': 7758, 'wuetender': 7759, 'internetkommentar': 7760, 'weitem': 7761, 'points': 7762, 'alpen': 7763, 'porno': 7764, 'rainererichtd': 7765, 'sehn': 7766, 'intoleranz': 7767, 'gegendemos': 7768, 'reinfall': 7769, 'heuchlerin': 7770, 'leberwurst': 7771, 'huehnchenleber': 7772, 'aepfel': 7773, 'thymian': 7774, 'mayoran': 7775, 'zwiebel': 7776, 'saulecker': 7777, 'unwo': 7778, 'bekanntgegeben': 7779, 'waers': 7780, 'tritten': 7781, 'ausgenommen': 7782, 'laengere': 7783, 'ragnar0212': 7784, 'nadsi': 7785, 'obernadsi': 7786, 'wehret': 7787, 'schlusspunkten': 7788, 'bargeld': 7789, 'minuszinsen': 7790, 'ersparnissen': 7791, 'abbuchen': 7792, 'geldabheben': 7793, 'erfuellst': 7794, 'packung': 7795, 'schenke': 7796, 'lauchfreunden': 7797, 'bayerischer': 7798, 'fluechtlingsrat': 7799, 'abschiebungenn': 7800, 'afghanischeraufschrei': 7801, 'protestzelt': 7802, 'afghanistanisnotsafe': 7803, 'grundvoraussetzung': 7804, 'beberlin': 7805, 'bemuehst': 7806, 'gehst': 7807, 'keks': 7808, 'aendere': 7809, 'unterstuetze': 7810, 'nationalitaeten': 7811, 'franzchristia15': 7812, 'budweiser': 7813, 'africhinese': 7814, 'nationale': 7815, 'abstammung': 7816, 'koelnerjeck2018': 7817, 'hameln': 7818, 'neuenhaus': 7819, 'respektvollen': 7820, 'nichtmeinekanzlerin': 7821, 'neujahrsansprache': 7822, 'dumpfbacke': 7823, 'kluger': 7824, 'schachzug': 7825, 'anfreunden': 7826, 'hsvmanu': 7827, 'disasterrider': 7828, 'verbindungen': 7829, 'hergestellt': 7830, 'gurgel': 7831, 'atombomben': 7832, 'klicke': 7833, 'missratenes': 7834, 'blechgesicht': 7835, 'wengerluis': 7836, 'energiewende': 7837, 'schweinswale': 7838, 'nordsee': 7839, 'verkrieche': 7840, 'daunen': 7841, 'bavarianpower': 7842, 'verarsche': 7843, 'durchschauen': 7844, 'kriminel': 7845, 'gesamtgesellschaftliches': 7846, '1vanackeren': 7847, 'marcusweinberg': 7848, 'lebensmuede': 7849, 'klingeln': 7850, 'mikemichaels': 7851, 'kreisvorsitzender': 7852, 'fluechtlingsinitiativen': 7853, 'soziluca': 7854, 'stimmberechtigter': 7855, 'eitagsdelegie': 7856, 'gliederung': 7857, 'migrationspolitischen': 7858, 'demokratiebgemeinschaft': 7859, 'sand': 7860, 'mannes': 7861, 'farbe': 7862, 'demian': 7863, 'ind': 7864, 'polizeibeamte': 7865, 'einzustellen': 7866, 'taxifahrer': 7867, 'trucker': 7868, 'reul': 7869, 'unhaltbar': 7870, 'hervorbringt': 7871, 'hsben': 7872, 'nundig': 7873, 'olivergorus': 7874, 'gebot': 7875, 'hoeflichkeit': 7876, 'manfredbuder': 7877, 'grossmaeuligen': 7878, 'munder': 7879, 'hergespielt': 7880, 'eingeleitet': 7881, 'synodalgerichte': 7882, 'durchgefueh': 7883, 'pontifikalamt': 7884, 'stiftskirche': 7885, 'ercankarakoyun': 7886, 'tiefstem': 7887, 'geradezu': 7888, 'ferkel': 7889, 'ran': 7890, 'elendsfigur': 7891, 'normales': 7892, 'ausschliessl': 7893, 'eufeln': 7894, 'vampiere': 7895, 'scheuen': 7896, 'weihrauch': 7897, 'knoplauch': 7898, 'edwinpalesch': 7899, 'schwebte': 7900, 'notarielle': 7901, 'begleitung': 7902, 'unabhaengigkeits': 7903, 'labereien': 7904, 'oppermann': 7905, 'auffuehren': 7906, 'knallte': 7907, 'server': 7908, 'axtlaenge': 7909, 'mschroeren': 7910, 'argumentieren': 7911, 'jahresproduktion': 7912, '1800': 7913, 'narzisstischen': 7914, 'persoenlichkeitsstoerung': 7915, 'gruenebundestag': 7916, 'nicolemaisch': 7917, 'konstantinnotz': 7918, 'stinktiere': 7919, 'antrete': 7920, 'chefarztbehandlung': 7921, 'normalverbraucher': 7922, 'privatversicherung': 7923, 'jong': 7924, 'backen': 7925, 'zusammenkneifen': 7926, 'luegeafd': 7927, 'diversen': 7928, 'aufsichtsgremien': 7929, 'florian': 7930, 'csumuenchen': 7931, 'spdmuenchen': 7932, 'gruenerathaus': 7933, 'finaler': 7934, 'wasmirwichtigist': 7935, 'rentenniveau': 7936, 'ganztagsschule': 7937, 'kooperationsverbot': 7938, 'zielisch': 7939, 'rrg': 7940, 'mitsamt': 7941, 'isolieren': 7942, 'care': 7943, 'paketflieger': 7944, 'gay20': 7945, 'selbstmord': 7946, 'nachgeladen': 7947, 'huelse': 7948, 'spezialitaet': 7949, 'beruhigend': 7950, 'schwachsinnigere': 7951, 'erderwaermung': 7952, 'politicalcorrectness': 7953, 'einweisen': 7954, 'huebsch': 7955, 'erotisch': 7956, 'ihresgleichen': 7957, 'werke': 7958, 'unfug': 7959, 'veranstaltet': 7960, 'israelbondsnews': 7961, 'lafrahm': 7962, 'gisep': 7963, 'economic': 7964, 'trade': 7965, 'herrlichkeit': 7966, 'koenigreich': 7967, 'zugleich': 7968, 'schoepfer': 7969, 'rat': 7970, 'behausung': 7971, 'nern': 7972, 'rueckenschwimmen': 7973, 'derbrainfucker': 7974, 'friedfe': 7975, 'gegeneinander': 7976, 'ausgespielt': 7977, 'proteste': 7978, 'rausruecken': 7979, 'x9donernesto': 7980, 'taeuschen': 7981, 'affenland': 7982, 'wiklich': 7983, 'besorgte': 7984, 'versus': 7985, '13prozent': 7986, 'wutbuerger': 7987, 'sundownsolution': 7988, 'entnehme': 7989, 'katholikentag': 7990, 'zdkonline': 7991, 'arnorode1967': 7992, 'wackeldackel': 7993, 'esprit': 7994, 'rannte': 7995, 'kaufhaus': 7996, 'schrie': 7997, 'einwanderern': 7998, 'eskalieren': 7999, 'erheben': 8000, 'eingehen': 8001, 'betone': 8002, 'seelen': 8003, 'irreparablen': 8004, 'reginakuepper': 8005, 'kariemuster': 8006, 'asylbochum': 8007, 'ditib': 8008, 'imame': 8009, 'behaelt': 8010, 'einbuergerung': 8011, 'statistischer': 8012, 'aufhellung': 8013, 'vorschein': 8014, 'uneinig': 8015, 'schallende': 8016, 'ohrfeige': 8017, 'davongeflogen': 8018, 'abgaswe': 8019, 'unterschlagen': 8020, 'automotoren': 8021, 'geschummelt': 8022, 'braun23': 8023, 'marktwi': 8024, 'erlebe': 8025, 'erfolgreicher': 8026, 'unterricht': 8027, 'identifikation': 8028, 'rebellieren': 8029, 'gleichbedeutend': 8030, 'irreparable': 8031, 'beate': 8032, 'untaten': 8033, 'blumige': 8034, 'umschreibungen': 8035, 'geheimsprachen': 8036, 'maulkorb': 8037, 'ruhiger': 8038, 'attraktiver': 8039, 'nichthellseins': 8040, 'lieblingskuenstler': 8041, 'hellhaeutig': 8042, 'empfindlich': 8043, 'dunkeldeutsche': 8044, 'kurzmoeglichste': 8045, 'zusammenfassung': 8046, 'sesselfurzer': 8047, 'hinweise': 8048, 'absichtlich': 8049, 'auszufuehren': 8050, 'lichter': 8051, 'demonstrierende': 8052, 'palaestinensischer': 8053, 'eimitglied': 8054, 'beleidigte': 8055, 'boris': 8056, 'tschlze': 8057, 'siegmar': 8058, 'clausstrunz': 8059, 'allerwichtigste': 8060, 'entsorge': 8061, 'bvwattenscheid': 8062, 'vergewaltigungs': 8063, 'beitz': 8064, 'keinen': 8065, 'geografie': 8066, 'lybien': 8067, 'natu': 8068, 'alent1973': 8069, 'anreisen': 8070, 'dumpfnazitum': 8071, 'assis': 8072, 'bruellen': 8073, 'vaterlosen': 8074, 'salafisten': 8075, 'anwerben': 8076, 'kulturpessimismus': 8077, 'takt': 8078, 'tanzen': 8079, 'nullen': 8080, 'wahlzirkus': 8081, 'ungen': 8082, 'ueberwiesen': 8083, 'zerlegt': 8084, 'vergisst': 8085, 'ratschlag': 8086, 'verlorenem': 8087, 'verursacherprinzip': 8088, 'principessamona': 8089, 'schnoesel': 8090, 'sauerkreatur': 8091, 'kanzlers': 8092, 'fxneumann': 8093, 'jungbauerw': 8094, 'ausruf': 8095, 'beobachtungen': 8096, 'joerndehne': 8097, 'entscheidend': 8098, 'spdbt17': 8099, 'sumpf': 8100, 'rueber': 8101, 'younower': 8102, 'assikinder': 8103, 'geregelten': 8104, 'mahlzeiten': 8105, 'tischgebet': 8106, 'hausmusik': 8107, 'fruehspo': 8108, 'enarbeiten': 8109, 'bennosworld': 8110, 'beschreiben': 8111, 'meinungsforschungsinstituten': 8112, 'reffen': 8113, 'maligen': 8114, 'aufgeschmissen': 8115, 'kurdischer': 8116, 'aktivist': 8117, 'abdullah': 8118, '129b': 8119, 'pkk': 8120, 'ausgelegt': 8121, 'unechte': 8122, 'surfen': 8123, 'igtem': 8124, 'argwohn': 8125, 'beaeugten': 8126, 'europawahn': 8127, 'errungenschaft': 8128, 'unten': 8129, 'missgunst': 8130, 'vereint': 8131, 'oliverfabian1': 8132, 'verherrlichen': 8133, 'havermann': 8134, 'ungarns': 8135, 'stemmen': 8136, 'eilte': 8137, 'gleichmacherei': 8138, '2malcs': 8139, 'ararchisten': 8140, 'fernseh': 8141, 'heini': 8142, 'stubenfliege': 8143, 'rauslesen': 8144, 'simonlippe': 8145, 'wahluerfsteine': 8146, 'verschickt': 8147, 'riebener': 8148, 'polizeigewalt': 8149, 'verhaften': 8150, 'ckemfe': 8151, 'hmmm': 8152, 'bestreitet': 8153, 'luecke': 8154, 'kapazitaet': 8155, '20ern': 8156, 'pressehandy': 8157, 'ler': 8158, 'xxbe': 8159, 'ixxneu': 8160, 'walterwolf1': 8161, 'teleherzog': 8162, 'szene': 8163, 'schlesien': 8164, 'pommern': 8165, 'ostpreussen': 8166, 'ossi': 8167, 'gradmesser': 8168, 'bundespolitik': 8169, 'ueberfliegen': 8170, '1979': 8171, 'indentifizierbaren': 8172, 'fahndungs': 8173, 'saeue': 8174, 'laendle': 8175, 'linksrum': 8176, 'hopfen': 8177, 'malz': 8178, 'onnittelut': 8179, 'paketboten': 8180, 'ehefueralle': 8181, 'passende': 8182, 'csdberlin': 8183, 'teilnehmerinnen': 8184, 'comtesolitude': 8185, 'erging': 8186, 'csdwuerzburg': 8187, 'diary': 8188, 'flausensuppe': 8189, 'urlaubstage': 8190, 'moegliche': 8191, 'konstellationen': 8192, 'arbeitnehmer': 8193, 'elektro': 8194, 'electrivenet': 8195, 'mobility': 8196, 'cars': 8197, 'wallraff': 8198, 'deutschhasser': 8199, 'yrerer': 8200, 'konfettischwulenparaden': 8201, 'oezdingens': 8202, 'weggezuechtet': 8203, 'neande': 8204, 'aler': 8205, 'hirnlose': 8206, 'prolle': 8207, 'rapenneke': 8208, 'behinderung': 8209, 'einbahnstrasse': 8210, 'vid': 8211, 'verzicht': 8212, 'jutuber': 8213, 'straftaeter': 8214, 'simbabwe': 8215, 'blaupfeil': 8216, 'aehm': 8217, 'zitieren': 8218, 'zeigst': 8219, 'splitter': 8220, 'bruders': 8221, 'achiles04885165': 8222, 'schiesse': 8223, 'emma': 8224, 'cocos': 8225, 'drecksbande': 8226, 'vogelfrei': 8227, 'freigegeben': 8228, 'derzeitige': 8229, 'geschilde': 8230, 'folgedessen': 8231, 'mitschuld': 8232, 'lukrative': 8233, 'geschaefte': 8234, 'pizza': 8235, 'schweinefleisch': 8236, 'selektie': 8237, 'zeile': 8238, 'codex': 8239, 'wuergen': 8240, 'joleffers': 8241, 'einestages': 8242, 'abgedreht': 8243, 'landespolitiker': 8244, 'langeweile': 8245, '7x7': 8246, 'wasserbett': 8247, 'verstorbenen': 8248, 'november': 8249, 'muenchner': 8250, 'zujubeln': 8251, 'ruma1251': 8252, 'walensee': 8253, 'messerstecher': 8254, 'moechtegernbuergermeister': 8255, 'kuerbislecker': 8256, 'vergesse': 8257, 'fitzelrauspuhl': 8258, 'verhaeltnis': 8259, 'bleiberecht': 8260, 'sabine': 8261, 'selbstherrlichkeit': 8262, 'egomanen': 8263, 'sprecher': 8264, 'wars': 8265, 'kanzlerkandidatur': 8266, 'bewirbt': 8267, 'etlichen': 8268, 'angelegt': 8269, 'intellekt': 8270, 'klimaerwaermung': 8271, 'lokaler': 8272, 'giftausstoss': 8273, 'kraftwerken': 8274, 'industrieanlagen': 8275, 'weitergeben': 8276, 'wickeltisch': 8277, 'aktueller': 8278, 'arabern': 8279, 'ethnischen': 8280, 'trauma': 8281, 'sehnsucht': 8282, 'gewahrsamzelle': 8283, 'arbeitsplattform': 8284, 'compass': 8285, 'star': 8286, 'hoechstgradfreimaurer': 8287, 'gioele': 8288, 'massoni': 8289, 'heul': 8290, 'kirchenbeamter': 8291, 'droege': 8292, 'schwien': 8293, 'suend': 8294, 'buern': 8295, 'sien': 8296, 'ruin': 8297, 'mecklenburgischer': 8298, 'mitmischt': 8299, 'rheinjogger': 8300, 'verdroschen': 8301, 'abwechselnd': 8302, 'durchgehend': 8303, 'uebersehen': 8304, 'datensammlung': 8305, 'steuerpolitik': 8306, 'einkuenfte': 8307, '313': 8308, 'netto': 8309, 'fuehrende': 8310, 'manuskript': 8311, 'mgrossebroemer': 8312, 'gewisser': 8313, 'zurueckholen': 8314, 'potentiellen': 8315, 'gruendlich': 8316, 'gesichtsausdruck': 8317, 'baende': 8318, 'osterweiterung': 8319, 'ritaka9': 8320, 'entmannt': 8321, 'achtwoechige': 8322, 'sondierungsverhandlungen': 8323, 'wagten': 8324, 'uebel': 8325, 'aktionismus': 8326, 'moelzer': 8327, 'einladen': 8328, 'sendern': 8329, 'einseitiges': 8330, 'verfaelschtes': 8331, 'geschichtsbild': 8332, 'hinterherzulaufen': 8333, 'gegenw': 8334, 'schlagwo': 8335, 'gekratzt': 8336, 'redest': 8337, 'umfaellt': 8338, 'blitze': 8339, 'wurd': 8340, 'fruechte': 8341, 'uralter': 8342, 'aerzte': 8343, 'bezahlter': 8344, 'obergrenzen': 8345, 'ueberrennen': 8346, 'infiltriere': 8347, 'refugeswelcome': 8348, 'moskau': 8349, 'lawrow': 8350, 'gezitte': 8351, 'linkespd': 8352, 'pauschalen': 8353, 'marcusbornstell': 8354, 'rspaegean': 8355, 'einmalig': 8356, 'eindeutige': 8357, 'internat': 8358, 'sieben': 8359, 'thomasha': 8360, 'l1968': 8361, 'verfehlt': 8362, 'sechs': 8363, 'aufregender': 8364, 'kommissar': 8365, 'bratka': 8366, 'offeln': 8367, 'schlucken': 8368, 'statuten': 8369, 'ioc': 8370, 'organisatoren': 8371, 'tauft': 8372, 'pharmazeutische': 8373, 'rausnehmen': 8374, 'oberlehrerhaften': 8375, 'bevormundungen': 8376, 'gedaechtniskirche': 8377, 'ausstattung': 8378, 'ordentliche': 8379, 'bezahlung': 8380, 'generalbundesanwalt': 8381, 'aufgestockt': 8382, 'deutschfeinde': 8383, 'reichardt': 8384, 'beschwoe': 8385, 'security': 8386, 'presseve': 8387, 'dphv': 8388, 'voraussetzen': 8389, 'linksgestrickten': 8390, 'realtaetverzer': 8391, 'selfi': 8392, 'klapperschlange': 8393, 'terrarium': 8394, 'ueberarbeitung': 8395, 'regelungen': 8396, 'friedhof': 8397, 'swesen': 8398, 'muehlen': 8399, 'viell': 8400, 'kohls': 8401, 'gaucks': 8402, 'teilzeit': 8403, 'einschliesslich': 8404, 'wahlvolk': 8405, 'vorzuspielen': 8406, 'ahnst': 8407, 'zweifler': 8408, 'zulaesst': 8409, 'bayernspd': 8410, 'nataschakohnen': 8411, 'slogans': 8412, 'schlagwoe': 8413, 'poffer3': 8414, 'theologe': 8415, 'verpruegeln': 8416, 'insofern': 8417, 'deutliche': 8418, 'alters': 8419, 'einzustehen': 8420, 'leichtes': 8421, 'uebergriffe': 8422, 'buergen': 8423, 'schadensfreude': 8424, 'rumdrehen': 8425, 'best': 8426, 'modernes': 8427, 'pressesprecher': 8428, 'redigie': 8429, 'puenkte': 8430, 'mariuswkoehler': 8431, 'beschreibungen': 8432, 'differenz': 8433, 'homogenen': 8434, 'abgeleitet': 8435, 'demokratieverstaendnis': 8436, 'gefuehlsduselei': 8437, 'eingestelltes': 8438, 'wuttraenen': 8439, 'nutella': 8440, 'palmoel': 8441, 'michelin': 8442, 'nachwuchs': 8443, 'zugaenglich': 8444, 'swobodzinski2': 8445, 'angabe': 8446, 'taeterherkunft': 8447, 'aussagekraeftiger': 8448, 'wigkummerle': 8449, 'fettbacke': 8450, 'wiederaufgebaut': 8451, 'schimmel': 8452, 'edelschimmel': 8453, 'gorgonzola': 8454, 'ueberfaellig': 8455, 'erpressung': 8456, 'eingefallen': 8457, '52': 8458, 'sexuell': 8459, 'musste': 8460, 'verzeihen': 8461, 'unerheblichen': 8462, 'tendenziell': 8463, 'linksgerichtete': 8464, 'respektiere': 8465, 'augstein': 8466, 'blome': 8467, 'spiegeln': 8468, 'dekadente': 8469, 'pgegen': 8470, 'bjberlinjournal': 8471, 'mittelbarer': 8472, 'dauerbeleidigte': 8473, 'leberwuerste': 8474, 'satireaffinen': 8475, 'empfehle': 8476, 'ratakaio': 8477, 'oberkanteu': 8478, 'wohlerzogenen': 8479, 'sozialisten': 8480, 'hafenkantedickelippe': 8481, 'raffens': 8482, 'eifach': 8483, 'engels': 8484, 'besucherrekord': 8485, '165': 8486, 'strassenrand': 8487, 'peterroger17': 8488, 'vermittelten': 8489, '13h': 8490, 'mittagsmagazin': 8491, 'jasonwillsonkin': 8492, 'troeste': 8493, 'strassengraben': 8494, 'wetterdienst': 8495, 'hiddensee': 8496, 'flocken': 8497, 'jensfriedmann': 8498, 'geleistet': 8499, 'zoff': 8500, 'aerger': 8501, 'unfaehigen': 8502, 'reflektie': 8503, 'bundesbehoerden': 8504, 'jerusalempost': 8505, 'gegutgeschlecht': 8506, 'allzeit': 8507, 'kult': 8508, 'gefaehrlichen': 8509, 'hetz': 8510, 'gewaltschrift': 8511, 'beruht': 8512, 'freiheitlichen': 8513, 'pech': 8514, 'niveaus': 8515, 'zukommen': 8516, 'alltagsfliege': 8517, 'hopp': 8518, 'hansaplatz': 8519, 'homo': 8520, 'transphobie': 8521, 'idahot': 8522, 'leistungsverweigerungen': 8523, 'verkuerzen': 8524, 'gerechten': 8525, 'ausgleich': 8526, 'strafsteuer': 8527, 'danielbuschman3': 8528, 'ausgewogenheit': 8529, 'bursche': 8530, 'verschwoerungstheorie': 8531, 'bi': 8532, 'hday': 8533, '195': 8534, 'verseuchten': 8535, 'negern': 8536, 'untersucht': 8537, 'heidenau': 8538, 'landesverraetern': 8539, 'rechtsextremisten': 8540, 'zdfmoma': 8541, 'baader': 8542, 'meinhof': 8543, 'visagen': 8544, 'fahndungsplakaten': 8545, 'litfasssaeulen': 8546, 'plakatwaenden': 8547, 'leiten': 8548, 'seitenscheitel': 8549, 'lockenpracht': 8550, 'lauermanfred': 8551, 'gerichtsbarkeit': 8552, 'rivanov5': 8553, 'korruptpolitik': 8554, 'nachdenkt': 8555, 'uraniaberlin': 8556, 'staatssekretaeren': 8557, 'daldrup': 8558, 'gerstle': 8559, 'unterbringung': 8560, 'brosiusrolf': 8561, 'bennih': 8562, 'finanzbetrueger': 8563, 'dummlaberei': 8564, 'ausschweigen': 8565, 'purer': 8566, 'riesiger': 8567, 'zuege': 8568, 'umstand': 8569, 'cern': 8570, 'geoengeneering': 8571, 'iranische': 8572, 'va': 8573, 'definierst': 8574, 'lichtblick': 8575, 'mitteilungen': 8576, 'whatsappen': 8577, 'whatsen': 8578, 'neusprech': 8579, 'mobben': 8580, 'unbequeme': 8581, 'wahrheiten': 8582, 'nannte': 8583, 'asbha': 8584, 'zer4': 8585, 'uff': 8586, 'geschehnissen': 8587, 'wenns': 8588, 'igten': 8589, 'act': 8590, 'gemassregelt': 8591, 'irandeal': 8592, 'gattin': 8593, 'mikrokosmos': 8594, 'naivitaet': 8595, 'zeigte': 8596, 'itscz': 8597, 'uerkaslan': 8598, 'niederlagen': 8599, 'massenmedien': 8600, 'sauereien': 8601, 'falscherer': 8602, 'emotional': 8603, 'schlammmasse': 8604, 'atmosphaerische': 8605, 'subventionie': 8606, 'klatsch': 8607, 'tratsch': 8608, 'intrigen': 8609, 'irrsinnigen': 8610, 'oho': 8611, 'erhaeltliches': 8612, 'nachweise': 8613, 'enabteilung': 8614, 'geleugnet': 8615, 'stimmte': 8616, 'kazuyaittegoya': 8617, 'undemokratische': 8618, '13jahre': 8619, 'gitterstaebe': 8620, 'entsorgten': 8621, 'tonikroos': 8622, 'kroos': 8623, 'drigen': 8624, 'erschreckt': 8625, 'bildes': 8626, 'hannover': 8627, 'dummkoepfe': 8628, 'verbrecherkollegen': 8629, 'opa': 8630, 'ethnische': 8631, 'aufnimmt': 8632, 'ehrenhaft': 8633, 'geschoben': 8634, 'gauckler': 8635, 'cpt': 8636, 'huck': 8637, 'einmal': 8638, 'kreisklasse': 8639, 'finanzverbrecher': 8640, 'drangsalieren': 8641, 'griechische': 8642, 'pferde': 8643, 'katzen': 8644, 'wohnenden': 8645, 'armbinden': 8646, 'pirat': 8647, 'champagner': 8648, 'vollen': 8649, 'ueblen': 8650, 'fluchtnachvorn': 8651, 'stagspa': 8652, 'genner': 8653, 'sparkassaplatz': 8654, 'ol': 8655, 'bezirk': 8656, 'andythebearr': 8657, 'parlamentarisch': 8658, 'huhhhhh': 8659, 'jagst': 8660, 'neverends2017': 8661, 'gleichwe': 8662, 'gleichgeformt': 8663, 'unterschiedlich': 8664, 'boys': 8665, 'flash': 8666, 'muslimischer': 8667, 'zivilgesellschaft': 8668, 'gleichwohl': 8669, 'abgebildeten': 8670, 'darstellung': 8671, 'fragwuerdig': 8672, 'machtmittel': 8673, 'forirene': 8674, 'hms': 8675, 'sealord': 8676, 'hro': 8677, 'verrecken': 8678, 'polizeisachsen': 8679, 'bestandsschutz': 8680, 'buntmenschen': 8681, 'atmen': 8682, 'verspannt': 8683, 'atmende': 8684, 'schultern': 8685, 'massieren': 8686, 'abbekommt': 8687, 'verliehen': 8688, 'abzusehen': 8689, 'zusaetzlichen': 8690, 'vize': 8691, 'nadine': 8692, 'rethorisch': 8693, 'alterfeststellung': 8694, 'zuzugeben': 8695, 'feststellung': 8696, 'antragsablehnung': 8697, 'soenkerix': 8698, 'ezropaeer': 8699, 'abtruennigen': 8700, 'ausueben': 8701, 'landkreis': 8702, 'mecklenburgische': 8703, 'naehe': 8704, 'blankensee': 8705, 'palma07001': 8706, '3ten': 8707, 'rechnet': 8708, 'mengenmaessig': 8709, 'ueberstuerzen': 8710, 'undisziplinie': 8711, 'unterbricht': 8712, 'gespuer': 8713, 'buergerwillen': 8714, 'dawoedmasta': 8715, 'kernseifenloser': 8716, 'hot': 8717, 'dog': 8718, 'ostsee': 8719, 'rundreise': 8720, 'ganzer': 8721, 'geruegter': 8722, 'mitarbeiter': 8723, 'relativismus': 8724, 'abgestumpftheit': 8725, 'noma': 8726, 'wurmt': 8727, 'myrkwaldr': 8728, '34': 8729, 'demokr': 8730, 'adrianohef': 8731, 'guidoreil': 8732, 'arbeitskollegin': 8733, 'migrantenkriminalitaet': 8734, 'einiges': 8735, 'naechstenliebe': 8736, 'rauskommen': 8737, 'stichwo': 8738, 'plasma': 8739, 'glaubenichts': 8740, 'grenzwe': 8741, 'anbetracht': 8742, 'rachefeldzug': 8743, 'werbevideo': 8744, 'ken': 8745, 'evelyn': 8746, 'hecht': 8747, 'galinski': 8748, 'mordet': 8749, 'audiobotschaft': 8750, 'bullterrier': 8751, 'pudel': 8752, '1492': 8753, 'abschiebungszug': 8754, 'aufgesprungen': 8755, 'schreihaelse': 8756, 'produkt': 8757, 'verfehlten': 8758, 'schutzsuchenden': 8759, 'hierbleiben': 8760, 'choolie211': 8761, 'sigiber': 8762, 'wilson20erik': 8763, 'mitverantwo': 8764, 'kursie': 8765, 'jamaikasondierung': 8766, 'bloedelsender': 8767, 'hirnfutter': 8768, 'riss': 8769, 'schuessel': 8770, 'unfaehigste': 8771, 'diesbezueglich': 8772, 'begegnet': 8773, 'schleusern': 8774, 'handwerker': 8775, 'menschenhandel': 8776, 'fataler': 8777, 'verbuendete': 8778, 'durchschalten': 8779, 'bloedmann': 8780, 'schmeissen': 8781, 'haitabu1': 8782, 'heutige': 8783, 'sozialniveau': 8784, 'ohrfeigenabstand': 8785, 'haesslicher': 8786, 'gruseliger': 8787, 'einsetzte': 8788, 'horrorfratze': 8789, 'schoenheit': 8790, 'produktivste': 8791, 'hinzuzufuegen': 8792, 'zimmer': 8793, 'schaffte': 8794, 'schleimen': 8795, 'mrelatan': 8796, 'leugnerin': 8797, 'heldin': 8798, 'krankheitsbild': 8799, 'ilsegott': 8800, 'hausintern': 8801, 'vorermittlungen': 8802, 'einleiten': 8803, 'roland783': 8804, 'unverstaendlich': 8805, 'vordraengeln': 8806, 'regulaerem': 8807, 'maerchenstunde': 8808, 'politi': 8809, 'raubtiere': 8810, 'berlins': 8811, 'lammfell': 8812, 'trott': 8813, 'agieren': 8814, 'zulegen': 8815, 'bmfsfj': 8816, 'haenderingend': 8817, 'ministerium': 8818, 'picadofogo': 8819, 'shiawaseai': 8820, 'dorfpolitiker': 8821, 'drueckte': 8822, 'restle': 8823, 'gespickt': 8824, 'schweinejournalist': 8825, 'offensichtlicher': 8826, 'raubritte': 8827, 'befuechtungen': 8828, 'kubiki': 8829, 'steigbuegel': 8830, 'erhalt': 8831, 'pietaetlos': 8832, 'vorgelebte': 8833, 'verwurzelt': 8834, 'littlewisehen': 8835, 'jubeln': 8836, 'kleingeister': 8837, 'blinde': 8838, 'taube': 8839, 'holly': 8840, 'notarzteinsaetze': 8841, 'hintergrundinformationen': 8842, 'arzteinsatz': 8843, 'ausrichtungen': 8844, 'sunniten': 8845, 'schiiten': 8846, 'rpo': 8847, 'ermittlungen': 8848, 'ermittler': 8849, 'luegner': 8850, 'diffamie': 8851, 'verbleib': 8852, 'klopapier': 8853, 'kirchenmaenner': 8854, 'lohnerhoehung': 8855, 'klingelbeutel': 8856, 'berufenen': 8857, 'vorbehalte': 8858, 'fotografen': 8859, 'freigibt': 8860, 'mans': 8861, 'danielfreyger': 8862, 'tschechei': 8863, 'interessen': 8864, 'archangelblue58': 8865, 'verkrusteten': 8866, 'nieder': 8867, 'fettbaeuchigen': 8868, 'mimimis': 8869, 'newser': 8870, 'carrera': 8871, 'rs': 8872, 'decken': 8873, 'schiebt': 8874, 'stammeln': 8875, 'schummelei': 8876, 'verbraucherinteressen': 8877, 'beluegen': 8878, 'krachenden': 8879, 'ablenken': 8880, 'geiste': 8881, 'pfeifchen': 8882, 'antiisraelische': 8883, 'angeheizt': 8884, 'ritterschlag': 8885, 'heuschreckenschwarm': 8886, 'sueden': 8887, 'leergefressen': 8888, 'makel': 8889, 'verrates': 8890, 'haftet': 8891, 'october': 8892, 'aufbluehen': 8893, 'tennis': 8894, 'zirkus': 8895, 'unsr': 8896, 'kassie': 8897, 'standwithboris': 8898, 'kotel': 8899, 'harhabait': 8900, 'stud': 8901, 'verlinkt': 8902, '286': 8903, 'vermittelt': 8904, 'zensurstaat': 8905, 'sarahgxoxo': 8906, 'daemliches': 8907, 'haesslichste': 8908, 'ueberfluessigste': 8909, 'buffet': 8910, 'servie': 8911, 'entscheidenden': 8912, 'sozialdemokratischste': 8913, 'menus': 8914, 'unionisten': 8915, 'laestern': 8916, 'schmecke': 8917, 'megainfo': 8918, 'qualitaetsjournalismus': 8919, 'wdrinvestigativ': 8920, 'tropfen': 8921, 'gazetten': 8922, 'zurueckgeben': 8923, 'hpstauch': 8924, 'migrantenpack': 8925, 'schafe': 8926, 'manu': 8927, 'mie': 8928, 'windstill': 8929, 'boxhorn': 8930, 'mohrenpost': 8931, 'berlinliebich': 8932, 'didiereribon': 8933, 'bleigiessen': 8934, 'geschmolzen': 8935, 'trolltrip': 8936, 'eingebuchtet': 8937, 'mouhanad': 8938, 'khorchide': 8939, 'kulturzeit': 8940, 'kathrin': 8941, 'ecka': 8942, 'bayerische': 8943, 'rumpe': 8944, 'raeuspe': 8945, 'unternehmer': 8946, 'feindbilder': 8947, 'slomka': 8948, 'hirnlosen': 8949, 'unterste': 8950, 'schublade': 8951, 'wurfschuh': 8952, 'heftigem': 8953, 'schneefall': 8954, 'paarshippen': 8955, 'ueberhand': 8956, 'hinnehmbar': 8957, 'trennung': 8958, 'schlimmere': 8959, 'spielfeld': 8960, 'geschwaenge': 8961, 'schengen': 8962, 'effektiven': 8963, 'grenzschutz': 8964, 'haushaltsdisziplin': 8965, 'mauz': 8966, 'aegidius': 8967, 'maer': 8968, 'unausweichlichen': 8969, 'geschichtswissenschaftlich': 8970, 'widerlegt': 8971, 'meldete': 8972, 'ideologisch': 8973, 'sedona': 8974, 'sammelklagen': 8975, 'apdvng': 8976, 'kommentarem': 8977, 'ringen': 8978, '30h': 8979, 'julianroepcke': 8980, 'waehrenddessen': 8981, 'nordstream2': 8982, 'tolerant': 8983, 'night': 8984, 'sehenswe': 8985, 'kopftuecher': 8986, 'aehnliches': 8987, 'rasierer': 8988, 'antisemitischer': 8989, 'cottbus': 8990, 'geldstrafe': 8991, 'umfassenden': 8992, 'auflagen': 8993, 'nofv': 8994, 'straffrei': 8995, 'svbfce': 8996, 'wutzekopp': 8997, 'nutellaklacks': 8998, 'megaburschi': 8999, 'eva': 9000, 'leisner': 9001, 'behzad': 9002, 'fallahzadeh': 9003, 'bbe': 9004, 'heimatgefuehle': 9005, 'neigt': 9006, 'freierradikaler': 9007, 'annasbackwelt': 9008, 'radikale': 9009, '20174676': 9010, 'begruendet': 9011, 'alteakademiemuc': 9012, 'rekonstruieren': 9013, 'hess': 9014, 'verdeidigungsministerin': 9015, 'stangengirl': 9016, 'truppenbetreuung': 9017, 'versagen': 9018, 'eidigungsministerin': 9019, 'rommel': 9020, 'charr': 9021, 'boxer': 9022, 'sparingspa': 9023, 'wech': 9024, 'manuelcharrr': 9025, 'gehoer': 9026, 'hattet': 9027, 'stadtteil': 9028, 'leeren': 9029, 'unbrauchbares': 9030, 'dieluegenpresse': 9031, 'chor': 9032, 'kumaandrea': 9033, 'blockfloete': 9034, 'blooscr33n': 9035, 'gymnasium': 9036, 'oberstufe': 9037, 'aula': 9038, 'vollbeschaeftigung': 9039, '2025': 9040, 'mcgeiz': 9041, 'politics': 9042, 'vorschlaege': 9043, 'ausdruecklich': 9044, 'zusteht': 9045, 'mitzuwirken': 9046, 'heikoheinisch': 9047, 'teilzeitwinkler': 9048, 'eschleife': 9049, 'rainer42': 9050, 'rechtspolitsch': 9051, 'orientie': 9052, 'feinesahne': 9053, 'kooperie': 9054, 'mitstreiter': 9055, 'belohnung': 9056, 'freispruch': 9057, 'ersichtlich': 9058, 'aufteilung': 9059, 'schutzkategorien': 9060, 'truck': 9061, 'bildern': 9062, 'grenzuebergang': 9063, 'marienborn': 9064, 'bestrahlt': 9065, 'gamma': 9066, 'schmitt4711': 9067, 'wahrscheinlichkeit': 9068, 'europaeisch': 9069, 'gering': 9070, 'kindesalter': 9071, 'eingewande': 9072, 'toeteten': 9073, 'kitzmuller': 9074, 'eingeschlagen': 9075, 'blackhawk3423': 9076, 'gehirngewaschene': 9077, 'kurzer': 9078, 'vorgaukeln': 9079, 'oek': 9080, 'gottesd': 9081, 'festakt': 9082, 'bp': 9083, 'tagoffenenmoschee': 9084, 'verpissen': 9085, 'tagebuch': 9086, 'lehren': 9087, 'wahldebakel': 9088, 'cdusachsen': 9089, 'meldest': 9090, 'zf': 9091, 'deus': 9092, 'vult': 9093, 'ansaetze': 9094, 'spue': 9095, 'ablichten': 9096, 'gruenem': 9097, 'sonderpa': 9098, 'auszaehlung': 9099, 'sanie': 9100, 'geheim': 9101, 'ausgezaehlt': 9102, 'auszuueben': 9103, 'vorstand': 9104, 'generieren': 9105, 'armani': 9106, 'punker': 9107, 'sonnenseite': 9108, 'generoes': 9109, 'hinwegsehen': 9110, 'bildflaeche': 9111, 'prostituieren': 9112, 'calicoskies': 9113, 'gf': 9114, 'kinderfickerei': 9115, 'bekennt': 9116, 'konsens': 9117, 'vielfaeltigen': 9118, 'austro': 9119, 'anzupassen': 9120, 'hats': 9121, 'diemieseehre': 9122, 'symptomatisch': 9123, 'bezeichnend': 9124, 'merkelsche': 9125, 'einhornschloss': 9126, 'enlarvend': 9127, 'wussten': 9128, 'sechzigern': 9129, 'kluge': 9130, 'fussballweltmeister': 9131, 'hoehere': 9132, 'auszeichnung': 9133, 'unterernaeh': 9134, 'ersehnte': 9135, 'unter15': 9136, 'aufregend': 9137, 'denk': 9138, 'kulturell': 9139, 'inkompatible': 9140, 'verbrecherischer': 9141, 'verhaltenskreativ': 9142, 'angesagt': 9143, 'neugeborenen': 9144, 'ernaeh': 9145, 'verstellt': 9146, 'followern': 9147, 'aufbauend': 9148, 'alexf1973': 9149, 'schlaeger': 9150, 'trupps': 9151, 'deutschem': 9152, 'geldpresse': 9153, 'wunschvorstellungen': 9154, 'abgemage': 9155, 'speziell': 9156, 'wahlbetrugsmasche': 9157, 'einzelfallbearb': 9158, 'georgesoros': 9159, 'sputnik': 9160, 'illusionsblase': 9161, 'strategische': 9162, 'riskieren': 9163, 'sauer': 9164, 'ausschnitte': 9165, 'bloedmaenner': 9166, 'besenbinder': 9167, 'aufeinander': 9168, 'schliesse': 9169, 'maximilian': 9170, 'citeecar': 9171, 'nogroko': 9172, 'tuerkeiurlaub': 9173, 'verguenstigungen': 9174, 'wehren': 9175, 'bennympfischer': 9176, 'juedisches': 9177, 'niedergebruellt': 9178, 'letztlich': 9179, 'tafeln': 9180, 'roehre': 9181, 'luxusa': 9182, 'klamotten': 9183, 'rauschmittel': 9184, 'dscheykopp': 9185, 'ecrea': 9186, 'verwoehnt': 9187, 'schultrottel': 9188, 'berndlucke': 9189, 'amnesty': 9190, 'siedlungsbau': 9191, '15tsd': 9192, 'agitatorin': 9193, 'spaceman': 9194, 'rb': 9195, 'zweitinstanzlichen': 9196, 'instanz': 9197, 'italienern': 9198, 'unterschlagung': 9199, 'muesse': 9200, 'zwangsabgaben': 9201, 'bundesverdienstkreuz': 9202, 'envogue': 9203, 'dejtsche': 9204, 'podilein': 9205, 'mufl': 9206, 'rafft': 9207, 'definierbare': 9208, 'sozialistischer': 9209, 'rundumschlag': 9210, 'meinungs': 9211, 'masseneiwanderung': 9212, 'begrenzung': 9213, 'anarchist': 9214, 'einsperren': 9215, 'verschimmeln': 9216, 'sterntv': 9217, 'gesteige': 9218, 'spdnds': 9219, 'stephanweil': 9220, 'ltwnds17': 9221, 'schererchristof': 9222, 'gedankengang': 9223, 'hhoeppe': 9224, 'professor': 9225, 'originalquelle': 9226, 'innern': 9227, 'realisieren': 9228, 'cm': 9229, 'verbundene': 9230, 'maier': 9231, 'mopo': 9232, 'durchgeknallter': 9233, 'brutale': 9234, 'apokalyptische': 9235, 'sondersendungen': 9236, 'ueberschlagen': 9237, 'schlonz58': 9238, 'pkw': 9239, 'rast': 9240, 'menschenmenge': 9241, 'ton': 9242, 'qualitaet': 9243, 'fundamental': 9244, 'zustimmen': 9245, 'lautsprecherei': 9246, 'falschbehauptung': 9247, 'jucken': 9248, 'sanftmuetigkeit': 9249, 'gefaeh': 9250, 'koenigskron': 9251, 'heiligkeit': 9252, 'zepter': 9253, 'barmherzigkeit': 9254, 'stegners': 9255, 'abzuschiebenden': 9256, 'aussetzung': 9257, 'hinterfotzig': 9258, 'verspottung': 9259, '1944': 9260, 'schrift': 9261, 'identisch': 9262, 'populidmus': 9263, 'eritreische': 9264, 'tigrinya': 9265, 'lohnliste': 9266, 'abgerueckt': 9267, 'voreilige': 9268, 'gruselkabinett': 9269, 'hinzu': 9270, 'konntet': 9271, 'zulassen': 9272, 'verrottete': 9273, 'festung': 9274, 'plaedie': 9275, 'sicherung': 9276, 'frontex': 9277, 'bezahlbare': 9278, '2kindern': 9279, 'beansprucht': 9280, 'festlegen': 9281, 'jawohl': 9282, 'ausgrenzer': 9283, 'kotzbrocken': 9284, 'massiver': 9285, 'vorgegangen': 9286, 'piratengeld': 9287, 'zahlt': 9288, 'staatsve': 9289, 'unterschrieben': 9290, 'anfangen': 9291, 'wohne': 9292, 'runtermarsch': 9293, 'pfandflaschen': 9294, 'reisst': 9295, 'wegmachen': 9296, 'mietve': 9297, 'kinderlos': 9298, 'grauen': 9299, 'gefirmt': 9300, 'beanstandet': 9301, 'absahner': 9302, 'refomieren': 9303, 'treuhand': 9304, 'aufleben': 9305, 'helheimer': 9306, 'ernie': 9307, 'rappelkiste': 9308, 'umschaue': 9309, 'nifberlin': 9310, 'professioneller': 9311, 'allmaehlichen': 9312, 'lehnen': 9313, 'alkoholismus': 9314, 'schlug': 9315, 'hurra': 9316, 'mentalitaet': 9317, 'dto': 9318, 'ruecksicht': 9319, 'gewissenlosigkeit': 9320, 'bewaffnung': 9321, 'ralfysen': 9322, 'maennergruppen': 9323, 'ansehe': 9324, 'syr': 9325, 'kuemmerlichen': 9326, 'luegenmaentelchen': 9327, 'beer': 9328, 'privatisierung': 9329, 'rechtstaatlichtkeit': 9330, 'blaukepetry': 9331, 'tyramizou': 9332, 'hippiesugarmama': 9333, 'eingeritten': 9334, 'entkernte': 9335, 'krampfhafter': 9336, 'machterhalt': 9337, 'keifende': 9338, 'realitaetsferne': 9339, 'widerstrebt': 9340, 'verschwendeten': 9341, 'unsummen': 9342, 'ueberwaeltigend': 9343, 'basedheydrich': 9344, 'vollem': 9345, 'umfang': 9346, 'touch': 9347, 'interpretationen': 9348, 'diktion': 9349, 'einigung': 9350, 'gottfriedcurio': 9351, 'paedophil': 9352, 'gierig': 9353, 'machtgeil': 9354, 'ideologisie': 9355, 'hetzerisch': 9356, 'wurzellos': 9357, 'reichsten': 9358, 'erde': 9359, 'mill': 9360, 'rettung': 9361, 'scheite': 9362, 'jameika': 9363, 'familienachzug': 9364, 'gelernte': 9365, 'dhl': 9366, 'gejobt': 9367, 'sass': 9368, 'marionetten': 9369, 'strippenziehern': 9370, 'bundeswehrsoldat': 9371, 'plant': 9372, 'primaer': 9373, 'registrierung': 9374, 'findedenfehler': 9375, 'meetooidioten': 9376, 'gabe': 9377, 'regierungsverantwo': 9378, 'gesellschaftspolitische': 9379, 'minenfeld': 9380, 'frauenbild': 9381, 'anprangern': 9382, 'wolltet': 9383, 'niewieder': 9384, 'arnefrau': 9385, 'life': 9386, 'durchgeknallten': 9387, 'krischkeben': 9388, 'mieseste': 9389, 'witzbold': 9390, 'unheimlich': 9391, 'elsmann': 9392, 'golden': 9393, 'eurasia': 9394, 'hoechstgradmaurer': 9395, 'pain': 9396, 'cfr': 9397, 'trilaterale': 9398, 'com': 9399, 'arbeitsebenen': 9400, 'lizvlx': 9401, 'msulzbacher': 9402, 'eitel': 9403, 'respektlosigkeit': 9404, 'momentanen': 9405, 'jva': 9406, 'franks': 9407, 'uebereinstimmten': 9408, 'geldverdienen': 9409, 'schwieriger': 9410, 'ked': 9411, 'sozialilstich': 9412, 'kommunistische': 9413, 'einheits': 9414, 'deutschlald': 9415, 'hittler': 9416, '4ten': 9417, 'gegenjudenhass': 9418, 'ausloten': 9419, 'mutmasslichen': 9420, 'mitarbeiters': 9421, 'durchgehen': 9422, 'unterlassene': 9423, 'jottes': 9424, 'till': 9425, 'schweiger': 9426, 'grosskotzig': 9427, 'fam': 9428, 'bananen': 9429, 'reisefreiheit': 9430, 'vw': 9431, 'aeppel': 9432, 'fraktionen': 9433, 'matthiasle45': 9434, 'grenzbahnhof': 9435, 'kiefersfelden': 9436, 'verladen': 9437, 'huettemann': 9438, 'sternschnuppen': 9439, 'unerwa': 9440, 'vergluehen': 9441, 'tapferer': 9442, 'etablieren': 9443, 'ueberflug': 9444, 'beten': 9445, 'drahtzieher': 9446, 'hauptprofiteure': 9447, 'staunen': 9448, 'richtersprueche': 9449, 'konsequente': 9450, 'massnahme': 9451, 'pauschalisierungen': 9452, 'jugendkammer': 9453, 'jugendstrafrecht': 9454, 'ruinie': 9455, 'erschwe': 9456, 'abschiebelager': 9457, 'institutionalisie': 9458, 'alg': 9459, 'geschah': 9460, 'gewaltandrohung': 9461, 'gefuehlte': 9462, 'schwesterpa': 9463, 'glyphopsat': 9464, 'unwuerdig': 9465, 'faehnchen': 9466, 'ministerposten': 9467, 'abzubekommen': 9468, 'spielball': 9469, 'jufopa': 9470, 'danken': 9471, 'zuckersuessen': 9472, 'fatimas': 9473, 'verharmlosend': 9474, 'turnschuh': 9475, 'beginnen': 9476, 'jahrzehnten': 9477, 'angebots': 9478, 'hadi': 9479, 'riedel': 9480, 'gruenehd': 9481, 'verrueckten': 9482, 'scheiter': 9483, 'einheitspa': 9484, 'spoe': 9485, 'oevp': 9486, 'neos': 9487, 'einknicken': 9488, 'frauenfeindlichen': 9489, 'differenzen': 9490, 'kritikunfaehiger': 9491, 'fluechtlingskinder': 9492, 'obiger': 9493, 'protests': 9494, 'doctorpuppe': 9495, 'rest2050': 9496, '365tageschulz': 9497, 'versuchmachtklug': 9498, 'wuerdet': 9499, 'emotionsgeschwafel': 9500, 'luegenbrut': 9501, 'ablaesst': 9502, 'monika': 9503, 'menschendie': 9504, 'irgendeinem': 9505, 'knecht': 9506, 'stefanux23': 9507, 'unvereinbarkeitsbeschluss': 9508, 'koalieren': 9509, 'rauhputzwand': 9510, 'gezerre': 9511, 'zwangsgemeinschaft': 9512, 'frauenbeauftragter': 9513, 'erog': 9514, 'leidtragenden': 9515, 'juppi2806': 9516, 'dicken': 9517, 'zubleiben': 9518, 'streife': 9519, 'klitschko': 9520, 'retourkampf': 9521, 'antritt': 9522, 'joshua': 9523, 'schonen': 9524, 'umhauen': 9525, 'missachtung': 9526, 'gastgebern': 9527, 'gelohnt': 9528, 'gollwitzer': 9529, 'nosystemcarlo': 9530, 'rueckstandslos': 9531, 'groessenwahnsinnige': 9532, 'geschlosenen': 9533, 'zimmerkonze': 9534, 'veranstalten': 9535, 'hingelaufen': 9536, 'bordesholm': 9537, 'mitgliederehrungen': 9538, 'sverein': 9539, 'kreisvorsitzenden': 9540, 'landesvorstand': 9541, 'besprechen': 9542, 'kommunalwahl': 9543, 'beamter': 9544, 'protestierenden': 9545, 'uebers': 9546, 'stau': 9547, 'raeumt': 9548, 'mussweg': 9549, 'probier': 9550, 'baeumen': 9551, 'faden': 9552, 'historisches': 9553, 'praeziser': 9554, 'wohlmeinende': 9555, 'irritie': 9556, 'spardiktat': 9557, 'kriegsbeteiligungen': 9558, 'grosskotzige': 9559, 'visstgoerdetont': 9560, 'twitterkommentare': 9561, 'abreise': 9562, 'saftige': 9563, 'tracht': 9564, 'pruegel': 9565, 'gutenberg': 9566, 'tranliteration': 9567, 'bildausschnitt': 9568, 'ueberzeugen': 9569, 'leser': 9570, 'neeeein': 9571, 'blockier': 9572, 'meinungsfreihheit': 9573, 'einzuschraenken': 9574, 'trafe': 9575, 'kopprepo': 9576, 'konzern': 9577, 'gerard': 9578, 'hups': 9579, 'juedischer': 9580, 'sregister': 9581, 'hohlmantell': 9582, 'geschoss': 9583, 'reisewarnung': 9584, 'grundlose': 9585, 'nazivergleiche': 9586, 'gehoere': 9587, 'bilde': 9588, 'transpo': 9589, 'gelegt': 9590, 'bedingt': 9591, 'sozialkassen': 9592, 'eingehend': 9593, 'auseinandersetzen': 9594, 'sorgst': 9595, 'andernfalls': 9596, 'verendet': 9597, 'widerstandslos': 9598, 'schwi': 9599, 'ansicht': 9600, 'profils': 9601, 'unserr': 9602, 'goenner': 9603, 'verriet': 9604, 'nigeria': 9605, 'glaeubige': 9606, 'verunglimpft': 9607, 'deklarie': 9608, 'darstellen': 9609, 'offizier': 9610, 'spezialeinheit': 9611, 'safran': 9612, 'bandista': 9613, 'ega': 9614, '1060': 9615, 'tickets': 9616, 'erloes': 9617, 'erbittet': 9618, 'gegenseitiger': 9619, 'zulassung': 9620, 'faeden': 9621, 'brzezinsky': 9622, 'fiel': 9623, 'ungnade': 9624, 'erwaehnte': 9625, 'graue': 9626, 'eminenz': 9627, 'traeum': 9628, 'undemokratisch': 9629, 'landesverrat': 9630, 'volksentscheidung': 9631, 'waehlerwille': 9632, 'tikkrosa': 9633, 'argumentfreie': 9634, 'apologeten': 9635, 'groehlen': 9636, 'anheizende': 9637, 'appelle': 9638, 'offizieller': 9639, 'feiste': 9640, 'hoegl': 9641, 'schutzberechtigten': 9642, 'extremistischen': 9643, 'buddhisten': 9644, 'geschundenen': 9645, 'zurueckhaltung': 9646, 'greuel': 9647, 'pontifex': 9648, 'urspruenglich': 9649, 'camps': 9650, 'platzt': 9651, 'konsulate': 9652, 'wirkich': 9653, 'zdfinfo': 9654, 'kaputtgelogen': 9655, 'demokratiefaehig': 9656, 'auslandsgesellschaft': 9657, 'steinstrasse': 9658, 'immunitaet': 9659, 'ablauf': 9660, 'vonnmerkel': 9661, 'eurogegner': 9662, 'dolmetschen': 9663, 'staen': 9664, 'paul77306629': 9665, 'rudimentaersten': 9666, 'absatz': 9667, 'textes': 9668, 'way': 9669, 'seitseid': 9670, 'vermutung': 9671, 'hinauslaeuft': 9672, 'destabilisieren': 9673, 'tsunami': 9674, 'reaktoren': 9675, 'megateuren': 9676, 'endloser': 9677, 'ph1664068': 9678, 'phone': 9679, 'wasserdicht': 9680, 'ip67': 9681, 'tpcom': 9682, 'nobelundfrei': 9683, 'deltafiveecho': 9684, 'einwickelt': 9685, 'akifsahinde': 9686, 'derz': 9687, 'beklopft': 9688, 'genderfluid': 9689, 'befinden': 9690, 'brasilianer': 9691, 'grusel': 9692, 'technikextreme': 9693, 'auswaehlen': 9694, 'aimanmazyek': 9695, 'othmanmoschee': 9696, 'dummerchen': 9697, 'thomalla': 9698, 'bundespolizei': 9699, 'mannheim': 9700, 'action': 9701, 'ilegalisie': 9702, 'hilfsarbeiter': 9703, 'gebrauchten': 9704, 'laptop': 9705, 'gespa': 9706, 'adobe': 9707, 'illustrator': 9708, 'tutorials': 9709, 'lischka': 9710, 'triefender': 9711, 'story': 9712, 'parallelgesellschaft': 9713, 'ppinternational': 9714, 'hingewiesen': 9715, 'strache': 9716, 'ziegenba': 9717, 'genosse': 9718, 'stuetzen': 9719, 'mikadoelefant': 9720, 'menora': 9721, 'allgemeine': 9722, 'spezielle': 9723, 'chanukkia': 9724, 'jurgenpresser': 9725, 'marvinoppong': 9726, 'leyla': 9727, 'zana': 9728, 'traegerin': 9729, 'sakharovprize': 9730, 'abgeordnetenmandat': 9731, 'ep': 9732, 'president': 9733, 'guyverhofstadt': 9734, 'giannipittella': 9735, 'gabizimmermep': 9736, 'manfredweber': 9737, 'hdpenglish': 9738, 'heidihautala': 9739, 'mfaturkey': 9740, 'nrwmensch': 9741, 'katholisch': 9742, 'ekd': 9743, 'irrenhaus': 9744, 'miami': 9745, 'strandhaus': 9746, 'schenkt': 9747, 'hurensoehne': 9748, 'diensthabenden': 9749, 'ohnmacht': 9750, 'nachtblind': 9751, 'uebermuedet': 9752, 'disco': 9753, 'muede': 9754, 'fundamentalistische': 9755, 'obe': 9756, 'rottel': 9757, 'geleuteter': 9758, 'arnachist': 9759, 'verbogen': 9760, 'pfad': 9761, 'weges': 9762, 'wagte': 9763, 'derjenigen': 9764, 'trollaccount': 9765, 'reinfallen': 9766, 'konkotenko': 9767, 'bestehende': 9768, 'triq': 9769, 'aufklaerungsprojekte': 9770, 'machbar': 9771, 'tjpino': 9772, 'realitaetsverlust': 9773, 'traumtaenzer': 9774, 'zuletzt': 9775, 'yugobetrugo48': 9776, 'goenn': 9777, 'freaks': 9778, 'beitrag': 9779, 'viiiiiel': 9780, 'fc': 9781, 'geschritten': 9782, 'mittelstand': 9783, 'ezb': 9784, 'straeuben': 9785, 'unterbunden': 9786, 'spitzenmann': 9787, 'schimpfwo': 9788, 'beschneidet': 9789, 'globaldefence': 9790, 'asozialer': 9791, 'gelingt': 9792, 'anwaelten': 9793, 'immobilienmakler': 9794, 'autorinnen': 9795, 'mitzuarbeiten': 9796, 'rubriken': 9797, 'hinzunehmen': 9798, 'prosit': 9799, 'neujahr': 9800, 'pfeiffer': 9801, 'glotzen': 9802, 'zerstreuende': 9803, 'strengt': 9804, 'spielchen': 9805, 'rspctfl': 9806, 'yarmulke': 9807, 'fremde': 9808, 'scheinheilige': 9809, 'westens': 9810, 'gemeinsames': 9811, 'trennendes': 9812, 'fuehlte': 9813, 'randalierer': 9814, 'entstandenen': 9815, 'abarbeiten': 9816, 'heran': 9817, 'bewaehrungsstrafen': 9818, 'reichsbuergern': 9819, 'gesteckt': 9820, 'pe': 9821, 'aufrichtiger': 9822, 'instandsetzen': 9823, 'nachruesten': 9824, 'elektronischen': 9825, 'anderweitig': 9826, 'dunklen': 9827, 'hochsicherheitsunternehmen': 9828, 'schweizer': 9829, 'faradayschen': 9830, 'kaefig': 9831, 'eitagsauftakt': 9832, 'moll': 9833, 'jubel': 9834, 'aufsparen': 9835, 'last': 9836, 'code': 9837, 'kabbalisten': 9838, 'andersherum': 9839, 'machtverlust': 9840, 'rotschwarze': 9841, 'pruegelt': 9842, 'integrationskursen': 9843, 'zentraleres': 9844, 'fluegelkaempfe': 9845, 'gefaehrliche': 9846, 'voelkischen': 9847, 'fluegel': 9848, 'afdbpt17': 9849, 'noeoeoeoeoeoe': 9850, 'doepfner': 9851, 'vitales': 9852, 'etappe': 9853, 'eimer': 9854, 'kaltstellten': 9855, 'taetigkeit': 9856, 'ungslosen': 9857, 'lippenbekenntis': 9858, 'derislamnervt': 9859, 'bewahrheitet': 9860, 'nebenrolle': 9861, 'zugewiesen': 9862, 'wirds': 9863, 'fahrraeder': 9864, 'putzen': 9865, 'hinutner': 9866, 'umarme': 9867, 'singe': 9868, 'lullaby': 9869, 'methode': 9870, 'autisten': 9871, 'bedeutungsloseste': 9872, 'widerlichsten': 9873, 'ehren': 9874, 'ausgerottet': 9875, 'nikolauspaket': 9876, 'eilungs': 9877, 'schuldenunion': 9878, 'investitonen': 9879, 'institutionen': 9880, 'verschleppen': 9881, 'reformen': 9882, 'verschieben': 9883, 'schwaechen': 9884, 'nikolaus': 9885, 'strick': 9886, 'enbesprechung': 9887, 'noway': 9888, 'rangoo': 9889, 'zerstoererische': 9890, 'entfalten': 9891, 'vereinigungen': 9892, 'judenfeindlicher': 9893, 'streiter': 9894, 'islamfeindlich': 9895, 'agitieren': 9896, 'harz4': 9897, 'mittelschicht': 9898, 'tonne': 9899, 'nachrichtensperre': 9900, 'verhaengt': 9901, 'tschuess': 9902, 'vorboten': 9903, 'quaelende': 9904, 'gestaltet': 9905, 'titanvacht': 9906, 'dnovemberkind': 9907, 'amadeu': 9908, 'abteilung': 9909, 'durchsuchen': 9910, 'entgegenkommend': 9911, 'terminwuensche': 9912, 'beniboller1': 9913, 'sammelt': 9914, 'aufgewachte': 9915, 'votie': 9916, 'schlaumeier': 9917, 'nachgedacht': 9918, 'jury': 9919, 'ger': 9920, 'esc2016': 9921, 'geheuchelt': 9922, 'strangelove666': 9923, 'autoindustrie': 9924, 'herd': 9925, 'tagespolitik': 9926, 'kraefte': 9927, 'schmierereien': 9928, 'windschatten': 9929, 'vormarsch': 9930, 'wehrhafte': 9931, 'premiere': 9932, 'livestream': 9933, 'twitterde': 9934, 'il50d': 9935, 'jugendwiderstand': 9936, 'palaestinensischen': 9937, 'distanzie': 9938, 'schreit': 9939, '11freunde': 9940, 'damalige': 9941, 'waehrung': 9942, 'steherfuernenzweier': 9943, 'oberlehrern': 9944, 'barnett': 9945, 'angestrebten': 9946, 'stoph': 9947, 'derwahreerich': 9948, 'honeckermargot': 9949, 'ddroffiziell': 9950, 'akchefredaktion': 9951, 'netzt': 9952, 'spiessrutenl': 9953, '2min': 9954, '78': 9955, 'watson': 9956, 'sauerstoffmangel': 9957, 'geistiger': 9958, 'beeintraechtigungen': 9959, 'liberaldemokratisches': 9960, 'scheel': 9961, 'eipolitische': 9962, 'egoismus': 9963, 'beschaedigt': 9964, 'frass': 9965, 'imbiss': 9966, 'buden': 9967, 'muselmanen': 9968, 'bude': 9969, 'entfolgen': 9970, 'groessenwahnsinnig': 9971, 'matschbirne': 9972, 'magengeschwuere': 9973, 'carlos09381249': 9974, 'ungeziefer': 9975, 'ern': 9976, 'nordbayern': 9977, 'nn': 9978, 'kantine': 9979, 'karlawagner13': 9980, 'familienfragen': 9981, 'familienfreundlich': 9982, 'bessere': 9983, 'alleinstehende': 9984, 'treblinka': 9985, 'sobibor': 9986, '50er': 9987, 'dunkelflauten': 9988, 'verkehrsfunk': 9989, 'geisterfahrer': 9990, 'abbiegen': 9991, 'arbeitsgruppen': 9992, 'koalitionsgespraeche': 9993, 'bspw': 9994, 'groesster': 9995, 'nachbar': 9996, 'skoerzell': 9997, 'einzureden': 9998, 'asche': 9999, 'ltsh': 10000, 'uebersiedeln': 10001, 'klimaschuetzer': 10002, 'geschwindigkeitsbeschraenkung': 10003, 'flieger': 10004, 'falschangewandter': 10005, 'ueberhoe': 10006, 'fussballspieler': 10007, 'bliebe': 10008, 'strafrechtlichen': 10009, 'relevanz': 10010, 'schaftsmafia': 10011, 'whipstock': 10012, 'denkend': 10013, 'slawischen': 10014, 'verfuegend': 10015, 'betreffen': 10016, 'fraumensing': 10017, 'grauer': 10018, 'gezwungen': 10019, 'unterschlagungs': 10020, 'deppo0128': 10021, 'troeten': 10022, 'abgeschworen': 10023, 'zurueckgezogen': 10024, 'flheche': 10025, 'textbeitrag': 10026, 'farce': 10027, 'zler': 10028, 'kreisen': 10029, 'gewichtung': 10030, 'richtungs': 10031, 'stimmungs': 10032, 'weisend': 10033, 'huuuuuuuuuu': 10034, 'entglitten': 10035, 'gesichtszuege': 10036, 'maeulchenfalten': 10037, 'verschwanden': 10038, 'furchtbaren': 10039, 'schiesserei': 10040, 'orlando': 10041, 'intl': 10042, 'vous': 10043, 'pouvez': 10044, 'nous': 10045, 'suivre': 10046, 'pour': 10047, 'anglais': 10048, 'sur': 10049, 'komments': 10050, 'faek': 10051, 'scheisssprache': 10052, 'heimkehrer': 10053, 'auswurf': 10054, 'gesunden': 10055, 'menschenverstands': 10056, 'amris': 10057, 'liche': 10058, 'schuldiger': 10059, 'gemueter': 10060, 'besaenftigt': 10061, 'urlaubsvideos': 10062, 'ars': 10063, '1zu1': 10064, 'gebetsmuehlena': 10065, 'aufrufe': 10066, 'trotzen': 10067, 'wirksam': 10068, 'vorzugehen': 10069, 'seltsamer': 10070, 'schutzberechtigte': 10071, 'griechenl': 10072, 'laufenden': 10073, 'zusammenfuehrung': 10074, 'zusammenhalten': 10075, 'feldprediger': 10076, 'gefolgschaft': 10077, 'nerd': 10078, 'raywiggel': 10079, 'humorlos': 10080, 'diaamohammedali': 10081, 'lover': 10082, 'katzenbilder': 10083, 'schlage': 10084, 'lektuere': 10085, 'humanitaere': 10086, 'verlegt': 10087, 'ostgrenzen': 10088, 'friedensbedrohung': 10089, 'drachenlord': 10090, 'anstaendiger': 10091, 'yoh': 10092, 'vorauseilender': 10093, 'gehorsam': 10094, 'resultie': 10095, 'unberechenbaren': 10096, 'boesewicht': 10097, 'kante': 10098, 'oesis': 10099, 'kastrie': 10100, 'dummvolk': 10101, 'patentingenieur': 10102, 'banalisieren': 10103, 'unterbrechen': 10104, 'faehigen': 10105, 'majuja28121': 10106, 'auferlegtes': 10107, 'million': 10108, 'haustuerbesuchen': 10109, 'km': 10110, 'reiserobby': 10111, 'nazifreunde': 10112, 'eilungen': 10113, 'bedraengnis': 10114, 'hinauszuwachsen': 10115, 'wb': 10116, 'bezahl': 10117, 'bitteren': 10118, 'elendige': 10119, 'lego': 10120, 'schul': 10121, 'forder': 10122, 'aeltestenrat': 10123, 'landtagssitzung': 10124, 'medientermine': 10125, 'nachmittags': 10126, 'luebeck': 10127, 'ihk': 10128, 'plagiaten': 10129, 'fuehrungspositionen': 10130, 'noob5a1bot': 10131, 'hauptseite': 10132, 'zwietracht': 10133, 'pfarrerinnen': 10134, 'pfarrern': 10135, '65': 10136, 'lebensjahr': 10137, 'eroe': 10138, 'unruhe': 10139, 'ausloesen': 10140, 'sprachlich': 10141, 'erkenne': 10142, 'mielkes': 10143, 'amateurfunker': 10144, 'freigesprochen': 10145, 'vonto': 10146, 'whynonews': 10147, 'ludkethomas': 10148, 'matthiesenuwe': 10149, 'politundjournalienabschaum': 10150, 'luegensender': 10151, 'nordhausenfrank': 10152, 'goslar': 10153, 'posener': 10154, 'weigere': 10155, 'ernste': 10156, '140': 10157, 'derorient': 10158, 'tendenzioes': 10159, 'volontaerin': 10160, 'vorgeworfen': 10161, 'teaser': 10162, 'autors': 10163, 'mottenkiste': 10164, 'niederlegen': 10165, 'einbringen': 10166, 'schalburg1': 10167, 'geschriebenen': 10168, 'wutmama': 10169, 'tilojung': 10170, 'wissenswe': 10171, 'nullnummer': 10172, 'synodal': 10173, 'gemeindeordnung': 10174, 'lebenspa': 10175, 'angeglichen': 10176, 'blanker': 10177, 'horror': 10178, 'verliess': 10179, 'funke': 10180, 'sachlichkeit': 10181, 'erdgeschoss': 10182, 'fettarsch': 10183, 'durchbricht': 10184, '0815lucky0815': 10185, 'denunziantenniveau': 10186, 'zumal': 10187, 'fing': 10188, 'linksversifftgute': 10189, 'wegzublocken': 10190, 'wasserwerfer': 10191, 'gedeihen': 10192, 'bewaessern': 10193, 'loescht': 10194, 'resistent': 10195, 'kruzifixnochmal': 10196, 'abususu': 10197, 'duenn': 10198, 'ruestungsexpo': 10199, 'jemen': 10200, 'unhoeflich': 10201, 'abgegeben': 10202, 'patchwork': 10203, 'redaktion': 10204, 'wichtigste': 10205, 'angreifer': 10206, 'verhuellten': 10207, 'nachlassen': 10208, 'missstaende': 10209, 'zig1000': 10210, 'chorherr': 10211, 'wkogler': 10212, 'hochgeschwindigkeitszuege': 10213, 'kontinentalfluege': 10214, 'cop': 10215, 'gezaehlt': 10216, 'reduktion': 10217, 'treibhausgasen': 10218, 'entscheidungsunfaehigen': 10219, 'anarchistenfreunliche': 10220, 'united': 10221, 'europakonzept': 10222, 'assimilie': 10223, 'schoepfend': 10224, 'zurueckhaltend': 10225, 'finanzadel': 10226, 'spottet': 10227, 'beschreibung': 10228, 'kreuzung': 10229, 'kreuze': 10230, 'simple': 10231, 'staunt': 10232, 'dokumente': 10233, 'nopgy': 10234, 'cebu': 10235, 'lest': 10236, 'compact': 10237, 'ausgiebigen': 10238, 'tagdesehrenamts': 10239, 'demnach': 10240, 'gehalt': 10241, 'niederlaender': 10242, 'frosch': 10243, 'innenpolitisch': 10244, 'immun': 10245, 'reizgas': 10246, 'spotifyde': 10247, 'spotify': 10248, 'angemessen': 10249, 'erzieherische': 10250, 'massnahne': 10251, 'kommies': 10252, 'braunkohlestrom': 10253, 'dreikoepfige': 10254, 'zelle': 10255, 'homegrown': 10256, 'terrororganisation': 10257, 'staendigen': 10258, 'verharmlosungen': 10259, 'verniedlichungen': 10260, 'uschungen': 10261, 'weihwasser': 10262, 'altpapier': 10263, 'schrott': 10264, 'beginnend': 10265, 'gluehender': 10266, 'sozialdemokrat': 10267, 'gigantischer': 10268, 'raffzahn': 10269, 'logische': 10270, 'menschendiebstahl': 10271, 'vom': 10272, 'husseink': 10273, 'brutalst': 10274, 'ermorde': 10275, 'publik': 10276, 'refcrime': 10277, 'staatsgetreu': 10278, 'endlosschleife': 10279, 'aussaetziger': 10280, 'stastssender': 10281, 'elende': 10282, 'gefakter': 10283, 'rhetorische': 10284, 'nationalstaat': 10285, 'helmutholter': 10286, 'dlfbildung': 10287, 'bildungth': 10288, 'runtergefahren': 10289, 'antiautaere': 10290, 'erziehungslehre': 10291, 'widersetzen': 10292, 'boeller': 10293, 'plastikflaschen': 10294, 'mitdemonstrierende': 10295, 'standen': 10296, 'werfenden': 10297, 'ordner': 10298, 'gerettete': 10299, 'lybischen': 10300, 'kueste': 10301, 'abgeholte': 10302, 'italienischen': 10303, 'booten': 10304, 'schlapp': 10305, 'heplev': 10306, 'unwiderruflich': 10307, 'april2017': 10308, 'bevorzuge': 10309, 'mcimcmiller': 10310, 'twinnz4you': 10311, 'opfernazigewalt': 10312, 'fatih': 10313, 'akin': 10314, 'solingen': 10315, '192': 10316, 'todesopfer': 10317, 'verstoss': 10318, 'amts': 10319, 'hervorragend': 10320, 'holte': 10321, 'almosen': 10322, 'schaeussle': 10323, 'foxvsbadger': 10324, 'quasi': 10325, 'machtgerangel': 10326, 'tramp': 10327, 'trampel': 10328, 'quaken': 10329, 'geissel': 10330, 'falle': 10331, 'muedigkeit': 10332, 'rwschmidt1': 10333, 'untragbar': 10334, 'regenbogenfahnen': 10335, 'derzeit': 10336, 'wehen': 10337, 'strackjoshua': 10338, 'bibelanwalt': 10339, 'weitestgehend': 10340, 'titulieren': 10341, 'beaengstigend': 10342, 'kritikern': 10343, 'mainstream': 10344, 'jkcork76': 10345, 'uuuuuunnnnd': 10346, 'isser': 10347, 'hyperintelligente': 10348, 'differenzierer': 10349, 'negroider': 10350, 'taetlichkeiten': 10351, 'muslems': 10352, 'aufgeloest': 10353, 'viktoriastr': 10354, 'brause': 10355, 'zischen': 10356, 'verweist': 10357, 'quatrofinia': 10358, 'gesegnet': 10359, 'zaehe': 10360, 'unkrautwurzel': 10361, 'hanniblecktor': 10362, 'di': 10363, 'yharry112': 10364, 'betroffenheitsperspektive': 10365, 'zusammenhaenge': 10366, 'beweismaterial': 10367, 'sonderbericht': 10368, 'ahnen': 10369, 'minen': 10370, 'setzten': 10371, 'hetzkampagne': 10372, 'aufforde': 10373, 'zurueckzukehren': 10374, 'gesuehnt': 10375, 'eutschfeindliche': 10376, 'befehl': 10377, 'spu': 10378, 'natalia': 10379, 'hasskick': 10380, 'schaarsevi': 10381, 'bessermenschen': 10382, 'fruchtfliege': 10383, 'killst': 10384, 'fach': 10385, 'narzissmus': 10386, 'seelenleben': 10387, 'hassenden': 10388, 'subsidaerer': 10389, 'achtelfinale': 10390, 'freundchen': 10391, 'meckerst': 10392, 'steinigung': 10393, 'piratenfrank': 10394, 'ueberlasse': 10395, 'mirapi': 10396, 'gerry': 10397, 'grantler': 10398, 'strotzt': 10399, 'teilt': 10400, 'menschenrechtskonventionen': 10401, 'verschissenen': 10402, 'rage': 10403, 'insolvenz': 10404, 'duerften': 10405, 'dessau': 10406, 'gedachten': 10407, 'todes': 10408, 'handvoll': 10409, 'boellerwuerfe': 10410, 'blieb': 10411, 'gegenkundgebung': 10412, 'ueberraschung': 10413, 'vorbestrafter': 10414, 'pournette': 10415, 'plenarwoche': 10416, 'fdpbt': 10417, 'landwi': 10418, 'senkung': 10419, 'beitragssatzes': 10420, 'arbeitslosenversicherung': 10421, 'fluechtlingsnachwuchs': 10422, 'rechtspopulistischen': 10423, 'schwe': 10424, 'moench': 10425, 'ritters': 10426, 'gustl': 10427, 'mollath': 10428, 'anrichten': 10429, 'margot': 10430, 'kaessmann': 10431, 'friedich': 10432, 'delius': 10433, 'adel': 10434, 'tawila': 10435, 'deskutie': 10436, 'margarete': 10437, 'fehlgesteue': 10438, 'mut': 10439, 'leichtsinn': 10440, 'zerstrittene': 10441, 'aufwe': 10442, 'klaeren': 10443, 'wievielte': 10444, '4te': 10445, 'mlp': 10446, 'officiel': 10447, 'ant': 10448, 'baudino': 10449, 'doenerwetter': 10450, 'oberlippe': 10451, 'schmuddelsex': 10452, 'spinne': 10453, 'herpes': 10454, 'selbstekel': 10455, 'kinderfernsehzeit': 10456, 'panische': 10457, 'schafteten': 10458, 'untergebutte': 10459, 'nminkmar': 10460, 'schmidtlepp': 10461, 'hauptsachguddgess': 10462, 'anniklose': 10463, 'fluchtrouten': 10464, 'begraben': 10465, 'aufmerksamkeit': 10466, 'eure': 10467, 'unveraende': 10468, 'vernunftbueger': 10469, 'migrantenkinder': 10470, 'belgien': 10471, 'neuaubing': 10472, 'verlass': 10473, 'wacht': 10474, 'moechtet': 10475, 'toechter': 10476, 'gepampe': 10477, 'zugpferde': 10478, 'saemtlicher': 10479, 'islamlobbys': 10480, 'wespe': 10481, 'gedeckten': 10482, 'mittags': 10483, 'plage': 10484, 'zusammensetzung': 10485, 'insbes': 10486, 'mrohrlack': 10487, 'unterschieden': 10488, 'polizeibeamten': 10489, 'schwachen': 10490, 'veruntreuung': 10491, 'ausgangspost': 10492, 'gba': 10493, 'bgh': 10494, 'asylantenterror': 10495, 'eingebrockt': 10496, 'despoten': 10497, 'bosporus': 10498, 'jahrelang': 10499, 'hofie': 10500, 'praes': 10501, 'kuenstler': 10502, 'sec': 10503, 'schuesse': 10504, 'verboetchen': 10505, 'ausgeweitet': 10506, 'einsatzbesprechung': 10507, 'schichtantritt': 10508, 'interne': 10509, 'benoetigst': 10510, 'realitaetsfern': 10511, 'terrorisieren': 10512, 'abkriegt': 10513, 'teamkenfm': 10514, 'nachdenkseiten': 10515, 'orwell': 10516, 'unendlich': 10517, 'gefolge': 10518, 'leitfigur': 10519, 'diederich': 10520, 'hessling': 10521, 'mittelmeer': 10522, 'verlagern': 10523, 'berufserfahrung': 10524, 'qoutenweiber': 10525, 'sozenversenken': 10526, 'haustuer': 10527, 'suaheli': 10528, 'germanisch': 10529, 'vermischen': 10530, 'wirgegenhomophobie': 10531, 'homophobie': 10532, 'dold': 10533, 'wolfhansen': 10534, 'gemeines': 10535, 'zombie': 10536, 'wiederlegbar': 10537, 'dshsdm': 10538, 'wattesprech': 10539, 'hoepfner': 10540, 'kleinzureden': 10541, 'langfristig': 10542, 'gebrandmarkt': 10543, 'netzagentur': 10544, 'niente': 10545, 'beitrittserklaerungen': 10546, 'zukuenftig': 10547, 'pfarrer': 10548, 'pfarrerin': 10549, 'kirchenvorstand': 10550, 'scheinst': 10551, 'vakuum': 10552, 'vamudara': 10553, 'studt': 10554, 'hohensyburg': 10555, 'mistercassutty': 10556, 'draengen': 10557, 'onkeljurgen': 10558, 'musketier': 10559, 'roliseadweller': 10560, 'zuende': 10561, 'shabbat': 10562, 'shalom': 10563, 'verquere': 10564, 'vorfaellen': 10565, 'spielbericht': 10566, 'selbe': 10567, 'diktatorisches': 10568, 'integrationsunwillige': 10569, 'hemmschuh': 10570, 'journalienbande': 10571, 'kapie': 10572, 'polizeizelle': 10573, 'vors': 10574, 'zweifelhaften': 10575, 'umstaenden': 10576, 'rechtfe': 10577, 'igung': 10578, 'schuettelt': 10579, 'joernk24': 10580, 'thedare79': 10581, 'pornos': 10582, 'strafung': 10583, 'weitgehende': 10584, 'kommunitaeten': 10585, 'vorzulegen': 10586, 'cock4ndpussy': 10587, 'zahlung': 10588, 'kleebank': 10589, 'regierungsbeteiligung': 10590, 'berechtigte': 10591, 'vermehren': 10592, 'stinkende': 10593, 'beduinen': 10594, 'entfernung': 10595, 'hinterruecks': 10596, 'hinterhaeltig': 10597, 'wehrlose': 10598, 'weiterzuleben': 10599, 'freddy2805': 10600, 'amchade': 10601, 'strafgesetzbuch': 10602, 'sensiblen': 10603, 'anzeigt': 10604, 'grandios': 10605, 'lovewins': 10606, 'extremist': 10607, 'frohen': 10608, 'faehiges': 10609, 'eheformulare': 10610, 'umkleiden': 10611, 'teams': 10612, 'enplaetze': 10613, 'hinterhergeworfen': 10614, 'trinke': 10615, 'zaeh': 10616, 'leder': 10617, 'trinkt': 10618, 'renaturie': 10619, 'honeckermaessig': 10620, 'alimentieren': 10621, 'laetacara': 10622, 'sebroloff': 10623, 'maggi': 10624, 'mitbringen': 10625, 'gedroht': 10626, 'aersche': 10627, 'einfaeltig': 10628, 'verseucht': 10629, 'ruestung': 10630, 'kriegsgebiete': 10631, 'vereinsrecht': 10632, 'strafen': 10633, 'aberkennung': 10634, 'gemaeht': 10635, 'radler': 10636, 'zunge': 10637, 'wasserdampf': 10638, 'wasse': 10639, 'emperatur': 10640, 'scheinasylanten': 10641, 'huelle': 10642, 'pingu': 10643, 'vergangener': 10644, 'bindet': 10645, 'objektiven': 10646, 'sr': 10647, 'biancalee1671': 10648, 'este': 10649, 'albastone72': 10650, 'scheinheiliger': 10651, 'ausserrandundband': 10652, 'verkaufst': 10653, 'heiner': 10654, 'geissler': 10655, 'boom': 10656, 'jarnsaxxa': 10657, 'aufzaehlung': 10658, 'faellen': 10659, 'verbuesst': 10660, 'folter': 10661, 'antidemkratisch': 10662, 'nt': 10663, 'aufgehetzt': 10664, 'gotteslaesterung': 10665, 'lautete': 10666, 'karrikaturen': 10667, 'motorenhalle': 10668, 'riesa': 10669, 'efau': 10670, 'hineingesteue': 10671, 'lachnummer': 10672, 'grob': 10673, 'leide': 10674, 'leidenschaft': 10675, 'gothic': 10676, 'gelbes': 10677, 'smiley': 10678, 'shi': 10679, 'schwaerme': 10680, 'agt': 10681, 'bewaffneten': 10682, 'uniformie': 10683, 'marke': 10684, 'fundamentaler': 10685, 'hinterzogenen': 10686, 'cubanische': 10687, 'familienzusammensetzung': 10688, 'vermutungen': 10689, 'schaetzungen': 10690, 'ursprungstweet': 10691, 'prinzessinnen': 10692, 'klitzekleine': 10693, 'tippfehler': 10694, 'postvonheute': 10695, 'hieroncode': 10696, 'lebendige': 10697, 'staerkend': 10698, 'gewandt': 10699, 'anzettelt': 10700, 'opfe': 10701, 'thomasmichael71': 10702, 'tobiasgroeflin': 10703, 'floriancaliebe': 10704, 'amazon': 10705, 'jeffbezos': 10706, 'bewerben': 10707, 'ueberm': 10708, 'zusammenschlagen': 10709, 'serioeser': 10710, 'oesterland': 10711, 'my': 10712, 'bekloppt': 10713, 'teddys': 10714, 'waszumelden': 10715, 'schonlaengerhierlebende': 10716, 'kleinzuhalten': 10717, 'lebensunterhalt': 10718, 'vati': 10719, 'aufreisst': 10720, 'timeforchange': 10721, 'gleichheit': 10722, 'neo': 10723, 'ku': 10724, 'klux': 10725, 'klan': 10726, 'gleichgesetzt': 10727, 'christianlueth': 10728, 'umerziehungs': 10729, 'bayrischen': 10730, 'fluechtlingsrats': 10731, 'abschiebungsflug': 10732, 'voraussicht': 10733, 'tschmitz': 10734, 'sorosgeldern': 10735, 'beschlagnahmt': 10736, 'psychopathisch': 10737, 'stuhlgang': 10738, 'kingsalman': 10739, 'gesteinigt': 10740, 'nationalisten': 10741, 'sommerloch': 10742, 'kissmann': 10743, 'katarinabarley': 10744, 'heulsusen': 10745, 'zeitnah': 10746, 'bach': 10747, 'kr': 10748, 'th0': 10749, 'hodoxe': 10750, 'eliyahhavemann': 10751, 'juedisch': 10752, 'papagei': 10753, 'durchseuchtes': 10754, 'legitiemer': 10755, 'anstaendig': 10756, 'sudetendeutsche': 10757, 'leichten': 10758, 'bauch': 10759, 'verabscheut': 10760, 'hauptschueler': 10761, 'ueberlegenheit': 10762, 'akademikers': 10763, 'fuegt': 10764, 'huether': 10765, 'kh': 10766, 'paque': 10767, 'angelamerkel': 10768, 'fnfreiheit': 10769, 'verpruegelt': 10770, 'stromerzeuger': 10771, 'tsunamigefahr': 10772, 'zweierlei': 10773, 'igwigg': 10774, 'kanzel': 10775, 'mc': 10776, 'bpol': 10777, 'beschwerliche': 10778, 'rueckflug': 10779, 'hofmann1983': 10780, 'ajm162k9': 10781, 'skooma': 10782, 'postenjaeger': 10783, 'fckerdogan': 10784, 'erdoganthebutcher': 10785, 'erdoganistderhass': 10786, 'csendc': 10787, 'geniess': 10788, 'georgsglauben': 10789, 'main': 10790, 'kuerzlich': 10791, 'ciao': 10792, 'sehnlicher': 10793, 'schwachkoepfen': 10794, 'baerendeutscher': 10795, 'kaiueberfeld': 10796, 'verstaerkt': 10797, 'sunna': 10798, 'antijudaismus': 10799, 'muhammad': 10800, 'thegrandtour': 10801, 'raddiradditski': 10802, 'radkult': 10803, 'radverkehr': 10804, 'des': 10805, 'jued': 10806, 'maedchens': 10807, 'anzweifelt': 10808, 'abgesegneten': 10809, 'bureg': 10810, 'nebel': 10811, 'einfliegt': 10812, 'hauptschulabschluss': 10813, 'fluechtlingsinis': 10814, 'schulungen': 10815, 'friedensmission': 10816, 'westliche': 10817, 'hinbekommt': 10818, 'strassenfestes': 10819, 'abschottung': 10820, 'akt': 10821, 'bonne': 10822, 'schnitt': 10823, 'nano': 10824, 'technologie': 10825, 'wehleidiger': 10826, 'dorfbuergermeister': 10827, 'wasserwerke': 10828, 'kommunalpolitiker': 10829, 'dolmetschte': 10830, 'spitzenpolitiker': 10831, 'trank': 10832, 'heilung': 10833, 'thorodinsondr': 10834, 'wildespess': 10835, 'fluegeln': 10836, 'religioten': 10837, 'abu': 10838, 'shaitan': 10839, 'knaagi': 10840, 'imer669': 10841, 'abfinden': 10842, 'buntgemischter': 10843, 'textilien': 10844, 'ollimoe': 10845, 'besorgt': 10846, '1974': 10847, '1988': 10848, 'idealismus': 10849, 'monheim': 10850, 'gemeinen': 10851, 'aufrichtige': 10852, 'ausmassen': 10853, 'vorbehaltlos': 10854, 'flicklgruber': 10855, 'zwangsverheiratet': 10856, 'gulagexpress': 10857, 'sibirische': 10858, 'wuenschesaraziendentod': 10859, 'canselk': 10860, 'freika': 10861, 'heucheln': 10862, 'lauro': 10863, 'doc': 10864, 'profiluegnern': 10865, 'subsidaer': 10866, 'geschuetzen': 10867, 'irrsinnig': 10868, 'pressemitteilung': 10869, 'hinterhogen': 10870, 'ausgelesen': 10871, 'bigott': 10872, 'viki': 10873, 'viktoriastrasse': 10874, 'solilimo': 10875, 'antiterror': 10876, 'uebung': 10877, 'dilettanten': 10878, 'soniamikich': 10879, 'dynamisch': 10880, 'unkonventionell': 10881, 'pimpf': 10882, 'schmach': 10883, 'gellis18': 10884, 'gedaechtnis': 10885, 'plattheiten': 10886, 'suffschaedel': 10887, 'tolerieren': 10888, 'schlimmeres': 10889, 'privatsache': 10890, 'strafgesetz': 10891, 'kuppelei': 10892, 'selbstreflexion': 10893, 'fasst': 10894, 'narzisstisch': 10895, 'schweinepriester': 10896, 'exfrau': 10897, 'standard': 10898, 'tagesaktuelle': 10899, 'netzweisheiten': 10900, 'barmherzigen': 10901, 'ehrenmitglied': 10902, 'ernannt': 10903, 'erfuellen': 10904, 'neueste': 10905, 'dance': 10906, 'human': 10907, 'rights': 10908, 'sauladen': 10909, 'ffm': 10910, 'bucklig': 10911, 'geschenkpaket': 10912, 'terroristenzeitalter': 10913, 'christelmett': 10914, 'rueckfuehren': 10915, 'besitz': 10916, 'aberkennen': 10917, 'steuergeld': 10918, 'radekzak7': 10919, 'nytimes': 10920, 'unholy': 10921, 'relationships': 10922, 'with': 10923, 'kremlin': 10924, 'hirnerweichender': 10925, 'faschistischer': 10926, 'stromrechnung': 10927, 'alternativenergie': 10928, 'pr': 10929, 'fckoeln': 10930, 'vflbochum1848ev': 10931, 'tipico': 10932, 'mittels': 10933, 'positionierung': 10934, 'berufslose': 10935, 'drogenabhaengige': 10936, 'eingenistet': 10937, 'dein': 10938, 'tacheles': 10939, 'waffenexpo': 10940, 'ausloeser': 10941, 'fluchtbewegungen': 10942, 'misereor': 10943, 'zweitfrau': 10944, 'sultans': 10945, 'beherrschen': 10946, 'einerkai': 10947, 'haltloser': 10948, 'wohlfuehl': 10949, 'einrichtung': 10950, 'hohem': 10951, 'einnahmequelle': 10952, 'angedichtete': 10953, 'meistbietend': 10954, 'sysyphus58': 10955, 'wahrgenommen': 10956, 'kippa': 10957, 'unnoetige': 10958, 'einklagt': 10959, 'salonfaehigen': 10960, 'kieler': 10961, 'landeshaus': 10962, 'station': 10963, 'kreisverbaende': 10964, 'kommunalwahlen': 10965, 'iaamesse': 10966, 'beruehmte': 10967, 'haraldrostock': 10968, 'aufbuerden': 10969, 'blarryofficial': 10970, 'selektion': 10971, 'anschaue': 10972, 'dungsbuerger': 10973, 'erbsengrossen': 10974, 'hirnen': 10975, 'luegnerin': 10976, 'diskussionsrunden': 10977, 'internetforum': 10978, 'twitterview': 10979, 'web': 10980, 'altmodisch': 10981, 'prima': 10982, 'altgediente': 10983, 'schwachsinngealte': 10984, 'goldener': 10985, 'geparkt': 10986, 'ueberrascht': 10987, 'isz': 10988, 'lappen': 10989, 'prueft': 10990, 'ueberwachte': 10991, 'honeckers': 10992, 'acount': 10993, 'noah': 10994, 'kaygottschalk1': 10995, 'clemenswergin': 10996, 'mathieuvonrohr': 10997, 'regierungsvie': 10998, 'els': 10999, 'nucleardoc123': 11000, 'reichelt': 11001, 'platzeck': 11002, 'zofften': 11003, 'mangelnde': 11004, 'traf': 11005, 'schrecklich': 11006, 'lieschenmutzel1': 11007, 'fernsehn': 11008, 'bestet': 11009, 'schneidercar': 11010, 'groesseren': 11011, 'klausmu97675009': 11012, 'wahrhaft': 11013, 'gezimme': 11014, 'abgehaengt': 11015, 'kosmetischen': 11016, 'behandlung': 11017, 'unterzogen': 11018, 'kosmetikerin': 11019, 'wurzel': 11020, 'sprichwoe': 11021, 'staatshilfe': 11022, 'fluechtlingsheim': 11023, 'kindesmissbrauch': 11024, 'stoerungen': 11025, 'capellan': 11026, 'johnnyvcaffine': 11027, 'vorausgesagt': 11028, 'islamterror': 11029, 'madrid': 11030, 'politidioten': 11031, 'steffi2105': 11032, 'schwesig': 11033, 'krawallmacher': 11034, 'stinker': 11035, 'anwaltsgelaber': 11036, 'justizreform': 11037, 'offenen': 11038, 'bedient': 11039, 'gegenzug': 11040, 'schmie': 11041, 'quer': 11042, 'waldbericht': 11043, 'waldsterben': 11044, 'ueberwunden': 11045, 'nachhaltigkeit': 11046, 'schaftlichkeit': 11047, 'bilanz': 11048, 'hope': 11049, 'no1': 11050, 'oberhaupt': 11051, 'junges': 11052, 'dynamisches': 11053, 'geschichtsunsinn': 11054, 'surdum': 11055, 'berge': 11056, 'laechelt': 11057, 'intelligenter': 11058, 'profraika': 11059, 'pipapopipifax': 11060, 'vorzimmerdame': 11061, 'rplantiko': 11062, 'nachschauen': 11063, 'ausgaben': 11064, 'nachgeworfen': 11065, 'erstausgabe': 11066, 'teuerste': 11067, 'umgerchnet': 11068, '250': 11069, 'erstaunlich': 11070, 'herzlichst': 11071, 'pisser': 11072, 'laenderein': 11073, 'ultras': 11074, 'durchgegriffen': 11075, 'juristen': 11076, 'rentnerin': 11077, 'hauptberufliche': 11078, 'geistliches': 11079, 'brandstifter': 11080, 'tarnen': 11081, 'gesellschaftlich': 11082, 'kracht': 11083, 'zynisch': 11084, 'stinkstiefel': 11085, 'unruhestifter': 11086, 'gutbezahlten': 11087, 'angeprange': 11088, 'fruehwein': 11089, 'beinah': 11090, '3021': 11091, 'kritiken': 11092, 'eidigungsmin': 11093, 'umstands': 11094, 'uniformen': 11095, 'ju': 11096, 'ausgewaehlte': 11097, 'munde': 11098, 'einheitsmeinung': 11099, 'zahnarzt': 11100, 'goedde': 11101, 'faekalien': 11102, 'wiederholung': 11103, 'gemeinschmutziger': 11104, 'gewagt': 11105, 'tendentioes': 11106, 'inzest': 11107, 'einwanderungsgeschichte': 11108, 'englands': 11109, 'voelkerwahn': 11110, 'aufrechtzuerhalten': 11111, 'eingeschraenktem': 11112, 'geritzten': 11113, 'kondolie': 11114, 'ausgehen': 11115, 'auszuhebeln': 11116, 'buchmesse': 11117, 'philipp': 11118, 'ther': 11119, 'friedman': 11120, 'getriebenen': 11121, '30uhr': 11122, 'weltempfang': 11123, 'halle': 11124, 'getue': 11125, 'flugzeugen': 11126, 'schiffsdieseln': 11127, 'meeren': 11128, 'quotenmusel': 11129, 'hell': 11130, 'platte': 11131, 'infamen': 11132, 'altpolitiker': 11133, 'observie': 11134, 'bordell': 11135, 'club': 11136, 'terroristenratgeber': 11137, 'mutmassungen': 11138, 'san': 11139, 'begnuegen': 11140, 'wohngruppen': 11141, 'wechselnden': 11142, 'rassismuskeule': 11143, 'friedlichsten': 11144, 'denizyuecel': 11145, 'panzergeschaeften': 11146, 'befleckt': 11147, 'etwaigen': 11148, 'guelen': 11149, 'rambonelli': 11150, 'gewaltbereit': 11151, 'gegenueb': 11152, 'pfahler': 11153, 'parlamentarischen': 11154, 'ablaeufen': 11155, 'mitgliedsstruktur': 11156, 'vielfaeltig': 11157, 'glaeubig': 11158, 'volksherrschaft': 11159, 'georgmeckler': 11160, 'grossfamilie': 11161, 'ausgestattete': 11162, 'herrenmenschen': 11163, 'siesindgefeue': 11164, 'mediale': 11165, 'leutz': 11166, 'wunschdenken': 11167, 'zigtausende': 11168, 'gespraechskreis': 11169, 'finanzen': 11170, 'bundesrat': 11171, 'grundsteuer': 11172, 'almans': 11173, 'app': 11174, 'rossman': 11175, 'old': 11176, 'shool': 11177, 'brauchten': 11178, 'einkaufszettel': 11179, 'model': 11180, 'brust': 11181, 'genitalbereich': 11182, 'eierstoecke': 11183, 'gebaermutter': 11184, 'westfunker': 11185, 'formt': 11186, 'zivilisation': 11187, 'safe': 11188, 'zweimaliger': 11189, 'blender': 11190, 'lobbyvereinigungen': 11191, 'euractiv': 11192, 'referenden': 11193, 'sitzungen': 11194, 'vorzubereiten': 11195, 'selbstbewusste': 11196, 'eigenstaendige': 11197, 'intensiver': 11198, 'andersglaeubig': 11199, 'immigrant': 11200, 'vorletzten': 11201, 'blamage': 11202, 'moegl': 11203, 'konflikt': 11204, 'verscherbeln': 11205, 'inhaltlichen': 11206, 'ruecksichtnahme': 11207, 'bayernplans': 11208, 'rothenburgso': 11209, 'elbseparee': 11210, 'neujahresempfang': 11211, 'schmidtchen': 11212, 'talk': 11213, 'ausgetraeumt': 11214, 'zerlegen': 11215, 'remondis': 11216, 'preiserhoehungen': 11217, 'miese': 11218, 'winterdienst': 11219, 'enricopomsel': 11220, 'eibasis': 11221, 'durchgesetzten': 11222, 'wiederfinden': 11223, 'bronx': 11224, 'fbrantner': 11225, 'stabilitaet': 11226, 'atze': 11227, 'atzig': 11228, 'carenlay': 11229, 'stadtbautzen': 11230, 'gehauen': 11231, 'korrektus': 11232, 'geflohen': 11233, 'afghane': 11234, 'auftauchen': 11235, 'tagtaeglich': 11236, 'taliban': 11237, 'zivilist': 11238, '19chichi40': 11239, 'alleingang': 11240, 'ritz': 11241, 'hinausgeht': 11242, 'durchfall': 11243, 'frauentoiletten': 11244, 'angstfrei': 11245, 'urania': 11246, 'merkeltollhaus': 11247, 'anprange': 11248, 'mehrfachen': 11249, 'selbverstaendlichkeit': 11250, 'betonen': 11251, 'lbl': 11252, '953858918761029632': 11253, 'extremisten': 11254, 'alevit': 11255, 'siegfried175': 11256, 'bingo': 11257, 'hauptpreis': 11258, 'gefuehle': 11259, 'weihnachtsfeie': 11260, 'reinke': 11261, 'drecksmigranten': 11262, 'erzeuger': 11263, '85igsten': 11264, 'ic': 11265, 'sondersitzung': 11266, 'jahrestages': 11267, 'elysee': 11268, 'rages': 11269, 'korrekte': 11270, 'maxmusil': 11271, 'afdverohz': 11272, 'niederlange': 11273, 'auftreten': 11274, 'haag': 11275, 'potus': 11276, 'eingeladen': 11277, 'genaue': 11278, 'festgesetzt': 11279, 'vollzeitterroristen': 11280, 'ruf': 11281, 'hilfsjobber': 11282, 'hinweist': 11283, 'erstochen': 11284, 'homosexuelle': 11285, 'gejagt': 11286, 'bestialische': 11287, 'aufwacht': 11288, 'reformieren': 11289, 'brandmelder': 11290, 'christophmach': 11291, 'auweh': 11292, 'raten': 11293, 'antragssteller': 11294, 'zugesprochen': 11295, 'bekamen': 11296, 'dummdaemliche': 11297, 'hinterlistig': 11298, 'schnueffeln': 11299, 'umfunktionie': 11300, 'ermutigende': 11301, 'besetzten': 11302, 'eimit': 11303, 'kiefel': 11304, 'velosa': 11305, 'silva': 11306, 'georgi': 11307, 'giebeler': 11308, 'schoenherr': 11309, 'gastes': 11310, 'nibelungenheld': 11311, 'programmieren': 11312, 'stress': 11313, 'rocknproll': 11314, 'eindruecke': 11315, 'verarbeiten': 11316, 'gaenge': 11317, 'software': 11318, 'vorschriften': 11319, 'hinterfotzige': 11320, 'ausnahmefaellen': 11321, 'schminken': 11322, 'begrifflichkeiten': 11323, 'gegenkandidat': 11324, 'obamaregierung': 11325, 'chstenzel': 11326, 'antjeschippmann': 11327, 'hansvehlewald': 11328, 'jugendpresse': 11329, 'ilpo16': 11330, 'michaelstuerzi': 11331, 'geringste': 11332, 'beleidigtsein': 11333, 'beleidigungsparagraphen': 11334, 'klarem': 11335, 'deuten': 11336, 'obsiegt': 11337, 'wuetend': 11338, 'millionenfach': 11339, 'missbrauchte': 11340, 'zopf': 11341, 'angepasstes': 11342, 'aufstellt': 11343, 'prozentzahlen': 11344, 'beziffern': 11345, 'idiotenzahlen': 11346, 'predikt': 11347, 'melivyt': 11348, 'zeitweilig': 11349, 'bekloppte': 11350, 'bahnhofs': 11351, 'motiv': 11352, 'attacke': 11353, 'dringendst': 11354, 'schlauere': 11355, 'fahrverbote': 11356, 'leistbare': 11357, 'mobilitaet': 11358, 'schluesselindustrie': 11359, '90ies': 11360, 'outfit': 11361, 'fluechtlingsobergrenze': 11362, 'nigger': 11363, 'jegl': 11364, 'couleur': 11365, 'rektum': 11366, '365': 11367, 'amtmann': 11368, 'l3p3de': 11369, 'hiesigen': 11370, 'durchkommen': 11371, 'sexydollyblue': 11372, 'lechzen': 11373, 'hacker': 11374, 'leithaeckerin': 11375, 'gewaltigen': 11376, 'relativ': 11377, 'ambitionie': 11378, 'klagemauer': 11379, 'domplatte': 11380, 'meetings': 11381, 'feuerwache': 11382, 'buurmann': 11383, 'berichtete': 11384, 'eichene': 11385, 'biester': 11386, 'orientalische': 11387, 'haarentfernung': 11388, 'steueroasen': 11389, 'besteue': 11390, 'weiterleben': 11391, 'denkwuerdiger': 11392, 'gegraben': 11393, 'einsieht': 11394, 'agrippa': 11395, 'hochgradeingeweihter': 11396, 'hochgrad': 11397, 'illuminat': 11398, 'ibokallweit': 11399, 'frontal21': 11400, 'straf': 11401, 'verfassungsschutz': 11402, 'hagel': 11403, 'indirekter': 11404, 'menschenrechtsorganisationen': 11405, 'unsicherer': 11406, 'ihren': 11407, 'einslive1': 11408, 'schabracke': 11409, 'methusalix64': 11410, 'gruseliges': 11411, 'konfuzius': 11412, 'befuellt': 11413, 'denkspo': 11414, 'harry': 11415, 'potter': 11416, 'brille': 11417, 'zitaten': 11418, 'unvergleichbaren': 11419, 'moralisieren': 11420, 'verwahrlosung': 11421, 'ueberfaellen': 11422, 'ent': 11423, 'hobbit9797': 11424, 'sauerstoffzelt': 11425, 'kanackenweiber': 11426, 'gaesten': 11427, 'stuerzten': 11428, 'wahlschafen': 11429, 'hinnerk45': 11430, 'ndrnds': 11431, 'pronomen': 11432, 'vermeiden': 11433, 'geschwaetz': 11434, 'mister': 11435, 'trs': 11436, 'rathen': 11437, 'mullen': 11438, 'kirchhoff': 11439, '98': 11440, 'anerkannt': 11441, 'selbsterhaltung': 11442, 'philipschimkat': 11443, 'sooo': 11444, '750': 11445, 'sonderstatus': 11446, 'forscht': 11447, 'maegen': 11448, 'zaehne': 11449, 'vergess': 11450, 'erhoeht': 11451, 'revolutionaere': 11452, 'eiprogramme': 11453, 'eisenach': 11454, '1869': 11455, 'bez': 11456, 'katholischer': 11457, 'engbuldog': 11458, 'totgeschwiegen': 11459, 'geldknappheit': 11460, 'geschuldet': 11461, 'puderzucker': 11462, 'hintern': 11463, 'oomo': 11464, 'eoo': 11465, 'gigakuss': 11466, 'algorithmus': 11467, 'durchsichtig': 11468, 'heuchlerisch': 11469, 'presserat': 11470, 'mattesberlin': 11471, 'wehrmachts': 11472, 'judenfreundlichen': 11473, 'vernuenftiges': 11474, 'erlernen': 11475, 'doppelboedige': 11476, 'moral': 11477, 'laeden': 11478, 'tweeting67': 11479, 'persoenlichkeiten': 11480, 'twittern': 11481, 'schlaue': 11482, 'gammatikfehlersuche': 11483, 'linkes': 11484, 'abputzen': 11485, 'googlen': 11486, 'warlord': 11487, 'tuersteher': 11488, 'ubr': 11489, 'wka': 11490, 'vergriesgnaddelt': 11491, 'ostpolen': 11492, 'mitgebracht': 11493, 'gepflanzt': 11494, 'waechst': 11495, 'evolution': 11496, 'hervorgebracht': 11497, 'geldeliten': 11498, 'boell': 11499, 'registrieren': 11500, 'ermahnt': 11501, 'abgeordnetenrede': 11502, 'angeregten': 11503, 'intellektuell': 11504, 'armselige': 11505, 'neee': 11506, 'russische': 11507, 'manoever': 11508, 'neuevermittlung': 11509, 'sozialpopulist': 11510, 'bvborussia': 11511, 'saubloede': 11512, 'fussballerfrage': 11513, 'fussballvereine': 11514, 'legionaere': 11515, 'kitzelt': 11516, 'dazwischenreden': 11517, 'maskulinistisch': 11518, 'fladen': 11519, 'vaginamuetze': 11520, 'balletttutu': 11521, 'brandschatzungen': 11522, 'immensen': 11523, 'ducken': 11524, '3mal': 11525, 'ausgegeben': 11526, 'fah': 11527, 'affentanz': 11528, 'krimineller': 11529, 'dummkopf': 11530, 'ruffrydah': 11531, 'weltkrieges': 11532, 'feuchter': 11533, 'vaters': 11534, 'quo': 11535, 'basie': 11536, 'raedern': 11537, 'haett': 11538, 'strassenverkehr': 11539, '462': 11540, 'einige': 11541, 'brachte': 11542, 'anstehenden': 11543, 'maximalabdeckung': 11544, 'buergerlichen': 11545, 'probate': 11546, 'harpyie': 11547, 'verbundenheit': 11548, 'oeffnete': 11549, 'handverlesenen': 11550, 'ausgesuchten': 11551, 'angemeldete': 11552, 'stricke': 11553, 'klebe': 11554, 'damenba': 11555, 'persoenliches': 11556, 'strafverfolgung': 11557, 'zick': 11558, 'whoisingermany0': 11559, 'blieben': 11560, 'unvorstellbar': 11561, 'anzulasten': 11562, 'waehlerstimmen': 11563, 'anrufen': 11564, 'mfk': 11565, 'gegenargument': 11566, 'aufgefueh': 11567, 'inquisition': 11568, 'beschuldigte': 11569, 'idylle': 11570, 'samstag': 11571, 'empfangen': 11572, 'reimers': 11573, '37619': 11574, 'fremder': 11575, 'abzuschotten': 11576, 'schlamassel': 11577, 'jemandem': 11578, 'michael96054009': 11579, 'kinderaugen': 11580, 'gezeichnet': 11581, 'moerdergrube': 11582, 'samad': 11583, 'tibi': 11584, 'hirsi': 11585, 'ates': 11586, 'mansour': 11587, 'verfehlungen': 11588, 'onanieren': 11589, 'warzentusse': 11590, 'kleinwuechsigem': 11591, 'kreuzritter': 11592, 'grube': 11593, 'schlawacken': 11594, 'hoehlen': 11595, 'sternekueche': 11596, 'verpflegt': 11597, 'hassern': 11598, 'ausgang': 11599, 'julyarabinowich': 11600, 'shuttleschiffewir': 11601, 'auszuweisen': 11602, 'rauben': 11603, 'sparern': 11604, 'flippeter1': 11605, 'enttaeuschend': 11606, 'ete': 11607, 'alteingesessenen': 11608, 'leleks': 11609, 'mattfischler': 11610, 'wissenschaftsfreiheit': 11611, 'millet': 11612, 'pflegefrau': 11613, 'gelackmeie': 11614, 'fieser': 11615, 'juristischer': 11616, 'trick': 11617, 'wolflotter': 11618, 'faekal': 11619, 'ungelernten': 11620, 'migrationspatriot': 11621, 'oezdedingens': 11622, 'vasallentreue': 11623, 'barett': 11624, 'gewehr': 11625, 'platt': 11626, 'probie': 11627, 'minus': 11628, 'rueckgang': 11629, 'bw2017': 11630, 'regierungsauftrag': 11631, 'offensichtl': 11632, 'dazulernten': 11633, 'vergassen': 11634, 'schwarzmeerflotte': 11635, 'aeaeaeaehhhhh': 11636, 'vorwuerfe': 11637, 'anteil': 11638, 'harald': 11639, 'enstein': 11640, 'distanzieren': 11641, 'ohnegruenelebtsichsbesser': 11642, 'staerkung': 11643, 'zentralen': 11644, 'ausbeutungs': 11645, 'sachtma': 11646, 'chinesen': 11647, 'keinbockzumkochen': 11648, 'jensmaierafd': 11649, 'illners': 11650, 'vegetarische': 11651, 'fad': 11652, 'verabschieden': 11653, 'fratzen': 11654, 'buendelung': 11655, 'asylverfahren': 11656, 'entscheidungs': 11657, 'rueckfuehrungszentren': 11658, 'beschleunigen': 11659, 'kosequenz': 11660, 'folgte': 11661, 'entstand': 11662, 'mischen': 11663, 'darstellungen': 11664, 'innenpolitik': 11665, 'norwegen': 11666, 'wahlberechtigten': 11667, 'norwegischen': 11668, '1972': 11669, 'volksabstimmungen': 11670, 'daebritz': 11671, 'bachmann': 11672, 'applaudieren': 11673, 'diffamierungen': 11674, 'jallohs': 11675, 'synagogen': 11676, 'angezuendet': 11677, 'igm': 11678, 'arschkriecherischen': 11679, 'betriebversammlungen': 11680, 'angekotzt': 11681, 'dorn': 11682, 'arbeitnehmerschaft': 11683, 'geduld': 11684, 'vernunft': 11685, 'unmoeglichkeit': 11686, 'dach': 11687, 'netanjahu': 11688, 'instinktlosigkeit': 11689, 'voelliger': 11690, 'abgeschobenenposten': 11691, 'bekleidet': 11692, 'antijuedischer': 11693, 'palaestinaapologetik': 11694, 'islamverherrlichung': 11695, 'genderscheisse': 11696, 'notwendigen': 11697, 'veraenderungsbereitschaft': 11698, 'politikerpflichten': 11699, 'begangenen': 11700, 'deichgraph': 11701, 'totalitarian': 11702, 'zionistischen': 11703, 'gruppen': 11704, 'geschaffen': 11705, 'billigend': 11706, 'geschroepft': 11707, 'elite': 11708, 'kaiser': 11709, 'penk': 11710, 'piratenpa': 11711, 'obdachloseneinrichtungen': 11712, 'obdachlosen': 11713, 'abgeschotteten': 11714, 'kasernen': 11715, 'randgebieten': 11716, 'rumsucher': 11717, 'absoluten': 11718, 'soooooooo': 11719, 'hing': 11720, 'kuechenschrank': 11721, 'feedback': 11722, 'zweitstimmen': 11723, 'funktionaerscorps': 11724, 'hinnimmt': 11725, 'eggers': 11726, 'ungarische': 11727, 'oberlehrer': 11728, 'sloechtefeld': 11729, 'mitteleuropaeers': 11730, 'zehnmal': 11731, 'missverstaendnissen': 11732, 'sperrung': 11733, 'staatsmeinung': 11734, 'schlaege': 11735, 'atheist': 11736, '2699': 11737, 'atheistisch': 11738, 'gehilfen': 11739, 'ticken': 11740, 'rsabine900': 11741, 'dern': 11742, 'dummgelaber': 11743, 'jedentag': 11744, 'fuendig': 11745, 'saubloedes': 11746, 'riecht': 11747, 'theorie': 11748, 'kluegsten': 11749, 'flugreisen': 11750, 'schutze': 11751, 'weltklimas': 11752, 'mer': 11753, 'ichbinkalle7': 11754, 'genderkrise': 11755, 'entscheidender': 11756, 'ziegenhi': 11757, 'charakterkoepfen': 11758, 'heraushaengen': 11759, 'cnnblackmail': 11760, 'todbringenden': 11761, 'kometen': 11762, 'enthauptet': 11763, 'kriegspa': 11764, 'billiger': 11765, 'begangen': 11766, 'europaeischer': 11767, 'mossul': 11768, 'offensive': 11769, 'hilfstruppen': 11770, 'tagesordnung': 11771, 'exempel': 11772, 'statuie': 11773, 'deutschlandtrend': 11774, '1939': 11775, 'gearbeitet': 11776, 'buheedgar': 11777, 'edgar': 11778, 'sexualisie': 11779, 'endviolenceagainstwomen': 11780, 'corvera': 11781, 'judenfurz': 11782, 'dreckiger': 11783, 'salvatore': 11784, 'ruecksichtslosen': 11785, 'fuettere': 11786, 'mehmet': 11787, 'e42': 11788, 'igmetall': 11789, 'zivilisten': 11790, 'feue': 11791, 'wahl2017': 11792, 'olle': 11793, 'kamellen': 11794, 'kita': 11795, 'besprochen': 11796, 'lucky': 11797, 'arithmetik': 11798, 'waermen': 11799, 'broder': 11800, 'jordan': 11801, 'golanhoehen': 11802, 'friedenstaube': 11803, 'aussenpolitisch': 11804, 'blonden': 11805, 'ueberlaesst': 11806, 'erzaehle': 11807, 'lokalblaettern': 11808, 'pastor': 11809, 'agitprop': 11810, 'sekretaerin': 11811, 'maulhalter': 11812, 'scheine': 11813, 'gewechselt': 11814, 'wechsel': 11815, 'modelle': 11816, 'saudummer': 11817, 'versauen': 11818, 'karstensailer': 11819, 'hoeflich': 11820, 'tauschen': 11821, 'dn': 11822, 'spektakulaer': 11823, 'bengel': 11824, 'sandrasigel': 11825, 'arschloescher': 11826, 'biotop': 11827, 'befreiung': 11828, 'weiteres': 11829, 'posaunt': 11830, 'zusaetzlich': 11831, 'dibanezgut': 11832, 'ewtnde': 11833, 'anlicken': 11834, 'grandiose': 11835, 'derseidenberg': 11836, 'geir': 11837, 'jodeln': 11838, 'quiz': 11839, 'killers': 11840, 'erraet': 11841, 'entmannen': 11842, 'glasfaser': 11843, 'sophiakaboom': 11844, 'cc': 11845, 'kilometer': 11846, 'verkehrsunfall': 11847, 'islamisie': 11848, 'atrioten': 11849, 'uropas': 11850, 'egen': 11851, 'slamisierung': 11852, 'bendlandes': 11853, 'libyen': 11854, 'insgemein': 11855, 'ziehet': 11856, 'freudensonn': 11857, 'freud': 11858, 'wonn': 11859, 'troester': 11860, 'spat': 11861, 'demonstrationsrecht': 11862, 'siche': 11863, 'versg': 11864, 'genannten': 11865, 'emrk': 11866, 'versammlungsrecht': 11867, 'schuetzenlliesl': 11868, 'verdaechtig': 11869, 'ficken': 11870, 'schandmaul': 11871, 'fotzen': 11872, 'minusversion': 11873, 'beisszange': 11874, 'anfassen': 11875, 'rabid': 11876, 'glow': 11877, 'sander': 11878, 'sommerpraktika': 11879, 'triff': 11880, 'snarkyschnauzer': 11881, 'industrie': 11882, 'intus': 11883, 'taugenichtse': 11884, 'studierenden': 11885, 'brauchbares': 11886, 'leberzirrhosen': 11887, 'endstadium': 11888, 'gestohlenen': 11889, 'rentenversicherung': 11890, 'zurueckzahlen': 11891, 'lothar': 11892, 'misere': 11893, 'altmeyer': 11894, 'verra': 11895, 'menschmerz': 11896, 'lgg': 11897, 'gestaenke': 11898, 'pickelplantagen': 11899, 'hervorbringen': 11900, 'wahlabend': 11901, 'hochrechnungen': 11902, 'sisi': 11903, '93': 11904, 'hamdeen': 11905, 'sabahi': 11906, 'ungueltige': 11907, 'duennpfiff': 11908, 'propagandaschrott': 11909, 'beantragen': 11910, 'auslieferung': 11911, 'drkissler': 11912, 'schweizerdeutsch': 11913, 'frankie': 11914, 'itelt': 11915, 'sonstwohin': 11916, 'leif': 11917, 'holm': 11918, 'anitawinglee': 11919, 'abgepresst': 11920, 'anonymer': 11921, 'nutzer': 11922, 'schuetzengraeben': 11923, 'angepasst': 11924, 'transparenteren': 11925, 'steuerregeln': 11926, 'steuergerechtigkeit': 11927, 'paradisepapers': 11928, 'gleicht': 11929, 'trailchem': 11930, '1948': 11931, 'genuesslich': 11932, '68': 11933, 'endete': 11934, 'wutbuergerin': 11935, 'besen': 11936, 'decke': 11937, 'zehenspitzen': 11938, 'schleichen': 11939, 'waschmaschine': 11940, 'zentimeter': 11941, 'gewande': 11942, 'denunziantentum': 11943, 'vieler': 11944, 'ueberwachungsstaat': 11945, 'totalen': 11946, 'ueberwachungskrieg': 11947, 'vorwaende': 11948, 'messwe': 11949, 'stan': 11950, 'laurel': 11951, 'hardy': 11952, 'kuspe': 11953, 'desodogg': 11954, 'operie': 11955, 'spezialisie': 11956, 'ibnhotdog': 11957, 'familiennachzugs': 11958, 'christlichen': 11959, 'weihnachtsfest': 11960, 'nordischglaeubigen': 11961, 'julfest': 11962, 'index': 11963, 'hetzblaetter': 11964, 'freimaurerei': 11965, 'geheimdienstkluengel': 11966, 'rituale': 11967, 'ausgangstweet': 11968, 'anwesend': 11969, 'schlechteste': 11970, 'abgekratzt': 11971, 'wutlosen': 11972, 'zombies': 11973, 'dressie': 11974, 'habs': 11975, 'abwrackpraemie': 11976, 'fahrzeugs': 11977, 'dreckschleudern': 11978, 'verschrottet': 11979, 'ickt': 11980, 'begraebnis': 11981, 'rache': 11982, 'schwoe': 11983, 'eingesper': 11984, 'iv': 11985, 'stoecken': 11986, 'einzel': 11987, 'haaren': 11988, 'herbeigezogen': 11989, 'friedens': 11990, 'please': 11991, 'lost': 11992, 'without': 11993, 'fathers': 11994, 'uscht': 11995, 'copenhagen': 11996, 'daenischen': 11997, 'goetterdaemmerung': 11998, 'staatsgefaehrdende': 11999, 'netzwerk': 12000, 'zaehneklappern': 12001, 'episch': 12002, 'tufelixaustria': 12003, 'mexikos': 12004, 'guatemala': 12005, 'ausblick': 12006, 'worauf': 12007, 'feiger': 12008, 'intergrationsministerium': 12009, 'faulenzerposten': 12010, 'schwimmbaeder': 12011, 'stefanmeierfkw': 12012, 'eihymne': 12013, 'zahlreiche': 12014, 'weltanschauung': 12015, 'mitfahren': 12016, 'syrische': 12017, 'sozialtourist': 12018, 'haftplichtversicherung': 12019, 'hinbiegen': 12020, 'volkeswille': 12021, 'kriegseinsaetze': 12022, 'steigende': 12023, 'objektive': 12024, 'bilbuha': 12025, 'raserohneinnen': 12026, 'busch': 12027, 'seehund': 12028, 'eisbaer': 12029, 'eisbaeren': 12030, 'bildungssystem': 12031, 'zuechtet': 12032, 'spassgesellschaft': 12033, 'hausfrauen': 12034, 'abwehrraketen': 12035, 'kimjongun': 12036, 'rakete': 12037, 'abgeschossen': 12038, 'weirdbielefeld': 12039, 'jbotanica': 12040, 'schneit': 12041, 'brrrrrrrr': 12042, 'buran63': 12043, 'instapaper': 12044, 'polizeibekannter': 12045, 'suechtiger': 12046, 'suv': 12047, 'passanten': 12048, 'schwerst': 12049, 'verletzte': 12050, 'getrunken': 12051, 'abchecken': 12052, 'internationalsozialistischen': 12053, 'fuenkchen': 12054, 'physische': 12055, 'beuteland': 12056, 'preist': 12057, 'schmachtvollen': 12058, 'hymnen': 12059, 'konsulaten': 12060, 'phbvingtsun': 12061, 'kaputter': 12062, 'sekunden': 12063, '1208gul': 12064, 'isso': 12065, 'goldbatzen': 12066, 'thie': 12067, 'stereotypen': 12068, 'ingolstadt': 12069, 'drohenden': 12070, 'passts': 12071, 'rassenschande': 12072, 'gutachter': 12073, 'zazikilong': 12074, 'normaler': 12075, 'block': 12076, 'korrekten': 12077, 'safespace': 12078, 'ernstfall': 12079, 'hosen': 12080, 'dduric': 12081, 'kompromissbereitschaft': 12082, 'optimismus': 12083, 'zuschlagen': 12084, 'fahndungsfotos': 12085, 'john': 12086, 'doe': 12087, 'antrengungen': 12088, 'uebermotivie': 12089, 'moerderischen': 12090, 'zufrieden': 12091, 'winkt': 12092, '20172126': 12093, 'dschungelcamp': 12094, 'maybrit': 12095, 'polittusse': 12096, 'zuchtstuten': 12097, 'nichtraucher': 12098, 'steuereinnahmen': 12099, 'tabak': 12100, 'gigantisch': 12101, 'mwst': 12102, 'verlust': 12103, 'auszugleichen': 12104, 'filmavorfuehrung': 12105, 'markusgroiss': 12106, 'massgeblich': 12107, 'bewah': 12108, 'haftpflichtversicherung': 12109, 'schulzundboemi': 12110, 'friedensprojekt': 12111, 'befragen': 12112, 'schafdas': 12113, 'dornkobold': 12114, 'vorgespielt': 12115, 'sonderfonds': 12116, 'lgbti': 12117, 'leitmedium': 12118, 'sandsaecke': 12119, 'gefuellt': 12120, 'latente': 12121, 'versuchung': 12122, 'akademischen': 12123, 'umfeld': 12124, 'interpretative': 12125, 'schemata': 12126, 'mysteriums': 12127, 'berauben': 12128, 'kld': 12129, 'feindpresse': 12130, 'prinzipiell': 12131, 'wohnraum': 12132, 'schwerste': 12133, 'vorkommt': 12134, 'wohneigentum': 12135, 'massstaebe': 12136, 'unabhaengigkeitswahl': 12137, 'katalonen': 12138, 'sexy': 12139, 'linksversiffte': 12140, 'radioaktive': 12141, 'belastung': 12142, 'untersuchungsgegenstand': 12143, 'forschungsprojekts': 12144, 'southern': 12145, 'urals': 12146, 'radiation': 12147, 'risk': 12148, 'research': 12149, 'soul': 12150, 'koordination': 12151, 'helmholtz': 12152, 'helmholtzmucen': 12153, 'freisetzung': 12154, 'beobachtern': 12155, 'terrorhorden': 12156, 'pummelchen': 12157, 'detaillie': 12158, 'dehnt': 12159, 'aehs': 12160, 'verdeckt': 12161, 'tragische': 12162, 'figur': 12163, 'ueberfuellt': 12164, 'gerhard61': 12165, 'pressekontakt': 12166, 'marcus': 12167, 'sachsenanhalt': 12168, 'mitmachen': 12169, 'letzt': 12170, 'angebote': 12171, 'gruetze': 12172, 'foerde': 12173, 'rauf': 12174, 'vikariat': 12175, 'kandidat': 12176, 'kandidatin': 12177, 'staendige': 12178, 'geistlichkeit': 12179, 'carlo': 12180, 'einfuehrungsrede': 12181, 'originaer': 12182, 'vollverfassung': 12183, 'beschliessen': 12184, 'schmierfratzen': 12185, 'wagen': 12186, 'hallolg': 12187, 'tweeten': 12188, 'silbe': 12189, 'entsprach': 12190, 'nachbarlaendern': 12191, 'aufgeteilt': 12192, 'ruestungsausgaben': 12193, '66': 12194, 'rick': 12195, 'hoffhoffmann': 12196, 'joernlinne': 12197, 'bergepanzer': 12198, 'verhandlungstisch': 12199, 'nahm': 12200, 'umarmte': 12201, 'armseliges': 12202, 'anzupissen': 12203, 'neuerdings': 12204, 'sabatinajames': 12205, 'kriegsfluechtlinge': 12206, 'sklavenfluechtlinge': 12207, 'umgetauft': 12208, 'jetzterstrecht': 12209, 'mtl': 12210, 'praemie': 12211, 'schwulen': 12212, 'forcie': 12213, 'eigentor': 12214, 'reagan': 12215, 'after': 12216, 'schiss': 12217, 'beendete': 12218, 'provokationen': 12219, 'korean': 12220, 'passagierjets': 12221, 'dresdner': 12222, 'terrorkuenstler': 12223, 'dresdener': 12224, 'beigeschmack': 12225, 'zuwider': 12226, 'nuckeln': 12227, 'dagobe': 12228, 'badnerlied': 12229, 'ulrikedemmer': 12230, 'vorsaetze': 12231, 'raechen': 12232, 'boxen': 12233, 'bezieher': 12234, 'knur': 12235, 'schaeferhund': 12236, 'pfaelzerin96': 12237, 'guenstig': 12238, 'urlaubszeit': 12239, 'hostels': 12240, 'auslastung': 12241, 'jenseits': 12242, 'verplempe': 12243, 'gunsten': 12244, 'aufkauft': 12245, 'papiere': 12246, 'staerkt': 12247, 'prophezeie': 12248, 'irak': 12249, 'vietnam': 12250, 'legaler': 12251, 'check': 12252, 'memmen': 12253, 'kriegsfreien': 12254, 'sonstige': 12255, 'extreme': 12256, 'reconquista979': 12257, 'verwirrungen': 12258, 'fanclub': 12259, 'entziffern': 12260, 'rueckerlangung': 12261, 'merkelstreichelt': 12262, 'streicheln': 12263, 'entemotionalisieren': 12264, 'donquijote324': 12265, 'plos': 12266, 'silvia': 12267, 'erpressbar': 12268, 'fachktaefte': 12269, 'beschmieren': 12270, 'uiii': 12271, 'gewitter': 12272, 'rausposaunt': 12273, 'plasticfinger': 12274, 'esskastanien': 12275, 'gekochte': 12276, 'pfanne': 12277, 'braten': 12278, 'mixer': 12279, 'getrockneten': 12280, 'steinpilzen': 12281, 'vondobrowolski': 12282, 'kommissarin': 12283, 'prostituie': 12284, 'maulaufreisser': 12285, 'junger': 12286, 'gedrueckt': 12287, 'steuerfluechtling': 12288, 'gegangen': 12289, 'massiv': 12290, 'hinterzogen': 12291, 'willkuerherrschaft': 12292, 'geiselnahme': 12293, 'unbescholtener': 12294, 'bischofs': 12295, 'angestossenen': 12296, 'gespraechsprozesses': 12297, 'abzuwa': 12298, 'komplizie': 12299, 'schoeneres': 12300, 'erden': 12301, 'panzergrenadier': 12302, 'attentaten': 12303, 'vegas': 12304, 'aktien': 12305, 'hotelkette': 12306, 'pleite': 12307, 'inside': 12308, 'geschissen': 12309, 'widerstandsrecht': 12310, 'gebrauch': 12311, 'abhilfe': 12312, 'statment': 12313, 'representanten': 12314, 'mitten': 12315, 'belagerung': 12316, 'wiens': 12317, 'getilgt': 12318, 'gewaltbereite': 12319, 'krass': 12320, 'ischtarisik': 12321, 'rueckfah': 12322, 'aufgestanden': 12323, 'antaenzer': 12324, 'schranken': 12325, 'verwiesen': 12326, 'benehmen': 12327, 'fahrgaeste': 12328, 'drangsalie': 12329, 'haltestelle': 12330, 'rausgeworfen': 12331, 'nachhause': 12332, 'sozialtroege': 12333, 'leer': 12334, 'uffff': 12335, 'kelch': 12336, 'vorbeigezogen': 12337, 'sweiermann': 12338, 'flughaefen': 12339, 'eizentralen': 12340, 'besetzen': 12341, 'bananenjooe': 12342, 'andreas62582094': 12343, 'gesetzgebung': 12344, 'ausschnitten': 12345, 'harammett': 12346, 'zwischenergebnisse': 12347, 'groesstenteils': 12348, 'regierungskonstellationen': 12349, 'schwarzgelb': 12350, 'ampel': 12351, 'rnfde': 12352, 'feed': 12353, 'dingfest': 12354, 'draufgeschlagen': 12355, 'struktur': 12356, 'militaerdienst': 12357, 'freigekauft': 12358, 'akp': 12359, 'vds': 12360, 'vaterland': 12361, 'presidentruvi': 12362, 'rivlin': 12363, 'munich1972': 12364, 'fals': 12365, 'flag': 12366, 'vv': 12367, 'krisztina': 12368, 'freimaurerlogen': 12369, 'eingefaedelt': 12370, 'keim': 12371, 'erstickt': 12372, 'gefuerchtet': 12373, 'sensibilise': 12374, 'ausdemnichts': 12375, 'inthefade': 12376, 'entstammen': 12377, 'erklaer': 12378, 'saubere': 12379, 'oberlehrerschnabel': 12380, 'schlachtbank': 12381, 'carstenp': 12382, 'kevin': 12383, 'keegan': 12384, 'nurderhsv': 12385, 'domau': 12386, 'einbezieht': 12387, 'achim7871': 12388, 'verstaendliche': 12389, 'nachvollziehbare': 12390, 'sesselschnarcher': 12391, 'abzuservieren': 12392, 'vormundschaften': 12393, 'unbegleitete': 12394, 'breite': 12395, 'sensibilisierung': 12396, 'rudolph': 12397, 'destabilisierung': 12398, 'geplanten': 12399, 'anordnen': 12400, 'gerisr': 12401, 'eurobasket2017': 12402, 'bestandteil': 12403, 'unverzeihlich': 12404, 'moslemdreck': 12405, 'iserlohn': 12406, '90ern': 12407, 'doenerbudenbesitzer': 12408, 'knoblauchsauce': 12409, 'doener': 12410, 'tvsinnvoll': 12411, 'heuchelt': 12412, 'erschuetterung': 12413, 'bae': 12414, 'durchringen': 12415, 'disziplinieren': 12416, 'dudeh96': 12417, 'handelsrechtlichen': 12418, 'umkehrung': 12419, 'holding': 12420, 'raglich': 12421, 'geknebelt': 12422, '2099': 12423, 'eiensystem': 12424, 'facto': 12425, 'bewohnern': 12426, 'illusion': 12427, 'vorzugaukeln': 12428, 'hirnriss': 12429, 'verschwendet': 12430, 'unterbelichteten': 12431, 'ausscheiden': 12432, 'neidhammel': 12433, 'zeitenwende': 12434, 'landkaufhalina': 12435, 'petersweden7': 12436, 'snordics': 12437, 'ulli': 12438, 'altgold': 12439, 'allerbesten': 12440, 'konstantin': 12441, 'notz': 12442, 'bundniss': 12443, 'sessel': 12444, 'verschwende': 12445, 'wolfgrosny': 12446, 'janjaeschke': 12447, 'christoph0109': 12448, 'bekifft': 12449, 'methsuechtig': 12450, 'linkslastig': 12451, 'uschen': 12452, 'buergermeisters': 12453, 'buchveroeffentlichung': 12454, 'aufgefunden': 12455, 'islamlobbyvereine': 12456, 'fury': 12457, 'mm': 12458, 'revolver': 12459, '9mm': 12460, 'aufschreiben': 12461, 'gleichung': 12462, 'nackt': 12463, 'realtalk': 12464, 'ausreisepflichtige': 12465, 'denkender': 12466, 'maennlich': 12467, 'weiblich': 12468, 'tunesiens': 12469, 'fluechtlingsursachenbekaepmfung': 12470, 'ghetthos': 12471, 'mitfinazie': 12472, 'leitplanken': 12473, 'stabiler': 12474, 'erdbeerkuchen': 12475, 'unkultur': 12476, 'meldespacken': 12477, 'enthaelt': 12478, 'schlussfolgerung': 12479, 'suggerie': 12480, 'andreassteier': 12481, 'direktmandat': 12482, 'friedadiezweite': 12483, 'gedankenrausch1': 12484, 'beseitigen': 12485, 'baue': 12486, 'fraulious': 12487, 'kandidatur': 12488, 'landtagsfraktion': 12489, 'besuchter': 12490, 'soeldne': 12491, 'ngo': 12492, 'geworfen': 12493, 'traumwelt': 12494, 'ausloeschen': 12495, 'kontakt': 12496, 'fhon': 12497, 'absichtliche': 12498, 'unfaire': 12499, 'lieblingssatz': 12500, 'anzuschauen': 12501, 'randalierende': 12502, 'antifschisten': 12503, 'zwar': 12504, 'beispielhaft': 12505, 'ceo': 12506, 'zurueckgetreten': 12507, 'sinnvollen': 12508, 'mindestinvestitionsquote': 12509, 'halbjude': 12510, 'corradobln': 12511, 'stefanstreng': 12512, 'joshuastrack': 12513, 'stefan': 12514, 'ebensolchen': 12515, 'fokus': 12516, 'fakebild': 12517, 'fluechtlingsangst': 12518, 'falschaussagen': 12519, 'campus': 12520, 'bockenheim': 12521, 'studiengruppen': 12522, 'ingathomas': 12523, 'hurrikane': 12524, 'enkelkinder': 12525, 'egorepair': 12526, 'erinnerst': 12527, 'rosenheimerplatz': 12528, 'messerattacke': 12529, 'gefaerbt': 12530, 'triumphie': 12531, 'vergessenheit': 12532, 'migrantenflut': 12533, 'gefaehrden': 12534, 'wass': 12535, 'flach': 12536, 'springerpunkt': 12537, 'barret': 12538, 'm28': 12539, '1935': 12540, 'anzugreifen': 12541, 'einhaeltst': 12542, 'hoeness': 12543, 'sympathisch': 12544, 'lastminute': 12545, 'einzufangen': 12546, 'jul1acarina': 12547, 'verklagen': 12548, 'amtierenden': 12549, 'guggs67': 12550, 'altehrwuerdig': 12551, 'bgb': 12552, 'panemetc62': 12553, 'gewehre': 12554, 'ohmann': 12555, '11jahre': 12556, 'liebbaerchen592': 12557, 'schweigens': 12558, 'baerchen': 12559, 'pittivomdorf': 12560, 'gekonnt': 12561, 'kleides': 12562, 'knallen': 12563, 'wanderwarze': 12564, 'modegag': 12565, 'onlinebosse': 12566, 'jagd': 12567, 'bauchnabelzwerg': 12568, 'sozen': 12569, 'mittelalterliche': 12570, 'feudalherren': 12571, 'kassen': 12572, 'pandi': 12573, 'oesterreichischem': 12574, 'beneiden': 12575, 'wiesen': 12576, 'waelder': 12577, 'laural': 12578, 'esco': 12579, 'fantasie': 12580, 'eimitglieder': 12581, 'jf': 12582, 'hoffgaard': 12583, 'direkte': 12584, 'vergehens': 12585, 'gefaehrder': 12586, 'negroiden': 12587, 'goldstueck': 12588, 'womoeglich': 12589, 'wuerstchenbude': 12590, 'knapp': 12591, 'fueer': 12592, 'massives': 12593, 'linksextremismus': 12594, 'droeder72': 12595, 'gegennetzdg': 12596, 'djvde': 12597, '87er': 12598, 'umd': 12599, 'joergdittus': 12600, 'volkslieder': 12601, 'gedichtete': 12602, 'motivationslieder': 12603, 'auftragswerke': 12604, 'jesses': 12605, 'fettes': 12606, 'vollgefressenes': 12607, 'selbstverliebtes': 12608, 'matalxis': 12609, 'kontrollieren': 12610, 'unrechtmaessigen': 12611, 'einreiseversuch': 12612, 'waffengewalt': 12613, 'ernsten': 12614, 'ereignete': 12615, 'evakuierung': 12616, 'angeordnet': 12617, 'wearehh': 12618, 'impressionen': 12619, 'shops': 12620, 'kollektion': 12621, 'hirichtung': 12622, 'irakische': 12623, 'studenten': 12624, 'luftwaffen': 12625, 'akademie': 12626, 'tikrit': 12627, 'kanakisch': 12628, 'seewinde': 12629, 'huepft': 12630, 'schmuddelwetter': 12631, 'fruehstueck': 12632, 'liefe': 12633, 'gruendungs': 12634, 'somit': 12635, 'lichtlein': 12636, 'mafiabande': 12637, 'alimente': 12638, 'superlogen': 12639, 'entschluss': 12640, 'grafik': 12641, 'praktika': 12642, 'kunsthochschule': 12643, 'botschaften': 12644, 'zusatz': 12645, 'einschraenkung': 12646, 'allgem': 12647, 'eufelung': 12648, 'nirgendwo': 12649, 'mitfinanzie': 12650, 'pfosten': 12651, 'eingeschaltet': 12652, 'blank': 12653, 'klugscheisser': 12654, 'krankenhaeuser': 12655, 'graesslich': 12656, '05': 12657, 'gefechtsalarm': 12658, 'fieses': 12659, 'tierquaeler': 12660, 'kittel': 12661, 'ausnutzen': 12662, 'rauhrackl': 12663, 'wolkenkuckucksheim': 12664, 'diffamieren': 12665, 'what': 12666, 'gluehbirnen': 12667, 'genderkacke': 12668, 'zahlenspiel': 12669, 'spuelverfahren': 12670, 'aufhuebschen': 12671, 'rifft': 12672, 'kishon': 12673, 'dramolnr3': 12674, 'peterpa34083139': 12675, 'vorzugsweise': 12676, 'hypothese': 12677, 'agressive': 12678, 'grenzueberschreiter': 12679, 'egemeinschaft': 12680, 'blossen': 12681, 'objekt': 12682, 'algorithmen': 12683, 'digitalesleben': 12684, 'tiefe': 12685, 'kolonialzeit': 12686, 'wef18': 12687, 'headline': 12688, 'angewide': 12689, 'umerzogen': 12690, 'sonstwas': 12691, 'klausmohr1': 12692, 'abstimmungen': 12693, 'festgeschrieben': 12694, 'horde': 12695, 'mfs': 12696, 'uschi': 12697, 'wesen': 12698, 'neigungen': 12699, 'miesen': 12700, 'twoff': 12701, 'stalker': 12702, 'einschreiten': 12703, 'grundsatz': 12704, 'hinwegsetzt': 12705, 'kriegsminister': 12706, 'wahrsten': 12707, 'ungeklae': 12708, 'handelsware': 12709, 'handelsrecht': 12710, 'vordenker': 12711, 'waffengesetz': 12712, 'messergesetz': 12713, 'ere': 12714, 'schamlippen': 12715, 'klitoris': 12716, 'betaeubung': 12717, 'eichel': 12718, 'gesaebelt': 12719, 'paulsgurke': 12720, 'mars': 12721, 'zwecks': 12722, 'terraforming': 12723, 'bezogen': 12724, 'doppelstaatsbuergern': 12725, 'beschwichtigt': 12726, 'moralische': 12727, 'zeigefinger': 12728, 'verdeckte': 12729, 'kikagate': 12730, 'diaa': 12731, 'mannschaften': 12732, 'kaempferische': 12733, 'auseinandersetzungen': 12734, 'wohnsitz': 12735, 'wohnsitzen': 12736, 'beziehungsweise': 12737, 'durchziehen': 12738, 'monikafries': 12739, 'domradio': 12740, 'bat': 12741, 'alleinerziehend': 12742, 'kleinkind': 12743, 'schreibaby': 12744, 'litten': 12745, 'kirchenverein': 12746, 'aushaenge': 12747, 'kopftuchfrau': 12748, 'luxus': 12749, 'restaurant': 12750, 'lan': 12751, 'mac': 12752, 'wegducken': 12753, 'geliehen': 12754, 'naise': 12755, 'pal': 12756, 'angestachelt': 12757, 'luke': 12758, 'versehen': 12759, 'merci': 12760, 'muchas': 12761, 'grazias': 12762, 'thank': 12763, 'dobre': 12764, 'spasiva': 12765, 'innenstadt': 12766, 'besenkammer': 12767, 'statue': 12768, 'fange': 12769, 'rumzulamentieren': 12770, 'praesentieren': 12771, 'makemyday1965': 12772, 'niedrigsten': 12773, 'auffaellige': 12774, 'denunziation': 12775, 'krawalle': 12776, 'unbuerokratisch': 12777, 'g20protest': 12778, 'gezuechtet': 12779, 'gesinnung': 12780, 'cnn': 12781, 'linksgestoe': 12782, 'psychischen': 12783, 'vau': 12784, 'judenhassende': 12785, 'heulst': 12786, 'liedtext': 12787, 'landbauer': 12788, 'negierungen': 12789, 'bitteschoen': 12790, 'konversationen': 12791, 'beschaeftigungstherapie': 12792, 'gemieden': 12793, 'meier': 12794, 'wirr': 12795, 'foerderbescheiden': 12796, 'stimmenfang': 12797, 'unsinniges': 12798, 'feuerwehrhaus': 12799, 'natanji': 12800, 'verlinken': 12801, 'offiziellen': 12802, 'facebookseite': 12803, 'abzug': 12804, 'denkzettel': 12805, 'wochenlanges': 12806, 'zaudern': 12807, 'zoegern': 12808, 'csup17': 12809, 'gruenenphilosophie': 12810, 'tugend': 12811, 'ordens': 12812, 'maxramezani': 12813, 'hannamraz': 12814, 'tierschuetzer': 12815, 'schaechtungen': 12816, 'sundog412': 12817, 'sprechenden': 12818, 'schlange': 12819, 'dampf': 12820, 'fluegellahm': 12821, 'faschistische': 12822, 'schmetterlinge': 12823, 'vogt': 12824, 'jtrittin': 12825, 'oezdemirs': 12826, 'oops': 12827, 'notschiffe': 12828, 'herumgesprochen': 12829, 'vermeidung': 12830, 'kniefall': 12831, 'sondierungspa': 12832, 'gestaltung': 12833, 'praesent': 12834, 'ausgewande': 12835, 'dekadenz': 12836, 'bergpanorama': 12837, 'hochinteressant': 12838, 'schauspielern': 12839, 'grassie': 12840, 'virus': 12841, 'zeitgeistlichen': 12842, 'beschaeftigte': 12843, 'evangel': 12844, 'kathol': 12845, 'festst': 12846, 'staatsfernsehen': 12847, 'untereinander': 12848, 'einzeln': 12849, 'maaslos': 12850, 'synonym': 12851, 'wahlplakten': 12852, 'frnrw': 12853, 'volksverdummung': 12854, 'nic': 12855, 'einbezahlen': 12856, 'sarah': 12857, 'mithelfen': 12858, 'verlockend': 12859, 'besatzer': 12860, 'fluechten': 12861, 'unfrieden': 12862, 'stiften': 12863, 'eilmeldung': 12864, 'anzeichen': 12865, 'olivenzweig': 12866, 'abbrechen': 12867, 'swissairliner': 12868, 'gillt': 12869, 'politverbrecher': 12870, 'wohow': 12871, 'wendelsteinkirche': 12872, 'renovie': 12873, 'gewoehnt': 12874, 'auszusitzen': 12875, 'bodenhaftung': 12876, 'privateigentum': 12877, 'verkommene': 12878, 'abig': 12879, 'enta': 12880, 'satanas': 12881, 'umprogammie': 12882, 'bigotterie': 12883, 'antiisraelischen': 12884, 'kampagnen': 12885, 'verdeutlichen': 12886, 'legitimitaet': 12887, 'akzeptie': 12888, 'vielzitie': 12889, 'ungueltig': 12890, 'anordnung': 12891, 'festlegte': 12892, 'anstelle': 12893, 'blabla': 12894, 'hegt': 12895, 'gelangt': 12896, 'verboh': 12897, 'einstufung': 12898, 'algerien': 12899, 'herkunftsstaaten': 12900, 'ibdeutschland': 12901, 'wohnwagen': 12902, 'umstaendlicher': 12903, 'fanatischen': 12904, 'ueberwachen': 12905, 'eugen': 12906, 'ostermeier': 12907, '1885': 12908, 'bronchipret': 12909, 'erlers': 12910, 'reiseempfehlungen': 12911, 'kuerekdanyal': 12912, 'selbsthass': 12913, 'ferner': 12914, 'duell': 12915, 'unterstellt': 12916, 'wahlperiode': 12917, 'wahlprogramme': 12918, 'personellen': 12919, 'konstellation': 12920, 'herzinfarkt': 12921, 'diejenige': 12922, 'ausgewogene': 12923, 'eselstreiber': 12924, 'ziegenmelker': 12925, 'kaputtgemacht': 12926, 'krankenkassen': 12927, 'zahlten': 12928, 'landaudaniel': 12929, 'schlachtung': 12930, 'aufrufen': 12931, 'beliebte': 12932, 'detlefalsbach1': 12933, 'derzweifelnde': 12934, 'angeborene': 12935, 'kopftuches': 12936, 'hodox': 12937, 'ehrenmord': 12938, 'niksput': 12939, 'daniel': 12940, 'hrncir': 12941, 'rechtliche': 12942, 'belehrungen': 12943, 'abgewaehlte': 12944, 'trat': 12945, 'staatsangehoerigkeitsrecht': 12946, 'jedem': 12947, 'buergerrechte': 12948, 'folglich': 12949, 'volljaehrig': 12950, 'wahlberechtigt': 12951, 'unkenntlichkeit': 12952, 'medienve': 12953, 'ehrenamtlich': 12954, 'zunehmende': 12955, 'herabsetzung': 12956, 'hemmschwelle': 12957, 'li': 12958, 'naehergebracht': 12959, 'arbeitsbeschaffungsmassnahme': 12960, 'ausgediente': 12961, 'taugenichts': 12962, 'belohnungen': 12963, 'kassiere': 12964, 'putzfrau': 12965, 'zeichnen': 12966, 'verkommenen': 12967, 'korans': 12968, 'frauenfeindlich': 12969, 'phikuro': 12970, 'wahlbeeinflussung': 12971, 'scheissland': 12972, 'andra': 12973, 'moi': 12974, 'ennepe': 12975, 'mousa': 12976, 'griechischen': 12977, 'haeufiger': 12978, 'gaaanz': 12979, 'sinkender': 12980, 'fluechtlingszahlen': 12981, 'pseudokanzlerin': 12982, 'lueckenmedien': 12983, 'oberdummzicke': 12984, 'sheitan': 12985, 'ungebildeten': 12986, 'phrasendreschern': 12987, 'populist': 12988, 'peters16649683': 12989, 'graz': 12990, '2007': 12991, 'bv': 12992, 'vorhandenen': 12993, 'zielgerichtet': 12994, 'uebernahme': 12995, 'spionage': 12996, 'soooo': 12997, 'luce': 12998, '1986': 12999, 'cond': 13000, 'rice': 13001, 'reaktionaere': 13002, 'schnaps': 13003, 'pralinen': 13004, 'wahrscheinlicher': 13005, 'werdende': 13006, 'minirenten': 13007, 'lockt': 13008, 'verfassungswiedrig': 13009, 'beobachenden': 13010, 'identischen': 13011, 'patent': 13012, 'ebola': 13013, 'entdeckung': 13014, 'ig0nix': 13015, 'kostenkalkulation': 13016, 'wesentlicher': 13017, 'planungsbestandteil': 13018, 'himmelschreiende': 13019, 'unternimmt': 13020, 'dauerkindesmissbrauch': 13021, 'frauenmarsch': 13022, 'leylabilge': 13023, 'citoyen': 13024, 'lauris': 13025, 'weisser': 13026, 'googeln': 13027, 'lg': 13028, 'zusammengelegt': 13029, 'fuerchterlich': 13030, 'nackten': 13031, 'aufzufordern': 13032, 'scheinheiligen': 13033, 'schmutzl': 13034, 'meldewuerdigen': 13035, 'meldewuetigen': 13036, 'pussies': 13037, 'siffmoralischen': 13038, 'dauermelder': 13039, 'versagerin': 13040, 'volksmoerder': 13041, 'nuhr': 13042, 'ehring': 13043, 'bevorz': 13044, 'gelacht': 13045, 'geschuettelt': 13046, 'doppelzuengigkeit': 13047, 'zimonjames': 13048, 'ausgeladen': 13049, 'zugegeben': 13050, 'angesprochenen': 13051, 'abdeschossen': 13052, 'unding': 13053, 'voraussetzung': 13054, 'darling': 13055, 'fahr': 13056, 'verwandschaft': 13057, 'herauszufinden': 13058, 'satzungsgemaess': 13059, 'asansoer35': 13060, 'lebenserfahrung': 13061, 'pickelplantage': 13062, 'heiligsblechle': 13063, 'haemmer': 13064, 'schwaechsten': 13065, 'steuerfluechtlinge': 13066, 'investieren': 13067, 'jana': 13068, 'erwache': 13069, 'rudifussi': 13070, 'mazedonien': 13071, 'serbien': 13072, 'bescheidenen': 13073, 'urlaubslaender': 13074, 'hvoll': 13075, 'erforde': 13076, 'lochfrass': 13077, 'bse': 13078, 'intelligente': 13079, 'visier': 13080, 'jubelarien': 13081, 'bye': 13082, 'joergprante': 13083, 'eskalie': 13084, 'raketenprogramm': 13085, 'ausbaut': 13086, 'weltsicht': 13087, 'much': 13088, 'schalte': 13089, 'gruenenpolitikerin': 13090, 'steigbuegelhalter': 13091, 'mussen': 13092, 'hure': 13093, 'verbrechens': 13094, 'sorgfaeltig': 13095, 'kirchlichem': 13096, 'vermoegen': 13097, 'beruecksichtigt': 13098, 'micha': 13099, 'solides': 13100, 'schleichwerbung': 13101, 'beschliesst': 13102, 'nicken': 13103, 'kommentarlos': 13104, 'wievielter': 13105, 'bann': 13106, 'enthaltungen': 13107, 'gegenstimmen': 13108, 'doktorarbeit': 13109, 'tuerkeituerken': 13110, 'aufgeschaukelt': 13111, 'blich': 13112, 'wesentliche': 13113, 'vernebelt': 13114, 'iraner': 13115, 'polizeisprecher': 13116, 'absurder': 13117, 'inhaftierung': 13118, 'moma': 13119, 'manmanman': 13120, 'aufzaehlen': 13121, 'unnoetiger': 13122, 'gnadenbrot': 13123, 'laemmer': 13124, 'machenschaften': 13125, 'fanden': 13126, 'baenker': 13127, 'verzieh': 13128, 'haasmuch': 13129, 'bine1007': 13130, 'truemmerfrauen': 13131, 'veranschlagt': 13132, 'einwanderungskritisch': 13133, 'aufstaende': 13134, 'provozieren': 13135, 'vorfahren': 13136, 'solidaritaet': 13137, 'medienecho': 13138, 'tricky': 13139, 'lahm': 13140, 'unbekannt': 13141, 'unions': 13142, 'freilich': 13143, 'einfachsten': 13144, 'ward': 13145, 'handball': 13146, 'singen': 13147, 'spickzettels': 13148, 'pseudros': 13149, 'einziga': 13150, 'officerolando': 13151, 'blechliesel': 13152, 'obgleich': 13153, 'nielmals': 13154, 'verbesse': 13155, 'muslima': 13156, 'tweeting1897': 13157, 'zionistenkongress': 13158, 'basel': 13159, '120': 13160, 'israelmfa': 13161, 'kennerblick': 13162, 'kuenstlicher': 13163, 'bunteskanzlerin': 13164, 'abwechslung': 13165, 'menschlicher': 13166, 'migrationshintergrund': 13167, 'vollschaufelt': 13168, 'wischiwaschi': 13169, 'zweitstimme': 13170, 'sozialisierung': 13171, 'bonzen': 13172, 'sowjetbonzen': 13173, 'zusammenbruch': 13174, 'kommunismus': 13175, 'leiste': 13176, 'neudf': 13177, 'medienberichten': 13178, 'zufolge': 13179, 'erlitt': 13180, 'shimon': 13181, 'peres': 13182, 'schlaganfall': 13183, 'abklatschsender': 13184, 'supe': 13185, 'olles': 13186, 'hingestellt': 13187, 'ui': 13188, 'schmerzensgeld': 13189, '49': 13190, 'aufgehen': 13191, 'sifftwittter': 13192, 'eqtcafe': 13193, 'abgesahnt': 13194, 'oberguru': 13195, 'maschmayer': 13196, 'fernsehstar': 13197, 'movies': 13198, 'sturzneuwahl': 13199, 'gestaerkten': 13200, 'oesterreichvorbild': 13201, 'poebeln': 13202, 'vernuenftigen': 13203, 'peinlichkeit': 13204, 'militaerisch': 13205, 'korridor': 13206, 'gelegene': 13207, 'ypg': 13208, 'gehaltene': 13209, 'manbij': 13210, 'einruecken': 13211, 'feindlich': 13212, 'sympathisiere': 13213, 'haelst': 13214, 'there': 13215, 'publicity': 13216, 'ueberfluessiger': 13217, 'vorzudraengeln': 13218, 'taegliches': 13219, 'prebiszit': 13220, 'jazz': 13221, '3510lwl': 13222, 'dlfnachrichten': 13223, 'textete': 13224, 'ruecksichtslos': 13225, 'haeusern': 13226, 'schickes': 13227, 'speck': 13228, 'notunterkunft': 13229, 'kaelte': 13230, 'frieren': 13231, 'tweetkracher': 13232, 'laber': 13233, 'keinesfalls': 13234, 'stabile': 13235, 'ungsvolle': 13236, 'bestreben': 13237, 'deutschfreundliche': 13238, 'wegwerfen': 13239, 'raetselhafte': 13240, 'gekreuzigt': 13241, 'reichspa': 13242, 'politikjournalisten': 13243, 'euphemismus': 13244, 'saeuberung': 13245, 'strandfloh13': 13246, 'mangor147': 13247, 'panik': 13248, 'kompetente': 13249, 'luftpumpen': 13250, 'funktionsweise': 13251, 'draufdruecken': 13252, 'fffftttt': 13253, 'altarundorgel': 13254, 'rueckfuehrungen': 13255, 'einreisekontrollen': 13256, 'unberechtigte': 13257, 'zieleinlauf': 13258, 'jungfernstieg': 13259, 'nzz': 13260, 'aufarbeiten': 13261, 'durchstehen': 13262, 'provisionen': 13263, 'geu': 13264, 'binary': 13265, 'persoenlichkeitsrechte': 13266, 'pude': 13267, 'poestleserhalt': 13268, 'erneute': 13269, 'nutzniesser': 13270, 'wke': 13271, 'tal': 13272, 'crosssolidarity': 13273, '25b': 13274, 'ahmadmansour': 13275, 'krankes': 13276, 'muslimban': 13277, 'untergrund': 13278, 'ratten': 13279, 'kanalisation': 13280, 'gegenstimme': 13281, 'entlastet': 13282, 'thinkpunk': 13283, 'ludwigplatz': 13284, 'zirkel': 13285, 'herkunftsstaat': 13286, 'ra': 13287, 'kabis': 13288, '08': 13289, 'schwachsinniger': 13290, 'linksradikal': 13291, 'anhoeren': 13292, 'isoldethomas': 13293, '45jaehriger': 13294, 'zeitungshersteller': 13295, 'deutschefeindlichen': 13296, 'arschloecherwie': 13297, 'joerges': 13298, 'medienmarkt': 13299, 'muelltonne': 13300, 'stiefmutter': 13301, 'mammon': 13302, 'journaille': 13303, 'zib2': 13304, 'orfsg17': 13305, 'iges': 13306, 'subjekt': 13307, 'offenkundig': 13308, 'betreuen': 13309, 'schlappe': 13310, 'ueberflutung': 13311, 'minderheitsregierung': 13312, 'tugenden': 13313, 'ballhausplatz': 13314, 'sprachkuenstler': 13315, 'thierse': 13316, 'zuschlaegt': 13317, 'infoammorgen': 13318, 'entheimatung': 13319, 'konsense': 13320, 'anmahnt': 13321, 'flugverbotszone': 13322, 'anzulegen': 13323, 'abfrager': 13324, 'verreckt': 13325, 'drogenhaendler': 13326, 'feature': 13327, 'musterfluechtling': 13328, 'jmarrenbach': 13329, 'ansprueche': 13330, 'vermittlungsarbeit': 13331, 'vorsitzender': 13332, 'besitzerin': 13333, 'hausrecht': 13334, 'durchzieht': 13335, 'goldjungen': 13336, 'zutritt': 13337, 'dohnany': 13338, 'aufzumachen': 13339, 'ostblock': 13340, 'willkuer': 13341, 'auswandern': 13342, 'pseudonymphe': 13343, 'gutsein': 13344, 'letztendlich': 13345, 'acichowicz': 13346, 'umgebaut': 13347, 'frauentausch': 13348, 'grausige': 13349, 'faszination': 13350, 'detlef': 13351, 'tabbe': 13352, 'georgdetlef': 13353, 'hauptamtlicher': 13354, 'templin': 13355, 'wahlgang': 13356, '61': 13357, 'dielinkebrdburg': 13358, 'andreasriegerar': 13359, 'eigen': 13360, 'hitlers': 13361, 'eingeschraenkt': 13362, 'doping': 13363, 'klares': 13364, 'signal': 13365, 'verbaende': 13366, 'dfb': 13367, 'grindel': 13368, 'fifa': 13369, 'intelligent': 13370, 'souveraene': 13371, 'inkompetente': 13372, 'ausgeruestete': 13373, 'wehrmacht': 13374, 'nachhaltig': 13375, 'unterstrich': 13376, 'philippvetter': 13377, 'islamkindergae': 13378, 'mehrheiten': 13379, 'motivation': 13380, 'schaue': 13381, 'ware': 13382, 'supermarkt': 13383, 'milva': 13384, 'zusammenleben': 13385, 'jufodig': 13386, 'augsburg': 13387, 'dighgaugsburg': 13388, 'ruhr': 13389, 'erschiesst': 13390, 'wildschwein': 13391, 'hielt': 13392, 'warnwesten': 13393, 'museldiebe': 13394, 'geheilt': 13395, 'rotgruenenmuselmist': 13396, 'elfriede': 13397, 'cover': 13398, 'adresse': 13399, 'telefonnummer': 13400, 'penny': 13401, 'ueberschritten': 13402, 'verdienter': 13403, 'storm': 13404, 'mrmacsimon': 13405, 'koalie': 13406, 'auslaesst': 13407, 'patriotische': 13408, 'verstaubte': 13409, 'unumkehrbaren': 13410, 'bugsieren': 13411, 'irgendeine': 13412, 'liga': 13413, 'michaowns': 13414, 'vergleicht': 13415, 'werdegang': 13416, 'auffaellig': 13417, 'tierhaltung': 13418, 'angenehme': 13419, 'nuetzlichen': 13420, 'geheimpolizei': 13421, 'schauspiel': 13422, 'gerangel': 13423, 'bilddungsbuerger': 13424, 'steinmetzha': 13425, 'tonline': 13426, 'gemeinheiten': 13427, 'schnarchnasen': 13428, 'fremdes': 13429, 'reederei': 13430, 'verdrecken': 13431, 'komfo': 13432, 'able': 13433, 'linxkonservativ': 13434, 'hielten': 13435, 'begruendung': 13436, 'ablenkung': 13437, 'urheberrechtlichen': 13438, 'holdemaid666': 13439, 'beschlusspapier': 13440, 'zahler': 13441, 'entalstet': 13442, 'lebensrealitaet': 13443, 'finanzielle': 13444, 'entlastung': 13445, 'mittleren': 13446, 'einkommen': 13447, 'spitzenverdiener': 13448, 'sozale': 13449, 'ande': 13450, 'uebersetzern': 13451, 'gillyberlin': 13452, 'yup': 13453, 'unauffaellige': 13454, 'daimlers': 13455, 'akademikerin': 13456, 'anlegen': 13457, 'sitzengebliebener': 13458, 'entlarvungen': 13459, 'elpatron207': 13460, 'honigumdenba': 13461, 'gruesst': 13462, 'gefolgsmann': 13463, 'drittes': 13464, 'vergiessen': 13465, 'guidograndt': 13466, 'wordpressdotcom': 13467, 'normaldenkenden': 13468, 'spielte': 13469, 'awakening': 13470, 'anschliessende': 13471, 'bislimi': 13472, 'chip': 13473, 'blau': 13474, 'aeugig': 13475, 'altersdemente': 13476, 'bundeakanzlerin': 13477, 'cannabis': 13478, 'behauptungen': 13479, 'pflichtve': 13480, 'revisionen': 13481, 'geschaeftsfuehrerin': 13482, 'todesbote67': 13483, 'schuechtern': 13484, 'anmisten': 13485, 'nogo': 13486, '1001ptsde': 13487, 'arschkriecher': 13488, 'neugierde': 13489, 'dreist': 13490, 'eilsbrille': 13491, 'entstandene': 13492, 'verwirrung': 13493, 'daenemark': 13494, 'rvdb': 13495, 'trauer': 13496, 'schockstarre': 13497, 'unterdrueckt': 13498, 'misshandelt': 13499, 'parlamenten': 13500, 'problemloesungen': 13501, 'kubler': 13502, 'gekannt': 13503, 'bekaeme': 13504, 'mutie': 13505, 'aufzuraeumen': 13506, 'stuehle': 13507, 'umschmeissen': 13508, 'abschlachten': 13509, 'monster': 13510, 'getarnt': 13511, 'zustellperson': 13512, 'meilenstein': 13513, 'verschlossenen': 13514, 'tueren': 13515, 'erfundene': 13516, 'trophaee': 13517, 'aeusserung': 13518, 'radiobremen': 13519, 'zwischendurch': 13520, 'bringe': 13521, 'diskussionsstil': 13522, 'asylindustrie': 13523, 'genausowenig': 13524, 'berechtigter': 13525, 'aufgrunddessen': 13526, 'zusagt': 13527, 'ueberraschend': 13528, 'h4bqqq': 13529, 'maddin': 13530, 'abdanken': 13531, 'wuerseler': 13532, 'buecherei': 13533, 'zug': 13534, 'aufm': 13535, 'right': 13536, 'trash': 13537, 'irgendso': 13538, 'nehm': 13539, 'ueberschreiten': 13540, 'knudsen': 13541, 'ordensrechts': 13542, 'reinerknudsen': 13543, 'fraeulein': 13544, 'huessyandre': 13545, 'friedenswatch': 13546, 'retep': 13547, 'kire': 13548, 'ruhrbarone': 13549, 'hervorzusehen': 13550, 'shoahvergleiche': 13551, 'atzmons': 13552, 'distanzierung': 13553, 'ahmadinedschad': 13554, 'sondierungsergebnis': 13555, 'grokosondierung': 13556, 'drecksloecher': 13557, 'verdruecken': 13558, 'steuergeldern': 13559, 'verstossen': 13560, 'herabwuerdigen': 13561, 'falseflag': 13562, 'giftgaseinsatz': 13563, 'terrorakt': 13564, 'ww3': 13565, 'weihnachtsbildern': 13566, 'verschont': 13567, 'kippt': 13568, 'beschissene': 13569, 'oje': 13570, 'narrenfreiheit': 13571, 'ueberlege': 13572, 'achten': 13573, 'saustall': 13574, 'groessen': 13575, 'antonia': 13576, 'aufzubauen': 13577, 'regierden': 13578, 'psychologen': 13579, 'framei75': 13580, 'buecherverbrennung': 13581, 'rom': 13582, 'integre': 13583, '24std': 13584, 'egon': 13585, 'bahr': 13586, 'unterwerfungsve': 13587, 'hubi': 13588, 'mei': 13589, 'bisch': 13590, 'deppeter': 13591, 'mongo': 13592, 'einfalt': 13593, 'vielfalthh': 13594, 'doitsche': 13595, 'kauft': 13596, 'bai': 13597, 'glatteis': 13598, 'mittlelmaessige': 13599, 'politschauspieler': 13600, 'offbeat24': 13601, 'knappe': 13602, 'kompletten': 13603, 'repressionen': 13604, 'versteh': 13605, 'timzeelen': 13606, 'chefin': 13607, 'visage': 13608, 'freundlich': 13609, 'pns': 13610, 'gesundem': 13611, 'menschenverstand': 13612, 'einschuechterung': 13613, 'angstpaedagogik': 13614, 'unspiritueller': 13615, 'fussballspiele': 13616, 'flugabwehr': 13617, 'gepard': 13618, 'erd': 13619, 'ziehle': 13620, 'kommandant': 13621, 'herziehen': 13622, 'bildamsonntag': 13623, 'schwa': 13624, 'zunaechst': 13625, 'olafgersemann': 13626, 'gersemann': 13627, 'heuteplus': 13628, 'rieben': 13629, 'lenasakurablume': 13630, 'lena': 13631, 'bemerkst': 13632, 'furkn631': 13633, 'sjarjadottir': 13634, 'kamel': 13635, 'einbrechen': 13636, 'druecke': 13637, 'wirschaffendas': 13638, 'populaer': 13639, 'altbekannte': 13640, 'klischees': 13641, 'sorben': 13642, 'tillich': 13643, 'monokulturelles': 13644, 'arg': 13645, 'erheblich': 13646, 'jurist': 13647, 'fairen': 13648, 'ruh': 13649, 'sprechverbot': 13650, 'rachegedanken': 13651, 'orient': 13652, 'tabuzone': 13653, 'biker': 13654, 'mitm': 13655, 'inkaul': 13656, 'henrikdo': 13657, 'reiter': 13658, 'horizont': 13659, 'erweitern': 13660, 'erholsame': 13661, 'mecklenburgischen': 13662, 'brrrrrrr': 13663, 'drandreakahl1': 13664, 'hoeflichst': 13665, 'anklopfend': 13666, 'gelobe': 13667, 'annaeherung': 13668, 'positivere': 13669, 'grundhaltung': 13670, 'schokopudding': 13671, 'entflammte': 13672, 'ubbelohdeberlin': 13673, 'lautstark': 13674, 'geliefe': 13675, 'hinwegsetzen': 13676, 'stephschloesser': 13677, 'gerrit': 13678, 'sor': 13679, 'heimatvereind': 13680, 'erhoehung': 13681, 'lohnentwicklung': 13682, 'durchschnittlich': 13683, 'dummbacken': 13684, 'getoeteten': 13685, 'tiefstes': 13686, 'beileid': 13687, 'vollstaendige': 13688, 'ungar': 13689, 'frische': 13690, 'dienrv': 13691, 'gepoebelt': 13692, 'bicyclo222octan': 13693, 'schlawino': 13694, 'schnulle': 13695, 'bundesbuerger': 13696, 'zu7': 13697, 'ziegenrasse': 13698, 'rlp': 13699, 'silvester2017': 13700, 'buendnis': 13701, 'sicherheitsbehoerden': 13702, 'annette': 13703, 'groth': 13704, 'menschenrechtspolitische': 13705, 'pointe': 13706, 'huldigt': 13707, 'geister': 13708, 'ruhen': 13709, 'getoetet': 13710, 'heid': 13711, 'weiterverhandeln': 13712, 'baldigen': 13713, 'voelkergemeinschaft': 13714, 'einseitig': 13715, 'who': 13716, 'dreierlei': 13717, 'riebene': 13718, 'wunschmass': 13719, 'chlorella': 13720, 'handelsuebliche': 13721, 'zahnpasta': 13722, 'fluor': 13723, 'kurkuma': 13724, 'impfungen': 13725, 'tuberkulose': 13726, 'seuchen': 13727, 'inkompetenter': 13728, 'gingerheadrocks': 13729, 'volksverarsche': 13730, 'typische': 13731, 'kinderfeind': 13732, 'uebernimmt': 13733, 'lottap1': 13734, 'einstehen': 13735, 'fremdwoe': 13736, 'pinkcrazypony': 13737, 'betreuer': 13738, 'atemschutzmasken': 13739, 'tropenkranke': 13740, 'hauptbuehne': 13741, 'preises': 13742, 'blsj': 13743, 'moderie': 13744, 'anja': 13745, 'ersatzbank': 13746, 'armeen': 13747, 'hilfsorganisationen': 13748, 'fuerstliche': 13749, 'spende': 13750, 'matthiasfuchs6': 13751, 'kanzleramt': 13752, 'bmub': 13753, 'aufenthalt': 13754, 'godcoder': 13755, 'schinkel': 13756, 'ib': 13757, 'jkasek': 13758, 'kreativlos': 13759, 'seifehasser': 13760, 'erzaehlung': 13761, 'identitaetsbildend': 13762, 'jetztigen': 13763, 'webitipps': 13764, 'kennenzulernen': 13765, 'gewah': 13766, 'detlefbahlke': 13767, 'schwaechstes': 13768, 'ankommen': 13769, 'kopietzandreas': 13770, 'fachfirma': 13771, 'opposition24de': 13772, 'ueberwaeltigt': 13773, 'sprachlos': 13774, 'grenzt': 13775, 'erstklaessler': 13776, 'weimarer': 13777, 'histor': 13778, 'plutokratie': 13779, 'gekennz': 13780, 'uneinigkeit': 13781, 'umbringen': 13782, 'bredenbrock': 13783, 'kaisers': 13784, 'schmutzige': 13785, 'deppenvirus': 13786, 'demonstrierverbot': 13787, 'landfriedensbruch': 13788, 'abzuschieben': 13789, 'migrantenwanderung': 13790, 'zulieferern': 13791, 'diktie': 13792, 'produktion': 13793, 'zeitarbeiter': 13794, 'ausfuehren': 13795, 'qualitaetsmerkmal': 13796, 'passe': 13797, 'garf': 13798, 'schwul': 13799, 'pacht': 13800, 'ruebe': 13801, 'latte': 13802, 'soziales': 13803, 'victoria': 13804, '367': 13805, 'eckleben': 13806, 'draufhauen': 13807, 'besatzungszeit': 13808, 'undheute': 13809, 'weggelassen': 13810, 'grechtigkeit': 13811, 'blacki81': 13812, 'workfloh': 13813, 'besonderer': 13814, 'ni': 13815, 'fuhren': 13816, 'ossis': 13817, 'pneumant': 13818, 'reifen': 13819, 'msf': 13820, 'wiederaufbau': 13821, 'luis055a': 13822, 'ausgemurkselt': 13823, 'sprueche': 13824, 'weiblichen': 13825, 'jesidin': 13826, 'wichtiges': 13827, 'beschissen': 13828, 'politikerkoepfe': 13829, 'abfall': 13830, 'juliaschramm': 13831, 'trueben': 13832, 'angekuendigt': 13833, 'legokloetze': 13834, 'bewacht': 13835, 'singender': 13836, 'lilakaeppchen': 13837, 'bannern': 13838, 'antragsteller': 13839, 'kriegstreiberei': 13840, 'appellie': 13841, 'ergebnisoffene': 13842, 'serhildan': 13843, 'hzk': 13844, 'chill': 13845, 'nickglego': 13846, 'schaebige': 13847, 'boulevardzeitungen': 13848, 'ehrenzeichen': 13849, 'danielmack': 13850, 'beachte': 13851, 'postion': 13852, 'entnehmen': 13853, 'kling': 13854, 'august': 13855, 'sing': 13856, 'aggressiven': 13857, 'vermummten': 13858, 'feuerleger': 13859, 'diskothek': 13860, 'einfaelle': 13861, 'diskotheken': 13862, 'drgrandt': 13863, 'gesegneten': 13864, 'hl': 13865, 'marienplatz': 13866, 'prozession': 13867, 'fronleichnam': 13868, 'nizza': 13869, 'unsicheren': 13870, 'hemmungen': 13871, 'allerweltshaus': 13872, 'allebleiben': 13873, 'sparerenteignung': 13874, 'inflation': 13875, 'melkkuh': 13876, 'weltoekonom': 13877, '16a': 13878, 'verfolgte': 13879, 'kriegs': 13880, 'buergerkriegsf': 13881, 'drittstattenreglung': 13882, 'justizminister': 13883, 'verordnungen': 13884, 'iger': 13885, 'germanenherz': 13886, 'hollstein63': 13887, '15cm': 13888, 'schnittwunde': 13889, '5cm': 13890, 'abdecken': 13891, 'parkbuchhandlung': 13892, 'redoute': 13893, 'kurfuerstenallee': 13894, '53177': 13895, 'godesberg': 13896, 'afdwaehlen': 13897, 'noeoeoeoeoeoeoeoeoeoe': 13898, 'anblick': 13899, 'drink': 13900, 'btwahlergebnis': 13901, 'rammstein': 13902, 'reih': 13903, 'sitzenden': 13904, 'verzapfen': 13905, 'skymediade': 13906, 'newshd': 13907, '60er': 13908, 'arschlochpa': 13909, 'unserm': 13910, 'symbiose': 13911, 'zerbricht': 13912, 'verwoehnten': 13913, 'naturburschen': 13914, 'unsympathisch': 13915, 'gehabe': 13916, 'dorobaer': 13917, 'generaelen': 13918, 'unrechtssystem': 13919, 'militaerputsch': 13920, 'vorhin': 13921, 'innenministers': 13922, 'kadi': 13923, 'gezer': 13924, 'karam': 13925, 'mashour': 13926, 'spieler': 13927, 'maccabitlvbc': 13928, 'deal': 13929, 'stoesst': 13930, 'ungeteilte': 13931, 'marines': 13932, 'love': 13933, 'mieser': 13934, 'provit': 13935, 'maximieren': 13936, 'zurueckgepfiffen': 13937, 'kubicki': 13938, 'fehl': 13939, 'interpretie': 13940, 'unmissverstaendlichen': 13941, 'schildern': 13942, 'erstaunen': 13943, 'verhandlungsfuehrung': 13944, 'vollumfaenglich': 13945, 'vorlesen': 13946, 'aufschreibt': 13947, 'propagandisten': 13948, 'kritischepress1': 13949, 'jonas': 13950, 'garantieren': 13951, 'riesige': 13952, 'verschworen': 13953, 'blutverschmie': 13954, 'darzustellen': 13955, 'klappse': 13956, 'genderday': 13957, 'amphibisch': 13958, 'querkopp': 13959, 'toppen': 13960, 'besonnenes': 13961, 'aufstachelung': 13962, 'abbas': 13963, 'friedlicher': 13964, 'funktionieren': 13965, 'osshunt': 13966, 'airpo': 13967, 'tochterunternehmen': 13968, 'dpedig': 13969, 'erinnere': 13970, 'diagramm': 13971, 'gepasst': 13972, 'politbueros': 13973, 'damaligen': 13974, 'verdrehte': 13975, 'mitschreiben': 13976, 'ignoranten': 13977, 'doppelte': 13978, 'buergerschaft': 13979, 'nsarschloecher': 13980, 'fremdenfeindlichkeit': 13981, 'merkokratie': 13982, 'grinsen': 13983, 'wohlverdient': 13984, 'betrugs': 13985, 'dieselfahrzeuge': 13986, 'subventionen': 13987, 'kost': 13988, 'logis': 13989, 'dkultur': 13990, 'kompressor': 13991, 'anmeldet': 13992, 'finanzierung': 13993, 'miete': 13994, 'noetig': 13995, 'eingreifen': 13996, 'kolossal': 13997, 'twitterer': 13998, 'kasperltheater': 13999, 'sitzplaetze': 14000, 'steinekecdu': 14001, 'ik': 14002, 'bolle': 14003, 'rasissmusgelaber': 14004, 'privatrichterin': 14005, 'zwangseingewiesen': 14006, 'lacher': 14007, 'begrabscht': 14008, 'unbesorgt': 14009, 'butter': 14010, 'kugel': 14011, 'pfennig': 14012, 'lamentieren': 14013, 'ereignisreiches': 14014, 'hrw': 14015, '288': 14016, 'noerdl': 14017, 'rakhine': 14018, 'niedergebrannt': 14019, 'satellitenbilder': 14020, 'reibung': 14021, 'gesellschaften': 14022, 'pforzheim': 14023, 'akif': 14024, 'lebensgefaeh': 14025, 'aufreissen': 14026, 'karrieregrad': 14027, 'scheere': 14028, 'cherusker6': 14029, 'katastrophal': 14030, 'moloch': 14031, 'rigaer94': 14032, 'gesetzesverstoessen': 14033, 'jodie': 14034, 'fluoridie': 14035, 'speisesalz': 14036, 'hochzeit': 14037, 'urne': 14038, 'ia': 14039, 'bifriendshh': 14040, 'pause': 14041, 'durchatmen': 14042, 'litauer': 14043, 'halbet': 14044, 'brite': 14045, 'halber': 14046, 'oberst': 14047, 'panzergrenadiere': 14048, 'michaelb2861': 14049, 'neuermengele': 14050, 'verdi': 14051, 'mechanismus': 14052, 'jekra70': 14053, 'gehirnverseucht': 14054, 'vermute': 14055, 'zuvorgekommen': 14056, 'spaeteren': 14057, 'giorgiovienna': 14058, 'medienlandschaft': 14059, 'zehntausenden': 14060, 'navi': 14061, 'vilimsky': 14062, 'trugen': 14063, 'fluechtlingswahnsinn': 14064, 'sicherheitslage': 14065, 'verschaerfte': 14066, 'unchristen': 14067, 'humbug': 14068, 'siggiweise': 14069, 'representative': 14070, 'umfrageinstituten': 14071, 'angelsachsen': 14072, 'gehoerig': 14073, 'verfuegbar': 14074, 'bekommst': 14075, 'terroristische': 14076, 'onkeltorf': 14077, 'freundlichen': 14078, 'bystronafd': 14079, 'ghana': 14080, 'turku': 14081, 'finbotschaftde': 14082, 'umgeht': 14083, 'straffreien': 14084, 'afghanischen': 14085, 'erlaesst': 14086, 'huette': 14087, 'erschreckender': 14088, 'hierfuer': 14089, 'prinzipien': 14090, 'trendwenden': 14091, 'ewige': 14092, 'verdienste': 14093, 'laufschrift': 14094, 'warnt': 14095, 'aufklae': 14096, 'brennpunkten': 14097, 'frederieke': 14098, 'chanukkaleuchter': 14099, 'angemacht': 14100, 'stillen': 14101, 'lauten': 14102, 'schaftsflue': 14103, 'kriegsfl': 14104, '3tstaat': 14105, 'spasskultur': 14106, 'hatespeechger': 14107, 'baeren': 14108, 'aufbinden': 14109, 'paraguay': 14110, 'frauenfeindliche': 14111, 'filmtip': 14112, 'russlands': 14113, 'atomkatastrophe': 14114, 'uschten': 14115, 'gaus': 14116, 'begleitet': 14117, 'nadeschda': 14118, 'kutepowa': 14119, 'bellona': 14120, 'bankwatch': 14121, 'greenpeace': 14122, 'janhaverkamp': 14123, 'ede': 14124, 'mallorca': 14125, 'arbeitslose': 14126, 'schaftsmigranten': 14127, 'philipplicke': 14128, 'tag24de': 14129, 'rausgesucht': 14130, 'asozial': 14131, 'alster': 14132, 'kraeftig': 14133, 'weitergefeie': 14134, 'paulplotzer': 14135, 'kerzenhersteller': 14136, 'strafmassen': 14137, 'razzien': 14138, 'linksextreme': 14139, 'sozusagen': 14140, 'pazifisten': 14141, 'gewaehrleistet': 14142, 'unabhaengiger': 14143, 'westbank': 14144, 'demilitarisie': 14145, 'sammelabschiebeflug': 14146, 'duesseldorfer': 14147, 'mittelbare': 14148, 'ermoeglicht': 14149, 'spako': 14150, 'einsitzt': 14151, 'daktys': 14152, 'schmauchspuren': 14153, 'mundlos': 14154, 'boehnhardt': 14155, 'misstrauensvotum': 14156, 'kinderlose': 14157, 'unklug': 14158, 'vermehrung': 14159, 'finanziellen': 14160, 'verwahrlosten': 14161, 'dummbuergern': 14162, 'jufos': 14163, 'vorstandsteam': 14164, 'mitbestimmen': 14165, 'einzelheiten': 14166, 'klugscheisserin': 14167, 'dachboden': 14168, 'endeckt': 14169, 'abschiebestopp': 14170, 'gewa': 14171, 'polizeihunde': 14172, 'chwesta': 14173, 'fluss': 14174, 'easy': 14175, 'going': 14176, 'juengst': 14177, 'oestlichen': 14178, 'fuehrungsrolle': 14179, 'erfuellte': 14180, 'voelkerdiebstahl': 14181, 'freudschem': 14182, 'kompetenz': 14183, 'vorzutaeuschen': 14184, 'kardasiapat': 14185, 'leitungen': 14186, 'endnummer': 14187, 'leotrotzki79': 14188, 'mano': 14189, 'sterne': 14190, 'koch': 14191, 'schmeckst': 14192, 'rennst': 14193, 'huebscher': 14194, 'satireformate': 14195, 'indizien': 14196, 'gesinnungsdiktatur': 14197, 'gleichgeschalteten': 14198, 'freche': 14199, 'scharfsinnige': 14200, 'einerseits': 14201, 'einen': 14202, 'andererseits': 14203, 'hinweisen': 14204, 'stossen': 14205, 'urban': 14206, 'toleriere': 14207, 'volkstod': 14208, 'asylrechte': 14209, 'verursacher': 14210, 'desasters': 14211, 'keinfreiwild': 14212, 'segeltexter': 14213, 'einfaedeln': 14214, 'gesocks': 14215, 'schwester': 14216, 'freikirche': 14217, 'hebihebiheb': 14218, 'hoefliche': 14219, 'lachmann': 14220, 'spaeten': 14221, 'genauen': 14222, '110': 14223, 'monatlich': 14224, 'unnuetze': 14225, 'windkraftanlagen': 14226, 'norden': 14227, 'trassen': 14228, 'bedaure': 14229, 'zutiefst': 14230, 'regierungskritischen': 14231, 'korruption': 14232, 'konnotie': 14233, 'schubladen': 14234, 'ansichten': 14235, 'einso': 14236, 'mutbuerger': 14237, 'beschiesst': 14238, 'saudumme': 14239, 'spruehaktionen': 14240, 'thomasreife': 14241, 'buetzow': 14242, 'raf': 14243, 'totalversager': 14244, 'bespitzelung': 14245, 'verknoteten': 14246, 'rausgibt': 14247, 'deppe': 14248, 'schranzenverein': 14249, 'legitimation': 14250, 'rechtsbeugermafia': 14251, 'gensta': 14252, 'hahaa': 14253, 'weltnews': 14254, 'remigration': 14255, 'starkpigmentie': 14256, 'bloedsinnsbehoerde': 14257, 'amerikanischen': 14258, 'mockenhaupt': 14259, 'hammelsprung': 14260, 'beschlussfaehigkeit': 14261, 'linksextremen': 14262, 'bereichern': 14263, 'heutzutage': 14264, 'verbloedetes': 14265, 'ikulieren': 14266, 'marial': 14267, 'zustehende': 14268, 'mia': 14269, 'querfront': 14270, 'stroemender': 14271, 'vermeintliche': 14272, 'zensoren': 14273, 'digagkoln': 14274, 'mullah': 14275, 'chaim': 14276, 'icke41': 14277, 'prosiebenmaxx': 14278, 'family': 14279, 'vollzogen': 14280, 'blutrot': 14281, 'umbenennen': 14282, 'loeschung': 14283, 'paragraph1ralph': 14284, 'azuriana': 14285, 'datt': 14286, 'qumranrollen': 14287, 'westjordanland': 14288, 'prothmann': 14289, 'krefeld': 14290, 'margit': 14291, 'loos': 14292, 'offenbach': 14293, 'polizeimfr': 14294, 'marctailer3': 14295, 'physisch': 14296, 'ausbaden': 14297, 'schnittlauch': 14298, 'zecken': 14299, 'nachbardorf': 14300, 'flogen': 14301, 'fenstern': 14302, 'kneipe': 14303, 'att': 14304, 'unterlagen': 14305, 'inklusive': 14306, 'praktizieren': 14307, 'kulturfeindlich': 14308, 'wein': 14309, 'jenand': 14310, 'treffer': 14311, 'yes': 14312, 'f4ksoc3ty': 14313, 'gabriele': 14314, 'schmalz': 14315, 'aljazeera': 14316, 'bejubelt': 14317, 'sprachrohr': 14318, 'klimadeal': 14319, 'maengel': 14320, 'flugzeuge': 14321, 'schiffsdiesel': 14322, 'weltmeeren': 14323, 'schleudern': 14324, 'nbildge': 14325, 'heilbar': 14326, 'einpeitscher': 14327, 'auspeitscher': 14328, 'toleranzgesetz': 14329, 'verbietet': 14330, 'zigeuner': 14331, 'diebe': 14332, 'hamm': 14333, '06': 14334, 'herztablette': 14335, 'ison': 14336, 'bueschen': 14337, '4000': 14338, 'burma': 14339, 'bendels': 14340, 'gothdad': 14341, 'aufstampfenden': 14342, 'kindisch': 14343, 'bibel': 14344, 'wdr5': 14345, 'stets': 14346, 'erweiterung': 14347, 'schatzes': 14348, 'angerueh': 14349, 'inschuz': 14350, 'angedrohte': 14351, 'exilha': 14352, 'genitalmassaker': 14353, 'jugendverbaende': 14354, 'raue': 14355, 'dioezesanjugendpfr': 14356, 'bdkj': 14357, 'nacktmagazin': 14358, 'nachtisch': 14359, 'mohrenkopf': 14360, 'deppendorfu': 14361, 'michaelefler': 14362, 'populistische': 14363, 'pseudostasi': 14364, 'bluehen': 14365, 'linksterroristen': 14366, 'hehehe': 14367, 'biajulixoxo': 14368, 'handhaben': 14369, 'oelpisser': 14370, 'puls4': 14371, 'sommergespraeche': 14372, 'lunacek': 14373, 'bildungsfern': 14374, 'gehscheissen': 14375, 'zapp': 14376, 'hunterzorro3': 14377, 'unbefleckte': 14378, 'empfaengnis': 14379, 'beherrscht': 14380, 'effizientesten': 14381, 'zwingen': 14382, 'bleibebonus': 14383, 'ausreise': 14384, 'faschist': 14385, 'kroch': 14386, 'bush': 14387, 'ramstein': 14388, 'einsaetze': 14389, 'thomasmaron1': 14390, 'kerber': 14391, 'abbruch': 14392, 'eubeitritt': 14393, 'selbstmordanschlag': 14394, 'geilen': 14395, 'gefrkamnitzer': 14396, 'gewaltkriminelle': 14397, 'gaengig': 14398, 'enthauptung': 14399, 'lafer': 14400, 'genussmenschen': 14401, 'schwarzafrika': 14402, 'mpitzke': 14403, 'gespeiche': 14404, 'iunsleber': 14405, 'favorit': 14406, 'kralle': 14407, 'irenemihalic': 14408, 'unwetter': 14409, 'themenmaerchen': 14410, 'wohnhaft': 14411, 'jahreseinkuenfte': 14412, '76': 14413, '472': 14414, 'einkommensteuer': 14415, 'bloggi': 14416, 'zusammengesetzte': 14417, 'verursachen': 14418, 'schnellen': 14419, 'vergessens': 14420, 'suesse': 14421, 'schnitte': 14422, 'zustaendig': 14423, 'vorankuendigung': 14424, 'tasche': 14425, 'finan': 14426, 'heimische': 14427, 'windkraftraeder': 14428, 'atomstrom': 14429, 'kraftwerke': 14430, 'aufgegeben': 14431, 'udohemmelgarn': 14432, 'paulephanter': 14433, 'satan': 14434, 'unterlassung': 14435, 'widerruf': 14436, 'faelschung': 14437, 'kraeften': 14438, 'arrogante': 14439, 'quatscht': 14440, 'wahrheitsliebenden': 14441, 'denunzianten': 14442, 'schluesselpos': 14443, 'werdden': 14444, 'fun': 14445, 'gleichfalls': 14446, 'ines': 14447, 'goennt': 14448, 'kleinste': 14449, 'kleinigkeit': 14450, 'politikerin': 14451, 'kasparkramer': 14452, 'markusf63525888': 14453, 'tomkoehler252': 14454, 'sonny250874': 14455, 'etgetonstefan': 14456, 'beruechtigten': 14457, 'elsmannstiftung': 14458, 'universalempathie': 14459, 'goldstuecken': 14460, 'mdrde': 14461, 'larryelder': 14462, 'b0nn': 14463, 'rauenswuerdige': 14464, 'drehhofer': 14465, 'aut': 14466, 'upmanager': 14467, 'rockefeller': 14468, 'herzkonsument': 14469, 'behoerde': 14470, 'vermisse': 14471, 'optisch': 14472, 'syrern': 14473, 'gepanze': 14474, 'dicker': 14475, 'nymphenga': 14476, 'einreichung': 14477, 'neumannundine': 14478, 'aehnlichen': 14479, 'fordernden': 14480, 'friedlichen': 14481, 'beleuchten': 14482, 'pinkle': 14483, 'spdbpt2017': 14484, 'nebeneinander': 14485, 'rauszuholen': 14486, 'tuerker': 14487, 'dummbrot': 14488, 'paradies': 14489, 'csdleipzig': 14490, 'ruhrcsd': 14491, 'csdwiesbaden': 14492, 'csdulm': 14493, 'toelz': 14494, 'pride2014': 14495, 'america': 14496, 'kontra': 14497, 'worin': 14498, 'lutzschickinger': 14499, 'stockholm': 14500, 'gezuendet': 14501, 'telepo': 14502, 'kriegswaffen': 14503, 'irgendwohin': 14504, 'vorfall': 14505, 'feldhasen': 14506, 'xyzimmermann': 14507, 'animie': 14508, 'hinterherheult': 14509, 'toedliche': 14510, 'schlaganfaelle': 14511, 'saft': 14512, 'formen': 14513, 'abder': 14514, 'offenheit': 14515, 'islamwissenschaftler': 14516, 'hakim': 14517, 'sozialismus': 14518, 'muettern': 14519, 'herzlichsten': 14520, 'glueckwuensche': 14521, 'ehrentag': 14522, 'verrats': 14523, 'grossfamilien': 14524, 'beglueckt': 14525, 'untersuchungshaft': 14526, 'benutzung': 14527, 'laserpointers': 14528, 'blendung': 14529, 'hubschrauberpilot': 14530, 'auslaenderkriminalitaet': 14531, 'bahnhofstreter': 14532, 'drogenverkaeufer': 14533, 'ernten': 14534, 'saeen': 14535, 'saatgut': 14536, 'ueberpruefen': 14537, 'giftpflanzen': 14538, 'politikverbot': 14539, 'dler': 14540, 'auszusprechen': 14541, 'rudisagmal': 14542, 'schaedlinge': 14543, 'seibe': 14544, 'starke': 14545, 'polizeipraesenz': 14546, 'sicherheitskontrollen': 14547, 'pariser': 14548, 'abgeriegelt': 14549, 'zugang': 14550, 'linden': 14551, 'afrikascheisse': 14552, 'uebersaet': 14553, 'teddybaeren': 14554, 'aufkleber': 14555, 'pensionsansprueche': 14556, 'durchsetzung': 14557, 'poetin': 14558, 'wahlwerbung': 14559, 'klopfen': 14560, 'wahlschafshirne': 14561, 'verschweigt': 14562, 'bildmaterial': 14563, 'mittaeter': 14564, 'datenklau': 14565, 'abkassieren': 14566, 'unersaettlich': 14567, '1871': 14568, 'abgesprochene': 14569, 'eilungsquote': 14570, 'pberhaupt': 14571, 'falschbehauptungen': 14572, 'leitung': 14573, 'elternhaus': 14574, 'abfragen': 14575, 'dirkruhr': 14576, 'polizeiberichte': 14577, 'uebeltaeter': 14578, 'schlimmen': 14579, 'buchhandlung': 14580, 'ludwig': 14581, 'hauptbahnhof': 14582, 'schwarzafrikaner': 14583, 'woran': 14584, '280zeichen': 14585, 'shuggy35312948': 14586, 'tunte': 14587, 'wolperdinger': 14588, 'schlagzeilen': 14589, 'unterkuenfte': 14590, 'domnrw47': 14591, 'feigen': 14592, 'ahnungslose': 14593, 'jene': 14594, 'geschaeft': 14595, 'opfermodus': 14596, 'oppo': 14597, 'dachten': 14598, 'messerangriffen': 14599, 'asylantenpack': 14600, 'fehgesteue': 14601, 'ignorant': 14602, 'hirnprinz': 14603, 'legostein': 14604, 'irgendjemand': 14605, 'erhoe': 14606, 'blanko': 14607, 'dienstsiegel': 14608, 'erbeutete': 14609, 'fallschirm': 14610, 'abspringen': 14611, 'sowj': 14612, 'gesetzesaenderungen': 14613, 'unionsve': 14614, 'officialpdc': 14615, 'favoritarata': 14616, 'tode': 14617, 'bestrafen': 14618, 'durchfuettern': 14619, 'gehrke': 14620, 'soehne': 14621, 'sarg': 14622, 'duemmsten': 14623, 'kaelber': 14624, 'schlaechter': 14625, 'olt': 14626, 'brecht': 14627, 'unheilige': 14628, 'treptauer': 14629, 'piratennrw': 14630, 'veranstaltungshinweis': 14631, 'bisherige': 14632, 'diskriminierungsverbot': 14633, 'meddldreggsau': 14634, 'medizinbaelle': 14635, 'verschluckt': 14636, 'zurueckzuschicken': 14637, 'taxifah': 14638, 'willige': 14639, 'helferinnen': 14640, 'sozialarbeiterinnen': 14641, 'vorgaben': 14642, 'lieblingstag': 14643, 'paris': 14644, 'frequentie': 14645, 'freitags': 14646, 'gemuetlichsten': 14647, 'selbsterhaltungstrieb': 14648, 'geistesriese': 14649, 'verglichen': 14650, 'beliebigen': 14651, 'blockpa': 14652, 'konkrete': 14653, 'polsprung': 14654, 'berechnung': 14655, 'springt': 14656, 'aufbieten': 14657, 'verunglimpfen': 14658, 'fingerabdruecke': 14659, 'dna': 14660, 'kriminalistisch': 14661, 'herzblut': 14662, 'legatze': 14663, 'ehm': 14664, 'mannschaft': 14665, 'jakobtheresa': 14666, 'aufmerksam': 14667, 'laenderfinanzausgleich': 14668, 'almosenempfaengern': 14669, 'degradie': 14670, 'blubi64': 14671, 'gypsileszno': 14672, 'kemal': 14673, 'erfinder': 14674, 'envorbesprechung': 14675, 'erwaehnten': 14676, 'symptombekaempfung': 14677, 'weserkurier': 14678, 'befundene': 14679, 'dorfdeppen': 14680, 'demokrat': 14681, 'amerikanerin': 14682, 'kg': 14683, 'geknackt': 14684, 'lachkick': 14685, 'haasmeiko': 14686, 'podcastgmbh': 14687, 'sophiepassmann': 14688, 'stimmungsmache': 14689, 'unnoetig': 14690, 'putzstelle': 14691, 'oskars': 14692, 'oskar': 14693, 'umschlag': 14694, 'auscht': 14695, 'gebet': 14696, 'pater': 14697, 'pio': 14698, 'grundskepsis': 14699, 'zwischenbilanz': 14700, 'lady': 14701, 'genocide': 14702, 'zeichnungen': 14703, 'aneigneten': 14704, 'gerdlorsch': 14705, 'cediwelli': 14706, 'affe': 14707, 'gebildeten': 14708, 'chris': 14709, 'pyak': 14710, 'befragten': 14711, 'fallzahlen': 14712, 'heutiges': 14713, 'vollends': 14714, 'spalten': 14715, 'medienveroeffentlichung': 14716, 'zwischenergebnissen': 14717, 'tendenzioesem': 14718, 'spin': 14719, 'jamaikamodus': 14720, 'unionskreisen': 14721, 'erleichte': 14722, 'serioes': 14723, 'glashaus': 14724, 'jugoslawien': 14725, 'bombardie': 14726, 'junta': 14727, 'bodoramelow': 14728, 'aufbringen': 14729, 'singsang': 14730, 'telekom': 14731, 'fassungslosigkeit': 14732, 'tausenden': 14733, 'intergrie': 14734, 'abgeschobenen': 14735, 'geschehniss': 14736, 'gehirngewaschen': 14737, 'armageddon': 14738, 'abspielt': 14739, 'dasgonzo': 14740, 'trio': 14741, 'bezog': 14742, 'ueberfallenen': 14743, 'radfahrer': 14744, 'inzwischen': 14745, 'thereallukasj': 14746, 'jkruetzkamp': 14747, 'palestinanser': 14748, 'hahn': 14749, 'haesslichkeit': 14750, 'buntlandbuerger': 14751, 'allzu': 14752, 'macintosh1968': 14753, 'matthiasb1963': 14754, 'kaigleissner': 14755, 'woli2017': 14756, 'laecherlichkeit': 14757, 'ueberbiete': 14758, 'vallenmarkus': 14759, 'got': 14760, 'europrideagm': 14761, 'hamburgpride2020': 14762, 'scheissprovinz': 14763, 'vg': 14764, 'tusse': 14765, 'anschlags': 14766, 'stellve': 14767, 'retend': 14768, 'chen': 14769, 'gesetzlich': 14770, 'hasskommentare': 14771, 'fragwuerdigen': 14772, 'bewusster': 14773, 'tierischen': 14774, 'gebiete': 14775, 'farbenbekennen': 14776, 'brauch': 14777, 'moralzeigefinger': 14778, 'aushalten': 14779, 'gegenwind': 14780, 'buchlaeden': 14781, 'verweigern': 14782, 'leiter': 14783, 'desselben': 14784, 'kleines': 14785, 'vorhand': 14786, 'politikermuell': 14787, 'atommuell': 14788, 'strahlende': 14789, 'aussicht': 14790, 'abzuwenden': 14791, 'erstattet': 14792, '17uhr5': 14793, 'fliessendem': 14794, 'alda': 14795, 'achta': 14796, 'ketten': 14797, 'karussell': 14798, 'stinken': 14799, 'bereut': 14800, 'bedaue': 14801, 'guenstige': 14802, 'beeinflusst': 14803, 'wissens': 14804, 'laengen': 14805, 'populistischer': 14806, 'jot': 14807, 'konzernen': 14808, 'aldi': 14809, 'sexistisch': 14810, 'peternherold': 14811, 'hihi': 14812, 'diesjaehrigen': 14813, 'leichtigkeit': 14814, 'menschheitsverbrechen': 14815, 'enhaelt': 14816, 'psycho': 14817, 'marionhorn': 14818, 'jessenphil': 14819, 'leogfischer': 14820, 'galt': 14821, 'saarlaendische': 14822, 'rechtschreibverordnung': 14823, 'entgegenzutreten': 14824, 'intentionen': 14825, 'lokalzeit': 14826, 'mordmeldungen': 14827, 'bereicherungen': 14828, 'eritraeer': 14829, 'neusta': 14830, 'hinlegt': 14831, 'fluechtlingshelferin': 14832, 'gluehende': 14833, 'traenen': 14834, 'ruehrung': 14835, 'anmerkungen': 14836, 'eingearb': 14837, 'druckversion': 14838, 'ausgebuegelt': 14839, 'korr': 14840, '75': 14841, 'multos': 14842, 'annos': 14843, 'langjaehriger': 14844, 'kollege': 14845, 'haushaltsausschuss': 14846, 'ewald': 14847, 'schurer': 14848, 'rip': 14849, 'banale': 14850, 'boulevard': 14851, 'ske': 14852, 'essentiellen': 14853, 'milvus84': 14854, 'abgeschrieben': 14855, 'initiative': 14856, 'bichtemann': 14857, 'geschweige': 14858, 'todesumstaende': 14859, 'almanuser': 14860, 'kcharlesw732': 14861, 'noske': 14862, 'bluthund': 14863, 'salz': 14864, 'erfaeh': 14865, 'meinungsbilder': 14866, 'idahot2017': 14867, 'rathausmarkt': 14868, 'verniedlicht': 14869, 'gleichgeschaltetes': 14870, 'geilheit': 14871, 'umschalter': 14872, 'steuermehreinnahmen': 14873, 'gestopft': 14874, 'steuergeschenken': 14875, 'bezweifle': 14876, 'verseuchte': 14877, 'bereinigt': 14878, 'zeitweisige': 14879, 'duldung': 14880, 'ausbeutung': 14881, 'sozialgelder': 14882, 'panie': 14883, 'huehnchen': 14884, 'fettig': 14885, 'straft': 14886, 'prompt': 14887, 'uebelkeit': 14888, 'industriell': 14889, 'vernichteten': 14890, 'gnadengesuch': 14891, 'spuerbar': 14892, 'cimzeciz': 14893, 'gutreden': 14894, 'malt': 14895, 'moerderin': 14896, 'gruppierungen': 14897, 'hoechstem': 14898, 'barbarafische19': 14899, 'buntewelt1966': 14900, 'tandemvipera': 14901, 'buchholz': 14902, 'skakeller': 14903, 'terryreintke': 14904, 'max': 14905, 'lucks': 14906, 'kahrs': 14907, 'verbale': 14908, 'totschlagkeulen': 14909, 'ueberschrift': 14910, 'vernunftbegabte': 14911, 'mossad': 14912, 'geschenkt': 14913, 'bereiche': 14914, 'museums': 14915, 'kursker': 14916, 'bogen': 14917, 'sowjetrecht': 14918, 'igelei': 14919, 'davidstern': 14920, 'sprechchoeren': 14921, 'streicht': 14922, 'weltweite': 14923, 'sorgten': 14924, 'logisch': 14925, 'schulgeneration': 14926, 'indoktrinie': 14927, 'blacky3976': 14928, 'infoleonhardt': 14929, 'kinderheim': 14930, 'bereiten': 14931, 'ausgangssperre': 14932, 'seminar': 14933, 'dauerzustand': 14934, 'jaaaaaaaaaa': 14935, 'hmmmmmmmmmmm': 14936, 'zahlte': 14937, 'schweinemedien': 14938, 'karcsi3000': 14939, 'drastische': 14940, 'eurokraten': 14941, 'mitgliedslaendern': 14942, 'meilenweit': 14943, 'vorbeigeht': 14944, 'bohlen': 14945, 'auftrieb': 14946, 'tippeln': 14947, 'nichtsnutziges': 14948, 'lumpenpack': 14949, 'anwendung': 14950, 'prinzips': 14951, 'gefaelschten': 14952, 'gesunde': 14953, 'einwanderungspolitik': 14954, 'verwirklichen': 14955, 'einklang': 14956, 'regelwerk': 14957, 'sven': 14958, 'kindler': 14959, 'keinerentemit70': 14960, 'tuerkisches': 14961, 'erdferkel': 14962, 'dpolghh': 14963, 'dpolgberlin': 14964, 'bz': 14965, 'nachtfloh': 14966, 'strassenseite': 14967, 'wechsle': 14968, 'aggressivitaet': 14969, 'vermeintl': 14970, 'erhabenheit': 14971, 'tschipanski': 14972, 'digitalpakt': 14973, 'bekanntlich': 14974, 'schneider': 14975, 'afdkompakt': 14976, 'gebiet': 14977, 'kohlenpott': 14978, 'gelsenkirchen': 14979, 'gas': 14980, 'hetzerreligion': 14981, 'zukunftsfaehige': 14982, 'migrations': 14983, 'integrationspolitik': 14984, 'keth': 14985, 'ausreisen': 14986, 'korb': 14987, 'armenier': 14988, 'jetz': 14989, 'annotator': 14990, 'caesarion2': 14991, 'daesh': 14992, 'unterstreichen': 14993, 'eilsnehmer': 14994, 'bildnis': 14995, 'walsberger49': 14996, 'todenhoefer': 14997, 'islamlobbyist': 14998, 'einflussreich': 14999, 'digitalciti88': 15000, 'lobte': 15001, 'fussfessel': 15002, 'auchen': 15003, 'wikinger': 15004, 'finanzamt': 15005, 'versicherungen': 15006, 'icken': 15007, 'arabis': 15008, 'germanische': 15009, 'abstammungsprinzip': 15010, 'erodieren': 15011, 'pressegespraech': 15012, 'gestrigen': 15013, 'jungerecato': 15014, 'pappa': 15015, 'grundwe': 15016, 'ekommission': 15017, 'berechenbar': 15018, 'abgespeiche': 15019, 'vorschlaghammer': 15020, 'schmunzeln': 15021, 'ueberdurchschnittlich': 15022, 'abgrund': 15023, 'palaestinensische': 15024, 'angemeldet': 15025, 'durchfuehrung': 15026, 'veranstaltungen': 15027, 'mehrausgaben': 15028, 'aufreger': 15029, 'britgirly': 15030, 'originalton': 15031, 'verachten': 15032, 'psychotherapie': 15033, 'durchzubekommen': 15034, 'deranschlag': 15035, 'dieeditrix': 15036, 'verlieben': 15037, 'linda': 15038, 'jugendkultur': 15039, 'fussssall': 15040, 'bulimie': 15041, 'paul': 15042, 'newman': 15043, 'pfiffige': 15044, 'hol': 15045, 'hohen': 15046, 'klettern': 15047, 'tatenhungrig': 15048, 'unterbindet': 15049, 'kletterei': 15050, 'eie': 15051, 'schlau': 15052, 'beluegt': 15053, 'huld': 15054, 'gad': 15055, 'vorbeigekommen': 15056, 'unfaehigsten': 15057, 'bekleiden': 15058, 'ministerien': 15059, 'angestellt': 15060, 'landdervollidioten': 15061, 'jani': 15062, 'wucht': 15063, 'deutschlandweit': 15064, 'namensaenderung': 15065, 'wintermarkt': 15066, 'kanzlerkandidaten': 15067, 'abgebrochen': 15068, 'unwaehlbar': 15069, 'niedrigstem': 15070, 'totul69': 15071, 'intensiv': 15072, 'wetterbedingt': 15073, 'umwegen': 15074, 'pastoralkonferenz': 15075, 'kirchenrechtlich': 15076, 'weilt': 15077, 'hinterlassenschaft': 15078, 'karneval': 15079, 'herrlicher': 15080, 'vorarlberg': 15081, 'genners': 15082, 'verleitung': 15083, 'verflechtungen': 15084, 'dokumentieren': 15085, 'bestuerzt': 15086, 'zentralkomitees': 15087, 'iltizog': 15088, 'fctoto': 15089, 'sturmdaniel': 15090, 'things': 15091, 'restyle1991': 15092, 'satter': 15093, 'pope': 15094, 'hungrigen': 15095, 'fastens': 15096, 'bloeder': 15097, 'rudolfstroheim': 15098, 'monikaatombusen': 15099, 'caritativen': 15100, 'kirch': 15101, 'landesregierung': 15102, 'asylleistungen': 15103, 'tellerrand': 15104, 'hinausschauen': 15105, 'tageszeitung': 15106, 'zunahme': 15107, 'rassisitischer': 15108, 'inflationaeren': 15109, 'bschweinsteiger': 15110, 'anaivanovic': 15111, 'himmlische': 15112, 'schlechteren': 15113, 'ua': 15114, 'parliament': 15115, 'hromadske': 15116, 'euromaidanpr': 15117, 'tausch': 15118, 'peinliche': 15119, 'altersbestimmung': 15120, 'pmkrechts': 15121, 'entmuendigen': 15122, 'erwaehnenswe': 15123, 'grippewelle': 15124, 'bulgarireif': 15125, 'entstellt': 15126, 'kuemmere': 15127, 'schwarzenampel': 15128, 'verbrech': 15129, 'befeuern': 15130, 'demokratischen': 15131, 'zusammenstehen': 15132, 'ticket': 15133, 'euern': 15134, 'sicherheitspersonal': 15135, 'busse': 15136, 'sim': 15137, 'bernhardwasel': 15138, 'diskussionspa': 15139, 'verknuepften': 15140, 'familiengeschichte': 15141, 'heulsuse': 15142, 'tellonym': 15143, 'volksverraetern': 15144, 'gewalttaetern': 15145, 'sugarmama': 15146, 'dimension': 15147, 'crystall': 15148, 'faktencheck': 15149, 'hoechstpersoenlich': 15150, 'mccrushi': 15151, 'buddhine1970': 15152, 'vorfreude': 15153, 'rinken': 15154, 'rettungsring': 15155, 'spielraum': 15156, 'oekumenischen': 15157, 'thoma': 15158, 'oekumene': 15159, 'paddema': 15160, 'mqua': 15161, 'baelle': 15162, 'gekriegt': 15163, 'hinterlist': 15164, 'rezeptionsfaehigkeiten': 15165, '10000': 15166, 'islamistischen': 15167, 'taxikosten': 15168, 'eingerechnet': 15169, 'relation': 15170, 'noeoeoeoe': 15171, 'pfiffig': 15172, 'chvoyage': 15173, 'susiansujali': 15174, 'rechtspopulistisch': 15175, 'nerv': 15176, 'antiisraelisch': 15177, 'vormaerzv2': 15178, 'uliwatcher': 15179, 'huebner': 15180, 'klueger': 15181, 'merretz': 15182, 'helene': 15183, 'bumsen': 15184, 'kondom': 15185, 'kurd': 15186, 'gebieten': 15187, 'fluechtlingsbetreuung': 15188, 'westlichen': 15189, 'alleingelassen': 15190, 'brise': 15191, 'nationalstolz': 15192, 'heuchlerische': 15193, 'terminen': 15194, 'hauptausschusses': 15195, 'angekratzte': 15196, 'msmedien': 15197, 'politpupe': 15198, 'bewirken': 15199, 'gehwaehlen': 15200, 'btw13': 15201, 'derliuhvan': 15202, 'orsolasusan': 15203, 'vergleiche': 15204, 'bildungsabschluesse': 15205, 'einreisechance': 15206, 'richtet': 15207, 'verkommem': 15208, 'geschaeften': 15209, 'beardedguy80': 15210, 'dezernat': 15211, 'nadjam1980': 15212, 'emrecan88179995': 15213, 'alfreddraxler': 15214, 'hoffenheim': 15215, 'besseren': 15216, 'kommentatoren': 15217, 'urinal': 15218, 'entsprechen': 15219, 'sbg1s': 15220, 'verleumden': 15221, 'kahanen': 15222, 'attackieren': 15223, 'rubbersoul20': 15224, 'strange': 15225, 'malteoppermann': 15226, 'mitgliederentscheidungen': 15227, 'thkreher': 15228, 'paulehasi13': 15229, 'sis': 15230, 'effizienter': 15231, 'zack': 15232, 'volksgenossen': 15233, 'bekannte': 15234, 'ruestungsfirma': 15235, 'grenzmauern': 15236, 'palestinensern': 15237, 'sicherste': 15238, 'unueberwindlichste': 15239, 'grenzmauer': 15240, 'alicebota': 15241, 'zois': 15242, 'veser': 15243, 'erstaunliche': 15244, 'hauptgrund': 15245, 'vernachlaessigung': 15246, 'halbinsel': 15247, 'thesittingpanda': 15248, 'amarienbad': 15249, 'lebenslaenglich': 15250, 'giebt': 15251, 'lupe': 15252, 'einz': 15253, 'estland': 15254, 'doodoofist': 15255, 'waehlten': 15256, 'strohdumm': 15257, 'referendum': 15258, 'analysen': 15259, 'inhaftie': 15260, 'weltmeisterschaft': 15261, 'rsi99': 15262, 'vorigen': 15263, 'steuerbetrug': 15264, 'ausgemuste': 15265, 'eidigung': 15266, 'verdeidigen': 15267, 'mohnfelder': 15268, 'smegworx': 15269, 'angehoeren': 15270, 'abschafft': 15271, 'grundlegend': 15272, 'indie': 15273, 'informiere': 15274, 'haushalten': 15275, 'gebuehr': 15276, 'auferlegt': 15277, 'ausgetreten': 15278, 'noblessefatigue': 15279, 'unschuldige': 15280, 'gekoepft': 15281, 'anpacken': 15282, 'haniawiatrek': 15283, 'pudern': 15284, 'park': 15285, 'podiumsdiskussion': 15286, 'islamkritik': 15287, 'islamphobie': 15288, 'hoersaal': 15289, '1098': 15290, 'ebmuc': 15291, 'spendet': 15292, 'katastrophenfonds': 15293, 'caritas': 15294, 'ci': 15295, 'erdbebenopfer': 15296, 'bangladesch': 15297, 'gefluechtet': 15298, 'einreist': 15299, 'verspielt': 15300, 'runaway4health': 15301, 'anerkannten': 15302, 'faktor': 15303, 'zuwerden': 15304, 'likud': 15305, 'beitenu': 15306, 'avigdorliberman': 15307, 'gedeutet': 15308, 'denunzie': 15309, 'siemens': 15310, 'bosse': 15311, 'massiven': 15312, 'arbeitsplatzabbau': 15313, 'palme': 15314, 'geduldet': 15315, 'klappen': 15316, 'nicolaus': 15317, 'dickerchen': 15318, 'pubst': 15319, 'beschraenkung': 15320, 'formalen': 15321, 'betreuung': 15322, 'lospoehlen': 15323, 'taete': 15324, 'benweinthal': 15325, 'ausgerichtet': 15326, 'ottensen': 15327, 'hochzupuschen': 15328, 'fritzusa': 15329, 'vervollstaendigen': 15330, 'walten': 15331, 'anfangs': 15332, 'haftbefehl': 15333, 'peitsche': 15334, 'revidie': 15335, 'daheim': 15336, 'ausgebildet': 15337, 'sylbewerber': 15338, 'weihbischof': 15339, 'saechsisch': 15340, 'niederlassen': 15341, 'zweit': 15342, 'gerettet': 15343, 'zurueckgebracht': 15344, 'noetigen': 15345, 'blitz': 15346, 'juengsten': 15347, 'ungarischen': 15348, 'asylgesetze': 15349, 'rueckueberstellungen': 15350, 'eyadhadrous': 15351, 'weisheit': 15352, 'ermahnung': 15353, 'wahrlich': 15354, 'abgekommen': 15355, 'rechtgeleiteten': 15356, 'bekraeftigt': 15357, 'isral': 15358, 'gelaehmter': 15359, 'ausreden': 15360, 'schnellsten': 15361, 'oha': 15362, 'landesverband': 15363, 'generalsekretaer': 15364, 'jubw': 15365, 'betet': 15366, 'bischofschick': 15367, 'gebetstag': 15368, 'lobt': 15369, 'designie': 15370, 'schmunzelnd': 15371, 'schmunzeleien': 15372, 'erahnen': 15373, 'daemlichste': 15374, 'klatscht': 15375, 'jubelt': 15376, 'scootergate': 15377, 'arschlecken': 15378, 'putschregimes': 15379, '40ern': 15380, 'kugelschreibereintraege': 15381, 'fakes': 15382, 'nachweist': 15383, 'afrikanisch': 15384, 'amen': 15385, 'angies': 15386, 'baltikum': 15387, 'muspell': 15388, 'blablablabla': 15389, 'schall': 15390, 'rauch': 15391, 'volmi6': 15392, 'dwn': 15393, 'hinaufwandern': 15394, 'rechtsradikales': 15395, 'attentat': 15396, 'ausmass': 15397, 'nazidiffamierung': 15398, 'einschuechtern': 15399, 'trumps': 15400, 'arndt': 15401, 'klocke': 15402, 'monaneubaur': 15403, 'abaerbock': 15404, 'wibkegt': 15405, 'vion': 15406, 'verneigt': 15407, 'abgesaegten': 15408, 'stuhlbeine': 15409, 'aufzuheben': 15410, 'faengst': 15411, 'corporate': 15412, 'media': 15413, 'rangie': 15414, 'level': 15415, 'ze': 15416, 'retenen': 15417, 'kakalake': 15418, 'drunter': 15419, 'interpunktion': 15420, 'feinden': 15421, 'zwecke': 15422, 'koko': 15423, 'ueberstimmen': 15424, 'reichte': 15425, 'wirklichkeit': 15426, 'hakan': 15427, 'ta': 15428, 'beschimpfte': 15429, 'ausgemacht': 15430, 'hakantasberlin': 15431, 'entlohnt': 15432, 'theresa': 15433, 'inwieweit': 15434, 'vorbeischauen': 15435, 'ukw11': 15436, 'stoerend': 15437, 'kostenlos': 15438, 'eingeknickt': 15439, 'nazimedien': 15440, 'undefinierbare': 15441, 'hafersuppe': 15442, 'hole': 15443, 'janfleischhauer': 15444, 'kriminologe': 15445, 'pfeifersollte': 15446, 'getestet': 15447, 'hausaufgaben': 15448, 'polie': 15449, 'van': 15450, 'verne': 15451, 'gereicht': 15452, 'altabt': 15453, 'existenzminimum': 15454, 'geldstrafen': 15455, 'amok': 15456, 'taeterschutz': 15457, 'hate': 15458, 'ignoriere': 15459, 'kuehnikev': 15460, 'angeschaut': 15461, 'suuuuper': 15462, 'eindrucksvoll': 15463, 'anmitja': 15464, 'besondere': 15465, 'liebli': 15466, 'ngsfrau': 15467, 'rasanten': 15468, 'kirchensteuer': 15469, 'trete': 15470, 'repraesentativer': 15471, 'shieldlive': 15472, 'agie': 15473, 'aras': 15474, 'bacho': 15475, 'moeglicherweise': 15476, 'bott': 15477, 'avatar': 15478, 'verabschiede': 15479, 'verweisen': 15480, 'mahnwachen': 15481, 'bildungsprojekte': 15482, 'muslimisch': 15483, 'vernichtungssumpf': 15484, 'pickeltraeger': 15485, 'primark': 15486, 'boykottiere': 15487, 'anbeginn': 15488, 'ausbeuter': 15489, 'qualitaetsgeschaefte': 15490, 'billigketten': 15491, 'weichen': 15492, 'staatsoberhaeupter': 15493, 'verstaendlicher': 15494, 'erbsengroesse': 15495, 'aufgeblasen': 15496, 'belastungsmaterial': 15497, 'stockl': 15498, 'quotenve': 15499, 'diaetenerhoehungen': 15500, 'plasberg': 15501, 'dummbacke': 15502, 'jauch': 15503, 'staasistein': 15504, 'zitats': 15505, 'katastrophales': 15506, 'musilme': 15507, 'islamophoben': 15508, 'denkmustern': 15509, 'bremer': 15510, 'hauptamtliche': 15511, 'versorgen': 15512, 'oooooh': 15513, 'menschenschutzbund': 15514, 'menschenwohl': 15515, 'dodelhodel': 15516, 'fas': 15517, 'unkenntnis': 15518, 'lauts': 15519, 'ravensdownfall': 15520, 'geschichts': 15521, 'powi': 15522, 'leistungskurs': 15523, 'mausraster': 15524, 'eierlosen': 15525, 'oblaten': 15526, 'steak': 15527, 'zentralrats': 15528, 'leugnung': 15529, 'betreibe': 15530, 'entsprechende': 15531, 'unterlassungserklaerung': 15532, 'rausgerutscht': 15533, 'stapeln': 15534, 'wehrlos': 15535, 'weiber': 15536, 'geil': 15537, 'spdund': 15538, 'puppe': 15539, 'angezogen': 15540, 'kent': 15541, 'reichsuniform': 15542, 'oent': 15543, 'religionsg': 15544, 'repraesentieren': 15545, 'trittbrettfahrer': 15546, 'nahostkonflikt': 15547, 'affinen': 15548, 'meinungsmache': 15549, 'anina': 15550, 'hundekeks': 15551, 'oehm': 15552, 'komplette': 15553, 'vorenthalten': 15554, 'abschiebehaft': 15555, 'kleinsten': 15556, 'unverzichtbarsten': 15557, 'sinnlos': 15558, 'keuschheits': 15559, 'kanns': 15560, 'politikerle': 15561, 'minderjaehrig': 15562, 'eingestuft': 15563, 'sabotage': 15564, 'oberguru55': 15565, 'volksfeindliche': 15566, 'mundtot': 15567, 'untermenschen': 15568, 'ehrenwe': 15569, 'linnkuppitz': 15570, 'migationshintergrund': 15571, 'integrationslotte': 15572, 'aydan': 15573, 'leutealte': 15574, 'zitate': 15575, 'vorbote': 15576, 'vorreiter': 15577, 'erloeser': 15578, 'realdonaldtrump': 15579, 'ueberstehen': 15580, 'lieblings': 15581, 'chinese': 15582, 'isst': 15583, 'sehnlichst': 15584, 'untergeht': 15585, 'unbrauchbar': 15586, 'sichtbar': 15587, 'staasfunk': 15588, 'fernsehprogramm': 15589, 'funkour': 15590, 'grammatikfehle': 15591, 'feiner': 15592, 'diplomatischen': 15593, 'reflektieren': 15594, 'landfriedenbruch': 15595, 'westbhf': 15596, 'rapid274': 15597, 'fluchthilfeprozess': 15598, 'muddalekken': 15599, 'tausche': 15600, 'murmel': 15601, 'feindliche': 15602, 'pferdesauerbraten': 15603, 'norddeutsch': 15604, 'nachtrag': 15605, 'rechtsextreme': 15606, 'paedophilen': 15607, 'holocaustleugnung': 15608, 'verehrung': 15609, 'draengt': 15610, 'verdacht': 15611, 'alfonsmark1': 15612, 'jewishagency': 15613, 'zwstgermany': 15614, 'hilfsprogramme': 15615, 'ueberlesen': 15616, 'thetravel0': 15617, 'zunehmenden': 15618, 'rubenneugebauer': 15619, 'zustaendige': 15620, 'abgehalfte': 15621, 'durchschaubare': 15622, 'ueberlegenen': 15623, 'rattenfaenger': 15624, 'ww2': 15625, 'gaswagen': 15626, 'abgasen': 15627, 'zyklon': 15628, 'bolschewik': 15629, 'infiltrator': 15630, 'hapatamast': 15631, 'bjoernhoecke': 15632, 'moellerafd': 15633, 'gleichheitsgrundsatz': 15634, 'unverdiente': 15635, 'ninchen': 15636, 'galileo': 15637, 'letztens': 15638, 'angefragt': 15639, 'neeneenee': 15640, 'schraege': 15641, '4jahren': 15642, 'christentums': 15643, 'alqudsday': 15644, 'nahost': 15645, 'luedke': 15646, 'reichtum': 15647, 'stehenden': 15648, 'mitleidserregend': 15649, 'jahresabonnement': 15650, 'bildzeitung': 15651, 'linderung': 15652, 'verschafft': 15653, 'schuppen': 15654, 'reichweite': 15655, 'eucopresident': 15656, 'blogbeitrag': 15657, 'demografischen': 15658, 'hintergedanken': 15659, 'grenzoeffnung': 15660, 'recherchen': 15661, 'demographische': 15662, 'mitgepraegt': 15663, 'existenzielle': 15664, 'migrationsgesetz': 15665, 'boesen': 15666, 'sonderlich': 15667, 'ideologischen': 15668, 'amuesant': 15669, 'trans': 15670, 'sunsetmission69': 15671, 'rechtsterrorismus': 15672, 'riesiges': 15673, 'skopelosgreece': 15674, 'reichsvikar': 15675, 'ohnewo': 15676, 'e2015': 15677, 'nutzte': 15678, 'gemordet': 15679, 'katalanen': 15680, 'ausgangspunkt': 15681, 'lydia': 15682, 'ruisch': 15683, '20jaehrige': 15684, 'jubilaeum': 15685, 'frauenordination': 15686, 'durften': 15687, 'wahlleiter': 15688, 'justinakilinski': 15689, 'pengberlin': 15690, 'btw2017': 15691, 'beobachtung': 15692, 'aufsicht': 15693, 'wiederbeleben': 15694, 'tuns': 15695, 'mischka815': 15696, 'militaerpolizei': 15697, 'regimentsstaerke': 15698, 'gitmo': 15699, 'arifkoray': 15700, 'nachnamen': 15701, 'ueberzeugender': 15702, 'zuwanderungsfragen': 15703, 'grundrechte': 15704, 'sonnenblume': 15705, 'halbmond': 15706, 'rotem': 15707, 'tuch': 15708, 'niederlanden': 15709, 'flugzeuglandungen': 15710, 'meidung': 15711, 'mitbuerger': 15712, 'rentenkassen': 15713, 'angriffskrieg': 15714, 'ruestet': 15715, 'kopponline': 15716, 'ndrstrapp': 15717, 'echtes': 15718, 'empathie': 15719, 'heuchlerischem': 15720, 'gutmenschentum': 15721, 'sprotte': 15722, 'weggemacht': 15723, 'mieseehre': 15724, 'homobeck': 15725, 'beeindruckende': 15726, 'lebzelten': 15727, 'taig': 15728, 'nimbt': 15729, 'hoenig': 15730, 'lasts': 15731, 'guette': 15732, 'stundt': 15733, 'sieden': 15734, 'gewirz': 15735, 'darein': 15736, 'pfeffer': 15737, 'zimet': 15738, 'aenis': 15739, 'coriander': 15740, 'dises': 15741, 'gewuerz': 15742, 'zwen': 15743, 'daig': 15744, 'leckere': 15745, 'eingespritzt': 15746, 'herunter': 15747, 'nfl': 15748, 'befuerchte': 15749, 'american': 15750, 'football': 15751, 'naher': 15752, 'sky': 15753, 'netflix': 15754, 'profite': 15755, 'erwi': 15756, 'lizenzen': 15757, 'basisgebuehren': 15758, 'ueberlegt': 15759, 'verfassungsfeinde': 15760, 'toren': 15761, 'edelmann': 15762, 'seltsam': 15763, 'gelobt': 15764, 'vordergrund': 15765, 'dschungelcampbewohner': 15766, 'bekennender': 15767, 'uebergutmensch': 15768, 'lasvegasshooter': 15769, 'brainwashed': 15770, 'europagelaber': 15771, 'kotzkraempfe': 15772, 'anschaust': 15773, 'shows': 15774, 'poebel': 15775, 'aktik': 15776, 'ablegt': 15777, 'matthau63': 15778, 'hrbruns': 15779, 'faire': 15780, 'schokolade': 15781, 'gepafai': 15782, 'rade': 15783, 'gebete': 15784, 'blutet': 15785, 'freundschaft': 15786, 'florianeder': 15787, 'dunkel': 15788, 'dacht': 15789, 'caesar': 15790, 'abk': 15791, 'beanspruchte': 15792, 'badenfm': 15793, 'kerstinandreae': 15794, 'suedbadisch': 15795, 'wendlaendisch': 15796, 'reparaturanfaelligen': 15797, 'nunmehr': 15798, 'vergnuegungssteuerpflichtig': 15799, 'schlafen': 15800, 'gemeinhin': 15801, 'ueberschaetzt': 15802, 'zerschlagung': 15803, 'rennen': 15804, 'mcdonald': 15805, 'handys': 15806, 'uebernemen': 15807, 'stichw': 15808, 'projektsflaeche': 15809, 'hergeben': 15810, 'entlastungsdebatte': 15811, 'allesboesekommtvomausland': 15812, 'kingbalance': 15813, 'ratiopharm': 15814, 'verlange': 15815, 'umschreiben': 15816, 'versickern': 15817, 'erschaffen': 15818, 'vollnieten': 15819, 'muddie1960': 15820, 'mainzerin': 15821, 'zi': 15822, 'alternativ': 15823, 'mehrbett': 15824, 'maedelszimmer': 15825, 'auseinanderstrebenden': 15826, 'ekelig': 15827, 'herrchens': 15828, 'wiener': 15829, 'leckerer': 15830, 'delegation': 15831, 'hintergrundwissen': 15832, 'anzueignen': 15833, 'wissenschaftlich': 15834, 'anerzogene': 15835, 'ueberbewe': 15836, 'poestchen': 15837, 'geschmissen': 15838, 'turner': 15839, 'alex': 15840, 'shatilov': 15841, 'bern': 15842, 'bronze': 15843, 'ecbern2016': 15844, 'politmafia': 15845, 'erpresst': 15846, 'unlustiger': 15847, 'spasst': 15848, 'germambteheran': 15849, 'hassanrouhani': 15850, 'lgbtiq': 15851, 'iten': 15852, 'europeanberlin': 15853, 'glatte': 15854, 'treuhandverwaltung': 15855, 'erfolgte': 15856, 'beitreten': 15857, 'hohes': 15858, 'giraffe': 15859, 'auffaell': 15860, 'ehemal': 15861, 'grenzuebergangseinrichtungen': 15862, 'bewundernswe': 15863, 'linkenwaehlerin': 15864, '25jaehrigen': 15865, 'traeumten': 15866, 'stellte': 15867, 'herrlich': 15868, 'einkaufszentren': 15869, 'stressfreies': 15870, 'baiser': 15871, 'golob': 15872, 'vanmeeren': 15873, 'prof': 15874, 'motsch': 15875, 'stump': 15876, 'dreixler': 15877, 'sippenhaft': 15878, 'nattl': 15879, 'verschwinde': 15880, 'geschlossenem': 15881, 'vorangekommen': 15882, 'lohnen': 15883, 'ratifizieren': 15884, 'messers': 15885, 'beziehungstat': 15886, 'getoetete': 15887, 'laengeres': 15888, 'huellen': 15889, 'shuttleschiffe': 15890, 'schnueffel': 15891, 'engingalaxy': 15892, 'einzeller': 15893, 'ecken': 15894, 'kanten': 15895, 'dorfleiter': 15896, 'gebrechlich': 15897, 'verpruegle': 15898, 'durst': 15899, 'princevince': 15900, 'antonbruckenput': 15901, 'timfelber': 15902, 'honk': 15903, 'schleyer': 15904, 'buback': 15905, 'reker': 15906, 'koe': 15907, 'jahresauftakt': 15908, 'diesozialeopposition': 15909, 'normalen': 15910, 'bietet': 15911, 'geduldig': 15912, 'ragdahd': 15913, 'schuelerin': 15914, 'vorfeld': 15915, 'ottovonbisquark': 15916, 'sarkastisch': 15917, 'bitterboeser': 15918, 'dringt': 15919, 'rationale': 15920, 'weggenazit': 15921, 'louismetapher': 15922, 'duzen': 15923, 'generalverdacht': 15924, 'muslimischislamistischer': 15925, 'eroberer': 15926, 'kapitalverbrechen': 15927, 'damnhotfinn': 15928, 'raditzroman': 15929, 'nachgefragt': 15930, 'jue': 15931, 'sunny': 15932, 'gedaue': 15933, 'herausfinden': 15934, 'notorisch': 15935, 'komplettes': 15936, 'neugier': 15937, 'beispjel': 15938, 'lugner': 15939, 'kuesst': 15940, 'hellste': 15941, 'behaupte': 15942, 'taquia': 15943, 'virzeigemoslems': 15944, 'steffen': 15945, 'gewuenschten': 15946, 'effekt': 15947, 'verbreitest': 15948, 'ursache': 15949, 'humanitaet': 15950, 'kriegstreiber': 15951, 'ragsbedingungen': 15952, 'herbsttreffen': 15953, 'bischoefe': 15954, 'wendel': 15955, 'jugendarbeit': 15956, 'moslime': 15957, 'handschlag': 15958, 'zurueckschickt': 15959, 'fluechtlingspropaganda': 15960, 'bilddung': 15961, 'frauengesundheit': 15962, 'messerattacken': 15963, 'unrealistischer': 15964, 'kluengel': 15965, 'grundgesetze': 15966, 'eiskalt': 15967, 'asylberechtigt': 15968, 'sonne': 15969, 'mitfeiern': 15970, 'wolken': 15971, 'verjagt': 15972, 'prophet': 15973, 'ermutigt': 15974, 'dioezesanjugendpfarrer': 15975, 'harpoel': 15976, 'heino': 15977, 'undeutschen': 15978, 'auslaenderinnen': 15979, 'hinfallen': 15980, 'kalifat': 15981, 'scheibelhut': 15982, 'vereinbarungen': 15983, 'pole': 15984, 'koenne': 15985, 'chefsekretaerin': 15986, 'oberstes': 15987, 'map89': 15988, 'fotografieret': 15989, 'auslacht': 15990, 'verhoehnt': 15991, 'ordnungsresso': 15992, 'zuzuordnen': 15993, 'kernkompetenz': 15994, 'erfrieren': 15995, 'schnel': 15996, 'ueberschuessigen': 15997, 'alexander': 15998, 'schmorells': 15999, 'schreitende': 16000, 'unserem': 16001, 'kenn': 16002, 'kriegsverbrechen': 16003, 'russen': 16004, 'eljahr': 16005, 'ergebnisoffen': 16006, 'durchsetzt': 16007, 'obdachlos': 16008, 'luisastella9': 16009, 'vermutet': 16010, 'bevoelkerungsaustausch': 16011, 'populistiker': 16012, 'gueha': 16013, 'dickebacken': 16014, 'lachnimmer': 16015, 'anarchos': 16016, 'eingezahlt': 16017, 'blechen': 16018, 'versyphten': 16019, 'eventuel': 16020, 'freggel': 16021, 'hoechster': 16022, 'gagaberlin': 16023, 'beguenstigter': 16024, 'scherge': 16025, 'kreuzzuege': 16026, 'taniya1311': 16027, 'politschmarotzer': 16028, 'gestrickt': 16029, 'einzugestehen': 16030, 'schweinejournalimus': 16031, 'oppositionpa': 16032, 'zhangdanhong': 16033, 'spdfraktionrlp': 16034, 'erben': 16035, 'einwaende': 16036, 'vorzutragen': 16037, 'keines': 16038, 'daemlichere': 16039, 'blutentnahme': 16040, 'richterlichen': 16041, 'vorgeschrieben': 16042, 'gegenwae': 16043, 'schaebig': 16044, 'mitarbeiterin': 16045, 'migrantenkrieg': 16046, 'schmarotzergegen': 16047, 'schirm': 16048, 'agnostiker': 16049, 'architekten': 16050, 'riesensauerei': 16051, 'hoai': 16052, 'islamunterricht': 16053, 'preisverleihung': 16054, 'bfdt': 16055, 'bpb': 16056, 'brandanschlaege': 16057, 'fluechtlingsunterkuenfte': 16058, 'reiche': 16059, 'verlangen': 16060, 'ersatzteile': 16061, 'dontpokerme': 16062, 'empfaenglicher': 16063, 'verpackte': 16064, 'asto': 16065, 'trink': 16066, 'gefaess': 16067, 'magdalena': 16068, 'rotgruenschwarzgelben': 16069, 'einheitsscheiss': 16070, 'top': 16071, 'poeses': 16072, 'unheilbare': 16073, 'krankheiten': 16074, 'unbekannte': 16075, 'berndulrich': 16076, 'grosstalent': 16077, 'spiels': 16078, 'gereng': 16079, 'verschwoerungstheoretiker': 16080, 'leitungswasser': 16081, 'unterforde': 16082, 'destruktivitaet': 16083, 'passive': 16084, 'katzenbildergleichmut': 16085, 'hab': 16086, 'steinhoefels': 16087, 'wall': 16088, 'shame': 16089, 'vorerst': 16090, 'bedanken': 16091, 'riskie': 16092, 'dichtesten': 16093, 'besiedelten': 16094, 'zaehlt': 16095, '80000000': 16096, 'einwohner': 16097, 'amerikanern': 16098, 'vermisstes': 16099, 'figuren': 16100, 'ah': 16101, 'mordaufruf': 16102, 'allerkluegste': 16103, 'erbaermlicher': 16104, 'elitaeren': 16105, 'dummdeutschen': 16106, 'insel': 16107, 'disziplinarische': 16108, 'resdocs': 16109, 'sakoelabo': 16110, 'kirsche': 16111, 'bar': 16112, 'eingesetzt': 16113, 'kalifats': 16114, 'horst': 16115, 'anarcho161zecke': 16116, 'verschiedenen': 16117, 'vorgesehen': 16118, 'personenstand': 16119, 'buergerpressekonferenz': 16120, 'ausgesuchte': 16121, 'entstehen': 16122, 'subventionspolitik': 16123, 'heribe': 16124, 'prantl': 16125, 'gaulands': 16126, 'eselficker': 16127, 'rolfbold': 16128, 'gefaehrlichste': 16129, 'charlottesville': 16130, 'obergaerig': 16131, 'abgefuellt': 16132, 'grossmaul': 16133, 'verkauften': 16134, 'naives': 16135, 'kontern': 16136, 'krumm': 16137, 'wmeier822': 16138, 'wahlkaempferinnen': 16139, 'denjenigen': 16140, 'weihnachtsbaeume': 16141, 'begruendungen': 16142, 'eifluss': 16143, 'weihnachtsmassaker': 16144, 'eisenhans': 16145, 'kosenahme': 16146, 'spezifisch': 16147, 'schweif': 16148, 'pferdes': 16149, 'pflanzung': 16150, 'jmd': 16151, 'mischpult': 16152, 'mikrofone': 16153, 'anschliessen': 16154, 'leftvisionclips': 16155, 'pk': 16156, 'ausgereist': 16157, 'maerchenerzaehler': 16158, 'gehn': 16159, 'bonkespiegel': 16160, 'kahanestasi': 16161, 'undemokratischere': 16162, 'webseite': 16163, 'weckt': 16164, 'geschimpft': 16165, 'marcbrost': 16166, 'kumpels': 16167, 'fussballclub': 16168, 'geltung': 16169, 'gestze': 16170, 'allahs': 16171, 'klingen': 16172, 'erfolglosen': 16173, 'schwaetzern': 16174, 'derzeitig': 16175, 'identitaer': 16176, 'gaenze': 16177, 'anzustreben': 16178, 'segnet': 16179, 'ghetto': 16180, 'girls': 16181, 'rummachen': 16182, 'anschliessenden': 16183, 'rapes': 16184, 'privilegien': 16185, 'riesig': 16186, 'wahlkreis': 16187, '297': 16188, 'grossem': 16189, 'vorsprung': 16190, 'belaechelt': 16191, 'purlitz': 16192, 'zivilklage': 16193, 'beeilen': 16194, 'eliminatorische': 16195, 'missionieren': 16196, 'pray': 16197, 'claudi': 16198, 'lobbyist': 16199, 'unschuldiger': 16200, 'betreibt': 16201, 'antifant': 16202, 'thesen': 16203, 'vorgae': 16204, 'gepluende': 16205, 'kulleraugenaufschlag': 16206, 'verkaeuferindesmonats': 16207, 'wahrhaften': 16208, 'spannendes': 16209, '6tage1967': 16210, 'sechstagekrieg': 16211, '1967': 16212, 'jerusalems': 16213, 'koepfen': 16214, 'hang': 16215, 'deutschtum': 16216, 'testballon': 16217, 'buetikofer': 16218, 'bezeichnete': 16219, 'schroeders': 16220, 'erniedrigt': 16221, 'duval': 16222, 'toleranter': 16223, 'gelebte': 16224, 'schonlaengerhierlebenden': 16225, 'rapide': 16226, 'grinden': 16227, 'vorverlegt': 16228, 'polizeiministerin': 16229, 'mikl': 16230, 'leitner': 16231, 'kriminalisie': 16232, 'entschaedigungen': 16233, 'qvc': 16234, 'hoff': 16235, 'kernseifenfreier': 16236, 'verstrahlten': 16237, 'garunyak': 16238, 'tobiasmaassen': 16239, 'reinventingeu': 16240, 'konditionen': 16241, 'islamophob': 16242, 'hinsehen': 16243, 'degal': 16244, 'einzustufen': 16245, 'karg': 16246, 'dew': 16247, 'skalar': 16248, 'emp': 16249, 'ect': 16250, 'gezielte': 16251, 'desinformation': 16252, 'schulbildung': 16253, 'informativ': 16254, 'nachfragend': 16255, 'recherchie': 16256, 'richtiger': 16257, 'entitaeten': 16258, 'vermitteln': 16259, '1090': 16260, 'schwersten': 16261, 'vereinigtes': 16262, 'schaftsgebiet': 16263, 'traufe': 16264, 'beleidigungs': 16265, 'volksverhetzungsgesetze': 16266, 'intelligenten': 16267, 'niedrige': 16268, 'beleidigers': 16269, 'medienaufmerksamkeit': 16270, 'rausholen': 16271, 'schlimmster': 16272, 'schamgefuehl': 16273, 'eintritt': 16274, 'osmth': 16275, 'gerechtigkeit01': 16276, 'beduerftigen': 16277, 'erleichtern': 16278, 'geklaut': 16279, 'bauern': 16280, 'linksgruener': 16281, 'humanismus': 16282, 'widerstehen': 16283, 'bonhoeffer': 16284, 'bedb': 16285, 'puetz': 16286, 'aufgewzungen': 16287, '2021': 16288, 'nebensaechlich': 16289, 'kenntnurdasbfv': 16290, 'tippen': 16291, 'dieselskandal': 16292, 'autobosse': 16293, 'viceyberg': 16294, 'gesprungen': 16295, 'entkraeften': 16296, 'juristik': 16297, 'beiseite': 16298, 'schuldsklave': 16299, 'ungehorsam': 16300, '1500': 16301, 'zerfall': 16302, 'rueckzug': 16303, 'unis': 16304, 'produktionen': 16305, 'verharren': 16306, 'mittelalterlichen': 16307, 'religionsstrukturen': 16308, 'gerissen': 16309, 'unterstellung': 16310, 'missbrauchs': 16311, 'unredlich': 16312, 'aufregt': 16313, 'jeromepetrov': 16314, 'grammatik': 16315, 'versypht': 16316, 'header': 16317, 'nasse': 16318, 'lepra': 16319, 'desweiteren': 16320, 'eingebaut': 16321, 'ungeschoente': 16322, 'ekelhafter': 16323, 'beweihraeuchern': 16324, 'gespaltenen': 16325, 'tuerkendoener': 16326, 'nationalgericht': 16327, 'pommesbude': 16328, 'moslemtoast': 16329, 'elfmeterschiessen': 16330, 'laengerem': 16331, 'rechtspopulsitischen': 16332, 'brennden': 16333, 'fluechtlingsunterkuenften': 16334, 'fijipm': 16335, 'antonioguterres': 16336, 'interessanter': 16337, 'asylwahnsinn': 16338, 'abrechnung': 16339, 'erschienen': 16340, 'wachmann': 16341, 'gelabe': 16342, 'atombombe': 16343, 'gaskammer': 16344, 'patssai': 16345, 'asidealex': 16346, 'subjektive': 16347, 'normalitaet': 16348, 'unbeschadet': 16349, 'ludwigslust': 16350, 'parchim': 16351, 'linkebpt': 16352, 'weichenstellungen': 16353, 'anstehen': 16354, 'worrius': 16355, 'geteilt': 16356, 'kompromissbereit': 16357, 'schnittstellen': 16358, 'drittesgeschlecht': 16359, 'blancgrisnoir': 16360, 'rueckmeldung': 16361, 'beitraege': 16362, 'gegenstand': 16363, 'angefeue': 16364, 'cremeherren': 16365, 'pussys': 16366, 'ernstzunehmenden': 16367, 'wahnsinnige': 16368, 'einladung': 16369, 'quietscht': 16370, 'leistungseinschraenkung': 16371, 'verrueckte': 16372, 'auseinandergehaemme': 16373, 'andienen': 16374, 'linkspa': 16375, 'halfen': 16376, 'kriegsgefahr': 16377, 'vonzainach': 16378, 'meisner': 16379, 'verstorben': 16380, 'erzbischof': 16381, 'clemensdiemer': 16382, 'herumgeiste': 16383, 'kombis': 16384, 'bauchfrei': 16385, 'pinke': 16386, 'stilettos': 16387, 'hueftjeans': 16388, 'schminke': 16389, 'verbessere': 16390, 'niquabs': 16391, 'abaja': 16392, 'talibanisierung': 16393, 'spar': 16394, 'rueckfuehrung': 16395, 'claudiaheber': 16396, 'jobwechsel': 16397, 'steuerentlastung': 16398, 'mrd': 16399, 'einkommenssteuer': 16400, 'landgericht': 16401, 'kammer': 16402, 'tendieren': 16403, 'gedeons': 16404, 'gedeckt': 16405, 'mitbuergern': 16406, 'amtsmissbrauch': 16407, 'missbrauchen': 16408, 'bedienstete': 16409, 'hoheits': 16410, 'befugnisse': 16411, 'angestellte': 16412, 'nachhilfetipp': 16413, 'fluechtlingsaufnahme': 16414, 'tokio': 16415, 'hotel': 16416, 'saenger': 16417, 'bill': 16418, 'kaulitz': 16419, 'warme': 16420, 'metall': 16421, 'bulle': 16422, 'nasen': 16423, 'kompetent': 16424, 'ungsvoll': 16425, 'isses': 16426, 'landeszerstoererin': 16427, 'flanie': 16428, 'dummys': 16429, 'diktaturgewinnler': 16430, 'seinerzeit': 16431, 'betteldiktator': 16432, 'blutkahane': 16433, 'anboe65': 16434, 'daemlicher': 16435, 'billig': 16436, 'bdk': 16437, 'buvo': 16438, 'andischeuer': 16439, 'buss': 16440, 'bettag': 16441, 'ausgespr': 16442, 'argumentiere': 16443, 'blitzbirnen': 16444, 'jederfrau': 16445, 'juliane': 16446, 'seife': 16447, 'goetageblatt': 16448, 'jetzigen': 16449, 'jamaikaner': 16450, 'wahldebakels': 16451, 'machtgerangels': 16452, 'farbaenderung': 16453, 'laktoseintolleranz': 16454, 'milchprodukte': 16455, 'labor': 16456, 'freundes': 16457, 'tw': 16458, 'jensmeier': 16459, 'ausgesprochen': 16460, 'kreischen': 16461, 'luegendaemonen': 16462, 'buh': 16463, 'haftrichter': 16464, 'schwindet': 16465, 'gefaelligst': 16466, 'aufbauen': 16467, 'durchlesen': 16468, 'melan': 16469, 'zerstoerer': 16470, 'zerstoererin': 16471, 'chronik': 16472, 'befiehlt': 16473, 'urheberrechtliche': 16474, 'ausrede': 16475, 'sieb': 16476, 'pfeift': 16477, 'senil': 16478, 'erkrankt': 16479, 'hanvollenweider': 16480, 'rasch': 16481, 'totaler': 16482, 'schulzeit': 16483, 'trockener': 16484, 'citius': 16485, 'ius': 16486, 'rattenpack': 16487, 'lebensehen': 16488, 'yanet': 16489, 'klimapolitik': 16490, 'unrealistisch': 16491, 'packwelcome': 16492, 'telefonbuch': 16493, 'quereinsteiger': 16494, 'master': 16495, 'abschliessen': 16496, 'ungern': 16497, 'zahn': 16498, 'erfolgreichen': 16499, 'schwarzblau': 16500, 'alleingelassenen': 16501, 'rucksaecke': 16502, 'pakete': 16503, 'plaetzen': 16504, 'weihnachtsmaerkten': 16505, 'spengstoffspeziallisten': 16506, 'konsequenz': 16507, 'lasse': 16508, 'unkommentie': 16509, 'aether': 16510, 'pusten': 16511, 'papa': 16512, 'augenwischerei': 16513, 'klauende': 16514, 'grabschende': 16515, 'drogenve': 16516, 'ickende': 16517, 'aergernis': 16518, 'besagten': 16519, 'adressieren': 16520, 'bedrohen': 16521, 'lucabrunsch': 16522, 'europaweit': 16523, 'anderswo': 16524, 'verdrehung': 16525, 'syndrom': 16526, 'beworfen': 16527, 'rechtsbeugung': 16528, 'herzenslust': 16529, 'abzuwandeln': 16530, 'auszutauschen': 16531, 'anwenden': 16532, 'euer': 16533, 'twitteraccount': 16534, 'eingeschlafen': 16535, 'musstet': 16536, 'regierungspraesidium': 16537, 'landratsamt': 16538, 'einholen': 16539, 'burkha': 16540, 'guenem': 16541, 'verschwulter': 16542, 'braunhaeutiger': 16543, 'federboa': 16544, 'herrgott': 16545, 'clavelina18': 16546, 'nuetzen': 16547, 'les': 16548, 'tendiere': 16549, 'schnappatmung': 16550, 'abendtermine': 16551, 'mettwoch': 16552, 'herzkasper': 16553, 'guckt': 16554, 'nullpe': 16555, 'darksideoftheeg': 16556, 'kinderfi': 16557, 'attestie': 16558, 'erhoehten': 16559, 'ernaehrungsbedarf': 16560, 'chronischer': 16561, 'krankheit': 16562, 'ausgewog': 16563, 'schmierfinken': 16564, 'melkt': 16565, 'untergangs': 16566, 'beschleuniger': 16567, 'general': 16568, 'aung': 16569, 'hlaing': 16570, 'burmesischen': 16571, 'hoeflichkeitsbesuch': 16572, 'ausgetauscht': 16573, 'schenkte': 16574, 'medaille': 16575, 'besuchs': 16576, 'harfe': 16577, 'verzie': 16578, 'reissschuessel': 16579, 'popeinmyanmar': 16580, 'philosoph': 16581, 'einsichten': 16582, 'adrianlorenz3': 16583, 'sahra': 16584, 'fraktion': 16585, 'betreuungsfamilie': 16586, 'buergt': 16587, 'andi': 16588, 'bielefeld': 16589, 'pit': 16590, 'clausen': 16591, 'laberarsch': 16592, 'koeter': 16593, 'tuerkenvater': 16594, 'zwinger': 16595, 'schieflage': 16596, 'hierzuande': 16597, 'bisweilen': 16598, 'anschluss': 16599, 'schmeckte': 16600, 'ion': 16601, 'maekel123': 16602, 'kuerzen': 16603, 'schieritz': 16604, 'steuersenkungen': 16605, 'versprachen': 16606, 'ildefons': 16607, 'floetzinger': 16608, 'schreinermeister': 16609, '1952': 16610, 'konzentrationslager': 16611, 'hausipanam': 16612, 'brennende': 16613, 'todesaufrufe': 16614, 'hassparolen': 16615, 'pietaetlose': 16616, 'zuerich': 16617, 'beschuetzen': 16618, 'aufregen': 16619, 'deutschsein': 16620, 'plaene': 16621, 'fremdsprache': 16622, 'tueten': 16623, 'erfreuliches': 16624, 'lesben': 16625, 'progrom': 16626, 'mauerfall': 16627, '9november': 16628, 'neverforget': 16629, 'staedtebauliche': 16630, 'raumordnung': 16631, 'siehste': 16632, 'wusst': 16633, 'massenansturm': 16634, 'rueckfuehrungspolitik': 16635, 'tougher': 16636, 'elsmannst': 16637, 'barbarei': 16638, 'beliefe': 16639, 'eue': 16640, 'rigaer': 16641, 'kriminalitaetsbelasteter': 16642, 'haeufung': 16643, 'motivie': 16644, 'erlebnisbereich': 16645, 'moslemischer': 16646, 'lebensfreude': 16647, 'mazyek': 16648, 'sexuellen': 16649, 'katrin': 16650, 'dagmar': 16651, 'wolframwagner': 16652, 'frauentyp': 16653, 'fuad': 16654, 'afane': 16655, 'intifada': 16656, 'unruhig': 16657, 'theologische': 16658, 'kirchenrecht': 16659, 'verfuettern': 16660, 'dpd': 16661, 'bote': 16662, 'zaun': 16663, 'matsch': 16664, 'laeuten': 16665, 'servicewueste': 16666, 'nazifilme': 16667, 'verschnitt': 16668, 'vorgesetzt': 16669, 'zeitalter': 16670, 'halbzeit': 16671, 'personalstand': 16672, 'ausruestung': 16673, 'webfailde': 16674, 'nachgewuerzt': 16675, 'kraeuter': 16676, 'uppsala': 16677, 'kirchengemeinschaft': 16678, 'cassiopeiacomp': 16679, 'gell': 16680, 'unmengen': 16681, 'taxigeld': 16682, 'uhrzeiten': 16683, 'piratenlily': 16684, 'piraten': 16685, 'jan': 16686, 'raudszus': 16687, 'geforde': 16688, 'schleuser': 16689, 'emineelshabazz': 16690, 'emine': 16691, 'koenntest': 16692, 'workshops': 16693, 'lokalgruppen': 16694, 'hofft': 16695, 'gerechtes': 16696, 'karma': 16697, 'pasquillo7777': 16698, 'schmerzen': 16699, 'angeht': 16700, 'lukas': 16701, 'beschaemender': 16702, 'populistischen': 16703, 'hierarchie': 16704, 'aufzusteigen': 16705, 'aussengrenze': 16706, 'energievorkommen': 16707, 'gold': 16708, 'ungute': 16709, 'susannesusi71': 16710, 'twitthasi': 16711, 'tarogermany1': 16712, 'nachtsonn3': 16713, 'allseits': 16714, 'janfurchtenicht': 16715, 'mirkorieder': 16716, 'muellsaecke': 16717, 'ralfheimann': 16718, 'lehrmeisterin': 16719, 'agitproperin': 16720, 'ungesetzliche': 16721, 'correctiv': 16722, 'qnbechtel': 16723, 'ellpa': 16724, 'ausschiessen': 16725, 'geaeusse': 16726, 'brid': 16727, 'perversion': 16728, 'maechtig': 16729, 'tankred45': 16730, 'wachst': 16731, 'aufwachen': 16732, 'schreckliche': 16733, 'dirkspaniel': 16734, 'stilles': 16735, 'netten': 16736, 'geschwaetzigen': 16737, 'merklich': 16738, 'verschaerft': 16739, 'pool': 16740, 'urheber': 16741, 'saudies': 16742, 'insgeheim': 16743, 'bejubeln': 16744, 'obendrein': 16745, 'arbeite': 16746, 'ungerecht': 16747, 'behuete': 16748, 'zicke': 16749, 'durchhalten': 16750, 'waenden': 16751, 'beteiligung': 16752, 'unterbringungs': 16753, 'gleichstellungs': 16754, 'seyfe': 16755, 'rausklagen': 16756, 'vermieter': 16757, 'denunziant': 16758, 'januszczarniec1': 16759, 'raffinie': 16760, 'fachkraeften': 16761, 'angeben': 16762, 'arbeitgebern': 16763, 'bekanntenkreis': 16764, 'erfuhr': 16765, 'relatives': 16766, 'einbruch': 16767, 'dunkelheit': 16768, 'zahltag': 16769, 'angebracht': 16770, 'geschwindigkeiten': 16771, 'nachhaltige': 16772, 'experimentes': 16773, 'emotionen': 16774, 'wecken': 16775, 'stralsund': 16776, 'schosshund': 16777, 'christo75554365': 16778, 'weltbild': 16779, 'se': 16780, 'suendiges': 16781, 'denkenden': 16782, 'zeitgenossen': 16783, 'schmutzig': 16784, 'megaskandal': 16785, 'watergate': 16786, 'schatten': 16787, 'enger': 16788, 'mangelnder': 16789, 'blagen': 16790, 'rethorik': 16791, 'anfallende': 16792, 'reggyvv': 16793, 'abgetakelte': 16794, 'legastheniker': 16795, 'seins': 16796, 'virulensina': 16797, 'nis1010101': 16798, 'belaestigen': 16799, 'hintenrum': 16800, 'selbsternannten': 16801, 'zwangsgebuehren': 16802, 'volksverarschung': 16803, 'hochziehen': 16804, 'standespflichten': 16805, 'geistlichen': 16806, 'hinzugefuegt': 16807, 'miesmuschelhro': 16808, 'feld': 16809, 'schlaflose': 16810, 'terroranschlags': 16811, 'yael': 16812, 'yekutiel': 16813, 'shir': 16814, 'hajaj': 16815, 'erez': 16816, 'orbach': 16817, 'shira': 16818, 'tzur': 16819, 'verweis': 16820, 'arbeiterfamilie': 16821, 'glaubwuerdiger': 16822, 'funktionaer': 16823, 'rassel': 16824, 'scheisswetter': 16825, 'powe': 16826, 'weet': 16827, 'faves': 16828, 'gedroppt': 16829, 'kochen': 16830, 'saisonalen': 16831, 'produkten': 16832, 'nuesse': 16833, 'menschliches': 16834, 'asylantenpolitk': 16835, 'schwerhoerige': 16836, 'tourbo4': 16837, 'ungelesen': 16838, 'lesesuechtig': 16839, 'kinderbuecherei': 16840, 'erwachsenenliteratur': 16841, 'roboter': 16842, 'enterprise': 16843, '20000': 16844, 'vermummte': 16845, 'unschaedlich': 16846, 'unvermoegen': 16847, 'schwarzmeer': 16848, 'flotte': 16849, 'polaken': 16850, 'luemmel': 16851, 'power': 16852, 'jusojoest': 16853, 'simonbrueckspd': 16854, 'nilsbeyer': 16855, 'seeheimer': 16856, 'beunruhigende': 16857, 'orkan': 16858, 'friederike': 16859, 'fundamentalisten': 16860, 'wiesbaden': 16861, 'masterplan': 16862, 'eig': 16863, 'wers': 16864, 'saeubern': 16865, 'ausschalten': 16866, 'informationsverbot': 16867, 'sperrungen': 16868, 'leidenschaftlich': 16869, 'ratschlaege': 16870, 'jamaikabruchpiloten': 16871, 'schaftsrat': 16872, 'ueberholt': 16873, 'flexiblen': 16874, 'gemeinwesen': 16875, 'oberpfeife': 16876, 'momente': 16877, 'zurechtgestutzt': 16878, 'haar': 16879, 'kuerzer': 16880, 'wahrhaftig': 16881, 'begreife': 16882, 'apostelgeschichte': 16883, 'taufedesherrn': 16884, 'halal': 16885, 'ue': 16886, 'kotzuebel': 16887, 'harmloser': 16888, 'handel': 16889, 'eigenstaendiges': 16890, 'lies': 16891, 'friedrich': 16892, 'weizaecker': 16893, '80ern': 16894, 'aufgelistet': 16895, 'minutioes': 16896, 'feste': 16897, 'handhabe': 16898, 'geile': 16899, 'drecksstueck': 16900, 'leistete': 16901, 'weiterzuverhandeln': 16902, 'islamistische': 16903, 'game': 16904, 'over': 16905, 'blauem': 16906, 'haekchen': 16907, 'hinterm': 16908, 'gesunken': 16909, 'tonnengewicht': 16910, 'stadtkaemmerer': 16911, 'israelkongress': 16912, 'buy': 16913, 'invest': 16914, 'itsuwe': 16915, 'spezialitaeten': 16916, 'einkaufsbummel': 16917, 'hmmmmmmmmm': 16918, 'schlichtweg': 16919, 'veroeffentlichungen': 16920, 'frisie': 16921, '409': 16922, 'entfallen': 16923, 'dung': 16924, 'internets': 16925, 'brunnen': 16926, 'bricht': 16927, 'platoscave007': 16928, 'kabalah': 16929, 'geheimlehre': 16930, 'sephirot': 16931, 'lebensbaum': 16932, 'umfangreiches': 16933, 'angerufen': 16934, 'denyz': 16935, 'spast': 16936, 'hetzpropaganda': 16937, 'voelkchen': 16938, 'sprachkurs': 16939, 'geschrittene': 16940, 'rrrrrrrrrr': 16941, 'legitimi': 16942, 'heidelberger': 16943, 'neuwahl': 16944, 'angekreuzt': 16945, 'gemeinsamen': 16946, 'getuerkt': 16947, 'karinbrix': 16948, 'joaplm': 16949, 'annaesch1': 16950, 'solltest': 16951, 'mahlzeit': 16952, 'ausgelassen': 16953, 'bolzandrea': 16954, 'auszubeuten': 16955, 'bremsen': 16956, 'menschenrechtsarbeit': 16957, 'unwichtiger': 16958, 'filterblase': 16959, 'schwimmt': 16960, 'begruessen': 16961, 'lasten': 16962, 'hinterfragend': 16963, 'brasilien': 16964, 'verlauf': 16965, 'meisterschaft': 16966, 'umschlaegt': 16967, 'thewenth': 16968, 'ulrikeguerot': 16969, 'junker': 16970, 'radiointerviews': 16971, 'suedlaender': 16972, 'zweifelt': 16973, 'bigblackhorse33': 16974, 'wahlbetrug': 16975, 'copyright': 16976, 'masseneinwanderung': 16977, 'dummkoepfen': 16978, '100ten': 16979, 'paessen': 16980, 'bike': 16981, 'bereist': 16982, 'jehova': 16983, 'geblasen': 16984, 'schw': 16985, 'reingesteckt': 16986, 'beschnitten': 16987, 'vk': 16988, 'bewegungen': 16989, 'zulauf': 16990, 'haribo': 16991, 'konfekt': 16992, 'tuete': 16993, 'protesten': 16994, 'jubilaeumsfeier': 16995, 'verlagsgebaeude': 16996, 'saynototerror': 16997, 'fleischfresser': 16998, 'neuigkeiten': 16999, 'hilfen': 17000, 'akw': 17001, 'kohlemeiler': 17002, 'vorstoss': 17003, 'atomsubventionen': 17004, 'buergerversicherung': 17005, 'sachgrundloser': 17006, 'befristung': 17007, 'arbeitsve': 17008, 'raegen': 17009, 'unionspropaganda': 17010, 'fluechtlingskonvention': 17011, 'einschraenken': 17012, 'aushoehlen': 17013, 'withheld': 17014, 'kurierat': 17015, 'tragbar': 17016, 'tiefental': 17017, 'i40sg': 17018, 'auflistung': 17019, 'biodeutscher': 17020, 'jobcenter': 17021, 'sachbearbeiter': 17022, 'ermordete': 17023, 'verbiegen': 17024, 'wiwo': 17025, 'diesselbe': 17026, 'one': 17027, 'einstimmigen': 17028, 'fixie': 17029, 'newsvalue': 17030, 'hach': 17031, 'argumenten': 17032, 'lern': 17033, 'vollidiot': 17034, 'ansager': 17035, 'vorleser': 17036, 'hering': 17037, 'motziklaus': 17038, 'oo7': 17039, 'maggielein': 17040, 'ichbinkoelnerin': 17041, 'liesemueller1': 17042, 'bringts': 17043, 'todholz': 17044, 'ueberspringen': 17045, 'zuendet': 17046, 'unrechten': 17047, 'anstalten': 17048, 'merkelschem': 17049, 'berauten': 17050, 'unbehelligt': 17051, 'dramatisch': 17052, 'niedrigem': 17053, 'eiaemter': 17054, 'staplerfahrer': 17055, 'imad': 17056, 'karim': 17057, 'nachtlikkat': 17058, 'alltaeglich': 17059, 'beispiele': 17060, 'zersetzter': 17061, 'ugal': 17062, 'nerseiten': 17063, 'uweltin': 17064, 'genaues': 17065, 'wat': 17066, 'geiles': 17067, 'hoeschen': 17068, 'hallooooooo': 17069, 'wahlpa': 17070, 'akzeptanz': 17071, 'schulreif': 17072, 'stundenplan': 17073, 'esgibtnureinenborisbecker': 17074, 'ersatzkandidatinnen': 17075, 'ersatzkandidaten': 17076, 'stoffers': 17077, 'leo': 17078, 'franken': 17079, 'pfrin': 17080, 'alexandra': 17081, 'caspari': 17082, 'mlebeauf': 17083, 'auflagezahlen': 17084, 'headqua': 17085, 'schuler': 17086, 'einfache': 17087, 'fachterminus': 17088, 'gelaehmten': 17089, 'einlassen': 17090, 'prankenhieb': 17091, 'angebot': 17092, 'victor': 17093, 'cu': 17094, 'fragralf': 17095, 'burkatraegerinen': 17096, 'djuhmha': 17097, 'nordhaeuser': 17098, 'runken': 17099, 'uebergelaufen': 17100, 'sexualstraftaeter': 17101, 'strafhaft': 17102, 'schaffe': 17103, 'highheels': 17104, 'schulergebnisse': 17105, 'abohrfeigen': 17106, 'bigamie': 17107, 'buschfrank': 17108, 'like': 17109, 'funktion': 17110, 'shadow': 17111, 'banning': 17112, 'manipulieren': 17113, 'leutchen': 17114, 'krabbelt': 17115, 'anetta': 17116, 'maessigung': 17117, 'aufzurufen': 17118, 'verlegung': 17119, 'palaestiner': 17120, 'einigen': 17121, 'bettisweb': 17122, 'dannytastisch': 17123, 'marktplatz': 17124, '40213': 17125, 'graf': 17126, 'stauffenberg': 17127, 'fabi': 17128, 'elliotttender': 17129, 'abgelassen': 17130, 'vollhonk': 17131, 'mehreren': 17132, 'aufgefuellt': 17133, 'simpel': 17134, 'resistance20176': 17135, 'kinderpornographie': 17136, 'versifften': 17137, 'sueddeutschen': 17138, 'fotoreihe': 17139, 'einwanderungsgsellschaft': 17140, 'untergrenzen': 17141, 'besorgten': 17142, 'verachtet': 17143, 'schulflasche': 17144, 'nachsitzen': 17145, 'nennst': 17146, 'moese': 17147, 'feucht': 17148, 'aga': 17149, 'scheisspolitik': 17150, 'muselmaenner': 17151, 'europaeischem': 17152, 'benjamin': 17153, 'koehn': 17154, 'briefwaehler': 17155, 'agolumneu10': 17156, 'rettungsboote': 17157, 'raetselhaft': 17158, 'versuchte': 17159, 'holz': 17160, 'benzin': 17161, 'anzuzuenden': 17162, 'verpuffung': 17163, 'verbrennungen': 17164, 'kirchgaenger': 17165, 'haase': 17166, 'soooooo': 17167, 'anus': 17168, 'prediger': 17169, 'tauchte': 17170, 'exakt': 17171, 'doppelten': 17172, 'buchstabe': 17173, 'zahlenwe': 17174, 'zugeordnet': 17175, 'spannende': 17176, 'abenteuer': 17177, 'persoenlichen': 17178, 'weiterbildung': 17179, 'sprachkurse': 17180, 'brauchbar': 17181, 'eingeht': 17182, 'konforme': 17183, 'betriebversammlung': 17184, 'ankuendigungen': 17185, 'edathy': 17186, 'stewenzel': 17187, 'hinausgekommen': 17188, 'sondierungspapieren': 17189, 'wochenlangen': 17190, 'zweites': 17191, 'inc': 17192, 'krise': 17193, 'samsara': 17194, 'befaellt': 17195, 'alzheimer': 17196, 'sunflowermind': 17197, 'zettel': 17198, 'moessbauer': 17199, 'wiederhole': 17200, 'schlimmste': 17201, 'rdige': 17202, 'odtenha3': 17203, 'unbestrittener': 17204, 'begleiterscheinung': 17205, 'dioezesanjugendpfarrers': 17206, 'eliteeinheiten': 17207, 'bisken': 17208, 'hohler': 17209, 'feht': 17210, 'sugst': 17211, 'braves': 17212, 'tuktuk': 17213, 'vergeblich': 17214, 'uebergewichtige': 17215, 'locker': 17216, 'bundeshofnarr': 17217, 'belehren': 17218, 'dunkelflaute': 17219, '2023': 17220, 'wegfallen': 17221, 'popphans1': 17222, 'neubuerger': 17223, 'joergklose': 17224, 'rechtsauffassung': 17225, 'cool': 17226, 'wohlwollendes': 17227, 'tofu': 17228, 'gegenseitigen': 17229, 'primaten': 17230, 'petrapaumahe': 17231, 'dorakristina': 17232, 'lukaswelz': 17233, 'arasnathan': 17234, 'wae': 17235, 'erkarl': 17236, 'aydileksercan': 17237, 'filmregisseur': 17238, 'oleh': 17239, 'senzov': 17240, 'lagern': 17241, 'gefaengnissen': 17242, 'sorgt': 17243, 'freikommen': 17244, 'voelkerverstaendigung': 17245, 'staedtepa': 17246, 'lemberg': 17247, 'wm2018': 17248, 'sue': 17249, 'jil': 17250, 'nimm': 17251, 'regelmaessig': 17252, 'bjoern': 17253, 'belasten': 17254, 'dusendiskus': 17255, 'befuerchtung': 17256, 'abgeschmette': 17257, 'toetungsdelikten': 17258, 'indirekt': 17259, 'hinauslaufen': 17260, 'systematische': 17261, 'aufklaeren': 17262, 'merkte': 17263, '1968': 17264, 'trojanische': 17265, 'pferdchen': 17266, 'nachbarlaender': 17267, 'ausuebung': 17268, 'ausbreitung': 17269, 'untersagen': 17270, 'gefaengnisses': 17271, 'beschaedigten': 17272, 'wilhelm': 17273, 'neusiedler': 17274, 'gebliebenen': 17275, 'kanzlerschaftskandidatur': 17276, 'sdp': 17277, 'sinken': 17278, 'erschoepft': 17279, 'depo': 17280, 'schleicht': 17281, 'justizregister': 17282, 'absurden': 17283, 'gerichtsu': 17284, 'kaiserreich': 17285, 'oekum': 17286, 'frauengottesdienst': 17287, 'pfingstkirche': 17288, 'podiumsdisk': 17289, 'augustin': 17290, 'vorstellungen': 17291, 'ersatzreligion': 17292, 'hohenpriesterinnen': 17293, 'exkommunizie': 17294, 'veganem': 17295, 'abendmahl': 17296, 'qeer': 17297, 'christus': 17298, 'ausgebuht': 17299, 'meidet': 17300, 'traelle': 17301, 'sturmtief': 17302, 'frederike': 17303, 'hinwegrauscht': 17304, 'unschuldig': 17305, 'weggeweht': 17306, 'glaubensbekenntnis': 17307, 'vergleichbar': 17308, 'reagie': 17309, 'polizeifuehrung': 17310, 'vadderland': 17311, 'fanuar': 17312, 'gegens': 17313, 'zul': 17314, 'gegenseitige': 17315, 'anerk': 17316, 'angen': 17317, 'selbstverliebt': 17318, 'eils': 17319, 'schleichende': 17320, 'gleichgeschaltet': 17321, 'schaefchen': 17322, 'trockenen': 17323, 'schorfheide': 17324, 'frischer': 17325, 'gefilmt': 17326, 'festnahmen': 17327}\n"
          ]
        }
      ]
    },
    {
      "cell_type": "markdown",
      "source": [
        "# encoding or sequencing\n"
      ],
      "metadata": {
        "id": "mRzlwLYqKY8k"
      }
    },
    {
      "cell_type": "code",
      "source": [
        "encoded_clean_text_stem = tok_all.texts_to_sequences(clean_text_stem)\n",
        "print(clean_text_stem[0])\n",
        "print(encoded_clean_text_stem[0])"
      ],
      "metadata": {
        "colab": {
          "base_uri": "https://localhost:8080/"
        },
        "id": "LvQYVAQ9KUa0",
        "outputId": "0afbec21-0385-4e58-af52-f7d9721d530a"
      },
      "execution_count": null,
      "outputs": [
        {
          "output_type": "stream",
          "name": "stdout",
          "text": [
            " corinnamilborn liebe corinna, wuerden gerne moderatorin fuer gewinnen! waerst begeisterbar \n",
            "[4221, 191, 6796, 258, 233, 6797, 2, 2418, 2419, 6798]\n"
          ]
        }
      ]
    },
    {
      "cell_type": "markdown",
      "source": [
        "# Pre-padding\n"
      ],
      "metadata": {
        "id": "wWorwY-hKcBK"
      }
    },
    {
      "cell_type": "code",
      "source": [
        "from keras.preprocessing import sequence\n",
        "max_length = 100\n",
        "padded_clean_text_stem = sequence.pad_sequences(encoded_clean_text_stem, maxlen=max_length, padding='pre')"
      ],
      "metadata": {
        "id": "v911ZLQqKfPi"
      },
      "execution_count": null,
      "outputs": []
    },
    {
      "cell_type": "markdown",
      "source": [
        "# Reading Test data and Pre-processing\n"
      ],
      "metadata": {
        "id": "FpYN7sJfjfoW"
      }
    },
    {
      "cell_type": "code",
      "source": [
        "data_t = pd.read_csv(\"/content/germeval2019GoldLabelsSubtask1_2.txt\", sep=\"\\t\", encoding = \"UTF-8\", names=(\"text\", \"task1\", \"task2\"))\n",
        "pd.set_option('display.max_colwidth',150)\n",
        "data_t.head(10)\n",
        "\n"
      ],
      "metadata": {
        "colab": {
          "base_uri": "https://localhost:8080/",
          "height": 363
        },
        "outputId": "4e82a79c-bd7d-4b4a-eec4-a28662884b7c",
        "id": "vMIAc8_vjfoX"
      },
      "execution_count": null,
      "outputs": [
        {
          "output_type": "execute_result",
          "data": {
            "text/plain": [
              "                                                                                                                                                    text  \\\n",
              "0                                    @JanZimmHHB @mopo Komisch das die Realitätsverweigerung immer von linken erbärmlichen Correctiv Accounts ausgeht...   \n",
              "1                @faznet @Gruene_Europa @SPDEuropa @CDU CDU steht seid Strauss, Kohl, Schäuble, vdLeyen für Korruption, Schwarzgeld, und dies überall...   \n",
              "2                                                             @DLFNachrichten Die Gesichter, Namen, Religion der Täter würde zur Aufklärung beitragen...   \n",
              "3  @welt Wie verwirrt muss man sein um sich zu weigern die Tatsachen anzuerkennen, das dieser Hass von Ferkel importiert wurde....was bezweckt man da...   \n",
              "4  @hacker_1991 @torben_braga Weil die AfD den Ferkelfunk abschaffen will, deshalb haben die Linken Zecken, Schmarotzer Angst für ihr kacken arbeiten...   \n",
              "5  @aktuelle_stunde Also beim Fall Birmingham, England war definitiv weniger Empörung, weniger Berichterstattung, wenn man ehrlich mit sich ist gab e...   \n",
              "6                                           @StZ_NEWS Aber bei läppischen 130.000 Euro der AfD den Welt, Demokratieuntergang herbei schreiben....wie süß   \n",
              "7             @StZ_NEWS Schäuble wird wissen woher dieses Nazi Geld kommt....FJS hatte doch auch glasige Augen vor Freude wenn vom Führer die Rede war..   \n",
              "8  @welt Komisch, wäre dieser Betrug in der Nähe der AfD passiert wäre eine andere Empörung erkennbar, so aber da es Ferkel und Co trifft werden Baue...   \n",
              "9  @investigativ_de @welt @Tim_Roehn @ChSchweppe Und alle Wege führen zu von der Leyen, was dann verwundert das die immer noch im Amt ist, wobei, im ...   \n",
              "\n",
              "     task1   task2  \n",
              "0  OFFENSE  INSULT  \n",
              "1  OFFENSE   ABUSE  \n",
              "2    OTHER   OTHER  \n",
              "3  OFFENSE   ABUSE  \n",
              "4  OFFENSE   ABUSE  \n",
              "5    OTHER   OTHER  \n",
              "6    OTHER   OTHER  \n",
              "7  OFFENSE   ABUSE  \n",
              "8  OFFENSE   ABUSE  \n",
              "9  OFFENSE   ABUSE  "
            ],
            "text/html": [
              "\n",
              "  <div id=\"df-74c69988-42de-436a-a5d5-2fea3107fdf4\">\n",
              "    <div class=\"colab-df-container\">\n",
              "      <div>\n",
              "<style scoped>\n",
              "    .dataframe tbody tr th:only-of-type {\n",
              "        vertical-align: middle;\n",
              "    }\n",
              "\n",
              "    .dataframe tbody tr th {\n",
              "        vertical-align: top;\n",
              "    }\n",
              "\n",
              "    .dataframe thead th {\n",
              "        text-align: right;\n",
              "    }\n",
              "</style>\n",
              "<table border=\"1\" class=\"dataframe\">\n",
              "  <thead>\n",
              "    <tr style=\"text-align: right;\">\n",
              "      <th></th>\n",
              "      <th>text</th>\n",
              "      <th>task1</th>\n",
              "      <th>task2</th>\n",
              "    </tr>\n",
              "  </thead>\n",
              "  <tbody>\n",
              "    <tr>\n",
              "      <th>0</th>\n",
              "      <td>@JanZimmHHB @mopo Komisch das die Realitätsverweigerung immer von linken erbärmlichen Correctiv Accounts ausgeht...</td>\n",
              "      <td>OFFENSE</td>\n",
              "      <td>INSULT</td>\n",
              "    </tr>\n",
              "    <tr>\n",
              "      <th>1</th>\n",
              "      <td>@faznet @Gruene_Europa @SPDEuropa @CDU CDU steht seid Strauss, Kohl, Schäuble, vdLeyen für Korruption, Schwarzgeld, und dies überall...</td>\n",
              "      <td>OFFENSE</td>\n",
              "      <td>ABUSE</td>\n",
              "    </tr>\n",
              "    <tr>\n",
              "      <th>2</th>\n",
              "      <td>@DLFNachrichten Die Gesichter, Namen, Religion der Täter würde zur Aufklärung beitragen...</td>\n",
              "      <td>OTHER</td>\n",
              "      <td>OTHER</td>\n",
              "    </tr>\n",
              "    <tr>\n",
              "      <th>3</th>\n",
              "      <td>@welt Wie verwirrt muss man sein um sich zu weigern die Tatsachen anzuerkennen, das dieser Hass von Ferkel importiert wurde....was bezweckt man da...</td>\n",
              "      <td>OFFENSE</td>\n",
              "      <td>ABUSE</td>\n",
              "    </tr>\n",
              "    <tr>\n",
              "      <th>4</th>\n",
              "      <td>@hacker_1991 @torben_braga Weil die AfD den Ferkelfunk abschaffen will, deshalb haben die Linken Zecken, Schmarotzer Angst für ihr kacken arbeiten...</td>\n",
              "      <td>OFFENSE</td>\n",
              "      <td>ABUSE</td>\n",
              "    </tr>\n",
              "    <tr>\n",
              "      <th>5</th>\n",
              "      <td>@aktuelle_stunde Also beim Fall Birmingham, England war definitiv weniger Empörung, weniger Berichterstattung, wenn man ehrlich mit sich ist gab e...</td>\n",
              "      <td>OTHER</td>\n",
              "      <td>OTHER</td>\n",
              "    </tr>\n",
              "    <tr>\n",
              "      <th>6</th>\n",
              "      <td>@StZ_NEWS Aber bei läppischen 130.000 Euro der AfD den Welt, Demokratieuntergang herbei schreiben....wie süß</td>\n",
              "      <td>OTHER</td>\n",
              "      <td>OTHER</td>\n",
              "    </tr>\n",
              "    <tr>\n",
              "      <th>7</th>\n",
              "      <td>@StZ_NEWS Schäuble wird wissen woher dieses Nazi Geld kommt....FJS hatte doch auch glasige Augen vor Freude wenn vom Führer die Rede war..</td>\n",
              "      <td>OFFENSE</td>\n",
              "      <td>ABUSE</td>\n",
              "    </tr>\n",
              "    <tr>\n",
              "      <th>8</th>\n",
              "      <td>@welt Komisch, wäre dieser Betrug in der Nähe der AfD passiert wäre eine andere Empörung erkennbar, so aber da es Ferkel und Co trifft werden Baue...</td>\n",
              "      <td>OFFENSE</td>\n",
              "      <td>ABUSE</td>\n",
              "    </tr>\n",
              "    <tr>\n",
              "      <th>9</th>\n",
              "      <td>@investigativ_de @welt @Tim_Roehn @ChSchweppe Und alle Wege führen zu von der Leyen, was dann verwundert das die immer noch im Amt ist, wobei, im ...</td>\n",
              "      <td>OFFENSE</td>\n",
              "      <td>ABUSE</td>\n",
              "    </tr>\n",
              "  </tbody>\n",
              "</table>\n",
              "</div>\n",
              "      <button class=\"colab-df-convert\" onclick=\"convertToInteractive('df-74c69988-42de-436a-a5d5-2fea3107fdf4')\"\n",
              "              title=\"Convert this dataframe to an interactive table.\"\n",
              "              style=\"display:none;\">\n",
              "        \n",
              "  <svg xmlns=\"http://www.w3.org/2000/svg\" height=\"24px\"viewBox=\"0 0 24 24\"\n",
              "       width=\"24px\">\n",
              "    <path d=\"M0 0h24v24H0V0z\" fill=\"none\"/>\n",
              "    <path d=\"M18.56 5.44l.94 2.06.94-2.06 2.06-.94-2.06-.94-.94-2.06-.94 2.06-2.06.94zm-11 1L8.5 8.5l.94-2.06 2.06-.94-2.06-.94L8.5 2.5l-.94 2.06-2.06.94zm10 10l.94 2.06.94-2.06 2.06-.94-2.06-.94-.94-2.06-.94 2.06-2.06.94z\"/><path d=\"M17.41 7.96l-1.37-1.37c-.4-.4-.92-.59-1.43-.59-.52 0-1.04.2-1.43.59L10.3 9.45l-7.72 7.72c-.78.78-.78 2.05 0 2.83L4 21.41c.39.39.9.59 1.41.59.51 0 1.02-.2 1.41-.59l7.78-7.78 2.81-2.81c.8-.78.8-2.07 0-2.86zM5.41 20L4 18.59l7.72-7.72 1.47 1.35L5.41 20z\"/>\n",
              "  </svg>\n",
              "      </button>\n",
              "      \n",
              "  <style>\n",
              "    .colab-df-container {\n",
              "      display:flex;\n",
              "      flex-wrap:wrap;\n",
              "      gap: 12px;\n",
              "    }\n",
              "\n",
              "    .colab-df-convert {\n",
              "      background-color: #E8F0FE;\n",
              "      border: none;\n",
              "      border-radius: 50%;\n",
              "      cursor: pointer;\n",
              "      display: none;\n",
              "      fill: #1967D2;\n",
              "      height: 32px;\n",
              "      padding: 0 0 0 0;\n",
              "      width: 32px;\n",
              "    }\n",
              "\n",
              "    .colab-df-convert:hover {\n",
              "      background-color: #E2EBFA;\n",
              "      box-shadow: 0px 1px 2px rgba(60, 64, 67, 0.3), 0px 1px 3px 1px rgba(60, 64, 67, 0.15);\n",
              "      fill: #174EA6;\n",
              "    }\n",
              "\n",
              "    [theme=dark] .colab-df-convert {\n",
              "      background-color: #3B4455;\n",
              "      fill: #D2E3FC;\n",
              "    }\n",
              "\n",
              "    [theme=dark] .colab-df-convert:hover {\n",
              "      background-color: #434B5C;\n",
              "      box-shadow: 0px 1px 3px 1px rgba(0, 0, 0, 0.15);\n",
              "      filter: drop-shadow(0px 1px 2px rgba(0, 0, 0, 0.3));\n",
              "      fill: #FFFFFF;\n",
              "    }\n",
              "  </style>\n",
              "\n",
              "      <script>\n",
              "        const buttonEl =\n",
              "          document.querySelector('#df-74c69988-42de-436a-a5d5-2fea3107fdf4 button.colab-df-convert');\n",
              "        buttonEl.style.display =\n",
              "          google.colab.kernel.accessAllowed ? 'block' : 'none';\n",
              "\n",
              "        async function convertToInteractive(key) {\n",
              "          const element = document.querySelector('#df-74c69988-42de-436a-a5d5-2fea3107fdf4');\n",
              "          const dataTable =\n",
              "            await google.colab.kernel.invokeFunction('convertToInteractive',\n",
              "                                                     [key], {});\n",
              "          if (!dataTable) return;\n",
              "\n",
              "          const docLinkHtml = 'Like what you see? Visit the ' +\n",
              "            '<a target=\"_blank\" href=https://colab.research.google.com/notebooks/data_table.ipynb>data table notebook</a>'\n",
              "            + ' to learn more about interactive tables.';\n",
              "          element.innerHTML = '';\n",
              "          dataTable['output_type'] = 'display_data';\n",
              "          await google.colab.output.renderOutput(dataTable, element);\n",
              "          const docLink = document.createElement('div');\n",
              "          docLink.innerHTML = docLinkHtml;\n",
              "          element.appendChild(docLink);\n",
              "        }\n",
              "      </script>\n",
              "    </div>\n",
              "  </div>\n",
              "  "
            ]
          },
          "metadata": {},
          "execution_count": 28
        }
      ]
    },
    {
      "cell_type": "code",
      "source": [
        "data_t.shape"
      ],
      "metadata": {
        "colab": {
          "base_uri": "https://localhost:8080/"
        },
        "outputId": "4cb25d87-fbd4-4112-8c92-0cfb06495e4a",
        "id": "i5QVkKc6jfoY"
      },
      "execution_count": null,
      "outputs": [
        {
          "output_type": "execute_result",
          "data": {
            "text/plain": [
              "(3031, 3)"
            ]
          },
          "metadata": {},
          "execution_count": 29
        }
      ]
    },
    {
      "cell_type": "code",
      "source": [
        "print(data_t.dtypes)"
      ],
      "metadata": {
        "colab": {
          "base_uri": "https://localhost:8080/"
        },
        "outputId": "171e8c13-f197-4fa4-8ba9-992e0710f77c",
        "id": "ahclqeoUjfoY"
      },
      "execution_count": null,
      "outputs": [
        {
          "output_type": "stream",
          "name": "stdout",
          "text": [
            "text     object\n",
            "task1    object\n",
            "task2    object\n",
            "dtype: object\n"
          ]
        }
      ]
    },
    {
      "cell_type": "code",
      "source": [
        "\n",
        "\n",
        "label_t = data_t['task1']\n",
        "label_t.head()\n",
        "\n"
      ],
      "metadata": {
        "colab": {
          "base_uri": "https://localhost:8080/"
        },
        "outputId": "21e218f7-732d-438a-9c7e-a97a1af3f735",
        "id": "UBm8R89AjfoY"
      },
      "execution_count": null,
      "outputs": [
        {
          "output_type": "execute_result",
          "data": {
            "text/plain": [
              "0    OFFENSE\n",
              "1    OFFENSE\n",
              "2      OTHER\n",
              "3    OFFENSE\n",
              "4    OFFENSE\n",
              "Name: task1, dtype: object"
            ]
          },
          "metadata": {},
          "execution_count": 31
        }
      ]
    },
    {
      "cell_type": "code",
      "source": [
        "print(label_t.value_counts())\n",
        "import matplotlib.pyplot as plt\n",
        "label_t.value_counts().plot(kind='bar', color='red')"
      ],
      "metadata": {
        "colab": {
          "base_uri": "https://localhost:8080/",
          "height": 370
        },
        "outputId": "fba989d3-d741-4f63-a3b4-50ee8602e704",
        "id": "TSEvsgTajfoZ"
      },
      "execution_count": null,
      "outputs": [
        {
          "output_type": "stream",
          "name": "stdout",
          "text": [
            "OTHER      2061\n",
            "OFFENSE     970\n",
            "Name: task1, dtype: int64\n"
          ]
        },
        {
          "output_type": "execute_result",
          "data": {
            "text/plain": [
              "<matplotlib.axes._subplots.AxesSubplot at 0x7f930aee17d0>"
            ]
          },
          "metadata": {},
          "execution_count": 32
        },
        {
          "output_type": "display_data",
          "data": {
            "text/plain": [
              "<Figure size 432x288 with 1 Axes>"
            ],
            "image/png": "[encoded data removed]"
          },
          "metadata": {
            "needs_background": "light"
          }
        }
      ]
    },
    {
      "cell_type": "code",
      "source": [
        "\n",
        "\n",
        "import numpy as np\n",
        "classes_list_t = [\"OFFENSE\",\"OTHER\"]\n",
        "label_t_index = data_t['task1'].apply(classes_list_t.index)\n",
        "final_label_t = np.asarray(label_t_index)\n",
        "print(final_label_t[:10])\n",
        "\n"
      ],
      "metadata": {
        "colab": {
          "base_uri": "https://localhost:8080/"
        },
        "outputId": "f73b0a45-36e8-4317-8465-382c05ceb363",
        "id": "n_89uYTcjfoZ"
      },
      "execution_count": null,
      "outputs": [
        {
          "output_type": "stream",
          "name": "stdout",
          "text": [
            "[0 0 1 0 0 1 1 0 0 0]\n"
          ]
        }
      ]
    },
    {
      "cell_type": "code",
      "source": [
        "\n",
        "\n",
        "from keras.utils.np_utils import to_categorical\n",
        "label_twoDimension_t = to_categorical(final_label_t, num_classes=2)\n",
        "\n"
      ],
      "metadata": {
        "id": "3nMWVqtajfoZ"
      },
      "execution_count": null,
      "outputs": []
    },
    {
      "cell_type": "code",
      "source": [
        "print(label_twoDimension_t[:10])"
      ],
      "metadata": {
        "colab": {
          "base_uri": "https://localhost:8080/"
        },
        "outputId": "69490b8e-93da-40c4-a1ae-9b4a2c2f4fab",
        "id": "ZGSNBI3Jjfoa"
      },
      "execution_count": null,
      "outputs": [
        {
          "output_type": "stream",
          "name": "stdout",
          "text": [
            "[[1. 0.]\n",
            " [1. 0.]\n",
            " [0. 1.]\n",
            " [1. 0.]\n",
            " [1. 0.]\n",
            " [0. 1.]\n",
            " [0. 1.]\n",
            " [1. 0.]\n",
            " [1. 0.]\n",
            " [1. 0.]]\n"
          ]
        }
      ]
    },
    {
      "cell_type": "code",
      "source": [
        "\n",
        "\n",
        "text_t = data_t['text']\n",
        "text_t.head(10)\n",
        "\n"
      ],
      "metadata": {
        "colab": {
          "base_uri": "https://localhost:8080/"
        },
        "outputId": "58638756-7d53-41c4-906d-9c9467724812",
        "id": "Rnk-jJgtjfoa"
      },
      "execution_count": null,
      "outputs": [
        {
          "output_type": "execute_result",
          "data": {
            "text/plain": [
              "0                                      @JanZimmHHB @mopo Komisch das die Realitätsverweigerung immer von linken erbärmlichen Correctiv Accounts ausgeht...\n",
              "1                  @faznet @Gruene_Europa @SPDEuropa @CDU CDU steht seid Strauss, Kohl, Schäuble, vdLeyen für Korruption, Schwarzgeld, und dies überall...\n",
              "2                                                               @DLFNachrichten Die Gesichter, Namen, Religion der Täter würde zur Aufklärung beitragen...\n",
              "3    @welt Wie verwirrt muss man sein um sich zu weigern die Tatsachen anzuerkennen, das dieser Hass von Ferkel importiert wurde....was bezweckt man da...\n",
              "4    @hacker_1991 @torben_braga Weil die AfD den Ferkelfunk abschaffen will, deshalb haben die Linken Zecken, Schmarotzer Angst für ihr kacken arbeiten...\n",
              "5    @aktuelle_stunde Also beim Fall Birmingham, England war definitiv weniger Empörung, weniger Berichterstattung, wenn man ehrlich mit sich ist gab e...\n",
              "6                                             @StZ_NEWS Aber bei läppischen 130.000 Euro der AfD den Welt, Demokratieuntergang herbei schreiben....wie süß\n",
              "7               @StZ_NEWS Schäuble wird wissen woher dieses Nazi Geld kommt....FJS hatte doch auch glasige Augen vor Freude wenn vom Führer die Rede war..\n",
              "8    @welt Komisch, wäre dieser Betrug in der Nähe der AfD passiert wäre eine andere Empörung erkennbar, so aber da es Ferkel und Co trifft werden Baue...\n",
              "9    @investigativ_de @welt @Tim_Roehn @ChSchweppe Und alle Wege führen zu von der Leyen, was dann verwundert das die immer noch im Amt ist, wobei, im ...\n",
              "Name: text, dtype: object"
            ]
          },
          "metadata": {},
          "execution_count": 36
        }
      ]
    },
    {
      "cell_type": "code",
      "source": [
        "test_wo_umlauts = text_t.apply(lambda x: remove_umlaut(x))"
      ],
      "metadata": {
        "id": "i8QzRq4QJkTr"
      },
      "execution_count": null,
      "outputs": []
    },
    {
      "cell_type": "code",
      "source": [
        "test_wo_umlauts.head()"
      ],
      "metadata": {
        "colab": {
          "base_uri": "https://localhost:8080/"
        },
        "id": "ZLZvwQCNJr1I",
        "outputId": "793aa60b-1758-4076-a9ae-9d1e1c213455"
      },
      "execution_count": null,
      "outputs": [
        {
          "output_type": "execute_result",
          "data": {
            "text/plain": [
              "0                                    @JanZimmHHB @mopo Komisch das die Realitaetsverweigerung immer von linken erbaermlichen Correctiv Accounts ausgeht...\n",
              "1               @faznet @Gruene_Europa @SPDEuropa @CDU CDU steht seid Strauss, Kohl, Schaeuble, vdLeyen fuer Korruption, Schwarzgeld, und dies ueberall...\n",
              "2                                                            @DLFNachrichten Die Gesichter, Namen, Religion der Taeter wuerde zur Aufklaerung beitragen...\n",
              "3    @welt Wie verwirrt muss man sein um sich zu weigern die Tatsachen anzuerkennen, das dieser Hass von Ferkel importiert wurde....was bezweckt man da...\n",
              "4    @hacker_1991 @torben_braga Weil die AfD den Ferkelfunk abschaffen will, deshalb haben die Linken Zecken, Schmarotzer Angst fuer ihr kacken arbeite...\n",
              "Name: text, dtype: object"
            ]
          },
          "metadata": {},
          "execution_count": 38
        }
      ]
    },
    {
      "cell_type": "code",
      "source": [
        "\n",
        "\n",
        "import re \n",
        "\n",
        "def text_clean(text):\n",
        "    ''' Pre process and convert texts to a list of words '''\n",
        "    \n",
        "    text=text.lower()\n",
        "\n",
        "    # Clean the text\n",
        "    text = re.sub(r\"[^A-Za-z0-9^,!.\\/'+-=]\", \" \", text)\n",
        "    text = re.sub('https?://\\S+|www\\.\\S+', \"\", text)\n",
        "    text = re.sub(r\"rt\", \" \", text)\n",
        "\n",
        "    return text\n",
        "\n"
      ],
      "metadata": {
        "id": "68c_wJRYjfob"
      },
      "execution_count": null,
      "outputs": []
    },
    {
      "cell_type": "code",
      "source": [
        "clean_text_t = test_wo_umlauts.apply(lambda x:text_clean(x))"
      ],
      "metadata": {
        "id": "Fpu5fF1Wjfob"
      },
      "execution_count": null,
      "outputs": []
    },
    {
      "cell_type": "code",
      "source": [
        "clean_text_t.head(10)"
      ],
      "metadata": {
        "colab": {
          "base_uri": "https://localhost:8080/"
        },
        "outputId": "e305afdc-d239-4e14-c7dc-7ce572b3dca9",
        "id": "Ok6v5k_gjfob"
      },
      "execution_count": null,
      "outputs": [
        {
          "output_type": "execute_result",
          "data": {
            "text/plain": [
              "0                                     janzimmhhb  mopo komisch das die realitaetsverweigerung immer von linken erbaermlichen correctiv accounts ausgeht...\n",
              "1                faznet  gruene europa  spdeuropa  cdu cdu steht seid strauss, kohl, schaeuble, vdleyen fuer korruption, schwarzgeld, und dies ueberall...\n",
              "2                                                             dlfnachrichten die gesichter, namen, religion der taeter wuerde zur aufklaerung beitragen...\n",
              "3     welt wie verwir  muss man sein um sich zu weigern die tatsachen anzuerkennen, das dieser hass von ferkel impo ie  wurde....was bezweckt man damit...\n",
              "4     hacker 1991  torben braga weil die afd den ferkelfunk abschaffen will, deshalb haben die linken zecken, schmarotzer angst fuer ihr kacken arbeite...\n",
              "5     aktuelle stunde also beim fall birmingham, england war definitiv weniger empoerung, weniger berichterstattung, wenn man ehrlich mit sich ist gab ...\n",
              "6                                           stz news aber bei laeppischen 130.000 euro der afd den welt, demokratieuntergang herbei schreiben....wie suess\n",
              "7              stz news schaeuble wird wissen woher dieses nazi geld kommt....fjs hatte doch auch glasige augen vor freude wenn vom fuehrer die rede war..\n",
              "8     welt komisch, waere dieser betrug in der naehe der afd passie  waere eine andere empoerung erkennbar, so aber da es ferkel und co trifft werden b...\n",
              "9     investigativ de  welt  tim roehn  chschweppe und alle wege fuehren zu von der leyen, was dann verwunde  das die immer noch im amt ist, wobei, im ...\n",
              "Name: text, dtype: object"
            ]
          },
          "metadata": {},
          "execution_count": 41
        }
      ]
    },
    {
      "cell_type": "code",
      "source": [
        "\n",
        "\n",
        "import nltk\n",
        "from nltk.corpus import stopwords\n",
        "nltk.download('stopwords')\n",
        "def stop_words_removal(text1):\n",
        "    text1=[w for w in  text1.split(\" \")  if w not in stopwords.words('german')]\n",
        "    return \" \".join(text1)\n",
        "\n"
      ],
      "metadata": {
        "colab": {
          "base_uri": "https://localhost:8080/"
        },
        "outputId": "da8eebf9-a378-4f25-fbe6-a18594700e24",
        "id": "gnHmiZ4yjfoc"
      },
      "execution_count": null,
      "outputs": [
        {
          "output_type": "stream",
          "name": "stderr",
          "text": [
            "[nltk_data] Downloading package stopwords to /root/nltk_data...\n",
            "[nltk_data]   Package stopwords is already up-to-date!\n"
          ]
        }
      ]
    },
    {
      "cell_type": "code",
      "source": [
        "clean_text_t_ns=clean_text_t.apply(lambda x: stop_words_removal(x))"
      ],
      "metadata": {
        "id": "F2OBPa4zjfoc"
      },
      "execution_count": null,
      "outputs": []
    },
    {
      "cell_type": "code",
      "source": [
        "print(clean_text_t_ns.head(10))"
      ],
      "metadata": {
        "colab": {
          "base_uri": "https://localhost:8080/"
        },
        "outputId": "e607c7da-517b-4243-c494-b67f4ca45458",
        "id": "Hr-VO_2Ujfoc"
      },
      "execution_count": null,
      "outputs": [
        {
          "output_type": "stream",
          "name": "stdout",
          "text": [
            "0                                                 janzimmhhb  mopo komisch realitaetsverweigerung immer linken erbaermlichen correctiv accounts ausgeht...\n",
            "1                         faznet  gruene europa  spdeuropa  cdu cdu steht seid strauss, kohl, schaeuble, vdleyen fuer korruption, schwarzgeld, ueberall...\n",
            "2                                                                         dlfnachrichten gesichter, namen, religion taeter wuerde aufklaerung beitragen...\n",
            "3                                 welt verwir  weigern tatsachen anzuerkennen, hass ferkel impo ie  wurde....was bezweckt selber beluegen, unverstaendlich\n",
            "4     hacker 1991  torben braga afd ferkelfunk abschaffen will, deshalb linken zecken, schmarotzer angst fuer kacken arbeiten muessen, deshalb fuehrer ...\n",
            "5     aktuelle stunde beim fall birmingham, england definitiv weniger empoerung, weniger berichterstattung, ehrlich gab gar oerr, hintergrundwissen, re...\n",
            "6                                                            stz news laeppischen 130.000 euro afd welt, demokratieuntergang herbei schreiben....wie suess\n",
            "7                                                           stz news schaeuble wissen woher nazi geld kommt....fjs glasige augen freude fuehrer rede war..\n",
            "8                                       welt komisch, waere betrug naehe afd passie  waere empoerung erkennbar, ferkel co trifft baueropfer praesentie ...\n",
            "9     investigativ de  welt  tim roehn  chschweppe wege fuehren leyen, verwunde  immer amt ist, wobei, konstrukt brd normal, konstrukt mehr vorgibt dem...\n",
            "Name: text, dtype: object\n"
          ]
        }
      ]
    },
    {
      "cell_type": "markdown",
      "source": [
        "# Stemming"
      ],
      "metadata": {
        "id": "Z7TCEn6sjfoc"
      }
    },
    {
      "cell_type": "code",
      "source": [
        "# Stemming\n",
        "from nltk.stem import SnowballStemmer \n",
        "stemmer = SnowballStemmer(\"german\")\n",
        "\n",
        "def word_stemmer(text):\n",
        "    stem_text = \"\".join([stemmer.stem(i) for i in text])\n",
        "    return stem_text"
      ],
      "metadata": {
        "id": "TulzbpiAjfod"
      },
      "execution_count": null,
      "outputs": []
    },
    {
      "cell_type": "code",
      "source": [
        "clean_text_t_stem = clean_text_t_ns.apply(lambda x : word_stemmer(x))"
      ],
      "metadata": {
        "id": "tXcsV_FDjfod"
      },
      "execution_count": null,
      "outputs": []
    },
    {
      "cell_type": "code",
      "source": [
        "print(clean_text_t_stem.head(10))"
      ],
      "metadata": {
        "colab": {
          "base_uri": "https://localhost:8080/"
        },
        "outputId": "fdb40bf9-c5f7-4db6-bd0c-847cda0d1da5",
        "id": "r1Z6Gt1Sjfod"
      },
      "execution_count": null,
      "outputs": [
        {
          "output_type": "stream",
          "name": "stdout",
          "text": [
            "0                                                 janzimmhhb  mopo komisch realitaetsverweigerung immer linken erbaermlichen correctiv accounts ausgeht...\n",
            "1                         faznet  gruene europa  spdeuropa  cdu cdu steht seid strauss, kohl, schaeuble, vdleyen fuer korruption, schwarzgeld, ueberall...\n",
            "2                                                                         dlfnachrichten gesichter, namen, religion taeter wuerde aufklaerung beitragen...\n",
            "3                                 welt verwir  weigern tatsachen anzuerkennen, hass ferkel impo ie  wurde....was bezweckt selber beluegen, unverstaendlich\n",
            "4     hacker 1991  torben braga afd ferkelfunk abschaffen will, deshalb linken zecken, schmarotzer angst fuer kacken arbeiten muessen, deshalb fuehrer ...\n",
            "5     aktuelle stunde beim fall birmingham, england definitiv weniger empoerung, weniger berichterstattung, ehrlich gab gar oerr, hintergrundwissen, re...\n",
            "6                                                            stz news laeppischen 130.000 euro afd welt, demokratieuntergang herbei schreiben....wie suess\n",
            "7                                                           stz news schaeuble wissen woher nazi geld kommt....fjs glasige augen freude fuehrer rede war..\n",
            "8                                       welt komisch, waere betrug naehe afd passie  waere empoerung erkennbar, ferkel co trifft baueropfer praesentie ...\n",
            "9     investigativ de  welt  tim roehn  chschweppe wege fuehren leyen, verwunde  immer amt ist, wobei, konstrukt brd normal, konstrukt mehr vorgibt dem...\n",
            "Name: text, dtype: object\n"
          ]
        }
      ]
    },
    {
      "cell_type": "code",
      "source": [
        "\n",
        "\n",
        "import keras\n",
        "import tensorflow\n",
        "from keras.preprocessing.text import Tokenizer\n",
        "tok_test = Tokenizer(filters='!\"#$%&\\'()*+,-./:;<=>?@[\\\\]^_`{|}~', lower=True, char_level = False)\n",
        "tok_test.fit_on_texts(clean_text_t_stem)\n",
        "\n"
      ],
      "metadata": {
        "id": "r597XAqyjfod"
      },
      "execution_count": null,
      "outputs": []
    },
    {
      "cell_type": "code",
      "source": [
        "\n",
        "\n",
        "vocabulary_all_test = len(tok_test.word_counts)\n",
        "print(vocabulary_all_test)\n",
        "\n"
      ],
      "metadata": {
        "colab": {
          "base_uri": "https://localhost:8080/"
        },
        "outputId": "92b72ebe-e4cc-43af-c929-881a584ef8ff",
        "id": "Furm3nzrjfoe"
      },
      "execution_count": null,
      "outputs": [
        {
          "output_type": "stream",
          "name": "stdout",
          "text": [
            "14335\n"
          ]
        }
      ]
    },
    {
      "cell_type": "code",
      "source": [
        "test_list = tok_test.word_index\n",
        "print(test_list)"
      ],
      "metadata": {
        "colab": {
          "base_uri": "https://localhost:8080/"
        },
        "outputId": "3db5eb51-a9f7-4b81-e56d-104dcb0ebdd8",
        "id": "SyhlBUq4jfoe"
      },
      "execution_count": null,
      "outputs": [
        {
          "output_type": "stream",
          "name": "stdout",
          "text": [
            "{'u': 1, 'lbr': 2, 'fuer': 3, 'ja': 4, 'mehr': 5, 'spd': 6, 'mal': 7, 'e': 8, 'schon': 9, 'immer': 10, 'ist': 11, 'fcsp': 12, 'de': 13, 'ueber': 14, 'gibt': 15, 'ha': 16, 'heute': 17, 'watch': 18, 'mena': 19, 'jungnaiv': 20, 'tilojung': 21, 'sdgmasterglass': 22, 'ilona': 23, 'gr': 24, 'czsystuvx': 25, 'netzengel': 26, 'palactnet': 27, 'cdu': 28, 'deutschland': 29, 'vonbeutelratte': 30, 'wer': 31, 'nicht': 32, 'z': 33, 'einfach': 34, '0001f3fb': 35, 'menschen': 36, 'koennen': 37, 'geht': 38, 'iv': 39, 's': 40, '0001f923': 41, 'warum': 42, 'en': 43, 'ba': 44, '0001f602': 45, 'wuerde': 46, 'albe': 47, 'enst1': 48, '2': 49, 'bschuller': 50, 'berlinpapers': 51, 'merkel': 52, 'a': 53, 'waere': 54, '0001f914': 55, 'welt': 56, 'kommt': 57, '0001f44d': 58, 'macht': 59, 'afd': 60, 'gut': 61, 've': 62, 'werden': 63, 'wird': 64, 'toll': 65, 'leben': 66, 'muessen': 67, 'ganz': 68, 'gruenen': 69, 'hat': 70, 'pa': 71, 'genau': 72, 'sein': 73, 'deutsche': 74, '0001f621': 75, 'haben': 76, 'deutschen': 77, 'nie': 78, 'ab': 79, '261d': 80, 'frage': 81, 'georgkleine': 82, '0001f595': 83, 'seit': 84, '3': 85, 'gar': 86, 'sagen': 87, 'land': 88, 'an': 89, '1': 90, 'wildegesellin': 91, 'gerade': 92, 'wurde': 93, 'sind': 94, 'eigentlich': 95, 'ne': 96, 'weiss': 97, 'dafuer': 98, 'steht': 99, 'twitter': 100, 'klar': 101, 'recht': 102, 'denen': 103, 'halt': 104, 'csu': 105, 'darf': 106, 'frau': 107, '0001f609': 108, 'd': 109, 'allesevolution': 110, 'haette': 111, 'we': 112, 'ei': 113, 'frauen': 114, 'sagt': 115, 'leute': 116, 'polizei': 117, 'wurden': 118, 'tun': 119, 'gehen': 120, 'lassen': 121, 'nein': 122, 'linke': 123, 'richtig': 124, 'guyelster': 125, 'benabyad': 126, 'greatreturnma': 127, 'ungeneva': 128, 'wissen': 129, 'politik': 130, 'viele': 131, 'kommen': 132, 'kinder': 133, 'mann': 134, '0001f644': 135, 'erst': 136, 'beim': 137, 'nahles': 138, 'wohl': 139, 'so': 140, 'ski3989': 141, 'stefanolix': 142, 'geld': 143, 'wegen': 144, 'frankfu': 145, 'sehen': 146, 'hast': 147, 'schoen': 148, 'do': 149, 'koennte': 150, 'buerger': 151, 'raus': 152, 'auf': 153, 'gemacht': 154, 'jahren': 155, 'opfer': 156, 'zeit': 157, 'dabei': 158, 'acarlukas': 159, 'jahre': 160, 'wirklich': 161, 'besser': 162, 'problem': 163, 'bitte': 164, 'davon': 165, 'fdp': 166, 'machen': 167, 'danke': 168, 'lesen': 169, 'fe0f': 170, 'tag': 171, 'scheisse': 172, 'nehmen': 173, 'islam': 174, 'laesst': 175, 'ueberhaupt': 176, 'taeter': 177, 'sogar': 178, 'aus': 179, 'tweet': 180, 'eu': 181, 'ganze': 182, 'sollten': 183, 'genug': 184, '0001f605': 185, 'gerne': 186, 'nazis': 187, 'eben': 188, 'linken': 189, '10': 190, 'geben': 191, 'politiker': 192, '0001f643': 193, 'neue': 194, 'liebkind666': 195, 'gab': 196, 'das': 197, 'kann': 198, 'die': 199, 'sieht': 200, 'bleiben': 201, 'kritik': 202, 'system': 203, 'arbeiten': 204, 'weniger': 205, 'medien': 206, 'vielleicht': 207, 'bekommen': 208, 'bestimmt': 209, 'is': 210, 'eher': 211, 'amp': 212, 'apvogt': 213, 'eigenen': 214, 'sehe': 215, 'auch': 216, 'nix': 217, 'und': 218, 'sicher': 219, 'lowkacs': 220, 'angst': 221, 'lange': 222, 'zahlen': 223, 'gewalt': 224, 'endlich': 225, 'wahl': 226, 'mensch': 227, 'sollen': 228, 'gruene': 229, 'aber': 230, 'terror': 231, 'braucht': 232, 'stehen': 233, 'dumm': 234, 'staat': 235, 'herr': 236, '0001f633': 237, 'millionen': 238, 'arbeit': 239, 'juden': 240, 'scheiss': 241, 'europa': 242, 'ferkel': 243, 'will': 244, 'nazi': 245, 'ach': 246, 'gleich': 247, 'natuerlich': 248, 'bleibt': 249, 'jemand': 250, 'sie': 251, '5': 252, 'ende': 253, '0001f60b': 254, 'm': 255, 'wahrscheinlich': 256, 'sorry': 257, '0001f60e': 258, 'tafeln': 259, 'jogginghosenafa': 260, 'meinung': 261, 'berlin': 262, 'heisst': 263, 'laeuft': 264, 'lieber': 265, 'stegner': 266, 'muss': 267, 'leider': 268, 'niemand': 269, 'finde': 270, 'egal': 271, 'jahr': 272, 'sei': 273, 'waehlen': 274, 'akk': 275, '0001f437': 276, '0001f913': 277, 'nprncbl': 278, 'tapetenlama': 279, 'faznet': 280, 'fall': 281, 'luegen': 282, 'na': 283, 'nichts': 284, 'tagesschau': 285, 'fast': 286, 'krieg': 287, 'bild': 288, 'ihrseiddo': 289, 'wann': 290, 'volk': 291, 'antisemitismus': 292, 'tato': 293, 'wa': 294, 'armut': 295, 'essen': 296, 'suppenkuechen': 297, 'zeigt': 298, 'presse': 299, 'sofo': 300, 'deren': 301, 'frei': 302, 'muell': 303, 'ziemlich': 304, 'waehrend': 305, 'tatsaechlich': 306, 'allerdings': 307, 't': 308, 'gute': 309, 'falsch': 310, 'antwo': 311, 'suchen': 312, 'klasnaborba': 313, 'morgen': 314, 'palaestinenser': 315, 'seid': 316, 'war': 317, 'brd': 318, 'demokratie': 319, 'zdfheute': 320, 'zurueck': 321, 'maenner': 322, 'komplett': 323, 'passt': 324, 'darueber': 325, 'antifa': 326, 'glaube': 327, '15': 328, 'ich': 329, 'bereits': 330, 'israel': 331, 'kopf': 332, 'b': 333, 'n': 334, 'o': 335, 'guten': 336, 'nen': 337, 'gestern': 338, 'text': 339, 'zionistischen': 340, 'fuehrer': 341, 'weit': 342, 'fluechtlinge': 343, 'drei': 344, 'arsch': 345, 'h': 346, 'propaganda': 347, 'voll': 348, 'gesellschaft': 349, 'ma': 350, 'hunde': 351, 'doch': 352, 'geworden': 353, 'regierung': 354, 'ahnung': 355, '100': 356, 'dachte': 357, 'punkt': 358, 'stunden': 359, 'nacht': 360, 'paar': 361, 'wieder': 362, 'frazionetoskana': 363, 'sowas': 364, 'toteraufurlaub': 365, 'opposum5': 366, 'florianaigner': 367, 'gerritmarsen': 368, 'lnnen': 369, 'wt': 370, 'ibes': 371, 'deshalb': 372, 'ein': 373, 'et': 374, 'reden': 375, 'es': 376, 'zdf': 377, 'erklaeren': 378, 'liebe': 379, 'ffm': 380, 'wollen': 381, 'bevoelkerung': 382, 'trotzdem': 383, 'macron': 384, 'erklae': 385, 'grund': 386, '0001f601': 387, 'mittlerweile': 388, 'gesehen': 389, 'ig': 390, 'hoe': 391, 'ausser': 392, 'job': 393, 'los': 394, 'gesagt': 395, '270c': 396, 'gelbwesten': 397, 'selber': 398, 'wichtig': 399, 'alleine': 400, 'migranten': 401, 'thema': 402, 'geschichte': 403, 'gutmenschen': 404, 'habt': 405, 'finden': 406, 'statt': 407, 'wuerden': 408, '0': 409, 'links': 410, 'ganzen': 411, 'punkte': 412, '7': 413, 'hoffentlich': 414, 'wenig': 415, 'darauf': 416, 'hassanhadjali': 417, 'auto': 418, '30': 419, 'demo': 420, 'neuen': 421, 'letzten': 422, 'schlecht': 423, 'gleiche': 424, 'korrupten': 425, 'nordischbynatur': 426, '219a': 427, 'enschenrechte': 428, 'fuelinup': 429, 'bullenschubser': 430, 'futureworldxxl': 431, 'namen': 432, 'ferkelfunk': 433, 'passie': 434, 'laecherlich': 435, 'nennt': 436, 'tut': 437, 'gefahr': 438, 'zeigen': 439, 'the': 440, 'verantwo': 441, 'spaeter': 442, 'armen': 443, 'zwei': 444, 'c': 445, '0001f92d': 446, 'oft': 447, 'voellig': 448, 'dergermane2': 449, 'bisschen': 450, 'tweets': 451, 'i': 452, 'oh': 453, 'erwa': 454, 'ok': 455, 'merz': 456, '20': 457, 'woche': 458, 'kennt': 459, 'nochmal': 460, 'deswegen': 461, 'echt': 462, 'offensichtlich': 463, 'naechste': 464, 'solidaritaet': 465, 'paris': 466, 'uhr': 467, 'frankreich': 468, 'seehofer': 469, '0001f419': 470, 'einheimischen': 471, 'zionisten': 472, 'anke52936620': 473, 'lanyihunter1': 474, 'assassina36': 475, 'ie': 476, 'was': 477, 'news': 478, 'wie': 479, 'schnell': 480, 'duerfen': 481, 'plan': 482, 'halten': 483, 'hoeren': 484, 'lachen': 485, 'stellen': 486, 'rechts': 487, 'fordern': 488, 'daran': 489, 'findet': 490, 'darum': 491, 'grossen': 492, 'eien': 493, 'haetten': 494, 'karrenbauer': 495, 'ddr': 496, 'chemnitz': 497, 'je': 498, 'usa': 499, 'uebrigens': 500, 'minuten': 501, 'schaft': 502, 'politisch': 503, 'rassismus': 504, 'heimat': 505, 'verloren': 506, '0001f92e': 507, 'ikel': 508, 'rein': 509, 'kultur': 510, 'einzige': 511, 'bevor': 512, 'schreibt': 513, 'germanseries': 514, 'abend': 515, 'stimmt': 516, 'gelesen': 517, 'bedeutet': 518, 'wi': 519, 'gern': 520, 'aufgrund': 521, 'duracellsheep': 522, 'bea76190653': 523, 'augen': 524, 'stasi': 525, 'brauchen': 526, 'kaum': 527, 'folgen': 528, 'schwer': 529, 'zukunft': 530, 'etc': 531, 'rest': 532, 'ernst': 533, 'rechte': 534, 'nich': 535, 'hoch': 536, 'kleine': 537, 'deutscher': 538, 'ging': 539, 'verfassungsschutz': 540, 'gehoe': 541, 'satz': 542, 'alter': 543, 'letzte': 544, 'bald': 545, 'unserer': 546, 'spiel': 547, 'kotzen': 548, 'ey': 549, 'besten': 550, 'naja': 551, 'waeren': 552, 'auswae': 553, 'arschloch': 554, 'hand': 555, 'ansonsten': 556, 'fuers': 557, 'konnte': 558, 'drueber': 559, 'super': 560, 'moechte': 561, 'drauf': 562, 'shirotania': 563, 'situation': 564, 'gefunden': 565, 'mach': 566, 'arm': 567, 'scheint': 568, 'europaeischen': 569, 'groko': 570, 'reiche': 571, 'jw': 572, 'kaputtnikkkk': 573, 'europaeer': 574, 'kolonie': 575, 'alexsta': 576, 'hoppenina': 577, 'religion': 578, 'impo': 579, 'fuehren': 580, 'besonders': 581, 'nrw': 582, 'wahrheit': 583, 'all': 584, 'frueher': 585, 'bezahlen': 586, 'vielen': 587, 'genauso': 588, 'kind': 589, 'el': 590, 'not': 591, 'westen': 592, 'retten': 593, 'k': 594, 'interessie': 595, 'zusammen': 596, 'schuld': 597, 'eigene': 598, 'lustig': 599, 'gedanken': 600, 'jazzlover2021': 601, 'eh': 602, 'deutsch': 603, 'damals': 604, 'mir': 605, 'meisten': 606, 'gehe': 607, 'politischen': 608, 'setzen': 609, 'p': 610, 'denke': 611, '18': 612, 'profit': 613, 'reicht': 614, 'igesamt': 615, 'you': 616, 'jedoch': 617, 'gleichen': 618, 'rum': 619, 'der': 620, '200d': 621, 'alte': 622, 'liste': 623, 'un': 624, 'eltern': 625, 'einfuehren': 626, 'flaschen': 627, 'kinderarmut': 628, 'familie': 629, 'klimawandel': 630, 'luegner': 631, 'revolution': 632, 'aktien': 633, '0001f44c': 634, '0001f37a': 635, 'maischberger': 636, 'miraculix23': 637, 'datflug': 638, 'outofvalhalla': 639, 'karina140911': 640, 'bergifrau00': 641, 'madameschwarzi': 642, 'maybritillner': 643, 'accounts': 644, 'schaeuble': 645, 'ehrlich': 646, '000': 647, 'schreiben': 648, 'heraus': 649, 'person': 650, 'niemals': 651, 'schauen': 652, 'tagesspiegel': 653, 'bezahlt': 654, 'denkt': 655, 'stellt': 656, 'verstehen': 657, 'krank': 658, 'haelt': 659, 'gesicht': 660, 'irgendwann': 661, 'herkunft': 662, 'politische': 663, 'richtige': 664, 'zu': 665, '4': 666, 'fehler': 667, 'gott': 668, 'fragen': 669, 'arme': 670, 'weisse': 671, 'kreis': 672, 'sitzen': 673, 'uebrigen': 674, 'kenne': 675, 'deutlich': 676, 'sinn': 677, 'lt': 678, 'besteht': 679, 'solange': 680, 'szene': 681, 'geh': 682, 'ergebnis': 683, 'wenigstens': 684, 'gewinnen': 685, 'hasse': 686, 'kapital': 687, 'moeglich': 688, 'danieldorville2': 689, 'gegenueber': 690, 'ard': 691, 'bekommt': 692, 'strasse': 693, 'sternenrot': 694, 'faellt': 695, 'naechsten': 696, 'erstmal': 697, 'weiterhin': 698, 'dagegen': 699, 'mag': 700, 'argumente': 701, 'korrupte': 702, '2642': 703, 'fresse': 704, 'muesste': 705, 'sprechen': 706, 'regime': 707, 'genossen': 708, 'soll': 709, 'nur': 710, 'loominext': 711, 'angeblich': 712, 'anti': 713, 'sozialismus': 714, 'aktivisten': 715, '2704': 716, 'bierkrawalle': 717, 'ralf': 718, 'invictu53409591': 719, 'abschaffen': 720, 'empoerung': 721, 'bringt': 722, 'dadurch': 723, 'freuen': 724, 'sich': 725, 'noch': 726, 'handeln': 727, 'kam': 728, 'gefuehl': 729, 'erkennen': 730, 'nimmt': 731, 'hilfe': 732, 'tuer': 733, 'mich': 734, 'iq': 735, 'ziel': 736, 'lang': 737, '12': 738, 'umfrage': 739, 'sag': 740, 'sanktionen': 741, 'hitler': 742, 'follower': 743, '0001f631': 744, 'in514337541': 745, 'erste': 746, 'ploetzlich': 747, 'trotz': 748, 'geblockt': 749, 'veru': 750, 'altpa': 751, 'zaehlen': 752, 'bayern': 753, 'nation': 754, 'idee': 755, 'verlieren': 756, 'ka': 757, 'gilt': 758, 'realitaet': 759, 'l': 760, 'mit': 761, 'hamas': 762, 'bundestag': 763, 'total': 764, 'nutzen': 765, 'china': 766, '0001f60a': 767, 'immerhin': 768, 'gt': 769, 'langsam': 770, 'werfen': 771, 'vie': 772, 'glueck': 773, 'kannst': 774, 'ca': 775, 'kapitalismus': 776, 'beispiel': 777, 'aussage': 778, 'treffen': 779, 'offenbar': 780, '6': 781, 'freunde': 782, 'waehler': 783, 'genuegend': 784, 'schroeder': 785, 'lass': 786, '01': 787, 'gleichzeitig': 788, 'funktionie': 789, 'ideologie': 790, 'seite': 791, 'sage': 792, 'musst': 793, 'irgendwas': 794, 'typ': 795, 'laender': 796, 'freie': 797, 'kaufen': 798, 'zuerst': 799, 'verbrechen': 800, 'tuerkei': 801, 'brexit': 802, 'persoenlich': 803, 'kramp': 804, 'glauben': 805, 'surplusproduce': 806, 'rag': 807, 'bspw': 808, 'account': 809, 'vor': 810, 'fehlt': 811, 'v': 812, 'kolonisten': 813, 'pyuntama': 814, 'toteseele82': 815, 'kundgebung': 816, 'korruption': 817, 'suess': 818, 'woher': 819, 'falsche': 820, 'br24': 821, 'verbreiten': 822, 'moerder': 823, 'oeffentlichkeit': 824, 'spiegelonline': 825, 'bahn': 826, 'wdr': 827, '14': 828, 'worden': 829, 'denken': 830, 'nachbarn': 831, 'teil': 832, 'terroristen': 833, 'ung': 834, 'dumme': 835, 'laut': 836, 'da': 837, 'usw': 838, 'geschafft': 839, 'schaffen': 840, 'eil': 841, 'platz': 842, 'ziehen': 843, 'gutes': 844, 'mache': 845, 'voller': 846, 'menschheit': 847, 'glaubt': 848, 'steffmann45': 849, 'uns': 850, 'islamisten': 851, 'ebenso': 852, 'deal': 853, 'ernsthaft': 854, 'taeglich': 855, 'kindern': 856, 'junge': 857, '11': 858, 'sprache': 859, 'beiden': 860, 'fern': 861, 'haltung': 862, 'nazisraus': 863, '2019': 864, '2714': 865, 'etwa': 866, 'liegt': 867, 'freiheit': 868, 'stueck': 869, 'koennten': 870, 'white': 871, 'jahrhunde': 872, 'no': 873, 'kommunismus': 874, 'jetzt': 875, 'spass': 876, 'nonazis': 877, 'thread': 878, 'nach': 879, 'annewill': 880, 'schluss': 881, 'sowieso': 882, 'peinlich': 883, 'geil': 884, 'uff': 885, 'naechstes': 886, 'tja': 887, 'sau': 888, 'quellen': 889, 'kriminellen': 890, 'glaub': 891, 'hoffe': 892, 'danach': 893, 'gibts': 894, 'mord': 895, 'feie': 896, 'widerstand': 897, 'hallo': 898, 'jetz': 899, 'schoene': 900, 'sucht': 901, 'studie': 902, 'zumindest': 903, 'grad': 904, 'eddie': 905, '1412': 906, 'helllud123': 907, 'versucht': 908, 'wen': 909, 'merkelmussweg': 910, 'soviel': 911, 'scheinbar': 912, 'andreaschlegel3': 913, 'karl': 914, 'grenzen': 915, 'irgendwie': 916, 'reichen': 917, 'weil': 918, 'menschenrechte': 919, 'betteln': 920, 'zahl': 921, 'sagte': 922, '2018': 923, 'grosse': 924, 'buch': 925, 'ruhig': 926, 'film': 927, 'diskussion': 928, 'unrecht': 929, '19': 930, 'daniel': 931, 'ostfrieseinfran': 932, 'legen': 933, 'leuten': 934, 'stalinist': 935, 'proeiszeitdeaf': 936, 'reconquista': 937, '23': 938, 'hambacherforst': 939, '30h': 940, 'komisch': 941, 'hass': 942, 'dreck': 943, 'birmingham': 944, 'england': 945, 'normal': 946, 'gebe': 947, 'gefueh': 948, 'heissen': 949, 'weder': 950, 'genannt': 951, 'hm': 952, 'interessieren': 953, 'name': 954, 'schlimmer': 955, 'liegen': 956, 'schlimm': 957, 'berichten': 958, 'verletzt': 959, 'siehe': 960, 'leiden': 961, 'strafe': 962, 'satire': 963, 'bilder': 964, 'welcome': 965, 'hetzer': 966, 'aeh': 967, 'vergessen': 968, 'spielt': 969, 'liest': 970, 'hirn': 971, 'schicken': 972, 'bringen': 973, 'cem': 974, 'um': 975, 'zb': 976, 'gesper': 977, 'spiegel': 978, 'luegenpresse': 979, 'steuern': 980, 'verlassen': 981, 'stimmen': 982, 'machst': 983, 'kranke': 984, 'dringend': 985, 'wunder': 986, 'hoelle': 987, 'mont1701': 988, 'stalin': 989, 'klima': 990, 'eilt': 991, 'begriff': 992, 'unterscheiden': 993, 'uebe': 994, 'null': 995, 'vorher': 996, 'deutschlands': 997, 'meint': 998, 'of': 999, 'seiten': 1000, 'fuehlt': 1001, 'regel': 1002, 'quatsch': 1003, 'schreiber': 1004, 'aende': 1005, 'stand': 1006, 'hunger': 1007, 'world': 1008, 'arbeiter': 1009, 'cyclinginside': 1010, 'sonntag': 1011, 'nase': 1012, '24': 1013, 'fe': 1014, 'aberfair': 1015, 'fuck': 1016, 'wenn': 1017, 'samstag': 1018, 'paul': 1019, 'habe': 1020, 'trump': 1021, 'kita': 1022, 'fakten': 1023, 'gruenden': 1024, 'unglaublich': 1025, 'gegenteil': 1026, 'ding': 1027, 'willst': 1028, 'folter': 1029, 'schritt': 1030, 'tagen': 1031, 'abschaum': 1032, 'kurz': 1033, 'sollte': 1034, 'alle': 1035, 'stadt': 1036, 'allein': 1037, 'top': 1038, 'queensolaphea': 1039, 'uni': 1040, 'spaet': 1041, 'vorbei': 1042, 'schlafen': 1043, 'gruppe': 1044, 'grade': 1045, 'texte': 1046, 'draussen': 1047, 'haiderbekah': 1048, 'folge': 1049, 'beste': 1050, 'typen': 1051, 'also': 1052, 'automatisch': 1053, 'per': 1054, 'winter': 1055, 'wasser': 1056, 'islamische': 1057, '0001f44a': 1058, '0001f926': 1059, 'spitze': 1060, 'bundesregierung': 1061, 'haus': 1062, 'dennoch': 1063, 'leid': 1064, 'kanzlerin': 1065, 'berliner': 1066, 'diejenigen': 1067, 'doener': 1068, 'schafft': 1069, 'kritische': 1070, 'unterschied': 1071, 'komme': 1072, 'naeher': 1073, 'unten': 1074, '16': 1075, 'regelsatz': 1076, 'erlaubt': 1077, 'soeder': 1078, 'empfaenger': 1079, 'verbot': 1080, 'bekannt': 1081, 'alt': 1082, 'monate': 1083, 'hungern': 1084, 'spahn': 1085, 'durch': 1086, 'kampf': 1087, 'proteste': 1088, 'physeterj': 1089, 'gsp': 1090, 'verhindern': 1091, 'kapitalisten': 1092, 'behaupten': 1093, 'entwicklung': 1094, 'quasi': 1095, 'manchmal': 1096, 'lino': 1097, 'bzw': 1098, 'beide': 1099, 'gruss': 1100, 'du': 1101, 'behauptet': 1102, 'tempolimit': 1103, 'palaestina': 1104, 'egutkin': 1105, 'sam': 1106, 'verclai': 1107, 'alten': 1108, 'wolkenfluff': 1109, 'unfassbar': 1110, 'bla': 1111, 'femen': 1112, 'nocki61': 1113, 'krone18': 1114, 'markuslanz': 1115, 'erdogannotwelcome': 1116, 'nopegida': 1117, 'ueberall': 1118, 'luege': 1119, 'euro': 1120, 'rede': 1121, 'praesentie': 1122, 'lied': 1123, 'keule': 1124, 'handelt': 1125, 'mdraktuell': 1126, 'urlaub': 1127, 'rassisten': 1128, 'guter': 1129, 'fr': 1130, 'erfolg': 1131, 'gelernt': 1132, 'fahren': 1133, 'heil': 1134, 'gejagt': 1135, 'wozu': 1136, '2015': 1137, 'aendern': 1138, 'positive': 1139, 'industrie': 1140, 'tor': 1141, 'versuchen': 1142, 'klappt': 1143, 'keine': 1144, 'anstatt': 1145, 'einzigen': 1146, 'video': 1147, 'rolle': 1148, 'hintern': 1149, 'umwelt': 1150, 'seien': 1151, 'syrien': 1152, 'idioten': 1153, 'spdde': 1154, 'oezdemir': 1155, 'asylanten': 1156, 'sinne': 1157, 'gerechtigkeit': 1158, 'laendern': 1159, 'ungarn': 1160, 'groesste': 1161, 'weisst': 1162, 'merken': 1163, 'dank': 1164, 'toleranz': 1165, 'wernergoehl': 1166, 'setzt': 1167, 'al': 1168, 'haelfte': 1169, 'erdogan': 1170, 'eindruck': 1171, 'schutz': 1172, 'herrn': 1173, 'afrika': 1174, 'vater': 1175, 'naemlich': 1176, 'irre': 1177, 'echte': 1178, 'weg': 1179, 'islamismus': 1180, 'videos': 1181, 'eilen': 1182, 'antisemiten': 1183, 'yuma': 1184, 'lein': 1185, 'hh': 1186, 'waehlt': 1187, 'wachsen': 1188, 'feminismus': 1189, 'gewaehlt': 1190, 'lust': 1191, 'igen': 1192, '8': 1193, '13': 1194, 'entweder': 1195, 'kotzt': 1196, 'st': 1197, 'pauli': 1198, 'bloed': 1199, 'tipp': 1200, 'w': 1201, 'r': 1202, 'richtigen': 1203, 'passieren': 1204, 'loesung': 1205, 'for': 1206, 'mindestens': 1207, 'analyse': 1208, 'sogenannte': 1209, 'bist': 1210, 'tod': 1211, 'wuerdest': 1212, 'these': 1213, 'anfang': 1214, 'eidigt': 1215, 'polizisten': 1216, 'erzaehlen': 1217, 'bullen': 1218, 'rote': 1219, 'rechtsstaat': 1220, 'fo': 1221, 'ekelhaft': 1222, 'himmel': 1223, 'verstehe': 1224, 'konflikt': 1225, 'fallen': 1226, 'ner': 1227, 'wach': 1228, 'sommer': 1229, 'momentan': 1230, 'lasst': 1231, 'falls': 1232, 'lediglich': 1233, 'x': 1234, 'aussagen': 1235, 'zusammenhang': 1236, 'fand': 1237, 'wut': 1238, 'islamischen': 1239, 'verdienen': 1240, 'christen': 1241, 'selbst': 1242, 'entscheiden': 1243, '0001f339': 1244, 'rentner': 1245, 'rot': 1246, 'linksfaschisten': 1247, 'messer': 1248, 'damit': 1249, 'welle': 1250, 'geistig': 1251, 'fluechtling': 1252, 'internet': 1253, 'jobcenter': 1254, 'us': 1255, 'tafel': 1256, 'paragraf': 1257, 'bezahlten': 1258, 'ministerposten': 1259, 'ueberleben': 1260, 'seeheimer': 1261, 'neues': 1262, 'gesetz': 1263, 'may': 1264, 'hungerlohn': 1265, 'freitag': 1266, 'neuer': 1267, 'mehrere': 1268, 'muessten': 1269, 'normale': 1270, 'fest': 1271, 'elend': 1272, 'me': 1273, 'droht': 1274, 'kamnonym': 1275, 'btw': 1276, 'bauen': 1277, 'kriegt': 1278, 'bisher': 1279, 'stahlnippel': 1280, 'markt': 1281, 'kp': 1282, 'peter': 1283, 'forschungsto': 1284, 'weste': 1285, 'genommen': 1286, 'haltet': 1287, 'gedanke': 1288, 'hetze': 1289, 'irrsinn': 1290, 'steinbacherika': 1291, 'vorfahren': 1292, 'rieben': 1293, 'verschiedene': 1294, 'vatoloco61': 1295, 'sunny': 1296, 'odiumnostrum': 1297, 'arasbacho': 1298, 'apatzwahl': 1299, 'ofenschlampe': 1300, 'afgveteran': 1301, 'feindpresse': 1302, 'botanikqueen': 1303, 'fieswurz': 1304, 'afrin': 1305, 'welcomeffm': 1306, 'refugeeswelcome': 1307, 'tatsachen': 1308, 'aktuelle': 1309, 'leyen': 1310, 'amt': 1311, 'wobei': 1312, 'konstrukt': 1313, 'nun': 1314, 'holen': 1315, 'dazu': 1316, 'klasse': 1317, 'klientel': 1318, 'schweigen': 1319, 'gehalten': 1320, 'glaubwuerdigkeit': 1321, 'regsprecher': 1322, 'widerliche': 1323, 'eile': 1324, 'missbrauch': 1325, 'sonst': 1326, '80': 1327, 'gefaellt': 1328, 'mehrheit': 1329, 'zehn': 1330, 'gestellt': 1331, 'dahin': 1332, 'zeug': 1333, 'zeiten': 1334, 'taten': 1335, 'reale': 1336, '2017': 1337, 'behoerden': 1338, 'hoffen': 1339, 'helfen': 1340, 'statistik': 1341, 'gewollt': 1342, 'werbung': 1343, 'nachrichten': 1344, 'nennen': 1345, 'googeln': 1346, 'dummheit': 1347, 'etwas': 1348, 'folgt': 1349, 'bestellt': 1350, 'willen': 1351, 'zerstoe': 1352, 'vollkommen': 1353, 'asyl': 1354, 'rassist': 1355, 'steuergeldern': 1356, 'kranken': 1357, 'mist': 1358, 'tisch': 1359, 'ir': 1360, 'jensspahn': 1361, 'verschwinden': 1362, 'dummen': 1363, 'faschismus': 1364, 'ragen': 1365, 'wir': 1366, 'festgestellt': 1367, 'soziale': 1368, 'strassen': 1369, 'fragt': 1370, 'meinungen': 1371, 'sorgen': 1372, 'straftaeter': 1373, 'ausland': 1374, 'weihnachten': 1375, 'familien': 1376, 'zuviel': 1377, 'davor': 1378, 'angela': 1379, 'alexf50451971': 1380, 'jutta98811424': 1381, 'iran': 1382, 'vs': 1383, 'krippmarie': 1384, 'shakriet': 1385, 'walsberger49': 1386, 'tragen': 1387, 'jutta': 1388, 'po': 1389, 'bekaempft': 1390, 'kaelte': 1391, 'schliesst': 1392, 'chrisishere9': 1393, 'praktisch': 1394, 'marktwi': 1395, 'feind': 1396, 'eienka': 1397, 'lernen': 1398, 'wieviele': 1399, 'dicht': 1400, 'erschiessen': 1401, 'moeglichkeit': 1402, 'kleiner': 1403, 'laengst': 1404, 'minderheit': 1405, 'verfolgt': 1406, 'heikomaas': 1407, 'nette': 1408, 'beispiele': 1409, 'entgegen': 1410, 'islamisierung': 1411, 'hier': 1412, 'witz': 1413, 'laufen': 1414, 'oppo': 1415, 'europaeern': 1416, 'spricht': 1417, 'verhalten': 1418, 'schwaeche': 1419, 'jahrelang': 1420, 'to': 1421, 'araber': 1422, 'ellibisathide': 1423, 'hut': 1424, 'behinde': 1425, 'hallaschka': 1426, 'lauterbach': 1427, 'bus': 1428, 'my': 1429, 'ruecken': 1430, 'sparen': 1431, 'jedesmal': 1432, 'weiter': 1433, 'tv': 1434, 'hey': 1435, 'stark': 1436, 'bescheue': 1437, 'g': 1438, 'it': 1439, 'ersten': 1440, 'gebracht': 1441, 'ecke': 1442, 'bewusstsein': 1443, 'geschrieben': 1444, 'standards': 1445, 'mittel': 1446, 'er': 1447, 'heuteshow': 1448, 'einst': 1449, 'genannten': 1450, 'abschieben': 1451, 'eimer': 1452, 'hanvoi': 1453, 'kritisch': 1454, 'tot': 1455, 'schweine': 1456, 'meist': 1457, 'sozial': 1458, 'wieso': 1459, 'lese': 1460, 'verstanden': 1461, 'taz': 1462, 'profsalzborn': 1463, 'unterstuetzung': 1464, 'monikaherrmann1': 1465, 'friedlich': 1466, 'cent': 1467, 'religionen': 1468, 'entspricht': 1469, 'nett': 1470, 'interesse': 1471, 'befreiung': 1472, 'l8mal': 1473, 'gegeben': 1474, 'co2': 1475, 'teufel': 1476, 'brot': 1477, 'direkt': 1478, 'einzelne': 1479, 'bett': 1480, 'dran': 1481, 'gegangen': 1482, 'groessten': 1483, 'anscheinend': 1484, 'zug': 1485, 'kleinen': 1486, 'haende': 1487, 'boese': 1488, 'extrem': 1489, 'ganzes': 1490, 'spielen': 1491, 'nem': 1492, 'erklaerung': 1493, 'ergebnisse': 1494, 'bewegen': 1495, 'noetig': 1496, 'ehre': 1497, 'staatlich': 1498, 'finanzie': 1499, 'soweit': 1500, 'unterstuetzen': 1501, 'zudem': 1502, 'aufgabe': 1503, 'dinge': 1504, 'fuehlen': 1505, 'ums': 1506, 'zieht': 1507, 'unschuldige': 1508, 'steigt': 1509, 'erhalten': 1510, 'einzelfallinfos': 1511, 'illegalen': 1512, 'jouwatch': 1513, 'traurig': 1514, 'lich': 1515, 'wofuer': 1516, 'alimentie': 1517, 'daue': 1518, 'aufruf': 1519, 'ps': 1520, 'diversity': 1521, 'anders': 1522, 'freesou29733893': 1523, 'fluechtlingen': 1524, 'terrorist': 1525, 'franzoesische': 1526, 'kommunisten': 1527, 'lebt': 1528, 'geistigen': 1529, 'vollpfosten': 1530, 'sogenannten': 1531, 'moslem': 1532, 'polen': 1533, 'paragrafen': 1534, 'jesus': 1535, 'niedrigloehner': 1536, 'rente': 1537, 'suppenkueche': 1538, 'klein': 1539, 'nuernberg': 1540, 'in': 1541, 'bande': 1542, 'brandt': 1543, 'gestoe': 1544, 'strassburg': 1545, 'ziemiak': 1546, 'oeffentlich': 1547, 'behandlung': 1548, 'jeder': 1549, 'verboten': 1550, 'hilft': 1551, 'gewonnen': 1552, 'korrupt': 1553, 'zuschauer': 1554, 'dgb': 1555, 'sozialistische': 1556, 'buergerliche': 1557, 'bolschewik69': 1558, 'fjodor': 1559, 'sibelschick': 1560, 'gesprochen': 1561, 'innen': 1562, 'priv187': 1563, 'lies': 1564, 'quelle': 1565, 'kontrollieren': 1566, 'daher': 1567, 'haengt': 1568, 'hundimbuero': 1569, 'moegen': 1570, 'groesseren': 1571, 'lol': 1572, 'haha': 1573, 'loser': 1574, 'lobby': 1575, 'gemeinsam': 1576, 'gelbe': 1577, 'symbol': 1578, 'pfosten': 1579, 'sache': 1580, 'tuebingen': 1581, 'blick': 1582, 'legt': 1583, 'lkw': 1584, 'biene': 1585, 'diesel': 1586, 'lage': 1587, 'yo': 1588, 'nan': 1589, 'kurden': 1590, 'tobiashuch': 1591, 'redace78': 1592, 'zustand': 1593, 'hiermit': 1594, '0001f610': 1595, 'nee': 1596, 'kllnazis': 1597, 'gutschein': 1598, 'opa': 1599, 'liberale': 1600, 'edithkltzhndlr': 1601, 'themen': 1602, 'presseclub': 1603, 'maxihome27': 1604, 'reiben': 1605, 'rektal': 1606, 'palaestinas': 1607, 'israelischen': 1608, 'dintenfelder': 1609, 'kraehenbeisser': 1610, 'hintergrund': 1611, '0001f3fd': 1612, 'vulgaerbahamit': 1613, 'mayhem': 1614, 'judenwiderstand': 1615, 'tl': 1616, 'catinchief': 1617, 'kasper': 1618, '17': 1619, 'akerstan': 1620, 'systemkritik24': 1621, 'galactica2019': 1622, 'darfst': 1623, 'torsten62128502': 1624, 'connybub': 1625, 'pruefung': 1626, 'sixtus': 1627, 'fisch': 1628, 'manni': 1629, 'schwiege': 1630, 'ochtergesucht': 1631, 'yotta': 1632, 'hambibleibt': 1633, '19h': 1634, 'vdleyen': 1635, 'gesichter': 1636, 'aufklaerung': 1637, 'verwir': 1638, 'schmarotzer': 1639, 'treu': 1640, 'stunde': 1641, 'berichterstattung': 1642, 'wege': 1643, 'seltsam': 1644, 'ferkelmedien': 1645, 'heuchler': 1646, 'lebenslang': 1647, 'bereit': 1648, 'liebster': 1649, 'fuellen': 1650, 'ndrinfo': 1651, 'gefluechtete': 1652, 'rosenthal': 1653, 'umgesetzt': 1654, 'dpa': 1655, 'la': 1656, 'gewissen': 1657, 'morgenpost': 1658, 'betrachtet': 1659, '09': 1660, 'stinkt': 1661, 'bloede': 1662, 'eigenes': 1663, 'extra': 1664, 'irgendwo': 1665, 'skandal': 1666, 'bewiesen': 1667, 'weise': 1668, 'mittwoch': 1669, 'offen': 1670, 'begehen': 1671, 'heutejournal': 1672, 'echter': 1673, 'personen': 1674, 'schreit': 1675, 'kauft': 1676, 'landes': 1677, 'erreicht': 1678, 'michel': 1679, 'getragen': 1680, '1945': 1681, 'finanzieren': 1682, 'sterben': 1683, 'unsinn': 1684, 'froh': 1685, 'spinnen': 1686, 'toeten': 1687, 'gezogen': 1688, 'kraft': 1689, 'regierungen': 1690, 'vo': 1691, 'ermorden': 1692, 'annehmen': 1693, 'okay': 1694, 'doof': 1695, 'str': 1696, 'forde': 1697, 'chef': 1698, 'schande': 1699, 'republik': 1700, 'gundel': 1701, 'gaukeley': 1702, 'begriffe': 1703, '0001f613': 1704, 'maas': 1705, 'dt': 1706, 'linkoiden': 1707, 'sebastianhampel': 1708, 'entfolgt': 1709, 'rettung': 1710, 'and': 1711, 'haar': 1712, 'versteht': 1713, 'durchaus': 1714, 'youtube': 1715, 'bunt': 1716, 'muslime': 1717, 'anderen': 1718, 'pqgregor': 1719, 'ichbinschoener': 1720, 'gmeiderich': 1721, 'zeichen': 1722, 'gerecht': 1723, 'fiel': 1724, 'louiecrit': 1725, '0001f607': 1726, 'wetter': 1727, 'kriegen': 1728, 'hin': 1729, 'ell': 1730, 'apa': 1731, 'ethnische': 1732, 'stelle': 1733, 'boden': 1734, 'reich': 1735, 'troll': 1736, 'reichsbuerger': 1737, 'insbesondere': 1738, 'ausserdem': 1739, 'umgekeh': 1740, 'live': 1741, '0001f1e9': 1742, '0001f1ea': 1743, 'venezuela': 1744, 'uebel': 1745, 'block': 1746, 'sowie': 1747, 'kanzleramt': 1748, 'probleme': 1749, 'meinte': 1750, 'unterstellen': 1751, 'be': 1752, 'marx': 1753, 'akademischen': 1754, 'sohn': 1755, 'debatte': 1756, 'merke': 1757, 'unterschiede': 1758, 'kritisieren': 1759, 'knapp': 1760, '60': 1761, 'muslimische': 1762, 'ihr': 1763, 'vogel': 1764, 'pegida': 1765, 'weltweit': 1766, 'saudi': 1767, 'arabien': 1768, 'baut': 1769, 'afrikaner': 1770, 'wissenschaftlichen': 1771, 'leistung': 1772, 'nationen': 1773, 'weisser': 1774, 'merkels': 1775, 'konze': 1776, 'rufen': 1777, 'meer': 1778, 'definie': 1779, 'blase': 1780, 'schwachsinn': 1781, 'brauch': 1782, 'tieren': 1783, '50': 1784, '00': 1785, 'millerntor': 1786, 'sky': 1787, 'drin': 1788, 'melden': 1789, 'verlie': 1790, 'musik': 1791, 'wahr': 1792, 'och': 1793, 'freut': 1794, 'vorne': 1795, 'dfb': 1796, 'todespuschel': 1797, 'schaut': 1798, 'team': 1799, 'grundsaetzlich': 1800, 'isso': 1801, 'faengt': 1802, 'hinten': 1803, 'herz': 1804, 'sankt': 1805, 'wand': 1806, '69': 1807, 'hmmmm': 1808, 'hauptsache': 1809, 'unbedingt': 1810, 'kack': 1811, 'feiern': 1812, 'sitzt': 1813, 'app': 1814, 'spaltung': 1815, 'respekt': 1816, 'kritisie': 1817, 'widerlegt': 1818, 'falschen': 1819, 'ditfu': 1820, 'staates': 1821, 'existie': 1822, 'kahrs': 1823, 'lurhenne': 1824, 'tschuess': 1825, 'auslaender': 1826, 'gemeinschaft': 1827, 'widerspricht': 1828, 'bin': 1829, 'rechter': 1830, 'absolut': 1831, 'obwohl': 1832, 'schreibst': 1833, 'erzaehlt': 1834, 'gehabt': 1835, 'erleben': 1836, 'dich': 1837, 'lenin': 1838, 'kennen': 1839, 'schrieb': 1840, 'fetisch': 1841, 'schreibe': 1842, 'nsu': 1843, 'freien': 1844, 'regeln': 1845, 'drohen': 1846, 'besondere': 1847, 'prinzip': 1848, 'tazgezwitscher': 1849, 'bs': 1850, 'abschiebung': 1851, 'konservative': 1852, 'anspruch': 1853, 'vorschlag': 1854, 'neu': 1855, '9': 1856, 'starke': 1857, 'retweeten': 1858, 'rechten': 1859, 'fuchs': 1860, 'back': 1861, 'jfda': 1862, 'ev': 1863, 'schoenen': 1864, 'wissenschaft': 1865, 'jreichelt': 1866, 'bundeswehr': 1867, 'kunst': 1868, 'what': 1869, 'grknzrstrr': 1870, 'klingt': 1871, 'komm': 1872, 'fickt': 1873, 'erlebt': 1874, 'kurze': 1875, 'argumentum': 1876, 'ad': 1877, 'wahren': 1878, 'innerhalb': 1879, 'brauche': 1880, 'tief': 1881, 'bekomme': 1882, 'verfolgung': 1883, 'wusste': 1884, 'frueh': 1885, 'juckt': 1886, 'bestehen': 1887, 'bieten': 1888, 'bestes': 1889, 'guete': 1890, 'dann': 1891, 'verlangen': 1892, 'bewegung': 1893, 'verschiedenen': 1894, 'sehr': 1895, 'beleg': 1896, 'erarbeitet': 1897, 'stiftung': 1898, 'niveau': 1899, 'blog': 1900, 'existenz': 1901, 'bilden': 1902, 'existenzrecht': 1903, 'nutzt': 1904, 'eindeutig': 1905, 'prozent': 1906, 'volle': 1907, 'solltest': 1908, 'link': 1909, 'absurd': 1910, 'aussieht': 1911, 'mittelmeer': 1912, 'tatsaechlichen': 1913, 'regen': 1914, 'kassieren': 1915, 'mieses': 1916, 'superliebling': 1917, 'asylindustrie': 1918, 'ichbinkoelnerin': 1919, 'wieviel': 1920, 'wahlen': 1921, 'google': 1922, 'banken': 1923, 'verfuegung': 1924, 'schmierblatt': 1925, 'focus': 1926, 'mutter': 1927, 'erkennt': 1928, 'erlauben': 1929, 'brennt': 1930, '0001f62b': 1931, 'ordnung': 1932, 'wo': 1933, 'volks': 1934, 'deutschlandfeindlichen': 1935, 'bekaempfen': 1936, 'nasanasal': 1937, 'stimulator': 1938, 'jugend': 1939, 'illegale': 1940, 'schaemen': 1941, 'nebenbei': 1942, 'luft': 1943, 'schulen': 1944, 'netzdenunziant': 1945, 'deutsch365': 1946, 'akzeptieren': 1947, 'refugees': 1948, 'haufen': 1949, 'perverse': 1950, 'georg': 1951, 'einkommen': 1952, 'aufs': 1953, 'sozialpolitik': 1954, 'protestieren': 1955, 'gegenstand': 1956, 'wuenscht': 1957, 'unglaubwuerdig': 1958, 'wollte': 1959, 'pass': 1960, '21': 1961, 'stolz': 1962, 'aerzte': 1963, 'lehnt': 1964, 'gesundheit': 1965, 'keiner': 1966, 'erfahren': 1967, 'hatte': 1968, 'unwaehlbar': 1969, 'monat': 1970, 'druck': 1971, 'stimme': 1972, 'rund': 1973, 'chefin': 1974, 'andrea': 1975, 'fueh': 1976, 'mitglieder': 1977, 'inzwischen': 1978, 'derzeit': 1979, 'kindergeld': 1980, 'wohnung': 1981, 'unmoeglich': 1982, 'sklaverei': 1983, 'abschaffung': 1984, 'agenda': 1985, 'griff': 1986, 'legitim': 1987, 'annegret': 1988, 'voelker': 1989, 'lauter': 1990, 'vorsitzende': 1991, 'falle': 1992, 'ansehen': 1993, 'sendung': 1994, 'knecht': 1995, 'ruprecht': 1996, 'heutige': 1997, 'bedanken': 1998, 'ergibt': 1999, 'journalisten': 2000, 'argument': 2001, 'klatschen': 2002, 'pomo': 2003, 'sex': 2004, 'dak': 2005, 'hassen': 2006, 'sibel': 2007, 'schick': 2008, 'getan': 2009, 'fernsehen': 2010, 'engels': 2011, 'marxismus': 2012, 'vergangenheit': 2013, 'antideutsche': 2014, 'meme': 2015, 'strukturen': 2016, 'fleisch': 2017, 'her': 2018, 'erinnern': 2019, 'bedenken': 2020, 'erledigt': 2021, 'wirkt': 2022, 'gruppen': 2023, 'politburogamer': 2024, 'zugelassen': 2025, 'knast': 2026, 'prozess': 2027, 'befreit': 2028, 'nenne': 2029, 'shame': 2030, 'incel': 2031, 'hoeher': 2032, 'platt': 2033, 'symbolik': 2034, 'locker': 2035, 'woe': 2036, 'demonstrieren': 2037, 'uebernommen': 2038, 'leicht': 2039, 'bullshit': 2040, 'palmer': 2041, 'erfahrung': 2042, 'erreichen': 2043, 'holler': 2044, 'spo': 2045, 'geholfen': 2046, 'panik': 2047, 'empfehle': 2048, 'tigerelch': 2049, 'marcobuelow': 2050, 'spiele': 2051, '27': 2052, 'gewesen': 2053, 'zweifel': 2054, 'vergleichen': 2055, 'franz': 2056, 'wuesste': 2057, 'cookdirkh': 2058, 'infos': 2059, 'frag': 2060, 'beschaeftigen': 2061, 'miriamwoelke': 2062, 'trauer': 2063, 'gesetze': 2064, 'osten': 2065, 'bislang': 2066, 'ausgehen': 2067, 'ige': 2068, 'ismailtipi': 2069, 'meinen': 2070, 'hund': 2071, '26': 2072, 'menschenverstand': 2073, '0001f627': 2074, 'gauland': 2075, 'k1schwester': 2076, 'philosophie': 2077, 'jungle': 2078, 'eidigen': 2079, 'denk': 2080, 'netz': 2081, 'putin': 2082, 'dahinter': 2083, 'gewaehlte': 2084, 'kluk': 2085, 'bedroht': 2086, 'reibung': 2087, 'werke': 2088, '0001f3b5': 2089, 'man': 2090, 'googlenews': 2091, 'berichtet': 2092, 'manipulie': 2093, 'aktuell': 2094, 'ntv': 2095, 'migrationspakt': 2096, 'stephanieklm8': 2097, 'zionistischer': 2098, 'demokratisch': 2099, 'ashkenazim': 2100, 'sog': 2101, 'nachfahren': 2102, 'juedischen': 2103, 'vaseline': 2104, 'splitter': 2105, 'voelkerrecht': 2106, 'palaestinensern': 2107, 'freund': 2108, 'terrorbanden': 2109, 'kolonisierung': 2110, 'zionismus': 2111, 'namens': 2112, 'verleumden': 2113, 'religioesen': 2114, 'tel': 2115, 'aviv': 2116, 'selten': 2117, 'ahmadmansour': 2118, 'j': 2119, 'mentions': 2120, 'isolie': 2121, 'island': 2122, 'on': 2123, 'antizionismus': 2124, 'nurzumballernda': 2125, 'ruhe': 2126, 'schweizok': 2127, 'croqisunshine': 2128, 'swingtanz': 2129, 'miriamozen': 2130, 'pfui': 2131, 'luna': 2132, 'le': 2133, 'sachen': 2134, 'sack': 2135, 'nazifresser': 2136, 'wolfssanguis': 2137, 'netteliebe': 2138, 'abgelehnten': 2139, 'behauptung': 2140, 'rueckfuehrungen': 2141, 'tatsache': 2142, 'trollpunk69': 2143, 'herrlehmann': 2144, 'lieselotte2604': 2145, 'manta': 2146, 'proseccoprinz': 2147, 'moschee': 2148, 'defendafrin': 2149, 'hauptwache': 2150, '13h': 2151, '15h': 2152, 'kurdistan': 2153, 'hbf': 2154, 'vollversammlung': 2155, 'rojrev69': 2156, 'hdp': 2157, 'correctiv': 2158, 'ausgeht': 2159, 'dlfnachrichten': 2160, 'senden': 2161, 'stz': 2162, 'erkennbar': 2163, 'trifft': 2164, 'wiesbaden': 2165, 'focusonline': 2166, 'ritt': 2167, 'springen': 2168, 'musste': 2169, 'billig': 2170, 'funktionieren': 2171, 'milliarden': 2172, 'gefaengnisse': 2173, 'fachkraefte': 2174, 'jungfernstieg': 2175, 'ge': 2176, 'swraktuellbw': 2177, 'loest': 2178, 'ndrsh': 2179, 'jaehrige': 2180, 'verdaechtigen': 2181, 'abgeschoben': 2182, 'verhaftet': 2183, 'still': 2184, 'den': 2185, 'pkw': 2186, 'duerfte': 2187, 'einzelfall': 2188, 'bedeutung': 2189, 'mz': 2190, 'quedlinburg': 2191, 'mzwebde': 2192, 'einer': 2193, 'hoer': 2194, 'entscheidung': 2195, 'gutmensch': 2196, 'heul': 2197, 'einzeltaeter': 2198, 'runter': 2199, 'verbrecher': 2200, 'invasion': 2201, 'dame': 2202, 'bund': 2203, 'stimmung': 2204, 'geschaffen': 2205, 'geistes': 2206, 'erwaehnt': 2207, 'zufrieden': 2208, 'laecheln': 2209, 'dankbar': 2210, 'jaehriger': 2211, 'bewaehrung': 2212, 'paradies': 2213, 'schaden': 2214, 'benutzt': 2215, 'steuergeld': 2216, 'erfindung': 2217, 'aufrecht': 2218, 'asylbewerber': 2219, 'mexcybill': 2220, 'ruecktritt': 2221, 'bezogen': 2222, 'form': 2223, 'bei': 2224, '45': 2225, 'lohnt': 2226, 'ueberlegen': 2227, 'tausende': 2228, 'tichyseinblick': 2229, 'formen': 2230, 'bildung': 2231, 'eigendlich': 2232, 'aufarbeitung': 2233, 'geniessen': 2234, 'echten': 2235, 'gruende': 2236, 'sumpf': 2237, 'kostet': 2238, 'staedte': 2239, 'labern': 2240, 'schiesst': 2241, 'wind': 2242, 'ruinie': 2243, 'last': 2244, 'radikale': 2245, 'netzwerk': 2246, 'verkauft': 2247, 'verkaufen': 2248, 'bach': 2249, 'jaehrigen': 2250, 'schlagen': 2251, 'krimminellen': 2252, 'hammer': 2253, 'tote': 2254, 'bestimmen': 2255, 'vermissen': 2256, 'bundeskanzlerin': 2257, 'verbloedet': 2258, 'petraschnautzer': 2259, '0001f915': 2260, 'em': 2261, 'saar': 2262, 'konservativen': 2263, 'sagst': 2264, 'klatsche': 2265, 'chebli': 2266, 'markus': 2267, 'sozis': 2268, '0001f917': 2269, '0001f92f': 2270, 'maedchen': 2271, 'bewahren': 2272, 'ansichten': 2273, 'interessant': 2274, 'geschieht': 2275, '0001f9d0': 2276, 'big': 2277, 'brennen': 2278, 'bekanntlich': 2279, 'patriarchat': 2280, 'viel': 2281, 'toten': 2282, 'universitaeten': 2283, 'commiesraus': 2284, 'zaehlt': 2285, 'gebaut': 2286, 'groessenwahn': 2287, '2764': 2288, 'inneren': 2289, 'globalisten': 2290, 'schariapa': 2291, 'arabische': 2292, 'asylrecht': 2293, 'like': 2294, 'gefasst': 2295, 'sachsen': 2296, 'weihnachtsmarkt': 2297, 'russland': 2298, 'grenze': 2299, 'herrschende': 2300, 'museum': 2301, 'fans': 2302, 'prueffall': 2303, 'blut': 2304, 'fussirud': 2305, 'gehoere': 2306, 'vorhanden': 2307, 'notwehr': 2308, 'staendig': 2309, 'geradezu': 2310, 'einheimische': 2311, 'fehlen': 2312, 'kriminelle': 2313, 'dreist': 2314, 'hinweis': 2315, 'verfassung': 2316, 'zivilisie': 2317, 'typisch': 2318, 'elsmann': 2319, 'zunaechst': 2320, 'shoa': 2321, 'angelikatappe': 2322, 'ex': 2323, 'foxb29528584': 2324, 'erkenntnis': 2325, 'entziehen': 2326, 'wichtiger': 2327, 'hinterher': 2328, 'stets': 2329, '0001f411': 2330, 'geaende': 2331, 'chinoe21': 2332, 'chinesen': 2333, 'rasse': 2334, 'natur': 2335, 'che': 2336, 'schwarze': 2337, 'geist': 2338, 'genauer': 2339, 'kannte': 2340, 'exakt': 2341, 'globale': 2342, 'ansiedlung': 2343, 'inzucht': 2344, 'nunmal': 2345, 'supremacy': 2346, 'nachdem': 2347, 'wahnsinn': 2348, 'gefaelligst': 2349, 'somit': 2350, 'one': 2351, 'pech': 2352, 'juedisches': 2353, 'likes': 2354, 'fckafd': 2355, 'einfuehrung': 2356, 'guck': 2357, 'verlinkt': 2358, 'beweis': 2359, 'rechtfe': 2360, 'besucht': 2361, 'enthalten': 2362, 'mutti': 2363, 'tage': 2364, 'zeitgemaess': 2365, 'foerdern': 2366, 'pleite': 2367, 'auseinandersetzung': 2368, 'hab': 2369, 'obe': 2370, 'nato': 2371, 'schlechte': 2372, 'aue': 2373, 'willkommen': 2374, 'aufstehen': 2375, 'tore': 2376, 'offiziell': 2377, 'beeindruckt': 2378, 'kosten': 2379, 'geilste': 2380, 'tante': 2381, '3sat': 2382, 'pfeifen': 2383, 'bessere': 2384, 'mannschaft': 2385, 'schiessen': 2386, 'armes': 2387, 'segen': 2388, 'relegation': 2389, 'spitzenreiter': 2390, 'pro': 2391, 'vernuenftige': 2392, 'albern': 2393, 'bochum': 2394, 'eins': 2395, 'klassenkampf': 2396, 'geile': 2397, 'sinnlos': 2398, 'stirbt': 2399, 'auszuhalten': 2400, 'verschwoerung': 2401, 'solch': 2402, 'db': 2403, 'wild': 2404, 'gemeint': 2405, 'papier': 2406, 'auseinander': 2407, 'ihn': 2408, 'schlicht': 2409, 'jeden': 2410, 'riot': 2411, 'ziele': 2412, 'reter': 2413, 'kapitalistischen': 2414, 'verdeutlicht': 2415, 'konstantinnotz': 2416, 'kinzig9': 2417, 'veranstaltung': 2418, 'semicaper': 2419, 'aufmerksam': 2420, 'derjenige': 2421, 'rassistisch': 2422, 'bleibe': 2423, 'npd': 2424, 'vorwurf': 2425, 'reagieren': 2426, 'versuch': 2427, 'roten': 2428, 'nennst': 2429, 'schau': 2430, 'humanismus': 2431, 'kommunistischen': 2432, 'niemanden': 2433, 'maerchen': 2434, 'darunter': 2435, 'gezielte': 2436, 'scheinst': 2437, 'stumm': 2438, 'herrschaft': 2439, 'lehne': 2440, 'stehe': 2441, 'zerstoerung': 2442, 'laden': 2443, 'aktionen': 2444, 'klaeren': 2445, 'meinst': 2446, 'aehm': 2447, 'gehst': 2448, 'beeinflusst': 2449, 'unabhaengigkeit': 2450, 'repo': 2451, 'miete': 2452, 'zerstoeren': 2453, 'acht': 2454, 'krise': 2455, 'mai': 2456, 'november': 2457, 'oben': 2458, 'werdasliestist': 2459, 'b0911': 2460, 'lebe': 2461, 'spaetestens': 2462, 'at': 2463, 'weitem': 2464, 'friedrich': 2465, 'daraus': 2466, 'aehnlich': 2467, 'amadeuantonio': 2468, 'tiefer': 2469, 'hierzu': 2470, 'blau': 2471, 'atemzug': 2472, 'draus': 2473, 'unterstuetzt': 2474, 'einkaufen': 2475, 'gegessen': 2476, 'wochenende': 2477, 'abgeben': 2478, 'fotos': 2479, '90': 2480, 'passen': 2481, 'sprecher': 2482, 'finger': 2483, '08': 2484, 'pause': 2485, 'staerker': 2486, 'vieler': 2487, 'verweisen': 2488, 'nurnoch': 2489, 'angesprochen': 2490, 'generell': 2491, 'steckt': 2492, 'schwerer': 2493, 'vergewaltigung': 2494, 'neben': 2495, 'serie': 2496, 'norwegen': 2497, 'bahamas': 2498, 'wochen': 2499, 'beende': 2500, 'wenigen': 2501, 'aufm': 2502, 'leude': 2503, 'witze': 2504, 'ziehst': 2505, 'auge': 2506, 'behalten': 2507, 'kitka': 2508, 'besseres': 2509, 'herum': 2510, 'bauch': 2511, 'tatzaechlich': 2512, 'absichtlich': 2513, 'kaputt': 2514, 'drehen': 2515, 'dass': 2516, 'gesamte': 2517, 'gs': 2518, 'verwe': 2519, 'fundament': 2520, 'biologie': 2521, 'genderstudies': 2522, 'explizit': 2523, 'gefragt': 2524, 'eingestellt': 2525, 'baum': 2526, 'schmidt': 2527, 'gender': 2528, 'weiterer': 2529, 'sicht': 2530, 'vorgehen': 2531, 'argumentation': 2532, 'sta': 2533, 'objektiver': 2534, 'verbreitet': 2535, 'alternativen': 2536, 'beweisen': 2537, 'maul': 2538, 'monaten': 2539, 'groessere': 2540, 'keller': 2541, 'hose': 2542, 'lohnen': 2543, 'fuehl': 2544, 'atmen': 2545, 'schulter': 2546, 'wahemue': 2547, 'goldene': 2548, 'bio': 2549, 'moslembonus': 2550, 'afrik': 2551, 'aufhoeren': 2552, 'dreckspack': 2553, 'irgendein': 2554, 'treiben': 2555, 'eingesetzt': 2556, 'gesetzt': 2557, 'laenger': 2558, 'oma': 2559, '66norweger66': 2560, 'fake': 2561, 'knie': 2562, 'linksfaschistischen': 2563, 'illegal': 2564, 'geboren': 2565, 'aufgewachsen': 2566, 'freiwillig': 2567, 'gtzfrmming': 2568, 'produkt': 2569, 'kuppp005': 2570, 'allahkotz': 2571, 'kackbar': 2572, 'friedens': 2573, 'moslems': 2574, 'teppich': 2575, 'schweizok2': 2576, 'widerlicher': 2577, 'ausueben': 2578, 'sawsanchebli': 2579, 'staatlichen': 2580, 'scholz': 2581, 'zirkus': 2582, 'terroranschlag': 2583, 'aba': 2584, 'gelaufen': 2585, 'bunte': 2586, 'uebrig': 2587, 'leisten': 2588, 'politisches': 2589, 'menge': 2590, 'verhaeltnisse': 2591, 'europaeische': 2592, 'massenmoerder': 2593, 'spreche': 2594, 'zustaende': 2595, 'destabilisierung': 2596, 'anderes': 2597, 'schmeisst': 2598, 'schoeneberg': 2599, 'angewide': 2600, 'humor': 2601, 'twittern': 2602, 'kohle': 2603, 'anemalon19': 2604, 'eingesper': 2605, 'kirche': 2606, 'schliesslich': 2607, 'staatliche': 2608, 'beobachten': 2609, '0001f636': 2610, 'expe': 2611, 'wuenschen': 2612, 'schirm': 2613, 'renatekuenast': 2614, 'anhaenger': 2615, 'papst': 2616, 'mieser': 2617, 'don': 2618, 'gegner': 2619, 'kriechen': 2620, 'vollen': 2621, 'andreasstraub': 2622, 'warnt': 2623, 'rechtsradikaler': 2624, 'erneut': 2625, 'gearbeitet': 2626, 'gefallen': 2627, 'handy': 2628, 'neumann': 2629, '1948': 2630, '2003': 2631, 'f': 2632, 'verrecken': 2633, 'arbeitsminister': 2634, 'hube': 2635, 'mindestlohn': 2636, 'schlimmste': 2637, 'schueler': 2638, 'vize': 2639, 'forderung': 2640, 'lohn': 2641, 'generationen': 2642, 'januar': 2643, 'messerstecher': 2644, 'bundesland': 2645, 'angriffe': 2646, 'aerztin': 2647, 'abtreibungen': 2648, 'jahres': 2649, 'fair': 2650, 'malochen': 2651, 'grossbritannien': 2652, 'parlament': 2653, 'status': 2654, 'aerzten': 2655, 'konsequenzen': 2656, 'umstrittener': 2657, 'tages': 2658, 'heutzutage': 2659, 'schlechtes': 2660, 'willy': 2661, 'gaebe': 2662, 'schneller': 2663, 'denn': 2664, 'sprachen': 2665, 'generalsekretaer': 2666, 'mini': 2667, 'angriff': 2668, 'sozialen': 2669, 'versorgung': 2670, 'gezwungen': 2671, 'meinungsfreiheit': 2672, 'kostenlose': 2673, 'jemen': 2674, 'waffen': 2675, 'leichen': 2676, 'umweltschutz': 2677, 'billige': 2678, 'finanzen': 2679, 'abtreibung': 2680, 'digitalisierung': 2681, 'eitag': 2682, 'wehren': 2683, 'gerettet': 2684, 'arbeitgeber': 2685, 'paragraphen': 2686, 'widersprechen': 2687, 'plant': 2688, 'hungerloehne': 2689, 'voran': 2690, 'friedliche': 2691, 'alice': 2692, 'weidel': 2693, 'knochen': 2694, 'umfragen': 2695, 'wahlgangs': 2696, '1001': 2697, 'gestiegen': 2698, '1000': 2699, 'titel': 2700, 'halben': 2701, 'preis': 2702, '600': 2703, 'bekamen': 2704, 'tritt': 2705, 'einsetzen': 2706, 'habeck': 2707, 'gesellschaftlichen': 2708, 'jusos': 2709, 'systematisch': 2710, 'wetten': 2711, '49': 2712, 'hegel': 2713, 'fischblog': 2714, 'buergerlichen': 2715, 'anteil': 2716, 'hueh': 2717, 'togliatti47': 2718, 'nice': 2719, 'saturnos': 2720, 'bestimmte': 2721, 'schwierig': 2722, 'gehts': 2723, 'rausholen': 2724, 'verstand': 2725, 'teile': 2726, 'takes': 2727, 'antikommunismus': 2728, 'dvds72439334': 2729, 'out': 2730, 'betreiben': 2731, 'theorie': 2732, 'cocacola': 2733, 'nakromar': 2734, 'fettcreme': 2735, 'bisherigen': 2736, 'autos': 2737, 'know': 2738, 'produkte': 2739, 'halbwegs': 2740, 'geloest': 2741, 'forderungen': 2742, 'ideologische': 2743, 'bescheid': 2744, 'streiten': 2745, 'vermutlich': 2746, 'gewisse': 2747, 'hans': 2748, 'aussen': 2749, 'tradition': 2750, 'kein': 2751, 'schlechter': 2752, 'autor': 2753, 'self': 2754, 'empowerment': 2755, 'buergerlicher': 2756, 'antifaschismus': 2757, 'kommunist': 2758, 'kontext': 2759, 'alles': 2760, 'woke': 2761, 'lernt': 2762, 'backenkrampf': 2763, 'zinsen': 2764, 'arowings1': 2765, 'anziehen': 2766, 'inhaltslose': 2767, 'bezog': 2768, 'notwendigkeit': 2769, 'gelben': 2770, 'steine': 2771, 'schmeissen': 2772, 'katastrophe': 2773, 'relevanz': 2774, 'bemerkenswe': 2775, 'verwendet': 2776, 'vorsichtig': 2777, 'irgendwelche': 2778, 'acid23': 2779, 'bock': 2780, 'gucken': 2781, 'feststellen': 2782, 'kugel': 2783, 'leichter': 2784, 'kapieren': 2785, 'schmerz': 2786, 'or': 2787, 'mund': 2788, 'business': 2789, 're': 2790, 'diverse': 2791, 'rock': 2792, 'cool': 2793, 'interessen': 2794, 'hashtag': 2795, 'eliyahhavemann': 2796, 'wirken': 2797, 'faul': 2798, 'mut': 2799, 'gebu': 2800, 'ermordeten': 2801, 'baby': 2802, 'shira': 2803, 'siehst': 2804, 'produzie': 2805, 'nahen': 2806, 'fahrer': 2807, 'kollegin': 2808, 'gewaltsam': 2809, 'anblick': 2810, 'straftat': 2811, 'krankenhaus': 2812, 'duloxetin': 2813, '120mg': 2814, 'demnaechst': 2815, 'loswerden': 2816, 'aha': 2817, 'dicke': 2818, 'raut': 2819, 'jugendwiderstand': 2820, 'groesser': 2821, 'duemmer': 2822, 'protest': 2823, 'bedrohung': 2824, 'demokratische': 2825, 'verharmlost': 2826, 'praesidenten': 2827, 'diktator': 2828, 'bomben': 2829, 'massen': 2830, 'fan': 2831, 'kritiker': 2832, 'linksliberale': 2833, 'beleidigt': 2834, 'profil': 2835, 'journos': 2836, 'lappen': 2837, 'geklae': 2838, 'internationale': 2839, 'sophiepassmann': 2840, 'verkeh': 2841, '29': 2842, 'buergi': 2843, 'xd': 2844, 'verblendet': 2845, 'gefuehle': 2846, 'sry': 2847, 'frege': 2848, 'russell': 2849, 'quine': 2850, 'durchlaufen': 2851, 'derrida': 2852, 'geldes': 2853, 'prove': 2854, 'wrong': 2855, 'juenger': 2856, 'alman': 2857, 'kommunistische': 2858, 'filme': 2859, 'diskutieren': 2860, 'faschisten': 2861, 'mitte': 2862, 'just': 2863, 'hetzt': 2864, 'qua': 2865, 'identitaere': 2866, 'schlaegt': 2867, 'giletsjaunes': 2868, 'ehrenmann': 2869, '0001f525': 2870, 'reissen': 2871, 'zivilisation': 2872, 'hoffnung': 2873, 'aufgeben': 2874, 'ueberzeugt': 2875, 'nimm': 2876, 'asylbetrueger': 2877, 'trends': 2878, 'hoere': 2879, 'historische': 2880, 'waren': 2881, 'praesentieren': 2882, 'nirgends': 2883, '0001f648': 2884, 'gross': 2885, 'migrationsbericht': 2886, 'diskutie': 2887, 'beleidigungen': 2888, 'michael': 2889, 'vielmehr': 2890, 'erfaeh': 2891, 'berufen': 2892, 'eventuell': 2893, 'taeters': 2894, 'arabisch': 2895, 'bottrop': 2896, 'soli': 2897, 'gekommen': 2898, 'loriotfehlt': 2899, 'kunden': 2900, 'gold': 2901, 'exil': 2902, 'versprochen': 2903, 'hause': 2904, 'verdient': 2905, 'fehlverhalten': 2906, 'heyhoheyho7': 2907, 'utew19': 2908, 'buendnis': 2909, 'truppe': 2910, 'sobald': 2911, 'ideologischen': 2912, 'verdraengen': 2913, 'kittypunk7': 2914, 'bezieht': 2915, 'supremacist': 2916, 'massakrie': 2917, 'region': 2918, 'voelkermord': 2919, 'fussball': 2920, 'jewish': 2921, 'siedle': 2922, 'erroristen': 2923, 'unabhaengige': 2924, 'saeuberung': 2925, 'historikers': 2926, 'pappe': 2927, 'noe': 2928, 'staaten': 2929, 'oehm': 2930, 'stahlbaron': 2931, 'beschmieren': 2932, 'menschlichkeit': 2933, 'israeli': 2934, 'forces': 2935, 'doku': 2936, 'ueblichen': 2937, 'mietmaeuler': 2938, 'sowohl': 2939, 'roemer': 2940, 'erfunden': 2941, 'berufsluegner': 2942, 'hetzen': 2943, 'gaza': 2944, 'primaer': 2945, 'unterwegs': 2946, 'ausreichend': 2947, 'gepostet': 2948, 'wohin': 2949, 'textverstaendnis': 2950, 'loch': 2951, 'heim': 2952, 'enstein': 2953, 'doppelte': 2954, 'integrie': 2955, 'verhinde': 2956, 'gefangenen': 2957, 'redet': 2958, 'einziges': 2959, 'nachts': 2960, 'tendenzioes': 2961, 'demos': 2962, 'gespannt': 2963, 'ardtelaviv': 2964, 'fleischauge': 2965, 'vermehren': 2966, 'aryeshalicar': 2967, 'lobbyisten': 2968, 'imo': 2969, 'polemik': 2970, '0001f646': 2971, 'memes': 2972, 'son': 2973, 'kneipenjenki': 2974, 'same': 2975, 'aneleh08151': 2976, 'differenzieren': 2977, 'angreift': 2978, 'go': 2979, 'freiwildjaeger': 2980, '0001f91d': 2981, 'schlachten': 2982, 'xenophobie': 2983, 'komplex': 2984, 'nah': 2985, 'auftritt': 2986, 'verdammt': 2987, 'mob': 2988, 'jedenfalls': 2989, 'bietet': 2990, 'denkst': 2991, '666': 2992, 'dresden': 2993, 'stroemung': 2994, 'ah': 2995, 'grunde': 2996, 'jap': 2997, 'countmeout': 2998, 'parasiten': 2999, 'jenshagen12': 3000, 'mittelfinger': 3001, 'ghostwriter': 3002, 'hobby': 3003, 'hysterie': 3004, 'onymonymo': 3005, 'spazieren': 3006, 'zwingen': 3007, 'torsten': 3008, 'luer': 3009, 'vonzainach': 3010, 'clown': 3011, 'nanniag': 3012, 'mozde': 3013, 'afdwirkt': 3014, 'georgrestle': 3015, 'karma': 3016, 'jkasek': 3017, 'bitch': 3018, 'irgend': 3019, 'doragezwitscher': 3020, 'menaretrash': 3021, 'warumafd': 3022, 'wilden': 3023, 'fragst': 3024, 'nippel': 3025, 'zappi': 3026, 'mlebeauf': 3027, 'montevarchi19': 3028, '161schlotle': 3029, 'tommitulpe62': 3030, 'katja44158378': 3031, 'international': 3032, 'policestil': 3033, 'efdlan': 3034, 'dreilaender': 3035, 'voraus': 3036, 'dreht': 3037, 'com': 3038, 'amygdala712': 3039, 'rsigurdurson': 3040, 'aachener': 3041, 'kriege': 3042, 'weiteres': 3043, 'ler': 3044, 'log': 3045, 'prime': 3046, 'time': 3047, 'keim': 3048, 'rupe': 3049, 'amoder': 3050, 'buerger18': 3051, 'thaler': 3052, 'timo': 3053, 'inklusive': 3054, 'gruen': 3055, 'hoehn': 3056, 'mica4711': 3057, 'ferrox': 3058, 'lil': 3059, 'lizzy': 3060, 'stbrandner': 3061, 'hilfreich': 3062, 'dada': 3063, 'grand': 3064, 'zack': 3065, '43ermilch': 3066, 'noafd': 3067, 'gedankensprudel': 3068, 'ronalfinnho': 3069, 'caseysunffm': 3070, '0001f611': 3071, 'homie': 3072, 'hoellenaufsicht': 3073, 'fanta': 3074, 'needfull': 3075, 'verlierer': 3076, 'fahrrad': 3077, 'faeh': 3078, 'craggy': 3079, 'mr': 3080, 'siphr0dias': 3081, 'melak96': 3082, 'dummgeschwaetz': 3083, 'gutleut': 3084, 'bockenheim': 3085, 'konsulat': 3086, 'rojava': 3087, '17h': 3088, 'blockupy': 3089, 'notroika': 3090, 'cafeexzess': 3091, 'saalbau': 3092, 'nofragida': 3093, 'kobane': 3094, 'polit': 3095, 'sbahnberlin': 3096, 'dietechniker': 3097, 'hasnainkazim': 3098, 'historie': 3099, 'richtung': 3100, 'weshalb': 3101, 'realjohr': 3102, 'kemalisten': 3103, 'mopo': 3104, 'strauss': 3105, 'kohl': 3106, 'schwarzgeld': 3107, '1991': 3108, 'zecken': 3109, 'kacken': 3110, 'definitiv': 3111, 'oerr': 3112, 'recherche': 3113, 'herbei': 3114, 'freude': 3115, 'betrug': 3116, 'naehe': 3117, 'baueropfer': 3118, 'verwunde': 3119, 'rbbabendschau': 3120, 'tanzt': 3121, 'passend': 3122, 'singt': 3123, 'glotzen': 3124, 'kamera': 3125, 'handelsblatt': 3126, 'schoener': 3127, 'zdfhannover': 3128, 'durchschaubar': 3129, 'ereignis': 3130, 'sender': 3131, 'besitzt': 3132, 'erika': 3133, 'schrank': 3134, 'strafen': 3135, 'ndrnds': 3136, 'sputnik': 3137, 'toitsch': 3138, 'gerichte': 3139, 'faellen': 3140, 'weh': 3141, 'haft': 3142, 'seawatch': 3143, 'allerliebster': 3144, 'bpol': 3145, 'haengematte': 3146, 'bloedsinn': 3147, 'verdacht': 3148, 'schiff': 3149, 'rassen': 3150, 'entwickeln': 3151, 'getreten': 3152, 'anschein': 3153, 'vorstand': 3154, 'agrar': 3155, 'umgebaut': 3156, 'zdfnrw': 3157, 'lip': 3158, 'jemanden': 3159, 'darstellen': 3160, 'widerlichen': 3161, 'herhalten': 3162, 'falscher': 3163, 'berlinerzeitung': 3164, 'toitscher': 3165, 'kulturell': 3166, 'bedingt': 3167, 'sekte': 3168, 'herrlich': 3169, 'adresse': 3170, 'gerettete': 3171, 'haustuer': 3172, 'versorgen': 3173, 'psychisch': 3174, 'pisst': 3175, 'buchse': 3176, 'bmi': 3177, 'verharmlosen': 3178, 'zeitonline': 3179, 'philippinen': 3180, 'populismus': 3181, 'polizeiberlin': 3182, 'welch': 3183, '1933': 3184, 'gefolgt': 3185, 'haeftling': 3186, 'gaeste': 3187, 'taete': 3188, 'geschlagen': 3189, 'geldstrafe': 3190, 'morgenmagazin': 3191, 'realistischer': 3192, 'aufmerksamkeit': 3193, 'ausschluss': 3194, 'dreimal': 3195, 'fahrverbot': 3196, 'diebstahl': 3197, 'erhaelt': 3198, 'very': 3199, 'mh': 3200, 'beschrieben': 3201, 'gezeigt': 3202, 'br': 3203, 'kontrollie': 3204, 'mutmasslichen': 3205, 'entsorgt': 3206, 'versagen': 3207, 'ablenken': 3208, 'lobt': 3209, 'perfekt': 3210, 'passende': 3211, 'richter': 3212, 'irgendetwas': 3213, 'potpueree': 3214, 'outen': 3215, 'beweist': 3216, 'grosser': 3217, 'dressie': 3218, '33': 3219, 'ups': 3220, 'behandelt': 3221, 'sprich': 3222, 'hannover': 3223, '85': 3224, 'disqualifizie': 3225, 'intelligenz': 3226, 'wirbt': 3227, 'bloeden': 3228, 'reduzie': 3229, 'geheim': 3230, 'spitzel': 3231, 'pp': 3232, 'rabid': 3233, 'glow': 3234, 'nahrung': 3235, 'rolandtichy': 3236, 'dummes': 3237, 'einstellung': 3238, '0001f692': 3239, 'ausschliessen': 3240, 'erkel': 3241, 'vernichten': 3242, 'friedrichmerz': 3243, 'packt': 3244, 'irren': 3245, 'gerissen': 3246, 'klarer': 3247, 'pol': 3248, 'einreden': 3249, 'verunsichern': 3250, 'stuhl': 3251, 'spdbt': 3252, 'erinne': 3253, 'maassen': 3254, 'italien': 3255, 'oesterreich': 3256, 'ueberfallen': 3257, '22': 3258, 'vergewaltigen': 3259, 'zweite': 3260, 'ursache': 3261, 'westlichen': 3262, 'lindner': 3263, 'frohe': 3264, 'neuwahlen': 3265, 'bewahre': 3266, '0001f9d5': 3267, 'kampfbegriff': 3268, 'frank': 3269, 'machtdemonstration': 3270, 'afdkrefeld': 3271, 'mfs': 3272, 'schulterschluss': 3273, 'machte': 3274, 'voelkerrechtswidrig': 3275, 'stinksauer': 3276, 'alexarusss': 3277, 'intellektuell': 3278, 'remake': 3279, 'leonidas': 3280, 'ss': 3281, 'klimas': 3282, 'ruebe': 3283, 'weiblich': 3284, 'dan': 3285, 'more': 3286, 'sonne': 3287, 'installieren': 3288, 'inhalte': 3289, 'ansicht': 3290, 'schuettelt': 3291, 'chayenneheidi': 3292, 'kopftuch': 3293, 'tuerken': 3294, 'fuerchte': 3295, 'offenheit': 3296, 'blaue': 3297, 'bunter': 3298, 'katharina': 3299, 'bruesten': 3300, 'schlampen': 3301, 'propagie': 3302, 'erderwaermung': 3303, '40': 3304, 'womit': 3305, 'halte': 3306, 'nebst': 3307, 'kontrolle': 3308, 'mohammedkult': 3309, 'chauvinisten': 3310, 'krimineller': 3311, 'merkelsiedler': 3312, 'mao': 3313, 'kurs': 3314, 'keks': 3315, 'brachte': 3316, 'linkoide': 3317, 'aktionismus': 3318, 'mdegasse': 3319, 'koenig': 3320, 'freunden': 3321, 'mentnr9': 3322, 'assad': 3323, 'prioritaet': 3324, 'untergeht': 3325, 'auswendig': 3326, 'nationalsozialismus': 3327, 'verfolgten': 3328, 'gewaehren': 3329, 'merkmale': 3330, 'fdgo': 3331, 'oesterreicher': 3332, 'uebernimmt': 3333, 'beachtung': 3334, '5000': 3335, 'erschossen': 3336, 'mitgezaehlt': 3337, 'schutzsuchenden': 3338, 'australien': 3339, 'grenzschutz': 3340, 'kapern': 3341, 'vorderasien': 3342, 'orient': 3343, 'jahrzehnte': 3344, 'geschossen': 3345, 'valentin': 3346, 'konservativ': 3347, 'frauenfeindlich': 3348, 'weiblichen': 3349, 'zeitzumgehen': 3350, 'trennte': 3351, 'gekauften': 3352, 'wiederholt': 3353, 'ruhr': 3354, 'area51': 3355, 'merkelismus': 3356, 'riss': 3357, 'vollhonks': 3358, 'anstreben': 3359, '0001f984': 3360, '0001f921': 3361, '262a': 3362, 'volkes': 3363, 'grundgesetz': 3364, 'unterscheidet': 3365, 'verrueckt': 3366, 'selbstverstaendlich': 3367, 'hoecke': 3368, 'nr': 3369, 'beobachtet': 3370, 'union': 3371, 'dr': 3372, 'tati': 3373, 'vant': 3374, 'zusammenfassung': 3375, 'sabine98036212': 3376, 'drohung': 3377, 'real': 3378, 'verletzen': 3379, 'minderjaehrigen': 3380, 'ostmann1977': 3381, 'amberg': 3382, 'niedriglohn': 3383, 'left': 3384, 'leine': 3385, 'direkte': 3386, 'parallelgesellschaften': 3387, 'familienclans': 3388, 'polygamie': 3389, 'fruechtchen': 3390, 'autokorrektur': 3391, 'brutal': 3392, 'gebunden': 3393, 'hopfen': 3394, 'malz': 3395, 'umgang': 3396, 'safe': 3397, 'id35': 3398, 'naund10': 3399, 'puh': 3400, 'liz': 3401, 'mohn': 3402, '0001f634': 3403, 'basis': 3404, 'variante': 3405, 'varianten': 3406, '70': 3407, 'lesenswe': 3408, 'saemtliche': 3409, 'freundschaftlich': 3410, 'wissenschaftliches': 3411, 'historiker': 3412, 'lebte': 3413, 'jahrzehnten': 3414, 'sozi0815': 3415, '400': 3416, 'tradie': 3417, 'phone': 3418, 'stick': 3419, 'potentiell': 3420, 'gulag': 3421, '0001f6ab': 3422, 'asiaten': 3423, 'latinos': 3424, 'sonstwas': 3425, 'schwarzer': 3426, 'strukturell': 3427, 'widerlich': 3428, 'gegensatz': 3429, 'betrachten': 3430, 'stellung': 3431, 'zuwanderung': 3432, 'erstes': 3433, 'christentum': 3434, 'farbige': 3435, 'kamm': 3436, 'scheren': 3437, 'wissens': 3438, 'scheinen': 3439, 'feindseliger': 3440, 'absoluten': 3441, 'unterirdische': 3442, 'bewegt': 3443, 'aufgeklae': 3444, 'sexuelle': 3445, 'elite': 3446, 'muslimischer': 3447, 'schmarrn': 3448, 'watson': 3449, 'doppelrolle': 3450, 'eilung': 3451, 'schwarzen': 3452, 'kontinent': 3453, 'weissen': 3454, 'mittelfeld': 3455, 'genie': 3456, 'wueste': 3457, 'leidet': 3458, '0001f414': 3459, 'neuthfer': 3460, 'aktueller': 3461, 'begreift': 3462, 'beteiligt': 3463, 'ansatz': 3464, 'gretathunberg': 3465, 'salonkolumnist': 3466, 'nehme': 3467, 'repe': 3468, 'oire': 3469, 'rief': 3470, 'erfand': 3471, 'kuenftig': 3472, 'darwin': 3473, 'mehren': 3474, 'brian': 3475, 'ausloesen': 3476, 'belohnt': 3477, 'chicken': 3478, 'feminist': 3479, 'blocke': 3480, 'gesinnungsbolschewiki': 3481, 'eroeffnung': 3482, 'adolf': 3483, 'bae': 3484, '100jahrefrauenwahlrecht': 3485, 'saurfabian': 3486, 'followern': 3487, 'anarchisten': 3488, 'sieben': 3489, 'nerven': 3490, 'nutze': 3491, 'mond': 3492, 'rueckseite': 3493, 'kuemmern': 3494, 'vorn': 3495, 'empathie': 3496, 'tiere': 3497, 'guenther': 3498, 'diemannschaft': 3499, 'scheiden': 3500, 'anfangen': 3501, 'derbe': 3502, 'dazke': 3503, 'sandhausen': 3504, 'gegenrichtung': 3505, 'anstrengend': 3506, 'anstaendigen': 3507, 'ass': 3508, 'od': 3509, 'sozialistischen': 3510, 'gang': 3511, 'plattform': 3512, 'enschen': 3513, 'icken': 3514, 'wohnen': 3515, 'ga': 3516, 'stock': 3517, 'kostenloses': 3518, 'tool': 3519, 'zurecht': 3520, 'totschlagargument': 3521, 'kalter': 3522, 'fallrueckzieher': 3523, 'allagui': 3524, 'buchti': 3525, 'reihe': 3526, 'fassen': 3527, 'day': 3528, 'saison': 3529, 'menno': 3530, 'se': 3531, 'skandaloes': 3532, 'point': 3533, 'sozusagen': 3534, 'hanka': 3535, 'moody': 3536, 'seufz': 3537, 'amuesie': 3538, 'teer': 3539, 'schaue': 3540, 'eigentor': 3541, 'elfer': 3542, 'raeume': 3543, 'sauber': 3544, 'anlass': 3545, 'vfb': 3546, 'besoffen': 3547, 'fruehen': 3548, 'gerammt': 3549, 'signal': 3550, 'torwa': 3551, 'springt': 3552, 'teddytria': 3553, 'asche': 3554, 'bestaetigt': 3555, '96': 3556, 'bezeichnet': 3557, 'wgt2017': 3558, 'schwach': 3559, 'haare': 3560, 'ebswob': 3561, 'amol': 3562, 'dei': 3563, 'anfaenger': 3564, 'amateure': 3565, 'ueberwunden': 3566, 'wow': 3567, 'jubel': 3568, 'wurscht': 3569, 'sieg': 3570, 'feier': 3571, 'next': 3572, 'aufstieg': 3573, 'jungs': 3574, 'gestimmt': 3575, 'gedreht': 3576, '82': 3577, 'klappe': 3578, 'trottel': 3579, 'beenden': 3580, 'hacken': 3581, 'schiedsrichter': 3582, 'krasse': 3583, 'duemmsten': 3584, 'alexanderplatz': 3585, 'schild': 3586, 'traenen': 3587, 'placebo': 3588, 'kicker': 3589, 'aelter': 3590, 'halbe': 3591, 'tueren': 3592, 'fabianeberhard': 3593, 'fehlanzeige': 3594, 'herrschenden': 3595, 'schwarzepalmen': 3596, 'linkekitagruppe': 3597, 'cops': 3598, 'gelb': 3599, 'angeblichen': 3600, 'opfern': 3601, 'grundlage': 3602, 'minimum': 3603, 'eigentumsverhaeltnissen': 3604, 'lieblingxhain': 3605, 'schuhe': 3606, 'texantifa': 3607, 'achtfach': 3608, 'nehmt': 3609, 'verharmlosung': 3610, 'lowerclassmag': 3611, 'ablehnung': 3612, 'notwendig': 3613, 'humanistische': 3614, 'diskurs': 3615, 'grundrecht': 3616, 'gedacht': 3617, 'queer': 3618, 'rechtsaussen': 3619, 'dr0pr0w': 3620, 'anweisung': 3621, 'alltag': 3622, 'suchmaschine': 3623, 'hinterfragen': 3624, 'autoritaeres': 3625, 'gedankengut': 3626, 'rechtes': 3627, 'annimmt': 3628, 'unterschiedlich': 3629, 'ieren': 3630, 'abschiebungen': 3631, 'dies': 3632, 'pauschal': 3633, 'linie': 3634, 'auschwitz': 3635, 'ewige': 3636, 'migration': 3637, 'kommunistisch': 3638, 'held': 3639, 'stammt': 3640, 'nenn': 3641, 'sprach': 3642, 'arbeitstag': 3643, 'geilheit': 3644, 'entgegenzusetzen': 3645, 'fakt': 3646, 'betroffene': 3647, 'dauerhaft': 3648, 'teilweise': 3649, 'spaeteren': 3650, 'grab': 3651, 'hielt': 3652, 'dienst': 3653, 'motto': 3654, 'beschimpfungen': 3655, 'rassistischer': 3656, 'eignen': 3657, 'schalten': 3658, 'prinzipiell': 3659, 'utopie': 3660, 'weltbild': 3661, 'gepluende': 3662, 'werd': 3663, 'wuetend': 3664, 'machs': 3665, 'geschehen': 3666, 'parlamentarische': 3667, 'radikaler': 3668, 'lauf': 3669, 'analysieren': 3670, 'police': 3671, 'rigaer': 3672, 'staatsanwalts': 3673, 'jaja': 3674, 'ermitteln': 3675, 'betroffenen': 3676, 'oeko': 3677, 'machiavellipod': 3678, 'hiphopde': 3679, 'cosmo': 3680, 'afelia': 3681, 'juedischeonline': 3682, 'kollegah': 3683, 'annefrank': 3684, 'antisem': 3685, 'antisemitism': 3686, 'tagesthemen': 3687, 'nationalismus': 3688, 'gourmande': 3689, 'interview': 3690, 'cash': 3691, 'ausgeben': 3692, 'grinsen': 3693, 'fluegel': 3694, 'larsklingbeil': 3695, 'religioese': 3696, 'agen': 3697, 'aufhebung': 3698, 'age': 3699, 'arbeitnehmer': 3700, 'militant': 3701, 'schwimmt': 3702, 'beides': 3703, 'pack': 3704, 'topf': 3705, '1500': 3706, 'bedingungen': 3707, 'herzmolekuel': 3708, 'religionskritik': 3709, 'moralisch': 3710, 'begleitet': 3711, 'winterfruitloop': 3712, 'zweck': 3713, 'wessen': 3714, 'veronikaharz': 3715, 'primosantoro': 3716, 'schlau': 3717, 'argumentieren': 3718, 'moetant36': 3719, 'wendeiki': 3720, 'beschissen': 3721, 'aktuellen': 3722, 'ajcberlin': 3723, 'daliagrinfeld': 3724, 'antira': 3725, 'genutzt': 3726, 'geschickt': 3727, 'vorzuwerfen': 3728, 'realen': 3729, 'waer': 3730, 'soldaten': 3731, 'organisationen': 3732, 'satt': 3733, 'bombt': 3734, 'dient': 3735, 'berechtigt': 3736, 'daheim': 3737, 'froehlich': 3738, 'packung': 3739, 'zwiebelmettchen': 3740, 'hanner': 3741, 'drache': 3742, 'lel': 3743, 'kopfweh': 3744, 'nehm': 3745, 'nixmehr': 3746, 'kastrie': 3747, 'trefft': 3748, 'sing': 3749, 'bomb': 3750, '149': 3751, 'schreib': 3752, 'email': 3753, 'rutsch': 3754, 'privilegien': 3755, 'verdammtes': 3756, 'andersrum': 3757, 'entlasten': 3758, 'hashtags': 3759, 'blocken': 3760, 'kacke': 3761, 'nervt': 3762, 'einzig': 3763, 'wahre': 3764, 'legitimieren': 3765, 'beziehung': 3766, 'tomson1611': 3767, 'auggcaggaauaugu': 3768, 'arnehoffmann': 3769, 'staci': 3770, 'stasis': 3771, 'ueberspitzt': 3772, 'beweise': 3773, 'konkreten': 3774, 'gruesse': 3775, 'work': 3776, 'biologischen': 3777, 'unterhaltungswe': 3778, 'riesenrettich': 3779, 'einfachen': 3780, 'koerper': 3781, 'sitz': 3782, 'smeeesh': 3783, 'gekauft': 3784, 'woanders': 3785, 'gebt': 3786, 'fahre': 3787, 'bekomm': 3788, 'sekunden': 3789, 'aufnahme': 3790, 'schauspieler': 3791, 'maske': 3792, 'bricht': 3793, 'bloss': 3794, 'oon': 3795, 'freu': 3796, 'vier': 3797, 'rezept': 3798, 'stueckchen': 3799, 'solang': 3800, 'hauses': 3801, 'ranger': 3802, 'ewig': 3803, 'mo': 3804, 'highscoreheroes': 3805, 'charakter': 3806, 'vorgestellt': 3807, 'wunderbar': 3808, 'nichtmehr': 3809, 'krass': 3810, 'instant': 3811, 'psychologische': 3812, 'aktiv': 3813, 'zitat': 3814, 'errungenschaften': 3815, 'darin': 3816, 'korrekt': 3817, 'belegen': 3818, 'grossteil': 3819, 'biologische': 3820, 'gebiet': 3821, 'bein': 3822, 'respektie': 3823, 'rettet': 3824, 'verweise': 3825, 'beziehen': 3826, 'fuehle': 3827, 'genuegt': 3828, 'werner': 3829, 'einzelnen': 3830, 'bestimmten': 3831, 'aehnliche': 3832, 'betrachte': 3833, 'thesen': 3834, 'problematik': 3835, 'verabschiedet': 3836, 'reten': 3837, 'snowflakes': 3838, 'ignorantiam': 3839, 'zustimmen': 3840, 'verstaendnis': 3841, 'existierenden': 3842, 'dargestellt': 3843, 'huebsch': 3844, 'belegt': 3845, 'gelten': 3846, 'wissenschaftlich': 3847, 'bar': 3848, 'wiki': 3849, 'ikels': 3850, 'nachlesen': 3851, 'aufgegeben': 3852, 'einen': 3853, 'arzt': 3854, 'ausm': 3855, 'wahrscheinlicher': 3856, 'schaem': 3857, 'hetero': 3858, 'kachelmann': 3859, 'trockener': 3860, 'besuch': 3861, 'sin': 3862, 'mitbekommen': 3863, 'bleib': 3864, 'kanal': 3865, 'schmerzt': 3866, 'vorstellen': 3867, 'hatt': 3868, 'rose': 3869, 'traum': 3870, 'hinein': 3871, 'oberkoerper': 3872, 'metalwilli': 3873, 'politischer': 3874, 'taeglichen': 3875, 'gutmannmanfred': 3876, 'h4': 3877, 'nonononono6667': 3878, 'fschlieffen': 3879, 'frieden': 3880, 'kinderschaender': 3881, 'europas': 3882, '0001f620': 3883, 'zufuehren': 3884, 'thor200375': 3885, 'peterroger17': 3886, 'muehe': 3887, 'veraendern': 3888, 'rollt': 3889, 'verlaufen': 3890, 'vorgefueh': 3891, 'logiker01': 3892, 'mitteln': 3893, 'blutrot': 3894, 'toetet': 3895, 'ue': 3896, 'renten': 3897, 'buschfrank': 3898, 'politikstube': 3899, 'landen': 3900, 'abstechen': 3901, 'hero': 3902, 'scheissen': 3903, 'aufklaerer2017': 3904, 'nachbar': 3905, 'angebliche': 3906, 'dergegenspieler': 3907, 'umfeld': 3908, 'germany': 3909, 'wem': 3910, 'ans': 3911, 'licht': 3912, 'menschenwuerdiges': 3913, 'rol': 3914, '0815': 3915, 'paulehasi13': 3916, 'staatstreuen': 3917, '150': 3918, 'grosseltern': 3919, 'sibirien': 3920, 'knobloch': 3921, 'menschenverachtende': 3922, 'transpo': 3923, 'tschonka': 3924, 'olivergorus': 3925, 'icke': 3926, 'schlagzeilen': 3927, 'buergermeister': 3928, 'anrufen': 3929, 'therealjoe': 3930, '1958': 3931, 'freiepressenet': 3932, 'ausschliesslich': 3933, 'zuhause': 3934, 'gunnyaustria': 3935, 'besingen': 3936, 'rauswerfen': 3937, 'taschen': 3938, 'berater': 3939, 'norbe': 3940, 'unzaehligen': 3941, 'brechen': 3942, 'reifen': 3943, 'synagogen': 3944, 'mazirke': 3945, 'moment': 3946, 'hit': 3947, 'miesen': 3948, 'bahnhofsklatschern': 3949, 'hansalbers100': 3950, 'lehrmeister': 3951, 'aua': 3952, 'bahnhofsklatscher': 3953, 'bereicherung': 3954, 'energie': 3955, 'raucht': 3956, 'medikamente': 3957, 'iges': 3958, 'produzieren': 3959, 'hackenstad': 3960, 'militaer': 3961, '0001f4af': 3962, 'einwanderer': 3963, 'bundesverdienstkreuz': 3964, 'schlaege': 3965, 'ruppen': 3966, 'santifa': 3967, 'bundesamt': 3968, 'linksversiffte': 3969, 'andere': 3970, 'korruptes': 3971, 'gruenes': 3972, '0001f44e': 3973, 'pamelacostaric1': 3974, 'fah': 3975, 'thueringen': 3976, 'frannylicious79': 3977, 'bimbas': 3978, 'ausdenken': 3979, 'anal': 3980, 'haeusern': 3981, 'masken': 3982, 'agieren': 3983, 'verhaelt': 3984, 'konve': 3985, 'gesunden': 3986, '0001f61d': 3987, 'marco25177219': 3988, 'zeisbergmichael': 3989, 'linksfaschist': 3990, 'italiener': 3991, 'haettet': 3992, 'tinimaus1110': 3993, 'staatstreue': 3994, 'dreckigen': 3995, 'hoechsten': 3996, 'aemtern': 3997, 'entnehmen': 3998, 'eika': 3999, 'geschmie': 4000, 'glatt': 4001, 'boot': 4002, 'facharbeiter': 4003, 'lebens': 4004, 'judenhassern': 4005, 'auffaellig': 4006, 'sicheres': 4007, 'waehlern': 4008, 'konsumie': 4009, 'daemlich': 4010, 'legalisierung': 4011, 'paedophile': 4012, 'dreckiger': 4013, 'zuwanderer': 4014, 'mio': 4015, 'robe': 4016, 'manager': 4017, 'korantreuen': 4018, 'sicherheit': 4019, 'eingehen': 4020, 'kommentare': 4021, 'kulturellen': 4022, 'freiwild': 4023, '1schlobohm': 4024, 'ragnarr56': 4025, 'schulenburgch': 4026, 'cducsubt': 4027, 'tiefen': 4028, 'reiches': 4029, 'griechenland': 4030, 'schade': 4031, 'anja49150998': 4032, 'maennliche': 4033, 'neulich': 4034, 'bernd471': 4035, 'grauen': 4036, 'woelfe': 4037, 'energiewende': 4038, 'kerzen': 4039, 'spenden': 4040, 'eingefueh': 4041, 'rechtsnationalen': 4042, 'ministerpraesidenten': 4043, 'viktor': 4044, 'orb': 4045, 'naehmlich': 4046, '74': 4047, 'wenden': 4048, 'berufspolitiker': 4049, 'kinderga': 4050, 'blasen': 4051, '43': 4052, 'suchte': 4053, 'armutspolitik': 4054, 'vorbild': 4055, 'dezember': 4056, 'verkuendete': 4057, 'generalversammlung': 4058, 'vereinten': 4059, 'allgemeine': 4060, 'diagnose': 4061, 'bekam': 4062, 'psychischer': 4063, 'doppelt': 4064, 'aufgeforde': 4065, 'anfuehlt': 4066, 'willkuerlich': 4067, 'rechnen': 4068, 'demuetigung': 4069, 'jugendlichen': 4070, 'malu': 4071, 'dreyer': 4072, 'kompromiss': 4073, 'allem': 4074, 'schwangerschaftsabbrueche': 4075, 'besuchen': 4076, 'unverschaemte': 4077, 'niedriglohnsektor': 4078, 'schoenste': 4079, 'nummer': 4080, 'schlechten': 4081, 'volkspa': 4082, 'deppen': 4083, 'sicherste': 4084, 'absoluter': 4085, 'endgueltig': 4086, 'flucht': 4087, 'verhoehnen': 4088, 'antraege': 4089, 'mitarbeiter': 4090, 'sanktioniren': 4091, 'als': 4092, 'verraeter': 4093, 'besserverdiener': 4094, 'beschliesst': 4095, 'plaetze': 4096, 'befand': 4097, 'giffey': 4098, 'klausur': 4099, 'verzichten': 4100, 'sozialdemokraten': 4101, 'hinterzimmer': 4102, 'nahe': 4103, 'verbunden': 4104, 'theresa': 4105, 'blockade': 4106, 'europawahl': 4107, 'schwere': 4108, 'raet': 4109, 'hungerrente': 4110, 'einladung': 4111, 'ausgegeben': 4112, 'inhaltlich': 4113, 'durchgesetzt': 4114, 'unterstellt': 4115, 'leichtfe': 4116, 'igkeit': 4117, 'werbeverbot': 4118, 'sprueche': 4119, 'verbreitung': 4120, 'falschinformation': 4121, 'eindeutigen': 4122, 'permanent': 4123, 'ueberwacht': 4124, 'erhoeht': 4125, 'existenzminimum': 4126, 'jens': 4127, 'weige': 4128, 'saal': 4129, 'entstanden': 4130, 'abgeordneten': 4131, 'fuenf': 4132, 'festnahmen': 4133, 'anschlag': 4134, 'dritte': 4135, 'ju': 4136, 'jobs': 4137, 'politikern': 4138, 'verlaesst': 4139, 'zeitungen': 4140, 'feuer': 4141, 'resolution': 4142, 'grausamer': 4143, 'unmenschlicher': 4144, 'erniedrigender': 4145, 'unterworfen': 4146, 'teilzunehmen': 4147, 'zt': 4148, 'muetter': 4149, 'notwendige': 4150, 'berufswahl': 4151, 'anehmen': 4152, 'sklaven': 4153, 'sanktionie': 4154, 'spu': 4155, 'arbeitet': 4156, 'ausweis': 4157, 'archiv': 4158, 'eugh': 4159, 'staatsanleihen': 4160, 'eichefin': 4161, 'behar': 4162, 'erhoehung': 4163, 'kitas': 4164, 'protesten': 4165, 'handel': 4166, 'private': 4167, 'telefonnummer': 4168, 'geloescht': 4169, 'kontakt': 4170, '2010': 4171, 'akkmussweg': 4172, 'armselig': 4173, 'wollten': 4174, '2000': 4175, 'insgesamt': 4176, 'massnahmen': 4177, 'beginnt': 4178, 'barley': 4179, 'klo': 4180, 'koalition': 4181, 'gewalttaetige': 4182, 'bank': 4183, 'gehorsam': 4184, 'konkret': 4185, 'kuendigt': 4186, 'gelegentlich': 4187, '263a': 4188, 'zulaesst': 4189, 'helfer': 4190, 'angerichtet': 4191, 'schwule': 4192, 'franzosen': 4193, 'schwarz': 4194, 'zusammenarbeit': 4195, 'druecken': 4196, 'putzfrau': 4197, 'neoliberale': 4198, '450': 4199, 'ohnmacht': 4200, 'entschuldigen': 4201, 'panne': 4202, 'heuchelei': 4203, 'weitere': 4204, '90er': 4205, 'erzeugen': 4206, 'kandidaten': 4207, 'delegie': 4208, 'pruegelt': 4209, 'politikerin': 4210, 'gebraucht': 4211, 'gewerkschaften': 4212, 'kontrolleure': 4213, 'lupe': 4214, 'forbes': 4215, 'knallha': 4216, 'zeitung': 4217, 'grossem': 4218, 'heulen': 4219, 'dieses': 4220, 'aufbringen': 4221, 'verbundene': 4222, 'voraussetzung': 4223, 'mitglied': 4224, 'erlassen': 4225, 'aufschwung': 4226, 'mitgliedern': 4227, 'herzlich': 4228, 'bezahlte': 4229, 'mittelschicht': 4230, 'eine': 4231, 'moral': 4232, 'lohnkosten': 4233, 'magazin': 4234, 'unfaehige': 4235, '1789': 4236, 'steinmeier': 4237, 'ausrufung': 4238, 'verswabot': 4239, 'zerstoere': 4240, 'marxistische': 4241, 'differenzie': 4242, 'ausgebildeten': 4243, 'tbh': 4244, 'proletarische': 4245, 'kenn': 4246, 'seitdem': 4247, 'shit': 4248, 'autobahn': 4249, 'band': 4250, 'goebbels': 4251, 'buddhismus': 4252, 'akademiker': 4253, 'politics': 4254, 'oeffentlichen': 4255, 'diskussionen': 4256, 'sand': 4257, 'gebacken': 4258, 'beschwe': 4259, 'fszntnbrandwund': 4260, 'abweichung': 4261, 'gegenteiligen': 4262, 'verstecken': 4263, 'soyuz187': 4264, 'rechnung': 4265, 'kategorien': 4266, 'schock': 4267, 'dietmar': 4268, 'dath': 4269, 'oefter': 4270, 'erfrieren': 4271, 'studenten': 4272, 'behaemme': 4273, 'lgbtiqplus187': 4274, 'wankelmut': 4275, 'antikommunistischen': 4276, 'freilich': 4277, 'gegenwae': 4278, 'linker': 4279, 'realsozialismus': 4280, 'befindet': 4281, 'solid': 4282, 'anarchos': 4283, 'liebkind': 4284, 'donalphonso': 4285, 'risa': 4286, 'coke': 4287, 'cola': 4288, 'gewerkschaftler': 4289, 'mauerfall': 4290, 'produktionsmittel': 4291, 'arbeiterklasse': 4292, 'weltuntergang': 4293, 'angeht': 4294, 'meter': 4295, 'mangelnde': 4296, 'korrelation': 4297, 'emission': 4298, 'naturkatastrophen': 4299, 'entsteht': 4300, 'trend': 4301, 'veraenderungen': 4302, 'how': 4303, 'konzerne': 4304, 'emmissionen': 4305, 'meistens': 4306, 'emissionen': 4307, 'elektroautos': 4308, 'gegenseitig': 4309, 'erde': 4310, 'schrecklich': 4311, 'ipcc': 4312, 'unter': 4313, 'groessenordnung': 4314, 'treibhausgase': 4315, 'herbst': 4316, 'kaeme': 4317, 'szenarien': 4318, 'angeben': 4319, 'prognose': 4320, 'bericht': 4321, 'vernuenftig': 4322, 'gemessen': 4323, 'braeuchte': 4324, 'menschlicher': 4325, 'zeugt': 4326, 'geistiger': 4327, 'comradelayer': 4328, 'rhetorik': 4329, 'gesellschaftlich': 4330, 'bis': 4331, 'identifizie': 4332, 'tweeten': 4333, 'treten': 4334, 'privateigentum': 4335, 'inwieweit': 4336, 'autonome': 4337, 'ki': 4338, 'einsatz': 4339, 'struktur': 4340, 'situationen': 4341, 'ulbricht': 4342, 'bewusst': 4343, 'menschengemacht': 4344, 'erforde': 4345, 'oekonomische': 4346, 'ever': 4347, 'komplizie': 4348, 'revolutionaeren': 4349, 'bananen': 4350, 'manifest': 4351, 'mark': 4352, 'diversen': 4353, 'mauer': 4354, 'geholt': 4355, 'aepfel': 4356, 'umweltverschmutzung': 4357, 'ungebildet': 4358, 'minderbemittelten': 4359, 'citoyenlxix': 4360, 'justus': 4361, 'rheinwiesngrund': 4362, 'linksextreme': 4363, 'god': 4364, 'horoskop': 4365, 'dialog': 4366, 'milch': 4367, 'tanzen': 4368, 'lache': 4369, 'hacks': 4370, 'schnitzel': 4371, 'lecker': 4372, 'gewaschenerk': 4373, 'rauchen': 4374, 'krebs': 4375, 'fun': 4376, 'fact': 4377, 'kohlekraftwerke': 4378, 'weitermachen': 4379, 'volkergoebbels': 4380, 'jo': 4381, 'verfuegbarkeit': 4382, 'tagesgeldkonten': 4383, 'nennenswe': 4384, 'gehalt': 4385, 'sonderbaren': 4386, 'neutralen': 4387, 'huxi': 4388, 'zieh': 4389, 'anonymous': 4390, 'gelber': 4391, 'naiven': 4392, 'ton': 4393, 'gerechte': 4394, 'sexuellen': 4395, 'gefaehrlich': 4396, 'beliebig': 4397, 'allesamt': 4398, 'kaffee': 4399, 'protestie': 4400, 'rydlewski': 4401, 'herzen': 4402, 'oeglicherweise': 4403, 'kurzen': 4404, '161': 4405, 'kamikaze': 4406, 'dat': 4407, 'herdecke': 4408, 'stell': 4409, 'relevant': 4410, 'legitimation': 4411, 'implizieren': 4412, 'baden': 4413, 'tumblr': 4414, 'coden': 4415, 'prozentual': 4416, 'beruflich': 4417, 'wald': 4418, 'baeumen': 4419, 'francismalevil': 4420, 'ansatzweise': 4421, 'langfristig': 4422, 'zeitpunkt': 4423, 'lebensversicherung': 4424, 'dauern': 4425, 'allesversuch': 4426, 'est': 4427, 'roulette': 4428, 'franke': 4429, 'media': 4430, 'gezahlt': 4431, 'depot': 4432, 'alternative': 4433, '31': 4434, 'beiseite': 4435, 'nachdenken': 4436, 'lottoschein': 4437, 'lindern': 4438, 'koerperlich': 4439, 'erfuellt': 4440, 'turnvater': 4441, 'jahn': 4442, 'hocker': 4443, 'erklaer': 4444, 'daneben': 4445, 'fight': 4446, 'flight': 4447, 'kurzer': 4448, 'ermuedend': 4449, 'redcat': 4450, 'profis': 4451, 'zweifle': 4452, 'that': 4453, 'with': 4454, 'grosses': 4455, 'abgesagt': 4456, 'vorm': 4457, 'windows': 4458, 'wikipedia': 4459, 'tz': 4460, 'halbieren': 4461, 'grossa': 4462, 'starben': 4463, 'reichtum': 4464, 'oberschicht': 4465, 'gamer': 4466, 'seltsamemensch': 4467, 'mode': 4468, 'ausstrahlen': 4469, 'heben': 4470, 'hoerbar': 4471, 'nachmittags': 4472, 'gegend': 4473, 'wuenschte': 4474, 'gifs': 4475, 'las': 4476, 'wtf': 4477, 'te': 4478, 'tarantino': 4479, 'faktenchecks': 4480, 'neofaschistischen': 4481, 'ueberfuehren': 4482, '35': 4483, 'drukos': 4484, 'pluralismus': 4485, 'befinden': 4486, 'streng': 4487, 'gebaeude': 4488, 'ua': 4489, 'hingehen': 4490, 'tat': 4491, 'messerattacken': 4492, 'ball': 4493, 'birne': 4494, 'klumpen': 4495, 'zermalmten': 4496, 'dna': 4497, 'identifizierbar': 4498, 'diverser': 4499, 'gebeten': 4500, 'anonymes': 4501, 'informiere': 4502, 'englisch': 4503, 'mountainman1977': 4504, 'kollegen': 4505, 'ermordet': 4506, 'beerdigung': 4507, '0001f64f': 4508, 'chekatt': 4509, 'auftaucht': 4510, 'jungen': 4511, 'garantie': 4512, 'babys': 4513, 'terroropfer': 4514, 'atmet': 4515, 'selbstaendig': 4516, 'schussverletzungen': 4517, 'reisst': 4518, 'multiplen': 4519, 'schusswunden': 4520, 'aushalten': 4521, 'pest': 4522, 'med': 4523, 'honig': 4524, 'kontinente': 4525, 'sami': 4526, 'bruder': 4527, 'taxi': 4528, 'ehemaligen': 4529, 'wohno': 4530, 'information': 4531, 'warnen': 4532, 'verschwunden': 4533, 'oeffnen': 4534, 'pietaetlos': 4535, 'euch': 4536, 'mediz': 4537, 'tommayereuropa': 4538, 'ete': 4539, 'geiselnahme': 4540, 'stoeren': 4541, 'europaparlament': 4542, 'erhoehte': 4543, 'sicherheitsstufe': 4544, 'geschah': 4545, 'radikalisie': 4546, 'gefaehrder': 4547, 'schweren': 4548, '99': 4549, 'verletzten': 4550, 'attentaeter': 4551, 'hewner82': 4552, 'eziden': 4553, 'judenhass': 4554, 'islamistischen': 4555, 'herzinfarkt': 4556, 'wuensche': 4557, 'kannste': 4558, 'schieben': 4559, 'verursacht': 4560, 'relativieren': 4561, 'blockie': 4562, 'ophra': 4563, 'blutlachen': 4564, 'gestalten': 4565, 'brandstifter': 4566, 'hae': 4567, 'hisbollah': 4568, 'verbandelt': 4569, 'ms': 4570, 'raten': 4571, 'doedel': 4572, 'komplexen': 4573, 'nichtmal': 4574, 'brachten': 4575, 'plaene': 4576, 'sweiermann': 4577, 'une': 4578, 'hoechste': 4579, 'twitterer': 4580, 'stalinistischer': 4581, 'standgericht': 4582, 'extremismus': 4583, 'distanzie': 4584, 'fav': 4585, 'facebook': 4586, 'kommi': 4587, 'bubble': 4588, 'kraefte': 4589, 'hegelianer': 4590, 'such': 4591, 'content': 4592, 'national': 4593, 'europaeisch': 4594, 'bolschewismus': 4595, '0001f630': 4596, 'dir': 4597, 'springer': 4598, 'faz': 4599, 'atombombe': 4600, 'clever': 4601, 'lyzi': 4602, 'zorn': 4603, 'genuege': 4604, 'checker': 4605, 'beachten': 4606, 'abendlandes': 4607, 'aufklaerer': 4608, 'az': 4609, 'find': 4610, 'beleidigen': 4611, 'tu': 4612, 'verherrlicht': 4613, 'antikommunistische': 4614, 'lyziswelt': 4615, 'begann': 4616, 'hehe': 4617, 'verschwoerungstheorien': 4618, 'reformen': 4619, 'reiss': 4620, 'herrscher': 4621, 'liberalen': 4622, 'teilt': 4623, 'larsweisbrod': 4624, 'ausdruck': 4625, 'poste': 4626, 'ideologiekritiker': 4627, 'prekarisie': 4628, 'richtiger': 4629, 'famous': 4630, 'people': 4631, 'didnt': 4632, 'were': 4633, 'semite': 4634, 'charles': 4635, 'christoph': 4636, 'lichtenberg': 4637, 'spasseshalber': 4638, '300': 4639, 'abgelehnt': 4640, 'bestellen': 4641, 'sicherlich': 4642, 'wirfst': 4643, 'gericht': 4644, '0001f47b': 4645, 'minerva': 4646, 'pruef': 4647, 'jawollo': 4648, 'integration': 4649, '0001f622': 4650, 'juwo': 4651, 'woechentlich': 4652, 'russische': 4653, 'chat': 4654, 'up': 4655, 'lyzis': 4656, 'stalinismus': 4657, 'empoe': 4658, 'sorge': 4659, 'hegelexperience': 4660, 'bester': 4661, 'froehliche': 4662, 'echtzeitreise': 4663, 'jan': 4664, 'wirklichen': 4665, 'myassrelaxed': 4666, 'wiesengrind': 4667, 'id': 4668, 'rebellen': 4669, 'fordere': 4670, 'antideutschen': 4671, 'bolschewistische': 4672, 'attackie': 4673, 'andersdenkende': 4674, 'stricken': 4675, 'pariser': 4676, 'goethe': 4677, 'uga': 4678, 'macrons': 4679, 'westliche': 4680, 'change': 4681, 'foto': 4682, 'herren': 4683, 'faktor': 4684, 'cdubpt18': 4685, 'achimszepanski': 4686, '26cf': 4687, 'drogen': 4688, 'gescheite': 4689, 'jammern': 4690, 'randale': 4691, 'oder': 4692, 'rende': 4693, 'made': 4694, 'by': 4695, '200': 4696, 'show': 4697, 'beatrix': 4698, 'vstorch': 4699, '0001f604': 4700, 'esschiebel': 4701, 'geoeffneten': 4702, 'fenster': 4703, 'verachtung': 4704, 'schicksal': 4705, 'nationalsozialisten': 4706, 'energieversorger': 4707, 'maedel': 4708, 'galionsfigur': 4709, 'ausgepfiffen': 4710, 'beliebteste': 4711, 'nationalstaat': 4712, 'vereinigten': 4713, 'verzweiflung': 4714, 'gelassen': 4715, 'bravo': 4716, 'schlepperbanden': 4717, 'passagierlisten': 4718, 'getarnt': 4719, 'koennt': 4720, 'teilen': 4721, 'schlechtesten': 4722, 'joanacotar': 4723, 'internationaler': 4724, 'aufgerissen': 4725, 'totalen': 4726, 'verbrennungsmotor': 4727, 'programm': 4728, 'ueberschritten': 4729, 'wahlrecht': 4730, 'kampagne': 4731, 'laune': 4732, 'indonesien': 4733, 'iniwinisissi': 4734, 'unbequeme': 4735, 'eier': 4736, 'angriffen': 4737, 'verbuendeten': 4738, 'lautstark': 4739, 'einfordern': 4740, 'erbarmungslos': 4741, 'reisen': 4742, 'chancen': 4743, 'auslaendische': 4744, 'eingewande': 4745, 'kriminalitaet': 4746, 'aufgezwungen': 4747, 'aehnliches': 4748, 'ruft': 4749, 'syrer': 4750, 'afghanen': 4751, 'seht': 4752, 'option': 4753, 'gebuehren': 4754, 'lach': 4755, 'feuerwerk': 4756, 'zuenden': 4757, 'geilomat': 4758, 'vermeintliche': 4759, 'firmen': 4760, 'ersetzen': 4761, 'initiie': 4762, 'schnee': 4763, 'migrant': 4764, 'schliessen': 4765, 'wuerd': 4766, 'stoe': 4767, 'unterzeichnet': 4768, 'punkten': 4769, 'vergleich': 4770, 'sichtbar': 4771, 'versteckt': 4772, 'fluechtlingsunterkunft': 4773, 'ten': 4774, 'aids': 4775, 'test': 4776, 'verachten': 4777, 'fakenews': 4778, 'erscheinen': 4779, 'wendet': 4780, 'obedmarsh': 4781, 'highlight': 4782, 'geleistet': 4783, 'krachend': 4784, 'zwingt': 4785, 'widerliches': 4786, 'kloeten': 4787, 'errichten': 4788, 'iraner': 4789, 'wunde': 4790, 'evtl': 4791, 'qualitaetsmedien': 4792, 'kolonisie': 4793, 'topnews': 4794, 'verkehrsblatt': 4795, 'anlage': 4796, 'regelmaessig': 4797, 'achja': 4798, 'lege': 4799, 'profitie': 4800, 'verlinkten': 4801, 'binnen': 4802, '1947': 4803, 'jamme': 4804, 'zugehoerigkeit': 4805, 'haendler': 4806, 'kolonialismus': 4807, 'traditionen': 4808, 'sephardim': 4809, 'mizrachim': 4810, 'reichlich': 4811, 'morsche': 4812, 'verzweifelt': 4813, 'veranke': 4814, 'konradgoke': 4815, 'abwink': 4816, 'palestine': 4817, 'geschlossenen': 4818, 'ilan': 4819, 'moerderischen': 4820, 'osmanischen': 4821, 'jah': 4822, 'ausenden': 4823, 'bewohnten': 4824, 'interessante': 4825, 'sebastiankurz': 4826, 'regimes': 4827, 'unmensch': 4828, 'straflos': 4829, 'verleumder': 4830, 'ordentlich': 4831, 'kliehm': 4832, 'wars': 4833, 'solltet': 4834, 'kolonialen': 4835, 'fuzzies': 4836, 'weareafreeworld': 4837, 'nachkommen': 4838, 'erfinden': 4839, 'beziehe': 4840, 'mehreren': 4841, 'terrororganisation': 4842, 'ethnogenese': 4843, 'imho': 4844, 'levante': 4845, 'fanden': 4846, 'versager': 4847, 'claim': 4848, 'tausenden': 4849, 'veranstaltet': 4850, 'nahost': 4851, 'betruegen': 4852, 'fraktionen': 4853, 'blieben': 4854, 'zimmerwohnung': 4855, 'befehlen': 4856, 'gesammelt': 4857, 'aufmarschplaene': 4858, 'armeedokumente': 4859, 'dorf': 4860, 'renommie': 4861, 'durchgehen': 4862, 'pappes': 4863, 'heimatland': 4864, 'getrieben': 4865, 'lebensraum': 4866, 'unte': 4867, 'hindus': 4868, 'umgebung': 4869, 'antun': 4870, 'voelkischen': 4871, 'absprechen': 4872, 'israels': 4873, 'nebeneinander': 4874, 'gegruendet': 4875, 'gleiches': 4876, 'antiken': 4877, 'gemein': 4878, 'worum': 4879, 'zitie': 4880, 'geheimen': 4881, 'untergebracht': 4882, 'kriegszustand': 4883, 'gefangen': 4884, 'staatsterroristen': 4885, 'abkaufen': 4886, 'beliebt': 4887, 'standard': 4888, 'schmutz': 4889, 'minderwe': 4890, 'unabhaengig': 4891, 'alex': 4892, 'osteuropa': 4893, 'dreister': 4894, 'juedische': 4895, 'veroeffentlichung': 4896, 'entschuldigung': 4897, 'witzfiguren': 4898, 'tokenismus': 4899, 'stecken': 4900, 'kurzem': 4901, 'lautet': 4902, 'zukommen': 4903, 'hebraeer': 4904, 'arabischen': 4905, 'twittersuppo': 4906, 'allseits': 4907, 'persoenliche': 4908, 'lieblings': 4909, 'treibt': 4910, 'carolhakios': 4911, 'hirngespinste': 4912, 'ollowain': 4913, 'brandenburg': 4914, 'geiler': 4915, 'zeig': 4916, 'antideutsch': 4917, 'antiimp': 4918, 'ausgelutschte': 4919, 'drueko': 4920, 'ski': 4921, 'leib': 4922, 'anchmal': 4923, 'uss': 4924, 'radikalen': 4925, 'wichser': 4926, 'phaenomen': 4927, 'goennt': 4928, 'ausgeloest': 4929, 'geschockt': 4930, 'autoritaeren': 4931, 'haut': 4932, 'turbobuchung': 4933, 'date': 4934, 'kurzehosenafa': 4935, 'cishets': 4936, 'user': 4937, 'bisserl': 4938, 'kalifat': 4939, 'islamkritik': 4940, 'verhaeltnis': 4941, 'begreifen': 4942, 'medaille': 4943, 'wirkung': 4944, 'entfolgen': 4945, 'ost': 4946, 'positionieren': 4947, 'widerspruch': 4948, 'gestorben': 4949, 'ncolnz': 4950, 'aktion': 4951, 'demonstranten': 4952, 'beaengstigend': 4953, 'black': 4954, 'gelegt': 4955, 'kennst': 4956, 'kulturrelativismus': 4957, 'hamburg': 4958, 'unzivilisie': 4959, 'abgesehen': 4960, 'niqab': 4961, 'traegt': 4962, 'versiffte': 4963, 'sprecho': 4964, 'akzeptie': 4965, 'kunstfigur': 4966, '0001f918': 4967, 'jugendliche': 4968, 'greife': 4969, 'autoritaere': 4970, 'wuerdet': 4971, 'kekse': 4972, 'normales': 4973, 'autonom': 4974, 'hau': 4975, 'geraten': 4976, 'formulieren': 4977, 'gewa': 4978, 'les': 4979, 'heiss': 4980, 'abschliessend': 4981, 'schalte': 4982, 'derdimmy': 4983, 'perry': 4984, 'angreifen': 4985, 'iamlebreton': 4986, 'raum': 4987, 'morde': 4988, 'akte': 4989, 'sperre': 4990, 'entgueltig': 4991, 'misogyne': 4992, 'derfreecee': 4993, 'otto': 4994, 'getee': 4995, 'gefede': 4996, 'suizid': 4997, 'paradebeispiel': 4998, 'nwo': 4999, 'zentralrat1': 5000, 'gelegenheit': 5001, 'kardasiapat': 5002, 'messerangriff': 5003, 'beunruhigen': 5004, 'marionetten': 5005, 'offbeat24': 5006, 'fugees': 5007, 'angezuendet': 5008, 'baetschi': 5009, 'fette': 5010, 'kuenaxt': 5011, 'hyaenen': 5012, 'chance': 5013, 'faust': 5014, 'weiber': 5015, 'arschloecher': 5016, 'beschwichtigen': 5017, 'koethen': 5018, 'zdfsachsen': 5019, 'bestialischen': 5020, 'ueberfall': 5021, 'restaurant': 5022, 'wohlgemerkt': 5023, 'spontan': 5024, 'hurenpresse': 5025, 'ungestraft': 5026, 'deu151': 5027, 'holgerewald1': 5028, 'polobentv': 5029, 'karlmller13': 5030, 'selfie': 5031, 'geschissen': 5032, 'wacht': 5033, 'imregrimm': 5034, 'flixbus': 5035, 'wide': 5036, 'deibel': 5037, 'benoetigt': 5038, 'vorfall': 5039, 'hakenkreuz': 5040, 'gedrueckt': 5041, 'maltekaufmann': 5042, 'logisch': 5043, 'reaktion': 5044, 'geldbeutel': 5045, 'wundern': 5046, 'rathaus': 5047, 'platznehmen': 5048, 'anzahl': 5049, 'kandel': 5050, 'daseinsberechtigung': 5051, 'denunzie': 5052, 'heucheln': 5053, 'but': 5054, 'metoo': 5055, 'hollywood': 5056, 'lehrerin': 5057, 'mimimi': 5058, '1910spencer': 5059, 'eigener': 5060, 'pisser': 5061, 'verachte': 5062, 'eierlose': 5063, 'schwulen': 5064, 'hervor': 5065, 'regierungsnahe': 5066, 'epiclout': 5067, 'explodieren': 5068, 'haaren': 5069, 'regenbogen': 5070, 'geraet': 5071, 'generation': 5072, 'affen': 5073, 'ficken': 5074, 'barbarasteibl1': 5075, 'gehirn': 5076, 'thomaswalde': 5077, 'doll': 5078, 'lauft': 5079, 'zdfspo': 5080, 'befuerchte': 5081, 'geistesgestoe': 5082, 'klatsch': 5083, 'verlauf': 5084, 'redest': 5085, 'ungefragt': 5086, 'brauchst': 5087, 'beendet': 5088, 'belaestigung': 5089, 'brueste': 5090, 'praesentierst': 5091, 'angestar': 5092, 'faelle': 5093, 'craftergut2': 5094, 'schrauben': 5095, 'antifas': 5096, 'heinrichheine12': 5097, 'altmaier': 5098, 'meldemuschi': 5099, 'sm100d': 5100, 'bloedheit': 5101, 'kernenergie': 5102, 'kernergie': 5103, 'kohleverstromung': 5104, 'feinstaub': 5105, 'tschechien': 5106, 'franzmann': 5107, 'beliebter': 5108, 'kohleausstieg': 5109, 'balkan': 5110, 'spanien': 5111, 'fffrauki': 5112, 'aufrechten': 5113, 'termin': 5114, 'guardofbrain': 5115, 'engelge': 5116, 'chris': 5117, 'ralle': 5118, 'pipi': 5119, 'hotte': 5120, 'laecherliche': 5121, 'faltencreme': 5122, 'rockneten': 5123, 'neuantraege': 5124, 'sinkt': 5125, 'abgeschobenen': 5126, 'gegenueberstellt': 5127, 'ring': 5128, 'aufgeilen': 5129, 'grenzwe': 5130, 'phantasie': 5131, 'logik': 5132, 'sozen': 5133, 'ausgehandelt': 5134, 'stumme': 5135, 'verzogenen': 5136, 'tschemm': 5137, 'vernunft': 5138, 'gogollafit': 5139, 'wstsm': 5140, 'schlumpfnazi471': 5141, 'willplaat': 5142, 'er1k': 5143, 'kraeftiges': 5144, 'mitmachen': 5145, 'alexplantsatree': 5146, 'griechenwoos2': 5147, 'elektromobilitaet': 5148, 'adaequate': 5149, 'plus': 5150, 'hirnwaesche': 5151, 'cinzia0118': 5152, 'fischmehl': 5153, 'blockwa': 5154, 'schiene': 5155, 'hetzjagden': 5156, 'gesunde': 5157, 'asylforderer': 5158, 'kahane': 5159, 'vorsitz': 5160, 'jala': 5161, 'varietas': 5162, 'amadeuantoniostiftung': 5163, 'tolle': 5164, 'muesst': 5165, 'merdeux': 5166, 'sinkende': 5167, 'ausnahme': 5168, 'betreuer': 5169, 'soo': 5170, 'gottesgetweete': 5171, 'zweimal': 5172, 'luba': 5173, 'cibre': 5174, 'seele': 5175, 'braunen': 5176, 'replies': 5177, 'einlieferung': 5178, 'befund': 5179, 'schule': 5180, 'mittelpunkt': 5181, 'regelmaessige': 5182, 'ruecksichtslos': 5183, 'soehne': 5184, 'gnadenlos': 5185, 'guycalleddad': 5186, 'ziegenfuss': 5187, 'beginnen': 5188, 'nutten': 5189, '74wonnie': 5190, 'bottomdog': 5191, 'esel': 5192, 'altes': 5193, 'klugscheissender': 5194, 'versehen': 5195, 'unbesiegbar': 5196, 'lord': 5197, 'mmejoie': 5198, 'dcxxx187': 5199, 'interessanter': 5200, 'kasperspuk': 5201, 'meinereiner76': 5202, 'kostuemfest': 5203, 'derlelbhaftlge': 5204, 'oktober': 5205, 'klammerdackel': 5206, 'empty': 5207, 'solidargemeinschaft': 5208, 'fgenervt': 5209, 'feenstaubtinka': 5210, 'superstar': 5211, 'dummschwaetzer': 5212, 'weltfremd': 5213, 'camp': 5214, 'evelyn': 5215, 'innenstadt': 5216, 'raeumung': 5217, 'hambifaellt': 5218, 'rechtlichen': 5219, 'baeume': 5220, 'koeln': 5221, 'kot': 5222, 'urin': 5223, 'bewerfen': 5224, 'nachvollziehen': 5225, 'sozialdezernat': 5226, 'paulsplatz': 5227, 'tuerkisches': 5228, '11h': 5229, 'kaisersack': 5230, 'va': 5231, 'stadthalle': 5232, 'russ': 5233, 'gg': 5234, 'gallus': 5235, 'danijelmajic': 5236, 'antirep': 5237, 'hostel': 5238, 'security': 5239, 'bestraft': 5240, 'wilhelm': 5241, 'leuschner': 5242, 'club': 5243, 'fragida': 5244, 'konstablerwache': 5245, 'savekobane': 5246, 'wegmit219a': 5247, 'wegmit218': 5248, 'twinnz4you': 5249, 'kommentar': 5250, 'blumeevolution': 5251, 'resurrection300': 5252, 'diehumanisten': 5253, 'progressive': 5254, 'guckt': 5255, 'durchlesen': 5256, 'grimasse': 5257, 'patrickgensing': 5258, 'adam': 5259, 'aioak': 5260, 'wahlhelfer': 5261, 'soros': 5262, 'krieges': 5263, 'etliche': 5264, 'vieles': 5265, 'franzoesisch': 5266, 'mlk': 5267, 'janzimmhhb': 5268, 'realitaetsverweigerung': 5269, 'erbaermlichen': 5270, 'spdeuropa': 5271, 'beitragen': 5272, 'weigern': 5273, 'anzuerkennen': 5274, 'bezweckt': 5275, 'beluegen': 5276, 'unverstaendlich': 5277, 'hacker': 5278, 'torben': 5279, 'braga': 5280, 'hintergrundwissen': 5281, 'laeppischen': 5282, '130': 5283, 'demokratieuntergang': 5284, 'fjs': 5285, 'glasige': 5286, 'co': 5287, 'investigativ': 5288, 'tim': 5289, 'roehn': 5290, 'chschweppe': 5291, 'vorgibt': 5292, 'eigentum': 5293, 'verpflichtet': 5294, 'maximale': 5295, 'mieterverarschungsbremse': 5296, 'lautes': 5297, 'gas': 5298, 'unfaelle': 5299, 'getoetet': 5300, 'strassenverkehr': 5301, 'sensation': 5302, 'klicks': 5303, 'anjakarliczek': 5304, 'andreanahlesspd': 5305, 'auftrag': 5306, 'mundtot': 5307, 'klinge': 5308, 'abladen': 5309, 'hessenschau': 5310, 'meldungen': 5311, 'luegenschau': 5312, 'tagesverarsche': 5313, 'heuteglaubteskeiner': 5314, 'regionales': 5315, 'unwichtigen': 5316, 'reichweite': 5317, 'erstaunlich': 5318, 'seilschaften': 5319, 'peteraltmaier': 5320, 'luegenr': 5321, 'rasie': 5322, 'ankotzen': 5323, '976': 5324, 'target': 5325, 'salden': 5326, 'rekordumsaetze': 5327, 'vermelden': 5328, 'summie': 5329, '87': 5330, 'marceljoppa': 5331, 'piotoitsche': 5332, 'gelsenkirchener': 5333, 'stempel': 5334, 'frisch': 5335, 'riechen': 5336, 'heulsuse': 5337, 'ausgebuddelt': 5338, 'unnuetze': 5339, 'fresser': 5340, 'nehmerland': 5341, 'geberlaender': 5342, 'tag24le': 5343, 'feinden': 5344, 'feinde': 5345, 'ndr': 5346, 'schmeirgeld': 5347, 'erpressbar': 5348, 'summen': 5349, 'spender': 5350, 'ausversehen': 5351, 'nachricht': 5352, '63': 5353, 'umgebracht': 5354, 'ferkels': 5355, 'gaesten': 5356, 'erblindung': 5357, 'ksta': 5358, 'intl': 5359, 'liebste': 5360, 'luegenprese': 5361, 'geschleusten': 5362, 'pir': 5363, 'polizeisachsen': 5364, 'fass': 5365, 'aufgemacht': 5366, 'inclusiv': 5367, 'inhaftie': 5368, 'volksverarsche': 5369, 'seawatchcrew': 5370, 'entsteigen': 5371, 'erpressung': 5372, 'ausgereicht': 5373, 'swraktuell': 5374, 'andischeuer': 5375, 'hoehe': 5376, 'gehalts': 5377, 'scheuer': 5378, 'siedlungsland': 5379, 'traktoren': 5380, 'nachahmungstaeter': 5381, 'inspirie': 5382, 'losschlaegt': 5383, 'unterschlagen': 5384, 'rawnezz': 5385, 'picture': 5386, 'diffamierung': 5387, 'verkappte': 5388, 'herrenmensch': 5389, 'ausmass': 5390, 'geringer': 5391, 'treuen': 5392, 'boeser': 5393, 'pebbles': 5394, 'kratzen': 5395, 'honecker': 5396, 'plansoll': 5397, 'angepasst': 5398, 'fax': 5399, 'opferrolle': 5400, 'taqiyya': 5401, 'hinterkopf': 5402, 'faxe': 5403, 'verschickt': 5404, 'erwiesen': 5405, 'ansieht': 5406, 'harba': 5407, 'ik': 5408, 'tapsen': 5409, 'teuer': 5410, 'grablicht': 5411, 'leise': 5412, 'online': 5413, 'integrieren': 5414, 'dankoeoeoe': 5415, 'glaubwuerdigster': 5416, 'anreihung': 5417, 'einzelfaellen': 5418, 'tolerieren': 5419, 'schloss': 5420, 'maut': 5421, 'kaut': 5422, 'verhaftung': 5423, 'gefeie': 5424, 'awidmannmauz': 5425, 'bmas': 5426, 'wittenburg': 5427, 'gutmenschentun': 5428, 'jena': 5429, 'badkreuznach': 5430, 'freiburg': 5431, 'wuerzburg': 5432, 'blutiges': 5433, 'hof': 5434, 'treue': 5435, 'verzer': 5436, 'einseitig': 5437, 'anscbaut': 5438, 'polizeiufr': 5439, 'brandstiftungen': 5440, 'pks': 5441, '55': 5442, 'liegevermerke': 5443, 'strafanzeigen': 5444, 'auftauchen': 5445, 'gelogen': 5446, 'verfaelscht': 5447, 'sla': 5448, 'verlorenes': 5449, 'traf': 5450, 'abendblatt': 5451, 'goldstueck': 5452, 'reagie': 5453, 'rabbi': 5454, '48': 5455, 'frlokal': 5456, 'gewe': 5457, 'gefaelscht': 5458, 'gue': 5459, 'weltfrieden': 5460, 'katjaberlin': 5461, 'diezeit': 5462, 'muschi': 5463, 'verwerfliches': 5464, 'emotionslos': 5465, 'verkuendet': 5466, 'mvgticker': 5467, 'taschendiebe': 5468, 'think': 5469, 'proviteure': 5470, 'ueberschrift': 5471, 'mse': 5472, 'geringe': 5473, 'fuehrerschein': 5474, 'untauglichkeit': 5475, 'lebenslaengliches': 5476, 'zwangsarbeit': 5477, 'berlinale': 5478, 'infamster': 5479, 'holocaust': 5480, 'missbraucht': 5481, 'veruntreuen': 5482, 'verpflechtung': 5483, 'anschaut': 5484, 'islamistisch': 5485, 'abzulenken': 5486, 'amused': 5487, 'schutzsuchende': 5488, 'klatscher': 5489, 'ejakulieren': 5490, 'oberbayern': 5491, 'tuev': 5492, 'sued': 5493, 'gleisanlagen': 5494, 'geschleust': 5495, 'geoeffnet': 5496, 'spaltkeil': 5497, 'seinen': 5498, 'rainer': 5499, 'geyer': 5500, 'stinkende': 5501, 'gekrochen': 5502, 'klee': 5503, 'hoerigen': 5504, 'slmoka': 5505, 'kuse': 5506, 'beiliegt': 5507, 'treuer': 5508, 'rechtschreibnazi': 5509, 'informieren': 5510, 'vollidiot': 5511, 'langweilen': 5512, 'ekeln': 5513, 'carsten': 5514, 'otten': 5515, 'treues': 5516, 'helloyara': 5517, 'stendal': 5518, 'betraf': 5519, 'dezent': 5520, 'verleugnet': 5521, 'ruecktritte': 5522, 'stillschweigen': 5523, 'strunz': 5524, 'miguel': 5525, 'alemania': 5526, 'haz': 5527, 'berichte': 5528, 'antut': 5529, 'toitschenfeindlichkeit': 5530, 'aufgreifen': 5531, 'eigentliche': 5532, 'effektivsten': 5533, 'rohstoff': 5534, 'innovation': 5535, 'erfindungsreichtum': 5536, 'klages': 5537, 'kitakriseberlin': 5538, 'bamf': 5539, 'tag24ffm': 5540, 'antrag': 5541, 'abendzeitung': 5542, 'maennern': 5543, 'alibi': 5544, 'siedlungs': 5545, 'bluehenden': 5546, 'landschaften': 5547, 'infrastruktur': 5548, 'vernachlaessigt': 5549, 'vorsah': 5550, 'umgestaltet': 5551, 'eingeleitet': 5552, 'air': 5553, 'fra': 5554, 'fremdenfeindlich': 5555, 'unerkannter': 5556, 'bzberlin': 5557, 'missfaellt': 5558, 'mobynikk': 5559, 'umweltheinis': 5560, 'wuestenstad': 5561, 'messen': 5562, 'scwachkoepfe': 5563, 'gruener': 5564, 'schwachkoepfe': 5565, 'arbeitsplaetze': 5566, 'aussprechen': 5567, 'kri': 5568, 'fri': 5569, 'tomvitzthum': 5570, 'beschliessen': 5571, 'deutchland': 5572, 'zusuchen': 5573, 'umweltdeppen': 5574, 'ruienieren': 5575, 'spee': 5576, 'unbequem': 5577, 'rantasten': 5578, 'fuersprecher': 5579, 'buessen': 5580, 'betruegerische': 5581, 'absteigen': 5582, 'abgrund': 5583, 'vmedick': 5584, 'derspiegel': 5585, 'akumemte': 5586, 'inhalt': 5587, 'brauen': 5588, 'bu': 5589, 'erlich': 5590, 'claudia': 5591, 'kade': 5592, 'bundespdraesident': 5593, 'klammern': 5594, 'dirigie': 5595, 'facbook': 5596, 'hoehle': 5597, 'stuetzt': 5598, 'absolute': 5599, 'tiefe': 5600, 'duemmlich': 5601, 'speichellecker': 5602, 'schweden': 5603, 'runtet': 5604, 'suedlaender': 5605, 'neunkrichen': 5606, 'jetzigen': 5607, 'ausrauben': 5608, 'ausschreitungen': 5609, 'geschriehen': 5610, 'bundesweit': 5611, 'meke': 5612, 'ueberlassen': 5613, 'dehnen': 5614, 'abrechnung': 5615, 'tonline': 5616, 'lindener': 5617, 'asylantenpolitik': 5618, 'weisen': 5619, 'waehren': 5620, 'zuverhindern': 5621, 'aussland': 5622, 'krimminelle': 5623, 'ausende': 5624, 'casperxofficial': 5625, 'kraftklub': 5626, 'dendemann': 5627, 'eria': 5628, 'uebergeschnappt': 5629, 'eingriegen': 5630, 'umgehend': 5631, 'nachzug': 5632, '1984reload': 5633, 'einsicht': 5634, 'niedersachsen': 5635, 'ministerpraesident': 5636, 'dercdu': 5637, 'kleben': 5638, 'narren': 5639, 'marleneschfer1': 5640, 'eingriff': 5641, 'wahlfreiheit': 5642, 'verfassungswidrig': 5643, 'rapide': 5644, 'trichophobe': 5645, 'kopfwindel': 5646, 'praegen': 5647, 'islamophobie': 5648, 'mohammedkultisten': 5649, 'trichophile': 5650, 'entblocke': 5651, 'sabinemnch1': 5652, 'umgeht': 5653, 'tauschgeschaefte': 5654, 'erdeal': 5655, 'argentinien': 5656, 'lokomotiven': 5657, 'weizen': 5658, 'versenkte': 5659, 'handelsflotte': 5660, 'ribbentrop': 5661, 'dummdreist': 5662, 'anluegst': 5663, 'henker': 5664, '10x': 5665, 'folgten': 5666, 'scheidung': 5667, 'einreicht': 5668, 'brut': 5669, 'geraldgrosz': 5670, 'kapitulie': 5671, 'grandios': 5672, 'gelungen': 5673, 'petra58249513': 5674, 'vordergrund': 5675, 'genderbeauftragende': 5676, 'weltfriedens': 5677, 'hundewelpen': 5678, 'unding': 5679, 'sachlich': 5680, 'hubaich': 5681, 'proteus93484191': 5682, 'gebuehrenzaehler': 5683, 'verbraucher': 5684, '0001f4a1': 5685, 'heikos': 5686, 'elfenbeinkuestenflagge': 5687, 'irland': 5688, 'versieht': 5689, 'warnhinweis': 5690, 'sensible': 5691, 'aussenminister': 5692, 'kompletten': 5693, 'blossstellung': 5694, 'ottoberger6': 5695, 'vollverschleie': 5696, 'zett': 5697, 'bernardina': 5698, 'aeusserster': 5699, 'disziplin': 5700, 'impulskontrolle': 5701, 'koyamamichi': 5702, 'abschliessbares': 5703, 'penisgefaengnis': 5704, 'checkst': 5705, 'wasistzeitgeist': 5706, 'syrerinvasion': 5707, 'schimpfen': 5708, 'philipp': 5709, 'julien': 5710, 'wucht': 5711, 'dahinraffen': 5712, 'rothaarige': 5713, 'blondinen': 5714, 'bruenette': 5715, 'sommersprossen': 5716, 'braune': 5717, 'neuschwanstein': 5718, 'eiffelturm': 5719, 'ben': 5720, 'oktoberfest': 5721, 'mailand': 5722, 'oper': 5723, 'porsche': 5724, 'mercedes': 5725, 'ferrari': 5726, 'bentley': 5727, 'gay': 5728, 'paraden': 5729, 'travestieshows': 5730, 'reeperbahn': 5731, 'munz': 5732, 'kerl': 5733, 'suendigen': 5734, 'suendige': 5735, 'sexobjekte': 5736, 'offenem': 5737, 'sabbernde': 5738, 'lustmolche': 5739, 'verwandeln': 5740, 'bedecken': 5741, 'anstaendige': 5742, 'schariabeflaggung': 5743, 'evilsnakedcat': 5744, 'hvdphoto': 5745, 'buerger2000': 5746, 'biomasseinduzie': 5747, 'klimaerwaermung': 5748, '70ern': 5749, 'kommende': 5750, 'eiszeit': 5751, 'gore': 5752, 'global': 5753, 'warming': 5754, 'polare': 5755, 'minus': 5756, 'sibirische': 5757, 'tichy': 5758, 'journalist': 5759, 'redaktion': 5760, 'faktenerfinder': 5761, 'erden': 5762, 'realitaeten': 5763, 'klarkommen': 5764, '2260': 5765, 'ollee3': 5766, 'ranzigeimme': 5767, 'petrbystronafd': 5768, 'abaerbock': 5769, 'seenotrettung': 5770, 'schleuserfaehrdienst': 5771, 'buergerrettung': 5772, 'inlandstote': 5773, 'schuppen': 5774, 'kunstduengers': 5775, 'existent': 5776, '0001f30d': 5777, 'gedankt': 5778, 'vorstehendem': 5779, 'neom1913': 5780, 'standardspruechlein': 5781, 'meere': 5782, 'erhitzt': 5783, 'lenken': 5784, 'polarluft': 5785, 'chicago': 5786, 'folgenbetrachtung': 5787, 'blenden': 5788, 'wohlige': 5789, 'augenblicks': 5790, 'gesinnungsethik': 5791, 'ungsethik': 5792, 'ludwig': 5793, 'romantischere': 5794, 'schloesser': 5795, 'rudi44888': 5796, 'bahnhof': 5797, 'ruckkehrer': 5798, 'toedliche': 5799, 'krankheit': 5800, 'befallen': 5801, 'tode': 5802, 'erhards': 5803, 'wachstum': 5804, '50er': 5805, 'frozzelt': 5806, 'knalltyp': 5807, 'stichwo': 5808, 'vehikel': 5809, 'abendland': 5810, 'koranschule': 5811, 'verse': 5812, 'assange': 5813, 'gewiss': 5814, 'araberclans': 5815, 'jansamis': 5816, 'unveraenderlicher': 5817, 'phaenotypischer': 5818, 'abwe': 5819, 'hineindeuteln': 5820, 'frankschramm5': 5821, 'deutschstaemmige': 5822, 'staatsangehoerigkeit': 5823, 'voelkern': 5824, 'verlegen': 5825, 'grenzzaeune': 5826, 'allmaehlich': 5827, 'gelange': 5828, 'auffassung': 5829, 'zeitraubender': 5830, 'ragene': 5831, 'aufgaben': 5832, 'zeh': 5833, 'souveraenitaetsuebe': 5834, 'ragungen': 5835, 'subsidiaritaetsprinzip': 5836, 'limitie': 5837, 'syrische': 5838, 'syrischen': 5839, 'booten': 5840, 'schengen': 5841, 'oeffnet': 5842, 'aussengrenzschutz': 5843, 'drittlaender': 5844, 'durchwinkt': 5845, 'aufgibt': 5846, 'letztlich': 5847, 'kontrapropa': 5848, 'leichte': 5849, 'gebietsreduktion': 5850, 'raeumlicher': 5851, 'geltungsbereich': 5852, 'gedoens': 5853, 'drum': 5854, 'separierenden': 5855, 'rechtsidentisch': 5856, 'bundesbuergern': 5857, 'identitaetslehre': 5858, 'rechtswissenschaft': 5859, 'staendigen': 5860, 'rechtsprechung': 5861, 'bundesverfassungsgerichts': 5862, 'bundesrepublik': 5863, 'rechtsnachfolger': 5864, 'reichs': 5865, 'identisch': 5866, 'bundesbuerger': 5867, 'schwurbeln': 5868, 'fiktion': 5869, 'fixe': 5870, 'gabalier': 5871, 'orden': 5872, 'neudeutsch': 5873, 'rinberger': 5874, 'rechtslage': 5875, 'vermoegensrecht': 5876, 'sachenrecht': 5877, 'roemische': 5878, 'praegung': 5879, 'familienrecht': 5880, 'germanische': 5881, 'abstammung': 5882, 'bodenrecht': 5883, 'schwadronie': 5884, 'russlandfeldzugs': 5885, 'alfredheger': 5886, '66k': 5887, 'trupp': 5888, 'impressions': 5889, 'monatlich': 5890, 'sapperlot': 5891, 'zutun': 5892, 'knabbe': 5893, 'buendel': 5894, 'geschieden': 5895, 'likete': 5896, 'zeigte': 5897, 'entfolgst': 5898, 'eigenmaechtig': 5899, 'gleichgewicht': 5900, 'spektrums': 5901, 'alternativlosigkeit': 5902, 'verschoben': 5903, 'afdimbundestag': 5904, 'boykottie': 5905, 'etzodernie': 5906, 'minarchist': 5907, 'reduktion': 5908, 'kernaufgaben': 5909, 'unversoehnlicher': 5910, 'heimattreue': 5911, '0001f499': 5912, '0001f308': 5913, '0001f337': 5914, '0001f33b': 5915, 'reichtagsgebaeude': 5916, 'widmung': 5917, 'auslaendern': 5918, 'japan': 5919, 'nigeria': 5920, 'uruguay': 5921, 'gesinnungsverbrechen': 5922, 'bjoern': 5923, 'staatsfeind': 5924, 'menschenwuerde': 5925, 'entgegengesetzt': 5926, 'over2019': 5927, 'kopfabschneider': 5928, 'zumal': 5929, 'bemuehten': 5930, 'wehrlos': 5931, 'altersbestellung': 5932, 'umstritten': 5933, 'volljaehrige': 5934, 'kenntnis': 5935, 'ueberwiegend': 5936, 'droehnt': 5937, 'hetzgagd': 5938, 'strassenschlaegern': 5939, 'relikt': 5940, 'einsam': 5941, 'traurige': 5942, 'massenzuwanderung': 5943, 'dieselenteignung': 5944, 'energiekosten': 5945, 'nullzins': 5946, 'altersarmut': 5947, 'ausufernder': 5948, 'drangsalie': 5949, 'bildet': 5950, 'linksblock': 5951, 'linksstaat': 5952, 'shades': 5953, 'neulinks': 5954, 'diffuslinks': 5955, 'linksliberal': 5956, 'oekolinks': 5957, 'linksradikal': 5958, 'vandalismus': 5959, 'kampftruppe': 5960, 'ells': 5961, 'interventionistischen': 5962, 'tarnnamen': 5963, 'phaenome': 5964, 'rudelvergewaltigungen': 5965, 'messermaenner': 5966, 'schwerverletzten': 5967, 'aufzaehlung': 5968, '200m': 5969, 'grauens': 5970, 'bedruckten': 5971, 'din': 5972, 'a4': 5973, 'voelkerwanderung': 5974, 'aufgelistet': 5975, 'merkelsiedlern': 5976, 'unterdurchschnittliche': 5977, 'bildungserfolge': 5978, 'ueberdurchschnittliche': 5979, 'transferleistungsbezuege': 5980, 'frauendiskriminierung': 5981, 'zwangsheirat': 5982, 'kinderehen': 5983, 'integrationsunwille': 5984, 'blank35319162': 5985, 'dreiste': 5986, 'loeschkalk': 5987, 'testosteronstrotzenden': 5988, 'grenzstuermer': 5989, 'ceuta': 5990, 'aetzendem': 5991, 'loeschkalkulation': 5992, 'hieb': 5993, 'stichwaffen': 5994, 'grenzbeamten': 5995, 'attackieren': 5996, 'verzerrend': 5997, 'grenzrecht': 5998, 'fabulieren': 5999, 'nachrangiges': 6000, 'verhaeltnismaessigkeit': 6001, 'verwaltungshandeln': 6002, 'ultima': 6003, 'ratio': 6004, 'par': 6005, 'geltendes': 6006, 'verweis': 6007, 'gesetzeslage': 6008, 'storch': 6009, 'niede': 6010, 'raechtig': 6011, 'umdeutet': 6012, 'diskurses': 6013, 'zitaten': 6014, 'maximalmoeglich': 6015, 'missverstehen': 6016, 'umdeuten': 6017, 'verzerren': 6018, 'tomkoehler252': 6019, 'nimmer': 6020, 'sexistin': 6021, 'heliphobie': 6022, 'heftig': 6023, 'aufgeschnappt': 6024, 'salzsaeure': 6025, 'geloestes': 6026, 'milliardenerbin': 6027, 'group': 6028, 'maennerfeindlicher': 6029, 'diversfeindlich': 6030, 'antisemitisch': 6031, 'prophetenbeleidigung': 6032, 'gratismut': 6033, 'kollektivismus': 6034, 'umma': 6035, 'rechtsextremen': 6036, 'verdiente': 6037, 'festangestellte': 6038, 'haushaltshilfe': 6039, 'unternehmerhaushalt': 6040, 'iannis': 6041, 'detlefalsbach1': 6042, 'lillycat15': 6043, 'grausamkeit': 6044, 'maennergrippe': 6045, 'erahnen': 6046, 'spassen': 6047, 'genderleugnern': 6048, 'weihungen': 6049, 'getrennt': 6050, 'revision': 6051, 'handerwerkszeug': 6052, 'aufrichtiger': 6053, 'volljaehrigem': 6054, 'stockkatholisch': 6055, 'kennenlernte': 6056, 'unmoralischen': 6057, 'beduinen': 6058, 'durchschnittsdeutschen': 6059, 'spinnereien': 6060, 'tugendstolzen': 6061, 'inbruenstig': 6062, 'gebruellt': 6063, 'systemherde': 6064, 'unistisch': 6065, 'unveraende': 6066, 'eingebauter': 6067, 'selbstschutz': 6068, 'gottes': 6069, 'filmt': 6070, 'steinigung': 6071, 'sma': 6072, 'unabaenderliche': 6073, 'phaenotypische': 6074, 'anknuepft': 6075, 'arabern': 6076, 'afrikanern': 6077, 'birds': 6078, 'feather': 6079, 'together': 6080, 'kreisen': 6081, 'eingebracht': 6082, 'kz': 6083, 'polpotkillingfields': 6084, 'fbi': 6085, 'spezies': 6086, 'aeussere': 6087, 'suedafrika': 6088, 'farmermorde': 6089, 'genozidaufrufen': 6090, 'antiweisser': 6091, 'leugnung': 6092, 'angeborenem': 6093, 'phaenotyp': 6094, 'islamstaaten': 6095, 'verfasst': 6096, 'religionsfreiheit': 6097, 'sexuell': 6098, 'abweichende': 6099, 'juengste': 6100, 'libanon': 6101, 'umwaelzung': 6102, 'positives': 6103, 'wirbeln': 6104, 'durcheinander': 6105, 'bewunde': 6106, 'germanischen': 6107, 'kriegerischen': 6108, 'welteroberern': 6109, 'verlieben': 6110, 'intim': 6111, 'pierre': 6112, 'trauerzuegen': 6113, 'schwerster': 6114, 'kapitaler': 6115, 'migrantenkriminalitaet': 6116, 'rechtsextreme': 6117, 'offizielle': 6118, 'eihaltung': 6119, 'fuendig': 6120, 'brasilianerin': 6121, 'dunklem': 6122, 'teint': 6123, 'krausen': 6124, 'liie': 6125, 'paraderassist': 6126, 'unmenschlichen': 6127, 'islampraxis': 6128, 'hellste': 6129, 'kerze': 6130, 'veritable': 6131, 'vollmeise': 6132, 'enklave': 6133, 'inmitten': 6134, 'archaischer': 6135, 'islamdiktaturen': 6136, 'eidigungsrecht': 6137, 'subventionierung': 6138, 'doppelmoral': 6139, 'saekular': 6140, 'verfassten': 6141, 'apologeten': 6142, 'betaetigen': 6143, 'aufgeknuepften': 6144, 'homosexuellen': 6145, 'tolerante': 6146, 'kuffar': 6147, 'schaetzt': 6148, 'rechtlich': 6149, 'gleichstellt': 6150, 'orientierung': 6151, 'privatsache': 6152, 'kinderbraeute': 6153, 'verbietet': 6154, 'gewaltfreie': 6155, 'auffaellt': 6156, 'flosafraca': 6157, 'schaechtung': 6158, 'koenigsfamilie': 6159, 'rollenmodell': 6160, 'perfekte': 6161, 'feudalsystem': 6162, 'volkswiderstand': 6163, 'massiv': 6164, 'stil': 6165, 'senkung': 6166, 'sonmist7': 6167, 'joachimfriede4': 6168, 'ironisch': 6169, 'ron1872': 6170, 'europaeischer': 6171, 'cousinen': 6172, 'heirat': 6173, 'grades': 6174, 'herzlichen': 6175, 'grafik': 6176, 'salomontannhau1': 6177, 'milvus84': 6178, 'erdkundebuch': 6179, 'gymnasium': 6180, '80er': 6181, 'chrisjuko': 6182, 'desoxyribonukleinsaeure': 6183, 'lysergsaeurediethylamid': 6184, 'wigkummerle': 6185, 'materie': 6186, 'barbara25411': 6187, 'statistische': 6188, 'physikprofessor': 6189, 'neil': 6190, 'degrasse': 6191, 'tyson': 6192, 'mangels': 6193, 'rohstoffen': 6194, 'moeglichkeiten': 6195, 'intelligenzproblem': 6196, 'feststellt': 6197, 'kluegsten': 6198, 'schnitt': 6199, 'normalintelligenz': 6200, 'schlusslicht': 6201, 'vero': 6202, 'genforscher': 6203, 'rang': 6204, 'seltener': 6205, 'einzelgenies': 6206, 'archimedes': 6207, 'dummdreister': 6208, 'linkoider': 6209, 'meute': 6210, 'ehren': 6211, 'feststellung': 6212, 'genetisch': 6213, 'durchschnittlich': 6214, 'tamara': 6215, 'schweizerin': 6216, 'hannovers': 6217, 'gendergaga': 6218, 'schippe': 6219, 'satirisch': 6220, 'twitty80905251': 6221, 'schwappt': 6222, 'schnellsten': 6223, 'gewachsene': 6224, 'bedrohte': 6225, 'minderheitenschutz': 6226, 'poc': 6227, '0001f632': 6228, 'hitlerschen': 6229, 'merkelsche': 6230, 'nationalmasochismus': 6231, 'mitteleuropas': 6232, '0001f98a': 6233, 'huehnerstall': 6234, '0001f423': 6235, '0001f425': 6236, 'sozialisten': 6237, 'verbund': 6238, 'schirmherrschaft': 6239, 'freiheitlichen': 6240, 'saekularen': 6241, 'tribalismus': 6242, 'religionseifers': 6243, 'pot': 6244, 'ausliefern': 6245, 'versorgungszentrum': 6246, 'paritaetisch': 6247, 'genossenschaft': 6248, 'gesetzgeber': 6249, 'kompetenz': 6250, 'wuenschenswe': 6251, 'libtards': 6252, 'durchgeknallten': 6253, 'borders': 6254, 'nations': 6255, 'idiotie': 6256, 'wohligen': 6257, 'geborgenheit': 6258, 'oase': 6259, 'grausamen': 6260, 'verquietsche': 6261, 'floetenkonze': 6262, 'klamme': 6263, 'resterampe': 6264, 'zerbroeckelnder': 6265, 'machtbasis': 6266, 'verpennt': 6267, 'wahlsonntag': 6268, 'wuestenkult': 6269, 'ethnischer': 6270, 'verratene': 6271, 'kehren': 6272, 'riege': 6273, 'trauerzug': 6274, 'geschaendetes': 6275, 'ermordetes': 6276, 'mietmaul': 6277, 'hetzjagd': 6278, 'award': 6279, 'rotgruene': 6280, 'naive': 6281, 'tilgung': 6282, 'genpool': 6283, 'formelhaft': 6284, 'leichenberg': 6285, 'waechst': 6286, 'nolinke': 6287, 'geschworen': 6288, 'schwur': 6289, 'melkkuehe': 6290, 'strammer': 6291, 'herangezogen': 6292, 'eidesformel': 6293, 'ueberarbeiten': 6294, 'synchronisieren': 6295, 'tele5': 6296, 'massenpanik': 6297, 'jvermessen': 6298, 'berlinulla': 6299, 'maennerhaushalt': 6300, 'wings': 6301, 'backofen': 6302, '0001f357': 6303, 'kauen': 6304, 'voegel': 6305, '0001f52a': 6306, '0001f37d': 6307, 'rosa': 6308, 'haeschenohren': 6309, '0001f430': 6310, 'aufopfernd': 6311, 'guilt': 6312, 'anarchie': 6313, 'fraktion': 6314, 'bleifuss': 6315, 'buergerrechte': 6316, 'frauenwahlrechts': 6317, 'fesche': 6318, 'eroberer': 6319, 'frauenherzen': 6320, 'trendy': 6321, 'chen': 6322, 'reichskanzler': 6323, 'monamar23815769': 6324, 'drastische': 6325, 'gegenbezeichnungen': 6326, 'unverschaemtheiten': 6327, 'verfassungstreuen': 6328, 'freibuergern': 6329, 'nospd': 6330, 'nogruene': 6331, 'nocommies': 6332, 'polpotkillingfieldsmetzger': 6333, 'gulagschergen': 6334, 'stasifolterknechte': 6335, 'meldemuschis': 6336, 'radikalkommunisten': 6337, 'hydra': 6338, 'schlage': 6339, 'schoeneres': 6340, 'mehmascholl': 6341, 'kaese': 6342, 'angeknabbe': 6343, 'holger56228648': 6344, 'moerderfratzen': 6345, 'journalistendarsteller': 6346, 'gegengesellschaft': 6347, 'mohammedkultes': 6348, 'propagieren': 6349, 'serienkiller': 6350, 'folterkeller': 6351, 'aufgewachtewelt': 6352, 'hinterm': 6353, 'gelandet': 6354, 'beeindruckende': 6355, 'gegende': 6356, 'unisextoiletten': 6357, '0001f61c': 6358, 'mondes': 6359, 'vollalimentierung': 6360, 'vernichtung': 6361, 'energiewi': 6362, 'demontage': 6363, 'gendergerechtigkeit': 6364, 'betonschwein': 6365, 'unkorrektes': 6366, 'dazwischengeschmuggelt': 6367, '0001f92b': 6368, 'breite': 6369, 'einzufangen': 6370, 'biologisch': 6371, 'saeugetiere': 6372, 'kognitiven': 6373, 'faehigkeiten': 6374, 'befaehigen': 6375, 'umgestaltung': 6376, 'lebenswelt': 6377, 'weitergabe': 6378, 'gemeinsamer': 6379, 'abstraktion': 6380, 'mathematischen': 6381, 'formalsprache': 6382, 'trennt': 6383, 'fckcdu': 6384, 'cduverhindern': 6385, 'ausgleich': 6386, 'gebettelt': 6387, 'laenderspiel': 6388, 'fckdlf': 6389, 'fcksky': 6390, 'baeckerlehre': 6391, 'lehrlingsgehalt': 6392, '00h': 6393, 'gesetzlicher': 6394, 'niedrigen': 6395, 'mieten': 6396, 'billigsten': 6397, 'anbieter': 6398, 'verschenkt': 6399, 'aufsteigen': 6400, 'woellte': 6401, 'grummeln': 6402, 'werbebande': 6403, 'ftw': 6404, 'huch': 6405, 'bebelplatz': 6406, 'staatsoper': 6407, 'baustellenzeugs': 6408, 'yesss': 6409, 'aufstampf': 6410, 'bvg': 6411, '200er': 6412, 'stationen': 6413, 'endhaltestelle': 6414, 'englischen': 6415, 'kommentator': 6416, 'auswechseln': 6417, 'naziaufmarsch': 6418, 'aufstand': 6419, 'bemueht': 6420, 'kontinuitaet': 6421, 'verwunderlich': 6422, 'betrete': 6423, 'dfbpokalistunsscheissegal': 6424, 'kkbeutekunst': 6425, 'ebay': 6426, 'kleinanzeigen': 6427, 'dickichten': 6428, 'enlaube': 6429, 'obersten': 6430, 'altbau': 6431, 'hinterhaus': 6432, 'issso': 6433, 'twitterlisten': 6434, 'bearbeiten': 6435, 'ansagen': 6436, 'verwaltung': 6437, 'anbietet': 6438, 'twitteraccount': 6439, 'aufraeumen': 6440, 'reaktivieren': 6441, 'rausgeschmissen': 6442, 'kollateralschaeden': 6443, 'spielzerstoerung': 6444, 'magdeburg': 6445, 'standardsituation': 6446, 'geschieteuchrecht': 6447, 'schieber': 6448, 'uups': 6449, 'trainerbank': 6450, 'oliv': 6451, 'traeume': 6452, 'ringe': 6453, 'geisterarmee': 6454, 'afdwegfegen': 6455, 'rage': 6456, 'stopptdenhass': 6457, 'grachmusikoff': 6458, 'schwoissfuass': 6459, 'frie': 6460, 'neid': 6461, 'wettruesten': 6462, '80igern': 6463, 'neudecker': 6464, 'diamantakos': 6465, 'stolpern': 6466, 'parks': 6467, 'traumflanken': 6468, 'hattrick': 6469, 'slowtrirun': 6470, 'cheating': 6471, 'totes': 6472, 'pferd': 6473, 'reiten': 6474, 'soooooo': 6475, 'soooo': 6476, 'kotz': 6477, 'bfe': 6478, 'einheiten': 6479, 'individuelle': 6480, 'kennzeichnung': 6481, 'b1702': 6482, 'servicetweet': 6483, 'saudaemliche': 6484, 'abwehr': 6485, 'flanken': 6486, 'kopfbaelle': 6487, 'ooch': 6488, 'bouhaddouz': 6489, 'hrhrhr': 6490, 'giggel': 6491, 'ahnte': 6492, 'tuffig': 6493, 'operie': 6494, 'wiener': 6495, 'italienische': 6496, 'staatsanwalt': 6497, 'lka': 6498, 'odenthal': 6499, 'kopper': 6500, 'zaeh': 6501, 'urban': 6502, 'priol': 6503, 'zuvielrealitaet': 6504, 'spannend': 6505, 'streamprobleme': 6506, 'afmradio': 6507, 'sobiech': 6508, 'kackte': 6509, 'afm': 6510, 'stream': 6511, 'callmeuschi': 6512, 'geahnt': 6513, 'torjubel': 6514, 'wiederanpfiff': 6515, 'schiri': 6516, 'depp': 6517, 'talsohle': 6518, 'unentschieden': 6519, 'yeah': 6520, 'situativ': 6521, 'ueberlaedt': 6522, 'verdientes': 6523, 'remis': 6524, 'spiels': 6525, 'regensburg': 6526, 'gephotoshopped': 6527, '1e9e': 6528, 'graetsche': 6529, 'einsdroelf': 6530, 'jens1893': 6531, 'gegebenem': 6532, 'bazitrachten': 6533, 'cannstatt': 6534, 'aux': 6535, 'halbzeit': 6536, 'gebucht': 6537, 'bwler': 6538, 'besseren': 6539, 'ingolstaedter': 6540, 'trikots': 6541, 'vorgeschmutzt': 6542, 'fcspfci': 6543, 'lullen': 6544, 'flumi': 6545, 'adrenalinspritze': 6546, 'verhoek': 6547, '0001f615': 6548, 'konzentrieren': 6549, 'trikot': 6550, 'aufgespa': 6551, 'funke': 6552, 'stuemmt': 6553, 'zahnpasta': 6554, 'heuteplus': 6555, 'polizeigewerkschafter': 6556, 'polizeitaktik': 6557, 'quasselt': 6558, 'empirisch': 6559, 'carsharing': 6560, 'nutzer': 6561, 'pygmaeen': 6562, 'wgt': 6563, 'zeitraum': 6564, 'wgts': 6565, 'wschingnitz': 6566, 'jirky': 6567, 'eyes': 6568, 'sintaura': 6569, 'theo': 6570, 'dfl': 6571, 'funktionaeren': 6572, 'ordner': 6573, 'm60ssv': 6574, 'fckdfb': 6575, 'gratuliere': 6576, 'vfl': 6577, 'wolfsburg': 6578, 'gewinn': 6579, 'doubles': 6580, 'derbysieger': 6581, 'polyamorie': 6582, 'froagst': 6583, 'katie': 6584, 'woias': 6585, 'host': 6586, 'hihihihi': 6587, 'ohje': 6588, 'kopfschuettel': 6589, 'halbserie': 6590, 'magischer': 6591, 'fc': 6592, 'kurve': 6593, 'unabsteigbar': 6594, 'hinrunde': 6595, 'klatschpappenliga': 6596, 'glamour': 6597, 'gala': 6598, 'glitzer': 6599, 'mittellinie': 6600, 'faustet': 6601, 'preisboxer': 6602, 'vflfcsp': 6603, 'kuer': 6604, 'askowronek': 6605, 'angewoehnen': 6606, 'schee': 6607, 'net': 6608, 'selte': 6609, 'winkel': 6610, 'erdolchen': 6611, 'hipsterdutt': 6612, 'besche': 6613, 'kaiserslautern': 6614, 'rechnerisch': 6615, 'abgefahren': 6616, 'ick': 6617, 'ae': 6618, 'aziz': 6619, 'sensationell': 6620, 'enge': 6621, 'kiste': 6622, 'bildgewaltig': 6623, 'gefuehlten': 6624, 'saisons': 6625, 'ssieg': 6626, 'nachspielen': 6627, 'versaut': 6628, 'gefrustet': 6629, 'nachspielzeit': 6630, 'sahin': 6631, 'eiskalte': 6632, 'amuesant': 6633, 'istbraunweiss': 6634, 'pietaet': 6635, 'auszustrahlen': 6636, 'lupo': 6637, 'schlechteste': 6638, 'nullzeit': 6639, 'eckballtor': 6640, 'beruhigt': 6641, 'gentner': 6642, 'gefuehlt': 6643, 'praesident': 6644, 'schinkenkrakauer': 6645, 'einwerfen': 6646, 'mandymatz': 6647, 'zeckenwombat': 6648, 'quatschkopf': 6649, 'gestraft': 6650, 'monitor': 6651, '80ger': 6652, 'verschossenen': 6653, 'meisterschaft': 6654, 'nuetzt': 6655, 'fehlentscheidung': 6656, 'handspiel': 6657, 'abstoss': 6658, 'heidenheim': 6659, 'abstiegskampf': 6660, 'duesseldorfer': 6661, 'schauspiele': 6662, 'ruppe': 6663, 'pappbecher': 6664, 'weed': 6665, 'draufsteht': 6666, 'scheissangst': 6667, 'uswahl16': 6668, 'drummer': 6669, 'rb24': 6670, 'eberswalde': 6671, 'halb': 6672, 'bahnsteig': 6673, 'herzliche': 6674, 'gelacht': 6675, 'witterungsbedingte': 6676, 'stoerungen': 6677, 'pendlerschicksal': 6678, 'spieler': 6679, 'sepsis': 6680, 'oerks': 6681, 'ticker': 6682, 'puzzlestuecke': 6683, 'verkleiden': 6684, 'klingeln': 6685, 'suesses': 6686, 'saures': 6687, 'skandieren': 6688, 'suessesimhaus': 6689, 'seb': 6690, 'baehr': 6691, 'klassenbewusstsein': 6692, 'verhaeltnissen': 6693, 'are': 6694, 'bastards': 6695, 'acab': 6696, 'klassengesellschaft': 6697, 'volkstuemelei': 6698, 'antikapitalismus': 6699, 'afdkehl': 6700, 'menschenfeinde': 6701, 'pgeigerzaehler': 6702, 'formelfriedrich': 6703, 'friedenswatch': 6704, 'aufgenommen': 6705, 'mehrerer': 6706, 'si': 6707, 'outing': 6708, 'einzunehmen': 6709, 'streikenden': 6710, 'streik': 6711, 'bestehenden': 6712, 'findest': 6713, 'rebellwiesbaden': 6714, 'gruppierung': 6715, 'franzoesischen': 6716, 'allgemein': 6717, 'massive': 6718, 'rbbinforadio': 6719, 'gentrifizierung': 6720, 'meisterecki': 6721, 'existensrecht': 6722, 'abstreiten': 6723, 'nationalismen': 6724, 'doppelten': 6725, 'antikapitalistisch': 6726, 'rafberlin': 6727, 'jacke': 6728, 'ruppi': 6729, 'struppi': 6730, 'rbb24': 6731, 'bezirk': 6732, 'friedrichshain': 6733, 'einzelheiten': 6734, 'kinderlebenfrei': 6735, 'wolken': 6736, 'weiterziehen': 6737, 'soziologische': 6738, 'eindeutige': 6739, 'abzuschieben': 6740, 'anzutreffen': 6741, 'schlimmen': 6742, 'nestbeschmutzung': 6743, 'antirassistischer': 6744, 'feststelle': 6745, 'nerin': 6746, 'behandeln': 6747, 'nuetzlichkeit': 6748, 'tiefst': 6749, 'plakate': 6750, 'faschistoiden': 6751, 'svp': 6752, 'fpoe': 6753, 'anderer': 6754, 'speist': 6755, 'weltkriege': 6756, 'ergo': 6757, 'leckt': 6758, 'karpfenratten': 6759, 'schmakifatz': 6760, 'radikalelinkeb': 6761, 'm84013857': 6762, 'personifizierung': 6763, 'normalzustands': 6764, 'jeanneraffut': 6765, 'kattascha': 6766, 'verschwoehrungsottos': 6767, 'fahne': 6768, 'gefluechteten': 6769, 'amis': 6770, 'blabla': 6771, 'aufn': 6772, 'diskursbereit': 6773, 'welten': 6774, 'setze': 6775, 'emanzipation': 6776, 'ignoriere': 6777, 'arbeitsfetisch': 6778, 'produktion': 6779, 'vergeuden': 6780, 'proletarischen': 6781, 'radikalem': 6782, 'sozialdemokratischen': 6783, 'calvinistischen': 6784, 'diene': 6785, 'imaginie': 6786, 'jemandem': 6787, 'wunschvorstellungen': 6788, 'personifizie': 6789, 'schwache': 6790, 'sonjaablinger': 6791, 'conligit': 6792, 'generieren': 6793, 'humankapital': 6794, 'prokrastination': 6795, 'schulzeiten': 6796, 'berufs': 6797, 'privatleben': 6798, 'ableistisch': 6799, 'schadet': 6800, 'volkskoerper': 6801, 'kropotkin': 6802, 'umdreht': 6803, 'veraechtliches': 6804, 'faulheit': 6805, 'provokation': 6806, 'hing': 6807, 'buero': 6808, 'beisetzung': 6809, 'leistungsprinziep': 6810, 'aufzugehen': 6811, 'samelou': 6812, 'menschenfeinden': 6813, 'folgst': 6814, 'diskursbereitschaft': 6815, 'steile': 6816, 'toedlicher': 6817, 'kritischer': 6818, 'skeptisch': 6819, 'ablehnende': 6820, 'gewaltfrei': 6821, 'eingestochen': 6822, 'eidige': 6823, 'ihnen': 6824, 'gewaltphantasien': 6825, 'interpretieren': 6826, 'schicke': 6827, 'nachweislich': 6828, 'mollys': 6829, 'ermordete': 6830, 'menschenfeindlichen': 6831, 'passten': 6832, 'brennendes': 6833, 'fliegender': 6834, 'stein': 6835, 'hochgeruestete': 6836, 'staatsmacht': 6837, 'verglichen': 6838, 'pluende': 6839, 'laeden': 6840, 'durchsetzung': 6841, 'parlamentarischen': 6842, 'verschrieben': 6843, 'demokrat': 6844, 'wichig': 6845, 'verkommen': 6846, 'erinnere': 6847, 'armee': 6848, 'alliie': 6849, 'speziellen': 6850, 'zwingendes': 6851, 'erpresst': 6852, 'vag': 6853, 'reproduziere': 6854, 'kritisches': 6855, 'geschaerft': 6856, 'philipplicke': 6857, 'personalisieren': 6858, 'systematiken': 6859, 'erweckt': 6860, 'fatalen': 6861, 'polizeieinsaetze': 6862, 'kettenhunde': 6863, 'kapitals': 6864, 'unpolitisch': 6865, 'nationale': 6866, 'capitale': 6867, 'gewalttaetigkeiten': 6868, 'geisel': 6869, 'sauerei': 6870, 'anwesenheit': 6871, 'rechstaatliches': 6872, 'eidiger': 6873, 'durchsuchung': 6874, 'anwalt': 6875, 'staendige': 6876, 'moralisieren': 6877, 'willens': 6878, 'aender': 6879, 'koepfen': 6880, 'zhangdanhong': 6881, 'logistik': 6882, 'verkommt': 6883, 'widersprochen': 6884, 'angenommen': 6885, 'rchiflada': 6886, 'sis': 6887, 'teract': 6888, 'dlfkultur': 6889, 'denis': 6890, 'moritz': 6891, 'harald': 6892, 'georgii': 6893, 'teure': 6894, 'kieze': 6895, 'grundbeduerfnis': 6896, 'gjdueren': 6897, 'bah': 6898, 'koch': 6899, 'milchreis': 6900, 'sabinenuss': 6901, 'ndaktuell': 6902, 'sueddeutschland': 6903, 'susannewiest': 6904, 'grazynagintner': 6905, 'grundsicherung': 6906, 'gaengelung': 6907, 'jeweiligen': 6908, 'christlichen': 6909, 'gesetzlichen': 6910, 'urlaubsanspruch': 6911, 'addieren': 6912, 'gewuenscht': 6913, 'zusaetzlich': 6914, '1mai': 6915, 'maerz': 6916, 'neponip': 6917, 'pinky': 6918, 'pcww': 6919, 'fleischbruehe': 6920, 'iceapen': 6921, 'brainvisualizer': 6922, 'abkommandie': 6923, 'gedenkdemo': 6924, 'klare': 6925, 'scheiwerbung': 6926, 'micheloutlaw96': 6927, 'militanz': 6928, 'ansprichst': 6929, 'gedenken': 6930, 'joachimrock': 6931, 'paritaet': 6932, 'maxirente': 6933, 'beitraege': 6934, 'privatversicherungen': 6935, 'maxi': 6936, 'mindest': 6937, '65': 6938, 'religiositaet': 6939, 'glaubensaussagen': 6940, 'konzepte': 6941, 'institutionen': 6942, 'erscheinungsformen': 6943, 'rational': 6944, 'beziehungsweise': 6945, 'ethisch': 6946, 'kathari30070537': 6947, 'derfreitag': 6948, 'kontrast': 6949, 'selbstzweck': 6950, 'solides': 6951, 'entferntesten': 6952, 'verbalen': 6953, 'materiellen': 6954, 'toetetet': 6955, 'original': 6956, 'baerbelkofler': 6957, 'eindeutiges': 6958, 'antirassistisched': 6959, 'm4rcus': 6960, 'durchblick': 6961, 'nasir': 6962, 'ahmad': 6963, 'klassisch': 6964, 'hamidilaila1': 6965, 'konkretmagazin': 6966, 'ausgabe': 6967, 'verdi': 6968, 'annalist': 6969, 'lohnarbeit': 6970, 'ta': 6971, 'ideologiekritik': 6972, 'vorwand': 6973, 'keinster': 6974, 'definitionen': 6975, 'standa': 6976, 'materiel': 6977, 'schlauer': 6978, 'diepa': 6979, 'eiberlin': 6980, 'bvvxhain': 6981, 'sarahbosetti': 6982, 'frauenmarsch': 6983, 'antirassistisch': 6984, 'starzmann': 6985, 'zehlendorf': 6986, 'schlachtensee': 6987, 'graffiti': 6988, 'he': 6989, 'habsc': 6990, 'flaggen': 6991, 'gesprueht': 6992, 'vieleicht': 6993, 'dankeantifa': 6994, 'reticularis': 6995, 'erikmarquardt': 6996, 'dosenpfand': 6997, 'aufhaengen': 6998, 'linksradikalen': 6999, 'malcolmmusic': 7000, 'ndm': 7001, 'petadeutschland': 7002, 'stoppt': 7003, 'waffenexpo': 7004, 'diese': 7005, 'rambazamba161': 7006, 'waffe': 7007, 'offelcore': 7008, 'wewatzen': 7009, 'dankbarkeit': 7010, '90iger': 7011, 'nationalistischen': 7012, 'rassistischen': 7013, 'konsens': 7014, 'bedchissene': 7015, 'gammeln': 7016, 'figger': 7017, 'genuegsamkeit': 7018, 'hintergedanken': 7019, 'bibelvers': 7020, 'geplantes': 7021, 'schauspiel': 7022, 'vergleichit': 7023, 'vers': 7024, 'hochzeit': 7025, 'aufzuruecken': 7026, 'niederen': 7027, 'tischende': 7028, 'entgangen': 7029, 'aufgerueckt': 7030, 'gluecklicher': 7031, 'hurentisch': 7032, 'eineinhalb': 7033, 'ladenschluss': 7034, 'caipirinas': 7035, 'toffifee': 7036, 'symmetrisch': 7037, 'halbes': 7038, 'tuete': 7039, 'schimmel': 7040, 'spuehl': 7041, 'pc': 7042, 'letztens': 7043, 'menschenschwanz': 7044, 'huehnerkloake': 7045, 'dreckshaufen': 7046, 'cock': 7047, 'kloake': 7048, 'osmo': 7049, 'spast': 7050, 'verlaenge': 7051, 'mitleid': 7052, 'bauerncocks': 7053, 'see': 7054, 'did': 7055, 'there': 7056, 'alda': 7057, 'had': 7058, 'jabanische': 7059, 'bad': 7060, 'kinkaku': 7061, 'ji': 7062, 'nachempfunden': 7063, 'schmerztablette': 7064, 'op': 7065, 'merk': 7066, 'synchro': 7067, 'restlichen': 7068, 'saetze': 7069, 'statisten': 7070, 'kataras': 7071, 'tophs': 7072, 'zuko': 7073, 'narbe': 7074, 'auchnoch': 7075, 'lieh': 7076, 'norwegische': 7077, 'nationalhymne': 7078, 'staatsbuergerschaft': 7079, 'anzuendet': 7080, 'weggesprengt': 7081, 'gild': 7082, 'feuerwerke': 7083, 'duerft': 7084, 'mitternacht': 7085, 'gecalled': 7086, 'nciht': 7087, 'kursleiter': 7088, 'anzumelden': 7089, 'anmeldezeit': 7090, 'topi': 7091, 'hauptsaechlich': 7092, 'waerend': 7093, 'achselhaare': 7094, 'werded': 7095, 'kissen': 7096, 'unters': 7097, 'becken': 7098, 'wirbelsaeule': 7099, 'bloggen': 7100, 'abverlangen': 7101, 'brich': 7102, 'mannessystem': 7103, 'bekackte': 7104, 'durchkauen': 7105, 'anhaengergruppe': 7106, 'pustekuchen': 7107, 'interessenfeldes': 7108, 'diskreditieren': 7109, 'umbedingt': 7110, 'offene': 7111, 'konkubinator': 7112, 'schlafrythmus': 7113, 'sodbrennen': 7114, 'rechtliche': 7115, 'selbstjustiz': 7116, 'opposition': 7117, 'beschuldigst': 7118, 'straftaten': 7119, 'indenen': 7120, 'todeswuensche': 7121, 'ausspricht': 7122, 'streamt': 7123, 'tweetet': 7124, 'blogt': 7125, 'passagen': 7126, 'niiiicht': 7127, 'autopsy': 7128, 'life': 7129, 'death': 7130, 'cells': 7131, 'informations': 7132, 'regale': 7133, 'gasleitung': 7134, 'getroffen': 7135, 'explodier': 7136, 'heut': 7137, 'roadtrip': 7138, 'hinweisen': 7139, 'fachbegriff': 7140, 'fehlhaltung': 7141, 'lumbar': 7142, 'lordosis': 7143, 'beweisfuehrung': 7144, 'benennung': 7145, 'zustaendig': 7146, 'mental': 7147, 'breakdown': 7148, 'platzen': 7149, 'taggeckos': 7150, 'gehoeren': 7151, 'erlaubten': 7152, 'raptilien': 7153, 'fruchtboi': 7154, 'mitnehmen': 7155, 'jaaa': 7156, 'eingeschlafen': 7157, 'hellwach': 7158, 'pease': 7159, 'hoppla': 7160, 'nordlichter': 7161, 'immerdunklen': 7162, 'geschlossene': 7163, 'schneedecken': 7164, 'endlosen': 7165, 'waeldern': 7166, 'glasklare': 7167, 'fluesse': 7168, 'eiserne': 7169, 'taeler': 7170, 'grauer': 7171, 'pissehimmel': 7172, 'beficktem': 7173, 'fussweg': 7174, 'dreger': 7175, 'febasst': 7176, 'sueskram': 7177, 'nichmehr': 7178, 'meins': 7179, 'funkekubus': 7180, 'tandreallzeit': 7181, 'sven': 7182, 'xpandorya': 7183, 'klugscheisser': 7184, 'verbesse': 7185, 'klugscheisse': 7186, 'abracz': 7187, 'hinposition': 7188, 'gegenposition': 7189, 'problemes': 7190, 'modernsten': 7191, 'schleude': 7192, 'rauma': 7193, 'anfahren': 7194, 'vollpreis': 7195, 'immernoch': 7196, 'wat': 7197, 'joooooooooooooooo': 7198, 'witcher': 7199, 'sechs': 7200, 'halber': 7201, 'nachbearbeitung': 7202, 'anlaufen': 7203, 'praemisse': 7204, 'anmalt': 7205, 'absaegt': 7206, 'shego': 7207, 'energiebaendigerin': 7208, 'umprofesionehl': 7209, '3d': 7210, 'action': 7211, 'holst': 7212, 'ichs': 7213, 'gehofft': 7214, 'gebrochenen': 7215, 'selbstbeherrschung': 7216, 'erkaeltet': 7217, 'unterhaltung': 7218, 'gespielt': 7219, 'genauestens': 7220, 'kuerbissuppe': 7221, 'omas': 7222, 'gegrillten': 7223, 'croutons': 7224, 'unbestreitbar': 7225, 'cptmeddl': 7226, 'integritaet': 7227, 'schanzendaches': 7228, 'wingl': 7229, 'beruehren': 7230, 'verstaerkt': 7231, 'drachen': 7232, 'erfassen': 7233, 'balken': 7234, 'setzten': 7235, 'coolsten': 7236, 'boesewichte': 7237, 'geige': 7238, 'insignien': 7239, 'coolste': 7240, 'feature': 7241, 'setzung': 7242, 'janwastakenbtw': 7243, 'isow': 7244, 'trace': 7245, 'meta': 7246, 'vollstaendiges': 7247, 'todesu': 7248, 'darstellt': 7249, 'skill': 7250, 'lernkurve': 7251, 'kanns': 7252, 'pokemon': 7253, 'balanced': 7254, 'fps': 7255, 'ladezeiten': 7256, 'jeglichen': 7257, 'bildschirmen': 7258, 'laed': 7259, 'sekunde': 7260, 'spielbar': 7261, 'zimmer': 7262, 'gepisst': 7263, 'hurensohn': 7264, 'haarloser': 7265, 'putzischen': 7266, 'sussi': 7267, 'daaaaaaaaaaaa': 7268, 'skrawu': 7269, 'offenen': 7270, 'kabel': 7271, 'steckdose': 7272, 'verdammde': 7273, 'asiaddn': 7274, 'leckeres': 7275, 'nudeln': 7276, 'bereuen': 7277, 'nei': 7278, 'schuere': 7279, 'garnichts': 7280, 'bereu': 7281, 'domblebizeps': 7282, 'sieh': 7283, 'frustfresser': 7284, 'passive': 7285, 'vollem': 7286, 'maestet': 7287, 'beendende': 7288, 'strick': 7289, 'wissenschaftlichkeit': 7290, 'much': 7291, 'taetigkeitsbereiche': 7292, 'beleglose': 7293, 'liblingsargumente': 7294, 'drinne': 7295, 'neurobiologen': 7296, 'herausgefunden': 7297, 'medizinerin': 7298, 'langer': 7299, 'abschnitt': 7300, 'besagter': 7301, 'rausgepickte': 7302, 'seitigen': 7303, 'textanalyse': 7304, 'eingegenagen': 7305, 'textpassagen': 7306, 'interpraetierbaren': 7307, 'hinzuwerfen': 7308, 'anerkennst': 7309, 'faktoren': 7310, 'leugnet': 7311, 'bare': 7312, 'falsches': 7313, 'eidigst': 7314, 'hese': 7315, 'linguistik': 7316, 'begruendern': 7317, 'grundthesen': 7318, 'mitursache': 7319, 'anerkannt': 7320, 'ausweichst': 7321, 'grundfaktoren': 7322, 'beruecksichtigt': 7323, 'ausgefueh': 7324, 'leittextes': 7325, 'renomie': 7326, 'entsprechend': 7327, 'neutraler': 7328, 'zweig': 7329, 'einfluss': 7330, 'forschun': 7331, 'verkorksten': 7332, 'erwaehnst': 7333, 'strohmannes': 7334, 'beschuldigen': 7335, 'zurueckgehalten': 7336, 'teildebatte': 7337, 'auswirkung': 7338, 'geschlechterrollen': 7339, 'rhetorischen': 7340, 'fachsprachlichen': 7341, 'schlagfe': 7342, 'leserlichen': 7343, 'verfassen': 7344, 'twitterdebatten': 7345, 'hoeheres': 7346, 'zugegeben': 7347, 'wahrscheinliche': 7348, 'vereinzelter': 7349, 'sachlicher': 7350, 'groesstenteils': 7351, 'gestrige': 7352, 'auseinanderfassung': 7353, 'leitsteintext': 7354, 'gunda': 7355, 'instituts': 7356, 'geschlechterdemokratie': 7357, 'fehlerhaften': 7358, 'grundsteine': 7359, 'zweiges': 7360, 'barkeit': 7361, 'fachrichtung': 7362, 'anzuzweifeln': 7363, 'anhand': 7364, 'prozentsatz': 7365, 'grundstein': 7366, 'aufweisen': 7367, 'vielzahl': 7368, 'publikationen': 7369, 'studiums': 7370, 'einschalten': 7371, 'vermeindliche': 7372, 'wiederlegten': 7373, 'ergebnissen': 7374, 'festhaelt': 7375, 'ausblenden': 7376, 'diskussionsfaehig': 7377, 'durchbrechen': 7378, 'stosse': 7379, 'durchgekaut': 7380, 'rumgekommen': 7381, 'grundaussage': 7382, 'wissenschaftler': 7383, 'empirische': 7384, 'stossen': 7385, 'fechte': 7386, 'wiederlegt': 7387, 'unspezifischen': 7388, 'studien': 7389, 'genderforschung': 7390, 'fuerst': 7391, 'argumentiere': 7392, 'abnehmen': 7393, 'totschlagargumente': 7394, 'pseudowissenschaftlichen': 7395, 'polarisierender': 7396, 'irgendeine': 7397, 'validie': 7398, 'studienzweig': 7399, 'dem': 7400, 'fehlschluss': 7401, 'entkraeftet': 7402, 'wissenschaften': 7403, 'erworbenem': 7404, 'subjektiven': 7405, 'einschaetzung': 7406, 'faktische': 7407, 'psychologisch': 7408, 'vorbeeinflussende': 7409, 'argumentationsweise': 7410, 'entkraeftung': 7411, 'generische': 7412, 'maskulinum': 7413, 'wisse': 7414, 'eingeschlossen': 7415, 'ueberfluessig': 7416, 'plans': 7417, 'feministischen': 7418, 'weltherrschaft': 7419, 'sprachlichen': 7420, 'objektive': 7421, 'vorrausetzen': 7422, 'gelesener': 7423, 'getaetigt': 7424, 'deine': 7425, 'darzubringen': 7426, 'glaubwuerdig': 7427, 'suche': 7428, 'gegenlager': 7429, 'feldes': 7430, 'hingewiesen': 7431, 'verecundiam': 7432, 'erforderlich': 7433, 'begenrogenschaf': 7434, 'endsatz': 7435, 'bewerbung': 7436, 'eingentlich': 7437, 'irkro': 7438, 'restlos': 7439, 'arztbesuch': 7440, 'spaetfolgen': 7441, 'starken': 7442, 'einschraenkung': 7443, 'sehvermoegens': 7444, 'anhaltender': 7445, 'migraene': 7446, 'ueberlegenes': 7447, 'dorfimmunsystem': 7448, 'diabedes': 7449, 'predige': 7450, 'etzadla': 7451, 'zuckerduft': 7452, 'ausgeschlossen': 7453, 'lebensweise': 7454, 'wesendlich': 7455, 'symtome': 7456, 'naechster': 7457, 'anime': 7458, 'callcenter': 7459, 'abgestochen': 7460, 'befoerde': 7461, 'esseb': 7462, 'kuehlschrank': 7463, 'weggegammelt': 7464, 'erganhg': 7465, 'bitt': 7466, 'elefand': 7467, 'eisbe': 7468, '1887': 7469, 'ekliger': 7470, 'body': 7471, 'shamer': 7472, 'pain': 7473, 'fragilen': 7474, 'roggenbrotschaf': 7475, 'gleggersau': 7476, 'trockengebiete': 7477, 'laengere': 7478, 'perioden': 7479, 'aridisierung': 7480, 'drolnegul': 7481, 'gibs': 7482, 'single': 7483, 'sexspielchen': 7484, 'hittet': 7485, 'geschwistern': 7486, 'heuchelnde': 7487, 'festtags': 7488, 'alkoholiker': 7489, 'vivian': 7490, 'veganer': 7491, 'gewaldferachdensden': 7492, 'bazifisten': 7493, 'weld': 7494, 'etzad': 7495, 'neggsdenlieb': 7496, 'rehe': 7497, 'gewande': 7498, 'bistimmt': 7499, 'zeitumstellung': 7500, 'frost': 7501, 'hee': 7502, 'maln': 7503, 'emotionsbarometer': 7504, 'anzeichen': 7505, 'arce': 7506, 'wurst': 7507, 'schmausen': 7508, 'gemalt': 7509, 'verkaeggt': 7510, 'schuste': 7511, 'bettchen': 7512, 'judgy': 7513, 'judy': 7514, 'rauens': 7515, 'ewigkeiten': 7516, 'wikinger': 7517, 'wuseldst': 7518, 'schonwieder': 7519, 'getraeumt': 7520, 'wade': 7521, 'taetowie': 7522, 'klippenspringen': 7523, 'cringy': 7524, 'spuere': 7525, 'kriechende': 7526, 'snakecleaver': 7527, 'todschlag': 7528, 'sozialschmarotzer': 7529, 'liesche13761429': 7530, 'sozialhilfe': 7531, 'schlaue': 7532, 'tinaengel91': 7533, 'anwaelte': 7534, 'diggsn': 7535, 'abstempelt': 7536, 'asylpolitik': 7537, 'drecksau': 7538, 'afrikabonus': 7539, 'gerichtsbarkeit': 7540, 'ueberstellen': 7541, 'gerechten': 7542, 'manukindinger': 7543, 'islamisches': 7544, 'bibby182': 7545, 'islamscheisse': 7546, 'tinte': 7547, 'geopfe': 7548, 'kinderleiche': 7549, 'sande': 7550, 'arschlich': 7551, 'bauernopfer': 7552, 'vonderleyen': 7553, 'ungeschoren': 7554, 'unwesen': 7555, 'oren': 7556, 'ishii': 7557, 'wohlwissend': 7558, 'multikulti': 7559, 'steigen': 7560, 'leiche': 7561, 'abschlachten': 7562, 'judenhasser': 7563, 'korantreue': 7564, 'ismoslems': 7565, 'kaeri91622010': 7566, 'berufssoldaten': 7567, 'halskrause': 7568, 'verschuldet': 7569, 'familienumgebung': 7570, 'firma': 7571, 'zahlt': 7572, 'jassi': 7573, 'miller': 7574, 'schoenes': 7575, 'fakefoto': 7576, 'invasoren': 7577, 'fotografen': 7578, 'magdale46200278': 7579, 'eliste': 7580, 'krakan': 7581, 'sozialamt': 7582, 'treppen': 7583, 'runtergestossen': 7584, 'koks': 7585, 'karsten71': 7586, 'kranzschwinger': 7587, 'imseptember82': 7588, 'fressen': 7589, 'durchs': 7590, 'sozialaemter': 7591, 'biene44930936': 7592, 'gelebte': 7593, 'taxifahrer': 7594, 'obsthaendler': 7595, 'aufzuschwatzen': 7596, 'hermanu84806348': 7597, 'buergerkrieg': 7598, 'wahrlich': 7599, 'ausbricht': 7600, 'csendc': 7601, 'erkannt': 7602, 'ueberweisungstraeger': 7603, 'ausfuellen': 7604, 'mgtow': 7605, 'trau': 7606, 'kantine': 7607, 'hinhauen': 7608, 'unterdruecken': 7609, 'gluecklichen': 7610, 'bezahlbares': 7611, '017': 7612, 'eckleben': 7613, 'schaltern': 7614, 'abgehoben': 7615, 'geldtranspo': 7616, 'unternehmen': 7617, 'bargeld': 7618, 'abheben': 7619, 'zentral': 7620, 'ueberweisungen': 7621, 'manuell': 7622, 'taetigen': 7623, 'manipulieren': 7624, 'auflage': 7625, 'steigern': 7626, 'hokuspokus': 7627, 'nachhause': 7628, 'normalbuerger': 7629, 'bedienen': 7630, 'petersburg': 7631, 'wunderschoene': 7632, 'kreuz': 7633, 'schwestern': 7634, 'gefangenschaft': 7635, 'unvorstellbares': 7636, 'ferdi10709': 7637, 'diejenige': 7638, 'bongsarm': 7639, 'asiatimesonline': 7640, 'legaler': 7641, 'goettlicher': 7642, 'non': 7643, 'aelsie2': 7644, 'innlandfluege': 7645, 'fliegenden': 7646, 'eselkarre': 7647, 'kackvoegel': 7648, 'goere': 7649, 'tragischen': 7650, 'ableben': 7651, 'huette': 7652, 'drecksack': 7653, 'uebergutmensch': 7654, 'brigitt09960560': 7655, 'gammelfleisch': 7656, 'ruby571xa6': 7657, 'ehrlichkeit': 7658, 'agentbl40535536': 7659, 'buddhisten': 7660, 'gebete': 7661, 'vorhandenen': 7662, 'einrichtungen': 7663, 'ausgeuebt': 7664, 'beten': 7665, 'speedlight': 7666, 'xavier': 7667, 'naidoo': 7668, 'hassmusiker': 7669, 'wagt': 7670, 'auszusprechen': 7671, 'controlpanel16': 7672, 'schmarotzenden': 7673, 'salafisten': 7674, 'asoziallisten': 7675, 'abschiebeindustrie': 7676, 'kriegsverbreche': 7677, 'ribunal': 7678, 'haag': 7679, 'hinterbliebenen': 7680, 'unschuldigen': 7681, 'vergewaltigten': 7682, 'abgeschlachteten': 7683, 'zirkuse': 7684, 'akrobaten': 7685, 'springe': 7686, 'abzuziehen': 7687, 'klarzustellen': 7688, 'begeiste': 7689, 'milde': 7690, 'ausgedrueckt': 7691, 'steinhoefel': 7692, 'steuergelder': 7693, 'prostitution': 7694, 'rammstein': 7695, 'schamhaaren': 7696, 'prdgrmn': 7697, 'verachtende': 7698, 'schmutzig': 7699, 'menschenverachtend': 7700, 'roll': 7701, 'dummkopf': 7702, 'oppermann': 7703, 'arrrrrrrmen': 7704, 'vonanderst2018': 7705, 'spritze': 7706, 'widerwae': 7707, 'nachher': 7708, 'kuffars': 7709, 'sozialsysteme': 7710, 'einzuzahlen': 7711, 'einfallen': 7712, 'heuschrecken': 7713, 'money': 7714, 'nothing': 7715, 'andreag799': 7716, 'baerbeli04': 7717, 'altgold': 7718, 'genial': 7719, 'geniales': 7720, 'biggi811': 7721, 'schlepperflotten': 7722, 'wasse': 7723, 'axis': 7724, 'neopren': 7725, 'anzuegen': 7726, 'ausstattet': 7727, 'xyzimmermann': 7728, 'besiegeln': 7729, 'sprenglaeubigen': 7730, 'hejasolar': 7731, 'siglo76': 7732, 'schnorre': 7733, 'kaputte': 7734, 'marctailer3': 7735, 'linksversifftes': 7736, 'deutsches': 7737, 'beschreiben': 7738, 'andreasscheu': 7739, 'culture': 7740, 'knack': 7741, 'politelite': 7742, 'sft': 7743, 'allahuakba': 7744, 'isie': 7745, 'frischen': 7746, 'hochzurossen': 7747, 'taeusche': 7748, 'punisher': 7749, 'jogimuller': 7750, '270a': 7751, 'konzentrationslager': 7752, 'gestrickte': 7753, 'klabautermann': 7754, 'sharia': 7755, 'zwangsjacke': 7756, 'gummizelle': 7757, 'wohnungen': 7758, 'villen': 7759, 'zimmerwohnungen': 7760, 'kreuzberg': 7761, 'steglitz': 7762, 'friedenau': 7763, 'morrowqiang': 7764, 'saerdnaya': 7765, 'suseschmitt': 7766, 'kriegsfuehrung': 7767, 'samurai': 7768, 'krieger': 7769, 'erschreckende': 7770, 'erscheinungsbild': 7771, 'traeger': 7772, 'angreifer': 7773, 'marde651': 7774, 'belaestigt': 7775, 'ion': 7776, 'sarkasmus': 7777, 'snappycat': 7778, 'leddyman1': 7779, 'lermarek': 7780, 'thia2009': 7781, 'thomyskybik': 7782, 'vigilant': 7783, 'vonerlenbach': 7784, 'cd47115053': 7785, 'ebenjerry': 7786, 'realgermanistan': 7787, 'ofenschlupfer': 7788, 'zumwohledeutsch': 7789, 'lieben': 7790, '0001f618': 7791, 'harald70199': 7792, 'jagd': 7793, 'insolvenz': 7794, '6jahren': 7795, 'rausgelassen': 7796, 'schampus': 7797, 'paralla80562715': 7798, 'marodeure': 7799, 'zugestossen': 7800, 'solche': 7801, '0001f612': 7802, 'derzweifelnde': 7803, 'vorderen': 7804, 'futterplaetze': 7805, 'steuergelde': 7806, 'rog': 7807, 'laben': 7808, 'hi': 7809, 'klinke': 7810, 'sizilianer': 7811, 'siemenskornej': 7812, 'sammellager': 7813, 'flughaefen': 7814, 'zusammenfuehren': 7815, 'maschine': 7816, 'lebenslanges': 7817, 'einreiseverbot': 7818, 'connyhendrich': 7819, 'maulende': 7820, 'fahrerlaubnis': 7821, 'nullachtk': 7822, 'vonschwer': 7823, 'hamburgonline': 7824, 'darkgermany': 7825, 'obdachlosen': 7826, 'kassen': 7827, 'caritas': 7828, 'lokalfuerst': 7829, 'meckern': 7830, 'geliefe': 7831, 'gerufen': 7832, 'foerderung': 7833, 'goldstuecken': 7834, 'gierig': 7835, 'eingesteckt': 7836, 'glaubhaft': 7837, 'rosenkavalier': 7838, 'saeuglingsschaender': 7839, 'bedient': 7840, 'paedophilen': 7841, 'schaenden': 7842, 'wirkliches': 7843, 'traumhafte': 7844, 'sexualstraftaten': 7845, 'gemordet': 7846, 'einbildung': 7847, 'spinner': 7848, 'geschichtenerzaehler': 7849, 'zwangsfinanzieren': 7850, 'rimijo': 7851, 'ufxdl': 7852, 'apararat': 7853, 'bahnhoefen': 7854, 'bejubelten': 7855, 'fliehenden': 7856, 'glibschig': 7857, 'rausschmeissen': 7858, 'abzocke': 7859, 'pazderski': 7860, 'spritzen': 7861, 'benoetigten': 7862, 'koscha': 7863, 'bauchgefuehl': 7864, 'meldet': 7865, 'erschleichen': 7866, 'luna1234luna1': 7867, 'gras': 7868, 'gebissen': 7869, 'todeskampf': 7870, 'gedaue': 7871, 'schmerzhaft': 7872, 'dreckige': 7873, 'specklerundkoch': 7874, 'crystalmeth': 7875, 'ramscharpf': 7876, 'arnd': 7877, 'schumacher': 7878, 'janfleischhauer': 7879, 'bolz': 7880, 'vorabend': 7881, 'chorknaben': 7882, 'aspikschinken': 7883, 'neuber': 7884, 'forst': 7885, 'traumdiebe': 7886, 'vergewaltiger': 7887, 'ueberreicht': 7888, 'gropppetra': 7889, 'verhuellter': 7890, 'multi': 7891, 'konzern': 7892, 'lutschen': 7893, 'knaben': 7894, 'pfaffe': 7895, 'olenordman': 7896, 'ozlive': 7897, 'terro': 7898, 'empel': 7899, 'ausbildungsstaetten': 7900, 'halbmondritter': 7901, 'schluessel': 7902, 'ueberreichen': 7903, 'alhope1': 7904, 'annevanhalen': 7905, 'feiges': 7906, 'halbschwule': 7907, 'koran': 7908, 'treter': 7909, 'realgruenweiss': 7910, 'duinnoord': 7911, 'hahahaha': 7912, 'quijote': 7913, 'politikgeschichte': 7914, 'rene': 7915, 'tudor': 7916, 'bjoernhoecke': 7917, 'verbloedeten': 7918, 'buntewelt1966': 7919, 'hellegatt': 7920, 'freies': 7921, 'zuege': 7922, 'sitten': 7923, 'sexualstraftaetern': 7924, 'schoemakermarl2': 7925, 'ergeht': 7926, 'fliehende': 7927, 'afghanische': 7928, 'bewaehrungsstrafe': 7929, 'offiziere': 7930, 'kanalisationen': 7931, 'taucht': 7932, 'vanberlichingen': 7933, 'fleh': 7934, 'zuegen': 7935, 'invasorenwelle': 7936, 'dirkhafermann': 7937, 'offensichtliche': 7938, 'streicher': 7939, 'therealaw2': 7940, 'daemliche': 7941, 'soermarutsche': 7942, 'sexistisches': 7943, 'burger': 7944, 'kleinkindern': 7945, 'begeh': 7946, 'beute': 7947, 'islams': 7948, 'anhaengern': 7949, 'fremer59': 7950, 'kanaken': 7951, 'tuerkischen': 7952, 'gesellschaftsfaehig': 7953, 'peachtr47293532': 7954, 'stromkunden': 7955, 'stromrechnung': 7956, 'niht': 7957, 'preiswe': 7958, 'linksruck': 7959, 'mehrheiten': 7960, 'ausgesorgt': 7961, 'orban': 7962, 'unmenschlich': 7963, 'gleichtzeitig': 7964, 'loben': 7965, 'unmenschliche': 7966, 'arschgeigen': 7967, 'regt': 7968, 'geplante': 7969, 'sklavereigesetz': 7970, 'rechtsnationale': 7971, 'erschiesst': 7972, 'blinde': 7973, 'gleichmal': 7974, 'een': 7975, 'abballern': 7976, 'django': 7977, 'losgelassen': 7978, 'neujahrsvorsaetze': 7979, 'glaeubige': 7980, 'gekreuzigt': 7981, 'liebte': 7982, 'git': 7983, 'tuten': 7984, 'obergeschoss': 7985, 'besserem': 7986, 'empfang': 7987, 'unglueck': 7988, 'ankam': 7989, 'mobilfunknetz': 7990, 'empfaengern': 7991, 'armtutsrentner': 7992, 'ausgetreten': 7993, 'nsdap': 7994, 'abgeschafft': 7995, 'verstoesste': 7996, 'andy': 7997, 'alleinerziehende': 7998, 'ausbildung': 7999, 'brustkrebs': 8000, 'gekuerzt': 8001, 'verwaltungsvorschriften': 8002, 'kank': 8003, 'vergangenen': 8004, 'arbeitstage': 8005, 'ausgefallen': 8006, 'depressionen': 8007, 'eivorstand': 8008, 'pfandflaschen': 8009, 'geshafft': 8010, 'verdreifachen': 8011, 'weiterbildung': 8012, 'durchsetzen': 8013, 'verordnung': 8014, 'verfuetterung': 8015, 'speiseresten': 8016, 'schuetzen': 8017, 'schuetzt': 8018, 'arkus': 8019, 'messerstechen': 8020, 'vollzeit': 8021, 'verlangt': 8022, 'aufwachsen': 8023, 'kanntoll': 8024, 'obergrenze': 8025, 'verlasse': 8026, 'bluthochdruck': 8027, 'volkskrankheit': 8028, 'weitgehende': 8029, 'entwe': 8030, 'taugen': 8031, 'feindbilder': 8032, 'mainstream': 8033, 'bloedzeitung': 8034, 'spechen': 8035, 'relative': 8036, 'demuetigen': 8037, 'stephan': 8038, 'arschkriechen': 8039, 'traff': 8040, 'erneue': 8041, 'drittes': 8042, 'geschlecht': 8043, 'maennlich': 8044, 'ausserirdisch': 8045, 'vielfalt': 8046, 'informie': 8047, 'geschehnisse': 8048, 'aufruhr': 8049, 'versetzen': 8050, 'unbekannter': 8051, 'attacken': 8052, 'ehen': 8053, 'wackelt': 8054, 'verfassungsgericht': 8055, 'zulassen': 8056, 'bundeslaendern': 8057, 'beantragt': 8058, 'ankommen': 8059, 'unterlagen': 8060, 'haenel': 8061, 'geworben': 8062, 'enttaeuscht': 8063, 'ausgezeichnet': 8064, 'illiarden': 8065, 'kosstenlose': 8066, 'bundeshilfen': 8067, 'stoppen': 8068, 'grundgesetzaenderung': 8069, 'nuernberger': 8070, 'stadtteil': 8071, 'johannis': 8072, 'selben': 8073, 'times': 8074, 'gedemuetigt': 8075, 'gebrueren': 8076, 'versteckte': 8077, 'hierfuer': 8078, 'goldenen': 8079, 'positionspapier': 8080, 'sozialstaat': 8081, 'vorsorgend': 8082, 'verlaesslich': 8083, 'bundesfamilienministerin': 8084, 'franziska': 8085, 'auszuueben': 8086, 'lohnerhoehungen': 8087, 'eintaegigen': 8088, 'vorstandsklausur': 8089, 'widersprueche': 8090, 'verschlossenen': 8091, 'ausgiebig': 8092, 'debattie': 8093, 'betonte': 8094, 'einigungswillen': 8095, 'nerschaft': 8096, 'zusicherungen': 8097, 'londoner': 8098, 'aufzubrechen': 8099, 'verpflichtungen': 8100, 'proft': 8101, 'zufolge': 8102, 'einbussen': 8103, 'palament': 8104, 'abtreibungsparagraf': 8105, 'eilte': 8106, 'entsetzt': 8107, 'bestaetigung': 8108, 'heinrich': 8109, 'sinnlose': 8110, 'massnahme': 8111, 'demuetiken': 8112, 'gespraech': 8113, 'rud': 8114, 'berateraffaere': 8115, 'korruptionsverdacht': 8116, 'vetternwi': 8117, 'externe': 8118, 'unternehmensberater': 8119, 'umgekippt': 8120, 'marginale': 8121, 'kosmetische': 8122, 'korrekturen': 8123, 'ueberhaut': 8124, 'weicheiern': 8125, 'rueckgrat': 8126, 'prekaeren': 8127, 'lebenssituation': 8128, 'lauten': 8129, 'einerseits': 8130, 'geldgier': 8131, 'nahle': 8132, 'kneift': 8133, 'verkrichen': 8134, 'imame': 8135, 'ausbilden': 8136, 'auh': 8137, 'wirft': 8138, 'falschinformationen': 8139, 'souveraenitaet': 8140, 'befragung': 8141, 'rueckzug': 8142, 'eivorsitz': 8143, 'buergerrechtlerin': 8144, 'publizistin': 8145, 'oekonomin': 8146, 'nocun': 8147, 'gesundheitsminister': 8148, 'umdrehen': 8149, 'wernn': 8150, 'landesverband': 8151, 'gewissensentscheidung': 8152, 'systm': 8153, 'beleidigende': 8154, 'zwischenrufe': 8155, 'landtagssitzung': 8156, 'tumulte': 8157, 'festgenommen': 8158, 'austritts': 8159, 'bearbeitet': 8160, 'statistischem': 8161, 'unterkunft': 8162, 'ruhen': 8163, 'faule': 8164, 'geheimplan': 8165, 'koalitionsgespraeche': 8166, 'nordafrikanischen': 8167, 'wurzeln': 8168, 'eroeffnete': 8169, 'dienstagabend': 8170, 'politei': 8171, 'phoenix': 8172, 'einigung': 8173, 'mays': 8174, 'wagen': 8175, 'verriegelt': 8176, 'kindersicherung': 8177, '217': 8178, 'iii': 8179, 'ikeln': 8180, 'beschlossen': 8181, 'unterschieben': 8182, 'verstoest': 8183, 'seelische': 8184, 'reine': 8185, 'wirksamen': 8186, 'rechtsbehelf': 8187, 'zustaendigen': 8188, 'innerstaatlichen': 8189, 'gerichten': 8190, 'handlungen': 8191, 'zustehenden': 8192, 'grundrechte': 8193, 'eingeschraenkt': 8194, 'am': 8195, 'kuensten': 8196, 'erfreuen': 8197, 'teilzuhaben': 8198, 'kue': 8199, 'teilhabe': 8200, 'fuersorge': 8201, 'eheliche': 8202, 'aussereheliche': 8203, 'abziehen': 8204, 'lebensstandard': 8205, 'gewaehrleistet': 8206, 'einschliesslich': 8207, 'kleidung': 8208, 'aerztliche': 8209, 'leistungen': 8210, 'anno': 8211, 'vereinigung': 8212, 'anzugehoeren': 8213, 'fraktionszwang': 8214, 'pateien': 8215, 'abstimmung': 8216, 'landtagen': 8217, 'meinungsaeusserung': 8218, 'linksradikaler': 8219, 'abgestempelt': 8220, 'diskriminierung': 8221, 'demue': 8222, 'igung': 8223, 'gedemuetikt': 8224, 'ausgebeutet': 8225, 'diffamie': 8226, 'aufenthaltso': 8227, 'leibeigenschaft': 8228, 'sklavenhandel': 8229, 'sytem': 8230, 'putins': 8231, 'dresdner': 8232, 'supereiche': 8233, 'verschlimme': 8234, 'wunden': 8235, 'ezb': 8236, 'feindlichen': 8237, 'ehr': 8238, '700': 8239, 'aufzeigen': 8240, 'showdown': 8241, 'abgeordnete': 8242, 'abtreibungswerbeverbots': 8243, 'durchzusetzen': 8244, 'nachgeben': 8245, 'abgezogen': 8246, 'angerechnet': 8247, 'asozioale': 8248, 'ehrliche': 8249, 'schaftsweiser': 8250, 'bofinger': 8251, 'pocht': 8252, 'wochenlangen': 8253, 'wolen': 8254, 'racheplaenen': 8255, 'menschenwuerdiger': 8256, 'vorsitzenden': 8257, 'telefonbuch': 8258, 'heimatstadt': 8259, 'angezeigt': 8260, 'koenigin': 8261, 'normalen': 8262, 'humanrightsday': 8263, 'harz': 8264, 'arbeitssklaven': 8265, 'damt': 8266, 'sicherer': 8267, 'unmut': 8268, 'lager': 8269, 'forden': 8270, 'anne': 8271, 'brauchte': 8272, 'zusagen': 8273, 'quasselte': 8274, 'hektisch': 8275, 'uber': 8276, 'zugeben': 8277, 'ane': 8278, 'steinga': 8279, 'oekonomischen': 8280, 'saarlands': 8281, 'verwiesen': 8282, 'platzte': 8283, 'kragen': 8284, 'eidigte': 8285, 'beinha': 8286, 'abrutschen': 8287, '57': 8288, 'gruenem': 8289, 'verarschen': 8290, 'im': 8291, 'explodie': 8292, 'zaehlweise': 8293, 'veraende': 8294, 'arbeitsunfaehige': 8295, 'gezaehlt': 8296, 'arbeitslose': 8297, 'sinnlosen': 8298, 'rausgezaehlt': 8299, 'boeigen': 8300, 'winden': 8301, 'geendet': 8302, 'wahlsieg': 8303, 'mittelgebirge': 8304, 'herze': 8305, 'erdbeben': 8306, 'sauerland': 8307, 'bewerbungsrede': 8308, 'reichenleben': 8309, 'inder': 8310, 'nominie': 8311, 'spitzenkandidatin': 8312, 'warnstreiks': 8313, 'evg': 8314, 'rechnet': 8315, 'streikschwerpunkt': 8316, 'altkanzler': 8317, 'kloschuessel': 8318, 'panzerwagen': 8319, 'gummigeschosse': 8320, 'traenengas': 8321, 'schlagstoecke': 8322, 'einsetzt': 8323, 'unerem': 8324, 'sanktionsmoeglichkeiten': 8325, 'friss': 8326, 'stirb': 8327, 'lohnend': 8328, 'zog': 8329, 'schaftsfluechtling': 8330, 'osnabrueck': 8331, 'jura': 8332, 'schaffte': 8333, 'abschluss': 8334, 'steuergelf': 8335, 'braut': 8336, 'revolte': 8337, 'vorauseilender': 8338, 'werbe': 8339, 'informationsverbot': 8340, 'ichael': 8341, 'rueter': 8342, 'europawahlkampf': 8343, 'garant': 8344, 'revoluzzerin': 8345, 'tochter': 8346, 'gespraechsrunde': 8347, 'migrationspolitik': 8348, 'rentenarmut': 8349, 'anhalt': 8350, 'festtage': 8351, 'bikerkuddel': 8352, 'lesben': 8353, 'demostranten': 8354, 'beschuss': 8355, 'trigoa': 8356, 'antibabypille': 8357, 'zurueckgerufen': 8358, 'ungewollten': 8359, 'schwangerschaften': 8360, 'unterhalt': 8361, 'beibehalten': 8362, 'lohnerhoehngen': 8363, 'aufmucken': 8364, 'duerfe': 8365, 'konten': 8366, 'fraktionsvorsitzende': 8367, 'staerkste': 8368, 'biete': 8369, 'weihnachtet': 8370, 'diskriminirung': 8371, 'ausbeutung': 8372, 'klingbeil': 8373, 'kampfkandidaturen': 8374, 'susi': 8375, '1998': 8376, 'arbeiterpa': 8377, 'verraeterpa': 8378, 'amtlich': 8379, 'annegretkrampkarrenbauermussweg': 8380, 'weicheier': 8381, 'verspaetungen': 8382, 'wahlzettel': 8383, 'kniefall': 8384, 'warschau': 8385, '1970': 8386, 'demuetig': 8387, 'bekanntgegeben': 8388, 'ergebniss': 8389, 'entschieden': 8390, 'bundespa': 8391, 'normaler': 8392, 'heucheler': 8393, 'hoffnungslos': 8394, 'ungeachtet': 8395, 'fuehrung': 8396, 'rutscht': 8397, 'eispitze': 8398, 'klapsmuehle': 8399, 'parlamentsgeschaeftsfuehrer': 8400, 'schneider': 8401, 'mahnt': 8402, 'marz': 8403, 'waffenscheine': 8404, 'medienbericht': 8405, 'kalaschnikow': 8406, 'haldenwang': 8407, 'talkshow': 8408, 'aeussern': 8409, 'armutsrenten': 8410, 'tausendundeine': 8411, 'armuts': 8412, 'cu': 8413, 'basta': 8414, 'eklat': 8415, 'greift': 8416, 'studio': 8417, 'normalerweise': 8418, 'gefilte': 8419, 'kindererziehung': 8420, 'nikolaustag': 8421, 'nikolaus': 8422, 'finsteren': 8423, 'gesellen': 8424, 'una': 8425, 'konzept': 8426, 'vorgelegt': 8427, 'auszubauen': 8428, 'arbeitslosengeld': 8429, 'arbeitslos': 8430, 'ausgebremste': 8431, 'lebensmittel': 8432, 'kommmen': 8433, 'abfall': 8434, 'enkonferenz': 8435, 'kandidatenliste': 8436, 'bundesvorstands': 8437, 'asoziale': 8438, 'abkassieren': 8439, 'fleissige': 8440, 'belohnen': 8441, 'maechtigsten': 8442, 'gekue': 8443, 'aufwe': 8444, 'ehrenamtlich': 8445, 'eifer': 8446, 'unterstuezen': 8447, 'bedarfsgemeinschaften': 8448, 'unterkunftskosten': 8449, 'einsparen': 8450, 'gehasste': 8451, 'spueren': 8452, 'hauptverantwo': 8453, 'licher': 8454, 'sackt': 8455, 'gazprom': 8456, 'entwuerdigung': 8457, 'schaffung': 8458, 'niedriglohnsektors': 8459, 'westeuropas': 8460, 'zunehmende': 8461, 'prekaere': 8462, 'beschaeftigung': 8463, 'sagten': 8464, 'beruehmteste': 8465, 'verraten': 8466, 'buergern': 8467, 'uefa': 8468, 'saecke': 8469, 'rolex': 8470, 'uhren': 8471, 'geldsparen': 8472, 'angekommen': 8473, 'toller': 8474, 'standen': 8475, 'sthen': 8476, 'deutschlan': 8477, 'verdiener': 8478, 'konnten': 8479, 'hungerl': 8480, 'abstieg': 8481, 'zermuerbt': 8482, 'brauchten': 8483, 'einzusehen': 8484, 'gefuehlter': 8485, 'nachfolgenden': 8486, 'lebensnotwendigen': 8487, 'senken': 8488, 'allzeit': 8489, 'westpakete': 8490, 'ausgeraubt': 8491, 'postminister': 8492, 'mdr': 8493, 'umschau': 8494, 'bnd': 8495, 'selbe': 8496, 'verleugnen': 8497, 'politriker': 8498, 'dieselkrise': 8499, 'ber': 8500, 'beachtenswe': 8501, 'sozialstaates': 8502, 'kriegzeiten': 8503, 'welkrieg': 8504, '1799': 8505, '1848': 8506, 'reformplaene': 8507, 'wichtigste': 8508, 'mitr': 8509, 'fuet': 8510, 'arschgeige': 8511, 'hinnehmbar': 8512, 'bundespraesident': 8513, '1918': 8514, 'untergang': 8515, 'demokratiegeschichte': 8516, 'gewuerdigt': 8517, 'liebknecht': 8518, 'ausgerufen': 8519, 'buche': 8520, '2005': 8521, 'langweilig': 8522, 'dieter': 8523, 'idealistisch': 8524, 'horst': 8525, 'mahler': 8526, 'trainie': 8527, 'orgaskills': 8528, 'reality': 8529, 'zudruecken': 8530, 'marxistisches': 8531, 'subversivaktiv': 8532, 'begriffsapparat': 8533, 'schaftsleistung': 8534, 'gesunken': 8535, 'weltanschauung': 8536, 'vereinbaren': 8537, 'eileuten': 8538, 'typisches': 8539, 'tw': 8540, 'technisch': 8541, 'unmissverstaendlich': 8542, 'auszudruecken': 8543, 'dacht': 8544, 'mon': 8545, 'beamte': 8546, 'beknackt': 8547, 'azubi': 8548, '40h': 8549, 'kleinbuergerlichen': 8550, 'mischt': 8551, 'letztere': 8552, 'verstehn': 8553, 'hochkommt': 8554, 'hgnvontraene': 8555, 'gallopier': 8556, 'revue': 8557, 'mugabe': 8558, 'friesbol': 8559, 'maoisten': 8560, 'harvestcrawler': 8561, 'weis': 8562, 'hauen': 8563, 'baberowski': 8564, 'fernvonmoskau': 8565, 'antiintellektualismus': 8566, 'stuende': 8567, 'ic': 8568, 'eigtl': 8569, 'sympathisch': 8570, 'identity': 8571, 'beigewohnt': 8572, 'kg': 8573, 'wattwaage': 8574, 'atommasse': 8575, 'heftiger': 8576, 'splittergruppen': 8577, 'inseln': 8578, 'angespuelt': 8579, 'mett': 8580, 'provinzkloster': 8581, 'weirde': 8582, 'paralleluniversum': 8583, 'jochen': 8584, 'mitschka': 8585, 'hominem': 8586, 'ath': 8587, 'gelder': 8588, 'verlages': 8589, 'verschwenden': 8590, 'gepaa': 8591, 'label': 8592, 'trotzkismus': 8593, 'prostandpunkt': 8594, 'abweichungen': 8595, 'hanns2dieter': 8596, 'luis': 8597, 'xvi': 8598, 'kokade': 8599, 'gesellschaftliche': 8600, 'kategorie': 8601, 'schonmal': 8602, 'gestreikt': 8603, 'strich': 8604, 'belastend': 8605, 'hamzaali1972': 8606, 'psst': 8607, 'mitkriegt': 8608, 'buerokratenstaat': 8609, 'intersektionalismus': 8610, 'schockt': 8611, 'sare': 8612, 'hustra': 8613, 'ossi': 8614, 'arbeiterkind': 8615, 'ruh': 8616, 'passiv': 8617, 'aggressive': 8618, 'verbieten': 8619, 'offline': 8620, 'belastender': 8621, 'intersektionalist': 8622, 'special': 8623, 'snowflake': 8624, 'wehrmacht': 8625, 'stalingrad': 8626, 'engruppe': 8627, 'gelbweste': 8628, 'jucken': 8629, 'ticket': 8630, 'kontrolleur': 8631, 'daily': 8632, 'yungschelling22': 8633, 'einstellen': 8634, 'gehn': 8635, 'weist': 8636, 'wesentliche': 8637, 'deng': 8638, 'kader': 8639, 'weltmaerkte': 8640, 'besonderen': 8641, 'boykotts': 8642, 'geschuldet': 8643, 'arx': 8644, 'marxologie': 8645, 'kommemista': 8646, 'ancap': 8647, 'muetz': 8648, 'nogo': 8649, 'schlipztrega': 8650, 'schaub': 8651, 'kriegszeiten': 8652, 'korrigiere': 8653, 'unterwuerfigst': 8654, 'brav': 8655, 'verdammte': 8656, 'antifagruppe': 8657, 'trotzkisten': 8658, 'zusllererst': 8659, 'befasst': 8660, 'abzugrenzen': 8661, 'vorauseilendem': 8662, 'zukommt': 8663, 'glueh': 8664, 'laphroaig': 8665, 'halal': 8666, 'philippe': 8667, 'hegi': 8668, 'clzmueller': 8669, 'cedric': 8670, 'luechau': 8671, 'carlosreinhard': 8672, 'unternehmer': 8673, 'oekonomen': 8674, 'ware': 8675, 'wahnform': 8676, 'wenns': 8677, 'brenzlig': 8678, 'pn': 8679, 'trink': 8680, 'bewundere': 8681, 'wanderer': 8682, 'nebelwerfer': 8683, 'caspar': 8684, 'mekka': 8685, 'abgefeie': 8686, 'vergesellschaftet': 8687, 'gelangen': 8688, 'glaubst': 8689, 'lebst': 8690, 'kleinbuergerliche': 8691, 'eschatologie': 8692, 'jupi': 8693, 'klimawandels': 8694, 'irgendeiner': 8695, 'emmissionsmenge': 8696, 'ethischen': 8697, 'widerrum': 8698, 'loesbares': 8699, 'konkreteres': 8700, 'unzulaessige': 8701, 'meiste': 8702, 'vorbereitung': 8703, 'notfallhilfe': 8704, 'zurueckzufuehren': 8705, 'formuliere': 8706, 'klimafaktoren': 8707, 'chaotisch': 8708, 'negative': 8709, 'rueckkoppelungen': 8710, 'koennnen': 8711, 'unerwa': 8712, 'derzeitige': 8713, 'groessenordnungen': 8714, 'vonstatten': 8715, 'menschheitsgeschichte': 8716, 'wage': 8717, 'flugreisen': 8718, 'waschmaschinen': 8719, 'uvm': 8720, 'erschwinglich': 8721, 'einhergehenden': 8722, 'ausmalen': 8723, 'staerkere': 8724, 'schwankungen': 8725, 'einhergingen': 8726, 'kausales': 8727, 'modell': 8728, 'unterkomplex': 8729, 'chaotisches': 8730, 'festigen': 8731, 'verpulve': 8732, 'eindaemmung': 8733, 'klimafolgen': 8734, 'nuetzlicher': 8735, 'emmissionsfrei': 8736, 'festgefahrene': 8737, 'marktaufteilungen': 8738, 'aufzulockern': 8739, 'dimension': 8740, 'emittie': 8741, 'unliebsameren': 8742, 'schwaecherer': 8743, 'delegitimieren': 8744, 'plaedieren': 8745, 'monokausale': 8746, 'globalem': 8747, 'veraenderung': 8748, 'einbilden': 8749, 'daten': 8750, 'universitaet': 8751, 'jaehrlichen': 8752, 'schwankung': 8753, 'fruehjahr': 8754, 'nordhalbkugel': 8755, 'unermessliches': 8756, 'emmissionsziel': 8757, 'eingehalten': 8758, 'jhdt': 8759, 'emmitie': 8760, 'atmosphaere': 8761, 'ausmachen': 8762, 'wahrscheinlichkeiten': 8763, 'arbeitsgruppen': 8764, 'eintritt': 8765, 'gezeigte': 8766, 'szenario': 8767, 'arbeitsgruppe': 8768, 'saturn': 8769, 'usb': 8770, 'garnicht': 8771, 'menschliche': 8772, 'beobachteten': 8773, 'klimaveraenderung': 8774, 'realstes': 8775, 'fckw': 8776, 'ozonloch': 8777, 'apokalypseideologien': 8778, 'befeuern': 8779, 'vermarkten': 8780, 'oekobewegung': 8781, 'befassen': 8782, 'scheinproblemen': 8783, 'abholzung': 8784, 'regenwaldes': 8785, 'verschmutzung': 8786, 'ausstoss': 8787, 'wirklichkeit': 8788, 'atommuell': 8789, 'lachflash': 8790, 'verstaendigen': 8791, 'phaenomenologie': 8792, 'pseudowissenschaften': 8793, 'alternativ': 8794, 'bereitet': 8795, 'verstaendlicher': 8796, 'reife': 8797, 'layer': 8798, 'zugestaendnis': 8799, 'relevanten': 8800, 'politisie': 8801, 'bezeichnend': 8802, 'tassow': 8803, 'sekten': 8804, 'anrichten': 8805, 'abgestellt': 8806, 'cssr': 8807, 'aw': 8808, 'foetzchen': 8809, 'elender': 8810, 'ao': 8811, 'werktaetigen': 8812, 'mueller': 8813, 'steigerungsform': 8814, 'orbyt': 8815, 'produktionsmitteln': 8816, 'unpassend': 8817, 'muessig': 8818, 'verlaub': 8819, 'menschenrechtsverletzung': 8820, 'ausreisenden': 8821, 'ausreiseantrag': 8822, 'eingerichtet': 8823, 'vermieter': 8824, 'saeumig': 8825, 'spionage': 8826, 'schwarzfahren': 8827, 'anstrebt': 8828, 'heutiger': 8829, 'medienberichte': 8830, 'historischen': 8831, 'schaftswachstum': 8832, 'sondern': 8833, 'ueben': 8834, 'klassenherrschaft': 8835, 'institutionellen': 8836, 'krux': 8837, 'moralitaet': 8838, 'institutionell': 8839, 'gefestigt': 8840, 'kriterien': 8841, 'betrachtungen': 8842, 'fazit': 8843, 'kadern': 8844, 'adidasbolshevik': 8845, 'schlimmstes': 8846, 'schrift': 8847, 'szalkiewicz': 8848, 'vereinseitigen': 8849, 'produktionsweise': 8850, 'schnelle': 8851, '70er': 8852, 'kapitalistenklasse': 8853, 'verstaatlicht': 8854, 'existieren': 8855, 'vnyshkr': 8856, 'duelle': 8857, 'flieg': 8858, 'bernau': 8859, 'rockt': 8860, 'konrad': 8861, 'wolf': 8862, 'militaerregierung': 8863, 'todesstrafe': 8864, 'naziverbrecher': 8865, 'menspreading': 8866, 'legal': 8867, 'wolln': 8868, 'judge': 8869, 'ehrlichgesagt': 8870, 'jobboersen': 8871, 'informatikfirmen': 8872, 'einschleimen': 8873, 'arbeitskraft': 8874, 'feil': 8875, 'komischer': 8876, 'onkel': 8877, 'oeffentliche': 8878, 'toilette': 8879, 'ueble': 8880, 'beule': 8881, 'verhoehnungdermaueropfer': 8882, 'gamerheine69': 8883, 'loerres': 8884, 'libido': 8885, 'killen': 8886, 'company': 8887, 'streu': 8888, 'glyphosat': 8889, 'drollig': 8890, 'challenge': 8891, 'music': 8892, 'kleinbuergerlicher': 8893, 'roman': 8894, 'moeseneder': 8895, 'cooler': 8896, 'swag': 8897, 'esoteriker': 8898, 'pendel': 8899, 'vorhersagen': 8900, 'skeptiker': 8901, 'experimentell': 8902, 'reproduzieren': 8903, 'verbringt': 8904, 'pendelexperimenten': 8905, 'dw3yyn': 8906, 'trotzkist': 8907, 'objektiv': 8908, 'reaktionaer': 8909, 'fossil': 8910, 'volkerbonacker': 8911, 'erzbarongomez': 8912, 'frische': 8913, 'mra': 8914, 'oekologie': 8915, 'verschmutzen': 8916, 'bekennenden': 8917, 'dorftrottel': 8918, 'heimlich': 8919, 'gruner': 8920, 'fuehrungsoffizier': 8921, 'sandmann': 8922, 'diabodcalcinha': 8923, 'allererste': 8924, 'godoticus': 8925, 'dva': 8926, 'buntfront': 8927, 'elbmerle': 8928, 'hesse': 8929, 'spue': 8930, 'foermlich': 8931, 'lebenszeit': 8932, 'romantischem': 8933, 'nonsens': 8934, 'entzogen': 8935, 'read': 8936, 'empfehlungen': 8937, 'fang': 8938, 'naomi': 8939, 'dawkins': 8940, 'delusion': 8941, 'schlegels': 8942, 'athenaeum': 8943, 'zeitschriften': 8944, 'daniela': 8945, 'dahn': 8946, 'kuczynskis': 8947, 'urenkel': 8948, 'soya': 8949, 'trinken': 8950, 'schaedlicher': 8951, 'cato': 8952, 'sachlichkeit': 8953, '0001f3fe': 8954, '2640': 8955, 'fettig': 8956, 'krebserregend': 8957, 'lipsi': 8958, 'beisammen': 8959, 'neostalinismus': 8960, 'personenkult': 8961, 'bw': 8962, 'sturmgeistnbk': 8963, 'romantik': 8964, 'schnurzforscher': 8965, 'ggn': 8966, 'tofu': 8967, 'diet': 8968, 'diabetiker': 8969, 'runterkippen': 8970, 'nachhaltige': 8971, 'loesungen': 8972, 'smog': 8973, 'vapen': 8974, 'menners': 8975, 'bundeslaender': 8976, 'religionsunterricht': 8977, 'tregolb': 8978, 'annahebt': 8979, 'atomkraftgegnern': 8980, 'filmtitel': 8981, 'sigmar': 8982, 'gabriel': 8983, 'schwefelsaeureregen': 8984, 'verursachten': 8985, 'nieder': 8986, 'keinerbrauchtumweltschutz': 8987, 'etiamsiomnes1': 8988, 'seelenkram': 8989, 'versteh': 8990, 'karnevalsverein': 8991, 'endzeitkind': 8992, 'store': 8993, 'ec': 8994, 'appeal': 8995, 'gings': 8996, 'ragsstaerkere': 8997, 'anlageformen': 8998, 'gebundenen': 8999, 'tauscht': 9000, 'kommst': 9001, 'jederzeit': 9002, 'autokonto': 9003, 'kurzfristig': 9004, 'verfuegbaren': 9005, 'giro': 9006, 'konstante': 9007, 'autokosten': 9008, 'hu': 9009, 'benutze': 9010, 'strukturierung': 9011, 'ruecklage': 9012, 'mennersindapfel': 9013, 'zeitzone': 9014, 'vermisse': 9015, 'germanpsycho': 9016, 'dielinke': 9017, 'oftmals': 9018, 'rl': 9019, 'entwerfen': 9020, 'derailen': 9021, 'vaxxern': 9022, 'rumrennen': 9023, 'uebliche': 9024, 'vorkommt': 9025, 'deutet': 9026, 'kram': 9027, 'gelbwestigkeit': 9028, 'heterogen': 9029, 'mic': 9030, 'men': 9031, 'materielle': 9032, 'fetzens': 9033, 'zwecke': 9034, 'blinke': 9035, 'leds': 9036, 'soziolekt': 9037, 'unsicher': 9038, 'fehlende': 9039, 'sonstige': 9040, 'rechtschreib': 9041, 'grammatikfehler': 9042, 'nachzusehen': 9043, 'geladen': 9044, 'guy': 9045, 'fawkes': 9046, 'reininterpretieren': 9047, 'passendes': 9048, 'stattdessen': 9049, 'gelbwestenkacke': 9050, 'naeh': 9051, 'diffusen': 9052, 'ungerichteten': 9053, 'unzufriedenheit': 9054, 'problematischen': 9055, 'unorganisie': 9056, 'flyer': 9057, 'keins': 9058, 'ausgedacht': 9059, 'hochgehalten': 9060, 'anzuenden': 9061, 'loehne': 9062, 'kontaktes': 9063, 'impfstoffen': 9064, 'kapie': 9065, 'inhaltsloses': 9066, 'gebrauchbar': 9067, 'missbrauchbar': 9068, 'versammelt': 9069, 'banner': 9070, 'inhaltsleer': 9071, 'grundschullehrer': 9072, 'entlohnung': 9073, 'hobbyautoanzuender': 9074, 'befuerchtungen': 9075, 'selbstbestaetigung': 9076, 'resultie': 9077, 'reumuetig': 9078, 'namige': 9079, 'sabine': 9080, 'leutheusser': 9081, 'schnarrenberger': 9082, 'wotan': 9083, 'moehre': 9084, 'wilking': 9085, 'hiess': 9086, 'zeitepisode': 9087, 'laege': 9088, 'details': 9089, '1930': 9090, 'adapter': 9091, 'tho': 9092, 'typischerweise': 9093, 'geuebten': 9094, 'kaperern': 9095, 'guyfawkesmask': 9096, 'gelbewesten': 9097, 'katastrophentouristen': 9098, 'verzapft': 9099, 'legitmation': 9100, 'von': 9101, 'dramatische': 9102, 'mediale': 9103, 'auffueh': 9104, 'penetrant': 9105, 'politvollhonk': 9106, 'universitaetsstadt': 9107, 'zentrum': 9108, 'wue': 9109, 'temberg': 9110, 'neckar': 9111, 'kilometer': 9112, 'suedlich': 9113, 'stuttga': 9114, 'fantasierenden': 9115, 'boris': 9116, 'bugspriet': 9117, 'len': 9118, '1977': 9119, 'hinwies': 9120, 'nachrichtenwe': 9121, 'abseitigen': 9122, 'werfe': 9123, 'unueberlegtes': 9124, 'followback': 9125, 'feedly': 9126, 'vierstelligen': 9127, 'traffic': 9128, 'spike': 9129, 'reader': 9130, 'abgekuendigt': 9131, 'scalable': 9132, 'webservices': 9133, 'architekturieren': 9134, 'schmittlauch': 9135, 'pronquellen': 9136, 'tumblra': 9137, 'mastodon': 9138, 'kopie': 9139, 'mumus': 9140, 'penen': 9141, 'champignon': 9142, 'baguettes': 9143, 'behaupte': 9144, 'risiken': 9145, 'vielfaches': 9146, 'dax': 9147, 'investitionszeitraum': 9148, 'schatzbrief': 9149, 'outperformed': 9150, 'nervoes': 9151, 'aktieninvestitionen': 9152, 'level': 9153, 'kostolany': 9154, 'postulie': 9155, 'genuegsam': 9156, 'ordentliche': 9157, 'rendite': 9158, 'schwerfallen': 9159, 'performance': 9160, 'mentalitaetsproblem': 9161, 'hinaus': 9162, 'casino': 9163, 'gluecksspiel': 9164, 'grob': 9165, 'vorhersagbar': 9166, 'uli': 9167, 'hoeness': 9168, 'einnahmen': 9169, 'hatten': 9170, 'bausparve': 9171, 'rauskomme': 9172, 'aktienpo': 9173, 'folio': 9174, 'anstrengen': 9175, 'unterbieten': 9176, 'grauenhaft': 9177, 'furchtbar': 9178, 'potentiellen': 9179, 'nachfolger': 9180, 'steuerrelevantes': 9181, 'entnahme': 9182, 'erziehlten': 9183, 'kursspruenge': 9184, 'finanzamt': 9185, 'nachvollziehbar': 9186, 'schleppen': 9187, 'verbrennen': 9188, 'negativzinsen': 9189, 'allerkleinste': 9190, 'risiko': 9191, 'einzugehen': 9192, 'sparbuch': 9193, 'gesellschaftliches': 9194, 'boersophobie': 9195, 'everything': 9196, 'never': 9197, 'bothered': 9198, 'understand': 9199, 'witchcraft': 9200, 'boerse': 9201, 'zockerei': 9202, 'schimpfte': 9203, 'kaufte': 9204, 'woechentlichen': 9205, 'starstruck': 9206, 'andererseits': 9207, 'this': 9208, 'koerperlichen': 9209, 'koerperliche': 9210, 'exquisit': 9211, 'muskelkater': 9212, 'abzusaufen': 9213, 'tipps': 9214, 'panikattacken': 9215, 'umgehen': 9216, 'gravierend': 9217, 'uebung': 9218, 'setz': 9219, 'gepresst': 9220, 'keuchend': 9221, 'abbrichst': 9222, 'faengst': 9223, 'kuerzester': 9224, 'verausgabt': 9225, 'liege': 9226, 'fuerchtest': 9227, 'later': 9228, 'now': 9229, 'heb': 9230, 'millimeter': 9231, 'modus': 9232, 'irgendwohin': 9233, 'panikreaktion': 9234, 'verausgaben': 9235, 'austicken': 9236, 'taktik': 9237, 'pfuideifipegida': 9238, 'zig': 9239, 'grinsefratz': 9240, 'dreinschaut': 9241, 'ueberfaeh': 9242, 'einstelligen': 9243, 'jahreszahl': 9244, 'please': 9245, 'seiend': 9246, 'gruselige': 9247, 'politikuesse': 9248, 'nacheifern': 9249, 'werben': 9250, 'bestaetigen': 9251, 'vorhaltungen': 9252, 'billigstes': 9253, 'nachtreten': 9254, 'mandat': 9255, 'ausgetretenen': 9256, 'zurueckfordern': 9257, 'piraten': 9258, 'things': 9259, 'verwurzelt': 9260, 'eigrenzen': 9261, 'hinweg': 9262, 'ueberein': 9263, 'engagement': 9264, 'munder': 9265, 'nachgesagt': 9266, 'pisselwahlkreis': 9267, 'spdler': 9268, 'gewinnt': 9269, 'gonna': 9270, 'agree': 9271, 'lagen': 9272, 'betreten': 9273, 'rasens': 9274, 'regierungsgebaeude': 9275, 'begnuegt': 9276, 'zebrastreifen': 9277, 'lunte': 9278, 'ueberfahren': 9279, 'linux': 9280, 'lutris': 9281, 'wine': 9282, 'einigermassen': 9283, 'cinnamon': 9284, 'geschmacksrichtung': 9285, 'browser': 9286, 'marcellusfluten': 9287, 'nordseekueste': 9288, '500bc': 9289, 'historisch': 9290, 'akkurate': 9291, 'kuestenlinien': 9292, 'meinneuespetpeeve': 9293, 'lehrer': 9294, 'garderobenfee': 9295, 'entdeckte': 9296, 'waldfutzi': 9297, 'minder': 9298, 'gepaeppelt': 9299, 'dazugelernt': 9300, 'konkurrenzmafia': 9301, 'gewechselt': 9302, 'saubloed': 9303, 'erholst': 9304, 'rechtzeitig': 9305, 'nachgesehen': 9306, 'mafia': 9307, 'razul': 9308, 'allah': 9309, 'unteilbar': 9310, 'atomar': 9311, 'laengs': 9312, 'quer': 9313, 'denkanstoesse': 9314, 'hmilz': 9315, 'gelegenheiten': 9316, 'peinliche': 9317, 'rechtschreibfeeler': 9318, 'problematash': 9319, 'abgebogen': 9320, 'korrigie': 9321, 'beschleunigt': 9322, 'smh': 9323, 'lieblingsrestaurant': 9324, 'fantastische': 9325, 'salatbar': 9326, 'igem': 9327, 'french': 9328, 'dressing': 9329, '202f': 9330, 'billigmarke': 9331, 'metro': 9332, 'betretenv': 9333, 'zweiter': 9334, 'weltkriegs': 9335, 'shooter': 9336, 'gluecklicherweise': 9337, 'bedenklich': 9338, 'teh': 9339, 'asak': 9340, 'umbiegen': 9341, 'brueskie': 9342, 'zurueckzutreten': 9343, 'stimmungsschwankungen': 9344, 'promoted': 9345, 'gewunken': 9346, 'ueberholt': 9347, 'tierisch': 9348, 'begrifflichkeiten': 9349, 'tonne': 9350, 'statistisch': 9351, 'ausreisst': 9352, 'formulie': 9353, 'multimilliardaere': 9354, 'diskrimimi': 9355, 'rdr2': 9356, 'suffragette': 9357, 'auffe': 9358, 'gleise': 9359, 'fotiama': 9360, 'fummelig': 9361, 'manschettenknoepfe': 9362, 'eleganz': 9363, 'trinkspiel': 9364, 'headline': 9365, '2020': 9366, 'ruhestand': 9367, 'hurrakoala': 9368, 'doubt': 9369, 'pennen': 9370, 'newborl': 9371, 'nachbarin': 9372, 'markerschuetternden': 9373, 'neiiiiiiiiiiiiiiiiiiiiin': 9374, 'schrei': 9375, 'neun': 9376, 'schob': 9377, 'kinderwagen': 9378, 'samaelfalkner': 9379, 'bueckling': 9380, 'famos': 9381, 'schmeckte': 9382, 'waelzens': 9383, 'hitzewallungen': 9384, 'ausloeste': 9385, 'moege': 9386, 'ergehen': 9387, 'ekstatische': 9388, 'wonne': 9389, 'gefaketes': 9390, 'ueberzeugen': 9391, 'bombe': 9392, 'gegroehle': 9393, 'benennt': 9394, 'wlan': 9395, 'ssid': 9396, 'leiser': 9397, 'poilkjh3': 9398, 'twitterkreis': 9399, 'einhorn': 9400, 'hollarius': 9401, 'trailchem': 9402, 'monongahelaex': 9403, 'kapuzendeppen': 9404, 'rockten': 9405, 'tiefgruende': 9406, 'analysen': 9407, 'darfste': 9408, 'diskussionswuerdig': 9409, 'adeln': 9410, 'bagage': 9411, 'pathologische': 9412, 'pathologisch': 9413, 'male': 9414, 'understen': 9415, 'antifaschist': 9416, 'fruchtbar': 9417, 'verkopfte': 9418, 'theoretische': 9419, 'abhandlung': 9420, 'verletzend': 9421, 'stehst': 9422, 'linksaussen': 9423, 'wovon': 9424, 'troeste': 9425, 'young': 9426, 'speak': 9427, 'waffel': 9428, 'althergebrachten': 9429, 'ideen': 9430, 'isolationismus': 9431, 'globalismus': 9432, 'machtkampf': 9433, 'toblerone': 9434, 'haram': 9435, 'pausenraum': 9436, 'gleichem': 9437, 'mitarbeiterbauch': 9438, 'zeitungsjunge': 9439, 'registrie': 9440, 'fl01': 9441, 'einem': 9442, 'beheben': 9443, 'brueckenhaltezaehne': 9444, 'heile': 9445, 'schmerzfrei': 9446, 'dauerschmerzen': 9447, 'schluck': 9448, 'ur': 9449, 'ausgediente': 9450, 'verschifft': 9451, 'richtwe': 9452, 'verkorkste': 9453, 'versagerexistenz': 9454, 'komplexe': 9455, 'schwaecheren': 9456, 'auslebt': 9457, 'vornamen': 9458, 'kirsche': 9459, 'warschauerghetto': 9460, 'weisste': 9461, 'ennolenze': 9462, 'brieftraeger': 9463, 'paketzusteller': 9464, 'gekriegt': 9465, 'vorhaette': 9466, 'justiz': 9467, 'vorjaulen': 9468, 'strafmildernd': 9469, 'ballaballa': 9470, 'anche': 9471, 'breitscheidtplatz': 9472, 'endeten': 9473, 'gesichtslose': 9474, 'blutige': 9475, 'jihadisten': 9476, 'angekuendigt': 9477, 'weltfremden': 9478, 'sozialarbeitern': 9479, 'eigenstaendig': 9480, 'expo': 9481, 'heisszeit': 9482, 'ministerium': 9483, 'dummdeutsches': 9484, 'aussem': 9485, 'arbeitsamt': 9486, 'liebend': 9487, 'riegelte': 9488, 'nachwuchs': 9489, 'bastelt': 9490, 'projekt': 9491, 'verschwanden': 9492, 'versenkung': 9493, 'gewohnt': 9494, 'beschissenen': 9495, 'beerdigungen': 9496, 'freikriegen': 9497, 'kerngesund': 9498, 'mitgekriegt': 9499, 'amiad': 9500, 'yisrael': 9501, 'baruch': 9502, 'dayan': 9503, 'emet': 9504, 'chefir': 9505, 'amri': 9506, 'loechrig': 9507, 'grenzkontrollen': 9508, 'jerusalem': 9509, 'uebern': 9510, 'berg': 9511, 'gebetet': 9512, 'besserung': 9513, 'shiras': 9514, 'fluechten': 9515, 'terrorparadiese': 9516, 'amihai': 9517, 'verstorbenen': 9518, 'mama': 9519, 'koma': 9520, 'lilar': 9521, 'standwithus': 9522, 'endlose': 9523, 'ofra': 9524, 'notop': 9525, 'gebrachte': 9526, 'verstorben': 9527, 'chefrepo': 9528, 'ernrw': 9529, 'arabischsprachigen': 9530, 'gaben': 9531, 'vollstaendige': 9532, 'joergklose': 9533, 'strengen': 9534, 'auflagen': 9535, 'strengere': 9536, 'bkrede': 9537, 'raetselt': 9538, 'motiv': 9539, 'tatverdaechtigen': 9540, 'vermieden': 9541, 'gestoppt': 9542, 'ermittler': 9543, 'lagern': 9544, 'algerischer': 9545, 'familienname': 9546, 'islamistischer': 9547, 'family': 9548, 'taxilizenz': 9549, 'gefahndet': 9550, 'adel': 9551, 'chekkat': 9552, 'fluchthelfer': 9553, 'aussehende': 9554, 'paldf': 9555, 'gewarnt': 9556, 'dergermane22': 9557, 'ungsvolle': 9558, 'ehem': 9559, 'unsichtbar': 9560, 'bergen': 9561, 'gesichtsloser': 9562, 'identifizieren': 9563, 'israelische': 9564, 'uebt': 9565, 'jackentasche': 9566, 'unfall': 9567, 'unklar': 9568, 'fluchtwagen': 9569, 'fluchttaxi': 9570, 'funde': 9571, 'hausdurchsuchung': 9572, 'yetimuc': 9573, 'sinnvoll': 9574, 'ausgeruesteten': 9575, 'wohlfuehlfaktor': 9576, 'weihnachtsmarktbesucher': 9577, 'wohnungsdurchsuchung': 9578, 'bevoelkerungszahl': 9579, 'zugewiesen': 9580, 'eilerschluessel': 9581, 'shlomosapiens': 9582, 'neudorf': 9583, 'durchsucht': 9584, 'granaten': 9585, 'hoehere': 9586, 'sicherheitsvorkehrungen': 9587, 'ueberraschendes': 9588, 'eingestuft': 9589, 'observie': 9590, 'gutdeutsch': 9591, 'notarzt': 9592, 'schmerzmittel': 9593, 'schmerzensschreie': 9594, 'wimmern': 9595, 'mind': 9596, 'nu': 9597, 'min': 9598, 'versorgt': 9599, 'ueberlebenschance': 9600, 'rollstuhl': 9601, 'stefanleife': 9602, 'fluechtige': 9603, 'polizeibekannt': 9604, 'terroraktivitaeten': 9605, 'luftballons': 9606, 'liedtext': 9607, 'lobpreist': 9608, 'gdp': 9609, '3x': 9610, 'saarland': 9611, 'halbmond': 9612, 'ws': 9613, 'versuchte': 9614, 'terroranschlaege': 9615, 'kaempft': 9616, 'doedeln': 9617, 'verunglimpft': 9618, 'irak': 9619, 'verdursten': 9620, 'waffelleisen': 9621, 'gelistet': 9622, 'blockierenden': 9623, 'antisemit': 9624, 'aeusserlichen': 9625, 'gewalteinwirkung': 9626, 'spontanen': 9627, 'rettungskraeften': 9628, 'ermittlern': 9629, 'kindes': 9630, 'seelisch': 9631, 'verarbeiten': 9632, 'taetersuche': 9633, 'cafe': 9634, 'ramallah': 9635, 'beschlagnahmten': 9636, 'aufnahmen': 9637, 'sicherheitskameras': 9638, 'ausgewe': 9639, 'fremde': 9640, 'umkehr': 9641, 'trollen': 9642, 'moechtest': 9643, 'unrechtsbewusstsein': 9644, 'missverstaendliche': 9645, 'stuendest': 9646, 'blockliste': 9647, 'hinnehmen': 9648, 'runternehmen': 9649, 'ehrlicher': 9650, 'verdrehen': 9651, 'abtun': 9652, 'erzaehl': 9653, 'stabil': 9654, 'notkaiserschnitt': 9655, 'neurologische': 9656, 'folgeschaeden': 9657, 'befuerchtet': 9658, 'linksdoedel': 9659, 'arischem': 9660, 'geltungsdrang': 9661, 'unterschicht': 9662, 'schwangere': 9663, 'kritischem': 9664, 'verschlechte': 9665, 'malinahamburg': 9666, 'worse': 9667, 'diffamieren': 9668, 'gehweg': 9669, 'haltestelle': 9670, 'linksdeutschen': 9671, 'gelte': 9672, 'solle': 9673, 'frankreichs': 9674, 'einmischen': 9675, 'obama': 9676, 'wahlkampf': 9677, 'unterstuetzte': 9678, 'gejubelt': 9679, 'seh': 9680, 'randalierer': 9681, 'pluenderer': 9682, 'fanboys': 9683, 'miteinander': 9684, 'behoerde': 9685, 'pr': 9686, 'bedarf': 9687, 'taetschler': 9688, 'gewalttaetigen': 9689, 'brutalen': 9690, 'allmachtsphantasien': 9691, 'wehrlose': 9692, 'broschuere': 9693, 'wohlstandsuebersaettigte': 9694, 'micro': 9695, 'penisse': 9696, 'nano': 9697, 'teilchen': 9698, 'slecq': 9699, 'supermarkt': 9700, 'personalkleidung': 9701, 'umsetzen': 9702, 'stattfindenden': 9703, 'verlust': 9704, 'saemtlicher': 9705, 'manfred': 9706, 'weber': 9707, 'buergerkriegsaehnliche': 9708, 'ueberschwappt': 9709, 'erotischer': 9710, 'stutzig': 9711, 'bissel': 9712, 'vorsitzender': 9713, 'angelaulrichrbb': 9714, 'bab': 9715, 'altermananne': 9716, 'pittsburgh': 9717, 'neuerdings': 9718, 'trennung': 9719, 'obdachloser': 9720, 'klimaaktivisten': 9721, 'religioes': 9722, 'oefftl': 9723, 'raeglich': 9724, 'stabilitaet': 9725, 'internets': 9726, 'sophie': 9727, 'passmann': 9728, 'sds': 9729, 'deutschlandbekaempfender': 9730, 'studentenhasserbund': 9731, 'aas': 9732, 'bolschewistischem': 9733, 'einleiten': 9734, 'skepsis': 9735, 'angebracht': 9736, 'einklang': 9737, '233': 9738, 'sowjetischen': 9739, 'absicht': 9740, 'rotem': 9741, 'geleugnet': 9742, 'anwalts': 9743, 'taetig': 9744, 'maskottchen': 9745, 'ablichten': 9746, 'aufrief': 9747, 'astra': 9748, 'futurae': 9749, 'spar': 9750, '800': 9751, 'pullach': 9752, 'faschistenvergangenheit': 9753, 'linksdeutsch': 9754, 'suedamerika': 9755, 'classless': 9756, 'kuella': 9757, 'deckt': 9758, 'tapfer': 9759, 'twittergrossmaul': 9760, 'eingeloggt': 9761, 'ernennt': 9762, 'ernenne': 9763, 'verifizieren': 9764, 'kolonialherren': 9765, 'grosskapital': 9766, 'geputscht': 9767, 'sexist': 9768, 'rechtspopulist': 9769, 'fanatischer': 9770, 'russlandhasser': 9771, 'barkeeper': 9772, 'niewendirk': 9773, 'entsichern': 9774, 'bombensicheren': 9775, 'unterstand': 9776, 'gl': 9777, '215': 9778, 'if': 9779, 'essential': 9780, 'his': 9781, 'books': 9782, 'drunterkommentieren': 9783, 'steh': 9784, 'romantischer': 9785, 'geschulte': 9786, 'calling': 9787, 'ns': 9788, 'verherrlichen': 9789, 'goenn': 9790, 'freier': 9791, 'planwi': 9792, 'bdi': 9793, 'springerkonzern': 9794, 'freedeniz': 9795, 'lyzianer': 9796, 'bolschewisten': 9797, 'pascal': 9798, 'philosoph': 9799, 'bekaempfung': 9800, 'ruhrbarone': 9801, 'marxologen': 9802, 'aeusserungen': 9803, 'buechern': 9804, 'haeufigen': 9805, 'selbstverstaendnis': 9806, 'metropolenlinken': 9807, 'kluge': 9808, 'druebersteher': 9809, 'abgrenzung': 9810, 'dkp': 9811, 'kleinstadt': 9812, 'proleten': 9813, 'schlusssatz': 9814, 'teilung': 9815, 'tapfere': 9816, 'vandalen': 9817, 'ausdrucksweise': 9818, 'leistungsfaehigkeit': 9819, 'ableism': 9820, 'rechercheprofi': 9821, 'unmuendigen': 9822, 'spinnern': 9823, 'enfeindlich': 9824, 'raetecommuenisten': 9825, 'bourgie': 9826, 'gechillt': 9827, 'kopiere': 9828, 'antisemitischen': 9829, 'vollverbloedeten': 9830, 'grosza': 9831, 'feat': 9832, 'widerspruechliche': 9833, 'unkritisch': 9834, 'stalinistischen': 9835, 'bekenne': 9836, 'gruendung': 9837, 'macha': 9838, 'handballspiel': 9839, 'lieblingsnazis': 9840, 'schlaflosen': 9841, 'abfaerbt': 9842, 'schlaftabletten': 9843, 'versuche': 9844, 'prost': 9845, 'diskussionsveranstaltung': 9846, 'denkens': 9847, 'wien': 9848, 'hoersaal': 9849, 'mg': 9850, 'universitaetsstr': 9851, '88': 9852, 'bourgiemuellabsonderungsbeduerfnis': 9853, 'therapeutischen': 9854, 'arbeitskampf': 9855, 'vergleichsweise': 9856, 'hohen': 9857, 'sozialhilfeleistungen': 9858, 'heer': 9859, 'arbeitslosen': 9860, 'dauer': 9861, 'ruhigstellen': 9862, 'laecherlichster': 9863, 'betrieben': 9864, 'incl': 9865, 'verblendeter': 9866, 'followerschaft': 9867, 'vmtl': 9868, 'huberchef': 9869, 'goy': 9870, 'keyboardwarrior': 9871, 'absolutistische': 9872, 'nostalgie': 9873, 'eliaskindl': 9874, 'unteilbare': 9875, 'liberalismus': 9876, 'koenigskoerper': 9877, 'thomas': 9878, 'schmitz': 9879, 'einzukaufen': 9880, 'unfug': 9881, 'marxsche': 9882, 'obgleich': 9883, 'deformation': 9884, 'denkformen': 9885, 'widerlegung': 9886, 'sym': 9887, 'umgegangen': 9888, 'linkspopulistischen': 9889, 'lesern': 9890, 'emanzipatorisch': 9891, 'klassischen': 9892, 'antike': 9893, 'kant': 9894, 'allenfalls': 9895, 'heidegger': 9896, 'studium': 9897, 'unbefriedigend': 9898, 'zunehmend': 9899, 'befremdlich': 9900, 'befreiend': 9901, 'tust': 9902, 'philblog17': 9903, 'reaction': 9904, 'linksdeutsche': 9905, 'volksabfall': 9906, 'moralmuell': 9907, 'geschichtsklitternd': 9908, 'wh': 9909, 'psychoanalytiker': 9910, 'darwinisten': 9911, 'ineressieren': 9912, 'aufgestanden': 9913, 'leo': 9914, 'trotzki': 9915, 'agent': 9916, 'luther': 9917, 'juergen': 9918, 'moellemann': 9919, 'george': 9920, 'orwell': 9921, 'fascist': 9922, 'ebe': 9923, 'stalinists': 9924, 'meister': 9925, 'eckha': 9926, 'lady': 9927, 'gaga': 9928, 'molko': 9929, 'sigmund': 9930, 'freud': 9931, 'wieland': 9932, '108': 9933, 'kameradschaft': 9934, 'gespendet': 9935, 'baseballschlaeger': 9936, 'vergesellschaften': 9937, 'besiegen': 9938, 'kokstaxi': 9939, 'drogenmafia': 9940, 'rumlungern': 9941, 'geblaette': 9942, 'ueberschaetzt': 9943, 'brillianter': 9944, 'machtpolitiker': 9945, 'trefflich': 9946, 'kullisti': 9947, 'einbruch': 9948, 'vorueber': 9949, 'gluecklich': 9950, 'politbuero': 9951, 'tageszeitung': 9952, 'leiten': 9953, 'verlage': 9954, 'chrisgoldapp': 9955, 'achten': 9956, 'hilfsverbs': 9957, 'konjunktiv': 9958, 'ii': 9959, 'kehrseite': 9960, 'leftcoms': 9961, 'utopisten': 9962, 'ultra': 9963, 'zusaetze': 9964, 'genosse': 9965, 'robespierre': 9966, 'unterbreitet': 9967, 'matzetthias': 9968, 'gegenmuell': 9969, 'rechtsantideutschen': 9970, 'koepfe': 9971, 'sprengstoffgue': 9972, 'christmette': 9973, 'geschenke': 9974, 'bloederweise': 9975, 'nazifamilie': 9976, 'aufknuepfen': 9977, 'sarah': 9978, 'wagenknecht': 9979, 'hummer': 9980, 'bildzeitung': 9981, 'erscheint': 9982, 'serioeser': 9983, 'kaempfer': 9984, 'julian': 9985, 'kofferraum': 9986, 'soeben': 9987, 'dunkler': 9988, 'aermer': 9989, 'hoffnungsloser': 9990, 'krokusfunk': 9991, 'cigi': 9992, 'kolonialisierung': 9993, 'studentenhirne': 9994, 'poptheorie': 9995, 'diskussionsrunden': 9996, 'hervorbringende': 9997, 'genatzt': 9998, 'gestapo': 9999, 'arsckriecherische': 10000, 'kleinbuerger': 10001, 'image': 10002, 'aergere': 10003, 'victor': 10004, 'ifg': 10005, 'sozialis': 10006, 'ungueltig': 10007, 'scharenweise': 10008, 'westpropaganda': 10009, 'reingefallen': 10010, 'russen': 10011, 'erfolge': 10012, 'antiautoritaeren': 10013, 'mitschreiben': 10014, 'katrin': 10015, 'goering': 10016, 'resignation': 10017, 'anadasmos': 10018, 'jedweder': 10019, 'uninteressie': 10020, 'vorstellungen': 10021, 'auszusetzen': 10022, 'einfallsreich': 10023, 'geregelt': 10024, 'aufeinander': 10025, 'erfolgsargument': 10026, 'unterwirft': 10027, 'argumentform': 10028, 'diesem': 10029, 'scheissverein': 10030, 'beigetragen': 10031, 'beleidigte': 10032, 'aufforderung': 10033, 'gleichzutun': 10034, 'hrsg': 10035, 'studentengruppe': 10036, 'bielefeld': 10037, 'anstalten': 10038, 'sprallos': 10039, 'benutzten': 10040, 'enta': 10041, 'feindbild': 10042, 'reitet': 10043, 'abgeschobener': 10044, 'machthaber': 10045, 'gemaessigten': 10046, 'tyrannei': 10047, 'wurdest': 10048, 'juedisch': 10049, 'weltverschwoerung': 10050, 'antideutscher': 10051, 'intellektueller': 10052, 'islamisch': 10053, 'stalinistische': 10054, 'despotie': 10055, 'intellektuellenfluegel': 10056, 'kreuzzuege': 10057, 'emanzipatorisches': 10058, 'potential': 10059, 'muselmanischen': 10060, 'ausgeschoepft': 10061, 'restvernunft': 10062, 'korrektur': 10063, 'politsekte': 10064, 'hayeks': 10065, 'kriegstreiber': 10066, 'angriffskriege': 10067, 'wuppe': 10068, 'aler': 10069, 'pleitier': 10070, 'reserveoffizier': 10071, 'luftwaffe': 10072, 'massenhafte': 10073, 'herstellung': 10074, 'guillotinen': 10075, 'jobmotor': 10076, 'maerkte': 10077, 'blutbad': 10078, 'zuegig': 10079, 'unbuerokratisch': 10080, 'gesponse': 10081, 'interessenverband': 10082, 'galgenbauer': 10083, 'acrons': 10084, 'schlaeger': 10085, 'liebsten': 10086, 'staatschef': 10087, 'blogspo': 10088, 'klage': 10089, 'apple': 10090, 'stores': 10091, 'gestaltet': 10092, 'klauen': 10093, 'steve': 10094, 'kommunistischer': 10095, 'seinundseid': 10096, 'arno': 10097, 'ziehe': 10098, 'berkmyn': 10099, 'rassistisches': 10100, 'performt': 10101, 'helft': 10102, 'lsys': 10103, 'palast': 10104, 'mosedlak': 10105, 'oppositionellen': 10106, 'grossmacht': 10107, 'bewaffnet': 10108, 'pusht': 10109, 'schlankerbronze': 10110, 'barrierefreie': 10111, 'krah': 10112, 'emmanuelmacron': 10113, 'geordneten': 10114, 'machtwechsel': 10115, 'unnoetiges': 10116, 'vergossen': 10117, 'truppen': 10118, 'zuschaut': 10119, 'einzugreifen': 10120, 'terrorisie': 10121, 'bomber': 10122, 'beschaemend': 10123, 'benennen': 10124, 'jakobiner': 10125, 'jupi1948': 10126, 'europaistdieantwo': 10127, 'lily': 10128, 'suri': 10129, 'seli': 10130, 'proletarier': 10131, 'voice': 10132, 'iamlondrenz': 10133, 'marxisten': 10134, 'bibeln': 10135, 'ohne': 10136, 'dialektik': 10137, 'bewegte': 10138, 'ohnehin': 10139, 'auftragsarbeit': 10140, 'strammerer': 10141, 'ideologe': 10142, 'theater': 10143, 'estand': 10144, 'qualitaetsjournalisten': 10145, 'verzweifelten': 10146, 'ohnmaechtiger': 10147, 'aufstaende': 10148, 'grossstaedten': 10149, 'rassenunruhen': 10150, 'nminkmar': 10151, 'goennst': 10152, 'personenschutz': 10153, 'garantierst': 10154, 'rechtssicherheit': 10155, 'bolschewistischen': 10156, 'klarnamen': 10157, 'posten': 10158, 'franzoesischer': 10159, 'geistlicher': 10160, '1788': 10161, 'gelaendewagen': 10162, 'werft': 10163, 'kopfschmerzen': 10164, 'cia': 10165, 'steuerberater': 10166, 'aufsichtsratschefs': 10167, 'bwl': 10168, 'professoren': 10169, 'leita': 10170, 'ikelschreiber': 10171, 'geregeltes': 10172, 'arbeitsleben': 10173, 'bourgeois': 10174, 'gulagalschance': 10175, 'freundliche': 10176, 'leseempfehlung': 10177, 'minkmar': 10178, 'strang': 10179, 'proletariat': 10180, 'cis': 10181, 'ungleich': 10182, 'heiko': 10183, 'memel': 10184, 'chefredakteur': 10185, 'reichsarbeitsdienst': 10186, 'gehirne': 10187, 'weltgeist': 10188, 'funktionierende': 10189, 'anzuenderei': 10190, 'sturz': 10191, 'gilets': 10192, 'jaunes': 10193, 'liegerad': 10194, 'kolumne': 10195, 'hassend': 10196, '34': 10197, 'reparatur': 10198, 'macbook': 10199, 'weltgeistbande': 10200, 'novemberrevolution': 10201, 'zufall': 10202, 'argumende': 10203, 'kreuzchen': 10204, 'aimanmazyek': 10205, 'betraue': 10206, 'runkende': 10207, 'durchsuchen': 10208, 'muelleimer': 10209, 'schaftsmigranten': 10210, 'heizungen': 10211, 'aufdrehen': 10212, 'gefuehlskarussell': 10213, 'walten': 10214, 'migrationshintergrund': 10215, 'lsteinwandter': 10216, 'boykottieren': 10217, 'ungemuetlicher': 10218, 'zehntausende': 10219, 'randnotiz': 10220, 'luegens': 10221, 'klimaschutz': 10222, 'gegaengelt': 10223, 'geldregen': 10224, 'teuren': 10225, 'wirkungslos': 10226, 'achillesferse': 10227, 'befragt': 10228, 'verplappe': 10229, 'tauglich': 10230, 'bemerken': 10231, 'schulbank': 10232, 'aufmerksamen': 10233, 'beliebtheitsskala': 10234, 'blicken': 10235, 'offenherzig': 10236, 'auslaenderkriminalitaet': 10237, 'jahrzehntelang': 10238, 'weggesehen': 10239, 'resultat': 10240, 'unkontrollierbare': 10241, 'wegsehen': 10242, 'angeordnet': 10243, 'wunsch': 10244, 'aufzugeben': 10245, 'zentralregierung': 10246, 'ueberzugehen': 10247, 'verfolgen': 10248, 'nationalstaaten': 10249, 'inquisition': 10250, 'kipping': 10251, 'durchhalten': 10252, 'kreuzfeuer': 10253, 'beobachtung': 10254, 'igt': 10255, 'unbeabsichtigte': 10256, 'wahlkampfunterstuetzung': 10257, 'wandazietz': 10258, 'knechten': 10259, 'wirksam': 10260, 'kleinere': 10261, 'schuldkomplex': 10262, 'aktivieren': 10263, 'runken': 10264, 'fiktive': 10265, 'aufgefrischt': 10266, 'erschreckend': 10267, 'addie': 10268, 'blondjedi': 10269, 'dunkle': 10270, 'zugehoe': 10271, 'runterzukommen': 10272, '0001f92c': 10273, 'tempolimits': 10274, 'erschliessen': 10275, 'hinzu': 10276, 'teilbereiche': 10277, 'fahrzeug': 10278, 'jenseits': 10279, '130km': 10280, 'eigenlob': 10281, 'amtierende': 10282, 'steif': 10283, 'derselbigen': 10284, 'erlebte': 10285, 'anstiftung': 10286, '0001f62c': 10287, 'einwanderung': 10288, 'einzufuehren': 10289, 'mosaik': 10290, 'vervollstaendigt': 10291, 'eingeschossen': 10292, 'negativ': 10293, 'hervorzuheben': 10294, 'taeuscht': 10295, 'neutral': 10296, 'autofahrern': 10297, 'abzuschaffen': 10298, 'quetscht': 10299, 'spritpreis': 10300, 'aktuellem': 10301, 'bedrohungslage': 10302, 'beschaeftigt': 10303, 'wahrscheinlichste': 10304, 'fcmmicha1': 10305, 'blamie': 10306, 'gesellschafft': 10307, 'highlights': 10308, 'bachelor': 10309, 'dschungelcamp2019': 10310, 'muelltonnen': 10311, 'wuehlen': 10312, '0001f641': 10313, 'zenit': 10314, 'scharia': 10315, 'besitzen': 10316, 'wochenlange': 10317, 'ziv': 10318, 'beneidet': 10319, 'weinen': 10320, 'haeufiger': 10321, 'bekannte': 10322, 'tauchen': 10323, 'verfassungsschutzchef': 10324, 'waehrenddessen': 10325, 'linksextremisten': 10326, 'mafiaclans': 10327, 'geprueft': 10328, 'herumlaufen': 10329, 'filz': 10330, 'mass': 10331, 'raeglichkeit': 10332, 'medienhaeuser': 10333, 'singen': 10334, 'heruntergekommen': 10335, 'bananenrepublik': 10336, 'jury': 10337, 'unwo': 10338, 'desjahres': 10339, 'tagelang': 10340, 'tsunami': 10341, 'intensivst': 10342, 'wichtigeres': 10343, 'schneefall': 10344, 'alpenregion': 10345, 'wetterphaenomen': 10346, 'aufgebaut': 10347, 'gewaltbereite': 10348, 'nachstellen': 10349, 'mitzumachen': 10350, 'ungehinde': 10351, 'oer': 10352, 'beimessen': 10353, 'weimarer': 10354, 'vollenden': 10355, 'werk': 10356, 'ueblich': 10357, 'unterdrueckt': 10358, 'bedacht': 10359, 'aufgebauschte': 10360, 'gasexplosion': 10361, 'zweckentfremdet': 10362, 'unbekannte': 10363, 'fluechtlingsunterkuenften': 10364, 'zugeordnet': 10365, 'gewalttaeter': 10366, 'verabreden': 10367, 'einzuschuechtern': 10368, 'gesinnung': 10369, 'zusammenschlagen': 10370, 'riesa': 10371, 'losliessen': 10372, 'warm': 10373, 'rupps': 10374, 'offe': 10375, 'pruegeln': 10376, 'erstaunten': 10377, 'moderatoren': 10378, 'mitteilen': 10379, 'gewaltspirale': 10380, 'mitverantwo': 10381, 'ueberrascht': 10382, 'qualitaet': 10383, 'unterirdisch': 10384, 'datendiebstahl': 10385, 'toleranteres': 10386, 'weltoffener': 10387, 'zoegern': 10388, 'brandmarken': 10389, 'deckmantels': 10390, 'asylchaos': 10391, 'karriere': 10392, 'hinzulegen': 10393, 'verbrechens': 10394, 'relotiuspresse': 10395, 'grossstadt': 10396, 'beikommen': 10397, 'anlasten': 10398, 'beruflichen': 10399, 'faktenverdreher': 10400, 'geldadel': 10401, 'lakaien': 10402, 'wohlfuehlen': 10403, 'bereicherer': 10404, 'selbstaendige': 10405, 'weitestgehend': 10406, 'abtrainie': 10407, 'staatsmedien': 10408, 'gewohnte': 10409, 'schuldkampagne': 10410, 'afrikanischer': 10411, 'attacke': 10412, 'ruhrgebiet': 10413, 'weltbuerger': 10414, 'feuerwerksverbot': 10415, 'innenstaedten': 10416, 'ausgesprochen': 10417, 'silvester': 10418, 'teilweises': 10419, 'relotius': 10420, 'aufgeflogen': 10421, 'beruehmte': 10422, 'einzellfall': 10423, 'auskommen': 10424, 'sparsamkeit': 10425, 'propagandasendungen': 10426, 'totalversagen': 10427, 'honorierung': 10428, 'verfassungsklage': 10429, 'schlapp': 10430, 'verbotszonen': 10431, 'gesengtem': 10432, 'weite': 10433, 'anschluss': 10434, 'friedlichen': 10435, 'silvesterfest': 10436, 'erdulden': 10437, 'staats': 10438, 'geschenkt': 10439, 'rundfunkbeitrag': 10440, 'larstrep': 10441, 'erhae': 10442, 'hypen': 10443, 'vorbeigeht': 10444, 'spannende': 10445, 'triumphzug': 10446, 'tabu': 10447, 'rechtsextremismus': 10448, 'munde': 10449, 'unaufhoerlich': 10450, 'begegnet': 10451, 'rechtsextremisten': 10452, 'unentwegt': 10453, 'ausgebildete': 10454, 'gewinne': 10455, 'billigloehner': 10456, 'vorbehalte': 10457, 'ungeahnten': 10458, 'verhelfen': 10459, 'alters': 10460, 'greifbare': 10461, 'schreibenwiederspiegel': 10462, 'kolbi1966': 10463, 'steuerpflichtig': 10464, 'gottfriedcurio': 10465, 'nationaler': 10466, 'kraftakt': 10467, 'entsinne': 10468, 'systemjournalisten': 10469, 'merkelnachfolgerin': 10470, 'nachsagen': 10471, 'ehrlichste': 10472, 'uesste': 10473, 'intellektuelle': 10474, 'kaste': 10475, 'hofie': 10476, 'eingestehen': 10477, 'grenzoeffnung': 10478, 'unbewusst': 10479, 'fluechtlingskrise': 10480, 'blubbe': 10481, 'verlorene': 10482, 'waehlerstimmen': 10483, 'selbstzerstoerungsprozess': 10484, 'aufhaelt': 10485, 'meinesicht11': 10486, 'vergraulen': 10487, 'ansiedeln': 10488, 'kompromisslosigkeit': 10489, 'gegenuebergetreten': 10490, 'gruppenvergewaltigungen': 10491, 'terrorangriffe': 10492, 'hinzunehmen': 10493, 'zurueckhaltung': 10494, 'reines': 10495, 'medienphaenomen': 10496, '19ki43h': 10497, 'botschaften': 10498, 'raegt': 10499, 'causa953': 10500, 'q2018112344441': 10501, 'mariebreizh56': 10502, 'queeniepi': 10503, 'anzunehmen': 10504, 'grommkor': 10505, 'denunzianten': 10506, 'aergern': 10507, 'barrierefrei': 10508, 'bereichern': 10509, 'abschuss': 10510, 'freigegeben': 10511, 'solidaritaetszuschlag': 10512, 'hals': 10513, 'echtes': 10514, 'kunststueck': 10515, 'ausnahmslos': 10516, 'verarscht': 10517, 'zentralrat': 10518, 'glanzstueck': 10519, 'saetzen': 10520, 'berufsgruppen': 10521, 'bahnangestellte': 10522, 'piloten': 10523, 'aberwitzige': 10524, 'lahmlegen': 10525, 'systematische': 10526, 'verarmung': 10527, 'warnstreik': 10528, 'weitreichende': 10529, 'einraeumt': 10530, 'danieldjdanby': 10531, 'klausdfrank': 10532, 'boesa': 10533, 'geeignet': 10534, 'regieren': 10535, 'umhoe': 10536, 'riskant': 10537, 'koffer': 10538, 'dienen': 10539, 'degenerieren': 10540, '0001f92a': 10541, 'ignorant': 10542, 'wahrnehmung': 10543, 'getoeteten': 10544, 'augustin': 10545, 'captainmarvel': 10546, 'auskennt': 10547, 'handverlesene': 10548, 'geister': 10549, 'leichenfund': 10550, '17jaehrigen': 10551, 'besorgt': 10552, 'schaftssanktionen': 10553, 'diesen': 10554, 'unendlich': 10555, 'zutritt': 10556, 'verschaffen': 10557, 'weltaidstag': 10558, 'umar': 10559, 'alalmani': 10560, 'aufgenommene': 10561, 'misstrauisch': 10562, 'zusammenleben': 10563, 'steuerzahler': 10564, 'verbreiter': 10565, 'anlegen': 10566, 'ueberraschung': 10567, 'geltende': 10568, 'merkelregierung': 10569, 'ausnahmezustand': 10570, 'einzuwandern': 10571, 'steuerzahlende': 10572, 'herauskitzeln': 10573, 'austeilt': 10574, 'einstecken': 10575, 'netter': 10576, 'schlagabtausch': 10577, 'aufrichtigen': 10578, 'dokumentenlose': 10579, 'hindern': 10580, 'einzureisen': 10581, 'mordende': 10582, 'nationsleague': 10583, 'beinahe': 10584, 'kritischen': 10585, 'zusammenzukratzen': 10586, 'schuldenunion': 10587, 'schulden': 10588, 'ueberwachen': 10589, 'hofft': 10590, 'denunziantentum': 10591, 'zaube': 10592, 'personal': 10593, 'versinkt': 10594, 'ministerien': 10595, 'qualitaetspresse': 10596, 'jegliches': 10597, 'schluchtis': 10598, 'geschwister': 10599, 'buergerkriegsgebiet': 10600, 'zuzuschreiben': 10601, 'horizont': 10602, 'erweitern': 10603, 'weiteste': 10604, 'voelkermoerderpropaganda': 10605, 'zuspammen': 10606, 'gesocks': 10607, 'billiges': 10608, 'lecken': 10609, 'wochenarbeitszeit': 10610, 'bringer': 10611, 'telepolis': 10612, 'stuerzen': 10613, 'oel': 10614, 'gasrechnung': 10615, 'ukrainischen': 10616, 'oligarchen': 10617, 'datscha': 10618, 'katarinabarley': 10619, 'anzukommen': 10620, 'wesentlich': 10621, 'waermer': 10622, 'nicolaalbrecht': 10623, 'claudius': 10624, 'dummerweise': 10625, 'getoetete': 10626, 'dutzend': 10627, 'optisch': 10628, 'beschaffenheit': 10629, 'parkscheibe': 10630, '1981': 10631, '447': 10632, 'verkehrszeichen': 10633, 'bildern': 10634, 'stvo': 10635, 'kleinigkeiten': 10636, 'entsprechen': 10637, 'phantasiezeichen': 10638, 'nichtig': 10639, '1971': 10640, '587': 10641, 'nuff': 10642, 'said': 10643, 'gleichberechtigung': 10644, 'geschlechter': 10645, 'vatikan': 10646, 'retung': 10647, 'vorgaengers': 10648, 'voelkerbundes': 10649, 'mandatstext': 10650, 'beu': 10651, 'teilungsplan': 10652, '181': 10653, 'beinhaltete': 10654, 'ebenfalls': 10655, 'staatenloesung': 10656, 'schaftsunion': 10657, 'schnappen': 10658, 'eurozentristischer': 10659, 'angeeignet': 10660, 'reibt': 10661, 'eigentlichen': 10662, 'aehnlichen': 10663, 'wehr': 10664, 'kaemen': 10665, 'genom': 10666, 'y': 10667, 'levantinischer': 10668, 'blockier': 10669, 'heids': 10670, 'bejubler': 10671, 'lover': 10672, 'soziologie': 10673, 'hierin': 10674, 'ethnien': 10675, 'glaubens': 10676, 'bestreichen': 10677, 'ueberarbeitete': 10678, 'genetik': 10679, 'urbevoelkerung': 10680, 'jemals': 10681, 'erhalte': 10682, 'ominoese': 10683, 'redaktionsstatut': 10684, 'axel': 10685, 'unterschreiben': 10686, 'hasbara': 10687, 'collusion': 10688, 'across': 10689, 'jordan': 10690, 'king': 10691, 'abdullah': 10692, 'zionist': 10693, 'movement': 10694, 'ition': 10695, 'avi': 10696, 'shlaim': 10697, 'geheimabkommen': 10698, 'agency': 10699, 'jordanien': 10700, 'aufteilung': 10701, 'scheinkrieg': 10702, 'eingriffen': 10703, 'prof': 10704, 'angriffskrieg': 10705, 'kamen': 10706, 'zerschlagung': 10707, 'bildeten': 10708, 'siedlerkolonisten': 10709, 'begingen': 10710, 'regimen': 10711, 'helfe': 10712, 'nirgendwo': 10713, 'selbstbestimmungsrecht': 10714, 'fuessen': 10715, 'huessyandre': 10716, 'erwiderung': 10717, 'shah': 10718, 'geheimdienst': 10719, 'befindlichkeite': 10720, 'netanyahu': 10721, 'landsmannes': 10722, 'begangen': 10723, 'suehne': 10724, 'opas': 10725, 'aufdruecken': 10726, 'umbringen': 10727, 'beutelratte': 10728, 'werdet': 10729, 'nullnummern': 10730, 'ueberstunden': 10731, 'inclusive': 10732, 'antisemitismuskeule': 10733, 'zionistische': 10734, 'kolonialregime': 10735, 'surveyorx': 10736, 'kleinstaaterei': 10737, 'playern': 10738, 'zerreiben': 10739, 'elwah': 10740, 'heiten': 10741, 'widerlegen': 10742, 'guevarra': 10743, 'einigen': 10744, 'rechtsradikalen': 10745, 'vorliebe': 10746, 'bodenideologie': 10747, 'anhaengen': 10748, 'becker': 10749, 'kuscheln': 10750, 'querfrontler': 10751, 'eingekaufte': 10752, 'lausige': 10753, 'kroeten': 10754, 'matzschmale': 10755, 'erzeugten': 10756, 'zusammengestellt': 10757, 'objektivitaet': 10758, 'wissenschaftlerin': 10759, 'verheiratet': 10760, 'indoktrinie': 10761, 'bauschanhund': 10762, 'uk': 10763, 'erwerben': 10764, 'spannender': 10765, 'rechteproblem': 10766, 'lenkt': 10767, 'siche': 10768, 'foerdergelder': 10769, 'steffenkoeniger': 10770, 'brechts': 10771, 'kinderhymne': 10772, 'schoenere': 10773, 'besatzung': 10774, 'heid': 10775, 'kolonistenfreund': 10776, 'wess': 10777, 'ess': 10778, 'dess': 10779, 'gelle': 10780, 'zusammengewuerfelte': 10781, 'feiglingen': 10782, 'hightech': 10783, 'steinewerfern': 10784, 'eidigung': 10785, 'nordosteuropa': 10786, 'endgueltigen': 10787, 'entwickelten': 10788, 'schweizer': 10789, 'ethnie': 10790, 'hinkt': 10791, 'fremdbestimmung': 10792, 'ethnokratien': 10793, 'arg': 10794, 'ankamen': 10795, 'tatsaechliche': 10796, 'nordeuropa': 10797, 'muttersprache': 10798, 'jiddische': 10799, 'uebersehen': 10800, 'verliess': 10801, 'wechselnden': 10802, 'herrschern': 10803, 'wechselte': 10804, 'clowns': 10805, 'jaemmerlichen': 10806, 'verlogenen': 10807, 'hetz': 10808, 'verein': 10809, 'nagen': 10810, 'hunge': 10811, 'uch': 10812, 'errichtete': 10813, 'orientalischen': 10814, 'tross': 10815, 'zogen': 10816, 'stammbaum': 10817, 'testen': 10818, 'schmierigen': 10819, 'rudisagmal': 10820, 'leuthold': 10821, 'durchfuette': 10822, 'bergeweise': 10823, 'ahnungslosen': 10824, 'trotteln': 10825, 'haengenbleiben': 10826, 'stahlbarons': 10827, 'angeschlossen': 10828, 'schweiz': 10829, 'aufforderungen': 10830, 'radiomitschnitte': 10831, 'auszuharren': 10832, 'entsatz': 10833, 'trieb': 10834, 'touristen': 10835, 'kommandeure': 10836, 'hielten': 10837, 'geschuetzt': 10838, 'million': 10839, 'einheimischer': 10840, '250': 10841, 'zentralen': 10842, 'buntes': 10843, 'gemisch': 10844, 'vorbeikam': 10845, 'spuren': 10846, 'hinterliess': 10847, 'reinrassigkeit': 10848, 'merkwuerdiges': 10849, 'paradox': 10850, 'direkter': 10851, 'abstammungslinie': 10852, 'doerfer': 10853, 'ruinen': 10854, 'pflanzt': 10855, 'jnf': 10856, 'waelder': 10857, 'aufzunehmen': 10858, 'landnahme': 10859, 'gezielt': 10860, 'informationen': 10861, 'munition': 10862, 'geho': 10863, 'protokolle': 10864, 'besprechungen': 10865, 'militaerisch': 10866, 'dossiers': 10867, 'unauffaelligen': 10868, 'wandergruppen': 10869, 'dalet': 10870, 'vorzubereiten': 10871, 'archiven': 10872, 'detail': 10873, 'wichtigen': 10874, 'originalquellen': 10875, 'anekdoten': 10876, '2006': 10877, 'breit': 10878, 'erwaehnte': 10879, 'archivmaterial': 10880, 'zeitzeugen': 10881, 'moeglichen': 10882, 'verarbeitet': 10883, 'zugriff': 10884, 'armeearchive': 10885, 'interviewte': 10886, 'augenzeugen': 10887, 'ungenauigkeiten': 10888, 'vorgeworfen': 10889, 'fauxpas': 10890, 'zeithorizont': 10891, 'bestseller': 10892, 'furchtbaren': 10893, 'angezweifelt': 10894, 'abhang': 10895, 'gebirges': 10896, 'seilbahn': 10897, 'morris': 10898, 'segev': 10899, 'gemuete': 10900, 'gesamtschau': 10901, 'fragten': 10902, 'billigend': 10903, 'kauf': 10904, 'hoehenlagen': 10905, 'liegenden': 10906, 'faesser': 10907, 'hinunter': 10908, 'gerollt': 10909, 'verfolgte': 10910, '75': 10911, 'errichteten': 10912, 'haifa': 10913, 'sah': 10914, 'fassbomben': 10915, 'hafen': 10916, 'moerserfeuer': 10917, 'freiwillige': 10918, 'abreise': 10919, 'beschleunigen': 10920, 'schiffe': 10921, 'ranken': 10922, 'native': 10923, 'americans': 10924, 'siedlerkoloniale': 10925, 'vorliest': 10926, 'nachfuellpackung': 10927, 'zugestehen': 10928, 'gleichwe': 10929, 'hindu': 10930, 'niederlassen': 10931, 'buddhistisch': 10932, 'hinduistisches': 10933, 'indien': 10934, 'beanspruchen': 10935, 'ami': 10936, 'utter': 10937, 'sitting': 10938, 'bull': 10939, 'griffen': 10940, 'siedler': 10941, 'vernichteten': 10942, 'general': 10943, 'custer': 10944, 'simple': 10945, 'behauptungen': 10946, 'rudimentaersten': 10947, 'unschoenen': 10948, 'persoenlichen': 10949, 'erzaehlungen': 10950, 'auswande': 10951, 'berichtete': 10952, 'planten': 10953, 'durchsetzten': 10954, 'ueberlebenden': 10955, 'ausgegrenzt': 10956, 'sabonim': 10957, 'seifenstuecke': 10958, 'beschimpft': 10959, 'misshandelt': 10960, 'erwirbt': 10961, 'reichsbuergern': 10962, 'verbindet': 10963, 'populationsgenetik': 10964, 'gingen': 10965, 'asien': 10966, 'rasselt': 10967, 'daemonisierung': 10968, 'delegitimierung': 10969, 'siedlerkolonialen': 10970, 'kauften': 10971, '78': 10972, 'gekauftem': 10973, 'gebiete': 10974, 'antisemitische': 10975, 'verschenken': 10976, 'judenstaat': 10977, 'verfolgungserfahrung': 10978, 'dwiddernklaus': 10979, 'neurechter': 10980, 'zuhoe': 10981, 'phasen': 10982, 'antijudaismus': 10983, 'ueberwog': 10984, 'krisenzeiten': 10985, 'suendenbock': 10986, 'lebten': 10987, 'ostgebieten': 10988, 'geiselhaft': 10989, 'antisemitischer': 10990, 'vorfaelle': 10991, 'religionsfluechtlinge': 10992, 'nordamerika': 10993, 'gruendeten': 10994, 'ausgerottet': 10995, 'bewohner': 10996, 'judaeas': 10997, 'vorvaeter': 10998, 'heutigen': 10999, 'vordenker': 11000, 'colonial': 11001, 'trust': 11002, 'colonization': 11003, 'association': 11004, 'durchfuehren': 11005, 'kolonist': 11006, 'aufnahmeland': 11007, 'beherrschen': 11008, 'bestehende': 11009, 'passus': 11010, 'bestehender': 11011, 'nichtjuedischer': 11012, 'gemeinschaften': 11013, 'beeintraechtigen': 11014, 'ministry': 11015, 'strategic': 11016, 'affairs': 11017, 'bnei': 11018, 'brak': 11019, 'weswegen': 11020, 'alberne': 11021, 'bezahlter': 11022, 'pressesprecher': 11023, 'voelkermoerder': 11024, 'indigene': 11025, 'gefangene': 11026, 'staatsterrorist': 11027, 'studieren': 11028, 'bulletin': 11029, 'board': 11030, 'auspacken': 11031, 'gaehn': 11032, 'waehlten': 11033, 'briten': 11034, '1935': 11035, 'genommenen': 11036, 'shalit': 11037, 'fatah': 11038, 'anerkannte': 11039, 'kollaborie': 11040, 'amtsantritt': 11041, 'gewaehlten': 11042, 'putsch': 11043, 'themossadil': 11044, 'unterentwickelt': 11045, 'mitgefuehl': 11046, 'birnen': 11047, 'geheimverstecken': 11048, 'unterbringen': 11049, 'wuessten': 11050, 'folterknaeste': 11051, 'geworfen': 11052, 'kollaborateure': 11053, 'kriegssituation': 11054, 'gefangener': 11055, 'procedere': 11056, 'gefaengnissen': 11057, 'kollateralschaden': 11058, 'zuckend': 11059, 'auseinandersetzen': 11060, 'abgrundtiefe': 11061, 'umzukippen': 11062, 'fiffies': 11063, 'skrupellosem': 11064, 'terrorregime': 11065, 'lebensfaehig': 11066, 'ausloeschung': 11067, 'gewinner': 11068, 'schmierfinken': 11069, 'herrenmenschen': 11070, 'unterzuordnen': 11071, 'verwecken': 11072, 'quillt': 11073, 'zeile': 11074, 'freiheitskaempfer': 11075, 'kaempfen': 11076, 'blaest': 11077, 'flori': 11078, 'markl': 11079, 'gruber': 11080, 'strebte': 11081, 'gesetzliche': 11082, 'anerkennung': 11083, 'minderheitenstatus': 11084, 'wies': 11085, 'emanzipationsbewegung': 11086, 'schwaechte': 11087, 'herzls': 11088, 'abzuleiten': 11089, 'hinterbliebenenrente': 11090, 'killer': 11091, 'wupper': 11092, 'museeun': 11093, 'irgun': 11094, 'unabhaengigen': 11095, 'propagandaschleudern': 11096, 'nachgang': 11097, 'unterstuetzten': 11098, 'marsch': 11099, 'grossteils': 11100, 'grenzzaun': 11101, 'entfernt': 11102, 'ungewiss': 11103, 'propagandapo': 11104, 'suppo': 11105, 'kmus': 11106, 'client': 11107, 'win': 11108, 'mac': 11109, 'os': 11110, 'android': 11111, 'ios': 11112, 'novell': 11113, 'palette': 11114, 'nds': 11115, 'groupwise': 11116, 'ausgruendung': 11117, 'aipac': 11118, 'washington': 11119, 'institute': 11120, 'outlet': 11121, 'fragwuerdig': 11122, '2x': 11123, 'machwerke': 11124, 'verdreht': 11125, 'unanbhaengig': 11126, 'oesterreichischen': 11127, 'industriellen': 11128, 'angestellt': 11129, 'gewoehnliche': 11130, 'menschenwie': 11131, 'missbrauchenden': 11132, 'hetzerei': 11133, 'funken': 11134, 'hingegen': 11135, 'herrchen': 11136, 'gehaltsscheck': 11137, 'stahl': 11138, 'dealer': 11139, 'erfinder': 11140, 'urvater': 11141, 'jabotinsky': 11142, 'wiederum': 11143, 'revisionistischen': 11144, 'fusst': 11145, 'gruendern': 11146, 'voelkermoerderkumpels': 11147, 'leichensaeften': 11148, 'klump': 11149, 'wiederholende': 11150, 'logorrhoe': 11151, 'faschist': 11152, 'twitterfeed': 11153, 'ablesbar': 11154, 'offensichtlichen': 11155, 'feed': 11156, 'baende': 11157, 'bruahahahahahaha': 11158, 'relativiere': 11159, 'gierige': 11160, 'kriegsgewinnler': 11161, 'futterluke': 11162, 'zahngold': 11163, 'nutzlose': 11164, 'ausgeschlagen': 11165, 'ziemliche': 11166, 'feinen': 11167, 'laendchen': 11168, 'schaebigen': 11169, 'mafioso': 11170, 'mitverdient': 11171, 'abweisen': 11172, 'ausschaffen': 11173, 'internationales': 11174, 'palaestinafrage': 11175, 'lakmustest': 11176, 'wichtigere': 11177, 'kommunen': 11178, 'breiten': 11179, 'gestaltungsspielraum': 11180, 'gleichheitsgrundsatz': 11181, 'generelle': 11182, 'staedtischen': 11183, 'bds': 11184, 'infoveranstaltungen': 11185, 'vermieten': 11186, 'zusammenstellen': 11187, 'erkenntnisse': 11188, 'kleinrechnen': 11189, 'mythos': 11190, 'plattformen': 11191, 'mediathek': 11192, '500': 11193, 'mb': 11194, 'imaginaere': 11195, 'anbeten': 11196, 'religionskranken': 11197, 'tasche': 11198, 'priester': 11199, 'durchfuettern': 11200, 'mitmenschen': 11201, 'versetzt': 11202, 'wellen': 11203, 'halbinsel': 11204, 'nomaden': 11205, 'etymologisch': 11206, 'proto': 11207, 'abr': 11208, 'umherziehend': 11209, 'nomadisch': 11210, 'byzantiner': 11211, 'uebernahmen': 11212, 'zwangen': 11213, 'konversion': 11214, 'traten': 11215, 'muslimischen': 11216, 'phantasiefigur': 11217, 'mickey': 11218, 'mouse': 11219, 'literarische': 11220, 'figur': 11221, 'legenden': 11222, 'zusammengefasst': 11223, 'juristisch': 11224, 'ladungsfaehige': 11225, 'feig': 11226, 'realnamen': 11227, 'einhaltung': 11228, 'sigmargabriel': 11229, 'ehemalige': 11230, 'kriegsverbrecher': 11231, 'kriegsverbrechen': 11232, 'angehoe': 11233, 'beschoenigt': 11234, 'strafgerichtshof': 11235, 'feigsten': 11236, 'propagandafuzzi': 11237, 'voelkermoerderkolonie': 11238, 'geraubten': 11239, 'ethnisch': 11240, 'gesaeube': 11241, 'taugt': 11242, 'toilettenpapier': 11243, 'flauschig': 11244, 'verschwoerungstheorie': 11245, 'querfront': 11246, 'erklaere': 11247, 'losern': 11248, 'durchgefuette': 11249, 'pummeliger': 11250, 'stop': 11251, 'kriegsbegeiste': 11252, 'hohlkoerper': 11253, 'spezialexpe': 11254, 'voelkerrechtlichen': 11255, 'bubi': 11256, 'abseits': 11257, 'alsluegner': 11258, 'verleumdungen': 11259, 'unwidersprochen': 11260, 'sympathien': 11261, 'fahnen': 11262, 'getuschelt': 11263, 'ansage': 11264, 'ausgangstweet': 11265, 'randberlin': 11266, 'crystal': 11267, 'rumschlagen': 11268, 'merkava': 11269, 'joke': 11270, 'ideale': 11271, 'wirds': 11272, 'fuege': 11273, 'pikachu': 11274, 'teils': 11275, 'siri': 11276, 'egb': 11277, 'antigerman': 11278, 'audioporn': 11279, 'definition': 11280, 'ironischer': 11281, 'ueberspitzung': 11282, 'fischerhut': 11283, 'tragender': 11284, 'minderjaehriger': 11285, 'druffi': 11286, 'pep': 11287, 'davidsternline': 11288, 'bibi': 11289, 'rotzt': 11290, 'egotronic': 11291, 'rr': 11292, 'finds': 11293, 'qualifilter': 11294, 'droehnung': 11295, 'mitzubekommen': 11296, 'spuelt': 11297, 'pleeeeaseee': 11298, 'gimme': 11299, 'sponge': 11300, 'emojis': 11301, 'bedrohen': 11302, 'beschatten': 11303, 'zusammengetreten': 11304, 'wirst': 11305, 'durchschmor': 11306, 'rotz': 11307, 'hinknallst': 11308, 'hts': 11309, '1312': 11310, 'jajaja': 11311, 'bete': 11312, 'heldengeschichte': 11313, 'romantische': 11314, 'kopp': 11315, 'verstaubter': 11316, 'moleunit': 11317, 'haesslicheren': 11318, 'klamotten': 11319, 'feeling': 11320, '90ern': 11321, 'szenegossip': 11322, 'riesige': 11323, 'verdammten': 11324, 'dullis': 11325, 'hauptfeind': 11326, 'rechtsoffenen': 11327, 'verwicklung': 11328, 'strasseristen': 11329, 'areas': 11330, 'ausruft': 11331, 'politischem': 11332, 'mitstreiter': 11333, 'dogmatismus': 11334, 'antikommunisten': 11335, 'totzuschlagen': 11336, 'schuetzenswe': 11337, 'mmn': 11338, 'losgeloest': 11339, 'rechtsoffene': 11340, 'geringste': 11341, 'netflix': 11342, 'bescherung': 11343, 'keinetheorie': 11344, 'reflexhaften': 11345, 'solidarisierung': 11346, 'schlaegern': 11347, 'schmocks': 11348, 'schaedel': 11349, 'schlaegersekte': 11350, 'neukoelln': 11351, 'razzt': 11352, 'bier': 11353, 'springerpresse': 11354, 'sellnerstimme': 11355, 'rausfinden': 11356, 'pah': 11357, 'orgen': 11358, 'podse': 11359, 'tststs': 11360, 'ff': 11361, 'maos': 11362, 'verpasst': 11363, 'mutigen': 11364, 'beschissene': 11365, 'aufzuheben': 11366, 'trolle': 11367, 'fundifreaks': 11368, 'september': 11369, 'guenstigste': 11370, 'staubsaugt': 11371, 'ordnungswahn': 11372, 'quintessenz': 11373, 'sowwy': 11374, 'homofeindliche': 11375, 'diktaturen': 11376, 'klerikalfaschismus': 11377, 'tm': 11378, 'bauchlinks': 11379, 'cns': 11380, 'kommentieren': 11381, 'moralischen': 11382, 'haeng': 11383, 'wache': 11384, 'kennts': 11385, 'vollkommene': 11386, 'postmoderne': 11387, 'droenung': 11388, 'abbekommen': 11389, 'lungenentzuendung': 11390, 'beinen': 11391, 'dit': 11392, 'khavaii2': 11393, 'bring': 11394, 'nachtrag': 11395, 'sachliche': 11396, 'analytische': 11397, 'aussicht': 11398, 'saekularisation': 11399, 'patriarchalen': 11400, 'queerfeindlichkeit': 11401, 'passdeutsche': 11402, 'fremd': 11403, 'faschoperspektive': 11404, 'anschlaegen': 11405, 'infrage': 11406, 'mechanismen': 11407, 'radikalisierung': 11408, 'strasbourg': 11409, 'deummdeutsche': 11410, 'voelkische': 11411, 'neurechten': 11412, 'ethnopluralisten': 11413, 'lieb': 11414, 'nit': 11415, 'chats': 11416, 'ottos': 11417, 'sueszling': 11418, 'bierernst': 11419, 'umschreibung': 11420, 'irrational': 11421, 'pointie': 11422, 'postmodernen': 11423, 'umzudefinieren': 11424, 'erhebe': 11425, 'vollstaendigkeit': 11426, 'sauer': 11427, 'aufstossen': 11428, 'elementar': 11429, 'scheuklappen': 11430, 'oberflaechlich': 11431, 'israelsolidarischen': 11432, 'schein': 11433, 'rausnimmt': 11434, 'missy': 11435, 'laecherlichkeit': 11436, 'rifft': 11437, 'stundenlang': 11438, 'schwester': 11439, 'chello': 11440, 'oha': 11441, 'halle': 11442, 'provinzfaschos': 11443, 'begruesst': 11444, 'station': 11445, 'sone': 11446, 'belasto': 11447, 'normie': 11448, 'friends': 11449, 'insta': 11450, 'markieren': 11451, 'dms': 11452, 'therealwildid': 11453, 'ergab': 11454, 'anzeigen': 11455, 'rausdefinieren': 11456, 'undemokratisch': 11457, 'nichdesoziologe': 11458, 'oida': 11459, 'song': 11460, '8bit': 11461, 'mix': 11462, 'eskalie': 11463, 'arbeitsverweigerung': 11464, 'gedachtes': 11465, 'ideal': 11466, 'attitude': 11467, 'want': 11468, 'christmas': 11469, '129a': 11470, 'gegrilltebanane': 11471, 'wisst': 11472, 'retweetet': 11473, 'turn': 11474, 'festzumachen': 11475, 'durchsetzt': 11476, 'planlosigkeit': 11477, 'kippt': 11478, 'gefestigten': 11479, 'dynamiken': 11480, 'instabil': 11481, 'revolten': 11482, 'entlaed': 11483, 'geballte': 11484, 'volkszorn': 11485, 'akt': 11486, 'regression': 11487, 'ausa': 11488, 'grind': 11489, 'ilumiriel': 11490, 'riesengurke': 11491, 'punk': 11492, 'dosenbier': 11493, 'tiefkuehlbaguette': 11494, 'sehs': 11495, 'bildlich': 11496, 'ak47': 11497, 'geschenk': 11498, 'nacher': 11499, 'geb': 11500, 'uebersetzer': 11501, 'tow': 11502, 'jafa': 11503, 'argh': 11504, 'jom': 11505, 'scheshi': 11506, 'ghostuser': 11507, 'mentioneskalation': 11508, 'universellen': 11509, 'freiheitsgedanken': 11510, 'uralt': 11511, 'kommis': 11512, 'angefeindet': 11513, 'trolling': 11514, 'trotzreflex': 11515, '420rheisterkamp': 11516, 'wahrnehme': 11517, 'restdeutschland': 11518, 'darzustellen': 11519, 'angriffsflaeche': 11520, 'barbarisch': 11521, 'dorfgemeinschaften': 11522, 'sinnbild': 11523, 'westlicher': 11524, 'freiheitlicher': 11525, 'staatlicher': 11526, 'zwang': 11527, 'indoktrination': 11528, 'machtmechanismen': 11529, 'traegerinnen': 11530, 'muslima': 11531, 'zutage': 11532, 'kanada': 11533, 'mclefti': 11534, 'lea': 11535, 'chiara': 11536, 'angehustet': 11537, 'hedonismus': 11538, 'einschuechternd': 11539, 'ekelhafte': 11540, 'wiesen': 11541, 'kuhdung': 11542, 'volksmusik': 11543, 'festhaengen': 11544, 'kastrationskomplex': 11545, 'antid': 11546, 'durstbubble': 11547, 'nervig': 11548, 'gebs': 11549, 'ausgewachsener': 11550, 'beziehungsmodelle': 11551, 'cringe': 11552, 'dont': 11553, 'baftakush': 11554, 'reflektieren': 11555, 'maybe': 11556, 'tattoo': 11557, 'fyi': 11558, 'kommibubble': 11559, 'trichter': 11560, 'gestolpe': 11561, 'arroganz': 11562, 'groesstes': 11563, 'freitags': 11564, 'umschweife': 11565, 'buhlt': 11566, 'ally': 11567, 'siffschaften': 11568, 'zwischend': 11569, 'vorallem': 11570, 'herausreden': 11571, 'ohh': 11572, 'kunstfreiheit': 11573, 'erschaffene': 11574, 'greif': 11575, 'vereinfachten': 11576, 'falsvh': 11577, 'gehabe': 11578, 'abfuckt': 11579, 'szenepolizei': 11580, 'road': 11581, 'missglueckte': 11582, 'shocky': 11583, 'tattoos': 11584, 'buehne': 11585, 'runtergebuht': 11586, 'gekraenkten': 11587, 'swiss': 11588, 'einrennen': 11589, 'ankommt': 11590, 'besiegt': 11591, '0001f624': 11592, 'grinch': 11593, 'austreiben': 11594, 'oschersleben': 11595, 'sonem': 11596, 'kaff': 11597, 'ueberlege': 11598, 'weihnachtsbaum': 11599, 'hinzustellen': 11600, 'vanillekipferl': 11601, 'weihnachtsstimmung': 11602, 'backen': 11603, 'haten': 11604, '30ern': 11605, 'durften': 11606, 'einschnitte': 11607, 'verbuessen': 11608, 'gittern': 11609, 'retweets': 11610, 'baller': 11611, 'primetime': 11612, 'hehehe': 11613, 'verpasse': 11614, 'flexen': 11615, 'sturmhaube': 11616, 'profilbild': 11617, 'freak': 11618, 'rumkrakelst': 11619, 'hervorbringst': 11620, 'neee': 11621, 'vorwuerfe': 11622, 'zutreffen': 11623, 'arbeitsdefinition': 11624, 'wend': 11625, 'boi': 11626, 'kritisiere': 11627, 'identitaetspolitik': 11628, 'defma': 11629, 'auswuechse': 11630, 'aneinander': 11631, 'dahingestellt': 11632, 'obsessives': 11633, 'emoji': 11634, 'drueberkommentieren': 11635, 'stumpfes': 11636, 'anpoebeln': 11637, 'auftreten': 11638, 'abstossend': 11639, 'anmachen': 11640, 'zusammenpastest': 11641, 'gemeine': 11642, 'elendsgestalt': 11643, 'barbarei': 11644, 'einbaut': 11645, 'treffende': 11646, 'gesellschaftskritik': 11647, 'elendsgestalten': 11648, 'ironie': 11649, 'metapher': 11650, 'entdecke': 11651, 'berechtigten': 11652, 'hype': 11653, 'lehren': 11654, 'huelsen': 11655, 'geringen': 11656, 'sachverstand': 11657, 'haelst': 11658, 'karikatur': 11659, 'buxdragon': 11660, 'beruht': 11661, 'stereotypen': 11662, 'geifernden': 11663, 'machthungrigen': 11664, 'imperialistischen': 11665, 'amerikas': 11666, 'bestehst': 11667, 'definitionsmacht': 11668, 'haltlose': 11669, 'analytisch': 11670, 'totaler': 11671, 'schwammig': 11672, 'angreifst': 11673, 'imagination': 11674, 'buergerliches': 11675, 'verbauen': 11676, 'schwarzjacken': 11677, 'bloc': 11678, 'zarkojank': 11679, 'optimist': 11680, 'woran': 11681, 'unfair': 11682, 'kontraproduktiv': 11683, 'polemisch': 11684, 'wehtut': 11685, 'reflexion': 11686, 'ausloest': 11687, 'emanzipatorischen': 11688, 'foerde': 11689, 'gegeie': 11690, 'vollmachen': 11691, 'wollt': 11692, 'sputnikschlaeft': 11693, 'wokebubble': 11694, 'amilinke': 11695, 'antiamerikanismus': 11696, 'froenen': 11697, 'erlogen': 11698, 'intersektionale': 11699, 'race': 11700, 'zuzurechnen': 11701, 'monatelang': 11702, 'packen': 11703, 'faden': 11704, 'thematik': 11705, 'abriss': 11706, 'standpunkt': 11707, 'empfinde': 11708, 'front': 11709, 'intention': 11710, 'vorangestellten': 11711, 'konditionalsatz': 11712, 'klaro': 11713, 'gucj': 11714, 'stuff': 11715, 'vllt': 11716, 'hol': 11717, 'verschenk': 11718, 'polos': 11719, 'sales': 11720, 'mancgmal': 11721, '10er': 11722, 'goenne': 11723, 'eroeffnest': 11724, 'anschuldigungen': 11725, 'widerspruechlich': 11726, 'theoriemacker': 11727, 'bornie': 11728, 'heit': 11729, 'aufwand': 11730, 'laecherliches': 11731, 'mitzuspielen': 11732, 'autoren': 11733, 'dorn': 11734, 'ausgerechnet': 11735, 'gehangen': 11736, 'durchgefavt': 11737, 'carolin161': 11738, 'weltweite': 11739, 'postmodern': 11740, 'israelkritik': 11741, 'absturz': 11742, 'blauen': 11743, 'haken': 11744, 'plaerst': 11745, 'dad': 11746, 'terrorsympathisant': 11747, 'autoritaer': 11748, 'klerikalen': 11749, 'terrorgruppen': 11750, 'palaestinensischen': 11751, 'gebieten': 11752, 'lobgepriesen': 11753, 'revolutionaere': 11754, 'antisemitusmus': 11755, 'korrekter': 11756, 'betttag': 11757, 'moegt': 11758, '2t': 11759, 'kokaxcola': 11760, 'notlike211': 11761, 'subkultur': 11762, 'bbyfrkmcgzx': 11763, 'pfeife': 11764, 'franknulljaeger': 11765, 'druecke': 11766, 'verpiss': 11767, 'ueberspitzter': 11768, 'community': 11769, 'angreife': 11770, 'solidarisch': 11771, 'bruessel': 11772, 'banditen': 11773, 'jagen': 11774, 'schimp': 11775, 'marcusenge': 11776, 'eignung': 11777, 'gewand': 11778, 'hohn': 11779, 'manikue': 11780, 'fingerchen': 11781, 'systemhuren': 11782, 'kalleskoppel': 11783, 'gefaehrliche': 11784, 'schaltzentralen': 11785, 'kreaturen': 11786, 'staedten': 11787, 'neumuenster': 11788, 'oliversenst': 11789, 'zynischer': 11790, 'gebrauchen': 11791, 'heuchlerische': 11792, 'volkerschanze': 11793, 'totlachen': 11794, 'veranstalter': 11795, 'frauenschlaeger': 11796, 'kinderfickende': 11797, 'ehemaenner': 11798, 'enthaupter': 11799, 'ghost': 11800, 'writer': 11801, 'dfakenews': 11802, 'crux': 11803, 'vogelschiss': 11804, 'lucalun44954404': 11805, 'susanne': 11806, 'obdachlose': 11807, 'linksextrem': 11808, 'asozialitaet': 11809, 'mantel': 11810, 'singewald': 11811, 'traut': 11812, 'dramatischer': 11813, 'gurgel': 11814, 'loewenherz': 11815, 'auswahlverfahren': 11816, 'easy': 11817, 'maaslein': 11818, 'brennpunkte': 11819, 'vlt': 11820, 'auslaendischen': 11821, 'bau': 11822, 'gleichschaltung': 11823, 'aufnachvorne': 11824, 'ueberaus': 11825, 'kluengelei': 11826, 'bedrohungen': 11827, 'minderjaehrige': 11828, 'buben': 11829, 'uebernachten': 11830, 'alk': 11831, 'inschulz': 11832, 'schwaetzer': 11833, 'vorrangig': 11834, 'tobt': 11835, 'gewordener': 11836, 'nichtbestrafungen': 11837, 'motivie': 11838, 'verabscheuen': 11839, 'jotka26': 11840, 'urheber': 11841, 'angelo': 11842, 'tausend': 11843, 'enttarnt': 11844, 'gefaehrdet': 11845, 'lenkrad': 11846, 'bissspuren': 11847, 'meldung': 11848, 'autofah': 11849, 'lauterclown': 11850, 'qualifikationen': 11851, 'raub': 11852, 'hinterhaeltigen': 11853, 'arbeitsunfaehig': 11854, 'unwillige': 11855, 'buzzfeednewsde': 11856, 'ich2es': 11857, 'sofern': 11858, 'toedlich': 11859, 'schreienden': 11860, 'mussten': 11861, 'oberlehrer': 11862, 'manipulations': 11863, 'bejubelt': 11864, 'peacecakex': 11865, 'nazihorden': 11866, 'sichere': 11867, 'unaufhaltbar': 11868, 'enkeln': 11869, 'geweh': 11870, 'marktzyniker': 11871, 'zufaellige': 11872, 'herzattacke': 11873, 'todesangst': 11874, 'wildgewordene': 11875, 'getrampelt': 11876, 'redaktionen': 11877, 'gestuermt': 11878, 'fakes': 11879, 'eingeholt': 11880, 'trauerfeier': 11881, 'generalschlacht': 11882, 'terminieren': 11883, 'antifotzen': 11884, 'patrioten': 11885, 'anstand': 11886, 'gemischt': 11887, 'regelrecht': 11888, 'ers': 11889, 'teilnehmern': 11890, 'beschaedigungen': 11891, 'jued': 11892, 'ruhetag': 11893, 'skandale': 11894, 'fingie': 11895, 'grausam': 11896, 'entzuendet': 11897, 'gekeh': 11898, 'weismachen': 11899, 'beweisaufnahme': 11900, 'keinerlei': 11901, 'pressemeldung': 11902, 'ausgeschlachtet': 11903, 'potentielle': 11904, 'wirsindmehropfer': 11905, 'phillip': 11906, 'balt': 11907, '99bluemarlin': 11908, 'lichtgestalten': 11909, 'haenderingend': 11910, 'gesucht': 11911, 'ganzer': 11912, 'laenge': 11913, 'beleidigung': 11914, 'verfolgungsjagd': 11915, 'proll': 11916, 'idiot': 11917, 'werbepferd': 11918, 'fraukepetry': 11919, 'mpkretschmer': 11920, 'videoaufnahmen': 11921, 'keinem': 11922, 'nihilinietzsche': 11923, 'ignorantes': 11924, 'beutelchenbaer': 11925, 'mirkoslatarow': 11926, 'bundestagsfraktion': 11927, 'spiegelt': 11928, 'kontraer': 11929, 'zivilversagern': 11930, 'umgekommen': 11931, 'beantwo': 11932, '367': 11933, 'gekillt': 11934, 'bka': 11935, 'mordes': 11936, 'mantra': 11937, 'alu': 11938, 'lovemytropical': 11939, 'mequoh': 11940, 'aufwachen': 11941, 'vorgeht': 11942, 'uebergreift': 11943, 'messermord': 11944, 'raute': 11945, 'aufzuhalten': 11946, 'assetskater72': 11947, 'prachtexemplar': 11948, 'hasserfuellte': 11949, 'massaker': 11950, 'heuchlerisches': 11951, 'bleibst': 11952, 'googlede': 11953, 'coca': 11954, 'trittbrett': 11955, 'aufspringen': 11956, 'quittung': 11957, 'getilgt': 11958, 'vergangene': 11959, 'zukuenftige': 11960, 'streetcoverage': 11961, 'wahnsinnsgedraenge': 11962, 'stampede': 11963, 'geilen': 11964, 'aerztlichen': 11965, 'beistand': 11966, 'naziwahn': 11967, 'psychose': 11968, 'horror': 11969, 'fantasien': 11970, 'unvermeidliche': 11971, 'restle': 11972, 'strohhalme': 11973, 'panisch': 11974, 'ergriffen': 11975, 'zweiten': 11976, 'angegriffener': 11977, 'asylant': 11978, 'irrenhaus': 11979, 'wismar': 11980, 'chemnitzderanfang': 11981, 'notte': 11982, 'magna': 11983, 'stirn': 11984, 'rosenkranz': 11985, 'schutt': 11986, 'relativierer': 11987, 'ran': 11988, 'zoomen': 11989, 'gehirnebene': 11990, 'messermorde': 11991, 'vergewaltigungen': 11992, 'unterbinden': 11993, 'isabelschayani': 11994, 'fundbuero': 11995, 'georgdiez1': 11996, 'verachtet': 11997, 'ihresgleichen': 11998, 'rennen': 11999, 'nittom': 12000, 'djuhmha': 12001, 'abgesetzt': 12002, 'schimpf': 12003, 'aufrechte': 12004, 'pickelgesichter': 12005, 'beginn': 12006, 'lekwink': 12007, 'messerstecherei': 12008, 'kontrahenten': 12009, '25': 12010, 'einstechen': 12011, 'aufschlitzen': 12012, 'nationalitaeten': 12013, 'mutige': 12014, 'traurigen': 12015, 'positiven': 12016, 'mmmhh': 12017, 'bannern': 12018, 'grundgesetzes': 12019, 'warze': 12020, 'lkasachsen': 12021, 'otschihorst': 12022, 'aufregung': 12023, 'marcfelixserrao': 12024, 'nzz': 12025, 'pimpf': 12026, 'groessenwahnsinnig': 12027, 'zwerge': 12028, 'arroganten': 12029, 'duktus': 12030, 'hochverrat': 12031, 'jeher': 12032, 'drastisch': 12033, 'zerrissen': 12034, 'rauenswuerdig': 12035, 'speichelleckende': 12036, 'trittbrettfahrerin': 12037, 'billiger': 12038, 'terrasse': 12039, 'hanf': 12040, 'pflanze': 12041, 'background': 12042, 'jrvssr': 12043, 'verkackter': 12044, 'kannibalen': 12045, 'kochtopf': 12046, 'ekelhaftes': 12047, 'heuchlerpack': 12048, 'stimmenfang': 12049, 'manipulation': 12050, 'paederasten': 12051, 'deutschlandfeinde': 12052, 'tierfeinde': 12053, 'vegan': 12054, 'veggie': 12055, 'amoklauf': 12056, 'durchzieht': 12057, 'dufte': 12058, 'verdaechtigte': 12059, 'transvestie': 12060, 'gepackt': 12061, 'massenmanipulatation': 12062, 'via': 12063, 'koecher': 12064, 'anschauungsunterricht': 12065, 'brandgefaehrlich': 12066, 'pays': 12067, 'feinerlumpi': 12068, 'abdul': 12069, 'prozessende': 12070, 'freigelassen': 12071, 'rottelter': 12072, 'blubb': 12073, 'thomasknorra': 12074, 'r1chtungsweiser': 12075, 'unbegreiflich': 12076, 'kuenftiges': 12077, 'gewaltregime': 12078, 'grenzenlose': 12079, 'naivitaet': 12080, 'ratschlaege': 12081, 'stricher': 12082, 'schwachmat': 12083, 'ansehnliche': 12084, '37jaehrige': 12085, 'poppen': 12086, 'schweigegeld': 12087, 'traumatisie': 12088, 'mathe': 12089, 'ausfindig': 12090, 'saustall': 12091, 'manipulationsopfer': 12092, 'spriesse': 12093, 'unkraut': 12094, 'offener': 12095, 'niedergemetzelt': 12096, 'ueberpropo': 12097, 'ional': 12098, 'marschieren': 12099, 'vors': 12100, 'entheben': 12101, 'rkill': 12102, 'amtes': 12103, 'naht': 12104, 'grausame': 12105, 'vorenthalten': 12106, 'transparente': 12107, 'tragetasche': 12108, 'naivlinge': 12109, 'blind': 12110, 'taub': 12111, 'schwachsinnig': 12112, 'guntera56': 12113, 'bekennen': 12114, 'hexenjagd': 12115, 'redakteure': 12116, 'einstreuen': 12117, 'merkt': 12118, 'bacho': 12119, 'naturgesetz': 12120, 'selbstentlarvung': 12121, 'allerersten': 12122, 'posts': 12123, 'zugewande': 12124, 'volksgruppen': 12125, 'toetungsdelike': 12126, 'mitbuerger': 12127, 'aktivistinnen': 12128, 'rundumschlag': 12129, 'virales': 12130, 'falschem': 12131, 'fraeulein': 12132, 'tessa': 12133, 'klassisches': 12134, 'whopullsthe': 12135, 'initiatoren': 12136, 'lauthals': 12137, 'heuer': 12138, 'karinazurich': 12139, 'ect': 12140, 'degenerie': 12141, 'harmlos': 12142, 'verblendete': 12143, 'schwachsinnige': 12144, 'weibische': 12145, 'wohlstands': 12146, 'kapselzerrung': 12147, 'zuziehen': 12148, 'volldepp': 12149, 'kritisierst': 12150, 'sauerstoff': 12151, 'verbrauchst': 12152, 'voellige': 12153, 'verschwendung': 12154, 'mitfuehlenden': 12155, 'afr': 12156, 'warnung': 12157, 'unsere': 12158, 'berichtige': 12159, 'kroos': 12160, 'einschiessen': 12161, 'gunst': 12162, 'toni': 12163, 'offenburg': 12164, 'gerede': 12165, 'hirne': 12166, 'jahrelange': 12167, 'jammerer': 12168, 'betrueger': 12169, 'tendiere': 12170, 'defektem': 12171, 'apfel': 12172, 'aufkleber': 12173, 'shananjanie': 12174, 'manipulativ': 12175, 'dialyse': 12176, 'redaktionfp': 12177, 'religoese': 12178, 'feststehen': 12179, 'religionszugehoerigkeit': 12180, 'procedure': 12181, 'argonerd': 12182, 'ganja': 12183, 'stoned': 12184, 'kreieren': 12185, 'geheilt': 12186, 'supidupi': 12187, 'netzfall': 12188, 'explodierende': 12189, 'uebergriffen': 12190, 'ruecklaeufige': 12191, 'nikolasloebel': 12192, 'eisberges': 12193, 'cojones': 12194, 'commieeater': 12195, 'osmanische': 12196, 'rassistische': 12197, 'blonder': 12198, 'ruebenhorst': 12199, 'gesichtsausdruck': 12200, 'inzest': 12201, 'vorbildliche': 12202, 'angesehen': 12203, 'haifischbecken': 12204, 'takatukaland': 12205, 'fem': 12206, 'einhoerner': 12207, 'profilen': 12208, 'gescheites': 12209, 'schwadronieren': 12210, 'normalistcool': 12211, 'flieger59googl1': 12212, 'lebenden': 12213, 'amtssprache': 12214, 'karlaknows': 12215, 'ungunsten': 12216, 'superduper': 12217, 'dpolghh': 12218, 'gagaberlin': 12219, 'putzelchen': 12220, 'spital': 12221, 'hauptsacheairbnb': 12222, 'der77jahreopaansprechpa': 12223, 'nerdigitalisierung': 12224, 'relevantethemenausgegrenzt': 12225, 'kimjongwaldepropaganda': 12226, 'shameonyouwalde': 12227, 'teppichhaendler': 12228, 'berufsopfer': 12229, 'einzeller': 12230, 'amoeben': 12231, 'hurensoehne': 12232, 'sixxer': 12233, 'freifick': 12234, 'kretins': 12235, 'bastarde': 12236, 'lack': 12237, 'saufen': 12238, 'weltverbesserern': 12239, 'duennschiss': 12240, 'schwangerer': 12241, 'serios': 12242, 'generoes': 12243, 'schweinereien': 12244, 'kiefer': 12245, 'poebler': 12246, 'wixxer': 12247, 'berufsempoe': 12248, 'tendie': 12249, 'ignorie': 12250, 'aah': 12251, 'volkserzieher': 12252, 'heinis': 12253, 'muschis': 12254, 'walde': 12255, 'stoerer': 12256, 'einstudie': 12257, 'bestellung': 12258, 'entlarvt': 12259, 'dringlichste': 12260, 'lemminge': 12261, 'enden': 12262, 'schaemst': 12263, 'mannheimer': 12264, 'glatteis': 12265, 'headlines': 12266, 'gewaltverbrechen': 12267, 'delikte': 12268, 'telefonbetrug': 12269, 'z4': 12270, 'rekordniveau': 12271, 'langzeitarbeitslose': 12272, 'erwaehnenswe': 12273, 'gefanken': 12274, 'mietwohnungen': 12275, 'kokolores20': 12276, 'koerperfressern': 12277, 'bt': 12278, 'ohrfeige': 12279, 'mia': 12280, 'san': 12281, 'vermisste': 12282, 'frauschmauke': 12283, 'wuenschst': 12284, 'maennerhassende': 12285, 'idiotin': 12286, 'reibungen': 12287, 'bilbuha': 12288, 'drehbuch': 12289, 'wiedergibt': 12290, 'quentin': 12291, 'kreativitaet': 12292, 'kill': 12293, 'bill': 12294, 'lsd': 12295, 'chapter0': 12296, 'asexuelleraltmaier2': 12297, 'realitaetsferne': 12298, 'verpulvern': 12299, 'pampers': 12300, 'hosenscheisser': 12301, 'absurdistan': 12302, 'danielboecking': 12303, 'abzusondern': 12304, 'kretin': 12305, 'uebelster': 12306, 'menschenschlag': 12307, 'matthiasmeisner': 12308, 'paare': 12309, 'geheiratet': 12310, 'einsperren': 12311, 'knechtet': 12312, 'brandmarkt': 12313, 'misogyn': 12314, 'abfaellig': 12315, 'allgemeinheit': 12316, 'insbesonder': 12317, 'erwachsen': 12318, 'provozierst': 12319, 'drehst': 12320, 'verpack': 12321, 'tueten': 12322, 'niemandem': 12323, 'vorschreiben': 12324, 'hinzuschauen': 12325, 'zeitverschwendung': 12326, 'matador': 12327, 'superfrau': 12328, 'hammerbruesten': 12329, 'edit': 12330, 'frauenhasser': 12331, 'behande': 12332, 'gentleman': 12333, 'trage': 12334, 'haenden': 12335, 'hirngefickten': 12336, 'hassenden': 12337, 'geschlechtern': 12338, 'verquirlten': 12339, 'dinger': 12340, 'verstehst': 12341, 'belaestigst': 12342, 'wackeln': 12343, 'takt': 12344, 'wunderschoener': 12345, 'moechten': 12346, 'engen': 12347, 'hosen': 12348, 'adern': 12349, 'irgendwelchen': 12350, 'kerlen': 12351, 'blickfeld': 12352, 'angeschaut': 12353, 'phopie': 12354, 'pechgehabt': 12355, 'schoenebrueste': 12356, 'gemaecht': 12357, 'rumwackelt': 12358, 'blanken': 12359, 'shi': 12360, 'krankeideologie': 12361, 'schussnichtgehoe': 12362, 'entlarven': 12363, 'koestlich': 12364, 'schwaenze': 12365, 'haesslich': 12366, 'hairyschnuffelduffelheavenly': 12367, 'mandarinenmaedchen': 12368, 'louikatharina': 12369, 'freddiealt': 12370, 'daemlichkeit': 12371, 'damen': 12372, 'antifaschistische': 12373, 'feme': 12374, 'treff': 12375, 'behaa': 12376, 'femenopfern': 12377, 'zeige': 12378, 'hairy': 12379, 'empoeren': 12380, 'blicke': 12381, 'wohlgeformte': 12382, 'brust': 12383, 'bekleidet': 12384, 'bh': 12385, 'ignorieren': 12386, 'hellen': 12387, 'radlerhosen': 12388, 'jil': 12389, 'nicole': 12390, 'gil': 12391, 'bm': 12392, 'wahrheiten': 12393, 'menschaffe2': 12394, 'dystopia': 12395, 'maerchenlandschaft': 12396, 'kampfgeist': 12397, 'kratzbuerstigkeit': 12398, 'wunderbaren': 12399, '0001f600': 12400, 'adhs': 12401, 'quadrat': 12402, 'sosmedgermany': 12403, 'luftpumpe': 12404, 'geretteter': 12405, 'schaendliche': 12406, 'begeht': 12407, 'superheld': 12408, 'grossspuriger': 12409, 'wahnvorstellungen': 12410, 'ohren': 12411, 'zerstoerer': 12412, 'uninfomie': 12413, 'uninformie': 12414, 'wahlergebnisse': 12415, 'mo19rabie': 12416, 'schueren': 12417, 'traktor': 12418, 'nazisueberall': 12419, 'erdrandbewohner': 12420, 'honk': 12421, 'arbeitsfaehig': 12422, 'willig': 12423, 'zeigten': 12424, 'babsi777': 12425, 'stephanushh': 12426, 'homasbruns': 12427, 'mitschwimmen': 12428, 'rattenkopf24': 12429, 'armselige': 12430, 'schwaechlinge': 12431, 'menschengestalt': 12432, 'traeumer': 12433, 'bekehren': 12434, 'mitschuld': 12435, 'rast': 12436, 'abruecken': 12437, 'fraulein': 12438, 'antje': 12439, 'killary': 12440, 'innere': 12441, 'utawie': 12442, 'lesestoff1': 12443, 'trinchen312': 12444, 'ungelernte': 12445, 'roth': 12446, 'allgemeinen': 12447, 'gasmann': 12448, 'fiktiver': 12449, 'juncker': 12450, 'kuesst': 12451, 'abschied': 12452, 'zunge': 12453, 'verschluckt': 12454, 'gebiss': 12455, 'anschliessend': 12456, 'saeuft': 12457, 'koenigreich': 12458, 'v2': 12459, 'atlantikwall': 12460, 'betrieb': 12461, 'teutonis52': 12462, 'breaking': 12463, 'pferde': 12464, 'wiehern': 12465, 'abgenommen': 12466, 'telefonhoerer': 12467, 'bip': 12468, 'dienstag': 12469, 'aufgefallen': 12470, 'abtreibungsdebatte': 12471, '219': 12472, 'zumeist': 12473, 'schwangerschaft': 12474, 'bogen': 12475, 'frauzopf': 12476, 'dystopianb': 12477, 'heroisch': 12478, '0001f60c': 12479, 'deckmaentelchen': 12480, 'lief': 12481, 'unverschaemtheit': 12482, 'diplomatisch': 12483, 'regie': 12484, 'machwerk': 12485, 'igste': 12486, 'krimi': 12487, 'frechheit': 12488, 'umerziehungs': 12489, 'leiter': 12490, 'auslaenderbehoerde': 12491, 'stasimethoden': 12492, 'anwendet': 12493, 'aufspue': 12494, 'oo7': 12495, 'kathaschulze': 12496, 'snowcrash729': 12497, 'dushanwegner': 12498, 'kannstedirnichtausdenken': 12499, 'vorangeht': 12500, 'fahrverbote': 12501, 'erfundener': 12502, 'nox': 12503, 'allerbeste': 12504, 'schlaf': 12505, '2038': 12506, 'strom': 12507, 'braunkohle': 12508, 'neueste': 12509, 'clou': 12510, 'flugreisenlimitierung': 12511, 'normalverbraucher': 12512, 'gretchen': 12513, 'doppeldingsbums': 12514, 'liebreizende': 12515, 'grazie': 12516, 'uckermark': 12517, 'unermesslichen': 12518, 'ratschluss': 12519, 'betoe': 12520, 'dranbleiben': 12521, 'selimabubakr': 12522, 'bruda': 12523, 'aleppo': 12524, 'aussehen': 12525, 'fluechtender': 12526, 'abubakr': 12527, 'clan': 12528, 'inshallah': 12529, 'ngo': 12530, 'schiffbruechige': 12531, 'feinstaubgrenzwe': 12532, 'debattieren': 12533, '1600': 12534, 'arbeitsmarkt': 12535, 'eysvog3l': 12536, 'mittelmeerroute': 12537, 'balkanroute': 12538, 'hinde': 12539, 'ueberfah': 12540, 'asozialer': 12541, 'fehlender': 12542, 'galacticpatrick': 12543, '89': 12544, 'gepruegelt': 12545, 'wimanders': 12546, 'twitterst': 12547, 'fusspilz': 12548, 'insofern': 12549, 'abba': 12550, '1stkimjongun': 12551, 'schwein': 12552, 'irene97652350': 12553, 'alexiastellar': 12554, 'cantatedominum': 12555, 'aufschlagen': 12556, 'michaelscheune3': 12557, 'geballter': 12558, 'frauenquoten': 12559, 'resthirnbefreiten': 12560, 'labe': 12561, 'aschen': 12562, 'dichtmachen': 12563, 'faktenfinder': 12564, 'geraden': 12565, 'schmackhaft': 12566, 'kommission': 12567, 'diaet': 12568, 'allergiker': 12569, 'steigenden': 12570, 'strompreisen': 12571, 'schnellen': 12572, 'ausstieg': 12573, 'kriegst': 12574, 'teite99': 12575, 'eisberg': 12576, 'rektum': 12577, 'bruellen': 12578, 'mia5573': 12579, 'cornelia': 12580, 'cagol': 12581, 'schickt': 12582, 'arbeitskollege': 12583, 'zweieinhalb': 12584, 'unheilbar': 12585, 'lungenkrebs': 12586, 'erkrankt': 12587, 'hilflosigkeit': 12588, 'zerschredde': 12589, 'lebensentwurf': 12590, 'makulatur': 12591, 'mitheulen': 12592, 'hundebrunomama': 12593, 'hilf': 12594, 'spruenge': 12595, 'malte': 12596, 'genderunentschlossene': 12597, 'pflegte': 12598, 'tombucker': 12599, 'spaten': 12600, '98763': 12601, 'bordesholm': 12602, 'shisha': 12603, 'jauche': 12604, 'gefuellt': 12605, 'laien': 12606, 'abschaetzung': 12607, 'unistischem': 12608, 'ochsen': 12609, 'pflugschar': 12610, 'spannen': 12611, 'schwachmaten': 12612, 'schultern': 12613, 'klopfen': 12614, 'rubymay04322797': 12615, 'guetig': 12616, 'heinrichludger': 12617, 'regnen': 12618, 'netanyahoo': 12619, 'buergt': 12620, 'chronischem': 12621, 'infantilitaetssyndrom': 12622, 'buergen': 12623, 'reser4t': 12624, '123lenchen': 12625, 'echthaa': 12626, 'oupet': 12627, 'karlschneider1': 12628, 'restlaufzeit': 12629, 'goeringeckardt': 12630, 'gruenebundestag': 12631, 'deiner': 12632, 'ihrer': 12633, 'hochachtungsvoll': 12634, 'anschliessen': 12635, 'egon': 12636, 'dorge': 12637, 'erstens': 12638, 'ueberfordern': 12639, 'zweitens': 12640, 'wunderl97628159': 12641, 'isses': 12642, 'katze': 12643, 'sass': 12644, 'gebannt': 12645, 'fernseher': 12646, 'handballspo': 12647, 'mitgefiebe': 12648, 'iberern': 12649, 'aufgezeigt': 12650, 'weinerliche': 12651, 'oezil': 12652, 'pussi': 12653, 'foehnwelle': 12654, 'loew': 12655, 'herzerfrischender': 12656, 'grals': 12657, 'hueter': 12658, 'herrliches': 12659, 'rad': 12660, 'antifaraus': 12661, 'hassrede': 12662, 'verfuegbar': 12663, 'epochtimesde': 12664, 'rueckgefueh': 12665, 'bewerber': 12666, 'realistisches': 12667, '16jaehrige': 12668, 'psychischen': 12669, 'erkrankungen': 12670, 'baer': 12671, 'manege': 12672, 'runterholen': 12673, 'kreiswichsverein': 12674, 'gepflegt': 12675, 'johannesnormann': 12676, 'umwelthilfe': 12677, 'multipel': 12678, 'knochentrocken': 12679, 'durchsage': 12680, 'turbohetzerin': 12681, 'ultrarechten': 12682, 'rand': 12683, 'kohlekommission': 12684, 'entschaedigungen': 12685, 'bruedern': 12686, 'grimm': 12687, 'endsieg': 12688, 'wahrheitsgemaess': 12689, 'gegenueberzustellen': 12690, '162': 12691, 'kontinuierlichem': 12692, 'rueckgang': 12693, 'oberguru55': 12694, 'screenshots': 12695, 'wohlfuehlblase': 12696, 'helheimer': 12697, 'unterschiedlichen': 12698, 'hautfarben': 12699, 'unterschiedlicher': 12700, 'erinnerung': 12701, 'adolfion2x44': 12702, 'dienstags': 12703, 'marvinruebhagen': 12704, 'raser': 12705, 'jungfrau': 12706, 'gebumst': 12707, 'maffay': 12708, 'muraene': 12709, 'muraenien': 12710, 'lippe': 12711, 'fallenden': 12712, 'reise': 12713, 'klapprigen': 12714, 'ford': 12715, 'wuchtbrumme': 12716, 'mendig': 12717, 'staerke': 12718, 'trumpalumpa911': 12719, 'deich': 12720, 'hannoveraner201': 12721, 'aufzeigen2015': 12722, 'laechelt': 12723, 'vielsagend': 12724, 'elmar': 12725, 'fleischgewordene': 12726, 'schlaftablette': 12727, 'zusehen': 12728, 'erbarmen': 12729, 'truthful': 12730, 'german': 12731, 'freundschaftsbesuch': 12732, 'beispielsweise': 12733, 'ardennen': 12734, 'wellejena': 12735, 'unpopulaere': 12736, 'raege': 12737, 'intransparent': 12738, 'weitgehendem': 12739, 'ttip': 12740, 'migrations': 12741, 'fluechtlingspakt': 12742, 'verhasst': 12743, 'drap': 12744, 'rouge': 12745, 'lautlos': 12746, 'dekadenz': 12747, 'stadium': 12748, 'norm': 12749, 'narrenschiff': 12750, 'steue': 12751, 'volldampf': 12752, 'riff': 12753, 'rette': 12754, 'machterhalt': 12755, 'verhassten': 12756, 'juengling': 12757, 'aachen': 12758, 'ausgebuht': 12759, 'laufenden': 12760, 'rueckgabe': 12761, 'elsass': 12762, 'lothringen': 12763, 'oedipus': 12764, 'thomasraue': 12765, 'hollaendischer': 12766, 'ukw11': 12767, 'mitsingen': 12768, 'puls': 12769, 'handball': 12770, 'geguckt': 12771, 'fuereinander': 12772, 'lustlose': 12773, 'bestehend': 12774, 'balltretern': 12775, 'moegliche': 12776, 'oberkasper': 12777, 'oetzdemier': 12778, 'gebot': 12779, 'verhasste': 12780, 'auslaufmodelle': 12781, 'heike': 12782, 'gassmann': 12783, 'moslemsoehnchen': 12784, 'mittelmaessigkeit': 12785, 'endlaser': 12786, 'eitlen': 12787, 'selbstdarsteller': 12788, 'niederlage': 12789, 'mitspieler': 12790, 'eigenschaften': 12791, 'kulturfremder': 12792, 'kreise': 12793, 'cornelianoack': 12794, 'verlangst': 12795, 'fersen': 12796, 'heften': 12797, 'bischof': 12798, 'khalil': 12799, 'verarschte': 12800, 'identitaeten': 12801, 'steinzeitreligion': 12802, 'einreiste': 12803, 'whomgodhelps': 12804, 'argumenten': 12805, 'unbezahlbar': 12806, 'hographie': 12807, 'grammatik': 12808, 'satzbau': 12809, 'interpunktion': 12810, 'feilen': 12811, 'mitpoebeln': 12812, 'vergnuege': 12813, 'schaukelpferd': 12814, 'zosse': 12815, 'terzia82': 12816, 'deutschsprachenkenntnisse': 12817, 'msm': 12818, 'laufend': 12819, 'schoepfungen': 12820, 'andersdenkenden': 12821, 'schmutzige': 12822, 'technologien': 12823, 'automobilbau': 12824, 'technologie': 12825, 'muesse': 12826, 'reinem': 12827, 'unismus': 12828, 'alicewo18626168': 12829, 'volksverdummung': 12830, 'bayrische': 12831, 'geistesgroesse': 12832, 'beliebte': 12833, 'innenminister': 12834, 'zeichens': 12835, 'vorruhestand': 12836, 'freudestrahlend': 12837, 'rueckueberstellungen': 12838, 'durchgefueh': 12839, 'gretchenfrage': 12840, 'dirk': 12841, 'pietzsch': 12842, 'vollidioten': 12843, 'nachtwaechter': 12844, 'klimasau': 12845, 'stuermer': 12846, 'politbueros': 12847, 'sudelblatt': 12848, 'dogmatischer': 12849, 'kulturmarxismus': 12850, 'milder': 12851, 'heisser': 12852, 'nasser': 12853, 'ueberpruefung': 12854, 'standhaelt': 12855, 'sekundaer': 12856, 'mitgegeben': 12857, 'frenchotto': 12858, 'gelobe': 12859, 'feierlich': 12860, 'schuppigen': 12861, 'flossentraeger': 12862, 'gruenlinks': 12863, 'verfallen': 12864, 'kollektive': 12865, 'mitten': 12866, 'abgeschossen': 12867, 'ausfall': 12868, 'golfstroms': 12869, 'kollektiver': 12870, 'dachschaden': 12871, 'rieb': 12872, 'schamlos': 12873, 'profraika': 12874, 'tzzz': 12875, 'erschuette': 12876, 'lippen': 12877, 'rettungsboot': 12878, 'zwangsverlinkung': 12879, 'kuestenkorsar': 12880, 'libra08101': 12881, 'speisung': 12882, 'heiland': 12883, 'wundersame': 12884, 'vermeh': 12885, 'andreanase1': 12886, 'wilmajung': 12887, 'zwergpudel': 12888, 'schoenschoen': 12889, 'demokratienetz': 12890, 'widerling': 12891, 'allererster': 12892, 'kajuete': 12893, 'abgegeben': 12894, 'mielke': 12895, 'dbahlke': 12896, 'snoopydo3': 12897, 'brennbar': 12898, 'antifanten': 12899, 'spielberg': 12900, 'roffen': 12901, 'scheiterhaufen': 12902, 'realitaetsverweigerer': 12903, 'vermeintlich': 12904, 'erwischt': 12905, 'tolerierbar': 12906, 'unsagbar': 12907, 'ressourcen': 12908, 'vernichtende': 12909, 'verkehrsminister': 12910, 'stinkenden': 12911, 'verstopfenden': 12912, 'guelle': 12913, 'dahinrafft': 12914, 'saubersten': 12915, 'verbrauchaermsten': 12916, 'ungefaehr': 12917, 'zeckenbiss': 12918, 'narrativ': 12919, 'entstand': 12920, 'durchgeknallte': 12921, 'regierungssprecher': 12922, 'gottkanzlerin': 12923, 'unumstoesslichen': 12924, 'angibt': 12925, 'ausreichen': 12926, 'haltenstill': 12927, 'visuelle': 12928, 'offenbarungseide': 12929, 'ratgeber': 12930, 'gor': 12931, 'ks': 12932, 'dummerchen': 12933, 'haett': 12934, 'capalpha': 12935, 'irdischen': 12936, 'stinglthomas': 12937, 'geschmissen': 12938, 'abgelehnte': 12939, 'thomasreichelhb': 12940, 'personenschuetzer': 12941, 'magnitz': 12942, 'befragen': 12943, '2018wahrheit': 12944, 'ehrenspielfuehrer': 12945, 'joseph': 12946, 'abgibt': 12947, 'nachfolgerin': 12948, 'kevin': 12949, 'kuehne': 12950, 'uebergibt': 12951, 'michael21724016': 12952, 'aufklaeren': 12953, 'cassandralipsia': 12954, 'helmut': 12955, 'geltungssuechtigen': 12956, 'lackaffen': 12957, 'distanzieren': 12958, 'jalla': 12959, 'klaus': 12960, 'lederbluemchenmandarine': 12961, 'koeterrasse': 12962, 'ibikus31': 12963, 'irrer': 12964, 'aerzteverbands': 12965, 'beunruhigt': 12966, 'massenweise': 12967, 'infektionskrankheiten': 12968, 'dritten': 12969, 'tbc': 12970, 'einschleppen': 12971, 'unterschlaegt': 12972, 'montgomery': 12973, 'lieblingsaccounts': 12974, 'suchlupe': 12975, 'abgespeiche': 12976, 'dsds': 12977, 'krankes': 12978, 'misserfolg': 12979, 'kompensieren': 12980, 'psychologisches': 12981, 'gutachten': 12982, 'heilung': 12983, 'bdm': 12984, 'shiwa': 12985, 'waltraud': 12986, 'rohrstock': 12987, 'kleinsten': 12988, 'eingeimpft': 12989, 'diversitaet': 12990, 'umvolkung': 12991, 'klimahysterie': 12992, 'erfindungen': 12993, 'zurechnungsfaehigkeit': 12994, 'untersucht': 12995, 'totalschaden': 12996, 'rednerpulte': 12997, 'bearspirit888': 12998, 'klimaschuetzer': 12999, 'voelkisches': 13000, 'nest': 13001, 'vorwerfen': 13002, 'versprechungen': 13003, 'umsetzbar': 13004, 'karikieren': 13005, 'patriot': 13006, 'zoepfe': 13007, 'umweltschuetzerin': 13008, 'achtung': 13009, 'asperger': 13010, 'syndrom': 13011, 'zwangsstoerungen': 13012, 'least': 13013, 'selektivem': 13014, 'mutismus': 13015, 'papa': 13016, 'verspeist': 13017, 'kannibalismus': 13018, 'erbarme': 13019, 'bekloppten': 13020, 'diktatur': 13021, 'demokraten': 13022, 'scyltara': 13023, 'noetigen': 13024, 'tempo': 13025, 'loszuwerden': 13026, 'twinny0310': 13027, 'nachschubraten': 13028, 'abschiebungsraten': 13029, 'verschlimmern': 13030, 'faelschlicherweise': 13031, 'zuwandererzahlen': 13032, 'asylgesetzgebung': 13033, 'grundlegend': 13034, 'dokte': 13035, 'symptomen': 13036, 'achimawesome': 13037, 'geschwaenge': 13038, 'who': 13039, 'knows': 13040, 'nochmals': 13041, 'zurueckgefueh': 13042, 'zar2001doz': 13043, 'alexande': 13044, 'ill5': 13045, 'e2demi': 13046, 'tucken': 13047, 'triggern': 13048, 'homos': 13049, 'fehlgeschaltete': 13050, 'fucking': 13051, 'aesthetik': 13052, 'empfindlich': 13053, 'chantalost': 13054, 'raven': 13055, '1272': 13056, 'captblwillard': 13057, 'blueskys2nd': 13058, 'freavonwegen': 13059, 'frodilon': 13060, 'tdz771': 13061, 'sorgt': 13062, 'staunen': 13063, 'merkwuerdigsten': 13064, 'lebewesen': 13065, 'stephanbeer77': 13066, 'wegwollen': 13067, 'gemuetlich': 13068, 'ernuechterung': 13069, 'veraergerung': 13070, 'erfahrungsgemaess': 13071, 'fehlendem': 13072, 'schokopudding': 13073, 'handynetz': 13074, 'ausrastet': 13075, 'kleines': 13076, 'wochenfazit': 13077, 'hauseinstuerze': 13078, 'schneekatastrophe': 13079, 'wichtigtuer': 13080, 'ausnahmefall': 13081, 'herunterspielen': 13082, 'isseshalt': 13083, 'gelaunt': 13084, 'williibald28': 13085, 'bekloppt': 13086, 'ueberlegungen': 13087, 'glotze': 13088, 'dreissig': 13089, 'emirate': 13090, 'entstehen': 13091, 'murat': 13092, 'aische': 13093, 'pfadfinderscheisse': 13094, 'herzhaft': 13095, 'hallooooo': 13096, 'leichenhemdtragenden': 13097, 'totengraeberinnen': 13098, 'sozialdemokratie': 13099, 'muhahahaha': 13100, 'transenaccount': 13101, 'digitale': 13102, 'enddarmversilberung': 13103, 'tragik': 13104, 'wiedergeben': 13105, 'hessenschwabe': 13106, 'ave': 13107, 'maria': 13108, 'fuenfmal': 13109, 'rehabilitie': 13110, 'charlie00935': 13111, 'draengt': 13112, 'hoegl': 13113, 'winkt': 13114, 'pasemuckelnord': 13115, 'muppet': 13116, 'baum79308079': 13117, 'geisterbahn': 13118, 'rasseweiber': 13119, 'sexistisch': 13120, 'gaaanz': 13121, 'ph': 13122, 'phanuel': 13123, 'gottseidank': 13124, 'dimmo52': 13125, 'entsprechender': 13126, 'konsequenz': 13127, 'austritt': 13128, 'logischerweise': 13129, 'neuauflage': 13130, 'erfolgen': 13131, 'ratten': 13132, 'favoritarata': 13133, 'cabeachpirate': 13134, 'probepruefung': 13135, 'erkennst': 13136, 'gewisses': 13137, 'schema': 13138, 'fischbilder': 13139, 'pauken': 13140, 'zeichnungen': 13141, 'russnase': 13142, 'floyden': 13143, 'phosphor': 13144, 'vernichtend': 13145, 'niederbrennt': 13146, 'emotionen': 13147, 'apokalyptisch': 13148, 'schoepfung': 13149, 'hansastrasse': 13150, 'beschaffen': 13151, 'kursanbieter': 13152, 'geleisteten': 13153, 'eueren': 13154, 'worauf': 13155, 'sz': 13156, 'muenchen': 13157, 'eilsbegruendung': 13158, 'sonderlich': 13159, 'begeistern': 13160, 'registrieren': 13161, 'durchdrehen': 13162, 'fixie': 13163, 'nichtschreiben': 13164, 'grenzenloser': 13165, 'stress': 13166, 'eingewoehnungsphase': 13167, 'skat': 13168, 'glas': 13169, 'wein': 13170, 'reply': 13171, 'wurmt': 13172, 'furzgeraeusch': 13173, '1200favs': 13174, '1200': 13175, 'brains': 13176, 'bedingungslos': 13177, 'faven': 13178, 'buhlen': 13179, '05uhr': 13180, 'twitteranmeldung': 13181, 'gateway': 13182, 'sera': 13183, 'staddtteile': 13184, 'baeckerei': 13185, 'nazipack': 13186, 'uebelste': 13187, 'shadowban': 13188, 'fcknzs': 13189, 'pissbloede': 13190, 'nazispacke': 13191, 'wedelst': 13192, 'rocknete': 13193, 'verkuemme': 13194, 'palme': 13195, 'drecksratten': 13196, 'bann': 13197, 'bruecke': 13198, 'warst': 13199, 'vorhandene': 13200, 'toleranzgrenze': 13201, 'geduld': 13202, 'endgegner': 13203, 'game': 13204, 'over': 13205, 'ezeit': 13206, 'tilt': 13207, 'enttaeuschung': 13208, 'masslose': 13209, 'unbaendige': 13210, 'brennende': 13211, 'aengste': 13212, '1652zigste': 13213, 'darm': 13214, 'operation': 13215, 'kuenstlerischer': 13216, 'darmausgang': 13217, 'hoechstens': 13218, 'ostern': 13219, 'monatsrhythmus': 13220, 'wochenrhythmus': 13221, 'weile': 13222, 'krankenschwestern': 13223, 'pflegedienst': 13224, 'simulie': 13225, 'bankdirektor': 13226, 'kroch': 13227, 'sekretaerin': 13228, 'untergebene': 13229, 'untergeordnete': 13230, 'leere': 13231, 'hypochonder': 13232, 'kh': 13233, 'egomane': 13234, 'perfide': 13235, 'schoensten': 13236, 'erfolgreich': 13237, 'gespraechsthema': 13238, 'tyrannisie': 13239, 'jaehzornig': 13240, 'unbeherrscht': 13241, 'hausschuh': 13242, 'kochloeffel': 13243, 'kleiderbuegel': 13244, 'psychoterror': 13245, 'gedankenlos': 13246, 'empathielos': 13247, 'magelane72': 13248, 'dingern': 13249, 'ett': 13250, 'schweinskram': 13251, 'strunzdoofe': 13252, 'tiefgaragenschranke': 13253, 'zufah': 13254, 'ska': 13255, 'wuehlte': 13256, 'schranke': 13257, 'lieferwagen': 13258, 'abgerissen': 13259, 'endergirl29': 13260, 'kackscheiss': 13261, 'mutet': 13262, 'aggression': 13263, 'stag': 13264, 'junger': 13265, 'espressi': 13266, 'kackhaufen': 13267, 'ungehoe': 13268, 'hilfeschreie': 13269, 'uhrzeit': 13270, 'irgendwer': 13271, 'nonmentions': 13272, 'wecke': 13273, 'einstempeln': 13274, 'ampel': 13275, 'socke': 13276, 'pozelt': 13277, 'koa': 13278, 'lebakassemme': 13279, 'ned': 13280, 'moch': 13281, 'aung': 13282, 'lebakaskrapfn': 13283, 'spinn': 13284, 'blasphemie': 13285, 'regionalliga': 13286, 'nettes': 13287, 'furcht': 13288, 'verletzung': 13289, 'beider': 13290, 'frisst': 13291, 'alsich16war': 13292, 'bundeskanzler': 13293, 'meldete': 13294, 'apollo': 13295, '13ein': 13296, 'houston': 13297, 'farbig': 13298, 'gesendet': 13299, 'trennten': 13300, 'beatles': 13301, 'starb': 13302, 'jimi': 13303, 'hendrix': 13304, 'queen': 13305, 'kraftwerk': 13306, 'krawalligen': 13307, 'fackelzug': 13308, 'gemeinde': 13309, 'sensen': 13310, 'mistgabeln': 13311, 'dreschflegel': 13312, 'servus': 13313, 'griasde': 13314, 'naeae': 13315, 'trick': 13316, 'ueberschrieben': 13317, 'anmerkung': 13318, 'genialen': 13319, 'peinlicher': 13320, 'eck': 13321, 'punktsieg': 13322, 'muahaha': 13323, 'ypsilon': 13324, 'trini24612175': 13325, 'landeplatz': 13326, 'pleitegeier': 13327, 'reizendes': 13328, 'ehepaar': 13329, 'verzueckt': 13330, '0001f497': 13331, '0001f937': 13332, 'derlehnsherr': 13333, 'golfschlaeger': 13334, 'etage': 13335, 'naeheres': 13336, 'titelseiten': 13337, 'vergesst': 13338, 'anmerken': 13339, 'feedback': 13340, 'versehentlich': 13341, 'unabsichtlich': 13342, 'chapeau': 13343, 'peinlichen': 13344, 'duemmlichen': 13345, 'pube': 13346, 'aeren': 13347, 'droelfzig': 13348, 'kuessen': 13349, 'huebschem': 13350, 'ava': 13351, 'heilungsprozess': 13352, 'eingeschenkt': 13353, 'svenweisz': 13354, 'schmeckt': 13355, 'endet': 13356, 'abhaengig': 13357, 'tagesform': 13358, 'zutaten': 13359, 'bestandteil': 13360, 'salat': 13361, 'richtet': 13362, 'wasserwechsel': 13363, 'hierlustigen': 13364, 'stuecke': 13365, 'versionen': 13366, 'pompeji': 13367, 'staerksten': 13368, 'aussiehst': 13369, 'bewerbungstweet': 13370, 'leitungswasser': 13371, 'buegeleisen': 13372, 'huldige': 13373, 'jungchen': 13374, 'devot': 13375, 'ergaenze': 13376, 'vorstellbar': 13377, 'rotes': 13378, 'tuch': 13379, 'dannkambibi': 13380, 'futtern': 13381, 'zeitig': 13382, 'winkst': 13383, 'tuechern': 13384, 'akira': 13385, '86': 13386, 'schauem': 13387, 'hohldrehende': 13388, 'pissbirne': 13389, 'gemeldet': 13390, 'katrinhilger': 13391, 'jdkinf': 13392, 'kellerfreak': 13393, 'ed': 13394, 'knopf': 13395, 'touch': 13396, 'schaffner': 13397, 'aufgekommen': 13398, 'scheissegal': 13399, 'zewa': 13400, 'soft': 13401, '6000': 13402, 'hockt': 13403, 'dazwischen': 13404, 'plaer': 13405, 'nackig': 13406, 'zuliebe': 13407, 'dreh': 13408, '180': 13409, 'trabe': 13410, 'proviant': 13411, 'handtuch': 13412, 'lebenseinstellung': 13413, 'nullen': 13414, 'berechnen': 13415, 'entschuldige': 13416, 'betrag': 13417, 'plausible': 13418, 'zulaessige': 13419, '491': 13420, 'zugemuellten': 13421, 'kotau': 13422, 'streichholz': 13423, 'flasche': 13424, 'tabletten': 13425, 'schicksalhaften': 13426, 'schmerzen': 13427, 'dutzende': 13428, 'gequaelt': 13429, 'skrupellos': 13430, 'schicksalsnacht': 13431, 'leisen': 13432, 'unbedachten': 13433, 'boah': 13434, 'eineinein': 13435, 'jawoll': 13436, 'muelltuete': 13437, 'bea': 13438, 'angezettelt': 13439, 'nacktpremiere': 13440, 'verfilmen': 13441, 'hauptrolle': 13442, 'angucken': 13443, 'mannis': 13444, 'schwanz': 13445, 'jugendfilm': 13446, 'beteiligte': 13447, '0001f928': 13448, 'oke': 13449, 'dreien': 13450, '0001f625': 13451, 'unbeteiligte': 13452, 'km': 13453, 'erlebe': 13454, '160km': 13455, 'schrumpft': 13456, 'reaktionsgeschwindigkeit': 13457, 'aufprallenergie': 13458, 'moped': 13459, 'unbeleuchteten': 13460, 'kreuzung': 13461, 'woischt': 13462, 'peanuts': 13463, 'kleingeister': 13464, 'freiheitsberaubung': 13465, 'feuerwehr': 13466, 'gepetzt': 13467, 'favs': 13468, 'folgend': 13469, 'geschaltet': 13470, 'verzupft': 13471, 'horsthardcore': 13472, 'stehlen': 13473, 'vernichtetes': 13474, 'dschungelcamp': 13475, 'grossleinwand': 13476, 'eiccount': 13477, 'schlaumei': 13478, 'erwachsenenbilder': 13479, 'hoerst': 13480, 'seniorenmusik': 13481, 'zweitzehtee': 13482, 'fieser': 13483, 'mrsfmbb': 13484, 'schockverliebt': 13485, 'garde': 13486, 'aendere': 13487, 'nick': 13488, 'avatar': 13489, 'einstiegsdroge': 13490, 'alkohol': 13491, 'zucker': 13492, 'gekuenstelter': 13493, 'fliessbandarbeiter': 13494, 'opel': 13495, 'anzug': 13496, 'anzog': 13497, 'sischer': 13498, 'remember': 13499, 'regenschirm': 13500, 'humorlose': 13501, 'schlampe': 13502, 'intelligent': 13503, 'unsozialen': 13504, 'sozialsystem': 13505, 'feierabend': 13506, 'photo': 13507, 'kuestenrocker': 13508, 'buxe': 13509, 'batwoman': 13510, 'chillt': 13511, 'decke': 13512, 'haengend': 13513, 'anstaendig': 13514, 'gabel': 13515, 'sorgeweniger': 13516, 'update': 13517, 's9': 13518, 'mehrfach': 13519, 'prigge': 13520, 'schueper': 13521, 'banker': 13522, 'vorraum': 13523, 'zusammengebrochen': 13524, 'rueber': 13525, 'loeschen': 13526, 'twitteraccounts': 13527, 'fave': 13528, 'ads': 13529, 'runterscrollen': 13530, 'pfeil': 13531, 'screen': 13532, 'fliegen': 13533, 'okok': 13534, 'steinbruch': 13535, 'gummihammer': 13536, 'granitblock': 13537, 'ministrant': 13538, 'kaffeecup': 13539, 'mittagessen': 13540, 'rolltreppe': 13541, 'finanzielle': 13542, 'apekt': 13543, 'hoehenunterschied': 13544, 'beachtlich': 13545, 'schwieriger': 13546, 'umzuerziehen': 13547, 'begruendung': 13548, 'kennengelernt': 13549, 'stimmungsbarometer': 13550, 'amazon': 13551, 'spamversuch': 13552, 'sackgesicht': 13553, 'beef': 13554, 'asshole': 13555, 'schrott': 13556, 'egomanen': 13557, 'a8': 13558, 'a9': 13559, 'a3': 13560, 'tagesverlauf': 13561, 'zusammenfassen': 13562, 'alexa': 13563, 'tuerlich': 13564, 'gewordenes': 13565, 'material': 13566, 'optimie': 13567, 'schliessende': 13568, 'aufzugstuer': 13569, 'schmalhirn': 13570, 'echtheit': 13571, 'blutmondes': 13572, 'bestritten': 13573, 'powerpoint': 13574, 'mausklick': 13575, 'shootguy': 13576, 'gmbh': 13577, 'bitter': 13578, 'schwurbeler': 13579, 'bedrueckt': 13580, 'ueberraschen': 13581, 'geschilde': 13582, 'gesteue': 13583, 'aufsichtsratvorsitzende': 13584, 'reptiloid': 13585, 'absurden': 13586, 'knoten': 13587, 'intervallen': 13588, 'zeitinensiv': 13589, 'medi': 13590, 'cocktail': 13591, 'speiseplan': 13592, 'funny': 13593, 'luftpolsterfolie': 13594, 'tagesziel': 13595, 'knacken': 13596, 'schaedlich': 13597, 'biegen': 13598, 'olle': 13599, 'baerbock': 13600, 'verseuchten': 13601, 'barbeck': 13602, 'rundfunk': 13603, 'fernseh': 13604, 'verbiegen': 13605, 'unverschaemt': 13606, 'klappen': 13607, 'dien': 13608, 'fussnaegel': 13609, 'romantisch': 13610, 'dunkel': 13611, 'festbeleuchtung': 13612, 'hannover96': 13613, 'spielerfrauen': 13614, 'kleid': 13615, 'iset': 13616, 'zeltmacher': 13617, 'sofa': 13618, 'langweiligsten': 13619, 'gespielte': 13620, 'heulerei': 13621, 'klatscht': 13622, '3er': 13623, 'metern': 13624, 'currycassalla': 13625, 'yogaspasst': 13626, 'm0wl': 13627, 'rafft': 13628, 'curryarschhund': 13629, 'hinterfotziger': 13630, 'wahres': 13631, 'gehirnzellen': 13632, 'schnauze': 13633, 'jaehzornige': 13634, 'kackvogel': 13635, 'wuerge': 13636, 'zugucken': 13637, 'studivz': 13638, 'mitgeteilt': 13639, 'spackolacko': 13640, 'hundeficka': 13641, 'pinkeln': 13642, 'teilnehmer': 13643, 'dreharbeiten': 13644, 'hmmm': 13645, 'gekocht': 13646, 'uebers': 13647, 'bumsen': 13648, 'ausgefragt': 13649, 'stichwahl': 13650, 'lucke': 13651, 'staenkern': 13652, 'obst': 13653, 'vollgekiffte': 13654, 'fremdwo': 13655, 'drno19547243': 13656, 'sendezeit': 13657, 'geredet': 13658, 'verschuldung': 13659, 'erz': 13660, 'deligie': 13661, 'koelner': 13662, 'catweazle': 13663, 'sprachfehler': 13664, 'verdummung': 13665, 'krone': 13666, 'arie': 13667, 'kindersendung': 13668, 'bestdamnalex': 13669, 'furzen': 13670, 'godik': 13671, 'christall': 13672, 'comedians': 13673, 'krueppel': 13674, 'verkackt': 13675, 'hochgestochene': 13676, '0001f1f9': 13677, '0001f1f7': 13678, 'weicht': 13679, 'frontex': 13680, 'aufstocken': 13681, 'zaeune': 13682, 'staatsbuerger': 13683, 'schaetze': 13684, 'migrationspackt': 13685, 'arschgebu': 13686, 'svr': 13687, 'svrfcb': 13688, 'dankepolizei': 13689, 'refugeesnotwelcome': 13690, 'brwahlarena': 13691, 'hofreiter': 13692, 'unserioes': 13693, 'gucke': 13694, 'nascar': 13695, 'motorvisiontv': 13696, 'sprit': 13697, 'v8': 13698, 'abschalten': 13699, 'betruegerin': 13700, 'gehoer': 13701, 'angucke': 13702, 'terroraktivisten': 13703, 'fetten': 13704, 'spruehschiss': 13705, 'minusmenschen': 13706, 'spasten': 13707, 'festen': 13708, 'stuhlgang': 13709, 'intensiver': 13710, 'gemerkt': 13711, 'infizie': 13712, 'juengern': 13713, 'praemie': 13714, 'kaufe': 13715, 'spottpreis': 13716, 'abgase': 13717, 'schlafanzughose': 13718, 'bedankt': 13719, 'donnerstag': 13720, 'trainer': 13721, 'lorant': 13722, 'kovac': 13723, 'fcbaja': 13724, 'fritierfett': 13725, 'dauerwerbesendung': 13726, 'buecher': 13727, 'eingeblendet': 13728, 'buchmesse': 13729, 'sudermann': 13730, 'fleissig': 13731, 'saechsische': 13732, 'defamie': 13733, 'unstrittig': 13734, 'benommen': 13735, 'belegbar': 13736, 'fangen': 13737, 'raecht': 13738, 'stellst': 13739, 'ankara': 13740, 'bauantrag': 13741, 'kapelle': 13742, 'gefolte': 13743, 'sozialwohnungen': 13744, 'park': 13745, 'buden': 13746, 'kino': 13747, 'schief': 13748, 'verfluchten': 13749, 'beharren': 13750, 'koeln2909': 13751, 'cemoezdemir': 13752, 'ravensburg': 13753, 'sticht': 13754, 'sc': 13755, 'isse': 13756, 'tolles': 13757, 'verkleidet': 13758, 'genehmigen': 13759, 'schnallen': 13760, 'verkacker': 13761, 'fatale': 13762, 'radikalisierungshaeuser': 13763, 'serioese': 13764, 'hirnlose': 13765, 'anzugreifen': 13766, 'luegengeschichten': 13767, 'benehmen': 13768, 'grundlose': 13769, 'gekreische': 13770, 'nichtsnutzen': 13771, 'fremden': 13772, 'abenteuerspielplatz': 13773, 'austoben': 13774, 'solidaritycityfrankfu': 13775, 'april': 13776, 'schillerstrasse': 13777, 'friede': 13778, 'huetten': 13779, 'bewohnerinnen': 13780, 'leerstehenden': 13781, 'ferro': 13782, 'gelaendes': 13783, '16h': 13784, 'protestaktion': 13785, 'zuverlaessigkeitsueberpruefung': 13786, 'gesinnungsueberpruefung': 13787, 'staatsschutz': 13788, 'volkshaus': 13789, 'halkevi': 13790, 'hessen': 13791, 'werrastrasse': 13792, 'eskalation': 13793, 'atommaechten': 13794, 'anschl': 13795, 'abschlusskundgebung': 13796, 'zukunftswerkstatt': 13797, 'landespa': 13798, 'floersheim': 13799, 'wetzlar': 13800, 'geschlossen': 13801, 'wz2403': 13802, 'nonpd': 13803, 'sitzstreik': 13804, 'teilnahme': 13805, 'bij': 13806, 'berxwedana': 13807, 'efr': 13808, 'fight4afrin': 13809, '21mrz': 13810, 'unsernewroz': 13811, 'kreisvorstand': 13812, 'mike': 13813, 'josef': 13814, 'verhandelt': 13815, 'aussper': 13816, 'erhebt': 13817, '18h': 13818, 'eschersheimer': 13819, 'protestkundgebung': 13820, 'kennedyallee': 13821, '02': 13822, 'individueller': 13823, 'gesellschaftlicher': 13824, 'historisches': 13825, 'saalhof': 13826, 'ausstellungseroeffnung': 13827, 'gedenkens': 13828, 'rotearmee': 13829, 'abschiedsball': 13830, 'koblenzer': 13831, 'knobbe': 13832, 'siks': 13833, 'ciao': 13834, 'aufwiedersehen': 13835, 'palmenga': 13836, 'enstr': 13837, 'prochoice': 13838, 'kristinahaenel': 13839, 'staatl': 13840, 'bedrohten': 13841, 'refugeehousingsquats': 13842, 'athen': 13843, 'griech': 13844, 'zeppelinallee': 13845, 'tuerkische': 13846, 'jesiden': 13847, 'hayir': 13848, 'gemeinsame': 13849, 'zuganreise': 13850, 'kurzentschlossene': 13851, 'gleis': 13852, 'halit': 13853, 'keinnaechstesopfer': 13854, 'temmeinderklemme': 13855, 'kassel': 13856, 'aufloesen': 13857, 'gedenkveranstaltung': 13858, 'halitplatz': 13859, 'darmstadt': 13860, 'liebig': 13861, 'bachstrasse': 13862, 'buergersprechstunde': 13863, '18m': 13864, 'amtsgericht': 13865, 'hammelsgasse': 13866, 'og': 13867, '92': 13868, 'lampe': 13869, 'sri': 13870, 'lanka': 13871, 'flammen': 13872, 'keinvergessen': 13873, '2016': 13874, '14h': 13875, 'fragendem': 13876, 'notruftelefon': 13877, '95': 13878, 'ffm4all': 13879, 'gegenbuchmasse': 13880, 'lesenacht': 13881, 'stadion': 13882, 'robokratie': 13883, 'protestfoto': 13884, 'spontandemo': 13885, 'arbeitstreffen': 13886, 'di': 13887, 'nootcamp': 13888, 'kaiserstr': 13889, 'sammelten': 13890, 'vorgebl': 13891, 'lilibochum': 13892, 'syr': 13893, 'brueder': 13894, 'trainofhopeffm': 13895, 'trainofhope': 13896, 'sonderzug': 13897, 'freilassing': 13898, 'rd': 13899, 'nordbahnhof': 13900, 'hanau': 13901, 'max': 13902, '30uhr': 13903, 'deckenspenden': 13904, 'wilhelmleuchner': 13905, '77': 13906, 'gebaeudes': 13907, 'demonstration': 13908, 'umtriebe': 13909, 'heidenau': 13910, 'demonstation': 13911, 'pogrome': 13912, 'dd2908': 13913, 'hauptbahnhof': 13914, 'wg': 13915, 'polizeigewalt': 13916, 'kessel': 13917, '2013': 13918, 'wandel': 13919, 'attac': 13920, 'klimacamp': 13921, 'gelaende': 13922, 'august': 13923, 'garzsweiler': 13924, 'untergrund': 13925, 'exzess': 13926, 'mumia': 13927, 'abu': 13928, 'jamal': 13929, 'lesung': 13930, 'mumiaabujamal': 13931, 'feemumia': 13932, 'drohnen': 13933, 'antimil': 13934, 'titania': 13935, 'basaltstr': 13936, 'heidi': 13937, 'fede': 13938, 'libero': 13939, 'freilassung': 13940, 'federico': 13941, 'freefede': 13942, 'jva': 13943, 'preungesheim': 13944, 'holt': 13945, 'bagida': 13946, 'stuerzenberger': 13947, 'angemeldet': 13948, 'blockieren': 13949, 'erfolgreiche': 13950, '3000': 13951, 'aktionstag': 13952, 'verschwundenen': 13953, 'ayotzinapa': 13954, 'mexiko': 13955, 'sproengs': 13956, 'linksnavi': 13957, 'geplaenkel': 13958, 'verschont': 13959, 'freiewaehler': 13960, 'achtet': 13961, 'ankuendigungn': 13962, 'gabs': 13963, 'mieterve': 13964, 'minai': 13965, 'immo': 13966, 'wgds': 13967, 'rechtaufstadt': 13968, 'vormerken': 13969, 'poetry': 13970, 'slam': 13971, 'benefiz': 13972, 'pkk': 13973, 'kurd': 13974, 'fffm': 13975, 'busse': 13976, 'bundesweiten': 13977, '2014': 13978, 'morgens': 13979, 'suedbahnhof': 13980, 'kurdischenverein': 13981, '17uhr': 13982, 'solidaritaets': 13983, 'lufthansa': 13984, 'streicht': 13985, 'fluege': 13986, 'kondensstreifen': 13987, 'ungeborene': 13988, '37': 13989, 'abbrueche': 13990, 'bemerkt': 13991, 'homoepathie': 13992, 'streichen': 13993, 'brillen': 13994, 'thomasruettgers': 13995, 'seyranates': 13996, 'progressiv': 13997, 'beklagen': 13998, 'ablehnen': 13999, 'graue': 14000, 'regressive': 14001, 'anhoeren': 14002, 'spruch': 14003, 'wes': 14004, 'konter': 14005, 'newman': 14006, 'dcleaks': 14007, 'hillary': 14008, 'clinton': 14009, 'betreibt': 14010, 'kinderporno': 14011, 'gespraechspa': 14012, 'synelly': 14013, 'hhuesino': 14014, 'organisieren': 14015, 'antitheist': 14016, 'kasse': 14017, 'schwierigkeit': 14018, 'mgm': 14019, 'fgm': 14020, 'allg': 14021, 'religionssteuer': 14022, 'abzulehnen': 14023, 'klingeausgras': 14024, 'pferden': 14025, 'angaben': 14026, 'eineme': 14027, 'schreibmutti': 14028, 'homoepathischen': 14029, 'mittelchen': 14030, 'kaufst': 14031, 'hochsensibel': 14032, 'einbildet': 14033, 'arminlaschet': 14034, 'zwerchfell': 14035, 'geplatzt': 14036, 'staerkung': 14037, 'verbesserung': 14038, 'soziooekonmischen': 14039, 'umstaende': 14040, 'betrifft': 14041, 'nationalistische': 14042, 'wenige': 14043, 'programme': 14044, 'ideas': 14045, 'beyond': 14046, 'border': 14047, 'vermitteln': 14048, 'umweg': 14049, 'beruhigen': 14050, 'fasnix': 14051, 'kernkraft': 14052, 'contra': 14053, 'fusion': 14054, 'erlaeutern': 14055, 'vision': 14056, 'establishment': 14057, 'konfrontie': 14058, 'anderswo': 14059, 'gegenreaktionen': 14060, 'politikergarde': 14061, 'rahmenbedingungen': 14062, 'grosskonzerne': 14063, 'gegeneinander': 14064, 'ausspielen': 14065, 'anhoe': 14066, 'umzusetzen': 14067, 'vehemenz': 14068, 'pallokat': 14069, 'radiomaryja': 14070, 'sichtweise': 14071, 'befiehlt': 14072, 'gehorcht': 14073, 'spruechen': 14074, 'konservativer': 14075, 'matthiasma': 14076, 'juliekurz': 14077, 'vorgaenger': 14078, 'davies': 14079, 'raab': 14080, 'entscheidungen': 14081, 'oberhand': 14082, 'fiasko': 14083, 'beine': 14084, 'sanktions': 14085, 'klassische': 14086, 'projektion': 14087, 'zurueckgelehnte': 14088, 'sitzenbleiber': 14089, 'nachschlagen': 14090, 'neoliberalismus': 14091, 'pruefen': 14092, 'framing': 14093, 'erkenne': 14094, 'versuchst': 14095, 'unbedarfter': 14096, 'naivling': 14097, 'framen': 14098, 'ausgang': 14099, 'koenne': 14100, 'voter': 14101, 'purging': 14102, 'gerrymandeting': 14103, 'desto': 14104, 'blue': 14105, 'wave': 14106, 'charakterloser': 14107, 'brauner': 14108, 'milchtoast': 14109, 'apothekerder': 14110, 'homoeopathischen': 14111, 'dosen': 14112, 'harsch': 14113, 'vorkommen': 14114, 'begriffen': 14115, 'southern': 14116, 'strategy': 14117, 'john': 14118, 'ehrlichmann': 14119, 'symptom': 14120, 'zutiefst': 14121, 'freudige': 14122, 'gruseln': 14123, 'weltspiegel': 14124, 'instabilen': 14125, 'tk': 14126, 'translate': 14127, 'mumpitz': 14128, 'sinnvolle': 14129, 'kirchenmitglieder': 14130, 'bemuehen': 14131, 'saekulare': 14132, 'ebensowenig': 14133, 'kodifizie': 14134, 'nazikommunist': 14135, 'schimpfwo': 14136, 'beschreibt': 14137, 'dysfunktional': 14138, 'epa': 14139, 'vorgemacht': 14140, 'hochzusetzen': 14141, 'asbest': 14142, 'rauen': 14143, 'anpassungen': 14144, 'rechne': 14145, 'schlichtweg': 14146, 'banane': 14147, 'mbs': 14148, 'reformer': 14149, 'kleriker': 14150, 'argumentative': 14151, 'pedo': 14152, 'gop': 14153, 'problempunkte': 14154, 'ansprechen': 14155, 'glaubwuerdigkeitsproblem': 14156, 'predigen': 14157, 'littlewisehen': 14158, 'ramadans': 14159, 'fasten': 14160, 'menschmerz': 14161, 'andeutungen': 14162, 'ausfluechte': 14163, 'protokolliere': 14164, 'ezeiten': 14165, 'februar': 14166, 'erei': 14167, 'verbracht': 14168, 'erfreulich': 14169, 'positiv': 14170, 'oepnv': 14171, 'goldeneraluhut': 14172, 'geschmack': 14173, 'trinke': 14174, 'ausgekochtes': 14175, 'sabber': 14176, 'fliesst': 14177, 'ausgetrocknete': 14178, 'pflaume': 14179, 'derbuddler': 14180, 'lui': 14181, 'abgreifen': 14182, 'financier': 14183, 'gedient': 14184, 'training': 14185, 'leber': 14186, 'hauptgrund': 14187, 'beibehaltung': 14188, 'wehrpflicht': 14189, 'zivildienst': 14190, 'arbeitskraefte': 14191, 'sammeln': 14192, 'frauenfeindliche': 14193, 'david': 14194, 'schraven': 14195, 'org': 14196, 'mails': 14197, 'variationen': 14198, 'itler': 14199, 'ignore': 14200, 'elser': 14201, 'verletzte': 14202, 'glorreich': 14203, 'endlos': 14204, 'vokabel': 14205, 'ereignisse': 14206, 'angesichts': 14207, 'terrorbekaempfung': 14208, 'schaftlich': 14209, 'ggue': 14210, 'intervenieren': 14211, 'aggressionen': 14212, 'organisie': 14213, 'schlagkraeftige': 14214, 'weltkrieg': 14215, 'glorifizierung': 14216, 'strikt': 14217, 'glorreiche': 14218, 'beendigung': 14219, 'kuenftige': 14220, 'konflikte': 14221, 'scheite': 14222, 'logo': 14223, 'frischer': 14224, 'antimyon106': 14225, 'yt': 14226, 'scimandan': 14227, 'unfaehig': 14228, 'flatties': 14229, 'ueberwinden': 14230, 'murks': 14231, 'schulwissen': 14232, 'debunken': 14233, 'glashaus': 14234, 'rumjammerst': 14235, 'antitheism': 14236, 'atheism': 14237, 'parisiennes': 14238, 'sont': 14239, 'belles': 14240, 'que': 14241, 'sous': 14242, 'pluie': 14243, 'il': 14244, 'pleut': 14245, 'rarement': 14246, 'sur': 14247, 'autoritaet': 14248, 'schul': 14249, 'only': 14250, 'regnet': 14251, 'ali': 14252, 'folgte': 14253, 'prisonpaul': 14254, 'infowars': 14255, 'faktfreien': 14256, 'beteiligen': 14257, 'yigit': 14258, 'abgefueh': 14259, 'verstoss': 14260, 'selbstverstaendlichkeit': 14261, 'bestand': 14262, 'pressefreiheit': 14263, 'verachtenswuerdigen': 14264, 'verstuemmelungen': 14265, 'befuerwo': 14266, 'praktiken': 14267, 'gerechnet': 14268, 'wm': 14269, 'verpassen': 14270, 'nichte': 14271, 'fox': 14272, 'erzkonservative': 14273, 'message': 14274, 'despoten': 14275, 'diktatoren': 14276, 'unbedarfte': 14277, 'nouripour': 14278, 'gegenpa': 14279, 'saudiarabien': 14280, 'vernichtungstrip': 14281, 'schuldig': 14282, 'bundesrat': 14283, 'pervers': 14284, 'korrekte': 14285, 'charakterisierung': 14286, 'rituale': 14287, 'star': 14288, 'trek': 14289, 'duet': 14290, 'deep': 14291, 'space': 14292, 'nine': 14293, 'ethik': 14294, 'unterricht': 14295, 'festplatten': 14296, 'backups': 14297, 'ragsverhandlungen': 14298, 'kurdenfrage': 14299, 'schlagendes': 14300, 'blickt': 14301, 'unitaet': 14302, 'angeheizt': 14303, 'fuelle': 14304, 'auszuweiten': 14305, 'ueberdenken': 14306, 'umbau': 14307, 'chp': 14308, 'loesen': 14309, 'geschweige': 14310, 'strategisch': 14311, 'atatuerk': 14312, 'spekulation': 14313, 'bildungs': 14314, 'gewichtiger': 14315, 'indikator': 14316, 'emanzipierungs': 14317, 'phase': 14318, 'zivil': 14319, 'washing': 14320, 'entente': 14321, 'maechte': 14322, 'etliches': 14323, 'erspa': 14324, 'geblieben': 14325, 'cents': 14326, 'mca': 14327, 'hur': 14328, 'briefe': 14329, 'moderner': 14330, 'ersatzmann': 14331, 'ggf': 14332, 'korrigieren': 14333, 'erfahrungsbedingt': 14334, 'zapfen': 14335}\n"
          ]
        }
      ]
    },
    {
      "cell_type": "code",
      "source": [
        "\n",
        "\n",
        "encoded_clean_text_t_stem = tok_all.texts_to_sequences(clean_text_t_stem)\n",
        "print(clean_text_t_stem[0])\n",
        "print(encoded_clean_text_t_stem[0])\n",
        "\n"
      ],
      "metadata": {
        "colab": {
          "base_uri": "https://localhost:8080/"
        },
        "outputId": "59f77879-539a-47a9-eedc-f22ee521f3cf",
        "id": "Z11t5JaBjfoe"
      },
      "execution_count": null,
      "outputs": [
        {
          "output_type": "stream",
          "name": "stdout",
          "text": [
            " janzimmhhb  mopo komisch realitaetsverweigerung immer linken erbaermlichen correctiv accounts ausgeht...\n",
            "[9232, 12, 197, 16722]\n"
          ]
        }
      ]
    },
    {
      "cell_type": "code",
      "source": [
        "\n",
        "\n",
        "from keras.preprocessing import sequence\n",
        "max_length = 100\n",
        "padded_clean_text_t_stem = sequence.pad_sequences(encoded_clean_text_t_stem, maxlen=max_length, padding='pre')\n",
        "\n"
      ],
      "metadata": {
        "id": "sW7FM2vMjfoe"
      },
      "execution_count": null,
      "outputs": []
    },
    {
      "cell_type": "markdown",
      "source": [
        "# FastText Embeddings\n"
      ],
      "metadata": {
        "id": "pHUPrJoDjfof"
      }
    },
    {
      "cell_type": "code",
      "source": [
        "from google.colab import drive\n",
        "drive.mount('/content/drive')"
      ],
      "metadata": {
        "colab": {
          "base_uri": "https://localhost:8080/"
        },
        "outputId": "43c24fe3-66b2-4d4a-df3a-9406c804df7e",
        "id": "_Z3enSwfjfof"
      },
      "execution_count": null,
      "outputs": [
        {
          "output_type": "stream",
          "name": "stdout",
          "text": [
            "Mounted at /content/drive\n"
          ]
        }
      ]
    },
    {
      "cell_type": "code",
      "source": [
        "!gunzip /content/drive/MyDrive/cc.de.300.vec.gz"
      ],
      "metadata": {
        "colab": {
          "base_uri": "https://localhost:8080/"
        },
        "outputId": "02a5874b-3fda-4e25-d86b-acd043216281",
        "id": "BNNGMtUrjfof"
      },
      "execution_count": null,
      "outputs": [
        {
          "output_type": "stream",
          "name": "stdout",
          "text": [
            "gzip: /content/drive/MyDrive/cc.de.300.vec.gz: No such file or directory\n"
          ]
        }
      ]
    },
    {
      "cell_type": "code",
      "source": [
        "# https://stackoverflow.com/questions/69964788/how-to-unzip-gz-file-using-google-colab\n",
        "\n",
        "# FastText Embedding link - https://fasttext.cc/docs/en/crawl-vectors.html\n",
        "\n",
        "import os\n",
        "embeddings_index = {}\n",
        "f = open('/content/drive/MyDrive/cc.de.300.vec',encoding='utf-8',errors='ignore')\n",
        "for line in f:\n",
        "    values = line.split()\n",
        "    word = values[0]\n",
        "    coefs = np.asarray(values[1:], dtype='float32')\n",
        "    embeddings_index[word] = coefs\n",
        "f.close()\n",
        "print('Loaded %s word vectors.' % len(embeddings_index))\n",
        "\n"
      ],
      "metadata": {
        "colab": {
          "base_uri": "https://localhost:8080/"
        },
        "outputId": "5ff49cb9-9022-48a0-a686-2c42e4bb2231",
        "id": "nxQCn2Qkjfof"
      },
      "execution_count": null,
      "outputs": [
        {
          "output_type": "stream",
          "name": "stdout",
          "text": [
            "Loaded 2000000 word vectors.\n"
          ]
        }
      ]
    },
    {
      "cell_type": "code",
      "source": [
        "\n",
        "\n",
        "embedding_matrix = np.zeros((vocabulary_all+1, 300))\n",
        "for word, i in tok_all.word_index.items():\n",
        "    embedding_vector = embeddings_index.get(word)\n",
        "    if embedding_vector is not None:\n",
        "         embedding_matrix[i] = embedding_vector\n",
        "\n"
      ],
      "metadata": {
        "id": "K83pZxgEjfog"
      },
      "execution_count": null,
      "outputs": []
    },
    {
      "cell_type": "markdown",
      "source": [
        "# CNN 1 Model\n"
      ],
      "metadata": {
        "id": "MbwW5YmAjfog"
      }
    },
    {
      "cell_type": "code",
      "source": [
        "\n",
        "\n",
        "from keras.preprocessing import sequence\n",
        "from keras.preprocessing import text\n",
        "import numpy as np\n",
        "from keras.models import Sequential\n",
        "from keras.layers import Dense, Dropout, Activation\n",
        "from keras.layers import Embedding, LSTM\n",
        "from keras.layers import Conv1D, Flatten\n",
        "from keras.preprocessing import text\n",
        "from keras.models import Sequential,Model\n",
        "from keras.layers import Dense ,Activation,MaxPool1D,Conv1D,Flatten,Dropout,Activation,Dropout,Input,Lambda,concatenate\n",
        "from keras.utils import np_utils\n",
        "from nltk.corpus import stopwords\n",
        "from nltk.tokenize import RegexpTokenizer\n",
        "from nltk.stem.porter import PorterStemmer\n",
        "import nltk\n",
        "import csv\n",
        "import pandas as pd\n",
        "\n",
        "from keras.preprocessing import text as keras_text, sequence as keras_seq\n",
        "\n"
      ],
      "metadata": {
        "id": "pspsEJ81jfog"
      },
      "execution_count": null,
      "outputs": []
    },
    {
      "cell_type": "code",
      "source": [
        "Embedding_Layer = Embedding(vocabulary_all+1, 300, weights=[embedding_matrix], input_length=max_length)"
      ],
      "metadata": {
        "id": "OF4ayQYJjfog"
      },
      "execution_count": null,
      "outputs": []
    },
    {
      "cell_type": "code",
      "source": [
        "CNN1_network=Sequential([Embedding_Layer,\n",
        "                        Conv1D(128,3,activation=\"relu\",padding='same'),\n",
        "                       Dropout(0.2),\n",
        "                       MaxPool1D(2),\n",
        "                       Flatten(),\n",
        "                       Dense(64,activation=\"relu\"),\n",
        "                       Dropout(0.3),\n",
        "                       Dense(2,activation=\"sigmoid\")\n",
        "                       ])\n",
        "\n"
      ],
      "metadata": {
        "id": "74-DDR4kjfoh"
      },
      "execution_count": null,
      "outputs": []
    },
    {
      "cell_type": "code",
      "source": [
        "CNN1_network.summary()"
      ],
      "metadata": {
        "colab": {
          "base_uri": "https://localhost:8080/"
        },
        "outputId": "8d9f14c3-7a69-4a8a-e478-a7641afd1a62",
        "id": "zZ_JmdYvjfoh"
      },
      "execution_count": null,
      "outputs": [
        {
          "output_type": "stream",
          "name": "stdout",
          "text": [
            "Model: \"sequential\"\n",
            "_________________________________________________________________\n",
            " Layer (type)                Output Shape              Param #   \n",
            "=================================================================\n",
            " embedding (Embedding)       (None, 100, 300)          5198400   \n",
            "                                                                 \n",
            " conv1d (Conv1D)             (None, 100, 128)          115328    \n",
            "                                                                 \n",
            " dropout (Dropout)           (None, 100, 128)          0         \n",
            "                                                                 \n",
            " max_pooling1d (MaxPooling1D  (None, 50, 128)          0         \n",
            " )                                                               \n",
            "                                                                 \n",
            " flatten (Flatten)           (None, 6400)              0         \n",
            "                                                                 \n",
            " dense (Dense)               (None, 64)                409664    \n",
            "                                                                 \n",
            " dropout_1 (Dropout)         (None, 64)                0         \n",
            "                                                                 \n",
            " dense_1 (Dense)             (None, 2)                 130       \n",
            "                                                                 \n",
            "=================================================================\n",
            "Total params: 5,723,522\n",
            "Trainable params: 5,723,522\n",
            "Non-trainable params: 0\n",
            "_________________________________________________________________\n"
          ]
        }
      ]
    },
    {
      "cell_type": "code",
      "source": [
        "# https://stackoverflow.com/questions/62707558/importerror-cannot-import-name-adam-from-keras-optimizers\n",
        "from tensorflow.keras.optimizers import Adam\n",
        "CNN1_network.compile(loss = \"binary_crossentropy\", optimizer=Adam(lr=0.00003), metrics=[\"accuracy\"])"
      ],
      "metadata": {
        "colab": {
          "base_uri": "https://localhost:8080/"
        },
        "outputId": "ef6af9f8-9d18-4416-ac97-7ed7c157c431",
        "id": "6nvk98q5jfoh"
      },
      "execution_count": null,
      "outputs": [
        {
          "output_type": "stream",
          "name": "stderr",
          "text": [
            "/usr/local/lib/python3.7/dist-packages/keras/optimizer_v2/adam.py:105: UserWarning: The `lr` argument is deprecated, use `learning_rate` instead.\n",
            "  super(Adam, self).__init__(name, **kwargs)\n"
          ]
        }
      ]
    },
    {
      "cell_type": "code",
      "source": [
        "from keras.utils.vis_utils import plot_model\n",
        "plot_model(CNN1_network, to_file='CNN2_model_Train_GERMEVAL2018_Test_GERMEVAL2019_TASK_A.png', show_shapes=True, show_layer_names=True)\n",
        "\n",
        "from keras.callbacks import EarlyStopping, ReduceLROnPlateau,ModelCheckpoint\n",
        "earlystopper = EarlyStopping(patience=8, verbose=1)\n",
        "\n",
        "reduce_lr = ReduceLROnPlateau(monitor='val_loss', factor=0.9,\n",
        "                              patience=2, min_lr=0.00001, verbose=1)\n",
        "\n"
      ],
      "metadata": {
        "id": "_Rx9SXMojfoh"
      },
      "execution_count": null,
      "outputs": []
    },
    {
      "cell_type": "code",
      "source": [
        "\n",
        "\n",
        "from keras.callbacks import EarlyStopping, ReduceLROnPlateau,ModelCheckpoint\n",
        "earlystopper = EarlyStopping(patience=8, verbose=1)\n",
        "\n",
        "reduce_lr = ReduceLROnPlateau(monitor='val_loss', factor=0.9,\n",
        "                              patience=2, min_lr=0.00001, verbose=1)\n",
        "\n"
      ],
      "metadata": {
        "id": "4ku8eDghjfoi"
      },
      "execution_count": null,
      "outputs": []
    },
    {
      "cell_type": "markdown",
      "source": [
        "# Model Fitting or Training\n"
      ],
      "metadata": {
        "id": "dcTl27sbjfoi"
      }
    },
    {
      "cell_type": "code",
      "source": [
        "hist = CNN1_network.fit(padded_clean_text_stem,label_twoDimension,epochs=200,batch_size=32,callbacks=[earlystopper, reduce_lr])"
      ],
      "metadata": {
        "colab": {
          "base_uri": "https://localhost:8080/"
        },
        "outputId": "e576be91-d445-4fed-dc26-7907829a980e",
        "id": "0kwZlKxOjfoi"
      },
      "execution_count": null,
      "outputs": [
        {
          "output_type": "stream",
          "name": "stdout",
          "text": [
            "Epoch 1/200\n",
            "157/157 [==============================] - ETA: 0s - loss: 0.6639 - accuracy: 0.6486"
          ]
        },
        {
          "output_type": "stream",
          "name": "stderr",
          "text": [
            "WARNING:tensorflow:Early stopping conditioned on metric `val_loss` which is not available. Available metrics are: loss,accuracy\n",
            "WARNING:tensorflow:Learning rate reduction is conditioned on metric `val_loss` which is not available. Available metrics are: loss,accuracy,lr\n"
          ]
        },
        {
          "output_type": "stream",
          "name": "stdout",
          "text": [
            "\b\b\b\b\b\b\b\b\b\b\b\b\b\b\b\b\b\b\b\b\b\b\b\b\b\b\b\b\b\b\b\b\b\b\b\b\b\b\b\b\b\b\b\b\b\b\b\b\b\b\b\b\b\b\b\b\b\b\b\b\b\b\b\b\b\b\b\b\b\b\b\b\b\b\b\b\b\b\b\b\b\b\b\b\r157/157 [==============================] - 14s 8ms/step - loss: 0.6639 - accuracy: 0.6486 - lr: 3.0000e-05\n",
            "Epoch 2/200\n",
            "157/157 [==============================] - ETA: 0s - loss: 0.6407 - accuracy: 0.6630"
          ]
        },
        {
          "output_type": "stream",
          "name": "stderr",
          "text": [
            "WARNING:tensorflow:Early stopping conditioned on metric `val_loss` which is not available. Available metrics are: loss,accuracy\n",
            "WARNING:tensorflow:Learning rate reduction is conditioned on metric `val_loss` which is not available. Available metrics are: loss,accuracy,lr\n"
          ]
        },
        {
          "output_type": "stream",
          "name": "stdout",
          "text": [
            "\b\b\b\b\b\b\b\b\b\b\b\b\b\b\b\b\b\b\b\b\b\b\b\b\b\b\b\b\b\b\b\b\b\b\b\b\b\b\b\b\b\b\b\b\b\b\b\b\b\b\b\b\b\b\b\b\b\b\b\b\b\b\b\b\b\b\b\b\b\b\b\b\b\b\b\b\b\b\b\b\b\b\b\b\r157/157 [==============================] - 1s 7ms/step - loss: 0.6407 - accuracy: 0.6630 - lr: 3.0000e-05\n",
            "Epoch 3/200\n",
            "155/157 [============================>.] - ETA: 0s - loss: 0.6354 - accuracy: 0.6625"
          ]
        },
        {
          "output_type": "stream",
          "name": "stderr",
          "text": [
            "WARNING:tensorflow:Early stopping conditioned on metric `val_loss` which is not available. Available metrics are: loss,accuracy\n",
            "WARNING:tensorflow:Learning rate reduction is conditioned on metric `val_loss` which is not available. Available metrics are: loss,accuracy,lr\n"
          ]
        },
        {
          "output_type": "stream",
          "name": "stdout",
          "text": [
            "\b\b\b\b\b\b\b\b\b\b\b\b\b\b\b\b\b\b\b\b\b\b\b\b\b\b\b\b\b\b\b\b\b\b\b\b\b\b\b\b\b\b\b\b\b\b\b\b\b\b\b\b\b\b\b\b\b\b\b\b\b\b\b\b\b\b\b\b\b\b\b\b\b\b\b\b\b\b\b\b\b\b\b\b\r157/157 [==============================] - 1s 7ms/step - loss: 0.6350 - accuracy: 0.6630 - lr: 3.0000e-05\n",
            "Epoch 4/200\n",
            "155/157 [============================>.] - ETA: 0s - loss: 0.6331 - accuracy: 0.6621"
          ]
        },
        {
          "output_type": "stream",
          "name": "stderr",
          "text": [
            "WARNING:tensorflow:Early stopping conditioned on metric `val_loss` which is not available. Available metrics are: loss,accuracy\n",
            "WARNING:tensorflow:Learning rate reduction is conditioned on metric `val_loss` which is not available. Available metrics are: loss,accuracy,lr\n"
          ]
        },
        {
          "output_type": "stream",
          "name": "stdout",
          "text": [
            "\b\b\b\b\b\b\b\b\b\b\b\b\b\b\b\b\b\b\b\b\b\b\b\b\b\b\b\b\b\b\b\b\b\b\b\b\b\b\b\b\b\b\b\b\b\b\b\b\b\b\b\b\b\b\b\b\b\b\b\b\b\b\b\b\b\b\b\b\b\b\b\b\b\b\b\b\b\b\b\b\b\b\b\b\r157/157 [==============================] - 1s 7ms/step - loss: 0.6325 - accuracy: 0.6630 - lr: 3.0000e-05\n",
            "Epoch 5/200\n",
            "152/157 [============================>.] - ETA: 0s - loss: 0.6258 - accuracy: 0.6620"
          ]
        },
        {
          "output_type": "stream",
          "name": "stderr",
          "text": [
            "WARNING:tensorflow:Early stopping conditioned on metric `val_loss` which is not available. Available metrics are: loss,accuracy\n",
            "WARNING:tensorflow:Learning rate reduction is conditioned on metric `val_loss` which is not available. Available metrics are: loss,accuracy,lr\n"
          ]
        },
        {
          "output_type": "stream",
          "name": "stdout",
          "text": [
            "\b\b\b\b\b\b\b\b\b\b\b\b\b\b\b\b\b\b\b\b\b\b\b\b\b\b\b\b\b\b\b\b\b\b\b\b\b\b\b\b\b\b\b\b\b\b\b\b\b\b\b\b\b\b\b\b\b\b\b\b\b\b\b\b\b\b\b\b\b\b\b\b\b\b\b\b\b\b\b\b\b\b\b\b\r157/157 [==============================] - 1s 7ms/step - loss: 0.6248 - accuracy: 0.6630 - lr: 3.0000e-05\n",
            "Epoch 6/200\n",
            "155/157 [============================>.] - ETA: 0s - loss: 0.6150 - accuracy: 0.6631"
          ]
        },
        {
          "output_type": "stream",
          "name": "stderr",
          "text": [
            "WARNING:tensorflow:Early stopping conditioned on metric `val_loss` which is not available. Available metrics are: loss,accuracy\n",
            "WARNING:tensorflow:Learning rate reduction is conditioned on metric `val_loss` which is not available. Available metrics are: loss,accuracy,lr\n"
          ]
        },
        {
          "output_type": "stream",
          "name": "stdout",
          "text": [
            "\b\b\b\b\b\b\b\b\b\b\b\b\b\b\b\b\b\b\b\b\b\b\b\b\b\b\b\b\b\b\b\b\b\b\b\b\b\b\b\b\b\b\b\b\b\b\b\b\b\b\b\b\b\b\b\b\b\b\b\b\b\b\b\b\b\b\b\b\b\b\b\b\b\b\b\b\b\b\b\b\b\b\b\b\r157/157 [==============================] - 1s 7ms/step - loss: 0.6149 - accuracy: 0.6632 - lr: 3.0000e-05\n",
            "Epoch 7/200\n",
            "157/157 [==============================] - ETA: 0s - loss: 0.6005 - accuracy: 0.6642"
          ]
        },
        {
          "output_type": "stream",
          "name": "stderr",
          "text": [
            "WARNING:tensorflow:Early stopping conditioned on metric `val_loss` which is not available. Available metrics are: loss,accuracy\n",
            "WARNING:tensorflow:Learning rate reduction is conditioned on metric `val_loss` which is not available. Available metrics are: loss,accuracy,lr\n"
          ]
        },
        {
          "output_type": "stream",
          "name": "stdout",
          "text": [
            "\b\b\b\b\b\b\b\b\b\b\b\b\b\b\b\b\b\b\b\b\b\b\b\b\b\b\b\b\b\b\b\b\b\b\b\b\b\b\b\b\b\b\b\b\b\b\b\b\b\b\b\b\b\b\b\b\b\b\b\b\b\b\b\b\b\b\b\b\b\b\b\b\b\b\b\b\b\b\b\b\b\b\b\b\r157/157 [==============================] - 1s 7ms/step - loss: 0.6005 - accuracy: 0.6642 - lr: 3.0000e-05\n",
            "Epoch 8/200\n",
            "156/157 [============================>.] - ETA: 0s - loss: 0.5789 - accuracy: 0.6731"
          ]
        },
        {
          "output_type": "stream",
          "name": "stderr",
          "text": [
            "WARNING:tensorflow:Early stopping conditioned on metric `val_loss` which is not available. Available metrics are: loss,accuracy\n",
            "WARNING:tensorflow:Learning rate reduction is conditioned on metric `val_loss` which is not available. Available metrics are: loss,accuracy,lr\n"
          ]
        },
        {
          "output_type": "stream",
          "name": "stdout",
          "text": [
            "\b\b\b\b\b\b\b\b\b\b\b\b\b\b\b\b\b\b\b\b\b\b\b\b\b\b\b\b\b\b\b\b\b\b\b\b\b\b\b\b\b\b\b\b\b\b\b\b\b\b\b\b\b\b\b\b\b\b\b\b\b\b\b\b\b\b\b\b\b\b\b\b\b\b\b\b\b\b\b\b\b\b\b\b\r157/157 [==============================] - 1s 7ms/step - loss: 0.5788 - accuracy: 0.6734 - lr: 3.0000e-05\n",
            "Epoch 9/200\n",
            "156/157 [============================>.] - ETA: 0s - loss: 0.5458 - accuracy: 0.7151"
          ]
        },
        {
          "output_type": "stream",
          "name": "stderr",
          "text": [
            "WARNING:tensorflow:Early stopping conditioned on metric `val_loss` which is not available. Available metrics are: loss,accuracy\n",
            "WARNING:tensorflow:Learning rate reduction is conditioned on metric `val_loss` which is not available. Available metrics are: loss,accuracy,lr\n"
          ]
        },
        {
          "output_type": "stream",
          "name": "stdout",
          "text": [
            "\b\b\b\b\b\b\b\b\b\b\b\b\b\b\b\b\b\b\b\b\b\b\b\b\b\b\b\b\b\b\b\b\b\b\b\b\b\b\b\b\b\b\b\b\b\b\b\b\b\b\b\b\b\b\b\b\b\b\b\b\b\b\b\b\b\b\b\b\b\b\b\b\b\b\b\b\b\b\b\b\b\b\b\b\r157/157 [==============================] - 1s 7ms/step - loss: 0.5459 - accuracy: 0.7151 - lr: 3.0000e-05\n",
            "Epoch 10/200\n",
            "156/157 [============================>.] - ETA: 0s - loss: 0.5017 - accuracy: 0.7586"
          ]
        },
        {
          "output_type": "stream",
          "name": "stderr",
          "text": [
            "WARNING:tensorflow:Early stopping conditioned on metric `val_loss` which is not available. Available metrics are: loss,accuracy\n",
            "WARNING:tensorflow:Learning rate reduction is conditioned on metric `val_loss` which is not available. Available metrics are: loss,accuracy,lr\n"
          ]
        },
        {
          "output_type": "stream",
          "name": "stdout",
          "text": [
            "\b\b\b\b\b\b\b\b\b\b\b\b\b\b\b\b\b\b\b\b\b\b\b\b\b\b\b\b\b\b\b\b\b\b\b\b\b\b\b\b\b\b\b\b\b\b\b\b\b\b\b\b\b\b\b\b\b\b\b\b\b\b\b\b\b\b\b\b\b\b\b\b\b\b\b\b\b\b\b\b\b\b\b\b\r157/157 [==============================] - 1s 7ms/step - loss: 0.5016 - accuracy: 0.7588 - lr: 3.0000e-05\n",
            "Epoch 11/200\n",
            "153/157 [============================>.] - ETA: 0s - loss: 0.4426 - accuracy: 0.8129"
          ]
        },
        {
          "output_type": "stream",
          "name": "stderr",
          "text": [
            "WARNING:tensorflow:Early stopping conditioned on metric `val_loss` which is not available. Available metrics are: loss,accuracy\n",
            "WARNING:tensorflow:Learning rate reduction is conditioned on metric `val_loss` which is not available. Available metrics are: loss,accuracy,lr\n"
          ]
        },
        {
          "output_type": "stream",
          "name": "stdout",
          "text": [
            "\b\b\b\b\b\b\b\b\b\b\b\b\b\b\b\b\b\b\b\b\b\b\b\b\b\b\b\b\b\b\b\b\b\b\b\b\b\b\b\b\b\b\b\b\b\b\b\b\b\b\b\b\b\b\b\b\b\b\b\b\b\b\b\b\b\b\b\b\b\b\b\b\b\b\b\b\b\b\b\b\b\b\b\b\r157/157 [==============================] - 1s 7ms/step - loss: 0.4436 - accuracy: 0.8123 - lr: 3.0000e-05\n",
            "Epoch 12/200\n",
            "150/157 [===========================>..] - ETA: 0s - loss: 0.3817 - accuracy: 0.8633"
          ]
        },
        {
          "output_type": "stream",
          "name": "stderr",
          "text": [
            "WARNING:tensorflow:Early stopping conditioned on metric `val_loss` which is not available. Available metrics are: loss,accuracy\n",
            "WARNING:tensorflow:Learning rate reduction is conditioned on metric `val_loss` which is not available. Available metrics are: loss,accuracy,lr\n"
          ]
        },
        {
          "output_type": "stream",
          "name": "stdout",
          "text": [
            "\b\b\b\b\b\b\b\b\b\b\b\b\b\b\b\b\b\b\b\b\b\b\b\b\b\b\b\b\b\b\b\b\b\b\b\b\b\b\b\b\b\b\b\b\b\b\b\b\b\b\b\b\b\b\b\b\b\b\b\b\b\b\b\b\b\b\b\b\b\b\b\b\b\b\b\b\b\b\b\b\b\b\b\b\r157/157 [==============================] - 1s 7ms/step - loss: 0.3811 - accuracy: 0.8648 - lr: 3.0000e-05\n",
            "Epoch 13/200\n",
            "151/157 [===========================>..] - ETA: 0s - loss: 0.3194 - accuracy: 0.8994"
          ]
        },
        {
          "output_type": "stream",
          "name": "stderr",
          "text": [
            "WARNING:tensorflow:Early stopping conditioned on metric `val_loss` which is not available. Available metrics are: loss,accuracy\n",
            "WARNING:tensorflow:Learning rate reduction is conditioned on metric `val_loss` which is not available. Available metrics are: loss,accuracy,lr\n"
          ]
        },
        {
          "output_type": "stream",
          "name": "stdout",
          "text": [
            "\b\b\b\b\b\b\b\b\b\b\b\b\b\b\b\b\b\b\b\b\b\b\b\b\b\b\b\b\b\b\b\b\b\b\b\b\b\b\b\b\b\b\b\b\b\b\b\b\b\b\b\b\b\b\b\b\b\b\b\b\b\b\b\b\b\b\b\b\b\b\b\b\b\b\b\b\b\b\b\b\b\b\b\b\r157/157 [==============================] - 1s 7ms/step - loss: 0.3191 - accuracy: 0.9006 - lr: 3.0000e-05\n",
            "Epoch 14/200\n",
            "156/157 [============================>.] - ETA: 0s - loss: 0.2639 - accuracy: 0.9215"
          ]
        },
        {
          "output_type": "stream",
          "name": "stderr",
          "text": [
            "WARNING:tensorflow:Early stopping conditioned on metric `val_loss` which is not available. Available metrics are: loss,accuracy\n",
            "WARNING:tensorflow:Learning rate reduction is conditioned on metric `val_loss` which is not available. Available metrics are: loss,accuracy,lr\n"
          ]
        },
        {
          "output_type": "stream",
          "name": "stdout",
          "text": [
            "\b\b\b\b\b\b\b\b\b\b\b\b\b\b\b\b\b\b\b\b\b\b\b\b\b\b\b\b\b\b\b\b\b\b\b\b\b\b\b\b\b\b\b\b\b\b\b\b\b\b\b\b\b\b\b\b\b\b\b\b\b\b\b\b\b\b\b\b\b\b\b\b\b\b\b\b\b\b\b\b\b\b\b\b\r157/157 [==============================] - 1s 7ms/step - loss: 0.2638 - accuracy: 0.9217 - lr: 3.0000e-05\n",
            "Epoch 15/200\n",
            "151/157 [===========================>..] - ETA: 0s - loss: 0.2180 - accuracy: 0.9398"
          ]
        },
        {
          "output_type": "stream",
          "name": "stderr",
          "text": [
            "WARNING:tensorflow:Early stopping conditioned on metric `val_loss` which is not available. Available metrics are: loss,accuracy\n",
            "WARNING:tensorflow:Learning rate reduction is conditioned on metric `val_loss` which is not available. Available metrics are: loss,accuracy,lr\n"
          ]
        },
        {
          "output_type": "stream",
          "name": "stdout",
          "text": [
            "\b\b\b\b\b\b\b\b\b\b\b\b\b\b\b\b\b\b\b\b\b\b\b\b\b\b\b\b\b\b\b\b\b\b\b\b\b\b\b\b\b\b\b\b\b\b\b\b\b\b\b\b\b\b\b\b\b\b\b\b\b\b\b\b\b\b\b\b\b\b\b\b\b\b\b\b\b\b\b\b\b\b\b\b\r157/157 [==============================] - 1s 7ms/step - loss: 0.2187 - accuracy: 0.9389 - lr: 3.0000e-05\n",
            "Epoch 16/200\n",
            "155/157 [============================>.] - ETA: 0s - loss: 0.1831 - accuracy: 0.9490"
          ]
        },
        {
          "output_type": "stream",
          "name": "stderr",
          "text": [
            "WARNING:tensorflow:Early stopping conditioned on metric `val_loss` which is not available. Available metrics are: loss,accuracy\n",
            "WARNING:tensorflow:Learning rate reduction is conditioned on metric `val_loss` which is not available. Available metrics are: loss,accuracy,lr\n"
          ]
        },
        {
          "output_type": "stream",
          "name": "stdout",
          "text": [
            "\b\b\b\b\b\b\b\b\b\b\b\b\b\b\b\b\b\b\b\b\b\b\b\b\b\b\b\b\b\b\b\b\b\b\b\b\b\b\b\b\b\b\b\b\b\b\b\b\b\b\b\b\b\b\b\b\b\b\b\b\b\b\b\b\b\b\b\b\b\b\b\b\b\b\b\b\b\b\b\b\b\b\b\b\r157/157 [==============================] - 1s 7ms/step - loss: 0.1828 - accuracy: 0.9491 - lr: 3.0000e-05\n",
            "Epoch 17/200\n",
            "150/157 [===========================>..] - ETA: 0s - loss: 0.1490 - accuracy: 0.9610"
          ]
        },
        {
          "output_type": "stream",
          "name": "stderr",
          "text": [
            "WARNING:tensorflow:Early stopping conditioned on metric `val_loss` which is not available. Available metrics are: loss,accuracy\n",
            "WARNING:tensorflow:Learning rate reduction is conditioned on metric `val_loss` which is not available. Available metrics are: loss,accuracy,lr\n"
          ]
        },
        {
          "output_type": "stream",
          "name": "stdout",
          "text": [
            "\b\b\b\b\b\b\b\b\b\b\b\b\b\b\b\b\b\b\b\b\b\b\b\b\b\b\b\b\b\b\b\b\b\b\b\b\b\b\b\b\b\b\b\b\b\b\b\b\b\b\b\b\b\b\b\b\b\b\b\b\b\b\b\b\b\b\b\b\b\b\b\b\b\b\b\b\b\b\b\b\b\b\b\b\r157/157 [==============================] - 1s 7ms/step - loss: 0.1491 - accuracy: 0.9609 - lr: 3.0000e-05\n",
            "Epoch 18/200\n",
            "151/157 [===========================>..] - ETA: 0s - loss: 0.1233 - accuracy: 0.9708"
          ]
        },
        {
          "output_type": "stream",
          "name": "stderr",
          "text": [
            "WARNING:tensorflow:Early stopping conditioned on metric `val_loss` which is not available. Available metrics are: loss,accuracy\n",
            "WARNING:tensorflow:Learning rate reduction is conditioned on metric `val_loss` which is not available. Available metrics are: loss,accuracy,lr\n"
          ]
        },
        {
          "output_type": "stream",
          "name": "stdout",
          "text": [
            "\b\b\b\b\b\b\b\b\b\b\b\b\b\b\b\b\b\b\b\b\b\b\b\b\b\b\b\b\b\b\b\b\b\b\b\b\b\b\b\b\b\b\b\b\b\b\b\b\b\b\b\b\b\b\b\b\b\b\b\b\b\b\b\b\b\b\b\b\b\b\b\b\b\b\b\b\b\b\b\b\b\b\b\b\r157/157 [==============================] - 1s 7ms/step - loss: 0.1233 - accuracy: 0.9707 - lr: 3.0000e-05\n",
            "Epoch 19/200\n",
            "152/157 [============================>.] - ETA: 0s - loss: 0.1031 - accuracy: 0.9803"
          ]
        },
        {
          "output_type": "stream",
          "name": "stderr",
          "text": [
            "WARNING:tensorflow:Early stopping conditioned on metric `val_loss` which is not available. Available metrics are: loss,accuracy\n",
            "WARNING:tensorflow:Learning rate reduction is conditioned on metric `val_loss` which is not available. Available metrics are: loss,accuracy,lr\n"
          ]
        },
        {
          "output_type": "stream",
          "name": "stdout",
          "text": [
            "\b\b\b\b\b\b\b\b\b\b\b\b\b\b\b\b\b\b\b\b\b\b\b\b\b\b\b\b\b\b\b\b\b\b\b\b\b\b\b\b\b\b\b\b\b\b\b\b\b\b\b\b\b\b\b\b\b\b\b\b\b\b\b\b\b\b\b\b\b\b\b\b\b\b\b\b\b\b\b\b\b\b\b\b\r157/157 [==============================] - 1s 7ms/step - loss: 0.1030 - accuracy: 0.9802 - lr: 3.0000e-05\n",
            "Epoch 20/200\n",
            "153/157 [============================>.] - ETA: 0s - loss: 0.0853 - accuracy: 0.9849"
          ]
        },
        {
          "output_type": "stream",
          "name": "stderr",
          "text": [
            "WARNING:tensorflow:Early stopping conditioned on metric `val_loss` which is not available. Available metrics are: loss,accuracy\n",
            "WARNING:tensorflow:Learning rate reduction is conditioned on metric `val_loss` which is not available. Available metrics are: loss,accuracy,lr\n"
          ]
        },
        {
          "output_type": "stream",
          "name": "stdout",
          "text": [
            "\b\b\b\b\b\b\b\b\b\b\b\b\b\b\b\b\b\b\b\b\b\b\b\b\b\b\b\b\b\b\b\b\b\b\b\b\b\b\b\b\b\b\b\b\b\b\b\b\b\b\b\b\b\b\b\b\b\b\b\b\b\b\b\b\b\b\b\b\b\b\b\b\b\b\b\b\b\b\b\b\b\b\b\b\r157/157 [==============================] - 1s 7ms/step - loss: 0.0853 - accuracy: 0.9846 - lr: 3.0000e-05\n",
            "Epoch 21/200\n",
            "154/157 [============================>.] - ETA: 0s - loss: 0.0692 - accuracy: 0.9866"
          ]
        },
        {
          "output_type": "stream",
          "name": "stderr",
          "text": [
            "WARNING:tensorflow:Early stopping conditioned on metric `val_loss` which is not available. Available metrics are: loss,accuracy\n",
            "WARNING:tensorflow:Learning rate reduction is conditioned on metric `val_loss` which is not available. Available metrics are: loss,accuracy,lr\n"
          ]
        },
        {
          "output_type": "stream",
          "name": "stdout",
          "text": [
            "\b\b\b\b\b\b\b\b\b\b\b\b\b\b\b\b\b\b\b\b\b\b\b\b\b\b\b\b\b\b\b\b\b\b\b\b\b\b\b\b\b\b\b\b\b\b\b\b\b\b\b\b\b\b\b\b\b\b\b\b\b\b\b\b\b\b\b\b\b\b\b\b\b\b\b\b\b\b\b\b\b\b\b\b\r157/157 [==============================] - 1s 7ms/step - loss: 0.0695 - accuracy: 0.9862 - lr: 3.0000e-05\n",
            "Epoch 22/200\n",
            "153/157 [============================>.] - ETA: 0s - loss: 0.0591 - accuracy: 0.9916"
          ]
        },
        {
          "output_type": "stream",
          "name": "stderr",
          "text": [
            "WARNING:tensorflow:Early stopping conditioned on metric `val_loss` which is not available. Available metrics are: loss,accuracy\n",
            "WARNING:tensorflow:Learning rate reduction is conditioned on metric `val_loss` which is not available. Available metrics are: loss,accuracy,lr\n"
          ]
        },
        {
          "output_type": "stream",
          "name": "stdout",
          "text": [
            "\b\b\b\b\b\b\b\b\b\b\b\b\b\b\b\b\b\b\b\b\b\b\b\b\b\b\b\b\b\b\b\b\b\b\b\b\b\b\b\b\b\b\b\b\b\b\b\b\b\b\b\b\b\b\b\b\b\b\b\b\b\b\b\b\b\b\b\b\b\b\b\b\b\b\b\b\b\b\b\b\b\b\b\b\r157/157 [==============================] - 1s 7ms/step - loss: 0.0589 - accuracy: 0.9918 - lr: 3.0000e-05\n",
            "Epoch 23/200\n",
            "154/157 [============================>.] - ETA: 0s - loss: 0.0489 - accuracy: 0.9939"
          ]
        },
        {
          "output_type": "stream",
          "name": "stderr",
          "text": [
            "WARNING:tensorflow:Early stopping conditioned on metric `val_loss` which is not available. Available metrics are: loss,accuracy\n",
            "WARNING:tensorflow:Learning rate reduction is conditioned on metric `val_loss` which is not available. Available metrics are: loss,accuracy,lr\n"
          ]
        },
        {
          "output_type": "stream",
          "name": "stdout",
          "text": [
            "\b\b\b\b\b\b\b\b\b\b\b\b\b\b\b\b\b\b\b\b\b\b\b\b\b\b\b\b\b\b\b\b\b\b\b\b\b\b\b\b\b\b\b\b\b\b\b\b\b\b\b\b\b\b\b\b\b\b\b\b\b\b\b\b\b\b\b\b\b\b\b\b\b\b\b\b\b\b\b\b\b\b\b\b\r157/157 [==============================] - 1s 7ms/step - loss: 0.0489 - accuracy: 0.9938 - lr: 3.0000e-05\n",
            "Epoch 24/200\n",
            "151/157 [===========================>..] - ETA: 0s - loss: 0.0411 - accuracy: 0.9948"
          ]
        },
        {
          "output_type": "stream",
          "name": "stderr",
          "text": [
            "WARNING:tensorflow:Early stopping conditioned on metric `val_loss` which is not available. Available metrics are: loss,accuracy\n",
            "WARNING:tensorflow:Learning rate reduction is conditioned on metric `val_loss` which is not available. Available metrics are: loss,accuracy,lr\n"
          ]
        },
        {
          "output_type": "stream",
          "name": "stdout",
          "text": [
            "\b\b\b\b\b\b\b\b\b\b\b\b\b\b\b\b\b\b\b\b\b\b\b\b\b\b\b\b\b\b\b\b\b\b\b\b\b\b\b\b\b\b\b\b\b\b\b\b\b\b\b\b\b\b\b\b\b\b\b\b\b\b\b\b\b\b\b\b\b\b\b\b\b\b\b\b\b\b\b\b\b\b\b\b\r157/157 [==============================] - 1s 7ms/step - loss: 0.0406 - accuracy: 0.9950 - lr: 3.0000e-05\n",
            "Epoch 25/200\n",
            "150/157 [===========================>..] - ETA: 0s - loss: 0.0353 - accuracy: 0.9958"
          ]
        },
        {
          "output_type": "stream",
          "name": "stderr",
          "text": [
            "WARNING:tensorflow:Early stopping conditioned on metric `val_loss` which is not available. Available metrics are: loss,accuracy\n",
            "WARNING:tensorflow:Learning rate reduction is conditioned on metric `val_loss` which is not available. Available metrics are: loss,accuracy,lr\n"
          ]
        },
        {
          "output_type": "stream",
          "name": "stdout",
          "text": [
            "\b\b\b\b\b\b\b\b\b\b\b\b\b\b\b\b\b\b\b\b\b\b\b\b\b\b\b\b\b\b\b\b\b\b\b\b\b\b\b\b\b\b\b\b\b\b\b\b\b\b\b\b\b\b\b\b\b\b\b\b\b\b\b\b\b\b\b\b\b\b\b\b\b\b\b\b\b\b\b\b\b\b\b\b\r157/157 [==============================] - 1s 7ms/step - loss: 0.0351 - accuracy: 0.9960 - lr: 3.0000e-05\n",
            "Epoch 26/200\n",
            "151/157 [===========================>..] - ETA: 0s - loss: 0.0291 - accuracy: 0.9973"
          ]
        },
        {
          "output_type": "stream",
          "name": "stderr",
          "text": [
            "WARNING:tensorflow:Early stopping conditioned on metric `val_loss` which is not available. Available metrics are: loss,accuracy\n",
            "WARNING:tensorflow:Learning rate reduction is conditioned on metric `val_loss` which is not available. Available metrics are: loss,accuracy,lr\n"
          ]
        },
        {
          "output_type": "stream",
          "name": "stdout",
          "text": [
            "\b\b\b\b\b\b\b\b\b\b\b\b\b\b\b\b\b\b\b\b\b\b\b\b\b\b\b\b\b\b\b\b\b\b\b\b\b\b\b\b\b\b\b\b\b\b\b\b\b\b\b\b\b\b\b\b\b\b\b\b\b\b\b\b\b\b\b\b\b\b\b\b\b\b\b\b\b\b\b\b\b\b\b\b\r157/157 [==============================] - 1s 7ms/step - loss: 0.0289 - accuracy: 0.9974 - lr: 3.0000e-05\n",
            "Epoch 27/200\n",
            "151/157 [===========================>..] - ETA: 0s - loss: 0.0250 - accuracy: 0.9981"
          ]
        },
        {
          "output_type": "stream",
          "name": "stderr",
          "text": [
            "WARNING:tensorflow:Early stopping conditioned on metric `val_loss` which is not available. Available metrics are: loss,accuracy\n",
            "WARNING:tensorflow:Learning rate reduction is conditioned on metric `val_loss` which is not available. Available metrics are: loss,accuracy,lr\n"
          ]
        },
        {
          "output_type": "stream",
          "name": "stdout",
          "text": [
            "\b\b\b\b\b\b\b\b\b\b\b\b\b\b\b\b\b\b\b\b\b\b\b\b\b\b\b\b\b\b\b\b\b\b\b\b\b\b\b\b\b\b\b\b\b\b\b\b\b\b\b\b\b\b\b\b\b\b\b\b\b\b\b\b\b\b\b\b\b\b\b\b\b\b\b\b\b\b\b\b\b\b\b\b\r157/157 [==============================] - 1s 7ms/step - loss: 0.0250 - accuracy: 0.9982 - lr: 3.0000e-05\n",
            "Epoch 28/200\n",
            "150/157 [===========================>..] - ETA: 0s - loss: 0.0209 - accuracy: 0.9992"
          ]
        },
        {
          "output_type": "stream",
          "name": "stderr",
          "text": [
            "WARNING:tensorflow:Early stopping conditioned on metric `val_loss` which is not available. Available metrics are: loss,accuracy\n",
            "WARNING:tensorflow:Learning rate reduction is conditioned on metric `val_loss` which is not available. Available metrics are: loss,accuracy,lr\n"
          ]
        },
        {
          "output_type": "stream",
          "name": "stdout",
          "text": [
            "\b\b\b\b\b\b\b\b\b\b\b\b\b\b\b\b\b\b\b\b\b\b\b\b\b\b\b\b\b\b\b\b\b\b\b\b\b\b\b\b\b\b\b\b\b\b\b\b\b\b\b\b\b\b\b\b\b\b\b\b\b\b\b\b\b\b\b\b\b\b\b\b\b\b\b\b\b\b\b\b\b\b\b\b\r157/157 [==============================] - 1s 7ms/step - loss: 0.0211 - accuracy: 0.9990 - lr: 3.0000e-05\n",
            "Epoch 29/200\n",
            "153/157 [============================>.] - ETA: 0s - loss: 0.0179 - accuracy: 0.9996"
          ]
        },
        {
          "output_type": "stream",
          "name": "stderr",
          "text": [
            "WARNING:tensorflow:Early stopping conditioned on metric `val_loss` which is not available. Available metrics are: loss,accuracy\n",
            "WARNING:tensorflow:Learning rate reduction is conditioned on metric `val_loss` which is not available. Available metrics are: loss,accuracy,lr\n"
          ]
        },
        {
          "output_type": "stream",
          "name": "stdout",
          "text": [
            "\b\b\b\b\b\b\b\b\b\b\b\b\b\b\b\b\b\b\b\b\b\b\b\b\b\b\b\b\b\b\b\b\b\b\b\b\b\b\b\b\b\b\b\b\b\b\b\b\b\b\b\b\b\b\b\b\b\b\b\b\b\b\b\b\b\b\b\b\b\b\b\b\b\b\b\b\b\b\b\b\b\b\b\b\r157/157 [==============================] - 1s 7ms/step - loss: 0.0180 - accuracy: 0.9996 - lr: 3.0000e-05\n",
            "Epoch 30/200\n",
            "153/157 [============================>.] - ETA: 0s - loss: 0.0153 - accuracy: 0.9990"
          ]
        },
        {
          "output_type": "stream",
          "name": "stderr",
          "text": [
            "WARNING:tensorflow:Early stopping conditioned on metric `val_loss` which is not available. Available metrics are: loss,accuracy\n",
            "WARNING:tensorflow:Learning rate reduction is conditioned on metric `val_loss` which is not available. Available metrics are: loss,accuracy,lr\n"
          ]
        },
        {
          "output_type": "stream",
          "name": "stdout",
          "text": [
            "\b\b\b\b\b\b\b\b\b\b\b\b\b\b\b\b\b\b\b\b\b\b\b\b\b\b\b\b\b\b\b\b\b\b\b\b\b\b\b\b\b\b\b\b\b\b\b\b\b\b\b\b\b\b\b\b\b\b\b\b\b\b\b\b\b\b\b\b\b\b\b\b\b\b\b\b\b\b\b\b\b\b\b\b\r157/157 [==============================] - 1s 7ms/step - loss: 0.0154 - accuracy: 0.9990 - lr: 3.0000e-05\n",
            "Epoch 31/200\n",
            "151/157 [===========================>..] - ETA: 0s - loss: 0.0134 - accuracy: 0.9998"
          ]
        },
        {
          "output_type": "stream",
          "name": "stderr",
          "text": [
            "WARNING:tensorflow:Early stopping conditioned on metric `val_loss` which is not available. Available metrics are: loss,accuracy\n",
            "WARNING:tensorflow:Learning rate reduction is conditioned on metric `val_loss` which is not available. Available metrics are: loss,accuracy,lr\n"
          ]
        },
        {
          "output_type": "stream",
          "name": "stdout",
          "text": [
            "\b\b\b\b\b\b\b\b\b\b\b\b\b\b\b\b\b\b\b\b\b\b\b\b\b\b\b\b\b\b\b\b\b\b\b\b\b\b\b\b\b\b\b\b\b\b\b\b\b\b\b\b\b\b\b\b\b\b\b\b\b\b\b\b\b\b\b\b\b\b\b\b\b\b\b\b\b\b\b\b\b\b\b\b\r157/157 [==============================] - 1s 7ms/step - loss: 0.0133 - accuracy: 0.9998 - lr: 3.0000e-05\n",
            "Epoch 32/200\n",
            "154/157 [============================>.] - ETA: 0s - loss: 0.0114 - accuracy: 0.9994"
          ]
        },
        {
          "output_type": "stream",
          "name": "stderr",
          "text": [
            "WARNING:tensorflow:Early stopping conditioned on metric `val_loss` which is not available. Available metrics are: loss,accuracy\n",
            "WARNING:tensorflow:Learning rate reduction is conditioned on metric `val_loss` which is not available. Available metrics are: loss,accuracy,lr\n"
          ]
        },
        {
          "output_type": "stream",
          "name": "stdout",
          "text": [
            "\b\b\b\b\b\b\b\b\b\b\b\b\b\b\b\b\b\b\b\b\b\b\b\b\b\b\b\b\b\b\b\b\b\b\b\b\b\b\b\b\b\b\b\b\b\b\b\b\b\b\b\b\b\b\b\b\b\b\b\b\b\b\b\b\b\b\b\b\b\b\b\b\b\b\b\b\b\b\b\b\b\b\b\b\r157/157 [==============================] - 1s 7ms/step - loss: 0.0115 - accuracy: 0.9994 - lr: 3.0000e-05\n",
            "Epoch 33/200\n",
            "150/157 [===========================>..] - ETA: 0s - loss: 0.0104 - accuracy: 0.9998"
          ]
        },
        {
          "output_type": "stream",
          "name": "stderr",
          "text": [
            "WARNING:tensorflow:Early stopping conditioned on metric `val_loss` which is not available. Available metrics are: loss,accuracy\n",
            "WARNING:tensorflow:Learning rate reduction is conditioned on metric `val_loss` which is not available. Available metrics are: loss,accuracy,lr\n"
          ]
        },
        {
          "output_type": "stream",
          "name": "stdout",
          "text": [
            "\b\b\b\b\b\b\b\b\b\b\b\b\b\b\b\b\b\b\b\b\b\b\b\b\b\b\b\b\b\b\b\b\b\b\b\b\b\b\b\b\b\b\b\b\b\b\b\b\b\b\b\b\b\b\b\b\b\b\b\b\b\b\b\b\b\b\b\b\b\b\b\b\b\b\b\b\b\b\b\b\b\b\b\b\r157/157 [==============================] - 1s 7ms/step - loss: 0.0104 - accuracy: 0.9996 - lr: 3.0000e-05\n",
            "Epoch 34/200\n",
            "153/157 [============================>.] - ETA: 0s - loss: 0.0092 - accuracy: 0.9994"
          ]
        },
        {
          "output_type": "stream",
          "name": "stderr",
          "text": [
            "WARNING:tensorflow:Early stopping conditioned on metric `val_loss` which is not available. Available metrics are: loss,accuracy\n",
            "WARNING:tensorflow:Learning rate reduction is conditioned on metric `val_loss` which is not available. Available metrics are: loss,accuracy,lr\n"
          ]
        },
        {
          "output_type": "stream",
          "name": "stdout",
          "text": [
            "\b\b\b\b\b\b\b\b\b\b\b\b\b\b\b\b\b\b\b\b\b\b\b\b\b\b\b\b\b\b\b\b\b\b\b\b\b\b\b\b\b\b\b\b\b\b\b\b\b\b\b\b\b\b\b\b\b\b\b\b\b\b\b\b\b\b\b\b\b\b\b\b\b\b\b\b\b\b\b\b\b\b\b\b\r157/157 [==============================] - 1s 7ms/step - loss: 0.0091 - accuracy: 0.9994 - lr: 3.0000e-05\n",
            "Epoch 35/200\n",
            "157/157 [==============================] - ETA: 0s - loss: 0.0077 - accuracy: 0.9998"
          ]
        },
        {
          "output_type": "stream",
          "name": "stderr",
          "text": [
            "WARNING:tensorflow:Early stopping conditioned on metric `val_loss` which is not available. Available metrics are: loss,accuracy\n",
            "WARNING:tensorflow:Learning rate reduction is conditioned on metric `val_loss` which is not available. Available metrics are: loss,accuracy,lr\n"
          ]
        },
        {
          "output_type": "stream",
          "name": "stdout",
          "text": [
            "\b\b\b\b\b\b\b\b\b\b\b\b\b\b\b\b\b\b\b\b\b\b\b\b\b\b\b\b\b\b\b\b\b\b\b\b\b\b\b\b\b\b\b\b\b\b\b\b\b\b\b\b\b\b\b\b\b\b\b\b\b\b\b\b\b\b\b\b\b\b\b\b\b\b\b\b\b\b\b\b\b\b\b\b\r157/157 [==============================] - 1s 7ms/step - loss: 0.0077 - accuracy: 0.9998 - lr: 3.0000e-05\n",
            "Epoch 36/200\n",
            "155/157 [============================>.] - ETA: 0s - loss: 0.0067 - accuracy: 0.9998"
          ]
        },
        {
          "output_type": "stream",
          "name": "stderr",
          "text": [
            "WARNING:tensorflow:Early stopping conditioned on metric `val_loss` which is not available. Available metrics are: loss,accuracy\n",
            "WARNING:tensorflow:Learning rate reduction is conditioned on metric `val_loss` which is not available. Available metrics are: loss,accuracy,lr\n"
          ]
        },
        {
          "output_type": "stream",
          "name": "stdout",
          "text": [
            "\b\b\b\b\b\b\b\b\b\b\b\b\b\b\b\b\b\b\b\b\b\b\b\b\b\b\b\b\b\b\b\b\b\b\b\b\b\b\b\b\b\b\b\b\b\b\b\b\b\b\b\b\b\b\b\b\b\b\b\b\b\b\b\b\b\b\b\b\b\b\b\b\b\b\b\b\b\b\b\b\b\b\b\b\r157/157 [==============================] - 1s 7ms/step - loss: 0.0066 - accuracy: 0.9998 - lr: 3.0000e-05\n",
            "Epoch 37/200\n",
            "155/157 [============================>.] - ETA: 0s - loss: 0.0054 - accuracy: 1.0000"
          ]
        },
        {
          "output_type": "stream",
          "name": "stderr",
          "text": [
            "WARNING:tensorflow:Early stopping conditioned on metric `val_loss` which is not available. Available metrics are: loss,accuracy\n",
            "WARNING:tensorflow:Learning rate reduction is conditioned on metric `val_loss` which is not available. Available metrics are: loss,accuracy,lr\n"
          ]
        },
        {
          "output_type": "stream",
          "name": "stdout",
          "text": [
            "\b\b\b\b\b\b\b\b\b\b\b\b\b\b\b\b\b\b\b\b\b\b\b\b\b\b\b\b\b\b\b\b\b\b\b\b\b\b\b\b\b\b\b\b\b\b\b\b\b\b\b\b\b\b\b\b\b\b\b\b\b\b\b\b\b\b\b\b\b\b\b\b\b\b\b\b\b\b\b\b\b\b\b\b\r157/157 [==============================] - 1s 7ms/step - loss: 0.0054 - accuracy: 1.0000 - lr: 3.0000e-05\n",
            "Epoch 38/200\n",
            "153/157 [============================>.] - ETA: 0s - loss: 0.0051 - accuracy: 1.0000"
          ]
        },
        {
          "output_type": "stream",
          "name": "stderr",
          "text": [
            "WARNING:tensorflow:Early stopping conditioned on metric `val_loss` which is not available. Available metrics are: loss,accuracy\n",
            "WARNING:tensorflow:Learning rate reduction is conditioned on metric `val_loss` which is not available. Available metrics are: loss,accuracy,lr\n"
          ]
        },
        {
          "output_type": "stream",
          "name": "stdout",
          "text": [
            "\b\b\b\b\b\b\b\b\b\b\b\b\b\b\b\b\b\b\b\b\b\b\b\b\b\b\b\b\b\b\b\b\b\b\b\b\b\b\b\b\b\b\b\b\b\b\b\b\b\b\b\b\b\b\b\b\b\b\b\b\b\b\b\b\b\b\b\b\b\b\b\b\b\b\b\b\b\b\b\b\b\b\b\b\r157/157 [==============================] - 1s 7ms/step - loss: 0.0050 - accuracy: 1.0000 - lr: 3.0000e-05\n",
            "Epoch 39/200\n",
            "154/157 [============================>.] - ETA: 0s - loss: 0.0043 - accuracy: 1.0000"
          ]
        },
        {
          "output_type": "stream",
          "name": "stderr",
          "text": [
            "WARNING:tensorflow:Early stopping conditioned on metric `val_loss` which is not available. Available metrics are: loss,accuracy\n",
            "WARNING:tensorflow:Learning rate reduction is conditioned on metric `val_loss` which is not available. Available metrics are: loss,accuracy,lr\n"
          ]
        },
        {
          "output_type": "stream",
          "name": "stdout",
          "text": [
            "\b\b\b\b\b\b\b\b\b\b\b\b\b\b\b\b\b\b\b\b\b\b\b\b\b\b\b\b\b\b\b\b\b\b\b\b\b\b\b\b\b\b\b\b\b\b\b\b\b\b\b\b\b\b\b\b\b\b\b\b\b\b\b\b\b\b\b\b\b\b\b\b\b\b\b\b\b\b\b\b\b\b\b\b\r157/157 [==============================] - 1s 7ms/step - loss: 0.0043 - accuracy: 1.0000 - lr: 3.0000e-05\n",
            "Epoch 40/200\n",
            "151/157 [===========================>..] - ETA: 0s - loss: 0.0037 - accuracy: 1.0000"
          ]
        },
        {
          "output_type": "stream",
          "name": "stderr",
          "text": [
            "WARNING:tensorflow:Early stopping conditioned on metric `val_loss` which is not available. Available metrics are: loss,accuracy\n",
            "WARNING:tensorflow:Learning rate reduction is conditioned on metric `val_loss` which is not available. Available metrics are: loss,accuracy,lr\n"
          ]
        },
        {
          "output_type": "stream",
          "name": "stdout",
          "text": [
            "\b\b\b\b\b\b\b\b\b\b\b\b\b\b\b\b\b\b\b\b\b\b\b\b\b\b\b\b\b\b\b\b\b\b\b\b\b\b\b\b\b\b\b\b\b\b\b\b\b\b\b\b\b\b\b\b\b\b\b\b\b\b\b\b\b\b\b\b\b\b\b\b\b\b\b\b\b\b\b\b\b\b\b\b\r157/157 [==============================] - 1s 7ms/step - loss: 0.0037 - accuracy: 1.0000 - lr: 3.0000e-05\n",
            "Epoch 41/200\n",
            "156/157 [============================>.] - ETA: 0s - loss: 0.0034 - accuracy: 1.0000"
          ]
        },
        {
          "output_type": "stream",
          "name": "stderr",
          "text": [
            "WARNING:tensorflow:Early stopping conditioned on metric `val_loss` which is not available. Available metrics are: loss,accuracy\n",
            "WARNING:tensorflow:Learning rate reduction is conditioned on metric `val_loss` which is not available. Available metrics are: loss,accuracy,lr\n"
          ]
        },
        {
          "output_type": "stream",
          "name": "stdout",
          "text": [
            "\b\b\b\b\b\b\b\b\b\b\b\b\b\b\b\b\b\b\b\b\b\b\b\b\b\b\b\b\b\b\b\b\b\b\b\b\b\b\b\b\b\b\b\b\b\b\b\b\b\b\b\b\b\b\b\b\b\b\b\b\b\b\b\b\b\b\b\b\b\b\b\b\b\b\b\b\b\b\b\b\b\b\b\b\r157/157 [==============================] - 1s 7ms/step - loss: 0.0035 - accuracy: 1.0000 - lr: 3.0000e-05\n",
            "Epoch 42/200\n",
            "151/157 [===========================>..] - ETA: 0s - loss: 0.0030 - accuracy: 1.0000"
          ]
        },
        {
          "output_type": "stream",
          "name": "stderr",
          "text": [
            "WARNING:tensorflow:Early stopping conditioned on metric `val_loss` which is not available. Available metrics are: loss,accuracy\n",
            "WARNING:tensorflow:Learning rate reduction is conditioned on metric `val_loss` which is not available. Available metrics are: loss,accuracy,lr\n"
          ]
        },
        {
          "output_type": "stream",
          "name": "stdout",
          "text": [
            "\b\b\b\b\b\b\b\b\b\b\b\b\b\b\b\b\b\b\b\b\b\b\b\b\b\b\b\b\b\b\b\b\b\b\b\b\b\b\b\b\b\b\b\b\b\b\b\b\b\b\b\b\b\b\b\b\b\b\b\b\b\b\b\b\b\b\b\b\b\b\b\b\b\b\b\b\b\b\b\b\b\b\b\b\r157/157 [==============================] - 1s 7ms/step - loss: 0.0030 - accuracy: 1.0000 - lr: 3.0000e-05\n",
            "Epoch 43/200\n",
            "151/157 [===========================>..] - ETA: 0s - loss: 0.0026 - accuracy: 1.0000"
          ]
        },
        {
          "output_type": "stream",
          "name": "stderr",
          "text": [
            "WARNING:tensorflow:Early stopping conditioned on metric `val_loss` which is not available. Available metrics are: loss,accuracy\n",
            "WARNING:tensorflow:Learning rate reduction is conditioned on metric `val_loss` which is not available. Available metrics are: loss,accuracy,lr\n"
          ]
        },
        {
          "output_type": "stream",
          "name": "stdout",
          "text": [
            "\b\b\b\b\b\b\b\b\b\b\b\b\b\b\b\b\b\b\b\b\b\b\b\b\b\b\b\b\b\b\b\b\b\b\b\b\b\b\b\b\b\b\b\b\b\b\b\b\b\b\b\b\b\b\b\b\b\b\b\b\b\b\b\b\b\b\b\b\b\b\b\b\b\b\b\b\b\b\b\b\b\b\b\b\r157/157 [==============================] - 1s 7ms/step - loss: 0.0027 - accuracy: 1.0000 - lr: 3.0000e-05\n",
            "Epoch 44/200\n",
            "157/157 [==============================] - ETA: 0s - loss: 0.0025 - accuracy: 1.0000"
          ]
        },
        {
          "output_type": "stream",
          "name": "stderr",
          "text": [
            "WARNING:tensorflow:Early stopping conditioned on metric `val_loss` which is not available. Available metrics are: loss,accuracy\n",
            "WARNING:tensorflow:Learning rate reduction is conditioned on metric `val_loss` which is not available. Available metrics are: loss,accuracy,lr\n"
          ]
        },
        {
          "output_type": "stream",
          "name": "stdout",
          "text": [
            "\b\b\b\b\b\b\b\b\b\b\b\b\b\b\b\b\b\b\b\b\b\b\b\b\b\b\b\b\b\b\b\b\b\b\b\b\b\b\b\b\b\b\b\b\b\b\b\b\b\b\b\b\b\b\b\b\b\b\b\b\b\b\b\b\b\b\b\b\b\b\b\b\b\b\b\b\b\b\b\b\b\b\b\b\r157/157 [==============================] - 1s 7ms/step - loss: 0.0025 - accuracy: 1.0000 - lr: 3.0000e-05\n",
            "Epoch 45/200\n",
            "153/157 [============================>.] - ETA: 0s - loss: 0.0023 - accuracy: 1.0000"
          ]
        },
        {
          "output_type": "stream",
          "name": "stderr",
          "text": [
            "WARNING:tensorflow:Early stopping conditioned on metric `val_loss` which is not available. Available metrics are: loss,accuracy\n",
            "WARNING:tensorflow:Learning rate reduction is conditioned on metric `val_loss` which is not available. Available metrics are: loss,accuracy,lr\n"
          ]
        },
        {
          "output_type": "stream",
          "name": "stdout",
          "text": [
            "\b\b\b\b\b\b\b\b\b\b\b\b\b\b\b\b\b\b\b\b\b\b\b\b\b\b\b\b\b\b\b\b\b\b\b\b\b\b\b\b\b\b\b\b\b\b\b\b\b\b\b\b\b\b\b\b\b\b\b\b\b\b\b\b\b\b\b\b\b\b\b\b\b\b\b\b\b\b\b\b\b\b\b\b\r157/157 [==============================] - 1s 7ms/step - loss: 0.0023 - accuracy: 1.0000 - lr: 3.0000e-05\n",
            "Epoch 46/200\n",
            "154/157 [============================>.] - ETA: 0s - loss: 0.0019 - accuracy: 1.0000"
          ]
        },
        {
          "output_type": "stream",
          "name": "stderr",
          "text": [
            "WARNING:tensorflow:Early stopping conditioned on metric `val_loss` which is not available. Available metrics are: loss,accuracy\n",
            "WARNING:tensorflow:Learning rate reduction is conditioned on metric `val_loss` which is not available. Available metrics are: loss,accuracy,lr\n"
          ]
        },
        {
          "output_type": "stream",
          "name": "stdout",
          "text": [
            "\b\b\b\b\b\b\b\b\b\b\b\b\b\b\b\b\b\b\b\b\b\b\b\b\b\b\b\b\b\b\b\b\b\b\b\b\b\b\b\b\b\b\b\b\b\b\b\b\b\b\b\b\b\b\b\b\b\b\b\b\b\b\b\b\b\b\b\b\b\b\b\b\b\b\b\b\b\b\b\b\b\b\b\b\r157/157 [==============================] - 1s 7ms/step - loss: 0.0019 - accuracy: 1.0000 - lr: 3.0000e-05\n",
            "Epoch 47/200\n",
            "152/157 [============================>.] - ETA: 0s - loss: 0.0017 - accuracy: 1.0000"
          ]
        },
        {
          "output_type": "stream",
          "name": "stderr",
          "text": [
            "WARNING:tensorflow:Early stopping conditioned on metric `val_loss` which is not available. Available metrics are: loss,accuracy\n",
            "WARNING:tensorflow:Learning rate reduction is conditioned on metric `val_loss` which is not available. Available metrics are: loss,accuracy,lr\n"
          ]
        },
        {
          "output_type": "stream",
          "name": "stdout",
          "text": [
            "\b\b\b\b\b\b\b\b\b\b\b\b\b\b\b\b\b\b\b\b\b\b\b\b\b\b\b\b\b\b\b\b\b\b\b\b\b\b\b\b\b\b\b\b\b\b\b\b\b\b\b\b\b\b\b\b\b\b\b\b\b\b\b\b\b\b\b\b\b\b\b\b\b\b\b\b\b\b\b\b\b\b\b\b\r157/157 [==============================] - 1s 7ms/step - loss: 0.0017 - accuracy: 1.0000 - lr: 3.0000e-05\n",
            "Epoch 48/200\n",
            "155/157 [============================>.] - ETA: 0s - loss: 0.0016 - accuracy: 1.0000"
          ]
        },
        {
          "output_type": "stream",
          "name": "stderr",
          "text": [
            "WARNING:tensorflow:Early stopping conditioned on metric `val_loss` which is not available. Available metrics are: loss,accuracy\n",
            "WARNING:tensorflow:Learning rate reduction is conditioned on metric `val_loss` which is not available. Available metrics are: loss,accuracy,lr\n"
          ]
        },
        {
          "output_type": "stream",
          "name": "stdout",
          "text": [
            "\b\b\b\b\b\b\b\b\b\b\b\b\b\b\b\b\b\b\b\b\b\b\b\b\b\b\b\b\b\b\b\b\b\b\b\b\b\b\b\b\b\b\b\b\b\b\b\b\b\b\b\b\b\b\b\b\b\b\b\b\b\b\b\b\b\b\b\b\b\b\b\b\b\b\b\b\b\b\b\b\b\b\b\b\r157/157 [==============================] - 1s 7ms/step - loss: 0.0016 - accuracy: 1.0000 - lr: 3.0000e-05\n",
            "Epoch 49/200\n",
            "151/157 [===========================>..] - ETA: 0s - loss: 0.0015 - accuracy: 1.0000"
          ]
        },
        {
          "output_type": "stream",
          "name": "stderr",
          "text": [
            "WARNING:tensorflow:Early stopping conditioned on metric `val_loss` which is not available. Available metrics are: loss,accuracy\n",
            "WARNING:tensorflow:Learning rate reduction is conditioned on metric `val_loss` which is not available. Available metrics are: loss,accuracy,lr\n"
          ]
        },
        {
          "output_type": "stream",
          "name": "stdout",
          "text": [
            "\b\b\b\b\b\b\b\b\b\b\b\b\b\b\b\b\b\b\b\b\b\b\b\b\b\b\b\b\b\b\b\b\b\b\b\b\b\b\b\b\b\b\b\b\b\b\b\b\b\b\b\b\b\b\b\b\b\b\b\b\b\b\b\b\b\b\b\b\b\b\b\b\b\b\b\b\b\b\b\b\b\b\b\b\r157/157 [==============================] - 1s 7ms/step - loss: 0.0015 - accuracy: 1.0000 - lr: 3.0000e-05\n",
            "Epoch 50/200\n",
            "150/157 [===========================>..] - ETA: 0s - loss: 0.0014 - accuracy: 1.0000"
          ]
        },
        {
          "output_type": "stream",
          "name": "stderr",
          "text": [
            "WARNING:tensorflow:Early stopping conditioned on metric `val_loss` which is not available. Available metrics are: loss,accuracy\n",
            "WARNING:tensorflow:Learning rate reduction is conditioned on metric `val_loss` which is not available. Available metrics are: loss,accuracy,lr\n"
          ]
        },
        {
          "output_type": "stream",
          "name": "stdout",
          "text": [
            "\b\b\b\b\b\b\b\b\b\b\b\b\b\b\b\b\b\b\b\b\b\b\b\b\b\b\b\b\b\b\b\b\b\b\b\b\b\b\b\b\b\b\b\b\b\b\b\b\b\b\b\b\b\b\b\b\b\b\b\b\b\b\b\b\b\b\b\b\b\b\b\b\b\b\b\b\b\b\b\b\b\b\b\b\r157/157 [==============================] - 1s 7ms/step - loss: 0.0014 - accuracy: 1.0000 - lr: 3.0000e-05\n",
            "Epoch 51/200\n",
            "152/157 [============================>.] - ETA: 0s - loss: 0.0013 - accuracy: 0.9998"
          ]
        },
        {
          "output_type": "stream",
          "name": "stderr",
          "text": [
            "WARNING:tensorflow:Early stopping conditioned on metric `val_loss` which is not available. Available metrics are: loss,accuracy\n",
            "WARNING:tensorflow:Learning rate reduction is conditioned on metric `val_loss` which is not available. Available metrics are: loss,accuracy,lr\n"
          ]
        },
        {
          "output_type": "stream",
          "name": "stdout",
          "text": [
            "\b\b\b\b\b\b\b\b\b\b\b\b\b\b\b\b\b\b\b\b\b\b\b\b\b\b\b\b\b\b\b\b\b\b\b\b\b\b\b\b\b\b\b\b\b\b\b\b\b\b\b\b\b\b\b\b\b\b\b\b\b\b\b\b\b\b\b\b\b\b\b\b\b\b\b\b\b\b\b\b\b\b\b\b\r157/157 [==============================] - 1s 7ms/step - loss: 0.0014 - accuracy: 0.9998 - lr: 3.0000e-05\n",
            "Epoch 52/200\n",
            "152/157 [============================>.] - ETA: 0s - loss: 0.0011 - accuracy: 1.0000"
          ]
        },
        {
          "output_type": "stream",
          "name": "stderr",
          "text": [
            "WARNING:tensorflow:Early stopping conditioned on metric `val_loss` which is not available. Available metrics are: loss,accuracy\n",
            "WARNING:tensorflow:Learning rate reduction is conditioned on metric `val_loss` which is not available. Available metrics are: loss,accuracy,lr\n"
          ]
        },
        {
          "output_type": "stream",
          "name": "stdout",
          "text": [
            "\b\b\b\b\b\b\b\b\b\b\b\b\b\b\b\b\b\b\b\b\b\b\b\b\b\b\b\b\b\b\b\b\b\b\b\b\b\b\b\b\b\b\b\b\b\b\b\b\b\b\b\b\b\b\b\b\b\b\b\b\b\b\b\b\b\b\b\b\b\b\b\b\b\b\b\b\b\b\b\b\b\b\b\b\r157/157 [==============================] - 1s 7ms/step - loss: 0.0011 - accuracy: 1.0000 - lr: 3.0000e-05\n",
            "Epoch 53/200\n",
            "157/157 [==============================] - ETA: 0s - loss: 8.6954e-04 - accuracy: 1.0000"
          ]
        },
        {
          "output_type": "stream",
          "name": "stderr",
          "text": [
            "WARNING:tensorflow:Early stopping conditioned on metric `val_loss` which is not available. Available metrics are: loss,accuracy\n",
            "WARNING:tensorflow:Learning rate reduction is conditioned on metric `val_loss` which is not available. Available metrics are: loss,accuracy,lr\n"
          ]
        },
        {
          "output_type": "stream",
          "name": "stdout",
          "text": [
            "\b\b\b\b\b\b\b\b\b\b\b\b\b\b\b\b\b\b\b\b\b\b\b\b\b\b\b\b\b\b\b\b\b\b\b\b\b\b\b\b\b\b\b\b\b\b\b\b\b\b\b\b\b\b\b\b\b\b\b\b\b\b\b\b\b\b\b\b\b\b\b\b\b\b\b\b\b\b\b\b\b\b\b\b\b\b\b\b\r157/157 [==============================] - 1s 7ms/step - loss: 8.6954e-04 - accuracy: 1.0000 - lr: 3.0000e-05\n",
            "Epoch 54/200\n",
            "154/157 [============================>.] - ETA: 0s - loss: 8.2314e-04 - accuracy: 1.0000"
          ]
        },
        {
          "output_type": "stream",
          "name": "stderr",
          "text": [
            "WARNING:tensorflow:Early stopping conditioned on metric `val_loss` which is not available. Available metrics are: loss,accuracy\n",
            "WARNING:tensorflow:Learning rate reduction is conditioned on metric `val_loss` which is not available. Available metrics are: loss,accuracy,lr\n"
          ]
        },
        {
          "output_type": "stream",
          "name": "stdout",
          "text": [
            "\b\b\b\b\b\b\b\b\b\b\b\b\b\b\b\b\b\b\b\b\b\b\b\b\b\b\b\b\b\b\b\b\b\b\b\b\b\b\b\b\b\b\b\b\b\b\b\b\b\b\b\b\b\b\b\b\b\b\b\b\b\b\b\b\b\b\b\b\b\b\b\b\b\b\b\b\b\b\b\b\b\b\b\b\b\b\b\b\r157/157 [==============================] - 1s 7ms/step - loss: 8.3015e-04 - accuracy: 1.0000 - lr: 3.0000e-05\n",
            "Epoch 55/200\n",
            "156/157 [============================>.] - ETA: 0s - loss: 7.3306e-04 - accuracy: 1.0000"
          ]
        },
        {
          "output_type": "stream",
          "name": "stderr",
          "text": [
            "WARNING:tensorflow:Early stopping conditioned on metric `val_loss` which is not available. Available metrics are: loss,accuracy\n",
            "WARNING:tensorflow:Learning rate reduction is conditioned on metric `val_loss` which is not available. Available metrics are: loss,accuracy,lr\n"
          ]
        },
        {
          "output_type": "stream",
          "name": "stdout",
          "text": [
            "\b\b\b\b\b\b\b\b\b\b\b\b\b\b\b\b\b\b\b\b\b\b\b\b\b\b\b\b\b\b\b\b\b\b\b\b\b\b\b\b\b\b\b\b\b\b\b\b\b\b\b\b\b\b\b\b\b\b\b\b\b\b\b\b\b\b\b\b\b\b\b\b\b\b\b\b\b\b\b\b\b\b\b\b\b\b\b\b\r157/157 [==============================] - 1s 7ms/step - loss: 7.3103e-04 - accuracy: 1.0000 - lr: 3.0000e-05\n",
            "Epoch 56/200\n",
            "151/157 [===========================>..] - ETA: 0s - loss: 6.6122e-04 - accuracy: 1.0000"
          ]
        },
        {
          "output_type": "stream",
          "name": "stderr",
          "text": [
            "WARNING:tensorflow:Early stopping conditioned on metric `val_loss` which is not available. Available metrics are: loss,accuracy\n",
            "WARNING:tensorflow:Learning rate reduction is conditioned on metric `val_loss` which is not available. Available metrics are: loss,accuracy,lr\n"
          ]
        },
        {
          "output_type": "stream",
          "name": "stdout",
          "text": [
            "\b\b\b\b\b\b\b\b\b\b\b\b\b\b\b\b\b\b\b\b\b\b\b\b\b\b\b\b\b\b\b\b\b\b\b\b\b\b\b\b\b\b\b\b\b\b\b\b\b\b\b\b\b\b\b\b\b\b\b\b\b\b\b\b\b\b\b\b\b\b\b\b\b\b\b\b\b\b\b\b\b\b\b\b\b\b\b\b\r157/157 [==============================] - 1s 7ms/step - loss: 6.7599e-04 - accuracy: 1.0000 - lr: 3.0000e-05\n",
            "Epoch 57/200\n",
            "155/157 [============================>.] - ETA: 0s - loss: 6.3017e-04 - accuracy: 1.0000"
          ]
        },
        {
          "output_type": "stream",
          "name": "stderr",
          "text": [
            "WARNING:tensorflow:Early stopping conditioned on metric `val_loss` which is not available. Available metrics are: loss,accuracy\n",
            "WARNING:tensorflow:Learning rate reduction is conditioned on metric `val_loss` which is not available. Available metrics are: loss,accuracy,lr\n"
          ]
        },
        {
          "output_type": "stream",
          "name": "stdout",
          "text": [
            "\b\b\b\b\b\b\b\b\b\b\b\b\b\b\b\b\b\b\b\b\b\b\b\b\b\b\b\b\b\b\b\b\b\b\b\b\b\b\b\b\b\b\b\b\b\b\b\b\b\b\b\b\b\b\b\b\b\b\b\b\b\b\b\b\b\b\b\b\b\b\b\b\b\b\b\b\b\b\b\b\b\b\b\b\b\b\b\b\r157/157 [==============================] - 1s 7ms/step - loss: 6.2915e-04 - accuracy: 1.0000 - lr: 3.0000e-05\n",
            "Epoch 58/200\n",
            "157/157 [==============================] - ETA: 0s - loss: 5.6470e-04 - accuracy: 1.0000"
          ]
        },
        {
          "output_type": "stream",
          "name": "stderr",
          "text": [
            "WARNING:tensorflow:Early stopping conditioned on metric `val_loss` which is not available. Available metrics are: loss,accuracy\n",
            "WARNING:tensorflow:Learning rate reduction is conditioned on metric `val_loss` which is not available. Available metrics are: loss,accuracy,lr\n"
          ]
        },
        {
          "output_type": "stream",
          "name": "stdout",
          "text": [
            "\b\b\b\b\b\b\b\b\b\b\b\b\b\b\b\b\b\b\b\b\b\b\b\b\b\b\b\b\b\b\b\b\b\b\b\b\b\b\b\b\b\b\b\b\b\b\b\b\b\b\b\b\b\b\b\b\b\b\b\b\b\b\b\b\b\b\b\b\b\b\b\b\b\b\b\b\b\b\b\b\b\b\b\b\b\b\b\b\r157/157 [==============================] - 1s 8ms/step - loss: 5.6470e-04 - accuracy: 1.0000 - lr: 3.0000e-05\n",
            "Epoch 59/200\n",
            "153/157 [============================>.] - ETA: 0s - loss: 4.8290e-04 - accuracy: 1.0000"
          ]
        },
        {
          "output_type": "stream",
          "name": "stderr",
          "text": [
            "WARNING:tensorflow:Early stopping conditioned on metric `val_loss` which is not available. Available metrics are: loss,accuracy\n",
            "WARNING:tensorflow:Learning rate reduction is conditioned on metric `val_loss` which is not available. Available metrics are: loss,accuracy,lr\n"
          ]
        },
        {
          "output_type": "stream",
          "name": "stdout",
          "text": [
            "\b\b\b\b\b\b\b\b\b\b\b\b\b\b\b\b\b\b\b\b\b\b\b\b\b\b\b\b\b\b\b\b\b\b\b\b\b\b\b\b\b\b\b\b\b\b\b\b\b\b\b\b\b\b\b\b\b\b\b\b\b\b\b\b\b\b\b\b\b\b\b\b\b\b\b\b\b\b\b\b\b\b\b\b\b\b\b\b\r157/157 [==============================] - 1s 7ms/step - loss: 4.7739e-04 - accuracy: 1.0000 - lr: 3.0000e-05\n",
            "Epoch 60/200\n",
            "155/157 [============================>.] - ETA: 0s - loss: 4.3695e-04 - accuracy: 1.0000"
          ]
        },
        {
          "output_type": "stream",
          "name": "stderr",
          "text": [
            "WARNING:tensorflow:Early stopping conditioned on metric `val_loss` which is not available. Available metrics are: loss,accuracy\n",
            "WARNING:tensorflow:Learning rate reduction is conditioned on metric `val_loss` which is not available. Available metrics are: loss,accuracy,lr\n"
          ]
        },
        {
          "output_type": "stream",
          "name": "stdout",
          "text": [
            "\b\b\b\b\b\b\b\b\b\b\b\b\b\b\b\b\b\b\b\b\b\b\b\b\b\b\b\b\b\b\b\b\b\b\b\b\b\b\b\b\b\b\b\b\b\b\b\b\b\b\b\b\b\b\b\b\b\b\b\b\b\b\b\b\b\b\b\b\b\b\b\b\b\b\b\b\b\b\b\b\b\b\b\b\b\b\b\b\r157/157 [==============================] - 1s 7ms/step - loss: 4.3748e-04 - accuracy: 1.0000 - lr: 3.0000e-05\n",
            "Epoch 61/200\n",
            "157/157 [==============================] - ETA: 0s - loss: 5.7114e-04 - accuracy: 1.0000"
          ]
        },
        {
          "output_type": "stream",
          "name": "stderr",
          "text": [
            "WARNING:tensorflow:Early stopping conditioned on metric `val_loss` which is not available. Available metrics are: loss,accuracy\n",
            "WARNING:tensorflow:Learning rate reduction is conditioned on metric `val_loss` which is not available. Available metrics are: loss,accuracy,lr\n"
          ]
        },
        {
          "output_type": "stream",
          "name": "stdout",
          "text": [
            "\b\b\b\b\b\b\b\b\b\b\b\b\b\b\b\b\b\b\b\b\b\b\b\b\b\b\b\b\b\b\b\b\b\b\b\b\b\b\b\b\b\b\b\b\b\b\b\b\b\b\b\b\b\b\b\b\b\b\b\b\b\b\b\b\b\b\b\b\b\b\b\b\b\b\b\b\b\b\b\b\b\b\b\b\b\b\b\b\r157/157 [==============================] - 1s 7ms/step - loss: 5.7114e-04 - accuracy: 1.0000 - lr: 3.0000e-05\n",
            "Epoch 62/200\n",
            "151/157 [===========================>..] - ETA: 0s - loss: 3.4174e-04 - accuracy: 1.0000"
          ]
        },
        {
          "output_type": "stream",
          "name": "stderr",
          "text": [
            "WARNING:tensorflow:Early stopping conditioned on metric `val_loss` which is not available. Available metrics are: loss,accuracy\n",
            "WARNING:tensorflow:Learning rate reduction is conditioned on metric `val_loss` which is not available. Available metrics are: loss,accuracy,lr\n"
          ]
        },
        {
          "output_type": "stream",
          "name": "stdout",
          "text": [
            "\b\b\b\b\b\b\b\b\b\b\b\b\b\b\b\b\b\b\b\b\b\b\b\b\b\b\b\b\b\b\b\b\b\b\b\b\b\b\b\b\b\b\b\b\b\b\b\b\b\b\b\b\b\b\b\b\b\b\b\b\b\b\b\b\b\b\b\b\b\b\b\b\b\b\b\b\b\b\b\b\b\b\b\b\b\b\b\b\r157/157 [==============================] - 1s 7ms/step - loss: 3.4788e-04 - accuracy: 1.0000 - lr: 3.0000e-05\n",
            "Epoch 63/200\n",
            "156/157 [============================>.] - ETA: 0s - loss: 3.4934e-04 - accuracy: 1.0000"
          ]
        },
        {
          "output_type": "stream",
          "name": "stderr",
          "text": [
            "WARNING:tensorflow:Early stopping conditioned on metric `val_loss` which is not available. Available metrics are: loss,accuracy\n",
            "WARNING:tensorflow:Learning rate reduction is conditioned on metric `val_loss` which is not available. Available metrics are: loss,accuracy,lr\n"
          ]
        },
        {
          "output_type": "stream",
          "name": "stdout",
          "text": [
            "\b\b\b\b\b\b\b\b\b\b\b\b\b\b\b\b\b\b\b\b\b\b\b\b\b\b\b\b\b\b\b\b\b\b\b\b\b\b\b\b\b\b\b\b\b\b\b\b\b\b\b\b\b\b\b\b\b\b\b\b\b\b\b\b\b\b\b\b\b\b\b\b\b\b\b\b\b\b\b\b\b\b\b\b\b\b\b\b\r157/157 [==============================] - 1s 7ms/step - loss: 3.4843e-04 - accuracy: 1.0000 - lr: 3.0000e-05\n",
            "Epoch 64/200\n",
            "152/157 [============================>.] - ETA: 0s - loss: 3.7417e-04 - accuracy: 1.0000"
          ]
        },
        {
          "output_type": "stream",
          "name": "stderr",
          "text": [
            "WARNING:tensorflow:Early stopping conditioned on metric `val_loss` which is not available. Available metrics are: loss,accuracy\n",
            "WARNING:tensorflow:Learning rate reduction is conditioned on metric `val_loss` which is not available. Available metrics are: loss,accuracy,lr\n"
          ]
        },
        {
          "output_type": "stream",
          "name": "stdout",
          "text": [
            "\b\b\b\b\b\b\b\b\b\b\b\b\b\b\b\b\b\b\b\b\b\b\b\b\b\b\b\b\b\b\b\b\b\b\b\b\b\b\b\b\b\b\b\b\b\b\b\b\b\b\b\b\b\b\b\b\b\b\b\b\b\b\b\b\b\b\b\b\b\b\b\b\b\b\b\b\b\b\b\b\b\b\b\b\b\b\b\b\r157/157 [==============================] - 1s 7ms/step - loss: 3.7328e-04 - accuracy: 1.0000 - lr: 3.0000e-05\n",
            "Epoch 65/200\n",
            "153/157 [============================>.] - ETA: 0s - loss: 2.7602e-04 - accuracy: 1.0000"
          ]
        },
        {
          "output_type": "stream",
          "name": "stderr",
          "text": [
            "WARNING:tensorflow:Early stopping conditioned on metric `val_loss` which is not available. Available metrics are: loss,accuracy\n",
            "WARNING:tensorflow:Learning rate reduction is conditioned on metric `val_loss` which is not available. Available metrics are: loss,accuracy,lr\n"
          ]
        },
        {
          "output_type": "stream",
          "name": "stdout",
          "text": [
            "\b\b\b\b\b\b\b\b\b\b\b\b\b\b\b\b\b\b\b\b\b\b\b\b\b\b\b\b\b\b\b\b\b\b\b\b\b\b\b\b\b\b\b\b\b\b\b\b\b\b\b\b\b\b\b\b\b\b\b\b\b\b\b\b\b\b\b\b\b\b\b\b\b\b\b\b\b\b\b\b\b\b\b\b\b\b\b\b\r157/157 [==============================] - 1s 7ms/step - loss: 2.7618e-04 - accuracy: 1.0000 - lr: 3.0000e-05\n",
            "Epoch 66/200\n",
            "157/157 [==============================] - ETA: 0s - loss: 2.9597e-04 - accuracy: 1.0000"
          ]
        },
        {
          "output_type": "stream",
          "name": "stderr",
          "text": [
            "WARNING:tensorflow:Early stopping conditioned on metric `val_loss` which is not available. Available metrics are: loss,accuracy\n",
            "WARNING:tensorflow:Learning rate reduction is conditioned on metric `val_loss` which is not available. Available metrics are: loss,accuracy,lr\n"
          ]
        },
        {
          "output_type": "stream",
          "name": "stdout",
          "text": [
            "\b\b\b\b\b\b\b\b\b\b\b\b\b\b\b\b\b\b\b\b\b\b\b\b\b\b\b\b\b\b\b\b\b\b\b\b\b\b\b\b\b\b\b\b\b\b\b\b\b\b\b\b\b\b\b\b\b\b\b\b\b\b\b\b\b\b\b\b\b\b\b\b\b\b\b\b\b\b\b\b\b\b\b\b\b\b\b\b\r157/157 [==============================] - 1s 7ms/step - loss: 2.9597e-04 - accuracy: 1.0000 - lr: 3.0000e-05\n",
            "Epoch 67/200\n",
            "154/157 [============================>.] - ETA: 0s - loss: 2.4221e-04 - accuracy: 1.0000"
          ]
        },
        {
          "output_type": "stream",
          "name": "stderr",
          "text": [
            "WARNING:tensorflow:Early stopping conditioned on metric `val_loss` which is not available. Available metrics are: loss,accuracy\n",
            "WARNING:tensorflow:Learning rate reduction is conditioned on metric `val_loss` which is not available. Available metrics are: loss,accuracy,lr\n"
          ]
        },
        {
          "output_type": "stream",
          "name": "stdout",
          "text": [
            "\b\b\b\b\b\b\b\b\b\b\b\b\b\b\b\b\b\b\b\b\b\b\b\b\b\b\b\b\b\b\b\b\b\b\b\b\b\b\b\b\b\b\b\b\b\b\b\b\b\b\b\b\b\b\b\b\b\b\b\b\b\b\b\b\b\b\b\b\b\b\b\b\b\b\b\b\b\b\b\b\b\b\b\b\b\b\b\b\r157/157 [==============================] - 1s 7ms/step - loss: 2.4061e-04 - accuracy: 1.0000 - lr: 3.0000e-05\n",
            "Epoch 68/200\n",
            "154/157 [============================>.] - ETA: 0s - loss: 2.2380e-04 - accuracy: 1.0000"
          ]
        },
        {
          "output_type": "stream",
          "name": "stderr",
          "text": [
            "WARNING:tensorflow:Early stopping conditioned on metric `val_loss` which is not available. Available metrics are: loss,accuracy\n",
            "WARNING:tensorflow:Learning rate reduction is conditioned on metric `val_loss` which is not available. Available metrics are: loss,accuracy,lr\n"
          ]
        },
        {
          "output_type": "stream",
          "name": "stdout",
          "text": [
            "\b\b\b\b\b\b\b\b\b\b\b\b\b\b\b\b\b\b\b\b\b\b\b\b\b\b\b\b\b\b\b\b\b\b\b\b\b\b\b\b\b\b\b\b\b\b\b\b\b\b\b\b\b\b\b\b\b\b\b\b\b\b\b\b\b\b\b\b\b\b\b\b\b\b\b\b\b\b\b\b\b\b\b\b\b\b\b\b\r157/157 [==============================] - 1s 7ms/step - loss: 2.2434e-04 - accuracy: 1.0000 - lr: 3.0000e-05\n",
            "Epoch 69/200\n",
            "155/157 [============================>.] - ETA: 0s - loss: 1.9154e-04 - accuracy: 1.0000"
          ]
        },
        {
          "output_type": "stream",
          "name": "stderr",
          "text": [
            "WARNING:tensorflow:Early stopping conditioned on metric `val_loss` which is not available. Available metrics are: loss,accuracy\n",
            "WARNING:tensorflow:Learning rate reduction is conditioned on metric `val_loss` which is not available. Available metrics are: loss,accuracy,lr\n"
          ]
        },
        {
          "output_type": "stream",
          "name": "stdout",
          "text": [
            "\b\b\b\b\b\b\b\b\b\b\b\b\b\b\b\b\b\b\b\b\b\b\b\b\b\b\b\b\b\b\b\b\b\b\b\b\b\b\b\b\b\b\b\b\b\b\b\b\b\b\b\b\b\b\b\b\b\b\b\b\b\b\b\b\b\b\b\b\b\b\b\b\b\b\b\b\b\b\b\b\b\b\b\b\b\b\b\b\r157/157 [==============================] - 1s 7ms/step - loss: 1.9066e-04 - accuracy: 1.0000 - lr: 3.0000e-05\n",
            "Epoch 70/200\n",
            "157/157 [==============================] - ETA: 0s - loss: 2.0698e-04 - accuracy: 1.0000"
          ]
        },
        {
          "output_type": "stream",
          "name": "stderr",
          "text": [
            "WARNING:tensorflow:Early stopping conditioned on metric `val_loss` which is not available. Available metrics are: loss,accuracy\n",
            "WARNING:tensorflow:Learning rate reduction is conditioned on metric `val_loss` which is not available. Available metrics are: loss,accuracy,lr\n"
          ]
        },
        {
          "output_type": "stream",
          "name": "stdout",
          "text": [
            "\b\b\b\b\b\b\b\b\b\b\b\b\b\b\b\b\b\b\b\b\b\b\b\b\b\b\b\b\b\b\b\b\b\b\b\b\b\b\b\b\b\b\b\b\b\b\b\b\b\b\b\b\b\b\b\b\b\b\b\b\b\b\b\b\b\b\b\b\b\b\b\b\b\b\b\b\b\b\b\b\b\b\b\b\b\b\b\b\r157/157 [==============================] - 1s 7ms/step - loss: 2.0698e-04 - accuracy: 1.0000 - lr: 3.0000e-05\n",
            "Epoch 71/200\n",
            "155/157 [============================>.] - ETA: 0s - loss: 1.7494e-04 - accuracy: 1.0000"
          ]
        },
        {
          "output_type": "stream",
          "name": "stderr",
          "text": [
            "WARNING:tensorflow:Early stopping conditioned on metric `val_loss` which is not available. Available metrics are: loss,accuracy\n",
            "WARNING:tensorflow:Learning rate reduction is conditioned on metric `val_loss` which is not available. Available metrics are: loss,accuracy,lr\n"
          ]
        },
        {
          "output_type": "stream",
          "name": "stdout",
          "text": [
            "\b\b\b\b\b\b\b\b\b\b\b\b\b\b\b\b\b\b\b\b\b\b\b\b\b\b\b\b\b\b\b\b\b\b\b\b\b\b\b\b\b\b\b\b\b\b\b\b\b\b\b\b\b\b\b\b\b\b\b\b\b\b\b\b\b\b\b\b\b\b\b\b\b\b\b\b\b\b\b\b\b\b\b\b\b\b\b\b\r157/157 [==============================] - 1s 7ms/step - loss: 1.7552e-04 - accuracy: 1.0000 - lr: 3.0000e-05\n",
            "Epoch 72/200\n",
            "150/157 [===========================>..] - ETA: 0s - loss: 1.6394e-04 - accuracy: 1.0000"
          ]
        },
        {
          "output_type": "stream",
          "name": "stderr",
          "text": [
            "WARNING:tensorflow:Early stopping conditioned on metric `val_loss` which is not available. Available metrics are: loss,accuracy\n",
            "WARNING:tensorflow:Learning rate reduction is conditioned on metric `val_loss` which is not available. Available metrics are: loss,accuracy,lr\n"
          ]
        },
        {
          "output_type": "stream",
          "name": "stdout",
          "text": [
            "\b\b\b\b\b\b\b\b\b\b\b\b\b\b\b\b\b\b\b\b\b\b\b\b\b\b\b\b\b\b\b\b\b\b\b\b\b\b\b\b\b\b\b\b\b\b\b\b\b\b\b\b\b\b\b\b\b\b\b\b\b\b\b\b\b\b\b\b\b\b\b\b\b\b\b\b\b\b\b\b\b\b\b\b\b\b\b\b\r157/157 [==============================] - 1s 7ms/step - loss: 1.6174e-04 - accuracy: 1.0000 - lr: 3.0000e-05\n",
            "Epoch 73/200\n",
            "157/157 [==============================] - ETA: 0s - loss: 1.5338e-04 - accuracy: 1.0000"
          ]
        },
        {
          "output_type": "stream",
          "name": "stderr",
          "text": [
            "WARNING:tensorflow:Early stopping conditioned on metric `val_loss` which is not available. Available metrics are: loss,accuracy\n",
            "WARNING:tensorflow:Learning rate reduction is conditioned on metric `val_loss` which is not available. Available metrics are: loss,accuracy,lr\n"
          ]
        },
        {
          "output_type": "stream",
          "name": "stdout",
          "text": [
            "\b\b\b\b\b\b\b\b\b\b\b\b\b\b\b\b\b\b\b\b\b\b\b\b\b\b\b\b\b\b\b\b\b\b\b\b\b\b\b\b\b\b\b\b\b\b\b\b\b\b\b\b\b\b\b\b\b\b\b\b\b\b\b\b\b\b\b\b\b\b\b\b\b\b\b\b\b\b\b\b\b\b\b\b\b\b\b\b\r157/157 [==============================] - 1s 7ms/step - loss: 1.5338e-04 - accuracy: 1.0000 - lr: 3.0000e-05\n",
            "Epoch 74/200\n",
            "151/157 [===========================>..] - ETA: 0s - loss: 1.3512e-04 - accuracy: 1.0000"
          ]
        },
        {
          "output_type": "stream",
          "name": "stderr",
          "text": [
            "WARNING:tensorflow:Early stopping conditioned on metric `val_loss` which is not available. Available metrics are: loss,accuracy\n",
            "WARNING:tensorflow:Learning rate reduction is conditioned on metric `val_loss` which is not available. Available metrics are: loss,accuracy,lr\n"
          ]
        },
        {
          "output_type": "stream",
          "name": "stdout",
          "text": [
            "\b\b\b\b\b\b\b\b\b\b\b\b\b\b\b\b\b\b\b\b\b\b\b\b\b\b\b\b\b\b\b\b\b\b\b\b\b\b\b\b\b\b\b\b\b\b\b\b\b\b\b\b\b\b\b\b\b\b\b\b\b\b\b\b\b\b\b\b\b\b\b\b\b\b\b\b\b\b\b\b\b\b\b\b\b\b\b\b\r157/157 [==============================] - 1s 7ms/step - loss: 1.3640e-04 - accuracy: 1.0000 - lr: 3.0000e-05\n",
            "Epoch 75/200\n",
            "155/157 [============================>.] - ETA: 0s - loss: 1.1938e-04 - accuracy: 1.0000"
          ]
        },
        {
          "output_type": "stream",
          "name": "stderr",
          "text": [
            "WARNING:tensorflow:Early stopping conditioned on metric `val_loss` which is not available. Available metrics are: loss,accuracy\n",
            "WARNING:tensorflow:Learning rate reduction is conditioned on metric `val_loss` which is not available. Available metrics are: loss,accuracy,lr\n"
          ]
        },
        {
          "output_type": "stream",
          "name": "stdout",
          "text": [
            "\b\b\b\b\b\b\b\b\b\b\b\b\b\b\b\b\b\b\b\b\b\b\b\b\b\b\b\b\b\b\b\b\b\b\b\b\b\b\b\b\b\b\b\b\b\b\b\b\b\b\b\b\b\b\b\b\b\b\b\b\b\b\b\b\b\b\b\b\b\b\b\b\b\b\b\b\b\b\b\b\b\b\b\b\b\b\b\b\r157/157 [==============================] - 1s 7ms/step - loss: 1.1858e-04 - accuracy: 1.0000 - lr: 3.0000e-05\n",
            "Epoch 76/200\n",
            "157/157 [==============================] - ETA: 0s - loss: 1.1335e-04 - accuracy: 1.0000"
          ]
        },
        {
          "output_type": "stream",
          "name": "stderr",
          "text": [
            "WARNING:tensorflow:Early stopping conditioned on metric `val_loss` which is not available. Available metrics are: loss,accuracy\n",
            "WARNING:tensorflow:Learning rate reduction is conditioned on metric `val_loss` which is not available. Available metrics are: loss,accuracy,lr\n"
          ]
        },
        {
          "output_type": "stream",
          "name": "stdout",
          "text": [
            "\b\b\b\b\b\b\b\b\b\b\b\b\b\b\b\b\b\b\b\b\b\b\b\b\b\b\b\b\b\b\b\b\b\b\b\b\b\b\b\b\b\b\b\b\b\b\b\b\b\b\b\b\b\b\b\b\b\b\b\b\b\b\b\b\b\b\b\b\b\b\b\b\b\b\b\b\b\b\b\b\b\b\b\b\b\b\b\b\r157/157 [==============================] - 1s 7ms/step - loss: 1.1335e-04 - accuracy: 1.0000 - lr: 3.0000e-05\n",
            "Epoch 77/200\n",
            "155/157 [============================>.] - ETA: 0s - loss: 9.9161e-05 - accuracy: 1.0000"
          ]
        },
        {
          "output_type": "stream",
          "name": "stderr",
          "text": [
            "WARNING:tensorflow:Early stopping conditioned on metric `val_loss` which is not available. Available metrics are: loss,accuracy\n",
            "WARNING:tensorflow:Learning rate reduction is conditioned on metric `val_loss` which is not available. Available metrics are: loss,accuracy,lr\n"
          ]
        },
        {
          "output_type": "stream",
          "name": "stdout",
          "text": [
            "\b\b\b\b\b\b\b\b\b\b\b\b\b\b\b\b\b\b\b\b\b\b\b\b\b\b\b\b\b\b\b\b\b\b\b\b\b\b\b\b\b\b\b\b\b\b\b\b\b\b\b\b\b\b\b\b\b\b\b\b\b\b\b\b\b\b\b\b\b\b\b\b\b\b\b\b\b\b\b\b\b\b\b\b\b\b\b\b\r157/157 [==============================] - 1s 7ms/step - loss: 9.8955e-05 - accuracy: 1.0000 - lr: 3.0000e-05\n",
            "Epoch 78/200\n",
            "152/157 [============================>.] - ETA: 0s - loss: 8.2848e-05 - accuracy: 1.0000"
          ]
        },
        {
          "output_type": "stream",
          "name": "stderr",
          "text": [
            "WARNING:tensorflow:Early stopping conditioned on metric `val_loss` which is not available. Available metrics are: loss,accuracy\n",
            "WARNING:tensorflow:Learning rate reduction is conditioned on metric `val_loss` which is not available. Available metrics are: loss,accuracy,lr\n"
          ]
        },
        {
          "output_type": "stream",
          "name": "stdout",
          "text": [
            "\b\b\b\b\b\b\b\b\b\b\b\b\b\b\b\b\b\b\b\b\b\b\b\b\b\b\b\b\b\b\b\b\b\b\b\b\b\b\b\b\b\b\b\b\b\b\b\b\b\b\b\b\b\b\b\b\b\b\b\b\b\b\b\b\b\b\b\b\b\b\b\b\b\b\b\b\b\b\b\b\b\b\b\b\b\b\b\b\r157/157 [==============================] - 1s 7ms/step - loss: 8.2270e-05 - accuracy: 1.0000 - lr: 3.0000e-05\n",
            "Epoch 79/200\n",
            "151/157 [===========================>..] - ETA: 0s - loss: 8.3383e-05 - accuracy: 1.0000"
          ]
        },
        {
          "output_type": "stream",
          "name": "stderr",
          "text": [
            "WARNING:tensorflow:Early stopping conditioned on metric `val_loss` which is not available. Available metrics are: loss,accuracy\n",
            "WARNING:tensorflow:Learning rate reduction is conditioned on metric `val_loss` which is not available. Available metrics are: loss,accuracy,lr\n"
          ]
        },
        {
          "output_type": "stream",
          "name": "stdout",
          "text": [
            "\b\b\b\b\b\b\b\b\b\b\b\b\b\b\b\b\b\b\b\b\b\b\b\b\b\b\b\b\b\b\b\b\b\b\b\b\b\b\b\b\b\b\b\b\b\b\b\b\b\b\b\b\b\b\b\b\b\b\b\b\b\b\b\b\b\b\b\b\b\b\b\b\b\b\b\b\b\b\b\b\b\b\b\b\b\b\b\b\r157/157 [==============================] - 1s 7ms/step - loss: 8.2237e-05 - accuracy: 1.0000 - lr: 3.0000e-05\n",
            "Epoch 80/200\n",
            "151/157 [===========================>..] - ETA: 0s - loss: 7.9208e-05 - accuracy: 1.0000"
          ]
        },
        {
          "output_type": "stream",
          "name": "stderr",
          "text": [
            "WARNING:tensorflow:Early stopping conditioned on metric `val_loss` which is not available. Available metrics are: loss,accuracy\n",
            "WARNING:tensorflow:Learning rate reduction is conditioned on metric `val_loss` which is not available. Available metrics are: loss,accuracy,lr\n"
          ]
        },
        {
          "output_type": "stream",
          "name": "stdout",
          "text": [
            "\b\b\b\b\b\b\b\b\b\b\b\b\b\b\b\b\b\b\b\b\b\b\b\b\b\b\b\b\b\b\b\b\b\b\b\b\b\b\b\b\b\b\b\b\b\b\b\b\b\b\b\b\b\b\b\b\b\b\b\b\b\b\b\b\b\b\b\b\b\b\b\b\b\b\b\b\b\b\b\b\b\b\b\b\b\b\b\b\r157/157 [==============================] - 1s 7ms/step - loss: 7.9590e-05 - accuracy: 1.0000 - lr: 3.0000e-05\n",
            "Epoch 81/200\n",
            "154/157 [============================>.] - ETA: 0s - loss: 8.4339e-05 - accuracy: 1.0000"
          ]
        },
        {
          "output_type": "stream",
          "name": "stderr",
          "text": [
            "WARNING:tensorflow:Early stopping conditioned on metric `val_loss` which is not available. Available metrics are: loss,accuracy\n",
            "WARNING:tensorflow:Learning rate reduction is conditioned on metric `val_loss` which is not available. Available metrics are: loss,accuracy,lr\n"
          ]
        },
        {
          "output_type": "stream",
          "name": "stdout",
          "text": [
            "\b\b\b\b\b\b\b\b\b\b\b\b\b\b\b\b\b\b\b\b\b\b\b\b\b\b\b\b\b\b\b\b\b\b\b\b\b\b\b\b\b\b\b\b\b\b\b\b\b\b\b\b\b\b\b\b\b\b\b\b\b\b\b\b\b\b\b\b\b\b\b\b\b\b\b\b\b\b\b\b\b\b\b\b\b\b\b\b\r157/157 [==============================] - 1s 7ms/step - loss: 8.3512e-05 - accuracy: 1.0000 - lr: 3.0000e-05\n",
            "Epoch 82/200\n",
            "151/157 [===========================>..] - ETA: 0s - loss: 7.2083e-05 - accuracy: 1.0000"
          ]
        },
        {
          "output_type": "stream",
          "name": "stderr",
          "text": [
            "WARNING:tensorflow:Early stopping conditioned on metric `val_loss` which is not available. Available metrics are: loss,accuracy\n",
            "WARNING:tensorflow:Learning rate reduction is conditioned on metric `val_loss` which is not available. Available metrics are: loss,accuracy,lr\n"
          ]
        },
        {
          "output_type": "stream",
          "name": "stdout",
          "text": [
            "\b\b\b\b\b\b\b\b\b\b\b\b\b\b\b\b\b\b\b\b\b\b\b\b\b\b\b\b\b\b\b\b\b\b\b\b\b\b\b\b\b\b\b\b\b\b\b\b\b\b\b\b\b\b\b\b\b\b\b\b\b\b\b\b\b\b\b\b\b\b\b\b\b\b\b\b\b\b\b\b\b\b\b\b\b\b\b\b\r157/157 [==============================] - 1s 7ms/step - loss: 7.0681e-05 - accuracy: 1.0000 - lr: 3.0000e-05\n",
            "Epoch 83/200\n",
            "152/157 [============================>.] - ETA: 0s - loss: 7.4985e-05 - accuracy: 1.0000"
          ]
        },
        {
          "output_type": "stream",
          "name": "stderr",
          "text": [
            "WARNING:tensorflow:Early stopping conditioned on metric `val_loss` which is not available. Available metrics are: loss,accuracy\n",
            "WARNING:tensorflow:Learning rate reduction is conditioned on metric `val_loss` which is not available. Available metrics are: loss,accuracy,lr\n"
          ]
        },
        {
          "output_type": "stream",
          "name": "stdout",
          "text": [
            "\b\b\b\b\b\b\b\b\b\b\b\b\b\b\b\b\b\b\b\b\b\b\b\b\b\b\b\b\b\b\b\b\b\b\b\b\b\b\b\b\b\b\b\b\b\b\b\b\b\b\b\b\b\b\b\b\b\b\b\b\b\b\b\b\b\b\b\b\b\b\b\b\b\b\b\b\b\b\b\b\b\b\b\b\b\b\b\b\r157/157 [==============================] - 1s 7ms/step - loss: 7.4837e-05 - accuracy: 1.0000 - lr: 3.0000e-05\n",
            "Epoch 84/200\n",
            "157/157 [==============================] - ETA: 0s - loss: 4.5971e-05 - accuracy: 1.0000"
          ]
        },
        {
          "output_type": "stream",
          "name": "stderr",
          "text": [
            "WARNING:tensorflow:Early stopping conditioned on metric `val_loss` which is not available. Available metrics are: loss,accuracy\n",
            "WARNING:tensorflow:Learning rate reduction is conditioned on metric `val_loss` which is not available. Available metrics are: loss,accuracy,lr\n"
          ]
        },
        {
          "output_type": "stream",
          "name": "stdout",
          "text": [
            "\b\b\b\b\b\b\b\b\b\b\b\b\b\b\b\b\b\b\b\b\b\b\b\b\b\b\b\b\b\b\b\b\b\b\b\b\b\b\b\b\b\b\b\b\b\b\b\b\b\b\b\b\b\b\b\b\b\b\b\b\b\b\b\b\b\b\b\b\b\b\b\b\b\b\b\b\b\b\b\b\b\b\b\b\b\b\b\b\r157/157 [==============================] - 1s 7ms/step - loss: 4.5971e-05 - accuracy: 1.0000 - lr: 3.0000e-05\n",
            "Epoch 85/200\n",
            "154/157 [============================>.] - ETA: 0s - loss: 6.2884e-05 - accuracy: 1.0000"
          ]
        },
        {
          "output_type": "stream",
          "name": "stderr",
          "text": [
            "WARNING:tensorflow:Early stopping conditioned on metric `val_loss` which is not available. Available metrics are: loss,accuracy\n",
            "WARNING:tensorflow:Learning rate reduction is conditioned on metric `val_loss` which is not available. Available metrics are: loss,accuracy,lr\n"
          ]
        },
        {
          "output_type": "stream",
          "name": "stdout",
          "text": [
            "\b\b\b\b\b\b\b\b\b\b\b\b\b\b\b\b\b\b\b\b\b\b\b\b\b\b\b\b\b\b\b\b\b\b\b\b\b\b\b\b\b\b\b\b\b\b\b\b\b\b\b\b\b\b\b\b\b\b\b\b\b\b\b\b\b\b\b\b\b\b\b\b\b\b\b\b\b\b\b\b\b\b\b\b\b\b\b\b\r157/157 [==============================] - 1s 7ms/step - loss: 6.3012e-05 - accuracy: 1.0000 - lr: 3.0000e-05\n",
            "Epoch 86/200\n",
            "151/157 [===========================>..] - ETA: 0s - loss: 3.7589e-05 - accuracy: 1.0000"
          ]
        },
        {
          "output_type": "stream",
          "name": "stderr",
          "text": [
            "WARNING:tensorflow:Early stopping conditioned on metric `val_loss` which is not available. Available metrics are: loss,accuracy\n",
            "WARNING:tensorflow:Learning rate reduction is conditioned on metric `val_loss` which is not available. Available metrics are: loss,accuracy,lr\n"
          ]
        },
        {
          "output_type": "stream",
          "name": "stdout",
          "text": [
            "\b\b\b\b\b\b\b\b\b\b\b\b\b\b\b\b\b\b\b\b\b\b\b\b\b\b\b\b\b\b\b\b\b\b\b\b\b\b\b\b\b\b\b\b\b\b\b\b\b\b\b\b\b\b\b\b\b\b\b\b\b\b\b\b\b\b\b\b\b\b\b\b\b\b\b\b\b\b\b\b\b\b\b\b\b\b\b\b\r157/157 [==============================] - 1s 7ms/step - loss: 3.7325e-05 - accuracy: 1.0000 - lr: 3.0000e-05\n",
            "Epoch 87/200\n",
            "150/157 [===========================>..] - ETA: 0s - loss: 4.8425e-05 - accuracy: 1.0000"
          ]
        },
        {
          "output_type": "stream",
          "name": "stderr",
          "text": [
            "WARNING:tensorflow:Early stopping conditioned on metric `val_loss` which is not available. Available metrics are: loss,accuracy\n",
            "WARNING:tensorflow:Learning rate reduction is conditioned on metric `val_loss` which is not available. Available metrics are: loss,accuracy,lr\n"
          ]
        },
        {
          "output_type": "stream",
          "name": "stdout",
          "text": [
            "\b\b\b\b\b\b\b\b\b\b\b\b\b\b\b\b\b\b\b\b\b\b\b\b\b\b\b\b\b\b\b\b\b\b\b\b\b\b\b\b\b\b\b\b\b\b\b\b\b\b\b\b\b\b\b\b\b\b\b\b\b\b\b\b\b\b\b\b\b\b\b\b\b\b\b\b\b\b\b\b\b\b\b\b\b\b\b\b\r157/157 [==============================] - 1s 7ms/step - loss: 4.8207e-05 - accuracy: 1.0000 - lr: 3.0000e-05\n",
            "Epoch 88/200\n",
            "157/157 [==============================] - ETA: 0s - loss: 3.7226e-05 - accuracy: 1.0000"
          ]
        },
        {
          "output_type": "stream",
          "name": "stderr",
          "text": [
            "WARNING:tensorflow:Early stopping conditioned on metric `val_loss` which is not available. Available metrics are: loss,accuracy\n",
            "WARNING:tensorflow:Learning rate reduction is conditioned on metric `val_loss` which is not available. Available metrics are: loss,accuracy,lr\n"
          ]
        },
        {
          "output_type": "stream",
          "name": "stdout",
          "text": [
            "\b\b\b\b\b\b\b\b\b\b\b\b\b\b\b\b\b\b\b\b\b\b\b\b\b\b\b\b\b\b\b\b\b\b\b\b\b\b\b\b\b\b\b\b\b\b\b\b\b\b\b\b\b\b\b\b\b\b\b\b\b\b\b\b\b\b\b\b\b\b\b\b\b\b\b\b\b\b\b\b\b\b\b\b\b\b\b\b\r157/157 [==============================] - 1s 7ms/step - loss: 3.7226e-05 - accuracy: 1.0000 - lr: 3.0000e-05\n",
            "Epoch 89/200\n",
            "156/157 [============================>.] - ETA: 0s - loss: 3.1409e-05 - accuracy: 1.0000"
          ]
        },
        {
          "output_type": "stream",
          "name": "stderr",
          "text": [
            "WARNING:tensorflow:Early stopping conditioned on metric `val_loss` which is not available. Available metrics are: loss,accuracy\n",
            "WARNING:tensorflow:Learning rate reduction is conditioned on metric `val_loss` which is not available. Available metrics are: loss,accuracy,lr\n"
          ]
        },
        {
          "output_type": "stream",
          "name": "stdout",
          "text": [
            "\b\b\b\b\b\b\b\b\b\b\b\b\b\b\b\b\b\b\b\b\b\b\b\b\b\b\b\b\b\b\b\b\b\b\b\b\b\b\b\b\b\b\b\b\b\b\b\b\b\b\b\b\b\b\b\b\b\b\b\b\b\b\b\b\b\b\b\b\b\b\b\b\b\b\b\b\b\b\b\b\b\b\b\b\b\b\b\b\r157/157 [==============================] - 1s 7ms/step - loss: 3.1389e-05 - accuracy: 1.0000 - lr: 3.0000e-05\n",
            "Epoch 90/200\n",
            "153/157 [============================>.] - ETA: 0s - loss: 2.9774e-05 - accuracy: 1.0000"
          ]
        },
        {
          "output_type": "stream",
          "name": "stderr",
          "text": [
            "WARNING:tensorflow:Early stopping conditioned on metric `val_loss` which is not available. Available metrics are: loss,accuracy\n",
            "WARNING:tensorflow:Learning rate reduction is conditioned on metric `val_loss` which is not available. Available metrics are: loss,accuracy,lr\n"
          ]
        },
        {
          "output_type": "stream",
          "name": "stdout",
          "text": [
            "\b\b\b\b\b\b\b\b\b\b\b\b\b\b\b\b\b\b\b\b\b\b\b\b\b\b\b\b\b\b\b\b\b\b\b\b\b\b\b\b\b\b\b\b\b\b\b\b\b\b\b\b\b\b\b\b\b\b\b\b\b\b\b\b\b\b\b\b\b\b\b\b\b\b\b\b\b\b\b\b\b\b\b\b\b\b\b\b\r157/157 [==============================] - 1s 7ms/step - loss: 2.9872e-05 - accuracy: 1.0000 - lr: 3.0000e-05\n",
            "Epoch 91/200\n",
            "156/157 [============================>.] - ETA: 0s - loss: 3.1296e-05 - accuracy: 1.0000"
          ]
        },
        {
          "output_type": "stream",
          "name": "stderr",
          "text": [
            "WARNING:tensorflow:Early stopping conditioned on metric `val_loss` which is not available. Available metrics are: loss,accuracy\n",
            "WARNING:tensorflow:Learning rate reduction is conditioned on metric `val_loss` which is not available. Available metrics are: loss,accuracy,lr\n"
          ]
        },
        {
          "output_type": "stream",
          "name": "stdout",
          "text": [
            "\b\b\b\b\b\b\b\b\b\b\b\b\b\b\b\b\b\b\b\b\b\b\b\b\b\b\b\b\b\b\b\b\b\b\b\b\b\b\b\b\b\b\b\b\b\b\b\b\b\b\b\b\b\b\b\b\b\b\b\b\b\b\b\b\b\b\b\b\b\b\b\b\b\b\b\b\b\b\b\b\b\b\b\b\b\b\b\b\r157/157 [==============================] - 1s 7ms/step - loss: 3.1376e-05 - accuracy: 1.0000 - lr: 3.0000e-05\n",
            "Epoch 92/200\n",
            "154/157 [============================>.] - ETA: 0s - loss: 2.9126e-05 - accuracy: 1.0000"
          ]
        },
        {
          "output_type": "stream",
          "name": "stderr",
          "text": [
            "WARNING:tensorflow:Early stopping conditioned on metric `val_loss` which is not available. Available metrics are: loss,accuracy\n",
            "WARNING:tensorflow:Learning rate reduction is conditioned on metric `val_loss` which is not available. Available metrics are: loss,accuracy,lr\n"
          ]
        },
        {
          "output_type": "stream",
          "name": "stdout",
          "text": [
            "\b\b\b\b\b\b\b\b\b\b\b\b\b\b\b\b\b\b\b\b\b\b\b\b\b\b\b\b\b\b\b\b\b\b\b\b\b\b\b\b\b\b\b\b\b\b\b\b\b\b\b\b\b\b\b\b\b\b\b\b\b\b\b\b\b\b\b\b\b\b\b\b\b\b\b\b\b\b\b\b\b\b\b\b\b\b\b\b\r157/157 [==============================] - 1s 7ms/step - loss: 2.9107e-05 - accuracy: 1.0000 - lr: 3.0000e-05\n",
            "Epoch 93/200\n",
            "154/157 [============================>.] - ETA: 0s - loss: 2.4394e-05 - accuracy: 1.0000"
          ]
        },
        {
          "output_type": "stream",
          "name": "stderr",
          "text": [
            "WARNING:tensorflow:Early stopping conditioned on metric `val_loss` which is not available. Available metrics are: loss,accuracy\n",
            "WARNING:tensorflow:Learning rate reduction is conditioned on metric `val_loss` which is not available. Available metrics are: loss,accuracy,lr\n"
          ]
        },
        {
          "output_type": "stream",
          "name": "stdout",
          "text": [
            "\b\b\b\b\b\b\b\b\b\b\b\b\b\b\b\b\b\b\b\b\b\b\b\b\b\b\b\b\b\b\b\b\b\b\b\b\b\b\b\b\b\b\b\b\b\b\b\b\b\b\b\b\b\b\b\b\b\b\b\b\b\b\b\b\b\b\b\b\b\b\b\b\b\b\b\b\b\b\b\b\b\b\b\b\b\b\b\b\r157/157 [==============================] - 1s 7ms/step - loss: 2.4202e-05 - accuracy: 1.0000 - lr: 3.0000e-05\n",
            "Epoch 94/200\n",
            "155/157 [============================>.] - ETA: 0s - loss: 4.0011e-05 - accuracy: 1.0000"
          ]
        },
        {
          "output_type": "stream",
          "name": "stderr",
          "text": [
            "WARNING:tensorflow:Early stopping conditioned on metric `val_loss` which is not available. Available metrics are: loss,accuracy\n",
            "WARNING:tensorflow:Learning rate reduction is conditioned on metric `val_loss` which is not available. Available metrics are: loss,accuracy,lr\n"
          ]
        },
        {
          "output_type": "stream",
          "name": "stdout",
          "text": [
            "\b\b\b\b\b\b\b\b\b\b\b\b\b\b\b\b\b\b\b\b\b\b\b\b\b\b\b\b\b\b\b\b\b\b\b\b\b\b\b\b\b\b\b\b\b\b\b\b\b\b\b\b\b\b\b\b\b\b\b\b\b\b\b\b\b\b\b\b\b\b\b\b\b\b\b\b\b\b\b\b\b\b\b\b\b\b\b\b\r157/157 [==============================] - 1s 7ms/step - loss: 3.9712e-05 - accuracy: 1.0000 - lr: 3.0000e-05\n",
            "Epoch 95/200\n",
            "157/157 [==============================] - ETA: 0s - loss: 2.4679e-05 - accuracy: 1.0000"
          ]
        },
        {
          "output_type": "stream",
          "name": "stderr",
          "text": [
            "WARNING:tensorflow:Early stopping conditioned on metric `val_loss` which is not available. Available metrics are: loss,accuracy\n",
            "WARNING:tensorflow:Learning rate reduction is conditioned on metric `val_loss` which is not available. Available metrics are: loss,accuracy,lr\n"
          ]
        },
        {
          "output_type": "stream",
          "name": "stdout",
          "text": [
            "\b\b\b\b\b\b\b\b\b\b\b\b\b\b\b\b\b\b\b\b\b\b\b\b\b\b\b\b\b\b\b\b\b\b\b\b\b\b\b\b\b\b\b\b\b\b\b\b\b\b\b\b\b\b\b\b\b\b\b\b\b\b\b\b\b\b\b\b\b\b\b\b\b\b\b\b\b\b\b\b\b\b\b\b\b\b\b\b\r157/157 [==============================] - 1s 9ms/step - loss: 2.4679e-05 - accuracy: 1.0000 - lr: 3.0000e-05\n",
            "Epoch 96/200\n",
            "154/157 [============================>.] - ETA: 0s - loss: 2.6895e-05 - accuracy: 1.0000"
          ]
        },
        {
          "output_type": "stream",
          "name": "stderr",
          "text": [
            "WARNING:tensorflow:Early stopping conditioned on metric `val_loss` which is not available. Available metrics are: loss,accuracy\n",
            "WARNING:tensorflow:Learning rate reduction is conditioned on metric `val_loss` which is not available. Available metrics are: loss,accuracy,lr\n"
          ]
        },
        {
          "output_type": "stream",
          "name": "stdout",
          "text": [
            "\b\b\b\b\b\b\b\b\b\b\b\b\b\b\b\b\b\b\b\b\b\b\b\b\b\b\b\b\b\b\b\b\b\b\b\b\b\b\b\b\b\b\b\b\b\b\b\b\b\b\b\b\b\b\b\b\b\b\b\b\b\b\b\b\b\b\b\b\b\b\b\b\b\b\b\b\b\b\b\b\b\b\b\b\b\b\b\b\r157/157 [==============================] - 1s 9ms/step - loss: 2.6558e-05 - accuracy: 1.0000 - lr: 3.0000e-05\n",
            "Epoch 97/200\n",
            "154/157 [============================>.] - ETA: 0s - loss: 1.6650e-05 - accuracy: 1.0000"
          ]
        },
        {
          "output_type": "stream",
          "name": "stderr",
          "text": [
            "WARNING:tensorflow:Early stopping conditioned on metric `val_loss` which is not available. Available metrics are: loss,accuracy\n",
            "WARNING:tensorflow:Learning rate reduction is conditioned on metric `val_loss` which is not available. Available metrics are: loss,accuracy,lr\n"
          ]
        },
        {
          "output_type": "stream",
          "name": "stdout",
          "text": [
            "\b\b\b\b\b\b\b\b\b\b\b\b\b\b\b\b\b\b\b\b\b\b\b\b\b\b\b\b\b\b\b\b\b\b\b\b\b\b\b\b\b\b\b\b\b\b\b\b\b\b\b\b\b\b\b\b\b\b\b\b\b\b\b\b\b\b\b\b\b\b\b\b\b\b\b\b\b\b\b\b\b\b\b\b\b\b\b\b\r157/157 [==============================] - 1s 9ms/step - loss: 1.6753e-05 - accuracy: 1.0000 - lr: 3.0000e-05\n",
            "Epoch 98/200\n",
            "151/157 [===========================>..] - ETA: 0s - loss: 2.1323e-05 - accuracy: 1.0000"
          ]
        },
        {
          "output_type": "stream",
          "name": "stderr",
          "text": [
            "WARNING:tensorflow:Early stopping conditioned on metric `val_loss` which is not available. Available metrics are: loss,accuracy\n",
            "WARNING:tensorflow:Learning rate reduction is conditioned on metric `val_loss` which is not available. Available metrics are: loss,accuracy,lr\n"
          ]
        },
        {
          "output_type": "stream",
          "name": "stdout",
          "text": [
            "\b\b\b\b\b\b\b\b\b\b\b\b\b\b\b\b\b\b\b\b\b\b\b\b\b\b\b\b\b\b\b\b\b\b\b\b\b\b\b\b\b\b\b\b\b\b\b\b\b\b\b\b\b\b\b\b\b\b\b\b\b\b\b\b\b\b\b\b\b\b\b\b\b\b\b\b\b\b\b\b\b\b\b\b\b\b\b\b\r157/157 [==============================] - 1s 8ms/step - loss: 2.1554e-05 - accuracy: 1.0000 - lr: 3.0000e-05\n",
            "Epoch 99/200\n",
            "152/157 [============================>.] - ETA: 0s - loss: 2.2301e-05 - accuracy: 1.0000"
          ]
        },
        {
          "output_type": "stream",
          "name": "stderr",
          "text": [
            "WARNING:tensorflow:Early stopping conditioned on metric `val_loss` which is not available. Available metrics are: loss,accuracy\n",
            "WARNING:tensorflow:Learning rate reduction is conditioned on metric `val_loss` which is not available. Available metrics are: loss,accuracy,lr\n"
          ]
        },
        {
          "output_type": "stream",
          "name": "stdout",
          "text": [
            "\b\b\b\b\b\b\b\b\b\b\b\b\b\b\b\b\b\b\b\b\b\b\b\b\b\b\b\b\b\b\b\b\b\b\b\b\b\b\b\b\b\b\b\b\b\b\b\b\b\b\b\b\b\b\b\b\b\b\b\b\b\b\b\b\b\b\b\b\b\b\b\b\b\b\b\b\b\b\b\b\b\b\b\b\b\b\b\b\r157/157 [==============================] - 1s 7ms/step - loss: 2.2379e-05 - accuracy: 1.0000 - lr: 3.0000e-05\n",
            "Epoch 100/200\n",
            "154/157 [============================>.] - ETA: 0s - loss: 1.4604e-05 - accuracy: 1.0000"
          ]
        },
        {
          "output_type": "stream",
          "name": "stderr",
          "text": [
            "WARNING:tensorflow:Early stopping conditioned on metric `val_loss` which is not available. Available metrics are: loss,accuracy\n",
            "WARNING:tensorflow:Learning rate reduction is conditioned on metric `val_loss` which is not available. Available metrics are: loss,accuracy,lr\n"
          ]
        },
        {
          "output_type": "stream",
          "name": "stdout",
          "text": [
            "\b\b\b\b\b\b\b\b\b\b\b\b\b\b\b\b\b\b\b\b\b\b\b\b\b\b\b\b\b\b\b\b\b\b\b\b\b\b\b\b\b\b\b\b\b\b\b\b\b\b\b\b\b\b\b\b\b\b\b\b\b\b\b\b\b\b\b\b\b\b\b\b\b\b\b\b\b\b\b\b\b\b\b\b\b\b\b\b\r157/157 [==============================] - 1s 7ms/step - loss: 1.4595e-05 - accuracy: 1.0000 - lr: 3.0000e-05\n",
            "Epoch 101/200\n",
            "155/157 [============================>.] - ETA: 0s - loss: 1.2283e-05 - accuracy: 1.0000"
          ]
        },
        {
          "output_type": "stream",
          "name": "stderr",
          "text": [
            "WARNING:tensorflow:Early stopping conditioned on metric `val_loss` which is not available. Available metrics are: loss,accuracy\n",
            "WARNING:tensorflow:Learning rate reduction is conditioned on metric `val_loss` which is not available. Available metrics are: loss,accuracy,lr\n"
          ]
        },
        {
          "output_type": "stream",
          "name": "stdout",
          "text": [
            "\b\b\b\b\b\b\b\b\b\b\b\b\b\b\b\b\b\b\b\b\b\b\b\b\b\b\b\b\b\b\b\b\b\b\b\b\b\b\b\b\b\b\b\b\b\b\b\b\b\b\b\b\b\b\b\b\b\b\b\b\b\b\b\b\b\b\b\b\b\b\b\b\b\b\b\b\b\b\b\b\b\b\b\b\b\b\b\b\r157/157 [==============================] - 1s 7ms/step - loss: 1.2229e-05 - accuracy: 1.0000 - lr: 3.0000e-05\n",
            "Epoch 102/200\n",
            "155/157 [============================>.] - ETA: 0s - loss: 1.8204e-05 - accuracy: 1.0000"
          ]
        },
        {
          "output_type": "stream",
          "name": "stderr",
          "text": [
            "WARNING:tensorflow:Early stopping conditioned on metric `val_loss` which is not available. Available metrics are: loss,accuracy\n",
            "WARNING:tensorflow:Learning rate reduction is conditioned on metric `val_loss` which is not available. Available metrics are: loss,accuracy,lr\n"
          ]
        },
        {
          "output_type": "stream",
          "name": "stdout",
          "text": [
            "\b\b\b\b\b\b\b\b\b\b\b\b\b\b\b\b\b\b\b\b\b\b\b\b\b\b\b\b\b\b\b\b\b\b\b\b\b\b\b\b\b\b\b\b\b\b\b\b\b\b\b\b\b\b\b\b\b\b\b\b\b\b\b\b\b\b\b\b\b\b\b\b\b\b\b\b\b\b\b\b\b\b\b\b\b\b\b\b\r157/157 [==============================] - 1s 7ms/step - loss: 1.8065e-05 - accuracy: 1.0000 - lr: 3.0000e-05\n",
            "Epoch 103/200\n",
            "153/157 [============================>.] - ETA: 0s - loss: 1.2888e-05 - accuracy: 1.0000"
          ]
        },
        {
          "output_type": "stream",
          "name": "stderr",
          "text": [
            "WARNING:tensorflow:Early stopping conditioned on metric `val_loss` which is not available. Available metrics are: loss,accuracy\n",
            "WARNING:tensorflow:Learning rate reduction is conditioned on metric `val_loss` which is not available. Available metrics are: loss,accuracy,lr\n"
          ]
        },
        {
          "output_type": "stream",
          "name": "stdout",
          "text": [
            "\b\b\b\b\b\b\b\b\b\b\b\b\b\b\b\b\b\b\b\b\b\b\b\b\b\b\b\b\b\b\b\b\b\b\b\b\b\b\b\b\b\b\b\b\b\b\b\b\b\b\b\b\b\b\b\b\b\b\b\b\b\b\b\b\b\b\b\b\b\b\b\b\b\b\b\b\b\b\b\b\b\b\b\b\b\b\b\b\r157/157 [==============================] - 1s 7ms/step - loss: 1.2641e-05 - accuracy: 1.0000 - lr: 3.0000e-05\n",
            "Epoch 104/200\n",
            "156/157 [============================>.] - ETA: 0s - loss: 1.1351e-05 - accuracy: 1.0000"
          ]
        },
        {
          "output_type": "stream",
          "name": "stderr",
          "text": [
            "WARNING:tensorflow:Early stopping conditioned on metric `val_loss` which is not available. Available metrics are: loss,accuracy\n",
            "WARNING:tensorflow:Learning rate reduction is conditioned on metric `val_loss` which is not available. Available metrics are: loss,accuracy,lr\n"
          ]
        },
        {
          "output_type": "stream",
          "name": "stdout",
          "text": [
            "\b\b\b\b\b\b\b\b\b\b\b\b\b\b\b\b\b\b\b\b\b\b\b\b\b\b\b\b\b\b\b\b\b\b\b\b\b\b\b\b\b\b\b\b\b\b\b\b\b\b\b\b\b\b\b\b\b\b\b\b\b\b\b\b\b\b\b\b\b\b\b\b\b\b\b\b\b\b\b\b\b\b\b\b\b\b\b\b\r157/157 [==============================] - 1s 7ms/step - loss: 1.1316e-05 - accuracy: 1.0000 - lr: 3.0000e-05\n",
            "Epoch 105/200\n",
            "153/157 [============================>.] - ETA: 0s - loss: 9.5538e-06 - accuracy: 1.0000"
          ]
        },
        {
          "output_type": "stream",
          "name": "stderr",
          "text": [
            "WARNING:tensorflow:Early stopping conditioned on metric `val_loss` which is not available. Available metrics are: loss,accuracy\n",
            "WARNING:tensorflow:Learning rate reduction is conditioned on metric `val_loss` which is not available. Available metrics are: loss,accuracy,lr\n"
          ]
        },
        {
          "output_type": "stream",
          "name": "stdout",
          "text": [
            "\b\b\b\b\b\b\b\b\b\b\b\b\b\b\b\b\b\b\b\b\b\b\b\b\b\b\b\b\b\b\b\b\b\b\b\b\b\b\b\b\b\b\b\b\b\b\b\b\b\b\b\b\b\b\b\b\b\b\b\b\b\b\b\b\b\b\b\b\b\b\b\b\b\b\b\b\b\b\b\b\b\b\b\b\b\b\b\b\r157/157 [==============================] - 1s 7ms/step - loss: 9.4601e-06 - accuracy: 1.0000 - lr: 3.0000e-05\n",
            "Epoch 106/200\n",
            "153/157 [============================>.] - ETA: 0s - loss: 8.2602e-06 - accuracy: 1.0000"
          ]
        },
        {
          "output_type": "stream",
          "name": "stderr",
          "text": [
            "WARNING:tensorflow:Early stopping conditioned on metric `val_loss` which is not available. Available metrics are: loss,accuracy\n",
            "WARNING:tensorflow:Learning rate reduction is conditioned on metric `val_loss` which is not available. Available metrics are: loss,accuracy,lr\n"
          ]
        },
        {
          "output_type": "stream",
          "name": "stdout",
          "text": [
            "\b\b\b\b\b\b\b\b\b\b\b\b\b\b\b\b\b\b\b\b\b\b\b\b\b\b\b\b\b\b\b\b\b\b\b\b\b\b\b\b\b\b\b\b\b\b\b\b\b\b\b\b\b\b\b\b\b\b\b\b\b\b\b\b\b\b\b\b\b\b\b\b\b\b\b\b\b\b\b\b\b\b\b\b\b\b\b\b\r157/157 [==============================] - 1s 7ms/step - loss: 8.1278e-06 - accuracy: 1.0000 - lr: 3.0000e-05\n",
            "Epoch 107/200\n",
            "155/157 [============================>.] - ETA: 0s - loss: 7.9984e-06 - accuracy: 1.0000"
          ]
        },
        {
          "output_type": "stream",
          "name": "stderr",
          "text": [
            "WARNING:tensorflow:Early stopping conditioned on metric `val_loss` which is not available. Available metrics are: loss,accuracy\n",
            "WARNING:tensorflow:Learning rate reduction is conditioned on metric `val_loss` which is not available. Available metrics are: loss,accuracy,lr\n"
          ]
        },
        {
          "output_type": "stream",
          "name": "stdout",
          "text": [
            "\b\b\b\b\b\b\b\b\b\b\b\b\b\b\b\b\b\b\b\b\b\b\b\b\b\b\b\b\b\b\b\b\b\b\b\b\b\b\b\b\b\b\b\b\b\b\b\b\b\b\b\b\b\b\b\b\b\b\b\b\b\b\b\b\b\b\b\b\b\b\b\b\b\b\b\b\b\b\b\b\b\b\b\b\b\b\b\b\r157/157 [==============================] - 1s 7ms/step - loss: 7.9802e-06 - accuracy: 1.0000 - lr: 3.0000e-05\n",
            "Epoch 108/200\n",
            "150/157 [===========================>..] - ETA: 0s - loss: 7.6395e-06 - accuracy: 1.0000"
          ]
        },
        {
          "output_type": "stream",
          "name": "stderr",
          "text": [
            "WARNING:tensorflow:Early stopping conditioned on metric `val_loss` which is not available. Available metrics are: loss,accuracy\n",
            "WARNING:tensorflow:Learning rate reduction is conditioned on metric `val_loss` which is not available. Available metrics are: loss,accuracy,lr\n"
          ]
        },
        {
          "output_type": "stream",
          "name": "stdout",
          "text": [
            "\b\b\b\b\b\b\b\b\b\b\b\b\b\b\b\b\b\b\b\b\b\b\b\b\b\b\b\b\b\b\b\b\b\b\b\b\b\b\b\b\b\b\b\b\b\b\b\b\b\b\b\b\b\b\b\b\b\b\b\b\b\b\b\b\b\b\b\b\b\b\b\b\b\b\b\b\b\b\b\b\b\b\b\b\b\b\b\b\r157/157 [==============================] - 1s 7ms/step - loss: 7.6880e-06 - accuracy: 1.0000 - lr: 3.0000e-05\n",
            "Epoch 109/200\n",
            "150/157 [===========================>..] - ETA: 0s - loss: 1.0425e-05 - accuracy: 1.0000"
          ]
        },
        {
          "output_type": "stream",
          "name": "stderr",
          "text": [
            "WARNING:tensorflow:Early stopping conditioned on metric `val_loss` which is not available. Available metrics are: loss,accuracy\n",
            "WARNING:tensorflow:Learning rate reduction is conditioned on metric `val_loss` which is not available. Available metrics are: loss,accuracy,lr\n"
          ]
        },
        {
          "output_type": "stream",
          "name": "stdout",
          "text": [
            "\b\b\b\b\b\b\b\b\b\b\b\b\b\b\b\b\b\b\b\b\b\b\b\b\b\b\b\b\b\b\b\b\b\b\b\b\b\b\b\b\b\b\b\b\b\b\b\b\b\b\b\b\b\b\b\b\b\b\b\b\b\b\b\b\b\b\b\b\b\b\b\b\b\b\b\b\b\b\b\b\b\b\b\b\b\b\b\b\r157/157 [==============================] - 1s 7ms/step - loss: 1.0130e-05 - accuracy: 1.0000 - lr: 3.0000e-05\n",
            "Epoch 110/200\n",
            "156/157 [============================>.] - ETA: 0s - loss: 9.3199e-06 - accuracy: 1.0000"
          ]
        },
        {
          "output_type": "stream",
          "name": "stderr",
          "text": [
            "WARNING:tensorflow:Early stopping conditioned on metric `val_loss` which is not available. Available metrics are: loss,accuracy\n",
            "WARNING:tensorflow:Learning rate reduction is conditioned on metric `val_loss` which is not available. Available metrics are: loss,accuracy,lr\n"
          ]
        },
        {
          "output_type": "stream",
          "name": "stdout",
          "text": [
            "\b\b\b\b\b\b\b\b\b\b\b\b\b\b\b\b\b\b\b\b\b\b\b\b\b\b\b\b\b\b\b\b\b\b\b\b\b\b\b\b\b\b\b\b\b\b\b\b\b\b\b\b\b\b\b\b\b\b\b\b\b\b\b\b\b\b\b\b\b\b\b\b\b\b\b\b\b\b\b\b\b\b\b\b\b\b\b\b\r157/157 [==============================] - 1s 7ms/step - loss: 9.3206e-06 - accuracy: 1.0000 - lr: 3.0000e-05\n",
            "Epoch 111/200\n",
            "155/157 [============================>.] - ETA: 0s - loss: 8.3228e-06 - accuracy: 1.0000"
          ]
        },
        {
          "output_type": "stream",
          "name": "stderr",
          "text": [
            "WARNING:tensorflow:Early stopping conditioned on metric `val_loss` which is not available. Available metrics are: loss,accuracy\n",
            "WARNING:tensorflow:Learning rate reduction is conditioned on metric `val_loss` which is not available. Available metrics are: loss,accuracy,lr\n"
          ]
        },
        {
          "output_type": "stream",
          "name": "stdout",
          "text": [
            "\b\b\b\b\b\b\b\b\b\b\b\b\b\b\b\b\b\b\b\b\b\b\b\b\b\b\b\b\b\b\b\b\b\b\b\b\b\b\b\b\b\b\b\b\b\b\b\b\b\b\b\b\b\b\b\b\b\b\b\b\b\b\b\b\b\b\b\b\b\b\b\b\b\b\b\b\b\b\b\b\b\b\b\b\b\b\b\b\r157/157 [==============================] - 1s 7ms/step - loss: 8.2706e-06 - accuracy: 1.0000 - lr: 3.0000e-05\n",
            "Epoch 112/200\n",
            "153/157 [============================>.] - ETA: 0s - loss: 7.4565e-06 - accuracy: 1.0000"
          ]
        },
        {
          "output_type": "stream",
          "name": "stderr",
          "text": [
            "WARNING:tensorflow:Early stopping conditioned on metric `val_loss` which is not available. Available metrics are: loss,accuracy\n",
            "WARNING:tensorflow:Learning rate reduction is conditioned on metric `val_loss` which is not available. Available metrics are: loss,accuracy,lr\n"
          ]
        },
        {
          "output_type": "stream",
          "name": "stdout",
          "text": [
            "\b\b\b\b\b\b\b\b\b\b\b\b\b\b\b\b\b\b\b\b\b\b\b\b\b\b\b\b\b\b\b\b\b\b\b\b\b\b\b\b\b\b\b\b\b\b\b\b\b\b\b\b\b\b\b\b\b\b\b\b\b\b\b\b\b\b\b\b\b\b\b\b\b\b\b\b\b\b\b\b\b\b\b\b\b\b\b\b\r157/157 [==============================] - 1s 7ms/step - loss: 7.4503e-06 - accuracy: 1.0000 - lr: 3.0000e-05\n",
            "Epoch 113/200\n",
            "157/157 [==============================] - ETA: 0s - loss: 5.1656e-06 - accuracy: 1.0000"
          ]
        },
        {
          "output_type": "stream",
          "name": "stderr",
          "text": [
            "WARNING:tensorflow:Early stopping conditioned on metric `val_loss` which is not available. Available metrics are: loss,accuracy\n",
            "WARNING:tensorflow:Learning rate reduction is conditioned on metric `val_loss` which is not available. Available metrics are: loss,accuracy,lr\n"
          ]
        },
        {
          "output_type": "stream",
          "name": "stdout",
          "text": [
            "\b\b\b\b\b\b\b\b\b\b\b\b\b\b\b\b\b\b\b\b\b\b\b\b\b\b\b\b\b\b\b\b\b\b\b\b\b\b\b\b\b\b\b\b\b\b\b\b\b\b\b\b\b\b\b\b\b\b\b\b\b\b\b\b\b\b\b\b\b\b\b\b\b\b\b\b\b\b\b\b\b\b\b\b\b\b\b\b\r157/157 [==============================] - 1s 7ms/step - loss: 5.1656e-06 - accuracy: 1.0000 - lr: 3.0000e-05\n",
            "Epoch 114/200\n",
            "151/157 [===========================>..] - ETA: 0s - loss: 7.2746e-06 - accuracy: 1.0000"
          ]
        },
        {
          "output_type": "stream",
          "name": "stderr",
          "text": [
            "WARNING:tensorflow:Early stopping conditioned on metric `val_loss` which is not available. Available metrics are: loss,accuracy\n",
            "WARNING:tensorflow:Learning rate reduction is conditioned on metric `val_loss` which is not available. Available metrics are: loss,accuracy,lr\n"
          ]
        },
        {
          "output_type": "stream",
          "name": "stdout",
          "text": [
            "\b\b\b\b\b\b\b\b\b\b\b\b\b\b\b\b\b\b\b\b\b\b\b\b\b\b\b\b\b\b\b\b\b\b\b\b\b\b\b\b\b\b\b\b\b\b\b\b\b\b\b\b\b\b\b\b\b\b\b\b\b\b\b\b\b\b\b\b\b\b\b\b\b\b\b\b\b\b\b\b\b\b\b\b\b\b\b\b\r157/157 [==============================] - 1s 8ms/step - loss: 7.1601e-06 - accuracy: 1.0000 - lr: 3.0000e-05\n",
            "Epoch 115/200\n",
            "151/157 [===========================>..] - ETA: 0s - loss: 2.3584e-05 - accuracy: 1.0000"
          ]
        },
        {
          "output_type": "stream",
          "name": "stderr",
          "text": [
            "WARNING:tensorflow:Early stopping conditioned on metric `val_loss` which is not available. Available metrics are: loss,accuracy\n",
            "WARNING:tensorflow:Learning rate reduction is conditioned on metric `val_loss` which is not available. Available metrics are: loss,accuracy,lr\n"
          ]
        },
        {
          "output_type": "stream",
          "name": "stdout",
          "text": [
            "\b\b\b\b\b\b\b\b\b\b\b\b\b\b\b\b\b\b\b\b\b\b\b\b\b\b\b\b\b\b\b\b\b\b\b\b\b\b\b\b\b\b\b\b\b\b\b\b\b\b\b\b\b\b\b\b\b\b\b\b\b\b\b\b\b\b\b\b\b\b\b\b\b\b\b\b\b\b\b\b\b\b\b\b\b\b\b\b\r157/157 [==============================] - 1s 7ms/step - loss: 2.3297e-05 - accuracy: 1.0000 - lr: 3.0000e-05\n",
            "Epoch 116/200\n",
            "153/157 [============================>.] - ETA: 0s - loss: 6.5863e-06 - accuracy: 1.0000"
          ]
        },
        {
          "output_type": "stream",
          "name": "stderr",
          "text": [
            "WARNING:tensorflow:Early stopping conditioned on metric `val_loss` which is not available. Available metrics are: loss,accuracy\n",
            "WARNING:tensorflow:Learning rate reduction is conditioned on metric `val_loss` which is not available. Available metrics are: loss,accuracy,lr\n"
          ]
        },
        {
          "output_type": "stream",
          "name": "stdout",
          "text": [
            "\b\b\b\b\b\b\b\b\b\b\b\b\b\b\b\b\b\b\b\b\b\b\b\b\b\b\b\b\b\b\b\b\b\b\b\b\b\b\b\b\b\b\b\b\b\b\b\b\b\b\b\b\b\b\b\b\b\b\b\b\b\b\b\b\b\b\b\b\b\b\b\b\b\b\b\b\b\b\b\b\b\b\b\b\b\b\b\b\r157/157 [==============================] - 1s 7ms/step - loss: 6.6200e-06 - accuracy: 1.0000 - lr: 3.0000e-05\n",
            "Epoch 117/200\n",
            "154/157 [============================>.] - ETA: 0s - loss: 4.9095e-06 - accuracy: 1.0000"
          ]
        },
        {
          "output_type": "stream",
          "name": "stderr",
          "text": [
            "WARNING:tensorflow:Early stopping conditioned on metric `val_loss` which is not available. Available metrics are: loss,accuracy\n",
            "WARNING:tensorflow:Learning rate reduction is conditioned on metric `val_loss` which is not available. Available metrics are: loss,accuracy,lr\n"
          ]
        },
        {
          "output_type": "stream",
          "name": "stdout",
          "text": [
            "\b\b\b\b\b\b\b\b\b\b\b\b\b\b\b\b\b\b\b\b\b\b\b\b\b\b\b\b\b\b\b\b\b\b\b\b\b\b\b\b\b\b\b\b\b\b\b\b\b\b\b\b\b\b\b\b\b\b\b\b\b\b\b\b\b\b\b\b\b\b\b\b\b\b\b\b\b\b\b\b\b\b\b\b\b\b\b\b\r157/157 [==============================] - 1s 7ms/step - loss: 4.8935e-06 - accuracy: 1.0000 - lr: 3.0000e-05\n",
            "Epoch 118/200\n",
            "153/157 [============================>.] - ETA: 0s - loss: 6.1798e-06 - accuracy: 1.0000"
          ]
        },
        {
          "output_type": "stream",
          "name": "stderr",
          "text": [
            "WARNING:tensorflow:Early stopping conditioned on metric `val_loss` which is not available. Available metrics are: loss,accuracy\n",
            "WARNING:tensorflow:Learning rate reduction is conditioned on metric `val_loss` which is not available. Available metrics are: loss,accuracy,lr\n"
          ]
        },
        {
          "output_type": "stream",
          "name": "stdout",
          "text": [
            "\b\b\b\b\b\b\b\b\b\b\b\b\b\b\b\b\b\b\b\b\b\b\b\b\b\b\b\b\b\b\b\b\b\b\b\b\b\b\b\b\b\b\b\b\b\b\b\b\b\b\b\b\b\b\b\b\b\b\b\b\b\b\b\b\b\b\b\b\b\b\b\b\b\b\b\b\b\b\b\b\b\b\b\b\b\b\b\b\r157/157 [==============================] - 1s 7ms/step - loss: 6.1616e-06 - accuracy: 1.0000 - lr: 3.0000e-05\n",
            "Epoch 119/200\n",
            "151/157 [===========================>..] - ETA: 0s - loss: 3.9602e-06 - accuracy: 1.0000"
          ]
        },
        {
          "output_type": "stream",
          "name": "stderr",
          "text": [
            "WARNING:tensorflow:Early stopping conditioned on metric `val_loss` which is not available. Available metrics are: loss,accuracy\n",
            "WARNING:tensorflow:Learning rate reduction is conditioned on metric `val_loss` which is not available. Available metrics are: loss,accuracy,lr\n"
          ]
        },
        {
          "output_type": "stream",
          "name": "stdout",
          "text": [
            "\b\b\b\b\b\b\b\b\b\b\b\b\b\b\b\b\b\b\b\b\b\b\b\b\b\b\b\b\b\b\b\b\b\b\b\b\b\b\b\b\b\b\b\b\b\b\b\b\b\b\b\b\b\b\b\b\b\b\b\b\b\b\b\b\b\b\b\b\b\b\b\b\b\b\b\b\b\b\b\b\b\b\b\b\b\b\b\b\r157/157 [==============================] - 1s 7ms/step - loss: 3.8804e-06 - accuracy: 1.0000 - lr: 3.0000e-05\n",
            "Epoch 120/200\n",
            "151/157 [===========================>..] - ETA: 0s - loss: 3.7083e-06 - accuracy: 1.0000"
          ]
        },
        {
          "output_type": "stream",
          "name": "stderr",
          "text": [
            "WARNING:tensorflow:Early stopping conditioned on metric `val_loss` which is not available. Available metrics are: loss,accuracy\n",
            "WARNING:tensorflow:Learning rate reduction is conditioned on metric `val_loss` which is not available. Available metrics are: loss,accuracy,lr\n"
          ]
        },
        {
          "output_type": "stream",
          "name": "stdout",
          "text": [
            "\b\b\b\b\b\b\b\b\b\b\b\b\b\b\b\b\b\b\b\b\b\b\b\b\b\b\b\b\b\b\b\b\b\b\b\b\b\b\b\b\b\b\b\b\b\b\b\b\b\b\b\b\b\b\b\b\b\b\b\b\b\b\b\b\b\b\b\b\b\b\b\b\b\b\b\b\b\b\b\b\b\b\b\b\b\b\b\b\r157/157 [==============================] - 1s 7ms/step - loss: 3.6168e-06 - accuracy: 1.0000 - lr: 3.0000e-05\n",
            "Epoch 121/200\n",
            "150/157 [===========================>..] - ETA: 0s - loss: 3.5527e-06 - accuracy: 1.0000"
          ]
        },
        {
          "output_type": "stream",
          "name": "stderr",
          "text": [
            "WARNING:tensorflow:Early stopping conditioned on metric `val_loss` which is not available. Available metrics are: loss,accuracy\n",
            "WARNING:tensorflow:Learning rate reduction is conditioned on metric `val_loss` which is not available. Available metrics are: loss,accuracy,lr\n"
          ]
        },
        {
          "output_type": "stream",
          "name": "stdout",
          "text": [
            "\b\b\b\b\b\b\b\b\b\b\b\b\b\b\b\b\b\b\b\b\b\b\b\b\b\b\b\b\b\b\b\b\b\b\b\b\b\b\b\b\b\b\b\b\b\b\b\b\b\b\b\b\b\b\b\b\b\b\b\b\b\b\b\b\b\b\b\b\b\b\b\b\b\b\b\b\b\b\b\b\b\b\b\b\b\b\b\b\r157/157 [==============================] - 1s 7ms/step - loss: 3.4780e-06 - accuracy: 1.0000 - lr: 3.0000e-05\n",
            "Epoch 122/200\n",
            "151/157 [===========================>..] - ETA: 0s - loss: 2.1621e-06 - accuracy: 1.0000"
          ]
        },
        {
          "output_type": "stream",
          "name": "stderr",
          "text": [
            "WARNING:tensorflow:Early stopping conditioned on metric `val_loss` which is not available. Available metrics are: loss,accuracy\n",
            "WARNING:tensorflow:Learning rate reduction is conditioned on metric `val_loss` which is not available. Available metrics are: loss,accuracy,lr\n"
          ]
        },
        {
          "output_type": "stream",
          "name": "stdout",
          "text": [
            "\b\b\b\b\b\b\b\b\b\b\b\b\b\b\b\b\b\b\b\b\b\b\b\b\b\b\b\b\b\b\b\b\b\b\b\b\b\b\b\b\b\b\b\b\b\b\b\b\b\b\b\b\b\b\b\b\b\b\b\b\b\b\b\b\b\b\b\b\b\b\b\b\b\b\b\b\b\b\b\b\b\b\b\b\b\b\b\b\r157/157 [==============================] - 1s 7ms/step - loss: 2.1356e-06 - accuracy: 1.0000 - lr: 3.0000e-05\n",
            "Epoch 123/200\n",
            "157/157 [==============================] - ETA: 0s - loss: 3.4307e-06 - accuracy: 1.0000"
          ]
        },
        {
          "output_type": "stream",
          "name": "stderr",
          "text": [
            "WARNING:tensorflow:Early stopping conditioned on metric `val_loss` which is not available. Available metrics are: loss,accuracy\n",
            "WARNING:tensorflow:Learning rate reduction is conditioned on metric `val_loss` which is not available. Available metrics are: loss,accuracy,lr\n"
          ]
        },
        {
          "output_type": "stream",
          "name": "stdout",
          "text": [
            "\b\b\b\b\b\b\b\b\b\b\b\b\b\b\b\b\b\b\b\b\b\b\b\b\b\b\b\b\b\b\b\b\b\b\b\b\b\b\b\b\b\b\b\b\b\b\b\b\b\b\b\b\b\b\b\b\b\b\b\b\b\b\b\b\b\b\b\b\b\b\b\b\b\b\b\b\b\b\b\b\b\b\b\b\b\b\b\b\r157/157 [==============================] - 1s 7ms/step - loss: 3.4307e-06 - accuracy: 1.0000 - lr: 3.0000e-05\n",
            "Epoch 124/200\n",
            "157/157 [==============================] - ETA: 0s - loss: 4.3571e-06 - accuracy: 1.0000"
          ]
        },
        {
          "output_type": "stream",
          "name": "stderr",
          "text": [
            "WARNING:tensorflow:Early stopping conditioned on metric `val_loss` which is not available. Available metrics are: loss,accuracy\n",
            "WARNING:tensorflow:Learning rate reduction is conditioned on metric `val_loss` which is not available. Available metrics are: loss,accuracy,lr\n"
          ]
        },
        {
          "output_type": "stream",
          "name": "stdout",
          "text": [
            "\b\b\b\b\b\b\b\b\b\b\b\b\b\b\b\b\b\b\b\b\b\b\b\b\b\b\b\b\b\b\b\b\b\b\b\b\b\b\b\b\b\b\b\b\b\b\b\b\b\b\b\b\b\b\b\b\b\b\b\b\b\b\b\b\b\b\b\b\b\b\b\b\b\b\b\b\b\b\b\b\b\b\b\b\b\b\b\b\r157/157 [==============================] - 1s 7ms/step - loss: 4.3571e-06 - accuracy: 1.0000 - lr: 3.0000e-05\n",
            "Epoch 125/200\n",
            "155/157 [============================>.] - ETA: 0s - loss: 2.1528e-06 - accuracy: 1.0000"
          ]
        },
        {
          "output_type": "stream",
          "name": "stderr",
          "text": [
            "WARNING:tensorflow:Early stopping conditioned on metric `val_loss` which is not available. Available metrics are: loss,accuracy\n",
            "WARNING:tensorflow:Learning rate reduction is conditioned on metric `val_loss` which is not available. Available metrics are: loss,accuracy,lr\n"
          ]
        },
        {
          "output_type": "stream",
          "name": "stdout",
          "text": [
            "\b\b\b\b\b\b\b\b\b\b\b\b\b\b\b\b\b\b\b\b\b\b\b\b\b\b\b\b\b\b\b\b\b\b\b\b\b\b\b\b\b\b\b\b\b\b\b\b\b\b\b\b\b\b\b\b\b\b\b\b\b\b\b\b\b\b\b\b\b\b\b\b\b\b\b\b\b\b\b\b\b\b\b\b\b\b\b\b\r157/157 [==============================] - 1s 7ms/step - loss: 2.1843e-06 - accuracy: 1.0000 - lr: 3.0000e-05\n",
            "Epoch 126/200\n",
            "155/157 [============================>.] - ETA: 0s - loss: 1.8803e-06 - accuracy: 1.0000"
          ]
        },
        {
          "output_type": "stream",
          "name": "stderr",
          "text": [
            "WARNING:tensorflow:Early stopping conditioned on metric `val_loss` which is not available. Available metrics are: loss,accuracy\n",
            "WARNING:tensorflow:Learning rate reduction is conditioned on metric `val_loss` which is not available. Available metrics are: loss,accuracy,lr\n"
          ]
        },
        {
          "output_type": "stream",
          "name": "stdout",
          "text": [
            "\b\b\b\b\b\b\b\b\b\b\b\b\b\b\b\b\b\b\b\b\b\b\b\b\b\b\b\b\b\b\b\b\b\b\b\b\b\b\b\b\b\b\b\b\b\b\b\b\b\b\b\b\b\b\b\b\b\b\b\b\b\b\b\b\b\b\b\b\b\b\b\b\b\b\b\b\b\b\b\b\b\b\b\b\b\b\b\b\r157/157 [==============================] - 1s 7ms/step - loss: 1.8791e-06 - accuracy: 1.0000 - lr: 3.0000e-05\n",
            "Epoch 127/200\n",
            "152/157 [============================>.] - ETA: 0s - loss: 2.2729e-06 - accuracy: 1.0000"
          ]
        },
        {
          "output_type": "stream",
          "name": "stderr",
          "text": [
            "WARNING:tensorflow:Early stopping conditioned on metric `val_loss` which is not available. Available metrics are: loss,accuracy\n",
            "WARNING:tensorflow:Learning rate reduction is conditioned on metric `val_loss` which is not available. Available metrics are: loss,accuracy,lr\n"
          ]
        },
        {
          "output_type": "stream",
          "name": "stdout",
          "text": [
            "\b\b\b\b\b\b\b\b\b\b\b\b\b\b\b\b\b\b\b\b\b\b\b\b\b\b\b\b\b\b\b\b\b\b\b\b\b\b\b\b\b\b\b\b\b\b\b\b\b\b\b\b\b\b\b\b\b\b\b\b\b\b\b\b\b\b\b\b\b\b\b\b\b\b\b\b\b\b\b\b\b\b\b\b\b\b\b\b\r157/157 [==============================] - 1s 7ms/step - loss: 2.2301e-06 - accuracy: 1.0000 - lr: 3.0000e-05\n",
            "Epoch 128/200\n",
            "154/157 [============================>.] - ETA: 0s - loss: 2.6749e-06 - accuracy: 1.0000"
          ]
        },
        {
          "output_type": "stream",
          "name": "stderr",
          "text": [
            "WARNING:tensorflow:Early stopping conditioned on metric `val_loss` which is not available. Available metrics are: loss,accuracy\n",
            "WARNING:tensorflow:Learning rate reduction is conditioned on metric `val_loss` which is not available. Available metrics are: loss,accuracy,lr\n"
          ]
        },
        {
          "output_type": "stream",
          "name": "stdout",
          "text": [
            "\b\b\b\b\b\b\b\b\b\b\b\b\b\b\b\b\b\b\b\b\b\b\b\b\b\b\b\b\b\b\b\b\b\b\b\b\b\b\b\b\b\b\b\b\b\b\b\b\b\b\b\b\b\b\b\b\b\b\b\b\b\b\b\b\b\b\b\b\b\b\b\b\b\b\b\b\b\b\b\b\b\b\b\b\b\b\b\b\r157/157 [==============================] - 1s 7ms/step - loss: 2.6567e-06 - accuracy: 1.0000 - lr: 3.0000e-05\n",
            "Epoch 129/200\n",
            "152/157 [============================>.] - ETA: 0s - loss: 1.3907e-06 - accuracy: 1.0000"
          ]
        },
        {
          "output_type": "stream",
          "name": "stderr",
          "text": [
            "WARNING:tensorflow:Early stopping conditioned on metric `val_loss` which is not available. Available metrics are: loss,accuracy\n",
            "WARNING:tensorflow:Learning rate reduction is conditioned on metric `val_loss` which is not available. Available metrics are: loss,accuracy,lr\n"
          ]
        },
        {
          "output_type": "stream",
          "name": "stdout",
          "text": [
            "\b\b\b\b\b\b\b\b\b\b\b\b\b\b\b\b\b\b\b\b\b\b\b\b\b\b\b\b\b\b\b\b\b\b\b\b\b\b\b\b\b\b\b\b\b\b\b\b\b\b\b\b\b\b\b\b\b\b\b\b\b\b\b\b\b\b\b\b\b\b\b\b\b\b\b\b\b\b\b\b\b\b\b\b\b\b\b\b\r157/157 [==============================] - 1s 7ms/step - loss: 1.3746e-06 - accuracy: 1.0000 - lr: 3.0000e-05\n",
            "Epoch 130/200\n",
            "153/157 [============================>.] - ETA: 0s - loss: 1.7346e-06 - accuracy: 1.0000"
          ]
        },
        {
          "output_type": "stream",
          "name": "stderr",
          "text": [
            "WARNING:tensorflow:Early stopping conditioned on metric `val_loss` which is not available. Available metrics are: loss,accuracy\n",
            "WARNING:tensorflow:Learning rate reduction is conditioned on metric `val_loss` which is not available. Available metrics are: loss,accuracy,lr\n"
          ]
        },
        {
          "output_type": "stream",
          "name": "stdout",
          "text": [
            "\b\b\b\b\b\b\b\b\b\b\b\b\b\b\b\b\b\b\b\b\b\b\b\b\b\b\b\b\b\b\b\b\b\b\b\b\b\b\b\b\b\b\b\b\b\b\b\b\b\b\b\b\b\b\b\b\b\b\b\b\b\b\b\b\b\b\b\b\b\b\b\b\b\b\b\b\b\b\b\b\b\b\b\b\b\b\b\b\r157/157 [==============================] - 1s 7ms/step - loss: 1.8024e-06 - accuracy: 1.0000 - lr: 3.0000e-05\n",
            "Epoch 131/200\n",
            "154/157 [============================>.] - ETA: 0s - loss: 2.4730e-06 - accuracy: 1.0000"
          ]
        },
        {
          "output_type": "stream",
          "name": "stderr",
          "text": [
            "WARNING:tensorflow:Early stopping conditioned on metric `val_loss` which is not available. Available metrics are: loss,accuracy\n",
            "WARNING:tensorflow:Learning rate reduction is conditioned on metric `val_loss` which is not available. Available metrics are: loss,accuracy,lr\n"
          ]
        },
        {
          "output_type": "stream",
          "name": "stdout",
          "text": [
            "\b\b\b\b\b\b\b\b\b\b\b\b\b\b\b\b\b\b\b\b\b\b\b\b\b\b\b\b\b\b\b\b\b\b\b\b\b\b\b\b\b\b\b\b\b\b\b\b\b\b\b\b\b\b\b\b\b\b\b\b\b\b\b\b\b\b\b\b\b\b\b\b\b\b\b\b\b\b\b\b\b\b\b\b\b\b\b\b\r157/157 [==============================] - 1s 7ms/step - loss: 2.4487e-06 - accuracy: 1.0000 - lr: 3.0000e-05\n",
            "Epoch 132/200\n",
            "155/157 [============================>.] - ETA: 0s - loss: 1.5895e-06 - accuracy: 1.0000"
          ]
        },
        {
          "output_type": "stream",
          "name": "stderr",
          "text": [
            "WARNING:tensorflow:Early stopping conditioned on metric `val_loss` which is not available. Available metrics are: loss,accuracy\n",
            "WARNING:tensorflow:Learning rate reduction is conditioned on metric `val_loss` which is not available. Available metrics are: loss,accuracy,lr\n"
          ]
        },
        {
          "output_type": "stream",
          "name": "stdout",
          "text": [
            "\b\b\b\b\b\b\b\b\b\b\b\b\b\b\b\b\b\b\b\b\b\b\b\b\b\b\b\b\b\b\b\b\b\b\b\b\b\b\b\b\b\b\b\b\b\b\b\b\b\b\b\b\b\b\b\b\b\b\b\b\b\b\b\b\b\b\b\b\b\b\b\b\b\b\b\b\b\b\b\b\b\b\b\b\b\b\b\b\r157/157 [==============================] - 1s 8ms/step - loss: 1.5780e-06 - accuracy: 1.0000 - lr: 3.0000e-05\n",
            "Epoch 133/200\n",
            "155/157 [============================>.] - ETA: 0s - loss: 2.9592e-06 - accuracy: 1.0000"
          ]
        },
        {
          "output_type": "stream",
          "name": "stderr",
          "text": [
            "WARNING:tensorflow:Early stopping conditioned on metric `val_loss` which is not available. Available metrics are: loss,accuracy\n",
            "WARNING:tensorflow:Learning rate reduction is conditioned on metric `val_loss` which is not available. Available metrics are: loss,accuracy,lr\n"
          ]
        },
        {
          "output_type": "stream",
          "name": "stdout",
          "text": [
            "\b\b\b\b\b\b\b\b\b\b\b\b\b\b\b\b\b\b\b\b\b\b\b\b\b\b\b\b\b\b\b\b\b\b\b\b\b\b\b\b\b\b\b\b\b\b\b\b\b\b\b\b\b\b\b\b\b\b\b\b\b\b\b\b\b\b\b\b\b\b\b\b\b\b\b\b\b\b\b\b\b\b\b\b\b\b\b\b\r157/157 [==============================] - 1s 7ms/step - loss: 2.9750e-06 - accuracy: 1.0000 - lr: 3.0000e-05\n",
            "Epoch 134/200\n",
            "156/157 [============================>.] - ETA: 0s - loss: 1.2626e-06 - accuracy: 1.0000"
          ]
        },
        {
          "output_type": "stream",
          "name": "stderr",
          "text": [
            "WARNING:tensorflow:Early stopping conditioned on metric `val_loss` which is not available. Available metrics are: loss,accuracy\n",
            "WARNING:tensorflow:Learning rate reduction is conditioned on metric `val_loss` which is not available. Available metrics are: loss,accuracy,lr\n"
          ]
        },
        {
          "output_type": "stream",
          "name": "stdout",
          "text": [
            "\b\b\b\b\b\b\b\b\b\b\b\b\b\b\b\b\b\b\b\b\b\b\b\b\b\b\b\b\b\b\b\b\b\b\b\b\b\b\b\b\b\b\b\b\b\b\b\b\b\b\b\b\b\b\b\b\b\b\b\b\b\b\b\b\b\b\b\b\b\b\b\b\b\b\b\b\b\b\b\b\b\b\b\b\b\b\b\b\r157/157 [==============================] - 1s 8ms/step - loss: 1.2613e-06 - accuracy: 1.0000 - lr: 3.0000e-05\n",
            "Epoch 135/200\n",
            "154/157 [============================>.] - ETA: 0s - loss: 8.8536e-07 - accuracy: 1.0000"
          ]
        },
        {
          "output_type": "stream",
          "name": "stderr",
          "text": [
            "WARNING:tensorflow:Early stopping conditioned on metric `val_loss` which is not available. Available metrics are: loss,accuracy\n",
            "WARNING:tensorflow:Learning rate reduction is conditioned on metric `val_loss` which is not available. Available metrics are: loss,accuracy,lr\n"
          ]
        },
        {
          "output_type": "stream",
          "name": "stdout",
          "text": [
            "\b\b\b\b\b\b\b\b\b\b\b\b\b\b\b\b\b\b\b\b\b\b\b\b\b\b\b\b\b\b\b\b\b\b\b\b\b\b\b\b\b\b\b\b\b\b\b\b\b\b\b\b\b\b\b\b\b\b\b\b\b\b\b\b\b\b\b\b\b\b\b\b\b\b\b\b\b\b\b\b\b\b\b\b\b\b\b\b\r157/157 [==============================] - 1s 7ms/step - loss: 8.8604e-07 - accuracy: 1.0000 - lr: 3.0000e-05\n",
            "Epoch 136/200\n",
            "155/157 [============================>.] - ETA: 0s - loss: 1.1042e-06 - accuracy: 1.0000"
          ]
        },
        {
          "output_type": "stream",
          "name": "stderr",
          "text": [
            "WARNING:tensorflow:Early stopping conditioned on metric `val_loss` which is not available. Available metrics are: loss,accuracy\n",
            "WARNING:tensorflow:Learning rate reduction is conditioned on metric `val_loss` which is not available. Available metrics are: loss,accuracy,lr\n"
          ]
        },
        {
          "output_type": "stream",
          "name": "stdout",
          "text": [
            "\b\b\b\b\b\b\b\b\b\b\b\b\b\b\b\b\b\b\b\b\b\b\b\b\b\b\b\b\b\b\b\b\b\b\b\b\b\b\b\b\b\b\b\b\b\b\b\b\b\b\b\b\b\b\b\b\b\b\b\b\b\b\b\b\b\b\b\b\b\b\b\b\b\b\b\b\b\b\b\b\b\b\b\b\b\b\b\b\r157/157 [==============================] - 1s 7ms/step - loss: 1.0966e-06 - accuracy: 1.0000 - lr: 3.0000e-05\n",
            "Epoch 137/200\n",
            "153/157 [============================>.] - ETA: 0s - loss: 2.2234e-06 - accuracy: 1.0000"
          ]
        },
        {
          "output_type": "stream",
          "name": "stderr",
          "text": [
            "WARNING:tensorflow:Early stopping conditioned on metric `val_loss` which is not available. Available metrics are: loss,accuracy\n",
            "WARNING:tensorflow:Learning rate reduction is conditioned on metric `val_loss` which is not available. Available metrics are: loss,accuracy,lr\n"
          ]
        },
        {
          "output_type": "stream",
          "name": "stdout",
          "text": [
            "\b\b\b\b\b\b\b\b\b\b\b\b\b\b\b\b\b\b\b\b\b\b\b\b\b\b\b\b\b\b\b\b\b\b\b\b\b\b\b\b\b\b\b\b\b\b\b\b\b\b\b\b\b\b\b\b\b\b\b\b\b\b\b\b\b\b\b\b\b\b\b\b\b\b\b\b\b\b\b\b\b\b\b\b\b\b\b\b\r157/157 [==============================] - 1s 7ms/step - loss: 2.1839e-06 - accuracy: 1.0000 - lr: 3.0000e-05\n",
            "Epoch 138/200\n",
            "153/157 [============================>.] - ETA: 0s - loss: 1.0976e-06 - accuracy: 1.0000"
          ]
        },
        {
          "output_type": "stream",
          "name": "stderr",
          "text": [
            "WARNING:tensorflow:Early stopping conditioned on metric `val_loss` which is not available. Available metrics are: loss,accuracy\n",
            "WARNING:tensorflow:Learning rate reduction is conditioned on metric `val_loss` which is not available. Available metrics are: loss,accuracy,lr\n"
          ]
        },
        {
          "output_type": "stream",
          "name": "stdout",
          "text": [
            "\b\b\b\b\b\b\b\b\b\b\b\b\b\b\b\b\b\b\b\b\b\b\b\b\b\b\b\b\b\b\b\b\b\b\b\b\b\b\b\b\b\b\b\b\b\b\b\b\b\b\b\b\b\b\b\b\b\b\b\b\b\b\b\b\b\b\b\b\b\b\b\b\b\b\b\b\b\b\b\b\b\b\b\b\b\b\b\b\r157/157 [==============================] - 1s 7ms/step - loss: 1.0774e-06 - accuracy: 1.0000 - lr: 3.0000e-05\n",
            "Epoch 139/200\n",
            "155/157 [============================>.] - ETA: 0s - loss: 1.1355e-06 - accuracy: 1.0000"
          ]
        },
        {
          "output_type": "stream",
          "name": "stderr",
          "text": [
            "WARNING:tensorflow:Early stopping conditioned on metric `val_loss` which is not available. Available metrics are: loss,accuracy\n",
            "WARNING:tensorflow:Learning rate reduction is conditioned on metric `val_loss` which is not available. Available metrics are: loss,accuracy,lr\n"
          ]
        },
        {
          "output_type": "stream",
          "name": "stdout",
          "text": [
            "\b\b\b\b\b\b\b\b\b\b\b\b\b\b\b\b\b\b\b\b\b\b\b\b\b\b\b\b\b\b\b\b\b\b\b\b\b\b\b\b\b\b\b\b\b\b\b\b\b\b\b\b\b\b\b\b\b\b\b\b\b\b\b\b\b\b\b\b\b\b\b\b\b\b\b\b\b\b\b\b\b\b\b\b\b\b\b\b\r157/157 [==============================] - 1s 7ms/step - loss: 1.1885e-06 - accuracy: 1.0000 - lr: 3.0000e-05\n",
            "Epoch 140/200\n",
            "157/157 [==============================] - ETA: 0s - loss: 1.4033e-06 - accuracy: 1.0000"
          ]
        },
        {
          "output_type": "stream",
          "name": "stderr",
          "text": [
            "WARNING:tensorflow:Early stopping conditioned on metric `val_loss` which is not available. Available metrics are: loss,accuracy\n",
            "WARNING:tensorflow:Learning rate reduction is conditioned on metric `val_loss` which is not available. Available metrics are: loss,accuracy,lr\n"
          ]
        },
        {
          "output_type": "stream",
          "name": "stdout",
          "text": [
            "\b\b\b\b\b\b\b\b\b\b\b\b\b\b\b\b\b\b\b\b\b\b\b\b\b\b\b\b\b\b\b\b\b\b\b\b\b\b\b\b\b\b\b\b\b\b\b\b\b\b\b\b\b\b\b\b\b\b\b\b\b\b\b\b\b\b\b\b\b\b\b\b\b\b\b\b\b\b\b\b\b\b\b\b\b\b\b\b\r157/157 [==============================] - 1s 7ms/step - loss: 1.4033e-06 - accuracy: 1.0000 - lr: 3.0000e-05\n",
            "Epoch 141/200\n",
            "153/157 [============================>.] - ETA: 0s - loss: 1.4037e-06 - accuracy: 1.0000"
          ]
        },
        {
          "output_type": "stream",
          "name": "stderr",
          "text": [
            "WARNING:tensorflow:Early stopping conditioned on metric `val_loss` which is not available. Available metrics are: loss,accuracy\n",
            "WARNING:tensorflow:Learning rate reduction is conditioned on metric `val_loss` which is not available. Available metrics are: loss,accuracy,lr\n"
          ]
        },
        {
          "output_type": "stream",
          "name": "stdout",
          "text": [
            "\b\b\b\b\b\b\b\b\b\b\b\b\b\b\b\b\b\b\b\b\b\b\b\b\b\b\b\b\b\b\b\b\b\b\b\b\b\b\b\b\b\b\b\b\b\b\b\b\b\b\b\b\b\b\b\b\b\b\b\b\b\b\b\b\b\b\b\b\b\b\b\b\b\b\b\b\b\b\b\b\b\b\b\b\b\b\b\b\r157/157 [==============================] - 1s 7ms/step - loss: 1.3754e-06 - accuracy: 1.0000 - lr: 3.0000e-05\n",
            "Epoch 142/200\n",
            "150/157 [===========================>..] - ETA: 0s - loss: 1.6377e-06 - accuracy: 1.0000"
          ]
        },
        {
          "output_type": "stream",
          "name": "stderr",
          "text": [
            "WARNING:tensorflow:Early stopping conditioned on metric `val_loss` which is not available. Available metrics are: loss,accuracy\n",
            "WARNING:tensorflow:Learning rate reduction is conditioned on metric `val_loss` which is not available. Available metrics are: loss,accuracy,lr\n"
          ]
        },
        {
          "output_type": "stream",
          "name": "stdout",
          "text": [
            "\b\b\b\b\b\b\b\b\b\b\b\b\b\b\b\b\b\b\b\b\b\b\b\b\b\b\b\b\b\b\b\b\b\b\b\b\b\b\b\b\b\b\b\b\b\b\b\b\b\b\b\b\b\b\b\b\b\b\b\b\b\b\b\b\b\b\b\b\b\b\b\b\b\b\b\b\b\b\b\b\b\b\b\b\b\b\b\b\r157/157 [==============================] - 1s 7ms/step - loss: 1.5832e-06 - accuracy: 1.0000 - lr: 3.0000e-05\n",
            "Epoch 143/200\n",
            "154/157 [============================>.] - ETA: 0s - loss: 1.3578e-06 - accuracy: 1.0000"
          ]
        },
        {
          "output_type": "stream",
          "name": "stderr",
          "text": [
            "WARNING:tensorflow:Early stopping conditioned on metric `val_loss` which is not available. Available metrics are: loss,accuracy\n",
            "WARNING:tensorflow:Learning rate reduction is conditioned on metric `val_loss` which is not available. Available metrics are: loss,accuracy,lr\n"
          ]
        },
        {
          "output_type": "stream",
          "name": "stdout",
          "text": [
            "\b\b\b\b\b\b\b\b\b\b\b\b\b\b\b\b\b\b\b\b\b\b\b\b\b\b\b\b\b\b\b\b\b\b\b\b\b\b\b\b\b\b\b\b\b\b\b\b\b\b\b\b\b\b\b\b\b\b\b\b\b\b\b\b\b\b\b\b\b\b\b\b\b\b\b\b\b\b\b\b\b\b\b\b\b\b\b\b\r157/157 [==============================] - 1s 8ms/step - loss: 1.3440e-06 - accuracy: 1.0000 - lr: 3.0000e-05\n",
            "Epoch 144/200\n",
            "157/157 [==============================] - ETA: 0s - loss: 7.7137e-07 - accuracy: 1.0000"
          ]
        },
        {
          "output_type": "stream",
          "name": "stderr",
          "text": [
            "WARNING:tensorflow:Early stopping conditioned on metric `val_loss` which is not available. Available metrics are: loss,accuracy\n",
            "WARNING:tensorflow:Learning rate reduction is conditioned on metric `val_loss` which is not available. Available metrics are: loss,accuracy,lr\n"
          ]
        },
        {
          "output_type": "stream",
          "name": "stdout",
          "text": [
            "\b\b\b\b\b\b\b\b\b\b\b\b\b\b\b\b\b\b\b\b\b\b\b\b\b\b\b\b\b\b\b\b\b\b\b\b\b\b\b\b\b\b\b\b\b\b\b\b\b\b\b\b\b\b\b\b\b\b\b\b\b\b\b\b\b\b\b\b\b\b\b\b\b\b\b\b\b\b\b\b\b\b\b\b\b\b\b\b\r157/157 [==============================] - 1s 8ms/step - loss: 7.7137e-07 - accuracy: 1.0000 - lr: 3.0000e-05\n",
            "Epoch 145/200\n",
            "155/157 [============================>.] - ETA: 0s - loss: 1.3405e-06 - accuracy: 1.0000"
          ]
        },
        {
          "output_type": "stream",
          "name": "stderr",
          "text": [
            "WARNING:tensorflow:Early stopping conditioned on metric `val_loss` which is not available. Available metrics are: loss,accuracy\n",
            "WARNING:tensorflow:Learning rate reduction is conditioned on metric `val_loss` which is not available. Available metrics are: loss,accuracy,lr\n"
          ]
        },
        {
          "output_type": "stream",
          "name": "stdout",
          "text": [
            "\b\b\b\b\b\b\b\b\b\b\b\b\b\b\b\b\b\b\b\b\b\b\b\b\b\b\b\b\b\b\b\b\b\b\b\b\b\b\b\b\b\b\b\b\b\b\b\b\b\b\b\b\b\b\b\b\b\b\b\b\b\b\b\b\b\b\b\b\b\b\b\b\b\b\b\b\b\b\b\b\b\b\b\b\b\b\b\b\r157/157 [==============================] - 1s 8ms/step - loss: 1.3278e-06 - accuracy: 1.0000 - lr: 3.0000e-05\n",
            "Epoch 146/200\n",
            "157/157 [==============================] - ETA: 0s - loss: 9.4817e-07 - accuracy: 1.0000"
          ]
        },
        {
          "output_type": "stream",
          "name": "stderr",
          "text": [
            "WARNING:tensorflow:Early stopping conditioned on metric `val_loss` which is not available. Available metrics are: loss,accuracy\n",
            "WARNING:tensorflow:Learning rate reduction is conditioned on metric `val_loss` which is not available. Available metrics are: loss,accuracy,lr\n"
          ]
        },
        {
          "output_type": "stream",
          "name": "stdout",
          "text": [
            "\b\b\b\b\b\b\b\b\b\b\b\b\b\b\b\b\b\b\b\b\b\b\b\b\b\b\b\b\b\b\b\b\b\b\b\b\b\b\b\b\b\b\b\b\b\b\b\b\b\b\b\b\b\b\b\b\b\b\b\b\b\b\b\b\b\b\b\b\b\b\b\b\b\b\b\b\b\b\b\b\b\b\b\b\b\b\b\b\r157/157 [==============================] - 1s 8ms/step - loss: 9.4817e-07 - accuracy: 1.0000 - lr: 3.0000e-05\n",
            "Epoch 147/200\n",
            "151/157 [===========================>..] - ETA: 0s - loss: 1.0106e-06 - accuracy: 1.0000"
          ]
        },
        {
          "output_type": "stream",
          "name": "stderr",
          "text": [
            "WARNING:tensorflow:Early stopping conditioned on metric `val_loss` which is not available. Available metrics are: loss,accuracy\n",
            "WARNING:tensorflow:Learning rate reduction is conditioned on metric `val_loss` which is not available. Available metrics are: loss,accuracy,lr\n"
          ]
        },
        {
          "output_type": "stream",
          "name": "stdout",
          "text": [
            "\b\b\b\b\b\b\b\b\b\b\b\b\b\b\b\b\b\b\b\b\b\b\b\b\b\b\b\b\b\b\b\b\b\b\b\b\b\b\b\b\b\b\b\b\b\b\b\b\b\b\b\b\b\b\b\b\b\b\b\b\b\b\b\b\b\b\b\b\b\b\b\b\b\b\b\b\b\b\b\b\b\b\b\b\b\b\b\b\r157/157 [==============================] - 1s 7ms/step - loss: 9.9093e-07 - accuracy: 1.0000 - lr: 3.0000e-05\n",
            "Epoch 148/200\n",
            "157/157 [==============================] - ETA: 0s - loss: 1.0267e-06 - accuracy: 1.0000"
          ]
        },
        {
          "output_type": "stream",
          "name": "stderr",
          "text": [
            "WARNING:tensorflow:Early stopping conditioned on metric `val_loss` which is not available. Available metrics are: loss,accuracy\n",
            "WARNING:tensorflow:Learning rate reduction is conditioned on metric `val_loss` which is not available. Available metrics are: loss,accuracy,lr\n"
          ]
        },
        {
          "output_type": "stream",
          "name": "stdout",
          "text": [
            "\b\b\b\b\b\b\b\b\b\b\b\b\b\b\b\b\b\b\b\b\b\b\b\b\b\b\b\b\b\b\b\b\b\b\b\b\b\b\b\b\b\b\b\b\b\b\b\b\b\b\b\b\b\b\b\b\b\b\b\b\b\b\b\b\b\b\b\b\b\b\b\b\b\b\b\b\b\b\b\b\b\b\b\b\b\b\b\b\r157/157 [==============================] - 1s 8ms/step - loss: 1.0267e-06 - accuracy: 1.0000 - lr: 3.0000e-05\n",
            "Epoch 149/200\n",
            "154/157 [============================>.] - ETA: 0s - loss: 6.2510e-07 - accuracy: 1.0000"
          ]
        },
        {
          "output_type": "stream",
          "name": "stderr",
          "text": [
            "WARNING:tensorflow:Early stopping conditioned on metric `val_loss` which is not available. Available metrics are: loss,accuracy\n",
            "WARNING:tensorflow:Learning rate reduction is conditioned on metric `val_loss` which is not available. Available metrics are: loss,accuracy,lr\n"
          ]
        },
        {
          "output_type": "stream",
          "name": "stdout",
          "text": [
            "\b\b\b\b\b\b\b\b\b\b\b\b\b\b\b\b\b\b\b\b\b\b\b\b\b\b\b\b\b\b\b\b\b\b\b\b\b\b\b\b\b\b\b\b\b\b\b\b\b\b\b\b\b\b\b\b\b\b\b\b\b\b\b\b\b\b\b\b\b\b\b\b\b\b\b\b\b\b\b\b\b\b\b\b\b\b\b\b\r157/157 [==============================] - 1s 8ms/step - loss: 6.2121e-07 - accuracy: 1.0000 - lr: 3.0000e-05\n",
            "Epoch 150/200\n",
            "157/157 [==============================] - ETA: 0s - loss: 4.2329e-07 - accuracy: 1.0000"
          ]
        },
        {
          "output_type": "stream",
          "name": "stderr",
          "text": [
            "WARNING:tensorflow:Early stopping conditioned on metric `val_loss` which is not available. Available metrics are: loss,accuracy\n",
            "WARNING:tensorflow:Learning rate reduction is conditioned on metric `val_loss` which is not available. Available metrics are: loss,accuracy,lr\n"
          ]
        },
        {
          "output_type": "stream",
          "name": "stdout",
          "text": [
            "\b\b\b\b\b\b\b\b\b\b\b\b\b\b\b\b\b\b\b\b\b\b\b\b\b\b\b\b\b\b\b\b\b\b\b\b\b\b\b\b\b\b\b\b\b\b\b\b\b\b\b\b\b\b\b\b\b\b\b\b\b\b\b\b\b\b\b\b\b\b\b\b\b\b\b\b\b\b\b\b\b\b\b\b\b\b\b\b\r157/157 [==============================] - 1s 7ms/step - loss: 4.2329e-07 - accuracy: 1.0000 - lr: 3.0000e-05\n",
            "Epoch 151/200\n",
            "153/157 [============================>.] - ETA: 0s - loss: 1.1561e-06 - accuracy: 1.0000"
          ]
        },
        {
          "output_type": "stream",
          "name": "stderr",
          "text": [
            "WARNING:tensorflow:Early stopping conditioned on metric `val_loss` which is not available. Available metrics are: loss,accuracy\n",
            "WARNING:tensorflow:Learning rate reduction is conditioned on metric `val_loss` which is not available. Available metrics are: loss,accuracy,lr\n"
          ]
        },
        {
          "output_type": "stream",
          "name": "stdout",
          "text": [
            "\b\b\b\b\b\b\b\b\b\b\b\b\b\b\b\b\b\b\b\b\b\b\b\b\b\b\b\b\b\b\b\b\b\b\b\b\b\b\b\b\b\b\b\b\b\b\b\b\b\b\b\b\b\b\b\b\b\b\b\b\b\b\b\b\b\b\b\b\b\b\b\b\b\b\b\b\b\b\b\b\b\b\b\b\b\b\b\b\r157/157 [==============================] - 1s 7ms/step - loss: 1.1625e-06 - accuracy: 1.0000 - lr: 3.0000e-05\n",
            "Epoch 152/200\n",
            "153/157 [============================>.] - ETA: 0s - loss: 1.4328e-06 - accuracy: 1.0000"
          ]
        },
        {
          "output_type": "stream",
          "name": "stderr",
          "text": [
            "WARNING:tensorflow:Early stopping conditioned on metric `val_loss` which is not available. Available metrics are: loss,accuracy\n",
            "WARNING:tensorflow:Learning rate reduction is conditioned on metric `val_loss` which is not available. Available metrics are: loss,accuracy,lr\n"
          ]
        },
        {
          "output_type": "stream",
          "name": "stdout",
          "text": [
            "\b\b\b\b\b\b\b\b\b\b\b\b\b\b\b\b\b\b\b\b\b\b\b\b\b\b\b\b\b\b\b\b\b\b\b\b\b\b\b\b\b\b\b\b\b\b\b\b\b\b\b\b\b\b\b\b\b\b\b\b\b\b\b\b\b\b\b\b\b\b\b\b\b\b\b\b\b\b\b\b\b\b\b\b\b\b\b\b\r157/157 [==============================] - 1s 7ms/step - loss: 1.4134e-06 - accuracy: 1.0000 - lr: 3.0000e-05\n",
            "Epoch 153/200\n",
            "152/157 [============================>.] - ETA: 0s - loss: 5.9105e-07 - accuracy: 1.0000"
          ]
        },
        {
          "output_type": "stream",
          "name": "stderr",
          "text": [
            "WARNING:tensorflow:Early stopping conditioned on metric `val_loss` which is not available. Available metrics are: loss,accuracy\n",
            "WARNING:tensorflow:Learning rate reduction is conditioned on metric `val_loss` which is not available. Available metrics are: loss,accuracy,lr\n"
          ]
        },
        {
          "output_type": "stream",
          "name": "stdout",
          "text": [
            "\b\b\b\b\b\b\b\b\b\b\b\b\b\b\b\b\b\b\b\b\b\b\b\b\b\b\b\b\b\b\b\b\b\b\b\b\b\b\b\b\b\b\b\b\b\b\b\b\b\b\b\b\b\b\b\b\b\b\b\b\b\b\b\b\b\b\b\b\b\b\b\b\b\b\b\b\b\b\b\b\b\b\b\b\b\b\b\b\r157/157 [==============================] - 1s 7ms/step - loss: 6.3056e-07 - accuracy: 1.0000 - lr: 3.0000e-05\n",
            "Epoch 154/200\n",
            "153/157 [============================>.] - ETA: 0s - loss: 5.0948e-07 - accuracy: 1.0000"
          ]
        },
        {
          "output_type": "stream",
          "name": "stderr",
          "text": [
            "WARNING:tensorflow:Early stopping conditioned on metric `val_loss` which is not available. Available metrics are: loss,accuracy\n",
            "WARNING:tensorflow:Learning rate reduction is conditioned on metric `val_loss` which is not available. Available metrics are: loss,accuracy,lr\n"
          ]
        },
        {
          "output_type": "stream",
          "name": "stdout",
          "text": [
            "\b\b\b\b\b\b\b\b\b\b\b\b\b\b\b\b\b\b\b\b\b\b\b\b\b\b\b\b\b\b\b\b\b\b\b\b\b\b\b\b\b\b\b\b\b\b\b\b\b\b\b\b\b\b\b\b\b\b\b\b\b\b\b\b\b\b\b\b\b\b\b\b\b\b\b\b\b\b\b\b\b\b\b\b\b\b\b\b\r157/157 [==============================] - 1s 7ms/step - loss: 4.9949e-07 - accuracy: 1.0000 - lr: 3.0000e-05\n",
            "Epoch 155/200\n",
            "156/157 [============================>.] - ETA: 0s - loss: 1.2892e-06 - accuracy: 1.0000"
          ]
        },
        {
          "output_type": "stream",
          "name": "stderr",
          "text": [
            "WARNING:tensorflow:Early stopping conditioned on metric `val_loss` which is not available. Available metrics are: loss,accuracy\n",
            "WARNING:tensorflow:Learning rate reduction is conditioned on metric `val_loss` which is not available. Available metrics are: loss,accuracy,lr\n"
          ]
        },
        {
          "output_type": "stream",
          "name": "stdout",
          "text": [
            "\b\b\b\b\b\b\b\b\b\b\b\b\b\b\b\b\b\b\b\b\b\b\b\b\b\b\b\b\b\b\b\b\b\b\b\b\b\b\b\b\b\b\b\b\b\b\b\b\b\b\b\b\b\b\b\b\b\b\b\b\b\b\b\b\b\b\b\b\b\b\b\b\b\b\b\b\b\b\b\b\b\b\b\b\b\b\b\b\r157/157 [==============================] - 1s 8ms/step - loss: 1.2851e-06 - accuracy: 1.0000 - lr: 3.0000e-05\n",
            "Epoch 156/200\n",
            "152/157 [============================>.] - ETA: 0s - loss: 3.7660e-07 - accuracy: 1.0000"
          ]
        },
        {
          "output_type": "stream",
          "name": "stderr",
          "text": [
            "WARNING:tensorflow:Early stopping conditioned on metric `val_loss` which is not available. Available metrics are: loss,accuracy\n",
            "WARNING:tensorflow:Learning rate reduction is conditioned on metric `val_loss` which is not available. Available metrics are: loss,accuracy,lr\n"
          ]
        },
        {
          "output_type": "stream",
          "name": "stdout",
          "text": [
            "\b\b\b\b\b\b\b\b\b\b\b\b\b\b\b\b\b\b\b\b\b\b\b\b\b\b\b\b\b\b\b\b\b\b\b\b\b\b\b\b\b\b\b\b\b\b\b\b\b\b\b\b\b\b\b\b\b\b\b\b\b\b\b\b\b\b\b\b\b\b\b\b\b\b\b\b\b\b\b\b\b\b\b\b\b\b\b\b\r157/157 [==============================] - 1s 7ms/step - loss: 3.8604e-07 - accuracy: 1.0000 - lr: 3.0000e-05\n",
            "Epoch 157/200\n",
            "151/157 [===========================>..] - ETA: 0s - loss: 5.4545e-07 - accuracy: 1.0000"
          ]
        },
        {
          "output_type": "stream",
          "name": "stderr",
          "text": [
            "WARNING:tensorflow:Early stopping conditioned on metric `val_loss` which is not available. Available metrics are: loss,accuracy\n",
            "WARNING:tensorflow:Learning rate reduction is conditioned on metric `val_loss` which is not available. Available metrics are: loss,accuracy,lr\n"
          ]
        },
        {
          "output_type": "stream",
          "name": "stdout",
          "text": [
            "\b\b\b\b\b\b\b\b\b\b\b\b\b\b\b\b\b\b\b\b\b\b\b\b\b\b\b\b\b\b\b\b\b\b\b\b\b\b\b\b\b\b\b\b\b\b\b\b\b\b\b\b\b\b\b\b\b\b\b\b\b\b\b\b\b\b\b\b\b\b\b\b\b\b\b\b\b\b\b\b\b\b\b\b\b\b\b\b\r157/157 [==============================] - 1s 8ms/step - loss: 5.2989e-07 - accuracy: 1.0000 - lr: 3.0000e-05\n",
            "Epoch 158/200\n",
            "154/157 [============================>.] - ETA: 0s - loss: 1.7427e-06 - accuracy: 1.0000"
          ]
        },
        {
          "output_type": "stream",
          "name": "stderr",
          "text": [
            "WARNING:tensorflow:Early stopping conditioned on metric `val_loss` which is not available. Available metrics are: loss,accuracy\n",
            "WARNING:tensorflow:Learning rate reduction is conditioned on metric `val_loss` which is not available. Available metrics are: loss,accuracy,lr\n"
          ]
        },
        {
          "output_type": "stream",
          "name": "stdout",
          "text": [
            "\b\b\b\b\b\b\b\b\b\b\b\b\b\b\b\b\b\b\b\b\b\b\b\b\b\b\b\b\b\b\b\b\b\b\b\b\b\b\b\b\b\b\b\b\b\b\b\b\b\b\b\b\b\b\b\b\b\b\b\b\b\b\b\b\b\b\b\b\b\b\b\b\b\b\b\b\b\b\b\b\b\b\b\b\b\b\b\b\r157/157 [==============================] - 1s 7ms/step - loss: 1.7221e-06 - accuracy: 1.0000 - lr: 3.0000e-05\n",
            "Epoch 159/200\n",
            "157/157 [==============================] - ETA: 0s - loss: 5.7796e-07 - accuracy: 1.0000"
          ]
        },
        {
          "output_type": "stream",
          "name": "stderr",
          "text": [
            "WARNING:tensorflow:Early stopping conditioned on metric `val_loss` which is not available. Available metrics are: loss,accuracy\n",
            "WARNING:tensorflow:Learning rate reduction is conditioned on metric `val_loss` which is not available. Available metrics are: loss,accuracy,lr\n"
          ]
        },
        {
          "output_type": "stream",
          "name": "stdout",
          "text": [
            "\b\b\b\b\b\b\b\b\b\b\b\b\b\b\b\b\b\b\b\b\b\b\b\b\b\b\b\b\b\b\b\b\b\b\b\b\b\b\b\b\b\b\b\b\b\b\b\b\b\b\b\b\b\b\b\b\b\b\b\b\b\b\b\b\b\b\b\b\b\b\b\b\b\b\b\b\b\b\b\b\b\b\b\b\b\b\b\b\r157/157 [==============================] - 1s 7ms/step - loss: 5.7796e-07 - accuracy: 1.0000 - lr: 3.0000e-05\n",
            "Epoch 160/200\n",
            "153/157 [============================>.] - ETA: 0s - loss: 3.4012e-07 - accuracy: 1.0000"
          ]
        },
        {
          "output_type": "stream",
          "name": "stderr",
          "text": [
            "WARNING:tensorflow:Early stopping conditioned on metric `val_loss` which is not available. Available metrics are: loss,accuracy\n",
            "WARNING:tensorflow:Learning rate reduction is conditioned on metric `val_loss` which is not available. Available metrics are: loss,accuracy,lr\n"
          ]
        },
        {
          "output_type": "stream",
          "name": "stdout",
          "text": [
            "\b\b\b\b\b\b\b\b\b\b\b\b\b\b\b\b\b\b\b\b\b\b\b\b\b\b\b\b\b\b\b\b\b\b\b\b\b\b\b\b\b\b\b\b\b\b\b\b\b\b\b\b\b\b\b\b\b\b\b\b\b\b\b\b\b\b\b\b\b\b\b\b\b\b\b\b\b\b\b\b\b\b\b\b\b\b\b\b\r157/157 [==============================] - 1s 7ms/step - loss: 3.3535e-07 - accuracy: 1.0000 - lr: 3.0000e-05\n",
            "Epoch 161/200\n",
            "152/157 [============================>.] - ETA: 0s - loss: 2.8453e-07 - accuracy: 1.0000"
          ]
        },
        {
          "output_type": "stream",
          "name": "stderr",
          "text": [
            "WARNING:tensorflow:Early stopping conditioned on metric `val_loss` which is not available. Available metrics are: loss,accuracy\n",
            "WARNING:tensorflow:Learning rate reduction is conditioned on metric `val_loss` which is not available. Available metrics are: loss,accuracy,lr\n"
          ]
        },
        {
          "output_type": "stream",
          "name": "stdout",
          "text": [
            "\b\b\b\b\b\b\b\b\b\b\b\b\b\b\b\b\b\b\b\b\b\b\b\b\b\b\b\b\b\b\b\b\b\b\b\b\b\b\b\b\b\b\b\b\b\b\b\b\b\b\b\b\b\b\b\b\b\b\b\b\b\b\b\b\b\b\b\b\b\b\b\b\b\b\b\b\b\b\b\b\b\b\b\b\b\b\b\b\r157/157 [==============================] - 1s 7ms/step - loss: 2.7864e-07 - accuracy: 1.0000 - lr: 3.0000e-05\n",
            "Epoch 162/200\n",
            "151/157 [===========================>..] - ETA: 0s - loss: 3.2127e-07 - accuracy: 1.0000"
          ]
        },
        {
          "output_type": "stream",
          "name": "stderr",
          "text": [
            "WARNING:tensorflow:Early stopping conditioned on metric `val_loss` which is not available. Available metrics are: loss,accuracy\n",
            "WARNING:tensorflow:Learning rate reduction is conditioned on metric `val_loss` which is not available. Available metrics are: loss,accuracy,lr\n"
          ]
        },
        {
          "output_type": "stream",
          "name": "stdout",
          "text": [
            "\b\b\b\b\b\b\b\b\b\b\b\b\b\b\b\b\b\b\b\b\b\b\b\b\b\b\b\b\b\b\b\b\b\b\b\b\b\b\b\b\b\b\b\b\b\b\b\b\b\b\b\b\b\b\b\b\b\b\b\b\b\b\b\b\b\b\b\b\b\b\b\b\b\b\b\b\b\b\b\b\b\b\b\b\b\b\b\b\r157/157 [==============================] - 1s 7ms/step - loss: 3.1362e-07 - accuracy: 1.0000 - lr: 3.0000e-05\n",
            "Epoch 163/200\n",
            "157/157 [==============================] - ETA: 0s - loss: 7.3983e-07 - accuracy: 1.0000"
          ]
        },
        {
          "output_type": "stream",
          "name": "stderr",
          "text": [
            "WARNING:tensorflow:Early stopping conditioned on metric `val_loss` which is not available. Available metrics are: loss,accuracy\n",
            "WARNING:tensorflow:Learning rate reduction is conditioned on metric `val_loss` which is not available. Available metrics are: loss,accuracy,lr\n"
          ]
        },
        {
          "output_type": "stream",
          "name": "stdout",
          "text": [
            "\b\b\b\b\b\b\b\b\b\b\b\b\b\b\b\b\b\b\b\b\b\b\b\b\b\b\b\b\b\b\b\b\b\b\b\b\b\b\b\b\b\b\b\b\b\b\b\b\b\b\b\b\b\b\b\b\b\b\b\b\b\b\b\b\b\b\b\b\b\b\b\b\b\b\b\b\b\b\b\b\b\b\b\b\b\b\b\b\r157/157 [==============================] - 1s 7ms/step - loss: 7.3983e-07 - accuracy: 1.0000 - lr: 3.0000e-05\n",
            "Epoch 164/200\n",
            "152/157 [============================>.] - ETA: 0s - loss: 3.8041e-07 - accuracy: 1.0000"
          ]
        },
        {
          "output_type": "stream",
          "name": "stderr",
          "text": [
            "WARNING:tensorflow:Early stopping conditioned on metric `val_loss` which is not available. Available metrics are: loss,accuracy\n",
            "WARNING:tensorflow:Learning rate reduction is conditioned on metric `val_loss` which is not available. Available metrics are: loss,accuracy,lr\n"
          ]
        },
        {
          "output_type": "stream",
          "name": "stdout",
          "text": [
            "\b\b\b\b\b\b\b\b\b\b\b\b\b\b\b\b\b\b\b\b\b\b\b\b\b\b\b\b\b\b\b\b\b\b\b\b\b\b\b\b\b\b\b\b\b\b\b\b\b\b\b\b\b\b\b\b\b\b\b\b\b\b\b\b\b\b\b\b\b\b\b\b\b\b\b\b\b\b\b\b\b\b\b\b\b\b\b\b\r157/157 [==============================] - 1s 7ms/step - loss: 3.7314e-07 - accuracy: 1.0000 - lr: 3.0000e-05\n",
            "Epoch 165/200\n",
            "152/157 [============================>.] - ETA: 0s - loss: 2.8820e-07 - accuracy: 1.0000"
          ]
        },
        {
          "output_type": "stream",
          "name": "stderr",
          "text": [
            "WARNING:tensorflow:Early stopping conditioned on metric `val_loss` which is not available. Available metrics are: loss,accuracy\n",
            "WARNING:tensorflow:Learning rate reduction is conditioned on metric `val_loss` which is not available. Available metrics are: loss,accuracy,lr\n"
          ]
        },
        {
          "output_type": "stream",
          "name": "stdout",
          "text": [
            "\b\b\b\b\b\b\b\b\b\b\b\b\b\b\b\b\b\b\b\b\b\b\b\b\b\b\b\b\b\b\b\b\b\b\b\b\b\b\b\b\b\b\b\b\b\b\b\b\b\b\b\b\b\b\b\b\b\b\b\b\b\b\b\b\b\b\b\b\b\b\b\b\b\b\b\b\b\b\b\b\b\b\b\b\b\b\b\b\r157/157 [==============================] - 1s 7ms/step - loss: 2.8080e-07 - accuracy: 1.0000 - lr: 3.0000e-05\n",
            "Epoch 166/200\n",
            "157/157 [==============================] - ETA: 0s - loss: 2.7431e-07 - accuracy: 1.0000"
          ]
        },
        {
          "output_type": "stream",
          "name": "stderr",
          "text": [
            "WARNING:tensorflow:Early stopping conditioned on metric `val_loss` which is not available. Available metrics are: loss,accuracy\n",
            "WARNING:tensorflow:Learning rate reduction is conditioned on metric `val_loss` which is not available. Available metrics are: loss,accuracy,lr\n"
          ]
        },
        {
          "output_type": "stream",
          "name": "stdout",
          "text": [
            "\b\b\b\b\b\b\b\b\b\b\b\b\b\b\b\b\b\b\b\b\b\b\b\b\b\b\b\b\b\b\b\b\b\b\b\b\b\b\b\b\b\b\b\b\b\b\b\b\b\b\b\b\b\b\b\b\b\b\b\b\b\b\b\b\b\b\b\b\b\b\b\b\b\b\b\b\b\b\b\b\b\b\b\b\b\b\b\b\r157/157 [==============================] - 1s 8ms/step - loss: 2.7431e-07 - accuracy: 1.0000 - lr: 3.0000e-05\n",
            "Epoch 167/200\n",
            "157/157 [==============================] - ETA: 0s - loss: 5.3093e-07 - accuracy: 1.0000"
          ]
        },
        {
          "output_type": "stream",
          "name": "stderr",
          "text": [
            "WARNING:tensorflow:Early stopping conditioned on metric `val_loss` which is not available. Available metrics are: loss,accuracy\n",
            "WARNING:tensorflow:Learning rate reduction is conditioned on metric `val_loss` which is not available. Available metrics are: loss,accuracy,lr\n"
          ]
        },
        {
          "output_type": "stream",
          "name": "stdout",
          "text": [
            "\b\b\b\b\b\b\b\b\b\b\b\b\b\b\b\b\b\b\b\b\b\b\b\b\b\b\b\b\b\b\b\b\b\b\b\b\b\b\b\b\b\b\b\b\b\b\b\b\b\b\b\b\b\b\b\b\b\b\b\b\b\b\b\b\b\b\b\b\b\b\b\b\b\b\b\b\b\b\b\b\b\b\b\b\b\b\b\b\r157/157 [==============================] - 1s 7ms/step - loss: 5.3093e-07 - accuracy: 1.0000 - lr: 3.0000e-05\n",
            "Epoch 168/200\n",
            "156/157 [============================>.] - ETA: 0s - loss: 1.7812e-07 - accuracy: 1.0000"
          ]
        },
        {
          "output_type": "stream",
          "name": "stderr",
          "text": [
            "WARNING:tensorflow:Early stopping conditioned on metric `val_loss` which is not available. Available metrics are: loss,accuracy\n",
            "WARNING:tensorflow:Learning rate reduction is conditioned on metric `val_loss` which is not available. Available metrics are: loss,accuracy,lr\n"
          ]
        },
        {
          "output_type": "stream",
          "name": "stdout",
          "text": [
            "\b\b\b\b\b\b\b\b\b\b\b\b\b\b\b\b\b\b\b\b\b\b\b\b\b\b\b\b\b\b\b\b\b\b\b\b\b\b\b\b\b\b\b\b\b\b\b\b\b\b\b\b\b\b\b\b\b\b\b\b\b\b\b\b\b\b\b\b\b\b\b\b\b\b\b\b\b\b\b\b\b\b\b\b\b\b\b\b\r157/157 [==============================] - 1s 8ms/step - loss: 1.7770e-07 - accuracy: 1.0000 - lr: 3.0000e-05\n",
            "Epoch 169/200\n",
            "151/157 [===========================>..] - ETA: 0s - loss: 2.1430e-07 - accuracy: 1.0000"
          ]
        },
        {
          "output_type": "stream",
          "name": "stderr",
          "text": [
            "WARNING:tensorflow:Early stopping conditioned on metric `val_loss` which is not available. Available metrics are: loss,accuracy\n",
            "WARNING:tensorflow:Learning rate reduction is conditioned on metric `val_loss` which is not available. Available metrics are: loss,accuracy,lr\n"
          ]
        },
        {
          "output_type": "stream",
          "name": "stdout",
          "text": [
            "\b\b\b\b\b\b\b\b\b\b\b\b\b\b\b\b\b\b\b\b\b\b\b\b\b\b\b\b\b\b\b\b\b\b\b\b\b\b\b\b\b\b\b\b\b\b\b\b\b\b\b\b\b\b\b\b\b\b\b\b\b\b\b\b\b\b\b\b\b\b\b\b\b\b\b\b\b\b\b\b\b\b\b\b\b\b\b\b\r157/157 [==============================] - 1s 8ms/step - loss: 2.0918e-07 - accuracy: 1.0000 - lr: 3.0000e-05\n",
            "Epoch 170/200\n",
            "151/157 [===========================>..] - ETA: 0s - loss: 2.6483e-07 - accuracy: 1.0000"
          ]
        },
        {
          "output_type": "stream",
          "name": "stderr",
          "text": [
            "WARNING:tensorflow:Early stopping conditioned on metric `val_loss` which is not available. Available metrics are: loss,accuracy\n",
            "WARNING:tensorflow:Learning rate reduction is conditioned on metric `val_loss` which is not available. Available metrics are: loss,accuracy,lr\n"
          ]
        },
        {
          "output_type": "stream",
          "name": "stdout",
          "text": [
            "\b\b\b\b\b\b\b\b\b\b\b\b\b\b\b\b\b\b\b\b\b\b\b\b\b\b\b\b\b\b\b\b\b\b\b\b\b\b\b\b\b\b\b\b\b\b\b\b\b\b\b\b\b\b\b\b\b\b\b\b\b\b\b\b\b\b\b\b\b\b\b\b\b\b\b\b\b\b\b\b\b\b\b\b\b\b\b\b\r157/157 [==============================] - 1s 7ms/step - loss: 2.5696e-07 - accuracy: 1.0000 - lr: 3.0000e-05\n",
            "Epoch 171/200\n",
            "156/157 [============================>.] - ETA: 0s - loss: 4.9031e-07 - accuracy: 1.0000"
          ]
        },
        {
          "output_type": "stream",
          "name": "stderr",
          "text": [
            "WARNING:tensorflow:Early stopping conditioned on metric `val_loss` which is not available. Available metrics are: loss,accuracy\n",
            "WARNING:tensorflow:Learning rate reduction is conditioned on metric `val_loss` which is not available. Available metrics are: loss,accuracy,lr\n"
          ]
        },
        {
          "output_type": "stream",
          "name": "stdout",
          "text": [
            "\b\b\b\b\b\b\b\b\b\b\b\b\b\b\b\b\b\b\b\b\b\b\b\b\b\b\b\b\b\b\b\b\b\b\b\b\b\b\b\b\b\b\b\b\b\b\b\b\b\b\b\b\b\b\b\b\b\b\b\b\b\b\b\b\b\b\b\b\b\b\b\b\b\b\b\b\b\b\b\b\b\b\b\b\b\b\b\b\r157/157 [==============================] - 1s 8ms/step - loss: 4.8973e-07 - accuracy: 1.0000 - lr: 3.0000e-05\n",
            "Epoch 172/200\n",
            "154/157 [============================>.] - ETA: 0s - loss: 2.3600e-07 - accuracy: 1.0000"
          ]
        },
        {
          "output_type": "stream",
          "name": "stderr",
          "text": [
            "WARNING:tensorflow:Early stopping conditioned on metric `val_loss` which is not available. Available metrics are: loss,accuracy\n",
            "WARNING:tensorflow:Learning rate reduction is conditioned on metric `val_loss` which is not available. Available metrics are: loss,accuracy,lr\n"
          ]
        },
        {
          "output_type": "stream",
          "name": "stdout",
          "text": [
            "\b\b\b\b\b\b\b\b\b\b\b\b\b\b\b\b\b\b\b\b\b\b\b\b\b\b\b\b\b\b\b\b\b\b\b\b\b\b\b\b\b\b\b\b\b\b\b\b\b\b\b\b\b\b\b\b\b\b\b\b\b\b\b\b\b\b\b\b\b\b\b\b\b\b\b\b\b\b\b\b\b\b\b\b\b\b\b\b\r157/157 [==============================] - 1s 8ms/step - loss: 2.4613e-07 - accuracy: 1.0000 - lr: 3.0000e-05\n",
            "Epoch 173/200\n",
            "157/157 [==============================] - ETA: 0s - loss: 2.3795e-07 - accuracy: 1.0000"
          ]
        },
        {
          "output_type": "stream",
          "name": "stderr",
          "text": [
            "WARNING:tensorflow:Early stopping conditioned on metric `val_loss` which is not available. Available metrics are: loss,accuracy\n",
            "WARNING:tensorflow:Learning rate reduction is conditioned on metric `val_loss` which is not available. Available metrics are: loss,accuracy,lr\n"
          ]
        },
        {
          "output_type": "stream",
          "name": "stdout",
          "text": [
            "\b\b\b\b\b\b\b\b\b\b\b\b\b\b\b\b\b\b\b\b\b\b\b\b\b\b\b\b\b\b\b\b\b\b\b\b\b\b\b\b\b\b\b\b\b\b\b\b\b\b\b\b\b\b\b\b\b\b\b\b\b\b\b\b\b\b\b\b\b\b\b\b\b\b\b\b\b\b\b\b\b\b\b\b\b\b\b\b\r157/157 [==============================] - 1s 8ms/step - loss: 2.3795e-07 - accuracy: 1.0000 - lr: 3.0000e-05\n",
            "Epoch 174/200\n",
            "156/157 [============================>.] - ETA: 0s - loss: 2.5804e-07 - accuracy: 1.0000"
          ]
        },
        {
          "output_type": "stream",
          "name": "stderr",
          "text": [
            "WARNING:tensorflow:Early stopping conditioned on metric `val_loss` which is not available. Available metrics are: loss,accuracy\n",
            "WARNING:tensorflow:Learning rate reduction is conditioned on metric `val_loss` which is not available. Available metrics are: loss,accuracy,lr\n"
          ]
        },
        {
          "output_type": "stream",
          "name": "stdout",
          "text": [
            "\b\b\b\b\b\b\b\b\b\b\b\b\b\b\b\b\b\b\b\b\b\b\b\b\b\b\b\b\b\b\b\b\b\b\b\b\b\b\b\b\b\b\b\b\b\b\b\b\b\b\b\b\b\b\b\b\b\b\b\b\b\b\b\b\b\b\b\b\b\b\b\b\b\b\b\b\b\b\b\b\b\b\b\b\b\b\b\b\r157/157 [==============================] - 1s 7ms/step - loss: 2.5731e-07 - accuracy: 1.0000 - lr: 3.0000e-05\n",
            "Epoch 175/200\n",
            "156/157 [============================>.] - ETA: 0s - loss: 1.4532e-07 - accuracy: 1.0000"
          ]
        },
        {
          "output_type": "stream",
          "name": "stderr",
          "text": [
            "WARNING:tensorflow:Early stopping conditioned on metric `val_loss` which is not available. Available metrics are: loss,accuracy\n",
            "WARNING:tensorflow:Learning rate reduction is conditioned on metric `val_loss` which is not available. Available metrics are: loss,accuracy,lr\n"
          ]
        },
        {
          "output_type": "stream",
          "name": "stdout",
          "text": [
            "\b\b\b\b\b\b\b\b\b\b\b\b\b\b\b\b\b\b\b\b\b\b\b\b\b\b\b\b\b\b\b\b\b\b\b\b\b\b\b\b\b\b\b\b\b\b\b\b\b\b\b\b\b\b\b\b\b\b\b\b\b\b\b\b\b\b\b\b\b\b\b\b\b\b\b\b\b\b\b\b\b\b\b\b\b\b\b\b\r157/157 [==============================] - 1s 8ms/step - loss: 1.4671e-07 - accuracy: 1.0000 - lr: 3.0000e-05\n",
            "Epoch 176/200\n",
            "156/157 [============================>.] - ETA: 0s - loss: 1.7502e-07 - accuracy: 1.0000"
          ]
        },
        {
          "output_type": "stream",
          "name": "stderr",
          "text": [
            "WARNING:tensorflow:Early stopping conditioned on metric `val_loss` which is not available. Available metrics are: loss,accuracy\n",
            "WARNING:tensorflow:Learning rate reduction is conditioned on metric `val_loss` which is not available. Available metrics are: loss,accuracy,lr\n"
          ]
        },
        {
          "output_type": "stream",
          "name": "stdout",
          "text": [
            "\b\b\b\b\b\b\b\b\b\b\b\b\b\b\b\b\b\b\b\b\b\b\b\b\b\b\b\b\b\b\b\b\b\b\b\b\b\b\b\b\b\b\b\b\b\b\b\b\b\b\b\b\b\b\b\b\b\b\b\b\b\b\b\b\b\b\b\b\b\b\b\b\b\b\b\b\b\b\b\b\b\b\b\b\b\b\b\b\r157/157 [==============================] - 1s 7ms/step - loss: 1.7448e-07 - accuracy: 1.0000 - lr: 3.0000e-05\n",
            "Epoch 177/200\n",
            "151/157 [===========================>..] - ETA: 0s - loss: 5.6594e-07 - accuracy: 1.0000"
          ]
        },
        {
          "output_type": "stream",
          "name": "stderr",
          "text": [
            "WARNING:tensorflow:Early stopping conditioned on metric `val_loss` which is not available. Available metrics are: loss,accuracy\n",
            "WARNING:tensorflow:Learning rate reduction is conditioned on metric `val_loss` which is not available. Available metrics are: loss,accuracy,lr\n"
          ]
        },
        {
          "output_type": "stream",
          "name": "stdout",
          "text": [
            "\b\b\b\b\b\b\b\b\b\b\b\b\b\b\b\b\b\b\b\b\b\b\b\b\b\b\b\b\b\b\b\b\b\b\b\b\b\b\b\b\b\b\b\b\b\b\b\b\b\b\b\b\b\b\b\b\b\b\b\b\b\b\b\b\b\b\b\b\b\b\b\b\b\b\b\b\b\b\b\b\b\b\b\b\b\b\b\b\r157/157 [==============================] - 1s 7ms/step - loss: 5.5434e-07 - accuracy: 1.0000 - lr: 3.0000e-05\n",
            "Epoch 178/200\n",
            "151/157 [===========================>..] - ETA: 0s - loss: 8.1707e-07 - accuracy: 1.0000"
          ]
        },
        {
          "output_type": "stream",
          "name": "stderr",
          "text": [
            "WARNING:tensorflow:Early stopping conditioned on metric `val_loss` which is not available. Available metrics are: loss,accuracy\n",
            "WARNING:tensorflow:Learning rate reduction is conditioned on metric `val_loss` which is not available. Available metrics are: loss,accuracy,lr\n"
          ]
        },
        {
          "output_type": "stream",
          "name": "stdout",
          "text": [
            "\b\b\b\b\b\b\b\b\b\b\b\b\b\b\b\b\b\b\b\b\b\b\b\b\b\b\b\b\b\b\b\b\b\b\b\b\b\b\b\b\b\b\b\b\b\b\b\b\b\b\b\b\b\b\b\b\b\b\b\b\b\b\b\b\b\b\b\b\b\b\b\b\b\b\b\b\b\b\b\b\b\b\b\b\b\b\b\b\r157/157 [==============================] - 1s 8ms/step - loss: 7.9044e-07 - accuracy: 1.0000 - lr: 3.0000e-05\n",
            "Epoch 179/200\n",
            "155/157 [============================>.] - ETA: 0s - loss: 1.4144e-07 - accuracy: 1.0000"
          ]
        },
        {
          "output_type": "stream",
          "name": "stderr",
          "text": [
            "WARNING:tensorflow:Early stopping conditioned on metric `val_loss` which is not available. Available metrics are: loss,accuracy\n",
            "WARNING:tensorflow:Learning rate reduction is conditioned on metric `val_loss` which is not available. Available metrics are: loss,accuracy,lr\n"
          ]
        },
        {
          "output_type": "stream",
          "name": "stdout",
          "text": [
            "\b\b\b\b\b\b\b\b\b\b\b\b\b\b\b\b\b\b\b\b\b\b\b\b\b\b\b\b\b\b\b\b\b\b\b\b\b\b\b\b\b\b\b\b\b\b\b\b\b\b\b\b\b\b\b\b\b\b\b\b\b\b\b\b\b\b\b\b\b\b\b\b\b\b\b\b\b\b\b\b\b\b\b\b\b\b\b\b\r157/157 [==============================] - 1s 8ms/step - loss: 1.4150e-07 - accuracy: 1.0000 - lr: 3.0000e-05\n",
            "Epoch 180/200\n",
            "151/157 [===========================>..] - ETA: 0s - loss: 1.6819e-07 - accuracy: 1.0000"
          ]
        },
        {
          "output_type": "stream",
          "name": "stderr",
          "text": [
            "WARNING:tensorflow:Early stopping conditioned on metric `val_loss` which is not available. Available metrics are: loss,accuracy\n",
            "WARNING:tensorflow:Learning rate reduction is conditioned on metric `val_loss` which is not available. Available metrics are: loss,accuracy,lr\n"
          ]
        },
        {
          "output_type": "stream",
          "name": "stdout",
          "text": [
            "\b\b\b\b\b\b\b\b\b\b\b\b\b\b\b\b\b\b\b\b\b\b\b\b\b\b\b\b\b\b\b\b\b\b\b\b\b\b\b\b\b\b\b\b\b\b\b\b\b\b\b\b\b\b\b\b\b\b\b\b\b\b\b\b\b\b\b\b\b\b\b\b\b\b\b\b\b\b\b\b\b\b\b\b\b\b\b\b\r157/157 [==============================] - 1s 7ms/step - loss: 1.6408e-07 - accuracy: 1.0000 - lr: 3.0000e-05\n",
            "Epoch 181/200\n",
            "154/157 [============================>.] - ETA: 0s - loss: 1.7891e-07 - accuracy: 1.0000"
          ]
        },
        {
          "output_type": "stream",
          "name": "stderr",
          "text": [
            "WARNING:tensorflow:Early stopping conditioned on metric `val_loss` which is not available. Available metrics are: loss,accuracy\n",
            "WARNING:tensorflow:Learning rate reduction is conditioned on metric `val_loss` which is not available. Available metrics are: loss,accuracy,lr\n"
          ]
        },
        {
          "output_type": "stream",
          "name": "stdout",
          "text": [
            "\b\b\b\b\b\b\b\b\b\b\b\b\b\b\b\b\b\b\b\b\b\b\b\b\b\b\b\b\b\b\b\b\b\b\b\b\b\b\b\b\b\b\b\b\b\b\b\b\b\b\b\b\b\b\b\b\b\b\b\b\b\b\b\b\b\b\b\b\b\b\b\b\b\b\b\b\b\b\b\b\b\b\b\b\b\b\b\b\r157/157 [==============================] - 1s 8ms/step - loss: 1.7671e-07 - accuracy: 1.0000 - lr: 3.0000e-05\n",
            "Epoch 182/200\n",
            "150/157 [===========================>..] - ETA: 0s - loss: 9.3091e-08 - accuracy: 1.0000"
          ]
        },
        {
          "output_type": "stream",
          "name": "stderr",
          "text": [
            "WARNING:tensorflow:Early stopping conditioned on metric `val_loss` which is not available. Available metrics are: loss,accuracy\n",
            "WARNING:tensorflow:Learning rate reduction is conditioned on metric `val_loss` which is not available. Available metrics are: loss,accuracy,lr\n"
          ]
        },
        {
          "output_type": "stream",
          "name": "stdout",
          "text": [
            "\b\b\b\b\b\b\b\b\b\b\b\b\b\b\b\b\b\b\b\b\b\b\b\b\b\b\b\b\b\b\b\b\b\b\b\b\b\b\b\b\b\b\b\b\b\b\b\b\b\b\b\b\b\b\b\b\b\b\b\b\b\b\b\b\b\b\b\b\b\b\b\b\b\b\b\b\b\b\b\b\b\b\b\b\b\b\b\b\r157/157 [==============================] - 1s 7ms/step - loss: 9.0645e-08 - accuracy: 1.0000 - lr: 3.0000e-05\n",
            "Epoch 183/200\n",
            "157/157 [==============================] - ETA: 0s - loss: 1.7056e-07 - accuracy: 1.0000"
          ]
        },
        {
          "output_type": "stream",
          "name": "stderr",
          "text": [
            "WARNING:tensorflow:Early stopping conditioned on metric `val_loss` which is not available. Available metrics are: loss,accuracy\n",
            "WARNING:tensorflow:Learning rate reduction is conditioned on metric `val_loss` which is not available. Available metrics are: loss,accuracy,lr\n"
          ]
        },
        {
          "output_type": "stream",
          "name": "stdout",
          "text": [
            "\b\b\b\b\b\b\b\b\b\b\b\b\b\b\b\b\b\b\b\b\b\b\b\b\b\b\b\b\b\b\b\b\b\b\b\b\b\b\b\b\b\b\b\b\b\b\b\b\b\b\b\b\b\b\b\b\b\b\b\b\b\b\b\b\b\b\b\b\b\b\b\b\b\b\b\b\b\b\b\b\b\b\b\b\b\b\b\b\r157/157 [==============================] - 1s 8ms/step - loss: 1.7056e-07 - accuracy: 1.0000 - lr: 3.0000e-05\n",
            "Epoch 184/200\n",
            "154/157 [============================>.] - ETA: 0s - loss: 3.9420e-07 - accuracy: 1.0000"
          ]
        },
        {
          "output_type": "stream",
          "name": "stderr",
          "text": [
            "WARNING:tensorflow:Early stopping conditioned on metric `val_loss` which is not available. Available metrics are: loss,accuracy\n",
            "WARNING:tensorflow:Learning rate reduction is conditioned on metric `val_loss` which is not available. Available metrics are: loss,accuracy,lr\n"
          ]
        },
        {
          "output_type": "stream",
          "name": "stdout",
          "text": [
            "\b\b\b\b\b\b\b\b\b\b\b\b\b\b\b\b\b\b\b\b\b\b\b\b\b\b\b\b\b\b\b\b\b\b\b\b\b\b\b\b\b\b\b\b\b\b\b\b\b\b\b\b\b\b\b\b\b\b\b\b\b\b\b\b\b\b\b\b\b\b\b\b\b\b\b\b\b\b\b\b\b\b\b\b\b\b\b\b\r157/157 [==============================] - 1s 8ms/step - loss: 3.8790e-07 - accuracy: 1.0000 - lr: 3.0000e-05\n",
            "Epoch 185/200\n",
            "152/157 [============================>.] - ETA: 0s - loss: 1.7313e-07 - accuracy: 1.0000"
          ]
        },
        {
          "output_type": "stream",
          "name": "stderr",
          "text": [
            "WARNING:tensorflow:Early stopping conditioned on metric `val_loss` which is not available. Available metrics are: loss,accuracy\n",
            "WARNING:tensorflow:Learning rate reduction is conditioned on metric `val_loss` which is not available. Available metrics are: loss,accuracy,lr\n"
          ]
        },
        {
          "output_type": "stream",
          "name": "stdout",
          "text": [
            "\b\b\b\b\b\b\b\b\b\b\b\b\b\b\b\b\b\b\b\b\b\b\b\b\b\b\b\b\b\b\b\b\b\b\b\b\b\b\b\b\b\b\b\b\b\b\b\b\b\b\b\b\b\b\b\b\b\b\b\b\b\b\b\b\b\b\b\b\b\b\b\b\b\b\b\b\b\b\b\b\b\b\b\b\b\b\b\b\r157/157 [==============================] - 1s 7ms/step - loss: 1.7073e-07 - accuracy: 1.0000 - lr: 3.0000e-05\n",
            "Epoch 186/200\n",
            "151/157 [===========================>..] - ETA: 0s - loss: 3.5514e-07 - accuracy: 1.0000"
          ]
        },
        {
          "output_type": "stream",
          "name": "stderr",
          "text": [
            "WARNING:tensorflow:Early stopping conditioned on metric `val_loss` which is not available. Available metrics are: loss,accuracy\n",
            "WARNING:tensorflow:Learning rate reduction is conditioned on metric `val_loss` which is not available. Available metrics are: loss,accuracy,lr\n"
          ]
        },
        {
          "output_type": "stream",
          "name": "stdout",
          "text": [
            "\b\b\b\b\b\b\b\b\b\b\b\b\b\b\b\b\b\b\b\b\b\b\b\b\b\b\b\b\b\b\b\b\b\b\b\b\b\b\b\b\b\b\b\b\b\b\b\b\b\b\b\b\b\b\b\b\b\b\b\b\b\b\b\b\b\b\b\b\b\b\b\b\b\b\b\b\b\b\b\b\b\b\b\b\b\b\b\b\r157/157 [==============================] - 1s 8ms/step - loss: 3.4567e-07 - accuracy: 1.0000 - lr: 3.0000e-05\n",
            "Epoch 187/200\n",
            "154/157 [============================>.] - ETA: 0s - loss: 1.0837e-07 - accuracy: 1.0000"
          ]
        },
        {
          "output_type": "stream",
          "name": "stderr",
          "text": [
            "WARNING:tensorflow:Early stopping conditioned on metric `val_loss` which is not available. Available metrics are: loss,accuracy\n",
            "WARNING:tensorflow:Learning rate reduction is conditioned on metric `val_loss` which is not available. Available metrics are: loss,accuracy,lr\n"
          ]
        },
        {
          "output_type": "stream",
          "name": "stdout",
          "text": [
            "\b\b\b\b\b\b\b\b\b\b\b\b\b\b\b\b\b\b\b\b\b\b\b\b\b\b\b\b\b\b\b\b\b\b\b\b\b\b\b\b\b\b\b\b\b\b\b\b\b\b\b\b\b\b\b\b\b\b\b\b\b\b\b\b\b\b\b\b\b\b\b\b\b\b\b\b\b\b\b\b\b\b\b\b\b\b\b\b\r157/157 [==============================] - 1s 8ms/step - loss: 1.0705e-07 - accuracy: 1.0000 - lr: 3.0000e-05\n",
            "Epoch 188/200\n",
            "155/157 [============================>.] - ETA: 0s - loss: 1.1783e-07 - accuracy: 1.0000"
          ]
        },
        {
          "output_type": "stream",
          "name": "stderr",
          "text": [
            "WARNING:tensorflow:Early stopping conditioned on metric `val_loss` which is not available. Available metrics are: loss,accuracy\n",
            "WARNING:tensorflow:Learning rate reduction is conditioned on metric `val_loss` which is not available. Available metrics are: loss,accuracy,lr\n"
          ]
        },
        {
          "output_type": "stream",
          "name": "stdout",
          "text": [
            "\b\b\b\b\b\b\b\b\b\b\b\b\b\b\b\b\b\b\b\b\b\b\b\b\b\b\b\b\b\b\b\b\b\b\b\b\b\b\b\b\b\b\b\b\b\b\b\b\b\b\b\b\b\b\b\b\b\b\b\b\b\b\b\b\b\b\b\b\b\b\b\b\b\b\b\b\b\b\b\b\b\b\b\b\b\b\b\b\r157/157 [==============================] - 1s 8ms/step - loss: 1.1803e-07 - accuracy: 1.0000 - lr: 3.0000e-05\n",
            "Epoch 189/200\n",
            "154/157 [============================>.] - ETA: 0s - loss: 1.3108e-07 - accuracy: 1.0000"
          ]
        },
        {
          "output_type": "stream",
          "name": "stderr",
          "text": [
            "WARNING:tensorflow:Early stopping conditioned on metric `val_loss` which is not available. Available metrics are: loss,accuracy\n",
            "WARNING:tensorflow:Learning rate reduction is conditioned on metric `val_loss` which is not available. Available metrics are: loss,accuracy,lr\n"
          ]
        },
        {
          "output_type": "stream",
          "name": "stdout",
          "text": [
            "\b\b\b\b\b\b\b\b\b\b\b\b\b\b\b\b\b\b\b\b\b\b\b\b\b\b\b\b\b\b\b\b\b\b\b\b\b\b\b\b\b\b\b\b\b\b\b\b\b\b\b\b\b\b\b\b\b\b\b\b\b\b\b\b\b\b\b\b\b\b\b\b\b\b\b\b\b\b\b\b\b\b\b\b\b\b\b\b\r157/157 [==============================] - 1s 8ms/step - loss: 1.2947e-07 - accuracy: 1.0000 - lr: 3.0000e-05\n",
            "Epoch 190/200\n",
            "157/157 [==============================] - ETA: 0s - loss: 1.9122e-07 - accuracy: 1.0000"
          ]
        },
        {
          "output_type": "stream",
          "name": "stderr",
          "text": [
            "WARNING:tensorflow:Early stopping conditioned on metric `val_loss` which is not available. Available metrics are: loss,accuracy\n",
            "WARNING:tensorflow:Learning rate reduction is conditioned on metric `val_loss` which is not available. Available metrics are: loss,accuracy,lr\n"
          ]
        },
        {
          "output_type": "stream",
          "name": "stdout",
          "text": [
            "\b\b\b\b\b\b\b\b\b\b\b\b\b\b\b\b\b\b\b\b\b\b\b\b\b\b\b\b\b\b\b\b\b\b\b\b\b\b\b\b\b\b\b\b\b\b\b\b\b\b\b\b\b\b\b\b\b\b\b\b\b\b\b\b\b\b\b\b\b\b\b\b\b\b\b\b\b\b\b\b\b\b\b\b\b\b\b\b\r157/157 [==============================] - 1s 8ms/step - loss: 1.9122e-07 - accuracy: 1.0000 - lr: 3.0000e-05\n",
            "Epoch 191/200\n",
            "157/157 [==============================] - ETA: 0s - loss: 9.2360e-08 - accuracy: 1.0000"
          ]
        },
        {
          "output_type": "stream",
          "name": "stderr",
          "text": [
            "WARNING:tensorflow:Early stopping conditioned on metric `val_loss` which is not available. Available metrics are: loss,accuracy\n",
            "WARNING:tensorflow:Learning rate reduction is conditioned on metric `val_loss` which is not available. Available metrics are: loss,accuracy,lr\n"
          ]
        },
        {
          "output_type": "stream",
          "name": "stdout",
          "text": [
            "\b\b\b\b\b\b\b\b\b\b\b\b\b\b\b\b\b\b\b\b\b\b\b\b\b\b\b\b\b\b\b\b\b\b\b\b\b\b\b\b\b\b\b\b\b\b\b\b\b\b\b\b\b\b\b\b\b\b\b\b\b\b\b\b\b\b\b\b\b\b\b\b\b\b\b\b\b\b\b\b\b\b\b\b\b\b\b\b\r157/157 [==============================] - 1s 7ms/step - loss: 9.2360e-08 - accuracy: 1.0000 - lr: 3.0000e-05\n",
            "Epoch 192/200\n",
            "156/157 [============================>.] - ETA: 0s - loss: 1.7439e-07 - accuracy: 1.0000"
          ]
        },
        {
          "output_type": "stream",
          "name": "stderr",
          "text": [
            "WARNING:tensorflow:Early stopping conditioned on metric `val_loss` which is not available. Available metrics are: loss,accuracy\n",
            "WARNING:tensorflow:Learning rate reduction is conditioned on metric `val_loss` which is not available. Available metrics are: loss,accuracy,lr\n"
          ]
        },
        {
          "output_type": "stream",
          "name": "stdout",
          "text": [
            "\b\b\b\b\b\b\b\b\b\b\b\b\b\b\b\b\b\b\b\b\b\b\b\b\b\b\b\b\b\b\b\b\b\b\b\b\b\b\b\b\b\b\b\b\b\b\b\b\b\b\b\b\b\b\b\b\b\b\b\b\b\b\b\b\b\b\b\b\b\b\b\b\b\b\b\b\b\b\b\b\b\b\b\b\b\b\b\b\r157/157 [==============================] - 1s 8ms/step - loss: 1.7391e-07 - accuracy: 1.0000 - lr: 3.0000e-05\n",
            "Epoch 193/200\n",
            "157/157 [==============================] - ETA: 0s - loss: 1.4856e-07 - accuracy: 1.0000"
          ]
        },
        {
          "output_type": "stream",
          "name": "stderr",
          "text": [
            "WARNING:tensorflow:Early stopping conditioned on metric `val_loss` which is not available. Available metrics are: loss,accuracy\n",
            "WARNING:tensorflow:Learning rate reduction is conditioned on metric `val_loss` which is not available. Available metrics are: loss,accuracy,lr\n"
          ]
        },
        {
          "output_type": "stream",
          "name": "stdout",
          "text": [
            "\b\b\b\b\b\b\b\b\b\b\b\b\b\b\b\b\b\b\b\b\b\b\b\b\b\b\b\b\b\b\b\b\b\b\b\b\b\b\b\b\b\b\b\b\b\b\b\b\b\b\b\b\b\b\b\b\b\b\b\b\b\b\b\b\b\b\b\b\b\b\b\b\b\b\b\b\b\b\b\b\b\b\b\b\b\b\b\b\r157/157 [==============================] - 1s 8ms/step - loss: 1.4856e-07 - accuracy: 1.0000 - lr: 3.0000e-05\n",
            "Epoch 194/200\n",
            "156/157 [============================>.] - ETA: 0s - loss: 1.0723e-07 - accuracy: 1.0000"
          ]
        },
        {
          "output_type": "stream",
          "name": "stderr",
          "text": [
            "WARNING:tensorflow:Early stopping conditioned on metric `val_loss` which is not available. Available metrics are: loss,accuracy\n",
            "WARNING:tensorflow:Learning rate reduction is conditioned on metric `val_loss` which is not available. Available metrics are: loss,accuracy,lr\n"
          ]
        },
        {
          "output_type": "stream",
          "name": "stdout",
          "text": [
            "\b\b\b\b\b\b\b\b\b\b\b\b\b\b\b\b\b\b\b\b\b\b\b\b\b\b\b\b\b\b\b\b\b\b\b\b\b\b\b\b\b\b\b\b\b\b\b\b\b\b\b\b\b\b\b\b\b\b\b\b\b\b\b\b\b\b\b\b\b\b\b\b\b\b\b\b\b\b\b\b\b\b\b\b\b\b\b\b\r157/157 [==============================] - 1s 8ms/step - loss: 1.0690e-07 - accuracy: 1.0000 - lr: 3.0000e-05\n",
            "Epoch 195/200\n",
            "155/157 [============================>.] - ETA: 0s - loss: 7.5717e-08 - accuracy: 1.0000"
          ]
        },
        {
          "output_type": "stream",
          "name": "stderr",
          "text": [
            "WARNING:tensorflow:Early stopping conditioned on metric `val_loss` which is not available. Available metrics are: loss,accuracy\n",
            "WARNING:tensorflow:Learning rate reduction is conditioned on metric `val_loss` which is not available. Available metrics are: loss,accuracy,lr\n"
          ]
        },
        {
          "output_type": "stream",
          "name": "stdout",
          "text": [
            "\b\b\b\b\b\b\b\b\b\b\b\b\b\b\b\b\b\b\b\b\b\b\b\b\b\b\b\b\b\b\b\b\b\b\b\b\b\b\b\b\b\b\b\b\b\b\b\b\b\b\b\b\b\b\b\b\b\b\b\b\b\b\b\b\b\b\b\b\b\b\b\b\b\b\b\b\b\b\b\b\b\b\b\b\b\b\b\b\r157/157 [==============================] - 1s 8ms/step - loss: 7.5663e-08 - accuracy: 1.0000 - lr: 3.0000e-05\n",
            "Epoch 196/200\n",
            "155/157 [============================>.] - ETA: 0s - loss: 1.7185e-07 - accuracy: 1.0000"
          ]
        },
        {
          "output_type": "stream",
          "name": "stderr",
          "text": [
            "WARNING:tensorflow:Early stopping conditioned on metric `val_loss` which is not available. Available metrics are: loss,accuracy\n",
            "WARNING:tensorflow:Learning rate reduction is conditioned on metric `val_loss` which is not available. Available metrics are: loss,accuracy,lr\n"
          ]
        },
        {
          "output_type": "stream",
          "name": "stdout",
          "text": [
            "\b\b\b\b\b\b\b\b\b\b\b\b\b\b\b\b\b\b\b\b\b\b\b\b\b\b\b\b\b\b\b\b\b\b\b\b\b\b\b\b\b\b\b\b\b\b\b\b\b\b\b\b\b\b\b\b\b\b\b\b\b\b\b\b\b\b\b\b\b\b\b\b\b\b\b\b\b\b\b\b\b\b\b\b\b\b\b\b\r157/157 [==============================] - 1s 8ms/step - loss: 1.7073e-07 - accuracy: 1.0000 - lr: 3.0000e-05\n",
            "Epoch 197/200\n",
            "155/157 [============================>.] - ETA: 0s - loss: 9.4651e-08 - accuracy: 1.0000"
          ]
        },
        {
          "output_type": "stream",
          "name": "stderr",
          "text": [
            "WARNING:tensorflow:Early stopping conditioned on metric `val_loss` which is not available. Available metrics are: loss,accuracy\n",
            "WARNING:tensorflow:Learning rate reduction is conditioned on metric `val_loss` which is not available. Available metrics are: loss,accuracy,lr\n"
          ]
        },
        {
          "output_type": "stream",
          "name": "stdout",
          "text": [
            "\b\b\b\b\b\b\b\b\b\b\b\b\b\b\b\b\b\b\b\b\b\b\b\b\b\b\b\b\b\b\b\b\b\b\b\b\b\b\b\b\b\b\b\b\b\b\b\b\b\b\b\b\b\b\b\b\b\b\b\b\b\b\b\b\b\b\b\b\b\b\b\b\b\b\b\b\b\b\b\b\b\b\b\b\b\b\b\b\r157/157 [==============================] - 1s 8ms/step - loss: 9.3824e-08 - accuracy: 1.0000 - lr: 3.0000e-05\n",
            "Epoch 198/200\n",
            "155/157 [============================>.] - ETA: 0s - loss: 1.0175e-07 - accuracy: 1.0000"
          ]
        },
        {
          "output_type": "stream",
          "name": "stderr",
          "text": [
            "WARNING:tensorflow:Early stopping conditioned on metric `val_loss` which is not available. Available metrics are: loss,accuracy\n",
            "WARNING:tensorflow:Learning rate reduction is conditioned on metric `val_loss` which is not available. Available metrics are: loss,accuracy,lr\n"
          ]
        },
        {
          "output_type": "stream",
          "name": "stdout",
          "text": [
            "\b\b\b\b\b\b\b\b\b\b\b\b\b\b\b\b\b\b\b\b\b\b\b\b\b\b\b\b\b\b\b\b\b\b\b\b\b\b\b\b\b\b\b\b\b\b\b\b\b\b\b\b\b\b\b\b\b\b\b\b\b\b\b\b\b\b\b\b\b\b\b\b\b\b\b\b\b\b\b\b\b\b\b\b\b\b\b\b\r157/157 [==============================] - 1s 8ms/step - loss: 1.0088e-07 - accuracy: 1.0000 - lr: 3.0000e-05\n",
            "Epoch 199/200\n",
            "156/157 [============================>.] - ETA: 0s - loss: 8.5412e-08 - accuracy: 1.0000"
          ]
        },
        {
          "output_type": "stream",
          "name": "stderr",
          "text": [
            "WARNING:tensorflow:Early stopping conditioned on metric `val_loss` which is not available. Available metrics are: loss,accuracy\n",
            "WARNING:tensorflow:Learning rate reduction is conditioned on metric `val_loss` which is not available. Available metrics are: loss,accuracy,lr\n"
          ]
        },
        {
          "output_type": "stream",
          "name": "stdout",
          "text": [
            "\b\b\b\b\b\b\b\b\b\b\b\b\b\b\b\b\b\b\b\b\b\b\b\b\b\b\b\b\b\b\b\b\b\b\b\b\b\b\b\b\b\b\b\b\b\b\b\b\b\b\b\b\b\b\b\b\b\b\b\b\b\b\b\b\b\b\b\b\b\b\b\b\b\b\b\b\b\b\b\b\b\b\b\b\b\b\b\b\r157/157 [==============================] - 1s 7ms/step - loss: 8.5124e-08 - accuracy: 1.0000 - lr: 3.0000e-05\n",
            "Epoch 200/200\n",
            "155/157 [============================>.] - ETA: 0s - loss: 5.2529e-08 - accuracy: 1.0000"
          ]
        },
        {
          "output_type": "stream",
          "name": "stderr",
          "text": [
            "WARNING:tensorflow:Early stopping conditioned on metric `val_loss` which is not available. Available metrics are: loss,accuracy\n",
            "WARNING:tensorflow:Learning rate reduction is conditioned on metric `val_loss` which is not available. Available metrics are: loss,accuracy,lr\n"
          ]
        },
        {
          "output_type": "stream",
          "name": "stdout",
          "text": [
            "\b\b\b\b\b\b\b\b\b\b\b\b\b\b\b\b\b\b\b\b\b\b\b\b\b\b\b\b\b\b\b\b\b\b\b\b\b\b\b\b\b\b\b\b\b\b\b\b\b\b\b\b\b\b\b\b\b\b\b\b\b\b\b\b\b\b\b\b\b\b\b\b\b\b\b\b\b\b\b\b\b\b\b\b\b\b\b\b\r157/157 [==============================] - 1s 8ms/step - loss: 5.3416e-08 - accuracy: 1.0000 - lr: 3.0000e-05\n"
          ]
        }
      ]
    },
    {
      "cell_type": "markdown",
      "source": [
        "# log loss"
      ],
      "metadata": {
        "id": "I9948x1Djfoj"
      }
    },
    {
      "cell_type": "code",
      "source": [
        "CNN1_network_predictions = CNN1_network.predict(padded_clean_text_t_stem)"
      ],
      "metadata": {
        "id": "r2U0y5XMjfoj"
      },
      "execution_count": null,
      "outputs": []
    },
    {
      "cell_type": "code",
      "source": [
        "from sklearn.metrics import log_loss\n",
        "log_loss_test= log_loss(label_twoDimension_t,CNN1_network_predictions)\n",
        "log_loss_test"
      ],
      "metadata": {
        "colab": {
          "base_uri": "https://localhost:8080/"
        },
        "outputId": "3cad5a63-e831-40d2-e31d-22bbde5ff8b0",
        "id": "V0451GbNjfoj"
      },
      "execution_count": null,
      "outputs": [
        {
          "output_type": "execute_result",
          "data": {
            "text/plain": [
              "3.580068607747998"
            ]
          },
          "metadata": {},
          "execution_count": 66
        }
      ]
    },
    {
      "cell_type": "markdown",
      "source": [
        "# Classification Report\n"
      ],
      "metadata": {
        "id": "uJxWQyy5jfoj"
      }
    },
    {
      "cell_type": "code",
      "source": [
        "predictions = np.zeros_like(CNN1_network_predictions)\n",
        "predictions[np.arange(len(CNN1_network_predictions)), CNN1_network_predictions.argmax(1)] = 1\n",
        "\n"
      ],
      "metadata": {
        "id": "Cfk9W6kSjfok"
      },
      "execution_count": null,
      "outputs": []
    },
    {
      "cell_type": "code",
      "source": [
        "\n",
        "\n",
        "predictionInteger=(np.argmax(predictions, axis=1))\n",
        "predictionInteger\n",
        "\n"
      ],
      "metadata": {
        "colab": {
          "base_uri": "https://localhost:8080/"
        },
        "outputId": "60868dfd-606e-4f78-affc-0c92006c24fa",
        "id": "w1lRbf3Sjfok"
      },
      "execution_count": null,
      "outputs": [
        {
          "output_type": "execute_result",
          "data": {
            "text/plain": [
              "array([1, 1, 1, ..., 1, 1, 0])"
            ]
          },
          "metadata": {},
          "execution_count": 68
        }
      ]
    },
    {
      "cell_type": "code",
      "source": [
        "\n",
        "\n",
        "pred_label = np.array(predictionInteger)\n",
        "df = pd.DataFrame(data=pred_label , columns=[\"task1\"])\n",
        "print(df)\n",
        "\n"
      ],
      "metadata": {
        "colab": {
          "base_uri": "https://localhost:8080/"
        },
        "outputId": "9f54fa8f-5323-4ee6-9ace-a7222fe0ca39",
        "id": "Y7s4e_UOjfok"
      },
      "execution_count": null,
      "outputs": [
        {
          "output_type": "stream",
          "name": "stdout",
          "text": [
            "      task1\n",
            "0         1\n",
            "1         1\n",
            "2         1\n",
            "3         0\n",
            "4         1\n",
            "...     ...\n",
            "3026      1\n",
            "3027      1\n",
            "3028      1\n",
            "3029      1\n",
            "3030      0\n",
            "\n",
            "[3031 rows x 1 columns]\n"
          ]
        }
      ]
    },
    {
      "cell_type": "code",
      "source": [
        "df.to_csv(\"NSIT_submission_Train_GERMEVAL2018_Test_GERMEVAL2019_TASK_A_DE_A.csv\", index=False)"
      ],
      "metadata": {
        "id": "Ew39ItNYjfok"
      },
      "execution_count": null,
      "outputs": []
    },
    {
      "cell_type": "code",
      "source": [
        "\n",
        "\n",
        "from sklearn.metrics import classification_report\n",
        "print(classification_report(label_twoDimension_t,predictions))\n",
        "\n"
      ],
      "metadata": {
        "colab": {
          "base_uri": "https://localhost:8080/"
        },
        "outputId": "170e6c26-5050-4118-f607-b5cbdea044a7",
        "id": "8o9H5kswjfol"
      },
      "execution_count": null,
      "outputs": [
        {
          "output_type": "stream",
          "name": "stdout",
          "text": [
            "              precision    recall  f1-score   support\n",
            "\n",
            "           0       0.53      0.38      0.45       970\n",
            "           1       0.74      0.84      0.79      2061\n",
            "\n",
            "   micro avg       0.69      0.69      0.69      3031\n",
            "   macro avg       0.64      0.61      0.62      3031\n",
            "weighted avg       0.67      0.69      0.68      3031\n",
            " samples avg       0.69      0.69      0.69      3031\n",
            "\n"
          ]
        }
      ]
    },
    {
      "cell_type": "markdown",
      "source": [
        "# Epoch v/s Loss Plot\n"
      ],
      "metadata": {
        "id": "LZoQCPRmjfol"
      }
    },
    {
      "cell_type": "code",
      "source": [
        "\n",
        "\n",
        "from matplotlib import pyplot as plt\n",
        "plt.plot(hist.history[\"loss\"],color = 'red', label = 'train_loss')\n",
        "#plt.plot(hist.history[\"val_loss\"],color = 'blue', label = 'val_loss')\n",
        "plt.title('Loss Visualisation')\n",
        "plt.xlabel('Epochs')\n",
        "plt.ylabel('Loss')\n",
        "plt.legend()\n",
        "plt.savefig('CNN1_Train_GERMEVAL2018_Test_GERMEVAL2019_TASK_A_Ger_lossPlot.pdf',dpi=1000)\n",
        "\n",
        "from google.colab import files\n",
        "files.download('CNN1_Train_GERMEVAL2018_Test_GERMEVAL2019_TASK_A_Ger_lossPlot.pdf') \n",
        "\n"
      ],
      "metadata": {
        "colab": {
          "base_uri": "https://localhost:8080/"
        },
        "outputId": "70d494af-6c30-4b79-d8e9-5345d1aefa0f",
        "id": "hmzY0jEpjfol"
      },
      "execution_count": null,
      "outputs": [
        {
          "output_type": "display_data",
          "data": {
            "text/plain": [
              "<IPython.core.display.Javascript object>"
            ],
            "application/javascript": [
              "\n",
              "    async function download(id, filename, size) {\n",
              "      if (!google.colab.kernel.accessAllowed) {\n",
              "        return;\n",
              "      }\n",
              "      const div = document.createElement('div');\n",
              "      const label = document.createElement('label');\n",
              "      label.textContent = `Downloading \"${filename}\": `;\n",
              "      div.appendChild(label);\n",
              "      const progress = document.createElement('progress');\n",
              "      progress.max = size;\n",
              "      div.appendChild(progress);\n",
              "      document.body.appendChild(div);\n",
              "\n",
              "      const buffers = [];\n",
              "      let downloaded = 0;\n",
              "\n",
              "      const channel = await google.colab.kernel.comms.open(id);\n",
              "      // Send a message to notify the kernel that we're ready.\n",
              "      channel.send({})\n",
              "\n",
              "      for await (const message of channel.messages) {\n",
              "        // Send a message to notify the kernel that we're ready.\n",
              "        channel.send({})\n",
              "        if (message.buffers) {\n",
              "          for (const buffer of message.buffers) {\n",
              "            buffers.push(buffer);\n",
              "            downloaded += buffer.byteLength;\n",
              "            progress.value = downloaded;\n",
              "          }\n",
              "        }\n",
              "      }\n",
              "      const blob = new Blob(buffers, {type: 'application/binary'});\n",
              "      const a = document.createElement('a');\n",
              "      a.href = window.URL.createObjectURL(blob);\n",
              "      a.download = filename;\n",
              "      div.appendChild(a);\n",
              "      a.click();\n",
              "      div.remove();\n",
              "    }\n",
              "  "
            ]
          },
          "metadata": {}
        },
        {
          "output_type": "display_data",
          "data": {
            "text/plain": [
              "<IPython.core.display.Javascript object>"
            ],
            "application/javascript": [
              "download(\"download_3c4d8cf4-5ce1-4dfa-8eb0-e0b26cf7f73e\", \"CNN1_Train_GERMEVAL2018_Test_GERMEVAL2019_TASK_A_Ger_lossPlot.pdf\", 11275)"
            ]
          },
          "metadata": {}
        },
        {
          "output_type": "display_data",
          "data": {
            "text/plain": [
              "<Figure size 432x288 with 1 Axes>"
            ],
            "image/png": "[encoded data removed]"
          },
          "metadata": {
            "needs_background": "light"
          }
        }
      ]
    },
    {
      "cell_type": "markdown",
      "source": [
        "# Epoch v/s Accuracy Plot\n"
      ],
      "metadata": {
        "id": "vm-GzqU2jfom"
      }
    },
    {
      "cell_type": "code",
      "source": [
        "\n",
        "\n",
        "plt.plot(hist.history[\"accuracy\"],color = 'red', label = 'train_accuracy')\n",
        "#plt.plot(hist.history[\"val_accuracy\"],color = 'blue', label = 'val_accuracy')\n",
        "plt.title('Accuracy Visualisation')\n",
        "plt.xlabel('Epochs')\n",
        "plt.ylabel('Accuracy')\n",
        "plt.legend()\n",
        "plt.savefig('CNN1_Train_GERMEVAL2018_Test_GERMEVAL2019_TASK_A_Ger_accuracyPlot.pdf',dpi=1000)\n",
        "files.download('CNN1_Train_GERMEVAL2018_Test_GERMEVAL2019_TASK_A_Ger_accuracyPlot.pdf') \n",
        "\n"
      ],
      "metadata": {
        "colab": {
          "base_uri": "https://localhost:8080/"
        },
        "outputId": "1095f362-e339-4464-ea44-b3507aed20f6",
        "id": "4HJmaEDRjfom"
      },
      "execution_count": null,
      "outputs": [
        {
          "output_type": "display_data",
          "data": {
            "text/plain": [
              "<IPython.core.display.Javascript object>"
            ],
            "application/javascript": [
              "\n",
              "    async function download(id, filename, size) {\n",
              "      if (!google.colab.kernel.accessAllowed) {\n",
              "        return;\n",
              "      }\n",
              "      const div = document.createElement('div');\n",
              "      const label = document.createElement('label');\n",
              "      label.textContent = `Downloading \"${filename}\": `;\n",
              "      div.appendChild(label);\n",
              "      const progress = document.createElement('progress');\n",
              "      progress.max = size;\n",
              "      div.appendChild(progress);\n",
              "      document.body.appendChild(div);\n",
              "\n",
              "      const buffers = [];\n",
              "      let downloaded = 0;\n",
              "\n",
              "      const channel = await google.colab.kernel.comms.open(id);\n",
              "      // Send a message to notify the kernel that we're ready.\n",
              "      channel.send({})\n",
              "\n",
              "      for await (const message of channel.messages) {\n",
              "        // Send a message to notify the kernel that we're ready.\n",
              "        channel.send({})\n",
              "        if (message.buffers) {\n",
              "          for (const buffer of message.buffers) {\n",
              "            buffers.push(buffer);\n",
              "            downloaded += buffer.byteLength;\n",
              "            progress.value = downloaded;\n",
              "          }\n",
              "        }\n",
              "      }\n",
              "      const blob = new Blob(buffers, {type: 'application/binary'});\n",
              "      const a = document.createElement('a');\n",
              "      a.href = window.URL.createObjectURL(blob);\n",
              "      a.download = filename;\n",
              "      div.appendChild(a);\n",
              "      a.click();\n",
              "      div.remove();\n",
              "    }\n",
              "  "
            ]
          },
          "metadata": {}
        },
        {
          "output_type": "display_data",
          "data": {
            "text/plain": [
              "<IPython.core.display.Javascript object>"
            ],
            "application/javascript": [
              "download(\"download_51fe4d68-4569-45aa-860d-dac41888b59b\", \"CNN1_Train_GERMEVAL2018_Test_GERMEVAL2019_TASK_A_Ger_accuracyPlot.pdf\", 11736)"
            ]
          },
          "metadata": {}
        },
        {
          "output_type": "display_data",
          "data": {
            "text/plain": [
              "<Figure size 432x288 with 1 Axes>"
            ],
            "image/png": "[encoded data removed]"
          },
          "metadata": {
            "needs_background": "light"
          }
        }
      ]
    },
    {
      "cell_type": "markdown",
      "source": [
        "# Area under Curve-ROC\n"
      ],
      "metadata": {
        "id": "A3zM8vzjjfom"
      }
    },
    {
      "cell_type": "code",
      "source": [
        "\n",
        "\n",
        "pred_train = CNN1_network.predict(padded_clean_text_stem)\n",
        "pred_test = CNN1_network.predict(padded_clean_text_t_stem)\n",
        "\n"
      ],
      "metadata": {
        "id": "Eyp8p53cjfon"
      },
      "execution_count": null,
      "outputs": []
    },
    {
      "cell_type": "code",
      "source": [
        "\n",
        "\n",
        "import numpy as np\n",
        "import matplotlib.pyplot as plt\n",
        "from itertools import cycle\n",
        "\n",
        "from sklearn import svm, datasets\n",
        "from sklearn.metrics import roc_curve, auc\n",
        "from sklearn.model_selection import train_test_split\n",
        "from sklearn.preprocessing import label_binarize\n",
        "from sklearn.multiclass import OneVsRestClassifier\n",
        "from scipy import interp\n",
        "\n",
        "def plot_AUC_ROC(y_true, y_pred):\n",
        "    n_classes = 2 #change this value according to class value\n",
        "\n",
        "    # Compute ROC curve and ROC area for each class\n",
        "    fpr = dict()\n",
        "    tpr = dict()\n",
        "    roc_auc = dict()\n",
        "    for i in range(n_classes):\n",
        "        fpr[i], tpr[i], _ = roc_curve(y_true[:, i], y_pred[:, i])\n",
        "        roc_auc[i] = auc(fpr[i], tpr[i])\n",
        "\n",
        "    # Compute micro-average ROC curve and ROC area\n",
        "    fpr[\"micro\"], tpr[\"micro\"], _ = roc_curve(y_true.ravel(), y_pred.ravel())\n",
        "    roc_auc[\"micro\"] = auc(fpr[\"micro\"], tpr[\"micro\"])\n",
        "############################################################################################\n",
        "    lw = 2\n",
        "    # Compute macro-average ROC curve and ROC area\n",
        "\n",
        "    # First aggregate all false positive rates\n",
        "    all_fpr = np.unique(np.concatenate([fpr[i] for i in range(n_classes)]))\n",
        "\n",
        "    # Then interpolate all ROC curves at this points\n",
        "    mean_tpr = np.zeros_like(all_fpr)\n",
        "    for i in range(n_classes):\n",
        "        mean_tpr += interp(all_fpr, fpr[i], tpr[i])\n",
        "\n",
        "    # Finally average it and compute AUC\n",
        "    mean_tpr /= n_classes\n",
        "\n",
        "    fpr[\"macro\"] = all_fpr\n",
        "    tpr[\"macro\"] = mean_tpr\n",
        "    roc_auc[\"macro\"] = auc(fpr[\"macro\"], tpr[\"macro\"])\n",
        "\n",
        "    # Plot all ROC curves\n",
        "    plt.figure()\n",
        "    \n",
        "    plt.plot(fpr[\"micro\"], tpr[\"micro\"],\n",
        "            label='micro-average ROC curve (area = {0:0.2f})'\n",
        "               ''.format(roc_auc[\"micro\"]),\n",
        "            color='deeppink', linestyle=':', linewidth=4)\n",
        "\n",
        "    plt.plot(fpr[\"macro\"], tpr[\"macro\"],\n",
        "            label='macro-average ROC curve (area = {0:0.2f})'\n",
        "               ''.format(roc_auc[\"macro\"]),\n",
        "            color='navy', linestyle=':', linewidth=4)\n",
        "    \n",
        "    colors = cycle(['aqua', 'darkorange'])\n",
        "    #classes_list1 = [\"DE\",\"NE\",\"DK\"]\n",
        "    classes_list1 = [\"Non-duplicate\",\"Duplicate\"]\n",
        "    for i, color,c in zip(range(n_classes), colors,classes_list1):\n",
        "        plt.plot(fpr[i], tpr[i], color=color, lw=lw,\n",
        "                label='{0} (AUC = {1:0.2f})'\n",
        "                ''.format(c, roc_auc[i]))\n",
        "\n",
        "    plt.plot([0, 1], [0, 1], 'k--', lw=lw)\n",
        "    plt.xlim([0.0, 1.0])\n",
        "    plt.ylim([0.0, 1.05])\n",
        "    plt.xlabel('False Positive Rate')\n",
        "    plt.ylabel('True Positive Rate')\n",
        "    plt.title('Receiver operating characteristic curve')\n",
        "    plt.legend(loc=\"lower right\")\n",
        "    #plt.show()\n",
        "    plt.savefig('CNN1_Train_GERMEVAL2018_Test_GERMEVAL2019_TASK_A_Ger_Area_RocPlot.pdf',dpi=1000)\n",
        "    files.download('CNN1_Train_GERMEVAL2018_Test_GERMEVAL2019_TASK_A_Ger_Area_RocPlot.pdf')\n",
        "\n",
        "  \n",
        "\n"
      ],
      "metadata": {
        "id": "J5T9liHbjfon"
      },
      "execution_count": null,
      "outputs": []
    },
    {
      "cell_type": "code",
      "source": [
        "plot_AUC_ROC(label_twoDimension_t,pred_test)"
      ],
      "metadata": {
        "colab": {
          "base_uri": "https://localhost:8080/"
        },
        "outputId": "e33f86fd-310c-4a8a-a9b8-98f155ba81de",
        "id": "4VxeGM0Hjfon"
      },
      "execution_count": null,
      "outputs": [
        {
          "output_type": "stream",
          "name": "stderr",
          "text": [
            "/usr/local/lib/python3.7/dist-packages/ipykernel_launcher.py:36: DeprecationWarning: scipy.interp is deprecated and will be removed in SciPy 2.0.0, use numpy.interp instead\n"
          ]
        },
        {
          "output_type": "display_data",
          "data": {
            "text/plain": [
              "<IPython.core.display.Javascript object>"
            ],
            "application/javascript": [
              "\n",
              "    async function download(id, filename, size) {\n",
              "      if (!google.colab.kernel.accessAllowed) {\n",
              "        return;\n",
              "      }\n",
              "      const div = document.createElement('div');\n",
              "      const label = document.createElement('label');\n",
              "      label.textContent = `Downloading \"${filename}\": `;\n",
              "      div.appendChild(label);\n",
              "      const progress = document.createElement('progress');\n",
              "      progress.max = size;\n",
              "      div.appendChild(progress);\n",
              "      document.body.appendChild(div);\n",
              "\n",
              "      const buffers = [];\n",
              "      let downloaded = 0;\n",
              "\n",
              "      const channel = await google.colab.kernel.comms.open(id);\n",
              "      // Send a message to notify the kernel that we're ready.\n",
              "      channel.send({})\n",
              "\n",
              "      for await (const message of channel.messages) {\n",
              "        // Send a message to notify the kernel that we're ready.\n",
              "        channel.send({})\n",
              "        if (message.buffers) {\n",
              "          for (const buffer of message.buffers) {\n",
              "            buffers.push(buffer);\n",
              "            downloaded += buffer.byteLength;\n",
              "            progress.value = downloaded;\n",
              "          }\n",
              "        }\n",
              "      }\n",
              "      const blob = new Blob(buffers, {type: 'application/binary'});\n",
              "      const a = document.createElement('a');\n",
              "      a.href = window.URL.createObjectURL(blob);\n",
              "      a.download = filename;\n",
              "      div.appendChild(a);\n",
              "      a.click();\n",
              "      div.remove();\n",
              "    }\n",
              "  "
            ]
          },
          "metadata": {}
        },
        {
          "output_type": "display_data",
          "data": {
            "text/plain": [
              "<IPython.core.display.Javascript object>"
            ],
            "application/javascript": [
              "download(\"download_fb2072d5-eadd-478b-851a-27a0b28a5af2\", \"CNN1_Train_GERMEVAL2018_Test_GERMEVAL2019_TASK_A_Ger_Area_RocPlot.pdf\", 37780)"
            ]
          },
          "metadata": {}
        },
        {
          "output_type": "display_data",
          "data": {
            "text/plain": [
              "<Figure size 432x288 with 1 Axes>"
            ],
            "image/png": "[encoded data removed]"
          },
          "metadata": {
            "needs_background": "light"
          }
        }
      ]
    }
  ]
}
