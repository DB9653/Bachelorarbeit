{
  "nbformat": 4,
  "nbformat_minor": 0,
  "metadata": {
    "colab": {
      "provenance": [],
      "include_colab_link": true
    },
    "kernelspec": {
      "name": "python3",
      "display_name": "Python 3"
    },
    "language_info": {
      "name": "python"
    },
    "accelerator": "GPU"
  },
  "cells": [
    {
      "cell_type": "markdown",
      "metadata": {
        "id": "view-in-github",
        "colab_type": "text"
      },
      "source": [
        "<a href=\"https://colab.research.google.com/github/DB9653/Bachelorarbeit/blob/main/NSIT_IIITDWD_(TrainH19_TestGE18).ipynb\" target=\"_parent\"><img src=\"https://colab.research.google.com/assets/colab-badge.svg\" alt=\"Open In Colab\"/></a>"
      ]
    },
    {
      "cell_type": "markdown",
      "source": [
        "https://github.com/roushan-raj/HASOC-2020/blob/master/Models/German%20Models/German%20Sub-task%20A.ipynb\n"
      ],
      "metadata": {
        "id": "8pdYFRmoIhyM"
      }
    },
    {
      "cell_type": "code",
      "source": [
        "import tensorflow as tf\n",
        "tf.test.gpu_device_name()"
      ],
      "metadata": {
        "colab": {
          "base_uri": "https://localhost:8080/",
          "height": 35
        },
        "id": "hof4s6snVN0W",
        "outputId": "4cedd837-c844-4060-b10c-a2b02fc8a9c0"
      },
      "execution_count": null,
      "outputs": [
        {
          "output_type": "execute_result",
          "data": {
            "text/plain": [
              "'/device:GPU:0'"
            ],
            "application/vnd.google.colaboratory.intrinsic+json": {
              "type": "string"
            }
          },
          "metadata": {},
          "execution_count": 1
        }
      ]
    },
    {
      "cell_type": "markdown",
      "source": [
        "\n",
        "# Dataset Reading\n"
      ],
      "metadata": {
        "id": "CU0P3rpqJMHH"
      }
    },
    {
      "cell_type": "code",
      "execution_count": null,
      "metadata": {
        "colab": {
          "base_uri": "https://localhost:8080/"
        },
        "id": "UtPbRsnBIVpd",
        "outputId": "7fabe501-75cd-444b-f973-2110f2fe18e1"
      },
      "outputs": [
        {
          "output_type": "execute_result",
          "data": {
            "text/plain": [
              "       text_id  \\\n",
              "0   hasoc_de_1   \n",
              "1   hasoc_de_2   \n",
              "2   hasoc_de_3   \n",
              "3   hasoc_de_4   \n",
              "4   hasoc_de_5   \n",
              "5   hasoc_de_6   \n",
              "6   hasoc_de_7   \n",
              "7   hasoc_de_8   \n",
              "8   hasoc_de_9   \n",
              "9  hasoc_de_10   \n",
              "\n",
              "                                                                                                                                                    text  \\\n",
              "0                                                                         Frank Rennicke – Ich bin stolz https://t.co/Cm6TD8w1k1 https://t.co/qynXso07Zn   \n",
              "1                                                                     ANSEHEN.....und danach bitte TEILEN...TEILEN....TEILEN.... https://t.co/z18lnbOWRQ   \n",
              "2  #Koeln Mohamed erkennt kein deutsches Recht sondern nur die #Scharia an. Das er den Kölner Dom kaputt machen wollte, war nur ein Scherz aber wenn ...   \n",
              "3  #SaudiArabien ist eine brutale islamische Diktatur und richtete kürzlich fünf Männer wegen ihre Homosexualität hin. Welche Konsequenzen hat das fü...   \n",
              "4  Bundespolizei #München hat im 1. Quartal 2019 rund 3.380 illegale Einreisen registriert, die Migranten stammten v. a. aus Nigeria, Afghanistan, Se...   \n",
              "5  #1EuropaFuerAlle oder wie es die #SPD heute noch bildhafteter formuliert hat:    Und willst Du nicht mein Bruder sein, so schlage ich Dir denn Sch...   \n",
              "6  #Hannover: Weil ihm die Freizeitgestaltung und ihr Umgang mit Männern nicht passt, tritt und schlägt Mustafa F. (26) auf seine ehemalige -nach isl...   \n",
              "7  #Deutschland 2019: Ort für die #EU-Wahlparty der #AfD wurde gerade gekündigt. Vermieter und Mieter wurden massiv von #Linksextremisten bedroht. Da...   \n",
              "8  #Innsbruck: Tirolerin und Türke knacken 2018 zahlreiche Automaten bei Auto-Waschanlagen und Tankstellen, anhand dort gefundener DNA kommt heraus, ...   \n",
              "9  #Wien: Vier Nigerianer bestellen teils hochpreisige Produkte unter falschen Namen, holen sie in Paketshops ab und behalten sie, ohne zu bezahlen -...   \n",
              "\n",
              "  task_1 task_2  \n",
              "0    NOT   NONE  \n",
              "1    NOT   NONE  \n",
              "2    NOT   NONE  \n",
              "3    NOT   NONE  \n",
              "4    NOT   NONE  \n",
              "5    NOT   NONE  \n",
              "6    NOT   NONE  \n",
              "7    NOT   NONE  \n",
              "8    NOT   NONE  \n",
              "9    NOT   NONE  "
            ],
            "text/html": [
              "\n",
              "  <div id=\"df-cd602ea8-e0e6-43f0-93b5-aa976d35e0bd\">\n",
              "    <div class=\"colab-df-container\">\n",
              "      <div>\n",
              "<style scoped>\n",
              "    .dataframe tbody tr th:only-of-type {\n",
              "        vertical-align: middle;\n",
              "    }\n",
              "\n",
              "    .dataframe tbody tr th {\n",
              "        vertical-align: top;\n",
              "    }\n",
              "\n",
              "    .dataframe thead th {\n",
              "        text-align: right;\n",
              "    }\n",
              "</style>\n",
              "<table border=\"1\" class=\"dataframe\">\n",
              "  <thead>\n",
              "    <tr style=\"text-align: right;\">\n",
              "      <th></th>\n",
              "      <th>text_id</th>\n",
              "      <th>text</th>\n",
              "      <th>task_1</th>\n",
              "      <th>task_2</th>\n",
              "    </tr>\n",
              "  </thead>\n",
              "  <tbody>\n",
              "    <tr>\n",
              "      <th>0</th>\n",
              "      <td>hasoc_de_1</td>\n",
              "      <td>Frank Rennicke – Ich bin stolz https://t.co/Cm6TD8w1k1 https://t.co/qynXso07Zn</td>\n",
              "      <td>NOT</td>\n",
              "      <td>NONE</td>\n",
              "    </tr>\n",
              "    <tr>\n",
              "      <th>1</th>\n",
              "      <td>hasoc_de_2</td>\n",
              "      <td>ANSEHEN.....und danach bitte TEILEN...TEILEN....TEILEN.... https://t.co/z18lnbOWRQ</td>\n",
              "      <td>NOT</td>\n",
              "      <td>NONE</td>\n",
              "    </tr>\n",
              "    <tr>\n",
              "      <th>2</th>\n",
              "      <td>hasoc_de_3</td>\n",
              "      <td>#Koeln Mohamed erkennt kein deutsches Recht sondern nur die #Scharia an. Das er den Kölner Dom kaputt machen wollte, war nur ein Scherz aber wenn ...</td>\n",
              "      <td>NOT</td>\n",
              "      <td>NONE</td>\n",
              "    </tr>\n",
              "    <tr>\n",
              "      <th>3</th>\n",
              "      <td>hasoc_de_4</td>\n",
              "      <td>#SaudiArabien ist eine brutale islamische Diktatur und richtete kürzlich fünf Männer wegen ihre Homosexualität hin. Welche Konsequenzen hat das fü...</td>\n",
              "      <td>NOT</td>\n",
              "      <td>NONE</td>\n",
              "    </tr>\n",
              "    <tr>\n",
              "      <th>4</th>\n",
              "      <td>hasoc_de_5</td>\n",
              "      <td>Bundespolizei #München hat im 1. Quartal 2019 rund 3.380 illegale Einreisen registriert, die Migranten stammten v. a. aus Nigeria, Afghanistan, Se...</td>\n",
              "      <td>NOT</td>\n",
              "      <td>NONE</td>\n",
              "    </tr>\n",
              "    <tr>\n",
              "      <th>5</th>\n",
              "      <td>hasoc_de_6</td>\n",
              "      <td>#1EuropaFuerAlle oder wie es die #SPD heute noch bildhafteter formuliert hat:    Und willst Du nicht mein Bruder sein, so schlage ich Dir denn Sch...</td>\n",
              "      <td>NOT</td>\n",
              "      <td>NONE</td>\n",
              "    </tr>\n",
              "    <tr>\n",
              "      <th>6</th>\n",
              "      <td>hasoc_de_7</td>\n",
              "      <td>#Hannover: Weil ihm die Freizeitgestaltung und ihr Umgang mit Männern nicht passt, tritt und schlägt Mustafa F. (26) auf seine ehemalige -nach isl...</td>\n",
              "      <td>NOT</td>\n",
              "      <td>NONE</td>\n",
              "    </tr>\n",
              "    <tr>\n",
              "      <th>7</th>\n",
              "      <td>hasoc_de_8</td>\n",
              "      <td>#Deutschland 2019: Ort für die #EU-Wahlparty der #AfD wurde gerade gekündigt. Vermieter und Mieter wurden massiv von #Linksextremisten bedroht. Da...</td>\n",
              "      <td>NOT</td>\n",
              "      <td>NONE</td>\n",
              "    </tr>\n",
              "    <tr>\n",
              "      <th>8</th>\n",
              "      <td>hasoc_de_9</td>\n",
              "      <td>#Innsbruck: Tirolerin und Türke knacken 2018 zahlreiche Automaten bei Auto-Waschanlagen und Tankstellen, anhand dort gefundener DNA kommt heraus, ...</td>\n",
              "      <td>NOT</td>\n",
              "      <td>NONE</td>\n",
              "    </tr>\n",
              "    <tr>\n",
              "      <th>9</th>\n",
              "      <td>hasoc_de_10</td>\n",
              "      <td>#Wien: Vier Nigerianer bestellen teils hochpreisige Produkte unter falschen Namen, holen sie in Paketshops ab und behalten sie, ohne zu bezahlen -...</td>\n",
              "      <td>NOT</td>\n",
              "      <td>NONE</td>\n",
              "    </tr>\n",
              "  </tbody>\n",
              "</table>\n",
              "</div>\n",
              "      <button class=\"colab-df-convert\" onclick=\"convertToInteractive('df-cd602ea8-e0e6-43f0-93b5-aa976d35e0bd')\"\n",
              "              title=\"Convert this dataframe to an interactive table.\"\n",
              "              style=\"display:none;\">\n",
              "        \n",
              "  <svg xmlns=\"http://www.w3.org/2000/svg\" height=\"24px\"viewBox=\"0 0 24 24\"\n",
              "       width=\"24px\">\n",
              "    <path d=\"M0 0h24v24H0V0z\" fill=\"none\"/>\n",
              "    <path d=\"M18.56 5.44l.94 2.06.94-2.06 2.06-.94-2.06-.94-.94-2.06-.94 2.06-2.06.94zm-11 1L8.5 8.5l.94-2.06 2.06-.94-2.06-.94L8.5 2.5l-.94 2.06-2.06.94zm10 10l.94 2.06.94-2.06 2.06-.94-2.06-.94-.94-2.06-.94 2.06-2.06.94z\"/><path d=\"M17.41 7.96l-1.37-1.37c-.4-.4-.92-.59-1.43-.59-.52 0-1.04.2-1.43.59L10.3 9.45l-7.72 7.72c-.78.78-.78 2.05 0 2.83L4 21.41c.39.39.9.59 1.41.59.51 0 1.02-.2 1.41-.59l7.78-7.78 2.81-2.81c.8-.78.8-2.07 0-2.86zM5.41 20L4 18.59l7.72-7.72 1.47 1.35L5.41 20z\"/>\n",
              "  </svg>\n",
              "      </button>\n",
              "      \n",
              "  <style>\n",
              "    .colab-df-container {\n",
              "      display:flex;\n",
              "      flex-wrap:wrap;\n",
              "      gap: 12px;\n",
              "    }\n",
              "\n",
              "    .colab-df-convert {\n",
              "      background-color: #E8F0FE;\n",
              "      border: none;\n",
              "      border-radius: 50%;\n",
              "      cursor: pointer;\n",
              "      display: none;\n",
              "      fill: #1967D2;\n",
              "      height: 32px;\n",
              "      padding: 0 0 0 0;\n",
              "      width: 32px;\n",
              "    }\n",
              "\n",
              "    .colab-df-convert:hover {\n",
              "      background-color: #E2EBFA;\n",
              "      box-shadow: 0px 1px 2px rgba(60, 64, 67, 0.3), 0px 1px 3px 1px rgba(60, 64, 67, 0.15);\n",
              "      fill: #174EA6;\n",
              "    }\n",
              "\n",
              "    [theme=dark] .colab-df-convert {\n",
              "      background-color: #3B4455;\n",
              "      fill: #D2E3FC;\n",
              "    }\n",
              "\n",
              "    [theme=dark] .colab-df-convert:hover {\n",
              "      background-color: #434B5C;\n",
              "      box-shadow: 0px 1px 3px 1px rgba(0, 0, 0, 0.15);\n",
              "      filter: drop-shadow(0px 1px 2px rgba(0, 0, 0, 0.3));\n",
              "      fill: #FFFFFF;\n",
              "    }\n",
              "  </style>\n",
              "\n",
              "      <script>\n",
              "        const buttonEl =\n",
              "          document.querySelector('#df-cd602ea8-e0e6-43f0-93b5-aa976d35e0bd button.colab-df-convert');\n",
              "        buttonEl.style.display =\n",
              "          google.colab.kernel.accessAllowed ? 'block' : 'none';\n",
              "\n",
              "        async function convertToInteractive(key) {\n",
              "          const element = document.querySelector('#df-cd602ea8-e0e6-43f0-93b5-aa976d35e0bd');\n",
              "          const dataTable =\n",
              "            await google.colab.kernel.invokeFunction('convertToInteractive',\n",
              "                                                     [key], {});\n",
              "          if (!dataTable) return;\n",
              "\n",
              "          const docLinkHtml = 'Like what you see? Visit the ' +\n",
              "            '<a target=\"_blank\" href=https://colab.research.google.com/notebooks/data_table.ipynb>data table notebook</a>'\n",
              "            + ' to learn more about interactive tables.';\n",
              "          element.innerHTML = '';\n",
              "          dataTable['output_type'] = 'display_data';\n",
              "          await google.colab.output.renderOutput(dataTable, element);\n",
              "          const docLink = document.createElement('div');\n",
              "          docLink.innerHTML = docLinkHtml;\n",
              "          element.appendChild(docLink);\n",
              "        }\n",
              "      </script>\n",
              "    </div>\n",
              "  </div>\n",
              "  "
            ]
          },
          "metadata": {},
          "execution_count": 2
        }
      ],
      "source": [
        "import pandas as pd \n",
        "#data = pd.read_excel('/content/hasoc_2020_de_train_new_a.xlsx', converters={'tweet_id':int})\n",
        "data = pd.read_csv(\"/content/german_dataset2019.tsv\",sep=\"\\t\")\n",
        "pd.set_option('display.max_colwidth',150)\n",
        "data.head(10)"
      ]
    },
    {
      "cell_type": "code",
      "source": [
        "data.shape"
      ],
      "metadata": {
        "colab": {
          "base_uri": "https://localhost:8080/"
        },
        "id": "UaxJGj2BJA-_",
        "outputId": "6c0c6ff8-8373-4809-e41e-39362393f1d1"
      },
      "execution_count": null,
      "outputs": [
        {
          "output_type": "execute_result",
          "data": {
            "text/plain": [
              "(3819, 4)"
            ]
          },
          "metadata": {},
          "execution_count": 3
        }
      ]
    },
    {
      "cell_type": "code",
      "source": [
        "print(data.dtypes)"
      ],
      "metadata": {
        "colab": {
          "base_uri": "https://localhost:8080/"
        },
        "id": "4F6snrckJDhs",
        "outputId": "5d8bd548-dca1-4f34-9ffb-ee0ab2aee86a"
      },
      "execution_count": null,
      "outputs": [
        {
          "output_type": "stream",
          "name": "stdout",
          "text": [
            "text_id    object\n",
            "text       object\n",
            "task_1     object\n",
            "task_2     object\n",
            "dtype: object\n"
          ]
        }
      ]
    },
    {
      "cell_type": "markdown",
      "source": [
        "# Making of \"label\" Variable\n"
      ],
      "metadata": {
        "id": "kK4jE-XuJN3r"
      }
    },
    {
      "cell_type": "code",
      "source": [
        "label = data['task_1']\n",
        "label.head()"
      ],
      "metadata": {
        "colab": {
          "base_uri": "https://localhost:8080/"
        },
        "id": "8UB11BsEJF-U",
        "outputId": "3d82de0e-10dc-45e4-ac11-7a0006579063"
      },
      "execution_count": null,
      "outputs": [
        {
          "output_type": "execute_result",
          "data": {
            "text/plain": [
              "0    NOT\n",
              "1    NOT\n",
              "2    NOT\n",
              "3    NOT\n",
              "4    NOT\n",
              "Name: task_1, dtype: object"
            ]
          },
          "metadata": {},
          "execution_count": 5
        }
      ]
    },
    {
      "cell_type": "markdown",
      "source": [
        "# Checking Dataset Balancing\n"
      ],
      "metadata": {
        "id": "HM112SzAJW-z"
      }
    },
    {
      "cell_type": "code",
      "source": [
        "print(label.value_counts())\n",
        "import matplotlib.pyplot as plt\n",
        "label.value_counts().plot(kind='bar', color='blue')"
      ],
      "metadata": {
        "colab": {
          "base_uri": "https://localhost:8080/"
        },
        "id": "wxq3PRLwJVIQ",
        "outputId": "e3d90654-9892-4d81-fad1-e66bcca46126"
      },
      "execution_count": null,
      "outputs": [
        {
          "output_type": "stream",
          "name": "stdout",
          "text": [
            "NOT    3412\n",
            "HOF     407\n",
            "Name: task_1, dtype: int64\n"
          ]
        },
        {
          "output_type": "execute_result",
          "data": {
            "text/plain": [
              "<matplotlib.axes._subplots.AxesSubplot at 0x7fbc80388a50>"
            ]
          },
          "metadata": {},
          "execution_count": 6
        },
        {
          "output_type": "display_data",
          "data": {
            "text/plain": [
              "<Figure size 432x288 with 1 Axes>"
            ],
            "image/png": "[encoded data removed]"
          },
          "metadata": {
            "needs_background": "light"
          }
        }
      ]
    },
    {
      "cell_type": "markdown",
      "source": [
        "# Converting label into \"0\" or \"1\"\n"
      ],
      "metadata": {
        "id": "IiBz2hcFJdIF"
      }
    },
    {
      "cell_type": "code",
      "source": [
        "import numpy as np\n",
        "classes_list = [\"HOF\",\"NOT\"]\n",
        "label_index = data['task_1'].apply(classes_list.index)\n",
        "final_label = np.asarray(label_index)\n",
        "print(final_label[:10])\n",
        "\n"
      ],
      "metadata": {
        "colab": {
          "base_uri": "https://localhost:8080/"
        },
        "id": "iaAQQh4kJZ1X",
        "outputId": "50ee7636-097e-47fa-85d4-393f615c78d1"
      },
      "execution_count": null,
      "outputs": [
        {
          "output_type": "stream",
          "name": "stdout",
          "text": [
            "[1 1 1 1 1 1 1 1 1 1]\n"
          ]
        }
      ]
    },
    {
      "cell_type": "code",
      "source": [
        "from keras.utils.np_utils import to_categorical\n",
        "label_twoDimension = to_categorical(final_label, num_classes=2)"
      ],
      "metadata": {
        "id": "DHcylJMvJhLu"
      },
      "execution_count": null,
      "outputs": []
    },
    {
      "cell_type": "code",
      "source": [
        "print(label_twoDimension[:10])"
      ],
      "metadata": {
        "colab": {
          "base_uri": "https://localhost:8080/"
        },
        "id": "1NGqjeVBJjbM",
        "outputId": "2a5ed58b-4dfd-4d02-c93a-84fce934a287"
      },
      "execution_count": null,
      "outputs": [
        {
          "output_type": "stream",
          "name": "stdout",
          "text": [
            "[[0. 1.]\n",
            " [0. 1.]\n",
            " [0. 1.]\n",
            " [0. 1.]\n",
            " [0. 1.]\n",
            " [0. 1.]\n",
            " [0. 1.]\n",
            " [0. 1.]\n",
            " [0. 1.]\n",
            " [0. 1.]]\n"
          ]
        }
      ]
    },
    {
      "cell_type": "markdown",
      "source": [
        "# Making of \"text\" Variable\n"
      ],
      "metadata": {
        "id": "nqRHYUSBJl0K"
      }
    },
    {
      "cell_type": "code",
      "source": [
        "text = data['text']\n",
        "text.head(10)\n",
        "\n"
      ],
      "metadata": {
        "colab": {
          "base_uri": "https://localhost:8080/"
        },
        "id": "ZZ_FmnnqJjpU",
        "outputId": "ef7a26e2-3fb8-4efb-d04a-f90a898551c1"
      },
      "execution_count": null,
      "outputs": [
        {
          "output_type": "execute_result",
          "data": {
            "text/plain": [
              "0                                                                           Frank Rennicke – Ich bin stolz https://t.co/Cm6TD8w1k1 https://t.co/qynXso07Zn\n",
              "1                                                                       ANSEHEN.....und danach bitte TEILEN...TEILEN....TEILEN.... https://t.co/z18lnbOWRQ\n",
              "2    #Koeln Mohamed erkennt kein deutsches Recht sondern nur die #Scharia an. Das er den Kölner Dom kaputt machen wollte, war nur ein Scherz aber wenn ...\n",
              "3    #SaudiArabien ist eine brutale islamische Diktatur und richtete kürzlich fünf Männer wegen ihre Homosexualität hin. Welche Konsequenzen hat das fü...\n",
              "4    Bundespolizei #München hat im 1. Quartal 2019 rund 3.380 illegale Einreisen registriert, die Migranten stammten v. a. aus Nigeria, Afghanistan, Se...\n",
              "5    #1EuropaFuerAlle oder wie es die #SPD heute noch bildhafteter formuliert hat:    Und willst Du nicht mein Bruder sein, so schlage ich Dir denn Sch...\n",
              "6    #Hannover: Weil ihm die Freizeitgestaltung und ihr Umgang mit Männern nicht passt, tritt und schlägt Mustafa F. (26) auf seine ehemalige -nach isl...\n",
              "7    #Deutschland 2019: Ort für die #EU-Wahlparty der #AfD wurde gerade gekündigt. Vermieter und Mieter wurden massiv von #Linksextremisten bedroht. Da...\n",
              "8    #Innsbruck: Tirolerin und Türke knacken 2018 zahlreiche Automaten bei Auto-Waschanlagen und Tankstellen, anhand dort gefundener DNA kommt heraus, ...\n",
              "9    #Wien: Vier Nigerianer bestellen teils hochpreisige Produkte unter falschen Namen, holen sie in Paketshops ab und behalten sie, ohne zu bezahlen -...\n",
              "Name: text, dtype: object"
            ]
          },
          "metadata": {},
          "execution_count": 10
        }
      ]
    },
    {
      "cell_type": "markdown",
      "source": [
        "# Dataset Pre-processing\n"
      ],
      "metadata": {
        "id": "5vgUgPviJteq"
      }
    },
    {
      "cell_type": "code",
      "source": [
        "def remove_umlaut(string):\n",
        "    \"\"\"\n",
        "    Removes umlauts from strings and replaces them with the letter+e convention\n",
        "    :param string: string to remove umlauts from\n",
        "    :return: unumlauted string\n",
        "    \"\"\"\n",
        "    u = 'ü'.encode()\n",
        "    U = 'Ü'.encode()\n",
        "    a = 'ä'.encode()\n",
        "    A = 'Ä'.encode()\n",
        "    o = 'ö'.encode()\n",
        "    O = 'Ö'.encode()\n",
        "    ss = 'ß'.encode()\n",
        "\n",
        "    string = string.encode()\n",
        "    string = string.replace(u, b'ue')\n",
        "    string = string.replace(U, b'Ue')\n",
        "    string = string.replace(a, b'ae')\n",
        "    string = string.replace(A, b'Ae')\n",
        "    string = string.replace(o, b'oe')\n",
        "    string = string.replace(O, b'Oe')\n",
        "    string = string.replace(ss, b'ss')\n",
        "\n",
        "    string = string.decode('utf-8')\n",
        "    return string"
      ],
      "metadata": {
        "id": "4FVKPz4eESnd"
      },
      "execution_count": null,
      "outputs": []
    },
    {
      "cell_type": "code",
      "source": [
        "text_wo_umlauts = text.apply(lambda x:remove_umlaut(x))\n",
        "text_wo_umlauts.head(10)"
      ],
      "metadata": {
        "colab": {
          "base_uri": "https://localhost:8080/"
        },
        "id": "gPJ8JKJvEU1i",
        "outputId": "36482207-da08-44e4-c407-7e4a33f4a927"
      },
      "execution_count": null,
      "outputs": [
        {
          "output_type": "execute_result",
          "data": {
            "text/plain": [
              "0                                                                           Frank Rennicke – Ich bin stolz https://t.co/Cm6TD8w1k1 https://t.co/qynXso07Zn\n",
              "1                                                                       ANSEHEN.....und danach bitte TEILEN...TEILEN....TEILEN.... https://t.co/z18lnbOWRQ\n",
              "2    #Koeln Mohamed erkennt kein deutsches Recht sondern nur die #Scharia an. Das er den Koelner Dom kaputt machen wollte, war nur ein Scherz aber wenn...\n",
              "3    #SaudiArabien ist eine brutale islamische Diktatur und richtete kuerzlich fuenf Maenner wegen ihre Homosexualitaet hin. Welche Konsequenzen hat da...\n",
              "4    Bundespolizei #Muenchen hat im 1. Quartal 2019 rund 3.380 illegale Einreisen registriert, die Migranten stammten v. a. aus Nigeria, Afghanistan, S...\n",
              "5    #1EuropaFuerAlle oder wie es die #SPD heute noch bildhafteter formuliert hat:    Und willst Du nicht mein Bruder sein, so schlage ich Dir denn Sch...\n",
              "6    #Hannover: Weil ihm die Freizeitgestaltung und ihr Umgang mit Maennern nicht passt, tritt und schlaegt Mustafa F. (26) auf seine ehemalige -nach i...\n",
              "7    #Deutschland 2019: Ort fuer die #EU-Wahlparty der #AfD wurde gerade gekuendigt. Vermieter und Mieter wurden massiv von #Linksextremisten bedroht. ...\n",
              "8    #Innsbruck: Tirolerin und Tuerke knacken 2018 zahlreiche Automaten bei Auto-Waschanlagen und Tankstellen, anhand dort gefundener DNA kommt heraus,...\n",
              "9    #Wien: Vier Nigerianer bestellen teils hochpreisige Produkte unter falschen Namen, holen sie in Paketshops ab und behalten sie, ohne zu bezahlen -...\n",
              "Name: text, dtype: object"
            ]
          },
          "metadata": {},
          "execution_count": 12
        }
      ]
    },
    {
      "cell_type": "code",
      "source": [
        "\n",
        "\n",
        "import re \n",
        "\n",
        "def text_clean(text):\n",
        "    ''' Pre process and convert texts to a list of words '''\n",
        "    \n",
        "    text=text.lower()\n",
        "\n",
        "    # Clean the text\n",
        "    text = re.sub(r\"[^A-Za-z0-9^,!.\\/'+-=]\", \" \", text)\n",
        "    text = re.sub('https?://\\S+|www\\.\\S+', \"\", text)\n",
        "    text = re.sub(r\"rt\", \" \", text)\n",
        "\n",
        "    return text\n",
        "\n"
      ],
      "metadata": {
        "id": "iP9R4lCkJrSn"
      },
      "execution_count": null,
      "outputs": []
    },
    {
      "cell_type": "code",
      "source": [],
      "metadata": {
        "id": "t6qZJrZLENzv"
      },
      "execution_count": null,
      "outputs": []
    },
    {
      "cell_type": "code",
      "source": [
        "clean_text = text_wo_umlauts.apply(lambda x:text_clean(x))"
      ],
      "metadata": {
        "id": "btvahRPaJwkh"
      },
      "execution_count": null,
      "outputs": []
    },
    {
      "cell_type": "code",
      "source": [
        "clean_text.head(10)"
      ],
      "metadata": {
        "colab": {
          "base_uri": "https://localhost:8080/"
        },
        "id": "rVm6XFqoJyPl",
        "outputId": "eb47dcb0-9a52-4e3c-bfc2-0d65a48258d0"
      },
      "execution_count": null,
      "outputs": [
        {
          "output_type": "execute_result",
          "data": {
            "text/plain": [
              "0                                                                                                                         frank rennicke   ich bin stolz  \n",
              "1                                                                                              ansehen.....und danach bitte teilen...teilen....teilen.... \n",
              "2     koeln mohamed erkennt kein deutsches recht sondern nur die  scharia an. das er den koelner dom kaputt machen wollte, war nur ein scherz aber wenn...\n",
              "3     saudiarabien ist eine brutale islamische diktatur und richtete kuerzlich fuenf maenner wegen ihre homosexualitaet hin. welche konsequenzen hat da...\n",
              "4    bundespolizei  muenchen hat im 1. qua al 2019 rund 3.380 illegale einreisen registrie , die migranten stammten v. a. aus nigeria, afghanistan, ser...\n",
              "5     1europafueralle oder wie es die  spd heute noch bildhafteter formulie  hat:    und willst du nicht mein bruder sein, so schlage ich dir denn scha...\n",
              "6     hannover: weil ihm die freizeitgestaltung und ihr umgang mit maennern nicht passt, tritt und schlaegt mustafa f.  26  auf seine ehemalige -nach i...\n",
              "7     deutschland 2019: o  fuer die  eu-wahlpa y der  afd wurde gerade gekuendigt. vermieter und mieter wurden massiv von  linksextremisten bedroht. da...\n",
              "8     innsbruck: tirolerin und tuerke knacken 2018 zahlreiche automaten bei auto-waschanlagen und tankstellen, anhand do  gefundener dna kommt heraus, ...\n",
              "9     wien: vier nigerianer bestellen teils hochpreisige produkte unter falschen namen, holen sie in paketshops ab und behalten sie, ohne zu bezahlen -...\n",
              "Name: text, dtype: object"
            ]
          },
          "metadata": {},
          "execution_count": 15
        }
      ]
    },
    {
      "cell_type": "markdown",
      "source": [
        "# Removing stopwords\n"
      ],
      "metadata": {
        "id": "Cr_9fbmQJ14E"
      }
    },
    {
      "cell_type": "code",
      "source": [
        "import nltk\n",
        "from nltk.corpus import stopwords\n",
        "nltk.download('stopwords')\n",
        "def stop_words_removal(text1):\n",
        "    text1=[w for w in  text1.split(\" \")  if w not in stopwords.words('german')]\n",
        "    return \" \".join(text1)"
      ],
      "metadata": {
        "colab": {
          "base_uri": "https://localhost:8080/"
        },
        "id": "fnKAVUGKJzkf",
        "outputId": "6cfc55f2-d973-4b56-8242-010f16f09b65"
      },
      "execution_count": null,
      "outputs": [
        {
          "output_type": "stream",
          "name": "stderr",
          "text": [
            "[nltk_data] Downloading package stopwords to /root/nltk_data...\n",
            "[nltk_data]   Unzipping corpora/stopwords.zip.\n"
          ]
        }
      ]
    },
    {
      "cell_type": "code",
      "source": [
        "clean_text_ns=clean_text.apply(lambda x: stop_words_removal(x))"
      ],
      "metadata": {
        "id": "EAe2hR7jJ5R8"
      },
      "execution_count": null,
      "outputs": []
    },
    {
      "cell_type": "code",
      "source": [
        "print(clean_text_ns.head(10))"
      ],
      "metadata": {
        "colab": {
          "base_uri": "https://localhost:8080/"
        },
        "id": "hMapIVGXJ7Cf",
        "outputId": "36309c60-751b-4989-b018-ae79a0a89f64"
      },
      "execution_count": null,
      "outputs": [
        {
          "output_type": "stream",
          "name": "stdout",
          "text": [
            "0                                                                                                                                 frank rennicke   stolz  \n",
            "1                                                                                              ansehen.....und danach bitte teilen...teilen....teilen.... \n",
            "2                                     koeln mohamed erkennt deutsches recht  scharia an. koelner dom kaputt wollte, scherz knast rauskommt, mitleid mehr. \n",
            "3     saudiarabien brutale islamische diktatur richtete kuerzlich fuenf maenner wegen homosexualitaet hin. konsequenzen fuer verhaeltnis saudi-arabien ...\n",
            "4    bundespolizei  muenchen 1. qua al 2019 rund 3.380 illegale einreisen registrie , migranten stammten v. a. nigeria, afghanistan, serbien, albanien ...\n",
            "5     1europafueralle  spd heute bildhafteter formulie  hat:    willst bruder sein, schlage schaedel ein.     jusos  nospd  baseballschlaeger   niewied...\n",
            "6     hannover: freizeitgestaltung umgang maennern passt, tritt schlaegt mustafa f.  26  ehemalige -nach islamischem recht- ehefrau alina  23  ein, ras...\n",
            "7     deutschland 2019: o  fuer  eu-wahlpa y  afd wurde gerade gekuendigt. vermieter mieter wurden massiv  linksextremisten bedroht. gebaeude wurde ber...\n",
            "8     innsbruck: tirolerin tuerke knacken 2018 zahlreiche automaten auto-waschanlagen tankstellen, anhand do  gefundener dna kommt heraus, tuerke fuer ...\n",
            "9     wien: vier nigerianer bestellen teils hochpreisige produkte falschen namen, holen paketshops ab behalten sie, bezahlen - afrikaner 250 teils orig...\n",
            "Name: text, dtype: object\n"
          ]
        }
      ]
    },
    {
      "cell_type": "markdown",
      "source": [
        "# Lemmatization"
      ],
      "metadata": {
        "id": "UbNspWraJ-a5"
      }
    },
    {
      "cell_type": "markdown",
      "source": [
        "# Stemming"
      ],
      "metadata": {
        "id": "cGRUIHNgKB8P"
      }
    },
    {
      "cell_type": "code",
      "source": [
        "\n",
        "\n",
        "# Stemming\n",
        "from nltk.stem import SnowballStemmer \n",
        "stemmer = SnowballStemmer(\"german\")\n",
        "\n",
        "def word_stemmer(text):\n",
        "    stem_text = \"\".join([stemmer.stem(i) for i in text])\n",
        "    return stem_text\n",
        "\n"
      ],
      "metadata": {
        "id": "xzacVq1jJ8ru"
      },
      "execution_count": null,
      "outputs": []
    },
    {
      "cell_type": "code",
      "source": [
        "clean_text_stem = clean_text_ns.apply(lambda x : word_stemmer(x))"
      ],
      "metadata": {
        "id": "gLvtC-DlKFJ3"
      },
      "execution_count": null,
      "outputs": []
    },
    {
      "cell_type": "code",
      "source": [
        "print(clean_text_stem.head())"
      ],
      "metadata": {
        "colab": {
          "base_uri": "https://localhost:8080/"
        },
        "id": "hLTYkzd6KGpw",
        "outputId": "ae520fde-05b2-4bc9-e9ce-bdf6e5db27b4"
      },
      "execution_count": null,
      "outputs": [
        {
          "output_type": "stream",
          "name": "stdout",
          "text": [
            "0                                                                                                                                 frank rennicke   stolz  \n",
            "1                                                                                              ansehen.....und danach bitte teilen...teilen....teilen.... \n",
            "2                                     koeln mohamed erkennt deutsches recht  scharia an. koelner dom kaputt wollte, scherz knast rauskommt, mitleid mehr. \n",
            "3     saudiarabien brutale islamische diktatur richtete kuerzlich fuenf maenner wegen homosexualitaet hin. konsequenzen fuer verhaeltnis saudi-arabien ...\n",
            "4    bundespolizei  muenchen 1. qua al 2019 rund 3.380 illegale einreisen registrie , migranten stammten v. a. nigeria, afghanistan, serbien, albanien ...\n",
            "Name: text, dtype: object\n"
          ]
        }
      ]
    },
    {
      "cell_type": "markdown",
      "source": [
        "# Tokenization using \"keras\"\n"
      ],
      "metadata": {
        "id": "aqZfKW9_KId4"
      }
    },
    {
      "cell_type": "code",
      "source": [
        "import keras\n",
        "import tensorflow\n",
        "from keras.preprocessing.text import Tokenizer\n",
        "tok_all = Tokenizer(filters='!\"#$%&\\'()*+,-./:;<=>?@[\\\\]^_`{|}~', lower=True, char_level = False)\n",
        "tok_all.fit_on_texts(clean_text_stem)"
      ],
      "metadata": {
        "id": "64oQb-b9KL7d"
      },
      "execution_count": null,
      "outputs": []
    },
    {
      "cell_type": "markdown",
      "source": [
        "# Making Vocab for words\n"
      ],
      "metadata": {
        "id": "Azliz45-KOH2"
      }
    },
    {
      "cell_type": "code",
      "source": [
        "vocabulary_all = len(tok_all.word_counts)\n",
        "print(vocabulary_all)"
      ],
      "metadata": {
        "colab": {
          "base_uri": "https://localhost:8080/"
        },
        "id": "kjRctAdKKNqA",
        "outputId": "c8b818da-6a85-4401-afc7-4d0cd883f459"
      },
      "execution_count": null,
      "outputs": [
        {
          "output_type": "stream",
          "name": "stdout",
          "text": [
            "16849\n"
          ]
        }
      ]
    },
    {
      "cell_type": "code",
      "source": [
        "\n",
        "\n",
        "l = tok_all.word_index\n",
        "print(l)\n",
        "\n"
      ],
      "metadata": {
        "colab": {
          "base_uri": "https://localhost:8080/"
        },
        "id": "ruZahltoKSBk",
        "outputId": "f47a031c-d7dd-41dd-afda-930f8aac1f9a"
      },
      "execution_count": null,
      "outputs": [
        {
          "output_type": "stream",
          "name": "stdout",
          "text": [
            "{'fuer': 1, 'afd': 2, 'deutschland': 3, 'mal': 4, 'mehr': 5, 'geld': 6, 'e': 7, 'ha': 8, 'ueber': 9, 'schon': 10, 'ja': 11, 'immer': 12, 'spd': 13, 'gruenen': 14, 'wer': 15, 'geht': 16, 'ungebeten1': 17, 'ist': 18, 'en': 19, 'nicht': 20, 'polizei': 21, 'merkel': 22, 'gibt': 23, '1': 24, 'amp': 25, 'pa': 26, 'heute': 27, '2': 28, 'wurde': 29, 'rebecca': 30, 'werden': 31, 'warum': 32, 'cdu': 33, 'u': 34, 'via': 35, 'land': 36, 'eu': 37, 'berlin': 38, 'realjohr': 39, 'menschen': 40, 'ab': 41, 'deutsche': 42, 'frau': 43, 'gruene': 44, 's': 45, 'junge': 46, 'haben': 47, 'hat': 48, 'ei': 49, 'a': 50, 'koennen': 51, 'beim': 52, 'endlich': 53, 'fluechtlinge': 54, 'kommt': 55, 'findbecci': 56, 'ganz': 57, 'gut': 58, 'welt': 59, 'leben': 60, 'jahre': 61, 'europa': 62, 'wird': 63, 'macht': 64, 'finjafinte': 65, 'sein': 66, 'seit': 67, 'jahren': 68, 'waere': 69, 'muessen': 70, 'die': 71, 'viele': 72, 'bitte': 73, 'wegen': 74, '2019': 75, 'an': 76, 'mdl': 77, 'deutschen': 78, 'mann': 79, 'wohl': 80, 'medien': 81, 'einfach': 82, 'd': 83, 'gt': 84, 've': 85, 'uwe': 86, 'danke': 87, 'das': 88, 'dafuer': 89, 'bild': 90, 'kinder': 91, 'sagen': 92, 'erst': 93, '000': 94, 'waehlen': 95, 'leute': 96, 'neue': 97, '3': 98, 'migranten': 99, 'frauen': 100, 'euro': 101, 'wuerde': 102, 'wahl': 103, 'genau': 104, 'do': 105, 'islam': 106, 'regierung': 107, 'aus': 108, 'zwei': 109, '5': 110, 'recht': 111, 'ein': 112, 'taeter': 113, 'wissen': 114, 'auf': 115, 'gar': 116, 'sollen': 117, 'nie': 118, 'sind': 119, 'annewill': 120, 'dabei': 121, 'lassen': 122, 'eien': 123, 'zeit': 124, 'na': 125, 'so': 126, 'linke': 127, 'maedchen': 128, 'europawahl2019': 129, 'gehen': 130, 'video': 131, 'gehoe': 132, 'tag': 133, 'wirklich': 134, 'liebe': 135, 'gerade': 136, 'sagt': 137, 'eigentlich': 138, 'kommen': 139, '4': 140, 'twitter': 141, 'maenner': 142, 'zurueck': 143, 'eigenen': 144, 'bereits': 145, 'jahr': 146, 'bundestag': 147, 'politik': 148, 'es': 149, 'sehen': 150, 'strache': 151, 'davon': 152, 'tun': 153, 'buerger': 154, 'fast': 155, 'berliner': 156, 'o': 157, 'wurden': 158, 'ende': 159, 'statt': 160, 'zukunft': 161, 'darf': 162, 'ich': 163, 'schwager': 164, 'zdf': 165, 'haette': 166, '9': 167, 'linken': 168, 'greta': 169, 'richtig': 170, 'koennte': 171, 'vor': 172, 'steht': 173, 'politiker': 174, 'laesst': 175, 'gemacht': 176, 'auch': 177, 'ganze': 178, 'zahlen': 179, 'sieht': 180, 'sucht': 181, 'geben': 182, 'kann': 183, '10': 184, '11': 185, 'laut': 186, 'nein': 187, 'herr': 188, '20': 189, 'gute': 190, 'denen': 191, 'ep2019': 192, 'waehler': 193, 'zeigt': 194, 'we': 195, 'sogar': 196, 'italien': 197, 'wollen': 198, 'vielleicht': 199, 'sachsen': 200, 'mag': 201, 'klima': 202, 'nix': 203, 'gesehen': 204, '0': 205, 'eben': 206, 'futschi': 207, 'und': 208, 'jaehrige': 209, 'sei': 210, 'lange': 211, 'demokratie': 212, 'forde': 213, 'klar': 214, 'nazi': 215, 'gruen': 216, 'jemand': 217, 'trump': 218, 'oesterreich': 219, 'blondjedi': 220, 'meinung': 221, 'sie': 222, 'opfer': 223, 'will': 224, 'besser': 225, 'tage': 226, '30': 227, 'drei': 228, 'problem': 229, 'dank': 230, 'mutter': 231, 'leider': 232, '6': 233, 'wir': 234, 'schoen': 235, 'jaehrigen': 236, 'moechte': 237, 'waehrend': 238, 'sich': 239, 'kind': 240, 'thema': 241, 'frage': 242, 'nazis': 243, 'weiss': 244, 'duerfen': 245, 'ach': 246, 'meuthen': 247, 'letzten': 248, 'natuerlich': 249, '50': 250, 'kopf': 251, 'sicherheit': 252, 'muslime': 253, 'chemnitz': 254, 'passie': 255, 'rot': 256, 'bessermenschen': 257, 'nehmen': 258, '7': 259, 'syrer': 260, 'reden': 261, 'laeuft': 262, 'messer': 263, 'finden': 264, 'polizisten': 265, 'fall': 266, 'antwo': 267, 'auto': 268, 'lieber': 269, 'vater': 270, 'was': 271, 'etwa': 272, 'sollten': 273, 'findet': 274, 'frei': 275, 'de': 276, 'deren': 277, 'erfolg': 278, 'alle': 279, '8': 280, 'links': 281, 'gleich': 282, 'wi': 283, 'millionen': 284, 'ne': 285, 'bekommen': 286, 'sofo': 287, 'nur': 288, 'machen': 289, 'mitarbeiter': 290, 'presse': 291, 'aber': 292, 'freeflorian': 293, 'mit': 294, 'unserer': 295, 'verbieten': 296, 'uebrigens': 297, 'asylbewerber': 298, 'brauchen': 299, 'fridaysforfuture': 300, 'tv': 301, 'europawahl': 302, 'afrika': 303, 'tweets': 304, 'kaum': 305, 'melden': 306, 'online': 307, 'n': 308, 'bundesregierung': 309, 'gefunden': 310, '15': 311, 'hetze': 312, 'fluechtling': 313, 'vergewaltigt': 314, 'bleibt': 315, 'weniger': 316, 'stadt': 317, 'halten': 318, 'afdwaehlen': 319, 'lesen': 320, 'dumm': 321, 'angriff': 322, 'et': 323, 'sowas': 324, 'niemand': 325, 'egal': 326, 'hallo': 327, 'weg': 328, 'grund': 329, 'stehen': 330, 'fpoe': 331, 'bleiben': 332, 'besonders': 333, 'familie': 334, 'bald': 335, 'gott': 336, 'bestimmt': 337, 'teil': 338, 'contra': 339, 'bzw': 340, 'per': 341, 'bremen': 342, 'finde': 343, 'wahlen': 344, '100': 345, 'juni': 346, 'arbeit': 347, 'ddr': 348, 'zusammen': 349, 'praesident': 350, '16': 351, 'nrw': 352, 'deshalb': 353, 'wann': 354, 'volk': 355, '14': 356, 'oft': 357, 'tweet': 358, 'oh': 359, 'gewalt': 360, 'haetten': 361, 'co2': 362, 'mai': 363, 'm': 364, 'voellig': 365, 'essen': 366, 'tut': 367, 'schweden': 368, 'muenchen': 369, 'passt': 370, 'autos': 371, 'ergebnis': 372, 'rechts': 373, 'goerlitz': 374, 'gesicht': 375, 'gab': 376, 'haus': 377, 'schaft': 378, '19': 379, 'besten': 380, 'ig': 381, 'paar': 382, 'luegen': 383, 'angst': 384, 'ard': 385, 'antifa': 386, 'k': 387, 'scheint': 388, 'haelt': 389, '2018': 390, 'strasse': 391, '2015': 392, 'deutsch': 393, 'erklae': 394, 'worden': 395, 'ueberhaupt': 396, 'fraktion': 397, 'morgen': 398, 'schule': 399, 'freiheit': 400, 'klimawandel': 401, 'verletzt': 402, 'i': 403, 'hoch': 404, 'bekommt': 405, 'grosse': 406, 'nennt': 407, 'heisst': 408, 'angeblich': 409, 'sicher': 410, 'zu': 411, 'rechte': 412, 'lachen': 413, 'bayern': 414, 'trotzdem': 415, 'asyl': 416, 'joerg': 417, 'euwahl': 418, 'kraft': 419, 'braucht': 420, 'wuerden': 421, 'alte': 422, 'koeln': 423, '26': 424, 'gericht': 425, 'propaganda': 426, 'deutscher': 427, 'kurz': 428, 'deutschlands': 429, 'uhr': 430, 'jungen': 431, 'waehlt': 432, 'der': 433, 'los': 434, 'lebensformation': 435, 'ikel': 436, 'hass': 437, 'obwohl': 438, '17': 439, 'wa': 440, 'gestern': 441, 'eigene': 442, 'z': 443, 'moslems': 444, 'chebli': 445, 'youtube': 446, 'hoe': 447, 'usa': 448, 'suchen': 449, 'guten': 450, 'kritik': 451, 'dr': 452, 'fragen': 453, 'raus': 454, 'prozent': 455, 'darum': 456, 'ekelwilfred': 457, 'illegale': 458, 'bus': 459, 'allahu': 460, 'akbar': 461, '24': 462, 'politische': 463, 'staat': 464, 'seid': 465, 'daran': 466, 'politischen': 467, '12': 468, 'dessau': 469, 'altpa': 470, 'trotz': 471, 'da': 472, 'china': 473, '18': 474, 'us': 475, 'migration': 476, 'darauf': 477, 'deutlich': 478, 'meinungsfreiheit': 479, 'kosten': 480, 'setzt': 481, 'spiegel': 482, 'blockieren': 483, 'sozialismus': 484, 'angela': 485, 'gez': 486, 'genug': 487, 'ersten': 488, 'stimmt': 489, 'wie': 490, 'faellt': 491, 'unfassbar': 492, 'gewaehlt': 493, 'migrationspakt': 494, 'mmnews': 495, 'nachdem': 496, 'offenbar': 497, 'schlaegt': 498, 'vier': 499, 'gilt': 500, 'folge': 501, 'brandenburg': 502, 'eher': 503, '13': 504, 'amt': 505, 'denken': 506, 'spielen': 507, 'soll': 508, 'konnte': 509, 'ex': 510, 'clans': 511, 'spaeter': 512, 'fest': 513, 'facebook': 514, 'in': 515, 'falsch': 516, 'weder': 517, 'schuetzen': 518, 'schuld': 519, 'b': 520, 'war': 521, 'grenzen': 522, 'stegner': 523, 'rein': 524, 'laender': 525, 'mio': 526, 'hamburg': 527, 'stellen': 528, 'news': 529, 'dame': 530, 'milliarden': 531, 'tod': 532, 'wuensche': 533, 'neues': 534, 'nimmt': 535, 'kanzler': 536, 'gegenueber': 537, 'neuwahlen': 538, 'laendern': 539, 'parlament': 540, 'halt': 541, 'bescheid': 542, 'ef': 543, 'schwagerwars': 544, 'berlindow': 545, 'stolz': 546, 'rund': 547, 'je': 548, 'vergewaltigung': 549, 'gestellt': 550, 'platz': 551, 'richtung': 552, 'igen': 553, 'familien': 554, 'echt': 555, 'zeiten': 556, 'heimat': 557, 'jaehriger': 558, 'fallen': 559, 'wahrscheinlich': 560, 'antisemitismus': 561, 'naechste': 562, 'daniel': 563, 'erhalten': 564, 'lt': 565, 'frueher': 566, 'innenminister': 567, 'ueberall': 568, 'mittlerweile': 569, 'zerstoe': 570, 'kultur': 571, 'super': 572, 'groesste': 573, 'kleine': 574, 'akk': 575, 'tagen': 576, 'toleranz': 577, 'april': 578, 'eh': 579, 'internet': 580, 'verlassen': 581, 'verloren': 582, 'arbeiten': 583, 'woche': 584, 'tuerken': 585, 'wahrheit': 586, 'kleinen': 587, 'tot': 588, 'luebcke': 589, 'verdient': 590, 'glueck': 591, 'letzte': 592, 'rufen': 593, 'probleme': 594, 'nahles': 595, 'gerne': 596, 'am': 597, 'foto': 598, 'gruppe': 599, 'dwn': 600, 'korrektheiten': 601, 'danach': 602, 'teilen': 603, 'tritt': 604, 'wien': 605, 'mdr': 606, 'is': 607, 'aendern': 608, 'expe': 609, 'nichts': 610, 'lang': 611, 'schulen': 612, 'weit': 613, 'spo': 614, 'fahren': 615, 'hollywood': 616, 'rosslau': 617, 'richtigen': 618, 'heikomaas': 619, 'hunde': 620, 'er': 621, 'funktionie': 622, 'moeglich': 623, 'stunden': 624, 'fueh': 625, 'meisten': 626, 'kriminelle': 627, 'zerstoeren': 628, 'religion': 629, 'waffen': 630, 'weiter': 631, 'langsam': 632, 'schlecht': 633, 'gesper': 634, 'habeck': 635, 'toll': 636, 'bringen': 637, 'loeschung': 638, 'dran': 639, 'wieder': 640, '40': 641, 'irgendwie': 642, 'sorry': 643, 'oeffentlich': 644, 'framing': 645, 'voll': 646, 'person': 647, 'vielen': 648, 'staerkste': 649, 'osten': 650, 'strachevideo': 651, 'frankfu': 652, 'pro': 653, 'liegt': 654, 'verein': 655, 'personen': 656, 'retten': 657, '2017': 658, 'bund': 659, 'her': 660, 'habe': 661, 'wenn': 662, 'anschliessend': 663, 'sed': 664, 'umwelt': 665, 'sexuell': 666, 'nikolai': 667, 'hetzlichendank': 668, 'habt': 669, 'gesagt': 670, 'nennen': 671, 'l': 672, 'paulehasi13': 673, 'od': 674, 'deutsches': 675, 'scharia': 676, 'bahn': 677, 'nach': 678, 'bedroht': 679, 'darueber': 680, 'kaempfen': 681, 'eilen': 682, 'bevor': 683, 'realitaet': 684, 'sonntag': 685, 'veru': 686, 'fordern': 687, 'pegasia111': 688, 'inzwischen': 689, 'polizeiberlin': 690, 'schreiben': 691, 'repo': 692, 'vergessen': 693, 'feiern': 694, 'gebu': 695, 'krieg': 696, 'interview': 697, 'seite': 698, 'schutz': 699, 'sollte': 700, 'fachkraefte': 701, '70': 702, 'dachte': 703, 'zeigen': 704, 'weitere': 705, 'kennen': 706, 'notredame': 707, 'csu': 708, 'schliessen': 709, 'schande': 710, 'jugend': 711, 'verbot': 712, 'mir': 713, 'gg': 714, 'journalismus': 715, 'muesste': 716, 'verstehen': 717, 'selber': 718, 'naechsten': 719, 'themen': 720, 'frankreich': 721, 'auslaender': 722, 'neu': 723, 'michael': 724, 'for': 725, 'fussball': 726, 'fe': 727, 'mitglied': 728, 'schwer': 729, 'noch': 730, 'tagesschau': 731, 'ziehen': 732, 'ging': 733, 'ahnung': 734, 'sehe': 735, 'instagram': 736, 'wirkt': 737, 'no': 738, 'doener': 739, 'jf': 740, 'tichy': 741, 'birdie51411736': 742, 'euelections2019': 743, 'hi': 744, '8694sundance': 745, 'justnobody2018': 746, 'v': 747, 'verantwo': 748, 'falschen': 749, 'namen': 750, 'boden': 751, 'umfrage': 752, 'immerhin': 753, 'terror': 754, 'man': 755, 'stellt': 756, 'gesetzt': 757, 'klasse': 758, 'wenigstens': 759, 'quelle': 760, 'warnt': 761, 'jugendliche': 762, 'schlagen': 763, 'eltern': 764, 'rauen': 765, 'ruhe': 766, 'idee': 767, 'steuern': 768, 'mitglieder': 769, 'luft': 770, 'kriminalitaet': 771, 'gesucht': 772, 'seehofer': 773, 'christen': 774, 'ernst': 775, 'geworden': 776, 'allein': 777, 'unterwegs': 778, 'stando': 779, 'ruft': 780, 'fff': 781, 'pfingsten': 782, 'einsatz': 783, 'clan': 784, 'h': 785, 'mehrere': 786, 'vermutlich': 787, 'kuehne': 788, 'traegt': 789, 'rechtsstaat': 790, 'lasst': 791, 'total': 792, 'och': 793, 'tatsaechlich': 794, 'koennten': 795, 'erste': 796, 'ma': 797, 'staaten': 798, 'denke': 799, 'tja': 800, 'kennt': 801, 'fressen': 802, 'oeffentlichkeit': 803, 'hoffentlich': 804, 'spass': 805, 'fo': 806, 'holt': 807, 'toeten': 808, 'zerstoerung': 809, 'maassen': 810, 'rassismus': 811, 'brexit': 812, 'gesetz': 813, 'grossen': 814, 'muss': 815, 'schaden': 816, 'fdp': 817, 'dagegen': 818, 'putin': 819, 'compact': 820, 'respekt': 821, 'verfassungsschutz': 822, 'glauben': 823, 'beste': 824, 'glaube': 825, 'ichbinkoelnerin': 826, 'lebenden': 827, 'netz': 828, 'folgen': 829, 'job': 830, 'bloed': 831, 'daenemark': 832, '5g': 833, 'unzensurie': 834, 'herumsurfen': 835, 'kam': 836, 'vie': 837, 'el': 838, 'umgang': 839, 'tat': 840, 'y': 841, 'gebracht': 842, 'interessant': 843, 'fluechtlingen': 844, 'kirchen': 845, 'ermittelt': 846, 'groko': 847, 'drauf': 848, 'richtige': 849, 'schaffen': 850, 'blick': 851, 'schueler': 852, 'juden': 853, 'treten': 854, 'buergermeister': 855, 'salvini': 856, 'niger': 857, 'israel': 858, 'berichtet': 859, 'straftaten': 860, 'kontrolle': 861, 'sitzt': 862, 'schoene': 863, 'gender': 864, 'geschichte': 865, 'falls': 866, 'genommen': 867, 'islamischen': 868, 'westen': 869, 'macron': 870, 'ca': 871, '60': 872, 'kopftuch': 873, 'beitrag': 874, 'haft': 875, 'dazu': 876, 'schlimm': 877, 'ganzen': 878, 'vorher': 879, 'hilft': 880, 'kanzlerin': 881, 'taeglich': 882, 'alten': 883, 'einzige': 884, 'oder': 885, 'voegel': 886, 'niemals': 887, 'hetzjagd': 888, 'rede': 889, 'notre': 890, 'schwester': 891, 'falsche': 892, 'rechtspopulisten': 893, 'hier': 894, 'stark': 895, '200': 896, 'genauso': 897, 'gegner': 898, 'landes': 899, 'merkels': 900, 'wahr': 901, 'reihe': 902, 'anti': 903, 't': 904, 'spricht': 905, 'offensichtlich': 906, 'voran': 907, 'wichtig': 908, 'setzen': 909, 'jetzt': 910, 'heuchler': 911, 'natur': 912, 'gesellschaft': 913, 'nacht': 914, 'rente': 915, 'ralf': 916, 'heutigen': 917, 'neuer': 918, 'maltekaufmann': 919, 'erlaubt': 920, 'beispiel': 921, 'normal': 922, 'steinbach': 923, 'noafd': 924, 'glaubt': 925, 'by': 926, 'betroffen': 927, 'alias': 928, 'wilberg': 929, 'burger': 930, 'sperrung': 931, 'frank': 932, 'ansehen': 933, 'fuenf': 934, 'saudi': 935, 'tuerkei': 936, 'maennern': 937, '23': 938, 'massiv': 939, 'wochenende': 940, 'afrikaner': 941, 'gekommen': 942, 'unterschied': 943, 'brutal': 944, 'mehrfach': 945, 'koran': 946, 'minuten': 947, 'ausser': 948, 'leid': 949, 'oeffentlichen': 950, 'allerdings': 951, 'kaufen': 952, 'sorgen': 953, 'selbst': 954, 'verbotspa': 955, 'abgeschoben': 956, 'missbrauch': 957, 'ausserdem': 958, 'weltweit': 959, 'tote': 960, 'geschrieben': 961, 'informationen': 962, 'krank': 963, 'fuehren': 964, 'videos': 965, 'union': 966, 'nzz': 967, 'uni': 968, 'euch': 969, 'klimaschutz': 970, 'wohnung': 971, 'schweiz': 972, 'denkt': 973, 'werfen': 974, 'handelt': 975, 'naja': 976, 'freien': 977, 'mainz': 978, 'drogen': 979, 'sawsanchebli': 980, 'c': 981, 'abschaffen': 982, 'erklaeren': 983, 'etc': 984, 'freuen': 985, 'werbung': 986, 'ramadan': 987, 'bisher': 988, 'kritisie': 989, 'maerchen': 990, 'boese': 991, 'abgeordnete': 992, 'schlimmer': 993, 'bezahlt': 994, '500': 995, 'tato': 996, 'gross': 997, 'zeitung': 998, 'bezeichnet': 999, 'zahl': 1000, 'szene': 1001, '27': 1002, '05': 1003, 'staatsanwaltschaft': 1004, 'typ': 1005, 'belaestigt': 1006, 'juli': 1007, 'schafft': 1008, 'sowie': 1009, 'kindern': 1010, 'traurig': 1011, 'schreibt': 1012, 'glueckwunsch': 1013, 'schiessen': 1014, 'feie': 1015, 'europas': 1016, 'eilt': 1017, 'gleiche': 1018, 'steckt': 1019, 'chef': 1020, 'stbrandner': 1021, 'verhalten': 1022, 'afdwirkt': 1023, 'russland': 1024, 'multikulti': 1025, 'himmel': 1026, 'politikern': 1027, 'wen': 1028, 'rheinland': 1029, 'pfalz': 1030, 'journalisten': 1031, 'regeln': 1032, 'aussage': 1033, 'aktuell': 1034, 'islamisierung': 1035, 'wohnungen': 1036, 'verboten': 1037, 'spaet': 1038, 'jahres': 1039, 'gedanken': 1040, 'idioten': 1041, 'treffen': 1042, 'kannst': 1043, 'oeko': 1044, 'hals': 1045, 'nachrichten': 1046, 'tages': 1047, 'wenig': 1048, 'geloescht': 1049, 'ka': 1050, 'bevoelkerung': 1051, 'tiere': 1052, 'cc': 1053, 'verschwinden': 1054, 'wiltewka': 1055, 'wilke': 1056, 'georggukla': 1057, 'haraldbecker80': 1058, 'willnurschreibn': 1059, '66norweger66': 1060, 'rolandtichy': 1061, 'gudrunbecker11': 1062, 'puffyka81': 1063, 'noctidenktnach': 1064, 'knast': 1065, 'islamische': 1066, 'diktatur': 1067, 'arabien': 1068, 'heraus': 1069, 'bezahlen': 1070, 'attacke': 1071, 'kriminellen': 1072, '80': 1073, 'zdfheute': 1074, 'vergleich': 1075, 'schweigt': 1076, 'schritt': 1077, 'spiegelonline': 1078, 'bildung': 1079, 'cohn': 1080, 'bendit': 1081, 'veranstaltung': 1082, '1000': 1083, 'erreicht': 1084, 'missbraucht': 1085, 'ob': 1086, 'kandidaten': 1087, '25': 1088, 'rolle': 1089, 'fakten': 1090, 'innerhalb': 1091, 'demo': 1092, 'verhaftet': 1093, 'refugeeswelcome': 1094, 'ideologie': 1095, 'mitte': 1096, 'reicht': 1097, 'zug': 1098, 'integration': 1099, 'regensburg': 1100, 'monat': 1101, 'mehreren': 1102, 'zieht': 1103, 'oben': 1104, 'hause': 1105, 'droht': 1106, 'hilfe': 1107, 'naechstes': 1108, 'schwachsinn': 1109, 'vielfalt': 1110, 'augen': 1111, 'kampf': 1112, 'dumme': 1113, 'plan': 1114, 'kramp': 1115, 'lernen': 1116, 'berichterstattung': 1117, 'wuenschen': 1118, 'system': 1119, 'hoechsten': 1120, 'wohnen': 1121, 'sau': 1122, 'papa': 1123, 'projekt': 1124, 'ordnung': 1125, 'hintergrund': 1126, 'schweigen': 1127, 'fehlen': 1128, '28': 1129, 'erwa': 1130, 'gehtwaehlen': 1131, 'aktivisten': 1132, 'unten': 1133, 'park': 1134, 'schoenen': 1135, 'lustig': 1136, 'scholz': 1137, 'aufgrund': 1138, 'lese': 1139, 'abschiebungen': 1140, 'tolle': 1141, 'getoetet': 1142, 'froh': 1143, 'einzelfall': 1144, 'gold': 1145, 'wahnsinn': 1146, 'bieten': 1147, 'relotius': 1148, 'siehe': 1149, 'donald': 1150, 'bekannt': 1151, 'kampagne': 1152, 'boehmermann': 1153, 'grundgesetz': 1154, 'halte': 1155, 'grosser': 1156, '21': 1157, '04': 1158, 'wahlkampf': 1159, 'passanten': 1160, 'stoppen': 1161, 'kommentar': 1162, 'allah': 1163, 'faeh': 1164, 'beschaeftigt': 1165, 'roth': 1166, 'also': 1167, 'wirft': 1168, 'r': 1169, '29': 1170, 'wetter': 1171, 'vergangenen': 1172, 'dann': 1173, 'bilder': 1174, 'aeh': 1175, 'alter': 1176, 'ibizagate': 1177, 'punkt': 1178, 'all': 1179, 'ritt': 1180, 'rechten': 1181, 'erinne': 1182, 'account': 1183, 'fehler': 1184, 'anfang': 1185, 'richter': 1186, 'redaktion': 1187, 'laden': 1188, 'gescheite': 1189, 'neuen': 1190, 'wahren': 1191, 'ueberraschung': 1192, 'koennt': 1193, 'kern': 1194, 'programm': 1195, 'verlieren': 1196, 'araber': 1197, 'unternehmen': 1198, 'dringend': 1199, 'mitten': 1200, 'gemeinsam': 1201, 'sprache': 1202, 'stand': 1203, 'ziel': 1204, 'grad': 1205, 'klimahysterie': 1206, 'scheinbar': 1207, '22': 1208, 'globalen': 1209, 'ihr': 1210, 'beide': 1211, 'greifen': 1212, 'p': 1213, 'veroeffentlicht': 1214, 'zensur': 1215, 'dresden': 1216, 'gespraech': 1217, 'tim': 1218, 'ploetzlich': 1219, 'euwahl19': 1220, 'sebastiankurz': 1221, 'gruener': 1222, 'freund': 1223, 'hatte': 1224, 'manchmal': 1225, 'ostdeutschland': 1226, 'steinhoefel': 1227, 'germany': 1228, 'pack': 1229, 'walter': 1230, 'the': 1231, 'hirn': 1232, 'more': 1233, 'schnell': 1234, 'pleite': 1235, 'berlinsevent': 1236, 'professorin': 1237, '4kolner': 1238, 'dpolgbund': 1239, 'twittersuppo': 1240, 'mitleid': 1241, 'al': 1242, 'f': 1243, 'lich': 1244, 'nigerianer': 1245, '75': 1246, 'krankenhaus': 1247, 'meint': 1248, '2000': 1249, 'mohammed': 1250, 'erzaehlt': 1251, 'fuehlt': 1252, 'syrische': 1253, 'jaehriges': 1254, 'christliche': 1255, 'fehlt': 1256, 'zwingen': 1257, 'kollegen': 1258, 'weiteren': 1259, 'sebastianwippel': 1260, 'aktion': 1261, 'wollten': 1262, 'sta': 1263, 'morgens': 1264, 'um': 1265, 'lvz': 1266, 'verletzte': 1267, 'beamten': 1268, 'hast': 1269, 'situation': 1270, 'darunter': 1271, 'geschickt': 1272, 'angesprochen': 1273, 'sagte': 1274, 'aufs': 1275, 'durch': 1276, 'michel': 1277, 'laecherlich': 1278, 'weiterhin': 1279, 'stueck': 1280, 'hauptsache': 1281, 'amazon': 1282, 'form': 1283, 'waeren': 1284, 'erfolgreich': 1285, 'waren': 1286, 'maas': 1287, 'karrenbauer': 1288, 'klarnamenpflicht': 1289, 'grillen': 1290, 'bringt': 1291, 'fuss': 1292, 'bewegung': 1293, 'diffamie': 1294, 'sebastian': 1295, 'duesseldorf': 1296, 'afrikanische': 1297, 'dorf': 1298, 'aeusse': 1299, 'abschiebung': 1300, 'verbietet': 1301, 'muessten': 1302, 'afghane': 1303, 'linksextreme': 1304, 'sterben': 1305, 'bruessel': 1306, 'widerspricht': 1307, 'aufgefallen': 1308, 'geist': 1309, 'linksgruene': 1310, 'aufnehmen': 1311, 'versucht': 1312, 'werdet': 1313, 'naemlich': 1314, 'eurovision': 1315, 'gelesen': 1316, 'sage': 1317, 'laengst': 1318, 'gruenden': 1319, 'spdde': 1320, 'arabische': 1321, 'skandal': 1322, 'oma': 1323, 'gedacht': 1324, 'abgeordneten': 1325, 'identitaet': 1326, 'hintergruende': 1327, 'anteil': 1328, 'karl': 1329, 'entschuldigung': 1330, 'helfen': 1331, 'stein': 1332, 'bedeutet': 1333, 'gaebe': 1334, 'teuer': 1335, 'bande': 1336, 'mainstream': 1337, 'kirche': 1338, 'sozialdemokraten': 1339, 'bei': 1340, 'mueller': 1341, 'wiederholt': 1342, 'aufschrei': 1343, 'unterstuetzen': 1344, 'stimmen': 1345, 'stag': 1346, 'klare': 1347, 'lieben': 1348, 'claudia': 1349, 'du': 1350, 'terroristen': 1351, 'future': 1352, 'daten': 1353, 'stunde': 1354, 'schau': 1355, 'sz': 1356, 'selten': 1357, 'reagie': 1358, 'ag': 1359, 'spitzenkandidat': 1360, 'stiftung': 1361, 'leistung': 1362, 'gauland': 1363, 'wem': 1364, 'ehrlich': 1365, 'mensch': 1366, 'vs': 1367, 'daher': 1368, 'drin': 1369, 'bevormundung': 1370, 'den': 1371, 'peter': 1372, 'eil': 1373, 'frag': 1374, 'vorn': 1375, 'sehr': 1376, 'stimme': 1377, 'zeichen': 1378, 'wasser': 1379, 'ausland': 1380, 'geschlossen': 1381, 'alt': 1382, 'zuwanderung': 1383, 'haltung': 1384, 'lernt': 1385, 'beleidigt': 1386, 'sacharbeit': 1387, 'entschuldigen': 1388, 'laenger': 1389, 'ok': 1390, 'stirbt': 1391, 'anschauen': 1392, 'weber': 1393, 'thunberg': 1394, 'heissen': 1395, 'herkunft': 1396, 'steuerzahler': 1397, 'energiewende': 1398, 'strom': 1399, 'rentner': 1400, 'geschafft': 1401, 'hessen': 1402, 'reaktion': 1403, 'sohn': 1404, 'spielt': 1405, 'bedrohen': 1406, 'indien': 1407, 'gern': 1408, 'justiz': 1409, 'komplett': 1410, 'rest': 1411, 'gearbeitet': 1412, 'wissenschaftler': 1413, 'sma': 1414, 'beliebt': 1415, 'attackie': 1416, 'bundeswehr': 1417, 'polit': 1418, 'kofferraum': 1419, 'scheisse': 1420, 'lesenswe': 1421, 'wahre': 1422, 'freiwillig': 1423, 'ursula': 1424, 'haverbeck': 1425, 'wsk': 1426, 'weiteres': 1427, '06': 1428, 'ehrendoktor': 1429, 'bloss': 1430, 'kickl': 1431, 'juncker': 1432, 'huch': 1433, 'jahrelang': 1434, 'interessie': 1435, 'polen': 1436, 'mich': 1437, 'hose': 1438, 'laufen': 1439, 'einwohner': 1440, 'schuhe': 1441, 'erika': 1442, 'schliesst': 1443, 'monaten': 1444, 'bin': 1445, 'unterstuetzung': 1446, 'nazisraus': 1447, 'wald': 1448, 'merdeux': 1449, 'khinnek': 1450, 'ofenschlampe': 1451, 'scheiss': 1452, 'doch': 1453, 'schauen': 1454, 'arme': 1455, 'horst': 1456, 'wikimedia': 1457, 'sa': 1458, 'capitol': 1459, 'weil': 1460, 'bahnhofshosting': 1461, 'heim': 1462, 'gebtdenschwagerfrei': 1463, 'koelner': 1464, 'kaputt': 1465, 'afghanistan': 1466, 'einreise': 1467, 'hannover': 1468, 'ehemalige': 1469, 'holen': 1470, 'usw': 1471, 'dera': 1472, 'schweren': 1473, 'zumindest': 1474, 'jesus': 1475, 'rechtfe': 1476, 'festgenommen': 1477, 'syrien': 1478, 'schutzsuchende': 1479, 'wichtiger': 1480, 'hetzen': 1481, 'anstatt': 1482, 'buch': 1483, 'afdimbundestag': 1484, 'regieren': 1485, 'finanzieren': 1486, 'infrastruktur': 1487, 'freitag': 1488, 'km': 1489, 'erreichen': 1490, 'zweifel': 1491, 'zuvor': 1492, 'illegalen': 1493, 'solange': 1494, 'sozialistische': 1495, 'derorient': 1496, 'willen': 1497, 'steinmeier': 1498, 'brief': 1499, 'goerlitzer': 1500, 'satz': 1501, 'tichyseinblick': 1502, 'erde': 1503, 'hand': 1504, 'fragt': 1505, 'migrant': 1506, 'steigen': 1507, 'gaeste': 1508, 'bka': 1509, 'herzchen': 1510, 'prozess': 1511, 'gretel': 1512, 'interessanter': 1513, 'imam': 1514, 'ige': 1515, 'gefaehrder': 1516, 'verbreitet': 1517, 'tatverdaechtigen': 1518, '34': 1519, 'strafanzeige': 1520, 'nachbarn': 1521, '51': 1522, 'hofga': 1523, 'tragen': 1524, 'liegen': 1525, 'abgelehnt': 1526, 'bonn': 1527, 'schreibe': 1528, 'rag': 1529, 'lehrer': 1530, 'komisch': 1531, 'moege': 1532, 'krass': 1533, 'notwendig': 1534, 'schoenes': 1535, 'schwarzer': 1536, 'bereicherung': 1537, 'edeka': 1538, 'zeitgeist': 1539, 'grosses': 1540, 'brand': 1541, 'wahlomat': 1542, 'accounts': 1543, 'samt': 1544, 'soros': 1545, 'schulz': 1546, 'stasi': 1547, 'unterstuetzt': 1548, 'gefragt': 1549, 'toten': 1550, 'klingt': 1551, 'sekte': 1552, 'generation': 1553, 'metoo': 1554, 'mund': 1555, 'grundschule': 1556, '71': 1557, 'pass': 1558, 'verdienen': 1559, 'hoffnung': 1560, 'echte': 1561, 'vorbei': 1562, 'spuren': 1563, 'eurospo': 1564, 'brennt': 1565, 'bvb': 1566, 'einst': 1567, 'vorstellen': 1568, 'wohin': 1569, 'magnitz': 1570, 'reagieren': 1571, 'zuerst': 1572, 'silvester': 1573, 'italiener': 1574, 'sorgt': 1575, 'blau': 1576, 'gruesse': 1577, 'betrieb': 1578, 'sexuelle': 1579, 'gehabt': 1580, 'montag': 1581, 'pressekonferenz': 1582, 'dieter': 1583, 'schock': 1584, 'connor': 1585, 'studenten': 1586, 'neben': 1587, 'angesichts': 1588, 'meinungen': 1589, 'verstehe': 1590, 'beleidigungen': 1591, 'freunde': 1592, 'papst': 1593, 'globale': 1594, 'banken': 1595, 'prof': 1596, 'einwanderung': 1597, 'robe': 1598, 'griechenland': 1599, 'landtagswahl': 1600, 'hassen': 1601, 'diskutieren': 1602, 'geplant': 1603, 'legt': 1604, 'baden': 1605, 'temberg': 1606, 'dt': 1607, '800': 1608, 'islamisten': 1609, 'linksextremismus': 1610, 'sinn': 1611, 'konsequent': 1612, 'trifft': 1613, 'versuchen': 1614, 'fand': 1615, 'gretathunberg': 1616, 'twitternwie18uhr': 1617, 'rlp': 1618, 'volkspa': 1619, 'spdrlp': 1620, 'panik': 1621, 'entwicklung': 1622, 'warnen': 1623, 'gegeben': 1624, 'republik': 1625, 'herrn': 1626, 'staendig': 1627, 'helfer': 1628, 'sarah': 1629, 'uns': 1630, 'eunion': 1631, 'mob': 1632, 'koblenz': 1633, 'linksgruener': 1634, 'boesen': 1635, 'linksradikale': 1636, 'kreis': 1637, 'sylvia': 1638, 'steigt': 1639, 'koalition': 1640, 'gefahr': 1641, 'faznet': 1642, 'schreitet': 1643, 'reine': 1644, '00': 1645, '31': 1646, 'elektromobilitaet': 1647, 'dreck': 1648, 'akzeptieren': 1649, 'groesser': 1650, 'sarrazin': 1651, 'fusion': 1652, 'promis': 1653, 'asylpolitik': 1654, 'soehne': 1655, 'klaut': 1656, 'innen': 1657, 'alles': 1658, 'haftbefehl': 1659, 'direkt': 1660, 'voller': 1661, '43': 1662, 'moment': 1663, 'co': 1664, 'georg': 1665, 'arzt': 1666, 'noetig': 1667, 'technik': 1668, 'foerdern': 1669, 'erstmal': 1670, 'fah': 1671, 'wo': 1672, 'absolut': 1673, 'anwalt': 1674, 'kindes': 1675, 'wichtigste': 1676, 'dummheit': 1677, 'irak': 1678, 'kippa': 1679, 'spoe': 1680, 'jobs': 1681, 'erdogan': 1682, 'diejenigen': 1683, 'schluss': 1684, 'team': 1685, 'erinnerung': 1686, 'schaut': 1687, 'post': 1688, 'sn': 1689, 'fenster': 1690, 'w': 1691, 'fcknzs': 1692, 'empoe': 1693, 'pi': 1694, 'version': 1695, 'gehe': 1696, 'menschenrechte': 1697, 'entfernt': 1698, 'gleichen': 1699, 'wozu': 1700, 'merz': 1701, 'arsch': 1702, 'wind': 1703, 'mist': 1704, 'mord': 1705, 'ung': 1706, 'stasifrau': 1707, 'kahane': 1708, 'produktion': 1709, 'read': 1710, 'iran': 1711, 'suche': 1712, 'kostet': 1713, 'hoffe': 1714, 'npistcool': 1715, 'dieneranton': 1716, 'kaufhof': 1717, 'rolandgarros': 1718, 'europee2019': 1719, 'jaxxon2905': 1720, 'abklatschen': 1721, 'erkennt': 1722, 'wollte': 1723, 'hin': 1724, 'nigeria': 1725, 'zahlreiche': 1726, 'offenburg': 1727, 'somalier': 1728, 'nachts': 1729, 'stoe': 1730, 'hetzer': 1731, 'abend': 1732, 'flugzeug': 1733, 'volksverhetzung': 1734, 'antrag': 1735, 'bericht': 1736, 'kuenftig': 1737, 'herbst': 1738, 'proteus93484191': 1739, 'stattdessen': 1740, 'spinner': 1741, 'willkommen': 1742, 'spenden': 1743, 'infos': 1744, 'sinne': 1745, 'eilung': 1746, 'weise': 1747, 'fruehere': 1748, 'tradition': 1749, 'homosexuelle': 1750, 'bauch': 1751, 'protest': 1752, 'lag': 1753, 'verbunden': 1754, 'offiziell': 1755, 'aussenminister': 1756, 'uebernehmen': 1757, 'offener': 1758, 'bruhl': 1759, 'ellevisionnaire': 1760, 'brigittebrochet': 1761, 'boxingondvd': 1762, 'danielkehlmann': 1763, 'ps': 1764, 'einer': 1765, 'gefoerde': 1766, 'massive': 1767, 'kanzlerkandidatin': 1768, 'meinte': 1769, 'benehmen': 1770, 'friedensnobelpreis': 1771, 'preis': 1772, 'hohe': 1773, 'leiche': 1774, 'zunaechst': 1775, 'attackieren': 1776, 'syrischer': 1777, 'psychisch': 1778, 'liste': 1779, 'taten': 1780, 'soweit': 1781, 'massnahme': 1782, 'dreht': 1783, 'behauptet': 1784, 'waehle': 1785, 'retweeten': 1786, 'leicht': 1787, 'bundesrepublik': 1788, 'geforde': 1789, 'goeringeckardt': 1790, 'bewusst': 1791, 'botschaft': 1792, 'ostern': 1793, 'friedens': 1794, 'zehn': 1795, 'verbrechen': 1796, 'zuckerfest': 1797, 'sex': 1798, 'oesterreicher': 1799, 'max': 1800, 'demonstration': 1801, 'patrioten': 1802, 'abschneiden': 1803, '32': 1804, 'gesteue': 1805, 'schliesslich': 1806, 'arabischen': 1807, 'freie': 1808, 'gezogen': 1809, 'alleine': 1810, 'eugh': 1811, 'bestaetigt': 1812, 'g': 1813, 'bauen': 1814, 'leipzig': 1815, 'westlichen': 1816, 'auftreten': 1817, 'homosexuellen': 1818, 'wagen': 1819, 'behoerden': 1820, 'beiden': 1821, 'anlass': 1822, 'brutalen': 1823, 'frohe': 1824, 'hoeren': 1825, 'youtuber': 1826, 'fans': 1827, 'dahin': 1828, 'gehwaehlen': 1829, 'alternative': 1830, 'uebel': 1831, 'aussieht': 1832, 'denn': 1833, 'mache': 1834, 'peinlich': 1835, 'bezeichnen': 1836, 'chebliwitze': 1837, 'klimanotstand': 1838, 'wordpressdotcom': 1839, 'organisie': 1840, 'zuwanderer': 1841, 'traumatisie': 1842, 'offene': 1843, 'manfredweber': 1844, 'organspende': 1845, 'weshalb': 1846, 'sozialistischen': 1847, 'schafe': 1848, 'widerlich': 1849, 't100007140969': 1850, 'pflicht': 1851, 'koerper': 1852, 'hosen': 1853, 'kalt': 1854, 'fruehling': 1855, 'verlust': 1856, 'zufaellig': 1857, 'verpflichtet': 1858, 'wohnungsnot': 1859, 'energie': 1860, 'erfunden': 1861, 'jugendlichen': 1862, 'ziemlich': 1863, 'sender': 1864, 'andere': 1865, 'info': 1866, 'alimentie': 1867, 'ausserhalb': 1868, 'handeln': 1869, 'fanden': 1870, 'wider': 1871, 'steinbacherika': 1872, 'armut': 1873, 'uebernimmt': 1874, 'debatte': 1875, 'kathedrale': 1876, 'steuer': 1877, 'bereich': 1878, 'bist': 1879, 'christian': 1880, 'freiburg': 1881, 'winter': 1882, 'zudem': 1883, 'ueckendorf': 1884, 'kaempft': 1885, 'aufgedeckt': 1886, 'null': 1887, 'aba': 1888, 'dadurch': 1889, 'januar': 1890, 'wochen': 1891, 'monate': 1892, 'straftaeter': 1893, 'versteht': 1894, 'hamburger': 1895, 'russische': 1896, 'politisch': 1897, 'bereit': 1898, 'mohr': 1899, 'wacht': 1900, 'hoffen': 1901, 'sieg': 1902, 'pokal': 1903, 'drdavidberger': 1904, 'anders': 1905, 'friday': 1906, 'demonstrieren': 1907, 'briten': 1908, 'kurs': 1909, 'darin': 1910, 'krippmarie': 1911, 'demonstrie': 1912, 'daraus': 1913, 'lebende': 1914, 'eile': 1915, 'baum': 1916, 'fehlanzeige': 1917, 'trauer': 1918, 'fuehlen': 1919, 'bamf': 1920, 'fliegen': 1921, 'jan': 1922, 'friedrich': 1923, 'vaterland': 1924, 'europaeischen': 1925, 'unrecht': 1926, 'gehoeren': 1927, 'eigener': 1928, 'muenster': 1929, 'verlierer': 1930, 'demos': 1931, 'ehre': 1932, 'pakt': 1933, 'oesterreichische': 1934, 'meldung': 1935, 'mindestens': 1936, 'entweder': 1937, 'mecklenburg': 1938, 'vorpommern': 1939, 'aktuelle': 1940, '2016': 1941, 'kopftuchverbot': 1942, 'stimmung': 1943, 'gas': 1944, 'wue': 1945, 'schwere': 1946, 'straftat': 1947, 'oekonom': 1948, 'fake': 1949, 'wieso': 1950, 'afdfraktionrlp': 1951, 'gestiegen': 1952, 'luegenpresse': 1953, 'nachdenken': 1954, 'weilesreicht': 1955, 'wahlfaelschung': 1956, 'gutes': 1957, 'genossen': 1958, 'duerfte': 1959, 'ruecktritt': 1960, 'hoechste': 1961, 'koebberling': 1962, 'willkommenskultur': 1963, 'kanzlerschaft': 1964, 'muslimische': 1965, 'erden': 1966, 'interessieren': 1967, 'bfv': 1968, 'schweitzer': 1969, 'linksextremen': 1970, 'tuer': 1971, 'minister': 1972, '90': 1973, 'europaparlament': 1974, 'sache': 1975, 'kevin': 1976, 'rote': 1977, 'fakt': 1978, 'titel': 1979, 'pks': 1980, 'nutzen': 1981, 'begreifen': 1982, 'doppelmoral': 1983, 'ie': 1984, 'offen': 1985, 'geldboerse': 1986, 'hinweise': 1987, 'zustand': 1988, 'ausdruck': 1989, 'stelle': 1990, 'jouwatch': 1991, 'uebrig': 1992, 'abschaum': 1993, 'demonstranten': 1994, 'untergang': 1995, 'irgendwelche': 1996, 'sondern': 1997, 'medizin': 1998, 'erwaermung': 1999, 'entlassen': 2000, 'anne': 2001, 'hoehe': 2002, 'uebergriff': 2003, 'beschimpft': 2004, 'gegangen': 2005, 'migrantengewalt': 2006, 'tief': 2007, 'sticht': 2008, 'oranienburg': 2009, 'notwehr': 2010, 'sparen': 2011, 'jedoch': 2012, 'gefallen': 2013, 'im': 2014, 'teilnehmer': 2015, 'verhindern': 2016, 'fassungslos': 2017, 'angaben': 2018, 'aerzte': 2019, 'unbekannte': 2020, 'schwarze': 2021, 'bundespraesident': 2022, 'sexuellen': 2023, 'druck': 2024, 'anschlag': 2025, 'achtung': 2026, 'dialog': 2027, 'vorhanden': 2028, 'eine': 2029, 'wunde': 2030, 'farbe': 2031, 'scheite': 2032, 'beantragen': 2033, 'hc': 2034, 'ibizavideo': 2035, 'ibiza': 2036, 'ischias': 2037, 'bunten': 2038, 'korruption': 2039, 'kriminell': 2040, 'x': 2041, 'merkt': 2042, 'gleichzeitig': 2043, 'bislang': 2044, 'polizist': 2045, 'weidel': 2046, 'innenstadt': 2047, 'hammer': 2048, 'springen': 2049, 'auswae': 2050, 'deckt': 2051, 'agenda': 2052, 'staedte': 2053, 'einwohnerzahl': 2054, 'verkaufen': 2055, 'christlichen': 2056, 'kloeckner': 2057, 'analyse': 2058, 'grade': 2059, 'landtag': 2060, 'opfern': 2061, 'moralischen': 2062, 'streit': 2063, 'faschisten': 2064, 'autofahren': 2065, 'gefaehrlich': 2066, 'rassistisch': 2067, 'erschreckend': 2068, 'satire': 2069, '42': 2070, 'bundesgockel': 2071, 'kriegt': 2072, 'sonne': 2073, 'derzeit': 2074, 'schwul': 2075, 'vatikan': 2076, 'kenne': 2077, 'name': 2078, 'lage': 2079, 'nochmal': 2080, 'irgendwas': 2081, 'polenz': 2082, 'platinmensch': 2083, 'lauterbach': 2084, 'naehe': 2085, 'hinweis': 2086, 'impo': 2087, 'gesamte': 2088, 'demnaechst': 2089, 'film': 2090, 'rettung': 2091, 'fresse': 2092, 'vorschlag': 2093, 'kim': 2094, 'jong': 2095, 'tollen': 2096, 'muell': 2097, 'bundeskanzler': 2098, 'sitzen': 2099, 'kotzen': 2100, 'ans': 2101, 'autobahnen': 2102, 'schaedlich': 2103, 'sogenannten': 2104, 'luegt': 2105, 'arbeitsplaetze': 2106, 'bricht': 2107, 'schicken': 2108, 'gefahren': 2109, 'ausgabe': 2110, 'aldi': 2111, 'wunder': 2112, 'damals': 2113, 'ausgeschlossen': 2114, 'zinsen': 2115, 'hauptstadt': 2116, 'esc': 2117, 'alltag': 2118, 'croydon': 2119, 'rebeccas': 2120, 'hennigsdorf': 2121, 'profil': 2122, 'insolvenz': 2123, 'mitarbeitern': 2124, 'frenchopen': 2125, 'klimakrise': 2126, 'suppo': 2127, 'brutale': 2128, 'konsequenzen': 2129, 'einreisen': 2130, 'linksextremisten': 2131, 'gebaeude': 2132, 'teils': 2133, 'greift': 2134, 'senioren': 2135, 'zeugen': 2136, 'jahrhunde': 2137, 'demnach': 2138, 'kreuzberg': 2139, 'verdaechtiger': 2140, 'tunesier': 2141, 'rechtliche': 2142, 'lehnt': 2143, 'illner': 2144, 'plus': 2145, 'empoerung': 2146, 'wieviel': 2147, 'wichtige': 2148, 'persoenlich': 2149, 'nummer': 2150, 'freue': 2151, 'sprecher': 2152, 'freude': 2153, 'haelfte': 2154, 'nebenbei': 2155, 'wohlstand': 2156, 'fundie': 2157, 'oeffentliche': 2158, 'aktiv': 2159, '120': 2160, 'erster': 2161, 'ausueben': 2162, 'wippel': 2163, 'geeignet': 2164, 'davor': 2165, 'bundesweit': 2166, 'aufregung': 2167, 'skandie': 2168, 'forderung': 2169, 'beschlossen': 2170, 'verpruegelt': 2171, 'verschweigen': 2172, 'drohen': 2173, 'freispruch': 2174, 'rechtsextrem': 2175, 'schuetzt': 2176, 'schwerer': 2177, 'sicherlich': 2178, 'buecher': 2179, 'ostmann1977': 2180, 'herzen': 2181, 'chance': 2182, 'arasbacho': 2183, 'schaftlichen': 2184, 'r2g': 2185, 'eigenes': 2186, 'schulschwaenzen': 2187, 'deutschem': 2188, 'israelischen': 2189, 'lehrerin': 2190, 'traut': 2191, '1989': 2192, 'zwang': 2193, 'arabisch': 2194, 'hamm': 2195, '65': 2196, 'betreten': 2197, 'reihen': 2198, 'baby': 2199, 'to': 2200, 'festnahme': 2201, 'fastenbrechen': 2202, 'herrscht': 2203, 'witz': 2204, 'universitaet': 2205, 'legen': 2206, 'nenne': 2207, 'missbrauchen': 2208, 'mundaufmachen': 2209, '2014': 2210, 'convalaria1': 2211, 'wirklichkeit123': 2212, 'tschonka': 2213, 'verbote': 2214, '99': 2215, 'betreiben': 2216, 'punkte': 2217, 'focusonline': 2218, 'wirken': 2219, 'bae': 2220, 'waer': 2221, 'dankbar': 2222, 'glaeubige': 2223, 'gefueh': 2224, 'singt': 2225, 'geteilt': 2226, 'baerbeli04': 2227, 'schloss': 2228, 'angezeigt': 2229, 'theorie': 2230, 'geaeusse': 2231, 'aussen': 2232, 'seiten': 2233, 'uebergriffe': 2234, 'oer': 2235, 'wand': 2236, 'journalistin': 2237, 'lediglich': 2238, '47': 2239, 'eritrea': 2240, 'meist': 2241, 'ums': 2242, 'hh': 2243, 'kz': 2244, 'moscheen': 2245, 'afghanen': 2246, 'nase': 2247, 'bestimmten': 2248, 'rechtsextremen': 2249, 'werde': 2250, 'konnten': 2251, 'paris': 2252, 'gruppen': 2253, 'grossa': 2254, 'cent': 2255, 'vergangenheit': 2256, 'unbedingt': 2257, 'btw': 2258, 'aelteren': 2259, 'einzelne': 2260, 'europaeer': 2261, 'keh': 2262, 'esc2019': 2263, 'auswandern': 2264, 'alice': 2265, 'geloest': 2266, 'dealer': 2267, 'bunte': 2268, 'entspricht': 2269, 'sisha': 2270, 'prinzip': 2271, 'verpasst': 2272, 'dauer': 2273, 'klein': 2274, 'heiko': 2275, 'grossstaedte': 2276, 'unfall': 2277, 'erzaehlen': 2278, 'libyen': 2279, 'petition': 2280, 'klientel': 2281, 'entschieden': 2282, 'zugleich': 2283, 'weisse': 2284, 'konze': 2285, 'liest': 2286, 'laschet': 2287, 'menschheit': 2288, 'geboren': 2289, 'kanal': 2290, 'tunesien': 2291, 'planen': 2292, 'raum': 2293, 'aufzunehmen': 2294, 'linksfraktion': 2295, 'integrie': 2296, 'einwanderer': 2297, 'demokraten': 2298, 'regie': 2299, 'pferd': 2300, 'terroranschlaege': 2301, 'aussehen': 2302, 'heutige': 2303, 'haaren': 2304, 'toedlich': 2305, 'verrueckt': 2306, 'faz': 2307, 'million': 2308, 'finanzierung': 2309, 'rechtlichen': 2310, '400': 2311, 'jaehrlich': 2312, 'nachgewiesen': 2313, 'unterhalten': 2314, 'lass': 2315, 'krise': 2316, 'aufwachen': 2317, 'anfrage': 2318, 'normale': 2319, 'hey': 2320, 'hauptbahnhof': 2321, 'draussen': 2322, 'blut': 2323, 'bewahren': 2324, 'oberbuergermeister': 2325, 'gejagt': 2326, 'sueddeutsche': 2327, 'beweis': 2328, 'kandidat': 2329, 'angeklagt': 2330, 'diesel': 2331, 'verhinde': 2332, 'mehrheit': 2333, 'waehlern': 2334, 'generie': 2335, 'feuer': 2336, 'bischof': 2337, 'erinnern': 2338, 'isak': 2339, 'verlaesst': 2340, 'rettet': 2341, 'niedergang': 2342, 'niveau': 2343, 'private': 2344, 'konservative': 2345, 'sitze': 2346, 'ausgesprochen': 2347, 'ber': 2348, 'he': 2349, 'stadion': 2350, 'musste': 2351, 'kamen': 2352, 'hatten': 2353, 'bahnhof': 2354, 'leib': 2355, 'unglaublich': 2356, 'bereiche': 2357, 'la': 2358, 'sprechen': 2359, 'wolfssanguis': 2360, 'abgesehen': 2361, 'hinten': 2362, 'entscheidung': 2363, 'bedrohung': 2364, 'strafe': 2365, 'staatsbuerger': 2366, 'freut': 2367, 'kranker': 2368, 'bruellen': 2369, 'isch': 2370, 'strategie': 2371, 'zweiten': 2372, 'verschleude': 2373, 'runter': 2374, 'zahlt': 2375, 'andreas': 2376, 'geplante': 2377, 'komme': 2378, 'oeffnen': 2379, 'ueberlegt': 2380, 'nuernberg': 2381, 'kovac': 2382, 'demokratischen': 2383, 'dicke': 2384, 'behinde': 2385, 'ueberschrift': 2386, 'schmidt': 2387, 'wenige': 2388, 'florian': 2389, 'recherche': 2390, 'richtlinie': 2391, 'fachkraeftemangel': 2392, 'aeusserung': 2393, 'aufgenommen': 2394, 'benoetigt': 2395, 'netzdg': 2396, 'europaeische': 2397, 'derspiegel': 2398, 'twittern': 2399, 'stellenabbau': 2400, 'zitie': 2401, 'ausgrenzung': 2402, 'harderkuehnel': 2403, 'undemokratisch': 2404, 'vernunft': 2405, 'industrie': 2406, 'googeln': 2407, 'lebt': 2408, 'benutzt': 2409, 'echten': 2410, 'dass': 2411, 'arm': 2412, 'drahtzieher': 2413, 'hassrede': 2414, 'beteiligen': 2415, 'rennen': 2416, 'stecken': 2417, 'bmfsfj': 2418, 'neutralitaet': 2419, 'po': 2420, 'ehrliche': 2421, 'thueringen': 2422, 'moegen': 2423, 'bundestagsabgeordnete': 2424, 'extrem': 2425, 'schuelern': 2426, 'flughafen': 2427, 'fuerchten': 2428, 'dritte': 2429, 'fluechtlingsunterkunft': 2430, 'logisch': 2431, 'rechnen': 2432, 'extremismus': 2433, 'naiv': 2434, 'abschieben': 2435, 'klagen': 2436, 'studieren': 2437, 'gemeinsamen': 2438, 'franz': 2439, 'merken': 2440, 'dankespd': 2441, 'fraktionnds': 2442, 'euwahl2019': 2443, 'vorsitzende': 2444, 'landtagswahlen': 2445, '2021': 2446, 'faengt': 2447, 'irrsinn': 2448, 'mayen': 2449, 'kanzleramt': 2450, 'beendet': 2451, 'hoechst': 2452, 'rezo': 2453, 'konservativen': 2454, 'getan': 2455, 'verbrecher': 2456, 'gegenteil': 2457, 'ministerium': 2458, 'entscheidet': 2459, 'salafisten': 2460, 'hisbollah': 2461, 'miteinander': 2462, 'elektro': 2463, 'landesregierung': 2464, 'verachten': 2465, 'klimapolitik': 2466, 'pharisaeer': 2467, 'widerstand': 2468, 'leisten': 2469, 'age': 2470, 'einfluss': 2471, 'dienstag': 2472, 'beatrix': 2473, 'marktwi': 2474, '600': 2475, '116': 2476, 'reisen': 2477, 'erstmals': 2478, 'vorbereitung': 2479, 'erkennen': 2480, 'feind': 2481, 'morddrohungen': 2482, 'muslimischen': 2483, 'sozialsysteme': 2484, 'gtzfrmming': 2485, 'bmi': 2486, 'ruecken': 2487, 'genosse': 2488, 'arbeiter': 2489, 'lafontaine': 2490, 'elektroauto': 2491, 'verraten': 2492, 'verzichten': 2493, 'witzig': 2494, 'einzigen': 2495, 'brav': 2496, 'michaelstuerzi': 2497, 'ga': 2498, 'mannes': 2499, 'externen': 2500, 'terrororganisation': 2501, 'guter': 2502, 'schreie': 2503, 'reten': 2504, 'freunden': 2505, 'handy': 2506, 'sechs': 2507, 'pruegeln': 2508, 'eid': 2509, 'kassel': 2510, 'allahuakbar': 2511, 'irrenhaus': 2512, 'genannt': 2513, 'rechtsradikalen': 2514, 'hut': 2515, 'bt': 2516, 'tonnen': 2517, 'soisset': 2518, 'damit': 2519, 'anstieg': 2520, 'gewaltsam': 2521, 'moeglicherweise': 2522, 'staatsanwalt': 2523, 'dollar': 2524, 'acht': 2525, 'hans': 2526, 'haengt': 2527, 'facharbeiter': 2528, 'mitteln': 2529, 'juedischen': 2530, 'ruw': 2531, 'organisation': 2532, 'cran': 2533, 'ufo': 2534, 'begonnen': 2535, 'itel': 2536, 'eins': 2537, 'illegal': 2538, 'stets': 2539, 'ueberlegen': 2540, 'fluechten': 2541, 'vergewaltiger': 2542, 'waehrenddessen': 2543, 'srilanka': 2544, 'ern': 2545, 'huepfen': 2546, 'wollt': 2547, 'rezovideo': 2548, 'engagie': 2549, 'werk': 2550, 'ungarn': 2551, 'matteo': 2552, 'runde': 2553, 'legal': 2554, 'vo': 2555, 'genies': 2556, 'innenministerium': 2557, 'versprochen': 2558, 'falle': 2559, 'moechten': 2560, 'grundlage': 2561, 'schuss': 2562, 'knapp': 2563, 'tochter': 2564, 'scharf': 2565, 'vergewaltigen': 2566, 'rom': 2567, 'vorschlaege': 2568, 'spiel': 2569, 'uebersicht': 2570, 'begann': 2571, 'thread': 2572, 'unterschreiben': 2573, 'appell': 2574, 'miete': 2575, 'aktien': 2576, 'umgehen': 2577, '1905': 2578, 'braunen': 2579, 'verkauft': 2580, 'typen': 2581, 'volkslehrer': 2582, 'song': 2583, 'nestl': 2584, 'schwulen': 2585, 'tode': 2586, 'fckafd': 2587, 'liefern': 2588, 'dritten': 2589, 'loeschen': 2590, '77': 2591, 'eidigung': 2592, 'beschliesst': 2593, 'moeglichst': 2594, 'volkes': 2595, 'minderheit': 2596, 'klarer': 2597, 'gestalten': 2598, 'nerven': 2599, 'flugtaxis': 2600, 'gezeigt': 2601, 'shi': 2602, 'gehts': 2603, 'sieben': 2604, 'baerbock': 2605, 'schweine': 2606, 'erfahrungen': 2607, 'einziges': 2608, 'sozis': 2609, 'verschiebt': 2610, 'ifo': 2611, 'krampkarrenbauer': 2612, 'expo': 2613, 'ieren': 2614, 'thilo': 2615, 'verweigern': 2616, 'erstes': 2617, 'bedeutung': 2618, 'worldwideto': 2619, 'prominente': 2620, 'pr': 2621, 'daue': 2622, 'ecke': 2623, 'beides': 2624, 'ficken': 2625, 'hurensohn': 2626, 'wisst': 2627, 'bksoll': 2628, 'schiffe': 2629, 'italienische': 2630, 'ficki': 2631, 'thunfisch': 2632, 'vorne': 2633, 'geil': 2634, 'wachsen': 2635, 'aende': 2636, 'wm': 2637, 'insgesamt': 2638, 'service': 2639, 'schland': 2640, 'armen': 2641, 'fuehrer': 2642, 'marsch': 2643, 'nasa': 2644, 'slogan': 2645, 'seltsam': 2646, 'fernsehen': 2647, 'seien': 2648, 'praemien': 2649, 'euzis': 2650, 'schneller': 2651, 'regelmaessig': 2652, 'reffen': 2653, 'schreien': 2654, 'schlaf': 2655, 'bewe': 2656, 'halal': 2657, 'beginnt': 2658, 'starke': 2659, 'informieren': 2660, 'blockie': 2661, 'mahler': 2662, 'albe': 2663, 'herrenrasse': 2664, 'sozial': 2665, 'gleichgestellte': 2666, 'chris': 2667, 'un': 2668, 'anscheinend': 2669, 'unsinn': 2670, 'kritische': 2671, 'spur': 2672, 'auftrag': 2673, 'verursacht': 2674, 'wiener': 2675, 'oppermann': 2676, 'perle': 2677, 'institut': 2678, 'angenommen': 2679, 'paz': 2680, 'nationalrat': 2681, 'soldaten': 2682, 'humor': 2683, 'beeinflusst': 2684, 'mittels': 2685, 'international': 2686, 'loesen': 2687, 'anderes': 2688, 'saison': 2689, 'wetten': 2690, 'kontrollie': 2691, 'briefwahl': 2692, '59': 2693, 'eintracht': 2694, 'chesge': 2695, 'russen': 2696, 'bargeld': 2697, 'verfassung': 2698, 'sch': 2699, 'ale': 2700, 'rum': 2701, 'twingo': 2702, 'schoppeczesch': 2703, 'snapchat': 2704, 'vorherzusehen': 2705, 'gegend': 2706, 'italia': 2707, 'gewesen': 2708, 'becci': 2709, 'wseverina': 2710, 'explosion': 2711, 'gammelfleisch': 2712, 'rg19': 2713, 'erderhitzung': 2714, 'arab': 2715, 'kuerzlich': 2716, 'homosexualitaet': 2717, 'qua': 2718, 'albanien': 2719, 'drittel': 2720, 'pkw': 2721, 'bruder': 2722, 'schaedel': 2723, 'ehefrau': 2724, 'gekuendigt': 2725, 'tuerke': 2726, 'dna': 2727, '2012': 2728, 'produkte': 2729, 'behalten': 2730, '250': 2731, 'handys': 2732, 'liegenden': 2733, 'timmermans': 2734, 'moderator': 2735, 'igt': 2736, 'bestraft': 2737, 'sondersendungen': 2738, 'staatsbuergerschaft': 2739, 'symbole': 2740, 'geschaendet': 2741, 'hinsicht': 2742, 'toilette': 2743, 'sprengen': 2744, 'bilden': 2745, 'autofahrer': 2746, 'fahrzeuge': 2747, 'innovation': 2748, 'knallha': 2749, 'fahrrad': 2750, 'sammeln': 2751, 'daumen': 2752, 'besteht': 2753, 'jemanden': 2754, 'bgh': 2755, 'eidiger': 2756, 'lehrern': 2757, 'konsens': 2758, 'beeinflussung': 2759, 'aufgerufen': 2760, 'koepfe': 2761, 'diskreditie': 2762, '27j': 2763, 'dramatisierung': 2764, 'unerwuenscht': 2765, 'kuemmern': 2766, 'stars': 2767, 'bitten': 2768, 'einzelfallinfos': 2769, 'tausende': 2770, 'presseausweis': 2771, 'koenne': 2772, 'journalist': 2773, 'unschuldig': 2774, 'entwicklungshilfe': 2775, 'seniorin': 2776, 'angegriffen': 2777, 'schiesserei': 2778, 'sog': 2779, 'geschlagen': 2780, 'stagsfeier': 2781, 'befuerchtet': 2782, 'sek': 2783, 'grab': 2784, 'obama': 2785, 'krankes': 2786, 'haeuser': 2787, 'rechnet': 2788, 'pforzheim': 2789, 'beschwe': 2790, 'spuckt': 2791, 'lies': 2792, 'bombe': 2793, 'sprach': 2794, 'unrechts': 2795, 'persoenlichkeit': 2796, 'rassisten': 2797, 'morde': 2798, 'kein': 2799, 'ersetzen': 2800, 'korrektheit': 2801, 'handwerk': 2802, 'lawyerberlin': 2803, 'fanatismus': 2804, 'gedient': 2805, 'rpo': 2806, 'tkkg': 2807, 'welch': 2808, 'aufgewachsen': 2809, 'verbindung': 2810, 'saschaulbrich': 2811, 'zugelassen': 2812, 'mittelalter': 2813, 'auswirkungen': 2814, 'herrlich': 2815, 'mein': 2816, 'joanacotar': 2817, 'notabaris': 2818, 'masseneinwanderung': 2819, 'katrin': 2820, 'goering': 2821, 'aussagen': 2822, 'religioesen': 2823, 'basel': 2824, 'unglaeubige': 2825, 'nachfolgerin': 2826, 'gebote': 2827, 'com': 2828, 'ferkel': 2829, 'hohlbirnen': 2830, 'hervor': 2831, 'gruenes': 2832, 'bernd471': 2833, '1461': 2834, 'genutzt': 2835, '37': 2836, 'iraker': 2837, 'sass': 2838, 'trio': 2839, 'legte': 2840, 'nordafrikanern': 2841, 'franzoesischen': 2842, 'terrorisieren': 2843, 'gangs': 2844, 'gutmenschen': 2845, 'treiben': 2846, 'frontal21': 2847, 'eibuch': 2848, 'tauchen': 2849, 'ausreisepflichtige': 2850, 'unterkunft': 2851, 'bautzen': 2852, 'mehrmals': 2853, 'muslim': 2854, 'lande': 2855, 'bester': 2856, 'antisemitische': 2857, 'grossteil': 2858, 'begangen': 2859, 'plant': 2860, 'verhaeltnisse': 2861, 'tankstelle': 2862, 'verbreitung': 2863, 'eisern': 2864, 'systematisch': 2865, 'mobbing': 2866, 'moerder': 2867, 'geniesst': 2868, 'london': 2869, 'heilige': 2870, 'migrationshintergrund': 2871, 'bestes': 2872, 'ete': 2873, 'bessere': 2874, 'neulich': 2875, 'refugees': 2876, 'wundern': 2877, 'elite': 2878, 'empoeren': 2879, 'rip': 2880, 'komischerweise': 2881, 'rosa': 2882, 'ebenso': 2883, 'bestimmen': 2884, 'gebt': 2885, 'bars': 2886, 'belohnung': 2887, 'ermittler': 2888, 'franzoesische': 2889, 'bmw': 2890, 'enteignen': 2891, 'arbeitet': 2892, 'gelandet': 2893, 'wolle': 2894, 'aberfair': 2895, 'verlogen': 2896, 'ikel13': 2897, 'impfpflicht': 2898, 'staunen': 2899, 'gelder': 2900, 'ausdenken': 2901, 'verstaendlich': 2902, 'ignorieren': 2903, 'kinderehe': 2904, 'wette': 2905, 'musst': 2906, 'ewig': 2907, 'ministerpraesident': 2908, 'traum': 2909, 'spdbt': 2910, 'tl': 2911, 'spruch': 2912, 'automatisch': 2913, 'wahres': 2914, 'hab': 2915, 'zig': 2916, 'tabletten': 2917, 'europaistdieantwo': 2918, 'england': 2919, 'gretas': 2920, 'oefter': 2921, 'abtreibung': 2922, 'bereut': 2923, 'solltet': 2924, 'schuelerin': 2925, 'reinickendorf': 2926, 'nichtdeutscher': 2927, 'grenze': 2928, 'aka': 2929, 'quasi': 2930, 'kaeme': 2931, 'hund': 2932, 'brauche': 2933, 'gelsenkirchen': 2934, 'randalie': 2935, 'fuettern': 2936, 'hohn': 2937, 'empfiehlt': 2938, 'empfehle': 2939, 'betreuung': 2940, 'diskriminierung': 2941, 'staates': 2942, 'volle': 2943, 'koffer': 2944, 'brd': 2945, 'sah': 2946, 'zunge': 2947, 'zumal': 2948, 'lauter': 2949, 'katholischen': 2950, 'vorfaelle': 2951, 'aufmerksamkeit': 2952, 'moeglichen': 2953, 'erschuette': 2954, 'kardinal': 2955, 'marx': 2956, 'propheten': 2957, 'verfuehren': 2958, 'einzug': 2959, 'steue': 2960, 'otto': 2961, 'aufgabe': 2962, 'berater': 2963, 'nationale': 2964, '38': 2965, 'enteignung': 2966, 'vollenden': 2967, 'rueckt': 2968, 'iger': 2969, 'schutzsuchender': 2970, 'griffen': 2971, 'heiss': 2972, 'februar': 2973, 'sommer': 2974, 'tempolimit': 2975, 'brechen': 2976, 'polly20696833': 2977, 'ib': 2978, 'emskirchen': 2979, 'kleinere': 2980, 'sanktionen': 2981, 'verweige': 2982, 'erlitt': 2983, 'bewaehrung': 2984, 'herzlichen': 2985, 'unklar': 2986, 'rast': 2987, 'frohes': 2988, 'aufschrift': 2989, 'one': 2990, 'persoenliche': 2991, 'besuch': 2992, 'verschleie': 2993, 'korrekt': 2994, 'lieb': 2995, 'koch': 2996, 'talent': 2997, 'seenotrettung': 2998, 'allesamt': 2999, 'popp': 3000, 'stendal': 3001, 'beweist': 3002, 'aktionen': 3003, 'drastisch': 3004, 'jubel': 3005, 'muslimen': 3006, 'screenshots': 3007, 'freitags': 3008, 'trainer': 3009, 'fluechtlingspolitik': 3010, 'ler': 3011, 'berichten': 3012, 'fremdenfeindlichkeit': 3013, 'gerufen': 3014, 'passen': 3015, 'weinen': 3016, 'gelaufen': 3017, 'ausgegeben': 3018, 'amtsgericht': 3019, 'augsburg': 3020, 'vorgefueh': 3021, 'ikels': 3022, 'paukenschlag': 3023, 'nachfolger': 3024, 'geschlecht': 3025, 'hecking': 3026, 'borussia': 3027, 'aktuellen': 3028, 'anwendung': 3029, 'ns': 3030, 'vaeter': 3031, 'leiden': 3032, 'kritischen': 3033, 'twittersper': 3034, 'studie': 3035, 'verletzen': 3036, 'begehen': 3037, 'sorge': 3038, 'wegfallen': 3039, 'widerspruch': 3040, 'ggue': 3041, 'diskussion': 3042, 'weltbild': 3043, 'hcstrachefp': 3044, 'oppositionspa': 3045, 'pol': 3046, 'tatsache': 3047, 'nsdap': 3048, 'urspruenglich': 3049, 'nachlesen': 3050, 'zulassen': 3051, 'antonio': 3052, 'diavata': 3053, 'brandanschlag': 3054, 'life': 3055, 'luege': 3056, 'staatsgewalt': 3057, 'aufrecht': 3058, 'hannelore': 3059, 'wahlbeobachter': 3060, 'gebuehren': 3061, 'follower': 3062, 'facepalm': 3063, 'n24': 3064, 'argumente': 3065, 'esse': 3066, 'istanbul': 3067, 'terrorist': 3068, 'raeumt': 3069, 'ausschuss': 3070, 'koelnhbf': 3071, 'at': 3072, 'gesamten': 3073, 'maghreb': 3074, 'gruessen': 3075, 'vorerst': 3076, 'suess': 3077, 'klagt': 3078, 'raub': 3079, '2050': 3080, 'geoeffnet': 3081, 'traue': 3082, 'von': 3083, '46': 3084, 'fach': 3085, 'wehrpflicht': 3086, 'zentralrat': 3087, 'geduldet': 3088, 'zustaende': 3089, 'lepenseur': 3090, 'schlagzeilen': 3091, 'starken': 3092, 'moralische': 3093, 'ltrlp': 3094, 'aufklaerung': 3095, 'pfingstsonntag': 3096, 'praesentie': 3097, 'anerkennung': 3098, 'auslaendische': 3099, 'niedersachsen': 3100, 'investie': 3101, 'strauss': 3102, 'and': 3103, 'praesidenten': 3104, 'harvard': 3105, 'vorwurf': 3106, 'pflegen': 3107, 'insekten': 3108, 'diesmal': 3109, 'ideologische': 3110, 'diversitaet': 3111, 'armee': 3112, 'wahlbeteiligung': 3113, 'dreyer': 3114, 'ast': 3115, 'andrea': 3116, 'fuers': 3117, 'denkzettel': 3118, 'abschlussbericht': 3119, 'endspu': 3120, 'gesellschaftlichen': 3121, 'regierungspa': 3122, 'himmelfah': 3123, 'stern': 3124, 'sowohl': 3125, 'gesetze': 3126, 'bleiberecht': 3127, 'juenger': 3128, 'einsatzkraefte': 3129, 'haut': 3130, 'venomstrike3': 3131, 'ituade': 3132, 'aermsten': 3133, 'pakistan': 3134, 'schwesig': 3135, 'freibad': 3136, 'anwohner': 3137, 'ueberblick': 3138, 'einziehen': 3139, 'entschlossen': 3140, 'nachgedacht': 3141, 'geklae': 3142, 'hetzjagden': 3143, 'hgmaassen': 3144, 'markus': 3145, 'applaus': 3146, 'gewinnen': 3147, 'danken': 3148, 'versprechen': 3149, 'ueberpruefung': 3150, 'heuchelei': 3151, 'alexander': 3152, 'vorsitzender': 3153, 'wussten': 3154, 'politischer': 3155, 'ekelhaft': 3156, 'erwaehnung': 3157, 'stoeren': 3158, 'security': 3159, 'drohungen': 3160, 'marschieren': 3161, 'esel': 3162, 'lagen': 3163, 'berg': 3164, 'meter': 3165, 'schnee': 3166, 'schoener': 3167, 'mdb': 3168, 'interessante': 3169, 'stattfinden': 3170, 'erstarken': 3171, 'anzeige': 3172, 'anspruch': 3173, 'verzer': 3174, 'mittel': 3175, 'verdammt': 3176, 'besuchen': 3177, 'webseite': 3178, 'gmbh': 3179, 'verstanden': 3180, 'freiem': 3181, 'kommunen': 3182, 'einzumischen': 3183, 'nehme': 3184, 'oerr': 3185, 'maerz': 3186, 'gelaende': 3187, 'wolf': 3188, 'geniale': 3189, 'umso': 3190, 'gefaelligst': 3191, 'zivilisation': 3192, 'titelseiten': 3193, 'rahmen': 3194, 'voelker': 3195, 'fuerchtet': 3196, 'gefaehrliche': 3197, 'erstaunlich': 3198, 'vermutet': 3199, 'pankow': 3200, 'wilhelmsburg': 3201, 'zeugenaufruf': 3202, 'entdecken': 3203, 'erfahrung': 3204, 'gegenwae': 3205, 'stehe': 3206, 'betrachte': 3207, 'derweil': 3208, 'irgendwann': 3209, 'tiefer': 3210, 'merkelland': 3211, 'verkeh': 3212, 'fridayforfuture': 3213, 'entstanden': 3214, 'ausrufung': 3215, 'grundrechte': 3216, 'produzie': 3217, 'finanzamt': 3218, 'dinge': 3219, 'aufregen': 3220, '03': 3221, 'st': 3222, 'strassen': 3223, 'beten': 3224, 'beachten': 3225, 'sehenswe': 3226, 'sag': 3227, 'gerecht': 3228, 'google': 3229, 'fordere': 3230, 'pfingstfest': 3231, 'besucher': 3232, 'bier': 3233, 'minderjaehrig': 3234, 'andreaschlegel3': 3235, 'verdaechtigen': 3236, 'auschwitz': 3237, 'versteckt': 3238, '36': 3239, 'ah': 3240, 'anton': 3241, 'hofreiter': 3242, 'schlaege': 3243, 'entfueh': 3244, 'hoher': 3245, 'fluechtet': 3246, 'not': 3247, 'halle': 3248, 'seltener': 3249, 'suedlaender': 3250, 'staatsversagen': 3251, 'oldenburg': 3252, 'befindet': 3253, 'merkelmussweg': 3254, 'verfolgung': 3255, 'hae': 3256, 'religioese': 3257, 'mandat': 3258, 'ueberraschend': 3259, 'weissen': 3260, 'gewaendern': 3261, 'hausdurchsuchung': 3262, 'buergerliche': 3263, 'messern': 3264, 'brandt': 3265, 'gepaeck': 3266, 'sturmgewehre': 3267, 'kalaschnikow': 3268, 'pumpgun': 3269, 'sauerei': 3270, 'soviel': 3271, 'schnelle': 3272, 'roten': 3273, 'hr': 3274, 'chaoten': 3275, 'krebs': 3276, 'patienten': 3277, 'arbeitslosen': 3278, 'aufgefunden': 3279, '2020': 3280, 'gefeie': 3281, '58': 3282, 'dieses': 3283, 'kulturellen': 3284, 'ausflug': 3285, 'bisschen': 3286, 'stechen': 3287, 'erstochen': 3288, 'ernsthaft': 3289, 'heisse': 3290, '45': 3291, 'messerangriffe': 3292, 'ueberleben': 3293, 'nationalen': 3294, 'warm': 3295, 'inneren': 3296, 'schlaegerei': 3297, 'immunitaet': 3298, 'aufgehoben': 3299, 'amri': 3300, 'gefaellt': 3301, 'handel': 3302, '41': 3303, 'eingeleitet': 3304, 'kapie': 3305, 'weh': 3306, 'betrug': 3307, 'kuenstler': 3308, 'ausbildung': 3309, 'unter': 3310, 'transistor': 3311, 'vermoegen': 3312, 'blog': 3313, 'ihre': 3314, 'lanz': 3315, 'beginnen': 3316, 'erleben': 3317, 'tuerkische': 3318, 'bezeichnung': 3319, 'teufel': 3320, 'menschaffe': 3321, 'vorsichtig': 3322, 'roland': 3323, 'widerwae': 3324, 'iges': 3325, 'invasoren': 3326, 'wichtigen': 3327, 'link': 3328, 'vereins': 3329, '130': 3330, 'stgb': 3331, 'versuch': 3332, 'erneut': 3333, 'talk': 3334, 'schlacht': 3335, 'strassburg': 3336, 'enden': 3337, 'ursachen': 3338, 'broder': 3339, 'gefaehrlicher': 3340, 'anmassen': 3341, 'gnade': 3342, 'opa': 3343, 'regime': 3344, 'hingegen': 3345, 'faildef': 3346, 'wurzeln': 3347, 'kulturen': 3348, 'asylheim': 3349, 'belogen': 3350, 'unterricht': 3351, 'griff': 3352, 'gluecklich': 3353, 'diversity': 3354, 'mitmachen': 3355, 'irre': 3356, 'beliebte': 3357, 'grossbritannien': 3358, 'sozen': 3359, 'meldungen': 3360, 'stuerzen': 3361, 'genial': 3362, 'votestrache': 3363, 'gestuerzt': 3364, 'bergab': 3365, 'prophetin': 3366, 'arschloch': 3367, 'marokko': 3368, 'stadtfest': 3369, 'uebe': 3370, 'wusste': 3371, 'extremisten': 3372, 'ueberzeugt': 3373, 'wunsch': 3374, 'dienste': 3375, 'alkohol': 3376, 'suff': 3377, 'gratulation': 3378, 'vermeintlichen': 3379, 'original': 3380, 'illegales': 3381, 'janboehm': 3382, 'aktivist': 3383, 'akt': 3384, 'linker': 3385, 'tuerkischer': 3386, 'abgebaut': 3387, 'nationalsozialismus': 3388, 'marokkaner': 3389, 'ueberwiegend': 3390, 'moslem': 3391, 'brot': 3392, 'satt': 3393, 'ali': 3394, 'berichteten': 3395, 'abboud': 3396, 'eric': 3397, 'uploadfilter': 3398, 'identitaeten': 3399, 'audi': 3400, 'folgendes': 3401, 'mitbekommen': 3402, 'brennende': 3403, 'ersetzt': 3404, 'igesamt': 3405, 'forderungen': 3406, 'kopenhagen': 3407, 'verbessern': 3408, 'als': 3409, 'wahnsinnigen': 3410, 'ehemals': 3411, '300': 3412, 'libanesen': 3413, 'franzosen': 3414, 'kommentieren': 3415, 'spannend': 3416, 'letzter': 3417, 'karriere': 3418, 'niemanden': 3419, 'prueffall': 3420, 'totaler': 3421, 'vergleichen': 3422, 'vergeht': 3423, 'traeume': 3424, 'moralisch': 3425, 'niemalsafd': 3426, 'migrationspaket': 3427, 'gespraeche': 3428, 'beschreibt': 3429, 'arschloecher': 3430, 'bis': 3431, 'thueringer': 3432, 'behaupten': 3433, 'abschaffung': 3434, 'gewollt': 3435, 'frohnmaier': 3436, 'gell': 3437, 'quellen': 3438, 'solle': 3439, 'verdaechtige': 3440, 'interesse': 3441, 'mitzunehmen': 3442, 'alex': 3443, 'sozialen': 3444, 'eitag': 3445, 'mitgefuehl': 3446, 'erhaelt': 3447, 'milch': 3448, 'nen': 3449, 'taetig': 3450, 'umfeld': 3451, 'muesse': 3452, 'zeichnet': 3453, 'religioeser': 3454, 'regierungspraesident': 3455, 'kopfschuss': 3456, 'ansonsten': 3457, 'thelen': 3458, 'co2steuer': 3459, 'sowieso': 3460, 'vermitteln': 3461, 'ehemaligen': 3462, 'dicht': 3463, 'vollen': 3464, 'peking': 3465, 'gewusst': 3466, 'hashtag': 3467, 'schlau': 3468, 'spalten': 3469, 'frust': 3470, 'zitat': 3471, 'konzept': 3472, 'wirkung': 3473, 'ueberforde': 3474, '33': 3475, 'gemerkt': 3476, 'ba': 3477, 'elektroautos': 3478, 'geliefe': 3479, 'maximal': 3480, 'saekularen': 3481, '57': 3482, 'linkspa': 3483, 'gleichberechtigung': 3484, 'geblockt': 3485, 'pepper46477330': 3486, 'erkannt': 3487, '264': 3488, 'haeftlinge': 3489, 'finanzielle': 3490, 'linksliberalen': 3491, 'ossis': 3492, 'gruss': 3493, 'net': 3494, 'schickeria': 3495, 'gruenekhmer': 3496, 'deswegen': 3497, 'lasse': 3498, 'heide': 3499, 'vorbild': 3500, 'irren': 3501, 'find': 3502, 'aeussern': 3503, 'rundfunk': 3504, 'uebrigen': 3505, 'verstorben': 3506, 'bastard': 3507, 'biodeutsch': 3508, 'hoechstens': 3509, 'turksarecomingforiceland': 3510, 'tuerkisch': 3511, 'smuellermdb': 3512, 'best': 3513, 'einseitig': 3514, 'buergerlich': 3515, 'einzelnen': 3516, 'bot': 3517, 'manipulie': 3518, 'hype': 3519, 'erbaermlicher': 3520, 'vernichten': 3521, 'fakenews': 3522, 'durchsetzung': 3523, 'wenden': 3524, 'angesagt': 3525, 'groessten': 3526, 'heiligen': 3527, 'raute': 3528, 'pausenlos': 3529, 'durfte': 3530, 'geschrei': 3531, 'ever': 3532, 'aeusserungen': 3533, 'bergauf': 3534, 'gestoe': 3535, 'spitze': 3536, 'sauer': 3537, 'schwerst': 3538, 'globalwarming': 3539, 'doofmichels': 3540, 'allen': 3541, 'preise': 3542, 'billiger': 3543, 'bissel': 3544, 'cheblis': 3545, 'regimes': 3546, 'wow': 3547, 'gang': 3548, 'iv': 3549, 'haare': 3550, 'finanzminister': 3551, 'musels': 3552, 'horror': 3553, 'typisch': 3554, 'abgesagt': 3555, 'geworfen': 3556, 'schlechte': 3557, 'mehrfamilienhaus': 3558, 'bochum': 3559, 'halb': 3560, 'dreckspack': 3561, 'saufen': 3562, 'anziehen': 3563, 'hoeher': 3564, 'entdeckt': 3565, 'sinken': 3566, 'jubeln': 3567, 'beine': 3568, 'unterschrift': 3569, 'doof': 3570, 'reform': 3571, 'nurwesentliches': 3572, 'erichaschi': 3573, 'glaub': 3574, 'anderen': 3575, 'mach': 3576, 'bewusstsein': 3577, '2002': 3578, 'ganzes': 3579, 'biede': 3580, 'buergerlicher': 3581, 'miesen': 3582, 'ragen': 3583, 'verwechselt': 3584, 'drama': 3585, 'theater': 3586, 'susanna': 3587, 'provokation': 3588, 'joachim': 3589, 'anfaengen': 3590, 'andersdenkende': 3591, 'mutti': 3592, '78': 3593, 'durchbruch': 3594, 'herunter': 3595, 'thomasoppermann': 3596, 'mass': 3597, 'alternativen': 3598, 'verschwindet': 3599, 'kindheit': 3600, 'with': 3601, '72': 3602, 'feinde': 3603, 'patriot': 3604, 'einnahmen': 3605, 'bevoelkerungsaustausch': 3606, 'kleines': 3607, 'allgemeinen': 3608, 'mars': 3609, 'radikalisierung': 3610, 'bau': 3611, 'erzeugt': 3612, 'lebenslaenglich': 3613, 'aufstehen': 3614, 'legitimie': 3615, 'bunt': 3616, 'begriff': 3617, 'fleisch': 3618, 'diezeit': 3619, 'blocken': 3620, 'unwo': 3621, 'desjahres': 3622, 'juedische': 3623, 'plaene': 3624, 'schaftsnachrichten': 3625, '74': 3626, 'verlie': 3627, 'live': 3628, 'getroffen': 3629, 'rechtlicher': 3630, 'faschismus': 3631, 'schaller': 3632, 'tier': 3633, 'herbe': 3634, 'spende': 3635, 'ausweisen': 3636, 'einstellung': 3637, 'idiot': 3638, 'anwaeltin': 3639, 'faelle': 3640, 'diffamierung': 3641, 'stinkt': 3642, 'altmaier': 3643, 'knobloch': 3644, 'auslieferung': 3645, 'angekuendigt': 3646, 'schuldig': 3647, 'verkommen': 3648, 'praktizie': 3649, 'praesidentin': 3650, 'festgestellt': 3651, 'mr': 3652, 'beleidigung': 3653, 'privaten': 3654, 'gabriel': 3655, 'woe': 3656, 'autobauer': 3657, 'ostdeutschlands': 3658, 'grillfest': 3659, 'gewinner': 3660, 'ergebnisse': 3661, 'bundestagswahl': 3662, 'strategischen': 3663, 'gerettet': 3664, 'wiese': 3665, 'geschaechtet': 3666, 'trailer': 3667, 'beziehungen': 3668, 'wladimir': 3669, 'schliessung': 3670, 'oevp': 3671, 'bluff': 3672, 'stellungnahme': 3673, 'entwickelt': 3674, 'reichweite': 3675, 'schwingen': 3676, 'chemie': 3677, 'amerika': 3678, 'stehend': 3679, 'unglaeubigen': 3680, 'etwas': 3681, 'prognose': 3682, 'weint': 3683, 'rock': 3684, 'ereignisse': 3685, 'freundin': 3686, 'darpa': 3687, 'kinderschaender': 3688, 'phone': 3689, 'inklusive': 3690, 'austria': 3691, 'eingehen': 3692, 'gelernt': 3693, 'tasche': 3694, 'spaetestens': 3695, 'fcbsge': 3696, 'finale': 3697, 'bewohner': 3698, 'strafbar': 3699, 'lahm': 3700, 'money': 3701, 'rauben': 3702, 'arktis': 3703, 'global': 3704, 'ohnehin': 3705, 'ice': 3706, 'liebsten': 3707, 'beileid': 3708, 'berlinerpolizei': 3709, 'drogenszene': 3710, 'naeher': 3711, 'router': 3712, 'standardeinstellung': 3713, 'speiche': 3714, 'anmelden': 3715, 'telefonanbieter': 3716, 'speichern': 3717, 'ausgemacht': 3718, 'bekloppt': 3719, 'terrorismus': 3720, 'verfolgt': 3721, 'ebene': 3722, 'kulturell': 3723, 'hamaro777': 3724, 'kohle': 3725, 'rd': 3726, 'frosch': 3727, '64': 3728, 'wikipedia': 3729, 'autoindustrie': 3730, 'taetern': 3731, 'decke': 3732, 'baqqu': 3733, 'j': 3734, 'playlist': 3735, 'hinzugefuegt': 3736, 'verlage': 3737, 'beschaeftigte': 3738, 'malmoe': 3739, 'insolvent': 3740, 'oekopolitik': 3741, 'beschaeftigten': 3742, 'alpen': 3743, 'wendt': 3744, 'sonst': 3745, 'climateemergency': 3746, 'parade': 3747, 'offelsalat': 3748, 'nowehrmuc': 3749, 'klatschen': 3750, 'vereinbar': 3751, 'buettelrepublik': 3752, 'erschl': 3753, 'mohamed': 3754, 'scherz': 3755, 'rauskommt': 3756, 'saudiarabien': 3757, 'verhaeltnis': 3758, 'registrie': 3759, 'willst': 3760, 'vermieter': 3761, 'mieter': 3762, 'gedroht': 3763, 'innsbruck': 3764, 'silvesternacht': 3765, 'kopfverletzungen': 3766, 'auge': 3767, 'frans': 3768, 'publikum': 3769, 'klatscht': 3770, 'gefaelscht': 3771, 'zeitgenosse': 3772, 'rechter': 3773, 'elfenbeinkueste': 3774, 'raubt': 3775, 'salafist': 3776, 'groesse': 3777, 'produzieren': 3778, 'fluechtlingszahlen': 3779, 'prueft': 3780, 'schritte': 3781, 'rechtslage': 3782, 'aufklaerer2017': 3783, 'zerreissen': 3784, 'aushalten': 3785, 'dankbarkeit': 3786, 'maischberger': 3787, 'zerrissen': 3788, 'sendet': 3789, 'zmd': 3790, '1945': 3791, 'studienabbrecher': 3792, 'unterrichten': 3793, 'schaendung': 3794, 'christlicher': 3795, 'erschuettern': 3796, 'sozialpolitische': 3797, 'mdlfernandes': 3798, 'ltmv': 3799, 'mv': 3800, 'ostdeutschen': 3801, 'kontakt': 3802, 'westdeutschen': 3803, 'sichergestellt': 3804, 'mittelschicht': 3805, 'durchschnittsverdiener': 3806, 'ernaehren': 3807, 'zwangsweise': 3808, 'bedrueckender': 3809, 'lagebericht': 3810, 'sozialstaat': 3811, 'modernen': 3812, 'mythos': 3813, 'verdienten': 3814, 'training': 3815, 'spendentour2019': 3816, 'bundeslaender': 3817, 'helfernhelfen': 3818, 'weimar': 3819, 'reiche': 3820, 'grundsaetzlich': 3821, 'wuetend': 3822, 'juergen': 3823, 'trittin': 3824, 'digitalisierung': 3825, 'zurueckversetzt': 3826, 'neutrale': 3827, 'unmoeglich': 3828, 'goerlitzistschlaugoerlitzwaehltblau': 3829, 'klares': 3830, 'gegenprotest': 3831, 'zarzis': 3832, 'akzent': 3833, 'ueberfallen': 3834, 'brueder': 3835, 'senior': 3836, 'bewusstlos': 3837, 'klinik': 3838, 'massenhaft': 3839, 'hochburgen': 3840, 'lega': 3841, 'behauptung': 3842, 'unterlegen': 3843, 'tiefe': 3844, 'krefeld': 3845, 'reis': 3846, 'angebrannt': 3847, 'definie': 3848, 'sexueller': 3849, '9jaehrigen': 3850, 'faktenfinder': 3851, 'personal': 3852, 'noetigen': 3853, 'rueckhalt': 3854, 'bz': 3855, 'bzberlin': 3856, 'iranische': 3857, 'freundschaft': 3858, 'betonen': 3859, 'mitnehmen': 3860, 'obm': 3861, 'rufe': 3862, 'boykottieren': 3863, 'veranstaltungen': 3864, 'tabu': 3865, 'weltherrschaft': 3866, 'iq': 3867, 'schwaechung': 3868, 'tendenzen': 3869, 'gruende': 3870, 'abstand': 3871, 'cm': 3872, 'hohem': 3873, 'riskie': 3874, 'amerikanische': 3875, 'euros': 3876, 'bergung': 3877, 'ankerzentrum': 3878, 'anzeigen': 3879, 'festnahmen': 3880, 'gotha': 3881, 'nahe': 3882, 'einkaufszentrum': 3883, 'hintergruenden': 3884, 'palaestinenser': 3885, 'neukoelln': 3886, 'gaststaette': 3887, 'eskalie': 3888, 'massenschlaegerei': 3889, 'mafia': 3890, 'gebaut': 3891, 'taschengeld': 3892, '150': 3893, 'erhoeht': 3894, 'beduerftigen': 3895, 'tafel': 3896, 'ohrfeigt': 3897, 'europaeisches': 3898, 'koestlich': 3899, 'beschriebenen': 3900, 'flucht': 3901, 'ergreift': 3902, '14000': 3903, '104': 3904, 'veruebt': 3905, '6450': 3906, 'zugeben': 3907, 'geraten': 3908, 'bankrotterklaerung': 3909, 'aufzug': 3910, 'herrschaft': 3911, 'versuchte': 3912, 'bachelor': 3913, 'kandidatin': 3914, 'guinea': 3915, 'beleidigte': 3916, 'tatverdaechtige': 3917, 'milieu': 3918, 'grossfamilien': 3919, 'pfarrer': 3920, 'sekretaerin': 3921, 'geschlechter': 3922, 'ausschliesslich': 3923, 'moschee': 3924, 'fremder': 3925, 'meinungs': 3926, 'einfallen': 3927, 'senat': 3928, 'offenen': 3929, 'debatten': 3930, 'barbaren': 3931, 'musikinstrumente': 3932, 'wobei': 3933, 'vollidioten': 3934, 'grossvater': 3935, 'teilweise': 3936, 'endgueltig': 3937, 'pippi': 3938, 'fassen': 3939, 'symptompanik': 3940, 'migraten': 3941, 'schweres': 3942, 'fruehen': 3943, 'hagel': 3944, 'verschaerft': 3945, 'index': 3946, 'hyperventilie': 3947, 'retouren': 3948, 'konzerne': 3949, 'fluechtlingskrise': 3950, 'groessenwahn': 3951, 'eckardt': 3952, 'vernichtung': 3953, 'christlich': 3954, 'festen': 3955, 'zusammenarbeit': 3956, 'dezember': 3957, 'beliebter': 3958, 'achgut': 3959, 'mutige': 3960, 'drogentrip': 3961, 'unfassbares': 3962, 'rechtsextreme': 3963, 'minderjaehrige': 3964, 'straubing': 3965, 'gehirngewaschenen': 3966, 'doku': 3967, 'professoren': 3968, 'unendlich': 3969, 'ho': 3970, 'dient': 3971, 'vorzeigeprojekt': 3972, 'seestadt': 3973, 'tummeln': 3974, 'rassist': 3975, 'hambacher': 3976, 'gehandelt': 3977, 'scheibe': 3978, 'faelscher': 3979, 'ebenfalls': 3980, 'naechtlichen': 3981, 'haeufen': 3982, 'politikers': 3983, 'mitschuld': 3984, 'msm': 3985, 'sexualitaet': 3986, 'bloedsinn': 3987, 'gaga': 3988, 'durchs': 3989, 'pranger': 3990, 'autorin': 3991, 'woran': 3992, '35': 3993, 'vetternwi': 3994, 'giffey': 3995, 'asylsuchende': 3996, 'besitzer': 3997, 'typischer': 3998, 'rechtsradikaler': 3999, '39': 4000, 'folgten': 4001, 'kennengelernt': 4002, 'umgesetzt': 4003, 'eingereicht': 4004, 'drogendealer': 4005, 'verkaufsflaechen': 4006, 'durchsage': 4007, 'wilkommen': 4008, 'gestrandet': 4009, 'meiden': 4010, 'dpolghh': 4011, 'sozialhilfeempfaenger': 4012, 'teuren': 4013, 'maechtig': 4014, 'belege': 4015, 'rechtsextremer': 4016, 'ganzer': 4017, 'volksgruppen': 4018, 'merkeldeutschland': 4019, 'goerli': 4020, 'sexistisch': 4021, 'busfahrer': 4022, 'eingeschaltet': 4023, 'karfreitag': 4024, 'stichverletzungen': 4025, 'whatsapp': 4026, 'spdberlin': 4027, 'kleinlaut': 4028, 'erschuetternd': 4029, 'suspendie': 4030, 'gemobbt': 4031, 'kassiererin': 4032, 'beisst': 4033, 'polizistin': 4034, 'toetet': 4035, 'totschlaeger': 4036, 'top': 4037, 'informie': 4038, 'celle': 4039, 'schwarzafrikaner': 4040, 'naiven': 4041, 'schreier': 4042, 'heimatlaendern': 4043, 'unbegrenzt': 4044, 'heimatland': 4045, 'hauabgesetz': 4046, 'synonym': 4047, 'wahllokal': 4048, 'wahlempfehlungen': 4049, 'bestimmte': 4050, 'omas': 4051, 'grossstaedten': 4052, 'einseitige': 4053, 'weitersagen': 4054, 'identitaere': 4055, 'albania': 4056, 'gottchen': 4057, 'tipp': 4058, 'blinde': 4059, 'radikaler': 4060, 'markie': 4061, 'darzustellen': 4062, 'jahrzehnte': 4063, 'rollen': 4064, 'genie': 4065, 'twitterde': 4066, 'vorgegangen': 4067, 'bewaehrungsstrafe': 4068, 'hasspostings': 4069, 'jegliche': 4070, 'obendrauf': 4071, 'woher': 4072, 'gefluechtete': 4073, 'fremde': 4074, '1mai': 4075, 'kino': 4076, 'zunehmenden': 4077, 'wunderschoenen': 4078, 'ostersonntag': 4079, 'abgeholt': 4080, 'forscher': 4081, 'aktivitaet': 4082, 'hirntod': 4083, 'widersprechen': 4084, 'vll': 4085, 'massiver': 4086, 'wohnungsmangel': 4087, 'enteignungen': 4088, 'tragisch': 4089, 'teenies': 4090, 'korrupt': 4091, 'kritisch': 4092, 'christchurch': 4093, 'attentaeter': 4094, 'schwarz': 4095, 'autor': 4096, 'atheisten': 4097, 'arbeitskreis': 4098, 'schweizer': 4099, 'abgeht': 4100, 'machtlos': 4101, 'rolex': 4102, 'sauber': 4103, 'wahn': 4104, 'solidaritaet': 4105, 'schauspieler': 4106, 'stuerzt': 4107, 'ermoeglichen': 4108, 'joseph': 4109, 'schlepper': 4110, 'regsprecher': 4111, 'sawsan': 4112, 'aprilscherz': 4113, 'staedten': 4114, 'anwenden': 4115, 'maus': 4116, 'bacho': 4117, 'half': 4118, 'freute': 4119, 'hupen': 4120, 'vonhier': 4121, 'moslemischen': 4122, 'aufgeben': 4123, 'linksgruenen': 4124, 'gelungen': 4125, 'wovon': 4126, 'joschka': 4127, 'fischer': 4128, 'traeumte': 4129, 'heutzutage': 4130, 'furchtbare': 4131, 'gehalten': 4132, 'ueberlebenskampf': 4133, 'englische': 4134, 'selbstbestimmung': 4135, 'selbstmord': 4136, 'hausotter': 4137, 'lde': 4138, 'ausreisen': 4139, 'lagerfeld': 4140, 'erhalt': 4141, 'thematisie': 4142, 'monatlich': 4143, 'intendanten': 4144, 'radio': 4145, 'qualitaetsjournalisten': 4146, 'scheinehen': 4147, 'grenzschutz': 4148, 'jede': 4149, 'reichsbuerger': 4150, 'autoren': 4151, 'koenntet': 4152, 'vorhin': 4153, 'klaus': 4154, 'fritz': 4155, 'sohnes': 4156, 'kaiser': 4157, 'meisseln': 4158, 'blanker': 4159, 'sellner': 4160, 'westernhagen': 4161, 'beck': 4162, 'ideen': 4163, 'degenerie': 4164, 'wechseln': 4165, 'feminismus': 4166, 'faule': 4167, 'eier': 4168, 'tiefen': 4169, 'lars': 4170, 'hetzprogramm': 4171, 'gegen': 4172, 'gabbe': 4173, 'ommy': 4174, 'screenshot': 4175, 'vorm': 4176, 'auftritt': 4177, 'krahmax': 4178, 'stur': 4179, 'gespalten': 4180, 'unbekannt': 4181, 'frauenquote': 4182, 'soviele': 4183, 'forschung': 4184, 'breaking': 4185, 'tee': 4186, 'gesichtet': 4187, 'exemplare': 4188, 'reichen': 4189, 'vandalismus': 4190, 'groessere': 4191, 'geruecht': 4192, 'fc': 4193, 'friedrichmerz': 4194, 'pointe': 4195, 'vorwuerfe': 4196, 'abscheu': 4197, 'ekel': 4198, 'ernaehrung': 4199, 'matthaeus': 4200, 'hfa': 4201, 'parlamentswahl': 4202, 'finnland': 4203, 'finnen': 4204, 'uhrbvb': 4205, 'schalke': 4206, 'wechsel': 4207, 'zwoelf': 4208, 'niederlanden': 4209, 'gladbach': 4210, 'desaster': 4211, 'erreichten': 4212, 'doppelt': 4213, 'begrenzen': 4214, 'laenderfinanzausgleich': 4215, 'habecks': 4216, 'huette': 4217, 'inkl': 4218, 'familiennachzug': 4219, 'gewisse': 4220, 'sichere': 4221, 'drittstaaten': 4222, 'wahlrecht': 4223, 'verstoesst': 4224, 'beobachten': 4225, 'wiederholen': 4226, 'wande': 4227, 'kleinstadt': 4228, 'scheren': 4229, 'lebendigem': 4230, 'fliehen': 4231, 'august': 4232, 'nannte': 4233, 'enkeln': 4234, 'durchsetzen': 4235, 'liche': 4236, 'fesseln': 4237, 'beamte': 4238, 'geflogen': 4239, 'renate': 4240, 'kuenast': 4241, 'awayklein': 4242, 'lohnt': 4243, 'fluechtlingskosten': 4244, 'kantholz': 4245, 'poggenburg': 4246, 'bundesverfassungsgericht': 4247, 'z4': 4248, 'asylverfahren': 4249, 'abouchaker': 4250, 'fingern': 4251, 'reinlassen': 4252, 'beachtet': 4253, 'schumacher': 4254, 'ghettos': 4255, 'messe': 4256, 'motiv': 4257, 'mufl': 4258, 'lkw': 4259, 'absicht': 4260, 'bottrop': 4261, 'erfolgreiches': 4262, 'happy': 4263, 'entschuldigt': 4264, 'hemd': 4265, 'ze': 4266, 'geschlossene': 4267, 'stell': 4268, 'staatsfunk': 4269, 'jung': 4270, 'relativ': 4271, 'instrumentalisie': 4272, 'geschweige': 4273, 'diese': 4274, 'zufall': 4275, 'dfb': 4276, 'heidelberg': 4277, 'hochzeiten': 4278, 'schuessen': 4279, 'einwilligung': 4280, 'kondom': 4281, 'haende': 4282, 'ferien': 4283, 'voeller': 4284, 'tuecke': 4285, 'bruecke': 4286, 'heftige': 4287, 'niko': 4288, 'stasitrine': 4289, 'fichte': 4290, 'wehe': 4291, 'unterstellt': 4292, 'staatsschutz': 4293, 'eindringlinge': 4294, 'lagebild': 4295, 'geh': 4296, 'selbstverstaendlich': 4297, 'suv': 4298, 'umsteigen': 4299, 'stuermt': 4300, 'heimatlaender': 4301, 'schaftswoche': 4302, 'ermittlungsrichter': 4303, 'treffend': 4304, 'einstellen': 4305, 'erfahren': 4306, 'feue': 4307, 'lehmann': 4308, 'aussterben': 4309, 'liga': 4310, 'boris': 4311, 'rponline': 4312, 'moenchengladbach': 4313, 'schaedigung': 4314, 'fachkraefteeinwanderung': 4315, 'schein': 4316, 'erwachsener': 4317, 'jogginghosen': 4318, 'oktoberfest': 4319, 'verbannen': 4320, 'kommentare': 4321, 'nationalsozialisten': 4322, 'ohrfeigen': 4323, 'ueben': 4324, 'beruf': 4325, 'womoeglich': 4326, 'vate': 4327, 'getrennt': 4328, 'raege': 4329, 'kuendigen': 4330, 'europarat': 4331, 'gruendung': 4332, 'entwicklungen': 4333, 'demographie': 4334, 'ruder': 4335, 'galt': 4336, 'rechtes': 4337, 'befragten': 4338, 'geheim': 4339, 'eingestuft': 4340, 'jammern': 4341, 'vorgang': 4342, 'curio': 4343, 'unterscheiden': 4344, 'zutreffend': 4345, 'vorbereitet': 4346, 'zimmer': 4347, 'quoten': 4348, 'freies': 4349, 'chancen': 4350, 'klarnamen': 4351, 'anonym': 4352, 'daimler': 4353, 'feminist': 4354, 'gleichstellung': 4355, 'unabhaengig': 4356, 'letztlich': 4357, 'sachthemen': 4358, 'wdr': 4359, 'positionen': 4360, 'herzliches': 4361, 'vilimsky': 4362, 'bundestagsvizepraesidentin': 4363, 'verrecke': 4364, 'entscheidende': 4365, 'zugestimmt': 4366, 'kommission': 4367, 'verbindlich': 4368, 'bemerkenswe': 4369, 'amadeu': 4370, 'thessaloniki': 4371, 'brandstiftung': 4372, 'ungeborenen': 4373, 'servicetweet': 4374, 'bildet': 4375, 'steine': 4376, 'frueh': 4377, 'hofer': 4378, 'fuehrung': 4379, 'ersetze': 4380, 'oezil': 4381, 'mimimi': 4382, 'braende': 4383, 'tazgezwitscher': 4384, 'schickt': 4385, 'saemtliche': 4386, 'block': 4387, 'verraeter': 4388, 'weihnachten': 4389, 'pegida': 4390, 'grausam': 4391, 'begruessen': 4392, 'qualifizie': 4393, 'daneben': 4394, 'erzeugen': 4395, 'simone': 4396, 'loescht': 4397, 'blockt': 4398, 'gauck': 4399, 'kacke': 4400, 'dampfen': 4401, 'staatliche': 4402, 'institutionen': 4403, 'bundespraesidenten': 4404, 'stichwahl': 4405, 'neuwahl': 4406, 'halbjahr': 4407, 'sicheren': 4408, 'dpolg': 4409, 'uebergriffen': 4410, 'gepflegt': 4411, 'scheissen': 4412, 'beruehmten': 4413, 'bad': 4414, 'abgelehnte': 4415, 'abschiebehaft': 4416, 'gesundheitska': 4417, 'isser': 4418, 'aufnahme': 4419, 'meinten': 4420, 'hoeflich': 4421, 'kritiker': 4422, '5x': 4423, 'diaetenerhoehung': 4424, 'staatssekretaer': 4425, 'kluger': 4426, 'vorstelle': 4427, 'geier': 4428, '050': 4429, 'shit': 4430, 'sprengt': 4431, 'unhaltbare': 4432, 'blicken': 4433, 'hetzt': 4434, 'tur': 4435, 'eingefueh': 4436, 'stich': 4437, 'verpflichtung': 4438, 'auslegung': 4439, 'asylantraege': 4440, 'streichen': 4441, 'busse': 4442, 'geschichtskonferenz': 4443, 'mitschnitt': 4444, 'motto': 4445, 'ditib': 4446, 'imame': 4447, 'gejammer': 4448, 'willkuerlich': 4449, 'finger': 4450, 'kostenlos': 4451, 'details': 4452, 'josef': 4453, 'konstituierende': 4454, 'democracy': 4455, 'schaebig': 4456, 'stoppt': 4457, 'schulden': 4458, 'einfordern': 4459, 'vernichtet': 4460, 'schlafen': 4461, 'kanaelen': 4462, 'helfe': 4463, 'bedanke': 4464, 'parlamentarischen': 4465, 'spielchen': 4466, 'nahrung': 4467, 'mobilisieren': 4468, 'prima': 4469, 'regulierung': 4470, 'senken': 4471, 'technologien': 4472, 'geschwafel': 4473, 'engagement': 4474, 'erklaerung': 4475, 'nette': 4476, 'rande': 4477, 'weiten': 4478, 'begeisterung': 4479, 'fachkraeften': 4480, 'chefin': 4481, 'ir': 4482, 'aufrufe': 4483, 'wahlprogramm': 4484, 'sekunden': 4485, 'gehoer': 4486, 'infostand': 4487, 'zurueckzufuehren': 4488, 'erfolgreichen': 4489, 'gespannt': 4490, 'goennen': 4491, 'oezdemir': 4492, 'eifreunden': 4493, 'nicole': 4494, 'frankenthal': 4495, 'todesu': 4496, 'reinhardswald': 4497, '2009': 4498, 'une': 4499, 'raeglich': 4500, 'peinlicher': 4501, 'christi': 4502, 'baron': 4503, 'handelsblatt': 4504, 'polizeibekannt': 4505, 'vita': 4506, 'gehetzt': 4507, 'kapitel': 4508, 'massenzuwanderung': 4509, 'killer': 4510, 'entwickeln': 4511, 'rechtsextremismus': 4512, 'fackelt': 4513, 'entfaellt': 4514, '56': 4515, 'sozialsystem': 4516, 'keingeldfuerrechts': 4517, 'praktische': 4518, 'aufgebauscht': 4519, 'atlantis': 4520, 'diplomaten': 4521, 'abgefackelt': 4522, 'flash': 4523, 'tegel': 4524, 'obdachlose': 4525, 'katze': 4526, 'sack': 4527, 'foerdermittel': 4528, '2011': 4529, 'kissinger': 4530, 'bedenklich': 4531, 'neustadt': 4532, 'bundesland': 4533, 'schwaenzen': 4534, 'panikmache': 4535, 'atomkrieg': 4536, 'waldsterben': 4537, 'schulzzug': 4538, 'landesverbands': 4539, 'kommunalen': 4540, 'bestellt': 4541, 'leistungstraeger': 4542, 'gutem': 4543, 'gewaender': 4544, 'doppelte': 4545, 'unglaubliche': 4546, 'grausame': 4547, 'tierschutz': 4548, 'gelegt': 4549, 'jemals': 4550, 'ausgelassen': 4551, 'antisemitisch': 4552, 'belasten': 4553, 'kulturelle': 4554, 'duisburg': 4555, 'bischoefe': 4556, 'sigmargabriel': 4557, 'erbaermliche': 4558, 'oppo': 4559, 'unist': 4560, 'spdfraktionrlp': 4561, 'hochaggressivem': 4562, 'beteiligung': 4563, 'linksextremer': 4564, 'ueberfueh': 4565, 'geschichten': 4566, 'sturmreif': 4567, 'aeltere': 4568, 'gewaltbereiten': 4569, 'hausfriedensbruch': 4570, 'demokratieverstaendnis': 4571, 'glaeubigen': 4572, 'reformieren': 4573, 'affaere': 4574, 'held': 4575, 'puenktlich': 4576, 'bekannte': 4577, 'geschah': 4578, 'verdacht': 4579, 'nachgehen': 4580, 'verluste': 4581, 'bemerken': 4582, 'weist': 4583, 'dennoch': 4584, 'begruendung': 4585, 'keine': 4586, 'unabhaengigkeit': 4587, 'roter': 4588, 'swr': 4589, 'tribunal': 4590, 'kompliment': 4591, 'adresse': 4592, 'evp': 4593, 'keller': 4594, 'skakeller': 4595, 'vollem': 4596, 'stil': 4597, 'durchaus': 4598, 'abzuschaffen': 4599, 'bollinger': 4600, 'fahne': 4601, 'brennen': 4602, 'massnahmen': 4603, 'vstorch': 4604, 'identifizie': 4605, 'soziale': 4606, 'plenarsitzung': 4607, 'fantasien': 4608, 'gelegenheit': 4609, 'verkaufte': 4610, 'mark': 4611, 'kooperation': 4612, 'haeufig': 4613, 'listenplatz': 4614, 'netanjahu': 4615, 'aufhoeren': 4616, 'internen': 4617, 'frisch': 4618, 'sozialer': 4619, 'tatwerkzeug': 4620, 'fridays': 4621, 'mullahs': 4622, 'aussenpolitik': 4623, 'empfohlen': 4624, 'android': 4625, 'pflege': 4626, 'ausbilden': 4627, 'hgm': 4628, 'perfekt': 4629, 'gast': 4630, 'umgekeh': 4631, 'evangelischen': 4632, 'nation': 4633, 'folgt': 4634, 'ff': 4635, 'bewegt': 4636, 'regierungen': 4637, 'heiratsstau': 4638, 'hhbombe': 4639, 'kampfmittelraeumdienst': 4640, 'einsatzfuerhamburg': 4641, 'taktik': 4642, 'tisch': 4643, 'ermittlungen': 4644, 'getreten': 4645, 'beraubt': 4646, 'derwahreerich': 4647, 'nimmer': 4648, 'dielinke': 4649, 'denkbar': 4650, 'ansicht': 4651, 'umweltschutz': 4652, 'auszug': 4653, 'hannovergenuss': 4654, 'sinnlos': 4655, 'ziele': 4656, 'umbruch': 4657, 'vorreiter': 4658, 'diegruenen': 4659, 'abends': 4660, 'steak': 4661, 'dushanwegner': 4662, 'unserioese': 4663, 'gegenwehr': 4664, 'praktisch': 4665, 'bahnt': 4666, 'komplex': 4667, 'plakat': 4668, 'graubaer1953': 4669, 'ausleben': 4670, 'ideologisie': 4671, 'geraet': 4672, 'zunehmend': 4673, 'wunderbar': 4674, '1990': 4675, 'deutschlandweitem': 4676, 'pfund': 4677, 'sobald': 4678, 'ausgeht': 4679, 'enger': 4680, 'festnehmen': 4681, 'koerperverletzung': 4682, 'lokal': 4683, 'komplette': 4684, 'christentum': 4685, 'oeffentliches': 4686, 'muenchner': 4687, 'fussgaengerzone': 4688, 'fraktionsvorsitzende': 4689, 'worum': 4690, 'zornige': 4691, 'libyschen': 4692, 'kuestenwache': 4693, 'verfrachtet': 4694, 'skandieren': 4695, 'rotgruene': 4696, 'gratuliere': 4697, 'erich': 4698, 'unheil': 4699, 'kaempfer': 4700, 'bashing': 4701, 'legten': 4702, 'aggressives': 4703, 'bomber': 4704, 'altes': 4705, 'mutmassliche': 4706, 'stammt': 4707, 'sexualdelikt': 4708, 'pakistani': 4709, 'rechnungen': 4710, 'fridays4future': 4711, 'dummmenschen': 4712, 'christliches': 4713, 'verfuegbar': 4714, 'aufgehen': 4715, 'halbwegs': 4716, 'hubschrauber': 4717, 'gebrochen': 4718, 'dazwischen': 4719, 'uebergiesst': 4720, 'aeuschung': 4721, 'erwachsene': 4722, 'andersrum': 4723, 'seele': 4724, 'hauses': 4725, 'eingereisten': 4726, 'antraege': 4727, 'opfers': 4728, 'fremdenfeindlich': 4729, 'kranken': 4730, 'mitgliedern': 4731, 'spucken': 4732, 'angestellte': 4733, 'kurse': 4734, 'nuechtern': 4735, 'geschwindigkeit': 4736, 'obdachlosen': 4737, 'op': 4738, 'taeterbeschreibung': 4739, 'eberswalde': 4740, 'marmelade': 4741, 'hierzu': 4742, 'sudanese': 4743, 'skalpie': 4744, 'express': 4745, 'verfaellt': 4746, 'nogruene': 4747, 'klimasekte': 4748, 'straftaetern': 4749, 'belegt': 4750, 'otten': 4751, 'dienst': 4752, 'nordafrikaner': 4753, 'wehr': 4754, 'zurueckkehren': 4755, 'ausreisegeld': 4756, 'gepostet': 4757, 'gsg9': 4758, 'verfluchte': 4759, 'praechtige': 4760, 'lustigen': 4761, 'twitte': 4762, 'kragen': 4763, 'stellve': 4764, 'ermittlungsverfahren': 4765, 'begruendet': 4766, 'knaller': 4767, 'konstruktiven': 4768, 'riesen': 4769, 'verueben': 4770, 'krebskranken': 4771, 'flyer': 4772, 'plakate': 4773, 'hasse': 4774, 'ungerechtigkeit': 4775, '54': 4776, 'entsorgt': 4777, 'verdoppeln': 4778, 'baut': 4779, 'tomaten': 4780, 'eiern': 4781, 'terroranschlag': 4782, 'gutachten': 4783, 'nachvollziehbar': 4784, 'wirklichen': 4785, 'phantasie': 4786, 'studium': 4787, 'aufgeblasener': 4788, 'abaerbock': 4789, 'gigatonnen': 4790, 'rundfunkbeitrag': 4791, 'abgeschafft': 4792, 'taxifahrer': 4793, 'eingeschlagen': 4794, 'geschnappt': 4795, 'oemer': 4796, 'tante': 4797, 'gingen': 4798, 'pensionisten': 4799, 'bar': 4800, 'aufnimmt': 4801, 'versorgt': 4802, 'bietet': 4803, 'justizsenator': 4804, 'bundesweiten': 4805, 'pruegelt': 4806, 'aufgehaengt': 4807, 'gelingt': 4808, 'bewegen': 4809, 'gezwungen': 4810, 'schuesse': 4811, 'fahrzeug': 4812, 'insassen': 4813, 'unschuld': 4814, 'hochzeitsgesellschaft': 4815, 'ingenieure': 4816, 'schlugen': 4817, 'locker': 4818, 'legende': 4819, 'haraldlesch': 4820, 'tatverdaechtiger': 4821, 'deggendorf': 4822, 'wut': 4823, 'aha': 4824, 'kritisieren': 4825, 'okay': 4826, 'hohen': 4827, 'hm': 4828, 'gruenebundestag': 4829, 'geordneterueckkehrgesetz': 4830, 'gesprengt': 4831, 'haftbefehle': 4832, 'erlassen': 4833, 'klimascheisse': 4834, 'verkehrskontrolle': 4835, 'durchsucht': 4836, 'fragezeichen': 4837, 'meine': 4838, 'boy': 4839, 'bomm': 4840, 'bevorzugte': 4841, 'voru': 4842, 'definition': 4843, 'handwerker': 4844, 'pruefung': 4845, 'gesellen': 4846, 'bestehen': 4847, 'germanische': 4848, 'begriffen': 4849, 'realen': 4850, 'umzusetzen': 4851, 'verstaerkt': 4852, 'ae': 4853, 'empfehlen': 4854, 'riesiges': 4855, 'verkauf': 4856, 'span': 4857, 'befristete': 4858, 'aenderungen': 4859, 'freundlich': 4860, 'haymat': 4861, 'gewohnt': 4862, 'hinaus': 4863, 'geistig': 4864, 'koerperlichen': 4865, 'ausgewaehlt': 4866, 'haettest': 4867, 'lauro': 4868, 'doc': 4869, 'ner': 4870, 'akademischen': 4871, 'anve': 4872, 'naeheren': 4873, 'institute': 4874, 'bilderberger': 4875, 'insider': 4876, 'welle': 4877, 'gerechtigkeit': 4878, 'brid': 4879, 'bestaetigen': 4880, 'protonmail': 4881, 'echtzeit': 4882, 'ueberwachungen': 4883, 'ss': 4884, '343': 4885, 'paragraph': 4886, 'teufels': 4887, 'spieglein': 4888, 'inhaftie': 4889, 'herman': 4890, 'storch': 4891, 'irrelevant': 4892, 'angelika': 4893, 'schicksal': 4894, 'thing': 4895, 'themar': 4896, 'bilanz': 4897, 'wahlbetrug': 4898, 'europawaehler': 4899, 'kategorie': 4900, 'maul': 4901, 'enthuellt': 4902, 'schwabenland': 4903, 'ehrendokto': 4904, 'ekelhafte': 4905, 'hinterlassen': 4906, 'staatsmedien': 4907, 'verlaenge': 4908, 'undemokratischen': 4909, 'einzelfaelle': 4910, 'des': 4911, 'einschalten': 4912, 'masse': 4913, 'hinterher': 4914, '87': 4915, '55': 4916, 'fasst': 4917, 'irgendjemanden': 4918, '123korona': 4919, 'ausfah': 4920, 'faustdicke': 4921, 'eilungskaempfe': 4922, 'heftig': 4923, 'verstorbenen': 4924, 'reich': 4925, 'hasses': 4926, 'brexitpa': 4927, 'tories': 4928, 'chapeau': 4929, 'schoensten': 4930, 'lyon': 4931, 'kurzschluss': 4932, 'traf': 4933, 'vanderbellen': 4934, 'eroe': 4935, 'eindruck': 4936, 'gestrigen': 4937, 'beachte': 4938, 'sinngemaess': 4939, 'auszuhalten': 4940, 'tierquaelerei': 4941, 'angeschaut': 4942, 'viel': 4943, 'nichtohnemeinkopftuch': 4944, 'wahlsieg': 4945, 'panzer': 4946, 'stuermen': 4947, 'einschreitet': 4948, 'wittern': 4949, 'bewaffnet': 4950, 'grenzenlose': 4951, 'eddie': 4952, '1412': 4953, 'vormachtstellung': 4954, 'jetzterstrecht': 4955, 'beauftragter': 4956, 'ursache': 4957, 'benennen': 4958, 'koordinie': 4959, 'fakenewsmedia': 4960, 'gewinnt': 4961, 'relevanteste': 4962, 'vorschriften': 4963, 'stuendigen': 4964, 'unterschlagen': 4965, 'existieren': 4966, 'russin': 4967, 'kurzen': 4968, 'mini': 4969, 'zugegeben': 4970, 'naechster': 4971, 'misstrauensantrag': 4972, 'onkel': 4973, 'journalistische': 4974, 'anzuenden': 4975, 'neubrandenburg': 4976, 'unheimlich': 4977, 'entscheiden': 4978, 'tvduell': 4979, 'erdreistet': 4980, 'cool': 4981, 'gefilmt': 4982, 'abriss': 4983, 'deutlicher': 4984, 'aggression': 4985, 'htlottakring': 4986, 'regulieren': 4987, 'landtags': 4988, 'bereichern': 4989, 'taharrush': 4990, 'herz': 4991, 'dulrahman': 4992, 'buntes': 4993, 'nackte': 4994, 'passantin': 4995, 'medialen': 4996, 'schneidet': 4997, 'erzogen': 4998, 'fuehrerschein': 4999, 'kapitalismus': 5000, 'nordkorea': 5001, 'kriegen': 5002, 'innenstaedten': 5003, 'verlinkt': 5004, 'verbloedet': 5005, 'toetete': 5006, 'social': 5007, 'media': 5008, 'erhoben': 5009, 'modus': 5010, 'offenbach': 5011, 'begeht': 5012, 'erfaeh': 5013, 'mainstreammedien': 5014, 'schulzeit': 5015, 'verbrennen': 5016, 'tennis': 5017, 'baeckern': 5018, 'dienstkleidung': 5019, 'blaest': 5020, 'lichter': 5021, 'nunmehr': 5022, 'gefasst': 5023, 'haha': 5024, 'klimasuender': 5025, 'fahre': 5026, 'belohnt': 5027, 'deppe': 5028, 'polizeibekannter': 5029, 'venezuela': 5030, 'hurra': 5031, 'magazin': 5032, 'derfreitag': 5033, 'sexualstraftaeter': 5034, 'moegliche': 5035, 'entwarnung': 5036, 'samariter': 5037, 'geschaeftsfuehrer': 5038, 'asb': 5039, 'schlagzeile': 5040, 'dargestellt': 5041, 'db': 5042, 'dfakenews1': 5043, 'geliebten': 5044, 'allgemeine': 5045, 'kreuz': 5046, 'jederzeit': 5047, 'kehle': 5048, 'zahran': 5049, 'hashim': 5050, 'absurd': 5051, 'hasser': 5052, 'weltoffen': 5053, 'wiederaufbau': 5054, 'trick': 5055, 'reisende': 5056, 'eigentlichen': 5057, 'wofuer': 5058, 'clown': 5059, 'faktum': 5060, 'ignorie': 5061, '85': 5062, 'sahne': 5063, 'islamkritischer': 5064, 'unterschiedlichen': 5065, 'zufaelle': 5066, 'abos': 5067, 'hardcore': 5068, 'bento': 5069, 'abgelehnter': 5070, 'nieder': 5071, 'holland': 5072, 'regelrecht': 5073, 'ursaechlich': 5074, 'hitlers': 5075, 'hinweisen': 5076, 'exklusiv': 5077, 'entgehen': 5078, 'tour': 5079, 'massivem': 5080, 'beschweren': 5081, 'dm': 5082, 'teilung': 5083, 'schiessereien': 5084, 'zusammengefasst': 5085, 'shithole': 5086, 'kauf': 5087, 'beute': 5088, 'ostdeutsche': 5089, 'alltaegliche': 5090, 'rentenkonzept': 5091, 'spendenaffaere': 5092, 'leuchttuerme': 5093, 'untersuchung': 5094, 'niemehrcdu': 5095, 'menschenverachtenden': 5096, 'abgeordneter': 5097, 'eklat': 5098, 'tonline': 5099, 'kurze': 5100, 'eis': 5101, 'satirischer': 5102, 'stirn': 5103, 'weite': 5104, 'fluechtlingshelfer': 5105, 'konstantinnotz': 5106, 'oekologische': 5107, 'frech': 5108, 'erklaere': 5109, 'juliakloeckner': 5110, 'dokto': 5111, 'koepfen': 5112, 'selbsternannten': 5113, 'hater': 5114, 'hahaha': 5115, 'aufstand': 5116, 'vw': 5117, 'managerin': 5118, 'rechtssicherheit': 5119, 'julia': 5120, 'erlebt': 5121, 'aergerlich': 5122, 'eienfinanzierung': 5123, 'notwendigen': 5124, 'geblieben': 5125, 'geruegt': 5126, 'brandner': 5127, 'traditionell': 5128, 'meinungsmache': 5129, 'abkommen': 5130, 'blicke': 5131, 'verfassungsschutzbericht': 5132, 'behindern': 5133, 'bezahlten': 5134, 'eilten': 5135, 'luegner': 5136, 'anhaenger': 5137, 'organisationen': 5138, 'heimatstadt': 5139, 'polizeilichen': 5140, 'vice': 5141, 'freiwillige': 5142, 'nachricht': 5143, 'windraeder': 5144, 'windkraft': 5145, 'steiner': 5146, 'sophie': 5147, 'ost': 5148, 'bundeslaendern': 5149, 'schonen': 5150, 'mpkretschmer': 5151, 'wirren': 5152, 'nirgendwo': 5153, 'sonstige': 5154, 'oesterreichs': 5155, 'stellte': 5156, 'derpoet': 5157, 'realsatire': 5158, 'schreibst': 5159, 'devise': 5160, 'manager': 5161, 'beschluss': 5162, 'angehoerigen': 5163, 'reaktionen': 5164, 'menschenverachtend': 5165, 'weltweiten': 5166, 'schmieriger': 5167, 'wuerdet': 5168, 'lachnummer': 5169, 'nigel': 5170, 'farage': 5171, 'oligarchen': 5172, 'mettbroetchen': 5173, 'spangenberg': 5174, 'komning': 5175, 'holocaust': 5176, 'typische': 5177, 'kolleginnen': 5178, 'dokumentation': 5179, 'wirbt': 5180, 'smisachsen': 5181, 'verabschiedet': 5182, 'somit': 5183, 'fuehle': 5184, 'videoaufnahmen': 5185, 'landesverrat': 5186, 'verkuendet': 5187, 'fragwuerdig': 5188, 'finanzen': 5189, 'suedwest': 5190, 'mediator': 5191, 'pinguin': 5192, 'friedliche': 5193, 'fridaysforfu': 5194, 'ure': 5195, 'pressemitteilungen': 5196, 'analysie': 5197, 'darstellt': 5198, 'ausloeser': 5199, 'krah': 5200, 'iss': 5201, 'bestimmter': 5202, 'fasching': 5203, 'indianer': 5204, 'einwandern': 5205, 'voraus': 5206, 'heliumballons': 5207, 'ermordet': 5208, 'rassistischen': 5209, 'angesehen': 5210, 'blickt': 5211, 'reifen': 5212, 'ey': 5213, 'neutral': 5214, 'verstoss': 5215, 'moin': 5216, 'tosender': 5217, 'regierungsprogramm': 5218, 'klugscheisser': 5219, 'mario': 5220, 'reschke': 5221, 'telefon': 5222, 'steuergeldern': 5223, 'bord': 5224, '180': 5225, 'sinnvoll': 5226, 'nichte': 5227, 'unwuerdig': 5228, 'nun': 5229, 'bananenrepublik': 5230, 'meister': 5231, 'richard': 5232, 'aufgaben': 5233, 'authentischen': 5234, 'toent': 5235, 'planet': 5236, 'regen': 5237, 'farce': 5238, 'sozialdemokratie': 5239, 'abgrund': 5240, 'realisieren': 5241, 'stephan': 5242, 'umzug': 5243, 'angeblicher': 5244, 'unwuerdige': 5245, 'krieges': 5246, 'grundgesetzes': 5247, 'logo': 5248, 'gewisses': 5249, 'bedeuten': 5250, 'musterbeispiele': 5251, 'nordischbynatur': 5252, 'hackenstad': 5253, 'sabine': 5254, 'leyen': 5255, 'verpruegeln': 5256, 'eidigt': 5257, 'veraerge': 5258, 'warf': 5259, 'wunderbare': 5260, 'unsaegliche': 5261, 'spaltung': 5262, 'massenmigration': 5263, 'bildungsnotstand': 5264, 'umve': 5265, 'stuerzenberger': 5266, 'europastatteu': 5267, 'verbesse': 5268, 'landkreis': 5269, 'bundessprecher': 5270, 'berechtigte': 5271, 'teilnehmen': 5272, 'feinstaub': 5273, 'niemehrspd': 5274, 'faul': 5275, 'sachen': 5276, 'weltfahrradtag': 5277, 'klo': 5278, 'gestopft': 5279, 'unveraende': 5280, 'liefe': 5281, 'wohnungsknappheit': 5282, 'fels': 5283, 'vermissen': 5284, 'meinungsaeusserungen': 5285, 'vollpfosten': 5286, 'oestereich': 5287, 'jedermanns': 5288, 'contest': 5289, 'beschraenkung': 5290, 'bundesbuerger': 5291, 'grundschulen': 5292, 'kopftuecher': 5293, 'kinderga': 5294, 'demokratischer': 5295, 'bundesstaat': 5296, 'gesetzgebung': 5297, 'australien': 5298, 'suizid': 5299, 'liberal': 5300, 'gezielt': 5301, 'dasschafi': 5302, 'angemeldet': 5303, 'bi': 5304, 'hday': 5305, 'diskutie': 5306, 'dir': 5307, 'heimlich': 5308, 'aufenthaltsrecht': 5309, 'belegen': 5310, 'krankheit': 5311, 'prominenz': 5312, 'apropos': 5313, 'lok': 5314, 'gewaltverbrechen': 5315, 'besseren': 5316, 'kontinent': 5317, 'neokolonialismus': 5318, 'afrikas': 5319, 'ossi': 5320, 'nachsehen': 5321, 'ratschlaege': 5322, 'schauspielern': 5323, 'lol': 5324, 'bissl': 5325, 'shiwa': 5326, 'waltraud': 5327, '93cecc58ff2e400': 5328, 'armleuchter': 5329, 'verdrehen': 5330, 'rassistische': 5331, 'derjenige': 5332, 'anschliessen': 5333, 'auftraege': 5334, 'ideologisch': 5335, 'user': 5336, 'heuteplus': 5337, 'zuviel': 5338, 'vorwerfen': 5339, 'damen': 5340, 'pferde': 5341, 'millionaer': 5342, 'polizeisachsen': 5343, 'vorfall': 5344, 'figuren': 5345, 'globalisten': 5346, 'klimadebatte': 5347, 'signal': 5348, 'mopo': 5349, 'ansage': 5350, 'absteiger': 5351, 'schwuler': 5352, 'matthiasmeisner': 5353, 'schmerz': 5354, 'mitteldeutsche': 5355, 'feststellung': 5356, 'nachwuchs': 5357, 'posten': 5358, 'volker': 5359, 'dramatisch': 5360, 'stoergroessem': 5361, '0siegfried': 5362, 'guidoheidkamp': 5363, 'vorstellung': 5364, 'guido': 5365, 'groenemeyer': 5366, 'gemeint': 5367, 'of': 5368, 'einladung': 5369, 'heulen': 5370, 'marius': 5371, 'einfache': 5372, 'sinnlose': 5373, 'zwangslaeufig': 5374, 'herrschaften': 5375, 'werkstattgespraech': 5376, '80er': 5377, 'kamran': 5378, 'aehnliches': 5379, 'schachtel': 5380, 'loesung': 5381, 'hambacherforst': 5382, 'wikinger': 5383, 'island': 5384, 'aerger': 5385, 'eingebracht': 5386, 'laege': 5387, 'hauptschulabschluss': 5388, 'verlogene': 5389, 'woanders': 5390, 'anthropogenen': 5391, 'argument': 5392, 'fritzvonsteiner': 5393, 'doktor': 5394, 'schlimme': 5395, 'kocht': 5396, 'absturz': 5397, 'klimareligion': 5398, 'germanen': 5399, 'beigetreten': 5400, 'meldemuschis': 5401, 'dienen': 5402, 'auffueh': 5403, 'sultan': 5404, 'allem': 5405, 'biedermann': 5406, 'brandstifter': 5407, 'voglerk': 5408, 'judenhass': 5409, 'judenhasser': 5410, 'verfassungsfeindlich': 5411, 'weihnachtsmaerkte': 5412, 'gewonnen': 5413, 'doppelspitze': 5414, 'hoehen': 5415, 'druecken': 5416, 'kamerun': 5417, 'unfaehige': 5418, 'queer': 5419, 'getrigge': 5420, 'machst': 5421, 'ulfposh': 5422, 'asylanten': 5423, 'schweinefleisch': 5424, 'verzehren': 5425, 'geliebt': 5426, 'anfangen': 5427, 'loechern': 5428, 'socken': 5429, 'herzlichst': 5430, 'landteil': 5431, 'mangel': 5432, 'geldstrafe': 5433, 'mittelmeer': 5434, 'diaet': 5435, 'doofen': 5436, 'gestrichen': 5437, '2013': 5438, 'eidigungsministerin': 5439, 'schoenste': 5440, 'ueblichen': 5441, 'extinction': 5442, 'bremer': 5443, 'einbildung': 5444, 'feier': 5445, 'bezirk': 5446, 'feste': 5447, 'mauerpark': 5448, 'beleidigen': 5449, 'entspannen': 5450, 'neubuerger': 5451, 'aufstieg': 5452, 'gegenseitig': 5453, 'ehmm': 5454, 'mascha': 5455, 'freiluftklapse': 5456, 'schuelersprecher': 5457, 'luftpumpe': 5458, 'zonenlurch': 5459, 'fahrradstaender': 5460, 'buergern': 5461, 'taschen': 5462, 'scheisst': 5463, 'staats': 5464, 'herzliche': 5465, 'niederoesterreich': 5466, 'helllichten': 5467, 'intensiv': 5468, 'spezies': 5469, 'schlaraffenland': 5470, 'bundesinnenministerium': 5471, 'foerderprogramm': 5472, 'juristisch': 5473, 'echter': 5474, 'tollem': 5475, 'amis': 5476, 'privat': 5477, 'gebe': 5478, 'wettervorhersage': 5479, 'findest': 5480, 'entspannt': 5481, 'terrasse': 5482, 'stadtrand': 5483, 'pause': 5484, 'dunklen': 5485, 'brueste': 5486, 'leer': 5487, 'graete': 5488, 'vergiss': 5489, 'noe': 5490, 'hautnah': 5491, 'schilder': 5492, 'vorsitz': 5493, 'bange': 5494, 'kunden': 5495, 'maedel': 5496, 'bewirbt': 5497, 'ring': 5498, 'brauch': 5499, 'kuendigt': 5500, 'fraktionschefin': 5501, 'uff': 5502, 'klaren': 5503, 'charlotte': 5504, 'roche': 5505, 'nackt': 5506, 'moderatorin': 5507, 'enkel': 5508, 'gefolgt': 5509, 'intelligenz': 5510, 'igitt': 5511, 'meldet': 5512, 'maria': 5513, 'absetzen': 5514, 'gekauft': 5515, 'quds': 5516, 'multi': 5517, 'kulti': 5518, 'parolen': 5519, 'kuds': 5520, 'landen': 5521, 'versicherung': 5522, 'geraumer': 5523, 'kontinuierlich': 5524, 'passenden': 5525, 'udo': 5526, 'reist': 5527, 'verschwenden': 5528, 'reduzieren': 5529, 'kochen': 5530, 'nachmachen': 5531, 'faelschen': 5532, 'rufend': 5533, 'wilde': 5534, 'merke': 5535, 'se': 5536, 'gespuelt': 5537, 'vorzugsstimme': 5538, 'verfahren': 5539, 'wirr': 5540, 'bachmann': 5541, 'psychiatrie': 5542, 'klimaluege': 5543, 'bestrafen': 5544, 'updayde': 5545, 'gesendet': 5546, 'elke': 5547, 'roll': 5548, 'menschenfreunde': 5549, 'sichern': 5550, 'verkommt': 5551, 'schwule': 5552, 'russlanddeutschen': 5553, 'dublin': 5554, 'sicht': 5555, 'durchlesen': 5556, 'guenther': 5557, 'passieren': 5558, 'bekaempfen': 5559, 'friedlichen': 5560, 'asylis': 5561, 'umweltzerstoerung': 5562, 'beeinflussen': 5563, 'gelaber': 5564, 'kids': 5565, 'faelschung': 5566, 'leichengift': 5567, 'zweite': 5568, 'geheime': 5569, 'apokalypse': 5570, 'radfahrer': 5571, 'zigeuner': 5572, 'brunei': 5573, 'strikt': 5574, 'steinigung': 5575, 'nytimes': 5576, 'dietrich': 5577, 'funken': 5578, 'hinfuehren': 5579, 'dummen': 5580, 'netzwerk': 5581, 'erfindet': 5582, 'populismus': 5583, 'radikale': 5584, 'judentum': 5585, 'weich': 5586, 'irland': 5587, 'tausend': 5588, 'wohnt': 5589, 'paradies': 5590, 'jerusalem': 5591, 'flagge': 5592, 'liberalen': 5593, 'netzfund': 5594, 'kuddelmuddel9': 5595, 'spandau': 5596, 'skalpieren': 5597, 'zweieinhalb': 5598, 'kranke': 5599, 'vereinzelt': 5600, 'geratet': 5601, 'taegliche': 5602, 'geile': 5603, 'anschlaegen': 5604, 'mobilitaet': 5605, 'bvg': 5606, 'hijab': 5607, 'uk': 5608, 'episoden': 5609, 'kalifornien': 5610, 'akbas': 5611, 'chaos': 5612, 'konstruktive': 5613, 'zwangsfinanzierung': 5614, 'peace': 5615, 'erwischt': 5616, 'nackten': 5617, 'fixie': 5618, 'gefaengnissen': 5619, 'untergebracht': 5620, 'bessermensch': 5621, 'aufpassen': 5622, 'verschiebung': 5623, 'weitergeht': 5624, 'grimmepreis': 5625, 'adoptie': 5626, 'finanzie': 5627, 'kasper': 5628, 'trolle': 5629, 'menschenmenge': 5630, 'nachwo': 5631, 'militaerische': 5632, 'relativierung': 5633, 'ares': 5634, 'rasse': 5635, 'politikerin': 5636, 'negroide': 5637, 'schatten': 5638, 'schrei': 5639, '08': 5640, 'extra': 5641, 'lied': 5642, 'strahlung': 5643, 'detaillie': 5644, 'ev': 5645, 'kla': 5646, 'ext': 5647, 'judensau': 5648, 'blamage': 5649, 'umfangreiche': 5650, 'alliie': 5651, 'kriegsverbrechen': 5652, 'braeutigam': 5653, 'moskau': 5654, 'ialisch': 5655, 'konkordat': 5656, 'wesen': 5657, 'wuenschenswe': 5658, 'mitschuldig': 5659, 'existie': 5660, 'gehst': 5661, 'ungefaehr': 5662, 'scheisser': 5663, 'ausgerechnet': 5664, 'erlass': 5665, 'umgebung': 5666, 'generalverdacht': 5667, 'aufkommen': 5668, 'zuhauf': 5669, 'richten': 5670, 'wowereit': 5671, 'heldt': 5672, 'first': 5673, 'unklarer': 5674, 'rueckschritt': 5675, 'lobbyisten': 5676, '44': 5677, 'siehst': 5678, 'aelterer': 5679, 'starkes': 5680, 'einparken': 5681, 'historiker': 5682, 'warschau': 5683, 'anlaesslich': 5684, 'juengsten': 5685, 'phaenomen': 5686, 'sky': 5687, 'permanent': 5688, 'unfaehigkeit': 5689, 'neujahrsempfang': 5690, 'klug': 5691, 'totalschaden': 5692, 'unfug': 5693, 'sicherheitslage': 5694, 'eingewande': 5695, 'staatsbeamten': 5696, 'teilt': 5697, 'geheimnis': 5698, 'bedingungen': 5699, 'gewissen': 5700, 'eigenstaendige': 5701, 'betrifft': 5702, 'einheimische': 5703, 'henryk': 5704, 'political': 5705, 'correctness': 5706, 'fluechtlings': 5707, 'uebersetzt': 5708, 'finanziellen': 5709, 'arbeitsagentur': 5710, 'verschaerfung': 5711, 'asylgesetze': 5712, 'instrumentalisierung': 5713, 'hasst': 5714, 'funktionaere': 5715, 'schlimmen': 5716, 'bueros': 5717, 'gehoere': 5718, 'ihresgleichen': 5719, 'krachend': 5720, 'eugen': 5721, 'ulrich': 5722, 'neuerdings': 5723, 'beziehungsweise': 5724, 'aehnlich': 5725, 'unverbindlichen': 5726, 'irgendetwas': 5727, 'inder': 5728, 'regionale': 5729, 'taetergruppe': 5730, 'negative': 5731, 'ngos': 5732, 'bekraeftigt': 5733, 'kulturzentrum': 5734, 'herrscher': 5735, 'staatskasse': 5736, 'rettungsschiffen': 5737, 'anlaufen': 5738, 'italienischer': 5739, 'gewaesser': 5740, 'achten': 5741, 'kommenden': 5742, 'zahlungen': 5743, 'spuerbar': 5744, 'september': 5745, 'sarrazins': 5746, 'einzuschlagen': 5747, 'thomas': 5748, 'kredite': 5749, 'europaeischer': 5750, 'hersee': 5751, 'symbolisie': 5752, 'totalitarismus': 5753, 'ermaechtigungsgesetz': 5754, 'anstrengung': 5755, 'hersteller': 5756, 'autoabsatz': 5757, 'wichtigsten': 5758, 'spaetere': 5759, 'glyphosat': 5760, 'orientieren': 5761, 'sinkt': 5762, 'tiefsten': 5763, 'gesunken': 5764, 'demoskopisch': 5765, 'volksherrschaft': 5766, 'abspaltung': 5767, 'internetzensur': 5768, 'mieterhoehung': 5769, 'bewegte': 5770, 'washington': 5771, 'grausiger': 5772, 'demographischer': 5773, 'lawrow': 5774, 'saemtlichen': 5775, 'gesetzesvorlagen': 5776, 'komplizie': 5777, 'absatz': 5778, 'einkommensteuergesetzes': 5779, 'magdeburg': 5780, 'schaefer': 5781, 'eifel': 5782, 'schleswig': 5783, 'holstein': 5784, 'invasion': 5785, 'enkontrolle': 5786, 'haustuer': 5787, 'wehren': 5788, 'digitale': 5789, 'andererseits': 5790, 'waffe': 5791, 'fotos': 5792, 'flickr': 5793, 'stefan': 5794, 'russlands': 5795, 'verlegt': 5796, 'rueckkehr': 5797, 'realpolitik': 5798, 'zentrum': 5799, 'lauren': 5800, 'southerns': 5801, 'treibt': 5802, 'branche': 5803, 'bizarr': 5804, 'spanische': 5805, 'veroeffentlichung': 5806, 'nachrichtensendung': 5807, 'touristen': 5808, 'heuschrecken': 5809, 'plagen': 5810, 'notenbanken': 5811, 'oecd': 5812, 'g20': 5813, 'einnahmequellen': 5814, 'erotik': 5815, 'olaf': 5816, 'mieten': 5817, 'kretschmer': 5818, 'els': 5819, 'auflage': 5820, 'nam': 5821, 'cia': 5822, 'informant': 5823, 'pd': 5824, 'frauenstreik': 5825, 'regt': 5826, 'solidaritaetszuschlags': 5827, 'moehre': 5828, 'rohstoffe': 5829, 'kryptowaehrungen': 5830, 'casinos': 5831, 'leitfaden': 5832, 'federal': 5833, 'reserve': 5834, '115': 5835, 'editorial': 5836, 'neunjaehriges': 5837, 'untersuchungshaft': 5838, 'umweltbundesamt': 5839, 'jahrestag': 5840, 'konzernmedien': 5841, 'loecher': 5842, 'entstehen': 5843, 'reter': 5844, 'gebildet': 5845, 'haeusern': 5846, 'jacke': 5847, 'leine': 5848, 'ruhr': 5849, 'legale': 5850, 'fette': 5851, 'gue': 5852, '2007': 5853, '2x': 5854, 'drunter': 5855, '2018in5words': 5856, 'miss': 5857, 'gegenstand': 5858, 'uebergibt': 5859, 'vi': 5860, 'kommunismus': 5861, 'neos': 5862, 'fun': 5863, 'placenta': 5864, 'appetit': 5865, 'huldigen': 5866, 'wahrnehmung': 5867, 'aussenministers': 5868, 'kognitive': 5869, 'oekologisch': 5870, 'amtes': 5871, 'dynamo': 5872, 'momente': 5873, 'bds': 5874, 'rosi': 5875, 'zeitmaschine': 5876, 'schmeissen': 5877, 'kuehlschrank': 5878, 'haltestelle': 5879, 'massaker': 5880, 'chinesischen': 5881, 'lebens': 5882, 'originalen': 5883, 'bekloppten': 5884, 'roma': 5885, 'prag': 5886, 'einreden': 5887, 'riskante': 5888, 'gelingen': 5889, 'bnd': 5890, 'hanning': 5891, 'basu': 5892, 'steuerentlastungen': 5893, 'konjunktur': 5894, 'leinwandheld': 5895, 'kay': 5896, 'nielsen': 5897, '1886': 5898, '1957': 5899, 'minimalistisch': 5900, 'nordisch': 5901, 'batterien': 5902, 'hoehere': 5903, '450': 5904, 'kastration': 5905, 'alabama': 5906, 'zurecht': 5907, 'dauernd': 5908, 'forsa': 5909, 'initiative': 5910, 'streetcoverage': 5911, 'machtinstrument': 5912, 'tiroler': 5913, 'brille': 5914, '117': 5915, 'allianz': 5916, 'geheilt': 5917, 'technische': 5918, 'leser': 5919, 'verqueere': 5920, 'theorien': 5921, 'kurzstreckenfluege': 5922, 'gery': 5923, 'austrian': 5924, 'airlines': 5925, 'robo': 5926, 'advisor': 5927, 'bullshit': 5928, 'schwung': 5929, 'oesterreichischen': 5930, 'tagesthemen': 5931, 'mutmasslichen': 5932, 'jobcenter': 5933, 'symbolbild': 5934, 'schaetzen': 5935, 'eigentor': 5936, 'fahrka': 5937, 'angeben': 5938, 'spitzenpolitiker': 5939, 'irgendwo': 5940, 'zeitungen': 5941, 'gucken': 5942, 'nikilauda': 5943, 'stuerzte': 5944, 'weltmeister': 5945, 'gestorben': 5946, 'daretodream': 5947, 'solltest': 5948, 'menge': 5949, 'schuessel': 5950, 'fcb': 5951, 'meisterschaft': 5952, 'bitter': 5953, 'vehement': 5954, 'abgibt': 5955, 'aufgegeben': 5956, 'balken': 5957, 'abfindung': 5958, 'ruecksicht': 5959, 'menschlich': 5960, 'hochtouren': 5961, 'kilometer': 5962, 'aufgebaut': 5963, '60m2': 5964, 'muellexpo': 5965, 'wiederkommen': 5966, 'sgeuropa': 5967, 'cl': 5968, 'auftritte': 5969, 'anschaut': 5970, 'fahrraeder': 5971, 'fahrer': 5972, 'nutzer': 5973, 'umfang': 5974, 'rechtswidrig': 5975, 'erforderlich': 5976, 'beratung': 5977, 'wehret': 5978, 'veraendern': 5979, 'spaltet': 5980, 'wuergen': 5981, 'angreifer': 5982, 'bielefeld': 5983, 'nutzung': 5984, 'molotowcocktails': 5985, 'erfuellen': 5986, 'raubueberfall': 5987, 'lena': 5988, 'dimitri': 5989, 'fragte': 5990, 'felgenreiniger': 5991, 'erneuerbare': 5992, 'benoetigen': 5993, 'menschenfeindlich': 5994, 'schrieb': 5995, 'langstreckenluisa': 5996, 'uscht': 5997, 'gefesselt': 5998, 'weinte': 5999, 'gletscher': 6000, 'seyran': 6001, 'hauptsaechlich': 6002, 'nohatespeech': 6003, 'nimm': 6004, 'vernichtungskrieg': 6005, 'beinahe': 6006, 'urwahl': 6007, 'kanzlerkandidaten': 6008, 'schlechten': 6009, 'achmed': 6010, 'paedophilie': 6011, 'muetter': 6012, 'loch': 6013, 'maedchens': 6014, 'waldboden': 6015, 'erdoberflaeche': 6016, 'elon': 6017, 'hirne': 6018, 'kacheln': 6019, 'zungen': 6020, '109': 6021, 'eventuell': 6022, 'aufklaerer': 6023, 'masern': 6024, 'impfung': 6025, 'nichtmehrmeindeutschland': 6026, '79': 6027, '110': 6028, 'gelebt': 6029, 'wilfuzius': 6030, 'besserung': 6031, 'spaten': 6032, 'verschwindens': 6033, 'bodenfrost': 6034, 'irgend': 6035, 'verschwunden': 6036, 'ohne': 6037, 'blatt': 6038, 'besonderen': 6039, 'ausmalen': 6040, 'aufgewacht': 6041, 'wil': 6042, 'investigativen': 6043, 'brauner': 6044, 'dunkler': 6045, 'hautfarbe': 6046, 'usererrorx': 6047, 'gewissenhaft': 6048, 'gewirkt': 6049, 'zusammenfassung': 6050, 'erstellt': 6051, 'dns': 6052, 'min': 6053, 'basie': 6054, 'arbeitslos': 6055, 'anklage': 6056, 'massen': 6057, 'antifaschisten': 6058, 'opposition': 6059, 'verschaerfen': 6060, 'daenische': 6061, 'grunde': 6062, 'untergehen': 6063, 'wachen': 6064, 'gebraucht': 6065, 'mangelnde': 6066, 'zurueckziehen': 6067, 'behandlung': 6068, 'erkrankt': 6069, 'arbeitslose': 6070, 'drecks': 6071, 'see': 6072, 'abstechen': 6073, 'mordversuch': 6074, 'wegziehen': 6075, 'fixen': 6076, 'kulturbereicherer': 6077, 'gepruegelt': 6078, 'seine': 6079, 'fehlender': 6080, 'ibikus31': 6081, 'seids': 6082, 'boeser': 6083, 'angriffe': 6084, 'bereuen': 6085, 'wachstum': 6086, 'prommi': 6087, 'frieden': 6088, 'substanz': 6089, 'geistesgestoe': 6090, 'zuschlagen': 6091, 'offizielle': 6092, 'sperren': 6093, 'zoepfe': 6094, 'ferkeldiskriminierung': 6095, 'entgegen': 6096, 'alicewo18626168': 6097, 'wieviele': 6098, 'oberschoeneweide': 6099, 'magen': 6100, 'gaben': 6101, 'aengste': 6102, 'aufbringen': 6103, 'staatssekretaerin': 6104, 'unternommen': 6105, 'bodyguards': 6106, 'vorgehen': 6107, 'konstruieren': 6108, 'stuttga': 6109, 'schaeuble': 6110, 'provokant': 6111, 'internationale': 6112, 'kuscheljustiz': 6113, 'titten': 6114, 'crime': 6115, 'kahrs': 6116, 'entledigen': 6117, 'wodurch': 6118, 'asylunterkunft': 6119, 'siche': 6120, 'albern': 6121, 'unbekannten': 6122, 'lila': 6123, 'bildkamera': 6124, 'erreichbar': 6125, 'ihnen': 6126, 'lebend': 6127, 'lebendig': 6128, 'ding': 6129, 'untersucht': 6130, 'kueche': 6131, 'nachzuschauen': 6132, 'qualitaets': 6133, 'qualitaetsmedien': 6134, '93': 6135, 'lust': 6136, 'ines': 6137, 'gerry': 6138, 'november': 6139, 'tueren': 6140, 'balkone': 6141, 'roseng': 6142, 'sicherheitspolizei': 6143, 'saepo': 6144, 'tuere': 6145, 'unterhaltungen': 6146, 'stoerend': 6147, 'esslingen': 6148, 'islamophobie': 6149, 'uebernahme': 6150, 'kuendigung': 6151, 'hauptkunde': 6152, 'linkoeping': 6153, 'vergewaltigte': 6154, 'nobileseba': 6155, 'geistiger': 6156, 'schwerster': 6157, 'mo': 6158, 'komponenten': 6159, 'fluechtlingskriminalitaet': 6160, 'trinkt': 6161, 'vegetarier': 6162, 'veganer': 6163, 'arbeitsplatz': 6164, '2500': 6165, '3000': 6166, 'mittelstaendische': 6167, 'filiale': 6168, 'weltoffenheit': 6169, 'drehen': 6170, 'koerperlich': 6171, 'liebereinenhund': 6172, 'aussichten': 6173, 'currywurst': 6174, 'spiess': 6175, 'gedoens': 6176, 'kobalt': 6177, 'kuendigungen': 6178, 'karstadt': 6179, 'schlechter': 6180, 'teenager': 6181, 'unerwa': 6182, '108': 6183, 'suedlaendisch': 6184, 'pflegefall': 6185, '145': 6186, 'anwohnern': 6187, 'siegburg': 6188, 'landwi': 6189, 'faselt': 6190, 'filialen': 6191, 'alpes': 6192, 'sverige': 6193, 'migrants': 6194, '9jaehriges': 6195, 'aehm': 6196, 'spontandemo': 6197, 'airbus': 6198, 'thiemdomi': 6199, 'atp': 6200, 'rafaelnadal': 6201, 'toleranter': 6202, 'krankenschein': 6203, 'ausgebildeten': 6204, 'schulze': 6205, 'umsetzung': 6206, 'wimbledon': 6207, 'daviscup': 6208, 'usopen': 6209, 'sendung': 6210, 'dunkelrot': 6211, 'parma': 6212, 'schinken': 6213, 'italy': 6214, 'fremdwo': 6215, 'gw': 6216, '01': 6217, 'kritischer': 6218, 'nutzt': 6219, 'unabh': 6220, '2024': 6221, 'europeanparliament': 6222, '2006': 6223, 'france': 6224, 'illegalimmigration': 6225, 'europeangreens': 6226, 'ische': 6227, 'abwae': 6228, 'genetisch': 6229, 'niederlande': 6230, 'veroeffentlichen': 6231, 'tektonische': 6232, 'eurasienplatte': 6233, 'geschaffen': 6234, 'hetzlichen': 6235, 'relotiusmedien': 6236, 'geheimgespraeche': 6237, 'anzufangen': 6238, 'machtdemonstration': 6239, 'schimpfwo': 6240, 'il': 6241, 'buergerschaftswahl': 6242, 'wahlkampfkoordinator': 6243, 'firmen': 6244, 'sebastianhampel': 6245, 'trend': 6246, 'switchangel1975': 6247, 'gyros': 6248, 'therealjoe': 6249, '1958': 6250, 'publizistikon': 6251, 'einzelhandel': 6252, 'bearleenair': 6253, 'waehnt': 6254, 'klaus90469': 6255, 'einen': 6256, 'sinnfreies': 6257, 'honks': 6258, 'lach': 6259, 'foffo': 6260, 'invictu53409591': 6261, 'schwierig': 6262, 'anbietet': 6263, 'weiber': 6264, 'ausdrucksweise': 6265, 'yuma': 6266, 'lein': 6267, 'wohne': 6268, 'darksun666': 6269, 'empfangs': 6270, 'vodaphon': 6271, 'o2': 6272, 'debitel': 6273, 'eigentuemer': 6274, 'rennicke': 6275, 'dom': 6276, 'richtete': 6277, 'bundespolizei': 6278, '380': 6279, 'stammten': 6280, 'serbien': 6281, '1europafueralle': 6282, 'bildhafteter': 6283, 'formulie': 6284, 'schlage': 6285, 'jusos': 6286, 'nospd': 6287, 'baseballschlaeger': 6288, 'niewiedersozialismus': 6289, 'freizeitgestaltung': 6290, 'mustafa': 6291, 'islamischem': 6292, 'alina': 6293, 'rasie': 6294, 'kahl': 6295, 'aehnlicher': 6296, 'wahlpa': 6297, 'beschmie': 6298, 'beschaedigen': 6299, 'anzuzuenden': 6300, 'tirolerin': 6301, 'knacken': 6302, 'automaten': 6303, 'waschanlagen': 6304, 'tankstellen': 6305, 'anhand': 6306, 'gefundener': 6307, 'bestellen': 6308, 'hochpreisige': 6309, 'paketshops': 6310, 'originalverpackte': 6311, 'laptops': 6312, 'bekleidung': 6313, 'somaliers': 6314, 'gewaltexzess': 6315, 'vernehmungsfaehig': 6316, 'erblindet': 6317, 'rief': 6318, 'kapazitaeten': 6319, 'eurowahl': 6320, 'kommissionspraesident': 6321, 'pappnasen': 6322, 'beteiligten': 6323, 'realem': 6324, 'empfinden': 6325, 'hinschauen': 6326, 'kommissar': 6327, 'prophet': 6328, 'augustus': 6329, 'bildungsdesaster': 6330, 'geschichtsklitterung': 6331, 'unsicher': 6332, 'propagandist': 6333, 'verunglimpft': 6334, 'ibrahima': 6335, 'ueberfaellt': 6336, 'schlimmeres': 6337, 'sabri': 6338, 'ben': 6339, 'propagandavideos': 6340, 'gereist': 6341, 'terrorcamp': 6342, 'gegenstaenden': 6343, 'ausgeruestet': 6344, 'geheimsache': 6345, 'derzeitiger': 6346, 'richtet': 6347, 'ungleichbehandlung': 6348, 'gesetzentwurf': 6349, 'vorgelegt': 6350, 'rechtsausschuss': 6351, 'anhoerung': 6352, '350': 6353, 'ermorde': 6354, 'journalie': 6355, 'bundesverdienstkreuz': 6356, 'korane': 6357, 'dessaurosslau': 6358, 'glaubensideologen': 6359, 'anliegen': 6360, 'bearbeiten': 6361, 'bildungsrepublik': 6362, 'geeignete': 6363, 'einbrechen': 6364, 'staatschutz': 6365, 'friedhoefe': 6366, 'gefuege': 6367, 'vllt': 6368, 'heimatschatzkiste': 6369, 'auslaendern': 6370, 'selbstbewusstsein': 6371, 'mut': 6372, 'riegel': 6373, 'vorzuschieben': 6374, 'dreistere': 6375, 'waehlerwillen': 6376, 'widersprechende': 6377, 'verliererkoalitionen': 6378, 'suboptimalem': 6379, 'fahrverhalten': 6380, 'zweier': 6381, 'bahrenfeld': 6382, 'altenwerder': 6383, 'hochwe': 6384, 'fuehrerscheine': 6385, 'gepluende': 6386, 'gehaltserhoehung': 6387, 'waeh': 6388, 'kassie': 6389, 'gnadenlos': 6390, 'mairpeda': 6391, 'vonseiten': 6392, 'radikalerer': 6393, 'thinkbto': 6394, 'tiefseher': 6395, 'altersverwir': 6396, 'machtgeiler': 6397, 'kaderschmied': 6398, 'herrschsucht': 6399, 'zusaetzlich': 6400, 'abfuehren': 6401, 'johnstefan27': 6402, 'herzlich': 6403, 'fl': 6404, 'polizeihamburg': 6405, 'akademie': 6406, 'activecityday': 6407, '365': 6408, 'hamburgactivecity': 6409, 'abzeichen': 6410, 'polizeiakademie': 6411, 'leichtathletikhalle': 6412, 'winterhude': 6413, 'streckenweise': 6414, 'mitfahrern': 6415, 'deutschlandtour': 6416, 'hauptstaedte': 6417, 'radler': 6418, 'hoehenmetern': 6419, 'kattenstiegsmuehle': 6420, 'schwerin': 6421, 'druecke': 6422, 'oberbuergermeisters': 6423, 'bekleidet': 6424, 'geringste': 6425, 'einzuschuechtern': 6426, 'befand': 6427, 'landgericht': 6428, 'bejaht': 6429, 'kuendigten': 6430, 'revision': 6431, 'einzulegen': 6432, 'eufeln': 6433, 'isdn': 6434, 'glasfaserkabel': 6435, 'kabelfernsehen': 6436, 'telefonie': 6437, 'computer': 6438, 'eiprogramme': 6439, 'missachtung': 6440, 'beutelsbacher': 6441, 'schlimmste': 6442, 'schiff': 6443, 'sorgte': 6444, 'vorwiegend': 6445, 'tunesische': 6446, 'geldern': 6447, 'osteuropaeischem': 6448, 'sprechende': 6449, 'geschwisterkinder': 6450, 'schulweg': 6451, 'seniors': 6452, 'kleinkind': 6453, 'balkonbruestung': 6454, 'straflos': 6455, 'linkslinken': 6456, 'markierung': 6457, 'protestierende': 6458, 'legitimer': 6459, 'spontanen': 6460, 'zugrunde': 6461, 'ausreichend': 6462, 'einsatzmitteln': 6463, 'gepaa': 6464, 'einkehren': 6465, 'bn': 6466, 'nachtfloh': 6467, 'herzlichkeit': 6468, 'shalom': 6469, 'patenschaft': 6470, 'hake': 6471, 'filme': 6472, 'burghardt': 6473, 'klaussner': 6474, 'bernhard': 6475, 'schlink': 6476, 'gleiches': 6477, 'merchandising': 6478, 'jeglicher': 6479, 'ganzem': 6480, 'phantasten': 6481, 'endziel': 6482, 'grapscher': 6483, 'fehlerfrei': 6484, 'eingriffe': 6485, 'freiheitsrechte': 6486, 'steuermehrbelastung': 6487, 'seinen': 6488, 'zueckte': 6489, 'aufbaute': 6490, 'polizeiangaben': 6491, 'bildungsabschluss': 6492, 'eingesper': 6493, 'atze030': 6494, 'gefrkamnitzer': 6495, 'hinterlaesst': 6496, 'verbrannte': 6497, 'aussenpolitisch': 6498, 'flurschaden': 6499, 'ideologen': 6500, 'aufgesprungen': 6501, 'aergern': 6502, 'fliessen': 6503, 'angelegt': 6504, 'bildungssystem': 6505, 'regionalbahn': 6506, 'badenbaden': 6507, 'rastatt': 6508, 'bewohnern': 6509, 'abgeordnetendiaeten': 6510, 'rekordhoch': 6511, 'polizeibeamter': 6512, 'musiker': 6513, 'gurfinkel': 6514, 'beschimpfen': 6515, 'judenfeindlich': 6516, 'vorfalls': 6517, 'eingekreist': 6518, 'zueckt': 6519, 'einhand': 6520, 'dazwischengehen': 6521, 'verletzten': 6522, 'einhandmesser': 6523, 'einschreitende': 6524, 'tschetschenischen': 6525, 'wachschutzauftraege': 6526, 'dienstgebaeude': 6527, 'mek': 6528, 'sensible': 6529, 'innere': 6530, 'lehrerzimmer': 6531, 'diskussionen': 6532, 'diesbezueglich': 6533, 'empfinde': 6534, 'alfred': 6535, 'nobel': 6536, 'rumdrehen': 6537, 'kriege': 6538, 'verliehen': 6539, 'verleihung': 6540, 'fleissig': 6541, 'sozialamt': 6542, 'lebensmittelspenden': 6543, '2900': 6544, 'einnahme': 6545, 'arabischsprachiger': 6546, 'zer': 6547, 'laerm': 6548, '48': 6549, 'irakerin': 6550, 'zozan': 6551, 'scheiden': 6552, 'eigenstaendiges': 6553, 'ehemann': 6554, 'dilgasch': 6555, 'kopfschuessen': 6556, 'hingerichtet': 6557, 'nunmal': 6558, 'amuesie': 6559, 'bankraeuber': 6560, 'fotofahndung': 6561, 'wirkendem': 6562, 'zettels': 6563, 'clanverdaechtige': 6564, 'toetungsdelikte': 6565, 'hreul': 6566, 'rechtsstaates': 6567, 'stiess': 6568, 'jahrigen': 6569, 'sehbehinde': 6570, 'sturz': 6571, 'erheblich': 6572, 'herausragende': 6573, 'schleimspur': 6574, 'schleimhofer': 6575, 'need': 6576, 'fuck': 6577, 'wuergte': 6578, 'vierstelligen': 6579, 'mitgliederzahlen': 6580, '6500': 6581, 'tuerkischstaemmigen': 6582, 'jonas': 6583, 'hermann': 6584, 'triberg': 6585, 'strikte': 6586, 'trennung': 6587, 'separaten': 6588, 'raeumen': 6589, 'gewaltaten': 6590, 'spektakel': 6591, 'reinkommen': 6592, 'hinein': 6593, 'abscheulich': 6594, 'massiven': 6595, 'steuererhoehung': 6596, 'einschraenkung': 6597, 'reisefreiheit': 6598, 'beschneidung': 6599, 'pressefreiheit': 6600, 'psychpathen': 6601, 'hagelvoll': 6602, 'moritz': 6603, 'arndt': 6604, 'greifswald': 6605, 'vielero': 6606, 'goetzentempel': 6607, 'religioesem': 6608, 'barbar': 6609, 'milde': 6610, 'orgeln': 6611, 'kirchenzerstoerer': 6612, 'verklagt': 6613, 'sitzungsleiterinnen': 6614, 'verfassungsgericht': 6615, 'schaendlichste': 6616, 'ur': 6617, 'schwiegervater': 6618, 'gefangenschaft': 6619, 'unserlandunserekultur': 6620, 'langstrumpf': 6621, 'gebrueder': 6622, 'loewenherz': 6623, 'unendliche': 6624, 'loenneberga': 6625, 'haensel': 6626, 'asterix': 6627, 'obelix': 6628, 'problematisch': 6629, 'paranoid': 6630, 'distanziere': 6631, 'egtl': 6632, 'unmoegliche': 6633, 'hergestellt': 6634, 'verzweifeln': 6635, 'fck': 6636, 'rotz': 6637, 'unsere': 6638, 'energiepolitik': 6639, 'hauptgefahr': 6640, 'biologische': 6641, 'ausbau': 6642, 'verschliessen': 6643, 'sigrid': 6644, 'staune': 6645, 'zusammenhang': 6646, 'bevoelkerungsexplosion': 6647, 'klimazerstoerung': 6648, 'gewaltiges': 6649, 'gruengue': 6650, 'unwetter': 6651, 'umland': 6652, 'sachschaeden': 6653, 'ernster': 6654, 'genauer': 6655, 'buchstaeblicher': 6656, 'zivilisatorische': 6657, 'fehlleistung': 6658, 'runterkommen': 6659, 'recherchen': 6660, 'irgendeiner': 6661, 'warenkreislauf': 6662, 'zurueckgefueh': 6663, 'wuerstchenbude': 6664, 'scheibchenweise': 6665, 'ruinie': 6666, 'ablenkung': 6667, 'traeumt': 6668, 'gigant': 6669, 'metier': 6670, 'gepraegte': 6671, 'froheweinachten': 6672, 'irrer': 6673, 'oekoreligion': 6674, 'einstudieren': 6675, 'mekka': 6676, 'zdfinfo': 6677, 'wohnheim': 6678, 'bespringt': 6679, 'betreuerin': 6680, 'vergegenwae': 6681, 'enjoy': 6682, 'kritischem': 6683, 'angeleitet': 6684, 'hellwach': 6685, 'merci': 6686, 'streng': 6687, 'risikoklasse': 6688, 'munter': 6689, 'munition': 6690, 'schalldaempfer': 6691, 'religionsausuebung': 6692, 'ghetto': 6693, 'modernes': 6694, 'nachhaltiges': 6695, 'zukuenftiges': 6696, 'aspern': 6697, 'otte': 6698, 'verlief': 6699, 'zwischenfaelle': 6700, 'dunkeldeutschland': 6701, 'rosslauer': 6702, 'eilig': 6703, 'veroeffentlichten': 6704, 'fahndungsaufruf': 6705, 'nigerer': 6706, 'andreag799': 6707, 'weichbirnen': 6708, 'gaestehaus': 6709, 'meseberg': 6710, 'unterhaltskosten': 6711, 'objektschutzkosten': 6712, 'ludwigsburg': 6713, 'ford': 6714, 'mondeo': 6715, 'westfalen': 6716, 'semi': 6717, 'anarchische': 6718, 'geschockte': 6719, 'widdersdorf': 6720, 'umfasst': 6721, 'ruhestoerung': 6722, 'rueckte': 6723, 'handschellen': 6724, 'doppel': 6725, 'beschmieren': 6726, 'stade': 6727, 'pogromstimmung': 6728, 'unseligste': 6729, 'tr': 6730, 'laz': 6731, 'angers': 6732, 'frustrie': 6733, 'mitbuerger': 6734, 'ablassen': 6735, 'professuren': 6736, 'wissenschaftsnation': 6737, 'sprichwoe': 6738, 'toto': 6739, 'totoundharry': 6740, 'mogelte': 6741, 'nemi': 6742, 'hassan': 6743, 'rekordverdaechtg': 6744, 'tel': 6745, '06131700': 6746, 'netzwerke': 6747, 'zustaendigkeitsbereich': 6748, 'polizeibehoerden': 6749, 'bezirke': 6750, 'schwerkrimineller': 6751, 'kindervergewaltiger': 6752, 'eignung': 6753, 'leitungsposten': 6754, 'antidiskriminierungsstelle': 6755, 'unbesetzt': 6756, 'eigenossin': 6757, 'nachbarstaaten': 6758, 'nothilfe': 6759, 'sozialhilfe': 6760, 'franken': 6761, 'riesenaufregung': 6762, 'kennzeichen': 6763, '8888': 6764, 'befuerchtungen': 6765, 'ostdeutscher': 6766, 'abdullatif': 6767, 'hamami': 6768, 'weinende': 6769, 'emojis': 6770, 'gekommene': 6771, 'arian': 6772, 'busbahnhof': 6773, 'cousin': 6774, 'ahmadiyya': 6775, 'jamaat': 6776, 'verkuendete': 6777, 'bauantrag': 6778, 'ausgewiesen': 6779, 'deutschland2019': 6780, 'fedidwgugl': 6781, 'liebestatthass': 6782, 'nohate': 6783, 'wegschneidet': 6784, 'kulturelleunterschiede': 6785, 'farbbeutel': 6786, 'ordination': 6787, 'manche': 6788, 'schwulenpaare': 6789, 'offenes': 6790, 'gegenden': 6791, 'tuerkischstaemmige': 6792, 'feindlichen': 6793, 'einstellungen': 6794, 'aufhalten': 6795, 'sinnbildhaft': 6796, 'ohnmacht': 6797, 'remmo': 6798, 'ordnet': 6799, 'fdpler': 6800, 'antisemitischer': 6801, 'feststellbar': 6802, 'diffamierendes': 6803, 'theaterstueck': 6804, 'osnabruecker': 6805, 'gesamtschule': 6806, 'erschiesst': 6807, 'vergasung': 6808, 'bundeswehrsoldaten': 6809, 'afghanische': 6810, 'erstechen': 6811, 'merkelwirkt': 6812, 'parkmanager': 6813, 'afrikanischen': 6814, 'drogendealern': 6815, 'muendlich': 6816, 'angemacht': 6817, 'nordbahnhof': 6818, 'kraetze': 6819, 'tuberkulose': 6820, 'malaria': 6821, 'durchreisenden': 6822, 'grassieren': 6823, 'mundschutz': 6824, 'gesundheitsministerium': 6825, 'abgestochene': 6826, 'erlag': 6827, 'afghanischen': 6828, 'libanesische': 6829, 'migrationsforscher': 6830, 'ralph': 6831, 'ghadban': 6832, 'drohbotschaften': 6833, 'islamwissenschaftler': 6834, 'libanesischem': 6835, 'fernsehsender': 6836, 'lbc': 6837, 'tweetet': 6838, 'streicht': 6839, 'segel': 6840, 'pruegelattacke': 6841, 'htl': 6842, 'ottakring': 6843, 'angegriffene': 6844, 'miesbach': 6845, 'afrikanerin': 6846, 'ellenbogen': 6847, 'handschuh': 6848, 'blutig': 6849, 'taeterin': 6850, 'aggressivitaet': 6851, 'kickboxer': 6852, 'liegendes': 6853, 'wehrloses': 6854, 'gezielten': 6855, 'anwaelte': 6856, 'totalen': 6857, 'rechtsstaats': 6858, 'totpruegler': 6859, 'muharrem': 6860, 'lesbisches': 6861, 'schlimmeren': 6862, 'lesbische': 6863, 'niedergestochen': 6864, 'abwies': 6865, 'ausschuetten': 6866, 'refugee': 6867, 'welcome': 6868, 'verkuenden': 6869, 'vorfahren': 6870, 'analphabeten': 6871, 'hochentwickeltes': 6872, 'vermutete': 6873, 'korrigieren': 6874, 'europeanelections2019': 6875, 'korrektiv': 6876, 'linksgruen': 6877, 'jaehrig': 6878, 'konservativ': 6879, 'abgestiegen': 6880, 'opas': 6881, 'verfuegen': 6882, 'vorhaben': 6883, 'schwierigen': 6884, 'herausfordernden': 6885, 'drueckt': 6886, 'erhaltung': 6887, 'envielfalt': 6888, 'autochoner': 6889, 'nationalstaates': 6890, 'draufgehen': 6891, 'zugunsten': 6892, 'mix': 6893, 'biodiversityday': 6894, 'jeglichen': 6895, 'bessermenschlichen': 6896, 'cafe': 6897, 'unibibliothek': 6898, 'organe': 6899, 'grassierenden': 6900, 'wahnsinns': 6901, 'raten': 6902, 'intrigante': 6903, 'schmierblaettchen': 6904, 'angepriesenen': 6905, 'deabonnieren': 6906, 'albanerin': 6907, 'albanische': 6908, 'verspueren': 6909, 'reinzuwaschen': 6910, 'bahlsen': 6911, 'dorisday': 6912, 'migrantinnen': 6913, 'frauenfo': 6914, 'schrittlichen': 6915, 'drogenproblem': 6916, 'flaechen': 6917, 'zuweist': 6918, 'markierungen': 6919, 'einrichten': 6920, 'betreffende': 6921, 'einfinden': 6922, 'rotrotgaga': 6923, 'bildete': 6924, 'stereotypen': 6925, 'werbekunden': 6926, 'real': 6927, 'inspiration': 6928, 'hashtags': 6929, 'twitternwiechebli': 6930, 'allumfassende': 6931, 'freechebli': 6932, 'konstanz': 6933, 'ausgerufen': 6934, 'nervige': 6935, 'luftverpestende': 6936, 'autoposer': 6937, 'reglementie': 6938, 'schwarzafrikanischen': 6939, 'asyltouristen': 6940, 'kirchentreppe': 6941, 'kampagnen': 6942, 'alexe1789': 6943, 'durchhaengen': 6944, 'produktivitaet': 6945, 'wolkenkukuksheim': 6946, 'silvesterknallerei': 6947, 'osterfeuer': 6948, 'zerlegen': 6949, 'zuenden': 6950, 'krawallen': 6951, 'tagderarbeit': 6952, 'gruendonnerstag': 6953, 'offizieller': 6954, 'abgetan': 6955, 'attacken': 6956, 'brandstiftungen': 6957, 'boote': 6958, 'netten': 6959, 'feministinnen': 6960, 'herholt': 6961, 'herlockt': 6962, 'alternativlos': 6963, 'ansatz': 6964, 'hirnforschung': 6965, 'yale': 6966, 'mikrozirkulation': 6967, 'synapsen': 6968, 'einsetzen': 6969, 'lebensunterhalt': 6970, 'fliessband': 6971, 'ueberfordernd': 6972, 'gespann': 6973, 'abgewiesene': 6974, 'abzuschieben': 6975, 'betaeubung': 6976, 'verstuemmelt': 6977, 'schaechten': 6978, 'peta': 6979, 'banhahal': 6980, 'bestimmtes': 6981, 'religioes': 6982, 'bedingt': 6983, 'maschinen': 6984, 'kueltursensibel': 6985, 'ignorante': 6986, 'uninformie': 6987, 'mitkriegen': 6988, 'belangen': 6989, 'ignoranz': 6990, 'eingedaemmte': 6991, 'krankheiten': 6992, 'rueckschrittliches': 6993, 'lieblingsklientel': 6994, 'geschenkt': 6995, 'eintrittska': 6996, 'neuschwansteinstein': 6997, 'neuschafeurabia': 6998, 'umbenannt': 6999, 'angestrichen': 7000, 'abgerissen': 7001, 'kittypunk7': 7002, 'punk': 7003, 'verlagen': 7004, 'manuskripte': 7005, 'auswaehlt': 7006, 'reicher': 7007, 'islamkritiker': 7008, 'angestrebte': 7009, 'hauptwaehlergruppe': 7010, 'vergraulen': 7011, 'baeckereien': 7012, 'gewaschen': 7013, 'kuerzungen': 7014, 'fluechtlingshilfen': 7015, 'klimaproblem': 7016, 'nnaschneider': 7017, 'kollektiv': 7018, 'verfueh': 7019, 'realitaetsabdriftende': 7020, 'einher': 7021, 'dekadentem': 7022, 'unschoenen': 7023, 'wirkungen': 7024, '4256': 7025, 'followern': 7026, 'khodrkida': 7027, '1996': 7028, '15jaehrige': 7029, '1981': 7030, 'geheiratet': 7031, 'juengerin': 7032, 'brauchtum': 7033, 'rosenmontag': 7034, 'karneval': 7035, 'nordafrika': 7036, 'islamisie': 7037, 'instabilisie': 7038, 'klimagoettin': 7039, 'guene': 7040, 'dauerwerbesendungs': 7041, 'gekennzeichnet': 7042, 'neubeginn': 7043, 'nationalstaaten': 7044, 'abschotten': 7045, 'nachbarlaender': 7046, 'dubai': 7047, 'maltas': 7048, 'muscat': 7049, 'rettungsaktion': 7050, 'naechstgelegene': 7051, 'hafen': 7052, 'umfassendes': 7053, 'zunehmender': 7054, 'gutglaeubige': 7055, 'entwaffnet': 7056, 'pilzmesser': 7057, 'kriminalisie': 7058, 'buntbuerger': 7059, 'entwaffnen': 7060, '210': 7061, 'riefen': 7062, 'malta': 7063, 'kutschie': 7064, 'alankurdi': 7065, 'fuerstlich': 7066, 'alimenieren': 7067, 'unterzubringen': 7068, 'illegaler': 7069, 'pferdestall': 7070, 'empoerungs': 7071, 'englisch': 7072, 'altem': 7073, 'begrabschte': 7074, 'huebschen': 7075, 'blonde': 7076, 'lufthansa': 7077, 'stewardess': 7078, 'richtigerweise': 7079, 'assoziieren': 7080, 'pp': 7081, 'neuseeland': 7082, 'eingesehen': 7083, 'dunkeln': 7084, 'kalten': 7085, 'atomenergie': 7086, 'messias': 7087, 'kram': 7088, 'monster': 7089, 'indigene': 7090, 'einzuhegen': 7091, 'auszuduennen': 7092, 'personell': 7093, 'gehirnmasse': 7094, 'hiergewesenen': 7095, 'schwaben': 7096, 'paerchen': 7097, 'grossstadt': 7098, 'europaeisch': 7099, 'niggurath84': 7100, 'stock': 7101, 'gelassen': 7102, 'african': 7103, 'guy': 7104, 'glasgow': 7105, 'autismus': 7106, 'nervig': 7107, 'annewilltalk': 7108, 'haenel': 7109, 'kh': 7110, 'anmassend': 7111, 'ueberlebte': 7112, 'tragischen': 7113, 'mobber': 7114, 'focus': 7115, 'tag24b': 7116, 'randinfo': 7117, 'fantasieangaben': 7118, 'autochonen': 7119, 'fingerabdruecke': 7120, 'umgebracht': 7121, 'erzfeinde': 7122, 'volksabstimmung': 7123, 'redakteure': 7124, '9000': 7125, 'gelenkte': 7126, 'staatspropaganda': 7127, 'selbigen': 7128, 'framingmanual': 7129, 'neuzuege': 7130, 'bestimmtem': 7131, 'veraende': 7132, 'raustraut': 7133, 'zukommen': 7134, 'weiche': 7135, 'zentimeter': 7136, 'einheitsradio': 7137, 'heimatlosen': 7138, 'suessen': 7139, 'verschmusten': 7140, 'hundejahre': 7141, 'verleben': 7142, 'prodogromania': 7143, 'younes': 7144, 'geklappt': 7145, 'rennt': 7146, 'holle1909': 7147, 'holunderhelmut': 7148, 'spitzensteuersatz': 7149, 'luegenmaerchen': 7150, 'aufzutischen': 7151, 'zutreffen': 7152, 'schlepperverein': 7153, 'greatesthits': 7154, 'waechst': 7155, 'naund10': 7156, 'sat': 7157, 'fruehstuecksfernsehen': 7158, 'realitaetsfern': 7159, 'erziehungsgedanken': 7160, 'wahlweise': 7161, 'eichhoernchen': 7162, 'wessarges': 7163, 'mittlinger': 7164, 'michaela': 7165, 'bogner': 7166, 'taubenhaeuser': 7167, 'tauben': 7168, 'rueckzugso': 7169, 'haenden': 7170, 'wilhelm': 7171, 'gedaechtniskirche': 7172, 'staatsbischof': 7173, 'vergisst': 7174, 'predigt': 7175, 'derbrainfucker': 7176, 'kokainkonsum': 7177, 'crystal': 7178, 'drogenbedingten': 7179, 'hirnschaeden': 7180, 'totalitaeren': 7181, 'schoeneres': 7182, 'haufen': 7183, 'abehobener': 7184, 'vips': 7185, 'chauvinismus': 7186, 'suedafrika': 7187, 'aggressiv': 7188, 'italienern': 7189, 'jaeger': 7190, 'einfahren': 7191, 'politikbetrieb': 7192, 'phrasengenerationsproduzent': 7193, 'klingbeils': 7194, 'huelse': 7195, 'entschuldigungsphrase': 7196, 'platzhirsch': 7197, 'baldrian': 7198, 'beruhigung': 7199, 'gemueter': 7200, 'blind': 7201, 'analogem': 7202, 'bundesebene': 7203, 'amtierenden': 7204, 'schamhaft': 7205, 'packen': 7206, 'suchten': 7207, 'spielten': 7208, 'lockvogel': 7209, 'linksrotgruenversifften': 7210, 'werkzeugen': 7211, 'zfd': 7212, 'neo': 7213, 'souveraenes': 7214, 'klopps': 7215, 'mike': 7216, 'krueger': 7217, 'lfc': 7218, 'liverpool': 7219, 'plakatie': 7220, 'landsmann': 7221, 'ueberzeugung': 7222, 'ska': 7223, 'chefs': 7224, 'aneinander': 7225, 'bauern': 7226, 'falschem': 7227, 'zeugnis': 7228, 'lokalisierung': 7229, 'bernsteinzimmers': 7230, 'buchstabentausch': 7231, 'algorithmen': 7232, 'rathausaffaere': 7233, 'hannovers': 7234, 'untreue': 7235, 'unterscheidet': 7236, 'attentaten': 7237, 'rotgruenversiftem': 7238, 'gendergaga': 7239, 'klimawetter': 7240, 'plastik': 7241, 'fluechtl': 7242, 'mexiko': 7243, 'wichtigere': 7244, 'industrie40': 7245, 'imperium': 7246, 'schrangs': 7247, 'wahlempfehlung': 7248, 'vereinba': 7249, '70jahregg': 7250, 'volksentscheid': 7251, 'volksentscheide': 7252, 'loeste': 7253, 'watson': 7254, 'dreissig': 7255, 'ausbruch': 7256, 'feuers': 7257, 'politikstube': 7258, 'abbestellen': 7259, 'abgabe': 7260, 'lebensbereich': 7261, 'strompreise': 7262, 'gotteshaeuser': 7263, 'glocke': 7264, 'gehaengt': 7265, 'nahmen': 7266, 'webde': 7267, 'conte': 7268, 'retweete': 7269, 'wohngebiete': 7270, 'angesiedelt': 7271, 'fang': 7272, 'kriminologe': 7273, 'pfeiffer': 7274, 'erhebt': 7275, 'betruegen': 7276, 'tugenden': 7277, 'kirchenfuersten': 7278, 'gesunde': 7279, 'ernaehrungstipps': 7280, 'bas': 7281, 'kast': 7282, 'brach': 7283, 'kuenstlerkirche': 7284, 'saint': 7285, 'sulpcie': 7286, 'olafgersemann': 7287, 'freitagsdemos': 7288, 'biblische': 7289, 'jesu': 7290, 'gleichauf': 7291, 'uhrsc': 7292, 'uhrwerder': 7293, 'una': 7294, 'uhrmoenchengladbach': 7295, 'erzielte': 7296, 'treffer': 7297, 'gelang': 7298, 'spielklasse': 7299, 'zwolle': 7300, 'assist': 7301, 'addo': 7302, 'gelsenkirchens': 7303, 'praechtigen': 7304, 'gruenderzeitfassaden': 7305, 'spiegeln': 7306, 'bochumer': 7307, 'gelsenkirchener': 7308, 'stadtteil': 7309, 'sparkassen': 7310, 'serioes': 7311, 'gemeinnuetzig': 7312, 'banker': 7313, 'herabgesunken': 7314, 'sparkasse': 7315, 'werra': 7316, 'meissner': 7317, 'banking': 7318, 'hillsborough': 7319, 'margaret': 7320, 'aspinall': 7321, 'suedens': 7322, 'leuchtturm': 7323, 'westens': 7324, 'sammlungspa': 7325, 'mandate': 7326, 'asylantenaufnahme': 7327, 'geisel': 7328, 'gegenbauer': 7329, 'neubau': 7330, 'grausen': 7331, 'praesidiumssitzung': 7332, 'dardai': 7333, 'jobsicherheit': 7334, 'allgemeiner': 7335, 'verbloedungs': 7336, 'vernichtungs': 7337, 'bevormungsmasche': 7338, 'eingemachte': 7339, 'rechtglaeubigen': 7340, 'geraeumt': 7341, 'turnhalle': 7342, 'herhalten': 7343, 'durften': 7344, 'strassenschuhen': 7345, 'abrissreif': 7346, 'passlos': 7347, 'reingelassen': 7348, 'madgeburg': 7349, 'schlug': 7350, 'zugbegleiterin': 7351, 'hure': 7352, 'taube': 7353, 'abzubeissen': 7354, 'govegan': 7355, 'ibes': 7356, 'bloeder': 7357, 'skorpion': 7358, 'stachel': 7359, 'wuenscht': 7360, 'lichen': 7361, 'redakteuren': 7362, 'bedraengt': 7363, 'ueberrollt': 7364, 'strassenbahnmitarbeiter': 7365, 'stiefvater': 7366, 'leonie': 7367, 'david': 7368, 'polizeiwache': 7369, 'aufhaelt': 7370, 'torgelow': 7371, 'neusprech': 7372, 'deluxe': 7373, 'sonnig': 7374, 'heisszeit': 7375, 'schneit': 7376, 'kaeltewelle': 7377, 'oe': 7378, 'autorennen': 7379, 'ausgehend': 7380, 'restdeutsche': 7381, 'privatjet': 7382, '165': 7383, 'medizinern': 7384, 'dolmetscher': 7385, 'nahm': 7386, 'befindlichkeit': 7387, 'diskriminie': 7388, 'lueg': 7389, 'wilkesteding': 7390, 'waldgaenger1401': 7391, 'wegrennen': 7392, 'spaeteren': 7393, 'nebelwirkerin': 7394, 'tinchentrallala': 7395, 'gruselig': 7396, 'versteh': 7397, 'wesentlich': 7398, 'aelter': 7399, 'loehne': 7400, 'hofes': 7401, 'hierbleiben': 7402, 'bundeshaushalt': 7403, 'ruecklage': 7404, 'zugefueh': 7405, 'feige': 7406, 'wucht': 7407, 'senats': 7408, 'verhandelt': 7409, 'willentlich': 7410, 'wissentlich': 7411, 'mitwirkung': 7412, 'jmd': 7413, 'gestochen': 7414, 'kopfstoss': 7415, 'tritte': 7416, 'nasenbeinbruch': 7417, 'platzwunde': 7418, 'abgeschobenen': 7419, 'zettel': 7420, 'zwischentueren': 7421, 'restdeutschen': 7422, 'keepfightingmichael': 7423, 'harmloseste': 7424, 'schreit': 7425, 'passant': 7426, 'weihnachtsmarkt': 7427, 'silvestergeboellere': 7428, 'gesundes': 7429, 'glueckliches': 7430, 'new': 7431, 'year': 7432, 'mitfinanzie': 7433, 'gewaehltes': 7434, 'braunes': 7435, 'kommentators': 7436, 'kameramann': 7437, 'gewaltbejahendem': 7438, 'hoodie': 7439, 'ruemmern': 7440, 'raketen': 7441, 'zusammenlegen': 7442, 'mond': 7443, 'rutsch': 7444, 'dinner': 7445, 'runterladen': 7446, 'armseligen': 7447, 'melder': 7448, 'eindruecke': 7449, 'schildern': 7450, 'beschneiden': 7451, 'persoenlichen': 7452, 'uralte': 7453, 'fassung': 7454, 'aladins': 7455, 'wunderlampe': 7456, 'alberne': 7457, 'langbae': 7458, 'saebeln': 7459, 'ton': 7460, 'prinzessin': 7461, 'ansieht': 7462, 'abgeschlagen': 7463, 'heribe': 7464, 'prantl': 7465, 'liebespaar': 7466, 'abgelaufen': 7467, 'dich': 7468, 'klinge': 7469, 'disch': 7470, 'ausgegrenzt': 7471, 'potenziellen': 7472, 'wachsamkeit': 7473, 'regierungskollegen': 7474, 'vorschlagen': 7475, 'gefaehrden': 7476, 'feuerschrift': 7477, 'untergangs': 7478, 'altar': 7479, 'hauskapelle': 7480, 'baust': 7481, 'unbedeutende': 7482, 'nagerkunst': 7483, 'auszustellen': 7484, 'furore': 7485, 'kunstkritikerin': 7486, 'hoere': 7487, 'ueberkommt': 7488, 'kel': 7489, 'verlaesslicher': 7490, 'torhueter': 7491, 'slapstick': 7492, 'einlage': 7493, 'slipeinlage': 7494, 'zurueckdenke': 7495, 'roman': 7496, 'bescheiden': 7497, 'emre': 7498, 'rettungsschiff': 7499, 'gerettete': 7500, 'stralsunder': 7501, 'alan': 7502, 'kurdi': 7503, 'ozliveboxing': 7504, 'schiffsname': 7505, 'generieren': 7506, 'entfernsteten': 7507, 'huete': 7508, 'wissensforum': 7509, 'natter': 7510, 'igstellung': 7511, 'fluechtlingsaufnahmestelle': 7512, '2022': 7513, 'geschraubt': 7514, 'telekom': 7515, 'magenta': 7516, 'sendernummer': 7517, 'beabohne': 7518, 'aera': 7519, 'abgesang': 7520, 'maritaneube': 7521, 'bauernpunktverluste': 7522, 'gewinnspiel': 7523, 'wiesenhof': 7524, 'werder': 7525, 'entipp': 7526, 'spieltag': 7527, 'benningrita': 7528, 'schwarzgelbe': 7529, 'ratz': 7530, 'ruebe': 7531, 'bewerber': 7532, 'genderbeauftragte': 7533, 'geaende': 7534, 'gefreut': 7535, 'nurdieafd': 7536, 'verroht': 7537, 'fanatischen': 7538, 'notredamefire': 7539, 'notredamecathedral': 7540, 'vaterlaendern': 7541, 'vereidigung': 7542, 'zoomt': 7543, 'polizeiberlinkarrierre': 7544, 'aufrufen': 7545, 'sensibilisieren': 7546, 'gibts': 7547, 'uebergriffig': 7548, 'denkst': 7549, 'sotipptderboss': 7550, 'autsch': 7551, 'duepie': 7552, 'ritsche': 7553, 'ratsche': 7554, 'luecke': 7555, 'ancelotti': 7556, 'star': 7557, 'uebt': 7558, 'skeptiker': 7559, 'kurierat': 7560, 'schiefgehen': 7561, 'bosbach': 7562, 'haargenau': 7563, 'luegendefinition': 7564, 'unkulturhintergruenden': 7565, 'hinausgeleitet': 7566, 'zuwanderern': 7567, 'ergeht': 7568, 'grundton': 7569, 'eienmanistreammedien': 7570, 'hervorgehoben': 7571, 'greenpeace': 7572, 'verkehrsministers': 7573, 'ueli': 7574, 'maurer': 7575, 'srf': 7576, 'rekordwe': 7577, 'berufung': 7578, 'bundesbank': 7579, 'text': 7580, 'jackson': 7581, 'kindergebu': 7582, 'vergangen': 7583, 'blendet': 7584, 'fca': 7585, 'drittes': 7586, 'reservat': 7587, 'shmul': 7588, 'weiszbrod': 7589, 'becker': 7590, 'kohfeldt': 7591, 'moenchen': 7592, 'prolongationsorgie': 7593, 'fahrplan': 7594, 'geruechte': 7595, 'thorgan': 7596, 'hazard': 7597, 'choupo': 7598, 'moting': 7599, 'beheben': 7600, 'freifah': 7601, 'aussereuropaeische': 7602, 'ueerhaupt': 7603, 'sozialversicherungspflichtigen': 7604, 'beschaeftigung': 7605, 'allermeisten': 7606, 'jg': 7607, 'arbeitswillen': 7608, 'strotzen': 7609, 'russlandverschwoerung': 7610, 'erfand': 7611, 'daemliche': 7612, 'analog': 7613, 'epedemie': 7614, 'einschneidend': 7615, 'lederhosen': 7616, 'theresa': 7617, 'may': 7618, 'galgenhumor': 7619, 'schockzustand': 7620, 'trollbrigade': 7621, 'aufheulte': 7622, 'dumpfen': 7623, 'erbrach': 7624, 'linksbloed': 7625, 'wahrzunehmen': 7626, 'holocaustopfer': 7627, 'unverschaemtheit': 7628, 'ermordung': 7629, 'haemischen': 7630, 'jubelnden': 7631, 'kommentaren': 7632, 'seinerzeit': 7633, 'indiskutabel': 7634, 'hielt': 7635, 'halbes': 7636, 'zeitweiliger': 7637, 'zurueckgekeh': 7638, 'vergebens': 7639, 'familienrechtlichen': 7640, 'bestimmungen': 7641, 'bspw': 7642, 'braunschweig': 7643, 'mietve': 7644, 'wohneinrichtungen': 7645, 'neuzuteilungen': 7646, 'erschwerend': 7647, 'hinzu': 7648, 'faenden': 7649, 'eudasproblem': 7650, 'schreitenden': 7651, 'herumzureissen': 7652, 'eingereist': 7653, 'konforme': 7654, 'verwarnt': 7655, 'troestet': 7656, 'mentalitaet': 7657, 'ohren': 7658, 'zwangsabgaben': 7659, 'bismarck': 7660, 'inneroesterreichischer': 7661, 'ebe': 7662, 'tataa': 7663, 'vorzeichen': 7664, 'diesjaehrigen': 7665, 'lautet': 7666, 'daempfer': 7667, 'geisterhand': 7668, 'durchschaubarer': 7669, 'hintergehen': 7670, 'privatsphaere': 7671, 'kriminelles': 7672, 'endes': 7673, 'ruhmesblatt': 7674, 'lehnen': 7675, 'gleichstellungspolitik': 7676, 'zielvereinbarungen': 7677, 'paternalistische': 7678, 'emanzipationspolitik': 7679, 'grundsatzprogramm': 7680, 'publizisten': 7681, 'existenz': 7682, 'schaftswunder': 7683, 'mercedes': 7684, 'mittelfristig': 7685, 'inn': 7686, 'berechtigung': 7687, 'ergebnisgleichheit': 7688, 'inholubek3': 7689, 'entsteht': 7690, 'paragraphen': 7691, 'niveaulosen': 7692, 'antidemokraten': 7693, 'ernsthaften': 7694, 'ausweicht': 7695, 'podiumsdiskussion': 7696, 'moderie': 7697, 'zutaten': 7698, 'staendiges': 7699, 'unterbrechen': 7700, 'gebruelle': 7701, 'zynisches': 7702, 'geklatsche': 7703, 'ikulieren': 7704, 'riesig': 7705, 'kuenftige': 7706, 'gemeinsamer': 7707, 'eapn': 7708, 'begruenden': 7709, 'vize': 7710, 'schwarzen': 7711, 'schlag': 7712, 'umgegangen': 7713, 'hingekriegt': 7714, 'jahn': 7715, 'regierungspropaganda': 7716, 'gebueh': 7717, 'dankemaassen': 7718, 'inknobbe': 7719, 'ausdruecklich': 7720, 'protestie': 7721, 'matthias': 7722, 'moosdorf': 7723, 'beleogen': 7724, 'gewerkschaft': 7725, 'schmeisst': 7726, 'eintrat': 7727, 'gewerkschaften': 7728, 'interessenve': 7729, 'retung': 7730, 'angestellten': 7731, 'gesinnungskontrolle': 7732, 'beutelchenbaer': 7733, '1917': 7734, 'kuba': 7735, 'pot': 7736, 'antibuergerliche': 7737, 'antikapitalistische': 7738, 'roehm': 7739, 'fluegel': 7740, 'goetz': 7741, 'aly': 7742, 'opaschowski': 7743, 'bekanntester': 7744, 'zukunftsforscher': 7745, 'ungeregelten': 7746, 'aufrechnen': 7747, 'ungleichgewichtigkeit': 7748, 'abgesetzt': 7749, 'duerftige': 7750, 'nachtwaechter': 7751, 'wochenrueckblick': 7752, 'antlitz': 7753, 'publicomag': 7754, 'prominent': 7755, 'zwischenleben': 7756, 'lebensrecht': 7757, 'death': 7758, 'entwaffnend': 7759, 'wehling': 7760, 'gebuehrenfrei': 7761, 'migrantenkarawane': 7762, 'rammboecke': 7763, 'polizeiketten': 7764, 'bpw16': 7765, 'untergangsszenarien': 7766, 'beansprucht': 7767, 'unfehlbarkeit': 7768, 'schmie': 7769, 'familienpolitik': 7770, 'mangelhaft': 7771, 'justizminister': 7772, 'duerch': 7773, 'hahn': 7774, 'kraehen': 7775, 'vereinte': 7776, 'eienkoalition': 7777, 'unterschrieben': 7778, 'danielad1972': 7779, 'noherrman': 7780, 'stuetze': 7781, 'jefferson': 7782, 'erschreckendes': 7783, 'ausmass': 7784, 'gutmenschlichen': 7785, 'mitschwimmt': 7786, 'basta': 7787, 'cicero': 7788, 'hendricks': 7789, 'eilinie': 7790, 'planwi': 7791, 'ideologieglaeubigkeit': 7792, 'zeugenstand': 7793, 'bundespraesidentenwahl': 7794, 'osze': 7795, '5mal': 7796, 'pic': 7797, 'ltwmv': 7798, 'agh16': 7799, 'penibel': 7800, 'falschparker': 7801, 'steuererklaerungen': 7802, 'twittere': 7803, 'zukunftskinder': 7804, 'vielter': 7805, 'kindeswohl': 7806, 'grosseinsatz': 7807, 'marburger': 7808, 'arztpraxis': 7809, 'rumgejammere': 7810, 'verbauen': 7811, 'schlussfolgerung': 7812, 'verschleudern': 7813, 'willigeres': 7814, 'gruenzeug': 7815, 'produziere': 7816, 'sputnik': 7817, 'unterschrieb': 7818, 'machtverlust': 7819, 'hannolerekraft': 7820, 'hassverzer': 7821, 'gaenze': 7822, 'barrikade': 7823, 'heben': 7824, 'hoechstrichter': 7825, 'hofburg': 7826, 'mittag': 7827, 'krone': 7828, 'kompromiss': 7829, 'herkunftsstaaten': 7830, 'sanierung': 7831, 'hinterhalt': 7832, 'steinwuerfe': 7833, 'pfalzgraf': 7834, 'schutzausstattung': 7835, 'praesenz': 7836, 'darmstaedter': 7837, 'heinerfest': 7838, 'staedtebund': 7839, 'experimenten': 7840, 'weltanschauliche': 7841, 'kruzifix': 7842, 'klassenzimmer': 7843, 'zwischenahn': 7844, 'emonnaie': 7845, 'delmenhorst': 7846, 'ooooch': 7847, 'nich': 7848, 'siggi': 7849, 'angehende': 7850, 'juristin': 7851, 'referendariat': 7852, 'wittenburg': 7853, 'kommunale': 7854, 'initiativen': 7855, 'proasyl': 7856, 'oktober': 7857, 'bonkekolja': 7858, 'bestochen': 7859, 'befangen': 7860, 'pakte': 7861, 'zuruecknehmen': 7862, 'klimaschutzplan': 7863, 'neubauten': 7864, 'oelheizung': 7865, 'fleischkonsum': 7866, 'halbieren': 7867, 'calais': 7868, 'geschaefte': 7869, 'unterkuenften': 7870, 'aktualisieren': 7871, 'beitrittsverhandlungen': 7872, 'entsetzt': 7873, 'fraktionbw': 7874, 'intransparenz': 7875, 'indexierungsverfahren': 7876, 'polizeichef': 7877, 'stringente': 7878, 'migrationsbegrenzung': 7879, 'zerfallen': 7880, '140': 7881, 'regelung': 7882, 'abschafft': 7883, 'geigen': 7884, 'fashionweek': 7885, 'morddrohung': 7886, 'charlie': 7887, 'hebdo': 7888, 'extremistisches': 7889, 'personenpotential': 7890, 'rechtsextr': 7891, 'linksextr': 7892, 'plaedie': 7893, 'seenot': 7894, 'schleusen': 7895, 'locken': 7896, 'toedliche': 7897, 'meer': 7898, 'aufenthaltstitel': 7899, 'erschleichen': 7900, 'lucasschoppe1': 7901, 'sozusagen': 7902, 'hatespeech': 7903, 'praesidentenamt': 7904, 'eilmeldung': 7905, 'ministerpraesidentin': 7906, 'untersuchungsausschuss': 7907, 'aufgebauschstes': 7908, 'manuelaschwesig': 7909, 'osteuropaeische': 7910, 'bayreuth': 7911, 'ausgegraben': 7912, 'ndr': 7913, 'islamzentrum': 7914, 'happens': 7915, 'laesterbacken': 7916, 'schiesst': 7917, 'preiserhoehungen': 7918, 'arbeitslosigkeit': 7919, 'wiedereinfuehrung': 7920, 'rigaer': 7921, 'campus': 7922, 'nachrichtenueberblick': 7923, 'kindermassenhaltung': 7924, 'teurer': 7925, 'manu': 7926, 'somancher': 7927, 'schnappschuss': 7928, 'betrachter': 7929, 'schwindelt': 7930, 'verschwoerung': 7931, 'verdrehungen': 7932, 'vergeblich': 7933, 'emotionale': 7934, 'gefaengnis': 7935, 'gewaltig': 7936, 'zeiger': 7937, 'wiesn': 7938, 'votum': 7939, 'totzuschweigen': 7940, 'huffpostde': 7941, 'sls': 7942, 'agh': 7943, 'cehzett': 7944, 'eilisten': 7945, 'parlamente': 7946, 'quote': 7947, 'symptomatisch': 7948, 'einschraenken': 7949, 'gutmenschenterror': 7950, 'richterliche': 7951, 'gesetzen': 7952, 'buergers': 7953, 'oberste': 7954, 'prioritaet': 7955, 'unfassbarer': 7956, 'treuebruch': 7957, 'rueckhaltlose': 7958, 'entschaedigung': 7959, 'anreize': 7960, 'hyperinflation': 7961, 'superfluechtling': 7962, '50k': 7963, '150k': 7964, 'leistungsschwach': 7965, 'lisa': 7966, 'eroeffnete': 7967, 'digital': 7968, 'pauschalverdacht': 7969, 'unbegruendet': 7970, 'zurueckgezeigt': 7971, 'freiburgbrennt': 7972, 'schlupfloch': 7973, 'gefangenen': 7974, 'versechsfacht': 7975, 'newsrepublicde': 7976, 'fluechtlingsspo': 7977, 'projekte': 7978, 'glaubwuerdigkeit': 7979, 'enorm': 7980, 'abzustimmen': 7981, 'prophetische': 7982, '1986': 7983, 'sitzung': 7984, 'identity': 7985, 'angehoeren': 7986, 'vizepraesidenten': 7987, 'identityanddemocracy': 7988, 'eucommonsense': 7989, 'ersticken': 7990, 'stille': 7991, 'genugtuung': 7992, 'diplomatie': 7993, 'ungerechtfe': 7994, 'igte': 7995, 'vollkommen': 7996, 'asozial': 7997, 'weigerung': 7998, 'oekowahnsinn': 7999, 'nett': 8000, 'rettungsschirm': 8001, 'vorhandene': 8002, 'zeitnah': 8003, 'liter': 8004, 'ruhig': 8005, 'verbreiten': 8006, 'climatestrike': 8007, 'adac': 8008, 'adacrallye': 8009, 'weltwoche': 8010, 'koeppelroger': 8011, 'dietagesstimme': 8012, 'neigung': 8013, 'politjournalisten': 8014, '2300': 8015, 'vollstaendig': 8016, 'misslungen': 8017, 'spielregeln': 8018, 'eitaktische': 8019, 'bremerhaven': 8020, 'letze': 8021, 'ausgezaehlt': 8022, 'aufsicht': 8023, 'motzen': 8024, 'liberalisieren': 8025, 'maerkte': 8026, 'ehrgeiz': 8027, 'abgehaengt': 8028, 'schwerpunkt': 8029, 'schlagkraeftige': 8030, 'einsatzbereite': 8031, 'truppe': 8032, 'hochrechnungen': 8033, 'dankte': 8034, 'wahlkaempfern': 8035, 'unterstuetzern': 8036, 'gegebenen': 8037, 'voraussetzungen': 8038, 'erzielt': 8039, 'kloppo': 8040, 'nationalmannschaft': 8041, 'unaufhaltsame': 8042, 'bundes': 8043, 'gabelfruehstueck': 8044, 'nahezu': 8045, 'unausweichlich': 8046, '1730': 8047, 'phoenix': 8048, 'genossinnen': 8049, 'personalie': 8050, 'andreanahlesspd': 8051, 'drjoeweinga': 8052, 'ausloesen': 8053, 'absteigenden': 8054, 'zugewande': 8055, 'sympathietraeger': 8056, 'ralle': 8057, 'angekuendigten': 8058, 'rueckzug': 8059, 'erfolgsweg': 8060, 'deutliches': 8061, 'peinliche': 8062, 'unehrliche': 8063, 'sammlung': 8064, 'verharmlosungen': 8065, 'propagandapresse': 8066, 'andernach': 8067, 'auswanderungsgrund': 8068, 'fugen': 8069, 'geratene': 8070, 'euwahl20': 8071, 'bangt': 8072, 'quittung': 8073, 'maximalen': 8074, 'rb': 8075, 'verusoss1': 8076, 'zun': 8077, 'zuhoeren': 8078, 'ungeil': 8079, 'huetter': 8080, 'fliegt': 8081, 'belastung': 8082, 'sozialstaates': 8083, 'staerker': 8084, 'geltender': 8085, 'rocken': 8086, 'schlamassel': 8087, 'eingebrockt': 8088, 'draufgepackt': 8089, 'karrierist': 8090, 'versetzt': 8091, 'befoerdern': 8092, 'nordhessen': 8093, 'wahnsinnig': 8094, 'naturschutzpa': 8095, 'ausgetreten': 8096, 'nachbarin': 8097, 'erholung': 8098, 'kuenftigen': 8099, 'kinderbuchautor': 8100, 'organspender': 8101, 'organsuchender': 8102, 'fatal': 8103, 'respektie': 8104, 'krimineller': 8105, 'verwirkte': 8106, 'morden': 8107, 'reflexa': 8108, 'remigration': 8109, 'resettlement': 8110, 'umsiedlungsprogramme': 8111, 'gebot': 8112, 'erschlaegt': 8113, 'geliebte': 8114, 'windlicht': 8115, 'liane': 8116, 'aeusseren': 8117, 'gewaltsamen': 8118, 'tods': 8119, 'yara': 8120, 'amadeuantonio': 8121, 'hochkriminelles': 8122, 'tumulte': 8123, 'saal': 8124, 'ardmoma': 8125, 'pfanne': 8126, 'offiziellen': 8127, 'sexualdelikte': 8128, '24mal': 8129, 'sexstraftaten': 8130, 'geknallt': 8131, 'bleibe': 8132, 'wellen': 8133, 'zusammenbricht': 8134, 'o2de': 8135, 'o2entdecken': 8136, 'gutschein': 8137, 'einloesen': 8138, 'zalando': 8139, 'gesinngsdruck': 8140, 'unterwirft': 8141, 'internes': 8142, 'polizeiprotokoll': 8143, 'budspencer': 8144, 'burka': 8145, 'heiratet': 8146, 'ausgeben': 8147, 'qualitaetsjournalismus': 8148, 'asiabibi': 8149, 'politisches': 8150, 'gewaehren': 8151, 'weggeworfen': 8152, 'onlinemagazin': 8153, 'bischen': 8154, 'hochverrat': 8155, 'unterbringung': 8156, 'zumutbar': 8157, 'trophaee': 8158, 'einmauern': 8159, 'geschritten': 8160, 'uschen': 8161, 'inteutone': 8162, 'clydevpg': 8163, 'mediterrnewsnet': 8164, 'bernsteinzimmer': 8165, 'nailastrasse': 8166, 'neuperlach': 8167, 'laermschutz': 8168, 'mirgations': 8169, 'experimente': 8170, 'franzoesisches': 8171, 'georgisches': 8172, 'imams': 8173, 'handschlag': 8174, '230': 8175, 'naechten': 8176, 'lorenzmaroldt': 8177, 'verfluchen': 8178, 'justiziar': 8179, 'verfuegung': 8180, 'verzehnfacht': 8181, 'bejubelte': 8182, 'ergehen': 8183, 'arafat': 8184, 'wuerdige': 8185, 'entwe': 8186, 'restles': 8187, 'reschkes': 8188, 'regierungssprecher': 8189, 'dasselbe': 8190, 'beruht': 8191, 'medienberichten': 8192, 'bundesamts': 8193, 'deutschlandkurier': 8194, 'weinstrasse': 8195, 'maxotte': 8196, 'says': 8197, 'eingeladene': 8198, 'krall': 8199, 'hambach': 8200, 'hierzulande': 8201, 'seltenen': 8202, 'akkus': 8203, 'weltfrieden': 8204, 'diversen': 8205, 'schwerpunktsetzung': 8206, 'kurzfristige': 8207, 'verhaltensaenderung': 8208, 'bewirkt': 8209, 'bestaendigkeit': 8210, 'ozonloch': 8211, 'abarbeiten': 8212, 'erinnere': 8213, 'kommunal': 8214, 'schulung': 8215, 'gewaehlten': 8216, 'mandatstraeger': 8217, 'schulungszentren': 8218, 'referenten': 8219, 'mandatstraegern': 8220, 'rlpnews': 8221, 'mdi': 8222, 'polizeibeamte': 8223, 'ordnungsdienst': 8224, 'einheitlichkeit': 8225, 'experiment': 8226, 'probieren': 8227, 'wandern': 8228, 'familienministerium': 8229, 'fuerchte': 8230, 'zettelchen': 8231, 'respektieren': 8232, 'gastland': 8233, 'auskunft': 8234, 'dramatischer': 8235, 'leistungsempfaenger': 8236, 'ministerin': 8237, 'rheinlandpfalz': 8238, 'gestattet': 8239, 'tie': 8240, 'ranspo': 8241, 'nordarika': 8242, 'ad': 8243, 'acta': 8244, 'instanz': 8245, 'aufspielt': 8246, 'anstand': 8247, 'sachlichkeit': 8248, 'eigenschaft': 8249, 'unwaehlbar': 8250, 'grokoweg': 8251, 'sonderschichten': 8252, 'antichristlich': 8253, 'zutiefst': 8254, 'klimakanzlerin': 8255, 'klimaziele': 8256, 'verfehlen': 8257, 'haushalte': 8258, 'strompreisen': 8259, 'strategische': 8260, 'teamfm': 8261, 'reise': 8262, 'wahlergebnisse': 8263, 'migrantenpa': 8264, 'big': 8265, 'duisburger': 8266, 'stimmbezirken': 8267, 'alarmsignal': 8268, 'kirchensteuern': 8269, 'woelki': 8270, 'verfassungsfeind': 8271, 'katarinabarley': 8272, 'einitiative': 8273, 'realist': 8274, 'raeumung': 8275, 'verfaelscher': 8276, 'schaebiger': 8277, 'sturmgeschuetz': 8278, 'geschossen': 8279, 'haltungsjournalismus': 8280, 'angemeldete': 8281, 'wahlkampfveranstaltung': 8282, 'bespuckt': 8283, 'redner': 8284, 'niedergebruellt': 8285, 'gejohlt': 8286, 'raeumte': 8287, 'fuehrende': 8288, 'wahlversammlung': 8289, 'fraktionsvorsitzender': 8290, 'geplatzt': 8291, 'abgefueh': 8292, 'empfahl': 8293, 'hausrecht': 8294, 'gebrauch': 8295, 'koepperlin': 8296, 'vollzugsbeamte': 8297, 'verwiesen': 8298, 'uberheblichkeit': 8299, 'monstranz': 8300, 'pruefungsstoff': 8301, 'abitur': 8302, 'irritie': 8303, 'lauf': 8304, 'ochs': 8305, 'infostaende': 8306, 'freitagsdemo': 8307, 'zugspitze': 8308, 'maischnee': 8309, 'rekord': 8310, 'mittwochmorgen': 8311, 'alpstein': 8312, 'gemessen': 8313, 'wunschkandidat': 8314, 'fernsehfuerstin': 8315, 'kaigniffke': 8316, 'grosseltern': 8317, 'verwandten': 8318, 'wahlkabine': 8319, 'verwandte': 8320, 'arbeitskollegen': 8321, 'souveraenitaet': 8322, 'eue': 8323, '114': 8324, 'niederlaendischer': 8325, 'verharmlosung': 8326, 'zuwandererkriminalitaet': 8327, 'unvorstellbar': 8328, 'wahlkampfabend': 8329, 'juengste': 8330, 'kreisverband': 8331, 'mobilisie': 8332, 'agieren': 8333, 'veraenderungen': 8334, 'rheinzeitung': 8335, 'rz': 8336, '2700': 8337, 'drucken': 8338, 'sinkenden': 8339, 'auflagen': 8340, 'verleger': 8341, 'verwandt': 8342, 'roterfilz': 8343, 'ted': 8344, 'schliesse': 8345, 'filz': 8346, 'kenntlichkeit': 8347, 'braesige': 8348, 'gouvernantentum': 8349, 'konstruktion': 8350, 'desinformie': 8351, 'spitzenkandidaten': 8352, 'unverstaendlichen': 8353, 'phrasen': 8354, 'spitzenkandidatin': 8355, 'listenplaetze': 8356, 'kreistag': 8357, 'goettern': 8358, 'souveraener': 8359, 'studio': 8360, 'bank': 8361, 'ehrlicher': 8362, 'anstaendiger': 8363, 'verstrickung': 8364, 'zufuegen': 8365, 'besiegen': 8366, 'plakatieren': 8367, 'heppenheim': 8368, 'abgang': 8369, 'verfassungstag': 8370, 'plenarsaal': 8371, 'halbmondes': 8372, 'regenbogens': 8373, 'homo': 8374, 'transfeindlichkeit': 8375, 'stellv': 8376, 'fraktionsvorsitzenden': 8377, 'sozialwohnungen': 8378, 'volksvermoegen': 8379, 'ueberregulierung': 8380, 'vergesellschaftung': 8381, 'pures': 8382, 'gift': 8383, 'wettbewerbsfaehige': 8384, 'innovative': 8385, 'volkswi': 8386, 'jusosrlp': 8387, 'kollektivismus': 8388, 'distanzieren': 8389, 'wohnnot': 8390, 'fm': 8391, '1998': 8392, 'heimstaette': 8393, 'bestand': 8394, 'plenum': 8395, 'schwachen': 8396, 'schaufensterantrag': 8397, 'lr': 8398, 'ultralinken': 8399, 'friedensaktivisten': 8400, 'musikveranstaltungen': 8401, 'aktiver': 8402, 'einrichtungen': 8403, 'musikfestivals': 8404, 'durchgefueh': 8405, 'haemmer': 8406, 'tatwerkzeuge': 8407, 'iris': 8408, 'nieland': 8409, 'unzuverlaessigkeit': 8410, 'check': 8411, 'patrick': 8412, 'larspatrickberg': 8413, 'gruendungsmitglied': 8414, 'israels': 8415, 'premier': 8416, 'angelegenheiten': 8417, 'ngo': 8418, 'gelegentlich': 8419, 'erkenntnisgewinn': 8420, 'pressegespaech': 8421, 'joachimpaul': 8422, 'meisterausbildung': 8423, 'kostenfrei': 8424, 'moratorium': 8425, 'kommunalreformen': 8426, 'muslima': 8427, 'erin': 8428, 'leventz': 8429, 'mainusch': 8430, 'asta': 8431, 'hausen': 8432, 'gammler': 8433, 'besetzer': 8434, 'treffpunkt': 8435, 'zustaendiger': 8436, 'aktivitaeten': 8437, 'dichter': 8438, 'denker': 8439, 'einmal': 8440, 'mathe': 8441, 'anregung': 8442, 'abwaehlen': 8443, 'menschenbild': 8444, 'herkunftslaendern': 8445, 'abschwung': 8446, 'dynamik': 8447, 'herausforderung': 8448, 'begegnen': 8449, 'verbindlichen': 8450, 'laenderuebergreifenden': 8451, 'mindestpersonalschluessel': 8452, 'pflegepersonal': 8453, 'entlasten': 8454, 'internationalen': 8455, 'geheule': 8456, 'mangelt': 8457, 'zutreffender': 8458, 'fachkraefteeinwanderungsgesetz': 8459, 'anzeiger': 8460, 'neuwied': 8461, 'magniz': 8462, 'daraufhin': 8463, 'zuschauer': 8464, 'runterspielen': 8465, 'politbarometer': 8466, 'tapfere': 8467, 'heimatkreis': 8468, 'kreistagskandidatin': 8469, 'myk': 8470, 'schier': 8471, 'unaufhaltsam': 8472, 'gastgeber': 8473, 'anzupassen': 8474, 'geschaendete': 8475, 'klaessler': 8476, 'religionsunterrichts': 8477, 'udestedt': 8478, 'religionslehrerin': 8479, 'gebets': 8480, 'teilzunehmen': 8481, 'parlamentarisch': 8482, 'aufarbeiten': 8483, 'gesunden': 8484, 'widrigen': 8485, 'sturmfeste': 8486, 'widerstands': 8487, 'patriotisches': 8488, 'flext': 8489, 'rasant': 8490, 'regierungskritiker': 8491, 'louecrit': 8492, 'louisa': 8493, 'schuetzenswe': 8494, 'umher': 8495, 'ausreisepflichtig': 8496, 'groesstes': 8497, 'liebeshochzeit': 8498, 'konve': 8499, 'schlesien': 8500, 'pommern': 8501, 'ostpreussen': 8502, 'geraubt': 8503, 'verbrecherraere': 8504, 'gehoerend': 8505, 'eschlange': 8506, 'kanzlei': 8507, 'scheidungsanwaltes': 8508, 'christiane': 8509, 'heiraten': 8510, 'unwetterwarnung': 8511, 'dwd': 8512, 'gewitter': 8513, 'starkregen': 8514, 'starkwind': 8515, 'igsuppen': 8516, 'sozialministerium': 8517, 'entschaerft': 8518, 'liesse': 8519, 'verschlusssachen': 8520, 'einlullen': 8521, 'geschnitten': 8522, 'dranbleiben': 8523, 'horn': 8524, 'washingtonallee': 8525, 'bisherigem': 8526, '61': 8527, '040': 8528, '4286': 8529, '56789': 8530, 'jedi': 8531, 'knight': 8532, 'jo': 8533, 'derzeitigen': 8534, 'west': 8535, 'zurzeizt': 8536, 'heroisches': 8537, 'geldbeutel': 8538, 'vorwae': 8539, 'rueckwae': 8540, 'staatsratsvorsitzender': 8541, 'friedliebende': 8542, 'arbeiterklasse': 8543, 'weisheit': 8544, 'glanzzeiten': 8545, 'purojunkie': 8546, 'arbeitende': 8547, 'angeschmie': 8548, 'zusammenschluss': 8549, 'lithiumabbau': 8550, 'kinderlosen': 8551, 'ueberfluessige': 8552, 'dreilaender': 8553, 'einsicht': 8554, 'zugelegt': 8555, 'raetsel': 8556, 'behandeln': 8557, 'grill': 8558, 'herwenden': 8559, 'puren': 8560, 'selbstverletzung': 8561, 'kaninchenbau': 8562, 'effekt': 8563, 'gewarnt': 8564, 'angeklickt': 8565, 'sumpf': 8566, 'desinformation': 8567, 'gottfried': 8568, 'schlimmsten': 8569, 'puetz': 8570, 'asche': 8571, 'haupt': 8572, 'rechtspopulismus': 8573, 'seltsame': 8574, 'herumbruellen': 8575, 'hochagressiv': 8576, 'gegendemonstranten': 8577, 'vereinigten': 8578, 'parlamenten': 8579, 'bundesregierungen': 8580, 'unbehelligt': 8581, 'nohra': 8582, 'brandnerunterwegs': 8583, 'nationelles': 8584, 'anderseits': 8585, 'jenigen': 8586, 'islamistischen': 8587, 'hochgefaehrder': 8588, 'waffenbesitz': 8589, 'einbruch': 8590, 'geduldeter': 8591, 'asylant': 8592, 'failedstate': 8593, 'hinbekommen': 8594, 'gesamtdeutsche': 8595, 'klimanotstands': 8596, 'oekodiktatur': 8597, 'reiherstieg': 8598, 'hauptdeich': 8599, 'engl': 8600, 'fliegerbombe': 8601, 'feuerwehrhh': 8602, 'sperrradius': 8603, 'warnradius': 8604, 'nachgereicht': 8605, 'festgelegt': 8606, 'verstaendigen': 8607, 'wechselmodell': 8608, 'leitbild': 8609, 'streitfall': 8610, 'gemeinsame': 8611, 'idtcdiese': 8612, 'noetigung': 8613, 'blockierer': 8614, 'arbeitgeber': 8615, 'feststellen': 8616, 'nachfolgend': 8617, 'schadensersatz': 8618, 'herfallen': 8619, 'greueltaten': 8620, 'hinnehmen': 8621, 'stpauli': 8622, 'pferdemarkt': 8623, 'ueberfall': 8624, 'pauli': 8625, 'lagerstrasse': 8626, '02': 8627, 'neuenfelder': 8628, 'naeherer': 8629, 'betrachtung': 8630, 'gegenentwurf': 8631, 'lautsprecher': 8632, 'voaaa9obf9w': 8633, 'versammlungen': 8634, 'wohnzimmer': 8635, 'rumbruellen': 8636, 'privatsache': 8637, 'zerreissprobe': 8638, 'begleitet': 8639, 'eichef': 8640, 'sozialisten': 8641, 'vorgestellten': 8642, 'positionspapier': 8643, 'positionie': 8644, 'hagelt': 8645, 'kroete': 8646, 'enbank': 8647, 'angeboten': 8648, 'blase': 8649, 'abgeschotteten': 8650, 'villenfi': 8651, 'kl': 8652, 'muellerwesternhagen': 8653, 'tribunale': 8654, 'klingbeil': 8655, 'honecker': 8656, 'posthum': 8657, 'unterzeichnen': 8658, 'hypothese': 8659, 'verursachten': 8660, 'brachte': 8661, 'lasste': 8662, 'kult': 8663, 'nobelgegend': 8664, 'exzessiv': 8665, 'anruecken': 8666, 'ueberhebliches': 8667, 'selbsternannte': 8668, 'machtrausch': 8669, 'harris': 8670, 'jublerin': 8671, 'helm': 8672, 'verfassungsschutzausschuss': 8673, 'ntv': 8674, 'swisttal': 8675, 'asif': 8676, 'fingie': 8677, 'vorsteuer': 8678, 'erstatten': 8679, 'gb': 8680, 'betrugs': 8681, 'verbindungen': 8682, 'phones': 8683, 'oekobilanz': 8684, 'internets': 8685, 'suchanfragen': 8686, 'energiesparlampe': 8687, 'internetverbot': 8688, 'huepfende': 8689, 'vergleicht': 8690, 'wams': 8691, 'objektiv': 8692, 'wahrnimmt': 8693, 'regenstauf': 8694, 'sprechender': 8695, 'regentalfestes': 8696, 'reibt': 8697, 'entbloesstes': 8698, 'erigie': 8699, 'glied': 8700, 'kuessen': 8701, 'begleiterin': 8702, 'schlampe': 8703, 'heruntergespielt': 8704, 'barkicbranco': 8705, 'ablehnte': 8706, 'unbegreiflich': 8707, 'vorjahr': 8708, 'zischen': 8709, 'stellten': 8710, '206': 8711, 'erstantrag': 8712, 'selben': 8713, 'zeitraum': 8714, '179': 8715, 'kreuzverhoer': 8716, 'vorfeld': 8717, 'mutmasslich': 8718, 'schlaeger': 8719, 'krueppel': 8720, 'gepruegelten': 8721, 'greis': 8722, 'verlierern': 8723, 'randgruppen': 8724, 'endloesung': 8725, 'judenfrage': 8726, 'rohani': 8727, 'besprechen': 8728, 'staatsraeson': 8729, 'kleinstgedruckten': 8730, 'zugeordnet': 8731, 'autokennzeichen': 8732, 'kombi': 8733, 'initialien': 8734, 'schleppen': 8735, 'schubst': 8736, 'sechsjaehrigen': 8737, 'begrapscht': 8738, 'uebergossen': 8739, 'mz': 8740, 'arminlaschet': 8741, 'unerlaesslich': 8742, 'sicherheitsdienste': 8743, 'freibaedern': 8744, 'respektlosem': 8745, 'schulungen': 8746, 'gaesten': 8747, 'vorwirft': 8748, 'genaueren': 8749, 'scheiben': 8750, 'date': 8751, 'promenaden': 8752, 'gehwegen': 8753, 'radwegen': 8754, 'schnitt': 8755, 'falkensee': 8756, 'potsdam': 8757, 'ketzin': 8758, 'beelitz': 8759, 'mittenwalde': 8760, 'klauen': 8761, 'sonnenbrille': 8762, 'lebensmittel': 8763, 'elektronik': 8764, 'haftantrag': 8765, 'fussgaenger': 8766, 'weltklima': 8767, 'vernuenftiger': 8768, 'durchdachter': 8769, 'nazischein': 8770, 'unzaehligen': 8771, 'aehnlichr': 8772, 'gleisbett': 8773, 'rammt': 8774, 'eritreer': 8775, 'brust': 8776, 'verstirbt': 8777, 'bereicherer': 8778, 'mittags': 8779, 'buergersteig': 8780, 'kuechenmesser': 8781, 'hackebeil': 8782, 'praesentiere': 8783, 'jans': 8784, 'transmann': 8785, 'zerpfluecken': 8786, 'totalausfall': 8787, 'eintausend': 8788, 'ministrafen': 8789, 'visionaere': 8790, 'pseudo': 8791, 'heilserwa': 8792, 'ungen': 8793, 'apokalyptische': 8794, 'endzeitaengste': 8795, 'bussen': 8796, 'gerald': 8797, 'major': 8798, 'schwor': 8799, 'praesidium': 8800, 'grundgesetzlich': 8801, 'verbrieft': 8802, 'wuetete': 8803, 'abgeben': 8804, 'bedraengen': 8805, 'begrapschen': 8806, 'krankenhausreif': 8807, 'abgelehnten': 8808, 'kassieren': 8809, 'blamieren': 8810, 'paedophaelie': 8811, 'unte': 8812, 'iteln': 8813, 'hbf': 8814, 'veraengstigt': 8815, 'sensibilisierung': 8816, 'staatssekretaerinnen': 8817, 'gegenteilige': 8818, 'ausreisepflicht': 8819, 'brandgefaehrliche': 8820, 'melonenpa': 8821, 'beschaemende': 8822, 'luenen': 8823, 'strassenraeuber': 8824, 'spaetabends': 8825, 'suedlaendischem': 8826, 'laune': 8827, 'antimuslimischer': 8828, 'retenden': 8829, 'landesvorsitzenden': 8830, 'neumann': 8831, 'promotionsurkunde': 8832, 'erfolgreicher': 8833, 'unternehmer': 8834, 'mill': 8835, 'wohltaetige': 8836, 'zwecke': 8837, 'gespendet': 8838, 'gemeinderaeten': 8839, 'ungnade': 8840, 'irrwege': 8841, 'beitraegen': 8842, 'platt': 8843, 'spielplatz': 8844, 'kontrollverlust': 8845, 'genesung': 8846, 'linksfaschisten': 8847, 'immobilienkongresses': 8848, 'reisebus': 8849, 'krude': 8850, 'menschenrechtsverletzung': 8851, 'kinderehen': 8852, 'schwimmbad': 8853, 'erklaerungs': 8854, 'aufkleber': 8855, 'piktogrammen': 8856, 'belaestigung': 8857, 'rentenanspruch': 8858, '600e': 8859, 'protegie': 8860, 'mindener': 8861, 'messerstich': 8862, 'staatsangehoeriger': 8863, 'widerlegt': 8864, 'langfristvergleich': 8865, 'sandra': 8866, 'donnerstag': 8867, 'vermisst': 8868, 'erstickt': 8869, 'leichnam': 8870, 'pakistaner': 8871, 'kohlefoerderung': 8872, 'kg': 8873, 'eingespa': 8874, 'fetisch': 8875, '41laendern': 8876, 'kernkraftwerke': 8877, '447': 8878, 'kohlekraftwerke': 8879, 'panne': 8880, 'sicherheitspanne': 8881, 'kriegswaffenfund': 8882, 'heinzhermannthiele': 8883, 'hochkritische': 8884, 'zusammenbruchs': 8885, 'oekonomisch': 8886, 'unbeherrschbar': 8887, 'patrickgensing': 8888, 'farbbeuteln': 8889, 'gierige': 8890, 'miethaie': 8891, 'vermuteten': 8892, 'krebspatienten': 8893, 'sief': 8894, 'yasmin': 8895, 'planten': 8896, 'biologischen': 8897, 'kampfstoff': 8898, 'rizin': 8899, 'todesopfer': 8900, 'presseberichte': 8901, 'mangelware': 8902, 'aufarbeitung': 8903, 'loest': 8904, 'gelogen': 8905, 'realitaetsverlust': 8906, 'uebersehen': 8907, 'auseinanderzusetzen': 8908, 'lebenssaft': 8909, 'aussaugen': 8910, 'roehrich': 8911, 'reinkomm': 8912, 'stoer': 8913, 'umfunktionie': 8914, 'grundguetiger': 8915, 'messestichen': 8916, 'dutzend': 8917, 'witwe': 8918, '86': 8919, 'ruck': 8920, 'ergriffen': 8921, 'medienkasper': 8922, 'erledigt': 8923, 'stande': 8924, 'stosse': 8925, 'gruenin': 8926, 'flatulenzen': 8927, 'zwangsabgabe': 8928, 'samstagmorgen': 8929, 'somalischer': 8930, 'zusammengetreten': 8931, 'freigelassen': 8932, 'mehmet': 8933, 'beschimpften': 8934, 'bedraengten': 8935, 'pensionistenpaar': 8936, 'vorbeigehen': 8937, 'mantel': 8938, 'streiften': 8939, 'provokationen': 8940, 'schnauze': 8941, 'diebstaehle': 8942, 'belaestigungen': 8943, 'raeubern': 8944, 'vergewaltigern': 8945, 'totschlaegern': 8946, '696': 8947, 'j2008': 8948, '1196': 8949, 'j2017': 8950, 'sprechers': 8951, 'hamburgs': 8952, 'till': 8953, 'steffen': 8954, 'generellen': 8955, 'walid': 8956, 'hauptverdaechtige': 8957, 'totgepruegelten': 8958, 'niklas': 8959, 'wehrlos': 8960, 'doppelten': 8961, 'unterkieferbruch': 8962, 'jochbeinbruch': 8963, '13j': 8964, 'stephansschule': 8965, 'saarbruecker': 8966, 'schmelz': 8967, 'wiederbelegung': 8968, 'neuesten': 8969, 'sicherheitsbericht': 8970, 'schwedischen': 8971, 'rat': 8972, 'kriminalpraevention': 8973, 'angekettet': 8974, 'kaempfern': 8975, 'sexsklaven': 8976, 'senden': 8977, 'borgholzhausen': 8978, 'wies': 8979, 'multiple': 8980, 'brachen': 8981, 'rettungskraefte': 8982, 'crailsheim': 8983, 'tuerkischem': 8984, 'hochzeitskorso': 8985, 'schreckschusswaffen': 8986, 'patronenhuelsen': 8987, 'beteuern': 8988, 'zukuenftigen': 8989, 'schimpft': 8990, 'schwiegermutter': 8991, 'leserbrief': 8992, 'oberhausenklosterhardt': 8993, 'suedlaendisches': 8994, 'entrissen': 8995, 'umhaengetasche': 8996, 'foot': 8997, 'umweltfreundlichen': 8998, 'disko': 8999, 'passau': 9000, 'weiterer': 9001, 'dingolfing': 9002, 'landshut': 9003, 'erding': 9004, 'burghausen': 9005, 'taeuscht': 9006, 'sedlern': 9007, 'duesseldorfer': 9008, 'aufzutauchen': 9009, 'stehendem': 9010, 'setzte': 9011, 'zum': 9012, 'breitscheidplatz': 9013, 'strafverfolger': 9014, 'widerspruechliches': 9015, 'plausibel': 9016, 'richtigstellen': 9017, 'antifaluebeck': 9018, 'linksfaschistische': 9019, 'totschweigen': 9020, 'offensichtlichem': 9021, 'bevoelkerungsgruppe': 9022, 'systematischer': 9023, 'diskriminierungspolitik': 9024, 'annefrank': 9025, 'annaehern': 9026, 'lauffen': 9027, 'professioneller': 9028, 'drogenring': 9029, 'gambier': 9030, 'schwunghaften': 9031, 'verschiedenen': 9032, 'asylheimen': 9033, 'kiloweise': 9034, 'marihuana': 9035, 'ecstasy': 9036, 'jtrittin': 9037, 'jrehborn': 9038, 'angeeignet': 9039, 'spitzenwissenschaftler': 9040, 'billionen': 9041, 'verdorben': 9042, 'mongolen': 9043, 'diplomatenkennzeichen': 9044, 'unterzogen': 9045, 'diplomatische': 9046, 'vorliegt': 9047, '70kg': 9048, 'heroin': 9049, 'anneliesen2': 9050, 'behaltet': 9051, 'hanta': 9052, 'virus': 9053, 'wechselnden': 9054, 'nern': 9055, 'sprayflasche': 9056, 'rythmus': 9057, 'bespruehen': 9058, 'what': 9059, 'you': 9060, 'want': 9061, 'rhihanna': 9062, 'get': 9063, 'bom': 9064, 'dpa': 9065, 'bundesamtes': 9066, 'einstieg': 9067, 'migrationsbeauftragten': 9068, 'sowahr': 9069, 'eilsfreie': 9070, 'stellung': 9071, 'senkel': 9072, 'anschliessender': 9073, 'labor': 9074, 'gesamtanalyse': 9075, 'blutes': 9076, 'wechseljahre': 9077, 'schwankende': 9078, 'hormonstaerken': 9079, 'blutkreislauf': 9080, 'bemerkbar': 9081, 'ueberfunktion': 9082, 'schilddruese': 9083, 'unbehandelt': 9084, 'gewichtszunahme': 9085, 'knochen': 9086, 'muskelinstabilitaet': 9087, 'wuerzen': 9088, 'pfefferkoerner': 9089, 'verzehr': 9090, 'trunk': 9091, 'kaffee': 9092, 'pfeffermuehle': 9093, 'zerkleine': 9094, 'einfuegen': 9095, 'rheuma': 9096, 'gicht': 9097, 'gelenkentzuendungen': 9098, 'verdauungsfoerdernd': 9099, 'stoffwechselanregend': 9100, 'abnehmen': 9101, 'rundum': 9102, 'entzuendungshemmend': 9103, 'ansprueche': 9104, 'enwissen': 9105, 'pnp': 9106, 'fehlerhaft': 9107, 'basis': 9108, 'emitter': 9109, 'colector': 9110, 'transistoren': 9111, 'schaltung': 9112, 'verstaerker': 9113, 'regelt': 9114, 'geringe': 9115, 'eingangsspannung': 9116, 'impedanz': 9117, 'mikrophon': 9118, 'yacht': 9119, 'schloesser': 9120, 'sekraeterin': 9121, 'taucht': 9122, 'yet': 9123, 'zet': 9124, 'tristes': 9125, 'koranerklaerung': 9126, 'strafzoelle': 9127, 'oel': 9128, 'liefernde': 9129, 'entzug': 9130, 'rohstoffen': 9131, 'veranlassen': 9132, 'migrieren': 9133, 'positive': 9134, 'rethorik': 9135, 'rakete': 9136, 'alltaeglich': 9137, 'bollerwagen': 9138, 'leiharbeit': 9139, 'arbeitsve': 9140, 'minniloehnen': 9141, 'hoffaehig': 9142, 'rentenalter': 9143, 'minnirenten': 9144, 'abgewaehlt': 9145, 'stellungsnahmen': 9146, 'grundbeduerfnissen': 9147, 'bildungs': 9148, 'aufstiegs': 9149, 'eigentuemern': 9150, 'vermieteten': 9151, 'jugendclub': 9152, 'ausgezogen': 9153, 'judentums': 9154, 'gebruestet': 9155, 'psychaterin': 9156, 'veranlagung': 9157, 'pheromone': 9158, 'ritallin': 9159, 'waerest': 9160, 'uninteressant': 9161, 'psychologie': 9162, 'avancen': 9163, 'titeln': 9164, 'vorhandenen': 9165, 'kapazitaet': 9166, 'ect': 9167, 'psychater': 9168, 'raut': 9169, 'anmerkung': 9170, 'schwierigkeiten': 9171, 'begegnung': 9172, 'verkuppelung': 9173, 'wuttke': 9174, 'kerstinm': 9175, 'bezahlte': 9176, 'moscheebau': 9177, 'eingeweiht': 9178, 'wahrheitswelle': 9179, 'getaeuscht': 9180, 'inszenie': 9181, 'staatenlos': 9182, 'lebendigkeit': 9183, 'nationalstaatlichen': 9184, 'kippatag': 9185, 'verdunkeln': 9186, 'neuschwabenlandtreffen': 9187, 'ringheiligtum': 9188, 'poemmelte': 9189, 'germanischer': 9190, 'krafto': 9191, 'guterres': 9192, 'coudenhove': 9193, 'kalergi': 9194, 'delors': 9195, 'karlspreis': 9196, '1918': 9197, 'sieger': 9198, 'tanzt': 9199, 'verbotene': 9200, 'ergreifung': 9201, 'drittklassigen': 9202, 'kunstmalers': 9203, 'wahlmanipulation': 9204, 'fabio': 9205, 'kommentie': 9206, 'eva': 9207, 'leugnen': 9208, 'meinungssperre': 9209, 'oehringen': 9210, 'vereinswahl': 9211, 'krasses': 9212, 'entsperrung': 9213, 'einstweiligen': 9214, 'rechtsschutz': 9215, 'gesinnungshaft': 9216, 'sprengkraft': 9217, 'entlarvt': 9218, '76': 9219, 'halts': 9220, 'wahlkrampf': 9221, 'geisteskrankheiten': 9222, 'vernunftkraft': 9223, 'windwahn': 9224, 'innenamt': 9225, 'hoehepunkt': 9226, 'hologramm': 9227, 'countdown': 9228, 'schockvideo': 9229, 'tyrannei': 9230, 'stalingrad': 9231, 'menschenrechtler': 9232, 'wilfried': 9233, 'schmitz': 9234, 'betreibt': 9235, 'voelkermord': 9236, 'schultze': 9237, 'rhonhof': 9238, 'weltkrieges': 9239, 'lamya': 9240, 'kaddor': 9241, 'klatsche': 9242, 'bruestet': 9243, 'briefkastenfirma': 9244, 'ungern': 9245, 'antreten': 9246, 'pinkcrazypony': 9247, 'paedophilenpa': 9248, '190611': 9249, 'ots': 9250, 'unverhohlene': 9251, 'drohung': 9252, 'unglaubliches': 9253, 'zerstoerungswerk': 9254, 'zwangsfinanzie': 9255, 'propagandaeinrichtungen': 9256, 'parlamentarismus': 9257, 'abscheulicher': 9258, 'auslaenderkriminalitaet': 9259, 'freiwild': 9260, 'belehren': 9261, 'gehirn': 9262, 'siegt': 9263, 'terroristische': 9264, 'islamistische': 9265, 'ideologi': 9266, 'filmkulisse': 9267, 'sinnen': 9268, 'schwerem': 9269, 'haftstrafe': 9270, 'hunger': 9271, 'kaese': 9272, 'stahl': 9273, 'volks': 9274, 'eingereiste': 9275, 'sozialtouristen': 9276, 'samthandschuhen': 9277, 'buecherverbrennung': 9278, 'jugendgefaehrdenden': 9279, 'schriften': 9280, 'projizieren': 9281, 'besessen': 9282, '800000': 9283, 'rechtsordnung': 9284, 'zersetzung': 9285, 'pur': 9286, 'bekaempfe': 9287, 'gaskammern': 9288, 'amtlich': 9289, 'hirnschwach': 9290, 'karin': 9291, 'bloedha': 9292, 'ueberlaufen': 9293, 'dominie': 9294, 'zahlenmaessig': 9295, 'traudich': 9296, 'quadrateule': 9297, 'verhuetung': 9298, 'haram': 9299, 'unterhalt': 9300, 'spektakulaerer': 9301, 'wuerfe': 9302, 'plattling': 9303, 'verbarrikadieren': 9304, 'abfackelten': 9305, 'beginne': 9306, 'schokopudding': 9307, 'wenigen': 9308, 'inbruenstig': 9309, 'angesungen': 9310, 'sarahconnorfc': 9311, 'perfidesten': 9312, 'schoepfungen': 9313, 'junta': 9314, 'selbstbezeichnung': 9315, 'free': 9316, 'freetv': 9317, 'boykottmsm': 9318, 'ureinwohnern': 9319, 'auslaendischen': 9320, 'hoffnungstraegern': 9321, 'ueberraschungen': 9322, 'mordprozess': 9323, 'kenia': 9324, 'abspricht': 9325, 'harvad': 9326, 'beschuldigt': 9327, 'bezueglich': 9328, 'glasklar': 9329, 'multikultureller': 9330, 'schulschwaenzerin': 9331, 'waffel': 9332, 'geschichtsbuechern': 9333, 'ausschreitungen': 9334, 'robust': 9335, 'berufsdemonstranten': 9336, 'polizeiwagen': 9337, 'anfahren': 9338, 'erschrecken': 9339, 'selbstgeisselung': 9340, 'ashurafest': 9341, 'jeweiligen': 9342, 'bewohnenden': 9343, 'erfolgen': 9344, 'umbau': 9345, 'stalinistisches': 9346, 'verbirgt': 9347, 'geringerer': 9348, 'allseits': 9349, 'george': 9350, 'eilose': 9351, 'bissmann': 9352, 'aufzusetzen': 9353, 'geistliche': 9354, 'saat': 9355, 'terroranschlaegen': 9356, 'srilankaterrorattack': 9357, 'le': 9358, 'pen': 9359, 'putzt': 9360, 'bombenleger': 9361, 'algerier': 9362, 'ironischer': 9363, 'klimafragen': 9364, 'schulstreiks': 9365, 'fitten': 9366, 'beobachtet': 9367, 'mimik': 9368, 'goldenedekade': 9369, 'buntedekade': 9370, 'diversityday': 9371, 'gelangen': 9372, 'schaufenster': 9373, 'puppen': 9374, 'kaufte': 9375, 'zps': 9376, 'goldmuenzen': 9377, 'oe24at': 9378, 'aeusserste': 9379, 'verleitet': 9380, 'wurdest': 9381, 'rehabilitation': 9382, 'klimaaktivist': 9383, 'arnold': 9384, 'schwarzenegger': 9385, 'achtet': 9386, 'stromverbrauch': 9387, 'kauft': 9388, 'sprecht': 9389, 'geschwurbel': 9390, 'schaftssystems': 9391, 'systemwechsel': 9392, 'taeuschen': 9393, 'zurueckerobern': 9394, 'emotionaler': 9395, 'inschulz': 9396, 'bruellt': 9397, 'eifreund': 9398, 'hochjazzen': 9399, 'erguesse': 9400, 'beitragstaeter': 9401, 'gekoepft': 9402, 'enthauptungen': 9403, 'betete': 9404, 'reumuetig': 9405, 'vergnuegen': 9406, 'spinnerei': 9407, 'waffengewalt': 9408, 'durchsetzbar': 9409, 'langen': 9410, 'bahnhofshalle': 9411, 'gluecklicher': 9412, 'libanese': 9413, 'kruemmt': 9414, 'wahrsten': 9415, 'steuersklaven': 9416, 'center': 9417, 'seht': 9418, 'trip': 9419, 'ueberlassen': 9420, '1938': 9421, 'erfuellt': 9422, 'alteingesessenen': 9423, 'drogenhandel': 9424, 'vlogger': 9425, 'professionellen': 9426, 'agentur': 9427, 'machtjanix23': 9428, 'geplagter': 9429, 'junke': 9430, 'stammelt': 9431, 'sympathische': 9432, 'alkoholiker': 9433, 'junckereu': 9434, 'jara': 9435, 'mobben': 9436, 'schlitzen': 9437, 'geringsten': 9438, 'anzurichten': 9439, 'auslandspresse': 9440, 'scheut': 9441, 'kapitulation': 9442, 'sensationelles': 9443, 'viktor': 9444, 'orban': 9445, 'zufaelligerweise': 9446, 'zaubern': 9447, 'fallt': 9448, 'besoffener': 9449, 'investoren': 9450, 'rechtsstaatlich': 9451, 'durchgeknallte': 9452, 'herbei': 9453, 'erstaunlicherweise': 9454, 'kleingedruckten': 9455, 'skandalieren': 9456, 'pruegelte': 9457, 'bruellte': 9458, 'sawasanchebli': 9459, 'bedeutungen': 9460, 'wiederholte': 9461, 'rechtskonform': 9462, 'ablaufen': 9463, 'reiner': 9464, 'machtgier': 9465, 'wegnehmen': 9466, 'europaparlaments': 9467, 'europaparl': 9468, 'blonden': 9469, 'ten': 9470, 'cocktail': 9471, 'betonte': 9472, 'zuzulassen': 9473, 'medial': 9474, 'nochmals': 9475, 'angesprochenen': 9476, 'handelte': 9477, '201a': 9478, 'mitziehen': 9479, 'verunglimpfte': 9480, 'oligarch': 9481, 'vermeintliche': 9482, 'bittet': 9483, 'herausgabe': 9484, 'urheber': 9485, 'quellenschutz': 9486, 'meinst': 9487, 'wodka': 9488, 'hurensoehne': 9489, 'notorious': 9490, 'entscheidungshilfe': 9491, 'gefoente': 9492, 'gangsta': 9493, 'rapper': 9494, 'taliban': 9495, 'eimitgliedschaft': 9496, 'exgruene': 9497, 'enthuellungen': 9498, 'arminwolf': 9499, 'getrueffelt': 9500, 'neuigkeitswe': 9501, 'laecherlicher': 9502, 'verzweiflungs': 9503, 'inquisitoren': 9504, 'unerwuenschtes': 9505, 'timmermanseu': 9506, 'vorzugehen': 9507, 'gerichte': 9508, 'schere': 9509, 'kaempften': 9510, 'frauenleiche': 9511, 'vordringen': 9512, 'minder': 9513, 'geholt': 9514, 'raetselhaft': 9515, 'br24': 9516, 'gewisser': 9517, 'raetseln': 9518, 'imzentrum': 9519, 'zwischenfall': 9520, 'verschweigt': 9521, 'passende': 9522, 'europaweit': 9523, 'pardon': 9524, 'populistischer': 9525, 'raender': 9526, 'einzudaemmen': 9527, 'wiesbaden': 9528, 'zusammengeschlagen': 9529, 'tina': 9530, 'tinas': 9531, 'vilshofen': 9532, 'sinzheim': 9533, 'schwarzwald': 9534, 'dunkelhaeutige': 9535, 'lady': 9536, 'abstecher': 9537, 'schulhof': 9538, 'buettel': 9539, 'misthaufen': 9540, 'kurzmussweg': 9541, 'anschlages': 9542, 'linkspresse': 9543, 'respektabel': 9544, 'deutungshoheit': 9545, 'denunzianten': 9546, 'aufgehetzt': 9547, 'suenden': 9548, 'aufdecken': 9549, 'winkt': 9550, 'klimaspinner': 9551, 'rausgehe': 9552, 'befinde': 9553, 'bessermenschenparanoia': 9554, 'morgenluft': 9555, 'entfliehen': 9556, 'buntlinge': 9557, 'merk': 9558, 'fcknazis': 9559, 'wundere': 9560, 'waehnen': 9561, '1athom': 9562, 'ernstes': 9563, 'drachenlord': 9564, 'rainer': 9565, 'winkler': 9566, 'utrecht': 9567, 'goekmen': 9568, 'tanis': 9569, 'farblich': 9570, 'verkaufsplaetze': 9571, 'zugewiesen': 9572, 'singen': 9573, 'zuckersuesse': 9574, 'kinderfest': 9575, 'abhacken': 9576, 'einflussreichsten': 9577, 'akteure': 9578, 'heult': 9579, 'winning': 9580, 'erlegte': 9581, 'ueberraschenderweise': 9582, 'spitzentagen': 9583, 'wolfsburg': 9584, 'niedergeschossen': 9585, 'naehere': 9586, 'thuer': 9587, 'eintreffenden': 9588, 'afdler': 9589, 'grenzenlos': 9590, 'bildern': 9591, 'bossa': 9592, 'londons': 9593, 'oberster': 9594, 'sadiq': 9595, 'khan': 9596, 'staatsbankett': 9597, 'buckinghampalace': 9598, 'ausgeladen': 9599, 'aufatmen': 9600, 'hebelt': 9601, 'genferkonvention': 9602, 'besche': 9603, 'weitgehende': 9604, 'bleiberechte': 9605, 'marokkanische': 9606, 'rapperin': 9607, 'juju': 9608, 'anekdoten': 9609, 'scheissegal': 9610, 'christina': 9611, 'schuetteln': 9612, 'wepper': 9613, 'hausverbot': 9614, 'club': 9615, 'androhen': 9616, 'preisbremse': 9617, 'ungeduldig': 9618, 'neuansiedlung': 9619, 'servustv': 9620, 'liebes': 9621, 'servus': 9622, 'staffel': 9623, 'serie': 9624, 'trakehnerblut': 9625, 'joesiprokopetz': 9626, 'dolezal': 9627, 'kolonovits': 9628, 'musikalische': 9629, 'poetische': 9630, 'unterhaltung': 9631, 'bergamo': 9632, 'unentgeltlich': 9633, 'gemeinnuetzige': 9634, 'amuesant': 9635, 'selfies': 9636, 'schmeckt': 9637, 'oute': 9638, 'sexist': 9639, 'fordernd': 9640, 'motorboote': 9641, 'fliege': 9642, 'raeuber': 9643, 'kumpels': 9644, 'brenzlig': 9645, 'erzuernt': 9646, 'ensterben': 9647, 'perfekten': 9648, 'anstrebt': 9649, 'campingplatz': 9650, 'futter': 9651, 'drall': 9652, 'snowflake': 9653, 'olivia': 9654, 'frey55': 9655, 'eingesetzte': 9656, 'werbespot': 9657, 'sequenz': 9658, 'einarbeiten': 9659, 'auspeitscht': 9660, 'zwangsverheiratet': 9661, 'mutte': 9662, 'student': 9663, 'grundlos': 9664, 'potentiell': 9665, 'lebensgefaehrlich': 9666, 'opferblut': 9667, 'spritzt': 9668, 'sachbeschaedigung': 9669, 'hochzuladen': 9670, 'systemkritiker': 9671, 'totfahren': 9672, 'publizistische': 9673, 'verstaatlichen': 9674, 'ute': 9675, 'geprueft': 9676, 'blutende': 9677, 'privatga': 9678, 'auftauchte': 9679, 'stichverletzung': 9680, 'drogenrausch': 9681, 'knallte': 9682, 'glastisch': 9683, 'puh': 9684, 'fleissigen': 9685, 'geacke': 9686, 'gebuckelt': 9687, 'abgespeist': 9688, 'leergut': 9689, 'stromkosten': 9690, '49': 9691, 'dieselkosten': 9692, 'q5': 9693, 'erscheint': 9694, 'untergetaucht': 9695, 'ladung': 9696, 'zugestellt': 9697, 'bedaue': 9698, 'umzingelt': 9699, 'geklatscht': 9700, 'headline': 9701, 'formulieren': 9702, 'libanon': 9703, 'abgezweigt': 9704, 'mohammeds': 9705, 'blass': 9706, 'vorkommen': 9707, 'niet': 9708, 'nagelfest': 9709, 'b0105': 9710, 'krk979': 9711, 'lsteinwandter': 9712, 'geschaetzt': 9713, 'eygui': 9714, 'res': 9715, 'vollstaendigkeit': 9716, 'eigena': 9717, 'kurzschluesse': 9718, 'buergermeisters': 9719, 'palmer': 9720, 'realistisch': 9721, 'graphic': 9722, 'credits': 9723, 'suedtirol': 9724, 'weinkeller': 9725, 'erweite': 9726, 'offline': 9727, 'zergehen': 9728, 'beliebige': 9729, 'einzuwandern': 9730, 'kurden': 9731, 'ruesselsheim': 9732, 'streitigkeiten': 9733, 'halskette': 9734, 'spazie': 9735, 'schwerbehinde': 9736, 'geschickten': 9737, 'gegenstaende': 9738, 'bespucken': 9739, 'unverstaendlicher': 9740, 'oster': 9741, 'gottesdienst': 9742, 'minimal': 9743, 'paulskirche': 9744, 'pete': 9745, 'auber': 9746, 'veruebten': 9747, 'empfindliche': 9748, 'niederlage': 9749, 'ukraine': 9750, 'korrupter': 9751, 'poroschenko': 9752, 'vernichtend': 9753, 'ukraineelections2019': 9754, 'anschlaege': 9755, 'zeitgenoessische': 9756, 'anmutiges': 9757, 'minarett': 9758, 'braenden': 9759, 'verzweiflung': 9760, 'durchreise': 9761, 'gehinde': 9762, 'las': 9763, 'durchschauten': 9764, 'betende': 9765, 'abzulenken': 9766, 'maennergruppe': 9767, 'jagt': 9768, 'eingestochen': 9769, 'beliebtesten': 9770, 'schutzsuchenden': 9771, 'betreuern': 9772, 'vergasen': 9773, 'aufschlitzen': 9774, 'vielerlei': 9775, 'nachwuchshoffnung': 9776, 'stefantroendle': 9777, 'nicolabeerfdp': 9778, 'feinden': 9779, 'systems': 9780, 'masken': 9781, 'fratze': 9782, 'sichtbarer': 9783, 'dieselauto': 9784, 'kunterbunten': 9785, 'weggeklatscht': 9786, 'syrischen': 9787, 'messerstecher': 9788, 'abdalrhmen': 9789, 'mindestrentnerin': 9790, 'diebstahl': 9791, 'spielte': 9792, 'aktionskuenstler': 9793, 'rannte': 9794, 'brannte': 9795, 'dulden': 9796, 'tagelanger': 9797, 'ausnahmezustand': 9798, 'granate': 9799, 'abgebrannten': 9800, 'brandschutz': 9801, 'freudenbekundungen': 9802, 'grundrechtes': 9803, 'versammlungsfreiheit': 9804, 'rache': 9805, 'ausgebrochen': 9806, 'minus': 9807, 'einzelverkauf': 9808, 'poschardt': 9809, 'serioesen': 9810, 'sammelbecken': 9811, 'schreibende': 9812, 'aktivsten': 9813, 'muehlheim': 9814, 'aufgebrachte': 9815, 'jene': 9816, 'sozi': 9817, 'zugpferd': 9818, 'dannenberg': 9819, 'lockte': 9820, 'forever': 9821, 'young': 9822, 'unbegleiteter': 9823, 'minderjaehriger': 9824, 'entpuppt': 9825, 'groelenden': 9826, 'entsetzens': 9827, 'ableger': 9828, 'rottet': 9829, 'umzingeln': 9830, 'wagten': 9831, 'bocholt': 9832, 'niederbrennen': 9833, 'smiley': 9834, 'prisonplanet': 9835, 'feuerwehr': 9836, 'durchgedrungen': 9837, 'posaunen': 9838, 'bauarbeiten': 9839, 'verdachtsfaelle': 9840, 'behoerdenchef': 9841, 'abzuziehen': 9842, 'bohei': 9843, 'beobachtung': 9844, 'einstufung': 9845, 'tagesspiegel': 9846, 'larswienand': 9847, 'reinboth': 9848, 'stagswunsch': 9849, 'crowdfunding': 9850, 'wannwennnichtjetzt': 9851, 'wasserrettungsstation': 9852, 'fassade': 9853, 'farbbomben': 9854, 'verunstaltet': 9855, 'zaun': 9856, 'geraete': 9857, 'wahllos': 9858, 'ehrenamtliche': 9859, 'lebensretter': 9860, 'dlrg': 9861, 'abschottungs': 9862, 'zur': 9863, 'gefasele': 9864, 'hidden': 9865, 'champions': 9866, 'weltkonzerne': 9867, 'korrespondentin': 9868, 'netteren': 9869, 'ersparen': 9870, 'geschwistern': 9871, 'durchgefuette': 9872, 'mischpoke': 9873, 'stopft': 9874, 'iilegale': 9875, 'mmwesternhagen': 9876, 'nosbuschdesiree': 9877, 'zukunftsachsen': 9878, 'verbitte': 9879, 'verbieste': 9880, 'missionar': 9881, 'gesorgt': 9882, 'toxische': 9883, 'kriminalitaetsquote': 9884, 'respektvoll': 9885, 'gestaerkt': 9886, 'gesellschaftlich': 9887, 'mdrde': 9888, 'mdrpresse': 9889, 'steimle': 9890, 'vorgestellt': 9891, 'inventar': 9892, 'mitteldeutschlands': 9893, 'heimatforscher': 9894, 'stoerenfried': 9895, 'cdusachsen': 9896, 'jauche': 9897, 'ruehren': 9898, 'zack': 9899, 'diffamieren': 9900, 'niemalscdu': 9901, 'cduwuergt': 9902, 'afdwuergt': 9903, 'linksbuendnis': 9904, 'gr': 9905, 'verschenken': 9906, 'glitzer': 9907, 'plz': 9908, 'gepflanzt': 9909, 'eiche': 9910, 'quarantaene': 9911, 'alaska': 9912, 'schmilzt': 9913, 'sibirien': 9914, 'permafrostboden': 9915, 'unmengen': 9916, 'methan': 9917, 'gespeiche': 9918, 'auftaut': 9919, 'verfolge': 9920, 'esoterikszene': 9921, 'seminar': 9922, 'therapeutischen': 9923, 'defaekation': 9924, 'hochenergiewald': 9925, 'geoeffnetem': 9926, 'schreibtisch': 9927, 'entfernung': 9928, 'eindringlicher': 9929, 'liess': 9930, 'zog': 9931, 'schwanz': 9932, 'konzernen': 9933, 'despoten': 9934, 'bueckling': 9935, 'landsleute': 9936, 'patriotisch': 9937, 'teile': 9938, 'zivilgesellschaft': 9939, 'seenotretter': 9940, 'on': 9941, 'fire': 9942, 'verlaub': 9943, 'zurueckliegende': 9944, 'installation': 9945, 'margeriten': 9946, 'umkraenzte': 9947, 'heldentat': 9948, 'standhaftigkeit': 9949, 'unveroeffentlichten': 9950, 'rumaenischen': 9951, 'schwaenze': 9952, 'scampi': 9953, 'beklagt': 9954, 'hetzerin': 9955, 'durchsuchung': 9956, 'aufwiegler': 9957, 'strohfeuer': 9958, 'malte': 9959, 'kaufmann': 9960, 'durcheinander': 9961, 'dax': 9962, 'dichtgemacht': 9963, 'afdmussweg': 9964, 'afdverbot': 9965, 'afdmachtarbeitslos': 9966, 'rating': 9967, 'unsicherheitsfaktor': 9968, 'investitionen': 9969, 'kloeckners': 9970, 'lobby': 9971, 'umgarnte': 9972, 'foltern': 9973, 'christopher': 9974, 'hirnze': 9975, 'ruemmerung': 9976, 'monatelang': 9977, 'eilsverhandlung': 9978, 'verstoerenden': 9979, 'historisches': 9980, 'beschaemend': 9981, 'korruptionswaechter': 9982, 'europarats': 9983, 'greco': 9984, 'schaerfere': 9985, 'reformen': 9986, 'kreise': 9987, 'braune': 9988, 'schwangerschaften': 9989, 'temporaer': 9990, 'dauerhaft': 9991, 'seitdem': 9992, 'schuhgroessen': 9993, 'riesensauerei': 9994, 'bezieht': 9995, 'gequaelt': 9996, 'getrost': 9997, 'eivorsitzenden': 9998, 'linksstehende': 9999, 'landesverband': 10000, 'tn': 10001, 'bayernspd': 10002, 'nichtregieren': 10003, 'asylindustrie': 10004, 'schulschwaenzer': 10005, 'cducsubt': 10006, 'word': 10007, 'bestehender': 10008, 'erdenbewohner': 10009, 'erzaehle': 10010, 'missbilligende': 10011, 'wegzuziehen': 10012, 'alltagsrassismus': 10013, 'raegt': 10014, 'robby': 10015, 'schlund': 10016, 'arbeite': 10017, 'wahlkreis': 10018, 'ostthueringen': 10019, 'holocaustleugner': 10020, 'hel': 10021, 'parlaments': 10022, 'ineffizienz': 10023, 'durchzusetzen': 10024, 'unkommentie': 10025, 'anwaltes': 10026, 'charakter': 10027, 'sogafd': 10028, 'ehrverletzend': 10029, 'bemuehen': 10030, 'kontroversen': 10031, 'erlaeutern': 10032, 'rubel': 10033, 'schickes': 10034, 'auffallend': 10035, 'schergen': 10036, 'vera': 10037, 'lengsfeld': 10038, 'sichtweise': 10039, 'oeffnung': 10040, 'wanderwitz': 10041, 'jedenfalls': 10042, 'ausgehen': 10043, 'prinzipien': 10044, 'rechtsradikale': 10045, 'sicherheitshalber': 10046, 'werbevideo': 10047, 'ernaehrungsministerin': 10048, 'hatespeaker': 10049, 'regpk': 10050, 'bezug': 10051, 'angebliches': 10052, 'soziales': 10053, 'grundsatz': 10054, 'umfassende': 10055, 'abhandlung': 10056, 'stichpunkte': 10057, 'kriminalstatistik': 10058, '136': 10059, '606': 10060, 'boeselager': 10061, 'kinderheim': 10062, 'persoenlichkeits': 10063, 'urheberrechte': 10064, 'fiete': 10065, 'stegers': 10066, 'demokratische': 10067, 'gerold': 10068, 'anlauf': 10069, 'bundestagsvizepraesident': 10070, 'schlachtbetrieb': 10071, 'sachlichen': 10072, 'korrekten': 10073, 'zeitform': 10074, 'praeteritum': 10075, 'ausrede': 10076, 'zuckerreduzieren': 10077, 'selbstverpflichtung': 10078, 'nichtstun': 10079, 'zuckersteuer': 10080, 'nestle': 10081, 'zucker': 10082, 'gesenkt': 10083, 'buchleser': 10084, 'allgemein': 10085, 'verkehr': 10086, 'circa': 10087, 'bayerische': 10088, 'ebner': 10089, 'faschingskostueme': 10090, 'fraktionsgeldern': 10091, 'ostdeutsches': 10092, 'juso': 10093, 'jensmaierafd': 10094, 'scholl': 10095, 'richtiger': 10096, 'handlungsvorschlag': 10097, 'hasskommentare': 10098, 'vernommen': 10099, 'liessen': 10100, 'spektrum': 10101, 'zuordnen': 10102, 'seltsames': 10103, 'terrorgruppe': 10104, 'freital': 10105, 'vlnr': 10106, 'schneiden': 10107, 'koalitionsgedanken': 10108, 'europaabgeordnete': 10109, 'wohnsitz': 10110, 'gesamt': 10111, '96': 10112, 'josamania': 10113, 'wirimosten': 10114, 'vizekanzler': 10115, 'verbreiteten': 10116, 'aussichtlos': 10117, 'unbestreitbar': 10118, 'tiefgruendige': 10119, 'irgendeine': 10120, 'weibliche': 10121, 'offel': 10122, 'steiss': 10123, 'taetowieren': 10124, 'kommunikationsgenie': 10125, 'boot': 10126, 'bewundernswe': 10127, 'ironie': 10128, 'icrmussdassein': 10129, 'wunderblokk': 10130, 'fraktionschef': 10131, 'nobis': 10132, 'pein': 10133, 'kn': 10134, 'bashed': 10135, 'bdi': 10136, 'kempf': 10137, 'bankenkrise': 10138, 'dieselgate': 10139, 'leitenden': 10140, 'bayram': 10141, 'eidmubarak': 10142, 'einfuehrung': 10143, 'energiesteuer': 10144, 'kernstueck': 10145, 'oekologischen': 10146, 'glaubwuerdigen': 10147, 'klimas': 10148, 'bewahrung': 10149, 'schoepfung': 10150, 'bundespa': 10151, '1995': 10152, 'zurueckindiezukunft': 10153, 'dubiose': 10154, 'unechter': 10155, 'konten': 10156, 'beitraege': 10157, 'tausendfach': 10158, 'weiterverbreiten': 10159, 'involvie': 10160, 'durst': 10161, 'schnaps': 10162, 'konstellation': 10163, 'ep': 10164, 'aufzuklaeren': 10165, 'prassen': 10166, 'champagner': 10167, 'chauffeur': 10168, 'hinausgeschleude': 10169, 'detlev': 10170, '1944': 10171, 'militaerdienstes': 10172, '1964': 10173, '1967': 10174, 'decknamen': 10175, 'bruno': 10176, 'inoffizieller': 10177, 'ronald': 10178, 'bischoff': 10179, 'festhalten': 10180, 'offizier': 10181, 'staatssicherheit': 10182, 'drechsler': 10183, 'enrico': 10184, 'rechtsanwalt': 10185, 'wendejahr': 10186, 'angehoeriger': 10187, 'wachregiments': 10188, 'feliks': 10189, 'dzierzynski': 10190, 'unterstand': 10191, 'szenetypisch': 10192, 'stolpersteine': 10193, 'doragezwitscher': 10194, 'getoeteten': 10195, 'regierungspraesidenten': 10196, 'hereinbrachen': 10197, 'oberbuergermeisterkandidat': 10198, 'wipfel': 10199, 'beschraenkungen': 10200, 'kompetenzen': 10201, 'verfassungsschutzes': 10202, 'verbotsverfahren': 10203, 'pogramm': 10204, 'umgebaut': 10205, 'menschenwuerde': 10206, 'kerngehalt': 10207, 'restriktive': 10208, 'beschraenkt': 10209, 'shwittenafd': 10210, 'verarscht': 10211, 'manipulieren': 10212, 'profi': 10213, 'unvermoegen': 10214, 'unterstreicht': 10215, 'zustimmungswe': 10216, 'langem': 10217, 'prozentpunkte': 10218, 'zukunftmitte': 10219, 'selbsterklae': 10220, 'vollstrecker': 10221, 'selbstjustiz': 10222, 'protestierer': 10223, 'bejubelt': 10224, 'jugendundparlament': 10225, '242': 10226, 'herauszufinden': 10227, 'projektes': 10228, 'angegebenen': 10229, 'snickers': 10230, 'hitler': 10231, 'ech': 10232, 'naecht': 10233, 'aerdnoessen': 10234, 'paedos': 10235, 'befeue': 10236, 'hysterie': 10237, 'verkleiden': 10238, 'checken': 10239, 'bedrohten': 10240, 'indigenen': 10241, 'halbe': 10242, 'bildungsexpe': 10243, 'hoeherer': 10244, 'anzahl': 10245, 'geschlechte': 10246, 'rennung': 10247, 'schulfrieden': 10248, 'kirmes': 10249, 'popcorn': 10250, 'paule': 10251, 'kasseler': 10252, 'evt': 10253, 'privatanschrift': 10254, 'jawoll': 10255, 'ostfrrront': 10256, 'drrrum': 10257, 'defensiv': 10258, 'ausrrrradieren': 10259, 'wehklagen': 10260, 'empfangen': 10261, 'hurr': 10262, 'gebissen': 10263, 'offensiv': 10264, 'beobachtungsstatus': 10265, 'schwadrrronieren': 10266, 'heil': 10267, 'inkorrupt': 10268, 'geteilte': 10269, 'blogs': 10270, 'habs': 10271, 'lenkrad': 10272, 'hinunter': 10273, 'verhafteten': 10274, 'lpdwien': 10275, 'where': 10276, 'are': 10277, 'crowds': 10278, 'rassistischer': 10279, 'menschenverachtung': 10280, 'ueberbieten': 10281, 'liebchen': 10282, 'einseitiges': 10283, 'verzerrung': 10284, 'hinte': 10285, 'uer': 10286, 'charles': 10287, 'opfe': 10288, 'elstunde': 10289, 'insbesondere': 10290, 'angefeindet': 10291, 'maximilian': 10292, 'bach': 10293, 'drpeternagel': 10294, 'ergaenzung': 10295, 'giesst': 10296, 'staatlich': 10297, 'gepruefter': 10298, 'widerliche': 10299, 'dithmarschen': 10300, 'kreisvorstand': 10301, 'spekulieren': 10302, 'anregen': 10303, 'anbei': 10304, 'fuette': 10305, 'fragwuerdigsten': 10306, 'ltby': 10307, 'baal': 10308, 'mitstreiter': 10309, 'asylbewerbern': 10310, 'erzwingen': 10311, 'klimagoeren': 10312, 'klimastreik': 10313, 'funtionie': 10314, 'effektiv': 10315, 'psychogoere': 10316, 'anhaltet': 10317, 'interviewerin': 10318, 'spdfilme': 10319, 'dorothee': 10320, 'baer': 10321, 'beteiligungen': 10322, 'up': 10323, 'kmh': 10324, 'langenstein': 10325, 'zwieberge': 10326, 'monatige': 10327, 'sperre': 10328, 'arbeitsamt': 10329, 'koalitionspa': 10330, 'kleinste': 10331, 'karenzzeit': 10332, 'landet': 10333, 'fraup': 10334, 'zurueckzunehmen': 10335, 'grimms': 10336, 'eder': 10337, 'pumuckl': 10338, 'oper': 10339, '1909': 10340, 'eroeffnet': 10341, 'intendant': 10342, 'tauber': 10343, 'emigrieren': 10344, 'c0106': 10345, 'notddz': 10346, 'mauer': 10347, 'gemeiste': 10348, 'elefanten': 10349, 'porzellanladen': 10350, 'tapsig': 10351, 'boeswillig': 10352, 'panzern': 10353, 'alternativer': 10354, 'tatsaechlicher': 10355, 'lockerer': 10356, 'bayerns': 10357, 'umgeht': 10358, 'entspannungscouchen': 10359, 'weihnachtsfeier': 10360, 'fraktionsgruendungsversammlung': 10361, 'zulagen': 10362, 'ersichtliche': 10363, 'verfassungswidrige': 10364, 'rechtsstaatsfeindlich': 10365, 'irgendein': 10366, 'alledem': 10367, 'schaendlich': 10368, 'sichtfeld': 10369, 'grundlagen': 10370, '9ten': 10371, 'aussetzt': 10372, 'noerglern': 10373, 'villa': 10374, 'bestechlich': 10375, 'gierig': 10376, 'machtgeil': 10377, 'schwulenfeindlich': 10378, 'geheimdienstes': 10379, 'regierungspolitik': 10380, 'vorgeben': 10381, 'monatsende': 10382, 'sagenhaft': 10383, 'katastrophalen': 10384, 'offenkundigen': 10385, 'buendnis': 10386, 'stalinisten': 10387, 'oekopopulisten': 10388, 'annemarie': 10389, 'eigenheim': 10390, 'bothe': 10391, 'igem': 10392, 'hoehlen': 10393, 'schenk': 10394, 'hoehlenmenschen': 10395, 'klimakompetenz': 10396, 'annalena': 10397, 'emission': 10398, 'dauerzugfahrer': 10399, 'inlandsflug': 10400, 'schauspiel': 10401, 'losgeht': 10402, 'germaniastatue': 10403, 'neuhaus': 10404, 'gefallene': 10405, '1870': 10406, 'gedenkkultur': 10407, 'delegationssitzung': 10408, 'hochmotivie': 10409, 'europadelbuonsenso': 10410, 'konkrete': 10411, 'straftatbestaende': 10412, 'anteile': 10413, 'staetten': 10414, 'hallen': 10415, 'arenen': 10416, 'schwimmbaeder': 10417, 'tabellarisch': 10418, 'erfasst': 10419, 'tabelle': 10420, 'breit': 10421, 'schlammschlacht': 10422, 'landespa': 10423, 'kita': 10424, 'traegerverein': 10425, 'regenbogen': 10426, 'schweins': 10427, 'religloeses': 10428, 'ereife': 10429, 'chinesische': 10430, 'horoskop': 10431, 'yearofthepig': 10432, 'humanismus': 10433, 'helicoptercrash': 10434, 'newyork': 10435, 'manhattan': 10436, 'manhattanhelicoptercrash': 10437, 'lazarus06': 10438, '55uli': 10439, 'lanyihunter1': 10440, 'schaftde': 10441, 'tbgstephen': 10442, 'crypt': 10443, 'ghost': 10444, 'ditschi25': 10445, 'lars9596': 10446, 'mickdonner': 10447, 'connybub': 10448, 'kleineclaudia1': 10449, 'furchterregend': 10450, 'material': 10451, 'ausruestung': 10452, 'sinnvoller': 10453, 'mogelpackung': 10454, 'filmt': 10455, 'gewonnene': 10456, 'wahlkampfes': 10457, 'zerstoerungswut': 10458, 'positives': 10459, 'abgewinnen': 10460, 'einsammeln': 10461, 'positivdenken': 10462, 'pop': 10463, 'saengerin': 10464, 'wahlerfolge': 10465, 'schwaecheren': 10466, 'auszulassen': 10467, 'fluechtlingshilfe': 10468, 'gesammelt': 10469, 'verrueckte': 10470, 'border': 10471, 'ueberrumpelung': 10472, 'uebervo': 10473, 'wahlerfolg': 10474, 'psychologischen': 10475, 'politkampagnenfuehrung': 10476, 'rhetorik': 10477, 'steigern': 10478, 'durchhalten': 10479, 'verschleissen': 10480, 'erwiderung': 10481, 'youtubers': 10482, 'plumpen': 10483, 'wahlwerbefilm': 10484, 'trocken': 10485, 'luftspo': 10486, 'lueneburger': 10487, 'flugplatzes': 10488, 'zeichnen': 10489, 'innovationen': 10490, 'kernbrennstoffen': 10491, 'nuklearia': 10492, 'website': 10493, 'waehlermissachtung': 10494, 'industrienation': 10495, 'marode': 10496, 'mrd': 10497, 'identitaetskrise': 10498, 'desh': 10499, 'patriotischen': 10500, 'nutzern': 10501, 'befinden': 10502, 'besetzt': 10503, 'unbeugsamen': 10504, 'bevoelke': 10505, 'sonderpa': 10506, 'ueberbevoelkerung': 10507, 'entwicklungslaendern': 10508, 'stagnation': 10509, 'wahlkampfendspu': 10510, 'lueneburg': 10511, 'launische': 10512, 'weiden': 10513, 'siegel': 10514, 'vorhaengeschloss': 10515, 'wahlurne': 10516, 'laufenden': 10517, 'durchschnittliches': 10518, 'festzuhalten': 10519, 'versifft': 10520, 'saechsische': 10521, 'meissen': 10522, 'mittelsachsen': 10523, 'ergebirgskreis': 10524, 'nordsachsen': 10525, 'bundespressekonferenz': 10526, 'blickte': 10527, 'katastrophe': 10528, 'akkruecktritt': 10529, 'geheimen': 10530, 'sitzungen': 10531, 'zb': 10532, 'morgenlage': 10533, 'berechtigt': 10534, 'seibe': 10535, 'transparenz': 10536, 'dieselverbot': 10537, 'kerze': 10538, 'stickoxide': 10539, 'strassenverkehr': 10540, 'benziner': 10541, 'nahlesruecktritt': 10542, 'fhuhnhaeuser': 10543, 'dummkopf': 10544, 'galileo': 10545, 'werbeslogan': 10546, 'obligatorische': 10547, 'schlauer': 10548, 'nomorepillepalle': 10549, 'weiterreise': 10550, 'kriegswaffen': 10551, 'maerchenbuecher': 10552, '9jaehrige': 10553, 'rekpicard': 10554, 'bundeszenztale': 10555, 'bessern': 10556, 'cduliefe': 10557, 'waehl': 10558, 'netzdb': 10559, 'aufgezwungen': 10560, 'wahlversprechen': 10561, 'wirsindnichtmehr': 10562, 'selbstbestimmt': 10563, 'sachse': 10564, 'brandung': 10565, 'erwaegt': 10566, 'schlaeft': 10567, 'out': 10568, 'misstrauen': 10569, 'drittletzter': 10570, 'depp': 10571, 'abgeschaltet': 10572, 'verwaltungsgericht': 10573, 'chancengleichheit': 10574, 'kleiner': 10575, 'abzuschalten': 10576, 'ausschliessen': 10577, 'interessen': 10578, 'brutalisierung': 10579, 'stemmen': 10580, 'gesetzeskonformen': 10581, 'gesellschaften': 10582, 'statistische': 10583, 'anomalie': 10584, 'religionsfreiheit': 10585, 'politker': 10586, 'volke': 10587, 'verfassungsmaessige': 10588, 'gebunden': 10589, 'versuche': 10590, 'fluechtlingslagern': 10591, 'nahrungsaufnahme': 10592, 'spion': 10593, 'hintermaenner': 10594, 'eindeutig': 10595, 'produktionskosten': 10596, '2008': 10597, 'affen': 10598, 'korrupte': 10599, 'gaehn': 10600, 'vorgeschlagen': 10601, 'mat': 10602, 'eu2019': 10603, 'stadtraetin': 10604, 'halbnacktres': 10605, 'einhorn': 10606, 'kinderrechte': 10607, 'aufwachsen': 10608, 'gefilmtes': 10609, 'gekramt': 10610, 'geheimverhandlungen': 10611, 'verheimlicht': 10612, 'iaikaiaika': 10613, 'jvermessen': 10614, 'konsument': 10615, 'gay': 10616, 'porn': 10617, 'pervers': 10618, 'abwaegig': 10619, 'klargestellt': 10620, 'halskrause': 10621, 'ueberwachung': 10622, 'keinerlei': 10623, 'missgeschick': 10624, 'feinesahnefickgesicht': 10625, 'rrrraechts': 10626, 'hooligans': 10627, 'uebliche': 10628, 'taeterklientel': 10629, 'abwechslung': 10630, 'echtem': 10631, 'lindern': 10632, 'verdammten': 10633, 'monokulturen': 10634, 'verdammte': 10635, 'meldedrecksau': 10636, 'waldumbau': 10637, 'strapazieren': 10638, 'gaengeln': 10639, 'mischwaelder': 10640, 'mica': 10641, 'berlins': 10642, 'behrendt': 10643, 'moabit': 10644, 'vollzaehlig': 10645, 'sauladen': 10646, 'vordermann': 10647, 'publicity': 10648, 'kulturschaffenden': 10649, 'einmischung': 10650, 'juste': 10651, 'gentrifizie': 10652, 'abgehalfte': 10653, 'kuenstlern': 10654, 'weitesgehend': 10655, 'halali': 10656, 'flutschi010': 10657, 'betreuten': 10658, 'widerlicher': 10659, 'systemhuren': 10660, 'wessis': 10661, 'zusammenhalt': 10662, 'bewirken': 10663, 'wahlbeeinflussenden': 10664, 'promi': 10665, 'stigmatisierung': 10666, 'halbwahrheiten': 10667, 'angefangen': 10668, 'profiteure': 10669, 'foerdergelder': 10670, 'abzuzocken': 10671, 'schleimer': 10672, 'dicken': 10673, 'glatt': 10674, 'ausnahme': 10675, 'ubbelohdeberlin': 10676, 'bonanza': 10677, 'schnucki': 10678, 'tatue': 10679, 'tata': 10680, 'vanisch': 10681, 'erleidet': 10682, 'denuzianten': 10683, 'populisten': 10684, 'einfachen': 10685, 'luden': 10686, 'haeuschen': 10687, 'blankenese': 10688, 'sommerfest': 10689, 'nu': 10690, 'poolbereich': 10691, 'geschrubbt': 10692, 'letztes': 10693, 'ferkelei': 10694, 'pool': 10695, 'ceaucescu': 10696, 'kommunist': 10697, 'weihnachtsgans': 10698, 'geendet': 10699, 'abwa': 10700, 'ehemailgen': 10701, 'bekiffte': 10702, 'altlinke': 10703, 'migrantenfreundlichen': 10704, 'buntewelt1966': 10705, 'sprechchor': 10706, 'erlauben': 10707, 'hellsten': 10708, 'beheimatet': 10709, 'rausnehmen': 10710, 'mitgezeugten': 10711, 'foeten': 10712, 'mitreden': 10713, 'islamophobia': 10714, 'bloedheit': 10715, 'tigerkaefig': 10716, 'beweisen': 10717, 'tiger': 10718, 'religionofpeace': 10719, 'anna': 10720, 'ikularisieren': 10721, 'reaktionaerestrohdummelinke': 10722, 'kulturrevolution': 10723, 'unterwerfen': 10724, 'missverstaendliches': 10725, 'unmissverstaendliches': 10726, 'wahlbeeinflussung': 10727, 'nachgesch': 10728, 'yeaaaahhh': 10729, 'trekkingsandalen': 10730, 'tennissocken': 10731, 'besatzerkindern': 10732, 'verhoe': 10733, 'barley': 10734, 'gesundheitsminister': 10735, 'feststellt': 10736, 'schwulsein': 10737, 'behandel': 10738, 'heilbare': 10739, 'deutschlandhasser': 10740, 'regierungsverhaeltnisse': 10741, 'leberwurst': 10742, 'bewachen': 10743, 'verspraeche': 10744, 'dreiste': 10745, 'katrinhleipzig1': 10746, 'schlesier': 10747, 'erschreckte': 10748, 'schlaumeier': 10749, 'oestliche': 10750, 'neisse': 10751, 'historisch': 10752, 'korrekte': 10753, 'pat22344': 10754, 'dievereintenirren': 10755, 'dievereinigtenverwir': 10756, 'fensterplatz': 10757, 'bio': 10758, 'gretchen': 10759, 'doppelkarre': 10760, 'fraktionschefs': 10761, 'kauder': 10762, 'rbrinkhaus': 10763, 'ungeeignet': 10764, 'festlegung': 10765, 'gelehnt': 10766, 'anschaffen': 10767, 'vergesst': 10768, 'waehlergunst': 10769, '1003': 10770, 'befragte': 10771, 'repraesentativ': 10772, 'anani': 10773, 'sikerim': 10774, 'profiltext': 10775, 'tsg1909': 10776, 'hardrock': 10777, 'sanfte': 10778, 'balladen': 10779, 'kuschelsongs': 10780, 'chrisjuko': 10781, 'gepflegte': 10782, 'konversation': 10783, 'darkcat90': 10784, 'deutliche': 10785, 'klarname': 10786, 'abzufackeln': 10787, 'inzestsachen': 10788, 'senilioren': 10789, 'tbreitschneider': 10790, '80zigern': 10791, 'mauerbau': 10792, 'gefluechtet': 10793, 'installie': 10794, 'umvolkung': 10795, 'aktuellem': 10796, 'bruehl': 10797, 'sir': 10798, 'nosbusch': 10799, 'nasen': 10800, 'meinetwegen': 10801, 'kokain': 10802, 'czarymarybum777': 10803, 'grundsolide': 10804, 'mathematik': 10805, 'ansammlung': 10806, 'lebensjahren': 10807, 'altersweisheit': 10808, 'weltnews': 10809, 'versprecher': 10810, 'iiiiiiccchhh': 10811, 'suessigkeiten': 10812, 'heilen': 10813, 'begrabschen': 10814, 'essener': 10815, 'harz': 10816, 'weltkrieg': 10817, 'ausgeloest': 10818, 'ccckamranccc': 10819, 'femaleaga': 10820, 'homophob': 10821, 'integrier': 10822, 'eisbaer': 10823, 'regenwald': 10824, 'duemmer': 10825, 'zeichenbegrenzung': 10826, 'abgehalten': 10827, 'besonderer': 10828, 'erguss': 10829, 'seinerseits': 10830, 'uffbasse': 10831, 'grossmeister': 10832, 'zopfgedoens': 10833, 'unterversorgte': 10834, 'aufmerksamkeitsdefizit': 10835, 'pflegenotstand': 10836, 'zivilen': 10837, 'ungehorsam': 10838, 'endegelaende': 10839, 'hambibleibt': 10840, 'nobelpreis': 10841, 'heer': 10842, 'ueberschaubares': 10843, 'stammbaum': 10844, 'kreisfoermig': 10845, 'ziege': 10846, 'vorkommt': 10847, 'sympathischen': 10848, 'iceland': 10849, 'menschheitsgeschichte': 10850, 'dtpmaker': 10851, 'stammklientel': 10852, 'oekoextremisten': 10853, 'umstimmen': 10854, 'unwissenheit': 10855, 'scheinheiligkeit': 10856, 'ego': 10857, 'eng': 10858, 'zuparken': 10859, 'romane': 10860, 'homophober': 10861, 'bevoelkerungsgruppen': 10862, 'kerlchen': 10863, 'empfindlich': 10864, 'ferner': 10865, 'schadenfreude': 10866, 'truemme': 10867, 'ruppe': 10868, 'glaubst': 10869, 'haeltst': 10870, 'fusspilz': 10871, 'essbares': 10872, 'gruess': 10873, 'baetschi': 10874, 'theowiesengrund': 10875, 'wicht': 10876, 'bemerkt': 10877, 'pispers': 10878, 'stimmrecht': 10879, 'moebusanne': 10880, 'gruenversiffte': 10881, 'hetzern': 10882, 'volksverdummern': 10883, 'contbau': 10884, 'sozialdienst': 10885, 'kachelmann': 10886, 'unserioesitaet': 10887, 'leugner': 10888, 'klimwandels': 10889, 'ausschlagen': 10890, 'lager': 10891, 'vergraetzen': 10892, 'nachvollziehbares': 10893, 'bitte1': 10894, 'soziologie': 10895, 'diplom': 10896, 'sozialpaedagoge': 10897, 'muellman': 10898, 'intellektuell': 10899, 'nachplappern': 10900, 'staatlicher': 10901, 'intellektuelle': 10902, 'altphilologie': 10903, 'benannt': 10904, 'hoeheren': 10905, 'bildungsabschluesse': 10906, 'praxis': 10907, 'anzuwenden': 10908, 'auszurechen': 10909, 'asylbetrueger': 10910, 'erwi': 10911, 'schaften': 10912, 'rauslassen': 10913, 'verkraften': 10914, 'zukuenftig': 10915, 'erlangt': 10916, 'verbinden': 10917, 'hoheitsvoll': 10918, 'schwadronieren': 10919, 'attituede': 10920, 'heraushaengen': 10921, 'christianisie': 10922, 'lenni': 10923, 'volljaehrig': 10924, 'einzublaeuen': 10925, 'zensurschnepfen': 10926, 'tweeten': 10927, 'wohle': 10928, 'volksgruppe': 10929, 'ankara': 10930, 'tuerkenmuschis': 10931, 'schnupfen': 10932, 'abreisen': 10933, 'jubelt': 10934, 'hasspropaganda': 10935, 'pfingstmontag': 10936, 'arbeitsfrei': 10937, 'narrenschiff': 10938, 'fuenfeinhalb': 10939, 'hohoho': 10940, 'muesstet': 10941, 'alterdonauwels': 10942, 'abgeloest': 10943, 'timmermanns': 10944, 'buschkowsky': 10945, 'aufsteigen': 10946, '16jaehrige': 10947, 'autistin': 10948, 'klimageist': 10949, 'begluecken': 10950, 'strang': 10951, 'beschreibe': 10952, 'schultern': 10953, 'gehauen': 10954, 'zuzubinden': 10955, 'gigantische': 10956, 'klimaprofiteur': 10957, 'pusht': 10958, 'denkverboten': 10959, 'hofieren': 10960, 'non': 10961, 'binary': 10962, 'intolerant': 10963, 'depressionen': 10964, 'uebernimmst': 10965, 'standpunkte': 10966, 'feindbilder': 10967, 'welche': 10968, 'drumheadberlin': 10969, 'thegreenrevolution': 10970, 'georgrestle': 10971, 'lie': 10972, 'befuerwo': 10973, 'ungswuerdig': 10974, 'neubauerstbezug': 10975, 'muelltonnen': 10976, 'pfandfkaschen': 10977, 'essbarem': 10978, 'durchsuchen': 10979, 'neigen': 10980, 'statistisch': 10981, 'kennedy': 10982, 'unzulaessig': 10983, 'jana': 10984, 'hensel': 10985, 'agenfm': 10986, 'masche': 10987, 'lenin': 10988, 'trug': 10989, 'sohlen': 10990, 'proletariat': 10991, 'frischen': 10992, 'loechrigen': 10993, 'fetische': 10994, 'schreiberlinge': 10995, 'verstoerender': 10996, 'sommerliche': 10997, 'durchatmen': 10998, 'aufbehalten': 10999, 'gesinnungs': 11000, 'suchennnnnnnnnnnnnn': 11001, 'aschiebehaft': 11002, 'lauinger': 11003, 'entgangen': 11004, 'mitschreiben': 11005, 'denkdefizit': 11006, 'gelobte': 11007, 'erlaesst': 11008, 'unerlaubt': 11009, 'hoheitsgewaesser': 11010, 'mhh': 11011, 'garnix': 11012, 'ehmmm': 11013, 'bloede': 11014, 'hitze': 11015, 'nachgelegt': 11016, 'unverschaemten': 11017, 'hassobjekt': 11018, 'allenthalben': 11019, 'haeme': 11020, 'gutmenschenfraktion': 11021, 'klarkommen': 11022, 'unschoen': 11023, 'bleistift': 11024, 'angesetzt': 11025, 'bewerkstelligen': 11026, 'meinungafreiheit': 11027, 'krampen': 11028, 'knarrenbauer': 11029, 'grins': 11030, 'caligula': 11031, 'ernennt': 11032, 'konsul': 11033, 'baumeln': 11034, 'aufgeladen': 11035, 'fremdfinanzie': 11036, 'zombies': 11037, 'gluecklicherweise': 11038, 'pflanzungsdrang': 11039, 'genderfluides': 11040, 'dasein': 11041, 'babies': 11042, 'bereiten': 11043, 'wahlergebnis': 11044, 'musselschland': 11045, 'leere': 11046, 'ueberwies': 11047, 'steuerkroeten': 11048, 'hinflutschen': 11049, 'hohlnuss': 11050, '100mal': 11051, 'klimakroeta': 11052, 'geistesbehinde': 11053, 'mangels': 11054, 'schulbesuchen': 11055, 'scheinheiliges': 11056, 'doppelgaenger': 11057, 'genf': 11058, 'sozialstandards': 11059, 'anmahnen': 11060, 'erkennungs': 11061, 'prost': 11062, 'zweifelt': 11063, 'widerliches': 11064, 'kleinauf': 11065, 'saudoofendeutschen': 11066, 'schulligung': 11067, 'robbi': 11068, 'absteckst': 11069, 'mittagessen': 11070, 'pflaume': 11071, 'stichtag': 11072, 'blitz': 11073, 'blank': 11074, 'aische': 11075, 'pfingstochse': 11076, 'csd': 11077, 'schleudern': 11078, 'gruenanlagen': 11079, 'kopftuchtraegerinnen': 11080, 'versifften': 11081, 'mina': 11082, 'raeaechten': 11083, 'fit': 11084, 'gemeldet': 11085, 'heisses': 11086, 'spatzen': 11087, 'schrumpfen': 11088, 'klappern': 11089, 'birne': 11090, 'frische': 11091, 'rauchen': 11092, 'tank': 11093, 'rohoel': 11094, 'umd': 11095, 'frisches': 11096, 'waffenoel': 11097, 'inoldgermany': 11098, 'wessi': 11099, 'u17': 11100, 'mannschaft': 11101, 'tus': 11102, 'binzen': 11103, 'landesliga': 11104, 'wurst': 11105, 'klimaschutzgruenden': 11106, 'cr': 11107, 'pes': 11108, 'gehirngewasche': 11109, 'pfingstferien': 11110, 'erlahmenden': 11111, 'elan': 11112, 'fat': 11113, 'siggis': 11114, 'migrationspolitik': 11115, 'ausgehackt': 11116, 'nichtskoennerin': 11117, 'hohlem': 11118, 'toller': 11119, 'fatmann': 11120, 'schmutzig': 11121, 'wueste': 11122, 'teppiche': 11123, 'flicken': 11124, 'steuergelder': 11125, 'arbeitsklamotten': 11126, 'steuren': 11127, 'ranschaffen': 11128, 'nervenheilanstalt': 11129, 'stadtverwaltung': 11130, 'angestellt': 11131, 'speichel': 11132, 'puscht': 11133, 'narzisstischen': 11134, 'callcenter': 11135, 'agenten': 11136, 'langgeht': 11137, 'beschreiben': 11138, 'klimaschutzprojekt': 11139, 'waehrendzahlen': 11140, 'islamistischer': 11141, 'terrorverfahren': 11142, 'ansteigen': 11143, 'sicherheitsbehoerden': 11144, 'kriminalisierung': 11145, 'veranstaltete': 11146, 'aktionstag': 11147, 'fuellen': 11148, 'dick': 11149, 'gebesse': 11150, 'scheisshaufen': 11151, 'niemalsssssssssssssssss': 11152, 'streicheleinheiten': 11153, 'streicheln': 11154, 'nackter': 11155, 'trieb': 11156, 'eselgehege': 11157, 'herum': 11158, 'besitzerin': 11159, 'eselgeheges': 11160, 'wienerwald': 11161, 'erwischte': 11162, 'unbekleideten': 11163, 'herumtrieb': 11164, 'raecchten': 11165, 'sommerbaeder': 11166, 'ganoven': 11167, 'brutalo': 11168, 'umschreibungen': 11169, 'phaenotypen': 11170, '3785': 11171, 'zusammengesetzt': 11172, 'kindergeld': 11173, '83': 11174, 'zurueckgezahlt': 11175, 'aufgewendet': 11176, 'that': 11177, 'offeln': 11178, 'markieren': 11179, 'kuschen': 11180, 'einscheissen': 11181, 'stinkende': 11182, 'bruehe': 11183, 'auszudruecken': 11184, 'datt': 11185, 'nachruf': 11186, 'begeiste': 11187, 'had': 11188, 'share': 11189, 'this': 11190, 'saubloed': 11191, 'ala': 11192, 'kardashians': 11193, 'spargelstecher': 11194, 'privater': 11195, 'chat': 11196, 'rassie': 11197, 'rin': 11198, 'stroemen': 11199, '13uhr': 11200, 'ansturm': 11201, 'abzufassen': 11202, 'doofenschlafmichel': 11203, 'rammeln': 11204, 'ehm': 11205, 'esco': 11206, '900': 11207, 'carsharing': 11208, 'liebling': 11209, 'leichen': 11210, 'ungestoe': 11211, 'stuhl': 11212, 'kleben': 11213, 'machterhalt': 11214, 'jedenpreis': 11215, 'verschissenen': 11216, 'tattos': 11217, 'verblasst': 11218, 'kapitaen': 11219, 'terrassenmoerder': 11220, 'versauen': 11221, 'wochenteiler': 11222, 'thursday': 11223, 'brueller': 11224, 'monats': 11225, 'fahr': 11226, 'steige': 11227, 'strassenbahn': 11228, 'lichtblick': 11229, 'shoppen': 11230, 'koryphaee': 11231, 'sooooooooooo': 11232, 'egoist': 11233, 'saeugling': 11234, 'mami': 11235, 'gesoffen': 11236, 'interpretieren': 11237, 'visuelles': 11238, 'asylkritiker': 11239, 'aufrief': 11240, 'auffassung': 11241, 'sippe': 11242, 'oberhausen': 11243, 'wahrscheinlichkeit': 11244, 'zaelht': 11245, 'fachkraft': 11246, 'rvergessen': 11247, 'oeffters': 11248, 'schmierigen': 11249, 'tagtaeglichen': 11250, 'sonstigen': 11251, 'religions': 11252, 'miterleben': 11253, 'blutigst': 11254, 'mitverspueren': 11255, 'saarland': 11256, 'letztemuell': 11257, 'maessig': 11258, 'kerle': 11259, 'mmmmhhhhhhhhhh': 11260, 'flugblaetter': 11261, 'hochzeits': 11262, 'korsos': 11263, 'geistes': 11264, 'schwimmbaedern': 11265, 'comic': 11266, 'falschfluechtlings': 11267, 'gruenextremisten': 11268, 'schikanieren': 11269, 'kasse': 11270, 'zeigefinger': 11271, 'strecken': 11272, 'vorbildhaften': 11273, 'lebensfuehrung': 11274, 'favorit': 11275, '3stelliges': 11276, 'minusbereich': 11277, 'alptraum': 11278, 'wahlhelfer': 11279, 'flockig': 11280, 'zoo': 11281, 'toenen': 11282, 'paketdienst': 11283, 'zulieferung': 11284, 'zufriedenheit': 11285, 'reschpekt': 11286, 'unterhemd': 11287, 'zoogestell': 11288, 'stabiler': 11289, 'antonia': 11290, 'sympathisie': 11291, 'jahresausstellung': 11292, 'gescheiter': 11293, 'deutschkurs': 11294, 'akademikerdeutsch': 11295, 'gegenkandidat': 11296, 'bekennender': 11297, 'masochist': 11298, 'lederhaube': 11299, 'masochistischen': 11300, 'rummelboxerin': 11301, 'hauen': 11302, 'klappte': 11303, 'schlechtesten': 11304, 'kloster': 11305, 'angefressen': 11306, 'vorstand': 11307, 'auftaucht': 11308, 'leichenwagen': 11309, 'endet': 11310, 'bestreiten': 11311, 'untergeschoben': 11312, 'freigesprochen': 11313, 'vorprogrammie': 11314, 'mallorca': 11315, 'jetterin': 11316, 'bindencharlotte': 11317, 'viva': 11318, 'plapperrunde': 11319, 'verbotsleder': 11320, 'sandwich': 11321, 'gewoehnen': 11322, 'riskieren': 11323, 'missratenen': 11324, 'pc': 11325, 'hocken': 11326, 'schluepper': 11327, 'termine': 11328, 'ersatzschluepper': 11329, 'heilsbringer': 11330, 'adolf': 11331, 'harem': 11332, 'hermine': 11333, 'speckfresse': 11334, 'uhhh': 11335, 'schandal': 11336, 'drang': 11337, 'bismarckstrasse': 11338, 'wattenscheid': 11339, 'durchsuchten': 11340, 'mehrereschraenke': 11341, 'klautenschmuck': 11342, 'polizeispo': 11343, 'geschissenen': 11344, 'unterhosen': 11345, 'bananen': 11346, 'holster': 11347, 'sprint': 11348, 'weglaufen': 11349, 'neuezeichen': 11350, '2204': 11351, 'kalifat': 11352, 'reingeschissen': 11353, 'raeaechte': 11354, 'jahresstatistik': 11355, 'delikten': 11356, 'reingerechnet': 11357, 'missionarin': 11358, 'polkappe': 11359, 'antarktischen': 11360, 'eises': 11361, 'bloedfisch': 11362, 'trabi': 11363, 'mitfaeh': 11364, 'saechsisch': 11365, 'wers': 11366, 'haendler': 11367, 'schaffe': 11368, 'linksversifften': 11369, 'asylschmarotzer': 11370, 'totfahrer': 11371, 'buergermeisterin': 11372, 'weberlein': 11373, 'bubi': 11374, 'besinnlichkeit': 11375, 'wischlappen': 11376, 'abgreifen': 11377, 'samstagabend': 11378, 'ozean': 11379, 'poetten': 11380, 'teich': 11381, 'unterbelichtet': 11382, 'statistikfehler': 11383, 'arbeitslosenzahlen': 11384, 'rechenfehler': 11385, 'datenueberpruefung': 11386, 'naeheres': 11387, 'herausgefunden': 11388, 'stecher': 11389, 'strassenrand': 11390, 'lindenberg': 11391, 'sattelschleppern': 11392, 'saufkopp': 11393, 'schoe': 11394, 'overcrowding': 11395, 'planetenklima': 11396, 'overcrowdete': 11397, 'begruesse': 11398, 'schnablg': 11399, 'tagesanzeiger': 11400, 'rationalen': 11401, 'argumenten': 11402, 'utopikern': 11403, 'beizukommen': 11404, 'alexand22627607': 11405, 'stalin': 11406, 'bestens': 11407, 'lokishaustier': 11408, 'gesunder': 11409, 'menschenverstand': 11410, 'krankenkassewebung': 11411, 'krankenkassen': 11412, 'schamlos': 11413, 'verdienst': 11414, 'allargentuma': 11415, 'nzzas': 11416, 'hinzuzufuegen': 11417, 'schrecken': 11418, 'autobahn': 11419, 'nahkaempfer': 11420, 'raeaeaechts': 11421, 'frisoer': 11422, 'topfschnitt': 11423, 'taeters': 11424, 'gefickifickit': 11425, 'homevideo': 11426, 'ziegenfell': 11427, 'typis': 11428, 'mac': 11429, 'igfrass': 11430, 'wegwerfwindeln': 11431, 'rumschwaetzen': 11432, 'tempokontrolle': 11433, 'schwyzer': 11434, 'brette': 11435, '176': 11436, 'zuercherland': 11437, 'lz': 11438, 'sp': 11439, 'ahv': 11440, 'fabiokunz21': 11441, 'ceo': 11442, 'ch': 11443, 'gelacht': 11444, 'juristen': 11445, 'gesundheitskosten': 11446, 'respektable': 11447, 'wahrheiten': 11448, 'unterstuetze': 11449, 'zurueckzutreten': 11450, 'klimahysteriker': 11451, 'lest': 11452, 'vm': 11453, 'getto': 11454, 'bluster': 11455, 'acdc': 11456, 'rammstein': 11457, 'wiedermal': 11458, 'klimafreundlichen': 11459, 'natuerlichen': 11460, 'pfaffen': 11461, 'grossveranstaltungen': 11462, 'muselss': 11463, 'groessen': 11464, 'heut': 11465, 'lebensbereiche': 11466, 'juckt': 11467, 'goldgraeber': 11468, 'dumpfbacken': 11469, 'diktaturen': 11470, 'schwaerzer': 11471, 'umweltbewusste': 11472, 'jupigesellschaft': 11473, 'wirklichem': 11474, 'umweltbewusstsein': 11475, 'differenz': 11476, 'zwischen': 11477, 'bekloppter': 11478, 'schiesse': 11479, 'jungschen': 11480, 'verbloeden': 11481, 'gotteskrieger': 11482, 'pluendern': 11483, 'vollversorgung': 11484, 'abu': 11485, 'hoehststrafe': 11486, 'fraglich': 11487, 'linksgruenengutmenschenpolitiker': 11488, 'ersaufen': 11489, 'normalo': 11490, 'herkommt': 11491, 'grau': 11492, 'mithilfe': 11493, 'bevormunderin': 11494, 'euzi': 11495, 'bumerang': 11496, 'haufenweise': 11497, 'stimmzettel': 11498, 'vorzugsstimmen': 11499, 'linksmedien': 11500, 'boehmermanns': 11501, 'weissglut': 11502, 'kommissionspraesidenten': 11503, 'fruehsexualisierungs': 11504, 'phantasien': 11505, 'sturm': 11506, 'eilungs': 11507, 'garnie': 11508, 'fremdenhass': 11509, 'anhaengern': 11510, 'selbsterhaltungs': 11511, 'ueberlebenswille': 11512, 'traumatischer': 11513, 'durchgreifen': 11514, 'arzberg': 11515, 'beobachtungsgabe': 11516, 'wimmelt': 11517, 'uniformie': 11518, 'neonazis': 11519, 'froehlich': 11520, 'parks': 11521, 'herumlunge': 11522, 'geisteszustand': 11523, 'ueberpruefen': 11524, 'prozessfaehig': 11525, 'lacht': 11526, 'faschos': 11527, 'frohepfingsten': 11528, 'alkoholische': 11529, 'melissengeist': 11530, 'blutbahn': 11531, 'kenntnisse': 11532, 'nachhilfe': 11533, 'erasmusstiftung': 11534, 'erwaegen': 11535, 'spendenkasse': 11536, 'haushaltskasse': 11537, 'neid': 11538, 'intelligent': 11539, 'sympathisch': 11540, 'ausgang': 11541, 'pfleger': 11542, 'organisatorische': 11543, 'meisterleistung': 11544, 'ausrueckt': 11545, 'kulturmarxisten': 11546, 'medikamente': 11547, 'reinhoeren': 11548, 'unaussprechliche': 11549, 'betaetigungsfeld': 11550, 'reichenspo': 11551, 'toedlicher': 11552, 'stau': 11553, 'mount': 11554, 'everest': 11555, 'unaufhaltsamen': 11556, 'miasemper': 11557, 'waehlerinnen': 11558, 'hoeflichst': 11559, 'gebeten': 11560, 'stillzulegen': 11561, 'veraeussern': 11562, 'energieversorger': 11563, 'postenschacher': 11564, 'wahlverlierer': 11565, 'poestchen': 11566, 'jaja': 11567, 'verhungere': 11568, 'kasperle': 11569, 'hochsaison': 11570, 'buergerpark': 11571, 'rieben': 11572, 'totgemacht': 11573, 'unbeschwe': 11574, 'dealen': 11575, 'gerd': 11576, 'ittner': 11577, 'axel': 11578, 'schlimper': 11579, 'linksradikalezensur': 11580, 'loeschungswelle': 11581, 'redakteurin': 11582, 'agen': 11583, 'bruellaffen': 11584, 'negroiden': 11585, 'pendelschlag': 11586, 'reichsdeutschen': 11587, '344': 11588, 'treffen1': 11589, 'verstrahlt': 11590, 'mediziners': 11591, 'eintritt': 11592, 'denk': 11593, 'wahrhaftig': 11594, 'manch': 11595, 'transparente': 11596, 'beteue': 11597, 'ausfaellt': 11598, 'spahn': 11599, 'anhoeren': 11600, 'duemmsten': 11601, 'kaelber': 11602, 'metzger': 11603, 'bittere': 11604, 'blamabel': 11605, 'rissige': 11606, 'eingebuerge': 11607, 'beleibt': 11608, 'rechtschaffenen': 11609, 'ernaeh': 11610, 'graust': 11611, 'sklavenhaltergesellschaft': 11612, 'goldstueckchen': 11613, 'gelobten': 11614, 'friedensreligion': 11615, 'gefaeh': 11616, 'monokultur': 11617, 'stroh': 11618, 'rumsuelzen': 11619, 'russischen': 11620, 'verweht': 11621, 'wahrheitsverdrehung': 11622, 'pfui': 11623, 'politzirkus': 11624, 'profiteuren': 11625, 'allemal': 11626, 'raushaut': 11627, 'versagern': 11628, 'schwaetzen': 11629, 'ueberlegte': 11630, 'verifizie': 11631, 'versi': 11632, 'orwell': 11633, 'komische': 11634, 'luegenpropaganda': 11635, 'kotzkotz': 11636, 'schwebten': 11637, 'nordlandtv': 11638, 'survival': 11639, 'wolfszeit': 11640, 'wissenschaftsbetrueger': 11641, 'rausschmeissen': 11642, 'mauna': 11643, 'loa': 11644, 'amthor': 11645, 'kompl': 11646, 'verschwoerungspraktiken': 11647, '051': 11648, 'migrationist': 11649, 'unruhe': 11650, 'niedergehobelte': 11651, 'lahmgelegte': 11652, 'tuerkischen': 11653, 'libanesischer': 11654, 'verdrecken': 11655, 'rupp': 11656, 'versiche': 11657, 'eingehalten': 11658, 'moralischem': 11659, 'rang': 11660, 'froemmigkeit': 11661, '20th': 11662, 'century': 11663, 'world': 11664, 'please': 11665, 'write': 11666, 'truth': 11667, 'cankaoxiaoxicp': 11668, 'washingtonpost': 11669, 'timesofindia': 11670, 'dailymailuk': 11671, 'yomiuri': 11672, 'gruenenmafia': 11673, 'zwangseinwanderung': 11674, 'thomashitz': 11675, 'redet': 11676, 'blinder': 11677, 'fussballverstand': 11678, 'schneider': 11679, 'abstiegsgaranten': 11680, 'urheberrecht': 11681, 'spiegelonlineregierungstreuer': 11682, 'zwangsfinanzierer': 11683, 'einzuhalten': 11684, 'unkonsumierbar': 11685, 'serviler': 11686, 'uebelsten': 11687, 'schweswig': 11688, 'solide': 11689, 'sozipa': 11690, 'eikollege': 11691, 'goutieren': 11692, 'morbus': 11693, 'unterdrueckt': 11694, 'totschlagen': 11695, 'besingen': 11696, 'asly': 11697, 'sachsenwahl': 11698, 'sozilette': 11699, 'sehnlichst': 11700, 'meineidverein': 11701, 'ekelerregend': 11702, 'kinderficker': 11703, 'uebles': 11704, 'hinterhofmoscheen': 11705, 'integrationspolitische': 11706, 'schrittweise': 11707, 'verdraengung': 11708, 'gedicht': 11709, 'schmaehgedicht': 11710, 'unterlassungsklage': 11711, 'abgewiesen': 11712, 'blasphemie': 11713, 'reinkultur': 11714, 'plaedieren': 11715, 'sanctuary': 11716, 'cities': 11717, 'unterbringen': 11718, 'empoerend': 11719, 'verstoerende': 11720, 'dubliner': 11721, 'bergen': 11722, 'adha': 11723, 'lamm': 11724, 'durchschneiden': 11725, 'barbarei': 11726, 'gemetzels': 11727, 'fu': 11728, 'fruehester': 11729, 'steinzeit': 11730, 'integrieren': 11731, 'lueftung': 11732, 'stingt': 11733, 'kochtopf': 11734, 'abteilung': 11735, 'qualitaetskontrolle': 11736, 'shopkeeper': 11737, 'turkey': 11738, 'finds': 11739, 'husky': 11740, 'pup': 11741, 'hea': 11742, 'beat': 11743, 'manages': 11744, 'revive': 11745, 'him': 11746, 'denkweise': 11747, 'erziehung': 11748, 'selbstmordattentaten': 11749, 'jungfrauen': 11750, 'verheissen': 11751, 'stechender': 11752, 'abzielt': 11753, 'tierrechte': 11754, 'globalistischen': 11755, 'schwenken': 11756, 'naivitaet': 11757, 'ueberladen': 11758, 'begruesst': 11759, 'kuss': 11760, 'klugheit': 11761, 'torheit': 11762, 'teddybaer': 11763, 'teddy': 11764, 'great': 11765, 'business': 11766, 'europaweiten': 11767, 'buergerkrieg': 11768, 'szenario': 11769, 'folgendermassen': 11770, 'abspielen': 11771, 'metropolis': 11772, 'friedlich': 11773, 'sozialhilfetouristen': 11774, 'eingeflogen': 11775, 'zurueckgedraengt': 11776, 'knute': 11777, 'glaubensabfall': 11778, 'friedenreligion': 11779, 'sprengglaeubig': 11780, 'schweinefleischberuhigt': 11781, 'kulturbereicherung': 11782, 'nachdenklich': 11783, 'uebersteigen': 11784, 'fache': 11785, 'frauenfussball': 11786, 'frauenfussballwm': 11787, 'atomic': 11788, 'ranch': 11789, 'vorgeschobener': 11790, 'rational': 11791, 'zeig': 11792, 'molenbeek': 11793, 'kammer': 11794, 'nonsenseonfridays': 11795, 'quiz': 11796, 'steinigen': 11797, 'sonder': 11798, 'isis': 11799, 'finsteren': 11800, 'feinen': 11801, 'erfu': 11802, 'islamischer': 11803, 'religionsgeleh': 11804, 'propagie': 11805, 'islamsierung': 11806, 'voranzutreiben': 11807, 'durchschnittstemperatur': 11808, '70er': 11809, 'angestiegen': 11810, 'logik': 11811, 'menschgemachten': 11812, 'ehrenwe': 11813, 'ueberpa': 11814, 'eilich': 11815, 'unverzichtbar': 11816, 'amadeo': 11817, 'demolieren': 11818, 'miga': 11819, 'ionspakt': 11820, 'aufheben': 11821, 'solidarisch': 11822, 'wache': 11823, 'fair': 11824, 'dschihadisten': 11825, 'intakten': 11826, 'bombengue': 11827, 'damm': 11828, 'boomm': 11829, 'sprachunterricht': 11830, 'geworfenes': 11831, 'anfassen': 11832, 'nohandshake': 11833, 'goodboy': 11834, 'kinderarbeit': 11835, 'tausender': 11836, 'kinderseelen': 11837, 'tauentzien': 11838, 'kadewe': 11839, 'schwoer': 11840, 'islamkritik': 11841, 'kostenlose': 11842, 'gesundheitsumsorge': 11843, 'nichtohnemeinekopftuch': 11844, 'batterie': 11845, 'auszurauben': 11846, 'strukturelle': 11847, 'schutzbeduerftige': 11848, 'weitet': 11849, 'asylschutz': 11850, 'teint': 11851, 'bestialischem': 11852, 'zerstueckelt': 11853, 'ahnungslose': 11854, 'assistenten': 11855, 'warme': 11856, 'haeufigkeiten': 11857, 'santa': 11858, 'ana': 11859, 'windgeschwindigkeiten': 11860, 'feuerausbreitung': 11861, 'einhergehen': 11862, 'irgendeinen': 11863, 'stuss': 11864, 'sprachrohre': 11865, 'entstandene': 11866, 'schuldigkeit': 11867, 'ramazan': 11868, 'gruender': 11869, 'add': 11870, 'fb': 11871, 'ausgibt': 11872, 'thx': 11873, 'kirsche': 11874, 'ermittelte': 11875, 'wg': 11876, 'reigen': 11877, 'getanzt': 11878, 'entnehmen': 11879, 'sklave': 11880, 'verspottet': 11881, 'kollektives': 11882, 'selbe': 11883, 'alarm': 11884, 'eselstall': 11885, 'eselbesitzerin': 11886, 'stall': 11887, 'kabinett': 11888, 'strengere': 11889, 'abschieberegeln': 11890, 'dazugesper': 11891, 'todesstrafe': 11892, 'shariah': 11893, 'inklusion': 11894, 'goldenekamera': 11895, 'bibliothek': 11896, 'jura': 11897, 'misch': 11898, 'digger': 11899, 'gelabere': 11900, 'gesamtschul': 11901, 'abi': 11902, 'massives': 11903, 'runterfahren': 11904, 'schuldbildung': 11905, 'ermoeglichten': 11906, 'rettete': 11907, 'wiedergesehen': 11908, 'grenzoeffnung': 11909, 'kiosk': 11910, 'schokoriegel': 11911, 'loewen': 11912, 'kioskbesitzer': 11913, 'lion': 11914, 'clantreffen': 11915, 'superschlaue': 11916, 'arabischem': 11917, 'angehalten': 11918, 'alde': 11919, 'chanel': 11920, 'taschenspiegel': 11921, 'guckt': 11922, 'wusst': 11923, 'bischt': 11924, 'brudi': 11925, 'ganges': 11926, 'emilolsen22': 11927, 'its': 11928, 'b1nd': 11929, 'sozialdemokrat': 11930, 'tierschuetzer': 11931, 'fettes': 11932, 'sonstwohin': 11933, 'radfahren': 11934, 'menschengemachter': 11935, 'schrott': 11936, 'nominie': 11937, 'moslemische': 11938, 'applaudieren': 11939, 'schreiberling': 11940, 'einsetzt': 11941, 'verlangt': 11942, 'trottel': 11943, 'blockdiezeit': 11944, 'auserkorene': 11945, 'redewendungen': 11946, 'silvesterbilanz': 11947, 'karlsruhe': 11948, 'boeller': 11949, '3jaehrige': 11950, 'augenverletzung': 11951, 'beschiessen': 11952, 'feuerwerk': 11953, 'nazikeulenschwinger': 11954, 'geleitet': 11955, 'beitritt': 11956, 'regnerischen': 11957, 'gespielt': 11958, 'bejubeln': 11959, 'amberg': 11960, 'schissma': 11961, 'erschien': 11962, 'neuauflage': 11963, 'wanderschaft': 11964, 'gilad': 11965, 'atzmon': 11966, 'judenheit': 11967, 'angelangt': 11968, 'systemende': 11969, 'zion': 11970, 'faktenverbot': 11971, 'quaelen': 11972, 'massenvernichtungswaffe': 11973, 'inquisition': 11974, 'singulaere': 11975, 'schuster': 11976, 'tarnname': 11977, 'teppich': 11978, 'orb': 11979, 'mitnichten': 11980, 'protokoll': 11981, 'gastes': 11982, 'weltordnung': 11983, 'versenkt': 11984, 'geschuetzte': 11985, 'rastet': 11986, 'tobt': 11987, 'edda': 11988, 'bibel': 11989, 'loewe': 11990, 'traumhaft': 11991, '1001': 11992, 'waehrungs': 11993, '100e': 11994, 'vermoegens': 11995, 'siegten': 11996, 'auserwaehlten': 11997, 'leibhaftigen': 11998, 'aufgehetzten': 11999, 'voelkerscharen': 12000, 'fernsehspot': 12001, 'ehe': 12002, 'thale': 12003, 'gedenkveranstaltung': 12004, 'bretzenheim': 12005, 'aufruf': 12006, 'voigt': 12007, 'oy': 12008, 'vey': 12009, 'afdey': 12010, 'bekennt': 12011, 'fatalen': 12012, 'kolonialisierung': 12013, 'natsiepiefke': 12014, 'admin': 12015, 'fremdschaemen': 12016, 'jagd': 12017, 'razzia': 12018, 'eizentrale': 12019, 'wahrer': 12020, 'rechteste': 12021, 'radiospot': 12022, 'mikrowellenherd': 12023, 'vogt': 12024, 'rufmord': 12025, 'verleumdung': 12026, 'hess': 12027, 'kola': 12028, 'challenger': 12029, 'tschernobyl': 12030, 'reagan': 12031, 'gorbatschow': 12032, 'ussu': 12033, 'summit': 12034, 'mauerfall': 12035, '342': 12036, 'holocaustmahnmal': 12037, 'germanisch': 12038, 'ostara': 12039, 'erzikone': 12040, 'kulturchristlichen': 12041, 'lichterloh': 12042, 'sterbebett': 12043, 'sitzend': 12044, 'schallers': 12045, 'thingkreis': 12046, 'drehtag': 12047, 'volkskraft': 12048, 'migrations': 12049, 'essay': 12050, 'polemik': 12051, 'bataillon': 12052, 'konterrevolution': 12053, 'christ': 12054, 'kuemel': 12055, 'pastor': 12056, 'bode': 12057, 'nachlese': 12058, '049': 12059, 'vl': 12060, 'nerling': 12061, 'sturzbesoffen': 12062, 'volkskraftwoche': 12063, 'hiebe': 12064, 'wurm': 12065, 'made': 12066, 'feindlich': 12067, 'antideutsch': 12068, 'reiches': 12069, 'verpulve': 12070, 'willfaehrige': 12071, 'genossin': 12072, 'nomenklatura': 12073, 'eistipendium': 12074, 'schlange': 12075, 'nordseewellen': 12076, 'koeche': 12077, 'mainstreamig': 12078, 'kirchensteuerinkasso': 12079, 'vereinigungen': 12080, 'buergerlichen': 12081, 'antitotalitaeren': 12082, 'zurueckfinden': 12083, 'besen': 12084, 'geparkt': 12085, 'jean': 12086, 'claude': 12087, 'daemmerschoppen': 12088, 'haloween': 12089, 'bewegungsmittel': 12090, 'mariomayl': 12091, 'missbrauchssekte': 12092, 'gelistet': 12093, 'maechtigen': 12094, 'fluegelspieler': 12095, 'rechtsve': 12096, 'agsmagazi': 12097, 'dealt': 12098, 'ihm': 12099, 'angezuendet': 12100, 'jungs': 12101, 'gefuehl': 12102, 'matsche': 12103, 'patsche': 12104, 'ueckendorfer': 12105, 'geistigem': 12106, 'physischer': 12107, 'kotau': 12108, 'wiedergutmachung': 12109, 'marketinggag': 12110, 'masochistenmagazin': 12111, 'zuzutrauen': 12112, 'stasine': 12113, 'kausalitaet': 12114, 'kurier': 12115, 'nachtraeglich': 12116, 'badenwue': 12117, 'erstem': 12118, 'spurwechsel': 12119, 'strobl': 12120, 'retweet': 12121, 'jucken': 12122, 'prolet': 12123, 'schaerfer': 12124, 'lewandowski': 12125, 'coman': 12126, 'angetrunken': 12127, 'staatsbesuch': 12128, 'ruanda': 12129, 'dunkle': 12130, 'fackel': 12131, 'coole': 12132, 'erkaltet': 12133, 'todesanzeigen': 12134, 'kulturmuslime': 12135, 'dieschonlaengerhierlebenden': 12136, 'legitimieren': 12137, 'schwarzafrika': 12138, 'brauthandschuhe': 12139, 'blackfacing': 12140, 'reverse': 12141, 'mietpreise': 12142, 'stramm': 12143, 'ausgeblendet': 12144, 'enteignungsphantasien': 12145, 'sexy': 12146, 'weiland': 12147, 'wirschaffendasidiotin': 12148, 'eber': 12149, 'eberl': 12150, 'charakterloser': 12151, 'zwerg': 12152, 'became': 12153, 'player': 12154, 'goals': 12155, 'his': 12156, 'eredivisie': 12157, 'appearances': 12158, 'since': 12159, 'kazimierz': 12160, 'frankiewicz': 12161, '1969': 12162, 'lisafromm4': 12163, 'ungebeten': 12164, 'zureist': 12165, 'merkelgaeste': 12166, 'ausweg': 12167, 'verraet': 12168, 'intention': 12169, 'ausweichen': 12170, 'katholische': 12171, 'vereinigung': 12172, 'verabschieden': 12173, 'liberale': 12174, 'gefli': 12175, 'mantra': 12176, 'freiburger': 12177, 'thesen': 12178, 'feministischer': 12179, 'multikulturell': 12180, 'schulbesuch': 12181, 'restaurant': 12182, 'bedienen': 12183, 'diskriminieren': 12184, 'dosenbrot': 12185, 'doofer': 12186, 'muendigen': 12187, 'vernuenftig': 12188, 'einordnen': 12189, 'profit': 12190, 'hoffenden': 12191, 'hasserfuellt': 12192, 'fanatisch': 12193, 'vizepraesidentin': 12194, 'beispiele': 12195, 'spraesidium': 12196, 'gruenversifftes': 12197, 'wolkenkuckucksheim': 12198, 'wegdiskutieren': 12199, 'lesa': 12200, 'bevoelkerungsanteil': 12201, 'wahrhaben': 12202, 'angebliche': 12203, 'migrationsfreunde': 12204, 'ausgespielt': 12205, 'geldes': 12206, 'schwups': 12207, 'spontan': 12208, 'aushaengeschild': 12209, 'spendengierigen': 12210, 'dreist': 12211, 'unbefangen': 12212, 'richtern': 12213, 'gruenem': 12214, 'gesinnungsbonus': 12215, 'unverbindliche': 12216, 'verfassungsgerichtspraesident': 12217, 'programmdirigent': 12218, 'ads': 12219, 'witte': 12220, 'ungemach': 12221, 'raechts': 12222, 'vorsicht': 12223, 'kollege': 12224, 'schultag': 12225, 'outdoorgammeltag': 12226, 'ideologien': 12227, 'nachlaufen': 12228, 'lallt': 12229, 'junckers': 12230, 'ueberdosie': 12231, 'ergebnissen': 12232, 'gipfels': 12233, 'urheberrechtsreform': 12234, 'incl': 12235, 'icle13': 12236, 'copyrightdirective': 12237, 'statement': 12238, 'tamarawernli': 12239, '20cm': 12240, 'sprecherin': 12241, 'nancy': 12242, 'pelosi': 12243, 'impeachment': 12244, 'schnueffelei': 12245, 'ausreichendes': 12246, 'schueffelwei': 12247, 'melanie': 12248, 'amann': 12249, 'ikelbeschreibung': 12250, 'widerwo': 12251, 'onlinehaendler': 12252, 'weck': 12253, 'endlichmalmitprofis': 12254, 'rechtsschreibung': 12255, 'polnischer': 12256, 'groesstenteils': 12257, 'verfault': 12258, 'polnische': 12259, 'wojciech': 12260, 'roszkowski': 12261, 'buches': 12262, 'kulturgesellschaft': 12263, 'hochqualifizie': 12264, 'gebildete': 12265, 'migrationsproblem': 12266, 'auswanderungsland': 12267, 'oberstuebchen': 12268, 'vorgeht': 12269, 'klammheimlich': 12270, 'ablesen': 12271, 'entgleisung': 12272, 'klinische': 12273, 'dimensionen': 12274, 'respektloseste': 12275, 'feldrepo': 12276, 'wissend': 12277, 'interviewte': 12278, 'labbadia': 12279, 'merkelregierung': 12280, 'format': 12281, 'fachkompetent': 12282, 'fisch': 12283, 'fettklos': 12284, 'stufe': 12285, 'fplus': 12286, 'gewissensgruenden': 12287, 'anbieten': 12288, '1ma': 12289, 'inschiller': 12290, 'guidoreil': 12291, 'espendillerm': 12292, 'helmut': 12293, 'seifen': 12294, 'einschuechterungsversuche': 12295, 'krawallmachern': 12296, 'freier': 12297, 'dd2502': 12298, 'lebensfremden': 12299, 'satten': 12300, 'bornie': 12301, 'jogginghose': 12302, 'abenteuerlich': 12303, 'sicheres': 12304, 'herkunftsland': 12305, 'wunschgemaess': 12306, 'weitreichenden': 12307, 'schuettelfrost': 12308, 'verfassungsschutzpraesident': 12309, 'ethos': 12310, 'zeitgemaess': 12311, 'establishment': 12312, 'propagandamedien': 12313, 'diskurshoheit': 12314, 'befuerchtung': 12315, 'biedermeier': 12316, 'frauenrunde': 12317, 'paritaetsgesetz': 12318, 'verrate': 12319, 'amadeuantoniostiftung': 12320, 'hauptfunktion': 12321, 'braunfaerben': 12322, 'nonkonformismus': 12323, 'opfergruppe': 12324, 'erschlossen': 12325, 'aufarbeiter': 12326, 'koerpers': 12327, 'projekten': 12328, 'fluechtlingsmaedchen': 12329, 'meinungsunterdruecku': 12330, 'haldenwang': 12331, 'verfassungsfeinde': 12332, 'objektive': 12333, 'wohlfuehl': 12334, 'rausch': 12335, 'ueberlegenheit': 12336, 'verflogen': 12337, 'allgemeinheit': 12338, 'geleisteten': 12339, 'buergschaften': 12340, 'buergen': 12341, 'wohlfuehlmoment': 12342, 'gutbuerger': 12343, 'fluechtlingsbuergen': 12344, 'migrationsbericht': 12345, 'seehofers': 12346, 'eigenlob': 12347, 'unangebracht': 12348, 'verfassungsfeinden': 12349, 'diskreditieren': 12350, 'stickige': 12351, 'meinungsklima': 12352, 'summe': 12353, 'feigheit': 12354, 'vieler': 12355, 'einzelner': 12356, 'einzustehen': 12357, 'chefredakteur': 12358, 'werberat': 12359, 'schmalkalden': 12360, 'meiningen': 12361, 'sexistischer': 12362, 'landraetin': 12363, 'ruege': 12364, 'gravierende': 12365, 'fehleinschaetzung': 12366, 'stieg': 12367, 'gestaendnis': 12368, 'einzugestehen': 12369, 'cem': 12370, 'gequatsche': 12371, 'brandstiftende': 12372, 'kampfgegenrechts': 12373, 'linksterroristen': 12374, 'beschraenkten': 12375, 'hasskampagnen': 12376, 'aeussersten': 12377, 'mordanschlag': 12378, 'bta': 12379, 'angreifern': 12380, 'halbtot': 12381, 'ausserstande': 12382, 'feigen': 12383, 'mitlaeufer': 12384, 'muts': 12385, 'bedarf': 12386, 'polie': 12387, 'image': 12388, 'harmlose': 12389, 'unbequeme': 12390, 'mitmarschie': 12391, 'abstiegsangst': 12392, 'angehaengt': 12393, 'vermoegend': 12394, 'falsches': 12395, 'goldrichtig': 12396, 'vermutliche': 12397, 'kanzlerdarstellerin': 12398, 'unsaeglichen': 12399, 'radar': 12400, 'durchsegeln': 12401, 'aufklaerungsarbeit': 12402, 'ankunft': 12403, 'grundrecht': 12404, 'cdubpt18': 12405, 'delegie': 12406, 'abler': 12407, 'geplanten': 12408, 'cduvorsitz': 12409, 'oehme': 12410, 'weitaus': 12411, 'paralleljustiz': 12412, 'unverbindlich': 12413, 'merkeldiktatur': 12414, 'allerheiligsten': 12415, 'herumgefummelt': 12416, 'abgeschobene': 12417, 'zuwanderungs': 12418, 'front': 12419, 'gutachtens': 12420, 'machwerk': 12421, 'ausgesuchten': 12422, 'ueberliess': 12423, 'gefaelligkeitsgutachten': 12424, 'stigmatisierende': 12425, 'verfassungsrichter': 12426, 'israelitischen': 12427, 'kultusgemeinde': 12428, 'oberbayern': 12429, 'vorgeworfen': 12430, 'gedenken': 12431, 'gekue': 12432, 'auszeichnet': 12433, 'jury': 12434, 'ehrlichkeit': 12435, 'mordserie': 12436, 'migrationskrise': 12437, 'extreme': 12438, 'frauenfeindlichkeit': 12439, 'islamismus': 12440, 'benachteiligung': 12441, 'diskurses': 12442, 'insel': 12443, 'obergrenze': 12444, 'familienzusammenfuehrungen': 12445, 'festgesetzt': 12446, 'aufruhr': 12447, 'souveraene': 12448, 'unterzeichnung': 12449, 'rechtlich': 12450, 'absichtserklaerung': 12451, 'harmlos': 12452, 'zwingt': 12453, 'migrationspaktstoppen': 12454, 'studentin': 12455, 'gruppenvergewaltigung': 12456, 'starb': 12457, 'globus': 12458, 'erbost': 12459, 'strafrechts': 12460, 'ereignis': 12461, 'reflexhaften': 12462, 'verrohung': 12463, 'ltwhessen': 12464, 'ltwhe': 12465, 'ltwhe18': 12466, 'hessenwahl': 12467, 'stolzen': 12468, 'lehrstellen': 12469, 'bellvedaehr': 12470, 'hd': 12471, 'unfreiwillig': 12472, 'widerstandskaempfern': 12473, 'venezolaner': 12474, 'nebenwirkungen': 12475, 'prinz': 12476, 'human': 12477, 'golfstrompumpe': 12478, 'namens': 12479, 'menschenmassen': 12480, 'herren': 12481, 'sued': 12482, 'mitteleuropa': 12483, 'schaufelt': 12484, 'budgetkuerzungen': 12485, 'migrationsverbaende': 12486, 'haushaltskuerzungen': 12487, 'menschengemachten': 12488, 'streite': 12489, 'erwaermt': 12490, 'menschliche': 12491, 'arabisches': 12492, 'menschenrechtsverletzungen': 12493, 'dekret': 12494, 'samstag': 12495, 'beugen': 12496, 'demostenes': 12497, 'floros': 12498, 'geopolitischen': 12499, 'libyenkrise': 12500, 'verringern': 12501, 'erhebliche': 12502, 'unterbrechungen': 12503, 'verspielt': 12504, '2010': 12505, 'ratschlaegen': 12506, 'einwanderungskritischeren': 12507, 'jetzigen': 12508, 'sigmar': 12509, 'abbau': 12510, 'fauler': 12511, 'ausfallgefaehrdeter': 12512, 'bilanzen': 12513, 'sank': 12514, 'risiken': 12515, 'kunstprojekt': 12516, 'baeumen': 12517, 'europacupspiel': 12518, 'steindy': 12519, 'traditionsverein': 12520, 'rapid': 12521, 'teilnahme': 12522, 'europacup': 12523, 'symbol': 12524, 'abdankung': 12525, 'japanischen': 12526, 'kaisers': 12527, 'kinderleicht': 12528, 'beendigung': 12529, 'tenno': 12530, 'einheit': 12531, 'japans': 12532, 'wachstumsmarkt': 12533, 'eingebrochen': 12534, 'ernsten': 12535, 'problemen': 12536, 'mitbegruender': 12537, 'oskar': 12538, 'medienberichtes': 12539, 'beider': 12540, 'position': 12541, 'gespraechen': 12542, 'abzocke': 12543, 'poker': 12544, 'zapft': 12545, 'gemeinde': 12546, 'brunnsee': 12547, 'wildalpen': 12548, 'uoaei1': 12549, 'mittwoch': 12550, 'wasserschutz': 12551, 'einbringen': 12552, 'lisel': 12553, 'elmis': 12554, 'moinbrifn': 12555, 'kolumnist': 12556, 'elmar': 12557, 'hoerig': 12558, 'leviten': 12559, 'molotow': 12560, 'raet': 12561, 'finanzsenator': 12562, 'einwanderungspolitik': 12563, 'daenischen': 12564, 'armin': 12565, 'ganzseitigen': 12566, 'sonntagszeitung': 12567, 'gunsten': 12568, 'nordrhein': 12569, 'westfaelischen': 12570, 'jahrzehnten': 12571, 'laengerem': 12572, 'gemessenen': 12573, 'sommerpause': 12574, 'schuldenstreit': 12575, 'konflikt': 12576, 'eurokrise': 12577, 'staatsverschuldung': 12578, 'foermlichen': 12579, 'einleitung': 12580, 'politpegel': 12581, 'sonntagsfrage': 12582, 'insa': 12583, 'einverstanden': 12584, 'inhalte': 12585, 'washingtons': 12586, 'durchbrechen': 12587, 'staendigen': 12588, 'kriegsrausches': 12589, 'herausforderungen': 12590, 'beantwo': 12591, 'blockpa': 12592, 'nutzlos': 12593, 'brandenburgtrend': 12594, 'infratest': 12595, 'dimap': 12596, 'rbb': 12597, 'vermeiden': 12598, 'stabilitaetsfragen': 12599, 'diplomat': 12600, 'ueberheblichkeit': 12601, 'sicherheitsschule': 12602, 'bundesheer': 12603, 'fasste': 12604, 'instandhaltung': 12605, 'bundeshandelsakademie': 12606, 'bestialisch': 12607, 'schaechtet': 12608, 'verzweifelter': 12609, '62': 12610, 'ramelow': 12611, 'ministerpraesidenten': 12612, 'zuwiderhandlung': 12613, 'kapitaenen': 12614, 'betreibern': 12615, 'blutet': 12616, 'wiedervereinigung': 12617, 'driften': 12618, 'einwohnerzahlen': 12619, 'auseinander': 12620, 'bevoelkerungszahl': 12621, 'riesige': 12622, 'maschine': 12623, 'zensurversuche': 12624, 'ikel13demo': 12625, 'thematik': 12626, 'anschaulich': 12627, 'fraktionen': 12628, 'anmassender': 12629, 'unterscheidung': 12630, 'offenbaren': 12631, 'wahlbuerger': 12632, 'unwilligkeit': 12633, 'sueden': 12634, 'braeuchten': 12635, 'abschliessen': 12636, 'vielfliegerin': 12637, 'abfeiern': 12638, 'gendern': 12639, 'tickt': 12640, 'schleichenden': 12641, 'einwanderergruppen': 12642, 'spezifisches': 12643, 'steuerungsinstrument': 12644, 'unterdrueckung': 12645, 'unliebsamer': 12646, 'zusammenrottung': 12647, 'unwoe': 12648, 'launch': 12649, 'red': 12650, 'dead': 12651, 'redemption': 12652, 'premiere': 12653, 'bestelle': 12654, 'lade': 12655, 'vorab': 12656, 'zwangsheirat': 12657, 'unkultur': 12658, 'linksverblendete': 12659, 'klatscher': 12660, 'inszenieren': 12661, 'riebene': 12662, 'machetenaehnliche': 12663, 'schwingender': 12664, 'elfeinhalb': 12665, 'ungerecht': 12666, 'empathie': 12667, 'camperin': 12668, 'gesundheitswesen': 12669, 'suedtiroler': 12670, 'saegt': 12671, 'ethnischen': 12672, 'proporz': 12673, 'krankenhauszimmer': 12674, 'govba': 12675, 'svp': 12676, 'bozen': 12677, 'muehsam': 12678, 'errungenen': 12679, 'volksgruppenausgleich': 12680, 'volksbegehren': 12681, 'medienzentrum': 12682, 'landtagsabgeordneten': 12683, 'raepple': 12684, 'putins': 12685, 'italienbesuch': 12686, 'bilaterale': 12687, 'kuendigte': 12688, 'ausgeliefe': 12689, 'unions': 12690, 'minderheitsregierung': 12691, 'anmarsch': 12692, 'oestlichen': 12693, 'dem': 12694, 'parallelwaehrung': 12695, 'defizitverfahren': 12696, 'empfehlung': 12697, 'unwahrscheinlich': 12698, 'koenig': 12699, 'abdullah': 12700, 'saudia': 12701, 'anashir': 12702, 'arabiens': 12703, 'bekanntgab': 12704, 'sezession': 12705, 'voxadpocalpyse': 12706, 'borderless': 12707, 'opus': 12708, 'magnum': 12709, 'ferienvermietung': 12710, 'immobilienpreise': 12711, 'kike': 12712, 'sarasola': 12713, 'olympia': 12714, 'reiter': 12715, 'narr': 12716, 'weswegen': 12717, 'tierkopf': 12718, 'hotelkette': 12719, 'room': 12720, 'mate': 12721, 'verewigt': 12722, 'salz': 12723, 'achill': 12724, 'patras': 12725, 'mehren': 12726, 'aufzugeben': 12727, 'schockierende': 12728, 'eingegriffen': 12729, 'gratulie': 12730, 'ratschlag': 12731, 'migrantenrettung': 12732, 'dekrets': 12733, 'hilfsorganisationen': 12734, 'tendieren': 12735, 'rezession': 12736, 'beunruhigend': 12737, 'vfutscher': 12738, 'nc': 12739, 'mietendeckel': 12740, 'bundesfinanzminister': 12741, 'verstaendnis': 12742, 'einzufrieren': 12743, 'leuchtet': 12744, 'laedt': 12745, 'kasatschok': 12746, 'kalinka': 12747, 'versaubeutelt': 12748, 'gekettet': 12749, 'rebellion': 12750, 'ermordeter': 12751, 'airpo': 12752, 'kuala': 12753, 'lumpur': 12754, 'craig': 12755, 'halbbruder': 12756, 'nordkoreanischen': 12757, 'diktators': 12758, 'comet': 12759, 'photo': 12760, 'jaehrlichen': 12761, 'fraustreik': 12762, 'hochgebildete': 12763, 'ueberzeugten': 12764, 'zeitgenossen': 12765, 'pflegte': 12766, 'grossmutter': 12767, 'selig': 12768, 'festzustellen': 12769, 'strategisch': 12770, 'hebel': 12771, 'handelsverhandlungen': 12772, 'gaengiges': 12773, 'zahlungsmittel': 12774, 'optionen': 12775, 'zahlung': 12776, 'token': 12777, 'gleichstellungsbeauftragte': 12778, 'paschke': 12779, 'kratzin': 12780, 'vorstoss': 12781, 'gendergerechter': 12782, 'draengt': 12783, 'zentralbank': 12784, 'leitzinsen': 12785, 'drohschreiben': 12786, 'aufgetaucht': 12787, 'vergeltung': 12788, 'angedroht': 12789, 'asylbedingungen': 12790, 'allahs': 12791, 'ueberschuettet': 12792, 'eurorechte': 12793, '27jaehriger': 12794, 'nachmittag': 12795, 'nigrischen': 12796, 'kurzarbeit': 12797, 'arbeitsmarkt': 12798, 'truebt': 12799, 'klimadiktatur': 12800, 'transformation': 12801, 'ii': 12802, 'te': 12803, 'vorgaenge': 12804, 'recherchie': 12805, 'besorgnis': 12806, 'aufgezeigt': 12807, 'groesseren': 12808, 'bruesseler': 12809, 'eurokraten': 12810, 'angriffs': 12811, 'uss': 12812, 'libe': 12813, 'diktator': 12814, 'machtuebernahme': 12815, 'premierministers': 12816, 'kriegsverbrechens': 12817, 'bedrohungen': 12818, 'eskalationen': 12819, 'naeckig': 12820, 'schuf': 12821, 'herausgebers': 12822, 'stigmata': 12823, 'eiengefuege': 12824, 'vollzieht': 12825, 'fragolin': 12826, 'militaergymnasium': 12827, 'uebergangs': 12828, 'eidigungsexpe': 12829, 'geschasst': 12830, 'aufgeschoben': 12831, 'meinungskundegebung': 12832, 'wahlpoebels': 12833, 'weltpolitik': 12834, 'abkehr': 12835, 'konfrontation': 12836, 'egoistischen': 12837, 'alleingaenge': 12838, 'elefantenhochzeit': 12839, 'autobauern': 12840, 'fiat': 12841, 'chrysler': 12842, 'renault': 12843, 'streben': 12844, 'muehsamer': 12845, 'festung': 12846, 'schnellere': 12847, 'luxemburg': 12848, 'ankuendigungen': 12849, '2070': 12850, 'buntling': 12851, 'wohnhaft': 12852, 'verkleidet': 12853, 'indigener': 12854, 'ausgestorbenen': 12855, 'loyalitaetsprobleme': 12856, 'gottes': 12857, 'scharlatane': 12858, 'franziskus': 12859, 'schrittlich': 12860, 'bewunde': 12861, 'hochreligioeser': 12862, 'grenzwe': 12863, 'nervensaege': 12864, 'wauw': 12865, 'meets': 12866, 'kingside': 12867, 'wilpec': 12868, 'clanmitglieder': 12869, 'verhaften': 12870, 'minderbemittelt': 12871, 'instrument': 12872, 'vernichtungstweets': 12873, 'muelheim': 12874, 'schlank': 12875, 'huendin': 12876, 'hellbraunes': 12877, 'fell': 12878, 'orangene': 12879, 'halsband': 12880, 'schlossbruecke': 12881, 'rank': 12882, 'normaler': 12883, 'rausgeschmissen': 12884, 'arbeitslosenversicherung': 12885, 'schnallen': 12886, 'eingeschworen': 12887, 'schaftsabschwung': 12888, 'flixbus': 12889, 'beziehen': 12890, 'sozialleistungen': 12891, 'appellieren': 12892, 'jackpot': 12893, 'hochburg': 12894, 'linksfaschos': 12895, 'gescreenshotteten': 12896, 'schenken': 12897, 'flutung': 12898, 'totgelacht': 12899, 'lab': 12900, 'molekuelen': 12901, '4g': 12902, 'microwellenstrahlung': 12903, 'erwaermen': 12904, 'energieumwandlungsgesetz': 12905, 'baltimore': 12906, '3x': 12907, 'praeger': 12908, 'shitholetowns': 12909, 'diktatorenunterstuetzer': 12910, 'meeresboden': 12911, 'befoerde': 12912, 'verstaendliches': 12913, 'praeventivverhalten': 12914, 'genehmigen': 12915, 'netto': 12916, 'brutto': 12917, 'lebenskosten': 12918, 'annaehernd': 12919, 'kalkulie': 12920, 'aachenerve': 12921, 'sinngemaesse': 12922, 'ausage': 12923, 'madmimi': 12924, 'betrachtet': 12925, 'dramamaessig': 12926, 'uellen': 12927, 'ankuendigen': 12928, 'selbstmitleid': 12929, 'moralisieren': 12930, 'sandy82609625': 12931, 'suzydymna': 12932, 'imad': 12933, 'karim': 12934, 'gemeinsamkeiten': 12935, 'hineingeboren': 12936, 'beitreten': 12937, 'austreten': 12938, 'austritt': 12939, 'apostasie': 12940, 'korans': 12941, 'journal': 12942, 'microsoft': 12943, 'flight': 12944, 'simulator': 12945, 'e3': 12946, 'announce': 12947, 'psychische': 12948, 'stoerung': 12949, 'weisser': 12950, 'hassverbrechen': 12951, 'umgefahren': 12952, 'rothschild': 12953, 'weltregierung': 12954, 'gesinnungswissenschaft': 12955, 'gesinnungspolitik': 12956, 'navy': 12957, 'ernstzunehmende': 12958, 'sichtungen': 12959, 'untersuchungen': 12960, 'militaers': 12961, '73': 12962, 'versteckten': 12963, 'luzifer': 12964, 'alien': 12965, 'gestaltung': 12966, 'offenbarung': 12967, 'bevoelkerungsaustausches': 12968, 'mahnwachen': 12969, 'unsterblich': 12970, 'unvergessen': 12971, 'geheimaktion': 12972, 'megacrash': 12973, 'thanks': 12974, 'helping': 12975, 'bison': 12976, 'millionenstaedte': 12977, 'abdullahzentrum': 12978, 'saudiarabia': 12979, 'nachahmer': 12980, 'entstuende': 12981, 'taete': 12982, 'fact': 12983, 'latein': 12984, 'pizza': 12985, 'compressa': 12986, 'fischblog': 12987, 'forscherrobe': 12988, 'denniseckmeier': 12989, 'pfannkuchen': 12990, 'lokale': 12991, 'leitet': 12992, 'etymologisch': 12993, 'restdeutschland': 12994, 'fuellung': 12995, 'vielgeruehmten': 12996, 'fruchtbarkeit': 12997, 'notaufnahme': 12998, 'iranischen': 12999, 'jawan': 13000, 'revolutionsgarden': 13001, 'iranreise': 13002, 'karikatur': 13003, 'fusionsverhandlungen': 13004, 'ineinsnundiehaende': 13005, '10k': 13006, 'wohlwollend': 13007, 'einraeumt': 13008, 'gutsein': 13009, 'kommunikation2019': 13010, 'geliked': 13011, 'weitesten': 13012, 'gelten': 13013, 'urlaubern': 13014, 'konversion': 13015, 'therapien': 13016, 'aluhuete': 13017, 'flacherdler': 13018, 'lieblingsfeind': 13019, 'schuettelt': 13020, 'dissonanz': 13021, 'aktueller': 13022, 'erneuerung': 13023, 'orientie': 13024, 'aufstellt': 13025, 'warnhinweis': 13026, 'zeitgleich': 13027, 'karrenbauers': 13028, 'neuland': 13029, 'sgd': 13030, 'schriftzuege': 13031, 'acab': 13032, 'verzie': 13033, 'nachnamen': 13034, 'bastarde': 13035, 'verbal': 13036, 'eingepruegelt': 13037, 'rassismusvorwurf': 13038, 'verstoerend': 13039, 'rassismuskeule': 13040, 'glueckliche': 13041, 'eingetuppe': 13042, 'huerde': 13043, 'angekommen': 13044, 'zurueckgetreten': 13045, 'kipping': 13046, 'hollsteinm': 13047, 'arbeiterkinder': 13048, 'akademikern': 13049, 'kevins': 13050, 'bundeskanzlern': 13051, 'fuehrungsdiskussion': 13052, 'penis': 13053, 'urploetzlich': 13054, 'nuechternheit': 13055, 'mariamlau1': 13056, 'analytisch': 13057, 'tamtam': 13058, 'finstersten': 13059, 'zaehlen': 13060, 'orient': 13061, 'gegenaufklaerung': 13062, 'ressentiments': 13063, 'nahostwissenschaftler': 13064, 'starkmachen': 13065, 'ste': 13066, 'verwenden': 13067, 'eiprogramm': 13068, 'witter': 13069, 'schaum': 13070, 'rosie': 13071, 'fesche': 13072, 'schockstarre': 13073, 'beruhigt': 13074, 'wanderlieder': 13075, 'kritzelmonster': 13076, 'robuste': 13077, 'daenischem': 13078, 'wae': 13079, 'moderne': 13080, 'errungenschaft': 13081, 'leo': 13082, 'varadkar': 13083, 'trumps': 13084, 'absurden': 13085, 'irische': 13086, 'landgrenze': 13087, 'anhoe': 13088, 'axt': 13089, 'befluegelt': 13090, 'strengen': 13091, 'halbie': 13092, 'gegensatz': 13093, 'gymnastikwettkaempfen': 13094, 'trainers': 13095, 'gaht': 13096, 'bewusste': 13097, 'vergammelt': 13098, 'home': 13099, 'hoelle': 13100, 'mielke': 13101, 'bitterlich': 13102, 'kapitalisten': 13103, 'alexa': 13104, 'erkanbald': 13105, 'graphen': 13106, 'maennlichen': 13107, 'weiblichen': 13108, 'gesundheitssystem': 13109, 'aussteigen': 13110, 'gegenueberliegenden': 13111, 'eingeklemmt': 13112, 'weiterfahren': 13113, 'taschengelderhoehung': 13114, 'amerikaner': 13115, 'laestern': 13116, 'kommunistischen': 13117, 'freiheitsaktivisten': 13118, 'himmlischen': 13119, 'praegendsten': 13120, 'zentraler': 13121, 'wagne': 13122, 'exte': 13123, 'zurueckzulassen': 13124, 'belassen': 13125, 'senatorin': 13126, 'landesbeamte': 13127, 'weisungsgemaess': 13128, 'durchfuehren': 13129, 'strafanzeigen': 13130, 'hausfriedensbruchs': 13131, 'innensenator': 13132, 'hebt': 13133, 'linus': 13134, 'foerster': 13135, 'inhalten': 13136, 'kompetenz': 13137, 'lesenswer': 13138, 'stummen': 13139, 'aufsteiger': 13140, 'erfinder': 13141, 'kleinscheiss': 13142, '531': 13143, 'genehmigungen': 13144, 'umweltgutachten': 13145, 'vorlegen': 13146, 'wuetende': 13147, 'buergerinitiativen': 13148, 'besaenftigen': 13149, 'verkehrsprobleme': 13150, 'reinpassen': 13151, 'schienen': 13152, 'zufolge': 13153, 'geltung': 13154, 'verschaffen': 13155, 'asylpraxis': 13156, 'durchhaltbar': 13157, 'verdoppelung': 13158, 'handelsarithmetik': 13159, 'beguenstigt': 13160, 'indische': 13161, 'kaushik': 13162, 'verhaengung': 13163, 'zoellen': 13164, 'aufrechterhalten': 13165, 'unternehmerverband': 13166, 'nachlassende': 13167, 'verband': 13168, 'familienunternehmer': 13169, 'kalte': 13170, 'krieger': 13171, 'pullach': 13172, 'group': 13173, 'aerge': 13174, 'ricks': 13175, 'konkurrenten': 13176, 'kybernetisierung': 13177, 'defense': 13178, 'advanced': 13179, 'research': 13180, 'energiedichte': 13181, 'irina': 13182, 'slav': 13183, 'aufwae': 13184, 'swelle': 13185, 'kursziel': 13186, 'unze': 13187, 'beschleunigungsphase': 13188, 'groesster': 13189, 'minenaktien': 13190, 'chemischer': 13191, 'keule': 13192, 'montgomery': 13193, 'chemischen': 13194, 'eilter': 13195, 'lohnabhaengige': 13196, 'schonlaengerhierlebende': 13197, 'waehlermilieu': 13198, 'anbiedern': 13199, 'ueberschriften': 13200, 'nah': 13201, 'ohr': 13202, 'leise': 13203, 'knopp': 13204, 'buchreihe': 13205, 'pussy': 13206, 'vieprg': 13207, 'personaldebatte': 13208, 'jahreszeit': 13209, 'taetowierungen': 13210, 'zufrieden': 13211, 'hilferuf': 13212, 'kreuzfah': 13213, 'venedig': 13214, 'ams': 13215, 'keines': 13216, 'eivorsitzender': 13217, 'ueberbewe': 13218, 'flog': 13219, 'denunziations': 13220, 'reconquista': 13221, 'ermordeten': 13222, 'identitaetspolitik': 13223, 'opfergruppen': 13224, 'konstituieren': 13225, 'durchschnittliche': 13226, 'biografie': 13227, 'djvde': 13228, 'dd1502': 13229, 'symphatisanten': 13230, 'linksmobs': 13231, 'kamera': 13232, 'foerderknete': 13233, 'kuchen': 13234, 'kampfes': 13235, 'raeaeaechtz': 13236, 'abzubekommen': 13237, 'vatikanstaedtischer': 13238, 'taetigkeit': 13239, 'game': 13240, 'thrones': 13241, 'zuende': 13242, 'geschaut': 13243, 'spoiler': 13244, 'drachenfeuer': 13245, 'einschaetzung': 13246, 'pruefen': 13247, 'juengst': 13248, 'suse1603': 13249, 'emmanuelmacron': 13250, 'aussprechen': 13251, 'dauerhetze': 13252, 'lunge': 13253, 'mitternacht': 13254, 'fielmann': 13255, 'blogger': 13256, 'buerste': 13257, 'scharr': 13258, 'schuehchen': 13259, 'restlichen': 13260, 'jaehrchen': 13261, 'hintergrundrauschen': 13262, 'pravda': 13263, 'zementie': 13264, 'umkehrung': 13265, 'putsch': 13266, 'vereinten': 13267, 'koenigreich': 13268, 'risse': 13269, 'anglo': 13270, 'sicherstellen': 13271, 'vergangenem': 13272, 'internetseite': 13273, 'flughafenchef': 13274, 'schaedlicher': 13275, 'nuernberger': 13276, 'flughafens': 13277, 'hupe': 13278, 'klimaschaedlicher': 13279, 'abwegig': 13280, 'ludwig': 13281, 'ball': 13282, 'koste': 13283, 'keszler': 13284, 'crew': 13285, 'from': 13286, 'veranstalter': 13287, 'kostenfalle': 13288, 'eignungstest': 13289, 'automatisie': 13290, 'geldanlagen': 13291, 'privatanleger': 13292, 'erschuetternden': 13293, 'anleger': 13294, 'sicherste': 13295, 'massstab': 13296, 'aufgeregte': 13297, 'socialmedia': 13298, 'billa': 13299, 'schokoladenkaeufe': 13300, 'tafeln': 13301, '2005': 13302, 'abgebissen': 13303, 'charisma': 13304, 'einbahnstrassenschild': 13305, 'verfuegt': 13306, 'naturgemaess': 13307, 'potential': 13308, 'talentie': 13309, 'nachwuchspolitiker': 13310, 'aelteste': 13311, 'buchhandlung': 13312, 'carolus': 13313, 'branchenumbruch': 13314, 'verhaengnis': 13315, 'schalldichten': 13316, 'blaue': 13317, 'uebergangsregierung': 13318, 'komentator': 13319, 'beckerrainald': 13320, 'melnen': 13321, 'eispende': 13322, 'steuerlich': 13323, 'fravie': 13324, 'diepa': 13325, 'europawahlen': 13326, 'auswendig': 13327, 'strassenbahnkorso': 13328, 'kursie': 13329, 'mitglieds': 13330, 'inhalt': 13331, 'wahlschlappen': 13332, 'floskelbingo': 13333, 'spielka': 13334, 'wahlsonntag': 13335, 'europawahlen2019': 13336, 'bingo': 13337, 'bullshitbingo': 13338, 'wuesste': 13339, 'enttaeuschung': 13340, 'analysieren': 13341, 'linkshaendern': 13342, '69': 13343, 'absoluten': 13344, 'zulegen': 13345, 'gesamtelternversammlung': 13346, 'gefuehlte': 13347, 'treter': 13348, 'politikermeinen': 13349, 'unweiblichen': 13350, 'eigenschaften': 13351, 'friends': 13352, 'planeten': 13353, 'liebhabe': 13354, 'landroute': 13355, 'mfg': 13356, 'gebucht': 13357, 'ruecklaeufe': 13358, 'sozialdemokratischer': 13359, 'schauthin': 13360, 'sogenannte': 13361, 'zunahme': 13362, 'ausmachen': 13363, 'waehlergruppe': 13364, 'elend': 13365, 'bronzekurs': 13366, 'standardtaenze': 13367, 'foxtrott': 13368, 'haltungstwitter': 13369, 'populistischen': 13370, 'uefa': 13371, 'ekanon': 13372, 'werbekampagnen': 13373, 'armeniers': 13374, 'mkhitaryan': 13375, 'baku': 13376, 'inakzeptabel': 13377, 'fussballs': 13378, 'labour': 13379, 'hochverdient': 13380, 'kassette': 13381, 'kinderlachen': 13382, 'verstecken': 13383, 'beherrscht': 13384, 'popcorncontent': 13385, 'waesche': 13386, 'nuerburgring': 13387, '1976': 13388, 'reichsbruecke': 13389, 'donau': 13390, 'niki': 13391, 'laudas': 13392, 'dreifache': 13393, 'formel': 13394, 'kappe': 13395, 'kandidieren': 13396, 'gipfeltreffen': 13397, 'einschuechtern': 13398, 'oligarchennichte': 13399, 'schalten': 13400, 'zeilen': 13401, 'heinz': 13402, 'kompostieren': 13403, 'abhaengig': 13404, 'entlassung': 13405, 'verzug': 13406, 'televoting': 13407, 'durchschnittlich': 13408, 'jurys': 13409, '875': 13410, 'televoters': 13411, 'vergeben': 13412, 'zero': 13413, 'blondine': 13414, 'moepsen': 13415, 'elmilliarde': 13416, 'rumwedelt': 13417, 'allerjuengste': 13418, 'abschlachten': 13419, 'miit': 13420, 'gedemuetigtem': 13421, 'entsprechend': 13422, 'handzahmen': 13423, 'lief': 13424, 'recherchieren': 13425, 'leber': 13426, 'hohenstein': 13427, 'ueberschaubar': 13428, 'verletzungen': 13429, 'geglaubt': 13430, 'league': 13431, 'rausgekickt': 13432, 'toooooooooor': 13433, 'jaaaaaaaaaa': 13434, 'mainwasser': 13435, 'irgendwer': 13436, 'staendige': 13437, 'generalsekretaer': 13438, 'zuruecktreten': 13439, 'wehre': 13440, 'vizekanzlers': 13441, 'deute': 13442, 'zahlreich': 13443, 'kommentierung': 13444, 'regierungskrise': 13445, 'mischung': 13446, 'theaterkritik': 13447, 'burgtheater': 13448, 'musisches': 13449, 'poetisches': 13450, 'unernst': 13451, 'areal': 13452, 'rwe': 13453, 'abbrucharbeiter': 13454, 'manheim': 13455, 'beteiligt': 13456, 'grasser': 13457, 'fw': 13458, 'oedp': 13459, 'tierschutzpa': 13460, 'grumpy': 13461, 'cat': 13462, 'rausschmeissenund': 13463, 'anreisen': 13464, 'nk': 13465, 'irrwitzig': 13466, 'gleichermassen': 13467, 'dummschwaetzenden': 13468, '25jaehrigen': 13469, 'rumschlagen': 13470, 'trollen': 13471, 'beeindruckende': 13472, 'buehnenshow': 13473, 'geschickter': 13474, 'trockennebel': 13475, 'duell': 13476, 'kuschliger': 13477, 'parallel': 13478, 'wahlbenachrichtigung': 13479, 'wahlka': 13480, 'heller': 13481, '2mal': 13482, 'vietxl': 13483, 'treu': 13484, 'rassistenverein': 13485, 'ruehrend': 13486, 'strassenlaternen': 13487, 'ungefragt': 13488, 'lebensgrosse': 13489, 'passbilder': 13490, 'umgehangen': 13491, 'kondakov': 13492, 'europawahlkampf': 13493, 'rollenspielfreaks': 13494, 'naechtelang': 13495, 'boeswilliger': 13496, 'neoliberaler': 13497, 'geifernder': 13498, 'stalinist': 13499, 'panischer': 13500, 'oekojesus': 13501, 'scheisssaison': 13502, 'rausekeln': 13503, 'walen': 13504, 'notwendigkeit': 13505, 'geigenkonze': 13506, 'blauwale': 13507, 'buehne': 13508, 'verkacken': 13509, 'sgem05': 13510, 'schleyer': 13511, 'buback': 13512, 'rohwedder': 13513, 'herrhausen': 13514, 'stockt': 13515, 'atem': 13516, 'royalbaby': 13517, 'personenunabhaengigen': 13518, 'nachhaltigen': 13519, 'geographisch': 13520, 'gerechten': 13521, 'monarchenve': 13522, 'schlimmster': 13523, 'bandname': 13524, 'dezentraler': 13525, 'bahnanbindung': 13526, 'hundefreundliche': 13527, 'balkon': 13528, 'ggf': 13529, 'rumliegen': 13530, 'bonuspunkte': 13531, '4000': 13532, 'hehehe': 13533, 'plastiktueten': 13534, 'entwicklungslaender': 13535, 'uebersehe': 13536, 'staub': 13537, 'nuetzliche': 13538, 'schnuppern': 13539, 'ajax': 13540, 'amsterdam': 13541, 'ausspielen': 13542, 'euroleague': 13543, 'pott': 13544, 'unglaublichen': 13545, 'europatournee': 13546, 'sge': 13547, 'kassiererlosen': 13548, 'supermarktkassen': 13549, 'passend': 13550, 'roboter': 13551, 'pfennigmuenzen': 13552, 'rachen': 13553, 'boes': 13554, 'stellenausschreibung': 13555, 'digitaler': 13556, 'bewerbungsunterlagen': 13557, 'papierpost': 13558, 'gefuehlt': 13559, 'stockphoto': 13560, 'haeuserzeile': 13561, 'bebilde': 13562, 'luxussanie': 13563, 'eigentumswohnungen': 13564, 'rrg': 13565, 'parkgebuehren': 13566, 'einkommenssteuer': 13567, 'ungleich': 13568, 'verursachen': 13569, 'strassenabnutzung': 13570, 'ersatzteile': 13571, 'verbrauchsmaterial': 13572, 'a5': 13573, 'oberleitungslastwagen': 13574, 'werkhallen': 13575, 'kasernen': 13576, 'rp19': 13577, 'transparent': 13578, 'lobbyregister': 13579, 'eigenem': 13580, 'bekunden': 13581, 'droehnt': 13582, 'ykoenig': 13583, 'anschrie': 13584, 'beschimpfte': 13585, 'drohte': 13586, 'halbach': 13587, 'valerielesrayna': 13588, 'konkret': 13589, 'geboten': 13590, 'rechtswidrigen': 13591, 'abzuwenden': 13592, 'zweierleimass': 13593, 'update': 13594, 'beweismaterial': 13595, 'unzensie': 13596, 'ladenburger': 13597, 'mia': 13598, 'kandel': 13599, 'koenntn': 13600, 'urenkel': 13601, 'betrogen': 13602, 'bleibendes': 13603, 'vermaechtnis': 13604, 'armuts': 13605, 'steuerkasse': 13606, 'gezahlt': 13607, 'bexbach': 13608, 'pfingstwochenende': 13609, 'hintereinander': 13610, 'bahnreisende': 13611, 'belaestigen': 13612, 'kaeri91622010': 13613, 'lempathia': 13614, 'veranstaltet': 13615, 'einerseits': 13616, 'prochemnitz': 13617, 'absagen': 13618, 'wahltagistzahltag': 13619, 'jaehr': 13620, 'prenzlau': 13621, 'tschetschenen': 13622, 'wuergemale': 13623, 'zeuge': 13624, 'ausfindig': 13625, 'zivilcourage': 13626, 'schriftlich': 13627, 'akhbar': 13628, 'bekaempft': 13629, 'zensie': 13630, 'wahlplakat': 13631, 'mundtot': 13632, 'verbuenden': 13633, 'bereichteren': 13634, 'zugticket': 13635, 'widersetzt': 13636, 'renitent': 13637, 'anwesenden': 13638, 'bundespolizist': 13639, 'bahnmitarbeiter': 13640, 'staatlichen': 13641, 'erziehungsorgane': 13642, 'verschleierungsauftrag': 13643, 'kaserne': 13644, 'fahndung': 13645, 'polizeibeamtin': 13646, 'mitgefilmt': 13647, 'vergangene': 13648, 'antut': 13649, 'errichten': 13650, 'schwerstverletzt': 13651, 'notruf': 13652, 'ehrenamtlich': 13653, 'saubermachen': 13654, 'vogelmoerder': 13655, 'windrad': 13656, 'windenergie': 13657, 'verharmlost': 13658, 'wahlberechtigt': 13659, 'strafmuendig': 13660, 'szenen': 13661, 'jugendstrafrecht': 13662, 'befassen': 13663, 'anis': 13664, '8jaehriger': 13665, 'liegts': 13666, 'investigativjournalist': 13667, 'alkoholrausch': 13668, 'leistet': 13669, 'energien': 13670, 'metalle': 13671, 'vergiften': 13672, 'gewinnung': 13673, 'anlagen': 13674, 'tonne': 13675, 'seltene': 13676, 'umweltschaedlich': 13677, 'praktikabel': 13678, 'progressive': 13679, 'verbrennungsmotor': 13680, 'anrichten': 13681, 'verunglimpften': 13682, 'verdanken': 13683, 'boliden': 13684, 'durchdrehen': 13685, 'gabs': 13686, 'polizeimuenchen': 13687, 'showeinlage': 13688, 'ordnungswidrigkeiten': 13689, 'markuscan': 13690, 'luisamneubauer': 13691, '125': 13692, 'flugkilometer': 13693, 'permanente': 13694, 'urlaube': 13695, 'mysterioes': 13696, 'sanitaeter': 13697, 'terasse': 13698, 'nachtigall': 13699, 'ick': 13700, 'hoer': 13701, 'trappsen': 13702, 'tragoedie': 13703, 'definitiv': 13704, 'mutie': 13705, 'doktorwuerde': 13706, 'tatsachen': 13707, 'oberhaching': 13708, 'wirkende': 13709, 'vorhalt': 13710, 'mitarbeiterinnen': 13711, 'geschockten': 13712, 'kriseninterventionsteam': 13713, 'betreut': 13714, 'rauliche': 13715, 'oppositionellen': 13716, 'schlaegern': 13717, 'staatsantifa': 13718, 'zugaenglich': 13719, 'teilnehmern': 13720, 'spanferkel': 13721, 'protestgrillen': 13722, 'syriern': 13723, 'hellichten': 13724, 'guckte': 13725, 'zeigte': 13726, 'blutverschmie': 13727, 'disgusting': 13728, 'berechnung': 13729, 'still': 13730, 'auswuerfeln': 13731, 'amtierende': 13732, 'unvermeidlich': 13733, 'globalcompactmigration': 13734, 'idiotie': 13735, 'unterzeichnet': 13736, 'lakaien': 13737, 'ates': 13738, 'kurswende': 13739, 'ate': 13740, 'frauenrechtlerin': 13741, 'drohe': 13742, 'schwacher': 13743, 'schwaechelt': 13744, 'nennenswe': 13745, 'eurozone': 13746, 'deuten': 13747, 'konjunktursignale': 13748, 'niedrigere': 13749, 'geholfen': 13750, 'testosteron': 13751, 'luemmeln': 13752, 'isl': 13753, 'zentrums': 13754, 'organisieren': 13755, 'chillt': 13756, 'ayatollahs': 13757, 'fackeln': 13758, 'richterin': 13759, 'erweckt': 13760, 'rechtsprechung': 13761, 'wehrmachtshelm': 13762, 'unbefangenheit': 13763, 'schmierlappen': 13764, 'gedenkt': 13765, 'referenden': 13766, 'wahlpflicht': 13767, 'tschoeoeh': 13768, 'ger': 13769, 'aeaeh': 13770, 'dingensdah': 13771, 'zweifele': 13772, 'zahle': 13773, 'ui': 13774, 'ewie': 13775, 'oberkellner': 13776, 'durstig': 13777, 'kack': 13778, 'stelzen': 13779, 'trapattoni': 13780, 'allmachtsphantasien': 13781, 'italienischen': 13782, 'senil': 13783, 'relugion': 13784, 'taharrushgamea': 13785, 'genoetigt': 13786, 'stritten': 13787, 'impulse': 13788, 'emmanuel': 13789, 'rauens': 13790, 'nahost': 13791, 'geopolitisch': 13792, 'golfstaaten': 13793, 'gegenseitigen': 13794, 'gedankengang': 13795, 'marco': 13796, 'maier': 13797, 'henry': 13798, 'unionsfraktionschef': 13799, 'gelte': 13800, 'arbeitnehmer': 13801, 'goldreserven': 13802, 'gewachsen': 13803, 'edelmetall': 13804, 'unabhaengiger': 13805, 'pendant': 13806, 'frederick': 13807, 'delius': 13808, 'nietzsches': 13809, 'zarathustra': 13810, '155': 13811, 'wiederkehr': 13812, 'stages': 13813, 'gleichnamige': 13814, 'tondichtung': 13815, 'wirrkoepfe': 13816, 'steinke': 13817, 'rodgau': 13818, 'obdachlosenheim': 13819, 'reihenhaeuser': 13820, 'zuliebe': 13821, 'abstriche': 13822, 'targobank': 13823, 'umfragewe': 13824, 'dahinter': 13825, 'militarisierung': 13826, 'region': 13827, 'risk': 13828, 'insights': 13829, 'rovaniemi': 13830, 'versammelten': 13831, 'hiess': 13832, 'mehrfachmoerder': 13833, 'ahmed': 13834, 'nurso': 13835, 'noten': 13836, '500er': 13837, 'weitergehende': 13838, 'gutmenschkind': 13839, 'verkommene': 13840, 'poebelralle': 13841, 'parkhaus': 13842, 'perve': 13843, 'justizsystem': 13844, 'untrainie': 13845, 'schwabbel': 13846, 'austrainie': 13847, 'kommune': 13848, 'perspektive': 13849, 'wahlkampfhilfe': 13850, 'zehnjaehrige': 13851, 'jetzigem': 13852, 'herzlose': 13853, 'persoenlicher': 13854, 'mieses': 13855, 'bonnie': 13856, 'bonniestrange': 13857, 'inbesitznahme': 13858, 'abgesegnet': 13859, 'entfernte': 13860, 'krakau': 13861, 'veranlassung': 13862, 'gibbs': 13863, 'mcgee': 13864, 'gefroren': 13865, 'musk': 13866, 'kiffte': 13867, 'kinderchen': 13868, 'kiffens': 13869, 'richtigkeit': 13870, 'ungeprueften': 13871, 'familienhetze': 13872, 'gestreut': 13873, 'mithetzen': 13874, 'windows': 13875, 'anwender': 13876, 'desktop': 13877, 'entfernen': 13878, 'beschieden': 13879, 'kachelnmuessenweg': 13880, '52': 13881, 'teiltext': 13882, 'ueberhebliche': 13883, 'anfaengt': 13884, 'reibungslosen': 13885, 'ablauf': 13886, 'vorsichtiger': 13887, 'spezialisten': 13888, 'vorgeschichte': 13889, 'durchleuchten': 13890, 'bekloppte': 13891, 'hinter': 13892, 'peinlichste': 13893, 'schief': 13894, 'gequake': 13895, 'twitten': 13896, 'sprudelndes': 13897, 'geschaeftsmodel': 13898, 'patientenbindung': 13899, 'einbringt': 13900, 'vermeidbare': 13901, 'toter': 13902, 'impfungen': 13903, 'folgeschaeden': 13904, 'stoche': 13905, 'sinnloser': 13906, 'rasen': 13907, 'besuchte': 13908, 'melphia': 13909, 'kumasi': 13910, 'regelrechte': 13911, 'einqua': 13912, 'ges': 13913, 'paedophilen': 13914, 'paedophilenfreund': 13915, 'vorschiebt': 13916, 'duldungs': 13917, 'paedophile': 13918, 'entkommt': 13919, 'entfuehrer': 13920, 'hinlegen': 13921, 'genuss': 13922, 'guenter': 13923, 'wallraff': 13924, 'radsturz': 13925, 'wettbuero': 13926, 'suhrbier': 13927, 'abendblatt': 13928, 'waeldern': 13929, 'solen': 13930, 'mirja80': 13931, 'james0099077522': 13932, 'evele24527026': 13933, 'danny': 13934, '1703': 13935, 'setze': 13936, 'abzusehen': 13937, 'anruf': 13938, 'aufhielt': 13939, 'bereitgestellt': 13940, 'bruttoinlandsprodukt': 13941, 'warst': 13942, 'ken': 13943, 'jebsen': 13944, 'rubikon': 13945, 'geschworenengerichte': 13946, 'bewahre': 13947, 'schw': 13948, 'unfassbare': 13949, 'vorausschauend': 13950, 'vorausgesehen': 13951, 'dhue20121': 13952, 'verlernt': 13953, 'sinnvolle': 13954, 'saetze': 13955, 'jeweils': 13956, 'twingofah': 13957, 'zweck': 13958, 'ressourcen': 13959, 'zeitverschwendung': 13960, 'rekonstruieren': 13961, 'tattag': 13962, 'vorstellt': 13963, 'entlastet': 13964, 'aeltesten': 13965, 'jessica': 13966, 'uebernachtet': 13967, 'verliess': 13968, 'westfernsehen': 13969, 'dermassen': 13970, 'geruch': 13971, 'offensichtliche': 13972, 'ermittlungsweigerung': 13973, 'fangt': 13974, 'brandenburger': 13975, 'himbeeren': 13976, 'pfluecken': 13977, 'benedict': 13978, 'cumberbatch': 13979, 'jonny': 13980, 'lee': 13981, 'miller': 13982, 'sherlock': 13983, 'darsteller': 13984, 'traurige': 13985, 'schutzbeduerftig': 13986, 'investigative': 13987, 'ausnahmsweise': 13988, 'aufgebracht': 13989, 'angel': 13990, 'tauchausflug': 13991, 'gestehe': 13992, 'hingewiesen': 13993, 'daemlich': 13994, 'stangen': 13995, 'schaufeln': 13996, 'erfolgsaussichten': 13997, 'oeffentlichkeitsfahndung': 13998, 'fahrzeugs': 13999, 'angeln': 14000, 'einstimmig': 14001, 'ruhestand': 14002, 'geschoepf': 14003, 'bitterlicher': 14004, 'familienfreund': 14005, 'bildlich': 14006, 'untergangsspecial': 14007, 'soylent': 14008, 'green': 14009, 'special': 14010, 'belegte': 14011, 'abgestempelt': 14012, 'kluegste': 14013, 'reiben': 14014, 'eingeredeter': 14015, 'gesundschrumpfen': 14016, 'ausbluten': 14017, 'apuz': 14018, 'wachstumsmaschine': 14019, 'demografische': 14020, 'ermittlungsstands': 14021, 'dringenden': 14022, 'tatverdacht': 14023, 'sonja': 14024, 'schaue': 14025, 'nenner': 14026, 'deaktivie': 14027, 'drogenscene': 14028, 'idiotentest': 14029, 'objektiven': 14030, 'eilsfreien': 14031, 'sorgfaeltig': 14032, 'wahrheitsgehalt': 14033, 'ueberprueften': 14034, 'polizeimeldungen': 14035, 'stank': 14036, 'mkdus': 14037, 'katja30299307': 14038, 'taeuschung': 14039, 'ergab': 14040, 'waelder': 14041, 'abgesucht': 14042, 'bayerischen': 14043, 'grenzschliessung': 14044, 'grossangelegte': 14045, 'praesentieren': 14046, 'urbach': 14047, 'harmlosen': 14048, 'netzaktivisten': 14049, 'knaurverlag': 14050, 'gruenejugend': 14051, 'amused': 14052, 'fahnen': 14053, 'verblendet': 14054, 'selbstopferung': 14055, 'sagten': 14056, 'hochbegabt': 14057, 'schrieben': 14058, 'now': 14059, 'they': 14060, 'eat': 14061, 'their': 14062, 'words': 14063, 'interne': 14064, 'dokumente': 14065, 'badeanstalten': 14066, 'pate': 14067, 'polygamie': 14068, 'vorzeige': 14069, 'kommunikative': 14070, 'betreff': 14071, 'hilfsarbeiter': 14072, 'ta': 14073, 'arrush': 14074, 'geldfund': 14075, 'koranversen': 14076, 'gestoppt': 14077, 'einblick': 14078, 'volksstimme': 14079, 'flieger': 14080, 'lampe': 14081, 'ohhellokathrina': 14082, 'vielfaeltigen': 14083, 'kultuer': 14084, 'gesundbrunnen': 14085, 'europe': 14086, 'grausamen': 14087, 'hovelshorst': 14088, 'wessen': 14089, 'kotzt': 14090, 'sashtyani': 14091, 'vorra': 14092, 'aufgeklae': 14093, 'kosovo': 14094, 'wedelt': 14095, 'zuendet': 14096, 'asylheime': 14097, 'widmet': 14098, 'zugesendeten': 14099, 'slt': 14100, 'rehkitze': 14101, 'parlamentarischer': 14102, 'maehmaschinen': 14103, 'tierschutzpol': 14104, 'besonderem': 14105, 'groefaz': 14106, 'religionsgemeinschaft': 14107, 'auslaenderfeindlich': 14108, 'veraechtlich': 14109, 'erbaermlichee': 14110, 'italienisch': 14111, 'froesche': 14112, 'nachba': 14113, 'eich': 14114, 'jeden': 14115, 'loesungsansaetze': 14116, 'glaenzender': 14117, 'utopien': 14118, 'angefuellter': 14119, 'aufgeschwemmter': 14120, 'berufsjugendlicher': 14121, 'berufsabschluss': 14122, 'spderneuern': 14123, 'projektwoche': 14124, 'saeure': 14125, 'friedliches': 14126, 'mehrheitsverhaeltnisse': 14127, 'jesuisbroder': 14128, 'ergroovt': 14129, 'uli': 14130, 'joerges': 14131, 'armutszeugnis': 14132, 'verstandene': 14133, 'unterwerfung': 14134, 'fremden': 14135, 'freiheitliche': 14136, 'schulleiter': 14137, 'johannes': 14138, 'grod': 14139, 'aschaffenburger': 14140, 'froebelschule': 14141, 'schlufest': 14142, 'peteraltmaier': 14143, 'gesinnungsdiktaur': 14144, 'amtisemitsmus': 14145, 'christenverfolgung': 14146, 'frauenunterdrueckung': 14147, 'rutschen': 14148, 'waehlerstimmen': 14149, 'gewechselt': 14150, 'untergegang': 14151, 'programmie': 14152, 'christianmars84': 14153, '1980': 14154, 'ua': 14155, 'armselig': 14156, 'pfruende': 14157, 'kante': 14158, 'biss': 14159, 'ansagen': 14160, 'azsgehebelt': 14161, 'allerletzte': 14162, 'gebrauchen': 14163, 'linksruck': 14164, 'beschimpfungen': 14165, 'vizepraesident': 14166, 'beidhaendig': 14167, 'schmerzensgeld': 14168, 'strudel': 14169, 'abenteuerlichen': 14170, 'beschleunigend': 14171, 'betitelt': 14172, 'michael00350135': 14173, 'allfaellige': 14174, 'ticket': 14175, 'etablie': 14176, 'aufspringen': 14177, 'jahaaa': 14178, 'erkenntnis': 14179, 'gepredigt': 14180, 'verstand': 14181, 'brunnen': 14182, 'roman51110': 14183, 'gattung': 14184, 'nannten': 14185, 'wendehaelse': 14186, 'allmaehlich': 14187, 'verheerenden': 14188, 'wahlergebnissen': 14189, 'spezialdemokraten': 14190, 'umdenken': 14191, 'helgelindh': 14192, 'spdebakel': 14193, 'daenen': 14194, 'jaemmerlicher': 14195, 'hochjubeln': 14196, 'betreutes': 14197, 'klassisches': 14198, 'jstaltenberg': 14199, 'ergoetzt': 14200, 'antisemitischen': 14201, 'antidemokratischen': 14202, 'homophopen': 14203, 'steilvorlage': 14204, 'heuteshow': 14205, 'nichtmal': 14206, 'ansatzweise': 14207, 'faehig': 14208, 'stichhaltiges': 14209, 'vorzulegen': 14210, 'nem': 14211, 'befehlsgebundenen': 14212, 'landesebene': 14213, 'hinbekommt': 14214, 'blechkamerad': 14215, 'hegt': 14216, 'kaempferische': 14217, 'allmachtsfantasien': 14218, 'eigen': 14219, 'tschingterrassa': 14220, 'bumterassa': 14221, 'terassa': 14222, 'eisentoepfe': 14223, 'birnen': 14224, 'aufruesten': 14225, 'aich': 14226, 'einsaetzen': 14227, 'bw': 14228, 'einw': 14229, 'territorialarmee': 14230, 'eidigen': 14231, 'auslandseinsaetzen': 14232, 'unschoene': 14233, 'panst': 14234, 'leim': 14235, 'psychiatrischen': 14236, 'tollhaus': 14237, 'wetterbericht': 14238, 'helmstedt': 14239, 'wein': 14240, 'angebaut': 14241, 'browserspiel': 14242, 'langweilig': 14243, 'bagage': 14244, 'snarkyinfidel': 14245, 'ratten': 14246, 'angeht': 14247, '68': 14248, '70ern': 14249, 'dreckvoegel': 14250, 'wide': 14251, 'narrenfreiheit': 14252, 'area51': 14253, 'servas': 14254, 'thorwald': 14255, 'respektloses': 14256, 'misslungenen': 14257, 'hurenkinder': 14258, 'staedtebauliches': 14259, 'heruntergekommen': 14260, 'uferpromenade': 14261, 'demolie': 14262, 'sitten': 14263, 'verwildern': 14264, 'frickma1': 14265, 'messerfachkraefte': 14266, 'wehrlose': 14267, 'heel': 14268, 'elternteil': 14269, 'anheuern': 14270, 'wohlstandes': 14271, 'nachhaltiger': 14272, 'gcm': 14273, 'heldenstimme': 14274, 'daffyfuq': 14275, 'viechers': 14276, 'staerksten': 14277, 'wahlverhalten': 14278, 'versagt': 14279, 'seh': 14280, 'werd': 14281, 'michels': 14282, 'leidensfaehigkeit': 14283, 'kappen': 14284, 'einmalig': 14285, 'sprachkenntnisse': 14286, 'russisch': 14287, 'chuj': 14288, 'goar': 14289, 'fruechten': 14290, 'sollst': 14291, 'like': 14292, 'fckg': 14293, 'hinlegt': 14294, 'gewinnchancen': 14295, 'clevere': 14296, 'boyz': 14297, 'pos': 14298, 'gruppendynamik': 14299, 'ergaenzen': 14300, 'regionaler': 14301, 'einzelfaellen': 14302, 'frankundfreya': 14303, 'aufzuhoeren': 14304, 'brutalst': 14305, 'wiege': 14306, 'schaetzungsweise': 14307, 'mind': 14308, 'obere': 14309, 'marxloh': 14310, 'schmarotzer': 14311, 'gesindel': 14312, 'danm': 14313, 'genacht': 14314, 'lmao': 14315, 'irgendeinem': 14316, 'hing': 14317, 'parasiten': 14318, 'dummdeutschland': 14319, 'gemurkselte': 14320, 'walten': 14321, 'ewiges': 14322, 'women': 14323, 'gedoense': 14324, 'verschworen': 14325, 'weggesper': 14326, 'hundesteuer': 14327, 'pfandflaschen': 14328, 'gestohlen': 14329, 'spar': 14330, 'imaginaere': 14331, 'sollt': 14332, 'umschwenken': 14333, 'hochkonjunktur': 14334, 'selbstve': 14335, 'offelnazis': 14336, 'deradikalisieren': 14337, 'widersinnig': 14338, 'grenzenloser': 14339, 'identitaetspruefung': 14340, 'wirsindnichtoffensondernnichtmehrganzdicht': 14341, 'loeffel': 14342, 'abgegeben': 14343, 'rodriguezsusane': 14344, 'lel': 14345, 'ansteckend': 14346, 'rausgehauen': 14347, 'wtfilikegretanow': 14348, 'profraika': 14349, 'milky': 14350, 'way': 14351, 'schwimmen': 14352, 'gehirngewaschen': 14353, 'keins': 14354, 'indoktrination': 14355, 'versagende': 14356, 'elternhaeuser': 14357, 'schulpflicht': 14358, 'samstagen': 14359, 'chopperina2': 14360, 'serioese': 14361, 'erbaermlich': 14362, 'aufschlag': 14363, 'tewes': 14364, 'susanne': 14365, 'darstellerplantagen': 14366, 'gezuechtet': 14367, 'faymann': 14368, 'spindelegger': 14369, 'traeumer': 14370, 'wegn': 14371, 'mitmachn': 14372, 'musstn': 14373, 'druf': 14374, 'hbe': 14375, 'deswegn': 14376, 'gesprochen': 14377, 'ruf': 14378, 'ruinieren': 14379, '07cavio': 14380, 'klick': 14381, 'koerbchengroesse': 14382, 'goldstuecke': 14383, 'asien': 14384, 'mischwald': 14385, 'gebirge': 14386, 'wurzelt': 14387, 'breite': 14388, 'klammern': 14389, 'buchen': 14390, 'eichen': 14391, 'pflanzt': 14392, 'mischkulturen': 14393, 'sepp': 14394, 'holzer': 14395, 'kapitalisch': 14396, 'foseti': 14397, 'gagen': 14398, 'fcmmicha1': 14399, 'betreutendenken': 14400, 'mussten': 14401, 'widerstehen': 14402, 'verwoehnte': 14403, 'rocky0668': 14404, 'buergermeisterwahl': 14405, 'hillary': 14406, 'clinton': 14407, 'nachgeholfen': 14408, 'auszugehen': 14409, 'huren': 14410, 'katzenbilder': 14411, 'porno': 14412, 'satansbraten': 14413, 'eire': 14414, 'unschuldige': 14415, 'benehmt': 14416, 'gefaehrderin': 14417, 'divers': 14418, 'befasst': 14419, 'radikal': 14420, 'absehbar': 14421, 'ahnen': 14422, 'inhaltliche': 14423, 'sonderbare': 14424, 'allgemeinbildung': 14425, 'bizarrheit': 14426, 'kenzovandagg': 14427, 'leistungsfaehigkeit': 14428, 'demoteilnehmer': 14429, 'engel': 14430, 'duemmste': 14431, 'krankehirne': 14432, 'schwaetzer': 14433, 'nehmt': 14434, 'schaltet': 14435, 'handies': 14436, 'uebernehmt': 14437, 'hippie': 14438, 'scheuen': 14439, 'weihwasser': 14440, 'memmen': 14441, 'pflegeheimen': 14442, 'tobiv14': 14443, 'regnet': 14444, 'weltlaender': 14445, 'waermer': 14446, 'klimaerwaermung': 14447, 'digitalerc': 14448, 'huepft': 14449, 'verstandsbefreite': 14450, 'bildungsferne': 14451, 'hervorbringt': 14452, 'einweisen': 14453, 'freilauf': 14454, 'mehrfacher': 14455, 'moeglichkeiten': 14456, 'pfeffer': 14457, 'beschwichtigen': 14458, 'strunzdoof': 14459, 'lichtschalter': 14460, 'gruendeppen': 14461, 'krach': 14462, 'vorallem': 14463, 'eloquentes': 14464, 'volldeppen': 14465, 'ausplaude': 14466, 'ausschalten': 14467, 'peinlichen': 14468, 'furchtbar': 14469, 'aemtern': 14470, '68er': 14471, 'angerichtet': 14472, 'indoktrinierung': 14473, 'unis': 14474, 'propoga': 14475, 'ausgebildet': 14476, 'ds': 14477, 'leichtglaeubig': 14478, 'unterschaetzen': 14479, 'fehlende': 14480, 'nachsitzen': 14481, 'jedeunvollstaendige': 14482, 'ausgewachsenes': 14483, 'jugendprogramm': 14484, 'beatles': 14485, 'heinrichludger': 14486, 'idoden': 14487, 'houelle': 14488, 'impfschaeden': 14489, 'bekomm': 14490, 'aggressionen': 14491, 'anhoere': 14492, 'inzucht': 14493, 'kulturaustausch': 14494, 'emissionen': 14495, 'hundehuette': 14496, 'love': 14497, 'missverstaendnis': 14498, 'dummerchen': 14499, 'protests': 14500, 'dosenfleisch': 14501, 'dosen': 14502, 'vorgelage': 14503, 'aehh': 14504, 'gegriffen': 14505, 'verfechter': 14506, 'these': 14507, 'masslosigkeit': 14508, 'schmeiss': 14509, 'nackensteaks': 14510, 'bullen': 14511, 'paprika': 14512, 'zunehmende': 14513, 'bella': 14514, 'nachlassen': 14515, 'solidavidwache': 14516, 'blosse': 14517, 'mitbewohnern': 14518, 'gestik': 14519, 'verbalen': 14520, 'agressionspotential': 14521, 'kge': 14522, 'aushandeln': 14523, 'hmmm': 14524, 'geschmack': 14525, 'keinen': 14526, 'schrottigen': 14527, 'veganen': 14528, 'beyond': 14529, 'meat': 14530, 'gegrillt': 14531, 'teilgenommen': 14532, 'getraut': 14533, 'unmut': 14534, 'kund': 14535, 'sexuellermissbrauch': 14536, 'neunjaehrigen': 14537, 'tatverdaechtig': 14538, '94': 14539, 'rofl': 14540, 'joe130978': 14541, 'drogendealen': 14542, 'selbstaendige': 14543, 'mittelstand': 14544, 'nobler': 14545, 'minderwe': 14546, 'repressiven': 14547, 'staatrs': 14548, 'dreckiger': 14549, 'untermensch': 14550, 'schlussparagraph': 14551, 'amir': 14552, 'mega': 14553, 'atom': 14554, 'vogelkiller': 14555, 'vorrausgesagt': 14556, 'verharmlosend': 14557, 'umsiedlung': 14558, 'angesicht': 14559, 'begleitumstaende': 14560, 'vorgehensweisen': 14561, 'massenpsychotische': 14562, 'verklaerung': 14563, 'kairoer': 14564, 'voelliger': 14565, 'humbug': 14566, 'ley': 14567, 'enanhoerung': 14568, 'bundestages': 14569, 'polizeipraesident': 14570, 'jacob': 14571, 'verwahre': 14572, 'einsaetze': 14573, 'wahrnehmen': 14574, 'verglichen': 14575, 'feiges': 14576, 'sassen': 14577, 'gierigen': 14578, 'makler': 14579, 'miet': 14580, 'haie': 14581, 'krebskranker': 14582, 'nightralph': 14583, 'aufbau': 14584, 'runterschlucken': 14585, 'phase': 14586, 'tierlieb': 14587, 'rose': 14588, 'vaterlandes': 14589, 'wilden': 14590, 'maxxbikede': 14591, 'lifeofschmirko': 14592, 'nachteilen': 14593, 'ergeben': 14594, 'indoktrinie': 14595, 'bekennen': 14596, 'sorg': 14597, 'gesaeube': 14598, 'linksideologischen': 14599, 'beamtin': 14600, 'plattform': 14601, 'unliebsame': 14602, 'geltungsdrang': 14603, 'einschreiten': 14604, 'umstrittener': 14605, 'einkaufen': 14606, 'kopftuchfrauen': 14607, 'volltaetowie': 14608, 'junges': 14609, 'blauen': 14610, 'there': 14611, 'heruntergesetztes': 14612, 'strafmass': 14613, 'anfangsaggression': 14614, 'gelegen': 14615, 'hinrichtungen': 14616, 'gewaltproblem': 14617, 'umziehen': 14618, 'biodiversitaet': 14619, 'pearwalts5': 14620, 'hezbollah': 14621, 'bankkonten': 14622, 'geldwaesche': 14623, 'oldman7715': 14624, 'schwach': 14625, 'wachsam': 14626, 'kluegere': 14627, 'beschuetzt': 14628, 'unterkriegen': 14629, 'pflichten': 14630, 'herabwuerdigt': 14631, 'aheun2': 14632, 'miriamozen': 14633, 'politschreier': 14634, 'islamistisch': 14635, 'aufzumachen': 14636, 'eigentlicher': 14637, 'fanatiker': 14638, 'intensivtaeter': 14639, 'muslimfeindliche': 14640, 'boesa': 14641, 'rainerwendt': 14642, 'polizeigewerkschaft': 14643, 'nachschneiden': 14644, 'milliardenprojekt': 14645, 'notreserve': 14646, 'anzapfen': 14647, 'kindergae': 14648, 'halligma': 14649, 'apatzwahl': 14650, 'verunglimpfung': 14651, 'geschehen': 14652, 'beifall': 14653, 'sichtlich': 14654, 'ordnungsruf': 14655, 'rationale': 14656, 'gehoben': 14657, 'sankt': 14658, 'floriansprinzip': 14659, 'kuemme': 14660, 'quellenangaben': 14661, 'bzgl': 14662, 'hinzunehmen': 14663, 'menschenleben': 14664, 'quaelerei': 14665, 'wiederhole': 14666, 'korrektes': 14667, 'seitens': 14668, 'schreiend': 14669, 'durchgreift': 14670, 'fjs': 14671, 'saehe': 14672, 'erbaermlichen': 14673, 'polizeimissionen': 14674, 'sicherheitspolitische': 14675, 'ungslosigkeit': 14676, 'fackfellowat': 14677, 'entrinnen': 14678, 'deutschlandtrend': 14679, 'sackt': 14680, 'maybrit': 14681, 'liiner': 14682, 'wahltag': 14683, 'zahltag': 14684, 'hervorragender': 14685, 'vollverbloedung': 14686, 'dusseligen': 14687, 'zuechten': 14688, 'wurscht': 14689, 'evolutionaerer': 14690, 'preussen': 14691, 'effektive': 14692, 'bestrafung': 14693, 'spiessrutenlaufens': 14694, 'adequate': 14695, 'westliche': 14696, 'lebensa': 14697, 'beteicherungstour': 14698, 'laecherliche': 14699, 'fastenzeit': 14700, 'schnapps': 14701, 'spinnereien': 14702, 'fakes': 14703, 'uebersetzer': 14704, 'psychologische': 14705, 'buchgeld': 14706, 'wirklicher': 14707, 'strafunfahig': 14708, 'psyche': 14709, 'sprachlos': 14710, 'solche': 14711, 'sekina84': 14712, 'victim': 14713, 'initiieren': 14714, 'bestehlen': 14715, 'kuenstlich': 14716, 'aufgeblasene': 14717, 'hypes': 14718, 'legislaturperiode': 14719, 'scheitern': 14720, 'gepuscht': 14721, 'lecardinal20': 14722, 'armenleuchter': 14723, 'papiere': 14724, 'bootstrip': 14725, 'gezuendelt': 14726, 'gemeinschaftsunterkunft': 14727, 'abbrannte': 14728, 'statistik': 14729, 'rechtegewalt': 14730, 'spott': 14731, 'bescheide': 14732, 'dielinken': 14733, 'ere': 14734, 'migrationsbefuerwo': 14735, 'linksradikalen': 14736, 'grassierende': 14737, 'ziv': 14738, 'altersarmut': 14739, 'vernuenftige': 14740, 'konsequente': 14741, 'staerkt': 14742, 'brother': 14743, 'ts': 14744, 'frankschwabe': 14745, 'mehrheiten': 14746, 'erstrebenswe': 14747, 'aussicht': 14748, 'auszurufen': 14749, 'fuehrenden': 14750, 'industrienationen': 14751, 'liquidieren': 14752, 'mitanzusehen': 14753, 'faktisches': 14754, 'einreiseverbot': 14755, 'altersversorgung': 14756, 'aufbauen': 14757, 'strich': 14758, 'einwanderungsgesetz': 14759, 'entscheidendes': 14760, 'pazderski': 14761, 'streiken': 14762, 'unfaire': 14763, 'hungerstreik': 14764, 'schweinerei': 14765, 'ferkelbeauftragte': 14766, 'sauereien': 14767, 'merkelstan': 14768, 'lebenslanges': 14769, 'aufenthaltsverbot': 14770, 'prophylaxetisch': 14771, 'waffenfreiheit': 14772, 'feine': 14773, 'fischfilet': 14774, 'durchgesetzt': 14775, 'band': 14776, 'bullenhelme': 14777, 'knueppel': 14778, 'gerichtsverfahren': 14779, 'unsummen': 14780, 'schiebt': 14781, 'umgehend': 14782, 'misshandelt': 14783, 'auslacht': 14784, 'geschwaenzt': 14785, 'lustiger': 14786, 'clowns': 14787, 'verbuddeln': 14788, 'methoden': 14789, '90minjoker1': 14790, 'wuenschte': 14791, 'kaputte': 14792, 'austauschen': 14793, 'vaetern': 14794, 'auszuraeumen': 14795, 'unsinnige': 14796, 'abbrechen': 14797, 'erwuenscht': 14798, 'be': 14799, 'schnelling1': 14800, 'eingeschossen': 14801, 'erfinden': 14802, 'gefundene': 14803, 'zwischenstopp': 14804, 'hingebracht': 14805, 'sinnvolleres': 14806, 'unwahrscheinlichste': 14807, 'ausstiegshaltestellen': 14808, 'busdepot': 14809, 'buslinie': 14810, 'eingrenzen': 14811, 'interessantesten': 14812, 'auffallende': 14813, 'schrank': 14814, 'eingepackte': 14815, 'bekanntschaft': 14816, 'nachgeht': 14817, 'befragt': 14818, 'freundinnen': 14819, 'erfahrene': 14820, 'mordermittler': 14821, 'wiederzufinden': 14822, 'hinweisgeber': 14823, 'haettet': 14824, 'mitgeteilt': 14825, 'preisgibt': 14826, 'konversationen': 14827, 'chatkontakt': 14828, 'lebenszeichen': 14829, 'glaubte': 14830, '07': 14831, 'anderem': 14832, 'keinster': 14833, 'verdaechtig': 14834, 'gerannt': 14835, 'schlachtensee': 14836, 'geloeschten': 14837, 'bahnfah': 14838, 'bilderrahmen': 14839, 'eingepackt': 14840, 'licht': 14841, 'urinspuren': 14842, 'tapfer': 14843, 'leichenhunde': 14844, 'leichengeruch': 14845, 'schwarzarbeit': 14846, 'bedankt': 14847, 'tue': 14848, 'entlastendes': 14849, 'ausgehe': 14850, 'dunkelheit': 14851, 'schwanger': 14852, 'aufklae': 14853, 'appellie': 14854, 'zweimal': 14855, 'fehlerquoten': 14856, '98': 14857, 'richtungen': 14858, 'maurerweg': 14859, 'britz': 14860, 'abgeschlossen': 14861, 'unverschaemt': 14862, 'junger': 14863, 'twitterer': 14864, 'einhunde': 14865, 'prozentig': 14866, 'zeugin': 14867, 'rufmoerder': 14868, 'fasern': 14869, 'tatzeit': 14870, 'zugriff': 14871, 'schwarm': 14872, 'bts': 14873, 'lockmittel': 14874, 'hope': 14875, 'voreingenommen': 14876, 'mm': 14877, 'verseuchenden': 14878, 'zeitfenster': 14879, 'unschuldigen': 14880, 'gewesenen': 14881, 'verstaendlicherweise': 14882, 'durcheinanderseienden': 14883, 'drueber': 14884, 'hochscrollen': 14885, 'stromausfall': 14886, 'windkraftraeder': 14887, 'blasen': 14888, 'getrieben': 14889, 'schul': 14890, 'heimliche': 14891, 'spot': 14892, 'geschaeft': 14893, 'alste': 14894, 'poppenbuettel': 14895, 'modehaeuser': 14896, 'akh': 14897, 'peine': 14898, 'abteilungen': 14899, 'schreibdienste': 14900, 'archiv': 14901, 'vergibt': 14902, 'externe': 14903, 'grosskunde': 14904, 'autozulieferers': 14905, 'iwis': 14906, 'landsberg': 14907, 'autoherstellers': 14908, 'platzieren': 14909, 'steuerketten': 14910, 'verbrenner': 14911, 'rumaenien': 14912, 'planung': 14913, 'mont': 14914, 'befuerchten': 14915, 'besitzers': 14916, 'print': 14917, 'boulevardzeitung': 14918, 'eingestellt': 14919, 'fingerabdruecken': 14920, 'abgleich': 14921, 'marokkanischen': 14922, 'marokkanern': 14923, 'verpieseln': 14924, 'bombenterror': 14925, 'nachtclubs': 14926, 'taxis': 14927, 'restaurants': 14928, 'fahrschule': 14929, 'supermarkt': 14930, 'treppen': 14931, 'wohnhaeuser': 14932, 'explodie': 14933, 'knall': 14934, 'wach': 14935, 'eingangsbereich': 14936, 'wohnhauses': 14937, 'bandenkriminalitaet': 14938, 'ordentlich': 14939, 'krachen': 14940, 'eingebuchtet': 14941, 'befindenden': 14942, 'bulgare': 14943, 'deckte': 14944, 'bulgaren': 14945, 'fluchtgefahr': 14946, 'durchgeschaut': 14947, 'hongkong': 14948, 'bekanntlich': 14949, 'auslieferungsgesetz': 14950, 'bewaeltigt': 14951, 'stromeinspeisekosten': 14952, 'luxus': 14953, 'tesla': 14954, 'apparatschiks': 14955, 'fuerstenberg': 14956, 'syrern': 14957, 'erkenntnissen': 14958, 'fremdenfeindlicher': 14959, 'begehung': 14960, 'stadtrat': 14961, 'nahverkehr': 14962, 'parkausweise': 14963, '504': 14964, 'erhoehen': 14965, 'schaftler': 14966, 'bewiesen': 14967, 'wandel': 14968, 'poli': 14969, 'tiker': 14970, 'muslimbruederschaften': 14971, 'kaetoffelstaat': 14972, 'phaenomrns': 14973, 'andienen': 14974, 'staatstragenden': 14975, 'facetten': 14976, 'ansprechen': 14977, 'gesellschaftliche': 14978, 'aechtung': 14979, 'brandanschlaege': 14980, 'unserefreiheit': 14981, 'flughaefen': 14982, 'heizung': 14983, 'kuehlanlagen': 14984, 'immobilien': 14985, 'preisschild': 14986, 'alibaba': 14987, 'eldorado': 14988, 'sozialschmarotzern': 14989, 'hole': 14990, 'mutmasslicher': 14991, 'kosovare': 14992, 'bundesgerichtshof': 14993, 'pinneberg': 14994, 'mittenwald': 14995, 'schleust': 14996, 'windpocken': 14997, 'beanspruchen': 14998, 'verdraengen': 14999, 'rosengard': 15000, 'drecksblatt': 15001, 'luisa': 15002, 'neubauer': 15003, 'klimaretterin': 15004, 'worldwide': 15005, 'fly': 15006, 'experience': 15007, 'spinnen': 15008, 'musiklaerm': 15009, 'ungluecklich': 15010, 'zweifamilienhaus': 15011, 'genehmigt': 15012, 'bevormunden': 15013, 'machte': 15014, 'spezielles': 15015, 'freistaat': 15016, '435': 15017, 'sanierungskosten': 15018, '315': 15019, 'voraussetzung': 15020, 'anerkannte': 15021, 'musik': 15022, 'geschrien': 15023, 'landratsamt': 15024, 'unterbinden': 15025, 'az': 15026, '6575': 15027, 'werke': 15028, 'automobilzulieferer': 15029, 'dura': 15030, 'plettenberg': 15031, 'kirchhundem': 15032, '970': 15033, 'hemden': 15034, 'blusenspezialist': 15035, 'seidensticker': 15036, 'textilhaendler': 15037, 'desigual': 15038, 'schiesser': 15039, 'benetton': 15040, 'kurzem': 15041, 'billiglaeden': 15042, 'eingezogen': 15043, 'drk': 15044, 'luckenwalde': 15045, 'kmg': 15046, 'kliniken': 15047, 'personalabbau': 15048, 'flatte': 15049, 'haustechnikern': 15050, 'briefkasten': 15051, 'spezialisie': 15052, 'montage': 15053, 'elektrogrossgeraeten': 15054, 'hifi': 15055, 'geraeten': 15056, 'dienstleistungen': 15057, 'unrentabel': 15058, 'heftigen': 15059, 'detonation': 15060, 'probesprengung': 15061, 'zahnlosen': 15062, 'terrorgesetze': 15063, 'anwachsen': 15064, 'entsprechende': 15065, 'entwerfen': 15066, 'clankrieg': 15067, 'detonationen': 15068, 'druckwelle': 15069, 'nachtclub': 15070, 'angabe': 15071, 'offensive': 15072, 'meldemob': 15073, 'vernetzen': 15074, 'twittersperre': 15075, 'badwildungen': 15076, 'taschentuch': 15077, 'betaeubenden': 15078, 'fluessigkeit': 15079, 'vors': 15080, 'rechtspa': 15081, 'vox': 15082, 'cyberattacken': 15083, 'hell': 15084, 'ermitteln': 15085, 'trommelwirbel': 15086, 'spanischen': 15087, 'eidigungsministerium': 15088, 'homeinvasion': 15089, 'dringt': 15090, 'klingeln': 15091, 'oeffnet': 15092, 'betagte': 15093, 'schulkind': 15094, 'rechtlos': 15095, 'grundeis': 15096, 'welshalb': 15097, 'ungehinde': 15098, 'niedersaechsische': 15099, 'hameln': 15100, 'denkmal': 15101, 'sperrungen': 15102, 'wunderbaren': 15103, 'asylbewerberzahl': 15104, 'staatsangehoerigen': 15105, 'visum': 15106, 'schengenzone': 15107, 'kolumbien': 15108, 'georgien': 15109, 'chinesen': 15110, 'ueberwachen': 15111, 'gonoroe': 15112, 'identitaeslosem': 15113, 'aufzwingen': 15114, 'verachtenden': 15115, 'gie': 15116, 'sse': 15117, 'rei': 15118, 'kuep': 15119, 'zie': 15120, 'kruem': 15121, 'mer': 15122, 'bo': 15123, 'ver': 15124, 'bren': 15125, 'nungs': 15126, 'tor': 15127, 'heiligenhaus': 15128, 'pharmakonzern': 15129, 'gliede': 15130, 'specialty': 15131, 'ingredients': 15132, 'nahrungs': 15133, 'futtermittelzusaetze': 15134, 'herstellt': 15135, 'thyssen': 15136, 'krupp': 15137, 'engineering': 15138, '220': 15139, '860': 15140, 'gefe': 15141, 'karosserie': 15142, 'antriebsstrang': 15143, 'meinungsaeusserung': 15144, 'ade': 15145, 'schlinge': 15146, 'freiheiten': 15147, 'schritten': 15148, 'unliebsamen': 15149, 'moegl': 15150, 'umsichtiges': 15151, 'selfprotection': 15152, 'forward': 15153, 'thinking': 15154, 'deindustrialisierung': 15155, 'vergewaltigungen': 15156, 'derzeitige': 15157, 'angehoerige': 15158, 'opferschweigen': 15159, 'bekannten': 15160, 'mietexplosion': 15161, 'quatsch': 15162, 'fluechtlingsunterkuenften': 15163, 'triffts': 15164, 'tilo': 15165, 'verfolgen': 15166, 'neutralitaetspflicht': 15167, 'verfassungswidrig': 15168, 'nogez': 15169, 'komplizen': 15170, 'immobilieneigentuemer': 15171, 'jugendwiderstand': 15172, 'packung': 15173, 'andrej': 15174, 'reisin': 15175, '1l': 15176, 'benzin': 15177, 'strompreis': 15178, 'verdoppelt': 15179, 'stromausfaelle': 15180, 'humankapitalimpo': 15181, 'hoechststaende': 15182, 'arbeitsagntur': 15183, 'korrigie': 15184, 'gefakte': 15185, 'jobboerse': 15186, 'friedliebend': 15187, 'schimpfen': 15188, 'hochzeitskorsos': 15189, 'scharfen': 15190, 'angebettelt': 15191, 'unterlassen': 15192, 'messermaenner': 15193, 'autochthone': 15194, 'suf': 15195, 'zentralhaltestelle': 15196, 'weltmarktfuehrer': 15197, 'karmez': 15198, 'osram': 15199, 'opto': 15200, 'semiconductors': 15201, 'abfindungen': 15202, 'akzeptie': 15203, 'unisan': 15204, 'schlauchsysteme': 15205, 'droeschede': 15206, 'unterfraenkische': 15207, 'ebern': 15208, 'langjaehrige': 15209, 'modefilialist': 15210, 'modepark': 15211, 'roether': 15212, 'michelfeld': 15213, 'neueste': 15214, 'trends': 15215, 'angesagtesten': 15216, 'mode': 15217, 'marken': 15218, 'raeumungsverkauf': 15219, 'schwedische': 15220, 'erfolgsmodell': 15221, 'kopieren': 15222, 'platzt': 15223, 'halsschlagader': 15224, 'unterwuerfiger': 15225, 'unsympathischer': 15226, 'skeptisch': 15227, 'erfreulicher': 15228, 'millionaere': 15229, 'koksen': 15230, 'pornos': 15231, 'ehen': 15232, 'bah': 15233, 'goerlitzern': 15234, 'zuverlaessigkeit': 15235, 'puenktlichkeit': 15236, 'gesamtgesellschaftliches': 15237, 'schildbuergerpolitik': 15238, 'suedlaendische': 15239, 'nachtschwaermer': 15240, 'mannschaftsstaerke': 15241, 'dummmichel': 15242, 'daemme': 15243, 'qualitaet': 15244, 'gewuerze': 15245, 'ueberdecken': 15246, 'ungewollte': 15247, 'muslimbruderschaft': 15248, 'gaza': 15249, 'angewendet': 15250, 'aspekte': 15251, 'einstellst': 15252, 'haengen': 15253, 'attnang': 15254, 'voecklabruck': 15255, 'abgeweh': 15256, 'suedlaendischer': 15257, 'beschrieben': 15258, 'essgestoe': 15259, 'mangelhafter': 15260, 'ausfallen': 15261, 'unattraktiver': 15262, 'kehrseite': 15263, 'medaille': 15264, 'wohlstands': 15265, 'arbeitskollegin': 15266, 'aufregt': 15267, 'hetzseiten': 15268, 'hervorrufen': 15269, 'lemminge': 15270, 'faust': 15271, 'gebrochenem': 15272, 'technologisch': 15273, 'strebt': 15274, 'syndrom': 15275, 'schlachten': 15276, 'unnoetige': 15277, 'erfreut': 15278, 'ruehre': 15279, 'garantie': 15280, 'ziehe': 15281, 'bratwurst': 15282, 'tschuess': 15283, 'buergerschaftiches': 15284, 'leidet': 15285, 'rophen': 15286, 'mitteilungszwang': 15287, 'fachliteratur': 15288, 'logorrhoe': 15289, 'zumutung': 15290, 'betriebsblindheit': 15291, 'unangemessene': 15292, 'wahrnehmungs': 15293, 'beu': 15294, 'eilungstendenzen': 15295, 'routine': 15296, 'negerkinder': 15297, 'schuerfen': 15298, 'grinsend': 15299, 'gruentee': 15300, 'schluerfen': 15301, 'stehn': 15302, 'fahrgaeste': 15303, 'roehre': 15304, 'sehn': 15305, 'reichhauptstadtslum': 15306, 'sodecia': 15307, 'powe': 15308, 'rain': 15309, 'oelnitz': 15310, 'schaltgetriebe': 15311, 'lohnkosten': 15312, '670': 15313, 'ugal': 15314, 'germanistik': 15315, 'anglistik': 15316, 'sprachwissenschaft': 15317, 'diversitaetwissenschaft': 15318, 'wissenschaft': 15319, 'gerede': 15320, 'fachkraeftezuwanderungsgesetz': 15321, 'jubelnebelwand': 15322, 'warenhaeuser': 15323, 'abfindungsangebote': 15324, 'lohnes': 15325, '375': 15326, 'haftpruefungstermin': 15327, 'stralsund': 15328, 'gerichtsleiter': 15329, 'vorbildfunktion': 15330, 'einschnitte': 15331, 'trauen': 15332, 'management': 15333, 'verkaeufer': 15334, 'qm2': 15335, 'flaeche': 15336, 'funktionieren': 15337, 'abzubauenden': 15338, 'wetzlar': 15339, 'aussehender': 15340, 'erhielt': 15341, 'serienmoerder': 15342, 'niels': 15343, 'hoegel': 15344, 'pflegedirektorin': 15345, 'klinikums': 15346, 'ausgestelltes': 15347, 'arbeitszeugnis': 15348, 'bescheinigt': 15349, 'umsichtig': 15350, 'selbststaendig': 15351, 'situationen': 15352, 'sachlich': 15353, 'detlef': 15354, 'galeria': 15355, 'erheblichem': 15356, 'betriebsbedingte': 15357, 'stelters': 15358, 'vernichtenden': 15359, 'erscheinen': 15360, 'bsi': 15361, 'trojaner': 15362, 'infizie': 15363, 'zuhause': 15364, 'fenstersicherung': 15365, 'alarmanlage': 15366, 'fasten': 15367, 'allezeit': 15368, 'schenkt': 15369, 'entdeckten': 15370, 'zoellner': 15371, 'pistole': 15372, 'eingewickelt': 15373, 'pullover': 15374, 'gepaeckfach': 15375, 'sitzplatz': 15376, 'ahlen': 15377, 'taeterbeschreibungen': 15378, 'ausgegangen': 15379, 'sextaeter': 15380, 'zentrale': 15381, 'modekonzerns': 15382, 'filialschliessungen': 15383, '750': 15384, 'krankenwagen': 15385, 'bombenkommando': 15386, 'contract': 15387, 'ccs': 15388, 'chemiepark': 15389, 'genthin': 15390, 'discountern': 15391, 'haushaltsreiniger': 15392, 'wegbrachen': 15393, 'geschaeftsbetrieb': 15394, 'drensteinfu': 15395, 'wirkender': 15396, 'bmx': 15397, 'skaterbahn': 15398, 'fahrradhalterung': 15399, 'tuermt': 15400, 'kumpel': 15401, 'uups': 15402, 'waffenlieferung': 15403, 'clanland': 15404, 'waffenschmuggler': 15405, 'erheben': 15406, 'oekofaschisten': 15407, 'schulsanierung': 15408, 'geisteskranke': 15409, 'frauenbeauftragten': 15410, 'gifhorn': 15411, 'fremdsprachige': 15412, 'suedlaenderin': 15413, 'flohmarkt': 15414, 'rollstuhl': 15415, 'entreisst': 15416, '81': 15417, 'beschwerden': 15418, 'huttenschule': 15419, 'besuchten': 15420, 'schlosserstrasse': 15421, 'haeuften': 15422, 'simulie': 15423, 'interessantes': 15424, 'stiernackiger': 15425, 'armbanduhr': 15426, 'kontrahenten': 15427, 'hueckeswagen': 15428, 'suedosteuropaeische': 15429, 'bankbesuch': 15430, 'losfahren': 15431, 'bettelt': 15432, 'unbemerkt': 15433, 'boerse': 15434, '66': 15435, 'genialer': 15436, 'gehirnwaesche': 15437, 'zinserhoehung': 15438, 'ezb': 15439, 'herzstillstand': 15440, 'irgendwen': 15441, 'gehaltes': 15442, 'leuten': 15443, 'gefuellten': 15444, 'bechern': 15445, 'niedersachswerfen': 15446, 'fli': 15447, 'handlungen': 15448, 'begleitern': 15449, 'eingreifenden': 15450, 'schlichter': 15451, 'moeglichkeit': 15452, 'zusaetzliche': 15453, 'schulfreie': 15454, 'bildungsdirektionen': 15455, 'erlaubnis': 15456, 'fernbleiben': 15457, 'biskopsg': 15458, 'rden': 15459, 'goeteborg': 15460, 'soooo': 15461, 'schoeoeoen': 15462, 'buuunt': 15463, 'autobesitzer': 15464, 'wohngegenden': 15465, 'strassengarage': 15466, 'schmuckstuecke': 15467, 'langer': 15468, 'verlaengerungsschnur': 15469, 'wohnungsfenster': 15470, '1999': 15471, 'beschliessen': 15472, 'aufstaende': 15473, 'milchviehhalter': 15474, 'finanziell': 15475, 'angeschlagen': 15476, 'betriebe': 15477, 'unmittelbar': 15478, 'bankrott': 15479, 'schaftliche': 15480, 'unternehmensberaterin': 15481, 'betrieben': 15482, 'besorgniserregender': 15483, 'endphase': 15484, 'ak': 15485, 'planuebererfuellung': 15486, 'geplaer': 15487, 'automobilbranche': 15488, 'metallbearbeiter': 15489, 'kromatec': 15490, 'neckarwestheim': 15491, 'spueren': 15492, 'edelsteakhaus': 15493, 'kette': 15494, 'hohoffs': 15495, 'hagen': 15496, 'verschlossener': 15497, 'gastronomie': 15498, 'pachtrueckstaenden': 15499, 'sechsstelliger': 15500, 'messerattack': 15501, 'oslo': 15502, 'polizeibekannten': 15503, 'elektroschocker': 15504, 'ofen': 15505, 'baeckereikette': 15506, 'baecker': 15507, '270': 15508, 'tiefkuehl': 15509, 'backwarenhersteller': 15510, 'aryzta': 15511, 'mansfeld': 15512, 'produktionsverschiebung': 15513, 'bergsteiger': 15514, 'gipfel': 15515, 'matterhorn': 15516, 'selfie': 15517, 'drohne': 15518, '4478m': 15519, 'suisse': 15520, 'zermatt': 15521, 'auslaend': 15522, 'underage': 15523, 'ausgebenden': 15524, 'erwachsen': 15525, 'immigration': 15526, 'fraud': 15527, 'deception': 15528, 'umf': 15529, '85m': 15530, 'schwarzes': 15531, 'krauses': 15532, 'haar': 15533, 'gesiche': 15534, 'kanadische': 15535, 'premierminister': 15536, 'justintrudeau': 15537, 'cleanerfuture': 15538, 'waterbottle': 15539, 'boxedwater': 15540, 'plastikverbot': 15541, 'laengste': 15542, 'donaudampfschifffah': 15543, 'selektrizitaetenhauptbetriebswerkbauunterbeamtengesellschaft': 15544, 'gegruendet': 15545, '1829': 15546, 'einwohnern': 15547, 'gensing': 15548, 'abuse': 15549, 'airbuslive': 15550, 'rennende': 15551, 'anschlagsangst': 15552, 'reul': 15553, 'antimuslim': 15554, 'diskreditiere': 15555, 'kommunistische': 15556, '1943': 15557, 'betitele': 15558, 'antisemiten': 15559, 'nutze': 15560, 'prestige': 15561, 'antifaschistisch': 15562, 'beschmutzt': 15563, 'recep': 15564, 'tayyip': 15565, 'mesut': 15566, 'ozil': 15567, 'hochzeit': 15568, 'amine': 15569, 'guel': 15570, 'schulter': 15571, 'kopfbedeckung': 15572, 'dictator': 15573, 'testamente': 15574, 'weltuntergang': 15575, 'datum': 15576, 'temp': 15577, 'erdoberfl': 15578, 'unbewohnbar': 15579, 'mojib': 15580, 'latif': 15581, 'frostabschaffung': 15582, 'bezeugt': 15583, 'apocalypse': 15584, 'asylwerber': 15585, 'amadou': 15586, 'lina': 15587, 'kolodochka': 15588, 'oberkoerper': 15589, 'wuergend': 15590, 'heruntergelassener': 15591, 'watch': 15592, 'eisbergs': 15593, 'india': 15594, 'schoenheitswettbewerbs': 15595, 'legst': 15596, 'hochzeitskonvoi': 15597, 'ballerst': 15598, 'blockierst': 15599, 'stadtverkehr': 15600, 'bekommst': 15601, 'boeses': 15602, 'betruegerin': 15603, 'kotze': 15604, 'strahl': 15605, 'gesundheitssenatorin': 15606, 'kalayci': 15607, 'anonymen': 15608, 'anonyme': 15609, 'austeilen': 15610, 'krankenhaeuser': 15611, 'beglichen': 15612, 'polizeilich': 15613, 'mazyek': 15614, '1000x': 15615, 'hetzjagdt': 15616, 'twitterers': 15617, 'konstruie': 15618, 'maut': 15619, 'festgenommenen': 15620, 'sozialgeld': 15621, 'unbezahlbar': 15622, 'eigendlich': 15623, 'ueberfluessig': 15624, 'mindestlohn': 15625, 'ueberstunden': 15626, 'handwerkern': 15627, 'deutschlandweite': 15628, 'einheitliche': 15629, 'gesellenpruefung': 15630, 'gewordene': 15631, 'empfaenger': 15632, 'arbeitsscheue': 15633, 'einzustufen': 15634, 'minderbezahlte': 15635, 'sanktionieren': 15636, 'sveja': 15637, 'bum': 15638, 'bdew': 15639, 'kongress': 15640, 'schleppt': 15641, 'attestie': 15642, 'grundsaetze': 15643, 'studienzeit': 15644, 'ungrade': 15645, 'rad': 15646, 'katastrophale': 15647, 'aussteuerung': 15648, 'bettwaesche': 15649, 'verwandtschaft': 15650, 'tutsh': 15651, 'amon': 15652, 'adelsfamilie': 15653, 'gelbe': 15654, 'ente': 15655, 'drinnen': 15656, 'luedenscheid': 15657, 'kkk': 15658, 'lebe': 15659, 'lorio': 15660, 'mohrenpost': 15661, 'caroline': 15662, 'rethorikkurs': 15663, 'hilflosigkeit': 15664, 'ahnungslosigkeit': 15665, 'vermittelt': 15666, 'nicken': 15667, 'umherschauen': 15668, 'guenstig': 15669, 'linksaktivisten': 15670, 'ueberzeugen': 15671, 'entzieht': 15672, 'nahem': 15673, 'gemeinnuetzigkeit': 15674, 'lobbytreffen': 15675, 'zusammengetragen': 15676, 'durchsuchbar': 15677, 'daenischer': 15678, 'ren': 15679, 'pape': 15680, 'poulsen': 15681, 'kriminellste': 15682, 'migrantengruppe': 15683, '4x': 15684, 'gleichaltrige': 15685, 'halbfinale': 15686, 'djokernole': 15687, 'thiem': 15688, 'djokovic': 15689, 'semifinal': 15690, 'fr': 15691, 'congratulations': 15692, 'bjoern': 15693, 'borg': 15694, '63th': 15695, '6x': 15696, 'titles': 15697, 'lavercup': 15698, 'australianopen': 15699, 'niederdruck': 15700, 'fledermaeuse': 15701, 'ansaugt': 15702, 'windpark': 15703, 'amerikanischen': 15704, 'steinadler': 15705, 'population': 15706, 'adler': 15707, 'falken': 15708, '880': 15709, '1300': 15710, 'windkraftfrei': 15711, 'umfrageschock': 15712, 'survey': 15713, 'bedeckt': 15714, 'vorhergesagtes': 15715, 'abtauen': 15716, 'arctic': 15717, 'ocean': 15718, 'klimakatastrophe': 15719, 'linksrote': 15720, 'unfairen': 15721, 'magistratura': 15722, 'rossa': 15723, 'linksgerichtete': 15724, 'circo': 15725, 'rosso': 15726, '434italo': 15727, 'italiarai': 15728, 'schattenseiten': 15729, 'elektrobatterien': 15730, 'lithium': 15731, 'coltan': 15732, 'neodym': 15733, 'ausstoss': 15734, 'herstellung': 15735, 'entsorgung': 15736, 'recycling': 15737, 'mobil': 15738, 'eautos': 15739, 'emobility': 15740, 'akku': 15741, 'verfassungsklagen': 15742, 'vorratsdatenspeicherung': 15743, 'internetueberwachung': 15744, 'websites': 15745, 'brigitte': 15746, 'personalisierbare': 15747, 'nutzerinnen': 15748, 'threema': 15749, 'plaenen': 15750, 'kompromisse': 15751, 'einzugehen': 15752, 'nahtlos': 15753, 'totalitaerer': 15754, 'einreihen': 15755, 'fahrverbote': 15756, 'luftnummer': 15757, 'symbolpolitik': 15758, 'aktionismus': 15759, 'weltweites': 15760, 'presseecho': 15761, 'erzeugte': 15762, 'schasste': 15763, 'gesteht': 15764, 'beruhte': 15765, 'mueller1': 15766, 'daserste': 15767, 'kiel': 15768, 'grafisch': 15769, 'somme': 15770, 'emperaturen': 15771, 'gefaelschte': 15772, 'ipq': 15773, 'deklarie': 15774, 'parmaschinken': 15775, 'jambondeparme': 15776, 'ham': 15777, 'prosciuttodiparma': 15778, 'prosciuttodimodena': 15779, 'wachsende': 15780, 'hofsjoekull': 15781, 'langjoekull': 15782, 'vatnajoekull': 15783, 'jakobshavn': 15784, 'groenland': 15785, 'dehnen': 15786, 'vorhersage': 15787, 'eiszuwachs': 15788, 'tendenzioese': 15789, 'tolles': 15790, 'maestro': 15791, 'momentan': 15792, 'elfinale': 15793, 'erfinal': 15794, 'blackout': 15795, 'versorgungssicherheit': 15796, 'renewableenergy': 15797, '107': 15798, 'dritter': 15799, 'eeg': 15800, 'herzl': 15801, 'nationalfeie': 15802, 'festadellarepubblica': 15803, '1946': 15804, 'xy': 15805, 'breitscheid': 15806, 'ladan': 15807, 'afar': 15808, 'nische': 15809, 'omg': 15810, 'klappe': 15811, 'marie': 15812, 'hingst': 15813, 'familiaere': 15814, 'dlfnova': 15815, 'financialtimes': 15816, 'goldeneblogger': 15817, 'annegret': 15818, 'stillgestanden': 15819, 'intellektuelles': 15820, 'niederschmetternd': 15821, 'rheingold': 15822, 'badischer': 15823, 'hoek': 15824, 'van': 15825, 'faehre': 15826, '1952': 15827, 'nachdenklich2': 15828, 'haraldno': 15829, 'moritzmichelson': 15830, 'silastern': 15831, 'kopfgeld': 15832, 'ausgesetzt': 15833, 'fbimostwanted': 15834, 'weige': 15835, 'jordanien': 15836, 'heldin': 15837, 'ahlamtamimi': 15838, 'arnoldroth': 15839, 'malki': 15840, 'terroristin': 15841, 'ahlam': 15842, 'tamimi': 15843, 'sbarro': 15844, 'pizzeria': 15845, 'durchfueh': 15846, 'status': 15847, 'ermorden': 15848, 'schwangere': 15849, 'pst': 15850, 'unverdaechtigen': 15851, 'giss': 15852, 'oberfl': 15853, 'temperatur': 15854, 'vorhergesagten': 15855, 'wiedereinreise': 15856, 'dokumentie': 15857, 'gesetzwidrigen': 15858, 'unerlaubten': 15859, 'koerperlicher': 15860, 'schulfremden': 15861, 'deutschtuerken': 15862, 'charlottenburg': 15863, 'eingeordnet': 15864, 'antisem': 15865, 'buergerinitiative': 15866, 'massstabsgetreue': 15867, 'visualisierung': 15868, 'windkraftvorhaben': 15869, 'historiche': 15870, 'sababurg': 15871, 'nunezlaurent': 15872, 'sekr': 15873, 'pers': 15874, 'deradikalisierung': 15875, 'gerichtshof': 15876, 'unterstehen': 15877, 'justizministern': 15878, 'weisungen': 15879, 'exekutive': 15880, 'gen': 15881, 'litauen': 15882, 'justizbehoerde': 15883, 'speicher': 15884, 'erzeugung': 15885, 'verbrauch': 15886, 'elektr': 15887, 'waage': 15888, 'verbraucht': 15889, 'zeitpkt': 15890, 'sollfrequenz': 15891, '50hz': 15892, 'lastabwurf': 15893, 'abschaltung': 15894, 'konsumenten': 15895, 'franzoesischer': 15896, 'djihadist': 15897, '37j': 15898, 'toulouse': 15899, 'gemaess': 15900, 'nr': 15901, 'zugehoerigkeit': 15902, 'islamicstate': 15903, 'erhaengen': 15904, 'intervenieren': 15905, 'militanten': 15906, 'vorschule': 15907, 'rathaeuser': 15908, 'mundharmonika': 15909, 'luftballons': 15910, 'beraten': 15911, 'oesterr': 15912, 'ital': 15913, 'schariapolizei': 15914, 'uniform': 15915, 'verheerendes': 15916, 'awidmannmauz': 15917, 'sunniten': 15918, 'schiiten': 15919, 'verschlechte': 15920, 'religiondesfriedens': 15921, 'elschlaeger': 15922, 'klaesslerin': 15923, 'rechtem': 15924, 'noetiger': 15925, 'korinth': 15926, 'paul': 15927, 'schreyer': 15928, 'teusch': 15929, 'vorlaeufiges': 15930, 'schneefalls': 15931, 'skireso': 15932, 'eigentl': 15933, 'ski': 15934, 'reso': 15935, 'reopen': 15936, 'as': 15937, 'heavy': 15938, 'snowfall': 15939, 'hits': 15940, 'alps': 15941, 'ueberzeugend': 15942, 'glaubwuerdig': 15943, 'kerosinkatha': 15944, 'fidschiclaudia': 15945, 'duesendieter': 15946, 'berninger': 15947, 'flugvervot': 15948, 'abholzung': 15949, '216': 15950, '189': 15951, 'albaner': 15952, 'rumaenen': 15953, 'bengalen': 15954, 'mazedonier': 15955, 'brasilianer': 15956, 'afrikan': 15957, 'praegen': 15958, 'durchschnittseinkommen': 15959, 'bundesstaaten': 15960, 'giletsjaunes': 15961, 'protestieren': 15962, '1970': 15963, '95': 15964, '2100': 15965, '67': 15966, 'globalcompact': 15967, 'foermlich': 15968, 'waehrung': 15969, 'gesundheit': 15970, 'wenigsten': 15971, 'efa': 15972, 'verdi': 15973, 'ueberein': 15974, 'matteosalvinimi': 15975, 'juedisch': 15976, 'praegung': 15977, 'traditionen': 15978, 'priester': 15979, 'emotional': 15980, 'itodemocratico': 15981, 'movimento5stelle': 15982, 'm5s': 15983, 'elezionieuropee': 15984, 'gestiegene': 15985, 'rassemblementnational': 15986, 'rn': 15987, 'lrem': 15988, 'eelv': 15989, 'francia': 15990, 'erschreckende': 15991, 'zugewinne': 15992, 'strend': 15993, 'spa': 15994, 'aufwind': 15995, 'waehlerwanderung': 15996, 'punktet': 15997, '60jaehrigen': 15998, 'eistiftung': 15999, 'konradadenauerstiftung': 16000, 'kooperie': 16001, 'wahrheitsmedium': 16002, 'gesponse': 16003, 'wahlwerbung': 16004, 'schueren': 16005, 'lecker': 16006, 'toetungsa': 16007, 'landete': 16008, 'glykol': 16009, 'kommunistisches': 16010, 'manifest': 16011, 'marxismus': 16012, 'leninismus': 16013, 'fdj': 16014, 'studienjahr': 16015, 'p4fberlin': 16016, 'petervorsmann': 16017, 's4f': 16018, 'forschende': 16019, 'ergo': 16020, 'wiss': 16021, 'institutsangehoerige': 16022, 'kabarettist': 16023, 'zauberkuenstler': 16024, 'hirschhausen': 16025, 'dicker': 16026, 'werdender': 16027, 'psychologen': 16028, 'kenner': 16029, 'windparks': 16030, 'erfolgreiche': 16031, 'effizienz': 16032, 'messen': 16033, 'belastungen': 16034, 'buijs': 16035, 'gasterra': 16036, 'reinhard': 16037, 'zimmermann': 16038, 'musikprobe': 16039, '1891': 16040, 'dezimie': 16041, '700': 16042, 'gebildeten': 16043, 'verarmten': 16044, 'einmalige': 16045, 'integrationsleistung': 16046, 'mizrahim': 16047, 'proklamie': 16048, 'genetiker': 16049, 'plomin': 16050, 'akadem': 16051, 'genetik': 16052, 'faehigkeiten': 16053, 'erbbar': 16054, 'uschung': 16055, 'manipulation': 16056, 'harbers': 16057, 'einwanderungsminister': 16058, 'verschwiegen': 16059, 'januwatn': 16060, 'mtubeman': 16061, 'centuriocis': 16062, 'surfen': 16063, 'veroeffentl': 16064, 'auskalte': 16065, 'kucken': 16066, 'listen': 16067, 'meldeaccounts': 16068, 'stalinistischem': 16069, 'eifer': 16070, 'saeuberung': 16071, 'twittersecurity': 16072, 'freedomofspeech': 16073, 'kvinna': 16074, 'hopp': 16075, 'platte': 16076, 'vereine': 16077, 'giffeys': 16078, 'dachverbaende': 16079, 'popanz': 16080, '106': 16081, 'bravemurron': 16082, 'tqupre': 16083, 'armesdeutschla6': 16084, 'mad': 16085, '63': 16086, '9ku2d7vx4x6pebm': 16087, 'getrockneten': 16088, 'babys': 16089, 'stoff': 16090, 'gewickelt': 16091, 'rituale': 16092, 'verwendet': 16093, 'bek': 16094, 'holte': 16095, 'verschwand': 16096, 'venum84839107': 16097, 'venum': 16098, 'zweitaccount': 16099, 'gabriel08780473': 16100, 'gemeins': 16101, 'ruthlissy': 16102, 'detlefvoh7': 16103, 'bruderkanal': 16104, 'tvp': 16105, 'ideologischen': 16106, 'klassenkampf': 16107, 'imperialist': 16108, 'orf': 16109, 'verbund': 16110, 'populist': 16111, 'wirschaffendas': 16112, 'schneidt': 16113, 'umbringen': 16114, 'befremdlich': 16115, 'seebruecke': 16116, 'genesen': 16117, '20jaehriger': 16118, '35jaehrigen': 16119, 'kontaktschuld': 16120, 'conclusio': 16121, 'claudi': 16122, 'grossrazzia': 16123, 'ischer': 16124, 'aal': 16125, 'salam': 16126, '313': 16127, 'waffenhandel': 16128, 'schleuserkriminalitaet': 16129, 'passfaelschung': 16130, 'beschuldigte': 16131, 'eilicher': 16132, 'tendenzioeser': 16133, '2067': 16134, 'behaupteter': 16135, 'verordnungen': 16136, 'regulierungsmonster': 16137, 'kehrwoche': 16138, 'anni': 16139, 'else': 16140, 'bln': 16141, 'schreinerstr': 16142, 'treppenabsatz': 16143, 'wischen': 16144, 'hauswi': 16145, 'republikfluechtig': 16146, 'vorbildl': 16147, 'hausgemeinschaft': 16148, 'vollpflegeve': 16149, 'wohnungsverwaltung': 16150, 'nadel': 16151, 'zw': 16152, 'ueberragende': 16153, 'funktionsfaehigkeit': 16154, 'kanzleramts': 16155, 'preisgabe': 16156, 'fuehre': 16157, 'wiedergutzumachenden': 16158, 'ansehensverlust': 16159, 'spezialeinheit': 16160, 'sicherheitskraefte': 16161, 'bpol': 16162, 'kriminalpolizei': 16163, 'phantombild': 16164, 'katernberger': 16165, 'triebtaeter': 16166, 'haller': 16167, 'propagandisten': 16168, 'pakts': 16169, 'projekts': 16170, 'moralisierendem': 16171, 'belehrungsjournalismus': 16172, 'petra': 16173, 'hinz': 16174, 'faelscht': 16175, 'lebenslauf': 16176, 'glashaus': 16177, 'infogrebin': 16178, 'kmarseille2': 16179, 'dorisbrehm': 16180, 'netzistderspeicher': 16181, 'zusammenhaltwaehlen': 16182, 'verfassungswidrigen': 16183, 'individuum': 16184, 'zugerechnet': 16185, 'zr': 16186, '196': 16187, 'sveti': 16188, 'toma': 16189, 'slovenia': 16190, 'church': 16191, 'glises': 16192, 'krivec': 16193, 'hadithe': 16194, 'kriegszuege': 16195, 'judenprogrome': 16196, 'selbige': 16197, 'einschraenkungen': 16198, 'frauenrechte': 16199, 'fdgo': 16200, 'daucus': 16201, 'aureus': 16202, 'www': 16203, 'feministen': 16204, 'kuehn': 16205, 'ulle': 16206, 'pipapo': 16207, 'oezcan': 16208, 'pussymuetzen': 16209, 'evtl': 16210, 'ausschneiden': 16211, 'darstellung': 16212, 'esoter': 16213, 'siedlern': 16214, 'bioanbau': 16215, 'betaetigen': 16216, 'regional': 16217, 'gemuese': 16218, 'anbauen': 16219, 'rbb24': 16220, 'oops': 16221, 'gerichtsjournal': 16222, 'cou': 16223, 'housenews': 16224, 'postete': 16225, 'unvoreingenommenen': 16226, 'klage': 16227, 'architekten': 16228, 'ingenieuren': 16229, 'anwaelten': 16230, 'hinterblieb': 16231, 'fbi': 16232, 'fbi911lawsuit': 16233, 'yeah': 16234, 'bildungsstand': 16235, 'tiedje': 16236, 'speicherbaerbock': 16237, 'verstopft': 16238, 'netze': 16239, 'lincoln': 16240, 'slowakei': 16241, 'manuela': 16242, 'ueberleg': 16243, 'maliqi': 16244, 'hymne': 16245, 'kehre': 16246, 'coalition': 16247, 'iraqi': 16248, 'zwecks': 16249, 'rebuilding': 16250, 'syria': 16251, 'wage': 16252, 'traeumen': 16253, 'greatbritain': 16254, 'vollzogen': 16255, 'musikalisch': 16256, 'jedefalls': 16257, 'telaviv2019': 16258, 'normalzustand': 16259, 'verschwoerungstheorien': 16260, 'adivonpoes': 16261, 'reissmann': 16262, 'donalphonso': 16263, 'staatl': 16264, 'verschleiern': 16265, 'verwaltungsrichter': 16266, 'cheat': 16267, 'scammers': 16268, 'verschlusssache': 16269, 'dienstgebrauch': 16270, 'hinblick': 16271, 'staatswohl': 16272, 'beunruhigen': 16273, 'schwerwiegender': 16274, 'eingriff': 16275, 'clankriminalitaet': 16276, '225': 16277, 'staerkeren': 16278, 'instruments': 16279, 'messerverbot': 16280, 'pfannenverbot': 16281, 'muslimisch': 16282, 'jude': 16283, 'kontinentaldriftkonferenz': 16284, 'kontinentaldrift': 16285, '2090': 16286, 'stoerben': 16287, 'abwenden': 16288, 'driftnotstandes': 16289, 'zemmour': 16290, 'blieb': 16291, 'anarchist': 16292, 'dcb': 16293, 'est': 16294, 'ce': 16295, 'qu': 16296, 'tait': 16297, 'anarchiste': 16298, 'allemand': 16299, 'zusendung': 16300, 'pflegerin': 16301, 'wachkoma': 16302, 'musterdemokraten': 16303, 'mindeststeuer': 16304, 'europanichtdieantwo': 16305, 'wasistdiefrage': 16306, 'euisnoteurope': 16307, 'kommissaren': 16308, 'weitgehend': 16309, 'diktatorische': 16310, 'entscheidungsbefugnisse': 16311, 'verlacht': 16312, 'mummenschanz': 16313, 'doris': 16314, 'day': 16315, 'ikone': 16316, '97': 16317, 'klassenfoto': 16318, '2b': 16319, 'gesichtern': 16320, 'dreieinhalb': 16321, 'damaligen': 16322, 'strafbefehls': 16323, 'urkunden': 16324, 'aufgedeckten': 16325, 'konzentrieren': 16326, 'hhwahl': 16327, 'enthaltsamkeit': 16328, 'privatperson': 16329, 'nanny': 16330, 'oktroyierung': 16331, 'tendenzioeses': 16332, 'ethische': 16333, 'standards': 16334, 'codeofconduct': 16335, 'marilyn': 16336, 'monroe': 16337, 'marlene': 16338, '1955': 16339, 'photograph': 16340, 'milton': 16341, 'greene': 16342, 'kinderkreuzzug': 16343, 'pianistin': 16344, 'bankraeuberin': 16345, 'historischer': 16346, 'saschalobo': 16347, 'augstein': 16348, 'manuela12788891': 16349, 'menges': 16350, 'getwitte': 16351, 'ausgebildete': 16352, 'ausbildungszeit': 16353, 'pruefungsumfang': 16354, 'deutschlandweit': 16355, 'geregelt': 16356, 'zustaendig': 16357, 'gewerkes': 16358, 'beaarep': 16359, 'bra': 16360, 'touren': 16361, 'nwo': 16362, 'trojanische': 16363, 'annevanhalen': 16364, 'unkultivie': 16365, 'aufgewachtewelt': 16366, 'metal': 16367, 'ventil': 16368, 'erschleichung': 16369, 'leistungen': 16370, 'vollstaendiges': 16371, 'auslandsreisen': 16372, 'dankeschoen': 16373, 'finja': 16374, 'fleissarbeit': 16375, 'thomasgbauer': 16376, 'schuppen': 16377, 'shisha': 16378, 'geldwaeschebars': 16379, 'wettbueros': 16380, 'spielhallen': 16381, 'handylaeden': 16382, 'ins': 16383, 'frsuen': 16384, 'fluechtlingshelferinnen': 16385, 'fluechtlingsbesoffenheit': 16386, 'mollekuel': 16387, 'beginn': 16388, 'deindustriealisierung': 16389, 'rotrotgruen': 16390, 'isses': 16391, 'gruenrotromantischen': 16392, 'kosmos': 16393, 'renten': 16394, 'umfallen': 16395, 'gruenwaehler': 16396, 'drandreakahl1': 16397, 'visp': 16398, 'verbuchen': 16399, 'schnaeppchenjaeger': 16400, 'opel': 16401, 'kaufkraftverlustes': 16402, 'schuldige': 16403, 'aufbegeh': 16404, 'bedingte': 16405, 'noooiiiiinnn': 16406, 'hygienischen': 16407, 'aegisbridge': 16408, 'buden': 16409, 'gewinnspanne': 16410, 'frass': 16411, 'phoenix1108': 16412, 'griechen': 16413, 'nachbar': 16414, 'volkslobbyist': 16415, 'kaplan': 16416, 'schmeckten': 16417, 'konsistenz': 16418, 'doenergewuerz': 16419, 'bestanden': 16420, 'asiatische': 16421, 'mexikanische': 16422, 'angerueh': 16423, 'faktoren': 16424, 'verzicht': 16425, 'bedacht': 16426, 'gammelfleischmeldungen': 16427, 'doenerladen': 16428, 'tierquaelereiverdachts': 16429, 'einhergeht': 16430, 'gefressen': 16431, 'spinatdoener': 16432, 'muesli': 16433, 'heul': 16434, 'mischen': 16435, 'ernaehrungsapostel': 16436, 'predigen': 16437, 'ungesund': 16438, 'klimaschaedlich': 16439, 'kebab': 16440, 'doeneressverweigerung': 16441, 'biodeutscher': 16442, 'schaechtfleisch': 16443, 'djihad': 16444, 'gegessen': 16445, 'machtbeben': 16446, 'dirk': 16447, 'leichte': 16448, 'brise': 16449, 'geschundenen': 16450, 'rindern': 16451, 'frevel': 16452, 'betruebt': 16453, 'nei': 16454, 'freudig': 16455, 'mitgeschoepfe': 16456, 'jauchtsen': 16457, 'futureworldxxl': 16458, 'intervenie': 16459, 'fingen': 16460, 'schliessungen': 16461, '2025': 16462, 'organtransplantations': 16463, 'boulevard': 16464, 'voro': 16465, 'beirut': 16466, 'enorme': 16467, 'gewinne': 16468, 'eingefahren': 16469, 'leidtragenden': 16470, 'jeher': 16471, 'perversesten': 16472, 'herangezogen': 16473, 'perverser': 16474, 'wahnsinniger': 16475, 'sonnenstich': 16476, 'ausgedacht': 16477, 'zaehlt': 16478, 'meiste': 16479, 'tiefste': 16480, 'provinz': 16481, 'verschwoerungsopfer': 16482, 'verhallt': 16483, 'informationsblasen': 16484, 'kohlekraft': 16485, 'unnoetig': 16486, 'automarken': 16487, 'umzuruesten': 16488, 'saubere': 16489, 'motoren': 16490, 'brennstoffzellen': 16491, 'elektroantrieb': 16492, 'georgloesel': 16493, 'kirchenlehre': 16494, 'schluesse': 16495, 'werben': 16496, 'ekelhaftes': 16497, 'nazipack': 16498, 'arbeitsmarktpolitische': 16499, 'umweltthemen': 16500, 'waehlbar': 16501, 'moritzbhg': 16502, 'arnistboehse': 16503, 'ueberholen': 16504, 'mountaindream5': 16505, 'durchdachte': 16506, 'konzepte': 16507, 'echauffieren': 16508, 'biodeutschsein': 16509, 'eliteableitung': 16510, 'massenware': 16511, 'polizeikommissar': 16512, 'goebbels': 16513, 'abgelegt': 16514, 'verhoehnt': 16515, 'vollgas': 16516, 'demokratiestirbt': 16517, 'noneo': 16518, 'lebensplanung': 16519, 'aufgegangen': 16520, 'schuldigen': 16521, 'luciame': 16522, 'gesinnungstechnische': 16523, 'sspirale': 16524, 'weiser': 16525, 'vogelschiss': 16526, 'ueberfaellig': 16527, 'lebensaufgabe': 16528, 'hypen': 16529, 'besorgt': 16530, 'talkshows': 16531, 'politmagazine': 16532, 'maximale': 16533, 'aufmerksamkeitsoekonomie': 16534, 'zueguesurfer': 16535, 'grundordnung': 16536, 'gehirnlos': 16537, 'doktorarbeit': 16538, 'unterdietfu': 16539, 'lupe': 16540, 'neuwe': 16541, 'ware': 16542, 'naturschutz': 16543, 'milliardengewinn': 16544, 'kretschmers': 16545, 'kleinhirn': 16546, 'au': 16547, 'weia': 16548, 'unterlaufen': 16549, 'versehen': 16550, 'long': 16551, 'dong': 16552, 'hohlen': 16553, 'moechtegern': 16554, 'nsafd': 16555, 'hetz': 16556, 'rechtsversifften': 16557, 'ecken': 16558, 'flatrate': 16559, 'dauerschleife': 16560, 'aufgeht': 16561, 'geoutet': 16562, 'dushan': 16563, 'geduscht': 16564, 'schautnichtweg': 16565, 'armer': 16566, 'dat': 16567, 'lahmemichaela': 16568, 'durchgeknallt': 16569, 'erwaehnt': 16570, 'hetzkraehe': 16571, 'abgeordnetenentschaedigung': 16572, '780': 16573, 'einziger': 16574, 'moralischer': 16575, 'standard': 16576, 'zhbbibo': 16577, 'duschhahn': 16578, 'verwechseln': 16579, 'aufgepeitscht': 16580, 'ehrlichen': 16581, 'niemalsrechts': 16582, 'ehren': 16583, 'zutun': 16584, 'umsatz': 16585, 'energiebarone': 16586, 'windraedern': 16587, 'geschrottet': 16588, 'geltungsbeduerftige': 16589, 'loveguerillos': 16590, 'aufrechte': 16591, 'herzblut': 16592, 'vielfaeltiges': 16593, 'versinkt': 16594, 'ueblen': 16595, 'reichstagsbrandner': 16596, 'bekackte': 16597, 'kabarett': 16598, 'demenz': 16599, 'vorzuwerfen': 16600, 'unredlich': 16601, 'demenzkranken': 16602, 'faktoid': 16603, 'irr': 16604, 'weitsicht': 16605, 'snoopy': 16606, 'ritalin': 16607, 'leg': 16608, 'kriegst': 16609, 'soziopath': 16610, 'notorische': 16611, 'luegnerin': 16612, 'hassueberschuss': 16613, 'verzweifelt': 16614, 'aemwe3007': 16615, 'wahlkampfeinmischung': 16616, 'ezimmer': 16617, 'fummeln': 16618, 'kloeten': 16619, 'hmh': 16620, 'wurschd': 16621, 'endeffekt': 16622, 'trans': 16623, 'tschaeaeaeaender': 16624, 'laaangweilig': 16625, 'nervt': 16626, 'hetero': 16627, 'pussys': 16628, 'steh': 16629, 'tierreich': 16630, 'homosexuelles': 16631, '1500': 16632, 'unnatuerlich': 16633, 'variante': 16634, 'dahingestellt': 16635, 'anbeginn': 16636, 'verpoent': 16637, 'hingezogen': 16638, 'zurschau': 16639, 'guck': 16640, 'gaypride': 16641, 'paraden': 16642, 'normalen': 16643, 'fluss': 16644, 'luna': 16645, 'l0veg00d': 16646, 'mamis': 16647, 'flugreisen': 16648, 'benennt': 16649, 'harryschloemer': 16650, 'gemuetlich': 16651, 'elektrogrill': 16652, 'geschlossener': 16653, 'anstalten': 16654, 'rutscht': 16655, 'befallen': 16656, 'trinken': 16657, 'schlucken': 16658, 'seyfe': 16659, 'therapieren': 16660, 'dienstleistung': 16661, 'nullachtk': 16662, 'tiefflieger': 16663, 'dierrw': 16664, 'hs': 16665, 'izzda': 16666, 'sprachen': 16667, 'landhaustussy': 16668, 'kannste': 16669, 'garnicht': 16670, 'abgefuellte': 16671, 'vollscheisse': 16672, 'ballons': 16673, 'unmassen': 16674, 'deutschzuerst': 16675, 'himmels': 16676, 'primitivlinge': 16677, 'guete': 16678, '98763': 16679, 'kurztelefonat': 16680, 'nekrophilen': 16681, 'leichenficker': 16682, 'hastala40450101': 16683, 'aussereheliches': 16684, 'willy': 16685, 'rassenmischling': 16686, 'ficke': 16687, 'stehst': 16688, 'frazionetoskana': 16689, 'vornehmen': 16690, 'icht': 16691, 'silviaherrmann': 16692, 'immergruener': 16693, 'halbschmarotzer': 16694, 'gastfreundschaft': 16695, 'tugend': 16696, 'veranlasst': 16697, 'obdach': 16698, 'zundherzlich': 16699, 'unmuendiger': 16700, 'gebaermaschine': 16701, 'hur': 16702, 'gewaehlte': 16703, 'ziegen': 16704, 'genen': 16705, 'sheelockmaier': 16706, 'naziaufmarsch': 16707, 'neger': 16708, 'gewuenscht': 16709, 'tacken': 16710, 'gossiger': 16711, 'ausnahmen': 16712, 'regel': 16713, 'schrumpft': 16714, 'muhahaha': 16715, 'spiessigkeit': 16716, 'tarnt': 16717, 'engstirnigkeit': 16718, 'regulierungswut': 16719, 'charakterlos': 16720, 'sesselkleber': 16721, 'wuerdig': 16722, 'wahrgenommen': 16723, 'huhuhuhuu': 16724, 'teuteburger': 16725, 'willkommensdingsbums': 16726, 'massenhinrichtungen': 16727, 'list': 16728, 'feierlichkeiten': 16729, 'mitgefeie': 16730, 'bonifatius': 16731, 'faellte': 16732, 'donareiche': 16733, 'gegenwa': 16734, 'schwe': 16735, 'fokussieren': 16736, 'erkenntnisprozesse': 16737, 'relativie': 16738, 'fleiss': 16739, 'arbeitenden': 16740, 'profitie': 16741, 'jahresendmaerkte': 16742, 'kackwetter': 16743, 'menschengemacht': 16744, 'selbstbinden': 16745, 'beklatscht': 16746, 'extremer': 16747, 'urknall': 16748, 'fangen': 16749, 'annehmen': 16750, 'scheiterhaufen': 16751, 'luegendetektor': 16752, 'gaudi': 16753, 'geneigt': 16754, 'psycho': 16755, 'strippenzieher': 16756, 'grundverbloedeten': 16757, 'rankommt': 16758, 'momentanen': 16759, 'betrag': 16760, 'foerdergeldern': 16761, 'unsinnsprojekte': 16762, 'oemmes4': 16763, 'whataboutism': 16764, 'systementreuen': 16765, 'fritzfizz': 16766, 'ausrichtung': 16767, 'realitaetsverweigerung': 16768, 'meinungsaeuserung': 16769, 'nachommen': 16770, 'anheizen': 16771, 'leisetreten': 16772, 'systemstoeckchen': 16773, 'springt': 16774, 'investigativ': 16775, 'manipulative': 16776, 'polarisierend': 16777, 'gelobt': 16778, 'bodenhaftung': 16779, 'frreschke': 16780, 'weissafrikaner': 16781, 'hihihi': 16782, 'hinterweltlerisch': 16783, 'rueckgaengig': 16784, 'londoner': 16785, 'hierarchie': 16786, '51jaehrige': 16787, 'nafris': 16788, 'wieka16': 16789, 'umwegig': 16790, 'zunehmen': 16791, 'armes': 16792, 'ordnen': 16793, 'eroberer': 16794, 'rol': 16795, '0815': 16796, 'goldstueckalarm': 16797, 'muslimischer': 16798, 'vornerein': 16799, 'behandelt': 16800, 'zuspruch': 16801, 'gefaehrdet': 16802, 'falscher': 16803, 'gleichfalls': 16804, 'baujahr': 16805, '1959': 16806, 'musten': 16807, 'buchenwald': 16808, 'uebernommen': 16809, 'regierungsgeschaefte': 16810, 'lebst': 16811, 'burg': 16812, 'zugezogenen': 16813, 'rollos': 16814, 'kommst': 16815, 'zone': 16816, 'indem': 16817, 'polizeistreife': 16818, 'spendensumpf': 16819, 'bemaengeln': 16820, 'eifinanzierung': 16821, 'dersende': 16822, 'station': 16823, 'speziell': 16824, 'angepriesene': 16825, 'transferleistungen': 16826, 'erbringen': 16827, '10gb': 16828, 'ersichtlich': 16829, 'sende': 16830, 'masten': 16831, 'schwierigkeit': 16832, 'akquirieren': 16833, 'wohnbereich': 16834, 'beschlag': 16835, 'kurkamp': 16836, 'schroeder': 16837, 'lamnitzer': 16838, 'kindererziehungszeiten': 16839, 'versorgungsausgleich': 16840, 'ausfall': 16841, 'schwangerschaft': 16842, 'niederkunft': 16843, 'erziehungsleistungen': 16844, 'merkwuerdig': 16845, 'wettstreit': 16846, 'schwestern': 16847, 'unbekanntheit': 16848, 'zugeschlagen': 16849}\n"
          ]
        }
      ]
    },
    {
      "cell_type": "markdown",
      "source": [
        "# encoding or sequencing\n"
      ],
      "metadata": {
        "id": "mRzlwLYqKY8k"
      }
    },
    {
      "cell_type": "code",
      "source": [
        "encoded_clean_text_stem = tok_all.texts_to_sequences(clean_text_stem)\n",
        "print(clean_text_stem[0])\n",
        "print(encoded_clean_text_stem[0])"
      ],
      "metadata": {
        "colab": {
          "base_uri": "https://localhost:8080/"
        },
        "id": "LvQYVAQ9KUa0",
        "outputId": "0e99afac-d55c-45bb-8336-c0c4a153d0a0"
      },
      "execution_count": null,
      "outputs": [
        {
          "output_type": "stream",
          "name": "stdout",
          "text": [
            "frank rennicke   stolz  \n",
            "[932, 6275, 546]\n"
          ]
        }
      ]
    },
    {
      "cell_type": "markdown",
      "source": [
        "# Pre-padding\n"
      ],
      "metadata": {
        "id": "wWorwY-hKcBK"
      }
    },
    {
      "cell_type": "code",
      "source": [
        "from keras.preprocessing import sequence\n",
        "max_length = 100\n",
        "padded_clean_text_stem = sequence.pad_sequences(encoded_clean_text_stem, maxlen=max_length, padding='pre')"
      ],
      "metadata": {
        "id": "v911ZLQqKfPi"
      },
      "execution_count": null,
      "outputs": []
    },
    {
      "cell_type": "code",
      "source": [],
      "metadata": {
        "id": "3ihwYi0otWyf"
      },
      "execution_count": null,
      "outputs": []
    },
    {
      "cell_type": "markdown",
      "source": [
        "# Reading Test data and Pre-processing\n"
      ],
      "metadata": {
        "id": "jYqmeRiXKhu7"
      }
    },
    {
      "cell_type": "code",
      "source": [
        "import csv\n",
        "data_t = pd.read_csv(\"/content/germeval2018test.txt\",sep='\\t', encoding = \"UTF-8\", quoting=csv.QUOTE_NONE, names=(\"text\", \"task1\", \"task2\"))\n",
        "pd.set_option('display.max_colwidth',150)\n",
        "data_t.head(10)\n",
        "\n",
        "data_t['task1'] = data_t['task1'].str.replace('OTHER', 'NOT')\n",
        "data_t\n",
        "data_t['task1'] = data_t['task1'].str.replace('OFFENSE', 'HOF')\n",
        "data_t\n"
      ],
      "metadata": {
        "colab": {
          "base_uri": "https://localhost:8080/",
          "height": 424
        },
        "id": "pLKHp4MaKhSs",
        "outputId": "b49bc9d5-613f-4e03-b723-72a65690720c"
      },
      "execution_count": null,
      "outputs": [
        {
          "output_type": "execute_result",
          "data": {
            "text/plain": [
              "                                                                                                                                                       text  \\\n",
              "0                              Meine Mutter hat mir erzählt, dass mein Vater einen Wahlkreiskandidaten nicht gewählt hat, weil der gegen die Homo-Ehe ist ☺   \n",
              "1     @Tom174_ @davidbest95 Meine Reaktion; |LBR| Nicht jeder Moslem ist ein Terrorist. Aber jeder Moslem glaubt an Überlieferungen, die Gewalt und Terr...   \n",
              "2               #Merkel rollt dem Emir von #Katar, der islamistischen Terror unterstützt, den roten Teppich aus.Wir brauchen einen sofortigen #Waffenstopp!   \n",
              "3                                                                                         „Merle ist kein junges unschuldiges Mädchen“ Kch....... 😱 #tatort   \n",
              "4                                  @umweltundaktiv Asylantenflut bringt eben nur negatives für Deutschland. Drum Asylanenstop und Rückführung der Mehrzahl.   \n",
              "...                                                                                                                                                     ...   \n",
              "3527                                               @schlabonski tja, es können einen nicht alle Lieben. Es wird immer auch einen geben der einen nicht mag.   \n",
              "3528                                                                                    @RKnillmann @lawyerberlin @AfD Aha, der Islam ist eine Religion 😂😂😂   \n",
              "3529                                                     @podilein Mannheim, weltoffen und kunterbunt. Und strunzdumme Multikultiliebhaber. Verblödete halt   \n",
              "3530                                                                                        @stephanweil was ist nun mit kostenlosen Kitas in der GROKO ???   \n",
              "3531                      @Bartzissey Denn Minderheiten sind für Linke ja nur dann interessant, wenn sie gegen den Westen instrumentalisiert werden können.   \n",
              "\n",
              "     task1  task2  \n",
              "0      NOT  OTHER  \n",
              "1      NOT  OTHER  \n",
              "2      NOT  OTHER  \n",
              "3      NOT  OTHER  \n",
              "4      HOF  ABUSE  \n",
              "...    ...    ...  \n",
              "3527   NOT  OTHER  \n",
              "3528   HOF  ABUSE  \n",
              "3529   HOF  ABUSE  \n",
              "3530   NOT  OTHER  \n",
              "3531   NOT  OTHER  \n",
              "\n",
              "[3532 rows x 3 columns]"
            ],
            "text/html": [
              "\n",
              "  <div id=\"df-2e12a49a-f726-4a4b-afbb-8e7adf257e05\">\n",
              "    <div class=\"colab-df-container\">\n",
              "      <div>\n",
              "<style scoped>\n",
              "    .dataframe tbody tr th:only-of-type {\n",
              "        vertical-align: middle;\n",
              "    }\n",
              "\n",
              "    .dataframe tbody tr th {\n",
              "        vertical-align: top;\n",
              "    }\n",
              "\n",
              "    .dataframe thead th {\n",
              "        text-align: right;\n",
              "    }\n",
              "</style>\n",
              "<table border=\"1\" class=\"dataframe\">\n",
              "  <thead>\n",
              "    <tr style=\"text-align: right;\">\n",
              "      <th></th>\n",
              "      <th>text</th>\n",
              "      <th>task1</th>\n",
              "      <th>task2</th>\n",
              "    </tr>\n",
              "  </thead>\n",
              "  <tbody>\n",
              "    <tr>\n",
              "      <th>0</th>\n",
              "      <td>Meine Mutter hat mir erzählt, dass mein Vater einen Wahlkreiskandidaten nicht gewählt hat, weil der gegen die Homo-Ehe ist ☺</td>\n",
              "      <td>NOT</td>\n",
              "      <td>OTHER</td>\n",
              "    </tr>\n",
              "    <tr>\n",
              "      <th>1</th>\n",
              "      <td>@Tom174_ @davidbest95 Meine Reaktion; |LBR| Nicht jeder Moslem ist ein Terrorist. Aber jeder Moslem glaubt an Überlieferungen, die Gewalt und Terr...</td>\n",
              "      <td>NOT</td>\n",
              "      <td>OTHER</td>\n",
              "    </tr>\n",
              "    <tr>\n",
              "      <th>2</th>\n",
              "      <td>#Merkel rollt dem Emir von #Katar, der islamistischen Terror unterstützt, den roten Teppich aus.Wir brauchen einen sofortigen #Waffenstopp!</td>\n",
              "      <td>NOT</td>\n",
              "      <td>OTHER</td>\n",
              "    </tr>\n",
              "    <tr>\n",
              "      <th>3</th>\n",
              "      <td>„Merle ist kein junges unschuldiges Mädchen“ Kch....... 😱 #tatort</td>\n",
              "      <td>NOT</td>\n",
              "      <td>OTHER</td>\n",
              "    </tr>\n",
              "    <tr>\n",
              "      <th>4</th>\n",
              "      <td>@umweltundaktiv Asylantenflut bringt eben nur negatives für Deutschland. Drum Asylanenstop und Rückführung der Mehrzahl.</td>\n",
              "      <td>HOF</td>\n",
              "      <td>ABUSE</td>\n",
              "    </tr>\n",
              "    <tr>\n",
              "      <th>...</th>\n",
              "      <td>...</td>\n",
              "      <td>...</td>\n",
              "      <td>...</td>\n",
              "    </tr>\n",
              "    <tr>\n",
              "      <th>3527</th>\n",
              "      <td>@schlabonski tja, es können einen nicht alle Lieben. Es wird immer auch einen geben der einen nicht mag.</td>\n",
              "      <td>NOT</td>\n",
              "      <td>OTHER</td>\n",
              "    </tr>\n",
              "    <tr>\n",
              "      <th>3528</th>\n",
              "      <td>@RKnillmann @lawyerberlin @AfD Aha, der Islam ist eine Religion 😂😂😂</td>\n",
              "      <td>HOF</td>\n",
              "      <td>ABUSE</td>\n",
              "    </tr>\n",
              "    <tr>\n",
              "      <th>3529</th>\n",
              "      <td>@podilein Mannheim, weltoffen und kunterbunt. Und strunzdumme Multikultiliebhaber. Verblödete halt</td>\n",
              "      <td>HOF</td>\n",
              "      <td>ABUSE</td>\n",
              "    </tr>\n",
              "    <tr>\n",
              "      <th>3530</th>\n",
              "      <td>@stephanweil was ist nun mit kostenlosen Kitas in der GROKO ???</td>\n",
              "      <td>NOT</td>\n",
              "      <td>OTHER</td>\n",
              "    </tr>\n",
              "    <tr>\n",
              "      <th>3531</th>\n",
              "      <td>@Bartzissey Denn Minderheiten sind für Linke ja nur dann interessant, wenn sie gegen den Westen instrumentalisiert werden können.</td>\n",
              "      <td>NOT</td>\n",
              "      <td>OTHER</td>\n",
              "    </tr>\n",
              "  </tbody>\n",
              "</table>\n",
              "<p>3532 rows × 3 columns</p>\n",
              "</div>\n",
              "      <button class=\"colab-df-convert\" onclick=\"convertToInteractive('df-2e12a49a-f726-4a4b-afbb-8e7adf257e05')\"\n",
              "              title=\"Convert this dataframe to an interactive table.\"\n",
              "              style=\"display:none;\">\n",
              "        \n",
              "  <svg xmlns=\"http://www.w3.org/2000/svg\" height=\"24px\"viewBox=\"0 0 24 24\"\n",
              "       width=\"24px\">\n",
              "    <path d=\"M0 0h24v24H0V0z\" fill=\"none\"/>\n",
              "    <path d=\"M18.56 5.44l.94 2.06.94-2.06 2.06-.94-2.06-.94-.94-2.06-.94 2.06-2.06.94zm-11 1L8.5 8.5l.94-2.06 2.06-.94-2.06-.94L8.5 2.5l-.94 2.06-2.06.94zm10 10l.94 2.06.94-2.06 2.06-.94-2.06-.94-.94-2.06-.94 2.06-2.06.94z\"/><path d=\"M17.41 7.96l-1.37-1.37c-.4-.4-.92-.59-1.43-.59-.52 0-1.04.2-1.43.59L10.3 9.45l-7.72 7.72c-.78.78-.78 2.05 0 2.83L4 21.41c.39.39.9.59 1.41.59.51 0 1.02-.2 1.41-.59l7.78-7.78 2.81-2.81c.8-.78.8-2.07 0-2.86zM5.41 20L4 18.59l7.72-7.72 1.47 1.35L5.41 20z\"/>\n",
              "  </svg>\n",
              "      </button>\n",
              "      \n",
              "  <style>\n",
              "    .colab-df-container {\n",
              "      display:flex;\n",
              "      flex-wrap:wrap;\n",
              "      gap: 12px;\n",
              "    }\n",
              "\n",
              "    .colab-df-convert {\n",
              "      background-color: #E8F0FE;\n",
              "      border: none;\n",
              "      border-radius: 50%;\n",
              "      cursor: pointer;\n",
              "      display: none;\n",
              "      fill: #1967D2;\n",
              "      height: 32px;\n",
              "      padding: 0 0 0 0;\n",
              "      width: 32px;\n",
              "    }\n",
              "\n",
              "    .colab-df-convert:hover {\n",
              "      background-color: #E2EBFA;\n",
              "      box-shadow: 0px 1px 2px rgba(60, 64, 67, 0.3), 0px 1px 3px 1px rgba(60, 64, 67, 0.15);\n",
              "      fill: #174EA6;\n",
              "    }\n",
              "\n",
              "    [theme=dark] .colab-df-convert {\n",
              "      background-color: #3B4455;\n",
              "      fill: #D2E3FC;\n",
              "    }\n",
              "\n",
              "    [theme=dark] .colab-df-convert:hover {\n",
              "      background-color: #434B5C;\n",
              "      box-shadow: 0px 1px 3px 1px rgba(0, 0, 0, 0.15);\n",
              "      filter: drop-shadow(0px 1px 2px rgba(0, 0, 0, 0.3));\n",
              "      fill: #FFFFFF;\n",
              "    }\n",
              "  </style>\n",
              "\n",
              "      <script>\n",
              "        const buttonEl =\n",
              "          document.querySelector('#df-2e12a49a-f726-4a4b-afbb-8e7adf257e05 button.colab-df-convert');\n",
              "        buttonEl.style.display =\n",
              "          google.colab.kernel.accessAllowed ? 'block' : 'none';\n",
              "\n",
              "        async function convertToInteractive(key) {\n",
              "          const element = document.querySelector('#df-2e12a49a-f726-4a4b-afbb-8e7adf257e05');\n",
              "          const dataTable =\n",
              "            await google.colab.kernel.invokeFunction('convertToInteractive',\n",
              "                                                     [key], {});\n",
              "          if (!dataTable) return;\n",
              "\n",
              "          const docLinkHtml = 'Like what you see? Visit the ' +\n",
              "            '<a target=\"_blank\" href=https://colab.research.google.com/notebooks/data_table.ipynb>data table notebook</a>'\n",
              "            + ' to learn more about interactive tables.';\n",
              "          element.innerHTML = '';\n",
              "          dataTable['output_type'] = 'display_data';\n",
              "          await google.colab.output.renderOutput(dataTable, element);\n",
              "          const docLink = document.createElement('div');\n",
              "          docLink.innerHTML = docLinkHtml;\n",
              "          element.appendChild(docLink);\n",
              "        }\n",
              "      </script>\n",
              "    </div>\n",
              "  </div>\n",
              "  "
            ]
          },
          "metadata": {},
          "execution_count": 27
        }
      ]
    },
    {
      "cell_type": "code",
      "source": [
        "data_t.shape"
      ],
      "metadata": {
        "colab": {
          "base_uri": "https://localhost:8080/"
        },
        "id": "QrkMiNNVKrH_",
        "outputId": "21114fa1-f507-43cf-f9c4-5c1e922dd779"
      },
      "execution_count": null,
      "outputs": [
        {
          "output_type": "execute_result",
          "data": {
            "text/plain": [
              "(3532, 3)"
            ]
          },
          "metadata": {},
          "execution_count": 28
        }
      ]
    },
    {
      "cell_type": "code",
      "source": [
        "print(data_t.dtypes)"
      ],
      "metadata": {
        "colab": {
          "base_uri": "https://localhost:8080/"
        },
        "id": "MSYUUjUQKuqR",
        "outputId": "d1b917ca-5830-4b1a-beb4-a5a8d9d39d44"
      },
      "execution_count": null,
      "outputs": [
        {
          "output_type": "stream",
          "name": "stdout",
          "text": [
            "text     object\n",
            "task1    object\n",
            "task2    object\n",
            "dtype: object\n"
          ]
        }
      ]
    },
    {
      "cell_type": "code",
      "source": [
        "\n",
        "\n",
        "label_t = data_t['task1']\n",
        "label_t.head()\n",
        "\n"
      ],
      "metadata": {
        "colab": {
          "base_uri": "https://localhost:8080/"
        },
        "id": "o-We4mNjKwHA",
        "outputId": "b14ed8e5-2876-4cf3-f00e-0b41e049aa21"
      },
      "execution_count": null,
      "outputs": [
        {
          "output_type": "execute_result",
          "data": {
            "text/plain": [
              "0    NOT\n",
              "1    NOT\n",
              "2    NOT\n",
              "3    NOT\n",
              "4    HOF\n",
              "Name: task1, dtype: object"
            ]
          },
          "metadata": {},
          "execution_count": 30
        }
      ]
    },
    {
      "cell_type": "code",
      "source": [
        "print(label_t.value_counts())\n",
        "import matplotlib.pyplot as plt\n",
        "label_t.value_counts().plot(kind='bar', color='red')"
      ],
      "metadata": {
        "colab": {
          "base_uri": "https://localhost:8080/",
          "height": 346
        },
        "id": "EO_U9aM1Kxpa",
        "outputId": "7a3626ea-e6db-49f4-d5ab-11ae305f6426"
      },
      "execution_count": null,
      "outputs": [
        {
          "output_type": "stream",
          "name": "stdout",
          "text": [
            "NOT    2330\n",
            "HOF    1202\n",
            "Name: task1, dtype: int64\n"
          ]
        },
        {
          "output_type": "execute_result",
          "data": {
            "text/plain": [
              "<matplotlib.axes._subplots.AxesSubplot at 0x7fbbfbc00990>"
            ]
          },
          "metadata": {},
          "execution_count": 31
        },
        {
          "output_type": "display_data",
          "data": {
            "text/plain": [
              "<Figure size 432x288 with 1 Axes>"
            ],
            "image/png": "[encoded data removed]"
          },
          "metadata": {
            "needs_background": "light"
          }
        }
      ]
    },
    {
      "cell_type": "code",
      "source": [
        "\n",
        "\n",
        "import numpy as np\n",
        "classes_list_t = [\"HOF\",\"NOT\"]\n",
        "label_t_index = data_t['task1'].apply(classes_list_t.index)\n",
        "final_label_t = np.asarray(label_t_index)\n",
        "print(final_label_t[:10])\n",
        "\n"
      ],
      "metadata": {
        "colab": {
          "base_uri": "https://localhost:8080/"
        },
        "id": "ckCObbaYKzZz",
        "outputId": "4d488b44-eec7-4445-f7de-adebfd2162a3"
      },
      "execution_count": null,
      "outputs": [
        {
          "output_type": "stream",
          "name": "stdout",
          "text": [
            "[1 1 1 1 0 1 1 1 1 0]\n"
          ]
        }
      ]
    },
    {
      "cell_type": "code",
      "source": [
        "\n",
        "\n",
        "from keras.utils.np_utils import to_categorical\n",
        "label_twoDimension_t = to_categorical(final_label_t, num_classes=2)\n",
        "\n"
      ],
      "metadata": {
        "id": "JivaT_m3K1Ww"
      },
      "execution_count": null,
      "outputs": []
    },
    {
      "cell_type": "code",
      "source": [
        "print(label_twoDimension_t[:10])"
      ],
      "metadata": {
        "colab": {
          "base_uri": "https://localhost:8080/"
        },
        "id": "U1SXNpS7K3L5",
        "outputId": "f8117031-ab8a-43c4-9684-751f5a55c625"
      },
      "execution_count": null,
      "outputs": [
        {
          "output_type": "stream",
          "name": "stdout",
          "text": [
            "[[0. 1.]\n",
            " [0. 1.]\n",
            " [0. 1.]\n",
            " [0. 1.]\n",
            " [1. 0.]\n",
            " [0. 1.]\n",
            " [0. 1.]\n",
            " [0. 1.]\n",
            " [0. 1.]\n",
            " [1. 0.]]\n"
          ]
        }
      ]
    },
    {
      "cell_type": "code",
      "source": [
        "\n",
        "\n",
        "text_t = data_t['text']\n",
        "text_t.head(10)\n",
        "\n"
      ],
      "metadata": {
        "colab": {
          "base_uri": "https://localhost:8080/"
        },
        "id": "B4ok6nElK4sb",
        "outputId": "93e17c8a-5958-418a-cd76-188e828a871b"
      },
      "execution_count": null,
      "outputs": [
        {
          "output_type": "execute_result",
          "data": {
            "text/plain": [
              "0                             Meine Mutter hat mir erzählt, dass mein Vater einen Wahlkreiskandidaten nicht gewählt hat, weil der gegen die Homo-Ehe ist ☺\n",
              "1    @Tom174_ @davidbest95 Meine Reaktion; |LBR| Nicht jeder Moslem ist ein Terrorist. Aber jeder Moslem glaubt an Überlieferungen, die Gewalt und Terr...\n",
              "2              #Merkel rollt dem Emir von #Katar, der islamistischen Terror unterstützt, den roten Teppich aus.Wir brauchen einen sofortigen #Waffenstopp!\n",
              "3                                                                                        „Merle ist kein junges unschuldiges Mädchen“ Kch....... 😱 #tatort\n",
              "4                                 @umweltundaktiv Asylantenflut bringt eben nur negatives für Deutschland. Drum Asylanenstop und Rückführung der Mehrzahl.\n",
              "5                                                                            @_StultaMundi Die Bibel enthält ebenfalls Gesetze des Zivil- und Strafrechts.\n",
              "6                                       @Thueringen_ @Miquwarchar @Pontifex_de Man munkelt, Franziskus ist großer \"Kiss\"- und \"Black Sabbath\"-Fan! #RockOn\n",
              "7                         @hugresch @saltomentale Seit dem ist die Gesellschaft noch einmal deutlich vielfältiger geworden, auch durch die Globalisierung.\n",
              "8                                                     \"Wenn man Mädchen bildet, bildet man Generationen\" - Aqeela Asifi, Gewinnerin des #NansenAward 2015.\n",
              "9    @FeePatzer Frauen zu einem \"Ja\" zu überreden, ist nicht selten erfolgreich. Viele Frauen wollen nicht als zu leicht zu haben angesehen werden. Ode...\n",
              "Name: text, dtype: object"
            ]
          },
          "metadata": {},
          "execution_count": 35
        }
      ]
    },
    {
      "cell_type": "code",
      "source": [
        "test_wo_umlauts = text_t.apply(lambda x: remove_umlaut(x))"
      ],
      "metadata": {
        "id": "gVKigcCEY1o9"
      },
      "execution_count": null,
      "outputs": []
    },
    {
      "cell_type": "code",
      "source": [
        "\n",
        "\n",
        "import re \n",
        "\n",
        "def text_clean(text):\n",
        "    ''' Pre process and convert texts to a list of words '''\n",
        "    \n",
        "    text=text.lower()\n",
        "\n",
        "    # Clean the text\n",
        "    text = re.sub(r\"[^A-Za-z0-9^,!.\\/'+-=]\", \" \", text)\n",
        "    text = re.sub('https?://\\S+|www\\.\\S+', \"\", text)\n",
        "    text = re.sub(r\"rt\", \" \", text)\n",
        "\n",
        "    return text\n",
        "\n"
      ],
      "metadata": {
        "id": "1slTVaWDK6LP"
      },
      "execution_count": null,
      "outputs": []
    },
    {
      "cell_type": "code",
      "source": [
        "clean_text_t = test_wo_umlauts.apply(lambda x:text_clean(x))"
      ],
      "metadata": {
        "id": "P6zJo8oXK75p"
      },
      "execution_count": null,
      "outputs": []
    },
    {
      "cell_type": "code",
      "source": [
        "clean_text_t.head(10)"
      ],
      "metadata": {
        "colab": {
          "base_uri": "https://localhost:8080/"
        },
        "id": "1vIn6oXdK9ug",
        "outputId": "9964d519-8c56-4b86-8dec-691144ab9329"
      },
      "execution_count": null,
      "outputs": [
        {
          "output_type": "execute_result",
          "data": {
            "text/plain": [
              "0                           meine mutter hat mir erzaehlt, dass mein vater einen wahlkreiskandidaten nicht gewaehlt hat, weil der gegen die homo-ehe ist  \n",
              "1     tom174   davidbest95 meine reaktion;  lbr  nicht jeder moslem ist ein terrorist. aber jeder moslem glaubt an ueberlieferungen, die gewalt und ter...\n",
              "2               merkel rollt dem emir von  katar, der islamistischen terror unterstuetzt, den roten teppich aus.wir brauchen einen sofo igen  waffenstopp!\n",
              "3                                                                                         merle ist kein junges unschuldiges maedchen  kch.......    tato \n",
              "4                               umweltundaktiv asylantenflut bringt eben nur negatives fuer deutschland. drum asylanenstop und rueckfuehrung der mehrzahl.\n",
              "5                                                                             stultamundi die bibel enthaelt ebenfalls gesetze des zivil- und strafrechts.\n",
              "6                                       thueringen   miquwarchar  pontifex de man munkelt, franziskus ist grosser  kiss - und  black sabbath -fan!  rockon\n",
              "7                         hugresch  saltomentale seit dem ist die gesellschaft noch einmal deutlich vielfaeltiger geworden, auch durch die globalisierung.\n",
              "8                                                     wenn man maedchen bildet, bildet man generationen  - aqeela asifi, gewinnerin des  nansenaward 2015.\n",
              "9     feepatzer frauen zu einem  ja  zu ueberreden, ist nicht selten erfolgreich. viele frauen wollen nicht als zu leicht zu haben angesehen werden. od...\n",
              "Name: text, dtype: object"
            ]
          },
          "metadata": {},
          "execution_count": 39
        }
      ]
    },
    {
      "cell_type": "code",
      "source": [
        "\n",
        "\n",
        "import nltk\n",
        "from nltk.corpus import stopwords\n",
        "nltk.download('stopwords')\n",
        "def stop_words_removal(text1):\n",
        "    text1=[w for w in  text1.split(\" \")  if w not in stopwords.words('german')]\n",
        "    return \" \".join(text1)\n",
        "\n"
      ],
      "metadata": {
        "colab": {
          "base_uri": "https://localhost:8080/"
        },
        "id": "EH37JPgIK_KB",
        "outputId": "8410b8be-9dbc-4383-a5d3-4b8e38904c54"
      },
      "execution_count": null,
      "outputs": [
        {
          "output_type": "stream",
          "name": "stderr",
          "text": [
            "[nltk_data] Downloading package stopwords to /root/nltk_data...\n",
            "[nltk_data]   Package stopwords is already up-to-date!\n"
          ]
        }
      ]
    },
    {
      "cell_type": "code",
      "source": [
        "clean_text_t_ns=clean_text_t.apply(lambda x: stop_words_removal(x))"
      ],
      "metadata": {
        "id": "gXxxzc59LBBX"
      },
      "execution_count": null,
      "outputs": []
    },
    {
      "cell_type": "code",
      "source": [
        "print(clean_text_t_ns.head(10))"
      ],
      "metadata": {
        "colab": {
          "base_uri": "https://localhost:8080/"
        },
        "id": "TpppvvEbLCwK",
        "outputId": "45627144-ca58-4c1b-b64a-dddfb4d3d5dd"
      },
      "execution_count": null,
      "outputs": [
        {
          "output_type": "stream",
          "name": "stdout",
          "text": [
            "0                                                                             mutter erzaehlt, vater wahlkreiskandidaten gewaehlt hat, homo-ehe  \n",
            "1                              tom174   davidbest95 reaktion;  lbr  moslem terrorist. moslem glaubt ueberlieferungen, gewalt terror beguenstigen.\n",
            "2                            merkel rollt emir  katar, islamistischen terror unterstuetzt, roten teppich aus.wir brauchen sofo igen  waffenstopp!\n",
            "3                                                                                         merle junges unschuldiges maedchen  kch.......    tato \n",
            "4                                  umweltundaktiv asylantenflut bringt eben negatives fuer deutschland. drum asylanenstop rueckfuehrung mehrzahl.\n",
            "5                                                                                stultamundi bibel enthaelt ebenfalls gesetze zivil- strafrechts.\n",
            "6                                          thueringen   miquwarchar  pontifex de munkelt, franziskus grosser  kiss -  black sabbath -fan!  rockon\n",
            "7                                                       hugresch  saltomentale seit gesellschaft deutlich vielfaeltiger geworden, globalisierung.\n",
            "8                                                             maedchen bildet, bildet generationen  - aqeela asifi, gewinnerin  nansenaward 2015.\n",
            "9     feepatzer frauen  ja  ueberreden, selten erfolgreich. viele frauen leicht angesehen werden. moegen spiel. testen, wirklich interessie  ist.\n",
            "Name: text, dtype: object\n"
          ]
        }
      ]
    },
    {
      "cell_type": "markdown",
      "source": [
        "# Stemming"
      ],
      "metadata": {
        "id": "ekQq8jY5LGLH"
      }
    },
    {
      "cell_type": "code",
      "source": [
        "# Stemming\n",
        "from nltk.stem import SnowballStemmer \n",
        "stemmer = SnowballStemmer(\"german\")\n",
        "\n",
        "def word_stemmer(text):\n",
        "    stem_text = \"\".join([stemmer.stem(i) for i in text])\n",
        "    return stem_text"
      ],
      "metadata": {
        "id": "tpl3ie1dLEH4"
      },
      "execution_count": null,
      "outputs": []
    },
    {
      "cell_type": "code",
      "source": [
        "clean_text_t_stem = clean_text_t_ns.apply(lambda x : word_stemmer(x))"
      ],
      "metadata": {
        "id": "7TziiQXoLIBA"
      },
      "execution_count": null,
      "outputs": []
    },
    {
      "cell_type": "code",
      "source": [
        "print(clean_text_t_stem.head(10))"
      ],
      "metadata": {
        "colab": {
          "base_uri": "https://localhost:8080/"
        },
        "id": "XasJI_bZLJna",
        "outputId": "d4bb6514-7b8f-4d40-9126-6f8f066b94d5"
      },
      "execution_count": null,
      "outputs": [
        {
          "output_type": "stream",
          "name": "stdout",
          "text": [
            "0                                                                             mutter erzaehlt, vater wahlkreiskandidaten gewaehlt hat, homo-ehe  \n",
            "1                              tom174   davidbest95 reaktion;  lbr  moslem terrorist. moslem glaubt ueberlieferungen, gewalt terror beguenstigen.\n",
            "2                            merkel rollt emir  katar, islamistischen terror unterstuetzt, roten teppich aus.wir brauchen sofo igen  waffenstopp!\n",
            "3                                                                                         merle junges unschuldiges maedchen  kch.......    tato \n",
            "4                                  umweltundaktiv asylantenflut bringt eben negatives fuer deutschland. drum asylanenstop rueckfuehrung mehrzahl.\n",
            "5                                                                                stultamundi bibel enthaelt ebenfalls gesetze zivil- strafrechts.\n",
            "6                                          thueringen   miquwarchar  pontifex de munkelt, franziskus grosser  kiss -  black sabbath -fan!  rockon\n",
            "7                                                       hugresch  saltomentale seit gesellschaft deutlich vielfaeltiger geworden, globalisierung.\n",
            "8                                                             maedchen bildet, bildet generationen  - aqeela asifi, gewinnerin  nansenaward 2015.\n",
            "9     feepatzer frauen  ja  ueberreden, selten erfolgreich. viele frauen leicht angesehen werden. moegen spiel. testen, wirklich interessie  ist.\n",
            "Name: text, dtype: object\n"
          ]
        }
      ]
    },
    {
      "cell_type": "code",
      "source": [
        "\n",
        "\n",
        "import keras\n",
        "import tensorflow\n",
        "from keras.preprocessing.text import Tokenizer\n",
        "tok_test = Tokenizer(filters='!\"#$%&\\'()*+,-./:;<=>?@[\\\\]^_`{|}~', lower=True, char_level = False)\n",
        "tok_test.fit_on_texts(clean_text_t_stem)\n",
        "\n"
      ],
      "metadata": {
        "id": "heX7pGrELLAq"
      },
      "execution_count": null,
      "outputs": []
    },
    {
      "cell_type": "code",
      "source": [
        "\n",
        "\n",
        "vocabulary_all_test = len(tok_test.word_counts)\n",
        "print(vocabulary_all_test)\n",
        "\n"
      ],
      "metadata": {
        "colab": {
          "base_uri": "https://localhost:8080/"
        },
        "id": "i0deLjofLMxh",
        "outputId": "a994e2be-a065-4a9d-aac7-11546a0882ae"
      },
      "execution_count": null,
      "outputs": [
        {
          "output_type": "stream",
          "name": "stdout",
          "text": [
            "11999\n"
          ]
        }
      ]
    },
    {
      "cell_type": "code",
      "source": [
        "test_list = tok_test.word_index\n",
        "print(test_list)"
      ],
      "metadata": {
        "colab": {
          "base_uri": "https://localhost:8080/"
        },
        "id": "7aNXyczTLOTE",
        "outputId": "97a8e684-9c73-4572-bc3d-73c05ac98ba5"
      },
      "execution_count": null,
      "outputs": [
        {
          "output_type": "stream",
          "name": "stdout",
          "text": [
            "{'lbr': 1, 'fuer': 2, 'ja': 3, 'spd': 4, 'thomasmichael71': 5, 'mal': 6, 'miatamuc': 7, 'afd': 8, 'deutschland': 9, 'mehr': 10, 'frauen': 11, 'schon': 12, 'immer': 13, 'ist': 14, 'merkel': 15, 'mountainman1977': 16, 'gibt': 17, 'geht': 18, 'ueber': 19, 'nicht': 20, 'd': 21, 'beck': 22, 'e': 23, 'wer': 24, 'frau': 25, 'ma': 26, 'menschen': 27, 'gruenen': 28, 'werden': 29, 'pa': 30, 'heute': 31, 'rspctfl': 32, 'leben': 33, 'warum': 34, 'gut': 35, 'deutsche': 36, 'en': 37, 'ei': 38, 'houelle': 39, 'recht': 40, 'innenwelttramp': 41, 'waere': 42, 'haben': 43, 'koennen': 44, 'sein': 45, 'muessen': 46, 'cdu': 47, 'eigentlich': 48, 'deutschen': 49, 'ksemann2': 50, 'drkassandrapari': 51, 'wuerde': 52, 'genau': 53, 'f': 54, 'steht': 55, 'macht': 56, 'welt': 57, 've': 58, 'a': 59, 'tom174': 60, 'konseqliberal': 61, 'ergroovt': 62, 'einfach': 63, 'liebe': 64, 'nein': 65, 'besser': 66, 'islam': 67, 'endlich': 68, 'maenner': 69, 'fdp': 70, 'sind': 71, 'darf': 72, 'lassen': 73, 'kommt': 74, 'tun': 75, 'amp': 76, 'danke': 77, 'seit': 78, 'sj': 79, 'org': 80, 'u': 81, 'groko': 82, 'ha': 83, 'tschonka': 84, 'land': 85, 'gbs': 86, 'ganz': 87, 'fluechtlinge': 88, 'oadiakosmos': 89, 'fjordspringer': 90, 'schnubb36': 91, '3rd': 92, 'stone': 93, 'sun': 94, 'gselsbaer': 95, 'transsimian': 96, 'alfredandpaul': 97, 'tombell46959788': 98, 'kosmosoadia': 99, 'druzim': 100, 'dasebenbild': 101, 'apuleius': 102, 'karlrahner': 103, 'veronikusz': 104, 'ladyleliana': 105, 'vjanusch': 106, 'helma': 107, 'ifw': 108, 'stefanolix': 109, 'volk': 110, 'ab': 111, 'bundestag': 112, 'finde': 113, 'claudia': 114, 'wurde': 115, 'zeichentaten': 116, 'gerade': 117, 'hat': 118, 'gesellschaft': 119, 'herr': 120, 'lieber': 121, '1': 122, 'wdr': 123, 'nie': 124, 's': 125, 'freunde': 126, 'stapelchipsyt': 127, 'politik': 128, 'zeit': 129, 'spdde': 130, 'wird': 131, 'europa': 132, '2': 133, 'an': 134, 'mann': 135, 'freiheit': 136, 'sieht': 137, 'haette': 138, 'juden': 139, 'so': 140, 'hast': 141, 'inschulz': 142, 'richtig': 143, 'aus': 144, 'klar': 145, 'raus': 146, 'gott': 147, 'leider': 148, 'csu': 149, 'gewalt': 150, 'noafd': 151, 'auf': 152, 'berlin': 153, 'dafuer': 154, 'bereits': 155, 'gar': 156, 'gruene': 157, 'sagt': 158, 'erst': 159, 'de': 160, 'auswae': 161, 'ne': 162, 'vielleicht': 163, 'na': 164, 'problem': 165, 'tato': 166, 'wirklich': 167, 'lindner': 168, 'zeitonline': 169, 'scheisse': 170, 'dasstimmvieh': 171, 'linke': 172, 'ach': 173, 'indomig': 174, 'sofo': 175, 'religion': 176, 'jusos': 177, 'wegen': 178, 'beim': 179, 'regierung': 180, 'glaube': 181, 'kinder': 182, 'aktuellestunde': 183, 'dabei': 184, 'feminismus': 185, 'viele': 186, 'wohl': 187, 'arsch': 188, 'tag': 189, 'natuerlich': 190, 'we': 191, 'geben': 192, 'helgethiessen': 193, 'me': 194, 'gehen': 195, 'das': 196, 'sollten': 197, 'gehoe': 198, 'frage': 199, 'sagen': 200, 'schmarotzer': 201, 'tn': 202, 'ericca': 203, 'mensmum': 204, 'ganze': 205, 'duerfen': 206, 'ein': 207, 'weiss': 208, 'halt': 209, 'rechte': 210, 'statt': 211, 'joehellback': 212, 'alexa': 213, 'jung60': 214, 'mohrenpost': 215, 'npd': 216, 'egal': 217, 'schulz': 218, 'geschlecht': 219, 'do': 220, 'verantwo': 221, 'tuerkei': 222, 'bitte': 223, 'jahr': 224, 'weniger': 225, 'bleiben': 226, 'neuen': 227, 'sollen': 228, 'sei': 229, 'sehen': 230, 'unserer': 231, 'c': 232, 'glauben': 233, 'heisst': 234, 'schockadin': 235, 'kommen': 236, 'volker': 237, 'ard': 238, 'jahren': 239, 'gute': 240, 'staat': 241, 'stimmt': 242, 'moechte': 243, 'sie': 244, 'fakt': 245, 'allesevolution': 246, 'paedophile': 247, 'tevsa': 248, 'uhr': 249, 'amt': 250, 'namiimon': 251, 'sexuelle': 252, '4': 253, 'machen': 254, 'dank': 255, 'seid': 256, 'die': 257, 'politiker': 258, 'war': 259, 'ganzen': 260, 'eben': 261, 'meinung': 262, '10': 263, 'israel': 264, 'erwa': 265, 'zukunft': 266, 'bleibt': 267, 'geld': 268, 'roth': 269, 'nahles': 270, 'maischberger': 271, 'eu': 272, 'genug': 273, 'wann': 274, 'gemacht': 275, 'demokratie': 276, 'gerne': 277, 'tbb': 278, 'sogar': 279, 'gleich': 280, 'antwo': 281, 'gottes': 282, 'allerdings': 283, 'will': 284, 'antisemitismus': 285, 'zdf': 286, 'us': 287, 'brauchen': 288, 'usa': 289, '2017': 290, 'tweet': 291, 'es': 292, '5': 293, 'b': 294, '3': 295, 'fxn': 296, 'jemand': 297, 'uebrigens': 298, 'eien': 299, 'linken': 300, 'krippmarie': 301, 'asylanten': 302, 'ich': 303, 'wissen': 304, 'opfer': 305, 'sicher': 306, 'augen': 307, 'cayvl': 308, 'deutschlands': 309, 'bild': 310, 'nur': 311, 'gwen': 312, 'ny': 313, 'lesen': 314, 'frankyb122': 315, 'zurueck': 316, 'nazis': 317, 'ueberhaupt': 318, 'ba': 319, 'braucht': 320, 'deshalb': 321, 'ekdsynode': 322, 'gewaehlt': 323, 'igen': 324, 'stultamundi': 325, 'nazi': 326, 'ige': 327, 'sex': 328, 'mensch': 329, 'sicherheit': 330, 'z': 331, 'maennern': 332, 'miro': 333, 'denken': 334, 'fast': 335, 'wurden': 336, 'christen': 337, 'et': 338, 'neue': 339, 'beispiel': 340, 'vor': 341, 'denen': 342, 'lsvd': 343, 'abgefuckten': 344, 'voll': 345, 'koennte': 346, 'sehe': 347, 'kopftuch': 348, 'etwa': 349, 'belaestigung': 350, 'davon': 351, 'teil': 352, 'aber': 353, 'haetten': 354, 'darauf': 355, 'stolz': 356, 'denunzianten': 357, 'wenig': 358, 'alles': 359, 'morgen': 360, 'oh': 361, 'pack': 362, 'grund': 363, 'zeigt': 364, 'geschichte': 365, 'is': 366, 'wahr': 367, 'muslime': 368, 'heil': 369, 'auch': 370, 'zwei': 371, 'kann': 372, 'wuensche': 373, 'helfen': 374, 'rechten': 375, 'interessie': 376, 'arbeiten': 377, 'dagegen': 378, 'stasi': 379, 'bundesregierung': 380, 'redet': 381, 'nix': 382, 'ende': 383, 'karl': 384, 'jahre': 385, 'lange': 386, 'seite': 387, 'bloed': 388, 'reden': 389, 'schwul': 390, 'anna': 391, 'ostkueste': 392, 'deren': 393, 'stehen': 394, 'ikel': 395, 'freies': 396, 'grosse': 397, 'daran': 398, 'moderatorin': 399, 'eher': 400, 'stimme': 401, 'bekommen': 402, 'sklaven': 403, 'waldenmonk': 404, 'natur': 405, 'ung': 406, '000': 407, 'buerger': 408, 'denkt': 409, 'zissey': 410, 'waehlen': 411, 'niemals': 412, 'wichtig': 413, 'jamaika': 414, 'finden': 415, 'passt': 416, 'feepatzer': 417, 'also': 418, 'lasst': 419, 'probleme': 420, 'beatrix': 421, 'vstorch': 422, 'gesehen': 423, 'deutscher': 424, 'oezdemir': 425, '100': 426, 'vielen': 427, 'heikomaas': 428, 'verlierer50': 429, 'derdoktorant': 430, 'niemand': 431, 'kirche': 432, 'tagesspiegel': 433, 'bekommt': 434, 'sawsanchebli': 435, 'islamisten': 436, 'system': 437, '9': 438, 'weder': 439, 'ddr': 440, 'illner': 441, 'sakoelabo': 442, 'echt': 443, 'schoen': 444, 'weg': 445, 'aberfair': 446, 'thema': 447, 'alten': 448, 'bringen': 449, 'sowas': 450, 'bald': 451, 'bahn': 452, 'waehler': 453, 'kannst': 454, 'worden': 455, 'bibel': 456, 'stegner': 457, 'du': 458, '11': 459, 'groesste': 460, 'netreaper': 461, 'grossen': 462, 'thiloadamitz': 463, 'lauterbach': 464, 'jedenfalls': 465, 'lanz': 466, 'prozent': 467, 'aussage': 468, 'mittlerweile': 469, 'gesagt': 470, 'iina': 471, 'unterschied': 472, 'maas': 473, 'hoffe': 474, 'schneeridara': 475, 'goeringeckardt': 476, 'suppo': 477, 'gender': 478, 'gruen': 479, 'schande': 480, 'integration': 481, 'tut': 482, 'respekt': 483, 'twitter': 484, 'syrien': 485, 'selber': 486, 'schoenen': 487, 'kaempft': 488, 'thesme': 489, 'erdogan': 490, 'moslems': 491, 'laecherlich': 492, 'mehrheit': 493, 'wir': 494, 'hugresch': 495, 'saltomentale': 496, 'sigmargabriel': 497, 'hass': 498, 'neodeutscher': 499, 'familie': 500, 'l': 501, 'bruck': 502, '68': 503, 'nadine': 504, 'wicke': 505, 'suchen': 506, 'eilen': 507, 'abgefuckte': 508, 'leute': 509, 'hoffentlich': 510, 'schafft': 511, 'dreck': 512, 'spdbt': 513, 'kaum': 514, 'steinmeier': 515, 'politische': 516, 'habt': 517, 'ey': 518, 'zersetzung': 519, 'alte': 520, 'alt': 521, 'islamischen': 522, 'scheiss': 523, 'dumm': 524, '30': 525, 'joemino': 526, 'groessten': 527, 'ueberall': 528, 'h': 529, 'eigenen': 530, 'm': 531, 'daher': 532, 'schlecht': 533, 'bedford': 534, 'strohm': 535, 'hand': 536, 'falsch': 537, 'nehmen': 538, 'rechts': 539, 'hose': 540, 'koalition': 541, 'hube': 542, 'trotzdem': 543, 'flucht': 544, 'haelt': 545, 'mit': 546, 'zeiten': 547, 'nennt': 548, '15': 549, 'schlimm': 550, 'krieg': 551, 'o': 552, 'spiel': 553, 'strunzdumm': 554, 'botschaft': 555, 'der': 556, 'weiter': 557, 'willst': 558, 'oesterreich': 559, 'rede': 560, 'verloren': 561, '20': 562, 'hilfe': 563, 'ausser': 564, 'neythomas': 565, 'wittenberg': 566, 'wahrheit': 567, 'meyermit': 568, 'freien': 569, '12': 570, 'ideologie': 571, 'ig': 572, 'mut': 573, 'teufel': 574, 'sich': 575, 'bayern': 576, '27': 577, 'verbrecher': 578, 'damals': 579, 'muss': 580, 'swagenknecht': 581, 'hunde': 582, 'doch': 583, 'auslaender': 584, '19': 585, 'findet': 586, 'studies': 587, 'tatsaechlich': 588, 'palmer': 589, 'atheisten': 590, 'bestimmt': 591, 'all': 592, 'bonn': 593, 'tragen': 594, 'da': 595, 'ichwars': 596, 'zdfheute': 597, 'abschieben': 598, 'tod': 599, 'darueber': 600, 'letzten': 601, 'neu': 602, 'suzimiya': 603, 'kittypunk7': 604, 'wollen': 605, 'kopf': 606, 'ekd': 607, 'behauptet': 608, 'sci': 609, 'fanboi': 610, 'xxxopexobxxx': 611, 'los': 612, 'steinbacherika': 613, 'nimmt': 614, 'junge': 615, 'ersten': 616, 'gegenueber': 617, 'bin': 618, 'eh': 619, 'behandelt': 620, 'bund': 621, 'gauck': 622, 'ralf': 623, 'verrecken': 624, 'usw': 625, 'scheinheilgste': 626, 'frueher': 627, 'clydevpg': 628, 'verdient': 629, 'besteht': 630, 'solange': 631, 'laesst': 632, 'union': 633, 'cem': 634, 'bist': 635, 'jetzt': 636, 'zeichen': 637, 'whetzler': 638, 'handeln': 639, 'weit': 640, 'gabriel': 641, 'tiere': 642, 'gilt': 643, 'dennoch': 644, 'kultur': 645, 'koran': 646, 'tagesschau': 647, 'bio': 648, 'kischeph': 649, 'ekelhaft': 650, 'hannes': 651, 'elefant': 652, 'chsascha': 653, 'pfui': 654, 'freue': 655, 'unbekannnt': 656, 'geist': 657, 'begriff': 658, 'links': 659, 'polizei': 660, 'helheimer': 661, '14': 662, 'was': 663, 'landesbischof': 664, 'verstehen': 665, 'passie': 666, 'ging': 667, 'neba17': 668, 'bloss': 669, 'mich': 670, 'frei': 671, 'sendung': 672, 'heimat': 673, '2016': 674, 'wi': 675, 'schaft': 676, 'muesste': 677, 'direkt': 678, 'zahlen': 679, 'hinweis': 680, 'mag': 681, 'sonntag': 682, 'mdr': 683, 'm8flo': 684, 'bolzandrea': 685, 'lgnimag': 686, 'nordicskulled': 687, 'coffee': 688, 'grind': 689, 'chinasky64a': 690, 'regieren': 691, 'wollten': 692, 'aendern': 693, 'mio': 694, 'rot': 695, '18': 696, 'sagte': 697, 'denke': 698, 'rentner': 699, 'kjempeslu': 700, 'erkennen': 701, 'drei': 702, 'unsinn': 703, 'innen': 704, 'nsu': 705, 'euch': 706, 'folgen': 707, 'obergrenze': 708, 'kotzen': 709, 'wieso': 710, 'fettigen': 711, 'haaren': 712, 'kennen': 713, 'wahlen': 714, 'hetero': 715, 'ehe': 716, 'glaubt': 717, 'terror': 718, 'maedchen': 719, 'drum': 720, 'mariobuchinger': 721, 'vt2017': 722, 'gefueh': 723, 'manila': 724, 'obwohl': 725, 'kampf': 726, 'halten': 727, 'tweets': 728, 'lucasschoppe1': 729, 'hoeren': 730, 'ziemlich': 731, 'je': 732, 'maurice': 733, 'breuer': 734, 'kindern': 735, 'gemeinsam': 736, 'abschaum': 737, 'meinungsfreiheit': 738, 'geil': 739, 'sozis': 740, 'dazu': 741, 'stadt': 742, 'dann': 743, 'oben': 744, 'nrw': 745, 'insbesondere': 746, 'arbeitet': 747, 'forde': 748, 'rassismus': 749, 'landes': 750, 'stellt': 751, 'gab': 752, 'glueckwunsch': 753, 'facebook': 754, 'altpa': 755, 'medien': 756, 'solidaritaet': 757, 'gesamte': 758, 'hi': 759, 'korrekt': 760, 'zusammen': 761, 'fragt': 762, 'zumindest': 763, 'grenzen': 764, 'gutes': 765, 'padit1337': 766, 'cducsubt': 767, 'text': 768, 'heuchler': 769, 'sager': 770, 'er': 771, 'glueck': 772, 'deintherapeut': 773, 'fs': 774, 'angst': 775, 'familien': 776, 'spricht': 777, 'besten': 778, 'alle': 779, 'wahl': 780, 'eigene': 781, 'muenchen': 782, 'stimmen': 783, 'politischen': 784, 'schnell': 785, 'weidenkatzl': 786, 'setzt': 787, 'hetze': 788, 'tuerken': 789, 'waehlt': 790, 'kennt': 791, 'rein': 792, 'verbieten': 793, 'religioese': 794, 'allein': 795, 'mehrere': 796, 'deswegen': 797, 'weihnachten': 798, 'fluechtlingen': 799, 'feie': 800, 'voellig': 801, 'mutter': 802, 'deutlich': 803, 'afrika': 804, 'weisst': 805, 'i': 806, 'kosten': 807, 'weibliche': 808, 'liegt': 809, 'geh': 810, 'fussball': 811, 'schauen': 812, 'menschenverachtung': 813, 'waffen': 814, 'gesetz': 815, 'erfolg': 816, 'bevoelkerung': 817, 'balleryna': 818, 'schliesslich': 819, 'neues': 820, 'faz': 821, 'soziale': 822, 'glyphosat': 823, 'kritik': 824, 'gebracht': 825, 'punkt': 826, 'film': 827, 'huebner': 828, 'law': 829, 'arbeit': 830, 'falsche': 831, 'informationen': 832, 'gelten': 833, 'interessant': 834, 'bisher': 835, 'erklae': 836, 'petpanther0': 837, 'vorher': 838, 'laenger': 839, 'religionen': 840, 'zerstoe': 841, 'lieben': 842, 'schuld': 843, 'npdde': 844, 'christoph': 845, 'scottiracer': 846, 'ziehen': 847, 'online': 848, 'sozi': 849, 'dielinke': 850, 'jim': 851, 'beau': 852, 'wuerden': 853, 'neben': 854, 'flyingtomoon': 855, 'mo': 856, 'imer': 857, 'niels': 858, 'rechtsstaat': 859, 'vergessen': 860, 'haut': 861, 'igesamt': 862, 'san': 863, 'stellen': 864, 'hilft': 865, 'connor': 866, 'larkin': 867, 'asyl': 868, 'ehrlich': 869, 'gehoeren': 870, 'letzte': 871, 'ichbinmuckmuck': 872, 'tonino85': 873, 'platz': 874, 'heissen': 875, 'darin': 876, 'um': 877, 'eltern': 878, '8': 879, 'kirchentag': 880, 'zeigen': 881, 'dadurch': 882, 'fahren': 883, 'faellt': 884, '13': 885, 'mitglieder': 886, 'freiwillig': 887, 'feministen': 888, 'uns': 889, 'bstu': 890, 'live': 891, 'erfahren': 892, 'fehlt': 893, 'unterlagen': 894, 'reten': 895, 'klasse': 896, 'laut': 897, 'jahres': 898, 'wissenschaft': 899, 'pro': 900, 'salafisten': 901, 'zu': 902, 'tja': 903, 'davidbest95': 904, 'moslem': 905, 'gesetze': 906, 'wen': 907, 'schwarz': 908, 'koennt': 909, '28': 910, 'hier': 911, 'stark': 912, 'immerhin': 913, 'bett': 914, 'grundsaetzlich': 915, 'kirchen': 916, 'kraft': 917, 'ns': 918, 'regime': 919, 'jugend': 920, 'via': 921, 'sed': 922, 'joeygerlach': 923, 'spitze': 924, 'rente': 925, 'gerechtigkeit': 926, 'basis': 927, 'israels': 928, 'annewill': 929, 'linksgruene': 930, 'propaganda': 931, 'und': 932, 'bonkekolja': 933, 'mz': 934, 'lass': 935, 'dinge': 936, 'kurz': 937, 'bieten': 938, 'christentum': 939, 'ruhe': 940, 'wussten': 941, 'woche': 942, 'grad': 943, 'untergang': 944, 'donbarbone': 945, 'sag': 946, 'sorry': 947, 'mama': 948, 'essen': 949, 'verstehe': 950, 'bestimmte': 951, 'schwule': 952, 'kleidung': 953, 'leisten': 954, 'patriotismus': 955, 'aposener': 956, 'hab': 957, 'sh': 958, 'npdwittenberg': 959, 'offen': 960, 'herzlichen': 961, 'gleiche': 962, 'preis': 963, 'staatsbuerger': 964, 'erinne': 965, 'darum': 966, 'verhindern': 967, 'fr': 968, 'reformationsjubilaeum': 969, 'lebt': 970, 'mir': 971, 'n': 972, 'btw17': 973, 'meisten': 974, 'tagen': 975, 'ziel': 976, 'bekannt': 977, 'info': 978, 'geschrieben': 979, 'wenn': 980, 'ergebnis': 981, 'westminster1000': 982, 'schreibt': 983, 'werdet': 984, 'gehabt': 985, 'lich': 986, 'hoelle': 987, 'fueh': 988, 'berichtet': 989, 'verhinde': 990, 'migranten': 991, 'ueberleben': 992, 'kleine': 993, 'everlast': 994, '6': 995, 'voller': 996, 'olewahr': 997, 'erlebt': 998, 'christlichen': 999, 'verkaufen': 1000, 'froh': 1001, 'ick': 1002, 'geschafft': 1003, 'pfaffen': 1004, 'montagsdemogida': 1005, 'deutsches': 1006, 'erinnern': 1007, 'durchaus': 1008, 'super': 1009, 'x': 1010, 'brd': 1011, 'schoene': 1012, 'mohammed': 1013, 'muslimen': 1014, 'erstmal': 1015, 'wie': 1016, 'abend': 1017, 'kaempfen': 1018, 'gamergateblogde': 1019, 'obama': 1020, 'diskriminierung': 1021, 'noch': 1022, 'rausschmeissen': 1023, 'btw2017': 1024, 'freuen': 1025, 'gefaellt': 1026, 'namen': 1027, 'fluechtling': 1028, 'teile': 1029, 'sinn': 1030, 'erreicht': 1031, 'sage': 1032, 'studie': 1033, 'taeglich': 1034, 'ebenso': 1035, 'bmfsfj': 1036, 'guten': 1037, 'servicezeit': 1038, 'offenbar': 1039, 'lacht': 1040, 'schwachsinn': 1041, 'benjyr01': 1042, 'mach': 1043, 'realitaet': 1044, 'gelesen': 1045, 'claasen': 1046, 'nils': 1047, 'afdwuergt': 1048, 'eilt': 1049, 'schmoddrigen': 1050, 'age': 1051, 'setzen': 1052, 'vater': 1053, 'bringt': 1054, 'geworden': 1055, '2015': 1056, 'moegen': 1057, 'bastarde': 1058, 'damit': 1059, 'traurig': 1060, 'metoo': 1061, 'sollte': 1062, 'nichts': 1063, 'einst': 1064, 'stehe': 1065, 'minderheit': 1066, 'erste': 1067, 'beantwo': 1068, 'iv': 1069, 'erklaeren': 1070, 'sprechen': 1071, 'peter': 1072, 'simone': 1073, 'ehefueralle': 1074, 'judentum': 1075, 'kapitalismus': 1076, 'alter': 1077, 'dietrich': 1078, 'bonhoeffer': 1079, 'erkennt': 1080, 'dich': 1081, 'pfaffe': 1082, 'versucht': 1083, 'persoenlich': 1084, 'lehrer': 1085, 'traegt': 1086, 'sitzen': 1087, 'asiaten': 1088, 'boehmermann': 1089, 'laferlichterluther': 1090, 'schuetzen': 1091, 'wichtiger': 1092, 'stoppen': 1093, 'siehst': 1094, 'asylantenpack': 1095, 'arme': 1096, 'sexuell': 1097, 'eil': 1098, 'aufgrund': 1099, 'widerstand': 1100, 'jala': 1101, 'varietas': 1102, 'konso': 1103, 'rache': 1104, 'voelker': 1105, 'regie': 1106, 'gefallen': 1107, 'freie': 1108, 'ideen': 1109, 'selbstverstaendlich': 1110, 'wacht': 1111, 'melideluxe': 1112, 'schutz': 1113, 'geschichten': 1114, 'dialog': 1115, 'sz': 1116, 'handelt': 1117, 'annika': 1118, 'schach': 1119, 'vernichten': 1120, 'wieviel': 1121, 'bislang': 1122, 'aufnehmen': 1123, 'familiennachzug': 1124, '2018': 1125, 'habe': 1126, 'ermordet': 1127, 'dera': 1128, 'strunzdumme': 1129, 'wem': 1130, 'reicht': 1131, 'nee': 1132, 'waehrend': 1133, 'volksverraeter': 1134, 'frankfu': 1135, 'ignorie': 1136, 'frankreich': 1137, 'bezahlt': 1138, 't': 1139, 'el': 1140, 'golzheimer': 1141, 'boese': 1142, 'plan': 1143, 'hoe': 1144, 'entscheidung': 1145, 'linksfraktion': 1146, 'nacht': 1147, 'irgendwie': 1148, 'jungen': 1149, 'ner': 1150, 'spookymoth': 1151, 'jung': 1152, 'millionen': 1153, 'waeren': 1154, 'schwarzen': 1155, 'anders': 1156, 'stefanscharf': 1157, 'dd': 1158, 'gewinnen': 1159, 'naechsten': 1160, 'langsam': 1161, 'fall': 1162, 'tinido': 1163, 'herzen': 1164, 'langweilig': 1165, 'weiterhin': 1166, 'einwanderung': 1167, 'strasse': 1168, 'palaestina': 1169, 'verboten': 1170, 'veru': 1171, 'aufs': 1172, 'luegen': 1173, 'fuehren': 1174, 'hauptstadt': 1175, 'scheint': 1176, 'alleine': 1177, 'pete': 1178, 'auber': 1179, 'stecken': 1180, 'deutschpi': 1181, 'noetig': 1182, 'stunden': 1183, 'kriege': 1184, 'patriciad0305': 1185, 'ausgerechnet': 1186, 'ihr': 1187, 'fette': 1188, 'wuenschen': 1189, 'gespannt': 1190, 'mdraktuell': 1191, 'danach': 1192, 'hetzen': 1193, 'praeses': 1194, 'schwaetzer': 1195, 'scheisst': 1196, 'schwer': 1197, 'orf': 1198, 'autos': 1199, 'gelder': 1200, 'fliehen': 1201, 'ah': 1202, 'umbilicussuevia': 1203, 'neuwahlen': 1204, 'weh': 1205, 'botschaften': 1206, 'typisch': 1207, 'deutsch': 1208, 'ausserdem': 1209, 'besonders': 1210, 'derspiegel': 1211, 'gern': 1212, 'gibts': 1213, 'maul': 1214, 'staendig': 1215, 'rv': 1216, 'gefahr': 1217, 'alternativends': 1218, 'diskussion': 1219, 'laendern': 1220, 'laeuft': 1221, 'paar': 1222, 'spielen': 1223, 'wende': 1224, '80': 1225, 'dumme': 1226, 'berichten': 1227, 'ruecksicht': 1228, 'entgegen': 1229, 'strunz': 1230, 'axel': 1231, 'nach': 1232, 'bundeswehr': 1233, 'incirlik': 1234, 'fuers': 1235, 'schieritz': 1236, 'ernst': 1237, 'quatsch': 1238, 'vorsitzende': 1239, 'hilbig': 1240, 'hoch': 1241, 'gegenteil': 1242, 'asylschmarotzer': 1243, 'frieden': 1244, 'westen': 1245, 'anspruch': 1246, 'geniessen': 1247, 'milliarden': 1248, 'jedemequality': 1249, 'wieder': 1250, 'nochmal': 1251, 'bezahlen': 1252, 'fraktion': 1253, 'v': 1254, 'focusonline': 1255, 'wahrscheinlich': 1256, 'gefaehrlich': 1257, 'bevor': 1258, 'jo': 1259, 'verhalten': 1260, 'diskutieren': 1261, 'behaupten': 1262, 'rueckgrat': 1263, 'yvonne': 1264, 'willicks': 1265, 'fressen': 1266, 'leid': 1267, 'hause': 1268, 'fe': 1269, 'anschlag': 1270, 'vs': 1271, 'rechter': 1272, 'bedeutet': 1273, 'minderheitsregierung': 1274, 'treue': 1275, 'mdl': 1276, 'muell': 1277, 'bernd': 1278, 'haus': 1279, 'kind': 1280, 'gegeben': 1281, 'zwingen': 1282, '00': 1283, 'untera': 1284, 'faschisten': 1285, 'berliner': 1286, 'ibikus31': 1287, 'fresse': 1288, 'schwulen': 1289, 'oeffentlich': 1290, 'leipzig': 1291, 'dass': 1292, 'sicht': 1293, 'lang': 1294, 'rolandtichy': 1295, 'aufstehen': 1296, 'ebenfalls': 1297, 'leicht': 1298, 'symbol': 1299, 'meinst': 1300, 'dittmar': 1301, 'katrin': 1302, 'internet': 1303, 'nutzen': 1304, 'heiligen': 1305, 'entschieden': 1306, 'vie': 1307, 'geschlechter': 1308, 'mache': 1309, 'saudi': 1310, 'situation': 1311, 'jemen': 1312, 'beiden': 1313, 'menschenrechten': 1314, 'posten': 1315, 'erlaubt': 1316, 'mitarbeiter': 1317, 'konsequenzen': 1318, 'tradition': 1319, 'hoecke': 1320, 'gelernt': 1321, 'kuehnikev': 1322, 'kollektivismus': 1323, 'bedenken': 1324, 'doof': 1325, 'niedersachsen': 1326, 'friedman': 1327, 'parlament': 1328, 'beste': 1329, 'aufgeklae': 1330, 'heribe': 1331, 'prantl': 1332, 'eile': 1333, 'per': 1334, 'jcm': 1335, 'achim7871': 1336, 'bzw': 1337, 'wahnsinn': 1338, 'afdberlin': 1339, 'stand': 1340, 'these': 1341, 'hadithe': 1342, 'schreiben': 1343, 'xyeinzelfall': 1344, 'getan': 1345, 'klein': 1346, 'wenigstens': 1347, 'zusammenhang': 1348, 'anhaenger': 1349, 'schwein': 1350, 'eier': 1351, 'alice': 1352, 'weidel': 1353, 'hollsteinm': 1354, 'antisemitischen': 1355, 'zuvor': 1356, 'andrea': 1357, 'gleichzeitig': 1358, 'gehe': 1359, 'gewesen': 1360, 'suche': 1361, 'fremden': 1362, 'sozialdemokraten': 1363, 'merkels': 1364, 'maybritillner': 1365, 'unrecht': 1366, 'eilung': 1367, 'oft': 1368, 'hoffen': 1369, 'betroffenen': 1370, 'lsvdsaar': 1371, 'minderheiten': 1372, 'liefe': 1373, 'luther': 1374, 'littlewisehen': 1375, 'gruenden': 1376, 'apfel': 1377, 'drittesgeschlecht': 1378, 'ecke': 1379, 'musst': 1380, 'buch': 1381, 'dummkoepfe': 1382, 'radikal': 1383, 'taff': 1384, 'muesst': 1385, 'lage': 1386, 'matt': 1387, 'espunkt': 1388, 'merken': 1389, 'un': 1390, 'interview': 1391, 'dran': 1392, 'komplett': 1393, 'halte': 1394, 'gestalten': 1395, 'angewiesen': 1396, 'manchmal': 1397, 'schoener': 1398, 'freund': 1399, 'nervt': 1400, 'christliche': 1401, 'larswinter': 1402, 'bolschewismus': 1403, 'wunde': 1404, 'sexualitaet': 1405, 'mindestens': 1406, 'bwspricht': 1407, 'auto': 1408, '25': 1409, 'moeglich': 1410, 'keine': 1411, 'erleben': 1412, 'widerlich': 1413, 'tatsache': 1414, 'lernen': 1415, 'wach': 1416, 'schlimmer': 1417, 'hamburg': 1418, 'jerusalem': 1419, 'dienst': 1420, 'fraukepetry': 1421, 'sorgt': 1422, 'tat': 1423, 'knast': 1424, 'jude': 1425, 'china': 1426, 'orban': 1427, 'wies': 1428, 'himmel': 1429, 'sth': 1430, 'anschauen': 1431, 'riexinger': 1432, 'bundestagswahl': 1433, 'jedoch': 1434, 'idee': 1435, 'retten': 1436, 'urlaub': 1437, 'gg': 1438, '0': 1439, 'meistens': 1440, 'kaempfe': 1441, 'hevellia64': 1442, 'taeter': 1443, 'denk': 1444, 'krank': 1445, 'toleranz': 1446, 'kanzlerin': 1447, 'europas': 1448, 'nogroko': 1449, 'anti': 1450, 'ka': 1451, 'schlafmichel': 1452, 'weitere': 1453, 'crossss': 1454, 'bommel': 1455, 'rockt': 1456, 'herz': 1457, 'schlabonski': 1458, 'fo': 1459, 'akifpirincci': 1460, 'willen': 1461, 'follower': 1462, 'willkommen': 1463, 'christian': 1464, 'belaestigt': 1465, 'aba': 1466, 'opfern': 1467, 'verstaendnis': 1468, 'gedenken': 1469, 'sexismus': 1470, 'bildung': 1471, 'gestern': 1472, 'profil': 1473, 'stoll': 1474, 'erzbistumhh': 1475, 'strafe': 1476, 'allzu': 1477, 'antrag': 1478, 'abstimmung': 1479, 'abzug': 1480, 'drauf': 1481, 'scheinheilige': 1482, 'gleichberechtigung': 1483, 'tv': 1484, 'steuerzahler': 1485, 'entscheiden': 1486, 'heutigen': 1487, 'radikalen': 1488, 'ltwnds17': 1489, 'pass': 1490, 'notwendig': 1491, 'beenden': 1492, 'genommen': 1493, 'droht': 1494, 'ruhig': 1495, 'verstanden': 1496, 'amtes': 1497, 'boesen': 1498, 'schwarze': 1499, 'bloedsinn': 1500, 'tochter': 1501, 'eins': 1502, 'irgendwo': 1503, 'davor': 1504, 'tief': 1505, 'debatte': 1506, 'akten': 1507, 'glaubst': 1508, '09': 1509, 'wohlstand': 1510, 'achtpanther': 1511, 'heuchelei': 1512, 'fragen': 1513, 'weiblichkeit': 1514, 'naemlich': 1515, 'r': 1516, 'erkannt': 1517, 'neger': 1518, 'offensichtlich': 1519, 'gezwungen': 1520, 'freiheiten': 1521, 'euro': 1522, 'morgenmagazin': 1523, 'gestellt': 1524, 'entwicklung': 1525, 'schlechter': 1526, 'schaeuble': 1527, 'reter': 1528, 'ulfposh': 1529, 'awillburger': 1530, 'gesellschaftliche': 1531, 'hauptsache': 1532, 'kleiner': 1533, '7': 1534, 'papst': 1535, 'demo': 1536, 'marx': 1537, 'passieren': 1538, 'sterben': 1539, 'lies': 1540, 'robinalexander': 1541, 'osten': 1542, 'kulturen': 1543, 'funktionie': 1544, 'fenster': 1545, 'tuebingen': 1546, 'peterpa34083139': 1547, 'hilfetelefon': 1548, 'diejenigen': 1549, 'trump': 1550, 'schade': 1551, 'raum': 1552, 'account': 1553, 'lawyerberlin': 1554, 'ziv': 1555, 'frag': 1556, 'job': 1557, 'abgeordneten': 1558, 'volkes': 1559, 'gruppe': 1560, 'stueck': 1561, 'ewig': 1562, 'ohne': 1563, 'abhaengig': 1564, 'kicher': 1565, 'erzaehlt': 1566, 'homo': 1567, 'reaktion': 1568, 'islamistischen': 1569, 'roten': 1570, 'grosser': 1571, 'fan': 1572, 'ivyandwoe': 1573, 'heuteshow': 1574, '21': 1575, 'jahrzehnten': 1576, 'grundgesetz': 1577, 'erreichen': 1578, 'geklae': 1579, 'wind': 1580, 'dummschwaetzer': 1581, 'dobrindt': 1582, 'geschlossen': 1583, 'kaeme': 1584, 'vorhanden': 1585, 'logik': 1586, 'tschuess': 1587, 'arabien': 1588, 'mist': 1589, 'schulen': 1590, 'unterricht': 1591, 'ismail': 1592, 'kupeli': 1593, 'demnaechst': 1594, 'dr': 1595, 'och': 1596, 'joerg': 1597, 'meuthen': 1598, 'erfahrungen': 1599, 'man': 1600, 'deppen': 1601, 'verraten': 1602, 'verwendet': 1603, 'hugomuellervogg': 1604, 'werfen': 1605, 'kinderfickerpa': 1606, 'extrem': 1607, 'spass': 1608, 'kriechen': 1609, 'quelle': 1610, 'kontext': 1611, 'beziehungen': 1612, 'griechen': 1613, 'voru': 1614, 'ronzheimer': 1615, 'migrationshintergrund': 1616, 'kahuna456': 1617, 'hae': 1618, 'bereit': 1619, 'abschaffung': 1620, 'gruener': 1621, 'bestehen': 1622, 'ihnen': 1623, 'plus': 1624, 'neuer': 1625, 'com': 1626, 'tschechen': 1627, 'etwas': 1628, 'furchtbar': 1629, 'nennen': 1630, 'mannheim': 1631, 'bvg': 1632, 'strotzt': 1633, 'inmitten': 1634, 'kostenlosen': 1635, 'kita': 1636, 'machst': 1637, 'fernsehen': 1638, 'donalphonso': 1639, 'faeh': 1640, 'wobei': 1641, 'verletzt': 1642, 'den': 1643, 'mundaufmachen': 1644, 'waehle': 1645, '17': 1646, 'ignorieren': 1647, '90': 1648, 'straftaten': 1649, 'merkt': 1650, 'europaeischen': 1651, 'wozu': 1652, 'entsorgen': 1653, 'wisst': 1654, 'dachte': 1655, 'palaestinenser': 1656, 'jamme': 1657, 'licht': 1658, '60': 1659, 'sahneschoko': 1660, 'juedische': 1661, 'normal': 1662, 'leistungen': 1663, 'woanders': 1664, 'falschen': 1665, 'kritisieren': 1666, 'armut': 1667, 'hitler': 1668, 'loki777': 1669, 'bjoern': 1670, 'lsvdhamburg': 1671, 'lsvdkoeln': 1672, 'lsvdndshb': 1673, 'rlp': 1674, 'september': 1675, 'ritt': 1676, 'definition': 1677, 'einsatz': 1678, 'kuehne': 1679, 'mocho2': 1680, 'zaehlt': 1681, 'soeder': 1682, 'entsorgt': 1683, '1945': 1684, 'kommentare': 1685, 'steckt': 1686, 'kunst': 1687, 'uebrigen': 1688, 'sichern': 1689, 'etc': 1690, 'teilweise': 1691, 'drin': 1692, 'darfst': 1693, 'unterstuetzen': 1694, 'hapatamast': 1695, 'fli': 1696, 'mass': 1697, 'christ': 1698, 'vorgehen': 1699, 'versuch': 1700, 'schau': 1701, 'spderneuern': 1702, 'erneuern': 1703, 'capslockchris': 1704, 'lgrimsqueaker': 1705, 'rieben': 1706, 'geheimnis': 1707, 'beide': 1708, 'dicht': 1709, 'renatekuenast': 1710, 'islamischer': 1711, 'fluechtlingspolitik': 1712, 'trident750': 1713, 'christus': 1714, 'stille': 1715, 'ceta': 1716, 'db': 1717, 'minuten': 1718, 'blut': 1719, 'frank': 1720, 'pasemann': 1721, 'stuerzen': 1722, 'gesprochen': 1723, 'unterstuetzung': 1724, 'schweiz': 1725, 'terroristen': 1726, 'endogamieregel': 1727, 'gaborsteinga': 1728, 'total': 1729, 'gauland': 1730, 'afdimbundestag': 1731, 'niemanden': 1732, 'schlagen': 1733, 'verraeter': 1734, 'aha': 1735, 'verfassung': 1736, 'gesicht': 1737, 'sau': 1738, 'name': 1739, 'lauhofmann': 1740, 'kahrs': 1741, 'thomasoppermann': 1742, 'sondierungen': 1743, 'menschenrechte': 1744, 'jahrhunde': 1745, 'traeum': 1746, 'belegen': 1747, 'ben': 1748, 'ausweisen': 1749, 'kaufen': 1750, 'nachrichten': 1751, 'naiv': 1752, 'korrigie': 1753, 'cool': 1754, 'wundern': 1755, 'meint': 1756, 'schweigen': 1757, 'hoere': 1758, 'titten': 1759, 'gebt': 1760, 'wechseln': 1761, 'twaudes': 1762, 'betet': 1763, 'matthiasmeisner': 1764, 'entweder': 1765, 'woher': 1766, 'zufolge': 1767, 'angaben': 1768, 'erfahrung': 1769, 'patriarchat': 1770, 'muslimische': 1771, 'soweit': 1772, 'arbeitgeber': 1773, 'kompetent': 1774, 'mossul': 1775, 'rakubln': 1776, 'minister': 1777, 'ulrichkelber': 1778, 'quote': 1779, 'durchsetzen': 1780, 'haufen': 1781, 'dietmarba': 1782, 'sch': 1783, 'koennten': 1784, 'reisewarnung': 1785, 'typ': 1786, 'kreuz': 1787, 'ungarn': 1788, 'blick': 1789, 'dorabromberger': 1790, 'verlieren': 1791, 'hin': 1792, 'kz': 1793, 'dieter': 1794, 'nuhr': 1795, 'lustig': 1796, 'heinrich': 1797, 'krug': 1798, 'besondere': 1799, 'gespraech': 1800, 'schwesig': 1801, 'ums': 1802, 'heiko': 1803, 'toll': 1804, 'bestraft': 1805, 'frankfranz': 1806, 'beitrag': 1807, 'tage': 1808, 'systemlinge': 1809, 'toeten': 1810, 'anderen': 1811, 'homosexualitaet': 1812, 'marine': 1813, 'le': 1814, 'pen': 1815, 'bekloppt': 1816, 'zieht': 1817, 'logisch': 1818, 'larsklingbeil': 1819, 'versuchen': 1820, 'lehne': 1821, 'muslimischen': 1822, 'handelsblatt': 1823, 'hetzt': 1824, '200': 1825, 'herzlich': 1826, 'stellung': 1827, 'durch': 1828, 'phoenix': 1829, 'sohn': 1830, 'traegst': 1831, 'gefunden': 1832, 'traum': 1833, 'friedliches': 1834, 'link': 1835, 'keinen': 1836, 'daten': 1837, 'ziele': 1838, 'buerger18': 1839, 'gesundheit': 1840, 'staaten': 1841, 'freundin': 1842, 'foerdern': 1843, 'rauen': 1844, 'gefluechteten': 1845, 'argumente': 1846, 'journalismus': 1847, 'drittklassige': 1848, 'schmidt': 1849, 'soviel': 1850, 'kam': 1851, 'pur': 1852, 'kuemmern': 1853, 'oeffentlichkeit': 1854, 'marcuspretzell': 1855, 'dreckigen': 1856, 'irgendwas': 1857, 'diktator': 1858, 'eskalation': 1859, 'sowieso': 1860, 'ell': 1861, 'news': 1862, 'vorbei': 1863, 'gehts': 1864, 'ca': 1865, 'erfunden': 1866, 'greenclaudia': 1867, 'typen': 1868, 'kritisie': 1869, 'peinlich': 1870, 'herrn': 1871, 'ermittelt': 1872, 'fallen': 1873, 'republikaner': 1874, 'abgelehnt': 1875, 'seht': 1876, 'privilegien': 1877, 'gefragt': 1878, 'benachteiligt': 1879, 'sellner': 1880, 'bisschen': 1881, 'intersexualitaet': 1882, 'benachteiligung': 1883, 'seehofer': 1884, 'huehnerscheisse': 1885, 'strom': 1886, 'taten': 1887, 'liberal': 1888, 'schwuler': 1889, 'glaub': 1890, 'persoenliche': 1891, 'verarscht': 1892, 'dorobaer': 1893, 'berichtausberlin': 1894, 'politisch': 1895, 'hauptsaechlich': 1896, 'tagdermenschenrechte': 1897, 'anteil': 1898, 'wofuer': 1899, 'schriften': 1900, 'fuehlen': 1901, 'verein': 1902, 'ergibt': 1903, 'heutejournal': 1904, 'geeignet': 1905, 'behauptungen': 1906, '16': 1907, 'lohnt': 1908, 'kolonialismus': 1909, 'unten': 1910, 'hwieduwilt': 1911, 'daemon': 1912, 'pegida': 1913, 'vollkommen': 1914, 'liebt': 1915, 'loesung': 1916, 'rasse': 1917, 'kaiser': 1918, 'huerde': 1919, 'luegenpresse': 1920, 'maria': 1921, 'derjenige': 1922, 'beobachtet': 1923, 'gnade': 1924, 'weltweit': 1925, 'gebuehren': 1926, 'noe': 1927, 'themen': 1928, 'fluechtlingshilfe': 1929, 'zuerst': 1930, 'liberale': 1931, 'bewilligt': 1932, 'bzberlin': 1933, 'verkeh': 1934, 'kauf': 1935, 'staatspreisnrw': 1936, 'wolfgang': 1937, 'aufmerksamkeit': 1938, 'drecks': 1939, 'wieviele': 1940, 'position': 1941, 'rest': 1942, 'verfolgung': 1943, 'spalten': 1944, 'arschloch': 1945, 'albern': 1946, 'gutmenschen': 1947, 'gemeldet': 1948, 'uwe': 1949, 'opposition': 1950, 'une': 1951, 'raeglich': 1952, 'trotz': 1953, 'landwi': 1954, 'linie': 1955, 'bei': 1956, 'nahen': 1957, 'systems': 1958, 'vier': 1959, 'vermutlich': 1960, 'grosses': 1961, 'argument': 1962, 'journalisten': 1963, 'irre': 1964, 'komisch': 1965, 'eroeffnet': 1966, 'einfuehren': 1967, 'konkret': 1968, 'gefluechtete': 1969, 'tilojung': 1970, 'weihnachtsmarkt': 1971, 'bmi': 1972, 'getoetet': 1973, 'zusammenleben': 1974, 'zustimmung': 1975, 'soros': 1976, 'kandidat': 1977, 'pruefen': 1978, 'verlassen': 1979, 'gegner': 1980, 'berlincopa': 1981, 'unhcr': 1982, 'schlechten': 1983, 'sondierungsgespraeche': 1984, 'erstaunlich': 1985, 'schrift': 1986, 'amis': 1987, 'angeht': 1988, 'spielt': 1989, 'gross': 1990, 'tier': 1991, 'sanddrn': 1992, 'unterscheiden': 1993, 'staatsanwaltschaft': 1994, 'heteros': 1995, 'burka': 1996, 'anderes': 1997, 'geaeusse': 1998, 'bezeichnen': 1999, 'dawa': 2000, 'zangpo': 2001, 'pallemison': 2002, 'konservativen': 2003, 'saemtliche': 2004, 'besetztes': 2005, 'jochenbittner': 2006, 'treu': 2007, 'sexy': 2008, 'einzige': 2009, 'auftreten': 2010, 'tauss': 2011, 'strunzdummen': 2012, 'schauspieler': 2013, 'vaterland': 2014, 'duerfte': 2015, 'republik': 2016, 'johannes': 2017, 'dir': 2018, 'fanatikerin': 2019, 'weltanschauung': 2020, 'ahnung': 2021, 'gedanken': 2022, 'beginnen': 2023, 'pbahners': 2024, 'unterstuetzt': 2025, 'mehrzahl': 2026, 'enthaelt': 2027, 'pontifex': 2028, 'erfolgreich': 2029, 'zeugnis': 2030, 'aussenminister': 2031, 'verdammt': 2032, 'blondjedi': 2033, 'projekt': 2034, 'michel': 2035, 'tote': 2036, 'achtung': 2037, 'barcelona': 2038, 'netz': 2039, 'demokratische': 2040, 'beginnt': 2041, 'melden': 2042, 'manuelaschwesig': 2043, 'schwulemiker': 2044, 'woran': 2045, 'asylwahnsinn': 2046, 'faktor': 2047, 'nation': 2048, 'kreis': 2049, 'nabbia2': 2050, 'umgehen': 2051, 'spinner': 2052, 'asozialen': 2053, 'sender': 2054, 'liefern': 2055, 'barbarische': 2056, 'mutti': 2057, 'pesch': 2058, 'piratnrw': 2059, 'nem': 2060, 'visa': 2061, 'domau': 2062, 'satrapen': 2063, 'onlinemagazin': 2064, 'gelebt': 2065, 'verkauft': 2066, 'unglaublich': 2067, 'argumentation': 2068, 'abzugrenzen': 2069, 'entdeckt': 2070, 'haettest': 2071, 'arschloecher': 2072, 'franzoesische': 2073, 'lobby': 2074, 'tritt': 2075, 'umgehend': 2076, 'afghanistan': 2077, 'spahn': 2078, 'keinerlei': 2079, 'nohatespeechde': 2080, 'rassisten': 2081, 'verschissen': 2082, 'agenda': 2083, 'rational': 2084, 'gekommen': 2085, 'screenshot': 2086, 'zaehlen': 2087, 'eliten': 2088, 'ansprechen': 2089, 'biste': 2090, 'entlastet': 2091, 'multikulturell': 2092, 'still': 2093, 'wenige': 2094, 'anfang': 2095, 'miteinander': 2096, 'hruotland2017': 2097, 'matthias': 2098, 'kamann': 2099, 'legt': 2100, 'vernichtung': 2101, 'k': 2102, 'existie': 2103, 'wuerdest': 2104, 'hinzufuegungen': 2105, 'interpretationen': 2106, 'wolfganghetzler1964': 2107, 'googlemail': 2108, 'knapp': 2109, 'langweilige': 2110, 'helfer': 2111, 'bauen': 2112, 'naechste': 2113, 'haesslich': 2114, 'musevg': 2115, 'insofern': 2116, 'markrudolph2701': 2117, 'barbarei': 2118, 'demaiziere': 2119, 'brandenburg': 2120, 'studieren': 2121, 'arzt': 2122, 'sitzt': 2123, 'monikaherrmann1': 2124, 'willkuerlich': 2125, 'koerperverletzung': 2126, 'begriffe': 2127, 'quasi': 2128, 'problematisch': 2129, 'anfangen': 2130, 'konnten': 2131, 'scheuer': 2132, 'behalten': 2133, 'null': 2134, 'maerz': 2135, 'geir': 2136, 'hoeness': 2137, 'fehlen': 2138, 'maedels': 2139, 'reich': 2140, 'verheissung': 2141, 'schrifttext': 2142, 'jes': 2143, 'soldaten': 2144, 'zitat': 2145, 'federn': 2146, 'schmuecken': 2147, 'ordnung': 2148, 'twitte': 2149, 'buergern': 2150, 'geplant': 2151, 'hoechstens': 2152, 'november': 2153, 'aigudewi': 2154, 'verfolgt': 2155, '24': 2156, 'tuer': 2157, 'verkommen': 2158, 'strategie': 2159, 'holydforce': 2160, 'erwaehnt': 2161, 'geschwiegen': 2162, 'person': 2163, 'durcheinander': 2164, 'allah': 2165, 'niveau': 2166, 'holger': 2167, 'kneipe': 2168, 'treffen': 2169, '1933': 2170, 'n59': 2171, 'puppche': 2172, 'geloescht': 2173, 'dahinter': 2174, 'advent': 2175, 'wohnraum': 2176, 'sozial': 2177, 'rainer': 2178, 'koch': 2179, 'liegen': 2180, 'schlimmsten': 2181, 'dokiligo': 2182, 'solltest': 2183, 'rand': 2184, 'hl': 2185, 'prosieben': 2186, 'beschaeftigen': 2187, 'unbedingt': 2188, 'oekumene': 2189, 'inzwischen': 2190, 'angela': 2191, 'schaden': 2192, 'wenden': 2193, 'sonst': 2194, 'wollte': 2195, 'kapitel': 2196, 'vorkommen': 2197, 'personal': 2198, 'schalte': 2199, 'est': 2200, 'fraktionsnahles': 2201, 'boris': 2202, 'liberalen': 2203, 'humanitaere': 2204, '1000': 2205, 'jeden': 2206, 'lata': 2207, 'mariusz': 2208, 'wagenknecht': 2209, 'ueberholen': 2210, 'dominanz': 2211, 'staerke': 2212, 'mannes': 2213, 'kaffee': 2214, 'beitraege': 2215, 'belgien': 2216, 'erfuellen': 2217, 'kindheit': 2218, 'zug': 2219, 'hallo': 2220, 'heterosexuellen': 2221, 'lebens': 2222, 'moralisch': 2223, 'shahakshapira': 2224, 'buergerkrieg': 2225, 'seele': 2226, 'bullshit': 2227, 'nuernberg': 2228, 'ku': 2229, 'wand': 2230, 'nachdem': 2231, 'heutige': 2232, 'angriff': 2233, 'alkohol': 2234, 'ficken': 2235, 'hessen': 2236, 'p': 2237, 'koeln': 2238, 'verseuchte': 2239, 'gewohnt': 2240, 'nopgy8i7': 2241, 'po': 2242, 'arminph': 2243, 'reagieren': 2244, 'karlaschnik': 2245, '90ern': 2246, 'stammwaehler': 2247, 'pottrlot': 2248, 'jaja': 2249, 'se': 2250, 'menge': 2251, 'salomo': 2252, 'frankbeh': 2253, 'gezielt': 2254, 'laden': 2255, 'nieder': 2256, 'tiffanyangelx': 2257, 'gefuehle': 2258, 'fakten': 2259, 'neutral': 2260, 'fahrer': 2261, 'fuhr': 2262, 'hassprediger': 2263, 'vorne': 2264, 'befuerchte': 2265, 'gegenwa': 2266, 'jammern': 2267, 'weisse': 2268, 'laender': 2269, 'chebli': 2270, 'dankt': 2271, 'bekenntnis': 2272, 'bunt': 2273, 'titania0001': 2274, 'bein': 2275, 'treiben': 2276, 'theorie': 2277, 'buergermeister': 2278, 'farbenbekennen': 2279, 'gt': 2280, 'ergebnisse': 2281, 'polizisten': 2282, 'vergangenheit': 2283, 'bewaehrung': 2284, 'geforde': 2285, 'nachdenken': 2286, 'verlierer': 2287, 'voegel': 2288, 'mitteln': 2289, 'verfassungsgericht': 2290, 'new': 2291, 'diskutie': 2292, 'ausgedacht': 2293, 'infostand': 2294, 'kamen': 2295, 'nationaldemokrat': 2296, 'einschlagen': 2297, 'al': 2298, 'brauchst': 2299, 'auftrag': 2300, 'jammerlappen': 2301, 'gesindel': 2302, 'gegenwehr': 2303, 'insgesamt': 2304, '2010': 2305, 'team': 2306, 'religionsfreiheit': 2307, 'inhalte': 2308, 'vermitteln': 2309, 'spiegel': 2310, 'steigt': 2311, 'ziegen': 2312, 'vorreiter': 2313, 'drkissler': 2314, 'gesetzgeber': 2315, 'abnahme': 2316, 'gebet': 2317, 'spiegelonline': 2318, 'wow': 2319, 'weitaus': 2320, 'klitschko': 2321, 'gefeie': 2322, 'sklave': 2323, 'nazikeule': 2324, 'scheinheiligen': 2325, 'gebildet': 2326, 'ardkontraste': 2327, 'rhein': 2328, 'erster': 2329, 'uebernehmen': 2330, 'richtige': 2331, 'eingefueh': 2332, 'spaeter': 2333, 'aergern': 2334, 'frauenwelt': 2335, 'betrogen': 2336, 'freude': 2337, 'zentrum': 2338, 'heiraten': 2339, 'wesentlichen': 2340, 'aynrandism': 2341, 'alicologne': 2342, 'meist': 2343, 'vielfalt': 2344, 'gewaehrleistet': 2345, 'aldavoodi': 2346, 'piratenlily': 2347, 'foerderung': 2348, 'nationalen': 2349, 'amerikanische': 2350, 'islamisierung': 2351, 'steuergeld': 2352, 'j': 2353, 'wa': 2354, 'neef': 2355, 'wahlprogramm': 2356, 'weise': 2357, 'sanktionen': 2358, 'sogenannten': 2359, 'siehe': 2360, 'schergen': 2361, 'david': 2362, 'angriffe': 2363, 'freut': 2364, 'fern': 2365, 'deniz': 2366, 'yuecel': 2367, 'grossa': 2368, 'weil': 2369, 'tuerke': 2370, 'vorfaelle': 2371, 'vordergrund': 2372, 'k3vk4': 2373, 'brutal': 2374, 'jemanden': 2375, 'geweiht': 2376, 'erneut': 2377, 'mischa0815': 2378, 'amerika': 2379, 'projekte': 2380, 'fluechtlingsarbeit': 2381, 'schwerin': 2382, 'luegner': 2383, 'dummheit': 2384, 'wehe': 2385, 'gestoe': 2386, 'lemminge': 2387, 'niemamovassat': 2388, 'konfrontie': 2389, 'signale': 2390, 'maennlicher': 2391, 'laiendarsteller': 2392, 'bricht': 2393, 'verwechselt': 2394, 'antisemitische': 2395, 'massnahmen': 2396, 'beachten': 2397, 'billiger': 2398, 'untereinander': 2399, 'vermisse': 2400, 'wahlkampf': 2401, '4genderstudies': 2402, 'geschickt': 2403, 'bilden': 2404, 'eingesetzt': 2405, 'zeig': 2406, 'wo': 2407, 'material': 2408, 'sache': 2409, 'schaffen': 2410, 'europaeer': 2411, 'dinosaurier': 2412, 'scharia': 2413, 'kampagne': 2414, 'feststellen': 2415, 'nrw17': 2416, 'trumps': 2417, 'paedophilen': 2418, 'buzzfeed': 2419, 'jaeger': 2420, 'pfeife': 2421, 'kerstingriese': 2422, 'reine': 2423, 'kleinen': 2424, 'milliardaere': 2425, 'formel': 2426, 'sozialstaat': 2427, 'sven': 2428, 'zittern': 2429, 'reform': 2430, 'erziehen': 2431, 'boundborg': 2432, 'rechtfe': 2433, 'individuum': 2434, 'besseren': 2435, 'mitte': 2436, 'erde': 2437, 'schlaf': 2438, 'demokraten': 2439, 'siegen': 2440, 'aufgepasst': 2441, 'verzichtet': 2442, 'vorsicht': 2443, 'betont': 2444, 'informieren': 2445, 'anwalt': 2446, 'fremde': 2447, 'leh': 2448, 'satz': 2449, 'demi': 2450, 'as': 2451, 'freilassung': 2452, 'bax': 2453, 'daniel': 2454, 'no': 2455, 'gesetzen': 2456, 'bedeuten': 2457, 'aufgeben': 2458, 'legal': 2459, 'bastard': 2460, 'implizit': 2461, 'bestaetigen': 2462, 'eberhunter1': 2463, 'tamarawernli': 2464, 'derzeit': 2465, 'sah': 2466, 'haelst': 2467, 'aussehen': 2468, 'vorsitzenden': 2469, 'sachsen': 2470, 'klaus': 2471, 'wehren': 2472, 'lilly': 2473, 'blaudszun': 2474, 'erika': 2475, 'erbe': 2476, 'sondierung': 2477, 'runter': 2478, 'tierquaeler': 2479, 'kenne': 2480, 'mandat': 2481, 'kern': 2482, 'geholfen': 2483, 'verbrennen': 2484, 'multikulturalismus': 2485, 'schlafen': 2486, 'rylahbd': 2487, 'indoktrination': 2488, 'unternehmen': 2489, 'vorbild': 2490, 'karriere': 2491, 'fehler': 2492, 'breit': 2493, 'beteiligung': 2494, 'klaun': 2495, 'nirgendwo': 2496, 'uno': 2497, 'grundlagen': 2498, 'zivilisation': 2499, 'frechheit': 2500, 'bedanken': 2501, 'hochschulen': 2502, 'pro7': 2503, 'filipinos': 2504, 'sozialschmarotzern': 2505, 'dreckige': 2506, 'rolandbauer11': 2507, 'caroline': 2508, 'lmu': 2509, 'untergehen': 2510, 'posener': 2511, 'grenze': 2512, 'spenden': 2513, 'konze': 2514, 'feind': 2515, 'benennen': 2516, 'ihn': 2517, 'bande': 2518, 'm0rpheouz': 2519, 'hausfrau4ever': 2520, 'berechtigt': 2521, 'stinkt': 2522, 'lesben': 2523, 'hinterher': 2524, 'ueberzeugt': 2525, 'lauch': 2526, 'mittelalter': 2527, 'emanzipie': 2528, 'drehen': 2529, 'baetschi': 2530, 'sorge': 2531, 'vergangenen': 2532, 'tobiasm': 2533, 'russen': 2534, 'pure': 2535, 'regel': 2536, 'arm': 2537, 'waehlbar': 2538, 'nopgy': 2539, 'muetter': 2540, 'dahin': 2541, 'mode': 2542, 'begeistern': 2543, 'unfassbar': 2544, 'goering': 2545, 'konzerne': 2546, 'worin': 2547, 'automatisch': 2548, 'bauer': 2549, 'runden': 2550, 'knechte': 2551, 'jensspahn': 2552, 'verfall': 2553, 'klare': 2554, 'kardinal': 2555, 'bistuemern': 2556, 'friedenslicht': 2557, 'wahrheiten': 2558, 'vadderland': 2559, 'navid': 2560, 'kermani': 2561, 'mueller': 2562, 'hosen': 2563, 'ansonsten': 2564, 'sowohl': 2565, 'zivilisie': 2566, 'rag': 2567, 'karlsruhe': 2568, 'thom2805': 2569, 'entwicklungslaendern': 2570, 'dschihadisten': 2571, 'spdybit': 2572, 'strafen': 2573, 'nt': 2574, 'regionen': 2575, 'syrischen': 2576, 'feministisch': 2577, 'hoeher': 2578, 'ausschuss': 2579, 'islamische': 2580, 'bestaetigt': 2581, 'verdienen': 2582, 'schroeder': 2583, 'oeffnen': 2584, 'gemeinden': 2585, 'masteroftwitr': 2586, 'schicken': 2587, 'syrer': 2588, 'teatimecookie': 2589, 'schuetzt': 2590, 'amerikanischen': 2591, 'storch': 2592, 'tahirovic': 2593, 'zwang': 2594, 'weltoffen': 2595, 'wunder': 2596, 'bt': 2597, 'duennschiss': 2598, 'religioesen': 2599, 'narzissmus': 2600, 'propheten': 2601, 'gutjahr': 2602, 'schliesst': 2603, 'oder': 2604, 'uni': 2605, 'schluss': 2606, 'groesser': 2607, 'hautfarbe': 2608, 'pervers': 2609, 'wirklichkeit': 2610, 'faelle': 2611, 'verlie': 2612, 'schlimmes': 2613, 'bewegung': 2614, 'lenasmileey': 2615, 'koalitionsverhandlungen': 2616, 'oppo': 2617, 'derberliiner': 2618, 'moeglichkeit': 2619, 'zeitung': 2620, 'fxneumann': 2621, 'gruende': 2622, 'amadeuantonio': 2623, 'kannte': 2624, 'facto': 2625, 'weltbild': 2626, 'erklaerung': 2627, 'cicero': 2628, 'saufen': 2629, 'wenigsten': 2630, 'erheben': 2631, 'westbank': 2632, 'juso': 2633, 'tollversterker': 2634, 'voelkerrecht': 2635, 'changeger': 2636, 'mossis': 2637, 'israelingermany': 2638, 'arabischen': 2639, 'taschen': 2640, 'sklavin': 2641, 'trinken': 2642, 'einzigen': 2643, 'differenzieren': 2644, 'scheinheilgsten': 2645, 'schiessen': 2646, 'georg': 2647, 'bernd471': 2648, 'anscheinend': 2649, 'negern': 2650, 'arabern': 2651, 'welthandel': 2652, 'kragen': 2653, 'verbloedete': 2654, 'gnadenlos': 2655, 'praesentie': 2656, 'erbaermlich': 2657, 'wochen': 2658, 'regsprecher': 2659, 'ihm': 2660, 'bemuehen': 2661, 'ideologischer': 2662, 'naehe': 2663, 'unmoeglich': 2664, 'vergiften': 2665, '06': 2666, 'bibaltonensis': 2667, 'transpo': 2668, 'hanvoi': 2669, 'franz': 2670, 'empfinde': 2671, 'saekulare': 2672, 'vergewaltigungen': 2673, 'entwickelt': 2674, 'jolantel': 2675, 'beobachten': 2676, 'baum': 2677, 'schenken': 2678, 'chemie': 2679, 'haeufiger': 2680, 'fair': 2681, 're': 2682, 'beschimpft': 2683, 'wahren': 2684, 'hund': 2685, 'gehoerst': 2686, 'umso': 2687, 'guter': 2688, 'mind': 2689, 'vorstand': 2690, 'einzelfallinfos': 2691, 'iran': 2692, 'rechtliche': 2693, 'heikowasser': 2694, 'mai': 2695, 'janjansen96': 2696, 'atheist': 2697, 'hetzer': 2698, 'sprache': 2699, 'jennyimwesten': 2700, 'politikern': 2701, 'breitscheidplatz': 2702, 'vorschlag': 2703, 'inhaltlich': 2704, 'pornos': 2705, 'absolut': 2706, 'hilluabblader': 2707, 'hierfuer': 2708, 'nationalismus': 2709, 'grausamkeit': 2710, 'gewalttaetig': 2711, 'beziehen': 2712, 'besinnliche': 2713, 'zugang': 2714, 'witz': 2715, 'verfuegung': 2716, 'ausdruck': 2717, 'real': 2718, 'instrumentalisie': 2719, 'her': 2720, 'sonderrechte': 2721, 'gericht': 2722, 'feinde': 2723, 'staerken': 2724, 'warne': 2725, 'spiele': 2726, 'freier': 2727, 'irgendein': 2728, 'digitalisierung': 2729, 'besorgt': 2730, 'peteraltmaier': 2731, 'triviales': 2732, 'dezember': 2733, 'ratte': 2734, 'sieg': 2735, 'emanzipation': 2736, 'sondern': 2737, 'selben': 2738, 'ausweis': 2739, 'warnen': 2740, 'migration': 2741, 'problems': 2742, 'komm': 2743, 'feministin': 2744, 'rassistischen': 2745, 'altena': 2746, 'gemerkt': 2747, 'chinesen': 2748, 'schuhe': 2749, 'lg': 2750, 'demonstration': 2751, 'tatsachen': 2752, 'kleines': 2753, '2013': 2754, 'akzeptie': 2755, 'teppich': 2756, 'negatives': 2757, 'rueckfuehrung': 2758, 'thueringen': 2759, 'franziskus': 2760, 'black': 2761, 'globalisierung': 2762, 'bildet': 2763, 'generationen': 2764, 'ueberreden': 2765, 'selten': 2766, 'angesehen': 2767, 'stell': 2768, 'unzufriedenerb': 2769, 'jaemmerlich': 2770, 'begegnung': 2771, 'moschee': 2772, 'tuerkische': 2773, 'facharbeiter': 2774, 'aerzte': 2775, 'laengst': 2776, 'eindeutig': 2777, 'vereinbar': 2778, 'verletzte': 2779, 'zivilgesellschaft': 2780, 'lauten': 2781, 'jojoschraps': 2782, 'bestreiten': 2783, 'schwerer': 2784, 'universitaet': 2785, 'vergiss': 2786, 'friedens': 2787, 'herren': 2788, 'irrenhaus': 2789, 'tschechien': 2790, 'heiligabend': 2791, 'gerecht': 2792, 'muslima': 2793, 'ethnie': 2794, 'waffenexpo': 2795, 'verbietet': 2796, 'angemessene': 2797, '65': 2798, 'balkon': 2799, 'als': 2800, 'peters': 2801, 'klappe': 2802, 'maerchen': 2803, 'fehlende': 2804, 'vk': 2805, 'aelter': 2806, 'institutionalisie': 2807, 'dietmaramann1': 2808, 'sozialwo': 2809, 'tolles': 2810, 'genossen': 2811, 'jaemmerlichen': 2812, 'machtgeilheit': 2813, 'sammelbegriff': 2814, 'nationalistischen': 2815, 'befuerwo': 2816, 'engagieren': 2817, 'sozialer': 2818, 'alvar': 2819, 'erwischt': 2820, 'kkleinigkeit': 2821, 'psychische': 2822, 'benoetigt': 2823, 'pferdegebiss': 2824, 'reiterfee': 2825, 'tauber': 2826, 'jean': 2827, 'luc': 2828, 'grandioser': 2829, 'umweltministerin': 2830, 'gelobte': 2831, 'schneider': 2832, 'argumentie': 2833, 'verlaengerung': 2834, 'suntsu': 2835, 'angeboten': 2836, 'sturm': 2837, 'abbrechen': 2838, 'quuux': 2839, 'paktie': 2840, 'ursache': 2841, 'verfluchte': 2842, 'waffel': 2843, 'bosegundolf': 2844, 'knooshoodknorke': 2845, 'angreifen': 2846, 'hollstein63': 2847, 'senatskanzlei': 2848, 'mariae': 2849, 'gloria': 2850, 'faul': 2851, 'spdberlin': 2852, 'kapieren': 2853, 'lotus88118558': 2854, 'mitbekommen': 2855, 'staerker': 2856, 'einkommen': 2857, 'entlastung': 2858, 'erfolgt': 2859, 'beispiele': 2860, 'kindergeld': 2861, 'normale': 2862, 'bis': 2863, 'buergerkrieges': 2864, 'biblische': 2865, 'ablehnt': 2866, 'rechtsradikal': 2867, 'aeusserungen': 2868, 'erscheinen': 2869, 'beweis': 2870, 'testament': 2871, 'nennst': 2872, 'asylant': 2873, 'tagesthemen': 2874, 'diesen': 2875, 'rep': 2876, 'meldet': 2877, 'wolfibey': 2878, 'klima': 2879, 'freu': 2880, 'durchgehend': 2881, 'multikulti': 2882, 'versiffte': 2883, 'istambul': 2884, 'rumaenen': 2885, 'bulgaren': 2886, 'tram': 2887, 'schlampen': 2888, 'xxgiana': 2889, 'mollemopp': 2890, 'schwaenze': 2891, 'werfe': 2892, 'mark': 2893, 'stets': 2894, 'scheinbar': 2895, 'masse': 2896, 'unglaubwuerdig': 2897, 'grotesk': 2898, 'gespraeche': 2899, 'vergwohlrumpler': 2900, 'doktor': 2901, 'entlasten': 2902, 'bauch': 2903, 'fangen': 2904, 'drphiloponus': 2905, 'entschuldigung': 2906, 'nord': 2907, 'karmel': 2908, 'impulse': 2909, 'matthiasbannas': 2910, 'rechtsextremen': 2911, 'hintergrund': 2912, 'timon': 2913, 'gremmels': 2914, 'ploetzlich': 2915, 'kulturellen': 2916, 'gysi': 2917, 'mochten': 2918, 'riesen': 2919, 'christa': 2920, 'kuchen': 2921, 'spruch': 2922, 'verkommt': 2923, 'floskel': 2924, 'migrate89': 2925, 'amnesty': 2926, 'bolschewisten': 2927, 'schwerverbrecher': 2928, 'uli': 2929, 'fc': 2930, 'redpillberlin': 2931, 'gegutgeschlecht': 2932, 'streit': 2933, 'demirkan': 2934, 'mitten': 2935, '35': 2936, 'demokratischen': 2937, 'beschuetzt': 2938, 'privileg': 2939, 'ausgelegt': 2940, 'vilar': 2941, 'beigetragen': 2942, 'geblockt': 2943, 'asylpolitik': 2944, 'umvolkung': 2945, 'scientology': 2946, 'schaebig': 2947, 'bundesrepublik': 2948, 'kubicki': 2949, 'gruendung': 2950, 'freundeskreises': 2951, 'main': 2952, 'horde': 2953, 'foerde': 2954, 'ausnahmen': 2955, 'hintermaenner': 2956, 'cholera': 2957, 'ss': 2958, 'aufgeforde': 2959, 'abzuschaffen': 2960, 'zutiefst': 2961, 'dar': 2962, 'entstehen': 2963, 'ablehnung': 2964, 'ausgrenzung': 2965, 'angebracht': 2966, 'vergewaltigt': 2967, 'wirft': 2968, 'treten': 2969, 'segen': 2970, 'realdonaldtrump': 2971, 'sogenannte': 2972, 'preussen': 2973, 'drittklassigen': 2974, 'vernuenftiger': 2975, 'widersprochen': 2976, 'niedriger': 2977, 'aufklaerung': 2978, 'trans': 2979, 'palaestinensern': 2980, 'erhalten': 2981, 'leuchtturm': 2982, 'verbreitet': 2983, 'taktischen': 2984, 'begeben': 2985, 'eidigungsminister': 2986, 'leyen': 2987, 'gebot': 2988, 'naechstenliebe': 2989, 'rhetorik': 2990, 'kinchkun': 2991, 'nachtraeglich': 2992, 'mussten': 2993, 'vorfeld': 2994, 'aussatz': 2995, 'leon': 2996, 'weihnacht': 2997, 'rechtlich': 2998, 'kategorie': 2999, 'ausgewogen': 3000, 'abwa': 3001, 'jfda': 3002, 'ev': 3003, 'ragen': 3004, 'tot': 3005, 'schneidercar': 3006, 'interessante': 3007, 'ansichten': 3008, 'miststueck': 3009, 'markus': 3010, 'kostenlos': 3011, 'lebendigen': 3012, 'moderatoren': 3013, 'schaeme': 3014, 'buergerinnen': 3015, 'naechstes': 3016, 'korallenherz': 3017, 'resdocs': 3018, 'simpel': 3019, 'lag': 3020, 'aufrechten': 3021, 'gedanke': 3022, 'strand': 3023, 'clauskleber': 3024, 'vergleichen': 3025, 'rocktoamna': 3026, 'elisalocuta': 3027, 'hrmnn01': 3028, 'ergaenzen': 3029, 'faschist': 3030, 'neumann': 3031, 'volle': 3032, 'koerper': 3033, 'schwuchtel': 3034, 'verraet': 3035, 'ntv': 3036, 'liste': 3037, 'splendidmachao': 3038, 'binnenve': 3039, 'riebene': 3040, 'unte': 3041, 'milieus': 3042, 'moralisierende': 3043, 'viel': 3044, 'moral': 3045, 'fahne': 3046, 'beherrschen': 3047, 'on': 3048, 'fundamentalisten': 3049, 'einfluss': 3050, 'bescheid': 3051, 'dein': 3052, 'benehmt': 3053, 'gehalten': 3054, 'afrikaner': 3055, 'packen': 3056, 'karlchen0815': 3057, 'mauer': 3058, 'sonder': 3059, 'asranomani': 3060, 'ernaehrung': 3061, 'anbetrifft': 3062, 'abehosooh': 3063, 'ohren': 3064, 'sehnsucht': 3065, 'innerhalb': 3066, 'wiederholt': 3067, 'einigung': 3068, 'betrifft': 3069, 'spaet': 3070, 'arschka': 3071, 'legitimie': 3072, 'lehren': 3073, 'aende': 3074, 'enden': 3075, 'produktion': 3076, 'puettmann': 3077, 'gluecklicherweise': 3078, 'form': 3079, 'stroebele': 3080, 'schmidtlepp': 3081, 'behinde': 3082, 'bequem': 3083, 'absolute': 3084, 'vollniete': 3085, 'selbstbeweihraeucherung': 3086, 'aktenzeichenxy': 3087, 'schaerfste': 3088, 'rum': 3089, 'stammt': 3090, 'papier': 3091, 'muessten': 3092, 'weltgeschichte': 3093, 'akzeptieren': 3094, 'voelkermordzentrale': 3095, 'schweinefleisch': 3096, 'aeh': 3097, 'jagen': 3098, 'repraesentie': 3099, 'heulen': 3100, 'puh': 3101, 'afdneuigkeiten': 3102, 'heavenlydogz': 3103, 'funktionierende': 3104, 'sozialpolitik': 3105, 'hure': 3106, 'onestepbayond': 3107, 'kubyalcin': 3108, 'bestanden': 3109, 'unwo': 3110, 'dreckig': 3111, 'foto': 3112, 'schaeubele': 3113, 'harmlos': 3114, 'gebote': 3115, 'pech': 3116, 'opferrolle': 3117, 'festung': 3118, 'todsicher': 3119, 'baumannx': 3120, 'schreit': 3121, 'schweigt': 3122, 'verrueckt': 3123, 'vermutung': 3124, 'bus': 3125, 'fauli': 3126, 'moinmoinsager': 3127, 'kumaandrea': 3128, 'klugen': 3129, 'devoten': 3130, 'folgt': 3131, 'gemeint': 3132, 'lucke': 3133, 'kopftuecher': 3134, 'gynaekologen': 3135, 'muschis': 3136, 'fruehstueck': 3137, 'ans': 3138, 'beten': 3139, 'presswurst': 3140, 'knabe': 3141, 'tsp': 3142, 'ag': 3143, 'touristen': 3144, 'gelogen': 3145, 'weltanschaulich': 3146, 'grossveranstaltung': 3147, 'edathy': 3148, 'stattdessen': 3149, 'wegsperren': 3150, 'apoll0x': 3151, 'moscheen': 3152, 'kuh': 3153, 'menschenwuerde': 3154, 'elmarbrok': 3155, 'mep': 3156, 'derzeitige': 3157, 'bedeutung': 3158, 'irmgard': 3159, 'tarek': 3160, 'leitner': 3161, 'r1chtungsweiser': 3162, 'auswandern': 3163, 'schlafe': 3164, 'petrapaumahe': 3165, 'couragie': 3166, 'armen': 3167, 'beginn': 3168, 'oktober': 3169, 'unabhaengig': 3170, 'bekaempft': 3171, 'justiz': 3172, 'doppel500': 3173, 'dummen': 3174, 'opferkultur': 3175, 'biologie': 3176, 'spon': 3177, 'garantie': 3178, 'wettbewerb': 3179, 'gebe': 3180, 'eivorsitzender': 3181, 'samstag': 3182, 'menschenbild': 3183, 'schweigespirale': 3184, 'demokratisch': 3185, 'einstellen': 3186, 'stopp': 3187, 'beitrittsgespraeche': 3188, 'clown': 3189, 'nigeria': 3190, 'darunter': 3191, 'bokoharam': 3192, 'erlaeutern': 3193, 'polen': 3194, 'habens': 3195, 'schuldkult': 3196, 'kv171311': 3197, 'rettet': 3198, 'forderung': 3199, 'kanada': 3200, 'armutsrentner': 3201, 'flaschen': 3202, 'sammeln': 3203, 'happy': 3204, 'suendenfall': 3205, 'bspw': 3206, 'nachweislich': 3207, 'argumentieren': 3208, 'scheissegal': 3209, 'unser': 3210, 'anhoeren': 3211, 'nun': 3212, 'rassistische': 3213, 'gleicher': 3214, 'armes': 3215, 'tsukino': 3216, 'usako': 3217, 'marenleinchen66': 3218, 'jreichelt': 3219, 'loescht': 3220, 'zulassen': 3221, 'richten': 3222, 'magazin': 3223, 'elend': 3224, 'verfluchten': 3225, 'hueten': 3226, 'versprochen': 3227, 'wuehlen': 3228, 'einkaufen': 3229, 'schweizer': 3230, 'almosta': 3231, 'bessere': 3232, 'wahlrecht': 3233, 'kurs': 3234, 'entscheidungen': 3235, 'geschissen': 3236, 'einigermassen': 3237, 'michael': 3238, 'nationalisten': 3239, 'redaktion': 3240, 'anzeige': 3241, 'lesenswe': 3242, 'brauch': 3243, 'peacecakex': 3244, 'handlungsfaehig': 3245, 'zustand': 3246, 'reissen': 3247, 'auslaendern': 3248, 'hierzulande': 3249, 'wenns': 3250, 'karikatur': 3251, 'journ': 3252, 'ali': 3253, 'kelghazzali': 3254, 'unglaeubige': 3255, 'claire': 3256, 'farr0n': 3257, 'antisemitisch': 3258, 'zumal': 3259, 'kulturkreis': 3260, 'zeichnet': 3261, 'worum': 3262, 'roland': 3263, 'jesiden': 3264, 'uropas': 3265, 'meldungen': 3266, 'tgl': 3267, 'taetern': 3268, 'todesstrafe': 3269, 'witze': 3270, 'momentan': 3271, 'koenntet': 3272, 'frauschmauke': 3273, 'ehen': 3274, 'gewollt': 3275, 'entspricht': 3276, 'beduerfnis': 3277, 'obsolet': 3278, 'altermediad': 3279, 'gewusst': 3280, 'feministische': 3281, 'analyse': 3282, 'unterziehen': 3283, 'brueste': 3284, 'allgemeinen': 3285, 'oeffentlichen': 3286, 'nachhilfestunde': 3287, 'einsperren': 3288, 'funktionaerin': 3289, 'finanzie': 3290, 'schoenheit': 3291, 'mariamlau1': 3292, 'punkte': 3293, 'besuch': 3294, 'verrate': 3295, 'zurecht': 3296, 'entlassen': 3297, 'bombasstard': 3298, 'pinselpoetin': 3299, 'erstaunt': 3300, 'hirn': 3301, 'ausgeben': 3302, 'zurueckweisen': 3303, 'ebhhfluechthilf': 3304, 'schleimer': 3305, 'beruf': 3306, 'relativie': 3307, 'krim': 3308, 'missbraucht': 3309, 'fuessen': 3310, 'schwarzer': 3311, 'foxnews': 3312, 'bendels': 3313, 'stein': 3314, 'schwerpunktthema': 3315, 'eigentlichen': 3316, 'eidigung': 3317, 'mesale': 3318, 'tolu': 3319, 'sehr': 3320, 'druck': 3321, 'freedeniz': 3322, 'freethemall': 3323, 'holmhw': 3324, 'meinungsdiktatur': 3325, 'blau': 3326, 'win': 3327, 'gebraucht': 3328, 'suedsudan': 3329, 'sentenza66': 3330, 'tuerkischen': 3331, 'perspektive': 3332, 'antisemitischer': 3333, 'sinne': 3334, 'dient': 3335, 'grafik': 3336, 'raubt': 3337, 'dagegensein': 3338, 'ropietsch': 3339, 'jungs': 3340, 'durchzusetzen': 3341, 'retweets': 3342, 'krebsgeschwuer': 3343, 'ausbreiten': 3344, 'pest': 3345, 'beine': 3346, 'eigenes': 3347, 'connect17de': 3348, 'samad': 3349, 'ebensowenig': 3350, 'nen': 3351, 'fuerchte': 3352, 'verringern': 3353, 'instrument': 3354, 'internationalen': 3355, 'fanseite': 3356, 'siche': 3357, 'privat': 3358, 'seltsam': 3359, 'lohndrueckerei': 3360, 'olle': 3361, 'bundeskanzlerin': 3362, 'wirken': 3363, 'aufzuklaeren': 3364, 'rote': 3365, 'brauchte': 3366, 'gentechnik': 3367, 'oekologische': 3368, 'produzieren': 3369, 'farbe': 3370, 'bekennen': 3371, 'gemeinsamen': 3372, 'hiess': 3373, 'gabonn': 3374, 'braunen': 3375, 'bewusst': 3376, 'regeln': 3377, 'grenzt': 3378, 'berlinerzeitung': 3379, 'frauenrechte': 3380, 'gelegt': 3381, 'schmarotzenden': 3382, 'ossis': 3383, 'gerede': 3384, 'prognose': 3385, 'vernuenftige': 3386, 'somit': 3387, 'beschneidung': 3388, 'kosmos': 3389, 'relevante': 3390, 'gefahren': 3391, 'grauen': 3392, 'airline': 3393, 'sta': 3394, 'landet': 3395, 'beides': 3396, 'unqualifizie': 3397, 'wuenscht': 3398, 'bochum': 3399, 'jtrittin': 3400, 'anzahl': 3401, 'fractality': 3402, 'umve': 3403, 'massiv': 3404, 'jasiebe': 3405, 'mund': 3406, 'produktivitaet': 3407, 'angebot': 3408, 'absurdistan': 3409, 'mgtow': 3410, 'gerechtfe': 3411, 'igt': 3412, 'zeitalter': 3413, 'wegwerfen': 3414, 'anzuerkennen': 3415, 'gerechter': 3416, 'israelis': 3417, 'unmenschlich': 3418, 'generation': 3419, 'subjekt': 3420, 'kriegstreiber': 3421, 'you': 3422, 'helmut': 3423, 'zweiten': 3424, 'manipulie': 3425, 'dfakenews': 3426, 'aufruestung': 3427, 'milatrud11': 3428, 'buzzfeedgermany': 3429, '85': 3430, 'mhoepflinger': 3431, 'zecken': 3432, 'antifa': 3433, 'verschwindet': 3434, 'elite': 3435, 'werbung': 3436, 'ohnehin': 3437, 'grundeinkommen': 3438, 'jagt': 3439, 'ehre': 3440, 'kurzer': 3441, 'twitternwieposener': 3442, 'augustinus': 3443, 'rostein45': 3444, 'miss': 3445, 'tinotschka': 3446, 'januar': 3447, 'jf': 3448, 'hoffgaard': 3449, 'staatsanwalt': 3450, 'jost2018': 3451, 'deusneptune': 3452, 'freavonwegen': 3453, 'abschiebungen': 3454, 'samt': 3455, 'gutmensch': 3456, 'ablenken': 3457, 'auftritt': 3458, 'umbringen': 3459, 'schweine': 3460, 'funktion': 3461, 'trittin': 3462, 'spueren': 3463, 'klae': 3464, 'weissen': 3465, 'personen': 3466, 'irgendetwas': 3467, 'wuesste': 3468, 'buergerversicherung': 3469, 'muslimas': 3470, 'unbegreiflich': 3471, 'establishment': 3472, 'korruption': 3473, 'bernie': 3474, 'strukturie': 3475, 'kanal': 3476, 'organisieren': 3477, 'indoktrinie': 3478, 'rolle': 3479, 'mindph': 3480, 'verfuegungsmasse': 3481, 'durchgesetzt': 3482, 'anwendung': 3483, 'jens': 3484, 'weitermachen': 3485, 'scheinheiligsten': 3486, 'gegen': 3487, 'claudi': 3488, 'lpdwien': 3489, 'fuehle': 3490, 'bleibe': 3491, 'herojacques': 3492, 'kompromisse': 3493, 'fatal': 3494, 'irgend': 3495, 'langem': 3496, 'mitarbeiterin': 3497, 'irgendwann': 3498, 'kuenstler': 3499, 'buwehr': 3500, 'hdp': 3501, 'streiten': 3502, 'aufklaeren': 3503, 'austausch': 3504, 'bedingungen': 3505, 'zweckkind': 3506, 'mgenblog': 3507, '1983film': 3508, 'befuerchten': 3509, 'konsequenten': 3510, 'rahmen': 3511, 'degenerie': 3512, 'schlechte': 3513, 'blinzeln': 3514, 'eingeladen': 3515, 'eingewande': 3516, 'no934': 3517, 'faellen': 3518, 'goebbels': 3519, 'hasse': 3520, 'genderisten': 3521, 'huldigen': 3522, 'registrieren': 3523, 'kant': 3524, 'kontrakulturell': 3525, 'sowie': 3526, 'alltag': 3527, 'schmeisst': 3528, 'poggenburg': 3529, 'kreativitaet': 3530, 'bekanntlich': 3531, 'nehme': 3532, 'fliessend': 3533, 'bezug': 3534, 'geredet': 3535, 'vorbereitung': 3536, 'doofe': 3537, 'steuer': 3538, 'steuergeldern': 3539, 'reisst': 3540, 'robe': 3541, 'guete': 3542, 'ue': 3543, 'hashtag': 3544, 'stephanushh': 3545, 'teufelskueche': 3546, 'kennst': 3547, 'gleichen': 3548, 'nordkorea': 3549, 'geistige': 3550, 'ausstattung': 3551, 'staatsfernsehen': 3552, 'ueberwinden': 3553, 'israelische': 3554, 'israelischen': 3555, 'uminterpretie': 3556, 'spezielle': 3557, 'reise': 3558, 'schaefchen': 3559, 'moeglichst': 3560, 'gescheite': 3561, 'augenblick': 3562, 'fernsehgottesdienst': 3563, 'zentrale': 3564, 'europaeische': 3565, 'adi': 3566, 'ggue': 3567, 'russland': 3568, 'nato': 3569, 'nich': 3570, 'he': 3571, 'kritisiere': 3572, 'stattgefunden': 3573, 'kinos': 3574, 'wagt': 3575, 'bodenlose': 3576, 'dummschwaetzerei': 3577, 'reibung': 3578, 'ostgebieten': 3579, 'y': 3580, 'achse': 3581, 'verfassungsrichter': 3582, 'patienten': 3583, 'keirdullea2001': 3584, 'keineafd2017': 3585, 'mindestlohn': 3586, 'behandeln': 3587, 'strack': 3588, 'hals': 3589, 'nahezu': 3590, 'echten': 3591, 'sahra': 3592, 'lsbtiq': 3593, 'familiengruendung': 3594, 'noherrman': 3595, 'intelligenz': 3596, 'official': 3597, 'imame': 3598, 'gezeigt': 3599, 'unisono': 3600, 'hlnbg': 3601, 'gerrie352': 3602, 'raute': 3603, 'verbrecherin': 3604, 'anprangern': 3605, 'unbekannten': 3606, 'derliuhvan': 3607, 'rassist': 3608, 'moguai': 3609, 'verlogene': 3610, 'wirklichen': 3611, 'ralfme': 3612, 'ens14': 3613, 'enricotokar': 3614, 'best': 3615, 'djanecek': 3616, 'verbaende': 3617, 'ober': 3618, 'fuenf': 3619, 'betreibt': 3620, 'diesmal': 3621, 'angekommen': 3622, 'lande': 3623, 'bundespraesident': 3624, 'geschwaetz': 3625, 'putin': 3626, 'buergerlich': 3627, 'patriotische': 3628, 'verfolgen': 3629, 'buettnersdl': 3630, 'zarah': 3631, 'zylinder': 3632, 'spoe': 3633, 'bedient': 3634, 'herrurbach': 3635, 'begreifen': 3636, 'demnach': 3637, 'berufen': 3638, 'lade': 3639, 'kriminellen': 3640, 'hysterie': 3641, 'hochverrat': 3642, 'mj123451': 3643, 'nationalsozialismus': 3644, 'diente': 3645, 'diese': 3646, 'schaue': 3647, 'daraufhin': 3648, 'staatsdienst': 3649, 'primitive': 3650, 'islamistin': 3651, 'leichter': 3652, 'hypervizual': 3653, 'laengere': 3654, 'liberalismus': 3655, 'dermassen': 3656, 'history': 3657, 'sechs': 3658, 'kontinuitaeten': 3659, 'oekumenisch': 3660, 'schwestern': 3661, 'brueder': 3662, 'verpoent': 3663, 'vorstellungskraft': 3664, 'auseinandersetzung': 3665, 'arnd': 3666, 'diringer': 3667, 'refugeeschief': 3668, 'industrialisie': 3669, 'geglaubt': 3670, 'zahl': 3671, 'veroniquebantau': 3672, 'swingtanz': 3673, 'angenommen': 3674, 'fein': 3675, 'allgemeinheit': 3676, 'verbreiten': 3677, 'jotdora': 3678, 'rana': 3679, 'gruenebundestag': 3680, 'sachfragen': 3681, 'herein': 3682, 'shakriet': 3683, 'bedingt': 3684, 'morde': 3685, 'gegangen': 3686, 'wlan': 3687, 'einfacher': 3688, 'thilo': 3689, 'dalek': 3690, 'bitten': 3691, 'faellig': 3692, 'angsthasen': 3693, 'akut': 3694, 'rassenlehre': 3695, 'bereich': 3696, 'sandra': 3697, 'hinterfragt': 3698, 'fordere': 3699, 'zahle': 3700, 'brut': 3701, 'angesagt': 3702, 'interessen': 3703, 'gelang': 3704, 'kameramann': 3705, 'sozialen': 3706, 'gefehlt': 3707, 'zaehle': 3708, 'statement': 3709, 'dementi': 3710, 'geschuetzt': 3711, 'hyaenen': 3712, 'anziehung': 3713, 'oeko': 3714, 'panik': 3715, 'setze': 3716, 'suess': 3717, 'zweite': 3718, 'markie': 3719, 'kommissar': 3720, 'gelb': 3721, 'demonstrieren': 3722, 'kalt': 3723, 'davidermes': 3724, 'brandenburger': 3725, 'tor': 3726, 'lichterzuenden': 3727, 'kriegsgebiet': 3728, 'scheinen': 3729, 'bab': 3730, 'ganzes': 3731, 'eintritt': 3732, 'runde': 3733, 'zustaendig': 3734, 'ethnisch': 3735, 'widerspricht': 3736, 'kante': 3737, 'franken': 3738, 'woelki': 3739, 'entwurf': 3740, 'justizkreisen': 3741, 'beutebadener': 3742, 'veroeffentlicht': 3743, 'gast': 3744, 'katholisch': 3745, 'kontrollie': 3746, 'branche': 3747, 'teilzeit': 3748, 'chefs': 3749, 'verpisst': 3750, 'jenseits': 3751, 'feige': 3752, 'steh': 3753, 'pater': 3754, 'philipp': 3755, 'eintagimadvent': 3756, 'weicheier': 3757, 'harmonie': 3758, 'tvduell': 3759, 'etablie': 3760, 'bruessel': 3761, 'erlebe': 3762, 'kafee': 3763, 'volksve': 3764, 'manuring72': 3765, 'getroffen': 3766, 'oma': 3767, 'wagemanja': 3768, 'fundamentalismus': 3769, 'propagie': 3770, 'beziehung': 3771, 'kumpel': 3772, 'forcieren': 3773, 'grausam': 3774, 'tschrammen': 3775, 'solidavidwache': 3776, 'hessenschaude': 3777, 'oliver': 3778, 'landbau': 3779, 'hohe': 3780, 'larve': 3781, 'traue': 3782, 'kulturell': 3783, 'faustregel': 3784, 'verpflichtet': 3785, 'software': 3786, 'binninger': 3787, 'leuten': 3788, 'kaufe': 3789, 'beschaeftigt': 3790, 'staedten': 3791, 'erklaer': 3792, 'staedte': 3793, 'stelle': 3794, 'kluge': 3795, 'eingehen': 3796, 'rufen': 3797, 'arschkriecher': 3798, 'suender': 3799, 'moeglichkeiten': 3800, 'ingosalmen': 3801, 'blickwinkel': 3802, 'ziehe': 3803, 'doerfern': 3804, 'versteht': 3805, 'kritischepress1': 3806, 'schaechten': 3807, 'komplette': 3808, 'heraus': 3809, 'forderungen': 3810, '300': 3811, 'uebermedien': 3812, 'werbellinstrasse': 3813, 'komplizie': 3814, 'programmie': 3815, 'parlamentarischen': 3816, 'kajhoffmann': 3817, 'zustimmen': 3818, 'paritaetberlin': 3819, 'eitag': 3820, 'schulbildung': 3821, 'kompromiss': 3822, 'ausschliesslich': 3823, 'landtagen': 3824, 'wage': 3825, 'bezweifeln': 3826, 'sommer': 3827, 'durchschnittlich': 3828, 'teite99': 3829, 'weizen': 3830, 'dresden': 3831, 'spdbpt18': 3832, 'fahnenfluechtlinge': 3833, 'thaler': 3834, 'heimatschutz': 3835, 'zweifel': 3836, 'unterrichten': 3837, 'maximal': 3838, 'anked': 3839, 'rbb': 3840, 'augstein': 3841, 'zaussel': 3842, 'urne': 3843, 'at': 3844, 'wuetend': 3845, 'bescheue': 3846, 'geholt': 3847, 'inhaerente': 3848, 'rechnen': 3849, 'richard': 3850, 'dididumm': 3851, 'trollen': 3852, 'huren': 3853, 'gehirnwaesche': 3854, '150': 3855, 'reg': 3856, 'vagina': 3857, 'traeumen': 3858, 'dom': 3859, 'warm': 3860, 'schwuchteln': 3861, 'merkwuerdig': 3862, 'vorstellung': 3863, 'attraktiv': 3864, 'eine': 3865, 'ausgebu': 3866, 'bloede': 3867, 'daemlich': 3868, 'schaemen': 3869, 'emmanuelmacron': 3870, 'besatzerknechte': 3871, 'gelobten': 3872, 'scharfe': 3873, 'dt': 3874, 'mauerfall89': 3875, 'frauenquoten': 3876, 'wollt': 3877, 'respektieren': 3878, 'zurueckdrehen': 3879, 'fickt': 3880, 'herzliche': 3881, 'hannover': 3882, 'frydewelt': 3883, 'empfehle': 3884, 'elektrojude': 3885, 'unisten': 3886, 'wesen': 3887, 'konflikt': 3888, 'doktorant': 3889, 'verwenden': 3890, 'festhalten': 3891, 'monaten': 3892, 'wetten': 3893, 'polemik': 3894, 'evahoegl': 3895, 'kontrolle': 3896, 'funkel': 3897, 'juenger': 3898, 'konkrete': 3899, 'exodus': 3900, 'ww2': 3901, 'schlimmbo2': 3902, 'einige': 3903, 'muenster': 3904, 'studenten': 3905, 'strafbar': 3906, 'pauschal': 3907, 'saekularen': 3908, 'atheistischen': 3909, 'bezweifle': 3910, 'wiedergegeben': 3911, 'lebenden': 3912, 'freihandel': 3913, 'grundlage': 3914, 'schnuckis': 3915, 'wusste': 3916, 'motto': 3917, 'trete': 3918, 'faschismus': 3919, 'wette': 3920, 'fettige': 3921, 'atheismus': 3922, 'stalin': 3923, 'analog': 3924, 'zeugen': 3925, 'beraten': 3926, 'kommst': 3927, 'berivan': 3928, 'aslan': 3929, 'aetzend': 3930, 'gruppen': 3931, 'allesamt': 3932, 'antisemiten': 3933, 'selbstmord': 3934, '75': 3935, 'nackt': 3936, 'scheut': 3937, 'demokratiemeile': 3938, 'allie': 3939, 'ruppe': 3940, 'umgang': 3941, 'stephan': 3942, 'riskie': 3943, 'nenn': 3944, 'unendlich': 3945, 'fuehrung': 3946, 'monikahanutko': 3947, 'hobbyhuren': 3948, 'titel': 3949, 'kritische': 3950, 'belegt': 3951, 'twitterde': 3952, 'schule': 3953, 'weblump': 3954, 'albe': 3955, 'neudf': 3956, 'dritter': 3957, 'csdleipzig': 3958, 'leipziger': 3959, 'ruecken': 3960, 'tust': 3961, 'muslim': 3962, 'lern': 3963, '49': 3964, 'differenzie': 3965, 'maziere': 3966, 'irak': 3967, 'faber': 3968, 'gastfreundschaft': 3969, 'pazderski': 3970, 'unfaehigkeit': 3971, 'mob': 3972, 'bedroht': 3973, 'simulacron2': 3974, 'abgrenzung': 3975, 'innenminister': 3976, 'kirchl': 3977, 'einrichtungen': 3978, 'beweist': 3979, 'herres': 3980, 'fruehstuecksfernsehen': 3981, 'beteiligt': 3982, 'ciao': 3983, 'ig0nix': 3984, 'westens': 3985, 'jeweils': 3986, 'offensichtlichen': 3987, 'gezielte': 3988, 'impulsreferat': 3989, 'trauerspiel': 3990, 'schaust': 3991, 'w': 3992, 'trueben': 3993, 'ermittlungsarbeit': 3994, 'vorbereitet': 3995, 'ideologisch': 3996, 'dicke': 3997, 'holen': 3998, 'unwissend': 3999, 'tragisch': 4000, 'tafel': 4001, 'kraefte': 4002, 'pressestelle': 4003, 'grundeis': 4004, 'vergesst': 4005, 'ok': 4006, 'schlampe': 4007, 'solch': 4008, 'gerhard': 4009, 'zunaechst': 4010, 'lebensqualitaet': 4011, 'genannten': 4012, 'wissenschaftliche': 4013, 'errungenschaften': 4014, 'stimmung': 4015, 'fischt': 4016, 'verbal': 4017, 'lokalzeit': 4018, 'kommunizieren': 4019, 'empfaenger': 4020, 'szenevie': 4021, 'eln': 4022, 'althusmann': 4023, 'nbi': 4024, 'ffm': 4025, 'irisbuecker': 4026, 'lebensgefahr': 4027, 'demos': 4028, 'meckern': 4029, 'ave': 4030, 'platon': 4031, 'klaren': 4032, 'ow': 4033, 'ohr': 4034, 'genial': 4035, 'landtagsabgeordneten': 4036, 'schwere': 4037, 'vorwuerfe': 4038, 'kuenast': 4039, 'haifa': 4040, 'israelfahne': 4041, 'lauter': 4042, 'endet': 4043, 'soll': 4044, 'verpasst': 4045, 'zahlreich': 4046, 'kastration': 4047, 'nirgends': 4048, 'mfg': 4049, 'verheiratet': 4050, 'richter': 4051, 'veroeffentlichten': 4052, 'verbot': 4053, 'janboehm': 4054, 'vorschaubild': 4055, 'hessenschau': 4056, 'top': 4057, 'bundesvorstand': 4058, 'wasser': 4059, 'rechtspopulisten': 4060, 'ieren': 4061, 'viktor': 4062, 'bewe': 4063, 'mitsamt': 4064, 'zigeuner': 4065, 'feiern': 4066, 'freidenker': 4067, 'konservative': 4068, 'falls': 4069, '22': 4070, 'jaehrigen': 4071, 'romaday': 4072, 'zweifellos': 4073, 'rasibo': 4074, 'pmaurus': 4075, 'verstuemmeln': 4076, 'gaebe': 4077, 'feiglinge': 4078, 'illegal': 4079, 'loriotfehlt': 4080, 'gewaehlte': 4081, 'singen': 4082, 'einzigste': 4083, 'aranxo': 4084, 'schneefloeckchen': 4085, 'aehnlich': 4086, 'ob': 4087, 'tendenziell': 4088, 'geringverdiener': 4089, 'ton': 4090, 'dingen': 4091, 'geendet': 4092, 'schneider91ms': 4093, 'wunsch': 4094, 'schwachen': 4095, 'teresa': 4096, 'clausstrunz': 4097, 'befragt': 4098, 'formulie': 4099, 'schwanger': 4100, 'wien': 4101, 'gezuechtet': 4102, 'unbarmherzig': 4103, 'wunderbar': 4104, 'mehrals1wombat': 4105, 'zealousranter': 4106, 'book': 4107, 'boev': 4108, 'kohl': 4109, 'komischerweise': 4110, 'weiber': 4111, 'wovon': 4112, 'abwe': 4113, 'hr': 4114, 'eingreifen': 4115, 'profsalzborn': 4116, 'drittklassig': 4117, '3sat': 4118, 'fahre': 4119, 'verschwult': 4120, 'scouts': 4121, 'schlaegt': 4122, 'sascha': 4123, 'helden': 4124, 'gearbeitet': 4125, 'sueueuess': 4126, 'denn': 4127, 'sexist': 4128, 'meetoo': 4129, 'alkoholiker': 4130, 'masslos': 4131, 'dach': 4132, 'baer': 4133, 'jesidischen': 4134, 'interpretieren': 4135, 'zerrissenheit': 4136, 'oppositionsfuehrer': 4137, 'verseuchten': 4138, 'trifft': 4139, 'aufsetzen': 4140, 'anziehen': 4141, 'finanzielle': 4142, 'esgeld': 4143, 'einseitig': 4144, 'amri': 4145, 'inklusive': 4146, 'lege': 4147, '26': 4148, 'szene': 4149, 'kirchlichen': 4150, 'taetig': 4151, 'sozialschmarotzer': 4152, 'mohamed': 4153, 'ludhell321': 4154, 'grab': 4155, 'schaufeln': 4156, 'erden': 4157, 'prophet': 4158, 'weltweiten': 4159, 'riebenen': 4160, 'umgebungen': 4161, 'abfall': 4162, 'kompost': 4163, 'rus': 4164, 'fordern': 4165, 'neoliberale': 4166, 'mutwillig': 4167, 'risiko': 4168, 'geistig': 4169, 'nope': 4170, 'waren': 4171, 'vasallen': 4172, 'aufbau': 4173, 'jeder': 4174, 'moege': 4175, 'kaputt': 4176, 'ministerposten': 4177, 'bestrafen': 4178, 'besitzes': 4179, 'verrat': 4180, 'volke': 4181, 'teilen': 4182, 'widerlichen': 4183, 'beschrieben': 4184, 'einzuschraenken': 4185, 'gesper': 4186, 'kriegen': 4187, 'lumpen': 4188, 'yxyzyxy': 4189, 'oekonomisch': 4190, 'einig': 4191, 'einschuechtern': 4192, 'michaelaelfgen': 4193, 'geringe': 4194, 'rbbabendschau': 4195, '86': 4196, 'moechtest': 4197, 'jageradeheraus': 4198, 'piratenfrank': 4199, 'dreckschwein': 4200, 'zitie': 4201, 'mittel': 4202, 'rohingya': 4203, 'legen': 4204, 'menno': 4205, 'sozialabbau': 4206, 'meier': 4207, 'diktatur': 4208, 'brechen': 4209, 'gebu': 4210, 'stag': 4211, 'jordanien': 4212, 'lehnen': 4213, 'sondierungsergebnisse': 4214, 'unterdruecken': 4215, 'lgbt': 4216, 'nabu': 4217, 'presse': 4218, 'gewinnt': 4219, 'vanberlichingen': 4220, 'haseloff': 4221, 'such': 4222, 'anstatt': 4223, 'gedenkt': 4224, '2005': 4225, 'kalbluetig': 4226, 'mehrheiten': 4227, 'nachricht': 4228, 'genitalverstuemmelung': 4229, 'kenntnis': 4230, 'linksgruen': 4231, 'horst': 4232, 'aufbruch': 4233, 'unrealistisch': 4234, 'verlangt': 4235, 'blockieren': 4236, 'anatolien': 4237, 'anschlaege': 4238, 'annaehernd': 4239, 'konzept': 4240, 'klug': 4241, 'altersarmut': 4242, 'herrscht': 4243, 'webseiten': 4244, 'penner': 4245, 'falscher': 4246, 'the': 4247, 'seitdem': 4248, 'zwingend': 4249, 'rueckrat': 4250, 'kaiebel': 4251, 'pinkstinksde': 4252, 'endgueltige': 4253, 'umerziehung': 4254, 'schaetzung': 4255, '4sonicc': 4256, 'frisst': 4257, 'befehle': 4258, 'heterosexualitaet': 4259, 'auslaendischen': 4260, 'rechtsextremismus': 4261, 'parasiten': 4262, 'dennis': 4263, 'wieland': 4264, 'qualvoll': 4265, 'analphabeten': 4266, 'sucht': 4267, 'verbloedet': 4268, 'liberaler': 4269, 'allem': 4270, 'distanzieren': 4271, 'seiten99ueber': 4272, 'shalom': 4273, 'bluethenstaub': 4274, '66freedom66': 4275, 'abgeschafft': 4276, 'monate': 4277, 'besonderen': 4278, 'gewonnen': 4279, 'staatliche': 4280, 'polizeimuenchen': 4281, 'komme': 4282, 'vegetarier': 4283, 'kapitalistische': 4284, 'mirjam': 4285, 'verschwinden': 4286, 'schweineblut': 4287, 'blieb': 4288, 'meth': 4289, 'uebrig': 4290, 'moechten': 4291, 'stehlen': 4292, 'dreckspa': 4293, 'interesse': 4294, 'bestimmten': 4295, 'politischer': 4296, 'arbeitslose': 4297, 'lager': 4298, 'zweimal': 4299, 'duesseldorf': 4300, 'prostituie': 4301, 'formel1': 4302, 'non': 4303, 'zeitpunkt': 4304, 'kriecht': 4305, 'linksfaschist': 4306, 'streichen': 4307, 'fluechten': 4308, 'umkaempften': 4309, 'nachfahren': 4310, 'somalia': 4311, 'therealkare': 4312, 'alternative': 4313, 'programm': 4314, 'staatsbuergerschaft': 4315, 'irrsinn': 4316, 'zaeune': 4317, 'stunde': 4318, 'trf84': 4319, 'berger': 4320, 'faende': 4321, 'finanzminister': 4322, 'unterbezahlt': 4323, 'anzeigen': 4324, 'permanent': 4325, 'verni': 4326, 'htung': 4327, 'drittes': 4328, 'saeugetieren': 4329, 'stiftung': 4330, 'chef': 4331, 'kaeser': 4332, 'einzig': 4333, 'gesocks': 4334, 'nypd': 4335, 'w203go': 4336, 'nationalitaet': 4337, 'geschlossene': 4338, 'gerichtshof': 4339, 'versprechen': 4340, 'haelfte': 4341, 'schwierigkeiten': 4342, 'zerstoeren': 4343, 'spezies': 4344, 'erlangen': 4345, 'leistung': 4346, 'tue': 4347, 'einzulassen': 4348, 'abe': 4349, 'h66': 4350, 'verwurzelt': 4351, 'tiefes': 4352, 'aufregung': 4353, 'bekaempfen': 4354, 'andere': 4355, 'traditionelle': 4356, 'faengt': 4357, 'kommenden': 4358, 'landgericht': 4359, 'voraus': 4360, 'sofa': 4361, 'moustafa': 4362, 'merkelno': 4363, 'ruf': 4364, 'einschaetzen': 4365, 'zb': 4366, 'nuetzt': 4367, 'leiden': 4368, 'kamera': 4369, 'rechtlichen': 4370, 'belogen': 4371, 'cent': 4372, 'zahlt': 4373, 'vielfaeltige': 4374, 'islamistischer': 4375, 'verschwiegen': 4376, 'abgeben': 4377, 'drbrandner': 4378, 'nicola': 4379, 'erbschaftssteuer': 4380, 'immerzu': 4381, 'anlass': 4382, 'luxus': 4383, 'zweiter': 4384, 'kommunismus': 4385, 'luegt': 4386, 'zeug': 4387, 'anstand': 4388, 'versuche': 4389, 'tichyseinblick': 4390, 'aufgebauschtes': 4391, 'h2o': 4392, 'jobs': 4393, 'leistet': 4394, 'garstig': 4395, 'domradio': 4396, 'ideologien': 4397, 'korrektur': 4398, 'fischer': 4399, 'bundesbuerger': 4400, 'patriarchator': 4401, 'staatsfunk': 4402, 'rauten': 4403, 'gib': 4404, 'anstaendige': 4405, 'gleichstellung': 4406, 'haustiere': 4407, 'fdpbw': 4408, 'privilegie': 4409, '3k18': 4410, 'abwehr': 4411, 'westlichen': 4412, 'menschliche': 4413, 'maltelehming': 4414, 'nah': 4415, 'magdeburg': 4416, 'evangelium': 4417, 'historischen': 4418, 'besatzer': 4419, 'destso': 4420, 'flieht': 4421, 'bekaempfung': 4422, 'anstaendigen': 4423, 'maennl': 4424, 'aufhalten': 4425, 'ueberzeugungen': 4426, 'campact': 4427, 'polit': 4428, 'schlimmste': 4429, 'bundesinnenminister': 4430, 'maizi': 4431, 'praxis': 4432, 'vo': 4433, 'freeworld2': 4434, 'noburkaverbot': 4435, 'amazikat': 4436, 'mittelalterlichen': 4437, 'gegenwae': 4438, 'allerseits': 4439, 'schreibe': 4440, 'gefuehl': 4441, 'john': 4442, 'beu': 4443, 'sozialromantik': 4444, 'individuelle': 4445, 'islamismus': 4446, '91': 4447, 'seiten': 4448, 'russischen': 4449, 'dauern': 4450, 'hysterisch': 4451, 'kohle': 4452, 'nonnjochen': 4453, 'norgeprivacy': 4454, 'zersetzt': 4455, 'schnelle': 4456, 'vollzogen': 4457, 'beller': 4458, 'werk': 4459, 'sexueller': 4460, 'manhattan': 4461, 'abgetaucht': 4462, 'fans': 4463, 'aufgaben': 4464, 'iss': 4465, 'pr': 4466, 'vorstellen': 4467, 'reagie': 4468, 'mangelnde': 4469, 'schandmaeuler': 4470, 'dukenford': 4471, 'keinesfalls': 4472, 'machtgeile': 4473, 'begangen': 4474, 'toten': 4475, 'geboren': 4476, 'rohstoffe': 4477, '70': 4478, 'bunter': 4479, 'indern': 4480, 'wurscht': 4481, 'front': 4482, 'wueste': 4483, 'predigt': 4484, '2000': 4485, 'asf': 4486, 'katholizismus': 4487, 'neonazis': 4488, 'richtigen': 4489, 'ernstes': 4490, 'alma': 4491, 'konzernen': 4492, 'perverse': 4493, 'putzen': 4494, 'fiat': 4495, 'anerkennung': 4496, 'wein': 4497, 'sang': 4498, 'antiisraelischen': 4499, 'dargestellt': 4500, 'beitrittsverhandlungen': 4501, 'moralische': 4502, 'ueberlassen': 4503, 'strassenbau': 4504, 'mitschuld': 4505, 'schmarotzen': 4506, 'gleichstellungsbeauftragter': 4507, 'aufpassen': 4508, 'komplexe': 4509, 'stephdammi': 4510, 'brodnig': 4511, 'grundsicherung': 4512, 'verletzten': 4513, 'hiphop': 4514, 'geschlechtsorgane': 4515, 'frueh': 4516, 'fraunhofer': 4517, 'durchbruch': 4518, 'freitag': 4519, 'konsequent': 4520, 'verbrechen': 4521, 'zuhoeren': 4522, 'folter': 4523, 'date': 4524, 'frueheren': 4525, 'geringer': 4526, 'stop': 4527, 'anerkennt': 4528, 'oefter': 4529, 'ketten': 4530, 'geheiratet': 4531, 'fake': 4532, 'schaut': 4533, 'reiche': 4534, 'verwaltung': 4535, 'wahlkreiskandidaten': 4536, 'terrorist': 4537, 'ueberlieferungen': 4538, 'beguenstigen': 4539, 'rollt': 4540, 'emir': 4541, 'katar': 4542, 'waffenstopp': 4543, 'merle': 4544, 'junges': 4545, 'unschuldiges': 4546, 'kch': 4547, 'umweltundaktiv': 4548, 'asylantenflut': 4549, 'asylanenstop': 4550, 'zivil': 4551, 'strafrechts': 4552, 'miquwarchar': 4553, 'munkelt': 4554, 'kiss': 4555, 'sabbath': 4556, 'rockon': 4557, 'vielfaeltiger': 4558, 'aqeela': 4559, 'asifi': 4560, 'gewinnerin': 4561, 'nansenaward': 4562, 'testen': 4563, 'miauen': 4564, 'sklaventums': 4565, 'au': 4566, 'ueberschuss': 4567, 'verschenken': 4568, 'lwaff': 4569, 'nationalsozialist': 4570, 'schimpfwo': 4571, 'dulden': 4572, 'vorkommt': 4573, 'elmo31226': 4574, 'mond': 4575, 'kehrseite': 4576, 'reichsdeutschen': 4577, 'flugscheiben': 4578, 'ufos': 4579, 'kosmetikindustrie': 4580, 'modelbranche': 4581, 'praesent': 4582, 'intereligioese': 4583, 'integrative': 4584, 'flh': 4585, '11uhr': 4586, 'kl': 4587, 'alnour': 4588, 'nicolabeerfdp': 4589, 'glaeubige': 4590, 'ehemals': 4591, 'bosnische': 4592, 'gastwi': 4593, 'persische': 4594, 'schueren': 4595, 'ausuebung': 4596, 'erschweren': 4597, 'entsetzlich': 4598, 'international': 4599, 'vernetzt': 4600, 'bestens': 4601, 'aufgestellt': 4602, 'kulturkampf': 4603, 'be': 4604, 'parole': 4605, 'vaterlaender': 4606, 'versagt': 4607, 'besuchervisa': 4608, 'uebernommen': 4609, 'liebhabereien': 4610, 'orgasmus': 4611, 'queeristan': 4612, 'ausstehen': 4613, 'fobimania': 4614, 'bedrohung': 4615, 'harry': 4616, 'potter': 4617, 'verweiblicht': 4618, 'kaffeeklatsch': 4619, 'kriegserklaerung': 4620, 'roemischen': 4621, 'reiches': 4622, 'habsburger': 4623, 'monarchie': 4624, 'hessische': 4625, 'sozialministerium': 4626, 'geschaefte': 4627, 'entschluss': 4628, 'diesjaehrigen': 4629, 'adventssonntag': 4630, 'schoenes': 4631, 'entspanntes': 4632, 'weihnachtsfest': 4633, 'riceblues': 4634, 'unnatuerlichen': 4635, 'stoffe': 4636, 'atomen': 4637, 'spinnern': 4638, 'gelangen': 4639, 'ecken': 4640, 'konter': 4641, 'gespielt': 4642, 'comeoneffzeh': 4643, 'afckol': 4644, 'effzeh': 4645, 'thereturnofthegoat': 4646, 'afckoe': 4647, 'ungleiche': 4648, 'sympathischer': 4649, 'abgesehen': 4650, 'dreiundzwoelfzig': 4651, 'wlernr': 4652, 'hasserfuellte': 4653, 'weiterleite': 4654, 'blinder': 4655, 'bezwecken': 4656, 'brauner': 4657, 'verschlimmern': 4658, 'friedenspolitik': 4659, 'verhuellen': 4660, 'gesichts': 4661, 'siegermaechte': 4662, 'christophcolla2': 4663, 'jani': 4664, 'dobrinth': 4665, 'belanglosen': 4666, 'quatschen': 4667, 'unkenntlichkeit': 4668, 'anzubiedern': 4669, 'oefters': 4670, 'literatur': 4671, 'roettgen': 4672, 'nunmehr': 4673, 'verstaendlich': 4674, 'babypause': 4675, 'ausfaellt': 4676, 'arbeitnehmende': 4677, 'auslandsaufenthalten': 4678, 'eheleute': 4679, 'tauscht': 4680, 'haupt': 4681, 'rueckenhaar': 4682, 'westkurvenfan': 4683, 'schwester': 4684, 'minderjaehrige': 4685, 'toechter': 4686, 'scharf': 4687, 'lesetipp': 4688, 'prof': 4689, 'friedhelm': 4690, 'hengsbach': 4691, 'umfai': 4692, 'vermoegenssteuer': 4693, 'wiuge': 4694, 'antifeministisch': 4695, 'produkt': 4696, 'propagandafilm': 4697, 'abgenickt': 4698, 'eid': 4699, 'geschaffen': 4700, 'gelitten': 4701, 'naivitaet': 4702, 'klarer': 4703, 'strikter': 4704, 'pluralistischen': 4705, 'zdfwatch': 4706, 'jorg': 4707, 'radek': 4708, 'schaem': 4709, 'anzupoebeln': 4710, 'selbstgefaellig': 4711, 'stinkig': 4712, 'pilgern': 4713, 'schlaeft': 4714, 'michaelspreng': 4715, 'studio': 4716, 'lenken': 4717, 'laestige': 4718, 'basisdemokratie': 4719, 'laestigen': 4720, 'laestig': 4721, 'lea': 4722, 'chiara': 4723, 'professionelle': 4724, 'wjanka634': 4725, 'jacobjoussen': 4726, 'entdecken': 4727, 'boettinger': 4728, 'belaestigen': 4729, 'pkk': 4730, 'flagge': 4731, 'anstecker': 4732, 'spdnds': 4733, 'danielmindon': 4734, 'tatsaechlichen': 4735, 'toutes': 4736, 'mes': 4737, 'licitations': 4738, 'melenchon': 4739, 'frankreichwahl': 4740, 'jdoeschner': 4741, 'nrwspd': 4742, 'lokale': 4743, 'rwe': 4744, 'private': 4745, 'wachdienst': 4746, 'spannend': 4747, 'carsten': 4748, 'abstimmen': 4749, 'einsatzes': 4750, 'ablehnen': 4751, 'tierfreundlich': 4752, 'buddisten': 4753, 'zugetraut': 4754, 'linksfaschisten': 4755, 'philipplicke': 4756, 'pflicht': 4757, 'gegenterror': 4758, 'messverfahren': 4759, 'erschliesst': 4760, 'intuition': 4761, 'institution': 4762, 'erik': 4763, 'fluegge': 4764, 'arndt': 4765, 'klocke': 4766, 'fuehrungsmannschaft': 4767, 'machtsinn': 4768, 'wasserglas': 4769, 'tucke': 4770, 'renten': 4771, 'sozialleistungen': 4772, 'konstantinandm': 4773, 'ohnekonsequenz': 4774, 'kuscheljutiz': 4775, 'erhoehte': 4776, 'geschwindigkeit': 4777, 'raser': 4778, 'verfolge': 4779, 'ausgelacht': 4780, 'loewe': 4781, 'territorium': 4782, 'eindringe': 4783, 'eils': 4784, 'vermeide': 4785, 'zoo': 4786, 'loewengehege': 4787, 'klettern': 4788, 'oezcanmutlu': 4789, 'rbb24': 4790, 'tspberlin': 4791, 'tspleute': 4792, 'dm': 4793, 'anhaenglich': 4794, 'zahm': 4795, 'berl': 4796, 'piratenberlin': 4797, 'dielinkeberlin': 4798, 'verminde': 4799, 'wohlergehen': 4800, 'ausrotten': 4801, 'traurige': 4802, 'ausrottung': 4803, 'zurueckkommen': 4804, 'willig': 4805, 'untere': 4806, 'solis': 4807, 'suesser': 4808, 'senf': 4809, 'broetchen': 4810, 'mischbrot': 4811, 'sozusagen': 4812, 'kameraden': 4813, 'vernetzen': 4814, 'exegese': 4815, 'jubelt': 4816, 'ursprung': 4817, 'waus': 4818, 'neonazi': 4819, 'anknuepfungspunkte': 4820, 'vorangehenden': 4821, 'zuordnung': 4822, 'retbar': 4823, 'auszuleben': 4824, 'fassbarer': 4825, 'ignorierende': 4826, 'neutestamentliche': 4827, 'abzueglich': 4828, 'diverser': 4829, 'hofer': 4830, 'straeters': 4831, 'maennerhaushalt': 4832, 'gaehnend': 4833, 'billigproduktion': 4834, 'one': 4835, 'schaenden': 4836, 'umzubringen': 4837, 'vorfahren': 4838, 'patent': 4839, 'schulle99': 4840, 'lieblingskoalition': 4841, 'envielfalt': 4842, 'siegel': 4843, 'prominent': 4844, 'bauernfamilien': 4845, 'scheibe': 4846, 'abschneiden': 4847, 'nobby1949z': 4848, 'weltoffenheit': 4849, 'fremdwo': 4850, 'magst': 4851, 'schildern': 4852, 'froschfresser': 4853, 'selbstverschuldet': 4854, 'lutschen': 4855, 'gefaengnis': 4856, 'ndrrecherche': 4857, 'aerzten': 4858, 'abgelehnten': 4859, 'asylbewerbern': 4860, 'leichtfe': 4861, 'atteste': 4862, 'auszustellen': 4863, 'abschiebung': 4864, 'bewahren': 4865, 'stamme': 4866, 'spritz': 4867, 'gejaule': 4868, 'trutze': 4869, 'bruederlich': 4870, 'zusammenhaelt': 4871, 'memel': 4872, 'etsch': 4873, 'belt': 4874, 'missbrauchen': 4875, 'servicetweet': 4876, 'evolution': 4877, 'nachvollziehbar': 4878, 'hoechstem': 4879, 'unplausibel': 4880, 'm10': 4881, 'f8z': 4882, 'kontrollieren': 4883, 'reibungspunkte': 4884, 'abbrachen': 4885, 'nuetzliches': 4886, 'ehr': 4887, 'philosophie': 4888, 'kunstgeschichte': 4889, 'geraumer': 4890, 'bauchschmerzen': 4891, 'menschenrecht': 4892, 'geficktes': 4893, 'elitaere': 4894, 'freierwaehler': 4895, 'renner': 4896, 'alternativenrw': 4897, 'traudichde': 4898, 'afdwaehlen': 4899, 'grueneversenken': 4900, 'beschissen': 4901, 'hingegen': 4902, 'regionaltreffen': 4903, 'wirklicher': 4904, 'eklat': 4905, 'menschenverachtend': 4906, 'verhaelt': 4907, 'juliakloeckner': 4908, 'steffenkuhne': 4909, 'kulturelle': 4910, 'breitet': 4911, 'identitaeren': 4912, 'fehlenden': 4913, 'info2099': 4914, 'reche': 4915, 'ers': 4916, 'umzukrempeln': 4917, 'nagel': 4918, 'kappe': 4919, 'okkupanten': 4920, 'trink': 4921, 'einen': 4922, 'daneben': 4923, 'benehmen': 4924, 'isst': 4925, 'behaelt': 4926, 'rumsucher': 4927, 'rueckstandslos': 4928, 'gestorben': 4929, 'nahrungskette': 4930, 'hmh': 4931, 'schonmal': 4932, 'ausgesetzt': 4933, 'achte': 4934, 'libelle2000r': 4935, 'unterdrueckt': 4936, 'folte': 4937, 'terrorisie': 4938, 'erotischer': 4939, 'elektrische': 4940, 'zahnbuerste': 4941, 'laedt': 4942, 'theodora58x': 4943, 'fuerchtet': 4944, 'messianischen': 4945, 'heils': 4946, '62': 4947, 'mobile': 4948, 'stoffgefaengnis': 4949, 'naaa': 4950, 'umkleidekabine': 4951, 'maennlichen': 4952, 'effizienz': 4953, 'bestmoegliche': 4954, 'ausnutzung': 4955, 'arbeitskraft': 4956, 'extravagante': 4957, 'maskeraden': 4958, 'legitimer': 4959, 'onyx0815': 4960, 'korrespondieren': 4961, 'fehlts': 4962, 'bettina': 4963, 'kudla': 4964, 'winkler': 4965, 'kolationen': 4966, 'lilalapras': 4967, 'usrgreg': 4968, 'andre290573': 4969, 'profilieren': 4970, 'selbstbewusste': 4971, 'erziehung': 4972, 'geschundenen': 4973, '40': 4974, 'hessenbooten': 4975, 'beleidigt': 4976, 'trinker': 4977, 'hurenbock': 4978, 'giesskannenve': 4979, 'asiatische': 4980, 'ostkuesstenhelfer': 4981, 'schranken': 4982, 'gewiesen': 4983, 'andreas': 4984, 'b1985': 4985, 'rechtschreibkorrekturverfaelschungsmistprogramm': 4986, 'besiegelt': 4987, 'zauberhand': 4988, 'verringe': 4989, 'quengelig': 4990, 'zickig': 4991, 'ausgeschlafen': 4992, 'statistische': 4993, 'wahrscheinlichkeit': 4994, 'vereinfachung': 4995, 'benannt': 4996, 'haiti': 4997, 'staerksten': 4998, 'hurrikan': 4999, 'matthew': 5000, 'gebieten': 5001, 'geimpft': 5002, 'offizier': 5003, 'neuerlichen': 5004, 'bverfg': 5005, 'kopftuchtragende': 5006, 'erzieherin': 5007, 'blner': 5008, 'senat': 5009, 'neutralitaetsgesetz': 5010, 'paradox': 5011, 'homophobe': 5012, 'lindenstrasse': 5013, 'hochpolitisch': 5014, 'radikalisierung': 5015, 'mehrheitsgesellschaft': 5016, 'wahlverlierer': 5017, 'attentaten': 5018, 'ueberfaellt': 5019, 'zuhause': 5020, 'kidnappt': 5021, 'unfaehiger': 5022, 'ttipp': 5023, 'dummbatz': 5024, 'betreten': 5025, 'andreasmiddel': 5026, 'pg': 5027, 'blindheim': 5028, 'rump': 5029, 'sympathisch': 5030, 'loben': 5031, 'medium': 5032, 'darmbewohner': 5033, 'steinzeitzombies': 5034, 'laiendarstellerin': 5035, 'talkshow': 5036, 'golffahrer': 5037, 'golfspieler': 5038, 'golfdiktatoren': 5039, 'mfratzscher': 5040, 'rueckgabe': 5041, 'steuermehreinnahmen': 5042, 'wahlgeschenke': 5043, 'hinde': 5044, 'ausgabenstruktur': 5045, 'bemerke': 5046, 'abschuss': 5047, 'freizugeben': 5048, 'holisticcaremh': 5049, 'verbrochen': 5050, 'intersexueller': 5051, 'homosexuell': 5052, 'handele': 5053, 'gesandten': 5054, 'zuwider': 5055, 'unglaeubig': 5056, 'rumaenischen': 5057, 'banden': 5058, 'besetzen': 5059, 'otzt': 5060, 'zions': 5061, 'benediktiner': 5062, 'kloster': 5063, 'nuetschau': 5064, 'nordens': 5065, 'verliehen': 5066, 'frshev': 5067, 'mallorca': 5068, 'aufgemacht': 5069, 'tompabb': 5070, 'wahlentscheidungen': 5071, 'grundorientierungen': 5072, 'glaubte': 5073, 'befriedigendem': 5074, 'sexleben': 5075, 'rennt': 5076, 'emilbriard': 5077, 'redner': 5078, 'chemtrail': 5079, 'uebt': 5080, 'kucken': 5081, 'erkundige': 5082, 'hooton': 5083, 'rechtswidrige': 5084, 'abgegeben': 5085, 'hochzuschlafen': 5086, 'ausnutzen': 5087, 'friedmann': 5088, 'bildenden': 5089, 'verschwoerungsideologien': 5090, 'israelkritik': 5091, 'avantgardistisch': 5092, 'befangen': 5093, 'kahane': 5094, 'kommende': 5095, 'versaut': 5096, 'detail': 5097, 'ausbau': 5098, 'bezahlbar': 5099, 'eigenheimfoerderung': 5100, 'pp': 5101, 'svbabelsberg03': 5102, 'dfb': 5103, 'vizepraesident': 5104, 'erhebliche': 5105, 'rechtmaessigkeit': 5106, 'nofv': 5107, 'verbandsgerichts': 5108, 'faszifankurve': 5109, 'svbfce': 5110, 'babelsberg': 5111, 'cottbus': 5112, 'rauensranking': 5113, 'schwierig': 5114, 'mgtows': 5115, 'erfrischend': 5116, 'negativ': 5117, 'hassen': 5118, 'fuerh': 5119, 'vizepraesidentin': 5120, 'bundestages': 5121, 'svk': 5122, 'inntal': 5123, 'fisch': 5124, 'metapher': 5125, 'aun': 5126, 'definitiv': 5127, 'prenzlstimme': 5128, 'repressives': 5129, 'transgender': 5130, 'ausfuehren': 5131, 'verschafft': 5132, 'dates': 5133, 'bayrische': 5134, 'hingekommen': 5135, 'stronz': 5136, 'gespenster': 5137, 'wassers': 5138, 'gingen': 5139, 'meer': 5140, 'elends': 5141, 'holomaeus': 5142, 'ansektionob': 5143, 'inhalt': 5144, 'rechtschreibung': 5145, 'konsumieren': 5146, 'ralfs1812': 5147, 'find': 5148, 'platzeck': 5149, 'chanukkia': 5150, 'gestanden': 5151, 'olaf': 5152, 'stumm': 5153, 'geschaltet': 5154, 'reputation': 5155, 'schlag': 5156, 'steigern': 5157, 'lehrstuhl': 5158, 'aufloesen': 5159, 'echtes': 5160, 'potenzial': 5161, 'ausweitung': 5162, 'dialogs': 5163, 'freiheitliche': 5164, 'saekularisie': 5165, 'voraussetzungen': 5166, 'garantieren': 5167, 'boeckenfoerde': 5168, 'vernunft': 5169, 'ungsgefuehl': 5170, 'kompromissfaehigkeit': 5171, 'schwinden': 5172, 'epidemisch': 5173, 'getreuen': 5174, 'beherrscht': 5175, 'mehren': 5176, 'gammln': 5177, 'buddel': 5178, 'fckoeln': 5179, 'jon': 5180, 'sin': 5181, 'fueer': 5182, 'kleber': 5183, 'ernsthaft': 5184, 'msnbc': 5185, 'lehrbuch': 5186, 'betrunkenen': 5187, 'gespraechspa': 5188, 'weiterleitungen': 5189, 'auszuprobieren': 5190, 'direktorium': 5191, 'verbergen': 5192, 'ichbinantifa': 5193, 'andersdenkende': 5194, 'ausuebe': 5195, 'erneue': 5196, 'wiedersehen': 5197, 'kristinahaenel': 5198, 'schwangerschaftsabbrueche': 5199, 'vorzuenthalten': 5200, 'selbstbestimmungsrecht': 5201, 'beschneiden': 5202, 'bevormundend': 5203, '219a': 5204, 'koelne': 5205, 'reff': 5206, 'ekelhafte': 5207, 'co': 5208, 'effizient': 5209, 'angehoe': 5210, 'mrmacsimon': 5211, 'skybirdphoenix': 5212, 'schnauze': 5213, 'steinmaier': 5214, 'facebpalmer': 5215, 'abschnitten': 5216, 'verschaerft': 5217, 'grenzblockade': 5218, 'notlage': 5219, 'hmheinig': 5220, 'verfallserscheinungen': 5221, 'linear': 5222, 'gekennzeichnet': 5223, 'muten': 5224, 'exponentiell': 5225, 'verrohtekonservative': 5226, 'daemlichkeit': 5227, 'gepachtet': 5228, 'annett': 5229, 'rose': 5230, 'deutscland': 5231, 'pluralistische': 5232, 'pluralismus': 5233, 'geloest': 5234, 'thomas': 5235, 'islamophob': 5236, 'huebsche': 5237, 'energie': 5238, 'gleichmaessiger': 5239, 'schleimig': 5240, 'rueckgratlos': 5241, 'boah': 5242, 'lebensunwe': 5243, 'meinte': 5244, 'net': 5245, 'einsehen': 5246, 'drcarmenschwarz': 5247, 'kuesst': 5248, 'zaehne': 5249, 'putzt': 5250, 'falldermauer': 5251, 'muesstest': 5252, 'planeten': 5253, 'klares': 5254, 'linkspa': 5255, 'unmittelbar': 5256, 'getrigge': 5257, 'vermischte': 5258, 'vermanschte': 5259, 'vernichter': 5260, 'barley': 5261, 'dauerrede': 5262, 'kalte': 5263, 'verbundenheit': 5264, 'wachsen': 5265, 'hanne': 5266, 'huemmer': 5267, 'gaehn': 5268, 'erpresste': 5269, 'verfass': 5270, 'gerichtauflagen': 5271, 'goldig': 5272, 'heimatgefuehl': 5273, 'fina': 5274, '74': 5275, 'haenden': 5276, 'klebt': 5277, 'faszinierende': 5278, 'existenz': 5279, 'stoische': 5280, 'bereitschaft': 5281, 'gelassen': 5282, 'muffpepper': 5283, 'finkfinkmichael': 5284, 'sebastiankurz': 5285, 'diepa': 5286, 'praktiken': 5287, 'korrektheiten': 5288, 'reiserobby': 5289, 'antrages': 5290, 'ergaenzt': 5291, 'umsetzung': 5292, 'troste': 5293, 'deutschs': 5294, 'blockie': 5295, 'gueter': 5296, 'kundtun': 5297, 'erhoe': 5298, 'hinterfotzige': 5299, 'gruensprecher': 5300, 'shuggy35312948': 5301, 'cherusker6': 5302, 'sunami495': 5303, 'gehandelt': 5304, 'skandal': 5305, 'gesamten': 5306, 'niederlanden': 5307, 'irgendeine': 5308, 'vollverschleierung': 5309, 'satte': 5310, 'aufzustehen': 5311, 'zion': 5312, 'mdb': 5313, 'schuetzer': 5314, 'unternimmst': 5315, 'gehst': 5316, 'einreden': 5317, 'verlieben': 5318, 'jeside': 5319, 'nlpete007': 5320, 'joyia': 5321, 'consult': 5322, 'handschuh': 5323, 'inku': 5324, 'lux': 5325, 'herrfranken': 5326, 'untalentie': 5327, 'zuruecktritt': 5328, 'mieseste': 5329, 'konto': 5330, 'nuerburgring': 5331, 'versenkt': 5332, 'nullnummer': 5333, 'ungeheuerlich': 5334, 'ckoemmlinger': 5335, 'niggergesindel': 5336, 'menschen2017': 5337, 'plappe': 5338, 'abstossend': 5339, 'dritte': 5340, 'skurrile': 5341, 'alexander': 5342, 'bismarck': 5343, 'beruehmten': 5344, 'fasste': 5345, 'verzichte': 5346, 'esse': 5347, 'lasse': 5348, 'unglaeubiger': 5349, 'provozieren': 5350, 'talent': 5351, 'provokation': 5352, 'titanic': 5353, 'linksgedrehten': 5354, 'hinrichten': 5355, 'retweet': 5356, 'kommunisten': 5357, 'andrezeven': 5358, 'fraup': 5359, 'gummis': 5360, 'gummitwist': 5361, 'frz': 5362, 'leonhi': 5363, 'geleitete': 5364, 'ehs': 5365, 'woelfe': 5366, 'erwiesen': 5367, 'finsterem': 5368, 'herzig': 5369, 'taugt': 5370, 'hinzugehoeren': 5371, 'angefueh': 5372, 'korangeleh': 5373, 'heimatland': 5374, 'scheissen': 5375, 'koreatourism': 5376, 'koreanern': 5377, 'pofalla': 5378, 'ole': 5379, 'beust': 5380, 'falla': 5381, 'schaftsliberale': 5382, 'gealte': 5383, 'schoss': 5384, 'aether': 5385, 'faeulnis': 5386, 'wabe': 5387, 'erkennbar': 5388, 'bewegt': 5389, 'entzug': 5390, 'trendinaliade': 5391, 'riesenarschloch': 5392, 'ketzerei': 5393, 'haeltst': 5394, 'innerlich': 5395, 'karltompson': 5396, 'macho': 5397, 'sexistischen': 5398, 'ebene': 5399, 'mutexdeadlock': 5400, 'cinderella': 5401, 'gesund': 5402, 'wald': 5403, 'gesammelte': 5404, 'fliegenpilz': 5405, 'munden': 5406, 'behandeltes': 5407, 'wurzelgemuese': 5408, 'heisses': 5409, 'hetzkammer': 5410, 'tradingtheponzi': 5411, 'chance': 5412, 'bolchewisten': 5413, 'landesverraeter': 5414, 'juedischerer': 5415, 'remigration': 5416, 'schleichend': 5417, 'textstelle': 5418, 'wolltest': 5419, 'mord': 5420, 'dargelegt': 5421, 'tatbestaende': 5422, 'aufgefueh': 5423, 'aufzuwachsen': 5424, 'offensiv': 5425, 'umgegangen': 5426, 'vorbereitungstreffen': 5427, 'medienpreis': 5428, 'einreichungen': 5429, 'abweisen': 5430, 'griechenland': 5431, 'auffanglager': 5432, 'belassen': 5433, 'indentitaet': 5434, 'unwahrschlich': 5435, 'vorgaben': 5436, 'spanischen': 5437, 'inakzeptabel': 5438, 'katalonien': 5439, 'entsendung': 5440, 'osze': 5441, 'beobachter': 5442, 'referendum': 5443, 'fernverkehr': 5444, 'einstellt': 5445, 'gereicht': 5446, 'erwischen': 5447, 'insteiger': 5448, 'zawhie': 5449, 'gucke': 5450, 'guenstiger': 5451, 'doppelte': 5452, 'lauwarmen': 5453, 'wahrgenommen': 5454, 'gesellschaftlichen': 5455, 'bemuehungen': 5456, 'wurzeln': 5457, 'normie': 5458, 'grundwe': 5459, 'vergiftete': 5460, 'praline': 5461, 'auferstehen': 5462, 'typischer': 5463, 'wenigen': 5464, 'krawall': 5465, 'kaethe': 5466, 'katjakipping': 5467, 'gemobbt': 5468, 'lemmingen': 5469, 'markustomberg': 5470, 'verursacher': 5471, 'krieges': 5472, 'gehorchen': 5473, 'kontra': 5474, 'staatsgelder': 5475, 'kassieren': 5476, 'gouverneur': 5477, 'kalifornien': 5478, 'jerry': 5479, 'brown': 5480, 'liebes': 5481, 'jeff': 5482, 'cop23': 5483, 'dedododadeda': 5484, 'feminist': 5485, 'neidisch': 5486, 'eng': 5487, 'umschlungen': 5488, 'aufwacht': 5489, 'rueber': 5490, 'laudes': 5491, 'ziegenficker': 5492, 'ausreichend': 5493, 'maifeie': 5494, 'sn': 5495, 'siegfriedsfrom': 5496, 'thehumblejosh': 5497, 'greencard': 5498, 'inhaber': 5499, 'befristetem': 5500, 'aufenthaltsrecht': 5501, 'weltanschauliche': 5502, 'neutralitaet': 5503, 'absurd': 5504, 'wendung': 5505, 'aufgeloest': 5506, 'roulette': 5507, 'offene': 5508, 'zers': 5509, 'tzer': 5510, 'friedrich': 5511, 'erf': 5512, 'nd': 5513, 'fuehrungspack': 5514, 'drnunzianten': 5515, 'zeugenaussagen': 5516, 'passanten': 5517, 'spruenge': 5518, 'anschliessend': 5519, 'wendete': 5520, 'buergersteig': 5521, 'gegenueberliegenden': 5522, 'fahrbahnseite': 5523, 'ergriff': 5524, 'mieter': 5525, 'wagens': 5526, 'marokkaner': 5527, 'bundestagsvize': 5528, 'hinterhof': 5529, 'gebetshaeuser': 5530, 'brutstaetten': 5531, 'salafismus': 5532, 'dschihadismus': 5533, 'zurueckzublicken': 5534, 'blicken': 5535, 'aufdringlich': 5536, 'gegafft': 5537, 'globalen': 5538, 'erwaermung': 5539, 'westliche': 5540, 'staedter': 5541, 'panda': 5542, 'koala': 5543, 'wiese': 5544, 'beams': 5545, 'game': 5546, 'vorsichtig': 5547, 'ener': 5548, 'ausage': 5549, 'beitritt': 5550, 'kataloniens': 5551, 'verhinder': 5552, 'geleh': 5553, 'rumheulen': 5554, '1918': 5555, '1938': 5556, '1989': 5557, 'historische': 5558, 'bleibende': 5559, 'schwaezer': 5560, 'fehlgeleiteter': 5561, 'hurensohn': 5562, 'konfrontationen': 5563, 'genuege': 5564, 'misogyn': 5565, 'erinnere': 5566, 'bearbeitet': 5567, 'schulunterricht': 5568, 'verzichten': 5569, 'stehende': 5570, 'hasselhof': 5571, 'dagen': 5572, 'frauvogelbein': 5573, 'bundeslaendern': 5574, 'anfuehrer': 5575, 'alkoholisie': 5576, 'klotz': 5577, '875': 5578, 'geflohen': 5579, 'didyouknow': 5580, 'kriminalitaet': 5581, 'herkunft': 5582, 'rechtssystem': 5583, 'gooney75': 5584, 'geschlechte': 5585, 'rennung': 5586, 'menschensammlungen': 5587, 'toleranten': 5588, 'geifer': 5589, 'schreitet': 5590, 'voran': 5591, 'adolfglunz': 5592, 'schaemt': 5593, 'saeue': 5594, 'brdgmbh': 5595, 'zweierlei': 5596, 'brech': 5597, 'wusst': 5598, 'jawohl': 5599, 'weiteres': 5600, 'linker': 5601, 'wonach': 5602, 'oekobilanz': 5603, 'colognerin': 5604, 'konzentration': 5605, 'bundestagsmandat': 5606, 'eddie': 5607, '1412': 5608, 'unbedeutendheit': 5609, 'verhetzt': 5610, 'praktischeres': 5611, 'lewin': 5612, 'sozialprinzipien': 5613, 'tugendethik': 5614, 'gesellschaftslehre': 5615, 'noelle': 5616, 'transsexuelitaet': 5617, 'scheinheiligeren': 5618, 'theaterdonner': 5619, 'blosser': 5620, 'playboy': 5621, 'kommentie': 5622, '87': 5623, 'tom': 5624, 'rettete': 5625, 'hollstein': 5626, 'ahmet': 5627, 'demir': 5628, 'rathaus': 5629, 'gdp': 5630, 'dir4': 5631, 'gdppresse': 5632, 'autonome': 5633, 'hoechtstrafen': 5634, 'sozialdemokrat': 5635, 'hervorragenden': 5636, 'eichef': 5637, 'kleinredet': 5638, 'konstellation': 5639, 'vorbildliche': 5640, 'migrationspolitik': 5641, 'mitmachen': 5642, 'weihnachtsmaerkten': 5643, 'barrieren': 5644, 'nagelbomben': 5645, 'don': 5646, 'quijote': 5647, 'gerichtet': 5648, 'windmuehlen': 5649, 'kaempfend': 5650, 'bekloppte': 5651, 'frenchies': 5652, 'toene': 5653, 'unmengen': 5654, 'tieren': 5655, 'umkommen': 5656, 'ausl': 5657, 'ueblich': 5658, 'freigelassen': 5659, 'arbeitslager': 5660, 'umfallen': 5661, 'rueckstandlos': 5662, 'junkie': 5663, 'crack': 5664, 'autoritaet': 5665, 'gehirngewaschene': 5666, 'muesse': 5667, 'regierungsbeteiligung': 5668, 'option': 5669, 'gewinner': 5670, 'zwerge': 5671, 'anmutigsten': 5672, 'benoette': 5673, 'verzweifelte': 5674, 'ueberlegung': 5675, 'stinken': 5676, 'patrioten': 5677, 'besucht': 5678, 'verarschungsgericht': 5679, 'verrotten': 5680, 'randgruppen': 5681, 'rvrsapachemastr': 5682, 'neuseeland': 5683, 'nairax23': 5684, 'harlekin1991': 5685, 'naira': 5686, 'baby': 5687, 'krabbelalter': 5688, 'krippe': 5689, 'stecknadeln': 5690, 'carocreamreal': 5691, 'caro': 5692, 'jeahr': 5693, 'interpretationsmethoden': 5694, 'angewandt': 5695, 'alicegreschkow': 5696, 'lieb': 5697, 'rueckendeckung': 5698, 'weiterzumachen': 5699, 'koepfe': 5700, 'eskalieren': 5701, 'bano': 5702, 'romina': 5703, 'power': 5704, 'schlagerchampions': 5705, 'medienarbeiter': 5706, 'rene': 5707, 'springer': 5708, 'jaemmerlicher': 5709, 'letzen': 5710, 'wesentlich': 5711, 'konsulaten': 5712, 'beamte': 5713, 'spionieren': 5714, 'besatzungsmacht': 5715, 'teure': 5716, 'austauschbar': 5717, 'bescheissen': 5718, 'spre': 5719, 'cher': 5720, 'jus': 5721, 'tiz': 5722, 'mi': 5723, 'nis': 5724, 'te': 5725, 'ri': 5726, 'ge': 5727, 'reichelt': 5728, 'adressat': 5729, 'twitteraccount': 5730, 'ministerium': 5731, 'nachfragen': 5732, 'fundamentalistischen': 5733, 'investigatives': 5734, 'ausgaben': 5735, 'rechtsanwaeltin': 5736, 'maut': 5737, 'muelltonnen': 5738, 'gemuetlich': 5739, 'gaaaaanz': 5740, 'mitgekriegt': 5741, 'repraesentativen': 5742, 'grandioses': 5743, 'von': 5744, 'koalitionsverhandler': 5745, 'schrumpfen': 5746, 'sammelbewegung': 5747, 'gelaber': 5748, 'gerichte': 5749, 'angemessenen': 5750, 'strafrahmen': 5751, 'vorzusehen': 5752, 'popularitaet': 5753, '1997': 5754, 'verlasse': 5755, 'einsamkeit': 5756, 'anhaltendem': 5757, 'carlo': 5758, 'caretti': 5759, 'moepsen': 5760, 'vaginas': 5761, 'light': 5762, 'eingeschwungen': 5763, 'ellpa': 5764, 'verschwulten': 5765, 'verfassungsrichtern': 5766, 'hinr': 5767, 'vosskuhlescheisskule': 5768, 'finanziell': 5769, 'volksverraetern': 5770, 'entschlossen': 5771, 'entgegentreten': 5772, 'g': 5773, 'bete': 5774, 'schauhin2': 5775, 'sieger': 5776, 'asylantenbeschuetzer': 5777, 'asyalantenabschaum': 5778, 'diaetenerhoehung': 5779, 'muelleimern': 5780, 'herausfordern': 5781, 'verdammten': 5782, 'kna': 5783, 'krippewelle': 5784, 'nominieren': 5785, 'eidigen': 5786, 'tateinheit': 5787, 'rassismuss': 5788, 'sixtus': 5789, 'spitzenverdienern': 5790, 'selektiver': 5791, 'schwaecher': 5792, 'letzteren': 5793, 'bedrohlich': 5794, 'emoclewtonswej': 5795, 'seltenes': 5796, 'pforzheim': 5797, 'furzheim': 5798, 'audienz': 5799, 'kaiserin': 5800, 'geschaeftsfuehrend': 5801, 'staatskrise': 5802, 'debile': 5803, 'primitiver': 5804, 'darksideoftheeg': 5805, 'govkorea': 5806, 'mafrakorea': 5807, 'koreanischen': 5808, 'tierquaelern': 5809, 'verunglimpft': 5810, 'sodass': 5811, 'homerogner': 5812, 'herausgeber': 5813, 'disse': 5814, 'ation': 5815, 'umfassend': 5816, 'orientie': 5817, 'moderat': 5818, 'menschenfreundlich': 5819, 'spotten': 5820, 'rueckenwind': 5821, 'praegen': 5822, 'zwar': 5823, 'gegensatzpaar': 5824, 'voelkisch': 5825, 'identitaeten': 5826, 'schnittmenge': 5827, 'aschkenasische': 5828, 'scheintote': 5829, 'trainer': 5830, 'management': 5831, 'emotionalen': 5832, 'befindlichkeiten': 5833, 'ntvde': 5834, 'cherwa': 5835, 'religioes': 5836, 'bestritten': 5837, 'skupellosen': 5838, 'shrimps': 5839, 'vorhaut': 5840, 'praesidentin': 5841, 'frankreichs': 5842, 'eifreund': 5843, 'geschrittenen': 5844, 'stadium': 5845, 'errungenschaft': 5846, 'eigenem': 5847, 'wegzunehmen': 5848, 'strassenausbaubeitraege': 5849, 'luklktourscr': 5850, 'ueblicherweise': 5851, 'romantik': 5852, 'versorgung': 5853, 'angehoerigen': 5854, 'solidarisieren': 5855, 'ueberhoeht': 5856, 'bmel': 5857, 'bmub': 5858, 'gift': 5859, 'wildtiere': 5860, 'vorangetrieben': 5861, 'nationale': 5862, 'entschuldigt': 5863, 'judenspuren': 5864, 'gesundes': 5865, 'faznet': 5866, 'meine': 5867, 'grenzenlos': 5868, 'erikmarquardt': 5869, 'eulentweet': 5870, 'oststaaten': 5871, 'handhaben': 5872, 'homosexueller': 5873, 'erlaube': 5874, 'thesen': 5875, 'nuechternen': 5876, 'verlockung': 5877, 'geblendet': 5878, 'handbuch': 5879, 'staatsrechts': 5880, 'staatslehre': 5881, 'rundfunkbeitrag': 5882, 'rocken': 5883, 'blasphemie': 5884, 'atem': 5885, 'rauben': 5886, 'beton': 5887, 'absperrungen': 5888, 'fdj': 5889, 'onyx': 5890, 'mariaklschmeink': 5891, 'gruenenrw': 5892, 'nachfuehlen': 5893, 'flach': 5894, 'fit': 5895, 'kurier': 5896, 'hzulla': 5897, 'baggern': 5898, 'gnurpsnewoel': 5899, 'teamliebe': 5900, 'eidigst': 5901, 'hakijaavdic': 5902, 'gedenkstaette': 5903, 'verlange': 5904, 'shlomosapiens': 5905, 'umfrage': 5906, 'forsa': 5907, 'atheistische': 5908, 'fuerchten': 5909, 'intolerante': 5910, 'strengglaeubige': 5911, 'landsleute': 5912, 'anonyme': 5913, 'titulie': 5914, 'asylbetruegern': 5915, 'konnte': 5916, 'studiengebuehren': 5917, 'angehenden': 5918, 'geistes': 5919, 'sozialwissenschaftler': 5920, 'alleinige': 5921, 'oeffentliche': 5922, 'naturwissenschaften': 5923, 'oho': 5924, 'josef': 5925, 'paulpanter16': 5926, 'migrantenpack': 5927, 'zahlreichen': 5928, 'kanalisationen': 5929, 'ratten': 5930, 'verzehren': 5931, 'unbemerkt': 5932, 'eingefunden': 5933, 'aggressiv': 5934, 'bezieht': 5935, 'ausschusses': 5936, 'beschluss': 5937, 'aufzufordern': 5938, 'generalbundesanwaltschaft': 5939, 'anzuweisen': 5940, 'verfahren': 5941, 'auszuweiten': 5942, 'kriecher': 5943, 'sklavenstaat': 5944, 'arbeite': 5945, 'verschwende': 5946, 'buergergespraech': 5947, 'oper': 5948, 'meinungsforscher': 5949, 'guellner': 5950, 'wissler': 5951, 'sonen': 5952, 'neujahrsvorsaetze': 5953, 'kompass': 5954, 'ideales': 5955, 'abgeaende': 5956, 'annektion': 5957, 'zeitrafferin': 5958, 'goere': 5959, 'inarenner': 5960, 'gedenke': 5961, 'kapie': 5962, 'naech': 5963, 'kameras': 5964, 'draengt': 5965, 'schoeneren': 5966, 'frustrie': 5967, 'unternehemens': 5968, 'jurgenelsasser': 5969, 'rogerkoeppel': 5970, 'beschlussvorschlag': 5971, 'aggressoren': 5972, 'stilisieren': 5973, 'haftverschonung': 5974, 'gefaengnismauern': 5975, 'gefangenen': 5976, 'frohes': 5977, 'osterfest': 5978, 'donrikus72': 5979, 'selbstherrlichkeit': 5980, 'estherschapira': 5981, 'fsv': 5982, 'wintermohn': 5983, 'bjoernhoecke': 5984, 'handel': 5985, 'zustande': 5986, 'ceetzie': 5987, 'glueckliches': 5988, 'wichtigeres': 5989, 'gesockse': 5990, 'clan': 5991, 'tages': 5992, 'williptz': 5993, 'elnachvier': 5994, 'rias': 5995, 'monitoringstelle': 5996, 'meldenetzwerk': 5997, 'veroeffentlichen': 5998, 'vorfalls': 5999, 'vornehmste': 6000, 'studium': 6001, 'theologie': 6002, 'lerne': 6003, 'kirchenprofil': 6004, '340': 6005, 'pressemitteilung': 6006, 'mief': 6007, 'attraktivitaet': 6008, 'rdigerbrandt': 6009, 'folgere': 6010, 'daraus': 6011, 'feigheit': 6012, 'eipolitischen': 6013, 'standardmodus': 6014, 'regierbarkeit': 6015, 'schwaechen': 6016, 'evadahlmann': 6017, 'anonym': 6018, 'klicks': 6019, 'eingeben': 6020, 'kinderexpe': 6021, 'simontelemann': 6022, 'feile': 6023, 'dieterjosef': 6024, 'mlk': 6025, 'cgasch1': 6026, 'knueppel': 6027, 'ego': 6028, 'trotzig': 6029, 'hamed': 6030, 'abdel': 6031, 'meinen': 6032, 'sawsan': 6033, 'kinderhochzeiten': 6034, 'sterberate': 6035, 'verbessern': 6036, 'homosexuelle': 6037, 'paare': 6038, 'rechtliches': 6039, 'juristischen': 6040, 'instanz': 6041, 'einzufordern': 6042, 'costa': 6043, 'rica': 6044, 'umsetzen': 6045, 'anstelle': 6046, 'abzureisen': 6047, 'armselige': 6048, 'straeter': 6049, 'geteilt': 6050, 'vollstaendig': 6051, 'vernetztes': 6052, 'deaktivie': 6053, 'debattiere': 6054, 'mutet': 6055, 'armutsloehne': 6056, 'leiharbeit': 6057, 'diaeten': 6058, 'erhoeht': 6059, 'stimmte': 6060, 'beantragte': 6061, 'diaetensteigerung': 6062, 'waldruhe': 6063, 'infoleonhardt': 6064, 'elekrojude': 6065, 'angie': 6066, 'praesident': 6067, 'mr': 6068, 'sorgen': 6069, 'langer': 6070, 'sprachunterricht': 6071, 'rehna': 6072, 'sprachfoerderung': 6073, 'parchim': 6074, 'naturgemaesse': 6075, 'geschlechts': 6076, 'gestrichen': 6077, 'bloesse': 6078, 'unattraktiv': 6079, 'sicherheitsbehoerden': 6080, 'empfindlich': 6081, 'hintergruende': 6082, 'wesskraut': 6083, 'sellerie': 6084, 'moehren': 6085, 'beete': 6086, 'spargel': 6087, 'angebaut': 6088, 'flicklgruber': 6089, 'schwulenlobby': 6090, 'ferner': 6091, 'fleisch': 6092, 'unsrer': 6093, 'grosseltern': 6094, 'ehrenamtliche': 6095, 'lageso': 6096, 'syrers': 6097, 'nuss': 6098, 'vassiligolod': 6099, 'gefasel': 6100, 'dreckslinken': 6101, 'faschistenschweine': 6102, 'nachvollziehbare': 6103, 'zurechtgemogelt': 6104, 'irgendwelchen': 6105, 'postulie': 6106, 'wurdest': 6107, 'helenaserbent': 6108, 'schminke': 6109, 'high': 6110, 'heels': 6111, 'sternenrot': 6112, 'opfernummer': 6113, 'zitiere': 6114, 'fragwuerdigkeit': 6115, 'demagogie': 6116, 'beschissenen': 6117, 'trustno1': 6118, '1973': 6119, 'brutus': 6120, 'verus': 6121, 'sanften': 6122, 'ruege': 6123, 'entscheider': 6124, 'vorgefueh': 6125, 'ermahnung': 6126, 'geradezu': 6127, 'todessehnsucht': 6128, 'anstrebt': 6129, 'unkommentie': 6130, 'vorsetzen': 6131, 'erklaerbaer': 6132, 'abwae': 6133, 'linkgruener': 6134, 'journalistenblock': 6135, 'wunschdenken': 6136, 'moselexpi': 6137, 'verkennen': 6138, 'ausfuehrungen': 6139, 'kindeswohlentscheidungen': 6140, 'rechtswirksame': 6141, 'einwilligung': 6142, 'zutraut': 6143, 'sozialadaequanz': 6144, '00uhr': 6145, 'ver': 6146, 'queeres': 6147, 'lsbttiq': 6148, 'terrorstaat': 6149, 'ansetzen': 6150, 'zusammenschliessen': 6151, 'hallomolli': 6152, 'kollektivschuld': 6153, 'mehrheitsvotum': 6154, 'leugnen': 6155, 'stiessen': 6156, 'kuwaitische': 6157, 'arbeitsschutzgesetze': 6158, 'angestellten': 6159, 'glatt': 6160, 'zustimmst': 6161, 'abknallen': 6162, 'tierheime': 6163, 'finanzieren': 6164, 'humane': 6165, 'strecke': 6166, 'schaedel': 6167, 'ex': 6168, 'beachtet': 6169, 'zwangslaeufig': 6170, 'afdschmidt': 6171, 'berufliche': 6172, 'rennen': 6173, 'doppelspitze': 6174, 'afdbpt': 6175, 'rechtspopulistische': 6176, 'reconquista': 6177, 'liberalisierung': 6178, 'offenheit': 6179, 'vor1968': 6180, 'abkassieren': 6181, 'langweilen': 6182, 'guidoreil': 6183, 'reil': 6184, 'vel': 6185, 'freundeskreis': 6186, 'maritafickel': 6187, 'worrius': 6188, 'lenibreymaier': 6189, 'janfleischhauer': 6190, 'politverbloedungsshows': 6191, 'denselben': 6192, 'vorschieben': 6193, 'heilige': 6194, 'vorschreibt': 6195, 'eilaktionen': 6196, 'infostaende': 6197, 'loslegen': 6198, 'verschaerfen': 6199, 'zusaetzlich': 6200, 'ausgestorben': 6201, 'maennersteuer': 6202, 'religioeses': 6203, 'gezogen': 6204, 'hochschlafen': 6205, 'nachfrage': 6206, 'fahrplanwechsel': 6207, 'netzplaene': 6208, 'app': 6209, 'aktualisieren': 6210, 'drueckt': 6211, 'ausgibt': 6212, 'negative': 6213, 'attituede': 6214, 'gewissen': 6215, 'feministischen': 6216, 'tjark': 6217, 'limmer': 6218, 'stehtfest': 6219, 'fpoe': 6220, 'oevp': 6221, 'asylantrag': 6222, 'pulverfass': 6223, 'nahost': 6224, 'anlauf': 6225, 'friedensregelung': 6226, 'hochgefaehrliche': 6227, 'hinzu': 6228, 'zefilipe22': 6229, 'meinungska': 6230, 'zerlegt': 6231, 'plaene': 6232, 'ausgehandelt': 6233, '220': 6234, 'streng': 6235, 'nudepic': 6236, 'erfolgreichen': 6237, 'jugendprojekte': 6238, 'dauerhaft': 6239, 'verankern': 6240, 'leerer': 6241, '630': 6242, 'einfrieren': 6243, 'dishonoredsushi': 6244, 'weltherrschaft': 6245, 'schmieriger': 6246, 'extremen': 6247, 'antideutsches': 6248, 'blablabla': 6249, 'verehrst': 6250, 'bekehren': 6251, 'mittels': 6252, 'bohemien': 6253, 'grove': 6254, 'tube': 6255, 'biografie': 6256, 'gesinnungslaerm': 6257, 'geweige': 6258, 'softwareupdate': 6259, 'dieselsoftware': 6260, 'durchfuehren': 6261, 'josie4you': 6262, 'eismann': 6263, 'niedrigloehnen': 6264, 'armutsrenten': 6265, 'zynischer': 6266, 'schaebige': 6267, 'bankensystem': 6268, 'ausnehmen': 6269, 'shysmurf': 6270, 'trinkspender': 6271, 'ostkuestenhure': 6272, 'iliev': 6273, 'volksfeinde': 6274, 'komministen': 6275, 'demontie': 6276, 'pastorsandy': 6277, 'bedfordstrohm': 6278, 'knuuut': 6279, 'supergern': 6280, 'relaunch': 6281, 'mettmanfred': 6282, 'meinungsaeusserung': 6283, 'hahaha': 6284, 'verstappen': 6285, 'seifenkisten': 6286, 'wohnwagen': 6287, 'f1sky': 6288, 'inoetting': 6289, 'bedingungslose': 6290, 'bge': 6291, 'neoliberalismus': 6292, 'derzeitigen': 6293, 'klapproth': 6294, 'uncelsa': 6295, 'cleosls': 6296, '16a': 6297, 'dschiadisten': 6298, 'freunden': 6299, 'nacke': 6300, 'querkop': 6301, 'deisteredith': 6302, 'dummer': 6303, 'rotfaschisten': 6304, 'claudiaroth': 6305, 'bundestagsvizepraesident': 6306, 'nb': 6307, 'pik': 6308, 'quatschkopp': 6309, 'schickt': 6310, 'brennen': 6311, 'entzuenden': 6312, 'ramsesleben': 6313, 'geschieht': 6314, 'hochverraeter': 6315, 'erscheinung': 6316, 'zukunftsfaehigkeit': 6317, 'duckmaeuser': 6318, 'begnadeten': 6319, 'polemiker': 6320, 'berndulrich': 6321, 'bewerbung': 6322, 'sprecher': 6323, 'verdaechtiger': 6324, 'verwendest': 6325, 'naturgemaess': 6326, 'ludkethomas': 6327, 'igung': 6328, 'erstochene': 6329, 'touristinnen': 6330, 'volvo': 6331, 'productplacement': 6332, 'afdfraktion': 6333, 'mv': 6334, 'chrstl': 6335, 'deutschland77': 6336, 'kastrie': 6337, 'ewigen': 6338, 'scroll': 6339, 'handies': 6340, 'katjadoerner': 6341, 'schlager': 6342, 'impressivamicha': 6343, 'ardde': 6344, 'kanonenfutter': 6345, 'fuehlst': 6346, 'auserwaehlt': 6347, 'spuerst': 6348, 'wissenschaftlichen': 6349, 'methoden': 6350, 'nachweisbar': 6351, 'agnostiker': 6352, 'ausso': 6353, 'ie': 6354, 'gespue': 6355, 'kalten': 6356, 'jahreszeit': 6357, 'obdachlosen': 6358, 'juergenhardt': 6359, 'angerufen': 6360, 'hinschicken': 6361, 'pazifisten': 6362, 'einsatzfaehige': 6363, 'armee': 6364, 'fotoluxlux': 6365, 'koalitionspa': 6366, 'gr': 6367, 'klimaschutz': 6368, 'zuzug': 6369, 'selbstbewusst': 6370, 'tragoedie': 6371, 'neomagazin': 6372, 'bashing': 6373, 'flache': 6374, 'ueberraschen': 6375, 'saerdnaya': 6376, 'ermuedend': 6377, 'wohltuend': 6378, 'gemaessigte': 6379, 'schlechteres': 6380, 'waers': 6381, 'gelaufen': 6382, 'aufgeraeumter': 6383, 'ansprechender': 6384, 'bereiche': 6385, 'grade': 6386, 'auschwitz': 6387, 'indonesien': 6388, 'salafistisch': 6389, 'gesinnte': 6390, 'schwesternschaften': 6391, 'vorgehensweise': 6392, 'starker': 6393, 'aufschlag': 6394, 'aufschieben': 6395, 'hoffnung': 6396, 'groesseres': 6397, 'ignatius': 6398, 'loyola': 6399, 'elfiold': 6400, 'augustfinger': 6401, 'betrunken': 6402, '375': 6403, 'gefoerde': 6404, 'tweeten': 6405, 'maennliche': 6406, 'klagen': 6407, 'spiegeln': 6408, 'rechtlicher': 6409, 'scheidungs': 6410, 'familienrecht': 6411, 'sexualstrafrecht': 6412, 'vt27kolt11': 6413, 'streubel': 6414, 'aquohe': 6415, 'boh': 6416, 'sauer': 6417, 'verhandelt': 6418, 'lernt': 6419, 'schwimmen': 6420, 'erschaffen': 6421, 'direktwahl': 6422, 'nichtmal': 6423, 'grid': 6424, 'girls': 6425, 'abderrahimde1': 6426, 'geheimdienste': 6427, 'sichtbar': 6428, 'gefaehrlicher': 6429, 'salafist': 6430, 'vergiftet': 6431, 'israelischer': 6432, 'tourist': 6433, 'klienten': 6434, 'verstrickt': 6435, 'seltsames': 6436, 'rechtsverstaendnis': 6437, 'gleichschaltung': 6438, 'ler': 6439, 'besitzen': 6440, 'theodor': 6441, 'fontane': 6442, 'wanderungen': 6443, 'rassistin': 6444, 'sexistin': 6445, 'eindruck': 6446, 'entstuende': 6447, 'drehe': 6448, 'mister': 6449, 'abaerbock': 6450, 'staerkster': 6451, 'emanzipatorischer': 6452, 'ehrung': 6453, 'staatskanzlei': 6454, 'bahr': 6455, 'staatssicherheit': 6456, 'postdoc': 6457, 'hauptressource': 6458, 'erschienen': 6459, 'dokumente': 6460, 'stasiunterlagenarchiv': 6461, 'rechtskonservativ': 6462, 'dekadenz': 6463, 'waechst': 6464, 'quittung': 6465, 'wuerselen': 6466, 'vergeigt': 6467, 'politicalbeauty': 6468, 'subversiv': 6469, 'foerdergeldern': 6470, 'mediale': 6471, 'schaetzt': 6472, 'bureg': 6473, 'iq': 6474, 'stimulator': 6475, 'honecker': 6476, 'saarlaender': 6477, 'pewresearch': 6478, 'go': 6479, 'area': 6480, 'jock': 6481, 'schrader': 6482, 'eizugehoerigkeit': 6483, 'desto': 6484, 'bewah': 6485, 'meinten': 6486, 'faksilar': 6487, 'gleichwe': 6488, 'ungewoehnlicher': 6489, 'persoenlichem': 6490, 'ausweisung': 6491, 'politischeverfolgung': 6492, 'plaedieren': 6493, 'saekularismus': 6494, 'offenegesellschaft': 6495, 'weltlich': 6496, 'begruendeten': 6497, 'zeitgemaessen': 6498, 'sabine': 6499, 'drogen': 6500, 'nervoese': 6501, 'selbsternannten': 6502, 'antirassisten': 6503, 'mohammedanische': 6504, 'sozialisierung': 6505, 'worunter': 6506, 'frauenverachtung': 6507, 'zyniker': 6508, 'talkshows': 6509, 'einbuergern': 6510, 'christl': 6511, 'bedraengung': 6512, 'glaubens': 6513, 'klamotten': 6514, 'uebergewichtigen': 6515, 'nutte': 6516, 'nordsyrien': 6517, 'klausfenn': 6518, 'umsonst': 6519, 'miete': 6520, 'krassen': 6521, 'wichtigen': 6522, 'aktuell': 6523, 'gerichtlich': 6524, 'klaerende': 6525, 'praezedenzfaelle': 6526, 'subventioniere': 6527, 'anhieb': 6528, 'nahe': 6529, 'himmler': 6530, 'tiefster': 6531, 'inbrunst': 6532, 'holtmann': 6533, 'konstruie': 6534, 'protestantischer': 6535, 'anfrage': 6536, 'visastellen': 6537, 'generalkonsulate': 6538, 'terminwuensche': 6539, 'politikverdrossene': 6540, 'abschminken': 6541, 'schlummern': 6542, 'hybris': 6543, 'postengeschacher': 6544, 'schmarotze': 6545, 'gejagt': 6546, 'brockman': 6547, 'unterkuenfte': 6548, 'angegriffen': 6549, 'differenzierung': 6550, 'hierbleiben': 6551, 'vogelfuetterung': 6552, 'anhalt': 6553, 'andr': 6554, 'vgl': 6555, 'schnitt': 6556, 'ehrgeiz': 6557, 'arbeitseifer': 6558, 'versetzt': 6559, 'berge': 6560, 'bikedb06': 6561, 'lauro': 6562, 'doc': 6563, 'langsamm': 6564, 'schmodder': 6565, 'luca': 6566, 'smarke': 6567, 'altenbeken': 6568, 'uebung': 6569, 'reinerkeller': 6570, 'fy': 6571, 'schaebigen': 6572, 'aehnliches': 6573, 'hate': 6574, 'melamann': 6575, 'schlaegern': 6576, 'evolutionaeres': 6577, 'realromanwagner': 6578, 'pfeile': 6579, 'kommunen': 6580, 'bereitet': 6581, 'melkkuh': 6582, 'abgabenerhoehungen': 6583, 'sperrig': 6584, 'pussikratie': 6585, 'vorschlagen': 6586, 'rentenkuerzungen': 6587, 'werkoffiziell': 6588, 'eingestellt': 6589, 'feierst': 6590, 'dirnd': 6591, 'grafwer': 6592, 'eubel': 6593, 'kaddinsky': 6594, 'cv': 6595, 'wissel': 6596, 'habeck': 6597, 'defokusie': 6598, 'sonstwas': 6599, 'bodoramelow': 6600, 'hinweise': 6601, 'gestellte': 6602, 'verstossen': 6603, 'norden': 6604, 'hinein': 6605, 'kiel': 6606, 'hhhilft': 6607, 'meiendorfhilft': 6608, 'hrohilft': 6609, 'zufall': 6610, 'infantilisierung': 6611, 'schattengebannt': 6612, 'voegele': 6613, 'flaggen': 6614, '123kocour': 6615, 'hur': 6616, 'schoppenhauer': 6617, 'oberhalb': 6618, 'nivcht': 6619, 'gewoehnlich': 6620, 'statusniederen': 6621, 'wuerdigt': 6622, 'menschendesjahres2016': 6623, 'vielfaches': 6624, 'krakrakrakrakra': 6625, 'vermissen': 6626, 'machthungring': 6627, 'leichen': 6628, 'mundwinkel': 6629, 'zuckten': 6630, 'medizinisch': 6631, 'kauder': 6632, 'antisemitismusbeauftragten': 6633, 'ausdruecklich': 6634, 'bekennt': 6635, 'dastehen': 6636, 'tiefen': 6637, 'spalltungen': 6638, 'begruende': 6639, 'fleissig': 6640, 'dazugedichtet': 6641, 'objektivie': 6642, 'umerziehungslager': 6643, 'profitgierig': 6644, 'psychopathisch': 6645, 'betonpoller': 6646, 'feste': 6647, 'schutzzone': 6648, 'wohin': 6649, 'driftet': 6650, 'vermoegen': 6651, 'drohung': 6652, 'zuwiderhandlung': 6653, 'belohnung': 6654, 'weltfremden': 6655, 'statische': 6656, 'haeufigkeit': 6657, 'unentwegt': 6658, 'fastenaktion': 6659, '7wochenohne': 6660, 'regionalbischoefin': 6661, 'susanne': 6662, 'kessler': 6663, 'marionettaslomka': 6664, 'linksgruenen': 6665, 'gesteue': 6666, 'verlinken': 6667, 'laterpay': 6668, 'herrjeh': 6669, 'anbeissen': 6670, 'geiler': 6671, 'respektvoll': 6672, 'eickhoffstephan': 6673, 'tynca1': 6674, 'zusammentun': 6675, 'migrations': 6676, 'entspannung': 6677, 'militaeruebung': 6678, 'eiserner': 6679, 'wolf': 6680, 'inlitauen': 6681, 'ungslos': 6682, 'aeppel': 6683, 'wuellt': 6684, 'ruck': 6685, 'zuck': 6686, 'oevern': 6687, 'zaun': 6688, 'dat': 6689, 'mutt': 6690, 'ut': 6691, 'hamborg': 6692, 'sien': 6693, 'xlastdefence': 6694, 'mightybuyer': 6695, 'bundestags': 6696, 'etliche': 6697, 'aufgezaehlt': 6698, 'sinngemaess': 6699, 'gegenargument': 6700, 'fraglich': 6701, 'hingehen': 6702, 'humanflowmovie': 6703, 'bewegende': 6704, 'ai': 6705, 'weiwei': 6706, 'ausgewaehlten': 6707, 'filmtipp': 6708, 'petitionen': 6709, 'unterschreibe': 6710, 'tierquaelerei': 6711, 'aufzumucken': 6712, 'beendet': 6713, 'afrikas': 6714, 'misere': 6715, 'hausgemacht': 6716, 'unabhaengigkeit': 6717, 'vmtl': 6718, 'elitaeren': 6719, 'ausgeloescht': 6720, 'versklaven': 6721, 'heuchlerei': 6722, 'verhunge': 6723, 'bericht': 6724, 'jury': 6725, 'intendanten': 6726, 'abschlachten': 6727, 'vogelwa': 6728, '79': 6729, 'lahnduscher': 6730, 'bedauere': 6731, 'reichs': 6732, 'bedaure': 6733, 'unschoen': 6734, 'anzetteln': 6735, 'zunahme': 6736, 'verbloedeter': 6737, 'skrupellose': 6738, 'erbaermliche': 6739, 'krebskranken': 6740, 'doctorpuppe': 6741, 'croqisunshine': 6742, 'uwewelzel': 6743, 'dummdeutschland': 6744, 'vergewaltigenden': 6745, 'gekrochen': 6746, 'ulrichkhn2': 6747, 'jedeliebe': 6748, 'gottseidank': 6749, 'weltfrieden': 6750, 'astroloop': 6751, 'bayerischer': 6752, 'kommunalpolitik': 6753, 'raut': 6754, 'markantdjpool': 6755, 'verlgeicht': 6756, 'paralle': 6757, 'goerings': 6758, 'tschechische': 6759, 'tech12358': 6760, 'vorstelle': 6761, 'strangelove666': 6762, 'fffrauki': 6763, 'kuenstl': 6764, 'merker': 6765, 'deutlichen': 6766, 'schlussstrich': 6767, 'blossen': 6768, 'hirngespinste': 6769, 'tatenlos': 6770, 'zusehen': 6771, 'verlosung': 6772, 'juni': 6773, 'unoflucht': 6774, 'exklusive': 6775, 'preise': 6776, 'nruegenberg': 6777, 'moderner': 6778, 'werwolf': 6779, 'todes': 6780, 'minuetige': 6781, 'werbesendung': 6782, 'liksgruene': 6783, 'schaubild': 6784, 'erstellt': 6785, 'pks': 6786, 'krimminelle': 6787, 'noete': 6788, 'beschissenes': 6789, 'kannste': 6790, 'sprueche': 6791, 'akzeptabel': 6792, 'traunen': 6793, 'normalbuerger': 6794, 'interessanten': 6795, 'uebersicht': 6796, 'legende': 6797, 'meinungsdominanz': 6798, 'retweetet': 6799, 'absender': 6800, 'zugehoe': 6801, 'second': 6802, 'bekloppten': 6803, 'nepomuk': 6804, 'loeblich': 6805, 'redlich': 6806, 'schleimpilzen': 6807, 'umzugehen': 6808, 'dirkhafermann': 6809, 'vosskuhle': 6810, 'volksverdummung': 6811, 'heterosexuelle': 6812, 'anen': 6813, 'tausend': 6814, 'illegalen': 6815, 'untergetauchten': 6816, 'katzenstreu': 6817, 'nachher': 6818, 'komische': 6819, 'katze': 6820, 'zielt': 6821, 'karnassos': 6822, 'abspaltung': 6823, 'scheitern': 6824, 'buzzaldrinsblog': 6825, 'gewalttaetigsten': 6826, 'patriarchats': 6827, 'schulter': 6828, 'klopf': 6829, 'generalstreick': 6830, 'gesammte': 6831, 'erliegen': 6832, 'restaurant': 6833, 'sass': 6834, 'erschuetternden': 6835, 'ausgeht': 6836, 'zuege': 6837, 'gebietet': 6838, 'vorangekuendigt': 6839, 'verbuendeten': 6840, 'aufruf': 6841, 'th': 6842, 'lisieux': 6843, 'pds': 6844, 'beschreibt': 6845, 'treffend': 6846, 'nimmer': 6847, 'psst': 6848, 'teilst': 6849, 'rawls': 6850, 'melange': 6851, 'halbwahrheiten': 6852, 'thora': 6853, 'rhodan': 6854, 'anstalt': 6855, 'anklagen': 6856, 'pimpf': 6857, 'dienstgrad': 6858, 'jaehrige': 6859, 'jungvolks': 6860, 'bestandener': 6861, 'pimpfenprobe': 6862, 'durften': 6863, 'schulterriemen': 6864, 'hj': 6865, 'fah': 6866, 'enmesser': 6867, 'obskurolaph': 6868, 'sondie': 6869, 'idiotie': 6870, 'abgebrochen': 6871, 'erinnerung': 6872, '76': 6873, 'polizeiverordnung': 6874, 'kennzeichnung': 6875, 'erlassen': 6876, 'straightallies': 6877, 'aimanmazyek': 6878, 'pestfloh': 6879, 'geschuetzten': 6880, 'tiera': 6881, 'barbarischen': 6882, 'wuestenkrieger': 6883, 'verehren': 6884, '9jaehriges': 6885, 'gevoegelt': 6886, 'propagierung': 6887, 'schwanzgesteu': 6888, 'lyllithb': 6889, 'svenstrasen': 6890, 'uncleheri': 6891, 'mvphone': 6892, 'drecksministerium': 6893, 'jensmaierafd': 6894, 'herumopfern': 6895, 'frodilon': 6896, 'schnoedes': 6897, 'rechtschreibproblem': 6898, 'ueberlebensmesser': 6899, 'aufbewahren': 6900, 'ankotzt': 6901, 'echo': 6902, 'mittelschicht': 6903, 'heinemo': 6904, 'kimderga': 6905, 'getragen': 6906, 'rls': 6907, 'forscher': 6908, 'kommission': 6909, 'forscherin': 6910, 'xbimmix': 6911, 'solls': 6912, 'freiwilligen': 6913, 'asylantenhelfer': 6914, 'geschwisterlichem': 6915, 'geistvollen': 6916, 'dankbar': 6917, 'maennerfreundschaften': 6918, 'urgrosseltern': 6919, 'zurueckgelassen': 6920, 'falsifizie': 6921, 'ergebnisoffen': 6922, 'vorweisen': 6923, 'gelamab': 6924, 'eingegangen': 6925, 'inhaltliche': 6926, 'knebel68': 6927, 'rechtsbeugung': 6928, 'laest': 6929, 'genehme': 6930, 'meinungen': 6931, 'daemonisch': 6932, 'sahen': 6933, 'waehlten': 6934, 'endspu': 6935, 'darkcerax': 6936, 'loewenmoerder': 6937, 'hobbyjaeger': 6938, '2006': 6939, 'verdoppelt': 6940, 'ethik': 6941, 'befremdlich': 6942, 'womit': 6943, 'ausgebildet': 6944, 'vorzugsweise': 6945, 'ansprache': 6946, 'selbst': 6947, 'omas': 6948, 'hetzmedien': 6949, 'wuenschte': 6950, 'einem': 6951, 'geschenk': 6952, 'neugewonnenes': 6953, 'alexbercht': 6954, 'brihasselmann': 6955, 'potenzielle': 6956, 'einigkeitszwang': 6957, 'verabredet': 6958, 'bedaerungswuerdigen': 6959, 'abschlusspressekonferenz': 6960, 'praesenz': 6961, 'ratholomaeus': 6962, 'fraumaja': 6963, 'kabel': 6964, 's97145759': 6965, 'vollsuff': 6966, 'bundestagsabgeordneter': 6967, '542': 6968, 'monat': 6969, 'gehalt': 6970, 'ausstellen': 6971, 'erlaubnis': 6972, 'steiblbarbara': 6973, 'revoluzzer0815': 6974, 'generalstreik': 6975, 'schlafmuetzen': 6976, 'mrwinpromz1': 6977, 'retweeten': 6978, 'leser': 6979, 'angefangen': 6980, 'piquecritique': 6981, '5y5t3m': 6982, '3rr0r': 6983, 'kreisler': 6984, 'ressentiments': 6985, 'antiamerikanischen': 6986, 'arbeitskreises': 6987, 'langeweile': 6988, 'ueberbieten': 6989, 'allgemeine': 6990, 'betaetigungsverbot': 6991, 'autogramm': 6992, 'eckardt': 6993, 'zig': 6994, 'uralte': 6995, 'kamellen': 6996, 'hadi': 6997, 'riedel': 6998, 'epmobil': 6999, 'isl': 7000, 'davidbraundavid': 7001, 'fritzkuhn1': 7002, 'niqab': 7003, 'erfundenen': 7004, 'flugzeug': 7005, 'steigen': 7006, 'aehnlicher': 7007, 'fschmidt77': 7008, 'feix': 7009, 'abbestellen': 7010, 'mail': 7011, 'relevanten': 7012, 'adresse': 7013, 'abbestellwunsch': 7014, 'spendenservice': 7015, 'zehn': 7016, 'lebewesen': 7017, 'thevolawatcher': 7018, 'hrreisen': 7019, 'eurostat': 7020, 'defizit': 7021, 'machtgeil': 7022, 'unterschreiben': 7023, 'jpw': 7024, '77': 7025, 'weihnachtsmaerkte': 7026, 'fussgaengerzonen': 7027, 'lkws': 7028, 'sprengstoff': 7029, 'nasanasal': 7030, 'afgahnischer': 7031, 'einreiten': 7032, '1live': 7033, 'krone': 7034, 'schwachkoepfen': 7035, 'bildungsfernen': 7036, 'schichten': 7037, 'halbmast': 7038, 'haschisch': 7039, 'herueber': 7040, 'therealmaaaates': 7041, 'spuren': 7042, 'spam': 7043, 'geloeschten': 7044, 'kommentaren': 7045, 'muster': 7046, 'meckerkopp': 7047, 'prust': 7048, 'profitie': 7049, 'strukturellen': 7050, 'vorgaengerregierung': 7051, 'verhandlungsergebnisse': 7052, 'hannelore': 7053, 'laenderfinanzausgleich': 7054, 'unfair': 7055, 'regierungswechseln': 7056, 'whes18': 7057, 'gebrochenes': 7058, 'fotos': 7059, 'ebner': 7060, 'sha': 7061, 'lenna': 7062, 'pfahler': 7063, 'braune': 7064, 'zuzeiten': 7065, 'widrstand': 7066, 'heten': 7067, 'verputz': 7068, 'jajaja': 7069, 'spontan': 7070, 'susfner': 7071, 'fuener': 7072, 'stream': 7073, 'grusswo': 7074, 'social': 7075, 'media': 7076, 'vorindustriellen': 7077, 'halbwegs': 7078, 'inre': 7079, 'merkeltruppe': 7080, 'paulstrobel': 7081, 'lambsdorff': 7082, 'shoah': 7083, 'ausloesende': 7084, 'momentum': 7085, 'staatsgruendung': 7086, 'gekaempft': 7087, 'oeffentlichkiet': 7088, 'panzern': 7089, 'willichnich': 7090, 'konglomerat': 7091, 'staatlicher': 7092, 'maennerrunde': 7093, 'verlangen': 7094, 'gewaehren': 7095, 'beschweren': 7096, 'jana': 7097, 'haushaltsbereinigungssitzung': 7098, 'fotze': 7099, 'niederlande': 7100, 'wilders': 7101, 'abschneidet': 7102, 'unterdrueckte': 7103, 'tagung': 7104, 'bilanzierung': 7105, 'vergangeheit': 7106, 'schliessen': 7107, 'einander': 7108, 'terroristischem': 7109, 'stalkt': 7110, 'anonymisierung': 7111, 'vorgenommen': 7112, '76bvb': 7113, 'detaillie': 7114, 'grob': 7115, 'hilfswerke': 7116, 'orden': 7117, 'adventssingen': 7118, 'krippen': 7119, 'abschluss': 7120, 'show': 7121, 'taub': 7122, 'willnurschreibn': 7123, 'besserung': 7124, 'deftigen': 7125, 'laetacara': 7126, 'abnehmen': 7127, 'paxter': 7128, 'redwyne': 7129, 'wanderfichte': 7130, 'allemn': 7131, 'differenz': 7132, 'vollzeit': 7133, 'qualifikation': 7134, 'lohnluecke': 7135, 'erklaerungsbeduerftig': 7136, 'selahattin': 7137, 'figen': 7138, 'yueksekdag': 7139, 'tuerk': 7140, 'haft': 7141, 'bubernd': 7142, 'uff': 7143, 'ausgiebig': 7144, 'schmeckt': 7145, 'schmerzhaft': 7146, 'weltwoche': 7147, 'mundschutz': 7148, 'geblieben': 7149, 'weisheit': 7150, 'menschlicher': 7151, 'taiga1947': 7152, 'rambonelli': 7153, 'traege': 7154, 'livestream': 7155, 'laach': 7156, '1960': 7157, 'bfluche': 7158, 'eysvog3l': 7159, 'schalt': 7160, 'eletrojuden': 7161, 'aua': 7162, 'duell': 7163, '95': 7164, 'min': 7165, 'grosskoalitionaerer': 7166, 'einigkeit': 7167, 'umarmt': 7168, 'hauptgegner': 7169, 'ohrfeige': 7170, 'italiener': 7171, 'renzi': 7172, 'eurokrise': 7173, 'wessi': 7174, 'countdown': 7175, 'entscheidet': 7176, 'dokumentieren': 7177, 'eingreift': 7178, 'gradmesser': 7179, 'zuversicht': 7180, 'gaensehautmoment': 7181, 'henriettereker': 7182, 'beinahe': 7183, 'gesetzt': 7184, 'thh': 7185, 'vermittlung': 7186, 'suessen': 7187, 'brunnenvergifterkomplex': 7188, 'hauch': 7189, 'nagelbombe': 7190, 'islamist': 7191, 'angriffskrieg': 7192, 'wehrloses': 7193, 'planet': 7194, 'weichenstellung': 7195, 'langfristigen': 7196, 'aktenzugang': 7197, 'neuorganisation': 7198, 'nrwjusos': 7199, 'agenten': 7200, 'kelber': 7201, 'story': 7202, 'zitelmann': 7203, 'schneller': 7204, 'verharmlost': 7205, 'angeschaut': 7206, 'weggeschaut': 7207, 'schutzvorkehrungen': 7208, 'niedrigere': 7209, 'diskriminie': 7210, 'fuehrungsposition': 7211, 'tinaluchskind': 7212, 'verkehrsminister': 7213, 'halbe': 7214, 'sinnlos': 7215, 'versoffen': 7216, 'braeuchte': 7217, 'information': 7218, 'steuergelder': 7219, 'echte': 7220, 'einheimischen': 7221, 'zugewande': 7222, 'fuehrungspositionen': 7223, 'hieven': 7224, 'bevorzuge': 7225, 'tagesplan': 7226, 'besprechen': 7227, 'pssst': 7228, 'vzbv': 7229, 'netzausbau': 7230, 'krischer': 7231, 'telefonve': 7232, 'raege': 7233, 'schriftliche': 7234, 'bestaetigung': 7235, 'verbraucher': 7236, 'ueberfluessig': 7237, 'gesundheitliche': 7238, 'oekonomische': 7239, 'notwendigkeit': 7240, 'reiner': 7241, 'luxustrend': 7242, 'ditisberlin': 7243, 'versieht': 7244, 'mehrheitsfaehig': 7245, 'likes': 7246, 'im': 7247, 'schadet': 7248, 'teilerfolg': 7249, 'standards': 7250, 'beerdigen': 7251, 'webman': 7252, 'sofware': 7253, 'schreibfehler': 7254, 'clemens': 7255, 'zeitungsinterview': 7256, 'gedenkaccount': 7257, 'jahrestage': 7258, 'ereignisse': 7259, 'opfernazigewalt': 7260, 'region': 7261, 'nahostkonflikts': 7262, 'klingst': 7263, 'verarmte': 7264, 'proletariat': 7265, 'wande': 7266, 'nurzoabe': 7267, 'antisemitismusbeauftragte': 7268, 'ausgestattet': 7269, 'konfliktfaehig': 7270, 'verkommender': 7271, 'hauptproblem': 7272, 'weltgemeinschaft': 7273, 'verweisen': 7274, 'maxschiefi': 7275, 'zulange': 7276, '45': 7277, 'vakuum': 7278, 'leichtesten': 7279, 'einnisten': 7280, 'steckst': 7281, 'mittendrin': 7282, 'konventexerzitien': 7283, 'impulsen': 7284, 'umweltenzyklika': 7285, 'laudato': 7286, 'si': 7287, 'gesegneten': 7288, 'ursuende': 7289, 'ueberschrieben': 7290, 'tepes1291': 7291, 'wille': 7292, 'terraxpress': 7293, 'muede': 7294, 'ausgegangen': 7295, 'rkk': 7296, 'zusammengestellt': 7297, 'freundlich': 7298, 'auszudruecken': 7299, 'sicherlich': 7300, 'lenkt': 7301, 'ukraine': 7302, 'muentefering': 7303, 'bereist': 7304, 'befuerchtet': 7305, 'westlich': 7306, 'sozialisie': 7307, 'warmen': 7308, 'dementsprechend': 7309, 'geraten': 7310, 'anzeigetafel': 7311, 'opferfest': 7312, 'steiermark': 7313, 'schafherde': 7314, 'muslems': 7315, 'schafe': 7316, 'vielschichtiger': 7317, 'wechselseitiger': 7318, 'prozess': 7319, 'zuwanderer': 7320, 'aufnahmegesellschaft': 7321, 'fassade': 7322, 'blickt': 7323, 'sezie': 7324, 'frauengeneration': 7325, 'grandios': 7326, 'initiativen': 7327, 'gewoehnliche': 7328, 'ungewoehnlich': 7329, 'neri': 7330, 'libanesischer': 7331, 'ueberlasst': 7332, 'chaos': 7333, 'weltbilder': 7334, 'broeckeln': 7335, 'kuedder': 7336, 'asylsuchenden': 7337, 'elsalvador': 7338, 'guatemala': 7339, 'honduras': 7340, '10x': 7341, 'verbunden': 7342, 'national': 7343, 'eingestellte': 7344, 'maedel': 7345, 'schaendliches': 7346, 'betrugsspiel': 7347, 'antrags': 7348, 'tomcologne77': 7349, 'besagt': 7350, 'freibeuterin': 7351, 'durchs': 7352, 'bahnhofsvie': 7353, 'burg': 7354, 'schreckenstein': 7355, 'cuckoo1510': 7356, 'emotional': 7357, 'begehren': 7358, 'klaer': 7359, 'stammbaum': 7360, 'bunker': 7361, 'segnungen': 7362, 'eurooeffnung': 7363, 'unberechenbarkeit': 7364, 'hinzufuegen': 7365, 'praesidentiellen': 7366, 'legislative': 7367, 'exekutive': 7368, 'aufgesetzte': 7369, 'lachen': 7370, 'ruecktritt': 7371, 'zustimmt': 7372, 'hinlaenglich': 7373, 'hanssarpei': 7374, 'ihen': 7375, 'hautnah': 7376, 'miterlebt': 7377, 'kei': 7378, 'pferdekopf': 7379, 'mafia': 7380, 'elkwue': 7381, 'gestrige': 7382, 'traugottesdienste': 7383, 'mehrheitlich': 7384, 'einfuehrung': 7385, 'amtshandlung': 7386, 'kirchengemeinderates': 7387, 'enttaeuschend': 7388, 'tststs': 7389, 'notie': 7390, 'braunes': 7391, 'anal': 7392, 'prinz': 7393, 'bruedern': 7394, 'isis': 7395, 'lutsch': 7396, 'donnerbeutel': 7397, 'piratenpa': 7398, 'wahlpruefsteine': 7399, 'zuschauer': 7400, 'zuschauen': 7401, 'ghoheneck': 7402, '0x663030623472': 7403, 'edeweiss': 7404, 'ddrmuseum': 7405, 'vernichtungsaktion': 7406, 'belastbares': 7407, 'vorliegt': 7408, 'dritteoption': 7409, 'geschlechtliche': 7410, 'anomalien': 7411, 'jeher': 7412, 'revolution': 7413, 'halbjahr': 7414, 'annikaspahn': 7415, 'orientierungen': 7416, 'gewoehn': 7417, 'raubtierkapitalismus': 7418, 'komisches': 7419, 'privates': 7420, 'alkoholfreies': 7421, 'eiabzeichen': 7422, 'cor': 7423, 'scipio': 7424, 'ardmoma': 7425, 'dummgruenen': 7426, 'daemliches': 7427, 'sauhaufen': 7428, 'moslempa': 7429, 'fonds': 7430, 'hilfen': 7431, 'ludwigslust': 7432, 'oehzenmiriam': 7433, 'nicksynicky': 7434, 'syrische': 7435, 'schlaraffenland': 7436, 'equilibrium1986': 7437, 'intellektuelle': 7438, 'verlust': 7439, 'woe': 7440, 'erbuch': 7441, 'anpassung': 7442, 'uebe': 7443, 'tierwelt': 7444, 'daimagm': 7445, 'geniess': 7446, 'plaedoyer': 7447, 'sevimdagdelen': 7448, 'tagesthema': 7449, 'mausgerutscht': 7450, 'becker': 7451, 'karrierre': 7452, 'verlogenen': 7453, 'findest': 7454, 'agh2016': 7455, 'agh16': 7456, 'ihretwegen': 7457, 'unregierbar': 7458, 'konzeptionell': 7459, 'humbug': 7460, 'huebsch': 7461, 'schlimme': 7462, 'vollidioten': 7463, 'euros': 7464, 'kaputtmachen': 7465, 'hattest': 7466, 'sascha1352': 7467, 'abstimmungen': 7468, 'auslandsmandaten': 7469, 'lafo': 7470, 'waagenknecht': 7471, 'beliebt': 7472, 'beschliesst': 7473, 'kundgebung': 7474, 'lk': 7475, 'evangelische': 7476, 'fluechtlingsbot': 7477, 'habeauch': 7478, 'flatrate': 7479, 'monall': 7480, 'sozilal': 7481, 'gegenteiligem': 7482, 'votum': 7483, 'hendricks': 7484, 'zulassung': 7485, 'angepisst': 7486, 'belaesst': 7487, 'speziell': 7488, 'geistiger': 7489, 'denkende': 7490, 'jesu': 7491, 'youth': 7492, 'ups': 7493, 'schief': 7494, 'ziffer': 7495, 'todesjahres': 7496, 'frixinator': 7497, 'kulturradio': 7498, 'tazgezwitscher': 7499, 'eniejahr': 7500, 'repraesentieren': 7501, 'initiator': 7502, 'signal': 7503, 'indien': 7504, 'doeddel': 7505, 'gewinnst': 7506, 'werder': 7507, 'krawatte': 7508, 'anzug': 7509, 'hohen': 7510, 'jings667': 7511, 'kindleautorali': 7512, 'unheimlich': 7513, 'nichtstun': 7514, 'soeren': 7515, 'iraner': 7516, 'kinni': 7517, 'maerchenschloss': 7518, 'herrschaftanspruch': 7519, 'istandwithisrael': 7520, 'herben': 7521, 'verlusten': 7522, 'luegenschleudern': 7523, 'finanziellen': 7524, 'motiven': 7525, 'karrieren': 7526, 'logenplatz': 7527, 'nizza': 7528, 'hatten': 7529, 'abzuschieben': 7530, 'jedwede': 7531, 'haltung': 7532, 'willkommene': 7533, 'infragestellung': 7534, 'dialogunfaehige': 7535, 'fanatiker': 7536, 'blocken': 7537, 'billige': 7538, 'grundgesetzliche': 7539, '30uhr': 7540, 'koerner': 7541, 'regenbogenfamilienzentrum': 7542, 'ausfuehrlich': 7543, 'evolutionsbiologie': 7544, 'konsulate': 7545, 'eune': 7546, 'schnellhuber': 7547, 'diplom': 7548, 'tuntenhausen': 7549, 'bdk17': 7550, 'sobald': 7551, 'vermuten': 7552, 'loest': 7553, 'einwand': 7554, 'dominikrzepka': 7555, 'eivorsitzende': 7556, 'magie': 7557, 'daemonischen': 7558, 'kraete': 7559, 'geschlechterbeziehungen': 7560, 'zentraler': 7561, 'ansatzpunkt': 7562, 'stagnie': 7563, 'kreativen': 7564, 'innovativen': 7565, 'trage': 7566, 'vollba': 7567, 'traeumt': 7568, 'helder': 7569, 'camara': 7570, 'tanz': 7571, 'massenschlaegerein': 7572, 'schossen': 7573, 'decke': 7574, 'wetterchen': 7575, 'noetigen': 7576, 'einzelnen': 7577, 'anfaengt': 7578, 'wuehler': 7579, 'schmierer': 7580, 'zersetzer': 7581, 'ostkuestenbraut': 7582, 'brisant': 7583, 'entschuldige': 7584, 'promis': 7585, 'gesellschaftlich': 7586, 'einflussreich': 7587, 'homosexuelles': 7588, 'moderator': 7589, 'moma': 7590, 'nilsbeyer': 7591, 'stolzem': 7592, 'ergreifen': 7593, 'positive': 7594, 'vorschlaege': 7595, 'sarkumpmak': 7596, 'wanderausstellung': 7597, 'museum': 7598, 'kommunikation': 7599, 'stories': 7600, 'befriedigung': 7601, 'vorgaukeln': 7602, 'werbepkakaten': 7603, 'triumphieren': 7604, 'wehrwoelfe': 7605, 'asiatischen': 7606, 'horden': 7607, 'bratwurst': 7608, 'oingoing': 7609, 'grobe': 7610, 'rinderbratwurst': 7611, 'schlachter': 7612, 'lecker': 7613, 'schmorsauerkraut': 7614, 'knoedel': 7615, 'fidelisamica': 7616, 'pronos': 7617, 'redeanteil': 7618, 'zzfpotsdam': 7619, 'onlinekommunikation': 7620, 'institutionen': 7621, 'dpok': 7622, 'befreiung': 7623, 'joch': 7624, 'zionisten': 7625, 'quotenfrauen': 7626, 'grill': 7627, 'kandidie': 7628, 'vorsitzender': 7629, 'boar': 7630, 'sachen': 7631, 'praevention': 7632, 'antidiskriminierungsgesetz': 7633, 'michaelroder1': 7634, 'reinste': 7635, 'thomallasophia': 7636, 'moese': 7637, 'beisst': 7638, 'einladungen': 7639, 'gottesdiensten': 7640, 'messe': 7641, 'gesungene': 7642, 'vesper': 7643, 'christmette': 7644, 'google': 7645, 'sondierungverhandlungen': 7646, 'furchtbaren': 7647, 'anschlaegen': 7648, 'kontinuierliche': 7649, 'daemonisierung': 7650, 'herauspicken': 7651, 'dosb': 7652, 'teamd': 7653, 'lebensfreude': 7654, 'ausstrahlt': 7655, 'bewundernswe': 7656, 'versoffene': 7657, 'unistin': 7658, 'lupuslotarius': 7659, 'muschi': 7660, 'spazie': 7661, 'beschissener': 7662, 'laiendarstellern': 7663, 'gidion': 7664, 'rogg': 7665, 'ueberarbeiteten': 7666, 'kundgebungsentwurf': 7667, 'enttaeuschung': 7668, 'fehleinschaetzung': 7669, 'erwachsen': 7670, 'race': 7671, 'realists': 7672, 'entlarven': 7673, 'biologischen': 7674, 'zeugt': 7675, 'argumentativen': 7676, 'schwaeche': 7677, 'ursula': 7678, 'haverbeck': 7679, 'amtsgericht': 7680, 'voksverhetzung': 7681, 'iger': 7682, 'schmeiss': 7683, 'fernseher': 7684, 'woratschka': 7685, 'faktenfreie': 7686, 'enttaeuscht': 7687, 'abgehoe': 7688, 'speziellen': 7689, 'anpassungen': 7690, 'geographische': 7691, 'gegebenheiten': 7692, 'populationen': 7693, 'geraet': 7694, 'kanallie': 7695, 'verseucht': 7696, 'comicerkai': 7697, 'bildblog': 7698, 'moritz': 7699, 'tschermak': 7700, 'unabhaenige': 7701, 'spuerbar': 7702, 'blassen': 7703, 'dunklen': 7704, 'christi': 7705, 'herxheim': 7706, 'antisemitismunsbeauftragten': 7707, 'hitlerglocke': 7708, 'fruehlingswetter': 7709, 'laue': 7710, 'temperatur': 7711, 'sonne': 7712, 'junghanelenrico': 7713, 'npddirekt': 7714, 'gaaaanz': 7715, 'harald70199': 7716, 'trapo': 7717, 'helfende': 7718, 'geilsten': 7719, 'grundrechtlich': 7720, 'grundrecht': 7721, 'duemmste': 7722, 'sonderrecht': 7723, 'carlclausewitz1': 7724, 'qualifizie': 7725, 'verirren': 7726, 'zugute': 7727, 'enorm': 7728, 'verhaeltnisse': 7729, 'bktb': 7730, 'kotti': 7731, 'rosen': 7732, 'migrantehintergrund': 7733, 'ho': 7734, 'arimar': 7735, 'vergleich': 7736, 'geschichtsloser': 7737, 'antisemit': 7738, 'heimatstadt': 7739, 'zigarre': 7740, 'unbeschreiblich': 7741, 'polemisch': 7742, 'tiermoerder': 7743, 'geschaechtet': 7744, 'kohleausstieg': 7745, 'schnellstmoeglich': 7746, 'fahrlaessig': 7747, 'gestemmt': 7748, 'saefken': 7749, 'raender': 7750, 'staerkt': 7751, 'flughafen': 7752, 'verkuendet': 7753, 'sturmsicher': 7754, 'fliegen': 7755, 'orkan': 7756, 'haeuchlerin': 7757, 'prometheusinst': 7758, 'schmoddrige': 7759, 'haare': 7760, 'fuehrer': 7761, 'eventuell': 7762, 'belege': 7763, 'kindlich': 7764, 'naives': 7765, 'zeichnen': 7766, 'grossstaedten': 7767, 'zur': 7768, 'israeliten': 7769, 'gratuliere': 7770, 'stigmatisie': 7771, 'kriminalisie': 7772, 'sozialdemokratischer': 7773, 'annehmbarer': 7774, 'maybritt': 7775, 'statisten': 7776, 'publikum': 7777, 'flatterhose': 7778, 'standesaemter': 7779, 'schleho': 7780, 'ehepruefungsgebuehren': 7781, 'umwandlungsgebuehren': 7782, 'darasasmaz': 7783, 'aufgehts100': 7784, 'prueffrage': 7785, 'gaza': 7786, 'bundestagspraesident': 7787, 'inklusion': 7788, 'schiebt': 7789, 'programmpunkte': 7790, 'bord': 7791, 'schmeissen': 7792, 'normalitaet': 7793, 'qua': 7794, 'abzufeuern': 7795, 'vereinten': 7796, 'nationen': 7797, 'zuge': 7798, 'konflikts': 7799, 'wackere': 7800, 'aufrechte': 7801, 'enmoerd': 7802, 'bombern': 7803, 'zw': 7804, 'auslaend': 7805, 'katholiken': 7806, 'motor': 7807, 'zukunftsweisendes': 7808, 'leviten': 7809, 'dwarfplanet': 7810, 'rf': 7811, 'wda': 7812, 'groesster': 7813, 'preussisches': 7814, 'maechtigste': 7815, 'saeugetiere': 7816, 'biologische': 7817, 'krizzy4peace': 7818, 'alphawelle': 7819, 'rechtsnachfolge': 7820, 'mitzunehmen': 7821, 'strang': 7822, 'neuwahl': 7823, 'nachts': 7824, 'schnelles': 7825, 'ensterben': 7826, 'unausweichlich': 7827, 'schiss': 7828, 'stunk': 7829, 'besuche': 7830, 'drittweltlaender': 7831, 'fanatisch': 7832, 'abzulegen': 7833, 'sollst': 7834, 'hemabe': 7835, 'clickbait': 7836, 'judenunterwande': 7837, 'prange': 7838, 'fakenews': 7839, 'mediennutzung': 7840, 'fluechtet': 7841, 'verlinkten': 7842, 'zeitungsa': 7843, 'juedisches': 7844, 'meins': 7845, 'fliessen': 7846, 'geworben': 7847, 'respektarbeit': 7848, 'fruehschikanierung': 7849, 'gefaehrdet': 7850, 'kindeswohl': 7851, 'enst1': 7852, 'voelkerrechtliche': 7853, 'rechtsetzungern': 7854, 'beduerfen': 7855, 'wirksamkeit': 7856, 'skrieg': 7857, 'verstoss': 7858, 'cha': 7859, 'george': 7860, 'freimaurer': 7861, 'niete': 7862, 'hats': 7863, 'bildzeitung': 7864, 'verkommenste': 7865, 'kaeppi': 7866, 'fand': 7867, 'katzen': 7868, 'kathrinott': 7869, 'blatt': 7870, 'helles': 7871, 'galanterie': 7872, 'mantel': 7873, 'stuhl': 7874, 'ablegen': 7875, 'paulplotzer': 7876, 'schnee': 7877, 'regen': 7878, 'melkami7': 7879, 'weden': 7880, 'abnormalitaet': 7881, 'gutheissen': 7882, 'nue': 7883, 'gueltig': 7884, 'prosecco': 7885, 'lesbo': 7886, 'queer': 7887, 'theoretiker': 7888, 'immunisie': 7889, 'rueckgratlosen': 7890, 'verspricht': 7891, 'fuckthegroko': 7892, 'einlaesst': 7893, 'sicherer': 7894, 'pakt': 7895, 'luftspringer': 7896, 'monatlich': 7897, 'geisteszustand': 7898, 'vergeht': 7899, 'henri': 7900, 'nouwen': 7901, 'regierungspolitiker': 7902, 'benoetigen': 7903, 'fahnenfluechtigen': 7904, 'kopftuchdichte': 7905, 'kontinuierlich': 7906, 'mauern': 7907, 'fungieren': 7908, 'ergeben': 7909, 'chancen': 7910, 'berufl': 7911, 'pfarrer': 7912, 'messer': 7913, 'gekoepft': 7914, 'produzie': 7915, 'sat': 7916, 'galdregons': 7917, 'schalupe': 7918, 'guckt': 7919, 'son': 7920, 'luftangriff': 7921, 'deirezzor': 7922, 'seltsamer': 7923, 'ausgestattete': 7924, 'tilschweiger': 7925, 'pfefferspray': 7926, 'aussticht': 7927, 'ideologischen': 7928, 'weshalb': 7929, 'besonderem': 7930, 'beachte': 7931, 'bibelzitate': 7932, 'welche': 7933, 'widersprueche': 7934, 'grausamkeiten': 7935, 'darstellungen': 7936, 'christentums': 7937, 'aufzuzeigen': 7938, 'brandenburgische': 7939, 'aepfel': 7940, 'kongolesischen': 7941, 'reis': 7942, 'aegyptische': 7943, 'chinesische': 7944, 'hamburger': 7945, 'mikrokosmos': 7946, 'konflikte': 7947, 'christianeflori': 7948, 'synode': 7949, 'maennerhintern': 7950, 'verlorener': 7951, 'verlass': 7952, 'dauer': 7953, 'projekt15': 7954, 'spdbtp18': 7955, 'zeigefinger': 7956, 'hage': 7957, 'ressentiment': 7958, 'eilskraft': 7959, 'voelligen': 7960, 'kenntnisnahmeverweigerung': 7961, '1943ff': 7962, 'anhatte': 7963, 'getrunken': 7964, 'durchas': 7965, 'emotiontouch': 7966, 'captaincalvinca': 7967, '34': 7968, 'tippe': 7969, 'unvernunft': 7970, 'pfarrerpohl': 7971, 'geliebte': 7972, 'autokorrektur': 7973, 'kurhessen': 7974, 'platzt': 7975, 'schweden': 7976, 'nordmaennern': 7977, 'vikingern': 7978, 'digiwomende': 7979, 'konstanzegkiel': 7980, 'beeindruckend': 7981, 'sachlich': 7982, 'investigativ': 7983, 'preisverdaechtig': 7984, 'goldkehlchen': 7985, 'begrenzung': 7986, 'garnichts': 7987, 'sagtst': 7988, 'unterstuetze': 7989, '709': 7990, 'iraker': 7991, 'rueckehrer': 7992, 'aufnehmenden': 7993, 'schlaegst': 7994, 'lustige': 7995, 'negativen': 7996, 'klischees': 7997, 'bildungsferne': 7998, 'lippe': 7999, 'zustimmer': 8000, 'selbstausrottung': 8001, 'kueche': 8002, 'schnaps': 8003, 'runterzuschlucken': 8004, 'dirk': 8005, 'thesenvitz': 8006, 'ekdjugend': 8007, 'internets': 8008, 'komplimente': 8009, 'respektlos': 8010, 'vollverpflegung': 8011, 'asylantenheim': 8012, 'buergerlichen': 8013, 'merkelgruene': 8014, 'schaefers': 8015, 'bischofgebhard': 8016, 'kathkirche': 8017, 'nachgefragt': 8018, 'bespielt': 8019, 'korrupten': 8020, 'schwarzgeldverbrecher': 8021, 'tollen': 8022, 'rechtsanwaelte': 8023, 'schoepfung': 8024, 'schoenschrift': 8025, 'sinnloses': 8026, 'ernesto': 8027, 'cardenal': 8028, 'peppermind': 8029, 'lesbe': 8030, 'hezten': 8031, 'schlagerkultur': 8032, 'depp': 8033, 'ausgehalten': 8034, 'heuchlerische': 8035, 'entgehen': 8036, 'mangott': 8037, 'rebharms': 8038, 'fbrantner': 8039, 'evtl': 8040, 'einschraenkungen': 8041, 'gentechnologie': 8042, 'kuenstliche': 8043, 'erhoehen': 8044, '113': 8045, 'asylsuchend': 8046, 'jutta': 8047, 'ditfu': 8048, 'fluechtlingskrise': 8049, 'drumherum': 8050, 'wiederhole': 8051, 'vmedick': 8052, 'gradlinig': 8053, 'eleganter': 8054, 'schlepper': 8055, 'prallt': 8056, 'ausnahmsweise': 8057, 'qualitaet': 8058, 'einwanderer': 8059, 'schaeden': 8060, 'ergebniss': 8061, 'plischkewolfga1': 8062, 'nichtexistenten': 8063, 'saalfeld': 8064, 'format': 8065, 'bundesweiten': 8066, 'verwirklicht': 8067, 'neoliberalen': 8068, 'hauptziel': 8069, 'zerschlagen': 8070, 'grossveranstaltungen': 8071, 'akzeptiere': 8072, 'mumpitz': 8073, 'falsifizierbarkeit': 8074, 'erforschen': 8075, 'robbatt': 8076, 'entschuldigen': 8077, 'unterlaufen': 8078, '1995': 8079, 'bali': 8080, 'schmeissfliegen': 8081, 'stefansasse': 8082, 'metaliberal': 8083, 'staatlich': 8084, 'unterlass': 8085, 'jesus': 8086, 'verachtet': 8087, 'prophetisches': 8088, 'prueft': 8089, 'behaltet': 8090, 'thess': 8091, 'sozialpsychologische': 8092, 'noelles': 8093, 'hauptbahnhof': 8094, 'asylbewerber': 8095, 'anwesenheit': 8096, 'tratschen': 8097, 'kumpanei': 8098, 'hilfsleistungen': 8099, 'gespraechskanal': 8100, 'offenhalten': 8101, 'dialogfaehig': 8102, 'heucheln': 8103, 'vollfressen': 8104, 'teuflisch': 8105, 'raffinie': 8106, 'dierechten': 8107, 'schusswaffe': 8108, 'heut': 8109, 'schusswaffen': 8110, 'ueberlegen': 8111, 'positionen': 8112, 'fruehere': 8113, 'erhebt': 8114, 'vergewaltigungsverdachts': 8115, 'weist': 8116, 'anschuldigungen': 8117, 'ueberfaellig': 8118, 'fistbump': 8119, 'psychologischen': 8120, 'untersuchung': 8121, 'sweiermann': 8122, 'netter': 8123, 'rl': 8124, 'begegnet': 8125, 'oeffnung': 8126, 'fahrerlaubnis': 8127, 'verwandte': 8128, 'kriegsverschont': 8129, 'bagage': 8130, 'hyperventilieren': 8131, 'afdler': 8132, 'nervenklinik': 8133, 'betroffenheit': 8134, 'blutig': 8135, 'toedlich': 8136, 'dannschmeisst': 8137, 'saemtliches': 8138, 'rnf': 8139, 'ring': 8140, 'nationaler': 8141, 'persoenlichkeiten': 8142, 'indiz': 8143, 'gedreht': 8144, 'fiktion': 8145, 'urmenschen': 8146, 'stammesaelteste': 8147, 'stehst': 8148, 'galaxie499': 8149, 'bababangz': 8150, 'gerda': 8151, 'watchingyou81': 8152, 'hakenkreuze': 8153, 'symbole': 8154, 'voelkischen': 8155, 'arier': 8156, 'rassenwahn': 8157, 'usurpie': 8158, 'tomkoehler252': 8159, 'mandate': 8160, 'ihre': 8161, 'hinterhofmoscheen': 8162, 'radikalisie': 8163, 'kuffar': 8164, 'gepredigt': 8165, 'aufgerufen': 8166, 'prostata': 8167, 'subotnik1': 8168, 'anarkitty': 8169, 'gba': 8170, 'bgh': 8171, 'todesu': 8172, 'mindeststards': 8173, 'zivilpaktes': 8174, 'systematischen': 8175, 'angriffs': 8176, 'verkehr': 8177, 'gepumpt': 8178, 'gier': 8179, 'unersaettlich': 8180, 'belasten': 8181, 'publicsexcrimes': 8182, 'ostasiatischen': 8183, 'problemgruppe': 8184, 'mightbedamian': 8185, 'nat': 8186, 'aktionsplan': 8187, 'erreichtes': 8188, 'demergencybrake': 8189, '07': 8190, 'jensausbochum': 8191, 'erzaehl': 8192, 'wenked': 8193, 'vollpfosten': 8194, 'automatische': 8195, 'propagandaschau': 8196, 'auszuweichen': 8197, 'grundproblem': 8198, 'genderrolle': 8199, 'rueckwae': 8200, 'henny': 8201, 'engels': 8202, 'abzockerei': 8203, 'kostenintensiv': 8204, 'fliessendem': 8205, 'widersprechen': 8206, 'weiterzugeben': 8207, 'schutzpatron': 8208, 'voeker': 8209, 'green': 8210, 'peace': 8211, 'irgendwelche': 8212, 'lokalpolitiker': 8213, 'eingebrockt': 8214, 'ehrliche': 8215, 'begruessungsgeld': 8216, 'oberbuergermeisters': 8217, 'verbrecherapparat': 8218, 'sozialdemokratie': 8219, 'steigbuegelhalter': 8220, 'spezifischen': 8221, 'weiblichen': 8222, 'klatsch': 8223, 'mutlu': 8224, 'folgendes': 8225, 'dunkle': 8226, 'franzoesischem': 8227, 'datenritter': 8228, 'maxdefflow': 8229, 'illyriom': 8230, 'dasnuf': 8231, 'steinwurf': 8232, 'aggression': 8233, 'aufloesung': 8234, 'versammlung': 8235, 'antifa666ffm': 8236, 'wahlkampfmaterial': 8237, 'storman': 8238, 'abgeschaffte': 8239, 'paritaetische': 8240, 'finanzierung': 8241, 'gesetzlichen': 8242, 'krankenversicherung': 8243, 'silkeburmester': 8244, 'wievielefrauen': 8245, 'haarinsuppe': 8246, 'oha': 8247, 'originell': 8248, 'zora': 8249, '211212': 8250, 'spaltungen': 8251, 'danijelmajic': 8252, 'voigts': 8253, 'fluechteten': 8254, 'mentale': 8255, 'physiologische': 8256, 'aversion': 8257, 'beamten': 8258, 'verstaerkung': 8259, 'ueberwaeltigten': 8260, 'trennende': 8261, 'verbindende': 8262, 'romeo': 8263, 'entkommt': 8264, 'manuel': 8265, 'twittere': 8266, 'eingeblendet': 8267, 'lec457': 8268, 'agm': 8269, 'alain': 8270, 'spakkos': 8271, 'bolschewiki': 8272, 'meerschweinchen': 8273, 'strassen': 8274, 'verrueckter': 8275, 'aachen': 8276, 'tivoli': 8277, 'huegelkind': 8278, 'einvernehmlich': 8279, 'holge': 8280, 'verbindet': 8281, 'unkontrollie': 8282, 'sicherheitsrisiko': 8283, 'darstellt': 8284, 'gelegenheiten': 8285, 'jesidische': 8286, 'mitansehen': 8287, 'angehoerige': 8288, 'glaubensgemeinschaft': 8289, 'extremismus': 8290, 'niemandem': 8291, 'spontandemos': 8292, 'greywolfing': 8293, 'angelangt': 8294, '90er': 8295, 'smiley': 8296, 'abgeordnete': 8297, 'kinderlieder': 8298, 'obe': 8299, 'anprobie': 8300, 'gepasst': 8301, 'drama': 8302, 'kleinste': 8303, 'gewuerzt': 8304, 'liebenswuerdigkeit': 8305, 'wiegt': 8306, 'schatz': 8307, 'candida': 8308, 'jeannetteleipz2': 8309, 'pflege': 8310, 'zivi': 8311, 'wehrpflicht': 8312, 'weicheiern': 8313, 'haye': 8314, 'geballte': 8315, 'ladung': 8316, 'suff': 8317, 'bilder': 8318, 'menschlich': 8319, 'stoppt': 8320, 'asylantenflucht': 8321, 'verpflichtung': 8322, 'irgendwen': 8323, 'aufzunehmen': 8324, 'raetsel': 8325, '400': 8326, 'sprecht': 8327, 'diskreter': 8328, 'ansprechpa': 8329, 'atheistenhelfen': 8330, 'verklagen': 8331, 'schiessbefehlaeusserung': 8332, 'trumpf': 8333, 'geplanten': 8334, 'propagandaauftritt': 8335, 'untersagen': 8336, 'versekten': 8337, 'gesinnungszirkeln': 8338, 'radikalisieren': 8339, 'gewerkschaften': 8340, 'leiharbeiter': 8341, 'algii': 8342, 'bezieher': 8343, 'inneren': 8344, 'wolke': 8345, 'romano': 8346, 'guardini': 8347, 'bolschewistenhure': 8348, 'dimetrodon109': 8349, 'wilderer': 8350, 'a9': 8351, 'hoehe': 8352, 'glebitzsch': 8353, 'graffiti': 8354, 'bruecke': 8355, 'davidsternen': 8356, 'rueckzahlungsverpfichtungen': 8357, 'auferlegen': 8358, 'nominell': 8359, 'todfeind': 8360, 'verbuendeter': 8361, 'bundesminister': 8362, 'schaftliche': 8363, 'zusammenarbeit': 8364, 'gerd': 8365, 'dreht': 8366, 'werke': 8367, 'aufstrahlen': 8368, 'avila': 8369, 'verlogen': 8370, 'menschenfeinde': 8371, 'zuschlagen': 8372, 'ditib': 8373, 'reinzustecken': 8374, 'kuenfitg': 8375, 'bibisbeauty': 8376, 'verhungern': 8377, 'anke4you': 8378, 'verstehst': 8379, 'sanfter': 8380, 'gekroent': 8381, 'anlaeufe': 8382, 'deutschenfreundlich': 8383, 'assimilieren': 8384, 'schweitzer': 8385, 'druecken': 8386, 'marktplaetzen': 8387, 'gigantisch': 8388, 'hochgeschlafen': 8389, 'besitzer': 8390, 'cschwennicke': 8391, 'dreckshaufen': 8392, 'anbetet': 8393, 'judenkomplex': 8394, 'dummdeutschen': 8395, 'gewaehlten': 8396, 'islamdreck': 8397, 'zugehoerig': 8398, 'eingeschraenkt': 8399, 'volksverhetzung': 8400, 'kostet': 8401, 'fehlschlaege': 8402, 'umgehst': 8403, 'ruedigerwala': 8404, 'puste': 8405, 'wandern': 8406, 'saraocd': 8407, 'naiven': 8408, '4jahreerholung': 8409, 'zusammenarbeitet': 8410, 'pm': 8411, 'dazugelernt': 8412, 'sarahwagenknecht': 8413, 'loeschzentren': 8414, 'erklaerbar': 8415, 'bluse': 8416, 'ndrinfo': 8417, 'bibelglaube': 8418, 'einzelfaelle': 8419, 'stande': 8420, 'kamst': 8421, 'bibelglauben': 8422, 'hapelanger': 8423, 'offensichtl': 8424, 'demaizi': 8425, 'bundesve': 8426, 'zustaendiger': 8427, 'bundesinnensminister': 8428, 'brei': 8429, 'michawitcz': 8430, 'bistumbamberg': 8431, 'ueberzeugen': 8432, 'aktualisie': 8433, 'vorschaubilder': 8434, 'schweinefleischpflicht': 8435, 'ausdenken': 8436, 'modeerscheinung': 8437, 'phantasie': 8438, 'streams': 8439, 'lieblingsaffen': 8440, 'westhim': 8441, 'regelsatz': 8442, 'reichen': 8443, 'irgendwer': 8444, 'rechnung': 8445, 'bemerken': 8446, 'holgernohr': 8447, 'dritten': 8448, 'hauptamtlichen': 8449, 'inoffiziellen': 8450, 'mitarbeitern': 8451, 'bringst': 8452, 'genauso': 8453, 'end': 8454, 'bikinis': 8455, 'freizuegigkeit': 8456, 'aeusserst': 8457, 'gaborhalasz1': 8458, 'personals': 8459, 'sicherheitskraeften': 8460, 'integrationskurs': 8461, '4gg': 8462, 'durcharbeiten': 8463, 'religionsausuebung': 8464, '1984er': 8465, 'feministischer': 8466, 'porno': 8467, 'rauskommen': 8468, 'penetration': 8469, 'vergewaltigung': 8470, 'systematisches': 8471, 'unwichtiger': 8472, 'gemachten': 8473, 'versprechungen': 8474, 'vizekanzler': 8475, 'einloesen': 8476, 'generalsekretaer': 8477, 'poebler': 8478, 'polypepper': 8479, 'gaeste': 8480, 'deadline': 8481, 'wk58kl': 8482, 'poggenburgandre': 8483, 'schlagzeile': 8484, 'firma': 8485, 'geknechtete': 8486, 'gefrkamnitzer': 8487, 'voskhule': 8488, 'administration': 8489, 'linksrotgruen': 8490, 'armutsrenter': 8491, 'praesidium': 8492, 'hetzern': 8493, 'spoun': 8494, 'zusammenhaengenden': 8495, 'solidarische': 8496, 'alex': 8497, 'berlinnazifrei': 8498, 'glueckwuensche': 8499, 'detzer': 8500, 'hildenbrand': 8501, 'wiederwahl': 8502, 'gruenebw': 8503, 'ldkbw': 8504, 'brightsblog': 8505, 'aufgespielt': 8506, 'zahlreiche': 8507, 'herausgeschlagen': 8508, 'huehnerherzen': 8509, 'fuern': 8510, 'kocht': 8511, 'schokolade': 8512, 'gerechte': 8513, 'loehne': 8514, 'narr': 8515, 'cduberlin': 8516, 'zuegeln': 8517, 'wahlpraeferenz': 8518, 'henkel': 8519, 'webarchive': 8520, 'keineswegs': 8521, 'ferdinandscholz': 8522, 'umstaenden': 8523, 'aussprechen': 8524, 'verdraengt': 8525, 'zuneigung': 8526, 'ahnungslosen': 8527, 'eivorsitzenden': 8528, 'katholischer': 8529, 'pechschwarzen': 8530, 'niederrheiner': 8531, 'kurierat': 8532, 'enttaeuschen': 8533, 'untreu': 8534, 'kriegerisch': 8535, 'spatz': 8536, 'taube': 8537, 'vorhersagen': 8538, 'entfernt': 8539, 'reinen': 8540, 'fassen': 8541, 'tritin': 8542, 'phaedophilen': 8543, 'plakat': 8544, 'anziehst': 8545, 'wirst': 8546, 'hysterikern': 8547, 'thomasmatzka': 8548, 'zeitverschwendung': 8549, 'legitimitaet': 8550, 'spreche': 8551, 'wahlergebnis': 8552, 'favorisie': 8553, 'vermasselt': 8554, 'angeblicher': 8555, 'hypower': 8556, 'beschaeftige': 8557, 'ueberzeugung': 8558, 'diagnose': 8559, 'fick': 8560, 'barett': 8561, 'armeestiefel': 8562, 'kika': 8563, 'jaehriger': 8564, 'siebenjaehrige': 8565, 'ehefrau': 8566, 'paedophilie': 8567, 'jellermann': 8568, 'endlic': 8569, 'polemisie': 8570, 'entschaedigung': 8571, 'zehntausend': 8572, 'schnittchen': 8573, 'mettigel': 8574, 'bigotterie': 8575, 'deluxe': 8576, 'fasse': 8577, 'sondierungsgespraechen': 8578, 'provozie': 8579, 'breitscheitplatz': 8580, 'heester11': 8581, 'fragenmundschenk': 8582, 'bewacht': 8583, 'sendest': 8584, 'schenke': 8585, 'ez': 8586, '36': 8587, 'neujahrspredigt': 8588, 'jammergestallt': 8589, 'petra': 8590, 'darzustellen': 8591, 'marcboe': 8592, 'landtag': 8593, 'dikrisminierung': 8594, 'jesuitenfluechtlingsdienst': 8595, 'jrseurope': 8596, 'jesuitrefugee': 8597, 'gepflegte': 8598, 'unterhaltung': 8599, 'asylantenstopp': 8600, 'problematische': 8601, 'infobergmann': 8602, 'oesi': 8603, 'cia': 8604, 'geseiere': 8605, 'wide': 8606, 'beantragt': 8607, 'objekt': 8608, 'druecke': 8609, 'fest': 8610, 'daumen': 8611, 'fanclub': 8612, 'friedhof': 8613, 'revolutionaerste': 8614, 'arbeiter': 8615, 'apostaten': 8616, 'hadithen': 8617, 'staedtischen': 8618, 'entmachten': 8619, 'tedtalks': 8620, 'neuanfang': 8621, 'militaereskalation': 8622, 'nutzt': 8623, 'gestoppt': 8624, 'breg': 8625, 'chanscheichun': 8626, 'verstaendigung': 8627, 'lb': 8628, 'schaetze': 8629, 'annexion': 8630, 'dezimie': 8631, 'eingeht': 8632, 'unverhandelbar': 8633, 'vollmundig': 8634, 'hantieren': 8635, 'berufslesbe': 8636, 'queerspiegel': 8637, 'lebenspa': 8638, 'nerin': 8639, 'wege': 8640, 'stiefkindadoption': 8641, 'elternteil': 8642, 'kindes': 8643, 'einsicht': 8644, 'koerperlich': 8645, 'protektorat': 8646, 'imperialismus': 8647, 'gedaechtnis': 8648, 'inahuber15': 8649, 'krimineller': 8650, 'staatssekretaere': 8651, 'blaue': 8652, 'widerliche': 8653, 'eunuchenstimme': 8654, 'einzuwenden': 8655, 'charakter': 8656, 'einstimmig': 8657, 'beschlossen': 8658, 'ewiglich': 8659, 'ps': 8660, '146': 8661, 'dominikko': 8662, 'flyer': 8663, 'soziologie': 8664, 'bds': 8665, 'hinaus': 8666, 'beobachtung': 8667, 'exklusiv': 8668, 'persoenlichen': 8669, 'vorgang': 8670, 'century': 8671, 'girl': 8672, 'zahnarzt': 8673, 'verabscheue': 8674, 'besoffen': 8675, 'puff': 8676, 'erhoehung': 8677, 'zeichenzahl': 8678, 'supi': 8679, 'vernuenftig': 8680, 'saetze': 8681, 'formulieren': 8682, 'themalgot': 8683, 'coldsweetness': 8684, 'marionetten': 8685, 'welle': 8686, 'reisen': 8687, 'verrecke': 8688, 'elendig': 8689, 'aufgehoben': 8690, 'schlaeger': 8691, '184b': 8692, 'stgb': 8693, 'kinderpornographischer': 8694, '102': 8695, 'freiheitsstrafe': 8696, 'blaueswunder13': 8697, 'schwurspruch': 8698, 'vereidigung': 8699, 'fluechtlingssituation': 8700, 'jetzigen': 8701, 'auskunft': 8702, 'trittst': 8703, 'medialmann': 8704, 'hinweisen': 8705, 'bundeswehrsoldat': 8706, 'buehne': 8707, 'kaese': 8708, 'gestaltet': 8709, 'zittere': 8710, 'regelmaessiger': 8711, 'stoerungsfreier': 8712, 'heutzutage': 8713, 'manfredweber': 8714, 'huehnermist': 8715, 'sog': 8716, 'denuzianten': 8717, 'podium': 8718, 'lehramtsstudierende': 8719, 'sensibilisie': 8720, 'strukturell': 8721, 'begleitet': 8722, 'ekelhaftes': 8723, 'widerwae': 8724, 'iges': 8725, 'rechtspopulist': 8726, 'kritiker': 8727, 'ekel': 8728, 'lief': 8729, 'soeben': 8730, 'eloquente': 8731, 'ehrlichen': 8732, 'verpulve': 8733, 'ordentlich': 8734, 'ausland': 8735, 'schweinerei': 8736, 'bundesland': 8737, 'tragischer': 8738, 'bundeswehrsoldaten': 8739, 'mali': 8740, 'ordnungsmacht': 8741, 'dringend': 8742, 'solidarrente': 8743, 'lohnzahlung': 8744, 'subventionie': 8745, 'kuschelkurs': 8746, 'machtgeilen': 8747, 'fuehrern': 8748, 'heimlich': 8749, 'lustvoll': 8750, 'entgegenhecheln': 8751, 'getee': 8752, 'gefede': 8753, 'gepruegelt': 8754, 'meck': 8755, 'pomm': 8756, 'tapfere': 8757, 'gratulation': 8758, 'engagie': 8759, 'beeindruckende': 8760, 'auslaenderbeauftragte': 8761, 'station': 8762, 'rechtsreferendarin': 8763, 'niedrigem': 8764, 'mittlerem': 8765, 'zitate': 8766, 'bischofskonferenz': 8767, '2004': 8768, 'sjeschor': 8769, 'aussagen': 8770, 'aufrufe': 8771, 'susa': 8772, 'schreib': 8773, 'refugees': 8774, 'mitarbeit': 8775, 'anbieten': 8776, 'netzwerk': 8777, 'bundesweit': 8778, 'arbeitsmittelpunkt': 8779, 'daddy': 8780, 'hoer': 8781, 'einfache': 8782, 'schreibst': 8783, 'texte': 8784, 'islamistische': 8785, 'narkose': 8786, 'operie': 8787, 'befreienden': 8788, 'kristindavis': 8789, 'sonderbotschafterin': 8790, 'bangladesch': 8791, 'stecker': 8792, 'schutzwall': 8793, 'spdler': 8794, 'reihe': 8795, 'europamagazin': 8796, 'maechtig': 8797, 'strikt': 8798, 'unangemessene': 8799, 'thomasbstein': 8800, 'unkonventionellen': 8801, 'stil': 8802, 'angreifbar': 8803, 'schaeubles': 8804, 'mimik': 8805, 'baende': 8806, 'kriegsbefuerwo': 8807, 'chancenlos': 8808, 'kretsc': 8809, 'sachsens': 8810, 'mp': 8811, 'erdogans': 8812, 'waffenlieferungen': 8813, 'panzerfabrik': 8814, 'unfrieden': 8815, 'goslar': 8816, 'genick': 8817, 'weiblich': 8818, 'maennlich': 8819, 'weihnachtsstress': 8820, 'nett': 8821, 'iphone': 8822, 'steuerbetrueger': 8823, 'apple': 8824, 'verlogenes': 8825, 'gluecklich': 8826, 'schaetzen': 8827, 'stando': 8828, 'zypern': 8829, 'kuwait': 8830, 'brexitchaosgewinnler': 8831, 'profiteure': 8832, 'bloedheit': 8833, 'britischen': 8834, 'sonderrolle': 8835, 'radarfurie': 8836, 'menschenverachtenden': 8837, 'fernsehturm': 8838, 'palast': 8839, 'gewandhaus': 8840, 'zwergenaufstand': 8841, 'nachverhandlungen': 8842, 'fuehrenden': 8843, 'juttambrandt': 8844, 'element': 8845, 'agendakanzler': 8846, 'hoffnungstraeger': 8847, 'wahlniederlagen': 8848, 'harmonieren': 8849, 'poebel': 8850, 'chefetagen': 8851, 'starkes': 8852, 'bestimmen': 8853, 'geschundenes': 8854, 'begruesst': 8855, 'elkebreitenbach': 8856, 'eingestellten': 8857, 'auszubildenden': 8858, 'suchst': 8859, 'unwichtig': 8860, 'aegypten': 8861, 'unterdrueckung': 8862, 'praesentation': 8863, '01': 8864, 'saarbruecken': 8865, 'heimatfreund': 8866, 'patriotger': 8867, 'daisyduck1990': 8868, 'twitterversion': 8869, 'update': 8870, 'uebersetzen': 8871, 'hottie': 8872, 'kurz2017': 8873, 'laasst': 8874, 'gefaelligst': 8875, 'abloesung': 8876, 'internationallesbianday': 8877, 'lesbische': 8878, 'sichbarkeit': 8879, 'gestaltung': 8880, 'gottesdienstes': 8881, 'gottesdienst': 8882, 'einladender': 8883, 'professioneller': 8884, 'konkreten': 8885, 'anzubringen': 8886, 'kuerzer': 8887, 'detlef': 8888, 'pollack': 8889, 'taetigkeit': 8890, 'ausuebt': 8891, 'joshuastrack': 8892, 'hochbekommen': 8893, 'schwaengern': 8894, 'theodoros': 8895, 'boulgarides': 8896, 'theodorsboulgarides': 8897, 'grosskoalitionaeren': 8898, 'personell': 8899, 'aufstellen': 8900, 'maltaeser': 8901, 'homoeopathie': 8902, 'zucker': 8903, 'kichern': 8904, 'keinekleinigkeit': 8905, 'identifiziere': 8906, 'wohnsitz': 8907, 'stade': 8908, 'snape': 8909, 'sama': 8910, 'volkesstimme': 8911, 'wegfegen': 8912, 'fazit': 8913, 'erfindet': 8914, 'prozessbeobachtern': 8915, 'auflagen': 8916, 'petersteudtner': 8917, 'lasch': 8918, 'mitbestimmung': 8919, 'hermann': 8920, 'behrendt': 8921, 'plaedie': 8922, 'kuendigungsschutzes': 8923, 'streikrechts': 8924, 'kandel': 8925, 'kandelistueberall': 8926, '600': 8927, 'betroffen': 8928, 'mittelalterliches': 8929, 'integrieren': 8930, 'thistell': 8931, 'haraldlaatsch': 8932, 'veraende': 8933, 'lordhornhaut': 8934, 'sitzpinkler': 8935, 'oftmals': 8936, 'tragik': 8937, 'ausweg': 8938, 'beibehaltung': 8939, 'wohlstandes': 8940, 'technischer': 8941, 'schritt': 8942, 'abzukuerzen': 8943, 'straflosigkeit': 8944, 'zufuegt': 8945, 'negerkuss': 8946, 'glas': 8947, 'negerschweiss': 8948, 'bestelle': 8949, 'leuchttuerme': 8950, 'wuerfe': 8951, 'ungen': 8952, 'unpolitisch': 8953, 'allemal': 8954, 'bewaehrst': 8955, 'lockung': 8956, 'reiz': 8957, 'kehrst': 8958, 'blenden': 8959, 'reichtum': 8960, 'reicher': 8961, 'goettern': 8962, 'raouldukevegas': 8963, 'hakanmesser': 8964, 'tuerkensau': 8965, 'reist': 8966, 'sippe': 8967, 'verueben': 8968, 'stabilitaet': 8969, 'abtut': 8970, 'sparkurs': 8971, 'revidieren': 8972, 'uebel': 8973, 'pirat': 8974, 'mlooks': 8975, 'deckung': 8976, 'herrebmensch': 8977, 'kampfpresse': 8978, 'vollfosten': 8979, 'jugendliche': 8980, 'nervig': 8981, 'versorgt': 8982, 'handle': 8983, 'maxime': 8984, 'handelns': 8985, 'gesetzes': 8986, 'jobcenter': 8987, 'armseligen': 8988, 'runterladen': 8989, 'sinnlose': 8990, 'magazine': 8991, 'drucken': 8992, 'rundfunkstaatsve': 8993, 'jaemmerliche': 8994, 'verfassungsfeinde': 8995, 'supermaerkten': 8996, 'durchgekauter': 8997, 'kalter': 8998, 'rumerzaehlen': 8999, 'aufhoeren': 9000, 'falschverstandener': 9001, 'plattform': 9002, 'fuck': 9003, 'wernergoehl': 9004, 'rohr': 9005, 'wagen': 9006, 'bauernkind': 9007, 'lpg': 9008, 'ausschlafen': 9009, 'bestes': 9010, 'otto': 9011, 'rbbfernsehen': 9012, 'gruenefraktionb': 9013, '55': 9014, 'ausgestrahlt': 9015, 'hahahaha': 9016, 'vorgeschmack': 9017, 'egoismus': 9018, 'gnarfer': 9019, 'bundesverkehrsministerium': 9020, 'vollhonk': 9021, 'plaque': 9022, 'huebschesten': 9023, 'kircheneigenen': 9024, 'zweckbauten': 9025, 'einfachheit': 9026, 'achten': 9027, 'limburg': 9028, 'teba': 9029, 'dbk': 9030, 'hh': 9031, 'luise': 9032, 'humanitaeren': 9033, 'krisen': 9034, 'ezeekelt': 9035, 'gestrigen': 9036, '1943': 9037, 'allerletzte': 9038, 'herzlicher': 9039, 'februar': 9040, 'rom': 9041, 'jmd': 9042, 'normalerweise': 9043, 'genderismus': 9044, 'bettinaroehl': 9045, 'adolf': 9046, 'verlag': 9047, 'reichsbuerger': 9048, 'illegale': 9049, 'paket': 9050, 'abholen': 9051, 'werd': 9052, 'deutschpi2': 9053, 'reformation': 9054, 'geistlicher': 9055, 'historisch': 9056, 'wirksam': 9057, 'wuensch': 9058, 'krankheiten': 9059, 'ostkuestensatrapen': 9060, 'gelbe': 9061, 'lt': 9062, 'th24deinenews': 9063, 'arnstadt': 9064, 'zeitraum': 9065, 'zweiteilige': 9066, 'schoa': 9067, 'beschaedigt': 9068, '9nov': 9069, 'verbesserung': 9070, 'scheinasylanten': 9071, 'gewalttaeter': 9072, 'yep': 9073, 'potential': 9074, 'intrakulturelle': 9075, 'verwerfungen': 9076, 'eicheln': 9077, 'aussatzes': 9078, 'janfurchtenicht': 9079, 'steffenkrach': 9080, 'bekomme': 9081, 'seelischer': 9082, 'islamunterricht': 9083, 'erklaere': 9084, 'haeuslicher': 9085, 'entgegenbrachte': 9086, 'ur': 9087, 'prachtarier': 9088, 'handelte': 9089, 'verdroschen': 9090, 'afdduesseldorf': 9091, 'faszinierend': 9092, 'sternenstaub': 9093, 'araber': 9094, 'begriffen': 9095, 'mychiffre': 9096, 'chrisl137': 9097, '53': 9098, 'b1': 9099, 'koedukation': 9100, 'ansehe': 9101, 'gemixt': 9102, 'frisian': 9103, 'verblendeter': 9104, 'powerphil': 9105, 'ikswokrubretnug': 9106, 'eigen': 9107, 'amuesant': 9108, 'entfolgungs': 9109, 'wellen': 9110, 'verschiedenen': 9111, 'gesinnungslagern': 9112, 'selbstbestaetigung': 9113, 'nikotin': 9114, 'vergleichbar': 9115, 'kognitivedissonanz': 9116, 'vermeidung': 9117, 'polarisie': 9118, 'auftrage': 9119, 'krummnasen': 9120, 'usrael': 9121, 'demokratien': 9122, 'religioeser': 9123, 'autoritaerer': 9124, 'geschlechtsbestimmung': 9125, 'gefuehlen': 9126, 'nochmals': 9127, 'herzlichem': 9128, 'transfernomaden': 9129, 'scharren': 9130, 'hufen': 9131, 'diebspiel': 9132, 'prioritaetensetzung': 9133, 'jaehrlicher': 9134, 'finanzbedarf': 9135, 'estnische': 9136, 'demonstrie': 9137, 'ausnahmezustand': 9138, 'vonneudeck': 9139, 'crazy': 9140, 'fluechtig': 9141, 'hafen': 9142, 'stichwo': 9143, 'gucken': 9144, 'rotula': 9145, 'hoppla': 9146, 'autodeformie': 9147, 'manuell': 9148, 'spasskultur': 9149, 'bulldoggen': 9150, 'schlittenhunde': 9151, 'mpunktg': 9152, 'konstanz': 9153, 'grau': 9154, 'fliesst': 9155, 'neckar': 9156, 'schwabensau': 9157, 'zurzeit': 9158, 'hochkonjunktur': 9159, 'durchseucht': 9160, 'kleidest': 9161, 'fickender': 9162, 'hurenshon': 9163, 'volkerbeck': 9164, 'esel': 9165, 'kebekus': 9166, 'dieanstalt': 9167, 'gesamt': 9168, 'beschnitten': 9169, 'bewerfen': 9170, 'schulzmaennchen': 9171, 'keh': 9172, 'darein': 9173, 'dreckschleudern': 9174, 'prinzen': 9175, 'ichgebeab': 9176, 'selbsthilfegruppe': 9177, 'heulsusen': 9178, 'wirrheit': 9179, 'sprichst': 9180, 'germanen': 9181, 'friedlich': 9182, 'christianisie': 9183, 'sklaverei': 9184, 'hexenverbrennungen': 9185, 'praktizie': 9186, 'barmherzigen': 9187, 'gestehe': 9188, 'zeile': 9189, 'geaende': 9190, 'ricardariefling': 9191, 'zugehen': 9192, 'finger': 9193, 'krumm': 9194, 'verraeterin': 9195, 'angeschrieben': 9196, '08': 9197, 'zdfmoma': 9198, 'rupe': 9199, 'mayer': 9200, '50': 9201, 'buches': 9202, 'ramazanakbas37': 9203, 'nemmersatt': 9204, 'verlogenere': 9205, 'loser': 9206, 'subventionen': 9207, 'kapitalistisch': 9208, 'pfff': 9209, 'kaempfst': 9210, 'wagner': 9211, 'hasserfuellt': 9212, 'gastfreundlichen': 9213, 'begrabscht': 9214, 'beruehmt': 9215, 'traumatisie': 9216, 'herrschenden': 9217, 'stegherr': 9218, 'joohannssen': 9219, 'djvde': 9220, 'kard': 9221, 'ausgabe': 9222, 'pfarreien': 9223, 'kristallisationspunkte': 9224, 'werde': 9225, 'ginge': 9226, 'pkws': 9227, 'schiffe': 9228, 'verlegt': 9229, 'ermoeglichen': 9230, 'befoerdern': 9231, 'klangspur': 9232, 'ineshansla': 9233, 'oekumenische': 9234, 'kooperationen': 9235, 'bckirche': 9236, 'painkillerjay': 9237, 'valandir': 9238, 'chribenesch': 9239, 'spende': 9240, 'netzpolitik': 9241, 'obszoen': 9242, 'irgendeinem': 9243, 'aspekt': 9244, 'menschlichen': 9245, 'herauszuhalten': 9246, 'verlaesst': 9247, 'reconquistaneu': 9248, 'bw': 9249, 'studierendenparlament': 9250, 'mitglied': 9251, 'unbekannte': 9252, 'traenken': 9253, 'lkr': 9254, 'dreistellig': 9255, 'immunitaet': 9256, 'dealer': 9257, 'matteo67': 9258, 'verriss': 9259, 'niggerschwein': 9260, 'gekillt': 9261, 'icherheitsvorkehrungen': 9262, 'flugkontrollen': 9263, 'repo': 9264, 'juengst': 9265, 'koerperliche': 9266, 'unverseh': 9267, 'heit': 9268, 'hohes': 9269, 'verpruegeln': 9270, 'versinke': 9271, 'kuesse': 9272, 'prallen': 9273, 'weichen': 9274, 'lippen': 9275, 'besuchsvisum': 9276, 'kein': 9277, 'friedensve': 9278, 'ronaiveromaus': 9279, 'angesicht': 9280, 'elija': 9281, 'grossteil': 9282, 'behoerdenumgang': 9283, 'anschlags': 9284, 'restlos': 9285, 'polizeiberlin': 9286, 'ruesten': 9287, 'dreckskanacken': 9288, 'berechtigter': 9289, '943': 9290, 'nicosemsrott': 9291, 'willigender': 9292, 'imregrimm': 9293, 'siehste': 9294, 'sesamstrasse': 9295, 'sesamstrassen': 9296, 'isses': 9297, 'anpassen': 9298, 'dativ': 9299, 'nurmalso': 9300, 'ekdsnyode': 9301, 'menschenwerk': 9302, 'gerbes': 9303, 'jlmelenchon': 9304, 'loetzschmdb': 9305, 'gregorgysi': 9306, 'veranstaltung': 9307, 'kurze': 9308, 'anmeldung': 9309, 'platzka': 9310, 'anderswo': 9311, 'aufgezwungen': 9312, 'cc00lm': 9313, 'prometheus': 9314, 'zugehoerigkeit': 9315, 'frisuren': 9316, 'familienzusammenfuehrung': 9317, 'daemmt': 9318, 'schlepperwesen': 9319, 'pinter': 9320, 'arbeitslosen': 9321, 'senden': 9322, 'muehlstein': 9323, 'eidige': 9324, 'maltekaufmann': 9325, 'volksverrat': 9326, 'offensichtlicher': 9327, 'bischofschick': 9328, 'kommentator': 9329, 'altbier': 9330, 'anzuhoeren': 9331, 'laufen': 9332, 'ticker': 9333, 'sowjetunion': 9334, 'grammatikalisch': 9335, 'sequitur': 9336, 'starb': 9337, 'taeterin': 9338, 'polizeiarbeit': 9339, 'psychischen': 9340, 'stoerungen': 9341, 'kitten': 9342, 'miriamozen': 9343, 'franzchristia15': 9344, 'buergerwehr': 9345, 'vereinsstatus': 9346, 'gelingen': 9347, 'angemessener': 9348, 'ghettobildung': 9349, 'irakische': 9350, 'zutun': 9351, 'ubbelohdeberlin': 9352, 'avalasek1': 9353, 'bloeden': 9354, 'entsenden': 9355, 'rueckkehrmoeglichkeit': 9356, 'ehefrauen': 9357, 'nachholen': 9358, 'polygamie': 9359, 'derheribe': 9360, 'schlaumeier': 9361, 'diktie': 9362, 'nachgelesen': 9363, 'maerchenbuch': 9364, 'genauer': 9365, 'toetet': 9366, 'unglaeubigen': 9367, 'affen': 9368, 'schweinen': 9369, 'katrinhilger': 9370, 'sma': 9371, 'phonegruessen': 9372, 'versuessen': 9373, '1994': 9374, 'pussies': 9375, 'droetkerde': 9376, 'gonosom': 9377, 'umerzogenes': 9378, 'elberfelder': 9379, 'uebersetzung': 9380, 'naehsten': 9381, 'original': 9382, 'mordsucht': 9383, 'betruegen': 9384, 'goetzendienst': 9385, 'pharmazie': 9386, 'zauberei': 9387, 'hurerei': 9388, 'gattoanovecode': 9389, 'blaues': 9390, 'haushoch': 9391, 'schluessel': 9392, 'nawa': 9393, 'like': 9394, 'raheandreas': 9395, 'die12': 9396, 'beluegt': 9397, 'trotziges': 9398, 'tagderdeutscheneinheit': 9399, 'angehoeren': 9400, 'verfassungsfeindlichen': 9401, 'organisation': 9402, 'wendet': 9403, 'anrecht': 9404, 'gratisgeschenk': 9405, 'erhaelt': 9406, 'dilettantisch': 9407, 'synchronschwimmen': 9408, 'interpretier': 9409, 'verkuenden': 9410, 'ungslosigkeit': 9411, 'aussengrenze': 9412, 'bewaffnete': 9413, 'grenzer': 9414, 'unsicheren': 9415, 'christuskirche': 9416, 'gehrin': 9417, 'digital': 9418, 'tuuramash': 9419, 'pfaffenbrut': 9420, 'geschaeftsfuehrende': 9421, 'sozialdemokratischen': 9422, 'kriegt': 9423, 'erlebte': 9424, 'parallel': 9425, 'steinigen': 9426, 'gruppenerlebnis': 9427, 'trag': 9428, 'backenfutter': 9429, 'kurse': 9430, 'zusammengefueh': 9431, 'brautschau': 9432, 'mischehe': 9433, 'dominik': 9434, 'krause': 9435, 'bestellt': 9436, 'weis': 9437, 'krankenhaus': 9438, 'smail': 9439, 'ya': 9440, 'ar': 9441, 'ismailyasar': 9442, 'schmidja2017': 9443, 'whiterosede': 9444, 'schlafschafe': 9445, 'egoisten': 9446, 'rechtsbruch': 9447, 'ronamiti': 9448, 'verbliebenen': 9449, 'versprachen': 9450, 'soli': 9451, 'nunmal': 9452, 'todesschrei': 9453, 'verzweiflung': 9454, 'wild': 9455, 'katzbuckeln': 9456, 'erkenntnisse': 9457, 'peer': 9458, 'review': 9459, 'scheinheiligste': 9460, '2012': 9461, 'ungestoe': 9462, 'ungestraft': 9463, 'stattfindet': 9464, 'verschissene': 9465, 'betroffene': 9466, 'rechtsgrundlage': 9467, 'transparentes': 9468, 'beschwerdeverfahren': 9469, 'wehr': 9470, 'linksgruener': 9471, 'journalist': 9472, 'suesse': 9473, 'maus': 9474, 'philippinische': 9475, 'aa': 9476, 'siemens': 9477, 'joe': 9478, 'firmenchefs': 9479, 'massenentlassungen': 9480, 'profitsteigerung': 9481, 'gesetzlich': 9482, 'helft': 9483, 'eiol': 9484, 'jour86': 9485, 'dreier': 9486, 'stalinistische': 9487, 'tagtraeumer': 9488, 'geschossen': 9489, 'befinde': 9490, 'polizeigewahrsam': 9491, 'gabs': 9492, 'saisongarbeiter': 9493, 'algerien': 9494, 'vietnam': 9495, 'begruessenswe': 9496, 'wegretuschierst': 9497, 'netten': 9498, 'praktizierst': 9499, 'oadiatum': 9500, 'beheben': 9501, 'verwurzelten': 9502, 'abzulenken': 9503, 'grossmutter': 9504, 'zerlegen': 9505, 'vermaehlt': 9506, 'exup': 9507, 'ry': 9508, 'heilig': 9509, 'laeden': 9510, 'abu': 9511, 'beseitigung': 9512, 'besetzung': 9513, 'zentralrat': 9514, 'haste': 9515, 'verkloppt': 9516, 'zdfmarkuslanz': 9517, 'passagen': 9518, 'lebe': 9519, 'missbrauche': 9520, 'echter': 9521, 'rentenkuerzung': 9522, 'zuruecknehmen': 9523, 'glaubwuerdig': 9524, 'motivation': 9525, 'ablegst': 9526, 'stammeier': 9527, 'uhde171': 9528, 'herausgeforde': 9529, 'glaubensgrundlagen': 9530, 'ueberaus': 9531, 'schwachsinniger': 9532, 'tuecher': 9533, 'ausspucken': 9534, 'kommunistenbraut': 9535, 'erfaeh': 9536, 'gegebenenfalls': 9537, 'mitfreuen': 9538, 'reklamieren': 9539, 'mae': 9540, 'yrer': 9541, 'oettinger': 9542, 'zusaetzliche': 9543, 'rachen': 9544, 'weihnachtsmann': 9545, 'akzeptanz': 9546, 'andersseins': 9547, 'boy': 9548, 'sekte': 9549, 'standhaft': 9550, 'erschuetterungen': 9551, 'nachgeben': 9552, 'soreth': 9553, 'positives': 9554, 'verhandeln': 9555, 'boss': 9556, 'narrenfreiheit': 9557, 'kinderga': 9558, 'berlin2bronx': 9559, 'einizge': 9560, 'kernfrage': 9561, 'einteilen': 9562, 'stringent': 9563, 'beruht': 9564, 'koennes': 9565, 'dicker': 9566, 'tobak': 9567, 'aufgetragen': 9568, 'reisserisch': 9569, 'fluechtlingskinder': 9570, '5mal': 9571, 'hoeheres': 9572, 'mitbewohner': 9573, 'spo': 9574, 'getrennt': 9575, 'asselborn': 9576, 'scheissdreck': 9577, 'erschlagen': 9578, 'besseres': 9579, 'pohlmann': 9580, 'plattformen': 9581, 'rechtswidrigen': 9582, 'beschraenkungen': 9583, 'unterlassungserklaerungen': 9584, 'wg': 9585, 'rechtswidriger': 9586, 'loeschungen': 9587, 'abo': 9588, 'trennungen': 9589, 'betrachtet': 9590, 'nazibrut': 9591, 'einschaetzung': 9592, 'pachelbel': 9593, 'besonnen': 9594, 'offenlegen': 9595, 'auslaenderrueckfuehrung': 9596, 'asylantenstop': 9597, 'ambivalenz': 9598, 'widerspruechlichkeit': 9599, 'note': 9600, 'vonnem': 9601, 'kirchenfutzi': 9602, 'eliasleikeb': 9603, 'geschminkt': 9604, 'lametta': 9605, 'behangen': 9606, 'zutreffend': 9607, 'fluchtursachen': 9608, 'faire': 9609, 'handelspolitik': 9610, 'abkehr': 9611, 'agrarindustrie': 9612, 'correctiv': 9613, 'compactmagazin': 9614, 'nu': 9615, 'kampfkraft': 9616, 'gotteskrieger': 9617, 'netzwerke': 9618, 'vermeintlich': 9619, 'familienbild': 9620, 'krebsforschungsagentur': 9621, 'weltgesundheitsorganisation': 9622, 'krebserregend': 9623, 'eingestuft': 9624, 'nationales': 9625, 'bestrebungen': 9626, 'schnellen': 9627, 'beendigung': 9628, 'verstaerkt': 9629, 'weltfrauentag': 9630, 'sondierungspapier': 9631, 'optimalfall': 9632, 'ausgehen': 9633, 'paritaet': 9634, 'vorbeten': 9635, 'alexbfromg': 9636, 'anfaenge': 9637, 'privilegieren': 9638, 'saemtlicher': 9639, 'freizustellen': 9640, 'intervention': 9641, 'schube': 9642, 'gefreut': 9643, 'beruehmte': 9644, 'gemaelde': 9645, 'sperrung': 9646, 'erhob': 9647, '2009': 9648, 'anklage': 9649, 'weitergabe': 9650, 'kinderpornografischem': 9651, 'warf': 9652, 'beschafft': 9653, 'erregen': 9654, 'woli2017': 9655, 'expe': 9656, 'skopstein1': 9657, 'huber2017walter': 9658, 'alles1frage': 9659, 'landesregierung': 9660, 'primat': 9661, 'universellen': 9662, 'humanismus': 9663, 'zweck': 9664, 'niedere': 9665, 'triebe': 9666, 'anderer': 9667, 'spaltung': 9668, 'staerkeres': 9669, 'silvester': 9670, 'renataadler6': 9671, 'unmenschen': 9672, 'tierschutz': 9673, 'aussterben': 9674, 'nightkiss661': 9675, 'wtf': 9676, 'zunge': 9677, 'rumlecken': 9678, 'willideutscher': 9679, 'bohne': 9680, 'vernehmbare': 9681, 'spaetestens': 9682, 'arbeitslosigkeit': 9683, '696castro': 9684, 'gaenze': 9685, 'profalla': 9686, 'det': 9687, 'knecht': 9688, 'kapitals': 9689, 'betrachte': 9690, 'hindernis': 9691, 'individuen': 9692, 'besiegt': 9693, 'haltet': 9694, 'trumpfka': 9695, 'hierzu': 9696, 'ausspielen': 9697, 'gutglaeubig': 9698, 'giegold': 9699, 'skakeller': 9700, 'blochbihler': 9701, 'proasyl': 9702, 'armselig': 9703, 'handwerker': 9704, 'versteckter': 9705, 'empfangen': 9706, 'rundfunkanstalten': 9707, '39': 9708, 'aufwaendigen': 9709, 'erlauben': 9710, 'befreit': 9711, 'oekologisch': 9712, 'einklang': 9713, 'hunger': 9714, 'auffassung': 9715, 'bundesanwaltschaft': 9716, 'begangenen': 9717, 'pilot': 9718, 'ryanair': 9719, 'darstellen': 9720, 'besserverdienende': 9721, 'york': 9722, 'geruchtekellner': 9723, 'updates': 9724, 'twittern': 9725, 'rosenkranz': 9726, 'volknational': 9727, 'wordpressdotcom': 9728, 'judenfuehrungsstaat': 9729, 'muslimischer': 9730, 'kreigsfluechtling': 9731, 'sauber': 9732, 'verfehlen': 9733, 'bohei': 9734, 'notz': 9735, 'umfallerei': 9736, 'durchschlagen': 9737, 'tobias': 9738, 'striegl': 9739, 'plenum': 9740, 'urbanen': 9741, 'galliner': 9742, 'kuerzungen': 9743, 'bundesmittel': 9744, 'filmfestival': 9745, 'unabhaengigen': 9746, 'kurator': 9747, 'fhhffghj': 9748, 'verhandlungen': 9749, 'jahrmarkt': 9750, 'eitelkeiten': 9751, 'kungelrunde': 9752, 'unsoziale': 9753, 'airberlin': 9754, 'wahre': 9755, 'lindtner': 9756, 'bundesrat': 9757, 'mini': 9758, 'aktuellem': 9759, 'steueroase': 9760, 'boeser': 9761, 'steuern': 9762, 'sauerkreatur': 9763, 'angesichts': 9764, 'humaner': 9765, 'in': 9766, 'lesbisch': 9767, 'stadtfest': 9768, 'csdberlin': 9769, 'burghard': 9770, 'volltreffer': 9771, 'pip': 9772, 'fachkraefte': 9773, 'einwandern': 9774, 'gelohnt': 9775, 'eckhardhoeffner': 9776, 'bundeskultur': 9777, 'spezialgesetz': 9778, 'stug': 9779, 'rechtssichere': 9780, 'ihrerer': 9781, 'vaeter': 9782, 'passverschwinden': 9783, 'hotspo': 9784, 'leiste': 9785, 'gluten': 9786, 'insektensterben': 9787, 'klimawandel': 9788, 'koenntest': 9789, 'staates': 9790, 'staatsform': 9791, 'holgerewald1': 9792, 'buergerwehren': 9793, 'reduzie': 9794, '2michi': 9795, 'indiefresse': 9796, 'diepfefferkoerner': 9797, 'staffel': 9798, 'unaufgeregt': 9799, 'liebevoll': 9800, 'zweigeschlechlichkeit': 9801, 'daserste': 9802, 'durchgaengig': 9803, 'summen': 9804, 'unterstellen': 9805, 'policy': 9806, 'polity': 9807, 'bezogen': 9808, 'bzgl': 9809, 'geborener': 9810, 'eidiger': 9811, 'verabsolutierend': 9812, 'assimilie': 9813, 'grundordnung': 9814, 'katarinabarley': 9815, 'raue': 9816, 'sachgerechter': 9817, 'ungefaehrlich': 9818, 'gdpvorsitzender': 9819, 'sollt': 9820, 'kuenftig': 9821, 'fewmaster': 9822, 'unimog': 9823, 'andi': 9824, 'hadmut': 9825, 'belaestigungen': 9826, 'juengste': 9827, 'betrachten': 9828, 'erspar': 9829, 'ausschnitt': 9830, 'praesentiere': 9831, 'beschwere': 9832, 'gierig': 9833, 'hingeschaut': 9834, 'vermeidbar': 9835, 'ansteigenden': 9836, 'moralischer': 9837, 'tacheles': 9838, 'carbon': 9839, 'compound': 9840, 'rasieren': 9841, 'rechtspopulismus': 9842, 'bob': 9843, 'kollege': 9844, 'erzaehlcaf': 9845, 'verbindung': 9846, 'queere': 9847, 'miles': 9848, 'gestalt': 9849, 'anschaue': 9850, 'weihnachtswuensche': 9851, 'erfuellung': 9852, 'dreifaltigen': 9853, 'kokolores': 9854, 'abweicht': 9855, 'erzaehlen': 9856, 'koberind': 9857, 'mdrinfo': 9858, 'theborisbecker': 9859, 'marke': 9860, 'pleitegeier': 9861, 'abstellkammer': 9862, 'astridgeisler': 9863, 'dotie': 9864, 'extremisten': 9865, 'verschont': 9866, 'schlacht': 9867, 'besuchen': 9868, 'freiheitskaempfer': 9869, 'manipulation': 9870, 'sendern': 9871, 'uberwachen': 9872, 'youtube': 9873, 'studierende': 9874, 'pestfloehe': 9875, 'brauchten': 9876, 'pfandflaschen': 9877, 'entsetzt': 9878, 'reife': 9879, 'deutlichsten': 9880, 'gemeinschaft': 9881, 'pedro': 9882, 'arrupe': 9883, 'keks': 9884, 'weihnachts': 9885, 'vorueber': 9886, 'dnebach': 9887, 'selbstversaendlich': 9888, 'zuminest': 9889, 'machtlosigkeit': 9890, 'kriminelles': 9891, 'damasiuspugnax': 9892, 'saetzen': 9893, 'aufgehoe': 9894, 'hori': 9895, 'pdf': 9896, 'erreichbar': 9897, 'zauber': 9898, 'anfangs': 9899, 'meister': 9900, 'eckha': 9901, 'priester': 9902, 'dereinst': 9903, 'liebevolle': 9904, 'msn': 9905, 'hervorragend': 9906, 'bevormunden': 9907, 'abgesetzt': 9908, 'robocopmagic': 9909, 'hotzenploetz': 9910, 'bitteschoen': 9911, 'chr': 9912, 'butterwegge': 9913, 'lichtblick': 9914, 'denniskoerner': 9915, 'durchzieht': 9916, 'grrenzen': 9917, 'blutsaugende': 9918, 'halsschlagader': 9919, 'gedacht': 9920, 'vollverschleierungsverbot': 9921, 'egmr': 9922, 'sensationelles': 9923, 'gaesteliste': 9924, 'renardojoachim': 9925, 'absaegt': 9926, 'sinken': 9927, 'tiefer': 9928, 'weltanschauungen': 9929, 'intoleranz': 9930, 'tschauderzwerg': 9931, 'schauderzwerg': 9932, 'kommentar': 9933, 'beeinflusst': 9934, 'flueke': 9935, 'rasie': 9936, 'varg': 9937, 'veum': 9938, 'staatlichkeit': 9939, 'palaestinas': 9940, 'begruesse': 9941, 'beschuss': 9942, 'zeitungen': 9943, 'westfernsehen': 9944, 'wecken': 9945, 'aktuellen': 9946, 'fluchtbewegungen': 9947, 'hilfsbereitschaft': 9948, 'liebten': 9949, 'parlamentspraesidenten': 9950, 'altmeier': 9951, 'gestapo': 9952, 'ueberwachen': 9953, 'hausarrest': 9954, 'lu': 9955, 'cice': 9956, 'internetseiten': 9957, 'morddrohungen': 9958, 'websites': 9959, 'standgericht': 9960, 'verbrecherregim': 9961, 'spiegel4d': 9962, 'marietta': 9963, 'slomka': 9964, 'journalistin': 9965, 'oezoguz': 9966, 'unfaehig': 9967, 'ueberfluss': 9968, 'landkaufhalina': 9969, 'rotweinjuncker': 9970, 'palaestinensischen': 9971, 'geile': 9972, 'hammer': 9973, 'gleichstellungsbeauftragte': 9974, 'lueders': 9975, 'ads': 9976, 'fruehzeitig': 9977, 'vorzubereiten': 9978, 'schulform': 9979, 'gemeinschaftsschule': 9980, 'gynmasien': 9981, 'hauptschulen': 9982, 'berufsschulen': 9983, 'kollegs': 9984, 'gymnasien': 9985, 'geschwaecht': 9986, 'belogenes': 9987, 'wolfszeit1970': 9988, 'verschaerfung': 9989, 'asylrechts': 9990, 'sebastian': 9991, 'besinnlichen': 9992, 'weihnachtslieder': 9993, 'halse': 9994, 'idiot': 9995, 'befremdet': 9996, 'mihaelhadrian': 9997, 'kirchenvaeter': 9998, 'hieronymus': 9999, 'gregor': 10000, 'nette': 10001, 'fuerwahr': 10002, 'maersche': 10003, 'symboliken': 10004, 'vollkommn': 10005, 'unsinnig': 10006, 'bittet': 10007, 'dag': 10008, 'hammarskjoeld': 10009, 'beteiligten': 10010, 'palis': 10011, 'nelly': 10012, 'sachs': 10013, 'explitzit': 10014, 'wahljahr': 10015, 'agh': 10016, 'soz': 10017, 'mieten': 10018, 'gentrifizierung': 10019, 'izipation': 10020, 'lut': 10021, 'michaelfuchsr': 10022, 'familienrueckflug': 10023, 'rueckflug': 10024, 'vorschalg': 10025, 'amarienbad': 10026, 'weltsichtig': 10027, 'unterschlaegt': 10028, 'uckermark': 10029, 'beanie': 10030, 'angezeigt': 10031, 'tweetet': 10032, 'eliyahhavemann': 10033, 'rsl99': 10034, 'jdn': 10035, 'chm': 10036, 'umfeld': 10037, 'lok': 10038, 'bsg': 10039, 'ostern': 10040, 'resettlement': 10041, '93': 10042, 'verfuegbare': 10043, 'plaetze': 10044, 'merkelmussgehen': 10045, 'asylantenwahsinn': 10046, 'ich60': 10047, '0000': 10048, 'musste': 10049, 'stiefmutter': 10050, 'haeslii': 10051, 'natalierickli': 10052, 'verbale': 10053, 'ausstrahlung': 10054, 'verschoben': 10055, 'franzoseder': 10056, 'iranische': 10057, 'interpretation': 10058, 'verstoesst': 10059, 'kampsabine': 10060, 'cogat': 10061, 'idfonline': 10062, 'rosnersdomain': 10063, 'nytimes': 10064, 'personalien': 10065, 'siedler': 10066, 'vandalismus': 10067, 'chat': 10068, 'atkins': 10069, 'pilz': 10070, 'listepilz': 10071, 'ainyrockstar': 10072, 'sitze': 10073, 'hinterfotziger': 10074, 'muselwahn': 10075, 'siegstyle': 10076, 'verwerflich': 10077, 'dienerschaft': 10078, 'klischee': 10079, 'homos': 10080, 'sichtbarer': 10081, 'falle': 10082, 'friday': 10083, 'personelle': 10084, 'neunaufzustellen': 10085, 'einmal': 10086, 'ethische': 10087, 'omis': 10088, 'weckt': 10089, 'sitzungstag': 10090, 'synodale': 10091, 'filitz': 10092, 'andacht': 10093, 'aufregt': 10094, 'begruessen': 10095, 'aussageabsicht': 10096, 'katholische': 10097, 'fundamentalistische': 10098, 'bibelauslegung': 10099, 'heilsgeschichte': 10100, 'termin': 10101, 'planen': 10102, 'langfristig': 10103, 'st': 10104, 'verhoehnen': 10105, 'enmoerder': 10106, 'bomben': 10107, 'hc': 10108, 'vedammten': 10109, 'bedeutsame': 10110, 'hmmm': 10111, 'quietschen': 10112, 'bearbeite': 10113, 'buendnis90diegruenen': 10114, 'haengst': 10115, 'scheinst': 10116, 'ansagen': 10117, 'konjunkturen': 10118, 'aufgabe': 10119, 'krawalle': 10120, 'herausgekommen': 10121, 'rechnet': 10122, 'boshaftigkeit': 10123, '54': 10124, 'luege': 10125, 'kenntkein': 10126, 'phuuuu': 10127, 'montage': 10128, 'angreifer': 10129, 'einebeln': 10130, 'gefaehrliche': 10131, 'einrevoluzzer': 10132, 'desatuere': 10133, 'fettes': 10134, 'undsonst1975': 10135, 'pst': 10136, 'rheinseite': 10137, 'umgepflanzt': 10138, 'wegnehmen': 10139, 'tl': 10140, 'kjarrigan': 10141, 'betrittsverhandlungen': 10142, 'erforde': 10143, 'macron': 10144, 'attac': 10145, 'tobin': 10146, 'schaeffler': 10147, 'afrikanische': 10148, 'unterentwicklung': 10149, 'kleinreden': 10150, 'migrantische': 10151, 'alibi': 10152, 'hinteren': 10153, 'listenplaetzen': 10154, 'platzieren': 10155, 'siwiarchiv': 10156, 'ausformung': 10157, 'zusage': 10158, 'verschlechtern': 10159, 'politikwelt': 10160, 'demonstrationen': 10161, 'lieblingsreligion': 10162, 'sissyzk': 10163, 'erdscheiblette': 10164, 'verlotte': 10165, 'nordbirke': 10166, 'wunderbare': 10167, 'birken': 10168, 'auslachen': 10169, '781johnny': 10170, 'arbeitnehmer': 10171, 'fristlos': 10172, 'kuendigen': 10173, 'lto': 10174, 'interessieren': 10175, 'auswirkung': 10176, 'richters': 10177, 'verhandlung': 10178, 'kreuzes': 10179, 'heiliger': 10180, 'stiften': 10181, 'gegensaetze': 10182, 'aufeinanderprallen': 10183, 'widerschein': 10184, 'erbarmens': 10185, 'frere': 10186, 'roger': 10187, 'skandaloes': 10188, 'tho': 10189, 'rie': 10190, 'incl': 10191, 'straffaelligkeiten': 10192, 'seitens': 10193, 'abzuschiebenden': 10194, 'hirnlose': 10195, 'lirogruen': 10196, 'koalitionsgespraechen': 10197, 'goodbye': 10198, 'sho': 10199, 'ymatic': 10200, 'orschloch': 10201, 'gebadet': 10202, 'gefressen': 10203, 'taumelt': 10204, 'maltraetie': 10205, 'postmodernismus': 10206, 'suggerieren': 10207, 'geheimdienst': 10208, 'steckte': 10209, 'zufaellig': 10210, 'unterschiedliche': 10211, 'voreiligen': 10212, 'schlussfolgerungen': 10213, 'anhoerung': 10214, 'schaechtverbot': 10215, 'juedischen': 10216, 'zusammengehen': 10217, 'ehebruch': 10218, 'apostasie': 10219, 'konform': 10220, 'jane71z': 10221, 'eilhaft': 10222, 'selektiv': 10223, 'steue': 10224, 'reinlaesst': 10225, 'pr0fessor': 10226, 'anzusprechen': 10227, 'kriminalisieren': 10228, 'stigmatisieren': 10229, 'scheiden': 10230, 'ueberragenden': 10231, 'grossem': 10232, 'hauptgruende': 10233, 'weiblicher': 10234, 'verhuetungsmittel': 10235, 'moderation': 10236, 'abgewuergt': 10237, 'schlussrunde': 10238, 'reiseliste': 10239, 'reiseziele': 10240, 'anbiede': 10241, 'gerad': 10242, 'schlauch': 10243, 'lueg': 10244, 'ernstnehmen': 10245, 'verschleudere': 10246, 'angeblich': 10247, 'vorhandenes': 10248, 'gebiet': 10249, 'orb': 10250, 'erlass': 10251, 'einstweilige': 10252, 'cyberdoc60': 10253, 'rechtsextrem': 10254, 'strukturierst': 10255, 'gesamtes': 10256, 'outspoken': 10257, 'pragmatisch': 10258, 'offbeat24': 10259, 'obs': 10260, 'speichellecker': 10261, 'totalen': 10262, 'missstaenden': 10263, 'kapiere': 10264, 'diaeter': 10265, 'loesen': 10266, 'identifizieren': 10267, 'hilfreich': 10268, 'angeblichen': 10269, 'cosmos4u': 10270, 'saxoniagerd': 10271, 'astroholl': 10272, 'untrennbarer': 10273, 'michaelefler': 10274, 'sedler': 10275, 'woernmuc': 10276, 'hochrein': 10277, 'applaudie': 10278, 'fahrgaeste': 10279, 'georgd63': 10280, 'antideutsche': 10281, 'zumutung': 10282, 'archiv': 10283, 'scanner': 10284, 'scantechnologie': 10285, 'automatisie': 10286, 'schnipsel': 10287, 'ausgereift': 10288, 'zt': 10289, 'pause': 10290, 'rekonstruie': 10291, 'mitschwester': 10292, 'foederationsversammlung': 10293, 'karmelitinnen': 10294, 'muensterschwarzach': 10295, 'danielfreyger': 10296, 'derbeheimatete': 10297, 'arbeitskreis': 10298, 'ohmmmm': 10299, 'drecksislam': 10300, 'kindergae': 10301, 'zelten': 10302, 'abseits': 10303, 'australien': 10304, 'empholen': 10305, 'jemals': 10306, 'wahlentscheidung': 10307, 'ueberreaktion': 10308, 'nachrichtenagentur': 10309, 'reuter': 10310, 'fass': 10311, 'platzen': 10312, 'frohe': 10313, 'gesegnete': 10314, 'rausausdemkabinett': 10315, 'arroganz': 10316, 'demokratieverweigerung': 10317, 'waehlerwillen': 10318, 'wohnen': 10319, 'qualitaetsjournalisten': 10320, 'agieren': 10321, 'lest': 10322, 'ostkuestensklaven': 10323, 'lars': 10324, 'tspd': 10325, 'pay': 10326, 'gap': 10327, 'schwach': 10328, 'beer': 10329, 'verstand': 10330, 'laschet': 10331, 'ausstieg': 10332, '68er': 10333, 'lagern': 10334, 'stefan': 10335, 'beschaemt': 10336, 'angelogen': 10337, 'befehlshaber': 10338, 'lv': 10339, 'widerspruch': 10340, 'fruchtlos': 10341, 'verhaeltnis': 10342, 'pochen': 10343, 'besuchsrecht': 10344, 'weitergehen': 10345, 'enten': 10346, 'herausfinden': 10347, 'geschehen': 10348, 'unschuldsvermutung': 10349, 'polizeirevier': 10350, 'klatschpa': 10351, 'bejaht': 10352, 'lach': 10353, 'verneint': 10354, 'austritt': 10355, 'germane': 10356, 'unvorstellbar': 10357, 'fridolinpsp': 10358, 'lehnst': 10359, 'fraeulein': 10360, 'tessa': 10361, 'mittwoch': 10362, 'kalender': 10363, '1950': 10364, '1960ern': 10365, 'diaa': 10366, 'abdullah': 10367, 'jaka': 10368, 'reh': 10369, 'geschichtsklitterung': 10370, 'egoistischer': 10371, 'agrar': 10372, 'csucdu': 10373, 'mehrgeld': 10374, 'werwoelfe': 10375, 'aeusse': 10376, 'spezial': 10377, 'unterkunft': 10378, 'rk': 10379, 'einzahlen': 10380, 'einstigen': 10381, 'hinfuehren': 10382, '66': 10383, 'enkel': 10384, 'goettlich': 10385, 'esther': 10386, 'mitgezaehlt': 10387, 'livasommar': 10388, 'missschmaguelze': 10389, 'kaktusimgesicht': 10390, 'joggt': 10391, 'gespraechskreises': 10392, 'bodyguards': 10393, 'cerd': 10394, 'verpflichtende': 10395, 'weiterbildungsmassnahmen': 10396, 'staatsanwaelt': 10397, 'konstanten': 10398, 'hinweg': 10399, 'lichte': 10400, 'ueberliefe': 10401, 'riten': 10402, 'lucian': 10403, 'hoelscher': 10404, 'attentat': 10405, 'abscheulich': 10406, 'angreift': 10407, 'greift': 10408, 'genesung': 10409, 'erzaehlerin': 10410, 'feministisches': 10411, 'souveraen': 10412, 'netzdg': 10413, 'kooperation': 10414, 'retenen': 10415, 'abstrakter': 10416, 'normenkontrollklage': 10417, 'vorzulegen': 10418, 'parlamentarier': 10419, 'galt': 10420, 'annullie': 10421, 'geschieden': 10422, 'rude': 10423, 'chefredakteurin': 10424, 'sensibleren': 10425, 'sprachgenau': 10426, 'muenchner': 10427, 'vittel': 10428, 'irina': 10429, 'geeh': 10430, 'heiss': 10431, 'bestand': 10432, 'maechtigen': 10433, 'saemtl': 10434, 'ind': 10435, 'einzieht': 10436, 'unzuverlaessiger': 10437, 'bestaendige': 10438, 'therapiesitzung': 10439, 'sack': 10440, 'gesundheitseinrichtungen': 10441, 'betrieb': 10442, 'akuter': 10443, 'aerztemangel': 10444, 'grossmaul': 10445, '2030': 10446, 'benzinmotor': 10447, 'monstersandmen': 10448, 'mammutband': 10449, 'technik': 10450, 'gleichgueltigkeit': 10451, 'ignoranz': 10452, 'gefaehrlichsten': 10453, 'rechtschreibkorrektur': 10454, 'gesandt': 10455, 'assisi': 10456, 'toleranter': 10457, 'masseneinwanderung': 10458, 'saekularisieren': 10459, 'bekannten': 10460, 'staatenlosen': 10461, 'bevoelkerungsgruppen': 10462, 'bereiten': 10463, 'einzuteilen': 10464, 'lebenswe': 10465, 'nfskiberlin': 10466, 'mica4711': 10467, 'merdeux': 10468, 'efdlan': 10469, 'chris': 10470, '98763': 10471, 'trollkotze99': 10472, 'zwetschgenmandi': 10473, 'thedragonslaw': 10474, 'exit': 10475, 'laos': 10476, '1999wilbur': 10477, 'giedtpeter900': 10478, 'nureinschatten': 10479, 'brigadoomde': 10480, 'hebihebiheb': 10481, 'littlej07059497': 10482, 'schneideru18': 10483, 'norbinator2403': 10484, 'yuma': 10485, 'lein': 10486, 'matrixgofire': 10487, 'istanbul': 10488, 'themes': 10489, 'merksatz': 10490, 'duzt': 10491, 'starken': 10492, 'gegnspam': 10493, 'dutzend': 10494, 'pirateneintritt': 10495, 'waz': 10496, '41': 10497, 'gekuendigt': 10498, 'einseitige': 10499, 'berichte': 10500, 'attung': 10501, 'r67': 10502, 'h4': 10503, 'uam': 10504, 'unternehmer': 10505, 'jeeeee': 10506, 'bushman': 10507, 'mcscrub': 10508, 'petrapebs': 10509, 'markusalbrech16': 10510, 'dick': 10511, 'korrelie': 10512, 'hoechstes': 10513, 'tiggena': 10514, 'sexistische': 10515, 'belohnen': 10516, 'selbe': 10517, 'einstieg': 10518, 'herbstritt': 10519, 'spionage': 10520, 'gutachten': 10521, 'mitteilte': 10522, 'fahrzeug': 10523, 'fussgaenger': 10524, 'fahrradweg': 10525, 'gerammt': 10526, 'staerkung': 10527, 'frauenquote': 10528, 'quotenfrau': 10529, 'anstoessig': 10530, 'aussenministern': 10531, 'grundgesetzt': 10532, 'market': 10533, 'fool': 10534, 'schaebiger': 10535, 'lump': 10536, 'fahnenflucht': 10537, 'evermittlung': 10538, 'geschue': 10539, 'vasteh': 10540, 'nua': 10541, 'halb': 10542, 'cradle': 10543, 'beurkunden': 10544, 'industrielle': 10545, 'angeprange': 10546, 'trinkwasser': 10547, 'trinkbar': 10548, 'wg12307': 10549, 'friedliebend': 10550, 'vervollstaendigen': 10551, 'abhaengen': 10552, 'decker': 10553, 'gewaessern': 10554, 'feiner': 10555, 'hassmoscheen': 10556, 'dschihad': 10557, 'verherrlichen': 10558, 'verbote': 10559, 'ausnahme': 10560, 'berlincore': 10561, 'chillensiemalnbisschen': 10562, 'autoritaeres': 10563, 'islamisches': 10564, 'beibringt': 10565, 'kinderschaender': 10566, 'oto': 10567, 'severinweiland': 10568, 'volksvoraeda': 10569, 'lechzen': 10570, 'serioese': 10571, 'aufarbeitung': 10572, 'prozesse': 10573, 'legitim': 10574, 'nixnebelkerze': 10575, 'mei': 10576, 'men': 10577, 'going': 10578, 'their': 10579, 'own': 10580, 'way': 10581, 'hamburgonline': 10582, 'leerstehende': 10583, 'wohnungen': 10584, 'wgschaften': 10585, 'nachbarn': 10586, 'fokussierung': 10587, 'zeitgemaess': 10588, 'iefen': 10589, 'fietzke': 10590, 'vich': 10591, 'formen': 10592, 'fangenspielen': 10593, 'pott': 10594, 'rueckzugsraum': 10595, 'unangreifbarkeit': 10596, 'anhaltender': 10597, 'repression': 10598, 'waffe': 10599, 'sosse': 10600, 'antatschen': 10601, 'einheimische': 10602, 'feminazis': 10603, 'gemassregelt': 10604, 'henry': 10605, 'newmann': 10606, 'boraetlabora': 10607, 'georgius': 10608, 'bach': 10609, 'vaniredfox': 10610, 'zank': 10611, 'hausgemeinde': 10612, 'pers': 10613, 'zusammenhalt': 10614, 'besetzt': 10615, 'uwekleine': 10616, 'grosszuegige': 10617, 'key': 10618, 'boarder': 10619, 'kai': 10620, 'scheide': 10621, 'boehmermanns': 10622, 'versifftes': 10623, 'autoren': 10624, 'nagelbombenanschlag': 10625, 'scheite': 10626, 'zwoelfjaehrigen': 10627, 'gebastelten': 10628, 'sprengsatz': 10629, 'zuenden': 10630, 'niki': 10631, 'lauda': 10632, 'mercedes': 10633, 'feed': 10634, '1400': 10635, '500': 10636, 'followern': 10637, 'impressionen': 10638, 'nwo': 10639, 'schlange': 10640, 'hinterhaeltig': 10641, 'blockade': 10642, 'respektwaehlen': 10643, 'genaue': 10644, 'analysen': 10645, 'rhetoriken': 10646, 'strategien': 10647, 'entlarvt': 10648, 'gefaehrlichkeit': 10649, 'freundliche': 10650, 'maske': 10651, 'abgezogen': 10652, 'klage': 10653, 'petrakelly': 10654, 'danken': 10655, 'finanz': 10656, 'knueller': 10657, 'ausgegraben': 10658, 'siehts': 10659, 'akte': 10660, 'briefmarke': 10661, 'prost': 10662, 'berlindirekt': 10663, 'bmjv': 10664, 'einizg': 10665, 'gesuelze': 10666, 'gaffer': 10667, 'butter': 10668, 'brot': 10669, 'bo': 10670, 'aufloest': 10671, 'verwestlicht': 10672, 'etlichen': 10673, 'tipp': 10674, 'christlich': 10675, 'amtseid': 10676, 'geschworen': 10677, 'personalausweis': 10678, 'beantragen': 10679, 'papiere': 10680, 'geduldet': 10681, 'behandlung': 10682, 'darstellung': 10683, 'ueberzogen': 10684, 'rechtsextreme': 10685, 'milieu': 10686, 'thematisie': 10687, 'bescheidenheit': 10688, 'erbrachte': 10689, 'relation': 10690, 'leistungsfaehigkeit': 10691, 'zorras': 10692, 'goettin': 10693, 'ihaveahunger': 10694, 'bunnyfield': 10695, 'fricarfri': 10696, 'petracyber': 10697, 'typo3': 10698, 'hintern': 10699, 'kresszwitscher': 10700, 'anjareschke1': 10701, 'barbarahans': 10702, 'hinrichs': 10703, 'akolbusa': 10704, 'journalistisch': 10705, 'komplexitaet': 10706, 'vereinfacher': 10707, 'fruchtbaren': 10708, 'boden': 10709, 'gunterseife': 10710, 'hansalbers6': 10711, 'dieses': 10712, 'ekelt': 10713, 'ausgetraeumten': 10714, 'marxistischen': 10715, 'atombomben': 10716, 'niedrig': 10717, 'aktuellenstunde': 10718, 'am': 10719, 'zentra': 10720, 'lafrika': 10721, 'frey': 10722, 'menschenfeindlichkeit': 10723, 'kollegen': 10724, 'unnachgiebig': 10725, 'knacken': 10726, 'eingeloggt': 10727, 'ruinieren': 10728, 'aufkommen': 10729, 'gernder': 10730, 'gay': 10731, 'niveauloser': 10732, 'bereichern': 10733, 'slow': 10734, 'verletzungen': 10735, 'nichtweisse': 10736, 'bad': 10737, 'luck': 10738, 'stephanjbauer': 10739, 'verkehrsunfalls': 10740, 'schuettel': 10741, 'spinnt': 10742, 'stern': 10743, 'aufmachte': 10744, 'bischof': 10745, 'hemmerle': 10746, 'erstes': 10747, 'haesslichen': 10748, 'toller': 10749, 'weestedoch': 10750, 'aeter': 10751, 'nigger': 10752, 'nigerianer': 10753, 'abgestochen': 10754, 'gelesene': 10755, 'deckt': 10756, 'biblisches': 10757, 'weggelassen': 10758, 'hinzugefuegt': 10759, 'monokultur': 10760, 'mono': 10761, 'spanisches': 10762, 'affe': 10763, 'friseur': 10764, 'schicker': 10765, 'anbetung': 10766, 'intensivieren': 10767, 'ausgangslaendern': 10768, 'barbie': 10769, 'paedos': 10770, 'voelkerbundmandat': 10771, 'teilungsplan': 10772, 'karllagerfeld': 10773, 'knaeckebrot': 10774, 'doppelanschlag': 10775, 'bagdad': 10776, 'klingbeil': 10777, 'waehlern': 10778, 'meiden': 10779, 'hinzerzimmern': 10780, 'kneipen': 10781, 'infostaenden': 10782, 'allesadventure': 10783, '31': 10784, 'benedikts': 10785, 'entstammt': 10786, 'festschrift': 10787, 'sieh': 10788, 'bestaendig': 10789, 'aktion': 10790, 'mahatma': 10791, 'gandhi': 10792, 'planetsafer': 10793, 'implizieren': 10794, 'apa': 10795, 'heid': 10796, 'einfaches': 10797, 'kleidungsstueck': 10798, 'rehabilitierung': 10799, 'offizielle': 10800, 'eingestaendnis': 10801, 'demokratisches': 10802, 'menschenrechtsverletzungen': 10803, 'beging': 10804, 'billigen': 10805, 'phrasen': 10806, 'zum': 10807, 'macpromastek': 10808, 'saschalitvin': 10809, 'verheerenden': 10810, 'unterschiede': 10811, 'skandinaviern': 10812, 'aborigines': 10813, 'territoriale': 10814, 'verbreitung': 10815, 'einstufung': 10816, 'inkompetenz': 10817, 'provokationen': 10818, 'verschleiern': 10819, 'wuerdelos': 10820, 'sandrasigel': 10821, 'loveparade': 10822, 'aussenseiter': 10823, 'forum': 10824, 'geboten': 10825, 'sprachfehler': 10826, 'gemeinsamkeiten': 10827, 'zensurkontrolle': 10828, 'meinungs': 10829, 'versammlungsfreiheit': 10830, 'optische': 10831, 'marin': 10832, 'haesslicherer': 10833, 'jene': 10834, 'tragische': 10835, 'einsetzt': 10836, 'potenziell': 10837, 'harald': 10838, 'georgii': 10839, 'instituts': 10840, 'soviele': 10841, 'anwerben': 10842, 'auftragen': 10843, 'make': 10844, 'up': 10845, 'herauszuputzen': 10846, 'allianz': 10847, 'ausgeschlossen': 10848, 'babies': 10849, 'libanon': 10850, 'neugeborenen': 10851, 'intensivpflege': 10852, 'sichergestellt': 10853, 'studienabbrecherin': 10854, 'engel': 10855, 'beherbergt': 10856, 'hebr': 10857, 'katjabzaich': 10858, 'apfelzweig': 10859, 'kastrieren': 10860, 'stinkende': 10861, 'saekularem': 10862, 'sub': 10863, 'specie': 10864, 'aeternitatis': 10865, 'universalen': 10866, 'grassierenden': 10867, 'kontrapunkt': 10868, 'koestlich': 10869, 'komoediant': 10870, 'nachgedacht': 10871, 'sarkasmus': 10872, 'empfehlen': 10873, 'schwindet': 10874, 'feigen': 10875, 'ttrwttr': 10876, 'themrrroc': 10877, 'abwechslung': 10878, 'scheuklappen': 10879, 'wichsvorlageni': 10880, 'dialektik': 10881, 'vergesslich': 10882, 'skandale': 10883, 'murks': 10884, 'off': 10885, 'widerhole': 10886, 'salafistenmoscheen': 10887, 'strenge': 10888, 'kontrollen': 10889, 'tendenzen': 10890, 'vorbeugen': 10891, 'empfinden': 10892, 'anmassend': 10893, 'zuvorkommendes': 10894, 'kindesbeinen': 10895, 'lese': 10896, 'kommentatoren': 10897, 'abbau': 10898, 'dominiquehber': 10899, 'abgefucktespd': 10900, 'mitverursacht': 10901, 'geschlechterrollen': 10902, 'aufbrechen': 10903, 'absprechen': 10904, 'helalbeauty': 10905, 'prinzipiell': 10906, 'disziplin': 10907, '2001': 10908, 'alexneuber': 10909, 'weseler': 10910, 'kriterium': 10911, 'uebergriffe': 10912, 'hach': 10913, 'ochs': 10914, 'la': 10915, 'biennale': 10916, 'marianne': 10917, 'bi': 10918, 'hler': 10919, '2011': 10920, 'bundesbeauftragte': 10921, 'mobilisie': 10922, 'peinlichkeit': 10923, 'bildschirm': 10924, 'ursursen': 10925, 'abschalten': 10926, 'paulroegler': 10927, 'tomahrweiler': 10928, 'conny': 10929, 'judentun': 10930, 'kippe': 10931, 'anblick': 10932, 'erschuette': 10933, 'einzug': 10934, 'schaufenstern': 10935, 'glotzen': 10936, 'offensichtliche': 10937, 'behagt': 10938, 'fruehjahr': 10939, 'publikation': 10940, 'verfuegbar': 10941, 'manuskript': 10942, 'stichtagsregelung': 10943, 'dekt17': 10944, 'erneuten': 10945, 'koalitionpa': 10946, 'taxreform': 10947, 'massive': 10948, 'gigantische': 10949, 'schulden': 10950, 'herum': 10951, 'gerechterwerden': 10952, 'verwandtschaft': 10953, 'trennen': 10954, 'anstrengend': 10955, 'populismus': 10956, 'wahn': 10957, 'erfinden': 10958, 'tnnmagazine': 10959, 'dummkopf': 10960, 'hinreissen': 10961, 'zdfspezial': 10962, 'nachzulesen': 10963, 'unter': 10964, 'willkuer': 10965, 'amter': 10966, 'vorgeschlagen': 10967, 'darmblaehungen': 10968, 'ibiebs1dcookie': 10969, 'hey': 10970, 'machs': 10971, 'kreische': 10972, 'krisengebiet': 10973, '360': 10974, 'pakistanische': 10975, 'behoerden': 10976, 'zurueckzukehren': 10977, 'umfrageergebnisse': 10978, 'stimmungsmacher': 10979, 'erfolge': 10980, 'rentenfrage': 10981, 'garant': 10982, 'kongo': 10983, 'diamanten': 10984, 'korrupte': 10985, 'einwohner': 10986, 'aufgebaut': 10987, 'sonstige': 10988, 'zeitgeist': 10989, 'ausschweifende': 10990, 'westl': 10991, 'geseschaft': 10992, 'sensibilitaet': 10993, 'beduerfnisse': 10994, 'gefluechteter': 10995, 'bereichen': 10996, 'engagements': 10997, 'lebensbedingungen': 10998, 'gefluechtet': 10999, 'dieterbrehms': 11000, 'bmw': 11001, 'hmm': 11002, 'wm': 11003, 'spassig': 11004, 'identifizie': 11005, 'lesbischer': 11006, 'transe': 11007, 'backen': 11008, 'reparieren': 11009, 'laune': 11010, 'johannesvogel': 11011, 'fairen': 11012, 'spielregeln': 11013, 'merkste': 11014, 'wegputschen': 11015, 'neujahrsgruesse': 11016, 'uh': 11017, 'begleiten': 11018, 'mlp': 11019, 'officiel': 11020, 'verwandt': 11021, 'madeluxxe': 11022, 'wutzwilly': 11023, 'siegfriedricht5': 11024, '1984': 11025, 'wahlplakaten': 11026, 'begann': 11027, 'drink': 11028, 'spendie': 11029, 'este': 11030, 'volksverraete': 11031, 'entsprechend': 11032, 'evetiger': 11033, 'leidlich': 11034, 'sicheren': 11035, 'beschreiben': 11036, 'wasch': 11037, 'pelz': 11038, 'nass': 11039, 'foerster': 11040, 'hinterkopf': 11041, 'rechnergestuetzt': 11042, 'bedienung': 11043, 'hallenpd': 11044, 'verdammte': 11045, 'merkelregierung': 11046, 'fasern': 11047, 'seins': 11048, 'tuns': 11049, 'wuenschens': 11050, 'gelangt': 11051, 'tiefsten': 11052, 'lehnt': 11053, 'jeweiligen': 11054, 'aufenthaltsstatus': 11055, 'adaequaten': 11056, 'gesundheitsversorgung': 11057, 'klang': 11058, 'edler': 11059, 'entschu': 11060, 'digt': 11061, 'satrape': 11062, 'besatzung': 11063, 'frauenkram': 11064, 'laber': 11065, 'durfte': 11066, 'jahrelange': 11067, 'anmelder': 11068, 'quds': 11069, 'marsches': 11070, 'gewaltverbrechen': 11071, 'vieles': 11072, 'lebensstil': 11073, 'aufm': 11074, 'katastrophe': 11075, 'rumaenien': 11076, 'qualufizie': 11077, 'diejenige': 11078, 'trauerfaellen': 11079, 'fratze': 11080, 'sittliche': 11081, '68ern': 11082, 'videobotschaften': 11083, 'stufe': 11084, 'videos': 11085, 'verherrlicht': 11086, 'spdfrauen': 11087, 'riesenunterschied': 11088, 'atheistenstaat': 11089, 'zwangs': 11090, 'entwurzelung': 11091, 'glaeubigen': 11092, 'religiositaet': 11093, 'abgrenzen': 11094, 'mitwirkung': 11095, 'des': 11096, 'derjenigen': 11097, 'offenengesellschaft': 11098, 'schinkel': 11099, 'ib': 11100, 'trauer': 11101, 'tattooforaweek': 11102, 'taetowieren': 11103, 'scheusslich': 11104, 'daemonenhaft': 11105, 'sprachlos': 11106, 'air': 11107, 'bedeutungslosigkeit': 11108, 'berndlucke': 11109, 'ltwnds': 11110, 'ltw17': 11111, 'schwarzfuss': 11112, 'raketenlurch': 11113, 'entwicklungsland': 11114, 'jenspressh': 11115, 'breitscheidtplatz': 11116, 'gesammten': 11117, 'keiner': 11118, 'krisenzeiten': 11119, 'grundlegende': 11120, 'rechtsstaatl': 11121, 'gesiche': 11122, 'migrationsbuero': 11123, 'vatikan': 11124, 'rsection': 11125, 'perve': 11126, 'ierung': 11127, 'beinhaltet': 11128, 'unmoralisch': 11129, 'grundschueler': 11130, 'aushagen': 11131, 'gruftipower': 11132, 'gewissenlos': 11133, 'gottlos': 11134, 'westbindung': 11135, 'fundament': 11136, 'provisorium': 11137, 'toetung': 11138, 'eintreten': 11139, 'mitarbeiten': 11140, 'mitentscheiden': 11141, 'zuzusehen': 11142, 'trauriger': 11143, 'weine': 11144, 'deutschistan': 11145, 'traene': 11146, 'abziehen': 11147, 'ruestungsexpo': 11148, 'zurechnungsfaehig': 11149, 'fluechtlingsschutz': 11150, 'ergaenzende': 11151, 'verwirklichen': 11152, 'ungeheuerlichen': 11153, 'hoffend': 11154, 'liebend': 11155, 'betend': 11156, 'unbegreiflichkeit': 11157, 'bergenden': 11158, 'entgegenzugehen': 11159, 'rahner': 11160, 'baeume': 11161, 'aufzuhaengen': 11162, 'quotierung': 11163, 'gespalten': 11164, 'gegeneinander': 11165, 'aufgehetzt': 11166, 'smsteinitz': 11167, 'echauffieren': 11168, 'hysterischem': 11169, 'jekelanke': 11170, 'amtszeit': 11171, 'geschlechtschromosomen': 11172, 'fakdberlin': 11173, 'nikolaus': 11174, 'ehem': 11175, 'ratsvorsitzender': 11176, 'hielt': 11177, 'verbrecherorga': 11178, 'isation': 11179, 'knutsche': 11180, 'gaehnst': 11181, 'ueberangebot': 11182, 'lenchon': 11183, 'jlm2017': 11184, 'duisburg': 11185, 'klingt': 11186, 'ruhrpott': 11187, 'qual': 11188, 'kwgberlin': 11189, 'verwechseln': 11190, 'homophobie': 11191, 'kuscheln': 11192, 'forschungsgruppe': 11193, 'bluehe': 11194, 'gepflanzt': 11195, 'sales': 11196, 'anfangsphase': 11197, 'schandmaeulern': 11198, 'dummgenosse': 11199, 'geilt': 11200, 'helferinnen': 11201, 'herausragende': 11202, 'erdenklichen': 11203, 'bremse': 11204, 'technologien': 11205, 'gewinne': 11206, 'haengen': 11207, 'atomwaffen': 11208, 'geb': 11209, 'gewuenscht': 11210, 'bremst': 11211, 'jan': 11212, 'ni': 11213, 'mdrextra': 11214, 'jahn': 11215, 'mitverantwo': 11216, 'ermunte': 11217, 'chemikalien': 11218, 'verfolgten': 11219, 'schauprozesse': 11220, 'gazetecilereoezguerluek': 11221, 'cumhuriyetgzt': 11222, 'drecksau': 11223, 'schmerzen': 11224, 'praeambel': 11225, 'ethisch': 11226, 'redete': 11227, 'kreist': 11228, 'gedanklich': 11229, 'bauernhof': 11230, 'mecklenburg': 11231, 'vorpommern': 11232, 'ungeeignet': 11233, 'aufstrebende': 11234, 'industrienationen': 11235, 'steigendem': 11236, 'chanukka': 11237, 'feierlichkeiten': 11238, 'jahreswechsel': 11239, 'zeige': 11240, 'mechanismen': 11241, 'toxischer': 11242, 'schaftde': 11243, 'vegetarisch': 11244, 'haessliche': 11245, 'jamaikakoalition': 11246, 'ergreife': 11247, 'anrueh': 11248, 'absoluten': 11249, 'geborgenheit': 11250, 'edith': 11251, 'radikaler': 11252, 'realistischerweise': 11253, 'erringen': 11254, 'moderaten': 11255, 'veraendern': 11256, 'einzuschuechtern': 11257, 'demoralisieren': 11258, 'kalkuel': 11259, 'aufgehen': 11260, 'manns': 11261, 'funke': 11262, 'hochzeit': 11263, 'insolvent': 11264, 'klappt': 11265, 'sims4': 11266, 'traummann': 11267, 'gebacken': 11268, 'binaeren': 11269, 'ausrede': 11270, 'unantastbar': 11271, 'teampetrapau': 11272, 'gedenkstunde': 11273, 'einaehe': 11274, 'sekundaer': 11275, 'eiloser': 11276, 'wechselwaehler': 11277, 'katechismus': 11278, 'messbuch': 11279, 'kreuzzeichen': 11280, 'allererste': 11281, 'hasselloff': 11282, 'kiraseidel': 11283, 'typische': 11284, 'gepaa': 11285, 'dreisten': 11286, 'weils': 11287, 'undenkbar': 11288, 'miezekatzen': 11289, 'behauptung': 11290, 'einschraenken': 11291, 'goldaufweiss': 11292, 'interessiere': 11293, 'konntest': 11294, 'zufriedenstellende': 11295, 'spannende': 11296, 'konstruktive': 11297, 'it': 11298, 'poothverona': 11299, 'schlauchboot': 11300, 'halloween': 11301, 'ausdenkt': 11302, 'biologisch': 11303, 'determinie': 11304, 'abweichung': 11305, 'asylantenschmarotzer': 11306, 'stirbt': 11307, 'sissis': 11308, 'nationalfrager': 11309, 'furchtbare': 11310, 'mitgefuehl': 11311, 'glubbdidi': 11312, 'schreien': 11313, 'jugendlichen': 11314, 'erzitte': 11315, 'weint': 11316, 'erlebnis': 11317, 'breiter': 11318, 'denis': 11319, 'cuspe': 11320, 'deso': 11321, 'dogg': 11322, 'hizbollah': 11323, 'auftrat': 11324, 'zog': 11325, 'fahnen': 11326, 'wess': 11327, 'terrororganisation': 11328, 'einverstanden': 11329, 'cookies': 11330, 'hhumorlos': 11331, 'foetzchen': 11332, 'gefickt': 11333, 'sehsuechtig': 11334, 'talkrunde': 11335, 'sassen': 11336, 'gegie': 11337, 'stellst': 11338, 'aberglauben': 11339, 'jedweden': 11340, 'befinden': 11341, 'trend': 11342, 'stadtbewohnern': 11343, 'entfremdet': 11344, 'folgendessen': 11345, 'idealisieren': 11346, 'eindrucksvoll': 11347, 'raetselhaft': 11348, 'moegliche': 11349, 'schicksalsschlag': 11350, 'erkrankung': 11351, 'interessanterweise': 11352, 'politikerin': 11353, 'leubecherx': 11354, 'leubecher': 11355, 'vermerkt': 11356, 'infos': 11357, 'kriminalwissenschaftler': 11358, 'pfeiffer': 11359, 'geleiteten': 11360, 'ursachen': 11361, 'zuwanderkriminalitaet': 11362, 'stammen': 11363, 'vermerken': 11364, 'nbardeff': 11365, 'vorgeworfen': 11366, 'versteckten': 11367, 'komponenten': 11368, 'gonosomen': 11369, 'geschlechtshormone': 11370, 'yorker': 11371, 'stadtteil': 11372, 'kleinlasters': 11373, 'beispielsweise': 11374, 'anheben': 11375, 'ansicht': 11376, 'schleimern': 11377, 'mitgliedern': 11378, 'nachhause': 11379, 'bestem': 11380, 'schmeisse': 11381, 'fuss': 11382, 'sichere': 11383, 'drittstaaten': 11384, 'durchque': 11385, 'anliegen': 11386, 'schutzsuchender': 11387, 'schlachten': 11388, 'betaeubung': 11389, 'leibe': 11390, 'haeuten': 11391, 'pflegebengel1': 11392, 'lisaklaster': 11393, 'geschickte': 11394, 'umdeutung': 11395, 'nutzbringende': 11396, 'nutzlosen': 11397, 'jackiedryder': 11398, 'kristianlempa': 11399, 'cduspdfdplinkegruene': 11400, 'grueninnen': 11401, 'wichsen': 11402, 'gelabber': 11403, 'zugestimmt': 11404, 'nenne': 11405, 'hadear': 11406, 'kontexten': 11407, 'bauchpinselei': 11408, 'toedlichen': 11409, 'terroranschlaege': 11410, 'dramatisch': 11411, 'ipk': 11412, 'puzzle': 11413, 'gelungen': 11414, 'digit': 11415, 'gepuzzelte': 11416, 'scan': 11417, 'technologie': 11418, 'schaftsmethoden': 11419, 'sebast': 11420, 'volksverarschung': 11421, 'huehnerfickerei': 11422, 'moeglicherweise': 11423, 'hihi': 11424, 'weisswuerste': 11425, 'sklavenhandel': 11426, 'aktiv': 11427, 'voltaire': 11428, 'oberhaupt': 11429, 'amlukassek': 11430, 'silvesterboellerei': 11431, 'brotstattboeller': 11432, 'terroranschlag': 11433, 'bewiesen': 11434, 'aufbauen': 11435, 'diw': 11436, 'quotienten': 11437, 'rausgerechnet': 11438, 'poltern': 11439, 'wahrnehmung': 11440, 'interpretierst': 11441, 'schnubb': 11442, 'groesse': 11443, 'wisselstefan': 11444, 'rinkenden': 11445, 'anzubieten': 11446, 'sinnvoll': 11447, 'zynisch': 11448, 'weitsicht': 11449, 'blind': 11450, 'heiliges': 11451, 'immobilienmakler': 11452, 'marspet': 11453, 'nachvollziehen': 11454, 'kleben': 11455, 'spitzenkandidatin': 11456, 'zuverlaessig': 11457, 'gemischtes': 11458, 'kriminalstatistik': 11459, 'eindeutige': 11460, 'ueberrepraesentie': 11461, 'safe': 11462, 'space': 11463, 'sozialethik': 11464, 'dubiose': 11465, 'umfragen': 11466, 'erstellen': 11467, 'nase': 11468, 'switchangel1975': 11469, 'antilegida': 11470, 'entsteht': 11471, 'klarheit': 11472, 'fraktionbb': 11473, 'vogel': 11474, 'auslaenderfeindlichkeit': 11475, 'acker': 11476, 'zugibst': 11477, 'offiziellen': 11478, 'soso': 11479, 'beobachtest': 11480, 'moment': 11481, 'haeufig': 11482, 'worauf': 11483, 'stuetzt': 11484, 'kranke': 11485, 'hindurchfinden': 11486, 'schulle60': 11487, 'kanns': 11488, 'marktwi': 11489, 'sozialausgaben': 11490, 'olympe': 11491, 'dushanwegner': 11492, 'anwerberinnen': 11493, 'freundinnen': 11494, 'salafistische': 11495, 'anzulocken': 11496, 'weitem': 11497, 'integrie': 11498, 'mahne': 11499, 'demokratiefeinde': 11500, 'lebensweg': 11501, 'infotweepnl': 11502, 'eussr': 11503, 'botschafter': 11504, 'einbestellen': 11505, 'truppen': 11506, 'islamkritiker': 11507, 'zensie': 11508, 'debattie': 11509, 'germanywatcher': 11510, 'hinfahren': 11511, 'schuldzuschreibung': 11512, 'arg': 11513, 'mager': 11514, 'wahrlich': 11515, 'koalitionsfaehig': 11516, 'ueberwiegend': 11517, 'vermag': 11518, 'verbuche': 11519, 'kristallisieren': 11520, 'rudisagmal': 11521, 'ger': 11522, 'reichten': 11523, 'geistigen': 11524, 'kapazitaeten': 11525, 'verreckt': 11526, 'strukturen': 11527, 'funktionierenden': 11528, 'buerokratie': 11529, 'lichtenhagen': 11530, 'mahnt': 11531, 'fussbreit': 11532, 'taschenrechner': 11533, 'abgeschnitten': 11534, 'daas': 11535, 'ueberschlagen': 11536, 'suesses': 11537, 'endgueltig': 11538, 'ueberrascht': 11539, 'mitbekomme': 11540, 'obamas': 11541, 'vorstaenden': 11542, 'bezahlte': 11543, 'reinplatzt': 11544, 'abwuergt': 11545, 'verseuchtes': 11546, 'nazipack': 11547, 'merkur': 11548, 'shalimarharper': 11549, 'kanzler': 11550, '1982': 11551, '1998': 11552, 'andererseits': 11553, 'herrchen': 11554, 'amateur': 11555, 'lernfaehig': 11556, 'verlauste': 11557, 'kochkaese24': 11558, 'dringenden': 11559, 'gemeinsames': 11560, 'andrittis': 11561, 'vikinger': 11562, 'asylnten': 11563, 'gerdhansi': 11564, 'luschenpa': 11565, 'organisie': 11566, 'menschenkette': 11567, 'moderne': 11568, 'konservativ': 11569, 'autoritaeren': 11570, 'befreien': 11571, 'anlegen': 11572, 'fvorwerg': 11573, 'zuegig': 11574, 'fuerchterlich': 11575, 'staendige': 11576, 'of': 11577, 'twin': 11578, 'versammlungsanmeldung': 11579, 'unbequeme': 11580, 'vorstellt': 11581, 'eidigt': 11582, 'hatespeech': 11583, 'beteht': 11584, 'anspricht': 11585, 'ranzmann': 11586, 'inshallah': 11587, 'schwanz': 11588, '40cm': 11589, '10cmdick': 11590, 'hans': 11591, 'ampel': 11592, 'treibhausev': 11593, 'auswe': 11594, 'ui': 11595, 'grins': 11596, 'xx': 11597, 'morgentau100': 11598, 'hereinspazie': 11599, 'einfachnurmark': 11600, 'janalbrecht': 11601, 'bliebe': 11602, 'holocaustmahnmal': 11603, 'bezeichnet': 11604, 'klatscht': 11605, 'rueh': 11606, 'schweizerguy': 11607, 'megatwingo': 11608, 'behauptest': 11609, 'definie': 11610, 'personenschuetzern': 11611, 'verbraucherfalle': 11612, 'einziger': 11613, 'hotels': 11614, 'aufgefallen': 11615, 'zimmer': 11616, 'ungsbereitschaft': 11617, 'zuvoerderst': 11618, 'verfassungsvoraussetzungen': 11619, 'verordnet': 11620, 'hochgradiger': 11621, 'anmerkst': 11622, 'osteuropa': 11623, 'himmelweiter': 11624, 'tommyschett': 11625, 'unterschiedlich': 11626, 'tolerie': 11627, 'endogamen': 11628, 'bueti': 11629, 'maaluf': 11630, 'diekreuzzuege': 11631, 'empfehlenswe': 11632, 'erhellend': 11633, 'tzounakis': 11634, 'victorvetterle': 11635, 'scheinheilig': 11636, 'sche': 11637, 'menschenverachtende': 11638, 'chsommers': 11639, 'debatten': 11640, 'reduzieren': 11641, 'neuner': 11642, 'auslaendische': 11643, 'pflegekraefte': 11644, 'steine': 11645, 'fahrverbote': 11646, 'diesel': 11647, 'dummes': 11648, 'gegessen': 11649, 'gekocht': 11650, 'bankrotterklaerung': 11651, 'schulterschluss': 11652, 'freizulassen': 11653, 'fl': 11654, 'securityka': 11655, 'rumspringen': 11656, 'kokolores100': 11657, 'folge': 11658, 'einschliessenden': 11659, 'ausschliesslichen': 11660, 'polizeiruf': 11661, '110': 11662, 'sterbenslangweilig': 11663, 'endlosfrei': 11664, 'geltendes': 11665, 'spendet': 11666, 'beifall': 11667, 'antidiskriminerungsgesetz': 11668, 'staatsbuergern': 11669, 'perfektes': 11670, 'einfallstor': 11671, 'opferkult': 11672, 'sexuellen': 11673, 'bezichtigt': 11674, 'handtaschen': 11675, 'sonderangebot': 11676, 'stef': 11677, 'egli': 11678, 'nzz': 11679, 'grundsatz': 11680, 'verschleie': 11681, 'problematik': 11682, 'vielmehr': 11683, 'lde': 11684, 'taqiyya': 11685, 'tabelle': 11686, 'kriegsgebeutelten': 11687, 'starben': 11688, 'krankheit': 11689, 'leidet': 11690, 'geschadet': 11691, 'anziehungskraft': 11692, 'haraldrostock': 11693, 'traeume': 11694, 'industrialisierung': 11695, 'entscheidender': 11696, 'kreislauf': 11697, 'auszubrechen': 11698, 'netzwerkdurchsetzungsgesetz': 11699, 'nigromontanus': 11700, 'mkaltental': 11701, 'wehklagen': 11702, 'rudigerkirsch': 11703, 'betrug': 11704, 'kinderficken': 11705, 'vergleichst': 11706, 'zuzuschreiben': 11707, 'kindesmissbrauch': 11708, 'haeusliche': 11709, 'gentlemind': 11710, 'tim': 11711, 'unkenntlich': 11712, 'btwahl2017': 11713, 'thyssenkrupp': 11714, 'kastensystem': 11715, 'reformator': 11716, 'institut': 11717, 'schaftsforschung': 11718, 'isolie': 11719, 'ihrer': 11720, 'kipping': 11721, 'schaedlinge': 11722, 'indonesischen': 11723, 'provinz': 11724, 'aceh': 11725, 'kuerzlich': 11726, 'islamisie': 11727, 'tolle': 11728, 'ceglarm': 11729, 'paradisepapaers': 11730, 'kriminelle': 11731, 'steuerhinterziehung': 11732, 'superreichen': 11733, 'fluechte': 11734, 'nachbarland': 11735, 'hassverbrechen': 11736, 'rbbinforadio': 11737, 'aktionaere': 11738, 'vw': 11739, 'verdraengen': 11740, 'nachruestung': 11741, 'dieselgate': 11742, '1969': 11743, 'browser': 11744, 'militaeroperation': 11745, 'bundesstaat': 11746, 'rakhaing': 11747, 'myanmar': 11748, 'haeuser': 11749, 'ethnischen': 11750, 'kopftuchzwang': 11751, 'protest': 11752, 'verbesserungen': 11753, 'iranprotest': 11754, 'ossi': 11755, 'unterirdisch': 11756, 'haesslichten': 11757, 'wahlpa': 11758, 'strunzdummes': 11759, 'blamieren': 11760, 'kapitales': 11761, 'versagen': 11762, 'saechsischer': 11763, 'jva': 11764, 'pk': 11765, 'unauffaelliger': 11766, 'gefangener': 11767, 'lampe': 11768, 'steckdose': 11769, 'begeht': 11770, 'bakr': 11771, 'alexabringmann': 11772, 'mullssl': 11773, 'berufung': 11774, 'einlegen': 11775, 'gemeine': 11776, 'soze': 11777, 'weltmacht': 11778, 'wachen': 11779, 'sanktionsandrohungen': 11780, 'unmenschlichen': 11781, 'strapazen': 11782, 'erholen': 11783, 'gdhring': 11784, 'gegensatz': 11785, 'unterwegs': 11786, 'piesteritz': 11787, 'hanisch': 11788, 'axtangriff': 11789, 'schreckliche': 11790, 'psychisch': 11791, 'kranken': 11792, 'vollstaendige': 11793, 'erholung': 11794, 'ihra': 11795, 'eigentum': 11796, 'braeuche': 11797, 'subsistenzwi': 11798, 'ernaehren': 11799, 'befielst': 11800, 'xi': 11801, 'xinping': 11802, 'umtriebe': 11803, 'ausmacht': 11804, 'sylketempel': 11805, 'bluten': 11806, 'weihnachtsstimmung': 11807, 'stoeren': 11808, 'traechtigen': 11809, 'events': 11810, 'wohnungslose': 11811, 'bezahlbaren': 11812, 'michaelumlandt': 11813, 'ze': 11814, 'ifizie': 11815, 'eifel': 11816, 'dialekt': 11817, 'transkribierer': 11818, 'abgeschlossen': 11819, 'wundere': 11820, 'maennchen': 11821, 'bezeugt': 11822, 'brandenburge': 11823, 'or': 11824, 'neukoelln': 11825, 'teilnehmer': 11826, 'selbstgemalte': 11827, 'entzuendet': 11828, 'roguefirstlady': 11829, 'first': 11830, 'lady': 11831, 'bono': 11832, 'zeichengrenze': 11833, 'verzehnfachen': 11834, 'beleg': 11835, 'wahrheitsgehalt': 11836, 'maerchenonkel': 11837, 'angepriesen': 11838, 'eingetrichte': 11839, 'widerspruechliche': 11840, 'vernichtet': 11841, 'ueberraschung': 11842, 'basie': 11843, 'kochen': 11844, 'wut': 11845, 'melix19': 11846, 'anfaengen': 11847, '1000mal': 11848, 'cam': 11849, 'gekniffen': 11850, 'rechtsrock': 11851, 'genre': 11852, 'stattfindenden': 11853, 'lautsprecherwagen': 11854, 'kindermoerder': 11855, 'intifada': 11856, 'parolen': 11857, 'gerufen': 11858, 'rico': 11859, 'caviezel': 11860, 'reifenstahl': 11861, 'schlimmster': 11862, 'alptraum': 11863, 'verbliebene': 11864, 'pragmatische': 11865, 'verwoehnt': 11866, 'durchwinkt': 11867, 'uepsilonniks1': 11868, 'sagst': 11869, 'arasbacho': 11870, 'aras': 11871, 'sonny250874': 11872, 'loga': 11873, 'steinmeiers': 11874, 'renatebergmann': 11875, 'notruf': 11876, 'nummer': 11877, 'zettel': 11878, 'kath': 11879, 'bluem': 11880, 'kanzleramtsminister': 11881, 'altmaier': 11882, 'schwitzt': 11883, 'volksverraeterpack': 11884, 'eigens': 11885, 'konflikten': 11886, 'withrefugees': 11887, 'handvoll': 11888, 'co2': 11889, 'ausstoss': 11890, 'senken': 11891, 'van': 11892, 'vleet': 11893, 'aussengrenzen': 11894, 'hilf': 11895, 'einfachen': 11896, 'gemuet': 11897, 'sachark': 11898, 'staatlichen': 11899, 'ichnicht': 11900, 'erscheint': 11901, 'steffen': 11902, 'rechne': 11903, 'monatsverdienst': 11904, 'besserverdiener': 11905, 'compact': 11906, 'konfernz': 11907, 'bester': 11908, 'verschwoerungsideologischer': 11909, 'manier': 11910, 'globalisten': 11911, 'globalem': 11912, 'finanzkapital': 11913, 'nocompact': 11914, 'reingepfuscht': 11915, 'westlicher': 11916, 'richtung': 11917, 'womoeglich': 11918, 'enf': 11919, 'efdd': 11920, 'verfaelscht': 11921, 'schminkflinte': 11922, 'sexistisch': 11923, 'verschiedener': 11924, 'wupperkauz': 11925, 'gebaeck': 11926, 'saisonspezifisch': 11927, 'rund': 11928, 'weihnachtszeit': 11929, '280': 11930, 'leviticus': 11931, 'beschreibung': 11932, 'jauche': 11933, 'bereicherung': 11934, 'betruegerpack': 11935, 'juristen': 11936, 'respektiere': 11937, 'ralficb': 11938, 'realfremd': 11939, 'fruehes': 11940, 'shabbat': 11941, 'ruhiges': 11942, 'wochenende': 11943, 'vergangenem': 11944, 'isolationshaft': 11945, 'verdaechtigen': 11946, 'anbeten': 11947, 'klick': 11948, 'saekularer': 11949, 'ruestungslobbyisten': 11950, 'aussenpolitisch': 11951, 'angeben': 11952, 'r2g': 11953, 'illusionaer': 11954, 'grundschulalter': 11955, 'ueberzieht': 11956, 'kabul': 11957, 'eckleben': 11958, 'dislike': 11959, 'button': 11960, 'totengraeber': 11961, 'rakeeede': 11962, 'insnamehier': 11963, 'bundesweite': 11964, 'sichtungen': 11965, 'voigt': 11966, 'abgeschaltet': 11967, 'alltags': 11968, 'kotze': 11969, 'genderquatsch': 11970, 'rueckspiegel': 11971, 'karren': 11972, 'udoulfkotte': 11973, 'gesundheitlich': 11974, 'siegerkranz': 11975, 'herrscher': 11976, 'vaterlands': 11977, 'fuehl': 11978, 'trohnes': 11979, 'glanz': 11980, 'wonne': 11981, 'liebling': 11982, 'volks': 11983, 'bezeichne': 11984, 'kriegsgeheul': 11985, 'saebelrasseln': 11986, 'entspannungspolitik': 11987, 'polnische': 11988, 'ostgebiete': 11989, '1990': 11990, 'autonomierechte': 11991, 'gewaeh': 11992, 'hasenscha': 11993, 'rknillmann': 11994, 'podilein': 11995, 'kunterbunt': 11996, 'multikultiliebhaber': 11997, 'stephanweil': 11998, 'kitas': 11999}\n"
          ]
        }
      ]
    },
    {
      "cell_type": "code",
      "source": [
        "\n",
        "\n",
        "encoded_clean_text_t_stem = tok_all.texts_to_sequences(clean_text_t_stem)\n",
        "print(clean_text_t_stem[0])\n",
        "print(encoded_clean_text_t_stem[0])\n",
        "\n"
      ],
      "metadata": {
        "colab": {
          "base_uri": "https://localhost:8080/"
        },
        "id": "-P-pLah2LPxY",
        "outputId": "74b59695-e5d1-4f32-9225-eb52ce10c24b"
      },
      "execution_count": null,
      "outputs": [
        {
          "output_type": "stream",
          "name": "stdout",
          "text": [
            "mutter erzaehlt, vater wahlkreiskandidaten gewaehlt hat, homo-ehe  \n",
            "[231, 1251, 270, 493, 48, 8374, 12002]\n"
          ]
        }
      ]
    },
    {
      "cell_type": "code",
      "source": [
        "\n",
        "\n",
        "from keras.preprocessing import sequence\n",
        "max_length = 100\n",
        "padded_clean_text_t_stem = sequence.pad_sequences(encoded_clean_text_t_stem, maxlen=max_length, padding='pre')\n",
        "\n"
      ],
      "metadata": {
        "id": "2pMhC-TaLSmb"
      },
      "execution_count": null,
      "outputs": []
    },
    {
      "cell_type": "markdown",
      "source": [
        "# FastText Embeddings\n"
      ],
      "metadata": {
        "id": "5X5wvSctLXIh"
      }
    },
    {
      "cell_type": "code",
      "source": [
        "from google.colab import drive\n",
        "drive.mount('/content/drive')"
      ],
      "metadata": {
        "colab": {
          "base_uri": "https://localhost:8080/"
        },
        "id": "dokXCwzTBF9C",
        "outputId": "202ffff6-e1b4-4ad8-f6ab-c0f326b07d7d"
      },
      "execution_count": null,
      "outputs": [
        {
          "output_type": "stream",
          "name": "stdout",
          "text": [
            "Mounted at /content/drive\n"
          ]
        }
      ]
    },
    {
      "cell_type": "code",
      "source": [
        "!gunzip /content/drive/MyDrive/cc.de.300.vec.gz"
      ],
      "metadata": {
        "id": "vWWgtLKGRqeg",
        "colab": {
          "base_uri": "https://localhost:8080/"
        },
        "outputId": "546663a3-895d-439f-aee6-4fd853fd3d4d"
      },
      "execution_count": null,
      "outputs": [
        {
          "output_type": "stream",
          "name": "stdout",
          "text": [
            "gzip: /content/drive/MyDrive/cc.de.300.vec.gz: No such file or directory\n"
          ]
        }
      ]
    },
    {
      "cell_type": "code",
      "source": [
        "# https://stackoverflow.com/questions/69964788/how-to-unzip-gz-file-using-google-colab\n",
        "\n",
        "# FastText Embedding link - https://fasttext.cc/docs/en/crawl-vectors.html\n",
        "\n",
        "import os\n",
        "embeddings_index = {}\n",
        "f = open('/content/drive/MyDrive/cc.de.300.vec',encoding='utf-8',errors='ignore')\n",
        "for line in f:\n",
        "    values = line.split()\n",
        "    word = values[0]\n",
        "    coefs = np.asarray(values[1:], dtype='float32')\n",
        "    embeddings_index[word] = coefs\n",
        "f.close()\n",
        "print('Loaded %s word vectors.' % len(embeddings_index))\n",
        "\n"
      ],
      "metadata": {
        "colab": {
          "base_uri": "https://localhost:8080/"
        },
        "id": "Qoiw0Dq_BQXE",
        "outputId": "74ba19ae-c94d-4b26-c4d4-615682058998"
      },
      "execution_count": null,
      "outputs": [
        {
          "output_type": "stream",
          "name": "stdout",
          "text": [
            "Loaded 2000000 word vectors.\n"
          ]
        }
      ]
    },
    {
      "cell_type": "code",
      "source": [
        "\n",
        "\n",
        "embedding_matrix = np.zeros((vocabulary_all+1, 300))\n",
        "for word, i in tok_all.word_index.items():\n",
        "    embedding_vector = embeddings_index.get(word)\n",
        "    if embedding_vector is not None:\n",
        "         embedding_matrix[i] = embedding_vector\n",
        "\n"
      ],
      "metadata": {
        "id": "a3edF-OKEHme"
      },
      "execution_count": null,
      "outputs": []
    },
    {
      "cell_type": "markdown",
      "source": [
        "# CNN 1 Model\n"
      ],
      "metadata": {
        "id": "d6GOcaWlTm3y"
      }
    },
    {
      "cell_type": "code",
      "source": [
        "\n",
        "\n",
        "from keras.preprocessing import sequence\n",
        "from keras.preprocessing import text\n",
        "import numpy as np\n",
        "from keras.models import Sequential\n",
        "from keras.layers import Dense, Dropout, Activation\n",
        "from keras.layers import Embedding, LSTM\n",
        "from keras.layers import Conv1D, Flatten\n",
        "from keras.preprocessing import text\n",
        "from keras.models import Sequential,Model\n",
        "from keras.layers import Dense ,Activation,MaxPool1D,Conv1D,Flatten,Dropout,Activation,Dropout,Input,Lambda,concatenate\n",
        "from keras.utils import np_utils\n",
        "from nltk.corpus import stopwords\n",
        "from nltk.tokenize import RegexpTokenizer\n",
        "from nltk.stem.porter import PorterStemmer\n",
        "import nltk\n",
        "import csv\n",
        "import pandas as pd\n",
        "\n",
        "from keras.preprocessing import text as keras_text, sequence as keras_seq\n",
        "\n"
      ],
      "metadata": {
        "id": "9SFf_1_ITmRV"
      },
      "execution_count": null,
      "outputs": []
    },
    {
      "cell_type": "code",
      "source": [
        "Embedding_Layer = Embedding(vocabulary_all+1, 300, weights=[embedding_matrix], input_length=max_length)"
      ],
      "metadata": {
        "id": "-pMKAUQqTsLu"
      },
      "execution_count": null,
      "outputs": []
    },
    {
      "cell_type": "code",
      "source": [
        "CNN1_network=Sequential([Embedding_Layer,\n",
        "                        Conv1D(128,3,activation=\"relu\",padding='same'),\n",
        "                       Dropout(0.2),\n",
        "                       MaxPool1D(2),\n",
        "                       Flatten(),\n",
        "                       Dense(64,activation=\"relu\"),\n",
        "                       Dropout(0.3),\n",
        "                       Dense(2,activation=\"sigmoid\")\n",
        "                       ])\n",
        "\n"
      ],
      "metadata": {
        "id": "FjDa1as8Ts6r"
      },
      "execution_count": null,
      "outputs": []
    },
    {
      "cell_type": "code",
      "source": [
        "CNN1_network.summary()"
      ],
      "metadata": {
        "colab": {
          "base_uri": "https://localhost:8080/"
        },
        "id": "eiFSH30GTxM9",
        "outputId": "c80b2cc0-5476-4036-fd24-9b0600f2c6d4"
      },
      "execution_count": null,
      "outputs": [
        {
          "output_type": "stream",
          "name": "stdout",
          "text": [
            "Model: \"sequential\"\n",
            "_________________________________________________________________\n",
            " Layer (type)                Output Shape              Param #   \n",
            "=================================================================\n",
            " embedding (Embedding)       (None, 100, 300)          5055000   \n",
            "                                                                 \n",
            " conv1d (Conv1D)             (None, 100, 128)          115328    \n",
            "                                                                 \n",
            " dropout (Dropout)           (None, 100, 128)          0         \n",
            "                                                                 \n",
            " max_pooling1d (MaxPooling1D  (None, 50, 128)          0         \n",
            " )                                                               \n",
            "                                                                 \n",
            " flatten (Flatten)           (None, 6400)              0         \n",
            "                                                                 \n",
            " dense (Dense)               (None, 64)                409664    \n",
            "                                                                 \n",
            " dropout_1 (Dropout)         (None, 64)                0         \n",
            "                                                                 \n",
            " dense_1 (Dense)             (None, 2)                 130       \n",
            "                                                                 \n",
            "=================================================================\n",
            "Total params: 5,580,122\n",
            "Trainable params: 5,580,122\n",
            "Non-trainable params: 0\n",
            "_________________________________________________________________\n"
          ]
        }
      ]
    },
    {
      "cell_type": "code",
      "source": [
        "# https://stackoverflow.com/questions/62707558/importerror-cannot-import-name-adam-from-keras-optimizers\n",
        "from tensorflow.keras.optimizers import Adam\n",
        "CNN1_network.compile(loss = \"binary_crossentropy\", optimizer=Adam(lr=0.00003), metrics=[\"accuracy\"])"
      ],
      "metadata": {
        "colab": {
          "base_uri": "https://localhost:8080/"
        },
        "id": "uhrug6aYT0dU",
        "outputId": "c4497eb4-d497-40f8-8eee-0adf70d3f216"
      },
      "execution_count": null,
      "outputs": [
        {
          "output_type": "stream",
          "name": "stderr",
          "text": [
            "/usr/local/lib/python3.7/dist-packages/keras/optimizer_v2/adam.py:105: UserWarning: The `lr` argument is deprecated, use `learning_rate` instead.\n",
            "  super(Adam, self).__init__(name, **kwargs)\n"
          ]
        }
      ]
    },
    {
      "cell_type": "code",
      "source": [
        "from keras.utils.vis_utils import plot_model\n",
        "plot_model(CNN1_network, to_file='CNN2_model.png', show_shapes=True, show_layer_names=True)\n",
        "\n",
        "from keras.callbacks import EarlyStopping, ReduceLROnPlateau,ModelCheckpoint\n",
        "earlystopper = EarlyStopping(patience=8, verbose=1)\n",
        "\n",
        "reduce_lr = ReduceLROnPlateau(monitor='val_loss', factor=0.9,\n",
        "                              patience=2, min_lr=0.00001, verbose=1)\n",
        "\n"
      ],
      "metadata": {
        "id": "dt59qzVBT05I"
      },
      "execution_count": null,
      "outputs": []
    },
    {
      "cell_type": "code",
      "source": [
        "\n",
        "\n",
        "from keras.callbacks import EarlyStopping, ReduceLROnPlateau,ModelCheckpoint\n",
        "earlystopper = EarlyStopping(patience=8, verbose=1)\n",
        "\n",
        "reduce_lr = ReduceLROnPlateau(monitor='val_loss', factor=0.9,\n",
        "                              patience=2, min_lr=0.00001, verbose=1)\n",
        "\n"
      ],
      "metadata": {
        "id": "OcgGKGXRUYKs"
      },
      "execution_count": null,
      "outputs": []
    },
    {
      "cell_type": "markdown",
      "source": [
        "# Model Fitting or Training\n"
      ],
      "metadata": {
        "id": "ZzMJN4vKUauw"
      }
    },
    {
      "cell_type": "code",
      "source": [
        "hist = CNN1_network.fit(padded_clean_text_stem,label_twoDimension,epochs=200,batch_size=32,callbacks=[earlystopper, reduce_lr])"
      ],
      "metadata": {
        "colab": {
          "base_uri": "https://localhost:8080/"
        },
        "id": "0FdQuhx4ZP6B",
        "outputId": "1ae1d295-8d2c-49cf-da31-3094081f270c"
      },
      "execution_count": null,
      "outputs": [
        {
          "output_type": "stream",
          "name": "stdout",
          "text": [
            "Epoch 1/200\n",
            "120/120 [==============================] - ETA: 0s - loss: 0.5638 - accuracy: 0.8460"
          ]
        },
        {
          "output_type": "stream",
          "name": "stderr",
          "text": [
            "WARNING:tensorflow:Early stopping conditioned on metric `val_loss` which is not available. Available metrics are: loss,accuracy\n",
            "WARNING:tensorflow:Learning rate reduction is conditioned on metric `val_loss` which is not available. Available metrics are: loss,accuracy,lr\n"
          ]
        },
        {
          "output_type": "stream",
          "name": "stdout",
          "text": [
            "\b\b\b\b\b\b\b\b\b\b\b\b\b\b\b\b\b\b\b\b\b\b\b\b\b\b\b\b\b\b\b\b\b\b\b\b\b\b\b\b\b\b\b\b\b\b\b\b\b\b\b\b\b\b\b\b\b\b\b\b\b\b\b\b\b\b\b\b\b\b\b\b\b\b\b\b\b\b\b\b\b\b\b\b\r120/120 [==============================] - 13s 8ms/step - loss: 0.5638 - accuracy: 0.8460 - lr: 3.0000e-05\n",
            "Epoch 2/200\n",
            "118/120 [============================>.] - ETA: 0s - loss: 0.3610 - accuracy: 0.8933"
          ]
        },
        {
          "output_type": "stream",
          "name": "stderr",
          "text": [
            "WARNING:tensorflow:Early stopping conditioned on metric `val_loss` which is not available. Available metrics are: loss,accuracy\n",
            "WARNING:tensorflow:Learning rate reduction is conditioned on metric `val_loss` which is not available. Available metrics are: loss,accuracy,lr\n"
          ]
        },
        {
          "output_type": "stream",
          "name": "stdout",
          "text": [
            "\b\b\b\b\b\b\b\b\b\b\b\b\b\b\b\b\b\b\b\b\b\b\b\b\b\b\b\b\b\b\b\b\b\b\b\b\b\b\b\b\b\b\b\b\b\b\b\b\b\b\b\b\b\b\b\b\b\b\b\b\b\b\b\b\b\b\b\b\b\b\b\b\b\b\b\b\b\b\b\b\b\b\b\b\r120/120 [==============================] - 1s 7ms/step - loss: 0.3603 - accuracy: 0.8934 - lr: 3.0000e-05\n",
            "Epoch 3/200\n",
            "118/120 [============================>.] - ETA: 0s - loss: 0.3538 - accuracy: 0.8927"
          ]
        },
        {
          "output_type": "stream",
          "name": "stderr",
          "text": [
            "WARNING:tensorflow:Early stopping conditioned on metric `val_loss` which is not available. Available metrics are: loss,accuracy\n",
            "WARNING:tensorflow:Learning rate reduction is conditioned on metric `val_loss` which is not available. Available metrics are: loss,accuracy,lr\n"
          ]
        },
        {
          "output_type": "stream",
          "name": "stdout",
          "text": [
            "\b\b\b\b\b\b\b\b\b\b\b\b\b\b\b\b\b\b\b\b\b\b\b\b\b\b\b\b\b\b\b\b\b\b\b\b\b\b\b\b\b\b\b\b\b\b\b\b\b\b\b\b\b\b\b\b\b\b\b\b\b\b\b\b\b\b\b\b\b\b\b\b\b\b\b\b\b\b\b\b\b\b\b\b\r120/120 [==============================] - 1s 7ms/step - loss: 0.3525 - accuracy: 0.8934 - lr: 3.0000e-05\n",
            "Epoch 4/200\n",
            "119/120 [============================>.] - ETA: 0s - loss: 0.3479 - accuracy: 0.8936"
          ]
        },
        {
          "output_type": "stream",
          "name": "stderr",
          "text": [
            "WARNING:tensorflow:Early stopping conditioned on metric `val_loss` which is not available. Available metrics are: loss,accuracy\n",
            "WARNING:tensorflow:Learning rate reduction is conditioned on metric `val_loss` which is not available. Available metrics are: loss,accuracy,lr\n"
          ]
        },
        {
          "output_type": "stream",
          "name": "stdout",
          "text": [
            "\b\b\b\b\b\b\b\b\b\b\b\b\b\b\b\b\b\b\b\b\b\b\b\b\b\b\b\b\b\b\b\b\b\b\b\b\b\b\b\b\b\b\b\b\b\b\b\b\b\b\b\b\b\b\b\b\b\b\b\b\b\b\b\b\b\b\b\b\b\b\b\b\b\b\b\b\b\b\b\b\b\b\b\b\r120/120 [==============================] - 1s 7ms/step - loss: 0.3484 - accuracy: 0.8934 - lr: 3.0000e-05\n",
            "Epoch 5/200\n",
            "118/120 [============================>.] - ETA: 0s - loss: 0.3442 - accuracy: 0.8933"
          ]
        },
        {
          "output_type": "stream",
          "name": "stderr",
          "text": [
            "WARNING:tensorflow:Early stopping conditioned on metric `val_loss` which is not available. Available metrics are: loss,accuracy\n",
            "WARNING:tensorflow:Learning rate reduction is conditioned on metric `val_loss` which is not available. Available metrics are: loss,accuracy,lr\n"
          ]
        },
        {
          "output_type": "stream",
          "name": "stdout",
          "text": [
            "\b\b\b\b\b\b\b\b\b\b\b\b\b\b\b\b\b\b\b\b\b\b\b\b\b\b\b\b\b\b\b\b\b\b\b\b\b\b\b\b\b\b\b\b\b\b\b\b\b\b\b\b\b\b\b\b\b\b\b\b\b\b\b\b\b\b\b\b\b\b\b\b\b\b\b\b\b\b\b\b\b\b\b\b\r120/120 [==============================] - 1s 7ms/step - loss: 0.3441 - accuracy: 0.8934 - lr: 3.0000e-05\n",
            "Epoch 6/200\n",
            "117/120 [============================>.] - ETA: 0s - loss: 0.3434 - accuracy: 0.8929"
          ]
        },
        {
          "output_type": "stream",
          "name": "stderr",
          "text": [
            "WARNING:tensorflow:Early stopping conditioned on metric `val_loss` which is not available. Available metrics are: loss,accuracy\n",
            "WARNING:tensorflow:Learning rate reduction is conditioned on metric `val_loss` which is not available. Available metrics are: loss,accuracy,lr\n"
          ]
        },
        {
          "output_type": "stream",
          "name": "stdout",
          "text": [
            "\b\b\b\b\b\b\b\b\b\b\b\b\b\b\b\b\b\b\b\b\b\b\b\b\b\b\b\b\b\b\b\b\b\b\b\b\b\b\b\b\b\b\b\b\b\b\b\b\b\b\b\b\b\b\b\b\b\b\b\b\b\b\b\b\b\b\b\b\b\b\b\b\b\b\b\b\b\b\b\b\b\b\b\b\r120/120 [==============================] - 1s 7ms/step - loss: 0.3427 - accuracy: 0.8934 - lr: 3.0000e-05\n",
            "Epoch 7/200\n",
            "120/120 [==============================] - ETA: 0s - loss: 0.3403 - accuracy: 0.8934"
          ]
        },
        {
          "output_type": "stream",
          "name": "stderr",
          "text": [
            "WARNING:tensorflow:Early stopping conditioned on metric `val_loss` which is not available. Available metrics are: loss,accuracy\n",
            "WARNING:tensorflow:Learning rate reduction is conditioned on metric `val_loss` which is not available. Available metrics are: loss,accuracy,lr\n"
          ]
        },
        {
          "output_type": "stream",
          "name": "stdout",
          "text": [
            "\b\b\b\b\b\b\b\b\b\b\b\b\b\b\b\b\b\b\b\b\b\b\b\b\b\b\b\b\b\b\b\b\b\b\b\b\b\b\b\b\b\b\b\b\b\b\b\b\b\b\b\b\b\b\b\b\b\b\b\b\b\b\b\b\b\b\b\b\b\b\b\b\b\b\b\b\b\b\b\b\b\b\b\b\r120/120 [==============================] - 1s 7ms/step - loss: 0.3403 - accuracy: 0.8934 - lr: 3.0000e-05\n",
            "Epoch 8/200\n",
            "118/120 [============================>.] - ETA: 0s - loss: 0.3365 - accuracy: 0.8938"
          ]
        },
        {
          "output_type": "stream",
          "name": "stderr",
          "text": [
            "WARNING:tensorflow:Early stopping conditioned on metric `val_loss` which is not available. Available metrics are: loss,accuracy\n",
            "WARNING:tensorflow:Learning rate reduction is conditioned on metric `val_loss` which is not available. Available metrics are: loss,accuracy,lr\n"
          ]
        },
        {
          "output_type": "stream",
          "name": "stdout",
          "text": [
            "\b\b\b\b\b\b\b\b\b\b\b\b\b\b\b\b\b\b\b\b\b\b\b\b\b\b\b\b\b\b\b\b\b\b\b\b\b\b\b\b\b\b\b\b\b\b\b\b\b\b\b\b\b\b\b\b\b\b\b\b\b\b\b\b\b\b\b\b\b\b\b\b\b\b\b\b\b\b\b\b\b\b\b\b\r120/120 [==============================] - 1s 7ms/step - loss: 0.3370 - accuracy: 0.8934 - lr: 3.0000e-05\n",
            "Epoch 9/200\n",
            "119/120 [============================>.] - ETA: 0s - loss: 0.3366 - accuracy: 0.8931"
          ]
        },
        {
          "output_type": "stream",
          "name": "stderr",
          "text": [
            "WARNING:tensorflow:Early stopping conditioned on metric `val_loss` which is not available. Available metrics are: loss,accuracy\n",
            "WARNING:tensorflow:Learning rate reduction is conditioned on metric `val_loss` which is not available. Available metrics are: loss,accuracy,lr\n"
          ]
        },
        {
          "output_type": "stream",
          "name": "stdout",
          "text": [
            "\b\b\b\b\b\b\b\b\b\b\b\b\b\b\b\b\b\b\b\b\b\b\b\b\b\b\b\b\b\b\b\b\b\b\b\b\b\b\b\b\b\b\b\b\b\b\b\b\b\b\b\b\b\b\b\b\b\b\b\b\b\b\b\b\b\b\b\b\b\b\b\b\b\b\b\b\b\b\b\b\b\b\b\b\r120/120 [==============================] - 1s 7ms/step - loss: 0.3360 - accuracy: 0.8934 - lr: 3.0000e-05\n",
            "Epoch 10/200\n",
            "118/120 [============================>.] - ETA: 0s - loss: 0.3307 - accuracy: 0.8927"
          ]
        },
        {
          "output_type": "stream",
          "name": "stderr",
          "text": [
            "WARNING:tensorflow:Early stopping conditioned on metric `val_loss` which is not available. Available metrics are: loss,accuracy\n",
            "WARNING:tensorflow:Learning rate reduction is conditioned on metric `val_loss` which is not available. Available metrics are: loss,accuracy,lr\n"
          ]
        },
        {
          "output_type": "stream",
          "name": "stdout",
          "text": [
            "\b\b\b\b\b\b\b\b\b\b\b\b\b\b\b\b\b\b\b\b\b\b\b\b\b\b\b\b\b\b\b\b\b\b\b\b\b\b\b\b\b\b\b\b\b\b\b\b\b\b\b\b\b\b\b\b\b\b\b\b\b\b\b\b\b\b\b\b\b\b\b\b\b\b\b\b\b\b\b\b\b\b\b\b\r120/120 [==============================] - 1s 7ms/step - loss: 0.3295 - accuracy: 0.8934 - lr: 3.0000e-05\n",
            "Epoch 11/200\n",
            "115/120 [===========================>..] - ETA: 0s - loss: 0.3236 - accuracy: 0.8940"
          ]
        },
        {
          "output_type": "stream",
          "name": "stderr",
          "text": [
            "WARNING:tensorflow:Early stopping conditioned on metric `val_loss` which is not available. Available metrics are: loss,accuracy\n",
            "WARNING:tensorflow:Learning rate reduction is conditioned on metric `val_loss` which is not available. Available metrics are: loss,accuracy,lr\n"
          ]
        },
        {
          "output_type": "stream",
          "name": "stdout",
          "text": [
            "\b\b\b\b\b\b\b\b\b\b\b\b\b\b\b\b\b\b\b\b\b\b\b\b\b\b\b\b\b\b\b\b\b\b\b\b\b\b\b\b\b\b\b\b\b\b\b\b\b\b\b\b\b\b\b\b\b\b\b\b\b\b\b\b\b\b\b\b\b\b\b\b\b\b\b\b\b\b\b\b\b\b\b\b\r120/120 [==============================] - 1s 7ms/step - loss: 0.3251 - accuracy: 0.8934 - lr: 3.0000e-05\n",
            "Epoch 12/200\n",
            "119/120 [============================>.] - ETA: 0s - loss: 0.3180 - accuracy: 0.8931"
          ]
        },
        {
          "output_type": "stream",
          "name": "stderr",
          "text": [
            "WARNING:tensorflow:Early stopping conditioned on metric `val_loss` which is not available. Available metrics are: loss,accuracy\n",
            "WARNING:tensorflow:Learning rate reduction is conditioned on metric `val_loss` which is not available. Available metrics are: loss,accuracy,lr\n"
          ]
        },
        {
          "output_type": "stream",
          "name": "stdout",
          "text": [
            "\b\b\b\b\b\b\b\b\b\b\b\b\b\b\b\b\b\b\b\b\b\b\b\b\b\b\b\b\b\b\b\b\b\b\b\b\b\b\b\b\b\b\b\b\b\b\b\b\b\b\b\b\b\b\b\b\b\b\b\b\b\b\b\b\b\b\b\b\b\b\b\b\b\b\b\b\b\b\b\b\b\b\b\b\r120/120 [==============================] - 1s 7ms/step - loss: 0.3173 - accuracy: 0.8934 - lr: 3.0000e-05\n",
            "Epoch 13/200\n",
            "120/120 [==============================] - ETA: 0s - loss: 0.3156 - accuracy: 0.8934"
          ]
        },
        {
          "output_type": "stream",
          "name": "stderr",
          "text": [
            "WARNING:tensorflow:Early stopping conditioned on metric `val_loss` which is not available. Available metrics are: loss,accuracy\n",
            "WARNING:tensorflow:Learning rate reduction is conditioned on metric `val_loss` which is not available. Available metrics are: loss,accuracy,lr\n"
          ]
        },
        {
          "output_type": "stream",
          "name": "stdout",
          "text": [
            "\b\b\b\b\b\b\b\b\b\b\b\b\b\b\b\b\b\b\b\b\b\b\b\b\b\b\b\b\b\b\b\b\b\b\b\b\b\b\b\b\b\b\b\b\b\b\b\b\b\b\b\b\b\b\b\b\b\b\b\b\b\b\b\b\b\b\b\b\b\b\b\b\b\b\b\b\b\b\b\b\b\b\b\b\r120/120 [==============================] - 1s 7ms/step - loss: 0.3156 - accuracy: 0.8934 - lr: 3.0000e-05\n",
            "Epoch 14/200\n",
            "117/120 [============================>.] - ETA: 0s - loss: 0.3005 - accuracy: 0.8950"
          ]
        },
        {
          "output_type": "stream",
          "name": "stderr",
          "text": [
            "WARNING:tensorflow:Early stopping conditioned on metric `val_loss` which is not available. Available metrics are: loss,accuracy\n",
            "WARNING:tensorflow:Learning rate reduction is conditioned on metric `val_loss` which is not available. Available metrics are: loss,accuracy,lr\n"
          ]
        },
        {
          "output_type": "stream",
          "name": "stdout",
          "text": [
            "\b\b\b\b\b\b\b\b\b\b\b\b\b\b\b\b\b\b\b\b\b\b\b\b\b\b\b\b\b\b\b\b\b\b\b\b\b\b\b\b\b\b\b\b\b\b\b\b\b\b\b\b\b\b\b\b\b\b\b\b\b\b\b\b\b\b\b\b\b\b\b\b\b\b\b\b\b\b\b\b\b\b\b\b\r120/120 [==============================] - 1s 7ms/step - loss: 0.3037 - accuracy: 0.8934 - lr: 3.0000e-05\n",
            "Epoch 15/200\n",
            "118/120 [============================>.] - ETA: 0s - loss: 0.2942 - accuracy: 0.8930"
          ]
        },
        {
          "output_type": "stream",
          "name": "stderr",
          "text": [
            "WARNING:tensorflow:Early stopping conditioned on metric `val_loss` which is not available. Available metrics are: loss,accuracy\n",
            "WARNING:tensorflow:Learning rate reduction is conditioned on metric `val_loss` which is not available. Available metrics are: loss,accuracy,lr\n"
          ]
        },
        {
          "output_type": "stream",
          "name": "stdout",
          "text": [
            "\b\b\b\b\b\b\b\b\b\b\b\b\b\b\b\b\b\b\b\b\b\b\b\b\b\b\b\b\b\b\b\b\b\b\b\b\b\b\b\b\b\b\b\b\b\b\b\b\b\b\b\b\b\b\b\b\b\b\b\b\b\b\b\b\b\b\b\b\b\b\b\b\b\b\b\b\b\b\b\b\b\b\b\b\r120/120 [==============================] - 1s 7ms/step - loss: 0.2937 - accuracy: 0.8934 - lr: 3.0000e-05\n",
            "Epoch 16/200\n",
            "119/120 [============================>.] - ETA: 0s - loss: 0.2780 - accuracy: 0.8931"
          ]
        },
        {
          "output_type": "stream",
          "name": "stderr",
          "text": [
            "WARNING:tensorflow:Early stopping conditioned on metric `val_loss` which is not available. Available metrics are: loss,accuracy\n",
            "WARNING:tensorflow:Learning rate reduction is conditioned on metric `val_loss` which is not available. Available metrics are: loss,accuracy,lr\n"
          ]
        },
        {
          "output_type": "stream",
          "name": "stdout",
          "text": [
            "\b\b\b\b\b\b\b\b\b\b\b\b\b\b\b\b\b\b\b\b\b\b\b\b\b\b\b\b\b\b\b\b\b\b\b\b\b\b\b\b\b\b\b\b\b\b\b\b\b\b\b\b\b\b\b\b\b\b\b\b\b\b\b\b\b\b\b\b\b\b\b\b\b\b\b\b\b\b\b\b\b\b\b\b\r120/120 [==============================] - 1s 7ms/step - loss: 0.2775 - accuracy: 0.8934 - lr: 3.0000e-05\n",
            "Epoch 17/200\n",
            "119/120 [============================>.] - ETA: 0s - loss: 0.2578 - accuracy: 0.8939"
          ]
        },
        {
          "output_type": "stream",
          "name": "stderr",
          "text": [
            "WARNING:tensorflow:Early stopping conditioned on metric `val_loss` which is not available. Available metrics are: loss,accuracy\n",
            "WARNING:tensorflow:Learning rate reduction is conditioned on metric `val_loss` which is not available. Available metrics are: loss,accuracy,lr\n"
          ]
        },
        {
          "output_type": "stream",
          "name": "stdout",
          "text": [
            "\b\b\b\b\b\b\b\b\b\b\b\b\b\b\b\b\b\b\b\b\b\b\b\b\b\b\b\b\b\b\b\b\b\b\b\b\b\b\b\b\b\b\b\b\b\b\b\b\b\b\b\b\b\b\b\b\b\b\b\b\b\b\b\b\b\b\b\b\b\b\b\b\b\b\b\b\b\b\b\b\b\b\b\b\r120/120 [==============================] - 1s 7ms/step - loss: 0.2576 - accuracy: 0.8940 - lr: 3.0000e-05\n",
            "Epoch 18/200\n",
            "118/120 [============================>.] - ETA: 0s - loss: 0.2361 - accuracy: 0.8943"
          ]
        },
        {
          "output_type": "stream",
          "name": "stderr",
          "text": [
            "WARNING:tensorflow:Early stopping conditioned on metric `val_loss` which is not available. Available metrics are: loss,accuracy\n",
            "WARNING:tensorflow:Learning rate reduction is conditioned on metric `val_loss` which is not available. Available metrics are: loss,accuracy,lr\n"
          ]
        },
        {
          "output_type": "stream",
          "name": "stdout",
          "text": [
            "\b\b\b\b\b\b\b\b\b\b\b\b\b\b\b\b\b\b\b\b\b\b\b\b\b\b\b\b\b\b\b\b\b\b\b\b\b\b\b\b\b\b\b\b\b\b\b\b\b\b\b\b\b\b\b\b\b\b\b\b\b\b\b\b\b\b\b\b\b\b\b\b\b\b\b\b\b\b\b\b\b\b\b\b\r120/120 [==============================] - 1s 7ms/step - loss: 0.2352 - accuracy: 0.8950 - lr: 3.0000e-05\n",
            "Epoch 19/200\n",
            "117/120 [============================>.] - ETA: 0s - loss: 0.2084 - accuracy: 0.9033"
          ]
        },
        {
          "output_type": "stream",
          "name": "stderr",
          "text": [
            "WARNING:tensorflow:Early stopping conditioned on metric `val_loss` which is not available. Available metrics are: loss,accuracy\n",
            "WARNING:tensorflow:Learning rate reduction is conditioned on metric `val_loss` which is not available. Available metrics are: loss,accuracy,lr\n"
          ]
        },
        {
          "output_type": "stream",
          "name": "stdout",
          "text": [
            "\b\b\b\b\b\b\b\b\b\b\b\b\b\b\b\b\b\b\b\b\b\b\b\b\b\b\b\b\b\b\b\b\b\b\b\b\b\b\b\b\b\b\b\b\b\b\b\b\b\b\b\b\b\b\b\b\b\b\b\b\b\b\b\b\b\b\b\b\b\b\b\b\b\b\b\b\b\b\b\b\b\b\b\b\r120/120 [==============================] - 1s 7ms/step - loss: 0.2084 - accuracy: 0.9036 - lr: 3.0000e-05\n",
            "Epoch 20/200\n",
            "118/120 [============================>.] - ETA: 0s - loss: 0.1831 - accuracy: 0.9237"
          ]
        },
        {
          "output_type": "stream",
          "name": "stderr",
          "text": [
            "WARNING:tensorflow:Early stopping conditioned on metric `val_loss` which is not available. Available metrics are: loss,accuracy\n",
            "WARNING:tensorflow:Learning rate reduction is conditioned on metric `val_loss` which is not available. Available metrics are: loss,accuracy,lr\n"
          ]
        },
        {
          "output_type": "stream",
          "name": "stdout",
          "text": [
            "\b\b\b\b\b\b\b\b\b\b\b\b\b\b\b\b\b\b\b\b\b\b\b\b\b\b\b\b\b\b\b\b\b\b\b\b\b\b\b\b\b\b\b\b\b\b\b\b\b\b\b\b\b\b\b\b\b\b\b\b\b\b\b\b\b\b\b\b\b\b\b\b\b\b\b\b\b\b\b\b\b\b\b\b\r120/120 [==============================] - 1s 7ms/step - loss: 0.1830 - accuracy: 0.9235 - lr: 3.0000e-05\n",
            "Epoch 21/200\n",
            "118/120 [============================>.] - ETA: 0s - loss: 0.1594 - accuracy: 0.9401"
          ]
        },
        {
          "output_type": "stream",
          "name": "stderr",
          "text": [
            "WARNING:tensorflow:Early stopping conditioned on metric `val_loss` which is not available. Available metrics are: loss,accuracy\n",
            "WARNING:tensorflow:Learning rate reduction is conditioned on metric `val_loss` which is not available. Available metrics are: loss,accuracy,lr\n"
          ]
        },
        {
          "output_type": "stream",
          "name": "stdout",
          "text": [
            "\b\b\b\b\b\b\b\b\b\b\b\b\b\b\b\b\b\b\b\b\b\b\b\b\b\b\b\b\b\b\b\b\b\b\b\b\b\b\b\b\b\b\b\b\b\b\b\b\b\b\b\b\b\b\b\b\b\b\b\b\b\b\b\b\b\b\b\b\b\b\b\b\b\b\b\b\b\b\b\b\b\b\b\b\r120/120 [==============================] - 1s 7ms/step - loss: 0.1591 - accuracy: 0.9400 - lr: 3.0000e-05\n",
            "Epoch 22/200\n",
            "117/120 [============================>.] - ETA: 0s - loss: 0.1371 - accuracy: 0.9541"
          ]
        },
        {
          "output_type": "stream",
          "name": "stderr",
          "text": [
            "WARNING:tensorflow:Early stopping conditioned on metric `val_loss` which is not available. Available metrics are: loss,accuracy\n",
            "WARNING:tensorflow:Learning rate reduction is conditioned on metric `val_loss` which is not available. Available metrics are: loss,accuracy,lr\n"
          ]
        },
        {
          "output_type": "stream",
          "name": "stdout",
          "text": [
            "\b\b\b\b\b\b\b\b\b\b\b\b\b\b\b\b\b\b\b\b\b\b\b\b\b\b\b\b\b\b\b\b\b\b\b\b\b\b\b\b\b\b\b\b\b\b\b\b\b\b\b\b\b\b\b\b\b\b\b\b\b\b\b\b\b\b\b\b\b\b\b\b\b\b\b\b\b\b\b\b\b\b\b\b\r120/120 [==============================] - 1s 7ms/step - loss: 0.1367 - accuracy: 0.9539 - lr: 3.0000e-05\n",
            "Epoch 23/200\n",
            "118/120 [============================>.] - ETA: 0s - loss: 0.1185 - accuracy: 0.9635"
          ]
        },
        {
          "output_type": "stream",
          "name": "stderr",
          "text": [
            "WARNING:tensorflow:Early stopping conditioned on metric `val_loss` which is not available. Available metrics are: loss,accuracy\n",
            "WARNING:tensorflow:Learning rate reduction is conditioned on metric `val_loss` which is not available. Available metrics are: loss,accuracy,lr\n"
          ]
        },
        {
          "output_type": "stream",
          "name": "stdout",
          "text": [
            "\b\b\b\b\b\b\b\b\b\b\b\b\b\b\b\b\b\b\b\b\b\b\b\b\b\b\b\b\b\b\b\b\b\b\b\b\b\b\b\b\b\b\b\b\b\b\b\b\b\b\b\b\b\b\b\b\b\b\b\b\b\b\b\b\b\b\b\b\b\b\b\b\b\b\b\b\b\b\b\b\b\b\b\b\r120/120 [==============================] - 1s 7ms/step - loss: 0.1184 - accuracy: 0.9633 - lr: 3.0000e-05\n",
            "Epoch 24/200\n",
            "118/120 [============================>.] - ETA: 0s - loss: 0.1014 - accuracy: 0.9717"
          ]
        },
        {
          "output_type": "stream",
          "name": "stderr",
          "text": [
            "WARNING:tensorflow:Early stopping conditioned on metric `val_loss` which is not available. Available metrics are: loss,accuracy\n",
            "WARNING:tensorflow:Learning rate reduction is conditioned on metric `val_loss` which is not available. Available metrics are: loss,accuracy,lr\n"
          ]
        },
        {
          "output_type": "stream",
          "name": "stdout",
          "text": [
            "\b\b\b\b\b\b\b\b\b\b\b\b\b\b\b\b\b\b\b\b\b\b\b\b\b\b\b\b\b\b\b\b\b\b\b\b\b\b\b\b\b\b\b\b\b\b\b\b\b\b\b\b\b\b\b\b\b\b\b\b\b\b\b\b\b\b\b\b\b\b\b\b\b\b\b\b\b\b\b\b\b\b\b\b\r120/120 [==============================] - 1s 7ms/step - loss: 0.1019 - accuracy: 0.9717 - lr: 3.0000e-05\n",
            "Epoch 25/200\n",
            "120/120 [==============================] - ETA: 0s - loss: 0.0877 - accuracy: 0.9780"
          ]
        },
        {
          "output_type": "stream",
          "name": "stderr",
          "text": [
            "WARNING:tensorflow:Early stopping conditioned on metric `val_loss` which is not available. Available metrics are: loss,accuracy\n",
            "WARNING:tensorflow:Learning rate reduction is conditioned on metric `val_loss` which is not available. Available metrics are: loss,accuracy,lr\n"
          ]
        },
        {
          "output_type": "stream",
          "name": "stdout",
          "text": [
            "\b\b\b\b\b\b\b\b\b\b\b\b\b\b\b\b\b\b\b\b\b\b\b\b\b\b\b\b\b\b\b\b\b\b\b\b\b\b\b\b\b\b\b\b\b\b\b\b\b\b\b\b\b\b\b\b\b\b\b\b\b\b\b\b\b\b\b\b\b\b\b\b\b\b\b\b\b\b\b\b\b\b\b\b\r120/120 [==============================] - 1s 7ms/step - loss: 0.0877 - accuracy: 0.9780 - lr: 3.0000e-05\n",
            "Epoch 26/200\n",
            "118/120 [============================>.] - ETA: 0s - loss: 0.0738 - accuracy: 0.9831"
          ]
        },
        {
          "output_type": "stream",
          "name": "stderr",
          "text": [
            "WARNING:tensorflow:Early stopping conditioned on metric `val_loss` which is not available. Available metrics are: loss,accuracy\n",
            "WARNING:tensorflow:Learning rate reduction is conditioned on metric `val_loss` which is not available. Available metrics are: loss,accuracy,lr\n"
          ]
        },
        {
          "output_type": "stream",
          "name": "stdout",
          "text": [
            "\b\b\b\b\b\b\b\b\b\b\b\b\b\b\b\b\b\b\b\b\b\b\b\b\b\b\b\b\b\b\b\b\b\b\b\b\b\b\b\b\b\b\b\b\b\b\b\b\b\b\b\b\b\b\b\b\b\b\b\b\b\b\b\b\b\b\b\b\b\b\b\b\b\b\b\b\b\b\b\b\b\b\b\b\r120/120 [==============================] - 1s 7ms/step - loss: 0.0746 - accuracy: 0.9827 - lr: 3.0000e-05\n",
            "Epoch 27/200\n",
            "117/120 [============================>.] - ETA: 0s - loss: 0.0679 - accuracy: 0.9848"
          ]
        },
        {
          "output_type": "stream",
          "name": "stderr",
          "text": [
            "WARNING:tensorflow:Early stopping conditioned on metric `val_loss` which is not available. Available metrics are: loss,accuracy\n",
            "WARNING:tensorflow:Learning rate reduction is conditioned on metric `val_loss` which is not available. Available metrics are: loss,accuracy,lr\n"
          ]
        },
        {
          "output_type": "stream",
          "name": "stdout",
          "text": [
            "\b\b\b\b\b\b\b\b\b\b\b\b\b\b\b\b\b\b\b\b\b\b\b\b\b\b\b\b\b\b\b\b\b\b\b\b\b\b\b\b\b\b\b\b\b\b\b\b\b\b\b\b\b\b\b\b\b\b\b\b\b\b\b\b\b\b\b\b\b\b\b\b\b\b\b\b\b\b\b\b\b\b\b\b\r120/120 [==============================] - 1s 7ms/step - loss: 0.0679 - accuracy: 0.9848 - lr: 3.0000e-05\n",
            "Epoch 28/200\n",
            "113/120 [===========================>..] - ETA: 0s - loss: 0.0606 - accuracy: 0.9853"
          ]
        },
        {
          "output_type": "stream",
          "name": "stderr",
          "text": [
            "WARNING:tensorflow:Early stopping conditioned on metric `val_loss` which is not available. Available metrics are: loss,accuracy\n",
            "WARNING:tensorflow:Learning rate reduction is conditioned on metric `val_loss` which is not available. Available metrics are: loss,accuracy,lr\n"
          ]
        },
        {
          "output_type": "stream",
          "name": "stdout",
          "text": [
            "\b\b\b\b\b\b\b\b\b\b\b\b\b\b\b\b\b\b\b\b\b\b\b\b\b\b\b\b\b\b\b\b\b\b\b\b\b\b\b\b\b\b\b\b\b\b\b\b\b\b\b\b\b\b\b\b\b\b\b\b\b\b\b\b\b\b\b\b\b\b\b\b\b\b\b\b\b\b\b\b\b\b\b\b\r120/120 [==============================] - 1s 7ms/step - loss: 0.0601 - accuracy: 0.9859 - lr: 3.0000e-05\n",
            "Epoch 29/200\n",
            "116/120 [============================>.] - ETA: 0s - loss: 0.0507 - accuracy: 0.9892"
          ]
        },
        {
          "output_type": "stream",
          "name": "stderr",
          "text": [
            "WARNING:tensorflow:Early stopping conditioned on metric `val_loss` which is not available. Available metrics are: loss,accuracy\n",
            "WARNING:tensorflow:Learning rate reduction is conditioned on metric `val_loss` which is not available. Available metrics are: loss,accuracy,lr\n"
          ]
        },
        {
          "output_type": "stream",
          "name": "stdout",
          "text": [
            "\b\b\b\b\b\b\b\b\b\b\b\b\b\b\b\b\b\b\b\b\b\b\b\b\b\b\b\b\b\b\b\b\b\b\b\b\b\b\b\b\b\b\b\b\b\b\b\b\b\b\b\b\b\b\b\b\b\b\b\b\b\b\b\b\b\b\b\b\b\b\b\b\b\b\b\b\b\b\b\b\b\b\b\b\r120/120 [==============================] - 1s 7ms/step - loss: 0.0504 - accuracy: 0.9893 - lr: 3.0000e-05\n",
            "Epoch 30/200\n",
            "119/120 [============================>.] - ETA: 0s - loss: 0.0465 - accuracy: 0.9919"
          ]
        },
        {
          "output_type": "stream",
          "name": "stderr",
          "text": [
            "WARNING:tensorflow:Early stopping conditioned on metric `val_loss` which is not available. Available metrics are: loss,accuracy\n",
            "WARNING:tensorflow:Learning rate reduction is conditioned on metric `val_loss` which is not available. Available metrics are: loss,accuracy,lr\n"
          ]
        },
        {
          "output_type": "stream",
          "name": "stdout",
          "text": [
            "\b\b\b\b\b\b\b\b\b\b\b\b\b\b\b\b\b\b\b\b\b\b\b\b\b\b\b\b\b\b\b\b\b\b\b\b\b\b\b\b\b\b\b\b\b\b\b\b\b\b\b\b\b\b\b\b\b\b\b\b\b\b\b\b\b\b\b\b\b\b\b\b\b\b\b\b\b\b\b\b\b\b\b\b\r120/120 [==============================] - 1s 7ms/step - loss: 0.0465 - accuracy: 0.9919 - lr: 3.0000e-05\n",
            "Epoch 31/200\n",
            "119/120 [============================>.] - ETA: 0s - loss: 0.0412 - accuracy: 0.9916"
          ]
        },
        {
          "output_type": "stream",
          "name": "stderr",
          "text": [
            "WARNING:tensorflow:Early stopping conditioned on metric `val_loss` which is not available. Available metrics are: loss,accuracy\n",
            "WARNING:tensorflow:Learning rate reduction is conditioned on metric `val_loss` which is not available. Available metrics are: loss,accuracy,lr\n"
          ]
        },
        {
          "output_type": "stream",
          "name": "stdout",
          "text": [
            "\b\b\b\b\b\b\b\b\b\b\b\b\b\b\b\b\b\b\b\b\b\b\b\b\b\b\b\b\b\b\b\b\b\b\b\b\b\b\b\b\b\b\b\b\b\b\b\b\b\b\b\b\b\b\b\b\b\b\b\b\b\b\b\b\b\b\b\b\b\b\b\b\b\b\b\b\b\b\b\b\b\b\b\b\r120/120 [==============================] - 1s 7ms/step - loss: 0.0411 - accuracy: 0.9916 - lr: 3.0000e-05\n",
            "Epoch 32/200\n",
            "119/120 [============================>.] - ETA: 0s - loss: 0.0366 - accuracy: 0.9919"
          ]
        },
        {
          "output_type": "stream",
          "name": "stderr",
          "text": [
            "WARNING:tensorflow:Early stopping conditioned on metric `val_loss` which is not available. Available metrics are: loss,accuracy\n",
            "WARNING:tensorflow:Learning rate reduction is conditioned on metric `val_loss` which is not available. Available metrics are: loss,accuracy,lr\n"
          ]
        },
        {
          "output_type": "stream",
          "name": "stdout",
          "text": [
            "\b\b\b\b\b\b\b\b\b\b\b\b\b\b\b\b\b\b\b\b\b\b\b\b\b\b\b\b\b\b\b\b\b\b\b\b\b\b\b\b\b\b\b\b\b\b\b\b\b\b\b\b\b\b\b\b\b\b\b\b\b\b\b\b\b\b\b\b\b\b\b\b\b\b\b\b\b\b\b\b\b\b\b\b\r120/120 [==============================] - 1s 7ms/step - loss: 0.0366 - accuracy: 0.9919 - lr: 3.0000e-05\n",
            "Epoch 33/200\n",
            "117/120 [============================>.] - ETA: 0s - loss: 0.0342 - accuracy: 0.9952"
          ]
        },
        {
          "output_type": "stream",
          "name": "stderr",
          "text": [
            "WARNING:tensorflow:Early stopping conditioned on metric `val_loss` which is not available. Available metrics are: loss,accuracy\n",
            "WARNING:tensorflow:Learning rate reduction is conditioned on metric `val_loss` which is not available. Available metrics are: loss,accuracy,lr\n"
          ]
        },
        {
          "output_type": "stream",
          "name": "stdout",
          "text": [
            "\b\b\b\b\b\b\b\b\b\b\b\b\b\b\b\b\b\b\b\b\b\b\b\b\b\b\b\b\b\b\b\b\b\b\b\b\b\b\b\b\b\b\b\b\b\b\b\b\b\b\b\b\b\b\b\b\b\b\b\b\b\b\b\b\b\b\b\b\b\b\b\b\b\b\b\b\b\b\b\b\b\b\b\b\r120/120 [==============================] - 1s 7ms/step - loss: 0.0340 - accuracy: 0.9953 - lr: 3.0000e-05\n",
            "Epoch 34/200\n",
            "117/120 [============================>.] - ETA: 0s - loss: 0.0332 - accuracy: 0.9925"
          ]
        },
        {
          "output_type": "stream",
          "name": "stderr",
          "text": [
            "WARNING:tensorflow:Early stopping conditioned on metric `val_loss` which is not available. Available metrics are: loss,accuracy\n",
            "WARNING:tensorflow:Learning rate reduction is conditioned on metric `val_loss` which is not available. Available metrics are: loss,accuracy,lr\n"
          ]
        },
        {
          "output_type": "stream",
          "name": "stdout",
          "text": [
            "\b\b\b\b\b\b\b\b\b\b\b\b\b\b\b\b\b\b\b\b\b\b\b\b\b\b\b\b\b\b\b\b\b\b\b\b\b\b\b\b\b\b\b\b\b\b\b\b\b\b\b\b\b\b\b\b\b\b\b\b\b\b\b\b\b\b\b\b\b\b\b\b\b\b\b\b\b\b\b\b\b\b\b\b\r120/120 [==============================] - 1s 7ms/step - loss: 0.0330 - accuracy: 0.9927 - lr: 3.0000e-05\n",
            "Epoch 35/200\n",
            "112/120 [===========================>..] - ETA: 0s - loss: 0.0276 - accuracy: 0.9950"
          ]
        },
        {
          "output_type": "stream",
          "name": "stderr",
          "text": [
            "WARNING:tensorflow:Early stopping conditioned on metric `val_loss` which is not available. Available metrics are: loss,accuracy\n",
            "WARNING:tensorflow:Learning rate reduction is conditioned on metric `val_loss` which is not available. Available metrics are: loss,accuracy,lr\n"
          ]
        },
        {
          "output_type": "stream",
          "name": "stdout",
          "text": [
            "\b\b\b\b\b\b\b\b\b\b\b\b\b\b\b\b\b\b\b\b\b\b\b\b\b\b\b\b\b\b\b\b\b\b\b\b\b\b\b\b\b\b\b\b\b\b\b\b\b\b\b\b\b\b\b\b\b\b\b\b\b\b\b\b\b\b\b\b\b\b\b\b\b\b\b\b\b\b\b\b\b\b\b\b\r120/120 [==============================] - 1s 7ms/step - loss: 0.0279 - accuracy: 0.9948 - lr: 3.0000e-05\n",
            "Epoch 36/200\n",
            "118/120 [============================>.] - ETA: 0s - loss: 0.0250 - accuracy: 0.9966"
          ]
        },
        {
          "output_type": "stream",
          "name": "stderr",
          "text": [
            "WARNING:tensorflow:Early stopping conditioned on metric `val_loss` which is not available. Available metrics are: loss,accuracy\n",
            "WARNING:tensorflow:Learning rate reduction is conditioned on metric `val_loss` which is not available. Available metrics are: loss,accuracy,lr\n"
          ]
        },
        {
          "output_type": "stream",
          "name": "stdout",
          "text": [
            "\b\b\b\b\b\b\b\b\b\b\b\b\b\b\b\b\b\b\b\b\b\b\b\b\b\b\b\b\b\b\b\b\b\b\b\b\b\b\b\b\b\b\b\b\b\b\b\b\b\b\b\b\b\b\b\b\b\b\b\b\b\b\b\b\b\b\b\b\b\b\b\b\b\b\b\b\b\b\b\b\b\b\b\b\r120/120 [==============================] - 1s 7ms/step - loss: 0.0251 - accuracy: 0.9963 - lr: 3.0000e-05\n",
            "Epoch 37/200\n",
            "116/120 [============================>.] - ETA: 0s - loss: 0.0227 - accuracy: 0.9960"
          ]
        },
        {
          "output_type": "stream",
          "name": "stderr",
          "text": [
            "WARNING:tensorflow:Early stopping conditioned on metric `val_loss` which is not available. Available metrics are: loss,accuracy\n",
            "WARNING:tensorflow:Learning rate reduction is conditioned on metric `val_loss` which is not available. Available metrics are: loss,accuracy,lr\n"
          ]
        },
        {
          "output_type": "stream",
          "name": "stdout",
          "text": [
            "\b\b\b\b\b\b\b\b\b\b\b\b\b\b\b\b\b\b\b\b\b\b\b\b\b\b\b\b\b\b\b\b\b\b\b\b\b\b\b\b\b\b\b\b\b\b\b\b\b\b\b\b\b\b\b\b\b\b\b\b\b\b\b\b\b\b\b\b\b\b\b\b\b\b\b\b\b\b\b\b\b\b\b\b\r120/120 [==============================] - 1s 7ms/step - loss: 0.0226 - accuracy: 0.9961 - lr: 3.0000e-05\n",
            "Epoch 38/200\n",
            "119/120 [============================>.] - ETA: 0s - loss: 0.0241 - accuracy: 0.9955"
          ]
        },
        {
          "output_type": "stream",
          "name": "stderr",
          "text": [
            "WARNING:tensorflow:Early stopping conditioned on metric `val_loss` which is not available. Available metrics are: loss,accuracy\n",
            "WARNING:tensorflow:Learning rate reduction is conditioned on metric `val_loss` which is not available. Available metrics are: loss,accuracy,lr\n"
          ]
        },
        {
          "output_type": "stream",
          "name": "stdout",
          "text": [
            "\b\b\b\b\b\b\b\b\b\b\b\b\b\b\b\b\b\b\b\b\b\b\b\b\b\b\b\b\b\b\b\b\b\b\b\b\b\b\b\b\b\b\b\b\b\b\b\b\b\b\b\b\b\b\b\b\b\b\b\b\b\b\b\b\b\b\b\b\b\b\b\b\b\b\b\b\b\b\b\b\b\b\b\b\r120/120 [==============================] - 1s 7ms/step - loss: 0.0241 - accuracy: 0.9955 - lr: 3.0000e-05\n",
            "Epoch 39/200\n",
            "116/120 [============================>.] - ETA: 0s - loss: 0.0209 - accuracy: 0.9968"
          ]
        },
        {
          "output_type": "stream",
          "name": "stderr",
          "text": [
            "WARNING:tensorflow:Early stopping conditioned on metric `val_loss` which is not available. Available metrics are: loss,accuracy\n",
            "WARNING:tensorflow:Learning rate reduction is conditioned on metric `val_loss` which is not available. Available metrics are: loss,accuracy,lr\n"
          ]
        },
        {
          "output_type": "stream",
          "name": "stdout",
          "text": [
            "\b\b\b\b\b\b\b\b\b\b\b\b\b\b\b\b\b\b\b\b\b\b\b\b\b\b\b\b\b\b\b\b\b\b\b\b\b\b\b\b\b\b\b\b\b\b\b\b\b\b\b\b\b\b\b\b\b\b\b\b\b\b\b\b\b\b\b\b\b\b\b\b\b\b\b\b\b\b\b\b\b\b\b\b\r120/120 [==============================] - 1s 7ms/step - loss: 0.0206 - accuracy: 0.9969 - lr: 3.0000e-05\n",
            "Epoch 40/200\n",
            "117/120 [============================>.] - ETA: 0s - loss: 0.0196 - accuracy: 0.9968"
          ]
        },
        {
          "output_type": "stream",
          "name": "stderr",
          "text": [
            "WARNING:tensorflow:Early stopping conditioned on metric `val_loss` which is not available. Available metrics are: loss,accuracy\n",
            "WARNING:tensorflow:Learning rate reduction is conditioned on metric `val_loss` which is not available. Available metrics are: loss,accuracy,lr\n"
          ]
        },
        {
          "output_type": "stream",
          "name": "stdout",
          "text": [
            "\b\b\b\b\b\b\b\b\b\b\b\b\b\b\b\b\b\b\b\b\b\b\b\b\b\b\b\b\b\b\b\b\b\b\b\b\b\b\b\b\b\b\b\b\b\b\b\b\b\b\b\b\b\b\b\b\b\b\b\b\b\b\b\b\b\b\b\b\b\b\b\b\b\b\b\b\b\b\b\b\b\b\b\b\r120/120 [==============================] - 1s 7ms/step - loss: 0.0195 - accuracy: 0.9969 - lr: 3.0000e-05\n",
            "Epoch 41/200\n",
            "118/120 [============================>.] - ETA: 0s - loss: 0.0162 - accuracy: 0.9974"
          ]
        },
        {
          "output_type": "stream",
          "name": "stderr",
          "text": [
            "WARNING:tensorflow:Early stopping conditioned on metric `val_loss` which is not available. Available metrics are: loss,accuracy\n",
            "WARNING:tensorflow:Learning rate reduction is conditioned on metric `val_loss` which is not available. Available metrics are: loss,accuracy,lr\n"
          ]
        },
        {
          "output_type": "stream",
          "name": "stdout",
          "text": [
            "\b\b\b\b\b\b\b\b\b\b\b\b\b\b\b\b\b\b\b\b\b\b\b\b\b\b\b\b\b\b\b\b\b\b\b\b\b\b\b\b\b\b\b\b\b\b\b\b\b\b\b\b\b\b\b\b\b\b\b\b\b\b\b\b\b\b\b\b\b\b\b\b\b\b\b\b\b\b\b\b\b\b\b\b\r120/120 [==============================] - 1s 7ms/step - loss: 0.0164 - accuracy: 0.9971 - lr: 3.0000e-05\n",
            "Epoch 42/200\n",
            "118/120 [============================>.] - ETA: 0s - loss: 0.0174 - accuracy: 0.9974"
          ]
        },
        {
          "output_type": "stream",
          "name": "stderr",
          "text": [
            "WARNING:tensorflow:Early stopping conditioned on metric `val_loss` which is not available. Available metrics are: loss,accuracy\n",
            "WARNING:tensorflow:Learning rate reduction is conditioned on metric `val_loss` which is not available. Available metrics are: loss,accuracy,lr\n"
          ]
        },
        {
          "output_type": "stream",
          "name": "stdout",
          "text": [
            "\b\b\b\b\b\b\b\b\b\b\b\b\b\b\b\b\b\b\b\b\b\b\b\b\b\b\b\b\b\b\b\b\b\b\b\b\b\b\b\b\b\b\b\b\b\b\b\b\b\b\b\b\b\b\b\b\b\b\b\b\b\b\b\b\b\b\b\b\b\b\b\b\b\b\b\b\b\b\b\b\b\b\b\b\r120/120 [==============================] - 1s 7ms/step - loss: 0.0175 - accuracy: 0.9974 - lr: 3.0000e-05\n",
            "Epoch 43/200\n",
            "115/120 [===========================>..] - ETA: 0s - loss: 0.0149 - accuracy: 0.9984"
          ]
        },
        {
          "output_type": "stream",
          "name": "stderr",
          "text": [
            "WARNING:tensorflow:Early stopping conditioned on metric `val_loss` which is not available. Available metrics are: loss,accuracy\n",
            "WARNING:tensorflow:Learning rate reduction is conditioned on metric `val_loss` which is not available. Available metrics are: loss,accuracy,lr\n"
          ]
        },
        {
          "output_type": "stream",
          "name": "stdout",
          "text": [
            "\b\b\b\b\b\b\b\b\b\b\b\b\b\b\b\b\b\b\b\b\b\b\b\b\b\b\b\b\b\b\b\b\b\b\b\b\b\b\b\b\b\b\b\b\b\b\b\b\b\b\b\b\b\b\b\b\b\b\b\b\b\b\b\b\b\b\b\b\b\b\b\b\b\b\b\b\b\b\b\b\b\b\b\b\r120/120 [==============================] - 1s 7ms/step - loss: 0.0149 - accuracy: 0.9984 - lr: 3.0000e-05\n",
            "Epoch 44/200\n",
            "116/120 [============================>.] - ETA: 0s - loss: 0.0139 - accuracy: 0.9981"
          ]
        },
        {
          "output_type": "stream",
          "name": "stderr",
          "text": [
            "WARNING:tensorflow:Early stopping conditioned on metric `val_loss` which is not available. Available metrics are: loss,accuracy\n",
            "WARNING:tensorflow:Learning rate reduction is conditioned on metric `val_loss` which is not available. Available metrics are: loss,accuracy,lr\n"
          ]
        },
        {
          "output_type": "stream",
          "name": "stdout",
          "text": [
            "\b\b\b\b\b\b\b\b\b\b\b\b\b\b\b\b\b\b\b\b\b\b\b\b\b\b\b\b\b\b\b\b\b\b\b\b\b\b\b\b\b\b\b\b\b\b\b\b\b\b\b\b\b\b\b\b\b\b\b\b\b\b\b\b\b\b\b\b\b\b\b\b\b\b\b\b\b\b\b\b\b\b\b\b\r120/120 [==============================] - 1s 7ms/step - loss: 0.0140 - accuracy: 0.9982 - lr: 3.0000e-05\n",
            "Epoch 45/200\n",
            "118/120 [============================>.] - ETA: 0s - loss: 0.0117 - accuracy: 0.9984"
          ]
        },
        {
          "output_type": "stream",
          "name": "stderr",
          "text": [
            "WARNING:tensorflow:Early stopping conditioned on metric `val_loss` which is not available. Available metrics are: loss,accuracy\n",
            "WARNING:tensorflow:Learning rate reduction is conditioned on metric `val_loss` which is not available. Available metrics are: loss,accuracy,lr\n"
          ]
        },
        {
          "output_type": "stream",
          "name": "stdout",
          "text": [
            "\b\b\b\b\b\b\b\b\b\b\b\b\b\b\b\b\b\b\b\b\b\b\b\b\b\b\b\b\b\b\b\b\b\b\b\b\b\b\b\b\b\b\b\b\b\b\b\b\b\b\b\b\b\b\b\b\b\b\b\b\b\b\b\b\b\b\b\b\b\b\b\b\b\b\b\b\b\b\b\b\b\b\b\b\r120/120 [==============================] - 1s 7ms/step - loss: 0.0117 - accuracy: 0.9984 - lr: 3.0000e-05\n",
            "Epoch 46/200\n",
            "118/120 [============================>.] - ETA: 0s - loss: 0.0126 - accuracy: 0.9979"
          ]
        },
        {
          "output_type": "stream",
          "name": "stderr",
          "text": [
            "WARNING:tensorflow:Early stopping conditioned on metric `val_loss` which is not available. Available metrics are: loss,accuracy\n",
            "WARNING:tensorflow:Learning rate reduction is conditioned on metric `val_loss` which is not available. Available metrics are: loss,accuracy,lr\n"
          ]
        },
        {
          "output_type": "stream",
          "name": "stdout",
          "text": [
            "\b\b\b\b\b\b\b\b\b\b\b\b\b\b\b\b\b\b\b\b\b\b\b\b\b\b\b\b\b\b\b\b\b\b\b\b\b\b\b\b\b\b\b\b\b\b\b\b\b\b\b\b\b\b\b\b\b\b\b\b\b\b\b\b\b\b\b\b\b\b\b\b\b\b\b\b\b\b\b\b\b\b\b\b\r120/120 [==============================] - 1s 7ms/step - loss: 0.0126 - accuracy: 0.9979 - lr: 3.0000e-05\n",
            "Epoch 47/200\n",
            "118/120 [============================>.] - ETA: 0s - loss: 0.0117 - accuracy: 0.9979"
          ]
        },
        {
          "output_type": "stream",
          "name": "stderr",
          "text": [
            "WARNING:tensorflow:Early stopping conditioned on metric `val_loss` which is not available. Available metrics are: loss,accuracy\n",
            "WARNING:tensorflow:Learning rate reduction is conditioned on metric `val_loss` which is not available. Available metrics are: loss,accuracy,lr\n"
          ]
        },
        {
          "output_type": "stream",
          "name": "stdout",
          "text": [
            "\b\b\b\b\b\b\b\b\b\b\b\b\b\b\b\b\b\b\b\b\b\b\b\b\b\b\b\b\b\b\b\b\b\b\b\b\b\b\b\b\b\b\b\b\b\b\b\b\b\b\b\b\b\b\b\b\b\b\b\b\b\b\b\b\b\b\b\b\b\b\b\b\b\b\b\b\b\b\b\b\b\b\b\b\r120/120 [==============================] - 1s 7ms/step - loss: 0.0116 - accuracy: 0.9979 - lr: 3.0000e-05\n",
            "Epoch 48/200\n",
            "119/120 [============================>.] - ETA: 0s - loss: 0.0106 - accuracy: 0.9979"
          ]
        },
        {
          "output_type": "stream",
          "name": "stderr",
          "text": [
            "WARNING:tensorflow:Early stopping conditioned on metric `val_loss` which is not available. Available metrics are: loss,accuracy\n",
            "WARNING:tensorflow:Learning rate reduction is conditioned on metric `val_loss` which is not available. Available metrics are: loss,accuracy,lr\n"
          ]
        },
        {
          "output_type": "stream",
          "name": "stdout",
          "text": [
            "\b\b\b\b\b\b\b\b\b\b\b\b\b\b\b\b\b\b\b\b\b\b\b\b\b\b\b\b\b\b\b\b\b\b\b\b\b\b\b\b\b\b\b\b\b\b\b\b\b\b\b\b\b\b\b\b\b\b\b\b\b\b\b\b\b\b\b\b\b\b\b\b\b\b\b\b\b\b\b\b\b\b\b\b\r120/120 [==============================] - 1s 7ms/step - loss: 0.0106 - accuracy: 0.9979 - lr: 3.0000e-05\n",
            "Epoch 49/200\n",
            "117/120 [============================>.] - ETA: 0s - loss: 0.0108 - accuracy: 0.9989"
          ]
        },
        {
          "output_type": "stream",
          "name": "stderr",
          "text": [
            "WARNING:tensorflow:Early stopping conditioned on metric `val_loss` which is not available. Available metrics are: loss,accuracy\n",
            "WARNING:tensorflow:Learning rate reduction is conditioned on metric `val_loss` which is not available. Available metrics are: loss,accuracy,lr\n"
          ]
        },
        {
          "output_type": "stream",
          "name": "stdout",
          "text": [
            "\b\b\b\b\b\b\b\b\b\b\b\b\b\b\b\b\b\b\b\b\b\b\b\b\b\b\b\b\b\b\b\b\b\b\b\b\b\b\b\b\b\b\b\b\b\b\b\b\b\b\b\b\b\b\b\b\b\b\b\b\b\b\b\b\b\b\b\b\b\b\b\b\b\b\b\b\b\b\b\b\b\b\b\b\r120/120 [==============================] - 1s 7ms/step - loss: 0.0107 - accuracy: 0.9990 - lr: 3.0000e-05\n",
            "Epoch 50/200\n",
            "119/120 [============================>.] - ETA: 0s - loss: 0.0106 - accuracy: 0.9987"
          ]
        },
        {
          "output_type": "stream",
          "name": "stderr",
          "text": [
            "WARNING:tensorflow:Early stopping conditioned on metric `val_loss` which is not available. Available metrics are: loss,accuracy\n",
            "WARNING:tensorflow:Learning rate reduction is conditioned on metric `val_loss` which is not available. Available metrics are: loss,accuracy,lr\n"
          ]
        },
        {
          "output_type": "stream",
          "name": "stdout",
          "text": [
            "\b\b\b\b\b\b\b\b\b\b\b\b\b\b\b\b\b\b\b\b\b\b\b\b\b\b\b\b\b\b\b\b\b\b\b\b\b\b\b\b\b\b\b\b\b\b\b\b\b\b\b\b\b\b\b\b\b\b\b\b\b\b\b\b\b\b\b\b\b\b\b\b\b\b\b\b\b\b\b\b\b\b\b\b\r120/120 [==============================] - 1s 7ms/step - loss: 0.0105 - accuracy: 0.9987 - lr: 3.0000e-05\n",
            "Epoch 51/200\n",
            "114/120 [===========================>..] - ETA: 0s - loss: 0.0096 - accuracy: 0.9989"
          ]
        },
        {
          "output_type": "stream",
          "name": "stderr",
          "text": [
            "WARNING:tensorflow:Early stopping conditioned on metric `val_loss` which is not available. Available metrics are: loss,accuracy\n",
            "WARNING:tensorflow:Learning rate reduction is conditioned on metric `val_loss` which is not available. Available metrics are: loss,accuracy,lr\n"
          ]
        },
        {
          "output_type": "stream",
          "name": "stdout",
          "text": [
            "\b\b\b\b\b\b\b\b\b\b\b\b\b\b\b\b\b\b\b\b\b\b\b\b\b\b\b\b\b\b\b\b\b\b\b\b\b\b\b\b\b\b\b\b\b\b\b\b\b\b\b\b\b\b\b\b\b\b\b\b\b\b\b\b\b\b\b\b\b\b\b\b\b\b\b\b\b\b\b\b\b\b\b\b\r120/120 [==============================] - 1s 7ms/step - loss: 0.0095 - accuracy: 0.9990 - lr: 3.0000e-05\n",
            "Epoch 52/200\n",
            "118/120 [============================>.] - ETA: 0s - loss: 0.0095 - accuracy: 0.9987"
          ]
        },
        {
          "output_type": "stream",
          "name": "stderr",
          "text": [
            "WARNING:tensorflow:Early stopping conditioned on metric `val_loss` which is not available. Available metrics are: loss,accuracy\n",
            "WARNING:tensorflow:Learning rate reduction is conditioned on metric `val_loss` which is not available. Available metrics are: loss,accuracy,lr\n"
          ]
        },
        {
          "output_type": "stream",
          "name": "stdout",
          "text": [
            "\b\b\b\b\b\b\b\b\b\b\b\b\b\b\b\b\b\b\b\b\b\b\b\b\b\b\b\b\b\b\b\b\b\b\b\b\b\b\b\b\b\b\b\b\b\b\b\b\b\b\b\b\b\b\b\b\b\b\b\b\b\b\b\b\b\b\b\b\b\b\b\b\b\b\b\b\b\b\b\b\b\b\b\b\r120/120 [==============================] - 1s 7ms/step - loss: 0.0094 - accuracy: 0.9987 - lr: 3.0000e-05\n",
            "Epoch 53/200\n",
            "117/120 [============================>.] - ETA: 0s - loss: 0.0091 - accuracy: 0.9984"
          ]
        },
        {
          "output_type": "stream",
          "name": "stderr",
          "text": [
            "WARNING:tensorflow:Early stopping conditioned on metric `val_loss` which is not available. Available metrics are: loss,accuracy\n",
            "WARNING:tensorflow:Learning rate reduction is conditioned on metric `val_loss` which is not available. Available metrics are: loss,accuracy,lr\n"
          ]
        },
        {
          "output_type": "stream",
          "name": "stdout",
          "text": [
            "\b\b\b\b\b\b\b\b\b\b\b\b\b\b\b\b\b\b\b\b\b\b\b\b\b\b\b\b\b\b\b\b\b\b\b\b\b\b\b\b\b\b\b\b\b\b\b\b\b\b\b\b\b\b\b\b\b\b\b\b\b\b\b\b\b\b\b\b\b\b\b\b\b\b\b\b\b\b\b\b\b\b\b\b\r120/120 [==============================] - 1s 7ms/step - loss: 0.0091 - accuracy: 0.9984 - lr: 3.0000e-05\n",
            "Epoch 54/200\n",
            "118/120 [============================>.] - ETA: 0s - loss: 0.0082 - accuracy: 0.9992"
          ]
        },
        {
          "output_type": "stream",
          "name": "stderr",
          "text": [
            "WARNING:tensorflow:Early stopping conditioned on metric `val_loss` which is not available. Available metrics are: loss,accuracy\n",
            "WARNING:tensorflow:Learning rate reduction is conditioned on metric `val_loss` which is not available. Available metrics are: loss,accuracy,lr\n"
          ]
        },
        {
          "output_type": "stream",
          "name": "stdout",
          "text": [
            "\b\b\b\b\b\b\b\b\b\b\b\b\b\b\b\b\b\b\b\b\b\b\b\b\b\b\b\b\b\b\b\b\b\b\b\b\b\b\b\b\b\b\b\b\b\b\b\b\b\b\b\b\b\b\b\b\b\b\b\b\b\b\b\b\b\b\b\b\b\b\b\b\b\b\b\b\b\b\b\b\b\b\b\b\r120/120 [==============================] - 1s 7ms/step - loss: 0.0081 - accuracy: 0.9992 - lr: 3.0000e-05\n",
            "Epoch 55/200\n",
            "117/120 [============================>.] - ETA: 0s - loss: 0.0079 - accuracy: 0.9984"
          ]
        },
        {
          "output_type": "stream",
          "name": "stderr",
          "text": [
            "WARNING:tensorflow:Early stopping conditioned on metric `val_loss` which is not available. Available metrics are: loss,accuracy\n",
            "WARNING:tensorflow:Learning rate reduction is conditioned on metric `val_loss` which is not available. Available metrics are: loss,accuracy,lr\n"
          ]
        },
        {
          "output_type": "stream",
          "name": "stdout",
          "text": [
            "\b\b\b\b\b\b\b\b\b\b\b\b\b\b\b\b\b\b\b\b\b\b\b\b\b\b\b\b\b\b\b\b\b\b\b\b\b\b\b\b\b\b\b\b\b\b\b\b\b\b\b\b\b\b\b\b\b\b\b\b\b\b\b\b\b\b\b\b\b\b\b\b\b\b\b\b\b\b\b\b\b\b\b\b\r120/120 [==============================] - 1s 7ms/step - loss: 0.0079 - accuracy: 0.9984 - lr: 3.0000e-05\n",
            "Epoch 56/200\n",
            "118/120 [============================>.] - ETA: 0s - loss: 0.0083 - accuracy: 0.9992"
          ]
        },
        {
          "output_type": "stream",
          "name": "stderr",
          "text": [
            "WARNING:tensorflow:Early stopping conditioned on metric `val_loss` which is not available. Available metrics are: loss,accuracy\n",
            "WARNING:tensorflow:Learning rate reduction is conditioned on metric `val_loss` which is not available. Available metrics are: loss,accuracy,lr\n"
          ]
        },
        {
          "output_type": "stream",
          "name": "stdout",
          "text": [
            "\b\b\b\b\b\b\b\b\b\b\b\b\b\b\b\b\b\b\b\b\b\b\b\b\b\b\b\b\b\b\b\b\b\b\b\b\b\b\b\b\b\b\b\b\b\b\b\b\b\b\b\b\b\b\b\b\b\b\b\b\b\b\b\b\b\b\b\b\b\b\b\b\b\b\b\b\b\b\b\b\b\b\b\b\r120/120 [==============================] - 1s 7ms/step - loss: 0.0086 - accuracy: 0.9992 - lr: 3.0000e-05\n",
            "Epoch 57/200\n",
            "116/120 [============================>.] - ETA: 0s - loss: 0.0069 - accuracy: 0.9989"
          ]
        },
        {
          "output_type": "stream",
          "name": "stderr",
          "text": [
            "WARNING:tensorflow:Early stopping conditioned on metric `val_loss` which is not available. Available metrics are: loss,accuracy\n",
            "WARNING:tensorflow:Learning rate reduction is conditioned on metric `val_loss` which is not available. Available metrics are: loss,accuracy,lr\n"
          ]
        },
        {
          "output_type": "stream",
          "name": "stdout",
          "text": [
            "\b\b\b\b\b\b\b\b\b\b\b\b\b\b\b\b\b\b\b\b\b\b\b\b\b\b\b\b\b\b\b\b\b\b\b\b\b\b\b\b\b\b\b\b\b\b\b\b\b\b\b\b\b\b\b\b\b\b\b\b\b\b\b\b\b\b\b\b\b\b\b\b\b\b\b\b\b\b\b\b\b\b\b\b\r120/120 [==============================] - 1s 7ms/step - loss: 0.0068 - accuracy: 0.9990 - lr: 3.0000e-05\n",
            "Epoch 58/200\n",
            "115/120 [===========================>..] - ETA: 0s - loss: 0.0067 - accuracy: 0.9986"
          ]
        },
        {
          "output_type": "stream",
          "name": "stderr",
          "text": [
            "WARNING:tensorflow:Early stopping conditioned on metric `val_loss` which is not available. Available metrics are: loss,accuracy\n",
            "WARNING:tensorflow:Learning rate reduction is conditioned on metric `val_loss` which is not available. Available metrics are: loss,accuracy,lr\n"
          ]
        },
        {
          "output_type": "stream",
          "name": "stdout",
          "text": [
            "\b\b\b\b\b\b\b\b\b\b\b\b\b\b\b\b\b\b\b\b\b\b\b\b\b\b\b\b\b\b\b\b\b\b\b\b\b\b\b\b\b\b\b\b\b\b\b\b\b\b\b\b\b\b\b\b\b\b\b\b\b\b\b\b\b\b\b\b\b\b\b\b\b\b\b\b\b\b\b\b\b\b\b\b\r120/120 [==============================] - 1s 7ms/step - loss: 0.0066 - accuracy: 0.9987 - lr: 3.0000e-05\n",
            "Epoch 59/200\n",
            "119/120 [============================>.] - ETA: 0s - loss: 0.0070 - accuracy: 0.9992"
          ]
        },
        {
          "output_type": "stream",
          "name": "stderr",
          "text": [
            "WARNING:tensorflow:Early stopping conditioned on metric `val_loss` which is not available. Available metrics are: loss,accuracy\n",
            "WARNING:tensorflow:Learning rate reduction is conditioned on metric `val_loss` which is not available. Available metrics are: loss,accuracy,lr\n"
          ]
        },
        {
          "output_type": "stream",
          "name": "stdout",
          "text": [
            "\b\b\b\b\b\b\b\b\b\b\b\b\b\b\b\b\b\b\b\b\b\b\b\b\b\b\b\b\b\b\b\b\b\b\b\b\b\b\b\b\b\b\b\b\b\b\b\b\b\b\b\b\b\b\b\b\b\b\b\b\b\b\b\b\b\b\b\b\b\b\b\b\b\b\b\b\b\b\b\b\b\b\b\b\r120/120 [==============================] - 1s 7ms/step - loss: 0.0070 - accuracy: 0.9992 - lr: 3.0000e-05\n",
            "Epoch 60/200\n",
            "115/120 [===========================>..] - ETA: 0s - loss: 0.0071 - accuracy: 0.9989"
          ]
        },
        {
          "output_type": "stream",
          "name": "stderr",
          "text": [
            "WARNING:tensorflow:Early stopping conditioned on metric `val_loss` which is not available. Available metrics are: loss,accuracy\n",
            "WARNING:tensorflow:Learning rate reduction is conditioned on metric `val_loss` which is not available. Available metrics are: loss,accuracy,lr\n"
          ]
        },
        {
          "output_type": "stream",
          "name": "stdout",
          "text": [
            "\b\b\b\b\b\b\b\b\b\b\b\b\b\b\b\b\b\b\b\b\b\b\b\b\b\b\b\b\b\b\b\b\b\b\b\b\b\b\b\b\b\b\b\b\b\b\b\b\b\b\b\b\b\b\b\b\b\b\b\b\b\b\b\b\b\b\b\b\b\b\b\b\b\b\b\b\b\b\b\b\b\b\b\b\r120/120 [==============================] - 1s 7ms/step - loss: 0.0071 - accuracy: 0.9990 - lr: 3.0000e-05\n",
            "Epoch 61/200\n",
            "117/120 [============================>.] - ETA: 0s - loss: 0.0056 - accuracy: 0.9995"
          ]
        },
        {
          "output_type": "stream",
          "name": "stderr",
          "text": [
            "WARNING:tensorflow:Early stopping conditioned on metric `val_loss` which is not available. Available metrics are: loss,accuracy\n",
            "WARNING:tensorflow:Learning rate reduction is conditioned on metric `val_loss` which is not available. Available metrics are: loss,accuracy,lr\n"
          ]
        },
        {
          "output_type": "stream",
          "name": "stdout",
          "text": [
            "\b\b\b\b\b\b\b\b\b\b\b\b\b\b\b\b\b\b\b\b\b\b\b\b\b\b\b\b\b\b\b\b\b\b\b\b\b\b\b\b\b\b\b\b\b\b\b\b\b\b\b\b\b\b\b\b\b\b\b\b\b\b\b\b\b\b\b\b\b\b\b\b\b\b\b\b\b\b\b\b\b\b\b\b\r120/120 [==============================] - 1s 7ms/step - loss: 0.0055 - accuracy: 0.9995 - lr: 3.0000e-05\n",
            "Epoch 62/200\n",
            "117/120 [============================>.] - ETA: 0s - loss: 0.0063 - accuracy: 0.9987"
          ]
        },
        {
          "output_type": "stream",
          "name": "stderr",
          "text": [
            "WARNING:tensorflow:Early stopping conditioned on metric `val_loss` which is not available. Available metrics are: loss,accuracy\n",
            "WARNING:tensorflow:Learning rate reduction is conditioned on metric `val_loss` which is not available. Available metrics are: loss,accuracy,lr\n"
          ]
        },
        {
          "output_type": "stream",
          "name": "stdout",
          "text": [
            "\b\b\b\b\b\b\b\b\b\b\b\b\b\b\b\b\b\b\b\b\b\b\b\b\b\b\b\b\b\b\b\b\b\b\b\b\b\b\b\b\b\b\b\b\b\b\b\b\b\b\b\b\b\b\b\b\b\b\b\b\b\b\b\b\b\b\b\b\b\b\b\b\b\b\b\b\b\b\b\b\b\b\b\b\r120/120 [==============================] - 1s 7ms/step - loss: 0.0062 - accuracy: 0.9987 - lr: 3.0000e-05\n",
            "Epoch 63/200\n",
            "116/120 [============================>.] - ETA: 0s - loss: 0.0056 - accuracy: 0.9992"
          ]
        },
        {
          "output_type": "stream",
          "name": "stderr",
          "text": [
            "WARNING:tensorflow:Early stopping conditioned on metric `val_loss` which is not available. Available metrics are: loss,accuracy\n",
            "WARNING:tensorflow:Learning rate reduction is conditioned on metric `val_loss` which is not available. Available metrics are: loss,accuracy,lr\n"
          ]
        },
        {
          "output_type": "stream",
          "name": "stdout",
          "text": [
            "\b\b\b\b\b\b\b\b\b\b\b\b\b\b\b\b\b\b\b\b\b\b\b\b\b\b\b\b\b\b\b\b\b\b\b\b\b\b\b\b\b\b\b\b\b\b\b\b\b\b\b\b\b\b\b\b\b\b\b\b\b\b\b\b\b\b\b\b\b\b\b\b\b\b\b\b\b\b\b\b\b\b\b\b\r120/120 [==============================] - 1s 7ms/step - loss: 0.0055 - accuracy: 0.9992 - lr: 3.0000e-05\n",
            "Epoch 64/200\n",
            "117/120 [============================>.] - ETA: 0s - loss: 0.0055 - accuracy: 0.9989"
          ]
        },
        {
          "output_type": "stream",
          "name": "stderr",
          "text": [
            "WARNING:tensorflow:Early stopping conditioned on metric `val_loss` which is not available. Available metrics are: loss,accuracy\n",
            "WARNING:tensorflow:Learning rate reduction is conditioned on metric `val_loss` which is not available. Available metrics are: loss,accuracy,lr\n"
          ]
        },
        {
          "output_type": "stream",
          "name": "stdout",
          "text": [
            "\b\b\b\b\b\b\b\b\b\b\b\b\b\b\b\b\b\b\b\b\b\b\b\b\b\b\b\b\b\b\b\b\b\b\b\b\b\b\b\b\b\b\b\b\b\b\b\b\b\b\b\b\b\b\b\b\b\b\b\b\b\b\b\b\b\b\b\b\b\b\b\b\b\b\b\b\b\b\b\b\b\b\b\b\r120/120 [==============================] - 1s 7ms/step - loss: 0.0055 - accuracy: 0.9990 - lr: 3.0000e-05\n",
            "Epoch 65/200\n",
            "118/120 [============================>.] - ETA: 0s - loss: 0.0055 - accuracy: 0.9992"
          ]
        },
        {
          "output_type": "stream",
          "name": "stderr",
          "text": [
            "WARNING:tensorflow:Early stopping conditioned on metric `val_loss` which is not available. Available metrics are: loss,accuracy\n",
            "WARNING:tensorflow:Learning rate reduction is conditioned on metric `val_loss` which is not available. Available metrics are: loss,accuracy,lr\n"
          ]
        },
        {
          "output_type": "stream",
          "name": "stdout",
          "text": [
            "\b\b\b\b\b\b\b\b\b\b\b\b\b\b\b\b\b\b\b\b\b\b\b\b\b\b\b\b\b\b\b\b\b\b\b\b\b\b\b\b\b\b\b\b\b\b\b\b\b\b\b\b\b\b\b\b\b\b\b\b\b\b\b\b\b\b\b\b\b\b\b\b\b\b\b\b\b\b\b\b\b\b\b\b\r120/120 [==============================] - 1s 7ms/step - loss: 0.0054 - accuracy: 0.9992 - lr: 3.0000e-05\n",
            "Epoch 66/200\n",
            "118/120 [============================>.] - ETA: 0s - loss: 0.0051 - accuracy: 0.9992"
          ]
        },
        {
          "output_type": "stream",
          "name": "stderr",
          "text": [
            "WARNING:tensorflow:Early stopping conditioned on metric `val_loss` which is not available. Available metrics are: loss,accuracy\n",
            "WARNING:tensorflow:Learning rate reduction is conditioned on metric `val_loss` which is not available. Available metrics are: loss,accuracy,lr\n"
          ]
        },
        {
          "output_type": "stream",
          "name": "stdout",
          "text": [
            "\b\b\b\b\b\b\b\b\b\b\b\b\b\b\b\b\b\b\b\b\b\b\b\b\b\b\b\b\b\b\b\b\b\b\b\b\b\b\b\b\b\b\b\b\b\b\b\b\b\b\b\b\b\b\b\b\b\b\b\b\b\b\b\b\b\b\b\b\b\b\b\b\b\b\b\b\b\b\b\b\b\b\b\b\r120/120 [==============================] - 1s 7ms/step - loss: 0.0051 - accuracy: 0.9992 - lr: 3.0000e-05\n",
            "Epoch 67/200\n",
            "119/120 [============================>.] - ETA: 0s - loss: 0.0050 - accuracy: 0.9992"
          ]
        },
        {
          "output_type": "stream",
          "name": "stderr",
          "text": [
            "WARNING:tensorflow:Early stopping conditioned on metric `val_loss` which is not available. Available metrics are: loss,accuracy\n",
            "WARNING:tensorflow:Learning rate reduction is conditioned on metric `val_loss` which is not available. Available metrics are: loss,accuracy,lr\n"
          ]
        },
        {
          "output_type": "stream",
          "name": "stdout",
          "text": [
            "\b\b\b\b\b\b\b\b\b\b\b\b\b\b\b\b\b\b\b\b\b\b\b\b\b\b\b\b\b\b\b\b\b\b\b\b\b\b\b\b\b\b\b\b\b\b\b\b\b\b\b\b\b\b\b\b\b\b\b\b\b\b\b\b\b\b\b\b\b\b\b\b\b\b\b\b\b\b\b\b\b\b\b\b\r120/120 [==============================] - 1s 7ms/step - loss: 0.0050 - accuracy: 0.9992 - lr: 3.0000e-05\n",
            "Epoch 68/200\n",
            "118/120 [============================>.] - ETA: 0s - loss: 0.0053 - accuracy: 0.9997"
          ]
        },
        {
          "output_type": "stream",
          "name": "stderr",
          "text": [
            "WARNING:tensorflow:Early stopping conditioned on metric `val_loss` which is not available. Available metrics are: loss,accuracy\n",
            "WARNING:tensorflow:Learning rate reduction is conditioned on metric `val_loss` which is not available. Available metrics are: loss,accuracy,lr\n"
          ]
        },
        {
          "output_type": "stream",
          "name": "stdout",
          "text": [
            "\b\b\b\b\b\b\b\b\b\b\b\b\b\b\b\b\b\b\b\b\b\b\b\b\b\b\b\b\b\b\b\b\b\b\b\b\b\b\b\b\b\b\b\b\b\b\b\b\b\b\b\b\b\b\b\b\b\b\b\b\b\b\b\b\b\b\b\b\b\b\b\b\b\b\b\b\b\b\b\b\b\b\b\b\r120/120 [==============================] - 1s 7ms/step - loss: 0.0052 - accuracy: 0.9997 - lr: 3.0000e-05\n",
            "Epoch 69/200\n",
            "115/120 [===========================>..] - ETA: 0s - loss: 0.0049 - accuracy: 0.9989"
          ]
        },
        {
          "output_type": "stream",
          "name": "stderr",
          "text": [
            "WARNING:tensorflow:Early stopping conditioned on metric `val_loss` which is not available. Available metrics are: loss,accuracy\n",
            "WARNING:tensorflow:Learning rate reduction is conditioned on metric `val_loss` which is not available. Available metrics are: loss,accuracy,lr\n"
          ]
        },
        {
          "output_type": "stream",
          "name": "stdout",
          "text": [
            "\b\b\b\b\b\b\b\b\b\b\b\b\b\b\b\b\b\b\b\b\b\b\b\b\b\b\b\b\b\b\b\b\b\b\b\b\b\b\b\b\b\b\b\b\b\b\b\b\b\b\b\b\b\b\b\b\b\b\b\b\b\b\b\b\b\b\b\b\b\b\b\b\b\b\b\b\b\b\b\b\b\b\b\b\r120/120 [==============================] - 1s 7ms/step - loss: 0.0050 - accuracy: 0.9987 - lr: 3.0000e-05\n",
            "Epoch 70/200\n",
            "116/120 [============================>.] - ETA: 0s - loss: 0.0042 - accuracy: 0.9992"
          ]
        },
        {
          "output_type": "stream",
          "name": "stderr",
          "text": [
            "WARNING:tensorflow:Early stopping conditioned on metric `val_loss` which is not available. Available metrics are: loss,accuracy\n",
            "WARNING:tensorflow:Learning rate reduction is conditioned on metric `val_loss` which is not available. Available metrics are: loss,accuracy,lr\n"
          ]
        },
        {
          "output_type": "stream",
          "name": "stdout",
          "text": [
            "\b\b\b\b\b\b\b\b\b\b\b\b\b\b\b\b\b\b\b\b\b\b\b\b\b\b\b\b\b\b\b\b\b\b\b\b\b\b\b\b\b\b\b\b\b\b\b\b\b\b\b\b\b\b\b\b\b\b\b\b\b\b\b\b\b\b\b\b\b\b\b\b\b\b\b\b\b\b\b\b\b\b\b\b\r120/120 [==============================] - 1s 7ms/step - loss: 0.0042 - accuracy: 0.9992 - lr: 3.0000e-05\n",
            "Epoch 71/200\n",
            "116/120 [============================>.] - ETA: 0s - loss: 0.0041 - accuracy: 0.9995"
          ]
        },
        {
          "output_type": "stream",
          "name": "stderr",
          "text": [
            "WARNING:tensorflow:Early stopping conditioned on metric `val_loss` which is not available. Available metrics are: loss,accuracy\n",
            "WARNING:tensorflow:Learning rate reduction is conditioned on metric `val_loss` which is not available. Available metrics are: loss,accuracy,lr\n"
          ]
        },
        {
          "output_type": "stream",
          "name": "stdout",
          "text": [
            "\b\b\b\b\b\b\b\b\b\b\b\b\b\b\b\b\b\b\b\b\b\b\b\b\b\b\b\b\b\b\b\b\b\b\b\b\b\b\b\b\b\b\b\b\b\b\b\b\b\b\b\b\b\b\b\b\b\b\b\b\b\b\b\b\b\b\b\b\b\b\b\b\b\b\b\b\b\b\b\b\b\b\b\b\r120/120 [==============================] - 1s 8ms/step - loss: 0.0040 - accuracy: 0.9995 - lr: 3.0000e-05\n",
            "Epoch 72/200\n",
            "118/120 [============================>.] - ETA: 0s - loss: 0.0041 - accuracy: 0.9997"
          ]
        },
        {
          "output_type": "stream",
          "name": "stderr",
          "text": [
            "WARNING:tensorflow:Early stopping conditioned on metric `val_loss` which is not available. Available metrics are: loss,accuracy\n",
            "WARNING:tensorflow:Learning rate reduction is conditioned on metric `val_loss` which is not available. Available metrics are: loss,accuracy,lr\n"
          ]
        },
        {
          "output_type": "stream",
          "name": "stdout",
          "text": [
            "\b\b\b\b\b\b\b\b\b\b\b\b\b\b\b\b\b\b\b\b\b\b\b\b\b\b\b\b\b\b\b\b\b\b\b\b\b\b\b\b\b\b\b\b\b\b\b\b\b\b\b\b\b\b\b\b\b\b\b\b\b\b\b\b\b\b\b\b\b\b\b\b\b\b\b\b\b\b\b\b\b\b\b\b\r120/120 [==============================] - 1s 9ms/step - loss: 0.0041 - accuracy: 0.9997 - lr: 3.0000e-05\n",
            "Epoch 73/200\n",
            "119/120 [============================>.] - ETA: 0s - loss: 0.0047 - accuracy: 0.9995"
          ]
        },
        {
          "output_type": "stream",
          "name": "stderr",
          "text": [
            "WARNING:tensorflow:Early stopping conditioned on metric `val_loss` which is not available. Available metrics are: loss,accuracy\n",
            "WARNING:tensorflow:Learning rate reduction is conditioned on metric `val_loss` which is not available. Available metrics are: loss,accuracy,lr\n"
          ]
        },
        {
          "output_type": "stream",
          "name": "stdout",
          "text": [
            "\b\b\b\b\b\b\b\b\b\b\b\b\b\b\b\b\b\b\b\b\b\b\b\b\b\b\b\b\b\b\b\b\b\b\b\b\b\b\b\b\b\b\b\b\b\b\b\b\b\b\b\b\b\b\b\b\b\b\b\b\b\b\b\b\b\b\b\b\b\b\b\b\b\b\b\b\b\b\b\b\b\b\b\b\r120/120 [==============================] - 1s 8ms/step - loss: 0.0048 - accuracy: 0.9995 - lr: 3.0000e-05\n",
            "Epoch 74/200\n",
            "120/120 [==============================] - ETA: 0s - loss: 0.0038 - accuracy: 0.9995"
          ]
        },
        {
          "output_type": "stream",
          "name": "stderr",
          "text": [
            "WARNING:tensorflow:Early stopping conditioned on metric `val_loss` which is not available. Available metrics are: loss,accuracy\n",
            "WARNING:tensorflow:Learning rate reduction is conditioned on metric `val_loss` which is not available. Available metrics are: loss,accuracy,lr\n"
          ]
        },
        {
          "output_type": "stream",
          "name": "stdout",
          "text": [
            "\b\b\b\b\b\b\b\b\b\b\b\b\b\b\b\b\b\b\b\b\b\b\b\b\b\b\b\b\b\b\b\b\b\b\b\b\b\b\b\b\b\b\b\b\b\b\b\b\b\b\b\b\b\b\b\b\b\b\b\b\b\b\b\b\b\b\b\b\b\b\b\b\b\b\b\b\b\b\b\b\b\b\b\b\r120/120 [==============================] - 1s 8ms/step - loss: 0.0038 - accuracy: 0.9995 - lr: 3.0000e-05\n",
            "Epoch 75/200\n",
            "118/120 [============================>.] - ETA: 0s - loss: 0.0036 - accuracy: 1.0000"
          ]
        },
        {
          "output_type": "stream",
          "name": "stderr",
          "text": [
            "WARNING:tensorflow:Early stopping conditioned on metric `val_loss` which is not available. Available metrics are: loss,accuracy\n",
            "WARNING:tensorflow:Learning rate reduction is conditioned on metric `val_loss` which is not available. Available metrics are: loss,accuracy,lr\n"
          ]
        },
        {
          "output_type": "stream",
          "name": "stdout",
          "text": [
            "\b\b\b\b\b\b\b\b\b\b\b\b\b\b\b\b\b\b\b\b\b\b\b\b\b\b\b\b\b\b\b\b\b\b\b\b\b\b\b\b\b\b\b\b\b\b\b\b\b\b\b\b\b\b\b\b\b\b\b\b\b\b\b\b\b\b\b\b\b\b\b\b\b\b\b\b\b\b\b\b\b\b\b\b\r120/120 [==============================] - 1s 8ms/step - loss: 0.0036 - accuracy: 1.0000 - lr: 3.0000e-05\n",
            "Epoch 76/200\n",
            "117/120 [============================>.] - ETA: 0s - loss: 0.0034 - accuracy: 0.9995"
          ]
        },
        {
          "output_type": "stream",
          "name": "stderr",
          "text": [
            "WARNING:tensorflow:Early stopping conditioned on metric `val_loss` which is not available. Available metrics are: loss,accuracy\n",
            "WARNING:tensorflow:Learning rate reduction is conditioned on metric `val_loss` which is not available. Available metrics are: loss,accuracy,lr\n"
          ]
        },
        {
          "output_type": "stream",
          "name": "stdout",
          "text": [
            "\b\b\b\b\b\b\b\b\b\b\b\b\b\b\b\b\b\b\b\b\b\b\b\b\b\b\b\b\b\b\b\b\b\b\b\b\b\b\b\b\b\b\b\b\b\b\b\b\b\b\b\b\b\b\b\b\b\b\b\b\b\b\b\b\b\b\b\b\b\b\b\b\b\b\b\b\b\b\b\b\b\b\b\b\r120/120 [==============================] - 1s 7ms/step - loss: 0.0034 - accuracy: 0.9995 - lr: 3.0000e-05\n",
            "Epoch 77/200\n",
            "117/120 [============================>.] - ETA: 0s - loss: 0.0032 - accuracy: 0.9997"
          ]
        },
        {
          "output_type": "stream",
          "name": "stderr",
          "text": [
            "WARNING:tensorflow:Early stopping conditioned on metric `val_loss` which is not available. Available metrics are: loss,accuracy\n",
            "WARNING:tensorflow:Learning rate reduction is conditioned on metric `val_loss` which is not available. Available metrics are: loss,accuracy,lr\n"
          ]
        },
        {
          "output_type": "stream",
          "name": "stdout",
          "text": [
            "\b\b\b\b\b\b\b\b\b\b\b\b\b\b\b\b\b\b\b\b\b\b\b\b\b\b\b\b\b\b\b\b\b\b\b\b\b\b\b\b\b\b\b\b\b\b\b\b\b\b\b\b\b\b\b\b\b\b\b\b\b\b\b\b\b\b\b\b\b\b\b\b\b\b\b\b\b\b\b\b\b\b\b\b\r120/120 [==============================] - 1s 8ms/step - loss: 0.0032 - accuracy: 0.9997 - lr: 3.0000e-05\n",
            "Epoch 78/200\n",
            "115/120 [===========================>..] - ETA: 0s - loss: 0.0035 - accuracy: 0.9995"
          ]
        },
        {
          "output_type": "stream",
          "name": "stderr",
          "text": [
            "WARNING:tensorflow:Early stopping conditioned on metric `val_loss` which is not available. Available metrics are: loss,accuracy\n",
            "WARNING:tensorflow:Learning rate reduction is conditioned on metric `val_loss` which is not available. Available metrics are: loss,accuracy,lr\n"
          ]
        },
        {
          "output_type": "stream",
          "name": "stdout",
          "text": [
            "\b\b\b\b\b\b\b\b\b\b\b\b\b\b\b\b\b\b\b\b\b\b\b\b\b\b\b\b\b\b\b\b\b\b\b\b\b\b\b\b\b\b\b\b\b\b\b\b\b\b\b\b\b\b\b\b\b\b\b\b\b\b\b\b\b\b\b\b\b\b\b\b\b\b\b\b\b\b\b\b\b\b\b\b\r120/120 [==============================] - 1s 8ms/step - loss: 0.0034 - accuracy: 0.9995 - lr: 3.0000e-05\n",
            "Epoch 79/200\n",
            "116/120 [============================>.] - ETA: 0s - loss: 0.0039 - accuracy: 0.9995"
          ]
        },
        {
          "output_type": "stream",
          "name": "stderr",
          "text": [
            "WARNING:tensorflow:Early stopping conditioned on metric `val_loss` which is not available. Available metrics are: loss,accuracy\n",
            "WARNING:tensorflow:Learning rate reduction is conditioned on metric `val_loss` which is not available. Available metrics are: loss,accuracy,lr\n"
          ]
        },
        {
          "output_type": "stream",
          "name": "stdout",
          "text": [
            "\b\b\b\b\b\b\b\b\b\b\b\b\b\b\b\b\b\b\b\b\b\b\b\b\b\b\b\b\b\b\b\b\b\b\b\b\b\b\b\b\b\b\b\b\b\b\b\b\b\b\b\b\b\b\b\b\b\b\b\b\b\b\b\b\b\b\b\b\b\b\b\b\b\b\b\b\b\b\b\b\b\b\b\b\r120/120 [==============================] - 1s 8ms/step - loss: 0.0038 - accuracy: 0.9995 - lr: 3.0000e-05\n",
            "Epoch 80/200\n",
            "120/120 [==============================] - ETA: 0s - loss: 0.0036 - accuracy: 0.9997"
          ]
        },
        {
          "output_type": "stream",
          "name": "stderr",
          "text": [
            "WARNING:tensorflow:Early stopping conditioned on metric `val_loss` which is not available. Available metrics are: loss,accuracy\n",
            "WARNING:tensorflow:Learning rate reduction is conditioned on metric `val_loss` which is not available. Available metrics are: loss,accuracy,lr\n"
          ]
        },
        {
          "output_type": "stream",
          "name": "stdout",
          "text": [
            "\b\b\b\b\b\b\b\b\b\b\b\b\b\b\b\b\b\b\b\b\b\b\b\b\b\b\b\b\b\b\b\b\b\b\b\b\b\b\b\b\b\b\b\b\b\b\b\b\b\b\b\b\b\b\b\b\b\b\b\b\b\b\b\b\b\b\b\b\b\b\b\b\b\b\b\b\b\b\b\b\b\b\b\b\r120/120 [==============================] - 1s 7ms/step - loss: 0.0036 - accuracy: 0.9997 - lr: 3.0000e-05\n",
            "Epoch 81/200\n",
            "117/120 [============================>.] - ETA: 0s - loss: 0.0029 - accuracy: 1.0000"
          ]
        },
        {
          "output_type": "stream",
          "name": "stderr",
          "text": [
            "WARNING:tensorflow:Early stopping conditioned on metric `val_loss` which is not available. Available metrics are: loss,accuracy\n",
            "WARNING:tensorflow:Learning rate reduction is conditioned on metric `val_loss` which is not available. Available metrics are: loss,accuracy,lr\n"
          ]
        },
        {
          "output_type": "stream",
          "name": "stdout",
          "text": [
            "\b\b\b\b\b\b\b\b\b\b\b\b\b\b\b\b\b\b\b\b\b\b\b\b\b\b\b\b\b\b\b\b\b\b\b\b\b\b\b\b\b\b\b\b\b\b\b\b\b\b\b\b\b\b\b\b\b\b\b\b\b\b\b\b\b\b\b\b\b\b\b\b\b\b\b\b\b\b\b\b\b\b\b\b\r120/120 [==============================] - 1s 7ms/step - loss: 0.0028 - accuracy: 1.0000 - lr: 3.0000e-05\n",
            "Epoch 82/200\n",
            "118/120 [============================>.] - ETA: 0s - loss: 0.0023 - accuracy: 1.0000"
          ]
        },
        {
          "output_type": "stream",
          "name": "stderr",
          "text": [
            "WARNING:tensorflow:Early stopping conditioned on metric `val_loss` which is not available. Available metrics are: loss,accuracy\n",
            "WARNING:tensorflow:Learning rate reduction is conditioned on metric `val_loss` which is not available. Available metrics are: loss,accuracy,lr\n"
          ]
        },
        {
          "output_type": "stream",
          "name": "stdout",
          "text": [
            "\b\b\b\b\b\b\b\b\b\b\b\b\b\b\b\b\b\b\b\b\b\b\b\b\b\b\b\b\b\b\b\b\b\b\b\b\b\b\b\b\b\b\b\b\b\b\b\b\b\b\b\b\b\b\b\b\b\b\b\b\b\b\b\b\b\b\b\b\b\b\b\b\b\b\b\b\b\b\b\b\b\b\b\b\r120/120 [==============================] - 1s 7ms/step - loss: 0.0023 - accuracy: 1.0000 - lr: 3.0000e-05\n",
            "Epoch 83/200\n",
            "119/120 [============================>.] - ETA: 0s - loss: 0.0029 - accuracy: 1.0000"
          ]
        },
        {
          "output_type": "stream",
          "name": "stderr",
          "text": [
            "WARNING:tensorflow:Early stopping conditioned on metric `val_loss` which is not available. Available metrics are: loss,accuracy\n",
            "WARNING:tensorflow:Learning rate reduction is conditioned on metric `val_loss` which is not available. Available metrics are: loss,accuracy,lr\n"
          ]
        },
        {
          "output_type": "stream",
          "name": "stdout",
          "text": [
            "\b\b\b\b\b\b\b\b\b\b\b\b\b\b\b\b\b\b\b\b\b\b\b\b\b\b\b\b\b\b\b\b\b\b\b\b\b\b\b\b\b\b\b\b\b\b\b\b\b\b\b\b\b\b\b\b\b\b\b\b\b\b\b\b\b\b\b\b\b\b\b\b\b\b\b\b\b\b\b\b\b\b\b\b\r120/120 [==============================] - 1s 7ms/step - loss: 0.0029 - accuracy: 1.0000 - lr: 3.0000e-05\n",
            "Epoch 84/200\n",
            "119/120 [============================>.] - ETA: 0s - loss: 0.0027 - accuracy: 1.0000"
          ]
        },
        {
          "output_type": "stream",
          "name": "stderr",
          "text": [
            "WARNING:tensorflow:Early stopping conditioned on metric `val_loss` which is not available. Available metrics are: loss,accuracy\n",
            "WARNING:tensorflow:Learning rate reduction is conditioned on metric `val_loss` which is not available. Available metrics are: loss,accuracy,lr\n"
          ]
        },
        {
          "output_type": "stream",
          "name": "stdout",
          "text": [
            "\b\b\b\b\b\b\b\b\b\b\b\b\b\b\b\b\b\b\b\b\b\b\b\b\b\b\b\b\b\b\b\b\b\b\b\b\b\b\b\b\b\b\b\b\b\b\b\b\b\b\b\b\b\b\b\b\b\b\b\b\b\b\b\b\b\b\b\b\b\b\b\b\b\b\b\b\b\b\b\b\b\b\b\b\r120/120 [==============================] - 1s 7ms/step - loss: 0.0027 - accuracy: 1.0000 - lr: 3.0000e-05\n",
            "Epoch 85/200\n",
            "119/120 [============================>.] - ETA: 0s - loss: 0.0024 - accuracy: 1.0000"
          ]
        },
        {
          "output_type": "stream",
          "name": "stderr",
          "text": [
            "WARNING:tensorflow:Early stopping conditioned on metric `val_loss` which is not available. Available metrics are: loss,accuracy\n",
            "WARNING:tensorflow:Learning rate reduction is conditioned on metric `val_loss` which is not available. Available metrics are: loss,accuracy,lr\n"
          ]
        },
        {
          "output_type": "stream",
          "name": "stdout",
          "text": [
            "\b\b\b\b\b\b\b\b\b\b\b\b\b\b\b\b\b\b\b\b\b\b\b\b\b\b\b\b\b\b\b\b\b\b\b\b\b\b\b\b\b\b\b\b\b\b\b\b\b\b\b\b\b\b\b\b\b\b\b\b\b\b\b\b\b\b\b\b\b\b\b\b\b\b\b\b\b\b\b\b\b\b\b\b\r120/120 [==============================] - 1s 7ms/step - loss: 0.0024 - accuracy: 1.0000 - lr: 3.0000e-05\n",
            "Epoch 86/200\n",
            "115/120 [===========================>..] - ETA: 0s - loss: 0.0020 - accuracy: 0.9997"
          ]
        },
        {
          "output_type": "stream",
          "name": "stderr",
          "text": [
            "WARNING:tensorflow:Early stopping conditioned on metric `val_loss` which is not available. Available metrics are: loss,accuracy\n",
            "WARNING:tensorflow:Learning rate reduction is conditioned on metric `val_loss` which is not available. Available metrics are: loss,accuracy,lr\n"
          ]
        },
        {
          "output_type": "stream",
          "name": "stdout",
          "text": [
            "\b\b\b\b\b\b\b\b\b\b\b\b\b\b\b\b\b\b\b\b\b\b\b\b\b\b\b\b\b\b\b\b\b\b\b\b\b\b\b\b\b\b\b\b\b\b\b\b\b\b\b\b\b\b\b\b\b\b\b\b\b\b\b\b\b\b\b\b\b\b\b\b\b\b\b\b\b\b\b\b\b\b\b\b\r120/120 [==============================] - 1s 7ms/step - loss: 0.0019 - accuracy: 0.9997 - lr: 3.0000e-05\n",
            "Epoch 87/200\n",
            "116/120 [============================>.] - ETA: 0s - loss: 0.0021 - accuracy: 1.0000"
          ]
        },
        {
          "output_type": "stream",
          "name": "stderr",
          "text": [
            "WARNING:tensorflow:Early stopping conditioned on metric `val_loss` which is not available. Available metrics are: loss,accuracy\n",
            "WARNING:tensorflow:Learning rate reduction is conditioned on metric `val_loss` which is not available. Available metrics are: loss,accuracy,lr\n"
          ]
        },
        {
          "output_type": "stream",
          "name": "stdout",
          "text": [
            "\b\b\b\b\b\b\b\b\b\b\b\b\b\b\b\b\b\b\b\b\b\b\b\b\b\b\b\b\b\b\b\b\b\b\b\b\b\b\b\b\b\b\b\b\b\b\b\b\b\b\b\b\b\b\b\b\b\b\b\b\b\b\b\b\b\b\b\b\b\b\b\b\b\b\b\b\b\b\b\b\b\b\b\b\r120/120 [==============================] - 1s 7ms/step - loss: 0.0020 - accuracy: 1.0000 - lr: 3.0000e-05\n",
            "Epoch 88/200\n",
            "115/120 [===========================>..] - ETA: 0s - loss: 0.0025 - accuracy: 0.9997"
          ]
        },
        {
          "output_type": "stream",
          "name": "stderr",
          "text": [
            "WARNING:tensorflow:Early stopping conditioned on metric `val_loss` which is not available. Available metrics are: loss,accuracy\n",
            "WARNING:tensorflow:Learning rate reduction is conditioned on metric `val_loss` which is not available. Available metrics are: loss,accuracy,lr\n"
          ]
        },
        {
          "output_type": "stream",
          "name": "stdout",
          "text": [
            "\b\b\b\b\b\b\b\b\b\b\b\b\b\b\b\b\b\b\b\b\b\b\b\b\b\b\b\b\b\b\b\b\b\b\b\b\b\b\b\b\b\b\b\b\b\b\b\b\b\b\b\b\b\b\b\b\b\b\b\b\b\b\b\b\b\b\b\b\b\b\b\b\b\b\b\b\b\b\b\b\b\b\b\b\r120/120 [==============================] - 1s 7ms/step - loss: 0.0025 - accuracy: 0.9997 - lr: 3.0000e-05\n",
            "Epoch 89/200\n",
            "117/120 [============================>.] - ETA: 0s - loss: 0.0022 - accuracy: 1.0000"
          ]
        },
        {
          "output_type": "stream",
          "name": "stderr",
          "text": [
            "WARNING:tensorflow:Early stopping conditioned on metric `val_loss` which is not available. Available metrics are: loss,accuracy\n",
            "WARNING:tensorflow:Learning rate reduction is conditioned on metric `val_loss` which is not available. Available metrics are: loss,accuracy,lr\n"
          ]
        },
        {
          "output_type": "stream",
          "name": "stdout",
          "text": [
            "\b\b\b\b\b\b\b\b\b\b\b\b\b\b\b\b\b\b\b\b\b\b\b\b\b\b\b\b\b\b\b\b\b\b\b\b\b\b\b\b\b\b\b\b\b\b\b\b\b\b\b\b\b\b\b\b\b\b\b\b\b\b\b\b\b\b\b\b\b\b\b\b\b\b\b\b\b\b\b\b\b\b\b\b\r120/120 [==============================] - 1s 7ms/step - loss: 0.0021 - accuracy: 1.0000 - lr: 3.0000e-05\n",
            "Epoch 90/200\n",
            "119/120 [============================>.] - ETA: 0s - loss: 0.0025 - accuracy: 1.0000"
          ]
        },
        {
          "output_type": "stream",
          "name": "stderr",
          "text": [
            "WARNING:tensorflow:Early stopping conditioned on metric `val_loss` which is not available. Available metrics are: loss,accuracy\n",
            "WARNING:tensorflow:Learning rate reduction is conditioned on metric `val_loss` which is not available. Available metrics are: loss,accuracy,lr\n"
          ]
        },
        {
          "output_type": "stream",
          "name": "stdout",
          "text": [
            "\b\b\b\b\b\b\b\b\b\b\b\b\b\b\b\b\b\b\b\b\b\b\b\b\b\b\b\b\b\b\b\b\b\b\b\b\b\b\b\b\b\b\b\b\b\b\b\b\b\b\b\b\b\b\b\b\b\b\b\b\b\b\b\b\b\b\b\b\b\b\b\b\b\b\b\b\b\b\b\b\b\b\b\b\r120/120 [==============================] - 1s 7ms/step - loss: 0.0025 - accuracy: 1.0000 - lr: 3.0000e-05\n",
            "Epoch 91/200\n",
            "120/120 [==============================] - ETA: 0s - loss: 0.0021 - accuracy: 1.0000"
          ]
        },
        {
          "output_type": "stream",
          "name": "stderr",
          "text": [
            "WARNING:tensorflow:Early stopping conditioned on metric `val_loss` which is not available. Available metrics are: loss,accuracy\n",
            "WARNING:tensorflow:Learning rate reduction is conditioned on metric `val_loss` which is not available. Available metrics are: loss,accuracy,lr\n"
          ]
        },
        {
          "output_type": "stream",
          "name": "stdout",
          "text": [
            "\b\b\b\b\b\b\b\b\b\b\b\b\b\b\b\b\b\b\b\b\b\b\b\b\b\b\b\b\b\b\b\b\b\b\b\b\b\b\b\b\b\b\b\b\b\b\b\b\b\b\b\b\b\b\b\b\b\b\b\b\b\b\b\b\b\b\b\b\b\b\b\b\b\b\b\b\b\b\b\b\b\b\b\b\r120/120 [==============================] - 1s 7ms/step - loss: 0.0021 - accuracy: 1.0000 - lr: 3.0000e-05\n",
            "Epoch 92/200\n",
            "114/120 [===========================>..] - ETA: 0s - loss: 0.0017 - accuracy: 1.0000"
          ]
        },
        {
          "output_type": "stream",
          "name": "stderr",
          "text": [
            "WARNING:tensorflow:Early stopping conditioned on metric `val_loss` which is not available. Available metrics are: loss,accuracy\n",
            "WARNING:tensorflow:Learning rate reduction is conditioned on metric `val_loss` which is not available. Available metrics are: loss,accuracy,lr\n"
          ]
        },
        {
          "output_type": "stream",
          "name": "stdout",
          "text": [
            "\b\b\b\b\b\b\b\b\b\b\b\b\b\b\b\b\b\b\b\b\b\b\b\b\b\b\b\b\b\b\b\b\b\b\b\b\b\b\b\b\b\b\b\b\b\b\b\b\b\b\b\b\b\b\b\b\b\b\b\b\b\b\b\b\b\b\b\b\b\b\b\b\b\b\b\b\b\b\b\b\b\b\b\b\r120/120 [==============================] - 1s 7ms/step - loss: 0.0016 - accuracy: 1.0000 - lr: 3.0000e-05\n",
            "Epoch 93/200\n",
            "119/120 [============================>.] - ETA: 0s - loss: 0.0022 - accuracy: 0.9997"
          ]
        },
        {
          "output_type": "stream",
          "name": "stderr",
          "text": [
            "WARNING:tensorflow:Early stopping conditioned on metric `val_loss` which is not available. Available metrics are: loss,accuracy\n",
            "WARNING:tensorflow:Learning rate reduction is conditioned on metric `val_loss` which is not available. Available metrics are: loss,accuracy,lr\n"
          ]
        },
        {
          "output_type": "stream",
          "name": "stdout",
          "text": [
            "\b\b\b\b\b\b\b\b\b\b\b\b\b\b\b\b\b\b\b\b\b\b\b\b\b\b\b\b\b\b\b\b\b\b\b\b\b\b\b\b\b\b\b\b\b\b\b\b\b\b\b\b\b\b\b\b\b\b\b\b\b\b\b\b\b\b\b\b\b\b\b\b\b\b\b\b\b\b\b\b\b\b\b\b\r120/120 [==============================] - 1s 7ms/step - loss: 0.0022 - accuracy: 0.9997 - lr: 3.0000e-05\n",
            "Epoch 94/200\n",
            "117/120 [============================>.] - ETA: 0s - loss: 0.0015 - accuracy: 1.0000"
          ]
        },
        {
          "output_type": "stream",
          "name": "stderr",
          "text": [
            "WARNING:tensorflow:Early stopping conditioned on metric `val_loss` which is not available. Available metrics are: loss,accuracy\n",
            "WARNING:tensorflow:Learning rate reduction is conditioned on metric `val_loss` which is not available. Available metrics are: loss,accuracy,lr\n"
          ]
        },
        {
          "output_type": "stream",
          "name": "stdout",
          "text": [
            "\b\b\b\b\b\b\b\b\b\b\b\b\b\b\b\b\b\b\b\b\b\b\b\b\b\b\b\b\b\b\b\b\b\b\b\b\b\b\b\b\b\b\b\b\b\b\b\b\b\b\b\b\b\b\b\b\b\b\b\b\b\b\b\b\b\b\b\b\b\b\b\b\b\b\b\b\b\b\b\b\b\b\b\b\r120/120 [==============================] - 1s 7ms/step - loss: 0.0016 - accuracy: 1.0000 - lr: 3.0000e-05\n",
            "Epoch 95/200\n",
            "119/120 [============================>.] - ETA: 0s - loss: 0.0022 - accuracy: 1.0000"
          ]
        },
        {
          "output_type": "stream",
          "name": "stderr",
          "text": [
            "WARNING:tensorflow:Early stopping conditioned on metric `val_loss` which is not available. Available metrics are: loss,accuracy\n",
            "WARNING:tensorflow:Learning rate reduction is conditioned on metric `val_loss` which is not available. Available metrics are: loss,accuracy,lr\n"
          ]
        },
        {
          "output_type": "stream",
          "name": "stdout",
          "text": [
            "\b\b\b\b\b\b\b\b\b\b\b\b\b\b\b\b\b\b\b\b\b\b\b\b\b\b\b\b\b\b\b\b\b\b\b\b\b\b\b\b\b\b\b\b\b\b\b\b\b\b\b\b\b\b\b\b\b\b\b\b\b\b\b\b\b\b\b\b\b\b\b\b\b\b\b\b\b\b\b\b\b\b\b\b\r120/120 [==============================] - 1s 7ms/step - loss: 0.0022 - accuracy: 1.0000 - lr: 3.0000e-05\n",
            "Epoch 96/200\n",
            "120/120 [==============================] - ETA: 0s - loss: 0.0019 - accuracy: 0.9997"
          ]
        },
        {
          "output_type": "stream",
          "name": "stderr",
          "text": [
            "WARNING:tensorflow:Early stopping conditioned on metric `val_loss` which is not available. Available metrics are: loss,accuracy\n",
            "WARNING:tensorflow:Learning rate reduction is conditioned on metric `val_loss` which is not available. Available metrics are: loss,accuracy,lr\n"
          ]
        },
        {
          "output_type": "stream",
          "name": "stdout",
          "text": [
            "\b\b\b\b\b\b\b\b\b\b\b\b\b\b\b\b\b\b\b\b\b\b\b\b\b\b\b\b\b\b\b\b\b\b\b\b\b\b\b\b\b\b\b\b\b\b\b\b\b\b\b\b\b\b\b\b\b\b\b\b\b\b\b\b\b\b\b\b\b\b\b\b\b\b\b\b\b\b\b\b\b\b\b\b\r120/120 [==============================] - 1s 7ms/step - loss: 0.0019 - accuracy: 0.9997 - lr: 3.0000e-05\n",
            "Epoch 97/200\n",
            "118/120 [============================>.] - ETA: 0s - loss: 0.0014 - accuracy: 1.0000"
          ]
        },
        {
          "output_type": "stream",
          "name": "stderr",
          "text": [
            "WARNING:tensorflow:Early stopping conditioned on metric `val_loss` which is not available. Available metrics are: loss,accuracy\n",
            "WARNING:tensorflow:Learning rate reduction is conditioned on metric `val_loss` which is not available. Available metrics are: loss,accuracy,lr\n"
          ]
        },
        {
          "output_type": "stream",
          "name": "stdout",
          "text": [
            "\b\b\b\b\b\b\b\b\b\b\b\b\b\b\b\b\b\b\b\b\b\b\b\b\b\b\b\b\b\b\b\b\b\b\b\b\b\b\b\b\b\b\b\b\b\b\b\b\b\b\b\b\b\b\b\b\b\b\b\b\b\b\b\b\b\b\b\b\b\b\b\b\b\b\b\b\b\b\b\b\b\b\b\b\r120/120 [==============================] - 1s 7ms/step - loss: 0.0014 - accuracy: 1.0000 - lr: 3.0000e-05\n",
            "Epoch 98/200\n",
            "116/120 [============================>.] - ETA: 0s - loss: 0.0017 - accuracy: 1.0000"
          ]
        },
        {
          "output_type": "stream",
          "name": "stderr",
          "text": [
            "WARNING:tensorflow:Early stopping conditioned on metric `val_loss` which is not available. Available metrics are: loss,accuracy\n",
            "WARNING:tensorflow:Learning rate reduction is conditioned on metric `val_loss` which is not available. Available metrics are: loss,accuracy,lr\n"
          ]
        },
        {
          "output_type": "stream",
          "name": "stdout",
          "text": [
            "\b\b\b\b\b\b\b\b\b\b\b\b\b\b\b\b\b\b\b\b\b\b\b\b\b\b\b\b\b\b\b\b\b\b\b\b\b\b\b\b\b\b\b\b\b\b\b\b\b\b\b\b\b\b\b\b\b\b\b\b\b\b\b\b\b\b\b\b\b\b\b\b\b\b\b\b\b\b\b\b\b\b\b\b\r120/120 [==============================] - 1s 7ms/step - loss: 0.0016 - accuracy: 1.0000 - lr: 3.0000e-05\n",
            "Epoch 99/200\n",
            "118/120 [============================>.] - ETA: 0s - loss: 0.0010 - accuracy: 1.0000"
          ]
        },
        {
          "output_type": "stream",
          "name": "stderr",
          "text": [
            "WARNING:tensorflow:Early stopping conditioned on metric `val_loss` which is not available. Available metrics are: loss,accuracy\n",
            "WARNING:tensorflow:Learning rate reduction is conditioned on metric `val_loss` which is not available. Available metrics are: loss,accuracy,lr\n"
          ]
        },
        {
          "output_type": "stream",
          "name": "stdout",
          "text": [
            "\b\b\b\b\b\b\b\b\b\b\b\b\b\b\b\b\b\b\b\b\b\b\b\b\b\b\b\b\b\b\b\b\b\b\b\b\b\b\b\b\b\b\b\b\b\b\b\b\b\b\b\b\b\b\b\b\b\b\b\b\b\b\b\b\b\b\b\b\b\b\b\b\b\b\b\b\b\b\b\b\b\b\b\b\r120/120 [==============================] - 1s 7ms/step - loss: 0.0010 - accuracy: 1.0000 - lr: 3.0000e-05\n",
            "Epoch 100/200\n",
            "113/120 [===========================>..] - ETA: 0s - loss: 0.0023 - accuracy: 1.0000"
          ]
        },
        {
          "output_type": "stream",
          "name": "stderr",
          "text": [
            "WARNING:tensorflow:Early stopping conditioned on metric `val_loss` which is not available. Available metrics are: loss,accuracy\n",
            "WARNING:tensorflow:Learning rate reduction is conditioned on metric `val_loss` which is not available. Available metrics are: loss,accuracy,lr\n"
          ]
        },
        {
          "output_type": "stream",
          "name": "stdout",
          "text": [
            "\b\b\b\b\b\b\b\b\b\b\b\b\b\b\b\b\b\b\b\b\b\b\b\b\b\b\b\b\b\b\b\b\b\b\b\b\b\b\b\b\b\b\b\b\b\b\b\b\b\b\b\b\b\b\b\b\b\b\b\b\b\b\b\b\b\b\b\b\b\b\b\b\b\b\b\b\b\b\b\b\b\b\b\b\r120/120 [==============================] - 1s 7ms/step - loss: 0.0022 - accuracy: 1.0000 - lr: 3.0000e-05\n",
            "Epoch 101/200\n",
            "116/120 [============================>.] - ETA: 0s - loss: 0.0012 - accuracy: 1.0000"
          ]
        },
        {
          "output_type": "stream",
          "name": "stderr",
          "text": [
            "WARNING:tensorflow:Early stopping conditioned on metric `val_loss` which is not available. Available metrics are: loss,accuracy\n",
            "WARNING:tensorflow:Learning rate reduction is conditioned on metric `val_loss` which is not available. Available metrics are: loss,accuracy,lr\n"
          ]
        },
        {
          "output_type": "stream",
          "name": "stdout",
          "text": [
            "\b\b\b\b\b\b\b\b\b\b\b\b\b\b\b\b\b\b\b\b\b\b\b\b\b\b\b\b\b\b\b\b\b\b\b\b\b\b\b\b\b\b\b\b\b\b\b\b\b\b\b\b\b\b\b\b\b\b\b\b\b\b\b\b\b\b\b\b\b\b\b\b\b\b\b\b\b\b\b\b\b\b\b\b\r120/120 [==============================] - 1s 7ms/step - loss: 0.0012 - accuracy: 1.0000 - lr: 3.0000e-05\n",
            "Epoch 102/200\n",
            "117/120 [============================>.] - ETA: 0s - loss: 0.0014 - accuracy: 1.0000"
          ]
        },
        {
          "output_type": "stream",
          "name": "stderr",
          "text": [
            "WARNING:tensorflow:Early stopping conditioned on metric `val_loss` which is not available. Available metrics are: loss,accuracy\n",
            "WARNING:tensorflow:Learning rate reduction is conditioned on metric `val_loss` which is not available. Available metrics are: loss,accuracy,lr\n"
          ]
        },
        {
          "output_type": "stream",
          "name": "stdout",
          "text": [
            "\b\b\b\b\b\b\b\b\b\b\b\b\b\b\b\b\b\b\b\b\b\b\b\b\b\b\b\b\b\b\b\b\b\b\b\b\b\b\b\b\b\b\b\b\b\b\b\b\b\b\b\b\b\b\b\b\b\b\b\b\b\b\b\b\b\b\b\b\b\b\b\b\b\b\b\b\b\b\b\b\b\b\b\b\r120/120 [==============================] - 1s 7ms/step - loss: 0.0014 - accuracy: 1.0000 - lr: 3.0000e-05\n",
            "Epoch 103/200\n",
            "114/120 [===========================>..] - ETA: 0s - loss: 0.0020 - accuracy: 1.0000"
          ]
        },
        {
          "output_type": "stream",
          "name": "stderr",
          "text": [
            "WARNING:tensorflow:Early stopping conditioned on metric `val_loss` which is not available. Available metrics are: loss,accuracy\n",
            "WARNING:tensorflow:Learning rate reduction is conditioned on metric `val_loss` which is not available. Available metrics are: loss,accuracy,lr\n"
          ]
        },
        {
          "output_type": "stream",
          "name": "stdout",
          "text": [
            "\b\b\b\b\b\b\b\b\b\b\b\b\b\b\b\b\b\b\b\b\b\b\b\b\b\b\b\b\b\b\b\b\b\b\b\b\b\b\b\b\b\b\b\b\b\b\b\b\b\b\b\b\b\b\b\b\b\b\b\b\b\b\b\b\b\b\b\b\b\b\b\b\b\b\b\b\b\b\b\b\b\b\b\b\r120/120 [==============================] - 1s 7ms/step - loss: 0.0019 - accuracy: 1.0000 - lr: 3.0000e-05\n",
            "Epoch 104/200\n",
            "116/120 [============================>.] - ETA: 0s - loss: 0.0012 - accuracy: 1.0000"
          ]
        },
        {
          "output_type": "stream",
          "name": "stderr",
          "text": [
            "WARNING:tensorflow:Early stopping conditioned on metric `val_loss` which is not available. Available metrics are: loss,accuracy\n",
            "WARNING:tensorflow:Learning rate reduction is conditioned on metric `val_loss` which is not available. Available metrics are: loss,accuracy,lr\n"
          ]
        },
        {
          "output_type": "stream",
          "name": "stdout",
          "text": [
            "\b\b\b\b\b\b\b\b\b\b\b\b\b\b\b\b\b\b\b\b\b\b\b\b\b\b\b\b\b\b\b\b\b\b\b\b\b\b\b\b\b\b\b\b\b\b\b\b\b\b\b\b\b\b\b\b\b\b\b\b\b\b\b\b\b\b\b\b\b\b\b\b\b\b\b\b\b\b\b\b\b\b\b\b\r120/120 [==============================] - 1s 7ms/step - loss: 0.0012 - accuracy: 1.0000 - lr: 3.0000e-05\n",
            "Epoch 105/200\n",
            "114/120 [===========================>..] - ETA: 0s - loss: 0.0013 - accuracy: 1.0000"
          ]
        },
        {
          "output_type": "stream",
          "name": "stderr",
          "text": [
            "WARNING:tensorflow:Early stopping conditioned on metric `val_loss` which is not available. Available metrics are: loss,accuracy\n",
            "WARNING:tensorflow:Learning rate reduction is conditioned on metric `val_loss` which is not available. Available metrics are: loss,accuracy,lr\n"
          ]
        },
        {
          "output_type": "stream",
          "name": "stdout",
          "text": [
            "\b\b\b\b\b\b\b\b\b\b\b\b\b\b\b\b\b\b\b\b\b\b\b\b\b\b\b\b\b\b\b\b\b\b\b\b\b\b\b\b\b\b\b\b\b\b\b\b\b\b\b\b\b\b\b\b\b\b\b\b\b\b\b\b\b\b\b\b\b\b\b\b\b\b\b\b\b\b\b\b\b\b\b\b\r120/120 [==============================] - 1s 7ms/step - loss: 0.0013 - accuracy: 1.0000 - lr: 3.0000e-05\n",
            "Epoch 106/200\n",
            "117/120 [============================>.] - ETA: 0s - loss: 0.0014 - accuracy: 1.0000"
          ]
        },
        {
          "output_type": "stream",
          "name": "stderr",
          "text": [
            "WARNING:tensorflow:Early stopping conditioned on metric `val_loss` which is not available. Available metrics are: loss,accuracy\n",
            "WARNING:tensorflow:Learning rate reduction is conditioned on metric `val_loss` which is not available. Available metrics are: loss,accuracy,lr\n"
          ]
        },
        {
          "output_type": "stream",
          "name": "stdout",
          "text": [
            "\b\b\b\b\b\b\b\b\b\b\b\b\b\b\b\b\b\b\b\b\b\b\b\b\b\b\b\b\b\b\b\b\b\b\b\b\b\b\b\b\b\b\b\b\b\b\b\b\b\b\b\b\b\b\b\b\b\b\b\b\b\b\b\b\b\b\b\b\b\b\b\b\b\b\b\b\b\b\b\b\b\b\b\b\r120/120 [==============================] - 1s 7ms/step - loss: 0.0014 - accuracy: 1.0000 - lr: 3.0000e-05\n",
            "Epoch 107/200\n",
            "118/120 [============================>.] - ETA: 0s - loss: 0.0013 - accuracy: 1.0000"
          ]
        },
        {
          "output_type": "stream",
          "name": "stderr",
          "text": [
            "WARNING:tensorflow:Early stopping conditioned on metric `val_loss` which is not available. Available metrics are: loss,accuracy\n",
            "WARNING:tensorflow:Learning rate reduction is conditioned on metric `val_loss` which is not available. Available metrics are: loss,accuracy,lr\n"
          ]
        },
        {
          "output_type": "stream",
          "name": "stdout",
          "text": [
            "\b\b\b\b\b\b\b\b\b\b\b\b\b\b\b\b\b\b\b\b\b\b\b\b\b\b\b\b\b\b\b\b\b\b\b\b\b\b\b\b\b\b\b\b\b\b\b\b\b\b\b\b\b\b\b\b\b\b\b\b\b\b\b\b\b\b\b\b\b\b\b\b\b\b\b\b\b\b\b\b\b\b\b\b\r120/120 [==============================] - 1s 7ms/step - loss: 0.0013 - accuracy: 1.0000 - lr: 3.0000e-05\n",
            "Epoch 108/200\n",
            "116/120 [============================>.] - ETA: 0s - loss: 0.0024 - accuracy: 1.0000"
          ]
        },
        {
          "output_type": "stream",
          "name": "stderr",
          "text": [
            "WARNING:tensorflow:Early stopping conditioned on metric `val_loss` which is not available. Available metrics are: loss,accuracy\n",
            "WARNING:tensorflow:Learning rate reduction is conditioned on metric `val_loss` which is not available. Available metrics are: loss,accuracy,lr\n"
          ]
        },
        {
          "output_type": "stream",
          "name": "stdout",
          "text": [
            "\b\b\b\b\b\b\b\b\b\b\b\b\b\b\b\b\b\b\b\b\b\b\b\b\b\b\b\b\b\b\b\b\b\b\b\b\b\b\b\b\b\b\b\b\b\b\b\b\b\b\b\b\b\b\b\b\b\b\b\b\b\b\b\b\b\b\b\b\b\b\b\b\b\b\b\b\b\b\b\b\b\b\b\b\r120/120 [==============================] - 1s 7ms/step - loss: 0.0024 - accuracy: 1.0000 - lr: 3.0000e-05\n",
            "Epoch 109/200\n",
            "119/120 [============================>.] - ETA: 0s - loss: 0.0013 - accuracy: 1.0000"
          ]
        },
        {
          "output_type": "stream",
          "name": "stderr",
          "text": [
            "WARNING:tensorflow:Early stopping conditioned on metric `val_loss` which is not available. Available metrics are: loss,accuracy\n",
            "WARNING:tensorflow:Learning rate reduction is conditioned on metric `val_loss` which is not available. Available metrics are: loss,accuracy,lr\n"
          ]
        },
        {
          "output_type": "stream",
          "name": "stdout",
          "text": [
            "\b\b\b\b\b\b\b\b\b\b\b\b\b\b\b\b\b\b\b\b\b\b\b\b\b\b\b\b\b\b\b\b\b\b\b\b\b\b\b\b\b\b\b\b\b\b\b\b\b\b\b\b\b\b\b\b\b\b\b\b\b\b\b\b\b\b\b\b\b\b\b\b\b\b\b\b\b\b\b\b\b\b\b\b\r120/120 [==============================] - 1s 7ms/step - loss: 0.0013 - accuracy: 1.0000 - lr: 3.0000e-05\n",
            "Epoch 110/200\n",
            "116/120 [============================>.] - ETA: 0s - loss: 0.0011 - accuracy: 1.0000"
          ]
        },
        {
          "output_type": "stream",
          "name": "stderr",
          "text": [
            "WARNING:tensorflow:Early stopping conditioned on metric `val_loss` which is not available. Available metrics are: loss,accuracy\n",
            "WARNING:tensorflow:Learning rate reduction is conditioned on metric `val_loss` which is not available. Available metrics are: loss,accuracy,lr\n"
          ]
        },
        {
          "output_type": "stream",
          "name": "stdout",
          "text": [
            "\b\b\b\b\b\b\b\b\b\b\b\b\b\b\b\b\b\b\b\b\b\b\b\b\b\b\b\b\b\b\b\b\b\b\b\b\b\b\b\b\b\b\b\b\b\b\b\b\b\b\b\b\b\b\b\b\b\b\b\b\b\b\b\b\b\b\b\b\b\b\b\b\b\b\b\b\b\b\b\b\b\b\b\b\r120/120 [==============================] - 1s 7ms/step - loss: 0.0011 - accuracy: 1.0000 - lr: 3.0000e-05\n",
            "Epoch 111/200\n",
            "116/120 [============================>.] - ETA: 0s - loss: 0.0027 - accuracy: 1.0000"
          ]
        },
        {
          "output_type": "stream",
          "name": "stderr",
          "text": [
            "WARNING:tensorflow:Early stopping conditioned on metric `val_loss` which is not available. Available metrics are: loss,accuracy\n",
            "WARNING:tensorflow:Learning rate reduction is conditioned on metric `val_loss` which is not available. Available metrics are: loss,accuracy,lr\n"
          ]
        },
        {
          "output_type": "stream",
          "name": "stdout",
          "text": [
            "\b\b\b\b\b\b\b\b\b\b\b\b\b\b\b\b\b\b\b\b\b\b\b\b\b\b\b\b\b\b\b\b\b\b\b\b\b\b\b\b\b\b\b\b\b\b\b\b\b\b\b\b\b\b\b\b\b\b\b\b\b\b\b\b\b\b\b\b\b\b\b\b\b\b\b\b\b\b\b\b\b\b\b\b\r120/120 [==============================] - 1s 7ms/step - loss: 0.0026 - accuracy: 1.0000 - lr: 3.0000e-05\n",
            "Epoch 112/200\n",
            "114/120 [===========================>..] - ETA: 0s - loss: 0.0013 - accuracy: 1.0000"
          ]
        },
        {
          "output_type": "stream",
          "name": "stderr",
          "text": [
            "WARNING:tensorflow:Early stopping conditioned on metric `val_loss` which is not available. Available metrics are: loss,accuracy\n",
            "WARNING:tensorflow:Learning rate reduction is conditioned on metric `val_loss` which is not available. Available metrics are: loss,accuracy,lr\n"
          ]
        },
        {
          "output_type": "stream",
          "name": "stdout",
          "text": [
            "\b\b\b\b\b\b\b\b\b\b\b\b\b\b\b\b\b\b\b\b\b\b\b\b\b\b\b\b\b\b\b\b\b\b\b\b\b\b\b\b\b\b\b\b\b\b\b\b\b\b\b\b\b\b\b\b\b\b\b\b\b\b\b\b\b\b\b\b\b\b\b\b\b\b\b\b\b\b\b\b\b\b\b\b\r120/120 [==============================] - 1s 7ms/step - loss: 0.0012 - accuracy: 1.0000 - lr: 3.0000e-05\n",
            "Epoch 113/200\n",
            "116/120 [============================>.] - ETA: 0s - loss: 0.0011 - accuracy: 1.0000"
          ]
        },
        {
          "output_type": "stream",
          "name": "stderr",
          "text": [
            "WARNING:tensorflow:Early stopping conditioned on metric `val_loss` which is not available. Available metrics are: loss,accuracy\n",
            "WARNING:tensorflow:Learning rate reduction is conditioned on metric `val_loss` which is not available. Available metrics are: loss,accuracy,lr\n"
          ]
        },
        {
          "output_type": "stream",
          "name": "stdout",
          "text": [
            "\b\b\b\b\b\b\b\b\b\b\b\b\b\b\b\b\b\b\b\b\b\b\b\b\b\b\b\b\b\b\b\b\b\b\b\b\b\b\b\b\b\b\b\b\b\b\b\b\b\b\b\b\b\b\b\b\b\b\b\b\b\b\b\b\b\b\b\b\b\b\b\b\b\b\b\b\b\b\b\b\b\b\b\b\r120/120 [==============================] - 1s 7ms/step - loss: 0.0011 - accuracy: 1.0000 - lr: 3.0000e-05\n",
            "Epoch 114/200\n",
            "114/120 [===========================>..] - ETA: 0s - loss: 0.0014 - accuracy: 0.9997"
          ]
        },
        {
          "output_type": "stream",
          "name": "stderr",
          "text": [
            "WARNING:tensorflow:Early stopping conditioned on metric `val_loss` which is not available. Available metrics are: loss,accuracy\n",
            "WARNING:tensorflow:Learning rate reduction is conditioned on metric `val_loss` which is not available. Available metrics are: loss,accuracy,lr\n"
          ]
        },
        {
          "output_type": "stream",
          "name": "stdout",
          "text": [
            "\b\b\b\b\b\b\b\b\b\b\b\b\b\b\b\b\b\b\b\b\b\b\b\b\b\b\b\b\b\b\b\b\b\b\b\b\b\b\b\b\b\b\b\b\b\b\b\b\b\b\b\b\b\b\b\b\b\b\b\b\b\b\b\b\b\b\b\b\b\b\b\b\b\b\b\b\b\b\b\b\b\b\b\b\r120/120 [==============================] - 1s 7ms/step - loss: 0.0015 - accuracy: 0.9997 - lr: 3.0000e-05\n",
            "Epoch 115/200\n",
            "116/120 [============================>.] - ETA: 0s - loss: 6.5202e-04 - accuracy: 1.0000"
          ]
        },
        {
          "output_type": "stream",
          "name": "stderr",
          "text": [
            "WARNING:tensorflow:Early stopping conditioned on metric `val_loss` which is not available. Available metrics are: loss,accuracy\n",
            "WARNING:tensorflow:Learning rate reduction is conditioned on metric `val_loss` which is not available. Available metrics are: loss,accuracy,lr\n"
          ]
        },
        {
          "output_type": "stream",
          "name": "stdout",
          "text": [
            "\b\b\b\b\b\b\b\b\b\b\b\b\b\b\b\b\b\b\b\b\b\b\b\b\b\b\b\b\b\b\b\b\b\b\b\b\b\b\b\b\b\b\b\b\b\b\b\b\b\b\b\b\b\b\b\b\b\b\b\b\b\b\b\b\b\b\b\b\b\b\b\b\b\b\b\b\b\b\b\b\b\b\b\b\b\b\b\b\r120/120 [==============================] - 1s 7ms/step - loss: 6.6227e-04 - accuracy: 1.0000 - lr: 3.0000e-05\n",
            "Epoch 116/200\n",
            "119/120 [============================>.] - ETA: 0s - loss: 0.0013 - accuracy: 1.0000"
          ]
        },
        {
          "output_type": "stream",
          "name": "stderr",
          "text": [
            "WARNING:tensorflow:Early stopping conditioned on metric `val_loss` which is not available. Available metrics are: loss,accuracy\n",
            "WARNING:tensorflow:Learning rate reduction is conditioned on metric `val_loss` which is not available. Available metrics are: loss,accuracy,lr\n"
          ]
        },
        {
          "output_type": "stream",
          "name": "stdout",
          "text": [
            "\b\b\b\b\b\b\b\b\b\b\b\b\b\b\b\b\b\b\b\b\b\b\b\b\b\b\b\b\b\b\b\b\b\b\b\b\b\b\b\b\b\b\b\b\b\b\b\b\b\b\b\b\b\b\b\b\b\b\b\b\b\b\b\b\b\b\b\b\b\b\b\b\b\b\b\b\b\b\b\b\b\b\b\b\r120/120 [==============================] - 1s 7ms/step - loss: 0.0013 - accuracy: 1.0000 - lr: 3.0000e-05\n",
            "Epoch 117/200\n",
            "115/120 [===========================>..] - ETA: 0s - loss: 9.5675e-04 - accuracy: 1.0000"
          ]
        },
        {
          "output_type": "stream",
          "name": "stderr",
          "text": [
            "WARNING:tensorflow:Early stopping conditioned on metric `val_loss` which is not available. Available metrics are: loss,accuracy\n",
            "WARNING:tensorflow:Learning rate reduction is conditioned on metric `val_loss` which is not available. Available metrics are: loss,accuracy,lr\n"
          ]
        },
        {
          "output_type": "stream",
          "name": "stdout",
          "text": [
            "\b\b\b\b\b\b\b\b\b\b\b\b\b\b\b\b\b\b\b\b\b\b\b\b\b\b\b\b\b\b\b\b\b\b\b\b\b\b\b\b\b\b\b\b\b\b\b\b\b\b\b\b\b\b\b\b\b\b\b\b\b\b\b\b\b\b\b\b\b\b\b\b\b\b\b\b\b\b\b\b\b\b\b\b\b\b\b\b\r120/120 [==============================] - 1s 7ms/step - loss: 9.4293e-04 - accuracy: 1.0000 - lr: 3.0000e-05\n",
            "Epoch 118/200\n",
            "114/120 [===========================>..] - ETA: 0s - loss: 0.0017 - accuracy: 0.9995"
          ]
        },
        {
          "output_type": "stream",
          "name": "stderr",
          "text": [
            "WARNING:tensorflow:Early stopping conditioned on metric `val_loss` which is not available. Available metrics are: loss,accuracy\n",
            "WARNING:tensorflow:Learning rate reduction is conditioned on metric `val_loss` which is not available. Available metrics are: loss,accuracy,lr\n"
          ]
        },
        {
          "output_type": "stream",
          "name": "stdout",
          "text": [
            "\b\b\b\b\b\b\b\b\b\b\b\b\b\b\b\b\b\b\b\b\b\b\b\b\b\b\b\b\b\b\b\b\b\b\b\b\b\b\b\b\b\b\b\b\b\b\b\b\b\b\b\b\b\b\b\b\b\b\b\b\b\b\b\b\b\b\b\b\b\b\b\b\b\b\b\b\b\b\b\b\b\b\b\b\r120/120 [==============================] - 1s 7ms/step - loss: 0.0017 - accuracy: 0.9995 - lr: 3.0000e-05\n",
            "Epoch 119/200\n",
            "116/120 [============================>.] - ETA: 0s - loss: 0.0010 - accuracy: 1.0000"
          ]
        },
        {
          "output_type": "stream",
          "name": "stderr",
          "text": [
            "WARNING:tensorflow:Early stopping conditioned on metric `val_loss` which is not available. Available metrics are: loss,accuracy\n",
            "WARNING:tensorflow:Learning rate reduction is conditioned on metric `val_loss` which is not available. Available metrics are: loss,accuracy,lr\n"
          ]
        },
        {
          "output_type": "stream",
          "name": "stdout",
          "text": [
            "\b\b\b\b\b\b\b\b\b\b\b\b\b\b\b\b\b\b\b\b\b\b\b\b\b\b\b\b\b\b\b\b\b\b\b\b\b\b\b\b\b\b\b\b\b\b\b\b\b\b\b\b\b\b\b\b\b\b\b\b\b\b\b\b\b\b\b\b\b\b\b\b\b\b\b\b\b\b\b\b\b\b\b\b\r120/120 [==============================] - 1s 7ms/step - loss: 9.7965e-04 - accuracy: 1.0000 - lr: 3.0000e-05\n",
            "Epoch 120/200\n",
            "114/120 [===========================>..] - ETA: 0s - loss: 0.0014 - accuracy: 0.9997"
          ]
        },
        {
          "output_type": "stream",
          "name": "stderr",
          "text": [
            "WARNING:tensorflow:Early stopping conditioned on metric `val_loss` which is not available. Available metrics are: loss,accuracy\n",
            "WARNING:tensorflow:Learning rate reduction is conditioned on metric `val_loss` which is not available. Available metrics are: loss,accuracy,lr\n"
          ]
        },
        {
          "output_type": "stream",
          "name": "stdout",
          "text": [
            "\b\b\b\b\b\b\b\b\b\b\b\b\b\b\b\b\b\b\b\b\b\b\b\b\b\b\b\b\b\b\b\b\b\b\b\b\b\b\b\b\b\b\b\b\b\b\b\b\b\b\b\b\b\b\b\b\b\b\b\b\b\b\b\b\b\b\b\b\b\b\b\b\b\b\b\b\b\b\b\b\b\b\b\b\r120/120 [==============================] - 1s 7ms/step - loss: 0.0013 - accuracy: 0.9997 - lr: 3.0000e-05\n",
            "Epoch 121/200\n",
            "113/120 [===========================>..] - ETA: 0s - loss: 0.0010 - accuracy: 1.0000    "
          ]
        },
        {
          "output_type": "stream",
          "name": "stderr",
          "text": [
            "WARNING:tensorflow:Early stopping conditioned on metric `val_loss` which is not available. Available metrics are: loss,accuracy\n",
            "WARNING:tensorflow:Learning rate reduction is conditioned on metric `val_loss` which is not available. Available metrics are: loss,accuracy,lr\n"
          ]
        },
        {
          "output_type": "stream",
          "name": "stdout",
          "text": [
            "\b\b\b\b\b\b\b\b\b\b\b\b\b\b\b\b\b\b\b\b\b\b\b\b\b\b\b\b\b\b\b\b\b\b\b\b\b\b\b\b\b\b\b\b\b\b\b\b\b\b\b\b\b\b\b\b\b\b\b\b\b\b\b\b\b\b\b\b\b\b\b\b\b\b\b\b\b\b\b\b\b\b\b\b\r120/120 [==============================] - 1s 7ms/step - loss: 9.8796e-04 - accuracy: 1.0000 - lr: 3.0000e-05\n",
            "Epoch 122/200\n",
            "116/120 [============================>.] - ETA: 0s - loss: 0.0016 - accuracy: 1.0000"
          ]
        },
        {
          "output_type": "stream",
          "name": "stderr",
          "text": [
            "WARNING:tensorflow:Early stopping conditioned on metric `val_loss` which is not available. Available metrics are: loss,accuracy\n",
            "WARNING:tensorflow:Learning rate reduction is conditioned on metric `val_loss` which is not available. Available metrics are: loss,accuracy,lr\n"
          ]
        },
        {
          "output_type": "stream",
          "name": "stdout",
          "text": [
            "\b\b\b\b\b\b\b\b\b\b\b\b\b\b\b\b\b\b\b\b\b\b\b\b\b\b\b\b\b\b\b\b\b\b\b\b\b\b\b\b\b\b\b\b\b\b\b\b\b\b\b\b\b\b\b\b\b\b\b\b\b\b\b\b\b\b\b\b\b\b\b\b\b\b\b\b\b\b\b\b\b\b\b\b\r120/120 [==============================] - 1s 7ms/step - loss: 0.0016 - accuracy: 1.0000 - lr: 3.0000e-05\n",
            "Epoch 123/200\n",
            "118/120 [============================>.] - ETA: 0s - loss: 6.9796e-04 - accuracy: 1.0000"
          ]
        },
        {
          "output_type": "stream",
          "name": "stderr",
          "text": [
            "WARNING:tensorflow:Early stopping conditioned on metric `val_loss` which is not available. Available metrics are: loss,accuracy\n",
            "WARNING:tensorflow:Learning rate reduction is conditioned on metric `val_loss` which is not available. Available metrics are: loss,accuracy,lr\n"
          ]
        },
        {
          "output_type": "stream",
          "name": "stdout",
          "text": [
            "\b\b\b\b\b\b\b\b\b\b\b\b\b\b\b\b\b\b\b\b\b\b\b\b\b\b\b\b\b\b\b\b\b\b\b\b\b\b\b\b\b\b\b\b\b\b\b\b\b\b\b\b\b\b\b\b\b\b\b\b\b\b\b\b\b\b\b\b\b\b\b\b\b\b\b\b\b\b\b\b\b\b\b\b\b\b\b\b\r120/120 [==============================] - 1s 7ms/step - loss: 7.8041e-04 - accuracy: 1.0000 - lr: 3.0000e-05\n",
            "Epoch 124/200\n",
            "116/120 [============================>.] - ETA: 0s - loss: 9.0335e-04 - accuracy: 1.0000"
          ]
        },
        {
          "output_type": "stream",
          "name": "stderr",
          "text": [
            "WARNING:tensorflow:Early stopping conditioned on metric `val_loss` which is not available. Available metrics are: loss,accuracy\n",
            "WARNING:tensorflow:Learning rate reduction is conditioned on metric `val_loss` which is not available. Available metrics are: loss,accuracy,lr\n"
          ]
        },
        {
          "output_type": "stream",
          "name": "stdout",
          "text": [
            "\b\b\b\b\b\b\b\b\b\b\b\b\b\b\b\b\b\b\b\b\b\b\b\b\b\b\b\b\b\b\b\b\b\b\b\b\b\b\b\b\b\b\b\b\b\b\b\b\b\b\b\b\b\b\b\b\b\b\b\b\b\b\b\b\b\b\b\b\b\b\b\b\b\b\b\b\b\b\b\b\b\b\b\b\b\b\b\b\r120/120 [==============================] - 1s 7ms/step - loss: 8.8814e-04 - accuracy: 1.0000 - lr: 3.0000e-05\n",
            "Epoch 125/200\n",
            "118/120 [============================>.] - ETA: 0s - loss: 0.0014 - accuracy: 1.0000"
          ]
        },
        {
          "output_type": "stream",
          "name": "stderr",
          "text": [
            "WARNING:tensorflow:Early stopping conditioned on metric `val_loss` which is not available. Available metrics are: loss,accuracy\n",
            "WARNING:tensorflow:Learning rate reduction is conditioned on metric `val_loss` which is not available. Available metrics are: loss,accuracy,lr\n"
          ]
        },
        {
          "output_type": "stream",
          "name": "stdout",
          "text": [
            "\b\b\b\b\b\b\b\b\b\b\b\b\b\b\b\b\b\b\b\b\b\b\b\b\b\b\b\b\b\b\b\b\b\b\b\b\b\b\b\b\b\b\b\b\b\b\b\b\b\b\b\b\b\b\b\b\b\b\b\b\b\b\b\b\b\b\b\b\b\b\b\b\b\b\b\b\b\b\b\b\b\b\b\b\r120/120 [==============================] - 1s 7ms/step - loss: 0.0014 - accuracy: 1.0000 - lr: 3.0000e-05\n",
            "Epoch 126/200\n",
            "117/120 [============================>.] - ETA: 0s - loss: 0.0014 - accuracy: 1.0000"
          ]
        },
        {
          "output_type": "stream",
          "name": "stderr",
          "text": [
            "WARNING:tensorflow:Early stopping conditioned on metric `val_loss` which is not available. Available metrics are: loss,accuracy\n",
            "WARNING:tensorflow:Learning rate reduction is conditioned on metric `val_loss` which is not available. Available metrics are: loss,accuracy,lr\n"
          ]
        },
        {
          "output_type": "stream",
          "name": "stdout",
          "text": [
            "\b\b\b\b\b\b\b\b\b\b\b\b\b\b\b\b\b\b\b\b\b\b\b\b\b\b\b\b\b\b\b\b\b\b\b\b\b\b\b\b\b\b\b\b\b\b\b\b\b\b\b\b\b\b\b\b\b\b\b\b\b\b\b\b\b\b\b\b\b\b\b\b\b\b\b\b\b\b\b\b\b\b\b\b\r120/120 [==============================] - 1s 7ms/step - loss: 0.0014 - accuracy: 1.0000 - lr: 3.0000e-05\n",
            "Epoch 127/200\n",
            "117/120 [============================>.] - ETA: 0s - loss: 6.7454e-04 - accuracy: 1.0000"
          ]
        },
        {
          "output_type": "stream",
          "name": "stderr",
          "text": [
            "WARNING:tensorflow:Early stopping conditioned on metric `val_loss` which is not available. Available metrics are: loss,accuracy\n",
            "WARNING:tensorflow:Learning rate reduction is conditioned on metric `val_loss` which is not available. Available metrics are: loss,accuracy,lr\n"
          ]
        },
        {
          "output_type": "stream",
          "name": "stdout",
          "text": [
            "\b\b\b\b\b\b\b\b\b\b\b\b\b\b\b\b\b\b\b\b\b\b\b\b\b\b\b\b\b\b\b\b\b\b\b\b\b\b\b\b\b\b\b\b\b\b\b\b\b\b\b\b\b\b\b\b\b\b\b\b\b\b\b\b\b\b\b\b\b\b\b\b\b\b\b\b\b\b\b\b\b\b\b\b\b\b\b\b\r120/120 [==============================] - 1s 7ms/step - loss: 6.6290e-04 - accuracy: 1.0000 - lr: 3.0000e-05\n",
            "Epoch 128/200\n",
            "117/120 [============================>.] - ETA: 0s - loss: 8.7352e-04 - accuracy: 1.0000"
          ]
        },
        {
          "output_type": "stream",
          "name": "stderr",
          "text": [
            "WARNING:tensorflow:Early stopping conditioned on metric `val_loss` which is not available. Available metrics are: loss,accuracy\n",
            "WARNING:tensorflow:Learning rate reduction is conditioned on metric `val_loss` which is not available. Available metrics are: loss,accuracy,lr\n"
          ]
        },
        {
          "output_type": "stream",
          "name": "stdout",
          "text": [
            "\b\b\b\b\b\b\b\b\b\b\b\b\b\b\b\b\b\b\b\b\b\b\b\b\b\b\b\b\b\b\b\b\b\b\b\b\b\b\b\b\b\b\b\b\b\b\b\b\b\b\b\b\b\b\b\b\b\b\b\b\b\b\b\b\b\b\b\b\b\b\b\b\b\b\b\b\b\b\b\b\b\b\b\b\b\b\b\b\r120/120 [==============================] - 1s 7ms/step - loss: 8.6687e-04 - accuracy: 1.0000 - lr: 3.0000e-05\n",
            "Epoch 129/200\n",
            "116/120 [============================>.] - ETA: 0s - loss: 0.0013 - accuracy: 1.0000    "
          ]
        },
        {
          "output_type": "stream",
          "name": "stderr",
          "text": [
            "WARNING:tensorflow:Early stopping conditioned on metric `val_loss` which is not available. Available metrics are: loss,accuracy\n",
            "WARNING:tensorflow:Learning rate reduction is conditioned on metric `val_loss` which is not available. Available metrics are: loss,accuracy,lr\n"
          ]
        },
        {
          "output_type": "stream",
          "name": "stdout",
          "text": [
            "\b\b\b\b\b\b\b\b\b\b\b\b\b\b\b\b\b\b\b\b\b\b\b\b\b\b\b\b\b\b\b\b\b\b\b\b\b\b\b\b\b\b\b\b\b\b\b\b\b\b\b\b\b\b\b\b\b\b\b\b\b\b\b\b\b\b\b\b\b\b\b\b\b\b\b\b\b\b\b\b\b\b\b\b\r120/120 [==============================] - 1s 7ms/step - loss: 0.0012 - accuracy: 1.0000 - lr: 3.0000e-05\n",
            "Epoch 130/200\n",
            "113/120 [===========================>..] - ETA: 0s - loss: 6.6585e-04 - accuracy: 1.0000"
          ]
        },
        {
          "output_type": "stream",
          "name": "stderr",
          "text": [
            "WARNING:tensorflow:Early stopping conditioned on metric `val_loss` which is not available. Available metrics are: loss,accuracy\n",
            "WARNING:tensorflow:Learning rate reduction is conditioned on metric `val_loss` which is not available. Available metrics are: loss,accuracy,lr\n"
          ]
        },
        {
          "output_type": "stream",
          "name": "stdout",
          "text": [
            "\b\b\b\b\b\b\b\b\b\b\b\b\b\b\b\b\b\b\b\b\b\b\b\b\b\b\b\b\b\b\b\b\b\b\b\b\b\b\b\b\b\b\b\b\b\b\b\b\b\b\b\b\b\b\b\b\b\b\b\b\b\b\b\b\b\b\b\b\b\b\b\b\b\b\b\b\b\b\b\b\b\b\b\b\b\b\b\b\r120/120 [==============================] - 1s 7ms/step - loss: 6.9168e-04 - accuracy: 1.0000 - lr: 3.0000e-05\n",
            "Epoch 131/200\n",
            "118/120 [============================>.] - ETA: 0s - loss: 7.3938e-04 - accuracy: 1.0000"
          ]
        },
        {
          "output_type": "stream",
          "name": "stderr",
          "text": [
            "WARNING:tensorflow:Early stopping conditioned on metric `val_loss` which is not available. Available metrics are: loss,accuracy\n",
            "WARNING:tensorflow:Learning rate reduction is conditioned on metric `val_loss` which is not available. Available metrics are: loss,accuracy,lr\n"
          ]
        },
        {
          "output_type": "stream",
          "name": "stdout",
          "text": [
            "\b\b\b\b\b\b\b\b\b\b\b\b\b\b\b\b\b\b\b\b\b\b\b\b\b\b\b\b\b\b\b\b\b\b\b\b\b\b\b\b\b\b\b\b\b\b\b\b\b\b\b\b\b\b\b\b\b\b\b\b\b\b\b\b\b\b\b\b\b\b\b\b\b\b\b\b\b\b\b\b\b\b\b\b\b\b\b\b\r120/120 [==============================] - 1s 7ms/step - loss: 7.3350e-04 - accuracy: 1.0000 - lr: 3.0000e-05\n",
            "Epoch 132/200\n",
            "117/120 [============================>.] - ETA: 0s - loss: 9.3502e-04 - accuracy: 1.0000"
          ]
        },
        {
          "output_type": "stream",
          "name": "stderr",
          "text": [
            "WARNING:tensorflow:Early stopping conditioned on metric `val_loss` which is not available. Available metrics are: loss,accuracy\n",
            "WARNING:tensorflow:Learning rate reduction is conditioned on metric `val_loss` which is not available. Available metrics are: loss,accuracy,lr\n"
          ]
        },
        {
          "output_type": "stream",
          "name": "stdout",
          "text": [
            "\b\b\b\b\b\b\b\b\b\b\b\b\b\b\b\b\b\b\b\b\b\b\b\b\b\b\b\b\b\b\b\b\b\b\b\b\b\b\b\b\b\b\b\b\b\b\b\b\b\b\b\b\b\b\b\b\b\b\b\b\b\b\b\b\b\b\b\b\b\b\b\b\b\b\b\b\b\b\b\b\b\b\b\b\b\b\b\b\r120/120 [==============================] - 1s 7ms/step - loss: 9.1795e-04 - accuracy: 1.0000 - lr: 3.0000e-05\n",
            "Epoch 133/200\n",
            "115/120 [===========================>..] - ETA: 0s - loss: 0.0011 - accuracy: 1.0000    "
          ]
        },
        {
          "output_type": "stream",
          "name": "stderr",
          "text": [
            "WARNING:tensorflow:Early stopping conditioned on metric `val_loss` which is not available. Available metrics are: loss,accuracy\n",
            "WARNING:tensorflow:Learning rate reduction is conditioned on metric `val_loss` which is not available. Available metrics are: loss,accuracy,lr\n"
          ]
        },
        {
          "output_type": "stream",
          "name": "stdout",
          "text": [
            "\b\b\b\b\b\b\b\b\b\b\b\b\b\b\b\b\b\b\b\b\b\b\b\b\b\b\b\b\b\b\b\b\b\b\b\b\b\b\b\b\b\b\b\b\b\b\b\b\b\b\b\b\b\b\b\b\b\b\b\b\b\b\b\b\b\b\b\b\b\b\b\b\b\b\b\b\b\b\b\b\b\b\b\b\r120/120 [==============================] - 1s 7ms/step - loss: 0.0011 - accuracy: 1.0000 - lr: 3.0000e-05\n",
            "Epoch 134/200\n",
            "117/120 [============================>.] - ETA: 0s - loss: 9.4013e-04 - accuracy: 1.0000"
          ]
        },
        {
          "output_type": "stream",
          "name": "stderr",
          "text": [
            "WARNING:tensorflow:Early stopping conditioned on metric `val_loss` which is not available. Available metrics are: loss,accuracy\n",
            "WARNING:tensorflow:Learning rate reduction is conditioned on metric `val_loss` which is not available. Available metrics are: loss,accuracy,lr\n"
          ]
        },
        {
          "output_type": "stream",
          "name": "stdout",
          "text": [
            "\b\b\b\b\b\b\b\b\b\b\b\b\b\b\b\b\b\b\b\b\b\b\b\b\b\b\b\b\b\b\b\b\b\b\b\b\b\b\b\b\b\b\b\b\b\b\b\b\b\b\b\b\b\b\b\b\b\b\b\b\b\b\b\b\b\b\b\b\b\b\b\b\b\b\b\b\b\b\b\b\b\b\b\b\b\b\b\b\r120/120 [==============================] - 1s 7ms/step - loss: 9.7396e-04 - accuracy: 1.0000 - lr: 3.0000e-05\n",
            "Epoch 135/200\n",
            "113/120 [===========================>..] - ETA: 0s - loss: 7.2183e-04 - accuracy: 1.0000"
          ]
        },
        {
          "output_type": "stream",
          "name": "stderr",
          "text": [
            "WARNING:tensorflow:Early stopping conditioned on metric `val_loss` which is not available. Available metrics are: loss,accuracy\n",
            "WARNING:tensorflow:Learning rate reduction is conditioned on metric `val_loss` which is not available. Available metrics are: loss,accuracy,lr\n"
          ]
        },
        {
          "output_type": "stream",
          "name": "stdout",
          "text": [
            "\b\b\b\b\b\b\b\b\b\b\b\b\b\b\b\b\b\b\b\b\b\b\b\b\b\b\b\b\b\b\b\b\b\b\b\b\b\b\b\b\b\b\b\b\b\b\b\b\b\b\b\b\b\b\b\b\b\b\b\b\b\b\b\b\b\b\b\b\b\b\b\b\b\b\b\b\b\b\b\b\b\b\b\b\b\b\b\b\r120/120 [==============================] - 1s 7ms/step - loss: 6.8774e-04 - accuracy: 1.0000 - lr: 3.0000e-05\n",
            "Epoch 136/200\n",
            "114/120 [===========================>..] - ETA: 0s - loss: 7.7081e-04 - accuracy: 1.0000"
          ]
        },
        {
          "output_type": "stream",
          "name": "stderr",
          "text": [
            "WARNING:tensorflow:Early stopping conditioned on metric `val_loss` which is not available. Available metrics are: loss,accuracy\n",
            "WARNING:tensorflow:Learning rate reduction is conditioned on metric `val_loss` which is not available. Available metrics are: loss,accuracy,lr\n"
          ]
        },
        {
          "output_type": "stream",
          "name": "stdout",
          "text": [
            "\b\b\b\b\b\b\b\b\b\b\b\b\b\b\b\b\b\b\b\b\b\b\b\b\b\b\b\b\b\b\b\b\b\b\b\b\b\b\b\b\b\b\b\b\b\b\b\b\b\b\b\b\b\b\b\b\b\b\b\b\b\b\b\b\b\b\b\b\b\b\b\b\b\b\b\b\b\b\b\b\b\b\b\b\b\b\b\b\r120/120 [==============================] - 1s 7ms/step - loss: 7.4102e-04 - accuracy: 1.0000 - lr: 3.0000e-05\n",
            "Epoch 137/200\n",
            "114/120 [===========================>..] - ETA: 0s - loss: 9.4250e-04 - accuracy: 1.0000"
          ]
        },
        {
          "output_type": "stream",
          "name": "stderr",
          "text": [
            "WARNING:tensorflow:Early stopping conditioned on metric `val_loss` which is not available. Available metrics are: loss,accuracy\n",
            "WARNING:tensorflow:Learning rate reduction is conditioned on metric `val_loss` which is not available. Available metrics are: loss,accuracy,lr\n"
          ]
        },
        {
          "output_type": "stream",
          "name": "stdout",
          "text": [
            "\b\b\b\b\b\b\b\b\b\b\b\b\b\b\b\b\b\b\b\b\b\b\b\b\b\b\b\b\b\b\b\b\b\b\b\b\b\b\b\b\b\b\b\b\b\b\b\b\b\b\b\b\b\b\b\b\b\b\b\b\b\b\b\b\b\b\b\b\b\b\b\b\b\b\b\b\b\b\b\b\b\b\b\b\b\b\b\b\r120/120 [==============================] - 1s 7ms/step - loss: 9.0539e-04 - accuracy: 1.0000 - lr: 3.0000e-05\n",
            "Epoch 138/200\n",
            "115/120 [===========================>..] - ETA: 0s - loss: 0.0015 - accuracy: 0.9997"
          ]
        },
        {
          "output_type": "stream",
          "name": "stderr",
          "text": [
            "WARNING:tensorflow:Early stopping conditioned on metric `val_loss` which is not available. Available metrics are: loss,accuracy\n",
            "WARNING:tensorflow:Learning rate reduction is conditioned on metric `val_loss` which is not available. Available metrics are: loss,accuracy,lr\n"
          ]
        },
        {
          "output_type": "stream",
          "name": "stdout",
          "text": [
            "\b\b\b\b\b\b\b\b\b\b\b\b\b\b\b\b\b\b\b\b\b\b\b\b\b\b\b\b\b\b\b\b\b\b\b\b\b\b\b\b\b\b\b\b\b\b\b\b\b\b\b\b\b\b\b\b\b\b\b\b\b\b\b\b\b\b\b\b\b\b\b\b\b\b\b\b\b\b\b\b\b\b\b\b\r120/120 [==============================] - 1s 7ms/step - loss: 0.0015 - accuracy: 0.9997 - lr: 3.0000e-05\n",
            "Epoch 139/200\n",
            "115/120 [===========================>..] - ETA: 0s - loss: 9.3649e-04 - accuracy: 1.0000"
          ]
        },
        {
          "output_type": "stream",
          "name": "stderr",
          "text": [
            "WARNING:tensorflow:Early stopping conditioned on metric `val_loss` which is not available. Available metrics are: loss,accuracy\n",
            "WARNING:tensorflow:Learning rate reduction is conditioned on metric `val_loss` which is not available. Available metrics are: loss,accuracy,lr\n"
          ]
        },
        {
          "output_type": "stream",
          "name": "stdout",
          "text": [
            "\b\b\b\b\b\b\b\b\b\b\b\b\b\b\b\b\b\b\b\b\b\b\b\b\b\b\b\b\b\b\b\b\b\b\b\b\b\b\b\b\b\b\b\b\b\b\b\b\b\b\b\b\b\b\b\b\b\b\b\b\b\b\b\b\b\b\b\b\b\b\b\b\b\b\b\b\b\b\b\b\b\b\b\b\b\b\b\b\r120/120 [==============================] - 1s 7ms/step - loss: 9.0372e-04 - accuracy: 1.0000 - lr: 3.0000e-05\n",
            "Epoch 140/200\n",
            "115/120 [===========================>..] - ETA: 0s - loss: 7.4436e-04 - accuracy: 1.0000"
          ]
        },
        {
          "output_type": "stream",
          "name": "stderr",
          "text": [
            "WARNING:tensorflow:Early stopping conditioned on metric `val_loss` which is not available. Available metrics are: loss,accuracy\n",
            "WARNING:tensorflow:Learning rate reduction is conditioned on metric `val_loss` which is not available. Available metrics are: loss,accuracy,lr\n"
          ]
        },
        {
          "output_type": "stream",
          "name": "stdout",
          "text": [
            "\b\b\b\b\b\b\b\b\b\b\b\b\b\b\b\b\b\b\b\b\b\b\b\b\b\b\b\b\b\b\b\b\b\b\b\b\b\b\b\b\b\b\b\b\b\b\b\b\b\b\b\b\b\b\b\b\b\b\b\b\b\b\b\b\b\b\b\b\b\b\b\b\b\b\b\b\b\b\b\b\b\b\b\b\b\b\b\b\r120/120 [==============================] - 1s 7ms/step - loss: 7.5779e-04 - accuracy: 1.0000 - lr: 3.0000e-05\n",
            "Epoch 141/200\n",
            "116/120 [============================>.] - ETA: 0s - loss: 0.0010 - accuracy: 1.0000    "
          ]
        },
        {
          "output_type": "stream",
          "name": "stderr",
          "text": [
            "WARNING:tensorflow:Early stopping conditioned on metric `val_loss` which is not available. Available metrics are: loss,accuracy\n",
            "WARNING:tensorflow:Learning rate reduction is conditioned on metric `val_loss` which is not available. Available metrics are: loss,accuracy,lr\n"
          ]
        },
        {
          "output_type": "stream",
          "name": "stdout",
          "text": [
            "\b\b\b\b\b\b\b\b\b\b\b\b\b\b\b\b\b\b\b\b\b\b\b\b\b\b\b\b\b\b\b\b\b\b\b\b\b\b\b\b\b\b\b\b\b\b\b\b\b\b\b\b\b\b\b\b\b\b\b\b\b\b\b\b\b\b\b\b\b\b\b\b\b\b\b\b\b\b\b\b\b\b\b\b\r120/120 [==============================] - 1s 7ms/step - loss: 9.7860e-04 - accuracy: 1.0000 - lr: 3.0000e-05\n",
            "Epoch 142/200\n",
            "120/120 [==============================] - ETA: 0s - loss: 6.0968e-04 - accuracy: 1.0000"
          ]
        },
        {
          "output_type": "stream",
          "name": "stderr",
          "text": [
            "WARNING:tensorflow:Early stopping conditioned on metric `val_loss` which is not available. Available metrics are: loss,accuracy\n",
            "WARNING:tensorflow:Learning rate reduction is conditioned on metric `val_loss` which is not available. Available metrics are: loss,accuracy,lr\n"
          ]
        },
        {
          "output_type": "stream",
          "name": "stdout",
          "text": [
            "\b\b\b\b\b\b\b\b\b\b\b\b\b\b\b\b\b\b\b\b\b\b\b\b\b\b\b\b\b\b\b\b\b\b\b\b\b\b\b\b\b\b\b\b\b\b\b\b\b\b\b\b\b\b\b\b\b\b\b\b\b\b\b\b\b\b\b\b\b\b\b\b\b\b\b\b\b\b\b\b\b\b\b\b\b\b\b\b\r120/120 [==============================] - 1s 7ms/step - loss: 6.0968e-04 - accuracy: 1.0000 - lr: 3.0000e-05\n",
            "Epoch 143/200\n",
            "116/120 [============================>.] - ETA: 0s - loss: 6.0049e-04 - accuracy: 1.0000"
          ]
        },
        {
          "output_type": "stream",
          "name": "stderr",
          "text": [
            "WARNING:tensorflow:Early stopping conditioned on metric `val_loss` which is not available. Available metrics are: loss,accuracy\n",
            "WARNING:tensorflow:Learning rate reduction is conditioned on metric `val_loss` which is not available. Available metrics are: loss,accuracy,lr\n"
          ]
        },
        {
          "output_type": "stream",
          "name": "stdout",
          "text": [
            "\b\b\b\b\b\b\b\b\b\b\b\b\b\b\b\b\b\b\b\b\b\b\b\b\b\b\b\b\b\b\b\b\b\b\b\b\b\b\b\b\b\b\b\b\b\b\b\b\b\b\b\b\b\b\b\b\b\b\b\b\b\b\b\b\b\b\b\b\b\b\b\b\b\b\b\b\b\b\b\b\b\b\b\b\b\b\b\b\r120/120 [==============================] - 1s 7ms/step - loss: 5.8494e-04 - accuracy: 1.0000 - lr: 3.0000e-05\n",
            "Epoch 144/200\n",
            "116/120 [============================>.] - ETA: 0s - loss: 8.8671e-04 - accuracy: 1.0000"
          ]
        },
        {
          "output_type": "stream",
          "name": "stderr",
          "text": [
            "WARNING:tensorflow:Early stopping conditioned on metric `val_loss` which is not available. Available metrics are: loss,accuracy\n",
            "WARNING:tensorflow:Learning rate reduction is conditioned on metric `val_loss` which is not available. Available metrics are: loss,accuracy,lr\n"
          ]
        },
        {
          "output_type": "stream",
          "name": "stdout",
          "text": [
            "\b\b\b\b\b\b\b\b\b\b\b\b\b\b\b\b\b\b\b\b\b\b\b\b\b\b\b\b\b\b\b\b\b\b\b\b\b\b\b\b\b\b\b\b\b\b\b\b\b\b\b\b\b\b\b\b\b\b\b\b\b\b\b\b\b\b\b\b\b\b\b\b\b\b\b\b\b\b\b\b\b\b\b\b\b\b\b\b\r120/120 [==============================] - 1s 7ms/step - loss: 8.6201e-04 - accuracy: 1.0000 - lr: 3.0000e-05\n",
            "Epoch 145/200\n",
            "117/120 [============================>.] - ETA: 0s - loss: 8.5098e-04 - accuracy: 1.0000"
          ]
        },
        {
          "output_type": "stream",
          "name": "stderr",
          "text": [
            "WARNING:tensorflow:Early stopping conditioned on metric `val_loss` which is not available. Available metrics are: loss,accuracy\n",
            "WARNING:tensorflow:Learning rate reduction is conditioned on metric `val_loss` which is not available. Available metrics are: loss,accuracy,lr\n"
          ]
        },
        {
          "output_type": "stream",
          "name": "stdout",
          "text": [
            "\b\b\b\b\b\b\b\b\b\b\b\b\b\b\b\b\b\b\b\b\b\b\b\b\b\b\b\b\b\b\b\b\b\b\b\b\b\b\b\b\b\b\b\b\b\b\b\b\b\b\b\b\b\b\b\b\b\b\b\b\b\b\b\b\b\b\b\b\b\b\b\b\b\b\b\b\b\b\b\b\b\b\b\b\b\b\b\b\r120/120 [==============================] - 1s 7ms/step - loss: 8.7435e-04 - accuracy: 1.0000 - lr: 3.0000e-05\n",
            "Epoch 146/200\n",
            "117/120 [============================>.] - ETA: 0s - loss: 4.1770e-04 - accuracy: 1.0000"
          ]
        },
        {
          "output_type": "stream",
          "name": "stderr",
          "text": [
            "WARNING:tensorflow:Early stopping conditioned on metric `val_loss` which is not available. Available metrics are: loss,accuracy\n",
            "WARNING:tensorflow:Learning rate reduction is conditioned on metric `val_loss` which is not available. Available metrics are: loss,accuracy,lr\n"
          ]
        },
        {
          "output_type": "stream",
          "name": "stdout",
          "text": [
            "\b\b\b\b\b\b\b\b\b\b\b\b\b\b\b\b\b\b\b\b\b\b\b\b\b\b\b\b\b\b\b\b\b\b\b\b\b\b\b\b\b\b\b\b\b\b\b\b\b\b\b\b\b\b\b\b\b\b\b\b\b\b\b\b\b\b\b\b\b\b\b\b\b\b\b\b\b\b\b\b\b\b\b\b\b\b\b\b\r120/120 [==============================] - 1s 7ms/step - loss: 4.0970e-04 - accuracy: 1.0000 - lr: 3.0000e-05\n",
            "Epoch 147/200\n",
            "117/120 [============================>.] - ETA: 0s - loss: 9.9279e-04 - accuracy: 1.0000"
          ]
        },
        {
          "output_type": "stream",
          "name": "stderr",
          "text": [
            "WARNING:tensorflow:Early stopping conditioned on metric `val_loss` which is not available. Available metrics are: loss,accuracy\n",
            "WARNING:tensorflow:Learning rate reduction is conditioned on metric `val_loss` which is not available. Available metrics are: loss,accuracy,lr\n"
          ]
        },
        {
          "output_type": "stream",
          "name": "stdout",
          "text": [
            "\b\b\b\b\b\b\b\b\b\b\b\b\b\b\b\b\b\b\b\b\b\b\b\b\b\b\b\b\b\b\b\b\b\b\b\b\b\b\b\b\b\b\b\b\b\b\b\b\b\b\b\b\b\b\b\b\b\b\b\b\b\b\b\b\b\b\b\b\b\b\b\b\b\b\b\b\b\b\b\b\b\b\b\b\b\b\b\b\r120/120 [==============================] - 1s 7ms/step - loss: 9.7357e-04 - accuracy: 1.0000 - lr: 3.0000e-05\n",
            "Epoch 148/200\n",
            "116/120 [============================>.] - ETA: 0s - loss: 2.7969e-04 - accuracy: 1.0000"
          ]
        },
        {
          "output_type": "stream",
          "name": "stderr",
          "text": [
            "WARNING:tensorflow:Early stopping conditioned on metric `val_loss` which is not available. Available metrics are: loss,accuracy\n",
            "WARNING:tensorflow:Learning rate reduction is conditioned on metric `val_loss` which is not available. Available metrics are: loss,accuracy,lr\n"
          ]
        },
        {
          "output_type": "stream",
          "name": "stdout",
          "text": [
            "\b\b\b\b\b\b\b\b\b\b\b\b\b\b\b\b\b\b\b\b\b\b\b\b\b\b\b\b\b\b\b\b\b\b\b\b\b\b\b\b\b\b\b\b\b\b\b\b\b\b\b\b\b\b\b\b\b\b\b\b\b\b\b\b\b\b\b\b\b\b\b\b\b\b\b\b\b\b\b\b\b\b\b\b\b\b\b\b\r120/120 [==============================] - 1s 7ms/step - loss: 2.7579e-04 - accuracy: 1.0000 - lr: 3.0000e-05\n",
            "Epoch 149/200\n",
            "116/120 [============================>.] - ETA: 0s - loss: 6.4467e-04 - accuracy: 1.0000"
          ]
        },
        {
          "output_type": "stream",
          "name": "stderr",
          "text": [
            "WARNING:tensorflow:Early stopping conditioned on metric `val_loss` which is not available. Available metrics are: loss,accuracy\n",
            "WARNING:tensorflow:Learning rate reduction is conditioned on metric `val_loss` which is not available. Available metrics are: loss,accuracy,lr\n"
          ]
        },
        {
          "output_type": "stream",
          "name": "stdout",
          "text": [
            "\b\b\b\b\b\b\b\b\b\b\b\b\b\b\b\b\b\b\b\b\b\b\b\b\b\b\b\b\b\b\b\b\b\b\b\b\b\b\b\b\b\b\b\b\b\b\b\b\b\b\b\b\b\b\b\b\b\b\b\b\b\b\b\b\b\b\b\b\b\b\b\b\b\b\b\b\b\b\b\b\b\b\b\b\b\b\b\b\r120/120 [==============================] - 1s 7ms/step - loss: 6.2700e-04 - accuracy: 1.0000 - lr: 3.0000e-05\n",
            "Epoch 150/200\n",
            "114/120 [===========================>..] - ETA: 0s - loss: 5.7378e-04 - accuracy: 1.0000"
          ]
        },
        {
          "output_type": "stream",
          "name": "stderr",
          "text": [
            "WARNING:tensorflow:Early stopping conditioned on metric `val_loss` which is not available. Available metrics are: loss,accuracy\n",
            "WARNING:tensorflow:Learning rate reduction is conditioned on metric `val_loss` which is not available. Available metrics are: loss,accuracy,lr\n"
          ]
        },
        {
          "output_type": "stream",
          "name": "stdout",
          "text": [
            "\b\b\b\b\b\b\b\b\b\b\b\b\b\b\b\b\b\b\b\b\b\b\b\b\b\b\b\b\b\b\b\b\b\b\b\b\b\b\b\b\b\b\b\b\b\b\b\b\b\b\b\b\b\b\b\b\b\b\b\b\b\b\b\b\b\b\b\b\b\b\b\b\b\b\b\b\b\b\b\b\b\b\b\b\b\b\b\b\r120/120 [==============================] - 1s 7ms/step - loss: 7.2544e-04 - accuracy: 1.0000 - lr: 3.0000e-05\n",
            "Epoch 151/200\n",
            "116/120 [============================>.] - ETA: 0s - loss: 8.5959e-04 - accuracy: 1.0000"
          ]
        },
        {
          "output_type": "stream",
          "name": "stderr",
          "text": [
            "WARNING:tensorflow:Early stopping conditioned on metric `val_loss` which is not available. Available metrics are: loss,accuracy\n",
            "WARNING:tensorflow:Learning rate reduction is conditioned on metric `val_loss` which is not available. Available metrics are: loss,accuracy,lr\n"
          ]
        },
        {
          "output_type": "stream",
          "name": "stdout",
          "text": [
            "\b\b\b\b\b\b\b\b\b\b\b\b\b\b\b\b\b\b\b\b\b\b\b\b\b\b\b\b\b\b\b\b\b\b\b\b\b\b\b\b\b\b\b\b\b\b\b\b\b\b\b\b\b\b\b\b\b\b\b\b\b\b\b\b\b\b\b\b\b\b\b\b\b\b\b\b\b\b\b\b\b\b\b\b\b\b\b\b\r120/120 [==============================] - 1s 7ms/step - loss: 8.3570e-04 - accuracy: 1.0000 - lr: 3.0000e-05\n",
            "Epoch 152/200\n",
            "115/120 [===========================>..] - ETA: 0s - loss: 4.7343e-04 - accuracy: 1.0000"
          ]
        },
        {
          "output_type": "stream",
          "name": "stderr",
          "text": [
            "WARNING:tensorflow:Early stopping conditioned on metric `val_loss` which is not available. Available metrics are: loss,accuracy\n",
            "WARNING:tensorflow:Learning rate reduction is conditioned on metric `val_loss` which is not available. Available metrics are: loss,accuracy,lr\n"
          ]
        },
        {
          "output_type": "stream",
          "name": "stdout",
          "text": [
            "\b\b\b\b\b\b\b\b\b\b\b\b\b\b\b\b\b\b\b\b\b\b\b\b\b\b\b\b\b\b\b\b\b\b\b\b\b\b\b\b\b\b\b\b\b\b\b\b\b\b\b\b\b\b\b\b\b\b\b\b\b\b\b\b\b\b\b\b\b\b\b\b\b\b\b\b\b\b\b\b\b\b\b\b\b\b\b\b\r120/120 [==============================] - 1s 7ms/step - loss: 4.6383e-04 - accuracy: 1.0000 - lr: 3.0000e-05\n",
            "Epoch 153/200\n",
            "115/120 [===========================>..] - ETA: 0s - loss: 7.1843e-04 - accuracy: 1.0000"
          ]
        },
        {
          "output_type": "stream",
          "name": "stderr",
          "text": [
            "WARNING:tensorflow:Early stopping conditioned on metric `val_loss` which is not available. Available metrics are: loss,accuracy\n",
            "WARNING:tensorflow:Learning rate reduction is conditioned on metric `val_loss` which is not available. Available metrics are: loss,accuracy,lr\n"
          ]
        },
        {
          "output_type": "stream",
          "name": "stdout",
          "text": [
            "\b\b\b\b\b\b\b\b\b\b\b\b\b\b\b\b\b\b\b\b\b\b\b\b\b\b\b\b\b\b\b\b\b\b\b\b\b\b\b\b\b\b\b\b\b\b\b\b\b\b\b\b\b\b\b\b\b\b\b\b\b\b\b\b\b\b\b\b\b\b\b\b\b\b\b\b\b\b\b\b\b\b\b\b\b\b\b\b\r120/120 [==============================] - 1s 7ms/step - loss: 6.9406e-04 - accuracy: 1.0000 - lr: 3.0000e-05\n",
            "Epoch 154/200\n",
            "114/120 [===========================>..] - ETA: 0s - loss: 6.0689e-04 - accuracy: 1.0000"
          ]
        },
        {
          "output_type": "stream",
          "name": "stderr",
          "text": [
            "WARNING:tensorflow:Early stopping conditioned on metric `val_loss` which is not available. Available metrics are: loss,accuracy\n",
            "WARNING:tensorflow:Learning rate reduction is conditioned on metric `val_loss` which is not available. Available metrics are: loss,accuracy,lr\n"
          ]
        },
        {
          "output_type": "stream",
          "name": "stdout",
          "text": [
            "\b\b\b\b\b\b\b\b\b\b\b\b\b\b\b\b\b\b\b\b\b\b\b\b\b\b\b\b\b\b\b\b\b\b\b\b\b\b\b\b\b\b\b\b\b\b\b\b\b\b\b\b\b\b\b\b\b\b\b\b\b\b\b\b\b\b\b\b\b\b\b\b\b\b\b\b\b\b\b\b\b\b\b\b\b\b\b\b\r120/120 [==============================] - 1s 7ms/step - loss: 5.8003e-04 - accuracy: 1.0000 - lr: 3.0000e-05\n",
            "Epoch 155/200\n",
            "115/120 [===========================>..] - ETA: 0s - loss: 5.6116e-04 - accuracy: 1.0000"
          ]
        },
        {
          "output_type": "stream",
          "name": "stderr",
          "text": [
            "WARNING:tensorflow:Early stopping conditioned on metric `val_loss` which is not available. Available metrics are: loss,accuracy\n",
            "WARNING:tensorflow:Learning rate reduction is conditioned on metric `val_loss` which is not available. Available metrics are: loss,accuracy,lr\n"
          ]
        },
        {
          "output_type": "stream",
          "name": "stdout",
          "text": [
            "\b\b\b\b\b\b\b\b\b\b\b\b\b\b\b\b\b\b\b\b\b\b\b\b\b\b\b\b\b\b\b\b\b\b\b\b\b\b\b\b\b\b\b\b\b\b\b\b\b\b\b\b\b\b\b\b\b\b\b\b\b\b\b\b\b\b\b\b\b\b\b\b\b\b\b\b\b\b\b\b\b\b\b\b\b\b\b\b\r120/120 [==============================] - 1s 7ms/step - loss: 5.5143e-04 - accuracy: 1.0000 - lr: 3.0000e-05\n",
            "Epoch 156/200\n",
            "114/120 [===========================>..] - ETA: 0s - loss: 3.3018e-04 - accuracy: 1.0000"
          ]
        },
        {
          "output_type": "stream",
          "name": "stderr",
          "text": [
            "WARNING:tensorflow:Early stopping conditioned on metric `val_loss` which is not available. Available metrics are: loss,accuracy\n",
            "WARNING:tensorflow:Learning rate reduction is conditioned on metric `val_loss` which is not available. Available metrics are: loss,accuracy,lr\n"
          ]
        },
        {
          "output_type": "stream",
          "name": "stdout",
          "text": [
            "\b\b\b\b\b\b\b\b\b\b\b\b\b\b\b\b\b\b\b\b\b\b\b\b\b\b\b\b\b\b\b\b\b\b\b\b\b\b\b\b\b\b\b\b\b\b\b\b\b\b\b\b\b\b\b\b\b\b\b\b\b\b\b\b\b\b\b\b\b\b\b\b\b\b\b\b\b\b\b\b\b\b\b\b\b\b\b\b\r120/120 [==============================] - 1s 7ms/step - loss: 3.2026e-04 - accuracy: 1.0000 - lr: 3.0000e-05\n",
            "Epoch 157/200\n",
            "117/120 [============================>.] - ETA: 0s - loss: 3.0056e-04 - accuracy: 1.0000"
          ]
        },
        {
          "output_type": "stream",
          "name": "stderr",
          "text": [
            "WARNING:tensorflow:Early stopping conditioned on metric `val_loss` which is not available. Available metrics are: loss,accuracy\n",
            "WARNING:tensorflow:Learning rate reduction is conditioned on metric `val_loss` which is not available. Available metrics are: loss,accuracy,lr\n"
          ]
        },
        {
          "output_type": "stream",
          "name": "stdout",
          "text": [
            "\b\b\b\b\b\b\b\b\b\b\b\b\b\b\b\b\b\b\b\b\b\b\b\b\b\b\b\b\b\b\b\b\b\b\b\b\b\b\b\b\b\b\b\b\b\b\b\b\b\b\b\b\b\b\b\b\b\b\b\b\b\b\b\b\b\b\b\b\b\b\b\b\b\b\b\b\b\b\b\b\b\b\b\b\b\b\b\b\r120/120 [==============================] - 1s 7ms/step - loss: 2.9539e-04 - accuracy: 1.0000 - lr: 3.0000e-05\n",
            "Epoch 158/200\n",
            "120/120 [==============================] - ETA: 0s - loss: 4.9803e-04 - accuracy: 1.0000"
          ]
        },
        {
          "output_type": "stream",
          "name": "stderr",
          "text": [
            "WARNING:tensorflow:Early stopping conditioned on metric `val_loss` which is not available. Available metrics are: loss,accuracy\n",
            "WARNING:tensorflow:Learning rate reduction is conditioned on metric `val_loss` which is not available. Available metrics are: loss,accuracy,lr\n"
          ]
        },
        {
          "output_type": "stream",
          "name": "stdout",
          "text": [
            "\b\b\b\b\b\b\b\b\b\b\b\b\b\b\b\b\b\b\b\b\b\b\b\b\b\b\b\b\b\b\b\b\b\b\b\b\b\b\b\b\b\b\b\b\b\b\b\b\b\b\b\b\b\b\b\b\b\b\b\b\b\b\b\b\b\b\b\b\b\b\b\b\b\b\b\b\b\b\b\b\b\b\b\b\b\b\b\b\r120/120 [==============================] - 1s 7ms/step - loss: 4.9803e-04 - accuracy: 1.0000 - lr: 3.0000e-05\n",
            "Epoch 159/200\n",
            "115/120 [===========================>..] - ETA: 0s - loss: 2.8980e-04 - accuracy: 1.0000"
          ]
        },
        {
          "output_type": "stream",
          "name": "stderr",
          "text": [
            "WARNING:tensorflow:Early stopping conditioned on metric `val_loss` which is not available. Available metrics are: loss,accuracy\n",
            "WARNING:tensorflow:Learning rate reduction is conditioned on metric `val_loss` which is not available. Available metrics are: loss,accuracy,lr\n"
          ]
        },
        {
          "output_type": "stream",
          "name": "stdout",
          "text": [
            "\b\b\b\b\b\b\b\b\b\b\b\b\b\b\b\b\b\b\b\b\b\b\b\b\b\b\b\b\b\b\b\b\b\b\b\b\b\b\b\b\b\b\b\b\b\b\b\b\b\b\b\b\b\b\b\b\b\b\b\b\b\b\b\b\b\b\b\b\b\b\b\b\b\b\b\b\b\b\b\b\b\b\b\b\b\b\b\b\r120/120 [==============================] - 1s 7ms/step - loss: 2.7955e-04 - accuracy: 1.0000 - lr: 3.0000e-05\n",
            "Epoch 160/200\n",
            "115/120 [===========================>..] - ETA: 0s - loss: 3.6736e-04 - accuracy: 1.0000"
          ]
        },
        {
          "output_type": "stream",
          "name": "stderr",
          "text": [
            "WARNING:tensorflow:Early stopping conditioned on metric `val_loss` which is not available. Available metrics are: loss,accuracy\n",
            "WARNING:tensorflow:Learning rate reduction is conditioned on metric `val_loss` which is not available. Available metrics are: loss,accuracy,lr\n"
          ]
        },
        {
          "output_type": "stream",
          "name": "stdout",
          "text": [
            "\b\b\b\b\b\b\b\b\b\b\b\b\b\b\b\b\b\b\b\b\b\b\b\b\b\b\b\b\b\b\b\b\b\b\b\b\b\b\b\b\b\b\b\b\b\b\b\b\b\b\b\b\b\b\b\b\b\b\b\b\b\b\b\b\b\b\b\b\b\b\b\b\b\b\b\b\b\b\b\b\b\b\b\b\b\b\b\b\r120/120 [==============================] - 1s 7ms/step - loss: 3.5416e-04 - accuracy: 1.0000 - lr: 3.0000e-05\n",
            "Epoch 161/200\n",
            "115/120 [===========================>..] - ETA: 0s - loss: 7.1956e-04 - accuracy: 0.9995"
          ]
        },
        {
          "output_type": "stream",
          "name": "stderr",
          "text": [
            "WARNING:tensorflow:Early stopping conditioned on metric `val_loss` which is not available. Available metrics are: loss,accuracy\n",
            "WARNING:tensorflow:Learning rate reduction is conditioned on metric `val_loss` which is not available. Available metrics are: loss,accuracy,lr\n"
          ]
        },
        {
          "output_type": "stream",
          "name": "stdout",
          "text": [
            "\b\b\b\b\b\b\b\b\b\b\b\b\b\b\b\b\b\b\b\b\b\b\b\b\b\b\b\b\b\b\b\b\b\b\b\b\b\b\b\b\b\b\b\b\b\b\b\b\b\b\b\b\b\b\b\b\b\b\b\b\b\b\b\b\b\b\b\b\b\b\b\b\b\b\b\b\b\b\b\b\b\b\b\b\b\b\b\b\r120/120 [==============================] - 1s 7ms/step - loss: 6.9982e-04 - accuracy: 0.9995 - lr: 3.0000e-05\n",
            "Epoch 162/200\n",
            "117/120 [============================>.] - ETA: 0s - loss: 5.3514e-04 - accuracy: 1.0000"
          ]
        },
        {
          "output_type": "stream",
          "name": "stderr",
          "text": [
            "WARNING:tensorflow:Early stopping conditioned on metric `val_loss` which is not available. Available metrics are: loss,accuracy\n",
            "WARNING:tensorflow:Learning rate reduction is conditioned on metric `val_loss` which is not available. Available metrics are: loss,accuracy,lr\n"
          ]
        },
        {
          "output_type": "stream",
          "name": "stdout",
          "text": [
            "\b\b\b\b\b\b\b\b\b\b\b\b\b\b\b\b\b\b\b\b\b\b\b\b\b\b\b\b\b\b\b\b\b\b\b\b\b\b\b\b\b\b\b\b\b\b\b\b\b\b\b\b\b\b\b\b\b\b\b\b\b\b\b\b\b\b\b\b\b\b\b\b\b\b\b\b\b\b\b\b\b\b\b\b\b\b\b\b\r120/120 [==============================] - 1s 7ms/step - loss: 5.2485e-04 - accuracy: 1.0000 - lr: 3.0000e-05\n",
            "Epoch 163/200\n",
            "116/120 [============================>.] - ETA: 0s - loss: 3.6441e-04 - accuracy: 1.0000"
          ]
        },
        {
          "output_type": "stream",
          "name": "stderr",
          "text": [
            "WARNING:tensorflow:Early stopping conditioned on metric `val_loss` which is not available. Available metrics are: loss,accuracy\n",
            "WARNING:tensorflow:Learning rate reduction is conditioned on metric `val_loss` which is not available. Available metrics are: loss,accuracy,lr\n"
          ]
        },
        {
          "output_type": "stream",
          "name": "stdout",
          "text": [
            "\b\b\b\b\b\b\b\b\b\b\b\b\b\b\b\b\b\b\b\b\b\b\b\b\b\b\b\b\b\b\b\b\b\b\b\b\b\b\b\b\b\b\b\b\b\b\b\b\b\b\b\b\b\b\b\b\b\b\b\b\b\b\b\b\b\b\b\b\b\b\b\b\b\b\b\b\b\b\b\b\b\b\b\b\b\b\b\b\r120/120 [==============================] - 1s 7ms/step - loss: 3.6721e-04 - accuracy: 1.0000 - lr: 3.0000e-05\n",
            "Epoch 164/200\n",
            "117/120 [============================>.] - ETA: 0s - loss: 9.1366e-04 - accuracy: 1.0000"
          ]
        },
        {
          "output_type": "stream",
          "name": "stderr",
          "text": [
            "WARNING:tensorflow:Early stopping conditioned on metric `val_loss` which is not available. Available metrics are: loss,accuracy\n",
            "WARNING:tensorflow:Learning rate reduction is conditioned on metric `val_loss` which is not available. Available metrics are: loss,accuracy,lr\n"
          ]
        },
        {
          "output_type": "stream",
          "name": "stdout",
          "text": [
            "\b\b\b\b\b\b\b\b\b\b\b\b\b\b\b\b\b\b\b\b\b\b\b\b\b\b\b\b\b\b\b\b\b\b\b\b\b\b\b\b\b\b\b\b\b\b\b\b\b\b\b\b\b\b\b\b\b\b\b\b\b\b\b\b\b\b\b\b\b\b\b\b\b\b\b\b\b\b\b\b\b\b\b\b\b\b\b\b\r120/120 [==============================] - 1s 7ms/step - loss: 0.0011 - accuracy: 1.0000 - lr: 3.0000e-05\n",
            "Epoch 165/200\n",
            "113/120 [===========================>..] - ETA: 0s - loss: 7.2274e-04 - accuracy: 1.0000"
          ]
        },
        {
          "output_type": "stream",
          "name": "stderr",
          "text": [
            "WARNING:tensorflow:Early stopping conditioned on metric `val_loss` which is not available. Available metrics are: loss,accuracy\n",
            "WARNING:tensorflow:Learning rate reduction is conditioned on metric `val_loss` which is not available. Available metrics are: loss,accuracy,lr\n"
          ]
        },
        {
          "output_type": "stream",
          "name": "stdout",
          "text": [
            "\b\b\b\b\b\b\b\b\b\b\b\b\b\b\b\b\b\b\b\b\b\b\b\b\b\b\b\b\b\b\b\b\b\b\b\b\b\b\b\b\b\b\b\b\b\b\b\b\b\b\b\b\b\b\b\b\b\b\b\b\b\b\b\b\b\b\b\b\b\b\b\b\b\b\b\b\b\b\b\b\b\b\b\b\b\b\b\b\r120/120 [==============================] - 1s 7ms/step - loss: 7.0685e-04 - accuracy: 1.0000 - lr: 3.0000e-05\n",
            "Epoch 166/200\n",
            "120/120 [==============================] - ETA: 0s - loss: 4.1873e-04 - accuracy: 1.0000"
          ]
        },
        {
          "output_type": "stream",
          "name": "stderr",
          "text": [
            "WARNING:tensorflow:Early stopping conditioned on metric `val_loss` which is not available. Available metrics are: loss,accuracy\n",
            "WARNING:tensorflow:Learning rate reduction is conditioned on metric `val_loss` which is not available. Available metrics are: loss,accuracy,lr\n"
          ]
        },
        {
          "output_type": "stream",
          "name": "stdout",
          "text": [
            "\b\b\b\b\b\b\b\b\b\b\b\b\b\b\b\b\b\b\b\b\b\b\b\b\b\b\b\b\b\b\b\b\b\b\b\b\b\b\b\b\b\b\b\b\b\b\b\b\b\b\b\b\b\b\b\b\b\b\b\b\b\b\b\b\b\b\b\b\b\b\b\b\b\b\b\b\b\b\b\b\b\b\b\b\b\b\b\b\r120/120 [==============================] - 1s 7ms/step - loss: 4.1873e-04 - accuracy: 1.0000 - lr: 3.0000e-05\n",
            "Epoch 167/200\n",
            "116/120 [============================>.] - ETA: 0s - loss: 1.0630e-04 - accuracy: 1.0000"
          ]
        },
        {
          "output_type": "stream",
          "name": "stderr",
          "text": [
            "WARNING:tensorflow:Early stopping conditioned on metric `val_loss` which is not available. Available metrics are: loss,accuracy\n",
            "WARNING:tensorflow:Learning rate reduction is conditioned on metric `val_loss` which is not available. Available metrics are: loss,accuracy,lr\n"
          ]
        },
        {
          "output_type": "stream",
          "name": "stdout",
          "text": [
            "\b\b\b\b\b\b\b\b\b\b\b\b\b\b\b\b\b\b\b\b\b\b\b\b\b\b\b\b\b\b\b\b\b\b\b\b\b\b\b\b\b\b\b\b\b\b\b\b\b\b\b\b\b\b\b\b\b\b\b\b\b\b\b\b\b\b\b\b\b\b\b\b\b\b\b\b\b\b\b\b\b\b\b\b\b\b\b\b\r120/120 [==============================] - 1s 7ms/step - loss: 1.3920e-04 - accuracy: 1.0000 - lr: 3.0000e-05\n",
            "Epoch 168/200\n",
            "115/120 [===========================>..] - ETA: 0s - loss: 4.8136e-04 - accuracy: 1.0000"
          ]
        },
        {
          "output_type": "stream",
          "name": "stderr",
          "text": [
            "WARNING:tensorflow:Early stopping conditioned on metric `val_loss` which is not available. Available metrics are: loss,accuracy\n",
            "WARNING:tensorflow:Learning rate reduction is conditioned on metric `val_loss` which is not available. Available metrics are: loss,accuracy,lr\n"
          ]
        },
        {
          "output_type": "stream",
          "name": "stdout",
          "text": [
            "\b\b\b\b\b\b\b\b\b\b\b\b\b\b\b\b\b\b\b\b\b\b\b\b\b\b\b\b\b\b\b\b\b\b\b\b\b\b\b\b\b\b\b\b\b\b\b\b\b\b\b\b\b\b\b\b\b\b\b\b\b\b\b\b\b\b\b\b\b\b\b\b\b\b\b\b\b\b\b\b\b\b\b\b\b\b\b\b\r120/120 [==============================] - 1s 7ms/step - loss: 4.6389e-04 - accuracy: 1.0000 - lr: 3.0000e-05\n",
            "Epoch 169/200\n",
            "113/120 [===========================>..] - ETA: 0s - loss: 3.9052e-04 - accuracy: 1.0000"
          ]
        },
        {
          "output_type": "stream",
          "name": "stderr",
          "text": [
            "WARNING:tensorflow:Early stopping conditioned on metric `val_loss` which is not available. Available metrics are: loss,accuracy\n",
            "WARNING:tensorflow:Learning rate reduction is conditioned on metric `val_loss` which is not available. Available metrics are: loss,accuracy,lr\n"
          ]
        },
        {
          "output_type": "stream",
          "name": "stdout",
          "text": [
            "\b\b\b\b\b\b\b\b\b\b\b\b\b\b\b\b\b\b\b\b\b\b\b\b\b\b\b\b\b\b\b\b\b\b\b\b\b\b\b\b\b\b\b\b\b\b\b\b\b\b\b\b\b\b\b\b\b\b\b\b\b\b\b\b\b\b\b\b\b\b\b\b\b\b\b\b\b\b\b\b\b\b\b\b\b\b\b\b\r120/120 [==============================] - 1s 7ms/step - loss: 3.8172e-04 - accuracy: 1.0000 - lr: 3.0000e-05\n",
            "Epoch 170/200\n",
            "116/120 [============================>.] - ETA: 0s - loss: 3.6614e-04 - accuracy: 1.0000"
          ]
        },
        {
          "output_type": "stream",
          "name": "stderr",
          "text": [
            "WARNING:tensorflow:Early stopping conditioned on metric `val_loss` which is not available. Available metrics are: loss,accuracy\n",
            "WARNING:tensorflow:Learning rate reduction is conditioned on metric `val_loss` which is not available. Available metrics are: loss,accuracy,lr\n"
          ]
        },
        {
          "output_type": "stream",
          "name": "stdout",
          "text": [
            "\b\b\b\b\b\b\b\b\b\b\b\b\b\b\b\b\b\b\b\b\b\b\b\b\b\b\b\b\b\b\b\b\b\b\b\b\b\b\b\b\b\b\b\b\b\b\b\b\b\b\b\b\b\b\b\b\b\b\b\b\b\b\b\b\b\b\b\b\b\b\b\b\b\b\b\b\b\b\b\b\b\b\b\b\b\b\b\b\r120/120 [==============================] - 1s 7ms/step - loss: 3.5626e-04 - accuracy: 1.0000 - lr: 3.0000e-05\n",
            "Epoch 171/200\n",
            "113/120 [===========================>..] - ETA: 0s - loss: 3.4256e-04 - accuracy: 1.0000"
          ]
        },
        {
          "output_type": "stream",
          "name": "stderr",
          "text": [
            "WARNING:tensorflow:Early stopping conditioned on metric `val_loss` which is not available. Available metrics are: loss,accuracy\n",
            "WARNING:tensorflow:Learning rate reduction is conditioned on metric `val_loss` which is not available. Available metrics are: loss,accuracy,lr\n"
          ]
        },
        {
          "output_type": "stream",
          "name": "stdout",
          "text": [
            "\b\b\b\b\b\b\b\b\b\b\b\b\b\b\b\b\b\b\b\b\b\b\b\b\b\b\b\b\b\b\b\b\b\b\b\b\b\b\b\b\b\b\b\b\b\b\b\b\b\b\b\b\b\b\b\b\b\b\b\b\b\b\b\b\b\b\b\b\b\b\b\b\b\b\b\b\b\b\b\b\b\b\b\b\b\b\b\b\r120/120 [==============================] - 1s 7ms/step - loss: 3.2458e-04 - accuracy: 1.0000 - lr: 3.0000e-05\n",
            "Epoch 172/200\n",
            "120/120 [==============================] - ETA: 0s - loss: 1.1952e-04 - accuracy: 1.0000"
          ]
        },
        {
          "output_type": "stream",
          "name": "stderr",
          "text": [
            "WARNING:tensorflow:Early stopping conditioned on metric `val_loss` which is not available. Available metrics are: loss,accuracy\n",
            "WARNING:tensorflow:Learning rate reduction is conditioned on metric `val_loss` which is not available. Available metrics are: loss,accuracy,lr\n"
          ]
        },
        {
          "output_type": "stream",
          "name": "stdout",
          "text": [
            "\b\b\b\b\b\b\b\b\b\b\b\b\b\b\b\b\b\b\b\b\b\b\b\b\b\b\b\b\b\b\b\b\b\b\b\b\b\b\b\b\b\b\b\b\b\b\b\b\b\b\b\b\b\b\b\b\b\b\b\b\b\b\b\b\b\b\b\b\b\b\b\b\b\b\b\b\b\b\b\b\b\b\b\b\b\b\b\b\r120/120 [==============================] - 1s 7ms/step - loss: 1.1952e-04 - accuracy: 1.0000 - lr: 3.0000e-05\n",
            "Epoch 173/200\n",
            "116/120 [============================>.] - ETA: 0s - loss: 3.9084e-04 - accuracy: 1.0000"
          ]
        },
        {
          "output_type": "stream",
          "name": "stderr",
          "text": [
            "WARNING:tensorflow:Early stopping conditioned on metric `val_loss` which is not available. Available metrics are: loss,accuracy\n",
            "WARNING:tensorflow:Learning rate reduction is conditioned on metric `val_loss` which is not available. Available metrics are: loss,accuracy,lr\n"
          ]
        },
        {
          "output_type": "stream",
          "name": "stdout",
          "text": [
            "\b\b\b\b\b\b\b\b\b\b\b\b\b\b\b\b\b\b\b\b\b\b\b\b\b\b\b\b\b\b\b\b\b\b\b\b\b\b\b\b\b\b\b\b\b\b\b\b\b\b\b\b\b\b\b\b\b\b\b\b\b\b\b\b\b\b\b\b\b\b\b\b\b\b\b\b\b\b\b\b\b\b\b\b\b\b\b\b\r120/120 [==============================] - 1s 7ms/step - loss: 3.8118e-04 - accuracy: 1.0000 - lr: 3.0000e-05\n",
            "Epoch 174/200\n",
            "114/120 [===========================>..] - ETA: 0s - loss: 4.1469e-04 - accuracy: 1.0000"
          ]
        },
        {
          "output_type": "stream",
          "name": "stderr",
          "text": [
            "WARNING:tensorflow:Early stopping conditioned on metric `val_loss` which is not available. Available metrics are: loss,accuracy\n",
            "WARNING:tensorflow:Learning rate reduction is conditioned on metric `val_loss` which is not available. Available metrics are: loss,accuracy,lr\n"
          ]
        },
        {
          "output_type": "stream",
          "name": "stdout",
          "text": [
            "\b\b\b\b\b\b\b\b\b\b\b\b\b\b\b\b\b\b\b\b\b\b\b\b\b\b\b\b\b\b\b\b\b\b\b\b\b\b\b\b\b\b\b\b\b\b\b\b\b\b\b\b\b\b\b\b\b\b\b\b\b\b\b\b\b\b\b\b\b\b\b\b\b\b\b\b\b\b\b\b\b\b\b\b\b\b\b\b\r120/120 [==============================] - 1s 7ms/step - loss: 3.9680e-04 - accuracy: 1.0000 - lr: 3.0000e-05\n",
            "Epoch 175/200\n",
            "116/120 [============================>.] - ETA: 0s - loss: 3.9344e-04 - accuracy: 1.0000"
          ]
        },
        {
          "output_type": "stream",
          "name": "stderr",
          "text": [
            "WARNING:tensorflow:Early stopping conditioned on metric `val_loss` which is not available. Available metrics are: loss,accuracy\n",
            "WARNING:tensorflow:Learning rate reduction is conditioned on metric `val_loss` which is not available. Available metrics are: loss,accuracy,lr\n"
          ]
        },
        {
          "output_type": "stream",
          "name": "stdout",
          "text": [
            "\b\b\b\b\b\b\b\b\b\b\b\b\b\b\b\b\b\b\b\b\b\b\b\b\b\b\b\b\b\b\b\b\b\b\b\b\b\b\b\b\b\b\b\b\b\b\b\b\b\b\b\b\b\b\b\b\b\b\b\b\b\b\b\b\b\b\b\b\b\b\b\b\b\b\b\b\b\b\b\b\b\b\b\b\b\b\b\b\r120/120 [==============================] - 1s 7ms/step - loss: 4.3455e-04 - accuracy: 1.0000 - lr: 3.0000e-05\n",
            "Epoch 176/200\n",
            "114/120 [===========================>..] - ETA: 0s - loss: 3.9145e-04 - accuracy: 1.0000"
          ]
        },
        {
          "output_type": "stream",
          "name": "stderr",
          "text": [
            "WARNING:tensorflow:Early stopping conditioned on metric `val_loss` which is not available. Available metrics are: loss,accuracy\n",
            "WARNING:tensorflow:Learning rate reduction is conditioned on metric `val_loss` which is not available. Available metrics are: loss,accuracy,lr\n"
          ]
        },
        {
          "output_type": "stream",
          "name": "stdout",
          "text": [
            "\b\b\b\b\b\b\b\b\b\b\b\b\b\b\b\b\b\b\b\b\b\b\b\b\b\b\b\b\b\b\b\b\b\b\b\b\b\b\b\b\b\b\b\b\b\b\b\b\b\b\b\b\b\b\b\b\b\b\b\b\b\b\b\b\b\b\b\b\b\b\b\b\b\b\b\b\b\b\b\b\b\b\b\b\b\b\b\b\r120/120 [==============================] - 1s 7ms/step - loss: 3.7441e-04 - accuracy: 1.0000 - lr: 3.0000e-05\n",
            "Epoch 177/200\n",
            "115/120 [===========================>..] - ETA: 0s - loss: 6.6969e-04 - accuracy: 1.0000"
          ]
        },
        {
          "output_type": "stream",
          "name": "stderr",
          "text": [
            "WARNING:tensorflow:Early stopping conditioned on metric `val_loss` which is not available. Available metrics are: loss,accuracy\n",
            "WARNING:tensorflow:Learning rate reduction is conditioned on metric `val_loss` which is not available. Available metrics are: loss,accuracy,lr\n"
          ]
        },
        {
          "output_type": "stream",
          "name": "stdout",
          "text": [
            "\b\b\b\b\b\b\b\b\b\b\b\b\b\b\b\b\b\b\b\b\b\b\b\b\b\b\b\b\b\b\b\b\b\b\b\b\b\b\b\b\b\b\b\b\b\b\b\b\b\b\b\b\b\b\b\b\b\b\b\b\b\b\b\b\b\b\b\b\b\b\b\b\b\b\b\b\b\b\b\b\b\b\b\b\b\b\b\b\r120/120 [==============================] - 1s 7ms/step - loss: 6.4680e-04 - accuracy: 1.0000 - lr: 3.0000e-05\n",
            "Epoch 178/200\n",
            "117/120 [============================>.] - ETA: 0s - loss: 7.0284e-04 - accuracy: 1.0000"
          ]
        },
        {
          "output_type": "stream",
          "name": "stderr",
          "text": [
            "WARNING:tensorflow:Early stopping conditioned on metric `val_loss` which is not available. Available metrics are: loss,accuracy\n",
            "WARNING:tensorflow:Learning rate reduction is conditioned on metric `val_loss` which is not available. Available metrics are: loss,accuracy,lr\n"
          ]
        },
        {
          "output_type": "stream",
          "name": "stdout",
          "text": [
            "\b\b\b\b\b\b\b\b\b\b\b\b\b\b\b\b\b\b\b\b\b\b\b\b\b\b\b\b\b\b\b\b\b\b\b\b\b\b\b\b\b\b\b\b\b\b\b\b\b\b\b\b\b\b\b\b\b\b\b\b\b\b\b\b\b\b\b\b\b\b\b\b\b\b\b\b\b\b\b\b\b\b\b\b\b\b\b\b\r120/120 [==============================] - 1s 7ms/step - loss: 6.8906e-04 - accuracy: 1.0000 - lr: 3.0000e-05\n",
            "Epoch 179/200\n",
            "113/120 [===========================>..] - ETA: 0s - loss: 2.3218e-04 - accuracy: 1.0000"
          ]
        },
        {
          "output_type": "stream",
          "name": "stderr",
          "text": [
            "WARNING:tensorflow:Early stopping conditioned on metric `val_loss` which is not available. Available metrics are: loss,accuracy\n",
            "WARNING:tensorflow:Learning rate reduction is conditioned on metric `val_loss` which is not available. Available metrics are: loss,accuracy,lr\n"
          ]
        },
        {
          "output_type": "stream",
          "name": "stdout",
          "text": [
            "\b\b\b\b\b\b\b\b\b\b\b\b\b\b\b\b\b\b\b\b\b\b\b\b\b\b\b\b\b\b\b\b\b\b\b\b\b\b\b\b\b\b\b\b\b\b\b\b\b\b\b\b\b\b\b\b\b\b\b\b\b\b\b\b\b\b\b\b\b\b\b\b\b\b\b\b\b\b\b\b\b\b\b\b\b\b\b\b\r120/120 [==============================] - 1s 7ms/step - loss: 2.2369e-04 - accuracy: 1.0000 - lr: 3.0000e-05\n",
            "Epoch 180/200\n",
            "116/120 [============================>.] - ETA: 0s - loss: 5.1481e-04 - accuracy: 1.0000"
          ]
        },
        {
          "output_type": "stream",
          "name": "stderr",
          "text": [
            "WARNING:tensorflow:Early stopping conditioned on metric `val_loss` which is not available. Available metrics are: loss,accuracy\n",
            "WARNING:tensorflow:Learning rate reduction is conditioned on metric `val_loss` which is not available. Available metrics are: loss,accuracy,lr\n"
          ]
        },
        {
          "output_type": "stream",
          "name": "stdout",
          "text": [
            "\b\b\b\b\b\b\b\b\b\b\b\b\b\b\b\b\b\b\b\b\b\b\b\b\b\b\b\b\b\b\b\b\b\b\b\b\b\b\b\b\b\b\b\b\b\b\b\b\b\b\b\b\b\b\b\b\b\b\b\b\b\b\b\b\b\b\b\b\b\b\b\b\b\b\b\b\b\b\b\b\b\b\b\b\b\b\b\b\r120/120 [==============================] - 1s 7ms/step - loss: 5.0091e-04 - accuracy: 1.0000 - lr: 3.0000e-05\n",
            "Epoch 181/200\n",
            "113/120 [===========================>..] - ETA: 0s - loss: 4.3346e-04 - accuracy: 1.0000"
          ]
        },
        {
          "output_type": "stream",
          "name": "stderr",
          "text": [
            "WARNING:tensorflow:Early stopping conditioned on metric `val_loss` which is not available. Available metrics are: loss,accuracy\n",
            "WARNING:tensorflow:Learning rate reduction is conditioned on metric `val_loss` which is not available. Available metrics are: loss,accuracy,lr\n"
          ]
        },
        {
          "output_type": "stream",
          "name": "stdout",
          "text": [
            "\b\b\b\b\b\b\b\b\b\b\b\b\b\b\b\b\b\b\b\b\b\b\b\b\b\b\b\b\b\b\b\b\b\b\b\b\b\b\b\b\b\b\b\b\b\b\b\b\b\b\b\b\b\b\b\b\b\b\b\b\b\b\b\b\b\b\b\b\b\b\b\b\b\b\b\b\b\b\b\b\b\b\b\b\b\b\b\b\r120/120 [==============================] - 1s 7ms/step - loss: 4.1075e-04 - accuracy: 1.0000 - lr: 3.0000e-05\n",
            "Epoch 182/200\n",
            "114/120 [===========================>..] - ETA: 0s - loss: 6.3167e-04 - accuracy: 1.0000"
          ]
        },
        {
          "output_type": "stream",
          "name": "stderr",
          "text": [
            "WARNING:tensorflow:Early stopping conditioned on metric `val_loss` which is not available. Available metrics are: loss,accuracy\n",
            "WARNING:tensorflow:Learning rate reduction is conditioned on metric `val_loss` which is not available. Available metrics are: loss,accuracy,lr\n"
          ]
        },
        {
          "output_type": "stream",
          "name": "stdout",
          "text": [
            "\b\b\b\b\b\b\b\b\b\b\b\b\b\b\b\b\b\b\b\b\b\b\b\b\b\b\b\b\b\b\b\b\b\b\b\b\b\b\b\b\b\b\b\b\b\b\b\b\b\b\b\b\b\b\b\b\b\b\b\b\b\b\b\b\b\b\b\b\b\b\b\b\b\b\b\b\b\b\b\b\b\b\b\b\b\b\b\b\r120/120 [==============================] - 1s 7ms/step - loss: 6.2557e-04 - accuracy: 1.0000 - lr: 3.0000e-05\n",
            "Epoch 183/200\n",
            "120/120 [==============================] - ETA: 0s - loss: 6.9788e-04 - accuracy: 1.0000"
          ]
        },
        {
          "output_type": "stream",
          "name": "stderr",
          "text": [
            "WARNING:tensorflow:Early stopping conditioned on metric `val_loss` which is not available. Available metrics are: loss,accuracy\n",
            "WARNING:tensorflow:Learning rate reduction is conditioned on metric `val_loss` which is not available. Available metrics are: loss,accuracy,lr\n"
          ]
        },
        {
          "output_type": "stream",
          "name": "stdout",
          "text": [
            "\b\b\b\b\b\b\b\b\b\b\b\b\b\b\b\b\b\b\b\b\b\b\b\b\b\b\b\b\b\b\b\b\b\b\b\b\b\b\b\b\b\b\b\b\b\b\b\b\b\b\b\b\b\b\b\b\b\b\b\b\b\b\b\b\b\b\b\b\b\b\b\b\b\b\b\b\b\b\b\b\b\b\b\b\b\b\b\b\r120/120 [==============================] - 1s 7ms/step - loss: 6.9788e-04 - accuracy: 1.0000 - lr: 3.0000e-05\n",
            "Epoch 184/200\n",
            "116/120 [============================>.] - ETA: 0s - loss: 2.0794e-04 - accuracy: 1.0000"
          ]
        },
        {
          "output_type": "stream",
          "name": "stderr",
          "text": [
            "WARNING:tensorflow:Early stopping conditioned on metric `val_loss` which is not available. Available metrics are: loss,accuracy\n",
            "WARNING:tensorflow:Learning rate reduction is conditioned on metric `val_loss` which is not available. Available metrics are: loss,accuracy,lr\n"
          ]
        },
        {
          "output_type": "stream",
          "name": "stdout",
          "text": [
            "\b\b\b\b\b\b\b\b\b\b\b\b\b\b\b\b\b\b\b\b\b\b\b\b\b\b\b\b\b\b\b\b\b\b\b\b\b\b\b\b\b\b\b\b\b\b\b\b\b\b\b\b\b\b\b\b\b\b\b\b\b\b\b\b\b\b\b\b\b\b\b\b\b\b\b\b\b\b\b\b\b\b\b\b\b\b\b\b\r120/120 [==============================] - 1s 7ms/step - loss: 2.0212e-04 - accuracy: 1.0000 - lr: 3.0000e-05\n",
            "Epoch 185/200\n",
            "115/120 [===========================>..] - ETA: 0s - loss: 5.5412e-04 - accuracy: 1.0000"
          ]
        },
        {
          "output_type": "stream",
          "name": "stderr",
          "text": [
            "WARNING:tensorflow:Early stopping conditioned on metric `val_loss` which is not available. Available metrics are: loss,accuracy\n",
            "WARNING:tensorflow:Learning rate reduction is conditioned on metric `val_loss` which is not available. Available metrics are: loss,accuracy,lr\n"
          ]
        },
        {
          "output_type": "stream",
          "name": "stdout",
          "text": [
            "\b\b\b\b\b\b\b\b\b\b\b\b\b\b\b\b\b\b\b\b\b\b\b\b\b\b\b\b\b\b\b\b\b\b\b\b\b\b\b\b\b\b\b\b\b\b\b\b\b\b\b\b\b\b\b\b\b\b\b\b\b\b\b\b\b\b\b\b\b\b\b\b\b\b\b\b\b\b\b\b\b\b\b\b\b\b\b\b\r120/120 [==============================] - 1s 7ms/step - loss: 6.0414e-04 - accuracy: 1.0000 - lr: 3.0000e-05\n",
            "Epoch 186/200\n",
            "117/120 [============================>.] - ETA: 0s - loss: 3.8427e-04 - accuracy: 1.0000"
          ]
        },
        {
          "output_type": "stream",
          "name": "stderr",
          "text": [
            "WARNING:tensorflow:Early stopping conditioned on metric `val_loss` which is not available. Available metrics are: loss,accuracy\n",
            "WARNING:tensorflow:Learning rate reduction is conditioned on metric `val_loss` which is not available. Available metrics are: loss,accuracy,lr\n"
          ]
        },
        {
          "output_type": "stream",
          "name": "stdout",
          "text": [
            "\b\b\b\b\b\b\b\b\b\b\b\b\b\b\b\b\b\b\b\b\b\b\b\b\b\b\b\b\b\b\b\b\b\b\b\b\b\b\b\b\b\b\b\b\b\b\b\b\b\b\b\b\b\b\b\b\b\b\b\b\b\b\b\b\b\b\b\b\b\b\b\b\b\b\b\b\b\b\b\b\b\b\b\b\b\b\b\b\r120/120 [==============================] - 1s 7ms/step - loss: 3.7809e-04 - accuracy: 1.0000 - lr: 3.0000e-05\n",
            "Epoch 187/200\n",
            "115/120 [===========================>..] - ETA: 0s - loss: 5.9949e-04 - accuracy: 1.0000"
          ]
        },
        {
          "output_type": "stream",
          "name": "stderr",
          "text": [
            "WARNING:tensorflow:Early stopping conditioned on metric `val_loss` which is not available. Available metrics are: loss,accuracy\n",
            "WARNING:tensorflow:Learning rate reduction is conditioned on metric `val_loss` which is not available. Available metrics are: loss,accuracy,lr\n"
          ]
        },
        {
          "output_type": "stream",
          "name": "stdout",
          "text": [
            "\b\b\b\b\b\b\b\b\b\b\b\b\b\b\b\b\b\b\b\b\b\b\b\b\b\b\b\b\b\b\b\b\b\b\b\b\b\b\b\b\b\b\b\b\b\b\b\b\b\b\b\b\b\b\b\b\b\b\b\b\b\b\b\b\b\b\b\b\b\b\b\b\b\b\b\b\b\b\b\b\b\b\b\b\b\b\b\b\r120/120 [==============================] - 1s 7ms/step - loss: 5.7827e-04 - accuracy: 1.0000 - lr: 3.0000e-05\n",
            "Epoch 188/200\n",
            "120/120 [==============================] - ETA: 0s - loss: 1.5277e-04 - accuracy: 1.0000"
          ]
        },
        {
          "output_type": "stream",
          "name": "stderr",
          "text": [
            "WARNING:tensorflow:Early stopping conditioned on metric `val_loss` which is not available. Available metrics are: loss,accuracy\n",
            "WARNING:tensorflow:Learning rate reduction is conditioned on metric `val_loss` which is not available. Available metrics are: loss,accuracy,lr\n"
          ]
        },
        {
          "output_type": "stream",
          "name": "stdout",
          "text": [
            "\b\b\b\b\b\b\b\b\b\b\b\b\b\b\b\b\b\b\b\b\b\b\b\b\b\b\b\b\b\b\b\b\b\b\b\b\b\b\b\b\b\b\b\b\b\b\b\b\b\b\b\b\b\b\b\b\b\b\b\b\b\b\b\b\b\b\b\b\b\b\b\b\b\b\b\b\b\b\b\b\b\b\b\b\b\b\b\b\r120/120 [==============================] - 1s 7ms/step - loss: 1.5277e-04 - accuracy: 1.0000 - lr: 3.0000e-05\n",
            "Epoch 189/200\n",
            "116/120 [============================>.] - ETA: 0s - loss: 1.8959e-04 - accuracy: 1.0000"
          ]
        },
        {
          "output_type": "stream",
          "name": "stderr",
          "text": [
            "WARNING:tensorflow:Early stopping conditioned on metric `val_loss` which is not available. Available metrics are: loss,accuracy\n",
            "WARNING:tensorflow:Learning rate reduction is conditioned on metric `val_loss` which is not available. Available metrics are: loss,accuracy,lr\n"
          ]
        },
        {
          "output_type": "stream",
          "name": "stdout",
          "text": [
            "\b\b\b\b\b\b\b\b\b\b\b\b\b\b\b\b\b\b\b\b\b\b\b\b\b\b\b\b\b\b\b\b\b\b\b\b\b\b\b\b\b\b\b\b\b\b\b\b\b\b\b\b\b\b\b\b\b\b\b\b\b\b\b\b\b\b\b\b\b\b\b\b\b\b\b\b\b\b\b\b\b\b\b\b\b\b\b\b\r120/120 [==============================] - 1s 7ms/step - loss: 1.8455e-04 - accuracy: 1.0000 - lr: 3.0000e-05\n",
            "Epoch 190/200\n",
            "113/120 [===========================>..] - ETA: 0s - loss: 8.8077e-04 - accuracy: 1.0000"
          ]
        },
        {
          "output_type": "stream",
          "name": "stderr",
          "text": [
            "WARNING:tensorflow:Early stopping conditioned on metric `val_loss` which is not available. Available metrics are: loss,accuracy\n",
            "WARNING:tensorflow:Learning rate reduction is conditioned on metric `val_loss` which is not available. Available metrics are: loss,accuracy,lr\n"
          ]
        },
        {
          "output_type": "stream",
          "name": "stdout",
          "text": [
            "\b\b\b\b\b\b\b\b\b\b\b\b\b\b\b\b\b\b\b\b\b\b\b\b\b\b\b\b\b\b\b\b\b\b\b\b\b\b\b\b\b\b\b\b\b\b\b\b\b\b\b\b\b\b\b\b\b\b\b\b\b\b\b\b\b\b\b\b\b\b\b\b\b\b\b\b\b\b\b\b\b\b\b\b\b\b\b\b\r120/120 [==============================] - 1s 7ms/step - loss: 8.3436e-04 - accuracy: 1.0000 - lr: 3.0000e-05\n",
            "Epoch 191/200\n",
            "120/120 [==============================] - ETA: 0s - loss: 2.9061e-04 - accuracy: 1.0000"
          ]
        },
        {
          "output_type": "stream",
          "name": "stderr",
          "text": [
            "WARNING:tensorflow:Early stopping conditioned on metric `val_loss` which is not available. Available metrics are: loss,accuracy\n",
            "WARNING:tensorflow:Learning rate reduction is conditioned on metric `val_loss` which is not available. Available metrics are: loss,accuracy,lr\n"
          ]
        },
        {
          "output_type": "stream",
          "name": "stdout",
          "text": [
            "\b\b\b\b\b\b\b\b\b\b\b\b\b\b\b\b\b\b\b\b\b\b\b\b\b\b\b\b\b\b\b\b\b\b\b\b\b\b\b\b\b\b\b\b\b\b\b\b\b\b\b\b\b\b\b\b\b\b\b\b\b\b\b\b\b\b\b\b\b\b\b\b\b\b\b\b\b\b\b\b\b\b\b\b\b\b\b\b\r120/120 [==============================] - 1s 7ms/step - loss: 2.9061e-04 - accuracy: 1.0000 - lr: 3.0000e-05\n",
            "Epoch 192/200\n",
            "119/120 [============================>.] - ETA: 0s - loss: 3.1582e-04 - accuracy: 1.0000"
          ]
        },
        {
          "output_type": "stream",
          "name": "stderr",
          "text": [
            "WARNING:tensorflow:Early stopping conditioned on metric `val_loss` which is not available. Available metrics are: loss,accuracy\n",
            "WARNING:tensorflow:Learning rate reduction is conditioned on metric `val_loss` which is not available. Available metrics are: loss,accuracy,lr\n"
          ]
        },
        {
          "output_type": "stream",
          "name": "stdout",
          "text": [
            "\b\b\b\b\b\b\b\b\b\b\b\b\b\b\b\b\b\b\b\b\b\b\b\b\b\b\b\b\b\b\b\b\b\b\b\b\b\b\b\b\b\b\b\b\b\b\b\b\b\b\b\b\b\b\b\b\b\b\b\b\b\b\b\b\b\b\b\b\b\b\b\b\b\b\b\b\b\b\b\b\b\b\b\b\b\b\b\b\r120/120 [==============================] - 1s 7ms/step - loss: 3.1492e-04 - accuracy: 1.0000 - lr: 3.0000e-05\n",
            "Epoch 193/200\n",
            "116/120 [============================>.] - ETA: 0s - loss: 1.7457e-04 - accuracy: 1.0000"
          ]
        },
        {
          "output_type": "stream",
          "name": "stderr",
          "text": [
            "WARNING:tensorflow:Early stopping conditioned on metric `val_loss` which is not available. Available metrics are: loss,accuracy\n",
            "WARNING:tensorflow:Learning rate reduction is conditioned on metric `val_loss` which is not available. Available metrics are: loss,accuracy,lr\n"
          ]
        },
        {
          "output_type": "stream",
          "name": "stdout",
          "text": [
            "\b\b\b\b\b\b\b\b\b\b\b\b\b\b\b\b\b\b\b\b\b\b\b\b\b\b\b\b\b\b\b\b\b\b\b\b\b\b\b\b\b\b\b\b\b\b\b\b\b\b\b\b\b\b\b\b\b\b\b\b\b\b\b\b\b\b\b\b\b\b\b\b\b\b\b\b\b\b\b\b\b\b\b\b\b\b\b\b\r120/120 [==============================] - 1s 8ms/step - loss: 1.7426e-04 - accuracy: 1.0000 - lr: 3.0000e-05\n",
            "Epoch 194/200\n",
            "116/120 [============================>.] - ETA: 0s - loss: 8.7536e-05 - accuracy: 1.0000"
          ]
        },
        {
          "output_type": "stream",
          "name": "stderr",
          "text": [
            "WARNING:tensorflow:Early stopping conditioned on metric `val_loss` which is not available. Available metrics are: loss,accuracy\n",
            "WARNING:tensorflow:Learning rate reduction is conditioned on metric `val_loss` which is not available. Available metrics are: loss,accuracy,lr\n"
          ]
        },
        {
          "output_type": "stream",
          "name": "stdout",
          "text": [
            "\b\b\b\b\b\b\b\b\b\b\b\b\b\b\b\b\b\b\b\b\b\b\b\b\b\b\b\b\b\b\b\b\b\b\b\b\b\b\b\b\b\b\b\b\b\b\b\b\b\b\b\b\b\b\b\b\b\b\b\b\b\b\b\b\b\b\b\b\b\b\b\b\b\b\b\b\b\b\b\b\b\b\b\b\b\b\b\b\r120/120 [==============================] - 1s 8ms/step - loss: 8.5119e-05 - accuracy: 1.0000 - lr: 3.0000e-05\n",
            "Epoch 195/200\n",
            "114/120 [===========================>..] - ETA: 0s - loss: 3.2005e-04 - accuracy: 1.0000"
          ]
        },
        {
          "output_type": "stream",
          "name": "stderr",
          "text": [
            "WARNING:tensorflow:Early stopping conditioned on metric `val_loss` which is not available. Available metrics are: loss,accuracy\n",
            "WARNING:tensorflow:Learning rate reduction is conditioned on metric `val_loss` which is not available. Available metrics are: loss,accuracy,lr\n"
          ]
        },
        {
          "output_type": "stream",
          "name": "stdout",
          "text": [
            "\b\b\b\b\b\b\b\b\b\b\b\b\b\b\b\b\b\b\b\b\b\b\b\b\b\b\b\b\b\b\b\b\b\b\b\b\b\b\b\b\b\b\b\b\b\b\b\b\b\b\b\b\b\b\b\b\b\b\b\b\b\b\b\b\b\b\b\b\b\b\b\b\b\b\b\b\b\b\b\b\b\b\b\b\b\b\b\b\r120/120 [==============================] - 1s 8ms/step - loss: 3.0579e-04 - accuracy: 1.0000 - lr: 3.0000e-05\n",
            "Epoch 196/200\n",
            "118/120 [============================>.] - ETA: 0s - loss: 3.1729e-04 - accuracy: 1.0000"
          ]
        },
        {
          "output_type": "stream",
          "name": "stderr",
          "text": [
            "WARNING:tensorflow:Early stopping conditioned on metric `val_loss` which is not available. Available metrics are: loss,accuracy\n",
            "WARNING:tensorflow:Learning rate reduction is conditioned on metric `val_loss` which is not available. Available metrics are: loss,accuracy,lr\n"
          ]
        },
        {
          "output_type": "stream",
          "name": "stdout",
          "text": [
            "\b\b\b\b\b\b\b\b\b\b\b\b\b\b\b\b\b\b\b\b\b\b\b\b\b\b\b\b\b\b\b\b\b\b\b\b\b\b\b\b\b\b\b\b\b\b\b\b\b\b\b\b\b\b\b\b\b\b\b\b\b\b\b\b\b\b\b\b\b\b\b\b\b\b\b\b\b\b\b\b\b\b\b\b\b\b\b\b\r120/120 [==============================] - 1s 8ms/step - loss: 3.1540e-04 - accuracy: 1.0000 - lr: 3.0000e-05\n",
            "Epoch 197/200\n",
            "116/120 [============================>.] - ETA: 0s - loss: 3.0716e-04 - accuracy: 1.0000"
          ]
        },
        {
          "output_type": "stream",
          "name": "stderr",
          "text": [
            "WARNING:tensorflow:Early stopping conditioned on metric `val_loss` which is not available. Available metrics are: loss,accuracy\n",
            "WARNING:tensorflow:Learning rate reduction is conditioned on metric `val_loss` which is not available. Available metrics are: loss,accuracy,lr\n"
          ]
        },
        {
          "output_type": "stream",
          "name": "stdout",
          "text": [
            "\b\b\b\b\b\b\b\b\b\b\b\b\b\b\b\b\b\b\b\b\b\b\b\b\b\b\b\b\b\b\b\b\b\b\b\b\b\b\b\b\b\b\b\b\b\b\b\b\b\b\b\b\b\b\b\b\b\b\b\b\b\b\b\b\b\b\b\b\b\b\b\b\b\b\b\b\b\b\b\b\b\b\b\b\b\b\b\b\r120/120 [==============================] - 1s 8ms/step - loss: 3.1369e-04 - accuracy: 1.0000 - lr: 3.0000e-05\n",
            "Epoch 198/200\n",
            "118/120 [============================>.] - ETA: 0s - loss: 9.6119e-05 - accuracy: 1.0000"
          ]
        },
        {
          "output_type": "stream",
          "name": "stderr",
          "text": [
            "WARNING:tensorflow:Early stopping conditioned on metric `val_loss` which is not available. Available metrics are: loss,accuracy\n",
            "WARNING:tensorflow:Learning rate reduction is conditioned on metric `val_loss` which is not available. Available metrics are: loss,accuracy,lr\n"
          ]
        },
        {
          "output_type": "stream",
          "name": "stdout",
          "text": [
            "\b\b\b\b\b\b\b\b\b\b\b\b\b\b\b\b\b\b\b\b\b\b\b\b\b\b\b\b\b\b\b\b\b\b\b\b\b\b\b\b\b\b\b\b\b\b\b\b\b\b\b\b\b\b\b\b\b\b\b\b\b\b\b\b\b\b\b\b\b\b\b\b\b\b\b\b\b\b\b\b\b\b\b\b\b\b\b\b\r120/120 [==============================] - 1s 8ms/step - loss: 9.5156e-05 - accuracy: 1.0000 - lr: 3.0000e-05\n",
            "Epoch 199/200\n",
            "119/120 [============================>.] - ETA: 0s - loss: 4.8925e-04 - accuracy: 1.0000"
          ]
        },
        {
          "output_type": "stream",
          "name": "stderr",
          "text": [
            "WARNING:tensorflow:Early stopping conditioned on metric `val_loss` which is not available. Available metrics are: loss,accuracy\n",
            "WARNING:tensorflow:Learning rate reduction is conditioned on metric `val_loss` which is not available. Available metrics are: loss,accuracy,lr\n"
          ]
        },
        {
          "output_type": "stream",
          "name": "stdout",
          "text": [
            "\b\b\b\b\b\b\b\b\b\b\b\b\b\b\b\b\b\b\b\b\b\b\b\b\b\b\b\b\b\b\b\b\b\b\b\b\b\b\b\b\b\b\b\b\b\b\b\b\b\b\b\b\b\b\b\b\b\b\b\b\b\b\b\b\b\b\b\b\b\b\b\b\b\b\b\b\b\b\b\b\b\b\b\b\b\b\b\b\r120/120 [==============================] - 1s 9ms/step - loss: 4.8785e-04 - accuracy: 1.0000 - lr: 3.0000e-05\n",
            "Epoch 200/200\n",
            "118/120 [============================>.] - ETA: 0s - loss: 6.0824e-04 - accuracy: 1.0000"
          ]
        },
        {
          "output_type": "stream",
          "name": "stderr",
          "text": [
            "WARNING:tensorflow:Early stopping conditioned on metric `val_loss` which is not available. Available metrics are: loss,accuracy\n",
            "WARNING:tensorflow:Learning rate reduction is conditioned on metric `val_loss` which is not available. Available metrics are: loss,accuracy,lr\n"
          ]
        },
        {
          "output_type": "stream",
          "name": "stdout",
          "text": [
            "\b\b\b\b\b\b\b\b\b\b\b\b\b\b\b\b\b\b\b\b\b\b\b\b\b\b\b\b\b\b\b\b\b\b\b\b\b\b\b\b\b\b\b\b\b\b\b\b\b\b\b\b\b\b\b\b\b\b\b\b\b\b\b\b\b\b\b\b\b\b\b\b\b\b\b\b\b\b\b\b\b\b\b\b\b\b\b\b\r120/120 [==============================] - 1s 8ms/step - loss: 6.0150e-04 - accuracy: 1.0000 - lr: 3.0000e-05\n"
          ]
        }
      ]
    },
    {
      "cell_type": "markdown",
      "source": [
        "# log loss"
      ],
      "metadata": {
        "id": "U3Xg55v7ZbWc"
      }
    },
    {
      "cell_type": "code",
      "source": [
        "CNN1_network_predictions = CNN1_network.predict(padded_clean_text_t_stem)"
      ],
      "metadata": {
        "id": "dbcI7RTeZcn2"
      },
      "execution_count": null,
      "outputs": []
    },
    {
      "cell_type": "code",
      "source": [
        "from sklearn.metrics import log_loss\n",
        "log_loss_test= log_loss(label_twoDimension_t,CNN1_network_predictions)\n",
        "log_loss_test"
      ],
      "metadata": {
        "colab": {
          "base_uri": "https://localhost:8080/"
        },
        "id": "vBA3XmTFZf4y",
        "outputId": "179798e0-c79f-4f7d-8899-0c4dc15225d3"
      },
      "execution_count": null,
      "outputs": [
        {
          "output_type": "execute_result",
          "data": {
            "text/plain": [
              "5.416289157941406"
            ]
          },
          "metadata": {},
          "execution_count": 64
        }
      ]
    },
    {
      "cell_type": "markdown",
      "source": [
        "# Classification Report\n"
      ],
      "metadata": {
        "id": "gIX9etNsZiSb"
      }
    },
    {
      "cell_type": "code",
      "source": [
        "predictions = np.zeros_like(CNN1_network_predictions)\n",
        "predictions[np.arange(len(CNN1_network_predictions)), CNN1_network_predictions.argmax(1)] = 1\n",
        "\n"
      ],
      "metadata": {
        "id": "EejyfrakZjSe"
      },
      "execution_count": null,
      "outputs": []
    },
    {
      "cell_type": "code",
      "source": [
        "\n",
        "\n",
        "predictionInteger=(np.argmax(predictions, axis=1))\n",
        "predictionInteger\n",
        "\n"
      ],
      "metadata": {
        "colab": {
          "base_uri": "https://localhost:8080/"
        },
        "id": "gegx60d8ZmD0",
        "outputId": "3aaebdfc-4026-477e-e6a9-27ed4a4e9591"
      },
      "execution_count": null,
      "outputs": [
        {
          "output_type": "execute_result",
          "data": {
            "text/plain": [
              "array([1, 0, 1, ..., 1, 1, 1])"
            ]
          },
          "metadata": {},
          "execution_count": 66
        }
      ]
    },
    {
      "cell_type": "code",
      "source": [
        "\n",
        "\n",
        "pred_label = np.array(predictionInteger)\n",
        "df = pd.DataFrame(data=pred_label , columns=[\"task1\"])\n",
        "print(df)\n",
        "\n"
      ],
      "metadata": {
        "colab": {
          "base_uri": "https://localhost:8080/"
        },
        "id": "oceUPc_tZniC",
        "outputId": "1102f5c2-f157-471a-b93b-3dcab3780255"
      },
      "execution_count": null,
      "outputs": [
        {
          "output_type": "stream",
          "name": "stdout",
          "text": [
            "      task1\n",
            "0         1\n",
            "1         0\n",
            "2         1\n",
            "3         1\n",
            "4         0\n",
            "...     ...\n",
            "3527      1\n",
            "3528      1\n",
            "3529      1\n",
            "3530      1\n",
            "3531      1\n",
            "\n",
            "[3532 rows x 1 columns]\n"
          ]
        }
      ]
    },
    {
      "cell_type": "code",
      "source": [
        "df.to_csv(\"NSIT_submission_DE_Train_HASOC2019_Test_GermEval2018_TASK_A.csv\", index=False)"
      ],
      "metadata": {
        "id": "Ey4jhyzcZpFS"
      },
      "execution_count": null,
      "outputs": []
    },
    {
      "cell_type": "code",
      "source": [
        "\n",
        "\n",
        "from sklearn.metrics import classification_report\n",
        "print(classification_report(label_twoDimension_t,predictions))\n",
        "\n"
      ],
      "metadata": {
        "colab": {
          "base_uri": "https://localhost:8080/"
        },
        "id": "XLy5CXJXZtSj",
        "outputId": "84d0407c-7a0c-4eaf-965a-d18d9b4c32f2"
      },
      "execution_count": null,
      "outputs": [
        {
          "output_type": "stream",
          "name": "stdout",
          "text": [
            "              precision    recall  f1-score   support\n",
            "\n",
            "           0       0.57      0.14      0.22      1202\n",
            "           1       0.68      0.95      0.79      2330\n",
            "\n",
            "   micro avg       0.67      0.67      0.67      3532\n",
            "   macro avg       0.63      0.54      0.51      3532\n",
            "weighted avg       0.64      0.67      0.60      3532\n",
            " samples avg       0.67      0.67      0.67      3532\n",
            "\n"
          ]
        }
      ]
    },
    {
      "cell_type": "markdown",
      "source": [
        "# Epoch v/s Loss Plot\n"
      ],
      "metadata": {
        "id": "vtezBAMJZvBv"
      }
    },
    {
      "cell_type": "code",
      "source": [
        "\n",
        "\n",
        "from matplotlib import pyplot as plt\n",
        "plt.plot(hist.history[\"loss\"],color = 'red', label = 'train_loss')\n",
        "#plt.plot(hist.history[\"val_loss\"],color = 'blue', label = 'val_loss')\n",
        "plt.title('Loss Visualisation')\n",
        "plt.xlabel('Epochs')\n",
        "plt.ylabel('Loss')\n",
        "plt.legend()\n",
        "plt.savefig('CNN1_Train_HASOC2019_Test_GermEval2018_TASK_A_Ger_lossPlot.pdf',dpi=1000)\n",
        "\n",
        "from google.colab import files\n",
        "files.download('CNN1_Train_HASOC2019_Test_GermEval2018_TASK_A_Ger_lossPlot.pdf') \n",
        "\n"
      ],
      "metadata": {
        "colab": {
          "base_uri": "https://localhost:8080/"
        },
        "id": "3Q4VbA71ZwwS",
        "outputId": "991264c3-5621-4240-9a6d-6d4b2d688eaf"
      },
      "execution_count": null,
      "outputs": [
        {
          "output_type": "display_data",
          "data": {
            "text/plain": [
              "<IPython.core.display.Javascript object>"
            ],
            "application/javascript": [
              "\n",
              "    async function download(id, filename, size) {\n",
              "      if (!google.colab.kernel.accessAllowed) {\n",
              "        return;\n",
              "      }\n",
              "      const div = document.createElement('div');\n",
              "      const label = document.createElement('label');\n",
              "      label.textContent = `Downloading \"${filename}\": `;\n",
              "      div.appendChild(label);\n",
              "      const progress = document.createElement('progress');\n",
              "      progress.max = size;\n",
              "      div.appendChild(progress);\n",
              "      document.body.appendChild(div);\n",
              "\n",
              "      const buffers = [];\n",
              "      let downloaded = 0;\n",
              "\n",
              "      const channel = await google.colab.kernel.comms.open(id);\n",
              "      // Send a message to notify the kernel that we're ready.\n",
              "      channel.send({})\n",
              "\n",
              "      for await (const message of channel.messages) {\n",
              "        // Send a message to notify the kernel that we're ready.\n",
              "        channel.send({})\n",
              "        if (message.buffers) {\n",
              "          for (const buffer of message.buffers) {\n",
              "            buffers.push(buffer);\n",
              "            downloaded += buffer.byteLength;\n",
              "            progress.value = downloaded;\n",
              "          }\n",
              "        }\n",
              "      }\n",
              "      const blob = new Blob(buffers, {type: 'application/binary'});\n",
              "      const a = document.createElement('a');\n",
              "      a.href = window.URL.createObjectURL(blob);\n",
              "      a.download = filename;\n",
              "      div.appendChild(a);\n",
              "      a.click();\n",
              "      div.remove();\n",
              "    }\n",
              "  "
            ]
          },
          "metadata": {}
        },
        {
          "output_type": "display_data",
          "data": {
            "text/plain": [
              "<IPython.core.display.Javascript object>"
            ],
            "application/javascript": [
              "download(\"download_8ab0e39b-fb73-42be-a4bb-20af8b29ab30\", \"CNN1_Train_HASOC2019_Test_GermEval2018_TASK_A_Ger_lossPlot.pdf\", 11992)"
            ]
          },
          "metadata": {}
        },
        {
          "output_type": "display_data",
          "data": {
            "text/plain": [
              "<Figure size 432x288 with 1 Axes>"
            ],
            "image/png": "[encoded data removed]"
          },
          "metadata": {
            "needs_background": "light"
          }
        }
      ]
    },
    {
      "cell_type": "markdown",
      "source": [
        "# Epoch v/s Accuracy Plot\n"
      ],
      "metadata": {
        "id": "NEu9wKuUZ0z3"
      }
    },
    {
      "cell_type": "code",
      "source": [
        "\n",
        "\n",
        "plt.plot(hist.history[\"accuracy\"],color = 'red', label = 'train_accuracy')\n",
        "#plt.plot(hist.history[\"val_accuracy\"],color = 'blue', label = 'val_accuracy')\n",
        "plt.title('Accuracy Visualisation')\n",
        "plt.xlabel('Epochs')\n",
        "plt.ylabel('Accuracy')\n",
        "plt.legend()\n",
        "plt.savefig('CNN1_Train_HASOC2019_Test_GermEval2018_TASK_A_Ger_accuracyPlot.pdf',dpi=1000)\n",
        "files.download('CNN1_Train_HASOC2019_Test_GermEval2018_TASK_A_Ger_accuracyPlot.pdf') \n",
        "\n"
      ],
      "metadata": {
        "colab": {
          "base_uri": "https://localhost:8080/"
        },
        "id": "6Ad_2uQZZyuB",
        "outputId": "9212e79d-bcde-4040-8cdf-4aabf58f17c3"
      },
      "execution_count": null,
      "outputs": [
        {
          "output_type": "display_data",
          "data": {
            "text/plain": [
              "<IPython.core.display.Javascript object>"
            ],
            "application/javascript": [
              "\n",
              "    async function download(id, filename, size) {\n",
              "      if (!google.colab.kernel.accessAllowed) {\n",
              "        return;\n",
              "      }\n",
              "      const div = document.createElement('div');\n",
              "      const label = document.createElement('label');\n",
              "      label.textContent = `Downloading \"${filename}\": `;\n",
              "      div.appendChild(label);\n",
              "      const progress = document.createElement('progress');\n",
              "      progress.max = size;\n",
              "      div.appendChild(progress);\n",
              "      document.body.appendChild(div);\n",
              "\n",
              "      const buffers = [];\n",
              "      let downloaded = 0;\n",
              "\n",
              "      const channel = await google.colab.kernel.comms.open(id);\n",
              "      // Send a message to notify the kernel that we're ready.\n",
              "      channel.send({})\n",
              "\n",
              "      for await (const message of channel.messages) {\n",
              "        // Send a message to notify the kernel that we're ready.\n",
              "        channel.send({})\n",
              "        if (message.buffers) {\n",
              "          for (const buffer of message.buffers) {\n",
              "            buffers.push(buffer);\n",
              "            downloaded += buffer.byteLength;\n",
              "            progress.value = downloaded;\n",
              "          }\n",
              "        }\n",
              "      }\n",
              "      const blob = new Blob(buffers, {type: 'application/binary'});\n",
              "      const a = document.createElement('a');\n",
              "      a.href = window.URL.createObjectURL(blob);\n",
              "      a.download = filename;\n",
              "      div.appendChild(a);\n",
              "      a.click();\n",
              "      div.remove();\n",
              "    }\n",
              "  "
            ]
          },
          "metadata": {}
        },
        {
          "output_type": "display_data",
          "data": {
            "text/plain": [
              "<IPython.core.display.Javascript object>"
            ],
            "application/javascript": [
              "download(\"download_5596e32f-2a34-4863-960d-c494f3c270f3\", \"CNN1_Train_HASOC2019_Test_GermEval2018_TASK_A_Ger_accuracyPlot.pdf\", 12410)"
            ]
          },
          "metadata": {}
        },
        {
          "output_type": "display_data",
          "data": {
            "text/plain": [
              "<Figure size 432x288 with 1 Axes>"
            ],
            "image/png": "[encoded data removed]"
          },
          "metadata": {
            "needs_background": "light"
          }
        }
      ]
    },
    {
      "cell_type": "markdown",
      "source": [
        "# Area under Curve-ROC\n"
      ],
      "metadata": {
        "id": "ce9BJNbLZ65e"
      }
    },
    {
      "cell_type": "code",
      "source": [
        "\n",
        "\n",
        "pred_train = CNN1_network.predict(padded_clean_text_stem)\n",
        "pred_test = CNN1_network.predict(padded_clean_text_t_stem)\n",
        "\n"
      ],
      "metadata": {
        "id": "swegVICbZ5_M"
      },
      "execution_count": null,
      "outputs": []
    },
    {
      "cell_type": "code",
      "source": [
        "\n",
        "\n",
        "import numpy as np\n",
        "import matplotlib.pyplot as plt\n",
        "from itertools import cycle\n",
        "\n",
        "from sklearn import svm, datasets\n",
        "from sklearn.metrics import roc_curve, auc\n",
        "from sklearn.model_selection import train_test_split\n",
        "from sklearn.preprocessing import label_binarize\n",
        "from sklearn.multiclass import OneVsRestClassifier\n",
        "from scipy import interp\n",
        "\n",
        "def plot_AUC_ROC(y_true, y_pred):\n",
        "    n_classes = 2 #change this value according to class value\n",
        "\n",
        "    # Compute ROC curve and ROC area for each class\n",
        "    fpr = dict()\n",
        "    tpr = dict()\n",
        "    roc_auc = dict()\n",
        "    for i in range(n_classes):\n",
        "        fpr[i], tpr[i], _ = roc_curve(y_true[:, i], y_pred[:, i])\n",
        "        roc_auc[i] = auc(fpr[i], tpr[i])\n",
        "\n",
        "    # Compute micro-average ROC curve and ROC area\n",
        "    fpr[\"micro\"], tpr[\"micro\"], _ = roc_curve(y_true.ravel(), y_pred.ravel())\n",
        "    roc_auc[\"micro\"] = auc(fpr[\"micro\"], tpr[\"micro\"])\n",
        "############################################################################################\n",
        "    lw = 2\n",
        "    # Compute macro-average ROC curve and ROC area\n",
        "\n",
        "    # First aggregate all false positive rates\n",
        "    all_fpr = np.unique(np.concatenate([fpr[i] for i in range(n_classes)]))\n",
        "\n",
        "    # Then interpolate all ROC curves at this points\n",
        "    mean_tpr = np.zeros_like(all_fpr)\n",
        "    for i in range(n_classes):\n",
        "        mean_tpr += interp(all_fpr, fpr[i], tpr[i])\n",
        "\n",
        "    # Finally average it and compute AUC\n",
        "    mean_tpr /= n_classes\n",
        "\n",
        "    fpr[\"macro\"] = all_fpr\n",
        "    tpr[\"macro\"] = mean_tpr\n",
        "    roc_auc[\"macro\"] = auc(fpr[\"macro\"], tpr[\"macro\"])\n",
        "\n",
        "    # Plot all ROC curves\n",
        "    plt.figure()\n",
        "    \n",
        "    plt.plot(fpr[\"micro\"], tpr[\"micro\"],\n",
        "            label='micro-average ROC curve (area = {0:0.2f})'\n",
        "               ''.format(roc_auc[\"micro\"]),\n",
        "            color='deeppink', linestyle=':', linewidth=4)\n",
        "\n",
        "    plt.plot(fpr[\"macro\"], tpr[\"macro\"],\n",
        "            label='macro-average ROC curve (area = {0:0.2f})'\n",
        "               ''.format(roc_auc[\"macro\"]),\n",
        "            color='navy', linestyle=':', linewidth=4)\n",
        "    \n",
        "    colors = cycle(['aqua', 'darkorange'])\n",
        "    #classes_list1 = [\"DE\",\"NE\",\"DK\"]\n",
        "    classes_list1 = [\"Non-duplicate\",\"Duplicate\"]\n",
        "    for i, color,c in zip(range(n_classes), colors,classes_list1):\n",
        "        plt.plot(fpr[i], tpr[i], color=color, lw=lw,\n",
        "                label='{0} (AUC = {1:0.2f})'\n",
        "                ''.format(c, roc_auc[i]))\n",
        "\n",
        "    plt.plot([0, 1], [0, 1], 'k--', lw=lw)\n",
        "    plt.xlim([0.0, 1.0])\n",
        "    plt.ylim([0.0, 1.05])\n",
        "    plt.xlabel('False Positive Rate')\n",
        "    plt.ylabel('True Positive Rate')\n",
        "    plt.title('Receiver operating characteristic curve')\n",
        "    plt.legend(loc=\"lower right\")\n",
        "    #plt.show()\n",
        "    plt.savefig('CNN1_Train_HASOC2019_Test_GermEval2018_TASK_A_Ger_Area_RocPlot.pdf',dpi=1000)\n",
        "    files.download('CNN1_Train_HASOC2019_Test_GermEval2018_TASK_A_Ger_Area_RocPlot.pdf')\n",
        "\n",
        "  \n",
        "\n"
      ],
      "metadata": {
        "id": "0IMSFAXwZ_Va"
      },
      "execution_count": null,
      "outputs": []
    },
    {
      "cell_type": "code",
      "source": [
        "plot_AUC_ROC(label_twoDimension_t,pred_test)"
      ],
      "metadata": {
        "colab": {
          "base_uri": "https://localhost:8080/"
        },
        "id": "f4qx5tmXaB0L",
        "outputId": "af9651e2-9666-4e6d-d497-cb8d191a22b3"
      },
      "execution_count": null,
      "outputs": [
        {
          "output_type": "stream",
          "name": "stderr",
          "text": [
            "/usr/local/lib/python3.7/dist-packages/ipykernel_launcher.py:36: DeprecationWarning: scipy.interp is deprecated and will be removed in SciPy 2.0.0, use numpy.interp instead\n"
          ]
        },
        {
          "output_type": "display_data",
          "data": {
            "text/plain": [
              "<IPython.core.display.Javascript object>"
            ],
            "application/javascript": [
              "\n",
              "    async function download(id, filename, size) {\n",
              "      if (!google.colab.kernel.accessAllowed) {\n",
              "        return;\n",
              "      }\n",
              "      const div = document.createElement('div');\n",
              "      const label = document.createElement('label');\n",
              "      label.textContent = `Downloading \"${filename}\": `;\n",
              "      div.appendChild(label);\n",
              "      const progress = document.createElement('progress');\n",
              "      progress.max = size;\n",
              "      div.appendChild(progress);\n",
              "      document.body.appendChild(div);\n",
              "\n",
              "      const buffers = [];\n",
              "      let downloaded = 0;\n",
              "\n",
              "      const channel = await google.colab.kernel.comms.open(id);\n",
              "      // Send a message to notify the kernel that we're ready.\n",
              "      channel.send({})\n",
              "\n",
              "      for await (const message of channel.messages) {\n",
              "        // Send a message to notify the kernel that we're ready.\n",
              "        channel.send({})\n",
              "        if (message.buffers) {\n",
              "          for (const buffer of message.buffers) {\n",
              "            buffers.push(buffer);\n",
              "            downloaded += buffer.byteLength;\n",
              "            progress.value = downloaded;\n",
              "          }\n",
              "        }\n",
              "      }\n",
              "      const blob = new Blob(buffers, {type: 'application/binary'});\n",
              "      const a = document.createElement('a');\n",
              "      a.href = window.URL.createObjectURL(blob);\n",
              "      a.download = filename;\n",
              "      div.appendChild(a);\n",
              "      a.click();\n",
              "      div.remove();\n",
              "    }\n",
              "  "
            ]
          },
          "metadata": {}
        },
        {
          "output_type": "display_data",
          "data": {
            "text/plain": [
              "<IPython.core.display.Javascript object>"
            ],
            "application/javascript": [
              "download(\"download_bfaae71f-a338-4e1b-91bb-b8f54e2a833a\", \"CNN1_Train_HASOC2019_Test_GermEval2018_TASK_A_Ger_Area_RocPlot.pdf\", 39195)"
            ]
          },
          "metadata": {}
        },
        {
          "output_type": "display_data",
          "data": {
            "text/plain": [
              "<Figure size 432x288 with 1 Axes>"
            ],
            "image/png": "[encoded data removed]"
          },
          "metadata": {
            "needs_background": "light"
          }
        }
      ]
    }
  ]
}
