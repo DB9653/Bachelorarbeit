{
  "nbformat": 4,
  "nbformat_minor": 0,
  "metadata": {
    "colab": {
      "provenance": [],
      "include_colab_link": true
    },
    "kernelspec": {
      "name": "python3",
      "display_name": "Python 3"
    },
    "language_info": {
      "name": "python"
    },
    "accelerator": "GPU"
  },
  "cells": [
    {
      "cell_type": "markdown",
      "metadata": {
        "id": "view-in-github",
        "colab_type": "text"
      },
      "source": [
        "<a href=\"https://colab.research.google.com/github/DB9653/Bachelorarbeit/blob/main/NSIT_IIITDWD_(TrainH19_TestGE19).ipynb\" target=\"_parent\"><img src=\"https://colab.research.google.com/assets/colab-badge.svg\" alt=\"Open In Colab\"/></a>"
      ]
    },
    {
      "cell_type": "markdown",
      "source": [
        "https://github.com/roushan-raj/HASOC-2020/blob/master/Models/German%20Models/German%20Sub-task%20A.ipynb\n"
      ],
      "metadata": {
        "id": "8pdYFRmoIhyM"
      }
    },
    {
      "cell_type": "code",
      "source": [
        "import tensorflow as tf\n",
        "tf.test.gpu_device_name()"
      ],
      "metadata": {
        "colab": {
          "base_uri": "https://localhost:8080/",
          "height": 35
        },
        "id": "hof4s6snVN0W",
        "outputId": "1cea73fe-7534-4d5f-b610-2b7fe2e88ccb"
      },
      "execution_count": null,
      "outputs": [
        {
          "output_type": "execute_result",
          "data": {
            "text/plain": [
              "'/device:GPU:0'"
            ],
            "application/vnd.google.colaboratory.intrinsic+json": {
              "type": "string"
            }
          },
          "metadata": {},
          "execution_count": 1
        }
      ]
    },
    {
      "cell_type": "markdown",
      "source": [
        "\n",
        "# Dataset Reading\n"
      ],
      "metadata": {
        "id": "CU0P3rpqJMHH"
      }
    },
    {
      "cell_type": "code",
      "execution_count": null,
      "metadata": {
        "colab": {
          "base_uri": "https://localhost:8080/"
        },
        "id": "UtPbRsnBIVpd",
        "outputId": "45b3f8b5-a171-437a-a241-8d6311048c9e"
      },
      "outputs": [
        {
          "output_type": "execute_result",
          "data": {
            "text/plain": [
              "       text_id  \\\n",
              "0   hasoc_de_1   \n",
              "1   hasoc_de_2   \n",
              "2   hasoc_de_3   \n",
              "3   hasoc_de_4   \n",
              "4   hasoc_de_5   \n",
              "5   hasoc_de_6   \n",
              "6   hasoc_de_7   \n",
              "7   hasoc_de_8   \n",
              "8   hasoc_de_9   \n",
              "9  hasoc_de_10   \n",
              "\n",
              "                                                                                                                                                    text  \\\n",
              "0                                                                         Frank Rennicke – Ich bin stolz https://t.co/Cm6TD8w1k1 https://t.co/qynXso07Zn   \n",
              "1                                                                     ANSEHEN.....und danach bitte TEILEN...TEILEN....TEILEN.... https://t.co/z18lnbOWRQ   \n",
              "2  #Koeln Mohamed erkennt kein deutsches Recht sondern nur die #Scharia an. Das er den Kölner Dom kaputt machen wollte, war nur ein Scherz aber wenn ...   \n",
              "3  #SaudiArabien ist eine brutale islamische Diktatur und richtete kürzlich fünf Männer wegen ihre Homosexualität hin. Welche Konsequenzen hat das fü...   \n",
              "4  Bundespolizei #München hat im 1. Quartal 2019 rund 3.380 illegale Einreisen registriert, die Migranten stammten v. a. aus Nigeria, Afghanistan, Se...   \n",
              "5  #1EuropaFuerAlle oder wie es die #SPD heute noch bildhafteter formuliert hat:    Und willst Du nicht mein Bruder sein, so schlage ich Dir denn Sch...   \n",
              "6  #Hannover: Weil ihm die Freizeitgestaltung und ihr Umgang mit Männern nicht passt, tritt und schlägt Mustafa F. (26) auf seine ehemalige -nach isl...   \n",
              "7  #Deutschland 2019: Ort für die #EU-Wahlparty der #AfD wurde gerade gekündigt. Vermieter und Mieter wurden massiv von #Linksextremisten bedroht. Da...   \n",
              "8  #Innsbruck: Tirolerin und Türke knacken 2018 zahlreiche Automaten bei Auto-Waschanlagen und Tankstellen, anhand dort gefundener DNA kommt heraus, ...   \n",
              "9  #Wien: Vier Nigerianer bestellen teils hochpreisige Produkte unter falschen Namen, holen sie in Paketshops ab und behalten sie, ohne zu bezahlen -...   \n",
              "\n",
              "  task_1 task_2  \n",
              "0    NOT   NONE  \n",
              "1    NOT   NONE  \n",
              "2    NOT   NONE  \n",
              "3    NOT   NONE  \n",
              "4    NOT   NONE  \n",
              "5    NOT   NONE  \n",
              "6    NOT   NONE  \n",
              "7    NOT   NONE  \n",
              "8    NOT   NONE  \n",
              "9    NOT   NONE  "
            ],
            "text/html": [
              "\n",
              "  <div id=\"df-6ace7fea-d59b-4836-956b-72304f13bce0\">\n",
              "    <div class=\"colab-df-container\">\n",
              "      <div>\n",
              "<style scoped>\n",
              "    .dataframe tbody tr th:only-of-type {\n",
              "        vertical-align: middle;\n",
              "    }\n",
              "\n",
              "    .dataframe tbody tr th {\n",
              "        vertical-align: top;\n",
              "    }\n",
              "\n",
              "    .dataframe thead th {\n",
              "        text-align: right;\n",
              "    }\n",
              "</style>\n",
              "<table border=\"1\" class=\"dataframe\">\n",
              "  <thead>\n",
              "    <tr style=\"text-align: right;\">\n",
              "      <th></th>\n",
              "      <th>text_id</th>\n",
              "      <th>text</th>\n",
              "      <th>task_1</th>\n",
              "      <th>task_2</th>\n",
              "    </tr>\n",
              "  </thead>\n",
              "  <tbody>\n",
              "    <tr>\n",
              "      <th>0</th>\n",
              "      <td>hasoc_de_1</td>\n",
              "      <td>Frank Rennicke – Ich bin stolz https://t.co/Cm6TD8w1k1 https://t.co/qynXso07Zn</td>\n",
              "      <td>NOT</td>\n",
              "      <td>NONE</td>\n",
              "    </tr>\n",
              "    <tr>\n",
              "      <th>1</th>\n",
              "      <td>hasoc_de_2</td>\n",
              "      <td>ANSEHEN.....und danach bitte TEILEN...TEILEN....TEILEN.... https://t.co/z18lnbOWRQ</td>\n",
              "      <td>NOT</td>\n",
              "      <td>NONE</td>\n",
              "    </tr>\n",
              "    <tr>\n",
              "      <th>2</th>\n",
              "      <td>hasoc_de_3</td>\n",
              "      <td>#Koeln Mohamed erkennt kein deutsches Recht sondern nur die #Scharia an. Das er den Kölner Dom kaputt machen wollte, war nur ein Scherz aber wenn ...</td>\n",
              "      <td>NOT</td>\n",
              "      <td>NONE</td>\n",
              "    </tr>\n",
              "    <tr>\n",
              "      <th>3</th>\n",
              "      <td>hasoc_de_4</td>\n",
              "      <td>#SaudiArabien ist eine brutale islamische Diktatur und richtete kürzlich fünf Männer wegen ihre Homosexualität hin. Welche Konsequenzen hat das fü...</td>\n",
              "      <td>NOT</td>\n",
              "      <td>NONE</td>\n",
              "    </tr>\n",
              "    <tr>\n",
              "      <th>4</th>\n",
              "      <td>hasoc_de_5</td>\n",
              "      <td>Bundespolizei #München hat im 1. Quartal 2019 rund 3.380 illegale Einreisen registriert, die Migranten stammten v. a. aus Nigeria, Afghanistan, Se...</td>\n",
              "      <td>NOT</td>\n",
              "      <td>NONE</td>\n",
              "    </tr>\n",
              "    <tr>\n",
              "      <th>5</th>\n",
              "      <td>hasoc_de_6</td>\n",
              "      <td>#1EuropaFuerAlle oder wie es die #SPD heute noch bildhafteter formuliert hat:    Und willst Du nicht mein Bruder sein, so schlage ich Dir denn Sch...</td>\n",
              "      <td>NOT</td>\n",
              "      <td>NONE</td>\n",
              "    </tr>\n",
              "    <tr>\n",
              "      <th>6</th>\n",
              "      <td>hasoc_de_7</td>\n",
              "      <td>#Hannover: Weil ihm die Freizeitgestaltung und ihr Umgang mit Männern nicht passt, tritt und schlägt Mustafa F. (26) auf seine ehemalige -nach isl...</td>\n",
              "      <td>NOT</td>\n",
              "      <td>NONE</td>\n",
              "    </tr>\n",
              "    <tr>\n",
              "      <th>7</th>\n",
              "      <td>hasoc_de_8</td>\n",
              "      <td>#Deutschland 2019: Ort für die #EU-Wahlparty der #AfD wurde gerade gekündigt. Vermieter und Mieter wurden massiv von #Linksextremisten bedroht. Da...</td>\n",
              "      <td>NOT</td>\n",
              "      <td>NONE</td>\n",
              "    </tr>\n",
              "    <tr>\n",
              "      <th>8</th>\n",
              "      <td>hasoc_de_9</td>\n",
              "      <td>#Innsbruck: Tirolerin und Türke knacken 2018 zahlreiche Automaten bei Auto-Waschanlagen und Tankstellen, anhand dort gefundener DNA kommt heraus, ...</td>\n",
              "      <td>NOT</td>\n",
              "      <td>NONE</td>\n",
              "    </tr>\n",
              "    <tr>\n",
              "      <th>9</th>\n",
              "      <td>hasoc_de_10</td>\n",
              "      <td>#Wien: Vier Nigerianer bestellen teils hochpreisige Produkte unter falschen Namen, holen sie in Paketshops ab und behalten sie, ohne zu bezahlen -...</td>\n",
              "      <td>NOT</td>\n",
              "      <td>NONE</td>\n",
              "    </tr>\n",
              "  </tbody>\n",
              "</table>\n",
              "</div>\n",
              "      <button class=\"colab-df-convert\" onclick=\"convertToInteractive('df-6ace7fea-d59b-4836-956b-72304f13bce0')\"\n",
              "              title=\"Convert this dataframe to an interactive table.\"\n",
              "              style=\"display:none;\">\n",
              "        \n",
              "  <svg xmlns=\"http://www.w3.org/2000/svg\" height=\"24px\"viewBox=\"0 0 24 24\"\n",
              "       width=\"24px\">\n",
              "    <path d=\"M0 0h24v24H0V0z\" fill=\"none\"/>\n",
              "    <path d=\"M18.56 5.44l.94 2.06.94-2.06 2.06-.94-2.06-.94-.94-2.06-.94 2.06-2.06.94zm-11 1L8.5 8.5l.94-2.06 2.06-.94-2.06-.94L8.5 2.5l-.94 2.06-2.06.94zm10 10l.94 2.06.94-2.06 2.06-.94-2.06-.94-.94-2.06-.94 2.06-2.06.94z\"/><path d=\"M17.41 7.96l-1.37-1.37c-.4-.4-.92-.59-1.43-.59-.52 0-1.04.2-1.43.59L10.3 9.45l-7.72 7.72c-.78.78-.78 2.05 0 2.83L4 21.41c.39.39.9.59 1.41.59.51 0 1.02-.2 1.41-.59l7.78-7.78 2.81-2.81c.8-.78.8-2.07 0-2.86zM5.41 20L4 18.59l7.72-7.72 1.47 1.35L5.41 20z\"/>\n",
              "  </svg>\n",
              "      </button>\n",
              "      \n",
              "  <style>\n",
              "    .colab-df-container {\n",
              "      display:flex;\n",
              "      flex-wrap:wrap;\n",
              "      gap: 12px;\n",
              "    }\n",
              "\n",
              "    .colab-df-convert {\n",
              "      background-color: #E8F0FE;\n",
              "      border: none;\n",
              "      border-radius: 50%;\n",
              "      cursor: pointer;\n",
              "      display: none;\n",
              "      fill: #1967D2;\n",
              "      height: 32px;\n",
              "      padding: 0 0 0 0;\n",
              "      width: 32px;\n",
              "    }\n",
              "\n",
              "    .colab-df-convert:hover {\n",
              "      background-color: #E2EBFA;\n",
              "      box-shadow: 0px 1px 2px rgba(60, 64, 67, 0.3), 0px 1px 3px 1px rgba(60, 64, 67, 0.15);\n",
              "      fill: #174EA6;\n",
              "    }\n",
              "\n",
              "    [theme=dark] .colab-df-convert {\n",
              "      background-color: #3B4455;\n",
              "      fill: #D2E3FC;\n",
              "    }\n",
              "\n",
              "    [theme=dark] .colab-df-convert:hover {\n",
              "      background-color: #434B5C;\n",
              "      box-shadow: 0px 1px 3px 1px rgba(0, 0, 0, 0.15);\n",
              "      filter: drop-shadow(0px 1px 2px rgba(0, 0, 0, 0.3));\n",
              "      fill: #FFFFFF;\n",
              "    }\n",
              "  </style>\n",
              "\n",
              "      <script>\n",
              "        const buttonEl =\n",
              "          document.querySelector('#df-6ace7fea-d59b-4836-956b-72304f13bce0 button.colab-df-convert');\n",
              "        buttonEl.style.display =\n",
              "          google.colab.kernel.accessAllowed ? 'block' : 'none';\n",
              "\n",
              "        async function convertToInteractive(key) {\n",
              "          const element = document.querySelector('#df-6ace7fea-d59b-4836-956b-72304f13bce0');\n",
              "          const dataTable =\n",
              "            await google.colab.kernel.invokeFunction('convertToInteractive',\n",
              "                                                     [key], {});\n",
              "          if (!dataTable) return;\n",
              "\n",
              "          const docLinkHtml = 'Like what you see? Visit the ' +\n",
              "            '<a target=\"_blank\" href=https://colab.research.google.com/notebooks/data_table.ipynb>data table notebook</a>'\n",
              "            + ' to learn more about interactive tables.';\n",
              "          element.innerHTML = '';\n",
              "          dataTable['output_type'] = 'display_data';\n",
              "          await google.colab.output.renderOutput(dataTable, element);\n",
              "          const docLink = document.createElement('div');\n",
              "          docLink.innerHTML = docLinkHtml;\n",
              "          element.appendChild(docLink);\n",
              "        }\n",
              "      </script>\n",
              "    </div>\n",
              "  </div>\n",
              "  "
            ]
          },
          "metadata": {},
          "execution_count": 2
        }
      ],
      "source": [
        "import pandas as pd \n",
        "#data = pd.read_excel('/content/hasoc_2020_de_train_new_a.xlsx', converters={'tweet_id':int})\n",
        "data = pd.read_csv(\"/content/german_dataset2019.tsv\",sep=\"\\t\")\n",
        "pd.set_option('display.max_colwidth',150)\n",
        "data.head(10)"
      ]
    },
    {
      "cell_type": "code",
      "source": [
        "data.shape"
      ],
      "metadata": {
        "colab": {
          "base_uri": "https://localhost:8080/"
        },
        "id": "UaxJGj2BJA-_",
        "outputId": "5409c1d4-6230-490c-a282-bd2dc97c2dce"
      },
      "execution_count": null,
      "outputs": [
        {
          "output_type": "execute_result",
          "data": {
            "text/plain": [
              "(3819, 4)"
            ]
          },
          "metadata": {},
          "execution_count": 3
        }
      ]
    },
    {
      "cell_type": "code",
      "source": [
        "print(data.dtypes)"
      ],
      "metadata": {
        "colab": {
          "base_uri": "https://localhost:8080/"
        },
        "id": "4F6snrckJDhs",
        "outputId": "60a8e329-2179-43fe-9af4-7859e9f8c272"
      },
      "execution_count": null,
      "outputs": [
        {
          "output_type": "stream",
          "name": "stdout",
          "text": [
            "text_id    object\n",
            "text       object\n",
            "task_1     object\n",
            "task_2     object\n",
            "dtype: object\n"
          ]
        }
      ]
    },
    {
      "cell_type": "markdown",
      "source": [
        "# Making of \"label\" Variable\n"
      ],
      "metadata": {
        "id": "kK4jE-XuJN3r"
      }
    },
    {
      "cell_type": "code",
      "source": [
        "label = data['task_1']\n",
        "label.head()"
      ],
      "metadata": {
        "colab": {
          "base_uri": "https://localhost:8080/"
        },
        "id": "8UB11BsEJF-U",
        "outputId": "4be47140-b5a7-47eb-cc14-b8e6d916707f"
      },
      "execution_count": null,
      "outputs": [
        {
          "output_type": "execute_result",
          "data": {
            "text/plain": [
              "0    NOT\n",
              "1    NOT\n",
              "2    NOT\n",
              "3    NOT\n",
              "4    NOT\n",
              "Name: task_1, dtype: object"
            ]
          },
          "metadata": {},
          "execution_count": 5
        }
      ]
    },
    {
      "cell_type": "markdown",
      "source": [
        "# Checking Dataset Balancing\n"
      ],
      "metadata": {
        "id": "HM112SzAJW-z"
      }
    },
    {
      "cell_type": "code",
      "source": [
        "print(label.value_counts())\n",
        "import matplotlib.pyplot as plt\n",
        "label.value_counts().plot(kind='bar', color='blue')"
      ],
      "metadata": {
        "colab": {
          "base_uri": "https://localhost:8080/"
        },
        "id": "wxq3PRLwJVIQ",
        "outputId": "2541b2ff-8d37-4dba-8a8b-585dc3b917d2"
      },
      "execution_count": null,
      "outputs": [
        {
          "output_type": "stream",
          "name": "stdout",
          "text": [
            "NOT    3412\n",
            "HOF     407\n",
            "Name: task_1, dtype: int64\n"
          ]
        },
        {
          "output_type": "execute_result",
          "data": {
            "text/plain": [
              "<matplotlib.axes._subplots.AxesSubplot at 0x7fb8e8e3b090>"
            ]
          },
          "metadata": {},
          "execution_count": 6
        },
        {
          "output_type": "display_data",
          "data": {
            "text/plain": [
              "<Figure size 432x288 with 1 Axes>"
            ],
            "image/png": "[encoded data removed]"
          },
          "metadata": {
            "needs_background": "light"
          }
        }
      ]
    },
    {
      "cell_type": "markdown",
      "source": [
        "# Converting label into \"0\" or \"1\"\n"
      ],
      "metadata": {
        "id": "IiBz2hcFJdIF"
      }
    },
    {
      "cell_type": "code",
      "source": [
        "import numpy as np\n",
        "classes_list = [\"HOF\",\"NOT\"]\n",
        "label_index = data['task_1'].apply(classes_list.index)\n",
        "final_label = np.asarray(label_index)\n",
        "print(final_label[:10])\n",
        "\n"
      ],
      "metadata": {
        "colab": {
          "base_uri": "https://localhost:8080/"
        },
        "id": "iaAQQh4kJZ1X",
        "outputId": "f7ff40b6-0054-4368-8b25-1150f8b28a08"
      },
      "execution_count": null,
      "outputs": [
        {
          "output_type": "stream",
          "name": "stdout",
          "text": [
            "[1 1 1 1 1 1 1 1 1 1]\n"
          ]
        }
      ]
    },
    {
      "cell_type": "code",
      "source": [
        "from keras.utils.np_utils import to_categorical\n",
        "label_twoDimension = to_categorical(final_label, num_classes=2)"
      ],
      "metadata": {
        "id": "DHcylJMvJhLu"
      },
      "execution_count": null,
      "outputs": []
    },
    {
      "cell_type": "code",
      "source": [
        "print(label_twoDimension[:10])"
      ],
      "metadata": {
        "colab": {
          "base_uri": "https://localhost:8080/"
        },
        "id": "1NGqjeVBJjbM",
        "outputId": "ef9f74b5-25e3-4c87-de6b-44e1323d4f30"
      },
      "execution_count": null,
      "outputs": [
        {
          "output_type": "stream",
          "name": "stdout",
          "text": [
            "[[0. 1.]\n",
            " [0. 1.]\n",
            " [0. 1.]\n",
            " [0. 1.]\n",
            " [0. 1.]\n",
            " [0. 1.]\n",
            " [0. 1.]\n",
            " [0. 1.]\n",
            " [0. 1.]\n",
            " [0. 1.]]\n"
          ]
        }
      ]
    },
    {
      "cell_type": "markdown",
      "source": [
        "# Making of \"text\" Variable\n"
      ],
      "metadata": {
        "id": "nqRHYUSBJl0K"
      }
    },
    {
      "cell_type": "code",
      "source": [
        "text = data['text']\n",
        "text.head(10)\n",
        "\n"
      ],
      "metadata": {
        "colab": {
          "base_uri": "https://localhost:8080/"
        },
        "id": "ZZ_FmnnqJjpU",
        "outputId": "941d3716-d4ec-4031-8664-1a9aff8a547e"
      },
      "execution_count": null,
      "outputs": [
        {
          "output_type": "execute_result",
          "data": {
            "text/plain": [
              "0                                                                           Frank Rennicke – Ich bin stolz https://t.co/Cm6TD8w1k1 https://t.co/qynXso07Zn\n",
              "1                                                                       ANSEHEN.....und danach bitte TEILEN...TEILEN....TEILEN.... https://t.co/z18lnbOWRQ\n",
              "2    #Koeln Mohamed erkennt kein deutsches Recht sondern nur die #Scharia an. Das er den Kölner Dom kaputt machen wollte, war nur ein Scherz aber wenn ...\n",
              "3    #SaudiArabien ist eine brutale islamische Diktatur und richtete kürzlich fünf Männer wegen ihre Homosexualität hin. Welche Konsequenzen hat das fü...\n",
              "4    Bundespolizei #München hat im 1. Quartal 2019 rund 3.380 illegale Einreisen registriert, die Migranten stammten v. a. aus Nigeria, Afghanistan, Se...\n",
              "5    #1EuropaFuerAlle oder wie es die #SPD heute noch bildhafteter formuliert hat:    Und willst Du nicht mein Bruder sein, so schlage ich Dir denn Sch...\n",
              "6    #Hannover: Weil ihm die Freizeitgestaltung und ihr Umgang mit Männern nicht passt, tritt und schlägt Mustafa F. (26) auf seine ehemalige -nach isl...\n",
              "7    #Deutschland 2019: Ort für die #EU-Wahlparty der #AfD wurde gerade gekündigt. Vermieter und Mieter wurden massiv von #Linksextremisten bedroht. Da...\n",
              "8    #Innsbruck: Tirolerin und Türke knacken 2018 zahlreiche Automaten bei Auto-Waschanlagen und Tankstellen, anhand dort gefundener DNA kommt heraus, ...\n",
              "9    #Wien: Vier Nigerianer bestellen teils hochpreisige Produkte unter falschen Namen, holen sie in Paketshops ab und behalten sie, ohne zu bezahlen -...\n",
              "Name: text, dtype: object"
            ]
          },
          "metadata": {},
          "execution_count": 10
        }
      ]
    },
    {
      "cell_type": "markdown",
      "source": [
        "# Dataset Pre-processing\n"
      ],
      "metadata": {
        "id": "5vgUgPviJteq"
      }
    },
    {
      "cell_type": "code",
      "source": [
        "def remove_umlaut(string):\n",
        "    \"\"\"\n",
        "    Removes umlauts from strings and replaces them with the letter+e convention\n",
        "    :param string: string to remove umlauts from\n",
        "    :return: unumlauted string\n",
        "    \"\"\"\n",
        "    u = 'ü'.encode()\n",
        "    U = 'Ü'.encode()\n",
        "    a = 'ä'.encode()\n",
        "    A = 'Ä'.encode()\n",
        "    o = 'ö'.encode()\n",
        "    O = 'Ö'.encode()\n",
        "    ss = 'ß'.encode()\n",
        "\n",
        "    string = string.encode()\n",
        "    string = string.replace(u, b'ue')\n",
        "    string = string.replace(U, b'Ue')\n",
        "    string = string.replace(a, b'ae')\n",
        "    string = string.replace(A, b'Ae')\n",
        "    string = string.replace(o, b'oe')\n",
        "    string = string.replace(O, b'Oe')\n",
        "    string = string.replace(ss, b'ss')\n",
        "\n",
        "    string = string.decode('utf-8')\n",
        "    return string"
      ],
      "metadata": {
        "id": "4FVKPz4eESnd"
      },
      "execution_count": null,
      "outputs": []
    },
    {
      "cell_type": "code",
      "source": [
        "text_wo_umlauts = text.apply(lambda x:remove_umlaut(x))\n",
        "text_wo_umlauts.head(10)"
      ],
      "metadata": {
        "colab": {
          "base_uri": "https://localhost:8080/"
        },
        "id": "gPJ8JKJvEU1i",
        "outputId": "22b54ed1-37c1-49f8-fad2-f53cfc217fca"
      },
      "execution_count": null,
      "outputs": [
        {
          "output_type": "execute_result",
          "data": {
            "text/plain": [
              "0                                                                           Frank Rennicke – Ich bin stolz https://t.co/Cm6TD8w1k1 https://t.co/qynXso07Zn\n",
              "1                                                                       ANSEHEN.....und danach bitte TEILEN...TEILEN....TEILEN.... https://t.co/z18lnbOWRQ\n",
              "2    #Koeln Mohamed erkennt kein deutsches Recht sondern nur die #Scharia an. Das er den Koelner Dom kaputt machen wollte, war nur ein Scherz aber wenn...\n",
              "3    #SaudiArabien ist eine brutale islamische Diktatur und richtete kuerzlich fuenf Maenner wegen ihre Homosexualitaet hin. Welche Konsequenzen hat da...\n",
              "4    Bundespolizei #Muenchen hat im 1. Quartal 2019 rund 3.380 illegale Einreisen registriert, die Migranten stammten v. a. aus Nigeria, Afghanistan, S...\n",
              "5    #1EuropaFuerAlle oder wie es die #SPD heute noch bildhafteter formuliert hat:    Und willst Du nicht mein Bruder sein, so schlage ich Dir denn Sch...\n",
              "6    #Hannover: Weil ihm die Freizeitgestaltung und ihr Umgang mit Maennern nicht passt, tritt und schlaegt Mustafa F. (26) auf seine ehemalige -nach i...\n",
              "7    #Deutschland 2019: Ort fuer die #EU-Wahlparty der #AfD wurde gerade gekuendigt. Vermieter und Mieter wurden massiv von #Linksextremisten bedroht. ...\n",
              "8    #Innsbruck: Tirolerin und Tuerke knacken 2018 zahlreiche Automaten bei Auto-Waschanlagen und Tankstellen, anhand dort gefundener DNA kommt heraus,...\n",
              "9    #Wien: Vier Nigerianer bestellen teils hochpreisige Produkte unter falschen Namen, holen sie in Paketshops ab und behalten sie, ohne zu bezahlen -...\n",
              "Name: text, dtype: object"
            ]
          },
          "metadata": {},
          "execution_count": 12
        }
      ]
    },
    {
      "cell_type": "code",
      "source": [
        "\n",
        "\n",
        "import re \n",
        "\n",
        "def text_clean(text):\n",
        "    ''' Pre process and convert texts to a list of words '''\n",
        "    \n",
        "    text=text.lower()\n",
        "\n",
        "    # Clean the text\n",
        "    text = re.sub(r\"[^A-Za-z0-9^,!.\\/'+-=]\", \" \", text)\n",
        "    text = re.sub('https?://\\S+|www\\.\\S+', \"\", text)\n",
        "    text = re.sub(r\"rt\", \" \", text)\n",
        "\n",
        "    return text\n",
        "\n"
      ],
      "metadata": {
        "id": "iP9R4lCkJrSn"
      },
      "execution_count": null,
      "outputs": []
    },
    {
      "cell_type": "code",
      "source": [],
      "metadata": {
        "id": "t6qZJrZLENzv"
      },
      "execution_count": null,
      "outputs": []
    },
    {
      "cell_type": "code",
      "source": [
        "clean_text = text_wo_umlauts.apply(lambda x:text_clean(x))"
      ],
      "metadata": {
        "id": "btvahRPaJwkh"
      },
      "execution_count": null,
      "outputs": []
    },
    {
      "cell_type": "code",
      "source": [
        "clean_text.head(10)"
      ],
      "metadata": {
        "colab": {
          "base_uri": "https://localhost:8080/"
        },
        "id": "rVm6XFqoJyPl",
        "outputId": "c6e048d0-2c6e-4a45-97f4-9f72f3037fa7"
      },
      "execution_count": null,
      "outputs": [
        {
          "output_type": "execute_result",
          "data": {
            "text/plain": [
              "0                                                                                                                         frank rennicke   ich bin stolz  \n",
              "1                                                                                              ansehen.....und danach bitte teilen...teilen....teilen.... \n",
              "2     koeln mohamed erkennt kein deutsches recht sondern nur die  scharia an. das er den koelner dom kaputt machen wollte, war nur ein scherz aber wenn...\n",
              "3     saudiarabien ist eine brutale islamische diktatur und richtete kuerzlich fuenf maenner wegen ihre homosexualitaet hin. welche konsequenzen hat da...\n",
              "4    bundespolizei  muenchen hat im 1. qua al 2019 rund 3.380 illegale einreisen registrie , die migranten stammten v. a. aus nigeria, afghanistan, ser...\n",
              "5     1europafueralle oder wie es die  spd heute noch bildhafteter formulie  hat:    und willst du nicht mein bruder sein, so schlage ich dir denn scha...\n",
              "6     hannover: weil ihm die freizeitgestaltung und ihr umgang mit maennern nicht passt, tritt und schlaegt mustafa f.  26  auf seine ehemalige -nach i...\n",
              "7     deutschland 2019: o  fuer die  eu-wahlpa y der  afd wurde gerade gekuendigt. vermieter und mieter wurden massiv von  linksextremisten bedroht. da...\n",
              "8     innsbruck: tirolerin und tuerke knacken 2018 zahlreiche automaten bei auto-waschanlagen und tankstellen, anhand do  gefundener dna kommt heraus, ...\n",
              "9     wien: vier nigerianer bestellen teils hochpreisige produkte unter falschen namen, holen sie in paketshops ab und behalten sie, ohne zu bezahlen -...\n",
              "Name: text, dtype: object"
            ]
          },
          "metadata": {},
          "execution_count": 15
        }
      ]
    },
    {
      "cell_type": "markdown",
      "source": [
        "# Removing stopwords\n"
      ],
      "metadata": {
        "id": "Cr_9fbmQJ14E"
      }
    },
    {
      "cell_type": "code",
      "source": [
        "import nltk\n",
        "from nltk.corpus import stopwords\n",
        "nltk.download('stopwords')\n",
        "def stop_words_removal(text1):\n",
        "    text1=[w for w in  text1.split(\" \")  if w not in stopwords.words('german')]\n",
        "    return \" \".join(text1)"
      ],
      "metadata": {
        "colab": {
          "base_uri": "https://localhost:8080/"
        },
        "id": "fnKAVUGKJzkf",
        "outputId": "31ba2951-9bbc-4442-ba41-c041a590d86a"
      },
      "execution_count": null,
      "outputs": [
        {
          "output_type": "stream",
          "name": "stderr",
          "text": [
            "[nltk_data] Downloading package stopwords to /root/nltk_data...\n",
            "[nltk_data]   Unzipping corpora/stopwords.zip.\n"
          ]
        }
      ]
    },
    {
      "cell_type": "code",
      "source": [
        "clean_text_ns=clean_text.apply(lambda x: stop_words_removal(x))"
      ],
      "metadata": {
        "id": "EAe2hR7jJ5R8"
      },
      "execution_count": null,
      "outputs": []
    },
    {
      "cell_type": "code",
      "source": [
        "print(clean_text_ns.head(10))"
      ],
      "metadata": {
        "colab": {
          "base_uri": "https://localhost:8080/"
        },
        "id": "hMapIVGXJ7Cf",
        "outputId": "9b140e56-8824-4ac4-b689-c09b2754ef18"
      },
      "execution_count": null,
      "outputs": [
        {
          "output_type": "stream",
          "name": "stdout",
          "text": [
            "0                                                                                                                                 frank rennicke   stolz  \n",
            "1                                                                                              ansehen.....und danach bitte teilen...teilen....teilen.... \n",
            "2                                     koeln mohamed erkennt deutsches recht  scharia an. koelner dom kaputt wollte, scherz knast rauskommt, mitleid mehr. \n",
            "3     saudiarabien brutale islamische diktatur richtete kuerzlich fuenf maenner wegen homosexualitaet hin. konsequenzen fuer verhaeltnis saudi-arabien ...\n",
            "4    bundespolizei  muenchen 1. qua al 2019 rund 3.380 illegale einreisen registrie , migranten stammten v. a. nigeria, afghanistan, serbien, albanien ...\n",
            "5     1europafueralle  spd heute bildhafteter formulie  hat:    willst bruder sein, schlage schaedel ein.     jusos  nospd  baseballschlaeger   niewied...\n",
            "6     hannover: freizeitgestaltung umgang maennern passt, tritt schlaegt mustafa f.  26  ehemalige -nach islamischem recht- ehefrau alina  23  ein, ras...\n",
            "7     deutschland 2019: o  fuer  eu-wahlpa y  afd wurde gerade gekuendigt. vermieter mieter wurden massiv  linksextremisten bedroht. gebaeude wurde ber...\n",
            "8     innsbruck: tirolerin tuerke knacken 2018 zahlreiche automaten auto-waschanlagen tankstellen, anhand do  gefundener dna kommt heraus, tuerke fuer ...\n",
            "9     wien: vier nigerianer bestellen teils hochpreisige produkte falschen namen, holen paketshops ab behalten sie, bezahlen - afrikaner 250 teils orig...\n",
            "Name: text, dtype: object\n"
          ]
        }
      ]
    },
    {
      "cell_type": "markdown",
      "source": [
        "# Lemmatization"
      ],
      "metadata": {
        "id": "UbNspWraJ-a5"
      }
    },
    {
      "cell_type": "markdown",
      "source": [
        "# Stemming"
      ],
      "metadata": {
        "id": "cGRUIHNgKB8P"
      }
    },
    {
      "cell_type": "code",
      "source": [
        "\n",
        "\n",
        "# Stemming\n",
        "from nltk.stem import SnowballStemmer \n",
        "stemmer = SnowballStemmer(\"german\")\n",
        "\n",
        "def word_stemmer(text):\n",
        "    stem_text = \"\".join([stemmer.stem(i) for i in text])\n",
        "    return stem_text\n",
        "\n"
      ],
      "metadata": {
        "id": "xzacVq1jJ8ru"
      },
      "execution_count": null,
      "outputs": []
    },
    {
      "cell_type": "code",
      "source": [
        "clean_text_stem = clean_text_ns.apply(lambda x : word_stemmer(x))"
      ],
      "metadata": {
        "id": "gLvtC-DlKFJ3"
      },
      "execution_count": null,
      "outputs": []
    },
    {
      "cell_type": "code",
      "source": [
        "print(clean_text_stem.head())"
      ],
      "metadata": {
        "colab": {
          "base_uri": "https://localhost:8080/"
        },
        "id": "hLTYkzd6KGpw",
        "outputId": "90f48fff-a271-4a07-a650-ceb161eac53d"
      },
      "execution_count": null,
      "outputs": [
        {
          "output_type": "stream",
          "name": "stdout",
          "text": [
            "0                                                                                                                                 frank rennicke   stolz  \n",
            "1                                                                                              ansehen.....und danach bitte teilen...teilen....teilen.... \n",
            "2                                     koeln mohamed erkennt deutsches recht  scharia an. koelner dom kaputt wollte, scherz knast rauskommt, mitleid mehr. \n",
            "3     saudiarabien brutale islamische diktatur richtete kuerzlich fuenf maenner wegen homosexualitaet hin. konsequenzen fuer verhaeltnis saudi-arabien ...\n",
            "4    bundespolizei  muenchen 1. qua al 2019 rund 3.380 illegale einreisen registrie , migranten stammten v. a. nigeria, afghanistan, serbien, albanien ...\n",
            "Name: text, dtype: object\n"
          ]
        }
      ]
    },
    {
      "cell_type": "markdown",
      "source": [
        "# Tokenization using \"keras\"\n"
      ],
      "metadata": {
        "id": "aqZfKW9_KId4"
      }
    },
    {
      "cell_type": "code",
      "source": [
        "import keras\n",
        "import tensorflow\n",
        "from keras.preprocessing.text import Tokenizer\n",
        "tok_all = Tokenizer(filters='!\"#$%&\\'()*+,-./:;<=>?@[\\\\]^_`{|}~', lower=True, char_level = False)\n",
        "tok_all.fit_on_texts(clean_text_stem)"
      ],
      "metadata": {
        "id": "64oQb-b9KL7d"
      },
      "execution_count": null,
      "outputs": []
    },
    {
      "cell_type": "markdown",
      "source": [
        "# Making Vocab for words\n"
      ],
      "metadata": {
        "id": "Azliz45-KOH2"
      }
    },
    {
      "cell_type": "code",
      "source": [
        "vocabulary_all = len(tok_all.word_counts)\n",
        "print(vocabulary_all)"
      ],
      "metadata": {
        "colab": {
          "base_uri": "https://localhost:8080/"
        },
        "id": "kjRctAdKKNqA",
        "outputId": "da468bfa-e36d-4b43-aa7b-8314c25f6e02"
      },
      "execution_count": null,
      "outputs": [
        {
          "output_type": "stream",
          "name": "stdout",
          "text": [
            "16849\n"
          ]
        }
      ]
    },
    {
      "cell_type": "code",
      "source": [
        "\n",
        "\n",
        "l = tok_all.word_index\n",
        "print(l)\n",
        "\n"
      ],
      "metadata": {
        "colab": {
          "base_uri": "https://localhost:8080/"
        },
        "id": "ruZahltoKSBk",
        "outputId": "215b27f9-41e6-4b6b-9f42-421809d3410a"
      },
      "execution_count": null,
      "outputs": [
        {
          "output_type": "stream",
          "name": "stdout",
          "text": [
            "{'fuer': 1, 'afd': 2, 'deutschland': 3, 'mal': 4, 'mehr': 5, 'geld': 6, 'e': 7, 'ha': 8, 'ueber': 9, 'schon': 10, 'ja': 11, 'immer': 12, 'spd': 13, 'gruenen': 14, 'wer': 15, 'geht': 16, 'ungebeten1': 17, 'ist': 18, 'en': 19, 'nicht': 20, 'polizei': 21, 'merkel': 22, 'gibt': 23, '1': 24, 'amp': 25, 'pa': 26, 'heute': 27, '2': 28, 'wurde': 29, 'rebecca': 30, 'werden': 31, 'warum': 32, 'cdu': 33, 'u': 34, 'via': 35, 'land': 36, 'eu': 37, 'berlin': 38, 'realjohr': 39, 'menschen': 40, 'ab': 41, 'deutsche': 42, 'frau': 43, 'gruene': 44, 's': 45, 'junge': 46, 'haben': 47, 'hat': 48, 'ei': 49, 'a': 50, 'koennen': 51, 'beim': 52, 'endlich': 53, 'fluechtlinge': 54, 'kommt': 55, 'findbecci': 56, 'ganz': 57, 'gut': 58, 'welt': 59, 'leben': 60, 'jahre': 61, 'europa': 62, 'wird': 63, 'macht': 64, 'finjafinte': 65, 'sein': 66, 'seit': 67, 'jahren': 68, 'waere': 69, 'muessen': 70, 'die': 71, 'viele': 72, 'bitte': 73, 'wegen': 74, '2019': 75, 'an': 76, 'mdl': 77, 'deutschen': 78, 'mann': 79, 'wohl': 80, 'medien': 81, 'einfach': 82, 'd': 83, 'gt': 84, 've': 85, 'uwe': 86, 'danke': 87, 'das': 88, 'dafuer': 89, 'bild': 90, 'kinder': 91, 'sagen': 92, 'erst': 93, '000': 94, 'waehlen': 95, 'leute': 96, 'neue': 97, '3': 98, 'migranten': 99, 'frauen': 100, 'euro': 101, 'wuerde': 102, 'wahl': 103, 'genau': 104, 'do': 105, 'islam': 106, 'regierung': 107, 'aus': 108, 'zwei': 109, '5': 110, 'recht': 111, 'ein': 112, 'taeter': 113, 'wissen': 114, 'auf': 115, 'gar': 116, 'sollen': 117, 'nie': 118, 'sind': 119, 'annewill': 120, 'dabei': 121, 'lassen': 122, 'eien': 123, 'zeit': 124, 'na': 125, 'so': 126, 'linke': 127, 'maedchen': 128, 'europawahl2019': 129, 'gehen': 130, 'video': 131, 'gehoe': 132, 'tag': 133, 'wirklich': 134, 'liebe': 135, 'gerade': 136, 'sagt': 137, 'eigentlich': 138, 'kommen': 139, '4': 140, 'twitter': 141, 'maenner': 142, 'zurueck': 143, 'eigenen': 144, 'bereits': 145, 'jahr': 146, 'bundestag': 147, 'politik': 148, 'es': 149, 'sehen': 150, 'strache': 151, 'davon': 152, 'tun': 153, 'buerger': 154, 'fast': 155, 'berliner': 156, 'o': 157, 'wurden': 158, 'ende': 159, 'statt': 160, 'zukunft': 161, 'darf': 162, 'ich': 163, 'schwager': 164, 'zdf': 165, 'haette': 166, '9': 167, 'linken': 168, 'greta': 169, 'richtig': 170, 'koennte': 171, 'vor': 172, 'steht': 173, 'politiker': 174, 'laesst': 175, 'gemacht': 176, 'auch': 177, 'ganze': 178, 'zahlen': 179, 'sieht': 180, 'sucht': 181, 'geben': 182, 'kann': 183, '10': 184, '11': 185, 'laut': 186, 'nein': 187, 'herr': 188, '20': 189, 'gute': 190, 'denen': 191, 'ep2019': 192, 'waehler': 193, 'zeigt': 194, 'we': 195, 'sogar': 196, 'italien': 197, 'wollen': 198, 'vielleicht': 199, 'sachsen': 200, 'mag': 201, 'klima': 202, 'nix': 203, 'gesehen': 204, '0': 205, 'eben': 206, 'futschi': 207, 'und': 208, 'jaehrige': 209, 'sei': 210, 'lange': 211, 'demokratie': 212, 'forde': 213, 'klar': 214, 'nazi': 215, 'gruen': 216, 'jemand': 217, 'trump': 218, 'oesterreich': 219, 'blondjedi': 220, 'meinung': 221, 'sie': 222, 'opfer': 223, 'will': 224, 'besser': 225, 'tage': 226, '30': 227, 'drei': 228, 'problem': 229, 'dank': 230, 'mutter': 231, 'leider': 232, '6': 233, 'wir': 234, 'schoen': 235, 'jaehrigen': 236, 'moechte': 237, 'waehrend': 238, 'sich': 239, 'kind': 240, 'thema': 241, 'frage': 242, 'nazis': 243, 'weiss': 244, 'duerfen': 245, 'ach': 246, 'meuthen': 247, 'letzten': 248, 'natuerlich': 249, '50': 250, 'kopf': 251, 'sicherheit': 252, 'muslime': 253, 'chemnitz': 254, 'passie': 255, 'rot': 256, 'bessermenschen': 257, 'nehmen': 258, '7': 259, 'syrer': 260, 'reden': 261, 'laeuft': 262, 'messer': 263, 'finden': 264, 'polizisten': 265, 'fall': 266, 'antwo': 267, 'auto': 268, 'lieber': 269, 'vater': 270, 'was': 271, 'etwa': 272, 'sollten': 273, 'findet': 274, 'frei': 275, 'de': 276, 'deren': 277, 'erfolg': 278, 'alle': 279, '8': 280, 'links': 281, 'gleich': 282, 'wi': 283, 'millionen': 284, 'ne': 285, 'bekommen': 286, 'sofo': 287, 'nur': 288, 'machen': 289, 'mitarbeiter': 290, 'presse': 291, 'aber': 292, 'freeflorian': 293, 'mit': 294, 'unserer': 295, 'verbieten': 296, 'uebrigens': 297, 'asylbewerber': 298, 'brauchen': 299, 'fridaysforfuture': 300, 'tv': 301, 'europawahl': 302, 'afrika': 303, 'tweets': 304, 'kaum': 305, 'melden': 306, 'online': 307, 'n': 308, 'bundesregierung': 309, 'gefunden': 310, '15': 311, 'hetze': 312, 'fluechtling': 313, 'vergewaltigt': 314, 'bleibt': 315, 'weniger': 316, 'stadt': 317, 'halten': 318, 'afdwaehlen': 319, 'lesen': 320, 'dumm': 321, 'angriff': 322, 'et': 323, 'sowas': 324, 'niemand': 325, 'egal': 326, 'hallo': 327, 'weg': 328, 'grund': 329, 'stehen': 330, 'fpoe': 331, 'bleiben': 332, 'besonders': 333, 'familie': 334, 'bald': 335, 'gott': 336, 'bestimmt': 337, 'teil': 338, 'contra': 339, 'bzw': 340, 'per': 341, 'bremen': 342, 'finde': 343, 'wahlen': 344, '100': 345, 'juni': 346, 'arbeit': 347, 'ddr': 348, 'zusammen': 349, 'praesident': 350, '16': 351, 'nrw': 352, 'deshalb': 353, 'wann': 354, 'volk': 355, '14': 356, 'oft': 357, 'tweet': 358, 'oh': 359, 'gewalt': 360, 'haetten': 361, 'co2': 362, 'mai': 363, 'm': 364, 'voellig': 365, 'essen': 366, 'tut': 367, 'schweden': 368, 'muenchen': 369, 'passt': 370, 'autos': 371, 'ergebnis': 372, 'rechts': 373, 'goerlitz': 374, 'gesicht': 375, 'gab': 376, 'haus': 377, 'schaft': 378, '19': 379, 'besten': 380, 'ig': 381, 'paar': 382, 'luegen': 383, 'angst': 384, 'ard': 385, 'antifa': 386, 'k': 387, 'scheint': 388, 'haelt': 389, '2018': 390, 'strasse': 391, '2015': 392, 'deutsch': 393, 'erklae': 394, 'worden': 395, 'ueberhaupt': 396, 'fraktion': 397, 'morgen': 398, 'schule': 399, 'freiheit': 400, 'klimawandel': 401, 'verletzt': 402, 'i': 403, 'hoch': 404, 'bekommt': 405, 'grosse': 406, 'nennt': 407, 'heisst': 408, 'angeblich': 409, 'sicher': 410, 'zu': 411, 'rechte': 412, 'lachen': 413, 'bayern': 414, 'trotzdem': 415, 'asyl': 416, 'joerg': 417, 'euwahl': 418, 'kraft': 419, 'braucht': 420, 'wuerden': 421, 'alte': 422, 'koeln': 423, '26': 424, 'gericht': 425, 'propaganda': 426, 'deutscher': 427, 'kurz': 428, 'deutschlands': 429, 'uhr': 430, 'jungen': 431, 'waehlt': 432, 'der': 433, 'los': 434, 'lebensformation': 435, 'ikel': 436, 'hass': 437, 'obwohl': 438, '17': 439, 'wa': 440, 'gestern': 441, 'eigene': 442, 'z': 443, 'moslems': 444, 'chebli': 445, 'youtube': 446, 'hoe': 447, 'usa': 448, 'suchen': 449, 'guten': 450, 'kritik': 451, 'dr': 452, 'fragen': 453, 'raus': 454, 'prozent': 455, 'darum': 456, 'ekelwilfred': 457, 'illegale': 458, 'bus': 459, 'allahu': 460, 'akbar': 461, '24': 462, 'politische': 463, 'staat': 464, 'seid': 465, 'daran': 466, 'politischen': 467, '12': 468, 'dessau': 469, 'altpa': 470, 'trotz': 471, 'da': 472, 'china': 473, '18': 474, 'us': 475, 'migration': 476, 'darauf': 477, 'deutlich': 478, 'meinungsfreiheit': 479, 'kosten': 480, 'setzt': 481, 'spiegel': 482, 'blockieren': 483, 'sozialismus': 484, 'angela': 485, 'gez': 486, 'genug': 487, 'ersten': 488, 'stimmt': 489, 'wie': 490, 'faellt': 491, 'unfassbar': 492, 'gewaehlt': 493, 'migrationspakt': 494, 'mmnews': 495, 'nachdem': 496, 'offenbar': 497, 'schlaegt': 498, 'vier': 499, 'gilt': 500, 'folge': 501, 'brandenburg': 502, 'eher': 503, '13': 504, 'amt': 505, 'denken': 506, 'spielen': 507, 'soll': 508, 'konnte': 509, 'ex': 510, 'clans': 511, 'spaeter': 512, 'fest': 513, 'facebook': 514, 'in': 515, 'falsch': 516, 'weder': 517, 'schuetzen': 518, 'schuld': 519, 'b': 520, 'war': 521, 'grenzen': 522, 'stegner': 523, 'rein': 524, 'laender': 525, 'mio': 526, 'hamburg': 527, 'stellen': 528, 'news': 529, 'dame': 530, 'milliarden': 531, 'tod': 532, 'wuensche': 533, 'neues': 534, 'nimmt': 535, 'kanzler': 536, 'gegenueber': 537, 'neuwahlen': 538, 'laendern': 539, 'parlament': 540, 'halt': 541, 'bescheid': 542, 'ef': 543, 'schwagerwars': 544, 'berlindow': 545, 'stolz': 546, 'rund': 547, 'je': 548, 'vergewaltigung': 549, 'gestellt': 550, 'platz': 551, 'richtung': 552, 'igen': 553, 'familien': 554, 'echt': 555, 'zeiten': 556, 'heimat': 557, 'jaehriger': 558, 'fallen': 559, 'wahrscheinlich': 560, 'antisemitismus': 561, 'naechste': 562, 'daniel': 563, 'erhalten': 564, 'lt': 565, 'frueher': 566, 'innenminister': 567, 'ueberall': 568, 'mittlerweile': 569, 'zerstoe': 570, 'kultur': 571, 'super': 572, 'groesste': 573, 'kleine': 574, 'akk': 575, 'tagen': 576, 'toleranz': 577, 'april': 578, 'eh': 579, 'internet': 580, 'verlassen': 581, 'verloren': 582, 'arbeiten': 583, 'woche': 584, 'tuerken': 585, 'wahrheit': 586, 'kleinen': 587, 'tot': 588, 'luebcke': 589, 'verdient': 590, 'glueck': 591, 'letzte': 592, 'rufen': 593, 'probleme': 594, 'nahles': 595, 'gerne': 596, 'am': 597, 'foto': 598, 'gruppe': 599, 'dwn': 600, 'korrektheiten': 601, 'danach': 602, 'teilen': 603, 'tritt': 604, 'wien': 605, 'mdr': 606, 'is': 607, 'aendern': 608, 'expe': 609, 'nichts': 610, 'lang': 611, 'schulen': 612, 'weit': 613, 'spo': 614, 'fahren': 615, 'hollywood': 616, 'rosslau': 617, 'richtigen': 618, 'heikomaas': 619, 'hunde': 620, 'er': 621, 'funktionie': 622, 'moeglich': 623, 'stunden': 624, 'fueh': 625, 'meisten': 626, 'kriminelle': 627, 'zerstoeren': 628, 'religion': 629, 'waffen': 630, 'weiter': 631, 'langsam': 632, 'schlecht': 633, 'gesper': 634, 'habeck': 635, 'toll': 636, 'bringen': 637, 'loeschung': 638, 'dran': 639, 'wieder': 640, '40': 641, 'irgendwie': 642, 'sorry': 643, 'oeffentlich': 644, 'framing': 645, 'voll': 646, 'person': 647, 'vielen': 648, 'staerkste': 649, 'osten': 650, 'strachevideo': 651, 'frankfu': 652, 'pro': 653, 'liegt': 654, 'verein': 655, 'personen': 656, 'retten': 657, '2017': 658, 'bund': 659, 'her': 660, 'habe': 661, 'wenn': 662, 'anschliessend': 663, 'sed': 664, 'umwelt': 665, 'sexuell': 666, 'nikolai': 667, 'hetzlichendank': 668, 'habt': 669, 'gesagt': 670, 'nennen': 671, 'l': 672, 'paulehasi13': 673, 'od': 674, 'deutsches': 675, 'scharia': 676, 'bahn': 677, 'nach': 678, 'bedroht': 679, 'darueber': 680, 'kaempfen': 681, 'eilen': 682, 'bevor': 683, 'realitaet': 684, 'sonntag': 685, 'veru': 686, 'fordern': 687, 'pegasia111': 688, 'inzwischen': 689, 'polizeiberlin': 690, 'schreiben': 691, 'repo': 692, 'vergessen': 693, 'feiern': 694, 'gebu': 695, 'krieg': 696, 'interview': 697, 'seite': 698, 'schutz': 699, 'sollte': 700, 'fachkraefte': 701, '70': 702, 'dachte': 703, 'zeigen': 704, 'weitere': 705, 'kennen': 706, 'notredame': 707, 'csu': 708, 'schliessen': 709, 'schande': 710, 'jugend': 711, 'verbot': 712, 'mir': 713, 'gg': 714, 'journalismus': 715, 'muesste': 716, 'verstehen': 717, 'selber': 718, 'naechsten': 719, 'themen': 720, 'frankreich': 721, 'auslaender': 722, 'neu': 723, 'michael': 724, 'for': 725, 'fussball': 726, 'fe': 727, 'mitglied': 728, 'schwer': 729, 'noch': 730, 'tagesschau': 731, 'ziehen': 732, 'ging': 733, 'ahnung': 734, 'sehe': 735, 'instagram': 736, 'wirkt': 737, 'no': 738, 'doener': 739, 'jf': 740, 'tichy': 741, 'birdie51411736': 742, 'euelections2019': 743, 'hi': 744, '8694sundance': 745, 'justnobody2018': 746, 'v': 747, 'verantwo': 748, 'falschen': 749, 'namen': 750, 'boden': 751, 'umfrage': 752, 'immerhin': 753, 'terror': 754, 'man': 755, 'stellt': 756, 'gesetzt': 757, 'klasse': 758, 'wenigstens': 759, 'quelle': 760, 'warnt': 761, 'jugendliche': 762, 'schlagen': 763, 'eltern': 764, 'rauen': 765, 'ruhe': 766, 'idee': 767, 'steuern': 768, 'mitglieder': 769, 'luft': 770, 'kriminalitaet': 771, 'gesucht': 772, 'seehofer': 773, 'christen': 774, 'ernst': 775, 'geworden': 776, 'allein': 777, 'unterwegs': 778, 'stando': 779, 'ruft': 780, 'fff': 781, 'pfingsten': 782, 'einsatz': 783, 'clan': 784, 'h': 785, 'mehrere': 786, 'vermutlich': 787, 'kuehne': 788, 'traegt': 789, 'rechtsstaat': 790, 'lasst': 791, 'total': 792, 'och': 793, 'tatsaechlich': 794, 'koennten': 795, 'erste': 796, 'ma': 797, 'staaten': 798, 'denke': 799, 'tja': 800, 'kennt': 801, 'fressen': 802, 'oeffentlichkeit': 803, 'hoffentlich': 804, 'spass': 805, 'fo': 806, 'holt': 807, 'toeten': 808, 'zerstoerung': 809, 'maassen': 810, 'rassismus': 811, 'brexit': 812, 'gesetz': 813, 'grossen': 814, 'muss': 815, 'schaden': 816, 'fdp': 817, 'dagegen': 818, 'putin': 819, 'compact': 820, 'respekt': 821, 'verfassungsschutz': 822, 'glauben': 823, 'beste': 824, 'glaube': 825, 'ichbinkoelnerin': 826, 'lebenden': 827, 'netz': 828, 'folgen': 829, 'job': 830, 'bloed': 831, 'daenemark': 832, '5g': 833, 'unzensurie': 834, 'herumsurfen': 835, 'kam': 836, 'vie': 837, 'el': 838, 'umgang': 839, 'tat': 840, 'y': 841, 'gebracht': 842, 'interessant': 843, 'fluechtlingen': 844, 'kirchen': 845, 'ermittelt': 846, 'groko': 847, 'drauf': 848, 'richtige': 849, 'schaffen': 850, 'blick': 851, 'schueler': 852, 'juden': 853, 'treten': 854, 'buergermeister': 855, 'salvini': 856, 'niger': 857, 'israel': 858, 'berichtet': 859, 'straftaten': 860, 'kontrolle': 861, 'sitzt': 862, 'schoene': 863, 'gender': 864, 'geschichte': 865, 'falls': 866, 'genommen': 867, 'islamischen': 868, 'westen': 869, 'macron': 870, 'ca': 871, '60': 872, 'kopftuch': 873, 'beitrag': 874, 'haft': 875, 'dazu': 876, 'schlimm': 877, 'ganzen': 878, 'vorher': 879, 'hilft': 880, 'kanzlerin': 881, 'taeglich': 882, 'alten': 883, 'einzige': 884, 'oder': 885, 'voegel': 886, 'niemals': 887, 'hetzjagd': 888, 'rede': 889, 'notre': 890, 'schwester': 891, 'falsche': 892, 'rechtspopulisten': 893, 'hier': 894, 'stark': 895, '200': 896, 'genauso': 897, 'gegner': 898, 'landes': 899, 'merkels': 900, 'wahr': 901, 'reihe': 902, 'anti': 903, 't': 904, 'spricht': 905, 'offensichtlich': 906, 'voran': 907, 'wichtig': 908, 'setzen': 909, 'jetzt': 910, 'heuchler': 911, 'natur': 912, 'gesellschaft': 913, 'nacht': 914, 'rente': 915, 'ralf': 916, 'heutigen': 917, 'neuer': 918, 'maltekaufmann': 919, 'erlaubt': 920, 'beispiel': 921, 'normal': 922, 'steinbach': 923, 'noafd': 924, 'glaubt': 925, 'by': 926, 'betroffen': 927, 'alias': 928, 'wilberg': 929, 'burger': 930, 'sperrung': 931, 'frank': 932, 'ansehen': 933, 'fuenf': 934, 'saudi': 935, 'tuerkei': 936, 'maennern': 937, '23': 938, 'massiv': 939, 'wochenende': 940, 'afrikaner': 941, 'gekommen': 942, 'unterschied': 943, 'brutal': 944, 'mehrfach': 945, 'koran': 946, 'minuten': 947, 'ausser': 948, 'leid': 949, 'oeffentlichen': 950, 'allerdings': 951, 'kaufen': 952, 'sorgen': 953, 'selbst': 954, 'verbotspa': 955, 'abgeschoben': 956, 'missbrauch': 957, 'ausserdem': 958, 'weltweit': 959, 'tote': 960, 'geschrieben': 961, 'informationen': 962, 'krank': 963, 'fuehren': 964, 'videos': 965, 'union': 966, 'nzz': 967, 'uni': 968, 'euch': 969, 'klimaschutz': 970, 'wohnung': 971, 'schweiz': 972, 'denkt': 973, 'werfen': 974, 'handelt': 975, 'naja': 976, 'freien': 977, 'mainz': 978, 'drogen': 979, 'sawsanchebli': 980, 'c': 981, 'abschaffen': 982, 'erklaeren': 983, 'etc': 984, 'freuen': 985, 'werbung': 986, 'ramadan': 987, 'bisher': 988, 'kritisie': 989, 'maerchen': 990, 'boese': 991, 'abgeordnete': 992, 'schlimmer': 993, 'bezahlt': 994, '500': 995, 'tato': 996, 'gross': 997, 'zeitung': 998, 'bezeichnet': 999, 'zahl': 1000, 'szene': 1001, '27': 1002, '05': 1003, 'staatsanwaltschaft': 1004, 'typ': 1005, 'belaestigt': 1006, 'juli': 1007, 'schafft': 1008, 'sowie': 1009, 'kindern': 1010, 'traurig': 1011, 'schreibt': 1012, 'glueckwunsch': 1013, 'schiessen': 1014, 'feie': 1015, 'europas': 1016, 'eilt': 1017, 'gleiche': 1018, 'steckt': 1019, 'chef': 1020, 'stbrandner': 1021, 'verhalten': 1022, 'afdwirkt': 1023, 'russland': 1024, 'multikulti': 1025, 'himmel': 1026, 'politikern': 1027, 'wen': 1028, 'rheinland': 1029, 'pfalz': 1030, 'journalisten': 1031, 'regeln': 1032, 'aussage': 1033, 'aktuell': 1034, 'islamisierung': 1035, 'wohnungen': 1036, 'verboten': 1037, 'spaet': 1038, 'jahres': 1039, 'gedanken': 1040, 'idioten': 1041, 'treffen': 1042, 'kannst': 1043, 'oeko': 1044, 'hals': 1045, 'nachrichten': 1046, 'tages': 1047, 'wenig': 1048, 'geloescht': 1049, 'ka': 1050, 'bevoelkerung': 1051, 'tiere': 1052, 'cc': 1053, 'verschwinden': 1054, 'wiltewka': 1055, 'wilke': 1056, 'georggukla': 1057, 'haraldbecker80': 1058, 'willnurschreibn': 1059, '66norweger66': 1060, 'rolandtichy': 1061, 'gudrunbecker11': 1062, 'puffyka81': 1063, 'noctidenktnach': 1064, 'knast': 1065, 'islamische': 1066, 'diktatur': 1067, 'arabien': 1068, 'heraus': 1069, 'bezahlen': 1070, 'attacke': 1071, 'kriminellen': 1072, '80': 1073, 'zdfheute': 1074, 'vergleich': 1075, 'schweigt': 1076, 'schritt': 1077, 'spiegelonline': 1078, 'bildung': 1079, 'cohn': 1080, 'bendit': 1081, 'veranstaltung': 1082, '1000': 1083, 'erreicht': 1084, 'missbraucht': 1085, 'ob': 1086, 'kandidaten': 1087, '25': 1088, 'rolle': 1089, 'fakten': 1090, 'innerhalb': 1091, 'demo': 1092, 'verhaftet': 1093, 'refugeeswelcome': 1094, 'ideologie': 1095, 'mitte': 1096, 'reicht': 1097, 'zug': 1098, 'integration': 1099, 'regensburg': 1100, 'monat': 1101, 'mehreren': 1102, 'zieht': 1103, 'oben': 1104, 'hause': 1105, 'droht': 1106, 'hilfe': 1107, 'naechstes': 1108, 'schwachsinn': 1109, 'vielfalt': 1110, 'augen': 1111, 'kampf': 1112, 'dumme': 1113, 'plan': 1114, 'kramp': 1115, 'lernen': 1116, 'berichterstattung': 1117, 'wuenschen': 1118, 'system': 1119, 'hoechsten': 1120, 'wohnen': 1121, 'sau': 1122, 'papa': 1123, 'projekt': 1124, 'ordnung': 1125, 'hintergrund': 1126, 'schweigen': 1127, 'fehlen': 1128, '28': 1129, 'erwa': 1130, 'gehtwaehlen': 1131, 'aktivisten': 1132, 'unten': 1133, 'park': 1134, 'schoenen': 1135, 'lustig': 1136, 'scholz': 1137, 'aufgrund': 1138, 'lese': 1139, 'abschiebungen': 1140, 'tolle': 1141, 'getoetet': 1142, 'froh': 1143, 'einzelfall': 1144, 'gold': 1145, 'wahnsinn': 1146, 'bieten': 1147, 'relotius': 1148, 'siehe': 1149, 'donald': 1150, 'bekannt': 1151, 'kampagne': 1152, 'boehmermann': 1153, 'grundgesetz': 1154, 'halte': 1155, 'grosser': 1156, '21': 1157, '04': 1158, 'wahlkampf': 1159, 'passanten': 1160, 'stoppen': 1161, 'kommentar': 1162, 'allah': 1163, 'faeh': 1164, 'beschaeftigt': 1165, 'roth': 1166, 'also': 1167, 'wirft': 1168, 'r': 1169, '29': 1170, 'wetter': 1171, 'vergangenen': 1172, 'dann': 1173, 'bilder': 1174, 'aeh': 1175, 'alter': 1176, 'ibizagate': 1177, 'punkt': 1178, 'all': 1179, 'ritt': 1180, 'rechten': 1181, 'erinne': 1182, 'account': 1183, 'fehler': 1184, 'anfang': 1185, 'richter': 1186, 'redaktion': 1187, 'laden': 1188, 'gescheite': 1189, 'neuen': 1190, 'wahren': 1191, 'ueberraschung': 1192, 'koennt': 1193, 'kern': 1194, 'programm': 1195, 'verlieren': 1196, 'araber': 1197, 'unternehmen': 1198, 'dringend': 1199, 'mitten': 1200, 'gemeinsam': 1201, 'sprache': 1202, 'stand': 1203, 'ziel': 1204, 'grad': 1205, 'klimahysterie': 1206, 'scheinbar': 1207, '22': 1208, 'globalen': 1209, 'ihr': 1210, 'beide': 1211, 'greifen': 1212, 'p': 1213, 'veroeffentlicht': 1214, 'zensur': 1215, 'dresden': 1216, 'gespraech': 1217, 'tim': 1218, 'ploetzlich': 1219, 'euwahl19': 1220, 'sebastiankurz': 1221, 'gruener': 1222, 'freund': 1223, 'hatte': 1224, 'manchmal': 1225, 'ostdeutschland': 1226, 'steinhoefel': 1227, 'germany': 1228, 'pack': 1229, 'walter': 1230, 'the': 1231, 'hirn': 1232, 'more': 1233, 'schnell': 1234, 'pleite': 1235, 'berlinsevent': 1236, 'professorin': 1237, '4kolner': 1238, 'dpolgbund': 1239, 'twittersuppo': 1240, 'mitleid': 1241, 'al': 1242, 'f': 1243, 'lich': 1244, 'nigerianer': 1245, '75': 1246, 'krankenhaus': 1247, 'meint': 1248, '2000': 1249, 'mohammed': 1250, 'erzaehlt': 1251, 'fuehlt': 1252, 'syrische': 1253, 'jaehriges': 1254, 'christliche': 1255, 'fehlt': 1256, 'zwingen': 1257, 'kollegen': 1258, 'weiteren': 1259, 'sebastianwippel': 1260, 'aktion': 1261, 'wollten': 1262, 'sta': 1263, 'morgens': 1264, 'um': 1265, 'lvz': 1266, 'verletzte': 1267, 'beamten': 1268, 'hast': 1269, 'situation': 1270, 'darunter': 1271, 'geschickt': 1272, 'angesprochen': 1273, 'sagte': 1274, 'aufs': 1275, 'durch': 1276, 'michel': 1277, 'laecherlich': 1278, 'weiterhin': 1279, 'stueck': 1280, 'hauptsache': 1281, 'amazon': 1282, 'form': 1283, 'waeren': 1284, 'erfolgreich': 1285, 'waren': 1286, 'maas': 1287, 'karrenbauer': 1288, 'klarnamenpflicht': 1289, 'grillen': 1290, 'bringt': 1291, 'fuss': 1292, 'bewegung': 1293, 'diffamie': 1294, 'sebastian': 1295, 'duesseldorf': 1296, 'afrikanische': 1297, 'dorf': 1298, 'aeusse': 1299, 'abschiebung': 1300, 'verbietet': 1301, 'muessten': 1302, 'afghane': 1303, 'linksextreme': 1304, 'sterben': 1305, 'bruessel': 1306, 'widerspricht': 1307, 'aufgefallen': 1308, 'geist': 1309, 'linksgruene': 1310, 'aufnehmen': 1311, 'versucht': 1312, 'werdet': 1313, 'naemlich': 1314, 'eurovision': 1315, 'gelesen': 1316, 'sage': 1317, 'laengst': 1318, 'gruenden': 1319, 'spdde': 1320, 'arabische': 1321, 'skandal': 1322, 'oma': 1323, 'gedacht': 1324, 'abgeordneten': 1325, 'identitaet': 1326, 'hintergruende': 1327, 'anteil': 1328, 'karl': 1329, 'entschuldigung': 1330, 'helfen': 1331, 'stein': 1332, 'bedeutet': 1333, 'gaebe': 1334, 'teuer': 1335, 'bande': 1336, 'mainstream': 1337, 'kirche': 1338, 'sozialdemokraten': 1339, 'bei': 1340, 'mueller': 1341, 'wiederholt': 1342, 'aufschrei': 1343, 'unterstuetzen': 1344, 'stimmen': 1345, 'stag': 1346, 'klare': 1347, 'lieben': 1348, 'claudia': 1349, 'du': 1350, 'terroristen': 1351, 'future': 1352, 'daten': 1353, 'stunde': 1354, 'schau': 1355, 'sz': 1356, 'selten': 1357, 'reagie': 1358, 'ag': 1359, 'spitzenkandidat': 1360, 'stiftung': 1361, 'leistung': 1362, 'gauland': 1363, 'wem': 1364, 'ehrlich': 1365, 'mensch': 1366, 'vs': 1367, 'daher': 1368, 'drin': 1369, 'bevormundung': 1370, 'den': 1371, 'peter': 1372, 'eil': 1373, 'frag': 1374, 'vorn': 1375, 'sehr': 1376, 'stimme': 1377, 'zeichen': 1378, 'wasser': 1379, 'ausland': 1380, 'geschlossen': 1381, 'alt': 1382, 'zuwanderung': 1383, 'haltung': 1384, 'lernt': 1385, 'beleidigt': 1386, 'sacharbeit': 1387, 'entschuldigen': 1388, 'laenger': 1389, 'ok': 1390, 'stirbt': 1391, 'anschauen': 1392, 'weber': 1393, 'thunberg': 1394, 'heissen': 1395, 'herkunft': 1396, 'steuerzahler': 1397, 'energiewende': 1398, 'strom': 1399, 'rentner': 1400, 'geschafft': 1401, 'hessen': 1402, 'reaktion': 1403, 'sohn': 1404, 'spielt': 1405, 'bedrohen': 1406, 'indien': 1407, 'gern': 1408, 'justiz': 1409, 'komplett': 1410, 'rest': 1411, 'gearbeitet': 1412, 'wissenschaftler': 1413, 'sma': 1414, 'beliebt': 1415, 'attackie': 1416, 'bundeswehr': 1417, 'polit': 1418, 'kofferraum': 1419, 'scheisse': 1420, 'lesenswe': 1421, 'wahre': 1422, 'freiwillig': 1423, 'ursula': 1424, 'haverbeck': 1425, 'wsk': 1426, 'weiteres': 1427, '06': 1428, 'ehrendoktor': 1429, 'bloss': 1430, 'kickl': 1431, 'juncker': 1432, 'huch': 1433, 'jahrelang': 1434, 'interessie': 1435, 'polen': 1436, 'mich': 1437, 'hose': 1438, 'laufen': 1439, 'einwohner': 1440, 'schuhe': 1441, 'erika': 1442, 'schliesst': 1443, 'monaten': 1444, 'bin': 1445, 'unterstuetzung': 1446, 'nazisraus': 1447, 'wald': 1448, 'merdeux': 1449, 'khinnek': 1450, 'ofenschlampe': 1451, 'scheiss': 1452, 'doch': 1453, 'schauen': 1454, 'arme': 1455, 'horst': 1456, 'wikimedia': 1457, 'sa': 1458, 'capitol': 1459, 'weil': 1460, 'bahnhofshosting': 1461, 'heim': 1462, 'gebtdenschwagerfrei': 1463, 'koelner': 1464, 'kaputt': 1465, 'afghanistan': 1466, 'einreise': 1467, 'hannover': 1468, 'ehemalige': 1469, 'holen': 1470, 'usw': 1471, 'dera': 1472, 'schweren': 1473, 'zumindest': 1474, 'jesus': 1475, 'rechtfe': 1476, 'festgenommen': 1477, 'syrien': 1478, 'schutzsuchende': 1479, 'wichtiger': 1480, 'hetzen': 1481, 'anstatt': 1482, 'buch': 1483, 'afdimbundestag': 1484, 'regieren': 1485, 'finanzieren': 1486, 'infrastruktur': 1487, 'freitag': 1488, 'km': 1489, 'erreichen': 1490, 'zweifel': 1491, 'zuvor': 1492, 'illegalen': 1493, 'solange': 1494, 'sozialistische': 1495, 'derorient': 1496, 'willen': 1497, 'steinmeier': 1498, 'brief': 1499, 'goerlitzer': 1500, 'satz': 1501, 'tichyseinblick': 1502, 'erde': 1503, 'hand': 1504, 'fragt': 1505, 'migrant': 1506, 'steigen': 1507, 'gaeste': 1508, 'bka': 1509, 'herzchen': 1510, 'prozess': 1511, 'gretel': 1512, 'interessanter': 1513, 'imam': 1514, 'ige': 1515, 'gefaehrder': 1516, 'verbreitet': 1517, 'tatverdaechtigen': 1518, '34': 1519, 'strafanzeige': 1520, 'nachbarn': 1521, '51': 1522, 'hofga': 1523, 'tragen': 1524, 'liegen': 1525, 'abgelehnt': 1526, 'bonn': 1527, 'schreibe': 1528, 'rag': 1529, 'lehrer': 1530, 'komisch': 1531, 'moege': 1532, 'krass': 1533, 'notwendig': 1534, 'schoenes': 1535, 'schwarzer': 1536, 'bereicherung': 1537, 'edeka': 1538, 'zeitgeist': 1539, 'grosses': 1540, 'brand': 1541, 'wahlomat': 1542, 'accounts': 1543, 'samt': 1544, 'soros': 1545, 'schulz': 1546, 'stasi': 1547, 'unterstuetzt': 1548, 'gefragt': 1549, 'toten': 1550, 'klingt': 1551, 'sekte': 1552, 'generation': 1553, 'metoo': 1554, 'mund': 1555, 'grundschule': 1556, '71': 1557, 'pass': 1558, 'verdienen': 1559, 'hoffnung': 1560, 'echte': 1561, 'vorbei': 1562, 'spuren': 1563, 'eurospo': 1564, 'brennt': 1565, 'bvb': 1566, 'einst': 1567, 'vorstellen': 1568, 'wohin': 1569, 'magnitz': 1570, 'reagieren': 1571, 'zuerst': 1572, 'silvester': 1573, 'italiener': 1574, 'sorgt': 1575, 'blau': 1576, 'gruesse': 1577, 'betrieb': 1578, 'sexuelle': 1579, 'gehabt': 1580, 'montag': 1581, 'pressekonferenz': 1582, 'dieter': 1583, 'schock': 1584, 'connor': 1585, 'studenten': 1586, 'neben': 1587, 'angesichts': 1588, 'meinungen': 1589, 'verstehe': 1590, 'beleidigungen': 1591, 'freunde': 1592, 'papst': 1593, 'globale': 1594, 'banken': 1595, 'prof': 1596, 'einwanderung': 1597, 'robe': 1598, 'griechenland': 1599, 'landtagswahl': 1600, 'hassen': 1601, 'diskutieren': 1602, 'geplant': 1603, 'legt': 1604, 'baden': 1605, 'temberg': 1606, 'dt': 1607, '800': 1608, 'islamisten': 1609, 'linksextremismus': 1610, 'sinn': 1611, 'konsequent': 1612, 'trifft': 1613, 'versuchen': 1614, 'fand': 1615, 'gretathunberg': 1616, 'twitternwie18uhr': 1617, 'rlp': 1618, 'volkspa': 1619, 'spdrlp': 1620, 'panik': 1621, 'entwicklung': 1622, 'warnen': 1623, 'gegeben': 1624, 'republik': 1625, 'herrn': 1626, 'staendig': 1627, 'helfer': 1628, 'sarah': 1629, 'uns': 1630, 'eunion': 1631, 'mob': 1632, 'koblenz': 1633, 'linksgruener': 1634, 'boesen': 1635, 'linksradikale': 1636, 'kreis': 1637, 'sylvia': 1638, 'steigt': 1639, 'koalition': 1640, 'gefahr': 1641, 'faznet': 1642, 'schreitet': 1643, 'reine': 1644, '00': 1645, '31': 1646, 'elektromobilitaet': 1647, 'dreck': 1648, 'akzeptieren': 1649, 'groesser': 1650, 'sarrazin': 1651, 'fusion': 1652, 'promis': 1653, 'asylpolitik': 1654, 'soehne': 1655, 'klaut': 1656, 'innen': 1657, 'alles': 1658, 'haftbefehl': 1659, 'direkt': 1660, 'voller': 1661, '43': 1662, 'moment': 1663, 'co': 1664, 'georg': 1665, 'arzt': 1666, 'noetig': 1667, 'technik': 1668, 'foerdern': 1669, 'erstmal': 1670, 'fah': 1671, 'wo': 1672, 'absolut': 1673, 'anwalt': 1674, 'kindes': 1675, 'wichtigste': 1676, 'dummheit': 1677, 'irak': 1678, 'kippa': 1679, 'spoe': 1680, 'jobs': 1681, 'erdogan': 1682, 'diejenigen': 1683, 'schluss': 1684, 'team': 1685, 'erinnerung': 1686, 'schaut': 1687, 'post': 1688, 'sn': 1689, 'fenster': 1690, 'w': 1691, 'fcknzs': 1692, 'empoe': 1693, 'pi': 1694, 'version': 1695, 'gehe': 1696, 'menschenrechte': 1697, 'entfernt': 1698, 'gleichen': 1699, 'wozu': 1700, 'merz': 1701, 'arsch': 1702, 'wind': 1703, 'mist': 1704, 'mord': 1705, 'ung': 1706, 'stasifrau': 1707, 'kahane': 1708, 'produktion': 1709, 'read': 1710, 'iran': 1711, 'suche': 1712, 'kostet': 1713, 'hoffe': 1714, 'npistcool': 1715, 'dieneranton': 1716, 'kaufhof': 1717, 'rolandgarros': 1718, 'europee2019': 1719, 'jaxxon2905': 1720, 'abklatschen': 1721, 'erkennt': 1722, 'wollte': 1723, 'hin': 1724, 'nigeria': 1725, 'zahlreiche': 1726, 'offenburg': 1727, 'somalier': 1728, 'nachts': 1729, 'stoe': 1730, 'hetzer': 1731, 'abend': 1732, 'flugzeug': 1733, 'volksverhetzung': 1734, 'antrag': 1735, 'bericht': 1736, 'kuenftig': 1737, 'herbst': 1738, 'proteus93484191': 1739, 'stattdessen': 1740, 'spinner': 1741, 'willkommen': 1742, 'spenden': 1743, 'infos': 1744, 'sinne': 1745, 'eilung': 1746, 'weise': 1747, 'fruehere': 1748, 'tradition': 1749, 'homosexuelle': 1750, 'bauch': 1751, 'protest': 1752, 'lag': 1753, 'verbunden': 1754, 'offiziell': 1755, 'aussenminister': 1756, 'uebernehmen': 1757, 'offener': 1758, 'bruhl': 1759, 'ellevisionnaire': 1760, 'brigittebrochet': 1761, 'boxingondvd': 1762, 'danielkehlmann': 1763, 'ps': 1764, 'einer': 1765, 'gefoerde': 1766, 'massive': 1767, 'kanzlerkandidatin': 1768, 'meinte': 1769, 'benehmen': 1770, 'friedensnobelpreis': 1771, 'preis': 1772, 'hohe': 1773, 'leiche': 1774, 'zunaechst': 1775, 'attackieren': 1776, 'syrischer': 1777, 'psychisch': 1778, 'liste': 1779, 'taten': 1780, 'soweit': 1781, 'massnahme': 1782, 'dreht': 1783, 'behauptet': 1784, 'waehle': 1785, 'retweeten': 1786, 'leicht': 1787, 'bundesrepublik': 1788, 'geforde': 1789, 'goeringeckardt': 1790, 'bewusst': 1791, 'botschaft': 1792, 'ostern': 1793, 'friedens': 1794, 'zehn': 1795, 'verbrechen': 1796, 'zuckerfest': 1797, 'sex': 1798, 'oesterreicher': 1799, 'max': 1800, 'demonstration': 1801, 'patrioten': 1802, 'abschneiden': 1803, '32': 1804, 'gesteue': 1805, 'schliesslich': 1806, 'arabischen': 1807, 'freie': 1808, 'gezogen': 1809, 'alleine': 1810, 'eugh': 1811, 'bestaetigt': 1812, 'g': 1813, 'bauen': 1814, 'leipzig': 1815, 'westlichen': 1816, 'auftreten': 1817, 'homosexuellen': 1818, 'wagen': 1819, 'behoerden': 1820, 'beiden': 1821, 'anlass': 1822, 'brutalen': 1823, 'frohe': 1824, 'hoeren': 1825, 'youtuber': 1826, 'fans': 1827, 'dahin': 1828, 'gehwaehlen': 1829, 'alternative': 1830, 'uebel': 1831, 'aussieht': 1832, 'denn': 1833, 'mache': 1834, 'peinlich': 1835, 'bezeichnen': 1836, 'chebliwitze': 1837, 'klimanotstand': 1838, 'wordpressdotcom': 1839, 'organisie': 1840, 'zuwanderer': 1841, 'traumatisie': 1842, 'offene': 1843, 'manfredweber': 1844, 'organspende': 1845, 'weshalb': 1846, 'sozialistischen': 1847, 'schafe': 1848, 'widerlich': 1849, 't100007140969': 1850, 'pflicht': 1851, 'koerper': 1852, 'hosen': 1853, 'kalt': 1854, 'fruehling': 1855, 'verlust': 1856, 'zufaellig': 1857, 'verpflichtet': 1858, 'wohnungsnot': 1859, 'energie': 1860, 'erfunden': 1861, 'jugendlichen': 1862, 'ziemlich': 1863, 'sender': 1864, 'andere': 1865, 'info': 1866, 'alimentie': 1867, 'ausserhalb': 1868, 'handeln': 1869, 'fanden': 1870, 'wider': 1871, 'steinbacherika': 1872, 'armut': 1873, 'uebernimmt': 1874, 'debatte': 1875, 'kathedrale': 1876, 'steuer': 1877, 'bereich': 1878, 'bist': 1879, 'christian': 1880, 'freiburg': 1881, 'winter': 1882, 'zudem': 1883, 'ueckendorf': 1884, 'kaempft': 1885, 'aufgedeckt': 1886, 'null': 1887, 'aba': 1888, 'dadurch': 1889, 'januar': 1890, 'wochen': 1891, 'monate': 1892, 'straftaeter': 1893, 'versteht': 1894, 'hamburger': 1895, 'russische': 1896, 'politisch': 1897, 'bereit': 1898, 'mohr': 1899, 'wacht': 1900, 'hoffen': 1901, 'sieg': 1902, 'pokal': 1903, 'drdavidberger': 1904, 'anders': 1905, 'friday': 1906, 'demonstrieren': 1907, 'briten': 1908, 'kurs': 1909, 'darin': 1910, 'krippmarie': 1911, 'demonstrie': 1912, 'daraus': 1913, 'lebende': 1914, 'eile': 1915, 'baum': 1916, 'fehlanzeige': 1917, 'trauer': 1918, 'fuehlen': 1919, 'bamf': 1920, 'fliegen': 1921, 'jan': 1922, 'friedrich': 1923, 'vaterland': 1924, 'europaeischen': 1925, 'unrecht': 1926, 'gehoeren': 1927, 'eigener': 1928, 'muenster': 1929, 'verlierer': 1930, 'demos': 1931, 'ehre': 1932, 'pakt': 1933, 'oesterreichische': 1934, 'meldung': 1935, 'mindestens': 1936, 'entweder': 1937, 'mecklenburg': 1938, 'vorpommern': 1939, 'aktuelle': 1940, '2016': 1941, 'kopftuchverbot': 1942, 'stimmung': 1943, 'gas': 1944, 'wue': 1945, 'schwere': 1946, 'straftat': 1947, 'oekonom': 1948, 'fake': 1949, 'wieso': 1950, 'afdfraktionrlp': 1951, 'gestiegen': 1952, 'luegenpresse': 1953, 'nachdenken': 1954, 'weilesreicht': 1955, 'wahlfaelschung': 1956, 'gutes': 1957, 'genossen': 1958, 'duerfte': 1959, 'ruecktritt': 1960, 'hoechste': 1961, 'koebberling': 1962, 'willkommenskultur': 1963, 'kanzlerschaft': 1964, 'muslimische': 1965, 'erden': 1966, 'interessieren': 1967, 'bfv': 1968, 'schweitzer': 1969, 'linksextremen': 1970, 'tuer': 1971, 'minister': 1972, '90': 1973, 'europaparlament': 1974, 'sache': 1975, 'kevin': 1976, 'rote': 1977, 'fakt': 1978, 'titel': 1979, 'pks': 1980, 'nutzen': 1981, 'begreifen': 1982, 'doppelmoral': 1983, 'ie': 1984, 'offen': 1985, 'geldboerse': 1986, 'hinweise': 1987, 'zustand': 1988, 'ausdruck': 1989, 'stelle': 1990, 'jouwatch': 1991, 'uebrig': 1992, 'abschaum': 1993, 'demonstranten': 1994, 'untergang': 1995, 'irgendwelche': 1996, 'sondern': 1997, 'medizin': 1998, 'erwaermung': 1999, 'entlassen': 2000, 'anne': 2001, 'hoehe': 2002, 'uebergriff': 2003, 'beschimpft': 2004, 'gegangen': 2005, 'migrantengewalt': 2006, 'tief': 2007, 'sticht': 2008, 'oranienburg': 2009, 'notwehr': 2010, 'sparen': 2011, 'jedoch': 2012, 'gefallen': 2013, 'im': 2014, 'teilnehmer': 2015, 'verhindern': 2016, 'fassungslos': 2017, 'angaben': 2018, 'aerzte': 2019, 'unbekannte': 2020, 'schwarze': 2021, 'bundespraesident': 2022, 'sexuellen': 2023, 'druck': 2024, 'anschlag': 2025, 'achtung': 2026, 'dialog': 2027, 'vorhanden': 2028, 'eine': 2029, 'wunde': 2030, 'farbe': 2031, 'scheite': 2032, 'beantragen': 2033, 'hc': 2034, 'ibizavideo': 2035, 'ibiza': 2036, 'ischias': 2037, 'bunten': 2038, 'korruption': 2039, 'kriminell': 2040, 'x': 2041, 'merkt': 2042, 'gleichzeitig': 2043, 'bislang': 2044, 'polizist': 2045, 'weidel': 2046, 'innenstadt': 2047, 'hammer': 2048, 'springen': 2049, 'auswae': 2050, 'deckt': 2051, 'agenda': 2052, 'staedte': 2053, 'einwohnerzahl': 2054, 'verkaufen': 2055, 'christlichen': 2056, 'kloeckner': 2057, 'analyse': 2058, 'grade': 2059, 'landtag': 2060, 'opfern': 2061, 'moralischen': 2062, 'streit': 2063, 'faschisten': 2064, 'autofahren': 2065, 'gefaehrlich': 2066, 'rassistisch': 2067, 'erschreckend': 2068, 'satire': 2069, '42': 2070, 'bundesgockel': 2071, 'kriegt': 2072, 'sonne': 2073, 'derzeit': 2074, 'schwul': 2075, 'vatikan': 2076, 'kenne': 2077, 'name': 2078, 'lage': 2079, 'nochmal': 2080, 'irgendwas': 2081, 'polenz': 2082, 'platinmensch': 2083, 'lauterbach': 2084, 'naehe': 2085, 'hinweis': 2086, 'impo': 2087, 'gesamte': 2088, 'demnaechst': 2089, 'film': 2090, 'rettung': 2091, 'fresse': 2092, 'vorschlag': 2093, 'kim': 2094, 'jong': 2095, 'tollen': 2096, 'muell': 2097, 'bundeskanzler': 2098, 'sitzen': 2099, 'kotzen': 2100, 'ans': 2101, 'autobahnen': 2102, 'schaedlich': 2103, 'sogenannten': 2104, 'luegt': 2105, 'arbeitsplaetze': 2106, 'bricht': 2107, 'schicken': 2108, 'gefahren': 2109, 'ausgabe': 2110, 'aldi': 2111, 'wunder': 2112, 'damals': 2113, 'ausgeschlossen': 2114, 'zinsen': 2115, 'hauptstadt': 2116, 'esc': 2117, 'alltag': 2118, 'croydon': 2119, 'rebeccas': 2120, 'hennigsdorf': 2121, 'profil': 2122, 'insolvenz': 2123, 'mitarbeitern': 2124, 'frenchopen': 2125, 'klimakrise': 2126, 'suppo': 2127, 'brutale': 2128, 'konsequenzen': 2129, 'einreisen': 2130, 'linksextremisten': 2131, 'gebaeude': 2132, 'teils': 2133, 'greift': 2134, 'senioren': 2135, 'zeugen': 2136, 'jahrhunde': 2137, 'demnach': 2138, 'kreuzberg': 2139, 'verdaechtiger': 2140, 'tunesier': 2141, 'rechtliche': 2142, 'lehnt': 2143, 'illner': 2144, 'plus': 2145, 'empoerung': 2146, 'wieviel': 2147, 'wichtige': 2148, 'persoenlich': 2149, 'nummer': 2150, 'freue': 2151, 'sprecher': 2152, 'freude': 2153, 'haelfte': 2154, 'nebenbei': 2155, 'wohlstand': 2156, 'fundie': 2157, 'oeffentliche': 2158, 'aktiv': 2159, '120': 2160, 'erster': 2161, 'ausueben': 2162, 'wippel': 2163, 'geeignet': 2164, 'davor': 2165, 'bundesweit': 2166, 'aufregung': 2167, 'skandie': 2168, 'forderung': 2169, 'beschlossen': 2170, 'verpruegelt': 2171, 'verschweigen': 2172, 'drohen': 2173, 'freispruch': 2174, 'rechtsextrem': 2175, 'schuetzt': 2176, 'schwerer': 2177, 'sicherlich': 2178, 'buecher': 2179, 'ostmann1977': 2180, 'herzen': 2181, 'chance': 2182, 'arasbacho': 2183, 'schaftlichen': 2184, 'r2g': 2185, 'eigenes': 2186, 'schulschwaenzen': 2187, 'deutschem': 2188, 'israelischen': 2189, 'lehrerin': 2190, 'traut': 2191, '1989': 2192, 'zwang': 2193, 'arabisch': 2194, 'hamm': 2195, '65': 2196, 'betreten': 2197, 'reihen': 2198, 'baby': 2199, 'to': 2200, 'festnahme': 2201, 'fastenbrechen': 2202, 'herrscht': 2203, 'witz': 2204, 'universitaet': 2205, 'legen': 2206, 'nenne': 2207, 'missbrauchen': 2208, 'mundaufmachen': 2209, '2014': 2210, 'convalaria1': 2211, 'wirklichkeit123': 2212, 'tschonka': 2213, 'verbote': 2214, '99': 2215, 'betreiben': 2216, 'punkte': 2217, 'focusonline': 2218, 'wirken': 2219, 'bae': 2220, 'waer': 2221, 'dankbar': 2222, 'glaeubige': 2223, 'gefueh': 2224, 'singt': 2225, 'geteilt': 2226, 'baerbeli04': 2227, 'schloss': 2228, 'angezeigt': 2229, 'theorie': 2230, 'geaeusse': 2231, 'aussen': 2232, 'seiten': 2233, 'uebergriffe': 2234, 'oer': 2235, 'wand': 2236, 'journalistin': 2237, 'lediglich': 2238, '47': 2239, 'eritrea': 2240, 'meist': 2241, 'ums': 2242, 'hh': 2243, 'kz': 2244, 'moscheen': 2245, 'afghanen': 2246, 'nase': 2247, 'bestimmten': 2248, 'rechtsextremen': 2249, 'werde': 2250, 'konnten': 2251, 'paris': 2252, 'gruppen': 2253, 'grossa': 2254, 'cent': 2255, 'vergangenheit': 2256, 'unbedingt': 2257, 'btw': 2258, 'aelteren': 2259, 'einzelne': 2260, 'europaeer': 2261, 'keh': 2262, 'esc2019': 2263, 'auswandern': 2264, 'alice': 2265, 'geloest': 2266, 'dealer': 2267, 'bunte': 2268, 'entspricht': 2269, 'sisha': 2270, 'prinzip': 2271, 'verpasst': 2272, 'dauer': 2273, 'klein': 2274, 'heiko': 2275, 'grossstaedte': 2276, 'unfall': 2277, 'erzaehlen': 2278, 'libyen': 2279, 'petition': 2280, 'klientel': 2281, 'entschieden': 2282, 'zugleich': 2283, 'weisse': 2284, 'konze': 2285, 'liest': 2286, 'laschet': 2287, 'menschheit': 2288, 'geboren': 2289, 'kanal': 2290, 'tunesien': 2291, 'planen': 2292, 'raum': 2293, 'aufzunehmen': 2294, 'linksfraktion': 2295, 'integrie': 2296, 'einwanderer': 2297, 'demokraten': 2298, 'regie': 2299, 'pferd': 2300, 'terroranschlaege': 2301, 'aussehen': 2302, 'heutige': 2303, 'haaren': 2304, 'toedlich': 2305, 'verrueckt': 2306, 'faz': 2307, 'million': 2308, 'finanzierung': 2309, 'rechtlichen': 2310, '400': 2311, 'jaehrlich': 2312, 'nachgewiesen': 2313, 'unterhalten': 2314, 'lass': 2315, 'krise': 2316, 'aufwachen': 2317, 'anfrage': 2318, 'normale': 2319, 'hey': 2320, 'hauptbahnhof': 2321, 'draussen': 2322, 'blut': 2323, 'bewahren': 2324, 'oberbuergermeister': 2325, 'gejagt': 2326, 'sueddeutsche': 2327, 'beweis': 2328, 'kandidat': 2329, 'angeklagt': 2330, 'diesel': 2331, 'verhinde': 2332, 'mehrheit': 2333, 'waehlern': 2334, 'generie': 2335, 'feuer': 2336, 'bischof': 2337, 'erinnern': 2338, 'isak': 2339, 'verlaesst': 2340, 'rettet': 2341, 'niedergang': 2342, 'niveau': 2343, 'private': 2344, 'konservative': 2345, 'sitze': 2346, 'ausgesprochen': 2347, 'ber': 2348, 'he': 2349, 'stadion': 2350, 'musste': 2351, 'kamen': 2352, 'hatten': 2353, 'bahnhof': 2354, 'leib': 2355, 'unglaublich': 2356, 'bereiche': 2357, 'la': 2358, 'sprechen': 2359, 'wolfssanguis': 2360, 'abgesehen': 2361, 'hinten': 2362, 'entscheidung': 2363, 'bedrohung': 2364, 'strafe': 2365, 'staatsbuerger': 2366, 'freut': 2367, 'kranker': 2368, 'bruellen': 2369, 'isch': 2370, 'strategie': 2371, 'zweiten': 2372, 'verschleude': 2373, 'runter': 2374, 'zahlt': 2375, 'andreas': 2376, 'geplante': 2377, 'komme': 2378, 'oeffnen': 2379, 'ueberlegt': 2380, 'nuernberg': 2381, 'kovac': 2382, 'demokratischen': 2383, 'dicke': 2384, 'behinde': 2385, 'ueberschrift': 2386, 'schmidt': 2387, 'wenige': 2388, 'florian': 2389, 'recherche': 2390, 'richtlinie': 2391, 'fachkraeftemangel': 2392, 'aeusserung': 2393, 'aufgenommen': 2394, 'benoetigt': 2395, 'netzdg': 2396, 'europaeische': 2397, 'derspiegel': 2398, 'twittern': 2399, 'stellenabbau': 2400, 'zitie': 2401, 'ausgrenzung': 2402, 'harderkuehnel': 2403, 'undemokratisch': 2404, 'vernunft': 2405, 'industrie': 2406, 'googeln': 2407, 'lebt': 2408, 'benutzt': 2409, 'echten': 2410, 'dass': 2411, 'arm': 2412, 'drahtzieher': 2413, 'hassrede': 2414, 'beteiligen': 2415, 'rennen': 2416, 'stecken': 2417, 'bmfsfj': 2418, 'neutralitaet': 2419, 'po': 2420, 'ehrliche': 2421, 'thueringen': 2422, 'moegen': 2423, 'bundestagsabgeordnete': 2424, 'extrem': 2425, 'schuelern': 2426, 'flughafen': 2427, 'fuerchten': 2428, 'dritte': 2429, 'fluechtlingsunterkunft': 2430, 'logisch': 2431, 'rechnen': 2432, 'extremismus': 2433, 'naiv': 2434, 'abschieben': 2435, 'klagen': 2436, 'studieren': 2437, 'gemeinsamen': 2438, 'franz': 2439, 'merken': 2440, 'dankespd': 2441, 'fraktionnds': 2442, 'euwahl2019': 2443, 'vorsitzende': 2444, 'landtagswahlen': 2445, '2021': 2446, 'faengt': 2447, 'irrsinn': 2448, 'mayen': 2449, 'kanzleramt': 2450, 'beendet': 2451, 'hoechst': 2452, 'rezo': 2453, 'konservativen': 2454, 'getan': 2455, 'verbrecher': 2456, 'gegenteil': 2457, 'ministerium': 2458, 'entscheidet': 2459, 'salafisten': 2460, 'hisbollah': 2461, 'miteinander': 2462, 'elektro': 2463, 'landesregierung': 2464, 'verachten': 2465, 'klimapolitik': 2466, 'pharisaeer': 2467, 'widerstand': 2468, 'leisten': 2469, 'age': 2470, 'einfluss': 2471, 'dienstag': 2472, 'beatrix': 2473, 'marktwi': 2474, '600': 2475, '116': 2476, 'reisen': 2477, 'erstmals': 2478, 'vorbereitung': 2479, 'erkennen': 2480, 'feind': 2481, 'morddrohungen': 2482, 'muslimischen': 2483, 'sozialsysteme': 2484, 'gtzfrmming': 2485, 'bmi': 2486, 'ruecken': 2487, 'genosse': 2488, 'arbeiter': 2489, 'lafontaine': 2490, 'elektroauto': 2491, 'verraten': 2492, 'verzichten': 2493, 'witzig': 2494, 'einzigen': 2495, 'brav': 2496, 'michaelstuerzi': 2497, 'ga': 2498, 'mannes': 2499, 'externen': 2500, 'terrororganisation': 2501, 'guter': 2502, 'schreie': 2503, 'reten': 2504, 'freunden': 2505, 'handy': 2506, 'sechs': 2507, 'pruegeln': 2508, 'eid': 2509, 'kassel': 2510, 'allahuakbar': 2511, 'irrenhaus': 2512, 'genannt': 2513, 'rechtsradikalen': 2514, 'hut': 2515, 'bt': 2516, 'tonnen': 2517, 'soisset': 2518, 'damit': 2519, 'anstieg': 2520, 'gewaltsam': 2521, 'moeglicherweise': 2522, 'staatsanwalt': 2523, 'dollar': 2524, 'acht': 2525, 'hans': 2526, 'haengt': 2527, 'facharbeiter': 2528, 'mitteln': 2529, 'juedischen': 2530, 'ruw': 2531, 'organisation': 2532, 'cran': 2533, 'ufo': 2534, 'begonnen': 2535, 'itel': 2536, 'eins': 2537, 'illegal': 2538, 'stets': 2539, 'ueberlegen': 2540, 'fluechten': 2541, 'vergewaltiger': 2542, 'waehrenddessen': 2543, 'srilanka': 2544, 'ern': 2545, 'huepfen': 2546, 'wollt': 2547, 'rezovideo': 2548, 'engagie': 2549, 'werk': 2550, 'ungarn': 2551, 'matteo': 2552, 'runde': 2553, 'legal': 2554, 'vo': 2555, 'genies': 2556, 'innenministerium': 2557, 'versprochen': 2558, 'falle': 2559, 'moechten': 2560, 'grundlage': 2561, 'schuss': 2562, 'knapp': 2563, 'tochter': 2564, 'scharf': 2565, 'vergewaltigen': 2566, 'rom': 2567, 'vorschlaege': 2568, 'spiel': 2569, 'uebersicht': 2570, 'begann': 2571, 'thread': 2572, 'unterschreiben': 2573, 'appell': 2574, 'miete': 2575, 'aktien': 2576, 'umgehen': 2577, '1905': 2578, 'braunen': 2579, 'verkauft': 2580, 'typen': 2581, 'volkslehrer': 2582, 'song': 2583, 'nestl': 2584, 'schwulen': 2585, 'tode': 2586, 'fckafd': 2587, 'liefern': 2588, 'dritten': 2589, 'loeschen': 2590, '77': 2591, 'eidigung': 2592, 'beschliesst': 2593, 'moeglichst': 2594, 'volkes': 2595, 'minderheit': 2596, 'klarer': 2597, 'gestalten': 2598, 'nerven': 2599, 'flugtaxis': 2600, 'gezeigt': 2601, 'shi': 2602, 'gehts': 2603, 'sieben': 2604, 'baerbock': 2605, 'schweine': 2606, 'erfahrungen': 2607, 'einziges': 2608, 'sozis': 2609, 'verschiebt': 2610, 'ifo': 2611, 'krampkarrenbauer': 2612, 'expo': 2613, 'ieren': 2614, 'thilo': 2615, 'verweigern': 2616, 'erstes': 2617, 'bedeutung': 2618, 'worldwideto': 2619, 'prominente': 2620, 'pr': 2621, 'daue': 2622, 'ecke': 2623, 'beides': 2624, 'ficken': 2625, 'hurensohn': 2626, 'wisst': 2627, 'bksoll': 2628, 'schiffe': 2629, 'italienische': 2630, 'ficki': 2631, 'thunfisch': 2632, 'vorne': 2633, 'geil': 2634, 'wachsen': 2635, 'aende': 2636, 'wm': 2637, 'insgesamt': 2638, 'service': 2639, 'schland': 2640, 'armen': 2641, 'fuehrer': 2642, 'marsch': 2643, 'nasa': 2644, 'slogan': 2645, 'seltsam': 2646, 'fernsehen': 2647, 'seien': 2648, 'praemien': 2649, 'euzis': 2650, 'schneller': 2651, 'regelmaessig': 2652, 'reffen': 2653, 'schreien': 2654, 'schlaf': 2655, 'bewe': 2656, 'halal': 2657, 'beginnt': 2658, 'starke': 2659, 'informieren': 2660, 'blockie': 2661, 'mahler': 2662, 'albe': 2663, 'herrenrasse': 2664, 'sozial': 2665, 'gleichgestellte': 2666, 'chris': 2667, 'un': 2668, 'anscheinend': 2669, 'unsinn': 2670, 'kritische': 2671, 'spur': 2672, 'auftrag': 2673, 'verursacht': 2674, 'wiener': 2675, 'oppermann': 2676, 'perle': 2677, 'institut': 2678, 'angenommen': 2679, 'paz': 2680, 'nationalrat': 2681, 'soldaten': 2682, 'humor': 2683, 'beeinflusst': 2684, 'mittels': 2685, 'international': 2686, 'loesen': 2687, 'anderes': 2688, 'saison': 2689, 'wetten': 2690, 'kontrollie': 2691, 'briefwahl': 2692, '59': 2693, 'eintracht': 2694, 'chesge': 2695, 'russen': 2696, 'bargeld': 2697, 'verfassung': 2698, 'sch': 2699, 'ale': 2700, 'rum': 2701, 'twingo': 2702, 'schoppeczesch': 2703, 'snapchat': 2704, 'vorherzusehen': 2705, 'gegend': 2706, 'italia': 2707, 'gewesen': 2708, 'becci': 2709, 'wseverina': 2710, 'explosion': 2711, 'gammelfleisch': 2712, 'rg19': 2713, 'erderhitzung': 2714, 'arab': 2715, 'kuerzlich': 2716, 'homosexualitaet': 2717, 'qua': 2718, 'albanien': 2719, 'drittel': 2720, 'pkw': 2721, 'bruder': 2722, 'schaedel': 2723, 'ehefrau': 2724, 'gekuendigt': 2725, 'tuerke': 2726, 'dna': 2727, '2012': 2728, 'produkte': 2729, 'behalten': 2730, '250': 2731, 'handys': 2732, 'liegenden': 2733, 'timmermans': 2734, 'moderator': 2735, 'igt': 2736, 'bestraft': 2737, 'sondersendungen': 2738, 'staatsbuergerschaft': 2739, 'symbole': 2740, 'geschaendet': 2741, 'hinsicht': 2742, 'toilette': 2743, 'sprengen': 2744, 'bilden': 2745, 'autofahrer': 2746, 'fahrzeuge': 2747, 'innovation': 2748, 'knallha': 2749, 'fahrrad': 2750, 'sammeln': 2751, 'daumen': 2752, 'besteht': 2753, 'jemanden': 2754, 'bgh': 2755, 'eidiger': 2756, 'lehrern': 2757, 'konsens': 2758, 'beeinflussung': 2759, 'aufgerufen': 2760, 'koepfe': 2761, 'diskreditie': 2762, '27j': 2763, 'dramatisierung': 2764, 'unerwuenscht': 2765, 'kuemmern': 2766, 'stars': 2767, 'bitten': 2768, 'einzelfallinfos': 2769, 'tausende': 2770, 'presseausweis': 2771, 'koenne': 2772, 'journalist': 2773, 'unschuldig': 2774, 'entwicklungshilfe': 2775, 'seniorin': 2776, 'angegriffen': 2777, 'schiesserei': 2778, 'sog': 2779, 'geschlagen': 2780, 'stagsfeier': 2781, 'befuerchtet': 2782, 'sek': 2783, 'grab': 2784, 'obama': 2785, 'krankes': 2786, 'haeuser': 2787, 'rechnet': 2788, 'pforzheim': 2789, 'beschwe': 2790, 'spuckt': 2791, 'lies': 2792, 'bombe': 2793, 'sprach': 2794, 'unrechts': 2795, 'persoenlichkeit': 2796, 'rassisten': 2797, 'morde': 2798, 'kein': 2799, 'ersetzen': 2800, 'korrektheit': 2801, 'handwerk': 2802, 'lawyerberlin': 2803, 'fanatismus': 2804, 'gedient': 2805, 'rpo': 2806, 'tkkg': 2807, 'welch': 2808, 'aufgewachsen': 2809, 'verbindung': 2810, 'saschaulbrich': 2811, 'zugelassen': 2812, 'mittelalter': 2813, 'auswirkungen': 2814, 'herrlich': 2815, 'mein': 2816, 'joanacotar': 2817, 'notabaris': 2818, 'masseneinwanderung': 2819, 'katrin': 2820, 'goering': 2821, 'aussagen': 2822, 'religioesen': 2823, 'basel': 2824, 'unglaeubige': 2825, 'nachfolgerin': 2826, 'gebote': 2827, 'com': 2828, 'ferkel': 2829, 'hohlbirnen': 2830, 'hervor': 2831, 'gruenes': 2832, 'bernd471': 2833, '1461': 2834, 'genutzt': 2835, '37': 2836, 'iraker': 2837, 'sass': 2838, 'trio': 2839, 'legte': 2840, 'nordafrikanern': 2841, 'franzoesischen': 2842, 'terrorisieren': 2843, 'gangs': 2844, 'gutmenschen': 2845, 'treiben': 2846, 'frontal21': 2847, 'eibuch': 2848, 'tauchen': 2849, 'ausreisepflichtige': 2850, 'unterkunft': 2851, 'bautzen': 2852, 'mehrmals': 2853, 'muslim': 2854, 'lande': 2855, 'bester': 2856, 'antisemitische': 2857, 'grossteil': 2858, 'begangen': 2859, 'plant': 2860, 'verhaeltnisse': 2861, 'tankstelle': 2862, 'verbreitung': 2863, 'eisern': 2864, 'systematisch': 2865, 'mobbing': 2866, 'moerder': 2867, 'geniesst': 2868, 'london': 2869, 'heilige': 2870, 'migrationshintergrund': 2871, 'bestes': 2872, 'ete': 2873, 'bessere': 2874, 'neulich': 2875, 'refugees': 2876, 'wundern': 2877, 'elite': 2878, 'empoeren': 2879, 'rip': 2880, 'komischerweise': 2881, 'rosa': 2882, 'ebenso': 2883, 'bestimmen': 2884, 'gebt': 2885, 'bars': 2886, 'belohnung': 2887, 'ermittler': 2888, 'franzoesische': 2889, 'bmw': 2890, 'enteignen': 2891, 'arbeitet': 2892, 'gelandet': 2893, 'wolle': 2894, 'aberfair': 2895, 'verlogen': 2896, 'ikel13': 2897, 'impfpflicht': 2898, 'staunen': 2899, 'gelder': 2900, 'ausdenken': 2901, 'verstaendlich': 2902, 'ignorieren': 2903, 'kinderehe': 2904, 'wette': 2905, 'musst': 2906, 'ewig': 2907, 'ministerpraesident': 2908, 'traum': 2909, 'spdbt': 2910, 'tl': 2911, 'spruch': 2912, 'automatisch': 2913, 'wahres': 2914, 'hab': 2915, 'zig': 2916, 'tabletten': 2917, 'europaistdieantwo': 2918, 'england': 2919, 'gretas': 2920, 'oefter': 2921, 'abtreibung': 2922, 'bereut': 2923, 'solltet': 2924, 'schuelerin': 2925, 'reinickendorf': 2926, 'nichtdeutscher': 2927, 'grenze': 2928, 'aka': 2929, 'quasi': 2930, 'kaeme': 2931, 'hund': 2932, 'brauche': 2933, 'gelsenkirchen': 2934, 'randalie': 2935, 'fuettern': 2936, 'hohn': 2937, 'empfiehlt': 2938, 'empfehle': 2939, 'betreuung': 2940, 'diskriminierung': 2941, 'staates': 2942, 'volle': 2943, 'koffer': 2944, 'brd': 2945, 'sah': 2946, 'zunge': 2947, 'zumal': 2948, 'lauter': 2949, 'katholischen': 2950, 'vorfaelle': 2951, 'aufmerksamkeit': 2952, 'moeglichen': 2953, 'erschuette': 2954, 'kardinal': 2955, 'marx': 2956, 'propheten': 2957, 'verfuehren': 2958, 'einzug': 2959, 'steue': 2960, 'otto': 2961, 'aufgabe': 2962, 'berater': 2963, 'nationale': 2964, '38': 2965, 'enteignung': 2966, 'vollenden': 2967, 'rueckt': 2968, 'iger': 2969, 'schutzsuchender': 2970, 'griffen': 2971, 'heiss': 2972, 'februar': 2973, 'sommer': 2974, 'tempolimit': 2975, 'brechen': 2976, 'polly20696833': 2977, 'ib': 2978, 'emskirchen': 2979, 'kleinere': 2980, 'sanktionen': 2981, 'verweige': 2982, 'erlitt': 2983, 'bewaehrung': 2984, 'herzlichen': 2985, 'unklar': 2986, 'rast': 2987, 'frohes': 2988, 'aufschrift': 2989, 'one': 2990, 'persoenliche': 2991, 'besuch': 2992, 'verschleie': 2993, 'korrekt': 2994, 'lieb': 2995, 'koch': 2996, 'talent': 2997, 'seenotrettung': 2998, 'allesamt': 2999, 'popp': 3000, 'stendal': 3001, 'beweist': 3002, 'aktionen': 3003, 'drastisch': 3004, 'jubel': 3005, 'muslimen': 3006, 'screenshots': 3007, 'freitags': 3008, 'trainer': 3009, 'fluechtlingspolitik': 3010, 'ler': 3011, 'berichten': 3012, 'fremdenfeindlichkeit': 3013, 'gerufen': 3014, 'passen': 3015, 'weinen': 3016, 'gelaufen': 3017, 'ausgegeben': 3018, 'amtsgericht': 3019, 'augsburg': 3020, 'vorgefueh': 3021, 'ikels': 3022, 'paukenschlag': 3023, 'nachfolger': 3024, 'geschlecht': 3025, 'hecking': 3026, 'borussia': 3027, 'aktuellen': 3028, 'anwendung': 3029, 'ns': 3030, 'vaeter': 3031, 'leiden': 3032, 'kritischen': 3033, 'twittersper': 3034, 'studie': 3035, 'verletzen': 3036, 'begehen': 3037, 'sorge': 3038, 'wegfallen': 3039, 'widerspruch': 3040, 'ggue': 3041, 'diskussion': 3042, 'weltbild': 3043, 'hcstrachefp': 3044, 'oppositionspa': 3045, 'pol': 3046, 'tatsache': 3047, 'nsdap': 3048, 'urspruenglich': 3049, 'nachlesen': 3050, 'zulassen': 3051, 'antonio': 3052, 'diavata': 3053, 'brandanschlag': 3054, 'life': 3055, 'luege': 3056, 'staatsgewalt': 3057, 'aufrecht': 3058, 'hannelore': 3059, 'wahlbeobachter': 3060, 'gebuehren': 3061, 'follower': 3062, 'facepalm': 3063, 'n24': 3064, 'argumente': 3065, 'esse': 3066, 'istanbul': 3067, 'terrorist': 3068, 'raeumt': 3069, 'ausschuss': 3070, 'koelnhbf': 3071, 'at': 3072, 'gesamten': 3073, 'maghreb': 3074, 'gruessen': 3075, 'vorerst': 3076, 'suess': 3077, 'klagt': 3078, 'raub': 3079, '2050': 3080, 'geoeffnet': 3081, 'traue': 3082, 'von': 3083, '46': 3084, 'fach': 3085, 'wehrpflicht': 3086, 'zentralrat': 3087, 'geduldet': 3088, 'zustaende': 3089, 'lepenseur': 3090, 'schlagzeilen': 3091, 'starken': 3092, 'moralische': 3093, 'ltrlp': 3094, 'aufklaerung': 3095, 'pfingstsonntag': 3096, 'praesentie': 3097, 'anerkennung': 3098, 'auslaendische': 3099, 'niedersachsen': 3100, 'investie': 3101, 'strauss': 3102, 'and': 3103, 'praesidenten': 3104, 'harvard': 3105, 'vorwurf': 3106, 'pflegen': 3107, 'insekten': 3108, 'diesmal': 3109, 'ideologische': 3110, 'diversitaet': 3111, 'armee': 3112, 'wahlbeteiligung': 3113, 'dreyer': 3114, 'ast': 3115, 'andrea': 3116, 'fuers': 3117, 'denkzettel': 3118, 'abschlussbericht': 3119, 'endspu': 3120, 'gesellschaftlichen': 3121, 'regierungspa': 3122, 'himmelfah': 3123, 'stern': 3124, 'sowohl': 3125, 'gesetze': 3126, 'bleiberecht': 3127, 'juenger': 3128, 'einsatzkraefte': 3129, 'haut': 3130, 'venomstrike3': 3131, 'ituade': 3132, 'aermsten': 3133, 'pakistan': 3134, 'schwesig': 3135, 'freibad': 3136, 'anwohner': 3137, 'ueberblick': 3138, 'einziehen': 3139, 'entschlossen': 3140, 'nachgedacht': 3141, 'geklae': 3142, 'hetzjagden': 3143, 'hgmaassen': 3144, 'markus': 3145, 'applaus': 3146, 'gewinnen': 3147, 'danken': 3148, 'versprechen': 3149, 'ueberpruefung': 3150, 'heuchelei': 3151, 'alexander': 3152, 'vorsitzender': 3153, 'wussten': 3154, 'politischer': 3155, 'ekelhaft': 3156, 'erwaehnung': 3157, 'stoeren': 3158, 'security': 3159, 'drohungen': 3160, 'marschieren': 3161, 'esel': 3162, 'lagen': 3163, 'berg': 3164, 'meter': 3165, 'schnee': 3166, 'schoener': 3167, 'mdb': 3168, 'interessante': 3169, 'stattfinden': 3170, 'erstarken': 3171, 'anzeige': 3172, 'anspruch': 3173, 'verzer': 3174, 'mittel': 3175, 'verdammt': 3176, 'besuchen': 3177, 'webseite': 3178, 'gmbh': 3179, 'verstanden': 3180, 'freiem': 3181, 'kommunen': 3182, 'einzumischen': 3183, 'nehme': 3184, 'oerr': 3185, 'maerz': 3186, 'gelaende': 3187, 'wolf': 3188, 'geniale': 3189, 'umso': 3190, 'gefaelligst': 3191, 'zivilisation': 3192, 'titelseiten': 3193, 'rahmen': 3194, 'voelker': 3195, 'fuerchtet': 3196, 'gefaehrliche': 3197, 'erstaunlich': 3198, 'vermutet': 3199, 'pankow': 3200, 'wilhelmsburg': 3201, 'zeugenaufruf': 3202, 'entdecken': 3203, 'erfahrung': 3204, 'gegenwae': 3205, 'stehe': 3206, 'betrachte': 3207, 'derweil': 3208, 'irgendwann': 3209, 'tiefer': 3210, 'merkelland': 3211, 'verkeh': 3212, 'fridayforfuture': 3213, 'entstanden': 3214, 'ausrufung': 3215, 'grundrechte': 3216, 'produzie': 3217, 'finanzamt': 3218, 'dinge': 3219, 'aufregen': 3220, '03': 3221, 'st': 3222, 'strassen': 3223, 'beten': 3224, 'beachten': 3225, 'sehenswe': 3226, 'sag': 3227, 'gerecht': 3228, 'google': 3229, 'fordere': 3230, 'pfingstfest': 3231, 'besucher': 3232, 'bier': 3233, 'minderjaehrig': 3234, 'andreaschlegel3': 3235, 'verdaechtigen': 3236, 'auschwitz': 3237, 'versteckt': 3238, '36': 3239, 'ah': 3240, 'anton': 3241, 'hofreiter': 3242, 'schlaege': 3243, 'entfueh': 3244, 'hoher': 3245, 'fluechtet': 3246, 'not': 3247, 'halle': 3248, 'seltener': 3249, 'suedlaender': 3250, 'staatsversagen': 3251, 'oldenburg': 3252, 'befindet': 3253, 'merkelmussweg': 3254, 'verfolgung': 3255, 'hae': 3256, 'religioese': 3257, 'mandat': 3258, 'ueberraschend': 3259, 'weissen': 3260, 'gewaendern': 3261, 'hausdurchsuchung': 3262, 'buergerliche': 3263, 'messern': 3264, 'brandt': 3265, 'gepaeck': 3266, 'sturmgewehre': 3267, 'kalaschnikow': 3268, 'pumpgun': 3269, 'sauerei': 3270, 'soviel': 3271, 'schnelle': 3272, 'roten': 3273, 'hr': 3274, 'chaoten': 3275, 'krebs': 3276, 'patienten': 3277, 'arbeitslosen': 3278, 'aufgefunden': 3279, '2020': 3280, 'gefeie': 3281, '58': 3282, 'dieses': 3283, 'kulturellen': 3284, 'ausflug': 3285, 'bisschen': 3286, 'stechen': 3287, 'erstochen': 3288, 'ernsthaft': 3289, 'heisse': 3290, '45': 3291, 'messerangriffe': 3292, 'ueberleben': 3293, 'nationalen': 3294, 'warm': 3295, 'inneren': 3296, 'schlaegerei': 3297, 'immunitaet': 3298, 'aufgehoben': 3299, 'amri': 3300, 'gefaellt': 3301, 'handel': 3302, '41': 3303, 'eingeleitet': 3304, 'kapie': 3305, 'weh': 3306, 'betrug': 3307, 'kuenstler': 3308, 'ausbildung': 3309, 'unter': 3310, 'transistor': 3311, 'vermoegen': 3312, 'blog': 3313, 'ihre': 3314, 'lanz': 3315, 'beginnen': 3316, 'erleben': 3317, 'tuerkische': 3318, 'bezeichnung': 3319, 'teufel': 3320, 'menschaffe': 3321, 'vorsichtig': 3322, 'roland': 3323, 'widerwae': 3324, 'iges': 3325, 'invasoren': 3326, 'wichtigen': 3327, 'link': 3328, 'vereins': 3329, '130': 3330, 'stgb': 3331, 'versuch': 3332, 'erneut': 3333, 'talk': 3334, 'schlacht': 3335, 'strassburg': 3336, 'enden': 3337, 'ursachen': 3338, 'broder': 3339, 'gefaehrlicher': 3340, 'anmassen': 3341, 'gnade': 3342, 'opa': 3343, 'regime': 3344, 'hingegen': 3345, 'faildef': 3346, 'wurzeln': 3347, 'kulturen': 3348, 'asylheim': 3349, 'belogen': 3350, 'unterricht': 3351, 'griff': 3352, 'gluecklich': 3353, 'diversity': 3354, 'mitmachen': 3355, 'irre': 3356, 'beliebte': 3357, 'grossbritannien': 3358, 'sozen': 3359, 'meldungen': 3360, 'stuerzen': 3361, 'genial': 3362, 'votestrache': 3363, 'gestuerzt': 3364, 'bergab': 3365, 'prophetin': 3366, 'arschloch': 3367, 'marokko': 3368, 'stadtfest': 3369, 'uebe': 3370, 'wusste': 3371, 'extremisten': 3372, 'ueberzeugt': 3373, 'wunsch': 3374, 'dienste': 3375, 'alkohol': 3376, 'suff': 3377, 'gratulation': 3378, 'vermeintlichen': 3379, 'original': 3380, 'illegales': 3381, 'janboehm': 3382, 'aktivist': 3383, 'akt': 3384, 'linker': 3385, 'tuerkischer': 3386, 'abgebaut': 3387, 'nationalsozialismus': 3388, 'marokkaner': 3389, 'ueberwiegend': 3390, 'moslem': 3391, 'brot': 3392, 'satt': 3393, 'ali': 3394, 'berichteten': 3395, 'abboud': 3396, 'eric': 3397, 'uploadfilter': 3398, 'identitaeten': 3399, 'audi': 3400, 'folgendes': 3401, 'mitbekommen': 3402, 'brennende': 3403, 'ersetzt': 3404, 'igesamt': 3405, 'forderungen': 3406, 'kopenhagen': 3407, 'verbessern': 3408, 'als': 3409, 'wahnsinnigen': 3410, 'ehemals': 3411, '300': 3412, 'libanesen': 3413, 'franzosen': 3414, 'kommentieren': 3415, 'spannend': 3416, 'letzter': 3417, 'karriere': 3418, 'niemanden': 3419, 'prueffall': 3420, 'totaler': 3421, 'vergleichen': 3422, 'vergeht': 3423, 'traeume': 3424, 'moralisch': 3425, 'niemalsafd': 3426, 'migrationspaket': 3427, 'gespraeche': 3428, 'beschreibt': 3429, 'arschloecher': 3430, 'bis': 3431, 'thueringer': 3432, 'behaupten': 3433, 'abschaffung': 3434, 'gewollt': 3435, 'frohnmaier': 3436, 'gell': 3437, 'quellen': 3438, 'solle': 3439, 'verdaechtige': 3440, 'interesse': 3441, 'mitzunehmen': 3442, 'alex': 3443, 'sozialen': 3444, 'eitag': 3445, 'mitgefuehl': 3446, 'erhaelt': 3447, 'milch': 3448, 'nen': 3449, 'taetig': 3450, 'umfeld': 3451, 'muesse': 3452, 'zeichnet': 3453, 'religioeser': 3454, 'regierungspraesident': 3455, 'kopfschuss': 3456, 'ansonsten': 3457, 'thelen': 3458, 'co2steuer': 3459, 'sowieso': 3460, 'vermitteln': 3461, 'ehemaligen': 3462, 'dicht': 3463, 'vollen': 3464, 'peking': 3465, 'gewusst': 3466, 'hashtag': 3467, 'schlau': 3468, 'spalten': 3469, 'frust': 3470, 'zitat': 3471, 'konzept': 3472, 'wirkung': 3473, 'ueberforde': 3474, '33': 3475, 'gemerkt': 3476, 'ba': 3477, 'elektroautos': 3478, 'geliefe': 3479, 'maximal': 3480, 'saekularen': 3481, '57': 3482, 'linkspa': 3483, 'gleichberechtigung': 3484, 'geblockt': 3485, 'pepper46477330': 3486, 'erkannt': 3487, '264': 3488, 'haeftlinge': 3489, 'finanzielle': 3490, 'linksliberalen': 3491, 'ossis': 3492, 'gruss': 3493, 'net': 3494, 'schickeria': 3495, 'gruenekhmer': 3496, 'deswegen': 3497, 'lasse': 3498, 'heide': 3499, 'vorbild': 3500, 'irren': 3501, 'find': 3502, 'aeussern': 3503, 'rundfunk': 3504, 'uebrigen': 3505, 'verstorben': 3506, 'bastard': 3507, 'biodeutsch': 3508, 'hoechstens': 3509, 'turksarecomingforiceland': 3510, 'tuerkisch': 3511, 'smuellermdb': 3512, 'best': 3513, 'einseitig': 3514, 'buergerlich': 3515, 'einzelnen': 3516, 'bot': 3517, 'manipulie': 3518, 'hype': 3519, 'erbaermlicher': 3520, 'vernichten': 3521, 'fakenews': 3522, 'durchsetzung': 3523, 'wenden': 3524, 'angesagt': 3525, 'groessten': 3526, 'heiligen': 3527, 'raute': 3528, 'pausenlos': 3529, 'durfte': 3530, 'geschrei': 3531, 'ever': 3532, 'aeusserungen': 3533, 'bergauf': 3534, 'gestoe': 3535, 'spitze': 3536, 'sauer': 3537, 'schwerst': 3538, 'globalwarming': 3539, 'doofmichels': 3540, 'allen': 3541, 'preise': 3542, 'billiger': 3543, 'bissel': 3544, 'cheblis': 3545, 'regimes': 3546, 'wow': 3547, 'gang': 3548, 'iv': 3549, 'haare': 3550, 'finanzminister': 3551, 'musels': 3552, 'horror': 3553, 'typisch': 3554, 'abgesagt': 3555, 'geworfen': 3556, 'schlechte': 3557, 'mehrfamilienhaus': 3558, 'bochum': 3559, 'halb': 3560, 'dreckspack': 3561, 'saufen': 3562, 'anziehen': 3563, 'hoeher': 3564, 'entdeckt': 3565, 'sinken': 3566, 'jubeln': 3567, 'beine': 3568, 'unterschrift': 3569, 'doof': 3570, 'reform': 3571, 'nurwesentliches': 3572, 'erichaschi': 3573, 'glaub': 3574, 'anderen': 3575, 'mach': 3576, 'bewusstsein': 3577, '2002': 3578, 'ganzes': 3579, 'biede': 3580, 'buergerlicher': 3581, 'miesen': 3582, 'ragen': 3583, 'verwechselt': 3584, 'drama': 3585, 'theater': 3586, 'susanna': 3587, 'provokation': 3588, 'joachim': 3589, 'anfaengen': 3590, 'andersdenkende': 3591, 'mutti': 3592, '78': 3593, 'durchbruch': 3594, 'herunter': 3595, 'thomasoppermann': 3596, 'mass': 3597, 'alternativen': 3598, 'verschwindet': 3599, 'kindheit': 3600, 'with': 3601, '72': 3602, 'feinde': 3603, 'patriot': 3604, 'einnahmen': 3605, 'bevoelkerungsaustausch': 3606, 'kleines': 3607, 'allgemeinen': 3608, 'mars': 3609, 'radikalisierung': 3610, 'bau': 3611, 'erzeugt': 3612, 'lebenslaenglich': 3613, 'aufstehen': 3614, 'legitimie': 3615, 'bunt': 3616, 'begriff': 3617, 'fleisch': 3618, 'diezeit': 3619, 'blocken': 3620, 'unwo': 3621, 'desjahres': 3622, 'juedische': 3623, 'plaene': 3624, 'schaftsnachrichten': 3625, '74': 3626, 'verlie': 3627, 'live': 3628, 'getroffen': 3629, 'rechtlicher': 3630, 'faschismus': 3631, 'schaller': 3632, 'tier': 3633, 'herbe': 3634, 'spende': 3635, 'ausweisen': 3636, 'einstellung': 3637, 'idiot': 3638, 'anwaeltin': 3639, 'faelle': 3640, 'diffamierung': 3641, 'stinkt': 3642, 'altmaier': 3643, 'knobloch': 3644, 'auslieferung': 3645, 'angekuendigt': 3646, 'schuldig': 3647, 'verkommen': 3648, 'praktizie': 3649, 'praesidentin': 3650, 'festgestellt': 3651, 'mr': 3652, 'beleidigung': 3653, 'privaten': 3654, 'gabriel': 3655, 'woe': 3656, 'autobauer': 3657, 'ostdeutschlands': 3658, 'grillfest': 3659, 'gewinner': 3660, 'ergebnisse': 3661, 'bundestagswahl': 3662, 'strategischen': 3663, 'gerettet': 3664, 'wiese': 3665, 'geschaechtet': 3666, 'trailer': 3667, 'beziehungen': 3668, 'wladimir': 3669, 'schliessung': 3670, 'oevp': 3671, 'bluff': 3672, 'stellungnahme': 3673, 'entwickelt': 3674, 'reichweite': 3675, 'schwingen': 3676, 'chemie': 3677, 'amerika': 3678, 'stehend': 3679, 'unglaeubigen': 3680, 'etwas': 3681, 'prognose': 3682, 'weint': 3683, 'rock': 3684, 'ereignisse': 3685, 'freundin': 3686, 'darpa': 3687, 'kinderschaender': 3688, 'phone': 3689, 'inklusive': 3690, 'austria': 3691, 'eingehen': 3692, 'gelernt': 3693, 'tasche': 3694, 'spaetestens': 3695, 'fcbsge': 3696, 'finale': 3697, 'bewohner': 3698, 'strafbar': 3699, 'lahm': 3700, 'money': 3701, 'rauben': 3702, 'arktis': 3703, 'global': 3704, 'ohnehin': 3705, 'ice': 3706, 'liebsten': 3707, 'beileid': 3708, 'berlinerpolizei': 3709, 'drogenszene': 3710, 'naeher': 3711, 'router': 3712, 'standardeinstellung': 3713, 'speiche': 3714, 'anmelden': 3715, 'telefonanbieter': 3716, 'speichern': 3717, 'ausgemacht': 3718, 'bekloppt': 3719, 'terrorismus': 3720, 'verfolgt': 3721, 'ebene': 3722, 'kulturell': 3723, 'hamaro777': 3724, 'kohle': 3725, 'rd': 3726, 'frosch': 3727, '64': 3728, 'wikipedia': 3729, 'autoindustrie': 3730, 'taetern': 3731, 'decke': 3732, 'baqqu': 3733, 'j': 3734, 'playlist': 3735, 'hinzugefuegt': 3736, 'verlage': 3737, 'beschaeftigte': 3738, 'malmoe': 3739, 'insolvent': 3740, 'oekopolitik': 3741, 'beschaeftigten': 3742, 'alpen': 3743, 'wendt': 3744, 'sonst': 3745, 'climateemergency': 3746, 'parade': 3747, 'offelsalat': 3748, 'nowehrmuc': 3749, 'klatschen': 3750, 'vereinbar': 3751, 'buettelrepublik': 3752, 'erschl': 3753, 'mohamed': 3754, 'scherz': 3755, 'rauskommt': 3756, 'saudiarabien': 3757, 'verhaeltnis': 3758, 'registrie': 3759, 'willst': 3760, 'vermieter': 3761, 'mieter': 3762, 'gedroht': 3763, 'innsbruck': 3764, 'silvesternacht': 3765, 'kopfverletzungen': 3766, 'auge': 3767, 'frans': 3768, 'publikum': 3769, 'klatscht': 3770, 'gefaelscht': 3771, 'zeitgenosse': 3772, 'rechter': 3773, 'elfenbeinkueste': 3774, 'raubt': 3775, 'salafist': 3776, 'groesse': 3777, 'produzieren': 3778, 'fluechtlingszahlen': 3779, 'prueft': 3780, 'schritte': 3781, 'rechtslage': 3782, 'aufklaerer2017': 3783, 'zerreissen': 3784, 'aushalten': 3785, 'dankbarkeit': 3786, 'maischberger': 3787, 'zerrissen': 3788, 'sendet': 3789, 'zmd': 3790, '1945': 3791, 'studienabbrecher': 3792, 'unterrichten': 3793, 'schaendung': 3794, 'christlicher': 3795, 'erschuettern': 3796, 'sozialpolitische': 3797, 'mdlfernandes': 3798, 'ltmv': 3799, 'mv': 3800, 'ostdeutschen': 3801, 'kontakt': 3802, 'westdeutschen': 3803, 'sichergestellt': 3804, 'mittelschicht': 3805, 'durchschnittsverdiener': 3806, 'ernaehren': 3807, 'zwangsweise': 3808, 'bedrueckender': 3809, 'lagebericht': 3810, 'sozialstaat': 3811, 'modernen': 3812, 'mythos': 3813, 'verdienten': 3814, 'training': 3815, 'spendentour2019': 3816, 'bundeslaender': 3817, 'helfernhelfen': 3818, 'weimar': 3819, 'reiche': 3820, 'grundsaetzlich': 3821, 'wuetend': 3822, 'juergen': 3823, 'trittin': 3824, 'digitalisierung': 3825, 'zurueckversetzt': 3826, 'neutrale': 3827, 'unmoeglich': 3828, 'goerlitzistschlaugoerlitzwaehltblau': 3829, 'klares': 3830, 'gegenprotest': 3831, 'zarzis': 3832, 'akzent': 3833, 'ueberfallen': 3834, 'brueder': 3835, 'senior': 3836, 'bewusstlos': 3837, 'klinik': 3838, 'massenhaft': 3839, 'hochburgen': 3840, 'lega': 3841, 'behauptung': 3842, 'unterlegen': 3843, 'tiefe': 3844, 'krefeld': 3845, 'reis': 3846, 'angebrannt': 3847, 'definie': 3848, 'sexueller': 3849, '9jaehrigen': 3850, 'faktenfinder': 3851, 'personal': 3852, 'noetigen': 3853, 'rueckhalt': 3854, 'bz': 3855, 'bzberlin': 3856, 'iranische': 3857, 'freundschaft': 3858, 'betonen': 3859, 'mitnehmen': 3860, 'obm': 3861, 'rufe': 3862, 'boykottieren': 3863, 'veranstaltungen': 3864, 'tabu': 3865, 'weltherrschaft': 3866, 'iq': 3867, 'schwaechung': 3868, 'tendenzen': 3869, 'gruende': 3870, 'abstand': 3871, 'cm': 3872, 'hohem': 3873, 'riskie': 3874, 'amerikanische': 3875, 'euros': 3876, 'bergung': 3877, 'ankerzentrum': 3878, 'anzeigen': 3879, 'festnahmen': 3880, 'gotha': 3881, 'nahe': 3882, 'einkaufszentrum': 3883, 'hintergruenden': 3884, 'palaestinenser': 3885, 'neukoelln': 3886, 'gaststaette': 3887, 'eskalie': 3888, 'massenschlaegerei': 3889, 'mafia': 3890, 'gebaut': 3891, 'taschengeld': 3892, '150': 3893, 'erhoeht': 3894, 'beduerftigen': 3895, 'tafel': 3896, 'ohrfeigt': 3897, 'europaeisches': 3898, 'koestlich': 3899, 'beschriebenen': 3900, 'flucht': 3901, 'ergreift': 3902, '14000': 3903, '104': 3904, 'veruebt': 3905, '6450': 3906, 'zugeben': 3907, 'geraten': 3908, 'bankrotterklaerung': 3909, 'aufzug': 3910, 'herrschaft': 3911, 'versuchte': 3912, 'bachelor': 3913, 'kandidatin': 3914, 'guinea': 3915, 'beleidigte': 3916, 'tatverdaechtige': 3917, 'milieu': 3918, 'grossfamilien': 3919, 'pfarrer': 3920, 'sekretaerin': 3921, 'geschlechter': 3922, 'ausschliesslich': 3923, 'moschee': 3924, 'fremder': 3925, 'meinungs': 3926, 'einfallen': 3927, 'senat': 3928, 'offenen': 3929, 'debatten': 3930, 'barbaren': 3931, 'musikinstrumente': 3932, 'wobei': 3933, 'vollidioten': 3934, 'grossvater': 3935, 'teilweise': 3936, 'endgueltig': 3937, 'pippi': 3938, 'fassen': 3939, 'symptompanik': 3940, 'migraten': 3941, 'schweres': 3942, 'fruehen': 3943, 'hagel': 3944, 'verschaerft': 3945, 'index': 3946, 'hyperventilie': 3947, 'retouren': 3948, 'konzerne': 3949, 'fluechtlingskrise': 3950, 'groessenwahn': 3951, 'eckardt': 3952, 'vernichtung': 3953, 'christlich': 3954, 'festen': 3955, 'zusammenarbeit': 3956, 'dezember': 3957, 'beliebter': 3958, 'achgut': 3959, 'mutige': 3960, 'drogentrip': 3961, 'unfassbares': 3962, 'rechtsextreme': 3963, 'minderjaehrige': 3964, 'straubing': 3965, 'gehirngewaschenen': 3966, 'doku': 3967, 'professoren': 3968, 'unendlich': 3969, 'ho': 3970, 'dient': 3971, 'vorzeigeprojekt': 3972, 'seestadt': 3973, 'tummeln': 3974, 'rassist': 3975, 'hambacher': 3976, 'gehandelt': 3977, 'scheibe': 3978, 'faelscher': 3979, 'ebenfalls': 3980, 'naechtlichen': 3981, 'haeufen': 3982, 'politikers': 3983, 'mitschuld': 3984, 'msm': 3985, 'sexualitaet': 3986, 'bloedsinn': 3987, 'gaga': 3988, 'durchs': 3989, 'pranger': 3990, 'autorin': 3991, 'woran': 3992, '35': 3993, 'vetternwi': 3994, 'giffey': 3995, 'asylsuchende': 3996, 'besitzer': 3997, 'typischer': 3998, 'rechtsradikaler': 3999, '39': 4000, 'folgten': 4001, 'kennengelernt': 4002, 'umgesetzt': 4003, 'eingereicht': 4004, 'drogendealer': 4005, 'verkaufsflaechen': 4006, 'durchsage': 4007, 'wilkommen': 4008, 'gestrandet': 4009, 'meiden': 4010, 'dpolghh': 4011, 'sozialhilfeempfaenger': 4012, 'teuren': 4013, 'maechtig': 4014, 'belege': 4015, 'rechtsextremer': 4016, 'ganzer': 4017, 'volksgruppen': 4018, 'merkeldeutschland': 4019, 'goerli': 4020, 'sexistisch': 4021, 'busfahrer': 4022, 'eingeschaltet': 4023, 'karfreitag': 4024, 'stichverletzungen': 4025, 'whatsapp': 4026, 'spdberlin': 4027, 'kleinlaut': 4028, 'erschuetternd': 4029, 'suspendie': 4030, 'gemobbt': 4031, 'kassiererin': 4032, 'beisst': 4033, 'polizistin': 4034, 'toetet': 4035, 'totschlaeger': 4036, 'top': 4037, 'informie': 4038, 'celle': 4039, 'schwarzafrikaner': 4040, 'naiven': 4041, 'schreier': 4042, 'heimatlaendern': 4043, 'unbegrenzt': 4044, 'heimatland': 4045, 'hauabgesetz': 4046, 'synonym': 4047, 'wahllokal': 4048, 'wahlempfehlungen': 4049, 'bestimmte': 4050, 'omas': 4051, 'grossstaedten': 4052, 'einseitige': 4053, 'weitersagen': 4054, 'identitaere': 4055, 'albania': 4056, 'gottchen': 4057, 'tipp': 4058, 'blinde': 4059, 'radikaler': 4060, 'markie': 4061, 'darzustellen': 4062, 'jahrzehnte': 4063, 'rollen': 4064, 'genie': 4065, 'twitterde': 4066, 'vorgegangen': 4067, 'bewaehrungsstrafe': 4068, 'hasspostings': 4069, 'jegliche': 4070, 'obendrauf': 4071, 'woher': 4072, 'gefluechtete': 4073, 'fremde': 4074, '1mai': 4075, 'kino': 4076, 'zunehmenden': 4077, 'wunderschoenen': 4078, 'ostersonntag': 4079, 'abgeholt': 4080, 'forscher': 4081, 'aktivitaet': 4082, 'hirntod': 4083, 'widersprechen': 4084, 'vll': 4085, 'massiver': 4086, 'wohnungsmangel': 4087, 'enteignungen': 4088, 'tragisch': 4089, 'teenies': 4090, 'korrupt': 4091, 'kritisch': 4092, 'christchurch': 4093, 'attentaeter': 4094, 'schwarz': 4095, 'autor': 4096, 'atheisten': 4097, 'arbeitskreis': 4098, 'schweizer': 4099, 'abgeht': 4100, 'machtlos': 4101, 'rolex': 4102, 'sauber': 4103, 'wahn': 4104, 'solidaritaet': 4105, 'schauspieler': 4106, 'stuerzt': 4107, 'ermoeglichen': 4108, 'joseph': 4109, 'schlepper': 4110, 'regsprecher': 4111, 'sawsan': 4112, 'aprilscherz': 4113, 'staedten': 4114, 'anwenden': 4115, 'maus': 4116, 'bacho': 4117, 'half': 4118, 'freute': 4119, 'hupen': 4120, 'vonhier': 4121, 'moslemischen': 4122, 'aufgeben': 4123, 'linksgruenen': 4124, 'gelungen': 4125, 'wovon': 4126, 'joschka': 4127, 'fischer': 4128, 'traeumte': 4129, 'heutzutage': 4130, 'furchtbare': 4131, 'gehalten': 4132, 'ueberlebenskampf': 4133, 'englische': 4134, 'selbstbestimmung': 4135, 'selbstmord': 4136, 'hausotter': 4137, 'lde': 4138, 'ausreisen': 4139, 'lagerfeld': 4140, 'erhalt': 4141, 'thematisie': 4142, 'monatlich': 4143, 'intendanten': 4144, 'radio': 4145, 'qualitaetsjournalisten': 4146, 'scheinehen': 4147, 'grenzschutz': 4148, 'jede': 4149, 'reichsbuerger': 4150, 'autoren': 4151, 'koenntet': 4152, 'vorhin': 4153, 'klaus': 4154, 'fritz': 4155, 'sohnes': 4156, 'kaiser': 4157, 'meisseln': 4158, 'blanker': 4159, 'sellner': 4160, 'westernhagen': 4161, 'beck': 4162, 'ideen': 4163, 'degenerie': 4164, 'wechseln': 4165, 'feminismus': 4166, 'faule': 4167, 'eier': 4168, 'tiefen': 4169, 'lars': 4170, 'hetzprogramm': 4171, 'gegen': 4172, 'gabbe': 4173, 'ommy': 4174, 'screenshot': 4175, 'vorm': 4176, 'auftritt': 4177, 'krahmax': 4178, 'stur': 4179, 'gespalten': 4180, 'unbekannt': 4181, 'frauenquote': 4182, 'soviele': 4183, 'forschung': 4184, 'breaking': 4185, 'tee': 4186, 'gesichtet': 4187, 'exemplare': 4188, 'reichen': 4189, 'vandalismus': 4190, 'groessere': 4191, 'geruecht': 4192, 'fc': 4193, 'friedrichmerz': 4194, 'pointe': 4195, 'vorwuerfe': 4196, 'abscheu': 4197, 'ekel': 4198, 'ernaehrung': 4199, 'matthaeus': 4200, 'hfa': 4201, 'parlamentswahl': 4202, 'finnland': 4203, 'finnen': 4204, 'uhrbvb': 4205, 'schalke': 4206, 'wechsel': 4207, 'zwoelf': 4208, 'niederlanden': 4209, 'gladbach': 4210, 'desaster': 4211, 'erreichten': 4212, 'doppelt': 4213, 'begrenzen': 4214, 'laenderfinanzausgleich': 4215, 'habecks': 4216, 'huette': 4217, 'inkl': 4218, 'familiennachzug': 4219, 'gewisse': 4220, 'sichere': 4221, 'drittstaaten': 4222, 'wahlrecht': 4223, 'verstoesst': 4224, 'beobachten': 4225, 'wiederholen': 4226, 'wande': 4227, 'kleinstadt': 4228, 'scheren': 4229, 'lebendigem': 4230, 'fliehen': 4231, 'august': 4232, 'nannte': 4233, 'enkeln': 4234, 'durchsetzen': 4235, 'liche': 4236, 'fesseln': 4237, 'beamte': 4238, 'geflogen': 4239, 'renate': 4240, 'kuenast': 4241, 'awayklein': 4242, 'lohnt': 4243, 'fluechtlingskosten': 4244, 'kantholz': 4245, 'poggenburg': 4246, 'bundesverfassungsgericht': 4247, 'z4': 4248, 'asylverfahren': 4249, 'abouchaker': 4250, 'fingern': 4251, 'reinlassen': 4252, 'beachtet': 4253, 'schumacher': 4254, 'ghettos': 4255, 'messe': 4256, 'motiv': 4257, 'mufl': 4258, 'lkw': 4259, 'absicht': 4260, 'bottrop': 4261, 'erfolgreiches': 4262, 'happy': 4263, 'entschuldigt': 4264, 'hemd': 4265, 'ze': 4266, 'geschlossene': 4267, 'stell': 4268, 'staatsfunk': 4269, 'jung': 4270, 'relativ': 4271, 'instrumentalisie': 4272, 'geschweige': 4273, 'diese': 4274, 'zufall': 4275, 'dfb': 4276, 'heidelberg': 4277, 'hochzeiten': 4278, 'schuessen': 4279, 'einwilligung': 4280, 'kondom': 4281, 'haende': 4282, 'ferien': 4283, 'voeller': 4284, 'tuecke': 4285, 'bruecke': 4286, 'heftige': 4287, 'niko': 4288, 'stasitrine': 4289, 'fichte': 4290, 'wehe': 4291, 'unterstellt': 4292, 'staatsschutz': 4293, 'eindringlinge': 4294, 'lagebild': 4295, 'geh': 4296, 'selbstverstaendlich': 4297, 'suv': 4298, 'umsteigen': 4299, 'stuermt': 4300, 'heimatlaender': 4301, 'schaftswoche': 4302, 'ermittlungsrichter': 4303, 'treffend': 4304, 'einstellen': 4305, 'erfahren': 4306, 'feue': 4307, 'lehmann': 4308, 'aussterben': 4309, 'liga': 4310, 'boris': 4311, 'rponline': 4312, 'moenchengladbach': 4313, 'schaedigung': 4314, 'fachkraefteeinwanderung': 4315, 'schein': 4316, 'erwachsener': 4317, 'jogginghosen': 4318, 'oktoberfest': 4319, 'verbannen': 4320, 'kommentare': 4321, 'nationalsozialisten': 4322, 'ohrfeigen': 4323, 'ueben': 4324, 'beruf': 4325, 'womoeglich': 4326, 'vate': 4327, 'getrennt': 4328, 'raege': 4329, 'kuendigen': 4330, 'europarat': 4331, 'gruendung': 4332, 'entwicklungen': 4333, 'demographie': 4334, 'ruder': 4335, 'galt': 4336, 'rechtes': 4337, 'befragten': 4338, 'geheim': 4339, 'eingestuft': 4340, 'jammern': 4341, 'vorgang': 4342, 'curio': 4343, 'unterscheiden': 4344, 'zutreffend': 4345, 'vorbereitet': 4346, 'zimmer': 4347, 'quoten': 4348, 'freies': 4349, 'chancen': 4350, 'klarnamen': 4351, 'anonym': 4352, 'daimler': 4353, 'feminist': 4354, 'gleichstellung': 4355, 'unabhaengig': 4356, 'letztlich': 4357, 'sachthemen': 4358, 'wdr': 4359, 'positionen': 4360, 'herzliches': 4361, 'vilimsky': 4362, 'bundestagsvizepraesidentin': 4363, 'verrecke': 4364, 'entscheidende': 4365, 'zugestimmt': 4366, 'kommission': 4367, 'verbindlich': 4368, 'bemerkenswe': 4369, 'amadeu': 4370, 'thessaloniki': 4371, 'brandstiftung': 4372, 'ungeborenen': 4373, 'servicetweet': 4374, 'bildet': 4375, 'steine': 4376, 'frueh': 4377, 'hofer': 4378, 'fuehrung': 4379, 'ersetze': 4380, 'oezil': 4381, 'mimimi': 4382, 'braende': 4383, 'tazgezwitscher': 4384, 'schickt': 4385, 'saemtliche': 4386, 'block': 4387, 'verraeter': 4388, 'weihnachten': 4389, 'pegida': 4390, 'grausam': 4391, 'begruessen': 4392, 'qualifizie': 4393, 'daneben': 4394, 'erzeugen': 4395, 'simone': 4396, 'loescht': 4397, 'blockt': 4398, 'gauck': 4399, 'kacke': 4400, 'dampfen': 4401, 'staatliche': 4402, 'institutionen': 4403, 'bundespraesidenten': 4404, 'stichwahl': 4405, 'neuwahl': 4406, 'halbjahr': 4407, 'sicheren': 4408, 'dpolg': 4409, 'uebergriffen': 4410, 'gepflegt': 4411, 'scheissen': 4412, 'beruehmten': 4413, 'bad': 4414, 'abgelehnte': 4415, 'abschiebehaft': 4416, 'gesundheitska': 4417, 'isser': 4418, 'aufnahme': 4419, 'meinten': 4420, 'hoeflich': 4421, 'kritiker': 4422, '5x': 4423, 'diaetenerhoehung': 4424, 'staatssekretaer': 4425, 'kluger': 4426, 'vorstelle': 4427, 'geier': 4428, '050': 4429, 'shit': 4430, 'sprengt': 4431, 'unhaltbare': 4432, 'blicken': 4433, 'hetzt': 4434, 'tur': 4435, 'eingefueh': 4436, 'stich': 4437, 'verpflichtung': 4438, 'auslegung': 4439, 'asylantraege': 4440, 'streichen': 4441, 'busse': 4442, 'geschichtskonferenz': 4443, 'mitschnitt': 4444, 'motto': 4445, 'ditib': 4446, 'imame': 4447, 'gejammer': 4448, 'willkuerlich': 4449, 'finger': 4450, 'kostenlos': 4451, 'details': 4452, 'josef': 4453, 'konstituierende': 4454, 'democracy': 4455, 'schaebig': 4456, 'stoppt': 4457, 'schulden': 4458, 'einfordern': 4459, 'vernichtet': 4460, 'schlafen': 4461, 'kanaelen': 4462, 'helfe': 4463, 'bedanke': 4464, 'parlamentarischen': 4465, 'spielchen': 4466, 'nahrung': 4467, 'mobilisieren': 4468, 'prima': 4469, 'regulierung': 4470, 'senken': 4471, 'technologien': 4472, 'geschwafel': 4473, 'engagement': 4474, 'erklaerung': 4475, 'nette': 4476, 'rande': 4477, 'weiten': 4478, 'begeisterung': 4479, 'fachkraeften': 4480, 'chefin': 4481, 'ir': 4482, 'aufrufe': 4483, 'wahlprogramm': 4484, 'sekunden': 4485, 'gehoer': 4486, 'infostand': 4487, 'zurueckzufuehren': 4488, 'erfolgreichen': 4489, 'gespannt': 4490, 'goennen': 4491, 'oezdemir': 4492, 'eifreunden': 4493, 'nicole': 4494, 'frankenthal': 4495, 'todesu': 4496, 'reinhardswald': 4497, '2009': 4498, 'une': 4499, 'raeglich': 4500, 'peinlicher': 4501, 'christi': 4502, 'baron': 4503, 'handelsblatt': 4504, 'polizeibekannt': 4505, 'vita': 4506, 'gehetzt': 4507, 'kapitel': 4508, 'massenzuwanderung': 4509, 'killer': 4510, 'entwickeln': 4511, 'rechtsextremismus': 4512, 'fackelt': 4513, 'entfaellt': 4514, '56': 4515, 'sozialsystem': 4516, 'keingeldfuerrechts': 4517, 'praktische': 4518, 'aufgebauscht': 4519, 'atlantis': 4520, 'diplomaten': 4521, 'abgefackelt': 4522, 'flash': 4523, 'tegel': 4524, 'obdachlose': 4525, 'katze': 4526, 'sack': 4527, 'foerdermittel': 4528, '2011': 4529, 'kissinger': 4530, 'bedenklich': 4531, 'neustadt': 4532, 'bundesland': 4533, 'schwaenzen': 4534, 'panikmache': 4535, 'atomkrieg': 4536, 'waldsterben': 4537, 'schulzzug': 4538, 'landesverbands': 4539, 'kommunalen': 4540, 'bestellt': 4541, 'leistungstraeger': 4542, 'gutem': 4543, 'gewaender': 4544, 'doppelte': 4545, 'unglaubliche': 4546, 'grausame': 4547, 'tierschutz': 4548, 'gelegt': 4549, 'jemals': 4550, 'ausgelassen': 4551, 'antisemitisch': 4552, 'belasten': 4553, 'kulturelle': 4554, 'duisburg': 4555, 'bischoefe': 4556, 'sigmargabriel': 4557, 'erbaermliche': 4558, 'oppo': 4559, 'unist': 4560, 'spdfraktionrlp': 4561, 'hochaggressivem': 4562, 'beteiligung': 4563, 'linksextremer': 4564, 'ueberfueh': 4565, 'geschichten': 4566, 'sturmreif': 4567, 'aeltere': 4568, 'gewaltbereiten': 4569, 'hausfriedensbruch': 4570, 'demokratieverstaendnis': 4571, 'glaeubigen': 4572, 'reformieren': 4573, 'affaere': 4574, 'held': 4575, 'puenktlich': 4576, 'bekannte': 4577, 'geschah': 4578, 'verdacht': 4579, 'nachgehen': 4580, 'verluste': 4581, 'bemerken': 4582, 'weist': 4583, 'dennoch': 4584, 'begruendung': 4585, 'keine': 4586, 'unabhaengigkeit': 4587, 'roter': 4588, 'swr': 4589, 'tribunal': 4590, 'kompliment': 4591, 'adresse': 4592, 'evp': 4593, 'keller': 4594, 'skakeller': 4595, 'vollem': 4596, 'stil': 4597, 'durchaus': 4598, 'abzuschaffen': 4599, 'bollinger': 4600, 'fahne': 4601, 'brennen': 4602, 'massnahmen': 4603, 'vstorch': 4604, 'identifizie': 4605, 'soziale': 4606, 'plenarsitzung': 4607, 'fantasien': 4608, 'gelegenheit': 4609, 'verkaufte': 4610, 'mark': 4611, 'kooperation': 4612, 'haeufig': 4613, 'listenplatz': 4614, 'netanjahu': 4615, 'aufhoeren': 4616, 'internen': 4617, 'frisch': 4618, 'sozialer': 4619, 'tatwerkzeug': 4620, 'fridays': 4621, 'mullahs': 4622, 'aussenpolitik': 4623, 'empfohlen': 4624, 'android': 4625, 'pflege': 4626, 'ausbilden': 4627, 'hgm': 4628, 'perfekt': 4629, 'gast': 4630, 'umgekeh': 4631, 'evangelischen': 4632, 'nation': 4633, 'folgt': 4634, 'ff': 4635, 'bewegt': 4636, 'regierungen': 4637, 'heiratsstau': 4638, 'hhbombe': 4639, 'kampfmittelraeumdienst': 4640, 'einsatzfuerhamburg': 4641, 'taktik': 4642, 'tisch': 4643, 'ermittlungen': 4644, 'getreten': 4645, 'beraubt': 4646, 'derwahreerich': 4647, 'nimmer': 4648, 'dielinke': 4649, 'denkbar': 4650, 'ansicht': 4651, 'umweltschutz': 4652, 'auszug': 4653, 'hannovergenuss': 4654, 'sinnlos': 4655, 'ziele': 4656, 'umbruch': 4657, 'vorreiter': 4658, 'diegruenen': 4659, 'abends': 4660, 'steak': 4661, 'dushanwegner': 4662, 'unserioese': 4663, 'gegenwehr': 4664, 'praktisch': 4665, 'bahnt': 4666, 'komplex': 4667, 'plakat': 4668, 'graubaer1953': 4669, 'ausleben': 4670, 'ideologisie': 4671, 'geraet': 4672, 'zunehmend': 4673, 'wunderbar': 4674, '1990': 4675, 'deutschlandweitem': 4676, 'pfund': 4677, 'sobald': 4678, 'ausgeht': 4679, 'enger': 4680, 'festnehmen': 4681, 'koerperverletzung': 4682, 'lokal': 4683, 'komplette': 4684, 'christentum': 4685, 'oeffentliches': 4686, 'muenchner': 4687, 'fussgaengerzone': 4688, 'fraktionsvorsitzende': 4689, 'worum': 4690, 'zornige': 4691, 'libyschen': 4692, 'kuestenwache': 4693, 'verfrachtet': 4694, 'skandieren': 4695, 'rotgruene': 4696, 'gratuliere': 4697, 'erich': 4698, 'unheil': 4699, 'kaempfer': 4700, 'bashing': 4701, 'legten': 4702, 'aggressives': 4703, 'bomber': 4704, 'altes': 4705, 'mutmassliche': 4706, 'stammt': 4707, 'sexualdelikt': 4708, 'pakistani': 4709, 'rechnungen': 4710, 'fridays4future': 4711, 'dummmenschen': 4712, 'christliches': 4713, 'verfuegbar': 4714, 'aufgehen': 4715, 'halbwegs': 4716, 'hubschrauber': 4717, 'gebrochen': 4718, 'dazwischen': 4719, 'uebergiesst': 4720, 'aeuschung': 4721, 'erwachsene': 4722, 'andersrum': 4723, 'seele': 4724, 'hauses': 4725, 'eingereisten': 4726, 'antraege': 4727, 'opfers': 4728, 'fremdenfeindlich': 4729, 'kranken': 4730, 'mitgliedern': 4731, 'spucken': 4732, 'angestellte': 4733, 'kurse': 4734, 'nuechtern': 4735, 'geschwindigkeit': 4736, 'obdachlosen': 4737, 'op': 4738, 'taeterbeschreibung': 4739, 'eberswalde': 4740, 'marmelade': 4741, 'hierzu': 4742, 'sudanese': 4743, 'skalpie': 4744, 'express': 4745, 'verfaellt': 4746, 'nogruene': 4747, 'klimasekte': 4748, 'straftaetern': 4749, 'belegt': 4750, 'otten': 4751, 'dienst': 4752, 'nordafrikaner': 4753, 'wehr': 4754, 'zurueckkehren': 4755, 'ausreisegeld': 4756, 'gepostet': 4757, 'gsg9': 4758, 'verfluchte': 4759, 'praechtige': 4760, 'lustigen': 4761, 'twitte': 4762, 'kragen': 4763, 'stellve': 4764, 'ermittlungsverfahren': 4765, 'begruendet': 4766, 'knaller': 4767, 'konstruktiven': 4768, 'riesen': 4769, 'verueben': 4770, 'krebskranken': 4771, 'flyer': 4772, 'plakate': 4773, 'hasse': 4774, 'ungerechtigkeit': 4775, '54': 4776, 'entsorgt': 4777, 'verdoppeln': 4778, 'baut': 4779, 'tomaten': 4780, 'eiern': 4781, 'terroranschlag': 4782, 'gutachten': 4783, 'nachvollziehbar': 4784, 'wirklichen': 4785, 'phantasie': 4786, 'studium': 4787, 'aufgeblasener': 4788, 'abaerbock': 4789, 'gigatonnen': 4790, 'rundfunkbeitrag': 4791, 'abgeschafft': 4792, 'taxifahrer': 4793, 'eingeschlagen': 4794, 'geschnappt': 4795, 'oemer': 4796, 'tante': 4797, 'gingen': 4798, 'pensionisten': 4799, 'bar': 4800, 'aufnimmt': 4801, 'versorgt': 4802, 'bietet': 4803, 'justizsenator': 4804, 'bundesweiten': 4805, 'pruegelt': 4806, 'aufgehaengt': 4807, 'gelingt': 4808, 'bewegen': 4809, 'gezwungen': 4810, 'schuesse': 4811, 'fahrzeug': 4812, 'insassen': 4813, 'unschuld': 4814, 'hochzeitsgesellschaft': 4815, 'ingenieure': 4816, 'schlugen': 4817, 'locker': 4818, 'legende': 4819, 'haraldlesch': 4820, 'tatverdaechtiger': 4821, 'deggendorf': 4822, 'wut': 4823, 'aha': 4824, 'kritisieren': 4825, 'okay': 4826, 'hohen': 4827, 'hm': 4828, 'gruenebundestag': 4829, 'geordneterueckkehrgesetz': 4830, 'gesprengt': 4831, 'haftbefehle': 4832, 'erlassen': 4833, 'klimascheisse': 4834, 'verkehrskontrolle': 4835, 'durchsucht': 4836, 'fragezeichen': 4837, 'meine': 4838, 'boy': 4839, 'bomm': 4840, 'bevorzugte': 4841, 'voru': 4842, 'definition': 4843, 'handwerker': 4844, 'pruefung': 4845, 'gesellen': 4846, 'bestehen': 4847, 'germanische': 4848, 'begriffen': 4849, 'realen': 4850, 'umzusetzen': 4851, 'verstaerkt': 4852, 'ae': 4853, 'empfehlen': 4854, 'riesiges': 4855, 'verkauf': 4856, 'span': 4857, 'befristete': 4858, 'aenderungen': 4859, 'freundlich': 4860, 'haymat': 4861, 'gewohnt': 4862, 'hinaus': 4863, 'geistig': 4864, 'koerperlichen': 4865, 'ausgewaehlt': 4866, 'haettest': 4867, 'lauro': 4868, 'doc': 4869, 'ner': 4870, 'akademischen': 4871, 'anve': 4872, 'naeheren': 4873, 'institute': 4874, 'bilderberger': 4875, 'insider': 4876, 'welle': 4877, 'gerechtigkeit': 4878, 'brid': 4879, 'bestaetigen': 4880, 'protonmail': 4881, 'echtzeit': 4882, 'ueberwachungen': 4883, 'ss': 4884, '343': 4885, 'paragraph': 4886, 'teufels': 4887, 'spieglein': 4888, 'inhaftie': 4889, 'herman': 4890, 'storch': 4891, 'irrelevant': 4892, 'angelika': 4893, 'schicksal': 4894, 'thing': 4895, 'themar': 4896, 'bilanz': 4897, 'wahlbetrug': 4898, 'europawaehler': 4899, 'kategorie': 4900, 'maul': 4901, 'enthuellt': 4902, 'schwabenland': 4903, 'ehrendokto': 4904, 'ekelhafte': 4905, 'hinterlassen': 4906, 'staatsmedien': 4907, 'verlaenge': 4908, 'undemokratischen': 4909, 'einzelfaelle': 4910, 'des': 4911, 'einschalten': 4912, 'masse': 4913, 'hinterher': 4914, '87': 4915, '55': 4916, 'fasst': 4917, 'irgendjemanden': 4918, '123korona': 4919, 'ausfah': 4920, 'faustdicke': 4921, 'eilungskaempfe': 4922, 'heftig': 4923, 'verstorbenen': 4924, 'reich': 4925, 'hasses': 4926, 'brexitpa': 4927, 'tories': 4928, 'chapeau': 4929, 'schoensten': 4930, 'lyon': 4931, 'kurzschluss': 4932, 'traf': 4933, 'vanderbellen': 4934, 'eroe': 4935, 'eindruck': 4936, 'gestrigen': 4937, 'beachte': 4938, 'sinngemaess': 4939, 'auszuhalten': 4940, 'tierquaelerei': 4941, 'angeschaut': 4942, 'viel': 4943, 'nichtohnemeinkopftuch': 4944, 'wahlsieg': 4945, 'panzer': 4946, 'stuermen': 4947, 'einschreitet': 4948, 'wittern': 4949, 'bewaffnet': 4950, 'grenzenlose': 4951, 'eddie': 4952, '1412': 4953, 'vormachtstellung': 4954, 'jetzterstrecht': 4955, 'beauftragter': 4956, 'ursache': 4957, 'benennen': 4958, 'koordinie': 4959, 'fakenewsmedia': 4960, 'gewinnt': 4961, 'relevanteste': 4962, 'vorschriften': 4963, 'stuendigen': 4964, 'unterschlagen': 4965, 'existieren': 4966, 'russin': 4967, 'kurzen': 4968, 'mini': 4969, 'zugegeben': 4970, 'naechster': 4971, 'misstrauensantrag': 4972, 'onkel': 4973, 'journalistische': 4974, 'anzuenden': 4975, 'neubrandenburg': 4976, 'unheimlich': 4977, 'entscheiden': 4978, 'tvduell': 4979, 'erdreistet': 4980, 'cool': 4981, 'gefilmt': 4982, 'abriss': 4983, 'deutlicher': 4984, 'aggression': 4985, 'htlottakring': 4986, 'regulieren': 4987, 'landtags': 4988, 'bereichern': 4989, 'taharrush': 4990, 'herz': 4991, 'dulrahman': 4992, 'buntes': 4993, 'nackte': 4994, 'passantin': 4995, 'medialen': 4996, 'schneidet': 4997, 'erzogen': 4998, 'fuehrerschein': 4999, 'kapitalismus': 5000, 'nordkorea': 5001, 'kriegen': 5002, 'innenstaedten': 5003, 'verlinkt': 5004, 'verbloedet': 5005, 'toetete': 5006, 'social': 5007, 'media': 5008, 'erhoben': 5009, 'modus': 5010, 'offenbach': 5011, 'begeht': 5012, 'erfaeh': 5013, 'mainstreammedien': 5014, 'schulzeit': 5015, 'verbrennen': 5016, 'tennis': 5017, 'baeckern': 5018, 'dienstkleidung': 5019, 'blaest': 5020, 'lichter': 5021, 'nunmehr': 5022, 'gefasst': 5023, 'haha': 5024, 'klimasuender': 5025, 'fahre': 5026, 'belohnt': 5027, 'deppe': 5028, 'polizeibekannter': 5029, 'venezuela': 5030, 'hurra': 5031, 'magazin': 5032, 'derfreitag': 5033, 'sexualstraftaeter': 5034, 'moegliche': 5035, 'entwarnung': 5036, 'samariter': 5037, 'geschaeftsfuehrer': 5038, 'asb': 5039, 'schlagzeile': 5040, 'dargestellt': 5041, 'db': 5042, 'dfakenews1': 5043, 'geliebten': 5044, 'allgemeine': 5045, 'kreuz': 5046, 'jederzeit': 5047, 'kehle': 5048, 'zahran': 5049, 'hashim': 5050, 'absurd': 5051, 'hasser': 5052, 'weltoffen': 5053, 'wiederaufbau': 5054, 'trick': 5055, 'reisende': 5056, 'eigentlichen': 5057, 'wofuer': 5058, 'clown': 5059, 'faktum': 5060, 'ignorie': 5061, '85': 5062, 'sahne': 5063, 'islamkritischer': 5064, 'unterschiedlichen': 5065, 'zufaelle': 5066, 'abos': 5067, 'hardcore': 5068, 'bento': 5069, 'abgelehnter': 5070, 'nieder': 5071, 'holland': 5072, 'regelrecht': 5073, 'ursaechlich': 5074, 'hitlers': 5075, 'hinweisen': 5076, 'exklusiv': 5077, 'entgehen': 5078, 'tour': 5079, 'massivem': 5080, 'beschweren': 5081, 'dm': 5082, 'teilung': 5083, 'schiessereien': 5084, 'zusammengefasst': 5085, 'shithole': 5086, 'kauf': 5087, 'beute': 5088, 'ostdeutsche': 5089, 'alltaegliche': 5090, 'rentenkonzept': 5091, 'spendenaffaere': 5092, 'leuchttuerme': 5093, 'untersuchung': 5094, 'niemehrcdu': 5095, 'menschenverachtenden': 5096, 'abgeordneter': 5097, 'eklat': 5098, 'tonline': 5099, 'kurze': 5100, 'eis': 5101, 'satirischer': 5102, 'stirn': 5103, 'weite': 5104, 'fluechtlingshelfer': 5105, 'konstantinnotz': 5106, 'oekologische': 5107, 'frech': 5108, 'erklaere': 5109, 'juliakloeckner': 5110, 'dokto': 5111, 'koepfen': 5112, 'selbsternannten': 5113, 'hater': 5114, 'hahaha': 5115, 'aufstand': 5116, 'vw': 5117, 'managerin': 5118, 'rechtssicherheit': 5119, 'julia': 5120, 'erlebt': 5121, 'aergerlich': 5122, 'eienfinanzierung': 5123, 'notwendigen': 5124, 'geblieben': 5125, 'geruegt': 5126, 'brandner': 5127, 'traditionell': 5128, 'meinungsmache': 5129, 'abkommen': 5130, 'blicke': 5131, 'verfassungsschutzbericht': 5132, 'behindern': 5133, 'bezahlten': 5134, 'eilten': 5135, 'luegner': 5136, 'anhaenger': 5137, 'organisationen': 5138, 'heimatstadt': 5139, 'polizeilichen': 5140, 'vice': 5141, 'freiwillige': 5142, 'nachricht': 5143, 'windraeder': 5144, 'windkraft': 5145, 'steiner': 5146, 'sophie': 5147, 'ost': 5148, 'bundeslaendern': 5149, 'schonen': 5150, 'mpkretschmer': 5151, 'wirren': 5152, 'nirgendwo': 5153, 'sonstige': 5154, 'oesterreichs': 5155, 'stellte': 5156, 'derpoet': 5157, 'realsatire': 5158, 'schreibst': 5159, 'devise': 5160, 'manager': 5161, 'beschluss': 5162, 'angehoerigen': 5163, 'reaktionen': 5164, 'menschenverachtend': 5165, 'weltweiten': 5166, 'schmieriger': 5167, 'wuerdet': 5168, 'lachnummer': 5169, 'nigel': 5170, 'farage': 5171, 'oligarchen': 5172, 'mettbroetchen': 5173, 'spangenberg': 5174, 'komning': 5175, 'holocaust': 5176, 'typische': 5177, 'kolleginnen': 5178, 'dokumentation': 5179, 'wirbt': 5180, 'smisachsen': 5181, 'verabschiedet': 5182, 'somit': 5183, 'fuehle': 5184, 'videoaufnahmen': 5185, 'landesverrat': 5186, 'verkuendet': 5187, 'fragwuerdig': 5188, 'finanzen': 5189, 'suedwest': 5190, 'mediator': 5191, 'pinguin': 5192, 'friedliche': 5193, 'fridaysforfu': 5194, 'ure': 5195, 'pressemitteilungen': 5196, 'analysie': 5197, 'darstellt': 5198, 'ausloeser': 5199, 'krah': 5200, 'iss': 5201, 'bestimmter': 5202, 'fasching': 5203, 'indianer': 5204, 'einwandern': 5205, 'voraus': 5206, 'heliumballons': 5207, 'ermordet': 5208, 'rassistischen': 5209, 'angesehen': 5210, 'blickt': 5211, 'reifen': 5212, 'ey': 5213, 'neutral': 5214, 'verstoss': 5215, 'moin': 5216, 'tosender': 5217, 'regierungsprogramm': 5218, 'klugscheisser': 5219, 'mario': 5220, 'reschke': 5221, 'telefon': 5222, 'steuergeldern': 5223, 'bord': 5224, '180': 5225, 'sinnvoll': 5226, 'nichte': 5227, 'unwuerdig': 5228, 'nun': 5229, 'bananenrepublik': 5230, 'meister': 5231, 'richard': 5232, 'aufgaben': 5233, 'authentischen': 5234, 'toent': 5235, 'planet': 5236, 'regen': 5237, 'farce': 5238, 'sozialdemokratie': 5239, 'abgrund': 5240, 'realisieren': 5241, 'stephan': 5242, 'umzug': 5243, 'angeblicher': 5244, 'unwuerdige': 5245, 'krieges': 5246, 'grundgesetzes': 5247, 'logo': 5248, 'gewisses': 5249, 'bedeuten': 5250, 'musterbeispiele': 5251, 'nordischbynatur': 5252, 'hackenstad': 5253, 'sabine': 5254, 'leyen': 5255, 'verpruegeln': 5256, 'eidigt': 5257, 'veraerge': 5258, 'warf': 5259, 'wunderbare': 5260, 'unsaegliche': 5261, 'spaltung': 5262, 'massenmigration': 5263, 'bildungsnotstand': 5264, 'umve': 5265, 'stuerzenberger': 5266, 'europastatteu': 5267, 'verbesse': 5268, 'landkreis': 5269, 'bundessprecher': 5270, 'berechtigte': 5271, 'teilnehmen': 5272, 'feinstaub': 5273, 'niemehrspd': 5274, 'faul': 5275, 'sachen': 5276, 'weltfahrradtag': 5277, 'klo': 5278, 'gestopft': 5279, 'unveraende': 5280, 'liefe': 5281, 'wohnungsknappheit': 5282, 'fels': 5283, 'vermissen': 5284, 'meinungsaeusserungen': 5285, 'vollpfosten': 5286, 'oestereich': 5287, 'jedermanns': 5288, 'contest': 5289, 'beschraenkung': 5290, 'bundesbuerger': 5291, 'grundschulen': 5292, 'kopftuecher': 5293, 'kinderga': 5294, 'demokratischer': 5295, 'bundesstaat': 5296, 'gesetzgebung': 5297, 'australien': 5298, 'suizid': 5299, 'liberal': 5300, 'gezielt': 5301, 'dasschafi': 5302, 'angemeldet': 5303, 'bi': 5304, 'hday': 5305, 'diskutie': 5306, 'dir': 5307, 'heimlich': 5308, 'aufenthaltsrecht': 5309, 'belegen': 5310, 'krankheit': 5311, 'prominenz': 5312, 'apropos': 5313, 'lok': 5314, 'gewaltverbrechen': 5315, 'besseren': 5316, 'kontinent': 5317, 'neokolonialismus': 5318, 'afrikas': 5319, 'ossi': 5320, 'nachsehen': 5321, 'ratschlaege': 5322, 'schauspielern': 5323, 'lol': 5324, 'bissl': 5325, 'shiwa': 5326, 'waltraud': 5327, '93cecc58ff2e400': 5328, 'armleuchter': 5329, 'verdrehen': 5330, 'rassistische': 5331, 'derjenige': 5332, 'anschliessen': 5333, 'auftraege': 5334, 'ideologisch': 5335, 'user': 5336, 'heuteplus': 5337, 'zuviel': 5338, 'vorwerfen': 5339, 'damen': 5340, 'pferde': 5341, 'millionaer': 5342, 'polizeisachsen': 5343, 'vorfall': 5344, 'figuren': 5345, 'globalisten': 5346, 'klimadebatte': 5347, 'signal': 5348, 'mopo': 5349, 'ansage': 5350, 'absteiger': 5351, 'schwuler': 5352, 'matthiasmeisner': 5353, 'schmerz': 5354, 'mitteldeutsche': 5355, 'feststellung': 5356, 'nachwuchs': 5357, 'posten': 5358, 'volker': 5359, 'dramatisch': 5360, 'stoergroessem': 5361, '0siegfried': 5362, 'guidoheidkamp': 5363, 'vorstellung': 5364, 'guido': 5365, 'groenemeyer': 5366, 'gemeint': 5367, 'of': 5368, 'einladung': 5369, 'heulen': 5370, 'marius': 5371, 'einfache': 5372, 'sinnlose': 5373, 'zwangslaeufig': 5374, 'herrschaften': 5375, 'werkstattgespraech': 5376, '80er': 5377, 'kamran': 5378, 'aehnliches': 5379, 'schachtel': 5380, 'loesung': 5381, 'hambacherforst': 5382, 'wikinger': 5383, 'island': 5384, 'aerger': 5385, 'eingebracht': 5386, 'laege': 5387, 'hauptschulabschluss': 5388, 'verlogene': 5389, 'woanders': 5390, 'anthropogenen': 5391, 'argument': 5392, 'fritzvonsteiner': 5393, 'doktor': 5394, 'schlimme': 5395, 'kocht': 5396, 'absturz': 5397, 'klimareligion': 5398, 'germanen': 5399, 'beigetreten': 5400, 'meldemuschis': 5401, 'dienen': 5402, 'auffueh': 5403, 'sultan': 5404, 'allem': 5405, 'biedermann': 5406, 'brandstifter': 5407, 'voglerk': 5408, 'judenhass': 5409, 'judenhasser': 5410, 'verfassungsfeindlich': 5411, 'weihnachtsmaerkte': 5412, 'gewonnen': 5413, 'doppelspitze': 5414, 'hoehen': 5415, 'druecken': 5416, 'kamerun': 5417, 'unfaehige': 5418, 'queer': 5419, 'getrigge': 5420, 'machst': 5421, 'ulfposh': 5422, 'asylanten': 5423, 'schweinefleisch': 5424, 'verzehren': 5425, 'geliebt': 5426, 'anfangen': 5427, 'loechern': 5428, 'socken': 5429, 'herzlichst': 5430, 'landteil': 5431, 'mangel': 5432, 'geldstrafe': 5433, 'mittelmeer': 5434, 'diaet': 5435, 'doofen': 5436, 'gestrichen': 5437, '2013': 5438, 'eidigungsministerin': 5439, 'schoenste': 5440, 'ueblichen': 5441, 'extinction': 5442, 'bremer': 5443, 'einbildung': 5444, 'feier': 5445, 'bezirk': 5446, 'feste': 5447, 'mauerpark': 5448, 'beleidigen': 5449, 'entspannen': 5450, 'neubuerger': 5451, 'aufstieg': 5452, 'gegenseitig': 5453, 'ehmm': 5454, 'mascha': 5455, 'freiluftklapse': 5456, 'schuelersprecher': 5457, 'luftpumpe': 5458, 'zonenlurch': 5459, 'fahrradstaender': 5460, 'buergern': 5461, 'taschen': 5462, 'scheisst': 5463, 'staats': 5464, 'herzliche': 5465, 'niederoesterreich': 5466, 'helllichten': 5467, 'intensiv': 5468, 'spezies': 5469, 'schlaraffenland': 5470, 'bundesinnenministerium': 5471, 'foerderprogramm': 5472, 'juristisch': 5473, 'echter': 5474, 'tollem': 5475, 'amis': 5476, 'privat': 5477, 'gebe': 5478, 'wettervorhersage': 5479, 'findest': 5480, 'entspannt': 5481, 'terrasse': 5482, 'stadtrand': 5483, 'pause': 5484, 'dunklen': 5485, 'brueste': 5486, 'leer': 5487, 'graete': 5488, 'vergiss': 5489, 'noe': 5490, 'hautnah': 5491, 'schilder': 5492, 'vorsitz': 5493, 'bange': 5494, 'kunden': 5495, 'maedel': 5496, 'bewirbt': 5497, 'ring': 5498, 'brauch': 5499, 'kuendigt': 5500, 'fraktionschefin': 5501, 'uff': 5502, 'klaren': 5503, 'charlotte': 5504, 'roche': 5505, 'nackt': 5506, 'moderatorin': 5507, 'enkel': 5508, 'gefolgt': 5509, 'intelligenz': 5510, 'igitt': 5511, 'meldet': 5512, 'maria': 5513, 'absetzen': 5514, 'gekauft': 5515, 'quds': 5516, 'multi': 5517, 'kulti': 5518, 'parolen': 5519, 'kuds': 5520, 'landen': 5521, 'versicherung': 5522, 'geraumer': 5523, 'kontinuierlich': 5524, 'passenden': 5525, 'udo': 5526, 'reist': 5527, 'verschwenden': 5528, 'reduzieren': 5529, 'kochen': 5530, 'nachmachen': 5531, 'faelschen': 5532, 'rufend': 5533, 'wilde': 5534, 'merke': 5535, 'se': 5536, 'gespuelt': 5537, 'vorzugsstimme': 5538, 'verfahren': 5539, 'wirr': 5540, 'bachmann': 5541, 'psychiatrie': 5542, 'klimaluege': 5543, 'bestrafen': 5544, 'updayde': 5545, 'gesendet': 5546, 'elke': 5547, 'roll': 5548, 'menschenfreunde': 5549, 'sichern': 5550, 'verkommt': 5551, 'schwule': 5552, 'russlanddeutschen': 5553, 'dublin': 5554, 'sicht': 5555, 'durchlesen': 5556, 'guenther': 5557, 'passieren': 5558, 'bekaempfen': 5559, 'friedlichen': 5560, 'asylis': 5561, 'umweltzerstoerung': 5562, 'beeinflussen': 5563, 'gelaber': 5564, 'kids': 5565, 'faelschung': 5566, 'leichengift': 5567, 'zweite': 5568, 'geheime': 5569, 'apokalypse': 5570, 'radfahrer': 5571, 'zigeuner': 5572, 'brunei': 5573, 'strikt': 5574, 'steinigung': 5575, 'nytimes': 5576, 'dietrich': 5577, 'funken': 5578, 'hinfuehren': 5579, 'dummen': 5580, 'netzwerk': 5581, 'erfindet': 5582, 'populismus': 5583, 'radikale': 5584, 'judentum': 5585, 'weich': 5586, 'irland': 5587, 'tausend': 5588, 'wohnt': 5589, 'paradies': 5590, 'jerusalem': 5591, 'flagge': 5592, 'liberalen': 5593, 'netzfund': 5594, 'kuddelmuddel9': 5595, 'spandau': 5596, 'skalpieren': 5597, 'zweieinhalb': 5598, 'kranke': 5599, 'vereinzelt': 5600, 'geratet': 5601, 'taegliche': 5602, 'geile': 5603, 'anschlaegen': 5604, 'mobilitaet': 5605, 'bvg': 5606, 'hijab': 5607, 'uk': 5608, 'episoden': 5609, 'kalifornien': 5610, 'akbas': 5611, 'chaos': 5612, 'konstruktive': 5613, 'zwangsfinanzierung': 5614, 'peace': 5615, 'erwischt': 5616, 'nackten': 5617, 'fixie': 5618, 'gefaengnissen': 5619, 'untergebracht': 5620, 'bessermensch': 5621, 'aufpassen': 5622, 'verschiebung': 5623, 'weitergeht': 5624, 'grimmepreis': 5625, 'adoptie': 5626, 'finanzie': 5627, 'kasper': 5628, 'trolle': 5629, 'menschenmenge': 5630, 'nachwo': 5631, 'militaerische': 5632, 'relativierung': 5633, 'ares': 5634, 'rasse': 5635, 'politikerin': 5636, 'negroide': 5637, 'schatten': 5638, 'schrei': 5639, '08': 5640, 'extra': 5641, 'lied': 5642, 'strahlung': 5643, 'detaillie': 5644, 'ev': 5645, 'kla': 5646, 'ext': 5647, 'judensau': 5648, 'blamage': 5649, 'umfangreiche': 5650, 'alliie': 5651, 'kriegsverbrechen': 5652, 'braeutigam': 5653, 'moskau': 5654, 'ialisch': 5655, 'konkordat': 5656, 'wesen': 5657, 'wuenschenswe': 5658, 'mitschuldig': 5659, 'existie': 5660, 'gehst': 5661, 'ungefaehr': 5662, 'scheisser': 5663, 'ausgerechnet': 5664, 'erlass': 5665, 'umgebung': 5666, 'generalverdacht': 5667, 'aufkommen': 5668, 'zuhauf': 5669, 'richten': 5670, 'wowereit': 5671, 'heldt': 5672, 'first': 5673, 'unklarer': 5674, 'rueckschritt': 5675, 'lobbyisten': 5676, '44': 5677, 'siehst': 5678, 'aelterer': 5679, 'starkes': 5680, 'einparken': 5681, 'historiker': 5682, 'warschau': 5683, 'anlaesslich': 5684, 'juengsten': 5685, 'phaenomen': 5686, 'sky': 5687, 'permanent': 5688, 'unfaehigkeit': 5689, 'neujahrsempfang': 5690, 'klug': 5691, 'totalschaden': 5692, 'unfug': 5693, 'sicherheitslage': 5694, 'eingewande': 5695, 'staatsbeamten': 5696, 'teilt': 5697, 'geheimnis': 5698, 'bedingungen': 5699, 'gewissen': 5700, 'eigenstaendige': 5701, 'betrifft': 5702, 'einheimische': 5703, 'henryk': 5704, 'political': 5705, 'correctness': 5706, 'fluechtlings': 5707, 'uebersetzt': 5708, 'finanziellen': 5709, 'arbeitsagentur': 5710, 'verschaerfung': 5711, 'asylgesetze': 5712, 'instrumentalisierung': 5713, 'hasst': 5714, 'funktionaere': 5715, 'schlimmen': 5716, 'bueros': 5717, 'gehoere': 5718, 'ihresgleichen': 5719, 'krachend': 5720, 'eugen': 5721, 'ulrich': 5722, 'neuerdings': 5723, 'beziehungsweise': 5724, 'aehnlich': 5725, 'unverbindlichen': 5726, 'irgendetwas': 5727, 'inder': 5728, 'regionale': 5729, 'taetergruppe': 5730, 'negative': 5731, 'ngos': 5732, 'bekraeftigt': 5733, 'kulturzentrum': 5734, 'herrscher': 5735, 'staatskasse': 5736, 'rettungsschiffen': 5737, 'anlaufen': 5738, 'italienischer': 5739, 'gewaesser': 5740, 'achten': 5741, 'kommenden': 5742, 'zahlungen': 5743, 'spuerbar': 5744, 'september': 5745, 'sarrazins': 5746, 'einzuschlagen': 5747, 'thomas': 5748, 'kredite': 5749, 'europaeischer': 5750, 'hersee': 5751, 'symbolisie': 5752, 'totalitarismus': 5753, 'ermaechtigungsgesetz': 5754, 'anstrengung': 5755, 'hersteller': 5756, 'autoabsatz': 5757, 'wichtigsten': 5758, 'spaetere': 5759, 'glyphosat': 5760, 'orientieren': 5761, 'sinkt': 5762, 'tiefsten': 5763, 'gesunken': 5764, 'demoskopisch': 5765, 'volksherrschaft': 5766, 'abspaltung': 5767, 'internetzensur': 5768, 'mieterhoehung': 5769, 'bewegte': 5770, 'washington': 5771, 'grausiger': 5772, 'demographischer': 5773, 'lawrow': 5774, 'saemtlichen': 5775, 'gesetzesvorlagen': 5776, 'komplizie': 5777, 'absatz': 5778, 'einkommensteuergesetzes': 5779, 'magdeburg': 5780, 'schaefer': 5781, 'eifel': 5782, 'schleswig': 5783, 'holstein': 5784, 'invasion': 5785, 'enkontrolle': 5786, 'haustuer': 5787, 'wehren': 5788, 'digitale': 5789, 'andererseits': 5790, 'waffe': 5791, 'fotos': 5792, 'flickr': 5793, 'stefan': 5794, 'russlands': 5795, 'verlegt': 5796, 'rueckkehr': 5797, 'realpolitik': 5798, 'zentrum': 5799, 'lauren': 5800, 'southerns': 5801, 'treibt': 5802, 'branche': 5803, 'bizarr': 5804, 'spanische': 5805, 'veroeffentlichung': 5806, 'nachrichtensendung': 5807, 'touristen': 5808, 'heuschrecken': 5809, 'plagen': 5810, 'notenbanken': 5811, 'oecd': 5812, 'g20': 5813, 'einnahmequellen': 5814, 'erotik': 5815, 'olaf': 5816, 'mieten': 5817, 'kretschmer': 5818, 'els': 5819, 'auflage': 5820, 'nam': 5821, 'cia': 5822, 'informant': 5823, 'pd': 5824, 'frauenstreik': 5825, 'regt': 5826, 'solidaritaetszuschlags': 5827, 'moehre': 5828, 'rohstoffe': 5829, 'kryptowaehrungen': 5830, 'casinos': 5831, 'leitfaden': 5832, 'federal': 5833, 'reserve': 5834, '115': 5835, 'editorial': 5836, 'neunjaehriges': 5837, 'untersuchungshaft': 5838, 'umweltbundesamt': 5839, 'jahrestag': 5840, 'konzernmedien': 5841, 'loecher': 5842, 'entstehen': 5843, 'reter': 5844, 'gebildet': 5845, 'haeusern': 5846, 'jacke': 5847, 'leine': 5848, 'ruhr': 5849, 'legale': 5850, 'fette': 5851, 'gue': 5852, '2007': 5853, '2x': 5854, 'drunter': 5855, '2018in5words': 5856, 'miss': 5857, 'gegenstand': 5858, 'uebergibt': 5859, 'vi': 5860, 'kommunismus': 5861, 'neos': 5862, 'fun': 5863, 'placenta': 5864, 'appetit': 5865, 'huldigen': 5866, 'wahrnehmung': 5867, 'aussenministers': 5868, 'kognitive': 5869, 'oekologisch': 5870, 'amtes': 5871, 'dynamo': 5872, 'momente': 5873, 'bds': 5874, 'rosi': 5875, 'zeitmaschine': 5876, 'schmeissen': 5877, 'kuehlschrank': 5878, 'haltestelle': 5879, 'massaker': 5880, 'chinesischen': 5881, 'lebens': 5882, 'originalen': 5883, 'bekloppten': 5884, 'roma': 5885, 'prag': 5886, 'einreden': 5887, 'riskante': 5888, 'gelingen': 5889, 'bnd': 5890, 'hanning': 5891, 'basu': 5892, 'steuerentlastungen': 5893, 'konjunktur': 5894, 'leinwandheld': 5895, 'kay': 5896, 'nielsen': 5897, '1886': 5898, '1957': 5899, 'minimalistisch': 5900, 'nordisch': 5901, 'batterien': 5902, 'hoehere': 5903, '450': 5904, 'kastration': 5905, 'alabama': 5906, 'zurecht': 5907, 'dauernd': 5908, 'forsa': 5909, 'initiative': 5910, 'streetcoverage': 5911, 'machtinstrument': 5912, 'tiroler': 5913, 'brille': 5914, '117': 5915, 'allianz': 5916, 'geheilt': 5917, 'technische': 5918, 'leser': 5919, 'verqueere': 5920, 'theorien': 5921, 'kurzstreckenfluege': 5922, 'gery': 5923, 'austrian': 5924, 'airlines': 5925, 'robo': 5926, 'advisor': 5927, 'bullshit': 5928, 'schwung': 5929, 'oesterreichischen': 5930, 'tagesthemen': 5931, 'mutmasslichen': 5932, 'jobcenter': 5933, 'symbolbild': 5934, 'schaetzen': 5935, 'eigentor': 5936, 'fahrka': 5937, 'angeben': 5938, 'spitzenpolitiker': 5939, 'irgendwo': 5940, 'zeitungen': 5941, 'gucken': 5942, 'nikilauda': 5943, 'stuerzte': 5944, 'weltmeister': 5945, 'gestorben': 5946, 'daretodream': 5947, 'solltest': 5948, 'menge': 5949, 'schuessel': 5950, 'fcb': 5951, 'meisterschaft': 5952, 'bitter': 5953, 'vehement': 5954, 'abgibt': 5955, 'aufgegeben': 5956, 'balken': 5957, 'abfindung': 5958, 'ruecksicht': 5959, 'menschlich': 5960, 'hochtouren': 5961, 'kilometer': 5962, 'aufgebaut': 5963, '60m2': 5964, 'muellexpo': 5965, 'wiederkommen': 5966, 'sgeuropa': 5967, 'cl': 5968, 'auftritte': 5969, 'anschaut': 5970, 'fahrraeder': 5971, 'fahrer': 5972, 'nutzer': 5973, 'umfang': 5974, 'rechtswidrig': 5975, 'erforderlich': 5976, 'beratung': 5977, 'wehret': 5978, 'veraendern': 5979, 'spaltet': 5980, 'wuergen': 5981, 'angreifer': 5982, 'bielefeld': 5983, 'nutzung': 5984, 'molotowcocktails': 5985, 'erfuellen': 5986, 'raubueberfall': 5987, 'lena': 5988, 'dimitri': 5989, 'fragte': 5990, 'felgenreiniger': 5991, 'erneuerbare': 5992, 'benoetigen': 5993, 'menschenfeindlich': 5994, 'schrieb': 5995, 'langstreckenluisa': 5996, 'uscht': 5997, 'gefesselt': 5998, 'weinte': 5999, 'gletscher': 6000, 'seyran': 6001, 'hauptsaechlich': 6002, 'nohatespeech': 6003, 'nimm': 6004, 'vernichtungskrieg': 6005, 'beinahe': 6006, 'urwahl': 6007, 'kanzlerkandidaten': 6008, 'schlechten': 6009, 'achmed': 6010, 'paedophilie': 6011, 'muetter': 6012, 'loch': 6013, 'maedchens': 6014, 'waldboden': 6015, 'erdoberflaeche': 6016, 'elon': 6017, 'hirne': 6018, 'kacheln': 6019, 'zungen': 6020, '109': 6021, 'eventuell': 6022, 'aufklaerer': 6023, 'masern': 6024, 'impfung': 6025, 'nichtmehrmeindeutschland': 6026, '79': 6027, '110': 6028, 'gelebt': 6029, 'wilfuzius': 6030, 'besserung': 6031, 'spaten': 6032, 'verschwindens': 6033, 'bodenfrost': 6034, 'irgend': 6035, 'verschwunden': 6036, 'ohne': 6037, 'blatt': 6038, 'besonderen': 6039, 'ausmalen': 6040, 'aufgewacht': 6041, 'wil': 6042, 'investigativen': 6043, 'brauner': 6044, 'dunkler': 6045, 'hautfarbe': 6046, 'usererrorx': 6047, 'gewissenhaft': 6048, 'gewirkt': 6049, 'zusammenfassung': 6050, 'erstellt': 6051, 'dns': 6052, 'min': 6053, 'basie': 6054, 'arbeitslos': 6055, 'anklage': 6056, 'massen': 6057, 'antifaschisten': 6058, 'opposition': 6059, 'verschaerfen': 6060, 'daenische': 6061, 'grunde': 6062, 'untergehen': 6063, 'wachen': 6064, 'gebraucht': 6065, 'mangelnde': 6066, 'zurueckziehen': 6067, 'behandlung': 6068, 'erkrankt': 6069, 'arbeitslose': 6070, 'drecks': 6071, 'see': 6072, 'abstechen': 6073, 'mordversuch': 6074, 'wegziehen': 6075, 'fixen': 6076, 'kulturbereicherer': 6077, 'gepruegelt': 6078, 'seine': 6079, 'fehlender': 6080, 'ibikus31': 6081, 'seids': 6082, 'boeser': 6083, 'angriffe': 6084, 'bereuen': 6085, 'wachstum': 6086, 'prommi': 6087, 'frieden': 6088, 'substanz': 6089, 'geistesgestoe': 6090, 'zuschlagen': 6091, 'offizielle': 6092, 'sperren': 6093, 'zoepfe': 6094, 'ferkeldiskriminierung': 6095, 'entgegen': 6096, 'alicewo18626168': 6097, 'wieviele': 6098, 'oberschoeneweide': 6099, 'magen': 6100, 'gaben': 6101, 'aengste': 6102, 'aufbringen': 6103, 'staatssekretaerin': 6104, 'unternommen': 6105, 'bodyguards': 6106, 'vorgehen': 6107, 'konstruieren': 6108, 'stuttga': 6109, 'schaeuble': 6110, 'provokant': 6111, 'internationale': 6112, 'kuscheljustiz': 6113, 'titten': 6114, 'crime': 6115, 'kahrs': 6116, 'entledigen': 6117, 'wodurch': 6118, 'asylunterkunft': 6119, 'siche': 6120, 'albern': 6121, 'unbekannten': 6122, 'lila': 6123, 'bildkamera': 6124, 'erreichbar': 6125, 'ihnen': 6126, 'lebend': 6127, 'lebendig': 6128, 'ding': 6129, 'untersucht': 6130, 'kueche': 6131, 'nachzuschauen': 6132, 'qualitaets': 6133, 'qualitaetsmedien': 6134, '93': 6135, 'lust': 6136, 'ines': 6137, 'gerry': 6138, 'november': 6139, 'tueren': 6140, 'balkone': 6141, 'roseng': 6142, 'sicherheitspolizei': 6143, 'saepo': 6144, 'tuere': 6145, 'unterhaltungen': 6146, 'stoerend': 6147, 'esslingen': 6148, 'islamophobie': 6149, 'uebernahme': 6150, 'kuendigung': 6151, 'hauptkunde': 6152, 'linkoeping': 6153, 'vergewaltigte': 6154, 'nobileseba': 6155, 'geistiger': 6156, 'schwerster': 6157, 'mo': 6158, 'komponenten': 6159, 'fluechtlingskriminalitaet': 6160, 'trinkt': 6161, 'vegetarier': 6162, 'veganer': 6163, 'arbeitsplatz': 6164, '2500': 6165, '3000': 6166, 'mittelstaendische': 6167, 'filiale': 6168, 'weltoffenheit': 6169, 'drehen': 6170, 'koerperlich': 6171, 'liebereinenhund': 6172, 'aussichten': 6173, 'currywurst': 6174, 'spiess': 6175, 'gedoens': 6176, 'kobalt': 6177, 'kuendigungen': 6178, 'karstadt': 6179, 'schlechter': 6180, 'teenager': 6181, 'unerwa': 6182, '108': 6183, 'suedlaendisch': 6184, 'pflegefall': 6185, '145': 6186, 'anwohnern': 6187, 'siegburg': 6188, 'landwi': 6189, 'faselt': 6190, 'filialen': 6191, 'alpes': 6192, 'sverige': 6193, 'migrants': 6194, '9jaehriges': 6195, 'aehm': 6196, 'spontandemo': 6197, 'airbus': 6198, 'thiemdomi': 6199, 'atp': 6200, 'rafaelnadal': 6201, 'toleranter': 6202, 'krankenschein': 6203, 'ausgebildeten': 6204, 'schulze': 6205, 'umsetzung': 6206, 'wimbledon': 6207, 'daviscup': 6208, 'usopen': 6209, 'sendung': 6210, 'dunkelrot': 6211, 'parma': 6212, 'schinken': 6213, 'italy': 6214, 'fremdwo': 6215, 'gw': 6216, '01': 6217, 'kritischer': 6218, 'nutzt': 6219, 'unabh': 6220, '2024': 6221, 'europeanparliament': 6222, '2006': 6223, 'france': 6224, 'illegalimmigration': 6225, 'europeangreens': 6226, 'ische': 6227, 'abwae': 6228, 'genetisch': 6229, 'niederlande': 6230, 'veroeffentlichen': 6231, 'tektonische': 6232, 'eurasienplatte': 6233, 'geschaffen': 6234, 'hetzlichen': 6235, 'relotiusmedien': 6236, 'geheimgespraeche': 6237, 'anzufangen': 6238, 'machtdemonstration': 6239, 'schimpfwo': 6240, 'il': 6241, 'buergerschaftswahl': 6242, 'wahlkampfkoordinator': 6243, 'firmen': 6244, 'sebastianhampel': 6245, 'trend': 6246, 'switchangel1975': 6247, 'gyros': 6248, 'therealjoe': 6249, '1958': 6250, 'publizistikon': 6251, 'einzelhandel': 6252, 'bearleenair': 6253, 'waehnt': 6254, 'klaus90469': 6255, 'einen': 6256, 'sinnfreies': 6257, 'honks': 6258, 'lach': 6259, 'foffo': 6260, 'invictu53409591': 6261, 'schwierig': 6262, 'anbietet': 6263, 'weiber': 6264, 'ausdrucksweise': 6265, 'yuma': 6266, 'lein': 6267, 'wohne': 6268, 'darksun666': 6269, 'empfangs': 6270, 'vodaphon': 6271, 'o2': 6272, 'debitel': 6273, 'eigentuemer': 6274, 'rennicke': 6275, 'dom': 6276, 'richtete': 6277, 'bundespolizei': 6278, '380': 6279, 'stammten': 6280, 'serbien': 6281, '1europafueralle': 6282, 'bildhafteter': 6283, 'formulie': 6284, 'schlage': 6285, 'jusos': 6286, 'nospd': 6287, 'baseballschlaeger': 6288, 'niewiedersozialismus': 6289, 'freizeitgestaltung': 6290, 'mustafa': 6291, 'islamischem': 6292, 'alina': 6293, 'rasie': 6294, 'kahl': 6295, 'aehnlicher': 6296, 'wahlpa': 6297, 'beschmie': 6298, 'beschaedigen': 6299, 'anzuzuenden': 6300, 'tirolerin': 6301, 'knacken': 6302, 'automaten': 6303, 'waschanlagen': 6304, 'tankstellen': 6305, 'anhand': 6306, 'gefundener': 6307, 'bestellen': 6308, 'hochpreisige': 6309, 'paketshops': 6310, 'originalverpackte': 6311, 'laptops': 6312, 'bekleidung': 6313, 'somaliers': 6314, 'gewaltexzess': 6315, 'vernehmungsfaehig': 6316, 'erblindet': 6317, 'rief': 6318, 'kapazitaeten': 6319, 'eurowahl': 6320, 'kommissionspraesident': 6321, 'pappnasen': 6322, 'beteiligten': 6323, 'realem': 6324, 'empfinden': 6325, 'hinschauen': 6326, 'kommissar': 6327, 'prophet': 6328, 'augustus': 6329, 'bildungsdesaster': 6330, 'geschichtsklitterung': 6331, 'unsicher': 6332, 'propagandist': 6333, 'verunglimpft': 6334, 'ibrahima': 6335, 'ueberfaellt': 6336, 'schlimmeres': 6337, 'sabri': 6338, 'ben': 6339, 'propagandavideos': 6340, 'gereist': 6341, 'terrorcamp': 6342, 'gegenstaenden': 6343, 'ausgeruestet': 6344, 'geheimsache': 6345, 'derzeitiger': 6346, 'richtet': 6347, 'ungleichbehandlung': 6348, 'gesetzentwurf': 6349, 'vorgelegt': 6350, 'rechtsausschuss': 6351, 'anhoerung': 6352, '350': 6353, 'ermorde': 6354, 'journalie': 6355, 'bundesverdienstkreuz': 6356, 'korane': 6357, 'dessaurosslau': 6358, 'glaubensideologen': 6359, 'anliegen': 6360, 'bearbeiten': 6361, 'bildungsrepublik': 6362, 'geeignete': 6363, 'einbrechen': 6364, 'staatschutz': 6365, 'friedhoefe': 6366, 'gefuege': 6367, 'vllt': 6368, 'heimatschatzkiste': 6369, 'auslaendern': 6370, 'selbstbewusstsein': 6371, 'mut': 6372, 'riegel': 6373, 'vorzuschieben': 6374, 'dreistere': 6375, 'waehlerwillen': 6376, 'widersprechende': 6377, 'verliererkoalitionen': 6378, 'suboptimalem': 6379, 'fahrverhalten': 6380, 'zweier': 6381, 'bahrenfeld': 6382, 'altenwerder': 6383, 'hochwe': 6384, 'fuehrerscheine': 6385, 'gepluende': 6386, 'gehaltserhoehung': 6387, 'waeh': 6388, 'kassie': 6389, 'gnadenlos': 6390, 'mairpeda': 6391, 'vonseiten': 6392, 'radikalerer': 6393, 'thinkbto': 6394, 'tiefseher': 6395, 'altersverwir': 6396, 'machtgeiler': 6397, 'kaderschmied': 6398, 'herrschsucht': 6399, 'zusaetzlich': 6400, 'abfuehren': 6401, 'johnstefan27': 6402, 'herzlich': 6403, 'fl': 6404, 'polizeihamburg': 6405, 'akademie': 6406, 'activecityday': 6407, '365': 6408, 'hamburgactivecity': 6409, 'abzeichen': 6410, 'polizeiakademie': 6411, 'leichtathletikhalle': 6412, 'winterhude': 6413, 'streckenweise': 6414, 'mitfahrern': 6415, 'deutschlandtour': 6416, 'hauptstaedte': 6417, 'radler': 6418, 'hoehenmetern': 6419, 'kattenstiegsmuehle': 6420, 'schwerin': 6421, 'druecke': 6422, 'oberbuergermeisters': 6423, 'bekleidet': 6424, 'geringste': 6425, 'einzuschuechtern': 6426, 'befand': 6427, 'landgericht': 6428, 'bejaht': 6429, 'kuendigten': 6430, 'revision': 6431, 'einzulegen': 6432, 'eufeln': 6433, 'isdn': 6434, 'glasfaserkabel': 6435, 'kabelfernsehen': 6436, 'telefonie': 6437, 'computer': 6438, 'eiprogramme': 6439, 'missachtung': 6440, 'beutelsbacher': 6441, 'schlimmste': 6442, 'schiff': 6443, 'sorgte': 6444, 'vorwiegend': 6445, 'tunesische': 6446, 'geldern': 6447, 'osteuropaeischem': 6448, 'sprechende': 6449, 'geschwisterkinder': 6450, 'schulweg': 6451, 'seniors': 6452, 'kleinkind': 6453, 'balkonbruestung': 6454, 'straflos': 6455, 'linkslinken': 6456, 'markierung': 6457, 'protestierende': 6458, 'legitimer': 6459, 'spontanen': 6460, 'zugrunde': 6461, 'ausreichend': 6462, 'einsatzmitteln': 6463, 'gepaa': 6464, 'einkehren': 6465, 'bn': 6466, 'nachtfloh': 6467, 'herzlichkeit': 6468, 'shalom': 6469, 'patenschaft': 6470, 'hake': 6471, 'filme': 6472, 'burghardt': 6473, 'klaussner': 6474, 'bernhard': 6475, 'schlink': 6476, 'gleiches': 6477, 'merchandising': 6478, 'jeglicher': 6479, 'ganzem': 6480, 'phantasten': 6481, 'endziel': 6482, 'grapscher': 6483, 'fehlerfrei': 6484, 'eingriffe': 6485, 'freiheitsrechte': 6486, 'steuermehrbelastung': 6487, 'seinen': 6488, 'zueckte': 6489, 'aufbaute': 6490, 'polizeiangaben': 6491, 'bildungsabschluss': 6492, 'eingesper': 6493, 'atze030': 6494, 'gefrkamnitzer': 6495, 'hinterlaesst': 6496, 'verbrannte': 6497, 'aussenpolitisch': 6498, 'flurschaden': 6499, 'ideologen': 6500, 'aufgesprungen': 6501, 'aergern': 6502, 'fliessen': 6503, 'angelegt': 6504, 'bildungssystem': 6505, 'regionalbahn': 6506, 'badenbaden': 6507, 'rastatt': 6508, 'bewohnern': 6509, 'abgeordnetendiaeten': 6510, 'rekordhoch': 6511, 'polizeibeamter': 6512, 'musiker': 6513, 'gurfinkel': 6514, 'beschimpfen': 6515, 'judenfeindlich': 6516, 'vorfalls': 6517, 'eingekreist': 6518, 'zueckt': 6519, 'einhand': 6520, 'dazwischengehen': 6521, 'verletzten': 6522, 'einhandmesser': 6523, 'einschreitende': 6524, 'tschetschenischen': 6525, 'wachschutzauftraege': 6526, 'dienstgebaeude': 6527, 'mek': 6528, 'sensible': 6529, 'innere': 6530, 'lehrerzimmer': 6531, 'diskussionen': 6532, 'diesbezueglich': 6533, 'empfinde': 6534, 'alfred': 6535, 'nobel': 6536, 'rumdrehen': 6537, 'kriege': 6538, 'verliehen': 6539, 'verleihung': 6540, 'fleissig': 6541, 'sozialamt': 6542, 'lebensmittelspenden': 6543, '2900': 6544, 'einnahme': 6545, 'arabischsprachiger': 6546, 'zer': 6547, 'laerm': 6548, '48': 6549, 'irakerin': 6550, 'zozan': 6551, 'scheiden': 6552, 'eigenstaendiges': 6553, 'ehemann': 6554, 'dilgasch': 6555, 'kopfschuessen': 6556, 'hingerichtet': 6557, 'nunmal': 6558, 'amuesie': 6559, 'bankraeuber': 6560, 'fotofahndung': 6561, 'wirkendem': 6562, 'zettels': 6563, 'clanverdaechtige': 6564, 'toetungsdelikte': 6565, 'hreul': 6566, 'rechtsstaates': 6567, 'stiess': 6568, 'jahrigen': 6569, 'sehbehinde': 6570, 'sturz': 6571, 'erheblich': 6572, 'herausragende': 6573, 'schleimspur': 6574, 'schleimhofer': 6575, 'need': 6576, 'fuck': 6577, 'wuergte': 6578, 'vierstelligen': 6579, 'mitgliederzahlen': 6580, '6500': 6581, 'tuerkischstaemmigen': 6582, 'jonas': 6583, 'hermann': 6584, 'triberg': 6585, 'strikte': 6586, 'trennung': 6587, 'separaten': 6588, 'raeumen': 6589, 'gewaltaten': 6590, 'spektakel': 6591, 'reinkommen': 6592, 'hinein': 6593, 'abscheulich': 6594, 'massiven': 6595, 'steuererhoehung': 6596, 'einschraenkung': 6597, 'reisefreiheit': 6598, 'beschneidung': 6599, 'pressefreiheit': 6600, 'psychpathen': 6601, 'hagelvoll': 6602, 'moritz': 6603, 'arndt': 6604, 'greifswald': 6605, 'vielero': 6606, 'goetzentempel': 6607, 'religioesem': 6608, 'barbar': 6609, 'milde': 6610, 'orgeln': 6611, 'kirchenzerstoerer': 6612, 'verklagt': 6613, 'sitzungsleiterinnen': 6614, 'verfassungsgericht': 6615, 'schaendlichste': 6616, 'ur': 6617, 'schwiegervater': 6618, 'gefangenschaft': 6619, 'unserlandunserekultur': 6620, 'langstrumpf': 6621, 'gebrueder': 6622, 'loewenherz': 6623, 'unendliche': 6624, 'loenneberga': 6625, 'haensel': 6626, 'asterix': 6627, 'obelix': 6628, 'problematisch': 6629, 'paranoid': 6630, 'distanziere': 6631, 'egtl': 6632, 'unmoegliche': 6633, 'hergestellt': 6634, 'verzweifeln': 6635, 'fck': 6636, 'rotz': 6637, 'unsere': 6638, 'energiepolitik': 6639, 'hauptgefahr': 6640, 'biologische': 6641, 'ausbau': 6642, 'verschliessen': 6643, 'sigrid': 6644, 'staune': 6645, 'zusammenhang': 6646, 'bevoelkerungsexplosion': 6647, 'klimazerstoerung': 6648, 'gewaltiges': 6649, 'gruengue': 6650, 'unwetter': 6651, 'umland': 6652, 'sachschaeden': 6653, 'ernster': 6654, 'genauer': 6655, 'buchstaeblicher': 6656, 'zivilisatorische': 6657, 'fehlleistung': 6658, 'runterkommen': 6659, 'recherchen': 6660, 'irgendeiner': 6661, 'warenkreislauf': 6662, 'zurueckgefueh': 6663, 'wuerstchenbude': 6664, 'scheibchenweise': 6665, 'ruinie': 6666, 'ablenkung': 6667, 'traeumt': 6668, 'gigant': 6669, 'metier': 6670, 'gepraegte': 6671, 'froheweinachten': 6672, 'irrer': 6673, 'oekoreligion': 6674, 'einstudieren': 6675, 'mekka': 6676, 'zdfinfo': 6677, 'wohnheim': 6678, 'bespringt': 6679, 'betreuerin': 6680, 'vergegenwae': 6681, 'enjoy': 6682, 'kritischem': 6683, 'angeleitet': 6684, 'hellwach': 6685, 'merci': 6686, 'streng': 6687, 'risikoklasse': 6688, 'munter': 6689, 'munition': 6690, 'schalldaempfer': 6691, 'religionsausuebung': 6692, 'ghetto': 6693, 'modernes': 6694, 'nachhaltiges': 6695, 'zukuenftiges': 6696, 'aspern': 6697, 'otte': 6698, 'verlief': 6699, 'zwischenfaelle': 6700, 'dunkeldeutschland': 6701, 'rosslauer': 6702, 'eilig': 6703, 'veroeffentlichten': 6704, 'fahndungsaufruf': 6705, 'nigerer': 6706, 'andreag799': 6707, 'weichbirnen': 6708, 'gaestehaus': 6709, 'meseberg': 6710, 'unterhaltskosten': 6711, 'objektschutzkosten': 6712, 'ludwigsburg': 6713, 'ford': 6714, 'mondeo': 6715, 'westfalen': 6716, 'semi': 6717, 'anarchische': 6718, 'geschockte': 6719, 'widdersdorf': 6720, 'umfasst': 6721, 'ruhestoerung': 6722, 'rueckte': 6723, 'handschellen': 6724, 'doppel': 6725, 'beschmieren': 6726, 'stade': 6727, 'pogromstimmung': 6728, 'unseligste': 6729, 'tr': 6730, 'laz': 6731, 'angers': 6732, 'frustrie': 6733, 'mitbuerger': 6734, 'ablassen': 6735, 'professuren': 6736, 'wissenschaftsnation': 6737, 'sprichwoe': 6738, 'toto': 6739, 'totoundharry': 6740, 'mogelte': 6741, 'nemi': 6742, 'hassan': 6743, 'rekordverdaechtg': 6744, 'tel': 6745, '06131700': 6746, 'netzwerke': 6747, 'zustaendigkeitsbereich': 6748, 'polizeibehoerden': 6749, 'bezirke': 6750, 'schwerkrimineller': 6751, 'kindervergewaltiger': 6752, 'eignung': 6753, 'leitungsposten': 6754, 'antidiskriminierungsstelle': 6755, 'unbesetzt': 6756, 'eigenossin': 6757, 'nachbarstaaten': 6758, 'nothilfe': 6759, 'sozialhilfe': 6760, 'franken': 6761, 'riesenaufregung': 6762, 'kennzeichen': 6763, '8888': 6764, 'befuerchtungen': 6765, 'ostdeutscher': 6766, 'abdullatif': 6767, 'hamami': 6768, 'weinende': 6769, 'emojis': 6770, 'gekommene': 6771, 'arian': 6772, 'busbahnhof': 6773, 'cousin': 6774, 'ahmadiyya': 6775, 'jamaat': 6776, 'verkuendete': 6777, 'bauantrag': 6778, 'ausgewiesen': 6779, 'deutschland2019': 6780, 'fedidwgugl': 6781, 'liebestatthass': 6782, 'nohate': 6783, 'wegschneidet': 6784, 'kulturelleunterschiede': 6785, 'farbbeutel': 6786, 'ordination': 6787, 'manche': 6788, 'schwulenpaare': 6789, 'offenes': 6790, 'gegenden': 6791, 'tuerkischstaemmige': 6792, 'feindlichen': 6793, 'einstellungen': 6794, 'aufhalten': 6795, 'sinnbildhaft': 6796, 'ohnmacht': 6797, 'remmo': 6798, 'ordnet': 6799, 'fdpler': 6800, 'antisemitischer': 6801, 'feststellbar': 6802, 'diffamierendes': 6803, 'theaterstueck': 6804, 'osnabruecker': 6805, 'gesamtschule': 6806, 'erschiesst': 6807, 'vergasung': 6808, 'bundeswehrsoldaten': 6809, 'afghanische': 6810, 'erstechen': 6811, 'merkelwirkt': 6812, 'parkmanager': 6813, 'afrikanischen': 6814, 'drogendealern': 6815, 'muendlich': 6816, 'angemacht': 6817, 'nordbahnhof': 6818, 'kraetze': 6819, 'tuberkulose': 6820, 'malaria': 6821, 'durchreisenden': 6822, 'grassieren': 6823, 'mundschutz': 6824, 'gesundheitsministerium': 6825, 'abgestochene': 6826, 'erlag': 6827, 'afghanischen': 6828, 'libanesische': 6829, 'migrationsforscher': 6830, 'ralph': 6831, 'ghadban': 6832, 'drohbotschaften': 6833, 'islamwissenschaftler': 6834, 'libanesischem': 6835, 'fernsehsender': 6836, 'lbc': 6837, 'tweetet': 6838, 'streicht': 6839, 'segel': 6840, 'pruegelattacke': 6841, 'htl': 6842, 'ottakring': 6843, 'angegriffene': 6844, 'miesbach': 6845, 'afrikanerin': 6846, 'ellenbogen': 6847, 'handschuh': 6848, 'blutig': 6849, 'taeterin': 6850, 'aggressivitaet': 6851, 'kickboxer': 6852, 'liegendes': 6853, 'wehrloses': 6854, 'gezielten': 6855, 'anwaelte': 6856, 'totalen': 6857, 'rechtsstaats': 6858, 'totpruegler': 6859, 'muharrem': 6860, 'lesbisches': 6861, 'schlimmeren': 6862, 'lesbische': 6863, 'niedergestochen': 6864, 'abwies': 6865, 'ausschuetten': 6866, 'refugee': 6867, 'welcome': 6868, 'verkuenden': 6869, 'vorfahren': 6870, 'analphabeten': 6871, 'hochentwickeltes': 6872, 'vermutete': 6873, 'korrigieren': 6874, 'europeanelections2019': 6875, 'korrektiv': 6876, 'linksgruen': 6877, 'jaehrig': 6878, 'konservativ': 6879, 'abgestiegen': 6880, 'opas': 6881, 'verfuegen': 6882, 'vorhaben': 6883, 'schwierigen': 6884, 'herausfordernden': 6885, 'drueckt': 6886, 'erhaltung': 6887, 'envielfalt': 6888, 'autochoner': 6889, 'nationalstaates': 6890, 'draufgehen': 6891, 'zugunsten': 6892, 'mix': 6893, 'biodiversityday': 6894, 'jeglichen': 6895, 'bessermenschlichen': 6896, 'cafe': 6897, 'unibibliothek': 6898, 'organe': 6899, 'grassierenden': 6900, 'wahnsinns': 6901, 'raten': 6902, 'intrigante': 6903, 'schmierblaettchen': 6904, 'angepriesenen': 6905, 'deabonnieren': 6906, 'albanerin': 6907, 'albanische': 6908, 'verspueren': 6909, 'reinzuwaschen': 6910, 'bahlsen': 6911, 'dorisday': 6912, 'migrantinnen': 6913, 'frauenfo': 6914, 'schrittlichen': 6915, 'drogenproblem': 6916, 'flaechen': 6917, 'zuweist': 6918, 'markierungen': 6919, 'einrichten': 6920, 'betreffende': 6921, 'einfinden': 6922, 'rotrotgaga': 6923, 'bildete': 6924, 'stereotypen': 6925, 'werbekunden': 6926, 'real': 6927, 'inspiration': 6928, 'hashtags': 6929, 'twitternwiechebli': 6930, 'allumfassende': 6931, 'freechebli': 6932, 'konstanz': 6933, 'ausgerufen': 6934, 'nervige': 6935, 'luftverpestende': 6936, 'autoposer': 6937, 'reglementie': 6938, 'schwarzafrikanischen': 6939, 'asyltouristen': 6940, 'kirchentreppe': 6941, 'kampagnen': 6942, 'alexe1789': 6943, 'durchhaengen': 6944, 'produktivitaet': 6945, 'wolkenkukuksheim': 6946, 'silvesterknallerei': 6947, 'osterfeuer': 6948, 'zerlegen': 6949, 'zuenden': 6950, 'krawallen': 6951, 'tagderarbeit': 6952, 'gruendonnerstag': 6953, 'offizieller': 6954, 'abgetan': 6955, 'attacken': 6956, 'brandstiftungen': 6957, 'boote': 6958, 'netten': 6959, 'feministinnen': 6960, 'herholt': 6961, 'herlockt': 6962, 'alternativlos': 6963, 'ansatz': 6964, 'hirnforschung': 6965, 'yale': 6966, 'mikrozirkulation': 6967, 'synapsen': 6968, 'einsetzen': 6969, 'lebensunterhalt': 6970, 'fliessband': 6971, 'ueberfordernd': 6972, 'gespann': 6973, 'abgewiesene': 6974, 'abzuschieben': 6975, 'betaeubung': 6976, 'verstuemmelt': 6977, 'schaechten': 6978, 'peta': 6979, 'banhahal': 6980, 'bestimmtes': 6981, 'religioes': 6982, 'bedingt': 6983, 'maschinen': 6984, 'kueltursensibel': 6985, 'ignorante': 6986, 'uninformie': 6987, 'mitkriegen': 6988, 'belangen': 6989, 'ignoranz': 6990, 'eingedaemmte': 6991, 'krankheiten': 6992, 'rueckschrittliches': 6993, 'lieblingsklientel': 6994, 'geschenkt': 6995, 'eintrittska': 6996, 'neuschwansteinstein': 6997, 'neuschafeurabia': 6998, 'umbenannt': 6999, 'angestrichen': 7000, 'abgerissen': 7001, 'kittypunk7': 7002, 'punk': 7003, 'verlagen': 7004, 'manuskripte': 7005, 'auswaehlt': 7006, 'reicher': 7007, 'islamkritiker': 7008, 'angestrebte': 7009, 'hauptwaehlergruppe': 7010, 'vergraulen': 7011, 'baeckereien': 7012, 'gewaschen': 7013, 'kuerzungen': 7014, 'fluechtlingshilfen': 7015, 'klimaproblem': 7016, 'nnaschneider': 7017, 'kollektiv': 7018, 'verfueh': 7019, 'realitaetsabdriftende': 7020, 'einher': 7021, 'dekadentem': 7022, 'unschoenen': 7023, 'wirkungen': 7024, '4256': 7025, 'followern': 7026, 'khodrkida': 7027, '1996': 7028, '15jaehrige': 7029, '1981': 7030, 'geheiratet': 7031, 'juengerin': 7032, 'brauchtum': 7033, 'rosenmontag': 7034, 'karneval': 7035, 'nordafrika': 7036, 'islamisie': 7037, 'instabilisie': 7038, 'klimagoettin': 7039, 'guene': 7040, 'dauerwerbesendungs': 7041, 'gekennzeichnet': 7042, 'neubeginn': 7043, 'nationalstaaten': 7044, 'abschotten': 7045, 'nachbarlaender': 7046, 'dubai': 7047, 'maltas': 7048, 'muscat': 7049, 'rettungsaktion': 7050, 'naechstgelegene': 7051, 'hafen': 7052, 'umfassendes': 7053, 'zunehmender': 7054, 'gutglaeubige': 7055, 'entwaffnet': 7056, 'pilzmesser': 7057, 'kriminalisie': 7058, 'buntbuerger': 7059, 'entwaffnen': 7060, '210': 7061, 'riefen': 7062, 'malta': 7063, 'kutschie': 7064, 'alankurdi': 7065, 'fuerstlich': 7066, 'alimenieren': 7067, 'unterzubringen': 7068, 'illegaler': 7069, 'pferdestall': 7070, 'empoerungs': 7071, 'englisch': 7072, 'altem': 7073, 'begrabschte': 7074, 'huebschen': 7075, 'blonde': 7076, 'lufthansa': 7077, 'stewardess': 7078, 'richtigerweise': 7079, 'assoziieren': 7080, 'pp': 7081, 'neuseeland': 7082, 'eingesehen': 7083, 'dunkeln': 7084, 'kalten': 7085, 'atomenergie': 7086, 'messias': 7087, 'kram': 7088, 'monster': 7089, 'indigene': 7090, 'einzuhegen': 7091, 'auszuduennen': 7092, 'personell': 7093, 'gehirnmasse': 7094, 'hiergewesenen': 7095, 'schwaben': 7096, 'paerchen': 7097, 'grossstadt': 7098, 'europaeisch': 7099, 'niggurath84': 7100, 'stock': 7101, 'gelassen': 7102, 'african': 7103, 'guy': 7104, 'glasgow': 7105, 'autismus': 7106, 'nervig': 7107, 'annewilltalk': 7108, 'haenel': 7109, 'kh': 7110, 'anmassend': 7111, 'ueberlebte': 7112, 'tragischen': 7113, 'mobber': 7114, 'focus': 7115, 'tag24b': 7116, 'randinfo': 7117, 'fantasieangaben': 7118, 'autochonen': 7119, 'fingerabdruecke': 7120, 'umgebracht': 7121, 'erzfeinde': 7122, 'volksabstimmung': 7123, 'redakteure': 7124, '9000': 7125, 'gelenkte': 7126, 'staatspropaganda': 7127, 'selbigen': 7128, 'framingmanual': 7129, 'neuzuege': 7130, 'bestimmtem': 7131, 'veraende': 7132, 'raustraut': 7133, 'zukommen': 7134, 'weiche': 7135, 'zentimeter': 7136, 'einheitsradio': 7137, 'heimatlosen': 7138, 'suessen': 7139, 'verschmusten': 7140, 'hundejahre': 7141, 'verleben': 7142, 'prodogromania': 7143, 'younes': 7144, 'geklappt': 7145, 'rennt': 7146, 'holle1909': 7147, 'holunderhelmut': 7148, 'spitzensteuersatz': 7149, 'luegenmaerchen': 7150, 'aufzutischen': 7151, 'zutreffen': 7152, 'schlepperverein': 7153, 'greatesthits': 7154, 'waechst': 7155, 'naund10': 7156, 'sat': 7157, 'fruehstuecksfernsehen': 7158, 'realitaetsfern': 7159, 'erziehungsgedanken': 7160, 'wahlweise': 7161, 'eichhoernchen': 7162, 'wessarges': 7163, 'mittlinger': 7164, 'michaela': 7165, 'bogner': 7166, 'taubenhaeuser': 7167, 'tauben': 7168, 'rueckzugso': 7169, 'haenden': 7170, 'wilhelm': 7171, 'gedaechtniskirche': 7172, 'staatsbischof': 7173, 'vergisst': 7174, 'predigt': 7175, 'derbrainfucker': 7176, 'kokainkonsum': 7177, 'crystal': 7178, 'drogenbedingten': 7179, 'hirnschaeden': 7180, 'totalitaeren': 7181, 'schoeneres': 7182, 'haufen': 7183, 'abehobener': 7184, 'vips': 7185, 'chauvinismus': 7186, 'suedafrika': 7187, 'aggressiv': 7188, 'italienern': 7189, 'jaeger': 7190, 'einfahren': 7191, 'politikbetrieb': 7192, 'phrasengenerationsproduzent': 7193, 'klingbeils': 7194, 'huelse': 7195, 'entschuldigungsphrase': 7196, 'platzhirsch': 7197, 'baldrian': 7198, 'beruhigung': 7199, 'gemueter': 7200, 'blind': 7201, 'analogem': 7202, 'bundesebene': 7203, 'amtierenden': 7204, 'schamhaft': 7205, 'packen': 7206, 'suchten': 7207, 'spielten': 7208, 'lockvogel': 7209, 'linksrotgruenversifften': 7210, 'werkzeugen': 7211, 'zfd': 7212, 'neo': 7213, 'souveraenes': 7214, 'klopps': 7215, 'mike': 7216, 'krueger': 7217, 'lfc': 7218, 'liverpool': 7219, 'plakatie': 7220, 'landsmann': 7221, 'ueberzeugung': 7222, 'ska': 7223, 'chefs': 7224, 'aneinander': 7225, 'bauern': 7226, 'falschem': 7227, 'zeugnis': 7228, 'lokalisierung': 7229, 'bernsteinzimmers': 7230, 'buchstabentausch': 7231, 'algorithmen': 7232, 'rathausaffaere': 7233, 'hannovers': 7234, 'untreue': 7235, 'unterscheidet': 7236, 'attentaten': 7237, 'rotgruenversiftem': 7238, 'gendergaga': 7239, 'klimawetter': 7240, 'plastik': 7241, 'fluechtl': 7242, 'mexiko': 7243, 'wichtigere': 7244, 'industrie40': 7245, 'imperium': 7246, 'schrangs': 7247, 'wahlempfehlung': 7248, 'vereinba': 7249, '70jahregg': 7250, 'volksentscheid': 7251, 'volksentscheide': 7252, 'loeste': 7253, 'watson': 7254, 'dreissig': 7255, 'ausbruch': 7256, 'feuers': 7257, 'politikstube': 7258, 'abbestellen': 7259, 'abgabe': 7260, 'lebensbereich': 7261, 'strompreise': 7262, 'gotteshaeuser': 7263, 'glocke': 7264, 'gehaengt': 7265, 'nahmen': 7266, 'webde': 7267, 'conte': 7268, 'retweete': 7269, 'wohngebiete': 7270, 'angesiedelt': 7271, 'fang': 7272, 'kriminologe': 7273, 'pfeiffer': 7274, 'erhebt': 7275, 'betruegen': 7276, 'tugenden': 7277, 'kirchenfuersten': 7278, 'gesunde': 7279, 'ernaehrungstipps': 7280, 'bas': 7281, 'kast': 7282, 'brach': 7283, 'kuenstlerkirche': 7284, 'saint': 7285, 'sulpcie': 7286, 'olafgersemann': 7287, 'freitagsdemos': 7288, 'biblische': 7289, 'jesu': 7290, 'gleichauf': 7291, 'uhrsc': 7292, 'uhrwerder': 7293, 'una': 7294, 'uhrmoenchengladbach': 7295, 'erzielte': 7296, 'treffer': 7297, 'gelang': 7298, 'spielklasse': 7299, 'zwolle': 7300, 'assist': 7301, 'addo': 7302, 'gelsenkirchens': 7303, 'praechtigen': 7304, 'gruenderzeitfassaden': 7305, 'spiegeln': 7306, 'bochumer': 7307, 'gelsenkirchener': 7308, 'stadtteil': 7309, 'sparkassen': 7310, 'serioes': 7311, 'gemeinnuetzig': 7312, 'banker': 7313, 'herabgesunken': 7314, 'sparkasse': 7315, 'werra': 7316, 'meissner': 7317, 'banking': 7318, 'hillsborough': 7319, 'margaret': 7320, 'aspinall': 7321, 'suedens': 7322, 'leuchtturm': 7323, 'westens': 7324, 'sammlungspa': 7325, 'mandate': 7326, 'asylantenaufnahme': 7327, 'geisel': 7328, 'gegenbauer': 7329, 'neubau': 7330, 'grausen': 7331, 'praesidiumssitzung': 7332, 'dardai': 7333, 'jobsicherheit': 7334, 'allgemeiner': 7335, 'verbloedungs': 7336, 'vernichtungs': 7337, 'bevormungsmasche': 7338, 'eingemachte': 7339, 'rechtglaeubigen': 7340, 'geraeumt': 7341, 'turnhalle': 7342, 'herhalten': 7343, 'durften': 7344, 'strassenschuhen': 7345, 'abrissreif': 7346, 'passlos': 7347, 'reingelassen': 7348, 'madgeburg': 7349, 'schlug': 7350, 'zugbegleiterin': 7351, 'hure': 7352, 'taube': 7353, 'abzubeissen': 7354, 'govegan': 7355, 'ibes': 7356, 'bloeder': 7357, 'skorpion': 7358, 'stachel': 7359, 'wuenscht': 7360, 'lichen': 7361, 'redakteuren': 7362, 'bedraengt': 7363, 'ueberrollt': 7364, 'strassenbahnmitarbeiter': 7365, 'stiefvater': 7366, 'leonie': 7367, 'david': 7368, 'polizeiwache': 7369, 'aufhaelt': 7370, 'torgelow': 7371, 'neusprech': 7372, 'deluxe': 7373, 'sonnig': 7374, 'heisszeit': 7375, 'schneit': 7376, 'kaeltewelle': 7377, 'oe': 7378, 'autorennen': 7379, 'ausgehend': 7380, 'restdeutsche': 7381, 'privatjet': 7382, '165': 7383, 'medizinern': 7384, 'dolmetscher': 7385, 'nahm': 7386, 'befindlichkeit': 7387, 'diskriminie': 7388, 'lueg': 7389, 'wilkesteding': 7390, 'waldgaenger1401': 7391, 'wegrennen': 7392, 'spaeteren': 7393, 'nebelwirkerin': 7394, 'tinchentrallala': 7395, 'gruselig': 7396, 'versteh': 7397, 'wesentlich': 7398, 'aelter': 7399, 'loehne': 7400, 'hofes': 7401, 'hierbleiben': 7402, 'bundeshaushalt': 7403, 'ruecklage': 7404, 'zugefueh': 7405, 'feige': 7406, 'wucht': 7407, 'senats': 7408, 'verhandelt': 7409, 'willentlich': 7410, 'wissentlich': 7411, 'mitwirkung': 7412, 'jmd': 7413, 'gestochen': 7414, 'kopfstoss': 7415, 'tritte': 7416, 'nasenbeinbruch': 7417, 'platzwunde': 7418, 'abgeschobenen': 7419, 'zettel': 7420, 'zwischentueren': 7421, 'restdeutschen': 7422, 'keepfightingmichael': 7423, 'harmloseste': 7424, 'schreit': 7425, 'passant': 7426, 'weihnachtsmarkt': 7427, 'silvestergeboellere': 7428, 'gesundes': 7429, 'glueckliches': 7430, 'new': 7431, 'year': 7432, 'mitfinanzie': 7433, 'gewaehltes': 7434, 'braunes': 7435, 'kommentators': 7436, 'kameramann': 7437, 'gewaltbejahendem': 7438, 'hoodie': 7439, 'ruemmern': 7440, 'raketen': 7441, 'zusammenlegen': 7442, 'mond': 7443, 'rutsch': 7444, 'dinner': 7445, 'runterladen': 7446, 'armseligen': 7447, 'melder': 7448, 'eindruecke': 7449, 'schildern': 7450, 'beschneiden': 7451, 'persoenlichen': 7452, 'uralte': 7453, 'fassung': 7454, 'aladins': 7455, 'wunderlampe': 7456, 'alberne': 7457, 'langbae': 7458, 'saebeln': 7459, 'ton': 7460, 'prinzessin': 7461, 'ansieht': 7462, 'abgeschlagen': 7463, 'heribe': 7464, 'prantl': 7465, 'liebespaar': 7466, 'abgelaufen': 7467, 'dich': 7468, 'klinge': 7469, 'disch': 7470, 'ausgegrenzt': 7471, 'potenziellen': 7472, 'wachsamkeit': 7473, 'regierungskollegen': 7474, 'vorschlagen': 7475, 'gefaehrden': 7476, 'feuerschrift': 7477, 'untergangs': 7478, 'altar': 7479, 'hauskapelle': 7480, 'baust': 7481, 'unbedeutende': 7482, 'nagerkunst': 7483, 'auszustellen': 7484, 'furore': 7485, 'kunstkritikerin': 7486, 'hoere': 7487, 'ueberkommt': 7488, 'kel': 7489, 'verlaesslicher': 7490, 'torhueter': 7491, 'slapstick': 7492, 'einlage': 7493, 'slipeinlage': 7494, 'zurueckdenke': 7495, 'roman': 7496, 'bescheiden': 7497, 'emre': 7498, 'rettungsschiff': 7499, 'gerettete': 7500, 'stralsunder': 7501, 'alan': 7502, 'kurdi': 7503, 'ozliveboxing': 7504, 'schiffsname': 7505, 'generieren': 7506, 'entfernsteten': 7507, 'huete': 7508, 'wissensforum': 7509, 'natter': 7510, 'igstellung': 7511, 'fluechtlingsaufnahmestelle': 7512, '2022': 7513, 'geschraubt': 7514, 'telekom': 7515, 'magenta': 7516, 'sendernummer': 7517, 'beabohne': 7518, 'aera': 7519, 'abgesang': 7520, 'maritaneube': 7521, 'bauernpunktverluste': 7522, 'gewinnspiel': 7523, 'wiesenhof': 7524, 'werder': 7525, 'entipp': 7526, 'spieltag': 7527, 'benningrita': 7528, 'schwarzgelbe': 7529, 'ratz': 7530, 'ruebe': 7531, 'bewerber': 7532, 'genderbeauftragte': 7533, 'geaende': 7534, 'gefreut': 7535, 'nurdieafd': 7536, 'verroht': 7537, 'fanatischen': 7538, 'notredamefire': 7539, 'notredamecathedral': 7540, 'vaterlaendern': 7541, 'vereidigung': 7542, 'zoomt': 7543, 'polizeiberlinkarrierre': 7544, 'aufrufen': 7545, 'sensibilisieren': 7546, 'gibts': 7547, 'uebergriffig': 7548, 'denkst': 7549, 'sotipptderboss': 7550, 'autsch': 7551, 'duepie': 7552, 'ritsche': 7553, 'ratsche': 7554, 'luecke': 7555, 'ancelotti': 7556, 'star': 7557, 'uebt': 7558, 'skeptiker': 7559, 'kurierat': 7560, 'schiefgehen': 7561, 'bosbach': 7562, 'haargenau': 7563, 'luegendefinition': 7564, 'unkulturhintergruenden': 7565, 'hinausgeleitet': 7566, 'zuwanderern': 7567, 'ergeht': 7568, 'grundton': 7569, 'eienmanistreammedien': 7570, 'hervorgehoben': 7571, 'greenpeace': 7572, 'verkehrsministers': 7573, 'ueli': 7574, 'maurer': 7575, 'srf': 7576, 'rekordwe': 7577, 'berufung': 7578, 'bundesbank': 7579, 'text': 7580, 'jackson': 7581, 'kindergebu': 7582, 'vergangen': 7583, 'blendet': 7584, 'fca': 7585, 'drittes': 7586, 'reservat': 7587, 'shmul': 7588, 'weiszbrod': 7589, 'becker': 7590, 'kohfeldt': 7591, 'moenchen': 7592, 'prolongationsorgie': 7593, 'fahrplan': 7594, 'geruechte': 7595, 'thorgan': 7596, 'hazard': 7597, 'choupo': 7598, 'moting': 7599, 'beheben': 7600, 'freifah': 7601, 'aussereuropaeische': 7602, 'ueerhaupt': 7603, 'sozialversicherungspflichtigen': 7604, 'beschaeftigung': 7605, 'allermeisten': 7606, 'jg': 7607, 'arbeitswillen': 7608, 'strotzen': 7609, 'russlandverschwoerung': 7610, 'erfand': 7611, 'daemliche': 7612, 'analog': 7613, 'epedemie': 7614, 'einschneidend': 7615, 'lederhosen': 7616, 'theresa': 7617, 'may': 7618, 'galgenhumor': 7619, 'schockzustand': 7620, 'trollbrigade': 7621, 'aufheulte': 7622, 'dumpfen': 7623, 'erbrach': 7624, 'linksbloed': 7625, 'wahrzunehmen': 7626, 'holocaustopfer': 7627, 'unverschaemtheit': 7628, 'ermordung': 7629, 'haemischen': 7630, 'jubelnden': 7631, 'kommentaren': 7632, 'seinerzeit': 7633, 'indiskutabel': 7634, 'hielt': 7635, 'halbes': 7636, 'zeitweiliger': 7637, 'zurueckgekeh': 7638, 'vergebens': 7639, 'familienrechtlichen': 7640, 'bestimmungen': 7641, 'bspw': 7642, 'braunschweig': 7643, 'mietve': 7644, 'wohneinrichtungen': 7645, 'neuzuteilungen': 7646, 'erschwerend': 7647, 'hinzu': 7648, 'faenden': 7649, 'eudasproblem': 7650, 'schreitenden': 7651, 'herumzureissen': 7652, 'eingereist': 7653, 'konforme': 7654, 'verwarnt': 7655, 'troestet': 7656, 'mentalitaet': 7657, 'ohren': 7658, 'zwangsabgaben': 7659, 'bismarck': 7660, 'inneroesterreichischer': 7661, 'ebe': 7662, 'tataa': 7663, 'vorzeichen': 7664, 'diesjaehrigen': 7665, 'lautet': 7666, 'daempfer': 7667, 'geisterhand': 7668, 'durchschaubarer': 7669, 'hintergehen': 7670, 'privatsphaere': 7671, 'kriminelles': 7672, 'endes': 7673, 'ruhmesblatt': 7674, 'lehnen': 7675, 'gleichstellungspolitik': 7676, 'zielvereinbarungen': 7677, 'paternalistische': 7678, 'emanzipationspolitik': 7679, 'grundsatzprogramm': 7680, 'publizisten': 7681, 'existenz': 7682, 'schaftswunder': 7683, 'mercedes': 7684, 'mittelfristig': 7685, 'inn': 7686, 'berechtigung': 7687, 'ergebnisgleichheit': 7688, 'inholubek3': 7689, 'entsteht': 7690, 'paragraphen': 7691, 'niveaulosen': 7692, 'antidemokraten': 7693, 'ernsthaften': 7694, 'ausweicht': 7695, 'podiumsdiskussion': 7696, 'moderie': 7697, 'zutaten': 7698, 'staendiges': 7699, 'unterbrechen': 7700, 'gebruelle': 7701, 'zynisches': 7702, 'geklatsche': 7703, 'ikulieren': 7704, 'riesig': 7705, 'kuenftige': 7706, 'gemeinsamer': 7707, 'eapn': 7708, 'begruenden': 7709, 'vize': 7710, 'schwarzen': 7711, 'schlag': 7712, 'umgegangen': 7713, 'hingekriegt': 7714, 'jahn': 7715, 'regierungspropaganda': 7716, 'gebueh': 7717, 'dankemaassen': 7718, 'inknobbe': 7719, 'ausdruecklich': 7720, 'protestie': 7721, 'matthias': 7722, 'moosdorf': 7723, 'beleogen': 7724, 'gewerkschaft': 7725, 'schmeisst': 7726, 'eintrat': 7727, 'gewerkschaften': 7728, 'interessenve': 7729, 'retung': 7730, 'angestellten': 7731, 'gesinnungskontrolle': 7732, 'beutelchenbaer': 7733, '1917': 7734, 'kuba': 7735, 'pot': 7736, 'antibuergerliche': 7737, 'antikapitalistische': 7738, 'roehm': 7739, 'fluegel': 7740, 'goetz': 7741, 'aly': 7742, 'opaschowski': 7743, 'bekanntester': 7744, 'zukunftsforscher': 7745, 'ungeregelten': 7746, 'aufrechnen': 7747, 'ungleichgewichtigkeit': 7748, 'abgesetzt': 7749, 'duerftige': 7750, 'nachtwaechter': 7751, 'wochenrueckblick': 7752, 'antlitz': 7753, 'publicomag': 7754, 'prominent': 7755, 'zwischenleben': 7756, 'lebensrecht': 7757, 'death': 7758, 'entwaffnend': 7759, 'wehling': 7760, 'gebuehrenfrei': 7761, 'migrantenkarawane': 7762, 'rammboecke': 7763, 'polizeiketten': 7764, 'bpw16': 7765, 'untergangsszenarien': 7766, 'beansprucht': 7767, 'unfehlbarkeit': 7768, 'schmie': 7769, 'familienpolitik': 7770, 'mangelhaft': 7771, 'justizminister': 7772, 'duerch': 7773, 'hahn': 7774, 'kraehen': 7775, 'vereinte': 7776, 'eienkoalition': 7777, 'unterschrieben': 7778, 'danielad1972': 7779, 'noherrman': 7780, 'stuetze': 7781, 'jefferson': 7782, 'erschreckendes': 7783, 'ausmass': 7784, 'gutmenschlichen': 7785, 'mitschwimmt': 7786, 'basta': 7787, 'cicero': 7788, 'hendricks': 7789, 'eilinie': 7790, 'planwi': 7791, 'ideologieglaeubigkeit': 7792, 'zeugenstand': 7793, 'bundespraesidentenwahl': 7794, 'osze': 7795, '5mal': 7796, 'pic': 7797, 'ltwmv': 7798, 'agh16': 7799, 'penibel': 7800, 'falschparker': 7801, 'steuererklaerungen': 7802, 'twittere': 7803, 'zukunftskinder': 7804, 'vielter': 7805, 'kindeswohl': 7806, 'grosseinsatz': 7807, 'marburger': 7808, 'arztpraxis': 7809, 'rumgejammere': 7810, 'verbauen': 7811, 'schlussfolgerung': 7812, 'verschleudern': 7813, 'willigeres': 7814, 'gruenzeug': 7815, 'produziere': 7816, 'sputnik': 7817, 'unterschrieb': 7818, 'machtverlust': 7819, 'hannolerekraft': 7820, 'hassverzer': 7821, 'gaenze': 7822, 'barrikade': 7823, 'heben': 7824, 'hoechstrichter': 7825, 'hofburg': 7826, 'mittag': 7827, 'krone': 7828, 'kompromiss': 7829, 'herkunftsstaaten': 7830, 'sanierung': 7831, 'hinterhalt': 7832, 'steinwuerfe': 7833, 'pfalzgraf': 7834, 'schutzausstattung': 7835, 'praesenz': 7836, 'darmstaedter': 7837, 'heinerfest': 7838, 'staedtebund': 7839, 'experimenten': 7840, 'weltanschauliche': 7841, 'kruzifix': 7842, 'klassenzimmer': 7843, 'zwischenahn': 7844, 'emonnaie': 7845, 'delmenhorst': 7846, 'ooooch': 7847, 'nich': 7848, 'siggi': 7849, 'angehende': 7850, 'juristin': 7851, 'referendariat': 7852, 'wittenburg': 7853, 'kommunale': 7854, 'initiativen': 7855, 'proasyl': 7856, 'oktober': 7857, 'bonkekolja': 7858, 'bestochen': 7859, 'befangen': 7860, 'pakte': 7861, 'zuruecknehmen': 7862, 'klimaschutzplan': 7863, 'neubauten': 7864, 'oelheizung': 7865, 'fleischkonsum': 7866, 'halbieren': 7867, 'calais': 7868, 'geschaefte': 7869, 'unterkuenften': 7870, 'aktualisieren': 7871, 'beitrittsverhandlungen': 7872, 'entsetzt': 7873, 'fraktionbw': 7874, 'intransparenz': 7875, 'indexierungsverfahren': 7876, 'polizeichef': 7877, 'stringente': 7878, 'migrationsbegrenzung': 7879, 'zerfallen': 7880, '140': 7881, 'regelung': 7882, 'abschafft': 7883, 'geigen': 7884, 'fashionweek': 7885, 'morddrohung': 7886, 'charlie': 7887, 'hebdo': 7888, 'extremistisches': 7889, 'personenpotential': 7890, 'rechtsextr': 7891, 'linksextr': 7892, 'plaedie': 7893, 'seenot': 7894, 'schleusen': 7895, 'locken': 7896, 'toedliche': 7897, 'meer': 7898, 'aufenthaltstitel': 7899, 'erschleichen': 7900, 'lucasschoppe1': 7901, 'sozusagen': 7902, 'hatespeech': 7903, 'praesidentenamt': 7904, 'eilmeldung': 7905, 'ministerpraesidentin': 7906, 'untersuchungsausschuss': 7907, 'aufgebauschstes': 7908, 'manuelaschwesig': 7909, 'osteuropaeische': 7910, 'bayreuth': 7911, 'ausgegraben': 7912, 'ndr': 7913, 'islamzentrum': 7914, 'happens': 7915, 'laesterbacken': 7916, 'schiesst': 7917, 'preiserhoehungen': 7918, 'arbeitslosigkeit': 7919, 'wiedereinfuehrung': 7920, 'rigaer': 7921, 'campus': 7922, 'nachrichtenueberblick': 7923, 'kindermassenhaltung': 7924, 'teurer': 7925, 'manu': 7926, 'somancher': 7927, 'schnappschuss': 7928, 'betrachter': 7929, 'schwindelt': 7930, 'verschwoerung': 7931, 'verdrehungen': 7932, 'vergeblich': 7933, 'emotionale': 7934, 'gefaengnis': 7935, 'gewaltig': 7936, 'zeiger': 7937, 'wiesn': 7938, 'votum': 7939, 'totzuschweigen': 7940, 'huffpostde': 7941, 'sls': 7942, 'agh': 7943, 'cehzett': 7944, 'eilisten': 7945, 'parlamente': 7946, 'quote': 7947, 'symptomatisch': 7948, 'einschraenken': 7949, 'gutmenschenterror': 7950, 'richterliche': 7951, 'gesetzen': 7952, 'buergers': 7953, 'oberste': 7954, 'prioritaet': 7955, 'unfassbarer': 7956, 'treuebruch': 7957, 'rueckhaltlose': 7958, 'entschaedigung': 7959, 'anreize': 7960, 'hyperinflation': 7961, 'superfluechtling': 7962, '50k': 7963, '150k': 7964, 'leistungsschwach': 7965, 'lisa': 7966, 'eroeffnete': 7967, 'digital': 7968, 'pauschalverdacht': 7969, 'unbegruendet': 7970, 'zurueckgezeigt': 7971, 'freiburgbrennt': 7972, 'schlupfloch': 7973, 'gefangenen': 7974, 'versechsfacht': 7975, 'newsrepublicde': 7976, 'fluechtlingsspo': 7977, 'projekte': 7978, 'glaubwuerdigkeit': 7979, 'enorm': 7980, 'abzustimmen': 7981, 'prophetische': 7982, '1986': 7983, 'sitzung': 7984, 'identity': 7985, 'angehoeren': 7986, 'vizepraesidenten': 7987, 'identityanddemocracy': 7988, 'eucommonsense': 7989, 'ersticken': 7990, 'stille': 7991, 'genugtuung': 7992, 'diplomatie': 7993, 'ungerechtfe': 7994, 'igte': 7995, 'vollkommen': 7996, 'asozial': 7997, 'weigerung': 7998, 'oekowahnsinn': 7999, 'nett': 8000, 'rettungsschirm': 8001, 'vorhandene': 8002, 'zeitnah': 8003, 'liter': 8004, 'ruhig': 8005, 'verbreiten': 8006, 'climatestrike': 8007, 'adac': 8008, 'adacrallye': 8009, 'weltwoche': 8010, 'koeppelroger': 8011, 'dietagesstimme': 8012, 'neigung': 8013, 'politjournalisten': 8014, '2300': 8015, 'vollstaendig': 8016, 'misslungen': 8017, 'spielregeln': 8018, 'eitaktische': 8019, 'bremerhaven': 8020, 'letze': 8021, 'ausgezaehlt': 8022, 'aufsicht': 8023, 'motzen': 8024, 'liberalisieren': 8025, 'maerkte': 8026, 'ehrgeiz': 8027, 'abgehaengt': 8028, 'schwerpunkt': 8029, 'schlagkraeftige': 8030, 'einsatzbereite': 8031, 'truppe': 8032, 'hochrechnungen': 8033, 'dankte': 8034, 'wahlkaempfern': 8035, 'unterstuetzern': 8036, 'gegebenen': 8037, 'voraussetzungen': 8038, 'erzielt': 8039, 'kloppo': 8040, 'nationalmannschaft': 8041, 'unaufhaltsame': 8042, 'bundes': 8043, 'gabelfruehstueck': 8044, 'nahezu': 8045, 'unausweichlich': 8046, '1730': 8047, 'phoenix': 8048, 'genossinnen': 8049, 'personalie': 8050, 'andreanahlesspd': 8051, 'drjoeweinga': 8052, 'ausloesen': 8053, 'absteigenden': 8054, 'zugewande': 8055, 'sympathietraeger': 8056, 'ralle': 8057, 'angekuendigten': 8058, 'rueckzug': 8059, 'erfolgsweg': 8060, 'deutliches': 8061, 'peinliche': 8062, 'unehrliche': 8063, 'sammlung': 8064, 'verharmlosungen': 8065, 'propagandapresse': 8066, 'andernach': 8067, 'auswanderungsgrund': 8068, 'fugen': 8069, 'geratene': 8070, 'euwahl20': 8071, 'bangt': 8072, 'quittung': 8073, 'maximalen': 8074, 'rb': 8075, 'verusoss1': 8076, 'zun': 8077, 'zuhoeren': 8078, 'ungeil': 8079, 'huetter': 8080, 'fliegt': 8081, 'belastung': 8082, 'sozialstaates': 8083, 'staerker': 8084, 'geltender': 8085, 'rocken': 8086, 'schlamassel': 8087, 'eingebrockt': 8088, 'draufgepackt': 8089, 'karrierist': 8090, 'versetzt': 8091, 'befoerdern': 8092, 'nordhessen': 8093, 'wahnsinnig': 8094, 'naturschutzpa': 8095, 'ausgetreten': 8096, 'nachbarin': 8097, 'erholung': 8098, 'kuenftigen': 8099, 'kinderbuchautor': 8100, 'organspender': 8101, 'organsuchender': 8102, 'fatal': 8103, 'respektie': 8104, 'krimineller': 8105, 'verwirkte': 8106, 'morden': 8107, 'reflexa': 8108, 'remigration': 8109, 'resettlement': 8110, 'umsiedlungsprogramme': 8111, 'gebot': 8112, 'erschlaegt': 8113, 'geliebte': 8114, 'windlicht': 8115, 'liane': 8116, 'aeusseren': 8117, 'gewaltsamen': 8118, 'tods': 8119, 'yara': 8120, 'amadeuantonio': 8121, 'hochkriminelles': 8122, 'tumulte': 8123, 'saal': 8124, 'ardmoma': 8125, 'pfanne': 8126, 'offiziellen': 8127, 'sexualdelikte': 8128, '24mal': 8129, 'sexstraftaten': 8130, 'geknallt': 8131, 'bleibe': 8132, 'wellen': 8133, 'zusammenbricht': 8134, 'o2de': 8135, 'o2entdecken': 8136, 'gutschein': 8137, 'einloesen': 8138, 'zalando': 8139, 'gesinngsdruck': 8140, 'unterwirft': 8141, 'internes': 8142, 'polizeiprotokoll': 8143, 'budspencer': 8144, 'burka': 8145, 'heiratet': 8146, 'ausgeben': 8147, 'qualitaetsjournalismus': 8148, 'asiabibi': 8149, 'politisches': 8150, 'gewaehren': 8151, 'weggeworfen': 8152, 'onlinemagazin': 8153, 'bischen': 8154, 'hochverrat': 8155, 'unterbringung': 8156, 'zumutbar': 8157, 'trophaee': 8158, 'einmauern': 8159, 'geschritten': 8160, 'uschen': 8161, 'inteutone': 8162, 'clydevpg': 8163, 'mediterrnewsnet': 8164, 'bernsteinzimmer': 8165, 'nailastrasse': 8166, 'neuperlach': 8167, 'laermschutz': 8168, 'mirgations': 8169, 'experimente': 8170, 'franzoesisches': 8171, 'georgisches': 8172, 'imams': 8173, 'handschlag': 8174, '230': 8175, 'naechten': 8176, 'lorenzmaroldt': 8177, 'verfluchen': 8178, 'justiziar': 8179, 'verfuegung': 8180, 'verzehnfacht': 8181, 'bejubelte': 8182, 'ergehen': 8183, 'arafat': 8184, 'wuerdige': 8185, 'entwe': 8186, 'restles': 8187, 'reschkes': 8188, 'regierungssprecher': 8189, 'dasselbe': 8190, 'beruht': 8191, 'medienberichten': 8192, 'bundesamts': 8193, 'deutschlandkurier': 8194, 'weinstrasse': 8195, 'maxotte': 8196, 'says': 8197, 'eingeladene': 8198, 'krall': 8199, 'hambach': 8200, 'hierzulande': 8201, 'seltenen': 8202, 'akkus': 8203, 'weltfrieden': 8204, 'diversen': 8205, 'schwerpunktsetzung': 8206, 'kurzfristige': 8207, 'verhaltensaenderung': 8208, 'bewirkt': 8209, 'bestaendigkeit': 8210, 'ozonloch': 8211, 'abarbeiten': 8212, 'erinnere': 8213, 'kommunal': 8214, 'schulung': 8215, 'gewaehlten': 8216, 'mandatstraeger': 8217, 'schulungszentren': 8218, 'referenten': 8219, 'mandatstraegern': 8220, 'rlpnews': 8221, 'mdi': 8222, 'polizeibeamte': 8223, 'ordnungsdienst': 8224, 'einheitlichkeit': 8225, 'experiment': 8226, 'probieren': 8227, 'wandern': 8228, 'familienministerium': 8229, 'fuerchte': 8230, 'zettelchen': 8231, 'respektieren': 8232, 'gastland': 8233, 'auskunft': 8234, 'dramatischer': 8235, 'leistungsempfaenger': 8236, 'ministerin': 8237, 'rheinlandpfalz': 8238, 'gestattet': 8239, 'tie': 8240, 'ranspo': 8241, 'nordarika': 8242, 'ad': 8243, 'acta': 8244, 'instanz': 8245, 'aufspielt': 8246, 'anstand': 8247, 'sachlichkeit': 8248, 'eigenschaft': 8249, 'unwaehlbar': 8250, 'grokoweg': 8251, 'sonderschichten': 8252, 'antichristlich': 8253, 'zutiefst': 8254, 'klimakanzlerin': 8255, 'klimaziele': 8256, 'verfehlen': 8257, 'haushalte': 8258, 'strompreisen': 8259, 'strategische': 8260, 'teamfm': 8261, 'reise': 8262, 'wahlergebnisse': 8263, 'migrantenpa': 8264, 'big': 8265, 'duisburger': 8266, 'stimmbezirken': 8267, 'alarmsignal': 8268, 'kirchensteuern': 8269, 'woelki': 8270, 'verfassungsfeind': 8271, 'katarinabarley': 8272, 'einitiative': 8273, 'realist': 8274, 'raeumung': 8275, 'verfaelscher': 8276, 'schaebiger': 8277, 'sturmgeschuetz': 8278, 'geschossen': 8279, 'haltungsjournalismus': 8280, 'angemeldete': 8281, 'wahlkampfveranstaltung': 8282, 'bespuckt': 8283, 'redner': 8284, 'niedergebruellt': 8285, 'gejohlt': 8286, 'raeumte': 8287, 'fuehrende': 8288, 'wahlversammlung': 8289, 'fraktionsvorsitzender': 8290, 'geplatzt': 8291, 'abgefueh': 8292, 'empfahl': 8293, 'hausrecht': 8294, 'gebrauch': 8295, 'koepperlin': 8296, 'vollzugsbeamte': 8297, 'verwiesen': 8298, 'uberheblichkeit': 8299, 'monstranz': 8300, 'pruefungsstoff': 8301, 'abitur': 8302, 'irritie': 8303, 'lauf': 8304, 'ochs': 8305, 'infostaende': 8306, 'freitagsdemo': 8307, 'zugspitze': 8308, 'maischnee': 8309, 'rekord': 8310, 'mittwochmorgen': 8311, 'alpstein': 8312, 'gemessen': 8313, 'wunschkandidat': 8314, 'fernsehfuerstin': 8315, 'kaigniffke': 8316, 'grosseltern': 8317, 'verwandten': 8318, 'wahlkabine': 8319, 'verwandte': 8320, 'arbeitskollegen': 8321, 'souveraenitaet': 8322, 'eue': 8323, '114': 8324, 'niederlaendischer': 8325, 'verharmlosung': 8326, 'zuwandererkriminalitaet': 8327, 'unvorstellbar': 8328, 'wahlkampfabend': 8329, 'juengste': 8330, 'kreisverband': 8331, 'mobilisie': 8332, 'agieren': 8333, 'veraenderungen': 8334, 'rheinzeitung': 8335, 'rz': 8336, '2700': 8337, 'drucken': 8338, 'sinkenden': 8339, 'auflagen': 8340, 'verleger': 8341, 'verwandt': 8342, 'roterfilz': 8343, 'ted': 8344, 'schliesse': 8345, 'filz': 8346, 'kenntlichkeit': 8347, 'braesige': 8348, 'gouvernantentum': 8349, 'konstruktion': 8350, 'desinformie': 8351, 'spitzenkandidaten': 8352, 'unverstaendlichen': 8353, 'phrasen': 8354, 'spitzenkandidatin': 8355, 'listenplaetze': 8356, 'kreistag': 8357, 'goettern': 8358, 'souveraener': 8359, 'studio': 8360, 'bank': 8361, 'ehrlicher': 8362, 'anstaendiger': 8363, 'verstrickung': 8364, 'zufuegen': 8365, 'besiegen': 8366, 'plakatieren': 8367, 'heppenheim': 8368, 'abgang': 8369, 'verfassungstag': 8370, 'plenarsaal': 8371, 'halbmondes': 8372, 'regenbogens': 8373, 'homo': 8374, 'transfeindlichkeit': 8375, 'stellv': 8376, 'fraktionsvorsitzenden': 8377, 'sozialwohnungen': 8378, 'volksvermoegen': 8379, 'ueberregulierung': 8380, 'vergesellschaftung': 8381, 'pures': 8382, 'gift': 8383, 'wettbewerbsfaehige': 8384, 'innovative': 8385, 'volkswi': 8386, 'jusosrlp': 8387, 'kollektivismus': 8388, 'distanzieren': 8389, 'wohnnot': 8390, 'fm': 8391, '1998': 8392, 'heimstaette': 8393, 'bestand': 8394, 'plenum': 8395, 'schwachen': 8396, 'schaufensterantrag': 8397, 'lr': 8398, 'ultralinken': 8399, 'friedensaktivisten': 8400, 'musikveranstaltungen': 8401, 'aktiver': 8402, 'einrichtungen': 8403, 'musikfestivals': 8404, 'durchgefueh': 8405, 'haemmer': 8406, 'tatwerkzeuge': 8407, 'iris': 8408, 'nieland': 8409, 'unzuverlaessigkeit': 8410, 'check': 8411, 'patrick': 8412, 'larspatrickberg': 8413, 'gruendungsmitglied': 8414, 'israels': 8415, 'premier': 8416, 'angelegenheiten': 8417, 'ngo': 8418, 'gelegentlich': 8419, 'erkenntnisgewinn': 8420, 'pressegespaech': 8421, 'joachimpaul': 8422, 'meisterausbildung': 8423, 'kostenfrei': 8424, 'moratorium': 8425, 'kommunalreformen': 8426, 'muslima': 8427, 'erin': 8428, 'leventz': 8429, 'mainusch': 8430, 'asta': 8431, 'hausen': 8432, 'gammler': 8433, 'besetzer': 8434, 'treffpunkt': 8435, 'zustaendiger': 8436, 'aktivitaeten': 8437, 'dichter': 8438, 'denker': 8439, 'einmal': 8440, 'mathe': 8441, 'anregung': 8442, 'abwaehlen': 8443, 'menschenbild': 8444, 'herkunftslaendern': 8445, 'abschwung': 8446, 'dynamik': 8447, 'herausforderung': 8448, 'begegnen': 8449, 'verbindlichen': 8450, 'laenderuebergreifenden': 8451, 'mindestpersonalschluessel': 8452, 'pflegepersonal': 8453, 'entlasten': 8454, 'internationalen': 8455, 'geheule': 8456, 'mangelt': 8457, 'zutreffender': 8458, 'fachkraefteeinwanderungsgesetz': 8459, 'anzeiger': 8460, 'neuwied': 8461, 'magniz': 8462, 'daraufhin': 8463, 'zuschauer': 8464, 'runterspielen': 8465, 'politbarometer': 8466, 'tapfere': 8467, 'heimatkreis': 8468, 'kreistagskandidatin': 8469, 'myk': 8470, 'schier': 8471, 'unaufhaltsam': 8472, 'gastgeber': 8473, 'anzupassen': 8474, 'geschaendete': 8475, 'klaessler': 8476, 'religionsunterrichts': 8477, 'udestedt': 8478, 'religionslehrerin': 8479, 'gebets': 8480, 'teilzunehmen': 8481, 'parlamentarisch': 8482, 'aufarbeiten': 8483, 'gesunden': 8484, 'widrigen': 8485, 'sturmfeste': 8486, 'widerstands': 8487, 'patriotisches': 8488, 'flext': 8489, 'rasant': 8490, 'regierungskritiker': 8491, 'louecrit': 8492, 'louisa': 8493, 'schuetzenswe': 8494, 'umher': 8495, 'ausreisepflichtig': 8496, 'groesstes': 8497, 'liebeshochzeit': 8498, 'konve': 8499, 'schlesien': 8500, 'pommern': 8501, 'ostpreussen': 8502, 'geraubt': 8503, 'verbrecherraere': 8504, 'gehoerend': 8505, 'eschlange': 8506, 'kanzlei': 8507, 'scheidungsanwaltes': 8508, 'christiane': 8509, 'heiraten': 8510, 'unwetterwarnung': 8511, 'dwd': 8512, 'gewitter': 8513, 'starkregen': 8514, 'starkwind': 8515, 'igsuppen': 8516, 'sozialministerium': 8517, 'entschaerft': 8518, 'liesse': 8519, 'verschlusssachen': 8520, 'einlullen': 8521, 'geschnitten': 8522, 'dranbleiben': 8523, 'horn': 8524, 'washingtonallee': 8525, 'bisherigem': 8526, '61': 8527, '040': 8528, '4286': 8529, '56789': 8530, 'jedi': 8531, 'knight': 8532, 'jo': 8533, 'derzeitigen': 8534, 'west': 8535, 'zurzeizt': 8536, 'heroisches': 8537, 'geldbeutel': 8538, 'vorwae': 8539, 'rueckwae': 8540, 'staatsratsvorsitzender': 8541, 'friedliebende': 8542, 'arbeiterklasse': 8543, 'weisheit': 8544, 'glanzzeiten': 8545, 'purojunkie': 8546, 'arbeitende': 8547, 'angeschmie': 8548, 'zusammenschluss': 8549, 'lithiumabbau': 8550, 'kinderlosen': 8551, 'ueberfluessige': 8552, 'dreilaender': 8553, 'einsicht': 8554, 'zugelegt': 8555, 'raetsel': 8556, 'behandeln': 8557, 'grill': 8558, 'herwenden': 8559, 'puren': 8560, 'selbstverletzung': 8561, 'kaninchenbau': 8562, 'effekt': 8563, 'gewarnt': 8564, 'angeklickt': 8565, 'sumpf': 8566, 'desinformation': 8567, 'gottfried': 8568, 'schlimmsten': 8569, 'puetz': 8570, 'asche': 8571, 'haupt': 8572, 'rechtspopulismus': 8573, 'seltsame': 8574, 'herumbruellen': 8575, 'hochagressiv': 8576, 'gegendemonstranten': 8577, 'vereinigten': 8578, 'parlamenten': 8579, 'bundesregierungen': 8580, 'unbehelligt': 8581, 'nohra': 8582, 'brandnerunterwegs': 8583, 'nationelles': 8584, 'anderseits': 8585, 'jenigen': 8586, 'islamistischen': 8587, 'hochgefaehrder': 8588, 'waffenbesitz': 8589, 'einbruch': 8590, 'geduldeter': 8591, 'asylant': 8592, 'failedstate': 8593, 'hinbekommen': 8594, 'gesamtdeutsche': 8595, 'klimanotstands': 8596, 'oekodiktatur': 8597, 'reiherstieg': 8598, 'hauptdeich': 8599, 'engl': 8600, 'fliegerbombe': 8601, 'feuerwehrhh': 8602, 'sperrradius': 8603, 'warnradius': 8604, 'nachgereicht': 8605, 'festgelegt': 8606, 'verstaendigen': 8607, 'wechselmodell': 8608, 'leitbild': 8609, 'streitfall': 8610, 'gemeinsame': 8611, 'idtcdiese': 8612, 'noetigung': 8613, 'blockierer': 8614, 'arbeitgeber': 8615, 'feststellen': 8616, 'nachfolgend': 8617, 'schadensersatz': 8618, 'herfallen': 8619, 'greueltaten': 8620, 'hinnehmen': 8621, 'stpauli': 8622, 'pferdemarkt': 8623, 'ueberfall': 8624, 'pauli': 8625, 'lagerstrasse': 8626, '02': 8627, 'neuenfelder': 8628, 'naeherer': 8629, 'betrachtung': 8630, 'gegenentwurf': 8631, 'lautsprecher': 8632, 'voaaa9obf9w': 8633, 'versammlungen': 8634, 'wohnzimmer': 8635, 'rumbruellen': 8636, 'privatsache': 8637, 'zerreissprobe': 8638, 'begleitet': 8639, 'eichef': 8640, 'sozialisten': 8641, 'vorgestellten': 8642, 'positionspapier': 8643, 'positionie': 8644, 'hagelt': 8645, 'kroete': 8646, 'enbank': 8647, 'angeboten': 8648, 'blase': 8649, 'abgeschotteten': 8650, 'villenfi': 8651, 'kl': 8652, 'muellerwesternhagen': 8653, 'tribunale': 8654, 'klingbeil': 8655, 'honecker': 8656, 'posthum': 8657, 'unterzeichnen': 8658, 'hypothese': 8659, 'verursachten': 8660, 'brachte': 8661, 'lasste': 8662, 'kult': 8663, 'nobelgegend': 8664, 'exzessiv': 8665, 'anruecken': 8666, 'ueberhebliches': 8667, 'selbsternannte': 8668, 'machtrausch': 8669, 'harris': 8670, 'jublerin': 8671, 'helm': 8672, 'verfassungsschutzausschuss': 8673, 'ntv': 8674, 'swisttal': 8675, 'asif': 8676, 'fingie': 8677, 'vorsteuer': 8678, 'erstatten': 8679, 'gb': 8680, 'betrugs': 8681, 'verbindungen': 8682, 'phones': 8683, 'oekobilanz': 8684, 'internets': 8685, 'suchanfragen': 8686, 'energiesparlampe': 8687, 'internetverbot': 8688, 'huepfende': 8689, 'vergleicht': 8690, 'wams': 8691, 'objektiv': 8692, 'wahrnimmt': 8693, 'regenstauf': 8694, 'sprechender': 8695, 'regentalfestes': 8696, 'reibt': 8697, 'entbloesstes': 8698, 'erigie': 8699, 'glied': 8700, 'kuessen': 8701, 'begleiterin': 8702, 'schlampe': 8703, 'heruntergespielt': 8704, 'barkicbranco': 8705, 'ablehnte': 8706, 'unbegreiflich': 8707, 'vorjahr': 8708, 'zischen': 8709, 'stellten': 8710, '206': 8711, 'erstantrag': 8712, 'selben': 8713, 'zeitraum': 8714, '179': 8715, 'kreuzverhoer': 8716, 'vorfeld': 8717, 'mutmasslich': 8718, 'schlaeger': 8719, 'krueppel': 8720, 'gepruegelten': 8721, 'greis': 8722, 'verlierern': 8723, 'randgruppen': 8724, 'endloesung': 8725, 'judenfrage': 8726, 'rohani': 8727, 'besprechen': 8728, 'staatsraeson': 8729, 'kleinstgedruckten': 8730, 'zugeordnet': 8731, 'autokennzeichen': 8732, 'kombi': 8733, 'initialien': 8734, 'schleppen': 8735, 'schubst': 8736, 'sechsjaehrigen': 8737, 'begrapscht': 8738, 'uebergossen': 8739, 'mz': 8740, 'arminlaschet': 8741, 'unerlaesslich': 8742, 'sicherheitsdienste': 8743, 'freibaedern': 8744, 'respektlosem': 8745, 'schulungen': 8746, 'gaesten': 8747, 'vorwirft': 8748, 'genaueren': 8749, 'scheiben': 8750, 'date': 8751, 'promenaden': 8752, 'gehwegen': 8753, 'radwegen': 8754, 'schnitt': 8755, 'falkensee': 8756, 'potsdam': 8757, 'ketzin': 8758, 'beelitz': 8759, 'mittenwalde': 8760, 'klauen': 8761, 'sonnenbrille': 8762, 'lebensmittel': 8763, 'elektronik': 8764, 'haftantrag': 8765, 'fussgaenger': 8766, 'weltklima': 8767, 'vernuenftiger': 8768, 'durchdachter': 8769, 'nazischein': 8770, 'unzaehligen': 8771, 'aehnlichr': 8772, 'gleisbett': 8773, 'rammt': 8774, 'eritreer': 8775, 'brust': 8776, 'verstirbt': 8777, 'bereicherer': 8778, 'mittags': 8779, 'buergersteig': 8780, 'kuechenmesser': 8781, 'hackebeil': 8782, 'praesentiere': 8783, 'jans': 8784, 'transmann': 8785, 'zerpfluecken': 8786, 'totalausfall': 8787, 'eintausend': 8788, 'ministrafen': 8789, 'visionaere': 8790, 'pseudo': 8791, 'heilserwa': 8792, 'ungen': 8793, 'apokalyptische': 8794, 'endzeitaengste': 8795, 'bussen': 8796, 'gerald': 8797, 'major': 8798, 'schwor': 8799, 'praesidium': 8800, 'grundgesetzlich': 8801, 'verbrieft': 8802, 'wuetete': 8803, 'abgeben': 8804, 'bedraengen': 8805, 'begrapschen': 8806, 'krankenhausreif': 8807, 'abgelehnten': 8808, 'kassieren': 8809, 'blamieren': 8810, 'paedophaelie': 8811, 'unte': 8812, 'iteln': 8813, 'hbf': 8814, 'veraengstigt': 8815, 'sensibilisierung': 8816, 'staatssekretaerinnen': 8817, 'gegenteilige': 8818, 'ausreisepflicht': 8819, 'brandgefaehrliche': 8820, 'melonenpa': 8821, 'beschaemende': 8822, 'luenen': 8823, 'strassenraeuber': 8824, 'spaetabends': 8825, 'suedlaendischem': 8826, 'laune': 8827, 'antimuslimischer': 8828, 'retenden': 8829, 'landesvorsitzenden': 8830, 'neumann': 8831, 'promotionsurkunde': 8832, 'erfolgreicher': 8833, 'unternehmer': 8834, 'mill': 8835, 'wohltaetige': 8836, 'zwecke': 8837, 'gespendet': 8838, 'gemeinderaeten': 8839, 'ungnade': 8840, 'irrwege': 8841, 'beitraegen': 8842, 'platt': 8843, 'spielplatz': 8844, 'kontrollverlust': 8845, 'genesung': 8846, 'linksfaschisten': 8847, 'immobilienkongresses': 8848, 'reisebus': 8849, 'krude': 8850, 'menschenrechtsverletzung': 8851, 'kinderehen': 8852, 'schwimmbad': 8853, 'erklaerungs': 8854, 'aufkleber': 8855, 'piktogrammen': 8856, 'belaestigung': 8857, 'rentenanspruch': 8858, '600e': 8859, 'protegie': 8860, 'mindener': 8861, 'messerstich': 8862, 'staatsangehoeriger': 8863, 'widerlegt': 8864, 'langfristvergleich': 8865, 'sandra': 8866, 'donnerstag': 8867, 'vermisst': 8868, 'erstickt': 8869, 'leichnam': 8870, 'pakistaner': 8871, 'kohlefoerderung': 8872, 'kg': 8873, 'eingespa': 8874, 'fetisch': 8875, '41laendern': 8876, 'kernkraftwerke': 8877, '447': 8878, 'kohlekraftwerke': 8879, 'panne': 8880, 'sicherheitspanne': 8881, 'kriegswaffenfund': 8882, 'heinzhermannthiele': 8883, 'hochkritische': 8884, 'zusammenbruchs': 8885, 'oekonomisch': 8886, 'unbeherrschbar': 8887, 'patrickgensing': 8888, 'farbbeuteln': 8889, 'gierige': 8890, 'miethaie': 8891, 'vermuteten': 8892, 'krebspatienten': 8893, 'sief': 8894, 'yasmin': 8895, 'planten': 8896, 'biologischen': 8897, 'kampfstoff': 8898, 'rizin': 8899, 'todesopfer': 8900, 'presseberichte': 8901, 'mangelware': 8902, 'aufarbeitung': 8903, 'loest': 8904, 'gelogen': 8905, 'realitaetsverlust': 8906, 'uebersehen': 8907, 'auseinanderzusetzen': 8908, 'lebenssaft': 8909, 'aussaugen': 8910, 'roehrich': 8911, 'reinkomm': 8912, 'stoer': 8913, 'umfunktionie': 8914, 'grundguetiger': 8915, 'messestichen': 8916, 'dutzend': 8917, 'witwe': 8918, '86': 8919, 'ruck': 8920, 'ergriffen': 8921, 'medienkasper': 8922, 'erledigt': 8923, 'stande': 8924, 'stosse': 8925, 'gruenin': 8926, 'flatulenzen': 8927, 'zwangsabgabe': 8928, 'samstagmorgen': 8929, 'somalischer': 8930, 'zusammengetreten': 8931, 'freigelassen': 8932, 'mehmet': 8933, 'beschimpften': 8934, 'bedraengten': 8935, 'pensionistenpaar': 8936, 'vorbeigehen': 8937, 'mantel': 8938, 'streiften': 8939, 'provokationen': 8940, 'schnauze': 8941, 'diebstaehle': 8942, 'belaestigungen': 8943, 'raeubern': 8944, 'vergewaltigern': 8945, 'totschlaegern': 8946, '696': 8947, 'j2008': 8948, '1196': 8949, 'j2017': 8950, 'sprechers': 8951, 'hamburgs': 8952, 'till': 8953, 'steffen': 8954, 'generellen': 8955, 'walid': 8956, 'hauptverdaechtige': 8957, 'totgepruegelten': 8958, 'niklas': 8959, 'wehrlos': 8960, 'doppelten': 8961, 'unterkieferbruch': 8962, 'jochbeinbruch': 8963, '13j': 8964, 'stephansschule': 8965, 'saarbruecker': 8966, 'schmelz': 8967, 'wiederbelegung': 8968, 'neuesten': 8969, 'sicherheitsbericht': 8970, 'schwedischen': 8971, 'rat': 8972, 'kriminalpraevention': 8973, 'angekettet': 8974, 'kaempfern': 8975, 'sexsklaven': 8976, 'senden': 8977, 'borgholzhausen': 8978, 'wies': 8979, 'multiple': 8980, 'brachen': 8981, 'rettungskraefte': 8982, 'crailsheim': 8983, 'tuerkischem': 8984, 'hochzeitskorso': 8985, 'schreckschusswaffen': 8986, 'patronenhuelsen': 8987, 'beteuern': 8988, 'zukuenftigen': 8989, 'schimpft': 8990, 'schwiegermutter': 8991, 'leserbrief': 8992, 'oberhausenklosterhardt': 8993, 'suedlaendisches': 8994, 'entrissen': 8995, 'umhaengetasche': 8996, 'foot': 8997, 'umweltfreundlichen': 8998, 'disko': 8999, 'passau': 9000, 'weiterer': 9001, 'dingolfing': 9002, 'landshut': 9003, 'erding': 9004, 'burghausen': 9005, 'taeuscht': 9006, 'sedlern': 9007, 'duesseldorfer': 9008, 'aufzutauchen': 9009, 'stehendem': 9010, 'setzte': 9011, 'zum': 9012, 'breitscheidplatz': 9013, 'strafverfolger': 9014, 'widerspruechliches': 9015, 'plausibel': 9016, 'richtigstellen': 9017, 'antifaluebeck': 9018, 'linksfaschistische': 9019, 'totschweigen': 9020, 'offensichtlichem': 9021, 'bevoelkerungsgruppe': 9022, 'systematischer': 9023, 'diskriminierungspolitik': 9024, 'annefrank': 9025, 'annaehern': 9026, 'lauffen': 9027, 'professioneller': 9028, 'drogenring': 9029, 'gambier': 9030, 'schwunghaften': 9031, 'verschiedenen': 9032, 'asylheimen': 9033, 'kiloweise': 9034, 'marihuana': 9035, 'ecstasy': 9036, 'jtrittin': 9037, 'jrehborn': 9038, 'angeeignet': 9039, 'spitzenwissenschaftler': 9040, 'billionen': 9041, 'verdorben': 9042, 'mongolen': 9043, 'diplomatenkennzeichen': 9044, 'unterzogen': 9045, 'diplomatische': 9046, 'vorliegt': 9047, '70kg': 9048, 'heroin': 9049, 'anneliesen2': 9050, 'behaltet': 9051, 'hanta': 9052, 'virus': 9053, 'wechselnden': 9054, 'nern': 9055, 'sprayflasche': 9056, 'rythmus': 9057, 'bespruehen': 9058, 'what': 9059, 'you': 9060, 'want': 9061, 'rhihanna': 9062, 'get': 9063, 'bom': 9064, 'dpa': 9065, 'bundesamtes': 9066, 'einstieg': 9067, 'migrationsbeauftragten': 9068, 'sowahr': 9069, 'eilsfreie': 9070, 'stellung': 9071, 'senkel': 9072, 'anschliessender': 9073, 'labor': 9074, 'gesamtanalyse': 9075, 'blutes': 9076, 'wechseljahre': 9077, 'schwankende': 9078, 'hormonstaerken': 9079, 'blutkreislauf': 9080, 'bemerkbar': 9081, 'ueberfunktion': 9082, 'schilddruese': 9083, 'unbehandelt': 9084, 'gewichtszunahme': 9085, 'knochen': 9086, 'muskelinstabilitaet': 9087, 'wuerzen': 9088, 'pfefferkoerner': 9089, 'verzehr': 9090, 'trunk': 9091, 'kaffee': 9092, 'pfeffermuehle': 9093, 'zerkleine': 9094, 'einfuegen': 9095, 'rheuma': 9096, 'gicht': 9097, 'gelenkentzuendungen': 9098, 'verdauungsfoerdernd': 9099, 'stoffwechselanregend': 9100, 'abnehmen': 9101, 'rundum': 9102, 'entzuendungshemmend': 9103, 'ansprueche': 9104, 'enwissen': 9105, 'pnp': 9106, 'fehlerhaft': 9107, 'basis': 9108, 'emitter': 9109, 'colector': 9110, 'transistoren': 9111, 'schaltung': 9112, 'verstaerker': 9113, 'regelt': 9114, 'geringe': 9115, 'eingangsspannung': 9116, 'impedanz': 9117, 'mikrophon': 9118, 'yacht': 9119, 'schloesser': 9120, 'sekraeterin': 9121, 'taucht': 9122, 'yet': 9123, 'zet': 9124, 'tristes': 9125, 'koranerklaerung': 9126, 'strafzoelle': 9127, 'oel': 9128, 'liefernde': 9129, 'entzug': 9130, 'rohstoffen': 9131, 'veranlassen': 9132, 'migrieren': 9133, 'positive': 9134, 'rethorik': 9135, 'rakete': 9136, 'alltaeglich': 9137, 'bollerwagen': 9138, 'leiharbeit': 9139, 'arbeitsve': 9140, 'minniloehnen': 9141, 'hoffaehig': 9142, 'rentenalter': 9143, 'minnirenten': 9144, 'abgewaehlt': 9145, 'stellungsnahmen': 9146, 'grundbeduerfnissen': 9147, 'bildungs': 9148, 'aufstiegs': 9149, 'eigentuemern': 9150, 'vermieteten': 9151, 'jugendclub': 9152, 'ausgezogen': 9153, 'judentums': 9154, 'gebruestet': 9155, 'psychaterin': 9156, 'veranlagung': 9157, 'pheromone': 9158, 'ritallin': 9159, 'waerest': 9160, 'uninteressant': 9161, 'psychologie': 9162, 'avancen': 9163, 'titeln': 9164, 'vorhandenen': 9165, 'kapazitaet': 9166, 'ect': 9167, 'psychater': 9168, 'raut': 9169, 'anmerkung': 9170, 'schwierigkeiten': 9171, 'begegnung': 9172, 'verkuppelung': 9173, 'wuttke': 9174, 'kerstinm': 9175, 'bezahlte': 9176, 'moscheebau': 9177, 'eingeweiht': 9178, 'wahrheitswelle': 9179, 'getaeuscht': 9180, 'inszenie': 9181, 'staatenlos': 9182, 'lebendigkeit': 9183, 'nationalstaatlichen': 9184, 'kippatag': 9185, 'verdunkeln': 9186, 'neuschwabenlandtreffen': 9187, 'ringheiligtum': 9188, 'poemmelte': 9189, 'germanischer': 9190, 'krafto': 9191, 'guterres': 9192, 'coudenhove': 9193, 'kalergi': 9194, 'delors': 9195, 'karlspreis': 9196, '1918': 9197, 'sieger': 9198, 'tanzt': 9199, 'verbotene': 9200, 'ergreifung': 9201, 'drittklassigen': 9202, 'kunstmalers': 9203, 'wahlmanipulation': 9204, 'fabio': 9205, 'kommentie': 9206, 'eva': 9207, 'leugnen': 9208, 'meinungssperre': 9209, 'oehringen': 9210, 'vereinswahl': 9211, 'krasses': 9212, 'entsperrung': 9213, 'einstweiligen': 9214, 'rechtsschutz': 9215, 'gesinnungshaft': 9216, 'sprengkraft': 9217, 'entlarvt': 9218, '76': 9219, 'halts': 9220, 'wahlkrampf': 9221, 'geisteskrankheiten': 9222, 'vernunftkraft': 9223, 'windwahn': 9224, 'innenamt': 9225, 'hoehepunkt': 9226, 'hologramm': 9227, 'countdown': 9228, 'schockvideo': 9229, 'tyrannei': 9230, 'stalingrad': 9231, 'menschenrechtler': 9232, 'wilfried': 9233, 'schmitz': 9234, 'betreibt': 9235, 'voelkermord': 9236, 'schultze': 9237, 'rhonhof': 9238, 'weltkrieges': 9239, 'lamya': 9240, 'kaddor': 9241, 'klatsche': 9242, 'bruestet': 9243, 'briefkastenfirma': 9244, 'ungern': 9245, 'antreten': 9246, 'pinkcrazypony': 9247, 'paedophilenpa': 9248, '190611': 9249, 'ots': 9250, 'unverhohlene': 9251, 'drohung': 9252, 'unglaubliches': 9253, 'zerstoerungswerk': 9254, 'zwangsfinanzie': 9255, 'propagandaeinrichtungen': 9256, 'parlamentarismus': 9257, 'abscheulicher': 9258, 'auslaenderkriminalitaet': 9259, 'freiwild': 9260, 'belehren': 9261, 'gehirn': 9262, 'siegt': 9263, 'terroristische': 9264, 'islamistische': 9265, 'ideologi': 9266, 'filmkulisse': 9267, 'sinnen': 9268, 'schwerem': 9269, 'haftstrafe': 9270, 'hunger': 9271, 'kaese': 9272, 'stahl': 9273, 'volks': 9274, 'eingereiste': 9275, 'sozialtouristen': 9276, 'samthandschuhen': 9277, 'buecherverbrennung': 9278, 'jugendgefaehrdenden': 9279, 'schriften': 9280, 'projizieren': 9281, 'besessen': 9282, '800000': 9283, 'rechtsordnung': 9284, 'zersetzung': 9285, 'pur': 9286, 'bekaempfe': 9287, 'gaskammern': 9288, 'amtlich': 9289, 'hirnschwach': 9290, 'karin': 9291, 'bloedha': 9292, 'ueberlaufen': 9293, 'dominie': 9294, 'zahlenmaessig': 9295, 'traudich': 9296, 'quadrateule': 9297, 'verhuetung': 9298, 'haram': 9299, 'unterhalt': 9300, 'spektakulaerer': 9301, 'wuerfe': 9302, 'plattling': 9303, 'verbarrikadieren': 9304, 'abfackelten': 9305, 'beginne': 9306, 'schokopudding': 9307, 'wenigen': 9308, 'inbruenstig': 9309, 'angesungen': 9310, 'sarahconnorfc': 9311, 'perfidesten': 9312, 'schoepfungen': 9313, 'junta': 9314, 'selbstbezeichnung': 9315, 'free': 9316, 'freetv': 9317, 'boykottmsm': 9318, 'ureinwohnern': 9319, 'auslaendischen': 9320, 'hoffnungstraegern': 9321, 'ueberraschungen': 9322, 'mordprozess': 9323, 'kenia': 9324, 'abspricht': 9325, 'harvad': 9326, 'beschuldigt': 9327, 'bezueglich': 9328, 'glasklar': 9329, 'multikultureller': 9330, 'schulschwaenzerin': 9331, 'waffel': 9332, 'geschichtsbuechern': 9333, 'ausschreitungen': 9334, 'robust': 9335, 'berufsdemonstranten': 9336, 'polizeiwagen': 9337, 'anfahren': 9338, 'erschrecken': 9339, 'selbstgeisselung': 9340, 'ashurafest': 9341, 'jeweiligen': 9342, 'bewohnenden': 9343, 'erfolgen': 9344, 'umbau': 9345, 'stalinistisches': 9346, 'verbirgt': 9347, 'geringerer': 9348, 'allseits': 9349, 'george': 9350, 'eilose': 9351, 'bissmann': 9352, 'aufzusetzen': 9353, 'geistliche': 9354, 'saat': 9355, 'terroranschlaegen': 9356, 'srilankaterrorattack': 9357, 'le': 9358, 'pen': 9359, 'putzt': 9360, 'bombenleger': 9361, 'algerier': 9362, 'ironischer': 9363, 'klimafragen': 9364, 'schulstreiks': 9365, 'fitten': 9366, 'beobachtet': 9367, 'mimik': 9368, 'goldenedekade': 9369, 'buntedekade': 9370, 'diversityday': 9371, 'gelangen': 9372, 'schaufenster': 9373, 'puppen': 9374, 'kaufte': 9375, 'zps': 9376, 'goldmuenzen': 9377, 'oe24at': 9378, 'aeusserste': 9379, 'verleitet': 9380, 'wurdest': 9381, 'rehabilitation': 9382, 'klimaaktivist': 9383, 'arnold': 9384, 'schwarzenegger': 9385, 'achtet': 9386, 'stromverbrauch': 9387, 'kauft': 9388, 'sprecht': 9389, 'geschwurbel': 9390, 'schaftssystems': 9391, 'systemwechsel': 9392, 'taeuschen': 9393, 'zurueckerobern': 9394, 'emotionaler': 9395, 'inschulz': 9396, 'bruellt': 9397, 'eifreund': 9398, 'hochjazzen': 9399, 'erguesse': 9400, 'beitragstaeter': 9401, 'gekoepft': 9402, 'enthauptungen': 9403, 'betete': 9404, 'reumuetig': 9405, 'vergnuegen': 9406, 'spinnerei': 9407, 'waffengewalt': 9408, 'durchsetzbar': 9409, 'langen': 9410, 'bahnhofshalle': 9411, 'gluecklicher': 9412, 'libanese': 9413, 'kruemmt': 9414, 'wahrsten': 9415, 'steuersklaven': 9416, 'center': 9417, 'seht': 9418, 'trip': 9419, 'ueberlassen': 9420, '1938': 9421, 'erfuellt': 9422, 'alteingesessenen': 9423, 'drogenhandel': 9424, 'vlogger': 9425, 'professionellen': 9426, 'agentur': 9427, 'machtjanix23': 9428, 'geplagter': 9429, 'junke': 9430, 'stammelt': 9431, 'sympathische': 9432, 'alkoholiker': 9433, 'junckereu': 9434, 'jara': 9435, 'mobben': 9436, 'schlitzen': 9437, 'geringsten': 9438, 'anzurichten': 9439, 'auslandspresse': 9440, 'scheut': 9441, 'kapitulation': 9442, 'sensationelles': 9443, 'viktor': 9444, 'orban': 9445, 'zufaelligerweise': 9446, 'zaubern': 9447, 'fallt': 9448, 'besoffener': 9449, 'investoren': 9450, 'rechtsstaatlich': 9451, 'durchgeknallte': 9452, 'herbei': 9453, 'erstaunlicherweise': 9454, 'kleingedruckten': 9455, 'skandalieren': 9456, 'pruegelte': 9457, 'bruellte': 9458, 'sawasanchebli': 9459, 'bedeutungen': 9460, 'wiederholte': 9461, 'rechtskonform': 9462, 'ablaufen': 9463, 'reiner': 9464, 'machtgier': 9465, 'wegnehmen': 9466, 'europaparlaments': 9467, 'europaparl': 9468, 'blonden': 9469, 'ten': 9470, 'cocktail': 9471, 'betonte': 9472, 'zuzulassen': 9473, 'medial': 9474, 'nochmals': 9475, 'angesprochenen': 9476, 'handelte': 9477, '201a': 9478, 'mitziehen': 9479, 'verunglimpfte': 9480, 'oligarch': 9481, 'vermeintliche': 9482, 'bittet': 9483, 'herausgabe': 9484, 'urheber': 9485, 'quellenschutz': 9486, 'meinst': 9487, 'wodka': 9488, 'hurensoehne': 9489, 'notorious': 9490, 'entscheidungshilfe': 9491, 'gefoente': 9492, 'gangsta': 9493, 'rapper': 9494, 'taliban': 9495, 'eimitgliedschaft': 9496, 'exgruene': 9497, 'enthuellungen': 9498, 'arminwolf': 9499, 'getrueffelt': 9500, 'neuigkeitswe': 9501, 'laecherlicher': 9502, 'verzweiflungs': 9503, 'inquisitoren': 9504, 'unerwuenschtes': 9505, 'timmermanseu': 9506, 'vorzugehen': 9507, 'gerichte': 9508, 'schere': 9509, 'kaempften': 9510, 'frauenleiche': 9511, 'vordringen': 9512, 'minder': 9513, 'geholt': 9514, 'raetselhaft': 9515, 'br24': 9516, 'gewisser': 9517, 'raetseln': 9518, 'imzentrum': 9519, 'zwischenfall': 9520, 'verschweigt': 9521, 'passende': 9522, 'europaweit': 9523, 'pardon': 9524, 'populistischer': 9525, 'raender': 9526, 'einzudaemmen': 9527, 'wiesbaden': 9528, 'zusammengeschlagen': 9529, 'tina': 9530, 'tinas': 9531, 'vilshofen': 9532, 'sinzheim': 9533, 'schwarzwald': 9534, 'dunkelhaeutige': 9535, 'lady': 9536, 'abstecher': 9537, 'schulhof': 9538, 'buettel': 9539, 'misthaufen': 9540, 'kurzmussweg': 9541, 'anschlages': 9542, 'linkspresse': 9543, 'respektabel': 9544, 'deutungshoheit': 9545, 'denunzianten': 9546, 'aufgehetzt': 9547, 'suenden': 9548, 'aufdecken': 9549, 'winkt': 9550, 'klimaspinner': 9551, 'rausgehe': 9552, 'befinde': 9553, 'bessermenschenparanoia': 9554, 'morgenluft': 9555, 'entfliehen': 9556, 'buntlinge': 9557, 'merk': 9558, 'fcknazis': 9559, 'wundere': 9560, 'waehnen': 9561, '1athom': 9562, 'ernstes': 9563, 'drachenlord': 9564, 'rainer': 9565, 'winkler': 9566, 'utrecht': 9567, 'goekmen': 9568, 'tanis': 9569, 'farblich': 9570, 'verkaufsplaetze': 9571, 'zugewiesen': 9572, 'singen': 9573, 'zuckersuesse': 9574, 'kinderfest': 9575, 'abhacken': 9576, 'einflussreichsten': 9577, 'akteure': 9578, 'heult': 9579, 'winning': 9580, 'erlegte': 9581, 'ueberraschenderweise': 9582, 'spitzentagen': 9583, 'wolfsburg': 9584, 'niedergeschossen': 9585, 'naehere': 9586, 'thuer': 9587, 'eintreffenden': 9588, 'afdler': 9589, 'grenzenlos': 9590, 'bildern': 9591, 'bossa': 9592, 'londons': 9593, 'oberster': 9594, 'sadiq': 9595, 'khan': 9596, 'staatsbankett': 9597, 'buckinghampalace': 9598, 'ausgeladen': 9599, 'aufatmen': 9600, 'hebelt': 9601, 'genferkonvention': 9602, 'besche': 9603, 'weitgehende': 9604, 'bleiberechte': 9605, 'marokkanische': 9606, 'rapperin': 9607, 'juju': 9608, 'anekdoten': 9609, 'scheissegal': 9610, 'christina': 9611, 'schuetteln': 9612, 'wepper': 9613, 'hausverbot': 9614, 'club': 9615, 'androhen': 9616, 'preisbremse': 9617, 'ungeduldig': 9618, 'neuansiedlung': 9619, 'servustv': 9620, 'liebes': 9621, 'servus': 9622, 'staffel': 9623, 'serie': 9624, 'trakehnerblut': 9625, 'joesiprokopetz': 9626, 'dolezal': 9627, 'kolonovits': 9628, 'musikalische': 9629, 'poetische': 9630, 'unterhaltung': 9631, 'bergamo': 9632, 'unentgeltlich': 9633, 'gemeinnuetzige': 9634, 'amuesant': 9635, 'selfies': 9636, 'schmeckt': 9637, 'oute': 9638, 'sexist': 9639, 'fordernd': 9640, 'motorboote': 9641, 'fliege': 9642, 'raeuber': 9643, 'kumpels': 9644, 'brenzlig': 9645, 'erzuernt': 9646, 'ensterben': 9647, 'perfekten': 9648, 'anstrebt': 9649, 'campingplatz': 9650, 'futter': 9651, 'drall': 9652, 'snowflake': 9653, 'olivia': 9654, 'frey55': 9655, 'eingesetzte': 9656, 'werbespot': 9657, 'sequenz': 9658, 'einarbeiten': 9659, 'auspeitscht': 9660, 'zwangsverheiratet': 9661, 'mutte': 9662, 'student': 9663, 'grundlos': 9664, 'potentiell': 9665, 'lebensgefaehrlich': 9666, 'opferblut': 9667, 'spritzt': 9668, 'sachbeschaedigung': 9669, 'hochzuladen': 9670, 'systemkritiker': 9671, 'totfahren': 9672, 'publizistische': 9673, 'verstaatlichen': 9674, 'ute': 9675, 'geprueft': 9676, 'blutende': 9677, 'privatga': 9678, 'auftauchte': 9679, 'stichverletzung': 9680, 'drogenrausch': 9681, 'knallte': 9682, 'glastisch': 9683, 'puh': 9684, 'fleissigen': 9685, 'geacke': 9686, 'gebuckelt': 9687, 'abgespeist': 9688, 'leergut': 9689, 'stromkosten': 9690, '49': 9691, 'dieselkosten': 9692, 'q5': 9693, 'erscheint': 9694, 'untergetaucht': 9695, 'ladung': 9696, 'zugestellt': 9697, 'bedaue': 9698, 'umzingelt': 9699, 'geklatscht': 9700, 'headline': 9701, 'formulieren': 9702, 'libanon': 9703, 'abgezweigt': 9704, 'mohammeds': 9705, 'blass': 9706, 'vorkommen': 9707, 'niet': 9708, 'nagelfest': 9709, 'b0105': 9710, 'krk979': 9711, 'lsteinwandter': 9712, 'geschaetzt': 9713, 'eygui': 9714, 'res': 9715, 'vollstaendigkeit': 9716, 'eigena': 9717, 'kurzschluesse': 9718, 'buergermeisters': 9719, 'palmer': 9720, 'realistisch': 9721, 'graphic': 9722, 'credits': 9723, 'suedtirol': 9724, 'weinkeller': 9725, 'erweite': 9726, 'offline': 9727, 'zergehen': 9728, 'beliebige': 9729, 'einzuwandern': 9730, 'kurden': 9731, 'ruesselsheim': 9732, 'streitigkeiten': 9733, 'halskette': 9734, 'spazie': 9735, 'schwerbehinde': 9736, 'geschickten': 9737, 'gegenstaende': 9738, 'bespucken': 9739, 'unverstaendlicher': 9740, 'oster': 9741, 'gottesdienst': 9742, 'minimal': 9743, 'paulskirche': 9744, 'pete': 9745, 'auber': 9746, 'veruebten': 9747, 'empfindliche': 9748, 'niederlage': 9749, 'ukraine': 9750, 'korrupter': 9751, 'poroschenko': 9752, 'vernichtend': 9753, 'ukraineelections2019': 9754, 'anschlaege': 9755, 'zeitgenoessische': 9756, 'anmutiges': 9757, 'minarett': 9758, 'braenden': 9759, 'verzweiflung': 9760, 'durchreise': 9761, 'gehinde': 9762, 'las': 9763, 'durchschauten': 9764, 'betende': 9765, 'abzulenken': 9766, 'maennergruppe': 9767, 'jagt': 9768, 'eingestochen': 9769, 'beliebtesten': 9770, 'schutzsuchenden': 9771, 'betreuern': 9772, 'vergasen': 9773, 'aufschlitzen': 9774, 'vielerlei': 9775, 'nachwuchshoffnung': 9776, 'stefantroendle': 9777, 'nicolabeerfdp': 9778, 'feinden': 9779, 'systems': 9780, 'masken': 9781, 'fratze': 9782, 'sichtbarer': 9783, 'dieselauto': 9784, 'kunterbunten': 9785, 'weggeklatscht': 9786, 'syrischen': 9787, 'messerstecher': 9788, 'abdalrhmen': 9789, 'mindestrentnerin': 9790, 'diebstahl': 9791, 'spielte': 9792, 'aktionskuenstler': 9793, 'rannte': 9794, 'brannte': 9795, 'dulden': 9796, 'tagelanger': 9797, 'ausnahmezustand': 9798, 'granate': 9799, 'abgebrannten': 9800, 'brandschutz': 9801, 'freudenbekundungen': 9802, 'grundrechtes': 9803, 'versammlungsfreiheit': 9804, 'rache': 9805, 'ausgebrochen': 9806, 'minus': 9807, 'einzelverkauf': 9808, 'poschardt': 9809, 'serioesen': 9810, 'sammelbecken': 9811, 'schreibende': 9812, 'aktivsten': 9813, 'muehlheim': 9814, 'aufgebrachte': 9815, 'jene': 9816, 'sozi': 9817, 'zugpferd': 9818, 'dannenberg': 9819, 'lockte': 9820, 'forever': 9821, 'young': 9822, 'unbegleiteter': 9823, 'minderjaehriger': 9824, 'entpuppt': 9825, 'groelenden': 9826, 'entsetzens': 9827, 'ableger': 9828, 'rottet': 9829, 'umzingeln': 9830, 'wagten': 9831, 'bocholt': 9832, 'niederbrennen': 9833, 'smiley': 9834, 'prisonplanet': 9835, 'feuerwehr': 9836, 'durchgedrungen': 9837, 'posaunen': 9838, 'bauarbeiten': 9839, 'verdachtsfaelle': 9840, 'behoerdenchef': 9841, 'abzuziehen': 9842, 'bohei': 9843, 'beobachtung': 9844, 'einstufung': 9845, 'tagesspiegel': 9846, 'larswienand': 9847, 'reinboth': 9848, 'stagswunsch': 9849, 'crowdfunding': 9850, 'wannwennnichtjetzt': 9851, 'wasserrettungsstation': 9852, 'fassade': 9853, 'farbbomben': 9854, 'verunstaltet': 9855, 'zaun': 9856, 'geraete': 9857, 'wahllos': 9858, 'ehrenamtliche': 9859, 'lebensretter': 9860, 'dlrg': 9861, 'abschottungs': 9862, 'zur': 9863, 'gefasele': 9864, 'hidden': 9865, 'champions': 9866, 'weltkonzerne': 9867, 'korrespondentin': 9868, 'netteren': 9869, 'ersparen': 9870, 'geschwistern': 9871, 'durchgefuette': 9872, 'mischpoke': 9873, 'stopft': 9874, 'iilegale': 9875, 'mmwesternhagen': 9876, 'nosbuschdesiree': 9877, 'zukunftsachsen': 9878, 'verbitte': 9879, 'verbieste': 9880, 'missionar': 9881, 'gesorgt': 9882, 'toxische': 9883, 'kriminalitaetsquote': 9884, 'respektvoll': 9885, 'gestaerkt': 9886, 'gesellschaftlich': 9887, 'mdrde': 9888, 'mdrpresse': 9889, 'steimle': 9890, 'vorgestellt': 9891, 'inventar': 9892, 'mitteldeutschlands': 9893, 'heimatforscher': 9894, 'stoerenfried': 9895, 'cdusachsen': 9896, 'jauche': 9897, 'ruehren': 9898, 'zack': 9899, 'diffamieren': 9900, 'niemalscdu': 9901, 'cduwuergt': 9902, 'afdwuergt': 9903, 'linksbuendnis': 9904, 'gr': 9905, 'verschenken': 9906, 'glitzer': 9907, 'plz': 9908, 'gepflanzt': 9909, 'eiche': 9910, 'quarantaene': 9911, 'alaska': 9912, 'schmilzt': 9913, 'sibirien': 9914, 'permafrostboden': 9915, 'unmengen': 9916, 'methan': 9917, 'gespeiche': 9918, 'auftaut': 9919, 'verfolge': 9920, 'esoterikszene': 9921, 'seminar': 9922, 'therapeutischen': 9923, 'defaekation': 9924, 'hochenergiewald': 9925, 'geoeffnetem': 9926, 'schreibtisch': 9927, 'entfernung': 9928, 'eindringlicher': 9929, 'liess': 9930, 'zog': 9931, 'schwanz': 9932, 'konzernen': 9933, 'despoten': 9934, 'bueckling': 9935, 'landsleute': 9936, 'patriotisch': 9937, 'teile': 9938, 'zivilgesellschaft': 9939, 'seenotretter': 9940, 'on': 9941, 'fire': 9942, 'verlaub': 9943, 'zurueckliegende': 9944, 'installation': 9945, 'margeriten': 9946, 'umkraenzte': 9947, 'heldentat': 9948, 'standhaftigkeit': 9949, 'unveroeffentlichten': 9950, 'rumaenischen': 9951, 'schwaenze': 9952, 'scampi': 9953, 'beklagt': 9954, 'hetzerin': 9955, 'durchsuchung': 9956, 'aufwiegler': 9957, 'strohfeuer': 9958, 'malte': 9959, 'kaufmann': 9960, 'durcheinander': 9961, 'dax': 9962, 'dichtgemacht': 9963, 'afdmussweg': 9964, 'afdverbot': 9965, 'afdmachtarbeitslos': 9966, 'rating': 9967, 'unsicherheitsfaktor': 9968, 'investitionen': 9969, 'kloeckners': 9970, 'lobby': 9971, 'umgarnte': 9972, 'foltern': 9973, 'christopher': 9974, 'hirnze': 9975, 'ruemmerung': 9976, 'monatelang': 9977, 'eilsverhandlung': 9978, 'verstoerenden': 9979, 'historisches': 9980, 'beschaemend': 9981, 'korruptionswaechter': 9982, 'europarats': 9983, 'greco': 9984, 'schaerfere': 9985, 'reformen': 9986, 'kreise': 9987, 'braune': 9988, 'schwangerschaften': 9989, 'temporaer': 9990, 'dauerhaft': 9991, 'seitdem': 9992, 'schuhgroessen': 9993, 'riesensauerei': 9994, 'bezieht': 9995, 'gequaelt': 9996, 'getrost': 9997, 'eivorsitzenden': 9998, 'linksstehende': 9999, 'landesverband': 10000, 'tn': 10001, 'bayernspd': 10002, 'nichtregieren': 10003, 'asylindustrie': 10004, 'schulschwaenzer': 10005, 'cducsubt': 10006, 'word': 10007, 'bestehender': 10008, 'erdenbewohner': 10009, 'erzaehle': 10010, 'missbilligende': 10011, 'wegzuziehen': 10012, 'alltagsrassismus': 10013, 'raegt': 10014, 'robby': 10015, 'schlund': 10016, 'arbeite': 10017, 'wahlkreis': 10018, 'ostthueringen': 10019, 'holocaustleugner': 10020, 'hel': 10021, 'parlaments': 10022, 'ineffizienz': 10023, 'durchzusetzen': 10024, 'unkommentie': 10025, 'anwaltes': 10026, 'charakter': 10027, 'sogafd': 10028, 'ehrverletzend': 10029, 'bemuehen': 10030, 'kontroversen': 10031, 'erlaeutern': 10032, 'rubel': 10033, 'schickes': 10034, 'auffallend': 10035, 'schergen': 10036, 'vera': 10037, 'lengsfeld': 10038, 'sichtweise': 10039, 'oeffnung': 10040, 'wanderwitz': 10041, 'jedenfalls': 10042, 'ausgehen': 10043, 'prinzipien': 10044, 'rechtsradikale': 10045, 'sicherheitshalber': 10046, 'werbevideo': 10047, 'ernaehrungsministerin': 10048, 'hatespeaker': 10049, 'regpk': 10050, 'bezug': 10051, 'angebliches': 10052, 'soziales': 10053, 'grundsatz': 10054, 'umfassende': 10055, 'abhandlung': 10056, 'stichpunkte': 10057, 'kriminalstatistik': 10058, '136': 10059, '606': 10060, 'boeselager': 10061, 'kinderheim': 10062, 'persoenlichkeits': 10063, 'urheberrechte': 10064, 'fiete': 10065, 'stegers': 10066, 'demokratische': 10067, 'gerold': 10068, 'anlauf': 10069, 'bundestagsvizepraesident': 10070, 'schlachtbetrieb': 10071, 'sachlichen': 10072, 'korrekten': 10073, 'zeitform': 10074, 'praeteritum': 10075, 'ausrede': 10076, 'zuckerreduzieren': 10077, 'selbstverpflichtung': 10078, 'nichtstun': 10079, 'zuckersteuer': 10080, 'nestle': 10081, 'zucker': 10082, 'gesenkt': 10083, 'buchleser': 10084, 'allgemein': 10085, 'verkehr': 10086, 'circa': 10087, 'bayerische': 10088, 'ebner': 10089, 'faschingskostueme': 10090, 'fraktionsgeldern': 10091, 'ostdeutsches': 10092, 'juso': 10093, 'jensmaierafd': 10094, 'scholl': 10095, 'richtiger': 10096, 'handlungsvorschlag': 10097, 'hasskommentare': 10098, 'vernommen': 10099, 'liessen': 10100, 'spektrum': 10101, 'zuordnen': 10102, 'seltsames': 10103, 'terrorgruppe': 10104, 'freital': 10105, 'vlnr': 10106, 'schneiden': 10107, 'koalitionsgedanken': 10108, 'europaabgeordnete': 10109, 'wohnsitz': 10110, 'gesamt': 10111, '96': 10112, 'josamania': 10113, 'wirimosten': 10114, 'vizekanzler': 10115, 'verbreiteten': 10116, 'aussichtlos': 10117, 'unbestreitbar': 10118, 'tiefgruendige': 10119, 'irgendeine': 10120, 'weibliche': 10121, 'offel': 10122, 'steiss': 10123, 'taetowieren': 10124, 'kommunikationsgenie': 10125, 'boot': 10126, 'bewundernswe': 10127, 'ironie': 10128, 'icrmussdassein': 10129, 'wunderblokk': 10130, 'fraktionschef': 10131, 'nobis': 10132, 'pein': 10133, 'kn': 10134, 'bashed': 10135, 'bdi': 10136, 'kempf': 10137, 'bankenkrise': 10138, 'dieselgate': 10139, 'leitenden': 10140, 'bayram': 10141, 'eidmubarak': 10142, 'einfuehrung': 10143, 'energiesteuer': 10144, 'kernstueck': 10145, 'oekologischen': 10146, 'glaubwuerdigen': 10147, 'klimas': 10148, 'bewahrung': 10149, 'schoepfung': 10150, 'bundespa': 10151, '1995': 10152, 'zurueckindiezukunft': 10153, 'dubiose': 10154, 'unechter': 10155, 'konten': 10156, 'beitraege': 10157, 'tausendfach': 10158, 'weiterverbreiten': 10159, 'involvie': 10160, 'durst': 10161, 'schnaps': 10162, 'konstellation': 10163, 'ep': 10164, 'aufzuklaeren': 10165, 'prassen': 10166, 'champagner': 10167, 'chauffeur': 10168, 'hinausgeschleude': 10169, 'detlev': 10170, '1944': 10171, 'militaerdienstes': 10172, '1964': 10173, '1967': 10174, 'decknamen': 10175, 'bruno': 10176, 'inoffizieller': 10177, 'ronald': 10178, 'bischoff': 10179, 'festhalten': 10180, 'offizier': 10181, 'staatssicherheit': 10182, 'drechsler': 10183, 'enrico': 10184, 'rechtsanwalt': 10185, 'wendejahr': 10186, 'angehoeriger': 10187, 'wachregiments': 10188, 'feliks': 10189, 'dzierzynski': 10190, 'unterstand': 10191, 'szenetypisch': 10192, 'stolpersteine': 10193, 'doragezwitscher': 10194, 'getoeteten': 10195, 'regierungspraesidenten': 10196, 'hereinbrachen': 10197, 'oberbuergermeisterkandidat': 10198, 'wipfel': 10199, 'beschraenkungen': 10200, 'kompetenzen': 10201, 'verfassungsschutzes': 10202, 'verbotsverfahren': 10203, 'pogramm': 10204, 'umgebaut': 10205, 'menschenwuerde': 10206, 'kerngehalt': 10207, 'restriktive': 10208, 'beschraenkt': 10209, 'shwittenafd': 10210, 'verarscht': 10211, 'manipulieren': 10212, 'profi': 10213, 'unvermoegen': 10214, 'unterstreicht': 10215, 'zustimmungswe': 10216, 'langem': 10217, 'prozentpunkte': 10218, 'zukunftmitte': 10219, 'selbsterklae': 10220, 'vollstrecker': 10221, 'selbstjustiz': 10222, 'protestierer': 10223, 'bejubelt': 10224, 'jugendundparlament': 10225, '242': 10226, 'herauszufinden': 10227, 'projektes': 10228, 'angegebenen': 10229, 'snickers': 10230, 'hitler': 10231, 'ech': 10232, 'naecht': 10233, 'aerdnoessen': 10234, 'paedos': 10235, 'befeue': 10236, 'hysterie': 10237, 'verkleiden': 10238, 'checken': 10239, 'bedrohten': 10240, 'indigenen': 10241, 'halbe': 10242, 'bildungsexpe': 10243, 'hoeherer': 10244, 'anzahl': 10245, 'geschlechte': 10246, 'rennung': 10247, 'schulfrieden': 10248, 'kirmes': 10249, 'popcorn': 10250, 'paule': 10251, 'kasseler': 10252, 'evt': 10253, 'privatanschrift': 10254, 'jawoll': 10255, 'ostfrrront': 10256, 'drrrum': 10257, 'defensiv': 10258, 'ausrrrradieren': 10259, 'wehklagen': 10260, 'empfangen': 10261, 'hurr': 10262, 'gebissen': 10263, 'offensiv': 10264, 'beobachtungsstatus': 10265, 'schwadrrronieren': 10266, 'heil': 10267, 'inkorrupt': 10268, 'geteilte': 10269, 'blogs': 10270, 'habs': 10271, 'lenkrad': 10272, 'hinunter': 10273, 'verhafteten': 10274, 'lpdwien': 10275, 'where': 10276, 'are': 10277, 'crowds': 10278, 'rassistischer': 10279, 'menschenverachtung': 10280, 'ueberbieten': 10281, 'liebchen': 10282, 'einseitiges': 10283, 'verzerrung': 10284, 'hinte': 10285, 'uer': 10286, 'charles': 10287, 'opfe': 10288, 'elstunde': 10289, 'insbesondere': 10290, 'angefeindet': 10291, 'maximilian': 10292, 'bach': 10293, 'drpeternagel': 10294, 'ergaenzung': 10295, 'giesst': 10296, 'staatlich': 10297, 'gepruefter': 10298, 'widerliche': 10299, 'dithmarschen': 10300, 'kreisvorstand': 10301, 'spekulieren': 10302, 'anregen': 10303, 'anbei': 10304, 'fuette': 10305, 'fragwuerdigsten': 10306, 'ltby': 10307, 'baal': 10308, 'mitstreiter': 10309, 'asylbewerbern': 10310, 'erzwingen': 10311, 'klimagoeren': 10312, 'klimastreik': 10313, 'funtionie': 10314, 'effektiv': 10315, 'psychogoere': 10316, 'anhaltet': 10317, 'interviewerin': 10318, 'spdfilme': 10319, 'dorothee': 10320, 'baer': 10321, 'beteiligungen': 10322, 'up': 10323, 'kmh': 10324, 'langenstein': 10325, 'zwieberge': 10326, 'monatige': 10327, 'sperre': 10328, 'arbeitsamt': 10329, 'koalitionspa': 10330, 'kleinste': 10331, 'karenzzeit': 10332, 'landet': 10333, 'fraup': 10334, 'zurueckzunehmen': 10335, 'grimms': 10336, 'eder': 10337, 'pumuckl': 10338, 'oper': 10339, '1909': 10340, 'eroeffnet': 10341, 'intendant': 10342, 'tauber': 10343, 'emigrieren': 10344, 'c0106': 10345, 'notddz': 10346, 'mauer': 10347, 'gemeiste': 10348, 'elefanten': 10349, 'porzellanladen': 10350, 'tapsig': 10351, 'boeswillig': 10352, 'panzern': 10353, 'alternativer': 10354, 'tatsaechlicher': 10355, 'lockerer': 10356, 'bayerns': 10357, 'umgeht': 10358, 'entspannungscouchen': 10359, 'weihnachtsfeier': 10360, 'fraktionsgruendungsversammlung': 10361, 'zulagen': 10362, 'ersichtliche': 10363, 'verfassungswidrige': 10364, 'rechtsstaatsfeindlich': 10365, 'irgendein': 10366, 'alledem': 10367, 'schaendlich': 10368, 'sichtfeld': 10369, 'grundlagen': 10370, '9ten': 10371, 'aussetzt': 10372, 'noerglern': 10373, 'villa': 10374, 'bestechlich': 10375, 'gierig': 10376, 'machtgeil': 10377, 'schwulenfeindlich': 10378, 'geheimdienstes': 10379, 'regierungspolitik': 10380, 'vorgeben': 10381, 'monatsende': 10382, 'sagenhaft': 10383, 'katastrophalen': 10384, 'offenkundigen': 10385, 'buendnis': 10386, 'stalinisten': 10387, 'oekopopulisten': 10388, 'annemarie': 10389, 'eigenheim': 10390, 'bothe': 10391, 'igem': 10392, 'hoehlen': 10393, 'schenk': 10394, 'hoehlenmenschen': 10395, 'klimakompetenz': 10396, 'annalena': 10397, 'emission': 10398, 'dauerzugfahrer': 10399, 'inlandsflug': 10400, 'schauspiel': 10401, 'losgeht': 10402, 'germaniastatue': 10403, 'neuhaus': 10404, 'gefallene': 10405, '1870': 10406, 'gedenkkultur': 10407, 'delegationssitzung': 10408, 'hochmotivie': 10409, 'europadelbuonsenso': 10410, 'konkrete': 10411, 'straftatbestaende': 10412, 'anteile': 10413, 'staetten': 10414, 'hallen': 10415, 'arenen': 10416, 'schwimmbaeder': 10417, 'tabellarisch': 10418, 'erfasst': 10419, 'tabelle': 10420, 'breit': 10421, 'schlammschlacht': 10422, 'landespa': 10423, 'kita': 10424, 'traegerverein': 10425, 'regenbogen': 10426, 'schweins': 10427, 'religloeses': 10428, 'ereife': 10429, 'chinesische': 10430, 'horoskop': 10431, 'yearofthepig': 10432, 'humanismus': 10433, 'helicoptercrash': 10434, 'newyork': 10435, 'manhattan': 10436, 'manhattanhelicoptercrash': 10437, 'lazarus06': 10438, '55uli': 10439, 'lanyihunter1': 10440, 'schaftde': 10441, 'tbgstephen': 10442, 'crypt': 10443, 'ghost': 10444, 'ditschi25': 10445, 'lars9596': 10446, 'mickdonner': 10447, 'connybub': 10448, 'kleineclaudia1': 10449, 'furchterregend': 10450, 'material': 10451, 'ausruestung': 10452, 'sinnvoller': 10453, 'mogelpackung': 10454, 'filmt': 10455, 'gewonnene': 10456, 'wahlkampfes': 10457, 'zerstoerungswut': 10458, 'positives': 10459, 'abgewinnen': 10460, 'einsammeln': 10461, 'positivdenken': 10462, 'pop': 10463, 'saengerin': 10464, 'wahlerfolge': 10465, 'schwaecheren': 10466, 'auszulassen': 10467, 'fluechtlingshilfe': 10468, 'gesammelt': 10469, 'verrueckte': 10470, 'border': 10471, 'ueberrumpelung': 10472, 'uebervo': 10473, 'wahlerfolg': 10474, 'psychologischen': 10475, 'politkampagnenfuehrung': 10476, 'rhetorik': 10477, 'steigern': 10478, 'durchhalten': 10479, 'verschleissen': 10480, 'erwiderung': 10481, 'youtubers': 10482, 'plumpen': 10483, 'wahlwerbefilm': 10484, 'trocken': 10485, 'luftspo': 10486, 'lueneburger': 10487, 'flugplatzes': 10488, 'zeichnen': 10489, 'innovationen': 10490, 'kernbrennstoffen': 10491, 'nuklearia': 10492, 'website': 10493, 'waehlermissachtung': 10494, 'industrienation': 10495, 'marode': 10496, 'mrd': 10497, 'identitaetskrise': 10498, 'desh': 10499, 'patriotischen': 10500, 'nutzern': 10501, 'befinden': 10502, 'besetzt': 10503, 'unbeugsamen': 10504, 'bevoelke': 10505, 'sonderpa': 10506, 'ueberbevoelkerung': 10507, 'entwicklungslaendern': 10508, 'stagnation': 10509, 'wahlkampfendspu': 10510, 'lueneburg': 10511, 'launische': 10512, 'weiden': 10513, 'siegel': 10514, 'vorhaengeschloss': 10515, 'wahlurne': 10516, 'laufenden': 10517, 'durchschnittliches': 10518, 'festzuhalten': 10519, 'versifft': 10520, 'saechsische': 10521, 'meissen': 10522, 'mittelsachsen': 10523, 'ergebirgskreis': 10524, 'nordsachsen': 10525, 'bundespressekonferenz': 10526, 'blickte': 10527, 'katastrophe': 10528, 'akkruecktritt': 10529, 'geheimen': 10530, 'sitzungen': 10531, 'zb': 10532, 'morgenlage': 10533, 'berechtigt': 10534, 'seibe': 10535, 'transparenz': 10536, 'dieselverbot': 10537, 'kerze': 10538, 'stickoxide': 10539, 'strassenverkehr': 10540, 'benziner': 10541, 'nahlesruecktritt': 10542, 'fhuhnhaeuser': 10543, 'dummkopf': 10544, 'galileo': 10545, 'werbeslogan': 10546, 'obligatorische': 10547, 'schlauer': 10548, 'nomorepillepalle': 10549, 'weiterreise': 10550, 'kriegswaffen': 10551, 'maerchenbuecher': 10552, '9jaehrige': 10553, 'rekpicard': 10554, 'bundeszenztale': 10555, 'bessern': 10556, 'cduliefe': 10557, 'waehl': 10558, 'netzdb': 10559, 'aufgezwungen': 10560, 'wahlversprechen': 10561, 'wirsindnichtmehr': 10562, 'selbstbestimmt': 10563, 'sachse': 10564, 'brandung': 10565, 'erwaegt': 10566, 'schlaeft': 10567, 'out': 10568, 'misstrauen': 10569, 'drittletzter': 10570, 'depp': 10571, 'abgeschaltet': 10572, 'verwaltungsgericht': 10573, 'chancengleichheit': 10574, 'kleiner': 10575, 'abzuschalten': 10576, 'ausschliessen': 10577, 'interessen': 10578, 'brutalisierung': 10579, 'stemmen': 10580, 'gesetzeskonformen': 10581, 'gesellschaften': 10582, 'statistische': 10583, 'anomalie': 10584, 'religionsfreiheit': 10585, 'politker': 10586, 'volke': 10587, 'verfassungsmaessige': 10588, 'gebunden': 10589, 'versuche': 10590, 'fluechtlingslagern': 10591, 'nahrungsaufnahme': 10592, 'spion': 10593, 'hintermaenner': 10594, 'eindeutig': 10595, 'produktionskosten': 10596, '2008': 10597, 'affen': 10598, 'korrupte': 10599, 'gaehn': 10600, 'vorgeschlagen': 10601, 'mat': 10602, 'eu2019': 10603, 'stadtraetin': 10604, 'halbnacktres': 10605, 'einhorn': 10606, 'kinderrechte': 10607, 'aufwachsen': 10608, 'gefilmtes': 10609, 'gekramt': 10610, 'geheimverhandlungen': 10611, 'verheimlicht': 10612, 'iaikaiaika': 10613, 'jvermessen': 10614, 'konsument': 10615, 'gay': 10616, 'porn': 10617, 'pervers': 10618, 'abwaegig': 10619, 'klargestellt': 10620, 'halskrause': 10621, 'ueberwachung': 10622, 'keinerlei': 10623, 'missgeschick': 10624, 'feinesahnefickgesicht': 10625, 'rrrraechts': 10626, 'hooligans': 10627, 'uebliche': 10628, 'taeterklientel': 10629, 'abwechslung': 10630, 'echtem': 10631, 'lindern': 10632, 'verdammten': 10633, 'monokulturen': 10634, 'verdammte': 10635, 'meldedrecksau': 10636, 'waldumbau': 10637, 'strapazieren': 10638, 'gaengeln': 10639, 'mischwaelder': 10640, 'mica': 10641, 'berlins': 10642, 'behrendt': 10643, 'moabit': 10644, 'vollzaehlig': 10645, 'sauladen': 10646, 'vordermann': 10647, 'publicity': 10648, 'kulturschaffenden': 10649, 'einmischung': 10650, 'juste': 10651, 'gentrifizie': 10652, 'abgehalfte': 10653, 'kuenstlern': 10654, 'weitesgehend': 10655, 'halali': 10656, 'flutschi010': 10657, 'betreuten': 10658, 'widerlicher': 10659, 'systemhuren': 10660, 'wessis': 10661, 'zusammenhalt': 10662, 'bewirken': 10663, 'wahlbeeinflussenden': 10664, 'promi': 10665, 'stigmatisierung': 10666, 'halbwahrheiten': 10667, 'angefangen': 10668, 'profiteure': 10669, 'foerdergelder': 10670, 'abzuzocken': 10671, 'schleimer': 10672, 'dicken': 10673, 'glatt': 10674, 'ausnahme': 10675, 'ubbelohdeberlin': 10676, 'bonanza': 10677, 'schnucki': 10678, 'tatue': 10679, 'tata': 10680, 'vanisch': 10681, 'erleidet': 10682, 'denuzianten': 10683, 'populisten': 10684, 'einfachen': 10685, 'luden': 10686, 'haeuschen': 10687, 'blankenese': 10688, 'sommerfest': 10689, 'nu': 10690, 'poolbereich': 10691, 'geschrubbt': 10692, 'letztes': 10693, 'ferkelei': 10694, 'pool': 10695, 'ceaucescu': 10696, 'kommunist': 10697, 'weihnachtsgans': 10698, 'geendet': 10699, 'abwa': 10700, 'ehemailgen': 10701, 'bekiffte': 10702, 'altlinke': 10703, 'migrantenfreundlichen': 10704, 'buntewelt1966': 10705, 'sprechchor': 10706, 'erlauben': 10707, 'hellsten': 10708, 'beheimatet': 10709, 'rausnehmen': 10710, 'mitgezeugten': 10711, 'foeten': 10712, 'mitreden': 10713, 'islamophobia': 10714, 'bloedheit': 10715, 'tigerkaefig': 10716, 'beweisen': 10717, 'tiger': 10718, 'religionofpeace': 10719, 'anna': 10720, 'ikularisieren': 10721, 'reaktionaerestrohdummelinke': 10722, 'kulturrevolution': 10723, 'unterwerfen': 10724, 'missverstaendliches': 10725, 'unmissverstaendliches': 10726, 'wahlbeeinflussung': 10727, 'nachgesch': 10728, 'yeaaaahhh': 10729, 'trekkingsandalen': 10730, 'tennissocken': 10731, 'besatzerkindern': 10732, 'verhoe': 10733, 'barley': 10734, 'gesundheitsminister': 10735, 'feststellt': 10736, 'schwulsein': 10737, 'behandel': 10738, 'heilbare': 10739, 'deutschlandhasser': 10740, 'regierungsverhaeltnisse': 10741, 'leberwurst': 10742, 'bewachen': 10743, 'verspraeche': 10744, 'dreiste': 10745, 'katrinhleipzig1': 10746, 'schlesier': 10747, 'erschreckte': 10748, 'schlaumeier': 10749, 'oestliche': 10750, 'neisse': 10751, 'historisch': 10752, 'korrekte': 10753, 'pat22344': 10754, 'dievereintenirren': 10755, 'dievereinigtenverwir': 10756, 'fensterplatz': 10757, 'bio': 10758, 'gretchen': 10759, 'doppelkarre': 10760, 'fraktionschefs': 10761, 'kauder': 10762, 'rbrinkhaus': 10763, 'ungeeignet': 10764, 'festlegung': 10765, 'gelehnt': 10766, 'anschaffen': 10767, 'vergesst': 10768, 'waehlergunst': 10769, '1003': 10770, 'befragte': 10771, 'repraesentativ': 10772, 'anani': 10773, 'sikerim': 10774, 'profiltext': 10775, 'tsg1909': 10776, 'hardrock': 10777, 'sanfte': 10778, 'balladen': 10779, 'kuschelsongs': 10780, 'chrisjuko': 10781, 'gepflegte': 10782, 'konversation': 10783, 'darkcat90': 10784, 'deutliche': 10785, 'klarname': 10786, 'abzufackeln': 10787, 'inzestsachen': 10788, 'senilioren': 10789, 'tbreitschneider': 10790, '80zigern': 10791, 'mauerbau': 10792, 'gefluechtet': 10793, 'installie': 10794, 'umvolkung': 10795, 'aktuellem': 10796, 'bruehl': 10797, 'sir': 10798, 'nosbusch': 10799, 'nasen': 10800, 'meinetwegen': 10801, 'kokain': 10802, 'czarymarybum777': 10803, 'grundsolide': 10804, 'mathematik': 10805, 'ansammlung': 10806, 'lebensjahren': 10807, 'altersweisheit': 10808, 'weltnews': 10809, 'versprecher': 10810, 'iiiiiiccchhh': 10811, 'suessigkeiten': 10812, 'heilen': 10813, 'begrabschen': 10814, 'essener': 10815, 'harz': 10816, 'weltkrieg': 10817, 'ausgeloest': 10818, 'ccckamranccc': 10819, 'femaleaga': 10820, 'homophob': 10821, 'integrier': 10822, 'eisbaer': 10823, 'regenwald': 10824, 'duemmer': 10825, 'zeichenbegrenzung': 10826, 'abgehalten': 10827, 'besonderer': 10828, 'erguss': 10829, 'seinerseits': 10830, 'uffbasse': 10831, 'grossmeister': 10832, 'zopfgedoens': 10833, 'unterversorgte': 10834, 'aufmerksamkeitsdefizit': 10835, 'pflegenotstand': 10836, 'zivilen': 10837, 'ungehorsam': 10838, 'endegelaende': 10839, 'hambibleibt': 10840, 'nobelpreis': 10841, 'heer': 10842, 'ueberschaubares': 10843, 'stammbaum': 10844, 'kreisfoermig': 10845, 'ziege': 10846, 'vorkommt': 10847, 'sympathischen': 10848, 'iceland': 10849, 'menschheitsgeschichte': 10850, 'dtpmaker': 10851, 'stammklientel': 10852, 'oekoextremisten': 10853, 'umstimmen': 10854, 'unwissenheit': 10855, 'scheinheiligkeit': 10856, 'ego': 10857, 'eng': 10858, 'zuparken': 10859, 'romane': 10860, 'homophober': 10861, 'bevoelkerungsgruppen': 10862, 'kerlchen': 10863, 'empfindlich': 10864, 'ferner': 10865, 'schadenfreude': 10866, 'truemme': 10867, 'ruppe': 10868, 'glaubst': 10869, 'haeltst': 10870, 'fusspilz': 10871, 'essbares': 10872, 'gruess': 10873, 'baetschi': 10874, 'theowiesengrund': 10875, 'wicht': 10876, 'bemerkt': 10877, 'pispers': 10878, 'stimmrecht': 10879, 'moebusanne': 10880, 'gruenversiffte': 10881, 'hetzern': 10882, 'volksverdummern': 10883, 'contbau': 10884, 'sozialdienst': 10885, 'kachelmann': 10886, 'unserioesitaet': 10887, 'leugner': 10888, 'klimwandels': 10889, 'ausschlagen': 10890, 'lager': 10891, 'vergraetzen': 10892, 'nachvollziehbares': 10893, 'bitte1': 10894, 'soziologie': 10895, 'diplom': 10896, 'sozialpaedagoge': 10897, 'muellman': 10898, 'intellektuell': 10899, 'nachplappern': 10900, 'staatlicher': 10901, 'intellektuelle': 10902, 'altphilologie': 10903, 'benannt': 10904, 'hoeheren': 10905, 'bildungsabschluesse': 10906, 'praxis': 10907, 'anzuwenden': 10908, 'auszurechen': 10909, 'asylbetrueger': 10910, 'erwi': 10911, 'schaften': 10912, 'rauslassen': 10913, 'verkraften': 10914, 'zukuenftig': 10915, 'erlangt': 10916, 'verbinden': 10917, 'hoheitsvoll': 10918, 'schwadronieren': 10919, 'attituede': 10920, 'heraushaengen': 10921, 'christianisie': 10922, 'lenni': 10923, 'volljaehrig': 10924, 'einzublaeuen': 10925, 'zensurschnepfen': 10926, 'tweeten': 10927, 'wohle': 10928, 'volksgruppe': 10929, 'ankara': 10930, 'tuerkenmuschis': 10931, 'schnupfen': 10932, 'abreisen': 10933, 'jubelt': 10934, 'hasspropaganda': 10935, 'pfingstmontag': 10936, 'arbeitsfrei': 10937, 'narrenschiff': 10938, 'fuenfeinhalb': 10939, 'hohoho': 10940, 'muesstet': 10941, 'alterdonauwels': 10942, 'abgeloest': 10943, 'timmermanns': 10944, 'buschkowsky': 10945, 'aufsteigen': 10946, '16jaehrige': 10947, 'autistin': 10948, 'klimageist': 10949, 'begluecken': 10950, 'strang': 10951, 'beschreibe': 10952, 'schultern': 10953, 'gehauen': 10954, 'zuzubinden': 10955, 'gigantische': 10956, 'klimaprofiteur': 10957, 'pusht': 10958, 'denkverboten': 10959, 'hofieren': 10960, 'non': 10961, 'binary': 10962, 'intolerant': 10963, 'depressionen': 10964, 'uebernimmst': 10965, 'standpunkte': 10966, 'feindbilder': 10967, 'welche': 10968, 'drumheadberlin': 10969, 'thegreenrevolution': 10970, 'georgrestle': 10971, 'lie': 10972, 'befuerwo': 10973, 'ungswuerdig': 10974, 'neubauerstbezug': 10975, 'muelltonnen': 10976, 'pfandfkaschen': 10977, 'essbarem': 10978, 'durchsuchen': 10979, 'neigen': 10980, 'statistisch': 10981, 'kennedy': 10982, 'unzulaessig': 10983, 'jana': 10984, 'hensel': 10985, 'agenfm': 10986, 'masche': 10987, 'lenin': 10988, 'trug': 10989, 'sohlen': 10990, 'proletariat': 10991, 'frischen': 10992, 'loechrigen': 10993, 'fetische': 10994, 'schreiberlinge': 10995, 'verstoerender': 10996, 'sommerliche': 10997, 'durchatmen': 10998, 'aufbehalten': 10999, 'gesinnungs': 11000, 'suchennnnnnnnnnnnnn': 11001, 'aschiebehaft': 11002, 'lauinger': 11003, 'entgangen': 11004, 'mitschreiben': 11005, 'denkdefizit': 11006, 'gelobte': 11007, 'erlaesst': 11008, 'unerlaubt': 11009, 'hoheitsgewaesser': 11010, 'mhh': 11011, 'garnix': 11012, 'ehmmm': 11013, 'bloede': 11014, 'hitze': 11015, 'nachgelegt': 11016, 'unverschaemten': 11017, 'hassobjekt': 11018, 'allenthalben': 11019, 'haeme': 11020, 'gutmenschenfraktion': 11021, 'klarkommen': 11022, 'unschoen': 11023, 'bleistift': 11024, 'angesetzt': 11025, 'bewerkstelligen': 11026, 'meinungafreiheit': 11027, 'krampen': 11028, 'knarrenbauer': 11029, 'grins': 11030, 'caligula': 11031, 'ernennt': 11032, 'konsul': 11033, 'baumeln': 11034, 'aufgeladen': 11035, 'fremdfinanzie': 11036, 'zombies': 11037, 'gluecklicherweise': 11038, 'pflanzungsdrang': 11039, 'genderfluides': 11040, 'dasein': 11041, 'babies': 11042, 'bereiten': 11043, 'wahlergebnis': 11044, 'musselschland': 11045, 'leere': 11046, 'ueberwies': 11047, 'steuerkroeten': 11048, 'hinflutschen': 11049, 'hohlnuss': 11050, '100mal': 11051, 'klimakroeta': 11052, 'geistesbehinde': 11053, 'mangels': 11054, 'schulbesuchen': 11055, 'scheinheiliges': 11056, 'doppelgaenger': 11057, 'genf': 11058, 'sozialstandards': 11059, 'anmahnen': 11060, 'erkennungs': 11061, 'prost': 11062, 'zweifelt': 11063, 'widerliches': 11064, 'kleinauf': 11065, 'saudoofendeutschen': 11066, 'schulligung': 11067, 'robbi': 11068, 'absteckst': 11069, 'mittagessen': 11070, 'pflaume': 11071, 'stichtag': 11072, 'blitz': 11073, 'blank': 11074, 'aische': 11075, 'pfingstochse': 11076, 'csd': 11077, 'schleudern': 11078, 'gruenanlagen': 11079, 'kopftuchtraegerinnen': 11080, 'versifften': 11081, 'mina': 11082, 'raeaechten': 11083, 'fit': 11084, 'gemeldet': 11085, 'heisses': 11086, 'spatzen': 11087, 'schrumpfen': 11088, 'klappern': 11089, 'birne': 11090, 'frische': 11091, 'rauchen': 11092, 'tank': 11093, 'rohoel': 11094, 'umd': 11095, 'frisches': 11096, 'waffenoel': 11097, 'inoldgermany': 11098, 'wessi': 11099, 'u17': 11100, 'mannschaft': 11101, 'tus': 11102, 'binzen': 11103, 'landesliga': 11104, 'wurst': 11105, 'klimaschutzgruenden': 11106, 'cr': 11107, 'pes': 11108, 'gehirngewasche': 11109, 'pfingstferien': 11110, 'erlahmenden': 11111, 'elan': 11112, 'fat': 11113, 'siggis': 11114, 'migrationspolitik': 11115, 'ausgehackt': 11116, 'nichtskoennerin': 11117, 'hohlem': 11118, 'toller': 11119, 'fatmann': 11120, 'schmutzig': 11121, 'wueste': 11122, 'teppiche': 11123, 'flicken': 11124, 'steuergelder': 11125, 'arbeitsklamotten': 11126, 'steuren': 11127, 'ranschaffen': 11128, 'nervenheilanstalt': 11129, 'stadtverwaltung': 11130, 'angestellt': 11131, 'speichel': 11132, 'puscht': 11133, 'narzisstischen': 11134, 'callcenter': 11135, 'agenten': 11136, 'langgeht': 11137, 'beschreiben': 11138, 'klimaschutzprojekt': 11139, 'waehrendzahlen': 11140, 'islamistischer': 11141, 'terrorverfahren': 11142, 'ansteigen': 11143, 'sicherheitsbehoerden': 11144, 'kriminalisierung': 11145, 'veranstaltete': 11146, 'aktionstag': 11147, 'fuellen': 11148, 'dick': 11149, 'gebesse': 11150, 'scheisshaufen': 11151, 'niemalsssssssssssssssss': 11152, 'streicheleinheiten': 11153, 'streicheln': 11154, 'nackter': 11155, 'trieb': 11156, 'eselgehege': 11157, 'herum': 11158, 'besitzerin': 11159, 'eselgeheges': 11160, 'wienerwald': 11161, 'erwischte': 11162, 'unbekleideten': 11163, 'herumtrieb': 11164, 'raecchten': 11165, 'sommerbaeder': 11166, 'ganoven': 11167, 'brutalo': 11168, 'umschreibungen': 11169, 'phaenotypen': 11170, '3785': 11171, 'zusammengesetzt': 11172, 'kindergeld': 11173, '83': 11174, 'zurueckgezahlt': 11175, 'aufgewendet': 11176, 'that': 11177, 'offeln': 11178, 'markieren': 11179, 'kuschen': 11180, 'einscheissen': 11181, 'stinkende': 11182, 'bruehe': 11183, 'auszudruecken': 11184, 'datt': 11185, 'nachruf': 11186, 'begeiste': 11187, 'had': 11188, 'share': 11189, 'this': 11190, 'saubloed': 11191, 'ala': 11192, 'kardashians': 11193, 'spargelstecher': 11194, 'privater': 11195, 'chat': 11196, 'rassie': 11197, 'rin': 11198, 'stroemen': 11199, '13uhr': 11200, 'ansturm': 11201, 'abzufassen': 11202, 'doofenschlafmichel': 11203, 'rammeln': 11204, 'ehm': 11205, 'esco': 11206, '900': 11207, 'carsharing': 11208, 'liebling': 11209, 'leichen': 11210, 'ungestoe': 11211, 'stuhl': 11212, 'kleben': 11213, 'machterhalt': 11214, 'jedenpreis': 11215, 'verschissenen': 11216, 'tattos': 11217, 'verblasst': 11218, 'kapitaen': 11219, 'terrassenmoerder': 11220, 'versauen': 11221, 'wochenteiler': 11222, 'thursday': 11223, 'brueller': 11224, 'monats': 11225, 'fahr': 11226, 'steige': 11227, 'strassenbahn': 11228, 'lichtblick': 11229, 'shoppen': 11230, 'koryphaee': 11231, 'sooooooooooo': 11232, 'egoist': 11233, 'saeugling': 11234, 'mami': 11235, 'gesoffen': 11236, 'interpretieren': 11237, 'visuelles': 11238, 'asylkritiker': 11239, 'aufrief': 11240, 'auffassung': 11241, 'sippe': 11242, 'oberhausen': 11243, 'wahrscheinlichkeit': 11244, 'zaelht': 11245, 'fachkraft': 11246, 'rvergessen': 11247, 'oeffters': 11248, 'schmierigen': 11249, 'tagtaeglichen': 11250, 'sonstigen': 11251, 'religions': 11252, 'miterleben': 11253, 'blutigst': 11254, 'mitverspueren': 11255, 'saarland': 11256, 'letztemuell': 11257, 'maessig': 11258, 'kerle': 11259, 'mmmmhhhhhhhhhh': 11260, 'flugblaetter': 11261, 'hochzeits': 11262, 'korsos': 11263, 'geistes': 11264, 'schwimmbaedern': 11265, 'comic': 11266, 'falschfluechtlings': 11267, 'gruenextremisten': 11268, 'schikanieren': 11269, 'kasse': 11270, 'zeigefinger': 11271, 'strecken': 11272, 'vorbildhaften': 11273, 'lebensfuehrung': 11274, 'favorit': 11275, '3stelliges': 11276, 'minusbereich': 11277, 'alptraum': 11278, 'wahlhelfer': 11279, 'flockig': 11280, 'zoo': 11281, 'toenen': 11282, 'paketdienst': 11283, 'zulieferung': 11284, 'zufriedenheit': 11285, 'reschpekt': 11286, 'unterhemd': 11287, 'zoogestell': 11288, 'stabiler': 11289, 'antonia': 11290, 'sympathisie': 11291, 'jahresausstellung': 11292, 'gescheiter': 11293, 'deutschkurs': 11294, 'akademikerdeutsch': 11295, 'gegenkandidat': 11296, 'bekennender': 11297, 'masochist': 11298, 'lederhaube': 11299, 'masochistischen': 11300, 'rummelboxerin': 11301, 'hauen': 11302, 'klappte': 11303, 'schlechtesten': 11304, 'kloster': 11305, 'angefressen': 11306, 'vorstand': 11307, 'auftaucht': 11308, 'leichenwagen': 11309, 'endet': 11310, 'bestreiten': 11311, 'untergeschoben': 11312, 'freigesprochen': 11313, 'vorprogrammie': 11314, 'mallorca': 11315, 'jetterin': 11316, 'bindencharlotte': 11317, 'viva': 11318, 'plapperrunde': 11319, 'verbotsleder': 11320, 'sandwich': 11321, 'gewoehnen': 11322, 'riskieren': 11323, 'missratenen': 11324, 'pc': 11325, 'hocken': 11326, 'schluepper': 11327, 'termine': 11328, 'ersatzschluepper': 11329, 'heilsbringer': 11330, 'adolf': 11331, 'harem': 11332, 'hermine': 11333, 'speckfresse': 11334, 'uhhh': 11335, 'schandal': 11336, 'drang': 11337, 'bismarckstrasse': 11338, 'wattenscheid': 11339, 'durchsuchten': 11340, 'mehrereschraenke': 11341, 'klautenschmuck': 11342, 'polizeispo': 11343, 'geschissenen': 11344, 'unterhosen': 11345, 'bananen': 11346, 'holster': 11347, 'sprint': 11348, 'weglaufen': 11349, 'neuezeichen': 11350, '2204': 11351, 'kalifat': 11352, 'reingeschissen': 11353, 'raeaechte': 11354, 'jahresstatistik': 11355, 'delikten': 11356, 'reingerechnet': 11357, 'missionarin': 11358, 'polkappe': 11359, 'antarktischen': 11360, 'eises': 11361, 'bloedfisch': 11362, 'trabi': 11363, 'mitfaeh': 11364, 'saechsisch': 11365, 'wers': 11366, 'haendler': 11367, 'schaffe': 11368, 'linksversifften': 11369, 'asylschmarotzer': 11370, 'totfahrer': 11371, 'buergermeisterin': 11372, 'weberlein': 11373, 'bubi': 11374, 'besinnlichkeit': 11375, 'wischlappen': 11376, 'abgreifen': 11377, 'samstagabend': 11378, 'ozean': 11379, 'poetten': 11380, 'teich': 11381, 'unterbelichtet': 11382, 'statistikfehler': 11383, 'arbeitslosenzahlen': 11384, 'rechenfehler': 11385, 'datenueberpruefung': 11386, 'naeheres': 11387, 'herausgefunden': 11388, 'stecher': 11389, 'strassenrand': 11390, 'lindenberg': 11391, 'sattelschleppern': 11392, 'saufkopp': 11393, 'schoe': 11394, 'overcrowding': 11395, 'planetenklima': 11396, 'overcrowdete': 11397, 'begruesse': 11398, 'schnablg': 11399, 'tagesanzeiger': 11400, 'rationalen': 11401, 'argumenten': 11402, 'utopikern': 11403, 'beizukommen': 11404, 'alexand22627607': 11405, 'stalin': 11406, 'bestens': 11407, 'lokishaustier': 11408, 'gesunder': 11409, 'menschenverstand': 11410, 'krankenkassewebung': 11411, 'krankenkassen': 11412, 'schamlos': 11413, 'verdienst': 11414, 'allargentuma': 11415, 'nzzas': 11416, 'hinzuzufuegen': 11417, 'schrecken': 11418, 'autobahn': 11419, 'nahkaempfer': 11420, 'raeaeaechts': 11421, 'frisoer': 11422, 'topfschnitt': 11423, 'taeters': 11424, 'gefickifickit': 11425, 'homevideo': 11426, 'ziegenfell': 11427, 'typis': 11428, 'mac': 11429, 'igfrass': 11430, 'wegwerfwindeln': 11431, 'rumschwaetzen': 11432, 'tempokontrolle': 11433, 'schwyzer': 11434, 'brette': 11435, '176': 11436, 'zuercherland': 11437, 'lz': 11438, 'sp': 11439, 'ahv': 11440, 'fabiokunz21': 11441, 'ceo': 11442, 'ch': 11443, 'gelacht': 11444, 'juristen': 11445, 'gesundheitskosten': 11446, 'respektable': 11447, 'wahrheiten': 11448, 'unterstuetze': 11449, 'zurueckzutreten': 11450, 'klimahysteriker': 11451, 'lest': 11452, 'vm': 11453, 'getto': 11454, 'bluster': 11455, 'acdc': 11456, 'rammstein': 11457, 'wiedermal': 11458, 'klimafreundlichen': 11459, 'natuerlichen': 11460, 'pfaffen': 11461, 'grossveranstaltungen': 11462, 'muselss': 11463, 'groessen': 11464, 'heut': 11465, 'lebensbereiche': 11466, 'juckt': 11467, 'goldgraeber': 11468, 'dumpfbacken': 11469, 'diktaturen': 11470, 'schwaerzer': 11471, 'umweltbewusste': 11472, 'jupigesellschaft': 11473, 'wirklichem': 11474, 'umweltbewusstsein': 11475, 'differenz': 11476, 'zwischen': 11477, 'bekloppter': 11478, 'schiesse': 11479, 'jungschen': 11480, 'verbloeden': 11481, 'gotteskrieger': 11482, 'pluendern': 11483, 'vollversorgung': 11484, 'abu': 11485, 'hoehststrafe': 11486, 'fraglich': 11487, 'linksgruenengutmenschenpolitiker': 11488, 'ersaufen': 11489, 'normalo': 11490, 'herkommt': 11491, 'grau': 11492, 'mithilfe': 11493, 'bevormunderin': 11494, 'euzi': 11495, 'bumerang': 11496, 'haufenweise': 11497, 'stimmzettel': 11498, 'vorzugsstimmen': 11499, 'linksmedien': 11500, 'boehmermanns': 11501, 'weissglut': 11502, 'kommissionspraesidenten': 11503, 'fruehsexualisierungs': 11504, 'phantasien': 11505, 'sturm': 11506, 'eilungs': 11507, 'garnie': 11508, 'fremdenhass': 11509, 'anhaengern': 11510, 'selbsterhaltungs': 11511, 'ueberlebenswille': 11512, 'traumatischer': 11513, 'durchgreifen': 11514, 'arzberg': 11515, 'beobachtungsgabe': 11516, 'wimmelt': 11517, 'uniformie': 11518, 'neonazis': 11519, 'froehlich': 11520, 'parks': 11521, 'herumlunge': 11522, 'geisteszustand': 11523, 'ueberpruefen': 11524, 'prozessfaehig': 11525, 'lacht': 11526, 'faschos': 11527, 'frohepfingsten': 11528, 'alkoholische': 11529, 'melissengeist': 11530, 'blutbahn': 11531, 'kenntnisse': 11532, 'nachhilfe': 11533, 'erasmusstiftung': 11534, 'erwaegen': 11535, 'spendenkasse': 11536, 'haushaltskasse': 11537, 'neid': 11538, 'intelligent': 11539, 'sympathisch': 11540, 'ausgang': 11541, 'pfleger': 11542, 'organisatorische': 11543, 'meisterleistung': 11544, 'ausrueckt': 11545, 'kulturmarxisten': 11546, 'medikamente': 11547, 'reinhoeren': 11548, 'unaussprechliche': 11549, 'betaetigungsfeld': 11550, 'reichenspo': 11551, 'toedlicher': 11552, 'stau': 11553, 'mount': 11554, 'everest': 11555, 'unaufhaltsamen': 11556, 'miasemper': 11557, 'waehlerinnen': 11558, 'hoeflichst': 11559, 'gebeten': 11560, 'stillzulegen': 11561, 'veraeussern': 11562, 'energieversorger': 11563, 'postenschacher': 11564, 'wahlverlierer': 11565, 'poestchen': 11566, 'jaja': 11567, 'verhungere': 11568, 'kasperle': 11569, 'hochsaison': 11570, 'buergerpark': 11571, 'rieben': 11572, 'totgemacht': 11573, 'unbeschwe': 11574, 'dealen': 11575, 'gerd': 11576, 'ittner': 11577, 'axel': 11578, 'schlimper': 11579, 'linksradikalezensur': 11580, 'loeschungswelle': 11581, 'redakteurin': 11582, 'agen': 11583, 'bruellaffen': 11584, 'negroiden': 11585, 'pendelschlag': 11586, 'reichsdeutschen': 11587, '344': 11588, 'treffen1': 11589, 'verstrahlt': 11590, 'mediziners': 11591, 'eintritt': 11592, 'denk': 11593, 'wahrhaftig': 11594, 'manch': 11595, 'transparente': 11596, 'beteue': 11597, 'ausfaellt': 11598, 'spahn': 11599, 'anhoeren': 11600, 'duemmsten': 11601, 'kaelber': 11602, 'metzger': 11603, 'bittere': 11604, 'blamabel': 11605, 'rissige': 11606, 'eingebuerge': 11607, 'beleibt': 11608, 'rechtschaffenen': 11609, 'ernaeh': 11610, 'graust': 11611, 'sklavenhaltergesellschaft': 11612, 'goldstueckchen': 11613, 'gelobten': 11614, 'friedensreligion': 11615, 'gefaeh': 11616, 'monokultur': 11617, 'stroh': 11618, 'rumsuelzen': 11619, 'russischen': 11620, 'verweht': 11621, 'wahrheitsverdrehung': 11622, 'pfui': 11623, 'politzirkus': 11624, 'profiteuren': 11625, 'allemal': 11626, 'raushaut': 11627, 'versagern': 11628, 'schwaetzen': 11629, 'ueberlegte': 11630, 'verifizie': 11631, 'versi': 11632, 'orwell': 11633, 'komische': 11634, 'luegenpropaganda': 11635, 'kotzkotz': 11636, 'schwebten': 11637, 'nordlandtv': 11638, 'survival': 11639, 'wolfszeit': 11640, 'wissenschaftsbetrueger': 11641, 'rausschmeissen': 11642, 'mauna': 11643, 'loa': 11644, 'amthor': 11645, 'kompl': 11646, 'verschwoerungspraktiken': 11647, '051': 11648, 'migrationist': 11649, 'unruhe': 11650, 'niedergehobelte': 11651, 'lahmgelegte': 11652, 'tuerkischen': 11653, 'libanesischer': 11654, 'verdrecken': 11655, 'rupp': 11656, 'versiche': 11657, 'eingehalten': 11658, 'moralischem': 11659, 'rang': 11660, 'froemmigkeit': 11661, '20th': 11662, 'century': 11663, 'world': 11664, 'please': 11665, 'write': 11666, 'truth': 11667, 'cankaoxiaoxicp': 11668, 'washingtonpost': 11669, 'timesofindia': 11670, 'dailymailuk': 11671, 'yomiuri': 11672, 'gruenenmafia': 11673, 'zwangseinwanderung': 11674, 'thomashitz': 11675, 'redet': 11676, 'blinder': 11677, 'fussballverstand': 11678, 'schneider': 11679, 'abstiegsgaranten': 11680, 'urheberrecht': 11681, 'spiegelonlineregierungstreuer': 11682, 'zwangsfinanzierer': 11683, 'einzuhalten': 11684, 'unkonsumierbar': 11685, 'serviler': 11686, 'uebelsten': 11687, 'schweswig': 11688, 'solide': 11689, 'sozipa': 11690, 'eikollege': 11691, 'goutieren': 11692, 'morbus': 11693, 'unterdrueckt': 11694, 'totschlagen': 11695, 'besingen': 11696, 'asly': 11697, 'sachsenwahl': 11698, 'sozilette': 11699, 'sehnlichst': 11700, 'meineidverein': 11701, 'ekelerregend': 11702, 'kinderficker': 11703, 'uebles': 11704, 'hinterhofmoscheen': 11705, 'integrationspolitische': 11706, 'schrittweise': 11707, 'verdraengung': 11708, 'gedicht': 11709, 'schmaehgedicht': 11710, 'unterlassungsklage': 11711, 'abgewiesen': 11712, 'blasphemie': 11713, 'reinkultur': 11714, 'plaedieren': 11715, 'sanctuary': 11716, 'cities': 11717, 'unterbringen': 11718, 'empoerend': 11719, 'verstoerende': 11720, 'dubliner': 11721, 'bergen': 11722, 'adha': 11723, 'lamm': 11724, 'durchschneiden': 11725, 'barbarei': 11726, 'gemetzels': 11727, 'fu': 11728, 'fruehester': 11729, 'steinzeit': 11730, 'integrieren': 11731, 'lueftung': 11732, 'stingt': 11733, 'kochtopf': 11734, 'abteilung': 11735, 'qualitaetskontrolle': 11736, 'shopkeeper': 11737, 'turkey': 11738, 'finds': 11739, 'husky': 11740, 'pup': 11741, 'hea': 11742, 'beat': 11743, 'manages': 11744, 'revive': 11745, 'him': 11746, 'denkweise': 11747, 'erziehung': 11748, 'selbstmordattentaten': 11749, 'jungfrauen': 11750, 'verheissen': 11751, 'stechender': 11752, 'abzielt': 11753, 'tierrechte': 11754, 'globalistischen': 11755, 'schwenken': 11756, 'naivitaet': 11757, 'ueberladen': 11758, 'begruesst': 11759, 'kuss': 11760, 'klugheit': 11761, 'torheit': 11762, 'teddybaer': 11763, 'teddy': 11764, 'great': 11765, 'business': 11766, 'europaweiten': 11767, 'buergerkrieg': 11768, 'szenario': 11769, 'folgendermassen': 11770, 'abspielen': 11771, 'metropolis': 11772, 'friedlich': 11773, 'sozialhilfetouristen': 11774, 'eingeflogen': 11775, 'zurueckgedraengt': 11776, 'knute': 11777, 'glaubensabfall': 11778, 'friedenreligion': 11779, 'sprengglaeubig': 11780, 'schweinefleischberuhigt': 11781, 'kulturbereicherung': 11782, 'nachdenklich': 11783, 'uebersteigen': 11784, 'fache': 11785, 'frauenfussball': 11786, 'frauenfussballwm': 11787, 'atomic': 11788, 'ranch': 11789, 'vorgeschobener': 11790, 'rational': 11791, 'zeig': 11792, 'molenbeek': 11793, 'kammer': 11794, 'nonsenseonfridays': 11795, 'quiz': 11796, 'steinigen': 11797, 'sonder': 11798, 'isis': 11799, 'finsteren': 11800, 'feinen': 11801, 'erfu': 11802, 'islamischer': 11803, 'religionsgeleh': 11804, 'propagie': 11805, 'islamsierung': 11806, 'voranzutreiben': 11807, 'durchschnittstemperatur': 11808, '70er': 11809, 'angestiegen': 11810, 'logik': 11811, 'menschgemachten': 11812, 'ehrenwe': 11813, 'ueberpa': 11814, 'eilich': 11815, 'unverzichtbar': 11816, 'amadeo': 11817, 'demolieren': 11818, 'miga': 11819, 'ionspakt': 11820, 'aufheben': 11821, 'solidarisch': 11822, 'wache': 11823, 'fair': 11824, 'dschihadisten': 11825, 'intakten': 11826, 'bombengue': 11827, 'damm': 11828, 'boomm': 11829, 'sprachunterricht': 11830, 'geworfenes': 11831, 'anfassen': 11832, 'nohandshake': 11833, 'goodboy': 11834, 'kinderarbeit': 11835, 'tausender': 11836, 'kinderseelen': 11837, 'tauentzien': 11838, 'kadewe': 11839, 'schwoer': 11840, 'islamkritik': 11841, 'kostenlose': 11842, 'gesundheitsumsorge': 11843, 'nichtohnemeinekopftuch': 11844, 'batterie': 11845, 'auszurauben': 11846, 'strukturelle': 11847, 'schutzbeduerftige': 11848, 'weitet': 11849, 'asylschutz': 11850, 'teint': 11851, 'bestialischem': 11852, 'zerstueckelt': 11853, 'ahnungslose': 11854, 'assistenten': 11855, 'warme': 11856, 'haeufigkeiten': 11857, 'santa': 11858, 'ana': 11859, 'windgeschwindigkeiten': 11860, 'feuerausbreitung': 11861, 'einhergehen': 11862, 'irgendeinen': 11863, 'stuss': 11864, 'sprachrohre': 11865, 'entstandene': 11866, 'schuldigkeit': 11867, 'ramazan': 11868, 'gruender': 11869, 'add': 11870, 'fb': 11871, 'ausgibt': 11872, 'thx': 11873, 'kirsche': 11874, 'ermittelte': 11875, 'wg': 11876, 'reigen': 11877, 'getanzt': 11878, 'entnehmen': 11879, 'sklave': 11880, 'verspottet': 11881, 'kollektives': 11882, 'selbe': 11883, 'alarm': 11884, 'eselstall': 11885, 'eselbesitzerin': 11886, 'stall': 11887, 'kabinett': 11888, 'strengere': 11889, 'abschieberegeln': 11890, 'dazugesper': 11891, 'todesstrafe': 11892, 'shariah': 11893, 'inklusion': 11894, 'goldenekamera': 11895, 'bibliothek': 11896, 'jura': 11897, 'misch': 11898, 'digger': 11899, 'gelabere': 11900, 'gesamtschul': 11901, 'abi': 11902, 'massives': 11903, 'runterfahren': 11904, 'schuldbildung': 11905, 'ermoeglichten': 11906, 'rettete': 11907, 'wiedergesehen': 11908, 'grenzoeffnung': 11909, 'kiosk': 11910, 'schokoriegel': 11911, 'loewen': 11912, 'kioskbesitzer': 11913, 'lion': 11914, 'clantreffen': 11915, 'superschlaue': 11916, 'arabischem': 11917, 'angehalten': 11918, 'alde': 11919, 'chanel': 11920, 'taschenspiegel': 11921, 'guckt': 11922, 'wusst': 11923, 'bischt': 11924, 'brudi': 11925, 'ganges': 11926, 'emilolsen22': 11927, 'its': 11928, 'b1nd': 11929, 'sozialdemokrat': 11930, 'tierschuetzer': 11931, 'fettes': 11932, 'sonstwohin': 11933, 'radfahren': 11934, 'menschengemachter': 11935, 'schrott': 11936, 'nominie': 11937, 'moslemische': 11938, 'applaudieren': 11939, 'schreiberling': 11940, 'einsetzt': 11941, 'verlangt': 11942, 'trottel': 11943, 'blockdiezeit': 11944, 'auserkorene': 11945, 'redewendungen': 11946, 'silvesterbilanz': 11947, 'karlsruhe': 11948, 'boeller': 11949, '3jaehrige': 11950, 'augenverletzung': 11951, 'beschiessen': 11952, 'feuerwerk': 11953, 'nazikeulenschwinger': 11954, 'geleitet': 11955, 'beitritt': 11956, 'regnerischen': 11957, 'gespielt': 11958, 'bejubeln': 11959, 'amberg': 11960, 'schissma': 11961, 'erschien': 11962, 'neuauflage': 11963, 'wanderschaft': 11964, 'gilad': 11965, 'atzmon': 11966, 'judenheit': 11967, 'angelangt': 11968, 'systemende': 11969, 'zion': 11970, 'faktenverbot': 11971, 'quaelen': 11972, 'massenvernichtungswaffe': 11973, 'inquisition': 11974, 'singulaere': 11975, 'schuster': 11976, 'tarnname': 11977, 'teppich': 11978, 'orb': 11979, 'mitnichten': 11980, 'protokoll': 11981, 'gastes': 11982, 'weltordnung': 11983, 'versenkt': 11984, 'geschuetzte': 11985, 'rastet': 11986, 'tobt': 11987, 'edda': 11988, 'bibel': 11989, 'loewe': 11990, 'traumhaft': 11991, '1001': 11992, 'waehrungs': 11993, '100e': 11994, 'vermoegens': 11995, 'siegten': 11996, 'auserwaehlten': 11997, 'leibhaftigen': 11998, 'aufgehetzten': 11999, 'voelkerscharen': 12000, 'fernsehspot': 12001, 'ehe': 12002, 'thale': 12003, 'gedenkveranstaltung': 12004, 'bretzenheim': 12005, 'aufruf': 12006, 'voigt': 12007, 'oy': 12008, 'vey': 12009, 'afdey': 12010, 'bekennt': 12011, 'fatalen': 12012, 'kolonialisierung': 12013, 'natsiepiefke': 12014, 'admin': 12015, 'fremdschaemen': 12016, 'jagd': 12017, 'razzia': 12018, 'eizentrale': 12019, 'wahrer': 12020, 'rechteste': 12021, 'radiospot': 12022, 'mikrowellenherd': 12023, 'vogt': 12024, 'rufmord': 12025, 'verleumdung': 12026, 'hess': 12027, 'kola': 12028, 'challenger': 12029, 'tschernobyl': 12030, 'reagan': 12031, 'gorbatschow': 12032, 'ussu': 12033, 'summit': 12034, 'mauerfall': 12035, '342': 12036, 'holocaustmahnmal': 12037, 'germanisch': 12038, 'ostara': 12039, 'erzikone': 12040, 'kulturchristlichen': 12041, 'lichterloh': 12042, 'sterbebett': 12043, 'sitzend': 12044, 'schallers': 12045, 'thingkreis': 12046, 'drehtag': 12047, 'volkskraft': 12048, 'migrations': 12049, 'essay': 12050, 'polemik': 12051, 'bataillon': 12052, 'konterrevolution': 12053, 'christ': 12054, 'kuemel': 12055, 'pastor': 12056, 'bode': 12057, 'nachlese': 12058, '049': 12059, 'vl': 12060, 'nerling': 12061, 'sturzbesoffen': 12062, 'volkskraftwoche': 12063, 'hiebe': 12064, 'wurm': 12065, 'made': 12066, 'feindlich': 12067, 'antideutsch': 12068, 'reiches': 12069, 'verpulve': 12070, 'willfaehrige': 12071, 'genossin': 12072, 'nomenklatura': 12073, 'eistipendium': 12074, 'schlange': 12075, 'nordseewellen': 12076, 'koeche': 12077, 'mainstreamig': 12078, 'kirchensteuerinkasso': 12079, 'vereinigungen': 12080, 'buergerlichen': 12081, 'antitotalitaeren': 12082, 'zurueckfinden': 12083, 'besen': 12084, 'geparkt': 12085, 'jean': 12086, 'claude': 12087, 'daemmerschoppen': 12088, 'haloween': 12089, 'bewegungsmittel': 12090, 'mariomayl': 12091, 'missbrauchssekte': 12092, 'gelistet': 12093, 'maechtigen': 12094, 'fluegelspieler': 12095, 'rechtsve': 12096, 'agsmagazi': 12097, 'dealt': 12098, 'ihm': 12099, 'angezuendet': 12100, 'jungs': 12101, 'gefuehl': 12102, 'matsche': 12103, 'patsche': 12104, 'ueckendorfer': 12105, 'geistigem': 12106, 'physischer': 12107, 'kotau': 12108, 'wiedergutmachung': 12109, 'marketinggag': 12110, 'masochistenmagazin': 12111, 'zuzutrauen': 12112, 'stasine': 12113, 'kausalitaet': 12114, 'kurier': 12115, 'nachtraeglich': 12116, 'badenwue': 12117, 'erstem': 12118, 'spurwechsel': 12119, 'strobl': 12120, 'retweet': 12121, 'jucken': 12122, 'prolet': 12123, 'schaerfer': 12124, 'lewandowski': 12125, 'coman': 12126, 'angetrunken': 12127, 'staatsbesuch': 12128, 'ruanda': 12129, 'dunkle': 12130, 'fackel': 12131, 'coole': 12132, 'erkaltet': 12133, 'todesanzeigen': 12134, 'kulturmuslime': 12135, 'dieschonlaengerhierlebenden': 12136, 'legitimieren': 12137, 'schwarzafrika': 12138, 'brauthandschuhe': 12139, 'blackfacing': 12140, 'reverse': 12141, 'mietpreise': 12142, 'stramm': 12143, 'ausgeblendet': 12144, 'enteignungsphantasien': 12145, 'sexy': 12146, 'weiland': 12147, 'wirschaffendasidiotin': 12148, 'eber': 12149, 'eberl': 12150, 'charakterloser': 12151, 'zwerg': 12152, 'became': 12153, 'player': 12154, 'goals': 12155, 'his': 12156, 'eredivisie': 12157, 'appearances': 12158, 'since': 12159, 'kazimierz': 12160, 'frankiewicz': 12161, '1969': 12162, 'lisafromm4': 12163, 'ungebeten': 12164, 'zureist': 12165, 'merkelgaeste': 12166, 'ausweg': 12167, 'verraet': 12168, 'intention': 12169, 'ausweichen': 12170, 'katholische': 12171, 'vereinigung': 12172, 'verabschieden': 12173, 'liberale': 12174, 'gefli': 12175, 'mantra': 12176, 'freiburger': 12177, 'thesen': 12178, 'feministischer': 12179, 'multikulturell': 12180, 'schulbesuch': 12181, 'restaurant': 12182, 'bedienen': 12183, 'diskriminieren': 12184, 'dosenbrot': 12185, 'doofer': 12186, 'muendigen': 12187, 'vernuenftig': 12188, 'einordnen': 12189, 'profit': 12190, 'hoffenden': 12191, 'hasserfuellt': 12192, 'fanatisch': 12193, 'vizepraesidentin': 12194, 'beispiele': 12195, 'spraesidium': 12196, 'gruenversifftes': 12197, 'wolkenkuckucksheim': 12198, 'wegdiskutieren': 12199, 'lesa': 12200, 'bevoelkerungsanteil': 12201, 'wahrhaben': 12202, 'angebliche': 12203, 'migrationsfreunde': 12204, 'ausgespielt': 12205, 'geldes': 12206, 'schwups': 12207, 'spontan': 12208, 'aushaengeschild': 12209, 'spendengierigen': 12210, 'dreist': 12211, 'unbefangen': 12212, 'richtern': 12213, 'gruenem': 12214, 'gesinnungsbonus': 12215, 'unverbindliche': 12216, 'verfassungsgerichtspraesident': 12217, 'programmdirigent': 12218, 'ads': 12219, 'witte': 12220, 'ungemach': 12221, 'raechts': 12222, 'vorsicht': 12223, 'kollege': 12224, 'schultag': 12225, 'outdoorgammeltag': 12226, 'ideologien': 12227, 'nachlaufen': 12228, 'lallt': 12229, 'junckers': 12230, 'ueberdosie': 12231, 'ergebnissen': 12232, 'gipfels': 12233, 'urheberrechtsreform': 12234, 'incl': 12235, 'icle13': 12236, 'copyrightdirective': 12237, 'statement': 12238, 'tamarawernli': 12239, '20cm': 12240, 'sprecherin': 12241, 'nancy': 12242, 'pelosi': 12243, 'impeachment': 12244, 'schnueffelei': 12245, 'ausreichendes': 12246, 'schueffelwei': 12247, 'melanie': 12248, 'amann': 12249, 'ikelbeschreibung': 12250, 'widerwo': 12251, 'onlinehaendler': 12252, 'weck': 12253, 'endlichmalmitprofis': 12254, 'rechtsschreibung': 12255, 'polnischer': 12256, 'groesstenteils': 12257, 'verfault': 12258, 'polnische': 12259, 'wojciech': 12260, 'roszkowski': 12261, 'buches': 12262, 'kulturgesellschaft': 12263, 'hochqualifizie': 12264, 'gebildete': 12265, 'migrationsproblem': 12266, 'auswanderungsland': 12267, 'oberstuebchen': 12268, 'vorgeht': 12269, 'klammheimlich': 12270, 'ablesen': 12271, 'entgleisung': 12272, 'klinische': 12273, 'dimensionen': 12274, 'respektloseste': 12275, 'feldrepo': 12276, 'wissend': 12277, 'interviewte': 12278, 'labbadia': 12279, 'merkelregierung': 12280, 'format': 12281, 'fachkompetent': 12282, 'fisch': 12283, 'fettklos': 12284, 'stufe': 12285, 'fplus': 12286, 'gewissensgruenden': 12287, 'anbieten': 12288, '1ma': 12289, 'inschiller': 12290, 'guidoreil': 12291, 'espendillerm': 12292, 'helmut': 12293, 'seifen': 12294, 'einschuechterungsversuche': 12295, 'krawallmachern': 12296, 'freier': 12297, 'dd2502': 12298, 'lebensfremden': 12299, 'satten': 12300, 'bornie': 12301, 'jogginghose': 12302, 'abenteuerlich': 12303, 'sicheres': 12304, 'herkunftsland': 12305, 'wunschgemaess': 12306, 'weitreichenden': 12307, 'schuettelfrost': 12308, 'verfassungsschutzpraesident': 12309, 'ethos': 12310, 'zeitgemaess': 12311, 'establishment': 12312, 'propagandamedien': 12313, 'diskurshoheit': 12314, 'befuerchtung': 12315, 'biedermeier': 12316, 'frauenrunde': 12317, 'paritaetsgesetz': 12318, 'verrate': 12319, 'amadeuantoniostiftung': 12320, 'hauptfunktion': 12321, 'braunfaerben': 12322, 'nonkonformismus': 12323, 'opfergruppe': 12324, 'erschlossen': 12325, 'aufarbeiter': 12326, 'koerpers': 12327, 'projekten': 12328, 'fluechtlingsmaedchen': 12329, 'meinungsunterdruecku': 12330, 'haldenwang': 12331, 'verfassungsfeinde': 12332, 'objektive': 12333, 'wohlfuehl': 12334, 'rausch': 12335, 'ueberlegenheit': 12336, 'verflogen': 12337, 'allgemeinheit': 12338, 'geleisteten': 12339, 'buergschaften': 12340, 'buergen': 12341, 'wohlfuehlmoment': 12342, 'gutbuerger': 12343, 'fluechtlingsbuergen': 12344, 'migrationsbericht': 12345, 'seehofers': 12346, 'eigenlob': 12347, 'unangebracht': 12348, 'verfassungsfeinden': 12349, 'diskreditieren': 12350, 'stickige': 12351, 'meinungsklima': 12352, 'summe': 12353, 'feigheit': 12354, 'vieler': 12355, 'einzelner': 12356, 'einzustehen': 12357, 'chefredakteur': 12358, 'werberat': 12359, 'schmalkalden': 12360, 'meiningen': 12361, 'sexistischer': 12362, 'landraetin': 12363, 'ruege': 12364, 'gravierende': 12365, 'fehleinschaetzung': 12366, 'stieg': 12367, 'gestaendnis': 12368, 'einzugestehen': 12369, 'cem': 12370, 'gequatsche': 12371, 'brandstiftende': 12372, 'kampfgegenrechts': 12373, 'linksterroristen': 12374, 'beschraenkten': 12375, 'hasskampagnen': 12376, 'aeussersten': 12377, 'mordanschlag': 12378, 'bta': 12379, 'angreifern': 12380, 'halbtot': 12381, 'ausserstande': 12382, 'feigen': 12383, 'mitlaeufer': 12384, 'muts': 12385, 'bedarf': 12386, 'polie': 12387, 'image': 12388, 'harmlose': 12389, 'unbequeme': 12390, 'mitmarschie': 12391, 'abstiegsangst': 12392, 'angehaengt': 12393, 'vermoegend': 12394, 'falsches': 12395, 'goldrichtig': 12396, 'vermutliche': 12397, 'kanzlerdarstellerin': 12398, 'unsaeglichen': 12399, 'radar': 12400, 'durchsegeln': 12401, 'aufklaerungsarbeit': 12402, 'ankunft': 12403, 'grundrecht': 12404, 'cdubpt18': 12405, 'delegie': 12406, 'abler': 12407, 'geplanten': 12408, 'cduvorsitz': 12409, 'oehme': 12410, 'weitaus': 12411, 'paralleljustiz': 12412, 'unverbindlich': 12413, 'merkeldiktatur': 12414, 'allerheiligsten': 12415, 'herumgefummelt': 12416, 'abgeschobene': 12417, 'zuwanderungs': 12418, 'front': 12419, 'gutachtens': 12420, 'machwerk': 12421, 'ausgesuchten': 12422, 'ueberliess': 12423, 'gefaelligkeitsgutachten': 12424, 'stigmatisierende': 12425, 'verfassungsrichter': 12426, 'israelitischen': 12427, 'kultusgemeinde': 12428, 'oberbayern': 12429, 'vorgeworfen': 12430, 'gedenken': 12431, 'gekue': 12432, 'auszeichnet': 12433, 'jury': 12434, 'ehrlichkeit': 12435, 'mordserie': 12436, 'migrationskrise': 12437, 'extreme': 12438, 'frauenfeindlichkeit': 12439, 'islamismus': 12440, 'benachteiligung': 12441, 'diskurses': 12442, 'insel': 12443, 'obergrenze': 12444, 'familienzusammenfuehrungen': 12445, 'festgesetzt': 12446, 'aufruhr': 12447, 'souveraene': 12448, 'unterzeichnung': 12449, 'rechtlich': 12450, 'absichtserklaerung': 12451, 'harmlos': 12452, 'zwingt': 12453, 'migrationspaktstoppen': 12454, 'studentin': 12455, 'gruppenvergewaltigung': 12456, 'starb': 12457, 'globus': 12458, 'erbost': 12459, 'strafrechts': 12460, 'ereignis': 12461, 'reflexhaften': 12462, 'verrohung': 12463, 'ltwhessen': 12464, 'ltwhe': 12465, 'ltwhe18': 12466, 'hessenwahl': 12467, 'stolzen': 12468, 'lehrstellen': 12469, 'bellvedaehr': 12470, 'hd': 12471, 'unfreiwillig': 12472, 'widerstandskaempfern': 12473, 'venezolaner': 12474, 'nebenwirkungen': 12475, 'prinz': 12476, 'human': 12477, 'golfstrompumpe': 12478, 'namens': 12479, 'menschenmassen': 12480, 'herren': 12481, 'sued': 12482, 'mitteleuropa': 12483, 'schaufelt': 12484, 'budgetkuerzungen': 12485, 'migrationsverbaende': 12486, 'haushaltskuerzungen': 12487, 'menschengemachten': 12488, 'streite': 12489, 'erwaermt': 12490, 'menschliche': 12491, 'arabisches': 12492, 'menschenrechtsverletzungen': 12493, 'dekret': 12494, 'samstag': 12495, 'beugen': 12496, 'demostenes': 12497, 'floros': 12498, 'geopolitischen': 12499, 'libyenkrise': 12500, 'verringern': 12501, 'erhebliche': 12502, 'unterbrechungen': 12503, 'verspielt': 12504, '2010': 12505, 'ratschlaegen': 12506, 'einwanderungskritischeren': 12507, 'jetzigen': 12508, 'sigmar': 12509, 'abbau': 12510, 'fauler': 12511, 'ausfallgefaehrdeter': 12512, 'bilanzen': 12513, 'sank': 12514, 'risiken': 12515, 'kunstprojekt': 12516, 'baeumen': 12517, 'europacupspiel': 12518, 'steindy': 12519, 'traditionsverein': 12520, 'rapid': 12521, 'teilnahme': 12522, 'europacup': 12523, 'symbol': 12524, 'abdankung': 12525, 'japanischen': 12526, 'kaisers': 12527, 'kinderleicht': 12528, 'beendigung': 12529, 'tenno': 12530, 'einheit': 12531, 'japans': 12532, 'wachstumsmarkt': 12533, 'eingebrochen': 12534, 'ernsten': 12535, 'problemen': 12536, 'mitbegruender': 12537, 'oskar': 12538, 'medienberichtes': 12539, 'beider': 12540, 'position': 12541, 'gespraechen': 12542, 'abzocke': 12543, 'poker': 12544, 'zapft': 12545, 'gemeinde': 12546, 'brunnsee': 12547, 'wildalpen': 12548, 'uoaei1': 12549, 'mittwoch': 12550, 'wasserschutz': 12551, 'einbringen': 12552, 'lisel': 12553, 'elmis': 12554, 'moinbrifn': 12555, 'kolumnist': 12556, 'elmar': 12557, 'hoerig': 12558, 'leviten': 12559, 'molotow': 12560, 'raet': 12561, 'finanzsenator': 12562, 'einwanderungspolitik': 12563, 'daenischen': 12564, 'armin': 12565, 'ganzseitigen': 12566, 'sonntagszeitung': 12567, 'gunsten': 12568, 'nordrhein': 12569, 'westfaelischen': 12570, 'jahrzehnten': 12571, 'laengerem': 12572, 'gemessenen': 12573, 'sommerpause': 12574, 'schuldenstreit': 12575, 'konflikt': 12576, 'eurokrise': 12577, 'staatsverschuldung': 12578, 'foermlichen': 12579, 'einleitung': 12580, 'politpegel': 12581, 'sonntagsfrage': 12582, 'insa': 12583, 'einverstanden': 12584, 'inhalte': 12585, 'washingtons': 12586, 'durchbrechen': 12587, 'staendigen': 12588, 'kriegsrausches': 12589, 'herausforderungen': 12590, 'beantwo': 12591, 'blockpa': 12592, 'nutzlos': 12593, 'brandenburgtrend': 12594, 'infratest': 12595, 'dimap': 12596, 'rbb': 12597, 'vermeiden': 12598, 'stabilitaetsfragen': 12599, 'diplomat': 12600, 'ueberheblichkeit': 12601, 'sicherheitsschule': 12602, 'bundesheer': 12603, 'fasste': 12604, 'instandhaltung': 12605, 'bundeshandelsakademie': 12606, 'bestialisch': 12607, 'schaechtet': 12608, 'verzweifelter': 12609, '62': 12610, 'ramelow': 12611, 'ministerpraesidenten': 12612, 'zuwiderhandlung': 12613, 'kapitaenen': 12614, 'betreibern': 12615, 'blutet': 12616, 'wiedervereinigung': 12617, 'driften': 12618, 'einwohnerzahlen': 12619, 'auseinander': 12620, 'bevoelkerungszahl': 12621, 'riesige': 12622, 'maschine': 12623, 'zensurversuche': 12624, 'ikel13demo': 12625, 'thematik': 12626, 'anschaulich': 12627, 'fraktionen': 12628, 'anmassender': 12629, 'unterscheidung': 12630, 'offenbaren': 12631, 'wahlbuerger': 12632, 'unwilligkeit': 12633, 'sueden': 12634, 'braeuchten': 12635, 'abschliessen': 12636, 'vielfliegerin': 12637, 'abfeiern': 12638, 'gendern': 12639, 'tickt': 12640, 'schleichenden': 12641, 'einwanderergruppen': 12642, 'spezifisches': 12643, 'steuerungsinstrument': 12644, 'unterdrueckung': 12645, 'unliebsamer': 12646, 'zusammenrottung': 12647, 'unwoe': 12648, 'launch': 12649, 'red': 12650, 'dead': 12651, 'redemption': 12652, 'premiere': 12653, 'bestelle': 12654, 'lade': 12655, 'vorab': 12656, 'zwangsheirat': 12657, 'unkultur': 12658, 'linksverblendete': 12659, 'klatscher': 12660, 'inszenieren': 12661, 'riebene': 12662, 'machetenaehnliche': 12663, 'schwingender': 12664, 'elfeinhalb': 12665, 'ungerecht': 12666, 'empathie': 12667, 'camperin': 12668, 'gesundheitswesen': 12669, 'suedtiroler': 12670, 'saegt': 12671, 'ethnischen': 12672, 'proporz': 12673, 'krankenhauszimmer': 12674, 'govba': 12675, 'svp': 12676, 'bozen': 12677, 'muehsam': 12678, 'errungenen': 12679, 'volksgruppenausgleich': 12680, 'volksbegehren': 12681, 'medienzentrum': 12682, 'landtagsabgeordneten': 12683, 'raepple': 12684, 'putins': 12685, 'italienbesuch': 12686, 'bilaterale': 12687, 'kuendigte': 12688, 'ausgeliefe': 12689, 'unions': 12690, 'minderheitsregierung': 12691, 'anmarsch': 12692, 'oestlichen': 12693, 'dem': 12694, 'parallelwaehrung': 12695, 'defizitverfahren': 12696, 'empfehlung': 12697, 'unwahrscheinlich': 12698, 'koenig': 12699, 'abdullah': 12700, 'saudia': 12701, 'anashir': 12702, 'arabiens': 12703, 'bekanntgab': 12704, 'sezession': 12705, 'voxadpocalpyse': 12706, 'borderless': 12707, 'opus': 12708, 'magnum': 12709, 'ferienvermietung': 12710, 'immobilienpreise': 12711, 'kike': 12712, 'sarasola': 12713, 'olympia': 12714, 'reiter': 12715, 'narr': 12716, 'weswegen': 12717, 'tierkopf': 12718, 'hotelkette': 12719, 'room': 12720, 'mate': 12721, 'verewigt': 12722, 'salz': 12723, 'achill': 12724, 'patras': 12725, 'mehren': 12726, 'aufzugeben': 12727, 'schockierende': 12728, 'eingegriffen': 12729, 'gratulie': 12730, 'ratschlag': 12731, 'migrantenrettung': 12732, 'dekrets': 12733, 'hilfsorganisationen': 12734, 'tendieren': 12735, 'rezession': 12736, 'beunruhigend': 12737, 'vfutscher': 12738, 'nc': 12739, 'mietendeckel': 12740, 'bundesfinanzminister': 12741, 'verstaendnis': 12742, 'einzufrieren': 12743, 'leuchtet': 12744, 'laedt': 12745, 'kasatschok': 12746, 'kalinka': 12747, 'versaubeutelt': 12748, 'gekettet': 12749, 'rebellion': 12750, 'ermordeter': 12751, 'airpo': 12752, 'kuala': 12753, 'lumpur': 12754, 'craig': 12755, 'halbbruder': 12756, 'nordkoreanischen': 12757, 'diktators': 12758, 'comet': 12759, 'photo': 12760, 'jaehrlichen': 12761, 'fraustreik': 12762, 'hochgebildete': 12763, 'ueberzeugten': 12764, 'zeitgenossen': 12765, 'pflegte': 12766, 'grossmutter': 12767, 'selig': 12768, 'festzustellen': 12769, 'strategisch': 12770, 'hebel': 12771, 'handelsverhandlungen': 12772, 'gaengiges': 12773, 'zahlungsmittel': 12774, 'optionen': 12775, 'zahlung': 12776, 'token': 12777, 'gleichstellungsbeauftragte': 12778, 'paschke': 12779, 'kratzin': 12780, 'vorstoss': 12781, 'gendergerechter': 12782, 'draengt': 12783, 'zentralbank': 12784, 'leitzinsen': 12785, 'drohschreiben': 12786, 'aufgetaucht': 12787, 'vergeltung': 12788, 'angedroht': 12789, 'asylbedingungen': 12790, 'allahs': 12791, 'ueberschuettet': 12792, 'eurorechte': 12793, '27jaehriger': 12794, 'nachmittag': 12795, 'nigrischen': 12796, 'kurzarbeit': 12797, 'arbeitsmarkt': 12798, 'truebt': 12799, 'klimadiktatur': 12800, 'transformation': 12801, 'ii': 12802, 'te': 12803, 'vorgaenge': 12804, 'recherchie': 12805, 'besorgnis': 12806, 'aufgezeigt': 12807, 'groesseren': 12808, 'bruesseler': 12809, 'eurokraten': 12810, 'angriffs': 12811, 'uss': 12812, 'libe': 12813, 'diktator': 12814, 'machtuebernahme': 12815, 'premierministers': 12816, 'kriegsverbrechens': 12817, 'bedrohungen': 12818, 'eskalationen': 12819, 'naeckig': 12820, 'schuf': 12821, 'herausgebers': 12822, 'stigmata': 12823, 'eiengefuege': 12824, 'vollzieht': 12825, 'fragolin': 12826, 'militaergymnasium': 12827, 'uebergangs': 12828, 'eidigungsexpe': 12829, 'geschasst': 12830, 'aufgeschoben': 12831, 'meinungskundegebung': 12832, 'wahlpoebels': 12833, 'weltpolitik': 12834, 'abkehr': 12835, 'konfrontation': 12836, 'egoistischen': 12837, 'alleingaenge': 12838, 'elefantenhochzeit': 12839, 'autobauern': 12840, 'fiat': 12841, 'chrysler': 12842, 'renault': 12843, 'streben': 12844, 'muehsamer': 12845, 'festung': 12846, 'schnellere': 12847, 'luxemburg': 12848, 'ankuendigungen': 12849, '2070': 12850, 'buntling': 12851, 'wohnhaft': 12852, 'verkleidet': 12853, 'indigener': 12854, 'ausgestorbenen': 12855, 'loyalitaetsprobleme': 12856, 'gottes': 12857, 'scharlatane': 12858, 'franziskus': 12859, 'schrittlich': 12860, 'bewunde': 12861, 'hochreligioeser': 12862, 'grenzwe': 12863, 'nervensaege': 12864, 'wauw': 12865, 'meets': 12866, 'kingside': 12867, 'wilpec': 12868, 'clanmitglieder': 12869, 'verhaften': 12870, 'minderbemittelt': 12871, 'instrument': 12872, 'vernichtungstweets': 12873, 'muelheim': 12874, 'schlank': 12875, 'huendin': 12876, 'hellbraunes': 12877, 'fell': 12878, 'orangene': 12879, 'halsband': 12880, 'schlossbruecke': 12881, 'rank': 12882, 'normaler': 12883, 'rausgeschmissen': 12884, 'arbeitslosenversicherung': 12885, 'schnallen': 12886, 'eingeschworen': 12887, 'schaftsabschwung': 12888, 'flixbus': 12889, 'beziehen': 12890, 'sozialleistungen': 12891, 'appellieren': 12892, 'jackpot': 12893, 'hochburg': 12894, 'linksfaschos': 12895, 'gescreenshotteten': 12896, 'schenken': 12897, 'flutung': 12898, 'totgelacht': 12899, 'lab': 12900, 'molekuelen': 12901, '4g': 12902, 'microwellenstrahlung': 12903, 'erwaermen': 12904, 'energieumwandlungsgesetz': 12905, 'baltimore': 12906, '3x': 12907, 'praeger': 12908, 'shitholetowns': 12909, 'diktatorenunterstuetzer': 12910, 'meeresboden': 12911, 'befoerde': 12912, 'verstaendliches': 12913, 'praeventivverhalten': 12914, 'genehmigen': 12915, 'netto': 12916, 'brutto': 12917, 'lebenskosten': 12918, 'annaehernd': 12919, 'kalkulie': 12920, 'aachenerve': 12921, 'sinngemaesse': 12922, 'ausage': 12923, 'madmimi': 12924, 'betrachtet': 12925, 'dramamaessig': 12926, 'uellen': 12927, 'ankuendigen': 12928, 'selbstmitleid': 12929, 'moralisieren': 12930, 'sandy82609625': 12931, 'suzydymna': 12932, 'imad': 12933, 'karim': 12934, 'gemeinsamkeiten': 12935, 'hineingeboren': 12936, 'beitreten': 12937, 'austreten': 12938, 'austritt': 12939, 'apostasie': 12940, 'korans': 12941, 'journal': 12942, 'microsoft': 12943, 'flight': 12944, 'simulator': 12945, 'e3': 12946, 'announce': 12947, 'psychische': 12948, 'stoerung': 12949, 'weisser': 12950, 'hassverbrechen': 12951, 'umgefahren': 12952, 'rothschild': 12953, 'weltregierung': 12954, 'gesinnungswissenschaft': 12955, 'gesinnungspolitik': 12956, 'navy': 12957, 'ernstzunehmende': 12958, 'sichtungen': 12959, 'untersuchungen': 12960, 'militaers': 12961, '73': 12962, 'versteckten': 12963, 'luzifer': 12964, 'alien': 12965, 'gestaltung': 12966, 'offenbarung': 12967, 'bevoelkerungsaustausches': 12968, 'mahnwachen': 12969, 'unsterblich': 12970, 'unvergessen': 12971, 'geheimaktion': 12972, 'megacrash': 12973, 'thanks': 12974, 'helping': 12975, 'bison': 12976, 'millionenstaedte': 12977, 'abdullahzentrum': 12978, 'saudiarabia': 12979, 'nachahmer': 12980, 'entstuende': 12981, 'taete': 12982, 'fact': 12983, 'latein': 12984, 'pizza': 12985, 'compressa': 12986, 'fischblog': 12987, 'forscherrobe': 12988, 'denniseckmeier': 12989, 'pfannkuchen': 12990, 'lokale': 12991, 'leitet': 12992, 'etymologisch': 12993, 'restdeutschland': 12994, 'fuellung': 12995, 'vielgeruehmten': 12996, 'fruchtbarkeit': 12997, 'notaufnahme': 12998, 'iranischen': 12999, 'jawan': 13000, 'revolutionsgarden': 13001, 'iranreise': 13002, 'karikatur': 13003, 'fusionsverhandlungen': 13004, 'ineinsnundiehaende': 13005, '10k': 13006, 'wohlwollend': 13007, 'einraeumt': 13008, 'gutsein': 13009, 'kommunikation2019': 13010, 'geliked': 13011, 'weitesten': 13012, 'gelten': 13013, 'urlaubern': 13014, 'konversion': 13015, 'therapien': 13016, 'aluhuete': 13017, 'flacherdler': 13018, 'lieblingsfeind': 13019, 'schuettelt': 13020, 'dissonanz': 13021, 'aktueller': 13022, 'erneuerung': 13023, 'orientie': 13024, 'aufstellt': 13025, 'warnhinweis': 13026, 'zeitgleich': 13027, 'karrenbauers': 13028, 'neuland': 13029, 'sgd': 13030, 'schriftzuege': 13031, 'acab': 13032, 'verzie': 13033, 'nachnamen': 13034, 'bastarde': 13035, 'verbal': 13036, 'eingepruegelt': 13037, 'rassismusvorwurf': 13038, 'verstoerend': 13039, 'rassismuskeule': 13040, 'glueckliche': 13041, 'eingetuppe': 13042, 'huerde': 13043, 'angekommen': 13044, 'zurueckgetreten': 13045, 'kipping': 13046, 'hollsteinm': 13047, 'arbeiterkinder': 13048, 'akademikern': 13049, 'kevins': 13050, 'bundeskanzlern': 13051, 'fuehrungsdiskussion': 13052, 'penis': 13053, 'urploetzlich': 13054, 'nuechternheit': 13055, 'mariamlau1': 13056, 'analytisch': 13057, 'tamtam': 13058, 'finstersten': 13059, 'zaehlen': 13060, 'orient': 13061, 'gegenaufklaerung': 13062, 'ressentiments': 13063, 'nahostwissenschaftler': 13064, 'starkmachen': 13065, 'ste': 13066, 'verwenden': 13067, 'eiprogramm': 13068, 'witter': 13069, 'schaum': 13070, 'rosie': 13071, 'fesche': 13072, 'schockstarre': 13073, 'beruhigt': 13074, 'wanderlieder': 13075, 'kritzelmonster': 13076, 'robuste': 13077, 'daenischem': 13078, 'wae': 13079, 'moderne': 13080, 'errungenschaft': 13081, 'leo': 13082, 'varadkar': 13083, 'trumps': 13084, 'absurden': 13085, 'irische': 13086, 'landgrenze': 13087, 'anhoe': 13088, 'axt': 13089, 'befluegelt': 13090, 'strengen': 13091, 'halbie': 13092, 'gegensatz': 13093, 'gymnastikwettkaempfen': 13094, 'trainers': 13095, 'gaht': 13096, 'bewusste': 13097, 'vergammelt': 13098, 'home': 13099, 'hoelle': 13100, 'mielke': 13101, 'bitterlich': 13102, 'kapitalisten': 13103, 'alexa': 13104, 'erkanbald': 13105, 'graphen': 13106, 'maennlichen': 13107, 'weiblichen': 13108, 'gesundheitssystem': 13109, 'aussteigen': 13110, 'gegenueberliegenden': 13111, 'eingeklemmt': 13112, 'weiterfahren': 13113, 'taschengelderhoehung': 13114, 'amerikaner': 13115, 'laestern': 13116, 'kommunistischen': 13117, 'freiheitsaktivisten': 13118, 'himmlischen': 13119, 'praegendsten': 13120, 'zentraler': 13121, 'wagne': 13122, 'exte': 13123, 'zurueckzulassen': 13124, 'belassen': 13125, 'senatorin': 13126, 'landesbeamte': 13127, 'weisungsgemaess': 13128, 'durchfuehren': 13129, 'strafanzeigen': 13130, 'hausfriedensbruchs': 13131, 'innensenator': 13132, 'hebt': 13133, 'linus': 13134, 'foerster': 13135, 'inhalten': 13136, 'kompetenz': 13137, 'lesenswer': 13138, 'stummen': 13139, 'aufsteiger': 13140, 'erfinder': 13141, 'kleinscheiss': 13142, '531': 13143, 'genehmigungen': 13144, 'umweltgutachten': 13145, 'vorlegen': 13146, 'wuetende': 13147, 'buergerinitiativen': 13148, 'besaenftigen': 13149, 'verkehrsprobleme': 13150, 'reinpassen': 13151, 'schienen': 13152, 'zufolge': 13153, 'geltung': 13154, 'verschaffen': 13155, 'asylpraxis': 13156, 'durchhaltbar': 13157, 'verdoppelung': 13158, 'handelsarithmetik': 13159, 'beguenstigt': 13160, 'indische': 13161, 'kaushik': 13162, 'verhaengung': 13163, 'zoellen': 13164, 'aufrechterhalten': 13165, 'unternehmerverband': 13166, 'nachlassende': 13167, 'verband': 13168, 'familienunternehmer': 13169, 'kalte': 13170, 'krieger': 13171, 'pullach': 13172, 'group': 13173, 'aerge': 13174, 'ricks': 13175, 'konkurrenten': 13176, 'kybernetisierung': 13177, 'defense': 13178, 'advanced': 13179, 'research': 13180, 'energiedichte': 13181, 'irina': 13182, 'slav': 13183, 'aufwae': 13184, 'swelle': 13185, 'kursziel': 13186, 'unze': 13187, 'beschleunigungsphase': 13188, 'groesster': 13189, 'minenaktien': 13190, 'chemischer': 13191, 'keule': 13192, 'montgomery': 13193, 'chemischen': 13194, 'eilter': 13195, 'lohnabhaengige': 13196, 'schonlaengerhierlebende': 13197, 'waehlermilieu': 13198, 'anbiedern': 13199, 'ueberschriften': 13200, 'nah': 13201, 'ohr': 13202, 'leise': 13203, 'knopp': 13204, 'buchreihe': 13205, 'pussy': 13206, 'vieprg': 13207, 'personaldebatte': 13208, 'jahreszeit': 13209, 'taetowierungen': 13210, 'zufrieden': 13211, 'hilferuf': 13212, 'kreuzfah': 13213, 'venedig': 13214, 'ams': 13215, 'keines': 13216, 'eivorsitzender': 13217, 'ueberbewe': 13218, 'flog': 13219, 'denunziations': 13220, 'reconquista': 13221, 'ermordeten': 13222, 'identitaetspolitik': 13223, 'opfergruppen': 13224, 'konstituieren': 13225, 'durchschnittliche': 13226, 'biografie': 13227, 'djvde': 13228, 'dd1502': 13229, 'symphatisanten': 13230, 'linksmobs': 13231, 'kamera': 13232, 'foerderknete': 13233, 'kuchen': 13234, 'kampfes': 13235, 'raeaeaechtz': 13236, 'abzubekommen': 13237, 'vatikanstaedtischer': 13238, 'taetigkeit': 13239, 'game': 13240, 'thrones': 13241, 'zuende': 13242, 'geschaut': 13243, 'spoiler': 13244, 'drachenfeuer': 13245, 'einschaetzung': 13246, 'pruefen': 13247, 'juengst': 13248, 'suse1603': 13249, 'emmanuelmacron': 13250, 'aussprechen': 13251, 'dauerhetze': 13252, 'lunge': 13253, 'mitternacht': 13254, 'fielmann': 13255, 'blogger': 13256, 'buerste': 13257, 'scharr': 13258, 'schuehchen': 13259, 'restlichen': 13260, 'jaehrchen': 13261, 'hintergrundrauschen': 13262, 'pravda': 13263, 'zementie': 13264, 'umkehrung': 13265, 'putsch': 13266, 'vereinten': 13267, 'koenigreich': 13268, 'risse': 13269, 'anglo': 13270, 'sicherstellen': 13271, 'vergangenem': 13272, 'internetseite': 13273, 'flughafenchef': 13274, 'schaedlicher': 13275, 'nuernberger': 13276, 'flughafens': 13277, 'hupe': 13278, 'klimaschaedlicher': 13279, 'abwegig': 13280, 'ludwig': 13281, 'ball': 13282, 'koste': 13283, 'keszler': 13284, 'crew': 13285, 'from': 13286, 'veranstalter': 13287, 'kostenfalle': 13288, 'eignungstest': 13289, 'automatisie': 13290, 'geldanlagen': 13291, 'privatanleger': 13292, 'erschuetternden': 13293, 'anleger': 13294, 'sicherste': 13295, 'massstab': 13296, 'aufgeregte': 13297, 'socialmedia': 13298, 'billa': 13299, 'schokoladenkaeufe': 13300, 'tafeln': 13301, '2005': 13302, 'abgebissen': 13303, 'charisma': 13304, 'einbahnstrassenschild': 13305, 'verfuegt': 13306, 'naturgemaess': 13307, 'potential': 13308, 'talentie': 13309, 'nachwuchspolitiker': 13310, 'aelteste': 13311, 'buchhandlung': 13312, 'carolus': 13313, 'branchenumbruch': 13314, 'verhaengnis': 13315, 'schalldichten': 13316, 'blaue': 13317, 'uebergangsregierung': 13318, 'komentator': 13319, 'beckerrainald': 13320, 'melnen': 13321, 'eispende': 13322, 'steuerlich': 13323, 'fravie': 13324, 'diepa': 13325, 'europawahlen': 13326, 'auswendig': 13327, 'strassenbahnkorso': 13328, 'kursie': 13329, 'mitglieds': 13330, 'inhalt': 13331, 'wahlschlappen': 13332, 'floskelbingo': 13333, 'spielka': 13334, 'wahlsonntag': 13335, 'europawahlen2019': 13336, 'bingo': 13337, 'bullshitbingo': 13338, 'wuesste': 13339, 'enttaeuschung': 13340, 'analysieren': 13341, 'linkshaendern': 13342, '69': 13343, 'absoluten': 13344, 'zulegen': 13345, 'gesamtelternversammlung': 13346, 'gefuehlte': 13347, 'treter': 13348, 'politikermeinen': 13349, 'unweiblichen': 13350, 'eigenschaften': 13351, 'friends': 13352, 'planeten': 13353, 'liebhabe': 13354, 'landroute': 13355, 'mfg': 13356, 'gebucht': 13357, 'ruecklaeufe': 13358, 'sozialdemokratischer': 13359, 'schauthin': 13360, 'sogenannte': 13361, 'zunahme': 13362, 'ausmachen': 13363, 'waehlergruppe': 13364, 'elend': 13365, 'bronzekurs': 13366, 'standardtaenze': 13367, 'foxtrott': 13368, 'haltungstwitter': 13369, 'populistischen': 13370, 'uefa': 13371, 'ekanon': 13372, 'werbekampagnen': 13373, 'armeniers': 13374, 'mkhitaryan': 13375, 'baku': 13376, 'inakzeptabel': 13377, 'fussballs': 13378, 'labour': 13379, 'hochverdient': 13380, 'kassette': 13381, 'kinderlachen': 13382, 'verstecken': 13383, 'beherrscht': 13384, 'popcorncontent': 13385, 'waesche': 13386, 'nuerburgring': 13387, '1976': 13388, 'reichsbruecke': 13389, 'donau': 13390, 'niki': 13391, 'laudas': 13392, 'dreifache': 13393, 'formel': 13394, 'kappe': 13395, 'kandidieren': 13396, 'gipfeltreffen': 13397, 'einschuechtern': 13398, 'oligarchennichte': 13399, 'schalten': 13400, 'zeilen': 13401, 'heinz': 13402, 'kompostieren': 13403, 'abhaengig': 13404, 'entlassung': 13405, 'verzug': 13406, 'televoting': 13407, 'durchschnittlich': 13408, 'jurys': 13409, '875': 13410, 'televoters': 13411, 'vergeben': 13412, 'zero': 13413, 'blondine': 13414, 'moepsen': 13415, 'elmilliarde': 13416, 'rumwedelt': 13417, 'allerjuengste': 13418, 'abschlachten': 13419, 'miit': 13420, 'gedemuetigtem': 13421, 'entsprechend': 13422, 'handzahmen': 13423, 'lief': 13424, 'recherchieren': 13425, 'leber': 13426, 'hohenstein': 13427, 'ueberschaubar': 13428, 'verletzungen': 13429, 'geglaubt': 13430, 'league': 13431, 'rausgekickt': 13432, 'toooooooooor': 13433, 'jaaaaaaaaaa': 13434, 'mainwasser': 13435, 'irgendwer': 13436, 'staendige': 13437, 'generalsekretaer': 13438, 'zuruecktreten': 13439, 'wehre': 13440, 'vizekanzlers': 13441, 'deute': 13442, 'zahlreich': 13443, 'kommentierung': 13444, 'regierungskrise': 13445, 'mischung': 13446, 'theaterkritik': 13447, 'burgtheater': 13448, 'musisches': 13449, 'poetisches': 13450, 'unernst': 13451, 'areal': 13452, 'rwe': 13453, 'abbrucharbeiter': 13454, 'manheim': 13455, 'beteiligt': 13456, 'grasser': 13457, 'fw': 13458, 'oedp': 13459, 'tierschutzpa': 13460, 'grumpy': 13461, 'cat': 13462, 'rausschmeissenund': 13463, 'anreisen': 13464, 'nk': 13465, 'irrwitzig': 13466, 'gleichermassen': 13467, 'dummschwaetzenden': 13468, '25jaehrigen': 13469, 'rumschlagen': 13470, 'trollen': 13471, 'beeindruckende': 13472, 'buehnenshow': 13473, 'geschickter': 13474, 'trockennebel': 13475, 'duell': 13476, 'kuschliger': 13477, 'parallel': 13478, 'wahlbenachrichtigung': 13479, 'wahlka': 13480, 'heller': 13481, '2mal': 13482, 'vietxl': 13483, 'treu': 13484, 'rassistenverein': 13485, 'ruehrend': 13486, 'strassenlaternen': 13487, 'ungefragt': 13488, 'lebensgrosse': 13489, 'passbilder': 13490, 'umgehangen': 13491, 'kondakov': 13492, 'europawahlkampf': 13493, 'rollenspielfreaks': 13494, 'naechtelang': 13495, 'boeswilliger': 13496, 'neoliberaler': 13497, 'geifernder': 13498, 'stalinist': 13499, 'panischer': 13500, 'oekojesus': 13501, 'scheisssaison': 13502, 'rausekeln': 13503, 'walen': 13504, 'notwendigkeit': 13505, 'geigenkonze': 13506, 'blauwale': 13507, 'buehne': 13508, 'verkacken': 13509, 'sgem05': 13510, 'schleyer': 13511, 'buback': 13512, 'rohwedder': 13513, 'herrhausen': 13514, 'stockt': 13515, 'atem': 13516, 'royalbaby': 13517, 'personenunabhaengigen': 13518, 'nachhaltigen': 13519, 'geographisch': 13520, 'gerechten': 13521, 'monarchenve': 13522, 'schlimmster': 13523, 'bandname': 13524, 'dezentraler': 13525, 'bahnanbindung': 13526, 'hundefreundliche': 13527, 'balkon': 13528, 'ggf': 13529, 'rumliegen': 13530, 'bonuspunkte': 13531, '4000': 13532, 'hehehe': 13533, 'plastiktueten': 13534, 'entwicklungslaender': 13535, 'uebersehe': 13536, 'staub': 13537, 'nuetzliche': 13538, 'schnuppern': 13539, 'ajax': 13540, 'amsterdam': 13541, 'ausspielen': 13542, 'euroleague': 13543, 'pott': 13544, 'unglaublichen': 13545, 'europatournee': 13546, 'sge': 13547, 'kassiererlosen': 13548, 'supermarktkassen': 13549, 'passend': 13550, 'roboter': 13551, 'pfennigmuenzen': 13552, 'rachen': 13553, 'boes': 13554, 'stellenausschreibung': 13555, 'digitaler': 13556, 'bewerbungsunterlagen': 13557, 'papierpost': 13558, 'gefuehlt': 13559, 'stockphoto': 13560, 'haeuserzeile': 13561, 'bebilde': 13562, 'luxussanie': 13563, 'eigentumswohnungen': 13564, 'rrg': 13565, 'parkgebuehren': 13566, 'einkommenssteuer': 13567, 'ungleich': 13568, 'verursachen': 13569, 'strassenabnutzung': 13570, 'ersatzteile': 13571, 'verbrauchsmaterial': 13572, 'a5': 13573, 'oberleitungslastwagen': 13574, 'werkhallen': 13575, 'kasernen': 13576, 'rp19': 13577, 'transparent': 13578, 'lobbyregister': 13579, 'eigenem': 13580, 'bekunden': 13581, 'droehnt': 13582, 'ykoenig': 13583, 'anschrie': 13584, 'beschimpfte': 13585, 'drohte': 13586, 'halbach': 13587, 'valerielesrayna': 13588, 'konkret': 13589, 'geboten': 13590, 'rechtswidrigen': 13591, 'abzuwenden': 13592, 'zweierleimass': 13593, 'update': 13594, 'beweismaterial': 13595, 'unzensie': 13596, 'ladenburger': 13597, 'mia': 13598, 'kandel': 13599, 'koenntn': 13600, 'urenkel': 13601, 'betrogen': 13602, 'bleibendes': 13603, 'vermaechtnis': 13604, 'armuts': 13605, 'steuerkasse': 13606, 'gezahlt': 13607, 'bexbach': 13608, 'pfingstwochenende': 13609, 'hintereinander': 13610, 'bahnreisende': 13611, 'belaestigen': 13612, 'kaeri91622010': 13613, 'lempathia': 13614, 'veranstaltet': 13615, 'einerseits': 13616, 'prochemnitz': 13617, 'absagen': 13618, 'wahltagistzahltag': 13619, 'jaehr': 13620, 'prenzlau': 13621, 'tschetschenen': 13622, 'wuergemale': 13623, 'zeuge': 13624, 'ausfindig': 13625, 'zivilcourage': 13626, 'schriftlich': 13627, 'akhbar': 13628, 'bekaempft': 13629, 'zensie': 13630, 'wahlplakat': 13631, 'mundtot': 13632, 'verbuenden': 13633, 'bereichteren': 13634, 'zugticket': 13635, 'widersetzt': 13636, 'renitent': 13637, 'anwesenden': 13638, 'bundespolizist': 13639, 'bahnmitarbeiter': 13640, 'staatlichen': 13641, 'erziehungsorgane': 13642, 'verschleierungsauftrag': 13643, 'kaserne': 13644, 'fahndung': 13645, 'polizeibeamtin': 13646, 'mitgefilmt': 13647, 'vergangene': 13648, 'antut': 13649, 'errichten': 13650, 'schwerstverletzt': 13651, 'notruf': 13652, 'ehrenamtlich': 13653, 'saubermachen': 13654, 'vogelmoerder': 13655, 'windrad': 13656, 'windenergie': 13657, 'verharmlost': 13658, 'wahlberechtigt': 13659, 'strafmuendig': 13660, 'szenen': 13661, 'jugendstrafrecht': 13662, 'befassen': 13663, 'anis': 13664, '8jaehriger': 13665, 'liegts': 13666, 'investigativjournalist': 13667, 'alkoholrausch': 13668, 'leistet': 13669, 'energien': 13670, 'metalle': 13671, 'vergiften': 13672, 'gewinnung': 13673, 'anlagen': 13674, 'tonne': 13675, 'seltene': 13676, 'umweltschaedlich': 13677, 'praktikabel': 13678, 'progressive': 13679, 'verbrennungsmotor': 13680, 'anrichten': 13681, 'verunglimpften': 13682, 'verdanken': 13683, 'boliden': 13684, 'durchdrehen': 13685, 'gabs': 13686, 'polizeimuenchen': 13687, 'showeinlage': 13688, 'ordnungswidrigkeiten': 13689, 'markuscan': 13690, 'luisamneubauer': 13691, '125': 13692, 'flugkilometer': 13693, 'permanente': 13694, 'urlaube': 13695, 'mysterioes': 13696, 'sanitaeter': 13697, 'terasse': 13698, 'nachtigall': 13699, 'ick': 13700, 'hoer': 13701, 'trappsen': 13702, 'tragoedie': 13703, 'definitiv': 13704, 'mutie': 13705, 'doktorwuerde': 13706, 'tatsachen': 13707, 'oberhaching': 13708, 'wirkende': 13709, 'vorhalt': 13710, 'mitarbeiterinnen': 13711, 'geschockten': 13712, 'kriseninterventionsteam': 13713, 'betreut': 13714, 'rauliche': 13715, 'oppositionellen': 13716, 'schlaegern': 13717, 'staatsantifa': 13718, 'zugaenglich': 13719, 'teilnehmern': 13720, 'spanferkel': 13721, 'protestgrillen': 13722, 'syriern': 13723, 'hellichten': 13724, 'guckte': 13725, 'zeigte': 13726, 'blutverschmie': 13727, 'disgusting': 13728, 'berechnung': 13729, 'still': 13730, 'auswuerfeln': 13731, 'amtierende': 13732, 'unvermeidlich': 13733, 'globalcompactmigration': 13734, 'idiotie': 13735, 'unterzeichnet': 13736, 'lakaien': 13737, 'ates': 13738, 'kurswende': 13739, 'ate': 13740, 'frauenrechtlerin': 13741, 'drohe': 13742, 'schwacher': 13743, 'schwaechelt': 13744, 'nennenswe': 13745, 'eurozone': 13746, 'deuten': 13747, 'konjunktursignale': 13748, 'niedrigere': 13749, 'geholfen': 13750, 'testosteron': 13751, 'luemmeln': 13752, 'isl': 13753, 'zentrums': 13754, 'organisieren': 13755, 'chillt': 13756, 'ayatollahs': 13757, 'fackeln': 13758, 'richterin': 13759, 'erweckt': 13760, 'rechtsprechung': 13761, 'wehrmachtshelm': 13762, 'unbefangenheit': 13763, 'schmierlappen': 13764, 'gedenkt': 13765, 'referenden': 13766, 'wahlpflicht': 13767, 'tschoeoeh': 13768, 'ger': 13769, 'aeaeh': 13770, 'dingensdah': 13771, 'zweifele': 13772, 'zahle': 13773, 'ui': 13774, 'ewie': 13775, 'oberkellner': 13776, 'durstig': 13777, 'kack': 13778, 'stelzen': 13779, 'trapattoni': 13780, 'allmachtsphantasien': 13781, 'italienischen': 13782, 'senil': 13783, 'relugion': 13784, 'taharrushgamea': 13785, 'genoetigt': 13786, 'stritten': 13787, 'impulse': 13788, 'emmanuel': 13789, 'rauens': 13790, 'nahost': 13791, 'geopolitisch': 13792, 'golfstaaten': 13793, 'gegenseitigen': 13794, 'gedankengang': 13795, 'marco': 13796, 'maier': 13797, 'henry': 13798, 'unionsfraktionschef': 13799, 'gelte': 13800, 'arbeitnehmer': 13801, 'goldreserven': 13802, 'gewachsen': 13803, 'edelmetall': 13804, 'unabhaengiger': 13805, 'pendant': 13806, 'frederick': 13807, 'delius': 13808, 'nietzsches': 13809, 'zarathustra': 13810, '155': 13811, 'wiederkehr': 13812, 'stages': 13813, 'gleichnamige': 13814, 'tondichtung': 13815, 'wirrkoepfe': 13816, 'steinke': 13817, 'rodgau': 13818, 'obdachlosenheim': 13819, 'reihenhaeuser': 13820, 'zuliebe': 13821, 'abstriche': 13822, 'targobank': 13823, 'umfragewe': 13824, 'dahinter': 13825, 'militarisierung': 13826, 'region': 13827, 'risk': 13828, 'insights': 13829, 'rovaniemi': 13830, 'versammelten': 13831, 'hiess': 13832, 'mehrfachmoerder': 13833, 'ahmed': 13834, 'nurso': 13835, 'noten': 13836, '500er': 13837, 'weitergehende': 13838, 'gutmenschkind': 13839, 'verkommene': 13840, 'poebelralle': 13841, 'parkhaus': 13842, 'perve': 13843, 'justizsystem': 13844, 'untrainie': 13845, 'schwabbel': 13846, 'austrainie': 13847, 'kommune': 13848, 'perspektive': 13849, 'wahlkampfhilfe': 13850, 'zehnjaehrige': 13851, 'jetzigem': 13852, 'herzlose': 13853, 'persoenlicher': 13854, 'mieses': 13855, 'bonnie': 13856, 'bonniestrange': 13857, 'inbesitznahme': 13858, 'abgesegnet': 13859, 'entfernte': 13860, 'krakau': 13861, 'veranlassung': 13862, 'gibbs': 13863, 'mcgee': 13864, 'gefroren': 13865, 'musk': 13866, 'kiffte': 13867, 'kinderchen': 13868, 'kiffens': 13869, 'richtigkeit': 13870, 'ungeprueften': 13871, 'familienhetze': 13872, 'gestreut': 13873, 'mithetzen': 13874, 'windows': 13875, 'anwender': 13876, 'desktop': 13877, 'entfernen': 13878, 'beschieden': 13879, 'kachelnmuessenweg': 13880, '52': 13881, 'teiltext': 13882, 'ueberhebliche': 13883, 'anfaengt': 13884, 'reibungslosen': 13885, 'ablauf': 13886, 'vorsichtiger': 13887, 'spezialisten': 13888, 'vorgeschichte': 13889, 'durchleuchten': 13890, 'bekloppte': 13891, 'hinter': 13892, 'peinlichste': 13893, 'schief': 13894, 'gequake': 13895, 'twitten': 13896, 'sprudelndes': 13897, 'geschaeftsmodel': 13898, 'patientenbindung': 13899, 'einbringt': 13900, 'vermeidbare': 13901, 'toter': 13902, 'impfungen': 13903, 'folgeschaeden': 13904, 'stoche': 13905, 'sinnloser': 13906, 'rasen': 13907, 'besuchte': 13908, 'melphia': 13909, 'kumasi': 13910, 'regelrechte': 13911, 'einqua': 13912, 'ges': 13913, 'paedophilen': 13914, 'paedophilenfreund': 13915, 'vorschiebt': 13916, 'duldungs': 13917, 'paedophile': 13918, 'entkommt': 13919, 'entfuehrer': 13920, 'hinlegen': 13921, 'genuss': 13922, 'guenter': 13923, 'wallraff': 13924, 'radsturz': 13925, 'wettbuero': 13926, 'suhrbier': 13927, 'abendblatt': 13928, 'waeldern': 13929, 'solen': 13930, 'mirja80': 13931, 'james0099077522': 13932, 'evele24527026': 13933, 'danny': 13934, '1703': 13935, 'setze': 13936, 'abzusehen': 13937, 'anruf': 13938, 'aufhielt': 13939, 'bereitgestellt': 13940, 'bruttoinlandsprodukt': 13941, 'warst': 13942, 'ken': 13943, 'jebsen': 13944, 'rubikon': 13945, 'geschworenengerichte': 13946, 'bewahre': 13947, 'schw': 13948, 'unfassbare': 13949, 'vorausschauend': 13950, 'vorausgesehen': 13951, 'dhue20121': 13952, 'verlernt': 13953, 'sinnvolle': 13954, 'saetze': 13955, 'jeweils': 13956, 'twingofah': 13957, 'zweck': 13958, 'ressourcen': 13959, 'zeitverschwendung': 13960, 'rekonstruieren': 13961, 'tattag': 13962, 'vorstellt': 13963, 'entlastet': 13964, 'aeltesten': 13965, 'jessica': 13966, 'uebernachtet': 13967, 'verliess': 13968, 'westfernsehen': 13969, 'dermassen': 13970, 'geruch': 13971, 'offensichtliche': 13972, 'ermittlungsweigerung': 13973, 'fangt': 13974, 'brandenburger': 13975, 'himbeeren': 13976, 'pfluecken': 13977, 'benedict': 13978, 'cumberbatch': 13979, 'jonny': 13980, 'lee': 13981, 'miller': 13982, 'sherlock': 13983, 'darsteller': 13984, 'traurige': 13985, 'schutzbeduerftig': 13986, 'investigative': 13987, 'ausnahmsweise': 13988, 'aufgebracht': 13989, 'angel': 13990, 'tauchausflug': 13991, 'gestehe': 13992, 'hingewiesen': 13993, 'daemlich': 13994, 'stangen': 13995, 'schaufeln': 13996, 'erfolgsaussichten': 13997, 'oeffentlichkeitsfahndung': 13998, 'fahrzeugs': 13999, 'angeln': 14000, 'einstimmig': 14001, 'ruhestand': 14002, 'geschoepf': 14003, 'bitterlicher': 14004, 'familienfreund': 14005, 'bildlich': 14006, 'untergangsspecial': 14007, 'soylent': 14008, 'green': 14009, 'special': 14010, 'belegte': 14011, 'abgestempelt': 14012, 'kluegste': 14013, 'reiben': 14014, 'eingeredeter': 14015, 'gesundschrumpfen': 14016, 'ausbluten': 14017, 'apuz': 14018, 'wachstumsmaschine': 14019, 'demografische': 14020, 'ermittlungsstands': 14021, 'dringenden': 14022, 'tatverdacht': 14023, 'sonja': 14024, 'schaue': 14025, 'nenner': 14026, 'deaktivie': 14027, 'drogenscene': 14028, 'idiotentest': 14029, 'objektiven': 14030, 'eilsfreien': 14031, 'sorgfaeltig': 14032, 'wahrheitsgehalt': 14033, 'ueberprueften': 14034, 'polizeimeldungen': 14035, 'stank': 14036, 'mkdus': 14037, 'katja30299307': 14038, 'taeuschung': 14039, 'ergab': 14040, 'waelder': 14041, 'abgesucht': 14042, 'bayerischen': 14043, 'grenzschliessung': 14044, 'grossangelegte': 14045, 'praesentieren': 14046, 'urbach': 14047, 'harmlosen': 14048, 'netzaktivisten': 14049, 'knaurverlag': 14050, 'gruenejugend': 14051, 'amused': 14052, 'fahnen': 14053, 'verblendet': 14054, 'selbstopferung': 14055, 'sagten': 14056, 'hochbegabt': 14057, 'schrieben': 14058, 'now': 14059, 'they': 14060, 'eat': 14061, 'their': 14062, 'words': 14063, 'interne': 14064, 'dokumente': 14065, 'badeanstalten': 14066, 'pate': 14067, 'polygamie': 14068, 'vorzeige': 14069, 'kommunikative': 14070, 'betreff': 14071, 'hilfsarbeiter': 14072, 'ta': 14073, 'arrush': 14074, 'geldfund': 14075, 'koranversen': 14076, 'gestoppt': 14077, 'einblick': 14078, 'volksstimme': 14079, 'flieger': 14080, 'lampe': 14081, 'ohhellokathrina': 14082, 'vielfaeltigen': 14083, 'kultuer': 14084, 'gesundbrunnen': 14085, 'europe': 14086, 'grausamen': 14087, 'hovelshorst': 14088, 'wessen': 14089, 'kotzt': 14090, 'sashtyani': 14091, 'vorra': 14092, 'aufgeklae': 14093, 'kosovo': 14094, 'wedelt': 14095, 'zuendet': 14096, 'asylheime': 14097, 'widmet': 14098, 'zugesendeten': 14099, 'slt': 14100, 'rehkitze': 14101, 'parlamentarischer': 14102, 'maehmaschinen': 14103, 'tierschutzpol': 14104, 'besonderem': 14105, 'groefaz': 14106, 'religionsgemeinschaft': 14107, 'auslaenderfeindlich': 14108, 'veraechtlich': 14109, 'erbaermlichee': 14110, 'italienisch': 14111, 'froesche': 14112, 'nachba': 14113, 'eich': 14114, 'jeden': 14115, 'loesungsansaetze': 14116, 'glaenzender': 14117, 'utopien': 14118, 'angefuellter': 14119, 'aufgeschwemmter': 14120, 'berufsjugendlicher': 14121, 'berufsabschluss': 14122, 'spderneuern': 14123, 'projektwoche': 14124, 'saeure': 14125, 'friedliches': 14126, 'mehrheitsverhaeltnisse': 14127, 'jesuisbroder': 14128, 'ergroovt': 14129, 'uli': 14130, 'joerges': 14131, 'armutszeugnis': 14132, 'verstandene': 14133, 'unterwerfung': 14134, 'fremden': 14135, 'freiheitliche': 14136, 'schulleiter': 14137, 'johannes': 14138, 'grod': 14139, 'aschaffenburger': 14140, 'froebelschule': 14141, 'schlufest': 14142, 'peteraltmaier': 14143, 'gesinnungsdiktaur': 14144, 'amtisemitsmus': 14145, 'christenverfolgung': 14146, 'frauenunterdrueckung': 14147, 'rutschen': 14148, 'waehlerstimmen': 14149, 'gewechselt': 14150, 'untergegang': 14151, 'programmie': 14152, 'christianmars84': 14153, '1980': 14154, 'ua': 14155, 'armselig': 14156, 'pfruende': 14157, 'kante': 14158, 'biss': 14159, 'ansagen': 14160, 'azsgehebelt': 14161, 'allerletzte': 14162, 'gebrauchen': 14163, 'linksruck': 14164, 'beschimpfungen': 14165, 'vizepraesident': 14166, 'beidhaendig': 14167, 'schmerzensgeld': 14168, 'strudel': 14169, 'abenteuerlichen': 14170, 'beschleunigend': 14171, 'betitelt': 14172, 'michael00350135': 14173, 'allfaellige': 14174, 'ticket': 14175, 'etablie': 14176, 'aufspringen': 14177, 'jahaaa': 14178, 'erkenntnis': 14179, 'gepredigt': 14180, 'verstand': 14181, 'brunnen': 14182, 'roman51110': 14183, 'gattung': 14184, 'nannten': 14185, 'wendehaelse': 14186, 'allmaehlich': 14187, 'verheerenden': 14188, 'wahlergebnissen': 14189, 'spezialdemokraten': 14190, 'umdenken': 14191, 'helgelindh': 14192, 'spdebakel': 14193, 'daenen': 14194, 'jaemmerlicher': 14195, 'hochjubeln': 14196, 'betreutes': 14197, 'klassisches': 14198, 'jstaltenberg': 14199, 'ergoetzt': 14200, 'antisemitischen': 14201, 'antidemokratischen': 14202, 'homophopen': 14203, 'steilvorlage': 14204, 'heuteshow': 14205, 'nichtmal': 14206, 'ansatzweise': 14207, 'faehig': 14208, 'stichhaltiges': 14209, 'vorzulegen': 14210, 'nem': 14211, 'befehlsgebundenen': 14212, 'landesebene': 14213, 'hinbekommt': 14214, 'blechkamerad': 14215, 'hegt': 14216, 'kaempferische': 14217, 'allmachtsfantasien': 14218, 'eigen': 14219, 'tschingterrassa': 14220, 'bumterassa': 14221, 'terassa': 14222, 'eisentoepfe': 14223, 'birnen': 14224, 'aufruesten': 14225, 'aich': 14226, 'einsaetzen': 14227, 'bw': 14228, 'einw': 14229, 'territorialarmee': 14230, 'eidigen': 14231, 'auslandseinsaetzen': 14232, 'unschoene': 14233, 'panst': 14234, 'leim': 14235, 'psychiatrischen': 14236, 'tollhaus': 14237, 'wetterbericht': 14238, 'helmstedt': 14239, 'wein': 14240, 'angebaut': 14241, 'browserspiel': 14242, 'langweilig': 14243, 'bagage': 14244, 'snarkyinfidel': 14245, 'ratten': 14246, 'angeht': 14247, '68': 14248, '70ern': 14249, 'dreckvoegel': 14250, 'wide': 14251, 'narrenfreiheit': 14252, 'area51': 14253, 'servas': 14254, 'thorwald': 14255, 'respektloses': 14256, 'misslungenen': 14257, 'hurenkinder': 14258, 'staedtebauliches': 14259, 'heruntergekommen': 14260, 'uferpromenade': 14261, 'demolie': 14262, 'sitten': 14263, 'verwildern': 14264, 'frickma1': 14265, 'messerfachkraefte': 14266, 'wehrlose': 14267, 'heel': 14268, 'elternteil': 14269, 'anheuern': 14270, 'wohlstandes': 14271, 'nachhaltiger': 14272, 'gcm': 14273, 'heldenstimme': 14274, 'daffyfuq': 14275, 'viechers': 14276, 'staerksten': 14277, 'wahlverhalten': 14278, 'versagt': 14279, 'seh': 14280, 'werd': 14281, 'michels': 14282, 'leidensfaehigkeit': 14283, 'kappen': 14284, 'einmalig': 14285, 'sprachkenntnisse': 14286, 'russisch': 14287, 'chuj': 14288, 'goar': 14289, 'fruechten': 14290, 'sollst': 14291, 'like': 14292, 'fckg': 14293, 'hinlegt': 14294, 'gewinnchancen': 14295, 'clevere': 14296, 'boyz': 14297, 'pos': 14298, 'gruppendynamik': 14299, 'ergaenzen': 14300, 'regionaler': 14301, 'einzelfaellen': 14302, 'frankundfreya': 14303, 'aufzuhoeren': 14304, 'brutalst': 14305, 'wiege': 14306, 'schaetzungsweise': 14307, 'mind': 14308, 'obere': 14309, 'marxloh': 14310, 'schmarotzer': 14311, 'gesindel': 14312, 'danm': 14313, 'genacht': 14314, 'lmao': 14315, 'irgendeinem': 14316, 'hing': 14317, 'parasiten': 14318, 'dummdeutschland': 14319, 'gemurkselte': 14320, 'walten': 14321, 'ewiges': 14322, 'women': 14323, 'gedoense': 14324, 'verschworen': 14325, 'weggesper': 14326, 'hundesteuer': 14327, 'pfandflaschen': 14328, 'gestohlen': 14329, 'spar': 14330, 'imaginaere': 14331, 'sollt': 14332, 'umschwenken': 14333, 'hochkonjunktur': 14334, 'selbstve': 14335, 'offelnazis': 14336, 'deradikalisieren': 14337, 'widersinnig': 14338, 'grenzenloser': 14339, 'identitaetspruefung': 14340, 'wirsindnichtoffensondernnichtmehrganzdicht': 14341, 'loeffel': 14342, 'abgegeben': 14343, 'rodriguezsusane': 14344, 'lel': 14345, 'ansteckend': 14346, 'rausgehauen': 14347, 'wtfilikegretanow': 14348, 'profraika': 14349, 'milky': 14350, 'way': 14351, 'schwimmen': 14352, 'gehirngewaschen': 14353, 'keins': 14354, 'indoktrination': 14355, 'versagende': 14356, 'elternhaeuser': 14357, 'schulpflicht': 14358, 'samstagen': 14359, 'chopperina2': 14360, 'serioese': 14361, 'erbaermlich': 14362, 'aufschlag': 14363, 'tewes': 14364, 'susanne': 14365, 'darstellerplantagen': 14366, 'gezuechtet': 14367, 'faymann': 14368, 'spindelegger': 14369, 'traeumer': 14370, 'wegn': 14371, 'mitmachn': 14372, 'musstn': 14373, 'druf': 14374, 'hbe': 14375, 'deswegn': 14376, 'gesprochen': 14377, 'ruf': 14378, 'ruinieren': 14379, '07cavio': 14380, 'klick': 14381, 'koerbchengroesse': 14382, 'goldstuecke': 14383, 'asien': 14384, 'mischwald': 14385, 'gebirge': 14386, 'wurzelt': 14387, 'breite': 14388, 'klammern': 14389, 'buchen': 14390, 'eichen': 14391, 'pflanzt': 14392, 'mischkulturen': 14393, 'sepp': 14394, 'holzer': 14395, 'kapitalisch': 14396, 'foseti': 14397, 'gagen': 14398, 'fcmmicha1': 14399, 'betreutendenken': 14400, 'mussten': 14401, 'widerstehen': 14402, 'verwoehnte': 14403, 'rocky0668': 14404, 'buergermeisterwahl': 14405, 'hillary': 14406, 'clinton': 14407, 'nachgeholfen': 14408, 'auszugehen': 14409, 'huren': 14410, 'katzenbilder': 14411, 'porno': 14412, 'satansbraten': 14413, 'eire': 14414, 'unschuldige': 14415, 'benehmt': 14416, 'gefaehrderin': 14417, 'divers': 14418, 'befasst': 14419, 'radikal': 14420, 'absehbar': 14421, 'ahnen': 14422, 'inhaltliche': 14423, 'sonderbare': 14424, 'allgemeinbildung': 14425, 'bizarrheit': 14426, 'kenzovandagg': 14427, 'leistungsfaehigkeit': 14428, 'demoteilnehmer': 14429, 'engel': 14430, 'duemmste': 14431, 'krankehirne': 14432, 'schwaetzer': 14433, 'nehmt': 14434, 'schaltet': 14435, 'handies': 14436, 'uebernehmt': 14437, 'hippie': 14438, 'scheuen': 14439, 'weihwasser': 14440, 'memmen': 14441, 'pflegeheimen': 14442, 'tobiv14': 14443, 'regnet': 14444, 'weltlaender': 14445, 'waermer': 14446, 'klimaerwaermung': 14447, 'digitalerc': 14448, 'huepft': 14449, 'verstandsbefreite': 14450, 'bildungsferne': 14451, 'hervorbringt': 14452, 'einweisen': 14453, 'freilauf': 14454, 'mehrfacher': 14455, 'moeglichkeiten': 14456, 'pfeffer': 14457, 'beschwichtigen': 14458, 'strunzdoof': 14459, 'lichtschalter': 14460, 'gruendeppen': 14461, 'krach': 14462, 'vorallem': 14463, 'eloquentes': 14464, 'volldeppen': 14465, 'ausplaude': 14466, 'ausschalten': 14467, 'peinlichen': 14468, 'furchtbar': 14469, 'aemtern': 14470, '68er': 14471, 'angerichtet': 14472, 'indoktrinierung': 14473, 'unis': 14474, 'propoga': 14475, 'ausgebildet': 14476, 'ds': 14477, 'leichtglaeubig': 14478, 'unterschaetzen': 14479, 'fehlende': 14480, 'nachsitzen': 14481, 'jedeunvollstaendige': 14482, 'ausgewachsenes': 14483, 'jugendprogramm': 14484, 'beatles': 14485, 'heinrichludger': 14486, 'idoden': 14487, 'houelle': 14488, 'impfschaeden': 14489, 'bekomm': 14490, 'aggressionen': 14491, 'anhoere': 14492, 'inzucht': 14493, 'kulturaustausch': 14494, 'emissionen': 14495, 'hundehuette': 14496, 'love': 14497, 'missverstaendnis': 14498, 'dummerchen': 14499, 'protests': 14500, 'dosenfleisch': 14501, 'dosen': 14502, 'vorgelage': 14503, 'aehh': 14504, 'gegriffen': 14505, 'verfechter': 14506, 'these': 14507, 'masslosigkeit': 14508, 'schmeiss': 14509, 'nackensteaks': 14510, 'bullen': 14511, 'paprika': 14512, 'zunehmende': 14513, 'bella': 14514, 'nachlassen': 14515, 'solidavidwache': 14516, 'blosse': 14517, 'mitbewohnern': 14518, 'gestik': 14519, 'verbalen': 14520, 'agressionspotential': 14521, 'kge': 14522, 'aushandeln': 14523, 'hmmm': 14524, 'geschmack': 14525, 'keinen': 14526, 'schrottigen': 14527, 'veganen': 14528, 'beyond': 14529, 'meat': 14530, 'gegrillt': 14531, 'teilgenommen': 14532, 'getraut': 14533, 'unmut': 14534, 'kund': 14535, 'sexuellermissbrauch': 14536, 'neunjaehrigen': 14537, 'tatverdaechtig': 14538, '94': 14539, 'rofl': 14540, 'joe130978': 14541, 'drogendealen': 14542, 'selbstaendige': 14543, 'mittelstand': 14544, 'nobler': 14545, 'minderwe': 14546, 'repressiven': 14547, 'staatrs': 14548, 'dreckiger': 14549, 'untermensch': 14550, 'schlussparagraph': 14551, 'amir': 14552, 'mega': 14553, 'atom': 14554, 'vogelkiller': 14555, 'vorrausgesagt': 14556, 'verharmlosend': 14557, 'umsiedlung': 14558, 'angesicht': 14559, 'begleitumstaende': 14560, 'vorgehensweisen': 14561, 'massenpsychotische': 14562, 'verklaerung': 14563, 'kairoer': 14564, 'voelliger': 14565, 'humbug': 14566, 'ley': 14567, 'enanhoerung': 14568, 'bundestages': 14569, 'polizeipraesident': 14570, 'jacob': 14571, 'verwahre': 14572, 'einsaetze': 14573, 'wahrnehmen': 14574, 'verglichen': 14575, 'feiges': 14576, 'sassen': 14577, 'gierigen': 14578, 'makler': 14579, 'miet': 14580, 'haie': 14581, 'krebskranker': 14582, 'nightralph': 14583, 'aufbau': 14584, 'runterschlucken': 14585, 'phase': 14586, 'tierlieb': 14587, 'rose': 14588, 'vaterlandes': 14589, 'wilden': 14590, 'maxxbikede': 14591, 'lifeofschmirko': 14592, 'nachteilen': 14593, 'ergeben': 14594, 'indoktrinie': 14595, 'bekennen': 14596, 'sorg': 14597, 'gesaeube': 14598, 'linksideologischen': 14599, 'beamtin': 14600, 'plattform': 14601, 'unliebsame': 14602, 'geltungsdrang': 14603, 'einschreiten': 14604, 'umstrittener': 14605, 'einkaufen': 14606, 'kopftuchfrauen': 14607, 'volltaetowie': 14608, 'junges': 14609, 'blauen': 14610, 'there': 14611, 'heruntergesetztes': 14612, 'strafmass': 14613, 'anfangsaggression': 14614, 'gelegen': 14615, 'hinrichtungen': 14616, 'gewaltproblem': 14617, 'umziehen': 14618, 'biodiversitaet': 14619, 'pearwalts5': 14620, 'hezbollah': 14621, 'bankkonten': 14622, 'geldwaesche': 14623, 'oldman7715': 14624, 'schwach': 14625, 'wachsam': 14626, 'kluegere': 14627, 'beschuetzt': 14628, 'unterkriegen': 14629, 'pflichten': 14630, 'herabwuerdigt': 14631, 'aheun2': 14632, 'miriamozen': 14633, 'politschreier': 14634, 'islamistisch': 14635, 'aufzumachen': 14636, 'eigentlicher': 14637, 'fanatiker': 14638, 'intensivtaeter': 14639, 'muslimfeindliche': 14640, 'boesa': 14641, 'rainerwendt': 14642, 'polizeigewerkschaft': 14643, 'nachschneiden': 14644, 'milliardenprojekt': 14645, 'notreserve': 14646, 'anzapfen': 14647, 'kindergae': 14648, 'halligma': 14649, 'apatzwahl': 14650, 'verunglimpfung': 14651, 'geschehen': 14652, 'beifall': 14653, 'sichtlich': 14654, 'ordnungsruf': 14655, 'rationale': 14656, 'gehoben': 14657, 'sankt': 14658, 'floriansprinzip': 14659, 'kuemme': 14660, 'quellenangaben': 14661, 'bzgl': 14662, 'hinzunehmen': 14663, 'menschenleben': 14664, 'quaelerei': 14665, 'wiederhole': 14666, 'korrektes': 14667, 'seitens': 14668, 'schreiend': 14669, 'durchgreift': 14670, 'fjs': 14671, 'saehe': 14672, 'erbaermlichen': 14673, 'polizeimissionen': 14674, 'sicherheitspolitische': 14675, 'ungslosigkeit': 14676, 'fackfellowat': 14677, 'entrinnen': 14678, 'deutschlandtrend': 14679, 'sackt': 14680, 'maybrit': 14681, 'liiner': 14682, 'wahltag': 14683, 'zahltag': 14684, 'hervorragender': 14685, 'vollverbloedung': 14686, 'dusseligen': 14687, 'zuechten': 14688, 'wurscht': 14689, 'evolutionaerer': 14690, 'preussen': 14691, 'effektive': 14692, 'bestrafung': 14693, 'spiessrutenlaufens': 14694, 'adequate': 14695, 'westliche': 14696, 'lebensa': 14697, 'beteicherungstour': 14698, 'laecherliche': 14699, 'fastenzeit': 14700, 'schnapps': 14701, 'spinnereien': 14702, 'fakes': 14703, 'uebersetzer': 14704, 'psychologische': 14705, 'buchgeld': 14706, 'wirklicher': 14707, 'strafunfahig': 14708, 'psyche': 14709, 'sprachlos': 14710, 'solche': 14711, 'sekina84': 14712, 'victim': 14713, 'initiieren': 14714, 'bestehlen': 14715, 'kuenstlich': 14716, 'aufgeblasene': 14717, 'hypes': 14718, 'legislaturperiode': 14719, 'scheitern': 14720, 'gepuscht': 14721, 'lecardinal20': 14722, 'armenleuchter': 14723, 'papiere': 14724, 'bootstrip': 14725, 'gezuendelt': 14726, 'gemeinschaftsunterkunft': 14727, 'abbrannte': 14728, 'statistik': 14729, 'rechtegewalt': 14730, 'spott': 14731, 'bescheide': 14732, 'dielinken': 14733, 'ere': 14734, 'migrationsbefuerwo': 14735, 'linksradikalen': 14736, 'grassierende': 14737, 'ziv': 14738, 'altersarmut': 14739, 'vernuenftige': 14740, 'konsequente': 14741, 'staerkt': 14742, 'brother': 14743, 'ts': 14744, 'frankschwabe': 14745, 'mehrheiten': 14746, 'erstrebenswe': 14747, 'aussicht': 14748, 'auszurufen': 14749, 'fuehrenden': 14750, 'industrienationen': 14751, 'liquidieren': 14752, 'mitanzusehen': 14753, 'faktisches': 14754, 'einreiseverbot': 14755, 'altersversorgung': 14756, 'aufbauen': 14757, 'strich': 14758, 'einwanderungsgesetz': 14759, 'entscheidendes': 14760, 'pazderski': 14761, 'streiken': 14762, 'unfaire': 14763, 'hungerstreik': 14764, 'schweinerei': 14765, 'ferkelbeauftragte': 14766, 'sauereien': 14767, 'merkelstan': 14768, 'lebenslanges': 14769, 'aufenthaltsverbot': 14770, 'prophylaxetisch': 14771, 'waffenfreiheit': 14772, 'feine': 14773, 'fischfilet': 14774, 'durchgesetzt': 14775, 'band': 14776, 'bullenhelme': 14777, 'knueppel': 14778, 'gerichtsverfahren': 14779, 'unsummen': 14780, 'schiebt': 14781, 'umgehend': 14782, 'misshandelt': 14783, 'auslacht': 14784, 'geschwaenzt': 14785, 'lustiger': 14786, 'clowns': 14787, 'verbuddeln': 14788, 'methoden': 14789, '90minjoker1': 14790, 'wuenschte': 14791, 'kaputte': 14792, 'austauschen': 14793, 'vaetern': 14794, 'auszuraeumen': 14795, 'unsinnige': 14796, 'abbrechen': 14797, 'erwuenscht': 14798, 'be': 14799, 'schnelling1': 14800, 'eingeschossen': 14801, 'erfinden': 14802, 'gefundene': 14803, 'zwischenstopp': 14804, 'hingebracht': 14805, 'sinnvolleres': 14806, 'unwahrscheinlichste': 14807, 'ausstiegshaltestellen': 14808, 'busdepot': 14809, 'buslinie': 14810, 'eingrenzen': 14811, 'interessantesten': 14812, 'auffallende': 14813, 'schrank': 14814, 'eingepackte': 14815, 'bekanntschaft': 14816, 'nachgeht': 14817, 'befragt': 14818, 'freundinnen': 14819, 'erfahrene': 14820, 'mordermittler': 14821, 'wiederzufinden': 14822, 'hinweisgeber': 14823, 'haettet': 14824, 'mitgeteilt': 14825, 'preisgibt': 14826, 'konversationen': 14827, 'chatkontakt': 14828, 'lebenszeichen': 14829, 'glaubte': 14830, '07': 14831, 'anderem': 14832, 'keinster': 14833, 'verdaechtig': 14834, 'gerannt': 14835, 'schlachtensee': 14836, 'geloeschten': 14837, 'bahnfah': 14838, 'bilderrahmen': 14839, 'eingepackt': 14840, 'licht': 14841, 'urinspuren': 14842, 'tapfer': 14843, 'leichenhunde': 14844, 'leichengeruch': 14845, 'schwarzarbeit': 14846, 'bedankt': 14847, 'tue': 14848, 'entlastendes': 14849, 'ausgehe': 14850, 'dunkelheit': 14851, 'schwanger': 14852, 'aufklae': 14853, 'appellie': 14854, 'zweimal': 14855, 'fehlerquoten': 14856, '98': 14857, 'richtungen': 14858, 'maurerweg': 14859, 'britz': 14860, 'abgeschlossen': 14861, 'unverschaemt': 14862, 'junger': 14863, 'twitterer': 14864, 'einhunde': 14865, 'prozentig': 14866, 'zeugin': 14867, 'rufmoerder': 14868, 'fasern': 14869, 'tatzeit': 14870, 'zugriff': 14871, 'schwarm': 14872, 'bts': 14873, 'lockmittel': 14874, 'hope': 14875, 'voreingenommen': 14876, 'mm': 14877, 'verseuchenden': 14878, 'zeitfenster': 14879, 'unschuldigen': 14880, 'gewesenen': 14881, 'verstaendlicherweise': 14882, 'durcheinanderseienden': 14883, 'drueber': 14884, 'hochscrollen': 14885, 'stromausfall': 14886, 'windkraftraeder': 14887, 'blasen': 14888, 'getrieben': 14889, 'schul': 14890, 'heimliche': 14891, 'spot': 14892, 'geschaeft': 14893, 'alste': 14894, 'poppenbuettel': 14895, 'modehaeuser': 14896, 'akh': 14897, 'peine': 14898, 'abteilungen': 14899, 'schreibdienste': 14900, 'archiv': 14901, 'vergibt': 14902, 'externe': 14903, 'grosskunde': 14904, 'autozulieferers': 14905, 'iwis': 14906, 'landsberg': 14907, 'autoherstellers': 14908, 'platzieren': 14909, 'steuerketten': 14910, 'verbrenner': 14911, 'rumaenien': 14912, 'planung': 14913, 'mont': 14914, 'befuerchten': 14915, 'besitzers': 14916, 'print': 14917, 'boulevardzeitung': 14918, 'eingestellt': 14919, 'fingerabdruecken': 14920, 'abgleich': 14921, 'marokkanischen': 14922, 'marokkanern': 14923, 'verpieseln': 14924, 'bombenterror': 14925, 'nachtclubs': 14926, 'taxis': 14927, 'restaurants': 14928, 'fahrschule': 14929, 'supermarkt': 14930, 'treppen': 14931, 'wohnhaeuser': 14932, 'explodie': 14933, 'knall': 14934, 'wach': 14935, 'eingangsbereich': 14936, 'wohnhauses': 14937, 'bandenkriminalitaet': 14938, 'ordentlich': 14939, 'krachen': 14940, 'eingebuchtet': 14941, 'befindenden': 14942, 'bulgare': 14943, 'deckte': 14944, 'bulgaren': 14945, 'fluchtgefahr': 14946, 'durchgeschaut': 14947, 'hongkong': 14948, 'bekanntlich': 14949, 'auslieferungsgesetz': 14950, 'bewaeltigt': 14951, 'stromeinspeisekosten': 14952, 'luxus': 14953, 'tesla': 14954, 'apparatschiks': 14955, 'fuerstenberg': 14956, 'syrern': 14957, 'erkenntnissen': 14958, 'fremdenfeindlicher': 14959, 'begehung': 14960, 'stadtrat': 14961, 'nahverkehr': 14962, 'parkausweise': 14963, '504': 14964, 'erhoehen': 14965, 'schaftler': 14966, 'bewiesen': 14967, 'wandel': 14968, 'poli': 14969, 'tiker': 14970, 'muslimbruederschaften': 14971, 'kaetoffelstaat': 14972, 'phaenomrns': 14973, 'andienen': 14974, 'staatstragenden': 14975, 'facetten': 14976, 'ansprechen': 14977, 'gesellschaftliche': 14978, 'aechtung': 14979, 'brandanschlaege': 14980, 'unserefreiheit': 14981, 'flughaefen': 14982, 'heizung': 14983, 'kuehlanlagen': 14984, 'immobilien': 14985, 'preisschild': 14986, 'alibaba': 14987, 'eldorado': 14988, 'sozialschmarotzern': 14989, 'hole': 14990, 'mutmasslicher': 14991, 'kosovare': 14992, 'bundesgerichtshof': 14993, 'pinneberg': 14994, 'mittenwald': 14995, 'schleust': 14996, 'windpocken': 14997, 'beanspruchen': 14998, 'verdraengen': 14999, 'rosengard': 15000, 'drecksblatt': 15001, 'luisa': 15002, 'neubauer': 15003, 'klimaretterin': 15004, 'worldwide': 15005, 'fly': 15006, 'experience': 15007, 'spinnen': 15008, 'musiklaerm': 15009, 'ungluecklich': 15010, 'zweifamilienhaus': 15011, 'genehmigt': 15012, 'bevormunden': 15013, 'machte': 15014, 'spezielles': 15015, 'freistaat': 15016, '435': 15017, 'sanierungskosten': 15018, '315': 15019, 'voraussetzung': 15020, 'anerkannte': 15021, 'musik': 15022, 'geschrien': 15023, 'landratsamt': 15024, 'unterbinden': 15025, 'az': 15026, '6575': 15027, 'werke': 15028, 'automobilzulieferer': 15029, 'dura': 15030, 'plettenberg': 15031, 'kirchhundem': 15032, '970': 15033, 'hemden': 15034, 'blusenspezialist': 15035, 'seidensticker': 15036, 'textilhaendler': 15037, 'desigual': 15038, 'schiesser': 15039, 'benetton': 15040, 'kurzem': 15041, 'billiglaeden': 15042, 'eingezogen': 15043, 'drk': 15044, 'luckenwalde': 15045, 'kmg': 15046, 'kliniken': 15047, 'personalabbau': 15048, 'flatte': 15049, 'haustechnikern': 15050, 'briefkasten': 15051, 'spezialisie': 15052, 'montage': 15053, 'elektrogrossgeraeten': 15054, 'hifi': 15055, 'geraeten': 15056, 'dienstleistungen': 15057, 'unrentabel': 15058, 'heftigen': 15059, 'detonation': 15060, 'probesprengung': 15061, 'zahnlosen': 15062, 'terrorgesetze': 15063, 'anwachsen': 15064, 'entsprechende': 15065, 'entwerfen': 15066, 'clankrieg': 15067, 'detonationen': 15068, 'druckwelle': 15069, 'nachtclub': 15070, 'angabe': 15071, 'offensive': 15072, 'meldemob': 15073, 'vernetzen': 15074, 'twittersperre': 15075, 'badwildungen': 15076, 'taschentuch': 15077, 'betaeubenden': 15078, 'fluessigkeit': 15079, 'vors': 15080, 'rechtspa': 15081, 'vox': 15082, 'cyberattacken': 15083, 'hell': 15084, 'ermitteln': 15085, 'trommelwirbel': 15086, 'spanischen': 15087, 'eidigungsministerium': 15088, 'homeinvasion': 15089, 'dringt': 15090, 'klingeln': 15091, 'oeffnet': 15092, 'betagte': 15093, 'schulkind': 15094, 'rechtlos': 15095, 'grundeis': 15096, 'welshalb': 15097, 'ungehinde': 15098, 'niedersaechsische': 15099, 'hameln': 15100, 'denkmal': 15101, 'sperrungen': 15102, 'wunderbaren': 15103, 'asylbewerberzahl': 15104, 'staatsangehoerigen': 15105, 'visum': 15106, 'schengenzone': 15107, 'kolumbien': 15108, 'georgien': 15109, 'chinesen': 15110, 'ueberwachen': 15111, 'gonoroe': 15112, 'identitaeslosem': 15113, 'aufzwingen': 15114, 'verachtenden': 15115, 'gie': 15116, 'sse': 15117, 'rei': 15118, 'kuep': 15119, 'zie': 15120, 'kruem': 15121, 'mer': 15122, 'bo': 15123, 'ver': 15124, 'bren': 15125, 'nungs': 15126, 'tor': 15127, 'heiligenhaus': 15128, 'pharmakonzern': 15129, 'gliede': 15130, 'specialty': 15131, 'ingredients': 15132, 'nahrungs': 15133, 'futtermittelzusaetze': 15134, 'herstellt': 15135, 'thyssen': 15136, 'krupp': 15137, 'engineering': 15138, '220': 15139, '860': 15140, 'gefe': 15141, 'karosserie': 15142, 'antriebsstrang': 15143, 'meinungsaeusserung': 15144, 'ade': 15145, 'schlinge': 15146, 'freiheiten': 15147, 'schritten': 15148, 'unliebsamen': 15149, 'moegl': 15150, 'umsichtiges': 15151, 'selfprotection': 15152, 'forward': 15153, 'thinking': 15154, 'deindustrialisierung': 15155, 'vergewaltigungen': 15156, 'derzeitige': 15157, 'angehoerige': 15158, 'opferschweigen': 15159, 'bekannten': 15160, 'mietexplosion': 15161, 'quatsch': 15162, 'fluechtlingsunterkuenften': 15163, 'triffts': 15164, 'tilo': 15165, 'verfolgen': 15166, 'neutralitaetspflicht': 15167, 'verfassungswidrig': 15168, 'nogez': 15169, 'komplizen': 15170, 'immobilieneigentuemer': 15171, 'jugendwiderstand': 15172, 'packung': 15173, 'andrej': 15174, 'reisin': 15175, '1l': 15176, 'benzin': 15177, 'strompreis': 15178, 'verdoppelt': 15179, 'stromausfaelle': 15180, 'humankapitalimpo': 15181, 'hoechststaende': 15182, 'arbeitsagntur': 15183, 'korrigie': 15184, 'gefakte': 15185, 'jobboerse': 15186, 'friedliebend': 15187, 'schimpfen': 15188, 'hochzeitskorsos': 15189, 'scharfen': 15190, 'angebettelt': 15191, 'unterlassen': 15192, 'messermaenner': 15193, 'autochthone': 15194, 'suf': 15195, 'zentralhaltestelle': 15196, 'weltmarktfuehrer': 15197, 'karmez': 15198, 'osram': 15199, 'opto': 15200, 'semiconductors': 15201, 'abfindungen': 15202, 'akzeptie': 15203, 'unisan': 15204, 'schlauchsysteme': 15205, 'droeschede': 15206, 'unterfraenkische': 15207, 'ebern': 15208, 'langjaehrige': 15209, 'modefilialist': 15210, 'modepark': 15211, 'roether': 15212, 'michelfeld': 15213, 'neueste': 15214, 'trends': 15215, 'angesagtesten': 15216, 'mode': 15217, 'marken': 15218, 'raeumungsverkauf': 15219, 'schwedische': 15220, 'erfolgsmodell': 15221, 'kopieren': 15222, 'platzt': 15223, 'halsschlagader': 15224, 'unterwuerfiger': 15225, 'unsympathischer': 15226, 'skeptisch': 15227, 'erfreulicher': 15228, 'millionaere': 15229, 'koksen': 15230, 'pornos': 15231, 'ehen': 15232, 'bah': 15233, 'goerlitzern': 15234, 'zuverlaessigkeit': 15235, 'puenktlichkeit': 15236, 'gesamtgesellschaftliches': 15237, 'schildbuergerpolitik': 15238, 'suedlaendische': 15239, 'nachtschwaermer': 15240, 'mannschaftsstaerke': 15241, 'dummmichel': 15242, 'daemme': 15243, 'qualitaet': 15244, 'gewuerze': 15245, 'ueberdecken': 15246, 'ungewollte': 15247, 'muslimbruderschaft': 15248, 'gaza': 15249, 'angewendet': 15250, 'aspekte': 15251, 'einstellst': 15252, 'haengen': 15253, 'attnang': 15254, 'voecklabruck': 15255, 'abgeweh': 15256, 'suedlaendischer': 15257, 'beschrieben': 15258, 'essgestoe': 15259, 'mangelhafter': 15260, 'ausfallen': 15261, 'unattraktiver': 15262, 'kehrseite': 15263, 'medaille': 15264, 'wohlstands': 15265, 'arbeitskollegin': 15266, 'aufregt': 15267, 'hetzseiten': 15268, 'hervorrufen': 15269, 'lemminge': 15270, 'faust': 15271, 'gebrochenem': 15272, 'technologisch': 15273, 'strebt': 15274, 'syndrom': 15275, 'schlachten': 15276, 'unnoetige': 15277, 'erfreut': 15278, 'ruehre': 15279, 'garantie': 15280, 'ziehe': 15281, 'bratwurst': 15282, 'tschuess': 15283, 'buergerschaftiches': 15284, 'leidet': 15285, 'rophen': 15286, 'mitteilungszwang': 15287, 'fachliteratur': 15288, 'logorrhoe': 15289, 'zumutung': 15290, 'betriebsblindheit': 15291, 'unangemessene': 15292, 'wahrnehmungs': 15293, 'beu': 15294, 'eilungstendenzen': 15295, 'routine': 15296, 'negerkinder': 15297, 'schuerfen': 15298, 'grinsend': 15299, 'gruentee': 15300, 'schluerfen': 15301, 'stehn': 15302, 'fahrgaeste': 15303, 'roehre': 15304, 'sehn': 15305, 'reichhauptstadtslum': 15306, 'sodecia': 15307, 'powe': 15308, 'rain': 15309, 'oelnitz': 15310, 'schaltgetriebe': 15311, 'lohnkosten': 15312, '670': 15313, 'ugal': 15314, 'germanistik': 15315, 'anglistik': 15316, 'sprachwissenschaft': 15317, 'diversitaetwissenschaft': 15318, 'wissenschaft': 15319, 'gerede': 15320, 'fachkraeftezuwanderungsgesetz': 15321, 'jubelnebelwand': 15322, 'warenhaeuser': 15323, 'abfindungsangebote': 15324, 'lohnes': 15325, '375': 15326, 'haftpruefungstermin': 15327, 'stralsund': 15328, 'gerichtsleiter': 15329, 'vorbildfunktion': 15330, 'einschnitte': 15331, 'trauen': 15332, 'management': 15333, 'verkaeufer': 15334, 'qm2': 15335, 'flaeche': 15336, 'funktionieren': 15337, 'abzubauenden': 15338, 'wetzlar': 15339, 'aussehender': 15340, 'erhielt': 15341, 'serienmoerder': 15342, 'niels': 15343, 'hoegel': 15344, 'pflegedirektorin': 15345, 'klinikums': 15346, 'ausgestelltes': 15347, 'arbeitszeugnis': 15348, 'bescheinigt': 15349, 'umsichtig': 15350, 'selbststaendig': 15351, 'situationen': 15352, 'sachlich': 15353, 'detlef': 15354, 'galeria': 15355, 'erheblichem': 15356, 'betriebsbedingte': 15357, 'stelters': 15358, 'vernichtenden': 15359, 'erscheinen': 15360, 'bsi': 15361, 'trojaner': 15362, 'infizie': 15363, 'zuhause': 15364, 'fenstersicherung': 15365, 'alarmanlage': 15366, 'fasten': 15367, 'allezeit': 15368, 'schenkt': 15369, 'entdeckten': 15370, 'zoellner': 15371, 'pistole': 15372, 'eingewickelt': 15373, 'pullover': 15374, 'gepaeckfach': 15375, 'sitzplatz': 15376, 'ahlen': 15377, 'taeterbeschreibungen': 15378, 'ausgegangen': 15379, 'sextaeter': 15380, 'zentrale': 15381, 'modekonzerns': 15382, 'filialschliessungen': 15383, '750': 15384, 'krankenwagen': 15385, 'bombenkommando': 15386, 'contract': 15387, 'ccs': 15388, 'chemiepark': 15389, 'genthin': 15390, 'discountern': 15391, 'haushaltsreiniger': 15392, 'wegbrachen': 15393, 'geschaeftsbetrieb': 15394, 'drensteinfu': 15395, 'wirkender': 15396, 'bmx': 15397, 'skaterbahn': 15398, 'fahrradhalterung': 15399, 'tuermt': 15400, 'kumpel': 15401, 'uups': 15402, 'waffenlieferung': 15403, 'clanland': 15404, 'waffenschmuggler': 15405, 'erheben': 15406, 'oekofaschisten': 15407, 'schulsanierung': 15408, 'geisteskranke': 15409, 'frauenbeauftragten': 15410, 'gifhorn': 15411, 'fremdsprachige': 15412, 'suedlaenderin': 15413, 'flohmarkt': 15414, 'rollstuhl': 15415, 'entreisst': 15416, '81': 15417, 'beschwerden': 15418, 'huttenschule': 15419, 'besuchten': 15420, 'schlosserstrasse': 15421, 'haeuften': 15422, 'simulie': 15423, 'interessantes': 15424, 'stiernackiger': 15425, 'armbanduhr': 15426, 'kontrahenten': 15427, 'hueckeswagen': 15428, 'suedosteuropaeische': 15429, 'bankbesuch': 15430, 'losfahren': 15431, 'bettelt': 15432, 'unbemerkt': 15433, 'boerse': 15434, '66': 15435, 'genialer': 15436, 'gehirnwaesche': 15437, 'zinserhoehung': 15438, 'ezb': 15439, 'herzstillstand': 15440, 'irgendwen': 15441, 'gehaltes': 15442, 'leuten': 15443, 'gefuellten': 15444, 'bechern': 15445, 'niedersachswerfen': 15446, 'fli': 15447, 'handlungen': 15448, 'begleitern': 15449, 'eingreifenden': 15450, 'schlichter': 15451, 'moeglichkeit': 15452, 'zusaetzliche': 15453, 'schulfreie': 15454, 'bildungsdirektionen': 15455, 'erlaubnis': 15456, 'fernbleiben': 15457, 'biskopsg': 15458, 'rden': 15459, 'goeteborg': 15460, 'soooo': 15461, 'schoeoeoen': 15462, 'buuunt': 15463, 'autobesitzer': 15464, 'wohngegenden': 15465, 'strassengarage': 15466, 'schmuckstuecke': 15467, 'langer': 15468, 'verlaengerungsschnur': 15469, 'wohnungsfenster': 15470, '1999': 15471, 'beschliessen': 15472, 'aufstaende': 15473, 'milchviehhalter': 15474, 'finanziell': 15475, 'angeschlagen': 15476, 'betriebe': 15477, 'unmittelbar': 15478, 'bankrott': 15479, 'schaftliche': 15480, 'unternehmensberaterin': 15481, 'betrieben': 15482, 'besorgniserregender': 15483, 'endphase': 15484, 'ak': 15485, 'planuebererfuellung': 15486, 'geplaer': 15487, 'automobilbranche': 15488, 'metallbearbeiter': 15489, 'kromatec': 15490, 'neckarwestheim': 15491, 'spueren': 15492, 'edelsteakhaus': 15493, 'kette': 15494, 'hohoffs': 15495, 'hagen': 15496, 'verschlossener': 15497, 'gastronomie': 15498, 'pachtrueckstaenden': 15499, 'sechsstelliger': 15500, 'messerattack': 15501, 'oslo': 15502, 'polizeibekannten': 15503, 'elektroschocker': 15504, 'ofen': 15505, 'baeckereikette': 15506, 'baecker': 15507, '270': 15508, 'tiefkuehl': 15509, 'backwarenhersteller': 15510, 'aryzta': 15511, 'mansfeld': 15512, 'produktionsverschiebung': 15513, 'bergsteiger': 15514, 'gipfel': 15515, 'matterhorn': 15516, 'selfie': 15517, 'drohne': 15518, '4478m': 15519, 'suisse': 15520, 'zermatt': 15521, 'auslaend': 15522, 'underage': 15523, 'ausgebenden': 15524, 'erwachsen': 15525, 'immigration': 15526, 'fraud': 15527, 'deception': 15528, 'umf': 15529, '85m': 15530, 'schwarzes': 15531, 'krauses': 15532, 'haar': 15533, 'gesiche': 15534, 'kanadische': 15535, 'premierminister': 15536, 'justintrudeau': 15537, 'cleanerfuture': 15538, 'waterbottle': 15539, 'boxedwater': 15540, 'plastikverbot': 15541, 'laengste': 15542, 'donaudampfschifffah': 15543, 'selektrizitaetenhauptbetriebswerkbauunterbeamtengesellschaft': 15544, 'gegruendet': 15545, '1829': 15546, 'einwohnern': 15547, 'gensing': 15548, 'abuse': 15549, 'airbuslive': 15550, 'rennende': 15551, 'anschlagsangst': 15552, 'reul': 15553, 'antimuslim': 15554, 'diskreditiere': 15555, 'kommunistische': 15556, '1943': 15557, 'betitele': 15558, 'antisemiten': 15559, 'nutze': 15560, 'prestige': 15561, 'antifaschistisch': 15562, 'beschmutzt': 15563, 'recep': 15564, 'tayyip': 15565, 'mesut': 15566, 'ozil': 15567, 'hochzeit': 15568, 'amine': 15569, 'guel': 15570, 'schulter': 15571, 'kopfbedeckung': 15572, 'dictator': 15573, 'testamente': 15574, 'weltuntergang': 15575, 'datum': 15576, 'temp': 15577, 'erdoberfl': 15578, 'unbewohnbar': 15579, 'mojib': 15580, 'latif': 15581, 'frostabschaffung': 15582, 'bezeugt': 15583, 'apocalypse': 15584, 'asylwerber': 15585, 'amadou': 15586, 'lina': 15587, 'kolodochka': 15588, 'oberkoerper': 15589, 'wuergend': 15590, 'heruntergelassener': 15591, 'watch': 15592, 'eisbergs': 15593, 'india': 15594, 'schoenheitswettbewerbs': 15595, 'legst': 15596, 'hochzeitskonvoi': 15597, 'ballerst': 15598, 'blockierst': 15599, 'stadtverkehr': 15600, 'bekommst': 15601, 'boeses': 15602, 'betruegerin': 15603, 'kotze': 15604, 'strahl': 15605, 'gesundheitssenatorin': 15606, 'kalayci': 15607, 'anonymen': 15608, 'anonyme': 15609, 'austeilen': 15610, 'krankenhaeuser': 15611, 'beglichen': 15612, 'polizeilich': 15613, 'mazyek': 15614, '1000x': 15615, 'hetzjagdt': 15616, 'twitterers': 15617, 'konstruie': 15618, 'maut': 15619, 'festgenommenen': 15620, 'sozialgeld': 15621, 'unbezahlbar': 15622, 'eigendlich': 15623, 'ueberfluessig': 15624, 'mindestlohn': 15625, 'ueberstunden': 15626, 'handwerkern': 15627, 'deutschlandweite': 15628, 'einheitliche': 15629, 'gesellenpruefung': 15630, 'gewordene': 15631, 'empfaenger': 15632, 'arbeitsscheue': 15633, 'einzustufen': 15634, 'minderbezahlte': 15635, 'sanktionieren': 15636, 'sveja': 15637, 'bum': 15638, 'bdew': 15639, 'kongress': 15640, 'schleppt': 15641, 'attestie': 15642, 'grundsaetze': 15643, 'studienzeit': 15644, 'ungrade': 15645, 'rad': 15646, 'katastrophale': 15647, 'aussteuerung': 15648, 'bettwaesche': 15649, 'verwandtschaft': 15650, 'tutsh': 15651, 'amon': 15652, 'adelsfamilie': 15653, 'gelbe': 15654, 'ente': 15655, 'drinnen': 15656, 'luedenscheid': 15657, 'kkk': 15658, 'lebe': 15659, 'lorio': 15660, 'mohrenpost': 15661, 'caroline': 15662, 'rethorikkurs': 15663, 'hilflosigkeit': 15664, 'ahnungslosigkeit': 15665, 'vermittelt': 15666, 'nicken': 15667, 'umherschauen': 15668, 'guenstig': 15669, 'linksaktivisten': 15670, 'ueberzeugen': 15671, 'entzieht': 15672, 'nahem': 15673, 'gemeinnuetzigkeit': 15674, 'lobbytreffen': 15675, 'zusammengetragen': 15676, 'durchsuchbar': 15677, 'daenischer': 15678, 'ren': 15679, 'pape': 15680, 'poulsen': 15681, 'kriminellste': 15682, 'migrantengruppe': 15683, '4x': 15684, 'gleichaltrige': 15685, 'halbfinale': 15686, 'djokernole': 15687, 'thiem': 15688, 'djokovic': 15689, 'semifinal': 15690, 'fr': 15691, 'congratulations': 15692, 'bjoern': 15693, 'borg': 15694, '63th': 15695, '6x': 15696, 'titles': 15697, 'lavercup': 15698, 'australianopen': 15699, 'niederdruck': 15700, 'fledermaeuse': 15701, 'ansaugt': 15702, 'windpark': 15703, 'amerikanischen': 15704, 'steinadler': 15705, 'population': 15706, 'adler': 15707, 'falken': 15708, '880': 15709, '1300': 15710, 'windkraftfrei': 15711, 'umfrageschock': 15712, 'survey': 15713, 'bedeckt': 15714, 'vorhergesagtes': 15715, 'abtauen': 15716, 'arctic': 15717, 'ocean': 15718, 'klimakatastrophe': 15719, 'linksrote': 15720, 'unfairen': 15721, 'magistratura': 15722, 'rossa': 15723, 'linksgerichtete': 15724, 'circo': 15725, 'rosso': 15726, '434italo': 15727, 'italiarai': 15728, 'schattenseiten': 15729, 'elektrobatterien': 15730, 'lithium': 15731, 'coltan': 15732, 'neodym': 15733, 'ausstoss': 15734, 'herstellung': 15735, 'entsorgung': 15736, 'recycling': 15737, 'mobil': 15738, 'eautos': 15739, 'emobility': 15740, 'akku': 15741, 'verfassungsklagen': 15742, 'vorratsdatenspeicherung': 15743, 'internetueberwachung': 15744, 'websites': 15745, 'brigitte': 15746, 'personalisierbare': 15747, 'nutzerinnen': 15748, 'threema': 15749, 'plaenen': 15750, 'kompromisse': 15751, 'einzugehen': 15752, 'nahtlos': 15753, 'totalitaerer': 15754, 'einreihen': 15755, 'fahrverbote': 15756, 'luftnummer': 15757, 'symbolpolitik': 15758, 'aktionismus': 15759, 'weltweites': 15760, 'presseecho': 15761, 'erzeugte': 15762, 'schasste': 15763, 'gesteht': 15764, 'beruhte': 15765, 'mueller1': 15766, 'daserste': 15767, 'kiel': 15768, 'grafisch': 15769, 'somme': 15770, 'emperaturen': 15771, 'gefaelschte': 15772, 'ipq': 15773, 'deklarie': 15774, 'parmaschinken': 15775, 'jambondeparme': 15776, 'ham': 15777, 'prosciuttodiparma': 15778, 'prosciuttodimodena': 15779, 'wachsende': 15780, 'hofsjoekull': 15781, 'langjoekull': 15782, 'vatnajoekull': 15783, 'jakobshavn': 15784, 'groenland': 15785, 'dehnen': 15786, 'vorhersage': 15787, 'eiszuwachs': 15788, 'tendenzioese': 15789, 'tolles': 15790, 'maestro': 15791, 'momentan': 15792, 'elfinale': 15793, 'erfinal': 15794, 'blackout': 15795, 'versorgungssicherheit': 15796, 'renewableenergy': 15797, '107': 15798, 'dritter': 15799, 'eeg': 15800, 'herzl': 15801, 'nationalfeie': 15802, 'festadellarepubblica': 15803, '1946': 15804, 'xy': 15805, 'breitscheid': 15806, 'ladan': 15807, 'afar': 15808, 'nische': 15809, 'omg': 15810, 'klappe': 15811, 'marie': 15812, 'hingst': 15813, 'familiaere': 15814, 'dlfnova': 15815, 'financialtimes': 15816, 'goldeneblogger': 15817, 'annegret': 15818, 'stillgestanden': 15819, 'intellektuelles': 15820, 'niederschmetternd': 15821, 'rheingold': 15822, 'badischer': 15823, 'hoek': 15824, 'van': 15825, 'faehre': 15826, '1952': 15827, 'nachdenklich2': 15828, 'haraldno': 15829, 'moritzmichelson': 15830, 'silastern': 15831, 'kopfgeld': 15832, 'ausgesetzt': 15833, 'fbimostwanted': 15834, 'weige': 15835, 'jordanien': 15836, 'heldin': 15837, 'ahlamtamimi': 15838, 'arnoldroth': 15839, 'malki': 15840, 'terroristin': 15841, 'ahlam': 15842, 'tamimi': 15843, 'sbarro': 15844, 'pizzeria': 15845, 'durchfueh': 15846, 'status': 15847, 'ermorden': 15848, 'schwangere': 15849, 'pst': 15850, 'unverdaechtigen': 15851, 'giss': 15852, 'oberfl': 15853, 'temperatur': 15854, 'vorhergesagten': 15855, 'wiedereinreise': 15856, 'dokumentie': 15857, 'gesetzwidrigen': 15858, 'unerlaubten': 15859, 'koerperlicher': 15860, 'schulfremden': 15861, 'deutschtuerken': 15862, 'charlottenburg': 15863, 'eingeordnet': 15864, 'antisem': 15865, 'buergerinitiative': 15866, 'massstabsgetreue': 15867, 'visualisierung': 15868, 'windkraftvorhaben': 15869, 'historiche': 15870, 'sababurg': 15871, 'nunezlaurent': 15872, 'sekr': 15873, 'pers': 15874, 'deradikalisierung': 15875, 'gerichtshof': 15876, 'unterstehen': 15877, 'justizministern': 15878, 'weisungen': 15879, 'exekutive': 15880, 'gen': 15881, 'litauen': 15882, 'justizbehoerde': 15883, 'speicher': 15884, 'erzeugung': 15885, 'verbrauch': 15886, 'elektr': 15887, 'waage': 15888, 'verbraucht': 15889, 'zeitpkt': 15890, 'sollfrequenz': 15891, '50hz': 15892, 'lastabwurf': 15893, 'abschaltung': 15894, 'konsumenten': 15895, 'franzoesischer': 15896, 'djihadist': 15897, '37j': 15898, 'toulouse': 15899, 'gemaess': 15900, 'nr': 15901, 'zugehoerigkeit': 15902, 'islamicstate': 15903, 'erhaengen': 15904, 'intervenieren': 15905, 'militanten': 15906, 'vorschule': 15907, 'rathaeuser': 15908, 'mundharmonika': 15909, 'luftballons': 15910, 'beraten': 15911, 'oesterr': 15912, 'ital': 15913, 'schariapolizei': 15914, 'uniform': 15915, 'verheerendes': 15916, 'awidmannmauz': 15917, 'sunniten': 15918, 'schiiten': 15919, 'verschlechte': 15920, 'religiondesfriedens': 15921, 'elschlaeger': 15922, 'klaesslerin': 15923, 'rechtem': 15924, 'noetiger': 15925, 'korinth': 15926, 'paul': 15927, 'schreyer': 15928, 'teusch': 15929, 'vorlaeufiges': 15930, 'schneefalls': 15931, 'skireso': 15932, 'eigentl': 15933, 'ski': 15934, 'reso': 15935, 'reopen': 15936, 'as': 15937, 'heavy': 15938, 'snowfall': 15939, 'hits': 15940, 'alps': 15941, 'ueberzeugend': 15942, 'glaubwuerdig': 15943, 'kerosinkatha': 15944, 'fidschiclaudia': 15945, 'duesendieter': 15946, 'berninger': 15947, 'flugvervot': 15948, 'abholzung': 15949, '216': 15950, '189': 15951, 'albaner': 15952, 'rumaenen': 15953, 'bengalen': 15954, 'mazedonier': 15955, 'brasilianer': 15956, 'afrikan': 15957, 'praegen': 15958, 'durchschnittseinkommen': 15959, 'bundesstaaten': 15960, 'giletsjaunes': 15961, 'protestieren': 15962, '1970': 15963, '95': 15964, '2100': 15965, '67': 15966, 'globalcompact': 15967, 'foermlich': 15968, 'waehrung': 15969, 'gesundheit': 15970, 'wenigsten': 15971, 'efa': 15972, 'verdi': 15973, 'ueberein': 15974, 'matteosalvinimi': 15975, 'juedisch': 15976, 'praegung': 15977, 'traditionen': 15978, 'priester': 15979, 'emotional': 15980, 'itodemocratico': 15981, 'movimento5stelle': 15982, 'm5s': 15983, 'elezionieuropee': 15984, 'gestiegene': 15985, 'rassemblementnational': 15986, 'rn': 15987, 'lrem': 15988, 'eelv': 15989, 'francia': 15990, 'erschreckende': 15991, 'zugewinne': 15992, 'strend': 15993, 'spa': 15994, 'aufwind': 15995, 'waehlerwanderung': 15996, 'punktet': 15997, '60jaehrigen': 15998, 'eistiftung': 15999, 'konradadenauerstiftung': 16000, 'kooperie': 16001, 'wahrheitsmedium': 16002, 'gesponse': 16003, 'wahlwerbung': 16004, 'schueren': 16005, 'lecker': 16006, 'toetungsa': 16007, 'landete': 16008, 'glykol': 16009, 'kommunistisches': 16010, 'manifest': 16011, 'marxismus': 16012, 'leninismus': 16013, 'fdj': 16014, 'studienjahr': 16015, 'p4fberlin': 16016, 'petervorsmann': 16017, 's4f': 16018, 'forschende': 16019, 'ergo': 16020, 'wiss': 16021, 'institutsangehoerige': 16022, 'kabarettist': 16023, 'zauberkuenstler': 16024, 'hirschhausen': 16025, 'dicker': 16026, 'werdender': 16027, 'psychologen': 16028, 'kenner': 16029, 'windparks': 16030, 'erfolgreiche': 16031, 'effizienz': 16032, 'messen': 16033, 'belastungen': 16034, 'buijs': 16035, 'gasterra': 16036, 'reinhard': 16037, 'zimmermann': 16038, 'musikprobe': 16039, '1891': 16040, 'dezimie': 16041, '700': 16042, 'gebildeten': 16043, 'verarmten': 16044, 'einmalige': 16045, 'integrationsleistung': 16046, 'mizrahim': 16047, 'proklamie': 16048, 'genetiker': 16049, 'plomin': 16050, 'akadem': 16051, 'genetik': 16052, 'faehigkeiten': 16053, 'erbbar': 16054, 'uschung': 16055, 'manipulation': 16056, 'harbers': 16057, 'einwanderungsminister': 16058, 'verschwiegen': 16059, 'januwatn': 16060, 'mtubeman': 16061, 'centuriocis': 16062, 'surfen': 16063, 'veroeffentl': 16064, 'auskalte': 16065, 'kucken': 16066, 'listen': 16067, 'meldeaccounts': 16068, 'stalinistischem': 16069, 'eifer': 16070, 'saeuberung': 16071, 'twittersecurity': 16072, 'freedomofspeech': 16073, 'kvinna': 16074, 'hopp': 16075, 'platte': 16076, 'vereine': 16077, 'giffeys': 16078, 'dachverbaende': 16079, 'popanz': 16080, '106': 16081, 'bravemurron': 16082, 'tqupre': 16083, 'armesdeutschla6': 16084, 'mad': 16085, '63': 16086, '9ku2d7vx4x6pebm': 16087, 'getrockneten': 16088, 'babys': 16089, 'stoff': 16090, 'gewickelt': 16091, 'rituale': 16092, 'verwendet': 16093, 'bek': 16094, 'holte': 16095, 'verschwand': 16096, 'venum84839107': 16097, 'venum': 16098, 'zweitaccount': 16099, 'gabriel08780473': 16100, 'gemeins': 16101, 'ruthlissy': 16102, 'detlefvoh7': 16103, 'bruderkanal': 16104, 'tvp': 16105, 'ideologischen': 16106, 'klassenkampf': 16107, 'imperialist': 16108, 'orf': 16109, 'verbund': 16110, 'populist': 16111, 'wirschaffendas': 16112, 'schneidt': 16113, 'umbringen': 16114, 'befremdlich': 16115, 'seebruecke': 16116, 'genesen': 16117, '20jaehriger': 16118, '35jaehrigen': 16119, 'kontaktschuld': 16120, 'conclusio': 16121, 'claudi': 16122, 'grossrazzia': 16123, 'ischer': 16124, 'aal': 16125, 'salam': 16126, '313': 16127, 'waffenhandel': 16128, 'schleuserkriminalitaet': 16129, 'passfaelschung': 16130, 'beschuldigte': 16131, 'eilicher': 16132, 'tendenzioeser': 16133, '2067': 16134, 'behaupteter': 16135, 'verordnungen': 16136, 'regulierungsmonster': 16137, 'kehrwoche': 16138, 'anni': 16139, 'else': 16140, 'bln': 16141, 'schreinerstr': 16142, 'treppenabsatz': 16143, 'wischen': 16144, 'hauswi': 16145, 'republikfluechtig': 16146, 'vorbildl': 16147, 'hausgemeinschaft': 16148, 'vollpflegeve': 16149, 'wohnungsverwaltung': 16150, 'nadel': 16151, 'zw': 16152, 'ueberragende': 16153, 'funktionsfaehigkeit': 16154, 'kanzleramts': 16155, 'preisgabe': 16156, 'fuehre': 16157, 'wiedergutzumachenden': 16158, 'ansehensverlust': 16159, 'spezialeinheit': 16160, 'sicherheitskraefte': 16161, 'bpol': 16162, 'kriminalpolizei': 16163, 'phantombild': 16164, 'katernberger': 16165, 'triebtaeter': 16166, 'haller': 16167, 'propagandisten': 16168, 'pakts': 16169, 'projekts': 16170, 'moralisierendem': 16171, 'belehrungsjournalismus': 16172, 'petra': 16173, 'hinz': 16174, 'faelscht': 16175, 'lebenslauf': 16176, 'glashaus': 16177, 'infogrebin': 16178, 'kmarseille2': 16179, 'dorisbrehm': 16180, 'netzistderspeicher': 16181, 'zusammenhaltwaehlen': 16182, 'verfassungswidrigen': 16183, 'individuum': 16184, 'zugerechnet': 16185, 'zr': 16186, '196': 16187, 'sveti': 16188, 'toma': 16189, 'slovenia': 16190, 'church': 16191, 'glises': 16192, 'krivec': 16193, 'hadithe': 16194, 'kriegszuege': 16195, 'judenprogrome': 16196, 'selbige': 16197, 'einschraenkungen': 16198, 'frauenrechte': 16199, 'fdgo': 16200, 'daucus': 16201, 'aureus': 16202, 'www': 16203, 'feministen': 16204, 'kuehn': 16205, 'ulle': 16206, 'pipapo': 16207, 'oezcan': 16208, 'pussymuetzen': 16209, 'evtl': 16210, 'ausschneiden': 16211, 'darstellung': 16212, 'esoter': 16213, 'siedlern': 16214, 'bioanbau': 16215, 'betaetigen': 16216, 'regional': 16217, 'gemuese': 16218, 'anbauen': 16219, 'rbb24': 16220, 'oops': 16221, 'gerichtsjournal': 16222, 'cou': 16223, 'housenews': 16224, 'postete': 16225, 'unvoreingenommenen': 16226, 'klage': 16227, 'architekten': 16228, 'ingenieuren': 16229, 'anwaelten': 16230, 'hinterblieb': 16231, 'fbi': 16232, 'fbi911lawsuit': 16233, 'yeah': 16234, 'bildungsstand': 16235, 'tiedje': 16236, 'speicherbaerbock': 16237, 'verstopft': 16238, 'netze': 16239, 'lincoln': 16240, 'slowakei': 16241, 'manuela': 16242, 'ueberleg': 16243, 'maliqi': 16244, 'hymne': 16245, 'kehre': 16246, 'coalition': 16247, 'iraqi': 16248, 'zwecks': 16249, 'rebuilding': 16250, 'syria': 16251, 'wage': 16252, 'traeumen': 16253, 'greatbritain': 16254, 'vollzogen': 16255, 'musikalisch': 16256, 'jedefalls': 16257, 'telaviv2019': 16258, 'normalzustand': 16259, 'verschwoerungstheorien': 16260, 'adivonpoes': 16261, 'reissmann': 16262, 'donalphonso': 16263, 'staatl': 16264, 'verschleiern': 16265, 'verwaltungsrichter': 16266, 'cheat': 16267, 'scammers': 16268, 'verschlusssache': 16269, 'dienstgebrauch': 16270, 'hinblick': 16271, 'staatswohl': 16272, 'beunruhigen': 16273, 'schwerwiegender': 16274, 'eingriff': 16275, 'clankriminalitaet': 16276, '225': 16277, 'staerkeren': 16278, 'instruments': 16279, 'messerverbot': 16280, 'pfannenverbot': 16281, 'muslimisch': 16282, 'jude': 16283, 'kontinentaldriftkonferenz': 16284, 'kontinentaldrift': 16285, '2090': 16286, 'stoerben': 16287, 'abwenden': 16288, 'driftnotstandes': 16289, 'zemmour': 16290, 'blieb': 16291, 'anarchist': 16292, 'dcb': 16293, 'est': 16294, 'ce': 16295, 'qu': 16296, 'tait': 16297, 'anarchiste': 16298, 'allemand': 16299, 'zusendung': 16300, 'pflegerin': 16301, 'wachkoma': 16302, 'musterdemokraten': 16303, 'mindeststeuer': 16304, 'europanichtdieantwo': 16305, 'wasistdiefrage': 16306, 'euisnoteurope': 16307, 'kommissaren': 16308, 'weitgehend': 16309, 'diktatorische': 16310, 'entscheidungsbefugnisse': 16311, 'verlacht': 16312, 'mummenschanz': 16313, 'doris': 16314, 'day': 16315, 'ikone': 16316, '97': 16317, 'klassenfoto': 16318, '2b': 16319, 'gesichtern': 16320, 'dreieinhalb': 16321, 'damaligen': 16322, 'strafbefehls': 16323, 'urkunden': 16324, 'aufgedeckten': 16325, 'konzentrieren': 16326, 'hhwahl': 16327, 'enthaltsamkeit': 16328, 'privatperson': 16329, 'nanny': 16330, 'oktroyierung': 16331, 'tendenzioeses': 16332, 'ethische': 16333, 'standards': 16334, 'codeofconduct': 16335, 'marilyn': 16336, 'monroe': 16337, 'marlene': 16338, '1955': 16339, 'photograph': 16340, 'milton': 16341, 'greene': 16342, 'kinderkreuzzug': 16343, 'pianistin': 16344, 'bankraeuberin': 16345, 'historischer': 16346, 'saschalobo': 16347, 'augstein': 16348, 'manuela12788891': 16349, 'menges': 16350, 'getwitte': 16351, 'ausgebildete': 16352, 'ausbildungszeit': 16353, 'pruefungsumfang': 16354, 'deutschlandweit': 16355, 'geregelt': 16356, 'zustaendig': 16357, 'gewerkes': 16358, 'beaarep': 16359, 'bra': 16360, 'touren': 16361, 'nwo': 16362, 'trojanische': 16363, 'annevanhalen': 16364, 'unkultivie': 16365, 'aufgewachtewelt': 16366, 'metal': 16367, 'ventil': 16368, 'erschleichung': 16369, 'leistungen': 16370, 'vollstaendiges': 16371, 'auslandsreisen': 16372, 'dankeschoen': 16373, 'finja': 16374, 'fleissarbeit': 16375, 'thomasgbauer': 16376, 'schuppen': 16377, 'shisha': 16378, 'geldwaeschebars': 16379, 'wettbueros': 16380, 'spielhallen': 16381, 'handylaeden': 16382, 'ins': 16383, 'frsuen': 16384, 'fluechtlingshelferinnen': 16385, 'fluechtlingsbesoffenheit': 16386, 'mollekuel': 16387, 'beginn': 16388, 'deindustriealisierung': 16389, 'rotrotgruen': 16390, 'isses': 16391, 'gruenrotromantischen': 16392, 'kosmos': 16393, 'renten': 16394, 'umfallen': 16395, 'gruenwaehler': 16396, 'drandreakahl1': 16397, 'visp': 16398, 'verbuchen': 16399, 'schnaeppchenjaeger': 16400, 'opel': 16401, 'kaufkraftverlustes': 16402, 'schuldige': 16403, 'aufbegeh': 16404, 'bedingte': 16405, 'noooiiiiinnn': 16406, 'hygienischen': 16407, 'aegisbridge': 16408, 'buden': 16409, 'gewinnspanne': 16410, 'frass': 16411, 'phoenix1108': 16412, 'griechen': 16413, 'nachbar': 16414, 'volkslobbyist': 16415, 'kaplan': 16416, 'schmeckten': 16417, 'konsistenz': 16418, 'doenergewuerz': 16419, 'bestanden': 16420, 'asiatische': 16421, 'mexikanische': 16422, 'angerueh': 16423, 'faktoren': 16424, 'verzicht': 16425, 'bedacht': 16426, 'gammelfleischmeldungen': 16427, 'doenerladen': 16428, 'tierquaelereiverdachts': 16429, 'einhergeht': 16430, 'gefressen': 16431, 'spinatdoener': 16432, 'muesli': 16433, 'heul': 16434, 'mischen': 16435, 'ernaehrungsapostel': 16436, 'predigen': 16437, 'ungesund': 16438, 'klimaschaedlich': 16439, 'kebab': 16440, 'doeneressverweigerung': 16441, 'biodeutscher': 16442, 'schaechtfleisch': 16443, 'djihad': 16444, 'gegessen': 16445, 'machtbeben': 16446, 'dirk': 16447, 'leichte': 16448, 'brise': 16449, 'geschundenen': 16450, 'rindern': 16451, 'frevel': 16452, 'betruebt': 16453, 'nei': 16454, 'freudig': 16455, 'mitgeschoepfe': 16456, 'jauchtsen': 16457, 'futureworldxxl': 16458, 'intervenie': 16459, 'fingen': 16460, 'schliessungen': 16461, '2025': 16462, 'organtransplantations': 16463, 'boulevard': 16464, 'voro': 16465, 'beirut': 16466, 'enorme': 16467, 'gewinne': 16468, 'eingefahren': 16469, 'leidtragenden': 16470, 'jeher': 16471, 'perversesten': 16472, 'herangezogen': 16473, 'perverser': 16474, 'wahnsinniger': 16475, 'sonnenstich': 16476, 'ausgedacht': 16477, 'zaehlt': 16478, 'meiste': 16479, 'tiefste': 16480, 'provinz': 16481, 'verschwoerungsopfer': 16482, 'verhallt': 16483, 'informationsblasen': 16484, 'kohlekraft': 16485, 'unnoetig': 16486, 'automarken': 16487, 'umzuruesten': 16488, 'saubere': 16489, 'motoren': 16490, 'brennstoffzellen': 16491, 'elektroantrieb': 16492, 'georgloesel': 16493, 'kirchenlehre': 16494, 'schluesse': 16495, 'werben': 16496, 'ekelhaftes': 16497, 'nazipack': 16498, 'arbeitsmarktpolitische': 16499, 'umweltthemen': 16500, 'waehlbar': 16501, 'moritzbhg': 16502, 'arnistboehse': 16503, 'ueberholen': 16504, 'mountaindream5': 16505, 'durchdachte': 16506, 'konzepte': 16507, 'echauffieren': 16508, 'biodeutschsein': 16509, 'eliteableitung': 16510, 'massenware': 16511, 'polizeikommissar': 16512, 'goebbels': 16513, 'abgelegt': 16514, 'verhoehnt': 16515, 'vollgas': 16516, 'demokratiestirbt': 16517, 'noneo': 16518, 'lebensplanung': 16519, 'aufgegangen': 16520, 'schuldigen': 16521, 'luciame': 16522, 'gesinnungstechnische': 16523, 'sspirale': 16524, 'weiser': 16525, 'vogelschiss': 16526, 'ueberfaellig': 16527, 'lebensaufgabe': 16528, 'hypen': 16529, 'besorgt': 16530, 'talkshows': 16531, 'politmagazine': 16532, 'maximale': 16533, 'aufmerksamkeitsoekonomie': 16534, 'zueguesurfer': 16535, 'grundordnung': 16536, 'gehirnlos': 16537, 'doktorarbeit': 16538, 'unterdietfu': 16539, 'lupe': 16540, 'neuwe': 16541, 'ware': 16542, 'naturschutz': 16543, 'milliardengewinn': 16544, 'kretschmers': 16545, 'kleinhirn': 16546, 'au': 16547, 'weia': 16548, 'unterlaufen': 16549, 'versehen': 16550, 'long': 16551, 'dong': 16552, 'hohlen': 16553, 'moechtegern': 16554, 'nsafd': 16555, 'hetz': 16556, 'rechtsversifften': 16557, 'ecken': 16558, 'flatrate': 16559, 'dauerschleife': 16560, 'aufgeht': 16561, 'geoutet': 16562, 'dushan': 16563, 'geduscht': 16564, 'schautnichtweg': 16565, 'armer': 16566, 'dat': 16567, 'lahmemichaela': 16568, 'durchgeknallt': 16569, 'erwaehnt': 16570, 'hetzkraehe': 16571, 'abgeordnetenentschaedigung': 16572, '780': 16573, 'einziger': 16574, 'moralischer': 16575, 'standard': 16576, 'zhbbibo': 16577, 'duschhahn': 16578, 'verwechseln': 16579, 'aufgepeitscht': 16580, 'ehrlichen': 16581, 'niemalsrechts': 16582, 'ehren': 16583, 'zutun': 16584, 'umsatz': 16585, 'energiebarone': 16586, 'windraedern': 16587, 'geschrottet': 16588, 'geltungsbeduerftige': 16589, 'loveguerillos': 16590, 'aufrechte': 16591, 'herzblut': 16592, 'vielfaeltiges': 16593, 'versinkt': 16594, 'ueblen': 16595, 'reichstagsbrandner': 16596, 'bekackte': 16597, 'kabarett': 16598, 'demenz': 16599, 'vorzuwerfen': 16600, 'unredlich': 16601, 'demenzkranken': 16602, 'faktoid': 16603, 'irr': 16604, 'weitsicht': 16605, 'snoopy': 16606, 'ritalin': 16607, 'leg': 16608, 'kriegst': 16609, 'soziopath': 16610, 'notorische': 16611, 'luegnerin': 16612, 'hassueberschuss': 16613, 'verzweifelt': 16614, 'aemwe3007': 16615, 'wahlkampfeinmischung': 16616, 'ezimmer': 16617, 'fummeln': 16618, 'kloeten': 16619, 'hmh': 16620, 'wurschd': 16621, 'endeffekt': 16622, 'trans': 16623, 'tschaeaeaeaender': 16624, 'laaangweilig': 16625, 'nervt': 16626, 'hetero': 16627, 'pussys': 16628, 'steh': 16629, 'tierreich': 16630, 'homosexuelles': 16631, '1500': 16632, 'unnatuerlich': 16633, 'variante': 16634, 'dahingestellt': 16635, 'anbeginn': 16636, 'verpoent': 16637, 'hingezogen': 16638, 'zurschau': 16639, 'guck': 16640, 'gaypride': 16641, 'paraden': 16642, 'normalen': 16643, 'fluss': 16644, 'luna': 16645, 'l0veg00d': 16646, 'mamis': 16647, 'flugreisen': 16648, 'benennt': 16649, 'harryschloemer': 16650, 'gemuetlich': 16651, 'elektrogrill': 16652, 'geschlossener': 16653, 'anstalten': 16654, 'rutscht': 16655, 'befallen': 16656, 'trinken': 16657, 'schlucken': 16658, 'seyfe': 16659, 'therapieren': 16660, 'dienstleistung': 16661, 'nullachtk': 16662, 'tiefflieger': 16663, 'dierrw': 16664, 'hs': 16665, 'izzda': 16666, 'sprachen': 16667, 'landhaustussy': 16668, 'kannste': 16669, 'garnicht': 16670, 'abgefuellte': 16671, 'vollscheisse': 16672, 'ballons': 16673, 'unmassen': 16674, 'deutschzuerst': 16675, 'himmels': 16676, 'primitivlinge': 16677, 'guete': 16678, '98763': 16679, 'kurztelefonat': 16680, 'nekrophilen': 16681, 'leichenficker': 16682, 'hastala40450101': 16683, 'aussereheliches': 16684, 'willy': 16685, 'rassenmischling': 16686, 'ficke': 16687, 'stehst': 16688, 'frazionetoskana': 16689, 'vornehmen': 16690, 'icht': 16691, 'silviaherrmann': 16692, 'immergruener': 16693, 'halbschmarotzer': 16694, 'gastfreundschaft': 16695, 'tugend': 16696, 'veranlasst': 16697, 'obdach': 16698, 'zundherzlich': 16699, 'unmuendiger': 16700, 'gebaermaschine': 16701, 'hur': 16702, 'gewaehlte': 16703, 'ziegen': 16704, 'genen': 16705, 'sheelockmaier': 16706, 'naziaufmarsch': 16707, 'neger': 16708, 'gewuenscht': 16709, 'tacken': 16710, 'gossiger': 16711, 'ausnahmen': 16712, 'regel': 16713, 'schrumpft': 16714, 'muhahaha': 16715, 'spiessigkeit': 16716, 'tarnt': 16717, 'engstirnigkeit': 16718, 'regulierungswut': 16719, 'charakterlos': 16720, 'sesselkleber': 16721, 'wuerdig': 16722, 'wahrgenommen': 16723, 'huhuhuhuu': 16724, 'teuteburger': 16725, 'willkommensdingsbums': 16726, 'massenhinrichtungen': 16727, 'list': 16728, 'feierlichkeiten': 16729, 'mitgefeie': 16730, 'bonifatius': 16731, 'faellte': 16732, 'donareiche': 16733, 'gegenwa': 16734, 'schwe': 16735, 'fokussieren': 16736, 'erkenntnisprozesse': 16737, 'relativie': 16738, 'fleiss': 16739, 'arbeitenden': 16740, 'profitie': 16741, 'jahresendmaerkte': 16742, 'kackwetter': 16743, 'menschengemacht': 16744, 'selbstbinden': 16745, 'beklatscht': 16746, 'extremer': 16747, 'urknall': 16748, 'fangen': 16749, 'annehmen': 16750, 'scheiterhaufen': 16751, 'luegendetektor': 16752, 'gaudi': 16753, 'geneigt': 16754, 'psycho': 16755, 'strippenzieher': 16756, 'grundverbloedeten': 16757, 'rankommt': 16758, 'momentanen': 16759, 'betrag': 16760, 'foerdergeldern': 16761, 'unsinnsprojekte': 16762, 'oemmes4': 16763, 'whataboutism': 16764, 'systementreuen': 16765, 'fritzfizz': 16766, 'ausrichtung': 16767, 'realitaetsverweigerung': 16768, 'meinungsaeuserung': 16769, 'nachommen': 16770, 'anheizen': 16771, 'leisetreten': 16772, 'systemstoeckchen': 16773, 'springt': 16774, 'investigativ': 16775, 'manipulative': 16776, 'polarisierend': 16777, 'gelobt': 16778, 'bodenhaftung': 16779, 'frreschke': 16780, 'weissafrikaner': 16781, 'hihihi': 16782, 'hinterweltlerisch': 16783, 'rueckgaengig': 16784, 'londoner': 16785, 'hierarchie': 16786, '51jaehrige': 16787, 'nafris': 16788, 'wieka16': 16789, 'umwegig': 16790, 'zunehmen': 16791, 'armes': 16792, 'ordnen': 16793, 'eroberer': 16794, 'rol': 16795, '0815': 16796, 'goldstueckalarm': 16797, 'muslimischer': 16798, 'vornerein': 16799, 'behandelt': 16800, 'zuspruch': 16801, 'gefaehrdet': 16802, 'falscher': 16803, 'gleichfalls': 16804, 'baujahr': 16805, '1959': 16806, 'musten': 16807, 'buchenwald': 16808, 'uebernommen': 16809, 'regierungsgeschaefte': 16810, 'lebst': 16811, 'burg': 16812, 'zugezogenen': 16813, 'rollos': 16814, 'kommst': 16815, 'zone': 16816, 'indem': 16817, 'polizeistreife': 16818, 'spendensumpf': 16819, 'bemaengeln': 16820, 'eifinanzierung': 16821, 'dersende': 16822, 'station': 16823, 'speziell': 16824, 'angepriesene': 16825, 'transferleistungen': 16826, 'erbringen': 16827, '10gb': 16828, 'ersichtlich': 16829, 'sende': 16830, 'masten': 16831, 'schwierigkeit': 16832, 'akquirieren': 16833, 'wohnbereich': 16834, 'beschlag': 16835, 'kurkamp': 16836, 'schroeder': 16837, 'lamnitzer': 16838, 'kindererziehungszeiten': 16839, 'versorgungsausgleich': 16840, 'ausfall': 16841, 'schwangerschaft': 16842, 'niederkunft': 16843, 'erziehungsleistungen': 16844, 'merkwuerdig': 16845, 'wettstreit': 16846, 'schwestern': 16847, 'unbekanntheit': 16848, 'zugeschlagen': 16849}\n"
          ]
        }
      ]
    },
    {
      "cell_type": "markdown",
      "source": [
        "# encoding or sequencing\n"
      ],
      "metadata": {
        "id": "mRzlwLYqKY8k"
      }
    },
    {
      "cell_type": "code",
      "source": [
        "encoded_clean_text_stem = tok_all.texts_to_sequences(clean_text_stem)\n",
        "print(clean_text_stem[0])\n",
        "print(encoded_clean_text_stem[0])"
      ],
      "metadata": {
        "colab": {
          "base_uri": "https://localhost:8080/"
        },
        "id": "LvQYVAQ9KUa0",
        "outputId": "943d8339-58d2-4c56-bb7b-8255a9e02c70"
      },
      "execution_count": null,
      "outputs": [
        {
          "output_type": "stream",
          "name": "stdout",
          "text": [
            "frank rennicke   stolz  \n",
            "[932, 6275, 546]\n"
          ]
        }
      ]
    },
    {
      "cell_type": "markdown",
      "source": [
        "# Pre-padding\n"
      ],
      "metadata": {
        "id": "wWorwY-hKcBK"
      }
    },
    {
      "cell_type": "code",
      "source": [
        "from keras.preprocessing import sequence\n",
        "max_length = 100\n",
        "padded_clean_text_stem = sequence.pad_sequences(encoded_clean_text_stem, maxlen=max_length, padding='pre')"
      ],
      "metadata": {
        "id": "v911ZLQqKfPi"
      },
      "execution_count": null,
      "outputs": []
    },
    {
      "cell_type": "code",
      "source": [],
      "metadata": {
        "id": "3ihwYi0otWyf"
      },
      "execution_count": null,
      "outputs": []
    },
    {
      "cell_type": "markdown",
      "source": [
        "# Reading Test data and Pre-processing\n"
      ],
      "metadata": {
        "id": "jYqmeRiXKhu7"
      }
    },
    {
      "cell_type": "code",
      "source": [
        "import csv\n",
        "data_t = pd.read_csv(\"/content/germeval2019GoldLabelsSubtask1_2.txt\", sep=\"\\t\", encoding = \"UTF-8\", names=(\"text\", \"task1\", \"task2\"))\n",
        "pd.set_option('display.max_colwidth',150)\n",
        "data_t.head(10)\n",
        "\n",
        "data_t['task1'] = data_t['task1'].str.replace('OTHER', 'NOT')\n",
        "data_t\n",
        "data_t['task1'] = data_t['task1'].str.replace('OFFENSE', 'HOF')\n",
        "data_t\n",
        "\n"
      ],
      "metadata": {
        "colab": {
          "base_uri": "https://localhost:8080/"
        },
        "id": "pLKHp4MaKhSs",
        "outputId": "1e6bcd39-0dd8-42dc-b8f1-31dcf8f06acc"
      },
      "execution_count": null,
      "outputs": [
        {
          "output_type": "execute_result",
          "data": {
            "text/plain": [
              "                                                                                                                                                       text  \\\n",
              "0                                       @JanZimmHHB @mopo Komisch das die Realitätsverweigerung immer von linken erbärmlichen Correctiv Accounts ausgeht...   \n",
              "1                   @faznet @Gruene_Europa @SPDEuropa @CDU CDU steht seid Strauss, Kohl, Schäuble, vdLeyen für Korruption, Schwarzgeld, und dies überall...   \n",
              "2                                                                @DLFNachrichten Die Gesichter, Namen, Religion der Täter würde zur Aufklärung beitragen...   \n",
              "3     @welt Wie verwirrt muss man sein um sich zu weigern die Tatsachen anzuerkennen, das dieser Hass von Ferkel importiert wurde....was bezweckt man da...   \n",
              "4     @hacker_1991 @torben_braga Weil die AfD den Ferkelfunk abschaffen will, deshalb haben die Linken Zecken, Schmarotzer Angst für ihr kacken arbeiten...   \n",
              "...                                                                                                                                                     ...   \n",
              "3026  Es fand aber nie eine Emanzipierungs-Phase der Zivil-Bevölkerung statt (wahrscheinlich weil das Militär jeder Abweichung im Wege stand). Gesellsch...   \n",
              "3027  Um es klar zu stellen: Ich will hier kein White-Washing betreiben (hätte er die Unterstützung der Kurden gegen die Entente-Mächte wie versprochen ...   \n",
              "3028       Und dann habe ich da noch die McArthur-Briefe im Sinn. Alles in allem ist mein Eindruck der, dass er damals moderner war als heutige Kemalisten.   \n",
              "3029        al sehen wer der Ersatzmann wird. Hier könnte man ggf. die aktuelle Richtung des VS korrigieren. Erfahrungsbedingt habe ich da etliche Zweifel.   \n",
              "3030  @JKasek Oder die Bäume. Bin mal in 'nem Wald spazieren gegangen und so'n Baum griff mich doch glatt mit 'nem Zapfen an. Bin noch mal mit meinem Le...   \n",
              "\n",
              "     task1   task2  \n",
              "0      HOF  INSULT  \n",
              "1      HOF   ABUSE  \n",
              "2      NOT   OTHER  \n",
              "3      HOF   ABUSE  \n",
              "4      HOF   ABUSE  \n",
              "...    ...     ...  \n",
              "3026   NOT   OTHER  \n",
              "3027   NOT   OTHER  \n",
              "3028   NOT   OTHER  \n",
              "3029   NOT   OTHER  \n",
              "3030   NOT   OTHER  \n",
              "\n",
              "[3031 rows x 3 columns]"
            ],
            "text/html": [
              "\n",
              "  <div id=\"df-fa2125e1-79c0-40eb-a00f-f15ea518c44c\">\n",
              "    <div class=\"colab-df-container\">\n",
              "      <div>\n",
              "<style scoped>\n",
              "    .dataframe tbody tr th:only-of-type {\n",
              "        vertical-align: middle;\n",
              "    }\n",
              "\n",
              "    .dataframe tbody tr th {\n",
              "        vertical-align: top;\n",
              "    }\n",
              "\n",
              "    .dataframe thead th {\n",
              "        text-align: right;\n",
              "    }\n",
              "</style>\n",
              "<table border=\"1\" class=\"dataframe\">\n",
              "  <thead>\n",
              "    <tr style=\"text-align: right;\">\n",
              "      <th></th>\n",
              "      <th>text</th>\n",
              "      <th>task1</th>\n",
              "      <th>task2</th>\n",
              "    </tr>\n",
              "  </thead>\n",
              "  <tbody>\n",
              "    <tr>\n",
              "      <th>0</th>\n",
              "      <td>@JanZimmHHB @mopo Komisch das die Realitätsverweigerung immer von linken erbärmlichen Correctiv Accounts ausgeht...</td>\n",
              "      <td>HOF</td>\n",
              "      <td>INSULT</td>\n",
              "    </tr>\n",
              "    <tr>\n",
              "      <th>1</th>\n",
              "      <td>@faznet @Gruene_Europa @SPDEuropa @CDU CDU steht seid Strauss, Kohl, Schäuble, vdLeyen für Korruption, Schwarzgeld, und dies überall...</td>\n",
              "      <td>HOF</td>\n",
              "      <td>ABUSE</td>\n",
              "    </tr>\n",
              "    <tr>\n",
              "      <th>2</th>\n",
              "      <td>@DLFNachrichten Die Gesichter, Namen, Religion der Täter würde zur Aufklärung beitragen...</td>\n",
              "      <td>NOT</td>\n",
              "      <td>OTHER</td>\n",
              "    </tr>\n",
              "    <tr>\n",
              "      <th>3</th>\n",
              "      <td>@welt Wie verwirrt muss man sein um sich zu weigern die Tatsachen anzuerkennen, das dieser Hass von Ferkel importiert wurde....was bezweckt man da...</td>\n",
              "      <td>HOF</td>\n",
              "      <td>ABUSE</td>\n",
              "    </tr>\n",
              "    <tr>\n",
              "      <th>4</th>\n",
              "      <td>@hacker_1991 @torben_braga Weil die AfD den Ferkelfunk abschaffen will, deshalb haben die Linken Zecken, Schmarotzer Angst für ihr kacken arbeiten...</td>\n",
              "      <td>HOF</td>\n",
              "      <td>ABUSE</td>\n",
              "    </tr>\n",
              "    <tr>\n",
              "      <th>...</th>\n",
              "      <td>...</td>\n",
              "      <td>...</td>\n",
              "      <td>...</td>\n",
              "    </tr>\n",
              "    <tr>\n",
              "      <th>3026</th>\n",
              "      <td>Es fand aber nie eine Emanzipierungs-Phase der Zivil-Bevölkerung statt (wahrscheinlich weil das Militär jeder Abweichung im Wege stand). Gesellsch...</td>\n",
              "      <td>NOT</td>\n",
              "      <td>OTHER</td>\n",
              "    </tr>\n",
              "    <tr>\n",
              "      <th>3027</th>\n",
              "      <td>Um es klar zu stellen: Ich will hier kein White-Washing betreiben (hätte er die Unterstützung der Kurden gegen die Entente-Mächte wie versprochen ...</td>\n",
              "      <td>NOT</td>\n",
              "      <td>OTHER</td>\n",
              "    </tr>\n",
              "    <tr>\n",
              "      <th>3028</th>\n",
              "      <td>Und dann habe ich da noch die McArthur-Briefe im Sinn. Alles in allem ist mein Eindruck der, dass er damals moderner war als heutige Kemalisten.</td>\n",
              "      <td>NOT</td>\n",
              "      <td>OTHER</td>\n",
              "    </tr>\n",
              "    <tr>\n",
              "      <th>3029</th>\n",
              "      <td>al sehen wer der Ersatzmann wird. Hier könnte man ggf. die aktuelle Richtung des VS korrigieren. Erfahrungsbedingt habe ich da etliche Zweifel.</td>\n",
              "      <td>NOT</td>\n",
              "      <td>OTHER</td>\n",
              "    </tr>\n",
              "    <tr>\n",
              "      <th>3030</th>\n",
              "      <td>@JKasek Oder die Bäume. Bin mal in 'nem Wald spazieren gegangen und so'n Baum griff mich doch glatt mit 'nem Zapfen an. Bin noch mal mit meinem Le...</td>\n",
              "      <td>NOT</td>\n",
              "      <td>OTHER</td>\n",
              "    </tr>\n",
              "  </tbody>\n",
              "</table>\n",
              "<p>3031 rows × 3 columns</p>\n",
              "</div>\n",
              "      <button class=\"colab-df-convert\" onclick=\"convertToInteractive('df-fa2125e1-79c0-40eb-a00f-f15ea518c44c')\"\n",
              "              title=\"Convert this dataframe to an interactive table.\"\n",
              "              style=\"display:none;\">\n",
              "        \n",
              "  <svg xmlns=\"http://www.w3.org/2000/svg\" height=\"24px\"viewBox=\"0 0 24 24\"\n",
              "       width=\"24px\">\n",
              "    <path d=\"M0 0h24v24H0V0z\" fill=\"none\"/>\n",
              "    <path d=\"M18.56 5.44l.94 2.06.94-2.06 2.06-.94-2.06-.94-.94-2.06-.94 2.06-2.06.94zm-11 1L8.5 8.5l.94-2.06 2.06-.94-2.06-.94L8.5 2.5l-.94 2.06-2.06.94zm10 10l.94 2.06.94-2.06 2.06-.94-2.06-.94-.94-2.06-.94 2.06-2.06.94z\"/><path d=\"M17.41 7.96l-1.37-1.37c-.4-.4-.92-.59-1.43-.59-.52 0-1.04.2-1.43.59L10.3 9.45l-7.72 7.72c-.78.78-.78 2.05 0 2.83L4 21.41c.39.39.9.59 1.41.59.51 0 1.02-.2 1.41-.59l7.78-7.78 2.81-2.81c.8-.78.8-2.07 0-2.86zM5.41 20L4 18.59l7.72-7.72 1.47 1.35L5.41 20z\"/>\n",
              "  </svg>\n",
              "      </button>\n",
              "      \n",
              "  <style>\n",
              "    .colab-df-container {\n",
              "      display:flex;\n",
              "      flex-wrap:wrap;\n",
              "      gap: 12px;\n",
              "    }\n",
              "\n",
              "    .colab-df-convert {\n",
              "      background-color: #E8F0FE;\n",
              "      border: none;\n",
              "      border-radius: 50%;\n",
              "      cursor: pointer;\n",
              "      display: none;\n",
              "      fill: #1967D2;\n",
              "      height: 32px;\n",
              "      padding: 0 0 0 0;\n",
              "      width: 32px;\n",
              "    }\n",
              "\n",
              "    .colab-df-convert:hover {\n",
              "      background-color: #E2EBFA;\n",
              "      box-shadow: 0px 1px 2px rgba(60, 64, 67, 0.3), 0px 1px 3px 1px rgba(60, 64, 67, 0.15);\n",
              "      fill: #174EA6;\n",
              "    }\n",
              "\n",
              "    [theme=dark] .colab-df-convert {\n",
              "      background-color: #3B4455;\n",
              "      fill: #D2E3FC;\n",
              "    }\n",
              "\n",
              "    [theme=dark] .colab-df-convert:hover {\n",
              "      background-color: #434B5C;\n",
              "      box-shadow: 0px 1px 3px 1px rgba(0, 0, 0, 0.15);\n",
              "      filter: drop-shadow(0px 1px 2px rgba(0, 0, 0, 0.3));\n",
              "      fill: #FFFFFF;\n",
              "    }\n",
              "  </style>\n",
              "\n",
              "      <script>\n",
              "        const buttonEl =\n",
              "          document.querySelector('#df-fa2125e1-79c0-40eb-a00f-f15ea518c44c button.colab-df-convert');\n",
              "        buttonEl.style.display =\n",
              "          google.colab.kernel.accessAllowed ? 'block' : 'none';\n",
              "\n",
              "        async function convertToInteractive(key) {\n",
              "          const element = document.querySelector('#df-fa2125e1-79c0-40eb-a00f-f15ea518c44c');\n",
              "          const dataTable =\n",
              "            await google.colab.kernel.invokeFunction('convertToInteractive',\n",
              "                                                     [key], {});\n",
              "          if (!dataTable) return;\n",
              "\n",
              "          const docLinkHtml = 'Like what you see? Visit the ' +\n",
              "            '<a target=\"_blank\" href=https://colab.research.google.com/notebooks/data_table.ipynb>data table notebook</a>'\n",
              "            + ' to learn more about interactive tables.';\n",
              "          element.innerHTML = '';\n",
              "          dataTable['output_type'] = 'display_data';\n",
              "          await google.colab.output.renderOutput(dataTable, element);\n",
              "          const docLink = document.createElement('div');\n",
              "          docLink.innerHTML = docLinkHtml;\n",
              "          element.appendChild(docLink);\n",
              "        }\n",
              "      </script>\n",
              "    </div>\n",
              "  </div>\n",
              "  "
            ]
          },
          "metadata": {},
          "execution_count": 27
        }
      ]
    },
    {
      "cell_type": "code",
      "source": [
        "data_t.shape"
      ],
      "metadata": {
        "colab": {
          "base_uri": "https://localhost:8080/"
        },
        "id": "QrkMiNNVKrH_",
        "outputId": "421f282c-3afb-4df1-ef0f-e8a2a60fcae1"
      },
      "execution_count": null,
      "outputs": [
        {
          "output_type": "execute_result",
          "data": {
            "text/plain": [
              "(3031, 3)"
            ]
          },
          "metadata": {},
          "execution_count": 28
        }
      ]
    },
    {
      "cell_type": "code",
      "source": [
        "print(data_t.dtypes)"
      ],
      "metadata": {
        "colab": {
          "base_uri": "https://localhost:8080/"
        },
        "id": "MSYUUjUQKuqR",
        "outputId": "2bb425df-d59b-4b58-faa2-8aece5f136d7"
      },
      "execution_count": null,
      "outputs": [
        {
          "output_type": "stream",
          "name": "stdout",
          "text": [
            "text     object\n",
            "task1    object\n",
            "task2    object\n",
            "dtype: object\n"
          ]
        }
      ]
    },
    {
      "cell_type": "code",
      "source": [
        "\n",
        "\n",
        "label_t = data_t['task1']\n",
        "label_t.head()\n",
        "\n"
      ],
      "metadata": {
        "colab": {
          "base_uri": "https://localhost:8080/"
        },
        "id": "o-We4mNjKwHA",
        "outputId": "16f814d8-dd49-4cd2-ce3a-d2a101b64002"
      },
      "execution_count": null,
      "outputs": [
        {
          "output_type": "execute_result",
          "data": {
            "text/plain": [
              "0    HOF\n",
              "1    HOF\n",
              "2    NOT\n",
              "3    HOF\n",
              "4    HOF\n",
              "Name: task1, dtype: object"
            ]
          },
          "metadata": {},
          "execution_count": 30
        }
      ]
    },
    {
      "cell_type": "code",
      "source": [
        "print(label_t.value_counts())\n",
        "import matplotlib.pyplot as plt\n",
        "label_t.value_counts().plot(kind='bar', color='red')"
      ],
      "metadata": {
        "colab": {
          "base_uri": "https://localhost:8080/"
        },
        "id": "EO_U9aM1Kxpa",
        "outputId": "824179f6-14a8-4ca0-c537-188eb6065107"
      },
      "execution_count": null,
      "outputs": [
        {
          "output_type": "stream",
          "name": "stdout",
          "text": [
            "NOT    2061\n",
            "HOF     970\n",
            "Name: task1, dtype: int64\n"
          ]
        },
        {
          "output_type": "execute_result",
          "data": {
            "text/plain": [
              "<matplotlib.axes._subplots.AxesSubplot at 0x7fb86c064e10>"
            ]
          },
          "metadata": {},
          "execution_count": 31
        },
        {
          "output_type": "display_data",
          "data": {
            "text/plain": [
              "<Figure size 432x288 with 1 Axes>"
            ],
            "image/png": "[encoded data removed]"
          },
          "metadata": {
            "needs_background": "light"
          }
        }
      ]
    },
    {
      "cell_type": "code",
      "source": [
        "\n",
        "\n",
        "import numpy as np\n",
        "classes_list_t = [\"HOF\",\"NOT\"]\n",
        "label_t_index = data_t['task1'].apply(classes_list_t.index)\n",
        "final_label_t = np.asarray(label_t_index)\n",
        "print(final_label_t[:10])\n",
        "\n"
      ],
      "metadata": {
        "colab": {
          "base_uri": "https://localhost:8080/"
        },
        "id": "ckCObbaYKzZz",
        "outputId": "b31461c3-c481-402f-8c6f-70b7229e6aa8"
      },
      "execution_count": null,
      "outputs": [
        {
          "output_type": "stream",
          "name": "stdout",
          "text": [
            "[0 0 1 0 0 1 1 0 0 0]\n"
          ]
        }
      ]
    },
    {
      "cell_type": "code",
      "source": [
        "\n",
        "\n",
        "from keras.utils.np_utils import to_categorical\n",
        "label_twoDimension_t = to_categorical(final_label_t, num_classes=2)\n",
        "\n"
      ],
      "metadata": {
        "id": "JivaT_m3K1Ww"
      },
      "execution_count": null,
      "outputs": []
    },
    {
      "cell_type": "code",
      "source": [
        "print(label_twoDimension_t[:10])"
      ],
      "metadata": {
        "colab": {
          "base_uri": "https://localhost:8080/"
        },
        "id": "U1SXNpS7K3L5",
        "outputId": "99c48930-a233-4cd3-f3c7-8a148266acc5"
      },
      "execution_count": null,
      "outputs": [
        {
          "output_type": "stream",
          "name": "stdout",
          "text": [
            "[[1. 0.]\n",
            " [1. 0.]\n",
            " [0. 1.]\n",
            " [1. 0.]\n",
            " [1. 0.]\n",
            " [0. 1.]\n",
            " [0. 1.]\n",
            " [1. 0.]\n",
            " [1. 0.]\n",
            " [1. 0.]]\n"
          ]
        }
      ]
    },
    {
      "cell_type": "code",
      "source": [
        "\n",
        "\n",
        "text_t = data_t['text']\n",
        "text_t.head(10)\n",
        "\n"
      ],
      "metadata": {
        "colab": {
          "base_uri": "https://localhost:8080/"
        },
        "id": "B4ok6nElK4sb",
        "outputId": "ff672d48-ff25-427d-aa46-704a04024ffa"
      },
      "execution_count": null,
      "outputs": [
        {
          "output_type": "execute_result",
          "data": {
            "text/plain": [
              "0                                      @JanZimmHHB @mopo Komisch das die Realitätsverweigerung immer von linken erbärmlichen Correctiv Accounts ausgeht...\n",
              "1                  @faznet @Gruene_Europa @SPDEuropa @CDU CDU steht seid Strauss, Kohl, Schäuble, vdLeyen für Korruption, Schwarzgeld, und dies überall...\n",
              "2                                                               @DLFNachrichten Die Gesichter, Namen, Religion der Täter würde zur Aufklärung beitragen...\n",
              "3    @welt Wie verwirrt muss man sein um sich zu weigern die Tatsachen anzuerkennen, das dieser Hass von Ferkel importiert wurde....was bezweckt man da...\n",
              "4    @hacker_1991 @torben_braga Weil die AfD den Ferkelfunk abschaffen will, deshalb haben die Linken Zecken, Schmarotzer Angst für ihr kacken arbeiten...\n",
              "5    @aktuelle_stunde Also beim Fall Birmingham, England war definitiv weniger Empörung, weniger Berichterstattung, wenn man ehrlich mit sich ist gab e...\n",
              "6                                             @StZ_NEWS Aber bei läppischen 130.000 Euro der AfD den Welt, Demokratieuntergang herbei schreiben....wie süß\n",
              "7               @StZ_NEWS Schäuble wird wissen woher dieses Nazi Geld kommt....FJS hatte doch auch glasige Augen vor Freude wenn vom Führer die Rede war..\n",
              "8    @welt Komisch, wäre dieser Betrug in der Nähe der AfD passiert wäre eine andere Empörung erkennbar, so aber da es Ferkel und Co trifft werden Baue...\n",
              "9    @investigativ_de @welt @Tim_Roehn @ChSchweppe Und alle Wege führen zu von der Leyen, was dann verwundert das die immer noch im Amt ist, wobei, im ...\n",
              "Name: text, dtype: object"
            ]
          },
          "metadata": {},
          "execution_count": 35
        }
      ]
    },
    {
      "cell_type": "code",
      "source": [
        "test_wo_umlauts = text_t.apply(lambda x: remove_umlaut(x))"
      ],
      "metadata": {
        "id": "gVKigcCEY1o9"
      },
      "execution_count": null,
      "outputs": []
    },
    {
      "cell_type": "code",
      "source": [
        "\n",
        "\n",
        "import re \n",
        "\n",
        "def text_clean(text):\n",
        "    ''' Pre process and convert texts to a list of words '''\n",
        "    \n",
        "    text=text.lower()\n",
        "\n",
        "    # Clean the text\n",
        "    text = re.sub(r\"[^A-Za-z0-9^,!.\\/'+-=]\", \" \", text)\n",
        "    text = re.sub('https?://\\S+|www\\.\\S+', \"\", text)\n",
        "    text = re.sub(r\"rt\", \" \", text)\n",
        "\n",
        "    return text\n",
        "\n"
      ],
      "metadata": {
        "id": "1slTVaWDK6LP"
      },
      "execution_count": null,
      "outputs": []
    },
    {
      "cell_type": "code",
      "source": [
        "clean_text_t = test_wo_umlauts.apply(lambda x:text_clean(x))"
      ],
      "metadata": {
        "id": "P6zJo8oXK75p"
      },
      "execution_count": null,
      "outputs": []
    },
    {
      "cell_type": "code",
      "source": [
        "clean_text_t.head(10)"
      ],
      "metadata": {
        "colab": {
          "base_uri": "https://localhost:8080/"
        },
        "id": "1vIn6oXdK9ug",
        "outputId": "afe2f6b3-234d-421e-8911-dd28fbe56d01"
      },
      "execution_count": null,
      "outputs": [
        {
          "output_type": "execute_result",
          "data": {
            "text/plain": [
              "0                                     janzimmhhb  mopo komisch das die realitaetsverweigerung immer von linken erbaermlichen correctiv accounts ausgeht...\n",
              "1                faznet  gruene europa  spdeuropa  cdu cdu steht seid strauss, kohl, schaeuble, vdleyen fuer korruption, schwarzgeld, und dies ueberall...\n",
              "2                                                             dlfnachrichten die gesichter, namen, religion der taeter wuerde zur aufklaerung beitragen...\n",
              "3     welt wie verwir  muss man sein um sich zu weigern die tatsachen anzuerkennen, das dieser hass von ferkel impo ie  wurde....was bezweckt man damit...\n",
              "4     hacker 1991  torben braga weil die afd den ferkelfunk abschaffen will, deshalb haben die linken zecken, schmarotzer angst fuer ihr kacken arbeite...\n",
              "5     aktuelle stunde also beim fall birmingham, england war definitiv weniger empoerung, weniger berichterstattung, wenn man ehrlich mit sich ist gab ...\n",
              "6                                           stz news aber bei laeppischen 130.000 euro der afd den welt, demokratieuntergang herbei schreiben....wie suess\n",
              "7              stz news schaeuble wird wissen woher dieses nazi geld kommt....fjs hatte doch auch glasige augen vor freude wenn vom fuehrer die rede war..\n",
              "8     welt komisch, waere dieser betrug in der naehe der afd passie  waere eine andere empoerung erkennbar, so aber da es ferkel und co trifft werden b...\n",
              "9     investigativ de  welt  tim roehn  chschweppe und alle wege fuehren zu von der leyen, was dann verwunde  das die immer noch im amt ist, wobei, im ...\n",
              "Name: text, dtype: object"
            ]
          },
          "metadata": {},
          "execution_count": 39
        }
      ]
    },
    {
      "cell_type": "code",
      "source": [
        "\n",
        "\n",
        "import nltk\n",
        "from nltk.corpus import stopwords\n",
        "nltk.download('stopwords')\n",
        "def stop_words_removal(text1):\n",
        "    text1=[w for w in  text1.split(\" \")  if w not in stopwords.words('german')]\n",
        "    return \" \".join(text1)\n",
        "\n"
      ],
      "metadata": {
        "colab": {
          "base_uri": "https://localhost:8080/"
        },
        "id": "EH37JPgIK_KB",
        "outputId": "c062ebf3-de96-467a-c4fa-b05b73c40b7d"
      },
      "execution_count": null,
      "outputs": [
        {
          "output_type": "stream",
          "name": "stderr",
          "text": [
            "[nltk_data] Downloading package stopwords to /root/nltk_data...\n",
            "[nltk_data]   Package stopwords is already up-to-date!\n"
          ]
        }
      ]
    },
    {
      "cell_type": "code",
      "source": [
        "clean_text_t_ns=clean_text_t.apply(lambda x: stop_words_removal(x))"
      ],
      "metadata": {
        "id": "gXxxzc59LBBX"
      },
      "execution_count": null,
      "outputs": []
    },
    {
      "cell_type": "code",
      "source": [
        "print(clean_text_t_ns.head(10))"
      ],
      "metadata": {
        "colab": {
          "base_uri": "https://localhost:8080/"
        },
        "id": "TpppvvEbLCwK",
        "outputId": "7db6b24f-dae3-4087-fc6d-9ac5a9ef5e6e"
      },
      "execution_count": null,
      "outputs": [
        {
          "output_type": "stream",
          "name": "stdout",
          "text": [
            "0                                                 janzimmhhb  mopo komisch realitaetsverweigerung immer linken erbaermlichen correctiv accounts ausgeht...\n",
            "1                         faznet  gruene europa  spdeuropa  cdu cdu steht seid strauss, kohl, schaeuble, vdleyen fuer korruption, schwarzgeld, ueberall...\n",
            "2                                                                         dlfnachrichten gesichter, namen, religion taeter wuerde aufklaerung beitragen...\n",
            "3                                 welt verwir  weigern tatsachen anzuerkennen, hass ferkel impo ie  wurde....was bezweckt selber beluegen, unverstaendlich\n",
            "4     hacker 1991  torben braga afd ferkelfunk abschaffen will, deshalb linken zecken, schmarotzer angst fuer kacken arbeiten muessen, deshalb fuehrer ...\n",
            "5     aktuelle stunde beim fall birmingham, england definitiv weniger empoerung, weniger berichterstattung, ehrlich gab gar oerr, hintergrundwissen, re...\n",
            "6                                                            stz news laeppischen 130.000 euro afd welt, demokratieuntergang herbei schreiben....wie suess\n",
            "7                                                           stz news schaeuble wissen woher nazi geld kommt....fjs glasige augen freude fuehrer rede war..\n",
            "8                                       welt komisch, waere betrug naehe afd passie  waere empoerung erkennbar, ferkel co trifft baueropfer praesentie ...\n",
            "9     investigativ de  welt  tim roehn  chschweppe wege fuehren leyen, verwunde  immer amt ist, wobei, konstrukt brd normal, konstrukt mehr vorgibt dem...\n",
            "Name: text, dtype: object\n"
          ]
        }
      ]
    },
    {
      "cell_type": "markdown",
      "source": [
        "# Stemming"
      ],
      "metadata": {
        "id": "ekQq8jY5LGLH"
      }
    },
    {
      "cell_type": "code",
      "source": [
        "# Stemming\n",
        "from nltk.stem import SnowballStemmer \n",
        "stemmer = SnowballStemmer(\"german\")\n",
        "\n",
        "def word_stemmer(text):\n",
        "    stem_text = \"\".join([stemmer.stem(i) for i in text])\n",
        "    return stem_text"
      ],
      "metadata": {
        "id": "tpl3ie1dLEH4"
      },
      "execution_count": null,
      "outputs": []
    },
    {
      "cell_type": "code",
      "source": [
        "clean_text_t_stem = clean_text_t_ns.apply(lambda x : word_stemmer(x))"
      ],
      "metadata": {
        "id": "7TziiQXoLIBA"
      },
      "execution_count": null,
      "outputs": []
    },
    {
      "cell_type": "code",
      "source": [
        "print(clean_text_t_stem.head(10))"
      ],
      "metadata": {
        "colab": {
          "base_uri": "https://localhost:8080/"
        },
        "id": "XasJI_bZLJna",
        "outputId": "482188e0-2660-40fc-dad0-eea0d5fc4b77"
      },
      "execution_count": null,
      "outputs": [
        {
          "output_type": "stream",
          "name": "stdout",
          "text": [
            "0                                                 janzimmhhb  mopo komisch realitaetsverweigerung immer linken erbaermlichen correctiv accounts ausgeht...\n",
            "1                         faznet  gruene europa  spdeuropa  cdu cdu steht seid strauss, kohl, schaeuble, vdleyen fuer korruption, schwarzgeld, ueberall...\n",
            "2                                                                         dlfnachrichten gesichter, namen, religion taeter wuerde aufklaerung beitragen...\n",
            "3                                 welt verwir  weigern tatsachen anzuerkennen, hass ferkel impo ie  wurde....was bezweckt selber beluegen, unverstaendlich\n",
            "4     hacker 1991  torben braga afd ferkelfunk abschaffen will, deshalb linken zecken, schmarotzer angst fuer kacken arbeiten muessen, deshalb fuehrer ...\n",
            "5     aktuelle stunde beim fall birmingham, england definitiv weniger empoerung, weniger berichterstattung, ehrlich gab gar oerr, hintergrundwissen, re...\n",
            "6                                                            stz news laeppischen 130.000 euro afd welt, demokratieuntergang herbei schreiben....wie suess\n",
            "7                                                           stz news schaeuble wissen woher nazi geld kommt....fjs glasige augen freude fuehrer rede war..\n",
            "8                                       welt komisch, waere betrug naehe afd passie  waere empoerung erkennbar, ferkel co trifft baueropfer praesentie ...\n",
            "9     investigativ de  welt  tim roehn  chschweppe wege fuehren leyen, verwunde  immer amt ist, wobei, konstrukt brd normal, konstrukt mehr vorgibt dem...\n",
            "Name: text, dtype: object\n"
          ]
        }
      ]
    },
    {
      "cell_type": "code",
      "source": [
        "\n",
        "\n",
        "import keras\n",
        "import tensorflow\n",
        "from keras.preprocessing.text import Tokenizer\n",
        "tok_test = Tokenizer(filters='!\"#$%&\\'()*+,-./:;<=>?@[\\\\]^_`{|}~', lower=True, char_level = False)\n",
        "tok_test.fit_on_texts(clean_text_t_stem)\n",
        "\n"
      ],
      "metadata": {
        "id": "heX7pGrELLAq"
      },
      "execution_count": null,
      "outputs": []
    },
    {
      "cell_type": "code",
      "source": [
        "\n",
        "\n",
        "vocabulary_all_test = len(tok_test.word_counts)\n",
        "print(vocabulary_all_test)\n",
        "\n"
      ],
      "metadata": {
        "colab": {
          "base_uri": "https://localhost:8080/"
        },
        "id": "i0deLjofLMxh",
        "outputId": "9576fe00-bbc5-49c3-8ee2-3ca78eb7be78"
      },
      "execution_count": null,
      "outputs": [
        {
          "output_type": "stream",
          "name": "stdout",
          "text": [
            "14335\n"
          ]
        }
      ]
    },
    {
      "cell_type": "code",
      "source": [
        "test_list = tok_test.word_index\n",
        "print(test_list)"
      ],
      "metadata": {
        "colab": {
          "base_uri": "https://localhost:8080/"
        },
        "id": "7aNXyczTLOTE",
        "outputId": "a710d041-2e1d-43e5-ae28-de0135b1c87b"
      },
      "execution_count": null,
      "outputs": [
        {
          "output_type": "stream",
          "name": "stdout",
          "text": [
            "{'u': 1, 'lbr': 2, 'fuer': 3, 'ja': 4, 'mehr': 5, 'spd': 6, 'mal': 7, 'e': 8, 'schon': 9, 'immer': 10, 'ist': 11, 'fcsp': 12, 'de': 13, 'ueber': 14, 'gibt': 15, 'ha': 16, 'heute': 17, 'watch': 18, 'mena': 19, 'jungnaiv': 20, 'tilojung': 21, 'sdgmasterglass': 22, 'ilona': 23, 'gr': 24, 'czsystuvx': 25, 'netzengel': 26, 'palactnet': 27, 'cdu': 28, 'deutschland': 29, 'vonbeutelratte': 30, 'wer': 31, 'nicht': 32, 'z': 33, 'einfach': 34, '0001f3fb': 35, 'menschen': 36, 'koennen': 37, 'geht': 38, 'iv': 39, 's': 40, '0001f923': 41, 'warum': 42, 'en': 43, 'ba': 44, '0001f602': 45, 'wuerde': 46, 'albe': 47, 'enst1': 48, '2': 49, 'bschuller': 50, 'berlinpapers': 51, 'merkel': 52, 'a': 53, 'waere': 54, '0001f914': 55, 'welt': 56, 'kommt': 57, '0001f44d': 58, 'macht': 59, 'afd': 60, 'gut': 61, 've': 62, 'werden': 63, 'wird': 64, 'toll': 65, 'leben': 66, 'muessen': 67, 'ganz': 68, 'gruenen': 69, 'hat': 70, 'pa': 71, 'genau': 72, 'sein': 73, 'deutsche': 74, '0001f621': 75, 'haben': 76, 'deutschen': 77, 'nie': 78, 'ab': 79, '261d': 80, 'frage': 81, 'georgkleine': 82, '0001f595': 83, 'seit': 84, '3': 85, 'gar': 86, 'sagen': 87, 'land': 88, 'an': 89, '1': 90, 'wildegesellin': 91, 'gerade': 92, 'wurde': 93, 'sind': 94, 'eigentlich': 95, 'ne': 96, 'weiss': 97, 'dafuer': 98, 'steht': 99, 'twitter': 100, 'klar': 101, 'recht': 102, 'denen': 103, 'halt': 104, 'csu': 105, 'darf': 106, 'frau': 107, '0001f609': 108, 'd': 109, 'allesevolution': 110, 'haette': 111, 'we': 112, 'ei': 113, 'frauen': 114, 'sagt': 115, 'leute': 116, 'polizei': 117, 'wurden': 118, 'tun': 119, 'gehen': 120, 'lassen': 121, 'nein': 122, 'linke': 123, 'richtig': 124, 'guyelster': 125, 'benabyad': 126, 'greatreturnma': 127, 'ungeneva': 128, 'wissen': 129, 'politik': 130, 'viele': 131, 'kommen': 132, 'kinder': 133, 'mann': 134, '0001f644': 135, 'erst': 136, 'beim': 137, 'nahles': 138, 'wohl': 139, 'so': 140, 'ski3989': 141, 'stefanolix': 142, 'geld': 143, 'wegen': 144, 'frankfu': 145, 'sehen': 146, 'hast': 147, 'schoen': 148, 'do': 149, 'koennte': 150, 'buerger': 151, 'raus': 152, 'auf': 153, 'gemacht': 154, 'jahren': 155, 'opfer': 156, 'zeit': 157, 'dabei': 158, 'acarlukas': 159, 'jahre': 160, 'wirklich': 161, 'besser': 162, 'problem': 163, 'bitte': 164, 'davon': 165, 'fdp': 166, 'machen': 167, 'danke': 168, 'lesen': 169, 'fe0f': 170, 'tag': 171, 'scheisse': 172, 'nehmen': 173, 'islam': 174, 'laesst': 175, 'ueberhaupt': 176, 'taeter': 177, 'sogar': 178, 'aus': 179, 'tweet': 180, 'eu': 181, 'ganze': 182, 'sollten': 183, 'genug': 184, '0001f605': 185, 'gerne': 186, 'nazis': 187, 'eben': 188, 'linken': 189, '10': 190, 'geben': 191, 'politiker': 192, '0001f643': 193, 'neue': 194, 'liebkind666': 195, 'gab': 196, 'das': 197, 'kann': 198, 'die': 199, 'sieht': 200, 'bleiben': 201, 'kritik': 202, 'system': 203, 'arbeiten': 204, 'weniger': 205, 'medien': 206, 'vielleicht': 207, 'bekommen': 208, 'bestimmt': 209, 'is': 210, 'eher': 211, 'amp': 212, 'apvogt': 213, 'eigenen': 214, 'sehe': 215, 'auch': 216, 'nix': 217, 'und': 218, 'sicher': 219, 'lowkacs': 220, 'angst': 221, 'lange': 222, 'zahlen': 223, 'gewalt': 224, 'endlich': 225, 'wahl': 226, 'mensch': 227, 'sollen': 228, 'gruene': 229, 'aber': 230, 'terror': 231, 'braucht': 232, 'stehen': 233, 'dumm': 234, 'staat': 235, 'herr': 236, '0001f633': 237, 'millionen': 238, 'arbeit': 239, 'juden': 240, 'scheiss': 241, 'europa': 242, 'ferkel': 243, 'will': 244, 'nazi': 245, 'ach': 246, 'gleich': 247, 'natuerlich': 248, 'bleibt': 249, 'jemand': 250, 'sie': 251, '5': 252, 'ende': 253, '0001f60b': 254, 'm': 255, 'wahrscheinlich': 256, 'sorry': 257, '0001f60e': 258, 'tafeln': 259, 'jogginghosenafa': 260, 'meinung': 261, 'berlin': 262, 'heisst': 263, 'laeuft': 264, 'lieber': 265, 'stegner': 266, 'muss': 267, 'leider': 268, 'niemand': 269, 'finde': 270, 'egal': 271, 'jahr': 272, 'sei': 273, 'waehlen': 274, 'akk': 275, '0001f437': 276, '0001f913': 277, 'nprncbl': 278, 'tapetenlama': 279, 'faznet': 280, 'fall': 281, 'luegen': 282, 'na': 283, 'nichts': 284, 'tagesschau': 285, 'fast': 286, 'krieg': 287, 'bild': 288, 'ihrseiddo': 289, 'wann': 290, 'volk': 291, 'antisemitismus': 292, 'tato': 293, 'wa': 294, 'armut': 295, 'essen': 296, 'suppenkuechen': 297, 'zeigt': 298, 'presse': 299, 'sofo': 300, 'deren': 301, 'frei': 302, 'muell': 303, 'ziemlich': 304, 'waehrend': 305, 'tatsaechlich': 306, 'allerdings': 307, 't': 308, 'gute': 309, 'falsch': 310, 'antwo': 311, 'suchen': 312, 'klasnaborba': 313, 'morgen': 314, 'palaestinenser': 315, 'seid': 316, 'war': 317, 'brd': 318, 'demokratie': 319, 'zdfheute': 320, 'zurueck': 321, 'maenner': 322, 'komplett': 323, 'passt': 324, 'darueber': 325, 'antifa': 326, 'glaube': 327, '15': 328, 'ich': 329, 'bereits': 330, 'israel': 331, 'kopf': 332, 'b': 333, 'n': 334, 'o': 335, 'guten': 336, 'nen': 337, 'gestern': 338, 'text': 339, 'zionistischen': 340, 'fuehrer': 341, 'weit': 342, 'fluechtlinge': 343, 'drei': 344, 'arsch': 345, 'h': 346, 'propaganda': 347, 'voll': 348, 'gesellschaft': 349, 'ma': 350, 'hunde': 351, 'doch': 352, 'geworden': 353, 'regierung': 354, 'ahnung': 355, '100': 356, 'dachte': 357, 'punkt': 358, 'stunden': 359, 'nacht': 360, 'paar': 361, 'wieder': 362, 'frazionetoskana': 363, 'sowas': 364, 'toteraufurlaub': 365, 'opposum5': 366, 'florianaigner': 367, 'gerritmarsen': 368, 'lnnen': 369, 'wt': 370, 'ibes': 371, 'deshalb': 372, 'ein': 373, 'et': 374, 'reden': 375, 'es': 376, 'zdf': 377, 'erklaeren': 378, 'liebe': 379, 'ffm': 380, 'wollen': 381, 'bevoelkerung': 382, 'trotzdem': 383, 'macron': 384, 'erklae': 385, 'grund': 386, '0001f601': 387, 'mittlerweile': 388, 'gesehen': 389, 'ig': 390, 'hoe': 391, 'ausser': 392, 'job': 393, 'los': 394, 'gesagt': 395, '270c': 396, 'gelbwesten': 397, 'selber': 398, 'wichtig': 399, 'alleine': 400, 'migranten': 401, 'thema': 402, 'geschichte': 403, 'gutmenschen': 404, 'habt': 405, 'finden': 406, 'statt': 407, 'wuerden': 408, '0': 409, 'links': 410, 'ganzen': 411, 'punkte': 412, '7': 413, 'hoffentlich': 414, 'wenig': 415, 'darauf': 416, 'hassanhadjali': 417, 'auto': 418, '30': 419, 'demo': 420, 'neuen': 421, 'letzten': 422, 'schlecht': 423, 'gleiche': 424, 'korrupten': 425, 'nordischbynatur': 426, '219a': 427, 'enschenrechte': 428, 'fuelinup': 429, 'bullenschubser': 430, 'futureworldxxl': 431, 'namen': 432, 'ferkelfunk': 433, 'passie': 434, 'laecherlich': 435, 'nennt': 436, 'tut': 437, 'gefahr': 438, 'zeigen': 439, 'the': 440, 'verantwo': 441, 'spaeter': 442, 'armen': 443, 'zwei': 444, 'c': 445, '0001f92d': 446, 'oft': 447, 'voellig': 448, 'dergermane2': 449, 'bisschen': 450, 'tweets': 451, 'i': 452, 'oh': 453, 'erwa': 454, 'ok': 455, 'merz': 456, '20': 457, 'woche': 458, 'kennt': 459, 'nochmal': 460, 'deswegen': 461, 'echt': 462, 'offensichtlich': 463, 'naechste': 464, 'solidaritaet': 465, 'paris': 466, 'uhr': 467, 'frankreich': 468, 'seehofer': 469, '0001f419': 470, 'einheimischen': 471, 'zionisten': 472, 'anke52936620': 473, 'lanyihunter1': 474, 'assassina36': 475, 'ie': 476, 'was': 477, 'news': 478, 'wie': 479, 'schnell': 480, 'duerfen': 481, 'plan': 482, 'halten': 483, 'hoeren': 484, 'lachen': 485, 'stellen': 486, 'rechts': 487, 'fordern': 488, 'daran': 489, 'findet': 490, 'darum': 491, 'grossen': 492, 'eien': 493, 'haetten': 494, 'karrenbauer': 495, 'ddr': 496, 'chemnitz': 497, 'je': 498, 'usa': 499, 'uebrigens': 500, 'minuten': 501, 'schaft': 502, 'politisch': 503, 'rassismus': 504, 'heimat': 505, 'verloren': 506, '0001f92e': 507, 'ikel': 508, 'rein': 509, 'kultur': 510, 'einzige': 511, 'bevor': 512, 'schreibt': 513, 'germanseries': 514, 'abend': 515, 'stimmt': 516, 'gelesen': 517, 'bedeutet': 518, 'wi': 519, 'gern': 520, 'aufgrund': 521, 'duracellsheep': 522, 'bea76190653': 523, 'augen': 524, 'stasi': 525, 'brauchen': 526, 'kaum': 527, 'folgen': 528, 'schwer': 529, 'zukunft': 530, 'etc': 531, 'rest': 532, 'ernst': 533, 'rechte': 534, 'nich': 535, 'hoch': 536, 'kleine': 537, 'deutscher': 538, 'ging': 539, 'verfassungsschutz': 540, 'gehoe': 541, 'satz': 542, 'alter': 543, 'letzte': 544, 'bald': 545, 'unserer': 546, 'spiel': 547, 'kotzen': 548, 'ey': 549, 'besten': 550, 'naja': 551, 'waeren': 552, 'auswae': 553, 'arschloch': 554, 'hand': 555, 'ansonsten': 556, 'fuers': 557, 'konnte': 558, 'drueber': 559, 'super': 560, 'moechte': 561, 'drauf': 562, 'shirotania': 563, 'situation': 564, 'gefunden': 565, 'mach': 566, 'arm': 567, 'scheint': 568, 'europaeischen': 569, 'groko': 570, 'reiche': 571, 'jw': 572, 'kaputtnikkkk': 573, 'europaeer': 574, 'kolonie': 575, 'alexsta': 576, 'hoppenina': 577, 'religion': 578, 'impo': 579, 'fuehren': 580, 'besonders': 581, 'nrw': 582, 'wahrheit': 583, 'all': 584, 'frueher': 585, 'bezahlen': 586, 'vielen': 587, 'genauso': 588, 'kind': 589, 'el': 590, 'not': 591, 'westen': 592, 'retten': 593, 'k': 594, 'interessie': 595, 'zusammen': 596, 'schuld': 597, 'eigene': 598, 'lustig': 599, 'gedanken': 600, 'jazzlover2021': 601, 'eh': 602, 'deutsch': 603, 'damals': 604, 'mir': 605, 'meisten': 606, 'gehe': 607, 'politischen': 608, 'setzen': 609, 'p': 610, 'denke': 611, '18': 612, 'profit': 613, 'reicht': 614, 'igesamt': 615, 'you': 616, 'jedoch': 617, 'gleichen': 618, 'rum': 619, 'der': 620, '200d': 621, 'alte': 622, 'liste': 623, 'un': 624, 'eltern': 625, 'einfuehren': 626, 'flaschen': 627, 'kinderarmut': 628, 'familie': 629, 'klimawandel': 630, 'luegner': 631, 'revolution': 632, 'aktien': 633, '0001f44c': 634, '0001f37a': 635, 'maischberger': 636, 'miraculix23': 637, 'datflug': 638, 'outofvalhalla': 639, 'karina140911': 640, 'bergifrau00': 641, 'madameschwarzi': 642, 'maybritillner': 643, 'accounts': 644, 'schaeuble': 645, 'ehrlich': 646, '000': 647, 'schreiben': 648, 'heraus': 649, 'person': 650, 'niemals': 651, 'schauen': 652, 'tagesspiegel': 653, 'bezahlt': 654, 'denkt': 655, 'stellt': 656, 'verstehen': 657, 'krank': 658, 'haelt': 659, 'gesicht': 660, 'irgendwann': 661, 'herkunft': 662, 'politische': 663, 'richtige': 664, 'zu': 665, '4': 666, 'fehler': 667, 'gott': 668, 'fragen': 669, 'arme': 670, 'weisse': 671, 'kreis': 672, 'sitzen': 673, 'uebrigen': 674, 'kenne': 675, 'deutlich': 676, 'sinn': 677, 'lt': 678, 'besteht': 679, 'solange': 680, 'szene': 681, 'geh': 682, 'ergebnis': 683, 'wenigstens': 684, 'gewinnen': 685, 'hasse': 686, 'kapital': 687, 'moeglich': 688, 'danieldorville2': 689, 'gegenueber': 690, 'ard': 691, 'bekommt': 692, 'strasse': 693, 'sternenrot': 694, 'faellt': 695, 'naechsten': 696, 'erstmal': 697, 'weiterhin': 698, 'dagegen': 699, 'mag': 700, 'argumente': 701, 'korrupte': 702, '2642': 703, 'fresse': 704, 'muesste': 705, 'sprechen': 706, 'regime': 707, 'genossen': 708, 'soll': 709, 'nur': 710, 'loominext': 711, 'angeblich': 712, 'anti': 713, 'sozialismus': 714, 'aktivisten': 715, '2704': 716, 'bierkrawalle': 717, 'ralf': 718, 'invictu53409591': 719, 'abschaffen': 720, 'empoerung': 721, 'bringt': 722, 'dadurch': 723, 'freuen': 724, 'sich': 725, 'noch': 726, 'handeln': 727, 'kam': 728, 'gefuehl': 729, 'erkennen': 730, 'nimmt': 731, 'hilfe': 732, 'tuer': 733, 'mich': 734, 'iq': 735, 'ziel': 736, 'lang': 737, '12': 738, 'umfrage': 739, 'sag': 740, 'sanktionen': 741, 'hitler': 742, 'follower': 743, '0001f631': 744, 'in514337541': 745, 'erste': 746, 'ploetzlich': 747, 'trotz': 748, 'geblockt': 749, 'veru': 750, 'altpa': 751, 'zaehlen': 752, 'bayern': 753, 'nation': 754, 'idee': 755, 'verlieren': 756, 'ka': 757, 'gilt': 758, 'realitaet': 759, 'l': 760, 'mit': 761, 'hamas': 762, 'bundestag': 763, 'total': 764, 'nutzen': 765, 'china': 766, '0001f60a': 767, 'immerhin': 768, 'gt': 769, 'langsam': 770, 'werfen': 771, 'vie': 772, 'glueck': 773, 'kannst': 774, 'ca': 775, 'kapitalismus': 776, 'beispiel': 777, 'aussage': 778, 'treffen': 779, 'offenbar': 780, '6': 781, 'freunde': 782, 'waehler': 783, 'genuegend': 784, 'schroeder': 785, 'lass': 786, '01': 787, 'gleichzeitig': 788, 'funktionie': 789, 'ideologie': 790, 'seite': 791, 'sage': 792, 'musst': 793, 'irgendwas': 794, 'typ': 795, 'laender': 796, 'freie': 797, 'kaufen': 798, 'zuerst': 799, 'verbrechen': 800, 'tuerkei': 801, 'brexit': 802, 'persoenlich': 803, 'kramp': 804, 'glauben': 805, 'surplusproduce': 806, 'rag': 807, 'bspw': 808, 'account': 809, 'vor': 810, 'fehlt': 811, 'v': 812, 'kolonisten': 813, 'pyuntama': 814, 'toteseele82': 815, 'kundgebung': 816, 'korruption': 817, 'suess': 818, 'woher': 819, 'falsche': 820, 'br24': 821, 'verbreiten': 822, 'moerder': 823, 'oeffentlichkeit': 824, 'spiegelonline': 825, 'bahn': 826, 'wdr': 827, '14': 828, 'worden': 829, 'denken': 830, 'nachbarn': 831, 'teil': 832, 'terroristen': 833, 'ung': 834, 'dumme': 835, 'laut': 836, 'da': 837, 'usw': 838, 'geschafft': 839, 'schaffen': 840, 'eil': 841, 'platz': 842, 'ziehen': 843, 'gutes': 844, 'mache': 845, 'voller': 846, 'menschheit': 847, 'glaubt': 848, 'steffmann45': 849, 'uns': 850, 'islamisten': 851, 'ebenso': 852, 'deal': 853, 'ernsthaft': 854, 'taeglich': 855, 'kindern': 856, 'junge': 857, '11': 858, 'sprache': 859, 'beiden': 860, 'fern': 861, 'haltung': 862, 'nazisraus': 863, '2019': 864, '2714': 865, 'etwa': 866, 'liegt': 867, 'freiheit': 868, 'stueck': 869, 'koennten': 870, 'white': 871, 'jahrhunde': 872, 'no': 873, 'kommunismus': 874, 'jetzt': 875, 'spass': 876, 'nonazis': 877, 'thread': 878, 'nach': 879, 'annewill': 880, 'schluss': 881, 'sowieso': 882, 'peinlich': 883, 'geil': 884, 'uff': 885, 'naechstes': 886, 'tja': 887, 'sau': 888, 'quellen': 889, 'kriminellen': 890, 'glaub': 891, 'hoffe': 892, 'danach': 893, 'gibts': 894, 'mord': 895, 'feie': 896, 'widerstand': 897, 'hallo': 898, 'jetz': 899, 'schoene': 900, 'sucht': 901, 'studie': 902, 'zumindest': 903, 'grad': 904, 'eddie': 905, '1412': 906, 'helllud123': 907, 'versucht': 908, 'wen': 909, 'merkelmussweg': 910, 'soviel': 911, 'scheinbar': 912, 'andreaschlegel3': 913, 'karl': 914, 'grenzen': 915, 'irgendwie': 916, 'reichen': 917, 'weil': 918, 'menschenrechte': 919, 'betteln': 920, 'zahl': 921, 'sagte': 922, '2018': 923, 'grosse': 924, 'buch': 925, 'ruhig': 926, 'film': 927, 'diskussion': 928, 'unrecht': 929, '19': 930, 'daniel': 931, 'ostfrieseinfran': 932, 'legen': 933, 'leuten': 934, 'stalinist': 935, 'proeiszeitdeaf': 936, 'reconquista': 937, '23': 938, 'hambacherforst': 939, '30h': 940, 'komisch': 941, 'hass': 942, 'dreck': 943, 'birmingham': 944, 'england': 945, 'normal': 946, 'gebe': 947, 'gefueh': 948, 'heissen': 949, 'weder': 950, 'genannt': 951, 'hm': 952, 'interessieren': 953, 'name': 954, 'schlimmer': 955, 'liegen': 956, 'schlimm': 957, 'berichten': 958, 'verletzt': 959, 'siehe': 960, 'leiden': 961, 'strafe': 962, 'satire': 963, 'bilder': 964, 'welcome': 965, 'hetzer': 966, 'aeh': 967, 'vergessen': 968, 'spielt': 969, 'liest': 970, 'hirn': 971, 'schicken': 972, 'bringen': 973, 'cem': 974, 'um': 975, 'zb': 976, 'gesper': 977, 'spiegel': 978, 'luegenpresse': 979, 'steuern': 980, 'verlassen': 981, 'stimmen': 982, 'machst': 983, 'kranke': 984, 'dringend': 985, 'wunder': 986, 'hoelle': 987, 'mont1701': 988, 'stalin': 989, 'klima': 990, 'eilt': 991, 'begriff': 992, 'unterscheiden': 993, 'uebe': 994, 'null': 995, 'vorher': 996, 'deutschlands': 997, 'meint': 998, 'of': 999, 'seiten': 1000, 'fuehlt': 1001, 'regel': 1002, 'quatsch': 1003, 'schreiber': 1004, 'aende': 1005, 'stand': 1006, 'hunger': 1007, 'world': 1008, 'arbeiter': 1009, 'cyclinginside': 1010, 'sonntag': 1011, 'nase': 1012, '24': 1013, 'fe': 1014, 'aberfair': 1015, 'fuck': 1016, 'wenn': 1017, 'samstag': 1018, 'paul': 1019, 'habe': 1020, 'trump': 1021, 'kita': 1022, 'fakten': 1023, 'gruenden': 1024, 'unglaublich': 1025, 'gegenteil': 1026, 'ding': 1027, 'willst': 1028, 'folter': 1029, 'schritt': 1030, 'tagen': 1031, 'abschaum': 1032, 'kurz': 1033, 'sollte': 1034, 'alle': 1035, 'stadt': 1036, 'allein': 1037, 'top': 1038, 'queensolaphea': 1039, 'uni': 1040, 'spaet': 1041, 'vorbei': 1042, 'schlafen': 1043, 'gruppe': 1044, 'grade': 1045, 'texte': 1046, 'draussen': 1047, 'haiderbekah': 1048, 'folge': 1049, 'beste': 1050, 'typen': 1051, 'also': 1052, 'automatisch': 1053, 'per': 1054, 'winter': 1055, 'wasser': 1056, 'islamische': 1057, '0001f44a': 1058, '0001f926': 1059, 'spitze': 1060, 'bundesregierung': 1061, 'haus': 1062, 'dennoch': 1063, 'leid': 1064, 'kanzlerin': 1065, 'berliner': 1066, 'diejenigen': 1067, 'doener': 1068, 'schafft': 1069, 'kritische': 1070, 'unterschied': 1071, 'komme': 1072, 'naeher': 1073, 'unten': 1074, '16': 1075, 'regelsatz': 1076, 'erlaubt': 1077, 'soeder': 1078, 'empfaenger': 1079, 'verbot': 1080, 'bekannt': 1081, 'alt': 1082, 'monate': 1083, 'hungern': 1084, 'spahn': 1085, 'durch': 1086, 'kampf': 1087, 'proteste': 1088, 'physeterj': 1089, 'gsp': 1090, 'verhindern': 1091, 'kapitalisten': 1092, 'behaupten': 1093, 'entwicklung': 1094, 'quasi': 1095, 'manchmal': 1096, 'lino': 1097, 'bzw': 1098, 'beide': 1099, 'gruss': 1100, 'du': 1101, 'behauptet': 1102, 'tempolimit': 1103, 'palaestina': 1104, 'egutkin': 1105, 'sam': 1106, 'verclai': 1107, 'alten': 1108, 'wolkenfluff': 1109, 'unfassbar': 1110, 'bla': 1111, 'femen': 1112, 'nocki61': 1113, 'krone18': 1114, 'markuslanz': 1115, 'erdogannotwelcome': 1116, 'nopegida': 1117, 'ueberall': 1118, 'luege': 1119, 'euro': 1120, 'rede': 1121, 'praesentie': 1122, 'lied': 1123, 'keule': 1124, 'handelt': 1125, 'mdraktuell': 1126, 'urlaub': 1127, 'rassisten': 1128, 'guter': 1129, 'fr': 1130, 'erfolg': 1131, 'gelernt': 1132, 'fahren': 1133, 'heil': 1134, 'gejagt': 1135, 'wozu': 1136, '2015': 1137, 'aendern': 1138, 'positive': 1139, 'industrie': 1140, 'tor': 1141, 'versuchen': 1142, 'klappt': 1143, 'keine': 1144, 'anstatt': 1145, 'einzigen': 1146, 'video': 1147, 'rolle': 1148, 'hintern': 1149, 'umwelt': 1150, 'seien': 1151, 'syrien': 1152, 'idioten': 1153, 'spdde': 1154, 'oezdemir': 1155, 'asylanten': 1156, 'sinne': 1157, 'gerechtigkeit': 1158, 'laendern': 1159, 'ungarn': 1160, 'groesste': 1161, 'weisst': 1162, 'merken': 1163, 'dank': 1164, 'toleranz': 1165, 'wernergoehl': 1166, 'setzt': 1167, 'al': 1168, 'haelfte': 1169, 'erdogan': 1170, 'eindruck': 1171, 'schutz': 1172, 'herrn': 1173, 'afrika': 1174, 'vater': 1175, 'naemlich': 1176, 'irre': 1177, 'echte': 1178, 'weg': 1179, 'islamismus': 1180, 'videos': 1181, 'eilen': 1182, 'antisemiten': 1183, 'yuma': 1184, 'lein': 1185, 'hh': 1186, 'waehlt': 1187, 'wachsen': 1188, 'feminismus': 1189, 'gewaehlt': 1190, 'lust': 1191, 'igen': 1192, '8': 1193, '13': 1194, 'entweder': 1195, 'kotzt': 1196, 'st': 1197, 'pauli': 1198, 'bloed': 1199, 'tipp': 1200, 'w': 1201, 'r': 1202, 'richtigen': 1203, 'passieren': 1204, 'loesung': 1205, 'for': 1206, 'mindestens': 1207, 'analyse': 1208, 'sogenannte': 1209, 'bist': 1210, 'tod': 1211, 'wuerdest': 1212, 'these': 1213, 'anfang': 1214, 'eidigt': 1215, 'polizisten': 1216, 'erzaehlen': 1217, 'bullen': 1218, 'rote': 1219, 'rechtsstaat': 1220, 'fo': 1221, 'ekelhaft': 1222, 'himmel': 1223, 'verstehe': 1224, 'konflikt': 1225, 'fallen': 1226, 'ner': 1227, 'wach': 1228, 'sommer': 1229, 'momentan': 1230, 'lasst': 1231, 'falls': 1232, 'lediglich': 1233, 'x': 1234, 'aussagen': 1235, 'zusammenhang': 1236, 'fand': 1237, 'wut': 1238, 'islamischen': 1239, 'verdienen': 1240, 'christen': 1241, 'selbst': 1242, 'entscheiden': 1243, '0001f339': 1244, 'rentner': 1245, 'rot': 1246, 'linksfaschisten': 1247, 'messer': 1248, 'damit': 1249, 'welle': 1250, 'geistig': 1251, 'fluechtling': 1252, 'internet': 1253, 'jobcenter': 1254, 'us': 1255, 'tafel': 1256, 'paragraf': 1257, 'bezahlten': 1258, 'ministerposten': 1259, 'ueberleben': 1260, 'seeheimer': 1261, 'neues': 1262, 'gesetz': 1263, 'may': 1264, 'hungerlohn': 1265, 'freitag': 1266, 'neuer': 1267, 'mehrere': 1268, 'muessten': 1269, 'normale': 1270, 'fest': 1271, 'elend': 1272, 'me': 1273, 'droht': 1274, 'kamnonym': 1275, 'btw': 1276, 'bauen': 1277, 'kriegt': 1278, 'bisher': 1279, 'stahlnippel': 1280, 'markt': 1281, 'kp': 1282, 'peter': 1283, 'forschungsto': 1284, 'weste': 1285, 'genommen': 1286, 'haltet': 1287, 'gedanke': 1288, 'hetze': 1289, 'irrsinn': 1290, 'steinbacherika': 1291, 'vorfahren': 1292, 'rieben': 1293, 'verschiedene': 1294, 'vatoloco61': 1295, 'sunny': 1296, 'odiumnostrum': 1297, 'arasbacho': 1298, 'apatzwahl': 1299, 'ofenschlampe': 1300, 'afgveteran': 1301, 'feindpresse': 1302, 'botanikqueen': 1303, 'fieswurz': 1304, 'afrin': 1305, 'welcomeffm': 1306, 'refugeeswelcome': 1307, 'tatsachen': 1308, 'aktuelle': 1309, 'leyen': 1310, 'amt': 1311, 'wobei': 1312, 'konstrukt': 1313, 'nun': 1314, 'holen': 1315, 'dazu': 1316, 'klasse': 1317, 'klientel': 1318, 'schweigen': 1319, 'gehalten': 1320, 'glaubwuerdigkeit': 1321, 'regsprecher': 1322, 'widerliche': 1323, 'eile': 1324, 'missbrauch': 1325, 'sonst': 1326, '80': 1327, 'gefaellt': 1328, 'mehrheit': 1329, 'zehn': 1330, 'gestellt': 1331, 'dahin': 1332, 'zeug': 1333, 'zeiten': 1334, 'taten': 1335, 'reale': 1336, '2017': 1337, 'behoerden': 1338, 'hoffen': 1339, 'helfen': 1340, 'statistik': 1341, 'gewollt': 1342, 'werbung': 1343, 'nachrichten': 1344, 'nennen': 1345, 'googeln': 1346, 'dummheit': 1347, 'etwas': 1348, 'folgt': 1349, 'bestellt': 1350, 'willen': 1351, 'zerstoe': 1352, 'vollkommen': 1353, 'asyl': 1354, 'rassist': 1355, 'steuergeldern': 1356, 'kranken': 1357, 'mist': 1358, 'tisch': 1359, 'ir': 1360, 'jensspahn': 1361, 'verschwinden': 1362, 'dummen': 1363, 'faschismus': 1364, 'ragen': 1365, 'wir': 1366, 'festgestellt': 1367, 'soziale': 1368, 'strassen': 1369, 'fragt': 1370, 'meinungen': 1371, 'sorgen': 1372, 'straftaeter': 1373, 'ausland': 1374, 'weihnachten': 1375, 'familien': 1376, 'zuviel': 1377, 'davor': 1378, 'angela': 1379, 'alexf50451971': 1380, 'jutta98811424': 1381, 'iran': 1382, 'vs': 1383, 'krippmarie': 1384, 'shakriet': 1385, 'walsberger49': 1386, 'tragen': 1387, 'jutta': 1388, 'po': 1389, 'bekaempft': 1390, 'kaelte': 1391, 'schliesst': 1392, 'chrisishere9': 1393, 'praktisch': 1394, 'marktwi': 1395, 'feind': 1396, 'eienka': 1397, 'lernen': 1398, 'wieviele': 1399, 'dicht': 1400, 'erschiessen': 1401, 'moeglichkeit': 1402, 'kleiner': 1403, 'laengst': 1404, 'minderheit': 1405, 'verfolgt': 1406, 'heikomaas': 1407, 'nette': 1408, 'beispiele': 1409, 'entgegen': 1410, 'islamisierung': 1411, 'hier': 1412, 'witz': 1413, 'laufen': 1414, 'oppo': 1415, 'europaeern': 1416, 'spricht': 1417, 'verhalten': 1418, 'schwaeche': 1419, 'jahrelang': 1420, 'to': 1421, 'araber': 1422, 'ellibisathide': 1423, 'hut': 1424, 'behinde': 1425, 'hallaschka': 1426, 'lauterbach': 1427, 'bus': 1428, 'my': 1429, 'ruecken': 1430, 'sparen': 1431, 'jedesmal': 1432, 'weiter': 1433, 'tv': 1434, 'hey': 1435, 'stark': 1436, 'bescheue': 1437, 'g': 1438, 'it': 1439, 'ersten': 1440, 'gebracht': 1441, 'ecke': 1442, 'bewusstsein': 1443, 'geschrieben': 1444, 'standards': 1445, 'mittel': 1446, 'er': 1447, 'heuteshow': 1448, 'einst': 1449, 'genannten': 1450, 'abschieben': 1451, 'eimer': 1452, 'hanvoi': 1453, 'kritisch': 1454, 'tot': 1455, 'schweine': 1456, 'meist': 1457, 'sozial': 1458, 'wieso': 1459, 'lese': 1460, 'verstanden': 1461, 'taz': 1462, 'profsalzborn': 1463, 'unterstuetzung': 1464, 'monikaherrmann1': 1465, 'friedlich': 1466, 'cent': 1467, 'religionen': 1468, 'entspricht': 1469, 'nett': 1470, 'interesse': 1471, 'befreiung': 1472, 'l8mal': 1473, 'gegeben': 1474, 'co2': 1475, 'teufel': 1476, 'brot': 1477, 'direkt': 1478, 'einzelne': 1479, 'bett': 1480, 'dran': 1481, 'gegangen': 1482, 'groessten': 1483, 'anscheinend': 1484, 'zug': 1485, 'kleinen': 1486, 'haende': 1487, 'boese': 1488, 'extrem': 1489, 'ganzes': 1490, 'spielen': 1491, 'nem': 1492, 'erklaerung': 1493, 'ergebnisse': 1494, 'bewegen': 1495, 'noetig': 1496, 'ehre': 1497, 'staatlich': 1498, 'finanzie': 1499, 'soweit': 1500, 'unterstuetzen': 1501, 'zudem': 1502, 'aufgabe': 1503, 'dinge': 1504, 'fuehlen': 1505, 'ums': 1506, 'zieht': 1507, 'unschuldige': 1508, 'steigt': 1509, 'erhalten': 1510, 'einzelfallinfos': 1511, 'illegalen': 1512, 'jouwatch': 1513, 'traurig': 1514, 'lich': 1515, 'wofuer': 1516, 'alimentie': 1517, 'daue': 1518, 'aufruf': 1519, 'ps': 1520, 'diversity': 1521, 'anders': 1522, 'freesou29733893': 1523, 'fluechtlingen': 1524, 'terrorist': 1525, 'franzoesische': 1526, 'kommunisten': 1527, 'lebt': 1528, 'geistigen': 1529, 'vollpfosten': 1530, 'sogenannten': 1531, 'moslem': 1532, 'polen': 1533, 'paragrafen': 1534, 'jesus': 1535, 'niedrigloehner': 1536, 'rente': 1537, 'suppenkueche': 1538, 'klein': 1539, 'nuernberg': 1540, 'in': 1541, 'bande': 1542, 'brandt': 1543, 'gestoe': 1544, 'strassburg': 1545, 'ziemiak': 1546, 'oeffentlich': 1547, 'behandlung': 1548, 'jeder': 1549, 'verboten': 1550, 'hilft': 1551, 'gewonnen': 1552, 'korrupt': 1553, 'zuschauer': 1554, 'dgb': 1555, 'sozialistische': 1556, 'buergerliche': 1557, 'bolschewik69': 1558, 'fjodor': 1559, 'sibelschick': 1560, 'gesprochen': 1561, 'innen': 1562, 'priv187': 1563, 'lies': 1564, 'quelle': 1565, 'kontrollieren': 1566, 'daher': 1567, 'haengt': 1568, 'hundimbuero': 1569, 'moegen': 1570, 'groesseren': 1571, 'lol': 1572, 'haha': 1573, 'loser': 1574, 'lobby': 1575, 'gemeinsam': 1576, 'gelbe': 1577, 'symbol': 1578, 'pfosten': 1579, 'sache': 1580, 'tuebingen': 1581, 'blick': 1582, 'legt': 1583, 'lkw': 1584, 'biene': 1585, 'diesel': 1586, 'lage': 1587, 'yo': 1588, 'nan': 1589, 'kurden': 1590, 'tobiashuch': 1591, 'redace78': 1592, 'zustand': 1593, 'hiermit': 1594, '0001f610': 1595, 'nee': 1596, 'kllnazis': 1597, 'gutschein': 1598, 'opa': 1599, 'liberale': 1600, 'edithkltzhndlr': 1601, 'themen': 1602, 'presseclub': 1603, 'maxihome27': 1604, 'reiben': 1605, 'rektal': 1606, 'palaestinas': 1607, 'israelischen': 1608, 'dintenfelder': 1609, 'kraehenbeisser': 1610, 'hintergrund': 1611, '0001f3fd': 1612, 'vulgaerbahamit': 1613, 'mayhem': 1614, 'judenwiderstand': 1615, 'tl': 1616, 'catinchief': 1617, 'kasper': 1618, '17': 1619, 'akerstan': 1620, 'systemkritik24': 1621, 'galactica2019': 1622, 'darfst': 1623, 'torsten62128502': 1624, 'connybub': 1625, 'pruefung': 1626, 'sixtus': 1627, 'fisch': 1628, 'manni': 1629, 'schwiege': 1630, 'ochtergesucht': 1631, 'yotta': 1632, 'hambibleibt': 1633, '19h': 1634, 'vdleyen': 1635, 'gesichter': 1636, 'aufklaerung': 1637, 'verwir': 1638, 'schmarotzer': 1639, 'treu': 1640, 'stunde': 1641, 'berichterstattung': 1642, 'wege': 1643, 'seltsam': 1644, 'ferkelmedien': 1645, 'heuchler': 1646, 'lebenslang': 1647, 'bereit': 1648, 'liebster': 1649, 'fuellen': 1650, 'ndrinfo': 1651, 'gefluechtete': 1652, 'rosenthal': 1653, 'umgesetzt': 1654, 'dpa': 1655, 'la': 1656, 'gewissen': 1657, 'morgenpost': 1658, 'betrachtet': 1659, '09': 1660, 'stinkt': 1661, 'bloede': 1662, 'eigenes': 1663, 'extra': 1664, 'irgendwo': 1665, 'skandal': 1666, 'bewiesen': 1667, 'weise': 1668, 'mittwoch': 1669, 'offen': 1670, 'begehen': 1671, 'heutejournal': 1672, 'echter': 1673, 'personen': 1674, 'schreit': 1675, 'kauft': 1676, 'landes': 1677, 'erreicht': 1678, 'michel': 1679, 'getragen': 1680, '1945': 1681, 'finanzieren': 1682, 'sterben': 1683, 'unsinn': 1684, 'froh': 1685, 'spinnen': 1686, 'toeten': 1687, 'gezogen': 1688, 'kraft': 1689, 'regierungen': 1690, 'vo': 1691, 'ermorden': 1692, 'annehmen': 1693, 'okay': 1694, 'doof': 1695, 'str': 1696, 'forde': 1697, 'chef': 1698, 'schande': 1699, 'republik': 1700, 'gundel': 1701, 'gaukeley': 1702, 'begriffe': 1703, '0001f613': 1704, 'maas': 1705, 'dt': 1706, 'linkoiden': 1707, 'sebastianhampel': 1708, 'entfolgt': 1709, 'rettung': 1710, 'and': 1711, 'haar': 1712, 'versteht': 1713, 'durchaus': 1714, 'youtube': 1715, 'bunt': 1716, 'muslime': 1717, 'anderen': 1718, 'pqgregor': 1719, 'ichbinschoener': 1720, 'gmeiderich': 1721, 'zeichen': 1722, 'gerecht': 1723, 'fiel': 1724, 'louiecrit': 1725, '0001f607': 1726, 'wetter': 1727, 'kriegen': 1728, 'hin': 1729, 'ell': 1730, 'apa': 1731, 'ethnische': 1732, 'stelle': 1733, 'boden': 1734, 'reich': 1735, 'troll': 1736, 'reichsbuerger': 1737, 'insbesondere': 1738, 'ausserdem': 1739, 'umgekeh': 1740, 'live': 1741, '0001f1e9': 1742, '0001f1ea': 1743, 'venezuela': 1744, 'uebel': 1745, 'block': 1746, 'sowie': 1747, 'kanzleramt': 1748, 'probleme': 1749, 'meinte': 1750, 'unterstellen': 1751, 'be': 1752, 'marx': 1753, 'akademischen': 1754, 'sohn': 1755, 'debatte': 1756, 'merke': 1757, 'unterschiede': 1758, 'kritisieren': 1759, 'knapp': 1760, '60': 1761, 'muslimische': 1762, 'ihr': 1763, 'vogel': 1764, 'pegida': 1765, 'weltweit': 1766, 'saudi': 1767, 'arabien': 1768, 'baut': 1769, 'afrikaner': 1770, 'wissenschaftlichen': 1771, 'leistung': 1772, 'nationen': 1773, 'weisser': 1774, 'merkels': 1775, 'konze': 1776, 'rufen': 1777, 'meer': 1778, 'definie': 1779, 'blase': 1780, 'schwachsinn': 1781, 'brauch': 1782, 'tieren': 1783, '50': 1784, '00': 1785, 'millerntor': 1786, 'sky': 1787, 'drin': 1788, 'melden': 1789, 'verlie': 1790, 'musik': 1791, 'wahr': 1792, 'och': 1793, 'freut': 1794, 'vorne': 1795, 'dfb': 1796, 'todespuschel': 1797, 'schaut': 1798, 'team': 1799, 'grundsaetzlich': 1800, 'isso': 1801, 'faengt': 1802, 'hinten': 1803, 'herz': 1804, 'sankt': 1805, 'wand': 1806, '69': 1807, 'hmmmm': 1808, 'hauptsache': 1809, 'unbedingt': 1810, 'kack': 1811, 'feiern': 1812, 'sitzt': 1813, 'app': 1814, 'spaltung': 1815, 'respekt': 1816, 'kritisie': 1817, 'widerlegt': 1818, 'falschen': 1819, 'ditfu': 1820, 'staates': 1821, 'existie': 1822, 'kahrs': 1823, 'lurhenne': 1824, 'tschuess': 1825, 'auslaender': 1826, 'gemeinschaft': 1827, 'widerspricht': 1828, 'bin': 1829, 'rechter': 1830, 'absolut': 1831, 'obwohl': 1832, 'schreibst': 1833, 'erzaehlt': 1834, 'gehabt': 1835, 'erleben': 1836, 'dich': 1837, 'lenin': 1838, 'kennen': 1839, 'schrieb': 1840, 'fetisch': 1841, 'schreibe': 1842, 'nsu': 1843, 'freien': 1844, 'regeln': 1845, 'drohen': 1846, 'besondere': 1847, 'prinzip': 1848, 'tazgezwitscher': 1849, 'bs': 1850, 'abschiebung': 1851, 'konservative': 1852, 'anspruch': 1853, 'vorschlag': 1854, 'neu': 1855, '9': 1856, 'starke': 1857, 'retweeten': 1858, 'rechten': 1859, 'fuchs': 1860, 'back': 1861, 'jfda': 1862, 'ev': 1863, 'schoenen': 1864, 'wissenschaft': 1865, 'jreichelt': 1866, 'bundeswehr': 1867, 'kunst': 1868, 'what': 1869, 'grknzrstrr': 1870, 'klingt': 1871, 'komm': 1872, 'fickt': 1873, 'erlebt': 1874, 'kurze': 1875, 'argumentum': 1876, 'ad': 1877, 'wahren': 1878, 'innerhalb': 1879, 'brauche': 1880, 'tief': 1881, 'bekomme': 1882, 'verfolgung': 1883, 'wusste': 1884, 'frueh': 1885, 'juckt': 1886, 'bestehen': 1887, 'bieten': 1888, 'bestes': 1889, 'guete': 1890, 'dann': 1891, 'verlangen': 1892, 'bewegung': 1893, 'verschiedenen': 1894, 'sehr': 1895, 'beleg': 1896, 'erarbeitet': 1897, 'stiftung': 1898, 'niveau': 1899, 'blog': 1900, 'existenz': 1901, 'bilden': 1902, 'existenzrecht': 1903, 'nutzt': 1904, 'eindeutig': 1905, 'prozent': 1906, 'volle': 1907, 'solltest': 1908, 'link': 1909, 'absurd': 1910, 'aussieht': 1911, 'mittelmeer': 1912, 'tatsaechlichen': 1913, 'regen': 1914, 'kassieren': 1915, 'mieses': 1916, 'superliebling': 1917, 'asylindustrie': 1918, 'ichbinkoelnerin': 1919, 'wieviel': 1920, 'wahlen': 1921, 'google': 1922, 'banken': 1923, 'verfuegung': 1924, 'schmierblatt': 1925, 'focus': 1926, 'mutter': 1927, 'erkennt': 1928, 'erlauben': 1929, 'brennt': 1930, '0001f62b': 1931, 'ordnung': 1932, 'wo': 1933, 'volks': 1934, 'deutschlandfeindlichen': 1935, 'bekaempfen': 1936, 'nasanasal': 1937, 'stimulator': 1938, 'jugend': 1939, 'illegale': 1940, 'schaemen': 1941, 'nebenbei': 1942, 'luft': 1943, 'schulen': 1944, 'netzdenunziant': 1945, 'deutsch365': 1946, 'akzeptieren': 1947, 'refugees': 1948, 'haufen': 1949, 'perverse': 1950, 'georg': 1951, 'einkommen': 1952, 'aufs': 1953, 'sozialpolitik': 1954, 'protestieren': 1955, 'gegenstand': 1956, 'wuenscht': 1957, 'unglaubwuerdig': 1958, 'wollte': 1959, 'pass': 1960, '21': 1961, 'stolz': 1962, 'aerzte': 1963, 'lehnt': 1964, 'gesundheit': 1965, 'keiner': 1966, 'erfahren': 1967, 'hatte': 1968, 'unwaehlbar': 1969, 'monat': 1970, 'druck': 1971, 'stimme': 1972, 'rund': 1973, 'chefin': 1974, 'andrea': 1975, 'fueh': 1976, 'mitglieder': 1977, 'inzwischen': 1978, 'derzeit': 1979, 'kindergeld': 1980, 'wohnung': 1981, 'unmoeglich': 1982, 'sklaverei': 1983, 'abschaffung': 1984, 'agenda': 1985, 'griff': 1986, 'legitim': 1987, 'annegret': 1988, 'voelker': 1989, 'lauter': 1990, 'vorsitzende': 1991, 'falle': 1992, 'ansehen': 1993, 'sendung': 1994, 'knecht': 1995, 'ruprecht': 1996, 'heutige': 1997, 'bedanken': 1998, 'ergibt': 1999, 'journalisten': 2000, 'argument': 2001, 'klatschen': 2002, 'pomo': 2003, 'sex': 2004, 'dak': 2005, 'hassen': 2006, 'sibel': 2007, 'schick': 2008, 'getan': 2009, 'fernsehen': 2010, 'engels': 2011, 'marxismus': 2012, 'vergangenheit': 2013, 'antideutsche': 2014, 'meme': 2015, 'strukturen': 2016, 'fleisch': 2017, 'her': 2018, 'erinnern': 2019, 'bedenken': 2020, 'erledigt': 2021, 'wirkt': 2022, 'gruppen': 2023, 'politburogamer': 2024, 'zugelassen': 2025, 'knast': 2026, 'prozess': 2027, 'befreit': 2028, 'nenne': 2029, 'shame': 2030, 'incel': 2031, 'hoeher': 2032, 'platt': 2033, 'symbolik': 2034, 'locker': 2035, 'woe': 2036, 'demonstrieren': 2037, 'uebernommen': 2038, 'leicht': 2039, 'bullshit': 2040, 'palmer': 2041, 'erfahrung': 2042, 'erreichen': 2043, 'holler': 2044, 'spo': 2045, 'geholfen': 2046, 'panik': 2047, 'empfehle': 2048, 'tigerelch': 2049, 'marcobuelow': 2050, 'spiele': 2051, '27': 2052, 'gewesen': 2053, 'zweifel': 2054, 'vergleichen': 2055, 'franz': 2056, 'wuesste': 2057, 'cookdirkh': 2058, 'infos': 2059, 'frag': 2060, 'beschaeftigen': 2061, 'miriamwoelke': 2062, 'trauer': 2063, 'gesetze': 2064, 'osten': 2065, 'bislang': 2066, 'ausgehen': 2067, 'ige': 2068, 'ismailtipi': 2069, 'meinen': 2070, 'hund': 2071, '26': 2072, 'menschenverstand': 2073, '0001f627': 2074, 'gauland': 2075, 'k1schwester': 2076, 'philosophie': 2077, 'jungle': 2078, 'eidigen': 2079, 'denk': 2080, 'netz': 2081, 'putin': 2082, 'dahinter': 2083, 'gewaehlte': 2084, 'kluk': 2085, 'bedroht': 2086, 'reibung': 2087, 'werke': 2088, '0001f3b5': 2089, 'man': 2090, 'googlenews': 2091, 'berichtet': 2092, 'manipulie': 2093, 'aktuell': 2094, 'ntv': 2095, 'migrationspakt': 2096, 'stephanieklm8': 2097, 'zionistischer': 2098, 'demokratisch': 2099, 'ashkenazim': 2100, 'sog': 2101, 'nachfahren': 2102, 'juedischen': 2103, 'vaseline': 2104, 'splitter': 2105, 'voelkerrecht': 2106, 'palaestinensern': 2107, 'freund': 2108, 'terrorbanden': 2109, 'kolonisierung': 2110, 'zionismus': 2111, 'namens': 2112, 'verleumden': 2113, 'religioesen': 2114, 'tel': 2115, 'aviv': 2116, 'selten': 2117, 'ahmadmansour': 2118, 'j': 2119, 'mentions': 2120, 'isolie': 2121, 'island': 2122, 'on': 2123, 'antizionismus': 2124, 'nurzumballernda': 2125, 'ruhe': 2126, 'schweizok': 2127, 'croqisunshine': 2128, 'swingtanz': 2129, 'miriamozen': 2130, 'pfui': 2131, 'luna': 2132, 'le': 2133, 'sachen': 2134, 'sack': 2135, 'nazifresser': 2136, 'wolfssanguis': 2137, 'netteliebe': 2138, 'abgelehnten': 2139, 'behauptung': 2140, 'rueckfuehrungen': 2141, 'tatsache': 2142, 'trollpunk69': 2143, 'herrlehmann': 2144, 'lieselotte2604': 2145, 'manta': 2146, 'proseccoprinz': 2147, 'moschee': 2148, 'defendafrin': 2149, 'hauptwache': 2150, '13h': 2151, '15h': 2152, 'kurdistan': 2153, 'hbf': 2154, 'vollversammlung': 2155, 'rojrev69': 2156, 'hdp': 2157, 'correctiv': 2158, 'ausgeht': 2159, 'dlfnachrichten': 2160, 'senden': 2161, 'stz': 2162, 'erkennbar': 2163, 'trifft': 2164, 'wiesbaden': 2165, 'focusonline': 2166, 'ritt': 2167, 'springen': 2168, 'musste': 2169, 'billig': 2170, 'funktionieren': 2171, 'milliarden': 2172, 'gefaengnisse': 2173, 'fachkraefte': 2174, 'jungfernstieg': 2175, 'ge': 2176, 'swraktuellbw': 2177, 'loest': 2178, 'ndrsh': 2179, 'jaehrige': 2180, 'verdaechtigen': 2181, 'abgeschoben': 2182, 'verhaftet': 2183, 'still': 2184, 'den': 2185, 'pkw': 2186, 'duerfte': 2187, 'einzelfall': 2188, 'bedeutung': 2189, 'mz': 2190, 'quedlinburg': 2191, 'mzwebde': 2192, 'einer': 2193, 'hoer': 2194, 'entscheidung': 2195, 'gutmensch': 2196, 'heul': 2197, 'einzeltaeter': 2198, 'runter': 2199, 'verbrecher': 2200, 'invasion': 2201, 'dame': 2202, 'bund': 2203, 'stimmung': 2204, 'geschaffen': 2205, 'geistes': 2206, 'erwaehnt': 2207, 'zufrieden': 2208, 'laecheln': 2209, 'dankbar': 2210, 'jaehriger': 2211, 'bewaehrung': 2212, 'paradies': 2213, 'schaden': 2214, 'benutzt': 2215, 'steuergeld': 2216, 'erfindung': 2217, 'aufrecht': 2218, 'asylbewerber': 2219, 'mexcybill': 2220, 'ruecktritt': 2221, 'bezogen': 2222, 'form': 2223, 'bei': 2224, '45': 2225, 'lohnt': 2226, 'ueberlegen': 2227, 'tausende': 2228, 'tichyseinblick': 2229, 'formen': 2230, 'bildung': 2231, 'eigendlich': 2232, 'aufarbeitung': 2233, 'geniessen': 2234, 'echten': 2235, 'gruende': 2236, 'sumpf': 2237, 'kostet': 2238, 'staedte': 2239, 'labern': 2240, 'schiesst': 2241, 'wind': 2242, 'ruinie': 2243, 'last': 2244, 'radikale': 2245, 'netzwerk': 2246, 'verkauft': 2247, 'verkaufen': 2248, 'bach': 2249, 'jaehrigen': 2250, 'schlagen': 2251, 'krimminellen': 2252, 'hammer': 2253, 'tote': 2254, 'bestimmen': 2255, 'vermissen': 2256, 'bundeskanzlerin': 2257, 'verbloedet': 2258, 'petraschnautzer': 2259, '0001f915': 2260, 'em': 2261, 'saar': 2262, 'konservativen': 2263, 'sagst': 2264, 'klatsche': 2265, 'chebli': 2266, 'markus': 2267, 'sozis': 2268, '0001f917': 2269, '0001f92f': 2270, 'maedchen': 2271, 'bewahren': 2272, 'ansichten': 2273, 'interessant': 2274, 'geschieht': 2275, '0001f9d0': 2276, 'big': 2277, 'brennen': 2278, 'bekanntlich': 2279, 'patriarchat': 2280, 'viel': 2281, 'toten': 2282, 'universitaeten': 2283, 'commiesraus': 2284, 'zaehlt': 2285, 'gebaut': 2286, 'groessenwahn': 2287, '2764': 2288, 'inneren': 2289, 'globalisten': 2290, 'schariapa': 2291, 'arabische': 2292, 'asylrecht': 2293, 'like': 2294, 'gefasst': 2295, 'sachsen': 2296, 'weihnachtsmarkt': 2297, 'russland': 2298, 'grenze': 2299, 'herrschende': 2300, 'museum': 2301, 'fans': 2302, 'prueffall': 2303, 'blut': 2304, 'fussirud': 2305, 'gehoere': 2306, 'vorhanden': 2307, 'notwehr': 2308, 'staendig': 2309, 'geradezu': 2310, 'einheimische': 2311, 'fehlen': 2312, 'kriminelle': 2313, 'dreist': 2314, 'hinweis': 2315, 'verfassung': 2316, 'zivilisie': 2317, 'typisch': 2318, 'elsmann': 2319, 'zunaechst': 2320, 'shoa': 2321, 'angelikatappe': 2322, 'ex': 2323, 'foxb29528584': 2324, 'erkenntnis': 2325, 'entziehen': 2326, 'wichtiger': 2327, 'hinterher': 2328, 'stets': 2329, '0001f411': 2330, 'geaende': 2331, 'chinoe21': 2332, 'chinesen': 2333, 'rasse': 2334, 'natur': 2335, 'che': 2336, 'schwarze': 2337, 'geist': 2338, 'genauer': 2339, 'kannte': 2340, 'exakt': 2341, 'globale': 2342, 'ansiedlung': 2343, 'inzucht': 2344, 'nunmal': 2345, 'supremacy': 2346, 'nachdem': 2347, 'wahnsinn': 2348, 'gefaelligst': 2349, 'somit': 2350, 'one': 2351, 'pech': 2352, 'juedisches': 2353, 'likes': 2354, 'fckafd': 2355, 'einfuehrung': 2356, 'guck': 2357, 'verlinkt': 2358, 'beweis': 2359, 'rechtfe': 2360, 'besucht': 2361, 'enthalten': 2362, 'mutti': 2363, 'tage': 2364, 'zeitgemaess': 2365, 'foerdern': 2366, 'pleite': 2367, 'auseinandersetzung': 2368, 'hab': 2369, 'obe': 2370, 'nato': 2371, 'schlechte': 2372, 'aue': 2373, 'willkommen': 2374, 'aufstehen': 2375, 'tore': 2376, 'offiziell': 2377, 'beeindruckt': 2378, 'kosten': 2379, 'geilste': 2380, 'tante': 2381, '3sat': 2382, 'pfeifen': 2383, 'bessere': 2384, 'mannschaft': 2385, 'schiessen': 2386, 'armes': 2387, 'segen': 2388, 'relegation': 2389, 'spitzenreiter': 2390, 'pro': 2391, 'vernuenftige': 2392, 'albern': 2393, 'bochum': 2394, 'eins': 2395, 'klassenkampf': 2396, 'geile': 2397, 'sinnlos': 2398, 'stirbt': 2399, 'auszuhalten': 2400, 'verschwoerung': 2401, 'solch': 2402, 'db': 2403, 'wild': 2404, 'gemeint': 2405, 'papier': 2406, 'auseinander': 2407, 'ihn': 2408, 'schlicht': 2409, 'jeden': 2410, 'riot': 2411, 'ziele': 2412, 'reter': 2413, 'kapitalistischen': 2414, 'verdeutlicht': 2415, 'konstantinnotz': 2416, 'kinzig9': 2417, 'veranstaltung': 2418, 'semicaper': 2419, 'aufmerksam': 2420, 'derjenige': 2421, 'rassistisch': 2422, 'bleibe': 2423, 'npd': 2424, 'vorwurf': 2425, 'reagieren': 2426, 'versuch': 2427, 'roten': 2428, 'nennst': 2429, 'schau': 2430, 'humanismus': 2431, 'kommunistischen': 2432, 'niemanden': 2433, 'maerchen': 2434, 'darunter': 2435, 'gezielte': 2436, 'scheinst': 2437, 'stumm': 2438, 'herrschaft': 2439, 'lehne': 2440, 'stehe': 2441, 'zerstoerung': 2442, 'laden': 2443, 'aktionen': 2444, 'klaeren': 2445, 'meinst': 2446, 'aehm': 2447, 'gehst': 2448, 'beeinflusst': 2449, 'unabhaengigkeit': 2450, 'repo': 2451, 'miete': 2452, 'zerstoeren': 2453, 'acht': 2454, 'krise': 2455, 'mai': 2456, 'november': 2457, 'oben': 2458, 'werdasliestist': 2459, 'b0911': 2460, 'lebe': 2461, 'spaetestens': 2462, 'at': 2463, 'weitem': 2464, 'friedrich': 2465, 'daraus': 2466, 'aehnlich': 2467, 'amadeuantonio': 2468, 'tiefer': 2469, 'hierzu': 2470, 'blau': 2471, 'atemzug': 2472, 'draus': 2473, 'unterstuetzt': 2474, 'einkaufen': 2475, 'gegessen': 2476, 'wochenende': 2477, 'abgeben': 2478, 'fotos': 2479, '90': 2480, 'passen': 2481, 'sprecher': 2482, 'finger': 2483, '08': 2484, 'pause': 2485, 'staerker': 2486, 'vieler': 2487, 'verweisen': 2488, 'nurnoch': 2489, 'angesprochen': 2490, 'generell': 2491, 'steckt': 2492, 'schwerer': 2493, 'vergewaltigung': 2494, 'neben': 2495, 'serie': 2496, 'norwegen': 2497, 'bahamas': 2498, 'wochen': 2499, 'beende': 2500, 'wenigen': 2501, 'aufm': 2502, 'leude': 2503, 'witze': 2504, 'ziehst': 2505, 'auge': 2506, 'behalten': 2507, 'kitka': 2508, 'besseres': 2509, 'herum': 2510, 'bauch': 2511, 'tatzaechlich': 2512, 'absichtlich': 2513, 'kaputt': 2514, 'drehen': 2515, 'dass': 2516, 'gesamte': 2517, 'gs': 2518, 'verwe': 2519, 'fundament': 2520, 'biologie': 2521, 'genderstudies': 2522, 'explizit': 2523, 'gefragt': 2524, 'eingestellt': 2525, 'baum': 2526, 'schmidt': 2527, 'gender': 2528, 'weiterer': 2529, 'sicht': 2530, 'vorgehen': 2531, 'argumentation': 2532, 'sta': 2533, 'objektiver': 2534, 'verbreitet': 2535, 'alternativen': 2536, 'beweisen': 2537, 'maul': 2538, 'monaten': 2539, 'groessere': 2540, 'keller': 2541, 'hose': 2542, 'lohnen': 2543, 'fuehl': 2544, 'atmen': 2545, 'schulter': 2546, 'wahemue': 2547, 'goldene': 2548, 'bio': 2549, 'moslembonus': 2550, 'afrik': 2551, 'aufhoeren': 2552, 'dreckspack': 2553, 'irgendein': 2554, 'treiben': 2555, 'eingesetzt': 2556, 'gesetzt': 2557, 'laenger': 2558, 'oma': 2559, '66norweger66': 2560, 'fake': 2561, 'knie': 2562, 'linksfaschistischen': 2563, 'illegal': 2564, 'geboren': 2565, 'aufgewachsen': 2566, 'freiwillig': 2567, 'gtzfrmming': 2568, 'produkt': 2569, 'kuppp005': 2570, 'allahkotz': 2571, 'kackbar': 2572, 'friedens': 2573, 'moslems': 2574, 'teppich': 2575, 'schweizok2': 2576, 'widerlicher': 2577, 'ausueben': 2578, 'sawsanchebli': 2579, 'staatlichen': 2580, 'scholz': 2581, 'zirkus': 2582, 'terroranschlag': 2583, 'aba': 2584, 'gelaufen': 2585, 'bunte': 2586, 'uebrig': 2587, 'leisten': 2588, 'politisches': 2589, 'menge': 2590, 'verhaeltnisse': 2591, 'europaeische': 2592, 'massenmoerder': 2593, 'spreche': 2594, 'zustaende': 2595, 'destabilisierung': 2596, 'anderes': 2597, 'schmeisst': 2598, 'schoeneberg': 2599, 'angewide': 2600, 'humor': 2601, 'twittern': 2602, 'kohle': 2603, 'anemalon19': 2604, 'eingesper': 2605, 'kirche': 2606, 'schliesslich': 2607, 'staatliche': 2608, 'beobachten': 2609, '0001f636': 2610, 'expe': 2611, 'wuenschen': 2612, 'schirm': 2613, 'renatekuenast': 2614, 'anhaenger': 2615, 'papst': 2616, 'mieser': 2617, 'don': 2618, 'gegner': 2619, 'kriechen': 2620, 'vollen': 2621, 'andreasstraub': 2622, 'warnt': 2623, 'rechtsradikaler': 2624, 'erneut': 2625, 'gearbeitet': 2626, 'gefallen': 2627, 'handy': 2628, 'neumann': 2629, '1948': 2630, '2003': 2631, 'f': 2632, 'verrecken': 2633, 'arbeitsminister': 2634, 'hube': 2635, 'mindestlohn': 2636, 'schlimmste': 2637, 'schueler': 2638, 'vize': 2639, 'forderung': 2640, 'lohn': 2641, 'generationen': 2642, 'januar': 2643, 'messerstecher': 2644, 'bundesland': 2645, 'angriffe': 2646, 'aerztin': 2647, 'abtreibungen': 2648, 'jahres': 2649, 'fair': 2650, 'malochen': 2651, 'grossbritannien': 2652, 'parlament': 2653, 'status': 2654, 'aerzten': 2655, 'konsequenzen': 2656, 'umstrittener': 2657, 'tages': 2658, 'heutzutage': 2659, 'schlechtes': 2660, 'willy': 2661, 'gaebe': 2662, 'schneller': 2663, 'denn': 2664, 'sprachen': 2665, 'generalsekretaer': 2666, 'mini': 2667, 'angriff': 2668, 'sozialen': 2669, 'versorgung': 2670, 'gezwungen': 2671, 'meinungsfreiheit': 2672, 'kostenlose': 2673, 'jemen': 2674, 'waffen': 2675, 'leichen': 2676, 'umweltschutz': 2677, 'billige': 2678, 'finanzen': 2679, 'abtreibung': 2680, 'digitalisierung': 2681, 'eitag': 2682, 'wehren': 2683, 'gerettet': 2684, 'arbeitgeber': 2685, 'paragraphen': 2686, 'widersprechen': 2687, 'plant': 2688, 'hungerloehne': 2689, 'voran': 2690, 'friedliche': 2691, 'alice': 2692, 'weidel': 2693, 'knochen': 2694, 'umfragen': 2695, 'wahlgangs': 2696, '1001': 2697, 'gestiegen': 2698, '1000': 2699, 'titel': 2700, 'halben': 2701, 'preis': 2702, '600': 2703, 'bekamen': 2704, 'tritt': 2705, 'einsetzen': 2706, 'habeck': 2707, 'gesellschaftlichen': 2708, 'jusos': 2709, 'systematisch': 2710, 'wetten': 2711, '49': 2712, 'hegel': 2713, 'fischblog': 2714, 'buergerlichen': 2715, 'anteil': 2716, 'hueh': 2717, 'togliatti47': 2718, 'nice': 2719, 'saturnos': 2720, 'bestimmte': 2721, 'schwierig': 2722, 'gehts': 2723, 'rausholen': 2724, 'verstand': 2725, 'teile': 2726, 'takes': 2727, 'antikommunismus': 2728, 'dvds72439334': 2729, 'out': 2730, 'betreiben': 2731, 'theorie': 2732, 'cocacola': 2733, 'nakromar': 2734, 'fettcreme': 2735, 'bisherigen': 2736, 'autos': 2737, 'know': 2738, 'produkte': 2739, 'halbwegs': 2740, 'geloest': 2741, 'forderungen': 2742, 'ideologische': 2743, 'bescheid': 2744, 'streiten': 2745, 'vermutlich': 2746, 'gewisse': 2747, 'hans': 2748, 'aussen': 2749, 'tradition': 2750, 'kein': 2751, 'schlechter': 2752, 'autor': 2753, 'self': 2754, 'empowerment': 2755, 'buergerlicher': 2756, 'antifaschismus': 2757, 'kommunist': 2758, 'kontext': 2759, 'alles': 2760, 'woke': 2761, 'lernt': 2762, 'backenkrampf': 2763, 'zinsen': 2764, 'arowings1': 2765, 'anziehen': 2766, 'inhaltslose': 2767, 'bezog': 2768, 'notwendigkeit': 2769, 'gelben': 2770, 'steine': 2771, 'schmeissen': 2772, 'katastrophe': 2773, 'relevanz': 2774, 'bemerkenswe': 2775, 'verwendet': 2776, 'vorsichtig': 2777, 'irgendwelche': 2778, 'acid23': 2779, 'bock': 2780, 'gucken': 2781, 'feststellen': 2782, 'kugel': 2783, 'leichter': 2784, 'kapieren': 2785, 'schmerz': 2786, 'or': 2787, 'mund': 2788, 'business': 2789, 're': 2790, 'diverse': 2791, 'rock': 2792, 'cool': 2793, 'interessen': 2794, 'hashtag': 2795, 'eliyahhavemann': 2796, 'wirken': 2797, 'faul': 2798, 'mut': 2799, 'gebu': 2800, 'ermordeten': 2801, 'baby': 2802, 'shira': 2803, 'siehst': 2804, 'produzie': 2805, 'nahen': 2806, 'fahrer': 2807, 'kollegin': 2808, 'gewaltsam': 2809, 'anblick': 2810, 'straftat': 2811, 'krankenhaus': 2812, 'duloxetin': 2813, '120mg': 2814, 'demnaechst': 2815, 'loswerden': 2816, 'aha': 2817, 'dicke': 2818, 'raut': 2819, 'jugendwiderstand': 2820, 'groesser': 2821, 'duemmer': 2822, 'protest': 2823, 'bedrohung': 2824, 'demokratische': 2825, 'verharmlost': 2826, 'praesidenten': 2827, 'diktator': 2828, 'bomben': 2829, 'massen': 2830, 'fan': 2831, 'kritiker': 2832, 'linksliberale': 2833, 'beleidigt': 2834, 'profil': 2835, 'journos': 2836, 'lappen': 2837, 'geklae': 2838, 'internationale': 2839, 'sophiepassmann': 2840, 'verkeh': 2841, '29': 2842, 'buergi': 2843, 'xd': 2844, 'verblendet': 2845, 'gefuehle': 2846, 'sry': 2847, 'frege': 2848, 'russell': 2849, 'quine': 2850, 'durchlaufen': 2851, 'derrida': 2852, 'geldes': 2853, 'prove': 2854, 'wrong': 2855, 'juenger': 2856, 'alman': 2857, 'kommunistische': 2858, 'filme': 2859, 'diskutieren': 2860, 'faschisten': 2861, 'mitte': 2862, 'just': 2863, 'hetzt': 2864, 'qua': 2865, 'identitaere': 2866, 'schlaegt': 2867, 'giletsjaunes': 2868, 'ehrenmann': 2869, '0001f525': 2870, 'reissen': 2871, 'zivilisation': 2872, 'hoffnung': 2873, 'aufgeben': 2874, 'ueberzeugt': 2875, 'nimm': 2876, 'asylbetrueger': 2877, 'trends': 2878, 'hoere': 2879, 'historische': 2880, 'waren': 2881, 'praesentieren': 2882, 'nirgends': 2883, '0001f648': 2884, 'gross': 2885, 'migrationsbericht': 2886, 'diskutie': 2887, 'beleidigungen': 2888, 'michael': 2889, 'vielmehr': 2890, 'erfaeh': 2891, 'berufen': 2892, 'eventuell': 2893, 'taeters': 2894, 'arabisch': 2895, 'bottrop': 2896, 'soli': 2897, 'gekommen': 2898, 'loriotfehlt': 2899, 'kunden': 2900, 'gold': 2901, 'exil': 2902, 'versprochen': 2903, 'hause': 2904, 'verdient': 2905, 'fehlverhalten': 2906, 'heyhoheyho7': 2907, 'utew19': 2908, 'buendnis': 2909, 'truppe': 2910, 'sobald': 2911, 'ideologischen': 2912, 'verdraengen': 2913, 'kittypunk7': 2914, 'bezieht': 2915, 'supremacist': 2916, 'massakrie': 2917, 'region': 2918, 'voelkermord': 2919, 'fussball': 2920, 'jewish': 2921, 'siedle': 2922, 'erroristen': 2923, 'unabhaengige': 2924, 'saeuberung': 2925, 'historikers': 2926, 'pappe': 2927, 'noe': 2928, 'staaten': 2929, 'oehm': 2930, 'stahlbaron': 2931, 'beschmieren': 2932, 'menschlichkeit': 2933, 'israeli': 2934, 'forces': 2935, 'doku': 2936, 'ueblichen': 2937, 'mietmaeuler': 2938, 'sowohl': 2939, 'roemer': 2940, 'erfunden': 2941, 'berufsluegner': 2942, 'hetzen': 2943, 'gaza': 2944, 'primaer': 2945, 'unterwegs': 2946, 'ausreichend': 2947, 'gepostet': 2948, 'wohin': 2949, 'textverstaendnis': 2950, 'loch': 2951, 'heim': 2952, 'enstein': 2953, 'doppelte': 2954, 'integrie': 2955, 'verhinde': 2956, 'gefangenen': 2957, 'redet': 2958, 'einziges': 2959, 'nachts': 2960, 'tendenzioes': 2961, 'demos': 2962, 'gespannt': 2963, 'ardtelaviv': 2964, 'fleischauge': 2965, 'vermehren': 2966, 'aryeshalicar': 2967, 'lobbyisten': 2968, 'imo': 2969, 'polemik': 2970, '0001f646': 2971, 'memes': 2972, 'son': 2973, 'kneipenjenki': 2974, 'same': 2975, 'aneleh08151': 2976, 'differenzieren': 2977, 'angreift': 2978, 'go': 2979, 'freiwildjaeger': 2980, '0001f91d': 2981, 'schlachten': 2982, 'xenophobie': 2983, 'komplex': 2984, 'nah': 2985, 'auftritt': 2986, 'verdammt': 2987, 'mob': 2988, 'jedenfalls': 2989, 'bietet': 2990, 'denkst': 2991, '666': 2992, 'dresden': 2993, 'stroemung': 2994, 'ah': 2995, 'grunde': 2996, 'jap': 2997, 'countmeout': 2998, 'parasiten': 2999, 'jenshagen12': 3000, 'mittelfinger': 3001, 'ghostwriter': 3002, 'hobby': 3003, 'hysterie': 3004, 'onymonymo': 3005, 'spazieren': 3006, 'zwingen': 3007, 'torsten': 3008, 'luer': 3009, 'vonzainach': 3010, 'clown': 3011, 'nanniag': 3012, 'mozde': 3013, 'afdwirkt': 3014, 'georgrestle': 3015, 'karma': 3016, 'jkasek': 3017, 'bitch': 3018, 'irgend': 3019, 'doragezwitscher': 3020, 'menaretrash': 3021, 'warumafd': 3022, 'wilden': 3023, 'fragst': 3024, 'nippel': 3025, 'zappi': 3026, 'mlebeauf': 3027, 'montevarchi19': 3028, '161schlotle': 3029, 'tommitulpe62': 3030, 'katja44158378': 3031, 'international': 3032, 'policestil': 3033, 'efdlan': 3034, 'dreilaender': 3035, 'voraus': 3036, 'dreht': 3037, 'com': 3038, 'amygdala712': 3039, 'rsigurdurson': 3040, 'aachener': 3041, 'kriege': 3042, 'weiteres': 3043, 'ler': 3044, 'log': 3045, 'prime': 3046, 'time': 3047, 'keim': 3048, 'rupe': 3049, 'amoder': 3050, 'buerger18': 3051, 'thaler': 3052, 'timo': 3053, 'inklusive': 3054, 'gruen': 3055, 'hoehn': 3056, 'mica4711': 3057, 'ferrox': 3058, 'lil': 3059, 'lizzy': 3060, 'stbrandner': 3061, 'hilfreich': 3062, 'dada': 3063, 'grand': 3064, 'zack': 3065, '43ermilch': 3066, 'noafd': 3067, 'gedankensprudel': 3068, 'ronalfinnho': 3069, 'caseysunffm': 3070, '0001f611': 3071, 'homie': 3072, 'hoellenaufsicht': 3073, 'fanta': 3074, 'needfull': 3075, 'verlierer': 3076, 'fahrrad': 3077, 'faeh': 3078, 'craggy': 3079, 'mr': 3080, 'siphr0dias': 3081, 'melak96': 3082, 'dummgeschwaetz': 3083, 'gutleut': 3084, 'bockenheim': 3085, 'konsulat': 3086, 'rojava': 3087, '17h': 3088, 'blockupy': 3089, 'notroika': 3090, 'cafeexzess': 3091, 'saalbau': 3092, 'nofragida': 3093, 'kobane': 3094, 'polit': 3095, 'sbahnberlin': 3096, 'dietechniker': 3097, 'hasnainkazim': 3098, 'historie': 3099, 'richtung': 3100, 'weshalb': 3101, 'realjohr': 3102, 'kemalisten': 3103, 'mopo': 3104, 'strauss': 3105, 'kohl': 3106, 'schwarzgeld': 3107, '1991': 3108, 'zecken': 3109, 'kacken': 3110, 'definitiv': 3111, 'oerr': 3112, 'recherche': 3113, 'herbei': 3114, 'freude': 3115, 'betrug': 3116, 'naehe': 3117, 'baueropfer': 3118, 'verwunde': 3119, 'rbbabendschau': 3120, 'tanzt': 3121, 'passend': 3122, 'singt': 3123, 'glotzen': 3124, 'kamera': 3125, 'handelsblatt': 3126, 'schoener': 3127, 'zdfhannover': 3128, 'durchschaubar': 3129, 'ereignis': 3130, 'sender': 3131, 'besitzt': 3132, 'erika': 3133, 'schrank': 3134, 'strafen': 3135, 'ndrnds': 3136, 'sputnik': 3137, 'toitsch': 3138, 'gerichte': 3139, 'faellen': 3140, 'weh': 3141, 'haft': 3142, 'seawatch': 3143, 'allerliebster': 3144, 'bpol': 3145, 'haengematte': 3146, 'bloedsinn': 3147, 'verdacht': 3148, 'schiff': 3149, 'rassen': 3150, 'entwickeln': 3151, 'getreten': 3152, 'anschein': 3153, 'vorstand': 3154, 'agrar': 3155, 'umgebaut': 3156, 'zdfnrw': 3157, 'lip': 3158, 'jemanden': 3159, 'darstellen': 3160, 'widerlichen': 3161, 'herhalten': 3162, 'falscher': 3163, 'berlinerzeitung': 3164, 'toitscher': 3165, 'kulturell': 3166, 'bedingt': 3167, 'sekte': 3168, 'herrlich': 3169, 'adresse': 3170, 'gerettete': 3171, 'haustuer': 3172, 'versorgen': 3173, 'psychisch': 3174, 'pisst': 3175, 'buchse': 3176, 'bmi': 3177, 'verharmlosen': 3178, 'zeitonline': 3179, 'philippinen': 3180, 'populismus': 3181, 'polizeiberlin': 3182, 'welch': 3183, '1933': 3184, 'gefolgt': 3185, 'haeftling': 3186, 'gaeste': 3187, 'taete': 3188, 'geschlagen': 3189, 'geldstrafe': 3190, 'morgenmagazin': 3191, 'realistischer': 3192, 'aufmerksamkeit': 3193, 'ausschluss': 3194, 'dreimal': 3195, 'fahrverbot': 3196, 'diebstahl': 3197, 'erhaelt': 3198, 'very': 3199, 'mh': 3200, 'beschrieben': 3201, 'gezeigt': 3202, 'br': 3203, 'kontrollie': 3204, 'mutmasslichen': 3205, 'entsorgt': 3206, 'versagen': 3207, 'ablenken': 3208, 'lobt': 3209, 'perfekt': 3210, 'passende': 3211, 'richter': 3212, 'irgendetwas': 3213, 'potpueree': 3214, 'outen': 3215, 'beweist': 3216, 'grosser': 3217, 'dressie': 3218, '33': 3219, 'ups': 3220, 'behandelt': 3221, 'sprich': 3222, 'hannover': 3223, '85': 3224, 'disqualifizie': 3225, 'intelligenz': 3226, 'wirbt': 3227, 'bloeden': 3228, 'reduzie': 3229, 'geheim': 3230, 'spitzel': 3231, 'pp': 3232, 'rabid': 3233, 'glow': 3234, 'nahrung': 3235, 'rolandtichy': 3236, 'dummes': 3237, 'einstellung': 3238, '0001f692': 3239, 'ausschliessen': 3240, 'erkel': 3241, 'vernichten': 3242, 'friedrichmerz': 3243, 'packt': 3244, 'irren': 3245, 'gerissen': 3246, 'klarer': 3247, 'pol': 3248, 'einreden': 3249, 'verunsichern': 3250, 'stuhl': 3251, 'spdbt': 3252, 'erinne': 3253, 'maassen': 3254, 'italien': 3255, 'oesterreich': 3256, 'ueberfallen': 3257, '22': 3258, 'vergewaltigen': 3259, 'zweite': 3260, 'ursache': 3261, 'westlichen': 3262, 'lindner': 3263, 'frohe': 3264, 'neuwahlen': 3265, 'bewahre': 3266, '0001f9d5': 3267, 'kampfbegriff': 3268, 'frank': 3269, 'machtdemonstration': 3270, 'afdkrefeld': 3271, 'mfs': 3272, 'schulterschluss': 3273, 'machte': 3274, 'voelkerrechtswidrig': 3275, 'stinksauer': 3276, 'alexarusss': 3277, 'intellektuell': 3278, 'remake': 3279, 'leonidas': 3280, 'ss': 3281, 'klimas': 3282, 'ruebe': 3283, 'weiblich': 3284, 'dan': 3285, 'more': 3286, 'sonne': 3287, 'installieren': 3288, 'inhalte': 3289, 'ansicht': 3290, 'schuettelt': 3291, 'chayenneheidi': 3292, 'kopftuch': 3293, 'tuerken': 3294, 'fuerchte': 3295, 'offenheit': 3296, 'blaue': 3297, 'bunter': 3298, 'katharina': 3299, 'bruesten': 3300, 'schlampen': 3301, 'propagie': 3302, 'erderwaermung': 3303, '40': 3304, 'womit': 3305, 'halte': 3306, 'nebst': 3307, 'kontrolle': 3308, 'mohammedkult': 3309, 'chauvinisten': 3310, 'krimineller': 3311, 'merkelsiedler': 3312, 'mao': 3313, 'kurs': 3314, 'keks': 3315, 'brachte': 3316, 'linkoide': 3317, 'aktionismus': 3318, 'mdegasse': 3319, 'koenig': 3320, 'freunden': 3321, 'mentnr9': 3322, 'assad': 3323, 'prioritaet': 3324, 'untergeht': 3325, 'auswendig': 3326, 'nationalsozialismus': 3327, 'verfolgten': 3328, 'gewaehren': 3329, 'merkmale': 3330, 'fdgo': 3331, 'oesterreicher': 3332, 'uebernimmt': 3333, 'beachtung': 3334, '5000': 3335, 'erschossen': 3336, 'mitgezaehlt': 3337, 'schutzsuchenden': 3338, 'australien': 3339, 'grenzschutz': 3340, 'kapern': 3341, 'vorderasien': 3342, 'orient': 3343, 'jahrzehnte': 3344, 'geschossen': 3345, 'valentin': 3346, 'konservativ': 3347, 'frauenfeindlich': 3348, 'weiblichen': 3349, 'zeitzumgehen': 3350, 'trennte': 3351, 'gekauften': 3352, 'wiederholt': 3353, 'ruhr': 3354, 'area51': 3355, 'merkelismus': 3356, 'riss': 3357, 'vollhonks': 3358, 'anstreben': 3359, '0001f984': 3360, '0001f921': 3361, '262a': 3362, 'volkes': 3363, 'grundgesetz': 3364, 'unterscheidet': 3365, 'verrueckt': 3366, 'selbstverstaendlich': 3367, 'hoecke': 3368, 'nr': 3369, 'beobachtet': 3370, 'union': 3371, 'dr': 3372, 'tati': 3373, 'vant': 3374, 'zusammenfassung': 3375, 'sabine98036212': 3376, 'drohung': 3377, 'real': 3378, 'verletzen': 3379, 'minderjaehrigen': 3380, 'ostmann1977': 3381, 'amberg': 3382, 'niedriglohn': 3383, 'left': 3384, 'leine': 3385, 'direkte': 3386, 'parallelgesellschaften': 3387, 'familienclans': 3388, 'polygamie': 3389, 'fruechtchen': 3390, 'autokorrektur': 3391, 'brutal': 3392, 'gebunden': 3393, 'hopfen': 3394, 'malz': 3395, 'umgang': 3396, 'safe': 3397, 'id35': 3398, 'naund10': 3399, 'puh': 3400, 'liz': 3401, 'mohn': 3402, '0001f634': 3403, 'basis': 3404, 'variante': 3405, 'varianten': 3406, '70': 3407, 'lesenswe': 3408, 'saemtliche': 3409, 'freundschaftlich': 3410, 'wissenschaftliches': 3411, 'historiker': 3412, 'lebte': 3413, 'jahrzehnten': 3414, 'sozi0815': 3415, '400': 3416, 'tradie': 3417, 'phone': 3418, 'stick': 3419, 'potentiell': 3420, 'gulag': 3421, '0001f6ab': 3422, 'asiaten': 3423, 'latinos': 3424, 'sonstwas': 3425, 'schwarzer': 3426, 'strukturell': 3427, 'widerlich': 3428, 'gegensatz': 3429, 'betrachten': 3430, 'stellung': 3431, 'zuwanderung': 3432, 'erstes': 3433, 'christentum': 3434, 'farbige': 3435, 'kamm': 3436, 'scheren': 3437, 'wissens': 3438, 'scheinen': 3439, 'feindseliger': 3440, 'absoluten': 3441, 'unterirdische': 3442, 'bewegt': 3443, 'aufgeklae': 3444, 'sexuelle': 3445, 'elite': 3446, 'muslimischer': 3447, 'schmarrn': 3448, 'watson': 3449, 'doppelrolle': 3450, 'eilung': 3451, 'schwarzen': 3452, 'kontinent': 3453, 'weissen': 3454, 'mittelfeld': 3455, 'genie': 3456, 'wueste': 3457, 'leidet': 3458, '0001f414': 3459, 'neuthfer': 3460, 'aktueller': 3461, 'begreift': 3462, 'beteiligt': 3463, 'ansatz': 3464, 'gretathunberg': 3465, 'salonkolumnist': 3466, 'nehme': 3467, 'repe': 3468, 'oire': 3469, 'rief': 3470, 'erfand': 3471, 'kuenftig': 3472, 'darwin': 3473, 'mehren': 3474, 'brian': 3475, 'ausloesen': 3476, 'belohnt': 3477, 'chicken': 3478, 'feminist': 3479, 'blocke': 3480, 'gesinnungsbolschewiki': 3481, 'eroeffnung': 3482, 'adolf': 3483, 'bae': 3484, '100jahrefrauenwahlrecht': 3485, 'saurfabian': 3486, 'followern': 3487, 'anarchisten': 3488, 'sieben': 3489, 'nerven': 3490, 'nutze': 3491, 'mond': 3492, 'rueckseite': 3493, 'kuemmern': 3494, 'vorn': 3495, 'empathie': 3496, 'tiere': 3497, 'guenther': 3498, 'diemannschaft': 3499, 'scheiden': 3500, 'anfangen': 3501, 'derbe': 3502, 'dazke': 3503, 'sandhausen': 3504, 'gegenrichtung': 3505, 'anstrengend': 3506, 'anstaendigen': 3507, 'ass': 3508, 'od': 3509, 'sozialistischen': 3510, 'gang': 3511, 'plattform': 3512, 'enschen': 3513, 'icken': 3514, 'wohnen': 3515, 'ga': 3516, 'stock': 3517, 'kostenloses': 3518, 'tool': 3519, 'zurecht': 3520, 'totschlagargument': 3521, 'kalter': 3522, 'fallrueckzieher': 3523, 'allagui': 3524, 'buchti': 3525, 'reihe': 3526, 'fassen': 3527, 'day': 3528, 'saison': 3529, 'menno': 3530, 'se': 3531, 'skandaloes': 3532, 'point': 3533, 'sozusagen': 3534, 'hanka': 3535, 'moody': 3536, 'seufz': 3537, 'amuesie': 3538, 'teer': 3539, 'schaue': 3540, 'eigentor': 3541, 'elfer': 3542, 'raeume': 3543, 'sauber': 3544, 'anlass': 3545, 'vfb': 3546, 'besoffen': 3547, 'fruehen': 3548, 'gerammt': 3549, 'signal': 3550, 'torwa': 3551, 'springt': 3552, 'teddytria': 3553, 'asche': 3554, 'bestaetigt': 3555, '96': 3556, 'bezeichnet': 3557, 'wgt2017': 3558, 'schwach': 3559, 'haare': 3560, 'ebswob': 3561, 'amol': 3562, 'dei': 3563, 'anfaenger': 3564, 'amateure': 3565, 'ueberwunden': 3566, 'wow': 3567, 'jubel': 3568, 'wurscht': 3569, 'sieg': 3570, 'feier': 3571, 'next': 3572, 'aufstieg': 3573, 'jungs': 3574, 'gestimmt': 3575, 'gedreht': 3576, '82': 3577, 'klappe': 3578, 'trottel': 3579, 'beenden': 3580, 'hacken': 3581, 'schiedsrichter': 3582, 'krasse': 3583, 'duemmsten': 3584, 'alexanderplatz': 3585, 'schild': 3586, 'traenen': 3587, 'placebo': 3588, 'kicker': 3589, 'aelter': 3590, 'halbe': 3591, 'tueren': 3592, 'fabianeberhard': 3593, 'fehlanzeige': 3594, 'herrschenden': 3595, 'schwarzepalmen': 3596, 'linkekitagruppe': 3597, 'cops': 3598, 'gelb': 3599, 'angeblichen': 3600, 'opfern': 3601, 'grundlage': 3602, 'minimum': 3603, 'eigentumsverhaeltnissen': 3604, 'lieblingxhain': 3605, 'schuhe': 3606, 'texantifa': 3607, 'achtfach': 3608, 'nehmt': 3609, 'verharmlosung': 3610, 'lowerclassmag': 3611, 'ablehnung': 3612, 'notwendig': 3613, 'humanistische': 3614, 'diskurs': 3615, 'grundrecht': 3616, 'gedacht': 3617, 'queer': 3618, 'rechtsaussen': 3619, 'dr0pr0w': 3620, 'anweisung': 3621, 'alltag': 3622, 'suchmaschine': 3623, 'hinterfragen': 3624, 'autoritaeres': 3625, 'gedankengut': 3626, 'rechtes': 3627, 'annimmt': 3628, 'unterschiedlich': 3629, 'ieren': 3630, 'abschiebungen': 3631, 'dies': 3632, 'pauschal': 3633, 'linie': 3634, 'auschwitz': 3635, 'ewige': 3636, 'migration': 3637, 'kommunistisch': 3638, 'held': 3639, 'stammt': 3640, 'nenn': 3641, 'sprach': 3642, 'arbeitstag': 3643, 'geilheit': 3644, 'entgegenzusetzen': 3645, 'fakt': 3646, 'betroffene': 3647, 'dauerhaft': 3648, 'teilweise': 3649, 'spaeteren': 3650, 'grab': 3651, 'hielt': 3652, 'dienst': 3653, 'motto': 3654, 'beschimpfungen': 3655, 'rassistischer': 3656, 'eignen': 3657, 'schalten': 3658, 'prinzipiell': 3659, 'utopie': 3660, 'weltbild': 3661, 'gepluende': 3662, 'werd': 3663, 'wuetend': 3664, 'machs': 3665, 'geschehen': 3666, 'parlamentarische': 3667, 'radikaler': 3668, 'lauf': 3669, 'analysieren': 3670, 'police': 3671, 'rigaer': 3672, 'staatsanwalts': 3673, 'jaja': 3674, 'ermitteln': 3675, 'betroffenen': 3676, 'oeko': 3677, 'machiavellipod': 3678, 'hiphopde': 3679, 'cosmo': 3680, 'afelia': 3681, 'juedischeonline': 3682, 'kollegah': 3683, 'annefrank': 3684, 'antisem': 3685, 'antisemitism': 3686, 'tagesthemen': 3687, 'nationalismus': 3688, 'gourmande': 3689, 'interview': 3690, 'cash': 3691, 'ausgeben': 3692, 'grinsen': 3693, 'fluegel': 3694, 'larsklingbeil': 3695, 'religioese': 3696, 'agen': 3697, 'aufhebung': 3698, 'age': 3699, 'arbeitnehmer': 3700, 'militant': 3701, 'schwimmt': 3702, 'beides': 3703, 'pack': 3704, 'topf': 3705, '1500': 3706, 'bedingungen': 3707, 'herzmolekuel': 3708, 'religionskritik': 3709, 'moralisch': 3710, 'begleitet': 3711, 'winterfruitloop': 3712, 'zweck': 3713, 'wessen': 3714, 'veronikaharz': 3715, 'primosantoro': 3716, 'schlau': 3717, 'argumentieren': 3718, 'moetant36': 3719, 'wendeiki': 3720, 'beschissen': 3721, 'aktuellen': 3722, 'ajcberlin': 3723, 'daliagrinfeld': 3724, 'antira': 3725, 'genutzt': 3726, 'geschickt': 3727, 'vorzuwerfen': 3728, 'realen': 3729, 'waer': 3730, 'soldaten': 3731, 'organisationen': 3732, 'satt': 3733, 'bombt': 3734, 'dient': 3735, 'berechtigt': 3736, 'daheim': 3737, 'froehlich': 3738, 'packung': 3739, 'zwiebelmettchen': 3740, 'hanner': 3741, 'drache': 3742, 'lel': 3743, 'kopfweh': 3744, 'nehm': 3745, 'nixmehr': 3746, 'kastrie': 3747, 'trefft': 3748, 'sing': 3749, 'bomb': 3750, '149': 3751, 'schreib': 3752, 'email': 3753, 'rutsch': 3754, 'privilegien': 3755, 'verdammtes': 3756, 'andersrum': 3757, 'entlasten': 3758, 'hashtags': 3759, 'blocken': 3760, 'kacke': 3761, 'nervt': 3762, 'einzig': 3763, 'wahre': 3764, 'legitimieren': 3765, 'beziehung': 3766, 'tomson1611': 3767, 'auggcaggaauaugu': 3768, 'arnehoffmann': 3769, 'staci': 3770, 'stasis': 3771, 'ueberspitzt': 3772, 'beweise': 3773, 'konkreten': 3774, 'gruesse': 3775, 'work': 3776, 'biologischen': 3777, 'unterhaltungswe': 3778, 'riesenrettich': 3779, 'einfachen': 3780, 'koerper': 3781, 'sitz': 3782, 'smeeesh': 3783, 'gekauft': 3784, 'woanders': 3785, 'gebt': 3786, 'fahre': 3787, 'bekomm': 3788, 'sekunden': 3789, 'aufnahme': 3790, 'schauspieler': 3791, 'maske': 3792, 'bricht': 3793, 'bloss': 3794, 'oon': 3795, 'freu': 3796, 'vier': 3797, 'rezept': 3798, 'stueckchen': 3799, 'solang': 3800, 'hauses': 3801, 'ranger': 3802, 'ewig': 3803, 'mo': 3804, 'highscoreheroes': 3805, 'charakter': 3806, 'vorgestellt': 3807, 'wunderbar': 3808, 'nichtmehr': 3809, 'krass': 3810, 'instant': 3811, 'psychologische': 3812, 'aktiv': 3813, 'zitat': 3814, 'errungenschaften': 3815, 'darin': 3816, 'korrekt': 3817, 'belegen': 3818, 'grossteil': 3819, 'biologische': 3820, 'gebiet': 3821, 'bein': 3822, 'respektie': 3823, 'rettet': 3824, 'verweise': 3825, 'beziehen': 3826, 'fuehle': 3827, 'genuegt': 3828, 'werner': 3829, 'einzelnen': 3830, 'bestimmten': 3831, 'aehnliche': 3832, 'betrachte': 3833, 'thesen': 3834, 'problematik': 3835, 'verabschiedet': 3836, 'reten': 3837, 'snowflakes': 3838, 'ignorantiam': 3839, 'zustimmen': 3840, 'verstaendnis': 3841, 'existierenden': 3842, 'dargestellt': 3843, 'huebsch': 3844, 'belegt': 3845, 'gelten': 3846, 'wissenschaftlich': 3847, 'bar': 3848, 'wiki': 3849, 'ikels': 3850, 'nachlesen': 3851, 'aufgegeben': 3852, 'einen': 3853, 'arzt': 3854, 'ausm': 3855, 'wahrscheinlicher': 3856, 'schaem': 3857, 'hetero': 3858, 'kachelmann': 3859, 'trockener': 3860, 'besuch': 3861, 'sin': 3862, 'mitbekommen': 3863, 'bleib': 3864, 'kanal': 3865, 'schmerzt': 3866, 'vorstellen': 3867, 'hatt': 3868, 'rose': 3869, 'traum': 3870, 'hinein': 3871, 'oberkoerper': 3872, 'metalwilli': 3873, 'politischer': 3874, 'taeglichen': 3875, 'gutmannmanfred': 3876, 'h4': 3877, 'nonononono6667': 3878, 'fschlieffen': 3879, 'frieden': 3880, 'kinderschaender': 3881, 'europas': 3882, '0001f620': 3883, 'zufuehren': 3884, 'thor200375': 3885, 'peterroger17': 3886, 'muehe': 3887, 'veraendern': 3888, 'rollt': 3889, 'verlaufen': 3890, 'vorgefueh': 3891, 'logiker01': 3892, 'mitteln': 3893, 'blutrot': 3894, 'toetet': 3895, 'ue': 3896, 'renten': 3897, 'buschfrank': 3898, 'politikstube': 3899, 'landen': 3900, 'abstechen': 3901, 'hero': 3902, 'scheissen': 3903, 'aufklaerer2017': 3904, 'nachbar': 3905, 'angebliche': 3906, 'dergegenspieler': 3907, 'umfeld': 3908, 'germany': 3909, 'wem': 3910, 'ans': 3911, 'licht': 3912, 'menschenwuerdiges': 3913, 'rol': 3914, '0815': 3915, 'paulehasi13': 3916, 'staatstreuen': 3917, '150': 3918, 'grosseltern': 3919, 'sibirien': 3920, 'knobloch': 3921, 'menschenverachtende': 3922, 'transpo': 3923, 'tschonka': 3924, 'olivergorus': 3925, 'icke': 3926, 'schlagzeilen': 3927, 'buergermeister': 3928, 'anrufen': 3929, 'therealjoe': 3930, '1958': 3931, 'freiepressenet': 3932, 'ausschliesslich': 3933, 'zuhause': 3934, 'gunnyaustria': 3935, 'besingen': 3936, 'rauswerfen': 3937, 'taschen': 3938, 'berater': 3939, 'norbe': 3940, 'unzaehligen': 3941, 'brechen': 3942, 'reifen': 3943, 'synagogen': 3944, 'mazirke': 3945, 'moment': 3946, 'hit': 3947, 'miesen': 3948, 'bahnhofsklatschern': 3949, 'hansalbers100': 3950, 'lehrmeister': 3951, 'aua': 3952, 'bahnhofsklatscher': 3953, 'bereicherung': 3954, 'energie': 3955, 'raucht': 3956, 'medikamente': 3957, 'iges': 3958, 'produzieren': 3959, 'hackenstad': 3960, 'militaer': 3961, '0001f4af': 3962, 'einwanderer': 3963, 'bundesverdienstkreuz': 3964, 'schlaege': 3965, 'ruppen': 3966, 'santifa': 3967, 'bundesamt': 3968, 'linksversiffte': 3969, 'andere': 3970, 'korruptes': 3971, 'gruenes': 3972, '0001f44e': 3973, 'pamelacostaric1': 3974, 'fah': 3975, 'thueringen': 3976, 'frannylicious79': 3977, 'bimbas': 3978, 'ausdenken': 3979, 'anal': 3980, 'haeusern': 3981, 'masken': 3982, 'agieren': 3983, 'verhaelt': 3984, 'konve': 3985, 'gesunden': 3986, '0001f61d': 3987, 'marco25177219': 3988, 'zeisbergmichael': 3989, 'linksfaschist': 3990, 'italiener': 3991, 'haettet': 3992, 'tinimaus1110': 3993, 'staatstreue': 3994, 'dreckigen': 3995, 'hoechsten': 3996, 'aemtern': 3997, 'entnehmen': 3998, 'eika': 3999, 'geschmie': 4000, 'glatt': 4001, 'boot': 4002, 'facharbeiter': 4003, 'lebens': 4004, 'judenhassern': 4005, 'auffaellig': 4006, 'sicheres': 4007, 'waehlern': 4008, 'konsumie': 4009, 'daemlich': 4010, 'legalisierung': 4011, 'paedophile': 4012, 'dreckiger': 4013, 'zuwanderer': 4014, 'mio': 4015, 'robe': 4016, 'manager': 4017, 'korantreuen': 4018, 'sicherheit': 4019, 'eingehen': 4020, 'kommentare': 4021, 'kulturellen': 4022, 'freiwild': 4023, '1schlobohm': 4024, 'ragnarr56': 4025, 'schulenburgch': 4026, 'cducsubt': 4027, 'tiefen': 4028, 'reiches': 4029, 'griechenland': 4030, 'schade': 4031, 'anja49150998': 4032, 'maennliche': 4033, 'neulich': 4034, 'bernd471': 4035, 'grauen': 4036, 'woelfe': 4037, 'energiewende': 4038, 'kerzen': 4039, 'spenden': 4040, 'eingefueh': 4041, 'rechtsnationalen': 4042, 'ministerpraesidenten': 4043, 'viktor': 4044, 'orb': 4045, 'naehmlich': 4046, '74': 4047, 'wenden': 4048, 'berufspolitiker': 4049, 'kinderga': 4050, 'blasen': 4051, '43': 4052, 'suchte': 4053, 'armutspolitik': 4054, 'vorbild': 4055, 'dezember': 4056, 'verkuendete': 4057, 'generalversammlung': 4058, 'vereinten': 4059, 'allgemeine': 4060, 'diagnose': 4061, 'bekam': 4062, 'psychischer': 4063, 'doppelt': 4064, 'aufgeforde': 4065, 'anfuehlt': 4066, 'willkuerlich': 4067, 'rechnen': 4068, 'demuetigung': 4069, 'jugendlichen': 4070, 'malu': 4071, 'dreyer': 4072, 'kompromiss': 4073, 'allem': 4074, 'schwangerschaftsabbrueche': 4075, 'besuchen': 4076, 'unverschaemte': 4077, 'niedriglohnsektor': 4078, 'schoenste': 4079, 'nummer': 4080, 'schlechten': 4081, 'volkspa': 4082, 'deppen': 4083, 'sicherste': 4084, 'absoluter': 4085, 'endgueltig': 4086, 'flucht': 4087, 'verhoehnen': 4088, 'antraege': 4089, 'mitarbeiter': 4090, 'sanktioniren': 4091, 'als': 4092, 'verraeter': 4093, 'besserverdiener': 4094, 'beschliesst': 4095, 'plaetze': 4096, 'befand': 4097, 'giffey': 4098, 'klausur': 4099, 'verzichten': 4100, 'sozialdemokraten': 4101, 'hinterzimmer': 4102, 'nahe': 4103, 'verbunden': 4104, 'theresa': 4105, 'blockade': 4106, 'europawahl': 4107, 'schwere': 4108, 'raet': 4109, 'hungerrente': 4110, 'einladung': 4111, 'ausgegeben': 4112, 'inhaltlich': 4113, 'durchgesetzt': 4114, 'unterstellt': 4115, 'leichtfe': 4116, 'igkeit': 4117, 'werbeverbot': 4118, 'sprueche': 4119, 'verbreitung': 4120, 'falschinformation': 4121, 'eindeutigen': 4122, 'permanent': 4123, 'ueberwacht': 4124, 'erhoeht': 4125, 'existenzminimum': 4126, 'jens': 4127, 'weige': 4128, 'saal': 4129, 'entstanden': 4130, 'abgeordneten': 4131, 'fuenf': 4132, 'festnahmen': 4133, 'anschlag': 4134, 'dritte': 4135, 'ju': 4136, 'jobs': 4137, 'politikern': 4138, 'verlaesst': 4139, 'zeitungen': 4140, 'feuer': 4141, 'resolution': 4142, 'grausamer': 4143, 'unmenschlicher': 4144, 'erniedrigender': 4145, 'unterworfen': 4146, 'teilzunehmen': 4147, 'zt': 4148, 'muetter': 4149, 'notwendige': 4150, 'berufswahl': 4151, 'anehmen': 4152, 'sklaven': 4153, 'sanktionie': 4154, 'spu': 4155, 'arbeitet': 4156, 'ausweis': 4157, 'archiv': 4158, 'eugh': 4159, 'staatsanleihen': 4160, 'eichefin': 4161, 'behar': 4162, 'erhoehung': 4163, 'kitas': 4164, 'protesten': 4165, 'handel': 4166, 'private': 4167, 'telefonnummer': 4168, 'geloescht': 4169, 'kontakt': 4170, '2010': 4171, 'akkmussweg': 4172, 'armselig': 4173, 'wollten': 4174, '2000': 4175, 'insgesamt': 4176, 'massnahmen': 4177, 'beginnt': 4178, 'barley': 4179, 'klo': 4180, 'koalition': 4181, 'gewalttaetige': 4182, 'bank': 4183, 'gehorsam': 4184, 'konkret': 4185, 'kuendigt': 4186, 'gelegentlich': 4187, '263a': 4188, 'zulaesst': 4189, 'helfer': 4190, 'angerichtet': 4191, 'schwule': 4192, 'franzosen': 4193, 'schwarz': 4194, 'zusammenarbeit': 4195, 'druecken': 4196, 'putzfrau': 4197, 'neoliberale': 4198, '450': 4199, 'ohnmacht': 4200, 'entschuldigen': 4201, 'panne': 4202, 'heuchelei': 4203, 'weitere': 4204, '90er': 4205, 'erzeugen': 4206, 'kandidaten': 4207, 'delegie': 4208, 'pruegelt': 4209, 'politikerin': 4210, 'gebraucht': 4211, 'gewerkschaften': 4212, 'kontrolleure': 4213, 'lupe': 4214, 'forbes': 4215, 'knallha': 4216, 'zeitung': 4217, 'grossem': 4218, 'heulen': 4219, 'dieses': 4220, 'aufbringen': 4221, 'verbundene': 4222, 'voraussetzung': 4223, 'mitglied': 4224, 'erlassen': 4225, 'aufschwung': 4226, 'mitgliedern': 4227, 'herzlich': 4228, 'bezahlte': 4229, 'mittelschicht': 4230, 'eine': 4231, 'moral': 4232, 'lohnkosten': 4233, 'magazin': 4234, 'unfaehige': 4235, '1789': 4236, 'steinmeier': 4237, 'ausrufung': 4238, 'verswabot': 4239, 'zerstoere': 4240, 'marxistische': 4241, 'differenzie': 4242, 'ausgebildeten': 4243, 'tbh': 4244, 'proletarische': 4245, 'kenn': 4246, 'seitdem': 4247, 'shit': 4248, 'autobahn': 4249, 'band': 4250, 'goebbels': 4251, 'buddhismus': 4252, 'akademiker': 4253, 'politics': 4254, 'oeffentlichen': 4255, 'diskussionen': 4256, 'sand': 4257, 'gebacken': 4258, 'beschwe': 4259, 'fszntnbrandwund': 4260, 'abweichung': 4261, 'gegenteiligen': 4262, 'verstecken': 4263, 'soyuz187': 4264, 'rechnung': 4265, 'kategorien': 4266, 'schock': 4267, 'dietmar': 4268, 'dath': 4269, 'oefter': 4270, 'erfrieren': 4271, 'studenten': 4272, 'behaemme': 4273, 'lgbtiqplus187': 4274, 'wankelmut': 4275, 'antikommunistischen': 4276, 'freilich': 4277, 'gegenwae': 4278, 'linker': 4279, 'realsozialismus': 4280, 'befindet': 4281, 'solid': 4282, 'anarchos': 4283, 'liebkind': 4284, 'donalphonso': 4285, 'risa': 4286, 'coke': 4287, 'cola': 4288, 'gewerkschaftler': 4289, 'mauerfall': 4290, 'produktionsmittel': 4291, 'arbeiterklasse': 4292, 'weltuntergang': 4293, 'angeht': 4294, 'meter': 4295, 'mangelnde': 4296, 'korrelation': 4297, 'emission': 4298, 'naturkatastrophen': 4299, 'entsteht': 4300, 'trend': 4301, 'veraenderungen': 4302, 'how': 4303, 'konzerne': 4304, 'emmissionen': 4305, 'meistens': 4306, 'emissionen': 4307, 'elektroautos': 4308, 'gegenseitig': 4309, 'erde': 4310, 'schrecklich': 4311, 'ipcc': 4312, 'unter': 4313, 'groessenordnung': 4314, 'treibhausgase': 4315, 'herbst': 4316, 'kaeme': 4317, 'szenarien': 4318, 'angeben': 4319, 'prognose': 4320, 'bericht': 4321, 'vernuenftig': 4322, 'gemessen': 4323, 'braeuchte': 4324, 'menschlicher': 4325, 'zeugt': 4326, 'geistiger': 4327, 'comradelayer': 4328, 'rhetorik': 4329, 'gesellschaftlich': 4330, 'bis': 4331, 'identifizie': 4332, 'tweeten': 4333, 'treten': 4334, 'privateigentum': 4335, 'inwieweit': 4336, 'autonome': 4337, 'ki': 4338, 'einsatz': 4339, 'struktur': 4340, 'situationen': 4341, 'ulbricht': 4342, 'bewusst': 4343, 'menschengemacht': 4344, 'erforde': 4345, 'oekonomische': 4346, 'ever': 4347, 'komplizie': 4348, 'revolutionaeren': 4349, 'bananen': 4350, 'manifest': 4351, 'mark': 4352, 'diversen': 4353, 'mauer': 4354, 'geholt': 4355, 'aepfel': 4356, 'umweltverschmutzung': 4357, 'ungebildet': 4358, 'minderbemittelten': 4359, 'citoyenlxix': 4360, 'justus': 4361, 'rheinwiesngrund': 4362, 'linksextreme': 4363, 'god': 4364, 'horoskop': 4365, 'dialog': 4366, 'milch': 4367, 'tanzen': 4368, 'lache': 4369, 'hacks': 4370, 'schnitzel': 4371, 'lecker': 4372, 'gewaschenerk': 4373, 'rauchen': 4374, 'krebs': 4375, 'fun': 4376, 'fact': 4377, 'kohlekraftwerke': 4378, 'weitermachen': 4379, 'volkergoebbels': 4380, 'jo': 4381, 'verfuegbarkeit': 4382, 'tagesgeldkonten': 4383, 'nennenswe': 4384, 'gehalt': 4385, 'sonderbaren': 4386, 'neutralen': 4387, 'huxi': 4388, 'zieh': 4389, 'anonymous': 4390, 'gelber': 4391, 'naiven': 4392, 'ton': 4393, 'gerechte': 4394, 'sexuellen': 4395, 'gefaehrlich': 4396, 'beliebig': 4397, 'allesamt': 4398, 'kaffee': 4399, 'protestie': 4400, 'rydlewski': 4401, 'herzen': 4402, 'oeglicherweise': 4403, 'kurzen': 4404, '161': 4405, 'kamikaze': 4406, 'dat': 4407, 'herdecke': 4408, 'stell': 4409, 'relevant': 4410, 'legitimation': 4411, 'implizieren': 4412, 'baden': 4413, 'tumblr': 4414, 'coden': 4415, 'prozentual': 4416, 'beruflich': 4417, 'wald': 4418, 'baeumen': 4419, 'francismalevil': 4420, 'ansatzweise': 4421, 'langfristig': 4422, 'zeitpunkt': 4423, 'lebensversicherung': 4424, 'dauern': 4425, 'allesversuch': 4426, 'est': 4427, 'roulette': 4428, 'franke': 4429, 'media': 4430, 'gezahlt': 4431, 'depot': 4432, 'alternative': 4433, '31': 4434, 'beiseite': 4435, 'nachdenken': 4436, 'lottoschein': 4437, 'lindern': 4438, 'koerperlich': 4439, 'erfuellt': 4440, 'turnvater': 4441, 'jahn': 4442, 'hocker': 4443, 'erklaer': 4444, 'daneben': 4445, 'fight': 4446, 'flight': 4447, 'kurzer': 4448, 'ermuedend': 4449, 'redcat': 4450, 'profis': 4451, 'zweifle': 4452, 'that': 4453, 'with': 4454, 'grosses': 4455, 'abgesagt': 4456, 'vorm': 4457, 'windows': 4458, 'wikipedia': 4459, 'tz': 4460, 'halbieren': 4461, 'grossa': 4462, 'starben': 4463, 'reichtum': 4464, 'oberschicht': 4465, 'gamer': 4466, 'seltsamemensch': 4467, 'mode': 4468, 'ausstrahlen': 4469, 'heben': 4470, 'hoerbar': 4471, 'nachmittags': 4472, 'gegend': 4473, 'wuenschte': 4474, 'gifs': 4475, 'las': 4476, 'wtf': 4477, 'te': 4478, 'tarantino': 4479, 'faktenchecks': 4480, 'neofaschistischen': 4481, 'ueberfuehren': 4482, '35': 4483, 'drukos': 4484, 'pluralismus': 4485, 'befinden': 4486, 'streng': 4487, 'gebaeude': 4488, 'ua': 4489, 'hingehen': 4490, 'tat': 4491, 'messerattacken': 4492, 'ball': 4493, 'birne': 4494, 'klumpen': 4495, 'zermalmten': 4496, 'dna': 4497, 'identifizierbar': 4498, 'diverser': 4499, 'gebeten': 4500, 'anonymes': 4501, 'informiere': 4502, 'englisch': 4503, 'mountainman1977': 4504, 'kollegen': 4505, 'ermordet': 4506, 'beerdigung': 4507, '0001f64f': 4508, 'chekatt': 4509, 'auftaucht': 4510, 'jungen': 4511, 'garantie': 4512, 'babys': 4513, 'terroropfer': 4514, 'atmet': 4515, 'selbstaendig': 4516, 'schussverletzungen': 4517, 'reisst': 4518, 'multiplen': 4519, 'schusswunden': 4520, 'aushalten': 4521, 'pest': 4522, 'med': 4523, 'honig': 4524, 'kontinente': 4525, 'sami': 4526, 'bruder': 4527, 'taxi': 4528, 'ehemaligen': 4529, 'wohno': 4530, 'information': 4531, 'warnen': 4532, 'verschwunden': 4533, 'oeffnen': 4534, 'pietaetlos': 4535, 'euch': 4536, 'mediz': 4537, 'tommayereuropa': 4538, 'ete': 4539, 'geiselnahme': 4540, 'stoeren': 4541, 'europaparlament': 4542, 'erhoehte': 4543, 'sicherheitsstufe': 4544, 'geschah': 4545, 'radikalisie': 4546, 'gefaehrder': 4547, 'schweren': 4548, '99': 4549, 'verletzten': 4550, 'attentaeter': 4551, 'hewner82': 4552, 'eziden': 4553, 'judenhass': 4554, 'islamistischen': 4555, 'herzinfarkt': 4556, 'wuensche': 4557, 'kannste': 4558, 'schieben': 4559, 'verursacht': 4560, 'relativieren': 4561, 'blockie': 4562, 'ophra': 4563, 'blutlachen': 4564, 'gestalten': 4565, 'brandstifter': 4566, 'hae': 4567, 'hisbollah': 4568, 'verbandelt': 4569, 'ms': 4570, 'raten': 4571, 'doedel': 4572, 'komplexen': 4573, 'nichtmal': 4574, 'brachten': 4575, 'plaene': 4576, 'sweiermann': 4577, 'une': 4578, 'hoechste': 4579, 'twitterer': 4580, 'stalinistischer': 4581, 'standgericht': 4582, 'extremismus': 4583, 'distanzie': 4584, 'fav': 4585, 'facebook': 4586, 'kommi': 4587, 'bubble': 4588, 'kraefte': 4589, 'hegelianer': 4590, 'such': 4591, 'content': 4592, 'national': 4593, 'europaeisch': 4594, 'bolschewismus': 4595, '0001f630': 4596, 'dir': 4597, 'springer': 4598, 'faz': 4599, 'atombombe': 4600, 'clever': 4601, 'lyzi': 4602, 'zorn': 4603, 'genuege': 4604, 'checker': 4605, 'beachten': 4606, 'abendlandes': 4607, 'aufklaerer': 4608, 'az': 4609, 'find': 4610, 'beleidigen': 4611, 'tu': 4612, 'verherrlicht': 4613, 'antikommunistische': 4614, 'lyziswelt': 4615, 'begann': 4616, 'hehe': 4617, 'verschwoerungstheorien': 4618, 'reformen': 4619, 'reiss': 4620, 'herrscher': 4621, 'liberalen': 4622, 'teilt': 4623, 'larsweisbrod': 4624, 'ausdruck': 4625, 'poste': 4626, 'ideologiekritiker': 4627, 'prekarisie': 4628, 'richtiger': 4629, 'famous': 4630, 'people': 4631, 'didnt': 4632, 'were': 4633, 'semite': 4634, 'charles': 4635, 'christoph': 4636, 'lichtenberg': 4637, 'spasseshalber': 4638, '300': 4639, 'abgelehnt': 4640, 'bestellen': 4641, 'sicherlich': 4642, 'wirfst': 4643, 'gericht': 4644, '0001f47b': 4645, 'minerva': 4646, 'pruef': 4647, 'jawollo': 4648, 'integration': 4649, '0001f622': 4650, 'juwo': 4651, 'woechentlich': 4652, 'russische': 4653, 'chat': 4654, 'up': 4655, 'lyzis': 4656, 'stalinismus': 4657, 'empoe': 4658, 'sorge': 4659, 'hegelexperience': 4660, 'bester': 4661, 'froehliche': 4662, 'echtzeitreise': 4663, 'jan': 4664, 'wirklichen': 4665, 'myassrelaxed': 4666, 'wiesengrind': 4667, 'id': 4668, 'rebellen': 4669, 'fordere': 4670, 'antideutschen': 4671, 'bolschewistische': 4672, 'attackie': 4673, 'andersdenkende': 4674, 'stricken': 4675, 'pariser': 4676, 'goethe': 4677, 'uga': 4678, 'macrons': 4679, 'westliche': 4680, 'change': 4681, 'foto': 4682, 'herren': 4683, 'faktor': 4684, 'cdubpt18': 4685, 'achimszepanski': 4686, '26cf': 4687, 'drogen': 4688, 'gescheite': 4689, 'jammern': 4690, 'randale': 4691, 'oder': 4692, 'rende': 4693, 'made': 4694, 'by': 4695, '200': 4696, 'show': 4697, 'beatrix': 4698, 'vstorch': 4699, '0001f604': 4700, 'esschiebel': 4701, 'geoeffneten': 4702, 'fenster': 4703, 'verachtung': 4704, 'schicksal': 4705, 'nationalsozialisten': 4706, 'energieversorger': 4707, 'maedel': 4708, 'galionsfigur': 4709, 'ausgepfiffen': 4710, 'beliebteste': 4711, 'nationalstaat': 4712, 'vereinigten': 4713, 'verzweiflung': 4714, 'gelassen': 4715, 'bravo': 4716, 'schlepperbanden': 4717, 'passagierlisten': 4718, 'getarnt': 4719, 'koennt': 4720, 'teilen': 4721, 'schlechtesten': 4722, 'joanacotar': 4723, 'internationaler': 4724, 'aufgerissen': 4725, 'totalen': 4726, 'verbrennungsmotor': 4727, 'programm': 4728, 'ueberschritten': 4729, 'wahlrecht': 4730, 'kampagne': 4731, 'laune': 4732, 'indonesien': 4733, 'iniwinisissi': 4734, 'unbequeme': 4735, 'eier': 4736, 'angriffen': 4737, 'verbuendeten': 4738, 'lautstark': 4739, 'einfordern': 4740, 'erbarmungslos': 4741, 'reisen': 4742, 'chancen': 4743, 'auslaendische': 4744, 'eingewande': 4745, 'kriminalitaet': 4746, 'aufgezwungen': 4747, 'aehnliches': 4748, 'ruft': 4749, 'syrer': 4750, 'afghanen': 4751, 'seht': 4752, 'option': 4753, 'gebuehren': 4754, 'lach': 4755, 'feuerwerk': 4756, 'zuenden': 4757, 'geilomat': 4758, 'vermeintliche': 4759, 'firmen': 4760, 'ersetzen': 4761, 'initiie': 4762, 'schnee': 4763, 'migrant': 4764, 'schliessen': 4765, 'wuerd': 4766, 'stoe': 4767, 'unterzeichnet': 4768, 'punkten': 4769, 'vergleich': 4770, 'sichtbar': 4771, 'versteckt': 4772, 'fluechtlingsunterkunft': 4773, 'ten': 4774, 'aids': 4775, 'test': 4776, 'verachten': 4777, 'fakenews': 4778, 'erscheinen': 4779, 'wendet': 4780, 'obedmarsh': 4781, 'highlight': 4782, 'geleistet': 4783, 'krachend': 4784, 'zwingt': 4785, 'widerliches': 4786, 'kloeten': 4787, 'errichten': 4788, 'iraner': 4789, 'wunde': 4790, 'evtl': 4791, 'qualitaetsmedien': 4792, 'kolonisie': 4793, 'topnews': 4794, 'verkehrsblatt': 4795, 'anlage': 4796, 'regelmaessig': 4797, 'achja': 4798, 'lege': 4799, 'profitie': 4800, 'verlinkten': 4801, 'binnen': 4802, '1947': 4803, 'jamme': 4804, 'zugehoerigkeit': 4805, 'haendler': 4806, 'kolonialismus': 4807, 'traditionen': 4808, 'sephardim': 4809, 'mizrachim': 4810, 'reichlich': 4811, 'morsche': 4812, 'verzweifelt': 4813, 'veranke': 4814, 'konradgoke': 4815, 'abwink': 4816, 'palestine': 4817, 'geschlossenen': 4818, 'ilan': 4819, 'moerderischen': 4820, 'osmanischen': 4821, 'jah': 4822, 'ausenden': 4823, 'bewohnten': 4824, 'interessante': 4825, 'sebastiankurz': 4826, 'regimes': 4827, 'unmensch': 4828, 'straflos': 4829, 'verleumder': 4830, 'ordentlich': 4831, 'kliehm': 4832, 'wars': 4833, 'solltet': 4834, 'kolonialen': 4835, 'fuzzies': 4836, 'weareafreeworld': 4837, 'nachkommen': 4838, 'erfinden': 4839, 'beziehe': 4840, 'mehreren': 4841, 'terrororganisation': 4842, 'ethnogenese': 4843, 'imho': 4844, 'levante': 4845, 'fanden': 4846, 'versager': 4847, 'claim': 4848, 'tausenden': 4849, 'veranstaltet': 4850, 'nahost': 4851, 'betruegen': 4852, 'fraktionen': 4853, 'blieben': 4854, 'zimmerwohnung': 4855, 'befehlen': 4856, 'gesammelt': 4857, 'aufmarschplaene': 4858, 'armeedokumente': 4859, 'dorf': 4860, 'renommie': 4861, 'durchgehen': 4862, 'pappes': 4863, 'heimatland': 4864, 'getrieben': 4865, 'lebensraum': 4866, 'unte': 4867, 'hindus': 4868, 'umgebung': 4869, 'antun': 4870, 'voelkischen': 4871, 'absprechen': 4872, 'israels': 4873, 'nebeneinander': 4874, 'gegruendet': 4875, 'gleiches': 4876, 'antiken': 4877, 'gemein': 4878, 'worum': 4879, 'zitie': 4880, 'geheimen': 4881, 'untergebracht': 4882, 'kriegszustand': 4883, 'gefangen': 4884, 'staatsterroristen': 4885, 'abkaufen': 4886, 'beliebt': 4887, 'standard': 4888, 'schmutz': 4889, 'minderwe': 4890, 'unabhaengig': 4891, 'alex': 4892, 'osteuropa': 4893, 'dreister': 4894, 'juedische': 4895, 'veroeffentlichung': 4896, 'entschuldigung': 4897, 'witzfiguren': 4898, 'tokenismus': 4899, 'stecken': 4900, 'kurzem': 4901, 'lautet': 4902, 'zukommen': 4903, 'hebraeer': 4904, 'arabischen': 4905, 'twittersuppo': 4906, 'allseits': 4907, 'persoenliche': 4908, 'lieblings': 4909, 'treibt': 4910, 'carolhakios': 4911, 'hirngespinste': 4912, 'ollowain': 4913, 'brandenburg': 4914, 'geiler': 4915, 'zeig': 4916, 'antideutsch': 4917, 'antiimp': 4918, 'ausgelutschte': 4919, 'drueko': 4920, 'ski': 4921, 'leib': 4922, 'anchmal': 4923, 'uss': 4924, 'radikalen': 4925, 'wichser': 4926, 'phaenomen': 4927, 'goennt': 4928, 'ausgeloest': 4929, 'geschockt': 4930, 'autoritaeren': 4931, 'haut': 4932, 'turbobuchung': 4933, 'date': 4934, 'kurzehosenafa': 4935, 'cishets': 4936, 'user': 4937, 'bisserl': 4938, 'kalifat': 4939, 'islamkritik': 4940, 'verhaeltnis': 4941, 'begreifen': 4942, 'medaille': 4943, 'wirkung': 4944, 'entfolgen': 4945, 'ost': 4946, 'positionieren': 4947, 'widerspruch': 4948, 'gestorben': 4949, 'ncolnz': 4950, 'aktion': 4951, 'demonstranten': 4952, 'beaengstigend': 4953, 'black': 4954, 'gelegt': 4955, 'kennst': 4956, 'kulturrelativismus': 4957, 'hamburg': 4958, 'unzivilisie': 4959, 'abgesehen': 4960, 'niqab': 4961, 'traegt': 4962, 'versiffte': 4963, 'sprecho': 4964, 'akzeptie': 4965, 'kunstfigur': 4966, '0001f918': 4967, 'jugendliche': 4968, 'greife': 4969, 'autoritaere': 4970, 'wuerdet': 4971, 'kekse': 4972, 'normales': 4973, 'autonom': 4974, 'hau': 4975, 'geraten': 4976, 'formulieren': 4977, 'gewa': 4978, 'les': 4979, 'heiss': 4980, 'abschliessend': 4981, 'schalte': 4982, 'derdimmy': 4983, 'perry': 4984, 'angreifen': 4985, 'iamlebreton': 4986, 'raum': 4987, 'morde': 4988, 'akte': 4989, 'sperre': 4990, 'entgueltig': 4991, 'misogyne': 4992, 'derfreecee': 4993, 'otto': 4994, 'getee': 4995, 'gefede': 4996, 'suizid': 4997, 'paradebeispiel': 4998, 'nwo': 4999, 'zentralrat1': 5000, 'gelegenheit': 5001, 'kardasiapat': 5002, 'messerangriff': 5003, 'beunruhigen': 5004, 'marionetten': 5005, 'offbeat24': 5006, 'fugees': 5007, 'angezuendet': 5008, 'baetschi': 5009, 'fette': 5010, 'kuenaxt': 5011, 'hyaenen': 5012, 'chance': 5013, 'faust': 5014, 'weiber': 5015, 'arschloecher': 5016, 'beschwichtigen': 5017, 'koethen': 5018, 'zdfsachsen': 5019, 'bestialischen': 5020, 'ueberfall': 5021, 'restaurant': 5022, 'wohlgemerkt': 5023, 'spontan': 5024, 'hurenpresse': 5025, 'ungestraft': 5026, 'deu151': 5027, 'holgerewald1': 5028, 'polobentv': 5029, 'karlmller13': 5030, 'selfie': 5031, 'geschissen': 5032, 'wacht': 5033, 'imregrimm': 5034, 'flixbus': 5035, 'wide': 5036, 'deibel': 5037, 'benoetigt': 5038, 'vorfall': 5039, 'hakenkreuz': 5040, 'gedrueckt': 5041, 'maltekaufmann': 5042, 'logisch': 5043, 'reaktion': 5044, 'geldbeutel': 5045, 'wundern': 5046, 'rathaus': 5047, 'platznehmen': 5048, 'anzahl': 5049, 'kandel': 5050, 'daseinsberechtigung': 5051, 'denunzie': 5052, 'heucheln': 5053, 'but': 5054, 'metoo': 5055, 'hollywood': 5056, 'lehrerin': 5057, 'mimimi': 5058, '1910spencer': 5059, 'eigener': 5060, 'pisser': 5061, 'verachte': 5062, 'eierlose': 5063, 'schwulen': 5064, 'hervor': 5065, 'regierungsnahe': 5066, 'epiclout': 5067, 'explodieren': 5068, 'haaren': 5069, 'regenbogen': 5070, 'geraet': 5071, 'generation': 5072, 'affen': 5073, 'ficken': 5074, 'barbarasteibl1': 5075, 'gehirn': 5076, 'thomaswalde': 5077, 'doll': 5078, 'lauft': 5079, 'zdfspo': 5080, 'befuerchte': 5081, 'geistesgestoe': 5082, 'klatsch': 5083, 'verlauf': 5084, 'redest': 5085, 'ungefragt': 5086, 'brauchst': 5087, 'beendet': 5088, 'belaestigung': 5089, 'brueste': 5090, 'praesentierst': 5091, 'angestar': 5092, 'faelle': 5093, 'craftergut2': 5094, 'schrauben': 5095, 'antifas': 5096, 'heinrichheine12': 5097, 'altmaier': 5098, 'meldemuschi': 5099, 'sm100d': 5100, 'bloedheit': 5101, 'kernenergie': 5102, 'kernergie': 5103, 'kohleverstromung': 5104, 'feinstaub': 5105, 'tschechien': 5106, 'franzmann': 5107, 'beliebter': 5108, 'kohleausstieg': 5109, 'balkan': 5110, 'spanien': 5111, 'fffrauki': 5112, 'aufrechten': 5113, 'termin': 5114, 'guardofbrain': 5115, 'engelge': 5116, 'chris': 5117, 'ralle': 5118, 'pipi': 5119, 'hotte': 5120, 'laecherliche': 5121, 'faltencreme': 5122, 'rockneten': 5123, 'neuantraege': 5124, 'sinkt': 5125, 'abgeschobenen': 5126, 'gegenueberstellt': 5127, 'ring': 5128, 'aufgeilen': 5129, 'grenzwe': 5130, 'phantasie': 5131, 'logik': 5132, 'sozen': 5133, 'ausgehandelt': 5134, 'stumme': 5135, 'verzogenen': 5136, 'tschemm': 5137, 'vernunft': 5138, 'gogollafit': 5139, 'wstsm': 5140, 'schlumpfnazi471': 5141, 'willplaat': 5142, 'er1k': 5143, 'kraeftiges': 5144, 'mitmachen': 5145, 'alexplantsatree': 5146, 'griechenwoos2': 5147, 'elektromobilitaet': 5148, 'adaequate': 5149, 'plus': 5150, 'hirnwaesche': 5151, 'cinzia0118': 5152, 'fischmehl': 5153, 'blockwa': 5154, 'schiene': 5155, 'hetzjagden': 5156, 'gesunde': 5157, 'asylforderer': 5158, 'kahane': 5159, 'vorsitz': 5160, 'jala': 5161, 'varietas': 5162, 'amadeuantoniostiftung': 5163, 'tolle': 5164, 'muesst': 5165, 'merdeux': 5166, 'sinkende': 5167, 'ausnahme': 5168, 'betreuer': 5169, 'soo': 5170, 'gottesgetweete': 5171, 'zweimal': 5172, 'luba': 5173, 'cibre': 5174, 'seele': 5175, 'braunen': 5176, 'replies': 5177, 'einlieferung': 5178, 'befund': 5179, 'schule': 5180, 'mittelpunkt': 5181, 'regelmaessige': 5182, 'ruecksichtslos': 5183, 'soehne': 5184, 'gnadenlos': 5185, 'guycalleddad': 5186, 'ziegenfuss': 5187, 'beginnen': 5188, 'nutten': 5189, '74wonnie': 5190, 'bottomdog': 5191, 'esel': 5192, 'altes': 5193, 'klugscheissender': 5194, 'versehen': 5195, 'unbesiegbar': 5196, 'lord': 5197, 'mmejoie': 5198, 'dcxxx187': 5199, 'interessanter': 5200, 'kasperspuk': 5201, 'meinereiner76': 5202, 'kostuemfest': 5203, 'derlelbhaftlge': 5204, 'oktober': 5205, 'klammerdackel': 5206, 'empty': 5207, 'solidargemeinschaft': 5208, 'fgenervt': 5209, 'feenstaubtinka': 5210, 'superstar': 5211, 'dummschwaetzer': 5212, 'weltfremd': 5213, 'camp': 5214, 'evelyn': 5215, 'innenstadt': 5216, 'raeumung': 5217, 'hambifaellt': 5218, 'rechtlichen': 5219, 'baeume': 5220, 'koeln': 5221, 'kot': 5222, 'urin': 5223, 'bewerfen': 5224, 'nachvollziehen': 5225, 'sozialdezernat': 5226, 'paulsplatz': 5227, 'tuerkisches': 5228, '11h': 5229, 'kaisersack': 5230, 'va': 5231, 'stadthalle': 5232, 'russ': 5233, 'gg': 5234, 'gallus': 5235, 'danijelmajic': 5236, 'antirep': 5237, 'hostel': 5238, 'security': 5239, 'bestraft': 5240, 'wilhelm': 5241, 'leuschner': 5242, 'club': 5243, 'fragida': 5244, 'konstablerwache': 5245, 'savekobane': 5246, 'wegmit219a': 5247, 'wegmit218': 5248, 'twinnz4you': 5249, 'kommentar': 5250, 'blumeevolution': 5251, 'resurrection300': 5252, 'diehumanisten': 5253, 'progressive': 5254, 'guckt': 5255, 'durchlesen': 5256, 'grimasse': 5257, 'patrickgensing': 5258, 'adam': 5259, 'aioak': 5260, 'wahlhelfer': 5261, 'soros': 5262, 'krieges': 5263, 'etliche': 5264, 'vieles': 5265, 'franzoesisch': 5266, 'mlk': 5267, 'janzimmhhb': 5268, 'realitaetsverweigerung': 5269, 'erbaermlichen': 5270, 'spdeuropa': 5271, 'beitragen': 5272, 'weigern': 5273, 'anzuerkennen': 5274, 'bezweckt': 5275, 'beluegen': 5276, 'unverstaendlich': 5277, 'hacker': 5278, 'torben': 5279, 'braga': 5280, 'hintergrundwissen': 5281, 'laeppischen': 5282, '130': 5283, 'demokratieuntergang': 5284, 'fjs': 5285, 'glasige': 5286, 'co': 5287, 'investigativ': 5288, 'tim': 5289, 'roehn': 5290, 'chschweppe': 5291, 'vorgibt': 5292, 'eigentum': 5293, 'verpflichtet': 5294, 'maximale': 5295, 'mieterverarschungsbremse': 5296, 'lautes': 5297, 'gas': 5298, 'unfaelle': 5299, 'getoetet': 5300, 'strassenverkehr': 5301, 'sensation': 5302, 'klicks': 5303, 'anjakarliczek': 5304, 'andreanahlesspd': 5305, 'auftrag': 5306, 'mundtot': 5307, 'klinge': 5308, 'abladen': 5309, 'hessenschau': 5310, 'meldungen': 5311, 'luegenschau': 5312, 'tagesverarsche': 5313, 'heuteglaubteskeiner': 5314, 'regionales': 5315, 'unwichtigen': 5316, 'reichweite': 5317, 'erstaunlich': 5318, 'seilschaften': 5319, 'peteraltmaier': 5320, 'luegenr': 5321, 'rasie': 5322, 'ankotzen': 5323, '976': 5324, 'target': 5325, 'salden': 5326, 'rekordumsaetze': 5327, 'vermelden': 5328, 'summie': 5329, '87': 5330, 'marceljoppa': 5331, 'piotoitsche': 5332, 'gelsenkirchener': 5333, 'stempel': 5334, 'frisch': 5335, 'riechen': 5336, 'heulsuse': 5337, 'ausgebuddelt': 5338, 'unnuetze': 5339, 'fresser': 5340, 'nehmerland': 5341, 'geberlaender': 5342, 'tag24le': 5343, 'feinden': 5344, 'feinde': 5345, 'ndr': 5346, 'schmeirgeld': 5347, 'erpressbar': 5348, 'summen': 5349, 'spender': 5350, 'ausversehen': 5351, 'nachricht': 5352, '63': 5353, 'umgebracht': 5354, 'ferkels': 5355, 'gaesten': 5356, 'erblindung': 5357, 'ksta': 5358, 'intl': 5359, 'liebste': 5360, 'luegenprese': 5361, 'geschleusten': 5362, 'pir': 5363, 'polizeisachsen': 5364, 'fass': 5365, 'aufgemacht': 5366, 'inclusiv': 5367, 'inhaftie': 5368, 'volksverarsche': 5369, 'seawatchcrew': 5370, 'entsteigen': 5371, 'erpressung': 5372, 'ausgereicht': 5373, 'swraktuell': 5374, 'andischeuer': 5375, 'hoehe': 5376, 'gehalts': 5377, 'scheuer': 5378, 'siedlungsland': 5379, 'traktoren': 5380, 'nachahmungstaeter': 5381, 'inspirie': 5382, 'losschlaegt': 5383, 'unterschlagen': 5384, 'rawnezz': 5385, 'picture': 5386, 'diffamierung': 5387, 'verkappte': 5388, 'herrenmensch': 5389, 'ausmass': 5390, 'geringer': 5391, 'treuen': 5392, 'boeser': 5393, 'pebbles': 5394, 'kratzen': 5395, 'honecker': 5396, 'plansoll': 5397, 'angepasst': 5398, 'fax': 5399, 'opferrolle': 5400, 'taqiyya': 5401, 'hinterkopf': 5402, 'faxe': 5403, 'verschickt': 5404, 'erwiesen': 5405, 'ansieht': 5406, 'harba': 5407, 'ik': 5408, 'tapsen': 5409, 'teuer': 5410, 'grablicht': 5411, 'leise': 5412, 'online': 5413, 'integrieren': 5414, 'dankoeoeoe': 5415, 'glaubwuerdigster': 5416, 'anreihung': 5417, 'einzelfaellen': 5418, 'tolerieren': 5419, 'schloss': 5420, 'maut': 5421, 'kaut': 5422, 'verhaftung': 5423, 'gefeie': 5424, 'awidmannmauz': 5425, 'bmas': 5426, 'wittenburg': 5427, 'gutmenschentun': 5428, 'jena': 5429, 'badkreuznach': 5430, 'freiburg': 5431, 'wuerzburg': 5432, 'blutiges': 5433, 'hof': 5434, 'treue': 5435, 'verzer': 5436, 'einseitig': 5437, 'anscbaut': 5438, 'polizeiufr': 5439, 'brandstiftungen': 5440, 'pks': 5441, '55': 5442, 'liegevermerke': 5443, 'strafanzeigen': 5444, 'auftauchen': 5445, 'gelogen': 5446, 'verfaelscht': 5447, 'sla': 5448, 'verlorenes': 5449, 'traf': 5450, 'abendblatt': 5451, 'goldstueck': 5452, 'reagie': 5453, 'rabbi': 5454, '48': 5455, 'frlokal': 5456, 'gewe': 5457, 'gefaelscht': 5458, 'gue': 5459, 'weltfrieden': 5460, 'katjaberlin': 5461, 'diezeit': 5462, 'muschi': 5463, 'verwerfliches': 5464, 'emotionslos': 5465, 'verkuendet': 5466, 'mvgticker': 5467, 'taschendiebe': 5468, 'think': 5469, 'proviteure': 5470, 'ueberschrift': 5471, 'mse': 5472, 'geringe': 5473, 'fuehrerschein': 5474, 'untauglichkeit': 5475, 'lebenslaengliches': 5476, 'zwangsarbeit': 5477, 'berlinale': 5478, 'infamster': 5479, 'holocaust': 5480, 'missbraucht': 5481, 'veruntreuen': 5482, 'verpflechtung': 5483, 'anschaut': 5484, 'islamistisch': 5485, 'abzulenken': 5486, 'amused': 5487, 'schutzsuchende': 5488, 'klatscher': 5489, 'ejakulieren': 5490, 'oberbayern': 5491, 'tuev': 5492, 'sued': 5493, 'gleisanlagen': 5494, 'geschleust': 5495, 'geoeffnet': 5496, 'spaltkeil': 5497, 'seinen': 5498, 'rainer': 5499, 'geyer': 5500, 'stinkende': 5501, 'gekrochen': 5502, 'klee': 5503, 'hoerigen': 5504, 'slmoka': 5505, 'kuse': 5506, 'beiliegt': 5507, 'treuer': 5508, 'rechtschreibnazi': 5509, 'informieren': 5510, 'vollidiot': 5511, 'langweilen': 5512, 'ekeln': 5513, 'carsten': 5514, 'otten': 5515, 'treues': 5516, 'helloyara': 5517, 'stendal': 5518, 'betraf': 5519, 'dezent': 5520, 'verleugnet': 5521, 'ruecktritte': 5522, 'stillschweigen': 5523, 'strunz': 5524, 'miguel': 5525, 'alemania': 5526, 'haz': 5527, 'berichte': 5528, 'antut': 5529, 'toitschenfeindlichkeit': 5530, 'aufgreifen': 5531, 'eigentliche': 5532, 'effektivsten': 5533, 'rohstoff': 5534, 'innovation': 5535, 'erfindungsreichtum': 5536, 'klages': 5537, 'kitakriseberlin': 5538, 'bamf': 5539, 'tag24ffm': 5540, 'antrag': 5541, 'abendzeitung': 5542, 'maennern': 5543, 'alibi': 5544, 'siedlungs': 5545, 'bluehenden': 5546, 'landschaften': 5547, 'infrastruktur': 5548, 'vernachlaessigt': 5549, 'vorsah': 5550, 'umgestaltet': 5551, 'eingeleitet': 5552, 'air': 5553, 'fra': 5554, 'fremdenfeindlich': 5555, 'unerkannter': 5556, 'bzberlin': 5557, 'missfaellt': 5558, 'mobynikk': 5559, 'umweltheinis': 5560, 'wuestenstad': 5561, 'messen': 5562, 'scwachkoepfe': 5563, 'gruener': 5564, 'schwachkoepfe': 5565, 'arbeitsplaetze': 5566, 'aussprechen': 5567, 'kri': 5568, 'fri': 5569, 'tomvitzthum': 5570, 'beschliessen': 5571, 'deutchland': 5572, 'zusuchen': 5573, 'umweltdeppen': 5574, 'ruienieren': 5575, 'spee': 5576, 'unbequem': 5577, 'rantasten': 5578, 'fuersprecher': 5579, 'buessen': 5580, 'betruegerische': 5581, 'absteigen': 5582, 'abgrund': 5583, 'vmedick': 5584, 'derspiegel': 5585, 'akumemte': 5586, 'inhalt': 5587, 'brauen': 5588, 'bu': 5589, 'erlich': 5590, 'claudia': 5591, 'kade': 5592, 'bundespdraesident': 5593, 'klammern': 5594, 'dirigie': 5595, 'facbook': 5596, 'hoehle': 5597, 'stuetzt': 5598, 'absolute': 5599, 'tiefe': 5600, 'duemmlich': 5601, 'speichellecker': 5602, 'schweden': 5603, 'runtet': 5604, 'suedlaender': 5605, 'neunkrichen': 5606, 'jetzigen': 5607, 'ausrauben': 5608, 'ausschreitungen': 5609, 'geschriehen': 5610, 'bundesweit': 5611, 'meke': 5612, 'ueberlassen': 5613, 'dehnen': 5614, 'abrechnung': 5615, 'tonline': 5616, 'lindener': 5617, 'asylantenpolitik': 5618, 'weisen': 5619, 'waehren': 5620, 'zuverhindern': 5621, 'aussland': 5622, 'krimminelle': 5623, 'ausende': 5624, 'casperxofficial': 5625, 'kraftklub': 5626, 'dendemann': 5627, 'eria': 5628, 'uebergeschnappt': 5629, 'eingriegen': 5630, 'umgehend': 5631, 'nachzug': 5632, '1984reload': 5633, 'einsicht': 5634, 'niedersachsen': 5635, 'ministerpraesident': 5636, 'dercdu': 5637, 'kleben': 5638, 'narren': 5639, 'marleneschfer1': 5640, 'eingriff': 5641, 'wahlfreiheit': 5642, 'verfassungswidrig': 5643, 'rapide': 5644, 'trichophobe': 5645, 'kopfwindel': 5646, 'praegen': 5647, 'islamophobie': 5648, 'mohammedkultisten': 5649, 'trichophile': 5650, 'entblocke': 5651, 'sabinemnch1': 5652, 'umgeht': 5653, 'tauschgeschaefte': 5654, 'erdeal': 5655, 'argentinien': 5656, 'lokomotiven': 5657, 'weizen': 5658, 'versenkte': 5659, 'handelsflotte': 5660, 'ribbentrop': 5661, 'dummdreist': 5662, 'anluegst': 5663, 'henker': 5664, '10x': 5665, 'folgten': 5666, 'scheidung': 5667, 'einreicht': 5668, 'brut': 5669, 'geraldgrosz': 5670, 'kapitulie': 5671, 'grandios': 5672, 'gelungen': 5673, 'petra58249513': 5674, 'vordergrund': 5675, 'genderbeauftragende': 5676, 'weltfriedens': 5677, 'hundewelpen': 5678, 'unding': 5679, 'sachlich': 5680, 'hubaich': 5681, 'proteus93484191': 5682, 'gebuehrenzaehler': 5683, 'verbraucher': 5684, '0001f4a1': 5685, 'heikos': 5686, 'elfenbeinkuestenflagge': 5687, 'irland': 5688, 'versieht': 5689, 'warnhinweis': 5690, 'sensible': 5691, 'aussenminister': 5692, 'kompletten': 5693, 'blossstellung': 5694, 'ottoberger6': 5695, 'vollverschleie': 5696, 'zett': 5697, 'bernardina': 5698, 'aeusserster': 5699, 'disziplin': 5700, 'impulskontrolle': 5701, 'koyamamichi': 5702, 'abschliessbares': 5703, 'penisgefaengnis': 5704, 'checkst': 5705, 'wasistzeitgeist': 5706, 'syrerinvasion': 5707, 'schimpfen': 5708, 'philipp': 5709, 'julien': 5710, 'wucht': 5711, 'dahinraffen': 5712, 'rothaarige': 5713, 'blondinen': 5714, 'bruenette': 5715, 'sommersprossen': 5716, 'braune': 5717, 'neuschwanstein': 5718, 'eiffelturm': 5719, 'ben': 5720, 'oktoberfest': 5721, 'mailand': 5722, 'oper': 5723, 'porsche': 5724, 'mercedes': 5725, 'ferrari': 5726, 'bentley': 5727, 'gay': 5728, 'paraden': 5729, 'travestieshows': 5730, 'reeperbahn': 5731, 'munz': 5732, 'kerl': 5733, 'suendigen': 5734, 'suendige': 5735, 'sexobjekte': 5736, 'offenem': 5737, 'sabbernde': 5738, 'lustmolche': 5739, 'verwandeln': 5740, 'bedecken': 5741, 'anstaendige': 5742, 'schariabeflaggung': 5743, 'evilsnakedcat': 5744, 'hvdphoto': 5745, 'buerger2000': 5746, 'biomasseinduzie': 5747, 'klimaerwaermung': 5748, '70ern': 5749, 'kommende': 5750, 'eiszeit': 5751, 'gore': 5752, 'global': 5753, 'warming': 5754, 'polare': 5755, 'minus': 5756, 'sibirische': 5757, 'tichy': 5758, 'journalist': 5759, 'redaktion': 5760, 'faktenerfinder': 5761, 'erden': 5762, 'realitaeten': 5763, 'klarkommen': 5764, '2260': 5765, 'ollee3': 5766, 'ranzigeimme': 5767, 'petrbystronafd': 5768, 'abaerbock': 5769, 'seenotrettung': 5770, 'schleuserfaehrdienst': 5771, 'buergerrettung': 5772, 'inlandstote': 5773, 'schuppen': 5774, 'kunstduengers': 5775, 'existent': 5776, '0001f30d': 5777, 'gedankt': 5778, 'vorstehendem': 5779, 'neom1913': 5780, 'standardspruechlein': 5781, 'meere': 5782, 'erhitzt': 5783, 'lenken': 5784, 'polarluft': 5785, 'chicago': 5786, 'folgenbetrachtung': 5787, 'blenden': 5788, 'wohlige': 5789, 'augenblicks': 5790, 'gesinnungsethik': 5791, 'ungsethik': 5792, 'ludwig': 5793, 'romantischere': 5794, 'schloesser': 5795, 'rudi44888': 5796, 'bahnhof': 5797, 'ruckkehrer': 5798, 'toedliche': 5799, 'krankheit': 5800, 'befallen': 5801, 'tode': 5802, 'erhards': 5803, 'wachstum': 5804, '50er': 5805, 'frozzelt': 5806, 'knalltyp': 5807, 'stichwo': 5808, 'vehikel': 5809, 'abendland': 5810, 'koranschule': 5811, 'verse': 5812, 'assange': 5813, 'gewiss': 5814, 'araberclans': 5815, 'jansamis': 5816, 'unveraenderlicher': 5817, 'phaenotypischer': 5818, 'abwe': 5819, 'hineindeuteln': 5820, 'frankschramm5': 5821, 'deutschstaemmige': 5822, 'staatsangehoerigkeit': 5823, 'voelkern': 5824, 'verlegen': 5825, 'grenzzaeune': 5826, 'allmaehlich': 5827, 'gelange': 5828, 'auffassung': 5829, 'zeitraubender': 5830, 'ragene': 5831, 'aufgaben': 5832, 'zeh': 5833, 'souveraenitaetsuebe': 5834, 'ragungen': 5835, 'subsidiaritaetsprinzip': 5836, 'limitie': 5837, 'syrische': 5838, 'syrischen': 5839, 'booten': 5840, 'schengen': 5841, 'oeffnet': 5842, 'aussengrenzschutz': 5843, 'drittlaender': 5844, 'durchwinkt': 5845, 'aufgibt': 5846, 'letztlich': 5847, 'kontrapropa': 5848, 'leichte': 5849, 'gebietsreduktion': 5850, 'raeumlicher': 5851, 'geltungsbereich': 5852, 'gedoens': 5853, 'drum': 5854, 'separierenden': 5855, 'rechtsidentisch': 5856, 'bundesbuergern': 5857, 'identitaetslehre': 5858, 'rechtswissenschaft': 5859, 'staendigen': 5860, 'rechtsprechung': 5861, 'bundesverfassungsgerichts': 5862, 'bundesrepublik': 5863, 'rechtsnachfolger': 5864, 'reichs': 5865, 'identisch': 5866, 'bundesbuerger': 5867, 'schwurbeln': 5868, 'fiktion': 5869, 'fixe': 5870, 'gabalier': 5871, 'orden': 5872, 'neudeutsch': 5873, 'rinberger': 5874, 'rechtslage': 5875, 'vermoegensrecht': 5876, 'sachenrecht': 5877, 'roemische': 5878, 'praegung': 5879, 'familienrecht': 5880, 'germanische': 5881, 'abstammung': 5882, 'bodenrecht': 5883, 'schwadronie': 5884, 'russlandfeldzugs': 5885, 'alfredheger': 5886, '66k': 5887, 'trupp': 5888, 'impressions': 5889, 'monatlich': 5890, 'sapperlot': 5891, 'zutun': 5892, 'knabbe': 5893, 'buendel': 5894, 'geschieden': 5895, 'likete': 5896, 'zeigte': 5897, 'entfolgst': 5898, 'eigenmaechtig': 5899, 'gleichgewicht': 5900, 'spektrums': 5901, 'alternativlosigkeit': 5902, 'verschoben': 5903, 'afdimbundestag': 5904, 'boykottie': 5905, 'etzodernie': 5906, 'minarchist': 5907, 'reduktion': 5908, 'kernaufgaben': 5909, 'unversoehnlicher': 5910, 'heimattreue': 5911, '0001f499': 5912, '0001f308': 5913, '0001f337': 5914, '0001f33b': 5915, 'reichtagsgebaeude': 5916, 'widmung': 5917, 'auslaendern': 5918, 'japan': 5919, 'nigeria': 5920, 'uruguay': 5921, 'gesinnungsverbrechen': 5922, 'bjoern': 5923, 'staatsfeind': 5924, 'menschenwuerde': 5925, 'entgegengesetzt': 5926, 'over2019': 5927, 'kopfabschneider': 5928, 'zumal': 5929, 'bemuehten': 5930, 'wehrlos': 5931, 'altersbestellung': 5932, 'umstritten': 5933, 'volljaehrige': 5934, 'kenntnis': 5935, 'ueberwiegend': 5936, 'droehnt': 5937, 'hetzgagd': 5938, 'strassenschlaegern': 5939, 'relikt': 5940, 'einsam': 5941, 'traurige': 5942, 'massenzuwanderung': 5943, 'dieselenteignung': 5944, 'energiekosten': 5945, 'nullzins': 5946, 'altersarmut': 5947, 'ausufernder': 5948, 'drangsalie': 5949, 'bildet': 5950, 'linksblock': 5951, 'linksstaat': 5952, 'shades': 5953, 'neulinks': 5954, 'diffuslinks': 5955, 'linksliberal': 5956, 'oekolinks': 5957, 'linksradikal': 5958, 'vandalismus': 5959, 'kampftruppe': 5960, 'ells': 5961, 'interventionistischen': 5962, 'tarnnamen': 5963, 'phaenome': 5964, 'rudelvergewaltigungen': 5965, 'messermaenner': 5966, 'schwerverletzten': 5967, 'aufzaehlung': 5968, '200m': 5969, 'grauens': 5970, 'bedruckten': 5971, 'din': 5972, 'a4': 5973, 'voelkerwanderung': 5974, 'aufgelistet': 5975, 'merkelsiedlern': 5976, 'unterdurchschnittliche': 5977, 'bildungserfolge': 5978, 'ueberdurchschnittliche': 5979, 'transferleistungsbezuege': 5980, 'frauendiskriminierung': 5981, 'zwangsheirat': 5982, 'kinderehen': 5983, 'integrationsunwille': 5984, 'blank35319162': 5985, 'dreiste': 5986, 'loeschkalk': 5987, 'testosteronstrotzenden': 5988, 'grenzstuermer': 5989, 'ceuta': 5990, 'aetzendem': 5991, 'loeschkalkulation': 5992, 'hieb': 5993, 'stichwaffen': 5994, 'grenzbeamten': 5995, 'attackieren': 5996, 'verzerrend': 5997, 'grenzrecht': 5998, 'fabulieren': 5999, 'nachrangiges': 6000, 'verhaeltnismaessigkeit': 6001, 'verwaltungshandeln': 6002, 'ultima': 6003, 'ratio': 6004, 'par': 6005, 'geltendes': 6006, 'verweis': 6007, 'gesetzeslage': 6008, 'storch': 6009, 'niede': 6010, 'raechtig': 6011, 'umdeutet': 6012, 'diskurses': 6013, 'zitaten': 6014, 'maximalmoeglich': 6015, 'missverstehen': 6016, 'umdeuten': 6017, 'verzerren': 6018, 'tomkoehler252': 6019, 'nimmer': 6020, 'sexistin': 6021, 'heliphobie': 6022, 'heftig': 6023, 'aufgeschnappt': 6024, 'salzsaeure': 6025, 'geloestes': 6026, 'milliardenerbin': 6027, 'group': 6028, 'maennerfeindlicher': 6029, 'diversfeindlich': 6030, 'antisemitisch': 6031, 'prophetenbeleidigung': 6032, 'gratismut': 6033, 'kollektivismus': 6034, 'umma': 6035, 'rechtsextremen': 6036, 'verdiente': 6037, 'festangestellte': 6038, 'haushaltshilfe': 6039, 'unternehmerhaushalt': 6040, 'iannis': 6041, 'detlefalsbach1': 6042, 'lillycat15': 6043, 'grausamkeit': 6044, 'maennergrippe': 6045, 'erahnen': 6046, 'spassen': 6047, 'genderleugnern': 6048, 'weihungen': 6049, 'getrennt': 6050, 'revision': 6051, 'handerwerkszeug': 6052, 'aufrichtiger': 6053, 'volljaehrigem': 6054, 'stockkatholisch': 6055, 'kennenlernte': 6056, 'unmoralischen': 6057, 'beduinen': 6058, 'durchschnittsdeutschen': 6059, 'spinnereien': 6060, 'tugendstolzen': 6061, 'inbruenstig': 6062, 'gebruellt': 6063, 'systemherde': 6064, 'unistisch': 6065, 'unveraende': 6066, 'eingebauter': 6067, 'selbstschutz': 6068, 'gottes': 6069, 'filmt': 6070, 'steinigung': 6071, 'sma': 6072, 'unabaenderliche': 6073, 'phaenotypische': 6074, 'anknuepft': 6075, 'arabern': 6076, 'afrikanern': 6077, 'birds': 6078, 'feather': 6079, 'together': 6080, 'kreisen': 6081, 'eingebracht': 6082, 'kz': 6083, 'polpotkillingfields': 6084, 'fbi': 6085, 'spezies': 6086, 'aeussere': 6087, 'suedafrika': 6088, 'farmermorde': 6089, 'genozidaufrufen': 6090, 'antiweisser': 6091, 'leugnung': 6092, 'angeborenem': 6093, 'phaenotyp': 6094, 'islamstaaten': 6095, 'verfasst': 6096, 'religionsfreiheit': 6097, 'sexuell': 6098, 'abweichende': 6099, 'juengste': 6100, 'libanon': 6101, 'umwaelzung': 6102, 'positives': 6103, 'wirbeln': 6104, 'durcheinander': 6105, 'bewunde': 6106, 'germanischen': 6107, 'kriegerischen': 6108, 'welteroberern': 6109, 'verlieben': 6110, 'intim': 6111, 'pierre': 6112, 'trauerzuegen': 6113, 'schwerster': 6114, 'kapitaler': 6115, 'migrantenkriminalitaet': 6116, 'rechtsextreme': 6117, 'offizielle': 6118, 'eihaltung': 6119, 'fuendig': 6120, 'brasilianerin': 6121, 'dunklem': 6122, 'teint': 6123, 'krausen': 6124, 'liie': 6125, 'paraderassist': 6126, 'unmenschlichen': 6127, 'islampraxis': 6128, 'hellste': 6129, 'kerze': 6130, 'veritable': 6131, 'vollmeise': 6132, 'enklave': 6133, 'inmitten': 6134, 'archaischer': 6135, 'islamdiktaturen': 6136, 'eidigungsrecht': 6137, 'subventionierung': 6138, 'doppelmoral': 6139, 'saekular': 6140, 'verfassten': 6141, 'apologeten': 6142, 'betaetigen': 6143, 'aufgeknuepften': 6144, 'homosexuellen': 6145, 'tolerante': 6146, 'kuffar': 6147, 'schaetzt': 6148, 'rechtlich': 6149, 'gleichstellt': 6150, 'orientierung': 6151, 'privatsache': 6152, 'kinderbraeute': 6153, 'verbietet': 6154, 'gewaltfreie': 6155, 'auffaellt': 6156, 'flosafraca': 6157, 'schaechtung': 6158, 'koenigsfamilie': 6159, 'rollenmodell': 6160, 'perfekte': 6161, 'feudalsystem': 6162, 'volkswiderstand': 6163, 'massiv': 6164, 'stil': 6165, 'senkung': 6166, 'sonmist7': 6167, 'joachimfriede4': 6168, 'ironisch': 6169, 'ron1872': 6170, 'europaeischer': 6171, 'cousinen': 6172, 'heirat': 6173, 'grades': 6174, 'herzlichen': 6175, 'grafik': 6176, 'salomontannhau1': 6177, 'milvus84': 6178, 'erdkundebuch': 6179, 'gymnasium': 6180, '80er': 6181, 'chrisjuko': 6182, 'desoxyribonukleinsaeure': 6183, 'lysergsaeurediethylamid': 6184, 'wigkummerle': 6185, 'materie': 6186, 'barbara25411': 6187, 'statistische': 6188, 'physikprofessor': 6189, 'neil': 6190, 'degrasse': 6191, 'tyson': 6192, 'mangels': 6193, 'rohstoffen': 6194, 'moeglichkeiten': 6195, 'intelligenzproblem': 6196, 'feststellt': 6197, 'kluegsten': 6198, 'schnitt': 6199, 'normalintelligenz': 6200, 'schlusslicht': 6201, 'vero': 6202, 'genforscher': 6203, 'rang': 6204, 'seltener': 6205, 'einzelgenies': 6206, 'archimedes': 6207, 'dummdreister': 6208, 'linkoider': 6209, 'meute': 6210, 'ehren': 6211, 'feststellung': 6212, 'genetisch': 6213, 'durchschnittlich': 6214, 'tamara': 6215, 'schweizerin': 6216, 'hannovers': 6217, 'gendergaga': 6218, 'schippe': 6219, 'satirisch': 6220, 'twitty80905251': 6221, 'schwappt': 6222, 'schnellsten': 6223, 'gewachsene': 6224, 'bedrohte': 6225, 'minderheitenschutz': 6226, 'poc': 6227, '0001f632': 6228, 'hitlerschen': 6229, 'merkelsche': 6230, 'nationalmasochismus': 6231, 'mitteleuropas': 6232, '0001f98a': 6233, 'huehnerstall': 6234, '0001f423': 6235, '0001f425': 6236, 'sozialisten': 6237, 'verbund': 6238, 'schirmherrschaft': 6239, 'freiheitlichen': 6240, 'saekularen': 6241, 'tribalismus': 6242, 'religionseifers': 6243, 'pot': 6244, 'ausliefern': 6245, 'versorgungszentrum': 6246, 'paritaetisch': 6247, 'genossenschaft': 6248, 'gesetzgeber': 6249, 'kompetenz': 6250, 'wuenschenswe': 6251, 'libtards': 6252, 'durchgeknallten': 6253, 'borders': 6254, 'nations': 6255, 'idiotie': 6256, 'wohligen': 6257, 'geborgenheit': 6258, 'oase': 6259, 'grausamen': 6260, 'verquietsche': 6261, 'floetenkonze': 6262, 'klamme': 6263, 'resterampe': 6264, 'zerbroeckelnder': 6265, 'machtbasis': 6266, 'verpennt': 6267, 'wahlsonntag': 6268, 'wuestenkult': 6269, 'ethnischer': 6270, 'verratene': 6271, 'kehren': 6272, 'riege': 6273, 'trauerzug': 6274, 'geschaendetes': 6275, 'ermordetes': 6276, 'mietmaul': 6277, 'hetzjagd': 6278, 'award': 6279, 'rotgruene': 6280, 'naive': 6281, 'tilgung': 6282, 'genpool': 6283, 'formelhaft': 6284, 'leichenberg': 6285, 'waechst': 6286, 'nolinke': 6287, 'geschworen': 6288, 'schwur': 6289, 'melkkuehe': 6290, 'strammer': 6291, 'herangezogen': 6292, 'eidesformel': 6293, 'ueberarbeiten': 6294, 'synchronisieren': 6295, 'tele5': 6296, 'massenpanik': 6297, 'jvermessen': 6298, 'berlinulla': 6299, 'maennerhaushalt': 6300, 'wings': 6301, 'backofen': 6302, '0001f357': 6303, 'kauen': 6304, 'voegel': 6305, '0001f52a': 6306, '0001f37d': 6307, 'rosa': 6308, 'haeschenohren': 6309, '0001f430': 6310, 'aufopfernd': 6311, 'guilt': 6312, 'anarchie': 6313, 'fraktion': 6314, 'bleifuss': 6315, 'buergerrechte': 6316, 'frauenwahlrechts': 6317, 'fesche': 6318, 'eroberer': 6319, 'frauenherzen': 6320, 'trendy': 6321, 'chen': 6322, 'reichskanzler': 6323, 'monamar23815769': 6324, 'drastische': 6325, 'gegenbezeichnungen': 6326, 'unverschaemtheiten': 6327, 'verfassungstreuen': 6328, 'freibuergern': 6329, 'nospd': 6330, 'nogruene': 6331, 'nocommies': 6332, 'polpotkillingfieldsmetzger': 6333, 'gulagschergen': 6334, 'stasifolterknechte': 6335, 'meldemuschis': 6336, 'radikalkommunisten': 6337, 'hydra': 6338, 'schlage': 6339, 'schoeneres': 6340, 'mehmascholl': 6341, 'kaese': 6342, 'angeknabbe': 6343, 'holger56228648': 6344, 'moerderfratzen': 6345, 'journalistendarsteller': 6346, 'gegengesellschaft': 6347, 'mohammedkultes': 6348, 'propagieren': 6349, 'serienkiller': 6350, 'folterkeller': 6351, 'aufgewachtewelt': 6352, 'hinterm': 6353, 'gelandet': 6354, 'beeindruckende': 6355, 'gegende': 6356, 'unisextoiletten': 6357, '0001f61c': 6358, 'mondes': 6359, 'vollalimentierung': 6360, 'vernichtung': 6361, 'energiewi': 6362, 'demontage': 6363, 'gendergerechtigkeit': 6364, 'betonschwein': 6365, 'unkorrektes': 6366, 'dazwischengeschmuggelt': 6367, '0001f92b': 6368, 'breite': 6369, 'einzufangen': 6370, 'biologisch': 6371, 'saeugetiere': 6372, 'kognitiven': 6373, 'faehigkeiten': 6374, 'befaehigen': 6375, 'umgestaltung': 6376, 'lebenswelt': 6377, 'weitergabe': 6378, 'gemeinsamer': 6379, 'abstraktion': 6380, 'mathematischen': 6381, 'formalsprache': 6382, 'trennt': 6383, 'fckcdu': 6384, 'cduverhindern': 6385, 'ausgleich': 6386, 'gebettelt': 6387, 'laenderspiel': 6388, 'fckdlf': 6389, 'fcksky': 6390, 'baeckerlehre': 6391, 'lehrlingsgehalt': 6392, '00h': 6393, 'gesetzlicher': 6394, 'niedrigen': 6395, 'mieten': 6396, 'billigsten': 6397, 'anbieter': 6398, 'verschenkt': 6399, 'aufsteigen': 6400, 'woellte': 6401, 'grummeln': 6402, 'werbebande': 6403, 'ftw': 6404, 'huch': 6405, 'bebelplatz': 6406, 'staatsoper': 6407, 'baustellenzeugs': 6408, 'yesss': 6409, 'aufstampf': 6410, 'bvg': 6411, '200er': 6412, 'stationen': 6413, 'endhaltestelle': 6414, 'englischen': 6415, 'kommentator': 6416, 'auswechseln': 6417, 'naziaufmarsch': 6418, 'aufstand': 6419, 'bemueht': 6420, 'kontinuitaet': 6421, 'verwunderlich': 6422, 'betrete': 6423, 'dfbpokalistunsscheissegal': 6424, 'kkbeutekunst': 6425, 'ebay': 6426, 'kleinanzeigen': 6427, 'dickichten': 6428, 'enlaube': 6429, 'obersten': 6430, 'altbau': 6431, 'hinterhaus': 6432, 'issso': 6433, 'twitterlisten': 6434, 'bearbeiten': 6435, 'ansagen': 6436, 'verwaltung': 6437, 'anbietet': 6438, 'twitteraccount': 6439, 'aufraeumen': 6440, 'reaktivieren': 6441, 'rausgeschmissen': 6442, 'kollateralschaeden': 6443, 'spielzerstoerung': 6444, 'magdeburg': 6445, 'standardsituation': 6446, 'geschieteuchrecht': 6447, 'schieber': 6448, 'uups': 6449, 'trainerbank': 6450, 'oliv': 6451, 'traeume': 6452, 'ringe': 6453, 'geisterarmee': 6454, 'afdwegfegen': 6455, 'rage': 6456, 'stopptdenhass': 6457, 'grachmusikoff': 6458, 'schwoissfuass': 6459, 'frie': 6460, 'neid': 6461, 'wettruesten': 6462, '80igern': 6463, 'neudecker': 6464, 'diamantakos': 6465, 'stolpern': 6466, 'parks': 6467, 'traumflanken': 6468, 'hattrick': 6469, 'slowtrirun': 6470, 'cheating': 6471, 'totes': 6472, 'pferd': 6473, 'reiten': 6474, 'soooooo': 6475, 'soooo': 6476, 'kotz': 6477, 'bfe': 6478, 'einheiten': 6479, 'individuelle': 6480, 'kennzeichnung': 6481, 'b1702': 6482, 'servicetweet': 6483, 'saudaemliche': 6484, 'abwehr': 6485, 'flanken': 6486, 'kopfbaelle': 6487, 'ooch': 6488, 'bouhaddouz': 6489, 'hrhrhr': 6490, 'giggel': 6491, 'ahnte': 6492, 'tuffig': 6493, 'operie': 6494, 'wiener': 6495, 'italienische': 6496, 'staatsanwalt': 6497, 'lka': 6498, 'odenthal': 6499, 'kopper': 6500, 'zaeh': 6501, 'urban': 6502, 'priol': 6503, 'zuvielrealitaet': 6504, 'spannend': 6505, 'streamprobleme': 6506, 'afmradio': 6507, 'sobiech': 6508, 'kackte': 6509, 'afm': 6510, 'stream': 6511, 'callmeuschi': 6512, 'geahnt': 6513, 'torjubel': 6514, 'wiederanpfiff': 6515, 'schiri': 6516, 'depp': 6517, 'talsohle': 6518, 'unentschieden': 6519, 'yeah': 6520, 'situativ': 6521, 'ueberlaedt': 6522, 'verdientes': 6523, 'remis': 6524, 'spiels': 6525, 'regensburg': 6526, 'gephotoshopped': 6527, '1e9e': 6528, 'graetsche': 6529, 'einsdroelf': 6530, 'jens1893': 6531, 'gegebenem': 6532, 'bazitrachten': 6533, 'cannstatt': 6534, 'aux': 6535, 'halbzeit': 6536, 'gebucht': 6537, 'bwler': 6538, 'besseren': 6539, 'ingolstaedter': 6540, 'trikots': 6541, 'vorgeschmutzt': 6542, 'fcspfci': 6543, 'lullen': 6544, 'flumi': 6545, 'adrenalinspritze': 6546, 'verhoek': 6547, '0001f615': 6548, 'konzentrieren': 6549, 'trikot': 6550, 'aufgespa': 6551, 'funke': 6552, 'stuemmt': 6553, 'zahnpasta': 6554, 'heuteplus': 6555, 'polizeigewerkschafter': 6556, 'polizeitaktik': 6557, 'quasselt': 6558, 'empirisch': 6559, 'carsharing': 6560, 'nutzer': 6561, 'pygmaeen': 6562, 'wgt': 6563, 'zeitraum': 6564, 'wgts': 6565, 'wschingnitz': 6566, 'jirky': 6567, 'eyes': 6568, 'sintaura': 6569, 'theo': 6570, 'dfl': 6571, 'funktionaeren': 6572, 'ordner': 6573, 'm60ssv': 6574, 'fckdfb': 6575, 'gratuliere': 6576, 'vfl': 6577, 'wolfsburg': 6578, 'gewinn': 6579, 'doubles': 6580, 'derbysieger': 6581, 'polyamorie': 6582, 'froagst': 6583, 'katie': 6584, 'woias': 6585, 'host': 6586, 'hihihihi': 6587, 'ohje': 6588, 'kopfschuettel': 6589, 'halbserie': 6590, 'magischer': 6591, 'fc': 6592, 'kurve': 6593, 'unabsteigbar': 6594, 'hinrunde': 6595, 'klatschpappenliga': 6596, 'glamour': 6597, 'gala': 6598, 'glitzer': 6599, 'mittellinie': 6600, 'faustet': 6601, 'preisboxer': 6602, 'vflfcsp': 6603, 'kuer': 6604, 'askowronek': 6605, 'angewoehnen': 6606, 'schee': 6607, 'net': 6608, 'selte': 6609, 'winkel': 6610, 'erdolchen': 6611, 'hipsterdutt': 6612, 'besche': 6613, 'kaiserslautern': 6614, 'rechnerisch': 6615, 'abgefahren': 6616, 'ick': 6617, 'ae': 6618, 'aziz': 6619, 'sensationell': 6620, 'enge': 6621, 'kiste': 6622, 'bildgewaltig': 6623, 'gefuehlten': 6624, 'saisons': 6625, 'ssieg': 6626, 'nachspielen': 6627, 'versaut': 6628, 'gefrustet': 6629, 'nachspielzeit': 6630, 'sahin': 6631, 'eiskalte': 6632, 'amuesant': 6633, 'istbraunweiss': 6634, 'pietaet': 6635, 'auszustrahlen': 6636, 'lupo': 6637, 'schlechteste': 6638, 'nullzeit': 6639, 'eckballtor': 6640, 'beruhigt': 6641, 'gentner': 6642, 'gefuehlt': 6643, 'praesident': 6644, 'schinkenkrakauer': 6645, 'einwerfen': 6646, 'mandymatz': 6647, 'zeckenwombat': 6648, 'quatschkopf': 6649, 'gestraft': 6650, 'monitor': 6651, '80ger': 6652, 'verschossenen': 6653, 'meisterschaft': 6654, 'nuetzt': 6655, 'fehlentscheidung': 6656, 'handspiel': 6657, 'abstoss': 6658, 'heidenheim': 6659, 'abstiegskampf': 6660, 'duesseldorfer': 6661, 'schauspiele': 6662, 'ruppe': 6663, 'pappbecher': 6664, 'weed': 6665, 'draufsteht': 6666, 'scheissangst': 6667, 'uswahl16': 6668, 'drummer': 6669, 'rb24': 6670, 'eberswalde': 6671, 'halb': 6672, 'bahnsteig': 6673, 'herzliche': 6674, 'gelacht': 6675, 'witterungsbedingte': 6676, 'stoerungen': 6677, 'pendlerschicksal': 6678, 'spieler': 6679, 'sepsis': 6680, 'oerks': 6681, 'ticker': 6682, 'puzzlestuecke': 6683, 'verkleiden': 6684, 'klingeln': 6685, 'suesses': 6686, 'saures': 6687, 'skandieren': 6688, 'suessesimhaus': 6689, 'seb': 6690, 'baehr': 6691, 'klassenbewusstsein': 6692, 'verhaeltnissen': 6693, 'are': 6694, 'bastards': 6695, 'acab': 6696, 'klassengesellschaft': 6697, 'volkstuemelei': 6698, 'antikapitalismus': 6699, 'afdkehl': 6700, 'menschenfeinde': 6701, 'pgeigerzaehler': 6702, 'formelfriedrich': 6703, 'friedenswatch': 6704, 'aufgenommen': 6705, 'mehrerer': 6706, 'si': 6707, 'outing': 6708, 'einzunehmen': 6709, 'streikenden': 6710, 'streik': 6711, 'bestehenden': 6712, 'findest': 6713, 'rebellwiesbaden': 6714, 'gruppierung': 6715, 'franzoesischen': 6716, 'allgemein': 6717, 'massive': 6718, 'rbbinforadio': 6719, 'gentrifizierung': 6720, 'meisterecki': 6721, 'existensrecht': 6722, 'abstreiten': 6723, 'nationalismen': 6724, 'doppelten': 6725, 'antikapitalistisch': 6726, 'rafberlin': 6727, 'jacke': 6728, 'ruppi': 6729, 'struppi': 6730, 'rbb24': 6731, 'bezirk': 6732, 'friedrichshain': 6733, 'einzelheiten': 6734, 'kinderlebenfrei': 6735, 'wolken': 6736, 'weiterziehen': 6737, 'soziologische': 6738, 'eindeutige': 6739, 'abzuschieben': 6740, 'anzutreffen': 6741, 'schlimmen': 6742, 'nestbeschmutzung': 6743, 'antirassistischer': 6744, 'feststelle': 6745, 'nerin': 6746, 'behandeln': 6747, 'nuetzlichkeit': 6748, 'tiefst': 6749, 'plakate': 6750, 'faschistoiden': 6751, 'svp': 6752, 'fpoe': 6753, 'anderer': 6754, 'speist': 6755, 'weltkriege': 6756, 'ergo': 6757, 'leckt': 6758, 'karpfenratten': 6759, 'schmakifatz': 6760, 'radikalelinkeb': 6761, 'm84013857': 6762, 'personifizierung': 6763, 'normalzustands': 6764, 'jeanneraffut': 6765, 'kattascha': 6766, 'verschwoehrungsottos': 6767, 'fahne': 6768, 'gefluechteten': 6769, 'amis': 6770, 'blabla': 6771, 'aufn': 6772, 'diskursbereit': 6773, 'welten': 6774, 'setze': 6775, 'emanzipation': 6776, 'ignoriere': 6777, 'arbeitsfetisch': 6778, 'produktion': 6779, 'vergeuden': 6780, 'proletarischen': 6781, 'radikalem': 6782, 'sozialdemokratischen': 6783, 'calvinistischen': 6784, 'diene': 6785, 'imaginie': 6786, 'jemandem': 6787, 'wunschvorstellungen': 6788, 'personifizie': 6789, 'schwache': 6790, 'sonjaablinger': 6791, 'conligit': 6792, 'generieren': 6793, 'humankapital': 6794, 'prokrastination': 6795, 'schulzeiten': 6796, 'berufs': 6797, 'privatleben': 6798, 'ableistisch': 6799, 'schadet': 6800, 'volkskoerper': 6801, 'kropotkin': 6802, 'umdreht': 6803, 'veraechtliches': 6804, 'faulheit': 6805, 'provokation': 6806, 'hing': 6807, 'buero': 6808, 'beisetzung': 6809, 'leistungsprinziep': 6810, 'aufzugehen': 6811, 'samelou': 6812, 'menschenfeinden': 6813, 'folgst': 6814, 'diskursbereitschaft': 6815, 'steile': 6816, 'toedlicher': 6817, 'kritischer': 6818, 'skeptisch': 6819, 'ablehnende': 6820, 'gewaltfrei': 6821, 'eingestochen': 6822, 'eidige': 6823, 'ihnen': 6824, 'gewaltphantasien': 6825, 'interpretieren': 6826, 'schicke': 6827, 'nachweislich': 6828, 'mollys': 6829, 'ermordete': 6830, 'menschenfeindlichen': 6831, 'passten': 6832, 'brennendes': 6833, 'fliegender': 6834, 'stein': 6835, 'hochgeruestete': 6836, 'staatsmacht': 6837, 'verglichen': 6838, 'pluende': 6839, 'laeden': 6840, 'durchsetzung': 6841, 'parlamentarischen': 6842, 'verschrieben': 6843, 'demokrat': 6844, 'wichig': 6845, 'verkommen': 6846, 'erinnere': 6847, 'armee': 6848, 'alliie': 6849, 'speziellen': 6850, 'zwingendes': 6851, 'erpresst': 6852, 'vag': 6853, 'reproduziere': 6854, 'kritisches': 6855, 'geschaerft': 6856, 'philipplicke': 6857, 'personalisieren': 6858, 'systematiken': 6859, 'erweckt': 6860, 'fatalen': 6861, 'polizeieinsaetze': 6862, 'kettenhunde': 6863, 'kapitals': 6864, 'unpolitisch': 6865, 'nationale': 6866, 'capitale': 6867, 'gewalttaetigkeiten': 6868, 'geisel': 6869, 'sauerei': 6870, 'anwesenheit': 6871, 'rechstaatliches': 6872, 'eidiger': 6873, 'durchsuchung': 6874, 'anwalt': 6875, 'staendige': 6876, 'moralisieren': 6877, 'willens': 6878, 'aender': 6879, 'koepfen': 6880, 'zhangdanhong': 6881, 'logistik': 6882, 'verkommt': 6883, 'widersprochen': 6884, 'angenommen': 6885, 'rchiflada': 6886, 'sis': 6887, 'teract': 6888, 'dlfkultur': 6889, 'denis': 6890, 'moritz': 6891, 'harald': 6892, 'georgii': 6893, 'teure': 6894, 'kieze': 6895, 'grundbeduerfnis': 6896, 'gjdueren': 6897, 'bah': 6898, 'koch': 6899, 'milchreis': 6900, 'sabinenuss': 6901, 'ndaktuell': 6902, 'sueddeutschland': 6903, 'susannewiest': 6904, 'grazynagintner': 6905, 'grundsicherung': 6906, 'gaengelung': 6907, 'jeweiligen': 6908, 'christlichen': 6909, 'gesetzlichen': 6910, 'urlaubsanspruch': 6911, 'addieren': 6912, 'gewuenscht': 6913, 'zusaetzlich': 6914, '1mai': 6915, 'maerz': 6916, 'neponip': 6917, 'pinky': 6918, 'pcww': 6919, 'fleischbruehe': 6920, 'iceapen': 6921, 'brainvisualizer': 6922, 'abkommandie': 6923, 'gedenkdemo': 6924, 'klare': 6925, 'scheiwerbung': 6926, 'micheloutlaw96': 6927, 'militanz': 6928, 'ansprichst': 6929, 'gedenken': 6930, 'joachimrock': 6931, 'paritaet': 6932, 'maxirente': 6933, 'beitraege': 6934, 'privatversicherungen': 6935, 'maxi': 6936, 'mindest': 6937, '65': 6938, 'religiositaet': 6939, 'glaubensaussagen': 6940, 'konzepte': 6941, 'institutionen': 6942, 'erscheinungsformen': 6943, 'rational': 6944, 'beziehungsweise': 6945, 'ethisch': 6946, 'kathari30070537': 6947, 'derfreitag': 6948, 'kontrast': 6949, 'selbstzweck': 6950, 'solides': 6951, 'entferntesten': 6952, 'verbalen': 6953, 'materiellen': 6954, 'toetetet': 6955, 'original': 6956, 'baerbelkofler': 6957, 'eindeutiges': 6958, 'antirassistisched': 6959, 'm4rcus': 6960, 'durchblick': 6961, 'nasir': 6962, 'ahmad': 6963, 'klassisch': 6964, 'hamidilaila1': 6965, 'konkretmagazin': 6966, 'ausgabe': 6967, 'verdi': 6968, 'annalist': 6969, 'lohnarbeit': 6970, 'ta': 6971, 'ideologiekritik': 6972, 'vorwand': 6973, 'keinster': 6974, 'definitionen': 6975, 'standa': 6976, 'materiel': 6977, 'schlauer': 6978, 'diepa': 6979, 'eiberlin': 6980, 'bvvxhain': 6981, 'sarahbosetti': 6982, 'frauenmarsch': 6983, 'antirassistisch': 6984, 'starzmann': 6985, 'zehlendorf': 6986, 'schlachtensee': 6987, 'graffiti': 6988, 'he': 6989, 'habsc': 6990, 'flaggen': 6991, 'gesprueht': 6992, 'vieleicht': 6993, 'dankeantifa': 6994, 'reticularis': 6995, 'erikmarquardt': 6996, 'dosenpfand': 6997, 'aufhaengen': 6998, 'linksradikalen': 6999, 'malcolmmusic': 7000, 'ndm': 7001, 'petadeutschland': 7002, 'stoppt': 7003, 'waffenexpo': 7004, 'diese': 7005, 'rambazamba161': 7006, 'waffe': 7007, 'offelcore': 7008, 'wewatzen': 7009, 'dankbarkeit': 7010, '90iger': 7011, 'nationalistischen': 7012, 'rassistischen': 7013, 'konsens': 7014, 'bedchissene': 7015, 'gammeln': 7016, 'figger': 7017, 'genuegsamkeit': 7018, 'hintergedanken': 7019, 'bibelvers': 7020, 'geplantes': 7021, 'schauspiel': 7022, 'vergleichit': 7023, 'vers': 7024, 'hochzeit': 7025, 'aufzuruecken': 7026, 'niederen': 7027, 'tischende': 7028, 'entgangen': 7029, 'aufgerueckt': 7030, 'gluecklicher': 7031, 'hurentisch': 7032, 'eineinhalb': 7033, 'ladenschluss': 7034, 'caipirinas': 7035, 'toffifee': 7036, 'symmetrisch': 7037, 'halbes': 7038, 'tuete': 7039, 'schimmel': 7040, 'spuehl': 7041, 'pc': 7042, 'letztens': 7043, 'menschenschwanz': 7044, 'huehnerkloake': 7045, 'dreckshaufen': 7046, 'cock': 7047, 'kloake': 7048, 'osmo': 7049, 'spast': 7050, 'verlaenge': 7051, 'mitleid': 7052, 'bauerncocks': 7053, 'see': 7054, 'did': 7055, 'there': 7056, 'alda': 7057, 'had': 7058, 'jabanische': 7059, 'bad': 7060, 'kinkaku': 7061, 'ji': 7062, 'nachempfunden': 7063, 'schmerztablette': 7064, 'op': 7065, 'merk': 7066, 'synchro': 7067, 'restlichen': 7068, 'saetze': 7069, 'statisten': 7070, 'kataras': 7071, 'tophs': 7072, 'zuko': 7073, 'narbe': 7074, 'auchnoch': 7075, 'lieh': 7076, 'norwegische': 7077, 'nationalhymne': 7078, 'staatsbuergerschaft': 7079, 'anzuendet': 7080, 'weggesprengt': 7081, 'gild': 7082, 'feuerwerke': 7083, 'duerft': 7084, 'mitternacht': 7085, 'gecalled': 7086, 'nciht': 7087, 'kursleiter': 7088, 'anzumelden': 7089, 'anmeldezeit': 7090, 'topi': 7091, 'hauptsaechlich': 7092, 'waerend': 7093, 'achselhaare': 7094, 'werded': 7095, 'kissen': 7096, 'unters': 7097, 'becken': 7098, 'wirbelsaeule': 7099, 'bloggen': 7100, 'abverlangen': 7101, 'brich': 7102, 'mannessystem': 7103, 'bekackte': 7104, 'durchkauen': 7105, 'anhaengergruppe': 7106, 'pustekuchen': 7107, 'interessenfeldes': 7108, 'diskreditieren': 7109, 'umbedingt': 7110, 'offene': 7111, 'konkubinator': 7112, 'schlafrythmus': 7113, 'sodbrennen': 7114, 'rechtliche': 7115, 'selbstjustiz': 7116, 'opposition': 7117, 'beschuldigst': 7118, 'straftaten': 7119, 'indenen': 7120, 'todeswuensche': 7121, 'ausspricht': 7122, 'streamt': 7123, 'tweetet': 7124, 'blogt': 7125, 'passagen': 7126, 'niiiicht': 7127, 'autopsy': 7128, 'life': 7129, 'death': 7130, 'cells': 7131, 'informations': 7132, 'regale': 7133, 'gasleitung': 7134, 'getroffen': 7135, 'explodier': 7136, 'heut': 7137, 'roadtrip': 7138, 'hinweisen': 7139, 'fachbegriff': 7140, 'fehlhaltung': 7141, 'lumbar': 7142, 'lordosis': 7143, 'beweisfuehrung': 7144, 'benennung': 7145, 'zustaendig': 7146, 'mental': 7147, 'breakdown': 7148, 'platzen': 7149, 'taggeckos': 7150, 'gehoeren': 7151, 'erlaubten': 7152, 'raptilien': 7153, 'fruchtboi': 7154, 'mitnehmen': 7155, 'jaaa': 7156, 'eingeschlafen': 7157, 'hellwach': 7158, 'pease': 7159, 'hoppla': 7160, 'nordlichter': 7161, 'immerdunklen': 7162, 'geschlossene': 7163, 'schneedecken': 7164, 'endlosen': 7165, 'waeldern': 7166, 'glasklare': 7167, 'fluesse': 7168, 'eiserne': 7169, 'taeler': 7170, 'grauer': 7171, 'pissehimmel': 7172, 'beficktem': 7173, 'fussweg': 7174, 'dreger': 7175, 'febasst': 7176, 'sueskram': 7177, 'nichmehr': 7178, 'meins': 7179, 'funkekubus': 7180, 'tandreallzeit': 7181, 'sven': 7182, 'xpandorya': 7183, 'klugscheisser': 7184, 'verbesse': 7185, 'klugscheisse': 7186, 'abracz': 7187, 'hinposition': 7188, 'gegenposition': 7189, 'problemes': 7190, 'modernsten': 7191, 'schleude': 7192, 'rauma': 7193, 'anfahren': 7194, 'vollpreis': 7195, 'immernoch': 7196, 'wat': 7197, 'joooooooooooooooo': 7198, 'witcher': 7199, 'sechs': 7200, 'halber': 7201, 'nachbearbeitung': 7202, 'anlaufen': 7203, 'praemisse': 7204, 'anmalt': 7205, 'absaegt': 7206, 'shego': 7207, 'energiebaendigerin': 7208, 'umprofesionehl': 7209, '3d': 7210, 'action': 7211, 'holst': 7212, 'ichs': 7213, 'gehofft': 7214, 'gebrochenen': 7215, 'selbstbeherrschung': 7216, 'erkaeltet': 7217, 'unterhaltung': 7218, 'gespielt': 7219, 'genauestens': 7220, 'kuerbissuppe': 7221, 'omas': 7222, 'gegrillten': 7223, 'croutons': 7224, 'unbestreitbar': 7225, 'cptmeddl': 7226, 'integritaet': 7227, 'schanzendaches': 7228, 'wingl': 7229, 'beruehren': 7230, 'verstaerkt': 7231, 'drachen': 7232, 'erfassen': 7233, 'balken': 7234, 'setzten': 7235, 'coolsten': 7236, 'boesewichte': 7237, 'geige': 7238, 'insignien': 7239, 'coolste': 7240, 'feature': 7241, 'setzung': 7242, 'janwastakenbtw': 7243, 'isow': 7244, 'trace': 7245, 'meta': 7246, 'vollstaendiges': 7247, 'todesu': 7248, 'darstellt': 7249, 'skill': 7250, 'lernkurve': 7251, 'kanns': 7252, 'pokemon': 7253, 'balanced': 7254, 'fps': 7255, 'ladezeiten': 7256, 'jeglichen': 7257, 'bildschirmen': 7258, 'laed': 7259, 'sekunde': 7260, 'spielbar': 7261, 'zimmer': 7262, 'gepisst': 7263, 'hurensohn': 7264, 'haarloser': 7265, 'putzischen': 7266, 'sussi': 7267, 'daaaaaaaaaaaa': 7268, 'skrawu': 7269, 'offenen': 7270, 'kabel': 7271, 'steckdose': 7272, 'verdammde': 7273, 'asiaddn': 7274, 'leckeres': 7275, 'nudeln': 7276, 'bereuen': 7277, 'nei': 7278, 'schuere': 7279, 'garnichts': 7280, 'bereu': 7281, 'domblebizeps': 7282, 'sieh': 7283, 'frustfresser': 7284, 'passive': 7285, 'vollem': 7286, 'maestet': 7287, 'beendende': 7288, 'strick': 7289, 'wissenschaftlichkeit': 7290, 'much': 7291, 'taetigkeitsbereiche': 7292, 'beleglose': 7293, 'liblingsargumente': 7294, 'drinne': 7295, 'neurobiologen': 7296, 'herausgefunden': 7297, 'medizinerin': 7298, 'langer': 7299, 'abschnitt': 7300, 'besagter': 7301, 'rausgepickte': 7302, 'seitigen': 7303, 'textanalyse': 7304, 'eingegenagen': 7305, 'textpassagen': 7306, 'interpraetierbaren': 7307, 'hinzuwerfen': 7308, 'anerkennst': 7309, 'faktoren': 7310, 'leugnet': 7311, 'bare': 7312, 'falsches': 7313, 'eidigst': 7314, 'hese': 7315, 'linguistik': 7316, 'begruendern': 7317, 'grundthesen': 7318, 'mitursache': 7319, 'anerkannt': 7320, 'ausweichst': 7321, 'grundfaktoren': 7322, 'beruecksichtigt': 7323, 'ausgefueh': 7324, 'leittextes': 7325, 'renomie': 7326, 'entsprechend': 7327, 'neutraler': 7328, 'zweig': 7329, 'einfluss': 7330, 'forschun': 7331, 'verkorksten': 7332, 'erwaehnst': 7333, 'strohmannes': 7334, 'beschuldigen': 7335, 'zurueckgehalten': 7336, 'teildebatte': 7337, 'auswirkung': 7338, 'geschlechterrollen': 7339, 'rhetorischen': 7340, 'fachsprachlichen': 7341, 'schlagfe': 7342, 'leserlichen': 7343, 'verfassen': 7344, 'twitterdebatten': 7345, 'hoeheres': 7346, 'zugegeben': 7347, 'wahrscheinliche': 7348, 'vereinzelter': 7349, 'sachlicher': 7350, 'groesstenteils': 7351, 'gestrige': 7352, 'auseinanderfassung': 7353, 'leitsteintext': 7354, 'gunda': 7355, 'instituts': 7356, 'geschlechterdemokratie': 7357, 'fehlerhaften': 7358, 'grundsteine': 7359, 'zweiges': 7360, 'barkeit': 7361, 'fachrichtung': 7362, 'anzuzweifeln': 7363, 'anhand': 7364, 'prozentsatz': 7365, 'grundstein': 7366, 'aufweisen': 7367, 'vielzahl': 7368, 'publikationen': 7369, 'studiums': 7370, 'einschalten': 7371, 'vermeindliche': 7372, 'wiederlegten': 7373, 'ergebnissen': 7374, 'festhaelt': 7375, 'ausblenden': 7376, 'diskussionsfaehig': 7377, 'durchbrechen': 7378, 'stosse': 7379, 'durchgekaut': 7380, 'rumgekommen': 7381, 'grundaussage': 7382, 'wissenschaftler': 7383, 'empirische': 7384, 'stossen': 7385, 'fechte': 7386, 'wiederlegt': 7387, 'unspezifischen': 7388, 'studien': 7389, 'genderforschung': 7390, 'fuerst': 7391, 'argumentiere': 7392, 'abnehmen': 7393, 'totschlagargumente': 7394, 'pseudowissenschaftlichen': 7395, 'polarisierender': 7396, 'irgendeine': 7397, 'validie': 7398, 'studienzweig': 7399, 'dem': 7400, 'fehlschluss': 7401, 'entkraeftet': 7402, 'wissenschaften': 7403, 'erworbenem': 7404, 'subjektiven': 7405, 'einschaetzung': 7406, 'faktische': 7407, 'psychologisch': 7408, 'vorbeeinflussende': 7409, 'argumentationsweise': 7410, 'entkraeftung': 7411, 'generische': 7412, 'maskulinum': 7413, 'wisse': 7414, 'eingeschlossen': 7415, 'ueberfluessig': 7416, 'plans': 7417, 'feministischen': 7418, 'weltherrschaft': 7419, 'sprachlichen': 7420, 'objektive': 7421, 'vorrausetzen': 7422, 'gelesener': 7423, 'getaetigt': 7424, 'deine': 7425, 'darzubringen': 7426, 'glaubwuerdig': 7427, 'suche': 7428, 'gegenlager': 7429, 'feldes': 7430, 'hingewiesen': 7431, 'verecundiam': 7432, 'erforderlich': 7433, 'begenrogenschaf': 7434, 'endsatz': 7435, 'bewerbung': 7436, 'eingentlich': 7437, 'irkro': 7438, 'restlos': 7439, 'arztbesuch': 7440, 'spaetfolgen': 7441, 'starken': 7442, 'einschraenkung': 7443, 'sehvermoegens': 7444, 'anhaltender': 7445, 'migraene': 7446, 'ueberlegenes': 7447, 'dorfimmunsystem': 7448, 'diabedes': 7449, 'predige': 7450, 'etzadla': 7451, 'zuckerduft': 7452, 'ausgeschlossen': 7453, 'lebensweise': 7454, 'wesendlich': 7455, 'symtome': 7456, 'naechster': 7457, 'anime': 7458, 'callcenter': 7459, 'abgestochen': 7460, 'befoerde': 7461, 'esseb': 7462, 'kuehlschrank': 7463, 'weggegammelt': 7464, 'erganhg': 7465, 'bitt': 7466, 'elefand': 7467, 'eisbe': 7468, '1887': 7469, 'ekliger': 7470, 'body': 7471, 'shamer': 7472, 'pain': 7473, 'fragilen': 7474, 'roggenbrotschaf': 7475, 'gleggersau': 7476, 'trockengebiete': 7477, 'laengere': 7478, 'perioden': 7479, 'aridisierung': 7480, 'drolnegul': 7481, 'gibs': 7482, 'single': 7483, 'sexspielchen': 7484, 'hittet': 7485, 'geschwistern': 7486, 'heuchelnde': 7487, 'festtags': 7488, 'alkoholiker': 7489, 'vivian': 7490, 'veganer': 7491, 'gewaldferachdensden': 7492, 'bazifisten': 7493, 'weld': 7494, 'etzad': 7495, 'neggsdenlieb': 7496, 'rehe': 7497, 'gewande': 7498, 'bistimmt': 7499, 'zeitumstellung': 7500, 'frost': 7501, 'hee': 7502, 'maln': 7503, 'emotionsbarometer': 7504, 'anzeichen': 7505, 'arce': 7506, 'wurst': 7507, 'schmausen': 7508, 'gemalt': 7509, 'verkaeggt': 7510, 'schuste': 7511, 'bettchen': 7512, 'judgy': 7513, 'judy': 7514, 'rauens': 7515, 'ewigkeiten': 7516, 'wikinger': 7517, 'wuseldst': 7518, 'schonwieder': 7519, 'getraeumt': 7520, 'wade': 7521, 'taetowie': 7522, 'klippenspringen': 7523, 'cringy': 7524, 'spuere': 7525, 'kriechende': 7526, 'snakecleaver': 7527, 'todschlag': 7528, 'sozialschmarotzer': 7529, 'liesche13761429': 7530, 'sozialhilfe': 7531, 'schlaue': 7532, 'tinaengel91': 7533, 'anwaelte': 7534, 'diggsn': 7535, 'abstempelt': 7536, 'asylpolitik': 7537, 'drecksau': 7538, 'afrikabonus': 7539, 'gerichtsbarkeit': 7540, 'ueberstellen': 7541, 'gerechten': 7542, 'manukindinger': 7543, 'islamisches': 7544, 'bibby182': 7545, 'islamscheisse': 7546, 'tinte': 7547, 'geopfe': 7548, 'kinderleiche': 7549, 'sande': 7550, 'arschlich': 7551, 'bauernopfer': 7552, 'vonderleyen': 7553, 'ungeschoren': 7554, 'unwesen': 7555, 'oren': 7556, 'ishii': 7557, 'wohlwissend': 7558, 'multikulti': 7559, 'steigen': 7560, 'leiche': 7561, 'abschlachten': 7562, 'judenhasser': 7563, 'korantreue': 7564, 'ismoslems': 7565, 'kaeri91622010': 7566, 'berufssoldaten': 7567, 'halskrause': 7568, 'verschuldet': 7569, 'familienumgebung': 7570, 'firma': 7571, 'zahlt': 7572, 'jassi': 7573, 'miller': 7574, 'schoenes': 7575, 'fakefoto': 7576, 'invasoren': 7577, 'fotografen': 7578, 'magdale46200278': 7579, 'eliste': 7580, 'krakan': 7581, 'sozialamt': 7582, 'treppen': 7583, 'runtergestossen': 7584, 'koks': 7585, 'karsten71': 7586, 'kranzschwinger': 7587, 'imseptember82': 7588, 'fressen': 7589, 'durchs': 7590, 'sozialaemter': 7591, 'biene44930936': 7592, 'gelebte': 7593, 'taxifahrer': 7594, 'obsthaendler': 7595, 'aufzuschwatzen': 7596, 'hermanu84806348': 7597, 'buergerkrieg': 7598, 'wahrlich': 7599, 'ausbricht': 7600, 'csendc': 7601, 'erkannt': 7602, 'ueberweisungstraeger': 7603, 'ausfuellen': 7604, 'mgtow': 7605, 'trau': 7606, 'kantine': 7607, 'hinhauen': 7608, 'unterdruecken': 7609, 'gluecklichen': 7610, 'bezahlbares': 7611, '017': 7612, 'eckleben': 7613, 'schaltern': 7614, 'abgehoben': 7615, 'geldtranspo': 7616, 'unternehmen': 7617, 'bargeld': 7618, 'abheben': 7619, 'zentral': 7620, 'ueberweisungen': 7621, 'manuell': 7622, 'taetigen': 7623, 'manipulieren': 7624, 'auflage': 7625, 'steigern': 7626, 'hokuspokus': 7627, 'nachhause': 7628, 'normalbuerger': 7629, 'bedienen': 7630, 'petersburg': 7631, 'wunderschoene': 7632, 'kreuz': 7633, 'schwestern': 7634, 'gefangenschaft': 7635, 'unvorstellbares': 7636, 'ferdi10709': 7637, 'diejenige': 7638, 'bongsarm': 7639, 'asiatimesonline': 7640, 'legaler': 7641, 'goettlicher': 7642, 'non': 7643, 'aelsie2': 7644, 'innlandfluege': 7645, 'fliegenden': 7646, 'eselkarre': 7647, 'kackvoegel': 7648, 'goere': 7649, 'tragischen': 7650, 'ableben': 7651, 'huette': 7652, 'drecksack': 7653, 'uebergutmensch': 7654, 'brigitt09960560': 7655, 'gammelfleisch': 7656, 'ruby571xa6': 7657, 'ehrlichkeit': 7658, 'agentbl40535536': 7659, 'buddhisten': 7660, 'gebete': 7661, 'vorhandenen': 7662, 'einrichtungen': 7663, 'ausgeuebt': 7664, 'beten': 7665, 'speedlight': 7666, 'xavier': 7667, 'naidoo': 7668, 'hassmusiker': 7669, 'wagt': 7670, 'auszusprechen': 7671, 'controlpanel16': 7672, 'schmarotzenden': 7673, 'salafisten': 7674, 'asoziallisten': 7675, 'abschiebeindustrie': 7676, 'kriegsverbreche': 7677, 'ribunal': 7678, 'haag': 7679, 'hinterbliebenen': 7680, 'unschuldigen': 7681, 'vergewaltigten': 7682, 'abgeschlachteten': 7683, 'zirkuse': 7684, 'akrobaten': 7685, 'springe': 7686, 'abzuziehen': 7687, 'klarzustellen': 7688, 'begeiste': 7689, 'milde': 7690, 'ausgedrueckt': 7691, 'steinhoefel': 7692, 'steuergelder': 7693, 'prostitution': 7694, 'rammstein': 7695, 'schamhaaren': 7696, 'prdgrmn': 7697, 'verachtende': 7698, 'schmutzig': 7699, 'menschenverachtend': 7700, 'roll': 7701, 'dummkopf': 7702, 'oppermann': 7703, 'arrrrrrrmen': 7704, 'vonanderst2018': 7705, 'spritze': 7706, 'widerwae': 7707, 'nachher': 7708, 'kuffars': 7709, 'sozialsysteme': 7710, 'einzuzahlen': 7711, 'einfallen': 7712, 'heuschrecken': 7713, 'money': 7714, 'nothing': 7715, 'andreag799': 7716, 'baerbeli04': 7717, 'altgold': 7718, 'genial': 7719, 'geniales': 7720, 'biggi811': 7721, 'schlepperflotten': 7722, 'wasse': 7723, 'axis': 7724, 'neopren': 7725, 'anzuegen': 7726, 'ausstattet': 7727, 'xyzimmermann': 7728, 'besiegeln': 7729, 'sprenglaeubigen': 7730, 'hejasolar': 7731, 'siglo76': 7732, 'schnorre': 7733, 'kaputte': 7734, 'marctailer3': 7735, 'linksversifftes': 7736, 'deutsches': 7737, 'beschreiben': 7738, 'andreasscheu': 7739, 'culture': 7740, 'knack': 7741, 'politelite': 7742, 'sft': 7743, 'allahuakba': 7744, 'isie': 7745, 'frischen': 7746, 'hochzurossen': 7747, 'taeusche': 7748, 'punisher': 7749, 'jogimuller': 7750, '270a': 7751, 'konzentrationslager': 7752, 'gestrickte': 7753, 'klabautermann': 7754, 'sharia': 7755, 'zwangsjacke': 7756, 'gummizelle': 7757, 'wohnungen': 7758, 'villen': 7759, 'zimmerwohnungen': 7760, 'kreuzberg': 7761, 'steglitz': 7762, 'friedenau': 7763, 'morrowqiang': 7764, 'saerdnaya': 7765, 'suseschmitt': 7766, 'kriegsfuehrung': 7767, 'samurai': 7768, 'krieger': 7769, 'erschreckende': 7770, 'erscheinungsbild': 7771, 'traeger': 7772, 'angreifer': 7773, 'marde651': 7774, 'belaestigt': 7775, 'ion': 7776, 'sarkasmus': 7777, 'snappycat': 7778, 'leddyman1': 7779, 'lermarek': 7780, 'thia2009': 7781, 'thomyskybik': 7782, 'vigilant': 7783, 'vonerlenbach': 7784, 'cd47115053': 7785, 'ebenjerry': 7786, 'realgermanistan': 7787, 'ofenschlupfer': 7788, 'zumwohledeutsch': 7789, 'lieben': 7790, '0001f618': 7791, 'harald70199': 7792, 'jagd': 7793, 'insolvenz': 7794, '6jahren': 7795, 'rausgelassen': 7796, 'schampus': 7797, 'paralla80562715': 7798, 'marodeure': 7799, 'zugestossen': 7800, 'solche': 7801, '0001f612': 7802, 'derzweifelnde': 7803, 'vorderen': 7804, 'futterplaetze': 7805, 'steuergelde': 7806, 'rog': 7807, 'laben': 7808, 'hi': 7809, 'klinke': 7810, 'sizilianer': 7811, 'siemenskornej': 7812, 'sammellager': 7813, 'flughaefen': 7814, 'zusammenfuehren': 7815, 'maschine': 7816, 'lebenslanges': 7817, 'einreiseverbot': 7818, 'connyhendrich': 7819, 'maulende': 7820, 'fahrerlaubnis': 7821, 'nullachtk': 7822, 'vonschwer': 7823, 'hamburgonline': 7824, 'darkgermany': 7825, 'obdachlosen': 7826, 'kassen': 7827, 'caritas': 7828, 'lokalfuerst': 7829, 'meckern': 7830, 'geliefe': 7831, 'gerufen': 7832, 'foerderung': 7833, 'goldstuecken': 7834, 'gierig': 7835, 'eingesteckt': 7836, 'glaubhaft': 7837, 'rosenkavalier': 7838, 'saeuglingsschaender': 7839, 'bedient': 7840, 'paedophilen': 7841, 'schaenden': 7842, 'wirkliches': 7843, 'traumhafte': 7844, 'sexualstraftaten': 7845, 'gemordet': 7846, 'einbildung': 7847, 'spinner': 7848, 'geschichtenerzaehler': 7849, 'zwangsfinanzieren': 7850, 'rimijo': 7851, 'ufxdl': 7852, 'apararat': 7853, 'bahnhoefen': 7854, 'bejubelten': 7855, 'fliehenden': 7856, 'glibschig': 7857, 'rausschmeissen': 7858, 'abzocke': 7859, 'pazderski': 7860, 'spritzen': 7861, 'benoetigten': 7862, 'koscha': 7863, 'bauchgefuehl': 7864, 'meldet': 7865, 'erschleichen': 7866, 'luna1234luna1': 7867, 'gras': 7868, 'gebissen': 7869, 'todeskampf': 7870, 'gedaue': 7871, 'schmerzhaft': 7872, 'dreckige': 7873, 'specklerundkoch': 7874, 'crystalmeth': 7875, 'ramscharpf': 7876, 'arnd': 7877, 'schumacher': 7878, 'janfleischhauer': 7879, 'bolz': 7880, 'vorabend': 7881, 'chorknaben': 7882, 'aspikschinken': 7883, 'neuber': 7884, 'forst': 7885, 'traumdiebe': 7886, 'vergewaltiger': 7887, 'ueberreicht': 7888, 'gropppetra': 7889, 'verhuellter': 7890, 'multi': 7891, 'konzern': 7892, 'lutschen': 7893, 'knaben': 7894, 'pfaffe': 7895, 'olenordman': 7896, 'ozlive': 7897, 'terro': 7898, 'empel': 7899, 'ausbildungsstaetten': 7900, 'halbmondritter': 7901, 'schluessel': 7902, 'ueberreichen': 7903, 'alhope1': 7904, 'annevanhalen': 7905, 'feiges': 7906, 'halbschwule': 7907, 'koran': 7908, 'treter': 7909, 'realgruenweiss': 7910, 'duinnoord': 7911, 'hahahaha': 7912, 'quijote': 7913, 'politikgeschichte': 7914, 'rene': 7915, 'tudor': 7916, 'bjoernhoecke': 7917, 'verbloedeten': 7918, 'buntewelt1966': 7919, 'hellegatt': 7920, 'freies': 7921, 'zuege': 7922, 'sitten': 7923, 'sexualstraftaetern': 7924, 'schoemakermarl2': 7925, 'ergeht': 7926, 'fliehende': 7927, 'afghanische': 7928, 'bewaehrungsstrafe': 7929, 'offiziere': 7930, 'kanalisationen': 7931, 'taucht': 7932, 'vanberlichingen': 7933, 'fleh': 7934, 'zuegen': 7935, 'invasorenwelle': 7936, 'dirkhafermann': 7937, 'offensichtliche': 7938, 'streicher': 7939, 'therealaw2': 7940, 'daemliche': 7941, 'soermarutsche': 7942, 'sexistisches': 7943, 'burger': 7944, 'kleinkindern': 7945, 'begeh': 7946, 'beute': 7947, 'islams': 7948, 'anhaengern': 7949, 'fremer59': 7950, 'kanaken': 7951, 'tuerkischen': 7952, 'gesellschaftsfaehig': 7953, 'peachtr47293532': 7954, 'stromkunden': 7955, 'stromrechnung': 7956, 'niht': 7957, 'preiswe': 7958, 'linksruck': 7959, 'mehrheiten': 7960, 'ausgesorgt': 7961, 'orban': 7962, 'unmenschlich': 7963, 'gleichtzeitig': 7964, 'loben': 7965, 'unmenschliche': 7966, 'arschgeigen': 7967, 'regt': 7968, 'geplante': 7969, 'sklavereigesetz': 7970, 'rechtsnationale': 7971, 'erschiesst': 7972, 'blinde': 7973, 'gleichmal': 7974, 'een': 7975, 'abballern': 7976, 'django': 7977, 'losgelassen': 7978, 'neujahrsvorsaetze': 7979, 'glaeubige': 7980, 'gekreuzigt': 7981, 'liebte': 7982, 'git': 7983, 'tuten': 7984, 'obergeschoss': 7985, 'besserem': 7986, 'empfang': 7987, 'unglueck': 7988, 'ankam': 7989, 'mobilfunknetz': 7990, 'empfaengern': 7991, 'armtutsrentner': 7992, 'ausgetreten': 7993, 'nsdap': 7994, 'abgeschafft': 7995, 'verstoesste': 7996, 'andy': 7997, 'alleinerziehende': 7998, 'ausbildung': 7999, 'brustkrebs': 8000, 'gekuerzt': 8001, 'verwaltungsvorschriften': 8002, 'kank': 8003, 'vergangenen': 8004, 'arbeitstage': 8005, 'ausgefallen': 8006, 'depressionen': 8007, 'eivorstand': 8008, 'pfandflaschen': 8009, 'geshafft': 8010, 'verdreifachen': 8011, 'weiterbildung': 8012, 'durchsetzen': 8013, 'verordnung': 8014, 'verfuetterung': 8015, 'speiseresten': 8016, 'schuetzen': 8017, 'schuetzt': 8018, 'arkus': 8019, 'messerstechen': 8020, 'vollzeit': 8021, 'verlangt': 8022, 'aufwachsen': 8023, 'kanntoll': 8024, 'obergrenze': 8025, 'verlasse': 8026, 'bluthochdruck': 8027, 'volkskrankheit': 8028, 'weitgehende': 8029, 'entwe': 8030, 'taugen': 8031, 'feindbilder': 8032, 'mainstream': 8033, 'bloedzeitung': 8034, 'spechen': 8035, 'relative': 8036, 'demuetigen': 8037, 'stephan': 8038, 'arschkriechen': 8039, 'traff': 8040, 'erneue': 8041, 'drittes': 8042, 'geschlecht': 8043, 'maennlich': 8044, 'ausserirdisch': 8045, 'vielfalt': 8046, 'informie': 8047, 'geschehnisse': 8048, 'aufruhr': 8049, 'versetzen': 8050, 'unbekannter': 8051, 'attacken': 8052, 'ehen': 8053, 'wackelt': 8054, 'verfassungsgericht': 8055, 'zulassen': 8056, 'bundeslaendern': 8057, 'beantragt': 8058, 'ankommen': 8059, 'unterlagen': 8060, 'haenel': 8061, 'geworben': 8062, 'enttaeuscht': 8063, 'ausgezeichnet': 8064, 'illiarden': 8065, 'kosstenlose': 8066, 'bundeshilfen': 8067, 'stoppen': 8068, 'grundgesetzaenderung': 8069, 'nuernberger': 8070, 'stadtteil': 8071, 'johannis': 8072, 'selben': 8073, 'times': 8074, 'gedemuetigt': 8075, 'gebrueren': 8076, 'versteckte': 8077, 'hierfuer': 8078, 'goldenen': 8079, 'positionspapier': 8080, 'sozialstaat': 8081, 'vorsorgend': 8082, 'verlaesslich': 8083, 'bundesfamilienministerin': 8084, 'franziska': 8085, 'auszuueben': 8086, 'lohnerhoehungen': 8087, 'eintaegigen': 8088, 'vorstandsklausur': 8089, 'widersprueche': 8090, 'verschlossenen': 8091, 'ausgiebig': 8092, 'debattie': 8093, 'betonte': 8094, 'einigungswillen': 8095, 'nerschaft': 8096, 'zusicherungen': 8097, 'londoner': 8098, 'aufzubrechen': 8099, 'verpflichtungen': 8100, 'proft': 8101, 'zufolge': 8102, 'einbussen': 8103, 'palament': 8104, 'abtreibungsparagraf': 8105, 'eilte': 8106, 'entsetzt': 8107, 'bestaetigung': 8108, 'heinrich': 8109, 'sinnlose': 8110, 'massnahme': 8111, 'demuetiken': 8112, 'gespraech': 8113, 'rud': 8114, 'berateraffaere': 8115, 'korruptionsverdacht': 8116, 'vetternwi': 8117, 'externe': 8118, 'unternehmensberater': 8119, 'umgekippt': 8120, 'marginale': 8121, 'kosmetische': 8122, 'korrekturen': 8123, 'ueberhaut': 8124, 'weicheiern': 8125, 'rueckgrat': 8126, 'prekaeren': 8127, 'lebenssituation': 8128, 'lauten': 8129, 'einerseits': 8130, 'geldgier': 8131, 'nahle': 8132, 'kneift': 8133, 'verkrichen': 8134, 'imame': 8135, 'ausbilden': 8136, 'auh': 8137, 'wirft': 8138, 'falschinformationen': 8139, 'souveraenitaet': 8140, 'befragung': 8141, 'rueckzug': 8142, 'eivorsitz': 8143, 'buergerrechtlerin': 8144, 'publizistin': 8145, 'oekonomin': 8146, 'nocun': 8147, 'gesundheitsminister': 8148, 'umdrehen': 8149, 'wernn': 8150, 'landesverband': 8151, 'gewissensentscheidung': 8152, 'systm': 8153, 'beleidigende': 8154, 'zwischenrufe': 8155, 'landtagssitzung': 8156, 'tumulte': 8157, 'festgenommen': 8158, 'austritts': 8159, 'bearbeitet': 8160, 'statistischem': 8161, 'unterkunft': 8162, 'ruhen': 8163, 'faule': 8164, 'geheimplan': 8165, 'koalitionsgespraeche': 8166, 'nordafrikanischen': 8167, 'wurzeln': 8168, 'eroeffnete': 8169, 'dienstagabend': 8170, 'politei': 8171, 'phoenix': 8172, 'einigung': 8173, 'mays': 8174, 'wagen': 8175, 'verriegelt': 8176, 'kindersicherung': 8177, '217': 8178, 'iii': 8179, 'ikeln': 8180, 'beschlossen': 8181, 'unterschieben': 8182, 'verstoest': 8183, 'seelische': 8184, 'reine': 8185, 'wirksamen': 8186, 'rechtsbehelf': 8187, 'zustaendigen': 8188, 'innerstaatlichen': 8189, 'gerichten': 8190, 'handlungen': 8191, 'zustehenden': 8192, 'grundrechte': 8193, 'eingeschraenkt': 8194, 'am': 8195, 'kuensten': 8196, 'erfreuen': 8197, 'teilzuhaben': 8198, 'kue': 8199, 'teilhabe': 8200, 'fuersorge': 8201, 'eheliche': 8202, 'aussereheliche': 8203, 'abziehen': 8204, 'lebensstandard': 8205, 'gewaehrleistet': 8206, 'einschliesslich': 8207, 'kleidung': 8208, 'aerztliche': 8209, 'leistungen': 8210, 'anno': 8211, 'vereinigung': 8212, 'anzugehoeren': 8213, 'fraktionszwang': 8214, 'pateien': 8215, 'abstimmung': 8216, 'landtagen': 8217, 'meinungsaeusserung': 8218, 'linksradikaler': 8219, 'abgestempelt': 8220, 'diskriminierung': 8221, 'demue': 8222, 'igung': 8223, 'gedemuetikt': 8224, 'ausgebeutet': 8225, 'diffamie': 8226, 'aufenthaltso': 8227, 'leibeigenschaft': 8228, 'sklavenhandel': 8229, 'sytem': 8230, 'putins': 8231, 'dresdner': 8232, 'supereiche': 8233, 'verschlimme': 8234, 'wunden': 8235, 'ezb': 8236, 'feindlichen': 8237, 'ehr': 8238, '700': 8239, 'aufzeigen': 8240, 'showdown': 8241, 'abgeordnete': 8242, 'abtreibungswerbeverbots': 8243, 'durchzusetzen': 8244, 'nachgeben': 8245, 'abgezogen': 8246, 'angerechnet': 8247, 'asozioale': 8248, 'ehrliche': 8249, 'schaftsweiser': 8250, 'bofinger': 8251, 'pocht': 8252, 'wochenlangen': 8253, 'wolen': 8254, 'racheplaenen': 8255, 'menschenwuerdiger': 8256, 'vorsitzenden': 8257, 'telefonbuch': 8258, 'heimatstadt': 8259, 'angezeigt': 8260, 'koenigin': 8261, 'normalen': 8262, 'humanrightsday': 8263, 'harz': 8264, 'arbeitssklaven': 8265, 'damt': 8266, 'sicherer': 8267, 'unmut': 8268, 'lager': 8269, 'forden': 8270, 'anne': 8271, 'brauchte': 8272, 'zusagen': 8273, 'quasselte': 8274, 'hektisch': 8275, 'uber': 8276, 'zugeben': 8277, 'ane': 8278, 'steinga': 8279, 'oekonomischen': 8280, 'saarlands': 8281, 'verwiesen': 8282, 'platzte': 8283, 'kragen': 8284, 'eidigte': 8285, 'beinha': 8286, 'abrutschen': 8287, '57': 8288, 'gruenem': 8289, 'verarschen': 8290, 'im': 8291, 'explodie': 8292, 'zaehlweise': 8293, 'veraende': 8294, 'arbeitsunfaehige': 8295, 'gezaehlt': 8296, 'arbeitslose': 8297, 'sinnlosen': 8298, 'rausgezaehlt': 8299, 'boeigen': 8300, 'winden': 8301, 'geendet': 8302, 'wahlsieg': 8303, 'mittelgebirge': 8304, 'herze': 8305, 'erdbeben': 8306, 'sauerland': 8307, 'bewerbungsrede': 8308, 'reichenleben': 8309, 'inder': 8310, 'nominie': 8311, 'spitzenkandidatin': 8312, 'warnstreiks': 8313, 'evg': 8314, 'rechnet': 8315, 'streikschwerpunkt': 8316, 'altkanzler': 8317, 'kloschuessel': 8318, 'panzerwagen': 8319, 'gummigeschosse': 8320, 'traenengas': 8321, 'schlagstoecke': 8322, 'einsetzt': 8323, 'unerem': 8324, 'sanktionsmoeglichkeiten': 8325, 'friss': 8326, 'stirb': 8327, 'lohnend': 8328, 'zog': 8329, 'schaftsfluechtling': 8330, 'osnabrueck': 8331, 'jura': 8332, 'schaffte': 8333, 'abschluss': 8334, 'steuergelf': 8335, 'braut': 8336, 'revolte': 8337, 'vorauseilender': 8338, 'werbe': 8339, 'informationsverbot': 8340, 'ichael': 8341, 'rueter': 8342, 'europawahlkampf': 8343, 'garant': 8344, 'revoluzzerin': 8345, 'tochter': 8346, 'gespraechsrunde': 8347, 'migrationspolitik': 8348, 'rentenarmut': 8349, 'anhalt': 8350, 'festtage': 8351, 'bikerkuddel': 8352, 'lesben': 8353, 'demostranten': 8354, 'beschuss': 8355, 'trigoa': 8356, 'antibabypille': 8357, 'zurueckgerufen': 8358, 'ungewollten': 8359, 'schwangerschaften': 8360, 'unterhalt': 8361, 'beibehalten': 8362, 'lohnerhoehngen': 8363, 'aufmucken': 8364, 'duerfe': 8365, 'konten': 8366, 'fraktionsvorsitzende': 8367, 'staerkste': 8368, 'biete': 8369, 'weihnachtet': 8370, 'diskriminirung': 8371, 'ausbeutung': 8372, 'klingbeil': 8373, 'kampfkandidaturen': 8374, 'susi': 8375, '1998': 8376, 'arbeiterpa': 8377, 'verraeterpa': 8378, 'amtlich': 8379, 'annegretkrampkarrenbauermussweg': 8380, 'weicheier': 8381, 'verspaetungen': 8382, 'wahlzettel': 8383, 'kniefall': 8384, 'warschau': 8385, '1970': 8386, 'demuetig': 8387, 'bekanntgegeben': 8388, 'ergebniss': 8389, 'entschieden': 8390, 'bundespa': 8391, 'normaler': 8392, 'heucheler': 8393, 'hoffnungslos': 8394, 'ungeachtet': 8395, 'fuehrung': 8396, 'rutscht': 8397, 'eispitze': 8398, 'klapsmuehle': 8399, 'parlamentsgeschaeftsfuehrer': 8400, 'schneider': 8401, 'mahnt': 8402, 'marz': 8403, 'waffenscheine': 8404, 'medienbericht': 8405, 'kalaschnikow': 8406, 'haldenwang': 8407, 'talkshow': 8408, 'aeussern': 8409, 'armutsrenten': 8410, 'tausendundeine': 8411, 'armuts': 8412, 'cu': 8413, 'basta': 8414, 'eklat': 8415, 'greift': 8416, 'studio': 8417, 'normalerweise': 8418, 'gefilte': 8419, 'kindererziehung': 8420, 'nikolaustag': 8421, 'nikolaus': 8422, 'finsteren': 8423, 'gesellen': 8424, 'una': 8425, 'konzept': 8426, 'vorgelegt': 8427, 'auszubauen': 8428, 'arbeitslosengeld': 8429, 'arbeitslos': 8430, 'ausgebremste': 8431, 'lebensmittel': 8432, 'kommmen': 8433, 'abfall': 8434, 'enkonferenz': 8435, 'kandidatenliste': 8436, 'bundesvorstands': 8437, 'asoziale': 8438, 'abkassieren': 8439, 'fleissige': 8440, 'belohnen': 8441, 'maechtigsten': 8442, 'gekue': 8443, 'aufwe': 8444, 'ehrenamtlich': 8445, 'eifer': 8446, 'unterstuezen': 8447, 'bedarfsgemeinschaften': 8448, 'unterkunftskosten': 8449, 'einsparen': 8450, 'gehasste': 8451, 'spueren': 8452, 'hauptverantwo': 8453, 'licher': 8454, 'sackt': 8455, 'gazprom': 8456, 'entwuerdigung': 8457, 'schaffung': 8458, 'niedriglohnsektors': 8459, 'westeuropas': 8460, 'zunehmende': 8461, 'prekaere': 8462, 'beschaeftigung': 8463, 'sagten': 8464, 'beruehmteste': 8465, 'verraten': 8466, 'buergern': 8467, 'uefa': 8468, 'saecke': 8469, 'rolex': 8470, 'uhren': 8471, 'geldsparen': 8472, 'angekommen': 8473, 'toller': 8474, 'standen': 8475, 'sthen': 8476, 'deutschlan': 8477, 'verdiener': 8478, 'konnten': 8479, 'hungerl': 8480, 'abstieg': 8481, 'zermuerbt': 8482, 'brauchten': 8483, 'einzusehen': 8484, 'gefuehlter': 8485, 'nachfolgenden': 8486, 'lebensnotwendigen': 8487, 'senken': 8488, 'allzeit': 8489, 'westpakete': 8490, 'ausgeraubt': 8491, 'postminister': 8492, 'mdr': 8493, 'umschau': 8494, 'bnd': 8495, 'selbe': 8496, 'verleugnen': 8497, 'politriker': 8498, 'dieselkrise': 8499, 'ber': 8500, 'beachtenswe': 8501, 'sozialstaates': 8502, 'kriegzeiten': 8503, 'welkrieg': 8504, '1799': 8505, '1848': 8506, 'reformplaene': 8507, 'wichtigste': 8508, 'mitr': 8509, 'fuet': 8510, 'arschgeige': 8511, 'hinnehmbar': 8512, 'bundespraesident': 8513, '1918': 8514, 'untergang': 8515, 'demokratiegeschichte': 8516, 'gewuerdigt': 8517, 'liebknecht': 8518, 'ausgerufen': 8519, 'buche': 8520, '2005': 8521, 'langweilig': 8522, 'dieter': 8523, 'idealistisch': 8524, 'horst': 8525, 'mahler': 8526, 'trainie': 8527, 'orgaskills': 8528, 'reality': 8529, 'zudruecken': 8530, 'marxistisches': 8531, 'subversivaktiv': 8532, 'begriffsapparat': 8533, 'schaftsleistung': 8534, 'gesunken': 8535, 'weltanschauung': 8536, 'vereinbaren': 8537, 'eileuten': 8538, 'typisches': 8539, 'tw': 8540, 'technisch': 8541, 'unmissverstaendlich': 8542, 'auszudruecken': 8543, 'dacht': 8544, 'mon': 8545, 'beamte': 8546, 'beknackt': 8547, 'azubi': 8548, '40h': 8549, 'kleinbuergerlichen': 8550, 'mischt': 8551, 'letztere': 8552, 'verstehn': 8553, 'hochkommt': 8554, 'hgnvontraene': 8555, 'gallopier': 8556, 'revue': 8557, 'mugabe': 8558, 'friesbol': 8559, 'maoisten': 8560, 'harvestcrawler': 8561, 'weis': 8562, 'hauen': 8563, 'baberowski': 8564, 'fernvonmoskau': 8565, 'antiintellektualismus': 8566, 'stuende': 8567, 'ic': 8568, 'eigtl': 8569, 'sympathisch': 8570, 'identity': 8571, 'beigewohnt': 8572, 'kg': 8573, 'wattwaage': 8574, 'atommasse': 8575, 'heftiger': 8576, 'splittergruppen': 8577, 'inseln': 8578, 'angespuelt': 8579, 'mett': 8580, 'provinzkloster': 8581, 'weirde': 8582, 'paralleluniversum': 8583, 'jochen': 8584, 'mitschka': 8585, 'hominem': 8586, 'ath': 8587, 'gelder': 8588, 'verlages': 8589, 'verschwenden': 8590, 'gepaa': 8591, 'label': 8592, 'trotzkismus': 8593, 'prostandpunkt': 8594, 'abweichungen': 8595, 'hanns2dieter': 8596, 'luis': 8597, 'xvi': 8598, 'kokade': 8599, 'gesellschaftliche': 8600, 'kategorie': 8601, 'schonmal': 8602, 'gestreikt': 8603, 'strich': 8604, 'belastend': 8605, 'hamzaali1972': 8606, 'psst': 8607, 'mitkriegt': 8608, 'buerokratenstaat': 8609, 'intersektionalismus': 8610, 'schockt': 8611, 'sare': 8612, 'hustra': 8613, 'ossi': 8614, 'arbeiterkind': 8615, 'ruh': 8616, 'passiv': 8617, 'aggressive': 8618, 'verbieten': 8619, 'offline': 8620, 'belastender': 8621, 'intersektionalist': 8622, 'special': 8623, 'snowflake': 8624, 'wehrmacht': 8625, 'stalingrad': 8626, 'engruppe': 8627, 'gelbweste': 8628, 'jucken': 8629, 'ticket': 8630, 'kontrolleur': 8631, 'daily': 8632, 'yungschelling22': 8633, 'einstellen': 8634, 'gehn': 8635, 'weist': 8636, 'wesentliche': 8637, 'deng': 8638, 'kader': 8639, 'weltmaerkte': 8640, 'besonderen': 8641, 'boykotts': 8642, 'geschuldet': 8643, 'arx': 8644, 'marxologie': 8645, 'kommemista': 8646, 'ancap': 8647, 'muetz': 8648, 'nogo': 8649, 'schlipztrega': 8650, 'schaub': 8651, 'kriegszeiten': 8652, 'korrigiere': 8653, 'unterwuerfigst': 8654, 'brav': 8655, 'verdammte': 8656, 'antifagruppe': 8657, 'trotzkisten': 8658, 'zusllererst': 8659, 'befasst': 8660, 'abzugrenzen': 8661, 'vorauseilendem': 8662, 'zukommt': 8663, 'glueh': 8664, 'laphroaig': 8665, 'halal': 8666, 'philippe': 8667, 'hegi': 8668, 'clzmueller': 8669, 'cedric': 8670, 'luechau': 8671, 'carlosreinhard': 8672, 'unternehmer': 8673, 'oekonomen': 8674, 'ware': 8675, 'wahnform': 8676, 'wenns': 8677, 'brenzlig': 8678, 'pn': 8679, 'trink': 8680, 'bewundere': 8681, 'wanderer': 8682, 'nebelwerfer': 8683, 'caspar': 8684, 'mekka': 8685, 'abgefeie': 8686, 'vergesellschaftet': 8687, 'gelangen': 8688, 'glaubst': 8689, 'lebst': 8690, 'kleinbuergerliche': 8691, 'eschatologie': 8692, 'jupi': 8693, 'klimawandels': 8694, 'irgendeiner': 8695, 'emmissionsmenge': 8696, 'ethischen': 8697, 'widerrum': 8698, 'loesbares': 8699, 'konkreteres': 8700, 'unzulaessige': 8701, 'meiste': 8702, 'vorbereitung': 8703, 'notfallhilfe': 8704, 'zurueckzufuehren': 8705, 'formuliere': 8706, 'klimafaktoren': 8707, 'chaotisch': 8708, 'negative': 8709, 'rueckkoppelungen': 8710, 'koennnen': 8711, 'unerwa': 8712, 'derzeitige': 8713, 'groessenordnungen': 8714, 'vonstatten': 8715, 'menschheitsgeschichte': 8716, 'wage': 8717, 'flugreisen': 8718, 'waschmaschinen': 8719, 'uvm': 8720, 'erschwinglich': 8721, 'einhergehenden': 8722, 'ausmalen': 8723, 'staerkere': 8724, 'schwankungen': 8725, 'einhergingen': 8726, 'kausales': 8727, 'modell': 8728, 'unterkomplex': 8729, 'chaotisches': 8730, 'festigen': 8731, 'verpulve': 8732, 'eindaemmung': 8733, 'klimafolgen': 8734, 'nuetzlicher': 8735, 'emmissionsfrei': 8736, 'festgefahrene': 8737, 'marktaufteilungen': 8738, 'aufzulockern': 8739, 'dimension': 8740, 'emittie': 8741, 'unliebsameren': 8742, 'schwaecherer': 8743, 'delegitimieren': 8744, 'plaedieren': 8745, 'monokausale': 8746, 'globalem': 8747, 'veraenderung': 8748, 'einbilden': 8749, 'daten': 8750, 'universitaet': 8751, 'jaehrlichen': 8752, 'schwankung': 8753, 'fruehjahr': 8754, 'nordhalbkugel': 8755, 'unermessliches': 8756, 'emmissionsziel': 8757, 'eingehalten': 8758, 'jhdt': 8759, 'emmitie': 8760, 'atmosphaere': 8761, 'ausmachen': 8762, 'wahrscheinlichkeiten': 8763, 'arbeitsgruppen': 8764, 'eintritt': 8765, 'gezeigte': 8766, 'szenario': 8767, 'arbeitsgruppe': 8768, 'saturn': 8769, 'usb': 8770, 'garnicht': 8771, 'menschliche': 8772, 'beobachteten': 8773, 'klimaveraenderung': 8774, 'realstes': 8775, 'fckw': 8776, 'ozonloch': 8777, 'apokalypseideologien': 8778, 'befeuern': 8779, 'vermarkten': 8780, 'oekobewegung': 8781, 'befassen': 8782, 'scheinproblemen': 8783, 'abholzung': 8784, 'regenwaldes': 8785, 'verschmutzung': 8786, 'ausstoss': 8787, 'wirklichkeit': 8788, 'atommuell': 8789, 'lachflash': 8790, 'verstaendigen': 8791, 'phaenomenologie': 8792, 'pseudowissenschaften': 8793, 'alternativ': 8794, 'bereitet': 8795, 'verstaendlicher': 8796, 'reife': 8797, 'layer': 8798, 'zugestaendnis': 8799, 'relevanten': 8800, 'politisie': 8801, 'bezeichnend': 8802, 'tassow': 8803, 'sekten': 8804, 'anrichten': 8805, 'abgestellt': 8806, 'cssr': 8807, 'aw': 8808, 'foetzchen': 8809, 'elender': 8810, 'ao': 8811, 'werktaetigen': 8812, 'mueller': 8813, 'steigerungsform': 8814, 'orbyt': 8815, 'produktionsmitteln': 8816, 'unpassend': 8817, 'muessig': 8818, 'verlaub': 8819, 'menschenrechtsverletzung': 8820, 'ausreisenden': 8821, 'ausreiseantrag': 8822, 'eingerichtet': 8823, 'vermieter': 8824, 'saeumig': 8825, 'spionage': 8826, 'schwarzfahren': 8827, 'anstrebt': 8828, 'heutiger': 8829, 'medienberichte': 8830, 'historischen': 8831, 'schaftswachstum': 8832, 'sondern': 8833, 'ueben': 8834, 'klassenherrschaft': 8835, 'institutionellen': 8836, 'krux': 8837, 'moralitaet': 8838, 'institutionell': 8839, 'gefestigt': 8840, 'kriterien': 8841, 'betrachtungen': 8842, 'fazit': 8843, 'kadern': 8844, 'adidasbolshevik': 8845, 'schlimmstes': 8846, 'schrift': 8847, 'szalkiewicz': 8848, 'vereinseitigen': 8849, 'produktionsweise': 8850, 'schnelle': 8851, '70er': 8852, 'kapitalistenklasse': 8853, 'verstaatlicht': 8854, 'existieren': 8855, 'vnyshkr': 8856, 'duelle': 8857, 'flieg': 8858, 'bernau': 8859, 'rockt': 8860, 'konrad': 8861, 'wolf': 8862, 'militaerregierung': 8863, 'todesstrafe': 8864, 'naziverbrecher': 8865, 'menspreading': 8866, 'legal': 8867, 'wolln': 8868, 'judge': 8869, 'ehrlichgesagt': 8870, 'jobboersen': 8871, 'informatikfirmen': 8872, 'einschleimen': 8873, 'arbeitskraft': 8874, 'feil': 8875, 'komischer': 8876, 'onkel': 8877, 'oeffentliche': 8878, 'toilette': 8879, 'ueble': 8880, 'beule': 8881, 'verhoehnungdermaueropfer': 8882, 'gamerheine69': 8883, 'loerres': 8884, 'libido': 8885, 'killen': 8886, 'company': 8887, 'streu': 8888, 'glyphosat': 8889, 'drollig': 8890, 'challenge': 8891, 'music': 8892, 'kleinbuergerlicher': 8893, 'roman': 8894, 'moeseneder': 8895, 'cooler': 8896, 'swag': 8897, 'esoteriker': 8898, 'pendel': 8899, 'vorhersagen': 8900, 'skeptiker': 8901, 'experimentell': 8902, 'reproduzieren': 8903, 'verbringt': 8904, 'pendelexperimenten': 8905, 'dw3yyn': 8906, 'trotzkist': 8907, 'objektiv': 8908, 'reaktionaer': 8909, 'fossil': 8910, 'volkerbonacker': 8911, 'erzbarongomez': 8912, 'frische': 8913, 'mra': 8914, 'oekologie': 8915, 'verschmutzen': 8916, 'bekennenden': 8917, 'dorftrottel': 8918, 'heimlich': 8919, 'gruner': 8920, 'fuehrungsoffizier': 8921, 'sandmann': 8922, 'diabodcalcinha': 8923, 'allererste': 8924, 'godoticus': 8925, 'dva': 8926, 'buntfront': 8927, 'elbmerle': 8928, 'hesse': 8929, 'spue': 8930, 'foermlich': 8931, 'lebenszeit': 8932, 'romantischem': 8933, 'nonsens': 8934, 'entzogen': 8935, 'read': 8936, 'empfehlungen': 8937, 'fang': 8938, 'naomi': 8939, 'dawkins': 8940, 'delusion': 8941, 'schlegels': 8942, 'athenaeum': 8943, 'zeitschriften': 8944, 'daniela': 8945, 'dahn': 8946, 'kuczynskis': 8947, 'urenkel': 8948, 'soya': 8949, 'trinken': 8950, 'schaedlicher': 8951, 'cato': 8952, 'sachlichkeit': 8953, '0001f3fe': 8954, '2640': 8955, 'fettig': 8956, 'krebserregend': 8957, 'lipsi': 8958, 'beisammen': 8959, 'neostalinismus': 8960, 'personenkult': 8961, 'bw': 8962, 'sturmgeistnbk': 8963, 'romantik': 8964, 'schnurzforscher': 8965, 'ggn': 8966, 'tofu': 8967, 'diet': 8968, 'diabetiker': 8969, 'runterkippen': 8970, 'nachhaltige': 8971, 'loesungen': 8972, 'smog': 8973, 'vapen': 8974, 'menners': 8975, 'bundeslaender': 8976, 'religionsunterricht': 8977, 'tregolb': 8978, 'annahebt': 8979, 'atomkraftgegnern': 8980, 'filmtitel': 8981, 'sigmar': 8982, 'gabriel': 8983, 'schwefelsaeureregen': 8984, 'verursachten': 8985, 'nieder': 8986, 'keinerbrauchtumweltschutz': 8987, 'etiamsiomnes1': 8988, 'seelenkram': 8989, 'versteh': 8990, 'karnevalsverein': 8991, 'endzeitkind': 8992, 'store': 8993, 'ec': 8994, 'appeal': 8995, 'gings': 8996, 'ragsstaerkere': 8997, 'anlageformen': 8998, 'gebundenen': 8999, 'tauscht': 9000, 'kommst': 9001, 'jederzeit': 9002, 'autokonto': 9003, 'kurzfristig': 9004, 'verfuegbaren': 9005, 'giro': 9006, 'konstante': 9007, 'autokosten': 9008, 'hu': 9009, 'benutze': 9010, 'strukturierung': 9011, 'ruecklage': 9012, 'mennersindapfel': 9013, 'zeitzone': 9014, 'vermisse': 9015, 'germanpsycho': 9016, 'dielinke': 9017, 'oftmals': 9018, 'rl': 9019, 'entwerfen': 9020, 'derailen': 9021, 'vaxxern': 9022, 'rumrennen': 9023, 'uebliche': 9024, 'vorkommt': 9025, 'deutet': 9026, 'kram': 9027, 'gelbwestigkeit': 9028, 'heterogen': 9029, 'mic': 9030, 'men': 9031, 'materielle': 9032, 'fetzens': 9033, 'zwecke': 9034, 'blinke': 9035, 'leds': 9036, 'soziolekt': 9037, 'unsicher': 9038, 'fehlende': 9039, 'sonstige': 9040, 'rechtschreib': 9041, 'grammatikfehler': 9042, 'nachzusehen': 9043, 'geladen': 9044, 'guy': 9045, 'fawkes': 9046, 'reininterpretieren': 9047, 'passendes': 9048, 'stattdessen': 9049, 'gelbwestenkacke': 9050, 'naeh': 9051, 'diffusen': 9052, 'ungerichteten': 9053, 'unzufriedenheit': 9054, 'problematischen': 9055, 'unorganisie': 9056, 'flyer': 9057, 'keins': 9058, 'ausgedacht': 9059, 'hochgehalten': 9060, 'anzuenden': 9061, 'loehne': 9062, 'kontaktes': 9063, 'impfstoffen': 9064, 'kapie': 9065, 'inhaltsloses': 9066, 'gebrauchbar': 9067, 'missbrauchbar': 9068, 'versammelt': 9069, 'banner': 9070, 'inhaltsleer': 9071, 'grundschullehrer': 9072, 'entlohnung': 9073, 'hobbyautoanzuender': 9074, 'befuerchtungen': 9075, 'selbstbestaetigung': 9076, 'resultie': 9077, 'reumuetig': 9078, 'namige': 9079, 'sabine': 9080, 'leutheusser': 9081, 'schnarrenberger': 9082, 'wotan': 9083, 'moehre': 9084, 'wilking': 9085, 'hiess': 9086, 'zeitepisode': 9087, 'laege': 9088, 'details': 9089, '1930': 9090, 'adapter': 9091, 'tho': 9092, 'typischerweise': 9093, 'geuebten': 9094, 'kaperern': 9095, 'guyfawkesmask': 9096, 'gelbewesten': 9097, 'katastrophentouristen': 9098, 'verzapft': 9099, 'legitmation': 9100, 'von': 9101, 'dramatische': 9102, 'mediale': 9103, 'auffueh': 9104, 'penetrant': 9105, 'politvollhonk': 9106, 'universitaetsstadt': 9107, 'zentrum': 9108, 'wue': 9109, 'temberg': 9110, 'neckar': 9111, 'kilometer': 9112, 'suedlich': 9113, 'stuttga': 9114, 'fantasierenden': 9115, 'boris': 9116, 'bugspriet': 9117, 'len': 9118, '1977': 9119, 'hinwies': 9120, 'nachrichtenwe': 9121, 'abseitigen': 9122, 'werfe': 9123, 'unueberlegtes': 9124, 'followback': 9125, 'feedly': 9126, 'vierstelligen': 9127, 'traffic': 9128, 'spike': 9129, 'reader': 9130, 'abgekuendigt': 9131, 'scalable': 9132, 'webservices': 9133, 'architekturieren': 9134, 'schmittlauch': 9135, 'pronquellen': 9136, 'tumblra': 9137, 'mastodon': 9138, 'kopie': 9139, 'mumus': 9140, 'penen': 9141, 'champignon': 9142, 'baguettes': 9143, 'behaupte': 9144, 'risiken': 9145, 'vielfaches': 9146, 'dax': 9147, 'investitionszeitraum': 9148, 'schatzbrief': 9149, 'outperformed': 9150, 'nervoes': 9151, 'aktieninvestitionen': 9152, 'level': 9153, 'kostolany': 9154, 'postulie': 9155, 'genuegsam': 9156, 'ordentliche': 9157, 'rendite': 9158, 'schwerfallen': 9159, 'performance': 9160, 'mentalitaetsproblem': 9161, 'hinaus': 9162, 'casino': 9163, 'gluecksspiel': 9164, 'grob': 9165, 'vorhersagbar': 9166, 'uli': 9167, 'hoeness': 9168, 'einnahmen': 9169, 'hatten': 9170, 'bausparve': 9171, 'rauskomme': 9172, 'aktienpo': 9173, 'folio': 9174, 'anstrengen': 9175, 'unterbieten': 9176, 'grauenhaft': 9177, 'furchtbar': 9178, 'potentiellen': 9179, 'nachfolger': 9180, 'steuerrelevantes': 9181, 'entnahme': 9182, 'erziehlten': 9183, 'kursspruenge': 9184, 'finanzamt': 9185, 'nachvollziehbar': 9186, 'schleppen': 9187, 'verbrennen': 9188, 'negativzinsen': 9189, 'allerkleinste': 9190, 'risiko': 9191, 'einzugehen': 9192, 'sparbuch': 9193, 'gesellschaftliches': 9194, 'boersophobie': 9195, 'everything': 9196, 'never': 9197, 'bothered': 9198, 'understand': 9199, 'witchcraft': 9200, 'boerse': 9201, 'zockerei': 9202, 'schimpfte': 9203, 'kaufte': 9204, 'woechentlichen': 9205, 'starstruck': 9206, 'andererseits': 9207, 'this': 9208, 'koerperlichen': 9209, 'koerperliche': 9210, 'exquisit': 9211, 'muskelkater': 9212, 'abzusaufen': 9213, 'tipps': 9214, 'panikattacken': 9215, 'umgehen': 9216, 'gravierend': 9217, 'uebung': 9218, 'setz': 9219, 'gepresst': 9220, 'keuchend': 9221, 'abbrichst': 9222, 'faengst': 9223, 'kuerzester': 9224, 'verausgabt': 9225, 'liege': 9226, 'fuerchtest': 9227, 'later': 9228, 'now': 9229, 'heb': 9230, 'millimeter': 9231, 'modus': 9232, 'irgendwohin': 9233, 'panikreaktion': 9234, 'verausgaben': 9235, 'austicken': 9236, 'taktik': 9237, 'pfuideifipegida': 9238, 'zig': 9239, 'grinsefratz': 9240, 'dreinschaut': 9241, 'ueberfaeh': 9242, 'einstelligen': 9243, 'jahreszahl': 9244, 'please': 9245, 'seiend': 9246, 'gruselige': 9247, 'politikuesse': 9248, 'nacheifern': 9249, 'werben': 9250, 'bestaetigen': 9251, 'vorhaltungen': 9252, 'billigstes': 9253, 'nachtreten': 9254, 'mandat': 9255, 'ausgetretenen': 9256, 'zurueckfordern': 9257, 'piraten': 9258, 'things': 9259, 'verwurzelt': 9260, 'eigrenzen': 9261, 'hinweg': 9262, 'ueberein': 9263, 'engagement': 9264, 'munder': 9265, 'nachgesagt': 9266, 'pisselwahlkreis': 9267, 'spdler': 9268, 'gewinnt': 9269, 'gonna': 9270, 'agree': 9271, 'lagen': 9272, 'betreten': 9273, 'rasens': 9274, 'regierungsgebaeude': 9275, 'begnuegt': 9276, 'zebrastreifen': 9277, 'lunte': 9278, 'ueberfahren': 9279, 'linux': 9280, 'lutris': 9281, 'wine': 9282, 'einigermassen': 9283, 'cinnamon': 9284, 'geschmacksrichtung': 9285, 'browser': 9286, 'marcellusfluten': 9287, 'nordseekueste': 9288, '500bc': 9289, 'historisch': 9290, 'akkurate': 9291, 'kuestenlinien': 9292, 'meinneuespetpeeve': 9293, 'lehrer': 9294, 'garderobenfee': 9295, 'entdeckte': 9296, 'waldfutzi': 9297, 'minder': 9298, 'gepaeppelt': 9299, 'dazugelernt': 9300, 'konkurrenzmafia': 9301, 'gewechselt': 9302, 'saubloed': 9303, 'erholst': 9304, 'rechtzeitig': 9305, 'nachgesehen': 9306, 'mafia': 9307, 'razul': 9308, 'allah': 9309, 'unteilbar': 9310, 'atomar': 9311, 'laengs': 9312, 'quer': 9313, 'denkanstoesse': 9314, 'hmilz': 9315, 'gelegenheiten': 9316, 'peinliche': 9317, 'rechtschreibfeeler': 9318, 'problematash': 9319, 'abgebogen': 9320, 'korrigie': 9321, 'beschleunigt': 9322, 'smh': 9323, 'lieblingsrestaurant': 9324, 'fantastische': 9325, 'salatbar': 9326, 'igem': 9327, 'french': 9328, 'dressing': 9329, '202f': 9330, 'billigmarke': 9331, 'metro': 9332, 'betretenv': 9333, 'zweiter': 9334, 'weltkriegs': 9335, 'shooter': 9336, 'gluecklicherweise': 9337, 'bedenklich': 9338, 'teh': 9339, 'asak': 9340, 'umbiegen': 9341, 'brueskie': 9342, 'zurueckzutreten': 9343, 'stimmungsschwankungen': 9344, 'promoted': 9345, 'gewunken': 9346, 'ueberholt': 9347, 'tierisch': 9348, 'begrifflichkeiten': 9349, 'tonne': 9350, 'statistisch': 9351, 'ausreisst': 9352, 'formulie': 9353, 'multimilliardaere': 9354, 'diskrimimi': 9355, 'rdr2': 9356, 'suffragette': 9357, 'auffe': 9358, 'gleise': 9359, 'fotiama': 9360, 'fummelig': 9361, 'manschettenknoepfe': 9362, 'eleganz': 9363, 'trinkspiel': 9364, 'headline': 9365, '2020': 9366, 'ruhestand': 9367, 'hurrakoala': 9368, 'doubt': 9369, 'pennen': 9370, 'newborl': 9371, 'nachbarin': 9372, 'markerschuetternden': 9373, 'neiiiiiiiiiiiiiiiiiiiiin': 9374, 'schrei': 9375, 'neun': 9376, 'schob': 9377, 'kinderwagen': 9378, 'samaelfalkner': 9379, 'bueckling': 9380, 'famos': 9381, 'schmeckte': 9382, 'waelzens': 9383, 'hitzewallungen': 9384, 'ausloeste': 9385, 'moege': 9386, 'ergehen': 9387, 'ekstatische': 9388, 'wonne': 9389, 'gefaketes': 9390, 'ueberzeugen': 9391, 'bombe': 9392, 'gegroehle': 9393, 'benennt': 9394, 'wlan': 9395, 'ssid': 9396, 'leiser': 9397, 'poilkjh3': 9398, 'twitterkreis': 9399, 'einhorn': 9400, 'hollarius': 9401, 'trailchem': 9402, 'monongahelaex': 9403, 'kapuzendeppen': 9404, 'rockten': 9405, 'tiefgruende': 9406, 'analysen': 9407, 'darfste': 9408, 'diskussionswuerdig': 9409, 'adeln': 9410, 'bagage': 9411, 'pathologische': 9412, 'pathologisch': 9413, 'male': 9414, 'understen': 9415, 'antifaschist': 9416, 'fruchtbar': 9417, 'verkopfte': 9418, 'theoretische': 9419, 'abhandlung': 9420, 'verletzend': 9421, 'stehst': 9422, 'linksaussen': 9423, 'wovon': 9424, 'troeste': 9425, 'young': 9426, 'speak': 9427, 'waffel': 9428, 'althergebrachten': 9429, 'ideen': 9430, 'isolationismus': 9431, 'globalismus': 9432, 'machtkampf': 9433, 'toblerone': 9434, 'haram': 9435, 'pausenraum': 9436, 'gleichem': 9437, 'mitarbeiterbauch': 9438, 'zeitungsjunge': 9439, 'registrie': 9440, 'fl01': 9441, 'einem': 9442, 'beheben': 9443, 'brueckenhaltezaehne': 9444, 'heile': 9445, 'schmerzfrei': 9446, 'dauerschmerzen': 9447, 'schluck': 9448, 'ur': 9449, 'ausgediente': 9450, 'verschifft': 9451, 'richtwe': 9452, 'verkorkste': 9453, 'versagerexistenz': 9454, 'komplexe': 9455, 'schwaecheren': 9456, 'auslebt': 9457, 'vornamen': 9458, 'kirsche': 9459, 'warschauerghetto': 9460, 'weisste': 9461, 'ennolenze': 9462, 'brieftraeger': 9463, 'paketzusteller': 9464, 'gekriegt': 9465, 'vorhaette': 9466, 'justiz': 9467, 'vorjaulen': 9468, 'strafmildernd': 9469, 'ballaballa': 9470, 'anche': 9471, 'breitscheidtplatz': 9472, 'endeten': 9473, 'gesichtslose': 9474, 'blutige': 9475, 'jihadisten': 9476, 'angekuendigt': 9477, 'weltfremden': 9478, 'sozialarbeitern': 9479, 'eigenstaendig': 9480, 'expo': 9481, 'heisszeit': 9482, 'ministerium': 9483, 'dummdeutsches': 9484, 'aussem': 9485, 'arbeitsamt': 9486, 'liebend': 9487, 'riegelte': 9488, 'nachwuchs': 9489, 'bastelt': 9490, 'projekt': 9491, 'verschwanden': 9492, 'versenkung': 9493, 'gewohnt': 9494, 'beschissenen': 9495, 'beerdigungen': 9496, 'freikriegen': 9497, 'kerngesund': 9498, 'mitgekriegt': 9499, 'amiad': 9500, 'yisrael': 9501, 'baruch': 9502, 'dayan': 9503, 'emet': 9504, 'chefir': 9505, 'amri': 9506, 'loechrig': 9507, 'grenzkontrollen': 9508, 'jerusalem': 9509, 'uebern': 9510, 'berg': 9511, 'gebetet': 9512, 'besserung': 9513, 'shiras': 9514, 'fluechten': 9515, 'terrorparadiese': 9516, 'amihai': 9517, 'verstorbenen': 9518, 'mama': 9519, 'koma': 9520, 'lilar': 9521, 'standwithus': 9522, 'endlose': 9523, 'ofra': 9524, 'notop': 9525, 'gebrachte': 9526, 'verstorben': 9527, 'chefrepo': 9528, 'ernrw': 9529, 'arabischsprachigen': 9530, 'gaben': 9531, 'vollstaendige': 9532, 'joergklose': 9533, 'strengen': 9534, 'auflagen': 9535, 'strengere': 9536, 'bkrede': 9537, 'raetselt': 9538, 'motiv': 9539, 'tatverdaechtigen': 9540, 'vermieden': 9541, 'gestoppt': 9542, 'ermittler': 9543, 'lagern': 9544, 'algerischer': 9545, 'familienname': 9546, 'islamistischer': 9547, 'family': 9548, 'taxilizenz': 9549, 'gefahndet': 9550, 'adel': 9551, 'chekkat': 9552, 'fluchthelfer': 9553, 'aussehende': 9554, 'paldf': 9555, 'gewarnt': 9556, 'dergermane22': 9557, 'ungsvolle': 9558, 'ehem': 9559, 'unsichtbar': 9560, 'bergen': 9561, 'gesichtsloser': 9562, 'identifizieren': 9563, 'israelische': 9564, 'uebt': 9565, 'jackentasche': 9566, 'unfall': 9567, 'unklar': 9568, 'fluchtwagen': 9569, 'fluchttaxi': 9570, 'funde': 9571, 'hausdurchsuchung': 9572, 'yetimuc': 9573, 'sinnvoll': 9574, 'ausgeruesteten': 9575, 'wohlfuehlfaktor': 9576, 'weihnachtsmarktbesucher': 9577, 'wohnungsdurchsuchung': 9578, 'bevoelkerungszahl': 9579, 'zugewiesen': 9580, 'eilerschluessel': 9581, 'shlomosapiens': 9582, 'neudorf': 9583, 'durchsucht': 9584, 'granaten': 9585, 'hoehere': 9586, 'sicherheitsvorkehrungen': 9587, 'ueberraschendes': 9588, 'eingestuft': 9589, 'observie': 9590, 'gutdeutsch': 9591, 'notarzt': 9592, 'schmerzmittel': 9593, 'schmerzensschreie': 9594, 'wimmern': 9595, 'mind': 9596, 'nu': 9597, 'min': 9598, 'versorgt': 9599, 'ueberlebenschance': 9600, 'rollstuhl': 9601, 'stefanleife': 9602, 'fluechtige': 9603, 'polizeibekannt': 9604, 'terroraktivitaeten': 9605, 'luftballons': 9606, 'liedtext': 9607, 'lobpreist': 9608, 'gdp': 9609, '3x': 9610, 'saarland': 9611, 'halbmond': 9612, 'ws': 9613, 'versuchte': 9614, 'terroranschlaege': 9615, 'kaempft': 9616, 'doedeln': 9617, 'verunglimpft': 9618, 'irak': 9619, 'verdursten': 9620, 'waffelleisen': 9621, 'gelistet': 9622, 'blockierenden': 9623, 'antisemit': 9624, 'aeusserlichen': 9625, 'gewalteinwirkung': 9626, 'spontanen': 9627, 'rettungskraeften': 9628, 'ermittlern': 9629, 'kindes': 9630, 'seelisch': 9631, 'verarbeiten': 9632, 'taetersuche': 9633, 'cafe': 9634, 'ramallah': 9635, 'beschlagnahmten': 9636, 'aufnahmen': 9637, 'sicherheitskameras': 9638, 'ausgewe': 9639, 'fremde': 9640, 'umkehr': 9641, 'trollen': 9642, 'moechtest': 9643, 'unrechtsbewusstsein': 9644, 'missverstaendliche': 9645, 'stuendest': 9646, 'blockliste': 9647, 'hinnehmen': 9648, 'runternehmen': 9649, 'ehrlicher': 9650, 'verdrehen': 9651, 'abtun': 9652, 'erzaehl': 9653, 'stabil': 9654, 'notkaiserschnitt': 9655, 'neurologische': 9656, 'folgeschaeden': 9657, 'befuerchtet': 9658, 'linksdoedel': 9659, 'arischem': 9660, 'geltungsdrang': 9661, 'unterschicht': 9662, 'schwangere': 9663, 'kritischem': 9664, 'verschlechte': 9665, 'malinahamburg': 9666, 'worse': 9667, 'diffamieren': 9668, 'gehweg': 9669, 'haltestelle': 9670, 'linksdeutschen': 9671, 'gelte': 9672, 'solle': 9673, 'frankreichs': 9674, 'einmischen': 9675, 'obama': 9676, 'wahlkampf': 9677, 'unterstuetzte': 9678, 'gejubelt': 9679, 'seh': 9680, 'randalierer': 9681, 'pluenderer': 9682, 'fanboys': 9683, 'miteinander': 9684, 'behoerde': 9685, 'pr': 9686, 'bedarf': 9687, 'taetschler': 9688, 'gewalttaetigen': 9689, 'brutalen': 9690, 'allmachtsphantasien': 9691, 'wehrlose': 9692, 'broschuere': 9693, 'wohlstandsuebersaettigte': 9694, 'micro': 9695, 'penisse': 9696, 'nano': 9697, 'teilchen': 9698, 'slecq': 9699, 'supermarkt': 9700, 'personalkleidung': 9701, 'umsetzen': 9702, 'stattfindenden': 9703, 'verlust': 9704, 'saemtlicher': 9705, 'manfred': 9706, 'weber': 9707, 'buergerkriegsaehnliche': 9708, 'ueberschwappt': 9709, 'erotischer': 9710, 'stutzig': 9711, 'bissel': 9712, 'vorsitzender': 9713, 'angelaulrichrbb': 9714, 'bab': 9715, 'altermananne': 9716, 'pittsburgh': 9717, 'neuerdings': 9718, 'trennung': 9719, 'obdachloser': 9720, 'klimaaktivisten': 9721, 'religioes': 9722, 'oefftl': 9723, 'raeglich': 9724, 'stabilitaet': 9725, 'internets': 9726, 'sophie': 9727, 'passmann': 9728, 'sds': 9729, 'deutschlandbekaempfender': 9730, 'studentenhasserbund': 9731, 'aas': 9732, 'bolschewistischem': 9733, 'einleiten': 9734, 'skepsis': 9735, 'angebracht': 9736, 'einklang': 9737, '233': 9738, 'sowjetischen': 9739, 'absicht': 9740, 'rotem': 9741, 'geleugnet': 9742, 'anwalts': 9743, 'taetig': 9744, 'maskottchen': 9745, 'ablichten': 9746, 'aufrief': 9747, 'astra': 9748, 'futurae': 9749, 'spar': 9750, '800': 9751, 'pullach': 9752, 'faschistenvergangenheit': 9753, 'linksdeutsch': 9754, 'suedamerika': 9755, 'classless': 9756, 'kuella': 9757, 'deckt': 9758, 'tapfer': 9759, 'twittergrossmaul': 9760, 'eingeloggt': 9761, 'ernennt': 9762, 'ernenne': 9763, 'verifizieren': 9764, 'kolonialherren': 9765, 'grosskapital': 9766, 'geputscht': 9767, 'sexist': 9768, 'rechtspopulist': 9769, 'fanatischer': 9770, 'russlandhasser': 9771, 'barkeeper': 9772, 'niewendirk': 9773, 'entsichern': 9774, 'bombensicheren': 9775, 'unterstand': 9776, 'gl': 9777, '215': 9778, 'if': 9779, 'essential': 9780, 'his': 9781, 'books': 9782, 'drunterkommentieren': 9783, 'steh': 9784, 'romantischer': 9785, 'geschulte': 9786, 'calling': 9787, 'ns': 9788, 'verherrlichen': 9789, 'goenn': 9790, 'freier': 9791, 'planwi': 9792, 'bdi': 9793, 'springerkonzern': 9794, 'freedeniz': 9795, 'lyzianer': 9796, 'bolschewisten': 9797, 'pascal': 9798, 'philosoph': 9799, 'bekaempfung': 9800, 'ruhrbarone': 9801, 'marxologen': 9802, 'aeusserungen': 9803, 'buechern': 9804, 'haeufigen': 9805, 'selbstverstaendnis': 9806, 'metropolenlinken': 9807, 'kluge': 9808, 'druebersteher': 9809, 'abgrenzung': 9810, 'dkp': 9811, 'kleinstadt': 9812, 'proleten': 9813, 'schlusssatz': 9814, 'teilung': 9815, 'tapfere': 9816, 'vandalen': 9817, 'ausdrucksweise': 9818, 'leistungsfaehigkeit': 9819, 'ableism': 9820, 'rechercheprofi': 9821, 'unmuendigen': 9822, 'spinnern': 9823, 'enfeindlich': 9824, 'raetecommuenisten': 9825, 'bourgie': 9826, 'gechillt': 9827, 'kopiere': 9828, 'antisemitischen': 9829, 'vollverbloedeten': 9830, 'grosza': 9831, 'feat': 9832, 'widerspruechliche': 9833, 'unkritisch': 9834, 'stalinistischen': 9835, 'bekenne': 9836, 'gruendung': 9837, 'macha': 9838, 'handballspiel': 9839, 'lieblingsnazis': 9840, 'schlaflosen': 9841, 'abfaerbt': 9842, 'schlaftabletten': 9843, 'versuche': 9844, 'prost': 9845, 'diskussionsveranstaltung': 9846, 'denkens': 9847, 'wien': 9848, 'hoersaal': 9849, 'mg': 9850, 'universitaetsstr': 9851, '88': 9852, 'bourgiemuellabsonderungsbeduerfnis': 9853, 'therapeutischen': 9854, 'arbeitskampf': 9855, 'vergleichsweise': 9856, 'hohen': 9857, 'sozialhilfeleistungen': 9858, 'heer': 9859, 'arbeitslosen': 9860, 'dauer': 9861, 'ruhigstellen': 9862, 'laecherlichster': 9863, 'betrieben': 9864, 'incl': 9865, 'verblendeter': 9866, 'followerschaft': 9867, 'vmtl': 9868, 'huberchef': 9869, 'goy': 9870, 'keyboardwarrior': 9871, 'absolutistische': 9872, 'nostalgie': 9873, 'eliaskindl': 9874, 'unteilbare': 9875, 'liberalismus': 9876, 'koenigskoerper': 9877, 'thomas': 9878, 'schmitz': 9879, 'einzukaufen': 9880, 'unfug': 9881, 'marxsche': 9882, 'obgleich': 9883, 'deformation': 9884, 'denkformen': 9885, 'widerlegung': 9886, 'sym': 9887, 'umgegangen': 9888, 'linkspopulistischen': 9889, 'lesern': 9890, 'emanzipatorisch': 9891, 'klassischen': 9892, 'antike': 9893, 'kant': 9894, 'allenfalls': 9895, 'heidegger': 9896, 'studium': 9897, 'unbefriedigend': 9898, 'zunehmend': 9899, 'befremdlich': 9900, 'befreiend': 9901, 'tust': 9902, 'philblog17': 9903, 'reaction': 9904, 'linksdeutsche': 9905, 'volksabfall': 9906, 'moralmuell': 9907, 'geschichtsklitternd': 9908, 'wh': 9909, 'psychoanalytiker': 9910, 'darwinisten': 9911, 'ineressieren': 9912, 'aufgestanden': 9913, 'leo': 9914, 'trotzki': 9915, 'agent': 9916, 'luther': 9917, 'juergen': 9918, 'moellemann': 9919, 'george': 9920, 'orwell': 9921, 'fascist': 9922, 'ebe': 9923, 'stalinists': 9924, 'meister': 9925, 'eckha': 9926, 'lady': 9927, 'gaga': 9928, 'molko': 9929, 'sigmund': 9930, 'freud': 9931, 'wieland': 9932, '108': 9933, 'kameradschaft': 9934, 'gespendet': 9935, 'baseballschlaeger': 9936, 'vergesellschaften': 9937, 'besiegen': 9938, 'kokstaxi': 9939, 'drogenmafia': 9940, 'rumlungern': 9941, 'geblaette': 9942, 'ueberschaetzt': 9943, 'brillianter': 9944, 'machtpolitiker': 9945, 'trefflich': 9946, 'kullisti': 9947, 'einbruch': 9948, 'vorueber': 9949, 'gluecklich': 9950, 'politbuero': 9951, 'tageszeitung': 9952, 'leiten': 9953, 'verlage': 9954, 'chrisgoldapp': 9955, 'achten': 9956, 'hilfsverbs': 9957, 'konjunktiv': 9958, 'ii': 9959, 'kehrseite': 9960, 'leftcoms': 9961, 'utopisten': 9962, 'ultra': 9963, 'zusaetze': 9964, 'genosse': 9965, 'robespierre': 9966, 'unterbreitet': 9967, 'matzetthias': 9968, 'gegenmuell': 9969, 'rechtsantideutschen': 9970, 'koepfe': 9971, 'sprengstoffgue': 9972, 'christmette': 9973, 'geschenke': 9974, 'bloederweise': 9975, 'nazifamilie': 9976, 'aufknuepfen': 9977, 'sarah': 9978, 'wagenknecht': 9979, 'hummer': 9980, 'bildzeitung': 9981, 'erscheint': 9982, 'serioeser': 9983, 'kaempfer': 9984, 'julian': 9985, 'kofferraum': 9986, 'soeben': 9987, 'dunkler': 9988, 'aermer': 9989, 'hoffnungsloser': 9990, 'krokusfunk': 9991, 'cigi': 9992, 'kolonialisierung': 9993, 'studentenhirne': 9994, 'poptheorie': 9995, 'diskussionsrunden': 9996, 'hervorbringende': 9997, 'genatzt': 9998, 'gestapo': 9999, 'arsckriecherische': 10000, 'kleinbuerger': 10001, 'image': 10002, 'aergere': 10003, 'victor': 10004, 'ifg': 10005, 'sozialis': 10006, 'ungueltig': 10007, 'scharenweise': 10008, 'westpropaganda': 10009, 'reingefallen': 10010, 'russen': 10011, 'erfolge': 10012, 'antiautoritaeren': 10013, 'mitschreiben': 10014, 'katrin': 10015, 'goering': 10016, 'resignation': 10017, 'anadasmos': 10018, 'jedweder': 10019, 'uninteressie': 10020, 'vorstellungen': 10021, 'auszusetzen': 10022, 'einfallsreich': 10023, 'geregelt': 10024, 'aufeinander': 10025, 'erfolgsargument': 10026, 'unterwirft': 10027, 'argumentform': 10028, 'diesem': 10029, 'scheissverein': 10030, 'beigetragen': 10031, 'beleidigte': 10032, 'aufforderung': 10033, 'gleichzutun': 10034, 'hrsg': 10035, 'studentengruppe': 10036, 'bielefeld': 10037, 'anstalten': 10038, 'sprallos': 10039, 'benutzten': 10040, 'enta': 10041, 'feindbild': 10042, 'reitet': 10043, 'abgeschobener': 10044, 'machthaber': 10045, 'gemaessigten': 10046, 'tyrannei': 10047, 'wurdest': 10048, 'juedisch': 10049, 'weltverschwoerung': 10050, 'antideutscher': 10051, 'intellektueller': 10052, 'islamisch': 10053, 'stalinistische': 10054, 'despotie': 10055, 'intellektuellenfluegel': 10056, 'kreuzzuege': 10057, 'emanzipatorisches': 10058, 'potential': 10059, 'muselmanischen': 10060, 'ausgeschoepft': 10061, 'restvernunft': 10062, 'korrektur': 10063, 'politsekte': 10064, 'hayeks': 10065, 'kriegstreiber': 10066, 'angriffskriege': 10067, 'wuppe': 10068, 'aler': 10069, 'pleitier': 10070, 'reserveoffizier': 10071, 'luftwaffe': 10072, 'massenhafte': 10073, 'herstellung': 10074, 'guillotinen': 10075, 'jobmotor': 10076, 'maerkte': 10077, 'blutbad': 10078, 'zuegig': 10079, 'unbuerokratisch': 10080, 'gesponse': 10081, 'interessenverband': 10082, 'galgenbauer': 10083, 'acrons': 10084, 'schlaeger': 10085, 'liebsten': 10086, 'staatschef': 10087, 'blogspo': 10088, 'klage': 10089, 'apple': 10090, 'stores': 10091, 'gestaltet': 10092, 'klauen': 10093, 'steve': 10094, 'kommunistischer': 10095, 'seinundseid': 10096, 'arno': 10097, 'ziehe': 10098, 'berkmyn': 10099, 'rassistisches': 10100, 'performt': 10101, 'helft': 10102, 'lsys': 10103, 'palast': 10104, 'mosedlak': 10105, 'oppositionellen': 10106, 'grossmacht': 10107, 'bewaffnet': 10108, 'pusht': 10109, 'schlankerbronze': 10110, 'barrierefreie': 10111, 'krah': 10112, 'emmanuelmacron': 10113, 'geordneten': 10114, 'machtwechsel': 10115, 'unnoetiges': 10116, 'vergossen': 10117, 'truppen': 10118, 'zuschaut': 10119, 'einzugreifen': 10120, 'terrorisie': 10121, 'bomber': 10122, 'beschaemend': 10123, 'benennen': 10124, 'jakobiner': 10125, 'jupi1948': 10126, 'europaistdieantwo': 10127, 'lily': 10128, 'suri': 10129, 'seli': 10130, 'proletarier': 10131, 'voice': 10132, 'iamlondrenz': 10133, 'marxisten': 10134, 'bibeln': 10135, 'ohne': 10136, 'dialektik': 10137, 'bewegte': 10138, 'ohnehin': 10139, 'auftragsarbeit': 10140, 'strammerer': 10141, 'ideologe': 10142, 'theater': 10143, 'estand': 10144, 'qualitaetsjournalisten': 10145, 'verzweifelten': 10146, 'ohnmaechtiger': 10147, 'aufstaende': 10148, 'grossstaedten': 10149, 'rassenunruhen': 10150, 'nminkmar': 10151, 'goennst': 10152, 'personenschutz': 10153, 'garantierst': 10154, 'rechtssicherheit': 10155, 'bolschewistischen': 10156, 'klarnamen': 10157, 'posten': 10158, 'franzoesischer': 10159, 'geistlicher': 10160, '1788': 10161, 'gelaendewagen': 10162, 'werft': 10163, 'kopfschmerzen': 10164, 'cia': 10165, 'steuerberater': 10166, 'aufsichtsratschefs': 10167, 'bwl': 10168, 'professoren': 10169, 'leita': 10170, 'ikelschreiber': 10171, 'geregeltes': 10172, 'arbeitsleben': 10173, 'bourgeois': 10174, 'gulagalschance': 10175, 'freundliche': 10176, 'leseempfehlung': 10177, 'minkmar': 10178, 'strang': 10179, 'proletariat': 10180, 'cis': 10181, 'ungleich': 10182, 'heiko': 10183, 'memel': 10184, 'chefredakteur': 10185, 'reichsarbeitsdienst': 10186, 'gehirne': 10187, 'weltgeist': 10188, 'funktionierende': 10189, 'anzuenderei': 10190, 'sturz': 10191, 'gilets': 10192, 'jaunes': 10193, 'liegerad': 10194, 'kolumne': 10195, 'hassend': 10196, '34': 10197, 'reparatur': 10198, 'macbook': 10199, 'weltgeistbande': 10200, 'novemberrevolution': 10201, 'zufall': 10202, 'argumende': 10203, 'kreuzchen': 10204, 'aimanmazyek': 10205, 'betraue': 10206, 'runkende': 10207, 'durchsuchen': 10208, 'muelleimer': 10209, 'schaftsmigranten': 10210, 'heizungen': 10211, 'aufdrehen': 10212, 'gefuehlskarussell': 10213, 'walten': 10214, 'migrationshintergrund': 10215, 'lsteinwandter': 10216, 'boykottieren': 10217, 'ungemuetlicher': 10218, 'zehntausende': 10219, 'randnotiz': 10220, 'luegens': 10221, 'klimaschutz': 10222, 'gegaengelt': 10223, 'geldregen': 10224, 'teuren': 10225, 'wirkungslos': 10226, 'achillesferse': 10227, 'befragt': 10228, 'verplappe': 10229, 'tauglich': 10230, 'bemerken': 10231, 'schulbank': 10232, 'aufmerksamen': 10233, 'beliebtheitsskala': 10234, 'blicken': 10235, 'offenherzig': 10236, 'auslaenderkriminalitaet': 10237, 'jahrzehntelang': 10238, 'weggesehen': 10239, 'resultat': 10240, 'unkontrollierbare': 10241, 'wegsehen': 10242, 'angeordnet': 10243, 'wunsch': 10244, 'aufzugeben': 10245, 'zentralregierung': 10246, 'ueberzugehen': 10247, 'verfolgen': 10248, 'nationalstaaten': 10249, 'inquisition': 10250, 'kipping': 10251, 'durchhalten': 10252, 'kreuzfeuer': 10253, 'beobachtung': 10254, 'igt': 10255, 'unbeabsichtigte': 10256, 'wahlkampfunterstuetzung': 10257, 'wandazietz': 10258, 'knechten': 10259, 'wirksam': 10260, 'kleinere': 10261, 'schuldkomplex': 10262, 'aktivieren': 10263, 'runken': 10264, 'fiktive': 10265, 'aufgefrischt': 10266, 'erschreckend': 10267, 'addie': 10268, 'blondjedi': 10269, 'dunkle': 10270, 'zugehoe': 10271, 'runterzukommen': 10272, '0001f92c': 10273, 'tempolimits': 10274, 'erschliessen': 10275, 'hinzu': 10276, 'teilbereiche': 10277, 'fahrzeug': 10278, 'jenseits': 10279, '130km': 10280, 'eigenlob': 10281, 'amtierende': 10282, 'steif': 10283, 'derselbigen': 10284, 'erlebte': 10285, 'anstiftung': 10286, '0001f62c': 10287, 'einwanderung': 10288, 'einzufuehren': 10289, 'mosaik': 10290, 'vervollstaendigt': 10291, 'eingeschossen': 10292, 'negativ': 10293, 'hervorzuheben': 10294, 'taeuscht': 10295, 'neutral': 10296, 'autofahrern': 10297, 'abzuschaffen': 10298, 'quetscht': 10299, 'spritpreis': 10300, 'aktuellem': 10301, 'bedrohungslage': 10302, 'beschaeftigt': 10303, 'wahrscheinlichste': 10304, 'fcmmicha1': 10305, 'blamie': 10306, 'gesellschafft': 10307, 'highlights': 10308, 'bachelor': 10309, 'dschungelcamp2019': 10310, 'muelltonnen': 10311, 'wuehlen': 10312, '0001f641': 10313, 'zenit': 10314, 'scharia': 10315, 'besitzen': 10316, 'wochenlange': 10317, 'ziv': 10318, 'beneidet': 10319, 'weinen': 10320, 'haeufiger': 10321, 'bekannte': 10322, 'tauchen': 10323, 'verfassungsschutzchef': 10324, 'waehrenddessen': 10325, 'linksextremisten': 10326, 'mafiaclans': 10327, 'geprueft': 10328, 'herumlaufen': 10329, 'filz': 10330, 'mass': 10331, 'raeglichkeit': 10332, 'medienhaeuser': 10333, 'singen': 10334, 'heruntergekommen': 10335, 'bananenrepublik': 10336, 'jury': 10337, 'unwo': 10338, 'desjahres': 10339, 'tagelang': 10340, 'tsunami': 10341, 'intensivst': 10342, 'wichtigeres': 10343, 'schneefall': 10344, 'alpenregion': 10345, 'wetterphaenomen': 10346, 'aufgebaut': 10347, 'gewaltbereite': 10348, 'nachstellen': 10349, 'mitzumachen': 10350, 'ungehinde': 10351, 'oer': 10352, 'beimessen': 10353, 'weimarer': 10354, 'vollenden': 10355, 'werk': 10356, 'ueblich': 10357, 'unterdrueckt': 10358, 'bedacht': 10359, 'aufgebauschte': 10360, 'gasexplosion': 10361, 'zweckentfremdet': 10362, 'unbekannte': 10363, 'fluechtlingsunterkuenften': 10364, 'zugeordnet': 10365, 'gewalttaeter': 10366, 'verabreden': 10367, 'einzuschuechtern': 10368, 'gesinnung': 10369, 'zusammenschlagen': 10370, 'riesa': 10371, 'losliessen': 10372, 'warm': 10373, 'rupps': 10374, 'offe': 10375, 'pruegeln': 10376, 'erstaunten': 10377, 'moderatoren': 10378, 'mitteilen': 10379, 'gewaltspirale': 10380, 'mitverantwo': 10381, 'ueberrascht': 10382, 'qualitaet': 10383, 'unterirdisch': 10384, 'datendiebstahl': 10385, 'toleranteres': 10386, 'weltoffener': 10387, 'zoegern': 10388, 'brandmarken': 10389, 'deckmantels': 10390, 'asylchaos': 10391, 'karriere': 10392, 'hinzulegen': 10393, 'verbrechens': 10394, 'relotiuspresse': 10395, 'grossstadt': 10396, 'beikommen': 10397, 'anlasten': 10398, 'beruflichen': 10399, 'faktenverdreher': 10400, 'geldadel': 10401, 'lakaien': 10402, 'wohlfuehlen': 10403, 'bereicherer': 10404, 'selbstaendige': 10405, 'weitestgehend': 10406, 'abtrainie': 10407, 'staatsmedien': 10408, 'gewohnte': 10409, 'schuldkampagne': 10410, 'afrikanischer': 10411, 'attacke': 10412, 'ruhrgebiet': 10413, 'weltbuerger': 10414, 'feuerwerksverbot': 10415, 'innenstaedten': 10416, 'ausgesprochen': 10417, 'silvester': 10418, 'teilweises': 10419, 'relotius': 10420, 'aufgeflogen': 10421, 'beruehmte': 10422, 'einzellfall': 10423, 'auskommen': 10424, 'sparsamkeit': 10425, 'propagandasendungen': 10426, 'totalversagen': 10427, 'honorierung': 10428, 'verfassungsklage': 10429, 'schlapp': 10430, 'verbotszonen': 10431, 'gesengtem': 10432, 'weite': 10433, 'anschluss': 10434, 'friedlichen': 10435, 'silvesterfest': 10436, 'erdulden': 10437, 'staats': 10438, 'geschenkt': 10439, 'rundfunkbeitrag': 10440, 'larstrep': 10441, 'erhae': 10442, 'hypen': 10443, 'vorbeigeht': 10444, 'spannende': 10445, 'triumphzug': 10446, 'tabu': 10447, 'rechtsextremismus': 10448, 'munde': 10449, 'unaufhoerlich': 10450, 'begegnet': 10451, 'rechtsextremisten': 10452, 'unentwegt': 10453, 'ausgebildete': 10454, 'gewinne': 10455, 'billigloehner': 10456, 'vorbehalte': 10457, 'ungeahnten': 10458, 'verhelfen': 10459, 'alters': 10460, 'greifbare': 10461, 'schreibenwiederspiegel': 10462, 'kolbi1966': 10463, 'steuerpflichtig': 10464, 'gottfriedcurio': 10465, 'nationaler': 10466, 'kraftakt': 10467, 'entsinne': 10468, 'systemjournalisten': 10469, 'merkelnachfolgerin': 10470, 'nachsagen': 10471, 'ehrlichste': 10472, 'uesste': 10473, 'intellektuelle': 10474, 'kaste': 10475, 'hofie': 10476, 'eingestehen': 10477, 'grenzoeffnung': 10478, 'unbewusst': 10479, 'fluechtlingskrise': 10480, 'blubbe': 10481, 'verlorene': 10482, 'waehlerstimmen': 10483, 'selbstzerstoerungsprozess': 10484, 'aufhaelt': 10485, 'meinesicht11': 10486, 'vergraulen': 10487, 'ansiedeln': 10488, 'kompromisslosigkeit': 10489, 'gegenuebergetreten': 10490, 'gruppenvergewaltigungen': 10491, 'terrorangriffe': 10492, 'hinzunehmen': 10493, 'zurueckhaltung': 10494, 'reines': 10495, 'medienphaenomen': 10496, '19ki43h': 10497, 'botschaften': 10498, 'raegt': 10499, 'causa953': 10500, 'q2018112344441': 10501, 'mariebreizh56': 10502, 'queeniepi': 10503, 'anzunehmen': 10504, 'grommkor': 10505, 'denunzianten': 10506, 'aergern': 10507, 'barrierefrei': 10508, 'bereichern': 10509, 'abschuss': 10510, 'freigegeben': 10511, 'solidaritaetszuschlag': 10512, 'hals': 10513, 'echtes': 10514, 'kunststueck': 10515, 'ausnahmslos': 10516, 'verarscht': 10517, 'zentralrat': 10518, 'glanzstueck': 10519, 'saetzen': 10520, 'berufsgruppen': 10521, 'bahnangestellte': 10522, 'piloten': 10523, 'aberwitzige': 10524, 'lahmlegen': 10525, 'systematische': 10526, 'verarmung': 10527, 'warnstreik': 10528, 'weitreichende': 10529, 'einraeumt': 10530, 'danieldjdanby': 10531, 'klausdfrank': 10532, 'boesa': 10533, 'geeignet': 10534, 'regieren': 10535, 'umhoe': 10536, 'riskant': 10537, 'koffer': 10538, 'dienen': 10539, 'degenerieren': 10540, '0001f92a': 10541, 'ignorant': 10542, 'wahrnehmung': 10543, 'getoeteten': 10544, 'augustin': 10545, 'captainmarvel': 10546, 'auskennt': 10547, 'handverlesene': 10548, 'geister': 10549, 'leichenfund': 10550, '17jaehrigen': 10551, 'besorgt': 10552, 'schaftssanktionen': 10553, 'diesen': 10554, 'unendlich': 10555, 'zutritt': 10556, 'verschaffen': 10557, 'weltaidstag': 10558, 'umar': 10559, 'alalmani': 10560, 'aufgenommene': 10561, 'misstrauisch': 10562, 'zusammenleben': 10563, 'steuerzahler': 10564, 'verbreiter': 10565, 'anlegen': 10566, 'ueberraschung': 10567, 'geltende': 10568, 'merkelregierung': 10569, 'ausnahmezustand': 10570, 'einzuwandern': 10571, 'steuerzahlende': 10572, 'herauskitzeln': 10573, 'austeilt': 10574, 'einstecken': 10575, 'netter': 10576, 'schlagabtausch': 10577, 'aufrichtigen': 10578, 'dokumentenlose': 10579, 'hindern': 10580, 'einzureisen': 10581, 'mordende': 10582, 'nationsleague': 10583, 'beinahe': 10584, 'kritischen': 10585, 'zusammenzukratzen': 10586, 'schuldenunion': 10587, 'schulden': 10588, 'ueberwachen': 10589, 'hofft': 10590, 'denunziantentum': 10591, 'zaube': 10592, 'personal': 10593, 'versinkt': 10594, 'ministerien': 10595, 'qualitaetspresse': 10596, 'jegliches': 10597, 'schluchtis': 10598, 'geschwister': 10599, 'buergerkriegsgebiet': 10600, 'zuzuschreiben': 10601, 'horizont': 10602, 'erweitern': 10603, 'weiteste': 10604, 'voelkermoerderpropaganda': 10605, 'zuspammen': 10606, 'gesocks': 10607, 'billiges': 10608, 'lecken': 10609, 'wochenarbeitszeit': 10610, 'bringer': 10611, 'telepolis': 10612, 'stuerzen': 10613, 'oel': 10614, 'gasrechnung': 10615, 'ukrainischen': 10616, 'oligarchen': 10617, 'datscha': 10618, 'katarinabarley': 10619, 'anzukommen': 10620, 'wesentlich': 10621, 'waermer': 10622, 'nicolaalbrecht': 10623, 'claudius': 10624, 'dummerweise': 10625, 'getoetete': 10626, 'dutzend': 10627, 'optisch': 10628, 'beschaffenheit': 10629, 'parkscheibe': 10630, '1981': 10631, '447': 10632, 'verkehrszeichen': 10633, 'bildern': 10634, 'stvo': 10635, 'kleinigkeiten': 10636, 'entsprechen': 10637, 'phantasiezeichen': 10638, 'nichtig': 10639, '1971': 10640, '587': 10641, 'nuff': 10642, 'said': 10643, 'gleichberechtigung': 10644, 'geschlechter': 10645, 'vatikan': 10646, 'retung': 10647, 'vorgaengers': 10648, 'voelkerbundes': 10649, 'mandatstext': 10650, 'beu': 10651, 'teilungsplan': 10652, '181': 10653, 'beinhaltete': 10654, 'ebenfalls': 10655, 'staatenloesung': 10656, 'schaftsunion': 10657, 'schnappen': 10658, 'eurozentristischer': 10659, 'angeeignet': 10660, 'reibt': 10661, 'eigentlichen': 10662, 'aehnlichen': 10663, 'wehr': 10664, 'kaemen': 10665, 'genom': 10666, 'y': 10667, 'levantinischer': 10668, 'blockier': 10669, 'heids': 10670, 'bejubler': 10671, 'lover': 10672, 'soziologie': 10673, 'hierin': 10674, 'ethnien': 10675, 'glaubens': 10676, 'bestreichen': 10677, 'ueberarbeitete': 10678, 'genetik': 10679, 'urbevoelkerung': 10680, 'jemals': 10681, 'erhalte': 10682, 'ominoese': 10683, 'redaktionsstatut': 10684, 'axel': 10685, 'unterschreiben': 10686, 'hasbara': 10687, 'collusion': 10688, 'across': 10689, 'jordan': 10690, 'king': 10691, 'abdullah': 10692, 'zionist': 10693, 'movement': 10694, 'ition': 10695, 'avi': 10696, 'shlaim': 10697, 'geheimabkommen': 10698, 'agency': 10699, 'jordanien': 10700, 'aufteilung': 10701, 'scheinkrieg': 10702, 'eingriffen': 10703, 'prof': 10704, 'angriffskrieg': 10705, 'kamen': 10706, 'zerschlagung': 10707, 'bildeten': 10708, 'siedlerkolonisten': 10709, 'begingen': 10710, 'regimen': 10711, 'helfe': 10712, 'nirgendwo': 10713, 'selbstbestimmungsrecht': 10714, 'fuessen': 10715, 'huessyandre': 10716, 'erwiderung': 10717, 'shah': 10718, 'geheimdienst': 10719, 'befindlichkeite': 10720, 'netanyahu': 10721, 'landsmannes': 10722, 'begangen': 10723, 'suehne': 10724, 'opas': 10725, 'aufdruecken': 10726, 'umbringen': 10727, 'beutelratte': 10728, 'werdet': 10729, 'nullnummern': 10730, 'ueberstunden': 10731, 'inclusive': 10732, 'antisemitismuskeule': 10733, 'zionistische': 10734, 'kolonialregime': 10735, 'surveyorx': 10736, 'kleinstaaterei': 10737, 'playern': 10738, 'zerreiben': 10739, 'elwah': 10740, 'heiten': 10741, 'widerlegen': 10742, 'guevarra': 10743, 'einigen': 10744, 'rechtsradikalen': 10745, 'vorliebe': 10746, 'bodenideologie': 10747, 'anhaengen': 10748, 'becker': 10749, 'kuscheln': 10750, 'querfrontler': 10751, 'eingekaufte': 10752, 'lausige': 10753, 'kroeten': 10754, 'matzschmale': 10755, 'erzeugten': 10756, 'zusammengestellt': 10757, 'objektivitaet': 10758, 'wissenschaftlerin': 10759, 'verheiratet': 10760, 'indoktrinie': 10761, 'bauschanhund': 10762, 'uk': 10763, 'erwerben': 10764, 'spannender': 10765, 'rechteproblem': 10766, 'lenkt': 10767, 'siche': 10768, 'foerdergelder': 10769, 'steffenkoeniger': 10770, 'brechts': 10771, 'kinderhymne': 10772, 'schoenere': 10773, 'besatzung': 10774, 'heid': 10775, 'kolonistenfreund': 10776, 'wess': 10777, 'ess': 10778, 'dess': 10779, 'gelle': 10780, 'zusammengewuerfelte': 10781, 'feiglingen': 10782, 'hightech': 10783, 'steinewerfern': 10784, 'eidigung': 10785, 'nordosteuropa': 10786, 'endgueltigen': 10787, 'entwickelten': 10788, 'schweizer': 10789, 'ethnie': 10790, 'hinkt': 10791, 'fremdbestimmung': 10792, 'ethnokratien': 10793, 'arg': 10794, 'ankamen': 10795, 'tatsaechliche': 10796, 'nordeuropa': 10797, 'muttersprache': 10798, 'jiddische': 10799, 'uebersehen': 10800, 'verliess': 10801, 'wechselnden': 10802, 'herrschern': 10803, 'wechselte': 10804, 'clowns': 10805, 'jaemmerlichen': 10806, 'verlogenen': 10807, 'hetz': 10808, 'verein': 10809, 'nagen': 10810, 'hunge': 10811, 'uch': 10812, 'errichtete': 10813, 'orientalischen': 10814, 'tross': 10815, 'zogen': 10816, 'stammbaum': 10817, 'testen': 10818, 'schmierigen': 10819, 'rudisagmal': 10820, 'leuthold': 10821, 'durchfuette': 10822, 'bergeweise': 10823, 'ahnungslosen': 10824, 'trotteln': 10825, 'haengenbleiben': 10826, 'stahlbarons': 10827, 'angeschlossen': 10828, 'schweiz': 10829, 'aufforderungen': 10830, 'radiomitschnitte': 10831, 'auszuharren': 10832, 'entsatz': 10833, 'trieb': 10834, 'touristen': 10835, 'kommandeure': 10836, 'hielten': 10837, 'geschuetzt': 10838, 'million': 10839, 'einheimischer': 10840, '250': 10841, 'zentralen': 10842, 'buntes': 10843, 'gemisch': 10844, 'vorbeikam': 10845, 'spuren': 10846, 'hinterliess': 10847, 'reinrassigkeit': 10848, 'merkwuerdiges': 10849, 'paradox': 10850, 'direkter': 10851, 'abstammungslinie': 10852, 'doerfer': 10853, 'ruinen': 10854, 'pflanzt': 10855, 'jnf': 10856, 'waelder': 10857, 'aufzunehmen': 10858, 'landnahme': 10859, 'gezielt': 10860, 'informationen': 10861, 'munition': 10862, 'geho': 10863, 'protokolle': 10864, 'besprechungen': 10865, 'militaerisch': 10866, 'dossiers': 10867, 'unauffaelligen': 10868, 'wandergruppen': 10869, 'dalet': 10870, 'vorzubereiten': 10871, 'archiven': 10872, 'detail': 10873, 'wichtigen': 10874, 'originalquellen': 10875, 'anekdoten': 10876, '2006': 10877, 'breit': 10878, 'erwaehnte': 10879, 'archivmaterial': 10880, 'zeitzeugen': 10881, 'moeglichen': 10882, 'verarbeitet': 10883, 'zugriff': 10884, 'armeearchive': 10885, 'interviewte': 10886, 'augenzeugen': 10887, 'ungenauigkeiten': 10888, 'vorgeworfen': 10889, 'fauxpas': 10890, 'zeithorizont': 10891, 'bestseller': 10892, 'furchtbaren': 10893, 'angezweifelt': 10894, 'abhang': 10895, 'gebirges': 10896, 'seilbahn': 10897, 'morris': 10898, 'segev': 10899, 'gemuete': 10900, 'gesamtschau': 10901, 'fragten': 10902, 'billigend': 10903, 'kauf': 10904, 'hoehenlagen': 10905, 'liegenden': 10906, 'faesser': 10907, 'hinunter': 10908, 'gerollt': 10909, 'verfolgte': 10910, '75': 10911, 'errichteten': 10912, 'haifa': 10913, 'sah': 10914, 'fassbomben': 10915, 'hafen': 10916, 'moerserfeuer': 10917, 'freiwillige': 10918, 'abreise': 10919, 'beschleunigen': 10920, 'schiffe': 10921, 'ranken': 10922, 'native': 10923, 'americans': 10924, 'siedlerkoloniale': 10925, 'vorliest': 10926, 'nachfuellpackung': 10927, 'zugestehen': 10928, 'gleichwe': 10929, 'hindu': 10930, 'niederlassen': 10931, 'buddhistisch': 10932, 'hinduistisches': 10933, 'indien': 10934, 'beanspruchen': 10935, 'ami': 10936, 'utter': 10937, 'sitting': 10938, 'bull': 10939, 'griffen': 10940, 'siedler': 10941, 'vernichteten': 10942, 'general': 10943, 'custer': 10944, 'simple': 10945, 'behauptungen': 10946, 'rudimentaersten': 10947, 'unschoenen': 10948, 'persoenlichen': 10949, 'erzaehlungen': 10950, 'auswande': 10951, 'berichtete': 10952, 'planten': 10953, 'durchsetzten': 10954, 'ueberlebenden': 10955, 'ausgegrenzt': 10956, 'sabonim': 10957, 'seifenstuecke': 10958, 'beschimpft': 10959, 'misshandelt': 10960, 'erwirbt': 10961, 'reichsbuergern': 10962, 'verbindet': 10963, 'populationsgenetik': 10964, 'gingen': 10965, 'asien': 10966, 'rasselt': 10967, 'daemonisierung': 10968, 'delegitimierung': 10969, 'siedlerkolonialen': 10970, 'kauften': 10971, '78': 10972, 'gekauftem': 10973, 'gebiete': 10974, 'antisemitische': 10975, 'verschenken': 10976, 'judenstaat': 10977, 'verfolgungserfahrung': 10978, 'dwiddernklaus': 10979, 'neurechter': 10980, 'zuhoe': 10981, 'phasen': 10982, 'antijudaismus': 10983, 'ueberwog': 10984, 'krisenzeiten': 10985, 'suendenbock': 10986, 'lebten': 10987, 'ostgebieten': 10988, 'geiselhaft': 10989, 'antisemitischer': 10990, 'vorfaelle': 10991, 'religionsfluechtlinge': 10992, 'nordamerika': 10993, 'gruendeten': 10994, 'ausgerottet': 10995, 'bewohner': 10996, 'judaeas': 10997, 'vorvaeter': 10998, 'heutigen': 10999, 'vordenker': 11000, 'colonial': 11001, 'trust': 11002, 'colonization': 11003, 'association': 11004, 'durchfuehren': 11005, 'kolonist': 11006, 'aufnahmeland': 11007, 'beherrschen': 11008, 'bestehende': 11009, 'passus': 11010, 'bestehender': 11011, 'nichtjuedischer': 11012, 'gemeinschaften': 11013, 'beeintraechtigen': 11014, 'ministry': 11015, 'strategic': 11016, 'affairs': 11017, 'bnei': 11018, 'brak': 11019, 'weswegen': 11020, 'alberne': 11021, 'bezahlter': 11022, 'pressesprecher': 11023, 'voelkermoerder': 11024, 'indigene': 11025, 'gefangene': 11026, 'staatsterrorist': 11027, 'studieren': 11028, 'bulletin': 11029, 'board': 11030, 'auspacken': 11031, 'gaehn': 11032, 'waehlten': 11033, 'briten': 11034, '1935': 11035, 'genommenen': 11036, 'shalit': 11037, 'fatah': 11038, 'anerkannte': 11039, 'kollaborie': 11040, 'amtsantritt': 11041, 'gewaehlten': 11042, 'putsch': 11043, 'themossadil': 11044, 'unterentwickelt': 11045, 'mitgefuehl': 11046, 'birnen': 11047, 'geheimverstecken': 11048, 'unterbringen': 11049, 'wuessten': 11050, 'folterknaeste': 11051, 'geworfen': 11052, 'kollaborateure': 11053, 'kriegssituation': 11054, 'gefangener': 11055, 'procedere': 11056, 'gefaengnissen': 11057, 'kollateralschaden': 11058, 'zuckend': 11059, 'auseinandersetzen': 11060, 'abgrundtiefe': 11061, 'umzukippen': 11062, 'fiffies': 11063, 'skrupellosem': 11064, 'terrorregime': 11065, 'lebensfaehig': 11066, 'ausloeschung': 11067, 'gewinner': 11068, 'schmierfinken': 11069, 'herrenmenschen': 11070, 'unterzuordnen': 11071, 'verwecken': 11072, 'quillt': 11073, 'zeile': 11074, 'freiheitskaempfer': 11075, 'kaempfen': 11076, 'blaest': 11077, 'flori': 11078, 'markl': 11079, 'gruber': 11080, 'strebte': 11081, 'gesetzliche': 11082, 'anerkennung': 11083, 'minderheitenstatus': 11084, 'wies': 11085, 'emanzipationsbewegung': 11086, 'schwaechte': 11087, 'herzls': 11088, 'abzuleiten': 11089, 'hinterbliebenenrente': 11090, 'killer': 11091, 'wupper': 11092, 'museeun': 11093, 'irgun': 11094, 'unabhaengigen': 11095, 'propagandaschleudern': 11096, 'nachgang': 11097, 'unterstuetzten': 11098, 'marsch': 11099, 'grossteils': 11100, 'grenzzaun': 11101, 'entfernt': 11102, 'ungewiss': 11103, 'propagandapo': 11104, 'suppo': 11105, 'kmus': 11106, 'client': 11107, 'win': 11108, 'mac': 11109, 'os': 11110, 'android': 11111, 'ios': 11112, 'novell': 11113, 'palette': 11114, 'nds': 11115, 'groupwise': 11116, 'ausgruendung': 11117, 'aipac': 11118, 'washington': 11119, 'institute': 11120, 'outlet': 11121, 'fragwuerdig': 11122, '2x': 11123, 'machwerke': 11124, 'verdreht': 11125, 'unanbhaengig': 11126, 'oesterreichischen': 11127, 'industriellen': 11128, 'angestellt': 11129, 'gewoehnliche': 11130, 'menschenwie': 11131, 'missbrauchenden': 11132, 'hetzerei': 11133, 'funken': 11134, 'hingegen': 11135, 'herrchen': 11136, 'gehaltsscheck': 11137, 'stahl': 11138, 'dealer': 11139, 'erfinder': 11140, 'urvater': 11141, 'jabotinsky': 11142, 'wiederum': 11143, 'revisionistischen': 11144, 'fusst': 11145, 'gruendern': 11146, 'voelkermoerderkumpels': 11147, 'leichensaeften': 11148, 'klump': 11149, 'wiederholende': 11150, 'logorrhoe': 11151, 'faschist': 11152, 'twitterfeed': 11153, 'ablesbar': 11154, 'offensichtlichen': 11155, 'feed': 11156, 'baende': 11157, 'bruahahahahahaha': 11158, 'relativiere': 11159, 'gierige': 11160, 'kriegsgewinnler': 11161, 'futterluke': 11162, 'zahngold': 11163, 'nutzlose': 11164, 'ausgeschlagen': 11165, 'ziemliche': 11166, 'feinen': 11167, 'laendchen': 11168, 'schaebigen': 11169, 'mafioso': 11170, 'mitverdient': 11171, 'abweisen': 11172, 'ausschaffen': 11173, 'internationales': 11174, 'palaestinafrage': 11175, 'lakmustest': 11176, 'wichtigere': 11177, 'kommunen': 11178, 'breiten': 11179, 'gestaltungsspielraum': 11180, 'gleichheitsgrundsatz': 11181, 'generelle': 11182, 'staedtischen': 11183, 'bds': 11184, 'infoveranstaltungen': 11185, 'vermieten': 11186, 'zusammenstellen': 11187, 'erkenntnisse': 11188, 'kleinrechnen': 11189, 'mythos': 11190, 'plattformen': 11191, 'mediathek': 11192, '500': 11193, 'mb': 11194, 'imaginaere': 11195, 'anbeten': 11196, 'religionskranken': 11197, 'tasche': 11198, 'priester': 11199, 'durchfuettern': 11200, 'mitmenschen': 11201, 'versetzt': 11202, 'wellen': 11203, 'halbinsel': 11204, 'nomaden': 11205, 'etymologisch': 11206, 'proto': 11207, 'abr': 11208, 'umherziehend': 11209, 'nomadisch': 11210, 'byzantiner': 11211, 'uebernahmen': 11212, 'zwangen': 11213, 'konversion': 11214, 'traten': 11215, 'muslimischen': 11216, 'phantasiefigur': 11217, 'mickey': 11218, 'mouse': 11219, 'literarische': 11220, 'figur': 11221, 'legenden': 11222, 'zusammengefasst': 11223, 'juristisch': 11224, 'ladungsfaehige': 11225, 'feig': 11226, 'realnamen': 11227, 'einhaltung': 11228, 'sigmargabriel': 11229, 'ehemalige': 11230, 'kriegsverbrecher': 11231, 'kriegsverbrechen': 11232, 'angehoe': 11233, 'beschoenigt': 11234, 'strafgerichtshof': 11235, 'feigsten': 11236, 'propagandafuzzi': 11237, 'voelkermoerderkolonie': 11238, 'geraubten': 11239, 'ethnisch': 11240, 'gesaeube': 11241, 'taugt': 11242, 'toilettenpapier': 11243, 'flauschig': 11244, 'verschwoerungstheorie': 11245, 'querfront': 11246, 'erklaere': 11247, 'losern': 11248, 'durchgefuette': 11249, 'pummeliger': 11250, 'stop': 11251, 'kriegsbegeiste': 11252, 'hohlkoerper': 11253, 'spezialexpe': 11254, 'voelkerrechtlichen': 11255, 'bubi': 11256, 'abseits': 11257, 'alsluegner': 11258, 'verleumdungen': 11259, 'unwidersprochen': 11260, 'sympathien': 11261, 'fahnen': 11262, 'getuschelt': 11263, 'ansage': 11264, 'ausgangstweet': 11265, 'randberlin': 11266, 'crystal': 11267, 'rumschlagen': 11268, 'merkava': 11269, 'joke': 11270, 'ideale': 11271, 'wirds': 11272, 'fuege': 11273, 'pikachu': 11274, 'teils': 11275, 'siri': 11276, 'egb': 11277, 'antigerman': 11278, 'audioporn': 11279, 'definition': 11280, 'ironischer': 11281, 'ueberspitzung': 11282, 'fischerhut': 11283, 'tragender': 11284, 'minderjaehriger': 11285, 'druffi': 11286, 'pep': 11287, 'davidsternline': 11288, 'bibi': 11289, 'rotzt': 11290, 'egotronic': 11291, 'rr': 11292, 'finds': 11293, 'qualifilter': 11294, 'droehnung': 11295, 'mitzubekommen': 11296, 'spuelt': 11297, 'pleeeeaseee': 11298, 'gimme': 11299, 'sponge': 11300, 'emojis': 11301, 'bedrohen': 11302, 'beschatten': 11303, 'zusammengetreten': 11304, 'wirst': 11305, 'durchschmor': 11306, 'rotz': 11307, 'hinknallst': 11308, 'hts': 11309, '1312': 11310, 'jajaja': 11311, 'bete': 11312, 'heldengeschichte': 11313, 'romantische': 11314, 'kopp': 11315, 'verstaubter': 11316, 'moleunit': 11317, 'haesslicheren': 11318, 'klamotten': 11319, 'feeling': 11320, '90ern': 11321, 'szenegossip': 11322, 'riesige': 11323, 'verdammten': 11324, 'dullis': 11325, 'hauptfeind': 11326, 'rechtsoffenen': 11327, 'verwicklung': 11328, 'strasseristen': 11329, 'areas': 11330, 'ausruft': 11331, 'politischem': 11332, 'mitstreiter': 11333, 'dogmatismus': 11334, 'antikommunisten': 11335, 'totzuschlagen': 11336, 'schuetzenswe': 11337, 'mmn': 11338, 'losgeloest': 11339, 'rechtsoffene': 11340, 'geringste': 11341, 'netflix': 11342, 'bescherung': 11343, 'keinetheorie': 11344, 'reflexhaften': 11345, 'solidarisierung': 11346, 'schlaegern': 11347, 'schmocks': 11348, 'schaedel': 11349, 'schlaegersekte': 11350, 'neukoelln': 11351, 'razzt': 11352, 'bier': 11353, 'springerpresse': 11354, 'sellnerstimme': 11355, 'rausfinden': 11356, 'pah': 11357, 'orgen': 11358, 'podse': 11359, 'tststs': 11360, 'ff': 11361, 'maos': 11362, 'verpasst': 11363, 'mutigen': 11364, 'beschissene': 11365, 'aufzuheben': 11366, 'trolle': 11367, 'fundifreaks': 11368, 'september': 11369, 'guenstigste': 11370, 'staubsaugt': 11371, 'ordnungswahn': 11372, 'quintessenz': 11373, 'sowwy': 11374, 'homofeindliche': 11375, 'diktaturen': 11376, 'klerikalfaschismus': 11377, 'tm': 11378, 'bauchlinks': 11379, 'cns': 11380, 'kommentieren': 11381, 'moralischen': 11382, 'haeng': 11383, 'wache': 11384, 'kennts': 11385, 'vollkommene': 11386, 'postmoderne': 11387, 'droenung': 11388, 'abbekommen': 11389, 'lungenentzuendung': 11390, 'beinen': 11391, 'dit': 11392, 'khavaii2': 11393, 'bring': 11394, 'nachtrag': 11395, 'sachliche': 11396, 'analytische': 11397, 'aussicht': 11398, 'saekularisation': 11399, 'patriarchalen': 11400, 'queerfeindlichkeit': 11401, 'passdeutsche': 11402, 'fremd': 11403, 'faschoperspektive': 11404, 'anschlaegen': 11405, 'infrage': 11406, 'mechanismen': 11407, 'radikalisierung': 11408, 'strasbourg': 11409, 'deummdeutsche': 11410, 'voelkische': 11411, 'neurechten': 11412, 'ethnopluralisten': 11413, 'lieb': 11414, 'nit': 11415, 'chats': 11416, 'ottos': 11417, 'sueszling': 11418, 'bierernst': 11419, 'umschreibung': 11420, 'irrational': 11421, 'pointie': 11422, 'postmodernen': 11423, 'umzudefinieren': 11424, 'erhebe': 11425, 'vollstaendigkeit': 11426, 'sauer': 11427, 'aufstossen': 11428, 'elementar': 11429, 'scheuklappen': 11430, 'oberflaechlich': 11431, 'israelsolidarischen': 11432, 'schein': 11433, 'rausnimmt': 11434, 'missy': 11435, 'laecherlichkeit': 11436, 'rifft': 11437, 'stundenlang': 11438, 'schwester': 11439, 'chello': 11440, 'oha': 11441, 'halle': 11442, 'provinzfaschos': 11443, 'begruesst': 11444, 'station': 11445, 'sone': 11446, 'belasto': 11447, 'normie': 11448, 'friends': 11449, 'insta': 11450, 'markieren': 11451, 'dms': 11452, 'therealwildid': 11453, 'ergab': 11454, 'anzeigen': 11455, 'rausdefinieren': 11456, 'undemokratisch': 11457, 'nichdesoziologe': 11458, 'oida': 11459, 'song': 11460, '8bit': 11461, 'mix': 11462, 'eskalie': 11463, 'arbeitsverweigerung': 11464, 'gedachtes': 11465, 'ideal': 11466, 'attitude': 11467, 'want': 11468, 'christmas': 11469, '129a': 11470, 'gegrilltebanane': 11471, 'wisst': 11472, 'retweetet': 11473, 'turn': 11474, 'festzumachen': 11475, 'durchsetzt': 11476, 'planlosigkeit': 11477, 'kippt': 11478, 'gefestigten': 11479, 'dynamiken': 11480, 'instabil': 11481, 'revolten': 11482, 'entlaed': 11483, 'geballte': 11484, 'volkszorn': 11485, 'akt': 11486, 'regression': 11487, 'ausa': 11488, 'grind': 11489, 'ilumiriel': 11490, 'riesengurke': 11491, 'punk': 11492, 'dosenbier': 11493, 'tiefkuehlbaguette': 11494, 'sehs': 11495, 'bildlich': 11496, 'ak47': 11497, 'geschenk': 11498, 'nacher': 11499, 'geb': 11500, 'uebersetzer': 11501, 'tow': 11502, 'jafa': 11503, 'argh': 11504, 'jom': 11505, 'scheshi': 11506, 'ghostuser': 11507, 'mentioneskalation': 11508, 'universellen': 11509, 'freiheitsgedanken': 11510, 'uralt': 11511, 'kommis': 11512, 'angefeindet': 11513, 'trolling': 11514, 'trotzreflex': 11515, '420rheisterkamp': 11516, 'wahrnehme': 11517, 'restdeutschland': 11518, 'darzustellen': 11519, 'angriffsflaeche': 11520, 'barbarisch': 11521, 'dorfgemeinschaften': 11522, 'sinnbild': 11523, 'westlicher': 11524, 'freiheitlicher': 11525, 'staatlicher': 11526, 'zwang': 11527, 'indoktrination': 11528, 'machtmechanismen': 11529, 'traegerinnen': 11530, 'muslima': 11531, 'zutage': 11532, 'kanada': 11533, 'mclefti': 11534, 'lea': 11535, 'chiara': 11536, 'angehustet': 11537, 'hedonismus': 11538, 'einschuechternd': 11539, 'ekelhafte': 11540, 'wiesen': 11541, 'kuhdung': 11542, 'volksmusik': 11543, 'festhaengen': 11544, 'kastrationskomplex': 11545, 'antid': 11546, 'durstbubble': 11547, 'nervig': 11548, 'gebs': 11549, 'ausgewachsener': 11550, 'beziehungsmodelle': 11551, 'cringe': 11552, 'dont': 11553, 'baftakush': 11554, 'reflektieren': 11555, 'maybe': 11556, 'tattoo': 11557, 'fyi': 11558, 'kommibubble': 11559, 'trichter': 11560, 'gestolpe': 11561, 'arroganz': 11562, 'groesstes': 11563, 'freitags': 11564, 'umschweife': 11565, 'buhlt': 11566, 'ally': 11567, 'siffschaften': 11568, 'zwischend': 11569, 'vorallem': 11570, 'herausreden': 11571, 'ohh': 11572, 'kunstfreiheit': 11573, 'erschaffene': 11574, 'greif': 11575, 'vereinfachten': 11576, 'falsvh': 11577, 'gehabe': 11578, 'abfuckt': 11579, 'szenepolizei': 11580, 'road': 11581, 'missglueckte': 11582, 'shocky': 11583, 'tattoos': 11584, 'buehne': 11585, 'runtergebuht': 11586, 'gekraenkten': 11587, 'swiss': 11588, 'einrennen': 11589, 'ankommt': 11590, 'besiegt': 11591, '0001f624': 11592, 'grinch': 11593, 'austreiben': 11594, 'oschersleben': 11595, 'sonem': 11596, 'kaff': 11597, 'ueberlege': 11598, 'weihnachtsbaum': 11599, 'hinzustellen': 11600, 'vanillekipferl': 11601, 'weihnachtsstimmung': 11602, 'backen': 11603, 'haten': 11604, '30ern': 11605, 'durften': 11606, 'einschnitte': 11607, 'verbuessen': 11608, 'gittern': 11609, 'retweets': 11610, 'baller': 11611, 'primetime': 11612, 'hehehe': 11613, 'verpasse': 11614, 'flexen': 11615, 'sturmhaube': 11616, 'profilbild': 11617, 'freak': 11618, 'rumkrakelst': 11619, 'hervorbringst': 11620, 'neee': 11621, 'vorwuerfe': 11622, 'zutreffen': 11623, 'arbeitsdefinition': 11624, 'wend': 11625, 'boi': 11626, 'kritisiere': 11627, 'identitaetspolitik': 11628, 'defma': 11629, 'auswuechse': 11630, 'aneinander': 11631, 'dahingestellt': 11632, 'obsessives': 11633, 'emoji': 11634, 'drueberkommentieren': 11635, 'stumpfes': 11636, 'anpoebeln': 11637, 'auftreten': 11638, 'abstossend': 11639, 'anmachen': 11640, 'zusammenpastest': 11641, 'gemeine': 11642, 'elendsgestalt': 11643, 'barbarei': 11644, 'einbaut': 11645, 'treffende': 11646, 'gesellschaftskritik': 11647, 'elendsgestalten': 11648, 'ironie': 11649, 'metapher': 11650, 'entdecke': 11651, 'berechtigten': 11652, 'hype': 11653, 'lehren': 11654, 'huelsen': 11655, 'geringen': 11656, 'sachverstand': 11657, 'haelst': 11658, 'karikatur': 11659, 'buxdragon': 11660, 'beruht': 11661, 'stereotypen': 11662, 'geifernden': 11663, 'machthungrigen': 11664, 'imperialistischen': 11665, 'amerikas': 11666, 'bestehst': 11667, 'definitionsmacht': 11668, 'haltlose': 11669, 'analytisch': 11670, 'totaler': 11671, 'schwammig': 11672, 'angreifst': 11673, 'imagination': 11674, 'buergerliches': 11675, 'verbauen': 11676, 'schwarzjacken': 11677, 'bloc': 11678, 'zarkojank': 11679, 'optimist': 11680, 'woran': 11681, 'unfair': 11682, 'kontraproduktiv': 11683, 'polemisch': 11684, 'wehtut': 11685, 'reflexion': 11686, 'ausloest': 11687, 'emanzipatorischen': 11688, 'foerde': 11689, 'gegeie': 11690, 'vollmachen': 11691, 'wollt': 11692, 'sputnikschlaeft': 11693, 'wokebubble': 11694, 'amilinke': 11695, 'antiamerikanismus': 11696, 'froenen': 11697, 'erlogen': 11698, 'intersektionale': 11699, 'race': 11700, 'zuzurechnen': 11701, 'monatelang': 11702, 'packen': 11703, 'faden': 11704, 'thematik': 11705, 'abriss': 11706, 'standpunkt': 11707, 'empfinde': 11708, 'front': 11709, 'intention': 11710, 'vorangestellten': 11711, 'konditionalsatz': 11712, 'klaro': 11713, 'gucj': 11714, 'stuff': 11715, 'vllt': 11716, 'hol': 11717, 'verschenk': 11718, 'polos': 11719, 'sales': 11720, 'mancgmal': 11721, '10er': 11722, 'goenne': 11723, 'eroeffnest': 11724, 'anschuldigungen': 11725, 'widerspruechlich': 11726, 'theoriemacker': 11727, 'bornie': 11728, 'heit': 11729, 'aufwand': 11730, 'laecherliches': 11731, 'mitzuspielen': 11732, 'autoren': 11733, 'dorn': 11734, 'ausgerechnet': 11735, 'gehangen': 11736, 'durchgefavt': 11737, 'carolin161': 11738, 'weltweite': 11739, 'postmodern': 11740, 'israelkritik': 11741, 'absturz': 11742, 'blauen': 11743, 'haken': 11744, 'plaerst': 11745, 'dad': 11746, 'terrorsympathisant': 11747, 'autoritaer': 11748, 'klerikalen': 11749, 'terrorgruppen': 11750, 'palaestinensischen': 11751, 'gebieten': 11752, 'lobgepriesen': 11753, 'revolutionaere': 11754, 'antisemitusmus': 11755, 'korrekter': 11756, 'betttag': 11757, 'moegt': 11758, '2t': 11759, 'kokaxcola': 11760, 'notlike211': 11761, 'subkultur': 11762, 'bbyfrkmcgzx': 11763, 'pfeife': 11764, 'franknulljaeger': 11765, 'druecke': 11766, 'verpiss': 11767, 'ueberspitzter': 11768, 'community': 11769, 'angreife': 11770, 'solidarisch': 11771, 'bruessel': 11772, 'banditen': 11773, 'jagen': 11774, 'schimp': 11775, 'marcusenge': 11776, 'eignung': 11777, 'gewand': 11778, 'hohn': 11779, 'manikue': 11780, 'fingerchen': 11781, 'systemhuren': 11782, 'kalleskoppel': 11783, 'gefaehrliche': 11784, 'schaltzentralen': 11785, 'kreaturen': 11786, 'staedten': 11787, 'neumuenster': 11788, 'oliversenst': 11789, 'zynischer': 11790, 'gebrauchen': 11791, 'heuchlerische': 11792, 'volkerschanze': 11793, 'totlachen': 11794, 'veranstalter': 11795, 'frauenschlaeger': 11796, 'kinderfickende': 11797, 'ehemaenner': 11798, 'enthaupter': 11799, 'ghost': 11800, 'writer': 11801, 'dfakenews': 11802, 'crux': 11803, 'vogelschiss': 11804, 'lucalun44954404': 11805, 'susanne': 11806, 'obdachlose': 11807, 'linksextrem': 11808, 'asozialitaet': 11809, 'mantel': 11810, 'singewald': 11811, 'traut': 11812, 'dramatischer': 11813, 'gurgel': 11814, 'loewenherz': 11815, 'auswahlverfahren': 11816, 'easy': 11817, 'maaslein': 11818, 'brennpunkte': 11819, 'vlt': 11820, 'auslaendischen': 11821, 'bau': 11822, 'gleichschaltung': 11823, 'aufnachvorne': 11824, 'ueberaus': 11825, 'kluengelei': 11826, 'bedrohungen': 11827, 'minderjaehrige': 11828, 'buben': 11829, 'uebernachten': 11830, 'alk': 11831, 'inschulz': 11832, 'schwaetzer': 11833, 'vorrangig': 11834, 'tobt': 11835, 'gewordener': 11836, 'nichtbestrafungen': 11837, 'motivie': 11838, 'verabscheuen': 11839, 'jotka26': 11840, 'urheber': 11841, 'angelo': 11842, 'tausend': 11843, 'enttarnt': 11844, 'gefaehrdet': 11845, 'lenkrad': 11846, 'bissspuren': 11847, 'meldung': 11848, 'autofah': 11849, 'lauterclown': 11850, 'qualifikationen': 11851, 'raub': 11852, 'hinterhaeltigen': 11853, 'arbeitsunfaehig': 11854, 'unwillige': 11855, 'buzzfeednewsde': 11856, 'ich2es': 11857, 'sofern': 11858, 'toedlich': 11859, 'schreienden': 11860, 'mussten': 11861, 'oberlehrer': 11862, 'manipulations': 11863, 'bejubelt': 11864, 'peacecakex': 11865, 'nazihorden': 11866, 'sichere': 11867, 'unaufhaltbar': 11868, 'enkeln': 11869, 'geweh': 11870, 'marktzyniker': 11871, 'zufaellige': 11872, 'herzattacke': 11873, 'todesangst': 11874, 'wildgewordene': 11875, 'getrampelt': 11876, 'redaktionen': 11877, 'gestuermt': 11878, 'fakes': 11879, 'eingeholt': 11880, 'trauerfeier': 11881, 'generalschlacht': 11882, 'terminieren': 11883, 'antifotzen': 11884, 'patrioten': 11885, 'anstand': 11886, 'gemischt': 11887, 'regelrecht': 11888, 'ers': 11889, 'teilnehmern': 11890, 'beschaedigungen': 11891, 'jued': 11892, 'ruhetag': 11893, 'skandale': 11894, 'fingie': 11895, 'grausam': 11896, 'entzuendet': 11897, 'gekeh': 11898, 'weismachen': 11899, 'beweisaufnahme': 11900, 'keinerlei': 11901, 'pressemeldung': 11902, 'ausgeschlachtet': 11903, 'potentielle': 11904, 'wirsindmehropfer': 11905, 'phillip': 11906, 'balt': 11907, '99bluemarlin': 11908, 'lichtgestalten': 11909, 'haenderingend': 11910, 'gesucht': 11911, 'ganzer': 11912, 'laenge': 11913, 'beleidigung': 11914, 'verfolgungsjagd': 11915, 'proll': 11916, 'idiot': 11917, 'werbepferd': 11918, 'fraukepetry': 11919, 'mpkretschmer': 11920, 'videoaufnahmen': 11921, 'keinem': 11922, 'nihilinietzsche': 11923, 'ignorantes': 11924, 'beutelchenbaer': 11925, 'mirkoslatarow': 11926, 'bundestagsfraktion': 11927, 'spiegelt': 11928, 'kontraer': 11929, 'zivilversagern': 11930, 'umgekommen': 11931, 'beantwo': 11932, '367': 11933, 'gekillt': 11934, 'bka': 11935, 'mordes': 11936, 'mantra': 11937, 'alu': 11938, 'lovemytropical': 11939, 'mequoh': 11940, 'aufwachen': 11941, 'vorgeht': 11942, 'uebergreift': 11943, 'messermord': 11944, 'raute': 11945, 'aufzuhalten': 11946, 'assetskater72': 11947, 'prachtexemplar': 11948, 'hasserfuellte': 11949, 'massaker': 11950, 'heuchlerisches': 11951, 'bleibst': 11952, 'googlede': 11953, 'coca': 11954, 'trittbrett': 11955, 'aufspringen': 11956, 'quittung': 11957, 'getilgt': 11958, 'vergangene': 11959, 'zukuenftige': 11960, 'streetcoverage': 11961, 'wahnsinnsgedraenge': 11962, 'stampede': 11963, 'geilen': 11964, 'aerztlichen': 11965, 'beistand': 11966, 'naziwahn': 11967, 'psychose': 11968, 'horror': 11969, 'fantasien': 11970, 'unvermeidliche': 11971, 'restle': 11972, 'strohhalme': 11973, 'panisch': 11974, 'ergriffen': 11975, 'zweiten': 11976, 'angegriffener': 11977, 'asylant': 11978, 'irrenhaus': 11979, 'wismar': 11980, 'chemnitzderanfang': 11981, 'notte': 11982, 'magna': 11983, 'stirn': 11984, 'rosenkranz': 11985, 'schutt': 11986, 'relativierer': 11987, 'ran': 11988, 'zoomen': 11989, 'gehirnebene': 11990, 'messermorde': 11991, 'vergewaltigungen': 11992, 'unterbinden': 11993, 'isabelschayani': 11994, 'fundbuero': 11995, 'georgdiez1': 11996, 'verachtet': 11997, 'ihresgleichen': 11998, 'rennen': 11999, 'nittom': 12000, 'djuhmha': 12001, 'abgesetzt': 12002, 'schimpf': 12003, 'aufrechte': 12004, 'pickelgesichter': 12005, 'beginn': 12006, 'lekwink': 12007, 'messerstecherei': 12008, 'kontrahenten': 12009, '25': 12010, 'einstechen': 12011, 'aufschlitzen': 12012, 'nationalitaeten': 12013, 'mutige': 12014, 'traurigen': 12015, 'positiven': 12016, 'mmmhh': 12017, 'bannern': 12018, 'grundgesetzes': 12019, 'warze': 12020, 'lkasachsen': 12021, 'otschihorst': 12022, 'aufregung': 12023, 'marcfelixserrao': 12024, 'nzz': 12025, 'pimpf': 12026, 'groessenwahnsinnig': 12027, 'zwerge': 12028, 'arroganten': 12029, 'duktus': 12030, 'hochverrat': 12031, 'jeher': 12032, 'drastisch': 12033, 'zerrissen': 12034, 'rauenswuerdig': 12035, 'speichelleckende': 12036, 'trittbrettfahrerin': 12037, 'billiger': 12038, 'terrasse': 12039, 'hanf': 12040, 'pflanze': 12041, 'background': 12042, 'jrvssr': 12043, 'verkackter': 12044, 'kannibalen': 12045, 'kochtopf': 12046, 'ekelhaftes': 12047, 'heuchlerpack': 12048, 'stimmenfang': 12049, 'manipulation': 12050, 'paederasten': 12051, 'deutschlandfeinde': 12052, 'tierfeinde': 12053, 'vegan': 12054, 'veggie': 12055, 'amoklauf': 12056, 'durchzieht': 12057, 'dufte': 12058, 'verdaechtigte': 12059, 'transvestie': 12060, 'gepackt': 12061, 'massenmanipulatation': 12062, 'via': 12063, 'koecher': 12064, 'anschauungsunterricht': 12065, 'brandgefaehrlich': 12066, 'pays': 12067, 'feinerlumpi': 12068, 'abdul': 12069, 'prozessende': 12070, 'freigelassen': 12071, 'rottelter': 12072, 'blubb': 12073, 'thomasknorra': 12074, 'r1chtungsweiser': 12075, 'unbegreiflich': 12076, 'kuenftiges': 12077, 'gewaltregime': 12078, 'grenzenlose': 12079, 'naivitaet': 12080, 'ratschlaege': 12081, 'stricher': 12082, 'schwachmat': 12083, 'ansehnliche': 12084, '37jaehrige': 12085, 'poppen': 12086, 'schweigegeld': 12087, 'traumatisie': 12088, 'mathe': 12089, 'ausfindig': 12090, 'saustall': 12091, 'manipulationsopfer': 12092, 'spriesse': 12093, 'unkraut': 12094, 'offener': 12095, 'niedergemetzelt': 12096, 'ueberpropo': 12097, 'ional': 12098, 'marschieren': 12099, 'vors': 12100, 'entheben': 12101, 'rkill': 12102, 'amtes': 12103, 'naht': 12104, 'grausame': 12105, 'vorenthalten': 12106, 'transparente': 12107, 'tragetasche': 12108, 'naivlinge': 12109, 'blind': 12110, 'taub': 12111, 'schwachsinnig': 12112, 'guntera56': 12113, 'bekennen': 12114, 'hexenjagd': 12115, 'redakteure': 12116, 'einstreuen': 12117, 'merkt': 12118, 'bacho': 12119, 'naturgesetz': 12120, 'selbstentlarvung': 12121, 'allerersten': 12122, 'posts': 12123, 'zugewande': 12124, 'volksgruppen': 12125, 'toetungsdelike': 12126, 'mitbuerger': 12127, 'aktivistinnen': 12128, 'rundumschlag': 12129, 'virales': 12130, 'falschem': 12131, 'fraeulein': 12132, 'tessa': 12133, 'klassisches': 12134, 'whopullsthe': 12135, 'initiatoren': 12136, 'lauthals': 12137, 'heuer': 12138, 'karinazurich': 12139, 'ect': 12140, 'degenerie': 12141, 'harmlos': 12142, 'verblendete': 12143, 'schwachsinnige': 12144, 'weibische': 12145, 'wohlstands': 12146, 'kapselzerrung': 12147, 'zuziehen': 12148, 'volldepp': 12149, 'kritisierst': 12150, 'sauerstoff': 12151, 'verbrauchst': 12152, 'voellige': 12153, 'verschwendung': 12154, 'mitfuehlenden': 12155, 'afr': 12156, 'warnung': 12157, 'unsere': 12158, 'berichtige': 12159, 'kroos': 12160, 'einschiessen': 12161, 'gunst': 12162, 'toni': 12163, 'offenburg': 12164, 'gerede': 12165, 'hirne': 12166, 'jahrelange': 12167, 'jammerer': 12168, 'betrueger': 12169, 'tendiere': 12170, 'defektem': 12171, 'apfel': 12172, 'aufkleber': 12173, 'shananjanie': 12174, 'manipulativ': 12175, 'dialyse': 12176, 'redaktionfp': 12177, 'religoese': 12178, 'feststehen': 12179, 'religionszugehoerigkeit': 12180, 'procedure': 12181, 'argonerd': 12182, 'ganja': 12183, 'stoned': 12184, 'kreieren': 12185, 'geheilt': 12186, 'supidupi': 12187, 'netzfall': 12188, 'explodierende': 12189, 'uebergriffen': 12190, 'ruecklaeufige': 12191, 'nikolasloebel': 12192, 'eisberges': 12193, 'cojones': 12194, 'commieeater': 12195, 'osmanische': 12196, 'rassistische': 12197, 'blonder': 12198, 'ruebenhorst': 12199, 'gesichtsausdruck': 12200, 'inzest': 12201, 'vorbildliche': 12202, 'angesehen': 12203, 'haifischbecken': 12204, 'takatukaland': 12205, 'fem': 12206, 'einhoerner': 12207, 'profilen': 12208, 'gescheites': 12209, 'schwadronieren': 12210, 'normalistcool': 12211, 'flieger59googl1': 12212, 'lebenden': 12213, 'amtssprache': 12214, 'karlaknows': 12215, 'ungunsten': 12216, 'superduper': 12217, 'dpolghh': 12218, 'gagaberlin': 12219, 'putzelchen': 12220, 'spital': 12221, 'hauptsacheairbnb': 12222, 'der77jahreopaansprechpa': 12223, 'nerdigitalisierung': 12224, 'relevantethemenausgegrenzt': 12225, 'kimjongwaldepropaganda': 12226, 'shameonyouwalde': 12227, 'teppichhaendler': 12228, 'berufsopfer': 12229, 'einzeller': 12230, 'amoeben': 12231, 'hurensoehne': 12232, 'sixxer': 12233, 'freifick': 12234, 'kretins': 12235, 'bastarde': 12236, 'lack': 12237, 'saufen': 12238, 'weltverbesserern': 12239, 'duennschiss': 12240, 'schwangerer': 12241, 'serios': 12242, 'generoes': 12243, 'schweinereien': 12244, 'kiefer': 12245, 'poebler': 12246, 'wixxer': 12247, 'berufsempoe': 12248, 'tendie': 12249, 'ignorie': 12250, 'aah': 12251, 'volkserzieher': 12252, 'heinis': 12253, 'muschis': 12254, 'walde': 12255, 'stoerer': 12256, 'einstudie': 12257, 'bestellung': 12258, 'entlarvt': 12259, 'dringlichste': 12260, 'lemminge': 12261, 'enden': 12262, 'schaemst': 12263, 'mannheimer': 12264, 'glatteis': 12265, 'headlines': 12266, 'gewaltverbrechen': 12267, 'delikte': 12268, 'telefonbetrug': 12269, 'z4': 12270, 'rekordniveau': 12271, 'langzeitarbeitslose': 12272, 'erwaehnenswe': 12273, 'gefanken': 12274, 'mietwohnungen': 12275, 'kokolores20': 12276, 'koerperfressern': 12277, 'bt': 12278, 'ohrfeige': 12279, 'mia': 12280, 'san': 12281, 'vermisste': 12282, 'frauschmauke': 12283, 'wuenschst': 12284, 'maennerhassende': 12285, 'idiotin': 12286, 'reibungen': 12287, 'bilbuha': 12288, 'drehbuch': 12289, 'wiedergibt': 12290, 'quentin': 12291, 'kreativitaet': 12292, 'kill': 12293, 'bill': 12294, 'lsd': 12295, 'chapter0': 12296, 'asexuelleraltmaier2': 12297, 'realitaetsferne': 12298, 'verpulvern': 12299, 'pampers': 12300, 'hosenscheisser': 12301, 'absurdistan': 12302, 'danielboecking': 12303, 'abzusondern': 12304, 'kretin': 12305, 'uebelster': 12306, 'menschenschlag': 12307, 'matthiasmeisner': 12308, 'paare': 12309, 'geheiratet': 12310, 'einsperren': 12311, 'knechtet': 12312, 'brandmarkt': 12313, 'misogyn': 12314, 'abfaellig': 12315, 'allgemeinheit': 12316, 'insbesonder': 12317, 'erwachsen': 12318, 'provozierst': 12319, 'drehst': 12320, 'verpack': 12321, 'tueten': 12322, 'niemandem': 12323, 'vorschreiben': 12324, 'hinzuschauen': 12325, 'zeitverschwendung': 12326, 'matador': 12327, 'superfrau': 12328, 'hammerbruesten': 12329, 'edit': 12330, 'frauenhasser': 12331, 'behande': 12332, 'gentleman': 12333, 'trage': 12334, 'haenden': 12335, 'hirngefickten': 12336, 'hassenden': 12337, 'geschlechtern': 12338, 'verquirlten': 12339, 'dinger': 12340, 'verstehst': 12341, 'belaestigst': 12342, 'wackeln': 12343, 'takt': 12344, 'wunderschoener': 12345, 'moechten': 12346, 'engen': 12347, 'hosen': 12348, 'adern': 12349, 'irgendwelchen': 12350, 'kerlen': 12351, 'blickfeld': 12352, 'angeschaut': 12353, 'phopie': 12354, 'pechgehabt': 12355, 'schoenebrueste': 12356, 'gemaecht': 12357, 'rumwackelt': 12358, 'blanken': 12359, 'shi': 12360, 'krankeideologie': 12361, 'schussnichtgehoe': 12362, 'entlarven': 12363, 'koestlich': 12364, 'schwaenze': 12365, 'haesslich': 12366, 'hairyschnuffelduffelheavenly': 12367, 'mandarinenmaedchen': 12368, 'louikatharina': 12369, 'freddiealt': 12370, 'daemlichkeit': 12371, 'damen': 12372, 'antifaschistische': 12373, 'feme': 12374, 'treff': 12375, 'behaa': 12376, 'femenopfern': 12377, 'zeige': 12378, 'hairy': 12379, 'empoeren': 12380, 'blicke': 12381, 'wohlgeformte': 12382, 'brust': 12383, 'bekleidet': 12384, 'bh': 12385, 'ignorieren': 12386, 'hellen': 12387, 'radlerhosen': 12388, 'jil': 12389, 'nicole': 12390, 'gil': 12391, 'bm': 12392, 'wahrheiten': 12393, 'menschaffe2': 12394, 'dystopia': 12395, 'maerchenlandschaft': 12396, 'kampfgeist': 12397, 'kratzbuerstigkeit': 12398, 'wunderbaren': 12399, '0001f600': 12400, 'adhs': 12401, 'quadrat': 12402, 'sosmedgermany': 12403, 'luftpumpe': 12404, 'geretteter': 12405, 'schaendliche': 12406, 'begeht': 12407, 'superheld': 12408, 'grossspuriger': 12409, 'wahnvorstellungen': 12410, 'ohren': 12411, 'zerstoerer': 12412, 'uninfomie': 12413, 'uninformie': 12414, 'wahlergebnisse': 12415, 'mo19rabie': 12416, 'schueren': 12417, 'traktor': 12418, 'nazisueberall': 12419, 'erdrandbewohner': 12420, 'honk': 12421, 'arbeitsfaehig': 12422, 'willig': 12423, 'zeigten': 12424, 'babsi777': 12425, 'stephanushh': 12426, 'homasbruns': 12427, 'mitschwimmen': 12428, 'rattenkopf24': 12429, 'armselige': 12430, 'schwaechlinge': 12431, 'menschengestalt': 12432, 'traeumer': 12433, 'bekehren': 12434, 'mitschuld': 12435, 'rast': 12436, 'abruecken': 12437, 'fraulein': 12438, 'antje': 12439, 'killary': 12440, 'innere': 12441, 'utawie': 12442, 'lesestoff1': 12443, 'trinchen312': 12444, 'ungelernte': 12445, 'roth': 12446, 'allgemeinen': 12447, 'gasmann': 12448, 'fiktiver': 12449, 'juncker': 12450, 'kuesst': 12451, 'abschied': 12452, 'zunge': 12453, 'verschluckt': 12454, 'gebiss': 12455, 'anschliessend': 12456, 'saeuft': 12457, 'koenigreich': 12458, 'v2': 12459, 'atlantikwall': 12460, 'betrieb': 12461, 'teutonis52': 12462, 'breaking': 12463, 'pferde': 12464, 'wiehern': 12465, 'abgenommen': 12466, 'telefonhoerer': 12467, 'bip': 12468, 'dienstag': 12469, 'aufgefallen': 12470, 'abtreibungsdebatte': 12471, '219': 12472, 'zumeist': 12473, 'schwangerschaft': 12474, 'bogen': 12475, 'frauzopf': 12476, 'dystopianb': 12477, 'heroisch': 12478, '0001f60c': 12479, 'deckmaentelchen': 12480, 'lief': 12481, 'unverschaemtheit': 12482, 'diplomatisch': 12483, 'regie': 12484, 'machwerk': 12485, 'igste': 12486, 'krimi': 12487, 'frechheit': 12488, 'umerziehungs': 12489, 'leiter': 12490, 'auslaenderbehoerde': 12491, 'stasimethoden': 12492, 'anwendet': 12493, 'aufspue': 12494, 'oo7': 12495, 'kathaschulze': 12496, 'snowcrash729': 12497, 'dushanwegner': 12498, 'kannstedirnichtausdenken': 12499, 'vorangeht': 12500, 'fahrverbote': 12501, 'erfundener': 12502, 'nox': 12503, 'allerbeste': 12504, 'schlaf': 12505, '2038': 12506, 'strom': 12507, 'braunkohle': 12508, 'neueste': 12509, 'clou': 12510, 'flugreisenlimitierung': 12511, 'normalverbraucher': 12512, 'gretchen': 12513, 'doppeldingsbums': 12514, 'liebreizende': 12515, 'grazie': 12516, 'uckermark': 12517, 'unermesslichen': 12518, 'ratschluss': 12519, 'betoe': 12520, 'dranbleiben': 12521, 'selimabubakr': 12522, 'bruda': 12523, 'aleppo': 12524, 'aussehen': 12525, 'fluechtender': 12526, 'abubakr': 12527, 'clan': 12528, 'inshallah': 12529, 'ngo': 12530, 'schiffbruechige': 12531, 'feinstaubgrenzwe': 12532, 'debattieren': 12533, '1600': 12534, 'arbeitsmarkt': 12535, 'eysvog3l': 12536, 'mittelmeerroute': 12537, 'balkanroute': 12538, 'hinde': 12539, 'ueberfah': 12540, 'asozialer': 12541, 'fehlender': 12542, 'galacticpatrick': 12543, '89': 12544, 'gepruegelt': 12545, 'wimanders': 12546, 'twitterst': 12547, 'fusspilz': 12548, 'insofern': 12549, 'abba': 12550, '1stkimjongun': 12551, 'schwein': 12552, 'irene97652350': 12553, 'alexiastellar': 12554, 'cantatedominum': 12555, 'aufschlagen': 12556, 'michaelscheune3': 12557, 'geballter': 12558, 'frauenquoten': 12559, 'resthirnbefreiten': 12560, 'labe': 12561, 'aschen': 12562, 'dichtmachen': 12563, 'faktenfinder': 12564, 'geraden': 12565, 'schmackhaft': 12566, 'kommission': 12567, 'diaet': 12568, 'allergiker': 12569, 'steigenden': 12570, 'strompreisen': 12571, 'schnellen': 12572, 'ausstieg': 12573, 'kriegst': 12574, 'teite99': 12575, 'eisberg': 12576, 'rektum': 12577, 'bruellen': 12578, 'mia5573': 12579, 'cornelia': 12580, 'cagol': 12581, 'schickt': 12582, 'arbeitskollege': 12583, 'zweieinhalb': 12584, 'unheilbar': 12585, 'lungenkrebs': 12586, 'erkrankt': 12587, 'hilflosigkeit': 12588, 'zerschredde': 12589, 'lebensentwurf': 12590, 'makulatur': 12591, 'mitheulen': 12592, 'hundebrunomama': 12593, 'hilf': 12594, 'spruenge': 12595, 'malte': 12596, 'genderunentschlossene': 12597, 'pflegte': 12598, 'tombucker': 12599, 'spaten': 12600, '98763': 12601, 'bordesholm': 12602, 'shisha': 12603, 'jauche': 12604, 'gefuellt': 12605, 'laien': 12606, 'abschaetzung': 12607, 'unistischem': 12608, 'ochsen': 12609, 'pflugschar': 12610, 'spannen': 12611, 'schwachmaten': 12612, 'schultern': 12613, 'klopfen': 12614, 'rubymay04322797': 12615, 'guetig': 12616, 'heinrichludger': 12617, 'regnen': 12618, 'netanyahoo': 12619, 'buergt': 12620, 'chronischem': 12621, 'infantilitaetssyndrom': 12622, 'buergen': 12623, 'reser4t': 12624, '123lenchen': 12625, 'echthaa': 12626, 'oupet': 12627, 'karlschneider1': 12628, 'restlaufzeit': 12629, 'goeringeckardt': 12630, 'gruenebundestag': 12631, 'deiner': 12632, 'ihrer': 12633, 'hochachtungsvoll': 12634, 'anschliessen': 12635, 'egon': 12636, 'dorge': 12637, 'erstens': 12638, 'ueberfordern': 12639, 'zweitens': 12640, 'wunderl97628159': 12641, 'isses': 12642, 'katze': 12643, 'sass': 12644, 'gebannt': 12645, 'fernseher': 12646, 'handballspo': 12647, 'mitgefiebe': 12648, 'iberern': 12649, 'aufgezeigt': 12650, 'weinerliche': 12651, 'oezil': 12652, 'pussi': 12653, 'foehnwelle': 12654, 'loew': 12655, 'herzerfrischender': 12656, 'grals': 12657, 'hueter': 12658, 'herrliches': 12659, 'rad': 12660, 'antifaraus': 12661, 'hassrede': 12662, 'verfuegbar': 12663, 'epochtimesde': 12664, 'rueckgefueh': 12665, 'bewerber': 12666, 'realistisches': 12667, '16jaehrige': 12668, 'psychischen': 12669, 'erkrankungen': 12670, 'baer': 12671, 'manege': 12672, 'runterholen': 12673, 'kreiswichsverein': 12674, 'gepflegt': 12675, 'johannesnormann': 12676, 'umwelthilfe': 12677, 'multipel': 12678, 'knochentrocken': 12679, 'durchsage': 12680, 'turbohetzerin': 12681, 'ultrarechten': 12682, 'rand': 12683, 'kohlekommission': 12684, 'entschaedigungen': 12685, 'bruedern': 12686, 'grimm': 12687, 'endsieg': 12688, 'wahrheitsgemaess': 12689, 'gegenueberzustellen': 12690, '162': 12691, 'kontinuierlichem': 12692, 'rueckgang': 12693, 'oberguru55': 12694, 'screenshots': 12695, 'wohlfuehlblase': 12696, 'helheimer': 12697, 'unterschiedlichen': 12698, 'hautfarben': 12699, 'unterschiedlicher': 12700, 'erinnerung': 12701, 'adolfion2x44': 12702, 'dienstags': 12703, 'marvinruebhagen': 12704, 'raser': 12705, 'jungfrau': 12706, 'gebumst': 12707, 'maffay': 12708, 'muraene': 12709, 'muraenien': 12710, 'lippe': 12711, 'fallenden': 12712, 'reise': 12713, 'klapprigen': 12714, 'ford': 12715, 'wuchtbrumme': 12716, 'mendig': 12717, 'staerke': 12718, 'trumpalumpa911': 12719, 'deich': 12720, 'hannoveraner201': 12721, 'aufzeigen2015': 12722, 'laechelt': 12723, 'vielsagend': 12724, 'elmar': 12725, 'fleischgewordene': 12726, 'schlaftablette': 12727, 'zusehen': 12728, 'erbarmen': 12729, 'truthful': 12730, 'german': 12731, 'freundschaftsbesuch': 12732, 'beispielsweise': 12733, 'ardennen': 12734, 'wellejena': 12735, 'unpopulaere': 12736, 'raege': 12737, 'intransparent': 12738, 'weitgehendem': 12739, 'ttip': 12740, 'migrations': 12741, 'fluechtlingspakt': 12742, 'verhasst': 12743, 'drap': 12744, 'rouge': 12745, 'lautlos': 12746, 'dekadenz': 12747, 'stadium': 12748, 'norm': 12749, 'narrenschiff': 12750, 'steue': 12751, 'volldampf': 12752, 'riff': 12753, 'rette': 12754, 'machterhalt': 12755, 'verhassten': 12756, 'juengling': 12757, 'aachen': 12758, 'ausgebuht': 12759, 'laufenden': 12760, 'rueckgabe': 12761, 'elsass': 12762, 'lothringen': 12763, 'oedipus': 12764, 'thomasraue': 12765, 'hollaendischer': 12766, 'ukw11': 12767, 'mitsingen': 12768, 'puls': 12769, 'handball': 12770, 'geguckt': 12771, 'fuereinander': 12772, 'lustlose': 12773, 'bestehend': 12774, 'balltretern': 12775, 'moegliche': 12776, 'oberkasper': 12777, 'oetzdemier': 12778, 'gebot': 12779, 'verhasste': 12780, 'auslaufmodelle': 12781, 'heike': 12782, 'gassmann': 12783, 'moslemsoehnchen': 12784, 'mittelmaessigkeit': 12785, 'endlaser': 12786, 'eitlen': 12787, 'selbstdarsteller': 12788, 'niederlage': 12789, 'mitspieler': 12790, 'eigenschaften': 12791, 'kulturfremder': 12792, 'kreise': 12793, 'cornelianoack': 12794, 'verlangst': 12795, 'fersen': 12796, 'heften': 12797, 'bischof': 12798, 'khalil': 12799, 'verarschte': 12800, 'identitaeten': 12801, 'steinzeitreligion': 12802, 'einreiste': 12803, 'whomgodhelps': 12804, 'argumenten': 12805, 'unbezahlbar': 12806, 'hographie': 12807, 'grammatik': 12808, 'satzbau': 12809, 'interpunktion': 12810, 'feilen': 12811, 'mitpoebeln': 12812, 'vergnuege': 12813, 'schaukelpferd': 12814, 'zosse': 12815, 'terzia82': 12816, 'deutschsprachenkenntnisse': 12817, 'msm': 12818, 'laufend': 12819, 'schoepfungen': 12820, 'andersdenkenden': 12821, 'schmutzige': 12822, 'technologien': 12823, 'automobilbau': 12824, 'technologie': 12825, 'muesse': 12826, 'reinem': 12827, 'unismus': 12828, 'alicewo18626168': 12829, 'volksverdummung': 12830, 'bayrische': 12831, 'geistesgroesse': 12832, 'beliebte': 12833, 'innenminister': 12834, 'zeichens': 12835, 'vorruhestand': 12836, 'freudestrahlend': 12837, 'rueckueberstellungen': 12838, 'durchgefueh': 12839, 'gretchenfrage': 12840, 'dirk': 12841, 'pietzsch': 12842, 'vollidioten': 12843, 'nachtwaechter': 12844, 'klimasau': 12845, 'stuermer': 12846, 'politbueros': 12847, 'sudelblatt': 12848, 'dogmatischer': 12849, 'kulturmarxismus': 12850, 'milder': 12851, 'heisser': 12852, 'nasser': 12853, 'ueberpruefung': 12854, 'standhaelt': 12855, 'sekundaer': 12856, 'mitgegeben': 12857, 'frenchotto': 12858, 'gelobe': 12859, 'feierlich': 12860, 'schuppigen': 12861, 'flossentraeger': 12862, 'gruenlinks': 12863, 'verfallen': 12864, 'kollektive': 12865, 'mitten': 12866, 'abgeschossen': 12867, 'ausfall': 12868, 'golfstroms': 12869, 'kollektiver': 12870, 'dachschaden': 12871, 'rieb': 12872, 'schamlos': 12873, 'profraika': 12874, 'tzzz': 12875, 'erschuette': 12876, 'lippen': 12877, 'rettungsboot': 12878, 'zwangsverlinkung': 12879, 'kuestenkorsar': 12880, 'libra08101': 12881, 'speisung': 12882, 'heiland': 12883, 'wundersame': 12884, 'vermeh': 12885, 'andreanase1': 12886, 'wilmajung': 12887, 'zwergpudel': 12888, 'schoenschoen': 12889, 'demokratienetz': 12890, 'widerling': 12891, 'allererster': 12892, 'kajuete': 12893, 'abgegeben': 12894, 'mielke': 12895, 'dbahlke': 12896, 'snoopydo3': 12897, 'brennbar': 12898, 'antifanten': 12899, 'spielberg': 12900, 'roffen': 12901, 'scheiterhaufen': 12902, 'realitaetsverweigerer': 12903, 'vermeintlich': 12904, 'erwischt': 12905, 'tolerierbar': 12906, 'unsagbar': 12907, 'ressourcen': 12908, 'vernichtende': 12909, 'verkehrsminister': 12910, 'stinkenden': 12911, 'verstopfenden': 12912, 'guelle': 12913, 'dahinrafft': 12914, 'saubersten': 12915, 'verbrauchaermsten': 12916, 'ungefaehr': 12917, 'zeckenbiss': 12918, 'narrativ': 12919, 'entstand': 12920, 'durchgeknallte': 12921, 'regierungssprecher': 12922, 'gottkanzlerin': 12923, 'unumstoesslichen': 12924, 'angibt': 12925, 'ausreichen': 12926, 'haltenstill': 12927, 'visuelle': 12928, 'offenbarungseide': 12929, 'ratgeber': 12930, 'gor': 12931, 'ks': 12932, 'dummerchen': 12933, 'haett': 12934, 'capalpha': 12935, 'irdischen': 12936, 'stinglthomas': 12937, 'geschmissen': 12938, 'abgelehnte': 12939, 'thomasreichelhb': 12940, 'personenschuetzer': 12941, 'magnitz': 12942, 'befragen': 12943, '2018wahrheit': 12944, 'ehrenspielfuehrer': 12945, 'joseph': 12946, 'abgibt': 12947, 'nachfolgerin': 12948, 'kevin': 12949, 'kuehne': 12950, 'uebergibt': 12951, 'michael21724016': 12952, 'aufklaeren': 12953, 'cassandralipsia': 12954, 'helmut': 12955, 'geltungssuechtigen': 12956, 'lackaffen': 12957, 'distanzieren': 12958, 'jalla': 12959, 'klaus': 12960, 'lederbluemchenmandarine': 12961, 'koeterrasse': 12962, 'ibikus31': 12963, 'irrer': 12964, 'aerzteverbands': 12965, 'beunruhigt': 12966, 'massenweise': 12967, 'infektionskrankheiten': 12968, 'dritten': 12969, 'tbc': 12970, 'einschleppen': 12971, 'unterschlaegt': 12972, 'montgomery': 12973, 'lieblingsaccounts': 12974, 'suchlupe': 12975, 'abgespeiche': 12976, 'dsds': 12977, 'krankes': 12978, 'misserfolg': 12979, 'kompensieren': 12980, 'psychologisches': 12981, 'gutachten': 12982, 'heilung': 12983, 'bdm': 12984, 'shiwa': 12985, 'waltraud': 12986, 'rohrstock': 12987, 'kleinsten': 12988, 'eingeimpft': 12989, 'diversitaet': 12990, 'umvolkung': 12991, 'klimahysterie': 12992, 'erfindungen': 12993, 'zurechnungsfaehigkeit': 12994, 'untersucht': 12995, 'totalschaden': 12996, 'rednerpulte': 12997, 'bearspirit888': 12998, 'klimaschuetzer': 12999, 'voelkisches': 13000, 'nest': 13001, 'vorwerfen': 13002, 'versprechungen': 13003, 'umsetzbar': 13004, 'karikieren': 13005, 'patriot': 13006, 'zoepfe': 13007, 'umweltschuetzerin': 13008, 'achtung': 13009, 'asperger': 13010, 'syndrom': 13011, 'zwangsstoerungen': 13012, 'least': 13013, 'selektivem': 13014, 'mutismus': 13015, 'papa': 13016, 'verspeist': 13017, 'kannibalismus': 13018, 'erbarme': 13019, 'bekloppten': 13020, 'diktatur': 13021, 'demokraten': 13022, 'scyltara': 13023, 'noetigen': 13024, 'tempo': 13025, 'loszuwerden': 13026, 'twinny0310': 13027, 'nachschubraten': 13028, 'abschiebungsraten': 13029, 'verschlimmern': 13030, 'faelschlicherweise': 13031, 'zuwandererzahlen': 13032, 'asylgesetzgebung': 13033, 'grundlegend': 13034, 'dokte': 13035, 'symptomen': 13036, 'achimawesome': 13037, 'geschwaenge': 13038, 'who': 13039, 'knows': 13040, 'nochmals': 13041, 'zurueckgefueh': 13042, 'zar2001doz': 13043, 'alexande': 13044, 'ill5': 13045, 'e2demi': 13046, 'tucken': 13047, 'triggern': 13048, 'homos': 13049, 'fehlgeschaltete': 13050, 'fucking': 13051, 'aesthetik': 13052, 'empfindlich': 13053, 'chantalost': 13054, 'raven': 13055, '1272': 13056, 'captblwillard': 13057, 'blueskys2nd': 13058, 'freavonwegen': 13059, 'frodilon': 13060, 'tdz771': 13061, 'sorgt': 13062, 'staunen': 13063, 'merkwuerdigsten': 13064, 'lebewesen': 13065, 'stephanbeer77': 13066, 'wegwollen': 13067, 'gemuetlich': 13068, 'ernuechterung': 13069, 'veraergerung': 13070, 'erfahrungsgemaess': 13071, 'fehlendem': 13072, 'schokopudding': 13073, 'handynetz': 13074, 'ausrastet': 13075, 'kleines': 13076, 'wochenfazit': 13077, 'hauseinstuerze': 13078, 'schneekatastrophe': 13079, 'wichtigtuer': 13080, 'ausnahmefall': 13081, 'herunterspielen': 13082, 'isseshalt': 13083, 'gelaunt': 13084, 'williibald28': 13085, 'bekloppt': 13086, 'ueberlegungen': 13087, 'glotze': 13088, 'dreissig': 13089, 'emirate': 13090, 'entstehen': 13091, 'murat': 13092, 'aische': 13093, 'pfadfinderscheisse': 13094, 'herzhaft': 13095, 'hallooooo': 13096, 'leichenhemdtragenden': 13097, 'totengraeberinnen': 13098, 'sozialdemokratie': 13099, 'muhahahaha': 13100, 'transenaccount': 13101, 'digitale': 13102, 'enddarmversilberung': 13103, 'tragik': 13104, 'wiedergeben': 13105, 'hessenschwabe': 13106, 'ave': 13107, 'maria': 13108, 'fuenfmal': 13109, 'rehabilitie': 13110, 'charlie00935': 13111, 'draengt': 13112, 'hoegl': 13113, 'winkt': 13114, 'pasemuckelnord': 13115, 'muppet': 13116, 'baum79308079': 13117, 'geisterbahn': 13118, 'rasseweiber': 13119, 'sexistisch': 13120, 'gaaanz': 13121, 'ph': 13122, 'phanuel': 13123, 'gottseidank': 13124, 'dimmo52': 13125, 'entsprechender': 13126, 'konsequenz': 13127, 'austritt': 13128, 'logischerweise': 13129, 'neuauflage': 13130, 'erfolgen': 13131, 'ratten': 13132, 'favoritarata': 13133, 'cabeachpirate': 13134, 'probepruefung': 13135, 'erkennst': 13136, 'gewisses': 13137, 'schema': 13138, 'fischbilder': 13139, 'pauken': 13140, 'zeichnungen': 13141, 'russnase': 13142, 'floyden': 13143, 'phosphor': 13144, 'vernichtend': 13145, 'niederbrennt': 13146, 'emotionen': 13147, 'apokalyptisch': 13148, 'schoepfung': 13149, 'hansastrasse': 13150, 'beschaffen': 13151, 'kursanbieter': 13152, 'geleisteten': 13153, 'eueren': 13154, 'worauf': 13155, 'sz': 13156, 'muenchen': 13157, 'eilsbegruendung': 13158, 'sonderlich': 13159, 'begeistern': 13160, 'registrieren': 13161, 'durchdrehen': 13162, 'fixie': 13163, 'nichtschreiben': 13164, 'grenzenloser': 13165, 'stress': 13166, 'eingewoehnungsphase': 13167, 'skat': 13168, 'glas': 13169, 'wein': 13170, 'reply': 13171, 'wurmt': 13172, 'furzgeraeusch': 13173, '1200favs': 13174, '1200': 13175, 'brains': 13176, 'bedingungslos': 13177, 'faven': 13178, 'buhlen': 13179, '05uhr': 13180, 'twitteranmeldung': 13181, 'gateway': 13182, 'sera': 13183, 'staddtteile': 13184, 'baeckerei': 13185, 'nazipack': 13186, 'uebelste': 13187, 'shadowban': 13188, 'fcknzs': 13189, 'pissbloede': 13190, 'nazispacke': 13191, 'wedelst': 13192, 'rocknete': 13193, 'verkuemme': 13194, 'palme': 13195, 'drecksratten': 13196, 'bann': 13197, 'bruecke': 13198, 'warst': 13199, 'vorhandene': 13200, 'toleranzgrenze': 13201, 'geduld': 13202, 'endgegner': 13203, 'game': 13204, 'over': 13205, 'ezeit': 13206, 'tilt': 13207, 'enttaeuschung': 13208, 'masslose': 13209, 'unbaendige': 13210, 'brennende': 13211, 'aengste': 13212, '1652zigste': 13213, 'darm': 13214, 'operation': 13215, 'kuenstlerischer': 13216, 'darmausgang': 13217, 'hoechstens': 13218, 'ostern': 13219, 'monatsrhythmus': 13220, 'wochenrhythmus': 13221, 'weile': 13222, 'krankenschwestern': 13223, 'pflegedienst': 13224, 'simulie': 13225, 'bankdirektor': 13226, 'kroch': 13227, 'sekretaerin': 13228, 'untergebene': 13229, 'untergeordnete': 13230, 'leere': 13231, 'hypochonder': 13232, 'kh': 13233, 'egomane': 13234, 'perfide': 13235, 'schoensten': 13236, 'erfolgreich': 13237, 'gespraechsthema': 13238, 'tyrannisie': 13239, 'jaehzornig': 13240, 'unbeherrscht': 13241, 'hausschuh': 13242, 'kochloeffel': 13243, 'kleiderbuegel': 13244, 'psychoterror': 13245, 'gedankenlos': 13246, 'empathielos': 13247, 'magelane72': 13248, 'dingern': 13249, 'ett': 13250, 'schweinskram': 13251, 'strunzdoofe': 13252, 'tiefgaragenschranke': 13253, 'zufah': 13254, 'ska': 13255, 'wuehlte': 13256, 'schranke': 13257, 'lieferwagen': 13258, 'abgerissen': 13259, 'endergirl29': 13260, 'kackscheiss': 13261, 'mutet': 13262, 'aggression': 13263, 'stag': 13264, 'junger': 13265, 'espressi': 13266, 'kackhaufen': 13267, 'ungehoe': 13268, 'hilfeschreie': 13269, 'uhrzeit': 13270, 'irgendwer': 13271, 'nonmentions': 13272, 'wecke': 13273, 'einstempeln': 13274, 'ampel': 13275, 'socke': 13276, 'pozelt': 13277, 'koa': 13278, 'lebakassemme': 13279, 'ned': 13280, 'moch': 13281, 'aung': 13282, 'lebakaskrapfn': 13283, 'spinn': 13284, 'blasphemie': 13285, 'regionalliga': 13286, 'nettes': 13287, 'furcht': 13288, 'verletzung': 13289, 'beider': 13290, 'frisst': 13291, 'alsich16war': 13292, 'bundeskanzler': 13293, 'meldete': 13294, 'apollo': 13295, '13ein': 13296, 'houston': 13297, 'farbig': 13298, 'gesendet': 13299, 'trennten': 13300, 'beatles': 13301, 'starb': 13302, 'jimi': 13303, 'hendrix': 13304, 'queen': 13305, 'kraftwerk': 13306, 'krawalligen': 13307, 'fackelzug': 13308, 'gemeinde': 13309, 'sensen': 13310, 'mistgabeln': 13311, 'dreschflegel': 13312, 'servus': 13313, 'griasde': 13314, 'naeae': 13315, 'trick': 13316, 'ueberschrieben': 13317, 'anmerkung': 13318, 'genialen': 13319, 'peinlicher': 13320, 'eck': 13321, 'punktsieg': 13322, 'muahaha': 13323, 'ypsilon': 13324, 'trini24612175': 13325, 'landeplatz': 13326, 'pleitegeier': 13327, 'reizendes': 13328, 'ehepaar': 13329, 'verzueckt': 13330, '0001f497': 13331, '0001f937': 13332, 'derlehnsherr': 13333, 'golfschlaeger': 13334, 'etage': 13335, 'naeheres': 13336, 'titelseiten': 13337, 'vergesst': 13338, 'anmerken': 13339, 'feedback': 13340, 'versehentlich': 13341, 'unabsichtlich': 13342, 'chapeau': 13343, 'peinlichen': 13344, 'duemmlichen': 13345, 'pube': 13346, 'aeren': 13347, 'droelfzig': 13348, 'kuessen': 13349, 'huebschem': 13350, 'ava': 13351, 'heilungsprozess': 13352, 'eingeschenkt': 13353, 'svenweisz': 13354, 'schmeckt': 13355, 'endet': 13356, 'abhaengig': 13357, 'tagesform': 13358, 'zutaten': 13359, 'bestandteil': 13360, 'salat': 13361, 'richtet': 13362, 'wasserwechsel': 13363, 'hierlustigen': 13364, 'stuecke': 13365, 'versionen': 13366, 'pompeji': 13367, 'staerksten': 13368, 'aussiehst': 13369, 'bewerbungstweet': 13370, 'leitungswasser': 13371, 'buegeleisen': 13372, 'huldige': 13373, 'jungchen': 13374, 'devot': 13375, 'ergaenze': 13376, 'vorstellbar': 13377, 'rotes': 13378, 'tuch': 13379, 'dannkambibi': 13380, 'futtern': 13381, 'zeitig': 13382, 'winkst': 13383, 'tuechern': 13384, 'akira': 13385, '86': 13386, 'schauem': 13387, 'hohldrehende': 13388, 'pissbirne': 13389, 'gemeldet': 13390, 'katrinhilger': 13391, 'jdkinf': 13392, 'kellerfreak': 13393, 'ed': 13394, 'knopf': 13395, 'touch': 13396, 'schaffner': 13397, 'aufgekommen': 13398, 'scheissegal': 13399, 'zewa': 13400, 'soft': 13401, '6000': 13402, 'hockt': 13403, 'dazwischen': 13404, 'plaer': 13405, 'nackig': 13406, 'zuliebe': 13407, 'dreh': 13408, '180': 13409, 'trabe': 13410, 'proviant': 13411, 'handtuch': 13412, 'lebenseinstellung': 13413, 'nullen': 13414, 'berechnen': 13415, 'entschuldige': 13416, 'betrag': 13417, 'plausible': 13418, 'zulaessige': 13419, '491': 13420, 'zugemuellten': 13421, 'kotau': 13422, 'streichholz': 13423, 'flasche': 13424, 'tabletten': 13425, 'schicksalhaften': 13426, 'schmerzen': 13427, 'dutzende': 13428, 'gequaelt': 13429, 'skrupellos': 13430, 'schicksalsnacht': 13431, 'leisen': 13432, 'unbedachten': 13433, 'boah': 13434, 'eineinein': 13435, 'jawoll': 13436, 'muelltuete': 13437, 'bea': 13438, 'angezettelt': 13439, 'nacktpremiere': 13440, 'verfilmen': 13441, 'hauptrolle': 13442, 'angucken': 13443, 'mannis': 13444, 'schwanz': 13445, 'jugendfilm': 13446, 'beteiligte': 13447, '0001f928': 13448, 'oke': 13449, 'dreien': 13450, '0001f625': 13451, 'unbeteiligte': 13452, 'km': 13453, 'erlebe': 13454, '160km': 13455, 'schrumpft': 13456, 'reaktionsgeschwindigkeit': 13457, 'aufprallenergie': 13458, 'moped': 13459, 'unbeleuchteten': 13460, 'kreuzung': 13461, 'woischt': 13462, 'peanuts': 13463, 'kleingeister': 13464, 'freiheitsberaubung': 13465, 'feuerwehr': 13466, 'gepetzt': 13467, 'favs': 13468, 'folgend': 13469, 'geschaltet': 13470, 'verzupft': 13471, 'horsthardcore': 13472, 'stehlen': 13473, 'vernichtetes': 13474, 'dschungelcamp': 13475, 'grossleinwand': 13476, 'eiccount': 13477, 'schlaumei': 13478, 'erwachsenenbilder': 13479, 'hoerst': 13480, 'seniorenmusik': 13481, 'zweitzehtee': 13482, 'fieser': 13483, 'mrsfmbb': 13484, 'schockverliebt': 13485, 'garde': 13486, 'aendere': 13487, 'nick': 13488, 'avatar': 13489, 'einstiegsdroge': 13490, 'alkohol': 13491, 'zucker': 13492, 'gekuenstelter': 13493, 'fliessbandarbeiter': 13494, 'opel': 13495, 'anzug': 13496, 'anzog': 13497, 'sischer': 13498, 'remember': 13499, 'regenschirm': 13500, 'humorlose': 13501, 'schlampe': 13502, 'intelligent': 13503, 'unsozialen': 13504, 'sozialsystem': 13505, 'feierabend': 13506, 'photo': 13507, 'kuestenrocker': 13508, 'buxe': 13509, 'batwoman': 13510, 'chillt': 13511, 'decke': 13512, 'haengend': 13513, 'anstaendig': 13514, 'gabel': 13515, 'sorgeweniger': 13516, 'update': 13517, 's9': 13518, 'mehrfach': 13519, 'prigge': 13520, 'schueper': 13521, 'banker': 13522, 'vorraum': 13523, 'zusammengebrochen': 13524, 'rueber': 13525, 'loeschen': 13526, 'twitteraccounts': 13527, 'fave': 13528, 'ads': 13529, 'runterscrollen': 13530, 'pfeil': 13531, 'screen': 13532, 'fliegen': 13533, 'okok': 13534, 'steinbruch': 13535, 'gummihammer': 13536, 'granitblock': 13537, 'ministrant': 13538, 'kaffeecup': 13539, 'mittagessen': 13540, 'rolltreppe': 13541, 'finanzielle': 13542, 'apekt': 13543, 'hoehenunterschied': 13544, 'beachtlich': 13545, 'schwieriger': 13546, 'umzuerziehen': 13547, 'begruendung': 13548, 'kennengelernt': 13549, 'stimmungsbarometer': 13550, 'amazon': 13551, 'spamversuch': 13552, 'sackgesicht': 13553, 'beef': 13554, 'asshole': 13555, 'schrott': 13556, 'egomanen': 13557, 'a8': 13558, 'a9': 13559, 'a3': 13560, 'tagesverlauf': 13561, 'zusammenfassen': 13562, 'alexa': 13563, 'tuerlich': 13564, 'gewordenes': 13565, 'material': 13566, 'optimie': 13567, 'schliessende': 13568, 'aufzugstuer': 13569, 'schmalhirn': 13570, 'echtheit': 13571, 'blutmondes': 13572, 'bestritten': 13573, 'powerpoint': 13574, 'mausklick': 13575, 'shootguy': 13576, 'gmbh': 13577, 'bitter': 13578, 'schwurbeler': 13579, 'bedrueckt': 13580, 'ueberraschen': 13581, 'geschilde': 13582, 'gesteue': 13583, 'aufsichtsratvorsitzende': 13584, 'reptiloid': 13585, 'absurden': 13586, 'knoten': 13587, 'intervallen': 13588, 'zeitinensiv': 13589, 'medi': 13590, 'cocktail': 13591, 'speiseplan': 13592, 'funny': 13593, 'luftpolsterfolie': 13594, 'tagesziel': 13595, 'knacken': 13596, 'schaedlich': 13597, 'biegen': 13598, 'olle': 13599, 'baerbock': 13600, 'verseuchten': 13601, 'barbeck': 13602, 'rundfunk': 13603, 'fernseh': 13604, 'verbiegen': 13605, 'unverschaemt': 13606, 'klappen': 13607, 'dien': 13608, 'fussnaegel': 13609, 'romantisch': 13610, 'dunkel': 13611, 'festbeleuchtung': 13612, 'hannover96': 13613, 'spielerfrauen': 13614, 'kleid': 13615, 'iset': 13616, 'zeltmacher': 13617, 'sofa': 13618, 'langweiligsten': 13619, 'gespielte': 13620, 'heulerei': 13621, 'klatscht': 13622, '3er': 13623, 'metern': 13624, 'currycassalla': 13625, 'yogaspasst': 13626, 'm0wl': 13627, 'rafft': 13628, 'curryarschhund': 13629, 'hinterfotziger': 13630, 'wahres': 13631, 'gehirnzellen': 13632, 'schnauze': 13633, 'jaehzornige': 13634, 'kackvogel': 13635, 'wuerge': 13636, 'zugucken': 13637, 'studivz': 13638, 'mitgeteilt': 13639, 'spackolacko': 13640, 'hundeficka': 13641, 'pinkeln': 13642, 'teilnehmer': 13643, 'dreharbeiten': 13644, 'hmmm': 13645, 'gekocht': 13646, 'uebers': 13647, 'bumsen': 13648, 'ausgefragt': 13649, 'stichwahl': 13650, 'lucke': 13651, 'staenkern': 13652, 'obst': 13653, 'vollgekiffte': 13654, 'fremdwo': 13655, 'drno19547243': 13656, 'sendezeit': 13657, 'geredet': 13658, 'verschuldung': 13659, 'erz': 13660, 'deligie': 13661, 'koelner': 13662, 'catweazle': 13663, 'sprachfehler': 13664, 'verdummung': 13665, 'krone': 13666, 'arie': 13667, 'kindersendung': 13668, 'bestdamnalex': 13669, 'furzen': 13670, 'godik': 13671, 'christall': 13672, 'comedians': 13673, 'krueppel': 13674, 'verkackt': 13675, 'hochgestochene': 13676, '0001f1f9': 13677, '0001f1f7': 13678, 'weicht': 13679, 'frontex': 13680, 'aufstocken': 13681, 'zaeune': 13682, 'staatsbuerger': 13683, 'schaetze': 13684, 'migrationspackt': 13685, 'arschgebu': 13686, 'svr': 13687, 'svrfcb': 13688, 'dankepolizei': 13689, 'refugeesnotwelcome': 13690, 'brwahlarena': 13691, 'hofreiter': 13692, 'unserioes': 13693, 'gucke': 13694, 'nascar': 13695, 'motorvisiontv': 13696, 'sprit': 13697, 'v8': 13698, 'abschalten': 13699, 'betruegerin': 13700, 'gehoer': 13701, 'angucke': 13702, 'terroraktivisten': 13703, 'fetten': 13704, 'spruehschiss': 13705, 'minusmenschen': 13706, 'spasten': 13707, 'festen': 13708, 'stuhlgang': 13709, 'intensiver': 13710, 'gemerkt': 13711, 'infizie': 13712, 'juengern': 13713, 'praemie': 13714, 'kaufe': 13715, 'spottpreis': 13716, 'abgase': 13717, 'schlafanzughose': 13718, 'bedankt': 13719, 'donnerstag': 13720, 'trainer': 13721, 'lorant': 13722, 'kovac': 13723, 'fcbaja': 13724, 'fritierfett': 13725, 'dauerwerbesendung': 13726, 'buecher': 13727, 'eingeblendet': 13728, 'buchmesse': 13729, 'sudermann': 13730, 'fleissig': 13731, 'saechsische': 13732, 'defamie': 13733, 'unstrittig': 13734, 'benommen': 13735, 'belegbar': 13736, 'fangen': 13737, 'raecht': 13738, 'stellst': 13739, 'ankara': 13740, 'bauantrag': 13741, 'kapelle': 13742, 'gefolte': 13743, 'sozialwohnungen': 13744, 'park': 13745, 'buden': 13746, 'kino': 13747, 'schief': 13748, 'verfluchten': 13749, 'beharren': 13750, 'koeln2909': 13751, 'cemoezdemir': 13752, 'ravensburg': 13753, 'sticht': 13754, 'sc': 13755, 'isse': 13756, 'tolles': 13757, 'verkleidet': 13758, 'genehmigen': 13759, 'schnallen': 13760, 'verkacker': 13761, 'fatale': 13762, 'radikalisierungshaeuser': 13763, 'serioese': 13764, 'hirnlose': 13765, 'anzugreifen': 13766, 'luegengeschichten': 13767, 'benehmen': 13768, 'grundlose': 13769, 'gekreische': 13770, 'nichtsnutzen': 13771, 'fremden': 13772, 'abenteuerspielplatz': 13773, 'austoben': 13774, 'solidaritycityfrankfu': 13775, 'april': 13776, 'schillerstrasse': 13777, 'friede': 13778, 'huetten': 13779, 'bewohnerinnen': 13780, 'leerstehenden': 13781, 'ferro': 13782, 'gelaendes': 13783, '16h': 13784, 'protestaktion': 13785, 'zuverlaessigkeitsueberpruefung': 13786, 'gesinnungsueberpruefung': 13787, 'staatsschutz': 13788, 'volkshaus': 13789, 'halkevi': 13790, 'hessen': 13791, 'werrastrasse': 13792, 'eskalation': 13793, 'atommaechten': 13794, 'anschl': 13795, 'abschlusskundgebung': 13796, 'zukunftswerkstatt': 13797, 'landespa': 13798, 'floersheim': 13799, 'wetzlar': 13800, 'geschlossen': 13801, 'wz2403': 13802, 'nonpd': 13803, 'sitzstreik': 13804, 'teilnahme': 13805, 'bij': 13806, 'berxwedana': 13807, 'efr': 13808, 'fight4afrin': 13809, '21mrz': 13810, 'unsernewroz': 13811, 'kreisvorstand': 13812, 'mike': 13813, 'josef': 13814, 'verhandelt': 13815, 'aussper': 13816, 'erhebt': 13817, '18h': 13818, 'eschersheimer': 13819, 'protestkundgebung': 13820, 'kennedyallee': 13821, '02': 13822, 'individueller': 13823, 'gesellschaftlicher': 13824, 'historisches': 13825, 'saalhof': 13826, 'ausstellungseroeffnung': 13827, 'gedenkens': 13828, 'rotearmee': 13829, 'abschiedsball': 13830, 'koblenzer': 13831, 'knobbe': 13832, 'siks': 13833, 'ciao': 13834, 'aufwiedersehen': 13835, 'palmenga': 13836, 'enstr': 13837, 'prochoice': 13838, 'kristinahaenel': 13839, 'staatl': 13840, 'bedrohten': 13841, 'refugeehousingsquats': 13842, 'athen': 13843, 'griech': 13844, 'zeppelinallee': 13845, 'tuerkische': 13846, 'jesiden': 13847, 'hayir': 13848, 'gemeinsame': 13849, 'zuganreise': 13850, 'kurzentschlossene': 13851, 'gleis': 13852, 'halit': 13853, 'keinnaechstesopfer': 13854, 'temmeinderklemme': 13855, 'kassel': 13856, 'aufloesen': 13857, 'gedenkveranstaltung': 13858, 'halitplatz': 13859, 'darmstadt': 13860, 'liebig': 13861, 'bachstrasse': 13862, 'buergersprechstunde': 13863, '18m': 13864, 'amtsgericht': 13865, 'hammelsgasse': 13866, 'og': 13867, '92': 13868, 'lampe': 13869, 'sri': 13870, 'lanka': 13871, 'flammen': 13872, 'keinvergessen': 13873, '2016': 13874, '14h': 13875, 'fragendem': 13876, 'notruftelefon': 13877, '95': 13878, 'ffm4all': 13879, 'gegenbuchmasse': 13880, 'lesenacht': 13881, 'stadion': 13882, 'robokratie': 13883, 'protestfoto': 13884, 'spontandemo': 13885, 'arbeitstreffen': 13886, 'di': 13887, 'nootcamp': 13888, 'kaiserstr': 13889, 'sammelten': 13890, 'vorgebl': 13891, 'lilibochum': 13892, 'syr': 13893, 'brueder': 13894, 'trainofhopeffm': 13895, 'trainofhope': 13896, 'sonderzug': 13897, 'freilassing': 13898, 'rd': 13899, 'nordbahnhof': 13900, 'hanau': 13901, 'max': 13902, '30uhr': 13903, 'deckenspenden': 13904, 'wilhelmleuchner': 13905, '77': 13906, 'gebaeudes': 13907, 'demonstration': 13908, 'umtriebe': 13909, 'heidenau': 13910, 'demonstation': 13911, 'pogrome': 13912, 'dd2908': 13913, 'hauptbahnhof': 13914, 'wg': 13915, 'polizeigewalt': 13916, 'kessel': 13917, '2013': 13918, 'wandel': 13919, 'attac': 13920, 'klimacamp': 13921, 'gelaende': 13922, 'august': 13923, 'garzsweiler': 13924, 'untergrund': 13925, 'exzess': 13926, 'mumia': 13927, 'abu': 13928, 'jamal': 13929, 'lesung': 13930, 'mumiaabujamal': 13931, 'feemumia': 13932, 'drohnen': 13933, 'antimil': 13934, 'titania': 13935, 'basaltstr': 13936, 'heidi': 13937, 'fede': 13938, 'libero': 13939, 'freilassung': 13940, 'federico': 13941, 'freefede': 13942, 'jva': 13943, 'preungesheim': 13944, 'holt': 13945, 'bagida': 13946, 'stuerzenberger': 13947, 'angemeldet': 13948, 'blockieren': 13949, 'erfolgreiche': 13950, '3000': 13951, 'aktionstag': 13952, 'verschwundenen': 13953, 'ayotzinapa': 13954, 'mexiko': 13955, 'sproengs': 13956, 'linksnavi': 13957, 'geplaenkel': 13958, 'verschont': 13959, 'freiewaehler': 13960, 'achtet': 13961, 'ankuendigungn': 13962, 'gabs': 13963, 'mieterve': 13964, 'minai': 13965, 'immo': 13966, 'wgds': 13967, 'rechtaufstadt': 13968, 'vormerken': 13969, 'poetry': 13970, 'slam': 13971, 'benefiz': 13972, 'pkk': 13973, 'kurd': 13974, 'fffm': 13975, 'busse': 13976, 'bundesweiten': 13977, '2014': 13978, 'morgens': 13979, 'suedbahnhof': 13980, 'kurdischenverein': 13981, '17uhr': 13982, 'solidaritaets': 13983, 'lufthansa': 13984, 'streicht': 13985, 'fluege': 13986, 'kondensstreifen': 13987, 'ungeborene': 13988, '37': 13989, 'abbrueche': 13990, 'bemerkt': 13991, 'homoepathie': 13992, 'streichen': 13993, 'brillen': 13994, 'thomasruettgers': 13995, 'seyranates': 13996, 'progressiv': 13997, 'beklagen': 13998, 'ablehnen': 13999, 'graue': 14000, 'regressive': 14001, 'anhoeren': 14002, 'spruch': 14003, 'wes': 14004, 'konter': 14005, 'newman': 14006, 'dcleaks': 14007, 'hillary': 14008, 'clinton': 14009, 'betreibt': 14010, 'kinderporno': 14011, 'gespraechspa': 14012, 'synelly': 14013, 'hhuesino': 14014, 'organisieren': 14015, 'antitheist': 14016, 'kasse': 14017, 'schwierigkeit': 14018, 'mgm': 14019, 'fgm': 14020, 'allg': 14021, 'religionssteuer': 14022, 'abzulehnen': 14023, 'klingeausgras': 14024, 'pferden': 14025, 'angaben': 14026, 'eineme': 14027, 'schreibmutti': 14028, 'homoepathischen': 14029, 'mittelchen': 14030, 'kaufst': 14031, 'hochsensibel': 14032, 'einbildet': 14033, 'arminlaschet': 14034, 'zwerchfell': 14035, 'geplatzt': 14036, 'staerkung': 14037, 'verbesserung': 14038, 'soziooekonmischen': 14039, 'umstaende': 14040, 'betrifft': 14041, 'nationalistische': 14042, 'wenige': 14043, 'programme': 14044, 'ideas': 14045, 'beyond': 14046, 'border': 14047, 'vermitteln': 14048, 'umweg': 14049, 'beruhigen': 14050, 'fasnix': 14051, 'kernkraft': 14052, 'contra': 14053, 'fusion': 14054, 'erlaeutern': 14055, 'vision': 14056, 'establishment': 14057, 'konfrontie': 14058, 'anderswo': 14059, 'gegenreaktionen': 14060, 'politikergarde': 14061, 'rahmenbedingungen': 14062, 'grosskonzerne': 14063, 'gegeneinander': 14064, 'ausspielen': 14065, 'anhoe': 14066, 'umzusetzen': 14067, 'vehemenz': 14068, 'pallokat': 14069, 'radiomaryja': 14070, 'sichtweise': 14071, 'befiehlt': 14072, 'gehorcht': 14073, 'spruechen': 14074, 'konservativer': 14075, 'matthiasma': 14076, 'juliekurz': 14077, 'vorgaenger': 14078, 'davies': 14079, 'raab': 14080, 'entscheidungen': 14081, 'oberhand': 14082, 'fiasko': 14083, 'beine': 14084, 'sanktions': 14085, 'klassische': 14086, 'projektion': 14087, 'zurueckgelehnte': 14088, 'sitzenbleiber': 14089, 'nachschlagen': 14090, 'neoliberalismus': 14091, 'pruefen': 14092, 'framing': 14093, 'erkenne': 14094, 'versuchst': 14095, 'unbedarfter': 14096, 'naivling': 14097, 'framen': 14098, 'ausgang': 14099, 'koenne': 14100, 'voter': 14101, 'purging': 14102, 'gerrymandeting': 14103, 'desto': 14104, 'blue': 14105, 'wave': 14106, 'charakterloser': 14107, 'brauner': 14108, 'milchtoast': 14109, 'apothekerder': 14110, 'homoeopathischen': 14111, 'dosen': 14112, 'harsch': 14113, 'vorkommen': 14114, 'begriffen': 14115, 'southern': 14116, 'strategy': 14117, 'john': 14118, 'ehrlichmann': 14119, 'symptom': 14120, 'zutiefst': 14121, 'freudige': 14122, 'gruseln': 14123, 'weltspiegel': 14124, 'instabilen': 14125, 'tk': 14126, 'translate': 14127, 'mumpitz': 14128, 'sinnvolle': 14129, 'kirchenmitglieder': 14130, 'bemuehen': 14131, 'saekulare': 14132, 'ebensowenig': 14133, 'kodifizie': 14134, 'nazikommunist': 14135, 'schimpfwo': 14136, 'beschreibt': 14137, 'dysfunktional': 14138, 'epa': 14139, 'vorgemacht': 14140, 'hochzusetzen': 14141, 'asbest': 14142, 'rauen': 14143, 'anpassungen': 14144, 'rechne': 14145, 'schlichtweg': 14146, 'banane': 14147, 'mbs': 14148, 'reformer': 14149, 'kleriker': 14150, 'argumentative': 14151, 'pedo': 14152, 'gop': 14153, 'problempunkte': 14154, 'ansprechen': 14155, 'glaubwuerdigkeitsproblem': 14156, 'predigen': 14157, 'littlewisehen': 14158, 'ramadans': 14159, 'fasten': 14160, 'menschmerz': 14161, 'andeutungen': 14162, 'ausfluechte': 14163, 'protokolliere': 14164, 'ezeiten': 14165, 'februar': 14166, 'erei': 14167, 'verbracht': 14168, 'erfreulich': 14169, 'positiv': 14170, 'oepnv': 14171, 'goldeneraluhut': 14172, 'geschmack': 14173, 'trinke': 14174, 'ausgekochtes': 14175, 'sabber': 14176, 'fliesst': 14177, 'ausgetrocknete': 14178, 'pflaume': 14179, 'derbuddler': 14180, 'lui': 14181, 'abgreifen': 14182, 'financier': 14183, 'gedient': 14184, 'training': 14185, 'leber': 14186, 'hauptgrund': 14187, 'beibehaltung': 14188, 'wehrpflicht': 14189, 'zivildienst': 14190, 'arbeitskraefte': 14191, 'sammeln': 14192, 'frauenfeindliche': 14193, 'david': 14194, 'schraven': 14195, 'org': 14196, 'mails': 14197, 'variationen': 14198, 'itler': 14199, 'ignore': 14200, 'elser': 14201, 'verletzte': 14202, 'glorreich': 14203, 'endlos': 14204, 'vokabel': 14205, 'ereignisse': 14206, 'angesichts': 14207, 'terrorbekaempfung': 14208, 'schaftlich': 14209, 'ggue': 14210, 'intervenieren': 14211, 'aggressionen': 14212, 'organisie': 14213, 'schlagkraeftige': 14214, 'weltkrieg': 14215, 'glorifizierung': 14216, 'strikt': 14217, 'glorreiche': 14218, 'beendigung': 14219, 'kuenftige': 14220, 'konflikte': 14221, 'scheite': 14222, 'logo': 14223, 'frischer': 14224, 'antimyon106': 14225, 'yt': 14226, 'scimandan': 14227, 'unfaehig': 14228, 'flatties': 14229, 'ueberwinden': 14230, 'murks': 14231, 'schulwissen': 14232, 'debunken': 14233, 'glashaus': 14234, 'rumjammerst': 14235, 'antitheism': 14236, 'atheism': 14237, 'parisiennes': 14238, 'sont': 14239, 'belles': 14240, 'que': 14241, 'sous': 14242, 'pluie': 14243, 'il': 14244, 'pleut': 14245, 'rarement': 14246, 'sur': 14247, 'autoritaet': 14248, 'schul': 14249, 'only': 14250, 'regnet': 14251, 'ali': 14252, 'folgte': 14253, 'prisonpaul': 14254, 'infowars': 14255, 'faktfreien': 14256, 'beteiligen': 14257, 'yigit': 14258, 'abgefueh': 14259, 'verstoss': 14260, 'selbstverstaendlichkeit': 14261, 'bestand': 14262, 'pressefreiheit': 14263, 'verachtenswuerdigen': 14264, 'verstuemmelungen': 14265, 'befuerwo': 14266, 'praktiken': 14267, 'gerechnet': 14268, 'wm': 14269, 'verpassen': 14270, 'nichte': 14271, 'fox': 14272, 'erzkonservative': 14273, 'message': 14274, 'despoten': 14275, 'diktatoren': 14276, 'unbedarfte': 14277, 'nouripour': 14278, 'gegenpa': 14279, 'saudiarabien': 14280, 'vernichtungstrip': 14281, 'schuldig': 14282, 'bundesrat': 14283, 'pervers': 14284, 'korrekte': 14285, 'charakterisierung': 14286, 'rituale': 14287, 'star': 14288, 'trek': 14289, 'duet': 14290, 'deep': 14291, 'space': 14292, 'nine': 14293, 'ethik': 14294, 'unterricht': 14295, 'festplatten': 14296, 'backups': 14297, 'ragsverhandlungen': 14298, 'kurdenfrage': 14299, 'schlagendes': 14300, 'blickt': 14301, 'unitaet': 14302, 'angeheizt': 14303, 'fuelle': 14304, 'auszuweiten': 14305, 'ueberdenken': 14306, 'umbau': 14307, 'chp': 14308, 'loesen': 14309, 'geschweige': 14310, 'strategisch': 14311, 'atatuerk': 14312, 'spekulation': 14313, 'bildungs': 14314, 'gewichtiger': 14315, 'indikator': 14316, 'emanzipierungs': 14317, 'phase': 14318, 'zivil': 14319, 'washing': 14320, 'entente': 14321, 'maechte': 14322, 'etliches': 14323, 'erspa': 14324, 'geblieben': 14325, 'cents': 14326, 'mca': 14327, 'hur': 14328, 'briefe': 14329, 'moderner': 14330, 'ersatzmann': 14331, 'ggf': 14332, 'korrigieren': 14333, 'erfahrungsbedingt': 14334, 'zapfen': 14335}\n"
          ]
        }
      ]
    },
    {
      "cell_type": "code",
      "source": [
        "\n",
        "\n",
        "encoded_clean_text_t_stem = tok_all.texts_to_sequences(clean_text_t_stem)\n",
        "print(clean_text_t_stem[0])\n",
        "print(encoded_clean_text_t_stem[0])\n",
        "\n"
      ],
      "metadata": {
        "colab": {
          "base_uri": "https://localhost:8080/"
        },
        "id": "-P-pLah2LPxY",
        "outputId": "9b8c83b0-3717-4d91-97cd-5da81d65ab7b"
      },
      "execution_count": null,
      "outputs": [
        {
          "output_type": "stream",
          "name": "stdout",
          "text": [
            " janzimmhhb  mopo komisch realitaetsverweigerung immer linken erbaermlichen correctiv accounts ausgeht...\n",
            "[5349, 1531, 16768, 12, 168, 14673, 1543, 4679]\n"
          ]
        }
      ]
    },
    {
      "cell_type": "code",
      "source": [
        "\n",
        "\n",
        "from keras.preprocessing import sequence\n",
        "max_length = 100\n",
        "padded_clean_text_t_stem = sequence.pad_sequences(encoded_clean_text_t_stem, maxlen=max_length, padding='pre')\n",
        "\n"
      ],
      "metadata": {
        "id": "2pMhC-TaLSmb"
      },
      "execution_count": null,
      "outputs": []
    },
    {
      "cell_type": "markdown",
      "source": [
        "# FastText Embeddings\n"
      ],
      "metadata": {
        "id": "5X5wvSctLXIh"
      }
    },
    {
      "cell_type": "code",
      "source": [
        "from google.colab import drive\n",
        "drive.mount('/content/drive')"
      ],
      "metadata": {
        "colab": {
          "base_uri": "https://localhost:8080/"
        },
        "id": "dokXCwzTBF9C",
        "outputId": "82019050-8549-43a9-be16-3882ce5268df"
      },
      "execution_count": null,
      "outputs": [
        {
          "output_type": "stream",
          "name": "stdout",
          "text": [
            "Mounted at /content/drive\n"
          ]
        }
      ]
    },
    {
      "cell_type": "code",
      "source": [
        "!gunzip /content/drive/MyDrive/cc.de.300.vec.gz"
      ],
      "metadata": {
        "id": "vWWgtLKGRqeg",
        "colab": {
          "base_uri": "https://localhost:8080/"
        },
        "outputId": "f48d1756-b386-47d4-ccad-a6b094791512"
      },
      "execution_count": null,
      "outputs": [
        {
          "output_type": "stream",
          "name": "stdout",
          "text": [
            "gzip: /content/drive/MyDrive/cc.de.300.vec.gz: No such file or directory\n"
          ]
        }
      ]
    },
    {
      "cell_type": "code",
      "source": [
        "# https://stackoverflow.com/questions/69964788/how-to-unzip-gz-file-using-google-colab\n",
        "\n",
        "# FastText Embedding link - https://fasttext.cc/docs/en/crawl-vectors.html\n",
        "\n",
        "import os\n",
        "embeddings_index = {}\n",
        "f = open('/content/drive/MyDrive/cc.de.300.vec',encoding='utf-8',errors='ignore')\n",
        "for line in f:\n",
        "    values = line.split()\n",
        "    word = values[0]\n",
        "    coefs = np.asarray(values[1:], dtype='float32')\n",
        "    embeddings_index[word] = coefs\n",
        "f.close()\n",
        "print('Loaded %s word vectors.' % len(embeddings_index))\n",
        "\n"
      ],
      "metadata": {
        "colab": {
          "base_uri": "https://localhost:8080/"
        },
        "id": "Qoiw0Dq_BQXE",
        "outputId": "9aefebae-7491-4465-96da-ff50972b11ac"
      },
      "execution_count": null,
      "outputs": [
        {
          "output_type": "stream",
          "name": "stdout",
          "text": [
            "Loaded 2000000 word vectors.\n"
          ]
        }
      ]
    },
    {
      "cell_type": "code",
      "source": [
        "\n",
        "\n",
        "embedding_matrix = np.zeros((vocabulary_all+1, 300))\n",
        "for word, i in tok_all.word_index.items():\n",
        "    embedding_vector = embeddings_index.get(word)\n",
        "    if embedding_vector is not None:\n",
        "         embedding_matrix[i] = embedding_vector\n",
        "\n"
      ],
      "metadata": {
        "id": "a3edF-OKEHme"
      },
      "execution_count": null,
      "outputs": []
    },
    {
      "cell_type": "markdown",
      "source": [
        "# CNN 1 Model\n"
      ],
      "metadata": {
        "id": "d6GOcaWlTm3y"
      }
    },
    {
      "cell_type": "code",
      "source": [
        "\n",
        "\n",
        "from keras.preprocessing import sequence\n",
        "from keras.preprocessing import text\n",
        "import numpy as np\n",
        "from keras.models import Sequential\n",
        "from keras.layers import Dense, Dropout, Activation\n",
        "from keras.layers import Embedding, LSTM\n",
        "from keras.layers import Conv1D, Flatten\n",
        "from keras.preprocessing import text\n",
        "from keras.models import Sequential,Model\n",
        "from keras.layers import Dense ,Activation,MaxPool1D,Conv1D,Flatten,Dropout,Activation,Dropout,Input,Lambda,concatenate\n",
        "from keras.utils import np_utils\n",
        "from nltk.corpus import stopwords\n",
        "from nltk.tokenize import RegexpTokenizer\n",
        "from nltk.stem.porter import PorterStemmer\n",
        "import nltk\n",
        "import csv\n",
        "import pandas as pd\n",
        "\n",
        "from keras.preprocessing import text as keras_text, sequence as keras_seq\n",
        "\n"
      ],
      "metadata": {
        "id": "9SFf_1_ITmRV"
      },
      "execution_count": null,
      "outputs": []
    },
    {
      "cell_type": "code",
      "source": [
        "Embedding_Layer = Embedding(vocabulary_all+1, 300, weights=[embedding_matrix], input_length=max_length)"
      ],
      "metadata": {
        "id": "-pMKAUQqTsLu"
      },
      "execution_count": null,
      "outputs": []
    },
    {
      "cell_type": "code",
      "source": [
        "CNN1_network=Sequential([Embedding_Layer,\n",
        "                        Conv1D(128,3,activation=\"relu\",padding='same'),\n",
        "                       Dropout(0.2),\n",
        "                       MaxPool1D(2),\n",
        "                       Flatten(),\n",
        "                       Dense(64,activation=\"relu\"),\n",
        "                       Dropout(0.3),\n",
        "                       Dense(2,activation=\"sigmoid\")\n",
        "                       ])\n",
        "\n"
      ],
      "metadata": {
        "id": "FjDa1as8Ts6r"
      },
      "execution_count": null,
      "outputs": []
    },
    {
      "cell_type": "code",
      "source": [
        "CNN1_network.summary()"
      ],
      "metadata": {
        "colab": {
          "base_uri": "https://localhost:8080/"
        },
        "id": "eiFSH30GTxM9",
        "outputId": "72dfb37e-94f7-4acc-a24b-e68371a57b5b"
      },
      "execution_count": null,
      "outputs": [
        {
          "output_type": "stream",
          "name": "stdout",
          "text": [
            "Model: \"sequential\"\n",
            "_________________________________________________________________\n",
            " Layer (type)                Output Shape              Param #   \n",
            "=================================================================\n",
            " embedding (Embedding)       (None, 100, 300)          5055000   \n",
            "                                                                 \n",
            " conv1d (Conv1D)             (None, 100, 128)          115328    \n",
            "                                                                 \n",
            " dropout (Dropout)           (None, 100, 128)          0         \n",
            "                                                                 \n",
            " max_pooling1d (MaxPooling1D  (None, 50, 128)          0         \n",
            " )                                                               \n",
            "                                                                 \n",
            " flatten (Flatten)           (None, 6400)              0         \n",
            "                                                                 \n",
            " dense (Dense)               (None, 64)                409664    \n",
            "                                                                 \n",
            " dropout_1 (Dropout)         (None, 64)                0         \n",
            "                                                                 \n",
            " dense_1 (Dense)             (None, 2)                 130       \n",
            "                                                                 \n",
            "=================================================================\n",
            "Total params: 5,580,122\n",
            "Trainable params: 5,580,122\n",
            "Non-trainable params: 0\n",
            "_________________________________________________________________\n"
          ]
        }
      ]
    },
    {
      "cell_type": "code",
      "source": [
        "# https://stackoverflow.com/questions/62707558/importerror-cannot-import-name-adam-from-keras-optimizers\n",
        "from tensorflow.keras.optimizers import Adam\n",
        "CNN1_network.compile(loss = \"binary_crossentropy\", optimizer=Adam(lr=0.00003), metrics=[\"accuracy\"])"
      ],
      "metadata": {
        "colab": {
          "base_uri": "https://localhost:8080/"
        },
        "id": "uhrug6aYT0dU",
        "outputId": "30f78074-3ae6-4f78-ae71-f8bf347c190d"
      },
      "execution_count": null,
      "outputs": [
        {
          "output_type": "stream",
          "name": "stderr",
          "text": [
            "/usr/local/lib/python3.7/dist-packages/keras/optimizer_v2/adam.py:105: UserWarning: The `lr` argument is deprecated, use `learning_rate` instead.\n",
            "  super(Adam, self).__init__(name, **kwargs)\n"
          ]
        }
      ]
    },
    {
      "cell_type": "code",
      "source": [
        "from keras.utils.vis_utils import plot_model\n",
        "plot_model(CNN1_network, to_file='CNN2_model.png', show_shapes=True, show_layer_names=True)\n",
        "\n",
        "from keras.callbacks import EarlyStopping, ReduceLROnPlateau,ModelCheckpoint\n",
        "earlystopper = EarlyStopping(patience=8, verbose=1)\n",
        "\n",
        "reduce_lr = ReduceLROnPlateau(monitor='val_loss', factor=0.9,\n",
        "                              patience=2, min_lr=0.00001, verbose=1)\n",
        "\n"
      ],
      "metadata": {
        "id": "dt59qzVBT05I"
      },
      "execution_count": null,
      "outputs": []
    },
    {
      "cell_type": "code",
      "source": [
        "\n",
        "\n",
        "from keras.callbacks import EarlyStopping, ReduceLROnPlateau,ModelCheckpoint\n",
        "earlystopper = EarlyStopping(patience=8, verbose=1)\n",
        "\n",
        "reduce_lr = ReduceLROnPlateau(monitor='val_loss', factor=0.9,\n",
        "                              patience=2, min_lr=0.00001, verbose=1)\n",
        "\n"
      ],
      "metadata": {
        "id": "OcgGKGXRUYKs"
      },
      "execution_count": null,
      "outputs": []
    },
    {
      "cell_type": "markdown",
      "source": [
        "# Model Fitting or Training\n"
      ],
      "metadata": {
        "id": "ZzMJN4vKUauw"
      }
    },
    {
      "cell_type": "code",
      "source": [
        "hist = CNN1_network.fit(padded_clean_text_stem,label_twoDimension,epochs=200,batch_size=32,callbacks=[earlystopper, reduce_lr])"
      ],
      "metadata": {
        "colab": {
          "base_uri": "https://localhost:8080/"
        },
        "id": "0FdQuhx4ZP6B",
        "outputId": "d3485c51-8871-47f7-fc8b-3d454ca92aff"
      },
      "execution_count": null,
      "outputs": [
        {
          "output_type": "stream",
          "name": "stdout",
          "text": [
            "Epoch 1/200\n",
            "119/120 [============================>.] - ETA: 0s - loss: 0.5485 - accuracy: 0.8716"
          ]
        },
        {
          "output_type": "stream",
          "name": "stderr",
          "text": [
            "WARNING:tensorflow:Early stopping conditioned on metric `val_loss` which is not available. Available metrics are: loss,accuracy\n",
            "WARNING:tensorflow:Learning rate reduction is conditioned on metric `val_loss` which is not available. Available metrics are: loss,accuracy,lr\n"
          ]
        },
        {
          "output_type": "stream",
          "name": "stdout",
          "text": [
            "\b\b\b\b\b\b\b\b\b\b\b\b\b\b\b\b\b\b\b\b\b\b\b\b\b\b\b\b\b\b\b\b\b\b\b\b\b\b\b\b\b\b\b\b\b\b\b\b\b\b\b\b\b\b\b\b\b\b\b\b\b\b\b\b\b\b\b\b\b\b\b\b\b\b\b\b\b\b\b\b\b\b\b\b\r120/120 [==============================] - 14s 8ms/step - loss: 0.5487 - accuracy: 0.8712 - lr: 3.0000e-05\n",
            "Epoch 2/200\n",
            "120/120 [==============================] - ETA: 0s - loss: 0.3545 - accuracy: 0.8934"
          ]
        },
        {
          "output_type": "stream",
          "name": "stderr",
          "text": [
            "WARNING:tensorflow:Early stopping conditioned on metric `val_loss` which is not available. Available metrics are: loss,accuracy\n",
            "WARNING:tensorflow:Learning rate reduction is conditioned on metric `val_loss` which is not available. Available metrics are: loss,accuracy,lr\n"
          ]
        },
        {
          "output_type": "stream",
          "name": "stdout",
          "text": [
            "\b\b\b\b\b\b\b\b\b\b\b\b\b\b\b\b\b\b\b\b\b\b\b\b\b\b\b\b\b\b\b\b\b\b\b\b\b\b\b\b\b\b\b\b\b\b\b\b\b\b\b\b\b\b\b\b\b\b\b\b\b\b\b\b\b\b\b\b\b\b\b\b\b\b\b\b\b\b\b\b\b\b\b\b\r120/120 [==============================] - 1s 7ms/step - loss: 0.3545 - accuracy: 0.8934 - lr: 3.0000e-05\n",
            "Epoch 3/200\n",
            "118/120 [============================>.] - ETA: 0s - loss: 0.3515 - accuracy: 0.8925"
          ]
        },
        {
          "output_type": "stream",
          "name": "stderr",
          "text": [
            "WARNING:tensorflow:Early stopping conditioned on metric `val_loss` which is not available. Available metrics are: loss,accuracy\n",
            "WARNING:tensorflow:Learning rate reduction is conditioned on metric `val_loss` which is not available. Available metrics are: loss,accuracy,lr\n"
          ]
        },
        {
          "output_type": "stream",
          "name": "stdout",
          "text": [
            "\b\b\b\b\b\b\b\b\b\b\b\b\b\b\b\b\b\b\b\b\b\b\b\b\b\b\b\b\b\b\b\b\b\b\b\b\b\b\b\b\b\b\b\b\b\b\b\b\b\b\b\b\b\b\b\b\b\b\b\b\b\b\b\b\b\b\b\b\b\b\b\b\b\b\b\b\b\b\b\b\b\b\b\b\r120/120 [==============================] - 1s 7ms/step - loss: 0.3493 - accuracy: 0.8934 - lr: 3.0000e-05\n",
            "Epoch 4/200\n",
            "120/120 [==============================] - ETA: 0s - loss: 0.3443 - accuracy: 0.8934"
          ]
        },
        {
          "output_type": "stream",
          "name": "stderr",
          "text": [
            "WARNING:tensorflow:Early stopping conditioned on metric `val_loss` which is not available. Available metrics are: loss,accuracy\n",
            "WARNING:tensorflow:Learning rate reduction is conditioned on metric `val_loss` which is not available. Available metrics are: loss,accuracy,lr\n"
          ]
        },
        {
          "output_type": "stream",
          "name": "stdout",
          "text": [
            "\b\b\b\b\b\b\b\b\b\b\b\b\b\b\b\b\b\b\b\b\b\b\b\b\b\b\b\b\b\b\b\b\b\b\b\b\b\b\b\b\b\b\b\b\b\b\b\b\b\b\b\b\b\b\b\b\b\b\b\b\b\b\b\b\b\b\b\b\b\b\b\b\b\b\b\b\b\b\b\b\b\b\b\b\r120/120 [==============================] - 1s 7ms/step - loss: 0.3443 - accuracy: 0.8934 - lr: 3.0000e-05\n",
            "Epoch 5/200\n",
            "119/120 [============================>.] - ETA: 0s - loss: 0.3421 - accuracy: 0.8942"
          ]
        },
        {
          "output_type": "stream",
          "name": "stderr",
          "text": [
            "WARNING:tensorflow:Early stopping conditioned on metric `val_loss` which is not available. Available metrics are: loss,accuracy\n",
            "WARNING:tensorflow:Learning rate reduction is conditioned on metric `val_loss` which is not available. Available metrics are: loss,accuracy,lr\n"
          ]
        },
        {
          "output_type": "stream",
          "name": "stdout",
          "text": [
            "\b\b\b\b\b\b\b\b\b\b\b\b\b\b\b\b\b\b\b\b\b\b\b\b\b\b\b\b\b\b\b\b\b\b\b\b\b\b\b\b\b\b\b\b\b\b\b\b\b\b\b\b\b\b\b\b\b\b\b\b\b\b\b\b\b\b\b\b\b\b\b\b\b\b\b\b\b\b\b\b\b\b\b\b\r120/120 [==============================] - 1s 7ms/step - loss: 0.3436 - accuracy: 0.8934 - lr: 3.0000e-05\n",
            "Epoch 6/200\n",
            "120/120 [==============================] - ETA: 0s - loss: 0.3376 - accuracy: 0.8934"
          ]
        },
        {
          "output_type": "stream",
          "name": "stderr",
          "text": [
            "WARNING:tensorflow:Early stopping conditioned on metric `val_loss` which is not available. Available metrics are: loss,accuracy\n",
            "WARNING:tensorflow:Learning rate reduction is conditioned on metric `val_loss` which is not available. Available metrics are: loss,accuracy,lr\n"
          ]
        },
        {
          "output_type": "stream",
          "name": "stdout",
          "text": [
            "\b\b\b\b\b\b\b\b\b\b\b\b\b\b\b\b\b\b\b\b\b\b\b\b\b\b\b\b\b\b\b\b\b\b\b\b\b\b\b\b\b\b\b\b\b\b\b\b\b\b\b\b\b\b\b\b\b\b\b\b\b\b\b\b\b\b\b\b\b\b\b\b\b\b\b\b\b\b\b\b\b\b\b\b\r120/120 [==============================] - 1s 7ms/step - loss: 0.3376 - accuracy: 0.8934 - lr: 3.0000e-05\n",
            "Epoch 7/200\n",
            "120/120 [==============================] - ETA: 0s - loss: 0.3378 - accuracy: 0.8934"
          ]
        },
        {
          "output_type": "stream",
          "name": "stderr",
          "text": [
            "WARNING:tensorflow:Early stopping conditioned on metric `val_loss` which is not available. Available metrics are: loss,accuracy\n",
            "WARNING:tensorflow:Learning rate reduction is conditioned on metric `val_loss` which is not available. Available metrics are: loss,accuracy,lr\n"
          ]
        },
        {
          "output_type": "stream",
          "name": "stdout",
          "text": [
            "\b\b\b\b\b\b\b\b\b\b\b\b\b\b\b\b\b\b\b\b\b\b\b\b\b\b\b\b\b\b\b\b\b\b\b\b\b\b\b\b\b\b\b\b\b\b\b\b\b\b\b\b\b\b\b\b\b\b\b\b\b\b\b\b\b\b\b\b\b\b\b\b\b\b\b\b\b\b\b\b\b\b\b\b\r120/120 [==============================] - 1s 7ms/step - loss: 0.3378 - accuracy: 0.8934 - lr: 3.0000e-05\n",
            "Epoch 8/200\n",
            "119/120 [============================>.] - ETA: 0s - loss: 0.3344 - accuracy: 0.8934"
          ]
        },
        {
          "output_type": "stream",
          "name": "stderr",
          "text": [
            "WARNING:tensorflow:Early stopping conditioned on metric `val_loss` which is not available. Available metrics are: loss,accuracy\n",
            "WARNING:tensorflow:Learning rate reduction is conditioned on metric `val_loss` which is not available. Available metrics are: loss,accuracy,lr\n"
          ]
        },
        {
          "output_type": "stream",
          "name": "stdout",
          "text": [
            "\b\b\b\b\b\b\b\b\b\b\b\b\b\b\b\b\b\b\b\b\b\b\b\b\b\b\b\b\b\b\b\b\b\b\b\b\b\b\b\b\b\b\b\b\b\b\b\b\b\b\b\b\b\b\b\b\b\b\b\b\b\b\b\b\b\b\b\b\b\b\b\b\b\b\b\b\b\b\b\b\b\b\b\b\r120/120 [==============================] - 1s 7ms/step - loss: 0.3342 - accuracy: 0.8934 - lr: 3.0000e-05\n",
            "Epoch 9/200\n",
            "119/120 [============================>.] - ETA: 0s - loss: 0.3332 - accuracy: 0.8934"
          ]
        },
        {
          "output_type": "stream",
          "name": "stderr",
          "text": [
            "WARNING:tensorflow:Early stopping conditioned on metric `val_loss` which is not available. Available metrics are: loss,accuracy\n",
            "WARNING:tensorflow:Learning rate reduction is conditioned on metric `val_loss` which is not available. Available metrics are: loss,accuracy,lr\n"
          ]
        },
        {
          "output_type": "stream",
          "name": "stdout",
          "text": [
            "\b\b\b\b\b\b\b\b\b\b\b\b\b\b\b\b\b\b\b\b\b\b\b\b\b\b\b\b\b\b\b\b\b\b\b\b\b\b\b\b\b\b\b\b\b\b\b\b\b\b\b\b\b\b\b\b\b\b\b\b\b\b\b\b\b\b\b\b\b\b\b\b\b\b\b\b\b\b\b\b\b\b\b\b\r120/120 [==============================] - 1s 7ms/step - loss: 0.3330 - accuracy: 0.8934 - lr: 3.0000e-05\n",
            "Epoch 10/200\n",
            "120/120 [==============================] - ETA: 0s - loss: 0.3302 - accuracy: 0.8934"
          ]
        },
        {
          "output_type": "stream",
          "name": "stderr",
          "text": [
            "WARNING:tensorflow:Early stopping conditioned on metric `val_loss` which is not available. Available metrics are: loss,accuracy\n",
            "WARNING:tensorflow:Learning rate reduction is conditioned on metric `val_loss` which is not available. Available metrics are: loss,accuracy,lr\n"
          ]
        },
        {
          "output_type": "stream",
          "name": "stdout",
          "text": [
            "\b\b\b\b\b\b\b\b\b\b\b\b\b\b\b\b\b\b\b\b\b\b\b\b\b\b\b\b\b\b\b\b\b\b\b\b\b\b\b\b\b\b\b\b\b\b\b\b\b\b\b\b\b\b\b\b\b\b\b\b\b\b\b\b\b\b\b\b\b\b\b\b\b\b\b\b\b\b\b\b\b\b\b\b\r120/120 [==============================] - 1s 7ms/step - loss: 0.3302 - accuracy: 0.8934 - lr: 3.0000e-05\n",
            "Epoch 11/200\n",
            "119/120 [============================>.] - ETA: 0s - loss: 0.3231 - accuracy: 0.8934"
          ]
        },
        {
          "output_type": "stream",
          "name": "stderr",
          "text": [
            "WARNING:tensorflow:Early stopping conditioned on metric `val_loss` which is not available. Available metrics are: loss,accuracy\n",
            "WARNING:tensorflow:Learning rate reduction is conditioned on metric `val_loss` which is not available. Available metrics are: loss,accuracy,lr\n"
          ]
        },
        {
          "output_type": "stream",
          "name": "stdout",
          "text": [
            "\b\b\b\b\b\b\b\b\b\b\b\b\b\b\b\b\b\b\b\b\b\b\b\b\b\b\b\b\b\b\b\b\b\b\b\b\b\b\b\b\b\b\b\b\b\b\b\b\b\b\b\b\b\b\b\b\b\b\b\b\b\b\b\b\b\b\b\b\b\b\b\b\b\b\b\b\b\b\b\b\b\b\b\b\r120/120 [==============================] - 1s 7ms/step - loss: 0.3231 - accuracy: 0.8934 - lr: 3.0000e-05\n",
            "Epoch 12/200\n",
            "119/120 [============================>.] - ETA: 0s - loss: 0.3160 - accuracy: 0.8936"
          ]
        },
        {
          "output_type": "stream",
          "name": "stderr",
          "text": [
            "WARNING:tensorflow:Early stopping conditioned on metric `val_loss` which is not available. Available metrics are: loss,accuracy\n",
            "WARNING:tensorflow:Learning rate reduction is conditioned on metric `val_loss` which is not available. Available metrics are: loss,accuracy,lr\n"
          ]
        },
        {
          "output_type": "stream",
          "name": "stdout",
          "text": [
            "\b\b\b\b\b\b\b\b\b\b\b\b\b\b\b\b\b\b\b\b\b\b\b\b\b\b\b\b\b\b\b\b\b\b\b\b\b\b\b\b\b\b\b\b\b\b\b\b\b\b\b\b\b\b\b\b\b\b\b\b\b\b\b\b\b\b\b\b\b\b\b\b\b\b\b\b\b\b\b\b\b\b\b\b\r120/120 [==============================] - 1s 7ms/step - loss: 0.3166 - accuracy: 0.8934 - lr: 3.0000e-05\n",
            "Epoch 13/200\n",
            "119/120 [============================>.] - ETA: 0s - loss: 0.3063 - accuracy: 0.8934"
          ]
        },
        {
          "output_type": "stream",
          "name": "stderr",
          "text": [
            "WARNING:tensorflow:Early stopping conditioned on metric `val_loss` which is not available. Available metrics are: loss,accuracy\n",
            "WARNING:tensorflow:Learning rate reduction is conditioned on metric `val_loss` which is not available. Available metrics are: loss,accuracy,lr\n"
          ]
        },
        {
          "output_type": "stream",
          "name": "stdout",
          "text": [
            "\b\b\b\b\b\b\b\b\b\b\b\b\b\b\b\b\b\b\b\b\b\b\b\b\b\b\b\b\b\b\b\b\b\b\b\b\b\b\b\b\b\b\b\b\b\b\b\b\b\b\b\b\b\b\b\b\b\b\b\b\b\b\b\b\b\b\b\b\b\b\b\b\b\b\b\b\b\b\b\b\b\b\b\b\r120/120 [==============================] - 1s 7ms/step - loss: 0.3061 - accuracy: 0.8934 - lr: 3.0000e-05\n",
            "Epoch 14/200\n",
            "120/120 [==============================] - ETA: 0s - loss: 0.2954 - accuracy: 0.8934"
          ]
        },
        {
          "output_type": "stream",
          "name": "stderr",
          "text": [
            "WARNING:tensorflow:Early stopping conditioned on metric `val_loss` which is not available. Available metrics are: loss,accuracy\n",
            "WARNING:tensorflow:Learning rate reduction is conditioned on metric `val_loss` which is not available. Available metrics are: loss,accuracy,lr\n"
          ]
        },
        {
          "output_type": "stream",
          "name": "stdout",
          "text": [
            "\b\b\b\b\b\b\b\b\b\b\b\b\b\b\b\b\b\b\b\b\b\b\b\b\b\b\b\b\b\b\b\b\b\b\b\b\b\b\b\b\b\b\b\b\b\b\b\b\b\b\b\b\b\b\b\b\b\b\b\b\b\b\b\b\b\b\b\b\b\b\b\b\b\b\b\b\b\b\b\b\b\b\b\b\r120/120 [==============================] - 1s 7ms/step - loss: 0.2954 - accuracy: 0.8934 - lr: 3.0000e-05\n",
            "Epoch 15/200\n",
            "119/120 [============================>.] - ETA: 0s - loss: 0.2796 - accuracy: 0.8934"
          ]
        },
        {
          "output_type": "stream",
          "name": "stderr",
          "text": [
            "WARNING:tensorflow:Early stopping conditioned on metric `val_loss` which is not available. Available metrics are: loss,accuracy\n",
            "WARNING:tensorflow:Learning rate reduction is conditioned on metric `val_loss` which is not available. Available metrics are: loss,accuracy,lr\n"
          ]
        },
        {
          "output_type": "stream",
          "name": "stdout",
          "text": [
            "\b\b\b\b\b\b\b\b\b\b\b\b\b\b\b\b\b\b\b\b\b\b\b\b\b\b\b\b\b\b\b\b\b\b\b\b\b\b\b\b\b\b\b\b\b\b\b\b\b\b\b\b\b\b\b\b\b\b\b\b\b\b\b\b\b\b\b\b\b\b\b\b\b\b\b\b\b\b\b\b\b\b\b\b\r120/120 [==============================] - 1s 7ms/step - loss: 0.2795 - accuracy: 0.8934 - lr: 3.0000e-05\n",
            "Epoch 16/200\n",
            "120/120 [==============================] - ETA: 0s - loss: 0.2621 - accuracy: 0.8934"
          ]
        },
        {
          "output_type": "stream",
          "name": "stderr",
          "text": [
            "WARNING:tensorflow:Early stopping conditioned on metric `val_loss` which is not available. Available metrics are: loss,accuracy\n",
            "WARNING:tensorflow:Learning rate reduction is conditioned on metric `val_loss` which is not available. Available metrics are: loss,accuracy,lr\n"
          ]
        },
        {
          "output_type": "stream",
          "name": "stdout",
          "text": [
            "\b\b\b\b\b\b\b\b\b\b\b\b\b\b\b\b\b\b\b\b\b\b\b\b\b\b\b\b\b\b\b\b\b\b\b\b\b\b\b\b\b\b\b\b\b\b\b\b\b\b\b\b\b\b\b\b\b\b\b\b\b\b\b\b\b\b\b\b\b\b\b\b\b\b\b\b\b\b\b\b\b\b\b\b\r120/120 [==============================] - 1s 7ms/step - loss: 0.2621 - accuracy: 0.8934 - lr: 3.0000e-05\n",
            "Epoch 17/200\n",
            "118/120 [============================>.] - ETA: 0s - loss: 0.2453 - accuracy: 0.8954"
          ]
        },
        {
          "output_type": "stream",
          "name": "stderr",
          "text": [
            "WARNING:tensorflow:Early stopping conditioned on metric `val_loss` which is not available. Available metrics are: loss,accuracy\n",
            "WARNING:tensorflow:Learning rate reduction is conditioned on metric `val_loss` which is not available. Available metrics are: loss,accuracy,lr\n"
          ]
        },
        {
          "output_type": "stream",
          "name": "stdout",
          "text": [
            "\b\b\b\b\b\b\b\b\b\b\b\b\b\b\b\b\b\b\b\b\b\b\b\b\b\b\b\b\b\b\b\b\b\b\b\b\b\b\b\b\b\b\b\b\b\b\b\b\b\b\b\b\b\b\b\b\b\b\b\b\b\b\b\b\b\b\b\b\b\b\b\b\b\b\b\b\b\b\b\b\b\b\b\b\r120/120 [==============================] - 1s 7ms/step - loss: 0.2447 - accuracy: 0.8958 - lr: 3.0000e-05\n",
            "Epoch 18/200\n",
            "120/120 [==============================] - ETA: 0s - loss: 0.2187 - accuracy: 0.9018"
          ]
        },
        {
          "output_type": "stream",
          "name": "stderr",
          "text": [
            "WARNING:tensorflow:Early stopping conditioned on metric `val_loss` which is not available. Available metrics are: loss,accuracy\n",
            "WARNING:tensorflow:Learning rate reduction is conditioned on metric `val_loss` which is not available. Available metrics are: loss,accuracy,lr\n"
          ]
        },
        {
          "output_type": "stream",
          "name": "stdout",
          "text": [
            "\b\b\b\b\b\b\b\b\b\b\b\b\b\b\b\b\b\b\b\b\b\b\b\b\b\b\b\b\b\b\b\b\b\b\b\b\b\b\b\b\b\b\b\b\b\b\b\b\b\b\b\b\b\b\b\b\b\b\b\b\b\b\b\b\b\b\b\b\b\b\b\b\b\b\b\b\b\b\b\b\b\b\b\b\r120/120 [==============================] - 1s 7ms/step - loss: 0.2187 - accuracy: 0.9018 - lr: 3.0000e-05\n",
            "Epoch 19/200\n",
            "117/120 [============================>.] - ETA: 0s - loss: 0.1929 - accuracy: 0.9132"
          ]
        },
        {
          "output_type": "stream",
          "name": "stderr",
          "text": [
            "WARNING:tensorflow:Early stopping conditioned on metric `val_loss` which is not available. Available metrics are: loss,accuracy\n",
            "WARNING:tensorflow:Learning rate reduction is conditioned on metric `val_loss` which is not available. Available metrics are: loss,accuracy,lr\n"
          ]
        },
        {
          "output_type": "stream",
          "name": "stdout",
          "text": [
            "\b\b\b\b\b\b\b\b\b\b\b\b\b\b\b\b\b\b\b\b\b\b\b\b\b\b\b\b\b\b\b\b\b\b\b\b\b\b\b\b\b\b\b\b\b\b\b\b\b\b\b\b\b\b\b\b\b\b\b\b\b\b\b\b\b\b\b\b\b\b\b\b\b\b\b\b\b\b\b\b\b\b\b\b\r120/120 [==============================] - 1s 7ms/step - loss: 0.1913 - accuracy: 0.9146 - lr: 3.0000e-05\n",
            "Epoch 20/200\n",
            "120/120 [==============================] - ETA: 0s - loss: 0.1649 - accuracy: 0.9303"
          ]
        },
        {
          "output_type": "stream",
          "name": "stderr",
          "text": [
            "WARNING:tensorflow:Early stopping conditioned on metric `val_loss` which is not available. Available metrics are: loss,accuracy\n",
            "WARNING:tensorflow:Learning rate reduction is conditioned on metric `val_loss` which is not available. Available metrics are: loss,accuracy,lr\n"
          ]
        },
        {
          "output_type": "stream",
          "name": "stdout",
          "text": [
            "\b\b\b\b\b\b\b\b\b\b\b\b\b\b\b\b\b\b\b\b\b\b\b\b\b\b\b\b\b\b\b\b\b\b\b\b\b\b\b\b\b\b\b\b\b\b\b\b\b\b\b\b\b\b\b\b\b\b\b\b\b\b\b\b\b\b\b\b\b\b\b\b\b\b\b\b\b\b\b\b\b\b\b\b\r120/120 [==============================] - 1s 7ms/step - loss: 0.1649 - accuracy: 0.9303 - lr: 3.0000e-05\n",
            "Epoch 21/200\n",
            "113/120 [===========================>..] - ETA: 0s - loss: 0.1401 - accuracy: 0.9516"
          ]
        },
        {
          "output_type": "stream",
          "name": "stderr",
          "text": [
            "WARNING:tensorflow:Early stopping conditioned on metric `val_loss` which is not available. Available metrics are: loss,accuracy\n",
            "WARNING:tensorflow:Learning rate reduction is conditioned on metric `val_loss` which is not available. Available metrics are: loss,accuracy,lr\n"
          ]
        },
        {
          "output_type": "stream",
          "name": "stdout",
          "text": [
            "\b\b\b\b\b\b\b\b\b\b\b\b\b\b\b\b\b\b\b\b\b\b\b\b\b\b\b\b\b\b\b\b\b\b\b\b\b\b\b\b\b\b\b\b\b\b\b\b\b\b\b\b\b\b\b\b\b\b\b\b\b\b\b\b\b\b\b\b\b\b\b\b\b\b\b\b\b\b\b\b\b\b\b\b\r120/120 [==============================] - 1s 7ms/step - loss: 0.1410 - accuracy: 0.9508 - lr: 3.0000e-05\n",
            "Epoch 22/200\n",
            "119/120 [============================>.] - ETA: 0s - loss: 0.1188 - accuracy: 0.9617"
          ]
        },
        {
          "output_type": "stream",
          "name": "stderr",
          "text": [
            "WARNING:tensorflow:Early stopping conditioned on metric `val_loss` which is not available. Available metrics are: loss,accuracy\n",
            "WARNING:tensorflow:Learning rate reduction is conditioned on metric `val_loss` which is not available. Available metrics are: loss,accuracy,lr\n"
          ]
        },
        {
          "output_type": "stream",
          "name": "stdout",
          "text": [
            "\b\b\b\b\b\b\b\b\b\b\b\b\b\b\b\b\b\b\b\b\b\b\b\b\b\b\b\b\b\b\b\b\b\b\b\b\b\b\b\b\b\b\b\b\b\b\b\b\b\b\b\b\b\b\b\b\b\b\b\b\b\b\b\b\b\b\b\b\b\b\b\b\b\b\b\b\b\b\b\b\b\b\b\b\r120/120 [==============================] - 1s 7ms/step - loss: 0.1186 - accuracy: 0.9618 - lr: 3.0000e-05\n",
            "Epoch 23/200\n",
            "118/120 [============================>.] - ETA: 0s - loss: 0.1020 - accuracy: 0.9706"
          ]
        },
        {
          "output_type": "stream",
          "name": "stderr",
          "text": [
            "WARNING:tensorflow:Early stopping conditioned on metric `val_loss` which is not available. Available metrics are: loss,accuracy\n",
            "WARNING:tensorflow:Learning rate reduction is conditioned on metric `val_loss` which is not available. Available metrics are: loss,accuracy,lr\n"
          ]
        },
        {
          "output_type": "stream",
          "name": "stdout",
          "text": [
            "\b\b\b\b\b\b\b\b\b\b\b\b\b\b\b\b\b\b\b\b\b\b\b\b\b\b\b\b\b\b\b\b\b\b\b\b\b\b\b\b\b\b\b\b\b\b\b\b\b\b\b\b\b\b\b\b\b\b\b\b\b\b\b\b\b\b\b\b\b\b\b\b\b\b\b\b\b\b\b\b\b\b\b\b\r120/120 [==============================] - 1s 7ms/step - loss: 0.1020 - accuracy: 0.9707 - lr: 3.0000e-05\n",
            "Epoch 24/200\n",
            "117/120 [============================>.] - ETA: 0s - loss: 0.0859 - accuracy: 0.9784"
          ]
        },
        {
          "output_type": "stream",
          "name": "stderr",
          "text": [
            "WARNING:tensorflow:Early stopping conditioned on metric `val_loss` which is not available. Available metrics are: loss,accuracy\n",
            "WARNING:tensorflow:Learning rate reduction is conditioned on metric `val_loss` which is not available. Available metrics are: loss,accuracy,lr\n"
          ]
        },
        {
          "output_type": "stream",
          "name": "stdout",
          "text": [
            "\b\b\b\b\b\b\b\b\b\b\b\b\b\b\b\b\b\b\b\b\b\b\b\b\b\b\b\b\b\b\b\b\b\b\b\b\b\b\b\b\b\b\b\b\b\b\b\b\b\b\b\b\b\b\b\b\b\b\b\b\b\b\b\b\b\b\b\b\b\b\b\b\b\b\b\b\b\b\b\b\b\b\b\b\r120/120 [==============================] - 1s 7ms/step - loss: 0.0856 - accuracy: 0.9783 - lr: 3.0000e-05\n",
            "Epoch 25/200\n",
            "119/120 [============================>.] - ETA: 0s - loss: 0.0763 - accuracy: 0.9782"
          ]
        },
        {
          "output_type": "stream",
          "name": "stderr",
          "text": [
            "WARNING:tensorflow:Early stopping conditioned on metric `val_loss` which is not available. Available metrics are: loss,accuracy\n",
            "WARNING:tensorflow:Learning rate reduction is conditioned on metric `val_loss` which is not available. Available metrics are: loss,accuracy,lr\n"
          ]
        },
        {
          "output_type": "stream",
          "name": "stdout",
          "text": [
            "\b\b\b\b\b\b\b\b\b\b\b\b\b\b\b\b\b\b\b\b\b\b\b\b\b\b\b\b\b\b\b\b\b\b\b\b\b\b\b\b\b\b\b\b\b\b\b\b\b\b\b\b\b\b\b\b\b\b\b\b\b\b\b\b\b\b\b\b\b\b\b\b\b\b\b\b\b\b\b\b\b\b\b\b\r120/120 [==============================] - 1s 7ms/step - loss: 0.0764 - accuracy: 0.9783 - lr: 3.0000e-05\n",
            "Epoch 26/200\n",
            "118/120 [============================>.] - ETA: 0s - loss: 0.0668 - accuracy: 0.9852"
          ]
        },
        {
          "output_type": "stream",
          "name": "stderr",
          "text": [
            "WARNING:tensorflow:Early stopping conditioned on metric `val_loss` which is not available. Available metrics are: loss,accuracy\n",
            "WARNING:tensorflow:Learning rate reduction is conditioned on metric `val_loss` which is not available. Available metrics are: loss,accuracy,lr\n"
          ]
        },
        {
          "output_type": "stream",
          "name": "stdout",
          "text": [
            "\b\b\b\b\b\b\b\b\b\b\b\b\b\b\b\b\b\b\b\b\b\b\b\b\b\b\b\b\b\b\b\b\b\b\b\b\b\b\b\b\b\b\b\b\b\b\b\b\b\b\b\b\b\b\b\b\b\b\b\b\b\b\b\b\b\b\b\b\b\b\b\b\b\b\b\b\b\b\b\b\b\b\b\b\r120/120 [==============================] - 1s 7ms/step - loss: 0.0671 - accuracy: 0.9851 - lr: 3.0000e-05\n",
            "Epoch 27/200\n",
            "120/120 [==============================] - ETA: 0s - loss: 0.0554 - accuracy: 0.9885"
          ]
        },
        {
          "output_type": "stream",
          "name": "stderr",
          "text": [
            "WARNING:tensorflow:Early stopping conditioned on metric `val_loss` which is not available. Available metrics are: loss,accuracy\n",
            "WARNING:tensorflow:Learning rate reduction is conditioned on metric `val_loss` which is not available. Available metrics are: loss,accuracy,lr\n"
          ]
        },
        {
          "output_type": "stream",
          "name": "stdout",
          "text": [
            "\b\b\b\b\b\b\b\b\b\b\b\b\b\b\b\b\b\b\b\b\b\b\b\b\b\b\b\b\b\b\b\b\b\b\b\b\b\b\b\b\b\b\b\b\b\b\b\b\b\b\b\b\b\b\b\b\b\b\b\b\b\b\b\b\b\b\b\b\b\b\b\b\b\b\b\b\b\b\b\b\b\b\b\b\r120/120 [==============================] - 1s 7ms/step - loss: 0.0554 - accuracy: 0.9885 - lr: 3.0000e-05\n",
            "Epoch 28/200\n",
            "120/120 [==============================] - ETA: 0s - loss: 0.0479 - accuracy: 0.9903"
          ]
        },
        {
          "output_type": "stream",
          "name": "stderr",
          "text": [
            "WARNING:tensorflow:Early stopping conditioned on metric `val_loss` which is not available. Available metrics are: loss,accuracy\n",
            "WARNING:tensorflow:Learning rate reduction is conditioned on metric `val_loss` which is not available. Available metrics are: loss,accuracy,lr\n"
          ]
        },
        {
          "output_type": "stream",
          "name": "stdout",
          "text": [
            "\b\b\b\b\b\b\b\b\b\b\b\b\b\b\b\b\b\b\b\b\b\b\b\b\b\b\b\b\b\b\b\b\b\b\b\b\b\b\b\b\b\b\b\b\b\b\b\b\b\b\b\b\b\b\b\b\b\b\b\b\b\b\b\b\b\b\b\b\b\b\b\b\b\b\b\b\b\b\b\b\b\b\b\b\r120/120 [==============================] - 1s 7ms/step - loss: 0.0479 - accuracy: 0.9903 - lr: 3.0000e-05\n",
            "Epoch 29/200\n",
            "118/120 [============================>.] - ETA: 0s - loss: 0.0462 - accuracy: 0.9918"
          ]
        },
        {
          "output_type": "stream",
          "name": "stderr",
          "text": [
            "WARNING:tensorflow:Early stopping conditioned on metric `val_loss` which is not available. Available metrics are: loss,accuracy\n",
            "WARNING:tensorflow:Learning rate reduction is conditioned on metric `val_loss` which is not available. Available metrics are: loss,accuracy,lr\n"
          ]
        },
        {
          "output_type": "stream",
          "name": "stdout",
          "text": [
            "\b\b\b\b\b\b\b\b\b\b\b\b\b\b\b\b\b\b\b\b\b\b\b\b\b\b\b\b\b\b\b\b\b\b\b\b\b\b\b\b\b\b\b\b\b\b\b\b\b\b\b\b\b\b\b\b\b\b\b\b\b\b\b\b\b\b\b\b\b\b\b\b\b\b\b\b\b\b\b\b\b\b\b\b\r120/120 [==============================] - 1s 7ms/step - loss: 0.0460 - accuracy: 0.9919 - lr: 3.0000e-05\n",
            "Epoch 30/200\n",
            "117/120 [============================>.] - ETA: 0s - loss: 0.0364 - accuracy: 0.9941"
          ]
        },
        {
          "output_type": "stream",
          "name": "stderr",
          "text": [
            "WARNING:tensorflow:Early stopping conditioned on metric `val_loss` which is not available. Available metrics are: loss,accuracy\n",
            "WARNING:tensorflow:Learning rate reduction is conditioned on metric `val_loss` which is not available. Available metrics are: loss,accuracy,lr\n"
          ]
        },
        {
          "output_type": "stream",
          "name": "stdout",
          "text": [
            "\b\b\b\b\b\b\b\b\b\b\b\b\b\b\b\b\b\b\b\b\b\b\b\b\b\b\b\b\b\b\b\b\b\b\b\b\b\b\b\b\b\b\b\b\b\b\b\b\b\b\b\b\b\b\b\b\b\b\b\b\b\b\b\b\b\b\b\b\b\b\b\b\b\b\b\b\b\b\b\b\b\b\b\b\r120/120 [==============================] - 1s 9ms/step - loss: 0.0367 - accuracy: 0.9940 - lr: 3.0000e-05\n",
            "Epoch 31/200\n",
            "119/120 [============================>.] - ETA: 0s - loss: 0.0361 - accuracy: 0.9921"
          ]
        },
        {
          "output_type": "stream",
          "name": "stderr",
          "text": [
            "WARNING:tensorflow:Early stopping conditioned on metric `val_loss` which is not available. Available metrics are: loss,accuracy\n",
            "WARNING:tensorflow:Learning rate reduction is conditioned on metric `val_loss` which is not available. Available metrics are: loss,accuracy,lr\n"
          ]
        },
        {
          "output_type": "stream",
          "name": "stdout",
          "text": [
            "\b\b\b\b\b\b\b\b\b\b\b\b\b\b\b\b\b\b\b\b\b\b\b\b\b\b\b\b\b\b\b\b\b\b\b\b\b\b\b\b\b\b\b\b\b\b\b\b\b\b\b\b\b\b\b\b\b\b\b\b\b\b\b\b\b\b\b\b\b\b\b\b\b\b\b\b\b\b\b\b\b\b\b\b\r120/120 [==============================] - 1s 10ms/step - loss: 0.0361 - accuracy: 0.9921 - lr: 3.0000e-05\n",
            "Epoch 32/200\n",
            "120/120 [==============================] - ETA: 0s - loss: 0.0306 - accuracy: 0.9945"
          ]
        },
        {
          "output_type": "stream",
          "name": "stderr",
          "text": [
            "WARNING:tensorflow:Early stopping conditioned on metric `val_loss` which is not available. Available metrics are: loss,accuracy\n",
            "WARNING:tensorflow:Learning rate reduction is conditioned on metric `val_loss` which is not available. Available metrics are: loss,accuracy,lr\n"
          ]
        },
        {
          "output_type": "stream",
          "name": "stdout",
          "text": [
            "\b\b\b\b\b\b\b\b\b\b\b\b\b\b\b\b\b\b\b\b\b\b\b\b\b\b\b\b\b\b\b\b\b\b\b\b\b\b\b\b\b\b\b\b\b\b\b\b\b\b\b\b\b\b\b\b\b\b\b\b\b\b\b\b\b\b\b\b\b\b\b\b\b\b\b\b\b\b\b\b\b\b\b\b\r120/120 [==============================] - 1s 9ms/step - loss: 0.0306 - accuracy: 0.9945 - lr: 3.0000e-05\n",
            "Epoch 33/200\n",
            "119/120 [============================>.] - ETA: 0s - loss: 0.0273 - accuracy: 0.9950"
          ]
        },
        {
          "output_type": "stream",
          "name": "stderr",
          "text": [
            "WARNING:tensorflow:Early stopping conditioned on metric `val_loss` which is not available. Available metrics are: loss,accuracy\n",
            "WARNING:tensorflow:Learning rate reduction is conditioned on metric `val_loss` which is not available. Available metrics are: loss,accuracy,lr\n"
          ]
        },
        {
          "output_type": "stream",
          "name": "stdout",
          "text": [
            "\b\b\b\b\b\b\b\b\b\b\b\b\b\b\b\b\b\b\b\b\b\b\b\b\b\b\b\b\b\b\b\b\b\b\b\b\b\b\b\b\b\b\b\b\b\b\b\b\b\b\b\b\b\b\b\b\b\b\b\b\b\b\b\b\b\b\b\b\b\b\b\b\b\b\b\b\b\b\b\b\b\b\b\b\r120/120 [==============================] - 1s 9ms/step - loss: 0.0273 - accuracy: 0.9950 - lr: 3.0000e-05\n",
            "Epoch 34/200\n",
            "114/120 [===========================>..] - ETA: 0s - loss: 0.0262 - accuracy: 0.9951"
          ]
        },
        {
          "output_type": "stream",
          "name": "stderr",
          "text": [
            "WARNING:tensorflow:Early stopping conditioned on metric `val_loss` which is not available. Available metrics are: loss,accuracy\n",
            "WARNING:tensorflow:Learning rate reduction is conditioned on metric `val_loss` which is not available. Available metrics are: loss,accuracy,lr\n"
          ]
        },
        {
          "output_type": "stream",
          "name": "stdout",
          "text": [
            "\b\b\b\b\b\b\b\b\b\b\b\b\b\b\b\b\b\b\b\b\b\b\b\b\b\b\b\b\b\b\b\b\b\b\b\b\b\b\b\b\b\b\b\b\b\b\b\b\b\b\b\b\b\b\b\b\b\b\b\b\b\b\b\b\b\b\b\b\b\b\b\b\b\b\b\b\b\b\b\b\b\b\b\b\r120/120 [==============================] - 1s 9ms/step - loss: 0.0255 - accuracy: 0.9953 - lr: 3.0000e-05\n",
            "Epoch 35/200\n",
            "115/120 [===========================>..] - ETA: 0s - loss: 0.0248 - accuracy: 0.9951"
          ]
        },
        {
          "output_type": "stream",
          "name": "stderr",
          "text": [
            "WARNING:tensorflow:Early stopping conditioned on metric `val_loss` which is not available. Available metrics are: loss,accuracy\n",
            "WARNING:tensorflow:Learning rate reduction is conditioned on metric `val_loss` which is not available. Available metrics are: loss,accuracy,lr\n"
          ]
        },
        {
          "output_type": "stream",
          "name": "stdout",
          "text": [
            "\b\b\b\b\b\b\b\b\b\b\b\b\b\b\b\b\b\b\b\b\b\b\b\b\b\b\b\b\b\b\b\b\b\b\b\b\b\b\b\b\b\b\b\b\b\b\b\b\b\b\b\b\b\b\b\b\b\b\b\b\b\b\b\b\b\b\b\b\b\b\b\b\b\b\b\b\b\b\b\b\b\b\b\b\r120/120 [==============================] - 1s 9ms/step - loss: 0.0244 - accuracy: 0.9953 - lr: 3.0000e-05\n",
            "Epoch 36/200\n",
            "115/120 [===========================>..] - ETA: 0s - loss: 0.0223 - accuracy: 0.9962"
          ]
        },
        {
          "output_type": "stream",
          "name": "stderr",
          "text": [
            "WARNING:tensorflow:Early stopping conditioned on metric `val_loss` which is not available. Available metrics are: loss,accuracy\n",
            "WARNING:tensorflow:Learning rate reduction is conditioned on metric `val_loss` which is not available. Available metrics are: loss,accuracy,lr\n"
          ]
        },
        {
          "output_type": "stream",
          "name": "stdout",
          "text": [
            "\b\b\b\b\b\b\b\b\b\b\b\b\b\b\b\b\b\b\b\b\b\b\b\b\b\b\b\b\b\b\b\b\b\b\b\b\b\b\b\b\b\b\b\b\b\b\b\b\b\b\b\b\b\b\b\b\b\b\b\b\b\b\b\b\b\b\b\b\b\b\b\b\b\b\b\b\b\b\b\b\b\b\b\b\r120/120 [==============================] - 1s 7ms/step - loss: 0.0219 - accuracy: 0.9963 - lr: 3.0000e-05\n",
            "Epoch 37/200\n",
            "120/120 [==============================] - ETA: 0s - loss: 0.0190 - accuracy: 0.9969"
          ]
        },
        {
          "output_type": "stream",
          "name": "stderr",
          "text": [
            "WARNING:tensorflow:Early stopping conditioned on metric `val_loss` which is not available. Available metrics are: loss,accuracy\n",
            "WARNING:tensorflow:Learning rate reduction is conditioned on metric `val_loss` which is not available. Available metrics are: loss,accuracy,lr\n"
          ]
        },
        {
          "output_type": "stream",
          "name": "stdout",
          "text": [
            "\b\b\b\b\b\b\b\b\b\b\b\b\b\b\b\b\b\b\b\b\b\b\b\b\b\b\b\b\b\b\b\b\b\b\b\b\b\b\b\b\b\b\b\b\b\b\b\b\b\b\b\b\b\b\b\b\b\b\b\b\b\b\b\b\b\b\b\b\b\b\b\b\b\b\b\b\b\b\b\b\b\b\b\b\r120/120 [==============================] - 1s 7ms/step - loss: 0.0190 - accuracy: 0.9969 - lr: 3.0000e-05\n",
            "Epoch 38/200\n",
            "120/120 [==============================] - ETA: 0s - loss: 0.0181 - accuracy: 0.9976"
          ]
        },
        {
          "output_type": "stream",
          "name": "stderr",
          "text": [
            "WARNING:tensorflow:Early stopping conditioned on metric `val_loss` which is not available. Available metrics are: loss,accuracy\n",
            "WARNING:tensorflow:Learning rate reduction is conditioned on metric `val_loss` which is not available. Available metrics are: loss,accuracy,lr\n"
          ]
        },
        {
          "output_type": "stream",
          "name": "stdout",
          "text": [
            "\b\b\b\b\b\b\b\b\b\b\b\b\b\b\b\b\b\b\b\b\b\b\b\b\b\b\b\b\b\b\b\b\b\b\b\b\b\b\b\b\b\b\b\b\b\b\b\b\b\b\b\b\b\b\b\b\b\b\b\b\b\b\b\b\b\b\b\b\b\b\b\b\b\b\b\b\b\b\b\b\b\b\b\b\r120/120 [==============================] - 1s 7ms/step - loss: 0.0181 - accuracy: 0.9976 - lr: 3.0000e-05\n",
            "Epoch 39/200\n",
            "120/120 [==============================] - ETA: 0s - loss: 0.0164 - accuracy: 0.9963"
          ]
        },
        {
          "output_type": "stream",
          "name": "stderr",
          "text": [
            "WARNING:tensorflow:Early stopping conditioned on metric `val_loss` which is not available. Available metrics are: loss,accuracy\n",
            "WARNING:tensorflow:Learning rate reduction is conditioned on metric `val_loss` which is not available. Available metrics are: loss,accuracy,lr\n"
          ]
        },
        {
          "output_type": "stream",
          "name": "stdout",
          "text": [
            "\b\b\b\b\b\b\b\b\b\b\b\b\b\b\b\b\b\b\b\b\b\b\b\b\b\b\b\b\b\b\b\b\b\b\b\b\b\b\b\b\b\b\b\b\b\b\b\b\b\b\b\b\b\b\b\b\b\b\b\b\b\b\b\b\b\b\b\b\b\b\b\b\b\b\b\b\b\b\b\b\b\b\b\b\r120/120 [==============================] - 1s 7ms/step - loss: 0.0164 - accuracy: 0.9963 - lr: 3.0000e-05\n",
            "Epoch 40/200\n",
            "120/120 [==============================] - ETA: 0s - loss: 0.0165 - accuracy: 0.9966"
          ]
        },
        {
          "output_type": "stream",
          "name": "stderr",
          "text": [
            "WARNING:tensorflow:Early stopping conditioned on metric `val_loss` which is not available. Available metrics are: loss,accuracy\n",
            "WARNING:tensorflow:Learning rate reduction is conditioned on metric `val_loss` which is not available. Available metrics are: loss,accuracy,lr\n"
          ]
        },
        {
          "output_type": "stream",
          "name": "stdout",
          "text": [
            "\b\b\b\b\b\b\b\b\b\b\b\b\b\b\b\b\b\b\b\b\b\b\b\b\b\b\b\b\b\b\b\b\b\b\b\b\b\b\b\b\b\b\b\b\b\b\b\b\b\b\b\b\b\b\b\b\b\b\b\b\b\b\b\b\b\b\b\b\b\b\b\b\b\b\b\b\b\b\b\b\b\b\b\b\r120/120 [==============================] - 1s 7ms/step - loss: 0.0165 - accuracy: 0.9966 - lr: 3.0000e-05\n",
            "Epoch 41/200\n",
            "119/120 [============================>.] - ETA: 0s - loss: 0.0142 - accuracy: 0.9982"
          ]
        },
        {
          "output_type": "stream",
          "name": "stderr",
          "text": [
            "WARNING:tensorflow:Early stopping conditioned on metric `val_loss` which is not available. Available metrics are: loss,accuracy\n",
            "WARNING:tensorflow:Learning rate reduction is conditioned on metric `val_loss` which is not available. Available metrics are: loss,accuracy,lr\n"
          ]
        },
        {
          "output_type": "stream",
          "name": "stdout",
          "text": [
            "\b\b\b\b\b\b\b\b\b\b\b\b\b\b\b\b\b\b\b\b\b\b\b\b\b\b\b\b\b\b\b\b\b\b\b\b\b\b\b\b\b\b\b\b\b\b\b\b\b\b\b\b\b\b\b\b\b\b\b\b\b\b\b\b\b\b\b\b\b\b\b\b\b\b\b\b\b\b\b\b\b\b\b\b\r120/120 [==============================] - 1s 7ms/step - loss: 0.0141 - accuracy: 0.9982 - lr: 3.0000e-05\n",
            "Epoch 42/200\n",
            "120/120 [==============================] - ETA: 0s - loss: 0.0150 - accuracy: 0.9974"
          ]
        },
        {
          "output_type": "stream",
          "name": "stderr",
          "text": [
            "WARNING:tensorflow:Early stopping conditioned on metric `val_loss` which is not available. Available metrics are: loss,accuracy\n",
            "WARNING:tensorflow:Learning rate reduction is conditioned on metric `val_loss` which is not available. Available metrics are: loss,accuracy,lr\n"
          ]
        },
        {
          "output_type": "stream",
          "name": "stdout",
          "text": [
            "\b\b\b\b\b\b\b\b\b\b\b\b\b\b\b\b\b\b\b\b\b\b\b\b\b\b\b\b\b\b\b\b\b\b\b\b\b\b\b\b\b\b\b\b\b\b\b\b\b\b\b\b\b\b\b\b\b\b\b\b\b\b\b\b\b\b\b\b\b\b\b\b\b\b\b\b\b\b\b\b\b\b\b\b\r120/120 [==============================] - 1s 7ms/step - loss: 0.0150 - accuracy: 0.9974 - lr: 3.0000e-05\n",
            "Epoch 43/200\n",
            "118/120 [============================>.] - ETA: 0s - loss: 0.0129 - accuracy: 0.9984"
          ]
        },
        {
          "output_type": "stream",
          "name": "stderr",
          "text": [
            "WARNING:tensorflow:Early stopping conditioned on metric `val_loss` which is not available. Available metrics are: loss,accuracy\n",
            "WARNING:tensorflow:Learning rate reduction is conditioned on metric `val_loss` which is not available. Available metrics are: loss,accuracy,lr\n"
          ]
        },
        {
          "output_type": "stream",
          "name": "stdout",
          "text": [
            "\b\b\b\b\b\b\b\b\b\b\b\b\b\b\b\b\b\b\b\b\b\b\b\b\b\b\b\b\b\b\b\b\b\b\b\b\b\b\b\b\b\b\b\b\b\b\b\b\b\b\b\b\b\b\b\b\b\b\b\b\b\b\b\b\b\b\b\b\b\b\b\b\b\b\b\b\b\b\b\b\b\b\b\b\r120/120 [==============================] - 1s 7ms/step - loss: 0.0128 - accuracy: 0.9984 - lr: 3.0000e-05\n",
            "Epoch 44/200\n",
            "113/120 [===========================>..] - ETA: 0s - loss: 0.0140 - accuracy: 0.9972"
          ]
        },
        {
          "output_type": "stream",
          "name": "stderr",
          "text": [
            "WARNING:tensorflow:Early stopping conditioned on metric `val_loss` which is not available. Available metrics are: loss,accuracy\n",
            "WARNING:tensorflow:Learning rate reduction is conditioned on metric `val_loss` which is not available. Available metrics are: loss,accuracy,lr\n"
          ]
        },
        {
          "output_type": "stream",
          "name": "stdout",
          "text": [
            "\b\b\b\b\b\b\b\b\b\b\b\b\b\b\b\b\b\b\b\b\b\b\b\b\b\b\b\b\b\b\b\b\b\b\b\b\b\b\b\b\b\b\b\b\b\b\b\b\b\b\b\b\b\b\b\b\b\b\b\b\b\b\b\b\b\b\b\b\b\b\b\b\b\b\b\b\b\b\b\b\b\b\b\b\r120/120 [==============================] - 1s 7ms/step - loss: 0.0137 - accuracy: 0.9974 - lr: 3.0000e-05\n",
            "Epoch 45/200\n",
            "113/120 [===========================>..] - ETA: 0s - loss: 0.0113 - accuracy: 0.9981"
          ]
        },
        {
          "output_type": "stream",
          "name": "stderr",
          "text": [
            "WARNING:tensorflow:Early stopping conditioned on metric `val_loss` which is not available. Available metrics are: loss,accuracy\n",
            "WARNING:tensorflow:Learning rate reduction is conditioned on metric `val_loss` which is not available. Available metrics are: loss,accuracy,lr\n"
          ]
        },
        {
          "output_type": "stream",
          "name": "stdout",
          "text": [
            "\b\b\b\b\b\b\b\b\b\b\b\b\b\b\b\b\b\b\b\b\b\b\b\b\b\b\b\b\b\b\b\b\b\b\b\b\b\b\b\b\b\b\b\b\b\b\b\b\b\b\b\b\b\b\b\b\b\b\b\b\b\b\b\b\b\b\b\b\b\b\b\b\b\b\b\b\b\b\b\b\b\b\b\b\r120/120 [==============================] - 1s 7ms/step - loss: 0.0113 - accuracy: 0.9979 - lr: 3.0000e-05\n",
            "Epoch 46/200\n",
            "120/120 [==============================] - ETA: 0s - loss: 0.0119 - accuracy: 0.9982"
          ]
        },
        {
          "output_type": "stream",
          "name": "stderr",
          "text": [
            "WARNING:tensorflow:Early stopping conditioned on metric `val_loss` which is not available. Available metrics are: loss,accuracy\n",
            "WARNING:tensorflow:Learning rate reduction is conditioned on metric `val_loss` which is not available. Available metrics are: loss,accuracy,lr\n"
          ]
        },
        {
          "output_type": "stream",
          "name": "stdout",
          "text": [
            "\b\b\b\b\b\b\b\b\b\b\b\b\b\b\b\b\b\b\b\b\b\b\b\b\b\b\b\b\b\b\b\b\b\b\b\b\b\b\b\b\b\b\b\b\b\b\b\b\b\b\b\b\b\b\b\b\b\b\b\b\b\b\b\b\b\b\b\b\b\b\b\b\b\b\b\b\b\b\b\b\b\b\b\b\r120/120 [==============================] - 1s 7ms/step - loss: 0.0119 - accuracy: 0.9982 - lr: 3.0000e-05\n",
            "Epoch 47/200\n",
            "118/120 [============================>.] - ETA: 0s - loss: 0.0093 - accuracy: 0.9992"
          ]
        },
        {
          "output_type": "stream",
          "name": "stderr",
          "text": [
            "WARNING:tensorflow:Early stopping conditioned on metric `val_loss` which is not available. Available metrics are: loss,accuracy\n",
            "WARNING:tensorflow:Learning rate reduction is conditioned on metric `val_loss` which is not available. Available metrics are: loss,accuracy,lr\n"
          ]
        },
        {
          "output_type": "stream",
          "name": "stdout",
          "text": [
            "\b\b\b\b\b\b\b\b\b\b\b\b\b\b\b\b\b\b\b\b\b\b\b\b\b\b\b\b\b\b\b\b\b\b\b\b\b\b\b\b\b\b\b\b\b\b\b\b\b\b\b\b\b\b\b\b\b\b\b\b\b\b\b\b\b\b\b\b\b\b\b\b\b\b\b\b\b\b\b\b\b\b\b\b\r120/120 [==============================] - 1s 7ms/step - loss: 0.0094 - accuracy: 0.9992 - lr: 3.0000e-05\n",
            "Epoch 48/200\n",
            "117/120 [============================>.] - ETA: 0s - loss: 0.0108 - accuracy: 0.9984"
          ]
        },
        {
          "output_type": "stream",
          "name": "stderr",
          "text": [
            "WARNING:tensorflow:Early stopping conditioned on metric `val_loss` which is not available. Available metrics are: loss,accuracy\n",
            "WARNING:tensorflow:Learning rate reduction is conditioned on metric `val_loss` which is not available. Available metrics are: loss,accuracy,lr\n"
          ]
        },
        {
          "output_type": "stream",
          "name": "stdout",
          "text": [
            "\b\b\b\b\b\b\b\b\b\b\b\b\b\b\b\b\b\b\b\b\b\b\b\b\b\b\b\b\b\b\b\b\b\b\b\b\b\b\b\b\b\b\b\b\b\b\b\b\b\b\b\b\b\b\b\b\b\b\b\b\b\b\b\b\b\b\b\b\b\b\b\b\b\b\b\b\b\b\b\b\b\b\b\b\r120/120 [==============================] - 1s 7ms/step - loss: 0.0106 - accuracy: 0.9984 - lr: 3.0000e-05\n",
            "Epoch 49/200\n",
            "120/120 [==============================] - ETA: 0s - loss: 0.0086 - accuracy: 0.9987"
          ]
        },
        {
          "output_type": "stream",
          "name": "stderr",
          "text": [
            "WARNING:tensorflow:Early stopping conditioned on metric `val_loss` which is not available. Available metrics are: loss,accuracy\n",
            "WARNING:tensorflow:Learning rate reduction is conditioned on metric `val_loss` which is not available. Available metrics are: loss,accuracy,lr\n"
          ]
        },
        {
          "output_type": "stream",
          "name": "stdout",
          "text": [
            "\b\b\b\b\b\b\b\b\b\b\b\b\b\b\b\b\b\b\b\b\b\b\b\b\b\b\b\b\b\b\b\b\b\b\b\b\b\b\b\b\b\b\b\b\b\b\b\b\b\b\b\b\b\b\b\b\b\b\b\b\b\b\b\b\b\b\b\b\b\b\b\b\b\b\b\b\b\b\b\b\b\b\b\b\r120/120 [==============================] - 1s 7ms/step - loss: 0.0086 - accuracy: 0.9987 - lr: 3.0000e-05\n",
            "Epoch 50/200\n",
            "117/120 [============================>.] - ETA: 0s - loss: 0.0088 - accuracy: 0.9989"
          ]
        },
        {
          "output_type": "stream",
          "name": "stderr",
          "text": [
            "WARNING:tensorflow:Early stopping conditioned on metric `val_loss` which is not available. Available metrics are: loss,accuracy\n",
            "WARNING:tensorflow:Learning rate reduction is conditioned on metric `val_loss` which is not available. Available metrics are: loss,accuracy,lr\n"
          ]
        },
        {
          "output_type": "stream",
          "name": "stdout",
          "text": [
            "\b\b\b\b\b\b\b\b\b\b\b\b\b\b\b\b\b\b\b\b\b\b\b\b\b\b\b\b\b\b\b\b\b\b\b\b\b\b\b\b\b\b\b\b\b\b\b\b\b\b\b\b\b\b\b\b\b\b\b\b\b\b\b\b\b\b\b\b\b\b\b\b\b\b\b\b\b\b\b\b\b\b\b\b\r120/120 [==============================] - 1s 7ms/step - loss: 0.0094 - accuracy: 0.9987 - lr: 3.0000e-05\n",
            "Epoch 51/200\n",
            "120/120 [==============================] - ETA: 0s - loss: 0.0087 - accuracy: 0.9990"
          ]
        },
        {
          "output_type": "stream",
          "name": "stderr",
          "text": [
            "WARNING:tensorflow:Early stopping conditioned on metric `val_loss` which is not available. Available metrics are: loss,accuracy\n",
            "WARNING:tensorflow:Learning rate reduction is conditioned on metric `val_loss` which is not available. Available metrics are: loss,accuracy,lr\n"
          ]
        },
        {
          "output_type": "stream",
          "name": "stdout",
          "text": [
            "\b\b\b\b\b\b\b\b\b\b\b\b\b\b\b\b\b\b\b\b\b\b\b\b\b\b\b\b\b\b\b\b\b\b\b\b\b\b\b\b\b\b\b\b\b\b\b\b\b\b\b\b\b\b\b\b\b\b\b\b\b\b\b\b\b\b\b\b\b\b\b\b\b\b\b\b\b\b\b\b\b\b\b\b\r120/120 [==============================] - 1s 7ms/step - loss: 0.0087 - accuracy: 0.9990 - lr: 3.0000e-05\n",
            "Epoch 52/200\n",
            "119/120 [============================>.] - ETA: 0s - loss: 0.0075 - accuracy: 0.9989"
          ]
        },
        {
          "output_type": "stream",
          "name": "stderr",
          "text": [
            "WARNING:tensorflow:Early stopping conditioned on metric `val_loss` which is not available. Available metrics are: loss,accuracy\n",
            "WARNING:tensorflow:Learning rate reduction is conditioned on metric `val_loss` which is not available. Available metrics are: loss,accuracy,lr\n"
          ]
        },
        {
          "output_type": "stream",
          "name": "stdout",
          "text": [
            "\b\b\b\b\b\b\b\b\b\b\b\b\b\b\b\b\b\b\b\b\b\b\b\b\b\b\b\b\b\b\b\b\b\b\b\b\b\b\b\b\b\b\b\b\b\b\b\b\b\b\b\b\b\b\b\b\b\b\b\b\b\b\b\b\b\b\b\b\b\b\b\b\b\b\b\b\b\b\b\b\b\b\b\b\r120/120 [==============================] - 1s 7ms/step - loss: 0.0075 - accuracy: 0.9990 - lr: 3.0000e-05\n",
            "Epoch 53/200\n",
            "119/120 [============================>.] - ETA: 0s - loss: 0.0089 - accuracy: 0.9982"
          ]
        },
        {
          "output_type": "stream",
          "name": "stderr",
          "text": [
            "WARNING:tensorflow:Early stopping conditioned on metric `val_loss` which is not available. Available metrics are: loss,accuracy\n",
            "WARNING:tensorflow:Learning rate reduction is conditioned on metric `val_loss` which is not available. Available metrics are: loss,accuracy,lr\n"
          ]
        },
        {
          "output_type": "stream",
          "name": "stdout",
          "text": [
            "\b\b\b\b\b\b\b\b\b\b\b\b\b\b\b\b\b\b\b\b\b\b\b\b\b\b\b\b\b\b\b\b\b\b\b\b\b\b\b\b\b\b\b\b\b\b\b\b\b\b\b\b\b\b\b\b\b\b\b\b\b\b\b\b\b\b\b\b\b\b\b\b\b\b\b\b\b\b\b\b\b\b\b\b\r120/120 [==============================] - 1s 7ms/step - loss: 0.0089 - accuracy: 0.9982 - lr: 3.0000e-05\n",
            "Epoch 54/200\n",
            "113/120 [===========================>..] - ETA: 0s - loss: 0.0082 - accuracy: 0.9989"
          ]
        },
        {
          "output_type": "stream",
          "name": "stderr",
          "text": [
            "WARNING:tensorflow:Early stopping conditioned on metric `val_loss` which is not available. Available metrics are: loss,accuracy\n",
            "WARNING:tensorflow:Learning rate reduction is conditioned on metric `val_loss` which is not available. Available metrics are: loss,accuracy,lr\n"
          ]
        },
        {
          "output_type": "stream",
          "name": "stdout",
          "text": [
            "\b\b\b\b\b\b\b\b\b\b\b\b\b\b\b\b\b\b\b\b\b\b\b\b\b\b\b\b\b\b\b\b\b\b\b\b\b\b\b\b\b\b\b\b\b\b\b\b\b\b\b\b\b\b\b\b\b\b\b\b\b\b\b\b\b\b\b\b\b\b\b\b\b\b\b\b\b\b\b\b\b\b\b\b\r120/120 [==============================] - 1s 7ms/step - loss: 0.0082 - accuracy: 0.9990 - lr: 3.0000e-05\n",
            "Epoch 55/200\n",
            "119/120 [============================>.] - ETA: 0s - loss: 0.0068 - accuracy: 0.9989"
          ]
        },
        {
          "output_type": "stream",
          "name": "stderr",
          "text": [
            "WARNING:tensorflow:Early stopping conditioned on metric `val_loss` which is not available. Available metrics are: loss,accuracy\n",
            "WARNING:tensorflow:Learning rate reduction is conditioned on metric `val_loss` which is not available. Available metrics are: loss,accuracy,lr\n"
          ]
        },
        {
          "output_type": "stream",
          "name": "stdout",
          "text": [
            "\b\b\b\b\b\b\b\b\b\b\b\b\b\b\b\b\b\b\b\b\b\b\b\b\b\b\b\b\b\b\b\b\b\b\b\b\b\b\b\b\b\b\b\b\b\b\b\b\b\b\b\b\b\b\b\b\b\b\b\b\b\b\b\b\b\b\b\b\b\b\b\b\b\b\b\b\b\b\b\b\b\b\b\b\r120/120 [==============================] - 1s 7ms/step - loss: 0.0068 - accuracy: 0.9990 - lr: 3.0000e-05\n",
            "Epoch 56/200\n",
            "118/120 [============================>.] - ETA: 0s - loss: 0.0065 - accuracy: 0.9989"
          ]
        },
        {
          "output_type": "stream",
          "name": "stderr",
          "text": [
            "WARNING:tensorflow:Early stopping conditioned on metric `val_loss` which is not available. Available metrics are: loss,accuracy\n",
            "WARNING:tensorflow:Learning rate reduction is conditioned on metric `val_loss` which is not available. Available metrics are: loss,accuracy,lr\n"
          ]
        },
        {
          "output_type": "stream",
          "name": "stdout",
          "text": [
            "\b\b\b\b\b\b\b\b\b\b\b\b\b\b\b\b\b\b\b\b\b\b\b\b\b\b\b\b\b\b\b\b\b\b\b\b\b\b\b\b\b\b\b\b\b\b\b\b\b\b\b\b\b\b\b\b\b\b\b\b\b\b\b\b\b\b\b\b\b\b\b\b\b\b\b\b\b\b\b\b\b\b\b\b\r120/120 [==============================] - 1s 7ms/step - loss: 0.0065 - accuracy: 0.9990 - lr: 3.0000e-05\n",
            "Epoch 57/200\n",
            "118/120 [============================>.] - ETA: 0s - loss: 0.0061 - accuracy: 0.9987"
          ]
        },
        {
          "output_type": "stream",
          "name": "stderr",
          "text": [
            "WARNING:tensorflow:Early stopping conditioned on metric `val_loss` which is not available. Available metrics are: loss,accuracy\n",
            "WARNING:tensorflow:Learning rate reduction is conditioned on metric `val_loss` which is not available. Available metrics are: loss,accuracy,lr\n"
          ]
        },
        {
          "output_type": "stream",
          "name": "stdout",
          "text": [
            "\b\b\b\b\b\b\b\b\b\b\b\b\b\b\b\b\b\b\b\b\b\b\b\b\b\b\b\b\b\b\b\b\b\b\b\b\b\b\b\b\b\b\b\b\b\b\b\b\b\b\b\b\b\b\b\b\b\b\b\b\b\b\b\b\b\b\b\b\b\b\b\b\b\b\b\b\b\b\b\b\b\b\b\b\r120/120 [==============================] - 1s 7ms/step - loss: 0.0061 - accuracy: 0.9987 - lr: 3.0000e-05\n",
            "Epoch 58/200\n",
            "119/120 [============================>.] - ETA: 0s - loss: 0.0073 - accuracy: 0.9992"
          ]
        },
        {
          "output_type": "stream",
          "name": "stderr",
          "text": [
            "WARNING:tensorflow:Early stopping conditioned on metric `val_loss` which is not available. Available metrics are: loss,accuracy\n",
            "WARNING:tensorflow:Learning rate reduction is conditioned on metric `val_loss` which is not available. Available metrics are: loss,accuracy,lr\n"
          ]
        },
        {
          "output_type": "stream",
          "name": "stdout",
          "text": [
            "\b\b\b\b\b\b\b\b\b\b\b\b\b\b\b\b\b\b\b\b\b\b\b\b\b\b\b\b\b\b\b\b\b\b\b\b\b\b\b\b\b\b\b\b\b\b\b\b\b\b\b\b\b\b\b\b\b\b\b\b\b\b\b\b\b\b\b\b\b\b\b\b\b\b\b\b\b\b\b\b\b\b\b\b\r120/120 [==============================] - 1s 7ms/step - loss: 0.0073 - accuracy: 0.9992 - lr: 3.0000e-05\n",
            "Epoch 59/200\n",
            "117/120 [============================>.] - ETA: 0s - loss: 0.0066 - accuracy: 0.9992"
          ]
        },
        {
          "output_type": "stream",
          "name": "stderr",
          "text": [
            "WARNING:tensorflow:Early stopping conditioned on metric `val_loss` which is not available. Available metrics are: loss,accuracy\n",
            "WARNING:tensorflow:Learning rate reduction is conditioned on metric `val_loss` which is not available. Available metrics are: loss,accuracy,lr\n"
          ]
        },
        {
          "output_type": "stream",
          "name": "stdout",
          "text": [
            "\b\b\b\b\b\b\b\b\b\b\b\b\b\b\b\b\b\b\b\b\b\b\b\b\b\b\b\b\b\b\b\b\b\b\b\b\b\b\b\b\b\b\b\b\b\b\b\b\b\b\b\b\b\b\b\b\b\b\b\b\b\b\b\b\b\b\b\b\b\b\b\b\b\b\b\b\b\b\b\b\b\b\b\b\r120/120 [==============================] - 1s 7ms/step - loss: 0.0065 - accuracy: 0.9992 - lr: 3.0000e-05\n",
            "Epoch 60/200\n",
            "113/120 [===========================>..] - ETA: 0s - loss: 0.0049 - accuracy: 0.9994"
          ]
        },
        {
          "output_type": "stream",
          "name": "stderr",
          "text": [
            "WARNING:tensorflow:Early stopping conditioned on metric `val_loss` which is not available. Available metrics are: loss,accuracy\n",
            "WARNING:tensorflow:Learning rate reduction is conditioned on metric `val_loss` which is not available. Available metrics are: loss,accuracy,lr\n"
          ]
        },
        {
          "output_type": "stream",
          "name": "stdout",
          "text": [
            "\b\b\b\b\b\b\b\b\b\b\b\b\b\b\b\b\b\b\b\b\b\b\b\b\b\b\b\b\b\b\b\b\b\b\b\b\b\b\b\b\b\b\b\b\b\b\b\b\b\b\b\b\b\b\b\b\b\b\b\b\b\b\b\b\b\b\b\b\b\b\b\b\b\b\b\b\b\b\b\b\b\b\b\b\r120/120 [==============================] - 1s 7ms/step - loss: 0.0056 - accuracy: 0.9992 - lr: 3.0000e-05\n",
            "Epoch 61/200\n",
            "120/120 [==============================] - ETA: 0s - loss: 0.0045 - accuracy: 0.9984"
          ]
        },
        {
          "output_type": "stream",
          "name": "stderr",
          "text": [
            "WARNING:tensorflow:Early stopping conditioned on metric `val_loss` which is not available. Available metrics are: loss,accuracy\n",
            "WARNING:tensorflow:Learning rate reduction is conditioned on metric `val_loss` which is not available. Available metrics are: loss,accuracy,lr\n"
          ]
        },
        {
          "output_type": "stream",
          "name": "stdout",
          "text": [
            "\b\b\b\b\b\b\b\b\b\b\b\b\b\b\b\b\b\b\b\b\b\b\b\b\b\b\b\b\b\b\b\b\b\b\b\b\b\b\b\b\b\b\b\b\b\b\b\b\b\b\b\b\b\b\b\b\b\b\b\b\b\b\b\b\b\b\b\b\b\b\b\b\b\b\b\b\b\b\b\b\b\b\b\b\r120/120 [==============================] - 1s 7ms/step - loss: 0.0045 - accuracy: 0.9984 - lr: 3.0000e-05\n",
            "Epoch 62/200\n",
            "116/120 [============================>.] - ETA: 0s - loss: 0.0060 - accuracy: 0.9992"
          ]
        },
        {
          "output_type": "stream",
          "name": "stderr",
          "text": [
            "WARNING:tensorflow:Early stopping conditioned on metric `val_loss` which is not available. Available metrics are: loss,accuracy\n",
            "WARNING:tensorflow:Learning rate reduction is conditioned on metric `val_loss` which is not available. Available metrics are: loss,accuracy,lr\n"
          ]
        },
        {
          "output_type": "stream",
          "name": "stdout",
          "text": [
            "\b\b\b\b\b\b\b\b\b\b\b\b\b\b\b\b\b\b\b\b\b\b\b\b\b\b\b\b\b\b\b\b\b\b\b\b\b\b\b\b\b\b\b\b\b\b\b\b\b\b\b\b\b\b\b\b\b\b\b\b\b\b\b\b\b\b\b\b\b\b\b\b\b\b\b\b\b\b\b\b\b\b\b\b\r120/120 [==============================] - 1s 7ms/step - loss: 0.0060 - accuracy: 0.9992 - lr: 3.0000e-05\n",
            "Epoch 63/200\n",
            "119/120 [============================>.] - ETA: 0s - loss: 0.0057 - accuracy: 0.9992"
          ]
        },
        {
          "output_type": "stream",
          "name": "stderr",
          "text": [
            "WARNING:tensorflow:Early stopping conditioned on metric `val_loss` which is not available. Available metrics are: loss,accuracy\n",
            "WARNING:tensorflow:Learning rate reduction is conditioned on metric `val_loss` which is not available. Available metrics are: loss,accuracy,lr\n"
          ]
        },
        {
          "output_type": "stream",
          "name": "stdout",
          "text": [
            "\b\b\b\b\b\b\b\b\b\b\b\b\b\b\b\b\b\b\b\b\b\b\b\b\b\b\b\b\b\b\b\b\b\b\b\b\b\b\b\b\b\b\b\b\b\b\b\b\b\b\b\b\b\b\b\b\b\b\b\b\b\b\b\b\b\b\b\b\b\b\b\b\b\b\b\b\b\b\b\b\b\b\b\b\r120/120 [==============================] - 1s 7ms/step - loss: 0.0056 - accuracy: 0.9992 - lr: 3.0000e-05\n",
            "Epoch 64/200\n",
            "119/120 [============================>.] - ETA: 0s - loss: 0.0059 - accuracy: 0.9989"
          ]
        },
        {
          "output_type": "stream",
          "name": "stderr",
          "text": [
            "WARNING:tensorflow:Early stopping conditioned on metric `val_loss` which is not available. Available metrics are: loss,accuracy\n",
            "WARNING:tensorflow:Learning rate reduction is conditioned on metric `val_loss` which is not available. Available metrics are: loss,accuracy,lr\n"
          ]
        },
        {
          "output_type": "stream",
          "name": "stdout",
          "text": [
            "\b\b\b\b\b\b\b\b\b\b\b\b\b\b\b\b\b\b\b\b\b\b\b\b\b\b\b\b\b\b\b\b\b\b\b\b\b\b\b\b\b\b\b\b\b\b\b\b\b\b\b\b\b\b\b\b\b\b\b\b\b\b\b\b\b\b\b\b\b\b\b\b\b\b\b\b\b\b\b\b\b\b\b\b\r120/120 [==============================] - 1s 7ms/step - loss: 0.0058 - accuracy: 0.9990 - lr: 3.0000e-05\n",
            "Epoch 65/200\n",
            "113/120 [===========================>..] - ETA: 0s - loss: 0.0057 - accuracy: 0.9992"
          ]
        },
        {
          "output_type": "stream",
          "name": "stderr",
          "text": [
            "WARNING:tensorflow:Early stopping conditioned on metric `val_loss` which is not available. Available metrics are: loss,accuracy\n",
            "WARNING:tensorflow:Learning rate reduction is conditioned on metric `val_loss` which is not available. Available metrics are: loss,accuracy,lr\n"
          ]
        },
        {
          "output_type": "stream",
          "name": "stdout",
          "text": [
            "\b\b\b\b\b\b\b\b\b\b\b\b\b\b\b\b\b\b\b\b\b\b\b\b\b\b\b\b\b\b\b\b\b\b\b\b\b\b\b\b\b\b\b\b\b\b\b\b\b\b\b\b\b\b\b\b\b\b\b\b\b\b\b\b\b\b\b\b\b\b\b\b\b\b\b\b\b\b\b\b\b\b\b\b\r120/120 [==============================] - 1s 7ms/step - loss: 0.0056 - accuracy: 0.9992 - lr: 3.0000e-05\n",
            "Epoch 66/200\n",
            "117/120 [============================>.] - ETA: 0s - loss: 0.0043 - accuracy: 0.9995"
          ]
        },
        {
          "output_type": "stream",
          "name": "stderr",
          "text": [
            "WARNING:tensorflow:Early stopping conditioned on metric `val_loss` which is not available. Available metrics are: loss,accuracy\n",
            "WARNING:tensorflow:Learning rate reduction is conditioned on metric `val_loss` which is not available. Available metrics are: loss,accuracy,lr\n"
          ]
        },
        {
          "output_type": "stream",
          "name": "stdout",
          "text": [
            "\b\b\b\b\b\b\b\b\b\b\b\b\b\b\b\b\b\b\b\b\b\b\b\b\b\b\b\b\b\b\b\b\b\b\b\b\b\b\b\b\b\b\b\b\b\b\b\b\b\b\b\b\b\b\b\b\b\b\b\b\b\b\b\b\b\b\b\b\b\b\b\b\b\b\b\b\b\b\b\b\b\b\b\b\r120/120 [==============================] - 1s 7ms/step - loss: 0.0043 - accuracy: 0.9995 - lr: 3.0000e-05\n",
            "Epoch 67/200\n",
            "113/120 [===========================>..] - ETA: 0s - loss: 0.0039 - accuracy: 0.9997"
          ]
        },
        {
          "output_type": "stream",
          "name": "stderr",
          "text": [
            "WARNING:tensorflow:Early stopping conditioned on metric `val_loss` which is not available. Available metrics are: loss,accuracy\n",
            "WARNING:tensorflow:Learning rate reduction is conditioned on metric `val_loss` which is not available. Available metrics are: loss,accuracy,lr\n"
          ]
        },
        {
          "output_type": "stream",
          "name": "stdout",
          "text": [
            "\b\b\b\b\b\b\b\b\b\b\b\b\b\b\b\b\b\b\b\b\b\b\b\b\b\b\b\b\b\b\b\b\b\b\b\b\b\b\b\b\b\b\b\b\b\b\b\b\b\b\b\b\b\b\b\b\b\b\b\b\b\b\b\b\b\b\b\b\b\b\b\b\b\b\b\b\b\b\b\b\b\b\b\b\r120/120 [==============================] - 1s 7ms/step - loss: 0.0038 - accuracy: 0.9997 - lr: 3.0000e-05\n",
            "Epoch 68/200\n",
            "117/120 [============================>.] - ETA: 0s - loss: 0.0044 - accuracy: 0.9992"
          ]
        },
        {
          "output_type": "stream",
          "name": "stderr",
          "text": [
            "WARNING:tensorflow:Early stopping conditioned on metric `val_loss` which is not available. Available metrics are: loss,accuracy\n",
            "WARNING:tensorflow:Learning rate reduction is conditioned on metric `val_loss` which is not available. Available metrics are: loss,accuracy,lr\n"
          ]
        },
        {
          "output_type": "stream",
          "name": "stdout",
          "text": [
            "\b\b\b\b\b\b\b\b\b\b\b\b\b\b\b\b\b\b\b\b\b\b\b\b\b\b\b\b\b\b\b\b\b\b\b\b\b\b\b\b\b\b\b\b\b\b\b\b\b\b\b\b\b\b\b\b\b\b\b\b\b\b\b\b\b\b\b\b\b\b\b\b\b\b\b\b\b\b\b\b\b\b\b\b\r120/120 [==============================] - 1s 7ms/step - loss: 0.0044 - accuracy: 0.9992 - lr: 3.0000e-05\n",
            "Epoch 69/200\n",
            "119/120 [============================>.] - ETA: 0s - loss: 0.0041 - accuracy: 0.9995"
          ]
        },
        {
          "output_type": "stream",
          "name": "stderr",
          "text": [
            "WARNING:tensorflow:Early stopping conditioned on metric `val_loss` which is not available. Available metrics are: loss,accuracy\n",
            "WARNING:tensorflow:Learning rate reduction is conditioned on metric `val_loss` which is not available. Available metrics are: loss,accuracy,lr\n"
          ]
        },
        {
          "output_type": "stream",
          "name": "stdout",
          "text": [
            "\b\b\b\b\b\b\b\b\b\b\b\b\b\b\b\b\b\b\b\b\b\b\b\b\b\b\b\b\b\b\b\b\b\b\b\b\b\b\b\b\b\b\b\b\b\b\b\b\b\b\b\b\b\b\b\b\b\b\b\b\b\b\b\b\b\b\b\b\b\b\b\b\b\b\b\b\b\b\b\b\b\b\b\b\r120/120 [==============================] - 1s 7ms/step - loss: 0.0041 - accuracy: 0.9995 - lr: 3.0000e-05\n",
            "Epoch 70/200\n",
            "117/120 [============================>.] - ETA: 0s - loss: 0.0042 - accuracy: 0.9995"
          ]
        },
        {
          "output_type": "stream",
          "name": "stderr",
          "text": [
            "WARNING:tensorflow:Early stopping conditioned on metric `val_loss` which is not available. Available metrics are: loss,accuracy\n",
            "WARNING:tensorflow:Learning rate reduction is conditioned on metric `val_loss` which is not available. Available metrics are: loss,accuracy,lr\n"
          ]
        },
        {
          "output_type": "stream",
          "name": "stdout",
          "text": [
            "\b\b\b\b\b\b\b\b\b\b\b\b\b\b\b\b\b\b\b\b\b\b\b\b\b\b\b\b\b\b\b\b\b\b\b\b\b\b\b\b\b\b\b\b\b\b\b\b\b\b\b\b\b\b\b\b\b\b\b\b\b\b\b\b\b\b\b\b\b\b\b\b\b\b\b\b\b\b\b\b\b\b\b\b\r120/120 [==============================] - 1s 7ms/step - loss: 0.0042 - accuracy: 0.9995 - lr: 3.0000e-05\n",
            "Epoch 71/200\n",
            "119/120 [============================>.] - ETA: 0s - loss: 0.0032 - accuracy: 0.9995"
          ]
        },
        {
          "output_type": "stream",
          "name": "stderr",
          "text": [
            "WARNING:tensorflow:Early stopping conditioned on metric `val_loss` which is not available. Available metrics are: loss,accuracy\n",
            "WARNING:tensorflow:Learning rate reduction is conditioned on metric `val_loss` which is not available. Available metrics are: loss,accuracy,lr\n"
          ]
        },
        {
          "output_type": "stream",
          "name": "stdout",
          "text": [
            "\b\b\b\b\b\b\b\b\b\b\b\b\b\b\b\b\b\b\b\b\b\b\b\b\b\b\b\b\b\b\b\b\b\b\b\b\b\b\b\b\b\b\b\b\b\b\b\b\b\b\b\b\b\b\b\b\b\b\b\b\b\b\b\b\b\b\b\b\b\b\b\b\b\b\b\b\b\b\b\b\b\b\b\b\r120/120 [==============================] - 1s 7ms/step - loss: 0.0032 - accuracy: 0.9995 - lr: 3.0000e-05\n",
            "Epoch 72/200\n",
            "116/120 [============================>.] - ETA: 0s - loss: 0.0034 - accuracy: 0.9995"
          ]
        },
        {
          "output_type": "stream",
          "name": "stderr",
          "text": [
            "WARNING:tensorflow:Early stopping conditioned on metric `val_loss` which is not available. Available metrics are: loss,accuracy\n",
            "WARNING:tensorflow:Learning rate reduction is conditioned on metric `val_loss` which is not available. Available metrics are: loss,accuracy,lr\n"
          ]
        },
        {
          "output_type": "stream",
          "name": "stdout",
          "text": [
            "\b\b\b\b\b\b\b\b\b\b\b\b\b\b\b\b\b\b\b\b\b\b\b\b\b\b\b\b\b\b\b\b\b\b\b\b\b\b\b\b\b\b\b\b\b\b\b\b\b\b\b\b\b\b\b\b\b\b\b\b\b\b\b\b\b\b\b\b\b\b\b\b\b\b\b\b\b\b\b\b\b\b\b\b\r120/120 [==============================] - 1s 7ms/step - loss: 0.0033 - accuracy: 0.9995 - lr: 3.0000e-05\n",
            "Epoch 73/200\n",
            "119/120 [============================>.] - ETA: 0s - loss: 0.0031 - accuracy: 0.9997"
          ]
        },
        {
          "output_type": "stream",
          "name": "stderr",
          "text": [
            "WARNING:tensorflow:Early stopping conditioned on metric `val_loss` which is not available. Available metrics are: loss,accuracy\n",
            "WARNING:tensorflow:Learning rate reduction is conditioned on metric `val_loss` which is not available. Available metrics are: loss,accuracy,lr\n"
          ]
        },
        {
          "output_type": "stream",
          "name": "stdout",
          "text": [
            "\b\b\b\b\b\b\b\b\b\b\b\b\b\b\b\b\b\b\b\b\b\b\b\b\b\b\b\b\b\b\b\b\b\b\b\b\b\b\b\b\b\b\b\b\b\b\b\b\b\b\b\b\b\b\b\b\b\b\b\b\b\b\b\b\b\b\b\b\b\b\b\b\b\b\b\b\b\b\b\b\b\b\b\b\r120/120 [==============================] - 1s 7ms/step - loss: 0.0031 - accuracy: 0.9997 - lr: 3.0000e-05\n",
            "Epoch 74/200\n",
            "120/120 [==============================] - ETA: 0s - loss: 0.0043 - accuracy: 0.9997"
          ]
        },
        {
          "output_type": "stream",
          "name": "stderr",
          "text": [
            "WARNING:tensorflow:Early stopping conditioned on metric `val_loss` which is not available. Available metrics are: loss,accuracy\n",
            "WARNING:tensorflow:Learning rate reduction is conditioned on metric `val_loss` which is not available. Available metrics are: loss,accuracy,lr\n"
          ]
        },
        {
          "output_type": "stream",
          "name": "stdout",
          "text": [
            "\b\b\b\b\b\b\b\b\b\b\b\b\b\b\b\b\b\b\b\b\b\b\b\b\b\b\b\b\b\b\b\b\b\b\b\b\b\b\b\b\b\b\b\b\b\b\b\b\b\b\b\b\b\b\b\b\b\b\b\b\b\b\b\b\b\b\b\b\b\b\b\b\b\b\b\b\b\b\b\b\b\b\b\b\r120/120 [==============================] - 1s 7ms/step - loss: 0.0043 - accuracy: 0.9997 - lr: 3.0000e-05\n",
            "Epoch 75/200\n",
            "118/120 [============================>.] - ETA: 0s - loss: 0.0024 - accuracy: 1.0000"
          ]
        },
        {
          "output_type": "stream",
          "name": "stderr",
          "text": [
            "WARNING:tensorflow:Early stopping conditioned on metric `val_loss` which is not available. Available metrics are: loss,accuracy\n",
            "WARNING:tensorflow:Learning rate reduction is conditioned on metric `val_loss` which is not available. Available metrics are: loss,accuracy,lr\n"
          ]
        },
        {
          "output_type": "stream",
          "name": "stdout",
          "text": [
            "\b\b\b\b\b\b\b\b\b\b\b\b\b\b\b\b\b\b\b\b\b\b\b\b\b\b\b\b\b\b\b\b\b\b\b\b\b\b\b\b\b\b\b\b\b\b\b\b\b\b\b\b\b\b\b\b\b\b\b\b\b\b\b\b\b\b\b\b\b\b\b\b\b\b\b\b\b\b\b\b\b\b\b\b\r120/120 [==============================] - 1s 7ms/step - loss: 0.0024 - accuracy: 1.0000 - lr: 3.0000e-05\n",
            "Epoch 76/200\n",
            "113/120 [===========================>..] - ETA: 0s - loss: 0.0037 - accuracy: 0.9997"
          ]
        },
        {
          "output_type": "stream",
          "name": "stderr",
          "text": [
            "WARNING:tensorflow:Early stopping conditioned on metric `val_loss` which is not available. Available metrics are: loss,accuracy\n",
            "WARNING:tensorflow:Learning rate reduction is conditioned on metric `val_loss` which is not available. Available metrics are: loss,accuracy,lr\n"
          ]
        },
        {
          "output_type": "stream",
          "name": "stdout",
          "text": [
            "\b\b\b\b\b\b\b\b\b\b\b\b\b\b\b\b\b\b\b\b\b\b\b\b\b\b\b\b\b\b\b\b\b\b\b\b\b\b\b\b\b\b\b\b\b\b\b\b\b\b\b\b\b\b\b\b\b\b\b\b\b\b\b\b\b\b\b\b\b\b\b\b\b\b\b\b\b\b\b\b\b\b\b\b\r120/120 [==============================] - 1s 7ms/step - loss: 0.0038 - accuracy: 0.9997 - lr: 3.0000e-05\n",
            "Epoch 77/200\n",
            "113/120 [===========================>..] - ETA: 0s - loss: 0.0025 - accuracy: 1.0000"
          ]
        },
        {
          "output_type": "stream",
          "name": "stderr",
          "text": [
            "WARNING:tensorflow:Early stopping conditioned on metric `val_loss` which is not available. Available metrics are: loss,accuracy\n",
            "WARNING:tensorflow:Learning rate reduction is conditioned on metric `val_loss` which is not available. Available metrics are: loss,accuracy,lr\n"
          ]
        },
        {
          "output_type": "stream",
          "name": "stdout",
          "text": [
            "\b\b\b\b\b\b\b\b\b\b\b\b\b\b\b\b\b\b\b\b\b\b\b\b\b\b\b\b\b\b\b\b\b\b\b\b\b\b\b\b\b\b\b\b\b\b\b\b\b\b\b\b\b\b\b\b\b\b\b\b\b\b\b\b\b\b\b\b\b\b\b\b\b\b\b\b\b\b\b\b\b\b\b\b\r120/120 [==============================] - 1s 7ms/step - loss: 0.0028 - accuracy: 1.0000 - lr: 3.0000e-05\n",
            "Epoch 78/200\n",
            "118/120 [============================>.] - ETA: 0s - loss: 0.0028 - accuracy: 0.9995"
          ]
        },
        {
          "output_type": "stream",
          "name": "stderr",
          "text": [
            "WARNING:tensorflow:Early stopping conditioned on metric `val_loss` which is not available. Available metrics are: loss,accuracy\n",
            "WARNING:tensorflow:Learning rate reduction is conditioned on metric `val_loss` which is not available. Available metrics are: loss,accuracy,lr\n"
          ]
        },
        {
          "output_type": "stream",
          "name": "stdout",
          "text": [
            "\b\b\b\b\b\b\b\b\b\b\b\b\b\b\b\b\b\b\b\b\b\b\b\b\b\b\b\b\b\b\b\b\b\b\b\b\b\b\b\b\b\b\b\b\b\b\b\b\b\b\b\b\b\b\b\b\b\b\b\b\b\b\b\b\b\b\b\b\b\b\b\b\b\b\b\b\b\b\b\b\b\b\b\b\r120/120 [==============================] - 1s 7ms/step - loss: 0.0029 - accuracy: 0.9995 - lr: 3.0000e-05\n",
            "Epoch 79/200\n",
            "118/120 [============================>.] - ETA: 0s - loss: 0.0031 - accuracy: 0.9997"
          ]
        },
        {
          "output_type": "stream",
          "name": "stderr",
          "text": [
            "WARNING:tensorflow:Early stopping conditioned on metric `val_loss` which is not available. Available metrics are: loss,accuracy\n",
            "WARNING:tensorflow:Learning rate reduction is conditioned on metric `val_loss` which is not available. Available metrics are: loss,accuracy,lr\n"
          ]
        },
        {
          "output_type": "stream",
          "name": "stdout",
          "text": [
            "\b\b\b\b\b\b\b\b\b\b\b\b\b\b\b\b\b\b\b\b\b\b\b\b\b\b\b\b\b\b\b\b\b\b\b\b\b\b\b\b\b\b\b\b\b\b\b\b\b\b\b\b\b\b\b\b\b\b\b\b\b\b\b\b\b\b\b\b\b\b\b\b\b\b\b\b\b\b\b\b\b\b\b\b\r120/120 [==============================] - 1s 7ms/step - loss: 0.0031 - accuracy: 0.9997 - lr: 3.0000e-05\n",
            "Epoch 80/200\n",
            "113/120 [===========================>..] - ETA: 0s - loss: 0.0025 - accuracy: 1.0000"
          ]
        },
        {
          "output_type": "stream",
          "name": "stderr",
          "text": [
            "WARNING:tensorflow:Early stopping conditioned on metric `val_loss` which is not available. Available metrics are: loss,accuracy\n",
            "WARNING:tensorflow:Learning rate reduction is conditioned on metric `val_loss` which is not available. Available metrics are: loss,accuracy,lr\n"
          ]
        },
        {
          "output_type": "stream",
          "name": "stdout",
          "text": [
            "\b\b\b\b\b\b\b\b\b\b\b\b\b\b\b\b\b\b\b\b\b\b\b\b\b\b\b\b\b\b\b\b\b\b\b\b\b\b\b\b\b\b\b\b\b\b\b\b\b\b\b\b\b\b\b\b\b\b\b\b\b\b\b\b\b\b\b\b\b\b\b\b\b\b\b\b\b\b\b\b\b\b\b\b\r120/120 [==============================] - 1s 7ms/step - loss: 0.0024 - accuracy: 1.0000 - lr: 3.0000e-05\n",
            "Epoch 81/200\n",
            "119/120 [============================>.] - ETA: 0s - loss: 0.0026 - accuracy: 1.0000"
          ]
        },
        {
          "output_type": "stream",
          "name": "stderr",
          "text": [
            "WARNING:tensorflow:Early stopping conditioned on metric `val_loss` which is not available. Available metrics are: loss,accuracy\n",
            "WARNING:tensorflow:Learning rate reduction is conditioned on metric `val_loss` which is not available. Available metrics are: loss,accuracy,lr\n"
          ]
        },
        {
          "output_type": "stream",
          "name": "stdout",
          "text": [
            "\b\b\b\b\b\b\b\b\b\b\b\b\b\b\b\b\b\b\b\b\b\b\b\b\b\b\b\b\b\b\b\b\b\b\b\b\b\b\b\b\b\b\b\b\b\b\b\b\b\b\b\b\b\b\b\b\b\b\b\b\b\b\b\b\b\b\b\b\b\b\b\b\b\b\b\b\b\b\b\b\b\b\b\b\r120/120 [==============================] - 1s 7ms/step - loss: 0.0026 - accuracy: 1.0000 - lr: 3.0000e-05\n",
            "Epoch 82/200\n",
            "120/120 [==============================] - ETA: 0s - loss: 0.0039 - accuracy: 0.9997"
          ]
        },
        {
          "output_type": "stream",
          "name": "stderr",
          "text": [
            "WARNING:tensorflow:Early stopping conditioned on metric `val_loss` which is not available. Available metrics are: loss,accuracy\n",
            "WARNING:tensorflow:Learning rate reduction is conditioned on metric `val_loss` which is not available. Available metrics are: loss,accuracy,lr\n"
          ]
        },
        {
          "output_type": "stream",
          "name": "stdout",
          "text": [
            "\b\b\b\b\b\b\b\b\b\b\b\b\b\b\b\b\b\b\b\b\b\b\b\b\b\b\b\b\b\b\b\b\b\b\b\b\b\b\b\b\b\b\b\b\b\b\b\b\b\b\b\b\b\b\b\b\b\b\b\b\b\b\b\b\b\b\b\b\b\b\b\b\b\b\b\b\b\b\b\b\b\b\b\b\r120/120 [==============================] - 1s 7ms/step - loss: 0.0039 - accuracy: 0.9997 - lr: 3.0000e-05\n",
            "Epoch 83/200\n",
            "118/120 [============================>.] - ETA: 0s - loss: 0.0022 - accuracy: 1.0000"
          ]
        },
        {
          "output_type": "stream",
          "name": "stderr",
          "text": [
            "WARNING:tensorflow:Early stopping conditioned on metric `val_loss` which is not available. Available metrics are: loss,accuracy\n",
            "WARNING:tensorflow:Learning rate reduction is conditioned on metric `val_loss` which is not available. Available metrics are: loss,accuracy,lr\n"
          ]
        },
        {
          "output_type": "stream",
          "name": "stdout",
          "text": [
            "\b\b\b\b\b\b\b\b\b\b\b\b\b\b\b\b\b\b\b\b\b\b\b\b\b\b\b\b\b\b\b\b\b\b\b\b\b\b\b\b\b\b\b\b\b\b\b\b\b\b\b\b\b\b\b\b\b\b\b\b\b\b\b\b\b\b\b\b\b\b\b\b\b\b\b\b\b\b\b\b\b\b\b\b\r120/120 [==============================] - 1s 7ms/step - loss: 0.0023 - accuracy: 1.0000 - lr: 3.0000e-05\n",
            "Epoch 84/200\n",
            "116/120 [============================>.] - ETA: 0s - loss: 0.0031 - accuracy: 1.0000"
          ]
        },
        {
          "output_type": "stream",
          "name": "stderr",
          "text": [
            "WARNING:tensorflow:Early stopping conditioned on metric `val_loss` which is not available. Available metrics are: loss,accuracy\n",
            "WARNING:tensorflow:Learning rate reduction is conditioned on metric `val_loss` which is not available. Available metrics are: loss,accuracy,lr\n"
          ]
        },
        {
          "output_type": "stream",
          "name": "stdout",
          "text": [
            "\b\b\b\b\b\b\b\b\b\b\b\b\b\b\b\b\b\b\b\b\b\b\b\b\b\b\b\b\b\b\b\b\b\b\b\b\b\b\b\b\b\b\b\b\b\b\b\b\b\b\b\b\b\b\b\b\b\b\b\b\b\b\b\b\b\b\b\b\b\b\b\b\b\b\b\b\b\b\b\b\b\b\b\b\r120/120 [==============================] - 1s 7ms/step - loss: 0.0030 - accuracy: 1.0000 - lr: 3.0000e-05\n",
            "Epoch 85/200\n",
            "118/120 [============================>.] - ETA: 0s - loss: 0.0030 - accuracy: 0.9995"
          ]
        },
        {
          "output_type": "stream",
          "name": "stderr",
          "text": [
            "WARNING:tensorflow:Early stopping conditioned on metric `val_loss` which is not available. Available metrics are: loss,accuracy\n",
            "WARNING:tensorflow:Learning rate reduction is conditioned on metric `val_loss` which is not available. Available metrics are: loss,accuracy,lr\n"
          ]
        },
        {
          "output_type": "stream",
          "name": "stdout",
          "text": [
            "\b\b\b\b\b\b\b\b\b\b\b\b\b\b\b\b\b\b\b\b\b\b\b\b\b\b\b\b\b\b\b\b\b\b\b\b\b\b\b\b\b\b\b\b\b\b\b\b\b\b\b\b\b\b\b\b\b\b\b\b\b\b\b\b\b\b\b\b\b\b\b\b\b\b\b\b\b\b\b\b\b\b\b\b\r120/120 [==============================] - 1s 7ms/step - loss: 0.0030 - accuracy: 0.9995 - lr: 3.0000e-05\n",
            "Epoch 86/200\n",
            "118/120 [============================>.] - ETA: 0s - loss: 0.0022 - accuracy: 0.9997"
          ]
        },
        {
          "output_type": "stream",
          "name": "stderr",
          "text": [
            "WARNING:tensorflow:Early stopping conditioned on metric `val_loss` which is not available. Available metrics are: loss,accuracy\n",
            "WARNING:tensorflow:Learning rate reduction is conditioned on metric `val_loss` which is not available. Available metrics are: loss,accuracy,lr\n"
          ]
        },
        {
          "output_type": "stream",
          "name": "stdout",
          "text": [
            "\b\b\b\b\b\b\b\b\b\b\b\b\b\b\b\b\b\b\b\b\b\b\b\b\b\b\b\b\b\b\b\b\b\b\b\b\b\b\b\b\b\b\b\b\b\b\b\b\b\b\b\b\b\b\b\b\b\b\b\b\b\b\b\b\b\b\b\b\b\b\b\b\b\b\b\b\b\b\b\b\b\b\b\b\r120/120 [==============================] - 1s 7ms/step - loss: 0.0022 - accuracy: 0.9997 - lr: 3.0000e-05\n",
            "Epoch 87/200\n",
            "120/120 [==============================] - ETA: 0s - loss: 0.0023 - accuracy: 0.9997"
          ]
        },
        {
          "output_type": "stream",
          "name": "stderr",
          "text": [
            "WARNING:tensorflow:Early stopping conditioned on metric `val_loss` which is not available. Available metrics are: loss,accuracy\n",
            "WARNING:tensorflow:Learning rate reduction is conditioned on metric `val_loss` which is not available. Available metrics are: loss,accuracy,lr\n"
          ]
        },
        {
          "output_type": "stream",
          "name": "stdout",
          "text": [
            "\b\b\b\b\b\b\b\b\b\b\b\b\b\b\b\b\b\b\b\b\b\b\b\b\b\b\b\b\b\b\b\b\b\b\b\b\b\b\b\b\b\b\b\b\b\b\b\b\b\b\b\b\b\b\b\b\b\b\b\b\b\b\b\b\b\b\b\b\b\b\b\b\b\b\b\b\b\b\b\b\b\b\b\b\r120/120 [==============================] - 1s 7ms/step - loss: 0.0023 - accuracy: 0.9997 - lr: 3.0000e-05\n",
            "Epoch 88/200\n",
            "118/120 [============================>.] - ETA: 0s - loss: 0.0022 - accuracy: 1.0000"
          ]
        },
        {
          "output_type": "stream",
          "name": "stderr",
          "text": [
            "WARNING:tensorflow:Early stopping conditioned on metric `val_loss` which is not available. Available metrics are: loss,accuracy\n",
            "WARNING:tensorflow:Learning rate reduction is conditioned on metric `val_loss` which is not available. Available metrics are: loss,accuracy,lr\n"
          ]
        },
        {
          "output_type": "stream",
          "name": "stdout",
          "text": [
            "\b\b\b\b\b\b\b\b\b\b\b\b\b\b\b\b\b\b\b\b\b\b\b\b\b\b\b\b\b\b\b\b\b\b\b\b\b\b\b\b\b\b\b\b\b\b\b\b\b\b\b\b\b\b\b\b\b\b\b\b\b\b\b\b\b\b\b\b\b\b\b\b\b\b\b\b\b\b\b\b\b\b\b\b\r120/120 [==============================] - 1s 7ms/step - loss: 0.0022 - accuracy: 1.0000 - lr: 3.0000e-05\n",
            "Epoch 89/200\n",
            "118/120 [============================>.] - ETA: 0s - loss: 0.0032 - accuracy: 0.9995"
          ]
        },
        {
          "output_type": "stream",
          "name": "stderr",
          "text": [
            "WARNING:tensorflow:Early stopping conditioned on metric `val_loss` which is not available. Available metrics are: loss,accuracy\n",
            "WARNING:tensorflow:Learning rate reduction is conditioned on metric `val_loss` which is not available. Available metrics are: loss,accuracy,lr\n"
          ]
        },
        {
          "output_type": "stream",
          "name": "stdout",
          "text": [
            "\b\b\b\b\b\b\b\b\b\b\b\b\b\b\b\b\b\b\b\b\b\b\b\b\b\b\b\b\b\b\b\b\b\b\b\b\b\b\b\b\b\b\b\b\b\b\b\b\b\b\b\b\b\b\b\b\b\b\b\b\b\b\b\b\b\b\b\b\b\b\b\b\b\b\b\b\b\b\b\b\b\b\b\b\r120/120 [==============================] - 1s 7ms/step - loss: 0.0033 - accuracy: 0.9995 - lr: 3.0000e-05\n",
            "Epoch 90/200\n",
            "115/120 [===========================>..] - ETA: 0s - loss: 0.0015 - accuracy: 1.0000"
          ]
        },
        {
          "output_type": "stream",
          "name": "stderr",
          "text": [
            "WARNING:tensorflow:Early stopping conditioned on metric `val_loss` which is not available. Available metrics are: loss,accuracy\n",
            "WARNING:tensorflow:Learning rate reduction is conditioned on metric `val_loss` which is not available. Available metrics are: loss,accuracy,lr\n"
          ]
        },
        {
          "output_type": "stream",
          "name": "stdout",
          "text": [
            "\b\b\b\b\b\b\b\b\b\b\b\b\b\b\b\b\b\b\b\b\b\b\b\b\b\b\b\b\b\b\b\b\b\b\b\b\b\b\b\b\b\b\b\b\b\b\b\b\b\b\b\b\b\b\b\b\b\b\b\b\b\b\b\b\b\b\b\b\b\b\b\b\b\b\b\b\b\b\b\b\b\b\b\b\r120/120 [==============================] - 1s 7ms/step - loss: 0.0014 - accuracy: 1.0000 - lr: 3.0000e-05\n",
            "Epoch 91/200\n",
            "119/120 [============================>.] - ETA: 0s - loss: 0.0024 - accuracy: 1.0000"
          ]
        },
        {
          "output_type": "stream",
          "name": "stderr",
          "text": [
            "WARNING:tensorflow:Early stopping conditioned on metric `val_loss` which is not available. Available metrics are: loss,accuracy\n",
            "WARNING:tensorflow:Learning rate reduction is conditioned on metric `val_loss` which is not available. Available metrics are: loss,accuracy,lr\n"
          ]
        },
        {
          "output_type": "stream",
          "name": "stdout",
          "text": [
            "\b\b\b\b\b\b\b\b\b\b\b\b\b\b\b\b\b\b\b\b\b\b\b\b\b\b\b\b\b\b\b\b\b\b\b\b\b\b\b\b\b\b\b\b\b\b\b\b\b\b\b\b\b\b\b\b\b\b\b\b\b\b\b\b\b\b\b\b\b\b\b\b\b\b\b\b\b\b\b\b\b\b\b\b\r120/120 [==============================] - 1s 7ms/step - loss: 0.0024 - accuracy: 1.0000 - lr: 3.0000e-05\n",
            "Epoch 92/200\n",
            "118/120 [============================>.] - ETA: 0s - loss: 0.0025 - accuracy: 1.0000"
          ]
        },
        {
          "output_type": "stream",
          "name": "stderr",
          "text": [
            "WARNING:tensorflow:Early stopping conditioned on metric `val_loss` which is not available. Available metrics are: loss,accuracy\n",
            "WARNING:tensorflow:Learning rate reduction is conditioned on metric `val_loss` which is not available. Available metrics are: loss,accuracy,lr\n"
          ]
        },
        {
          "output_type": "stream",
          "name": "stdout",
          "text": [
            "\b\b\b\b\b\b\b\b\b\b\b\b\b\b\b\b\b\b\b\b\b\b\b\b\b\b\b\b\b\b\b\b\b\b\b\b\b\b\b\b\b\b\b\b\b\b\b\b\b\b\b\b\b\b\b\b\b\b\b\b\b\b\b\b\b\b\b\b\b\b\b\b\b\b\b\b\b\b\b\b\b\b\b\b\r120/120 [==============================] - 1s 7ms/step - loss: 0.0025 - accuracy: 1.0000 - lr: 3.0000e-05\n",
            "Epoch 93/200\n",
            "118/120 [============================>.] - ETA: 0s - loss: 0.0021 - accuracy: 0.9997"
          ]
        },
        {
          "output_type": "stream",
          "name": "stderr",
          "text": [
            "WARNING:tensorflow:Early stopping conditioned on metric `val_loss` which is not available. Available metrics are: loss,accuracy\n",
            "WARNING:tensorflow:Learning rate reduction is conditioned on metric `val_loss` which is not available. Available metrics are: loss,accuracy,lr\n"
          ]
        },
        {
          "output_type": "stream",
          "name": "stdout",
          "text": [
            "\b\b\b\b\b\b\b\b\b\b\b\b\b\b\b\b\b\b\b\b\b\b\b\b\b\b\b\b\b\b\b\b\b\b\b\b\b\b\b\b\b\b\b\b\b\b\b\b\b\b\b\b\b\b\b\b\b\b\b\b\b\b\b\b\b\b\b\b\b\b\b\b\b\b\b\b\b\b\b\b\b\b\b\b\r120/120 [==============================] - 1s 7ms/step - loss: 0.0021 - accuracy: 0.9997 - lr: 3.0000e-05\n",
            "Epoch 94/200\n",
            "120/120 [==============================] - ETA: 0s - loss: 0.0021 - accuracy: 1.0000"
          ]
        },
        {
          "output_type": "stream",
          "name": "stderr",
          "text": [
            "WARNING:tensorflow:Early stopping conditioned on metric `val_loss` which is not available. Available metrics are: loss,accuracy\n",
            "WARNING:tensorflow:Learning rate reduction is conditioned on metric `val_loss` which is not available. Available metrics are: loss,accuracy,lr\n"
          ]
        },
        {
          "output_type": "stream",
          "name": "stdout",
          "text": [
            "\b\b\b\b\b\b\b\b\b\b\b\b\b\b\b\b\b\b\b\b\b\b\b\b\b\b\b\b\b\b\b\b\b\b\b\b\b\b\b\b\b\b\b\b\b\b\b\b\b\b\b\b\b\b\b\b\b\b\b\b\b\b\b\b\b\b\b\b\b\b\b\b\b\b\b\b\b\b\b\b\b\b\b\b\r120/120 [==============================] - 1s 7ms/step - loss: 0.0021 - accuracy: 1.0000 - lr: 3.0000e-05\n",
            "Epoch 95/200\n",
            "120/120 [==============================] - ETA: 0s - loss: 0.0015 - accuracy: 1.0000"
          ]
        },
        {
          "output_type": "stream",
          "name": "stderr",
          "text": [
            "WARNING:tensorflow:Early stopping conditioned on metric `val_loss` which is not available. Available metrics are: loss,accuracy\n",
            "WARNING:tensorflow:Learning rate reduction is conditioned on metric `val_loss` which is not available. Available metrics are: loss,accuracy,lr\n"
          ]
        },
        {
          "output_type": "stream",
          "name": "stdout",
          "text": [
            "\b\b\b\b\b\b\b\b\b\b\b\b\b\b\b\b\b\b\b\b\b\b\b\b\b\b\b\b\b\b\b\b\b\b\b\b\b\b\b\b\b\b\b\b\b\b\b\b\b\b\b\b\b\b\b\b\b\b\b\b\b\b\b\b\b\b\b\b\b\b\b\b\b\b\b\b\b\b\b\b\b\b\b\b\r120/120 [==============================] - 1s 7ms/step - loss: 0.0015 - accuracy: 1.0000 - lr: 3.0000e-05\n",
            "Epoch 96/200\n",
            "117/120 [============================>.] - ETA: 0s - loss: 0.0021 - accuracy: 0.9997"
          ]
        },
        {
          "output_type": "stream",
          "name": "stderr",
          "text": [
            "WARNING:tensorflow:Early stopping conditioned on metric `val_loss` which is not available. Available metrics are: loss,accuracy\n",
            "WARNING:tensorflow:Learning rate reduction is conditioned on metric `val_loss` which is not available. Available metrics are: loss,accuracy,lr\n"
          ]
        },
        {
          "output_type": "stream",
          "name": "stdout",
          "text": [
            "\b\b\b\b\b\b\b\b\b\b\b\b\b\b\b\b\b\b\b\b\b\b\b\b\b\b\b\b\b\b\b\b\b\b\b\b\b\b\b\b\b\b\b\b\b\b\b\b\b\b\b\b\b\b\b\b\b\b\b\b\b\b\b\b\b\b\b\b\b\b\b\b\b\b\b\b\b\b\b\b\b\b\b\b\r120/120 [==============================] - 1s 7ms/step - loss: 0.0024 - accuracy: 0.9997 - lr: 3.0000e-05\n",
            "Epoch 97/200\n",
            "117/120 [============================>.] - ETA: 0s - loss: 0.0021 - accuracy: 1.0000"
          ]
        },
        {
          "output_type": "stream",
          "name": "stderr",
          "text": [
            "WARNING:tensorflow:Early stopping conditioned on metric `val_loss` which is not available. Available metrics are: loss,accuracy\n",
            "WARNING:tensorflow:Learning rate reduction is conditioned on metric `val_loss` which is not available. Available metrics are: loss,accuracy,lr\n"
          ]
        },
        {
          "output_type": "stream",
          "name": "stdout",
          "text": [
            "\b\b\b\b\b\b\b\b\b\b\b\b\b\b\b\b\b\b\b\b\b\b\b\b\b\b\b\b\b\b\b\b\b\b\b\b\b\b\b\b\b\b\b\b\b\b\b\b\b\b\b\b\b\b\b\b\b\b\b\b\b\b\b\b\b\b\b\b\b\b\b\b\b\b\b\b\b\b\b\b\b\b\b\b\r120/120 [==============================] - 1s 7ms/step - loss: 0.0021 - accuracy: 1.0000 - lr: 3.0000e-05\n",
            "Epoch 98/200\n",
            "119/120 [============================>.] - ETA: 0s - loss: 0.0020 - accuracy: 1.0000"
          ]
        },
        {
          "output_type": "stream",
          "name": "stderr",
          "text": [
            "WARNING:tensorflow:Early stopping conditioned on metric `val_loss` which is not available. Available metrics are: loss,accuracy\n",
            "WARNING:tensorflow:Learning rate reduction is conditioned on metric `val_loss` which is not available. Available metrics are: loss,accuracy,lr\n"
          ]
        },
        {
          "output_type": "stream",
          "name": "stdout",
          "text": [
            "\b\b\b\b\b\b\b\b\b\b\b\b\b\b\b\b\b\b\b\b\b\b\b\b\b\b\b\b\b\b\b\b\b\b\b\b\b\b\b\b\b\b\b\b\b\b\b\b\b\b\b\b\b\b\b\b\b\b\b\b\b\b\b\b\b\b\b\b\b\b\b\b\b\b\b\b\b\b\b\b\b\b\b\b\r120/120 [==============================] - 1s 7ms/step - loss: 0.0020 - accuracy: 1.0000 - lr: 3.0000e-05\n",
            "Epoch 99/200\n",
            "119/120 [============================>.] - ETA: 0s - loss: 0.0012 - accuracy: 1.0000"
          ]
        },
        {
          "output_type": "stream",
          "name": "stderr",
          "text": [
            "WARNING:tensorflow:Early stopping conditioned on metric `val_loss` which is not available. Available metrics are: loss,accuracy\n",
            "WARNING:tensorflow:Learning rate reduction is conditioned on metric `val_loss` which is not available. Available metrics are: loss,accuracy,lr\n"
          ]
        },
        {
          "output_type": "stream",
          "name": "stdout",
          "text": [
            "\b\b\b\b\b\b\b\b\b\b\b\b\b\b\b\b\b\b\b\b\b\b\b\b\b\b\b\b\b\b\b\b\b\b\b\b\b\b\b\b\b\b\b\b\b\b\b\b\b\b\b\b\b\b\b\b\b\b\b\b\b\b\b\b\b\b\b\b\b\b\b\b\b\b\b\b\b\b\b\b\b\b\b\b\r120/120 [==============================] - 1s 7ms/step - loss: 0.0012 - accuracy: 1.0000 - lr: 3.0000e-05\n",
            "Epoch 100/200\n",
            "118/120 [============================>.] - ETA: 0s - loss: 0.0019 - accuracy: 0.9997"
          ]
        },
        {
          "output_type": "stream",
          "name": "stderr",
          "text": [
            "WARNING:tensorflow:Early stopping conditioned on metric `val_loss` which is not available. Available metrics are: loss,accuracy\n",
            "WARNING:tensorflow:Learning rate reduction is conditioned on metric `val_loss` which is not available. Available metrics are: loss,accuracy,lr\n"
          ]
        },
        {
          "output_type": "stream",
          "name": "stdout",
          "text": [
            "\b\b\b\b\b\b\b\b\b\b\b\b\b\b\b\b\b\b\b\b\b\b\b\b\b\b\b\b\b\b\b\b\b\b\b\b\b\b\b\b\b\b\b\b\b\b\b\b\b\b\b\b\b\b\b\b\b\b\b\b\b\b\b\b\b\b\b\b\b\b\b\b\b\b\b\b\b\b\b\b\b\b\b\b\r120/120 [==============================] - 1s 7ms/step - loss: 0.0019 - accuracy: 0.9997 - lr: 3.0000e-05\n",
            "Epoch 101/200\n",
            "120/120 [==============================] - ETA: 0s - loss: 0.0020 - accuracy: 0.9997"
          ]
        },
        {
          "output_type": "stream",
          "name": "stderr",
          "text": [
            "WARNING:tensorflow:Early stopping conditioned on metric `val_loss` which is not available. Available metrics are: loss,accuracy\n",
            "WARNING:tensorflow:Learning rate reduction is conditioned on metric `val_loss` which is not available. Available metrics are: loss,accuracy,lr\n"
          ]
        },
        {
          "output_type": "stream",
          "name": "stdout",
          "text": [
            "\b\b\b\b\b\b\b\b\b\b\b\b\b\b\b\b\b\b\b\b\b\b\b\b\b\b\b\b\b\b\b\b\b\b\b\b\b\b\b\b\b\b\b\b\b\b\b\b\b\b\b\b\b\b\b\b\b\b\b\b\b\b\b\b\b\b\b\b\b\b\b\b\b\b\b\b\b\b\b\b\b\b\b\b\r120/120 [==============================] - 1s 7ms/step - loss: 0.0020 - accuracy: 0.9997 - lr: 3.0000e-05\n",
            "Epoch 102/200\n",
            "118/120 [============================>.] - ETA: 0s - loss: 0.0025 - accuracy: 0.9997"
          ]
        },
        {
          "output_type": "stream",
          "name": "stderr",
          "text": [
            "WARNING:tensorflow:Early stopping conditioned on metric `val_loss` which is not available. Available metrics are: loss,accuracy\n",
            "WARNING:tensorflow:Learning rate reduction is conditioned on metric `val_loss` which is not available. Available metrics are: loss,accuracy,lr\n"
          ]
        },
        {
          "output_type": "stream",
          "name": "stdout",
          "text": [
            "\b\b\b\b\b\b\b\b\b\b\b\b\b\b\b\b\b\b\b\b\b\b\b\b\b\b\b\b\b\b\b\b\b\b\b\b\b\b\b\b\b\b\b\b\b\b\b\b\b\b\b\b\b\b\b\b\b\b\b\b\b\b\b\b\b\b\b\b\b\b\b\b\b\b\b\b\b\b\b\b\b\b\b\b\r120/120 [==============================] - 1s 7ms/step - loss: 0.0025 - accuracy: 0.9997 - lr: 3.0000e-05\n",
            "Epoch 103/200\n",
            "118/120 [============================>.] - ETA: 0s - loss: 0.0016 - accuracy: 1.0000"
          ]
        },
        {
          "output_type": "stream",
          "name": "stderr",
          "text": [
            "WARNING:tensorflow:Early stopping conditioned on metric `val_loss` which is not available. Available metrics are: loss,accuracy\n",
            "WARNING:tensorflow:Learning rate reduction is conditioned on metric `val_loss` which is not available. Available metrics are: loss,accuracy,lr\n"
          ]
        },
        {
          "output_type": "stream",
          "name": "stdout",
          "text": [
            "\b\b\b\b\b\b\b\b\b\b\b\b\b\b\b\b\b\b\b\b\b\b\b\b\b\b\b\b\b\b\b\b\b\b\b\b\b\b\b\b\b\b\b\b\b\b\b\b\b\b\b\b\b\b\b\b\b\b\b\b\b\b\b\b\b\b\b\b\b\b\b\b\b\b\b\b\b\b\b\b\b\b\b\b\r120/120 [==============================] - 1s 7ms/step - loss: 0.0016 - accuracy: 1.0000 - lr: 3.0000e-05\n",
            "Epoch 104/200\n",
            "116/120 [============================>.] - ETA: 0s - loss: 0.0016 - accuracy: 1.0000"
          ]
        },
        {
          "output_type": "stream",
          "name": "stderr",
          "text": [
            "WARNING:tensorflow:Early stopping conditioned on metric `val_loss` which is not available. Available metrics are: loss,accuracy\n",
            "WARNING:tensorflow:Learning rate reduction is conditioned on metric `val_loss` which is not available. Available metrics are: loss,accuracy,lr\n"
          ]
        },
        {
          "output_type": "stream",
          "name": "stdout",
          "text": [
            "\b\b\b\b\b\b\b\b\b\b\b\b\b\b\b\b\b\b\b\b\b\b\b\b\b\b\b\b\b\b\b\b\b\b\b\b\b\b\b\b\b\b\b\b\b\b\b\b\b\b\b\b\b\b\b\b\b\b\b\b\b\b\b\b\b\b\b\b\b\b\b\b\b\b\b\b\b\b\b\b\b\b\b\b\r120/120 [==============================] - 1s 7ms/step - loss: 0.0016 - accuracy: 1.0000 - lr: 3.0000e-05\n",
            "Epoch 105/200\n",
            "118/120 [============================>.] - ETA: 0s - loss: 0.0013 - accuracy: 1.0000"
          ]
        },
        {
          "output_type": "stream",
          "name": "stderr",
          "text": [
            "WARNING:tensorflow:Early stopping conditioned on metric `val_loss` which is not available. Available metrics are: loss,accuracy\n",
            "WARNING:tensorflow:Learning rate reduction is conditioned on metric `val_loss` which is not available. Available metrics are: loss,accuracy,lr\n"
          ]
        },
        {
          "output_type": "stream",
          "name": "stdout",
          "text": [
            "\b\b\b\b\b\b\b\b\b\b\b\b\b\b\b\b\b\b\b\b\b\b\b\b\b\b\b\b\b\b\b\b\b\b\b\b\b\b\b\b\b\b\b\b\b\b\b\b\b\b\b\b\b\b\b\b\b\b\b\b\b\b\b\b\b\b\b\b\b\b\b\b\b\b\b\b\b\b\b\b\b\b\b\b\r120/120 [==============================] - 1s 7ms/step - loss: 0.0013 - accuracy: 1.0000 - lr: 3.0000e-05\n",
            "Epoch 106/200\n",
            "119/120 [============================>.] - ETA: 0s - loss: 0.0014 - accuracy: 1.0000"
          ]
        },
        {
          "output_type": "stream",
          "name": "stderr",
          "text": [
            "WARNING:tensorflow:Early stopping conditioned on metric `val_loss` which is not available. Available metrics are: loss,accuracy\n",
            "WARNING:tensorflow:Learning rate reduction is conditioned on metric `val_loss` which is not available. Available metrics are: loss,accuracy,lr\n"
          ]
        },
        {
          "output_type": "stream",
          "name": "stdout",
          "text": [
            "\b\b\b\b\b\b\b\b\b\b\b\b\b\b\b\b\b\b\b\b\b\b\b\b\b\b\b\b\b\b\b\b\b\b\b\b\b\b\b\b\b\b\b\b\b\b\b\b\b\b\b\b\b\b\b\b\b\b\b\b\b\b\b\b\b\b\b\b\b\b\b\b\b\b\b\b\b\b\b\b\b\b\b\b\r120/120 [==============================] - 1s 7ms/step - loss: 0.0014 - accuracy: 1.0000 - lr: 3.0000e-05\n",
            "Epoch 107/200\n",
            "116/120 [============================>.] - ETA: 0s - loss: 0.0012 - accuracy: 0.9997"
          ]
        },
        {
          "output_type": "stream",
          "name": "stderr",
          "text": [
            "WARNING:tensorflow:Early stopping conditioned on metric `val_loss` which is not available. Available metrics are: loss,accuracy\n",
            "WARNING:tensorflow:Learning rate reduction is conditioned on metric `val_loss` which is not available. Available metrics are: loss,accuracy,lr\n"
          ]
        },
        {
          "output_type": "stream",
          "name": "stdout",
          "text": [
            "\b\b\b\b\b\b\b\b\b\b\b\b\b\b\b\b\b\b\b\b\b\b\b\b\b\b\b\b\b\b\b\b\b\b\b\b\b\b\b\b\b\b\b\b\b\b\b\b\b\b\b\b\b\b\b\b\b\b\b\b\b\b\b\b\b\b\b\b\b\b\b\b\b\b\b\b\b\b\b\b\b\b\b\b\r120/120 [==============================] - 1s 7ms/step - loss: 0.0013 - accuracy: 0.9997 - lr: 3.0000e-05\n",
            "Epoch 108/200\n",
            "120/120 [==============================] - ETA: 0s - loss: 0.0018 - accuracy: 0.9997"
          ]
        },
        {
          "output_type": "stream",
          "name": "stderr",
          "text": [
            "WARNING:tensorflow:Early stopping conditioned on metric `val_loss` which is not available. Available metrics are: loss,accuracy\n",
            "WARNING:tensorflow:Learning rate reduction is conditioned on metric `val_loss` which is not available. Available metrics are: loss,accuracy,lr\n"
          ]
        },
        {
          "output_type": "stream",
          "name": "stdout",
          "text": [
            "\b\b\b\b\b\b\b\b\b\b\b\b\b\b\b\b\b\b\b\b\b\b\b\b\b\b\b\b\b\b\b\b\b\b\b\b\b\b\b\b\b\b\b\b\b\b\b\b\b\b\b\b\b\b\b\b\b\b\b\b\b\b\b\b\b\b\b\b\b\b\b\b\b\b\b\b\b\b\b\b\b\b\b\b\r120/120 [==============================] - 1s 7ms/step - loss: 0.0018 - accuracy: 0.9997 - lr: 3.0000e-05\n",
            "Epoch 109/200\n",
            "116/120 [============================>.] - ETA: 0s - loss: 9.4915e-04 - accuracy: 1.0000"
          ]
        },
        {
          "output_type": "stream",
          "name": "stderr",
          "text": [
            "WARNING:tensorflow:Early stopping conditioned on metric `val_loss` which is not available. Available metrics are: loss,accuracy\n",
            "WARNING:tensorflow:Learning rate reduction is conditioned on metric `val_loss` which is not available. Available metrics are: loss,accuracy,lr\n"
          ]
        },
        {
          "output_type": "stream",
          "name": "stdout",
          "text": [
            "\b\b\b\b\b\b\b\b\b\b\b\b\b\b\b\b\b\b\b\b\b\b\b\b\b\b\b\b\b\b\b\b\b\b\b\b\b\b\b\b\b\b\b\b\b\b\b\b\b\b\b\b\b\b\b\b\b\b\b\b\b\b\b\b\b\b\b\b\b\b\b\b\b\b\b\b\b\b\b\b\b\b\b\b\b\b\b\b\r120/120 [==============================] - 1s 7ms/step - loss: 9.2567e-04 - accuracy: 1.0000 - lr: 3.0000e-05\n",
            "Epoch 110/200\n",
            "117/120 [============================>.] - ETA: 0s - loss: 0.0011 - accuracy: 1.0000"
          ]
        },
        {
          "output_type": "stream",
          "name": "stderr",
          "text": [
            "WARNING:tensorflow:Early stopping conditioned on metric `val_loss` which is not available. Available metrics are: loss,accuracy\n",
            "WARNING:tensorflow:Learning rate reduction is conditioned on metric `val_loss` which is not available. Available metrics are: loss,accuracy,lr\n"
          ]
        },
        {
          "output_type": "stream",
          "name": "stdout",
          "text": [
            "\b\b\b\b\b\b\b\b\b\b\b\b\b\b\b\b\b\b\b\b\b\b\b\b\b\b\b\b\b\b\b\b\b\b\b\b\b\b\b\b\b\b\b\b\b\b\b\b\b\b\b\b\b\b\b\b\b\b\b\b\b\b\b\b\b\b\b\b\b\b\b\b\b\b\b\b\b\b\b\b\b\b\b\b\r120/120 [==============================] - 1s 7ms/step - loss: 0.0011 - accuracy: 1.0000 - lr: 3.0000e-05\n",
            "Epoch 111/200\n",
            "116/120 [============================>.] - ETA: 0s - loss: 8.2684e-04 - accuracy: 0.9997"
          ]
        },
        {
          "output_type": "stream",
          "name": "stderr",
          "text": [
            "WARNING:tensorflow:Early stopping conditioned on metric `val_loss` which is not available. Available metrics are: loss,accuracy\n",
            "WARNING:tensorflow:Learning rate reduction is conditioned on metric `val_loss` which is not available. Available metrics are: loss,accuracy,lr\n"
          ]
        },
        {
          "output_type": "stream",
          "name": "stdout",
          "text": [
            "\b\b\b\b\b\b\b\b\b\b\b\b\b\b\b\b\b\b\b\b\b\b\b\b\b\b\b\b\b\b\b\b\b\b\b\b\b\b\b\b\b\b\b\b\b\b\b\b\b\b\b\b\b\b\b\b\b\b\b\b\b\b\b\b\b\b\b\b\b\b\b\b\b\b\b\b\b\b\b\b\b\b\b\b\b\b\b\b\r120/120 [==============================] - 1s 7ms/step - loss: 8.1144e-04 - accuracy: 0.9997 - lr: 3.0000e-05\n",
            "Epoch 112/200\n",
            "117/120 [============================>.] - ETA: 0s - loss: 0.0015 - accuracy: 1.0000"
          ]
        },
        {
          "output_type": "stream",
          "name": "stderr",
          "text": [
            "WARNING:tensorflow:Early stopping conditioned on metric `val_loss` which is not available. Available metrics are: loss,accuracy\n",
            "WARNING:tensorflow:Learning rate reduction is conditioned on metric `val_loss` which is not available. Available metrics are: loss,accuracy,lr\n"
          ]
        },
        {
          "output_type": "stream",
          "name": "stdout",
          "text": [
            "\b\b\b\b\b\b\b\b\b\b\b\b\b\b\b\b\b\b\b\b\b\b\b\b\b\b\b\b\b\b\b\b\b\b\b\b\b\b\b\b\b\b\b\b\b\b\b\b\b\b\b\b\b\b\b\b\b\b\b\b\b\b\b\b\b\b\b\b\b\b\b\b\b\b\b\b\b\b\b\b\b\b\b\b\r120/120 [==============================] - 1s 7ms/step - loss: 0.0015 - accuracy: 1.0000 - lr: 3.0000e-05\n",
            "Epoch 113/200\n",
            "120/120 [==============================] - ETA: 0s - loss: 0.0019 - accuracy: 0.9997"
          ]
        },
        {
          "output_type": "stream",
          "name": "stderr",
          "text": [
            "WARNING:tensorflow:Early stopping conditioned on metric `val_loss` which is not available. Available metrics are: loss,accuracy\n",
            "WARNING:tensorflow:Learning rate reduction is conditioned on metric `val_loss` which is not available. Available metrics are: loss,accuracy,lr\n"
          ]
        },
        {
          "output_type": "stream",
          "name": "stdout",
          "text": [
            "\b\b\b\b\b\b\b\b\b\b\b\b\b\b\b\b\b\b\b\b\b\b\b\b\b\b\b\b\b\b\b\b\b\b\b\b\b\b\b\b\b\b\b\b\b\b\b\b\b\b\b\b\b\b\b\b\b\b\b\b\b\b\b\b\b\b\b\b\b\b\b\b\b\b\b\b\b\b\b\b\b\b\b\b\r120/120 [==============================] - 1s 7ms/step - loss: 0.0019 - accuracy: 0.9997 - lr: 3.0000e-05\n",
            "Epoch 114/200\n",
            "116/120 [============================>.] - ETA: 0s - loss: 0.0016 - accuracy: 1.0000"
          ]
        },
        {
          "output_type": "stream",
          "name": "stderr",
          "text": [
            "WARNING:tensorflow:Early stopping conditioned on metric `val_loss` which is not available. Available metrics are: loss,accuracy\n",
            "WARNING:tensorflow:Learning rate reduction is conditioned on metric `val_loss` which is not available. Available metrics are: loss,accuracy,lr\n"
          ]
        },
        {
          "output_type": "stream",
          "name": "stdout",
          "text": [
            "\b\b\b\b\b\b\b\b\b\b\b\b\b\b\b\b\b\b\b\b\b\b\b\b\b\b\b\b\b\b\b\b\b\b\b\b\b\b\b\b\b\b\b\b\b\b\b\b\b\b\b\b\b\b\b\b\b\b\b\b\b\b\b\b\b\b\b\b\b\b\b\b\b\b\b\b\b\b\b\b\b\b\b\b\r120/120 [==============================] - 1s 7ms/step - loss: 0.0016 - accuracy: 1.0000 - lr: 3.0000e-05\n",
            "Epoch 115/200\n",
            "117/120 [============================>.] - ETA: 0s - loss: 0.0013 - accuracy: 1.0000"
          ]
        },
        {
          "output_type": "stream",
          "name": "stderr",
          "text": [
            "WARNING:tensorflow:Early stopping conditioned on metric `val_loss` which is not available. Available metrics are: loss,accuracy\n",
            "WARNING:tensorflow:Learning rate reduction is conditioned on metric `val_loss` which is not available. Available metrics are: loss,accuracy,lr\n"
          ]
        },
        {
          "output_type": "stream",
          "name": "stdout",
          "text": [
            "\b\b\b\b\b\b\b\b\b\b\b\b\b\b\b\b\b\b\b\b\b\b\b\b\b\b\b\b\b\b\b\b\b\b\b\b\b\b\b\b\b\b\b\b\b\b\b\b\b\b\b\b\b\b\b\b\b\b\b\b\b\b\b\b\b\b\b\b\b\b\b\b\b\b\b\b\b\b\b\b\b\b\b\b\r120/120 [==============================] - 1s 7ms/step - loss: 0.0013 - accuracy: 1.0000 - lr: 3.0000e-05\n",
            "Epoch 116/200\n",
            "116/120 [============================>.] - ETA: 0s - loss: 0.0017 - accuracy: 1.0000"
          ]
        },
        {
          "output_type": "stream",
          "name": "stderr",
          "text": [
            "WARNING:tensorflow:Early stopping conditioned on metric `val_loss` which is not available. Available metrics are: loss,accuracy\n",
            "WARNING:tensorflow:Learning rate reduction is conditioned on metric `val_loss` which is not available. Available metrics are: loss,accuracy,lr\n"
          ]
        },
        {
          "output_type": "stream",
          "name": "stdout",
          "text": [
            "\b\b\b\b\b\b\b\b\b\b\b\b\b\b\b\b\b\b\b\b\b\b\b\b\b\b\b\b\b\b\b\b\b\b\b\b\b\b\b\b\b\b\b\b\b\b\b\b\b\b\b\b\b\b\b\b\b\b\b\b\b\b\b\b\b\b\b\b\b\b\b\b\b\b\b\b\b\b\b\b\b\b\b\b\r120/120 [==============================] - 1s 7ms/step - loss: 0.0017 - accuracy: 1.0000 - lr: 3.0000e-05\n",
            "Epoch 117/200\n",
            "117/120 [============================>.] - ETA: 0s - loss: 0.0016 - accuracy: 1.0000"
          ]
        },
        {
          "output_type": "stream",
          "name": "stderr",
          "text": [
            "WARNING:tensorflow:Early stopping conditioned on metric `val_loss` which is not available. Available metrics are: loss,accuracy\n",
            "WARNING:tensorflow:Learning rate reduction is conditioned on metric `val_loss` which is not available. Available metrics are: loss,accuracy,lr\n"
          ]
        },
        {
          "output_type": "stream",
          "name": "stdout",
          "text": [
            "\b\b\b\b\b\b\b\b\b\b\b\b\b\b\b\b\b\b\b\b\b\b\b\b\b\b\b\b\b\b\b\b\b\b\b\b\b\b\b\b\b\b\b\b\b\b\b\b\b\b\b\b\b\b\b\b\b\b\b\b\b\b\b\b\b\b\b\b\b\b\b\b\b\b\b\b\b\b\b\b\b\b\b\b\r120/120 [==============================] - 1s 7ms/step - loss: 0.0016 - accuracy: 1.0000 - lr: 3.0000e-05\n",
            "Epoch 118/200\n",
            "113/120 [===========================>..] - ETA: 0s - loss: 0.0013 - accuracy: 1.0000"
          ]
        },
        {
          "output_type": "stream",
          "name": "stderr",
          "text": [
            "WARNING:tensorflow:Early stopping conditioned on metric `val_loss` which is not available. Available metrics are: loss,accuracy\n",
            "WARNING:tensorflow:Learning rate reduction is conditioned on metric `val_loss` which is not available. Available metrics are: loss,accuracy,lr\n"
          ]
        },
        {
          "output_type": "stream",
          "name": "stdout",
          "text": [
            "\b\b\b\b\b\b\b\b\b\b\b\b\b\b\b\b\b\b\b\b\b\b\b\b\b\b\b\b\b\b\b\b\b\b\b\b\b\b\b\b\b\b\b\b\b\b\b\b\b\b\b\b\b\b\b\b\b\b\b\b\b\b\b\b\b\b\b\b\b\b\b\b\b\b\b\b\b\b\b\b\b\b\b\b\r120/120 [==============================] - 1s 7ms/step - loss: 0.0013 - accuracy: 1.0000 - lr: 3.0000e-05\n",
            "Epoch 119/200\n",
            "118/120 [============================>.] - ETA: 0s - loss: 0.0010 - accuracy: 1.0000    "
          ]
        },
        {
          "output_type": "stream",
          "name": "stderr",
          "text": [
            "WARNING:tensorflow:Early stopping conditioned on metric `val_loss` which is not available. Available metrics are: loss,accuracy\n",
            "WARNING:tensorflow:Learning rate reduction is conditioned on metric `val_loss` which is not available. Available metrics are: loss,accuracy,lr\n"
          ]
        },
        {
          "output_type": "stream",
          "name": "stdout",
          "text": [
            "\b\b\b\b\b\b\b\b\b\b\b\b\b\b\b\b\b\b\b\b\b\b\b\b\b\b\b\b\b\b\b\b\b\b\b\b\b\b\b\b\b\b\b\b\b\b\b\b\b\b\b\b\b\b\b\b\b\b\b\b\b\b\b\b\b\b\b\b\b\b\b\b\b\b\b\b\b\b\b\b\b\b\b\b\r120/120 [==============================] - 1s 7ms/step - loss: 9.8894e-04 - accuracy: 1.0000 - lr: 3.0000e-05\n",
            "Epoch 120/200\n",
            "117/120 [============================>.] - ETA: 0s - loss: 0.0013 - accuracy: 0.9997"
          ]
        },
        {
          "output_type": "stream",
          "name": "stderr",
          "text": [
            "WARNING:tensorflow:Early stopping conditioned on metric `val_loss` which is not available. Available metrics are: loss,accuracy\n",
            "WARNING:tensorflow:Learning rate reduction is conditioned on metric `val_loss` which is not available. Available metrics are: loss,accuracy,lr\n"
          ]
        },
        {
          "output_type": "stream",
          "name": "stdout",
          "text": [
            "\b\b\b\b\b\b\b\b\b\b\b\b\b\b\b\b\b\b\b\b\b\b\b\b\b\b\b\b\b\b\b\b\b\b\b\b\b\b\b\b\b\b\b\b\b\b\b\b\b\b\b\b\b\b\b\b\b\b\b\b\b\b\b\b\b\b\b\b\b\b\b\b\b\b\b\b\b\b\b\b\b\b\b\b\r120/120 [==============================] - 1s 7ms/step - loss: 0.0013 - accuracy: 0.9997 - lr: 3.0000e-05\n",
            "Epoch 121/200\n",
            "114/120 [===========================>..] - ETA: 0s - loss: 0.0012 - accuracy: 1.0000"
          ]
        },
        {
          "output_type": "stream",
          "name": "stderr",
          "text": [
            "WARNING:tensorflow:Early stopping conditioned on metric `val_loss` which is not available. Available metrics are: loss,accuracy\n",
            "WARNING:tensorflow:Learning rate reduction is conditioned on metric `val_loss` which is not available. Available metrics are: loss,accuracy,lr\n"
          ]
        },
        {
          "output_type": "stream",
          "name": "stdout",
          "text": [
            "\b\b\b\b\b\b\b\b\b\b\b\b\b\b\b\b\b\b\b\b\b\b\b\b\b\b\b\b\b\b\b\b\b\b\b\b\b\b\b\b\b\b\b\b\b\b\b\b\b\b\b\b\b\b\b\b\b\b\b\b\b\b\b\b\b\b\b\b\b\b\b\b\b\b\b\b\b\b\b\b\b\b\b\b\r120/120 [==============================] - 1s 7ms/step - loss: 0.0011 - accuracy: 1.0000 - lr: 3.0000e-05\n",
            "Epoch 122/200\n",
            "116/120 [============================>.] - ETA: 0s - loss: 0.0012 - accuracy: 1.0000"
          ]
        },
        {
          "output_type": "stream",
          "name": "stderr",
          "text": [
            "WARNING:tensorflow:Early stopping conditioned on metric `val_loss` which is not available. Available metrics are: loss,accuracy\n",
            "WARNING:tensorflow:Learning rate reduction is conditioned on metric `val_loss` which is not available. Available metrics are: loss,accuracy,lr\n"
          ]
        },
        {
          "output_type": "stream",
          "name": "stdout",
          "text": [
            "\b\b\b\b\b\b\b\b\b\b\b\b\b\b\b\b\b\b\b\b\b\b\b\b\b\b\b\b\b\b\b\b\b\b\b\b\b\b\b\b\b\b\b\b\b\b\b\b\b\b\b\b\b\b\b\b\b\b\b\b\b\b\b\b\b\b\b\b\b\b\b\b\b\b\b\b\b\b\b\b\b\b\b\b\r120/120 [==============================] - 1s 7ms/step - loss: 0.0012 - accuracy: 1.0000 - lr: 3.0000e-05\n",
            "Epoch 123/200\n",
            "119/120 [============================>.] - ETA: 0s - loss: 8.8236e-04 - accuracy: 1.0000"
          ]
        },
        {
          "output_type": "stream",
          "name": "stderr",
          "text": [
            "WARNING:tensorflow:Early stopping conditioned on metric `val_loss` which is not available. Available metrics are: loss,accuracy\n",
            "WARNING:tensorflow:Learning rate reduction is conditioned on metric `val_loss` which is not available. Available metrics are: loss,accuracy,lr\n"
          ]
        },
        {
          "output_type": "stream",
          "name": "stdout",
          "text": [
            "\b\b\b\b\b\b\b\b\b\b\b\b\b\b\b\b\b\b\b\b\b\b\b\b\b\b\b\b\b\b\b\b\b\b\b\b\b\b\b\b\b\b\b\b\b\b\b\b\b\b\b\b\b\b\b\b\b\b\b\b\b\b\b\b\b\b\b\b\b\b\b\b\b\b\b\b\b\b\b\b\b\b\b\b\b\b\b\b\r120/120 [==============================] - 1s 7ms/step - loss: 8.7985e-04 - accuracy: 1.0000 - lr: 3.0000e-05\n",
            "Epoch 124/200\n",
            "117/120 [============================>.] - ETA: 0s - loss: 7.1558e-04 - accuracy: 1.0000"
          ]
        },
        {
          "output_type": "stream",
          "name": "stderr",
          "text": [
            "WARNING:tensorflow:Early stopping conditioned on metric `val_loss` which is not available. Available metrics are: loss,accuracy\n",
            "WARNING:tensorflow:Learning rate reduction is conditioned on metric `val_loss` which is not available. Available metrics are: loss,accuracy,lr\n"
          ]
        },
        {
          "output_type": "stream",
          "name": "stdout",
          "text": [
            "\b\b\b\b\b\b\b\b\b\b\b\b\b\b\b\b\b\b\b\b\b\b\b\b\b\b\b\b\b\b\b\b\b\b\b\b\b\b\b\b\b\b\b\b\b\b\b\b\b\b\b\b\b\b\b\b\b\b\b\b\b\b\b\b\b\b\b\b\b\b\b\b\b\b\b\b\b\b\b\b\b\b\b\b\b\b\b\b\r120/120 [==============================] - 1s 7ms/step - loss: 7.8111e-04 - accuracy: 1.0000 - lr: 3.0000e-05\n",
            "Epoch 125/200\n",
            "117/120 [============================>.] - ETA: 0s - loss: 0.0014 - accuracy: 1.0000"
          ]
        },
        {
          "output_type": "stream",
          "name": "stderr",
          "text": [
            "WARNING:tensorflow:Early stopping conditioned on metric `val_loss` which is not available. Available metrics are: loss,accuracy\n",
            "WARNING:tensorflow:Learning rate reduction is conditioned on metric `val_loss` which is not available. Available metrics are: loss,accuracy,lr\n"
          ]
        },
        {
          "output_type": "stream",
          "name": "stdout",
          "text": [
            "\b\b\b\b\b\b\b\b\b\b\b\b\b\b\b\b\b\b\b\b\b\b\b\b\b\b\b\b\b\b\b\b\b\b\b\b\b\b\b\b\b\b\b\b\b\b\b\b\b\b\b\b\b\b\b\b\b\b\b\b\b\b\b\b\b\b\b\b\b\b\b\b\b\b\b\b\b\b\b\b\b\b\b\b\r120/120 [==============================] - 1s 7ms/step - loss: 0.0014 - accuracy: 1.0000 - lr: 3.0000e-05\n",
            "Epoch 126/200\n",
            "119/120 [============================>.] - ETA: 0s - loss: 6.8545e-04 - accuracy: 1.0000"
          ]
        },
        {
          "output_type": "stream",
          "name": "stderr",
          "text": [
            "WARNING:tensorflow:Early stopping conditioned on metric `val_loss` which is not available. Available metrics are: loss,accuracy\n",
            "WARNING:tensorflow:Learning rate reduction is conditioned on metric `val_loss` which is not available. Available metrics are: loss,accuracy,lr\n"
          ]
        },
        {
          "output_type": "stream",
          "name": "stdout",
          "text": [
            "\b\b\b\b\b\b\b\b\b\b\b\b\b\b\b\b\b\b\b\b\b\b\b\b\b\b\b\b\b\b\b\b\b\b\b\b\b\b\b\b\b\b\b\b\b\b\b\b\b\b\b\b\b\b\b\b\b\b\b\b\b\b\b\b\b\b\b\b\b\b\b\b\b\b\b\b\b\b\b\b\b\b\b\b\b\b\b\b\r120/120 [==============================] - 1s 7ms/step - loss: 6.8350e-04 - accuracy: 1.0000 - lr: 3.0000e-05\n",
            "Epoch 127/200\n",
            "119/120 [============================>.] - ETA: 0s - loss: 0.0013 - accuracy: 1.0000"
          ]
        },
        {
          "output_type": "stream",
          "name": "stderr",
          "text": [
            "WARNING:tensorflow:Early stopping conditioned on metric `val_loss` which is not available. Available metrics are: loss,accuracy\n",
            "WARNING:tensorflow:Learning rate reduction is conditioned on metric `val_loss` which is not available. Available metrics are: loss,accuracy,lr\n"
          ]
        },
        {
          "output_type": "stream",
          "name": "stdout",
          "text": [
            "\b\b\b\b\b\b\b\b\b\b\b\b\b\b\b\b\b\b\b\b\b\b\b\b\b\b\b\b\b\b\b\b\b\b\b\b\b\b\b\b\b\b\b\b\b\b\b\b\b\b\b\b\b\b\b\b\b\b\b\b\b\b\b\b\b\b\b\b\b\b\b\b\b\b\b\b\b\b\b\b\b\b\b\b\r120/120 [==============================] - 1s 7ms/step - loss: 0.0012 - accuracy: 1.0000 - lr: 3.0000e-05\n",
            "Epoch 128/200\n",
            "118/120 [============================>.] - ETA: 0s - loss: 0.0011 - accuracy: 1.0000"
          ]
        },
        {
          "output_type": "stream",
          "name": "stderr",
          "text": [
            "WARNING:tensorflow:Early stopping conditioned on metric `val_loss` which is not available. Available metrics are: loss,accuracy\n",
            "WARNING:tensorflow:Learning rate reduction is conditioned on metric `val_loss` which is not available. Available metrics are: loss,accuracy,lr\n"
          ]
        },
        {
          "output_type": "stream",
          "name": "stdout",
          "text": [
            "\b\b\b\b\b\b\b\b\b\b\b\b\b\b\b\b\b\b\b\b\b\b\b\b\b\b\b\b\b\b\b\b\b\b\b\b\b\b\b\b\b\b\b\b\b\b\b\b\b\b\b\b\b\b\b\b\b\b\b\b\b\b\b\b\b\b\b\b\b\b\b\b\b\b\b\b\b\b\b\b\b\b\b\b\r120/120 [==============================] - 1s 7ms/step - loss: 0.0011 - accuracy: 1.0000 - lr: 3.0000e-05\n",
            "Epoch 129/200\n",
            "119/120 [============================>.] - ETA: 0s - loss: 8.8593e-04 - accuracy: 1.0000"
          ]
        },
        {
          "output_type": "stream",
          "name": "stderr",
          "text": [
            "WARNING:tensorflow:Early stopping conditioned on metric `val_loss` which is not available. Available metrics are: loss,accuracy\n",
            "WARNING:tensorflow:Learning rate reduction is conditioned on metric `val_loss` which is not available. Available metrics are: loss,accuracy,lr\n"
          ]
        },
        {
          "output_type": "stream",
          "name": "stdout",
          "text": [
            "\b\b\b\b\b\b\b\b\b\b\b\b\b\b\b\b\b\b\b\b\b\b\b\b\b\b\b\b\b\b\b\b\b\b\b\b\b\b\b\b\b\b\b\b\b\b\b\b\b\b\b\b\b\b\b\b\b\b\b\b\b\b\b\b\b\b\b\b\b\b\b\b\b\b\b\b\b\b\b\b\b\b\b\b\b\b\b\b\r120/120 [==============================] - 1s 7ms/step - loss: 8.8338e-04 - accuracy: 1.0000 - lr: 3.0000e-05\n",
            "Epoch 130/200\n",
            "118/120 [============================>.] - ETA: 0s - loss: 0.0022 - accuracy: 0.9997"
          ]
        },
        {
          "output_type": "stream",
          "name": "stderr",
          "text": [
            "WARNING:tensorflow:Early stopping conditioned on metric `val_loss` which is not available. Available metrics are: loss,accuracy\n",
            "WARNING:tensorflow:Learning rate reduction is conditioned on metric `val_loss` which is not available. Available metrics are: loss,accuracy,lr\n"
          ]
        },
        {
          "output_type": "stream",
          "name": "stdout",
          "text": [
            "\b\b\b\b\b\b\b\b\b\b\b\b\b\b\b\b\b\b\b\b\b\b\b\b\b\b\b\b\b\b\b\b\b\b\b\b\b\b\b\b\b\b\b\b\b\b\b\b\b\b\b\b\b\b\b\b\b\b\b\b\b\b\b\b\b\b\b\b\b\b\b\b\b\b\b\b\b\b\b\b\b\b\b\b\r120/120 [==============================] - 1s 7ms/step - loss: 0.0022 - accuracy: 0.9997 - lr: 3.0000e-05\n",
            "Epoch 131/200\n",
            "117/120 [============================>.] - ETA: 0s - loss: 0.0018 - accuracy: 0.9997"
          ]
        },
        {
          "output_type": "stream",
          "name": "stderr",
          "text": [
            "WARNING:tensorflow:Early stopping conditioned on metric `val_loss` which is not available. Available metrics are: loss,accuracy\n",
            "WARNING:tensorflow:Learning rate reduction is conditioned on metric `val_loss` which is not available. Available metrics are: loss,accuracy,lr\n"
          ]
        },
        {
          "output_type": "stream",
          "name": "stdout",
          "text": [
            "\b\b\b\b\b\b\b\b\b\b\b\b\b\b\b\b\b\b\b\b\b\b\b\b\b\b\b\b\b\b\b\b\b\b\b\b\b\b\b\b\b\b\b\b\b\b\b\b\b\b\b\b\b\b\b\b\b\b\b\b\b\b\b\b\b\b\b\b\b\b\b\b\b\b\b\b\b\b\b\b\b\b\b\b\r120/120 [==============================] - 1s 7ms/step - loss: 0.0018 - accuracy: 0.9997 - lr: 3.0000e-05\n",
            "Epoch 132/200\n",
            "115/120 [===========================>..] - ETA: 0s - loss: 9.6071e-04 - accuracy: 1.0000"
          ]
        },
        {
          "output_type": "stream",
          "name": "stderr",
          "text": [
            "WARNING:tensorflow:Early stopping conditioned on metric `val_loss` which is not available. Available metrics are: loss,accuracy\n",
            "WARNING:tensorflow:Learning rate reduction is conditioned on metric `val_loss` which is not available. Available metrics are: loss,accuracy,lr\n"
          ]
        },
        {
          "output_type": "stream",
          "name": "stdout",
          "text": [
            "\b\b\b\b\b\b\b\b\b\b\b\b\b\b\b\b\b\b\b\b\b\b\b\b\b\b\b\b\b\b\b\b\b\b\b\b\b\b\b\b\b\b\b\b\b\b\b\b\b\b\b\b\b\b\b\b\b\b\b\b\b\b\b\b\b\b\b\b\b\b\b\b\b\b\b\b\b\b\b\b\b\b\b\b\b\b\b\b\r120/120 [==============================] - 1s 7ms/step - loss: 9.3271e-04 - accuracy: 1.0000 - lr: 3.0000e-05\n",
            "Epoch 133/200\n",
            "117/120 [============================>.] - ETA: 0s - loss: 0.0014 - accuracy: 1.0000"
          ]
        },
        {
          "output_type": "stream",
          "name": "stderr",
          "text": [
            "WARNING:tensorflow:Early stopping conditioned on metric `val_loss` which is not available. Available metrics are: loss,accuracy\n",
            "WARNING:tensorflow:Learning rate reduction is conditioned on metric `val_loss` which is not available. Available metrics are: loss,accuracy,lr\n"
          ]
        },
        {
          "output_type": "stream",
          "name": "stdout",
          "text": [
            "\b\b\b\b\b\b\b\b\b\b\b\b\b\b\b\b\b\b\b\b\b\b\b\b\b\b\b\b\b\b\b\b\b\b\b\b\b\b\b\b\b\b\b\b\b\b\b\b\b\b\b\b\b\b\b\b\b\b\b\b\b\b\b\b\b\b\b\b\b\b\b\b\b\b\b\b\b\b\b\b\b\b\b\b\r120/120 [==============================] - 1s 7ms/step - loss: 0.0014 - accuracy: 1.0000 - lr: 3.0000e-05\n",
            "Epoch 134/200\n",
            "117/120 [============================>.] - ETA: 0s - loss: 9.6948e-04 - accuracy: 1.0000"
          ]
        },
        {
          "output_type": "stream",
          "name": "stderr",
          "text": [
            "WARNING:tensorflow:Early stopping conditioned on metric `val_loss` which is not available. Available metrics are: loss,accuracy\n",
            "WARNING:tensorflow:Learning rate reduction is conditioned on metric `val_loss` which is not available. Available metrics are: loss,accuracy,lr\n"
          ]
        },
        {
          "output_type": "stream",
          "name": "stdout",
          "text": [
            "\b\b\b\b\b\b\b\b\b\b\b\b\b\b\b\b\b\b\b\b\b\b\b\b\b\b\b\b\b\b\b\b\b\b\b\b\b\b\b\b\b\b\b\b\b\b\b\b\b\b\b\b\b\b\b\b\b\b\b\b\b\b\b\b\b\b\b\b\b\b\b\b\b\b\b\b\b\b\b\b\b\b\b\b\b\b\b\b\r120/120 [==============================] - 1s 7ms/step - loss: 0.0010 - accuracy: 1.0000 - lr: 3.0000e-05\n",
            "Epoch 135/200\n",
            "119/120 [============================>.] - ETA: 0s - loss: 9.4260e-04 - accuracy: 1.0000"
          ]
        },
        {
          "output_type": "stream",
          "name": "stderr",
          "text": [
            "WARNING:tensorflow:Early stopping conditioned on metric `val_loss` which is not available. Available metrics are: loss,accuracy\n",
            "WARNING:tensorflow:Learning rate reduction is conditioned on metric `val_loss` which is not available. Available metrics are: loss,accuracy,lr\n"
          ]
        },
        {
          "output_type": "stream",
          "name": "stdout",
          "text": [
            "\b\b\b\b\b\b\b\b\b\b\b\b\b\b\b\b\b\b\b\b\b\b\b\b\b\b\b\b\b\b\b\b\b\b\b\b\b\b\b\b\b\b\b\b\b\b\b\b\b\b\b\b\b\b\b\b\b\b\b\b\b\b\b\b\b\b\b\b\b\b\b\b\b\b\b\b\b\b\b\b\b\b\b\b\b\b\b\b\r120/120 [==============================] - 1s 7ms/step - loss: 9.3989e-04 - accuracy: 1.0000 - lr: 3.0000e-05\n",
            "Epoch 136/200\n",
            "114/120 [===========================>..] - ETA: 0s - loss: 0.0013 - accuracy: 0.9995"
          ]
        },
        {
          "output_type": "stream",
          "name": "stderr",
          "text": [
            "WARNING:tensorflow:Early stopping conditioned on metric `val_loss` which is not available. Available metrics are: loss,accuracy\n",
            "WARNING:tensorflow:Learning rate reduction is conditioned on metric `val_loss` which is not available. Available metrics are: loss,accuracy,lr\n"
          ]
        },
        {
          "output_type": "stream",
          "name": "stdout",
          "text": [
            "\b\b\b\b\b\b\b\b\b\b\b\b\b\b\b\b\b\b\b\b\b\b\b\b\b\b\b\b\b\b\b\b\b\b\b\b\b\b\b\b\b\b\b\b\b\b\b\b\b\b\b\b\b\b\b\b\b\b\b\b\b\b\b\b\b\b\b\b\b\b\b\b\b\b\b\b\b\b\b\b\b\b\b\b\r120/120 [==============================] - 1s 7ms/step - loss: 0.0012 - accuracy: 0.9995 - lr: 3.0000e-05\n",
            "Epoch 137/200\n",
            "117/120 [============================>.] - ETA: 0s - loss: 5.7027e-04 - accuracy: 1.0000"
          ]
        },
        {
          "output_type": "stream",
          "name": "stderr",
          "text": [
            "WARNING:tensorflow:Early stopping conditioned on metric `val_loss` which is not available. Available metrics are: loss,accuracy\n",
            "WARNING:tensorflow:Learning rate reduction is conditioned on metric `val_loss` which is not available. Available metrics are: loss,accuracy,lr\n"
          ]
        },
        {
          "output_type": "stream",
          "name": "stdout",
          "text": [
            "\b\b\b\b\b\b\b\b\b\b\b\b\b\b\b\b\b\b\b\b\b\b\b\b\b\b\b\b\b\b\b\b\b\b\b\b\b\b\b\b\b\b\b\b\b\b\b\b\b\b\b\b\b\b\b\b\b\b\b\b\b\b\b\b\b\b\b\b\b\b\b\b\b\b\b\b\b\b\b\b\b\b\b\b\b\b\b\b\r120/120 [==============================] - 1s 7ms/step - loss: 5.6021e-04 - accuracy: 1.0000 - lr: 3.0000e-05\n",
            "Epoch 138/200\n",
            "116/120 [============================>.] - ETA: 0s - loss: 0.0012 - accuracy: 1.0000"
          ]
        },
        {
          "output_type": "stream",
          "name": "stderr",
          "text": [
            "WARNING:tensorflow:Early stopping conditioned on metric `val_loss` which is not available. Available metrics are: loss,accuracy\n",
            "WARNING:tensorflow:Learning rate reduction is conditioned on metric `val_loss` which is not available. Available metrics are: loss,accuracy,lr\n"
          ]
        },
        {
          "output_type": "stream",
          "name": "stdout",
          "text": [
            "\b\b\b\b\b\b\b\b\b\b\b\b\b\b\b\b\b\b\b\b\b\b\b\b\b\b\b\b\b\b\b\b\b\b\b\b\b\b\b\b\b\b\b\b\b\b\b\b\b\b\b\b\b\b\b\b\b\b\b\b\b\b\b\b\b\b\b\b\b\b\b\b\b\b\b\b\b\b\b\b\b\b\b\b\r120/120 [==============================] - 1s 7ms/step - loss: 0.0011 - accuracy: 1.0000 - lr: 3.0000e-05\n",
            "Epoch 139/200\n",
            "118/120 [============================>.] - ETA: 0s - loss: 5.2024e-04 - accuracy: 1.0000"
          ]
        },
        {
          "output_type": "stream",
          "name": "stderr",
          "text": [
            "WARNING:tensorflow:Early stopping conditioned on metric `val_loss` which is not available. Available metrics are: loss,accuracy\n",
            "WARNING:tensorflow:Learning rate reduction is conditioned on metric `val_loss` which is not available. Available metrics are: loss,accuracy,lr\n"
          ]
        },
        {
          "output_type": "stream",
          "name": "stdout",
          "text": [
            "\b\b\b\b\b\b\b\b\b\b\b\b\b\b\b\b\b\b\b\b\b\b\b\b\b\b\b\b\b\b\b\b\b\b\b\b\b\b\b\b\b\b\b\b\b\b\b\b\b\b\b\b\b\b\b\b\b\b\b\b\b\b\b\b\b\b\b\b\b\b\b\b\b\b\b\b\b\b\b\b\b\b\b\b\b\b\b\b\r120/120 [==============================] - 1s 7ms/step - loss: 5.1747e-04 - accuracy: 1.0000 - lr: 3.0000e-05\n",
            "Epoch 140/200\n",
            "116/120 [============================>.] - ETA: 0s - loss: 6.1599e-04 - accuracy: 1.0000"
          ]
        },
        {
          "output_type": "stream",
          "name": "stderr",
          "text": [
            "WARNING:tensorflow:Early stopping conditioned on metric `val_loss` which is not available. Available metrics are: loss,accuracy\n",
            "WARNING:tensorflow:Learning rate reduction is conditioned on metric `val_loss` which is not available. Available metrics are: loss,accuracy,lr\n"
          ]
        },
        {
          "output_type": "stream",
          "name": "stdout",
          "text": [
            "\b\b\b\b\b\b\b\b\b\b\b\b\b\b\b\b\b\b\b\b\b\b\b\b\b\b\b\b\b\b\b\b\b\b\b\b\b\b\b\b\b\b\b\b\b\b\b\b\b\b\b\b\b\b\b\b\b\b\b\b\b\b\b\b\b\b\b\b\b\b\b\b\b\b\b\b\b\b\b\b\b\b\b\b\b\b\b\b\r120/120 [==============================] - 1s 7ms/step - loss: 5.9885e-04 - accuracy: 1.0000 - lr: 3.0000e-05\n",
            "Epoch 141/200\n",
            "119/120 [============================>.] - ETA: 0s - loss: 8.2024e-04 - accuracy: 1.0000"
          ]
        },
        {
          "output_type": "stream",
          "name": "stderr",
          "text": [
            "WARNING:tensorflow:Early stopping conditioned on metric `val_loss` which is not available. Available metrics are: loss,accuracy\n",
            "WARNING:tensorflow:Learning rate reduction is conditioned on metric `val_loss` which is not available. Available metrics are: loss,accuracy,lr\n"
          ]
        },
        {
          "output_type": "stream",
          "name": "stdout",
          "text": [
            "\b\b\b\b\b\b\b\b\b\b\b\b\b\b\b\b\b\b\b\b\b\b\b\b\b\b\b\b\b\b\b\b\b\b\b\b\b\b\b\b\b\b\b\b\b\b\b\b\b\b\b\b\b\b\b\b\b\b\b\b\b\b\b\b\b\b\b\b\b\b\b\b\b\b\b\b\b\b\b\b\b\b\b\b\b\b\b\b\r120/120 [==============================] - 1s 7ms/step - loss: 8.1787e-04 - accuracy: 1.0000 - lr: 3.0000e-05\n",
            "Epoch 142/200\n",
            "115/120 [===========================>..] - ETA: 0s - loss: 4.9842e-04 - accuracy: 1.0000"
          ]
        },
        {
          "output_type": "stream",
          "name": "stderr",
          "text": [
            "WARNING:tensorflow:Early stopping conditioned on metric `val_loss` which is not available. Available metrics are: loss,accuracy\n",
            "WARNING:tensorflow:Learning rate reduction is conditioned on metric `val_loss` which is not available. Available metrics are: loss,accuracy,lr\n"
          ]
        },
        {
          "output_type": "stream",
          "name": "stdout",
          "text": [
            "\b\b\b\b\b\b\b\b\b\b\b\b\b\b\b\b\b\b\b\b\b\b\b\b\b\b\b\b\b\b\b\b\b\b\b\b\b\b\b\b\b\b\b\b\b\b\b\b\b\b\b\b\b\b\b\b\b\b\b\b\b\b\b\b\b\b\b\b\b\b\b\b\b\b\b\b\b\b\b\b\b\b\b\b\b\b\b\b\r120/120 [==============================] - 1s 7ms/step - loss: 4.8131e-04 - accuracy: 1.0000 - lr: 3.0000e-05\n",
            "Epoch 143/200\n",
            "116/120 [============================>.] - ETA: 0s - loss: 7.2000e-04 - accuracy: 1.0000"
          ]
        },
        {
          "output_type": "stream",
          "name": "stderr",
          "text": [
            "WARNING:tensorflow:Early stopping conditioned on metric `val_loss` which is not available. Available metrics are: loss,accuracy\n",
            "WARNING:tensorflow:Learning rate reduction is conditioned on metric `val_loss` which is not available. Available metrics are: loss,accuracy,lr\n"
          ]
        },
        {
          "output_type": "stream",
          "name": "stdout",
          "text": [
            "\b\b\b\b\b\b\b\b\b\b\b\b\b\b\b\b\b\b\b\b\b\b\b\b\b\b\b\b\b\b\b\b\b\b\b\b\b\b\b\b\b\b\b\b\b\b\b\b\b\b\b\b\b\b\b\b\b\b\b\b\b\b\b\b\b\b\b\b\b\b\b\b\b\b\b\b\b\b\b\b\b\b\b\b\b\b\b\b\r120/120 [==============================] - 1s 7ms/step - loss: 7.9349e-04 - accuracy: 1.0000 - lr: 3.0000e-05\n",
            "Epoch 144/200\n",
            "117/120 [============================>.] - ETA: 0s - loss: 8.2562e-04 - accuracy: 1.0000"
          ]
        },
        {
          "output_type": "stream",
          "name": "stderr",
          "text": [
            "WARNING:tensorflow:Early stopping conditioned on metric `val_loss` which is not available. Available metrics are: loss,accuracy\n",
            "WARNING:tensorflow:Learning rate reduction is conditioned on metric `val_loss` which is not available. Available metrics are: loss,accuracy,lr\n"
          ]
        },
        {
          "output_type": "stream",
          "name": "stdout",
          "text": [
            "\b\b\b\b\b\b\b\b\b\b\b\b\b\b\b\b\b\b\b\b\b\b\b\b\b\b\b\b\b\b\b\b\b\b\b\b\b\b\b\b\b\b\b\b\b\b\b\b\b\b\b\b\b\b\b\b\b\b\b\b\b\b\b\b\b\b\b\b\b\b\b\b\b\b\b\b\b\b\b\b\b\b\b\b\b\b\b\b\r120/120 [==============================] - 1s 7ms/step - loss: 8.0981e-04 - accuracy: 1.0000 - lr: 3.0000e-05\n",
            "Epoch 145/200\n",
            "114/120 [===========================>..] - ETA: 0s - loss: 8.6578e-04 - accuracy: 1.0000"
          ]
        },
        {
          "output_type": "stream",
          "name": "stderr",
          "text": [
            "WARNING:tensorflow:Early stopping conditioned on metric `val_loss` which is not available. Available metrics are: loss,accuracy\n",
            "WARNING:tensorflow:Learning rate reduction is conditioned on metric `val_loss` which is not available. Available metrics are: loss,accuracy,lr\n"
          ]
        },
        {
          "output_type": "stream",
          "name": "stdout",
          "text": [
            "\b\b\b\b\b\b\b\b\b\b\b\b\b\b\b\b\b\b\b\b\b\b\b\b\b\b\b\b\b\b\b\b\b\b\b\b\b\b\b\b\b\b\b\b\b\b\b\b\b\b\b\b\b\b\b\b\b\b\b\b\b\b\b\b\b\b\b\b\b\b\b\b\b\b\b\b\b\b\b\b\b\b\b\b\b\b\b\b\r120/120 [==============================] - 1s 7ms/step - loss: 9.4136e-04 - accuracy: 1.0000 - lr: 3.0000e-05\n",
            "Epoch 146/200\n",
            "116/120 [============================>.] - ETA: 0s - loss: 6.8683e-04 - accuracy: 1.0000"
          ]
        },
        {
          "output_type": "stream",
          "name": "stderr",
          "text": [
            "WARNING:tensorflow:Early stopping conditioned on metric `val_loss` which is not available. Available metrics are: loss,accuracy\n",
            "WARNING:tensorflow:Learning rate reduction is conditioned on metric `val_loss` which is not available. Available metrics are: loss,accuracy,lr\n"
          ]
        },
        {
          "output_type": "stream",
          "name": "stdout",
          "text": [
            "\b\b\b\b\b\b\b\b\b\b\b\b\b\b\b\b\b\b\b\b\b\b\b\b\b\b\b\b\b\b\b\b\b\b\b\b\b\b\b\b\b\b\b\b\b\b\b\b\b\b\b\b\b\b\b\b\b\b\b\b\b\b\b\b\b\b\b\b\b\b\b\b\b\b\b\b\b\b\b\b\b\b\b\b\b\b\b\b\r120/120 [==============================] - 1s 7ms/step - loss: 6.6839e-04 - accuracy: 1.0000 - lr: 3.0000e-05\n",
            "Epoch 147/200\n",
            "117/120 [============================>.] - ETA: 0s - loss: 0.0013 - accuracy: 0.9997"
          ]
        },
        {
          "output_type": "stream",
          "name": "stderr",
          "text": [
            "WARNING:tensorflow:Early stopping conditioned on metric `val_loss` which is not available. Available metrics are: loss,accuracy\n",
            "WARNING:tensorflow:Learning rate reduction is conditioned on metric `val_loss` which is not available. Available metrics are: loss,accuracy,lr\n"
          ]
        },
        {
          "output_type": "stream",
          "name": "stdout",
          "text": [
            "\b\b\b\b\b\b\b\b\b\b\b\b\b\b\b\b\b\b\b\b\b\b\b\b\b\b\b\b\b\b\b\b\b\b\b\b\b\b\b\b\b\b\b\b\b\b\b\b\b\b\b\b\b\b\b\b\b\b\b\b\b\b\b\b\b\b\b\b\b\b\b\b\b\b\b\b\b\b\b\b\b\b\b\b\r120/120 [==============================] - 1s 7ms/step - loss: 0.0012 - accuracy: 0.9997 - lr: 3.0000e-05\n",
            "Epoch 148/200\n",
            "116/120 [============================>.] - ETA: 0s - loss: 0.0012 - accuracy: 1.0000"
          ]
        },
        {
          "output_type": "stream",
          "name": "stderr",
          "text": [
            "WARNING:tensorflow:Early stopping conditioned on metric `val_loss` which is not available. Available metrics are: loss,accuracy\n",
            "WARNING:tensorflow:Learning rate reduction is conditioned on metric `val_loss` which is not available. Available metrics are: loss,accuracy,lr\n"
          ]
        },
        {
          "output_type": "stream",
          "name": "stdout",
          "text": [
            "\b\b\b\b\b\b\b\b\b\b\b\b\b\b\b\b\b\b\b\b\b\b\b\b\b\b\b\b\b\b\b\b\b\b\b\b\b\b\b\b\b\b\b\b\b\b\b\b\b\b\b\b\b\b\b\b\b\b\b\b\b\b\b\b\b\b\b\b\b\b\b\b\b\b\b\b\b\b\b\b\b\b\b\b\r120/120 [==============================] - 1s 7ms/step - loss: 0.0012 - accuracy: 1.0000 - lr: 3.0000e-05\n",
            "Epoch 149/200\n",
            "119/120 [============================>.] - ETA: 0s - loss: 8.1716e-04 - accuracy: 1.0000"
          ]
        },
        {
          "output_type": "stream",
          "name": "stderr",
          "text": [
            "WARNING:tensorflow:Early stopping conditioned on metric `val_loss` which is not available. Available metrics are: loss,accuracy\n",
            "WARNING:tensorflow:Learning rate reduction is conditioned on metric `val_loss` which is not available. Available metrics are: loss,accuracy,lr\n"
          ]
        },
        {
          "output_type": "stream",
          "name": "stdout",
          "text": [
            "\b\b\b\b\b\b\b\b\b\b\b\b\b\b\b\b\b\b\b\b\b\b\b\b\b\b\b\b\b\b\b\b\b\b\b\b\b\b\b\b\b\b\b\b\b\b\b\b\b\b\b\b\b\b\b\b\b\b\b\b\b\b\b\b\b\b\b\b\b\b\b\b\b\b\b\b\b\b\b\b\b\b\b\b\b\b\b\b\r120/120 [==============================] - 1s 7ms/step - loss: 8.1491e-04 - accuracy: 1.0000 - lr: 3.0000e-05\n",
            "Epoch 150/200\n",
            "118/120 [============================>.] - ETA: 0s - loss: 6.2704e-04 - accuracy: 1.0000"
          ]
        },
        {
          "output_type": "stream",
          "name": "stderr",
          "text": [
            "WARNING:tensorflow:Early stopping conditioned on metric `val_loss` which is not available. Available metrics are: loss,accuracy\n",
            "WARNING:tensorflow:Learning rate reduction is conditioned on metric `val_loss` which is not available. Available metrics are: loss,accuracy,lr\n"
          ]
        },
        {
          "output_type": "stream",
          "name": "stdout",
          "text": [
            "\b\b\b\b\b\b\b\b\b\b\b\b\b\b\b\b\b\b\b\b\b\b\b\b\b\b\b\b\b\b\b\b\b\b\b\b\b\b\b\b\b\b\b\b\b\b\b\b\b\b\b\b\b\b\b\b\b\b\b\b\b\b\b\b\b\b\b\b\b\b\b\b\b\b\b\b\b\b\b\b\b\b\b\b\b\b\b\b\r120/120 [==============================] - 1s 7ms/step - loss: 6.2042e-04 - accuracy: 1.0000 - lr: 3.0000e-05\n",
            "Epoch 151/200\n",
            "119/120 [============================>.] - ETA: 0s - loss: 7.1161e-04 - accuracy: 1.0000"
          ]
        },
        {
          "output_type": "stream",
          "name": "stderr",
          "text": [
            "WARNING:tensorflow:Early stopping conditioned on metric `val_loss` which is not available. Available metrics are: loss,accuracy\n",
            "WARNING:tensorflow:Learning rate reduction is conditioned on metric `val_loss` which is not available. Available metrics are: loss,accuracy,lr\n"
          ]
        },
        {
          "output_type": "stream",
          "name": "stdout",
          "text": [
            "\b\b\b\b\b\b\b\b\b\b\b\b\b\b\b\b\b\b\b\b\b\b\b\b\b\b\b\b\b\b\b\b\b\b\b\b\b\b\b\b\b\b\b\b\b\b\b\b\b\b\b\b\b\b\b\b\b\b\b\b\b\b\b\b\b\b\b\b\b\b\b\b\b\b\b\b\b\b\b\b\b\b\b\b\b\b\b\b\r120/120 [==============================] - 1s 7ms/step - loss: 7.0989e-04 - accuracy: 1.0000 - lr: 3.0000e-05\n",
            "Epoch 152/200\n",
            "118/120 [============================>.] - ETA: 0s - loss: 9.8882e-04 - accuracy: 1.0000"
          ]
        },
        {
          "output_type": "stream",
          "name": "stderr",
          "text": [
            "WARNING:tensorflow:Early stopping conditioned on metric `val_loss` which is not available. Available metrics are: loss,accuracy\n",
            "WARNING:tensorflow:Learning rate reduction is conditioned on metric `val_loss` which is not available. Available metrics are: loss,accuracy,lr\n"
          ]
        },
        {
          "output_type": "stream",
          "name": "stdout",
          "text": [
            "\b\b\b\b\b\b\b\b\b\b\b\b\b\b\b\b\b\b\b\b\b\b\b\b\b\b\b\b\b\b\b\b\b\b\b\b\b\b\b\b\b\b\b\b\b\b\b\b\b\b\b\b\b\b\b\b\b\b\b\b\b\b\b\b\b\b\b\b\b\b\b\b\b\b\b\b\b\b\b\b\b\b\b\b\b\b\b\b\r120/120 [==============================] - 1s 7ms/step - loss: 9.7821e-04 - accuracy: 1.0000 - lr: 3.0000e-05\n",
            "Epoch 153/200\n",
            "116/120 [============================>.] - ETA: 0s - loss: 8.9170e-04 - accuracy: 1.0000"
          ]
        },
        {
          "output_type": "stream",
          "name": "stderr",
          "text": [
            "WARNING:tensorflow:Early stopping conditioned on metric `val_loss` which is not available. Available metrics are: loss,accuracy\n",
            "WARNING:tensorflow:Learning rate reduction is conditioned on metric `val_loss` which is not available. Available metrics are: loss,accuracy,lr\n"
          ]
        },
        {
          "output_type": "stream",
          "name": "stdout",
          "text": [
            "\b\b\b\b\b\b\b\b\b\b\b\b\b\b\b\b\b\b\b\b\b\b\b\b\b\b\b\b\b\b\b\b\b\b\b\b\b\b\b\b\b\b\b\b\b\b\b\b\b\b\b\b\b\b\b\b\b\b\b\b\b\b\b\b\b\b\b\b\b\b\b\b\b\b\b\b\b\b\b\b\b\b\b\b\b\b\b\b\r120/120 [==============================] - 1s 7ms/step - loss: 8.6807e-04 - accuracy: 1.0000 - lr: 3.0000e-05\n",
            "Epoch 154/200\n",
            "119/120 [============================>.] - ETA: 0s - loss: 9.3401e-04 - accuracy: 1.0000"
          ]
        },
        {
          "output_type": "stream",
          "name": "stderr",
          "text": [
            "WARNING:tensorflow:Early stopping conditioned on metric `val_loss` which is not available. Available metrics are: loss,accuracy\n",
            "WARNING:tensorflow:Learning rate reduction is conditioned on metric `val_loss` which is not available. Available metrics are: loss,accuracy,lr\n"
          ]
        },
        {
          "output_type": "stream",
          "name": "stdout",
          "text": [
            "\b\b\b\b\b\b\b\b\b\b\b\b\b\b\b\b\b\b\b\b\b\b\b\b\b\b\b\b\b\b\b\b\b\b\b\b\b\b\b\b\b\b\b\b\b\b\b\b\b\b\b\b\b\b\b\b\b\b\b\b\b\b\b\b\b\b\b\b\b\b\b\b\b\b\b\b\b\b\b\b\b\b\b\b\b\b\b\b\r120/120 [==============================] - 1s 7ms/step - loss: 9.3153e-04 - accuracy: 1.0000 - lr: 3.0000e-05\n",
            "Epoch 155/200\n",
            "119/120 [============================>.] - ETA: 0s - loss: 3.2048e-04 - accuracy: 1.0000"
          ]
        },
        {
          "output_type": "stream",
          "name": "stderr",
          "text": [
            "WARNING:tensorflow:Early stopping conditioned on metric `val_loss` which is not available. Available metrics are: loss,accuracy\n",
            "WARNING:tensorflow:Learning rate reduction is conditioned on metric `val_loss` which is not available. Available metrics are: loss,accuracy,lr\n"
          ]
        },
        {
          "output_type": "stream",
          "name": "stdout",
          "text": [
            "\b\b\b\b\b\b\b\b\b\b\b\b\b\b\b\b\b\b\b\b\b\b\b\b\b\b\b\b\b\b\b\b\b\b\b\b\b\b\b\b\b\b\b\b\b\b\b\b\b\b\b\b\b\b\b\b\b\b\b\b\b\b\b\b\b\b\b\b\b\b\b\b\b\b\b\b\b\b\b\b\b\b\b\b\b\b\b\b\r120/120 [==============================] - 1s 7ms/step - loss: 3.1955e-04 - accuracy: 1.0000 - lr: 3.0000e-05\n",
            "Epoch 156/200\n",
            "115/120 [===========================>..] - ETA: 0s - loss: 5.3213e-04 - accuracy: 1.0000"
          ]
        },
        {
          "output_type": "stream",
          "name": "stderr",
          "text": [
            "WARNING:tensorflow:Early stopping conditioned on metric `val_loss` which is not available. Available metrics are: loss,accuracy\n",
            "WARNING:tensorflow:Learning rate reduction is conditioned on metric `val_loss` which is not available. Available metrics are: loss,accuracy,lr\n"
          ]
        },
        {
          "output_type": "stream",
          "name": "stdout",
          "text": [
            "\b\b\b\b\b\b\b\b\b\b\b\b\b\b\b\b\b\b\b\b\b\b\b\b\b\b\b\b\b\b\b\b\b\b\b\b\b\b\b\b\b\b\b\b\b\b\b\b\b\b\b\b\b\b\b\b\b\b\b\b\b\b\b\b\b\b\b\b\b\b\b\b\b\b\b\b\b\b\b\b\b\b\b\b\b\b\b\b\r120/120 [==============================] - 1s 7ms/step - loss: 5.9285e-04 - accuracy: 1.0000 - lr: 3.0000e-05\n",
            "Epoch 157/200\n",
            "117/120 [============================>.] - ETA: 0s - loss: 7.9977e-04 - accuracy: 1.0000"
          ]
        },
        {
          "output_type": "stream",
          "name": "stderr",
          "text": [
            "WARNING:tensorflow:Early stopping conditioned on metric `val_loss` which is not available. Available metrics are: loss,accuracy\n",
            "WARNING:tensorflow:Learning rate reduction is conditioned on metric `val_loss` which is not available. Available metrics are: loss,accuracy,lr\n"
          ]
        },
        {
          "output_type": "stream",
          "name": "stdout",
          "text": [
            "\b\b\b\b\b\b\b\b\b\b\b\b\b\b\b\b\b\b\b\b\b\b\b\b\b\b\b\b\b\b\b\b\b\b\b\b\b\b\b\b\b\b\b\b\b\b\b\b\b\b\b\b\b\b\b\b\b\b\b\b\b\b\b\b\b\b\b\b\b\b\b\b\b\b\b\b\b\b\b\b\b\b\b\b\b\b\b\b\r120/120 [==============================] - 1s 7ms/step - loss: 7.8933e-04 - accuracy: 1.0000 - lr: 3.0000e-05\n",
            "Epoch 158/200\n",
            "119/120 [============================>.] - ETA: 0s - loss: 7.9624e-04 - accuracy: 1.0000"
          ]
        },
        {
          "output_type": "stream",
          "name": "stderr",
          "text": [
            "WARNING:tensorflow:Early stopping conditioned on metric `val_loss` which is not available. Available metrics are: loss,accuracy\n",
            "WARNING:tensorflow:Learning rate reduction is conditioned on metric `val_loss` which is not available. Available metrics are: loss,accuracy,lr\n"
          ]
        },
        {
          "output_type": "stream",
          "name": "stdout",
          "text": [
            "\b\b\b\b\b\b\b\b\b\b\b\b\b\b\b\b\b\b\b\b\b\b\b\b\b\b\b\b\b\b\b\b\b\b\b\b\b\b\b\b\b\b\b\b\b\b\b\b\b\b\b\b\b\b\b\b\b\b\b\b\b\b\b\b\b\b\b\b\b\b\b\b\b\b\b\b\b\b\b\b\b\b\b\b\b\b\b\b\r120/120 [==============================] - 1s 7ms/step - loss: 7.9394e-04 - accuracy: 1.0000 - lr: 3.0000e-05\n",
            "Epoch 159/200\n",
            "119/120 [============================>.] - ETA: 0s - loss: 3.1396e-04 - accuracy: 1.0000"
          ]
        },
        {
          "output_type": "stream",
          "name": "stderr",
          "text": [
            "WARNING:tensorflow:Early stopping conditioned on metric `val_loss` which is not available. Available metrics are: loss,accuracy\n",
            "WARNING:tensorflow:Learning rate reduction is conditioned on metric `val_loss` which is not available. Available metrics are: loss,accuracy,lr\n"
          ]
        },
        {
          "output_type": "stream",
          "name": "stdout",
          "text": [
            "\b\b\b\b\b\b\b\b\b\b\b\b\b\b\b\b\b\b\b\b\b\b\b\b\b\b\b\b\b\b\b\b\b\b\b\b\b\b\b\b\b\b\b\b\b\b\b\b\b\b\b\b\b\b\b\b\b\b\b\b\b\b\b\b\b\b\b\b\b\b\b\b\b\b\b\b\b\b\b\b\b\b\b\b\b\b\b\b\r120/120 [==============================] - 1s 7ms/step - loss: 3.1306e-04 - accuracy: 1.0000 - lr: 3.0000e-05\n",
            "Epoch 160/200\n",
            "116/120 [============================>.] - ETA: 0s - loss: 4.7660e-04 - accuracy: 1.0000"
          ]
        },
        {
          "output_type": "stream",
          "name": "stderr",
          "text": [
            "WARNING:tensorflow:Early stopping conditioned on metric `val_loss` which is not available. Available metrics are: loss,accuracy\n",
            "WARNING:tensorflow:Learning rate reduction is conditioned on metric `val_loss` which is not available. Available metrics are: loss,accuracy,lr\n"
          ]
        },
        {
          "output_type": "stream",
          "name": "stdout",
          "text": [
            "\b\b\b\b\b\b\b\b\b\b\b\b\b\b\b\b\b\b\b\b\b\b\b\b\b\b\b\b\b\b\b\b\b\b\b\b\b\b\b\b\b\b\b\b\b\b\b\b\b\b\b\b\b\b\b\b\b\b\b\b\b\b\b\b\b\b\b\b\b\b\b\b\b\b\b\b\b\b\b\b\b\b\b\b\b\b\b\b\r120/120 [==============================] - 1s 7ms/step - loss: 4.6404e-04 - accuracy: 1.0000 - lr: 3.0000e-05\n",
            "Epoch 161/200\n",
            "115/120 [===========================>..] - ETA: 0s - loss: 5.9904e-04 - accuracy: 1.0000"
          ]
        },
        {
          "output_type": "stream",
          "name": "stderr",
          "text": [
            "WARNING:tensorflow:Early stopping conditioned on metric `val_loss` which is not available. Available metrics are: loss,accuracy\n",
            "WARNING:tensorflow:Learning rate reduction is conditioned on metric `val_loss` which is not available. Available metrics are: loss,accuracy,lr\n"
          ]
        },
        {
          "output_type": "stream",
          "name": "stdout",
          "text": [
            "\b\b\b\b\b\b\b\b\b\b\b\b\b\b\b\b\b\b\b\b\b\b\b\b\b\b\b\b\b\b\b\b\b\b\b\b\b\b\b\b\b\b\b\b\b\b\b\b\b\b\b\b\b\b\b\b\b\b\b\b\b\b\b\b\b\b\b\b\b\b\b\b\b\b\b\b\b\b\b\b\b\b\b\b\b\b\b\b\r120/120 [==============================] - 1s 7ms/step - loss: 5.9903e-04 - accuracy: 1.0000 - lr: 3.0000e-05\n",
            "Epoch 162/200\n",
            "116/120 [============================>.] - ETA: 0s - loss: 5.0967e-04 - accuracy: 1.0000"
          ]
        },
        {
          "output_type": "stream",
          "name": "stderr",
          "text": [
            "WARNING:tensorflow:Early stopping conditioned on metric `val_loss` which is not available. Available metrics are: loss,accuracy\n",
            "WARNING:tensorflow:Learning rate reduction is conditioned on metric `val_loss` which is not available. Available metrics are: loss,accuracy,lr\n"
          ]
        },
        {
          "output_type": "stream",
          "name": "stdout",
          "text": [
            "\b\b\b\b\b\b\b\b\b\b\b\b\b\b\b\b\b\b\b\b\b\b\b\b\b\b\b\b\b\b\b\b\b\b\b\b\b\b\b\b\b\b\b\b\b\b\b\b\b\b\b\b\b\b\b\b\b\b\b\b\b\b\b\b\b\b\b\b\b\b\b\b\b\b\b\b\b\b\b\b\b\b\b\b\b\b\b\b\r120/120 [==============================] - 1s 7ms/step - loss: 4.9622e-04 - accuracy: 1.0000 - lr: 3.0000e-05\n",
            "Epoch 163/200\n",
            "118/120 [============================>.] - ETA: 0s - loss: 5.8812e-04 - accuracy: 1.0000"
          ]
        },
        {
          "output_type": "stream",
          "name": "stderr",
          "text": [
            "WARNING:tensorflow:Early stopping conditioned on metric `val_loss` which is not available. Available metrics are: loss,accuracy\n",
            "WARNING:tensorflow:Learning rate reduction is conditioned on metric `val_loss` which is not available. Available metrics are: loss,accuracy,lr\n"
          ]
        },
        {
          "output_type": "stream",
          "name": "stdout",
          "text": [
            "\b\b\b\b\b\b\b\b\b\b\b\b\b\b\b\b\b\b\b\b\b\b\b\b\b\b\b\b\b\b\b\b\b\b\b\b\b\b\b\b\b\b\b\b\b\b\b\b\b\b\b\b\b\b\b\b\b\b\b\b\b\b\b\b\b\b\b\b\b\b\b\b\b\b\b\b\b\b\b\b\b\b\b\b\b\b\b\b\r120/120 [==============================] - 1s 7ms/step - loss: 6.5180e-04 - accuracy: 1.0000 - lr: 3.0000e-05\n",
            "Epoch 164/200\n",
            "117/120 [============================>.] - ETA: 0s - loss: 5.1452e-04 - accuracy: 1.0000"
          ]
        },
        {
          "output_type": "stream",
          "name": "stderr",
          "text": [
            "WARNING:tensorflow:Early stopping conditioned on metric `val_loss` which is not available. Available metrics are: loss,accuracy\n",
            "WARNING:tensorflow:Learning rate reduction is conditioned on metric `val_loss` which is not available. Available metrics are: loss,accuracy,lr\n"
          ]
        },
        {
          "output_type": "stream",
          "name": "stdout",
          "text": [
            "\b\b\b\b\b\b\b\b\b\b\b\b\b\b\b\b\b\b\b\b\b\b\b\b\b\b\b\b\b\b\b\b\b\b\b\b\b\b\b\b\b\b\b\b\b\b\b\b\b\b\b\b\b\b\b\b\b\b\b\b\b\b\b\b\b\b\b\b\b\b\b\b\b\b\b\b\b\b\b\b\b\b\b\b\b\b\b\b\r120/120 [==============================] - 1s 7ms/step - loss: 5.0450e-04 - accuracy: 1.0000 - lr: 3.0000e-05\n",
            "Epoch 165/200\n",
            "115/120 [===========================>..] - ETA: 0s - loss: 2.8661e-04 - accuracy: 1.0000"
          ]
        },
        {
          "output_type": "stream",
          "name": "stderr",
          "text": [
            "WARNING:tensorflow:Early stopping conditioned on metric `val_loss` which is not available. Available metrics are: loss,accuracy\n",
            "WARNING:tensorflow:Learning rate reduction is conditioned on metric `val_loss` which is not available. Available metrics are: loss,accuracy,lr\n"
          ]
        },
        {
          "output_type": "stream",
          "name": "stdout",
          "text": [
            "\b\b\b\b\b\b\b\b\b\b\b\b\b\b\b\b\b\b\b\b\b\b\b\b\b\b\b\b\b\b\b\b\b\b\b\b\b\b\b\b\b\b\b\b\b\b\b\b\b\b\b\b\b\b\b\b\b\b\b\b\b\b\b\b\b\b\b\b\b\b\b\b\b\b\b\b\b\b\b\b\b\b\b\b\b\b\b\b\r120/120 [==============================] - 1s 7ms/step - loss: 2.7730e-04 - accuracy: 1.0000 - lr: 3.0000e-05\n",
            "Epoch 166/200\n",
            "116/120 [============================>.] - ETA: 0s - loss: 2.5451e-04 - accuracy: 1.0000"
          ]
        },
        {
          "output_type": "stream",
          "name": "stderr",
          "text": [
            "WARNING:tensorflow:Early stopping conditioned on metric `val_loss` which is not available. Available metrics are: loss,accuracy\n",
            "WARNING:tensorflow:Learning rate reduction is conditioned on metric `val_loss` which is not available. Available metrics are: loss,accuracy,lr\n"
          ]
        },
        {
          "output_type": "stream",
          "name": "stdout",
          "text": [
            "\b\b\b\b\b\b\b\b\b\b\b\b\b\b\b\b\b\b\b\b\b\b\b\b\b\b\b\b\b\b\b\b\b\b\b\b\b\b\b\b\b\b\b\b\b\b\b\b\b\b\b\b\b\b\b\b\b\b\b\b\b\b\b\b\b\b\b\b\b\b\b\b\b\b\b\b\b\b\b\b\b\b\b\b\b\b\b\b\r120/120 [==============================] - 1s 7ms/step - loss: 2.4917e-04 - accuracy: 1.0000 - lr: 3.0000e-05\n",
            "Epoch 167/200\n",
            "117/120 [============================>.] - ETA: 0s - loss: 4.1161e-04 - accuracy: 0.9997"
          ]
        },
        {
          "output_type": "stream",
          "name": "stderr",
          "text": [
            "WARNING:tensorflow:Early stopping conditioned on metric `val_loss` which is not available. Available metrics are: loss,accuracy\n",
            "WARNING:tensorflow:Learning rate reduction is conditioned on metric `val_loss` which is not available. Available metrics are: loss,accuracy,lr\n"
          ]
        },
        {
          "output_type": "stream",
          "name": "stdout",
          "text": [
            "\b\b\b\b\b\b\b\b\b\b\b\b\b\b\b\b\b\b\b\b\b\b\b\b\b\b\b\b\b\b\b\b\b\b\b\b\b\b\b\b\b\b\b\b\b\b\b\b\b\b\b\b\b\b\b\b\b\b\b\b\b\b\b\b\b\b\b\b\b\b\b\b\b\b\b\b\b\b\b\b\b\b\b\b\b\b\b\b\r120/120 [==============================] - 1s 7ms/step - loss: 4.1197e-04 - accuracy: 0.9997 - lr: 3.0000e-05\n",
            "Epoch 168/200\n",
            "117/120 [============================>.] - ETA: 0s - loss: 3.1082e-04 - accuracy: 1.0000"
          ]
        },
        {
          "output_type": "stream",
          "name": "stderr",
          "text": [
            "WARNING:tensorflow:Early stopping conditioned on metric `val_loss` which is not available. Available metrics are: loss,accuracy\n",
            "WARNING:tensorflow:Learning rate reduction is conditioned on metric `val_loss` which is not available. Available metrics are: loss,accuracy,lr\n"
          ]
        },
        {
          "output_type": "stream",
          "name": "stdout",
          "text": [
            "\b\b\b\b\b\b\b\b\b\b\b\b\b\b\b\b\b\b\b\b\b\b\b\b\b\b\b\b\b\b\b\b\b\b\b\b\b\b\b\b\b\b\b\b\b\b\b\b\b\b\b\b\b\b\b\b\b\b\b\b\b\b\b\b\b\b\b\b\b\b\b\b\b\b\b\b\b\b\b\b\b\b\b\b\b\b\b\b\r120/120 [==============================] - 1s 7ms/step - loss: 3.2390e-04 - accuracy: 1.0000 - lr: 3.0000e-05\n",
            "Epoch 169/200\n",
            "116/120 [============================>.] - ETA: 0s - loss: 4.0153e-04 - accuracy: 1.0000"
          ]
        },
        {
          "output_type": "stream",
          "name": "stderr",
          "text": [
            "WARNING:tensorflow:Early stopping conditioned on metric `val_loss` which is not available. Available metrics are: loss,accuracy\n",
            "WARNING:tensorflow:Learning rate reduction is conditioned on metric `val_loss` which is not available. Available metrics are: loss,accuracy,lr\n"
          ]
        },
        {
          "output_type": "stream",
          "name": "stdout",
          "text": [
            "\b\b\b\b\b\b\b\b\b\b\b\b\b\b\b\b\b\b\b\b\b\b\b\b\b\b\b\b\b\b\b\b\b\b\b\b\b\b\b\b\b\b\b\b\b\b\b\b\b\b\b\b\b\b\b\b\b\b\b\b\b\b\b\b\b\b\b\b\b\b\b\b\b\b\b\b\b\b\b\b\b\b\b\b\b\b\b\b\r120/120 [==============================] - 1s 7ms/step - loss: 3.9039e-04 - accuracy: 1.0000 - lr: 3.0000e-05\n",
            "Epoch 170/200\n",
            "118/120 [============================>.] - ETA: 0s - loss: 5.8314e-04 - accuracy: 1.0000"
          ]
        },
        {
          "output_type": "stream",
          "name": "stderr",
          "text": [
            "WARNING:tensorflow:Early stopping conditioned on metric `val_loss` which is not available. Available metrics are: loss,accuracy\n",
            "WARNING:tensorflow:Learning rate reduction is conditioned on metric `val_loss` which is not available. Available metrics are: loss,accuracy,lr\n"
          ]
        },
        {
          "output_type": "stream",
          "name": "stdout",
          "text": [
            "\b\b\b\b\b\b\b\b\b\b\b\b\b\b\b\b\b\b\b\b\b\b\b\b\b\b\b\b\b\b\b\b\b\b\b\b\b\b\b\b\b\b\b\b\b\b\b\b\b\b\b\b\b\b\b\b\b\b\b\b\b\b\b\b\b\b\b\b\b\b\b\b\b\b\b\b\b\b\b\b\b\b\b\b\b\b\b\b\r120/120 [==============================] - 1s 7ms/step - loss: 5.7844e-04 - accuracy: 1.0000 - lr: 3.0000e-05\n",
            "Epoch 171/200\n",
            "113/120 [===========================>..] - ETA: 0s - loss: 2.8760e-04 - accuracy: 1.0000"
          ]
        },
        {
          "output_type": "stream",
          "name": "stderr",
          "text": [
            "WARNING:tensorflow:Early stopping conditioned on metric `val_loss` which is not available. Available metrics are: loss,accuracy\n",
            "WARNING:tensorflow:Learning rate reduction is conditioned on metric `val_loss` which is not available. Available metrics are: loss,accuracy,lr\n"
          ]
        },
        {
          "output_type": "stream",
          "name": "stdout",
          "text": [
            "\b\b\b\b\b\b\b\b\b\b\b\b\b\b\b\b\b\b\b\b\b\b\b\b\b\b\b\b\b\b\b\b\b\b\b\b\b\b\b\b\b\b\b\b\b\b\b\b\b\b\b\b\b\b\b\b\b\b\b\b\b\b\b\b\b\b\b\b\b\b\b\b\b\b\b\b\b\b\b\b\b\b\b\b\b\b\b\b\r120/120 [==============================] - 1s 7ms/step - loss: 3.0057e-04 - accuracy: 1.0000 - lr: 3.0000e-05\n",
            "Epoch 172/200\n",
            "116/120 [============================>.] - ETA: 0s - loss: 2.6365e-04 - accuracy: 1.0000"
          ]
        },
        {
          "output_type": "stream",
          "name": "stderr",
          "text": [
            "WARNING:tensorflow:Early stopping conditioned on metric `val_loss` which is not available. Available metrics are: loss,accuracy\n",
            "WARNING:tensorflow:Learning rate reduction is conditioned on metric `val_loss` which is not available. Available metrics are: loss,accuracy,lr\n"
          ]
        },
        {
          "output_type": "stream",
          "name": "stdout",
          "text": [
            "\b\b\b\b\b\b\b\b\b\b\b\b\b\b\b\b\b\b\b\b\b\b\b\b\b\b\b\b\b\b\b\b\b\b\b\b\b\b\b\b\b\b\b\b\b\b\b\b\b\b\b\b\b\b\b\b\b\b\b\b\b\b\b\b\b\b\b\b\b\b\b\b\b\b\b\b\b\b\b\b\b\b\b\b\b\b\b\b\r120/120 [==============================] - 1s 7ms/step - loss: 4.3757e-04 - accuracy: 1.0000 - lr: 3.0000e-05\n",
            "Epoch 173/200\n",
            "117/120 [============================>.] - ETA: 0s - loss: 3.3613e-04 - accuracy: 1.0000"
          ]
        },
        {
          "output_type": "stream",
          "name": "stderr",
          "text": [
            "WARNING:tensorflow:Early stopping conditioned on metric `val_loss` which is not available. Available metrics are: loss,accuracy\n",
            "WARNING:tensorflow:Learning rate reduction is conditioned on metric `val_loss` which is not available. Available metrics are: loss,accuracy,lr\n"
          ]
        },
        {
          "output_type": "stream",
          "name": "stdout",
          "text": [
            "\b\b\b\b\b\b\b\b\b\b\b\b\b\b\b\b\b\b\b\b\b\b\b\b\b\b\b\b\b\b\b\b\b\b\b\b\b\b\b\b\b\b\b\b\b\b\b\b\b\b\b\b\b\b\b\b\b\b\b\b\b\b\b\b\b\b\b\b\b\b\b\b\b\b\b\b\b\b\b\b\b\b\b\b\b\b\b\b\r120/120 [==============================] - 1s 7ms/step - loss: 3.2967e-04 - accuracy: 1.0000 - lr: 3.0000e-05\n",
            "Epoch 174/200\n",
            "114/120 [===========================>..] - ETA: 0s - loss: 6.6319e-04 - accuracy: 1.0000"
          ]
        },
        {
          "output_type": "stream",
          "name": "stderr",
          "text": [
            "WARNING:tensorflow:Early stopping conditioned on metric `val_loss` which is not available. Available metrics are: loss,accuracy\n",
            "WARNING:tensorflow:Learning rate reduction is conditioned on metric `val_loss` which is not available. Available metrics are: loss,accuracy,lr\n"
          ]
        },
        {
          "output_type": "stream",
          "name": "stdout",
          "text": [
            "\b\b\b\b\b\b\b\b\b\b\b\b\b\b\b\b\b\b\b\b\b\b\b\b\b\b\b\b\b\b\b\b\b\b\b\b\b\b\b\b\b\b\b\b\b\b\b\b\b\b\b\b\b\b\b\b\b\b\b\b\b\b\b\b\b\b\b\b\b\b\b\b\b\b\b\b\b\b\b\b\b\b\b\b\b\b\b\b\r120/120 [==============================] - 1s 7ms/step - loss: 6.4411e-04 - accuracy: 1.0000 - lr: 3.0000e-05\n",
            "Epoch 175/200\n",
            "115/120 [===========================>..] - ETA: 0s - loss: 9.0248e-04 - accuracy: 0.9997"
          ]
        },
        {
          "output_type": "stream",
          "name": "stderr",
          "text": [
            "WARNING:tensorflow:Early stopping conditioned on metric `val_loss` which is not available. Available metrics are: loss,accuracy\n",
            "WARNING:tensorflow:Learning rate reduction is conditioned on metric `val_loss` which is not available. Available metrics are: loss,accuracy,lr\n"
          ]
        },
        {
          "output_type": "stream",
          "name": "stdout",
          "text": [
            "\b\b\b\b\b\b\b\b\b\b\b\b\b\b\b\b\b\b\b\b\b\b\b\b\b\b\b\b\b\b\b\b\b\b\b\b\b\b\b\b\b\b\b\b\b\b\b\b\b\b\b\b\b\b\b\b\b\b\b\b\b\b\b\b\b\b\b\b\b\b\b\b\b\b\b\b\b\b\b\b\b\b\b\b\b\b\b\b\r120/120 [==============================] - 1s 7ms/step - loss: 8.7003e-04 - accuracy: 0.9997 - lr: 3.0000e-05\n",
            "Epoch 176/200\n",
            "118/120 [============================>.] - ETA: 0s - loss: 3.7949e-04 - accuracy: 1.0000"
          ]
        },
        {
          "output_type": "stream",
          "name": "stderr",
          "text": [
            "WARNING:tensorflow:Early stopping conditioned on metric `val_loss` which is not available. Available metrics are: loss,accuracy\n",
            "WARNING:tensorflow:Learning rate reduction is conditioned on metric `val_loss` which is not available. Available metrics are: loss,accuracy,lr\n"
          ]
        },
        {
          "output_type": "stream",
          "name": "stdout",
          "text": [
            "\b\b\b\b\b\b\b\b\b\b\b\b\b\b\b\b\b\b\b\b\b\b\b\b\b\b\b\b\b\b\b\b\b\b\b\b\b\b\b\b\b\b\b\b\b\b\b\b\b\b\b\b\b\b\b\b\b\b\b\b\b\b\b\b\b\b\b\b\b\b\b\b\b\b\b\b\b\b\b\b\b\b\b\b\b\b\b\b\r120/120 [==============================] - 1s 7ms/step - loss: 3.8251e-04 - accuracy: 1.0000 - lr: 3.0000e-05\n",
            "Epoch 177/200\n",
            "116/120 [============================>.] - ETA: 0s - loss: 6.2229e-04 - accuracy: 1.0000"
          ]
        },
        {
          "output_type": "stream",
          "name": "stderr",
          "text": [
            "WARNING:tensorflow:Early stopping conditioned on metric `val_loss` which is not available. Available metrics are: loss,accuracy\n",
            "WARNING:tensorflow:Learning rate reduction is conditioned on metric `val_loss` which is not available. Available metrics are: loss,accuracy,lr\n"
          ]
        },
        {
          "output_type": "stream",
          "name": "stdout",
          "text": [
            "\b\b\b\b\b\b\b\b\b\b\b\b\b\b\b\b\b\b\b\b\b\b\b\b\b\b\b\b\b\b\b\b\b\b\b\b\b\b\b\b\b\b\b\b\b\b\b\b\b\b\b\b\b\b\b\b\b\b\b\b\b\b\b\b\b\b\b\b\b\b\b\b\b\b\b\b\b\b\b\b\b\b\b\b\b\b\b\b\r120/120 [==============================] - 1s 7ms/step - loss: 6.0633e-04 - accuracy: 1.0000 - lr: 3.0000e-05\n",
            "Epoch 178/200\n",
            "114/120 [===========================>..] - ETA: 0s - loss: 4.8322e-04 - accuracy: 1.0000"
          ]
        },
        {
          "output_type": "stream",
          "name": "stderr",
          "text": [
            "WARNING:tensorflow:Early stopping conditioned on metric `val_loss` which is not available. Available metrics are: loss,accuracy\n",
            "WARNING:tensorflow:Learning rate reduction is conditioned on metric `val_loss` which is not available. Available metrics are: loss,accuracy,lr\n"
          ]
        },
        {
          "output_type": "stream",
          "name": "stdout",
          "text": [
            "\b\b\b\b\b\b\b\b\b\b\b\b\b\b\b\b\b\b\b\b\b\b\b\b\b\b\b\b\b\b\b\b\b\b\b\b\b\b\b\b\b\b\b\b\b\b\b\b\b\b\b\b\b\b\b\b\b\b\b\b\b\b\b\b\b\b\b\b\b\b\b\b\b\b\b\b\b\b\b\b\b\b\b\b\b\b\b\b\r120/120 [==============================] - 1s 7ms/step - loss: 5.4616e-04 - accuracy: 1.0000 - lr: 3.0000e-05\n",
            "Epoch 179/200\n",
            "117/120 [============================>.] - ETA: 0s - loss: 2.8390e-04 - accuracy: 1.0000"
          ]
        },
        {
          "output_type": "stream",
          "name": "stderr",
          "text": [
            "WARNING:tensorflow:Early stopping conditioned on metric `val_loss` which is not available. Available metrics are: loss,accuracy\n",
            "WARNING:tensorflow:Learning rate reduction is conditioned on metric `val_loss` which is not available. Available metrics are: loss,accuracy,lr\n"
          ]
        },
        {
          "output_type": "stream",
          "name": "stdout",
          "text": [
            "\b\b\b\b\b\b\b\b\b\b\b\b\b\b\b\b\b\b\b\b\b\b\b\b\b\b\b\b\b\b\b\b\b\b\b\b\b\b\b\b\b\b\b\b\b\b\b\b\b\b\b\b\b\b\b\b\b\b\b\b\b\b\b\b\b\b\b\b\b\b\b\b\b\b\b\b\b\b\b\b\b\b\b\b\b\b\b\b\r120/120 [==============================] - 1s 7ms/step - loss: 2.7850e-04 - accuracy: 1.0000 - lr: 3.0000e-05\n",
            "Epoch 180/200\n",
            "119/120 [============================>.] - ETA: 0s - loss: 4.3096e-04 - accuracy: 1.0000"
          ]
        },
        {
          "output_type": "stream",
          "name": "stderr",
          "text": [
            "WARNING:tensorflow:Early stopping conditioned on metric `val_loss` which is not available. Available metrics are: loss,accuracy\n",
            "WARNING:tensorflow:Learning rate reduction is conditioned on metric `val_loss` which is not available. Available metrics are: loss,accuracy,lr\n"
          ]
        },
        {
          "output_type": "stream",
          "name": "stdout",
          "text": [
            "\b\b\b\b\b\b\b\b\b\b\b\b\b\b\b\b\b\b\b\b\b\b\b\b\b\b\b\b\b\b\b\b\b\b\b\b\b\b\b\b\b\b\b\b\b\b\b\b\b\b\b\b\b\b\b\b\b\b\b\b\b\b\b\b\b\b\b\b\b\b\b\b\b\b\b\b\b\b\b\b\b\b\b\b\b\b\b\b\r120/120 [==============================] - 1s 7ms/step - loss: 4.2972e-04 - accuracy: 1.0000 - lr: 3.0000e-05\n",
            "Epoch 181/200\n",
            "117/120 [============================>.] - ETA: 0s - loss: 2.8475e-04 - accuracy: 1.0000"
          ]
        },
        {
          "output_type": "stream",
          "name": "stderr",
          "text": [
            "WARNING:tensorflow:Early stopping conditioned on metric `val_loss` which is not available. Available metrics are: loss,accuracy\n",
            "WARNING:tensorflow:Learning rate reduction is conditioned on metric `val_loss` which is not available. Available metrics are: loss,accuracy,lr\n"
          ]
        },
        {
          "output_type": "stream",
          "name": "stdout",
          "text": [
            "\b\b\b\b\b\b\b\b\b\b\b\b\b\b\b\b\b\b\b\b\b\b\b\b\b\b\b\b\b\b\b\b\b\b\b\b\b\b\b\b\b\b\b\b\b\b\b\b\b\b\b\b\b\b\b\b\b\b\b\b\b\b\b\b\b\b\b\b\b\b\b\b\b\b\b\b\b\b\b\b\b\b\b\b\b\b\b\b\r120/120 [==============================] - 1s 7ms/step - loss: 2.7945e-04 - accuracy: 1.0000 - lr: 3.0000e-05\n",
            "Epoch 182/200\n",
            "116/120 [============================>.] - ETA: 0s - loss: 3.4540e-04 - accuracy: 1.0000"
          ]
        },
        {
          "output_type": "stream",
          "name": "stderr",
          "text": [
            "WARNING:tensorflow:Early stopping conditioned on metric `val_loss` which is not available. Available metrics are: loss,accuracy\n",
            "WARNING:tensorflow:Learning rate reduction is conditioned on metric `val_loss` which is not available. Available metrics are: loss,accuracy,lr\n"
          ]
        },
        {
          "output_type": "stream",
          "name": "stdout",
          "text": [
            "\b\b\b\b\b\b\b\b\b\b\b\b\b\b\b\b\b\b\b\b\b\b\b\b\b\b\b\b\b\b\b\b\b\b\b\b\b\b\b\b\b\b\b\b\b\b\b\b\b\b\b\b\b\b\b\b\b\b\b\b\b\b\b\b\b\b\b\b\b\b\b\b\b\b\b\b\b\b\b\b\b\b\b\b\b\b\b\b\r120/120 [==============================] - 1s 7ms/step - loss: 3.3594e-04 - accuracy: 1.0000 - lr: 3.0000e-05\n",
            "Epoch 183/200\n",
            "116/120 [============================>.] - ETA: 0s - loss: 3.3019e-04 - accuracy: 1.0000"
          ]
        },
        {
          "output_type": "stream",
          "name": "stderr",
          "text": [
            "WARNING:tensorflow:Early stopping conditioned on metric `val_loss` which is not available. Available metrics are: loss,accuracy\n",
            "WARNING:tensorflow:Learning rate reduction is conditioned on metric `val_loss` which is not available. Available metrics are: loss,accuracy,lr\n"
          ]
        },
        {
          "output_type": "stream",
          "name": "stdout",
          "text": [
            "\b\b\b\b\b\b\b\b\b\b\b\b\b\b\b\b\b\b\b\b\b\b\b\b\b\b\b\b\b\b\b\b\b\b\b\b\b\b\b\b\b\b\b\b\b\b\b\b\b\b\b\b\b\b\b\b\b\b\b\b\b\b\b\b\b\b\b\b\b\b\b\b\b\b\b\b\b\b\b\b\b\b\b\b\b\b\b\b\r120/120 [==============================] - 1s 7ms/step - loss: 3.2283e-04 - accuracy: 1.0000 - lr: 3.0000e-05\n",
            "Epoch 184/200\n",
            "116/120 [============================>.] - ETA: 0s - loss: 3.0629e-04 - accuracy: 1.0000"
          ]
        },
        {
          "output_type": "stream",
          "name": "stderr",
          "text": [
            "WARNING:tensorflow:Early stopping conditioned on metric `val_loss` which is not available. Available metrics are: loss,accuracy\n",
            "WARNING:tensorflow:Learning rate reduction is conditioned on metric `val_loss` which is not available. Available metrics are: loss,accuracy,lr\n"
          ]
        },
        {
          "output_type": "stream",
          "name": "stdout",
          "text": [
            "\b\b\b\b\b\b\b\b\b\b\b\b\b\b\b\b\b\b\b\b\b\b\b\b\b\b\b\b\b\b\b\b\b\b\b\b\b\b\b\b\b\b\b\b\b\b\b\b\b\b\b\b\b\b\b\b\b\b\b\b\b\b\b\b\b\b\b\b\b\b\b\b\b\b\b\b\b\b\b\b\b\b\b\b\b\b\b\b\r120/120 [==============================] - 1s 7ms/step - loss: 2.9826e-04 - accuracy: 1.0000 - lr: 3.0000e-05\n",
            "Epoch 185/200\n",
            "117/120 [============================>.] - ETA: 0s - loss: 3.8410e-04 - accuracy: 1.0000"
          ]
        },
        {
          "output_type": "stream",
          "name": "stderr",
          "text": [
            "WARNING:tensorflow:Early stopping conditioned on metric `val_loss` which is not available. Available metrics are: loss,accuracy\n",
            "WARNING:tensorflow:Learning rate reduction is conditioned on metric `val_loss` which is not available. Available metrics are: loss,accuracy,lr\n"
          ]
        },
        {
          "output_type": "stream",
          "name": "stdout",
          "text": [
            "\b\b\b\b\b\b\b\b\b\b\b\b\b\b\b\b\b\b\b\b\b\b\b\b\b\b\b\b\b\b\b\b\b\b\b\b\b\b\b\b\b\b\b\b\b\b\b\b\b\b\b\b\b\b\b\b\b\b\b\b\b\b\b\b\b\b\b\b\b\b\b\b\b\b\b\b\b\b\b\b\b\b\b\b\b\b\b\b\r120/120 [==============================] - 1s 7ms/step - loss: 3.7658e-04 - accuracy: 1.0000 - lr: 3.0000e-05\n",
            "Epoch 186/200\n",
            "117/120 [============================>.] - ETA: 0s - loss: 3.2529e-04 - accuracy: 1.0000"
          ]
        },
        {
          "output_type": "stream",
          "name": "stderr",
          "text": [
            "WARNING:tensorflow:Early stopping conditioned on metric `val_loss` which is not available. Available metrics are: loss,accuracy\n",
            "WARNING:tensorflow:Learning rate reduction is conditioned on metric `val_loss` which is not available. Available metrics are: loss,accuracy,lr\n"
          ]
        },
        {
          "output_type": "stream",
          "name": "stdout",
          "text": [
            "\b\b\b\b\b\b\b\b\b\b\b\b\b\b\b\b\b\b\b\b\b\b\b\b\b\b\b\b\b\b\b\b\b\b\b\b\b\b\b\b\b\b\b\b\b\b\b\b\b\b\b\b\b\b\b\b\b\b\b\b\b\b\b\b\b\b\b\b\b\b\b\b\b\b\b\b\b\b\b\b\b\b\b\b\b\b\b\b\r120/120 [==============================] - 1s 7ms/step - loss: 3.1891e-04 - accuracy: 1.0000 - lr: 3.0000e-05\n",
            "Epoch 187/200\n",
            "117/120 [============================>.] - ETA: 0s - loss: 3.9913e-04 - accuracy: 1.0000"
          ]
        },
        {
          "output_type": "stream",
          "name": "stderr",
          "text": [
            "WARNING:tensorflow:Early stopping conditioned on metric `val_loss` which is not available. Available metrics are: loss,accuracy\n",
            "WARNING:tensorflow:Learning rate reduction is conditioned on metric `val_loss` which is not available. Available metrics are: loss,accuracy,lr\n"
          ]
        },
        {
          "output_type": "stream",
          "name": "stdout",
          "text": [
            "\b\b\b\b\b\b\b\b\b\b\b\b\b\b\b\b\b\b\b\b\b\b\b\b\b\b\b\b\b\b\b\b\b\b\b\b\b\b\b\b\b\b\b\b\b\b\b\b\b\b\b\b\b\b\b\b\b\b\b\b\b\b\b\b\b\b\b\b\b\b\b\b\b\b\b\b\b\b\b\b\b\b\b\b\b\b\b\b\r120/120 [==============================] - 1s 7ms/step - loss: 4.0017e-04 - accuracy: 1.0000 - lr: 3.0000e-05\n",
            "Epoch 188/200\n",
            "118/120 [============================>.] - ETA: 0s - loss: 2.2939e-04 - accuracy: 1.0000"
          ]
        },
        {
          "output_type": "stream",
          "name": "stderr",
          "text": [
            "WARNING:tensorflow:Early stopping conditioned on metric `val_loss` which is not available. Available metrics are: loss,accuracy\n",
            "WARNING:tensorflow:Learning rate reduction is conditioned on metric `val_loss` which is not available. Available metrics are: loss,accuracy,lr\n"
          ]
        },
        {
          "output_type": "stream",
          "name": "stdout",
          "text": [
            "\b\b\b\b\b\b\b\b\b\b\b\b\b\b\b\b\b\b\b\b\b\b\b\b\b\b\b\b\b\b\b\b\b\b\b\b\b\b\b\b\b\b\b\b\b\b\b\b\b\b\b\b\b\b\b\b\b\b\b\b\b\b\b\b\b\b\b\b\b\b\b\b\b\b\b\b\b\b\b\b\b\b\b\b\b\b\b\b\r120/120 [==============================] - 1s 7ms/step - loss: 2.2690e-04 - accuracy: 1.0000 - lr: 3.0000e-05\n",
            "Epoch 189/200\n",
            "117/120 [============================>.] - ETA: 0s - loss: 1.8890e-04 - accuracy: 1.0000"
          ]
        },
        {
          "output_type": "stream",
          "name": "stderr",
          "text": [
            "WARNING:tensorflow:Early stopping conditioned on metric `val_loss` which is not available. Available metrics are: loss,accuracy\n",
            "WARNING:tensorflow:Learning rate reduction is conditioned on metric `val_loss` which is not available. Available metrics are: loss,accuracy,lr\n"
          ]
        },
        {
          "output_type": "stream",
          "name": "stdout",
          "text": [
            "\b\b\b\b\b\b\b\b\b\b\b\b\b\b\b\b\b\b\b\b\b\b\b\b\b\b\b\b\b\b\b\b\b\b\b\b\b\b\b\b\b\b\b\b\b\b\b\b\b\b\b\b\b\b\b\b\b\b\b\b\b\b\b\b\b\b\b\b\b\b\b\b\b\b\b\b\b\b\b\b\b\b\b\b\b\b\b\b\r120/120 [==============================] - 1s 7ms/step - loss: 1.8825e-04 - accuracy: 1.0000 - lr: 3.0000e-05\n",
            "Epoch 190/200\n",
            "119/120 [============================>.] - ETA: 0s - loss: 3.8453e-04 - accuracy: 0.9997"
          ]
        },
        {
          "output_type": "stream",
          "name": "stderr",
          "text": [
            "WARNING:tensorflow:Early stopping conditioned on metric `val_loss` which is not available. Available metrics are: loss,accuracy\n",
            "WARNING:tensorflow:Learning rate reduction is conditioned on metric `val_loss` which is not available. Available metrics are: loss,accuracy,lr\n"
          ]
        },
        {
          "output_type": "stream",
          "name": "stdout",
          "text": [
            "\b\b\b\b\b\b\b\b\b\b\b\b\b\b\b\b\b\b\b\b\b\b\b\b\b\b\b\b\b\b\b\b\b\b\b\b\b\b\b\b\b\b\b\b\b\b\b\b\b\b\b\b\b\b\b\b\b\b\b\b\b\b\b\b\b\b\b\b\b\b\b\b\b\b\b\b\b\b\b\b\b\b\b\b\b\b\b\b\r120/120 [==============================] - 1s 7ms/step - loss: 3.8342e-04 - accuracy: 0.9997 - lr: 3.0000e-05\n",
            "Epoch 191/200\n",
            "117/120 [============================>.] - ETA: 0s - loss: 2.8690e-04 - accuracy: 1.0000"
          ]
        },
        {
          "output_type": "stream",
          "name": "stderr",
          "text": [
            "WARNING:tensorflow:Early stopping conditioned on metric `val_loss` which is not available. Available metrics are: loss,accuracy\n",
            "WARNING:tensorflow:Learning rate reduction is conditioned on metric `val_loss` which is not available. Available metrics are: loss,accuracy,lr\n"
          ]
        },
        {
          "output_type": "stream",
          "name": "stdout",
          "text": [
            "\b\b\b\b\b\b\b\b\b\b\b\b\b\b\b\b\b\b\b\b\b\b\b\b\b\b\b\b\b\b\b\b\b\b\b\b\b\b\b\b\b\b\b\b\b\b\b\b\b\b\b\b\b\b\b\b\b\b\b\b\b\b\b\b\b\b\b\b\b\b\b\b\b\b\b\b\b\b\b\b\b\b\b\b\b\b\b\b\r120/120 [==============================] - 1s 7ms/step - loss: 2.8127e-04 - accuracy: 1.0000 - lr: 3.0000e-05\n",
            "Epoch 192/200\n",
            "113/120 [===========================>..] - ETA: 0s - loss: 3.9252e-04 - accuracy: 1.0000"
          ]
        },
        {
          "output_type": "stream",
          "name": "stderr",
          "text": [
            "WARNING:tensorflow:Early stopping conditioned on metric `val_loss` which is not available. Available metrics are: loss,accuracy\n",
            "WARNING:tensorflow:Learning rate reduction is conditioned on metric `val_loss` which is not available. Available metrics are: loss,accuracy,lr\n"
          ]
        },
        {
          "output_type": "stream",
          "name": "stdout",
          "text": [
            "\b\b\b\b\b\b\b\b\b\b\b\b\b\b\b\b\b\b\b\b\b\b\b\b\b\b\b\b\b\b\b\b\b\b\b\b\b\b\b\b\b\b\b\b\b\b\b\b\b\b\b\b\b\b\b\b\b\b\b\b\b\b\b\b\b\b\b\b\b\b\b\b\b\b\b\b\b\b\b\b\b\b\b\b\b\b\b\b\r120/120 [==============================] - 1s 7ms/step - loss: 3.9245e-04 - accuracy: 1.0000 - lr: 3.0000e-05\n",
            "Epoch 193/200\n",
            "116/120 [============================>.] - ETA: 0s - loss: 5.2577e-04 - accuracy: 0.9995"
          ]
        },
        {
          "output_type": "stream",
          "name": "stderr",
          "text": [
            "WARNING:tensorflow:Early stopping conditioned on metric `val_loss` which is not available. Available metrics are: loss,accuracy\n",
            "WARNING:tensorflow:Learning rate reduction is conditioned on metric `val_loss` which is not available. Available metrics are: loss,accuracy,lr\n"
          ]
        },
        {
          "output_type": "stream",
          "name": "stdout",
          "text": [
            "\b\b\b\b\b\b\b\b\b\b\b\b\b\b\b\b\b\b\b\b\b\b\b\b\b\b\b\b\b\b\b\b\b\b\b\b\b\b\b\b\b\b\b\b\b\b\b\b\b\b\b\b\b\b\b\b\b\b\b\b\b\b\b\b\b\b\b\b\b\b\b\b\b\b\b\b\b\b\b\b\b\b\b\b\b\b\b\b\r120/120 [==============================] - 1s 7ms/step - loss: 5.1753e-04 - accuracy: 0.9995 - lr: 3.0000e-05\n",
            "Epoch 194/200\n",
            "116/120 [============================>.] - ETA: 0s - loss: 4.6030e-04 - accuracy: 1.0000"
          ]
        },
        {
          "output_type": "stream",
          "name": "stderr",
          "text": [
            "WARNING:tensorflow:Early stopping conditioned on metric `val_loss` which is not available. Available metrics are: loss,accuracy\n",
            "WARNING:tensorflow:Learning rate reduction is conditioned on metric `val_loss` which is not available. Available metrics are: loss,accuracy,lr\n"
          ]
        },
        {
          "output_type": "stream",
          "name": "stdout",
          "text": [
            "\b\b\b\b\b\b\b\b\b\b\b\b\b\b\b\b\b\b\b\b\b\b\b\b\b\b\b\b\b\b\b\b\b\b\b\b\b\b\b\b\b\b\b\b\b\b\b\b\b\b\b\b\b\b\b\b\b\b\b\b\b\b\b\b\b\b\b\b\b\b\b\b\b\b\b\b\b\b\b\b\b\b\b\b\b\b\b\b\r120/120 [==============================] - 1s 7ms/step - loss: 4.4769e-04 - accuracy: 1.0000 - lr: 3.0000e-05\n",
            "Epoch 195/200\n",
            "117/120 [============================>.] - ETA: 0s - loss: 7.9046e-04 - accuracy: 1.0000"
          ]
        },
        {
          "output_type": "stream",
          "name": "stderr",
          "text": [
            "WARNING:tensorflow:Early stopping conditioned on metric `val_loss` which is not available. Available metrics are: loss,accuracy\n",
            "WARNING:tensorflow:Learning rate reduction is conditioned on metric `val_loss` which is not available. Available metrics are: loss,accuracy,lr\n"
          ]
        },
        {
          "output_type": "stream",
          "name": "stdout",
          "text": [
            "\b\b\b\b\b\b\b\b\b\b\b\b\b\b\b\b\b\b\b\b\b\b\b\b\b\b\b\b\b\b\b\b\b\b\b\b\b\b\b\b\b\b\b\b\b\b\b\b\b\b\b\b\b\b\b\b\b\b\b\b\b\b\b\b\b\b\b\b\b\b\b\b\b\b\b\b\b\b\b\b\b\b\b\b\b\b\b\b\r120/120 [==============================] - 1s 7ms/step - loss: 7.7495e-04 - accuracy: 1.0000 - lr: 3.0000e-05\n",
            "Epoch 196/200\n",
            "116/120 [============================>.] - ETA: 0s - loss: 6.2914e-04 - accuracy: 0.9997"
          ]
        },
        {
          "output_type": "stream",
          "name": "stderr",
          "text": [
            "WARNING:tensorflow:Early stopping conditioned on metric `val_loss` which is not available. Available metrics are: loss,accuracy\n",
            "WARNING:tensorflow:Learning rate reduction is conditioned on metric `val_loss` which is not available. Available metrics are: loss,accuracy,lr\n"
          ]
        },
        {
          "output_type": "stream",
          "name": "stdout",
          "text": [
            "\b\b\b\b\b\b\b\b\b\b\b\b\b\b\b\b\b\b\b\b\b\b\b\b\b\b\b\b\b\b\b\b\b\b\b\b\b\b\b\b\b\b\b\b\b\b\b\b\b\b\b\b\b\b\b\b\b\b\b\b\b\b\b\b\b\b\b\b\b\b\b\b\b\b\b\b\b\b\b\b\b\b\b\b\b\b\b\b\r120/120 [==============================] - 1s 7ms/step - loss: 6.1200e-04 - accuracy: 0.9997 - lr: 3.0000e-05\n",
            "Epoch 197/200\n",
            "118/120 [============================>.] - ETA: 0s - loss: 0.0011 - accuracy: 0.9997"
          ]
        },
        {
          "output_type": "stream",
          "name": "stderr",
          "text": [
            "WARNING:tensorflow:Early stopping conditioned on metric `val_loss` which is not available. Available metrics are: loss,accuracy\n",
            "WARNING:tensorflow:Learning rate reduction is conditioned on metric `val_loss` which is not available. Available metrics are: loss,accuracy,lr\n"
          ]
        },
        {
          "output_type": "stream",
          "name": "stdout",
          "text": [
            "\b\b\b\b\b\b\b\b\b\b\b\b\b\b\b\b\b\b\b\b\b\b\b\b\b\b\b\b\b\b\b\b\b\b\b\b\b\b\b\b\b\b\b\b\b\b\b\b\b\b\b\b\b\b\b\b\b\b\b\b\b\b\b\b\b\b\b\b\b\b\b\b\b\b\b\b\b\b\b\b\b\b\b\b\r120/120 [==============================] - 1s 7ms/step - loss: 0.0011 - accuracy: 0.9997 - lr: 3.0000e-05\n",
            "Epoch 198/200\n",
            "115/120 [===========================>..] - ETA: 0s - loss: 5.3297e-04 - accuracy: 1.0000"
          ]
        },
        {
          "output_type": "stream",
          "name": "stderr",
          "text": [
            "WARNING:tensorflow:Early stopping conditioned on metric `val_loss` which is not available. Available metrics are: loss,accuracy\n",
            "WARNING:tensorflow:Learning rate reduction is conditioned on metric `val_loss` which is not available. Available metrics are: loss,accuracy,lr\n"
          ]
        },
        {
          "output_type": "stream",
          "name": "stdout",
          "text": [
            "\b\b\b\b\b\b\b\b\b\b\b\b\b\b\b\b\b\b\b\b\b\b\b\b\b\b\b\b\b\b\b\b\b\b\b\b\b\b\b\b\b\b\b\b\b\b\b\b\b\b\b\b\b\b\b\b\b\b\b\b\b\b\b\b\b\b\b\b\b\b\b\b\b\b\b\b\b\b\b\b\b\b\b\b\b\b\b\b\r120/120 [==============================] - 1s 7ms/step - loss: 5.1419e-04 - accuracy: 1.0000 - lr: 3.0000e-05\n",
            "Epoch 199/200\n",
            "116/120 [============================>.] - ETA: 0s - loss: 5.3062e-04 - accuracy: 1.0000"
          ]
        },
        {
          "output_type": "stream",
          "name": "stderr",
          "text": [
            "WARNING:tensorflow:Early stopping conditioned on metric `val_loss` which is not available. Available metrics are: loss,accuracy\n",
            "WARNING:tensorflow:Learning rate reduction is conditioned on metric `val_loss` which is not available. Available metrics are: loss,accuracy,lr\n"
          ]
        },
        {
          "output_type": "stream",
          "name": "stdout",
          "text": [
            "\b\b\b\b\b\b\b\b\b\b\b\b\b\b\b\b\b\b\b\b\b\b\b\b\b\b\b\b\b\b\b\b\b\b\b\b\b\b\b\b\b\b\b\b\b\b\b\b\b\b\b\b\b\b\b\b\b\b\b\b\b\b\b\b\b\b\b\b\b\b\b\b\b\b\b\b\b\b\b\b\b\b\b\b\b\b\b\b\r120/120 [==============================] - 1s 7ms/step - loss: 5.1592e-04 - accuracy: 1.0000 - lr: 3.0000e-05\n",
            "Epoch 200/200\n",
            "115/120 [===========================>..] - ETA: 0s - loss: 1.2207e-04 - accuracy: 1.0000"
          ]
        },
        {
          "output_type": "stream",
          "name": "stderr",
          "text": [
            "WARNING:tensorflow:Early stopping conditioned on metric `val_loss` which is not available. Available metrics are: loss,accuracy\n",
            "WARNING:tensorflow:Learning rate reduction is conditioned on metric `val_loss` which is not available. Available metrics are: loss,accuracy,lr\n"
          ]
        },
        {
          "output_type": "stream",
          "name": "stdout",
          "text": [
            "\b\b\b\b\b\b\b\b\b\b\b\b\b\b\b\b\b\b\b\b\b\b\b\b\b\b\b\b\b\b\b\b\b\b\b\b\b\b\b\b\b\b\b\b\b\b\b\b\b\b\b\b\b\b\b\b\b\b\b\b\b\b\b\b\b\b\b\b\b\b\b\b\b\b\b\b\b\b\b\b\b\b\b\b\b\b\b\b\r120/120 [==============================] - 1s 7ms/step - loss: 1.1782e-04 - accuracy: 1.0000 - lr: 3.0000e-05\n"
          ]
        }
      ]
    },
    {
      "cell_type": "markdown",
      "source": [
        "# log loss"
      ],
      "metadata": {
        "id": "U3Xg55v7ZbWc"
      }
    },
    {
      "cell_type": "code",
      "source": [
        "CNN1_network_predictions = CNN1_network.predict(padded_clean_text_t_stem)"
      ],
      "metadata": {
        "id": "dbcI7RTeZcn2"
      },
      "execution_count": null,
      "outputs": []
    },
    {
      "cell_type": "code",
      "source": [
        "from sklearn.metrics import log_loss\n",
        "log_loss_test= log_loss(label_twoDimension_t,CNN1_network_predictions)\n",
        "log_loss_test"
      ],
      "metadata": {
        "colab": {
          "base_uri": "https://localhost:8080/"
        },
        "id": "vBA3XmTFZf4y",
        "outputId": "2dcdb523-93c9-418e-a219-b84d5142cfff"
      },
      "execution_count": null,
      "outputs": [
        {
          "output_type": "execute_result",
          "data": {
            "text/plain": [
              "5.307833461436202"
            ]
          },
          "metadata": {},
          "execution_count": 64
        }
      ]
    },
    {
      "cell_type": "markdown",
      "source": [
        "# Classification Report\n"
      ],
      "metadata": {
        "id": "gIX9etNsZiSb"
      }
    },
    {
      "cell_type": "code",
      "source": [
        "predictions = np.zeros_like(CNN1_network_predictions)\n",
        "predictions[np.arange(len(CNN1_network_predictions)), CNN1_network_predictions.argmax(1)] = 1\n",
        "\n"
      ],
      "metadata": {
        "id": "EejyfrakZjSe"
      },
      "execution_count": null,
      "outputs": []
    },
    {
      "cell_type": "code",
      "source": [
        "\n",
        "\n",
        "predictionInteger=(np.argmax(predictions, axis=1))\n",
        "predictionInteger\n",
        "\n"
      ],
      "metadata": {
        "colab": {
          "base_uri": "https://localhost:8080/"
        },
        "id": "gegx60d8ZmD0",
        "outputId": "cc457f4f-9ba3-4ea7-86ce-18a0bb956202"
      },
      "execution_count": null,
      "outputs": [
        {
          "output_type": "execute_result",
          "data": {
            "text/plain": [
              "array([1, 1, 1, ..., 0, 1, 1])"
            ]
          },
          "metadata": {},
          "execution_count": 66
        }
      ]
    },
    {
      "cell_type": "code",
      "source": [
        "\n",
        "\n",
        "pred_label = np.array(predictionInteger)\n",
        "df = pd.DataFrame(data=pred_label , columns=[\"task1\"])\n",
        "print(df)\n",
        "\n"
      ],
      "metadata": {
        "colab": {
          "base_uri": "https://localhost:8080/"
        },
        "id": "oceUPc_tZniC",
        "outputId": "49611855-d6c6-4a2a-93dc-57d51aa3b9d1"
      },
      "execution_count": null,
      "outputs": [
        {
          "output_type": "stream",
          "name": "stdout",
          "text": [
            "      task1\n",
            "0         1\n",
            "1         1\n",
            "2         1\n",
            "3         1\n",
            "4         0\n",
            "...     ...\n",
            "3026      1\n",
            "3027      1\n",
            "3028      0\n",
            "3029      1\n",
            "3030      1\n",
            "\n",
            "[3031 rows x 1 columns]\n"
          ]
        }
      ]
    },
    {
      "cell_type": "code",
      "source": [
        "df.to_csv(\"NSIT_submission_DE_Train_HASOC2019_Test_GermEval2019_TASK_A.csv\", index=False)"
      ],
      "metadata": {
        "id": "Ey4jhyzcZpFS"
      },
      "execution_count": null,
      "outputs": []
    },
    {
      "cell_type": "code",
      "source": [
        "\n",
        "\n",
        "from sklearn.metrics import classification_report\n",
        "print(classification_report(label_twoDimension_t,predictions))\n",
        "\n"
      ],
      "metadata": {
        "colab": {
          "base_uri": "https://localhost:8080/"
        },
        "id": "XLy5CXJXZtSj",
        "outputId": "ac75a747-63fb-47fc-b4d0-03ad3263242f"
      },
      "execution_count": null,
      "outputs": [
        {
          "output_type": "stream",
          "name": "stdout",
          "text": [
            "              precision    recall  f1-score   support\n",
            "\n",
            "           0       0.46      0.13      0.20       970\n",
            "           1       0.69      0.93      0.79      2061\n",
            "\n",
            "   micro avg       0.67      0.67      0.67      3031\n",
            "   macro avg       0.58      0.53      0.50      3031\n",
            "weighted avg       0.62      0.67      0.60      3031\n",
            " samples avg       0.67      0.67      0.67      3031\n",
            "\n"
          ]
        }
      ]
    },
    {
      "cell_type": "markdown",
      "source": [
        "# Epoch v/s Loss Plot\n"
      ],
      "metadata": {
        "id": "vtezBAMJZvBv"
      }
    },
    {
      "cell_type": "code",
      "source": [
        "\n",
        "\n",
        "from matplotlib import pyplot as plt\n",
        "plt.plot(hist.history[\"loss\"],color = 'red', label = 'train_loss')\n",
        "#plt.plot(hist.history[\"val_loss\"],color = 'blue', label = 'val_loss')\n",
        "plt.title('Loss Visualisation')\n",
        "plt.xlabel('Epochs')\n",
        "plt.ylabel('Loss')\n",
        "plt.legend()\n",
        "plt.savefig('CNN1_Train_HASOC2019_Test_GermEval2019_TASK_A_Ger_lossPlot.pdf',dpi=1000)\n",
        "\n",
        "from google.colab import files\n",
        "files.download('CNN1_Train_HASOC2019_Test_GermEval2019_TASK_A_Ger_lossPlot.pdf') \n",
        "\n"
      ],
      "metadata": {
        "colab": {
          "base_uri": "https://localhost:8080/",
          "height": 295
        },
        "id": "3Q4VbA71ZwwS",
        "outputId": "28cb830c-2720-43dd-b662-c434feeccfda"
      },
      "execution_count": null,
      "outputs": [
        {
          "output_type": "display_data",
          "data": {
            "text/plain": [
              "<IPython.core.display.Javascript object>"
            ],
            "application/javascript": [
              "\n",
              "    async function download(id, filename, size) {\n",
              "      if (!google.colab.kernel.accessAllowed) {\n",
              "        return;\n",
              "      }\n",
              "      const div = document.createElement('div');\n",
              "      const label = document.createElement('label');\n",
              "      label.textContent = `Downloading \"${filename}\": `;\n",
              "      div.appendChild(label);\n",
              "      const progress = document.createElement('progress');\n",
              "      progress.max = size;\n",
              "      div.appendChild(progress);\n",
              "      document.body.appendChild(div);\n",
              "\n",
              "      const buffers = [];\n",
              "      let downloaded = 0;\n",
              "\n",
              "      const channel = await google.colab.kernel.comms.open(id);\n",
              "      // Send a message to notify the kernel that we're ready.\n",
              "      channel.send({})\n",
              "\n",
              "      for await (const message of channel.messages) {\n",
              "        // Send a message to notify the kernel that we're ready.\n",
              "        channel.send({})\n",
              "        if (message.buffers) {\n",
              "          for (const buffer of message.buffers) {\n",
              "            buffers.push(buffer);\n",
              "            downloaded += buffer.byteLength;\n",
              "            progress.value = downloaded;\n",
              "          }\n",
              "        }\n",
              "      }\n",
              "      const blob = new Blob(buffers, {type: 'application/binary'});\n",
              "      const a = document.createElement('a');\n",
              "      a.href = window.URL.createObjectURL(blob);\n",
              "      a.download = filename;\n",
              "      div.appendChild(a);\n",
              "      a.click();\n",
              "      div.remove();\n",
              "    }\n",
              "  "
            ]
          },
          "metadata": {}
        },
        {
          "output_type": "display_data",
          "data": {
            "text/plain": [
              "<IPython.core.display.Javascript object>"
            ],
            "application/javascript": [
              "download(\"download_d7a143b2-e175-465a-90c4-fd6bbc0d645e\", \"CNN1_Train_HASOC2019_Test_GermEval2019_TASK_A_Ger_lossPlot.pdf\", 11894)"
            ]
          },
          "metadata": {}
        },
        {
          "output_type": "display_data",
          "data": {
            "text/plain": [
              "<Figure size 432x288 with 1 Axes>"
            ],
            "image/png": "[encoded data removed]"
          },
          "metadata": {
            "needs_background": "light"
          }
        }
      ]
    },
    {
      "cell_type": "markdown",
      "source": [
        "# Epoch v/s Accuracy Plot\n"
      ],
      "metadata": {
        "id": "NEu9wKuUZ0z3"
      }
    },
    {
      "cell_type": "code",
      "source": [
        "\n",
        "\n",
        "plt.plot(hist.history[\"accuracy\"],color = 'red', label = 'train_accuracy')\n",
        "#plt.plot(hist.history[\"val_accuracy\"],color = 'blue', label = 'val_accuracy')\n",
        "plt.title('Accuracy Visualisation')\n",
        "plt.xlabel('Epochs')\n",
        "plt.ylabel('Accuracy')\n",
        "plt.legend()\n",
        "plt.savefig('CNN1_Train_HASOC2019_Test_GermEval2019_TASK_A_Ger_accuracyPlot.pdf',dpi=1000)\n",
        "files.download('CNN1_Train_HASOC2019_Test_GermEval2019_TASK_A_Ger_accuracyPlot.pdf') \n",
        "\n"
      ],
      "metadata": {
        "colab": {
          "base_uri": "https://localhost:8080/",
          "height": 295
        },
        "id": "6Ad_2uQZZyuB",
        "outputId": "2d59f7bc-755c-41fe-d849-c9c671110fff"
      },
      "execution_count": null,
      "outputs": [
        {
          "output_type": "display_data",
          "data": {
            "text/plain": [
              "<IPython.core.display.Javascript object>"
            ],
            "application/javascript": [
              "\n",
              "    async function download(id, filename, size) {\n",
              "      if (!google.colab.kernel.accessAllowed) {\n",
              "        return;\n",
              "      }\n",
              "      const div = document.createElement('div');\n",
              "      const label = document.createElement('label');\n",
              "      label.textContent = `Downloading \"${filename}\": `;\n",
              "      div.appendChild(label);\n",
              "      const progress = document.createElement('progress');\n",
              "      progress.max = size;\n",
              "      div.appendChild(progress);\n",
              "      document.body.appendChild(div);\n",
              "\n",
              "      const buffers = [];\n",
              "      let downloaded = 0;\n",
              "\n",
              "      const channel = await google.colab.kernel.comms.open(id);\n",
              "      // Send a message to notify the kernel that we're ready.\n",
              "      channel.send({})\n",
              "\n",
              "      for await (const message of channel.messages) {\n",
              "        // Send a message to notify the kernel that we're ready.\n",
              "        channel.send({})\n",
              "        if (message.buffers) {\n",
              "          for (const buffer of message.buffers) {\n",
              "            buffers.push(buffer);\n",
              "            downloaded += buffer.byteLength;\n",
              "            progress.value = downloaded;\n",
              "          }\n",
              "        }\n",
              "      }\n",
              "      const blob = new Blob(buffers, {type: 'application/binary'});\n",
              "      const a = document.createElement('a');\n",
              "      a.href = window.URL.createObjectURL(blob);\n",
              "      a.download = filename;\n",
              "      div.appendChild(a);\n",
              "      a.click();\n",
              "      div.remove();\n",
              "    }\n",
              "  "
            ]
          },
          "metadata": {}
        },
        {
          "output_type": "display_data",
          "data": {
            "text/plain": [
              "<IPython.core.display.Javascript object>"
            ],
            "application/javascript": [
              "download(\"download_f5780bbf-e6ad-4bac-9ff3-305495806d8d\", \"CNN1_Train_HASOC2019_Test_GermEval2019_TASK_A_Ger_accuracyPlot.pdf\", 12572)"
            ]
          },
          "metadata": {}
        },
        {
          "output_type": "display_data",
          "data": {
            "text/plain": [
              "<Figure size 432x288 with 1 Axes>"
            ],
            "image/png": "[encoded data removed]"
          },
          "metadata": {
            "needs_background": "light"
          }
        }
      ]
    },
    {
      "cell_type": "markdown",
      "source": [
        "# Area under Curve-ROC\n"
      ],
      "metadata": {
        "id": "ce9BJNbLZ65e"
      }
    },
    {
      "cell_type": "code",
      "source": [
        "\n",
        "\n",
        "pred_train = CNN1_network.predict(padded_clean_text_stem)\n",
        "pred_test = CNN1_network.predict(padded_clean_text_t_stem)\n",
        "\n"
      ],
      "metadata": {
        "id": "swegVICbZ5_M"
      },
      "execution_count": null,
      "outputs": []
    },
    {
      "cell_type": "code",
      "source": [
        "\n",
        "\n",
        "import numpy as np\n",
        "import matplotlib.pyplot as plt\n",
        "from itertools import cycle\n",
        "\n",
        "from sklearn import svm, datasets\n",
        "from sklearn.metrics import roc_curve, auc\n",
        "from sklearn.model_selection import train_test_split\n",
        "from sklearn.preprocessing import label_binarize\n",
        "from sklearn.multiclass import OneVsRestClassifier\n",
        "from scipy import interp\n",
        "\n",
        "def plot_AUC_ROC(y_true, y_pred):\n",
        "    n_classes = 2 #change this value according to class value\n",
        "\n",
        "    # Compute ROC curve and ROC area for each class\n",
        "    fpr = dict()\n",
        "    tpr = dict()\n",
        "    roc_auc = dict()\n",
        "    for i in range(n_classes):\n",
        "        fpr[i], tpr[i], _ = roc_curve(y_true[:, i], y_pred[:, i])\n",
        "        roc_auc[i] = auc(fpr[i], tpr[i])\n",
        "\n",
        "    # Compute micro-average ROC curve and ROC area\n",
        "    fpr[\"micro\"], tpr[\"micro\"], _ = roc_curve(y_true.ravel(), y_pred.ravel())\n",
        "    roc_auc[\"micro\"] = auc(fpr[\"micro\"], tpr[\"micro\"])\n",
        "############################################################################################\n",
        "    lw = 2\n",
        "    # Compute macro-average ROC curve and ROC area\n",
        "\n",
        "    # First aggregate all false positive rates\n",
        "    all_fpr = np.unique(np.concatenate([fpr[i] for i in range(n_classes)]))\n",
        "\n",
        "    # Then interpolate all ROC curves at this points\n",
        "    mean_tpr = np.zeros_like(all_fpr)\n",
        "    for i in range(n_classes):\n",
        "        mean_tpr += interp(all_fpr, fpr[i], tpr[i])\n",
        "\n",
        "    # Finally average it and compute AUC\n",
        "    mean_tpr /= n_classes\n",
        "\n",
        "    fpr[\"macro\"] = all_fpr\n",
        "    tpr[\"macro\"] = mean_tpr\n",
        "    roc_auc[\"macro\"] = auc(fpr[\"macro\"], tpr[\"macro\"])\n",
        "\n",
        "    # Plot all ROC curves\n",
        "    plt.figure()\n",
        "    \n",
        "    plt.plot(fpr[\"micro\"], tpr[\"micro\"],\n",
        "            label='micro-average ROC curve (area = {0:0.2f})'\n",
        "               ''.format(roc_auc[\"micro\"]),\n",
        "            color='deeppink', linestyle=':', linewidth=4)\n",
        "\n",
        "    plt.plot(fpr[\"macro\"], tpr[\"macro\"],\n",
        "            label='macro-average ROC curve (area = {0:0.2f})'\n",
        "               ''.format(roc_auc[\"macro\"]),\n",
        "            color='navy', linestyle=':', linewidth=4)\n",
        "    \n",
        "    colors = cycle(['aqua', 'darkorange'])\n",
        "    #classes_list1 = [\"DE\",\"NE\",\"DK\"]\n",
        "    classes_list1 = [\"Non-duplicate\",\"Duplicate\"]\n",
        "    for i, color,c in zip(range(n_classes), colors,classes_list1):\n",
        "        plt.plot(fpr[i], tpr[i], color=color, lw=lw,\n",
        "                label='{0} (AUC = {1:0.2f})'\n",
        "                ''.format(c, roc_auc[i]))\n",
        "\n",
        "    plt.plot([0, 1], [0, 1], 'k--', lw=lw)\n",
        "    plt.xlim([0.0, 1.0])\n",
        "    plt.ylim([0.0, 1.05])\n",
        "    plt.xlabel('False Positive Rate')\n",
        "    plt.ylabel('True Positive Rate')\n",
        "    plt.title('Receiver operating characteristic curve')\n",
        "    plt.legend(loc=\"lower right\")\n",
        "    #plt.show()\n",
        "    plt.savefig('CNN1_Train_HASOC2019_Test_GermEval2019_TASK_A_Ger_Area_RocPlot.pdf',dpi=1000)\n",
        "    files.download('CNN1_Train_HASOC2019_Test_GermEval2019_TASK_A_Ger_Area_RocPlot.pdf')\n",
        "\n",
        "  \n",
        "\n"
      ],
      "metadata": {
        "id": "0IMSFAXwZ_Va"
      },
      "execution_count": null,
      "outputs": []
    },
    {
      "cell_type": "code",
      "source": [
        "plot_AUC_ROC(label_twoDimension_t,pred_test)"
      ],
      "metadata": {
        "colab": {
          "base_uri": "https://localhost:8080/",
          "height": 312
        },
        "id": "f4qx5tmXaB0L",
        "outputId": "3b05a430-04bb-4adf-c832-76e54acb98c2"
      },
      "execution_count": null,
      "outputs": [
        {
          "output_type": "stream",
          "name": "stderr",
          "text": [
            "/usr/local/lib/python3.7/dist-packages/ipykernel_launcher.py:36: DeprecationWarning: scipy.interp is deprecated and will be removed in SciPy 2.0.0, use numpy.interp instead\n"
          ]
        },
        {
          "output_type": "display_data",
          "data": {
            "text/plain": [
              "<IPython.core.display.Javascript object>"
            ],
            "application/javascript": [
              "\n",
              "    async function download(id, filename, size) {\n",
              "      if (!google.colab.kernel.accessAllowed) {\n",
              "        return;\n",
              "      }\n",
              "      const div = document.createElement('div');\n",
              "      const label = document.createElement('label');\n",
              "      label.textContent = `Downloading \"${filename}\": `;\n",
              "      div.appendChild(label);\n",
              "      const progress = document.createElement('progress');\n",
              "      progress.max = size;\n",
              "      div.appendChild(progress);\n",
              "      document.body.appendChild(div);\n",
              "\n",
              "      const buffers = [];\n",
              "      let downloaded = 0;\n",
              "\n",
              "      const channel = await google.colab.kernel.comms.open(id);\n",
              "      // Send a message to notify the kernel that we're ready.\n",
              "      channel.send({})\n",
              "\n",
              "      for await (const message of channel.messages) {\n",
              "        // Send a message to notify the kernel that we're ready.\n",
              "        channel.send({})\n",
              "        if (message.buffers) {\n",
              "          for (const buffer of message.buffers) {\n",
              "            buffers.push(buffer);\n",
              "            downloaded += buffer.byteLength;\n",
              "            progress.value = downloaded;\n",
              "          }\n",
              "        }\n",
              "      }\n",
              "      const blob = new Blob(buffers, {type: 'application/binary'});\n",
              "      const a = document.createElement('a');\n",
              "      a.href = window.URL.createObjectURL(blob);\n",
              "      a.download = filename;\n",
              "      div.appendChild(a);\n",
              "      a.click();\n",
              "      div.remove();\n",
              "    }\n",
              "  "
            ]
          },
          "metadata": {}
        },
        {
          "output_type": "display_data",
          "data": {
            "text/plain": [
              "<IPython.core.display.Javascript object>"
            ],
            "application/javascript": [
              "download(\"download_d476b14d-b1c7-4cb7-b3fb-77f9f1f40d78\", \"CNN1_Train_HASOC2019_Test_GermEval2019_TASK_A_Ger_Area_RocPlot.pdf\", 36694)"
            ]
          },
          "metadata": {}
        },
        {
          "output_type": "display_data",
          "data": {
            "text/plain": [
              "<Figure size 432x288 with 1 Axes>"
            ],
            "image/png": "[encoded data removed]"
          },
          "metadata": {
            "needs_background": "light"
          }
        }
      ]
    }
  ]
}