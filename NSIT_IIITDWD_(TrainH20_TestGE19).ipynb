{
  "nbformat": 4,
  "nbformat_minor": 0,
  "metadata": {
    "colab": {
      "provenance": [],
      "include_colab_link": true
    },
    "kernelspec": {
      "name": "python3",
      "display_name": "Python 3"
    },
    "language_info": {
      "name": "python"
    },
    "accelerator": "GPU"
  },
  "cells": [
    {
      "cell_type": "markdown",
      "metadata": {
        "id": "view-in-github",
        "colab_type": "text"
      },
      "source": [
        "<a href=\"https://colab.research.google.com/github/DB9653/Bachelorarbeit/blob/main/NSIT_IIITDWD_(TrainH20_TestGE19).ipynb\" target=\"_parent\"><img src=\"https://colab.research.google.com/assets/colab-badge.svg\" alt=\"Open In Colab\"/></a>"
      ]
    },
    {
      "cell_type": "markdown",
      "source": [
        "Quelle: https://github.com/roushan-raj/HASOC-2020/blob/master/Models/German%20Models/German%20Sub-task%20A.ipynb\n"
      ],
      "metadata": {
        "id": "8pdYFRmoIhyM"
      }
    },
    {
      "cell_type": "code",
      "source": [
        "import tensorflow as tf\n",
        "tf.test.gpu_device_name()"
      ],
      "metadata": {
        "colab": {
          "base_uri": "https://localhost:8080/",
          "height": 35
        },
        "id": "hof4s6snVN0W",
        "outputId": "0fdf074f-0585-4992-d261-ade5c7ae6894"
      },
      "execution_count": null,
      "outputs": [
        {
          "output_type": "execute_result",
          "data": {
            "text/plain": [
              "'/device:GPU:0'"
            ],
            "application/vnd.google.colaboratory.intrinsic+json": {
              "type": "string"
            }
          },
          "metadata": {},
          "execution_count": 1
        }
      ]
    },
    {
      "cell_type": "markdown",
      "source": [
        "\n",
        "# Dataset Reading\n"
      ],
      "metadata": {
        "id": "CU0P3rpqJMHH"
      }
    },
    {
      "cell_type": "code",
      "execution_count": null,
      "metadata": {
        "colab": {
          "base_uri": "https://localhost:8080/"
        },
        "id": "UtPbRsnBIVpd",
        "outputId": "cb643362-837f-46b8-f735-0478dcb0bc5e"
      },
      "outputs": [
        {
          "output_type": "execute_result",
          "data": {
            "text/plain": [
              "              tweet_id  \\\n",
              "0  1133388798925189122   \n",
              "1  1127134592517980161   \n",
              "2  1128897106171842560   \n",
              "3  1123576753199484928   \n",
              "4  1128743783393312768   \n",
              "5  1134139256375525376   \n",
              "6  1132759271618293761   \n",
              "7  1131107693123526657   \n",
              "8  1133093570229997573   \n",
              "9  1126898700683501569   \n",
              "\n",
              "                                                                                                                                           text  \\\n",
              "0               Deutsche rothaarige porno reife deutsche frauen porno. Deutsche politessen pornos porno deutsch inzets. https://t.co/xAag87Y0Jd   \n",
              "1  RT @NDRinfo: Die deutsche Klimaaktivistin Luisa Neubauer wirft Kanzlerin Merkel wegen ihrer fehlenden Unterstützung für den europäischen Kl…   \n",
              "2                                                           @ruhrbahn jeden Morgen eine neue „Fahrzeugstörung“, ihr seid einfach nur zum Kotzen   \n",
              "3    @Junge_Freiheit Die Inkas hatten sich schon dämlich angestellt, bei den spanischen Eindringlingen, aber der Deutsche toppt dann doch alles   \n",
              "4                       RT @technosteron: leute die 'boar' schreiben lassen sich bestimmt auch von ihren analphabetischen Vater in arsch ficken   \n",
              "5                                                              ich habe mir gerade diese dorne aus meinem arsch gezogen https://t.co/x40mpKgBZN   \n",
              "6                                                                     RT @Schrammi44: Er ist einfach der GOAT @Bouncaay https://t.co/bb9b5SWaKi   \n",
              "7  KFM Deutsche Mittelstand AG: Deutscher Mittelstandsanleihen FONDS zeichnet neue Hörmann-Anleihe mit Mindest-Kupon 4… https://t.co/5HeRedf9cx   \n",
              "8                                      @mentalshards_ ich will jetzt nicht offenden oder so, ich will einfach nur, das die scheiße weniger wird   \n",
              "9                                                                                RT @SteinbachErika: Einfach skandalös! https://t.co/dC5NXFbviQ   \n",
              "\n",
              "  task1 task2                  ID  \n",
              "0   NOT  NONE  hasoc_2020_de_2684  \n",
              "1   NOT  NONE  hasoc_2020_de_1042  \n",
              "2   NOT  NONE   hasoc_2020_de_774  \n",
              "3   NOT  NONE   hasoc_2020_de_559  \n",
              "4   HOF  PRFN  hasoc_2020_de_1969  \n",
              "5   HOF  PRFN  hasoc_2020_de_2926  \n",
              "6   NOT  NONE  hasoc_2020_de_2994  \n",
              "7   NOT  NONE  hasoc_2020_de_1574  \n",
              "8   HOF  PRFN  hasoc_2020_de_1480  \n",
              "9   NOT  NONE  hasoc_2020_de_3224  "
            ],
            "text/html": [
              "\n",
              "  <div id=\"df-4dfec812-6beb-47c8-8297-5d2e31326b89\">\n",
              "    <div class=\"colab-df-container\">\n",
              "      <div>\n",
              "<style scoped>\n",
              "    .dataframe tbody tr th:only-of-type {\n",
              "        vertical-align: middle;\n",
              "    }\n",
              "\n",
              "    .dataframe tbody tr th {\n",
              "        vertical-align: top;\n",
              "    }\n",
              "\n",
              "    .dataframe thead th {\n",
              "        text-align: right;\n",
              "    }\n",
              "</style>\n",
              "<table border=\"1\" class=\"dataframe\">\n",
              "  <thead>\n",
              "    <tr style=\"text-align: right;\">\n",
              "      <th></th>\n",
              "      <th>tweet_id</th>\n",
              "      <th>text</th>\n",
              "      <th>task1</th>\n",
              "      <th>task2</th>\n",
              "      <th>ID</th>\n",
              "    </tr>\n",
              "  </thead>\n",
              "  <tbody>\n",
              "    <tr>\n",
              "      <th>0</th>\n",
              "      <td>1133388798925189122</td>\n",
              "      <td>Deutsche rothaarige porno reife deutsche frauen porno. Deutsche politessen pornos porno deutsch inzets. https://t.co/xAag87Y0Jd</td>\n",
              "      <td>NOT</td>\n",
              "      <td>NONE</td>\n",
              "      <td>hasoc_2020_de_2684</td>\n",
              "    </tr>\n",
              "    <tr>\n",
              "      <th>1</th>\n",
              "      <td>1127134592517980161</td>\n",
              "      <td>RT @NDRinfo: Die deutsche Klimaaktivistin Luisa Neubauer wirft Kanzlerin Merkel wegen ihrer fehlenden Unterstützung für den europäischen Kl…</td>\n",
              "      <td>NOT</td>\n",
              "      <td>NONE</td>\n",
              "      <td>hasoc_2020_de_1042</td>\n",
              "    </tr>\n",
              "    <tr>\n",
              "      <th>2</th>\n",
              "      <td>1128897106171842560</td>\n",
              "      <td>@ruhrbahn jeden Morgen eine neue „Fahrzeugstörung“, ihr seid einfach nur zum Kotzen</td>\n",
              "      <td>NOT</td>\n",
              "      <td>NONE</td>\n",
              "      <td>hasoc_2020_de_774</td>\n",
              "    </tr>\n",
              "    <tr>\n",
              "      <th>3</th>\n",
              "      <td>1123576753199484928</td>\n",
              "      <td>@Junge_Freiheit Die Inkas hatten sich schon dämlich angestellt, bei den spanischen Eindringlingen, aber der Deutsche toppt dann doch alles</td>\n",
              "      <td>NOT</td>\n",
              "      <td>NONE</td>\n",
              "      <td>hasoc_2020_de_559</td>\n",
              "    </tr>\n",
              "    <tr>\n",
              "      <th>4</th>\n",
              "      <td>1128743783393312768</td>\n",
              "      <td>RT @technosteron: leute die 'boar' schreiben lassen sich bestimmt auch von ihren analphabetischen Vater in arsch ficken</td>\n",
              "      <td>HOF</td>\n",
              "      <td>PRFN</td>\n",
              "      <td>hasoc_2020_de_1969</td>\n",
              "    </tr>\n",
              "    <tr>\n",
              "      <th>5</th>\n",
              "      <td>1134139256375525376</td>\n",
              "      <td>ich habe mir gerade diese dorne aus meinem arsch gezogen https://t.co/x40mpKgBZN</td>\n",
              "      <td>HOF</td>\n",
              "      <td>PRFN</td>\n",
              "      <td>hasoc_2020_de_2926</td>\n",
              "    </tr>\n",
              "    <tr>\n",
              "      <th>6</th>\n",
              "      <td>1132759271618293761</td>\n",
              "      <td>RT @Schrammi44: Er ist einfach der GOAT @Bouncaay https://t.co/bb9b5SWaKi</td>\n",
              "      <td>NOT</td>\n",
              "      <td>NONE</td>\n",
              "      <td>hasoc_2020_de_2994</td>\n",
              "    </tr>\n",
              "    <tr>\n",
              "      <th>7</th>\n",
              "      <td>1131107693123526657</td>\n",
              "      <td>KFM Deutsche Mittelstand AG: Deutscher Mittelstandsanleihen FONDS zeichnet neue Hörmann-Anleihe mit Mindest-Kupon 4… https://t.co/5HeRedf9cx</td>\n",
              "      <td>NOT</td>\n",
              "      <td>NONE</td>\n",
              "      <td>hasoc_2020_de_1574</td>\n",
              "    </tr>\n",
              "    <tr>\n",
              "      <th>8</th>\n",
              "      <td>1133093570229997573</td>\n",
              "      <td>@mentalshards_ ich will jetzt nicht offenden oder so, ich will einfach nur, das die scheiße weniger wird</td>\n",
              "      <td>HOF</td>\n",
              "      <td>PRFN</td>\n",
              "      <td>hasoc_2020_de_1480</td>\n",
              "    </tr>\n",
              "    <tr>\n",
              "      <th>9</th>\n",
              "      <td>1126898700683501569</td>\n",
              "      <td>RT @SteinbachErika: Einfach skandalös! https://t.co/dC5NXFbviQ</td>\n",
              "      <td>NOT</td>\n",
              "      <td>NONE</td>\n",
              "      <td>hasoc_2020_de_3224</td>\n",
              "    </tr>\n",
              "  </tbody>\n",
              "</table>\n",
              "</div>\n",
              "      <button class=\"colab-df-convert\" onclick=\"convertToInteractive('df-4dfec812-6beb-47c8-8297-5d2e31326b89')\"\n",
              "              title=\"Convert this dataframe to an interactive table.\"\n",
              "              style=\"display:none;\">\n",
              "        \n",
              "  <svg xmlns=\"http://www.w3.org/2000/svg\" height=\"24px\"viewBox=\"0 0 24 24\"\n",
              "       width=\"24px\">\n",
              "    <path d=\"M0 0h24v24H0V0z\" fill=\"none\"/>\n",
              "    <path d=\"M18.56 5.44l.94 2.06.94-2.06 2.06-.94-2.06-.94-.94-2.06-.94 2.06-2.06.94zm-11 1L8.5 8.5l.94-2.06 2.06-.94-2.06-.94L8.5 2.5l-.94 2.06-2.06.94zm10 10l.94 2.06.94-2.06 2.06-.94-2.06-.94-.94-2.06-.94 2.06-2.06.94z\"/><path d=\"M17.41 7.96l-1.37-1.37c-.4-.4-.92-.59-1.43-.59-.52 0-1.04.2-1.43.59L10.3 9.45l-7.72 7.72c-.78.78-.78 2.05 0 2.83L4 21.41c.39.39.9.59 1.41.59.51 0 1.02-.2 1.41-.59l7.78-7.78 2.81-2.81c.8-.78.8-2.07 0-2.86zM5.41 20L4 18.59l7.72-7.72 1.47 1.35L5.41 20z\"/>\n",
              "  </svg>\n",
              "      </button>\n",
              "      \n",
              "  <style>\n",
              "    .colab-df-container {\n",
              "      display:flex;\n",
              "      flex-wrap:wrap;\n",
              "      gap: 12px;\n",
              "    }\n",
              "\n",
              "    .colab-df-convert {\n",
              "      background-color: #E8F0FE;\n",
              "      border: none;\n",
              "      border-radius: 50%;\n",
              "      cursor: pointer;\n",
              "      display: none;\n",
              "      fill: #1967D2;\n",
              "      height: 32px;\n",
              "      padding: 0 0 0 0;\n",
              "      width: 32px;\n",
              "    }\n",
              "\n",
              "    .colab-df-convert:hover {\n",
              "      background-color: #E2EBFA;\n",
              "      box-shadow: 0px 1px 2px rgba(60, 64, 67, 0.3), 0px 1px 3px 1px rgba(60, 64, 67, 0.15);\n",
              "      fill: #174EA6;\n",
              "    }\n",
              "\n",
              "    [theme=dark] .colab-df-convert {\n",
              "      background-color: #3B4455;\n",
              "      fill: #D2E3FC;\n",
              "    }\n",
              "\n",
              "    [theme=dark] .colab-df-convert:hover {\n",
              "      background-color: #434B5C;\n",
              "      box-shadow: 0px 1px 3px 1px rgba(0, 0, 0, 0.15);\n",
              "      filter: drop-shadow(0px 1px 2px rgba(0, 0, 0, 0.3));\n",
              "      fill: #FFFFFF;\n",
              "    }\n",
              "  </style>\n",
              "\n",
              "      <script>\n",
              "        const buttonEl =\n",
              "          document.querySelector('#df-4dfec812-6beb-47c8-8297-5d2e31326b89 button.colab-df-convert');\n",
              "        buttonEl.style.display =\n",
              "          google.colab.kernel.accessAllowed ? 'block' : 'none';\n",
              "\n",
              "        async function convertToInteractive(key) {\n",
              "          const element = document.querySelector('#df-4dfec812-6beb-47c8-8297-5d2e31326b89');\n",
              "          const dataTable =\n",
              "            await google.colab.kernel.invokeFunction('convertToInteractive',\n",
              "                                                     [key], {});\n",
              "          if (!dataTable) return;\n",
              "\n",
              "          const docLinkHtml = 'Like what you see? Visit the ' +\n",
              "            '<a target=\"_blank\" href=https://colab.research.google.com/notebooks/data_table.ipynb>data table notebook</a>'\n",
              "            + ' to learn more about interactive tables.';\n",
              "          element.innerHTML = '';\n",
              "          dataTable['output_type'] = 'display_data';\n",
              "          await google.colab.output.renderOutput(dataTable, element);\n",
              "          const docLink = document.createElement('div');\n",
              "          docLink.innerHTML = docLinkHtml;\n",
              "          element.appendChild(docLink);\n",
              "        }\n",
              "      </script>\n",
              "    </div>\n",
              "  </div>\n",
              "  "
            ]
          },
          "metadata": {},
          "execution_count": 2
        }
      ],
      "source": [
        "import pandas as pd \n",
        "import csv\n",
        "data = pd.read_excel('/content/hasoc_2020_de_train_new_a.xlsx', converters={'tweet_id':int})\n",
        "pd.set_option('display.max_colwidth',150)\n",
        "data.head(10)"
      ]
    },
    {
      "cell_type": "code",
      "source": [
        "data.shape"
      ],
      "metadata": {
        "colab": {
          "base_uri": "https://localhost:8080/"
        },
        "id": "UaxJGj2BJA-_",
        "outputId": "7f9e08d1-47a4-4705-813d-47d500e8408c"
      },
      "execution_count": null,
      "outputs": [
        {
          "output_type": "execute_result",
          "data": {
            "text/plain": [
              "(2373, 5)"
            ]
          },
          "metadata": {},
          "execution_count": 3
        }
      ]
    },
    {
      "cell_type": "code",
      "source": [
        "print(data.dtypes)"
      ],
      "metadata": {
        "colab": {
          "base_uri": "https://localhost:8080/"
        },
        "id": "4F6snrckJDhs",
        "outputId": "1378e430-b039-420e-f7bb-3243198f2182"
      },
      "execution_count": null,
      "outputs": [
        {
          "output_type": "stream",
          "name": "stdout",
          "text": [
            "tweet_id     int64\n",
            "text        object\n",
            "task1       object\n",
            "task2       object\n",
            "ID          object\n",
            "dtype: object\n"
          ]
        }
      ]
    },
    {
      "cell_type": "markdown",
      "source": [
        "# Making of \"label\" Variable\n"
      ],
      "metadata": {
        "id": "kK4jE-XuJN3r"
      }
    },
    {
      "cell_type": "code",
      "source": [
        "label = data['task1']\n",
        "label.head()"
      ],
      "metadata": {
        "colab": {
          "base_uri": "https://localhost:8080/"
        },
        "id": "8UB11BsEJF-U",
        "outputId": "84105291-66a6-40d1-b2e1-8dbf8f51bcce"
      },
      "execution_count": null,
      "outputs": [
        {
          "output_type": "execute_result",
          "data": {
            "text/plain": [
              "0    NOT\n",
              "1    NOT\n",
              "2    NOT\n",
              "3    NOT\n",
              "4    HOF\n",
              "Name: task1, dtype: object"
            ]
          },
          "metadata": {},
          "execution_count": 5
        }
      ]
    },
    {
      "cell_type": "markdown",
      "source": [
        "# Checking Dataset Balancing\n"
      ],
      "metadata": {
        "id": "HM112SzAJW-z"
      }
    },
    {
      "cell_type": "code",
      "source": [
        "print(label.value_counts())\n",
        "import matplotlib.pyplot as plt\n",
        "label.value_counts().plot(kind='bar', color='blue')"
      ],
      "metadata": {
        "colab": {
          "base_uri": "https://localhost:8080/"
        },
        "id": "wxq3PRLwJVIQ",
        "outputId": "dd3c7c4d-5236-46b2-830f-6296a62b3b06"
      },
      "execution_count": null,
      "outputs": [
        {
          "output_type": "stream",
          "name": "stdout",
          "text": [
            "NOT    1700\n",
            "HOF     673\n",
            "Name: task1, dtype: int64\n"
          ]
        },
        {
          "output_type": "execute_result",
          "data": {
            "text/plain": [
              "<matplotlib.axes._subplots.AxesSubplot at 0x7f057c8b4bd0>"
            ]
          },
          "metadata": {},
          "execution_count": 6
        },
        {
          "output_type": "display_data",
          "data": {
            "text/plain": [
              "<Figure size 432x288 with 1 Axes>"
            ],
            "image/png": "[encoded data removed]"
          },
          "metadata": {
            "needs_background": "light"
          }
        }
      ]
    },
    {
      "cell_type": "markdown",
      "source": [
        "# Converting label into \"0\" or \"1\"\n"
      ],
      "metadata": {
        "id": "IiBz2hcFJdIF"
      }
    },
    {
      "cell_type": "code",
      "source": [
        "import numpy as np\n",
        "classes_list = [\"HOF\",\"NOT\"]\n",
        "label_index = data['task1'].apply(classes_list.index)\n",
        "final_label = np.asarray(label_index)\n",
        "print(final_label[:10])\n",
        "\n"
      ],
      "metadata": {
        "colab": {
          "base_uri": "https://localhost:8080/"
        },
        "id": "iaAQQh4kJZ1X",
        "outputId": "cf2ebf25-5f60-4e51-c0e1-b73ef6eb6ba3"
      },
      "execution_count": null,
      "outputs": [
        {
          "output_type": "stream",
          "name": "stdout",
          "text": [
            "[1 1 1 1 0 0 1 1 0 1]\n"
          ]
        }
      ]
    },
    {
      "cell_type": "code",
      "source": [
        "from keras.utils.np_utils import to_categorical\n",
        "label_twoDimension = to_categorical(final_label, num_classes=2)"
      ],
      "metadata": {
        "id": "DHcylJMvJhLu"
      },
      "execution_count": null,
      "outputs": []
    },
    {
      "cell_type": "code",
      "source": [
        "print(label_twoDimension[:10])"
      ],
      "metadata": {
        "colab": {
          "base_uri": "https://localhost:8080/"
        },
        "id": "1NGqjeVBJjbM",
        "outputId": "b1e768a7-dc3b-49cd-b092-4d7330b4f0e1"
      },
      "execution_count": null,
      "outputs": [
        {
          "output_type": "stream",
          "name": "stdout",
          "text": [
            "[[0. 1.]\n",
            " [0. 1.]\n",
            " [0. 1.]\n",
            " [0. 1.]\n",
            " [1. 0.]\n",
            " [1. 0.]\n",
            " [0. 1.]\n",
            " [0. 1.]\n",
            " [1. 0.]\n",
            " [0. 1.]]\n"
          ]
        }
      ]
    },
    {
      "cell_type": "markdown",
      "source": [
        "# Making of \"text\" Variable\n"
      ],
      "metadata": {
        "id": "nqRHYUSBJl0K"
      }
    },
    {
      "cell_type": "code",
      "source": [
        "text = data['text']\n",
        "text.head(10)\n",
        "\n"
      ],
      "metadata": {
        "colab": {
          "base_uri": "https://localhost:8080/"
        },
        "id": "ZZ_FmnnqJjpU",
        "outputId": "c8c0af19-c742-4a2d-88c2-f7954370e845"
      },
      "execution_count": null,
      "outputs": [
        {
          "output_type": "execute_result",
          "data": {
            "text/plain": [
              "0                 Deutsche rothaarige porno reife deutsche frauen porno. Deutsche politessen pornos porno deutsch inzets. https://t.co/xAag87Y0Jd\n",
              "1    RT @NDRinfo: Die deutsche Klimaaktivistin Luisa Neubauer wirft Kanzlerin Merkel wegen ihrer fehlenden Unterstützung für den europäischen Kl…\n",
              "2                                                             @ruhrbahn jeden Morgen eine neue „Fahrzeugstörung“, ihr seid einfach nur zum Kotzen\n",
              "3      @Junge_Freiheit Die Inkas hatten sich schon dämlich angestellt, bei den spanischen Eindringlingen, aber der Deutsche toppt dann doch alles\n",
              "4                         RT @technosteron: leute die 'boar' schreiben lassen sich bestimmt auch von ihren analphabetischen Vater in arsch ficken\n",
              "5                                                                ich habe mir gerade diese dorne aus meinem arsch gezogen https://t.co/x40mpKgBZN\n",
              "6                                                                       RT @Schrammi44: Er ist einfach der GOAT @Bouncaay https://t.co/bb9b5SWaKi\n",
              "7    KFM Deutsche Mittelstand AG: Deutscher Mittelstandsanleihen FONDS zeichnet neue Hörmann-Anleihe mit Mindest-Kupon 4… https://t.co/5HeRedf9cx\n",
              "8                                        @mentalshards_ ich will jetzt nicht offenden oder so, ich will einfach nur, das die scheiße weniger wird\n",
              "9                                                                                  RT @SteinbachErika: Einfach skandalös! https://t.co/dC5NXFbviQ\n",
              "Name: text, dtype: object"
            ]
          },
          "metadata": {},
          "execution_count": 10
        }
      ]
    },
    {
      "cell_type": "markdown",
      "source": [
        "# Dataset Pre-processing\n"
      ],
      "metadata": {
        "id": "5vgUgPviJteq"
      }
    },
    {
      "cell_type": "code",
      "source": [
        "def remove_umlaut(string):\n",
        "    \"\"\"\n",
        "    Removes umlauts from strings and replaces them with the letter+e convention\n",
        "    :param string: string to remove umlauts from\n",
        "    :return: unumlauted string\n",
        "    \"\"\"\n",
        "    u = 'ü'.encode()\n",
        "    U = 'Ü'.encode()\n",
        "    a = 'ä'.encode()\n",
        "    A = 'Ä'.encode()\n",
        "    o = 'ö'.encode()\n",
        "    O = 'Ö'.encode()\n",
        "    ss = 'ß'.encode()\n",
        "\n",
        "    string = string.encode()\n",
        "    string = string.replace(u, b'ue')\n",
        "    string = string.replace(U, b'Ue')\n",
        "    string = string.replace(a, b'ae')\n",
        "    string = string.replace(A, b'Ae')\n",
        "    string = string.replace(o, b'oe')\n",
        "    string = string.replace(O, b'Oe')\n",
        "    string = string.replace(ss, b'ss')\n",
        "\n",
        "    string = string.decode('utf-8')\n",
        "    return string"
      ],
      "metadata": {
        "id": "9YUobVifYk8-"
      },
      "execution_count": null,
      "outputs": []
    },
    {
      "cell_type": "code",
      "source": [
        "text_wo_umlauts = text.apply(lambda x:remove_umlaut(x))\n",
        "text_wo_umlauts.head(10)"
      ],
      "metadata": {
        "colab": {
          "base_uri": "https://localhost:8080/"
        },
        "id": "8YXICnyJYnp_",
        "outputId": "28142528-2fea-413d-8a1a-a4a508281b4d"
      },
      "execution_count": null,
      "outputs": [
        {
          "output_type": "execute_result",
          "data": {
            "text/plain": [
              "0                    Deutsche rothaarige porno reife deutsche frauen porno. Deutsche politessen pornos porno deutsch inzets. https://t.co/xAag87Y0Jd\n",
              "1    RT @NDRinfo: Die deutsche Klimaaktivistin Luisa Neubauer wirft Kanzlerin Merkel wegen ihrer fehlenden Unterstuetzung fuer den europaeischen Kl…\n",
              "2                                                               @ruhrbahn jeden Morgen eine neue „Fahrzeugstoerung“, ihr seid einfach nur zum Kotzen\n",
              "3        @Junge_Freiheit Die Inkas hatten sich schon daemlich angestellt, bei den spanischen Eindringlingen, aber der Deutsche toppt dann doch alles\n",
              "4                            RT @technosteron: leute die 'boar' schreiben lassen sich bestimmt auch von ihren analphabetischen Vater in arsch ficken\n",
              "5                                                                   ich habe mir gerade diese dorne aus meinem arsch gezogen https://t.co/x40mpKgBZN\n",
              "6                                                                          RT @Schrammi44: Er ist einfach der GOAT @Bouncaay https://t.co/bb9b5SWaKi\n",
              "7      KFM Deutsche Mittelstand AG: Deutscher Mittelstandsanleihen FONDS zeichnet neue Hoermann-Anleihe mit Mindest-Kupon 4… https://t.co/5HeRedf9cx\n",
              "8                                          @mentalshards_ ich will jetzt nicht offenden oder so, ich will einfach nur, das die scheisse weniger wird\n",
              "9                                                                                    RT @SteinbachErika: Einfach skandaloes! https://t.co/dC5NXFbviQ\n",
              "Name: text, dtype: object"
            ]
          },
          "metadata": {},
          "execution_count": 12
        }
      ]
    },
    {
      "cell_type": "code",
      "source": [
        "\n",
        "\n",
        "import re \n",
        "\n",
        "def text_clean(text):\n",
        "    ''' Pre process and convert texts to a list of words '''\n",
        "    \n",
        "    text=text.lower()\n",
        "\n",
        "    # Clean the text\n",
        "    text = re.sub(r\"[^A-Za-z0-9^,!.\\/'+-=]\", \" \", text)\n",
        "    text = re.sub('https?://\\S+|www\\.\\S+', \"\", text)\n",
        "    text = re.sub(r\"rt\", \" \", text)\n",
        "\n",
        "    return text\n",
        "\n"
      ],
      "metadata": {
        "id": "iP9R4lCkJrSn"
      },
      "execution_count": null,
      "outputs": []
    },
    {
      "cell_type": "code",
      "source": [
        "clean_text = text_wo_umlauts.apply(lambda x:text_clean(x))"
      ],
      "metadata": {
        "id": "btvahRPaJwkh"
      },
      "execution_count": null,
      "outputs": []
    },
    {
      "cell_type": "code",
      "source": [
        "clean_text.head(10)"
      ],
      "metadata": {
        "colab": {
          "base_uri": "https://localhost:8080/"
        },
        "id": "rVm6XFqoJyPl",
        "outputId": "0ccc4f00-f85f-48ef-929e-f5dec87a38a4"
      },
      "execution_count": null,
      "outputs": [
        {
          "output_type": "execute_result",
          "data": {
            "text/plain": [
              "0                                          deutsche rothaarige porno reife deutsche frauen porno. deutsche politessen pornos porno deutsch inzets. \n",
              "1       ndrinfo: die deutsche klimaaktivistin luisa neubauer wirft kanzlerin merkel wegen ihrer fehlenden unterstuetzung fuer den europaeischen kl \n",
              "2                                                               ruhrbahn jeden morgen eine neue  fahrzeugstoerung , ihr seid einfach nur zum kotzen\n",
              "3        junge freiheit die inkas hatten sich schon daemlich angestellt, bei den spanischen eindringlingen, aber der deutsche toppt dann doch alles\n",
              "4                               technosteron: leute die 'boar' schreiben lassen sich bestimmt auch von ihren analphabetischen vater in arsch ficken\n",
              "5                                                                                         ich habe mir gerade diese dorne aus meinem arsch gezogen \n",
              "6                                                                                                    schrammi44: er ist einfach der goat  bouncaay \n",
              "7                            kfm deutsche mittelstand ag: deutscher mittelstandsanleihen fonds zeichnet neue hoermann-anleihe mit mindest-kupon 4  \n",
              "8                                          mentalshards  ich will jetzt nicht offenden oder so, ich will einfach nur, das die scheisse weniger wird\n",
              "9                                                                                                              steinbacherika: einfach skandaloes! \n",
              "Name: text, dtype: object"
            ]
          },
          "metadata": {},
          "execution_count": 15
        }
      ]
    },
    {
      "cell_type": "markdown",
      "source": [
        "# Removing stopwords\n"
      ],
      "metadata": {
        "id": "Cr_9fbmQJ14E"
      }
    },
    {
      "cell_type": "code",
      "source": [
        "import nltk\n",
        "from nltk.corpus import stopwords\n",
        "nltk.download('stopwords')\n",
        "def stop_words_removal(text1):\n",
        "    text1=[w for w in  text1.split(\" \")  if w not in stopwords.words('german')]\n",
        "    return \" \".join(text1)"
      ],
      "metadata": {
        "colab": {
          "base_uri": "https://localhost:8080/"
        },
        "id": "fnKAVUGKJzkf",
        "outputId": "d4bec9e6-c67a-413b-958e-1ed073f554e3"
      },
      "execution_count": null,
      "outputs": [
        {
          "output_type": "stream",
          "name": "stderr",
          "text": [
            "[nltk_data] Downloading package stopwords to /root/nltk_data...\n",
            "[nltk_data]   Unzipping corpora/stopwords.zip.\n"
          ]
        }
      ]
    },
    {
      "cell_type": "code",
      "source": [
        "clean_text_ns=clean_text.apply(lambda x: stop_words_removal(x))"
      ],
      "metadata": {
        "id": "EAe2hR7jJ5R8"
      },
      "execution_count": null,
      "outputs": []
    },
    {
      "cell_type": "code",
      "source": [
        "print(clean_text_ns.head(10))"
      ],
      "metadata": {
        "colab": {
          "base_uri": "https://localhost:8080/"
        },
        "id": "hMapIVGXJ7Cf",
        "outputId": "868e5eec-822a-4ccf-df3b-5d2b14611233"
      },
      "execution_count": null,
      "outputs": [
        {
          "output_type": "stream",
          "name": "stdout",
          "text": [
            "0                            deutsche rothaarige porno reife deutsche frauen porno. deutsche politessen pornos porno deutsch inzets. \n",
            "1       ndrinfo: deutsche klimaaktivistin luisa neubauer wirft kanzlerin merkel wegen fehlenden unterstuetzung fuer europaeischen kl \n",
            "2                                                                        ruhrbahn morgen neue  fahrzeugstoerung , seid einfach kotzen\n",
            "3                                           junge freiheit inkas schon daemlich angestellt, spanischen eindringlingen, deutsche toppt\n",
            "4                                            technosteron: leute 'boar' schreiben lassen bestimmt analphabetischen vater arsch ficken\n",
            "5                                                                                                         gerade dorne arsch gezogen \n",
            "6                                                                                                 schrammi44: einfach goat  bouncaay \n",
            "7                  kfm deutsche mittelstand ag: deutscher mittelstandsanleihen fonds zeichnet neue hoermann-anleihe mindest-kupon 4  \n",
            "8                                                                            mentalshards  offenden so, einfach nur, scheisse weniger\n",
            "9                                                                                                steinbacherika: einfach skandaloes! \n",
            "Name: text, dtype: object\n"
          ]
        }
      ]
    },
    {
      "cell_type": "markdown",
      "source": [
        "# Stemming"
      ],
      "metadata": {
        "id": "cGRUIHNgKB8P"
      }
    },
    {
      "cell_type": "code",
      "source": [
        "\n",
        "\n",
        "# Stemming\n",
        "from nltk.stem import SnowballStemmer \n",
        "stemmer = SnowballStemmer(\"german\")\n",
        "\n",
        "def word_stemmer(text):\n",
        "    stem_text = \"\".join([stemmer.stem(i) for i in text])\n",
        "    return stem_text\n",
        "\n"
      ],
      "metadata": {
        "id": "xzacVq1jJ8ru"
      },
      "execution_count": null,
      "outputs": []
    },
    {
      "cell_type": "code",
      "source": [
        "clean_text_stem = clean_text_ns.apply(lambda x : word_stemmer(x))"
      ],
      "metadata": {
        "id": "gLvtC-DlKFJ3"
      },
      "execution_count": null,
      "outputs": []
    },
    {
      "cell_type": "code",
      "source": [
        "print(clean_text_stem.head())"
      ],
      "metadata": {
        "colab": {
          "base_uri": "https://localhost:8080/"
        },
        "id": "hLTYkzd6KGpw",
        "outputId": "944b8ddb-cdbc-4261-b02a-8237db3bbbbc"
      },
      "execution_count": null,
      "outputs": [
        {
          "output_type": "stream",
          "name": "stdout",
          "text": [
            "0                            deutsche rothaarige porno reife deutsche frauen porno. deutsche politessen pornos porno deutsch inzets. \n",
            "1       ndrinfo: deutsche klimaaktivistin luisa neubauer wirft kanzlerin merkel wegen fehlenden unterstuetzung fuer europaeischen kl \n",
            "2                                                                        ruhrbahn morgen neue  fahrzeugstoerung , seid einfach kotzen\n",
            "3                                           junge freiheit inkas schon daemlich angestellt, spanischen eindringlingen, deutsche toppt\n",
            "4                                            technosteron: leute 'boar' schreiben lassen bestimmt analphabetischen vater arsch ficken\n",
            "Name: text, dtype: object\n"
          ]
        }
      ]
    },
    {
      "cell_type": "markdown",
      "source": [
        "# Tokenization using \"keras\"\n"
      ],
      "metadata": {
        "id": "aqZfKW9_KId4"
      }
    },
    {
      "cell_type": "code",
      "source": [
        "import keras\n",
        "import tensorflow\n",
        "from keras.preprocessing.text import Tokenizer\n",
        "tok_all = Tokenizer(filters='!\"#$%&\\'()*+,-./:;<=>?@[\\\\]^_`{|}~', lower=True, char_level = False)\n",
        "tok_all.fit_on_texts(clean_text_stem)"
      ],
      "metadata": {
        "id": "64oQb-b9KL7d"
      },
      "execution_count": null,
      "outputs": []
    },
    {
      "cell_type": "markdown",
      "source": [
        "# Making Vocab for words\n"
      ],
      "metadata": {
        "id": "Azliz45-KOH2"
      }
    },
    {
      "cell_type": "code",
      "source": [
        "vocabulary_all = len(tok_all.word_counts)\n",
        "print(vocabulary_all)"
      ],
      "metadata": {
        "colab": {
          "base_uri": "https://localhost:8080/"
        },
        "id": "kjRctAdKKNqA",
        "outputId": "afa14078-12cf-452a-cf96-da9d5343a408"
      },
      "execution_count": null,
      "outputs": [
        {
          "output_type": "stream",
          "name": "stdout",
          "text": [
            "8866\n"
          ]
        }
      ]
    },
    {
      "cell_type": "code",
      "source": [
        "\n",
        "\n",
        "l = tok_all.word_index\n",
        "print(l)\n",
        "\n"
      ],
      "metadata": {
        "colab": {
          "base_uri": "https://localhost:8080/"
        },
        "id": "ruZahltoKSBk",
        "outputId": "223ced3b-eca4-49ea-c2db-529a9f490540"
      },
      "execution_count": null,
      "outputs": [
        {
          "output_type": "stream",
          "name": "stdout",
          "text": [
            "{'einfach': 1, 'deutsche': 2, 'arsch': 3, 'merkel': 4, 'schon': 5, 'fuer': 6, 'gt': 7, 'mal': 8, 'gruenen': 9, 'scheiss': 10, 'nazis': 11, 'dumm': 12, 'frauen': 13, 'halt': 14, 'ab': 15, 'porno': 16, 'welt': 17, 'linken': 18, 'mehr': 19, 'tagesschau': 20, 'hurensohn': 21, 'ja': 22, 'zurueck': 23, 'echt': 24, 'gibt': 25, 'gratis': 26, 'gruene': 27, 'scheisse': 28, 'islam': 29, 'deutschland': 30, 'immer': 31, 'e': 32, 'frau': 33, 'politiker': 34, 'hoe': 35, 'linke': 36, 'pack': 37, 's': 38, 'warum': 39, 'kopf': 40, 'erst': 41, 'eigentlich': 42, 'leute': 43, 'fresse': 44, 'stimmt': 45, 'ueber': 46, 'idioten': 47, '2': 48, 'dumme': 49, 'n': 50, 'afd': 51, 'zdfheute': 52, 'macht': 53, 'waere': 54, 'en': 55, '1': 56, 'd': 57, 'kinder': 58, 'kotzen': 59, 'europa': 60, 'nazi': 61, 'nicht': 62, 'moechte': 63, 'deutschen': 64, 'deutsch': 65, 'lassen': 66, 'politik': 67, 'pa': 68, 'i': 69, 'wuerde': 70, 'ma': 71, 'raus': 72, 'koennte': 73, 'ist': 74, 'zeit': 75, 'geld': 76, 'schulz': 77, 'merkels': 78, 'a': 79, 'neue': 80, 'so': 81, 'zdf': 82, 'gabriel': 83, 'geiler': 84, 'heute': 85, 'sitzen': 86, 'besser': 87, 'pornos': 88, 'ficken': 89, 'seit': 90, 'eher': 91, 'is': 92, 'bekommen': 93, 'medien': 94, 'koennen': 95, 'voll': 96, 'zeigt': 97, 'ne': 98, 'geht': 99, '3': 100, 'u': 101, 'ei': 102, 'wer': 103, 'maas': 104, 'via': 105, 'bild': 106, 'hitler': 107, 'sehen': 108, 'ganze': 109, 'heikomaas': 110, 'leben': 111, 'lange': 112, 'gesicht': 113, 'cdu': 114, 'eu': 115, 'moslems': 116, 'geile': 117, 'kommen': 118, 'wand': 119, 'junge': 120, 'de': 121, 'haette': 122, 'spiegelonline': 123, 'kopftuch': 124, 'land': 125, 'ich': 126, 'ha': 127, 'o': 128, 'nie': 129, 'eien': 130, 'gehoe': 131, 'gehirn': 132, 'h': 133, 'ahnung': 134, 'sagen': 135, 'k': 136, 'typ': 137, 'sawsanchebli': 138, 'hirn': 139, 'willkommen': 140, 'zeitonline': 141, 'sind': 142, '2019': 143, 'zusammen': 144, 'lass': 145, 'kurz': 146, 'gruen': 147, 'genau': 148, 'auf': 149, 'maul': 150, 'gerade': 151, 'ach': 152, 'werden': 153, 'mutter': 154, 'video': 155, 'ganzen': 156, 'luegen': 157, 'sorry': 158, 'menschen': 159, 'hasse': 160, 'ueberhaupt': 161, 'weiss': 162, 'deren': 163, 'bald': 164, 'kommt': 165, 'kleine': 166, 'volk': 167, 'genug': 168, 'harvard': 169, 'sexy': 170, '05': 171, 'an': 172, 'glaube': 173, 'europawahl2019': 174, 'trump': 175, 'drdavidberger': 176, 'haben': 177, 'frueher': 178, 'f': 179, 'rot': 180, 'sieht': 181, 'gesagt': 182, 'news': 183, 'sofo': 184, 'sein': 185, 'bitte': 186, 'abschaum': 187, 'deutscher': 188, 'meisten': 189, 'eh': 190, 'weg': 191, 've': 192, 'regierung': 193, 'das': 194, 'muessen': 195, 'paar': 196, 'wa': 197, 'et': 198, 'hat': 199, 'angela': 200, 't': 201, 'wirklich': 202, 'wegen': 203, 'sau': 204, 'es': 205, 'w': 206, '18': 207, 'seehofer': 208, 'schwanz': 209, 'tritt': 210, 'schlimmer': 211, 'usa': 212, 'videos': 213, 'gerne': 214, 'denkt': 215, 'v': 216, 'viele': 217, 'dummheit': 218, 'essen': 219, 'b': 220, 'mittlerweile': 221, 'sta': 222, 'amp': 223, 'kostenlose': 224, 'fick': 225, 'helllud123': 226, 'seid': 227, 'nur': 228, 'egal': 229, 'gar': 230, 'journalisten': 231, 'ddr': 232, 'niemand': 233, 'antifa': 234, 'stegner': 235, 'bundeskanzlerin': 236, 'krippmarie': 237, 'ein': 238, 'm': 239, 'hey': 240, 'tuerken': 241, 'waehler': 242, 'spass': 243, 'arschloch': 244, 'dummes': 245, 'waehlt': 246, 'verdammt': 247, 'fette': 248, '5': 249, 'strache': 250, 'spd': 251, 'erwa': 252, 'sollen': 253, 'tuerkei': 254, 'jouwatch': 255, 'porn': 256, 'brauchen': 257, 'schwarz': 258, 'denen': 259, 'neuen': 260, 'ka': 261, 'mann': 262, 'dicke': 263, 'sex': 264, 'sagt': 265, 'wohl': 266, 'kind': 267, '4': 268, 'free': 269, 'retten': 270, 'opfer': 271, 'darf': 272, 'system': 273, 'dafuer': 274, 'groessten': 275, 'ralf': 276, 'ekelhaft': 277, 'stehen': 278, '50': 279, 'ig': 280, 'dummen': 281, 'rechte': 282, 'sehe': 283, 'geilen': 284, 'habt': 285, 'probleme': 286, 'reicht': 287, 'do': 288, 'https': 289, '7': 290, 'duemmer': 291, 'los': 292, 'krieg': 293, 'heisst': 294, 'sirschnee': 295, 'auch': 296, 'du': 297, 'gauland': 298, 'lawyerberlin': 299, 'buerger': 300, 'china': 301, 'hass': 302, 'ende': 303, 'waehlen': 304, 'roth': 305, 'bestimmt': 306, 'genauso': 307, 'kaum': 308, 'wird': 309, 'fluechtlinge': 310, 'richtig': 311, 'fucking': 312, 'we': 313, 'sch': 314, 'akk': 315, 'lauterbach': 316, 'wollen': 317, 'schande': 318, 'gehoeren': 319, 'islamisten': 320, 'damals': 321, 'g': 322, 'haut': 323, 'bloed': 324, 'die': 325, 'machen': 326, 'sowas': 327, 'wieso': 328, 'gemacht': 329, 'ruecken': 330, 'janboehm': 331, 'aus': 332, 'wahl': 333, 'tragen': 334, 'da': 335, 'schauen': 336, 'faschisten': 337, 'naja': 338, 'geil': 339, 'l': 340, 'gewaehlt': 341, 'muell': 342, 'nen': 343, 'berliner': 344, 'x': 345, 'deutsch365': 346, '12': 347, 'hetze': 348, 'net': 349, 'anal': 350, 'ganz': 351, 'reife': 352, 'steinbacherika': 353, '0': 354, 'z': 355, 'fickt': 356, 'hoffentlich': 357, 'verschwinden': 358, 'dreck': 359, 'religion': 360, 'verkaufen': 361, 'grund': 362, 'ragen': 363, '14': 364, 'entsorgt': 365, 'kriegen': 366, 'hilfe': 367, 'j': 368, 'chef': 369, 'klimaschutz': 370, 'schafft': 371, 'langsam': 372, 'rezo': 373, 'nichts': 374, 'irgendwie': 375, 'co': 376, 'endlich': 377, 'zerstoe': 378, 'nehmen': 379, 'kostenlos': 380, 'schlampe': 381, 'rezomusik': 382, 'roten': 383, 'nix': 384, 'nein': 385, 'voellig': 386, 'jungen': 387, 'gefickt': 388, 'gewalt': 389, 'jemand': 390, 'oeffentlich': 391, 'stock': 392, 'verusoss1': 393, 'wieder': 394, 'erdogan': 395, 'single': 396, 'hunde': 397, 'heiko': 398, 'braucht': 399, 'zukunft': 400, 'nackte': 401, 'spo': 402, 'richtige': 403, 'europawahl': 404, 'barley': 405, 'mega': 406, 'job': 407, 'heuchler': 408, 'arbeiten': 409, 'sag': 410, 'au': 411, 'mir': 412, 'berlin': 413, 'rede': 414, 'bist': 415, 'tage': 416, 'sesso': 417, 'claudia': 418, 'the': 419, 'daemlich': 420, 'ag': 421, 'r': 422, 'maxotte': 423, 'says': 424, '13': 425, 'ueberall': 426, 'horst': 427, 'weber': 428, 'top': 429, '000': 430, 'koennt': 431, 'burger': 432, 'redet': 433, 'lieben': 434, 'eltern': 435, 'alkohol': 436, 'stadt': 437, 'leuten': 438, 'absolut': 439, 'weltnews': 440, 'un': 441, 'direkt': 442, 'hd': 443, 'kirche': 444, 'karl': 445, 'noch': 446, 'kuehne': 447, 'verbrecher': 448, 'ausser': 449, '6': 450, 'sie': 451, 'muesste': 452, 'denken': 453, 'beim': 454, 'vergewaltigt': 455, 'wi': 456, 'zu': 457, 'haarige': 458, 'aufklaerer2017': 459, 'lecken': 460, 'generation': 461, 'nimmt': 462, 'kueche': 463, 'hoch': 464, 'regsprecher': 465, 'wuerden': 466, 'ung': 467, 'abschieben': 468, 'eier': 469, 'komm': 470, 'geh': 471, 'politische': 472, 'fordern': 473, 'hose': 474, 'bezeichnen': 475, 'wuensche': 476, 'auslaender': 477, 'meinung': 478, 'retweet': 479, 'maenner': 480, 'alles': 481, 'jahren': 482, 'ca': 483, 'bruder': 484, 'auto': 485, '99': 486, 'wissenschaftler': 487, 'erste': 488, 'ard': 489, 'stars': 490, 'pille': 491, 'hassen': 492, 'maltekaufmann': 493, 'leise': 494, 'fckafd': 495, 'zieh': 496, 'alte': 497, 'oma': 498, 'sed': 499, 'schulen': 500, 'ueberfluessig': 501, 'weissen': 502, 'waehrend': 503, 'gross': 504, 'duerfen': 505, 'aufgewachtewelt': 506, 'schoen': 507, 'gehen': 508, 'pinkcrazypony': 509, 'holt': 510, 'altpa': 511, 'willst': 512, 'mathe': 513, 'sachen': 514, 'will': 515, 'holen': 516, 'frage': 517, 'max': 518, 'holgerewald1': 519, 'drauf': 520, 'protest': 521, 'telekom': 522, 'kanzlerin': 523, 'schreiben': 524, 'doch': 525, 'werbung': 526, 'peinlich': 527, 'xxx': 528, 'extrem': 529, 'hbf': 530, '15': 531, '24': 532, 'kriminellen': 533, 'monaten': 534, 'deutschlands': 535, 'folgen': 536, 'unterwegs': 537, 'stelle': 538, 'for': 539, 'rechten': 540, 'st': 541, 'bezahlt': 542, 'fe': 543, 'kultur': 544, 'heulen': 545, 'widerliches': 546, 'geben': 547, 'vorstellen': 548, 'unfassbar': 549, 'schickt': 550, 'alicewo18626168': 551, 'kennst': 552, 'neueste': 553, '1933': 554, 'super': 555, 'spinner': 556, 'kleinen': 557, 'schade': 558, 'rest': 559, 'daniel': 560, 'lang': 561, 'lasst': 562, 'doktorarbeit': 563, 'weit': 564, 'was': 565, 'that': 566, 'jugend': 567, 'oesterreich': 568, 'forde': 569, 'tun': 570, 'und': 571, 'milf': 572, 'boserer': 573, 'prozent': 574, 'hure': 575, 'chris': 576, 'erklae': 577, 'ff': 578, 'spiegel': 579, 'el': 580, 'c': 581, 'groesste': 582, 'schwarze': 583, 'anleitung': 584, 'islamisierung': 585, 'labern': 586, '33': 587, '40': 588, 'mund': 589, 'herr': 590, 'schwule': 591, 'meuthen': 592, 'haelt': 593, 'verantwo': 594, 'braun': 595, 'di': 596, 'y': 597, 'arme': 598, 'stueck': 599, 'veru': 600, 'kriminelle': 601, 'ziemlich': 602, 'germany': 603, 'haha': 604, 'brief': 605, 'fachkraefte': 606, 'nich': 607, 'gekommen': 608, 'passie': 609, 'hund': 610, 'stuerzen': 611, 'jahre': 612, 'porsche': 613, 'grade': 614, 'danach': 615, 'fragt': 616, 'vor': 617, 'alter': 618, 'kanacke': 619, 'alle': 620, 'vergessen': 621, 'lebt': 622, 'lobbyisten': 623, 'meldet': 624, 'rassist': 625, 'hauptsache': 626, 'aufs': 627, 'wirkt': 628, 'nehm': 629, 'sixtus': 630, 'up': 631, 'wtf': 632, 'bringt': 633, 'ideen': 634, 'rock': 635, 'natuerlich': 636, 'sack': 637, 'co2': 638, 'steuer': 639, 'montanablack': 640, 'tradesfeed': 641, 'aktivisten': 642, 'uns': 643, 'schlauer': 644, 'gab': 645, 'frank': 646, 'usw': 647, 'eigenes': 648, 'komplett': 649, 'sebastian': 650, 'glauben': 651, 'oh': 652, 'boah': 653, 'zitat': 654, 'fuers': 655, 'verbreitet': 656, 'hier': 657, 'hh': 658, 'soll': 659, 'halten': 660, 'nem': 661, 'kennt': 662, 'verbietet': 663, 'krank': 664, 'staatsfunk': 665, 'sowieso': 666, 'lernen': 667, 'xd': 668, 'compactmagazin': 669, 'ideologie': 670, 'findet': 671, 'kriegst': 672, 'ficke': 673, 'dabei': 674, 'he': 675, 'muschi': 676, 'habeck': 677, 'wolf': 678, 'halts': 679, 'at': 680, 'waeren': 681, 'links': 682, 'bahn': 683, 'haltet': 684, 'war': 685, 'logik': 686, 'liebst': 687, 'db': 688, 'fpoe': 689, 'sei': 690, 'eindruck': 691, 'gib': 692, 'hoer': 693, 'dr': 694, 'wusste': 695, 'zwei': 696, 'rein': 697, 'europaeischen': 698, 'freiheit': 699, 'lesben': 700, 'musst': 701, 'handeln': 702, 'al': 703, 'heuteshow': 704, 'beiden': 705, 'us': 706, 'mdchen': 707, 'momentan': 708, 'ausfall': 709, 'grad': 710, 'dreckiger': 711, 'waer': 712, 'schlagabtausch': 713, 'clans': 714, 'kampf': 715, '10': 716, 'vo': 717, 'toptomch': 718, 'jan': 719, 'wir': 720, 'rum': 721, 'interessie': 722, 'skandal': 723, 'euro': 724, 'politischen': 725, 'freund': 726, 'laecheln': 727, 'schlampen': 728, 'sich': 729, 'verlogene': 730, '11': 731, 'bernd471': 732, 'fast': 733, 'sitzt': 734, 'herrn': 735, 'pass': 736, 'macron': 737, 'wunder': 738, 'verloren': 739, 'gaebe': 740, 'familien': 741, 'herz': 742, 'klima': 743, '2018': 744, 'stoppt': 745, 'rapper': 746, 'merken': 747, 'total': 748, 'fakt': 749, 'komisch': 750, 'jetzt': 751, 'cha': 752, 'tages': 753, 're': 754, 'schmid': 755, 'blond': 756, 'doof': 757, 'waren': 758, 'samsung': 759, 'filter': 760, '31': 761, '17': 762, 'sven': 763, 'giegold': 764, 'hoelle': 765, 'bock': 766, 'muschis': 767, 'clip': 768, 'legt': 769, 'euwahl19': 770, 'zeigen': 771, 'tweets': 772, 'asylanten': 773, 'behinde': 774, 'just': 775, 'andreasstraub': 776, '34': 777, 'stuttga': 778, '19': 779, 'faeh': 780, 'bleibt': 781, '90': 782, 'bereits': 783, 'man': 784, 'csu': 785, 'kann': 786, 'europaeische': 787, '8': 788, 'tu': 789, 'arbeitsplatz': 790, 'lebensformation': 791, 'soviel': 792, 'laber': 793, 'eilt': 794, 'idee': 795, 'halte': 796, 'rechtlichen': 797, 'ganzes': 798, 'gamerbr0ski': 799, 'kappa': 800, 'miriamozen': 801, 'eingeschaetzt': 802, '20': 803, 'kevin': 804, 'omas': 805, 'rechts': 806, 'tagen': 807, 'mariomayl': 808, 'muslimische': 809, 'donald': 810, 'englisch': 811, 'hadmut': 812, 'exgruene': 813, 'enteignen': 814, 'palmer': 815, 'zwickau': 816, 'verjagten': 817, 'adolf': 818, 'imam': 819, 'folgendes': 820, 'gluecklich': 821, 'sterben': 822, 'finden': 823, 'nic': 824, 'fern': 825, 'brd': 826, 'hauen': 827, 'buntland': 828, 'weige': 829, 'unterstuetzen': 830, 'tyske': 831, 'rauchen': 832, 'ex': 833, 'emma': 834, 'terror': 835, 'eigene': 836, 'tschemal': 837, 'brutal': 838, 'versohlen': 839, 'minute': 840, 'game': 841, 'plauen': 842, 'gleichberechtigung': 843, 'fuck': 844, 'fuern': 845, 'traegt': 846, 'gehtwaehlen': 847, 'brandenburg': 848, 'sir': 849, 'schnee': 850, 'fuehrer': 851, 'ungebeten1': 852, 'duerre': 853, 'blasen': 854, 'led': 855, 'eur': 856, 'fett': 857, 'weiber': 858, 'shoutoutxobella': 859, 'minuten': 860, 'demokratie': 861, 'loch': 862, 'p': 863, 'sprechen': 864, 'nahles': 865, 'krahmax': 866, 'post': 867, 'download': 868, 'yooli': 869, 'derechte': 870, 'klar': 871, 'passt': 872, 'juden': 873, 'moegen': 874, 'verdienen': 875, 'nazisraus': 876, 'merkt': 877, 'brandt': 878, 'fridaysforfuture': 879, 'solch': 880, 'seh': 881, 'relotiuspresse': 882, 'kosummoralisten': 883, 'batu': 884, '0699': 885, 'eben': 886, 'widerspruch': 887, 'eigenen': 888, 'herren': 889, 'letzte': 890, 'thomas': 891, 'bareiss': 892, 'mensch': 893, 'fressen': 894, 'totale': 895, 'dasperfektedinner': 896, 'nice': 897, 'alicologne': 898, 'oezdemir': 899, 'praesidenten': 900, 'fehlt': 901, 'amt': 902, 'muesse': 903, 'dieserbutzi': 904, 'gb': 905, 'diepa': 906, 'sicher': 907, 'mia': 908, 'haessliche': 909, 'grundeis': 910, 'salvini': 911, 'andreaschlegel3': 912, 'eig': 913, 'her': 914, 'tatsaechlich': 915, 'platz': 916, 'gesehen': 917, 'versteht': 918, 'niemals': 919, 'bus': 920, 'ige': 921, 'mrsl0nelyy': 922, 'gelb': 923, 'fo': 924, 'http': 925, 'hallaschka': 926, 'bloedsinn': 927, 'strafe': 928, 'schaffen': 929, 'muesst': 930, 'zeichnen': 931, 'schicken': 932, 'oesterreichs': 933, 'angola': 934, 'gntmfinale': 935, 'kommentar': 936, 'opfa': 937, 'falls': 938, 'suesse': 939, 'your': 940, 'mature': 941, 'trinken': 942, 'lachen': 943, 'zucker': 944, 'aktie': 945, 'kid': 946, 'sagte': 947, 'per': 948, 'wokeup777': 949, 'fotze': 950, 'besonders': 951, 'fcbayern': 952, 'ziehen': 953, 'freunde': 954, 'problem': 955, 'hilft': 956, 'raeaeaechds': 957, 'dfacheck': 958, 'all': 959, 'interview': 960, 'huawei': 961, 'wurden': 962, 'bhvr': 963, 'hochheimer': 964, 'kaese': 965, 'sohn': 966, 'alt': 967, 'privat': 968, 'fr': 969, 'cute': 970, 'me': 971, 'stadtraetin': 972, 'eilter': 973, 'reden': 974, 'zerstoeren': 975, 'ehrendoktorwuerde': 976, 'haus': 977, 'schei': 978, 'schreibt': 979, 'polizei': 980, 'sauber': 981, 'ntvde': 982, 'titten': 983, 'insonneborn': 984, 'niveau': 985, 'selten': 986, 'amis': 987, 'gutmenschen': 988, 'html': 989, 'donalphonso': 990, 'bzw': 991, 'augen': 992, 'ichbinkoelnerin': 993, 'stellen': 994, 'geschrieben': 995, 'sueszling': 996, 'schieben': 997, 'wahlplakate': 998, 'grunde': 999, 'verkauft': 1000, 'reiss': 1001, 'puppe': 1002, 'also': 1003, 'veranstaltung': 1004, 'lieb': 1005, 'bekomme': 1006, 'konze': 1007, 'bilder': 1008, 'ey': 1009, 'blowjob': 1010, 'oft': 1011, 'hallo': 1012, 'polizeisachsen': 1013, 'lady': 1014, 'na': 1015, 'bayern': 1016, 'aber': 1017, 'federer': 1018, 'bremen': 1019, 'pro': 1020, 'boden': 1021, 'presse': 1022, 'on': 1023, 'hoffe': 1024, 'vfb': 1025, 'pepper46477330': 1026, 'natur': 1027, 'dd': 1028, 'muslime': 1029, 'gef': 1030, 'trend': 1031, 'cambridge': 1032, 'bullshit': 1033, 'hast': 1034, 'moralisch': 1035, 'npd': 1036, 'seo': 1037, 'schweine': 1038, 'zerstoerung': 1039, 'darauf': 1040, 'teutonia': 1041, 'fleabag': 1042, 'wirft': 1043, 'fahrzeugstoerung': 1044, 'vater': 1045, 'gezogen': 1046, 'zeichnet': 1047, 'weniger': 1048, 'apple': 1049, 'unnoetig': 1050, 'media': 1051, 'florianfoli': 1052, 'verdient': 1053, 'ok': 1054, 'wuppe': 1055, 'gerufen': 1056, 'fluechtlingen': 1057, 'desnudas': 1058, 'canal': 1059, 'friedens': 1060, 'fisten': 1061, 'nichtmal': 1062, 'waehlern': 1063, 'blues': 1064, 'twitterde': 1065, 'anscheinend': 1066, 'haufen': 1067, 'rastadler': 1068, 'erbaermlich': 1069, 'wisse': 1070, 'diesel': 1071, 'stuerzt': 1072, 'auslaendische': 1073, 'feie': 1074, '87': 1075, 'vollzeitjonas': 1076, 'publikum': 1077, 'kuendigt': 1078, 'domi': 1079, 'twr': 1080, 'richtiges': 1081, 'aufruf': 1082, 'echten': 1083, 'go73729092': 1084, 'privaten': 1085, 'jesus': 1086, 'namens': 1087, 'ale': 1088, 'gg': 1089, 'bb12': 1090, 'kunkelmuhme': 1091, 'schlaege': 1092, 'dinger': 1093, 'hasserfuellte': 1094, 'betruegen': 1095, 'arroganz': 1096, 'habe': 1097, 'kenn': 1098, 'pls': 1099, 'rolandtichy': 1100, 'wetter': 1101, 'huebsche': 1102, 'neben': 1103, 'eil': 1104, 'stargamestv69': 1105, 'tim0cy': 1106, 'heissen': 1107, 'sucht': 1108, 'anna': 1109, 'za': 1110, 'te': 1111, 'sodass': 1112, 'si': 1113, 'benutze': 1114, 'spdberlin': 1115, 'gabischoff': 1116, 'rainerwinklerde': 1117, 'fliegt': 1118, 'illegale': 1119, 'hurensohne': 1120, 'vonschwer': 1121, 'politikern': 1122, 'tukyabitch': 1123, 'reist': 1124, 'bisschen': 1125, 'geboren': 1126, 'betrunken': 1127, 'kern': 1128, 'paedo': 1129, 'sekte': 1130, 'geschmeiss': 1131, 'pompeo': 1132, 'koelner': 1133, 'untaetigkeit': 1134, 'nudes': 1135, 'adidas': 1136, 'rorsted': 1137, 'rechnet': 1138, 'europaeer': 1139, 'vasallen': 1140, 'tatsache': 1141, 'abgelenkt': 1142, 'sad': 1143, 'achja': 1144, 'alphonso': 1145, 'brechen': 1146, 'klimaneutralitaet': 1147, '2050': 1148, 'arminwolf': 1149, 'bester': 1150, 'bazi': 1151, 'milliarden': 1152, 'hoshimusikdesign': 1153, 'soundcloud': 1154, 'np': 1155, '30': 1156, 'spritzen': 1157, 'brauchts': 1158, 'redaktion': 1159, 'bodoramelow': 1160, 'chauvinistischen': 1161, 'familie': 1162, 'scheinbar': 1163, 'erreicht': 1164, 'den': 1165, 'telford': 1166, 'tigers': 1167, 'ricarda': 1168, 'schuld': 1169, 'rechtsruck': 1170, 'schautnichtweg': 1171, 'taugt': 1172, 'fest': 1173, 'jugendzimmer': 1174, 'morreu': 1175, 'wahlen': 1176, 'ro': 1177, 'freiheizstatue': 1178, 'achimspiegel': 1179, 'tausende': 1180, 'beduerftige': 1181, 'doktor': 1182, 'vallah': 1183, 'leckst': 1184, 'teufel': 1185, 'erfahren': 1186, 'rettet': 1187, 'deutschrap': 1188, 'moza': 1189, 'wussten': 1190, 'woe': 1191, 'ern': 1192, 'ausgeliefe': 1193, 'punkt': 1194, 'betrogen': 1195, 'hi': 1196, 'sonjadelarosa7': 1197, 'grillkohle': 1198, 'steak': 1199, 'lacht': 1200, 'real': 1201, 'austauschschueler': 1202, 'aufnehmen': 1203, 'gestern': 1204, 'pkk': 1205, 'afdberlin': 1206, 'nurnoch': 1207, 'zimmer': 1208, 'gramm': 1209, 'sebastianhampel': 1210, 'rap': 1211, 'wenn': 1212, 'claudio': 1213, 'tatenlos': 1214, 'fun': 1215, 'blaue': 1216, 'haare': 1217, 'com': 1218, 'fetisch': 1219, 'premium': 1220, 'gewesen': 1221, '16': 1222, '29': 1223, 'teilausfall': 1224, 'hurensoehne': 1225, 'gay': 1226, 'ass': 1227, 'fisting': 1228, 'konservativer': 1229, 'versagen': 1230, 'naked': 1231, 'behaa': 1232, 'teppich': 1233, 'verwoehnen': 1234, 'narrhallamarsch': 1235, 'abo': 1236, 'ausschlag': 1237, 'gewaltig': 1238, 'freie': 1239, 'linksextremisten': 1240, 'gefallen': 1241, 'aka': 1242, 'bi': 1243, 'umwelt': 1244, 'deut': 1245, 'fehler': 1246, 'jeden': 1247, 'recht': 1248, 'klasse': 1249, 'lavievagabonde': 1250, 'naechsten': 1251, 'dunkle': 1252, 'debil': 1253, 'rassisten': 1254, 'gif': 1255, 'wohnen': 1256, 'ranking': 1257, 'riesen': 1258, 'bleiben': 1259, 'dreckspack': 1260, 'nsfw': 1261, 'kla': 1262, 'ext': 1263, 'spieglein': 1264, 'herrnewstime': 1265, 'wuenschte': 1266, 'eins': 1267, 'hop': 1268, 'tuerkischen': 1269, 'variante': 1270, 'entweder': 1271, 'veganhure': 1272, 'expe': 1273, 'einzig': 1274, 'positive': 1275, 'denk': 1276, 'mich': 1277, 'produktivitaet': 1278, 'waerme': 1279, 'leistungsfaehiger': 1280, 'joerg': 1281, 'aktivist': 1282, 'trifft': 1283, 'ideologen': 1284, 'wichtig': 1285, '180': 1286, 'letztendlich': 1287, 'anwalt': 1288, 'strafanzeige': 1289, 'mitarbeiter': 1290, 'amthor': 1291, 'aeussern': 1292, 'srfnews': 1293, 'empfohlen': 1294, 'zuwanderern': 1295, 'finger': 1296, 'behoerden': 1297, 'funktionie': 1298, 'propaganda': 1299, 'gegoennt': 1300, 'mussten': 1301, 'framing': 1302, 'versager': 1303, 'bmw': 1304, 'kannste': 1305, 'bayer': 1306, 'legende': 1307, 'spiel': 1308, 'lich': 1309, 'kehren': 1310, 'reminder': 1311, 'ainyrockstar': 1312, 'singen': 1313, 'staat': 1314, 'af': 1315, 'schwache': 1316, 'eysvog3l': 1317, 'sm100d': 1318, 'sapereaudede': 1319, 'ahmad': 1320, 'player': 1321, 'mazematze': 1322, 'offener': 1323, 'steve': 1324, 'direktflug': 1325, 'dauerrentner': 1326, 'anreise': 1327, 'geldboerse': 1328, 'bheinzlmaier': 1329, 'q': 1330, 'distanzie': 1331, 'heftiger': 1332, 'kritiker': 1333, 'unerhoe': 1334, 'langweilig': 1335, 'haesslich': 1336, 'charakter': 1337, 'bundesjustizminister': 1338, 'fluechtete': 1339, 'erkanallesffm': 1340, 'laesst': 1341, 'allah': 1342, 'insekten': 1343, 'landschaft': 1344, 'keineafd2017': 1345, 'marschieren': 1346, 'strassen': 1347, 'sverband': 1348, 'wahrheit': 1349, 'greta': 1350, 'lappen': 1351, 'unge': 1352, 'ws': 1353, 'joke': 1354, 'verfickten': 1355, 'derzeit': 1356, 'insel': 1357, 'felt': 1358, 'pilotprojekt': 1359, 'rentner': 1360, 'guck': 1361, 'mitleid': 1362, 'millionenfach': 1363, 'toeten': 1364, 'rasse': 1365, 'offeln': 1366, 'richte': 1367, 'derspiegel': 1368, 'timber': 1369, 'ossi': 1370, 'diktatur': 1371, 'vie': 1372, 'daniengel6': 1373, 'traum': 1374, 'baerbeli04': 1375, 'menschenrecht': 1376, 'erklaeren': 1377, 'nackt': 1378, 'tube': 1379, 'waehle': 1380, 'piraten': 1381, 'wechseln': 1382, 'missbraucht': 1383, 'druecken': 1384, 'helfen': 1385, 'it': 1386, 'woche': 1387, 'inside': 1388, 'bb': 1389, 'spast': 1390, 'freiwillig': 1391, 'pip': 1392, 'treffen': 1393, 'gehts': 1394, 'gu': 1395, 'mittelalter': 1396, 'ze': 1397, 'schaff': 1398, 'tacosk': 1399, '68': 1400, 'debatte': 1401, 'mischt': 1402, 'nogruene': 1403, 'flixbus': 1404, 'folgten': 1405, 'fuehrerin': 1406, 'zeiten': 1407, 'tote': 1408, 'zoepfe': 1409, 'vollpfosten': 1410, 'emorapper': 1411, 'korsett': 1412, 'foetzchen': 1413, 'unbeliebt': 1414, 'laeuft': 1415, 'luege': 1416, 'postet': 1417, 'praesentie': 1418, 'hahaha': 1419, 'original': 1420, 'populisten': 1421, 'groko': 1422, 'manipulieren': 1423, 'fan': 1424, 'erinne': 1425, '1945': 1426, 'widerlich': 1427, 'witze': 1428, 'durchgehen': 1429, 'potenzial': 1430, 'hahah': 1431, 'jz': 1432, 'info': 1433, 'fuehren': 1434, 'lak': 1435, 'muratserin69': 1436, 'feld': 1437, 'wasser': 1438, 'ansehen': 1439, '80': 1440, 'passen': 1441, 'arasbacho': 1442, 'fuehlen': 1443, 'grundgesetz': 1444, 'philippinen': 1445, 'muenchen': 1446, 'kriegsfuehrung': 1447, 'interessant': 1448, 'bleib': 1449, 'lehrer': 1450, 'pimmel': 1451, 'dielinke': 1452, 'aufhoeren': 1453, 'same': 1454, 'erkennt': 1455, 'heimlich': 1456, 'digga': 1457, 'schweigt': 1458, 'korallenherz': 1459, '38': 1460, 'uedio': 1461, 'sigmar': 1462, 'kolumne': 1463, 'ehrendoktor': 1464, 'guete': 1465, 'kaise': 1466, 'reitschuster': 1467, 'roll': 1468, 'punk': 1469, 'samba': 1470, 'musik': 1471, 'ekelt': 1472, 'hsv': 1473, 'heil': 1474, 'fascho': 1475, 'saar': 1476, 'ferne': 1477, 'priiizzyy': 1478, 'herrmann': 1479, 'mzudemoffiziell': 1480, 'heu': 1481, 'rockstarleben': 1482, 'chaos': 1483, 'ersten': 1484, 'deswegen': 1485, 'muss': 1486, 'ge': 1487, 'angel': 1488, 'frankfu': 1489, 'signie': 1490, 'league': 1491, 'loesch': 1492, 'pech': 1493, 'unhatebar': 1494, 'erstmal': 1495, 'ots': 1496, 'kfw': 1497, 'arsenal': 1498, 'intro': 1499, 'lust': 1500, 'cem': 1501, 'constschreiber': 1502, 'schneller': 1503, 'terroristen': 1504, 'unglaublich': 1505, 'anime': 1506, 'dopa': 1507, 'nagelsmann': 1508, 'aki': 1509, 'abspritzen': 1510, 'echauffieren': 1511, 'schreiber': 1512, 'euwahl2019': 1513, 'stress': 1514, 'putas': 1515, 'griff': 1516, 'istanbul': 1517, 'imamoglu': 1518, 'westen': 1519, 'talita': 1520, 'kum76': 1521, 'sozialen': 1522, 'regulieren': 1523, 'erziehung': 1524, 'nackten': 1525, 'repo': 1526, 'marie': 1527, 'muelleimer': 1528, 'glueck': 1529, 'schwachsinn': 1530, 'wenige': 1531, 'praesidentin': 1532, 'twitter': 1533, 'posten': 1534, 'kachelmann': 1535, 'kennen': 1536, 'kurzen': 1537, 'fordere': 1538, 'morgenpost': 1539, 'europas': 1540, 'gebraucht': 1541, 'niemamovassat': 1542, 'lul': 1543, 'wdr': 1544, 'fotos': 1545, 'autos': 1546, 'insbesondere': 1547, 'unterschaetzt': 1548, 'dealo': 1549, 'ru': 1550, 'maedchen': 1551, 'florianklenk': 1552, 'nhausfrauen': 1553, 'fuehl': 1554, 'bewohnt': 1555, 'regie': 1556, 'obsession': 1557, 'grundschule': 1558, 'kam': 1559, 'hause': 1560, 'haste': 1561, 'kess': 1562, 'gute': 1563, 'mob': 1564, 'glaubt': 1565, 'solange': 1566, 'beleidigen': 1567, 'leipzig': 1568, 'spahn': 1569, 'ntv': 1570, 'methoden': 1571, 'wunderschoen': 1572, 'suess': 1573, 'mauer': 1574, '400': 1575, 'gefuehl': 1576, 'fani': 1577, 'emmxbellechrist': 1578, 'leck': 1579, 'stimme': 1580, 'ging': 1581, 'soros': 1582, 'ebenso': 1583, 'gepampe': 1584, 'malte': 1585, 'nicole': 1586, 'schaut': 1587, 'beides': 1588, 'song': 1589, 'bruessel': 1590, 'hieven': 1591, 'igen': 1592, 'hannahneedshugs': 1593, 'gemerkt': 1594, 'schlechte': 1595, 'freundin': 1596, 'lauter': 1597, 'ehemaliger': 1598, 'vorbeigehen': 1599, 'europaparlament': 1600, 'and': 1601, 'phones': 1602, 'nrw': 1603, 'echo': 1604, 'drogen': 1605, 'amthorvideo': 1606, 'yuma': 1607, 'lein': 1608, 'schwierig': 1609, '2015': 1610, 'getreten': 1611, 'empoe': 1612, 'gntm': 1613, 'eindeutig': 1614, '69': 1615, 'tut': 1616, 'texas': 1617, 'anabell2301': 1618, 'frankundfreya': 1619, 'komischen': 1620, 'linksradikalen': 1621, 'heyitsmebuboy': 1622, 'pc': 1623, 'cheers': 1624, 'afterwork': 1625, 'fraktionen': 1626, 'beklagen': 1627, 'ausschluss': 1628, 'attackieren': 1629, 'einheitsfeier': 1630, 'leistung': 1631, 'ohren': 1632, 'destroysboys': 1633, 'heller': 1634, 'ablenken': 1635, 'hoehenflug': 1636, 'wann': 1637, 'kriegste': 1638, 'runter': 1639, 'chillen': 1640, 'frikawies': 1641, 'clinton': 1642, 'kauft': 1643, 'hin': 1644, 'luegenpresse': 1645, 'befinden': 1646, 'teil': 1647, 'be': 1648, 'supermarkt': 1649, 'nochmal': 1650, 'steh': 1651, 'stolz': 1652, 'appell': 1653, 'schaftsaussichten': 1654, 'nationalsozialismus': 1655, 'scyltara': 1656, 'trauen': 1657, 'sehrlesbisch': 1658, 'bin': 1659, 'nextlvlbastard': 1660, 'kulturbolschewi': 1661, '66norweger66': 1662, 'cn': 1663, 'se': 1664, 'offizielle': 1665, 'millionen': 1666, 'verdammte': 1667, 'permanent': 1668, 'young': 1669, 'riskieren': 1670, 'bannon': 1671, 'bekomm': 1672, 'mokoffizieil': 1673, 'ft': 1674, 'ih': 1675, 'nahe': 1676, 'but': 1677, 'heutigen': 1678, 'veganer': 1679, 'austria': 1680, 'quaelen': 1681, 'kleiner': 1682, 'suarez': 1683, 'azeckenbiss': 1684, 'ami': 1685, 'sehr': 1686, 'knoepft': 1687, 'n26': 1688, 'ralf64904117': 1689, 'nl': 1690, 'niemehrcdu': 1691, 'siehe': 1692, 'krueger': 1693, 'schwulemiker': 1694, 'stellt': 1695, 'wieviel': 1696, 'willnurschreibn': 1697, 'grenzen': 1698, 'deutschsprachige': 1699, 'ebay': 1700, '1999': 1701, 'carerra': 1702, 'garnicht': 1703, 'christen': 1704, 'ofenschlampe': 1705, 'poggenburgandre': 1706, 'afrikaner': 1707, 'jagen': 1708, 'cnn': 1709, 'folge': 1710, 'irrsinn': 1711, 'hutzel': 1712, 'kurzer': 1713, 'baden': 1714, 'ms': 1715, 'seite': 1716, 'magazin': 1717, 'polenz': 1718, 'hitlergruss': 1719, 'ruelpser': 1720, 'magengas': 1721, 'vergas': 1722, 'versucht': 1723, 'maennern': 1724, 'final': 1725, 'satz': 1726, 'prank': 1727, 'juergen': 1728, 'fritz': 1729, 'ergebnis': 1730, 'falsch': 1731, 'not': 1732, 'wiede': 1733, 'newswirenow': 1734, 'erdolf': 1735, 'argument': 1736, 'geflogen': 1737, 'kacken': 1738, 'erhaelt': 1739, 'spoe': 1740, 'tagesthemen': 1741, 'wochenende': 1742, 'oida': 1743, 'uebersetzt': 1744, 'behandelt': 1745, 'russland': 1746, 'wunde': 1747, 'erzaehlen': 1748, 'freude': 1749, 'kangen': 1750, 'schau': 1751, '100': 1752, 'jaja': 1753, 'schlechtigkeit': 1754, 'weltanschauung': 1755, 'xrapidsandro': 1756, 'nh': 1757, 'impfanoffiziell': 1758, 'schne': 1759, 'shaming': 1760, 'abwe': 1761, 'erding': 1762, 'verleumdet': 1763, 'stuerzenberger': 1764, 'aufgerissen': 1765, 'anhaenger': 1766, 'pasemann': 1767, 'faellt': 1768, 'denke': 1769, 'adam': 1770, 'rammstein': 1771, 'herd': 1772, 'liest': 1773, 'mach': 1774, 'arschficken': 1775, 'feinstaub': 1776, 'kuh': 1777, 'goennen': 1778, 'gratulation': 1779, 'nicosemsrott': 1780, 'teufels': 1781, 'rechter': 1782, 'beide': 1783, 'fakten': 1784, 'tv': 1785, 'geschichten': 1786, 'tag': 1787, 'studium': 1788, 'merk': 1789, 'vergisst': 1790, 'aufhoe': 1791, 'autofahrer': 1792, 'leichte': 1793, 'aussehen': 1794, 'uli': 1795, 'postings': 1796, 'ar': 1797, 'trikotwahl': 1798, 'maschmeyer': 1799, 'quirinweber': 1800, 'verstand': 1801, 'unterschreiben': 1802, 'andreanahlesspd': 1803, 'spielen': 1804, 'engelge': 1805, 'muellerliesche': 1806, 'ihr': 1807, 'mei': 1808, 'geraldgrosz': 1809, 'liebsten': 1810, 'chrisjuko': 1811, 'bedarf': 1812, 'benutzen': 1813, 'eva': 1814, 'herman': 1815, 'vieles': 1816, 'kolle': 1817, 'menschheit': 1818, 'genommen': 1819, 'zei': 1820, 'neues': 1821, 'publizistikon': 1822, 'hate': 1823, 'frei': 1824, 'update': 1825, 'extremisten': 1826, 'dritten': 1827, 'pl0105': 1828, 'minecraft': 1829, 'verbloedung': 1830, 'justinkolo': 1831, 'mone': 1832, 'auftritt': 1833, 'picco94115398': 1834, 'hinterlassen': 1835, 'liegt': 1836, 'daran': 1837, 'einhorngangbang': 1838, 'pueppchen': 1839, 'alexander': 1840, 'wollte': 1841, 'wahlpa': 1842, 'buehne': 1843, 'siegstyle': 1844, 'verbrechen': 1845, 'entfernt': 1846, 'stadion': 1847, 'ki': 1848, 'mi': 1849, 'pssst': 1850, 'heimat': 1851, 'normal': 1852, 'aussagen': 1853, 'junioren': 1854, 'ts': 1855, '1000': 1856, 'gibts': 1857, 'paesse': 1858, 'nackter': 1859, 'nachm': 1860, 'cet': 1861, 'telekomdown': 1862, 'beck': 1863, 'rueckwae': 1864, 'friedhof': 1865, 'indoktrination': 1866, 'ihn': 1867, 'hahahahaha': 1868, 'bengies5': 1869, 'gzuz': 1870, 'moje': 1871, 'dupe': 1872, 'dankee': 1873, 'verraeter': 1874, 'sachsen': 1875, 'schweizok2': 1876, 'iphone': 1877, 'fassen': 1878, 'alice': 1879, 'bekleidung': 1880, 'watch': 1881, 'bastard': 1882, 'dracheschaut': 1883, 'bestaetigt': 1884, 'idk': 1885, 'selbst': 1886, 'laecherlich': 1887, 'lara': 1888, 'lt': 1889, 'masturbieren': 1890, 'gottchen': 1891, 'fernandes': 1892, 'dominic': 1893, 'roger': 1894, 'etwa': 1895, 'weib': 1896, 'fetten': 1897, 'lebe': 1898, 'irre': 1899, 'stbrandner': 1900, 'selbe': 1901, 'nwbrs1': 1902, '21': 1903, 'vegesack': 1904, 'copy': 1905, 'paste': 1906, 'krasser': 1907, 'cms': 1908, 'kleben': 1909, 'mobbing': 1910, 'faerben': 1911, 'booth': 1912, 'heiko31086906': 1913, 'besten': 1914, 'hashtag': 1915, 'mon': 1916, 'send': 1917, 'korrupten': 1918, 'erfindet': 1919, 'brauchst': 1920, 'ku': 1921, 'modal': 1922, 'hahahah': 1923, 'spricht': 1924, 'nicolangecdu': 1925, 'virgen48': 1926, 'glueckwunsch': 1927, 'gemeinsam': 1928, 'ruf': 1929, 'ruinie': 1930, 'knie': 1931, 'now': 1932, 'phiiosoph': 1933, 'raste': 1934, 'lache': 1935, 'cool': 1936, 'dj': 1937, 'wahren': 1938, 'keh': 1939, 'zahlschwein': 1940, 'jeds': 1941, 'geschwafel': 1942, 'dfb': 1943, 'kunst': 1944, 'brauch': 1945, 'farid': 1946, 'bang': 1947, 'gesellschaftliche': 1948, 'billie': 1949, 'eilish': 1950, 'rezovideo': 1951, 'schwanger': 1952, 'michelreimon': 1953, 'widerwae': 1954, 'revolverblatt': 1955, 'peter': 1956, 'snack': 1957, 'union': 1958, 'genannt': 1959, 'sexo': 1960, 'sunshine': 1961, 'bierflasche': 1962, 'hand': 1963, 'konform': 1964, 'ikel': 1965, 'zieht': 1966, 'migranten': 1967, 'vermutlich': 1968, 'keller': 1969, 'sellner': 1970, 'aperol': 1971, 'annewill': 1972, 'schlagen': 1973, 'vereinbar': 1974, 'ninja': 1975, '25': 1976, 'doppelmoral': 1977, 'internet': 1978, '00': 1979, 'prallen': 1980, 'meint': 1981, 'musclebear66': 1982, 'gutes': 1983, 'akw': 1984, '22': 1985, 'kulturverein': 1986, 'eingestaendnis': 1987, 'ausrufen': 1988, 'krypto': 1989, 'boerse': 1990, 'rp19': 1991, 'weird': 1992, 'dfdi': 1993, 'kollegin': 1994, 'menge': 1995, 'wahr': 1996, 'strickanleitung': 1997, 'melanie': 1998, 'mielinger': 1999, 'anleitungen': 2000, 'schule': 2001, 'hinten': 2002, 'fotzen': 2003, 'schlecht': 2004, 'stark': 2005, 'koeln': 2006, 'fussirud': 2007, 'absolute': 2008, 'schlaegt': 2009, 'manchmal': 2010, 'anstatt': 2011, 'motivie': 2012, 'legen': 2013, 'panik': 2014, 'schwester': 2015, 'fridayforfuture': 2016, 'dank': 2017, 'teen': 2018, 'eidigen': 2019, '1977': 2020, 'tobias': 2021, 'seb': 2022, 'baehr': 2023, 'gebu': 2024, 'hazard': 2025, 'cringe': 2026, 'reduzie': 2027, 'interesse': 2028, 'schwuchteltier': 2029, 'michael': 2030, 'symphony': 2031, 'magic': 2032, 'petition': 2033, 'bro': 2034, 'altcoin': 2035, 'parlament': 2036, 'line': 2037, 'werberat': 2038, 'havard': 2039, 'fuehlst': 2040, 'magst': 2041, 'sperma': 2042, 'erzaehlt': 2043, '2030': 2044, 'gezaehlt': 2045, 'anfang': 2046, 'bezahlen': 2047, 'erkennen': 2048, 'treibt': 2049, 'abechieben': 2050, 'schlaf': 2051, 'nachdem': 2052, 'steckt': 2053, 'rothaarige': 2054, 'politessen': 2055, 'inzets': 2056, 'ndrinfo': 2057, 'klimaaktivistin': 2058, 'luisa': 2059, 'neubauer': 2060, 'fehlenden': 2061, 'unterstuetzung': 2062, 'kl': 2063, 'ruhrbahn': 2064, 'morgen': 2065, 'inkas': 2066, 'angestellt': 2067, 'spanischen': 2068, 'eindringlingen': 2069, 'toppt': 2070, 'technosteron': 2071, 'boar': 2072, 'analphabetischen': 2073, 'dorne': 2074, 'schrammi44': 2075, 'goat': 2076, 'bouncaay': 2077, 'kfm': 2078, 'mittelstand': 2079, 'mittelstandsanleihen': 2080, 'fonds': 2081, 'hoermann': 2082, 'anleihe': 2083, 'mindest': 2084, 'kupon': 2085, 'mentalshards': 2086, 'offenden': 2087, 'skandaloes': 2088, 'zugreifen': 2089, 'holzraspler': 2090, 'botometer': 2091, 'touchbar': 2092, 'xcode': 2093, '2003': 2094, 'xxl': 2095, 'weights': 2096, 'v1': 2097, 'fs19': 2098, 'kizer': 2099, 'zero': 2100, 'aquila': 2101, 'agora': 2102, 'deutsches': 2103, 'ehepaar': 2104, 'ffentlichkeit': 2105, 'muschilecken': 2106, 'johannesgrune': 2107, 'armselig': 2108, 'esc2019': 2109, 'iceland': 2110, 'effekt': 2111, 'sieg': 2112, 'immernoch': 2113, 'lucky': 2114, 'joahlen': 2115, 'sueggest': 2116, 'movies': 2117, 'plz': 2118, 'ty': 2119, 'einjanik': 2120, 'mhp2002': 2121, 'konrad1000': 2122, 'lvz': 2123, 'koerperverletzung': 2124, 'antut': 2125, 'taeter': 2126, 'kundgebug': 2127, 'dunklen': 2128, 'repression': 2129, 'humanitaere': 2130, 'aufnahme': 2131, 'wohngege': 2132, 'kopalken': 2133, 'hasselfeld': 2134, 'wahlkampfhelferin': 2135, 'gescher': 2136, 'christdemokrat': 2137, 'gaense': 2138, 'naturschutzgebiet': 2139, 'berkeltal': 2140, 'schwgerin': 2141, 'italiani': 2142, 'chat': 2143, 'satireunfreiesd': 2144, 'hube': 2145, 'zulu': 2146, 'nilzee011': 2147, 'linotobi': 2148, 'dieserroman': 2149, 'estar': 2150, 'unterwrfige': 2151, 'hotpants': 2152, 'lianepoost': 2153, 'beziehe': 2154, 'sozialistische': 2155, 'unproduktiv': 2156, 'brunipamder237': 2157, 'sonnenbebrillt3': 2158, 'altonese86': 2159, 'unfair': 2160, 'yungatakan': 2161, 'rau': 2162, 'deacon': 2163, 'zuruf': 2164, 'bots': 2165, 'sawsan': 2166, 'arbeitskraft': 2167, 'stundenlohn': 2168, 'nwbrb58': 2169, 'osnabrueck': 2170, '26': 2171, 'delmenhorst': 2172, 'joergrmayer': 2173, 'lichtmesz': 2174, 'versorgungsposten': 2175, 'naeckige': 2176, 'karrierist': 2177, 'miese': 2178, 'sozialisten': 2179, 'antifanten': 2180, '451': 2181, 'benziner': 2182, 'dazu': 2183, 'xrxss': 2184, 'wireless': 2185, 'charging': 2186, 'pads': 2187, 'katerfrieden': 2188, 'geschoss': 2189, 'braindead': 2190, 'xy': 2191, 'kotzt': 2192, 'johannesw82': 2193, 'bellefired': 2194, 'belieben': 2195, 'einfuegen': 2196, 'regierungsgesteue': 2197, 'dementsprechendem': 2198, 'verleih': 2199, 'crusher': 2200, 'neomagazin': 2201, 'carpool': 2202, 'karaoke': 2203, 'dotheyknowitseurope': 2204, 'kamp': 2205, 'kgb': 2206, 'hihi97948034': 2207, 'mero': 2208, 'knapp': 2209, 'kollegen': 2210, 'arbeitest': 2211, 'sprachst': 2212, 'assi': 2213, 'kreisel': 2214, 'blinkt': 2215, 'autobahn': 2216, 'blinken': 2217, 'eilhaft': 2218, 'busfahrer': 2219, 'evp': 2220, 'spitzenkandidat': 2221, 'wahlarena': 2222, 'berufsleben': 2223, 'aaaain': 2224, 'hintergrundmusik': 2225, 'mobilfunkwerbung': 2226, 'escorf': 2227, 'og': 2228, 'julius': 2229, 'michaelhaenel3': 2230, 'bewah': 2231, 'fusionbleibt': 2232, 'xmerve021': 2233, 'haraldbecker80': 2234, 'gegenbeispiel': 2235, 'gezeigt': 2236, '900': 2237, 'ausland': 2238, 'ruche4': 2239, 'poids': 2240, '2kg': 2241, 'infos': 2242, '47': 2243, '56': 2244, 'ssbm': 2245, 'rupps': 2246, 'unserwir': 2247, 'atomreisfleisch': 2248, 'jacky': 2249, 'lope': 2250, 'elektro': 2251, 'geheule': 2252, 'leut': 2253, 'rachsuechtige': 2254, 'mysogynie': 2255, 'hinte': 2256, 'westlichen': 2257, 'bundeslaendern': 2258, 'abstossend': 2259, 'pokehita97': 2260, 'overreacted': 2261, 'overreact': 2262, 'sry': 2263, 'can': 2264, 'radikale': 2265, 'nationalistische': 2266, 'verschwiegenenen': 2267, 'obi': 2268, 'kenobii': 2269, 'walkerjole': 2270, 'siege': 2271, 'cod': 2272, 'ihrerseits': 2273, 'klimafalle': 2274, 'radiale': 2275, 'massnahmen': 2276, 'inaholst': 2277, 'rudolfuz': 2278, 'extrarechte': 2279, 'bigotterie': 2280, 'aushaltbar': 2281, 'fck': 2282, 'plakaten': 2283, 'flyer': 2284, 'verankernlul': 2285, 'papaplatte': 2286, 'zeitve': 2287, 'reib': 2288, 'tlaytweet': 2289, 'befindet': 2290, 'normale': 2291, 'peterzobel4': 2292, 'zusammenarbeit': 2293, 'gutschein': 2294, 'rebelita': 2295, 'fleecepulover': 2296, 'hofheim': 2297, 'hobbyhure': 2298, 'taschengeld': 2299, 'positionen': 2300, 'vermitteln': 2301, 'konnten': 2302, 'verachtung': 2303, 'educaaunfifi': 2304, 'ulrik': 2305, 'von': 2306, 'raedsalehberlin': 2307, 'logo': 2308, 'heteros': 2309, 'jetz': 2310, 'habter': 2311, 'etzala': 2312, 'piratenpa': 2313, 'gequatsche': 2314, 'migration': 2315, 'gesinnungsterror': 2316, 'nicerlucas': 2317, 'alki': 2318, 'danyvause': 2319, 'maynstream': 2320, 'tip': 2321, 'motivator': 2322, 'fuxki': 2323, 'bauchschmerzen': 2324, 'homasbruns': 2325, 'dt': 2326, 'demnach': 2327, 'waehlte': 2328, 'abgehakt': 2329, 'schwangerschaft': 2330, 'firefox': 2331, 'nekrosex': 2332, 'zar2001doz': 2333, 'dezember': 2334, 'bescheid': 2335, 'versetzt': 2336, 'anzeiger': 2337, 'glockto': 2338, 'blumenkohl': 2339, 'zubereite': 2340, 'seziere': 2341, 'kolleginnen': 2342, 'kolleg': 2343, 'zuckerbienchen': 2344, '222': 2345, 'followern': 2346, 'ausziehen': 2347, 'untenistoben': 2348, 'wulfschmiese': 2349, 'vorgelogen': 2350, 'unheilvolle': 2351, 'milkiriveri': 2352, 'beisst': 2353, 'tabeayy': 2354, 'tante': 2355, 'familiengruppe': 2356, 'spiegelanti': 2357, 'heldenmythos': 2358, 'don': 2359, 'komische': 2360, 'vanhimbeeren': 2361, 'spalterische': 2362, 'eurorettungspolitik': 2363, 'entpuppt': 2364, 'fiskalisches': 2365, 'fiasko': 2366, 'taeuschungskonstrukt': 2367, 'scheissegal': 2368, 'luftblase': 2369, 'strebt': 2370, 'tulpa2230': 2371, 'pete': 2372, 'oitberg': 2373, 'schadet': 2374, 'diskurs': 2375, 'schwa': 2376, 'ht': 2377, 'internetbazi': 2378, 'kulierjarolina': 2379, 'golzheimer': 2380, 'resultat': 2381, 'kassie': 2382, 'aufbau': 2383, 'ryan': 2384, 'riback': 2385, 'eyes': 2386, 'kikivega': 2387, 'krasse': 2388, 'aktion': 2389, 'strasse': 2390, 'hobby': 2391, 'teens': 2392, 'realverlust': 2393, 'schwesterfd': 2394, 'dieter': 2395, 'grind': 2396, 'staatlich': 2397, 'organisie': 2398, 'gfickt': 2399, 'schaffens': 2400, 'kna': 2401, 'hmm': 2402, 'unterstuetzte': 2403, 'mietpreis': 2404, 'wucherer': 2405, 'styropor': 2406, '434italo': 2407, 'eingerichtet': 2408, 'sailorvicious': 2409, 'jusederjude': 2410, 'quadratmetern': 2411, 'vierkoepfigen': 2412, 'wohnkonzepte': 2413, 'serie': 2414, 'club28': 2415, 'silke1974geb': 2416, 'mrchentante1': 2417, 'sudelheft': 2418, 'extension': 2419, 'mitchell': 2420, 'nihl': 2421, 'konservative': 2422, 'identitaetspolitik': 2423, 'deshalb': 2424, 'loveguerillos': 2425, 'thorser62': 2426, 'luciame': 2427, 'kmw2904': 2428, 'fake': 2429, 'mmnews': 2430, 'citylayer': 2431, 'packs': 2432, 'balkonlage': 2433, 'coffeiniker': 2434, 'aluhut': 2435, 'restliche': 2436, 'zerquetscht': 2437, 'enrico95151143': 2438, 'irritierend': 2439, 'diw': 2440, 'praesident': 2441, 'fratzscher': 2442, 'adora': 2443, 'belle': 2444, 'unpolitisch': 2445, 'beschaeftigt': 2446, 'mimimi': 2447, 'fakenew': 2448, 'vquaschning': 2449, 'paris': 2450, 'aktueller': 2451, 'wirds': 2452, '2200': 2453, 'thorsmetkeller': 2454, 'bestell': 2455, 'dansgame': 2456, 'juristen': 2457, 'kaliber': 2458, 'yohbuh': 2459, 'zeelikezorro': 2460, 'mooorizzle': 2461, 'craftergut5': 2462, 'wollten': 2463, 'putschen': 2464, 'hcsmussweg': 2465, 'alextv': 2466, 'puffs': 2467, 'wahldesaster': 2468, 'stroemungsuebergreifend': 2469, 'nachha': 2470, 'alkoholiker': 2471, 'chil': 2472, 'zerfall': 2473, 'armut': 2474, 'unterdrueckung': 2475, 'grottekbrutal': 2476, 'traumurlaub': 2477, 'bytepirat': 2478, 'lebensmittel': 2479, 'verschenken': 2480, 'pparzival': 2481, 'aufstehen': 2482, 'pseudolinken': 2483, 'vormalige': 2484, 'friedenspa': 2485, 'schrillsten': 2486, 'kriegspa': 2487, 'gemause': 2488, 'homeforwhovians': 2489, 'weilkp1': 2490, 'fraue': 2491, 'ausb': 2492, 'faznet': 2493, 'randyraudi': 2494, 'religionen': 2495, 'symphatische': 2496, 'vorzeigekandidatin': 2497, 'erstwaehler': 2498, 'kreux': 2499, 'weil': 2500, 'lukasinho01': 2501, 'bloede': 2502, 'scheinheilige': 2503, 'richt': 2504, 'euwahl': 2505, 'jahrelange': 2506, 'massen': 2507, 'verbrecherinvasion': 2508, 'muelldeponie': 2509, 'veralteten': 2510, 'zaehlen': 2511, 'aljaseas': 2512, 'puh': 2513, 'kollossale': 2514, 'faven': 2515, 'texten': 2516, 'hauptsaechlich': 2517, 'misogyne': 2518, 'misogynes': 2519, 'insz': 2520, 'xxxtentacion': 2521, 'ulrichham': 2522, 'abgezockt': 2523, 'belogen': 2524, 'h4': 2525, 'altersarmut': 2526, 'leiharbeit': 2527, 'thetrvevarg': 2528, 'bedeutungslosigkeit': 2529, 'bedenkt': 2530, 'einst': 2531, 'besc': 2532, 'eddie': 2533, '1412': 2534, 'darkcat90': 2535, 'himmelsreich': 2536, 'vielflieger': 2537, 'stiftung': 2538, 'warentest': 2539, 'tropenholz': 2540, 'grillen': 2541, 'staub6760': 2542, 'aua': 2543, 'depositodetiras': 2544, 'por': 2545, 'charles': 2546, 'frauweh': 2547, 'bogenschuetzen': 2548, 'dezimieren': 2549, 'prinzen': 2550, 'gurkenplaysyt': 2551, 'chrisfcn1900': 2552, 'dreckig': 2553, 'beatehaubrock': 2554, 'mokomokai': 2555, 'kjpgehrden': 2556, 'identifikationmitdemaggressor': 2557, 'samelou': 2558, 'seltsame': 2559, 'zensur': 2560, 'satzes': 2561, 'beleidigung': 2562, 'verleumdung': 2563, 'entw': 2564, 'oklara': 2565, 'reality': 2566, 'kings': 2567, 'vogeln': 2568, 'geschieht': 2569, 'uebliche': 2570, 'teenager': 2571, 'muehsal': 2572, 'sitcom': 2573, 'temmuzkacak': 2574, 'terrorpkk': 2575, 'freiheitskaempfer': 2576, 'irakische': 2577, 'burka': 2578, 'ausziehe': 2579, 'gaengster': 2580, 'verbloeden': 2581, 'buchzitat': 2582, 'irgendeinem': 2583, 'schlange': 2584, 'ghostikun': 2585, 'sexistische': 2586, 'kackscheisse': 2587, 'krise': 2588, 'brabaxbln': 2589, 'ill': 2590, 'zitronenjette20': 2591, 'morgaine620': 2592, 'dgh': 2593, 'treppenhaus': 2594, 'liebs': 2595, 'wahlomat': 2596, 'hatte': 2597, 'irgendeinen': 2598, 'bewaehrungsstrafe': 2599, 'schwarzafrikanischen': 2600, 'asyltouristen': 2601, 'kirchentreppe': 2602, 'milch': 2603, 'lesbensexvideos': 2604, 'blonde': 2605, 'schwiegermtter': 2606, '98763': 2607, 'volltreffer': 2608, 'raetsel': 2609, 'wozu': 2610, 'schaftsverbaende': 2611, 'bande': 2612, 'daddyatze': 2613, 'goil': 2614, 'cookiesforjoon': 2615, 'fandest': 2616, 'skototaxis': 2617, 'trafen': 2618, 'reifen': 2619, 'wrge': 2620, 'da29': 2621, '00020b': 2622, 'haf': 2623, 'cin': 2624, 'exp': 2625, 'refrigerator': 2626, 'water': 2627, 'white': 2628, 'aufschrei': 2629, 'bruestung': 2630, 'gehoben': 2631, 'nwbre14': 2632, 'borken': 2633, 'westf': 2634, 'dorsten': 2635, 'froehliches': 2636, 'allahu': 2637, 'akbe': 2638, 'wennst': 2639, 'zuhoerst': 2640, 'choked': 2641, 'veganem': 2642, 'dings': 2643, 'mecces': 2644, 'dringe': 2645, 'ranziges': 2646, 'rindfleisch': 2647, 'videoaufrufe': 2648, 'kaufende': 2649, 'fistplay': 2650, 'assplay': 2651, 'fistingtime': 2652, 'xyz': 2653, 'causa': 2654, 'schiesst': 2655, 'tricksen': 2656, 'geltendes': 2657, 'transnutte': 2658, 'verwechseln': 2659, 'schreckt': 2660, 'cubcgn1': 2661, 'davidhf92': 2662, 'spargel': 2663, 'erbeeren': 2664, 'president': 2665, 'rambe': 2666, 'hururensooohn': 2667, 'okok': 2668, 'stopp': 2669, 'mission': 2670, 'faltiger': 2671, 'realantizion77': 2672, 'nettilatte': 2673, 'akifpirincci': 2674, 'hcstrachefp': 2675, 'anonymer': 2676, 'zeigender': 2677, 'bonner': 2678, 'stricher': 2679, 'pillepa47127736': 2680, 'umweltbelastung': 2681, 'beitraegt': 2682, 'trends': 2683, 'branche': 2684, 'spoga': 2685, 'gafa': 2686, 'bjrn17547904': 2687, 'gruenenrw': 2688, 'nationalmasochismus': 2689, 'geisteskranken': 2690, 'larsweisbrod': 2691, 'verlieben': 2692, 'ess': 2693, 'steffen': 2694, 'goldstuecke': 2695, 'facharbeiter': 2696, 'aelydysdenossi': 2697, 'morastmops': 2698, 'politicalbeauty': 2699, 'naziaufmaersche': 2700, 'meinungsaeusserung': 2701, 'demorecht': 2702, 'genemigt': 2703, 'bodoloettgen': 2704, 'linksextrem': 2705, 'fachkraeften': 2706, 'nnaschneider': 2707, 'kroenung': 2708, 'oekofeminismus': 2709, 'hstrike': 2710, 'zuliebe': 2711, 'brinkhaus': 2712, 'dennoch': 2713, 'maximal': 2714, 'mariboncw': 2715, 'schuhcreme': 2716, 'bastelt': 2717, 'herrje': 2718, 'yuumatsukumo': 2719, '67': 2720, 'verblendet': 2721, 'leimen': 2722, 's60': 2723, 'boeblingen': 2724, 'schwabstr': 2725, 'maichingen': 2726, 'sbahnstgt': 2727, 'gifev': 2728, 'kompetenzgruppe': 2729, 'aktuelle': 2730, 'projektgruppen': 2731, 'wohnformen': 2732, 'mikrolagen': 2733, 'grossstaedte': 2734, 'einlauf': 2735, 'spasti': 2736, 'gottessohn13': 2737, 'fackel': 2738, 'umzuege': 2739, 'dagilp': 2740, 'lbh': 2741, '1lisschen93': 2742, 'b24pt': 2743, 'contrata': 2744, 'ao': 2745, 'hoffenheim': 2746, 'fwa': 2747, 'great': 2748, 'naku64': 2749, 'quin': 2750, '3te': 2751, 'untote': 2752, 'stimmenve': 2753, 'eilung': 2754, 'buendnis': 2755, 'ue50': 2756, 'gestossen': 2757, 'aende': 2758, 'sera': 2759, 'gegenseitig': 2760, 'schickten': 2761, 'pbern12': 2762, 'community': 2763, 'deutlicher': 2764, 'garfieldine': 2765, 'sexismobserver': 2766, 'hamburger': 2767, 'hafen': 2768, 'botschaft': 2769, 'stefan': 2770, 'beatrix': 2771, 'vstorch': 2772, 'doener': 2773, 'dicherheit': 2774, 'jungs': 2775, 'meinte': 2776, 'gewaltbereitschaft': 2777, 'thinspo': 2778, 'bootboss': 2779, 'spitzenkandidaten': 2780, 'kurzpo': 2781, 'raet': 2782, 'kandidatencheck': 2783, 'itsdesey': 2784, 'perkz': 2785, 'gunlike': 2786, 'groesseren': 2787, 'schwulen': 2788, 'aufgestiegen': 2789, 'geringere': 2790, 'anzahl': 2791, 'eienblock': 2792, 'staffel': 2793, 'voltron': 2794, 'trd': 2795, 'fall': 2796, 'evorox750': 2797, 'schlaefst': 2798, 'jodl': 2799, 'merkur': 2800, 'auswae': 2801, 'igesamt': 2802, 'ep21': 2803, 'attraction': 2804, 'outet': 2805, 'gedichtw': 2806, 'herrnaumann': 2807, 'dergazetteur': 2808, 'erster': 2809, 'besuch': 2810, 'mjwock': 2811, 'allemal': 2812, 'oekolinx': 2813, 'polizistmensch': 2814, 'schnischna1992': 2815, 'alla': 2816, 'klassische': 2817, 'xhamster': 2818, 'orgasmus': 2819, 'edgyluwuca': 2820, 'umfrage': 2821, 'wuerdest': 2822, 'fragst': 2823, 'personalentscheidungen': 2824, 'bk': 2825, 'kingrighteous': 2826, 'raleigh': 2827, 'durham': 2828, 'musashi': 2829, 'haiku': 2830, 'haltung': 2831, 'genialewelt': 2832, 'waldnattern': 2833, 'melden': 2834, 'puls': 2835, 'zitter': 2836, 'zusammenreissen': 2837, 'loszudiskutieren': 2838, 'haraldrostock': 2839, 'renommie': 2840, 'wilfried': 2841, 'schmitz': 2842, 'amtlichen': 2843, 'bet': 2844, 'tisch': 2845, 'gekeh': 2846, 'coraxaroc': 2847, 'neons': 2848, 'reklame': 2849, 'fische': 2850, 'leuchten': 2851, 'huebsch': 2852, 'bunt': 2853, 'wetlook': 2854, 'showoff': 2855, 'talk': 2856, 'primitive': 2857, 'gesindel': 2858, 'd4ncingmonkey': 2859, 'tod': 2860, 'luaks030': 2861, 'gabku': 2862, 'curdinv': 2863, 'grautoene': 2864, 'uebrig': 2865, 'nim': 2866, 'reiner02192679': 2867, 'beziehung': 2868, 'schlimmsten': 2869, 'flxmydlseases': 2870, 'heiner': 2871, 'gesper': 2872, 'alexarusss': 2873, 'linksoma': 2874, 'untaetig': 2875, 'steuerkarussell': 2876, 'raubzug': 2877, 'erschuet': 2878, 'obviant': 2879, 'buloneee': 2880, 'antwo': 2881, 'pflegefall': 2882, 'trackmaniagamer': 2883, 'lord': 2884, 'abbadon': 2885, 'wurd': 2886, 'finanzberater': 2887, 'forderung': 2888, 'schnaps': 2889, 'nap': 2890, 'masyaf': 2891, 'sy': 2892, 'groben': 2893, 'unfug': 2894, 'effektiver': 2895, 'reppinum': 2896, 'kriegt': 2897, 'monat': 2898, 'inaktiv': 2899, 'nicjt': 2900, 'sprinten': 2901, 'daffyfuq': 2902, 'gummipuppe': 2903, 'hochladet': 2904, 'hl': 2905, 'h2o': 2906, 'mein': 2907, 'leg': 2908, 'schatulle': 2909, 'schliesse': 2910, 'garantie': 2911, 'bpl': 2912, 'sbc': 2913, 'foerde': 2914, 'arabische': 2915, 'schmarotzer': 2916, 'taugenichtse': 2917, 'uebe': 2918, 'sinnfrei': 2919, '200l': 2920, '60l': 2921, 'tank': 2922, 'fuellen': 2923, 'wegfahren': 2924, 'verstaatlichung': 2925, 'ausdenken': 2926, 'zskaveyt': 2927, 'sypherox': 2928, 'luuxaa': 2929, 'gangmembergaara': 2930, 'zkidaa': 2931, 'habebrot': 2932, 'paedagogin': 2933, 'txm3rx': 2934, 'benizzel1': 2935, 'klagt': 2936, 'voelkermord': 2937, 'doomed': 2938, 'richtlinie': 2939, 'schlag': 2940, 'kleinaktionaere': 2941, 'griffinthepeter': 2942, 'herumhackt': 2943, 'schliesslich': 2944, 'ju': 2945, 'betze': 2946, 'spiegelt': 2947, 'fuehrungetage': 2948, 'passfehler': 2949, '1967gorzata': 2950, 'sbunners': 2951, 'fanatisch': 2952, 'unverantwo': 2953, 'gagadaily': 2954, 'hair': 2955, 'pfarrer': 2956, 'gegendemo': 2957, 'starnberg': 2958, 'besen': 2959, 'kirchplatz': 2960, 'htt': 2961, 'michellemalkin': 2962, 'freespeechfriday': 2963, 'fightthecensors': 2964, 'pjnet': 2965, 'tcot': 2966, 'patrioten': 2967, 'strophe': 2968, 'deutschlandliedes': 2969, 'sulemannmalik': 2970, 'saekularer': 2971, 'entsprechend': 2972, 'timokloepper': 2973, 'fff': 2974, 'angesicht': 2975, 'grossprobleme': 2976, 'hielte': 2977, 'arnd': 2978, 'schumacher': 2979, 'timmermanseu': 2980, 'aussenpolitik': 2981, 'sorgt': 2982, 'migrations': 2983, 'halia': 2984, 'yee': 2985, 'durex': 2986, 'trojan': 2987, 'dwd': 2988, 'warnlagebericht': 2989, 'zuenden': 2990, 'taeglichen': 2991, 'brauchern': 2992, 'asoziales': 2993, 'tilojung': 2994, 'groesser': 2995, 'linear': 2996, 'tinten': 2997, 'killer': 2998, 'nichttweeterin': 2999, 'italienisches': 3000, 'nasir': 3001, 'ablegen': 3002, 'kallepilsbier': 3003, 'fabrikle': 3004, 'global': 3005, 'unternehmensgeschichte': 3006, 'hanserliter': 3007, 'volkslehrer': 3008, 'ingo': 3009, 'reconquista': 3010, 'germanica': 3011, 'bundesk': 3012, 'undeaniable': 3013, 'hofmeyr': 3014, 'kaizer': 3015, 'chiefs': 3016, 'n3rdy': 3017, 'nacken': 3018, 'krault': 3019, 'stefanskibbe': 3020, 'jap': 3021, 'milfdiana2': 3022, 'match': 3023, 'issn': 3024, 'verdammtes': 3025, 'atotheiex': 3026, 'edzardernst': 3027, 'extra3': 3028, 'jnfingerle': 3029, 'klimaschaedlichen': 3030, 'treibhausgase': 3031, 'klinger291259': 3032, 'kapazitaeten': 3033, 'eurowahl': 3034, 'jahrhunde': 3035, 'frans': 3036, 'timmermans': 3037, 'kommissionspraes': 3038, 'oezil': 3039, 'berichterstattung': 3040, 'schnappschuss': 3041, 'hoeferjunge': 3042, 'markt': 3043, 'wirken': 3044, 'kontrollieren': 3045, 'doerfer': 3046, 'zwangsumsiedeln': 3047, 'sarr': 3048, 'einbuergerungsverbot': 3049, 'mehrehen': 3050, 'geschichtlich': 3051, 'oede': 3052, 'nebenbei': 3053, 'antifaschist': 3054, 'haramizemer': 3055, 'gedanke': 3056, 'spaltet': 3057, 'typisch': 3058, 'davidgeorge91': 3059, 'karllagerfeld': 3060, 'trage': 3061, 'jogginghose': 3062, 'daraschi': 3063, 'iblali': 3064, 'youtubevideos': 3065, 'relativie': 3066, 'feminismus': 3067, 'yep': 3068, 'its': 3069, 'kotze': 3070, 'unnoetige': 3071, 'hyperbushido': 3072, '1923': 3073, 'putschversuch': 3074, 'knast': 3075, 'ccrunk9': 3076, 'england': 3077, 'ausbilden': 3078, 'lernt': 3079, 'vergewaltig': 3080, 'tomatenhass': 3081, 'kastor': 3082, 'akielos': 3083, 'patmair1': 3084, 'afdbraunschweig': 3085, 'verspargeln': 3086, 'todesanlagen': 3087, 'erinnern': 3088, 'plauen0105': 3089, 'plau': 3090, 'barbarakaufmann': 3091, 'verhaeltnis': 3092, 'zerruettet': 3093, 'nr': 3094, 'meinerstesmal': 3095, 'licht': 3096, 'lou': 3097, 'lorenz': 3098, 'sonjaablinger': 3099, 'maennerwg': 3100, 'laessig': 3101, 'abgeordnete': 3102, 'froh': 3103, 'rabensalat': 3104, 'ranajeanne': 3105, 'kuendigen': 3106, 'kinderbetreuung': 3107, 'umziehen': 3108, 'anfragen': 3109, 'gemeinderat': 3110, 'ehrliche': 3111, 'klarheit': 3112, 'transparenz': 3113, 'sexi': 3114, 'flotter': 3115, 'dreier': 3116, 'textvergessen': 3117, 'organspender': 3118, 'falle': 3119, 'ablebens': 3120, 'heike': 3121, 'gassmann': 3122, 'thunberg': 3123, 'diskutierst': 3124, 'gewinnt': 3125, 'madcapkostia': 3126, 'winstspencer2': 3127, 'dung': 3128, 'spfugang': 3129, 'tantetictac': 3130, 'rehe': 3131, 'dystopische': 3132, 'hundesoehne': 3133, 'thefabohd': 3134, 'draufklatschen': 3135, 'saltyironflower': 3136, 'uebernimmt': 3137, 'klischkoe': 3138, 'staerkeren': 3139, 'ansicht': 3140, 'juenger': 3141, 'bagge': 3142, 'eliter': 3143, 'domm': 3144, 'lukede': 3145, 'ypda': 3146, 'kiche': 3147, 'raunigmichael': 3148, 'scheisst': 3149, 'verschwoerung': 3150, 'ibiza': 3151, 'errol': 3152, 'verkoerperung': 3153, 'persoenlichkeit': 3154, 'abgebrannt': 3155, 'beharrlich': 3156, 'verheiratete': 3157, 'tunesier': 3158, 'muetze': 3159, 'abzune': 3160, 'derherrschulz': 3161, 'neoliberale': 3162, 'autoritaere': 3163, 'rassismusgetriebene': 3164, 'staatsumbau': 3165, 'lenkt': 3166, 'lovelisa18x': 3167, 'liebt': 3168, 'schwaenze': 3169, 'stecken': 3170, 'koenntest': 3171, 'lemurian1897': 3172, 'krustytheboss': 3173, 'stefans56831841': 3174, 'linksgruenes': 3175, 'ryuuly': 3176, 'goethe': 3177, 'animal': 3178, 'crossing': 3179, 'really': 3180, 'mediarings': 3181, 'dean': 3182, 'stua': 3183, 'illustrations': 3184, 'dirk': 3185, 'petzold': 3186, 'productdesign': 3187, 'designthinking': 3188, 'designinspiration': 3189, 'graphic': 3190, 'aerith': 3191, 'vergeblich': 3192, 'vincent': 3193, 'valentines': 3194, 'reitbares': 3195, 'liiamichel': 3196, 'ahmadmansour': 3197, 'zugucken': 3198, 'verweige': 3199, 'kommunikation': 3200, 'fensterheber': 3201, 'laraistanbul': 3202, 'hipsterschlampe': 3203, 'anschwillt': 3204, 'gluten': 3205, 'isst': 3206, 'lovefefee': 3207, 'davor': 3208, 'schrecken': 3209, 'harmloser': 3210, 'vorbilder': 3211, 'user': 3212, '167067272': 3213, 'juso': 3214, 'radikal': 3215, 'tagtraeume': 3216, 'cloud': 3217, 'plays': 3218, 'rapid': 3219, 'chilljo1': 3220, 'ava': 3221, 'uff': 3222, 'patrickgensing': 3223, 'profil': 3224, 'dora': 3225, 'bromberger': 3226, 'sperrung': 3227, 'schwesteraccount': 3228, 'spon': 3229, 'regierungsmonitor': 3230, 'beliebter': 3231, 'schuetzen': 3232, 'johanna': 3233, 'auswandern': 3234, 'gzsz': 3235, 'afcajax': 3236, 'today': 3237, 'ing': 3238, 'xi': 3239, 'ajaxo19': 3240, 'reiziger': 3241, 'kasanwirjo': 3242, 'rensch': 3243, 'salah': 3244, 'eddine': 3245, 'taylor': 3246, 'llansana': 3247, 'hans': 3248, 'dominie': 3249, 'nationalisten': 3250, 'gepraegt': 3251, 'cornelianoack': 3252, 'schaeme': 3253, 'zutiefst': 3254, 'fremd': 3255, 'peaches1804': 3256, 'reich': 3257, 'leiten': 3258, 'pop': 3259, 'bethaeuser': 3260, 'kirchen': 3261, 'grolmori': 3262, 'gestampft': 3263, 'lyon': 3264, 'algerier': 3265, 'gestaendnis': 3266, 'naegeln': 3267, 'versehene': 3268, 'bombe': 3269, 'fussgaenger': 3270, 'einnisten': 3271, 'sozialsysteme': 3272, 'steuern': 3273, 'sozialabgaben': 3274, 'hbsche': 3275, 'gefesselte': 3276, 'oon': 3277, 'ralph': 3278, 'bremer': 3279, 'ehrlich': 3280, 'freiheitlich': 3281, 'nehmt': 3282, 'jasmin': 3283, 'pur': 3284, 'mr': 3285, 'empty': 3286, 'km': 3287, 'baehnk': 3288, 'bouncytitaction': 3289, 'fishnets': 3290, 'tenhagen': 3291, 'stromanbieter': 3292, 'afghane': 3293, 'tritten': 3294, 'gestorben': 3295, 'strafmass': 3296, 'fabianphx': 3297, 'gazighost': 3298, 'kimmichs': 3299, 'assist': 3300, 'fazos': 3301, 'shell': 3302, 'tops': 3303, 'ndaktuell': 3304, 'miserabel': 3305, 'loehne': 3306, 'jens': 3307, 'grey': 3308, 'anatomy': 3309, 'bbabyaleyna': 3310, 'aceofm': 3311, 'namelstprogramm': 3312, 'lassmichbitteee': 3313, 'wkeyen': 3314, 'hanvoi': 3315, 'bundesaufsicht': 3316, 'gestellt': 3317, 'braunen': 3318, 'aufgeraeumt': 3319, 'gehalten': 3320, 'tony': 3321, 'konnotation': 3322, 'hetzern': 3323, 'ruketsueki': 3324, 'madicegg': 3325, 'engstirniger': 3326, 'eurozentrismus': 3327, 'dunkles': 3328, 'mtg': 3329, 'arena': 3330, 'event': 3331, 'bilbuha': 3332, 'ir': 3333, 'faerbt': 3334, 'roht': 3335, 'verpeiltetomate': 3336, 'rausgeraeumt': 3337, 'wiegt': 3338, 'derriccardo': 3339, 'klauer': 3340, 'shahbabrarya': 3341, 'deins': 3342, 'noeu': 3343, 'nijazi': 3344, 'runtergeholt': 3345, 'leobietton': 3346, 'bahnhofbuffets': 3347, 'hatten': 3348, 'solothurn': 3349, '20h': 3350, 'voelkische': 3351, 'intelligenzallergiker': 3352, 'geoutet': 3353, 'casperxofficial': 3354, 'linksextremer': 3355, 'wirsindmehr': 3356, 'versaut': 3357, 'purnu': 3358, 'wnsche': 3359, 'www': 3360, 'erotik': 3361, 'arbeitsscheinwerfer': 3362, 'ly8012': 3363, '12v': 3364, '24v': 3365, 'eckig': 3366, 'new': 3367, 'lampen': 3368, 'beleuchtung': 3369, 'arbeitsscheinwe': 3370, 'zockt': 3371, 'wordpressdotcom': 3372, 'starr': 3373, 'blanke': 3374, 'aleska': 3375, 'diamond': 3376, 'dessous': 3377, 'erotische': 3378, 'vzvhds': 3379, 'nationalromantiker': 3380, 'didn': 3381, 'inhale': 3382, 'rechtsextremen': 3383, 'sozis': 3384, 'bedingungslose': 3385, 'willkommenpolitik': 3386, 'woll': 3387, 'praktizier': 3388, 'propagandageschwafel': 3389, 'europarl': 3390, 'vergiss': 3391, 'expat': 3392, 'waehlerverzeichnis': 3393, 'einzutragen': 3394, 'mpse': 3395, 'videis': 3396, 'pirno': 3397, 'ozraeliavi': 3398, 'because': 3399, 'told': 3400, 'zuckerberg': 3401, 'bineuerboss': 3402, 'mjungclaus': 3403, 'umweltschaender': 3404, 'beweis': 3405, 'billah': 3406, 'spaeter': 3407, 'likes': 3408, 'mond': 3409, 'daherreden': 3410, 'onryouyuurei': 3411, 'holdudieladio': 3412, 'autobauer': 3413, 'zensierung': 3414, 'eingeleitet': 3415, 'aba': 3416, 'iger': 3417, 'luegner': 3418, 'neider': 3419, 'komplexe': 3420, 'aryeshalicar': 3421, 'regierungen': 3422, 'ideel': 3423, 'finanziell': 3424, 'guenstlinge': 3425, 'hauf': 3426, 'einladen': 3427, 'rechens': 3428, 'ballern': 3429, 'pointen': 3430, 'moewennase': 3431, 'scharfen': 3432, 'skalpell': 3433, 'verunstalten': 3434, 'still': 3435, 'luuucaby': 3436, 'qualzucht': 3437, 'tiermediziner': 3438, 'milchkuehe': 3439, 'maximalen': 3440, 'rag': 3441, 'getrimmt': 3442, 'jezabiii': 3443, 'michaelagrasser': 3444, 'entspannter': 3445, 'feierabend': 3446, 'innenpolitik': 3447, 'souveraenen': 3448, 'landes': 3449, 'poli': 3450, 'glubb': 3451, 'maschinia2024': 3452, 'fcn': 3453, 'mathenia': 3454, 'kranzschwinger': 3455, 'tuerkinnen': 3456, 'araberinnen': 3457, 'aufbauten': 3458, 'nora50moya': 3459, 'karriere': 3460, 'soziai': 3461, 'rantingronja': 3462, 'agumon': 3463, 'lasse': 3464, 'bemerkenswe': 3465, 'vaterlandsverraeter': 3466, 'checkt': 3467, 'aufjedenfall': 3468, 'wahlbuero': 3469, 'laufen': 3470, 'empfaenger': 3471, 'weltspiegel': 3472, 'pelixulas': 3473, 'bokep': 3474, 'camillelothezh': 3475, 'goennst': 3476, 'deli': 3477, 'finds': 3478, 'kinda': 3479, 'verallgemeinern': 3480, 'verscheiede': 3481, 'herkommen': 3482, 'gewagten': 3483, 'abstoss': 3484, 'rummenigge': 3485, 'mittlere': 3486, 'stromkasteriks': 3487, 'geschlemme': 3488, 'kafeel': 3489, 'kafeer': 3490, 'kafir': 3491, 'mitzat': 3492, 'blackboxvs': 3493, 'leichtmatrosen': 3494, 'wasserschutzpolizei': 3495, 'angestrengt': 3496, 'landgewinne': 3497, 'bigfrager': 3498, 'prozentzahl': 3499, 'uebergriffe': 3500, 'liebevoll': 3501, 'mum': 3502, 'angesprochen': 3503, 'verharmlosen': 3504, 'nat': 3505, 'ak': 3506, 'hipp': 3507, '70y': 3508, 'juhuu': 3509, 'iht': 3510, 'lonelyumut': 3511, 'ironicguerreiro': 3512, '25m': 3513, 'demirbay': 3514, 'leverkusen': 3515, '28m': 3516, 'fluege': 3517, 'manila': 3518, 'september': 3519, 'oktober': 3520, '387': 3521, 'golinehatai': 3522, 'allererste': 3523, 'kennzeichnung': 3524, 'bewegung': 3525, 'asymmetrische': 3526, 'satiriker': 3527, 'schuster': 3528, 'leisten': 3529, 'furc': 3530, 'konflikt': 3531, 'zwingen': 3532, 'unehrenhaft': 3533, 'rikeraven': 3534, 'volksverpetzer': 3535, 'angrinsen': 3536, 'bildungs': 3537, 'verdummt': 3538, 'maulkorb': 3539, 'bundesjugendspiele': 3540, 'daemlichste': 3541, 'schullaufbahn': 3542, 'lowcarbrudi': 3543, 'rocken': 3544, 'mehikaner': 3545, 'diehumanisten': 3546, 'attacd': 3547, 'ranzmann': 3548, 'zerbrxsler': 3549, 'gprealomon': 3550, 'ardde': 3551, 'fachkundige': 3552, 'psychiaters': 3553, 'gedacht': 3554, 'indische': 3555, 'cognata': 3556, 'ttowie': 3557, 'deanfan123urban': 3558, 'hashtags': 3559, 'muten': 3560, 'moormoewe': 3561, 'make': 3562, 'morgens': 3563, 'drei': 3564, 'club': 3565, 'perfekt': 3566, 'peppermind': 3567, 'kater': 3568, 'strecken': 3569, 'badrepuwhy': 3570, 'grundrente': 3571, 'faulenzer': 3572, 'weswegen': 3573, 'dietagespost': 3574, 'national': 3575, 'glueckskeks': 3576, 'fabrik': 3577, 'titeln': 3578, 'hwsq': 3579, 'gronkh': 3580, 'blondine': 3581, 'virgin': 3582, 'kippo2o': 3583, 'nintendo': 3584, 'bimbas': 3585, 'world': 3586, 'desaster': 3587, 'chefin': 3588, 'pflegesystem': 3589, 'gepumpt': 3590, 'berichte': 3591, 'missstaende': 3592, 'heimen': 3593, 'ebben': 3594, 'sozialistin': 3595, 'angeschlagen': 3596, 'aktuell': 3597, 'versammelt': 3598, 'du0105': 3599, 'bundestagsabgeordneter': 3600, 'mehreren': 3601, 'tageszeitungen': 3602, 'bekommt': 3603, 'leer': 3604, 'ausgegangen': 3605, 'ultras': 3606, 'digitec': 3607, 'ipads': 3608, 'rajan87': 3609, 'meins': 3610, 'eingereusch': 3611, 'bbyfrkmcgzx': 3612, 'grknzrstrr': 3613, 'zock': 3614, 'linux': 3615, 'empfindliche': 3616, 'schlimm': 3617, 'empfinden': 3618, 'herzblutbluete': 3619, 'herzen': 3620, 'seele': 3621, 'enricotokareu': 3622, 'nazispack': 3623, 'dera': 3624, '62': 3625, 'rohstoffbrief': 3626, 'fresnillo': 3627, 'silberproduzent': 3628, 'liefe': 3629, 'q1': 3630, 'zahlen': 3631, 'analysten': 3632, 'glau': 3633, 'scpaderborn07': 3634, 'titz': 3635, 'keentech': 3636, 'godcoder': 3637, 'inholubek3': 3638, 'over': 3639, 'immergeil82': 3640, 'lehrbuda': 3641, 'edreisvogt': 3642, 'moritur': 3643, 'ride': 3644, 'rauszuhauen': 3645, 'adhs': 3646, 'roman': 3647, 'hurenso': 3648, 'jeonpokpok': 3649, 'henlooooo': 3650, 'oomf': 3651, 'h3h3': 3652, 'derpsichologe': 3653, 'burhan': 3654, 'diggi': 3655, 'denkst': 3656, 'fasten': 3657, 'widerliche': 3658, 'verlogenheit': 3659, 'kippa': 3660, 'kameras': 3661, 'kevinneuwi': 3662, 'wen': 3663, 'abteil': 3664, 'bt': 3665, 'indampf': 3666, 'nanunan32440900': 3667, 'chinationalist9': 3668, 'diebe': 3669, 'haende': 3670, 'scheidung': 3671, 'fremdgehen': 3672, 'steinigung': 3673, 'hassrede': 3674, 'koepfen': 3675, 'homosex': 3676, 'davescustomxxx': 3677, 'heideenytes': 3678, 'bellainksclips': 3679, 'versohlt': 3680, 'flinten': 3681, 'uschi': 3682, 'rausschmeissen': 3683, 'vernuenftig': 3684, 'geregelt': 3685, 'traumatisch': 3686, 'empfundenen': 3687, 'erlebnis': 3688, 'berichtet': 3689, 'nachrichten': 3690, 'bezwecken': 3691, 'fahrschule': 3692, 'vernachlaessigt': 3693, 'theater': 3694, 'museumsdoerfer': 3695, 'fallenlassen': 3696, 'heisse': 3697, 'offel': 3698, 'sobal': 3699, 'sensusnoctis': 3700, 'lostboislim': 3701, 'fass': 3702, 'drippst': 3703, 'lovebeatshb': 3704, 'mimimimi': 3705, 'noafd': 3706, 'franz': 3707, 'salzmann': 3708, 'minister': 3709, 'benoetigt': 3710, 'schulabschluss': 3711, 'kermit': 3712, 'red': 3713, 'andy': 3714, 'heooo': 3715, 'torwa': 3716, 'offchem': 3717, 'linksfunk': 3718, 'rosamwolfgang': 3719, 'wesentlich': 3720, 'mitverursacht': 3721, 'oevp': 3722, 'alleinregie': 3723, 'lola': 3724, 'barista': 3725, 'okaaaay': 3726, 'trau': 3727, 'thcaltan': 3728, 'fauler': 3729, 'moni': 3730, 'hift': 3731, 'stief': 3732, 'enkel': 3733, 'wehnemann': 3734, 'verdoppelt': 3735, 'derzeitige': 3736, 'plata': 3737, 'plomo': 3738, 'banana': 3739, 'fishxx': 3740, 'helden': 3741, 'versteigern': 3742, 'getragenen': 3743, 'trikots': 3744, 'endphase': 3745, 'wahlkampfs': 3746, 'eroeffnet': 3747, 'ethopianm': 3748, 'kaufmannskrimis': 3749, 'kleinbuergerliche': 3750, 'imponiergehabe': 3751, 'triplepsn': 3752, 'honecker': 3753, 'mussolini': 3754, 'onkommd': 3755, 'people': 3756, 'abi2019': 3757, 'wisst': 3758, 'abi': 3759, 'weitergeht': 3760, 'oxensepp': 3761, 'katjakipping': 3762, 'katja': 3763, 'genauer': 3764, 'mwinteron': 3765, 'incl': 3766, 'teils': 3767, 'sog': 3768, 'opposition': 3769, 'geritten': 3770, 'ifo': 3771, 'mittelstandsbarometer': 3772, 'mittelstaendisches': 3773, 'geschaeftsklima': 3774, 'unterwerfung': 3775, 'dahlia': 3776, 'sky': 3777, 'fremden': 3778, 'grobe': 3779, 'rollenspiele': 3780, 'fantasy': 3781, 'domtendo': 3782, 'fixen': 3783, 'gebummst': 3784, 'gebunden': 3785, 'lukasderrapper': 3786, 'gewitter': 3787, 'benjamin': 3788, 'jessd': 3789, 'sssollte': 3790, 'tssservakis': 3791, 'sstzunge': 3792, 'sssehen': 3793, 'tststss': 3794, 'nutellaflxke': 3795, 'liebeskummer': 3796, 'drecksscheisse': 3797, 'gamergateblogde': 3798, 'krebsgeschwuer': 3799, 'mithilfe': 3800, 'ausbreitet': 3801, 'realshira': 3802, 'naschkatze86': 3803, 'paradoxe': 3804, 'gefrierbrand': 3805, 'holzeisenbahn': 3806, 'wahlpflichtfach': 3807, 'doppelhaushaelfe': 3808, 'selbsthilfegruppe': 3809, 'oekonazis': 3810, 'ionblackout': 3811, 'nomadex2': 3812, 'heftig': 3813, 'geschissen': 3814, 'allee': 3815, 'angelaulrichrbb': 3816, 'g5sahel': 3817, 'burkinafaso': 3818, 'mo': 3819, 'trombozytenspender': 3820, 'eintragen': 3821, 'dna': 3822, 'miiiaa': 3823, 'schoener': 3824, 'lu41598225': 3825, 'frontal21': 3826, 'eindeutiges': 3827, 'unterdrueckungsmerkmal': 3828, 'darstellt': 3829, 'timolamme': 3830, 'tribuene': 3831, 'ground': 3832, 'biermitdir': 3833, 'gamescom': 3834, 'jungfrauen': 3835, 'tuchel': 3836, 'schneiss': 3837, 'goet': 3838, 'nichtmehr': 3839, 'schimpf': 3840, 'bot': 3841, 'schnauze': 3842, 'amk': 3843, 'asiaticas': 3844, 'peludas': 3845, 'sauerwald': 3846, 'wahlergebnisse': 3847, 'minderheit': 3848, 'ministerin': 3849, 'hilflos': 3850, 'rekomen': 3851, 'username': 3852, 'cigsafterimsak': 3853, 'fatalitybaerlis': 3854, 'fladdermues': 3855, 'tibhubay': 3856, 'nanu': 3857, 'linker': 3858, 'antifant': 3859, 'vorstellig': 3860, 'panisch': 3861, 'ta': 3862, 'fakuum': 3863, 'geduldeten': 3864, 'muessten': 3865, 'urspruenglichen': 3866, 'grundwe': 3867, 'zurueckkehren': 3868, 'pisser': 3869, 'interagie': 3870, 'poste': 3871, 'gekonnt': 3872, 'ignorie': 3873, 'mandeln': 3874, 'giorap90': 3875, 'herrentag': 3876, 'zelebrie': 3877, 'omavotze': 3878, 'peruanas': 3879, 'klimaforscher': 3880, 'ottmar': 3881, 'edenhofer': 3882, 'pik': 3883, 'emissionen': 3884, 'konkurrent': 3885, 'kaeme': 3886, 'pavle': 3887, 'toastermatthi': 3888, 'wineslvt': 3889, 'zaubermaus57': 3890, 'warnt': 3891, 'gemaessigten': 3892, 'ofdarkhumor': 3893, 'ostirboeck': 3894, 'wie': 3895, 'einschraenken': 3896, 'realherrsammy': 3897, 'mk': 3898, 'hosting': 3899, '1x': 3900, 'rootserver': 3901, 'kerne': 3902, 'ram': 3903, 'hdd': 3904, 'festplatten': 3905, 'speicher': 3906, 'laufzeit': 3907, 'marleneschfer1': 3908, 'sorgen': 3909, 'ordnung': 3910, 'vegane': 3911, 'humor': 3912, 'satan': 3913, 'dominakristin': 3914, 'zofe': 3915, 'nylonkittel': 3916, 'schlaegen': 3917, 'bewirkt': 3918, 'erstaunliche': 3919, 'brav': 3920, 'l800mph': 3921, 'flagged': 3922, 'kushner': 3923, 'money': 3924, 'laundering': 3925, 'bstarkimarm': 3926, 'putzig': 3927, 'bundesfrauenrat': 3928, 'froschdomse': 3929, 'liegen': 3930, 'sprach': 3931, 'bundeswehrinfo': 3932, 'kristin': 3933, 'brinker': 3934, 'altar': 3935, 'kurzfristiger': 3936, 'waehlerstimmen': 3937, 'geopfe': 3938, 'starkeschulden': 3939, 'orenishikiddo': 3940, 'profraika': 3941, 'sage': 3942, 'irren': 3943, 'nege': 3944, 'ninal1999': 3945, 'beklatscht': 3946, 'alumni': 3947, 'association': 3948, 'bedankte': 3949, 'umjubelten': 3950, 'nu': 3951, 'hagen': 3952, 'rether': 3953, 'unterzahl': 3954, 'mbu1959': 3955, 'hassprediger': 3956, 'spitze': 3957, 'fussvolk': 3958, 'stimmvieh': 3959, 'verhetzen': 3960, 'maulwerker1': 3961, 'netreaper': 3962, 'miatamuc': 3963, 'gaaarrrrnix': 3964, 'iparaadox': 3965, 'innenminister': 3966, 'matteo': 3967, 'stoeraktion': 3968, 'wahlkampf': 3969, 'faxen': 3970, 'demonstra': 3971, 'tuncayoezdamar': 3972, 'regulierung': 3973, 'meinungsaeusserungen': 3974, 'irgendwoher': 3975, '333goltz': 3976, 'auffaellig': 3977, 'gruppen': 3978, 'raf': 3979, 'morde': 3980, 'brandstiftungen': 3981, 'haraldlaatsch': 3982, 'verspricht': 3983, 'freudiger': 3984, 'verursacht': 3985, 'dutzende': 3986, '100e': 3987, 'lpsebo': 3988, 'haahahaha': 3989, 'cueueueueues': 3990, 'dokkan': 3991, 'phy': 3992, 'sv': 3993, 'maternus': 3994, 'werfe': 3995, 'claque': 3996, 'fanatische': 3997, 'unverschaemte': 3998, 'mig': 3999, 'zuruecktritt': 4000, 'islamisches': 4001, 'auswande': 4002, 'freigang': 4003, 'eventyrj': 4004, 'einladung': 4005, 'alten': 4006, 'fdj': 4007, 'fuchtel': 4008, 'schaedlichsten': 4009, 'radtour': 4010, 'eisbecher': 4011, 'mitesser': 4012, 'ihelzer': 4013, 'mehlprinzessin': 4014, 'thema': 4015, 'sexualisie': 4016, 'tinder': 4017, 'useful': 4018, 'frag': 4019, 'plaene': 4020, 'taugen': 4021, 'zuerst': 4022, 'patriarchat': 4023, 'rollenbilder': 4024, 'ebenfalls': 4025, 'monitorex': 4026, 'maximariegoldt': 4027, 'kollektiv': 4028, 'herbeiredete': 4029, 'bewege': 4030, 'bigfoot': 4031, 'amkrpinfo': 4032, 'fav': 4033, 'retweete': 4034, 'laufgruppen': 4035, 'entgegen': 4036, 'christianhelms': 4037, 'aufgabe': 4038, 'erledigt': 4039, 'bub': 4040, 'reingeraten': 4041, 'bigdaddytom143': 4042, 'vor8vie': 4043, 'jaa': 4044, 'personen': 4045, 'kdrama': 4046, 'person': 4047, 'mg': 4048, 'pikachumagbier': 4049, 'annalist': 4050, 'diente': 4051, 'verdeutlichung': 4052, 'sorgearbeit': 4053, 'mitgezaehlt': 4054, 'christophaviv': 4055, 'beyenburgerin': 4056, 'irenekellner': 4057, 'saefken': 4058, 'charlottemacht': 4059, 'heutejournal': 4060, 'vanessavu': 4061, 'seifenkistenrennen': 4062, 'absagen': 4063, 'kin': 4064, 'wissen': 4065, 'welterbe': 4066, 'selous': 4067, 'reservat': 4068, '1500': 4069, 'quadratkilometer': 4070, 'abgeholzt': 4071, 'mehrere': 4072, 'nationalparks': 4073, 'rei': 4074, 'joleffers': 4075, 'badehose': 4076, '112': 4077, 'eroeffnete': 4078, 'strandbad': 4079, 'wannsee': 4080, 'einestages': 4081, 'archiv': 4082, 'andreasandy3131': 4083, 'schwaecher': 4084, 'dastehen': 4085, 'leh': 4086, 'aufregung': 4087, 'konseq': 4088, 'vorgehen': 4089, 'barbara': 4090, 'schoeneurgghhh': 4091, 'fml': 4092, 'verblasste': 4093, 'merle': 4094, 'edgy': 4095, 'sahne': 4096, 'wtrappmann': 4097, 'journalist': 4098, 'venezuelanischen': 4099, 'knst': 4100, 'sass': 4101, 'omarhedeya': 4102, 'bo30': 4103, 'opfermythos': 4104, 'alliie': 4105, 'tantepiep': 4106, 'bring': 4107, 'hamburg': 4108, 'verpisst': 4109, 'keine': 4110, 'lol': 4111, 'tabatabayi': 4112, 'capyossarian': 4113, 'verfassungschutz': 4114, 'inlandsgeheimdienst': 4115, 'waf': 4116, 'florian161': 4117, 'lifehack': 4118, 'reconquistainternet': 4119, 'gebtname': 4120, 'hinschmeisst': 4121, 'aufgibst': 4122, 'chrisvelten1': 4123, 'bereichernde': 4124, 'imponieren': 4125, 'leb': 4126, 'gelebt': 4127, 'nerdanziehung': 4128, 'df': 4129, 'parallel': 4130, 'letztwaehlern': 4131, 'letztgewaehlte': 4132, 'tommycassells': 4133, 'niger': 4134, 'instabilitaet': 4135, 'giesskannenprinzip': 4136, 'steuerg': 4137, 'locker': 4138, 'regel': 4139, 'abiklasse': 4140, 'pruegeln': 4141, 'huuuuuunte': 4142, 'pablaer': 4143, 'vollstrecker': 4144, 'juviatears': 4145, 'zahls': 4146, 'einf': 4147, 'dfakenews1': 4148, 'rauhnacht': 4149, 'stellst': 4150, 'ungesunde': 4151, 'miley': 4152, 'cyrus': 4153, 'prognosen': 4154, '78warschoen': 4155, 'fckoeln': 4156, 'horn': 4157, 'ausfaellt': 4158, 'missschmaguelze': 4159, 'who': 4160, 'annett': 4161, 'abballern': 4162, 'rhythm': 4163, 'rhymes': 4164, 'boot': 4165, 'splitternackt': 4166, 'streaming': 4167, 'gripskrams': 4168, 'leogfischer': 4169, 'meidoragon': 4170, 'verfliegt': 4171, 'echsenkrafthaus': 4172, 'opas': 4173, 'toechter': 4174, 'ehemaenner': 4175, 'chokemeat6am': 4176, 'gelogen': 4177, 'versenkung': 4178, 'verschwindet': 4179, 'volksfest': 4180, 'schlossgrabenhock': 4181, 'ehrenkirchen': 4182, 'kirchhofen': 4183, 'messerangriff': 4184, 'unzaehligen': 4185, 'diesbezueglich': 4186, 'franzosen': 4187, 'tschechen': 4188, 'entso': 4189, 'muestras': 4190, 'brste': 4191, 'zorras': 4192, 'maduras': 4193, 'kamuezue': 4194, 'naechste': 4195, 'erstw': 4196, 'liz': 4197, 'rathaus': 4198, 'srwle19': 4199, 'schnurri': 4200, 'rumhaenge': 4201, 'bundesdeutsche': 4202, 'geheimwaffe': 4203, 'allahkultus': 4204, 'niewiedercducsuspdgruenefdplinke': 4205, 'parkplaetze': 4206, 'uebelsten': 4207, 'herbeigefueh': 4208, 'staatsstreich': 4209, 'aussieguylive': 4210, 'josiejobee': 4211, 'sunnycanderson': 4212, 'femnationwatch': 4213, 'samanthaluvhe': 4214, 'wundereileen': 4215, 'mircow': 4216, 'nicihood': 4217, 'bleiberecht': 4218, 'hei': 4219, 'abschiebung': 4220, 'begreifen': 4221, 'glueckskekse1': 4222, 'alicanglobal': 4223, 'daenischer': 4224, 'abwehr': 4225, 'rasmus': 4226, 'marcfelixserrao': 4227, 'gluecklicherweise': 4228, 'libanon': 4229, 'jordanien': 4230, 'destabilisierung': 4231, 'fiomythoughts': 4232, 'glubscht': 4233, 'gei': 4234, 'afrika': 4235, 'weltweite': 4236, 'expansion': 4237, 'markushammer9': 4238, 'weis': 4239, 'bedeutet': 4240, 'zyklon': 4241, 'indien': 4242, 'huren': 4243, 'pube': 4244, 'ietende': 4245, 'julianabolika': 4246, 'zeh': 4247, 'gesplitte': 4248, 'sproede': 4249, 'blumi': 4250, 'patriots': 4251, 'menschaffe': 4252, 'sonnenklar': 4253, 'stur': 4254, 'wuerd': 4255, 'soleylifa': 4256, 'checker': 4257, 'mitmachkriterium': 4258, 'blablabla': 4259, 'aussenstehenden': 4260, 'betra': 4261, 'alterosa7': 4262, 'marcelsardo': 4263, 'propapanda666': 4264, 'endeffekt': 4265, 'uose': 4266, 'boom': 4267, 'dat': 4268, 'murksel': 4269, 'blassen': 4270, 'willi': 4271, 'thron': 4272, 'christianender': 4273, 'staatsangehoerigkeit': 4274, 'erworben': 4275, 'mus': 4276, 'mensworldzone': 4277, 'endet': 4278, 'block': 4279, 'psychbsc': 4280, 'fanvomscf': 4281, 'canstatt93': 4282, 'fcunion': 4283, 'absteigen': 4284, 'kohleausstieg': 4285, 'kohle': 4286, 'tweetet': 4287, 'wide': 4288, 'befreundet': 4289, 'fred': 4290, 'ahoi': 4291, 'gier': 4292, 'eichef': 4293, 'cornelia': 4294, 'cagol': 4295, 'welcome': 4296, 'euphorie': 4297, 'gaenzlich': 4298, 'belange': 4299, 'staatsbediensteten': 4300, 'gaby3101': 4301, 'behaupten': 4302, 'zugenommen': 4303, 'proviant': 4304, 'null': 4305, 'einziehen': 4306, 'traijan': 4307, 'misterlemonade': 4308, 'maudado': 4309, 'deutschlandvolt': 4310, 'immerh': 4311, 'struggeln': 4312, 'traue': 4313, 'jumpsuit': 4314, 'qwq': 4315, 'masken': 4316, 'gesaess': 4317, 'bauch': 4318, 'nsa': 4319, 'schlangen': 4320, 'sof': 4321, 'floooryy': 4322, 'xdeturns': 4323, 'myrahawo': 4324, 'kanack': 4325, 'mac': 4326, 'heiseonline': 4327, 'monate': 4328, 'kaufe': 4329, 'kolumbien': 4330, 'wahnsinnigen': 4331, 'landtag': 4332, 'gesetz': 4333, 'zugestimmt': 4334, 'ichbinschoener': 4335, 'pbreyer': 4336, 'szagunn': 4337, 'freigabe': 4338, 'justizsenator': 4339, 'bezirksbuergermeisterin': 4340, 'bagdadi': 4341, 'gehduschen69': 4342, 'boy': 4343, 'spitze19': 4344, 'namifay': 4345, 'nooirine': 4346, 'arschloche': 4347, 'offelfresser': 4348, 'thailand': 4349, 'cazuraa11': 4350, 'witz': 4351, 'no': 4352, 'hochprozentig': 4353, 'klamotten': 4354, 'laden': 4355, 'bedienen': 4356, 'blog': 4357, '2002': 4358, 'wende': 4359, 'vizekanzler': 4360, 'kimberlyhot4': 4361, 'double': 4362, 'penetration': 4363, 'gleichzeitig': 4364, 'bescheue': 4365, 'senat': 4366, 'zurueckkehrende': 4367, 'herbe': 4368, 'eingeladen': 4369, 'undankbares': 4370, 'inschulz': 4371, 'nah': 4372, 'nahestehen': 4373, 'vault': 4374, '999': 4375, 'namenskind': 4376, 'bettercallaxel': 4377, 'angegriffen': 4378, 'besserer': 4379, 'boi69': 4380, 'bearbeite': 4381, 'rekordergebnis': 4382, 'erzielen': 4383, 'wahlkampfplakaten': 4384, 'marieskyler13': 4385, 'kasperletheater': 4386, 'ztareid': 4387, 'multr4br41n': 4388, 'harit04': 4389, 'justin44243406': 4390, 'dermalteduerr': 4391, 'unterschiedmacher': 4392, 'teamquintus': 4393, 'verschwitzten': 4394, 'lendenschurz': 4395, 'dude': 4396, 'anzuzie': 4397, 'obijuankenobi6': 4398, 'reklamedame': 4399, 'hater': 4400, 'abstempeln': 4401, 'face': 4402, 'simyiscw': 4403, 'deepwaterblue': 4404, 'released': 4405, 'stabiles': 4406, 'downloaden': 4407, 'dieseroskar': 4408, 'unterdruecken': 4409, 'gezwungen': 4410, 'tja': 4411, 'unfaehig': 4412, 'indire': 4413, 'didinable': 4414, 'greeeengurl': 4415, 'ps': 4416, 'xbox': 4417, 'einlaeuten': 4418, 'freierfeie': 4419, 'itsaperoloclock': 4420, 'ourhood': 4421, 'lieblingsnachbar': 4422, 'geribarreti': 4423, 'rauchermuell': 4424, 'ordnungsgemaess': 4425, 'antiraucher': 4426, 'blackandwhitephotography': 4427, 'ungewohnt': 4428, 'old': 4429, 'grumpy': 4430, 'heidi': 4431, 'klum': 4432, 'peinlicher': 4433, 'gesamte': 4434, 'karpreturns': 4435, 'klingt': 4436, 'ulkig': 4437, 'legit': 4438, 'synchronsprecher': 4439, 'rucksaecke': 4440, 'pandas': 4441, 'lamas': 4442, 'abstehenden': 4443, 'beissender': 4444, 'hai': 4445, 'einzelfallinfos': 4446, 'verharmloser': 4447, 'religioesen': 4448, 'kopftuechern': 4449, 'ugugu': 4450, 'studie': 4451, 'unglaeubig': 4452, 'wahlresultate': 4453, 'ehemals': 4454, 'hochburgen': 4455, 'mittel': 4456, 'sueditalien': 4457, 'abgeraeumt': 4458, 'gliederschmerzen': 4459, 'vollhorst': 4460, 'erfunden': 4461, 'boxer': 4462, 'verde': 4463, 'chicodesnudo': 4464, 'bauer': 4465, 'vermummungsverbot': 4466, 'gilt': 4467, 'entlee': 4468, 'vogelbach': 4469, 'favorite': 4470, 'nachti': 4471, 'nani': 4472, 'ausch': 4473, 'segretaria': 4474, 'sklavin': 4475, 'disfosgen': 4476, 'umsetzung': 4477, 'marsch': 4478, 'totalitaeren': 4479, 'slake180': 4480, 'kafunow': 4481, 'zusammenbrechen': 4482, 'vorstellung': 4483, 'malaysia': 4484, 'muellhalde': 4485, 'tonnenweise': 4486, 'impo': 4487, 'ie': 4488, 'absender': 4489, 'abfa': 4490, 'danslesfiammes': 4491, 'erdnussbutter': 4492, 'kelbt': 4493, 'auristrahl': 4494, 'vestalentracht': 4495, 'einher': 4496, 'wirf': 4497, 'geflutet': 4498, 'ange': 4499, 'spielzeug': 4500, 'grobi': 4501, 'grobsen': 4502, 'chefs': 4503, 'lau': 4504, 'ergebnissen': 4505, 'absoluten': 4506, 'panikmodus': 4507, 'verbreiten': 4508, 'dummdreiste': 4509, 'po': 4510, 'kalorien': 4511, 'reinstopfen': 4512, 'ehliz': 4513, 'gersvk': 4514, 'eishockeywm': 4515, 'kifferbarbie': 4516, 'irgendein': 4517, 'maaaaamaaaaa': 4518, 'akebanbluepaw': 4519, 'verarsche': 4520, 'omapornos': 4521, 'krankenschwestern': 4522, 'redtobe': 4523, 'nutte': 4524, 'eiern': 4525, 'brudervom': 4526, 'fluechtling': 4527, 'wohnungen': 4528, 'campingplatz': 4529, 'ziemlichmuede': 4530, 'yess': 4531, 'fuehlt': 4532, 'powercell': 4533, 'sackt': 4534, 'positionieren': 4535, 'uhhhhhhh': 4536, 'vanishedleaf': 4537, 'kannst': 4538, 'teaser': 4539, 'richtet': 4540, 'flammenden': 4541, 'studenten': 4542, 'reisen': 4543, 'bekritteln': 4544, 'rudirocka': 4545, 'inazann': 4546, 'fehlen': 4547, 'oetzemir': 4548, 'oezekuz': 4549, 'barlay': 4550, 'chebli': 4551, 'fahimi': 4552, 'kuenast': 4553, 'schul': 4554, 'geisterradler': 4555, 'versorgungssicherheit': 4556, 'stromversorgung': 4557, 'buettel': 4558, 'systems': 4559, 'beamte': 4560, 'ueberbau': 4561, 'schuettel': 4562, 'normalisierungsarbeit': 4563, 'vereinfachen': 4564, 'spott': 4565, 'anwendet': 4566, 'tomgoerdy': 4567, 'bischte': 4568, 'grossmaeulig': 4569, 'angekuendigte': 4570, 'abstrafen': 4571, 'callmesmz': 4572, 'unterbelichtet': 4573, 'einfallen': 4574, 'einfachen': 4575, 'arb': 4576, 'mikotomunakata': 4577, 'chefkochroci': 4578, 'moviepilot': 4579, 'handsome': 4580, 'jack': 4581, 'collection': 4582, 'sale': 4583, 'steam': 4584, 'haet': 4585, 'blocken': 4586, 'vate': 4587, 'mali': 4588, 'hochburg': 4589, 'menschenschmuggler': 4590, 'ueberwacht': 4591, 'persoenlich': 4592, 'bevoelkerungsaustausch': 4593, 'susannchen01': 4594, 'komplementaerfarbe': 4595, 'erkrankung': 4596, 'placebo': 4597, 'schlucken': 4598, 'zeitmanagement': 4599, 'zerficke': 4600, 'huendin': 4601, 'koeter': 4602, 'momentsammlerin': 4603, 'ableismus': 4604, 'bundesamtfvs': 4605, 'veroeffentlicht': 4606, 'zahl': 4607, 'jetsetcata': 4608, 'chefket': 4609, 'saudi': 4610, 'arabien': 4611, 'schilder': 4612, 'pools': 4613, 'durchgestrichen': 4614, 'surprisedtodoku': 4615, 'veemo2k19': 4616, 'nite': 4617, 'optimized': 4618, 'tbh': 4619, 'pupnsfd': 4620, 'hmph': 4621, 'fine': 4622, 'netzentdecker': 4623, 'russiatoday': 4624, 'googleale': 4625, 'golem': 4626, 'flugtaxi': 4627, 'fuenfsitziger': 4628, 'lilium': 4629, 'jet': 4630, 'hebt': 4631, 'erstmals': 4632, 'elektroflieger': 4633, 'avalanchegerman': 4634, 'zecken': 4635, 'mennschenverachtend': 4636, 'beschweren': 4637, 'cdus': 4638, 'klimapolitik': 4639, 'iggerichte': 4640, 'zutaten': 4641, 'anfnger': 4642, 'home': 4643, 'mpg': 4644, 'ansonsten': 4645, 'tweety': 4646, 'dong': 4647, 'frohmann': 4648, 'hafentaenzerin': 4649, 'eimer': 4650, 'zeitung': 4651, 'janamll15178714': 4652, 'stalingrad': 4653, 'nowplaying': 4654, 'robin': 4655, 'speechless': 4656, 'erika': 4657, 'sirola': 4658, 'clean': 4659, 'ios': 4660, 'android': 4661, 'gustafgabel': 4662, 'nvidiageforcede': 4663, 'geiles': 4664, 'feiern': 4665, 'letztens': 4666, 'traditionell': 4667, 'verdacht': 4668, 'ruestungsindustrie': 4669, 'weils': 4670, 'lieblingsfarbe': 4671, 'gtzfrmming': 4672, 'witzig': 4673, 'untersagen': 4674, 'seinerzeit': 4675, 'pgdeutschland': 4676, 'drecksbayern': 4677, 'iven': 4678, 'axen': 4679, 'blitzschutz': 4680, 'gmbh': 4681, 'mitternacht': 4682, 'beschaeftigen': 4683, 'trans': 4684, 'here': 4685, 'are': 4686, 'asapfuro': 4687, 'fler': 4688, 'flowt': 4689, 'gaensehaut': 4690, 'christinabroth': 4691, 'graeben': 4692, 'organisiere': 4693, 'uebrigens': 4694, 'gesichtspunkten': 4695, 'purelove3103': 4696, 'sirkcaligo': 4697, 'holyprincessch1': 4698, 'bloecke': 4699, 'psychopathen': 4700, 'yagorljoozma': 4701, 'zeppelin': 4702, 'gegenstand': 4703, 'teilt': 4704, 'kauf': 4705, 'zeig': 4706, 'iiioritz': 4707, 'kamar2019': 4708, 'votestrache': 4709, 'seits': 4710, 'cafepress': 4711, 'commerce': 4712, 'verkaeufe': 4713, 'provisionen': 4714, 'pr': 4715, 'ziehe': 4716, 'cr7': 4717, 'dorabromberger': 4718, 'durch': 4719, 'kaschieren': 4720, 'massiv': 4721, 'aufwiegeln': 4722, 'furkan': 4723, 'ak3010': 4724, 'kinderfickerreligion': 4725, 'nnamrreherdna': 4726, 'saechsischer': 4727, 'verharmlost': 4728, 'saechsische': 4729, 'journ': 4730, 'vonbuehlau': 4731, 'zecke': 4732, 'nieder': 4733, 'sicherheitsluecken': 4734, 'onlinebank': 4735, 'finanzaufsicht': 4736, 'bafin': 4737, 'ryulayy': 4738, 'gelaufen': 4739, 'liebling': 4740, 'pornofilme': 4741, 'superior': 4742, 'moglie': 4743, 'erontmaloku': 4744, 'loredana': 4745, 'sterbe': 4746, 'verleiht': 4747, 'weiblichkeit': 4748, 'dennsiewissennichtwaspassie': 4749, 'faschistisch': 4750, 'eppelheim': 4751, 'frisoer': 4752, 'bitangei': 4753, 'kerokerodevito': 4754, 'hochmut': 4755, 'beschaemend': 4756, 'insb': 4757, 'ihrer': 4758, 'pabgee': 4759, '113': 4760, 'pofetisch': 4761, 'rubewaehrung': 4762, 'statistik': 4763, 'huepfen': 4764, 'nazinetzwerk': 4765, 'enttarnt': 4766, 'loswerden': 4767, 'clas': 4768, 'hannes': 4769, '98': 4770, 'warums': 4771, 'co2steu': 4772, 'claudiazettel': 4773, 'hofer': 4774, 'getauscht': 4775, 'weitermachen': 4776, 'zwunchen': 4777, 'sissil': 4778, '75': 4779, 'keineaggrosmehr': 4780, 'abwaegung': 4781, 'zb': 4782, 'impfpflicht': 4783, 'rivotrilmitstil': 4784, 'liga': 4785, 'del': 4786, 'aeh': 4787, 'elon': 4788, 'musks': 4789, 'vergesst': 4790, 'gesellschaften': 4791, 'mehrheit': 4792, 'seht': 4793, 'welc': 4794, 'bekaeme': 4795, 'pleonasmus': 4796, 'dopetobetattoo': 4797, 'offenen': 4798, 'sozialstaat': 4799, 'migraten': 4800, 'finanzieren': 4801, 'renten': 4802, 'sexvideo': 4803, 'bel': 4804, 'kompetenzwolf': 4805, 'brxkentears': 4806, 'scribatz': 4807, 'kevinbtw': 4808, 'simbabwe': 4809, 'porsches': 4810, 'unterhalte': 4811, 'freundinnen': 4812, 'oeffentlichkeit': 4813, 'kerle': 4814, 'hoerwe': 4815, 'reiben': 4816, 'asylunterkuenften': 4817, 'dummm': 4818, 'ausbuergern': 4819, 'bauen': 4820, 'funko': 4821, 'gundam': 4822, 'gf': 4823, 'kahrs': 4824, 'mazze791': 4825, 'neo': 4826, 'justskda': 4827, 'literally': 4828, 'getraenk': 4829, 'cola': 4830, 'bruderych': 4831, 'eliteuni': 4832, 'duepie': 4833, 'trum': 4834, 'koelnerpeter': 4835, 'ueberrollt': 4836, 'talkrunden': 4837, 'darueb': 4838, 'einheit': 4839, 'wahres': 4840, 'fuerchte': 4841, 'bereichen': 4842, 'schm': 4843, 'exotriox52415': 4844, 'raidr': 4845, 'fn': 4846, 'kek': 4847, 'skaltenbrunner': 4848, 'einziga': 4849, 'oest': 4850, 'angelobung': 4851, 'veranstalten': 4852, 'gelocke': 4853, 'poperze': 4854, 'juwelchen': 4855, 'schatzkaestleins': 4856, 'gehuldigt': 4857, 'platonstochter': 4858, 'wue': 4859, 'temberg': 4860, 'landeschef': 4861, 'trendet': 4862, 'jacobyjost': 4863, 'sinkenden': 4864, 'dampfer': 4865, 'werdenden': 4866, 'gewechs': 4867, 'manager': 4868, 'gruender': 4869, 'keilt': 4870, 'lustig': 4871, 'ignoranz': 4872, 'ggue': 4873, 'seitens': 4874, 'wo': 4875, 'telefonie': 4876, 'neuem': 4877, 'ukrainischen': 4878, 'igitt': 4879, 'ekliges': 4880, 'monats': 4881, 'scheine': 4882, 'umlauf': 4883, 'lachknaller': 4884, 'politikerin': 4885, 'goebbels': 4886, 'ziat': 4887, 'tabui': 4888, 'hhavink62': 4889, 'memetohneh': 4890, 'heulst': 4891, 'ramadans': 4892, 'belei': 4893, 'aender': 4894, 'destination': 4895, 'citizen': 4896, 'kane': 4897, 'bereich': 4898, 'toten': 4899, 'verschleisst': 4900, 'alexlntc': 4901, 'toilette': 4902, 'howie': 4903, 'official': 4904, 'ersma': 4905, 'heavenlyuri': 4906, 'schneeridara': 4907, 'soass': 4908, 'verdorben': 4909, 'spaesse': 4910, 'amri': 4911, 'fatalen': 4912, 'myers': 4913, 'mcote': 4914, 'paulieesther1': 4915, 'deadbybhvr': 4916, 'lmclean': 4917, 'patricia': 4918, 'queen': 4919, 'lukifuttrader': 4920, 'fynnfut': 4921, 'taktische': 4922, 'meisterleistung': 4923, 'disasterclass': 4924, 'barca': 4925, 'ba': 4926, 'bodenfahrzeug': 4927, 'beschaedigt': 4928, 'regierungsmaschine': 4929, 'toni62574625': 4930, 'erfolgslose': 4931, 'kloeckner': 4932, 'turgayardahanli': 4933, 'albundy': 4934, 'babys': 4935, 'hinrichten': 4936, 'vergewaltigen': 4937, 'famous': 4938, 'blubb': 4939, 'unpassend': 4940, 'we3lash': 4941, 'heulend': 4942, 'rausgerannt': 4943, 'byebye': 4944, 'filmte': 4945, 'aufdeckte': 4946, 'moscheen': 4947, 'gehetzt': 4948, 'kysoltix': 4949, '200iq': 4950, 'darkskin': 4951, 'men': 4952, 'verpiss': 4953, 'jazellah': 4954, 'koerper': 4955, 'incel': 4956, 'apatzwahl': 4957, 'wahrheiten': 4958, 'fpoeblockwa': 4959, 'leokohlbauer': 4960, 'leo': 4961, 'sweetdiamond': 4962, 'gigi': 4963, 'deppe': 4964, 'ausgestiegen': 4965, 'verpasst': 4966, 'eygulli': 4967, 'hydraor': 4968, 'leonard07226586': 4969, 'haesslicher': 4970, 'hahahahah': 4971, 'hanseat1966': 4972, 'verbracht': 4973, 'vernachlaessig': 4974, 'singleboerse': 4975, 'pat': 4976, 'hoechst': 4977, 'croix': 4978, 'nord': 4979, 'glueckes': 4980, 'schmied': 4981, 'hammer': 4982, 'gywermelanie': 4983, 'parkbank': 4984, 'verliebt': 4985, 'tiny60s': 4986, 'hanyuuvent': 4987, 'orange': 4988, 'schnieke': 4989, 'orf': 4990, 'schuettelt': 4991, 'berueh': 4992, 'densotm': 4993, 'maybach': 4994, 'ron': 4995, 'dduric': 4996, 'nuecht': 4997, 'divinity': 4998, 'ego': 4999, 'draconis': 5000, 'duemmsten': 5001, 'amatre': 5002, 'suche': 5003, 'erotikmassage': 5004, 'emo': 5005, 'nenas': 5006, 'pissende': 5007, 'einkauf': 5008, 'russiagoto': 5009, 'beeinflussen': 5010, 'edward': 5011, 'ussi': 5012, 'ausgrenzung': 5013, 'verir': 5014, 'zugehoerigkeit': 5015, 'vers': 5016, 'sonst': 5017, 'geschlechtergetrennte': 5018, 'lenasnape2': 5019, 'abfuckt': 5020, 'noice': 5021, 'gaumen': 5022, 'douglas': 5023, 'stinkt': 5024, 'huhuhuee': 5025, 'unveil': 5026, 'mara': 5027, 'donner10': 5028, 'angeliciuv': 5029, 'luegt': 5030, '85': 5031, 'rueberkommt': 5032, 'derfuetsch': 5033, 'lotion': 5034, 'creme': 5035, 'sollst': 5036, 'hufeisen': 5037, 'rekordspende': 5038, 'erklaerungsnot': 5039, 'suedwestmetall': 5040, 'klimasekte': 5041, 'erwachsene': 5042, 'kleinkinder': 5043, 'auffuehren': 5044, 'grasimar': 5045, 'schafdas': 5046, 'msp': 5047, 'pictures': 5048, 'wengier': 5049, 'unglueck': 5050, 'jarvis1187': 5051, 'angeboren': 5052, 'religi': 5053, 'heinzsc51846951': 5054, 'croqisunshine': 5055, 'vasall': 5056, 'haldenwang': 5057, 'verstaerkten': 5058, 'rechtsextremi': 5059, 'antisemitismus': 5060, 'jude': 5061, 'kimmich': 5062, 'wrld': 5063, 'wolltest': 5064, 'merke': 5065, 'milchmitzucker': 5066, 'c3llofrau': 5067, 'heilt': 5068, 'schiebt': 5069, 'cam': 5070, 'elektrogeraete': 5071, 'talksh': 5072, 'analyse': 5073, 'infineon': 5074, 'technologies': 5075, 'kursrutsch': 5076, 'aufwae': 5077, 'strend': 5078, 'monte': 5079, 'beleidige': 5080, 'zulassen': 5081, 'rechtspopulismus': 5082, 'staerker': 5083, 'lehrerin': 5084, 'xnxxx': 5085, 'tuesmavieg': 5086, 'body': 5087, 'end': 5088, 'zyendra1': 5089, 'khinnek': 5090, 'edelnickel': 5091, 'kinderlose': 5092, 'haett': 5093, 'absage': 5094, 'eismelone': 5095, 'jaehriges': 5096, 'veeenox': 5097, 'scumpofoptic88': 5098, 'unfruchtbares': 5099, 'streitgespraech': 5100, 'sektenstil': 5101, 'enmachuk': 5102, 'gittern': 5103, 'dauern': 5104, 'garooozis': 5105, 'goataiga': 5106, 'bbbbuddha': 5107, 'rrxsky': 5108, 'reselation': 5109, 'aufreizen': 5110, '0siegfried': 5111, 'hofieren': 5112, 'maulkoerbe': 5113, 'verordnen': 5114, 'lyrics': 5115, 'ick': 5116, 'versteh': 5117, 'geraeuschen': 5118, 'schaedlingen': 5119, 'hendricus56': 5120, 'bear': 5121, 'greeter': 5122, 'drguidoknapp': 5123, 'mindestlohn': 5124, 'buecken': 5125, 'helalbeauty': 5126, 'hochamt': 5127, 'erbauung': 5128, 'hirnlosen': 5129, 'potential': 5130, 'anziehen': 5131, 'afdimbundestag': 5132, 'turkogermane': 5133, 'detlefstoldt': 5134, 'genderklo': 5135, 'lesbischen': 5136, 'angelamerkel': 5137, 'harvarduniversity': 5138, 'finedilettante': 5139, 'tinido': 5140, 'juedischeonline': 5141, 'schatti030': 5142, 'kreditinstitut': 5143, 'deutschebank': 5144, 'globale': 5145, 'finanzkrise': 5146, 'sinofspeed': 5147, 'neulich': 5148, 'konrad': 5149, 'andenauer': 5150, 'fipsi': 5151, 'paule': 5152, 'champagnenihal': 5153, 'drogensachen': 5154, 'keske': 5155, 'yanimda': 5156, 'olsa': 5157, 'ederdim': 5158, 'journaliszt': 5159, 'verstehen': 5160, 'kreuzacht': 5161, 'bandidos': 5162, 'verschworenes': 5163, 'rechtsextremes': 5164, 'angetrunken': 5165, 'baut': 5166, 'umarmung': 5167, 'umarmt': 5168, 'erreiche': 5169, 'hausverwaltung': 5170, 'polit': 5171, 'junkie': 5172, 'saechsischen': 5173, 'justcumm': 5174, 'princess': 5175, 'tsnina': 5176, 'minipimmell': 5177, 'zeitfresser': 5178, 'nichtzahler': 5179, 'negativ': 5180, 'timewaster': 5181, 'matthiashauer': 5182, 'trete': 5183, 'carlderotter': 5184, 'aufgaben': 5185, 'englischunterricht': 5186, 'unueberlegt': 5187, 'vorallem': 5188, 'alexande': 5189, 'ill5': 5190, 'dragonball': 5191, 'dragonballz': 5192, 'philhackemann': 5193, 'schicksalswahl': 5194, 'dribbling': 5195, 'flankt': 5196, 'mueller': 5197, 'hintere': 5198, 'mittelfeld': 5199, 'ding': 5200, 'zielsicher': 5201, 'bumsen': 5202, 'lecke': 5203, 'geschwaetz': 5204, 'derzeroy': 5205, 'stadtbekannt': 5206, 'laeriaa': 5207, 'rr': 5208, 'umstaende': 5209, 'winkel': 5210, 'awuuu': 5211, 'silberner': 5212, 'everyone': 5213, 'ruft': 5214, 'realbrandiblack': 5215, 'huebscher': 5216, 'kompetenzsimba': 5217, 'unwissende': 5218, 'faule': 5219, 'pute': 5220, 'chrisepunkt': 5221, 'not1proud': 5222, 'peperarno': 5223, 'derdems': 5224, 'auszeiten': 5225, 'raeglicher': 5226, 'mobi': 5227, 'feslegen': 5228, 'frht2208': 5229, 'hoechsten': 5230, 'christlichen': 5231, 'karfreitsg': 5232, 'turbomyu': 5233, 'schweinekopf': 5234, 'parkplatz': 5235, 'reiche': 5236, 'massage': 5237, 'braeden': 5238, 'lemasters': 5239, 'braedenlemaster': 5240, 'nato': 5241, 'uno': 5242, 'winnetou': 5243, 'pjakobs': 5244, 'gen': 5245, 'isolieren': 5246, 'newscompact': 5247, 'thrvaim': 5248, 'obacht': 5249, 'fallen': 5250, 'antoniosv97': 5251, 'luisamneubauer': 5252, 'schulze': 5253, 'maximaler': 5254, 'ansagen': 5255, 'unerfuellte': 5256, 'zus': 5257, 'ugmads': 5258, 'lueftet': 5259, 'pikantes': 5260, 'geheimnis': 5261, 'katastrophe': 5262, 'polizistin': 5263, 'orgie': 5264, 'arschfick': 5265, 'tumblr': 5266, 'hausfrau': 5267, 'rapidshare': 5268, 'fachgerecht': 5269, 'verdreherei': 5270, 'dsm': 5271, 'nordkirche': 5272, 'container': 5273, 'kanada': 5274, 'jennywild996': 5275, 'setzen': 5276, 'nude': 5277, 'wild': 5278, 'findom': 5279, 'boobs': 5280, 'foerstercarlo': 5281, 'weglaufen': 5282, 'maori': 5283, 'geldbetrag': 5284, 'abgehoben': 5285, 'erzhngswndrlnd': 5286, 'antonkrell': 5287, 'zddk': 5288, 'abschiedsbesuch': 5289, 'obama': 5290, 'fro': 5291, 'endbossfight': 5292, 'heronooneneeds': 5293, 'mexify': 5294, 'mcky': 5295, 'mikamurstein': 5296, 'saulus': 5297, 'paulus': 5298, 'so1': 5299, 'aware': 5300, 'undso': 5301, 'stimmung': 5302, 'komischerweise': 5303, 'trzd': 5304, 'emmaohnenamen': 5305, 'wenden': 5306, 'waffenhandel': 5307, 'lobbyistin': 5308, 'steuerza': 5309, 'endgame': 5310, 'spoile': 5311, 'dontspoiltheendgame': 5312, 'werner': 5313, 'baumann': 5314, 'schaft': 5315, 'grotesk': 5316, 'abstuerzender': 5317, 'irene97652350': 5318, 'dir': 5319, 'predigen': 5320, 'champagner': 5321, 'saufen': 5322, 'bangros': 5323, 'prag': 5324, 'publik': 5325, 'phenome71810818': 5326, 'quietschenden': 5327, 'iq': 5328, 'stimulator': 5329, 'perfekte': 5330, 'kandidat': 5331, 'bundestagsvizepraesident': 5332, 'cr': 5333, 'wirkst': 5334, 'serioeser': 5335, 'fairdest': 5336, 'cloafleev1606': 5337, 'blizzardcseu': 5338, 'warcraft': 5339, 'anfangen': 5340, 'fehl': 5341, 'taylorlissi': 5342, 'durchschnittliche': 5343, 'umgaenglicher': 5344, 'beute': 5345, 'jungerecato': 5346, 'tol': 5347, 'eranten': 5348, 'hyperintellektuellen': 5349, 'fangt': 5350, 'musikinstrumente': 5351, 'zerschlagen': 5352, 'gaes': 5353, 'andreas69291642': 5354, 'hofstoetter': 5355, 'eddiedonovan': 5356, 'yazidis': 5357, 'konve': 5358, 'ieren': 5359, 'lebendig': 5360, 'kaefigen': 5361, 'verbrannt': 5362, '3000': 5363, 'vielweib': 5364, 'guckst': 5365, 'jawl': 5366, 'miriam': 5367, 'vollmer': 5368, '8xteilzeit': 5369, 'daudi': 5370, 'littlebinf': 5371, 'meist': 5372, 'grundschulalter': 5373, 'andrea': 5374, 'angeblich': 5375, 'fraktionsvorsitz': 5376, 'streitig': 5377, 'briten': 5378, 'schritt': 5379, 'einheimischen': 5380, 'todes': 5381, 'kuehnikev': 5382, 'euwahlen': 5383, 'tektonische': 5384, 'verschiebungen': 5385, 'ausgeloest': 5386, 'sieger': 5387, 'jungwaehl': 5388, 'unentschlossen': 5389, 'dauerapplaus': 5390, 'klimahuepfen': 5391, 'eingebuesst': 5392, 'netteliebe': 5393, 'revo13834527': 5394, 'andauernd': 5395, 'wahlzettel': 5396, 'bauergeorg6': 5397, 'weisshelme': 5398, 'zetteln': 5399, 'akira': 5400, '86': 5401, '74wonnie': 5402, 'wehe': 5403, 'belastbarkeit': 5404, 'son': 5405, 'gitarre159': 5406, 'luna1234luna1': 5407, 'haetten': 5408, 'weder': 5409, 'erwaehnen': 5410, 'bruellbruell': 5411, 'ihnen': 5412, 'mikromobilitaet': 5413, 'scooter': 5414, 'tel': 5415, 'avi': 5416, 'staedte': 5417, 'zukommt': 5418, 'atzenantifa': 5419, 'brillen': 5420, 'kellerfreak': 5421, 'mrsmarrypoppins': 5422, 'herrpantau': 5423, 'winzerin': 5424, 'flott': 5425, 'joanacotar': 5426, 'osteuropaeer': 5427, 'schulfreunde': 5428, 'fakefreunde': 5429, 'hoechste': 5430, 'rechtspopulisten': 5431, 'newromantiics': 5432, 'willsch': 5433, 'macha': 5434, 'hebbet': 5435, 'glaub': 5436, 'thegreathubini': 5437, 'iliiliiiili': 5438, 'haettet': 5439, 'dergleichen': 5440, 'padophilie': 5441, 'ivanrodionov': 5442, 'fleissiger': 5443, 'unbegabter': 5444, 'platzhalter': 5445, 'provisorisc': 5446, 'marcorouvoet': 5447, 'dha': 5448, 'softgels': 5449, 'jarrow': 5450, 'formulas': 5451, 'sachse02': 5452, 'misterlavender': 5453, 'gewissen': 5454, 'standards': 5455, 'rechtschreibung': 5456, 'grammatik': 5457, 'gorezilla360': 5458, 'graubaer1953': 5459, 'rechtsextremisten': 5460, 'gewaltorientie': 5461, 'innenministerium': 5462, 'alarm': 5463, 'ero692015': 5464, 'sailor': 5465, 'kamikatzerl': 5466, 'tentakelkaiser': 5467, 'hineinpruegeln': 5468, 'herausstreicheln': 5469, 'revo': 5470, 'hea': 5471, 'putscht': 5472, 'kuscht': 5473, 'autoplay': 5474, 'better': 5475, 'lovestory': 5476, 'then': 5477, 'twilight': 5478, 'hah': 5479, 'tschuues': 5480, 'meepmeep': 5481, 'knatterknabe': 5482, 'lillauch': 5483, 'kurzgefasst': 5484, 'heult': 5485, 'pfeil': 5486, 'kriege': 5487, 'meyer': 5488, 'laufstrecke': 5489, 'wagner': 5490, 'saubloed': 5491, 'mariafan812': 5492, 'wohlstandsverwahrlost': 5493, 'proletariat': 5494, 'sxmclk': 5495, 'markanter': 5496, 'hehe': 5497, 'mitbekommen': 5498, 'stromberg': 5499, 'billiger': 5500, 'abklatsch': 5501, 'office': 5502, 'pukhovka': 5503, 'alisffm': 5504, 'reinboth': 5505, 'neiodyn': 5506, 'zitatrecht': 5507, 'blackismyfavc': 5508, 'klapper': 5509, 'schrottplaetze': 5510, 'guenstiger': 5511, 'buchladen': 5512, 'raeucherstaebchen': 5513, 'animeep': 5514, 'shinobi': 5515, 'trainingsjacke': 5516, 'hintern': 5517, 'poppen': 5518, 'schlanke': 5519, 'walnusskipferl': 5520, 'sliden': 5521, 'cousine': 5522, 'dms': 5523, 'realdonaldtrump': 5524, 'amerikanischen': 5525, 'kriegstreiber': 5526, 'uebersaet': 5527, 'beiss': 5528, 'hal': 5529, 'wawnord': 5530, 'che': 5531, 'notte': 5532, 'called': 5533, 'kritische': 5534, 'kdf': 5535, 'st4zbl0od': 5536, 'solmecke': 5537, 'oupsi': 5538, 'ferraeterin': 5539, 'feige': 5540, 'ichnicht': 5541, 'wesen': 5542, 'genesen': 5543, 'weltrettungswahn': 5544, 'diesmal': 5545, 'lijusolid': 5546, 'meinten': 5547, 'aufschwingen': 5548, 'heuteplus': 5549, 'luegenmedienverdrossen': 5550, 'bestehen': 5551, 'fickst': 5552, 'eunionb': 5553, 'befremdlich': 5554, 'nationalen': 5555, 'sundayforfuture': 5556, 'dauerjubelmodus': 5557, 'europawah': 5558, 'mariaq549': 5559, 'gabrielzamora': 5560, 'stop': 5561, 'magnus01182053': 5562, 'ausgerechnet': 5563, 'jedem': 5564, 'volksverraeter': 5565, 'koeterklasse': 5566, 'helmut': 5567, 'schmitt': 5568, 'kinderzaenker1': 5569, 'energie': 5570, 'aemtern': 5571, 'immerhin': 5572, 'khmer': 5573, 'klimaleugner': 5574, 'klimafaschisten': 5575, 'okay': 5576, 'kurzes': 5577, 'gomd': 5578, 'tresoren': 5579, '3x': 5580, 'wm35': 5581, 'rey': 5582, 'gable': 5583, 'sheamus': 5584, 'tbg': 5585, 'ciampa': 5586, 'eyo': 5587, 'sebastianhe': 5588, 'geraltwitcher67': 5589, '303': 5590, 'schraege': 5591, 'geschichtsansicht': 5592, 'dwerkopp': 5593, 'autonome': 5594, 'linksbuendig': 5595, 'seenotrettung': 5596, 'erstermai': 5597, 'strassenbahn': 5598, 'janni2872': 5599, 'sinnbildlichen': 5600, 'nachher': 5601, 'beherzten': 5602, 'selbigen': 5603, 'pantherrhei': 5604, 'dolores': 5605, 'umbridge': 5606, 'ciabatta': 5607, 'juriamtresen': 5608, 'toxicsugga': 5609, 'jeansarsch': 5610, 'drueckt': 5611, 'brei': 5612, 'kontaktiere': 5613, 'abmelken': 5614, 'murmelmum': 5615, 'panemetc62': 5616, 'zdfneo': 5617, 'dokus': 5618, 'aufgestellt': 5619, 'grano': 5620, 'duro': 5621, 'pro7': 5622, 'privatsender': 5623, 'xzoddelx': 5624, 'timoreset': 5625, 'benktallmadge': 5626, 'hbrandstaetter': 5627, 'kurierat': 5628, 'babypause': 5629, 'bmeinl': 5630, 'emrich': 5631, '5933': 5632, 'rundfunkbeitrag': 5633, 'eispende': 5634, 'steuerlich': 5635, 'absetzen': 5636, '1207': 5637, 'lehmanowsky': 5638, 'wahlplakaten': 5639, 'vollendet': 5640, 'reif': 5641, 'ustralien': 5642, 'yungdsgnr': 5643, 'argumente': 5644, 'entgegenbringen': 5645, 'weisser': 5646, 'deen321xyz': 5647, 'freak': 5648, 'hope12086051': 5649, 'freches': 5650, 'weib2': 5651, 'geblockt': 5652, 'bad': 5653, 'volksmenge': 5654, 'wagt': 5655, 'oeffentliche': 5656, 'auftrit': 5657, 'gegenkampf': 5658, 'flengulu67': 5659, 'hakenkreuz': 5660, 'schmierereien': 5661, 'svenjaschulze68': 5662, 'garugaathereal': 5663, 'kittyvanwhiskas': 5664, 'victim': 5665, 'harzblume': 5666, 'werd': 5667, 'karma': 5668, 'evt': 5669, 'wiederrum': 5670, 'alwayssomewher4': 5671, 'afgveteran03': 5672, 'wahnsinn': 5673, 'rasenspiesser': 5674, 'liberale': 5675, 'ueberrascht': 5676, 'ordentlich': 5677, 'hatinjuce': 5678, 'prote': 5679, 'luetzowq': 5680, 'louiecrit': 5681, 'umut': 5682, 'landhaustussy': 5683, 'akademikern': 5684, 'facharbeitern': 5685, 'fachkrae': 5686, 'fabian': 5687, 'gabalier': 5688, 'gespiel': 5689, 'fratello': 5690, '2013': 5691, 'entreisst': 5692, 'generalsekretaer': 5693, 'groehe': 5694, 'fahne': 5695, 'hoshisato': 5696, 'halswirbel': 5697, 'auuuaaa': 5698, 'unreine': 5699, 'nervenwasser': 5700, 'dasdrittebein': 5701, 'heyhoheyyy': 5702, 'diktie': 5703, 'naemlic': 5704, 'verena': 5705, 'bahlsen': 5706, 'docboone71': 5707, 'umsetzbar': 5708, 'franksteinbach7': 5709, 'pest': 5710, 'lmaoskar': 5711, 'scralex1899': 5712, 'aids': 5713, 'gehasst': 5714, 'hintergehen': 5715, 'schliche': 5716, 'echtjetzt5': 5717, 'eiffelturm': 5718, 'shlomosapiens': 5719, 'echte': 5720, 'abarbeiten': 5721, 'tipp': 5722, 'beacon4711': 5723, 'zuzusehen': 5724, 'zaehne': 5725, 'unspo': 5726, 'liche': 5727, 'plug': 5728, 'anschliessend': 5729, 'noc': 5730, 'roger896': 5731, 'scheisze': 5732, 'tapeten': 5733, 'besali': 5734, 'naddl0r': 5735, 'endhaltestelle': 5736, 'versuchsweise': 5737, 'wahre': 5738, 'mdemanto': 5739, 'yuna': 5740, 'swimswamnews': 5741, 'jahrgangsmeisterschaften': 5742, 'tobehn': 5743, 'bestzeit': 5744, 'vbqn1': 5745, '1325leon': 5746, 'elvtejan': 5747, 'rqndomabc': 5748, 'skalter': 5749, 'skal': 5750, 'mic': 5751, 'nprncbl': 5752, 'beibootpetri03': 5753, 'eieiei': 5754, 'wiederhole': 5755, 'ungerne': 5756, 'mikemacapple': 5757, 'polizisten': 5758, 'polizeiwache': 5759, 'seelenverbrannt': 5760, 'salty': 5761, 'elli': 5762, 'abgefuckt': 5763, 'h3rzanh3rz': 5764, 'mystisch': 5765, 'besondere': 5766, 'klimafluechtlinge': 5767, 'begriffsklaerung': 5768, 'mallorca': 5769, 'frauenkrper': 5770, 'bae': 5771, 'mathegenies': 5772, 'gtr': 5773, 'anzug': 5774, '160': 5775, 'yoooo': 5776, 'unechtemax': 5777, 'mustixiii': 5778, '04': 5779, 'transe': 5780, 'penisbilder': 5781, '3some': 5782, 'thedouble6': 5783, 'msucrier': 5784, 'thenewlife31': 5785, 'schnurpsen': 5786, 'popcorns': 5787, 'alman': 5788, 'kruzifix': 5789, 'amtsstube': 5790, 'kultursymbol': 5791, 'politischer': 5792, 'sabine': 5793, 'danielkapp': 5794, 'arg': 5795, 'beunruhigend': 5796, 'armseliges': 5797, 'liebendes': 5798, '1938': 5799, 'gew': 5800, 'symbol': 5801, 'synonym': 5802, 'sgewandte': 5803, 'geworde': 5804, 'rattenlinie': 5805, 'flohen': 5806, 'suedamerika': 5807, 'argentinien': 5808, 'juan': 5809, 'albe': 5810, 'fam': 5811, 'wavvyboi': 5812, 'houelle': 5813, 'zeichen': 5814, 'nichtnilo': 5815, 'meld': 5816, 'fragte': 5817, 'mdr': 5818, 'san': 5819, 'ted': 5820, 'telefonumfrage': 5821, 'riefen': 5822, 'zuschau': 5823, 'denniskoch87': 5824, 'jezus': 5825, 'auferstanden': 5826, 'bl0ckversace': 5827, 'nike': 5828, 'serixuz': 5829, 'aso': 5830, 'aufgestanden': 5831, 'gonzos': 5832, 'sympathisieren': 5833, 'holzen': 5834, 'uralte': 5835, 'waelder': 5836, 'baeume': 5837, 'euberu': 5838, 'acuba': 5839, 'genehmige': 5840, 'abends': 5841, 'einen': 5842, 'fuenfe': 5843, 'eichiblubbbel': 5844, 'afpde': 5845, 'greenpeace': 5846, 'ladybitchray1': 5847, 'euch': 5848, 'betruegt': 5849, 'besoffen': 5850, 'najlepse': 5851, 'hotttt': 5852, 'justitz': 5853, 'eraser': 5854, 'org': 5855, 'luegenpack': 5856, 'verscheissern': 5857, 'realbuschkamel': 5858, 'intelligender': 5859, 'positiv': 5860, 'besetzten': 5861, 'themen': 5862, 'kindererzieh': 5863, 'funkhauszorra': 5864, 'politikstandard': 5865, 'einwanderungs': 5866, 'integrationsland': 5867, 'verbindet': 5868, 'fu': 5869, 'you': 5870, 'androidcentral': 5871, 'mate9': 5872, 'mate20x': 5873, 'geworden': 5874, 'seitdem': 5875, 'scuderi': 5876, 'espol': 5877, 'khentay': 5878, 'rusalochka': 5879, 'kaeffchen': 5880, 'reparieren': 5881, 'treff': 5882, 'schwarzeloewe': 5883, 'christoph': 5884, 'schwoer': 5885, 'allerbeste': 5886, 'friss': 5887, 'crunchy': 5888, 'nuts': 5889, 'sasiiii000': 5890, 'ahhh': 5891, 'xpandorya': 5892, 'fana': 5893, 'eosandy': 5894, 'iunahri': 5895, 'blabla': 5896, 'unterschiedlich': 5897, 'drop': 5898, 'temperatur': 5899, 'celsius': 5900, 'starlucycat': 5901, 'got': 5902, 'penis': 5903, 'halb': 5904, 'doppelte': 5905, 'heidiklum': 5906, 'vogelsabine': 5907, 'weidel': 5908, 'steinzeit': 5909, 'antwerpairpo': 5910, 'grove': 5911, 'schendng': 5912, 'skeyes': 5913, 'belgocontrol': 5914, 'rgls': 5915, '3257ft': 5916, 'snake': 5917, 'kaa': 5918, 'ploetzlich': 5919, 'russischer': 5920, 'kriegsgefange': 5921, 'indoktrinierung': 5922, 'unis': 5923, 'dauerwerbung': 5924, 'krstdt': 5925, 'schueler': 5926, 'uniformierung': 5927, 'gewe': 5928, 'maxheld': 5929, 'civey': 5930, 'umm': 5931, 'korrektes': 5932, 'bayesianisches': 5933, 'updating': 5934, 'dreccksack': 5935, 'stehst': 5936, 'kolben': 5937, 'herrlich': 5938, 'streamen': 5939, 'klopp': 5940, 'lfc': 5941, 'skt': 5942, 'johann': 5943, 'nodumballiance': 5944, 'flowerpowe': 5945, 'ric': 5946, 'kanzleramtsmann': 5947, 'andree': 5948, 'dominik': 5949, 'jfliegenschmidt': 5950, 'quazanga': 5951, 'schuessi': 5952, 'areimanios': 5953, 'mittwoch': 5954, 'briefwahl': 5955, 'linksfaschismus': 5956, 'marschie': 5957, 'brandgefaehrliche': 5958, 'stilisieren': 5959, 'dummdreist': 5960, 'gesinnung': 5961, 'baron': 5962, 'snoopy': 5963, 'verstehn': 5964, 'clevnestfn': 5965, 'beschaeftige': 5966, 'sinnvollem': 5967, 'borispalmer': 5968, 'intelligenteren': 5969, 'toxisch': 5970, 'wehgetan': 5971, 'bleibe': 5972, 'torstenbeeck': 5973, 'nationalhymne': 5974, 'bax': 5975, 'schulpflicht': 5976, 'heilig': 5977, 'saekulare': 5978, 'proletdo': 5979, '52': 5980, 'hoerder': 5981, 'neumarkt': 5982, 'do2505': 5983, 'nonazisdo': 5984, 'nonazis': 5985, 'huehner': 5986, 'hof': 5987, 'steuden': 5988, 'nudelkoenigin': 5989, 'sandra': 5990, 'nudelkoenigen': 5991, 'bo': 5992, 'moment': 5993, 'therocketbeans': 5994, 'waiputv': 5995, 'schwarzbild': 5996, '089': 5997, '32168': 5998, 'konservativen': 5999, 'cumkitten': 6000, 'faelle': 6001, 'p1nkl': 6002, 'f1': 6003, 'verstappen': 6004, 'sefi99': 6005, 'spasspa': 6006, 'satirepa': 6007, 'umzudenken': 6008, 'picturepunxx': 6009, 'strahl': 6010, 'orginal': 6011, 'baeder': 6012, 'ichalter': 6013, 'fuxking': 6014, 'xanax': 6015, 'ufxdl': 6016, 'politikstube': 6017, 'korny382': 6018, '19micha09': 6019, 'dachte': 6020, 'sacht': 6021, 'dasselbe': 6022, 'sammer': 6023, 'movie': 6024, 'deal': 6025, 'merida': 6026, 'highlands': 6027, 'itunes': 6028, 'tonspur': 6029, 'zeitgeschehen': 6030, 'press': 6031, 'play': 6032, 'milfs': 6033, 'nylons': 6034, 'ytalk': 6035, 'wichs': 6036, 'ulrabia': 6037, 'faekalgewitter': 6038, 'entsprechung': 6039, 'anglizismus': 6040, 'shitstorm': 6041, 'etablieren': 6042, 'ziel': 6043, 'thetickit': 6044, 'sonnensicht': 6045, 'inflationaer': 6046, 'gaehn': 6047, 'ide': 6048, 'stereotype': 6049, 'malen': 6050, 'know': 6051, 'rztin': 6052, 'orgien': 6053, 'kino': 6054, 'muschifotos': 6055, 'gedson': 6056, 'gelson': 6057, '59karli82': 6058, 'nicolabeerfdp': 6059, 'finanzminister': 6060, 'profitie': 6061, 'niedrigzinspolitik': 6062, 'chaoten': 6063, 'kuemmern': 6064, 'schlawiner8': 6065, 'meedia': 6066, 'nuetzlichen': 6067, 'eidiger': 6068, 'indianern': 6069, 'luchste': 6070, 'glasperlen': 6071, 'feuerwasser': 6072, 'humanitaer': 6073, 'lukkkkkkas': 6074, 'sashimi': 6075, 'chipundcharge': 6076, 'spektakulaerer': 6077, 'tiebreak': 6078, 'thiem': 6079, 'matchball': 6080, 'chanyeolbucky': 6081, 'wokeupcry1ng': 6082, 'juukichiix': 6083, 'uebelst': 6084, 'allaboutnext': 6085, 'dtrnsfrmtn': 6086, 'tierschutz': 6087, 'mitgliedsantrag': 6088, 'brettwelten': 6089, 'grinseschaf': 6090, 'gras': 6091, 'achsooo': 6092, 'captblwillard': 6093, 'politikverdrossenheit': 6094, 'neukoellner': 6095, 'innen': 6096, 'wohngeld': 6097, 'berlinpass': 6098, 'vorweisung': 6099, 'g4rl1n': 6100, 'reicher': 6101, 'eusebio': 6102, 'statik': 6103, 'fettleibig': 6104, 'groesse': 6105, '36': 6106, 'auc': 6107, 'pyramoscgn1': 6108, 'faste': 6109, 'straw': 6110, 'berry': 6111, 'wichtigtuer': 6112, 'halbblutjurist': 6113, 'bashing': 6114, 'ehrenmannerich': 6115, 'kocht': 6116, 'chilli': 6117, 'ketchup': 6118, 'oder': 6119, 'geldgierig': 6120, 'geringsten': 6121, 'tipps': 6122, 'immofux': 6123, 'hoteltagebuch': 6124, 'immorogers': 6125, 'makler1muenchen': 6126, 'ramathiasmuench': 6127, 'immovation': 6128, 'stadtvermieter': 6129, 'seriously': 6130, 'anxiety': 6131, 'kicken': 6132, 'high': 6133, 'farge': 6134, '41': 6135, '59': 6136, 'betriebliche': 6137, 'sey': 6138, 'prons': 6139, 'joujzz': 6140, 'nakte': 6141, 'vidios': 6142, 'faint': 6143, 'visions': 6144, 'live': 6145, 'erlebe': 6146, 'sitzplatzknigge': 6147, 'zug': 6148, 'sitzplatz': 6149, 'taschen': 6150, 'kei': 6151, 'somext': 6152, 'migrationspolitik': 6153, 'geforde': 6154, 'supergefaehrliche': 6155, 'kernkraft': 6156, 'gerettet': 6157, 'aerzte': 6158, 'baekaktuell': 6159, 'diskussionsbeitraege': 6160, 'urlaub': 6161, 'theologisches': 6162, 'erzeugt': 6163, 'geschichte': 6164, 'vorschein': 6165, 'sinnvoll': 6166, 'verbot': 6167, 'schwarzer': 6168, 'kleindungsstueck': 6169, 'namevergeben': 6170, 'lgbt': 6171, 'livbar': 6172, 'neuer': 6173, 'natalie': 6174, 'alba': 6175, 'pornstarscms': 6176, 'mehrkill': 6177, 'krimigranten': 6178, 'higgins': 6179, 'zaentschurie': 6180, 'decider': 6181, 'come': 6182, 'john': 6183, '147sf': 6184, 'ausgenutzt': 6185, 'pornoclips': 6186, 'sinnlicher': 6187, 'paralleluniversum': 6188, 'sylt': 6189, 'foto': 6190, 'solltest': 6191, 'beeilen': 6192, 'duscht': 6193, 'fruehstueck': 6194, 'liba443': 6195, 'verpasste': 6196, 'anrufe': 6197, 'mama': 6198, 'zuhause': 6199, 'frxnckisdead': 6200, 'makeup': 6201, 'traegst': 6202, 'schwul': 6203, 'mindset': 6204, 'tassenhalskette': 6205, 'meme': 6206, 'ungebildete': 6207, 'schulschwaenzer': 6208, 'schnauft': 6209, 'genervt': 6210, 'anrah83': 6211, 'wichtigste': 6212, 'sonstwo': 6213, 'dplautzi': 6214, 'fiqqqqqhure': 6215, 'akskshs': 6216, 'indiestrolche': 6217, 'indiearenabooth': 6218, 'stand': 6219, 'maskulin': 6220, 'iab': 6221, 'europarat': 6222, 'bundesaussenminister': 6223, 'ministe': 6224, 'reffen': 6225, 'europarats': 6226, 'helsink': 6227, 'allem': 6228, 'sprueche': 6229, 'bekannt': 6230, 'kittodario': 6231, 'stephan535': 6232, 'buje78': 6233, 'berxe': 6234, 'enes': 6235, 'gekuesst': 6236, 'lil': 6237, 'juri': 6238, 'besoffene': 6239, 'sklave': 6240, 'onlien': 6241, 'beeg': 6242, 'juegos': 6243, 'uebersetzen': 6244, 'mehrzahl': 6245, 'kommentare': 6246, 'zeitsparend': 6247, 'zusammenzufassen': 6248, 'bilgiliueretmen': 6249, 'sultan44613857': 6250, 'bilgili': 6251, 'wei': 6252, 'thez0ldyck': 6253, 'faito': 6254, 'volkswagen': 6255, 'laurent': 6256, 'janmod': 6257, 'elrobtossohn': 6258, 'gitarre3': 6259, 'luxiboxde': 6260, 'nutze': 6261, 'produzieren': 6262, 'rechtssta': 6263, 'sahur': 6264, 'schlafrhythmus': 6265, 'loay': 6266, 'mudhoon': 6267, 'raz': 6268, 'andres': 6269, 'christianruch': 6270, 'politifinnmark': 6271, 'eierdiebe': 6272, 'katarinabarley': 6273, 'udobullmann': 6274, 'dieu': 6275, 'playlist': 6276, 'annarosabrito': 6277, 'tue': 6278, 'politkaste': 6279, 'stampft': 6280, 'wut': 6281, 'dolle': 6282, 'seelennachtinfo': 6283, 'stripen': 6284, 'sexfilm': 6285, 'ltere': 6286, 'frauenpornos': 6287, 'scheinleben': 6288, 'mut': 6289, 'einredest': 6290, 'piss': 6291, 'schwein': 6292, 'vivian': 6293, 'geplatzt': 6294, 'pensi': 6295, 'wichsorgie': 6296, 'explodie': 6297, 'unterscheidet': 6298, 'zorn': 6299, 'hervorgerufen': 6300, 'lissy': 6301, 'extra': 6302, 'ni': 6303, 'archiphilologus': 6304, 'archi': 6305, 'such': 6306, 'most': 6307, 'privileged': 6308, 'shit': 6309, 'imarior': 6310, 'wahlborn': 6311, 'iknowreview': 6312, 'blackpantherrav': 6313, 'lemmystechkiste': 6314, 'image': 6315, 'solang': 6316, 'fruehzeitig': 6317, 'geruechten': 6318, 'machtwo': 6319, 'gipfelkanzlerin': 6320, 'hofreiter': 6321, 'schaeuble': 6322, 'scholz': 6323, 'telepolis': 6324, 'jesidinnen': 6325, 'unterwelt': 6326, 'kuschelt': 6327, 'blase': 6328, 'asoziale': 6329, 'nichtsnutzige': 6330, 'unterstue': 6331, 'massive': 6332, 'kohleabbau': 6333, 'armee': 6334, 'yout': 6335, 'wutuniverse': 6336, 'kuss': 6337, 'heldenwieich': 6338, 'mint': 6339, 'eliteland': 6340, 'schulsystem': 6341, 'theskender': 6342, 'uwe': 6343, 'mdl': 6344, 'diskutieren': 6345, 'denkbar': 6346, 'niewiedercdu': 6347, 'implizie': 6348, 'scharia': 6349, 'einzuschleichen': 6350, 'karlaknows': 6351, 'gesoffen': 6352, 'blau': 6353, 'ueberzeugung': 6354, 'uhl': 6355, 'edu': 6356, 'verdraengt': 6357, 'jk': 6358, 'hase': 6359, 'rauche': 6360, 'verglimmendes': 6361, 'anregende': 6362, 'verpackung': 6363, 'gesc': 6364, 'och': 6365, 'investeringsfirma': 6366, 'steekt': 6367, 'blockchain': 6368, 'bloxroute': 6369, 'postmichel1': 6370, 'halbswegs': 6371, 'ausgestatte': 6372, 'haustuer': 6373, 'votzen': 6374, 'bionde': 6375, 'kvinna': 6376, 'hopp': 6377, 'severinbrandis': 6378, 'invasoren': 6379, 'ahahahaaaa': 6380, 'zweitstaerkste': 6381, 'abe': 6382, 'blackyellowl0ve': 6383, 'letrabe': 6384, 'behaind': 6385, 'gebirgsjager1': 6386, 'fuehrung': 6387, 'ch': 6388, 'ungenie': 6389, 'weltoffene': 6390, 'mensche': 6391, 'weitkamp': 6392, 'alleingang': 6393, 'lehne': 6394, 'dur': 6395, 'music': 6396, 'einzuschlafen': 6397, 'ufdieblende': 6398, 'adaequate': 6399, 'entschaedigung': 6400, 'verrammeltes': 6401, 'findisch': 6402, 'fredericlebrun': 6403, 'osram': 6404, 'deckenleuchte': 6405, 'leuchte': 6406, 'ausse': 6407, 'meets': 6408, 'monitoring': 6409, 'criteria': 6410, 'fuenferpasch': 6411, 'existie': 6412, 'meinungsfreiheit': 6413, 'atemschutz': 6414, 'deo': 6415, 'parfuem': 6416, 'drin': 6417, 'thecat': 6418, '240x200': 6419, 'leinen': 6420, 'bettwaesche': 6421, 'buegeln': 6422, 'abzuziehen': 6423, 'drpeternagel': 6424, 'elementares': 6425, 'missverstaendnis': 6426, 'merz': 6427, 'mckstf': 6428, 'buerzl': 6429, 'bisherigen': 6430, 'fakts': 6431, 'fynn': 6432, 'gefragt': 6433, 'jan69161843': 6434, 'camanpour': 6435, 'berlusco': 6436, 'einschlafe': 6437, 'barkley': 6438, 'xavi': 6439, '223bpm': 6440, 'druckluft': 6441, 'floor': 6442, 'wenig': 6443, 'benedetusmc': 6444, 'freuts': 6445, 'kovac': 6446, 'rollex': 6447, 'kalle': 6448, 'abgezogen': 6449, 'gesundem': 6450, 'menschenverstand': 6451, 'ottensheim': 6452, 'schlierbach': 6453, 'uebersiedelt': 6454, 'beruflich': 6455, 'mytrans': 6456, 'formel': 6457, 'zaandvoo': 6458, 'ariiiish': 6459, 'blonder': 6460, 'spdde': 6461, 'coribuhh': 6462, 'abtreibungen': 6463, 'dran': 6464, 'paradies': 6465, 'roterpaenda': 6466, 'wuermer': 6467, 'monetas': 6468, 'geldherrin': 6469, 'mevsimherk': 6470, 'ahhaha': 6471, 'playing': 6472, 'aquagen': 6473, '2011': 6474, 'radio': 6475, 'edit': 6476, '6ponge': 6477, 'slipknot': 6478, 'oral': 6479, 'techische': 6480, 'bondage': 6481, 'weiterer': 6482, 'fahren': 6483, 'nebe': 6484, 'kleid': 6485, 'fixifoxy': 6486, 'juliepulie3': 6487, 'astriddorothea': 6488, 'kade': 6489, 'albanien': 6490, 'heinzschmidt41': 6491, 'u21': 6492, 'spielern': 6493, 'trainingslager': 6494, 'suedtirol': 6495, 'vorlaeufige': 6496, 'kader': 6497, 'olafolafson1': 6498, 'orita': 6499, 'bella': 6500, 'donna': 6501, 'teletubbies': 6502, 'titelmelodie': 6503, 'teamalessio': 6504, '70m': 6505, 'kami': 6506, 'keins': 6507, 'japan': 6508, 'birnendung': 6509, 'goku': 6510, 'switch': 6511, 'reaktion': 6512, 'haftbefehl': 6513, 'nennt': 6514, 'vergifte': 6515, 'verfickte': 6516, 'ungluecklich': 6517, 'drecksleben': 6518, 'zentralrat1': 6519, 'vergangenheit': 6520, 'ideologische': 6521, 'verblendung': 6522, 'sprachinkompetenz': 6523, 'arbeitsleben': 6524, 'asiaten': 6525, 'euphorisch': 6526, 'skeptisch': 6527, 'dreilaender': 6528, 'ohnenahme': 6529, 'nobby1949z': 6530, 'bullshitt': 6531, 'kimmathei': 6532, 'taddl': 6533, 'dummer': 6534, 'akenoad': 6535, 'bo3': 6536, 'lorde': 6537, 'sorrynotsorry': 6538, 'alpeninitiative': 6539, 'kapitalistische': 6540, 'warenwelt': 6541, 'verdreht': 6542, 'rennt': 6543, 'anlauf': 6544, 'nicolastransgay': 6545, 'zeugen': 6546, 'repeat': 6547, 'michaellehmann': 6548, 'elltra': 6549, 'ruecktritt': 6550, 'germanletsplay': 6551, 'rate': 6552, 'unitymedia': 6553, '5minuten': 6554, 'vielleicht': 6555, '20m': 6556, 'bit': 6557, 'erikwuensche': 6558, 'wundermittel': 6559, 'unserer': 6560, 'loese': 6561, 'peitelwein': 6562, 'noringerk': 6563, 'oesterreichische': 6564, 'gaebs': 6565, '4kolner': 6566, 'soisset': 6567, 'geholfen': 6568, 'verwunde': 6569, 'erneut': 6570, 'juedische': 6571, 'weltuebernahmewaffe': 6572, 'nwo': 6573, 'goyim': 6574, 'sklavenstaat': 6575, 'nacazafps': 6576, 'spoilerst': 6577, 'garnichts': 6578, 'fuckt': 6579, 'hardcore': 6580, 'damn': 6581, 'weeberwolfgang': 6582, 'chiquitaflanke': 6583, 'ahrens': 6584, 'marcofuchs74': 6585, 'thies': 6586, 'guek62': 6587, 'hildering': 6588, 'verderben': 6589, 'infiltration': 6590, 'katze': 6591, 'bett': 6592, 'heben': 6593, 'geschlafen': 6594, 'neothemarius': 6595, 'niemehrgruen': 6596, 'moderaten': 6597, 'unbequem': 6598, 'steck': 6599, 'ikea': 6600, 'hotdogs': 6601, 'katjarosch': 6602, 'patriziavdlahn': 6603, 'vorsitzende': 6604, 'jana': 6605, 'nachrichtenagentur': 6606, 'headlessdrowned': 6607, 'fpoefails': 6608, 'heimliches': 6609, 'vorbild': 6610, 'wegsperren': 6611, 'gell': 6612, 'decken': 6613, 'linksl': 6614, 'ihea': 6615, 'langwierig': 6616, 'dich': 6617, 'ugh': 6618, 'schreibfehler': 6619, 'brillant': 6620, 'englischen': 6621, 'brilliant': 6622, 'durchein': 6623, 'racconti': 6624, 'bellissime': 6625, 'pfefferminzboi': 6626, 'ehe': 6627, 'amateur': 6628, 'anziane': 6629, 'blenderbottle': 6630, 'whiskware': 6631, 'gostack': 6632, 'eisern': 6633, 'bog': 6634, 'reissen': 6635, 'tust': 6636, 'werktagen': 6637, 'angelam21983732': 6638, 'petra58249513': 6639, 'pipo124567': 6640, 'ingenieure': 6641, 'sadsleepyloser': 6642, 'madchen': 6643, 'unwreq23': 6644, 'spoookeyy': 6645, 'vinyu23': 6646, 'akame': 6647, 'owo': 6648, 'sentakuu71': 6649, 'abgeranzte': 6650, 'tukke': 6651, 'trumps': 6652, 'knallfroesche': 6653, 'er': 6654, 'swinger': 6655, 'noticias': 6656, 'hausgemacht': 6657, 'eidigung': 6658, 'nachdenkseiten': 6659, 'sanktionieren': 6660, 'faeustchen': 6661, 'robe': 6662, '19594': 6663, 'rebound541': 6664, 'datdiscordboy': 6665, '64': 6666, 'galaxy': 6667, 'odyssey': 6668, 'homobehaviorali': 6669, 'rechtliches': 6670, 'fernsehen': 6671, 'cutie': 6672, 'ariana': 6673, 'grande': 6674, 'toll': 6675, 'lebenshaltungskosten': 6676, 'viel': 6677, 'gestiegen': 6678, 'karsten71': 6679, 'typische': 6680, 'lallend': 6681, 'gregormodos': 6682, 'ltwth19': 6683, 'afdwaehlen': 6684, 'thueringen': 6685, 'joroe14': 6686, 'goerlitz': 6687, 'franziskaol': 6688, 'kasse': 6689, 'dadurch': 6690, 'absichtlich': 6691, 'dreister': 6692, 'haeuser': 6693, 'asylbewerber': 6694, 'notunterkuenfte': 6695, 'unzumutbare': 6696, 'zustaende': 6697, 'wettbewerb': 6698, 'peinlichste': 6699, 'form': 6700, 'eskapismus': 6701, 'buehlbecker': 6702, 'reil': 6703, 'pickel': 6704, 'parlamentsverach': 6705, 'bemerken': 6706, 'suspendie': 6707, 'slimemock': 6708, 'kollege': 6709, 'hau': 6710, 'euli': 6711, 'perfektes': 6712, 'date': 6713, 'kramerga': 6714, 'enbau': 6715, 'bringen': 6716, 'livingwall': 6717, 'aufdassdiestaedtegruenerwerden': 6718, 'jochenflasba': 6719, 'einzusparen': 6720, 'eheluder': 6721, 'enfrogge': 6722, 'suechtig': 6723, 'offensiv': 6724, 'ablaeuft': 6725, 'kandidatin': 6726, 'derzeitigen': 6727, 'ausg': 6728, 'interaktiv': 6729, 'wande': 6730, 'euelections2019': 6731, 'waehlerwa': 6732, 'kloebermeraxl': 6733, 'buerostuhlgrossepersonen': 6734, 'buerostuehlmeraxl': 6735, 'buerostuhl': 6736, 'gesundes': 6737, 'mer78': 6738, 'xs': 6739, 'juliusivx': 6740, 'frauproper': 6741, 'darlings': 6742, 'sebastiankurz': 6743, 'boomer': 6744, 'herzberg': 6745, 'jchristandl': 6746, 'bagasch': 6747, 'versagt': 6748, 'dinge': 6749, 'werde': 6750, 'schaltplaene': 6751, 'latex': 6752, 'frittenmelly': 6753, 'bilda': 6754, 'honestly': 6755, 'james': 6756, 'palette': 6757, 'gut': 6758, 'loswer': 6759, 'french': 6760, 'open': 6761, 'aussenseiter': 6762, 'chancenlos': 6763, 'tennis': 6764, 'nadal': 6765, 'parents4future': 6766, 'wozukunft': 6767, 'ansichten': 6768, 'breezypayback': 6769, 'stattwie': 6770, 'dasitzt': 6771, 'romannervnicht': 6772, 'kah': 6773, 'falsche': 6774, 'herangehensweise': 6775, 'veterinaer': 6776, 'duschen': 6777, 'handtuch': 6778, 'grin': 6779, 'leopoldstammler': 6780, 'guenschl': 6781, 'aprestros': 6782, 'hoebi75': 6783, 'helenesteiner4': 6784, 'befehlsempfaenger': 6785, 'mimmismama': 6786, 'christophnebgen': 6787, 'suuuper': 6788, 'rhythmusgefuehl': 6789, 'sparkurs': 6790, 'abgaben': 6791, 'unternehmensteuern': 6792, 'senken': 6793, 'hilfebinhure': 6794, 'htoastbrot': 6795, 'brauner': 6796, '254': 6797, '122': 6798, 'madia': 6799, 'rasmusandresen': 6800, 'vorfahr': 6801, 'abbaurecht': 6802, 'enneaeterisch': 6803, 'kamnonym': 6804, 'frontet': 6805, 'kanak': 6806, 'stabilen': 6807, 'sponsorn': 6808, 'kleinerdonner': 6809, 'aergern': 6810, 'helarctos': 6811, 'gegenueber': 6812, 'katzentisch': 6813, 'obvsthiam': 6814, 'immo': 6815, 'alscumbro': 6816, 'wowyyyy': 6817, 'aqosteee': 6818, 'cclearz': 6819, 'dikka': 6820, 'ratter': 6821, 'verballer': 6822, 'kugeln': 6823, 'kuda': 6824, 'lindner': 6825, 'welle': 6826, 'haidball': 6827, 'charaktere': 6828, 'nowottny': 6829, 'warmes': 6830, 'koelsch': 6831, 'gefrieren': 6832, 'dwarfplanet': 6833, 'der': 6834, 'wahlsieg': 6835, 'tuebingen': 6836, 'gruener': 6837, 'wandazietz': 6838, 'wegschmeissen': 6839, 'einzigste': 6840, 'geliebten': 6841, 'baka': 6842, 'exfreund': 6843, 'uebri': 6844, 'nationalsozialisten': 6845, 'idealisten': 6846, 'spdler': 6847, 'stein': 6848, 'chemnitz': 6849, 'identitaeren': 6850, 'dburschenschaft': 6851, 'kalbitz': 6852, 'hoecke': 6853, 'alex': 6854, 'malenki': 6855, 'senajulya': 6856, 'passivalerio': 6857, 'christianxxx1': 6858, 'dos': 6859, 'meninos': 6860, 'transexclub': 6861, 'spritzt': 6862, 'retweeten': 6863, 'bastarde': 6864, 'helgebruhn': 6865, 'ollilein69': 6866, 'insgesamt': 6867, 'beinfrei': 6868, 'rico': 6869, 'hihi': 6870, 'spr': 6871, 'matteosalvinimi': 6872, 'macrons': 6873, 'junckers': 6874, 'grit': 6875, 'itookmyprozac': 6876, 'kuck': 6877, 'kriminalitaetsstatistik': 6878, 'iaminhellandyou': 6879, 'mlchelangelhoe': 6880, 'currygewuerz': 6881, 'iamomarscurr': 6882, 'iulieeer': 6883, 'valuwunr2': 6884, 'alben': 6885, 'cooler': 6886, 'permanenten': 6887, 'releases': 6888, 'nicoivang19': 6889, 'uber': 6890, 'uninteressant': 6891, 'verblendeten': 6892, 'anluegen': 6893, 'sooooo': 6894, 'kalllllttttt': 6895, 'friere': 6896, 'dialyse': 6897, 'animus': 6898, 'rooz': 6899, 'verstehst': 6900, 'zurueckzuschlagen': 6901, 'influenzer': 6902, 'irgend': 6903, 'clown': 6904, 'angerufen': 6905, 'peruecke': 6906, 'hoodie': 6907, 'aermel': 6908, 'hochkrempeln': 6909, 'shi': 6910, 'entgegengeifern': 6911, 'kanzler': 6912, 'herbeisch': 6913, 'angolanischen': 6914, 'steht': 6915, 'hinzufuegen': 6916, 'angolani': 6917, 'ballou381': 6918, 'sauer': 6919, 'steu': 6920, 'easpo': 6921, 'sfifa': 6922, 'ea': 6923, 'vollziehen': 6924, 'polygamistischen': 6925, 'einbuergerungsgesetz': 6926, 'rechtlich': 6927, 'jen': 6928, 'dieliebeanna': 6929, 'echtnichtstevo': 6930, '2theskyy': 6931, 'verden': 6932, '07': 6933, '08': 6934, 'betrieblich': 6935, 'kingabrieu': 6936, 'kkkkkkkkkkkm': 6937, 'oer': 6938, 'explosion': 6939, 'berichten': 6940, 'wahrheitsgemaess': 6941, 'anschl': 6942, 'falco': 6943, 'richie': 6944, 'turi2': 6945, 'handwerks': 6946, 'verleger': 6947, 'haenden': 6948, 'nagel': 6949, 'fj': 6950, 'murau': 6951, 'liebe': 6952, 'virginia': 6953, 'woolf': 6954, 'romantiker': 6955, 'rotwein': 6956, 'chansons': 6957, 'tanz': 6958, 'geschlechter': 6959, 'sonnenuntergang': 6960, 'neospiesser': 6961, 'hingehen': 6962, 'ab19868': 6963, 'intramorus': 6964, 'vorne': 6965, 'menschenverachtend': 6966, 'boese': 6967, 'avukatramo': 6968, 'sjetzt': 6969, 'hauptjob': 6970, 'kopftu': 6971, 'heiligen': 6972, 'hallen': 6973, 'neonlicht': 6974, 'christine': 6975, 'palleti': 6976, 'huehnchens': 6977, 'speck': 6978, 'schweinch': 6979, 'schalten': 6980, 'flashskynews': 6981, 'ex1lity': 6982, 'untagt': 6983, 'liefern': 6984, 'vorlage': 6985, 'aktionen': 6986, 'rotfaschisten': 6987, 'vlkrdhr': 6988, 'khs': 6989, 'herrenuhr': 6990, 'reaper': 6991, 'taucherband': 6992, '169': 6993, 'hanbunkurai': 6994, 'investie': 6995, 'unnormal': 6996, 'sandy4love': 6997, 'blas': 6998, 'pruegel': 6999, 'satinarsch': 7000, 'hausmeister': 7001, 'anschauen': 7002, 'mastubieren': 7003, 'fernsehfrauen': 7004, 'campingtisch': 7005, 'endozentrisch': 7006, 'yos': 7007, 'sonic': 7008, 'immernoch9': 7009, 'motivieren': 7010, 'time1608': 7011, 'alphasoulmaster': 7012, 'livault': 7013, 'smt': 7014, 'ma2ju': 7015, 'annitheduck': 7016, 'foetus': 7017, 'verhindern': 7018, 'fruehlingssonne': 7019, 'erfreut': 7020, 'gluecklic': 7021, 'messen': 7022, 'verlassene': 7023, 'ferraris': 7024, 'ferrari': 7025, 'pewdiepie': 7026, 'netzwerke': 7027, 'icke': 7028, 'nrwzum0': 7029, 'manuvoice': 7030, 'gruppe': 7031, 'lachkicks': 7032, 'beniourigal': 7033, 'davon': 7034, 'nach': 7035, 'pruefungen': 7036, 'frauenstreik': 7037, 'dimensionen': 7038, 'staa': 7039, 'hangen': 7040, 'claude': 7041, 'wunderblokk': 7042, 'internetausdrucker': 7043, 'rechtskonservativ': 7044, 'rechtsradikal': 7045, 'printformat': 7046, 'tauschen': 7047, 'aurelme': 7048, 'rule': 7049, 'veli0801': 7050, 'vaderyu91': 7051, 'gaming20003': 7052, 'hilf': 7053, 'sauvagecrim': 7054, 'kanaken': 7055, 'pressefreiheit': 7056, 'zuvor': 7057, 'arac': 7058, 'yla': 7059, 'kohlekraftwerke': 7060, 'pflaster': 7061, 'windraedern': 7062, 'oeffnet': 7063, 'lobt': 7064, 'fierce': 7065, 'friday': 7066, 'apologet': 7067, 'minderwe': 7068, 'fang': 7069, 'krad75': 7070, 'festgestellt': 7071, 'metal': 7072, 'attraktiv': 7073, 'sabaton': 7074, 'haesslichen': 7075, 'hhawkeye24': 7076, 'europaweit': 7077, 'inearlierdays': 7078, 'einzige': 7079, 'schriftzug': 7080, 'tuerkischer': 7081, 'br24': 7082, 'staatsversagens': 7083, 'mildtaetigkeitswettbewerb': 7084, 'wisag': 7085, 'transpo': 7086, 'lichtenberg': 7087, 'tamaarriiss': 7088, 'toete': 7089, 'bruch': 7090, 'zivilisation': 7091, 'zivilisationsbruch': 7092, 'ronaldsullivan': 7093, 'linkermob': 7094, 'verwuestet': 7095, 'letzten': 7096, 'unglaeubigen': 7097, 'vernichtet': 7098, 'beaarep': 7099, 'erikasdreck': 7100, 'niemalsafd': 7101, 'faengt': 7102, 'auszubreiten': 7103, 'schwierigste': 7104, 'entfernen': 7105, 'performt': 7106, '03': 7107, 'btc': 7108, 'tauwetter': 7109, 'bitcoin': 7110, 'bakkt': 7111, 'deckt': 7112, 'assets': 7113, 'woker': 7114, 'danielaklucke': 7115, 'begegnungszonen': 7116, 'gescheite': 7117, 'begriffen': 7118, 'masse': 7119, 'berufsbezeichnung': 7120, 'speaker': 7121, 'trendexpe': 7122, 'hiesse': 7123, 'booknerd': 7124, 'weinen': 7125, 'einmal': 7126, 'lustigralf': 7127, 'johannahh2': 7128, '28': 7129, 'absoluter': 7130, 'alleinlage': 7131, 'kauften': 7132, 'sagten': 7133, 'buh': 7134, 'langwe': 7135, 'drumrum': 7136, 'gjsh': 7137, 'glueckliche': 7138, 'aminajxx': 7139, 'denise': 7140, 'loop': 7141, 'ltwsh': 7142, 'szenecode': 7143, 'wies': 7144, 'senfmaedchen': 7145, 'meh': 7146, 'trottel': 7147, 'raffen': 7148, 'verfassungsschutz': 7149, 'sma': 7150, 'traderbulls': 7151, 'fragdenstaat': 7152, 'zensurheberrecht': 7153, 'bfr': 7154, 'zugangscodes': 7155, 'glyphosat': 7156, 'gutachten': 7157, 'antragstellern': 7158, '73rieck': 7159, 'torben12045934': 7160, 'linksgruenen': 7161, 'auspraegung': 7162, 'kampagnengesteue': 7163, 'undemokratisch': 7164, 'schlafen': 7165, 'freehippiegirl': 7166, 'leichten': 7167, 'kotzreiz': 7168, 'verspottet': 7169, 'palastluger': 7170, 'pelzige': 7171, 'ergergruesse': 7172, 'suskadse': 7173, 'hapelanger': 7174, 'atemlos': 7175, 'wau': 7176, 'hottt': 7177, 'hbsch': 7178, 'relazione': 7179, 'vidio': 7180, 'pono': 7181, 'warschau': 7182, 'abgeschaut': 7183, 'montage': 7184, 'mrln63': 7185, 'hxnaz': 7186, 'sarma': 7187, 'weinblaetter': 7188, 'ahah': 7189, 'sksks': 7190, 'rande': 7191, 'momente': 7192, 'natasnoctem': 7193, 'jerk': 7194, 'step': 7195, 'focusonline': 7196, 'wiedereinfuehrung': 7197, 'todesstrafe': 7198, 'faho74': 7199, 'hochstapler': 7200, 'narzisstisches': 7201, 'kleinanzeigen': 7202, 'geizigste': 7203, 'gefuellteste': 7204, 'erde': 7205, 'probeabstimmungen': 7206, 'derstandardat': 7207, 'flygskam': 7208, 'klimaproteste': 7209, 'inlandsfluegen': 7210, 'henningmayone': 7211, 'ahh': 7212, 'biene': 7213, '26maicdu': 7214, 'freubier': 7215, 'bwjetzt': 7216, 'cardigan': 7217, 'friendship': 7218, 'marwosdeath': 7219, 'hallenbadbau': 7220, 'kamenz': 7221, 'metalgod1975': 7222, 'ruppen': 7223, 'erinnerungen': 7224, 'derplietscher': 7225, 'quatsch': 7226, 'wicht': 7227, 'erdokan': 7228, 'aniesmann': 7229, 'kandidie': 7230, 'nachfolge': 7231, 'fraktionskollegen': 7232, 'klausur': 7233, 'aufgab': 7234, 'beat': 7235, 'konzentriere': 7236, 'injamorgan': 7237, 'erotikliteratur': 7238, 'directo': 7239, 'grosse': 7240, 'yung': 7241, 'arkan2': 7242, 'lieferzeit': 7243, 'stornieren': 7244, '9': 7245, 'apuleius': 7246, 'doktorhut': 7247, 'molligekleinesie83': 7248, 'amunet': 7249, 'ac': 7250, 'danielrschmidt': 7251, 'judith': 7252, 'kerr': 7253, 'rosa': 7254, 'kaninchen': 7255, 'stahl': 7256, 'konfrontation': 7257, 'bunny': 7258, 'huh': 7259, 'versauter': 7260, 'geschlechtsverkehr': 7261, 'frauenporno': 7262, 'gesund': 7263, 'faz': 7264, 'verfasster': 7265, 'dieseratze': 7266, 'hoere': 7267, 'utawie': 7268, 'herauslassen': 7269, 'm95': 7270, 'stefanhechl': 7271, 'playbook': 7272, '1930er': 7273, 'glitzeratom': 7274, 'muetter': 7275, 'selbsterhoehung': 7276, 'suhlen': 7277, 'tickt': 7278, 'anders': 7279, 'pappnasen': 7280, 'politclowns': 7281, 'bestimmen': 7282, 'lizarussiahorny': 7283, 'geilsten': 7284, 'beweisen': 7285, 'nachbarin': 7286, 'gebumst': 7287, 'sado': 7288, 'mirbuergerin': 7289, 'stoeckli': 7290, 'winkelzuege': 7291, 'einseitig': 7292, 'orientie': 7293, 'augenaufde': 7294, 'vielfalt': 7295, 'moechtet': 7296, 'schmiddiemaik': 7297, 'josephine': 7298, 'gleichen': 7299, 'ausrufung': 7300, 'klimanotstand': 7301, 'verabschiedung': 7302, 'klimas': 7303, 'grafiken': 7304, 'plaetze': 7305, 'dominanz': 7306, 'fetish': 7307, 'branchenblaetter': 7308, 'headlines': 7309, 'allerdings': 7310, 'omr': 7311, 'lalilein': 7312, 'teste': 7313, 'woelken': 7314, 'kniekehle': 7315, 'zucken': 7316, 'hambi': 7317, 'hie': 7318, 'philosophen': 7319, 'uni': 7320, 'schaebigen': 7321, 'grauen': 7322, 'gebaeude': 7323, 'kennenlernten': 7324, 'daesh': 7325, 'ottos': 7326, 'hueftsteak': 7327, 'online': 7328, 'metzgereien': 7329, 'betreiben': 7330, 'bordeauxdogge2': 7331, 'trainieren': 7332, 'trockenfutter': 7333, 'stueckchen': 7334, 'einerhgw': 7335, 's11': 7336, 'bergisch': 7337, 'gladbach': 7338, '54': 7339, 'dormagen': 7340, '27': 7341, 'neuss': 7342, '45': 7343, 'outen': 7344, 'sprachrohr': 7345, 'paedophilen': 7346, 'kinderschaender': 7347, 'ovg': 7348, 'bautzen': 7349, 'volksverhetzend': 7350, 'ovgbautzen': 7351, 'strahlen': 7352, 'jahrgang': 7353, 'kanidaten': 7354, 'buergerrat': 7355, 'vaterkomplex': 7356, 'gayspacegulag': 7357, 'koenige': 7358, 'neger': 7359, 'oefter': 7360, 'gesellschaftlicher': 7361, 'rueckentwicklung': 7362, 'complaxes': 7363, 'fans': 7364, 'vereins': 7365, 'unsaegliche': 7366, 'umvolkung': 7367, 'bevoelkerung': 7368, 'veredelt': 7369, 'nachhaltig': 7370, 'bzberlin': 7371, 'grenzenlose': 7372, 'hohl': 7373, 'traurigen': 7374, 'thorsten0711': 7375, 'senioren': 7376, 'ueberfallen': 7377, 'misshandeln': 7378, 'aktenzeichenxy': 7379, 'weiteren': 7380, 'verrat': 7381, 'ehrendokto': 7382, 'itel': 7383, 'aufschwungs': 7384, 'tiptopgeheim': 7385, 'ermordung': 7386, 'zutun': 7387, 'rudolfzlabinger': 7388, 'box': 7389, 'latschen': 7390, 'airliners': 7391, 'airbus': 7392, 'informie': 7393, 'postillon': 7394, 'pervers': 7395, 'witten': 7396, 'arminschon': 7397, 'lilien': 7398, 'mspazieren': 7399, 'missbjarmstrong': 7400, 'mupfmama': 7401, 'mupf': 7402, 'kreativsten': 7403, 'sinnigsten': 7404, 'neuschoepfungen': 7405, 'juussyyy': 7406, 'rollo': 7407, 'zufrieden': 7408, 'poetmehmet': 7409, 'witziger': 7410, 'rolle': 7411, 'spielt': 7412, 'fue': 7413, 'hasst': 7414, 'aufgebaut': 7415, 'geleistet': 7416, 'taeglich': 7417, 'borussen': 7418, 'tom09': 7419, 'eafussball': 7420, 'spiele': 7421, 'aufregen': 7422, 'weekend': 7423, 'psychomolehappy': 7424, 'euc': 7425, 'schwaetzerinnen': 7426, 'rosenkohl': 7427, 'krone': 7428, 'massenzuwanderer': 7429, 'keinerlei': 7430, 'oekologisches': 7431, 'bewusstsein': 7432, 'verlaub': 7433, 'unreflektie': 7434, 'kommentaren': 7435, 'geduld': 7436, 'dic': 7437, 'evamolau': 7438, 'unterbrochen': 7439, 'geduzt': 7440, 'mansplainen': 7441, 'tr': 7442, 'fiischyyy': 7443, 'marcelmolitor2': 7444, 'codeveingame': 7445, 'psn': 7446, 'eingeben': 7447, 'anzeigefehler': 7448, 'cd': 7449, 'macco': 7450, 'ekofreezy': 7451, 'german': 7452, 'dream': 7453, 'represented': 7454, 'muahaha': 7455, 'bratzenbuch': 7456, 'klickt': 7457, 'niemalsfacebook': 7458, 'sternzeichen': 7459, 'bedeutender': 7460, 'stierhoerner': 7461, 'ophelia': 7462, 'bdsm': 7463, 'grillgeruch': 7464, 'nase': 7465, 'bratwurst': 7466, 'pharaotom': 7467, 'kaadeeey': 7468, 'pearsxon': 7469, 'lxckz': 7470, 'eskalationzz': 7471, 'zatox95': 7472, 'fxbz': 7473, 'einhorngate': 7474, 'humorlosen': 7475, 'schwaebisch': 7476, 'gmuend': 7477, 'nervermittlung': 7478, 'italienische': 7479, 'monster': 7480, 'desso': 7481, 'wasdges': 7482, 'dior20001': 7483, 'abkuerzungen': 7484, 'galt': 7485, 'gegenpol': 7486, 'heimatminister': 7487, 'teite99': 7488, 'abstimmung': 7489, 'eilen': 7490, 'kioskmein': 7491, '99bluemarlin': 7492, 'dasland': 7493, 'opoe': 7494, 'saubere': 7495, 'sexfilme': 7496, 'marcel': 7497, 'mille': 7498, 'ritter': 7499, 'roter': 7500, 'lediglich': 7501, '145': 7502, 'quellen': 7503, 'abges': 7504, 'ausweisen': 7505, 'dingenskirchenj': 7506, 'fanpost': 7507, 'laed': 7508, 'trolle': 7509, 'playoffcaleb': 7510, 'efg': 7511, 'fg': 7512, 'landesmedienanstalt': 7513, 'veraltet': 7514, 'pharmazeutisches': 7515, 'markenerzeugnis': 7516, 'schaefer': 7517, 'vgtlnd': 7518, 'heltedskelted': 7519, 'credo': 7520, 'lanas08819497': 7521, 'soziale': 7522, 'haengematte': 7523, 'achtmannstark': 7524, 'move': 7525, 'gerlet1': 7526, 'verachtens': 7527, 'zick': 7528, 'le2jh': 7529, 'ijoba': 7530, 'xpensive': 7531, 'zinhle': 7532, 'dammy': 7533, 'krane': 7534, 'youngstar': 7535, 'heavy': 7536, 'duty': 7537, 'plusdemurs': 7538, 'saalschutz': 7539, 'hm': 7540, 'stosstrupp': 7541, 'realitaet': 7542, 'queer': 7543, 'gleiche': 7544, 'scientology': 7545, 'geworben': 7546, 'melodygahlen': 7547, 'zurueckwuensche': 7548, 'marcuserlebach': 7549, 'fault': 7550, 'badespassbarbie': 7551, 'empfehle': 7552, 'riebenen': 7553, 'unterhalten': 7554, 'nac': 7555, 'sebgreiner': 7556, 'atomausstiegs': 7557, 'atomausstieg': 7558, 'speed': 7559, 'magen': 7560, 'gntm2019': 7561, 'hocke': 7562, 'fahre': 7563, '30min': 7564, 'angekommen': 7565, 'klingel': 7566, 'dezent': 7567, 'verzweife': 7568, 'andy93893217': 7569, 'wahlkampfmaschine': 7570, 'wolfgang': 7571, 'wzb': 7572, 'krillin': 7573, 'auseinanderzuhalten': 7574, 'schlussmachen': 7575, 'bakaray': 7576, 'freundlich': 7577, 'niemalscdu': 7578, 'faelt': 7579, 'vergleich': 7580, 'newcomern': 7581, 'haft': 7582, 'xatar': 7583, 'beef': 7584, 'newcomer': 7585, 'europawahlen': 7586, 'hampelmaennchen': 7587, 'verdingen': 7588, 'trommelt': 7589, 'ishaiqz': 7590, 'rrivexx': 7591, 'dopamin': 7592, 'vergeuden': 7593, 'gewunde': 7594, 'andreas': 7595, 'bvb': 7596, 'balerdi': 7597, 'abwehrspieler': 7598, 'enttaeuschung': 7599, 'luftnummer': 7600, 'hofnarr': 7601, 'studierenden': 7602, 'edeka': 7603, 'rumheulen': 7604, 'verstaendlich': 7605, 'sylviapantel': 7606, 'hgmaassen': 7607, 'sigrid': 7608, 'herrmannmarschall': 7609, 'kreises': 7610, 'filme': 7611, 'putze': 7612, 'ultra': 7613, 'nicen': 7614, 'stuff': 7615, 'evil': 7616, 'kapitalismus': 7617, 'bla': 7618, 'chrizzie93': 7619, 'andre09': 7620, '19mei89': 7621, '0610': 7622, 'flobvb666': 7623, 'borusse08': 7624, 'xvoffo': 7625, 'gruss': 7626, 'rezept': 7627, 'illegalen': 7628, 'legalen': 7629, 'sozialsstaats': 7630, 'bereicherern': 7631, 'fluten': 7632, 'city0815': 7633, 'anfange': 7634, 'sheelockmaier': 7635, 'jegliches': 7636, 'rueckstaendigkeit': 7637, 'inkompatibilitaet': 7638, 'jedes': 7639, 'trademonkeys': 7640, 'movement': 7641, 'ttcm': 7642, 'ibgr': 7643, 'krfg': 7644, 'canales': 7645, 'aupair': 7646, 'emoticon': 7647, 'anale': 7648, 'ddrmuseum': 7649, 'pocketkamera': 7650, 'pentacon': 7651, 'k16': 7652, 'ideal': 7653, 'negativformat': 7654, '13x17mm': 7655, 'museumweek': 7656, 'photomw': 7657, 'timo': 7658, 'reeg': 7659, 'fifaprogamer213': 7660, 'aglibic': 7661, 'mxlanax': 7662, 'einig': 7663, 'goekan': 7664, 'derschulze': 7665, 'fediverse': 7666, 'leichter': 7667, 'landesverband': 7668, 'rechnung': 7669, 'tempelhofer': 7670, 'gerhardschwar11': 7671, 'derwanderer4': 7672, 'truppe': 7673, '55uli': 7674, 'reingeholt': 7675, 'uciwwt': 7676, 'emakumeen': 7677, 'bira': 7678, 'uwt': 7679, 'liste': 7680, 'etappenprofile': 7681, 'ace': 7682, 'oute': 7683, 'sexist': 7684, 'schoene': 7685, 'tevsa': 7686, 'sondergipfel': 7687, 'traut': 7688, 'persona': 7689, 'non': 7690, 'grata': 7691, 'jemxkn': 7692, 'henlo': 7693, 'ate': 7694, 'jem': 7695, 'hnnnng': 7696, 'fabigumpeyt': 7697, 'leit': 7698, 'hoxatbox': 7699, 'snowowlem': 7700, 'markenbutter': 7701, 'backstage0000': 7702, 'prioritaet': 7703, 'linksradikale': 7704, 'loft': 7705, 'bekannter': 7706, 'gefluechtete': 7707, 'moria': 7708, 'zelten': 7709, 'baracken': 7710, 'mokoffiziell': 7711, '9000': 7712, 'unattraktiver': 7713, 'mateu': 7714, 'morey': 7715, 'ilkayguendogan': 7716, 'volkerweise': 7717, 'maphimoto': 7718, 'juliahorny1': 7719, 'salsapicantona': 7720, 'spanische': 7721, 'generalanwaltschaft': 7722, 'hassverbrechen': 7723, 'interpretie': 7724, 'verbre': 7725, 'eruiere': 7726, 'nextnews': 7727, 'obamas': 7728, 'harvad': 7729, 'universitaet': 7730, 'ehrend': 7731, 'wachstumspfad': 7732, 'aktienanalyse': 7733, 'kulmbach': 7734, 'extrakaese': 7735, 'frustessen': 7736, 'jansen': 7737, 'ungesund': 7738, 'fresst': 7739, 'to': 7740, 'leude': 7741, 'pspresseschau': 7742, 'huettl': 7743, 'demokratisches': 7744, 'benuetzt': 7745, 'schuetze': 7746, 'hansmll89138006': 7747, 'derherrz': 7748, 'laecherlicher': 7749, 'historie': 7750, 'loetzschmdb': 7751, 'altvorderen': 7752, 'schein': 7753, 'lautstaerke': 7754, 'ps4': 7755, 'unnuetzer': 7756, 'plastikscheisse': 7757, 'street': 7758, 'fighter': 7759, 'hooligans': 7760, 'steelerjungs': 7761, 'scheibe': 7762, 'knaeckebrot': 7763, 'lonsdale': 7764, 'gaysex': 7765, 'verdammten': 7766, 'braune': 7767, 'aj79er': 7768, 'hyracexd': 7769, '1mai': 7770, 'geistige': 7771, 'vorgaenger': 7772, 'verboten': 7773, 'mai': 7774, 'gewer': 7775, 'idiologisch': 7776, 'verblendete': 7777, 'ali': 7778, 'ans': 7779, 'mikrofon': 7780, 'verschlafn': 7781, 'nanny': 7782, 'index': 7783, 'ungesundes': 7784, 'albtraum': 7785, 'krankenversicherer': 7786, 'intellekt': 7787, 'low': 7788, 'hanging': 7789, 'fruit': 7790, 'much': 7791, 'grundrauschens': 7792, 'hoetang': 7793, 'blinder': 7794, 'krueckstock': 7795, 'skinny': 7796, 'zahnstocherbitch': 7797, 'heeeey': 7798, 'duuu': 7799, 'secondcircleosu': 7800, 'trefft': 7801, 'dokomi': 7802, 'osu': 7803, 'turnierveranstalter': 7804, 'bieten': 7805, 'moeglichkeit': 7806, 'fridgeguy': 7807, 'paulo': 7808, 'vaeterchen': 7809, 'duss': 7810, 'machtverlust': 7811, 'klarkommen': 7812, 'babysetter': 7813, 'jeans': 7814, 'adultos': 7815, 'oporno': 7816, 'vwstd': 7817, 'kordimvp': 7818, 'neeyrox': 7819, 'hahahaha': 7820, 'grandel1': 7821, 'meinanusbrennt': 7822, 'foxoderfuchs': 7823, 'eis': 7824, 'buergerliche': 7825, 'pflicht': 7826, 'abzusetzen': 7827, 'inakoslows1': 7828, 'nylonfacesitting': 7829, 'vergoetterst': 7830, 'roxyred19589189': 7831, 'fullgoonzone': 7832, 'hundefriedhoof': 7833, 'profis': 7834, 'zustand': 7835, 'angreifer': 7836, 'verlangten': 7837, 'bekehren': 7838, 'pastor': 7839, 'lehnten': 7840, 'littlepeeps1963': 7841, 'gerueche': 7842, 'jemandem': 7843, 'wahrhe': 7844, 'mount': 7845, 'stupid': 7846, 'dunningkruger': 7847, 'auslaendischen': 7848, 'hochgeschrieben': 7849, 'knuddelbacke': 7850, 'froebelschule': 7851, 'aschaffenburg': 7852, 'integrie': 7853, 'fellgerber': 7854, 'afdnbg': 7855, 'ehemalige': 7856, 'umweltpa': 7857, 'ziele': 7858, 'feuer': 7859, 'seyfe': 7860, 'rad': 7861, 'habende': 7862, 'kathrin': 7863, 'habenschaden': 7864, 'gothano': 7865, 'mitreissende': 7866, 'aufbruch': 7867, 'totalem': 7868, 'spitzenpolitikerin': 7869, 'schwulerfurry': 7870, 'freekringeh': 7871, 'discord': 7872, 'patrickkul': 7873, 'stickerbrush': 7874, 'bittersweet': 7875, 'michalocalpixel': 7876, 'realbuschpilot': 7877, 'schmeissfliege': 7878, 'tiempo': 7879, 'secure': 7880, 'joins': 7881, 'nusim': 7882, 'nering': 7883, 'network': 7884, 'rza': 7885, 'cons': 7886, 'autsch': 7887, 'ipad': 7888, 'svenishell': 7889, 'pegida': 7890, 'montagen': 7891, 'nurindresden': 7892, 'nopegidadd': 7893, 'schwiegersohn': 7894, 'schwiegermutter': 7895, 'perverse': 7896, 'amathure': 7897, 'dachbalken': 7898, 'dicklich': 7899, 'mutti': 7900, 'kuemme': 7901, 'ums': 7902, 'berufstaetigkeit': 7903, 'erlaubt': 7904, 'pflichten': 7905, 'warumeli': 7906, 'opfi': 7907, 'lsss': 7908, 'satansbrut': 7909, 'okee42203068': 7910, 'stroeermedia': 7911, 'dabiggapicta': 7912, 'twitpatli': 7913, 'operationlibero': 7914, 'knarren': 7915, 'dass': 7916, 'muslima': 7917, 'keeprespect79': 7918, 'naiv': 7919, 'aelter': 7920, 'city': 7921, 'roller': 7922, 'rumschleude': 7923, 'knoechel': 7924, 'heutzutage': 7925, 'yungestablismnt': 7926, 'panzerfahrenbot': 7927, 'zonenbiest': 7928, 'taschentuecher': 7929, 'papier': 7930, 'wegwerfen': 7931, 'sollten': 7932, 'furry': 7933, 'knallfrog': 7934, 'fussballfans': 7935, 'daenk': 7936, 'ritaliddle': 7937, 'vatikans': 7938, 'terrorista': 7939, 'komme': 7940, 'next': 7941, '138b': 7942, 'claymation': 7943, 'zwicki': 7944, 'zwacki': 7945, 'platsch': 7946, 'grunneldude': 7947, 'schnapp': 7948, 'lieblingsmenschen': 7949, 'sobald': 7950, 'kuscheln': 7951, 'rueckgaengen': 7952, 'gegensteuern': 7953, 'vergleicht': 7954, 'volkskammer': 7955, 'urgh': 7956, 'wahl2019': 7957, 'disch': 7958, 'gleisch': 7959, 'lan': 7960, 'staatliche': 7961, 'brisantes': 7962, 'dokument': 7963, 'belegt': 7964, 'linksgruene': 7965, 'gehirnwaesche': 7966, 'theviice': 7967, 'spursofficial': 7968, 'klatsche': 7969, 'overperformed': 7970, 'genuss': 7971, 'cdsuerklaerer': 7972, 'stasi': 7973, 'braunste': 7974, 'umlackie': 7975, 'sedfdj': 7976, 'seltsamerweise': 7977, 'ruebenhorst': 7978, 'erscheinen': 7979, 'undankbar': 7980, 'brehm25502987': 7981, 'teilhaben': 7982, 'eskalie': 7983, 'uebersetze': 7984, 'koeppel': 7985, 'sozialdetektive': 7986, 'spionieren': 7987, 'schwerk': 7988, 'surny': 7989, 'pedo': 7990, 'tf2': 7991, 'vielweiberei': 7992, 'mische': 7993, 'creamspeak': 7994, 'life': 7995, 'hack': 7996, 'magenspiegelung': 7997, 'hummer': 7998, 'arzt': 7999, 'verkl': 8000, 'schmidja2017': 8001, 'vorgeschickt': 8002, 'auszuloten': 8003, 'oberen': 8004, 'reagieren': 8005, 'koks': 8006, 'dein': 8007, 'faust': 8008, 'wolff1': 8009, 'wolff': 8010, 'unwaehlbar': 8011, 'bussi': 8012, 'bier': 8013, 'ruegt': 8014, 'bierdeckel': 8015, 'putzt': 8016, 'wichtiger': 8017, 'tiera': 8018, 'reisewut': 8019, 'tiefenunscharf': 8020, 'puste': 8021, 'reagie': 8022, 'scheffel': 8023, 'drdav': 8024, 'lasset': 8025, 'danken': 8026, 'benabdelazizc': 8027, 'thannith': 8028, 'scrogneugneu': 8029, 'weltweit': 8030, 'koryphaeen': 8031, 'steckst': 8032, 'bloedheit': 8033, 'staatszersetzend': 8034, 'krasavice': 8035, 'wessen': 8036, 'frauenarsch': 8037, 'hahn41729786': 8038, 'arbeitslager': 8039, 'aggressive': 8040, 'rauskommen': 8041, 'kurzistweg': 8042, 'imageberatungen': 8043, 'reglementarisch': 8044, 'eingre': 8045, 'laender': 8046, 'vereinigen': 8047, 'verbruedern': 8048, 'konse': 8049, 'duracellsheep': 8050, 'tippe': 8051, 'ohrlaeppchen': 8052, 'ojobamiji': 8053, 'players': 8054, 'alexe1789': 8055, 'unscharf': 8056, 'linkspopulisten': 8057, 'sites': 8058, 'convento': 8059, 'lantermann': 8060, 'intervenie': 8061, 'pormno': 8062, 'nahaufnahme': 8063, 'completi': 8064, 'brak': 8065, 'rothen': 8066, 'schwer': 8067, 'herbst': 8068, 'infantilen': 8069, 'trullas': 8070, 'analena': 8071, 'ska': 8072, 'kats': 8073, 'willk': 8074, 'knastdichti': 8075, 'bekaempfen': 8076, 'hoh': 8077, 'einziger': 8078, 'koscher': 8079, 'jarnderhund': 8080, 'introlohd': 8081, 'rineya': 8082, 'weeb': 8083, 'bastetfurry': 8084, 'iran': 8085, 'wahlveranstaltung': 8086, 'strachegate': 8087, 'strachepk': 8088, 'gottnan': 8089, 'akaprious': 8090, 'adulto': 8091, 'teey': 8092, 'geeh': 8093, 'deutschlandfeindlich': 8094, 'poolshark1910': 8095, 'impft': 8096, '5256verletzter1': 8097, 'evidenz': 8098, 'basie': 8099, 'inkl': 8100, 'annageilgirl': 8101, 'sagst': 8102, 'entscheide': 8103, 'tifftxxxxf': 8104, 'facts': 8105, 'ch1990ris': 8106, 'nobodysheroine': 8107, 'xdonna': 8108, 'mies': 8109, 'hugs': 8110, 'urlaubsstimmung': 8111, 'vermiesen': 8112, 'quentindupont19': 8113, 'dunkerque': 8114, 'schmusedogamos': 8115, 'itcollie': 8116, 'wem': 8117, 'vorwiegend': 8118, 'problemvie': 8119, 'chefredakteur': 8120, 'run': 8121, 'rannilein': 8122, 'mean': 8123, 'ansichtandere': 8124, 'jaehrige': 8125, '70': 8126, 'jaehrigen': 8127, 'zusammengeschlagen': 8128, 'lebensgefaehrlich': 8129, 'verle': 8130, 'juicydiablo': 8131, 'wow': 8132, 'meistens': 8133, 'sow': 8134, 'apa': 8135, 'mentnr9': 8136, 'einzigen': 8137, 'verehren': 8138, 'pauschal': 8139, 'verachten': 8140, 'allmachts': 8141, 'ichbinscaspa': 8142, 'raumplanungtv': 8143, 'lohnt': 8144, 'muehe': 8145, 'verneig': 8146, 'freyafolke': 8147, 'spooeki': 8148, 'lbe': 8149, 'kuba': 8150, 'zutreffend': 8151, 'bilat': 8152, 'denrfun': 8153, 'gottverdammt': 8154, 'ipompeule': 8155, 'vermuellte': 8156, 'verdreckte': 8157, 'afdeppen': 8158, 'pseudopatrioten': 8159, 'meilenweit': 8160, 'vorbei': 8161, 'periklesmeier': 8162, 'mextase': 8163, 'kaelter': 8164, 'sonnenaktivitaet': 8165, 'abnimmt': 8166, 'fleisch': 8167, 'abw': 8168, 'teilzeitotaku': 8169, 'denkweise': 8170, 'polen': 8171, 'crazyivan1979': 8172, 'tommykrappweis': 8173, 'gehwaehlen': 8174, 'waehl': 8175, 'istangelico': 8176, 'archangel': 8177, 'annunciate': 8178, '1433': 8179, 'earlyrenaissance': 8180, 'italiana': 8181, 'darude': 8182, 'sandstorm': 8183, '6th': 8184, 'mix': 8185, 'couchionista': 8186, 'liege': 8187, 'mizunowaverider': 8188, 'pictimundi': 8189, 'erzaehl': 8190, 'bloeder': 8191, 'sebbe2704': 8192, 'fifakadabra': 8193, 'pavard': 8194, 'rfejerwgoje4g0w4ogvkregh0e': 8195, 'beschuetzen': 8196, '5g': 8197, 'mast': 8198, 'guter': 8199, 'einwurf': 8200, 'absenkung': 8201, 'wahlalters': 8202, 'muy': 8203, 'tetonas': 8204, 'mdels': 8205, 'prominente': 8206, 'organisationen': 8207, 'werdens': 8208, 'richten': 8209, 'sammeln': 8210, 'ep': 8211, 'ansammlung': 8212, 'vollidioten': 8213, 'kolonne': 8214, 'moskaus': 8215, 'jusosdresden': 8216, 'gegoogelt': 8217, 'speer': 8218, '02': 8219, 'krokodilgemuese': 8220, 'grafik': 8221, 'erschreckend': 8222, 'bisher': 8223, 'eingeredet': 8224, 'ungebildet': 8225, 'rodrigonavarror': 8226, 'gebrochener': 8227, 'foersterjoerg': 8228, 'kapital': 8229, 'preis': 8230, 'pun': 8231, 'intended': 8232, 'schweinerei': 8233, 'neutralisie': 8234, 'befuerwo': 8235, 'klimanotstandes': 8236, 'grundrechte': 8237, 'nadelstiche': 8238, 'jh': 8239, 'gruszecki': 8240, 'jah': 8241, 'ausends': 8242, 'verein': 8243, 'wochenlang': 8244, 'gefahren': 8245, 'saeckeweise': 8246, 'tobiasinfo': 8247, 'una': 8248, 'programme': 8249, 'zusammenfassen': 8250, 'h4usmeister': 8251, 'vollidiot': 8252, 'entsorgen': 8253, 'marokanischen': 8254, 'hintergrund': 8255, 'sende': 8256, 'fakeblondinchen': 8257, 'raz0rfist': 8258, 'schloothuessi1': 8259, 'machtergreifung': 8260, 'naht': 8261, 'beissen': 8262, 'welches': 8263, 'corgis': 8264, 'hol': 8265, 'biete': 8266, 'displate': 8267, 'wund': 8268, 'stjepan': 8269, 'ivan': 8270, 'stroemungstoene': 8271, 'fuzo': 8272, 'undefinierbares': 8273, 'sprachengewirr': 8274, 'venitroll': 8275, 'mathyvin': 8276, 'zurzeit': 8277, 'thars0n': 8278, 'mirjam': 8279, 'fischer': 8280, 'rand': 8281, 'ner': 8282, 'elstunde': 8283, 'anfaengt': 8284, 'devisen': 8285, 'eurokurs': 8286, 'broeckelt': 8287, 'phelps12347': 8288, 'reimst': 8289, 'kranken': 8290, 'seastarhd': 8291, 'pause': 8292, 'wurde': 8293, 'suro': 8294, 'meg': 8295, 'efganidoenmez': 8296, 'bilden': 8297, 'monoblock': 8298, 'nachtkoenig': 8299, 'realbryanleib': 8300, 'dcexaminer': 8301, 'edlaborcmte': 8302, 'bobbyscott': 8303, 'nenne': 8304, 'niacavaon': 8305, 'irgendwo': 8306, 'maschine': 8307, 'geputzt': 8308, 'proudeucitizen': 8309, 'nation': 8310, 'ehesten': 8311, 'nationalc': 8312, 'sam': 8313, 'reisst': 8314, 'rolandnelles': 8315, 'lebenslange': 8316, 'gastprofessur': 8317, 'realjohr': 8318, 'moralischer': 8319, 'landesverrat': 8320, 'auszeichnung': 8321, 'rueckgratlos': 8322, 'wahlvieh': 8323, 'weltordnung': 8324, 'uebervo': 8325, 'handelsueberschuss': 8326, 'afrikanische': 8327, 'bauern': 8328, 'bankenabhaengikeit': 8329, 'glaesernen': 8330, 'pastelpinkjm': 8331, 'est': 8332, 'raegt': 8333, 'einfaellt': 8334, 'aerger': 8335, 'nachfolger': 8336, 'blatter': 8337, 'wil': 8338, 'hacklauch': 8339, 'vshangrila': 8340, 'tiny': 8341, 'house': 8342, 'migraene': 8343, 'mischung': 8344, 'bravehea': 8345, 'einsamer': 8346, 'hobbit': 8347, 'witzfigur': 8348, 'anonymous': 8349, 'teller': 8350, 'tassen': 8351, 'besteck': 8352, 'geklaut': 8353, 'heule': 8354, 'kkb': 8355, 'zeug': 8356, 'saschakam': 8357, 'hannoderbus': 8358, 'originaltitel': 8359, 'aiararose': 8360, 'fbieger': 8361, 'kormosklaus': 8362, 'verseucht': 8363, 'pazifik': 8364, 'stroemungen': 8365, 'meere': 8366, 'tinosoph': 8367, 'fluegel': 8368, 'fuehler': 8369, 'summst': 8370, 'maaaaannnn': 8371, 'unentschieden': 8372, 'mannschaxtdn': 8373, 'zielen': 8374, 'svwbvb': 8375, 'geisteskrank': 8376, 'rootsroy1': 8377, 'mitregie': 8378, 'armutssc': 8379, 'kazi': 8380, 'suesser': 8381, 'concealer': 8382, 'foundation': 8383, 'ausreise': 8384, 'sperre': 8385, 'verhaengt': 8386, 'inhaftie': 8387, 'mutte': 8388, 'foseti': 8389, 'hals': 8390, 'frauaufunddavon': 8391, 'alexcwha': 8392, 'ziegenstall': 8393, 'einbaerliii': 8394, 'filmen': 8395, 'tristanteuto': 8396, 'ausschnitt': 8397, 'schnelllaufdurchlauf': 8398, 'grossa': 8399, 'maedels': 8400, 'bruellen': 8401, 'contra': 8402, 'mateta': 8403, 'respektlos': 8404, 'mainz05': 8405, 'fsvmainz05': 8406, 'bundesliga': 8407, 'nachtlos': 8408, 'spekuliere': 8409, 'karmadingsbums': 8410, 'ueberlegen': 8411, 'schiethus': 8412, 'wka': 8413, 'flaechen': 8414, 'envielfalt': 8415, 'ingen': 8416, 'mountaindream5': 8417, 'dissidentder': 8418, 'frankvanvossen': 8419, 'derjenige': 8420, 'tro': 8421, 'menno': 8422, 'erkaeltet': 8423, 'klimawandel': 8424, 'fatma': 8425, 'morgana': 8426, 'lieblingsbotschaft': 8427, 'buchlaeden': 8428, '1425833': 8429, 'mails': 8430, 'mentions': 8431, 'botaniker3': 8432, 'knuddelmon': 8433, 'christianklink4': 8434, 'plenken': 8435, 'marlboroplatin': 8436, 'flugangst': 8437, 'bammel': 8438, 'soja': 8439, 'bean': 8440, 'mood': 8441, 'schwingt': 8442, 'snacc': 8443, 'ansc': 8444, 'lufthansanews': 8445, 'vorhang': 8446, 'freiraum': 8447, 'tablet': 8448, 'halterung': 8449, 'usb': 8450, 'anschluesse': 8451, 'a321neo': 8452, 'sirius': 8453, 'cmdkrieger': 8454, 'jettekrokette': 8455, 'zahlsklaven': 8456, 'supplies': 8457, 'teuer': 8458, 'hornyturkgerman': 8459, 'kaeseberg': 8460, 'infotweet': 8461, 'melissapfs': 8462, 'frreschke': 8463, 'grapsch': 8464, 'strolch': 8465, 'sinnvollen': 8466, 'anschreiben': 8467, 'kerstinwagner': 8468, 'innovative': 8469, 'myteam': 8470, 'proudtobepa': 8471, 'giutamat': 8472, 'stolzer': 8473, 'gleich': 8474, 'zielwe': 8475, 'zumindest': 8476, 'yaoi': 8477, 'boys': 8478, 'awww': 8479, 'moser': 8480, 'uniformjacken': 8481, 'saying': 8482, 'marie0ffical': 8483, 'depressed': 8484, 'cum': 8485, 'mouth': 8486, 'lutschen': 8487, 'flugzeug': 8488, 'mit': 8489, 'tschonka': 8490, 'wohnun': 8491, 'wweshieldguy': 8492, 'ernst': 8493, 'saubern': 8494, 'kuerzlich': 8495, 'ramadanan': 8496, 'realredknight': 8497, 'mh120480': 8498, 'jagrost': 8499, 'meldemuschi': 8500, 'punktabzug': 8501, 'verstoesse': 8502, 'grasundespresso': 8503, 'altmnds': 8504, 'jasmrw': 8505, 'shampoos': 8506, 'congratulations': 8507, 'vancullo': 8508, 'vermeh': 8509, 'bienen': 8510, 'erwecken': 8511, 'auserwaehlt': 8512, 'um': 8513, 'kuenstli': 8514, '09': 8515, 'goddessyasemin': 8516, 'bewundere': 8517, 'bluejeans': 8518, 'breit': 8519, 'draussen': 8520, 'tauben': 8521, 'ah': 8522, 'narzisstische': 8523, 'egomanie': 8524, 'boris': 8525, 'verlassen': 8526, 'brigitte': 8527, 'broken': 8528, 'ueberlebende': 8529, 'wahlkampfauftakt': 8530, 'petadeutschland': 8531, 'hoehle': 8532, 'masturbation': 8533, 'l00ser': 8534, 'ykanak': 8535, 'lieferando': 8536, 'haxe': 8537, 'codingcookey': 8538, 'imao': 8539, 'mohssen': 8540, 'massarrat': 8541, 'aussenminister': 8542, 'youngca': 8543, 'ridge': 8544, 'auftrage': 8545, 'dietmarba': 8546, 'langzeitschaedigung': 8547, 'galactictimmy': 8548, 'sandmann': 8549, 'mitliest': 8550, 'binaprivat': 8551, 'kernbehinde': 8552, 'bums': 8553, 'schraube': 8554, 'ssalto': 8555, 'saftigen': 8556, 'ninchen': 8557, 'deadname': 8558, 'surkunde': 8559, 'wahrscheinlich': 8560, 'marcito2018': 8561, 'misscharlez': 8562, 'aufregt': 8563, 'mitgemeint': 8564, 'drbrandner': 8565, 'spiegelredakteure': 8566, 'verschrieben': 8567, 'finsternis': 8568, 'primevideode': 8569, 'baem': 8570, 'style': 8571, 'fleabag2': 8572, 'phoebewallerbridge': 8573, 'primevideo': 8574, 'cauldron': 8575, 'kathari37057708': 8576, 'begruesst': 8577, '32etr02': 8578, 'heuchl': 8579, 'furzkissenn': 8580, 'vetovsvictory': 8581, 'loeblich': 8582, 'packen': 8583, 'latzhosen': 8584, 'diskriminie': 8585, 'gefuehlt': 8586, 'lildidgeridoo1': 8587, 'olafwedekind': 8588, 'paedophilenpolitik': 8589, 'rbarris': 8590, 'reuterspolitics': 8591, 'abides': 8592, 'lsterne': 8593, 'nutten': 8594, 'chatarrero': 8595, 'zwirn': 8596, 'iban': 8597, 'leerzeichen': 8598, 'angeben': 8599, 'schmoren': 8600, 'dreizack': 8601, 'magnumphotos': 8602, 'susan': 8603, 'meiselas': 8604, 'wins': 8605, 'prize': 8606, 'sohrab': 8607, 'hura': 8608, 'collaborates': 8609, 'with': 8610, 'fashion': 8611, 'designer': 8612, 'kiko': 8613, 'kostadinov': 8614, 'plus': 8615, 'manuel': 8616, 'dokto': 8617, 'itelklauenden': 8618, 'erwischten': 8619, 'eidbrechenden': 8620, 'hinstellt': 8621, 'beliebteste': 8622, 'vereidigt': 8623, 'uraltes': 8624, 'postulat': 8625, 'ga': 8626, 'haniawiatrek': 8627, 'tierquaelerei': 8628, 'halal': 8629, 'tiere': 8630, 'mantelgesc1': 8631, 'anemalon19': 8632, 'funktionaerin': 8633, 'hetz': 8634, 'april': 8635, 'braunauer': 8636, 'vizebuergermeister': 8637, 'dorr': 8638, 'gestoe': 8639, 'heit': 8640, 'waffen': 8641, 'dschland': 8642, 'badets': 8643, 'nuevocanario13': 8644, 'youtube': 8645, 'buntepraesident': 8646, 'versammlugsbehoerde': 8647, 'aufraeumen': 8648, 'alex1990glubb': 8649, 'privilegie': 8650, 'taetscheln': 8651, 'leine': 8652, 'asltf': 8653, 'falschinfo': 8654, 'widerspricht': 8655, 'dunn': 8656, 'akita': 8657, 'rocky': 8658, 'syrer': 8659, 'gue': 8660, 'verpruegel': 8661, 'gossenkomiker': 8662, 'bezeichnet': 8663, 'oesterreicher': 8664, 'schnell': 8665, 'statt': 8666, 'weitaus': 8667, 'geschrittener': 8668, 'arbeits': 8669, 'privatsex': 8670, 'vonerlenbach': 8671, 'bolzandrea': 8672, 'ohnehin': 8673, 'dianekrass': 8674, 'gegenwae': 8675, 'regelrechten': 8676, 'dsarkast': 8677, 'grob': 8678, 'gehst': 8679, 'gedankengut': 8680, 'uebst': 8681, 'kri': 8682, 'schoeoeoeoeoen': 8683, 'marine': 8684, 'lepen': 8685, 'suseschmitt': 8686, 'jault': 8687, 'bas': 8688, 'ton': 8689, 'gemein': 8690, 'klagen': 8691, 'bayerns': 8692, 'grenzpolizei': 8693, 'wolfgs2': 8694, 'vergessene': 8695, 'massaker': 8696, 'aleviten': 8697, 'kayemenner': 8698, 'boogie': 8699, 'underground': 8700, 'alhanda': 8701, 'kuzeng': 8702, 'zeitlinie': 8703, 'spuelen': 8704, 'felix': 8705, 'primitiven': 8706, 'gesteinigt': 8707, 'yokuzuna': 8708, 'sumo': 8709, 'pushkick': 8710, 'luft': 8711, 'kialohq': 8712, 'lieber': 8713, 'anandahasbi': 8714, 'internetmarketing': 8715, 'subversivaktiv': 8716, 'individuum': 8717, 'russophobe': 8718, 'alfunterwegs70': 8719, 'beluegen': 8720, 'kapieren': 8721, 'attacken': 8722, 'edwin': 8723, 'iboe': 8724, 'farben': 8725, 'clowns': 8726, 'verwenden': 8727, 'suanahilt': 8728, 'anstrengend': 8729, 'sandralustig13': 8730, 'mannomann': 8731, 'verwoehnte': 8732, 'furor': 8733, 'ethischen': 8734, 'ueberhoehung': 8735, 'kernkraftzwerg': 8736, 'vernascht': 8737, 'herzenssachen': 8738, 'staube': 8739, 'gezahlte': 8740, 'zeche': 8741, 'charakterschwaeche': 8742, 'alternativlose': 8743, 'gottkanzlerin': 8744, 'sammelt': 8745, 'einwanderer': 8746, 'maloche': 8747, 'gesucht': 8748, 'zis': 8749, 'versuchter': 8750, 'tots': 8751, 'shcin': 8752, 'konfermation': 8753, 'konfirmation': 8754, 'joergschindler': 8755, 'rfd': 8756, 'getoetet': 8757, 'dankeschoen': 8758, 'tisoow': 8759, 'gefaellst': 8760, 'naiven': 8761, 'wessis': 8762, 'klimaluege': 8763, 'nachr': 8764, 'pot': 8765, 'verpixelt': 8766, 'zeitw': 8767, 'hoher': 8768, 'natascher': 8769, 'toenung': 8770, 'kurzhaltende': 8771, 'haarfarbe': 8772, 'wodojiban': 8773, 'princhillmaru9': 8774, 'pussy': 8775, 'enger': 8776, 'babe': 8777, 'fraeulein': 8778, 'tessa': 8779, 'debatten': 8780, 'voranbringen': 8781, 'breche': 8782, 'fingernaegel': 8783, 'waisyszn': 8784, 'tommy': 8785, 'mufc11': 8786, 'juicycoman': 8787, 'clearmindset': 8788, 'bredasared': 8789, 'domestizieren': 8790, 'geschweige': 8791, 'integri': 8792, 'ddcyclist': 8793, 'aufklebern': 8794, 'abc321xyblabla': 8795, 'wodurch': 8796, 'ifikat': 8797, 'erwerbe': 8798, 'zerp': 8799, 'matthiashoehn': 8800, 'diegruenen': 8801, 'schafspelz': 8802, 'mollige': 8803, 'schwanzlutscher': 8804, 'asmr': 8805, 'gangbangpornos': 8806, 'gespochen': 8807, 'paddyvomdorf': 8808, 'appt': 8809, 'flug': 8810, 'capetown': 8811, 'klo': 8812, 'steuersenkung': 8813, 'steuerversagen': 8814, 'fli': 8815, 'subventionie': 8816, 'julia': 8817, 'verlinden': 8818, 'schneckentempo': 8819, 'bureg': 8820, 'punkte': 8821, '2086': 8822, 'waermeverso': 8823, 'annakatrein': 8824, 'weltpolikerin': 8825, 'biographie': 8826, 'mutige': 8827, 'progressive': 8828, 'agenda': 8829, 'ableitet': 8830, 'psemy': 8831, 'fut': 8832, 'aerge': 8833, 'improvisie': 8834, 'nagelneuen': 8835, 'glaenzenden': 8836, 'kacheln': 8837, 'dagegen': 8838, 'lackie': 8839, 'gelblich': 8840, 'wuens': 8841, 'schulle99a': 8842, 'engel': 8843, 'laien': 8844, 'schwesig': 8845, 'mafia': 8846, 'beaurisz': 8847, 'laerm': 8848, 'kaiserstrasse': 8849, 'laeutet': 8850, 'glocken': 8851, 'fenstern': 8852, 'droehnt': 8853, 'groenemeyer': 8854, 'sachsenkrieger4': 8855, 'as': 8856, 'untrade': 8857, 'ziehst': 8858, 'conclusion': 8859, 'fritzalter1': 8860, 'abitur': 8861, 'lucabbm': 8862, 'hurnsoehnen': 8863, 'allein': 8864, 'schanz': 8865, 'depressionen': 8866}\n"
          ]
        }
      ]
    },
    {
      "cell_type": "markdown",
      "source": [
        "# encoding or sequencing\n"
      ],
      "metadata": {
        "id": "mRzlwLYqKY8k"
      }
    },
    {
      "cell_type": "code",
      "source": [
        "encoded_clean_text_stem = tok_all.texts_to_sequences(clean_text_stem)\n",
        "print(clean_text_stem[0])\n",
        "print(encoded_clean_text_stem[0])"
      ],
      "metadata": {
        "colab": {
          "base_uri": "https://localhost:8080/"
        },
        "id": "LvQYVAQ9KUa0",
        "outputId": "c5749448-b88d-4b38-fd11-f7c90451160c"
      },
      "execution_count": null,
      "outputs": [
        {
          "output_type": "stream",
          "name": "stdout",
          "text": [
            "deutsche rothaarige porno reife deutsche frauen porno. deutsche politessen pornos porno deutsch inzets. \n",
            "[2, 2054, 16, 352, 2, 13, 16, 2, 2055, 88, 16, 65, 2056]\n"
          ]
        }
      ]
    },
    {
      "cell_type": "markdown",
      "source": [
        "# Pre-padding\n"
      ],
      "metadata": {
        "id": "wWorwY-hKcBK"
      }
    },
    {
      "cell_type": "code",
      "source": [
        "from keras.preprocessing import sequence\n",
        "max_length = 100\n",
        "padded_clean_text_stem = sequence.pad_sequences(encoded_clean_text_stem, maxlen=max_length, padding='pre')"
      ],
      "metadata": {
        "id": "v911ZLQqKfPi"
      },
      "execution_count": null,
      "outputs": []
    },
    {
      "cell_type": "code",
      "source": [],
      "metadata": {
        "id": "5blgDuDKl61-"
      },
      "execution_count": null,
      "outputs": []
    },
    {
      "cell_type": "markdown",
      "source": [
        "# Reading Test data and Pre-processing\n"
      ],
      "metadata": {
        "id": "jYqmeRiXKhu7"
      }
    },
    {
      "cell_type": "code",
      "source": [
        "import csv\n",
        "data_t = pd.read_csv(\"/content/germeval2019GoldLabelsSubtask1_2.txt\", sep=\"\\t\", encoding = \"UTF-8\", names=(\"text\", \"task1\", \"task2\"))\n",
        "pd.set_option('display.max_colwidth',150)\n",
        "data_t.head(10)\n",
        "\n",
        "data_t['task1'] = data_t['task1'].str.replace('OTHER', 'NOT')\n",
        "data_t\n",
        "data_t['task1'] = data_t['task1'].str.replace('OFFENSE', 'HOF')\n",
        "data_t\n"
      ],
      "metadata": {
        "colab": {
          "base_uri": "https://localhost:8080/",
          "height": 424
        },
        "id": "pLKHp4MaKhSs",
        "outputId": "a87b6551-4eaf-4e3d-bcc1-600879a7eab4"
      },
      "execution_count": null,
      "outputs": [
        {
          "output_type": "execute_result",
          "data": {
            "text/plain": [
              "                                                                                                                                                       text  \\\n",
              "0                                       @JanZimmHHB @mopo Komisch das die Realitätsverweigerung immer von linken erbärmlichen Correctiv Accounts ausgeht...   \n",
              "1                   @faznet @Gruene_Europa @SPDEuropa @CDU CDU steht seid Strauss, Kohl, Schäuble, vdLeyen für Korruption, Schwarzgeld, und dies überall...   \n",
              "2                                                                @DLFNachrichten Die Gesichter, Namen, Religion der Täter würde zur Aufklärung beitragen...   \n",
              "3     @welt Wie verwirrt muss man sein um sich zu weigern die Tatsachen anzuerkennen, das dieser Hass von Ferkel importiert wurde....was bezweckt man da...   \n",
              "4     @hacker_1991 @torben_braga Weil die AfD den Ferkelfunk abschaffen will, deshalb haben die Linken Zecken, Schmarotzer Angst für ihr kacken arbeiten...   \n",
              "...                                                                                                                                                     ...   \n",
              "3026  Es fand aber nie eine Emanzipierungs-Phase der Zivil-Bevölkerung statt (wahrscheinlich weil das Militär jeder Abweichung im Wege stand). Gesellsch...   \n",
              "3027  Um es klar zu stellen: Ich will hier kein White-Washing betreiben (hätte er die Unterstützung der Kurden gegen die Entente-Mächte wie versprochen ...   \n",
              "3028       Und dann habe ich da noch die McArthur-Briefe im Sinn. Alles in allem ist mein Eindruck der, dass er damals moderner war als heutige Kemalisten.   \n",
              "3029        al sehen wer der Ersatzmann wird. Hier könnte man ggf. die aktuelle Richtung des VS korrigieren. Erfahrungsbedingt habe ich da etliche Zweifel.   \n",
              "3030  @JKasek Oder die Bäume. Bin mal in 'nem Wald spazieren gegangen und so'n Baum griff mich doch glatt mit 'nem Zapfen an. Bin noch mal mit meinem Le...   \n",
              "\n",
              "     task1   task2  \n",
              "0      HOF  INSULT  \n",
              "1      HOF   ABUSE  \n",
              "2      NOT   OTHER  \n",
              "3      HOF   ABUSE  \n",
              "4      HOF   ABUSE  \n",
              "...    ...     ...  \n",
              "3026   NOT   OTHER  \n",
              "3027   NOT   OTHER  \n",
              "3028   NOT   OTHER  \n",
              "3029   NOT   OTHER  \n",
              "3030   NOT   OTHER  \n",
              "\n",
              "[3031 rows x 3 columns]"
            ],
            "text/html": [
              "\n",
              "  <div id=\"df-93170927-25c9-4663-af52-14f707f1ba76\">\n",
              "    <div class=\"colab-df-container\">\n",
              "      <div>\n",
              "<style scoped>\n",
              "    .dataframe tbody tr th:only-of-type {\n",
              "        vertical-align: middle;\n",
              "    }\n",
              "\n",
              "    .dataframe tbody tr th {\n",
              "        vertical-align: top;\n",
              "    }\n",
              "\n",
              "    .dataframe thead th {\n",
              "        text-align: right;\n",
              "    }\n",
              "</style>\n",
              "<table border=\"1\" class=\"dataframe\">\n",
              "  <thead>\n",
              "    <tr style=\"text-align: right;\">\n",
              "      <th></th>\n",
              "      <th>text</th>\n",
              "      <th>task1</th>\n",
              "      <th>task2</th>\n",
              "    </tr>\n",
              "  </thead>\n",
              "  <tbody>\n",
              "    <tr>\n",
              "      <th>0</th>\n",
              "      <td>@JanZimmHHB @mopo Komisch das die Realitätsverweigerung immer von linken erbärmlichen Correctiv Accounts ausgeht...</td>\n",
              "      <td>HOF</td>\n",
              "      <td>INSULT</td>\n",
              "    </tr>\n",
              "    <tr>\n",
              "      <th>1</th>\n",
              "      <td>@faznet @Gruene_Europa @SPDEuropa @CDU CDU steht seid Strauss, Kohl, Schäuble, vdLeyen für Korruption, Schwarzgeld, und dies überall...</td>\n",
              "      <td>HOF</td>\n",
              "      <td>ABUSE</td>\n",
              "    </tr>\n",
              "    <tr>\n",
              "      <th>2</th>\n",
              "      <td>@DLFNachrichten Die Gesichter, Namen, Religion der Täter würde zur Aufklärung beitragen...</td>\n",
              "      <td>NOT</td>\n",
              "      <td>OTHER</td>\n",
              "    </tr>\n",
              "    <tr>\n",
              "      <th>3</th>\n",
              "      <td>@welt Wie verwirrt muss man sein um sich zu weigern die Tatsachen anzuerkennen, das dieser Hass von Ferkel importiert wurde....was bezweckt man da...</td>\n",
              "      <td>HOF</td>\n",
              "      <td>ABUSE</td>\n",
              "    </tr>\n",
              "    <tr>\n",
              "      <th>4</th>\n",
              "      <td>@hacker_1991 @torben_braga Weil die AfD den Ferkelfunk abschaffen will, deshalb haben die Linken Zecken, Schmarotzer Angst für ihr kacken arbeiten...</td>\n",
              "      <td>HOF</td>\n",
              "      <td>ABUSE</td>\n",
              "    </tr>\n",
              "    <tr>\n",
              "      <th>...</th>\n",
              "      <td>...</td>\n",
              "      <td>...</td>\n",
              "      <td>...</td>\n",
              "    </tr>\n",
              "    <tr>\n",
              "      <th>3026</th>\n",
              "      <td>Es fand aber nie eine Emanzipierungs-Phase der Zivil-Bevölkerung statt (wahrscheinlich weil das Militär jeder Abweichung im Wege stand). Gesellsch...</td>\n",
              "      <td>NOT</td>\n",
              "      <td>OTHER</td>\n",
              "    </tr>\n",
              "    <tr>\n",
              "      <th>3027</th>\n",
              "      <td>Um es klar zu stellen: Ich will hier kein White-Washing betreiben (hätte er die Unterstützung der Kurden gegen die Entente-Mächte wie versprochen ...</td>\n",
              "      <td>NOT</td>\n",
              "      <td>OTHER</td>\n",
              "    </tr>\n",
              "    <tr>\n",
              "      <th>3028</th>\n",
              "      <td>Und dann habe ich da noch die McArthur-Briefe im Sinn. Alles in allem ist mein Eindruck der, dass er damals moderner war als heutige Kemalisten.</td>\n",
              "      <td>NOT</td>\n",
              "      <td>OTHER</td>\n",
              "    </tr>\n",
              "    <tr>\n",
              "      <th>3029</th>\n",
              "      <td>al sehen wer der Ersatzmann wird. Hier könnte man ggf. die aktuelle Richtung des VS korrigieren. Erfahrungsbedingt habe ich da etliche Zweifel.</td>\n",
              "      <td>NOT</td>\n",
              "      <td>OTHER</td>\n",
              "    </tr>\n",
              "    <tr>\n",
              "      <th>3030</th>\n",
              "      <td>@JKasek Oder die Bäume. Bin mal in 'nem Wald spazieren gegangen und so'n Baum griff mich doch glatt mit 'nem Zapfen an. Bin noch mal mit meinem Le...</td>\n",
              "      <td>NOT</td>\n",
              "      <td>OTHER</td>\n",
              "    </tr>\n",
              "  </tbody>\n",
              "</table>\n",
              "<p>3031 rows × 3 columns</p>\n",
              "</div>\n",
              "      <button class=\"colab-df-convert\" onclick=\"convertToInteractive('df-93170927-25c9-4663-af52-14f707f1ba76')\"\n",
              "              title=\"Convert this dataframe to an interactive table.\"\n",
              "              style=\"display:none;\">\n",
              "        \n",
              "  <svg xmlns=\"http://www.w3.org/2000/svg\" height=\"24px\"viewBox=\"0 0 24 24\"\n",
              "       width=\"24px\">\n",
              "    <path d=\"M0 0h24v24H0V0z\" fill=\"none\"/>\n",
              "    <path d=\"M18.56 5.44l.94 2.06.94-2.06 2.06-.94-2.06-.94-.94-2.06-.94 2.06-2.06.94zm-11 1L8.5 8.5l.94-2.06 2.06-.94-2.06-.94L8.5 2.5l-.94 2.06-2.06.94zm10 10l.94 2.06.94-2.06 2.06-.94-2.06-.94-.94-2.06-.94 2.06-2.06.94z\"/><path d=\"M17.41 7.96l-1.37-1.37c-.4-.4-.92-.59-1.43-.59-.52 0-1.04.2-1.43.59L10.3 9.45l-7.72 7.72c-.78.78-.78 2.05 0 2.83L4 21.41c.39.39.9.59 1.41.59.51 0 1.02-.2 1.41-.59l7.78-7.78 2.81-2.81c.8-.78.8-2.07 0-2.86zM5.41 20L4 18.59l7.72-7.72 1.47 1.35L5.41 20z\"/>\n",
              "  </svg>\n",
              "      </button>\n",
              "      \n",
              "  <style>\n",
              "    .colab-df-container {\n",
              "      display:flex;\n",
              "      flex-wrap:wrap;\n",
              "      gap: 12px;\n",
              "    }\n",
              "\n",
              "    .colab-df-convert {\n",
              "      background-color: #E8F0FE;\n",
              "      border: none;\n",
              "      border-radius: 50%;\n",
              "      cursor: pointer;\n",
              "      display: none;\n",
              "      fill: #1967D2;\n",
              "      height: 32px;\n",
              "      padding: 0 0 0 0;\n",
              "      width: 32px;\n",
              "    }\n",
              "\n",
              "    .colab-df-convert:hover {\n",
              "      background-color: #E2EBFA;\n",
              "      box-shadow: 0px 1px 2px rgba(60, 64, 67, 0.3), 0px 1px 3px 1px rgba(60, 64, 67, 0.15);\n",
              "      fill: #174EA6;\n",
              "    }\n",
              "\n",
              "    [theme=dark] .colab-df-convert {\n",
              "      background-color: #3B4455;\n",
              "      fill: #D2E3FC;\n",
              "    }\n",
              "\n",
              "    [theme=dark] .colab-df-convert:hover {\n",
              "      background-color: #434B5C;\n",
              "      box-shadow: 0px 1px 3px 1px rgba(0, 0, 0, 0.15);\n",
              "      filter: drop-shadow(0px 1px 2px rgba(0, 0, 0, 0.3));\n",
              "      fill: #FFFFFF;\n",
              "    }\n",
              "  </style>\n",
              "\n",
              "      <script>\n",
              "        const buttonEl =\n",
              "          document.querySelector('#df-93170927-25c9-4663-af52-14f707f1ba76 button.colab-df-convert');\n",
              "        buttonEl.style.display =\n",
              "          google.colab.kernel.accessAllowed ? 'block' : 'none';\n",
              "\n",
              "        async function convertToInteractive(key) {\n",
              "          const element = document.querySelector('#df-93170927-25c9-4663-af52-14f707f1ba76');\n",
              "          const dataTable =\n",
              "            await google.colab.kernel.invokeFunction('convertToInteractive',\n",
              "                                                     [key], {});\n",
              "          if (!dataTable) return;\n",
              "\n",
              "          const docLinkHtml = 'Like what you see? Visit the ' +\n",
              "            '<a target=\"_blank\" href=https://colab.research.google.com/notebooks/data_table.ipynb>data table notebook</a>'\n",
              "            + ' to learn more about interactive tables.';\n",
              "          element.innerHTML = '';\n",
              "          dataTable['output_type'] = 'display_data';\n",
              "          await google.colab.output.renderOutput(dataTable, element);\n",
              "          const docLink = document.createElement('div');\n",
              "          docLink.innerHTML = docLinkHtml;\n",
              "          element.appendChild(docLink);\n",
              "        }\n",
              "      </script>\n",
              "    </div>\n",
              "  </div>\n",
              "  "
            ]
          },
          "metadata": {},
          "execution_count": 27
        }
      ]
    },
    {
      "cell_type": "code",
      "source": [
        "data_t.shape"
      ],
      "metadata": {
        "colab": {
          "base_uri": "https://localhost:8080/"
        },
        "id": "QrkMiNNVKrH_",
        "outputId": "e99f3c47-9881-4866-e42a-a99e8fe2d5bb"
      },
      "execution_count": null,
      "outputs": [
        {
          "output_type": "execute_result",
          "data": {
            "text/plain": [
              "(3031, 3)"
            ]
          },
          "metadata": {},
          "execution_count": 28
        }
      ]
    },
    {
      "cell_type": "code",
      "source": [
        "print(data_t.dtypes)"
      ],
      "metadata": {
        "colab": {
          "base_uri": "https://localhost:8080/"
        },
        "id": "MSYUUjUQKuqR",
        "outputId": "80c8be49-dd13-437f-bfa3-96e25c07c382"
      },
      "execution_count": null,
      "outputs": [
        {
          "output_type": "stream",
          "name": "stdout",
          "text": [
            "text     object\n",
            "task1    object\n",
            "task2    object\n",
            "dtype: object\n"
          ]
        }
      ]
    },
    {
      "cell_type": "code",
      "source": [
        "\n",
        "\n",
        "label_t = data_t['task1']\n",
        "label_t.head()\n",
        "\n"
      ],
      "metadata": {
        "colab": {
          "base_uri": "https://localhost:8080/"
        },
        "id": "o-We4mNjKwHA",
        "outputId": "c692431e-5600-48b4-cad0-7ae3fb9f2152"
      },
      "execution_count": null,
      "outputs": [
        {
          "output_type": "execute_result",
          "data": {
            "text/plain": [
              "0    HOF\n",
              "1    HOF\n",
              "2    NOT\n",
              "3    HOF\n",
              "4    HOF\n",
              "Name: task1, dtype: object"
            ]
          },
          "metadata": {},
          "execution_count": 30
        }
      ]
    },
    {
      "cell_type": "code",
      "source": [
        "print(label_t.value_counts())\n",
        "import matplotlib.pyplot as plt\n",
        "label_t.value_counts().plot(kind='bar', color='red')"
      ],
      "metadata": {
        "colab": {
          "base_uri": "https://localhost:8080/",
          "height": 346
        },
        "id": "EO_U9aM1Kxpa",
        "outputId": "bcb45121-2ed3-4c29-e351-9c70c009012c"
      },
      "execution_count": null,
      "outputs": [
        {
          "output_type": "stream",
          "name": "stdout",
          "text": [
            "NOT    2061\n",
            "HOF     970\n",
            "Name: task1, dtype: int64\n"
          ]
        },
        {
          "output_type": "execute_result",
          "data": {
            "text/plain": [
              "<matplotlib.axes._subplots.AxesSubplot at 0x7f04e558d450>"
            ]
          },
          "metadata": {},
          "execution_count": 31
        },
        {
          "output_type": "display_data",
          "data": {
            "text/plain": [
              "<Figure size 432x288 with 1 Axes>"
            ],
            "image/png": "[encoded data removed]"
          },
          "metadata": {
            "needs_background": "light"
          }
        }
      ]
    },
    {
      "cell_type": "code",
      "source": [
        "\n",
        "\n",
        "import numpy as np\n",
        "classes_list_t = [\"HOF\",\"NOT\"]\n",
        "label_t_index = data_t['task1'].apply(classes_list_t.index)\n",
        "final_label_t = np.asarray(label_t_index)\n",
        "print(final_label_t[:10])\n",
        "\n"
      ],
      "metadata": {
        "colab": {
          "base_uri": "https://localhost:8080/"
        },
        "id": "ckCObbaYKzZz",
        "outputId": "371ff916-c9c5-4e6c-a3de-d236da715b15"
      },
      "execution_count": null,
      "outputs": [
        {
          "output_type": "stream",
          "name": "stdout",
          "text": [
            "[0 0 1 0 0 1 1 0 0 0]\n"
          ]
        }
      ]
    },
    {
      "cell_type": "code",
      "source": [
        "\n",
        "\n",
        "from keras.utils.np_utils import to_categorical\n",
        "label_twoDimension_t = to_categorical(final_label_t, num_classes=2)\n",
        "\n"
      ],
      "metadata": {
        "id": "JivaT_m3K1Ww"
      },
      "execution_count": null,
      "outputs": []
    },
    {
      "cell_type": "code",
      "source": [
        "print(label_twoDimension_t[:10])"
      ],
      "metadata": {
        "colab": {
          "base_uri": "https://localhost:8080/"
        },
        "id": "U1SXNpS7K3L5",
        "outputId": "67cb4eb3-6e29-42ad-a2cb-59a518879d50"
      },
      "execution_count": null,
      "outputs": [
        {
          "output_type": "stream",
          "name": "stdout",
          "text": [
            "[[1. 0.]\n",
            " [1. 0.]\n",
            " [0. 1.]\n",
            " [1. 0.]\n",
            " [1. 0.]\n",
            " [0. 1.]\n",
            " [0. 1.]\n",
            " [1. 0.]\n",
            " [1. 0.]\n",
            " [1. 0.]]\n"
          ]
        }
      ]
    },
    {
      "cell_type": "code",
      "source": [
        "\n",
        "\n",
        "text_t = data_t['text']\n",
        "text_t.head(10)\n",
        "\n"
      ],
      "metadata": {
        "colab": {
          "base_uri": "https://localhost:8080/"
        },
        "id": "B4ok6nElK4sb",
        "outputId": "e42eceb4-d28e-47a2-fc68-e2aa3869607a"
      },
      "execution_count": null,
      "outputs": [
        {
          "output_type": "execute_result",
          "data": {
            "text/plain": [
              "0                                      @JanZimmHHB @mopo Komisch das die Realitätsverweigerung immer von linken erbärmlichen Correctiv Accounts ausgeht...\n",
              "1                  @faznet @Gruene_Europa @SPDEuropa @CDU CDU steht seid Strauss, Kohl, Schäuble, vdLeyen für Korruption, Schwarzgeld, und dies überall...\n",
              "2                                                               @DLFNachrichten Die Gesichter, Namen, Religion der Täter würde zur Aufklärung beitragen...\n",
              "3    @welt Wie verwirrt muss man sein um sich zu weigern die Tatsachen anzuerkennen, das dieser Hass von Ferkel importiert wurde....was bezweckt man da...\n",
              "4    @hacker_1991 @torben_braga Weil die AfD den Ferkelfunk abschaffen will, deshalb haben die Linken Zecken, Schmarotzer Angst für ihr kacken arbeiten...\n",
              "5    @aktuelle_stunde Also beim Fall Birmingham, England war definitiv weniger Empörung, weniger Berichterstattung, wenn man ehrlich mit sich ist gab e...\n",
              "6                                             @StZ_NEWS Aber bei läppischen 130.000 Euro der AfD den Welt, Demokratieuntergang herbei schreiben....wie süß\n",
              "7               @StZ_NEWS Schäuble wird wissen woher dieses Nazi Geld kommt....FJS hatte doch auch glasige Augen vor Freude wenn vom Führer die Rede war..\n",
              "8    @welt Komisch, wäre dieser Betrug in der Nähe der AfD passiert wäre eine andere Empörung erkennbar, so aber da es Ferkel und Co trifft werden Baue...\n",
              "9    @investigativ_de @welt @Tim_Roehn @ChSchweppe Und alle Wege führen zu von der Leyen, was dann verwundert das die immer noch im Amt ist, wobei, im ...\n",
              "Name: text, dtype: object"
            ]
          },
          "metadata": {},
          "execution_count": 35
        }
      ]
    },
    {
      "cell_type": "code",
      "source": [
        "test_wo_umlauts = text_t.apply(lambda x: remove_umlaut(x))"
      ],
      "metadata": {
        "id": "N7fvvsExPnYn"
      },
      "execution_count": null,
      "outputs": []
    },
    {
      "cell_type": "code",
      "source": [],
      "metadata": {
        "id": "lxCHAymQPnw7"
      },
      "execution_count": null,
      "outputs": []
    },
    {
      "cell_type": "code",
      "source": [
        "\n",
        "\n",
        "import re \n",
        "\n",
        "def text_clean(text):\n",
        "    ''' Pre process and convert texts to a list of words '''\n",
        "    \n",
        "    text=text.lower()\n",
        "\n",
        "    # Clean the text\n",
        "    text = re.sub(r\"[^A-Za-z0-9^,!.\\/'+-=]\", \" \", text)\n",
        "    text = re.sub('https?://\\S+|www\\.\\S+', \"\", text)\n",
        "    text = re.sub(r\"rt\", \" \", text)\n",
        "\n",
        "    return text\n",
        "\n"
      ],
      "metadata": {
        "id": "1slTVaWDK6LP"
      },
      "execution_count": null,
      "outputs": []
    },
    {
      "cell_type": "code",
      "source": [
        "clean_text_t = test_wo_umlauts.apply(lambda x:text_clean(x))"
      ],
      "metadata": {
        "id": "P6zJo8oXK75p"
      },
      "execution_count": null,
      "outputs": []
    },
    {
      "cell_type": "code",
      "source": [
        "clean_text_t.head(10)"
      ],
      "metadata": {
        "colab": {
          "base_uri": "https://localhost:8080/"
        },
        "id": "1vIn6oXdK9ug",
        "outputId": "1a997a26-f511-4d10-9898-03f11a3eb78d"
      },
      "execution_count": null,
      "outputs": [
        {
          "output_type": "execute_result",
          "data": {
            "text/plain": [
              "0                                     janzimmhhb  mopo komisch das die realitaetsverweigerung immer von linken erbaermlichen correctiv accounts ausgeht...\n",
              "1                faznet  gruene europa  spdeuropa  cdu cdu steht seid strauss, kohl, schaeuble, vdleyen fuer korruption, schwarzgeld, und dies ueberall...\n",
              "2                                                             dlfnachrichten die gesichter, namen, religion der taeter wuerde zur aufklaerung beitragen...\n",
              "3     welt wie verwir  muss man sein um sich zu weigern die tatsachen anzuerkennen, das dieser hass von ferkel impo ie  wurde....was bezweckt man damit...\n",
              "4     hacker 1991  torben braga weil die afd den ferkelfunk abschaffen will, deshalb haben die linken zecken, schmarotzer angst fuer ihr kacken arbeite...\n",
              "5     aktuelle stunde also beim fall birmingham, england war definitiv weniger empoerung, weniger berichterstattung, wenn man ehrlich mit sich ist gab ...\n",
              "6                                           stz news aber bei laeppischen 130.000 euro der afd den welt, demokratieuntergang herbei schreiben....wie suess\n",
              "7              stz news schaeuble wird wissen woher dieses nazi geld kommt....fjs hatte doch auch glasige augen vor freude wenn vom fuehrer die rede war..\n",
              "8     welt komisch, waere dieser betrug in der naehe der afd passie  waere eine andere empoerung erkennbar, so aber da es ferkel und co trifft werden b...\n",
              "9     investigativ de  welt  tim roehn  chschweppe und alle wege fuehren zu von der leyen, was dann verwunde  das die immer noch im amt ist, wobei, im ...\n",
              "Name: text, dtype: object"
            ]
          },
          "metadata": {},
          "execution_count": 39
        }
      ]
    },
    {
      "cell_type": "code",
      "source": [
        "\n",
        "\n",
        "import nltk\n",
        "from nltk.corpus import stopwords\n",
        "nltk.download('stopwords')\n",
        "def stop_words_removal(text1):\n",
        "    text1=[w for w in  text1.split(\" \")  if w not in stopwords.words('german')]\n",
        "    return \" \".join(text1)\n",
        "\n"
      ],
      "metadata": {
        "colab": {
          "base_uri": "https://localhost:8080/"
        },
        "id": "EH37JPgIK_KB",
        "outputId": "f4895391-5f29-441c-d7c2-ff029103661d"
      },
      "execution_count": null,
      "outputs": [
        {
          "output_type": "stream",
          "name": "stderr",
          "text": [
            "[nltk_data] Downloading package stopwords to /root/nltk_data...\n",
            "[nltk_data]   Package stopwords is already up-to-date!\n"
          ]
        }
      ]
    },
    {
      "cell_type": "code",
      "source": [
        "clean_text_t_ns=clean_text_t.apply(lambda x: stop_words_removal(x))"
      ],
      "metadata": {
        "id": "gXxxzc59LBBX"
      },
      "execution_count": null,
      "outputs": []
    },
    {
      "cell_type": "code",
      "source": [
        "print(clean_text_t_ns.head(10))"
      ],
      "metadata": {
        "colab": {
          "base_uri": "https://localhost:8080/"
        },
        "id": "TpppvvEbLCwK",
        "outputId": "5bc44249-137b-4cb3-ff43-da1207b0ad06"
      },
      "execution_count": null,
      "outputs": [
        {
          "output_type": "stream",
          "name": "stdout",
          "text": [
            "0                                                 janzimmhhb  mopo komisch realitaetsverweigerung immer linken erbaermlichen correctiv accounts ausgeht...\n",
            "1                         faznet  gruene europa  spdeuropa  cdu cdu steht seid strauss, kohl, schaeuble, vdleyen fuer korruption, schwarzgeld, ueberall...\n",
            "2                                                                         dlfnachrichten gesichter, namen, religion taeter wuerde aufklaerung beitragen...\n",
            "3                                 welt verwir  weigern tatsachen anzuerkennen, hass ferkel impo ie  wurde....was bezweckt selber beluegen, unverstaendlich\n",
            "4     hacker 1991  torben braga afd ferkelfunk abschaffen will, deshalb linken zecken, schmarotzer angst fuer kacken arbeiten muessen, deshalb fuehrer ...\n",
            "5     aktuelle stunde beim fall birmingham, england definitiv weniger empoerung, weniger berichterstattung, ehrlich gab gar oerr, hintergrundwissen, re...\n",
            "6                                                            stz news laeppischen 130.000 euro afd welt, demokratieuntergang herbei schreiben....wie suess\n",
            "7                                                           stz news schaeuble wissen woher nazi geld kommt....fjs glasige augen freude fuehrer rede war..\n",
            "8                                       welt komisch, waere betrug naehe afd passie  waere empoerung erkennbar, ferkel co trifft baueropfer praesentie ...\n",
            "9     investigativ de  welt  tim roehn  chschweppe wege fuehren leyen, verwunde  immer amt ist, wobei, konstrukt brd normal, konstrukt mehr vorgibt dem...\n",
            "Name: text, dtype: object\n"
          ]
        }
      ]
    },
    {
      "cell_type": "markdown",
      "source": [
        "# Stemming"
      ],
      "metadata": {
        "id": "ekQq8jY5LGLH"
      }
    },
    {
      "cell_type": "code",
      "source": [
        "# Stemming\n",
        "from nltk.stem import SnowballStemmer \n",
        "stemmer = SnowballStemmer(\"german\")\n",
        "\n",
        "def word_stemmer(text):\n",
        "    stem_text = \"\".join([stemmer.stem(i) for i in text])\n",
        "    return stem_text"
      ],
      "metadata": {
        "id": "tpl3ie1dLEH4"
      },
      "execution_count": null,
      "outputs": []
    },
    {
      "cell_type": "code",
      "source": [
        "clean_text_t_stem = clean_text_t_ns.apply(lambda x : word_stemmer(x))"
      ],
      "metadata": {
        "id": "7TziiQXoLIBA"
      },
      "execution_count": null,
      "outputs": []
    },
    {
      "cell_type": "code",
      "source": [
        "print(clean_text_t_stem.head(10))"
      ],
      "metadata": {
        "colab": {
          "base_uri": "https://localhost:8080/"
        },
        "id": "XasJI_bZLJna",
        "outputId": "7f9aa028-92b2-4a59-d93e-e2536ab08353"
      },
      "execution_count": null,
      "outputs": [
        {
          "output_type": "stream",
          "name": "stdout",
          "text": [
            "0                                                 janzimmhhb  mopo komisch realitaetsverweigerung immer linken erbaermlichen correctiv accounts ausgeht...\n",
            "1                         faznet  gruene europa  spdeuropa  cdu cdu steht seid strauss, kohl, schaeuble, vdleyen fuer korruption, schwarzgeld, ueberall...\n",
            "2                                                                         dlfnachrichten gesichter, namen, religion taeter wuerde aufklaerung beitragen...\n",
            "3                                 welt verwir  weigern tatsachen anzuerkennen, hass ferkel impo ie  wurde....was bezweckt selber beluegen, unverstaendlich\n",
            "4     hacker 1991  torben braga afd ferkelfunk abschaffen will, deshalb linken zecken, schmarotzer angst fuer kacken arbeiten muessen, deshalb fuehrer ...\n",
            "5     aktuelle stunde beim fall birmingham, england definitiv weniger empoerung, weniger berichterstattung, ehrlich gab gar oerr, hintergrundwissen, re...\n",
            "6                                                            stz news laeppischen 130.000 euro afd welt, demokratieuntergang herbei schreiben....wie suess\n",
            "7                                                           stz news schaeuble wissen woher nazi geld kommt....fjs glasige augen freude fuehrer rede war..\n",
            "8                                       welt komisch, waere betrug naehe afd passie  waere empoerung erkennbar, ferkel co trifft baueropfer praesentie ...\n",
            "9     investigativ de  welt  tim roehn  chschweppe wege fuehren leyen, verwunde  immer amt ist, wobei, konstrukt brd normal, konstrukt mehr vorgibt dem...\n",
            "Name: text, dtype: object\n"
          ]
        }
      ]
    },
    {
      "cell_type": "code",
      "source": [
        "\n",
        "\n",
        "import keras\n",
        "import tensorflow\n",
        "from keras.preprocessing.text import Tokenizer\n",
        "tok_test = Tokenizer(filters='!\"#$%&\\'()*+,-./:;<=>?@[\\\\]^_`{|}~', lower=True, char_level = False)\n",
        "tok_test.fit_on_texts(clean_text_t_stem)\n",
        "\n"
      ],
      "metadata": {
        "id": "heX7pGrELLAq"
      },
      "execution_count": null,
      "outputs": []
    },
    {
      "cell_type": "code",
      "source": [
        "\n",
        "\n",
        "vocabulary_all_test = len(tok_test.word_counts)\n",
        "print(vocabulary_all_test)\n",
        "\n"
      ],
      "metadata": {
        "colab": {
          "base_uri": "https://localhost:8080/"
        },
        "id": "i0deLjofLMxh",
        "outputId": "dda52e87-0470-4896-c6a4-a23c3c64b250"
      },
      "execution_count": null,
      "outputs": [
        {
          "output_type": "stream",
          "name": "stdout",
          "text": [
            "14335\n"
          ]
        }
      ]
    },
    {
      "cell_type": "code",
      "source": [
        "test_list = tok_test.word_index\n",
        "print(test_list)"
      ],
      "metadata": {
        "colab": {
          "base_uri": "https://localhost:8080/"
        },
        "id": "7aNXyczTLOTE",
        "outputId": "f65b4746-470c-459e-8bdd-dd26202c6367"
      },
      "execution_count": null,
      "outputs": [
        {
          "output_type": "stream",
          "name": "stdout",
          "text": [
            "{'u': 1, 'lbr': 2, 'fuer': 3, 'ja': 4, 'mehr': 5, 'spd': 6, 'mal': 7, 'e': 8, 'schon': 9, 'immer': 10, 'ist': 11, 'fcsp': 12, 'de': 13, 'ueber': 14, 'gibt': 15, 'ha': 16, 'heute': 17, 'watch': 18, 'mena': 19, 'jungnaiv': 20, 'tilojung': 21, 'sdgmasterglass': 22, 'ilona': 23, 'gr': 24, 'czsystuvx': 25, 'netzengel': 26, 'palactnet': 27, 'cdu': 28, 'deutschland': 29, 'vonbeutelratte': 30, 'wer': 31, 'nicht': 32, 'z': 33, 'einfach': 34, '0001f3fb': 35, 'menschen': 36, 'koennen': 37, 'geht': 38, 'iv': 39, 's': 40, '0001f923': 41, 'warum': 42, 'en': 43, 'ba': 44, '0001f602': 45, 'wuerde': 46, 'albe': 47, 'enst1': 48, '2': 49, 'bschuller': 50, 'berlinpapers': 51, 'merkel': 52, 'a': 53, 'waere': 54, '0001f914': 55, 'welt': 56, 'kommt': 57, '0001f44d': 58, 'macht': 59, 'afd': 60, 'gut': 61, 've': 62, 'werden': 63, 'wird': 64, 'toll': 65, 'leben': 66, 'muessen': 67, 'ganz': 68, 'gruenen': 69, 'hat': 70, 'pa': 71, 'genau': 72, 'sein': 73, 'deutsche': 74, '0001f621': 75, 'haben': 76, 'deutschen': 77, 'nie': 78, 'ab': 79, '261d': 80, 'frage': 81, 'georgkleine': 82, '0001f595': 83, 'seit': 84, '3': 85, 'gar': 86, 'sagen': 87, 'land': 88, 'an': 89, '1': 90, 'wildegesellin': 91, 'gerade': 92, 'wurde': 93, 'sind': 94, 'eigentlich': 95, 'ne': 96, 'weiss': 97, 'dafuer': 98, 'steht': 99, 'twitter': 100, 'klar': 101, 'recht': 102, 'denen': 103, 'halt': 104, 'csu': 105, 'darf': 106, 'frau': 107, '0001f609': 108, 'd': 109, 'allesevolution': 110, 'haette': 111, 'we': 112, 'ei': 113, 'frauen': 114, 'sagt': 115, 'leute': 116, 'polizei': 117, 'wurden': 118, 'tun': 119, 'gehen': 120, 'lassen': 121, 'nein': 122, 'linke': 123, 'richtig': 124, 'guyelster': 125, 'benabyad': 126, 'greatreturnma': 127, 'ungeneva': 128, 'wissen': 129, 'politik': 130, 'viele': 131, 'kommen': 132, 'kinder': 133, 'mann': 134, '0001f644': 135, 'erst': 136, 'beim': 137, 'nahles': 138, 'wohl': 139, 'so': 140, 'ski3989': 141, 'stefanolix': 142, 'geld': 143, 'wegen': 144, 'frankfu': 145, 'sehen': 146, 'hast': 147, 'schoen': 148, 'do': 149, 'koennte': 150, 'buerger': 151, 'raus': 152, 'auf': 153, 'gemacht': 154, 'jahren': 155, 'opfer': 156, 'zeit': 157, 'dabei': 158, 'acarlukas': 159, 'jahre': 160, 'wirklich': 161, 'besser': 162, 'problem': 163, 'bitte': 164, 'davon': 165, 'fdp': 166, 'machen': 167, 'danke': 168, 'lesen': 169, 'fe0f': 170, 'tag': 171, 'scheisse': 172, 'nehmen': 173, 'islam': 174, 'laesst': 175, 'ueberhaupt': 176, 'taeter': 177, 'sogar': 178, 'aus': 179, 'tweet': 180, 'eu': 181, 'ganze': 182, 'sollten': 183, 'genug': 184, '0001f605': 185, 'gerne': 186, 'nazis': 187, 'eben': 188, 'linken': 189, '10': 190, 'geben': 191, 'politiker': 192, '0001f643': 193, 'neue': 194, 'liebkind666': 195, 'gab': 196, 'das': 197, 'kann': 198, 'die': 199, 'sieht': 200, 'bleiben': 201, 'kritik': 202, 'system': 203, 'arbeiten': 204, 'weniger': 205, 'medien': 206, 'vielleicht': 207, 'bekommen': 208, 'bestimmt': 209, 'is': 210, 'eher': 211, 'amp': 212, 'apvogt': 213, 'eigenen': 214, 'sehe': 215, 'auch': 216, 'nix': 217, 'und': 218, 'sicher': 219, 'lowkacs': 220, 'angst': 221, 'lange': 222, 'zahlen': 223, 'gewalt': 224, 'endlich': 225, 'wahl': 226, 'mensch': 227, 'sollen': 228, 'gruene': 229, 'aber': 230, 'terror': 231, 'braucht': 232, 'stehen': 233, 'dumm': 234, 'staat': 235, 'herr': 236, '0001f633': 237, 'millionen': 238, 'arbeit': 239, 'juden': 240, 'scheiss': 241, 'europa': 242, 'ferkel': 243, 'will': 244, 'nazi': 245, 'ach': 246, 'gleich': 247, 'natuerlich': 248, 'bleibt': 249, 'jemand': 250, 'sie': 251, '5': 252, 'ende': 253, '0001f60b': 254, 'm': 255, 'wahrscheinlich': 256, 'sorry': 257, '0001f60e': 258, 'tafeln': 259, 'jogginghosenafa': 260, 'meinung': 261, 'berlin': 262, 'heisst': 263, 'laeuft': 264, 'lieber': 265, 'stegner': 266, 'muss': 267, 'leider': 268, 'niemand': 269, 'finde': 270, 'egal': 271, 'jahr': 272, 'sei': 273, 'waehlen': 274, 'akk': 275, '0001f437': 276, '0001f913': 277, 'nprncbl': 278, 'tapetenlama': 279, 'faznet': 280, 'fall': 281, 'luegen': 282, 'na': 283, 'nichts': 284, 'tagesschau': 285, 'fast': 286, 'krieg': 287, 'bild': 288, 'ihrseiddo': 289, 'wann': 290, 'volk': 291, 'antisemitismus': 292, 'tato': 293, 'wa': 294, 'armut': 295, 'essen': 296, 'suppenkuechen': 297, 'zeigt': 298, 'presse': 299, 'sofo': 300, 'deren': 301, 'frei': 302, 'muell': 303, 'ziemlich': 304, 'waehrend': 305, 'tatsaechlich': 306, 'allerdings': 307, 't': 308, 'gute': 309, 'falsch': 310, 'antwo': 311, 'suchen': 312, 'klasnaborba': 313, 'morgen': 314, 'palaestinenser': 315, 'seid': 316, 'war': 317, 'brd': 318, 'demokratie': 319, 'zdfheute': 320, 'zurueck': 321, 'maenner': 322, 'komplett': 323, 'passt': 324, 'darueber': 325, 'antifa': 326, 'glaube': 327, '15': 328, 'ich': 329, 'bereits': 330, 'israel': 331, 'kopf': 332, 'b': 333, 'n': 334, 'o': 335, 'guten': 336, 'nen': 337, 'gestern': 338, 'text': 339, 'zionistischen': 340, 'fuehrer': 341, 'weit': 342, 'fluechtlinge': 343, 'drei': 344, 'arsch': 345, 'h': 346, 'propaganda': 347, 'voll': 348, 'gesellschaft': 349, 'ma': 350, 'hunde': 351, 'doch': 352, 'geworden': 353, 'regierung': 354, 'ahnung': 355, '100': 356, 'dachte': 357, 'punkt': 358, 'stunden': 359, 'nacht': 360, 'paar': 361, 'wieder': 362, 'frazionetoskana': 363, 'sowas': 364, 'toteraufurlaub': 365, 'opposum5': 366, 'florianaigner': 367, 'gerritmarsen': 368, 'lnnen': 369, 'wt': 370, 'ibes': 371, 'deshalb': 372, 'ein': 373, 'et': 374, 'reden': 375, 'es': 376, 'zdf': 377, 'erklaeren': 378, 'liebe': 379, 'ffm': 380, 'wollen': 381, 'bevoelkerung': 382, 'trotzdem': 383, 'macron': 384, 'erklae': 385, 'grund': 386, '0001f601': 387, 'mittlerweile': 388, 'gesehen': 389, 'ig': 390, 'hoe': 391, 'ausser': 392, 'job': 393, 'los': 394, 'gesagt': 395, '270c': 396, 'gelbwesten': 397, 'selber': 398, 'wichtig': 399, 'alleine': 400, 'migranten': 401, 'thema': 402, 'geschichte': 403, 'gutmenschen': 404, 'habt': 405, 'finden': 406, 'statt': 407, 'wuerden': 408, '0': 409, 'links': 410, 'ganzen': 411, 'punkte': 412, '7': 413, 'hoffentlich': 414, 'wenig': 415, 'darauf': 416, 'hassanhadjali': 417, 'auto': 418, '30': 419, 'demo': 420, 'neuen': 421, 'letzten': 422, 'schlecht': 423, 'gleiche': 424, 'korrupten': 425, 'nordischbynatur': 426, '219a': 427, 'enschenrechte': 428, 'fuelinup': 429, 'bullenschubser': 430, 'futureworldxxl': 431, 'namen': 432, 'ferkelfunk': 433, 'passie': 434, 'laecherlich': 435, 'nennt': 436, 'tut': 437, 'gefahr': 438, 'zeigen': 439, 'the': 440, 'verantwo': 441, 'spaeter': 442, 'armen': 443, 'zwei': 444, 'c': 445, '0001f92d': 446, 'oft': 447, 'voellig': 448, 'dergermane2': 449, 'bisschen': 450, 'tweets': 451, 'i': 452, 'oh': 453, 'erwa': 454, 'ok': 455, 'merz': 456, '20': 457, 'woche': 458, 'kennt': 459, 'nochmal': 460, 'deswegen': 461, 'echt': 462, 'offensichtlich': 463, 'naechste': 464, 'solidaritaet': 465, 'paris': 466, 'uhr': 467, 'frankreich': 468, 'seehofer': 469, '0001f419': 470, 'einheimischen': 471, 'zionisten': 472, 'anke52936620': 473, 'lanyihunter1': 474, 'assassina36': 475, 'ie': 476, 'was': 477, 'news': 478, 'wie': 479, 'schnell': 480, 'duerfen': 481, 'plan': 482, 'halten': 483, 'hoeren': 484, 'lachen': 485, 'stellen': 486, 'rechts': 487, 'fordern': 488, 'daran': 489, 'findet': 490, 'darum': 491, 'grossen': 492, 'eien': 493, 'haetten': 494, 'karrenbauer': 495, 'ddr': 496, 'chemnitz': 497, 'je': 498, 'usa': 499, 'uebrigens': 500, 'minuten': 501, 'schaft': 502, 'politisch': 503, 'rassismus': 504, 'heimat': 505, 'verloren': 506, '0001f92e': 507, 'ikel': 508, 'rein': 509, 'kultur': 510, 'einzige': 511, 'bevor': 512, 'schreibt': 513, 'germanseries': 514, 'abend': 515, 'stimmt': 516, 'gelesen': 517, 'bedeutet': 518, 'wi': 519, 'gern': 520, 'aufgrund': 521, 'duracellsheep': 522, 'bea76190653': 523, 'augen': 524, 'stasi': 525, 'brauchen': 526, 'kaum': 527, 'folgen': 528, 'schwer': 529, 'zukunft': 530, 'etc': 531, 'rest': 532, 'ernst': 533, 'rechte': 534, 'nich': 535, 'hoch': 536, 'kleine': 537, 'deutscher': 538, 'ging': 539, 'verfassungsschutz': 540, 'gehoe': 541, 'satz': 542, 'alter': 543, 'letzte': 544, 'bald': 545, 'unserer': 546, 'spiel': 547, 'kotzen': 548, 'ey': 549, 'besten': 550, 'naja': 551, 'waeren': 552, 'auswae': 553, 'arschloch': 554, 'hand': 555, 'ansonsten': 556, 'fuers': 557, 'konnte': 558, 'drueber': 559, 'super': 560, 'moechte': 561, 'drauf': 562, 'shirotania': 563, 'situation': 564, 'gefunden': 565, 'mach': 566, 'arm': 567, 'scheint': 568, 'europaeischen': 569, 'groko': 570, 'reiche': 571, 'jw': 572, 'kaputtnikkkk': 573, 'europaeer': 574, 'kolonie': 575, 'alexsta': 576, 'hoppenina': 577, 'religion': 578, 'impo': 579, 'fuehren': 580, 'besonders': 581, 'nrw': 582, 'wahrheit': 583, 'all': 584, 'frueher': 585, 'bezahlen': 586, 'vielen': 587, 'genauso': 588, 'kind': 589, 'el': 590, 'not': 591, 'westen': 592, 'retten': 593, 'k': 594, 'interessie': 595, 'zusammen': 596, 'schuld': 597, 'eigene': 598, 'lustig': 599, 'gedanken': 600, 'jazzlover2021': 601, 'eh': 602, 'deutsch': 603, 'damals': 604, 'mir': 605, 'meisten': 606, 'gehe': 607, 'politischen': 608, 'setzen': 609, 'p': 610, 'denke': 611, '18': 612, 'profit': 613, 'reicht': 614, 'igesamt': 615, 'you': 616, 'jedoch': 617, 'gleichen': 618, 'rum': 619, 'der': 620, '200d': 621, 'alte': 622, 'liste': 623, 'un': 624, 'eltern': 625, 'einfuehren': 626, 'flaschen': 627, 'kinderarmut': 628, 'familie': 629, 'klimawandel': 630, 'luegner': 631, 'revolution': 632, 'aktien': 633, '0001f44c': 634, '0001f37a': 635, 'maischberger': 636, 'miraculix23': 637, 'datflug': 638, 'outofvalhalla': 639, 'karina140911': 640, 'bergifrau00': 641, 'madameschwarzi': 642, 'maybritillner': 643, 'accounts': 644, 'schaeuble': 645, 'ehrlich': 646, '000': 647, 'schreiben': 648, 'heraus': 649, 'person': 650, 'niemals': 651, 'schauen': 652, 'tagesspiegel': 653, 'bezahlt': 654, 'denkt': 655, 'stellt': 656, 'verstehen': 657, 'krank': 658, 'haelt': 659, 'gesicht': 660, 'irgendwann': 661, 'herkunft': 662, 'politische': 663, 'richtige': 664, 'zu': 665, '4': 666, 'fehler': 667, 'gott': 668, 'fragen': 669, 'arme': 670, 'weisse': 671, 'kreis': 672, 'sitzen': 673, 'uebrigen': 674, 'kenne': 675, 'deutlich': 676, 'sinn': 677, 'lt': 678, 'besteht': 679, 'solange': 680, 'szene': 681, 'geh': 682, 'ergebnis': 683, 'wenigstens': 684, 'gewinnen': 685, 'hasse': 686, 'kapital': 687, 'moeglich': 688, 'danieldorville2': 689, 'gegenueber': 690, 'ard': 691, 'bekommt': 692, 'strasse': 693, 'sternenrot': 694, 'faellt': 695, 'naechsten': 696, 'erstmal': 697, 'weiterhin': 698, 'dagegen': 699, 'mag': 700, 'argumente': 701, 'korrupte': 702, '2642': 703, 'fresse': 704, 'muesste': 705, 'sprechen': 706, 'regime': 707, 'genossen': 708, 'soll': 709, 'nur': 710, 'loominext': 711, 'angeblich': 712, 'anti': 713, 'sozialismus': 714, 'aktivisten': 715, '2704': 716, 'bierkrawalle': 717, 'ralf': 718, 'invictu53409591': 719, 'abschaffen': 720, 'empoerung': 721, 'bringt': 722, 'dadurch': 723, 'freuen': 724, 'sich': 725, 'noch': 726, 'handeln': 727, 'kam': 728, 'gefuehl': 729, 'erkennen': 730, 'nimmt': 731, 'hilfe': 732, 'tuer': 733, 'mich': 734, 'iq': 735, 'ziel': 736, 'lang': 737, '12': 738, 'umfrage': 739, 'sag': 740, 'sanktionen': 741, 'hitler': 742, 'follower': 743, '0001f631': 744, 'in514337541': 745, 'erste': 746, 'ploetzlich': 747, 'trotz': 748, 'geblockt': 749, 'veru': 750, 'altpa': 751, 'zaehlen': 752, 'bayern': 753, 'nation': 754, 'idee': 755, 'verlieren': 756, 'ka': 757, 'gilt': 758, 'realitaet': 759, 'l': 760, 'mit': 761, 'hamas': 762, 'bundestag': 763, 'total': 764, 'nutzen': 765, 'china': 766, '0001f60a': 767, 'immerhin': 768, 'gt': 769, 'langsam': 770, 'werfen': 771, 'vie': 772, 'glueck': 773, 'kannst': 774, 'ca': 775, 'kapitalismus': 776, 'beispiel': 777, 'aussage': 778, 'treffen': 779, 'offenbar': 780, '6': 781, 'freunde': 782, 'waehler': 783, 'genuegend': 784, 'schroeder': 785, 'lass': 786, '01': 787, 'gleichzeitig': 788, 'funktionie': 789, 'ideologie': 790, 'seite': 791, 'sage': 792, 'musst': 793, 'irgendwas': 794, 'typ': 795, 'laender': 796, 'freie': 797, 'kaufen': 798, 'zuerst': 799, 'verbrechen': 800, 'tuerkei': 801, 'brexit': 802, 'persoenlich': 803, 'kramp': 804, 'glauben': 805, 'surplusproduce': 806, 'rag': 807, 'bspw': 808, 'account': 809, 'vor': 810, 'fehlt': 811, 'v': 812, 'kolonisten': 813, 'pyuntama': 814, 'toteseele82': 815, 'kundgebung': 816, 'korruption': 817, 'suess': 818, 'woher': 819, 'falsche': 820, 'br24': 821, 'verbreiten': 822, 'moerder': 823, 'oeffentlichkeit': 824, 'spiegelonline': 825, 'bahn': 826, 'wdr': 827, '14': 828, 'worden': 829, 'denken': 830, 'nachbarn': 831, 'teil': 832, 'terroristen': 833, 'ung': 834, 'dumme': 835, 'laut': 836, 'da': 837, 'usw': 838, 'geschafft': 839, 'schaffen': 840, 'eil': 841, 'platz': 842, 'ziehen': 843, 'gutes': 844, 'mache': 845, 'voller': 846, 'menschheit': 847, 'glaubt': 848, 'steffmann45': 849, 'uns': 850, 'islamisten': 851, 'ebenso': 852, 'deal': 853, 'ernsthaft': 854, 'taeglich': 855, 'kindern': 856, 'junge': 857, '11': 858, 'sprache': 859, 'beiden': 860, 'fern': 861, 'haltung': 862, 'nazisraus': 863, '2019': 864, '2714': 865, 'etwa': 866, 'liegt': 867, 'freiheit': 868, 'stueck': 869, 'koennten': 870, 'white': 871, 'jahrhunde': 872, 'no': 873, 'kommunismus': 874, 'jetzt': 875, 'spass': 876, 'nonazis': 877, 'thread': 878, 'nach': 879, 'annewill': 880, 'schluss': 881, 'sowieso': 882, 'peinlich': 883, 'geil': 884, 'uff': 885, 'naechstes': 886, 'tja': 887, 'sau': 888, 'quellen': 889, 'kriminellen': 890, 'glaub': 891, 'hoffe': 892, 'danach': 893, 'gibts': 894, 'mord': 895, 'feie': 896, 'widerstand': 897, 'hallo': 898, 'jetz': 899, 'schoene': 900, 'sucht': 901, 'studie': 902, 'zumindest': 903, 'grad': 904, 'eddie': 905, '1412': 906, 'helllud123': 907, 'versucht': 908, 'wen': 909, 'merkelmussweg': 910, 'soviel': 911, 'scheinbar': 912, 'andreaschlegel3': 913, 'karl': 914, 'grenzen': 915, 'irgendwie': 916, 'reichen': 917, 'weil': 918, 'menschenrechte': 919, 'betteln': 920, 'zahl': 921, 'sagte': 922, '2018': 923, 'grosse': 924, 'buch': 925, 'ruhig': 926, 'film': 927, 'diskussion': 928, 'unrecht': 929, '19': 930, 'daniel': 931, 'ostfrieseinfran': 932, 'legen': 933, 'leuten': 934, 'stalinist': 935, 'proeiszeitdeaf': 936, 'reconquista': 937, '23': 938, 'hambacherforst': 939, '30h': 940, 'komisch': 941, 'hass': 942, 'dreck': 943, 'birmingham': 944, 'england': 945, 'normal': 946, 'gebe': 947, 'gefueh': 948, 'heissen': 949, 'weder': 950, 'genannt': 951, 'hm': 952, 'interessieren': 953, 'name': 954, 'schlimmer': 955, 'liegen': 956, 'schlimm': 957, 'berichten': 958, 'verletzt': 959, 'siehe': 960, 'leiden': 961, 'strafe': 962, 'satire': 963, 'bilder': 964, 'welcome': 965, 'hetzer': 966, 'aeh': 967, 'vergessen': 968, 'spielt': 969, 'liest': 970, 'hirn': 971, 'schicken': 972, 'bringen': 973, 'cem': 974, 'um': 975, 'zb': 976, 'gesper': 977, 'spiegel': 978, 'luegenpresse': 979, 'steuern': 980, 'verlassen': 981, 'stimmen': 982, 'machst': 983, 'kranke': 984, 'dringend': 985, 'wunder': 986, 'hoelle': 987, 'mont1701': 988, 'stalin': 989, 'klima': 990, 'eilt': 991, 'begriff': 992, 'unterscheiden': 993, 'uebe': 994, 'null': 995, 'vorher': 996, 'deutschlands': 997, 'meint': 998, 'of': 999, 'seiten': 1000, 'fuehlt': 1001, 'regel': 1002, 'quatsch': 1003, 'schreiber': 1004, 'aende': 1005, 'stand': 1006, 'hunger': 1007, 'world': 1008, 'arbeiter': 1009, 'cyclinginside': 1010, 'sonntag': 1011, 'nase': 1012, '24': 1013, 'fe': 1014, 'aberfair': 1015, 'fuck': 1016, 'wenn': 1017, 'samstag': 1018, 'paul': 1019, 'habe': 1020, 'trump': 1021, 'kita': 1022, 'fakten': 1023, 'gruenden': 1024, 'unglaublich': 1025, 'gegenteil': 1026, 'ding': 1027, 'willst': 1028, 'folter': 1029, 'schritt': 1030, 'tagen': 1031, 'abschaum': 1032, 'kurz': 1033, 'sollte': 1034, 'alle': 1035, 'stadt': 1036, 'allein': 1037, 'top': 1038, 'queensolaphea': 1039, 'uni': 1040, 'spaet': 1041, 'vorbei': 1042, 'schlafen': 1043, 'gruppe': 1044, 'grade': 1045, 'texte': 1046, 'draussen': 1047, 'haiderbekah': 1048, 'folge': 1049, 'beste': 1050, 'typen': 1051, 'also': 1052, 'automatisch': 1053, 'per': 1054, 'winter': 1055, 'wasser': 1056, 'islamische': 1057, '0001f44a': 1058, '0001f926': 1059, 'spitze': 1060, 'bundesregierung': 1061, 'haus': 1062, 'dennoch': 1063, 'leid': 1064, 'kanzlerin': 1065, 'berliner': 1066, 'diejenigen': 1067, 'doener': 1068, 'schafft': 1069, 'kritische': 1070, 'unterschied': 1071, 'komme': 1072, 'naeher': 1073, 'unten': 1074, '16': 1075, 'regelsatz': 1076, 'erlaubt': 1077, 'soeder': 1078, 'empfaenger': 1079, 'verbot': 1080, 'bekannt': 1081, 'alt': 1082, 'monate': 1083, 'hungern': 1084, 'spahn': 1085, 'durch': 1086, 'kampf': 1087, 'proteste': 1088, 'physeterj': 1089, 'gsp': 1090, 'verhindern': 1091, 'kapitalisten': 1092, 'behaupten': 1093, 'entwicklung': 1094, 'quasi': 1095, 'manchmal': 1096, 'lino': 1097, 'bzw': 1098, 'beide': 1099, 'gruss': 1100, 'du': 1101, 'behauptet': 1102, 'tempolimit': 1103, 'palaestina': 1104, 'egutkin': 1105, 'sam': 1106, 'verclai': 1107, 'alten': 1108, 'wolkenfluff': 1109, 'unfassbar': 1110, 'bla': 1111, 'femen': 1112, 'nocki61': 1113, 'krone18': 1114, 'markuslanz': 1115, 'erdogannotwelcome': 1116, 'nopegida': 1117, 'ueberall': 1118, 'luege': 1119, 'euro': 1120, 'rede': 1121, 'praesentie': 1122, 'lied': 1123, 'keule': 1124, 'handelt': 1125, 'mdraktuell': 1126, 'urlaub': 1127, 'rassisten': 1128, 'guter': 1129, 'fr': 1130, 'erfolg': 1131, 'gelernt': 1132, 'fahren': 1133, 'heil': 1134, 'gejagt': 1135, 'wozu': 1136, '2015': 1137, 'aendern': 1138, 'positive': 1139, 'industrie': 1140, 'tor': 1141, 'versuchen': 1142, 'klappt': 1143, 'keine': 1144, 'anstatt': 1145, 'einzigen': 1146, 'video': 1147, 'rolle': 1148, 'hintern': 1149, 'umwelt': 1150, 'seien': 1151, 'syrien': 1152, 'idioten': 1153, 'spdde': 1154, 'oezdemir': 1155, 'asylanten': 1156, 'sinne': 1157, 'gerechtigkeit': 1158, 'laendern': 1159, 'ungarn': 1160, 'groesste': 1161, 'weisst': 1162, 'merken': 1163, 'dank': 1164, 'toleranz': 1165, 'wernergoehl': 1166, 'setzt': 1167, 'al': 1168, 'haelfte': 1169, 'erdogan': 1170, 'eindruck': 1171, 'schutz': 1172, 'herrn': 1173, 'afrika': 1174, 'vater': 1175, 'naemlich': 1176, 'irre': 1177, 'echte': 1178, 'weg': 1179, 'islamismus': 1180, 'videos': 1181, 'eilen': 1182, 'antisemiten': 1183, 'yuma': 1184, 'lein': 1185, 'hh': 1186, 'waehlt': 1187, 'wachsen': 1188, 'feminismus': 1189, 'gewaehlt': 1190, 'lust': 1191, 'igen': 1192, '8': 1193, '13': 1194, 'entweder': 1195, 'kotzt': 1196, 'st': 1197, 'pauli': 1198, 'bloed': 1199, 'tipp': 1200, 'w': 1201, 'r': 1202, 'richtigen': 1203, 'passieren': 1204, 'loesung': 1205, 'for': 1206, 'mindestens': 1207, 'analyse': 1208, 'sogenannte': 1209, 'bist': 1210, 'tod': 1211, 'wuerdest': 1212, 'these': 1213, 'anfang': 1214, 'eidigt': 1215, 'polizisten': 1216, 'erzaehlen': 1217, 'bullen': 1218, 'rote': 1219, 'rechtsstaat': 1220, 'fo': 1221, 'ekelhaft': 1222, 'himmel': 1223, 'verstehe': 1224, 'konflikt': 1225, 'fallen': 1226, 'ner': 1227, 'wach': 1228, 'sommer': 1229, 'momentan': 1230, 'lasst': 1231, 'falls': 1232, 'lediglich': 1233, 'x': 1234, 'aussagen': 1235, 'zusammenhang': 1236, 'fand': 1237, 'wut': 1238, 'islamischen': 1239, 'verdienen': 1240, 'christen': 1241, 'selbst': 1242, 'entscheiden': 1243, '0001f339': 1244, 'rentner': 1245, 'rot': 1246, 'linksfaschisten': 1247, 'messer': 1248, 'damit': 1249, 'welle': 1250, 'geistig': 1251, 'fluechtling': 1252, 'internet': 1253, 'jobcenter': 1254, 'us': 1255, 'tafel': 1256, 'paragraf': 1257, 'bezahlten': 1258, 'ministerposten': 1259, 'ueberleben': 1260, 'seeheimer': 1261, 'neues': 1262, 'gesetz': 1263, 'may': 1264, 'hungerlohn': 1265, 'freitag': 1266, 'neuer': 1267, 'mehrere': 1268, 'muessten': 1269, 'normale': 1270, 'fest': 1271, 'elend': 1272, 'me': 1273, 'droht': 1274, 'kamnonym': 1275, 'btw': 1276, 'bauen': 1277, 'kriegt': 1278, 'bisher': 1279, 'stahlnippel': 1280, 'markt': 1281, 'kp': 1282, 'peter': 1283, 'forschungsto': 1284, 'weste': 1285, 'genommen': 1286, 'haltet': 1287, 'gedanke': 1288, 'hetze': 1289, 'irrsinn': 1290, 'steinbacherika': 1291, 'vorfahren': 1292, 'rieben': 1293, 'verschiedene': 1294, 'vatoloco61': 1295, 'sunny': 1296, 'odiumnostrum': 1297, 'arasbacho': 1298, 'apatzwahl': 1299, 'ofenschlampe': 1300, 'afgveteran': 1301, 'feindpresse': 1302, 'botanikqueen': 1303, 'fieswurz': 1304, 'afrin': 1305, 'welcomeffm': 1306, 'refugeeswelcome': 1307, 'tatsachen': 1308, 'aktuelle': 1309, 'leyen': 1310, 'amt': 1311, 'wobei': 1312, 'konstrukt': 1313, 'nun': 1314, 'holen': 1315, 'dazu': 1316, 'klasse': 1317, 'klientel': 1318, 'schweigen': 1319, 'gehalten': 1320, 'glaubwuerdigkeit': 1321, 'regsprecher': 1322, 'widerliche': 1323, 'eile': 1324, 'missbrauch': 1325, 'sonst': 1326, '80': 1327, 'gefaellt': 1328, 'mehrheit': 1329, 'zehn': 1330, 'gestellt': 1331, 'dahin': 1332, 'zeug': 1333, 'zeiten': 1334, 'taten': 1335, 'reale': 1336, '2017': 1337, 'behoerden': 1338, 'hoffen': 1339, 'helfen': 1340, 'statistik': 1341, 'gewollt': 1342, 'werbung': 1343, 'nachrichten': 1344, 'nennen': 1345, 'googeln': 1346, 'dummheit': 1347, 'etwas': 1348, 'folgt': 1349, 'bestellt': 1350, 'willen': 1351, 'zerstoe': 1352, 'vollkommen': 1353, 'asyl': 1354, 'rassist': 1355, 'steuergeldern': 1356, 'kranken': 1357, 'mist': 1358, 'tisch': 1359, 'ir': 1360, 'jensspahn': 1361, 'verschwinden': 1362, 'dummen': 1363, 'faschismus': 1364, 'ragen': 1365, 'wir': 1366, 'festgestellt': 1367, 'soziale': 1368, 'strassen': 1369, 'fragt': 1370, 'meinungen': 1371, 'sorgen': 1372, 'straftaeter': 1373, 'ausland': 1374, 'weihnachten': 1375, 'familien': 1376, 'zuviel': 1377, 'davor': 1378, 'angela': 1379, 'alexf50451971': 1380, 'jutta98811424': 1381, 'iran': 1382, 'vs': 1383, 'krippmarie': 1384, 'shakriet': 1385, 'walsberger49': 1386, 'tragen': 1387, 'jutta': 1388, 'po': 1389, 'bekaempft': 1390, 'kaelte': 1391, 'schliesst': 1392, 'chrisishere9': 1393, 'praktisch': 1394, 'marktwi': 1395, 'feind': 1396, 'eienka': 1397, 'lernen': 1398, 'wieviele': 1399, 'dicht': 1400, 'erschiessen': 1401, 'moeglichkeit': 1402, 'kleiner': 1403, 'laengst': 1404, 'minderheit': 1405, 'verfolgt': 1406, 'heikomaas': 1407, 'nette': 1408, 'beispiele': 1409, 'entgegen': 1410, 'islamisierung': 1411, 'hier': 1412, 'witz': 1413, 'laufen': 1414, 'oppo': 1415, 'europaeern': 1416, 'spricht': 1417, 'verhalten': 1418, 'schwaeche': 1419, 'jahrelang': 1420, 'to': 1421, 'araber': 1422, 'ellibisathide': 1423, 'hut': 1424, 'behinde': 1425, 'hallaschka': 1426, 'lauterbach': 1427, 'bus': 1428, 'my': 1429, 'ruecken': 1430, 'sparen': 1431, 'jedesmal': 1432, 'weiter': 1433, 'tv': 1434, 'hey': 1435, 'stark': 1436, 'bescheue': 1437, 'g': 1438, 'it': 1439, 'ersten': 1440, 'gebracht': 1441, 'ecke': 1442, 'bewusstsein': 1443, 'geschrieben': 1444, 'standards': 1445, 'mittel': 1446, 'er': 1447, 'heuteshow': 1448, 'einst': 1449, 'genannten': 1450, 'abschieben': 1451, 'eimer': 1452, 'hanvoi': 1453, 'kritisch': 1454, 'tot': 1455, 'schweine': 1456, 'meist': 1457, 'sozial': 1458, 'wieso': 1459, 'lese': 1460, 'verstanden': 1461, 'taz': 1462, 'profsalzborn': 1463, 'unterstuetzung': 1464, 'monikaherrmann1': 1465, 'friedlich': 1466, 'cent': 1467, 'religionen': 1468, 'entspricht': 1469, 'nett': 1470, 'interesse': 1471, 'befreiung': 1472, 'l8mal': 1473, 'gegeben': 1474, 'co2': 1475, 'teufel': 1476, 'brot': 1477, 'direkt': 1478, 'einzelne': 1479, 'bett': 1480, 'dran': 1481, 'gegangen': 1482, 'groessten': 1483, 'anscheinend': 1484, 'zug': 1485, 'kleinen': 1486, 'haende': 1487, 'boese': 1488, 'extrem': 1489, 'ganzes': 1490, 'spielen': 1491, 'nem': 1492, 'erklaerung': 1493, 'ergebnisse': 1494, 'bewegen': 1495, 'noetig': 1496, 'ehre': 1497, 'staatlich': 1498, 'finanzie': 1499, 'soweit': 1500, 'unterstuetzen': 1501, 'zudem': 1502, 'aufgabe': 1503, 'dinge': 1504, 'fuehlen': 1505, 'ums': 1506, 'zieht': 1507, 'unschuldige': 1508, 'steigt': 1509, 'erhalten': 1510, 'einzelfallinfos': 1511, 'illegalen': 1512, 'jouwatch': 1513, 'traurig': 1514, 'lich': 1515, 'wofuer': 1516, 'alimentie': 1517, 'daue': 1518, 'aufruf': 1519, 'ps': 1520, 'diversity': 1521, 'anders': 1522, 'freesou29733893': 1523, 'fluechtlingen': 1524, 'terrorist': 1525, 'franzoesische': 1526, 'kommunisten': 1527, 'lebt': 1528, 'geistigen': 1529, 'vollpfosten': 1530, 'sogenannten': 1531, 'moslem': 1532, 'polen': 1533, 'paragrafen': 1534, 'jesus': 1535, 'niedrigloehner': 1536, 'rente': 1537, 'suppenkueche': 1538, 'klein': 1539, 'nuernberg': 1540, 'in': 1541, 'bande': 1542, 'brandt': 1543, 'gestoe': 1544, 'strassburg': 1545, 'ziemiak': 1546, 'oeffentlich': 1547, 'behandlung': 1548, 'jeder': 1549, 'verboten': 1550, 'hilft': 1551, 'gewonnen': 1552, 'korrupt': 1553, 'zuschauer': 1554, 'dgb': 1555, 'sozialistische': 1556, 'buergerliche': 1557, 'bolschewik69': 1558, 'fjodor': 1559, 'sibelschick': 1560, 'gesprochen': 1561, 'innen': 1562, 'priv187': 1563, 'lies': 1564, 'quelle': 1565, 'kontrollieren': 1566, 'daher': 1567, 'haengt': 1568, 'hundimbuero': 1569, 'moegen': 1570, 'groesseren': 1571, 'lol': 1572, 'haha': 1573, 'loser': 1574, 'lobby': 1575, 'gemeinsam': 1576, 'gelbe': 1577, 'symbol': 1578, 'pfosten': 1579, 'sache': 1580, 'tuebingen': 1581, 'blick': 1582, 'legt': 1583, 'lkw': 1584, 'biene': 1585, 'diesel': 1586, 'lage': 1587, 'yo': 1588, 'nan': 1589, 'kurden': 1590, 'tobiashuch': 1591, 'redace78': 1592, 'zustand': 1593, 'hiermit': 1594, '0001f610': 1595, 'nee': 1596, 'kllnazis': 1597, 'gutschein': 1598, 'opa': 1599, 'liberale': 1600, 'edithkltzhndlr': 1601, 'themen': 1602, 'presseclub': 1603, 'maxihome27': 1604, 'reiben': 1605, 'rektal': 1606, 'palaestinas': 1607, 'israelischen': 1608, 'dintenfelder': 1609, 'kraehenbeisser': 1610, 'hintergrund': 1611, '0001f3fd': 1612, 'vulgaerbahamit': 1613, 'mayhem': 1614, 'judenwiderstand': 1615, 'tl': 1616, 'catinchief': 1617, 'kasper': 1618, '17': 1619, 'akerstan': 1620, 'systemkritik24': 1621, 'galactica2019': 1622, 'darfst': 1623, 'torsten62128502': 1624, 'connybub': 1625, 'pruefung': 1626, 'sixtus': 1627, 'fisch': 1628, 'manni': 1629, 'schwiege': 1630, 'ochtergesucht': 1631, 'yotta': 1632, 'hambibleibt': 1633, '19h': 1634, 'vdleyen': 1635, 'gesichter': 1636, 'aufklaerung': 1637, 'verwir': 1638, 'schmarotzer': 1639, 'treu': 1640, 'stunde': 1641, 'berichterstattung': 1642, 'wege': 1643, 'seltsam': 1644, 'ferkelmedien': 1645, 'heuchler': 1646, 'lebenslang': 1647, 'bereit': 1648, 'liebster': 1649, 'fuellen': 1650, 'ndrinfo': 1651, 'gefluechtete': 1652, 'rosenthal': 1653, 'umgesetzt': 1654, 'dpa': 1655, 'la': 1656, 'gewissen': 1657, 'morgenpost': 1658, 'betrachtet': 1659, '09': 1660, 'stinkt': 1661, 'bloede': 1662, 'eigenes': 1663, 'extra': 1664, 'irgendwo': 1665, 'skandal': 1666, 'bewiesen': 1667, 'weise': 1668, 'mittwoch': 1669, 'offen': 1670, 'begehen': 1671, 'heutejournal': 1672, 'echter': 1673, 'personen': 1674, 'schreit': 1675, 'kauft': 1676, 'landes': 1677, 'erreicht': 1678, 'michel': 1679, 'getragen': 1680, '1945': 1681, 'finanzieren': 1682, 'sterben': 1683, 'unsinn': 1684, 'froh': 1685, 'spinnen': 1686, 'toeten': 1687, 'gezogen': 1688, 'kraft': 1689, 'regierungen': 1690, 'vo': 1691, 'ermorden': 1692, 'annehmen': 1693, 'okay': 1694, 'doof': 1695, 'str': 1696, 'forde': 1697, 'chef': 1698, 'schande': 1699, 'republik': 1700, 'gundel': 1701, 'gaukeley': 1702, 'begriffe': 1703, '0001f613': 1704, 'maas': 1705, 'dt': 1706, 'linkoiden': 1707, 'sebastianhampel': 1708, 'entfolgt': 1709, 'rettung': 1710, 'and': 1711, 'haar': 1712, 'versteht': 1713, 'durchaus': 1714, 'youtube': 1715, 'bunt': 1716, 'muslime': 1717, 'anderen': 1718, 'pqgregor': 1719, 'ichbinschoener': 1720, 'gmeiderich': 1721, 'zeichen': 1722, 'gerecht': 1723, 'fiel': 1724, 'louiecrit': 1725, '0001f607': 1726, 'wetter': 1727, 'kriegen': 1728, 'hin': 1729, 'ell': 1730, 'apa': 1731, 'ethnische': 1732, 'stelle': 1733, 'boden': 1734, 'reich': 1735, 'troll': 1736, 'reichsbuerger': 1737, 'insbesondere': 1738, 'ausserdem': 1739, 'umgekeh': 1740, 'live': 1741, '0001f1e9': 1742, '0001f1ea': 1743, 'venezuela': 1744, 'uebel': 1745, 'block': 1746, 'sowie': 1747, 'kanzleramt': 1748, 'probleme': 1749, 'meinte': 1750, 'unterstellen': 1751, 'be': 1752, 'marx': 1753, 'akademischen': 1754, 'sohn': 1755, 'debatte': 1756, 'merke': 1757, 'unterschiede': 1758, 'kritisieren': 1759, 'knapp': 1760, '60': 1761, 'muslimische': 1762, 'ihr': 1763, 'vogel': 1764, 'pegida': 1765, 'weltweit': 1766, 'saudi': 1767, 'arabien': 1768, 'baut': 1769, 'afrikaner': 1770, 'wissenschaftlichen': 1771, 'leistung': 1772, 'nationen': 1773, 'weisser': 1774, 'merkels': 1775, 'konze': 1776, 'rufen': 1777, 'meer': 1778, 'definie': 1779, 'blase': 1780, 'schwachsinn': 1781, 'brauch': 1782, 'tieren': 1783, '50': 1784, '00': 1785, 'millerntor': 1786, 'sky': 1787, 'drin': 1788, 'melden': 1789, 'verlie': 1790, 'musik': 1791, 'wahr': 1792, 'och': 1793, 'freut': 1794, 'vorne': 1795, 'dfb': 1796, 'todespuschel': 1797, 'schaut': 1798, 'team': 1799, 'grundsaetzlich': 1800, 'isso': 1801, 'faengt': 1802, 'hinten': 1803, 'herz': 1804, 'sankt': 1805, 'wand': 1806, '69': 1807, 'hmmmm': 1808, 'hauptsache': 1809, 'unbedingt': 1810, 'kack': 1811, 'feiern': 1812, 'sitzt': 1813, 'app': 1814, 'spaltung': 1815, 'respekt': 1816, 'kritisie': 1817, 'widerlegt': 1818, 'falschen': 1819, 'ditfu': 1820, 'staates': 1821, 'existie': 1822, 'kahrs': 1823, 'lurhenne': 1824, 'tschuess': 1825, 'auslaender': 1826, 'gemeinschaft': 1827, 'widerspricht': 1828, 'bin': 1829, 'rechter': 1830, 'absolut': 1831, 'obwohl': 1832, 'schreibst': 1833, 'erzaehlt': 1834, 'gehabt': 1835, 'erleben': 1836, 'dich': 1837, 'lenin': 1838, 'kennen': 1839, 'schrieb': 1840, 'fetisch': 1841, 'schreibe': 1842, 'nsu': 1843, 'freien': 1844, 'regeln': 1845, 'drohen': 1846, 'besondere': 1847, 'prinzip': 1848, 'tazgezwitscher': 1849, 'bs': 1850, 'abschiebung': 1851, 'konservative': 1852, 'anspruch': 1853, 'vorschlag': 1854, 'neu': 1855, '9': 1856, 'starke': 1857, 'retweeten': 1858, 'rechten': 1859, 'fuchs': 1860, 'back': 1861, 'jfda': 1862, 'ev': 1863, 'schoenen': 1864, 'wissenschaft': 1865, 'jreichelt': 1866, 'bundeswehr': 1867, 'kunst': 1868, 'what': 1869, 'grknzrstrr': 1870, 'klingt': 1871, 'komm': 1872, 'fickt': 1873, 'erlebt': 1874, 'kurze': 1875, 'argumentum': 1876, 'ad': 1877, 'wahren': 1878, 'innerhalb': 1879, 'brauche': 1880, 'tief': 1881, 'bekomme': 1882, 'verfolgung': 1883, 'wusste': 1884, 'frueh': 1885, 'juckt': 1886, 'bestehen': 1887, 'bieten': 1888, 'bestes': 1889, 'guete': 1890, 'dann': 1891, 'verlangen': 1892, 'bewegung': 1893, 'verschiedenen': 1894, 'sehr': 1895, 'beleg': 1896, 'erarbeitet': 1897, 'stiftung': 1898, 'niveau': 1899, 'blog': 1900, 'existenz': 1901, 'bilden': 1902, 'existenzrecht': 1903, 'nutzt': 1904, 'eindeutig': 1905, 'prozent': 1906, 'volle': 1907, 'solltest': 1908, 'link': 1909, 'absurd': 1910, 'aussieht': 1911, 'mittelmeer': 1912, 'tatsaechlichen': 1913, 'regen': 1914, 'kassieren': 1915, 'mieses': 1916, 'superliebling': 1917, 'asylindustrie': 1918, 'ichbinkoelnerin': 1919, 'wieviel': 1920, 'wahlen': 1921, 'google': 1922, 'banken': 1923, 'verfuegung': 1924, 'schmierblatt': 1925, 'focus': 1926, 'mutter': 1927, 'erkennt': 1928, 'erlauben': 1929, 'brennt': 1930, '0001f62b': 1931, 'ordnung': 1932, 'wo': 1933, 'volks': 1934, 'deutschlandfeindlichen': 1935, 'bekaempfen': 1936, 'nasanasal': 1937, 'stimulator': 1938, 'jugend': 1939, 'illegale': 1940, 'schaemen': 1941, 'nebenbei': 1942, 'luft': 1943, 'schulen': 1944, 'netzdenunziant': 1945, 'deutsch365': 1946, 'akzeptieren': 1947, 'refugees': 1948, 'haufen': 1949, 'perverse': 1950, 'georg': 1951, 'einkommen': 1952, 'aufs': 1953, 'sozialpolitik': 1954, 'protestieren': 1955, 'gegenstand': 1956, 'wuenscht': 1957, 'unglaubwuerdig': 1958, 'wollte': 1959, 'pass': 1960, '21': 1961, 'stolz': 1962, 'aerzte': 1963, 'lehnt': 1964, 'gesundheit': 1965, 'keiner': 1966, 'erfahren': 1967, 'hatte': 1968, 'unwaehlbar': 1969, 'monat': 1970, 'druck': 1971, 'stimme': 1972, 'rund': 1973, 'chefin': 1974, 'andrea': 1975, 'fueh': 1976, 'mitglieder': 1977, 'inzwischen': 1978, 'derzeit': 1979, 'kindergeld': 1980, 'wohnung': 1981, 'unmoeglich': 1982, 'sklaverei': 1983, 'abschaffung': 1984, 'agenda': 1985, 'griff': 1986, 'legitim': 1987, 'annegret': 1988, 'voelker': 1989, 'lauter': 1990, 'vorsitzende': 1991, 'falle': 1992, 'ansehen': 1993, 'sendung': 1994, 'knecht': 1995, 'ruprecht': 1996, 'heutige': 1997, 'bedanken': 1998, 'ergibt': 1999, 'journalisten': 2000, 'argument': 2001, 'klatschen': 2002, 'pomo': 2003, 'sex': 2004, 'dak': 2005, 'hassen': 2006, 'sibel': 2007, 'schick': 2008, 'getan': 2009, 'fernsehen': 2010, 'engels': 2011, 'marxismus': 2012, 'vergangenheit': 2013, 'antideutsche': 2014, 'meme': 2015, 'strukturen': 2016, 'fleisch': 2017, 'her': 2018, 'erinnern': 2019, 'bedenken': 2020, 'erledigt': 2021, 'wirkt': 2022, 'gruppen': 2023, 'politburogamer': 2024, 'zugelassen': 2025, 'knast': 2026, 'prozess': 2027, 'befreit': 2028, 'nenne': 2029, 'shame': 2030, 'incel': 2031, 'hoeher': 2032, 'platt': 2033, 'symbolik': 2034, 'locker': 2035, 'woe': 2036, 'demonstrieren': 2037, 'uebernommen': 2038, 'leicht': 2039, 'bullshit': 2040, 'palmer': 2041, 'erfahrung': 2042, 'erreichen': 2043, 'holler': 2044, 'spo': 2045, 'geholfen': 2046, 'panik': 2047, 'empfehle': 2048, 'tigerelch': 2049, 'marcobuelow': 2050, 'spiele': 2051, '27': 2052, 'gewesen': 2053, 'zweifel': 2054, 'vergleichen': 2055, 'franz': 2056, 'wuesste': 2057, 'cookdirkh': 2058, 'infos': 2059, 'frag': 2060, 'beschaeftigen': 2061, 'miriamwoelke': 2062, 'trauer': 2063, 'gesetze': 2064, 'osten': 2065, 'bislang': 2066, 'ausgehen': 2067, 'ige': 2068, 'ismailtipi': 2069, 'meinen': 2070, 'hund': 2071, '26': 2072, 'menschenverstand': 2073, '0001f627': 2074, 'gauland': 2075, 'k1schwester': 2076, 'philosophie': 2077, 'jungle': 2078, 'eidigen': 2079, 'denk': 2080, 'netz': 2081, 'putin': 2082, 'dahinter': 2083, 'gewaehlte': 2084, 'kluk': 2085, 'bedroht': 2086, 'reibung': 2087, 'werke': 2088, '0001f3b5': 2089, 'man': 2090, 'googlenews': 2091, 'berichtet': 2092, 'manipulie': 2093, 'aktuell': 2094, 'ntv': 2095, 'migrationspakt': 2096, 'stephanieklm8': 2097, 'zionistischer': 2098, 'demokratisch': 2099, 'ashkenazim': 2100, 'sog': 2101, 'nachfahren': 2102, 'juedischen': 2103, 'vaseline': 2104, 'splitter': 2105, 'voelkerrecht': 2106, 'palaestinensern': 2107, 'freund': 2108, 'terrorbanden': 2109, 'kolonisierung': 2110, 'zionismus': 2111, 'namens': 2112, 'verleumden': 2113, 'religioesen': 2114, 'tel': 2115, 'aviv': 2116, 'selten': 2117, 'ahmadmansour': 2118, 'j': 2119, 'mentions': 2120, 'isolie': 2121, 'island': 2122, 'on': 2123, 'antizionismus': 2124, 'nurzumballernda': 2125, 'ruhe': 2126, 'schweizok': 2127, 'croqisunshine': 2128, 'swingtanz': 2129, 'miriamozen': 2130, 'pfui': 2131, 'luna': 2132, 'le': 2133, 'sachen': 2134, 'sack': 2135, 'nazifresser': 2136, 'wolfssanguis': 2137, 'netteliebe': 2138, 'abgelehnten': 2139, 'behauptung': 2140, 'rueckfuehrungen': 2141, 'tatsache': 2142, 'trollpunk69': 2143, 'herrlehmann': 2144, 'lieselotte2604': 2145, 'manta': 2146, 'proseccoprinz': 2147, 'moschee': 2148, 'defendafrin': 2149, 'hauptwache': 2150, '13h': 2151, '15h': 2152, 'kurdistan': 2153, 'hbf': 2154, 'vollversammlung': 2155, 'rojrev69': 2156, 'hdp': 2157, 'correctiv': 2158, 'ausgeht': 2159, 'dlfnachrichten': 2160, 'senden': 2161, 'stz': 2162, 'erkennbar': 2163, 'trifft': 2164, 'wiesbaden': 2165, 'focusonline': 2166, 'ritt': 2167, 'springen': 2168, 'musste': 2169, 'billig': 2170, 'funktionieren': 2171, 'milliarden': 2172, 'gefaengnisse': 2173, 'fachkraefte': 2174, 'jungfernstieg': 2175, 'ge': 2176, 'swraktuellbw': 2177, 'loest': 2178, 'ndrsh': 2179, 'jaehrige': 2180, 'verdaechtigen': 2181, 'abgeschoben': 2182, 'verhaftet': 2183, 'still': 2184, 'den': 2185, 'pkw': 2186, 'duerfte': 2187, 'einzelfall': 2188, 'bedeutung': 2189, 'mz': 2190, 'quedlinburg': 2191, 'mzwebde': 2192, 'einer': 2193, 'hoer': 2194, 'entscheidung': 2195, 'gutmensch': 2196, 'heul': 2197, 'einzeltaeter': 2198, 'runter': 2199, 'verbrecher': 2200, 'invasion': 2201, 'dame': 2202, 'bund': 2203, 'stimmung': 2204, 'geschaffen': 2205, 'geistes': 2206, 'erwaehnt': 2207, 'zufrieden': 2208, 'laecheln': 2209, 'dankbar': 2210, 'jaehriger': 2211, 'bewaehrung': 2212, 'paradies': 2213, 'schaden': 2214, 'benutzt': 2215, 'steuergeld': 2216, 'erfindung': 2217, 'aufrecht': 2218, 'asylbewerber': 2219, 'mexcybill': 2220, 'ruecktritt': 2221, 'bezogen': 2222, 'form': 2223, 'bei': 2224, '45': 2225, 'lohnt': 2226, 'ueberlegen': 2227, 'tausende': 2228, 'tichyseinblick': 2229, 'formen': 2230, 'bildung': 2231, 'eigendlich': 2232, 'aufarbeitung': 2233, 'geniessen': 2234, 'echten': 2235, 'gruende': 2236, 'sumpf': 2237, 'kostet': 2238, 'staedte': 2239, 'labern': 2240, 'schiesst': 2241, 'wind': 2242, 'ruinie': 2243, 'last': 2244, 'radikale': 2245, 'netzwerk': 2246, 'verkauft': 2247, 'verkaufen': 2248, 'bach': 2249, 'jaehrigen': 2250, 'schlagen': 2251, 'krimminellen': 2252, 'hammer': 2253, 'tote': 2254, 'bestimmen': 2255, 'vermissen': 2256, 'bundeskanzlerin': 2257, 'verbloedet': 2258, 'petraschnautzer': 2259, '0001f915': 2260, 'em': 2261, 'saar': 2262, 'konservativen': 2263, 'sagst': 2264, 'klatsche': 2265, 'chebli': 2266, 'markus': 2267, 'sozis': 2268, '0001f917': 2269, '0001f92f': 2270, 'maedchen': 2271, 'bewahren': 2272, 'ansichten': 2273, 'interessant': 2274, 'geschieht': 2275, '0001f9d0': 2276, 'big': 2277, 'brennen': 2278, 'bekanntlich': 2279, 'patriarchat': 2280, 'viel': 2281, 'toten': 2282, 'universitaeten': 2283, 'commiesraus': 2284, 'zaehlt': 2285, 'gebaut': 2286, 'groessenwahn': 2287, '2764': 2288, 'inneren': 2289, 'globalisten': 2290, 'schariapa': 2291, 'arabische': 2292, 'asylrecht': 2293, 'like': 2294, 'gefasst': 2295, 'sachsen': 2296, 'weihnachtsmarkt': 2297, 'russland': 2298, 'grenze': 2299, 'herrschende': 2300, 'museum': 2301, 'fans': 2302, 'prueffall': 2303, 'blut': 2304, 'fussirud': 2305, 'gehoere': 2306, 'vorhanden': 2307, 'notwehr': 2308, 'staendig': 2309, 'geradezu': 2310, 'einheimische': 2311, 'fehlen': 2312, 'kriminelle': 2313, 'dreist': 2314, 'hinweis': 2315, 'verfassung': 2316, 'zivilisie': 2317, 'typisch': 2318, 'elsmann': 2319, 'zunaechst': 2320, 'shoa': 2321, 'angelikatappe': 2322, 'ex': 2323, 'foxb29528584': 2324, 'erkenntnis': 2325, 'entziehen': 2326, 'wichtiger': 2327, 'hinterher': 2328, 'stets': 2329, '0001f411': 2330, 'geaende': 2331, 'chinoe21': 2332, 'chinesen': 2333, 'rasse': 2334, 'natur': 2335, 'che': 2336, 'schwarze': 2337, 'geist': 2338, 'genauer': 2339, 'kannte': 2340, 'exakt': 2341, 'globale': 2342, 'ansiedlung': 2343, 'inzucht': 2344, 'nunmal': 2345, 'supremacy': 2346, 'nachdem': 2347, 'wahnsinn': 2348, 'gefaelligst': 2349, 'somit': 2350, 'one': 2351, 'pech': 2352, 'juedisches': 2353, 'likes': 2354, 'fckafd': 2355, 'einfuehrung': 2356, 'guck': 2357, 'verlinkt': 2358, 'beweis': 2359, 'rechtfe': 2360, 'besucht': 2361, 'enthalten': 2362, 'mutti': 2363, 'tage': 2364, 'zeitgemaess': 2365, 'foerdern': 2366, 'pleite': 2367, 'auseinandersetzung': 2368, 'hab': 2369, 'obe': 2370, 'nato': 2371, 'schlechte': 2372, 'aue': 2373, 'willkommen': 2374, 'aufstehen': 2375, 'tore': 2376, 'offiziell': 2377, 'beeindruckt': 2378, 'kosten': 2379, 'geilste': 2380, 'tante': 2381, '3sat': 2382, 'pfeifen': 2383, 'bessere': 2384, 'mannschaft': 2385, 'schiessen': 2386, 'armes': 2387, 'segen': 2388, 'relegation': 2389, 'spitzenreiter': 2390, 'pro': 2391, 'vernuenftige': 2392, 'albern': 2393, 'bochum': 2394, 'eins': 2395, 'klassenkampf': 2396, 'geile': 2397, 'sinnlos': 2398, 'stirbt': 2399, 'auszuhalten': 2400, 'verschwoerung': 2401, 'solch': 2402, 'db': 2403, 'wild': 2404, 'gemeint': 2405, 'papier': 2406, 'auseinander': 2407, 'ihn': 2408, 'schlicht': 2409, 'jeden': 2410, 'riot': 2411, 'ziele': 2412, 'reter': 2413, 'kapitalistischen': 2414, 'verdeutlicht': 2415, 'konstantinnotz': 2416, 'kinzig9': 2417, 'veranstaltung': 2418, 'semicaper': 2419, 'aufmerksam': 2420, 'derjenige': 2421, 'rassistisch': 2422, 'bleibe': 2423, 'npd': 2424, 'vorwurf': 2425, 'reagieren': 2426, 'versuch': 2427, 'roten': 2428, 'nennst': 2429, 'schau': 2430, 'humanismus': 2431, 'kommunistischen': 2432, 'niemanden': 2433, 'maerchen': 2434, 'darunter': 2435, 'gezielte': 2436, 'scheinst': 2437, 'stumm': 2438, 'herrschaft': 2439, 'lehne': 2440, 'stehe': 2441, 'zerstoerung': 2442, 'laden': 2443, 'aktionen': 2444, 'klaeren': 2445, 'meinst': 2446, 'aehm': 2447, 'gehst': 2448, 'beeinflusst': 2449, 'unabhaengigkeit': 2450, 'repo': 2451, 'miete': 2452, 'zerstoeren': 2453, 'acht': 2454, 'krise': 2455, 'mai': 2456, 'november': 2457, 'oben': 2458, 'werdasliestist': 2459, 'b0911': 2460, 'lebe': 2461, 'spaetestens': 2462, 'at': 2463, 'weitem': 2464, 'friedrich': 2465, 'daraus': 2466, 'aehnlich': 2467, 'amadeuantonio': 2468, 'tiefer': 2469, 'hierzu': 2470, 'blau': 2471, 'atemzug': 2472, 'draus': 2473, 'unterstuetzt': 2474, 'einkaufen': 2475, 'gegessen': 2476, 'wochenende': 2477, 'abgeben': 2478, 'fotos': 2479, '90': 2480, 'passen': 2481, 'sprecher': 2482, 'finger': 2483, '08': 2484, 'pause': 2485, 'staerker': 2486, 'vieler': 2487, 'verweisen': 2488, 'nurnoch': 2489, 'angesprochen': 2490, 'generell': 2491, 'steckt': 2492, 'schwerer': 2493, 'vergewaltigung': 2494, 'neben': 2495, 'serie': 2496, 'norwegen': 2497, 'bahamas': 2498, 'wochen': 2499, 'beende': 2500, 'wenigen': 2501, 'aufm': 2502, 'leude': 2503, 'witze': 2504, 'ziehst': 2505, 'auge': 2506, 'behalten': 2507, 'kitka': 2508, 'besseres': 2509, 'herum': 2510, 'bauch': 2511, 'tatzaechlich': 2512, 'absichtlich': 2513, 'kaputt': 2514, 'drehen': 2515, 'dass': 2516, 'gesamte': 2517, 'gs': 2518, 'verwe': 2519, 'fundament': 2520, 'biologie': 2521, 'genderstudies': 2522, 'explizit': 2523, 'gefragt': 2524, 'eingestellt': 2525, 'baum': 2526, 'schmidt': 2527, 'gender': 2528, 'weiterer': 2529, 'sicht': 2530, 'vorgehen': 2531, 'argumentation': 2532, 'sta': 2533, 'objektiver': 2534, 'verbreitet': 2535, 'alternativen': 2536, 'beweisen': 2537, 'maul': 2538, 'monaten': 2539, 'groessere': 2540, 'keller': 2541, 'hose': 2542, 'lohnen': 2543, 'fuehl': 2544, 'atmen': 2545, 'schulter': 2546, 'wahemue': 2547, 'goldene': 2548, 'bio': 2549, 'moslembonus': 2550, 'afrik': 2551, 'aufhoeren': 2552, 'dreckspack': 2553, 'irgendein': 2554, 'treiben': 2555, 'eingesetzt': 2556, 'gesetzt': 2557, 'laenger': 2558, 'oma': 2559, '66norweger66': 2560, 'fake': 2561, 'knie': 2562, 'linksfaschistischen': 2563, 'illegal': 2564, 'geboren': 2565, 'aufgewachsen': 2566, 'freiwillig': 2567, 'gtzfrmming': 2568, 'produkt': 2569, 'kuppp005': 2570, 'allahkotz': 2571, 'kackbar': 2572, 'friedens': 2573, 'moslems': 2574, 'teppich': 2575, 'schweizok2': 2576, 'widerlicher': 2577, 'ausueben': 2578, 'sawsanchebli': 2579, 'staatlichen': 2580, 'scholz': 2581, 'zirkus': 2582, 'terroranschlag': 2583, 'aba': 2584, 'gelaufen': 2585, 'bunte': 2586, 'uebrig': 2587, 'leisten': 2588, 'politisches': 2589, 'menge': 2590, 'verhaeltnisse': 2591, 'europaeische': 2592, 'massenmoerder': 2593, 'spreche': 2594, 'zustaende': 2595, 'destabilisierung': 2596, 'anderes': 2597, 'schmeisst': 2598, 'schoeneberg': 2599, 'angewide': 2600, 'humor': 2601, 'twittern': 2602, 'kohle': 2603, 'anemalon19': 2604, 'eingesper': 2605, 'kirche': 2606, 'schliesslich': 2607, 'staatliche': 2608, 'beobachten': 2609, '0001f636': 2610, 'expe': 2611, 'wuenschen': 2612, 'schirm': 2613, 'renatekuenast': 2614, 'anhaenger': 2615, 'papst': 2616, 'mieser': 2617, 'don': 2618, 'gegner': 2619, 'kriechen': 2620, 'vollen': 2621, 'andreasstraub': 2622, 'warnt': 2623, 'rechtsradikaler': 2624, 'erneut': 2625, 'gearbeitet': 2626, 'gefallen': 2627, 'handy': 2628, 'neumann': 2629, '1948': 2630, '2003': 2631, 'f': 2632, 'verrecken': 2633, 'arbeitsminister': 2634, 'hube': 2635, 'mindestlohn': 2636, 'schlimmste': 2637, 'schueler': 2638, 'vize': 2639, 'forderung': 2640, 'lohn': 2641, 'generationen': 2642, 'januar': 2643, 'messerstecher': 2644, 'bundesland': 2645, 'angriffe': 2646, 'aerztin': 2647, 'abtreibungen': 2648, 'jahres': 2649, 'fair': 2650, 'malochen': 2651, 'grossbritannien': 2652, 'parlament': 2653, 'status': 2654, 'aerzten': 2655, 'konsequenzen': 2656, 'umstrittener': 2657, 'tages': 2658, 'heutzutage': 2659, 'schlechtes': 2660, 'willy': 2661, 'gaebe': 2662, 'schneller': 2663, 'denn': 2664, 'sprachen': 2665, 'generalsekretaer': 2666, 'mini': 2667, 'angriff': 2668, 'sozialen': 2669, 'versorgung': 2670, 'gezwungen': 2671, 'meinungsfreiheit': 2672, 'kostenlose': 2673, 'jemen': 2674, 'waffen': 2675, 'leichen': 2676, 'umweltschutz': 2677, 'billige': 2678, 'finanzen': 2679, 'abtreibung': 2680, 'digitalisierung': 2681, 'eitag': 2682, 'wehren': 2683, 'gerettet': 2684, 'arbeitgeber': 2685, 'paragraphen': 2686, 'widersprechen': 2687, 'plant': 2688, 'hungerloehne': 2689, 'voran': 2690, 'friedliche': 2691, 'alice': 2692, 'weidel': 2693, 'knochen': 2694, 'umfragen': 2695, 'wahlgangs': 2696, '1001': 2697, 'gestiegen': 2698, '1000': 2699, 'titel': 2700, 'halben': 2701, 'preis': 2702, '600': 2703, 'bekamen': 2704, 'tritt': 2705, 'einsetzen': 2706, 'habeck': 2707, 'gesellschaftlichen': 2708, 'jusos': 2709, 'systematisch': 2710, 'wetten': 2711, '49': 2712, 'hegel': 2713, 'fischblog': 2714, 'buergerlichen': 2715, 'anteil': 2716, 'hueh': 2717, 'togliatti47': 2718, 'nice': 2719, 'saturnos': 2720, 'bestimmte': 2721, 'schwierig': 2722, 'gehts': 2723, 'rausholen': 2724, 'verstand': 2725, 'teile': 2726, 'takes': 2727, 'antikommunismus': 2728, 'dvds72439334': 2729, 'out': 2730, 'betreiben': 2731, 'theorie': 2732, 'cocacola': 2733, 'nakromar': 2734, 'fettcreme': 2735, 'bisherigen': 2736, 'autos': 2737, 'know': 2738, 'produkte': 2739, 'halbwegs': 2740, 'geloest': 2741, 'forderungen': 2742, 'ideologische': 2743, 'bescheid': 2744, 'streiten': 2745, 'vermutlich': 2746, 'gewisse': 2747, 'hans': 2748, 'aussen': 2749, 'tradition': 2750, 'kein': 2751, 'schlechter': 2752, 'autor': 2753, 'self': 2754, 'empowerment': 2755, 'buergerlicher': 2756, 'antifaschismus': 2757, 'kommunist': 2758, 'kontext': 2759, 'alles': 2760, 'woke': 2761, 'lernt': 2762, 'backenkrampf': 2763, 'zinsen': 2764, 'arowings1': 2765, 'anziehen': 2766, 'inhaltslose': 2767, 'bezog': 2768, 'notwendigkeit': 2769, 'gelben': 2770, 'steine': 2771, 'schmeissen': 2772, 'katastrophe': 2773, 'relevanz': 2774, 'bemerkenswe': 2775, 'verwendet': 2776, 'vorsichtig': 2777, 'irgendwelche': 2778, 'acid23': 2779, 'bock': 2780, 'gucken': 2781, 'feststellen': 2782, 'kugel': 2783, 'leichter': 2784, 'kapieren': 2785, 'schmerz': 2786, 'or': 2787, 'mund': 2788, 'business': 2789, 're': 2790, 'diverse': 2791, 'rock': 2792, 'cool': 2793, 'interessen': 2794, 'hashtag': 2795, 'eliyahhavemann': 2796, 'wirken': 2797, 'faul': 2798, 'mut': 2799, 'gebu': 2800, 'ermordeten': 2801, 'baby': 2802, 'shira': 2803, 'siehst': 2804, 'produzie': 2805, 'nahen': 2806, 'fahrer': 2807, 'kollegin': 2808, 'gewaltsam': 2809, 'anblick': 2810, 'straftat': 2811, 'krankenhaus': 2812, 'duloxetin': 2813, '120mg': 2814, 'demnaechst': 2815, 'loswerden': 2816, 'aha': 2817, 'dicke': 2818, 'raut': 2819, 'jugendwiderstand': 2820, 'groesser': 2821, 'duemmer': 2822, 'protest': 2823, 'bedrohung': 2824, 'demokratische': 2825, 'verharmlost': 2826, 'praesidenten': 2827, 'diktator': 2828, 'bomben': 2829, 'massen': 2830, 'fan': 2831, 'kritiker': 2832, 'linksliberale': 2833, 'beleidigt': 2834, 'profil': 2835, 'journos': 2836, 'lappen': 2837, 'geklae': 2838, 'internationale': 2839, 'sophiepassmann': 2840, 'verkeh': 2841, '29': 2842, 'buergi': 2843, 'xd': 2844, 'verblendet': 2845, 'gefuehle': 2846, 'sry': 2847, 'frege': 2848, 'russell': 2849, 'quine': 2850, 'durchlaufen': 2851, 'derrida': 2852, 'geldes': 2853, 'prove': 2854, 'wrong': 2855, 'juenger': 2856, 'alman': 2857, 'kommunistische': 2858, 'filme': 2859, 'diskutieren': 2860, 'faschisten': 2861, 'mitte': 2862, 'just': 2863, 'hetzt': 2864, 'qua': 2865, 'identitaere': 2866, 'schlaegt': 2867, 'giletsjaunes': 2868, 'ehrenmann': 2869, '0001f525': 2870, 'reissen': 2871, 'zivilisation': 2872, 'hoffnung': 2873, 'aufgeben': 2874, 'ueberzeugt': 2875, 'nimm': 2876, 'asylbetrueger': 2877, 'trends': 2878, 'hoere': 2879, 'historische': 2880, 'waren': 2881, 'praesentieren': 2882, 'nirgends': 2883, '0001f648': 2884, 'gross': 2885, 'migrationsbericht': 2886, 'diskutie': 2887, 'beleidigungen': 2888, 'michael': 2889, 'vielmehr': 2890, 'erfaeh': 2891, 'berufen': 2892, 'eventuell': 2893, 'taeters': 2894, 'arabisch': 2895, 'bottrop': 2896, 'soli': 2897, 'gekommen': 2898, 'loriotfehlt': 2899, 'kunden': 2900, 'gold': 2901, 'exil': 2902, 'versprochen': 2903, 'hause': 2904, 'verdient': 2905, 'fehlverhalten': 2906, 'heyhoheyho7': 2907, 'utew19': 2908, 'buendnis': 2909, 'truppe': 2910, 'sobald': 2911, 'ideologischen': 2912, 'verdraengen': 2913, 'kittypunk7': 2914, 'bezieht': 2915, 'supremacist': 2916, 'massakrie': 2917, 'region': 2918, 'voelkermord': 2919, 'fussball': 2920, 'jewish': 2921, 'siedle': 2922, 'erroristen': 2923, 'unabhaengige': 2924, 'saeuberung': 2925, 'historikers': 2926, 'pappe': 2927, 'noe': 2928, 'staaten': 2929, 'oehm': 2930, 'stahlbaron': 2931, 'beschmieren': 2932, 'menschlichkeit': 2933, 'israeli': 2934, 'forces': 2935, 'doku': 2936, 'ueblichen': 2937, 'mietmaeuler': 2938, 'sowohl': 2939, 'roemer': 2940, 'erfunden': 2941, 'berufsluegner': 2942, 'hetzen': 2943, 'gaza': 2944, 'primaer': 2945, 'unterwegs': 2946, 'ausreichend': 2947, 'gepostet': 2948, 'wohin': 2949, 'textverstaendnis': 2950, 'loch': 2951, 'heim': 2952, 'enstein': 2953, 'doppelte': 2954, 'integrie': 2955, 'verhinde': 2956, 'gefangenen': 2957, 'redet': 2958, 'einziges': 2959, 'nachts': 2960, 'tendenzioes': 2961, 'demos': 2962, 'gespannt': 2963, 'ardtelaviv': 2964, 'fleischauge': 2965, 'vermehren': 2966, 'aryeshalicar': 2967, 'lobbyisten': 2968, 'imo': 2969, 'polemik': 2970, '0001f646': 2971, 'memes': 2972, 'son': 2973, 'kneipenjenki': 2974, 'same': 2975, 'aneleh08151': 2976, 'differenzieren': 2977, 'angreift': 2978, 'go': 2979, 'freiwildjaeger': 2980, '0001f91d': 2981, 'schlachten': 2982, 'xenophobie': 2983, 'komplex': 2984, 'nah': 2985, 'auftritt': 2986, 'verdammt': 2987, 'mob': 2988, 'jedenfalls': 2989, 'bietet': 2990, 'denkst': 2991, '666': 2992, 'dresden': 2993, 'stroemung': 2994, 'ah': 2995, 'grunde': 2996, 'jap': 2997, 'countmeout': 2998, 'parasiten': 2999, 'jenshagen12': 3000, 'mittelfinger': 3001, 'ghostwriter': 3002, 'hobby': 3003, 'hysterie': 3004, 'onymonymo': 3005, 'spazieren': 3006, 'zwingen': 3007, 'torsten': 3008, 'luer': 3009, 'vonzainach': 3010, 'clown': 3011, 'nanniag': 3012, 'mozde': 3013, 'afdwirkt': 3014, 'georgrestle': 3015, 'karma': 3016, 'jkasek': 3017, 'bitch': 3018, 'irgend': 3019, 'doragezwitscher': 3020, 'menaretrash': 3021, 'warumafd': 3022, 'wilden': 3023, 'fragst': 3024, 'nippel': 3025, 'zappi': 3026, 'mlebeauf': 3027, 'montevarchi19': 3028, '161schlotle': 3029, 'tommitulpe62': 3030, 'katja44158378': 3031, 'international': 3032, 'policestil': 3033, 'efdlan': 3034, 'dreilaender': 3035, 'voraus': 3036, 'dreht': 3037, 'com': 3038, 'amygdala712': 3039, 'rsigurdurson': 3040, 'aachener': 3041, 'kriege': 3042, 'weiteres': 3043, 'ler': 3044, 'log': 3045, 'prime': 3046, 'time': 3047, 'keim': 3048, 'rupe': 3049, 'amoder': 3050, 'buerger18': 3051, 'thaler': 3052, 'timo': 3053, 'inklusive': 3054, 'gruen': 3055, 'hoehn': 3056, 'mica4711': 3057, 'ferrox': 3058, 'lil': 3059, 'lizzy': 3060, 'stbrandner': 3061, 'hilfreich': 3062, 'dada': 3063, 'grand': 3064, 'zack': 3065, '43ermilch': 3066, 'noafd': 3067, 'gedankensprudel': 3068, 'ronalfinnho': 3069, 'caseysunffm': 3070, '0001f611': 3071, 'homie': 3072, 'hoellenaufsicht': 3073, 'fanta': 3074, 'needfull': 3075, 'verlierer': 3076, 'fahrrad': 3077, 'faeh': 3078, 'craggy': 3079, 'mr': 3080, 'siphr0dias': 3081, 'melak96': 3082, 'dummgeschwaetz': 3083, 'gutleut': 3084, 'bockenheim': 3085, 'konsulat': 3086, 'rojava': 3087, '17h': 3088, 'blockupy': 3089, 'notroika': 3090, 'cafeexzess': 3091, 'saalbau': 3092, 'nofragida': 3093, 'kobane': 3094, 'polit': 3095, 'sbahnberlin': 3096, 'dietechniker': 3097, 'hasnainkazim': 3098, 'historie': 3099, 'richtung': 3100, 'weshalb': 3101, 'realjohr': 3102, 'kemalisten': 3103, 'mopo': 3104, 'strauss': 3105, 'kohl': 3106, 'schwarzgeld': 3107, '1991': 3108, 'zecken': 3109, 'kacken': 3110, 'definitiv': 3111, 'oerr': 3112, 'recherche': 3113, 'herbei': 3114, 'freude': 3115, 'betrug': 3116, 'naehe': 3117, 'baueropfer': 3118, 'verwunde': 3119, 'rbbabendschau': 3120, 'tanzt': 3121, 'passend': 3122, 'singt': 3123, 'glotzen': 3124, 'kamera': 3125, 'handelsblatt': 3126, 'schoener': 3127, 'zdfhannover': 3128, 'durchschaubar': 3129, 'ereignis': 3130, 'sender': 3131, 'besitzt': 3132, 'erika': 3133, 'schrank': 3134, 'strafen': 3135, 'ndrnds': 3136, 'sputnik': 3137, 'toitsch': 3138, 'gerichte': 3139, 'faellen': 3140, 'weh': 3141, 'haft': 3142, 'seawatch': 3143, 'allerliebster': 3144, 'bpol': 3145, 'haengematte': 3146, 'bloedsinn': 3147, 'verdacht': 3148, 'schiff': 3149, 'rassen': 3150, 'entwickeln': 3151, 'getreten': 3152, 'anschein': 3153, 'vorstand': 3154, 'agrar': 3155, 'umgebaut': 3156, 'zdfnrw': 3157, 'lip': 3158, 'jemanden': 3159, 'darstellen': 3160, 'widerlichen': 3161, 'herhalten': 3162, 'falscher': 3163, 'berlinerzeitung': 3164, 'toitscher': 3165, 'kulturell': 3166, 'bedingt': 3167, 'sekte': 3168, 'herrlich': 3169, 'adresse': 3170, 'gerettete': 3171, 'haustuer': 3172, 'versorgen': 3173, 'psychisch': 3174, 'pisst': 3175, 'buchse': 3176, 'bmi': 3177, 'verharmlosen': 3178, 'zeitonline': 3179, 'philippinen': 3180, 'populismus': 3181, 'polizeiberlin': 3182, 'welch': 3183, '1933': 3184, 'gefolgt': 3185, 'haeftling': 3186, 'gaeste': 3187, 'taete': 3188, 'geschlagen': 3189, 'geldstrafe': 3190, 'morgenmagazin': 3191, 'realistischer': 3192, 'aufmerksamkeit': 3193, 'ausschluss': 3194, 'dreimal': 3195, 'fahrverbot': 3196, 'diebstahl': 3197, 'erhaelt': 3198, 'very': 3199, 'mh': 3200, 'beschrieben': 3201, 'gezeigt': 3202, 'br': 3203, 'kontrollie': 3204, 'mutmasslichen': 3205, 'entsorgt': 3206, 'versagen': 3207, 'ablenken': 3208, 'lobt': 3209, 'perfekt': 3210, 'passende': 3211, 'richter': 3212, 'irgendetwas': 3213, 'potpueree': 3214, 'outen': 3215, 'beweist': 3216, 'grosser': 3217, 'dressie': 3218, '33': 3219, 'ups': 3220, 'behandelt': 3221, 'sprich': 3222, 'hannover': 3223, '85': 3224, 'disqualifizie': 3225, 'intelligenz': 3226, 'wirbt': 3227, 'bloeden': 3228, 'reduzie': 3229, 'geheim': 3230, 'spitzel': 3231, 'pp': 3232, 'rabid': 3233, 'glow': 3234, 'nahrung': 3235, 'rolandtichy': 3236, 'dummes': 3237, 'einstellung': 3238, '0001f692': 3239, 'ausschliessen': 3240, 'erkel': 3241, 'vernichten': 3242, 'friedrichmerz': 3243, 'packt': 3244, 'irren': 3245, 'gerissen': 3246, 'klarer': 3247, 'pol': 3248, 'einreden': 3249, 'verunsichern': 3250, 'stuhl': 3251, 'spdbt': 3252, 'erinne': 3253, 'maassen': 3254, 'italien': 3255, 'oesterreich': 3256, 'ueberfallen': 3257, '22': 3258, 'vergewaltigen': 3259, 'zweite': 3260, 'ursache': 3261, 'westlichen': 3262, 'lindner': 3263, 'frohe': 3264, 'neuwahlen': 3265, 'bewahre': 3266, '0001f9d5': 3267, 'kampfbegriff': 3268, 'frank': 3269, 'machtdemonstration': 3270, 'afdkrefeld': 3271, 'mfs': 3272, 'schulterschluss': 3273, 'machte': 3274, 'voelkerrechtswidrig': 3275, 'stinksauer': 3276, 'alexarusss': 3277, 'intellektuell': 3278, 'remake': 3279, 'leonidas': 3280, 'ss': 3281, 'klimas': 3282, 'ruebe': 3283, 'weiblich': 3284, 'dan': 3285, 'more': 3286, 'sonne': 3287, 'installieren': 3288, 'inhalte': 3289, 'ansicht': 3290, 'schuettelt': 3291, 'chayenneheidi': 3292, 'kopftuch': 3293, 'tuerken': 3294, 'fuerchte': 3295, 'offenheit': 3296, 'blaue': 3297, 'bunter': 3298, 'katharina': 3299, 'bruesten': 3300, 'schlampen': 3301, 'propagie': 3302, 'erderwaermung': 3303, '40': 3304, 'womit': 3305, 'halte': 3306, 'nebst': 3307, 'kontrolle': 3308, 'mohammedkult': 3309, 'chauvinisten': 3310, 'krimineller': 3311, 'merkelsiedler': 3312, 'mao': 3313, 'kurs': 3314, 'keks': 3315, 'brachte': 3316, 'linkoide': 3317, 'aktionismus': 3318, 'mdegasse': 3319, 'koenig': 3320, 'freunden': 3321, 'mentnr9': 3322, 'assad': 3323, 'prioritaet': 3324, 'untergeht': 3325, 'auswendig': 3326, 'nationalsozialismus': 3327, 'verfolgten': 3328, 'gewaehren': 3329, 'merkmale': 3330, 'fdgo': 3331, 'oesterreicher': 3332, 'uebernimmt': 3333, 'beachtung': 3334, '5000': 3335, 'erschossen': 3336, 'mitgezaehlt': 3337, 'schutzsuchenden': 3338, 'australien': 3339, 'grenzschutz': 3340, 'kapern': 3341, 'vorderasien': 3342, 'orient': 3343, 'jahrzehnte': 3344, 'geschossen': 3345, 'valentin': 3346, 'konservativ': 3347, 'frauenfeindlich': 3348, 'weiblichen': 3349, 'zeitzumgehen': 3350, 'trennte': 3351, 'gekauften': 3352, 'wiederholt': 3353, 'ruhr': 3354, 'area51': 3355, 'merkelismus': 3356, 'riss': 3357, 'vollhonks': 3358, 'anstreben': 3359, '0001f984': 3360, '0001f921': 3361, '262a': 3362, 'volkes': 3363, 'grundgesetz': 3364, 'unterscheidet': 3365, 'verrueckt': 3366, 'selbstverstaendlich': 3367, 'hoecke': 3368, 'nr': 3369, 'beobachtet': 3370, 'union': 3371, 'dr': 3372, 'tati': 3373, 'vant': 3374, 'zusammenfassung': 3375, 'sabine98036212': 3376, 'drohung': 3377, 'real': 3378, 'verletzen': 3379, 'minderjaehrigen': 3380, 'ostmann1977': 3381, 'amberg': 3382, 'niedriglohn': 3383, 'left': 3384, 'leine': 3385, 'direkte': 3386, 'parallelgesellschaften': 3387, 'familienclans': 3388, 'polygamie': 3389, 'fruechtchen': 3390, 'autokorrektur': 3391, 'brutal': 3392, 'gebunden': 3393, 'hopfen': 3394, 'malz': 3395, 'umgang': 3396, 'safe': 3397, 'id35': 3398, 'naund10': 3399, 'puh': 3400, 'liz': 3401, 'mohn': 3402, '0001f634': 3403, 'basis': 3404, 'variante': 3405, 'varianten': 3406, '70': 3407, 'lesenswe': 3408, 'saemtliche': 3409, 'freundschaftlich': 3410, 'wissenschaftliches': 3411, 'historiker': 3412, 'lebte': 3413, 'jahrzehnten': 3414, 'sozi0815': 3415, '400': 3416, 'tradie': 3417, 'phone': 3418, 'stick': 3419, 'potentiell': 3420, 'gulag': 3421, '0001f6ab': 3422, 'asiaten': 3423, 'latinos': 3424, 'sonstwas': 3425, 'schwarzer': 3426, 'strukturell': 3427, 'widerlich': 3428, 'gegensatz': 3429, 'betrachten': 3430, 'stellung': 3431, 'zuwanderung': 3432, 'erstes': 3433, 'christentum': 3434, 'farbige': 3435, 'kamm': 3436, 'scheren': 3437, 'wissens': 3438, 'scheinen': 3439, 'feindseliger': 3440, 'absoluten': 3441, 'unterirdische': 3442, 'bewegt': 3443, 'aufgeklae': 3444, 'sexuelle': 3445, 'elite': 3446, 'muslimischer': 3447, 'schmarrn': 3448, 'watson': 3449, 'doppelrolle': 3450, 'eilung': 3451, 'schwarzen': 3452, 'kontinent': 3453, 'weissen': 3454, 'mittelfeld': 3455, 'genie': 3456, 'wueste': 3457, 'leidet': 3458, '0001f414': 3459, 'neuthfer': 3460, 'aktueller': 3461, 'begreift': 3462, 'beteiligt': 3463, 'ansatz': 3464, 'gretathunberg': 3465, 'salonkolumnist': 3466, 'nehme': 3467, 'repe': 3468, 'oire': 3469, 'rief': 3470, 'erfand': 3471, 'kuenftig': 3472, 'darwin': 3473, 'mehren': 3474, 'brian': 3475, 'ausloesen': 3476, 'belohnt': 3477, 'chicken': 3478, 'feminist': 3479, 'blocke': 3480, 'gesinnungsbolschewiki': 3481, 'eroeffnung': 3482, 'adolf': 3483, 'bae': 3484, '100jahrefrauenwahlrecht': 3485, 'saurfabian': 3486, 'followern': 3487, 'anarchisten': 3488, 'sieben': 3489, 'nerven': 3490, 'nutze': 3491, 'mond': 3492, 'rueckseite': 3493, 'kuemmern': 3494, 'vorn': 3495, 'empathie': 3496, 'tiere': 3497, 'guenther': 3498, 'diemannschaft': 3499, 'scheiden': 3500, 'anfangen': 3501, 'derbe': 3502, 'dazke': 3503, 'sandhausen': 3504, 'gegenrichtung': 3505, 'anstrengend': 3506, 'anstaendigen': 3507, 'ass': 3508, 'od': 3509, 'sozialistischen': 3510, 'gang': 3511, 'plattform': 3512, 'enschen': 3513, 'icken': 3514, 'wohnen': 3515, 'ga': 3516, 'stock': 3517, 'kostenloses': 3518, 'tool': 3519, 'zurecht': 3520, 'totschlagargument': 3521, 'kalter': 3522, 'fallrueckzieher': 3523, 'allagui': 3524, 'buchti': 3525, 'reihe': 3526, 'fassen': 3527, 'day': 3528, 'saison': 3529, 'menno': 3530, 'se': 3531, 'skandaloes': 3532, 'point': 3533, 'sozusagen': 3534, 'hanka': 3535, 'moody': 3536, 'seufz': 3537, 'amuesie': 3538, 'teer': 3539, 'schaue': 3540, 'eigentor': 3541, 'elfer': 3542, 'raeume': 3543, 'sauber': 3544, 'anlass': 3545, 'vfb': 3546, 'besoffen': 3547, 'fruehen': 3548, 'gerammt': 3549, 'signal': 3550, 'torwa': 3551, 'springt': 3552, 'teddytria': 3553, 'asche': 3554, 'bestaetigt': 3555, '96': 3556, 'bezeichnet': 3557, 'wgt2017': 3558, 'schwach': 3559, 'haare': 3560, 'ebswob': 3561, 'amol': 3562, 'dei': 3563, 'anfaenger': 3564, 'amateure': 3565, 'ueberwunden': 3566, 'wow': 3567, 'jubel': 3568, 'wurscht': 3569, 'sieg': 3570, 'feier': 3571, 'next': 3572, 'aufstieg': 3573, 'jungs': 3574, 'gestimmt': 3575, 'gedreht': 3576, '82': 3577, 'klappe': 3578, 'trottel': 3579, 'beenden': 3580, 'hacken': 3581, 'schiedsrichter': 3582, 'krasse': 3583, 'duemmsten': 3584, 'alexanderplatz': 3585, 'schild': 3586, 'traenen': 3587, 'placebo': 3588, 'kicker': 3589, 'aelter': 3590, 'halbe': 3591, 'tueren': 3592, 'fabianeberhard': 3593, 'fehlanzeige': 3594, 'herrschenden': 3595, 'schwarzepalmen': 3596, 'linkekitagruppe': 3597, 'cops': 3598, 'gelb': 3599, 'angeblichen': 3600, 'opfern': 3601, 'grundlage': 3602, 'minimum': 3603, 'eigentumsverhaeltnissen': 3604, 'lieblingxhain': 3605, 'schuhe': 3606, 'texantifa': 3607, 'achtfach': 3608, 'nehmt': 3609, 'verharmlosung': 3610, 'lowerclassmag': 3611, 'ablehnung': 3612, 'notwendig': 3613, 'humanistische': 3614, 'diskurs': 3615, 'grundrecht': 3616, 'gedacht': 3617, 'queer': 3618, 'rechtsaussen': 3619, 'dr0pr0w': 3620, 'anweisung': 3621, 'alltag': 3622, 'suchmaschine': 3623, 'hinterfragen': 3624, 'autoritaeres': 3625, 'gedankengut': 3626, 'rechtes': 3627, 'annimmt': 3628, 'unterschiedlich': 3629, 'ieren': 3630, 'abschiebungen': 3631, 'dies': 3632, 'pauschal': 3633, 'linie': 3634, 'auschwitz': 3635, 'ewige': 3636, 'migration': 3637, 'kommunistisch': 3638, 'held': 3639, 'stammt': 3640, 'nenn': 3641, 'sprach': 3642, 'arbeitstag': 3643, 'geilheit': 3644, 'entgegenzusetzen': 3645, 'fakt': 3646, 'betroffene': 3647, 'dauerhaft': 3648, 'teilweise': 3649, 'spaeteren': 3650, 'grab': 3651, 'hielt': 3652, 'dienst': 3653, 'motto': 3654, 'beschimpfungen': 3655, 'rassistischer': 3656, 'eignen': 3657, 'schalten': 3658, 'prinzipiell': 3659, 'utopie': 3660, 'weltbild': 3661, 'gepluende': 3662, 'werd': 3663, 'wuetend': 3664, 'machs': 3665, 'geschehen': 3666, 'parlamentarische': 3667, 'radikaler': 3668, 'lauf': 3669, 'analysieren': 3670, 'police': 3671, 'rigaer': 3672, 'staatsanwalts': 3673, 'jaja': 3674, 'ermitteln': 3675, 'betroffenen': 3676, 'oeko': 3677, 'machiavellipod': 3678, 'hiphopde': 3679, 'cosmo': 3680, 'afelia': 3681, 'juedischeonline': 3682, 'kollegah': 3683, 'annefrank': 3684, 'antisem': 3685, 'antisemitism': 3686, 'tagesthemen': 3687, 'nationalismus': 3688, 'gourmande': 3689, 'interview': 3690, 'cash': 3691, 'ausgeben': 3692, 'grinsen': 3693, 'fluegel': 3694, 'larsklingbeil': 3695, 'religioese': 3696, 'agen': 3697, 'aufhebung': 3698, 'age': 3699, 'arbeitnehmer': 3700, 'militant': 3701, 'schwimmt': 3702, 'beides': 3703, 'pack': 3704, 'topf': 3705, '1500': 3706, 'bedingungen': 3707, 'herzmolekuel': 3708, 'religionskritik': 3709, 'moralisch': 3710, 'begleitet': 3711, 'winterfruitloop': 3712, 'zweck': 3713, 'wessen': 3714, 'veronikaharz': 3715, 'primosantoro': 3716, 'schlau': 3717, 'argumentieren': 3718, 'moetant36': 3719, 'wendeiki': 3720, 'beschissen': 3721, 'aktuellen': 3722, 'ajcberlin': 3723, 'daliagrinfeld': 3724, 'antira': 3725, 'genutzt': 3726, 'geschickt': 3727, 'vorzuwerfen': 3728, 'realen': 3729, 'waer': 3730, 'soldaten': 3731, 'organisationen': 3732, 'satt': 3733, 'bombt': 3734, 'dient': 3735, 'berechtigt': 3736, 'daheim': 3737, 'froehlich': 3738, 'packung': 3739, 'zwiebelmettchen': 3740, 'hanner': 3741, 'drache': 3742, 'lel': 3743, 'kopfweh': 3744, 'nehm': 3745, 'nixmehr': 3746, 'kastrie': 3747, 'trefft': 3748, 'sing': 3749, 'bomb': 3750, '149': 3751, 'schreib': 3752, 'email': 3753, 'rutsch': 3754, 'privilegien': 3755, 'verdammtes': 3756, 'andersrum': 3757, 'entlasten': 3758, 'hashtags': 3759, 'blocken': 3760, 'kacke': 3761, 'nervt': 3762, 'einzig': 3763, 'wahre': 3764, 'legitimieren': 3765, 'beziehung': 3766, 'tomson1611': 3767, 'auggcaggaauaugu': 3768, 'arnehoffmann': 3769, 'staci': 3770, 'stasis': 3771, 'ueberspitzt': 3772, 'beweise': 3773, 'konkreten': 3774, 'gruesse': 3775, 'work': 3776, 'biologischen': 3777, 'unterhaltungswe': 3778, 'riesenrettich': 3779, 'einfachen': 3780, 'koerper': 3781, 'sitz': 3782, 'smeeesh': 3783, 'gekauft': 3784, 'woanders': 3785, 'gebt': 3786, 'fahre': 3787, 'bekomm': 3788, 'sekunden': 3789, 'aufnahme': 3790, 'schauspieler': 3791, 'maske': 3792, 'bricht': 3793, 'bloss': 3794, 'oon': 3795, 'freu': 3796, 'vier': 3797, 'rezept': 3798, 'stueckchen': 3799, 'solang': 3800, 'hauses': 3801, 'ranger': 3802, 'ewig': 3803, 'mo': 3804, 'highscoreheroes': 3805, 'charakter': 3806, 'vorgestellt': 3807, 'wunderbar': 3808, 'nichtmehr': 3809, 'krass': 3810, 'instant': 3811, 'psychologische': 3812, 'aktiv': 3813, 'zitat': 3814, 'errungenschaften': 3815, 'darin': 3816, 'korrekt': 3817, 'belegen': 3818, 'grossteil': 3819, 'biologische': 3820, 'gebiet': 3821, 'bein': 3822, 'respektie': 3823, 'rettet': 3824, 'verweise': 3825, 'beziehen': 3826, 'fuehle': 3827, 'genuegt': 3828, 'werner': 3829, 'einzelnen': 3830, 'bestimmten': 3831, 'aehnliche': 3832, 'betrachte': 3833, 'thesen': 3834, 'problematik': 3835, 'verabschiedet': 3836, 'reten': 3837, 'snowflakes': 3838, 'ignorantiam': 3839, 'zustimmen': 3840, 'verstaendnis': 3841, 'existierenden': 3842, 'dargestellt': 3843, 'huebsch': 3844, 'belegt': 3845, 'gelten': 3846, 'wissenschaftlich': 3847, 'bar': 3848, 'wiki': 3849, 'ikels': 3850, 'nachlesen': 3851, 'aufgegeben': 3852, 'einen': 3853, 'arzt': 3854, 'ausm': 3855, 'wahrscheinlicher': 3856, 'schaem': 3857, 'hetero': 3858, 'kachelmann': 3859, 'trockener': 3860, 'besuch': 3861, 'sin': 3862, 'mitbekommen': 3863, 'bleib': 3864, 'kanal': 3865, 'schmerzt': 3866, 'vorstellen': 3867, 'hatt': 3868, 'rose': 3869, 'traum': 3870, 'hinein': 3871, 'oberkoerper': 3872, 'metalwilli': 3873, 'politischer': 3874, 'taeglichen': 3875, 'gutmannmanfred': 3876, 'h4': 3877, 'nonononono6667': 3878, 'fschlieffen': 3879, 'frieden': 3880, 'kinderschaender': 3881, 'europas': 3882, '0001f620': 3883, 'zufuehren': 3884, 'thor200375': 3885, 'peterroger17': 3886, 'muehe': 3887, 'veraendern': 3888, 'rollt': 3889, 'verlaufen': 3890, 'vorgefueh': 3891, 'logiker01': 3892, 'mitteln': 3893, 'blutrot': 3894, 'toetet': 3895, 'ue': 3896, 'renten': 3897, 'buschfrank': 3898, 'politikstube': 3899, 'landen': 3900, 'abstechen': 3901, 'hero': 3902, 'scheissen': 3903, 'aufklaerer2017': 3904, 'nachbar': 3905, 'angebliche': 3906, 'dergegenspieler': 3907, 'umfeld': 3908, 'germany': 3909, 'wem': 3910, 'ans': 3911, 'licht': 3912, 'menschenwuerdiges': 3913, 'rol': 3914, '0815': 3915, 'paulehasi13': 3916, 'staatstreuen': 3917, '150': 3918, 'grosseltern': 3919, 'sibirien': 3920, 'knobloch': 3921, 'menschenverachtende': 3922, 'transpo': 3923, 'tschonka': 3924, 'olivergorus': 3925, 'icke': 3926, 'schlagzeilen': 3927, 'buergermeister': 3928, 'anrufen': 3929, 'therealjoe': 3930, '1958': 3931, 'freiepressenet': 3932, 'ausschliesslich': 3933, 'zuhause': 3934, 'gunnyaustria': 3935, 'besingen': 3936, 'rauswerfen': 3937, 'taschen': 3938, 'berater': 3939, 'norbe': 3940, 'unzaehligen': 3941, 'brechen': 3942, 'reifen': 3943, 'synagogen': 3944, 'mazirke': 3945, 'moment': 3946, 'hit': 3947, 'miesen': 3948, 'bahnhofsklatschern': 3949, 'hansalbers100': 3950, 'lehrmeister': 3951, 'aua': 3952, 'bahnhofsklatscher': 3953, 'bereicherung': 3954, 'energie': 3955, 'raucht': 3956, 'medikamente': 3957, 'iges': 3958, 'produzieren': 3959, 'hackenstad': 3960, 'militaer': 3961, '0001f4af': 3962, 'einwanderer': 3963, 'bundesverdienstkreuz': 3964, 'schlaege': 3965, 'ruppen': 3966, 'santifa': 3967, 'bundesamt': 3968, 'linksversiffte': 3969, 'andere': 3970, 'korruptes': 3971, 'gruenes': 3972, '0001f44e': 3973, 'pamelacostaric1': 3974, 'fah': 3975, 'thueringen': 3976, 'frannylicious79': 3977, 'bimbas': 3978, 'ausdenken': 3979, 'anal': 3980, 'haeusern': 3981, 'masken': 3982, 'agieren': 3983, 'verhaelt': 3984, 'konve': 3985, 'gesunden': 3986, '0001f61d': 3987, 'marco25177219': 3988, 'zeisbergmichael': 3989, 'linksfaschist': 3990, 'italiener': 3991, 'haettet': 3992, 'tinimaus1110': 3993, 'staatstreue': 3994, 'dreckigen': 3995, 'hoechsten': 3996, 'aemtern': 3997, 'entnehmen': 3998, 'eika': 3999, 'geschmie': 4000, 'glatt': 4001, 'boot': 4002, 'facharbeiter': 4003, 'lebens': 4004, 'judenhassern': 4005, 'auffaellig': 4006, 'sicheres': 4007, 'waehlern': 4008, 'konsumie': 4009, 'daemlich': 4010, 'legalisierung': 4011, 'paedophile': 4012, 'dreckiger': 4013, 'zuwanderer': 4014, 'mio': 4015, 'robe': 4016, 'manager': 4017, 'korantreuen': 4018, 'sicherheit': 4019, 'eingehen': 4020, 'kommentare': 4021, 'kulturellen': 4022, 'freiwild': 4023, '1schlobohm': 4024, 'ragnarr56': 4025, 'schulenburgch': 4026, 'cducsubt': 4027, 'tiefen': 4028, 'reiches': 4029, 'griechenland': 4030, 'schade': 4031, 'anja49150998': 4032, 'maennliche': 4033, 'neulich': 4034, 'bernd471': 4035, 'grauen': 4036, 'woelfe': 4037, 'energiewende': 4038, 'kerzen': 4039, 'spenden': 4040, 'eingefueh': 4041, 'rechtsnationalen': 4042, 'ministerpraesidenten': 4043, 'viktor': 4044, 'orb': 4045, 'naehmlich': 4046, '74': 4047, 'wenden': 4048, 'berufspolitiker': 4049, 'kinderga': 4050, 'blasen': 4051, '43': 4052, 'suchte': 4053, 'armutspolitik': 4054, 'vorbild': 4055, 'dezember': 4056, 'verkuendete': 4057, 'generalversammlung': 4058, 'vereinten': 4059, 'allgemeine': 4060, 'diagnose': 4061, 'bekam': 4062, 'psychischer': 4063, 'doppelt': 4064, 'aufgeforde': 4065, 'anfuehlt': 4066, 'willkuerlich': 4067, 'rechnen': 4068, 'demuetigung': 4069, 'jugendlichen': 4070, 'malu': 4071, 'dreyer': 4072, 'kompromiss': 4073, 'allem': 4074, 'schwangerschaftsabbrueche': 4075, 'besuchen': 4076, 'unverschaemte': 4077, 'niedriglohnsektor': 4078, 'schoenste': 4079, 'nummer': 4080, 'schlechten': 4081, 'volkspa': 4082, 'deppen': 4083, 'sicherste': 4084, 'absoluter': 4085, 'endgueltig': 4086, 'flucht': 4087, 'verhoehnen': 4088, 'antraege': 4089, 'mitarbeiter': 4090, 'sanktioniren': 4091, 'als': 4092, 'verraeter': 4093, 'besserverdiener': 4094, 'beschliesst': 4095, 'plaetze': 4096, 'befand': 4097, 'giffey': 4098, 'klausur': 4099, 'verzichten': 4100, 'sozialdemokraten': 4101, 'hinterzimmer': 4102, 'nahe': 4103, 'verbunden': 4104, 'theresa': 4105, 'blockade': 4106, 'europawahl': 4107, 'schwere': 4108, 'raet': 4109, 'hungerrente': 4110, 'einladung': 4111, 'ausgegeben': 4112, 'inhaltlich': 4113, 'durchgesetzt': 4114, 'unterstellt': 4115, 'leichtfe': 4116, 'igkeit': 4117, 'werbeverbot': 4118, 'sprueche': 4119, 'verbreitung': 4120, 'falschinformation': 4121, 'eindeutigen': 4122, 'permanent': 4123, 'ueberwacht': 4124, 'erhoeht': 4125, 'existenzminimum': 4126, 'jens': 4127, 'weige': 4128, 'saal': 4129, 'entstanden': 4130, 'abgeordneten': 4131, 'fuenf': 4132, 'festnahmen': 4133, 'anschlag': 4134, 'dritte': 4135, 'ju': 4136, 'jobs': 4137, 'politikern': 4138, 'verlaesst': 4139, 'zeitungen': 4140, 'feuer': 4141, 'resolution': 4142, 'grausamer': 4143, 'unmenschlicher': 4144, 'erniedrigender': 4145, 'unterworfen': 4146, 'teilzunehmen': 4147, 'zt': 4148, 'muetter': 4149, 'notwendige': 4150, 'berufswahl': 4151, 'anehmen': 4152, 'sklaven': 4153, 'sanktionie': 4154, 'spu': 4155, 'arbeitet': 4156, 'ausweis': 4157, 'archiv': 4158, 'eugh': 4159, 'staatsanleihen': 4160, 'eichefin': 4161, 'behar': 4162, 'erhoehung': 4163, 'kitas': 4164, 'protesten': 4165, 'handel': 4166, 'private': 4167, 'telefonnummer': 4168, 'geloescht': 4169, 'kontakt': 4170, '2010': 4171, 'akkmussweg': 4172, 'armselig': 4173, 'wollten': 4174, '2000': 4175, 'insgesamt': 4176, 'massnahmen': 4177, 'beginnt': 4178, 'barley': 4179, 'klo': 4180, 'koalition': 4181, 'gewalttaetige': 4182, 'bank': 4183, 'gehorsam': 4184, 'konkret': 4185, 'kuendigt': 4186, 'gelegentlich': 4187, '263a': 4188, 'zulaesst': 4189, 'helfer': 4190, 'angerichtet': 4191, 'schwule': 4192, 'franzosen': 4193, 'schwarz': 4194, 'zusammenarbeit': 4195, 'druecken': 4196, 'putzfrau': 4197, 'neoliberale': 4198, '450': 4199, 'ohnmacht': 4200, 'entschuldigen': 4201, 'panne': 4202, 'heuchelei': 4203, 'weitere': 4204, '90er': 4205, 'erzeugen': 4206, 'kandidaten': 4207, 'delegie': 4208, 'pruegelt': 4209, 'politikerin': 4210, 'gebraucht': 4211, 'gewerkschaften': 4212, 'kontrolleure': 4213, 'lupe': 4214, 'forbes': 4215, 'knallha': 4216, 'zeitung': 4217, 'grossem': 4218, 'heulen': 4219, 'dieses': 4220, 'aufbringen': 4221, 'verbundene': 4222, 'voraussetzung': 4223, 'mitglied': 4224, 'erlassen': 4225, 'aufschwung': 4226, 'mitgliedern': 4227, 'herzlich': 4228, 'bezahlte': 4229, 'mittelschicht': 4230, 'eine': 4231, 'moral': 4232, 'lohnkosten': 4233, 'magazin': 4234, 'unfaehige': 4235, '1789': 4236, 'steinmeier': 4237, 'ausrufung': 4238, 'verswabot': 4239, 'zerstoere': 4240, 'marxistische': 4241, 'differenzie': 4242, 'ausgebildeten': 4243, 'tbh': 4244, 'proletarische': 4245, 'kenn': 4246, 'seitdem': 4247, 'shit': 4248, 'autobahn': 4249, 'band': 4250, 'goebbels': 4251, 'buddhismus': 4252, 'akademiker': 4253, 'politics': 4254, 'oeffentlichen': 4255, 'diskussionen': 4256, 'sand': 4257, 'gebacken': 4258, 'beschwe': 4259, 'fszntnbrandwund': 4260, 'abweichung': 4261, 'gegenteiligen': 4262, 'verstecken': 4263, 'soyuz187': 4264, 'rechnung': 4265, 'kategorien': 4266, 'schock': 4267, 'dietmar': 4268, 'dath': 4269, 'oefter': 4270, 'erfrieren': 4271, 'studenten': 4272, 'behaemme': 4273, 'lgbtiqplus187': 4274, 'wankelmut': 4275, 'antikommunistischen': 4276, 'freilich': 4277, 'gegenwae': 4278, 'linker': 4279, 'realsozialismus': 4280, 'befindet': 4281, 'solid': 4282, 'anarchos': 4283, 'liebkind': 4284, 'donalphonso': 4285, 'risa': 4286, 'coke': 4287, 'cola': 4288, 'gewerkschaftler': 4289, 'mauerfall': 4290, 'produktionsmittel': 4291, 'arbeiterklasse': 4292, 'weltuntergang': 4293, 'angeht': 4294, 'meter': 4295, 'mangelnde': 4296, 'korrelation': 4297, 'emission': 4298, 'naturkatastrophen': 4299, 'entsteht': 4300, 'trend': 4301, 'veraenderungen': 4302, 'how': 4303, 'konzerne': 4304, 'emmissionen': 4305, 'meistens': 4306, 'emissionen': 4307, 'elektroautos': 4308, 'gegenseitig': 4309, 'erde': 4310, 'schrecklich': 4311, 'ipcc': 4312, 'unter': 4313, 'groessenordnung': 4314, 'treibhausgase': 4315, 'herbst': 4316, 'kaeme': 4317, 'szenarien': 4318, 'angeben': 4319, 'prognose': 4320, 'bericht': 4321, 'vernuenftig': 4322, 'gemessen': 4323, 'braeuchte': 4324, 'menschlicher': 4325, 'zeugt': 4326, 'geistiger': 4327, 'comradelayer': 4328, 'rhetorik': 4329, 'gesellschaftlich': 4330, 'bis': 4331, 'identifizie': 4332, 'tweeten': 4333, 'treten': 4334, 'privateigentum': 4335, 'inwieweit': 4336, 'autonome': 4337, 'ki': 4338, 'einsatz': 4339, 'struktur': 4340, 'situationen': 4341, 'ulbricht': 4342, 'bewusst': 4343, 'menschengemacht': 4344, 'erforde': 4345, 'oekonomische': 4346, 'ever': 4347, 'komplizie': 4348, 'revolutionaeren': 4349, 'bananen': 4350, 'manifest': 4351, 'mark': 4352, 'diversen': 4353, 'mauer': 4354, 'geholt': 4355, 'aepfel': 4356, 'umweltverschmutzung': 4357, 'ungebildet': 4358, 'minderbemittelten': 4359, 'citoyenlxix': 4360, 'justus': 4361, 'rheinwiesngrund': 4362, 'linksextreme': 4363, 'god': 4364, 'horoskop': 4365, 'dialog': 4366, 'milch': 4367, 'tanzen': 4368, 'lache': 4369, 'hacks': 4370, 'schnitzel': 4371, 'lecker': 4372, 'gewaschenerk': 4373, 'rauchen': 4374, 'krebs': 4375, 'fun': 4376, 'fact': 4377, 'kohlekraftwerke': 4378, 'weitermachen': 4379, 'volkergoebbels': 4380, 'jo': 4381, 'verfuegbarkeit': 4382, 'tagesgeldkonten': 4383, 'nennenswe': 4384, 'gehalt': 4385, 'sonderbaren': 4386, 'neutralen': 4387, 'huxi': 4388, 'zieh': 4389, 'anonymous': 4390, 'gelber': 4391, 'naiven': 4392, 'ton': 4393, 'gerechte': 4394, 'sexuellen': 4395, 'gefaehrlich': 4396, 'beliebig': 4397, 'allesamt': 4398, 'kaffee': 4399, 'protestie': 4400, 'rydlewski': 4401, 'herzen': 4402, 'oeglicherweise': 4403, 'kurzen': 4404, '161': 4405, 'kamikaze': 4406, 'dat': 4407, 'herdecke': 4408, 'stell': 4409, 'relevant': 4410, 'legitimation': 4411, 'implizieren': 4412, 'baden': 4413, 'tumblr': 4414, 'coden': 4415, 'prozentual': 4416, 'beruflich': 4417, 'wald': 4418, 'baeumen': 4419, 'francismalevil': 4420, 'ansatzweise': 4421, 'langfristig': 4422, 'zeitpunkt': 4423, 'lebensversicherung': 4424, 'dauern': 4425, 'allesversuch': 4426, 'est': 4427, 'roulette': 4428, 'franke': 4429, 'media': 4430, 'gezahlt': 4431, 'depot': 4432, 'alternative': 4433, '31': 4434, 'beiseite': 4435, 'nachdenken': 4436, 'lottoschein': 4437, 'lindern': 4438, 'koerperlich': 4439, 'erfuellt': 4440, 'turnvater': 4441, 'jahn': 4442, 'hocker': 4443, 'erklaer': 4444, 'daneben': 4445, 'fight': 4446, 'flight': 4447, 'kurzer': 4448, 'ermuedend': 4449, 'redcat': 4450, 'profis': 4451, 'zweifle': 4452, 'that': 4453, 'with': 4454, 'grosses': 4455, 'abgesagt': 4456, 'vorm': 4457, 'windows': 4458, 'wikipedia': 4459, 'tz': 4460, 'halbieren': 4461, 'grossa': 4462, 'starben': 4463, 'reichtum': 4464, 'oberschicht': 4465, 'gamer': 4466, 'seltsamemensch': 4467, 'mode': 4468, 'ausstrahlen': 4469, 'heben': 4470, 'hoerbar': 4471, 'nachmittags': 4472, 'gegend': 4473, 'wuenschte': 4474, 'gifs': 4475, 'las': 4476, 'wtf': 4477, 'te': 4478, 'tarantino': 4479, 'faktenchecks': 4480, 'neofaschistischen': 4481, 'ueberfuehren': 4482, '35': 4483, 'drukos': 4484, 'pluralismus': 4485, 'befinden': 4486, 'streng': 4487, 'gebaeude': 4488, 'ua': 4489, 'hingehen': 4490, 'tat': 4491, 'messerattacken': 4492, 'ball': 4493, 'birne': 4494, 'klumpen': 4495, 'zermalmten': 4496, 'dna': 4497, 'identifizierbar': 4498, 'diverser': 4499, 'gebeten': 4500, 'anonymes': 4501, 'informiere': 4502, 'englisch': 4503, 'mountainman1977': 4504, 'kollegen': 4505, 'ermordet': 4506, 'beerdigung': 4507, '0001f64f': 4508, 'chekatt': 4509, 'auftaucht': 4510, 'jungen': 4511, 'garantie': 4512, 'babys': 4513, 'terroropfer': 4514, 'atmet': 4515, 'selbstaendig': 4516, 'schussverletzungen': 4517, 'reisst': 4518, 'multiplen': 4519, 'schusswunden': 4520, 'aushalten': 4521, 'pest': 4522, 'med': 4523, 'honig': 4524, 'kontinente': 4525, 'sami': 4526, 'bruder': 4527, 'taxi': 4528, 'ehemaligen': 4529, 'wohno': 4530, 'information': 4531, 'warnen': 4532, 'verschwunden': 4533, 'oeffnen': 4534, 'pietaetlos': 4535, 'euch': 4536, 'mediz': 4537, 'tommayereuropa': 4538, 'ete': 4539, 'geiselnahme': 4540, 'stoeren': 4541, 'europaparlament': 4542, 'erhoehte': 4543, 'sicherheitsstufe': 4544, 'geschah': 4545, 'radikalisie': 4546, 'gefaehrder': 4547, 'schweren': 4548, '99': 4549, 'verletzten': 4550, 'attentaeter': 4551, 'hewner82': 4552, 'eziden': 4553, 'judenhass': 4554, 'islamistischen': 4555, 'herzinfarkt': 4556, 'wuensche': 4557, 'kannste': 4558, 'schieben': 4559, 'verursacht': 4560, 'relativieren': 4561, 'blockie': 4562, 'ophra': 4563, 'blutlachen': 4564, 'gestalten': 4565, 'brandstifter': 4566, 'hae': 4567, 'hisbollah': 4568, 'verbandelt': 4569, 'ms': 4570, 'raten': 4571, 'doedel': 4572, 'komplexen': 4573, 'nichtmal': 4574, 'brachten': 4575, 'plaene': 4576, 'sweiermann': 4577, 'une': 4578, 'hoechste': 4579, 'twitterer': 4580, 'stalinistischer': 4581, 'standgericht': 4582, 'extremismus': 4583, 'distanzie': 4584, 'fav': 4585, 'facebook': 4586, 'kommi': 4587, 'bubble': 4588, 'kraefte': 4589, 'hegelianer': 4590, 'such': 4591, 'content': 4592, 'national': 4593, 'europaeisch': 4594, 'bolschewismus': 4595, '0001f630': 4596, 'dir': 4597, 'springer': 4598, 'faz': 4599, 'atombombe': 4600, 'clever': 4601, 'lyzi': 4602, 'zorn': 4603, 'genuege': 4604, 'checker': 4605, 'beachten': 4606, 'abendlandes': 4607, 'aufklaerer': 4608, 'az': 4609, 'find': 4610, 'beleidigen': 4611, 'tu': 4612, 'verherrlicht': 4613, 'antikommunistische': 4614, 'lyziswelt': 4615, 'begann': 4616, 'hehe': 4617, 'verschwoerungstheorien': 4618, 'reformen': 4619, 'reiss': 4620, 'herrscher': 4621, 'liberalen': 4622, 'teilt': 4623, 'larsweisbrod': 4624, 'ausdruck': 4625, 'poste': 4626, 'ideologiekritiker': 4627, 'prekarisie': 4628, 'richtiger': 4629, 'famous': 4630, 'people': 4631, 'didnt': 4632, 'were': 4633, 'semite': 4634, 'charles': 4635, 'christoph': 4636, 'lichtenberg': 4637, 'spasseshalber': 4638, '300': 4639, 'abgelehnt': 4640, 'bestellen': 4641, 'sicherlich': 4642, 'wirfst': 4643, 'gericht': 4644, '0001f47b': 4645, 'minerva': 4646, 'pruef': 4647, 'jawollo': 4648, 'integration': 4649, '0001f622': 4650, 'juwo': 4651, 'woechentlich': 4652, 'russische': 4653, 'chat': 4654, 'up': 4655, 'lyzis': 4656, 'stalinismus': 4657, 'empoe': 4658, 'sorge': 4659, 'hegelexperience': 4660, 'bester': 4661, 'froehliche': 4662, 'echtzeitreise': 4663, 'jan': 4664, 'wirklichen': 4665, 'myassrelaxed': 4666, 'wiesengrind': 4667, 'id': 4668, 'rebellen': 4669, 'fordere': 4670, 'antideutschen': 4671, 'bolschewistische': 4672, 'attackie': 4673, 'andersdenkende': 4674, 'stricken': 4675, 'pariser': 4676, 'goethe': 4677, 'uga': 4678, 'macrons': 4679, 'westliche': 4680, 'change': 4681, 'foto': 4682, 'herren': 4683, 'faktor': 4684, 'cdubpt18': 4685, 'achimszepanski': 4686, '26cf': 4687, 'drogen': 4688, 'gescheite': 4689, 'jammern': 4690, 'randale': 4691, 'oder': 4692, 'rende': 4693, 'made': 4694, 'by': 4695, '200': 4696, 'show': 4697, 'beatrix': 4698, 'vstorch': 4699, '0001f604': 4700, 'esschiebel': 4701, 'geoeffneten': 4702, 'fenster': 4703, 'verachtung': 4704, 'schicksal': 4705, 'nationalsozialisten': 4706, 'energieversorger': 4707, 'maedel': 4708, 'galionsfigur': 4709, 'ausgepfiffen': 4710, 'beliebteste': 4711, 'nationalstaat': 4712, 'vereinigten': 4713, 'verzweiflung': 4714, 'gelassen': 4715, 'bravo': 4716, 'schlepperbanden': 4717, 'passagierlisten': 4718, 'getarnt': 4719, 'koennt': 4720, 'teilen': 4721, 'schlechtesten': 4722, 'joanacotar': 4723, 'internationaler': 4724, 'aufgerissen': 4725, 'totalen': 4726, 'verbrennungsmotor': 4727, 'programm': 4728, 'ueberschritten': 4729, 'wahlrecht': 4730, 'kampagne': 4731, 'laune': 4732, 'indonesien': 4733, 'iniwinisissi': 4734, 'unbequeme': 4735, 'eier': 4736, 'angriffen': 4737, 'verbuendeten': 4738, 'lautstark': 4739, 'einfordern': 4740, 'erbarmungslos': 4741, 'reisen': 4742, 'chancen': 4743, 'auslaendische': 4744, 'eingewande': 4745, 'kriminalitaet': 4746, 'aufgezwungen': 4747, 'aehnliches': 4748, 'ruft': 4749, 'syrer': 4750, 'afghanen': 4751, 'seht': 4752, 'option': 4753, 'gebuehren': 4754, 'lach': 4755, 'feuerwerk': 4756, 'zuenden': 4757, 'geilomat': 4758, 'vermeintliche': 4759, 'firmen': 4760, 'ersetzen': 4761, 'initiie': 4762, 'schnee': 4763, 'migrant': 4764, 'schliessen': 4765, 'wuerd': 4766, 'stoe': 4767, 'unterzeichnet': 4768, 'punkten': 4769, 'vergleich': 4770, 'sichtbar': 4771, 'versteckt': 4772, 'fluechtlingsunterkunft': 4773, 'ten': 4774, 'aids': 4775, 'test': 4776, 'verachten': 4777, 'fakenews': 4778, 'erscheinen': 4779, 'wendet': 4780, 'obedmarsh': 4781, 'highlight': 4782, 'geleistet': 4783, 'krachend': 4784, 'zwingt': 4785, 'widerliches': 4786, 'kloeten': 4787, 'errichten': 4788, 'iraner': 4789, 'wunde': 4790, 'evtl': 4791, 'qualitaetsmedien': 4792, 'kolonisie': 4793, 'topnews': 4794, 'verkehrsblatt': 4795, 'anlage': 4796, 'regelmaessig': 4797, 'achja': 4798, 'lege': 4799, 'profitie': 4800, 'verlinkten': 4801, 'binnen': 4802, '1947': 4803, 'jamme': 4804, 'zugehoerigkeit': 4805, 'haendler': 4806, 'kolonialismus': 4807, 'traditionen': 4808, 'sephardim': 4809, 'mizrachim': 4810, 'reichlich': 4811, 'morsche': 4812, 'verzweifelt': 4813, 'veranke': 4814, 'konradgoke': 4815, 'abwink': 4816, 'palestine': 4817, 'geschlossenen': 4818, 'ilan': 4819, 'moerderischen': 4820, 'osmanischen': 4821, 'jah': 4822, 'ausenden': 4823, 'bewohnten': 4824, 'interessante': 4825, 'sebastiankurz': 4826, 'regimes': 4827, 'unmensch': 4828, 'straflos': 4829, 'verleumder': 4830, 'ordentlich': 4831, 'kliehm': 4832, 'wars': 4833, 'solltet': 4834, 'kolonialen': 4835, 'fuzzies': 4836, 'weareafreeworld': 4837, 'nachkommen': 4838, 'erfinden': 4839, 'beziehe': 4840, 'mehreren': 4841, 'terrororganisation': 4842, 'ethnogenese': 4843, 'imho': 4844, 'levante': 4845, 'fanden': 4846, 'versager': 4847, 'claim': 4848, 'tausenden': 4849, 'veranstaltet': 4850, 'nahost': 4851, 'betruegen': 4852, 'fraktionen': 4853, 'blieben': 4854, 'zimmerwohnung': 4855, 'befehlen': 4856, 'gesammelt': 4857, 'aufmarschplaene': 4858, 'armeedokumente': 4859, 'dorf': 4860, 'renommie': 4861, 'durchgehen': 4862, 'pappes': 4863, 'heimatland': 4864, 'getrieben': 4865, 'lebensraum': 4866, 'unte': 4867, 'hindus': 4868, 'umgebung': 4869, 'antun': 4870, 'voelkischen': 4871, 'absprechen': 4872, 'israels': 4873, 'nebeneinander': 4874, 'gegruendet': 4875, 'gleiches': 4876, 'antiken': 4877, 'gemein': 4878, 'worum': 4879, 'zitie': 4880, 'geheimen': 4881, 'untergebracht': 4882, 'kriegszustand': 4883, 'gefangen': 4884, 'staatsterroristen': 4885, 'abkaufen': 4886, 'beliebt': 4887, 'standard': 4888, 'schmutz': 4889, 'minderwe': 4890, 'unabhaengig': 4891, 'alex': 4892, 'osteuropa': 4893, 'dreister': 4894, 'juedische': 4895, 'veroeffentlichung': 4896, 'entschuldigung': 4897, 'witzfiguren': 4898, 'tokenismus': 4899, 'stecken': 4900, 'kurzem': 4901, 'lautet': 4902, 'zukommen': 4903, 'hebraeer': 4904, 'arabischen': 4905, 'twittersuppo': 4906, 'allseits': 4907, 'persoenliche': 4908, 'lieblings': 4909, 'treibt': 4910, 'carolhakios': 4911, 'hirngespinste': 4912, 'ollowain': 4913, 'brandenburg': 4914, 'geiler': 4915, 'zeig': 4916, 'antideutsch': 4917, 'antiimp': 4918, 'ausgelutschte': 4919, 'drueko': 4920, 'ski': 4921, 'leib': 4922, 'anchmal': 4923, 'uss': 4924, 'radikalen': 4925, 'wichser': 4926, 'phaenomen': 4927, 'goennt': 4928, 'ausgeloest': 4929, 'geschockt': 4930, 'autoritaeren': 4931, 'haut': 4932, 'turbobuchung': 4933, 'date': 4934, 'kurzehosenafa': 4935, 'cishets': 4936, 'user': 4937, 'bisserl': 4938, 'kalifat': 4939, 'islamkritik': 4940, 'verhaeltnis': 4941, 'begreifen': 4942, 'medaille': 4943, 'wirkung': 4944, 'entfolgen': 4945, 'ost': 4946, 'positionieren': 4947, 'widerspruch': 4948, 'gestorben': 4949, 'ncolnz': 4950, 'aktion': 4951, 'demonstranten': 4952, 'beaengstigend': 4953, 'black': 4954, 'gelegt': 4955, 'kennst': 4956, 'kulturrelativismus': 4957, 'hamburg': 4958, 'unzivilisie': 4959, 'abgesehen': 4960, 'niqab': 4961, 'traegt': 4962, 'versiffte': 4963, 'sprecho': 4964, 'akzeptie': 4965, 'kunstfigur': 4966, '0001f918': 4967, 'jugendliche': 4968, 'greife': 4969, 'autoritaere': 4970, 'wuerdet': 4971, 'kekse': 4972, 'normales': 4973, 'autonom': 4974, 'hau': 4975, 'geraten': 4976, 'formulieren': 4977, 'gewa': 4978, 'les': 4979, 'heiss': 4980, 'abschliessend': 4981, 'schalte': 4982, 'derdimmy': 4983, 'perry': 4984, 'angreifen': 4985, 'iamlebreton': 4986, 'raum': 4987, 'morde': 4988, 'akte': 4989, 'sperre': 4990, 'entgueltig': 4991, 'misogyne': 4992, 'derfreecee': 4993, 'otto': 4994, 'getee': 4995, 'gefede': 4996, 'suizid': 4997, 'paradebeispiel': 4998, 'nwo': 4999, 'zentralrat1': 5000, 'gelegenheit': 5001, 'kardasiapat': 5002, 'messerangriff': 5003, 'beunruhigen': 5004, 'marionetten': 5005, 'offbeat24': 5006, 'fugees': 5007, 'angezuendet': 5008, 'baetschi': 5009, 'fette': 5010, 'kuenaxt': 5011, 'hyaenen': 5012, 'chance': 5013, 'faust': 5014, 'weiber': 5015, 'arschloecher': 5016, 'beschwichtigen': 5017, 'koethen': 5018, 'zdfsachsen': 5019, 'bestialischen': 5020, 'ueberfall': 5021, 'restaurant': 5022, 'wohlgemerkt': 5023, 'spontan': 5024, 'hurenpresse': 5025, 'ungestraft': 5026, 'deu151': 5027, 'holgerewald1': 5028, 'polobentv': 5029, 'karlmller13': 5030, 'selfie': 5031, 'geschissen': 5032, 'wacht': 5033, 'imregrimm': 5034, 'flixbus': 5035, 'wide': 5036, 'deibel': 5037, 'benoetigt': 5038, 'vorfall': 5039, 'hakenkreuz': 5040, 'gedrueckt': 5041, 'maltekaufmann': 5042, 'logisch': 5043, 'reaktion': 5044, 'geldbeutel': 5045, 'wundern': 5046, 'rathaus': 5047, 'platznehmen': 5048, 'anzahl': 5049, 'kandel': 5050, 'daseinsberechtigung': 5051, 'denunzie': 5052, 'heucheln': 5053, 'but': 5054, 'metoo': 5055, 'hollywood': 5056, 'lehrerin': 5057, 'mimimi': 5058, '1910spencer': 5059, 'eigener': 5060, 'pisser': 5061, 'verachte': 5062, 'eierlose': 5063, 'schwulen': 5064, 'hervor': 5065, 'regierungsnahe': 5066, 'epiclout': 5067, 'explodieren': 5068, 'haaren': 5069, 'regenbogen': 5070, 'geraet': 5071, 'generation': 5072, 'affen': 5073, 'ficken': 5074, 'barbarasteibl1': 5075, 'gehirn': 5076, 'thomaswalde': 5077, 'doll': 5078, 'lauft': 5079, 'zdfspo': 5080, 'befuerchte': 5081, 'geistesgestoe': 5082, 'klatsch': 5083, 'verlauf': 5084, 'redest': 5085, 'ungefragt': 5086, 'brauchst': 5087, 'beendet': 5088, 'belaestigung': 5089, 'brueste': 5090, 'praesentierst': 5091, 'angestar': 5092, 'faelle': 5093, 'craftergut2': 5094, 'schrauben': 5095, 'antifas': 5096, 'heinrichheine12': 5097, 'altmaier': 5098, 'meldemuschi': 5099, 'sm100d': 5100, 'bloedheit': 5101, 'kernenergie': 5102, 'kernergie': 5103, 'kohleverstromung': 5104, 'feinstaub': 5105, 'tschechien': 5106, 'franzmann': 5107, 'beliebter': 5108, 'kohleausstieg': 5109, 'balkan': 5110, 'spanien': 5111, 'fffrauki': 5112, 'aufrechten': 5113, 'termin': 5114, 'guardofbrain': 5115, 'engelge': 5116, 'chris': 5117, 'ralle': 5118, 'pipi': 5119, 'hotte': 5120, 'laecherliche': 5121, 'faltencreme': 5122, 'rockneten': 5123, 'neuantraege': 5124, 'sinkt': 5125, 'abgeschobenen': 5126, 'gegenueberstellt': 5127, 'ring': 5128, 'aufgeilen': 5129, 'grenzwe': 5130, 'phantasie': 5131, 'logik': 5132, 'sozen': 5133, 'ausgehandelt': 5134, 'stumme': 5135, 'verzogenen': 5136, 'tschemm': 5137, 'vernunft': 5138, 'gogollafit': 5139, 'wstsm': 5140, 'schlumpfnazi471': 5141, 'willplaat': 5142, 'er1k': 5143, 'kraeftiges': 5144, 'mitmachen': 5145, 'alexplantsatree': 5146, 'griechenwoos2': 5147, 'elektromobilitaet': 5148, 'adaequate': 5149, 'plus': 5150, 'hirnwaesche': 5151, 'cinzia0118': 5152, 'fischmehl': 5153, 'blockwa': 5154, 'schiene': 5155, 'hetzjagden': 5156, 'gesunde': 5157, 'asylforderer': 5158, 'kahane': 5159, 'vorsitz': 5160, 'jala': 5161, 'varietas': 5162, 'amadeuantoniostiftung': 5163, 'tolle': 5164, 'muesst': 5165, 'merdeux': 5166, 'sinkende': 5167, 'ausnahme': 5168, 'betreuer': 5169, 'soo': 5170, 'gottesgetweete': 5171, 'zweimal': 5172, 'luba': 5173, 'cibre': 5174, 'seele': 5175, 'braunen': 5176, 'replies': 5177, 'einlieferung': 5178, 'befund': 5179, 'schule': 5180, 'mittelpunkt': 5181, 'regelmaessige': 5182, 'ruecksichtslos': 5183, 'soehne': 5184, 'gnadenlos': 5185, 'guycalleddad': 5186, 'ziegenfuss': 5187, 'beginnen': 5188, 'nutten': 5189, '74wonnie': 5190, 'bottomdog': 5191, 'esel': 5192, 'altes': 5193, 'klugscheissender': 5194, 'versehen': 5195, 'unbesiegbar': 5196, 'lord': 5197, 'mmejoie': 5198, 'dcxxx187': 5199, 'interessanter': 5200, 'kasperspuk': 5201, 'meinereiner76': 5202, 'kostuemfest': 5203, 'derlelbhaftlge': 5204, 'oktober': 5205, 'klammerdackel': 5206, 'empty': 5207, 'solidargemeinschaft': 5208, 'fgenervt': 5209, 'feenstaubtinka': 5210, 'superstar': 5211, 'dummschwaetzer': 5212, 'weltfremd': 5213, 'camp': 5214, 'evelyn': 5215, 'innenstadt': 5216, 'raeumung': 5217, 'hambifaellt': 5218, 'rechtlichen': 5219, 'baeume': 5220, 'koeln': 5221, 'kot': 5222, 'urin': 5223, 'bewerfen': 5224, 'nachvollziehen': 5225, 'sozialdezernat': 5226, 'paulsplatz': 5227, 'tuerkisches': 5228, '11h': 5229, 'kaisersack': 5230, 'va': 5231, 'stadthalle': 5232, 'russ': 5233, 'gg': 5234, 'gallus': 5235, 'danijelmajic': 5236, 'antirep': 5237, 'hostel': 5238, 'security': 5239, 'bestraft': 5240, 'wilhelm': 5241, 'leuschner': 5242, 'club': 5243, 'fragida': 5244, 'konstablerwache': 5245, 'savekobane': 5246, 'wegmit219a': 5247, 'wegmit218': 5248, 'twinnz4you': 5249, 'kommentar': 5250, 'blumeevolution': 5251, 'resurrection300': 5252, 'diehumanisten': 5253, 'progressive': 5254, 'guckt': 5255, 'durchlesen': 5256, 'grimasse': 5257, 'patrickgensing': 5258, 'adam': 5259, 'aioak': 5260, 'wahlhelfer': 5261, 'soros': 5262, 'krieges': 5263, 'etliche': 5264, 'vieles': 5265, 'franzoesisch': 5266, 'mlk': 5267, 'janzimmhhb': 5268, 'realitaetsverweigerung': 5269, 'erbaermlichen': 5270, 'spdeuropa': 5271, 'beitragen': 5272, 'weigern': 5273, 'anzuerkennen': 5274, 'bezweckt': 5275, 'beluegen': 5276, 'unverstaendlich': 5277, 'hacker': 5278, 'torben': 5279, 'braga': 5280, 'hintergrundwissen': 5281, 'laeppischen': 5282, '130': 5283, 'demokratieuntergang': 5284, 'fjs': 5285, 'glasige': 5286, 'co': 5287, 'investigativ': 5288, 'tim': 5289, 'roehn': 5290, 'chschweppe': 5291, 'vorgibt': 5292, 'eigentum': 5293, 'verpflichtet': 5294, 'maximale': 5295, 'mieterverarschungsbremse': 5296, 'lautes': 5297, 'gas': 5298, 'unfaelle': 5299, 'getoetet': 5300, 'strassenverkehr': 5301, 'sensation': 5302, 'klicks': 5303, 'anjakarliczek': 5304, 'andreanahlesspd': 5305, 'auftrag': 5306, 'mundtot': 5307, 'klinge': 5308, 'abladen': 5309, 'hessenschau': 5310, 'meldungen': 5311, 'luegenschau': 5312, 'tagesverarsche': 5313, 'heuteglaubteskeiner': 5314, 'regionales': 5315, 'unwichtigen': 5316, 'reichweite': 5317, 'erstaunlich': 5318, 'seilschaften': 5319, 'peteraltmaier': 5320, 'luegenr': 5321, 'rasie': 5322, 'ankotzen': 5323, '976': 5324, 'target': 5325, 'salden': 5326, 'rekordumsaetze': 5327, 'vermelden': 5328, 'summie': 5329, '87': 5330, 'marceljoppa': 5331, 'piotoitsche': 5332, 'gelsenkirchener': 5333, 'stempel': 5334, 'frisch': 5335, 'riechen': 5336, 'heulsuse': 5337, 'ausgebuddelt': 5338, 'unnuetze': 5339, 'fresser': 5340, 'nehmerland': 5341, 'geberlaender': 5342, 'tag24le': 5343, 'feinden': 5344, 'feinde': 5345, 'ndr': 5346, 'schmeirgeld': 5347, 'erpressbar': 5348, 'summen': 5349, 'spender': 5350, 'ausversehen': 5351, 'nachricht': 5352, '63': 5353, 'umgebracht': 5354, 'ferkels': 5355, 'gaesten': 5356, 'erblindung': 5357, 'ksta': 5358, 'intl': 5359, 'liebste': 5360, 'luegenprese': 5361, 'geschleusten': 5362, 'pir': 5363, 'polizeisachsen': 5364, 'fass': 5365, 'aufgemacht': 5366, 'inclusiv': 5367, 'inhaftie': 5368, 'volksverarsche': 5369, 'seawatchcrew': 5370, 'entsteigen': 5371, 'erpressung': 5372, 'ausgereicht': 5373, 'swraktuell': 5374, 'andischeuer': 5375, 'hoehe': 5376, 'gehalts': 5377, 'scheuer': 5378, 'siedlungsland': 5379, 'traktoren': 5380, 'nachahmungstaeter': 5381, 'inspirie': 5382, 'losschlaegt': 5383, 'unterschlagen': 5384, 'rawnezz': 5385, 'picture': 5386, 'diffamierung': 5387, 'verkappte': 5388, 'herrenmensch': 5389, 'ausmass': 5390, 'geringer': 5391, 'treuen': 5392, 'boeser': 5393, 'pebbles': 5394, 'kratzen': 5395, 'honecker': 5396, 'plansoll': 5397, 'angepasst': 5398, 'fax': 5399, 'opferrolle': 5400, 'taqiyya': 5401, 'hinterkopf': 5402, 'faxe': 5403, 'verschickt': 5404, 'erwiesen': 5405, 'ansieht': 5406, 'harba': 5407, 'ik': 5408, 'tapsen': 5409, 'teuer': 5410, 'grablicht': 5411, 'leise': 5412, 'online': 5413, 'integrieren': 5414, 'dankoeoeoe': 5415, 'glaubwuerdigster': 5416, 'anreihung': 5417, 'einzelfaellen': 5418, 'tolerieren': 5419, 'schloss': 5420, 'maut': 5421, 'kaut': 5422, 'verhaftung': 5423, 'gefeie': 5424, 'awidmannmauz': 5425, 'bmas': 5426, 'wittenburg': 5427, 'gutmenschentun': 5428, 'jena': 5429, 'badkreuznach': 5430, 'freiburg': 5431, 'wuerzburg': 5432, 'blutiges': 5433, 'hof': 5434, 'treue': 5435, 'verzer': 5436, 'einseitig': 5437, 'anscbaut': 5438, 'polizeiufr': 5439, 'brandstiftungen': 5440, 'pks': 5441, '55': 5442, 'liegevermerke': 5443, 'strafanzeigen': 5444, 'auftauchen': 5445, 'gelogen': 5446, 'verfaelscht': 5447, 'sla': 5448, 'verlorenes': 5449, 'traf': 5450, 'abendblatt': 5451, 'goldstueck': 5452, 'reagie': 5453, 'rabbi': 5454, '48': 5455, 'frlokal': 5456, 'gewe': 5457, 'gefaelscht': 5458, 'gue': 5459, 'weltfrieden': 5460, 'katjaberlin': 5461, 'diezeit': 5462, 'muschi': 5463, 'verwerfliches': 5464, 'emotionslos': 5465, 'verkuendet': 5466, 'mvgticker': 5467, 'taschendiebe': 5468, 'think': 5469, 'proviteure': 5470, 'ueberschrift': 5471, 'mse': 5472, 'geringe': 5473, 'fuehrerschein': 5474, 'untauglichkeit': 5475, 'lebenslaengliches': 5476, 'zwangsarbeit': 5477, 'berlinale': 5478, 'infamster': 5479, 'holocaust': 5480, 'missbraucht': 5481, 'veruntreuen': 5482, 'verpflechtung': 5483, 'anschaut': 5484, 'islamistisch': 5485, 'abzulenken': 5486, 'amused': 5487, 'schutzsuchende': 5488, 'klatscher': 5489, 'ejakulieren': 5490, 'oberbayern': 5491, 'tuev': 5492, 'sued': 5493, 'gleisanlagen': 5494, 'geschleust': 5495, 'geoeffnet': 5496, 'spaltkeil': 5497, 'seinen': 5498, 'rainer': 5499, 'geyer': 5500, 'stinkende': 5501, 'gekrochen': 5502, 'klee': 5503, 'hoerigen': 5504, 'slmoka': 5505, 'kuse': 5506, 'beiliegt': 5507, 'treuer': 5508, 'rechtschreibnazi': 5509, 'informieren': 5510, 'vollidiot': 5511, 'langweilen': 5512, 'ekeln': 5513, 'carsten': 5514, 'otten': 5515, 'treues': 5516, 'helloyara': 5517, 'stendal': 5518, 'betraf': 5519, 'dezent': 5520, 'verleugnet': 5521, 'ruecktritte': 5522, 'stillschweigen': 5523, 'strunz': 5524, 'miguel': 5525, 'alemania': 5526, 'haz': 5527, 'berichte': 5528, 'antut': 5529, 'toitschenfeindlichkeit': 5530, 'aufgreifen': 5531, 'eigentliche': 5532, 'effektivsten': 5533, 'rohstoff': 5534, 'innovation': 5535, 'erfindungsreichtum': 5536, 'klages': 5537, 'kitakriseberlin': 5538, 'bamf': 5539, 'tag24ffm': 5540, 'antrag': 5541, 'abendzeitung': 5542, 'maennern': 5543, 'alibi': 5544, 'siedlungs': 5545, 'bluehenden': 5546, 'landschaften': 5547, 'infrastruktur': 5548, 'vernachlaessigt': 5549, 'vorsah': 5550, 'umgestaltet': 5551, 'eingeleitet': 5552, 'air': 5553, 'fra': 5554, 'fremdenfeindlich': 5555, 'unerkannter': 5556, 'bzberlin': 5557, 'missfaellt': 5558, 'mobynikk': 5559, 'umweltheinis': 5560, 'wuestenstad': 5561, 'messen': 5562, 'scwachkoepfe': 5563, 'gruener': 5564, 'schwachkoepfe': 5565, 'arbeitsplaetze': 5566, 'aussprechen': 5567, 'kri': 5568, 'fri': 5569, 'tomvitzthum': 5570, 'beschliessen': 5571, 'deutchland': 5572, 'zusuchen': 5573, 'umweltdeppen': 5574, 'ruienieren': 5575, 'spee': 5576, 'unbequem': 5577, 'rantasten': 5578, 'fuersprecher': 5579, 'buessen': 5580, 'betruegerische': 5581, 'absteigen': 5582, 'abgrund': 5583, 'vmedick': 5584, 'derspiegel': 5585, 'akumemte': 5586, 'inhalt': 5587, 'brauen': 5588, 'bu': 5589, 'erlich': 5590, 'claudia': 5591, 'kade': 5592, 'bundespdraesident': 5593, 'klammern': 5594, 'dirigie': 5595, 'facbook': 5596, 'hoehle': 5597, 'stuetzt': 5598, 'absolute': 5599, 'tiefe': 5600, 'duemmlich': 5601, 'speichellecker': 5602, 'schweden': 5603, 'runtet': 5604, 'suedlaender': 5605, 'neunkrichen': 5606, 'jetzigen': 5607, 'ausrauben': 5608, 'ausschreitungen': 5609, 'geschriehen': 5610, 'bundesweit': 5611, 'meke': 5612, 'ueberlassen': 5613, 'dehnen': 5614, 'abrechnung': 5615, 'tonline': 5616, 'lindener': 5617, 'asylantenpolitik': 5618, 'weisen': 5619, 'waehren': 5620, 'zuverhindern': 5621, 'aussland': 5622, 'krimminelle': 5623, 'ausende': 5624, 'casperxofficial': 5625, 'kraftklub': 5626, 'dendemann': 5627, 'eria': 5628, 'uebergeschnappt': 5629, 'eingriegen': 5630, 'umgehend': 5631, 'nachzug': 5632, '1984reload': 5633, 'einsicht': 5634, 'niedersachsen': 5635, 'ministerpraesident': 5636, 'dercdu': 5637, 'kleben': 5638, 'narren': 5639, 'marleneschfer1': 5640, 'eingriff': 5641, 'wahlfreiheit': 5642, 'verfassungswidrig': 5643, 'rapide': 5644, 'trichophobe': 5645, 'kopfwindel': 5646, 'praegen': 5647, 'islamophobie': 5648, 'mohammedkultisten': 5649, 'trichophile': 5650, 'entblocke': 5651, 'sabinemnch1': 5652, 'umgeht': 5653, 'tauschgeschaefte': 5654, 'erdeal': 5655, 'argentinien': 5656, 'lokomotiven': 5657, 'weizen': 5658, 'versenkte': 5659, 'handelsflotte': 5660, 'ribbentrop': 5661, 'dummdreist': 5662, 'anluegst': 5663, 'henker': 5664, '10x': 5665, 'folgten': 5666, 'scheidung': 5667, 'einreicht': 5668, 'brut': 5669, 'geraldgrosz': 5670, 'kapitulie': 5671, 'grandios': 5672, 'gelungen': 5673, 'petra58249513': 5674, 'vordergrund': 5675, 'genderbeauftragende': 5676, 'weltfriedens': 5677, 'hundewelpen': 5678, 'unding': 5679, 'sachlich': 5680, 'hubaich': 5681, 'proteus93484191': 5682, 'gebuehrenzaehler': 5683, 'verbraucher': 5684, '0001f4a1': 5685, 'heikos': 5686, 'elfenbeinkuestenflagge': 5687, 'irland': 5688, 'versieht': 5689, 'warnhinweis': 5690, 'sensible': 5691, 'aussenminister': 5692, 'kompletten': 5693, 'blossstellung': 5694, 'ottoberger6': 5695, 'vollverschleie': 5696, 'zett': 5697, 'bernardina': 5698, 'aeusserster': 5699, 'disziplin': 5700, 'impulskontrolle': 5701, 'koyamamichi': 5702, 'abschliessbares': 5703, 'penisgefaengnis': 5704, 'checkst': 5705, 'wasistzeitgeist': 5706, 'syrerinvasion': 5707, 'schimpfen': 5708, 'philipp': 5709, 'julien': 5710, 'wucht': 5711, 'dahinraffen': 5712, 'rothaarige': 5713, 'blondinen': 5714, 'bruenette': 5715, 'sommersprossen': 5716, 'braune': 5717, 'neuschwanstein': 5718, 'eiffelturm': 5719, 'ben': 5720, 'oktoberfest': 5721, 'mailand': 5722, 'oper': 5723, 'porsche': 5724, 'mercedes': 5725, 'ferrari': 5726, 'bentley': 5727, 'gay': 5728, 'paraden': 5729, 'travestieshows': 5730, 'reeperbahn': 5731, 'munz': 5732, 'kerl': 5733, 'suendigen': 5734, 'suendige': 5735, 'sexobjekte': 5736, 'offenem': 5737, 'sabbernde': 5738, 'lustmolche': 5739, 'verwandeln': 5740, 'bedecken': 5741, 'anstaendige': 5742, 'schariabeflaggung': 5743, 'evilsnakedcat': 5744, 'hvdphoto': 5745, 'buerger2000': 5746, 'biomasseinduzie': 5747, 'klimaerwaermung': 5748, '70ern': 5749, 'kommende': 5750, 'eiszeit': 5751, 'gore': 5752, 'global': 5753, 'warming': 5754, 'polare': 5755, 'minus': 5756, 'sibirische': 5757, 'tichy': 5758, 'journalist': 5759, 'redaktion': 5760, 'faktenerfinder': 5761, 'erden': 5762, 'realitaeten': 5763, 'klarkommen': 5764, '2260': 5765, 'ollee3': 5766, 'ranzigeimme': 5767, 'petrbystronafd': 5768, 'abaerbock': 5769, 'seenotrettung': 5770, 'schleuserfaehrdienst': 5771, 'buergerrettung': 5772, 'inlandstote': 5773, 'schuppen': 5774, 'kunstduengers': 5775, 'existent': 5776, '0001f30d': 5777, 'gedankt': 5778, 'vorstehendem': 5779, 'neom1913': 5780, 'standardspruechlein': 5781, 'meere': 5782, 'erhitzt': 5783, 'lenken': 5784, 'polarluft': 5785, 'chicago': 5786, 'folgenbetrachtung': 5787, 'blenden': 5788, 'wohlige': 5789, 'augenblicks': 5790, 'gesinnungsethik': 5791, 'ungsethik': 5792, 'ludwig': 5793, 'romantischere': 5794, 'schloesser': 5795, 'rudi44888': 5796, 'bahnhof': 5797, 'ruckkehrer': 5798, 'toedliche': 5799, 'krankheit': 5800, 'befallen': 5801, 'tode': 5802, 'erhards': 5803, 'wachstum': 5804, '50er': 5805, 'frozzelt': 5806, 'knalltyp': 5807, 'stichwo': 5808, 'vehikel': 5809, 'abendland': 5810, 'koranschule': 5811, 'verse': 5812, 'assange': 5813, 'gewiss': 5814, 'araberclans': 5815, 'jansamis': 5816, 'unveraenderlicher': 5817, 'phaenotypischer': 5818, 'abwe': 5819, 'hineindeuteln': 5820, 'frankschramm5': 5821, 'deutschstaemmige': 5822, 'staatsangehoerigkeit': 5823, 'voelkern': 5824, 'verlegen': 5825, 'grenzzaeune': 5826, 'allmaehlich': 5827, 'gelange': 5828, 'auffassung': 5829, 'zeitraubender': 5830, 'ragene': 5831, 'aufgaben': 5832, 'zeh': 5833, 'souveraenitaetsuebe': 5834, 'ragungen': 5835, 'subsidiaritaetsprinzip': 5836, 'limitie': 5837, 'syrische': 5838, 'syrischen': 5839, 'booten': 5840, 'schengen': 5841, 'oeffnet': 5842, 'aussengrenzschutz': 5843, 'drittlaender': 5844, 'durchwinkt': 5845, 'aufgibt': 5846, 'letztlich': 5847, 'kontrapropa': 5848, 'leichte': 5849, 'gebietsreduktion': 5850, 'raeumlicher': 5851, 'geltungsbereich': 5852, 'gedoens': 5853, 'drum': 5854, 'separierenden': 5855, 'rechtsidentisch': 5856, 'bundesbuergern': 5857, 'identitaetslehre': 5858, 'rechtswissenschaft': 5859, 'staendigen': 5860, 'rechtsprechung': 5861, 'bundesverfassungsgerichts': 5862, 'bundesrepublik': 5863, 'rechtsnachfolger': 5864, 'reichs': 5865, 'identisch': 5866, 'bundesbuerger': 5867, 'schwurbeln': 5868, 'fiktion': 5869, 'fixe': 5870, 'gabalier': 5871, 'orden': 5872, 'neudeutsch': 5873, 'rinberger': 5874, 'rechtslage': 5875, 'vermoegensrecht': 5876, 'sachenrecht': 5877, 'roemische': 5878, 'praegung': 5879, 'familienrecht': 5880, 'germanische': 5881, 'abstammung': 5882, 'bodenrecht': 5883, 'schwadronie': 5884, 'russlandfeldzugs': 5885, 'alfredheger': 5886, '66k': 5887, 'trupp': 5888, 'impressions': 5889, 'monatlich': 5890, 'sapperlot': 5891, 'zutun': 5892, 'knabbe': 5893, 'buendel': 5894, 'geschieden': 5895, 'likete': 5896, 'zeigte': 5897, 'entfolgst': 5898, 'eigenmaechtig': 5899, 'gleichgewicht': 5900, 'spektrums': 5901, 'alternativlosigkeit': 5902, 'verschoben': 5903, 'afdimbundestag': 5904, 'boykottie': 5905, 'etzodernie': 5906, 'minarchist': 5907, 'reduktion': 5908, 'kernaufgaben': 5909, 'unversoehnlicher': 5910, 'heimattreue': 5911, '0001f499': 5912, '0001f308': 5913, '0001f337': 5914, '0001f33b': 5915, 'reichtagsgebaeude': 5916, 'widmung': 5917, 'auslaendern': 5918, 'japan': 5919, 'nigeria': 5920, 'uruguay': 5921, 'gesinnungsverbrechen': 5922, 'bjoern': 5923, 'staatsfeind': 5924, 'menschenwuerde': 5925, 'entgegengesetzt': 5926, 'over2019': 5927, 'kopfabschneider': 5928, 'zumal': 5929, 'bemuehten': 5930, 'wehrlos': 5931, 'altersbestellung': 5932, 'umstritten': 5933, 'volljaehrige': 5934, 'kenntnis': 5935, 'ueberwiegend': 5936, 'droehnt': 5937, 'hetzgagd': 5938, 'strassenschlaegern': 5939, 'relikt': 5940, 'einsam': 5941, 'traurige': 5942, 'massenzuwanderung': 5943, 'dieselenteignung': 5944, 'energiekosten': 5945, 'nullzins': 5946, 'altersarmut': 5947, 'ausufernder': 5948, 'drangsalie': 5949, 'bildet': 5950, 'linksblock': 5951, 'linksstaat': 5952, 'shades': 5953, 'neulinks': 5954, 'diffuslinks': 5955, 'linksliberal': 5956, 'oekolinks': 5957, 'linksradikal': 5958, 'vandalismus': 5959, 'kampftruppe': 5960, 'ells': 5961, 'interventionistischen': 5962, 'tarnnamen': 5963, 'phaenome': 5964, 'rudelvergewaltigungen': 5965, 'messermaenner': 5966, 'schwerverletzten': 5967, 'aufzaehlung': 5968, '200m': 5969, 'grauens': 5970, 'bedruckten': 5971, 'din': 5972, 'a4': 5973, 'voelkerwanderung': 5974, 'aufgelistet': 5975, 'merkelsiedlern': 5976, 'unterdurchschnittliche': 5977, 'bildungserfolge': 5978, 'ueberdurchschnittliche': 5979, 'transferleistungsbezuege': 5980, 'frauendiskriminierung': 5981, 'zwangsheirat': 5982, 'kinderehen': 5983, 'integrationsunwille': 5984, 'blank35319162': 5985, 'dreiste': 5986, 'loeschkalk': 5987, 'testosteronstrotzenden': 5988, 'grenzstuermer': 5989, 'ceuta': 5990, 'aetzendem': 5991, 'loeschkalkulation': 5992, 'hieb': 5993, 'stichwaffen': 5994, 'grenzbeamten': 5995, 'attackieren': 5996, 'verzerrend': 5997, 'grenzrecht': 5998, 'fabulieren': 5999, 'nachrangiges': 6000, 'verhaeltnismaessigkeit': 6001, 'verwaltungshandeln': 6002, 'ultima': 6003, 'ratio': 6004, 'par': 6005, 'geltendes': 6006, 'verweis': 6007, 'gesetzeslage': 6008, 'storch': 6009, 'niede': 6010, 'raechtig': 6011, 'umdeutet': 6012, 'diskurses': 6013, 'zitaten': 6014, 'maximalmoeglich': 6015, 'missverstehen': 6016, 'umdeuten': 6017, 'verzerren': 6018, 'tomkoehler252': 6019, 'nimmer': 6020, 'sexistin': 6021, 'heliphobie': 6022, 'heftig': 6023, 'aufgeschnappt': 6024, 'salzsaeure': 6025, 'geloestes': 6026, 'milliardenerbin': 6027, 'group': 6028, 'maennerfeindlicher': 6029, 'diversfeindlich': 6030, 'antisemitisch': 6031, 'prophetenbeleidigung': 6032, 'gratismut': 6033, 'kollektivismus': 6034, 'umma': 6035, 'rechtsextremen': 6036, 'verdiente': 6037, 'festangestellte': 6038, 'haushaltshilfe': 6039, 'unternehmerhaushalt': 6040, 'iannis': 6041, 'detlefalsbach1': 6042, 'lillycat15': 6043, 'grausamkeit': 6044, 'maennergrippe': 6045, 'erahnen': 6046, 'spassen': 6047, 'genderleugnern': 6048, 'weihungen': 6049, 'getrennt': 6050, 'revision': 6051, 'handerwerkszeug': 6052, 'aufrichtiger': 6053, 'volljaehrigem': 6054, 'stockkatholisch': 6055, 'kennenlernte': 6056, 'unmoralischen': 6057, 'beduinen': 6058, 'durchschnittsdeutschen': 6059, 'spinnereien': 6060, 'tugendstolzen': 6061, 'inbruenstig': 6062, 'gebruellt': 6063, 'systemherde': 6064, 'unistisch': 6065, 'unveraende': 6066, 'eingebauter': 6067, 'selbstschutz': 6068, 'gottes': 6069, 'filmt': 6070, 'steinigung': 6071, 'sma': 6072, 'unabaenderliche': 6073, 'phaenotypische': 6074, 'anknuepft': 6075, 'arabern': 6076, 'afrikanern': 6077, 'birds': 6078, 'feather': 6079, 'together': 6080, 'kreisen': 6081, 'eingebracht': 6082, 'kz': 6083, 'polpotkillingfields': 6084, 'fbi': 6085, 'spezies': 6086, 'aeussere': 6087, 'suedafrika': 6088, 'farmermorde': 6089, 'genozidaufrufen': 6090, 'antiweisser': 6091, 'leugnung': 6092, 'angeborenem': 6093, 'phaenotyp': 6094, 'islamstaaten': 6095, 'verfasst': 6096, 'religionsfreiheit': 6097, 'sexuell': 6098, 'abweichende': 6099, 'juengste': 6100, 'libanon': 6101, 'umwaelzung': 6102, 'positives': 6103, 'wirbeln': 6104, 'durcheinander': 6105, 'bewunde': 6106, 'germanischen': 6107, 'kriegerischen': 6108, 'welteroberern': 6109, 'verlieben': 6110, 'intim': 6111, 'pierre': 6112, 'trauerzuegen': 6113, 'schwerster': 6114, 'kapitaler': 6115, 'migrantenkriminalitaet': 6116, 'rechtsextreme': 6117, 'offizielle': 6118, 'eihaltung': 6119, 'fuendig': 6120, 'brasilianerin': 6121, 'dunklem': 6122, 'teint': 6123, 'krausen': 6124, 'liie': 6125, 'paraderassist': 6126, 'unmenschlichen': 6127, 'islampraxis': 6128, 'hellste': 6129, 'kerze': 6130, 'veritable': 6131, 'vollmeise': 6132, 'enklave': 6133, 'inmitten': 6134, 'archaischer': 6135, 'islamdiktaturen': 6136, 'eidigungsrecht': 6137, 'subventionierung': 6138, 'doppelmoral': 6139, 'saekular': 6140, 'verfassten': 6141, 'apologeten': 6142, 'betaetigen': 6143, 'aufgeknuepften': 6144, 'homosexuellen': 6145, 'tolerante': 6146, 'kuffar': 6147, 'schaetzt': 6148, 'rechtlich': 6149, 'gleichstellt': 6150, 'orientierung': 6151, 'privatsache': 6152, 'kinderbraeute': 6153, 'verbietet': 6154, 'gewaltfreie': 6155, 'auffaellt': 6156, 'flosafraca': 6157, 'schaechtung': 6158, 'koenigsfamilie': 6159, 'rollenmodell': 6160, 'perfekte': 6161, 'feudalsystem': 6162, 'volkswiderstand': 6163, 'massiv': 6164, 'stil': 6165, 'senkung': 6166, 'sonmist7': 6167, 'joachimfriede4': 6168, 'ironisch': 6169, 'ron1872': 6170, 'europaeischer': 6171, 'cousinen': 6172, 'heirat': 6173, 'grades': 6174, 'herzlichen': 6175, 'grafik': 6176, 'salomontannhau1': 6177, 'milvus84': 6178, 'erdkundebuch': 6179, 'gymnasium': 6180, '80er': 6181, 'chrisjuko': 6182, 'desoxyribonukleinsaeure': 6183, 'lysergsaeurediethylamid': 6184, 'wigkummerle': 6185, 'materie': 6186, 'barbara25411': 6187, 'statistische': 6188, 'physikprofessor': 6189, 'neil': 6190, 'degrasse': 6191, 'tyson': 6192, 'mangels': 6193, 'rohstoffen': 6194, 'moeglichkeiten': 6195, 'intelligenzproblem': 6196, 'feststellt': 6197, 'kluegsten': 6198, 'schnitt': 6199, 'normalintelligenz': 6200, 'schlusslicht': 6201, 'vero': 6202, 'genforscher': 6203, 'rang': 6204, 'seltener': 6205, 'einzelgenies': 6206, 'archimedes': 6207, 'dummdreister': 6208, 'linkoider': 6209, 'meute': 6210, 'ehren': 6211, 'feststellung': 6212, 'genetisch': 6213, 'durchschnittlich': 6214, 'tamara': 6215, 'schweizerin': 6216, 'hannovers': 6217, 'gendergaga': 6218, 'schippe': 6219, 'satirisch': 6220, 'twitty80905251': 6221, 'schwappt': 6222, 'schnellsten': 6223, 'gewachsene': 6224, 'bedrohte': 6225, 'minderheitenschutz': 6226, 'poc': 6227, '0001f632': 6228, 'hitlerschen': 6229, 'merkelsche': 6230, 'nationalmasochismus': 6231, 'mitteleuropas': 6232, '0001f98a': 6233, 'huehnerstall': 6234, '0001f423': 6235, '0001f425': 6236, 'sozialisten': 6237, 'verbund': 6238, 'schirmherrschaft': 6239, 'freiheitlichen': 6240, 'saekularen': 6241, 'tribalismus': 6242, 'religionseifers': 6243, 'pot': 6244, 'ausliefern': 6245, 'versorgungszentrum': 6246, 'paritaetisch': 6247, 'genossenschaft': 6248, 'gesetzgeber': 6249, 'kompetenz': 6250, 'wuenschenswe': 6251, 'libtards': 6252, 'durchgeknallten': 6253, 'borders': 6254, 'nations': 6255, 'idiotie': 6256, 'wohligen': 6257, 'geborgenheit': 6258, 'oase': 6259, 'grausamen': 6260, 'verquietsche': 6261, 'floetenkonze': 6262, 'klamme': 6263, 'resterampe': 6264, 'zerbroeckelnder': 6265, 'machtbasis': 6266, 'verpennt': 6267, 'wahlsonntag': 6268, 'wuestenkult': 6269, 'ethnischer': 6270, 'verratene': 6271, 'kehren': 6272, 'riege': 6273, 'trauerzug': 6274, 'geschaendetes': 6275, 'ermordetes': 6276, 'mietmaul': 6277, 'hetzjagd': 6278, 'award': 6279, 'rotgruene': 6280, 'naive': 6281, 'tilgung': 6282, 'genpool': 6283, 'formelhaft': 6284, 'leichenberg': 6285, 'waechst': 6286, 'nolinke': 6287, 'geschworen': 6288, 'schwur': 6289, 'melkkuehe': 6290, 'strammer': 6291, 'herangezogen': 6292, 'eidesformel': 6293, 'ueberarbeiten': 6294, 'synchronisieren': 6295, 'tele5': 6296, 'massenpanik': 6297, 'jvermessen': 6298, 'berlinulla': 6299, 'maennerhaushalt': 6300, 'wings': 6301, 'backofen': 6302, '0001f357': 6303, 'kauen': 6304, 'voegel': 6305, '0001f52a': 6306, '0001f37d': 6307, 'rosa': 6308, 'haeschenohren': 6309, '0001f430': 6310, 'aufopfernd': 6311, 'guilt': 6312, 'anarchie': 6313, 'fraktion': 6314, 'bleifuss': 6315, 'buergerrechte': 6316, 'frauenwahlrechts': 6317, 'fesche': 6318, 'eroberer': 6319, 'frauenherzen': 6320, 'trendy': 6321, 'chen': 6322, 'reichskanzler': 6323, 'monamar23815769': 6324, 'drastische': 6325, 'gegenbezeichnungen': 6326, 'unverschaemtheiten': 6327, 'verfassungstreuen': 6328, 'freibuergern': 6329, 'nospd': 6330, 'nogruene': 6331, 'nocommies': 6332, 'polpotkillingfieldsmetzger': 6333, 'gulagschergen': 6334, 'stasifolterknechte': 6335, 'meldemuschis': 6336, 'radikalkommunisten': 6337, 'hydra': 6338, 'schlage': 6339, 'schoeneres': 6340, 'mehmascholl': 6341, 'kaese': 6342, 'angeknabbe': 6343, 'holger56228648': 6344, 'moerderfratzen': 6345, 'journalistendarsteller': 6346, 'gegengesellschaft': 6347, 'mohammedkultes': 6348, 'propagieren': 6349, 'serienkiller': 6350, 'folterkeller': 6351, 'aufgewachtewelt': 6352, 'hinterm': 6353, 'gelandet': 6354, 'beeindruckende': 6355, 'gegende': 6356, 'unisextoiletten': 6357, '0001f61c': 6358, 'mondes': 6359, 'vollalimentierung': 6360, 'vernichtung': 6361, 'energiewi': 6362, 'demontage': 6363, 'gendergerechtigkeit': 6364, 'betonschwein': 6365, 'unkorrektes': 6366, 'dazwischengeschmuggelt': 6367, '0001f92b': 6368, 'breite': 6369, 'einzufangen': 6370, 'biologisch': 6371, 'saeugetiere': 6372, 'kognitiven': 6373, 'faehigkeiten': 6374, 'befaehigen': 6375, 'umgestaltung': 6376, 'lebenswelt': 6377, 'weitergabe': 6378, 'gemeinsamer': 6379, 'abstraktion': 6380, 'mathematischen': 6381, 'formalsprache': 6382, 'trennt': 6383, 'fckcdu': 6384, 'cduverhindern': 6385, 'ausgleich': 6386, 'gebettelt': 6387, 'laenderspiel': 6388, 'fckdlf': 6389, 'fcksky': 6390, 'baeckerlehre': 6391, 'lehrlingsgehalt': 6392, '00h': 6393, 'gesetzlicher': 6394, 'niedrigen': 6395, 'mieten': 6396, 'billigsten': 6397, 'anbieter': 6398, 'verschenkt': 6399, 'aufsteigen': 6400, 'woellte': 6401, 'grummeln': 6402, 'werbebande': 6403, 'ftw': 6404, 'huch': 6405, 'bebelplatz': 6406, 'staatsoper': 6407, 'baustellenzeugs': 6408, 'yesss': 6409, 'aufstampf': 6410, 'bvg': 6411, '200er': 6412, 'stationen': 6413, 'endhaltestelle': 6414, 'englischen': 6415, 'kommentator': 6416, 'auswechseln': 6417, 'naziaufmarsch': 6418, 'aufstand': 6419, 'bemueht': 6420, 'kontinuitaet': 6421, 'verwunderlich': 6422, 'betrete': 6423, 'dfbpokalistunsscheissegal': 6424, 'kkbeutekunst': 6425, 'ebay': 6426, 'kleinanzeigen': 6427, 'dickichten': 6428, 'enlaube': 6429, 'obersten': 6430, 'altbau': 6431, 'hinterhaus': 6432, 'issso': 6433, 'twitterlisten': 6434, 'bearbeiten': 6435, 'ansagen': 6436, 'verwaltung': 6437, 'anbietet': 6438, 'twitteraccount': 6439, 'aufraeumen': 6440, 'reaktivieren': 6441, 'rausgeschmissen': 6442, 'kollateralschaeden': 6443, 'spielzerstoerung': 6444, 'magdeburg': 6445, 'standardsituation': 6446, 'geschieteuchrecht': 6447, 'schieber': 6448, 'uups': 6449, 'trainerbank': 6450, 'oliv': 6451, 'traeume': 6452, 'ringe': 6453, 'geisterarmee': 6454, 'afdwegfegen': 6455, 'rage': 6456, 'stopptdenhass': 6457, 'grachmusikoff': 6458, 'schwoissfuass': 6459, 'frie': 6460, 'neid': 6461, 'wettruesten': 6462, '80igern': 6463, 'neudecker': 6464, 'diamantakos': 6465, 'stolpern': 6466, 'parks': 6467, 'traumflanken': 6468, 'hattrick': 6469, 'slowtrirun': 6470, 'cheating': 6471, 'totes': 6472, 'pferd': 6473, 'reiten': 6474, 'soooooo': 6475, 'soooo': 6476, 'kotz': 6477, 'bfe': 6478, 'einheiten': 6479, 'individuelle': 6480, 'kennzeichnung': 6481, 'b1702': 6482, 'servicetweet': 6483, 'saudaemliche': 6484, 'abwehr': 6485, 'flanken': 6486, 'kopfbaelle': 6487, 'ooch': 6488, 'bouhaddouz': 6489, 'hrhrhr': 6490, 'giggel': 6491, 'ahnte': 6492, 'tuffig': 6493, 'operie': 6494, 'wiener': 6495, 'italienische': 6496, 'staatsanwalt': 6497, 'lka': 6498, 'odenthal': 6499, 'kopper': 6500, 'zaeh': 6501, 'urban': 6502, 'priol': 6503, 'zuvielrealitaet': 6504, 'spannend': 6505, 'streamprobleme': 6506, 'afmradio': 6507, 'sobiech': 6508, 'kackte': 6509, 'afm': 6510, 'stream': 6511, 'callmeuschi': 6512, 'geahnt': 6513, 'torjubel': 6514, 'wiederanpfiff': 6515, 'schiri': 6516, 'depp': 6517, 'talsohle': 6518, 'unentschieden': 6519, 'yeah': 6520, 'situativ': 6521, 'ueberlaedt': 6522, 'verdientes': 6523, 'remis': 6524, 'spiels': 6525, 'regensburg': 6526, 'gephotoshopped': 6527, '1e9e': 6528, 'graetsche': 6529, 'einsdroelf': 6530, 'jens1893': 6531, 'gegebenem': 6532, 'bazitrachten': 6533, 'cannstatt': 6534, 'aux': 6535, 'halbzeit': 6536, 'gebucht': 6537, 'bwler': 6538, 'besseren': 6539, 'ingolstaedter': 6540, 'trikots': 6541, 'vorgeschmutzt': 6542, 'fcspfci': 6543, 'lullen': 6544, 'flumi': 6545, 'adrenalinspritze': 6546, 'verhoek': 6547, '0001f615': 6548, 'konzentrieren': 6549, 'trikot': 6550, 'aufgespa': 6551, 'funke': 6552, 'stuemmt': 6553, 'zahnpasta': 6554, 'heuteplus': 6555, 'polizeigewerkschafter': 6556, 'polizeitaktik': 6557, 'quasselt': 6558, 'empirisch': 6559, 'carsharing': 6560, 'nutzer': 6561, 'pygmaeen': 6562, 'wgt': 6563, 'zeitraum': 6564, 'wgts': 6565, 'wschingnitz': 6566, 'jirky': 6567, 'eyes': 6568, 'sintaura': 6569, 'theo': 6570, 'dfl': 6571, 'funktionaeren': 6572, 'ordner': 6573, 'm60ssv': 6574, 'fckdfb': 6575, 'gratuliere': 6576, 'vfl': 6577, 'wolfsburg': 6578, 'gewinn': 6579, 'doubles': 6580, 'derbysieger': 6581, 'polyamorie': 6582, 'froagst': 6583, 'katie': 6584, 'woias': 6585, 'host': 6586, 'hihihihi': 6587, 'ohje': 6588, 'kopfschuettel': 6589, 'halbserie': 6590, 'magischer': 6591, 'fc': 6592, 'kurve': 6593, 'unabsteigbar': 6594, 'hinrunde': 6595, 'klatschpappenliga': 6596, 'glamour': 6597, 'gala': 6598, 'glitzer': 6599, 'mittellinie': 6600, 'faustet': 6601, 'preisboxer': 6602, 'vflfcsp': 6603, 'kuer': 6604, 'askowronek': 6605, 'angewoehnen': 6606, 'schee': 6607, 'net': 6608, 'selte': 6609, 'winkel': 6610, 'erdolchen': 6611, 'hipsterdutt': 6612, 'besche': 6613, 'kaiserslautern': 6614, 'rechnerisch': 6615, 'abgefahren': 6616, 'ick': 6617, 'ae': 6618, 'aziz': 6619, 'sensationell': 6620, 'enge': 6621, 'kiste': 6622, 'bildgewaltig': 6623, 'gefuehlten': 6624, 'saisons': 6625, 'ssieg': 6626, 'nachspielen': 6627, 'versaut': 6628, 'gefrustet': 6629, 'nachspielzeit': 6630, 'sahin': 6631, 'eiskalte': 6632, 'amuesant': 6633, 'istbraunweiss': 6634, 'pietaet': 6635, 'auszustrahlen': 6636, 'lupo': 6637, 'schlechteste': 6638, 'nullzeit': 6639, 'eckballtor': 6640, 'beruhigt': 6641, 'gentner': 6642, 'gefuehlt': 6643, 'praesident': 6644, 'schinkenkrakauer': 6645, 'einwerfen': 6646, 'mandymatz': 6647, 'zeckenwombat': 6648, 'quatschkopf': 6649, 'gestraft': 6650, 'monitor': 6651, '80ger': 6652, 'verschossenen': 6653, 'meisterschaft': 6654, 'nuetzt': 6655, 'fehlentscheidung': 6656, 'handspiel': 6657, 'abstoss': 6658, 'heidenheim': 6659, 'abstiegskampf': 6660, 'duesseldorfer': 6661, 'schauspiele': 6662, 'ruppe': 6663, 'pappbecher': 6664, 'weed': 6665, 'draufsteht': 6666, 'scheissangst': 6667, 'uswahl16': 6668, 'drummer': 6669, 'rb24': 6670, 'eberswalde': 6671, 'halb': 6672, 'bahnsteig': 6673, 'herzliche': 6674, 'gelacht': 6675, 'witterungsbedingte': 6676, 'stoerungen': 6677, 'pendlerschicksal': 6678, 'spieler': 6679, 'sepsis': 6680, 'oerks': 6681, 'ticker': 6682, 'puzzlestuecke': 6683, 'verkleiden': 6684, 'klingeln': 6685, 'suesses': 6686, 'saures': 6687, 'skandieren': 6688, 'suessesimhaus': 6689, 'seb': 6690, 'baehr': 6691, 'klassenbewusstsein': 6692, 'verhaeltnissen': 6693, 'are': 6694, 'bastards': 6695, 'acab': 6696, 'klassengesellschaft': 6697, 'volkstuemelei': 6698, 'antikapitalismus': 6699, 'afdkehl': 6700, 'menschenfeinde': 6701, 'pgeigerzaehler': 6702, 'formelfriedrich': 6703, 'friedenswatch': 6704, 'aufgenommen': 6705, 'mehrerer': 6706, 'si': 6707, 'outing': 6708, 'einzunehmen': 6709, 'streikenden': 6710, 'streik': 6711, 'bestehenden': 6712, 'findest': 6713, 'rebellwiesbaden': 6714, 'gruppierung': 6715, 'franzoesischen': 6716, 'allgemein': 6717, 'massive': 6718, 'rbbinforadio': 6719, 'gentrifizierung': 6720, 'meisterecki': 6721, 'existensrecht': 6722, 'abstreiten': 6723, 'nationalismen': 6724, 'doppelten': 6725, 'antikapitalistisch': 6726, 'rafberlin': 6727, 'jacke': 6728, 'ruppi': 6729, 'struppi': 6730, 'rbb24': 6731, 'bezirk': 6732, 'friedrichshain': 6733, 'einzelheiten': 6734, 'kinderlebenfrei': 6735, 'wolken': 6736, 'weiterziehen': 6737, 'soziologische': 6738, 'eindeutige': 6739, 'abzuschieben': 6740, 'anzutreffen': 6741, 'schlimmen': 6742, 'nestbeschmutzung': 6743, 'antirassistischer': 6744, 'feststelle': 6745, 'nerin': 6746, 'behandeln': 6747, 'nuetzlichkeit': 6748, 'tiefst': 6749, 'plakate': 6750, 'faschistoiden': 6751, 'svp': 6752, 'fpoe': 6753, 'anderer': 6754, 'speist': 6755, 'weltkriege': 6756, 'ergo': 6757, 'leckt': 6758, 'karpfenratten': 6759, 'schmakifatz': 6760, 'radikalelinkeb': 6761, 'm84013857': 6762, 'personifizierung': 6763, 'normalzustands': 6764, 'jeanneraffut': 6765, 'kattascha': 6766, 'verschwoehrungsottos': 6767, 'fahne': 6768, 'gefluechteten': 6769, 'amis': 6770, 'blabla': 6771, 'aufn': 6772, 'diskursbereit': 6773, 'welten': 6774, 'setze': 6775, 'emanzipation': 6776, 'ignoriere': 6777, 'arbeitsfetisch': 6778, 'produktion': 6779, 'vergeuden': 6780, 'proletarischen': 6781, 'radikalem': 6782, 'sozialdemokratischen': 6783, 'calvinistischen': 6784, 'diene': 6785, 'imaginie': 6786, 'jemandem': 6787, 'wunschvorstellungen': 6788, 'personifizie': 6789, 'schwache': 6790, 'sonjaablinger': 6791, 'conligit': 6792, 'generieren': 6793, 'humankapital': 6794, 'prokrastination': 6795, 'schulzeiten': 6796, 'berufs': 6797, 'privatleben': 6798, 'ableistisch': 6799, 'schadet': 6800, 'volkskoerper': 6801, 'kropotkin': 6802, 'umdreht': 6803, 'veraechtliches': 6804, 'faulheit': 6805, 'provokation': 6806, 'hing': 6807, 'buero': 6808, 'beisetzung': 6809, 'leistungsprinziep': 6810, 'aufzugehen': 6811, 'samelou': 6812, 'menschenfeinden': 6813, 'folgst': 6814, 'diskursbereitschaft': 6815, 'steile': 6816, 'toedlicher': 6817, 'kritischer': 6818, 'skeptisch': 6819, 'ablehnende': 6820, 'gewaltfrei': 6821, 'eingestochen': 6822, 'eidige': 6823, 'ihnen': 6824, 'gewaltphantasien': 6825, 'interpretieren': 6826, 'schicke': 6827, 'nachweislich': 6828, 'mollys': 6829, 'ermordete': 6830, 'menschenfeindlichen': 6831, 'passten': 6832, 'brennendes': 6833, 'fliegender': 6834, 'stein': 6835, 'hochgeruestete': 6836, 'staatsmacht': 6837, 'verglichen': 6838, 'pluende': 6839, 'laeden': 6840, 'durchsetzung': 6841, 'parlamentarischen': 6842, 'verschrieben': 6843, 'demokrat': 6844, 'wichig': 6845, 'verkommen': 6846, 'erinnere': 6847, 'armee': 6848, 'alliie': 6849, 'speziellen': 6850, 'zwingendes': 6851, 'erpresst': 6852, 'vag': 6853, 'reproduziere': 6854, 'kritisches': 6855, 'geschaerft': 6856, 'philipplicke': 6857, 'personalisieren': 6858, 'systematiken': 6859, 'erweckt': 6860, 'fatalen': 6861, 'polizeieinsaetze': 6862, 'kettenhunde': 6863, 'kapitals': 6864, 'unpolitisch': 6865, 'nationale': 6866, 'capitale': 6867, 'gewalttaetigkeiten': 6868, 'geisel': 6869, 'sauerei': 6870, 'anwesenheit': 6871, 'rechstaatliches': 6872, 'eidiger': 6873, 'durchsuchung': 6874, 'anwalt': 6875, 'staendige': 6876, 'moralisieren': 6877, 'willens': 6878, 'aender': 6879, 'koepfen': 6880, 'zhangdanhong': 6881, 'logistik': 6882, 'verkommt': 6883, 'widersprochen': 6884, 'angenommen': 6885, 'rchiflada': 6886, 'sis': 6887, 'teract': 6888, 'dlfkultur': 6889, 'denis': 6890, 'moritz': 6891, 'harald': 6892, 'georgii': 6893, 'teure': 6894, 'kieze': 6895, 'grundbeduerfnis': 6896, 'gjdueren': 6897, 'bah': 6898, 'koch': 6899, 'milchreis': 6900, 'sabinenuss': 6901, 'ndaktuell': 6902, 'sueddeutschland': 6903, 'susannewiest': 6904, 'grazynagintner': 6905, 'grundsicherung': 6906, 'gaengelung': 6907, 'jeweiligen': 6908, 'christlichen': 6909, 'gesetzlichen': 6910, 'urlaubsanspruch': 6911, 'addieren': 6912, 'gewuenscht': 6913, 'zusaetzlich': 6914, '1mai': 6915, 'maerz': 6916, 'neponip': 6917, 'pinky': 6918, 'pcww': 6919, 'fleischbruehe': 6920, 'iceapen': 6921, 'brainvisualizer': 6922, 'abkommandie': 6923, 'gedenkdemo': 6924, 'klare': 6925, 'scheiwerbung': 6926, 'micheloutlaw96': 6927, 'militanz': 6928, 'ansprichst': 6929, 'gedenken': 6930, 'joachimrock': 6931, 'paritaet': 6932, 'maxirente': 6933, 'beitraege': 6934, 'privatversicherungen': 6935, 'maxi': 6936, 'mindest': 6937, '65': 6938, 'religiositaet': 6939, 'glaubensaussagen': 6940, 'konzepte': 6941, 'institutionen': 6942, 'erscheinungsformen': 6943, 'rational': 6944, 'beziehungsweise': 6945, 'ethisch': 6946, 'kathari30070537': 6947, 'derfreitag': 6948, 'kontrast': 6949, 'selbstzweck': 6950, 'solides': 6951, 'entferntesten': 6952, 'verbalen': 6953, 'materiellen': 6954, 'toetetet': 6955, 'original': 6956, 'baerbelkofler': 6957, 'eindeutiges': 6958, 'antirassistisched': 6959, 'm4rcus': 6960, 'durchblick': 6961, 'nasir': 6962, 'ahmad': 6963, 'klassisch': 6964, 'hamidilaila1': 6965, 'konkretmagazin': 6966, 'ausgabe': 6967, 'verdi': 6968, 'annalist': 6969, 'lohnarbeit': 6970, 'ta': 6971, 'ideologiekritik': 6972, 'vorwand': 6973, 'keinster': 6974, 'definitionen': 6975, 'standa': 6976, 'materiel': 6977, 'schlauer': 6978, 'diepa': 6979, 'eiberlin': 6980, 'bvvxhain': 6981, 'sarahbosetti': 6982, 'frauenmarsch': 6983, 'antirassistisch': 6984, 'starzmann': 6985, 'zehlendorf': 6986, 'schlachtensee': 6987, 'graffiti': 6988, 'he': 6989, 'habsc': 6990, 'flaggen': 6991, 'gesprueht': 6992, 'vieleicht': 6993, 'dankeantifa': 6994, 'reticularis': 6995, 'erikmarquardt': 6996, 'dosenpfand': 6997, 'aufhaengen': 6998, 'linksradikalen': 6999, 'malcolmmusic': 7000, 'ndm': 7001, 'petadeutschland': 7002, 'stoppt': 7003, 'waffenexpo': 7004, 'diese': 7005, 'rambazamba161': 7006, 'waffe': 7007, 'offelcore': 7008, 'wewatzen': 7009, 'dankbarkeit': 7010, '90iger': 7011, 'nationalistischen': 7012, 'rassistischen': 7013, 'konsens': 7014, 'bedchissene': 7015, 'gammeln': 7016, 'figger': 7017, 'genuegsamkeit': 7018, 'hintergedanken': 7019, 'bibelvers': 7020, 'geplantes': 7021, 'schauspiel': 7022, 'vergleichit': 7023, 'vers': 7024, 'hochzeit': 7025, 'aufzuruecken': 7026, 'niederen': 7027, 'tischende': 7028, 'entgangen': 7029, 'aufgerueckt': 7030, 'gluecklicher': 7031, 'hurentisch': 7032, 'eineinhalb': 7033, 'ladenschluss': 7034, 'caipirinas': 7035, 'toffifee': 7036, 'symmetrisch': 7037, 'halbes': 7038, 'tuete': 7039, 'schimmel': 7040, 'spuehl': 7041, 'pc': 7042, 'letztens': 7043, 'menschenschwanz': 7044, 'huehnerkloake': 7045, 'dreckshaufen': 7046, 'cock': 7047, 'kloake': 7048, 'osmo': 7049, 'spast': 7050, 'verlaenge': 7051, 'mitleid': 7052, 'bauerncocks': 7053, 'see': 7054, 'did': 7055, 'there': 7056, 'alda': 7057, 'had': 7058, 'jabanische': 7059, 'bad': 7060, 'kinkaku': 7061, 'ji': 7062, 'nachempfunden': 7063, 'schmerztablette': 7064, 'op': 7065, 'merk': 7066, 'synchro': 7067, 'restlichen': 7068, 'saetze': 7069, 'statisten': 7070, 'kataras': 7071, 'tophs': 7072, 'zuko': 7073, 'narbe': 7074, 'auchnoch': 7075, 'lieh': 7076, 'norwegische': 7077, 'nationalhymne': 7078, 'staatsbuergerschaft': 7079, 'anzuendet': 7080, 'weggesprengt': 7081, 'gild': 7082, 'feuerwerke': 7083, 'duerft': 7084, 'mitternacht': 7085, 'gecalled': 7086, 'nciht': 7087, 'kursleiter': 7088, 'anzumelden': 7089, 'anmeldezeit': 7090, 'topi': 7091, 'hauptsaechlich': 7092, 'waerend': 7093, 'achselhaare': 7094, 'werded': 7095, 'kissen': 7096, 'unters': 7097, 'becken': 7098, 'wirbelsaeule': 7099, 'bloggen': 7100, 'abverlangen': 7101, 'brich': 7102, 'mannessystem': 7103, 'bekackte': 7104, 'durchkauen': 7105, 'anhaengergruppe': 7106, 'pustekuchen': 7107, 'interessenfeldes': 7108, 'diskreditieren': 7109, 'umbedingt': 7110, 'offene': 7111, 'konkubinator': 7112, 'schlafrythmus': 7113, 'sodbrennen': 7114, 'rechtliche': 7115, 'selbstjustiz': 7116, 'opposition': 7117, 'beschuldigst': 7118, 'straftaten': 7119, 'indenen': 7120, 'todeswuensche': 7121, 'ausspricht': 7122, 'streamt': 7123, 'tweetet': 7124, 'blogt': 7125, 'passagen': 7126, 'niiiicht': 7127, 'autopsy': 7128, 'life': 7129, 'death': 7130, 'cells': 7131, 'informations': 7132, 'regale': 7133, 'gasleitung': 7134, 'getroffen': 7135, 'explodier': 7136, 'heut': 7137, 'roadtrip': 7138, 'hinweisen': 7139, 'fachbegriff': 7140, 'fehlhaltung': 7141, 'lumbar': 7142, 'lordosis': 7143, 'beweisfuehrung': 7144, 'benennung': 7145, 'zustaendig': 7146, 'mental': 7147, 'breakdown': 7148, 'platzen': 7149, 'taggeckos': 7150, 'gehoeren': 7151, 'erlaubten': 7152, 'raptilien': 7153, 'fruchtboi': 7154, 'mitnehmen': 7155, 'jaaa': 7156, 'eingeschlafen': 7157, 'hellwach': 7158, 'pease': 7159, 'hoppla': 7160, 'nordlichter': 7161, 'immerdunklen': 7162, 'geschlossene': 7163, 'schneedecken': 7164, 'endlosen': 7165, 'waeldern': 7166, 'glasklare': 7167, 'fluesse': 7168, 'eiserne': 7169, 'taeler': 7170, 'grauer': 7171, 'pissehimmel': 7172, 'beficktem': 7173, 'fussweg': 7174, 'dreger': 7175, 'febasst': 7176, 'sueskram': 7177, 'nichmehr': 7178, 'meins': 7179, 'funkekubus': 7180, 'tandreallzeit': 7181, 'sven': 7182, 'xpandorya': 7183, 'klugscheisser': 7184, 'verbesse': 7185, 'klugscheisse': 7186, 'abracz': 7187, 'hinposition': 7188, 'gegenposition': 7189, 'problemes': 7190, 'modernsten': 7191, 'schleude': 7192, 'rauma': 7193, 'anfahren': 7194, 'vollpreis': 7195, 'immernoch': 7196, 'wat': 7197, 'joooooooooooooooo': 7198, 'witcher': 7199, 'sechs': 7200, 'halber': 7201, 'nachbearbeitung': 7202, 'anlaufen': 7203, 'praemisse': 7204, 'anmalt': 7205, 'absaegt': 7206, 'shego': 7207, 'energiebaendigerin': 7208, 'umprofesionehl': 7209, '3d': 7210, 'action': 7211, 'holst': 7212, 'ichs': 7213, 'gehofft': 7214, 'gebrochenen': 7215, 'selbstbeherrschung': 7216, 'erkaeltet': 7217, 'unterhaltung': 7218, 'gespielt': 7219, 'genauestens': 7220, 'kuerbissuppe': 7221, 'omas': 7222, 'gegrillten': 7223, 'croutons': 7224, 'unbestreitbar': 7225, 'cptmeddl': 7226, 'integritaet': 7227, 'schanzendaches': 7228, 'wingl': 7229, 'beruehren': 7230, 'verstaerkt': 7231, 'drachen': 7232, 'erfassen': 7233, 'balken': 7234, 'setzten': 7235, 'coolsten': 7236, 'boesewichte': 7237, 'geige': 7238, 'insignien': 7239, 'coolste': 7240, 'feature': 7241, 'setzung': 7242, 'janwastakenbtw': 7243, 'isow': 7244, 'trace': 7245, 'meta': 7246, 'vollstaendiges': 7247, 'todesu': 7248, 'darstellt': 7249, 'skill': 7250, 'lernkurve': 7251, 'kanns': 7252, 'pokemon': 7253, 'balanced': 7254, 'fps': 7255, 'ladezeiten': 7256, 'jeglichen': 7257, 'bildschirmen': 7258, 'laed': 7259, 'sekunde': 7260, 'spielbar': 7261, 'zimmer': 7262, 'gepisst': 7263, 'hurensohn': 7264, 'haarloser': 7265, 'putzischen': 7266, 'sussi': 7267, 'daaaaaaaaaaaa': 7268, 'skrawu': 7269, 'offenen': 7270, 'kabel': 7271, 'steckdose': 7272, 'verdammde': 7273, 'asiaddn': 7274, 'leckeres': 7275, 'nudeln': 7276, 'bereuen': 7277, 'nei': 7278, 'schuere': 7279, 'garnichts': 7280, 'bereu': 7281, 'domblebizeps': 7282, 'sieh': 7283, 'frustfresser': 7284, 'passive': 7285, 'vollem': 7286, 'maestet': 7287, 'beendende': 7288, 'strick': 7289, 'wissenschaftlichkeit': 7290, 'much': 7291, 'taetigkeitsbereiche': 7292, 'beleglose': 7293, 'liblingsargumente': 7294, 'drinne': 7295, 'neurobiologen': 7296, 'herausgefunden': 7297, 'medizinerin': 7298, 'langer': 7299, 'abschnitt': 7300, 'besagter': 7301, 'rausgepickte': 7302, 'seitigen': 7303, 'textanalyse': 7304, 'eingegenagen': 7305, 'textpassagen': 7306, 'interpraetierbaren': 7307, 'hinzuwerfen': 7308, 'anerkennst': 7309, 'faktoren': 7310, 'leugnet': 7311, 'bare': 7312, 'falsches': 7313, 'eidigst': 7314, 'hese': 7315, 'linguistik': 7316, 'begruendern': 7317, 'grundthesen': 7318, 'mitursache': 7319, 'anerkannt': 7320, 'ausweichst': 7321, 'grundfaktoren': 7322, 'beruecksichtigt': 7323, 'ausgefueh': 7324, 'leittextes': 7325, 'renomie': 7326, 'entsprechend': 7327, 'neutraler': 7328, 'zweig': 7329, 'einfluss': 7330, 'forschun': 7331, 'verkorksten': 7332, 'erwaehnst': 7333, 'strohmannes': 7334, 'beschuldigen': 7335, 'zurueckgehalten': 7336, 'teildebatte': 7337, 'auswirkung': 7338, 'geschlechterrollen': 7339, 'rhetorischen': 7340, 'fachsprachlichen': 7341, 'schlagfe': 7342, 'leserlichen': 7343, 'verfassen': 7344, 'twitterdebatten': 7345, 'hoeheres': 7346, 'zugegeben': 7347, 'wahrscheinliche': 7348, 'vereinzelter': 7349, 'sachlicher': 7350, 'groesstenteils': 7351, 'gestrige': 7352, 'auseinanderfassung': 7353, 'leitsteintext': 7354, 'gunda': 7355, 'instituts': 7356, 'geschlechterdemokratie': 7357, 'fehlerhaften': 7358, 'grundsteine': 7359, 'zweiges': 7360, 'barkeit': 7361, 'fachrichtung': 7362, 'anzuzweifeln': 7363, 'anhand': 7364, 'prozentsatz': 7365, 'grundstein': 7366, 'aufweisen': 7367, 'vielzahl': 7368, 'publikationen': 7369, 'studiums': 7370, 'einschalten': 7371, 'vermeindliche': 7372, 'wiederlegten': 7373, 'ergebnissen': 7374, 'festhaelt': 7375, 'ausblenden': 7376, 'diskussionsfaehig': 7377, 'durchbrechen': 7378, 'stosse': 7379, 'durchgekaut': 7380, 'rumgekommen': 7381, 'grundaussage': 7382, 'wissenschaftler': 7383, 'empirische': 7384, 'stossen': 7385, 'fechte': 7386, 'wiederlegt': 7387, 'unspezifischen': 7388, 'studien': 7389, 'genderforschung': 7390, 'fuerst': 7391, 'argumentiere': 7392, 'abnehmen': 7393, 'totschlagargumente': 7394, 'pseudowissenschaftlichen': 7395, 'polarisierender': 7396, 'irgendeine': 7397, 'validie': 7398, 'studienzweig': 7399, 'dem': 7400, 'fehlschluss': 7401, 'entkraeftet': 7402, 'wissenschaften': 7403, 'erworbenem': 7404, 'subjektiven': 7405, 'einschaetzung': 7406, 'faktische': 7407, 'psychologisch': 7408, 'vorbeeinflussende': 7409, 'argumentationsweise': 7410, 'entkraeftung': 7411, 'generische': 7412, 'maskulinum': 7413, 'wisse': 7414, 'eingeschlossen': 7415, 'ueberfluessig': 7416, 'plans': 7417, 'feministischen': 7418, 'weltherrschaft': 7419, 'sprachlichen': 7420, 'objektive': 7421, 'vorrausetzen': 7422, 'gelesener': 7423, 'getaetigt': 7424, 'deine': 7425, 'darzubringen': 7426, 'glaubwuerdig': 7427, 'suche': 7428, 'gegenlager': 7429, 'feldes': 7430, 'hingewiesen': 7431, 'verecundiam': 7432, 'erforderlich': 7433, 'begenrogenschaf': 7434, 'endsatz': 7435, 'bewerbung': 7436, 'eingentlich': 7437, 'irkro': 7438, 'restlos': 7439, 'arztbesuch': 7440, 'spaetfolgen': 7441, 'starken': 7442, 'einschraenkung': 7443, 'sehvermoegens': 7444, 'anhaltender': 7445, 'migraene': 7446, 'ueberlegenes': 7447, 'dorfimmunsystem': 7448, 'diabedes': 7449, 'predige': 7450, 'etzadla': 7451, 'zuckerduft': 7452, 'ausgeschlossen': 7453, 'lebensweise': 7454, 'wesendlich': 7455, 'symtome': 7456, 'naechster': 7457, 'anime': 7458, 'callcenter': 7459, 'abgestochen': 7460, 'befoerde': 7461, 'esseb': 7462, 'kuehlschrank': 7463, 'weggegammelt': 7464, 'erganhg': 7465, 'bitt': 7466, 'elefand': 7467, 'eisbe': 7468, '1887': 7469, 'ekliger': 7470, 'body': 7471, 'shamer': 7472, 'pain': 7473, 'fragilen': 7474, 'roggenbrotschaf': 7475, 'gleggersau': 7476, 'trockengebiete': 7477, 'laengere': 7478, 'perioden': 7479, 'aridisierung': 7480, 'drolnegul': 7481, 'gibs': 7482, 'single': 7483, 'sexspielchen': 7484, 'hittet': 7485, 'geschwistern': 7486, 'heuchelnde': 7487, 'festtags': 7488, 'alkoholiker': 7489, 'vivian': 7490, 'veganer': 7491, 'gewaldferachdensden': 7492, 'bazifisten': 7493, 'weld': 7494, 'etzad': 7495, 'neggsdenlieb': 7496, 'rehe': 7497, 'gewande': 7498, 'bistimmt': 7499, 'zeitumstellung': 7500, 'frost': 7501, 'hee': 7502, 'maln': 7503, 'emotionsbarometer': 7504, 'anzeichen': 7505, 'arce': 7506, 'wurst': 7507, 'schmausen': 7508, 'gemalt': 7509, 'verkaeggt': 7510, 'schuste': 7511, 'bettchen': 7512, 'judgy': 7513, 'judy': 7514, 'rauens': 7515, 'ewigkeiten': 7516, 'wikinger': 7517, 'wuseldst': 7518, 'schonwieder': 7519, 'getraeumt': 7520, 'wade': 7521, 'taetowie': 7522, 'klippenspringen': 7523, 'cringy': 7524, 'spuere': 7525, 'kriechende': 7526, 'snakecleaver': 7527, 'todschlag': 7528, 'sozialschmarotzer': 7529, 'liesche13761429': 7530, 'sozialhilfe': 7531, 'schlaue': 7532, 'tinaengel91': 7533, 'anwaelte': 7534, 'diggsn': 7535, 'abstempelt': 7536, 'asylpolitik': 7537, 'drecksau': 7538, 'afrikabonus': 7539, 'gerichtsbarkeit': 7540, 'ueberstellen': 7541, 'gerechten': 7542, 'manukindinger': 7543, 'islamisches': 7544, 'bibby182': 7545, 'islamscheisse': 7546, 'tinte': 7547, 'geopfe': 7548, 'kinderleiche': 7549, 'sande': 7550, 'arschlich': 7551, 'bauernopfer': 7552, 'vonderleyen': 7553, 'ungeschoren': 7554, 'unwesen': 7555, 'oren': 7556, 'ishii': 7557, 'wohlwissend': 7558, 'multikulti': 7559, 'steigen': 7560, 'leiche': 7561, 'abschlachten': 7562, 'judenhasser': 7563, 'korantreue': 7564, 'ismoslems': 7565, 'kaeri91622010': 7566, 'berufssoldaten': 7567, 'halskrause': 7568, 'verschuldet': 7569, 'familienumgebung': 7570, 'firma': 7571, 'zahlt': 7572, 'jassi': 7573, 'miller': 7574, 'schoenes': 7575, 'fakefoto': 7576, 'invasoren': 7577, 'fotografen': 7578, 'magdale46200278': 7579, 'eliste': 7580, 'krakan': 7581, 'sozialamt': 7582, 'treppen': 7583, 'runtergestossen': 7584, 'koks': 7585, 'karsten71': 7586, 'kranzschwinger': 7587, 'imseptember82': 7588, 'fressen': 7589, 'durchs': 7590, 'sozialaemter': 7591, 'biene44930936': 7592, 'gelebte': 7593, 'taxifahrer': 7594, 'obsthaendler': 7595, 'aufzuschwatzen': 7596, 'hermanu84806348': 7597, 'buergerkrieg': 7598, 'wahrlich': 7599, 'ausbricht': 7600, 'csendc': 7601, 'erkannt': 7602, 'ueberweisungstraeger': 7603, 'ausfuellen': 7604, 'mgtow': 7605, 'trau': 7606, 'kantine': 7607, 'hinhauen': 7608, 'unterdruecken': 7609, 'gluecklichen': 7610, 'bezahlbares': 7611, '017': 7612, 'eckleben': 7613, 'schaltern': 7614, 'abgehoben': 7615, 'geldtranspo': 7616, 'unternehmen': 7617, 'bargeld': 7618, 'abheben': 7619, 'zentral': 7620, 'ueberweisungen': 7621, 'manuell': 7622, 'taetigen': 7623, 'manipulieren': 7624, 'auflage': 7625, 'steigern': 7626, 'hokuspokus': 7627, 'nachhause': 7628, 'normalbuerger': 7629, 'bedienen': 7630, 'petersburg': 7631, 'wunderschoene': 7632, 'kreuz': 7633, 'schwestern': 7634, 'gefangenschaft': 7635, 'unvorstellbares': 7636, 'ferdi10709': 7637, 'diejenige': 7638, 'bongsarm': 7639, 'asiatimesonline': 7640, 'legaler': 7641, 'goettlicher': 7642, 'non': 7643, 'aelsie2': 7644, 'innlandfluege': 7645, 'fliegenden': 7646, 'eselkarre': 7647, 'kackvoegel': 7648, 'goere': 7649, 'tragischen': 7650, 'ableben': 7651, 'huette': 7652, 'drecksack': 7653, 'uebergutmensch': 7654, 'brigitt09960560': 7655, 'gammelfleisch': 7656, 'ruby571xa6': 7657, 'ehrlichkeit': 7658, 'agentbl40535536': 7659, 'buddhisten': 7660, 'gebete': 7661, 'vorhandenen': 7662, 'einrichtungen': 7663, 'ausgeuebt': 7664, 'beten': 7665, 'speedlight': 7666, 'xavier': 7667, 'naidoo': 7668, 'hassmusiker': 7669, 'wagt': 7670, 'auszusprechen': 7671, 'controlpanel16': 7672, 'schmarotzenden': 7673, 'salafisten': 7674, 'asoziallisten': 7675, 'abschiebeindustrie': 7676, 'kriegsverbreche': 7677, 'ribunal': 7678, 'haag': 7679, 'hinterbliebenen': 7680, 'unschuldigen': 7681, 'vergewaltigten': 7682, 'abgeschlachteten': 7683, 'zirkuse': 7684, 'akrobaten': 7685, 'springe': 7686, 'abzuziehen': 7687, 'klarzustellen': 7688, 'begeiste': 7689, 'milde': 7690, 'ausgedrueckt': 7691, 'steinhoefel': 7692, 'steuergelder': 7693, 'prostitution': 7694, 'rammstein': 7695, 'schamhaaren': 7696, 'prdgrmn': 7697, 'verachtende': 7698, 'schmutzig': 7699, 'menschenverachtend': 7700, 'roll': 7701, 'dummkopf': 7702, 'oppermann': 7703, 'arrrrrrrmen': 7704, 'vonanderst2018': 7705, 'spritze': 7706, 'widerwae': 7707, 'nachher': 7708, 'kuffars': 7709, 'sozialsysteme': 7710, 'einzuzahlen': 7711, 'einfallen': 7712, 'heuschrecken': 7713, 'money': 7714, 'nothing': 7715, 'andreag799': 7716, 'baerbeli04': 7717, 'altgold': 7718, 'genial': 7719, 'geniales': 7720, 'biggi811': 7721, 'schlepperflotten': 7722, 'wasse': 7723, 'axis': 7724, 'neopren': 7725, 'anzuegen': 7726, 'ausstattet': 7727, 'xyzimmermann': 7728, 'besiegeln': 7729, 'sprenglaeubigen': 7730, 'hejasolar': 7731, 'siglo76': 7732, 'schnorre': 7733, 'kaputte': 7734, 'marctailer3': 7735, 'linksversifftes': 7736, 'deutsches': 7737, 'beschreiben': 7738, 'andreasscheu': 7739, 'culture': 7740, 'knack': 7741, 'politelite': 7742, 'sft': 7743, 'allahuakba': 7744, 'isie': 7745, 'frischen': 7746, 'hochzurossen': 7747, 'taeusche': 7748, 'punisher': 7749, 'jogimuller': 7750, '270a': 7751, 'konzentrationslager': 7752, 'gestrickte': 7753, 'klabautermann': 7754, 'sharia': 7755, 'zwangsjacke': 7756, 'gummizelle': 7757, 'wohnungen': 7758, 'villen': 7759, 'zimmerwohnungen': 7760, 'kreuzberg': 7761, 'steglitz': 7762, 'friedenau': 7763, 'morrowqiang': 7764, 'saerdnaya': 7765, 'suseschmitt': 7766, 'kriegsfuehrung': 7767, 'samurai': 7768, 'krieger': 7769, 'erschreckende': 7770, 'erscheinungsbild': 7771, 'traeger': 7772, 'angreifer': 7773, 'marde651': 7774, 'belaestigt': 7775, 'ion': 7776, 'sarkasmus': 7777, 'snappycat': 7778, 'leddyman1': 7779, 'lermarek': 7780, 'thia2009': 7781, 'thomyskybik': 7782, 'vigilant': 7783, 'vonerlenbach': 7784, 'cd47115053': 7785, 'ebenjerry': 7786, 'realgermanistan': 7787, 'ofenschlupfer': 7788, 'zumwohledeutsch': 7789, 'lieben': 7790, '0001f618': 7791, 'harald70199': 7792, 'jagd': 7793, 'insolvenz': 7794, '6jahren': 7795, 'rausgelassen': 7796, 'schampus': 7797, 'paralla80562715': 7798, 'marodeure': 7799, 'zugestossen': 7800, 'solche': 7801, '0001f612': 7802, 'derzweifelnde': 7803, 'vorderen': 7804, 'futterplaetze': 7805, 'steuergelde': 7806, 'rog': 7807, 'laben': 7808, 'hi': 7809, 'klinke': 7810, 'sizilianer': 7811, 'siemenskornej': 7812, 'sammellager': 7813, 'flughaefen': 7814, 'zusammenfuehren': 7815, 'maschine': 7816, 'lebenslanges': 7817, 'einreiseverbot': 7818, 'connyhendrich': 7819, 'maulende': 7820, 'fahrerlaubnis': 7821, 'nullachtk': 7822, 'vonschwer': 7823, 'hamburgonline': 7824, 'darkgermany': 7825, 'obdachlosen': 7826, 'kassen': 7827, 'caritas': 7828, 'lokalfuerst': 7829, 'meckern': 7830, 'geliefe': 7831, 'gerufen': 7832, 'foerderung': 7833, 'goldstuecken': 7834, 'gierig': 7835, 'eingesteckt': 7836, 'glaubhaft': 7837, 'rosenkavalier': 7838, 'saeuglingsschaender': 7839, 'bedient': 7840, 'paedophilen': 7841, 'schaenden': 7842, 'wirkliches': 7843, 'traumhafte': 7844, 'sexualstraftaten': 7845, 'gemordet': 7846, 'einbildung': 7847, 'spinner': 7848, 'geschichtenerzaehler': 7849, 'zwangsfinanzieren': 7850, 'rimijo': 7851, 'ufxdl': 7852, 'apararat': 7853, 'bahnhoefen': 7854, 'bejubelten': 7855, 'fliehenden': 7856, 'glibschig': 7857, 'rausschmeissen': 7858, 'abzocke': 7859, 'pazderski': 7860, 'spritzen': 7861, 'benoetigten': 7862, 'koscha': 7863, 'bauchgefuehl': 7864, 'meldet': 7865, 'erschleichen': 7866, 'luna1234luna1': 7867, 'gras': 7868, 'gebissen': 7869, 'todeskampf': 7870, 'gedaue': 7871, 'schmerzhaft': 7872, 'dreckige': 7873, 'specklerundkoch': 7874, 'crystalmeth': 7875, 'ramscharpf': 7876, 'arnd': 7877, 'schumacher': 7878, 'janfleischhauer': 7879, 'bolz': 7880, 'vorabend': 7881, 'chorknaben': 7882, 'aspikschinken': 7883, 'neuber': 7884, 'forst': 7885, 'traumdiebe': 7886, 'vergewaltiger': 7887, 'ueberreicht': 7888, 'gropppetra': 7889, 'verhuellter': 7890, 'multi': 7891, 'konzern': 7892, 'lutschen': 7893, 'knaben': 7894, 'pfaffe': 7895, 'olenordman': 7896, 'ozlive': 7897, 'terro': 7898, 'empel': 7899, 'ausbildungsstaetten': 7900, 'halbmondritter': 7901, 'schluessel': 7902, 'ueberreichen': 7903, 'alhope1': 7904, 'annevanhalen': 7905, 'feiges': 7906, 'halbschwule': 7907, 'koran': 7908, 'treter': 7909, 'realgruenweiss': 7910, 'duinnoord': 7911, 'hahahaha': 7912, 'quijote': 7913, 'politikgeschichte': 7914, 'rene': 7915, 'tudor': 7916, 'bjoernhoecke': 7917, 'verbloedeten': 7918, 'buntewelt1966': 7919, 'hellegatt': 7920, 'freies': 7921, 'zuege': 7922, 'sitten': 7923, 'sexualstraftaetern': 7924, 'schoemakermarl2': 7925, 'ergeht': 7926, 'fliehende': 7927, 'afghanische': 7928, 'bewaehrungsstrafe': 7929, 'offiziere': 7930, 'kanalisationen': 7931, 'taucht': 7932, 'vanberlichingen': 7933, 'fleh': 7934, 'zuegen': 7935, 'invasorenwelle': 7936, 'dirkhafermann': 7937, 'offensichtliche': 7938, 'streicher': 7939, 'therealaw2': 7940, 'daemliche': 7941, 'soermarutsche': 7942, 'sexistisches': 7943, 'burger': 7944, 'kleinkindern': 7945, 'begeh': 7946, 'beute': 7947, 'islams': 7948, 'anhaengern': 7949, 'fremer59': 7950, 'kanaken': 7951, 'tuerkischen': 7952, 'gesellschaftsfaehig': 7953, 'peachtr47293532': 7954, 'stromkunden': 7955, 'stromrechnung': 7956, 'niht': 7957, 'preiswe': 7958, 'linksruck': 7959, 'mehrheiten': 7960, 'ausgesorgt': 7961, 'orban': 7962, 'unmenschlich': 7963, 'gleichtzeitig': 7964, 'loben': 7965, 'unmenschliche': 7966, 'arschgeigen': 7967, 'regt': 7968, 'geplante': 7969, 'sklavereigesetz': 7970, 'rechtsnationale': 7971, 'erschiesst': 7972, 'blinde': 7973, 'gleichmal': 7974, 'een': 7975, 'abballern': 7976, 'django': 7977, 'losgelassen': 7978, 'neujahrsvorsaetze': 7979, 'glaeubige': 7980, 'gekreuzigt': 7981, 'liebte': 7982, 'git': 7983, 'tuten': 7984, 'obergeschoss': 7985, 'besserem': 7986, 'empfang': 7987, 'unglueck': 7988, 'ankam': 7989, 'mobilfunknetz': 7990, 'empfaengern': 7991, 'armtutsrentner': 7992, 'ausgetreten': 7993, 'nsdap': 7994, 'abgeschafft': 7995, 'verstoesste': 7996, 'andy': 7997, 'alleinerziehende': 7998, 'ausbildung': 7999, 'brustkrebs': 8000, 'gekuerzt': 8001, 'verwaltungsvorschriften': 8002, 'kank': 8003, 'vergangenen': 8004, 'arbeitstage': 8005, 'ausgefallen': 8006, 'depressionen': 8007, 'eivorstand': 8008, 'pfandflaschen': 8009, 'geshafft': 8010, 'verdreifachen': 8011, 'weiterbildung': 8012, 'durchsetzen': 8013, 'verordnung': 8014, 'verfuetterung': 8015, 'speiseresten': 8016, 'schuetzen': 8017, 'schuetzt': 8018, 'arkus': 8019, 'messerstechen': 8020, 'vollzeit': 8021, 'verlangt': 8022, 'aufwachsen': 8023, 'kanntoll': 8024, 'obergrenze': 8025, 'verlasse': 8026, 'bluthochdruck': 8027, 'volkskrankheit': 8028, 'weitgehende': 8029, 'entwe': 8030, 'taugen': 8031, 'feindbilder': 8032, 'mainstream': 8033, 'bloedzeitung': 8034, 'spechen': 8035, 'relative': 8036, 'demuetigen': 8037, 'stephan': 8038, 'arschkriechen': 8039, 'traff': 8040, 'erneue': 8041, 'drittes': 8042, 'geschlecht': 8043, 'maennlich': 8044, 'ausserirdisch': 8045, 'vielfalt': 8046, 'informie': 8047, 'geschehnisse': 8048, 'aufruhr': 8049, 'versetzen': 8050, 'unbekannter': 8051, 'attacken': 8052, 'ehen': 8053, 'wackelt': 8054, 'verfassungsgericht': 8055, 'zulassen': 8056, 'bundeslaendern': 8057, 'beantragt': 8058, 'ankommen': 8059, 'unterlagen': 8060, 'haenel': 8061, 'geworben': 8062, 'enttaeuscht': 8063, 'ausgezeichnet': 8064, 'illiarden': 8065, 'kosstenlose': 8066, 'bundeshilfen': 8067, 'stoppen': 8068, 'grundgesetzaenderung': 8069, 'nuernberger': 8070, 'stadtteil': 8071, 'johannis': 8072, 'selben': 8073, 'times': 8074, 'gedemuetigt': 8075, 'gebrueren': 8076, 'versteckte': 8077, 'hierfuer': 8078, 'goldenen': 8079, 'positionspapier': 8080, 'sozialstaat': 8081, 'vorsorgend': 8082, 'verlaesslich': 8083, 'bundesfamilienministerin': 8084, 'franziska': 8085, 'auszuueben': 8086, 'lohnerhoehungen': 8087, 'eintaegigen': 8088, 'vorstandsklausur': 8089, 'widersprueche': 8090, 'verschlossenen': 8091, 'ausgiebig': 8092, 'debattie': 8093, 'betonte': 8094, 'einigungswillen': 8095, 'nerschaft': 8096, 'zusicherungen': 8097, 'londoner': 8098, 'aufzubrechen': 8099, 'verpflichtungen': 8100, 'proft': 8101, 'zufolge': 8102, 'einbussen': 8103, 'palament': 8104, 'abtreibungsparagraf': 8105, 'eilte': 8106, 'entsetzt': 8107, 'bestaetigung': 8108, 'heinrich': 8109, 'sinnlose': 8110, 'massnahme': 8111, 'demuetiken': 8112, 'gespraech': 8113, 'rud': 8114, 'berateraffaere': 8115, 'korruptionsverdacht': 8116, 'vetternwi': 8117, 'externe': 8118, 'unternehmensberater': 8119, 'umgekippt': 8120, 'marginale': 8121, 'kosmetische': 8122, 'korrekturen': 8123, 'ueberhaut': 8124, 'weicheiern': 8125, 'rueckgrat': 8126, 'prekaeren': 8127, 'lebenssituation': 8128, 'lauten': 8129, 'einerseits': 8130, 'geldgier': 8131, 'nahle': 8132, 'kneift': 8133, 'verkrichen': 8134, 'imame': 8135, 'ausbilden': 8136, 'auh': 8137, 'wirft': 8138, 'falschinformationen': 8139, 'souveraenitaet': 8140, 'befragung': 8141, 'rueckzug': 8142, 'eivorsitz': 8143, 'buergerrechtlerin': 8144, 'publizistin': 8145, 'oekonomin': 8146, 'nocun': 8147, 'gesundheitsminister': 8148, 'umdrehen': 8149, 'wernn': 8150, 'landesverband': 8151, 'gewissensentscheidung': 8152, 'systm': 8153, 'beleidigende': 8154, 'zwischenrufe': 8155, 'landtagssitzung': 8156, 'tumulte': 8157, 'festgenommen': 8158, 'austritts': 8159, 'bearbeitet': 8160, 'statistischem': 8161, 'unterkunft': 8162, 'ruhen': 8163, 'faule': 8164, 'geheimplan': 8165, 'koalitionsgespraeche': 8166, 'nordafrikanischen': 8167, 'wurzeln': 8168, 'eroeffnete': 8169, 'dienstagabend': 8170, 'politei': 8171, 'phoenix': 8172, 'einigung': 8173, 'mays': 8174, 'wagen': 8175, 'verriegelt': 8176, 'kindersicherung': 8177, '217': 8178, 'iii': 8179, 'ikeln': 8180, 'beschlossen': 8181, 'unterschieben': 8182, 'verstoest': 8183, 'seelische': 8184, 'reine': 8185, 'wirksamen': 8186, 'rechtsbehelf': 8187, 'zustaendigen': 8188, 'innerstaatlichen': 8189, 'gerichten': 8190, 'handlungen': 8191, 'zustehenden': 8192, 'grundrechte': 8193, 'eingeschraenkt': 8194, 'am': 8195, 'kuensten': 8196, 'erfreuen': 8197, 'teilzuhaben': 8198, 'kue': 8199, 'teilhabe': 8200, 'fuersorge': 8201, 'eheliche': 8202, 'aussereheliche': 8203, 'abziehen': 8204, 'lebensstandard': 8205, 'gewaehrleistet': 8206, 'einschliesslich': 8207, 'kleidung': 8208, 'aerztliche': 8209, 'leistungen': 8210, 'anno': 8211, 'vereinigung': 8212, 'anzugehoeren': 8213, 'fraktionszwang': 8214, 'pateien': 8215, 'abstimmung': 8216, 'landtagen': 8217, 'meinungsaeusserung': 8218, 'linksradikaler': 8219, 'abgestempelt': 8220, 'diskriminierung': 8221, 'demue': 8222, 'igung': 8223, 'gedemuetikt': 8224, 'ausgebeutet': 8225, 'diffamie': 8226, 'aufenthaltso': 8227, 'leibeigenschaft': 8228, 'sklavenhandel': 8229, 'sytem': 8230, 'putins': 8231, 'dresdner': 8232, 'supereiche': 8233, 'verschlimme': 8234, 'wunden': 8235, 'ezb': 8236, 'feindlichen': 8237, 'ehr': 8238, '700': 8239, 'aufzeigen': 8240, 'showdown': 8241, 'abgeordnete': 8242, 'abtreibungswerbeverbots': 8243, 'durchzusetzen': 8244, 'nachgeben': 8245, 'abgezogen': 8246, 'angerechnet': 8247, 'asozioale': 8248, 'ehrliche': 8249, 'schaftsweiser': 8250, 'bofinger': 8251, 'pocht': 8252, 'wochenlangen': 8253, 'wolen': 8254, 'racheplaenen': 8255, 'menschenwuerdiger': 8256, 'vorsitzenden': 8257, 'telefonbuch': 8258, 'heimatstadt': 8259, 'angezeigt': 8260, 'koenigin': 8261, 'normalen': 8262, 'humanrightsday': 8263, 'harz': 8264, 'arbeitssklaven': 8265, 'damt': 8266, 'sicherer': 8267, 'unmut': 8268, 'lager': 8269, 'forden': 8270, 'anne': 8271, 'brauchte': 8272, 'zusagen': 8273, 'quasselte': 8274, 'hektisch': 8275, 'uber': 8276, 'zugeben': 8277, 'ane': 8278, 'steinga': 8279, 'oekonomischen': 8280, 'saarlands': 8281, 'verwiesen': 8282, 'platzte': 8283, 'kragen': 8284, 'eidigte': 8285, 'beinha': 8286, 'abrutschen': 8287, '57': 8288, 'gruenem': 8289, 'verarschen': 8290, 'im': 8291, 'explodie': 8292, 'zaehlweise': 8293, 'veraende': 8294, 'arbeitsunfaehige': 8295, 'gezaehlt': 8296, 'arbeitslose': 8297, 'sinnlosen': 8298, 'rausgezaehlt': 8299, 'boeigen': 8300, 'winden': 8301, 'geendet': 8302, 'wahlsieg': 8303, 'mittelgebirge': 8304, 'herze': 8305, 'erdbeben': 8306, 'sauerland': 8307, 'bewerbungsrede': 8308, 'reichenleben': 8309, 'inder': 8310, 'nominie': 8311, 'spitzenkandidatin': 8312, 'warnstreiks': 8313, 'evg': 8314, 'rechnet': 8315, 'streikschwerpunkt': 8316, 'altkanzler': 8317, 'kloschuessel': 8318, 'panzerwagen': 8319, 'gummigeschosse': 8320, 'traenengas': 8321, 'schlagstoecke': 8322, 'einsetzt': 8323, 'unerem': 8324, 'sanktionsmoeglichkeiten': 8325, 'friss': 8326, 'stirb': 8327, 'lohnend': 8328, 'zog': 8329, 'schaftsfluechtling': 8330, 'osnabrueck': 8331, 'jura': 8332, 'schaffte': 8333, 'abschluss': 8334, 'steuergelf': 8335, 'braut': 8336, 'revolte': 8337, 'vorauseilender': 8338, 'werbe': 8339, 'informationsverbot': 8340, 'ichael': 8341, 'rueter': 8342, 'europawahlkampf': 8343, 'garant': 8344, 'revoluzzerin': 8345, 'tochter': 8346, 'gespraechsrunde': 8347, 'migrationspolitik': 8348, 'rentenarmut': 8349, 'anhalt': 8350, 'festtage': 8351, 'bikerkuddel': 8352, 'lesben': 8353, 'demostranten': 8354, 'beschuss': 8355, 'trigoa': 8356, 'antibabypille': 8357, 'zurueckgerufen': 8358, 'ungewollten': 8359, 'schwangerschaften': 8360, 'unterhalt': 8361, 'beibehalten': 8362, 'lohnerhoehngen': 8363, 'aufmucken': 8364, 'duerfe': 8365, 'konten': 8366, 'fraktionsvorsitzende': 8367, 'staerkste': 8368, 'biete': 8369, 'weihnachtet': 8370, 'diskriminirung': 8371, 'ausbeutung': 8372, 'klingbeil': 8373, 'kampfkandidaturen': 8374, 'susi': 8375, '1998': 8376, 'arbeiterpa': 8377, 'verraeterpa': 8378, 'amtlich': 8379, 'annegretkrampkarrenbauermussweg': 8380, 'weicheier': 8381, 'verspaetungen': 8382, 'wahlzettel': 8383, 'kniefall': 8384, 'warschau': 8385, '1970': 8386, 'demuetig': 8387, 'bekanntgegeben': 8388, 'ergebniss': 8389, 'entschieden': 8390, 'bundespa': 8391, 'normaler': 8392, 'heucheler': 8393, 'hoffnungslos': 8394, 'ungeachtet': 8395, 'fuehrung': 8396, 'rutscht': 8397, 'eispitze': 8398, 'klapsmuehle': 8399, 'parlamentsgeschaeftsfuehrer': 8400, 'schneider': 8401, 'mahnt': 8402, 'marz': 8403, 'waffenscheine': 8404, 'medienbericht': 8405, 'kalaschnikow': 8406, 'haldenwang': 8407, 'talkshow': 8408, 'aeussern': 8409, 'armutsrenten': 8410, 'tausendundeine': 8411, 'armuts': 8412, 'cu': 8413, 'basta': 8414, 'eklat': 8415, 'greift': 8416, 'studio': 8417, 'normalerweise': 8418, 'gefilte': 8419, 'kindererziehung': 8420, 'nikolaustag': 8421, 'nikolaus': 8422, 'finsteren': 8423, 'gesellen': 8424, 'una': 8425, 'konzept': 8426, 'vorgelegt': 8427, 'auszubauen': 8428, 'arbeitslosengeld': 8429, 'arbeitslos': 8430, 'ausgebremste': 8431, 'lebensmittel': 8432, 'kommmen': 8433, 'abfall': 8434, 'enkonferenz': 8435, 'kandidatenliste': 8436, 'bundesvorstands': 8437, 'asoziale': 8438, 'abkassieren': 8439, 'fleissige': 8440, 'belohnen': 8441, 'maechtigsten': 8442, 'gekue': 8443, 'aufwe': 8444, 'ehrenamtlich': 8445, 'eifer': 8446, 'unterstuezen': 8447, 'bedarfsgemeinschaften': 8448, 'unterkunftskosten': 8449, 'einsparen': 8450, 'gehasste': 8451, 'spueren': 8452, 'hauptverantwo': 8453, 'licher': 8454, 'sackt': 8455, 'gazprom': 8456, 'entwuerdigung': 8457, 'schaffung': 8458, 'niedriglohnsektors': 8459, 'westeuropas': 8460, 'zunehmende': 8461, 'prekaere': 8462, 'beschaeftigung': 8463, 'sagten': 8464, 'beruehmteste': 8465, 'verraten': 8466, 'buergern': 8467, 'uefa': 8468, 'saecke': 8469, 'rolex': 8470, 'uhren': 8471, 'geldsparen': 8472, 'angekommen': 8473, 'toller': 8474, 'standen': 8475, 'sthen': 8476, 'deutschlan': 8477, 'verdiener': 8478, 'konnten': 8479, 'hungerl': 8480, 'abstieg': 8481, 'zermuerbt': 8482, 'brauchten': 8483, 'einzusehen': 8484, 'gefuehlter': 8485, 'nachfolgenden': 8486, 'lebensnotwendigen': 8487, 'senken': 8488, 'allzeit': 8489, 'westpakete': 8490, 'ausgeraubt': 8491, 'postminister': 8492, 'mdr': 8493, 'umschau': 8494, 'bnd': 8495, 'selbe': 8496, 'verleugnen': 8497, 'politriker': 8498, 'dieselkrise': 8499, 'ber': 8500, 'beachtenswe': 8501, 'sozialstaates': 8502, 'kriegzeiten': 8503, 'welkrieg': 8504, '1799': 8505, '1848': 8506, 'reformplaene': 8507, 'wichtigste': 8508, 'mitr': 8509, 'fuet': 8510, 'arschgeige': 8511, 'hinnehmbar': 8512, 'bundespraesident': 8513, '1918': 8514, 'untergang': 8515, 'demokratiegeschichte': 8516, 'gewuerdigt': 8517, 'liebknecht': 8518, 'ausgerufen': 8519, 'buche': 8520, '2005': 8521, 'langweilig': 8522, 'dieter': 8523, 'idealistisch': 8524, 'horst': 8525, 'mahler': 8526, 'trainie': 8527, 'orgaskills': 8528, 'reality': 8529, 'zudruecken': 8530, 'marxistisches': 8531, 'subversivaktiv': 8532, 'begriffsapparat': 8533, 'schaftsleistung': 8534, 'gesunken': 8535, 'weltanschauung': 8536, 'vereinbaren': 8537, 'eileuten': 8538, 'typisches': 8539, 'tw': 8540, 'technisch': 8541, 'unmissverstaendlich': 8542, 'auszudruecken': 8543, 'dacht': 8544, 'mon': 8545, 'beamte': 8546, 'beknackt': 8547, 'azubi': 8548, '40h': 8549, 'kleinbuergerlichen': 8550, 'mischt': 8551, 'letztere': 8552, 'verstehn': 8553, 'hochkommt': 8554, 'hgnvontraene': 8555, 'gallopier': 8556, 'revue': 8557, 'mugabe': 8558, 'friesbol': 8559, 'maoisten': 8560, 'harvestcrawler': 8561, 'weis': 8562, 'hauen': 8563, 'baberowski': 8564, 'fernvonmoskau': 8565, 'antiintellektualismus': 8566, 'stuende': 8567, 'ic': 8568, 'eigtl': 8569, 'sympathisch': 8570, 'identity': 8571, 'beigewohnt': 8572, 'kg': 8573, 'wattwaage': 8574, 'atommasse': 8575, 'heftiger': 8576, 'splittergruppen': 8577, 'inseln': 8578, 'angespuelt': 8579, 'mett': 8580, 'provinzkloster': 8581, 'weirde': 8582, 'paralleluniversum': 8583, 'jochen': 8584, 'mitschka': 8585, 'hominem': 8586, 'ath': 8587, 'gelder': 8588, 'verlages': 8589, 'verschwenden': 8590, 'gepaa': 8591, 'label': 8592, 'trotzkismus': 8593, 'prostandpunkt': 8594, 'abweichungen': 8595, 'hanns2dieter': 8596, 'luis': 8597, 'xvi': 8598, 'kokade': 8599, 'gesellschaftliche': 8600, 'kategorie': 8601, 'schonmal': 8602, 'gestreikt': 8603, 'strich': 8604, 'belastend': 8605, 'hamzaali1972': 8606, 'psst': 8607, 'mitkriegt': 8608, 'buerokratenstaat': 8609, 'intersektionalismus': 8610, 'schockt': 8611, 'sare': 8612, 'hustra': 8613, 'ossi': 8614, 'arbeiterkind': 8615, 'ruh': 8616, 'passiv': 8617, 'aggressive': 8618, 'verbieten': 8619, 'offline': 8620, 'belastender': 8621, 'intersektionalist': 8622, 'special': 8623, 'snowflake': 8624, 'wehrmacht': 8625, 'stalingrad': 8626, 'engruppe': 8627, 'gelbweste': 8628, 'jucken': 8629, 'ticket': 8630, 'kontrolleur': 8631, 'daily': 8632, 'yungschelling22': 8633, 'einstellen': 8634, 'gehn': 8635, 'weist': 8636, 'wesentliche': 8637, 'deng': 8638, 'kader': 8639, 'weltmaerkte': 8640, 'besonderen': 8641, 'boykotts': 8642, 'geschuldet': 8643, 'arx': 8644, 'marxologie': 8645, 'kommemista': 8646, 'ancap': 8647, 'muetz': 8648, 'nogo': 8649, 'schlipztrega': 8650, 'schaub': 8651, 'kriegszeiten': 8652, 'korrigiere': 8653, 'unterwuerfigst': 8654, 'brav': 8655, 'verdammte': 8656, 'antifagruppe': 8657, 'trotzkisten': 8658, 'zusllererst': 8659, 'befasst': 8660, 'abzugrenzen': 8661, 'vorauseilendem': 8662, 'zukommt': 8663, 'glueh': 8664, 'laphroaig': 8665, 'halal': 8666, 'philippe': 8667, 'hegi': 8668, 'clzmueller': 8669, 'cedric': 8670, 'luechau': 8671, 'carlosreinhard': 8672, 'unternehmer': 8673, 'oekonomen': 8674, 'ware': 8675, 'wahnform': 8676, 'wenns': 8677, 'brenzlig': 8678, 'pn': 8679, 'trink': 8680, 'bewundere': 8681, 'wanderer': 8682, 'nebelwerfer': 8683, 'caspar': 8684, 'mekka': 8685, 'abgefeie': 8686, 'vergesellschaftet': 8687, 'gelangen': 8688, 'glaubst': 8689, 'lebst': 8690, 'kleinbuergerliche': 8691, 'eschatologie': 8692, 'jupi': 8693, 'klimawandels': 8694, 'irgendeiner': 8695, 'emmissionsmenge': 8696, 'ethischen': 8697, 'widerrum': 8698, 'loesbares': 8699, 'konkreteres': 8700, 'unzulaessige': 8701, 'meiste': 8702, 'vorbereitung': 8703, 'notfallhilfe': 8704, 'zurueckzufuehren': 8705, 'formuliere': 8706, 'klimafaktoren': 8707, 'chaotisch': 8708, 'negative': 8709, 'rueckkoppelungen': 8710, 'koennnen': 8711, 'unerwa': 8712, 'derzeitige': 8713, 'groessenordnungen': 8714, 'vonstatten': 8715, 'menschheitsgeschichte': 8716, 'wage': 8717, 'flugreisen': 8718, 'waschmaschinen': 8719, 'uvm': 8720, 'erschwinglich': 8721, 'einhergehenden': 8722, 'ausmalen': 8723, 'staerkere': 8724, 'schwankungen': 8725, 'einhergingen': 8726, 'kausales': 8727, 'modell': 8728, 'unterkomplex': 8729, 'chaotisches': 8730, 'festigen': 8731, 'verpulve': 8732, 'eindaemmung': 8733, 'klimafolgen': 8734, 'nuetzlicher': 8735, 'emmissionsfrei': 8736, 'festgefahrene': 8737, 'marktaufteilungen': 8738, 'aufzulockern': 8739, 'dimension': 8740, 'emittie': 8741, 'unliebsameren': 8742, 'schwaecherer': 8743, 'delegitimieren': 8744, 'plaedieren': 8745, 'monokausale': 8746, 'globalem': 8747, 'veraenderung': 8748, 'einbilden': 8749, 'daten': 8750, 'universitaet': 8751, 'jaehrlichen': 8752, 'schwankung': 8753, 'fruehjahr': 8754, 'nordhalbkugel': 8755, 'unermessliches': 8756, 'emmissionsziel': 8757, 'eingehalten': 8758, 'jhdt': 8759, 'emmitie': 8760, 'atmosphaere': 8761, 'ausmachen': 8762, 'wahrscheinlichkeiten': 8763, 'arbeitsgruppen': 8764, 'eintritt': 8765, 'gezeigte': 8766, 'szenario': 8767, 'arbeitsgruppe': 8768, 'saturn': 8769, 'usb': 8770, 'garnicht': 8771, 'menschliche': 8772, 'beobachteten': 8773, 'klimaveraenderung': 8774, 'realstes': 8775, 'fckw': 8776, 'ozonloch': 8777, 'apokalypseideologien': 8778, 'befeuern': 8779, 'vermarkten': 8780, 'oekobewegung': 8781, 'befassen': 8782, 'scheinproblemen': 8783, 'abholzung': 8784, 'regenwaldes': 8785, 'verschmutzung': 8786, 'ausstoss': 8787, 'wirklichkeit': 8788, 'atommuell': 8789, 'lachflash': 8790, 'verstaendigen': 8791, 'phaenomenologie': 8792, 'pseudowissenschaften': 8793, 'alternativ': 8794, 'bereitet': 8795, 'verstaendlicher': 8796, 'reife': 8797, 'layer': 8798, 'zugestaendnis': 8799, 'relevanten': 8800, 'politisie': 8801, 'bezeichnend': 8802, 'tassow': 8803, 'sekten': 8804, 'anrichten': 8805, 'abgestellt': 8806, 'cssr': 8807, 'aw': 8808, 'foetzchen': 8809, 'elender': 8810, 'ao': 8811, 'werktaetigen': 8812, 'mueller': 8813, 'steigerungsform': 8814, 'orbyt': 8815, 'produktionsmitteln': 8816, 'unpassend': 8817, 'muessig': 8818, 'verlaub': 8819, 'menschenrechtsverletzung': 8820, 'ausreisenden': 8821, 'ausreiseantrag': 8822, 'eingerichtet': 8823, 'vermieter': 8824, 'saeumig': 8825, 'spionage': 8826, 'schwarzfahren': 8827, 'anstrebt': 8828, 'heutiger': 8829, 'medienberichte': 8830, 'historischen': 8831, 'schaftswachstum': 8832, 'sondern': 8833, 'ueben': 8834, 'klassenherrschaft': 8835, 'institutionellen': 8836, 'krux': 8837, 'moralitaet': 8838, 'institutionell': 8839, 'gefestigt': 8840, 'kriterien': 8841, 'betrachtungen': 8842, 'fazit': 8843, 'kadern': 8844, 'adidasbolshevik': 8845, 'schlimmstes': 8846, 'schrift': 8847, 'szalkiewicz': 8848, 'vereinseitigen': 8849, 'produktionsweise': 8850, 'schnelle': 8851, '70er': 8852, 'kapitalistenklasse': 8853, 'verstaatlicht': 8854, 'existieren': 8855, 'vnyshkr': 8856, 'duelle': 8857, 'flieg': 8858, 'bernau': 8859, 'rockt': 8860, 'konrad': 8861, 'wolf': 8862, 'militaerregierung': 8863, 'todesstrafe': 8864, 'naziverbrecher': 8865, 'menspreading': 8866, 'legal': 8867, 'wolln': 8868, 'judge': 8869, 'ehrlichgesagt': 8870, 'jobboersen': 8871, 'informatikfirmen': 8872, 'einschleimen': 8873, 'arbeitskraft': 8874, 'feil': 8875, 'komischer': 8876, 'onkel': 8877, 'oeffentliche': 8878, 'toilette': 8879, 'ueble': 8880, 'beule': 8881, 'verhoehnungdermaueropfer': 8882, 'gamerheine69': 8883, 'loerres': 8884, 'libido': 8885, 'killen': 8886, 'company': 8887, 'streu': 8888, 'glyphosat': 8889, 'drollig': 8890, 'challenge': 8891, 'music': 8892, 'kleinbuergerlicher': 8893, 'roman': 8894, 'moeseneder': 8895, 'cooler': 8896, 'swag': 8897, 'esoteriker': 8898, 'pendel': 8899, 'vorhersagen': 8900, 'skeptiker': 8901, 'experimentell': 8902, 'reproduzieren': 8903, 'verbringt': 8904, 'pendelexperimenten': 8905, 'dw3yyn': 8906, 'trotzkist': 8907, 'objektiv': 8908, 'reaktionaer': 8909, 'fossil': 8910, 'volkerbonacker': 8911, 'erzbarongomez': 8912, 'frische': 8913, 'mra': 8914, 'oekologie': 8915, 'verschmutzen': 8916, 'bekennenden': 8917, 'dorftrottel': 8918, 'heimlich': 8919, 'gruner': 8920, 'fuehrungsoffizier': 8921, 'sandmann': 8922, 'diabodcalcinha': 8923, 'allererste': 8924, 'godoticus': 8925, 'dva': 8926, 'buntfront': 8927, 'elbmerle': 8928, 'hesse': 8929, 'spue': 8930, 'foermlich': 8931, 'lebenszeit': 8932, 'romantischem': 8933, 'nonsens': 8934, 'entzogen': 8935, 'read': 8936, 'empfehlungen': 8937, 'fang': 8938, 'naomi': 8939, 'dawkins': 8940, 'delusion': 8941, 'schlegels': 8942, 'athenaeum': 8943, 'zeitschriften': 8944, 'daniela': 8945, 'dahn': 8946, 'kuczynskis': 8947, 'urenkel': 8948, 'soya': 8949, 'trinken': 8950, 'schaedlicher': 8951, 'cato': 8952, 'sachlichkeit': 8953, '0001f3fe': 8954, '2640': 8955, 'fettig': 8956, 'krebserregend': 8957, 'lipsi': 8958, 'beisammen': 8959, 'neostalinismus': 8960, 'personenkult': 8961, 'bw': 8962, 'sturmgeistnbk': 8963, 'romantik': 8964, 'schnurzforscher': 8965, 'ggn': 8966, 'tofu': 8967, 'diet': 8968, 'diabetiker': 8969, 'runterkippen': 8970, 'nachhaltige': 8971, 'loesungen': 8972, 'smog': 8973, 'vapen': 8974, 'menners': 8975, 'bundeslaender': 8976, 'religionsunterricht': 8977, 'tregolb': 8978, 'annahebt': 8979, 'atomkraftgegnern': 8980, 'filmtitel': 8981, 'sigmar': 8982, 'gabriel': 8983, 'schwefelsaeureregen': 8984, 'verursachten': 8985, 'nieder': 8986, 'keinerbrauchtumweltschutz': 8987, 'etiamsiomnes1': 8988, 'seelenkram': 8989, 'versteh': 8990, 'karnevalsverein': 8991, 'endzeitkind': 8992, 'store': 8993, 'ec': 8994, 'appeal': 8995, 'gings': 8996, 'ragsstaerkere': 8997, 'anlageformen': 8998, 'gebundenen': 8999, 'tauscht': 9000, 'kommst': 9001, 'jederzeit': 9002, 'autokonto': 9003, 'kurzfristig': 9004, 'verfuegbaren': 9005, 'giro': 9006, 'konstante': 9007, 'autokosten': 9008, 'hu': 9009, 'benutze': 9010, 'strukturierung': 9011, 'ruecklage': 9012, 'mennersindapfel': 9013, 'zeitzone': 9014, 'vermisse': 9015, 'germanpsycho': 9016, 'dielinke': 9017, 'oftmals': 9018, 'rl': 9019, 'entwerfen': 9020, 'derailen': 9021, 'vaxxern': 9022, 'rumrennen': 9023, 'uebliche': 9024, 'vorkommt': 9025, 'deutet': 9026, 'kram': 9027, 'gelbwestigkeit': 9028, 'heterogen': 9029, 'mic': 9030, 'men': 9031, 'materielle': 9032, 'fetzens': 9033, 'zwecke': 9034, 'blinke': 9035, 'leds': 9036, 'soziolekt': 9037, 'unsicher': 9038, 'fehlende': 9039, 'sonstige': 9040, 'rechtschreib': 9041, 'grammatikfehler': 9042, 'nachzusehen': 9043, 'geladen': 9044, 'guy': 9045, 'fawkes': 9046, 'reininterpretieren': 9047, 'passendes': 9048, 'stattdessen': 9049, 'gelbwestenkacke': 9050, 'naeh': 9051, 'diffusen': 9052, 'ungerichteten': 9053, 'unzufriedenheit': 9054, 'problematischen': 9055, 'unorganisie': 9056, 'flyer': 9057, 'keins': 9058, 'ausgedacht': 9059, 'hochgehalten': 9060, 'anzuenden': 9061, 'loehne': 9062, 'kontaktes': 9063, 'impfstoffen': 9064, 'kapie': 9065, 'inhaltsloses': 9066, 'gebrauchbar': 9067, 'missbrauchbar': 9068, 'versammelt': 9069, 'banner': 9070, 'inhaltsleer': 9071, 'grundschullehrer': 9072, 'entlohnung': 9073, 'hobbyautoanzuender': 9074, 'befuerchtungen': 9075, 'selbstbestaetigung': 9076, 'resultie': 9077, 'reumuetig': 9078, 'namige': 9079, 'sabine': 9080, 'leutheusser': 9081, 'schnarrenberger': 9082, 'wotan': 9083, 'moehre': 9084, 'wilking': 9085, 'hiess': 9086, 'zeitepisode': 9087, 'laege': 9088, 'details': 9089, '1930': 9090, 'adapter': 9091, 'tho': 9092, 'typischerweise': 9093, 'geuebten': 9094, 'kaperern': 9095, 'guyfawkesmask': 9096, 'gelbewesten': 9097, 'katastrophentouristen': 9098, 'verzapft': 9099, 'legitmation': 9100, 'von': 9101, 'dramatische': 9102, 'mediale': 9103, 'auffueh': 9104, 'penetrant': 9105, 'politvollhonk': 9106, 'universitaetsstadt': 9107, 'zentrum': 9108, 'wue': 9109, 'temberg': 9110, 'neckar': 9111, 'kilometer': 9112, 'suedlich': 9113, 'stuttga': 9114, 'fantasierenden': 9115, 'boris': 9116, 'bugspriet': 9117, 'len': 9118, '1977': 9119, 'hinwies': 9120, 'nachrichtenwe': 9121, 'abseitigen': 9122, 'werfe': 9123, 'unueberlegtes': 9124, 'followback': 9125, 'feedly': 9126, 'vierstelligen': 9127, 'traffic': 9128, 'spike': 9129, 'reader': 9130, 'abgekuendigt': 9131, 'scalable': 9132, 'webservices': 9133, 'architekturieren': 9134, 'schmittlauch': 9135, 'pronquellen': 9136, 'tumblra': 9137, 'mastodon': 9138, 'kopie': 9139, 'mumus': 9140, 'penen': 9141, 'champignon': 9142, 'baguettes': 9143, 'behaupte': 9144, 'risiken': 9145, 'vielfaches': 9146, 'dax': 9147, 'investitionszeitraum': 9148, 'schatzbrief': 9149, 'outperformed': 9150, 'nervoes': 9151, 'aktieninvestitionen': 9152, 'level': 9153, 'kostolany': 9154, 'postulie': 9155, 'genuegsam': 9156, 'ordentliche': 9157, 'rendite': 9158, 'schwerfallen': 9159, 'performance': 9160, 'mentalitaetsproblem': 9161, 'hinaus': 9162, 'casino': 9163, 'gluecksspiel': 9164, 'grob': 9165, 'vorhersagbar': 9166, 'uli': 9167, 'hoeness': 9168, 'einnahmen': 9169, 'hatten': 9170, 'bausparve': 9171, 'rauskomme': 9172, 'aktienpo': 9173, 'folio': 9174, 'anstrengen': 9175, 'unterbieten': 9176, 'grauenhaft': 9177, 'furchtbar': 9178, 'potentiellen': 9179, 'nachfolger': 9180, 'steuerrelevantes': 9181, 'entnahme': 9182, 'erziehlten': 9183, 'kursspruenge': 9184, 'finanzamt': 9185, 'nachvollziehbar': 9186, 'schleppen': 9187, 'verbrennen': 9188, 'negativzinsen': 9189, 'allerkleinste': 9190, 'risiko': 9191, 'einzugehen': 9192, 'sparbuch': 9193, 'gesellschaftliches': 9194, 'boersophobie': 9195, 'everything': 9196, 'never': 9197, 'bothered': 9198, 'understand': 9199, 'witchcraft': 9200, 'boerse': 9201, 'zockerei': 9202, 'schimpfte': 9203, 'kaufte': 9204, 'woechentlichen': 9205, 'starstruck': 9206, 'andererseits': 9207, 'this': 9208, 'koerperlichen': 9209, 'koerperliche': 9210, 'exquisit': 9211, 'muskelkater': 9212, 'abzusaufen': 9213, 'tipps': 9214, 'panikattacken': 9215, 'umgehen': 9216, 'gravierend': 9217, 'uebung': 9218, 'setz': 9219, 'gepresst': 9220, 'keuchend': 9221, 'abbrichst': 9222, 'faengst': 9223, 'kuerzester': 9224, 'verausgabt': 9225, 'liege': 9226, 'fuerchtest': 9227, 'later': 9228, 'now': 9229, 'heb': 9230, 'millimeter': 9231, 'modus': 9232, 'irgendwohin': 9233, 'panikreaktion': 9234, 'verausgaben': 9235, 'austicken': 9236, 'taktik': 9237, 'pfuideifipegida': 9238, 'zig': 9239, 'grinsefratz': 9240, 'dreinschaut': 9241, 'ueberfaeh': 9242, 'einstelligen': 9243, 'jahreszahl': 9244, 'please': 9245, 'seiend': 9246, 'gruselige': 9247, 'politikuesse': 9248, 'nacheifern': 9249, 'werben': 9250, 'bestaetigen': 9251, 'vorhaltungen': 9252, 'billigstes': 9253, 'nachtreten': 9254, 'mandat': 9255, 'ausgetretenen': 9256, 'zurueckfordern': 9257, 'piraten': 9258, 'things': 9259, 'verwurzelt': 9260, 'eigrenzen': 9261, 'hinweg': 9262, 'ueberein': 9263, 'engagement': 9264, 'munder': 9265, 'nachgesagt': 9266, 'pisselwahlkreis': 9267, 'spdler': 9268, 'gewinnt': 9269, 'gonna': 9270, 'agree': 9271, 'lagen': 9272, 'betreten': 9273, 'rasens': 9274, 'regierungsgebaeude': 9275, 'begnuegt': 9276, 'zebrastreifen': 9277, 'lunte': 9278, 'ueberfahren': 9279, 'linux': 9280, 'lutris': 9281, 'wine': 9282, 'einigermassen': 9283, 'cinnamon': 9284, 'geschmacksrichtung': 9285, 'browser': 9286, 'marcellusfluten': 9287, 'nordseekueste': 9288, '500bc': 9289, 'historisch': 9290, 'akkurate': 9291, 'kuestenlinien': 9292, 'meinneuespetpeeve': 9293, 'lehrer': 9294, 'garderobenfee': 9295, 'entdeckte': 9296, 'waldfutzi': 9297, 'minder': 9298, 'gepaeppelt': 9299, 'dazugelernt': 9300, 'konkurrenzmafia': 9301, 'gewechselt': 9302, 'saubloed': 9303, 'erholst': 9304, 'rechtzeitig': 9305, 'nachgesehen': 9306, 'mafia': 9307, 'razul': 9308, 'allah': 9309, 'unteilbar': 9310, 'atomar': 9311, 'laengs': 9312, 'quer': 9313, 'denkanstoesse': 9314, 'hmilz': 9315, 'gelegenheiten': 9316, 'peinliche': 9317, 'rechtschreibfeeler': 9318, 'problematash': 9319, 'abgebogen': 9320, 'korrigie': 9321, 'beschleunigt': 9322, 'smh': 9323, 'lieblingsrestaurant': 9324, 'fantastische': 9325, 'salatbar': 9326, 'igem': 9327, 'french': 9328, 'dressing': 9329, '202f': 9330, 'billigmarke': 9331, 'metro': 9332, 'betretenv': 9333, 'zweiter': 9334, 'weltkriegs': 9335, 'shooter': 9336, 'gluecklicherweise': 9337, 'bedenklich': 9338, 'teh': 9339, 'asak': 9340, 'umbiegen': 9341, 'brueskie': 9342, 'zurueckzutreten': 9343, 'stimmungsschwankungen': 9344, 'promoted': 9345, 'gewunken': 9346, 'ueberholt': 9347, 'tierisch': 9348, 'begrifflichkeiten': 9349, 'tonne': 9350, 'statistisch': 9351, 'ausreisst': 9352, 'formulie': 9353, 'multimilliardaere': 9354, 'diskrimimi': 9355, 'rdr2': 9356, 'suffragette': 9357, 'auffe': 9358, 'gleise': 9359, 'fotiama': 9360, 'fummelig': 9361, 'manschettenknoepfe': 9362, 'eleganz': 9363, 'trinkspiel': 9364, 'headline': 9365, '2020': 9366, 'ruhestand': 9367, 'hurrakoala': 9368, 'doubt': 9369, 'pennen': 9370, 'newborl': 9371, 'nachbarin': 9372, 'markerschuetternden': 9373, 'neiiiiiiiiiiiiiiiiiiiiin': 9374, 'schrei': 9375, 'neun': 9376, 'schob': 9377, 'kinderwagen': 9378, 'samaelfalkner': 9379, 'bueckling': 9380, 'famos': 9381, 'schmeckte': 9382, 'waelzens': 9383, 'hitzewallungen': 9384, 'ausloeste': 9385, 'moege': 9386, 'ergehen': 9387, 'ekstatische': 9388, 'wonne': 9389, 'gefaketes': 9390, 'ueberzeugen': 9391, 'bombe': 9392, 'gegroehle': 9393, 'benennt': 9394, 'wlan': 9395, 'ssid': 9396, 'leiser': 9397, 'poilkjh3': 9398, 'twitterkreis': 9399, 'einhorn': 9400, 'hollarius': 9401, 'trailchem': 9402, 'monongahelaex': 9403, 'kapuzendeppen': 9404, 'rockten': 9405, 'tiefgruende': 9406, 'analysen': 9407, 'darfste': 9408, 'diskussionswuerdig': 9409, 'adeln': 9410, 'bagage': 9411, 'pathologische': 9412, 'pathologisch': 9413, 'male': 9414, 'understen': 9415, 'antifaschist': 9416, 'fruchtbar': 9417, 'verkopfte': 9418, 'theoretische': 9419, 'abhandlung': 9420, 'verletzend': 9421, 'stehst': 9422, 'linksaussen': 9423, 'wovon': 9424, 'troeste': 9425, 'young': 9426, 'speak': 9427, 'waffel': 9428, 'althergebrachten': 9429, 'ideen': 9430, 'isolationismus': 9431, 'globalismus': 9432, 'machtkampf': 9433, 'toblerone': 9434, 'haram': 9435, 'pausenraum': 9436, 'gleichem': 9437, 'mitarbeiterbauch': 9438, 'zeitungsjunge': 9439, 'registrie': 9440, 'fl01': 9441, 'einem': 9442, 'beheben': 9443, 'brueckenhaltezaehne': 9444, 'heile': 9445, 'schmerzfrei': 9446, 'dauerschmerzen': 9447, 'schluck': 9448, 'ur': 9449, 'ausgediente': 9450, 'verschifft': 9451, 'richtwe': 9452, 'verkorkste': 9453, 'versagerexistenz': 9454, 'komplexe': 9455, 'schwaecheren': 9456, 'auslebt': 9457, 'vornamen': 9458, 'kirsche': 9459, 'warschauerghetto': 9460, 'weisste': 9461, 'ennolenze': 9462, 'brieftraeger': 9463, 'paketzusteller': 9464, 'gekriegt': 9465, 'vorhaette': 9466, 'justiz': 9467, 'vorjaulen': 9468, 'strafmildernd': 9469, 'ballaballa': 9470, 'anche': 9471, 'breitscheidtplatz': 9472, 'endeten': 9473, 'gesichtslose': 9474, 'blutige': 9475, 'jihadisten': 9476, 'angekuendigt': 9477, 'weltfremden': 9478, 'sozialarbeitern': 9479, 'eigenstaendig': 9480, 'expo': 9481, 'heisszeit': 9482, 'ministerium': 9483, 'dummdeutsches': 9484, 'aussem': 9485, 'arbeitsamt': 9486, 'liebend': 9487, 'riegelte': 9488, 'nachwuchs': 9489, 'bastelt': 9490, 'projekt': 9491, 'verschwanden': 9492, 'versenkung': 9493, 'gewohnt': 9494, 'beschissenen': 9495, 'beerdigungen': 9496, 'freikriegen': 9497, 'kerngesund': 9498, 'mitgekriegt': 9499, 'amiad': 9500, 'yisrael': 9501, 'baruch': 9502, 'dayan': 9503, 'emet': 9504, 'chefir': 9505, 'amri': 9506, 'loechrig': 9507, 'grenzkontrollen': 9508, 'jerusalem': 9509, 'uebern': 9510, 'berg': 9511, 'gebetet': 9512, 'besserung': 9513, 'shiras': 9514, 'fluechten': 9515, 'terrorparadiese': 9516, 'amihai': 9517, 'verstorbenen': 9518, 'mama': 9519, 'koma': 9520, 'lilar': 9521, 'standwithus': 9522, 'endlose': 9523, 'ofra': 9524, 'notop': 9525, 'gebrachte': 9526, 'verstorben': 9527, 'chefrepo': 9528, 'ernrw': 9529, 'arabischsprachigen': 9530, 'gaben': 9531, 'vollstaendige': 9532, 'joergklose': 9533, 'strengen': 9534, 'auflagen': 9535, 'strengere': 9536, 'bkrede': 9537, 'raetselt': 9538, 'motiv': 9539, 'tatverdaechtigen': 9540, 'vermieden': 9541, 'gestoppt': 9542, 'ermittler': 9543, 'lagern': 9544, 'algerischer': 9545, 'familienname': 9546, 'islamistischer': 9547, 'family': 9548, 'taxilizenz': 9549, 'gefahndet': 9550, 'adel': 9551, 'chekkat': 9552, 'fluchthelfer': 9553, 'aussehende': 9554, 'paldf': 9555, 'gewarnt': 9556, 'dergermane22': 9557, 'ungsvolle': 9558, 'ehem': 9559, 'unsichtbar': 9560, 'bergen': 9561, 'gesichtsloser': 9562, 'identifizieren': 9563, 'israelische': 9564, 'uebt': 9565, 'jackentasche': 9566, 'unfall': 9567, 'unklar': 9568, 'fluchtwagen': 9569, 'fluchttaxi': 9570, 'funde': 9571, 'hausdurchsuchung': 9572, 'yetimuc': 9573, 'sinnvoll': 9574, 'ausgeruesteten': 9575, 'wohlfuehlfaktor': 9576, 'weihnachtsmarktbesucher': 9577, 'wohnungsdurchsuchung': 9578, 'bevoelkerungszahl': 9579, 'zugewiesen': 9580, 'eilerschluessel': 9581, 'shlomosapiens': 9582, 'neudorf': 9583, 'durchsucht': 9584, 'granaten': 9585, 'hoehere': 9586, 'sicherheitsvorkehrungen': 9587, 'ueberraschendes': 9588, 'eingestuft': 9589, 'observie': 9590, 'gutdeutsch': 9591, 'notarzt': 9592, 'schmerzmittel': 9593, 'schmerzensschreie': 9594, 'wimmern': 9595, 'mind': 9596, 'nu': 9597, 'min': 9598, 'versorgt': 9599, 'ueberlebenschance': 9600, 'rollstuhl': 9601, 'stefanleife': 9602, 'fluechtige': 9603, 'polizeibekannt': 9604, 'terroraktivitaeten': 9605, 'luftballons': 9606, 'liedtext': 9607, 'lobpreist': 9608, 'gdp': 9609, '3x': 9610, 'saarland': 9611, 'halbmond': 9612, 'ws': 9613, 'versuchte': 9614, 'terroranschlaege': 9615, 'kaempft': 9616, 'doedeln': 9617, 'verunglimpft': 9618, 'irak': 9619, 'verdursten': 9620, 'waffelleisen': 9621, 'gelistet': 9622, 'blockierenden': 9623, 'antisemit': 9624, 'aeusserlichen': 9625, 'gewalteinwirkung': 9626, 'spontanen': 9627, 'rettungskraeften': 9628, 'ermittlern': 9629, 'kindes': 9630, 'seelisch': 9631, 'verarbeiten': 9632, 'taetersuche': 9633, 'cafe': 9634, 'ramallah': 9635, 'beschlagnahmten': 9636, 'aufnahmen': 9637, 'sicherheitskameras': 9638, 'ausgewe': 9639, 'fremde': 9640, 'umkehr': 9641, 'trollen': 9642, 'moechtest': 9643, 'unrechtsbewusstsein': 9644, 'missverstaendliche': 9645, 'stuendest': 9646, 'blockliste': 9647, 'hinnehmen': 9648, 'runternehmen': 9649, 'ehrlicher': 9650, 'verdrehen': 9651, 'abtun': 9652, 'erzaehl': 9653, 'stabil': 9654, 'notkaiserschnitt': 9655, 'neurologische': 9656, 'folgeschaeden': 9657, 'befuerchtet': 9658, 'linksdoedel': 9659, 'arischem': 9660, 'geltungsdrang': 9661, 'unterschicht': 9662, 'schwangere': 9663, 'kritischem': 9664, 'verschlechte': 9665, 'malinahamburg': 9666, 'worse': 9667, 'diffamieren': 9668, 'gehweg': 9669, 'haltestelle': 9670, 'linksdeutschen': 9671, 'gelte': 9672, 'solle': 9673, 'frankreichs': 9674, 'einmischen': 9675, 'obama': 9676, 'wahlkampf': 9677, 'unterstuetzte': 9678, 'gejubelt': 9679, 'seh': 9680, 'randalierer': 9681, 'pluenderer': 9682, 'fanboys': 9683, 'miteinander': 9684, 'behoerde': 9685, 'pr': 9686, 'bedarf': 9687, 'taetschler': 9688, 'gewalttaetigen': 9689, 'brutalen': 9690, 'allmachtsphantasien': 9691, 'wehrlose': 9692, 'broschuere': 9693, 'wohlstandsuebersaettigte': 9694, 'micro': 9695, 'penisse': 9696, 'nano': 9697, 'teilchen': 9698, 'slecq': 9699, 'supermarkt': 9700, 'personalkleidung': 9701, 'umsetzen': 9702, 'stattfindenden': 9703, 'verlust': 9704, 'saemtlicher': 9705, 'manfred': 9706, 'weber': 9707, 'buergerkriegsaehnliche': 9708, 'ueberschwappt': 9709, 'erotischer': 9710, 'stutzig': 9711, 'bissel': 9712, 'vorsitzender': 9713, 'angelaulrichrbb': 9714, 'bab': 9715, 'altermananne': 9716, 'pittsburgh': 9717, 'neuerdings': 9718, 'trennung': 9719, 'obdachloser': 9720, 'klimaaktivisten': 9721, 'religioes': 9722, 'oefftl': 9723, 'raeglich': 9724, 'stabilitaet': 9725, 'internets': 9726, 'sophie': 9727, 'passmann': 9728, 'sds': 9729, 'deutschlandbekaempfender': 9730, 'studentenhasserbund': 9731, 'aas': 9732, 'bolschewistischem': 9733, 'einleiten': 9734, 'skepsis': 9735, 'angebracht': 9736, 'einklang': 9737, '233': 9738, 'sowjetischen': 9739, 'absicht': 9740, 'rotem': 9741, 'geleugnet': 9742, 'anwalts': 9743, 'taetig': 9744, 'maskottchen': 9745, 'ablichten': 9746, 'aufrief': 9747, 'astra': 9748, 'futurae': 9749, 'spar': 9750, '800': 9751, 'pullach': 9752, 'faschistenvergangenheit': 9753, 'linksdeutsch': 9754, 'suedamerika': 9755, 'classless': 9756, 'kuella': 9757, 'deckt': 9758, 'tapfer': 9759, 'twittergrossmaul': 9760, 'eingeloggt': 9761, 'ernennt': 9762, 'ernenne': 9763, 'verifizieren': 9764, 'kolonialherren': 9765, 'grosskapital': 9766, 'geputscht': 9767, 'sexist': 9768, 'rechtspopulist': 9769, 'fanatischer': 9770, 'russlandhasser': 9771, 'barkeeper': 9772, 'niewendirk': 9773, 'entsichern': 9774, 'bombensicheren': 9775, 'unterstand': 9776, 'gl': 9777, '215': 9778, 'if': 9779, 'essential': 9780, 'his': 9781, 'books': 9782, 'drunterkommentieren': 9783, 'steh': 9784, 'romantischer': 9785, 'geschulte': 9786, 'calling': 9787, 'ns': 9788, 'verherrlichen': 9789, 'goenn': 9790, 'freier': 9791, 'planwi': 9792, 'bdi': 9793, 'springerkonzern': 9794, 'freedeniz': 9795, 'lyzianer': 9796, 'bolschewisten': 9797, 'pascal': 9798, 'philosoph': 9799, 'bekaempfung': 9800, 'ruhrbarone': 9801, 'marxologen': 9802, 'aeusserungen': 9803, 'buechern': 9804, 'haeufigen': 9805, 'selbstverstaendnis': 9806, 'metropolenlinken': 9807, 'kluge': 9808, 'druebersteher': 9809, 'abgrenzung': 9810, 'dkp': 9811, 'kleinstadt': 9812, 'proleten': 9813, 'schlusssatz': 9814, 'teilung': 9815, 'tapfere': 9816, 'vandalen': 9817, 'ausdrucksweise': 9818, 'leistungsfaehigkeit': 9819, 'ableism': 9820, 'rechercheprofi': 9821, 'unmuendigen': 9822, 'spinnern': 9823, 'enfeindlich': 9824, 'raetecommuenisten': 9825, 'bourgie': 9826, 'gechillt': 9827, 'kopiere': 9828, 'antisemitischen': 9829, 'vollverbloedeten': 9830, 'grosza': 9831, 'feat': 9832, 'widerspruechliche': 9833, 'unkritisch': 9834, 'stalinistischen': 9835, 'bekenne': 9836, 'gruendung': 9837, 'macha': 9838, 'handballspiel': 9839, 'lieblingsnazis': 9840, 'schlaflosen': 9841, 'abfaerbt': 9842, 'schlaftabletten': 9843, 'versuche': 9844, 'prost': 9845, 'diskussionsveranstaltung': 9846, 'denkens': 9847, 'wien': 9848, 'hoersaal': 9849, 'mg': 9850, 'universitaetsstr': 9851, '88': 9852, 'bourgiemuellabsonderungsbeduerfnis': 9853, 'therapeutischen': 9854, 'arbeitskampf': 9855, 'vergleichsweise': 9856, 'hohen': 9857, 'sozialhilfeleistungen': 9858, 'heer': 9859, 'arbeitslosen': 9860, 'dauer': 9861, 'ruhigstellen': 9862, 'laecherlichster': 9863, 'betrieben': 9864, 'incl': 9865, 'verblendeter': 9866, 'followerschaft': 9867, 'vmtl': 9868, 'huberchef': 9869, 'goy': 9870, 'keyboardwarrior': 9871, 'absolutistische': 9872, 'nostalgie': 9873, 'eliaskindl': 9874, 'unteilbare': 9875, 'liberalismus': 9876, 'koenigskoerper': 9877, 'thomas': 9878, 'schmitz': 9879, 'einzukaufen': 9880, 'unfug': 9881, 'marxsche': 9882, 'obgleich': 9883, 'deformation': 9884, 'denkformen': 9885, 'widerlegung': 9886, 'sym': 9887, 'umgegangen': 9888, 'linkspopulistischen': 9889, 'lesern': 9890, 'emanzipatorisch': 9891, 'klassischen': 9892, 'antike': 9893, 'kant': 9894, 'allenfalls': 9895, 'heidegger': 9896, 'studium': 9897, 'unbefriedigend': 9898, 'zunehmend': 9899, 'befremdlich': 9900, 'befreiend': 9901, 'tust': 9902, 'philblog17': 9903, 'reaction': 9904, 'linksdeutsche': 9905, 'volksabfall': 9906, 'moralmuell': 9907, 'geschichtsklitternd': 9908, 'wh': 9909, 'psychoanalytiker': 9910, 'darwinisten': 9911, 'ineressieren': 9912, 'aufgestanden': 9913, 'leo': 9914, 'trotzki': 9915, 'agent': 9916, 'luther': 9917, 'juergen': 9918, 'moellemann': 9919, 'george': 9920, 'orwell': 9921, 'fascist': 9922, 'ebe': 9923, 'stalinists': 9924, 'meister': 9925, 'eckha': 9926, 'lady': 9927, 'gaga': 9928, 'molko': 9929, 'sigmund': 9930, 'freud': 9931, 'wieland': 9932, '108': 9933, 'kameradschaft': 9934, 'gespendet': 9935, 'baseballschlaeger': 9936, 'vergesellschaften': 9937, 'besiegen': 9938, 'kokstaxi': 9939, 'drogenmafia': 9940, 'rumlungern': 9941, 'geblaette': 9942, 'ueberschaetzt': 9943, 'brillianter': 9944, 'machtpolitiker': 9945, 'trefflich': 9946, 'kullisti': 9947, 'einbruch': 9948, 'vorueber': 9949, 'gluecklich': 9950, 'politbuero': 9951, 'tageszeitung': 9952, 'leiten': 9953, 'verlage': 9954, 'chrisgoldapp': 9955, 'achten': 9956, 'hilfsverbs': 9957, 'konjunktiv': 9958, 'ii': 9959, 'kehrseite': 9960, 'leftcoms': 9961, 'utopisten': 9962, 'ultra': 9963, 'zusaetze': 9964, 'genosse': 9965, 'robespierre': 9966, 'unterbreitet': 9967, 'matzetthias': 9968, 'gegenmuell': 9969, 'rechtsantideutschen': 9970, 'koepfe': 9971, 'sprengstoffgue': 9972, 'christmette': 9973, 'geschenke': 9974, 'bloederweise': 9975, 'nazifamilie': 9976, 'aufknuepfen': 9977, 'sarah': 9978, 'wagenknecht': 9979, 'hummer': 9980, 'bildzeitung': 9981, 'erscheint': 9982, 'serioeser': 9983, 'kaempfer': 9984, 'julian': 9985, 'kofferraum': 9986, 'soeben': 9987, 'dunkler': 9988, 'aermer': 9989, 'hoffnungsloser': 9990, 'krokusfunk': 9991, 'cigi': 9992, 'kolonialisierung': 9993, 'studentenhirne': 9994, 'poptheorie': 9995, 'diskussionsrunden': 9996, 'hervorbringende': 9997, 'genatzt': 9998, 'gestapo': 9999, 'arsckriecherische': 10000, 'kleinbuerger': 10001, 'image': 10002, 'aergere': 10003, 'victor': 10004, 'ifg': 10005, 'sozialis': 10006, 'ungueltig': 10007, 'scharenweise': 10008, 'westpropaganda': 10009, 'reingefallen': 10010, 'russen': 10011, 'erfolge': 10012, 'antiautoritaeren': 10013, 'mitschreiben': 10014, 'katrin': 10015, 'goering': 10016, 'resignation': 10017, 'anadasmos': 10018, 'jedweder': 10019, 'uninteressie': 10020, 'vorstellungen': 10021, 'auszusetzen': 10022, 'einfallsreich': 10023, 'geregelt': 10024, 'aufeinander': 10025, 'erfolgsargument': 10026, 'unterwirft': 10027, 'argumentform': 10028, 'diesem': 10029, 'scheissverein': 10030, 'beigetragen': 10031, 'beleidigte': 10032, 'aufforderung': 10033, 'gleichzutun': 10034, 'hrsg': 10035, 'studentengruppe': 10036, 'bielefeld': 10037, 'anstalten': 10038, 'sprallos': 10039, 'benutzten': 10040, 'enta': 10041, 'feindbild': 10042, 'reitet': 10043, 'abgeschobener': 10044, 'machthaber': 10045, 'gemaessigten': 10046, 'tyrannei': 10047, 'wurdest': 10048, 'juedisch': 10049, 'weltverschwoerung': 10050, 'antideutscher': 10051, 'intellektueller': 10052, 'islamisch': 10053, 'stalinistische': 10054, 'despotie': 10055, 'intellektuellenfluegel': 10056, 'kreuzzuege': 10057, 'emanzipatorisches': 10058, 'potential': 10059, 'muselmanischen': 10060, 'ausgeschoepft': 10061, 'restvernunft': 10062, 'korrektur': 10063, 'politsekte': 10064, 'hayeks': 10065, 'kriegstreiber': 10066, 'angriffskriege': 10067, 'wuppe': 10068, 'aler': 10069, 'pleitier': 10070, 'reserveoffizier': 10071, 'luftwaffe': 10072, 'massenhafte': 10073, 'herstellung': 10074, 'guillotinen': 10075, 'jobmotor': 10076, 'maerkte': 10077, 'blutbad': 10078, 'zuegig': 10079, 'unbuerokratisch': 10080, 'gesponse': 10081, 'interessenverband': 10082, 'galgenbauer': 10083, 'acrons': 10084, 'schlaeger': 10085, 'liebsten': 10086, 'staatschef': 10087, 'blogspo': 10088, 'klage': 10089, 'apple': 10090, 'stores': 10091, 'gestaltet': 10092, 'klauen': 10093, 'steve': 10094, 'kommunistischer': 10095, 'seinundseid': 10096, 'arno': 10097, 'ziehe': 10098, 'berkmyn': 10099, 'rassistisches': 10100, 'performt': 10101, 'helft': 10102, 'lsys': 10103, 'palast': 10104, 'mosedlak': 10105, 'oppositionellen': 10106, 'grossmacht': 10107, 'bewaffnet': 10108, 'pusht': 10109, 'schlankerbronze': 10110, 'barrierefreie': 10111, 'krah': 10112, 'emmanuelmacron': 10113, 'geordneten': 10114, 'machtwechsel': 10115, 'unnoetiges': 10116, 'vergossen': 10117, 'truppen': 10118, 'zuschaut': 10119, 'einzugreifen': 10120, 'terrorisie': 10121, 'bomber': 10122, 'beschaemend': 10123, 'benennen': 10124, 'jakobiner': 10125, 'jupi1948': 10126, 'europaistdieantwo': 10127, 'lily': 10128, 'suri': 10129, 'seli': 10130, 'proletarier': 10131, 'voice': 10132, 'iamlondrenz': 10133, 'marxisten': 10134, 'bibeln': 10135, 'ohne': 10136, 'dialektik': 10137, 'bewegte': 10138, 'ohnehin': 10139, 'auftragsarbeit': 10140, 'strammerer': 10141, 'ideologe': 10142, 'theater': 10143, 'estand': 10144, 'qualitaetsjournalisten': 10145, 'verzweifelten': 10146, 'ohnmaechtiger': 10147, 'aufstaende': 10148, 'grossstaedten': 10149, 'rassenunruhen': 10150, 'nminkmar': 10151, 'goennst': 10152, 'personenschutz': 10153, 'garantierst': 10154, 'rechtssicherheit': 10155, 'bolschewistischen': 10156, 'klarnamen': 10157, 'posten': 10158, 'franzoesischer': 10159, 'geistlicher': 10160, '1788': 10161, 'gelaendewagen': 10162, 'werft': 10163, 'kopfschmerzen': 10164, 'cia': 10165, 'steuerberater': 10166, 'aufsichtsratschefs': 10167, 'bwl': 10168, 'professoren': 10169, 'leita': 10170, 'ikelschreiber': 10171, 'geregeltes': 10172, 'arbeitsleben': 10173, 'bourgeois': 10174, 'gulagalschance': 10175, 'freundliche': 10176, 'leseempfehlung': 10177, 'minkmar': 10178, 'strang': 10179, 'proletariat': 10180, 'cis': 10181, 'ungleich': 10182, 'heiko': 10183, 'memel': 10184, 'chefredakteur': 10185, 'reichsarbeitsdienst': 10186, 'gehirne': 10187, 'weltgeist': 10188, 'funktionierende': 10189, 'anzuenderei': 10190, 'sturz': 10191, 'gilets': 10192, 'jaunes': 10193, 'liegerad': 10194, 'kolumne': 10195, 'hassend': 10196, '34': 10197, 'reparatur': 10198, 'macbook': 10199, 'weltgeistbande': 10200, 'novemberrevolution': 10201, 'zufall': 10202, 'argumende': 10203, 'kreuzchen': 10204, 'aimanmazyek': 10205, 'betraue': 10206, 'runkende': 10207, 'durchsuchen': 10208, 'muelleimer': 10209, 'schaftsmigranten': 10210, 'heizungen': 10211, 'aufdrehen': 10212, 'gefuehlskarussell': 10213, 'walten': 10214, 'migrationshintergrund': 10215, 'lsteinwandter': 10216, 'boykottieren': 10217, 'ungemuetlicher': 10218, 'zehntausende': 10219, 'randnotiz': 10220, 'luegens': 10221, 'klimaschutz': 10222, 'gegaengelt': 10223, 'geldregen': 10224, 'teuren': 10225, 'wirkungslos': 10226, 'achillesferse': 10227, 'befragt': 10228, 'verplappe': 10229, 'tauglich': 10230, 'bemerken': 10231, 'schulbank': 10232, 'aufmerksamen': 10233, 'beliebtheitsskala': 10234, 'blicken': 10235, 'offenherzig': 10236, 'auslaenderkriminalitaet': 10237, 'jahrzehntelang': 10238, 'weggesehen': 10239, 'resultat': 10240, 'unkontrollierbare': 10241, 'wegsehen': 10242, 'angeordnet': 10243, 'wunsch': 10244, 'aufzugeben': 10245, 'zentralregierung': 10246, 'ueberzugehen': 10247, 'verfolgen': 10248, 'nationalstaaten': 10249, 'inquisition': 10250, 'kipping': 10251, 'durchhalten': 10252, 'kreuzfeuer': 10253, 'beobachtung': 10254, 'igt': 10255, 'unbeabsichtigte': 10256, 'wahlkampfunterstuetzung': 10257, 'wandazietz': 10258, 'knechten': 10259, 'wirksam': 10260, 'kleinere': 10261, 'schuldkomplex': 10262, 'aktivieren': 10263, 'runken': 10264, 'fiktive': 10265, 'aufgefrischt': 10266, 'erschreckend': 10267, 'addie': 10268, 'blondjedi': 10269, 'dunkle': 10270, 'zugehoe': 10271, 'runterzukommen': 10272, '0001f92c': 10273, 'tempolimits': 10274, 'erschliessen': 10275, 'hinzu': 10276, 'teilbereiche': 10277, 'fahrzeug': 10278, 'jenseits': 10279, '130km': 10280, 'eigenlob': 10281, 'amtierende': 10282, 'steif': 10283, 'derselbigen': 10284, 'erlebte': 10285, 'anstiftung': 10286, '0001f62c': 10287, 'einwanderung': 10288, 'einzufuehren': 10289, 'mosaik': 10290, 'vervollstaendigt': 10291, 'eingeschossen': 10292, 'negativ': 10293, 'hervorzuheben': 10294, 'taeuscht': 10295, 'neutral': 10296, 'autofahrern': 10297, 'abzuschaffen': 10298, 'quetscht': 10299, 'spritpreis': 10300, 'aktuellem': 10301, 'bedrohungslage': 10302, 'beschaeftigt': 10303, 'wahrscheinlichste': 10304, 'fcmmicha1': 10305, 'blamie': 10306, 'gesellschafft': 10307, 'highlights': 10308, 'bachelor': 10309, 'dschungelcamp2019': 10310, 'muelltonnen': 10311, 'wuehlen': 10312, '0001f641': 10313, 'zenit': 10314, 'scharia': 10315, 'besitzen': 10316, 'wochenlange': 10317, 'ziv': 10318, 'beneidet': 10319, 'weinen': 10320, 'haeufiger': 10321, 'bekannte': 10322, 'tauchen': 10323, 'verfassungsschutzchef': 10324, 'waehrenddessen': 10325, 'linksextremisten': 10326, 'mafiaclans': 10327, 'geprueft': 10328, 'herumlaufen': 10329, 'filz': 10330, 'mass': 10331, 'raeglichkeit': 10332, 'medienhaeuser': 10333, 'singen': 10334, 'heruntergekommen': 10335, 'bananenrepublik': 10336, 'jury': 10337, 'unwo': 10338, 'desjahres': 10339, 'tagelang': 10340, 'tsunami': 10341, 'intensivst': 10342, 'wichtigeres': 10343, 'schneefall': 10344, 'alpenregion': 10345, 'wetterphaenomen': 10346, 'aufgebaut': 10347, 'gewaltbereite': 10348, 'nachstellen': 10349, 'mitzumachen': 10350, 'ungehinde': 10351, 'oer': 10352, 'beimessen': 10353, 'weimarer': 10354, 'vollenden': 10355, 'werk': 10356, 'ueblich': 10357, 'unterdrueckt': 10358, 'bedacht': 10359, 'aufgebauschte': 10360, 'gasexplosion': 10361, 'zweckentfremdet': 10362, 'unbekannte': 10363, 'fluechtlingsunterkuenften': 10364, 'zugeordnet': 10365, 'gewalttaeter': 10366, 'verabreden': 10367, 'einzuschuechtern': 10368, 'gesinnung': 10369, 'zusammenschlagen': 10370, 'riesa': 10371, 'losliessen': 10372, 'warm': 10373, 'rupps': 10374, 'offe': 10375, 'pruegeln': 10376, 'erstaunten': 10377, 'moderatoren': 10378, 'mitteilen': 10379, 'gewaltspirale': 10380, 'mitverantwo': 10381, 'ueberrascht': 10382, 'qualitaet': 10383, 'unterirdisch': 10384, 'datendiebstahl': 10385, 'toleranteres': 10386, 'weltoffener': 10387, 'zoegern': 10388, 'brandmarken': 10389, 'deckmantels': 10390, 'asylchaos': 10391, 'karriere': 10392, 'hinzulegen': 10393, 'verbrechens': 10394, 'relotiuspresse': 10395, 'grossstadt': 10396, 'beikommen': 10397, 'anlasten': 10398, 'beruflichen': 10399, 'faktenverdreher': 10400, 'geldadel': 10401, 'lakaien': 10402, 'wohlfuehlen': 10403, 'bereicherer': 10404, 'selbstaendige': 10405, 'weitestgehend': 10406, 'abtrainie': 10407, 'staatsmedien': 10408, 'gewohnte': 10409, 'schuldkampagne': 10410, 'afrikanischer': 10411, 'attacke': 10412, 'ruhrgebiet': 10413, 'weltbuerger': 10414, 'feuerwerksverbot': 10415, 'innenstaedten': 10416, 'ausgesprochen': 10417, 'silvester': 10418, 'teilweises': 10419, 'relotius': 10420, 'aufgeflogen': 10421, 'beruehmte': 10422, 'einzellfall': 10423, 'auskommen': 10424, 'sparsamkeit': 10425, 'propagandasendungen': 10426, 'totalversagen': 10427, 'honorierung': 10428, 'verfassungsklage': 10429, 'schlapp': 10430, 'verbotszonen': 10431, 'gesengtem': 10432, 'weite': 10433, 'anschluss': 10434, 'friedlichen': 10435, 'silvesterfest': 10436, 'erdulden': 10437, 'staats': 10438, 'geschenkt': 10439, 'rundfunkbeitrag': 10440, 'larstrep': 10441, 'erhae': 10442, 'hypen': 10443, 'vorbeigeht': 10444, 'spannende': 10445, 'triumphzug': 10446, 'tabu': 10447, 'rechtsextremismus': 10448, 'munde': 10449, 'unaufhoerlich': 10450, 'begegnet': 10451, 'rechtsextremisten': 10452, 'unentwegt': 10453, 'ausgebildete': 10454, 'gewinne': 10455, 'billigloehner': 10456, 'vorbehalte': 10457, 'ungeahnten': 10458, 'verhelfen': 10459, 'alters': 10460, 'greifbare': 10461, 'schreibenwiederspiegel': 10462, 'kolbi1966': 10463, 'steuerpflichtig': 10464, 'gottfriedcurio': 10465, 'nationaler': 10466, 'kraftakt': 10467, 'entsinne': 10468, 'systemjournalisten': 10469, 'merkelnachfolgerin': 10470, 'nachsagen': 10471, 'ehrlichste': 10472, 'uesste': 10473, 'intellektuelle': 10474, 'kaste': 10475, 'hofie': 10476, 'eingestehen': 10477, 'grenzoeffnung': 10478, 'unbewusst': 10479, 'fluechtlingskrise': 10480, 'blubbe': 10481, 'verlorene': 10482, 'waehlerstimmen': 10483, 'selbstzerstoerungsprozess': 10484, 'aufhaelt': 10485, 'meinesicht11': 10486, 'vergraulen': 10487, 'ansiedeln': 10488, 'kompromisslosigkeit': 10489, 'gegenuebergetreten': 10490, 'gruppenvergewaltigungen': 10491, 'terrorangriffe': 10492, 'hinzunehmen': 10493, 'zurueckhaltung': 10494, 'reines': 10495, 'medienphaenomen': 10496, '19ki43h': 10497, 'botschaften': 10498, 'raegt': 10499, 'causa953': 10500, 'q2018112344441': 10501, 'mariebreizh56': 10502, 'queeniepi': 10503, 'anzunehmen': 10504, 'grommkor': 10505, 'denunzianten': 10506, 'aergern': 10507, 'barrierefrei': 10508, 'bereichern': 10509, 'abschuss': 10510, 'freigegeben': 10511, 'solidaritaetszuschlag': 10512, 'hals': 10513, 'echtes': 10514, 'kunststueck': 10515, 'ausnahmslos': 10516, 'verarscht': 10517, 'zentralrat': 10518, 'glanzstueck': 10519, 'saetzen': 10520, 'berufsgruppen': 10521, 'bahnangestellte': 10522, 'piloten': 10523, 'aberwitzige': 10524, 'lahmlegen': 10525, 'systematische': 10526, 'verarmung': 10527, 'warnstreik': 10528, 'weitreichende': 10529, 'einraeumt': 10530, 'danieldjdanby': 10531, 'klausdfrank': 10532, 'boesa': 10533, 'geeignet': 10534, 'regieren': 10535, 'umhoe': 10536, 'riskant': 10537, 'koffer': 10538, 'dienen': 10539, 'degenerieren': 10540, '0001f92a': 10541, 'ignorant': 10542, 'wahrnehmung': 10543, 'getoeteten': 10544, 'augustin': 10545, 'captainmarvel': 10546, 'auskennt': 10547, 'handverlesene': 10548, 'geister': 10549, 'leichenfund': 10550, '17jaehrigen': 10551, 'besorgt': 10552, 'schaftssanktionen': 10553, 'diesen': 10554, 'unendlich': 10555, 'zutritt': 10556, 'verschaffen': 10557, 'weltaidstag': 10558, 'umar': 10559, 'alalmani': 10560, 'aufgenommene': 10561, 'misstrauisch': 10562, 'zusammenleben': 10563, 'steuerzahler': 10564, 'verbreiter': 10565, 'anlegen': 10566, 'ueberraschung': 10567, 'geltende': 10568, 'merkelregierung': 10569, 'ausnahmezustand': 10570, 'einzuwandern': 10571, 'steuerzahlende': 10572, 'herauskitzeln': 10573, 'austeilt': 10574, 'einstecken': 10575, 'netter': 10576, 'schlagabtausch': 10577, 'aufrichtigen': 10578, 'dokumentenlose': 10579, 'hindern': 10580, 'einzureisen': 10581, 'mordende': 10582, 'nationsleague': 10583, 'beinahe': 10584, 'kritischen': 10585, 'zusammenzukratzen': 10586, 'schuldenunion': 10587, 'schulden': 10588, 'ueberwachen': 10589, 'hofft': 10590, 'denunziantentum': 10591, 'zaube': 10592, 'personal': 10593, 'versinkt': 10594, 'ministerien': 10595, 'qualitaetspresse': 10596, 'jegliches': 10597, 'schluchtis': 10598, 'geschwister': 10599, 'buergerkriegsgebiet': 10600, 'zuzuschreiben': 10601, 'horizont': 10602, 'erweitern': 10603, 'weiteste': 10604, 'voelkermoerderpropaganda': 10605, 'zuspammen': 10606, 'gesocks': 10607, 'billiges': 10608, 'lecken': 10609, 'wochenarbeitszeit': 10610, 'bringer': 10611, 'telepolis': 10612, 'stuerzen': 10613, 'oel': 10614, 'gasrechnung': 10615, 'ukrainischen': 10616, 'oligarchen': 10617, 'datscha': 10618, 'katarinabarley': 10619, 'anzukommen': 10620, 'wesentlich': 10621, 'waermer': 10622, 'nicolaalbrecht': 10623, 'claudius': 10624, 'dummerweise': 10625, 'getoetete': 10626, 'dutzend': 10627, 'optisch': 10628, 'beschaffenheit': 10629, 'parkscheibe': 10630, '1981': 10631, '447': 10632, 'verkehrszeichen': 10633, 'bildern': 10634, 'stvo': 10635, 'kleinigkeiten': 10636, 'entsprechen': 10637, 'phantasiezeichen': 10638, 'nichtig': 10639, '1971': 10640, '587': 10641, 'nuff': 10642, 'said': 10643, 'gleichberechtigung': 10644, 'geschlechter': 10645, 'vatikan': 10646, 'retung': 10647, 'vorgaengers': 10648, 'voelkerbundes': 10649, 'mandatstext': 10650, 'beu': 10651, 'teilungsplan': 10652, '181': 10653, 'beinhaltete': 10654, 'ebenfalls': 10655, 'staatenloesung': 10656, 'schaftsunion': 10657, 'schnappen': 10658, 'eurozentristischer': 10659, 'angeeignet': 10660, 'reibt': 10661, 'eigentlichen': 10662, 'aehnlichen': 10663, 'wehr': 10664, 'kaemen': 10665, 'genom': 10666, 'y': 10667, 'levantinischer': 10668, 'blockier': 10669, 'heids': 10670, 'bejubler': 10671, 'lover': 10672, 'soziologie': 10673, 'hierin': 10674, 'ethnien': 10675, 'glaubens': 10676, 'bestreichen': 10677, 'ueberarbeitete': 10678, 'genetik': 10679, 'urbevoelkerung': 10680, 'jemals': 10681, 'erhalte': 10682, 'ominoese': 10683, 'redaktionsstatut': 10684, 'axel': 10685, 'unterschreiben': 10686, 'hasbara': 10687, 'collusion': 10688, 'across': 10689, 'jordan': 10690, 'king': 10691, 'abdullah': 10692, 'zionist': 10693, 'movement': 10694, 'ition': 10695, 'avi': 10696, 'shlaim': 10697, 'geheimabkommen': 10698, 'agency': 10699, 'jordanien': 10700, 'aufteilung': 10701, 'scheinkrieg': 10702, 'eingriffen': 10703, 'prof': 10704, 'angriffskrieg': 10705, 'kamen': 10706, 'zerschlagung': 10707, 'bildeten': 10708, 'siedlerkolonisten': 10709, 'begingen': 10710, 'regimen': 10711, 'helfe': 10712, 'nirgendwo': 10713, 'selbstbestimmungsrecht': 10714, 'fuessen': 10715, 'huessyandre': 10716, 'erwiderung': 10717, 'shah': 10718, 'geheimdienst': 10719, 'befindlichkeite': 10720, 'netanyahu': 10721, 'landsmannes': 10722, 'begangen': 10723, 'suehne': 10724, 'opas': 10725, 'aufdruecken': 10726, 'umbringen': 10727, 'beutelratte': 10728, 'werdet': 10729, 'nullnummern': 10730, 'ueberstunden': 10731, 'inclusive': 10732, 'antisemitismuskeule': 10733, 'zionistische': 10734, 'kolonialregime': 10735, 'surveyorx': 10736, 'kleinstaaterei': 10737, 'playern': 10738, 'zerreiben': 10739, 'elwah': 10740, 'heiten': 10741, 'widerlegen': 10742, 'guevarra': 10743, 'einigen': 10744, 'rechtsradikalen': 10745, 'vorliebe': 10746, 'bodenideologie': 10747, 'anhaengen': 10748, 'becker': 10749, 'kuscheln': 10750, 'querfrontler': 10751, 'eingekaufte': 10752, 'lausige': 10753, 'kroeten': 10754, 'matzschmale': 10755, 'erzeugten': 10756, 'zusammengestellt': 10757, 'objektivitaet': 10758, 'wissenschaftlerin': 10759, 'verheiratet': 10760, 'indoktrinie': 10761, 'bauschanhund': 10762, 'uk': 10763, 'erwerben': 10764, 'spannender': 10765, 'rechteproblem': 10766, 'lenkt': 10767, 'siche': 10768, 'foerdergelder': 10769, 'steffenkoeniger': 10770, 'brechts': 10771, 'kinderhymne': 10772, 'schoenere': 10773, 'besatzung': 10774, 'heid': 10775, 'kolonistenfreund': 10776, 'wess': 10777, 'ess': 10778, 'dess': 10779, 'gelle': 10780, 'zusammengewuerfelte': 10781, 'feiglingen': 10782, 'hightech': 10783, 'steinewerfern': 10784, 'eidigung': 10785, 'nordosteuropa': 10786, 'endgueltigen': 10787, 'entwickelten': 10788, 'schweizer': 10789, 'ethnie': 10790, 'hinkt': 10791, 'fremdbestimmung': 10792, 'ethnokratien': 10793, 'arg': 10794, 'ankamen': 10795, 'tatsaechliche': 10796, 'nordeuropa': 10797, 'muttersprache': 10798, 'jiddische': 10799, 'uebersehen': 10800, 'verliess': 10801, 'wechselnden': 10802, 'herrschern': 10803, 'wechselte': 10804, 'clowns': 10805, 'jaemmerlichen': 10806, 'verlogenen': 10807, 'hetz': 10808, 'verein': 10809, 'nagen': 10810, 'hunge': 10811, 'uch': 10812, 'errichtete': 10813, 'orientalischen': 10814, 'tross': 10815, 'zogen': 10816, 'stammbaum': 10817, 'testen': 10818, 'schmierigen': 10819, 'rudisagmal': 10820, 'leuthold': 10821, 'durchfuette': 10822, 'bergeweise': 10823, 'ahnungslosen': 10824, 'trotteln': 10825, 'haengenbleiben': 10826, 'stahlbarons': 10827, 'angeschlossen': 10828, 'schweiz': 10829, 'aufforderungen': 10830, 'radiomitschnitte': 10831, 'auszuharren': 10832, 'entsatz': 10833, 'trieb': 10834, 'touristen': 10835, 'kommandeure': 10836, 'hielten': 10837, 'geschuetzt': 10838, 'million': 10839, 'einheimischer': 10840, '250': 10841, 'zentralen': 10842, 'buntes': 10843, 'gemisch': 10844, 'vorbeikam': 10845, 'spuren': 10846, 'hinterliess': 10847, 'reinrassigkeit': 10848, 'merkwuerdiges': 10849, 'paradox': 10850, 'direkter': 10851, 'abstammungslinie': 10852, 'doerfer': 10853, 'ruinen': 10854, 'pflanzt': 10855, 'jnf': 10856, 'waelder': 10857, 'aufzunehmen': 10858, 'landnahme': 10859, 'gezielt': 10860, 'informationen': 10861, 'munition': 10862, 'geho': 10863, 'protokolle': 10864, 'besprechungen': 10865, 'militaerisch': 10866, 'dossiers': 10867, 'unauffaelligen': 10868, 'wandergruppen': 10869, 'dalet': 10870, 'vorzubereiten': 10871, 'archiven': 10872, 'detail': 10873, 'wichtigen': 10874, 'originalquellen': 10875, 'anekdoten': 10876, '2006': 10877, 'breit': 10878, 'erwaehnte': 10879, 'archivmaterial': 10880, 'zeitzeugen': 10881, 'moeglichen': 10882, 'verarbeitet': 10883, 'zugriff': 10884, 'armeearchive': 10885, 'interviewte': 10886, 'augenzeugen': 10887, 'ungenauigkeiten': 10888, 'vorgeworfen': 10889, 'fauxpas': 10890, 'zeithorizont': 10891, 'bestseller': 10892, 'furchtbaren': 10893, 'angezweifelt': 10894, 'abhang': 10895, 'gebirges': 10896, 'seilbahn': 10897, 'morris': 10898, 'segev': 10899, 'gemuete': 10900, 'gesamtschau': 10901, 'fragten': 10902, 'billigend': 10903, 'kauf': 10904, 'hoehenlagen': 10905, 'liegenden': 10906, 'faesser': 10907, 'hinunter': 10908, 'gerollt': 10909, 'verfolgte': 10910, '75': 10911, 'errichteten': 10912, 'haifa': 10913, 'sah': 10914, 'fassbomben': 10915, 'hafen': 10916, 'moerserfeuer': 10917, 'freiwillige': 10918, 'abreise': 10919, 'beschleunigen': 10920, 'schiffe': 10921, 'ranken': 10922, 'native': 10923, 'americans': 10924, 'siedlerkoloniale': 10925, 'vorliest': 10926, 'nachfuellpackung': 10927, 'zugestehen': 10928, 'gleichwe': 10929, 'hindu': 10930, 'niederlassen': 10931, 'buddhistisch': 10932, 'hinduistisches': 10933, 'indien': 10934, 'beanspruchen': 10935, 'ami': 10936, 'utter': 10937, 'sitting': 10938, 'bull': 10939, 'griffen': 10940, 'siedler': 10941, 'vernichteten': 10942, 'general': 10943, 'custer': 10944, 'simple': 10945, 'behauptungen': 10946, 'rudimentaersten': 10947, 'unschoenen': 10948, 'persoenlichen': 10949, 'erzaehlungen': 10950, 'auswande': 10951, 'berichtete': 10952, 'planten': 10953, 'durchsetzten': 10954, 'ueberlebenden': 10955, 'ausgegrenzt': 10956, 'sabonim': 10957, 'seifenstuecke': 10958, 'beschimpft': 10959, 'misshandelt': 10960, 'erwirbt': 10961, 'reichsbuergern': 10962, 'verbindet': 10963, 'populationsgenetik': 10964, 'gingen': 10965, 'asien': 10966, 'rasselt': 10967, 'daemonisierung': 10968, 'delegitimierung': 10969, 'siedlerkolonialen': 10970, 'kauften': 10971, '78': 10972, 'gekauftem': 10973, 'gebiete': 10974, 'antisemitische': 10975, 'verschenken': 10976, 'judenstaat': 10977, 'verfolgungserfahrung': 10978, 'dwiddernklaus': 10979, 'neurechter': 10980, 'zuhoe': 10981, 'phasen': 10982, 'antijudaismus': 10983, 'ueberwog': 10984, 'krisenzeiten': 10985, 'suendenbock': 10986, 'lebten': 10987, 'ostgebieten': 10988, 'geiselhaft': 10989, 'antisemitischer': 10990, 'vorfaelle': 10991, 'religionsfluechtlinge': 10992, 'nordamerika': 10993, 'gruendeten': 10994, 'ausgerottet': 10995, 'bewohner': 10996, 'judaeas': 10997, 'vorvaeter': 10998, 'heutigen': 10999, 'vordenker': 11000, 'colonial': 11001, 'trust': 11002, 'colonization': 11003, 'association': 11004, 'durchfuehren': 11005, 'kolonist': 11006, 'aufnahmeland': 11007, 'beherrschen': 11008, 'bestehende': 11009, 'passus': 11010, 'bestehender': 11011, 'nichtjuedischer': 11012, 'gemeinschaften': 11013, 'beeintraechtigen': 11014, 'ministry': 11015, 'strategic': 11016, 'affairs': 11017, 'bnei': 11018, 'brak': 11019, 'weswegen': 11020, 'alberne': 11021, 'bezahlter': 11022, 'pressesprecher': 11023, 'voelkermoerder': 11024, 'indigene': 11025, 'gefangene': 11026, 'staatsterrorist': 11027, 'studieren': 11028, 'bulletin': 11029, 'board': 11030, 'auspacken': 11031, 'gaehn': 11032, 'waehlten': 11033, 'briten': 11034, '1935': 11035, 'genommenen': 11036, 'shalit': 11037, 'fatah': 11038, 'anerkannte': 11039, 'kollaborie': 11040, 'amtsantritt': 11041, 'gewaehlten': 11042, 'putsch': 11043, 'themossadil': 11044, 'unterentwickelt': 11045, 'mitgefuehl': 11046, 'birnen': 11047, 'geheimverstecken': 11048, 'unterbringen': 11049, 'wuessten': 11050, 'folterknaeste': 11051, 'geworfen': 11052, 'kollaborateure': 11053, 'kriegssituation': 11054, 'gefangener': 11055, 'procedere': 11056, 'gefaengnissen': 11057, 'kollateralschaden': 11058, 'zuckend': 11059, 'auseinandersetzen': 11060, 'abgrundtiefe': 11061, 'umzukippen': 11062, 'fiffies': 11063, 'skrupellosem': 11064, 'terrorregime': 11065, 'lebensfaehig': 11066, 'ausloeschung': 11067, 'gewinner': 11068, 'schmierfinken': 11069, 'herrenmenschen': 11070, 'unterzuordnen': 11071, 'verwecken': 11072, 'quillt': 11073, 'zeile': 11074, 'freiheitskaempfer': 11075, 'kaempfen': 11076, 'blaest': 11077, 'flori': 11078, 'markl': 11079, 'gruber': 11080, 'strebte': 11081, 'gesetzliche': 11082, 'anerkennung': 11083, 'minderheitenstatus': 11084, 'wies': 11085, 'emanzipationsbewegung': 11086, 'schwaechte': 11087, 'herzls': 11088, 'abzuleiten': 11089, 'hinterbliebenenrente': 11090, 'killer': 11091, 'wupper': 11092, 'museeun': 11093, 'irgun': 11094, 'unabhaengigen': 11095, 'propagandaschleudern': 11096, 'nachgang': 11097, 'unterstuetzten': 11098, 'marsch': 11099, 'grossteils': 11100, 'grenzzaun': 11101, 'entfernt': 11102, 'ungewiss': 11103, 'propagandapo': 11104, 'suppo': 11105, 'kmus': 11106, 'client': 11107, 'win': 11108, 'mac': 11109, 'os': 11110, 'android': 11111, 'ios': 11112, 'novell': 11113, 'palette': 11114, 'nds': 11115, 'groupwise': 11116, 'ausgruendung': 11117, 'aipac': 11118, 'washington': 11119, 'institute': 11120, 'outlet': 11121, 'fragwuerdig': 11122, '2x': 11123, 'machwerke': 11124, 'verdreht': 11125, 'unanbhaengig': 11126, 'oesterreichischen': 11127, 'industriellen': 11128, 'angestellt': 11129, 'gewoehnliche': 11130, 'menschenwie': 11131, 'missbrauchenden': 11132, 'hetzerei': 11133, 'funken': 11134, 'hingegen': 11135, 'herrchen': 11136, 'gehaltsscheck': 11137, 'stahl': 11138, 'dealer': 11139, 'erfinder': 11140, 'urvater': 11141, 'jabotinsky': 11142, 'wiederum': 11143, 'revisionistischen': 11144, 'fusst': 11145, 'gruendern': 11146, 'voelkermoerderkumpels': 11147, 'leichensaeften': 11148, 'klump': 11149, 'wiederholende': 11150, 'logorrhoe': 11151, 'faschist': 11152, 'twitterfeed': 11153, 'ablesbar': 11154, 'offensichtlichen': 11155, 'feed': 11156, 'baende': 11157, 'bruahahahahahaha': 11158, 'relativiere': 11159, 'gierige': 11160, 'kriegsgewinnler': 11161, 'futterluke': 11162, 'zahngold': 11163, 'nutzlose': 11164, 'ausgeschlagen': 11165, 'ziemliche': 11166, 'feinen': 11167, 'laendchen': 11168, 'schaebigen': 11169, 'mafioso': 11170, 'mitverdient': 11171, 'abweisen': 11172, 'ausschaffen': 11173, 'internationales': 11174, 'palaestinafrage': 11175, 'lakmustest': 11176, 'wichtigere': 11177, 'kommunen': 11178, 'breiten': 11179, 'gestaltungsspielraum': 11180, 'gleichheitsgrundsatz': 11181, 'generelle': 11182, 'staedtischen': 11183, 'bds': 11184, 'infoveranstaltungen': 11185, 'vermieten': 11186, 'zusammenstellen': 11187, 'erkenntnisse': 11188, 'kleinrechnen': 11189, 'mythos': 11190, 'plattformen': 11191, 'mediathek': 11192, '500': 11193, 'mb': 11194, 'imaginaere': 11195, 'anbeten': 11196, 'religionskranken': 11197, 'tasche': 11198, 'priester': 11199, 'durchfuettern': 11200, 'mitmenschen': 11201, 'versetzt': 11202, 'wellen': 11203, 'halbinsel': 11204, 'nomaden': 11205, 'etymologisch': 11206, 'proto': 11207, 'abr': 11208, 'umherziehend': 11209, 'nomadisch': 11210, 'byzantiner': 11211, 'uebernahmen': 11212, 'zwangen': 11213, 'konversion': 11214, 'traten': 11215, 'muslimischen': 11216, 'phantasiefigur': 11217, 'mickey': 11218, 'mouse': 11219, 'literarische': 11220, 'figur': 11221, 'legenden': 11222, 'zusammengefasst': 11223, 'juristisch': 11224, 'ladungsfaehige': 11225, 'feig': 11226, 'realnamen': 11227, 'einhaltung': 11228, 'sigmargabriel': 11229, 'ehemalige': 11230, 'kriegsverbrecher': 11231, 'kriegsverbrechen': 11232, 'angehoe': 11233, 'beschoenigt': 11234, 'strafgerichtshof': 11235, 'feigsten': 11236, 'propagandafuzzi': 11237, 'voelkermoerderkolonie': 11238, 'geraubten': 11239, 'ethnisch': 11240, 'gesaeube': 11241, 'taugt': 11242, 'toilettenpapier': 11243, 'flauschig': 11244, 'verschwoerungstheorie': 11245, 'querfront': 11246, 'erklaere': 11247, 'losern': 11248, 'durchgefuette': 11249, 'pummeliger': 11250, 'stop': 11251, 'kriegsbegeiste': 11252, 'hohlkoerper': 11253, 'spezialexpe': 11254, 'voelkerrechtlichen': 11255, 'bubi': 11256, 'abseits': 11257, 'alsluegner': 11258, 'verleumdungen': 11259, 'unwidersprochen': 11260, 'sympathien': 11261, 'fahnen': 11262, 'getuschelt': 11263, 'ansage': 11264, 'ausgangstweet': 11265, 'randberlin': 11266, 'crystal': 11267, 'rumschlagen': 11268, 'merkava': 11269, 'joke': 11270, 'ideale': 11271, 'wirds': 11272, 'fuege': 11273, 'pikachu': 11274, 'teils': 11275, 'siri': 11276, 'egb': 11277, 'antigerman': 11278, 'audioporn': 11279, 'definition': 11280, 'ironischer': 11281, 'ueberspitzung': 11282, 'fischerhut': 11283, 'tragender': 11284, 'minderjaehriger': 11285, 'druffi': 11286, 'pep': 11287, 'davidsternline': 11288, 'bibi': 11289, 'rotzt': 11290, 'egotronic': 11291, 'rr': 11292, 'finds': 11293, 'qualifilter': 11294, 'droehnung': 11295, 'mitzubekommen': 11296, 'spuelt': 11297, 'pleeeeaseee': 11298, 'gimme': 11299, 'sponge': 11300, 'emojis': 11301, 'bedrohen': 11302, 'beschatten': 11303, 'zusammengetreten': 11304, 'wirst': 11305, 'durchschmor': 11306, 'rotz': 11307, 'hinknallst': 11308, 'hts': 11309, '1312': 11310, 'jajaja': 11311, 'bete': 11312, 'heldengeschichte': 11313, 'romantische': 11314, 'kopp': 11315, 'verstaubter': 11316, 'moleunit': 11317, 'haesslicheren': 11318, 'klamotten': 11319, 'feeling': 11320, '90ern': 11321, 'szenegossip': 11322, 'riesige': 11323, 'verdammten': 11324, 'dullis': 11325, 'hauptfeind': 11326, 'rechtsoffenen': 11327, 'verwicklung': 11328, 'strasseristen': 11329, 'areas': 11330, 'ausruft': 11331, 'politischem': 11332, 'mitstreiter': 11333, 'dogmatismus': 11334, 'antikommunisten': 11335, 'totzuschlagen': 11336, 'schuetzenswe': 11337, 'mmn': 11338, 'losgeloest': 11339, 'rechtsoffene': 11340, 'geringste': 11341, 'netflix': 11342, 'bescherung': 11343, 'keinetheorie': 11344, 'reflexhaften': 11345, 'solidarisierung': 11346, 'schlaegern': 11347, 'schmocks': 11348, 'schaedel': 11349, 'schlaegersekte': 11350, 'neukoelln': 11351, 'razzt': 11352, 'bier': 11353, 'springerpresse': 11354, 'sellnerstimme': 11355, 'rausfinden': 11356, 'pah': 11357, 'orgen': 11358, 'podse': 11359, 'tststs': 11360, 'ff': 11361, 'maos': 11362, 'verpasst': 11363, 'mutigen': 11364, 'beschissene': 11365, 'aufzuheben': 11366, 'trolle': 11367, 'fundifreaks': 11368, 'september': 11369, 'guenstigste': 11370, 'staubsaugt': 11371, 'ordnungswahn': 11372, 'quintessenz': 11373, 'sowwy': 11374, 'homofeindliche': 11375, 'diktaturen': 11376, 'klerikalfaschismus': 11377, 'tm': 11378, 'bauchlinks': 11379, 'cns': 11380, 'kommentieren': 11381, 'moralischen': 11382, 'haeng': 11383, 'wache': 11384, 'kennts': 11385, 'vollkommene': 11386, 'postmoderne': 11387, 'droenung': 11388, 'abbekommen': 11389, 'lungenentzuendung': 11390, 'beinen': 11391, 'dit': 11392, 'khavaii2': 11393, 'bring': 11394, 'nachtrag': 11395, 'sachliche': 11396, 'analytische': 11397, 'aussicht': 11398, 'saekularisation': 11399, 'patriarchalen': 11400, 'queerfeindlichkeit': 11401, 'passdeutsche': 11402, 'fremd': 11403, 'faschoperspektive': 11404, 'anschlaegen': 11405, 'infrage': 11406, 'mechanismen': 11407, 'radikalisierung': 11408, 'strasbourg': 11409, 'deummdeutsche': 11410, 'voelkische': 11411, 'neurechten': 11412, 'ethnopluralisten': 11413, 'lieb': 11414, 'nit': 11415, 'chats': 11416, 'ottos': 11417, 'sueszling': 11418, 'bierernst': 11419, 'umschreibung': 11420, 'irrational': 11421, 'pointie': 11422, 'postmodernen': 11423, 'umzudefinieren': 11424, 'erhebe': 11425, 'vollstaendigkeit': 11426, 'sauer': 11427, 'aufstossen': 11428, 'elementar': 11429, 'scheuklappen': 11430, 'oberflaechlich': 11431, 'israelsolidarischen': 11432, 'schein': 11433, 'rausnimmt': 11434, 'missy': 11435, 'laecherlichkeit': 11436, 'rifft': 11437, 'stundenlang': 11438, 'schwester': 11439, 'chello': 11440, 'oha': 11441, 'halle': 11442, 'provinzfaschos': 11443, 'begruesst': 11444, 'station': 11445, 'sone': 11446, 'belasto': 11447, 'normie': 11448, 'friends': 11449, 'insta': 11450, 'markieren': 11451, 'dms': 11452, 'therealwildid': 11453, 'ergab': 11454, 'anzeigen': 11455, 'rausdefinieren': 11456, 'undemokratisch': 11457, 'nichdesoziologe': 11458, 'oida': 11459, 'song': 11460, '8bit': 11461, 'mix': 11462, 'eskalie': 11463, 'arbeitsverweigerung': 11464, 'gedachtes': 11465, 'ideal': 11466, 'attitude': 11467, 'want': 11468, 'christmas': 11469, '129a': 11470, 'gegrilltebanane': 11471, 'wisst': 11472, 'retweetet': 11473, 'turn': 11474, 'festzumachen': 11475, 'durchsetzt': 11476, 'planlosigkeit': 11477, 'kippt': 11478, 'gefestigten': 11479, 'dynamiken': 11480, 'instabil': 11481, 'revolten': 11482, 'entlaed': 11483, 'geballte': 11484, 'volkszorn': 11485, 'akt': 11486, 'regression': 11487, 'ausa': 11488, 'grind': 11489, 'ilumiriel': 11490, 'riesengurke': 11491, 'punk': 11492, 'dosenbier': 11493, 'tiefkuehlbaguette': 11494, 'sehs': 11495, 'bildlich': 11496, 'ak47': 11497, 'geschenk': 11498, 'nacher': 11499, 'geb': 11500, 'uebersetzer': 11501, 'tow': 11502, 'jafa': 11503, 'argh': 11504, 'jom': 11505, 'scheshi': 11506, 'ghostuser': 11507, 'mentioneskalation': 11508, 'universellen': 11509, 'freiheitsgedanken': 11510, 'uralt': 11511, 'kommis': 11512, 'angefeindet': 11513, 'trolling': 11514, 'trotzreflex': 11515, '420rheisterkamp': 11516, 'wahrnehme': 11517, 'restdeutschland': 11518, 'darzustellen': 11519, 'angriffsflaeche': 11520, 'barbarisch': 11521, 'dorfgemeinschaften': 11522, 'sinnbild': 11523, 'westlicher': 11524, 'freiheitlicher': 11525, 'staatlicher': 11526, 'zwang': 11527, 'indoktrination': 11528, 'machtmechanismen': 11529, 'traegerinnen': 11530, 'muslima': 11531, 'zutage': 11532, 'kanada': 11533, 'mclefti': 11534, 'lea': 11535, 'chiara': 11536, 'angehustet': 11537, 'hedonismus': 11538, 'einschuechternd': 11539, 'ekelhafte': 11540, 'wiesen': 11541, 'kuhdung': 11542, 'volksmusik': 11543, 'festhaengen': 11544, 'kastrationskomplex': 11545, 'antid': 11546, 'durstbubble': 11547, 'nervig': 11548, 'gebs': 11549, 'ausgewachsener': 11550, 'beziehungsmodelle': 11551, 'cringe': 11552, 'dont': 11553, 'baftakush': 11554, 'reflektieren': 11555, 'maybe': 11556, 'tattoo': 11557, 'fyi': 11558, 'kommibubble': 11559, 'trichter': 11560, 'gestolpe': 11561, 'arroganz': 11562, 'groesstes': 11563, 'freitags': 11564, 'umschweife': 11565, 'buhlt': 11566, 'ally': 11567, 'siffschaften': 11568, 'zwischend': 11569, 'vorallem': 11570, 'herausreden': 11571, 'ohh': 11572, 'kunstfreiheit': 11573, 'erschaffene': 11574, 'greif': 11575, 'vereinfachten': 11576, 'falsvh': 11577, 'gehabe': 11578, 'abfuckt': 11579, 'szenepolizei': 11580, 'road': 11581, 'missglueckte': 11582, 'shocky': 11583, 'tattoos': 11584, 'buehne': 11585, 'runtergebuht': 11586, 'gekraenkten': 11587, 'swiss': 11588, 'einrennen': 11589, 'ankommt': 11590, 'besiegt': 11591, '0001f624': 11592, 'grinch': 11593, 'austreiben': 11594, 'oschersleben': 11595, 'sonem': 11596, 'kaff': 11597, 'ueberlege': 11598, 'weihnachtsbaum': 11599, 'hinzustellen': 11600, 'vanillekipferl': 11601, 'weihnachtsstimmung': 11602, 'backen': 11603, 'haten': 11604, '30ern': 11605, 'durften': 11606, 'einschnitte': 11607, 'verbuessen': 11608, 'gittern': 11609, 'retweets': 11610, 'baller': 11611, 'primetime': 11612, 'hehehe': 11613, 'verpasse': 11614, 'flexen': 11615, 'sturmhaube': 11616, 'profilbild': 11617, 'freak': 11618, 'rumkrakelst': 11619, 'hervorbringst': 11620, 'neee': 11621, 'vorwuerfe': 11622, 'zutreffen': 11623, 'arbeitsdefinition': 11624, 'wend': 11625, 'boi': 11626, 'kritisiere': 11627, 'identitaetspolitik': 11628, 'defma': 11629, 'auswuechse': 11630, 'aneinander': 11631, 'dahingestellt': 11632, 'obsessives': 11633, 'emoji': 11634, 'drueberkommentieren': 11635, 'stumpfes': 11636, 'anpoebeln': 11637, 'auftreten': 11638, 'abstossend': 11639, 'anmachen': 11640, 'zusammenpastest': 11641, 'gemeine': 11642, 'elendsgestalt': 11643, 'barbarei': 11644, 'einbaut': 11645, 'treffende': 11646, 'gesellschaftskritik': 11647, 'elendsgestalten': 11648, 'ironie': 11649, 'metapher': 11650, 'entdecke': 11651, 'berechtigten': 11652, 'hype': 11653, 'lehren': 11654, 'huelsen': 11655, 'geringen': 11656, 'sachverstand': 11657, 'haelst': 11658, 'karikatur': 11659, 'buxdragon': 11660, 'beruht': 11661, 'stereotypen': 11662, 'geifernden': 11663, 'machthungrigen': 11664, 'imperialistischen': 11665, 'amerikas': 11666, 'bestehst': 11667, 'definitionsmacht': 11668, 'haltlose': 11669, 'analytisch': 11670, 'totaler': 11671, 'schwammig': 11672, 'angreifst': 11673, 'imagination': 11674, 'buergerliches': 11675, 'verbauen': 11676, 'schwarzjacken': 11677, 'bloc': 11678, 'zarkojank': 11679, 'optimist': 11680, 'woran': 11681, 'unfair': 11682, 'kontraproduktiv': 11683, 'polemisch': 11684, 'wehtut': 11685, 'reflexion': 11686, 'ausloest': 11687, 'emanzipatorischen': 11688, 'foerde': 11689, 'gegeie': 11690, 'vollmachen': 11691, 'wollt': 11692, 'sputnikschlaeft': 11693, 'wokebubble': 11694, 'amilinke': 11695, 'antiamerikanismus': 11696, 'froenen': 11697, 'erlogen': 11698, 'intersektionale': 11699, 'race': 11700, 'zuzurechnen': 11701, 'monatelang': 11702, 'packen': 11703, 'faden': 11704, 'thematik': 11705, 'abriss': 11706, 'standpunkt': 11707, 'empfinde': 11708, 'front': 11709, 'intention': 11710, 'vorangestellten': 11711, 'konditionalsatz': 11712, 'klaro': 11713, 'gucj': 11714, 'stuff': 11715, 'vllt': 11716, 'hol': 11717, 'verschenk': 11718, 'polos': 11719, 'sales': 11720, 'mancgmal': 11721, '10er': 11722, 'goenne': 11723, 'eroeffnest': 11724, 'anschuldigungen': 11725, 'widerspruechlich': 11726, 'theoriemacker': 11727, 'bornie': 11728, 'heit': 11729, 'aufwand': 11730, 'laecherliches': 11731, 'mitzuspielen': 11732, 'autoren': 11733, 'dorn': 11734, 'ausgerechnet': 11735, 'gehangen': 11736, 'durchgefavt': 11737, 'carolin161': 11738, 'weltweite': 11739, 'postmodern': 11740, 'israelkritik': 11741, 'absturz': 11742, 'blauen': 11743, 'haken': 11744, 'plaerst': 11745, 'dad': 11746, 'terrorsympathisant': 11747, 'autoritaer': 11748, 'klerikalen': 11749, 'terrorgruppen': 11750, 'palaestinensischen': 11751, 'gebieten': 11752, 'lobgepriesen': 11753, 'revolutionaere': 11754, 'antisemitusmus': 11755, 'korrekter': 11756, 'betttag': 11757, 'moegt': 11758, '2t': 11759, 'kokaxcola': 11760, 'notlike211': 11761, 'subkultur': 11762, 'bbyfrkmcgzx': 11763, 'pfeife': 11764, 'franknulljaeger': 11765, 'druecke': 11766, 'verpiss': 11767, 'ueberspitzter': 11768, 'community': 11769, 'angreife': 11770, 'solidarisch': 11771, 'bruessel': 11772, 'banditen': 11773, 'jagen': 11774, 'schimp': 11775, 'marcusenge': 11776, 'eignung': 11777, 'gewand': 11778, 'hohn': 11779, 'manikue': 11780, 'fingerchen': 11781, 'systemhuren': 11782, 'kalleskoppel': 11783, 'gefaehrliche': 11784, 'schaltzentralen': 11785, 'kreaturen': 11786, 'staedten': 11787, 'neumuenster': 11788, 'oliversenst': 11789, 'zynischer': 11790, 'gebrauchen': 11791, 'heuchlerische': 11792, 'volkerschanze': 11793, 'totlachen': 11794, 'veranstalter': 11795, 'frauenschlaeger': 11796, 'kinderfickende': 11797, 'ehemaenner': 11798, 'enthaupter': 11799, 'ghost': 11800, 'writer': 11801, 'dfakenews': 11802, 'crux': 11803, 'vogelschiss': 11804, 'lucalun44954404': 11805, 'susanne': 11806, 'obdachlose': 11807, 'linksextrem': 11808, 'asozialitaet': 11809, 'mantel': 11810, 'singewald': 11811, 'traut': 11812, 'dramatischer': 11813, 'gurgel': 11814, 'loewenherz': 11815, 'auswahlverfahren': 11816, 'easy': 11817, 'maaslein': 11818, 'brennpunkte': 11819, 'vlt': 11820, 'auslaendischen': 11821, 'bau': 11822, 'gleichschaltung': 11823, 'aufnachvorne': 11824, 'ueberaus': 11825, 'kluengelei': 11826, 'bedrohungen': 11827, 'minderjaehrige': 11828, 'buben': 11829, 'uebernachten': 11830, 'alk': 11831, 'inschulz': 11832, 'schwaetzer': 11833, 'vorrangig': 11834, 'tobt': 11835, 'gewordener': 11836, 'nichtbestrafungen': 11837, 'motivie': 11838, 'verabscheuen': 11839, 'jotka26': 11840, 'urheber': 11841, 'angelo': 11842, 'tausend': 11843, 'enttarnt': 11844, 'gefaehrdet': 11845, 'lenkrad': 11846, 'bissspuren': 11847, 'meldung': 11848, 'autofah': 11849, 'lauterclown': 11850, 'qualifikationen': 11851, 'raub': 11852, 'hinterhaeltigen': 11853, 'arbeitsunfaehig': 11854, 'unwillige': 11855, 'buzzfeednewsde': 11856, 'ich2es': 11857, 'sofern': 11858, 'toedlich': 11859, 'schreienden': 11860, 'mussten': 11861, 'oberlehrer': 11862, 'manipulations': 11863, 'bejubelt': 11864, 'peacecakex': 11865, 'nazihorden': 11866, 'sichere': 11867, 'unaufhaltbar': 11868, 'enkeln': 11869, 'geweh': 11870, 'marktzyniker': 11871, 'zufaellige': 11872, 'herzattacke': 11873, 'todesangst': 11874, 'wildgewordene': 11875, 'getrampelt': 11876, 'redaktionen': 11877, 'gestuermt': 11878, 'fakes': 11879, 'eingeholt': 11880, 'trauerfeier': 11881, 'generalschlacht': 11882, 'terminieren': 11883, 'antifotzen': 11884, 'patrioten': 11885, 'anstand': 11886, 'gemischt': 11887, 'regelrecht': 11888, 'ers': 11889, 'teilnehmern': 11890, 'beschaedigungen': 11891, 'jued': 11892, 'ruhetag': 11893, 'skandale': 11894, 'fingie': 11895, 'grausam': 11896, 'entzuendet': 11897, 'gekeh': 11898, 'weismachen': 11899, 'beweisaufnahme': 11900, 'keinerlei': 11901, 'pressemeldung': 11902, 'ausgeschlachtet': 11903, 'potentielle': 11904, 'wirsindmehropfer': 11905, 'phillip': 11906, 'balt': 11907, '99bluemarlin': 11908, 'lichtgestalten': 11909, 'haenderingend': 11910, 'gesucht': 11911, 'ganzer': 11912, 'laenge': 11913, 'beleidigung': 11914, 'verfolgungsjagd': 11915, 'proll': 11916, 'idiot': 11917, 'werbepferd': 11918, 'fraukepetry': 11919, 'mpkretschmer': 11920, 'videoaufnahmen': 11921, 'keinem': 11922, 'nihilinietzsche': 11923, 'ignorantes': 11924, 'beutelchenbaer': 11925, 'mirkoslatarow': 11926, 'bundestagsfraktion': 11927, 'spiegelt': 11928, 'kontraer': 11929, 'zivilversagern': 11930, 'umgekommen': 11931, 'beantwo': 11932, '367': 11933, 'gekillt': 11934, 'bka': 11935, 'mordes': 11936, 'mantra': 11937, 'alu': 11938, 'lovemytropical': 11939, 'mequoh': 11940, 'aufwachen': 11941, 'vorgeht': 11942, 'uebergreift': 11943, 'messermord': 11944, 'raute': 11945, 'aufzuhalten': 11946, 'assetskater72': 11947, 'prachtexemplar': 11948, 'hasserfuellte': 11949, 'massaker': 11950, 'heuchlerisches': 11951, 'bleibst': 11952, 'googlede': 11953, 'coca': 11954, 'trittbrett': 11955, 'aufspringen': 11956, 'quittung': 11957, 'getilgt': 11958, 'vergangene': 11959, 'zukuenftige': 11960, 'streetcoverage': 11961, 'wahnsinnsgedraenge': 11962, 'stampede': 11963, 'geilen': 11964, 'aerztlichen': 11965, 'beistand': 11966, 'naziwahn': 11967, 'psychose': 11968, 'horror': 11969, 'fantasien': 11970, 'unvermeidliche': 11971, 'restle': 11972, 'strohhalme': 11973, 'panisch': 11974, 'ergriffen': 11975, 'zweiten': 11976, 'angegriffener': 11977, 'asylant': 11978, 'irrenhaus': 11979, 'wismar': 11980, 'chemnitzderanfang': 11981, 'notte': 11982, 'magna': 11983, 'stirn': 11984, 'rosenkranz': 11985, 'schutt': 11986, 'relativierer': 11987, 'ran': 11988, 'zoomen': 11989, 'gehirnebene': 11990, 'messermorde': 11991, 'vergewaltigungen': 11992, 'unterbinden': 11993, 'isabelschayani': 11994, 'fundbuero': 11995, 'georgdiez1': 11996, 'verachtet': 11997, 'ihresgleichen': 11998, 'rennen': 11999, 'nittom': 12000, 'djuhmha': 12001, 'abgesetzt': 12002, 'schimpf': 12003, 'aufrechte': 12004, 'pickelgesichter': 12005, 'beginn': 12006, 'lekwink': 12007, 'messerstecherei': 12008, 'kontrahenten': 12009, '25': 12010, 'einstechen': 12011, 'aufschlitzen': 12012, 'nationalitaeten': 12013, 'mutige': 12014, 'traurigen': 12015, 'positiven': 12016, 'mmmhh': 12017, 'bannern': 12018, 'grundgesetzes': 12019, 'warze': 12020, 'lkasachsen': 12021, 'otschihorst': 12022, 'aufregung': 12023, 'marcfelixserrao': 12024, 'nzz': 12025, 'pimpf': 12026, 'groessenwahnsinnig': 12027, 'zwerge': 12028, 'arroganten': 12029, 'duktus': 12030, 'hochverrat': 12031, 'jeher': 12032, 'drastisch': 12033, 'zerrissen': 12034, 'rauenswuerdig': 12035, 'speichelleckende': 12036, 'trittbrettfahrerin': 12037, 'billiger': 12038, 'terrasse': 12039, 'hanf': 12040, 'pflanze': 12041, 'background': 12042, 'jrvssr': 12043, 'verkackter': 12044, 'kannibalen': 12045, 'kochtopf': 12046, 'ekelhaftes': 12047, 'heuchlerpack': 12048, 'stimmenfang': 12049, 'manipulation': 12050, 'paederasten': 12051, 'deutschlandfeinde': 12052, 'tierfeinde': 12053, 'vegan': 12054, 'veggie': 12055, 'amoklauf': 12056, 'durchzieht': 12057, 'dufte': 12058, 'verdaechtigte': 12059, 'transvestie': 12060, 'gepackt': 12061, 'massenmanipulatation': 12062, 'via': 12063, 'koecher': 12064, 'anschauungsunterricht': 12065, 'brandgefaehrlich': 12066, 'pays': 12067, 'feinerlumpi': 12068, 'abdul': 12069, 'prozessende': 12070, 'freigelassen': 12071, 'rottelter': 12072, 'blubb': 12073, 'thomasknorra': 12074, 'r1chtungsweiser': 12075, 'unbegreiflich': 12076, 'kuenftiges': 12077, 'gewaltregime': 12078, 'grenzenlose': 12079, 'naivitaet': 12080, 'ratschlaege': 12081, 'stricher': 12082, 'schwachmat': 12083, 'ansehnliche': 12084, '37jaehrige': 12085, 'poppen': 12086, 'schweigegeld': 12087, 'traumatisie': 12088, 'mathe': 12089, 'ausfindig': 12090, 'saustall': 12091, 'manipulationsopfer': 12092, 'spriesse': 12093, 'unkraut': 12094, 'offener': 12095, 'niedergemetzelt': 12096, 'ueberpropo': 12097, 'ional': 12098, 'marschieren': 12099, 'vors': 12100, 'entheben': 12101, 'rkill': 12102, 'amtes': 12103, 'naht': 12104, 'grausame': 12105, 'vorenthalten': 12106, 'transparente': 12107, 'tragetasche': 12108, 'naivlinge': 12109, 'blind': 12110, 'taub': 12111, 'schwachsinnig': 12112, 'guntera56': 12113, 'bekennen': 12114, 'hexenjagd': 12115, 'redakteure': 12116, 'einstreuen': 12117, 'merkt': 12118, 'bacho': 12119, 'naturgesetz': 12120, 'selbstentlarvung': 12121, 'allerersten': 12122, 'posts': 12123, 'zugewande': 12124, 'volksgruppen': 12125, 'toetungsdelike': 12126, 'mitbuerger': 12127, 'aktivistinnen': 12128, 'rundumschlag': 12129, 'virales': 12130, 'falschem': 12131, 'fraeulein': 12132, 'tessa': 12133, 'klassisches': 12134, 'whopullsthe': 12135, 'initiatoren': 12136, 'lauthals': 12137, 'heuer': 12138, 'karinazurich': 12139, 'ect': 12140, 'degenerie': 12141, 'harmlos': 12142, 'verblendete': 12143, 'schwachsinnige': 12144, 'weibische': 12145, 'wohlstands': 12146, 'kapselzerrung': 12147, 'zuziehen': 12148, 'volldepp': 12149, 'kritisierst': 12150, 'sauerstoff': 12151, 'verbrauchst': 12152, 'voellige': 12153, 'verschwendung': 12154, 'mitfuehlenden': 12155, 'afr': 12156, 'warnung': 12157, 'unsere': 12158, 'berichtige': 12159, 'kroos': 12160, 'einschiessen': 12161, 'gunst': 12162, 'toni': 12163, 'offenburg': 12164, 'gerede': 12165, 'hirne': 12166, 'jahrelange': 12167, 'jammerer': 12168, 'betrueger': 12169, 'tendiere': 12170, 'defektem': 12171, 'apfel': 12172, 'aufkleber': 12173, 'shananjanie': 12174, 'manipulativ': 12175, 'dialyse': 12176, 'redaktionfp': 12177, 'religoese': 12178, 'feststehen': 12179, 'religionszugehoerigkeit': 12180, 'procedure': 12181, 'argonerd': 12182, 'ganja': 12183, 'stoned': 12184, 'kreieren': 12185, 'geheilt': 12186, 'supidupi': 12187, 'netzfall': 12188, 'explodierende': 12189, 'uebergriffen': 12190, 'ruecklaeufige': 12191, 'nikolasloebel': 12192, 'eisberges': 12193, 'cojones': 12194, 'commieeater': 12195, 'osmanische': 12196, 'rassistische': 12197, 'blonder': 12198, 'ruebenhorst': 12199, 'gesichtsausdruck': 12200, 'inzest': 12201, 'vorbildliche': 12202, 'angesehen': 12203, 'haifischbecken': 12204, 'takatukaland': 12205, 'fem': 12206, 'einhoerner': 12207, 'profilen': 12208, 'gescheites': 12209, 'schwadronieren': 12210, 'normalistcool': 12211, 'flieger59googl1': 12212, 'lebenden': 12213, 'amtssprache': 12214, 'karlaknows': 12215, 'ungunsten': 12216, 'superduper': 12217, 'dpolghh': 12218, 'gagaberlin': 12219, 'putzelchen': 12220, 'spital': 12221, 'hauptsacheairbnb': 12222, 'der77jahreopaansprechpa': 12223, 'nerdigitalisierung': 12224, 'relevantethemenausgegrenzt': 12225, 'kimjongwaldepropaganda': 12226, 'shameonyouwalde': 12227, 'teppichhaendler': 12228, 'berufsopfer': 12229, 'einzeller': 12230, 'amoeben': 12231, 'hurensoehne': 12232, 'sixxer': 12233, 'freifick': 12234, 'kretins': 12235, 'bastarde': 12236, 'lack': 12237, 'saufen': 12238, 'weltverbesserern': 12239, 'duennschiss': 12240, 'schwangerer': 12241, 'serios': 12242, 'generoes': 12243, 'schweinereien': 12244, 'kiefer': 12245, 'poebler': 12246, 'wixxer': 12247, 'berufsempoe': 12248, 'tendie': 12249, 'ignorie': 12250, 'aah': 12251, 'volkserzieher': 12252, 'heinis': 12253, 'muschis': 12254, 'walde': 12255, 'stoerer': 12256, 'einstudie': 12257, 'bestellung': 12258, 'entlarvt': 12259, 'dringlichste': 12260, 'lemminge': 12261, 'enden': 12262, 'schaemst': 12263, 'mannheimer': 12264, 'glatteis': 12265, 'headlines': 12266, 'gewaltverbrechen': 12267, 'delikte': 12268, 'telefonbetrug': 12269, 'z4': 12270, 'rekordniveau': 12271, 'langzeitarbeitslose': 12272, 'erwaehnenswe': 12273, 'gefanken': 12274, 'mietwohnungen': 12275, 'kokolores20': 12276, 'koerperfressern': 12277, 'bt': 12278, 'ohrfeige': 12279, 'mia': 12280, 'san': 12281, 'vermisste': 12282, 'frauschmauke': 12283, 'wuenschst': 12284, 'maennerhassende': 12285, 'idiotin': 12286, 'reibungen': 12287, 'bilbuha': 12288, 'drehbuch': 12289, 'wiedergibt': 12290, 'quentin': 12291, 'kreativitaet': 12292, 'kill': 12293, 'bill': 12294, 'lsd': 12295, 'chapter0': 12296, 'asexuelleraltmaier2': 12297, 'realitaetsferne': 12298, 'verpulvern': 12299, 'pampers': 12300, 'hosenscheisser': 12301, 'absurdistan': 12302, 'danielboecking': 12303, 'abzusondern': 12304, 'kretin': 12305, 'uebelster': 12306, 'menschenschlag': 12307, 'matthiasmeisner': 12308, 'paare': 12309, 'geheiratet': 12310, 'einsperren': 12311, 'knechtet': 12312, 'brandmarkt': 12313, 'misogyn': 12314, 'abfaellig': 12315, 'allgemeinheit': 12316, 'insbesonder': 12317, 'erwachsen': 12318, 'provozierst': 12319, 'drehst': 12320, 'verpack': 12321, 'tueten': 12322, 'niemandem': 12323, 'vorschreiben': 12324, 'hinzuschauen': 12325, 'zeitverschwendung': 12326, 'matador': 12327, 'superfrau': 12328, 'hammerbruesten': 12329, 'edit': 12330, 'frauenhasser': 12331, 'behande': 12332, 'gentleman': 12333, 'trage': 12334, 'haenden': 12335, 'hirngefickten': 12336, 'hassenden': 12337, 'geschlechtern': 12338, 'verquirlten': 12339, 'dinger': 12340, 'verstehst': 12341, 'belaestigst': 12342, 'wackeln': 12343, 'takt': 12344, 'wunderschoener': 12345, 'moechten': 12346, 'engen': 12347, 'hosen': 12348, 'adern': 12349, 'irgendwelchen': 12350, 'kerlen': 12351, 'blickfeld': 12352, 'angeschaut': 12353, 'phopie': 12354, 'pechgehabt': 12355, 'schoenebrueste': 12356, 'gemaecht': 12357, 'rumwackelt': 12358, 'blanken': 12359, 'shi': 12360, 'krankeideologie': 12361, 'schussnichtgehoe': 12362, 'entlarven': 12363, 'koestlich': 12364, 'schwaenze': 12365, 'haesslich': 12366, 'hairyschnuffelduffelheavenly': 12367, 'mandarinenmaedchen': 12368, 'louikatharina': 12369, 'freddiealt': 12370, 'daemlichkeit': 12371, 'damen': 12372, 'antifaschistische': 12373, 'feme': 12374, 'treff': 12375, 'behaa': 12376, 'femenopfern': 12377, 'zeige': 12378, 'hairy': 12379, 'empoeren': 12380, 'blicke': 12381, 'wohlgeformte': 12382, 'brust': 12383, 'bekleidet': 12384, 'bh': 12385, 'ignorieren': 12386, 'hellen': 12387, 'radlerhosen': 12388, 'jil': 12389, 'nicole': 12390, 'gil': 12391, 'bm': 12392, 'wahrheiten': 12393, 'menschaffe2': 12394, 'dystopia': 12395, 'maerchenlandschaft': 12396, 'kampfgeist': 12397, 'kratzbuerstigkeit': 12398, 'wunderbaren': 12399, '0001f600': 12400, 'adhs': 12401, 'quadrat': 12402, 'sosmedgermany': 12403, 'luftpumpe': 12404, 'geretteter': 12405, 'schaendliche': 12406, 'begeht': 12407, 'superheld': 12408, 'grossspuriger': 12409, 'wahnvorstellungen': 12410, 'ohren': 12411, 'zerstoerer': 12412, 'uninfomie': 12413, 'uninformie': 12414, 'wahlergebnisse': 12415, 'mo19rabie': 12416, 'schueren': 12417, 'traktor': 12418, 'nazisueberall': 12419, 'erdrandbewohner': 12420, 'honk': 12421, 'arbeitsfaehig': 12422, 'willig': 12423, 'zeigten': 12424, 'babsi777': 12425, 'stephanushh': 12426, 'homasbruns': 12427, 'mitschwimmen': 12428, 'rattenkopf24': 12429, 'armselige': 12430, 'schwaechlinge': 12431, 'menschengestalt': 12432, 'traeumer': 12433, 'bekehren': 12434, 'mitschuld': 12435, 'rast': 12436, 'abruecken': 12437, 'fraulein': 12438, 'antje': 12439, 'killary': 12440, 'innere': 12441, 'utawie': 12442, 'lesestoff1': 12443, 'trinchen312': 12444, 'ungelernte': 12445, 'roth': 12446, 'allgemeinen': 12447, 'gasmann': 12448, 'fiktiver': 12449, 'juncker': 12450, 'kuesst': 12451, 'abschied': 12452, 'zunge': 12453, 'verschluckt': 12454, 'gebiss': 12455, 'anschliessend': 12456, 'saeuft': 12457, 'koenigreich': 12458, 'v2': 12459, 'atlantikwall': 12460, 'betrieb': 12461, 'teutonis52': 12462, 'breaking': 12463, 'pferde': 12464, 'wiehern': 12465, 'abgenommen': 12466, 'telefonhoerer': 12467, 'bip': 12468, 'dienstag': 12469, 'aufgefallen': 12470, 'abtreibungsdebatte': 12471, '219': 12472, 'zumeist': 12473, 'schwangerschaft': 12474, 'bogen': 12475, 'frauzopf': 12476, 'dystopianb': 12477, 'heroisch': 12478, '0001f60c': 12479, 'deckmaentelchen': 12480, 'lief': 12481, 'unverschaemtheit': 12482, 'diplomatisch': 12483, 'regie': 12484, 'machwerk': 12485, 'igste': 12486, 'krimi': 12487, 'frechheit': 12488, 'umerziehungs': 12489, 'leiter': 12490, 'auslaenderbehoerde': 12491, 'stasimethoden': 12492, 'anwendet': 12493, 'aufspue': 12494, 'oo7': 12495, 'kathaschulze': 12496, 'snowcrash729': 12497, 'dushanwegner': 12498, 'kannstedirnichtausdenken': 12499, 'vorangeht': 12500, 'fahrverbote': 12501, 'erfundener': 12502, 'nox': 12503, 'allerbeste': 12504, 'schlaf': 12505, '2038': 12506, 'strom': 12507, 'braunkohle': 12508, 'neueste': 12509, 'clou': 12510, 'flugreisenlimitierung': 12511, 'normalverbraucher': 12512, 'gretchen': 12513, 'doppeldingsbums': 12514, 'liebreizende': 12515, 'grazie': 12516, 'uckermark': 12517, 'unermesslichen': 12518, 'ratschluss': 12519, 'betoe': 12520, 'dranbleiben': 12521, 'selimabubakr': 12522, 'bruda': 12523, 'aleppo': 12524, 'aussehen': 12525, 'fluechtender': 12526, 'abubakr': 12527, 'clan': 12528, 'inshallah': 12529, 'ngo': 12530, 'schiffbruechige': 12531, 'feinstaubgrenzwe': 12532, 'debattieren': 12533, '1600': 12534, 'arbeitsmarkt': 12535, 'eysvog3l': 12536, 'mittelmeerroute': 12537, 'balkanroute': 12538, 'hinde': 12539, 'ueberfah': 12540, 'asozialer': 12541, 'fehlender': 12542, 'galacticpatrick': 12543, '89': 12544, 'gepruegelt': 12545, 'wimanders': 12546, 'twitterst': 12547, 'fusspilz': 12548, 'insofern': 12549, 'abba': 12550, '1stkimjongun': 12551, 'schwein': 12552, 'irene97652350': 12553, 'alexiastellar': 12554, 'cantatedominum': 12555, 'aufschlagen': 12556, 'michaelscheune3': 12557, 'geballter': 12558, 'frauenquoten': 12559, 'resthirnbefreiten': 12560, 'labe': 12561, 'aschen': 12562, 'dichtmachen': 12563, 'faktenfinder': 12564, 'geraden': 12565, 'schmackhaft': 12566, 'kommission': 12567, 'diaet': 12568, 'allergiker': 12569, 'steigenden': 12570, 'strompreisen': 12571, 'schnellen': 12572, 'ausstieg': 12573, 'kriegst': 12574, 'teite99': 12575, 'eisberg': 12576, 'rektum': 12577, 'bruellen': 12578, 'mia5573': 12579, 'cornelia': 12580, 'cagol': 12581, 'schickt': 12582, 'arbeitskollege': 12583, 'zweieinhalb': 12584, 'unheilbar': 12585, 'lungenkrebs': 12586, 'erkrankt': 12587, 'hilflosigkeit': 12588, 'zerschredde': 12589, 'lebensentwurf': 12590, 'makulatur': 12591, 'mitheulen': 12592, 'hundebrunomama': 12593, 'hilf': 12594, 'spruenge': 12595, 'malte': 12596, 'genderunentschlossene': 12597, 'pflegte': 12598, 'tombucker': 12599, 'spaten': 12600, '98763': 12601, 'bordesholm': 12602, 'shisha': 12603, 'jauche': 12604, 'gefuellt': 12605, 'laien': 12606, 'abschaetzung': 12607, 'unistischem': 12608, 'ochsen': 12609, 'pflugschar': 12610, 'spannen': 12611, 'schwachmaten': 12612, 'schultern': 12613, 'klopfen': 12614, 'rubymay04322797': 12615, 'guetig': 12616, 'heinrichludger': 12617, 'regnen': 12618, 'netanyahoo': 12619, 'buergt': 12620, 'chronischem': 12621, 'infantilitaetssyndrom': 12622, 'buergen': 12623, 'reser4t': 12624, '123lenchen': 12625, 'echthaa': 12626, 'oupet': 12627, 'karlschneider1': 12628, 'restlaufzeit': 12629, 'goeringeckardt': 12630, 'gruenebundestag': 12631, 'deiner': 12632, 'ihrer': 12633, 'hochachtungsvoll': 12634, 'anschliessen': 12635, 'egon': 12636, 'dorge': 12637, 'erstens': 12638, 'ueberfordern': 12639, 'zweitens': 12640, 'wunderl97628159': 12641, 'isses': 12642, 'katze': 12643, 'sass': 12644, 'gebannt': 12645, 'fernseher': 12646, 'handballspo': 12647, 'mitgefiebe': 12648, 'iberern': 12649, 'aufgezeigt': 12650, 'weinerliche': 12651, 'oezil': 12652, 'pussi': 12653, 'foehnwelle': 12654, 'loew': 12655, 'herzerfrischender': 12656, 'grals': 12657, 'hueter': 12658, 'herrliches': 12659, 'rad': 12660, 'antifaraus': 12661, 'hassrede': 12662, 'verfuegbar': 12663, 'epochtimesde': 12664, 'rueckgefueh': 12665, 'bewerber': 12666, 'realistisches': 12667, '16jaehrige': 12668, 'psychischen': 12669, 'erkrankungen': 12670, 'baer': 12671, 'manege': 12672, 'runterholen': 12673, 'kreiswichsverein': 12674, 'gepflegt': 12675, 'johannesnormann': 12676, 'umwelthilfe': 12677, 'multipel': 12678, 'knochentrocken': 12679, 'durchsage': 12680, 'turbohetzerin': 12681, 'ultrarechten': 12682, 'rand': 12683, 'kohlekommission': 12684, 'entschaedigungen': 12685, 'bruedern': 12686, 'grimm': 12687, 'endsieg': 12688, 'wahrheitsgemaess': 12689, 'gegenueberzustellen': 12690, '162': 12691, 'kontinuierlichem': 12692, 'rueckgang': 12693, 'oberguru55': 12694, 'screenshots': 12695, 'wohlfuehlblase': 12696, 'helheimer': 12697, 'unterschiedlichen': 12698, 'hautfarben': 12699, 'unterschiedlicher': 12700, 'erinnerung': 12701, 'adolfion2x44': 12702, 'dienstags': 12703, 'marvinruebhagen': 12704, 'raser': 12705, 'jungfrau': 12706, 'gebumst': 12707, 'maffay': 12708, 'muraene': 12709, 'muraenien': 12710, 'lippe': 12711, 'fallenden': 12712, 'reise': 12713, 'klapprigen': 12714, 'ford': 12715, 'wuchtbrumme': 12716, 'mendig': 12717, 'staerke': 12718, 'trumpalumpa911': 12719, 'deich': 12720, 'hannoveraner201': 12721, 'aufzeigen2015': 12722, 'laechelt': 12723, 'vielsagend': 12724, 'elmar': 12725, 'fleischgewordene': 12726, 'schlaftablette': 12727, 'zusehen': 12728, 'erbarmen': 12729, 'truthful': 12730, 'german': 12731, 'freundschaftsbesuch': 12732, 'beispielsweise': 12733, 'ardennen': 12734, 'wellejena': 12735, 'unpopulaere': 12736, 'raege': 12737, 'intransparent': 12738, 'weitgehendem': 12739, 'ttip': 12740, 'migrations': 12741, 'fluechtlingspakt': 12742, 'verhasst': 12743, 'drap': 12744, 'rouge': 12745, 'lautlos': 12746, 'dekadenz': 12747, 'stadium': 12748, 'norm': 12749, 'narrenschiff': 12750, 'steue': 12751, 'volldampf': 12752, 'riff': 12753, 'rette': 12754, 'machterhalt': 12755, 'verhassten': 12756, 'juengling': 12757, 'aachen': 12758, 'ausgebuht': 12759, 'laufenden': 12760, 'rueckgabe': 12761, 'elsass': 12762, 'lothringen': 12763, 'oedipus': 12764, 'thomasraue': 12765, 'hollaendischer': 12766, 'ukw11': 12767, 'mitsingen': 12768, 'puls': 12769, 'handball': 12770, 'geguckt': 12771, 'fuereinander': 12772, 'lustlose': 12773, 'bestehend': 12774, 'balltretern': 12775, 'moegliche': 12776, 'oberkasper': 12777, 'oetzdemier': 12778, 'gebot': 12779, 'verhasste': 12780, 'auslaufmodelle': 12781, 'heike': 12782, 'gassmann': 12783, 'moslemsoehnchen': 12784, 'mittelmaessigkeit': 12785, 'endlaser': 12786, 'eitlen': 12787, 'selbstdarsteller': 12788, 'niederlage': 12789, 'mitspieler': 12790, 'eigenschaften': 12791, 'kulturfremder': 12792, 'kreise': 12793, 'cornelianoack': 12794, 'verlangst': 12795, 'fersen': 12796, 'heften': 12797, 'bischof': 12798, 'khalil': 12799, 'verarschte': 12800, 'identitaeten': 12801, 'steinzeitreligion': 12802, 'einreiste': 12803, 'whomgodhelps': 12804, 'argumenten': 12805, 'unbezahlbar': 12806, 'hographie': 12807, 'grammatik': 12808, 'satzbau': 12809, 'interpunktion': 12810, 'feilen': 12811, 'mitpoebeln': 12812, 'vergnuege': 12813, 'schaukelpferd': 12814, 'zosse': 12815, 'terzia82': 12816, 'deutschsprachenkenntnisse': 12817, 'msm': 12818, 'laufend': 12819, 'schoepfungen': 12820, 'andersdenkenden': 12821, 'schmutzige': 12822, 'technologien': 12823, 'automobilbau': 12824, 'technologie': 12825, 'muesse': 12826, 'reinem': 12827, 'unismus': 12828, 'alicewo18626168': 12829, 'volksverdummung': 12830, 'bayrische': 12831, 'geistesgroesse': 12832, 'beliebte': 12833, 'innenminister': 12834, 'zeichens': 12835, 'vorruhestand': 12836, 'freudestrahlend': 12837, 'rueckueberstellungen': 12838, 'durchgefueh': 12839, 'gretchenfrage': 12840, 'dirk': 12841, 'pietzsch': 12842, 'vollidioten': 12843, 'nachtwaechter': 12844, 'klimasau': 12845, 'stuermer': 12846, 'politbueros': 12847, 'sudelblatt': 12848, 'dogmatischer': 12849, 'kulturmarxismus': 12850, 'milder': 12851, 'heisser': 12852, 'nasser': 12853, 'ueberpruefung': 12854, 'standhaelt': 12855, 'sekundaer': 12856, 'mitgegeben': 12857, 'frenchotto': 12858, 'gelobe': 12859, 'feierlich': 12860, 'schuppigen': 12861, 'flossentraeger': 12862, 'gruenlinks': 12863, 'verfallen': 12864, 'kollektive': 12865, 'mitten': 12866, 'abgeschossen': 12867, 'ausfall': 12868, 'golfstroms': 12869, 'kollektiver': 12870, 'dachschaden': 12871, 'rieb': 12872, 'schamlos': 12873, 'profraika': 12874, 'tzzz': 12875, 'erschuette': 12876, 'lippen': 12877, 'rettungsboot': 12878, 'zwangsverlinkung': 12879, 'kuestenkorsar': 12880, 'libra08101': 12881, 'speisung': 12882, 'heiland': 12883, 'wundersame': 12884, 'vermeh': 12885, 'andreanase1': 12886, 'wilmajung': 12887, 'zwergpudel': 12888, 'schoenschoen': 12889, 'demokratienetz': 12890, 'widerling': 12891, 'allererster': 12892, 'kajuete': 12893, 'abgegeben': 12894, 'mielke': 12895, 'dbahlke': 12896, 'snoopydo3': 12897, 'brennbar': 12898, 'antifanten': 12899, 'spielberg': 12900, 'roffen': 12901, 'scheiterhaufen': 12902, 'realitaetsverweigerer': 12903, 'vermeintlich': 12904, 'erwischt': 12905, 'tolerierbar': 12906, 'unsagbar': 12907, 'ressourcen': 12908, 'vernichtende': 12909, 'verkehrsminister': 12910, 'stinkenden': 12911, 'verstopfenden': 12912, 'guelle': 12913, 'dahinrafft': 12914, 'saubersten': 12915, 'verbrauchaermsten': 12916, 'ungefaehr': 12917, 'zeckenbiss': 12918, 'narrativ': 12919, 'entstand': 12920, 'durchgeknallte': 12921, 'regierungssprecher': 12922, 'gottkanzlerin': 12923, 'unumstoesslichen': 12924, 'angibt': 12925, 'ausreichen': 12926, 'haltenstill': 12927, 'visuelle': 12928, 'offenbarungseide': 12929, 'ratgeber': 12930, 'gor': 12931, 'ks': 12932, 'dummerchen': 12933, 'haett': 12934, 'capalpha': 12935, 'irdischen': 12936, 'stinglthomas': 12937, 'geschmissen': 12938, 'abgelehnte': 12939, 'thomasreichelhb': 12940, 'personenschuetzer': 12941, 'magnitz': 12942, 'befragen': 12943, '2018wahrheit': 12944, 'ehrenspielfuehrer': 12945, 'joseph': 12946, 'abgibt': 12947, 'nachfolgerin': 12948, 'kevin': 12949, 'kuehne': 12950, 'uebergibt': 12951, 'michael21724016': 12952, 'aufklaeren': 12953, 'cassandralipsia': 12954, 'helmut': 12955, 'geltungssuechtigen': 12956, 'lackaffen': 12957, 'distanzieren': 12958, 'jalla': 12959, 'klaus': 12960, 'lederbluemchenmandarine': 12961, 'koeterrasse': 12962, 'ibikus31': 12963, 'irrer': 12964, 'aerzteverbands': 12965, 'beunruhigt': 12966, 'massenweise': 12967, 'infektionskrankheiten': 12968, 'dritten': 12969, 'tbc': 12970, 'einschleppen': 12971, 'unterschlaegt': 12972, 'montgomery': 12973, 'lieblingsaccounts': 12974, 'suchlupe': 12975, 'abgespeiche': 12976, 'dsds': 12977, 'krankes': 12978, 'misserfolg': 12979, 'kompensieren': 12980, 'psychologisches': 12981, 'gutachten': 12982, 'heilung': 12983, 'bdm': 12984, 'shiwa': 12985, 'waltraud': 12986, 'rohrstock': 12987, 'kleinsten': 12988, 'eingeimpft': 12989, 'diversitaet': 12990, 'umvolkung': 12991, 'klimahysterie': 12992, 'erfindungen': 12993, 'zurechnungsfaehigkeit': 12994, 'untersucht': 12995, 'totalschaden': 12996, 'rednerpulte': 12997, 'bearspirit888': 12998, 'klimaschuetzer': 12999, 'voelkisches': 13000, 'nest': 13001, 'vorwerfen': 13002, 'versprechungen': 13003, 'umsetzbar': 13004, 'karikieren': 13005, 'patriot': 13006, 'zoepfe': 13007, 'umweltschuetzerin': 13008, 'achtung': 13009, 'asperger': 13010, 'syndrom': 13011, 'zwangsstoerungen': 13012, 'least': 13013, 'selektivem': 13014, 'mutismus': 13015, 'papa': 13016, 'verspeist': 13017, 'kannibalismus': 13018, 'erbarme': 13019, 'bekloppten': 13020, 'diktatur': 13021, 'demokraten': 13022, 'scyltara': 13023, 'noetigen': 13024, 'tempo': 13025, 'loszuwerden': 13026, 'twinny0310': 13027, 'nachschubraten': 13028, 'abschiebungsraten': 13029, 'verschlimmern': 13030, 'faelschlicherweise': 13031, 'zuwandererzahlen': 13032, 'asylgesetzgebung': 13033, 'grundlegend': 13034, 'dokte': 13035, 'symptomen': 13036, 'achimawesome': 13037, 'geschwaenge': 13038, 'who': 13039, 'knows': 13040, 'nochmals': 13041, 'zurueckgefueh': 13042, 'zar2001doz': 13043, 'alexande': 13044, 'ill5': 13045, 'e2demi': 13046, 'tucken': 13047, 'triggern': 13048, 'homos': 13049, 'fehlgeschaltete': 13050, 'fucking': 13051, 'aesthetik': 13052, 'empfindlich': 13053, 'chantalost': 13054, 'raven': 13055, '1272': 13056, 'captblwillard': 13057, 'blueskys2nd': 13058, 'freavonwegen': 13059, 'frodilon': 13060, 'tdz771': 13061, 'sorgt': 13062, 'staunen': 13063, 'merkwuerdigsten': 13064, 'lebewesen': 13065, 'stephanbeer77': 13066, 'wegwollen': 13067, 'gemuetlich': 13068, 'ernuechterung': 13069, 'veraergerung': 13070, 'erfahrungsgemaess': 13071, 'fehlendem': 13072, 'schokopudding': 13073, 'handynetz': 13074, 'ausrastet': 13075, 'kleines': 13076, 'wochenfazit': 13077, 'hauseinstuerze': 13078, 'schneekatastrophe': 13079, 'wichtigtuer': 13080, 'ausnahmefall': 13081, 'herunterspielen': 13082, 'isseshalt': 13083, 'gelaunt': 13084, 'williibald28': 13085, 'bekloppt': 13086, 'ueberlegungen': 13087, 'glotze': 13088, 'dreissig': 13089, 'emirate': 13090, 'entstehen': 13091, 'murat': 13092, 'aische': 13093, 'pfadfinderscheisse': 13094, 'herzhaft': 13095, 'hallooooo': 13096, 'leichenhemdtragenden': 13097, 'totengraeberinnen': 13098, 'sozialdemokratie': 13099, 'muhahahaha': 13100, 'transenaccount': 13101, 'digitale': 13102, 'enddarmversilberung': 13103, 'tragik': 13104, 'wiedergeben': 13105, 'hessenschwabe': 13106, 'ave': 13107, 'maria': 13108, 'fuenfmal': 13109, 'rehabilitie': 13110, 'charlie00935': 13111, 'draengt': 13112, 'hoegl': 13113, 'winkt': 13114, 'pasemuckelnord': 13115, 'muppet': 13116, 'baum79308079': 13117, 'geisterbahn': 13118, 'rasseweiber': 13119, 'sexistisch': 13120, 'gaaanz': 13121, 'ph': 13122, 'phanuel': 13123, 'gottseidank': 13124, 'dimmo52': 13125, 'entsprechender': 13126, 'konsequenz': 13127, 'austritt': 13128, 'logischerweise': 13129, 'neuauflage': 13130, 'erfolgen': 13131, 'ratten': 13132, 'favoritarata': 13133, 'cabeachpirate': 13134, 'probepruefung': 13135, 'erkennst': 13136, 'gewisses': 13137, 'schema': 13138, 'fischbilder': 13139, 'pauken': 13140, 'zeichnungen': 13141, 'russnase': 13142, 'floyden': 13143, 'phosphor': 13144, 'vernichtend': 13145, 'niederbrennt': 13146, 'emotionen': 13147, 'apokalyptisch': 13148, 'schoepfung': 13149, 'hansastrasse': 13150, 'beschaffen': 13151, 'kursanbieter': 13152, 'geleisteten': 13153, 'eueren': 13154, 'worauf': 13155, 'sz': 13156, 'muenchen': 13157, 'eilsbegruendung': 13158, 'sonderlich': 13159, 'begeistern': 13160, 'registrieren': 13161, 'durchdrehen': 13162, 'fixie': 13163, 'nichtschreiben': 13164, 'grenzenloser': 13165, 'stress': 13166, 'eingewoehnungsphase': 13167, 'skat': 13168, 'glas': 13169, 'wein': 13170, 'reply': 13171, 'wurmt': 13172, 'furzgeraeusch': 13173, '1200favs': 13174, '1200': 13175, 'brains': 13176, 'bedingungslos': 13177, 'faven': 13178, 'buhlen': 13179, '05uhr': 13180, 'twitteranmeldung': 13181, 'gateway': 13182, 'sera': 13183, 'staddtteile': 13184, 'baeckerei': 13185, 'nazipack': 13186, 'uebelste': 13187, 'shadowban': 13188, 'fcknzs': 13189, 'pissbloede': 13190, 'nazispacke': 13191, 'wedelst': 13192, 'rocknete': 13193, 'verkuemme': 13194, 'palme': 13195, 'drecksratten': 13196, 'bann': 13197, 'bruecke': 13198, 'warst': 13199, 'vorhandene': 13200, 'toleranzgrenze': 13201, 'geduld': 13202, 'endgegner': 13203, 'game': 13204, 'over': 13205, 'ezeit': 13206, 'tilt': 13207, 'enttaeuschung': 13208, 'masslose': 13209, 'unbaendige': 13210, 'brennende': 13211, 'aengste': 13212, '1652zigste': 13213, 'darm': 13214, 'operation': 13215, 'kuenstlerischer': 13216, 'darmausgang': 13217, 'hoechstens': 13218, 'ostern': 13219, 'monatsrhythmus': 13220, 'wochenrhythmus': 13221, 'weile': 13222, 'krankenschwestern': 13223, 'pflegedienst': 13224, 'simulie': 13225, 'bankdirektor': 13226, 'kroch': 13227, 'sekretaerin': 13228, 'untergebene': 13229, 'untergeordnete': 13230, 'leere': 13231, 'hypochonder': 13232, 'kh': 13233, 'egomane': 13234, 'perfide': 13235, 'schoensten': 13236, 'erfolgreich': 13237, 'gespraechsthema': 13238, 'tyrannisie': 13239, 'jaehzornig': 13240, 'unbeherrscht': 13241, 'hausschuh': 13242, 'kochloeffel': 13243, 'kleiderbuegel': 13244, 'psychoterror': 13245, 'gedankenlos': 13246, 'empathielos': 13247, 'magelane72': 13248, 'dingern': 13249, 'ett': 13250, 'schweinskram': 13251, 'strunzdoofe': 13252, 'tiefgaragenschranke': 13253, 'zufah': 13254, 'ska': 13255, 'wuehlte': 13256, 'schranke': 13257, 'lieferwagen': 13258, 'abgerissen': 13259, 'endergirl29': 13260, 'kackscheiss': 13261, 'mutet': 13262, 'aggression': 13263, 'stag': 13264, 'junger': 13265, 'espressi': 13266, 'kackhaufen': 13267, 'ungehoe': 13268, 'hilfeschreie': 13269, 'uhrzeit': 13270, 'irgendwer': 13271, 'nonmentions': 13272, 'wecke': 13273, 'einstempeln': 13274, 'ampel': 13275, 'socke': 13276, 'pozelt': 13277, 'koa': 13278, 'lebakassemme': 13279, 'ned': 13280, 'moch': 13281, 'aung': 13282, 'lebakaskrapfn': 13283, 'spinn': 13284, 'blasphemie': 13285, 'regionalliga': 13286, 'nettes': 13287, 'furcht': 13288, 'verletzung': 13289, 'beider': 13290, 'frisst': 13291, 'alsich16war': 13292, 'bundeskanzler': 13293, 'meldete': 13294, 'apollo': 13295, '13ein': 13296, 'houston': 13297, 'farbig': 13298, 'gesendet': 13299, 'trennten': 13300, 'beatles': 13301, 'starb': 13302, 'jimi': 13303, 'hendrix': 13304, 'queen': 13305, 'kraftwerk': 13306, 'krawalligen': 13307, 'fackelzug': 13308, 'gemeinde': 13309, 'sensen': 13310, 'mistgabeln': 13311, 'dreschflegel': 13312, 'servus': 13313, 'griasde': 13314, 'naeae': 13315, 'trick': 13316, 'ueberschrieben': 13317, 'anmerkung': 13318, 'genialen': 13319, 'peinlicher': 13320, 'eck': 13321, 'punktsieg': 13322, 'muahaha': 13323, 'ypsilon': 13324, 'trini24612175': 13325, 'landeplatz': 13326, 'pleitegeier': 13327, 'reizendes': 13328, 'ehepaar': 13329, 'verzueckt': 13330, '0001f497': 13331, '0001f937': 13332, 'derlehnsherr': 13333, 'golfschlaeger': 13334, 'etage': 13335, 'naeheres': 13336, 'titelseiten': 13337, 'vergesst': 13338, 'anmerken': 13339, 'feedback': 13340, 'versehentlich': 13341, 'unabsichtlich': 13342, 'chapeau': 13343, 'peinlichen': 13344, 'duemmlichen': 13345, 'pube': 13346, 'aeren': 13347, 'droelfzig': 13348, 'kuessen': 13349, 'huebschem': 13350, 'ava': 13351, 'heilungsprozess': 13352, 'eingeschenkt': 13353, 'svenweisz': 13354, 'schmeckt': 13355, 'endet': 13356, 'abhaengig': 13357, 'tagesform': 13358, 'zutaten': 13359, 'bestandteil': 13360, 'salat': 13361, 'richtet': 13362, 'wasserwechsel': 13363, 'hierlustigen': 13364, 'stuecke': 13365, 'versionen': 13366, 'pompeji': 13367, 'staerksten': 13368, 'aussiehst': 13369, 'bewerbungstweet': 13370, 'leitungswasser': 13371, 'buegeleisen': 13372, 'huldige': 13373, 'jungchen': 13374, 'devot': 13375, 'ergaenze': 13376, 'vorstellbar': 13377, 'rotes': 13378, 'tuch': 13379, 'dannkambibi': 13380, 'futtern': 13381, 'zeitig': 13382, 'winkst': 13383, 'tuechern': 13384, 'akira': 13385, '86': 13386, 'schauem': 13387, 'hohldrehende': 13388, 'pissbirne': 13389, 'gemeldet': 13390, 'katrinhilger': 13391, 'jdkinf': 13392, 'kellerfreak': 13393, 'ed': 13394, 'knopf': 13395, 'touch': 13396, 'schaffner': 13397, 'aufgekommen': 13398, 'scheissegal': 13399, 'zewa': 13400, 'soft': 13401, '6000': 13402, 'hockt': 13403, 'dazwischen': 13404, 'plaer': 13405, 'nackig': 13406, 'zuliebe': 13407, 'dreh': 13408, '180': 13409, 'trabe': 13410, 'proviant': 13411, 'handtuch': 13412, 'lebenseinstellung': 13413, 'nullen': 13414, 'berechnen': 13415, 'entschuldige': 13416, 'betrag': 13417, 'plausible': 13418, 'zulaessige': 13419, '491': 13420, 'zugemuellten': 13421, 'kotau': 13422, 'streichholz': 13423, 'flasche': 13424, 'tabletten': 13425, 'schicksalhaften': 13426, 'schmerzen': 13427, 'dutzende': 13428, 'gequaelt': 13429, 'skrupellos': 13430, 'schicksalsnacht': 13431, 'leisen': 13432, 'unbedachten': 13433, 'boah': 13434, 'eineinein': 13435, 'jawoll': 13436, 'muelltuete': 13437, 'bea': 13438, 'angezettelt': 13439, 'nacktpremiere': 13440, 'verfilmen': 13441, 'hauptrolle': 13442, 'angucken': 13443, 'mannis': 13444, 'schwanz': 13445, 'jugendfilm': 13446, 'beteiligte': 13447, '0001f928': 13448, 'oke': 13449, 'dreien': 13450, '0001f625': 13451, 'unbeteiligte': 13452, 'km': 13453, 'erlebe': 13454, '160km': 13455, 'schrumpft': 13456, 'reaktionsgeschwindigkeit': 13457, 'aufprallenergie': 13458, 'moped': 13459, 'unbeleuchteten': 13460, 'kreuzung': 13461, 'woischt': 13462, 'peanuts': 13463, 'kleingeister': 13464, 'freiheitsberaubung': 13465, 'feuerwehr': 13466, 'gepetzt': 13467, 'favs': 13468, 'folgend': 13469, 'geschaltet': 13470, 'verzupft': 13471, 'horsthardcore': 13472, 'stehlen': 13473, 'vernichtetes': 13474, 'dschungelcamp': 13475, 'grossleinwand': 13476, 'eiccount': 13477, 'schlaumei': 13478, 'erwachsenenbilder': 13479, 'hoerst': 13480, 'seniorenmusik': 13481, 'zweitzehtee': 13482, 'fieser': 13483, 'mrsfmbb': 13484, 'schockverliebt': 13485, 'garde': 13486, 'aendere': 13487, 'nick': 13488, 'avatar': 13489, 'einstiegsdroge': 13490, 'alkohol': 13491, 'zucker': 13492, 'gekuenstelter': 13493, 'fliessbandarbeiter': 13494, 'opel': 13495, 'anzug': 13496, 'anzog': 13497, 'sischer': 13498, 'remember': 13499, 'regenschirm': 13500, 'humorlose': 13501, 'schlampe': 13502, 'intelligent': 13503, 'unsozialen': 13504, 'sozialsystem': 13505, 'feierabend': 13506, 'photo': 13507, 'kuestenrocker': 13508, 'buxe': 13509, 'batwoman': 13510, 'chillt': 13511, 'decke': 13512, 'haengend': 13513, 'anstaendig': 13514, 'gabel': 13515, 'sorgeweniger': 13516, 'update': 13517, 's9': 13518, 'mehrfach': 13519, 'prigge': 13520, 'schueper': 13521, 'banker': 13522, 'vorraum': 13523, 'zusammengebrochen': 13524, 'rueber': 13525, 'loeschen': 13526, 'twitteraccounts': 13527, 'fave': 13528, 'ads': 13529, 'runterscrollen': 13530, 'pfeil': 13531, 'screen': 13532, 'fliegen': 13533, 'okok': 13534, 'steinbruch': 13535, 'gummihammer': 13536, 'granitblock': 13537, 'ministrant': 13538, 'kaffeecup': 13539, 'mittagessen': 13540, 'rolltreppe': 13541, 'finanzielle': 13542, 'apekt': 13543, 'hoehenunterschied': 13544, 'beachtlich': 13545, 'schwieriger': 13546, 'umzuerziehen': 13547, 'begruendung': 13548, 'kennengelernt': 13549, 'stimmungsbarometer': 13550, 'amazon': 13551, 'spamversuch': 13552, 'sackgesicht': 13553, 'beef': 13554, 'asshole': 13555, 'schrott': 13556, 'egomanen': 13557, 'a8': 13558, 'a9': 13559, 'a3': 13560, 'tagesverlauf': 13561, 'zusammenfassen': 13562, 'alexa': 13563, 'tuerlich': 13564, 'gewordenes': 13565, 'material': 13566, 'optimie': 13567, 'schliessende': 13568, 'aufzugstuer': 13569, 'schmalhirn': 13570, 'echtheit': 13571, 'blutmondes': 13572, 'bestritten': 13573, 'powerpoint': 13574, 'mausklick': 13575, 'shootguy': 13576, 'gmbh': 13577, 'bitter': 13578, 'schwurbeler': 13579, 'bedrueckt': 13580, 'ueberraschen': 13581, 'geschilde': 13582, 'gesteue': 13583, 'aufsichtsratvorsitzende': 13584, 'reptiloid': 13585, 'absurden': 13586, 'knoten': 13587, 'intervallen': 13588, 'zeitinensiv': 13589, 'medi': 13590, 'cocktail': 13591, 'speiseplan': 13592, 'funny': 13593, 'luftpolsterfolie': 13594, 'tagesziel': 13595, 'knacken': 13596, 'schaedlich': 13597, 'biegen': 13598, 'olle': 13599, 'baerbock': 13600, 'verseuchten': 13601, 'barbeck': 13602, 'rundfunk': 13603, 'fernseh': 13604, 'verbiegen': 13605, 'unverschaemt': 13606, 'klappen': 13607, 'dien': 13608, 'fussnaegel': 13609, 'romantisch': 13610, 'dunkel': 13611, 'festbeleuchtung': 13612, 'hannover96': 13613, 'spielerfrauen': 13614, 'kleid': 13615, 'iset': 13616, 'zeltmacher': 13617, 'sofa': 13618, 'langweiligsten': 13619, 'gespielte': 13620, 'heulerei': 13621, 'klatscht': 13622, '3er': 13623, 'metern': 13624, 'currycassalla': 13625, 'yogaspasst': 13626, 'm0wl': 13627, 'rafft': 13628, 'curryarschhund': 13629, 'hinterfotziger': 13630, 'wahres': 13631, 'gehirnzellen': 13632, 'schnauze': 13633, 'jaehzornige': 13634, 'kackvogel': 13635, 'wuerge': 13636, 'zugucken': 13637, 'studivz': 13638, 'mitgeteilt': 13639, 'spackolacko': 13640, 'hundeficka': 13641, 'pinkeln': 13642, 'teilnehmer': 13643, 'dreharbeiten': 13644, 'hmmm': 13645, 'gekocht': 13646, 'uebers': 13647, 'bumsen': 13648, 'ausgefragt': 13649, 'stichwahl': 13650, 'lucke': 13651, 'staenkern': 13652, 'obst': 13653, 'vollgekiffte': 13654, 'fremdwo': 13655, 'drno19547243': 13656, 'sendezeit': 13657, 'geredet': 13658, 'verschuldung': 13659, 'erz': 13660, 'deligie': 13661, 'koelner': 13662, 'catweazle': 13663, 'sprachfehler': 13664, 'verdummung': 13665, 'krone': 13666, 'arie': 13667, 'kindersendung': 13668, 'bestdamnalex': 13669, 'furzen': 13670, 'godik': 13671, 'christall': 13672, 'comedians': 13673, 'krueppel': 13674, 'verkackt': 13675, 'hochgestochene': 13676, '0001f1f9': 13677, '0001f1f7': 13678, 'weicht': 13679, 'frontex': 13680, 'aufstocken': 13681, 'zaeune': 13682, 'staatsbuerger': 13683, 'schaetze': 13684, 'migrationspackt': 13685, 'arschgebu': 13686, 'svr': 13687, 'svrfcb': 13688, 'dankepolizei': 13689, 'refugeesnotwelcome': 13690, 'brwahlarena': 13691, 'hofreiter': 13692, 'unserioes': 13693, 'gucke': 13694, 'nascar': 13695, 'motorvisiontv': 13696, 'sprit': 13697, 'v8': 13698, 'abschalten': 13699, 'betruegerin': 13700, 'gehoer': 13701, 'angucke': 13702, 'terroraktivisten': 13703, 'fetten': 13704, 'spruehschiss': 13705, 'minusmenschen': 13706, 'spasten': 13707, 'festen': 13708, 'stuhlgang': 13709, 'intensiver': 13710, 'gemerkt': 13711, 'infizie': 13712, 'juengern': 13713, 'praemie': 13714, 'kaufe': 13715, 'spottpreis': 13716, 'abgase': 13717, 'schlafanzughose': 13718, 'bedankt': 13719, 'donnerstag': 13720, 'trainer': 13721, 'lorant': 13722, 'kovac': 13723, 'fcbaja': 13724, 'fritierfett': 13725, 'dauerwerbesendung': 13726, 'buecher': 13727, 'eingeblendet': 13728, 'buchmesse': 13729, 'sudermann': 13730, 'fleissig': 13731, 'saechsische': 13732, 'defamie': 13733, 'unstrittig': 13734, 'benommen': 13735, 'belegbar': 13736, 'fangen': 13737, 'raecht': 13738, 'stellst': 13739, 'ankara': 13740, 'bauantrag': 13741, 'kapelle': 13742, 'gefolte': 13743, 'sozialwohnungen': 13744, 'park': 13745, 'buden': 13746, 'kino': 13747, 'schief': 13748, 'verfluchten': 13749, 'beharren': 13750, 'koeln2909': 13751, 'cemoezdemir': 13752, 'ravensburg': 13753, 'sticht': 13754, 'sc': 13755, 'isse': 13756, 'tolles': 13757, 'verkleidet': 13758, 'genehmigen': 13759, 'schnallen': 13760, 'verkacker': 13761, 'fatale': 13762, 'radikalisierungshaeuser': 13763, 'serioese': 13764, 'hirnlose': 13765, 'anzugreifen': 13766, 'luegengeschichten': 13767, 'benehmen': 13768, 'grundlose': 13769, 'gekreische': 13770, 'nichtsnutzen': 13771, 'fremden': 13772, 'abenteuerspielplatz': 13773, 'austoben': 13774, 'solidaritycityfrankfu': 13775, 'april': 13776, 'schillerstrasse': 13777, 'friede': 13778, 'huetten': 13779, 'bewohnerinnen': 13780, 'leerstehenden': 13781, 'ferro': 13782, 'gelaendes': 13783, '16h': 13784, 'protestaktion': 13785, 'zuverlaessigkeitsueberpruefung': 13786, 'gesinnungsueberpruefung': 13787, 'staatsschutz': 13788, 'volkshaus': 13789, 'halkevi': 13790, 'hessen': 13791, 'werrastrasse': 13792, 'eskalation': 13793, 'atommaechten': 13794, 'anschl': 13795, 'abschlusskundgebung': 13796, 'zukunftswerkstatt': 13797, 'landespa': 13798, 'floersheim': 13799, 'wetzlar': 13800, 'geschlossen': 13801, 'wz2403': 13802, 'nonpd': 13803, 'sitzstreik': 13804, 'teilnahme': 13805, 'bij': 13806, 'berxwedana': 13807, 'efr': 13808, 'fight4afrin': 13809, '21mrz': 13810, 'unsernewroz': 13811, 'kreisvorstand': 13812, 'mike': 13813, 'josef': 13814, 'verhandelt': 13815, 'aussper': 13816, 'erhebt': 13817, '18h': 13818, 'eschersheimer': 13819, 'protestkundgebung': 13820, 'kennedyallee': 13821, '02': 13822, 'individueller': 13823, 'gesellschaftlicher': 13824, 'historisches': 13825, 'saalhof': 13826, 'ausstellungseroeffnung': 13827, 'gedenkens': 13828, 'rotearmee': 13829, 'abschiedsball': 13830, 'koblenzer': 13831, 'knobbe': 13832, 'siks': 13833, 'ciao': 13834, 'aufwiedersehen': 13835, 'palmenga': 13836, 'enstr': 13837, 'prochoice': 13838, 'kristinahaenel': 13839, 'staatl': 13840, 'bedrohten': 13841, 'refugeehousingsquats': 13842, 'athen': 13843, 'griech': 13844, 'zeppelinallee': 13845, 'tuerkische': 13846, 'jesiden': 13847, 'hayir': 13848, 'gemeinsame': 13849, 'zuganreise': 13850, 'kurzentschlossene': 13851, 'gleis': 13852, 'halit': 13853, 'keinnaechstesopfer': 13854, 'temmeinderklemme': 13855, 'kassel': 13856, 'aufloesen': 13857, 'gedenkveranstaltung': 13858, 'halitplatz': 13859, 'darmstadt': 13860, 'liebig': 13861, 'bachstrasse': 13862, 'buergersprechstunde': 13863, '18m': 13864, 'amtsgericht': 13865, 'hammelsgasse': 13866, 'og': 13867, '92': 13868, 'lampe': 13869, 'sri': 13870, 'lanka': 13871, 'flammen': 13872, 'keinvergessen': 13873, '2016': 13874, '14h': 13875, 'fragendem': 13876, 'notruftelefon': 13877, '95': 13878, 'ffm4all': 13879, 'gegenbuchmasse': 13880, 'lesenacht': 13881, 'stadion': 13882, 'robokratie': 13883, 'protestfoto': 13884, 'spontandemo': 13885, 'arbeitstreffen': 13886, 'di': 13887, 'nootcamp': 13888, 'kaiserstr': 13889, 'sammelten': 13890, 'vorgebl': 13891, 'lilibochum': 13892, 'syr': 13893, 'brueder': 13894, 'trainofhopeffm': 13895, 'trainofhope': 13896, 'sonderzug': 13897, 'freilassing': 13898, 'rd': 13899, 'nordbahnhof': 13900, 'hanau': 13901, 'max': 13902, '30uhr': 13903, 'deckenspenden': 13904, 'wilhelmleuchner': 13905, '77': 13906, 'gebaeudes': 13907, 'demonstration': 13908, 'umtriebe': 13909, 'heidenau': 13910, 'demonstation': 13911, 'pogrome': 13912, 'dd2908': 13913, 'hauptbahnhof': 13914, 'wg': 13915, 'polizeigewalt': 13916, 'kessel': 13917, '2013': 13918, 'wandel': 13919, 'attac': 13920, 'klimacamp': 13921, 'gelaende': 13922, 'august': 13923, 'garzsweiler': 13924, 'untergrund': 13925, 'exzess': 13926, 'mumia': 13927, 'abu': 13928, 'jamal': 13929, 'lesung': 13930, 'mumiaabujamal': 13931, 'feemumia': 13932, 'drohnen': 13933, 'antimil': 13934, 'titania': 13935, 'basaltstr': 13936, 'heidi': 13937, 'fede': 13938, 'libero': 13939, 'freilassung': 13940, 'federico': 13941, 'freefede': 13942, 'jva': 13943, 'preungesheim': 13944, 'holt': 13945, 'bagida': 13946, 'stuerzenberger': 13947, 'angemeldet': 13948, 'blockieren': 13949, 'erfolgreiche': 13950, '3000': 13951, 'aktionstag': 13952, 'verschwundenen': 13953, 'ayotzinapa': 13954, 'mexiko': 13955, 'sproengs': 13956, 'linksnavi': 13957, 'geplaenkel': 13958, 'verschont': 13959, 'freiewaehler': 13960, 'achtet': 13961, 'ankuendigungn': 13962, 'gabs': 13963, 'mieterve': 13964, 'minai': 13965, 'immo': 13966, 'wgds': 13967, 'rechtaufstadt': 13968, 'vormerken': 13969, 'poetry': 13970, 'slam': 13971, 'benefiz': 13972, 'pkk': 13973, 'kurd': 13974, 'fffm': 13975, 'busse': 13976, 'bundesweiten': 13977, '2014': 13978, 'morgens': 13979, 'suedbahnhof': 13980, 'kurdischenverein': 13981, '17uhr': 13982, 'solidaritaets': 13983, 'lufthansa': 13984, 'streicht': 13985, 'fluege': 13986, 'kondensstreifen': 13987, 'ungeborene': 13988, '37': 13989, 'abbrueche': 13990, 'bemerkt': 13991, 'homoepathie': 13992, 'streichen': 13993, 'brillen': 13994, 'thomasruettgers': 13995, 'seyranates': 13996, 'progressiv': 13997, 'beklagen': 13998, 'ablehnen': 13999, 'graue': 14000, 'regressive': 14001, 'anhoeren': 14002, 'spruch': 14003, 'wes': 14004, 'konter': 14005, 'newman': 14006, 'dcleaks': 14007, 'hillary': 14008, 'clinton': 14009, 'betreibt': 14010, 'kinderporno': 14011, 'gespraechspa': 14012, 'synelly': 14013, 'hhuesino': 14014, 'organisieren': 14015, 'antitheist': 14016, 'kasse': 14017, 'schwierigkeit': 14018, 'mgm': 14019, 'fgm': 14020, 'allg': 14021, 'religionssteuer': 14022, 'abzulehnen': 14023, 'klingeausgras': 14024, 'pferden': 14025, 'angaben': 14026, 'eineme': 14027, 'schreibmutti': 14028, 'homoepathischen': 14029, 'mittelchen': 14030, 'kaufst': 14031, 'hochsensibel': 14032, 'einbildet': 14033, 'arminlaschet': 14034, 'zwerchfell': 14035, 'geplatzt': 14036, 'staerkung': 14037, 'verbesserung': 14038, 'soziooekonmischen': 14039, 'umstaende': 14040, 'betrifft': 14041, 'nationalistische': 14042, 'wenige': 14043, 'programme': 14044, 'ideas': 14045, 'beyond': 14046, 'border': 14047, 'vermitteln': 14048, 'umweg': 14049, 'beruhigen': 14050, 'fasnix': 14051, 'kernkraft': 14052, 'contra': 14053, 'fusion': 14054, 'erlaeutern': 14055, 'vision': 14056, 'establishment': 14057, 'konfrontie': 14058, 'anderswo': 14059, 'gegenreaktionen': 14060, 'politikergarde': 14061, 'rahmenbedingungen': 14062, 'grosskonzerne': 14063, 'gegeneinander': 14064, 'ausspielen': 14065, 'anhoe': 14066, 'umzusetzen': 14067, 'vehemenz': 14068, 'pallokat': 14069, 'radiomaryja': 14070, 'sichtweise': 14071, 'befiehlt': 14072, 'gehorcht': 14073, 'spruechen': 14074, 'konservativer': 14075, 'matthiasma': 14076, 'juliekurz': 14077, 'vorgaenger': 14078, 'davies': 14079, 'raab': 14080, 'entscheidungen': 14081, 'oberhand': 14082, 'fiasko': 14083, 'beine': 14084, 'sanktions': 14085, 'klassische': 14086, 'projektion': 14087, 'zurueckgelehnte': 14088, 'sitzenbleiber': 14089, 'nachschlagen': 14090, 'neoliberalismus': 14091, 'pruefen': 14092, 'framing': 14093, 'erkenne': 14094, 'versuchst': 14095, 'unbedarfter': 14096, 'naivling': 14097, 'framen': 14098, 'ausgang': 14099, 'koenne': 14100, 'voter': 14101, 'purging': 14102, 'gerrymandeting': 14103, 'desto': 14104, 'blue': 14105, 'wave': 14106, 'charakterloser': 14107, 'brauner': 14108, 'milchtoast': 14109, 'apothekerder': 14110, 'homoeopathischen': 14111, 'dosen': 14112, 'harsch': 14113, 'vorkommen': 14114, 'begriffen': 14115, 'southern': 14116, 'strategy': 14117, 'john': 14118, 'ehrlichmann': 14119, 'symptom': 14120, 'zutiefst': 14121, 'freudige': 14122, 'gruseln': 14123, 'weltspiegel': 14124, 'instabilen': 14125, 'tk': 14126, 'translate': 14127, 'mumpitz': 14128, 'sinnvolle': 14129, 'kirchenmitglieder': 14130, 'bemuehen': 14131, 'saekulare': 14132, 'ebensowenig': 14133, 'kodifizie': 14134, 'nazikommunist': 14135, 'schimpfwo': 14136, 'beschreibt': 14137, 'dysfunktional': 14138, 'epa': 14139, 'vorgemacht': 14140, 'hochzusetzen': 14141, 'asbest': 14142, 'rauen': 14143, 'anpassungen': 14144, 'rechne': 14145, 'schlichtweg': 14146, 'banane': 14147, 'mbs': 14148, 'reformer': 14149, 'kleriker': 14150, 'argumentative': 14151, 'pedo': 14152, 'gop': 14153, 'problempunkte': 14154, 'ansprechen': 14155, 'glaubwuerdigkeitsproblem': 14156, 'predigen': 14157, 'littlewisehen': 14158, 'ramadans': 14159, 'fasten': 14160, 'menschmerz': 14161, 'andeutungen': 14162, 'ausfluechte': 14163, 'protokolliere': 14164, 'ezeiten': 14165, 'februar': 14166, 'erei': 14167, 'verbracht': 14168, 'erfreulich': 14169, 'positiv': 14170, 'oepnv': 14171, 'goldeneraluhut': 14172, 'geschmack': 14173, 'trinke': 14174, 'ausgekochtes': 14175, 'sabber': 14176, 'fliesst': 14177, 'ausgetrocknete': 14178, 'pflaume': 14179, 'derbuddler': 14180, 'lui': 14181, 'abgreifen': 14182, 'financier': 14183, 'gedient': 14184, 'training': 14185, 'leber': 14186, 'hauptgrund': 14187, 'beibehaltung': 14188, 'wehrpflicht': 14189, 'zivildienst': 14190, 'arbeitskraefte': 14191, 'sammeln': 14192, 'frauenfeindliche': 14193, 'david': 14194, 'schraven': 14195, 'org': 14196, 'mails': 14197, 'variationen': 14198, 'itler': 14199, 'ignore': 14200, 'elser': 14201, 'verletzte': 14202, 'glorreich': 14203, 'endlos': 14204, 'vokabel': 14205, 'ereignisse': 14206, 'angesichts': 14207, 'terrorbekaempfung': 14208, 'schaftlich': 14209, 'ggue': 14210, 'intervenieren': 14211, 'aggressionen': 14212, 'organisie': 14213, 'schlagkraeftige': 14214, 'weltkrieg': 14215, 'glorifizierung': 14216, 'strikt': 14217, 'glorreiche': 14218, 'beendigung': 14219, 'kuenftige': 14220, 'konflikte': 14221, 'scheite': 14222, 'logo': 14223, 'frischer': 14224, 'antimyon106': 14225, 'yt': 14226, 'scimandan': 14227, 'unfaehig': 14228, 'flatties': 14229, 'ueberwinden': 14230, 'murks': 14231, 'schulwissen': 14232, 'debunken': 14233, 'glashaus': 14234, 'rumjammerst': 14235, 'antitheism': 14236, 'atheism': 14237, 'parisiennes': 14238, 'sont': 14239, 'belles': 14240, 'que': 14241, 'sous': 14242, 'pluie': 14243, 'il': 14244, 'pleut': 14245, 'rarement': 14246, 'sur': 14247, 'autoritaet': 14248, 'schul': 14249, 'only': 14250, 'regnet': 14251, 'ali': 14252, 'folgte': 14253, 'prisonpaul': 14254, 'infowars': 14255, 'faktfreien': 14256, 'beteiligen': 14257, 'yigit': 14258, 'abgefueh': 14259, 'verstoss': 14260, 'selbstverstaendlichkeit': 14261, 'bestand': 14262, 'pressefreiheit': 14263, 'verachtenswuerdigen': 14264, 'verstuemmelungen': 14265, 'befuerwo': 14266, 'praktiken': 14267, 'gerechnet': 14268, 'wm': 14269, 'verpassen': 14270, 'nichte': 14271, 'fox': 14272, 'erzkonservative': 14273, 'message': 14274, 'despoten': 14275, 'diktatoren': 14276, 'unbedarfte': 14277, 'nouripour': 14278, 'gegenpa': 14279, 'saudiarabien': 14280, 'vernichtungstrip': 14281, 'schuldig': 14282, 'bundesrat': 14283, 'pervers': 14284, 'korrekte': 14285, 'charakterisierung': 14286, 'rituale': 14287, 'star': 14288, 'trek': 14289, 'duet': 14290, 'deep': 14291, 'space': 14292, 'nine': 14293, 'ethik': 14294, 'unterricht': 14295, 'festplatten': 14296, 'backups': 14297, 'ragsverhandlungen': 14298, 'kurdenfrage': 14299, 'schlagendes': 14300, 'blickt': 14301, 'unitaet': 14302, 'angeheizt': 14303, 'fuelle': 14304, 'auszuweiten': 14305, 'ueberdenken': 14306, 'umbau': 14307, 'chp': 14308, 'loesen': 14309, 'geschweige': 14310, 'strategisch': 14311, 'atatuerk': 14312, 'spekulation': 14313, 'bildungs': 14314, 'gewichtiger': 14315, 'indikator': 14316, 'emanzipierungs': 14317, 'phase': 14318, 'zivil': 14319, 'washing': 14320, 'entente': 14321, 'maechte': 14322, 'etliches': 14323, 'erspa': 14324, 'geblieben': 14325, 'cents': 14326, 'mca': 14327, 'hur': 14328, 'briefe': 14329, 'moderner': 14330, 'ersatzmann': 14331, 'ggf': 14332, 'korrigieren': 14333, 'erfahrungsbedingt': 14334, 'zapfen': 14335}\n"
          ]
        }
      ]
    },
    {
      "cell_type": "code",
      "source": [
        "\n",
        "\n",
        "encoded_clean_text_t_stem = tok_all.texts_to_sequences(clean_text_t_stem)\n",
        "print(clean_text_t_stem[0])\n",
        "print(encoded_clean_text_t_stem[0])\n",
        "\n"
      ],
      "metadata": {
        "colab": {
          "base_uri": "https://localhost:8080/"
        },
        "id": "-P-pLah2LPxY",
        "outputId": "a25f2f03-021a-48f1-c508-bc322a0edcb5"
      },
      "execution_count": null,
      "outputs": [
        {
          "output_type": "stream",
          "name": "stdout",
          "text": [
            " janzimmhhb  mopo komisch realitaetsverweigerung immer linken erbaermlichen correctiv accounts ausgeht...\n",
            "[750, 31, 18]\n"
          ]
        }
      ]
    },
    {
      "cell_type": "code",
      "source": [
        "\n",
        "\n",
        "from keras.preprocessing import sequence\n",
        "max_length = 100\n",
        "padded_clean_text_t_stem = sequence.pad_sequences(encoded_clean_text_t_stem, maxlen=max_length, padding='pre')\n",
        "\n"
      ],
      "metadata": {
        "id": "2pMhC-TaLSmb"
      },
      "execution_count": null,
      "outputs": []
    },
    {
      "cell_type": "markdown",
      "source": [
        "# FastText Embeddings\n"
      ],
      "metadata": {
        "id": "5X5wvSctLXIh"
      }
    },
    {
      "cell_type": "code",
      "source": [
        "from google.colab import drive\n",
        "drive.mount('/content/drive')"
      ],
      "metadata": {
        "colab": {
          "base_uri": "https://localhost:8080/"
        },
        "id": "dokXCwzTBF9C",
        "outputId": "c19f8bfc-f595-410c-e3c8-aa6bdabb060e"
      },
      "execution_count": null,
      "outputs": [
        {
          "output_type": "stream",
          "name": "stdout",
          "text": [
            "Mounted at /content/drive\n"
          ]
        }
      ]
    },
    {
      "cell_type": "code",
      "source": [
        "!gunzip /content/drive/MyDrive/cc.de.300.vec.gz"
      ],
      "metadata": {
        "id": "vWWgtLKGRqeg",
        "colab": {
          "base_uri": "https://localhost:8080/"
        },
        "outputId": "2bbb4f5a-3977-4543-8eaa-7b725f23c891"
      },
      "execution_count": null,
      "outputs": [
        {
          "output_type": "stream",
          "name": "stdout",
          "text": [
            "gzip: /content/drive/MyDrive/cc.de.300.vec.gz: No such file or directory\n"
          ]
        }
      ]
    },
    {
      "cell_type": "code",
      "source": [
        "# https://stackoverflow.com/questions/69964788/how-to-unzip-gz-file-using-google-colab\n",
        "\n",
        "# FastText Embedding link - https://fasttext.cc/docs/en/crawl-vectors.html\n",
        "\n",
        "import os\n",
        "embeddings_index = {}\n",
        "f = open('/content/drive/MyDrive/cc.de.300.vec',encoding='utf-8',errors='ignore')\n",
        "for line in f:\n",
        "    values = line.split()\n",
        "    word = values[0]\n",
        "    coefs = np.asarray(values[1:], dtype='float32')\n",
        "    embeddings_index[word] = coefs\n",
        "f.close()\n",
        "print('Loaded %s word vectors.' % len(embeddings_index))\n",
        "\n"
      ],
      "metadata": {
        "colab": {
          "base_uri": "https://localhost:8080/"
        },
        "id": "Qoiw0Dq_BQXE",
        "outputId": "fb5bbe59-1919-4907-da57-1dd0f8954b0c"
      },
      "execution_count": null,
      "outputs": [
        {
          "output_type": "stream",
          "name": "stdout",
          "text": [
            "Loaded 2000000 word vectors.\n"
          ]
        }
      ]
    },
    {
      "cell_type": "code",
      "source": [
        "\n",
        "\n",
        "embedding_matrix = np.zeros((vocabulary_all+1, 300))\n",
        "for word, i in tok_all.word_index.items():\n",
        "    embedding_vector = embeddings_index.get(word)\n",
        "    if embedding_vector is not None:\n",
        "         embedding_matrix[i] = embedding_vector\n",
        "\n"
      ],
      "metadata": {
        "id": "a3edF-OKEHme"
      },
      "execution_count": null,
      "outputs": []
    },
    {
      "cell_type": "markdown",
      "source": [
        "# CNN 1 Model\n"
      ],
      "metadata": {
        "id": "d6GOcaWlTm3y"
      }
    },
    {
      "cell_type": "code",
      "source": [
        "\n",
        "\n",
        "from keras.preprocessing import sequence\n",
        "from keras.preprocessing import text\n",
        "import numpy as np\n",
        "from keras.models import Sequential\n",
        "from keras.layers import Dense, Dropout, Activation\n",
        "from keras.layers import Embedding, LSTM\n",
        "from keras.layers import Conv1D, Flatten\n",
        "from keras.preprocessing import text\n",
        "from keras.models import Sequential,Model\n",
        "from keras.layers import Dense ,Activation,MaxPool1D,Conv1D,Flatten,Dropout,Activation,Dropout,Input,Lambda,concatenate\n",
        "from keras.utils import np_utils\n",
        "from nltk.corpus import stopwords\n",
        "from nltk.tokenize import RegexpTokenizer\n",
        "from nltk.stem.porter import PorterStemmer\n",
        "import nltk\n",
        "import csv\n",
        "import pandas as pd\n",
        "\n",
        "from keras.preprocessing import text as keras_text, sequence as keras_seq\n",
        "\n"
      ],
      "metadata": {
        "id": "9SFf_1_ITmRV"
      },
      "execution_count": null,
      "outputs": []
    },
    {
      "cell_type": "code",
      "source": [
        "Embedding_Layer = Embedding(vocabulary_all+1, 300, weights=[embedding_matrix], input_length=max_length)"
      ],
      "metadata": {
        "id": "-pMKAUQqTsLu"
      },
      "execution_count": null,
      "outputs": []
    },
    {
      "cell_type": "code",
      "source": [
        "CNN1_network=Sequential([Embedding_Layer,\n",
        "                        Conv1D(128,3,activation=\"relu\",padding='same'),\n",
        "                       Dropout(0.2),\n",
        "                       MaxPool1D(2),\n",
        "                       Flatten(),\n",
        "                       Dense(64,activation=\"relu\"),\n",
        "                       Dropout(0.3),\n",
        "                       Dense(2,activation=\"sigmoid\")\n",
        "                       ])\n",
        "\n"
      ],
      "metadata": {
        "id": "FjDa1as8Ts6r"
      },
      "execution_count": null,
      "outputs": []
    },
    {
      "cell_type": "code",
      "source": [
        "CNN1_network.summary()"
      ],
      "metadata": {
        "colab": {
          "base_uri": "https://localhost:8080/"
        },
        "id": "eiFSH30GTxM9",
        "outputId": "a00056bb-f909-4950-f849-e8b38a3405db"
      },
      "execution_count": null,
      "outputs": [
        {
          "output_type": "stream",
          "name": "stdout",
          "text": [
            "Model: \"sequential\"\n",
            "_________________________________________________________________\n",
            " Layer (type)                Output Shape              Param #   \n",
            "=================================================================\n",
            " embedding (Embedding)       (None, 100, 300)          2660100   \n",
            "                                                                 \n",
            " conv1d (Conv1D)             (None, 100, 128)          115328    \n",
            "                                                                 \n",
            " dropout (Dropout)           (None, 100, 128)          0         \n",
            "                                                                 \n",
            " max_pooling1d (MaxPooling1D  (None, 50, 128)          0         \n",
            " )                                                               \n",
            "                                                                 \n",
            " flatten (Flatten)           (None, 6400)              0         \n",
            "                                                                 \n",
            " dense (Dense)               (None, 64)                409664    \n",
            "                                                                 \n",
            " dropout_1 (Dropout)         (None, 64)                0         \n",
            "                                                                 \n",
            " dense_1 (Dense)             (None, 2)                 130       \n",
            "                                                                 \n",
            "=================================================================\n",
            "Total params: 3,185,222\n",
            "Trainable params: 3,185,222\n",
            "Non-trainable params: 0\n",
            "_________________________________________________________________\n"
          ]
        }
      ]
    },
    {
      "cell_type": "code",
      "source": [
        "# https://stackoverflow.com/questions/62707558/importerror-cannot-import-name-adam-from-keras-optimizers\n",
        "from tensorflow.keras.optimizers import Adam\n",
        "CNN1_network.compile(loss = \"binary_crossentropy\", optimizer=Adam(lr=0.00003), metrics=[\"accuracy\"])"
      ],
      "metadata": {
        "colab": {
          "base_uri": "https://localhost:8080/"
        },
        "id": "uhrug6aYT0dU",
        "outputId": "499ffc9e-72d5-41e0-de26-6feba62759f4"
      },
      "execution_count": null,
      "outputs": [
        {
          "output_type": "stream",
          "name": "stderr",
          "text": [
            "/usr/local/lib/python3.7/dist-packages/keras/optimizer_v2/adam.py:105: UserWarning: The `lr` argument is deprecated, use `learning_rate` instead.\n",
            "  super(Adam, self).__init__(name, **kwargs)\n"
          ]
        }
      ]
    },
    {
      "cell_type": "code",
      "source": [
        "from keras.utils.vis_utils import plot_model\n",
        "plot_model(CNN1_network, to_file='CNN2_model_GERMEVAL2018_Task_A.png', show_shapes=True, show_layer_names=True)\n",
        "\n",
        "from keras.callbacks import EarlyStopping, ReduceLROnPlateau,ModelCheckpoint\n",
        "earlystopper = EarlyStopping(patience=8, verbose=1)\n",
        "\n",
        "reduce_lr = ReduceLROnPlateau(monitor='val_loss', factor=0.9,\n",
        "                              patience=2, min_lr=0.00001, verbose=1)\n",
        "\n"
      ],
      "metadata": {
        "id": "dt59qzVBT05I"
      },
      "execution_count": null,
      "outputs": []
    },
    {
      "cell_type": "code",
      "source": [
        "\n",
        "\n",
        "from keras.callbacks import EarlyStopping, ReduceLROnPlateau,ModelCheckpoint\n",
        "earlystopper = EarlyStopping(patience=8, verbose=1)\n",
        "\n",
        "reduce_lr = ReduceLROnPlateau(monitor='val_loss', factor=0.9,\n",
        "                              patience=2, min_lr=0.00001, verbose=1)\n",
        "\n"
      ],
      "metadata": {
        "id": "OcgGKGXRUYKs"
      },
      "execution_count": null,
      "outputs": []
    },
    {
      "cell_type": "markdown",
      "source": [
        "# Model Fitting or Training\n"
      ],
      "metadata": {
        "id": "ZzMJN4vKUauw"
      }
    },
    {
      "cell_type": "code",
      "source": [
        "hist = CNN1_network.fit(padded_clean_text_stem,label_twoDimension,epochs=200,batch_size=32,callbacks=[earlystopper, reduce_lr])"
      ],
      "metadata": {
        "colab": {
          "base_uri": "https://localhost:8080/"
        },
        "id": "0FdQuhx4ZP6B",
        "outputId": "8b6d57be-637e-4c66-d4a3-897ab5a10dca"
      },
      "execution_count": null,
      "outputs": [
        {
          "output_type": "stream",
          "name": "stdout",
          "text": [
            "Epoch 1/200\n",
            "73/75 [============================>.] - ETA: 0s - loss: 0.6651 - accuracy: 0.7085"
          ]
        },
        {
          "output_type": "stream",
          "name": "stderr",
          "text": [
            "WARNING:tensorflow:Early stopping conditioned on metric `val_loss` which is not available. Available metrics are: loss,accuracy\n",
            "WARNING:tensorflow:Learning rate reduction is conditioned on metric `val_loss` which is not available. Available metrics are: loss,accuracy,lr\n"
          ]
        },
        {
          "output_type": "stream",
          "name": "stdout",
          "text": [
            "\b\b\b\b\b\b\b\b\b\b\b\b\b\b\b\b\b\b\b\b\b\b\b\b\b\b\b\b\b\b\b\b\b\b\b\b\b\b\b\b\b\b\b\b\b\b\b\b\b\b\b\b\b\b\b\b\b\b\b\b\b\b\b\b\b\b\b\b\b\b\b\b\b\b\b\b\b\b\b\b\b\b\r75/75 [==============================] - 13s 7ms/step - loss: 0.6650 - accuracy: 0.7075 - lr: 3.0000e-05\n",
            "Epoch 2/200\n",
            "67/75 [=========================>....] - ETA: 0s - loss: 0.6014 - accuracy: 0.7155"
          ]
        },
        {
          "output_type": "stream",
          "name": "stderr",
          "text": [
            "WARNING:tensorflow:Early stopping conditioned on metric `val_loss` which is not available. Available metrics are: loss,accuracy\n",
            "WARNING:tensorflow:Learning rate reduction is conditioned on metric `val_loss` which is not available. Available metrics are: loss,accuracy,lr\n"
          ]
        },
        {
          "output_type": "stream",
          "name": "stdout",
          "text": [
            "\b\b\b\b\b\b\b\b\b\b\b\b\b\b\b\b\b\b\b\b\b\b\b\b\b\b\b\b\b\b\b\b\b\b\b\b\b\b\b\b\b\b\b\b\b\b\b\b\b\b\b\b\b\b\b\b\b\b\b\b\b\b\b\b\b\b\b\b\b\b\b\b\b\b\b\b\b\b\b\b\b\b\r75/75 [==============================] - 0s 6ms/step - loss: 0.5997 - accuracy: 0.7164 - lr: 3.0000e-05\n",
            "Epoch 3/200\n",
            "66/75 [=========================>....] - ETA: 0s - loss: 0.5933 - accuracy: 0.7154"
          ]
        },
        {
          "output_type": "stream",
          "name": "stderr",
          "text": [
            "WARNING:tensorflow:Early stopping conditioned on metric `val_loss` which is not available. Available metrics are: loss,accuracy\n",
            "WARNING:tensorflow:Learning rate reduction is conditioned on metric `val_loss` which is not available. Available metrics are: loss,accuracy,lr\n"
          ]
        },
        {
          "output_type": "stream",
          "name": "stdout",
          "text": [
            "\b\b\b\b\b\b\b\b\b\b\b\b\b\b\b\b\b\b\b\b\b\b\b\b\b\b\b\b\b\b\b\b\b\b\b\b\b\b\b\b\b\b\b\b\b\b\b\b\b\b\b\b\b\b\b\b\b\b\b\b\b\b\b\b\b\b\b\b\b\b\b\b\b\b\b\b\b\b\b\b\b\b\r75/75 [==============================] - 0s 6ms/step - loss: 0.5923 - accuracy: 0.7164 - lr: 3.0000e-05\n",
            "Epoch 4/200\n",
            "69/75 [==========================>...] - ETA: 0s - loss: 0.5877 - accuracy: 0.7151"
          ]
        },
        {
          "output_type": "stream",
          "name": "stderr",
          "text": [
            "WARNING:tensorflow:Early stopping conditioned on metric `val_loss` which is not available. Available metrics are: loss,accuracy\n",
            "WARNING:tensorflow:Learning rate reduction is conditioned on metric `val_loss` which is not available. Available metrics are: loss,accuracy,lr\n"
          ]
        },
        {
          "output_type": "stream",
          "name": "stdout",
          "text": [
            "\b\b\b\b\b\b\b\b\b\b\b\b\b\b\b\b\b\b\b\b\b\b\b\b\b\b\b\b\b\b\b\b\b\b\b\b\b\b\b\b\b\b\b\b\b\b\b\b\b\b\b\b\b\b\b\b\b\b\b\b\b\b\b\b\b\b\b\b\b\b\b\b\b\b\b\b\b\b\b\b\b\b\r75/75 [==============================] - 0s 6ms/step - loss: 0.5871 - accuracy: 0.7164 - lr: 3.0000e-05\n",
            "Epoch 5/200\n",
            "74/75 [============================>.] - ETA: 0s - loss: 0.5826 - accuracy: 0.7171"
          ]
        },
        {
          "output_type": "stream",
          "name": "stderr",
          "text": [
            "WARNING:tensorflow:Early stopping conditioned on metric `val_loss` which is not available. Available metrics are: loss,accuracy\n",
            "WARNING:tensorflow:Learning rate reduction is conditioned on metric `val_loss` which is not available. Available metrics are: loss,accuracy,lr\n"
          ]
        },
        {
          "output_type": "stream",
          "name": "stdout",
          "text": [
            "\b\b\b\b\b\b\b\b\b\b\b\b\b\b\b\b\b\b\b\b\b\b\b\b\b\b\b\b\b\b\b\b\b\b\b\b\b\b\b\b\b\b\b\b\b\b\b\b\b\b\b\b\b\b\b\b\b\b\b\b\b\b\b\b\b\b\b\b\b\b\b\b\b\b\b\b\b\b\b\b\b\b\r75/75 [==============================] - 0s 6ms/step - loss: 0.5832 - accuracy: 0.7164 - lr: 3.0000e-05\n",
            "Epoch 6/200\n",
            "68/75 [==========================>...] - ETA: 0s - loss: 0.5750 - accuracy: 0.7210"
          ]
        },
        {
          "output_type": "stream",
          "name": "stderr",
          "text": [
            "WARNING:tensorflow:Early stopping conditioned on metric `val_loss` which is not available. Available metrics are: loss,accuracy\n",
            "WARNING:tensorflow:Learning rate reduction is conditioned on metric `val_loss` which is not available. Available metrics are: loss,accuracy,lr\n"
          ]
        },
        {
          "output_type": "stream",
          "name": "stdout",
          "text": [
            "\b\b\b\b\b\b\b\b\b\b\b\b\b\b\b\b\b\b\b\b\b\b\b\b\b\b\b\b\b\b\b\b\b\b\b\b\b\b\b\b\b\b\b\b\b\b\b\b\b\b\b\b\b\b\b\b\b\b\b\b\b\b\b\b\b\b\b\b\b\b\b\b\b\b\b\b\b\b\b\b\b\b\r75/75 [==============================] - 0s 6ms/step - loss: 0.5775 - accuracy: 0.7164 - lr: 3.0000e-05\n",
            "Epoch 7/200\n",
            "67/75 [=========================>....] - ETA: 0s - loss: 0.5671 - accuracy: 0.7220"
          ]
        },
        {
          "output_type": "stream",
          "name": "stderr",
          "text": [
            "WARNING:tensorflow:Early stopping conditioned on metric `val_loss` which is not available. Available metrics are: loss,accuracy\n",
            "WARNING:tensorflow:Learning rate reduction is conditioned on metric `val_loss` which is not available. Available metrics are: loss,accuracy,lr\n"
          ]
        },
        {
          "output_type": "stream",
          "name": "stdout",
          "text": [
            "\b\b\b\b\b\b\b\b\b\b\b\b\b\b\b\b\b\b\b\b\b\b\b\b\b\b\b\b\b\b\b\b\b\b\b\b\b\b\b\b\b\b\b\b\b\b\b\b\b\b\b\b\b\b\b\b\b\b\b\b\b\b\b\b\b\b\b\b\b\b\b\b\b\b\b\b\b\b\b\b\b\b\r75/75 [==============================] - 0s 6ms/step - loss: 0.5713 - accuracy: 0.7164 - lr: 3.0000e-05\n",
            "Epoch 8/200\n",
            "74/75 [============================>.] - ETA: 0s - loss: 0.5619 - accuracy: 0.7171"
          ]
        },
        {
          "output_type": "stream",
          "name": "stderr",
          "text": [
            "WARNING:tensorflow:Early stopping conditioned on metric `val_loss` which is not available. Available metrics are: loss,accuracy\n",
            "WARNING:tensorflow:Learning rate reduction is conditioned on metric `val_loss` which is not available. Available metrics are: loss,accuracy,lr\n"
          ]
        },
        {
          "output_type": "stream",
          "name": "stdout",
          "text": [
            "\b\b\b\b\b\b\b\b\b\b\b\b\b\b\b\b\b\b\b\b\b\b\b\b\b\b\b\b\b\b\b\b\b\b\b\b\b\b\b\b\b\b\b\b\b\b\b\b\b\b\b\b\b\b\b\b\b\b\b\b\b\b\b\b\b\b\b\b\b\b\b\b\b\b\b\b\b\b\b\b\b\b\r75/75 [==============================] - 0s 6ms/step - loss: 0.5627 - accuracy: 0.7164 - lr: 3.0000e-05\n",
            "Epoch 9/200\n",
            "70/75 [===========================>..] - ETA: 0s - loss: 0.5529 - accuracy: 0.7134"
          ]
        },
        {
          "output_type": "stream",
          "name": "stderr",
          "text": [
            "WARNING:tensorflow:Early stopping conditioned on metric `val_loss` which is not available. Available metrics are: loss,accuracy\n",
            "WARNING:tensorflow:Learning rate reduction is conditioned on metric `val_loss` which is not available. Available metrics are: loss,accuracy,lr\n"
          ]
        },
        {
          "output_type": "stream",
          "name": "stdout",
          "text": [
            "\b\b\b\b\b\b\b\b\b\b\b\b\b\b\b\b\b\b\b\b\b\b\b\b\b\b\b\b\b\b\b\b\b\b\b\b\b\b\b\b\b\b\b\b\b\b\b\b\b\b\b\b\b\b\b\b\b\b\b\b\b\b\b\b\b\b\b\b\b\b\b\b\b\b\b\b\b\b\b\b\b\b\r75/75 [==============================] - 0s 5ms/step - loss: 0.5495 - accuracy: 0.7164 - lr: 3.0000e-05\n",
            "Epoch 10/200\n",
            "70/75 [===========================>..] - ETA: 0s - loss: 0.5364 - accuracy: 0.7170"
          ]
        },
        {
          "output_type": "stream",
          "name": "stderr",
          "text": [
            "WARNING:tensorflow:Early stopping conditioned on metric `val_loss` which is not available. Available metrics are: loss,accuracy\n",
            "WARNING:tensorflow:Learning rate reduction is conditioned on metric `val_loss` which is not available. Available metrics are: loss,accuracy,lr\n"
          ]
        },
        {
          "output_type": "stream",
          "name": "stdout",
          "text": [
            "\b\b\b\b\b\b\b\b\b\b\b\b\b\b\b\b\b\b\b\b\b\b\b\b\b\b\b\b\b\b\b\b\b\b\b\b\b\b\b\b\b\b\b\b\b\b\b\b\b\b\b\b\b\b\b\b\b\b\b\b\b\b\b\b\b\b\b\b\b\b\b\b\b\b\b\b\b\b\b\b\b\b\r75/75 [==============================] - 0s 6ms/step - loss: 0.5355 - accuracy: 0.7172 - lr: 3.0000e-05\n",
            "Epoch 11/200\n",
            "69/75 [==========================>...] - ETA: 0s - loss: 0.5181 - accuracy: 0.7292"
          ]
        },
        {
          "output_type": "stream",
          "name": "stderr",
          "text": [
            "WARNING:tensorflow:Early stopping conditioned on metric `val_loss` which is not available. Available metrics are: loss,accuracy\n",
            "WARNING:tensorflow:Learning rate reduction is conditioned on metric `val_loss` which is not available. Available metrics are: loss,accuracy,lr\n"
          ]
        },
        {
          "output_type": "stream",
          "name": "stdout",
          "text": [
            "\b\b\b\b\b\b\b\b\b\b\b\b\b\b\b\b\b\b\b\b\b\b\b\b\b\b\b\b\b\b\b\b\b\b\b\b\b\b\b\b\b\b\b\b\b\b\b\b\b\b\b\b\b\b\b\b\b\b\b\b\b\b\b\b\b\b\b\b\b\b\b\b\b\b\b\b\b\b\b\b\b\b\r75/75 [==============================] - 0s 6ms/step - loss: 0.5150 - accuracy: 0.7337 - lr: 3.0000e-05\n",
            "Epoch 12/200\n",
            "69/75 [==========================>...] - ETA: 0s - loss: 0.4902 - accuracy: 0.7477"
          ]
        },
        {
          "output_type": "stream",
          "name": "stderr",
          "text": [
            "WARNING:tensorflow:Early stopping conditioned on metric `val_loss` which is not available. Available metrics are: loss,accuracy\n",
            "WARNING:tensorflow:Learning rate reduction is conditioned on metric `val_loss` which is not available. Available metrics are: loss,accuracy,lr\n"
          ]
        },
        {
          "output_type": "stream",
          "name": "stdout",
          "text": [
            "\b\b\b\b\b\b\b\b\b\b\b\b\b\b\b\b\b\b\b\b\b\b\b\b\b\b\b\b\b\b\b\b\b\b\b\b\b\b\b\b\b\b\b\b\b\b\b\b\b\b\b\b\b\b\b\b\b\b\b\b\b\b\b\b\b\b\b\b\b\b\b\b\b\b\b\b\b\b\b\b\b\b\r75/75 [==============================] - 0s 6ms/step - loss: 0.4907 - accuracy: 0.7476 - lr: 3.0000e-05\n",
            "Epoch 13/200\n",
            "69/75 [==========================>...] - ETA: 0s - loss: 0.4646 - accuracy: 0.7781"
          ]
        },
        {
          "output_type": "stream",
          "name": "stderr",
          "text": [
            "WARNING:tensorflow:Early stopping conditioned on metric `val_loss` which is not available. Available metrics are: loss,accuracy\n",
            "WARNING:tensorflow:Learning rate reduction is conditioned on metric `val_loss` which is not available. Available metrics are: loss,accuracy,lr\n"
          ]
        },
        {
          "output_type": "stream",
          "name": "stdout",
          "text": [
            "\b\b\b\b\b\b\b\b\b\b\b\b\b\b\b\b\b\b\b\b\b\b\b\b\b\b\b\b\b\b\b\b\b\b\b\b\b\b\b\b\b\b\b\b\b\b\b\b\b\b\b\b\b\b\b\b\b\b\b\b\b\b\b\b\b\b\b\b\b\b\b\b\b\b\b\b\b\b\b\b\b\b\r75/75 [==============================] - 0s 6ms/step - loss: 0.4631 - accuracy: 0.7796 - lr: 3.0000e-05\n",
            "Epoch 14/200\n",
            "69/75 [==========================>...] - ETA: 0s - loss: 0.4305 - accuracy: 0.8039"
          ]
        },
        {
          "output_type": "stream",
          "name": "stderr",
          "text": [
            "WARNING:tensorflow:Early stopping conditioned on metric `val_loss` which is not available. Available metrics are: loss,accuracy\n",
            "WARNING:tensorflow:Learning rate reduction is conditioned on metric `val_loss` which is not available. Available metrics are: loss,accuracy,lr\n"
          ]
        },
        {
          "output_type": "stream",
          "name": "stdout",
          "text": [
            "\b\b\b\b\b\b\b\b\b\b\b\b\b\b\b\b\b\b\b\b\b\b\b\b\b\b\b\b\b\b\b\b\b\b\b\b\b\b\b\b\b\b\b\b\b\b\b\b\b\b\b\b\b\b\b\b\b\b\b\b\b\b\b\b\b\b\b\b\b\b\b\b\b\b\b\b\b\b\b\b\b\b\r75/75 [==============================] - 0s 6ms/step - loss: 0.4283 - accuracy: 0.8062 - lr: 3.0000e-05\n",
            "Epoch 15/200\n",
            "67/75 [=========================>....] - ETA: 0s - loss: 0.3960 - accuracy: 0.8279"
          ]
        },
        {
          "output_type": "stream",
          "name": "stderr",
          "text": [
            "WARNING:tensorflow:Early stopping conditioned on metric `val_loss` which is not available. Available metrics are: loss,accuracy\n",
            "WARNING:tensorflow:Learning rate reduction is conditioned on metric `val_loss` which is not available. Available metrics are: loss,accuracy,lr\n"
          ]
        },
        {
          "output_type": "stream",
          "name": "stdout",
          "text": [
            "\b\b\b\b\b\b\b\b\b\b\b\b\b\b\b\b\b\b\b\b\b\b\b\b\b\b\b\b\b\b\b\b\b\b\b\b\b\b\b\b\b\b\b\b\b\b\b\b\b\b\b\b\b\b\b\b\b\b\b\b\b\b\b\b\b\b\b\b\b\b\b\b\b\b\b\b\b\b\b\b\b\b\r75/75 [==============================] - 0s 6ms/step - loss: 0.3950 - accuracy: 0.8314 - lr: 3.0000e-05\n",
            "Epoch 16/200\n",
            "70/75 [===========================>..] - ETA: 0s - loss: 0.3642 - accuracy: 0.8562"
          ]
        },
        {
          "output_type": "stream",
          "name": "stderr",
          "text": [
            "WARNING:tensorflow:Early stopping conditioned on metric `val_loss` which is not available. Available metrics are: loss,accuracy\n",
            "WARNING:tensorflow:Learning rate reduction is conditioned on metric `val_loss` which is not available. Available metrics are: loss,accuracy,lr\n"
          ]
        },
        {
          "output_type": "stream",
          "name": "stdout",
          "text": [
            "\b\b\b\b\b\b\b\b\b\b\b\b\b\b\b\b\b\b\b\b\b\b\b\b\b\b\b\b\b\b\b\b\b\b\b\b\b\b\b\b\b\b\b\b\b\b\b\b\b\b\b\b\b\b\b\b\b\b\b\b\b\b\b\b\b\b\b\b\b\b\b\b\b\b\b\b\b\b\b\b\b\b\r75/75 [==============================] - 0s 6ms/step - loss: 0.3629 - accuracy: 0.8571 - lr: 3.0000e-05\n",
            "Epoch 17/200\n",
            "71/75 [===========================>..] - ETA: 0s - loss: 0.3345 - accuracy: 0.8666"
          ]
        },
        {
          "output_type": "stream",
          "name": "stderr",
          "text": [
            "WARNING:tensorflow:Early stopping conditioned on metric `val_loss` which is not available. Available metrics are: loss,accuracy\n",
            "WARNING:tensorflow:Learning rate reduction is conditioned on metric `val_loss` which is not available. Available metrics are: loss,accuracy,lr\n"
          ]
        },
        {
          "output_type": "stream",
          "name": "stdout",
          "text": [
            "\b\b\b\b\b\b\b\b\b\b\b\b\b\b\b\b\b\b\b\b\b\b\b\b\b\b\b\b\b\b\b\b\b\b\b\b\b\b\b\b\b\b\b\b\b\b\b\b\b\b\b\b\b\b\b\b\b\b\b\b\b\b\b\b\b\b\b\b\b\b\b\b\b\b\b\b\b\b\b\b\b\b\r75/75 [==============================] - 0s 5ms/step - loss: 0.3330 - accuracy: 0.8677 - lr: 3.0000e-05\n",
            "Epoch 18/200\n",
            "72/75 [===========================>..] - ETA: 0s - loss: 0.3041 - accuracy: 0.8872"
          ]
        },
        {
          "output_type": "stream",
          "name": "stderr",
          "text": [
            "WARNING:tensorflow:Early stopping conditioned on metric `val_loss` which is not available. Available metrics are: loss,accuracy\n",
            "WARNING:tensorflow:Learning rate reduction is conditioned on metric `val_loss` which is not available. Available metrics are: loss,accuracy,lr\n"
          ]
        },
        {
          "output_type": "stream",
          "name": "stdout",
          "text": [
            "\b\b\b\b\b\b\b\b\b\b\b\b\b\b\b\b\b\b\b\b\b\b\b\b\b\b\b\b\b\b\b\b\b\b\b\b\b\b\b\b\b\b\b\b\b\b\b\b\b\b\b\b\b\b\b\b\b\b\b\b\b\b\b\b\b\b\b\b\b\b\b\b\b\b\b\b\b\b\b\b\b\b\r75/75 [==============================] - 0s 6ms/step - loss: 0.3030 - accuracy: 0.8879 - lr: 3.0000e-05\n",
            "Epoch 19/200\n",
            "68/75 [==========================>...] - ETA: 0s - loss: 0.2764 - accuracy: 0.8998"
          ]
        },
        {
          "output_type": "stream",
          "name": "stderr",
          "text": [
            "WARNING:tensorflow:Early stopping conditioned on metric `val_loss` which is not available. Available metrics are: loss,accuracy\n",
            "WARNING:tensorflow:Learning rate reduction is conditioned on metric `val_loss` which is not available. Available metrics are: loss,accuracy,lr\n"
          ]
        },
        {
          "output_type": "stream",
          "name": "stdout",
          "text": [
            "\b\b\b\b\b\b\b\b\b\b\b\b\b\b\b\b\b\b\b\b\b\b\b\b\b\b\b\b\b\b\b\b\b\b\b\b\b\b\b\b\b\b\b\b\b\b\b\b\b\b\b\b\b\b\b\b\b\b\b\b\b\b\b\b\b\b\b\b\b\b\b\b\b\b\b\b\b\b\b\b\b\b\r75/75 [==============================] - 0s 6ms/step - loss: 0.2761 - accuracy: 0.9005 - lr: 3.0000e-05\n",
            "Epoch 20/200\n",
            "68/75 [==========================>...] - ETA: 0s - loss: 0.2526 - accuracy: 0.9090"
          ]
        },
        {
          "output_type": "stream",
          "name": "stderr",
          "text": [
            "WARNING:tensorflow:Early stopping conditioned on metric `val_loss` which is not available. Available metrics are: loss,accuracy\n",
            "WARNING:tensorflow:Learning rate reduction is conditioned on metric `val_loss` which is not available. Available metrics are: loss,accuracy,lr\n"
          ]
        },
        {
          "output_type": "stream",
          "name": "stdout",
          "text": [
            "\b\b\b\b\b\b\b\b\b\b\b\b\b\b\b\b\b\b\b\b\b\b\b\b\b\b\b\b\b\b\b\b\b\b\b\b\b\b\b\b\b\b\b\b\b\b\b\b\b\b\b\b\b\b\b\b\b\b\b\b\b\b\b\b\b\b\b\b\b\b\b\b\b\b\b\b\b\b\b\b\b\b\r75/75 [==============================] - 0s 6ms/step - loss: 0.2516 - accuracy: 0.9102 - lr: 3.0000e-05\n",
            "Epoch 21/200\n",
            "70/75 [===========================>..] - ETA: 0s - loss: 0.2279 - accuracy: 0.9228"
          ]
        },
        {
          "output_type": "stream",
          "name": "stderr",
          "text": [
            "WARNING:tensorflow:Early stopping conditioned on metric `val_loss` which is not available. Available metrics are: loss,accuracy\n",
            "WARNING:tensorflow:Learning rate reduction is conditioned on metric `val_loss` which is not available. Available metrics are: loss,accuracy,lr\n"
          ]
        },
        {
          "output_type": "stream",
          "name": "stdout",
          "text": [
            "\b\b\b\b\b\b\b\b\b\b\b\b\b\b\b\b\b\b\b\b\b\b\b\b\b\b\b\b\b\b\b\b\b\b\b\b\b\b\b\b\b\b\b\b\b\b\b\b\b\b\b\b\b\b\b\b\b\b\b\b\b\b\b\b\b\b\b\b\b\b\b\b\b\b\b\b\b\b\b\b\b\b\r75/75 [==============================] - 0s 6ms/step - loss: 0.2273 - accuracy: 0.9220 - lr: 3.0000e-05\n",
            "Epoch 22/200\n",
            "66/75 [=========================>....] - ETA: 0s - loss: 0.2076 - accuracy: 0.9328"
          ]
        },
        {
          "output_type": "stream",
          "name": "stderr",
          "text": [
            "WARNING:tensorflow:Early stopping conditioned on metric `val_loss` which is not available. Available metrics are: loss,accuracy\n",
            "WARNING:tensorflow:Learning rate reduction is conditioned on metric `val_loss` which is not available. Available metrics are: loss,accuracy,lr\n"
          ]
        },
        {
          "output_type": "stream",
          "name": "stdout",
          "text": [
            "\b\b\b\b\b\b\b\b\b\b\b\b\b\b\b\b\b\b\b\b\b\b\b\b\b\b\b\b\b\b\b\b\b\b\b\b\b\b\b\b\b\b\b\b\b\b\b\b\b\b\b\b\b\b\b\b\b\b\b\b\b\b\b\b\b\b\b\b\b\b\b\b\b\b\b\b\b\b\b\b\b\b\r75/75 [==============================] - 0s 6ms/step - loss: 0.2079 - accuracy: 0.9317 - lr: 3.0000e-05\n",
            "Epoch 23/200\n",
            "68/75 [==========================>...] - ETA: 0s - loss: 0.1868 - accuracy: 0.9370"
          ]
        },
        {
          "output_type": "stream",
          "name": "stderr",
          "text": [
            "WARNING:tensorflow:Early stopping conditioned on metric `val_loss` which is not available. Available metrics are: loss,accuracy\n",
            "WARNING:tensorflow:Learning rate reduction is conditioned on metric `val_loss` which is not available. Available metrics are: loss,accuracy,lr\n"
          ]
        },
        {
          "output_type": "stream",
          "name": "stdout",
          "text": [
            "\b\b\b\b\b\b\b\b\b\b\b\b\b\b\b\b\b\b\b\b\b\b\b\b\b\b\b\b\b\b\b\b\b\b\b\b\b\b\b\b\b\b\b\b\b\b\b\b\b\b\b\b\b\b\b\b\b\b\b\b\b\b\b\b\b\b\b\b\b\b\b\b\b\b\b\b\b\b\b\b\b\b\r75/75 [==============================] - 0s 6ms/step - loss: 0.1872 - accuracy: 0.9368 - lr: 3.0000e-05\n",
            "Epoch 24/200\n",
            "75/75 [==============================] - ETA: 0s - loss: 0.1696 - accuracy: 0.9452"
          ]
        },
        {
          "output_type": "stream",
          "name": "stderr",
          "text": [
            "WARNING:tensorflow:Early stopping conditioned on metric `val_loss` which is not available. Available metrics are: loss,accuracy\n",
            "WARNING:tensorflow:Learning rate reduction is conditioned on metric `val_loss` which is not available. Available metrics are: loss,accuracy,lr\n"
          ]
        },
        {
          "output_type": "stream",
          "name": "stdout",
          "text": [
            "\b\b\b\b\b\b\b\b\b\b\b\b\b\b\b\b\b\b\b\b\b\b\b\b\b\b\b\b\b\b\b\b\b\b\b\b\b\b\b\b\b\b\b\b\b\b\b\b\b\b\b\b\b\b\b\b\b\b\b\b\b\b\b\b\b\b\b\b\b\b\b\b\b\b\b\b\b\b\b\b\b\b\r75/75 [==============================] - 0s 6ms/step - loss: 0.1696 - accuracy: 0.9452 - lr: 3.0000e-05\n",
            "Epoch 25/200\n",
            "74/75 [============================>.] - ETA: 0s - loss: 0.1516 - accuracy: 0.9523"
          ]
        },
        {
          "output_type": "stream",
          "name": "stderr",
          "text": [
            "WARNING:tensorflow:Early stopping conditioned on metric `val_loss` which is not available. Available metrics are: loss,accuracy\n",
            "WARNING:tensorflow:Learning rate reduction is conditioned on metric `val_loss` which is not available. Available metrics are: loss,accuracy,lr\n"
          ]
        },
        {
          "output_type": "stream",
          "name": "stdout",
          "text": [
            "\b\b\b\b\b\b\b\b\b\b\b\b\b\b\b\b\b\b\b\b\b\b\b\b\b\b\b\b\b\b\b\b\b\b\b\b\b\b\b\b\b\b\b\b\b\b\b\b\b\b\b\b\b\b\b\b\b\b\b\b\b\b\b\b\b\b\b\b\b\b\b\b\b\b\b\b\b\b\b\b\b\b\r75/75 [==============================] - 0s 6ms/step - loss: 0.1514 - accuracy: 0.9524 - lr: 3.0000e-05\n",
            "Epoch 26/200\n",
            "69/75 [==========================>...] - ETA: 0s - loss: 0.1403 - accuracy: 0.9615"
          ]
        },
        {
          "output_type": "stream",
          "name": "stderr",
          "text": [
            "WARNING:tensorflow:Early stopping conditioned on metric `val_loss` which is not available. Available metrics are: loss,accuracy\n",
            "WARNING:tensorflow:Learning rate reduction is conditioned on metric `val_loss` which is not available. Available metrics are: loss,accuracy,lr\n"
          ]
        },
        {
          "output_type": "stream",
          "name": "stdout",
          "text": [
            "\b\b\b\b\b\b\b\b\b\b\b\b\b\b\b\b\b\b\b\b\b\b\b\b\b\b\b\b\b\b\b\b\b\b\b\b\b\b\b\b\b\b\b\b\b\b\b\b\b\b\b\b\b\b\b\b\b\b\b\b\b\b\b\b\b\b\b\b\b\b\b\b\b\b\b\b\b\b\b\b\b\b\r75/75 [==============================] - 0s 6ms/step - loss: 0.1388 - accuracy: 0.9621 - lr: 3.0000e-05\n",
            "Epoch 27/200\n",
            "67/75 [=========================>....] - ETA: 0s - loss: 0.1284 - accuracy: 0.9650"
          ]
        },
        {
          "output_type": "stream",
          "name": "stderr",
          "text": [
            "WARNING:tensorflow:Early stopping conditioned on metric `val_loss` which is not available. Available metrics are: loss,accuracy\n",
            "WARNING:tensorflow:Learning rate reduction is conditioned on metric `val_loss` which is not available. Available metrics are: loss,accuracy,lr\n"
          ]
        },
        {
          "output_type": "stream",
          "name": "stdout",
          "text": [
            "\b\b\b\b\b\b\b\b\b\b\b\b\b\b\b\b\b\b\b\b\b\b\b\b\b\b\b\b\b\b\b\b\b\b\b\b\b\b\b\b\b\b\b\b\b\b\b\b\b\b\b\b\b\b\b\b\b\b\b\b\b\b\b\b\b\b\b\b\b\b\b\b\b\b\b\b\b\b\b\b\b\b\r75/75 [==============================] - 0s 6ms/step - loss: 0.1272 - accuracy: 0.9650 - lr: 3.0000e-05\n",
            "Epoch 28/200\n",
            "70/75 [===========================>..] - ETA: 0s - loss: 0.1180 - accuracy: 0.9665"
          ]
        },
        {
          "output_type": "stream",
          "name": "stderr",
          "text": [
            "WARNING:tensorflow:Early stopping conditioned on metric `val_loss` which is not available. Available metrics are: loss,accuracy\n",
            "WARNING:tensorflow:Learning rate reduction is conditioned on metric `val_loss` which is not available. Available metrics are: loss,accuracy,lr\n"
          ]
        },
        {
          "output_type": "stream",
          "name": "stdout",
          "text": [
            "\b\b\b\b\b\b\b\b\b\b\b\b\b\b\b\b\b\b\b\b\b\b\b\b\b\b\b\b\b\b\b\b\b\b\b\b\b\b\b\b\b\b\b\b\b\b\b\b\b\b\b\b\b\b\b\b\b\b\b\b\b\b\b\b\b\b\b\b\b\b\b\b\b\b\b\b\b\b\b\b\b\b\r75/75 [==============================] - 0s 6ms/step - loss: 0.1167 - accuracy: 0.9676 - lr: 3.0000e-05\n",
            "Epoch 29/200\n",
            "69/75 [==========================>...] - ETA: 0s - loss: 0.1043 - accuracy: 0.9697"
          ]
        },
        {
          "output_type": "stream",
          "name": "stderr",
          "text": [
            "WARNING:tensorflow:Early stopping conditioned on metric `val_loss` which is not available. Available metrics are: loss,accuracy\n",
            "WARNING:tensorflow:Learning rate reduction is conditioned on metric `val_loss` which is not available. Available metrics are: loss,accuracy,lr\n"
          ]
        },
        {
          "output_type": "stream",
          "name": "stdout",
          "text": [
            "\b\b\b\b\b\b\b\b\b\b\b\b\b\b\b\b\b\b\b\b\b\b\b\b\b\b\b\b\b\b\b\b\b\b\b\b\b\b\b\b\b\b\b\b\b\b\b\b\b\b\b\b\b\b\b\b\b\b\b\b\b\b\b\b\b\b\b\b\b\b\b\b\b\b\b\b\b\b\b\b\b\b\r75/75 [==============================] - 0s 6ms/step - loss: 0.1056 - accuracy: 0.9692 - lr: 3.0000e-05\n",
            "Epoch 30/200\n",
            "68/75 [==========================>...] - ETA: 0s - loss: 0.0941 - accuracy: 0.9798"
          ]
        },
        {
          "output_type": "stream",
          "name": "stderr",
          "text": [
            "WARNING:tensorflow:Early stopping conditioned on metric `val_loss` which is not available. Available metrics are: loss,accuracy\n",
            "WARNING:tensorflow:Learning rate reduction is conditioned on metric `val_loss` which is not available. Available metrics are: loss,accuracy,lr\n"
          ]
        },
        {
          "output_type": "stream",
          "name": "stdout",
          "text": [
            "\b\b\b\b\b\b\b\b\b\b\b\b\b\b\b\b\b\b\b\b\b\b\b\b\b\b\b\b\b\b\b\b\b\b\b\b\b\b\b\b\b\b\b\b\b\b\b\b\b\b\b\b\b\b\b\b\b\b\b\b\b\b\b\b\b\b\b\b\b\b\b\b\b\b\b\b\b\b\b\b\b\b\r75/75 [==============================] - 0s 6ms/step - loss: 0.0958 - accuracy: 0.9794 - lr: 3.0000e-05\n",
            "Epoch 31/200\n",
            "69/75 [==========================>...] - ETA: 0s - loss: 0.0900 - accuracy: 0.9778"
          ]
        },
        {
          "output_type": "stream",
          "name": "stderr",
          "text": [
            "WARNING:tensorflow:Early stopping conditioned on metric `val_loss` which is not available. Available metrics are: loss,accuracy\n",
            "WARNING:tensorflow:Learning rate reduction is conditioned on metric `val_loss` which is not available. Available metrics are: loss,accuracy,lr\n"
          ]
        },
        {
          "output_type": "stream",
          "name": "stdout",
          "text": [
            "\b\b\b\b\b\b\b\b\b\b\b\b\b\b\b\b\b\b\b\b\b\b\b\b\b\b\b\b\b\b\b\b\b\b\b\b\b\b\b\b\b\b\b\b\b\b\b\b\b\b\b\b\b\b\b\b\b\b\b\b\b\b\b\b\b\b\b\b\b\b\b\b\b\b\b\b\b\b\b\b\b\b\r75/75 [==============================] - 0s 6ms/step - loss: 0.0885 - accuracy: 0.9777 - lr: 3.0000e-05\n",
            "Epoch 32/200\n",
            "75/75 [==============================] - ETA: 0s - loss: 0.0797 - accuracy: 0.9810"
          ]
        },
        {
          "output_type": "stream",
          "name": "stderr",
          "text": [
            "WARNING:tensorflow:Early stopping conditioned on metric `val_loss` which is not available. Available metrics are: loss,accuracy\n",
            "WARNING:tensorflow:Learning rate reduction is conditioned on metric `val_loss` which is not available. Available metrics are: loss,accuracy,lr\n"
          ]
        },
        {
          "output_type": "stream",
          "name": "stdout",
          "text": [
            "\b\b\b\b\b\b\b\b\b\b\b\b\b\b\b\b\b\b\b\b\b\b\b\b\b\b\b\b\b\b\b\b\b\b\b\b\b\b\b\b\b\b\b\b\b\b\b\b\b\b\b\b\b\b\b\b\b\b\b\b\b\b\b\b\b\b\b\b\b\b\b\b\b\b\b\b\b\b\b\b\b\b\r75/75 [==============================] - 0s 6ms/step - loss: 0.0797 - accuracy: 0.9810 - lr: 3.0000e-05\n",
            "Epoch 33/200\n",
            "69/75 [==========================>...] - ETA: 0s - loss: 0.0719 - accuracy: 0.9837"
          ]
        },
        {
          "output_type": "stream",
          "name": "stderr",
          "text": [
            "WARNING:tensorflow:Early stopping conditioned on metric `val_loss` which is not available. Available metrics are: loss,accuracy\n",
            "WARNING:tensorflow:Learning rate reduction is conditioned on metric `val_loss` which is not available. Available metrics are: loss,accuracy,lr\n"
          ]
        },
        {
          "output_type": "stream",
          "name": "stdout",
          "text": [
            "\b\b\b\b\b\b\b\b\b\b\b\b\b\b\b\b\b\b\b\b\b\b\b\b\b\b\b\b\b\b\b\b\b\b\b\b\b\b\b\b\b\b\b\b\b\b\b\b\b\b\b\b\b\b\b\b\b\b\b\b\b\b\b\b\b\b\b\b\b\b\b\b\b\b\b\b\b\b\b\b\b\b\r75/75 [==============================] - 0s 5ms/step - loss: 0.0730 - accuracy: 0.9823 - lr: 3.0000e-05\n",
            "Epoch 34/200\n",
            "67/75 [=========================>....] - ETA: 0s - loss: 0.0674 - accuracy: 0.9841"
          ]
        },
        {
          "output_type": "stream",
          "name": "stderr",
          "text": [
            "WARNING:tensorflow:Early stopping conditioned on metric `val_loss` which is not available. Available metrics are: loss,accuracy\n",
            "WARNING:tensorflow:Learning rate reduction is conditioned on metric `val_loss` which is not available. Available metrics are: loss,accuracy,lr\n"
          ]
        },
        {
          "output_type": "stream",
          "name": "stdout",
          "text": [
            "\b\b\b\b\b\b\b\b\b\b\b\b\b\b\b\b\b\b\b\b\b\b\b\b\b\b\b\b\b\b\b\b\b\b\b\b\b\b\b\b\b\b\b\b\b\b\b\b\b\b\b\b\b\b\b\b\b\b\b\b\b\b\b\b\b\b\b\b\b\b\b\b\b\b\b\b\b\b\b\b\b\b\r75/75 [==============================] - 0s 6ms/step - loss: 0.0677 - accuracy: 0.9831 - lr: 3.0000e-05\n",
            "Epoch 35/200\n",
            "68/75 [==========================>...] - ETA: 0s - loss: 0.0584 - accuracy: 0.9858"
          ]
        },
        {
          "output_type": "stream",
          "name": "stderr",
          "text": [
            "WARNING:tensorflow:Early stopping conditioned on metric `val_loss` which is not available. Available metrics are: loss,accuracy\n",
            "WARNING:tensorflow:Learning rate reduction is conditioned on metric `val_loss` which is not available. Available metrics are: loss,accuracy,lr\n"
          ]
        },
        {
          "output_type": "stream",
          "name": "stdout",
          "text": [
            "\b\b\b\b\b\b\b\b\b\b\b\b\b\b\b\b\b\b\b\b\b\b\b\b\b\b\b\b\b\b\b\b\b\b\b\b\b\b\b\b\b\b\b\b\b\b\b\b\b\b\b\b\b\b\b\b\b\b\b\b\b\b\b\b\b\b\b\b\b\b\b\b\b\b\b\b\b\b\b\b\b\b\r75/75 [==============================] - 0s 6ms/step - loss: 0.0596 - accuracy: 0.9861 - lr: 3.0000e-05\n",
            "Epoch 36/200\n",
            "69/75 [==========================>...] - ETA: 0s - loss: 0.0579 - accuracy: 0.9882"
          ]
        },
        {
          "output_type": "stream",
          "name": "stderr",
          "text": [
            "WARNING:tensorflow:Early stopping conditioned on metric `val_loss` which is not available. Available metrics are: loss,accuracy\n",
            "WARNING:tensorflow:Learning rate reduction is conditioned on metric `val_loss` which is not available. Available metrics are: loss,accuracy,lr\n"
          ]
        },
        {
          "output_type": "stream",
          "name": "stdout",
          "text": [
            "\b\b\b\b\b\b\b\b\b\b\b\b\b\b\b\b\b\b\b\b\b\b\b\b\b\b\b\b\b\b\b\b\b\b\b\b\b\b\b\b\b\b\b\b\b\b\b\b\b\b\b\b\b\b\b\b\b\b\b\b\b\b\b\b\b\b\b\b\b\b\b\b\b\b\b\b\b\b\b\b\b\b\r75/75 [==============================] - 0s 6ms/step - loss: 0.0577 - accuracy: 0.9882 - lr: 3.0000e-05\n",
            "Epoch 37/200\n",
            "67/75 [=========================>....] - ETA: 0s - loss: 0.0510 - accuracy: 0.9911"
          ]
        },
        {
          "output_type": "stream",
          "name": "stderr",
          "text": [
            "WARNING:tensorflow:Early stopping conditioned on metric `val_loss` which is not available. Available metrics are: loss,accuracy\n",
            "WARNING:tensorflow:Learning rate reduction is conditioned on metric `val_loss` which is not available. Available metrics are: loss,accuracy,lr\n"
          ]
        },
        {
          "output_type": "stream",
          "name": "stdout",
          "text": [
            "\b\b\b\b\b\b\b\b\b\b\b\b\b\b\b\b\b\b\b\b\b\b\b\b\b\b\b\b\b\b\b\b\b\b\b\b\b\b\b\b\b\b\b\b\b\b\b\b\b\b\b\b\b\b\b\b\b\b\b\b\b\b\b\b\b\b\b\b\b\b\b\b\b\b\b\b\b\b\b\b\b\b\r75/75 [==============================] - 0s 6ms/step - loss: 0.0509 - accuracy: 0.9907 - lr: 3.0000e-05\n",
            "Epoch 38/200\n",
            "69/75 [==========================>...] - ETA: 0s - loss: 0.0510 - accuracy: 0.9873"
          ]
        },
        {
          "output_type": "stream",
          "name": "stderr",
          "text": [
            "WARNING:tensorflow:Early stopping conditioned on metric `val_loss` which is not available. Available metrics are: loss,accuracy\n",
            "WARNING:tensorflow:Learning rate reduction is conditioned on metric `val_loss` which is not available. Available metrics are: loss,accuracy,lr\n"
          ]
        },
        {
          "output_type": "stream",
          "name": "stdout",
          "text": [
            "\b\b\b\b\b\b\b\b\b\b\b\b\b\b\b\b\b\b\b\b\b\b\b\b\b\b\b\b\b\b\b\b\b\b\b\b\b\b\b\b\b\b\b\b\b\b\b\b\b\b\b\b\b\b\b\b\b\b\b\b\b\b\b\b\b\b\b\b\b\b\b\b\b\b\b\b\b\b\b\b\b\b\r75/75 [==============================] - 0s 6ms/step - loss: 0.0500 - accuracy: 0.9878 - lr: 3.0000e-05\n",
            "Epoch 39/200\n",
            "66/75 [=========================>....] - ETA: 0s - loss: 0.0468 - accuracy: 0.9901"
          ]
        },
        {
          "output_type": "stream",
          "name": "stderr",
          "text": [
            "WARNING:tensorflow:Early stopping conditioned on metric `val_loss` which is not available. Available metrics are: loss,accuracy\n",
            "WARNING:tensorflow:Learning rate reduction is conditioned on metric `val_loss` which is not available. Available metrics are: loss,accuracy,lr\n"
          ]
        },
        {
          "output_type": "stream",
          "name": "stdout",
          "text": [
            "\b\b\b\b\b\b\b\b\b\b\b\b\b\b\b\b\b\b\b\b\b\b\b\b\b\b\b\b\b\b\b\b\b\b\b\b\b\b\b\b\b\b\b\b\b\b\b\b\b\b\b\b\b\b\b\b\b\b\b\b\b\b\b\b\b\b\b\b\b\b\b\b\b\b\b\b\b\b\b\b\b\b\r75/75 [==============================] - 0s 6ms/step - loss: 0.0454 - accuracy: 0.9907 - lr: 3.0000e-05\n",
            "Epoch 40/200\n",
            "75/75 [==============================] - ETA: 0s - loss: 0.0424 - accuracy: 0.9895"
          ]
        },
        {
          "output_type": "stream",
          "name": "stderr",
          "text": [
            "WARNING:tensorflow:Early stopping conditioned on metric `val_loss` which is not available. Available metrics are: loss,accuracy\n",
            "WARNING:tensorflow:Learning rate reduction is conditioned on metric `val_loss` which is not available. Available metrics are: loss,accuracy,lr\n"
          ]
        },
        {
          "output_type": "stream",
          "name": "stdout",
          "text": [
            "\b\b\b\b\b\b\b\b\b\b\b\b\b\b\b\b\b\b\b\b\b\b\b\b\b\b\b\b\b\b\b\b\b\b\b\b\b\b\b\b\b\b\b\b\b\b\b\b\b\b\b\b\b\b\b\b\b\b\b\b\b\b\b\b\b\b\b\b\b\b\b\b\b\b\b\b\b\b\b\b\b\b\r75/75 [==============================] - 0s 6ms/step - loss: 0.0424 - accuracy: 0.9895 - lr: 3.0000e-05\n",
            "Epoch 41/200\n",
            "69/75 [==========================>...] - ETA: 0s - loss: 0.0413 - accuracy: 0.9914"
          ]
        },
        {
          "output_type": "stream",
          "name": "stderr",
          "text": [
            "WARNING:tensorflow:Early stopping conditioned on metric `val_loss` which is not available. Available metrics are: loss,accuracy\n",
            "WARNING:tensorflow:Learning rate reduction is conditioned on metric `val_loss` which is not available. Available metrics are: loss,accuracy,lr\n"
          ]
        },
        {
          "output_type": "stream",
          "name": "stdout",
          "text": [
            "\b\b\b\b\b\b\b\b\b\b\b\b\b\b\b\b\b\b\b\b\b\b\b\b\b\b\b\b\b\b\b\b\b\b\b\b\b\b\b\b\b\b\b\b\b\b\b\b\b\b\b\b\b\b\b\b\b\b\b\b\b\b\b\b\b\b\b\b\b\b\b\b\b\b\b\b\b\b\b\b\b\b\r75/75 [==============================] - 0s 6ms/step - loss: 0.0400 - accuracy: 0.9920 - lr: 3.0000e-05\n",
            "Epoch 42/200\n",
            "70/75 [===========================>..] - ETA: 0s - loss: 0.0333 - accuracy: 0.9937"
          ]
        },
        {
          "output_type": "stream",
          "name": "stderr",
          "text": [
            "WARNING:tensorflow:Early stopping conditioned on metric `val_loss` which is not available. Available metrics are: loss,accuracy\n",
            "WARNING:tensorflow:Learning rate reduction is conditioned on metric `val_loss` which is not available. Available metrics are: loss,accuracy,lr\n"
          ]
        },
        {
          "output_type": "stream",
          "name": "stdout",
          "text": [
            "\b\b\b\b\b\b\b\b\b\b\b\b\b\b\b\b\b\b\b\b\b\b\b\b\b\b\b\b\b\b\b\b\b\b\b\b\b\b\b\b\b\b\b\b\b\b\b\b\b\b\b\b\b\b\b\b\b\b\b\b\b\b\b\b\b\b\b\b\b\b\b\b\b\b\b\b\b\b\b\b\b\b\r75/75 [==============================] - 0s 6ms/step - loss: 0.0329 - accuracy: 0.9937 - lr: 3.0000e-05\n",
            "Epoch 43/200\n",
            "72/75 [===========================>..] - ETA: 0s - loss: 0.0317 - accuracy: 0.9944"
          ]
        },
        {
          "output_type": "stream",
          "name": "stderr",
          "text": [
            "WARNING:tensorflow:Early stopping conditioned on metric `val_loss` which is not available. Available metrics are: loss,accuracy\n",
            "WARNING:tensorflow:Learning rate reduction is conditioned on metric `val_loss` which is not available. Available metrics are: loss,accuracy,lr\n"
          ]
        },
        {
          "output_type": "stream",
          "name": "stdout",
          "text": [
            "\b\b\b\b\b\b\b\b\b\b\b\b\b\b\b\b\b\b\b\b\b\b\b\b\b\b\b\b\b\b\b\b\b\b\b\b\b\b\b\b\b\b\b\b\b\b\b\b\b\b\b\b\b\b\b\b\b\b\b\b\b\b\b\b\b\b\b\b\b\b\b\b\b\b\b\b\b\b\b\b\b\b\r75/75 [==============================] - 0s 6ms/step - loss: 0.0318 - accuracy: 0.9941 - lr: 3.0000e-05\n",
            "Epoch 44/200\n",
            "75/75 [==============================] - ETA: 0s - loss: 0.0324 - accuracy: 0.9937"
          ]
        },
        {
          "output_type": "stream",
          "name": "stderr",
          "text": [
            "WARNING:tensorflow:Early stopping conditioned on metric `val_loss` which is not available. Available metrics are: loss,accuracy\n",
            "WARNING:tensorflow:Learning rate reduction is conditioned on metric `val_loss` which is not available. Available metrics are: loss,accuracy,lr\n"
          ]
        },
        {
          "output_type": "stream",
          "name": "stdout",
          "text": [
            "\b\b\b\b\b\b\b\b\b\b\b\b\b\b\b\b\b\b\b\b\b\b\b\b\b\b\b\b\b\b\b\b\b\b\b\b\b\b\b\b\b\b\b\b\b\b\b\b\b\b\b\b\b\b\b\b\b\b\b\b\b\b\b\b\b\b\b\b\b\b\b\b\b\b\b\b\b\b\b\b\b\b\r75/75 [==============================] - 0s 6ms/step - loss: 0.0324 - accuracy: 0.9937 - lr: 3.0000e-05\n",
            "Epoch 45/200\n",
            "69/75 [==========================>...] - ETA: 0s - loss: 0.0285 - accuracy: 0.9955"
          ]
        },
        {
          "output_type": "stream",
          "name": "stderr",
          "text": [
            "WARNING:tensorflow:Early stopping conditioned on metric `val_loss` which is not available. Available metrics are: loss,accuracy\n",
            "WARNING:tensorflow:Learning rate reduction is conditioned on metric `val_loss` which is not available. Available metrics are: loss,accuracy,lr\n"
          ]
        },
        {
          "output_type": "stream",
          "name": "stdout",
          "text": [
            "\b\b\b\b\b\b\b\b\b\b\b\b\b\b\b\b\b\b\b\b\b\b\b\b\b\b\b\b\b\b\b\b\b\b\b\b\b\b\b\b\b\b\b\b\b\b\b\b\b\b\b\b\b\b\b\b\b\b\b\b\b\b\b\b\b\b\b\b\b\b\b\b\b\b\b\b\b\b\b\b\b\b\r75/75 [==============================] - 0s 6ms/step - loss: 0.0279 - accuracy: 0.9958 - lr: 3.0000e-05\n",
            "Epoch 46/200\n",
            "75/75 [==============================] - ETA: 0s - loss: 0.0280 - accuracy: 0.9954"
          ]
        },
        {
          "output_type": "stream",
          "name": "stderr",
          "text": [
            "WARNING:tensorflow:Early stopping conditioned on metric `val_loss` which is not available. Available metrics are: loss,accuracy\n",
            "WARNING:tensorflow:Learning rate reduction is conditioned on metric `val_loss` which is not available. Available metrics are: loss,accuracy,lr\n"
          ]
        },
        {
          "output_type": "stream",
          "name": "stdout",
          "text": [
            "\b\b\b\b\b\b\b\b\b\b\b\b\b\b\b\b\b\b\b\b\b\b\b\b\b\b\b\b\b\b\b\b\b\b\b\b\b\b\b\b\b\b\b\b\b\b\b\b\b\b\b\b\b\b\b\b\b\b\b\b\b\b\b\b\b\b\b\b\b\b\b\b\b\b\b\b\b\b\b\b\b\b\r75/75 [==============================] - 0s 6ms/step - loss: 0.0280 - accuracy: 0.9954 - lr: 3.0000e-05\n",
            "Epoch 47/200\n",
            "72/75 [===========================>..] - ETA: 0s - loss: 0.0254 - accuracy: 0.9974"
          ]
        },
        {
          "output_type": "stream",
          "name": "stderr",
          "text": [
            "WARNING:tensorflow:Early stopping conditioned on metric `val_loss` which is not available. Available metrics are: loss,accuracy\n",
            "WARNING:tensorflow:Learning rate reduction is conditioned on metric `val_loss` which is not available. Available metrics are: loss,accuracy,lr\n"
          ]
        },
        {
          "output_type": "stream",
          "name": "stdout",
          "text": [
            "\b\b\b\b\b\b\b\b\b\b\b\b\b\b\b\b\b\b\b\b\b\b\b\b\b\b\b\b\b\b\b\b\b\b\b\b\b\b\b\b\b\b\b\b\b\b\b\b\b\b\b\b\b\b\b\b\b\b\b\b\b\b\b\b\b\b\b\b\b\b\b\b\b\b\b\b\b\b\b\b\b\b\r75/75 [==============================] - 1s 9ms/step - loss: 0.0255 - accuracy: 0.9971 - lr: 3.0000e-05\n",
            "Epoch 48/200\n",
            "70/75 [===========================>..] - ETA: 0s - loss: 0.0242 - accuracy: 0.9969"
          ]
        },
        {
          "output_type": "stream",
          "name": "stderr",
          "text": [
            "WARNING:tensorflow:Early stopping conditioned on metric `val_loss` which is not available. Available metrics are: loss,accuracy\n",
            "WARNING:tensorflow:Learning rate reduction is conditioned on metric `val_loss` which is not available. Available metrics are: loss,accuracy,lr\n"
          ]
        },
        {
          "output_type": "stream",
          "name": "stdout",
          "text": [
            "\b\b\b\b\b\b\b\b\b\b\b\b\b\b\b\b\b\b\b\b\b\b\b\b\b\b\b\b\b\b\b\b\b\b\b\b\b\b\b\b\b\b\b\b\b\b\b\b\b\b\b\b\b\b\b\b\b\b\b\b\b\b\b\b\b\b\b\b\b\b\b\b\b\b\b\b\b\b\b\b\b\b\r75/75 [==============================] - 1s 8ms/step - loss: 0.0234 - accuracy: 0.9971 - lr: 3.0000e-05\n",
            "Epoch 49/200\n",
            "72/75 [===========================>..] - ETA: 0s - loss: 0.0233 - accuracy: 0.9952"
          ]
        },
        {
          "output_type": "stream",
          "name": "stderr",
          "text": [
            "WARNING:tensorflow:Early stopping conditioned on metric `val_loss` which is not available. Available metrics are: loss,accuracy\n",
            "WARNING:tensorflow:Learning rate reduction is conditioned on metric `val_loss` which is not available. Available metrics are: loss,accuracy,lr\n"
          ]
        },
        {
          "output_type": "stream",
          "name": "stdout",
          "text": [
            "\b\b\b\b\b\b\b\b\b\b\b\b\b\b\b\b\b\b\b\b\b\b\b\b\b\b\b\b\b\b\b\b\b\b\b\b\b\b\b\b\b\b\b\b\b\b\b\b\b\b\b\b\b\b\b\b\b\b\b\b\b\b\b\b\b\b\b\b\b\b\b\b\b\b\b\b\b\b\b\b\b\b\r75/75 [==============================] - 1s 8ms/step - loss: 0.0232 - accuracy: 0.9954 - lr: 3.0000e-05\n",
            "Epoch 50/200\n",
            "72/75 [===========================>..] - ETA: 0s - loss: 0.0193 - accuracy: 0.9970"
          ]
        },
        {
          "output_type": "stream",
          "name": "stderr",
          "text": [
            "WARNING:tensorflow:Early stopping conditioned on metric `val_loss` which is not available. Available metrics are: loss,accuracy\n",
            "WARNING:tensorflow:Learning rate reduction is conditioned on metric `val_loss` which is not available. Available metrics are: loss,accuracy,lr\n"
          ]
        },
        {
          "output_type": "stream",
          "name": "stdout",
          "text": [
            "\b\b\b\b\b\b\b\b\b\b\b\b\b\b\b\b\b\b\b\b\b\b\b\b\b\b\b\b\b\b\b\b\b\b\b\b\b\b\b\b\b\b\b\b\b\b\b\b\b\b\b\b\b\b\b\b\b\b\b\b\b\b\b\b\b\b\b\b\b\b\b\b\b\b\b\b\b\b\b\b\b\b\r75/75 [==============================] - 1s 8ms/step - loss: 0.0196 - accuracy: 0.9971 - lr: 3.0000e-05\n",
            "Epoch 51/200\n",
            "75/75 [==============================] - ETA: 0s - loss: 0.0181 - accuracy: 0.9983"
          ]
        },
        {
          "output_type": "stream",
          "name": "stderr",
          "text": [
            "WARNING:tensorflow:Early stopping conditioned on metric `val_loss` which is not available. Available metrics are: loss,accuracy\n",
            "WARNING:tensorflow:Learning rate reduction is conditioned on metric `val_loss` which is not available. Available metrics are: loss,accuracy,lr\n"
          ]
        },
        {
          "output_type": "stream",
          "name": "stdout",
          "text": [
            "\b\b\b\b\b\b\b\b\b\b\b\b\b\b\b\b\b\b\b\b\b\b\b\b\b\b\b\b\b\b\b\b\b\b\b\b\b\b\b\b\b\b\b\b\b\b\b\b\b\b\b\b\b\b\b\b\b\b\b\b\b\b\b\b\b\b\b\b\b\b\b\b\b\b\b\b\b\b\b\b\b\b\r75/75 [==============================] - 1s 8ms/step - loss: 0.0181 - accuracy: 0.9983 - lr: 3.0000e-05\n",
            "Epoch 52/200\n",
            "71/75 [===========================>..] - ETA: 0s - loss: 0.0177 - accuracy: 0.9978"
          ]
        },
        {
          "output_type": "stream",
          "name": "stderr",
          "text": [
            "WARNING:tensorflow:Early stopping conditioned on metric `val_loss` which is not available. Available metrics are: loss,accuracy\n",
            "WARNING:tensorflow:Learning rate reduction is conditioned on metric `val_loss` which is not available. Available metrics are: loss,accuracy,lr\n"
          ]
        },
        {
          "output_type": "stream",
          "name": "stdout",
          "text": [
            "\b\b\b\b\b\b\b\b\b\b\b\b\b\b\b\b\b\b\b\b\b\b\b\b\b\b\b\b\b\b\b\b\b\b\b\b\b\b\b\b\b\b\b\b\b\b\b\b\b\b\b\b\b\b\b\b\b\b\b\b\b\b\b\b\b\b\b\b\b\b\b\b\b\b\b\b\b\b\b\b\b\b\r75/75 [==============================] - 1s 8ms/step - loss: 0.0174 - accuracy: 0.9979 - lr: 3.0000e-05\n",
            "Epoch 53/200\n",
            "69/75 [==========================>...] - ETA: 0s - loss: 0.0157 - accuracy: 0.9977"
          ]
        },
        {
          "output_type": "stream",
          "name": "stderr",
          "text": [
            "WARNING:tensorflow:Early stopping conditioned on metric `val_loss` which is not available. Available metrics are: loss,accuracy\n",
            "WARNING:tensorflow:Learning rate reduction is conditioned on metric `val_loss` which is not available. Available metrics are: loss,accuracy,lr\n"
          ]
        },
        {
          "output_type": "stream",
          "name": "stdout",
          "text": [
            "\b\b\b\b\b\b\b\b\b\b\b\b\b\b\b\b\b\b\b\b\b\b\b\b\b\b\b\b\b\b\b\b\b\b\b\b\b\b\b\b\b\b\b\b\b\b\b\b\b\b\b\b\b\b\b\b\b\b\b\b\b\b\b\b\b\b\b\b\b\b\b\b\b\b\b\b\b\b\b\b\b\b\r75/75 [==============================] - 1s 8ms/step - loss: 0.0151 - accuracy: 0.9979 - lr: 3.0000e-05\n",
            "Epoch 54/200\n",
            "70/75 [===========================>..] - ETA: 0s - loss: 0.0153 - accuracy: 0.9973"
          ]
        },
        {
          "output_type": "stream",
          "name": "stderr",
          "text": [
            "WARNING:tensorflow:Early stopping conditioned on metric `val_loss` which is not available. Available metrics are: loss,accuracy\n",
            "WARNING:tensorflow:Learning rate reduction is conditioned on metric `val_loss` which is not available. Available metrics are: loss,accuracy,lr\n"
          ]
        },
        {
          "output_type": "stream",
          "name": "stdout",
          "text": [
            "\b\b\b\b\b\b\b\b\b\b\b\b\b\b\b\b\b\b\b\b\b\b\b\b\b\b\b\b\b\b\b\b\b\b\b\b\b\b\b\b\b\b\b\b\b\b\b\b\b\b\b\b\b\b\b\b\b\b\b\b\b\b\b\b\b\b\b\b\b\b\b\b\b\b\b\b\b\b\b\b\b\b\r75/75 [==============================] - 0s 6ms/step - loss: 0.0151 - accuracy: 0.9975 - lr: 3.0000e-05\n",
            "Epoch 55/200\n",
            "75/75 [==============================] - ETA: 0s - loss: 0.0137 - accuracy: 0.9975"
          ]
        },
        {
          "output_type": "stream",
          "name": "stderr",
          "text": [
            "WARNING:tensorflow:Early stopping conditioned on metric `val_loss` which is not available. Available metrics are: loss,accuracy\n",
            "WARNING:tensorflow:Learning rate reduction is conditioned on metric `val_loss` which is not available. Available metrics are: loss,accuracy,lr\n"
          ]
        },
        {
          "output_type": "stream",
          "name": "stdout",
          "text": [
            "\b\b\b\b\b\b\b\b\b\b\b\b\b\b\b\b\b\b\b\b\b\b\b\b\b\b\b\b\b\b\b\b\b\b\b\b\b\b\b\b\b\b\b\b\b\b\b\b\b\b\b\b\b\b\b\b\b\b\b\b\b\b\b\b\b\b\b\b\b\b\b\b\b\b\b\b\b\b\b\b\b\b\r75/75 [==============================] - 0s 6ms/step - loss: 0.0137 - accuracy: 0.9975 - lr: 3.0000e-05\n",
            "Epoch 56/200\n",
            "73/75 [============================>.] - ETA: 0s - loss: 0.0132 - accuracy: 0.9979"
          ]
        },
        {
          "output_type": "stream",
          "name": "stderr",
          "text": [
            "WARNING:tensorflow:Early stopping conditioned on metric `val_loss` which is not available. Available metrics are: loss,accuracy\n",
            "WARNING:tensorflow:Learning rate reduction is conditioned on metric `val_loss` which is not available. Available metrics are: loss,accuracy,lr\n"
          ]
        },
        {
          "output_type": "stream",
          "name": "stdout",
          "text": [
            "\b\b\b\b\b\b\b\b\b\b\b\b\b\b\b\b\b\b\b\b\b\b\b\b\b\b\b\b\b\b\b\b\b\b\b\b\b\b\b\b\b\b\b\b\b\b\b\b\b\b\b\b\b\b\b\b\b\b\b\b\b\b\b\b\b\b\b\b\b\b\b\b\b\b\b\b\b\b\b\b\b\b\r75/75 [==============================] - 0s 6ms/step - loss: 0.0131 - accuracy: 0.9979 - lr: 3.0000e-05\n",
            "Epoch 57/200\n",
            "74/75 [============================>.] - ETA: 0s - loss: 0.0115 - accuracy: 0.9987"
          ]
        },
        {
          "output_type": "stream",
          "name": "stderr",
          "text": [
            "WARNING:tensorflow:Early stopping conditioned on metric `val_loss` which is not available. Available metrics are: loss,accuracy\n",
            "WARNING:tensorflow:Learning rate reduction is conditioned on metric `val_loss` which is not available. Available metrics are: loss,accuracy,lr\n"
          ]
        },
        {
          "output_type": "stream",
          "name": "stdout",
          "text": [
            "\b\b\b\b\b\b\b\b\b\b\b\b\b\b\b\b\b\b\b\b\b\b\b\b\b\b\b\b\b\b\b\b\b\b\b\b\b\b\b\b\b\b\b\b\b\b\b\b\b\b\b\b\b\b\b\b\b\b\b\b\b\b\b\b\b\b\b\b\b\b\b\b\b\b\b\b\b\b\b\b\b\b\r75/75 [==============================] - 0s 6ms/step - loss: 0.0115 - accuracy: 0.9987 - lr: 3.0000e-05\n",
            "Epoch 58/200\n",
            "67/75 [=========================>....] - ETA: 0s - loss: 0.0119 - accuracy: 0.9986"
          ]
        },
        {
          "output_type": "stream",
          "name": "stderr",
          "text": [
            "WARNING:tensorflow:Early stopping conditioned on metric `val_loss` which is not available. Available metrics are: loss,accuracy\n",
            "WARNING:tensorflow:Learning rate reduction is conditioned on metric `val_loss` which is not available. Available metrics are: loss,accuracy,lr\n"
          ]
        },
        {
          "output_type": "stream",
          "name": "stdout",
          "text": [
            "\b\b\b\b\b\b\b\b\b\b\b\b\b\b\b\b\b\b\b\b\b\b\b\b\b\b\b\b\b\b\b\b\b\b\b\b\b\b\b\b\b\b\b\b\b\b\b\b\b\b\b\b\b\b\b\b\b\b\b\b\b\b\b\b\b\b\b\b\b\b\b\b\b\b\b\b\b\b\b\b\b\b\r75/75 [==============================] - 0s 6ms/step - loss: 0.0114 - accuracy: 0.9987 - lr: 3.0000e-05\n",
            "Epoch 59/200\n",
            "74/75 [============================>.] - ETA: 0s - loss: 0.0104 - accuracy: 0.9987"
          ]
        },
        {
          "output_type": "stream",
          "name": "stderr",
          "text": [
            "WARNING:tensorflow:Early stopping conditioned on metric `val_loss` which is not available. Available metrics are: loss,accuracy\n",
            "WARNING:tensorflow:Learning rate reduction is conditioned on metric `val_loss` which is not available. Available metrics are: loss,accuracy,lr\n"
          ]
        },
        {
          "output_type": "stream",
          "name": "stdout",
          "text": [
            "\b\b\b\b\b\b\b\b\b\b\b\b\b\b\b\b\b\b\b\b\b\b\b\b\b\b\b\b\b\b\b\b\b\b\b\b\b\b\b\b\b\b\b\b\b\b\b\b\b\b\b\b\b\b\b\b\b\b\b\b\b\b\b\b\b\b\b\b\b\b\b\b\b\b\b\b\b\b\b\b\b\b\r75/75 [==============================] - 0s 6ms/step - loss: 0.0104 - accuracy: 0.9987 - lr: 3.0000e-05\n",
            "Epoch 60/200\n",
            "75/75 [==============================] - ETA: 0s - loss: 0.0107 - accuracy: 0.9983"
          ]
        },
        {
          "output_type": "stream",
          "name": "stderr",
          "text": [
            "WARNING:tensorflow:Early stopping conditioned on metric `val_loss` which is not available. Available metrics are: loss,accuracy\n",
            "WARNING:tensorflow:Learning rate reduction is conditioned on metric `val_loss` which is not available. Available metrics are: loss,accuracy,lr\n"
          ]
        },
        {
          "output_type": "stream",
          "name": "stdout",
          "text": [
            "\b\b\b\b\b\b\b\b\b\b\b\b\b\b\b\b\b\b\b\b\b\b\b\b\b\b\b\b\b\b\b\b\b\b\b\b\b\b\b\b\b\b\b\b\b\b\b\b\b\b\b\b\b\b\b\b\b\b\b\b\b\b\b\b\b\b\b\b\b\b\b\b\b\b\b\b\b\b\b\b\b\b\r75/75 [==============================] - 0s 6ms/step - loss: 0.0107 - accuracy: 0.9983 - lr: 3.0000e-05\n",
            "Epoch 61/200\n",
            "67/75 [=========================>....] - ETA: 0s - loss: 0.0093 - accuracy: 0.9977"
          ]
        },
        {
          "output_type": "stream",
          "name": "stderr",
          "text": [
            "WARNING:tensorflow:Early stopping conditioned on metric `val_loss` which is not available. Available metrics are: loss,accuracy\n",
            "WARNING:tensorflow:Learning rate reduction is conditioned on metric `val_loss` which is not available. Available metrics are: loss,accuracy,lr\n"
          ]
        },
        {
          "output_type": "stream",
          "name": "stdout",
          "text": [
            "\b\b\b\b\b\b\b\b\b\b\b\b\b\b\b\b\b\b\b\b\b\b\b\b\b\b\b\b\b\b\b\b\b\b\b\b\b\b\b\b\b\b\b\b\b\b\b\b\b\b\b\b\b\b\b\b\b\b\b\b\b\b\b\b\b\b\b\b\b\b\b\b\b\b\b\b\b\b\b\b\b\b\r75/75 [==============================] - 0s 6ms/step - loss: 0.0089 - accuracy: 0.9979 - lr: 3.0000e-05\n",
            "Epoch 62/200\n",
            "75/75 [==============================] - ETA: 0s - loss: 0.0090 - accuracy: 0.9983"
          ]
        },
        {
          "output_type": "stream",
          "name": "stderr",
          "text": [
            "WARNING:tensorflow:Early stopping conditioned on metric `val_loss` which is not available. Available metrics are: loss,accuracy\n",
            "WARNING:tensorflow:Learning rate reduction is conditioned on metric `val_loss` which is not available. Available metrics are: loss,accuracy,lr\n"
          ]
        },
        {
          "output_type": "stream",
          "name": "stdout",
          "text": [
            "\b\b\b\b\b\b\b\b\b\b\b\b\b\b\b\b\b\b\b\b\b\b\b\b\b\b\b\b\b\b\b\b\b\b\b\b\b\b\b\b\b\b\b\b\b\b\b\b\b\b\b\b\b\b\b\b\b\b\b\b\b\b\b\b\b\b\b\b\b\b\b\b\b\b\b\b\b\b\b\b\b\b\r75/75 [==============================] - 0s 6ms/step - loss: 0.0090 - accuracy: 0.9983 - lr: 3.0000e-05\n",
            "Epoch 63/200\n",
            "70/75 [===========================>..] - ETA: 0s - loss: 0.0085 - accuracy: 0.9987"
          ]
        },
        {
          "output_type": "stream",
          "name": "stderr",
          "text": [
            "WARNING:tensorflow:Early stopping conditioned on metric `val_loss` which is not available. Available metrics are: loss,accuracy\n",
            "WARNING:tensorflow:Learning rate reduction is conditioned on metric `val_loss` which is not available. Available metrics are: loss,accuracy,lr\n"
          ]
        },
        {
          "output_type": "stream",
          "name": "stdout",
          "text": [
            "\b\b\b\b\b\b\b\b\b\b\b\b\b\b\b\b\b\b\b\b\b\b\b\b\b\b\b\b\b\b\b\b\b\b\b\b\b\b\b\b\b\b\b\b\b\b\b\b\b\b\b\b\b\b\b\b\b\b\b\b\b\b\b\b\b\b\b\b\b\b\b\b\b\b\b\b\b\b\b\b\b\b\r75/75 [==============================] - 0s 6ms/step - loss: 0.0086 - accuracy: 0.9987 - lr: 3.0000e-05\n",
            "Epoch 64/200\n",
            "67/75 [=========================>....] - ETA: 0s - loss: 0.0081 - accuracy: 0.9991"
          ]
        },
        {
          "output_type": "stream",
          "name": "stderr",
          "text": [
            "WARNING:tensorflow:Early stopping conditioned on metric `val_loss` which is not available. Available metrics are: loss,accuracy\n",
            "WARNING:tensorflow:Learning rate reduction is conditioned on metric `val_loss` which is not available. Available metrics are: loss,accuracy,lr\n"
          ]
        },
        {
          "output_type": "stream",
          "name": "stdout",
          "text": [
            "\b\b\b\b\b\b\b\b\b\b\b\b\b\b\b\b\b\b\b\b\b\b\b\b\b\b\b\b\b\b\b\b\b\b\b\b\b\b\b\b\b\b\b\b\b\b\b\b\b\b\b\b\b\b\b\b\b\b\b\b\b\b\b\b\b\b\b\b\b\b\b\b\b\b\b\b\b\b\b\b\b\b\r75/75 [==============================] - 0s 6ms/step - loss: 0.0082 - accuracy: 0.9992 - lr: 3.0000e-05\n",
            "Epoch 65/200\n",
            "70/75 [===========================>..] - ETA: 0s - loss: 0.0069 - accuracy: 0.9996"
          ]
        },
        {
          "output_type": "stream",
          "name": "stderr",
          "text": [
            "WARNING:tensorflow:Early stopping conditioned on metric `val_loss` which is not available. Available metrics are: loss,accuracy\n",
            "WARNING:tensorflow:Learning rate reduction is conditioned on metric `val_loss` which is not available. Available metrics are: loss,accuracy,lr\n"
          ]
        },
        {
          "output_type": "stream",
          "name": "stdout",
          "text": [
            "\b\b\b\b\b\b\b\b\b\b\b\b\b\b\b\b\b\b\b\b\b\b\b\b\b\b\b\b\b\b\b\b\b\b\b\b\b\b\b\b\b\b\b\b\b\b\b\b\b\b\b\b\b\b\b\b\b\b\b\b\b\b\b\b\b\b\b\b\b\b\b\b\b\b\b\b\b\b\b\b\b\b\r75/75 [==============================] - 0s 6ms/step - loss: 0.0069 - accuracy: 0.9996 - lr: 3.0000e-05\n",
            "Epoch 66/200\n",
            "73/75 [============================>.] - ETA: 0s - loss: 0.0077 - accuracy: 0.9983"
          ]
        },
        {
          "output_type": "stream",
          "name": "stderr",
          "text": [
            "WARNING:tensorflow:Early stopping conditioned on metric `val_loss` which is not available. Available metrics are: loss,accuracy\n",
            "WARNING:tensorflow:Learning rate reduction is conditioned on metric `val_loss` which is not available. Available metrics are: loss,accuracy,lr\n"
          ]
        },
        {
          "output_type": "stream",
          "name": "stdout",
          "text": [
            "\b\b\b\b\b\b\b\b\b\b\b\b\b\b\b\b\b\b\b\b\b\b\b\b\b\b\b\b\b\b\b\b\b\b\b\b\b\b\b\b\b\b\b\b\b\b\b\b\b\b\b\b\b\b\b\b\b\b\b\b\b\b\b\b\b\b\b\b\b\b\b\b\b\b\b\b\b\b\b\b\b\b\r75/75 [==============================] - 0s 6ms/step - loss: 0.0077 - accuracy: 0.9983 - lr: 3.0000e-05\n",
            "Epoch 67/200\n",
            "73/75 [============================>.] - ETA: 0s - loss: 0.0069 - accuracy: 0.9987"
          ]
        },
        {
          "output_type": "stream",
          "name": "stderr",
          "text": [
            "WARNING:tensorflow:Early stopping conditioned on metric `val_loss` which is not available. Available metrics are: loss,accuracy\n",
            "WARNING:tensorflow:Learning rate reduction is conditioned on metric `val_loss` which is not available. Available metrics are: loss,accuracy,lr\n"
          ]
        },
        {
          "output_type": "stream",
          "name": "stdout",
          "text": [
            "\b\b\b\b\b\b\b\b\b\b\b\b\b\b\b\b\b\b\b\b\b\b\b\b\b\b\b\b\b\b\b\b\b\b\b\b\b\b\b\b\b\b\b\b\b\b\b\b\b\b\b\b\b\b\b\b\b\b\b\b\b\b\b\b\b\b\b\b\b\b\b\b\b\b\b\b\b\b\b\b\b\b\r75/75 [==============================] - 0s 6ms/step - loss: 0.0069 - accuracy: 0.9987 - lr: 3.0000e-05\n",
            "Epoch 68/200\n",
            "66/75 [=========================>....] - ETA: 0s - loss: 0.0062 - accuracy: 0.9995"
          ]
        },
        {
          "output_type": "stream",
          "name": "stderr",
          "text": [
            "WARNING:tensorflow:Early stopping conditioned on metric `val_loss` which is not available. Available metrics are: loss,accuracy\n",
            "WARNING:tensorflow:Learning rate reduction is conditioned on metric `val_loss` which is not available. Available metrics are: loss,accuracy,lr\n"
          ]
        },
        {
          "output_type": "stream",
          "name": "stdout",
          "text": [
            "\b\b\b\b\b\b\b\b\b\b\b\b\b\b\b\b\b\b\b\b\b\b\b\b\b\b\b\b\b\b\b\b\b\b\b\b\b\b\b\b\b\b\b\b\b\b\b\b\b\b\b\b\b\b\b\b\b\b\b\b\b\b\b\b\b\b\b\b\b\b\b\b\b\b\b\b\b\b\b\b\b\b\r75/75 [==============================] - 0s 6ms/step - loss: 0.0069 - accuracy: 0.9992 - lr: 3.0000e-05\n",
            "Epoch 69/200\n",
            "69/75 [==========================>...] - ETA: 0s - loss: 0.0061 - accuracy: 0.9995"
          ]
        },
        {
          "output_type": "stream",
          "name": "stderr",
          "text": [
            "WARNING:tensorflow:Early stopping conditioned on metric `val_loss` which is not available. Available metrics are: loss,accuracy\n",
            "WARNING:tensorflow:Learning rate reduction is conditioned on metric `val_loss` which is not available. Available metrics are: loss,accuracy,lr\n"
          ]
        },
        {
          "output_type": "stream",
          "name": "stdout",
          "text": [
            "\b\b\b\b\b\b\b\b\b\b\b\b\b\b\b\b\b\b\b\b\b\b\b\b\b\b\b\b\b\b\b\b\b\b\b\b\b\b\b\b\b\b\b\b\b\b\b\b\b\b\b\b\b\b\b\b\b\b\b\b\b\b\b\b\b\b\b\b\b\b\b\b\b\b\b\b\b\b\b\b\b\b\r75/75 [==============================] - 0s 6ms/step - loss: 0.0058 - accuracy: 0.9996 - lr: 3.0000e-05\n",
            "Epoch 70/200\n",
            "75/75 [==============================] - ETA: 0s - loss: 0.0068 - accuracy: 0.9983"
          ]
        },
        {
          "output_type": "stream",
          "name": "stderr",
          "text": [
            "WARNING:tensorflow:Early stopping conditioned on metric `val_loss` which is not available. Available metrics are: loss,accuracy\n",
            "WARNING:tensorflow:Learning rate reduction is conditioned on metric `val_loss` which is not available. Available metrics are: loss,accuracy,lr\n"
          ]
        },
        {
          "output_type": "stream",
          "name": "stdout",
          "text": [
            "\b\b\b\b\b\b\b\b\b\b\b\b\b\b\b\b\b\b\b\b\b\b\b\b\b\b\b\b\b\b\b\b\b\b\b\b\b\b\b\b\b\b\b\b\b\b\b\b\b\b\b\b\b\b\b\b\b\b\b\b\b\b\b\b\b\b\b\b\b\b\b\b\b\b\b\b\b\b\b\b\b\b\r75/75 [==============================] - 0s 6ms/step - loss: 0.0068 - accuracy: 0.9983 - lr: 3.0000e-05\n",
            "Epoch 71/200\n",
            "75/75 [==============================] - ETA: 0s - loss: 0.0056 - accuracy: 0.9992"
          ]
        },
        {
          "output_type": "stream",
          "name": "stderr",
          "text": [
            "WARNING:tensorflow:Early stopping conditioned on metric `val_loss` which is not available. Available metrics are: loss,accuracy\n",
            "WARNING:tensorflow:Learning rate reduction is conditioned on metric `val_loss` which is not available. Available metrics are: loss,accuracy,lr\n"
          ]
        },
        {
          "output_type": "stream",
          "name": "stdout",
          "text": [
            "\b\b\b\b\b\b\b\b\b\b\b\b\b\b\b\b\b\b\b\b\b\b\b\b\b\b\b\b\b\b\b\b\b\b\b\b\b\b\b\b\b\b\b\b\b\b\b\b\b\b\b\b\b\b\b\b\b\b\b\b\b\b\b\b\b\b\b\b\b\b\b\b\b\b\b\b\b\b\b\b\b\b\r75/75 [==============================] - 0s 6ms/step - loss: 0.0056 - accuracy: 0.9992 - lr: 3.0000e-05\n",
            "Epoch 72/200\n",
            "75/75 [==============================] - ETA: 0s - loss: 0.0055 - accuracy: 0.9987"
          ]
        },
        {
          "output_type": "stream",
          "name": "stderr",
          "text": [
            "WARNING:tensorflow:Early stopping conditioned on metric `val_loss` which is not available. Available metrics are: loss,accuracy\n",
            "WARNING:tensorflow:Learning rate reduction is conditioned on metric `val_loss` which is not available. Available metrics are: loss,accuracy,lr\n"
          ]
        },
        {
          "output_type": "stream",
          "name": "stdout",
          "text": [
            "\b\b\b\b\b\b\b\b\b\b\b\b\b\b\b\b\b\b\b\b\b\b\b\b\b\b\b\b\b\b\b\b\b\b\b\b\b\b\b\b\b\b\b\b\b\b\b\b\b\b\b\b\b\b\b\b\b\b\b\b\b\b\b\b\b\b\b\b\b\b\b\b\b\b\b\b\b\b\b\b\b\b\r75/75 [==============================] - 0s 6ms/step - loss: 0.0055 - accuracy: 0.9987 - lr: 3.0000e-05\n",
            "Epoch 73/200\n",
            "74/75 [============================>.] - ETA: 0s - loss: 0.0061 - accuracy: 0.9987"
          ]
        },
        {
          "output_type": "stream",
          "name": "stderr",
          "text": [
            "WARNING:tensorflow:Early stopping conditioned on metric `val_loss` which is not available. Available metrics are: loss,accuracy\n",
            "WARNING:tensorflow:Learning rate reduction is conditioned on metric `val_loss` which is not available. Available metrics are: loss,accuracy,lr\n"
          ]
        },
        {
          "output_type": "stream",
          "name": "stdout",
          "text": [
            "\b\b\b\b\b\b\b\b\b\b\b\b\b\b\b\b\b\b\b\b\b\b\b\b\b\b\b\b\b\b\b\b\b\b\b\b\b\b\b\b\b\b\b\b\b\b\b\b\b\b\b\b\b\b\b\b\b\b\b\b\b\b\b\b\b\b\b\b\b\b\b\b\b\b\b\b\b\b\b\b\b\b\r75/75 [==============================] - 0s 6ms/step - loss: 0.0061 - accuracy: 0.9987 - lr: 3.0000e-05\n",
            "Epoch 74/200\n",
            "73/75 [============================>.] - ETA: 0s - loss: 0.0055 - accuracy: 0.9987"
          ]
        },
        {
          "output_type": "stream",
          "name": "stderr",
          "text": [
            "WARNING:tensorflow:Early stopping conditioned on metric `val_loss` which is not available. Available metrics are: loss,accuracy\n",
            "WARNING:tensorflow:Learning rate reduction is conditioned on metric `val_loss` which is not available. Available metrics are: loss,accuracy,lr\n"
          ]
        },
        {
          "output_type": "stream",
          "name": "stdout",
          "text": [
            "\b\b\b\b\b\b\b\b\b\b\b\b\b\b\b\b\b\b\b\b\b\b\b\b\b\b\b\b\b\b\b\b\b\b\b\b\b\b\b\b\b\b\b\b\b\b\b\b\b\b\b\b\b\b\b\b\b\b\b\b\b\b\b\b\b\b\b\b\b\b\b\b\b\b\b\b\b\b\b\b\b\b\r75/75 [==============================] - 0s 6ms/step - loss: 0.0055 - accuracy: 0.9987 - lr: 3.0000e-05\n",
            "Epoch 75/200\n",
            "75/75 [==============================] - ETA: 0s - loss: 0.0052 - accuracy: 0.9987"
          ]
        },
        {
          "output_type": "stream",
          "name": "stderr",
          "text": [
            "WARNING:tensorflow:Early stopping conditioned on metric `val_loss` which is not available. Available metrics are: loss,accuracy\n",
            "WARNING:tensorflow:Learning rate reduction is conditioned on metric `val_loss` which is not available. Available metrics are: loss,accuracy,lr\n"
          ]
        },
        {
          "output_type": "stream",
          "name": "stdout",
          "text": [
            "\b\b\b\b\b\b\b\b\b\b\b\b\b\b\b\b\b\b\b\b\b\b\b\b\b\b\b\b\b\b\b\b\b\b\b\b\b\b\b\b\b\b\b\b\b\b\b\b\b\b\b\b\b\b\b\b\b\b\b\b\b\b\b\b\b\b\b\b\b\b\b\b\b\b\b\b\b\b\b\b\b\b\r75/75 [==============================] - 0s 6ms/step - loss: 0.0052 - accuracy: 0.9987 - lr: 3.0000e-05\n",
            "Epoch 76/200\n",
            "66/75 [=========================>....] - ETA: 0s - loss: 0.0048 - accuracy: 0.9995"
          ]
        },
        {
          "output_type": "stream",
          "name": "stderr",
          "text": [
            "WARNING:tensorflow:Early stopping conditioned on metric `val_loss` which is not available. Available metrics are: loss,accuracy\n",
            "WARNING:tensorflow:Learning rate reduction is conditioned on metric `val_loss` which is not available. Available metrics are: loss,accuracy,lr\n"
          ]
        },
        {
          "output_type": "stream",
          "name": "stdout",
          "text": [
            "\b\b\b\b\b\b\b\b\b\b\b\b\b\b\b\b\b\b\b\b\b\b\b\b\b\b\b\b\b\b\b\b\b\b\b\b\b\b\b\b\b\b\b\b\b\b\b\b\b\b\b\b\b\b\b\b\b\b\b\b\b\b\b\b\b\b\b\b\b\b\b\b\b\b\b\b\b\b\b\b\b\b\r75/75 [==============================] - 0s 6ms/step - loss: 0.0048 - accuracy: 0.9996 - lr: 3.0000e-05\n",
            "Epoch 77/200\n",
            "73/75 [============================>.] - ETA: 0s - loss: 0.0043 - accuracy: 0.9987"
          ]
        },
        {
          "output_type": "stream",
          "name": "stderr",
          "text": [
            "WARNING:tensorflow:Early stopping conditioned on metric `val_loss` which is not available. Available metrics are: loss,accuracy\n",
            "WARNING:tensorflow:Learning rate reduction is conditioned on metric `val_loss` which is not available. Available metrics are: loss,accuracy,lr\n"
          ]
        },
        {
          "output_type": "stream",
          "name": "stdout",
          "text": [
            "\b\b\b\b\b\b\b\b\b\b\b\b\b\b\b\b\b\b\b\b\b\b\b\b\b\b\b\b\b\b\b\b\b\b\b\b\b\b\b\b\b\b\b\b\b\b\b\b\b\b\b\b\b\b\b\b\b\b\b\b\b\b\b\b\b\b\b\b\b\b\b\b\b\b\b\b\b\b\b\b\b\b\r75/75 [==============================] - 0s 6ms/step - loss: 0.0043 - accuracy: 0.9987 - lr: 3.0000e-05\n",
            "Epoch 78/200\n",
            "75/75 [==============================] - ETA: 0s - loss: 0.0042 - accuracy: 0.9996"
          ]
        },
        {
          "output_type": "stream",
          "name": "stderr",
          "text": [
            "WARNING:tensorflow:Early stopping conditioned on metric `val_loss` which is not available. Available metrics are: loss,accuracy\n",
            "WARNING:tensorflow:Learning rate reduction is conditioned on metric `val_loss` which is not available. Available metrics are: loss,accuracy,lr\n"
          ]
        },
        {
          "output_type": "stream",
          "name": "stdout",
          "text": [
            "\b\b\b\b\b\b\b\b\b\b\b\b\b\b\b\b\b\b\b\b\b\b\b\b\b\b\b\b\b\b\b\b\b\b\b\b\b\b\b\b\b\b\b\b\b\b\b\b\b\b\b\b\b\b\b\b\b\b\b\b\b\b\b\b\b\b\b\b\b\b\b\b\b\b\b\b\b\b\b\b\b\b\r75/75 [==============================] - 0s 6ms/step - loss: 0.0042 - accuracy: 0.9996 - lr: 3.0000e-05\n",
            "Epoch 79/200\n",
            "75/75 [==============================] - ETA: 0s - loss: 0.0047 - accuracy: 0.9992"
          ]
        },
        {
          "output_type": "stream",
          "name": "stderr",
          "text": [
            "WARNING:tensorflow:Early stopping conditioned on metric `val_loss` which is not available. Available metrics are: loss,accuracy\n",
            "WARNING:tensorflow:Learning rate reduction is conditioned on metric `val_loss` which is not available. Available metrics are: loss,accuracy,lr\n"
          ]
        },
        {
          "output_type": "stream",
          "name": "stdout",
          "text": [
            "\b\b\b\b\b\b\b\b\b\b\b\b\b\b\b\b\b\b\b\b\b\b\b\b\b\b\b\b\b\b\b\b\b\b\b\b\b\b\b\b\b\b\b\b\b\b\b\b\b\b\b\b\b\b\b\b\b\b\b\b\b\b\b\b\b\b\b\b\b\b\b\b\b\b\b\b\b\b\b\b\b\b\r75/75 [==============================] - 0s 6ms/step - loss: 0.0047 - accuracy: 0.9992 - lr: 3.0000e-05\n",
            "Epoch 80/200\n",
            "68/75 [==========================>...] - ETA: 0s - loss: 0.0047 - accuracy: 0.9991"
          ]
        },
        {
          "output_type": "stream",
          "name": "stderr",
          "text": [
            "WARNING:tensorflow:Early stopping conditioned on metric `val_loss` which is not available. Available metrics are: loss,accuracy\n",
            "WARNING:tensorflow:Learning rate reduction is conditioned on metric `val_loss` which is not available. Available metrics are: loss,accuracy,lr\n"
          ]
        },
        {
          "output_type": "stream",
          "name": "stdout",
          "text": [
            "\b\b\b\b\b\b\b\b\b\b\b\b\b\b\b\b\b\b\b\b\b\b\b\b\b\b\b\b\b\b\b\b\b\b\b\b\b\b\b\b\b\b\b\b\b\b\b\b\b\b\b\b\b\b\b\b\b\b\b\b\b\b\b\b\b\b\b\b\b\b\b\b\b\b\b\b\b\b\b\b\b\b\r75/75 [==============================] - 0s 6ms/step - loss: 0.0045 - accuracy: 0.9992 - lr: 3.0000e-05\n",
            "Epoch 81/200\n",
            "74/75 [============================>.] - ETA: 0s - loss: 0.0045 - accuracy: 0.9992"
          ]
        },
        {
          "output_type": "stream",
          "name": "stderr",
          "text": [
            "WARNING:tensorflow:Early stopping conditioned on metric `val_loss` which is not available. Available metrics are: loss,accuracy\n",
            "WARNING:tensorflow:Learning rate reduction is conditioned on metric `val_loss` which is not available. Available metrics are: loss,accuracy,lr\n"
          ]
        },
        {
          "output_type": "stream",
          "name": "stdout",
          "text": [
            "\b\b\b\b\b\b\b\b\b\b\b\b\b\b\b\b\b\b\b\b\b\b\b\b\b\b\b\b\b\b\b\b\b\b\b\b\b\b\b\b\b\b\b\b\b\b\b\b\b\b\b\b\b\b\b\b\b\b\b\b\b\b\b\b\b\b\b\b\b\b\b\b\b\b\b\b\b\b\b\b\b\b\r75/75 [==============================] - 0s 6ms/step - loss: 0.0044 - accuracy: 0.9992 - lr: 3.0000e-05\n",
            "Epoch 82/200\n",
            "66/75 [=========================>....] - ETA: 0s - loss: 0.0034 - accuracy: 0.9995"
          ]
        },
        {
          "output_type": "stream",
          "name": "stderr",
          "text": [
            "WARNING:tensorflow:Early stopping conditioned on metric `val_loss` which is not available. Available metrics are: loss,accuracy\n",
            "WARNING:tensorflow:Learning rate reduction is conditioned on metric `val_loss` which is not available. Available metrics are: loss,accuracy,lr\n"
          ]
        },
        {
          "output_type": "stream",
          "name": "stdout",
          "text": [
            "\b\b\b\b\b\b\b\b\b\b\b\b\b\b\b\b\b\b\b\b\b\b\b\b\b\b\b\b\b\b\b\b\b\b\b\b\b\b\b\b\b\b\b\b\b\b\b\b\b\b\b\b\b\b\b\b\b\b\b\b\b\b\b\b\b\b\b\b\b\b\b\b\b\b\b\b\b\b\b\b\b\b\r75/75 [==============================] - 0s 6ms/step - loss: 0.0034 - accuracy: 0.9996 - lr: 3.0000e-05\n",
            "Epoch 83/200\n",
            "67/75 [=========================>....] - ETA: 0s - loss: 0.0024 - accuracy: 1.0000"
          ]
        },
        {
          "output_type": "stream",
          "name": "stderr",
          "text": [
            "WARNING:tensorflow:Early stopping conditioned on metric `val_loss` which is not available. Available metrics are: loss,accuracy\n",
            "WARNING:tensorflow:Learning rate reduction is conditioned on metric `val_loss` which is not available. Available metrics are: loss,accuracy,lr\n"
          ]
        },
        {
          "output_type": "stream",
          "name": "stdout",
          "text": [
            "\b\b\b\b\b\b\b\b\b\b\b\b\b\b\b\b\b\b\b\b\b\b\b\b\b\b\b\b\b\b\b\b\b\b\b\b\b\b\b\b\b\b\b\b\b\b\b\b\b\b\b\b\b\b\b\b\b\b\b\b\b\b\b\b\b\b\b\b\b\b\b\b\b\b\b\b\b\b\b\b\b\b\r75/75 [==============================] - 0s 6ms/step - loss: 0.0040 - accuracy: 0.9992 - lr: 3.0000e-05\n",
            "Epoch 84/200\n",
            "73/75 [============================>.] - ETA: 0s - loss: 0.0037 - accuracy: 0.9996"
          ]
        },
        {
          "output_type": "stream",
          "name": "stderr",
          "text": [
            "WARNING:tensorflow:Early stopping conditioned on metric `val_loss` which is not available. Available metrics are: loss,accuracy\n",
            "WARNING:tensorflow:Learning rate reduction is conditioned on metric `val_loss` which is not available. Available metrics are: loss,accuracy,lr\n"
          ]
        },
        {
          "output_type": "stream",
          "name": "stdout",
          "text": [
            "\b\b\b\b\b\b\b\b\b\b\b\b\b\b\b\b\b\b\b\b\b\b\b\b\b\b\b\b\b\b\b\b\b\b\b\b\b\b\b\b\b\b\b\b\b\b\b\b\b\b\b\b\b\b\b\b\b\b\b\b\b\b\b\b\b\b\b\b\b\b\b\b\b\b\b\b\b\b\b\b\b\b\r75/75 [==============================] - 0s 6ms/step - loss: 0.0037 - accuracy: 0.9996 - lr: 3.0000e-05\n",
            "Epoch 85/200\n",
            "74/75 [============================>.] - ETA: 0s - loss: 0.0041 - accuracy: 0.9987"
          ]
        },
        {
          "output_type": "stream",
          "name": "stderr",
          "text": [
            "WARNING:tensorflow:Early stopping conditioned on metric `val_loss` which is not available. Available metrics are: loss,accuracy\n",
            "WARNING:tensorflow:Learning rate reduction is conditioned on metric `val_loss` which is not available. Available metrics are: loss,accuracy,lr\n"
          ]
        },
        {
          "output_type": "stream",
          "name": "stdout",
          "text": [
            "\b\b\b\b\b\b\b\b\b\b\b\b\b\b\b\b\b\b\b\b\b\b\b\b\b\b\b\b\b\b\b\b\b\b\b\b\b\b\b\b\b\b\b\b\b\b\b\b\b\b\b\b\b\b\b\b\b\b\b\b\b\b\b\b\b\b\b\b\b\b\b\b\b\b\b\b\b\b\b\b\b\b\r75/75 [==============================] - 0s 6ms/step - loss: 0.0041 - accuracy: 0.9987 - lr: 3.0000e-05\n",
            "Epoch 86/200\n",
            "73/75 [============================>.] - ETA: 0s - loss: 0.0031 - accuracy: 0.9996"
          ]
        },
        {
          "output_type": "stream",
          "name": "stderr",
          "text": [
            "WARNING:tensorflow:Early stopping conditioned on metric `val_loss` which is not available. Available metrics are: loss,accuracy\n",
            "WARNING:tensorflow:Learning rate reduction is conditioned on metric `val_loss` which is not available. Available metrics are: loss,accuracy,lr\n"
          ]
        },
        {
          "output_type": "stream",
          "name": "stdout",
          "text": [
            "\b\b\b\b\b\b\b\b\b\b\b\b\b\b\b\b\b\b\b\b\b\b\b\b\b\b\b\b\b\b\b\b\b\b\b\b\b\b\b\b\b\b\b\b\b\b\b\b\b\b\b\b\b\b\b\b\b\b\b\b\b\b\b\b\b\b\b\b\b\b\b\b\b\b\b\b\b\b\b\b\b\b\r75/75 [==============================] - 0s 6ms/step - loss: 0.0040 - accuracy: 0.9992 - lr: 3.0000e-05\n",
            "Epoch 87/200\n",
            "75/75 [==============================] - ETA: 0s - loss: 0.0041 - accuracy: 0.9983"
          ]
        },
        {
          "output_type": "stream",
          "name": "stderr",
          "text": [
            "WARNING:tensorflow:Early stopping conditioned on metric `val_loss` which is not available. Available metrics are: loss,accuracy\n",
            "WARNING:tensorflow:Learning rate reduction is conditioned on metric `val_loss` which is not available. Available metrics are: loss,accuracy,lr\n"
          ]
        },
        {
          "output_type": "stream",
          "name": "stdout",
          "text": [
            "\b\b\b\b\b\b\b\b\b\b\b\b\b\b\b\b\b\b\b\b\b\b\b\b\b\b\b\b\b\b\b\b\b\b\b\b\b\b\b\b\b\b\b\b\b\b\b\b\b\b\b\b\b\b\b\b\b\b\b\b\b\b\b\b\b\b\b\b\b\b\b\b\b\b\b\b\b\b\b\b\b\b\r75/75 [==============================] - 1s 7ms/step - loss: 0.0041 - accuracy: 0.9983 - lr: 3.0000e-05\n",
            "Epoch 88/200\n",
            "70/75 [===========================>..] - ETA: 0s - loss: 0.0039 - accuracy: 0.9991"
          ]
        },
        {
          "output_type": "stream",
          "name": "stderr",
          "text": [
            "WARNING:tensorflow:Early stopping conditioned on metric `val_loss` which is not available. Available metrics are: loss,accuracy\n",
            "WARNING:tensorflow:Learning rate reduction is conditioned on metric `val_loss` which is not available. Available metrics are: loss,accuracy,lr\n"
          ]
        },
        {
          "output_type": "stream",
          "name": "stdout",
          "text": [
            "\b\b\b\b\b\b\b\b\b\b\b\b\b\b\b\b\b\b\b\b\b\b\b\b\b\b\b\b\b\b\b\b\b\b\b\b\b\b\b\b\b\b\b\b\b\b\b\b\b\b\b\b\b\b\b\b\b\b\b\b\b\b\b\b\b\b\b\b\b\b\b\b\b\b\b\b\b\b\b\b\b\b\r75/75 [==============================] - 1s 8ms/step - loss: 0.0038 - accuracy: 0.9992 - lr: 3.0000e-05\n",
            "Epoch 89/200\n",
            "74/75 [============================>.] - ETA: 0s - loss: 0.0037 - accuracy: 0.9992"
          ]
        },
        {
          "output_type": "stream",
          "name": "stderr",
          "text": [
            "WARNING:tensorflow:Early stopping conditioned on metric `val_loss` which is not available. Available metrics are: loss,accuracy\n",
            "WARNING:tensorflow:Learning rate reduction is conditioned on metric `val_loss` which is not available. Available metrics are: loss,accuracy,lr\n"
          ]
        },
        {
          "output_type": "stream",
          "name": "stdout",
          "text": [
            "\b\b\b\b\b\b\b\b\b\b\b\b\b\b\b\b\b\b\b\b\b\b\b\b\b\b\b\b\b\b\b\b\b\b\b\b\b\b\b\b\b\b\b\b\b\b\b\b\b\b\b\b\b\b\b\b\b\b\b\b\b\b\b\b\b\b\b\b\b\b\b\b\b\b\b\b\b\b\b\b\b\b\r75/75 [==============================] - 1s 8ms/step - loss: 0.0037 - accuracy: 0.9992 - lr: 3.0000e-05\n",
            "Epoch 90/200\n",
            "74/75 [============================>.] - ETA: 0s - loss: 0.0038 - accuracy: 0.9992"
          ]
        },
        {
          "output_type": "stream",
          "name": "stderr",
          "text": [
            "WARNING:tensorflow:Early stopping conditioned on metric `val_loss` which is not available. Available metrics are: loss,accuracy\n",
            "WARNING:tensorflow:Learning rate reduction is conditioned on metric `val_loss` which is not available. Available metrics are: loss,accuracy,lr\n"
          ]
        },
        {
          "output_type": "stream",
          "name": "stdout",
          "text": [
            "\b\b\b\b\b\b\b\b\b\b\b\b\b\b\b\b\b\b\b\b\b\b\b\b\b\b\b\b\b\b\b\b\b\b\b\b\b\b\b\b\b\b\b\b\b\b\b\b\b\b\b\b\b\b\b\b\b\b\b\b\b\b\b\b\b\b\b\b\b\b\b\b\b\b\b\b\b\b\b\b\b\b\r75/75 [==============================] - 1s 7ms/step - loss: 0.0038 - accuracy: 0.9992 - lr: 3.0000e-05\n",
            "Epoch 91/200\n",
            "69/75 [==========================>...] - ETA: 0s - loss: 0.0037 - accuracy: 0.9986"
          ]
        },
        {
          "output_type": "stream",
          "name": "stderr",
          "text": [
            "WARNING:tensorflow:Early stopping conditioned on metric `val_loss` which is not available. Available metrics are: loss,accuracy\n",
            "WARNING:tensorflow:Learning rate reduction is conditioned on metric `val_loss` which is not available. Available metrics are: loss,accuracy,lr\n"
          ]
        },
        {
          "output_type": "stream",
          "name": "stdout",
          "text": [
            "\b\b\b\b\b\b\b\b\b\b\b\b\b\b\b\b\b\b\b\b\b\b\b\b\b\b\b\b\b\b\b\b\b\b\b\b\b\b\b\b\b\b\b\b\b\b\b\b\b\b\b\b\b\b\b\b\b\b\b\b\b\b\b\b\b\b\b\b\b\b\b\b\b\b\b\b\b\b\b\b\b\b\r75/75 [==============================] - 1s 8ms/step - loss: 0.0035 - accuracy: 0.9987 - lr: 3.0000e-05\n",
            "Epoch 92/200\n",
            "73/75 [============================>.] - ETA: 0s - loss: 0.0025 - accuracy: 1.0000"
          ]
        },
        {
          "output_type": "stream",
          "name": "stderr",
          "text": [
            "WARNING:tensorflow:Early stopping conditioned on metric `val_loss` which is not available. Available metrics are: loss,accuracy\n",
            "WARNING:tensorflow:Learning rate reduction is conditioned on metric `val_loss` which is not available. Available metrics are: loss,accuracy,lr\n"
          ]
        },
        {
          "output_type": "stream",
          "name": "stdout",
          "text": [
            "\b\b\b\b\b\b\b\b\b\b\b\b\b\b\b\b\b\b\b\b\b\b\b\b\b\b\b\b\b\b\b\b\b\b\b\b\b\b\b\b\b\b\b\b\b\b\b\b\b\b\b\b\b\b\b\b\b\b\b\b\b\b\b\b\b\b\b\b\b\b\b\b\b\b\b\b\b\b\b\b\b\b\r75/75 [==============================] - 1s 8ms/step - loss: 0.0024 - accuracy: 1.0000 - lr: 3.0000e-05\n",
            "Epoch 93/200\n",
            "68/75 [==========================>...] - ETA: 0s - loss: 0.0027 - accuracy: 0.9995"
          ]
        },
        {
          "output_type": "stream",
          "name": "stderr",
          "text": [
            "WARNING:tensorflow:Early stopping conditioned on metric `val_loss` which is not available. Available metrics are: loss,accuracy\n",
            "WARNING:tensorflow:Learning rate reduction is conditioned on metric `val_loss` which is not available. Available metrics are: loss,accuracy,lr\n"
          ]
        },
        {
          "output_type": "stream",
          "name": "stdout",
          "text": [
            "\b\b\b\b\b\b\b\b\b\b\b\b\b\b\b\b\b\b\b\b\b\b\b\b\b\b\b\b\b\b\b\b\b\b\b\b\b\b\b\b\b\b\b\b\b\b\b\b\b\b\b\b\b\b\b\b\b\b\b\b\b\b\b\b\b\b\b\b\b\b\b\b\b\b\b\b\b\b\b\b\b\b\r75/75 [==============================] - 0s 7ms/step - loss: 0.0026 - accuracy: 0.9996 - lr: 3.0000e-05\n",
            "Epoch 94/200\n",
            "75/75 [==============================] - ETA: 0s - loss: 0.0030 - accuracy: 0.9992"
          ]
        },
        {
          "output_type": "stream",
          "name": "stderr",
          "text": [
            "WARNING:tensorflow:Early stopping conditioned on metric `val_loss` which is not available. Available metrics are: loss,accuracy\n",
            "WARNING:tensorflow:Learning rate reduction is conditioned on metric `val_loss` which is not available. Available metrics are: loss,accuracy,lr\n"
          ]
        },
        {
          "output_type": "stream",
          "name": "stdout",
          "text": [
            "\b\b\b\b\b\b\b\b\b\b\b\b\b\b\b\b\b\b\b\b\b\b\b\b\b\b\b\b\b\b\b\b\b\b\b\b\b\b\b\b\b\b\b\b\b\b\b\b\b\b\b\b\b\b\b\b\b\b\b\b\b\b\b\b\b\b\b\b\b\b\b\b\b\b\b\b\b\b\b\b\b\b\r75/75 [==============================] - 0s 6ms/step - loss: 0.0030 - accuracy: 0.9992 - lr: 3.0000e-05\n",
            "Epoch 95/200\n",
            "73/75 [============================>.] - ETA: 0s - loss: 0.0032 - accuracy: 0.9991"
          ]
        },
        {
          "output_type": "stream",
          "name": "stderr",
          "text": [
            "WARNING:tensorflow:Early stopping conditioned on metric `val_loss` which is not available. Available metrics are: loss,accuracy\n",
            "WARNING:tensorflow:Learning rate reduction is conditioned on metric `val_loss` which is not available. Available metrics are: loss,accuracy,lr\n"
          ]
        },
        {
          "output_type": "stream",
          "name": "stdout",
          "text": [
            "\b\b\b\b\b\b\b\b\b\b\b\b\b\b\b\b\b\b\b\b\b\b\b\b\b\b\b\b\b\b\b\b\b\b\b\b\b\b\b\b\b\b\b\b\b\b\b\b\b\b\b\b\b\b\b\b\b\b\b\b\b\b\b\b\b\b\b\b\b\b\b\b\b\b\b\b\b\b\b\b\b\b\r75/75 [==============================] - 0s 6ms/step - loss: 0.0032 - accuracy: 0.9992 - lr: 3.0000e-05\n",
            "Epoch 96/200\n",
            "66/75 [=========================>....] - ETA: 0s - loss: 0.0022 - accuracy: 0.9995"
          ]
        },
        {
          "output_type": "stream",
          "name": "stderr",
          "text": [
            "WARNING:tensorflow:Early stopping conditioned on metric `val_loss` which is not available. Available metrics are: loss,accuracy\n",
            "WARNING:tensorflow:Learning rate reduction is conditioned on metric `val_loss` which is not available. Available metrics are: loss,accuracy,lr\n"
          ]
        },
        {
          "output_type": "stream",
          "name": "stdout",
          "text": [
            "\b\b\b\b\b\b\b\b\b\b\b\b\b\b\b\b\b\b\b\b\b\b\b\b\b\b\b\b\b\b\b\b\b\b\b\b\b\b\b\b\b\b\b\b\b\b\b\b\b\b\b\b\b\b\b\b\b\b\b\b\b\b\b\b\b\b\b\b\b\b\b\b\b\b\b\b\b\b\b\b\b\b\r75/75 [==============================] - 0s 6ms/step - loss: 0.0025 - accuracy: 0.9992 - lr: 3.0000e-05\n",
            "Epoch 97/200\n",
            "74/75 [============================>.] - ETA: 0s - loss: 0.0024 - accuracy: 0.9992"
          ]
        },
        {
          "output_type": "stream",
          "name": "stderr",
          "text": [
            "WARNING:tensorflow:Early stopping conditioned on metric `val_loss` which is not available. Available metrics are: loss,accuracy\n",
            "WARNING:tensorflow:Learning rate reduction is conditioned on metric `val_loss` which is not available. Available metrics are: loss,accuracy,lr\n"
          ]
        },
        {
          "output_type": "stream",
          "name": "stdout",
          "text": [
            "\b\b\b\b\b\b\b\b\b\b\b\b\b\b\b\b\b\b\b\b\b\b\b\b\b\b\b\b\b\b\b\b\b\b\b\b\b\b\b\b\b\b\b\b\b\b\b\b\b\b\b\b\b\b\b\b\b\b\b\b\b\b\b\b\b\b\b\b\b\b\b\b\b\b\b\b\b\b\b\b\b\b\r75/75 [==============================] - 0s 6ms/step - loss: 0.0024 - accuracy: 0.9992 - lr: 3.0000e-05\n",
            "Epoch 98/200\n",
            "67/75 [=========================>....] - ETA: 0s - loss: 0.0026 - accuracy: 0.9991"
          ]
        },
        {
          "output_type": "stream",
          "name": "stderr",
          "text": [
            "WARNING:tensorflow:Early stopping conditioned on metric `val_loss` which is not available. Available metrics are: loss,accuracy\n",
            "WARNING:tensorflow:Learning rate reduction is conditioned on metric `val_loss` which is not available. Available metrics are: loss,accuracy,lr\n"
          ]
        },
        {
          "output_type": "stream",
          "name": "stdout",
          "text": [
            "\b\b\b\b\b\b\b\b\b\b\b\b\b\b\b\b\b\b\b\b\b\b\b\b\b\b\b\b\b\b\b\b\b\b\b\b\b\b\b\b\b\b\b\b\b\b\b\b\b\b\b\b\b\b\b\b\b\b\b\b\b\b\b\b\b\b\b\b\b\b\b\b\b\b\b\b\b\b\b\b\b\b\r75/75 [==============================] - 0s 6ms/step - loss: 0.0027 - accuracy: 0.9992 - lr: 3.0000e-05\n",
            "Epoch 99/200\n",
            "74/75 [============================>.] - ETA: 0s - loss: 0.0018 - accuracy: 1.0000"
          ]
        },
        {
          "output_type": "stream",
          "name": "stderr",
          "text": [
            "WARNING:tensorflow:Early stopping conditioned on metric `val_loss` which is not available. Available metrics are: loss,accuracy\n",
            "WARNING:tensorflow:Learning rate reduction is conditioned on metric `val_loss` which is not available. Available metrics are: loss,accuracy,lr\n"
          ]
        },
        {
          "output_type": "stream",
          "name": "stdout",
          "text": [
            "\b\b\b\b\b\b\b\b\b\b\b\b\b\b\b\b\b\b\b\b\b\b\b\b\b\b\b\b\b\b\b\b\b\b\b\b\b\b\b\b\b\b\b\b\b\b\b\b\b\b\b\b\b\b\b\b\b\b\b\b\b\b\b\b\b\b\b\b\b\b\b\b\b\b\b\b\b\b\b\b\b\b\r75/75 [==============================] - 0s 6ms/step - loss: 0.0018 - accuracy: 1.0000 - lr: 3.0000e-05\n",
            "Epoch 100/200\n",
            "67/75 [=========================>....] - ETA: 0s - loss: 0.0034 - accuracy: 0.9995"
          ]
        },
        {
          "output_type": "stream",
          "name": "stderr",
          "text": [
            "WARNING:tensorflow:Early stopping conditioned on metric `val_loss` which is not available. Available metrics are: loss,accuracy\n",
            "WARNING:tensorflow:Learning rate reduction is conditioned on metric `val_loss` which is not available. Available metrics are: loss,accuracy,lr\n"
          ]
        },
        {
          "output_type": "stream",
          "name": "stdout",
          "text": [
            "\b\b\b\b\b\b\b\b\b\b\b\b\b\b\b\b\b\b\b\b\b\b\b\b\b\b\b\b\b\b\b\b\b\b\b\b\b\b\b\b\b\b\b\b\b\b\b\b\b\b\b\b\b\b\b\b\b\b\b\b\b\b\b\b\b\b\b\b\b\b\b\b\b\b\b\b\b\b\b\b\b\b\r75/75 [==============================] - 0s 6ms/step - loss: 0.0032 - accuracy: 0.9996 - lr: 3.0000e-05\n",
            "Epoch 101/200\n",
            "66/75 [=========================>....] - ETA: 0s - loss: 0.0027 - accuracy: 0.9995"
          ]
        },
        {
          "output_type": "stream",
          "name": "stderr",
          "text": [
            "WARNING:tensorflow:Early stopping conditioned on metric `val_loss` which is not available. Available metrics are: loss,accuracy\n",
            "WARNING:tensorflow:Learning rate reduction is conditioned on metric `val_loss` which is not available. Available metrics are: loss,accuracy,lr\n"
          ]
        },
        {
          "output_type": "stream",
          "name": "stdout",
          "text": [
            "\b\b\b\b\b\b\b\b\b\b\b\b\b\b\b\b\b\b\b\b\b\b\b\b\b\b\b\b\b\b\b\b\b\b\b\b\b\b\b\b\b\b\b\b\b\b\b\b\b\b\b\b\b\b\b\b\b\b\b\b\b\b\b\b\b\b\b\b\b\b\b\b\b\b\b\b\b\b\b\b\b\b\r75/75 [==============================] - 0s 6ms/step - loss: 0.0030 - accuracy: 0.9992 - lr: 3.0000e-05\n",
            "Epoch 102/200\n",
            "72/75 [===========================>..] - ETA: 0s - loss: 0.0019 - accuracy: 1.0000"
          ]
        },
        {
          "output_type": "stream",
          "name": "stderr",
          "text": [
            "WARNING:tensorflow:Early stopping conditioned on metric `val_loss` which is not available. Available metrics are: loss,accuracy\n",
            "WARNING:tensorflow:Learning rate reduction is conditioned on metric `val_loss` which is not available. Available metrics are: loss,accuracy,lr\n"
          ]
        },
        {
          "output_type": "stream",
          "name": "stdout",
          "text": [
            "\b\b\b\b\b\b\b\b\b\b\b\b\b\b\b\b\b\b\b\b\b\b\b\b\b\b\b\b\b\b\b\b\b\b\b\b\b\b\b\b\b\b\b\b\b\b\b\b\b\b\b\b\b\b\b\b\b\b\b\b\b\b\b\b\b\b\b\b\b\b\b\b\b\b\b\b\b\b\b\b\b\b\r75/75 [==============================] - 0s 6ms/step - loss: 0.0019 - accuracy: 1.0000 - lr: 3.0000e-05\n",
            "Epoch 103/200\n",
            "67/75 [=========================>....] - ETA: 0s - loss: 0.0025 - accuracy: 0.9995"
          ]
        },
        {
          "output_type": "stream",
          "name": "stderr",
          "text": [
            "WARNING:tensorflow:Early stopping conditioned on metric `val_loss` which is not available. Available metrics are: loss,accuracy\n",
            "WARNING:tensorflow:Learning rate reduction is conditioned on metric `val_loss` which is not available. Available metrics are: loss,accuracy,lr\n"
          ]
        },
        {
          "output_type": "stream",
          "name": "stdout",
          "text": [
            "\b\b\b\b\b\b\b\b\b\b\b\b\b\b\b\b\b\b\b\b\b\b\b\b\b\b\b\b\b\b\b\b\b\b\b\b\b\b\b\b\b\b\b\b\b\b\b\b\b\b\b\b\b\b\b\b\b\b\b\b\b\b\b\b\b\b\b\b\b\b\b\b\b\b\b\b\b\b\b\b\b\b\r75/75 [==============================] - 0s 6ms/step - loss: 0.0024 - accuracy: 0.9996 - lr: 3.0000e-05\n",
            "Epoch 104/200\n",
            "67/75 [=========================>....] - ETA: 0s - loss: 0.0017 - accuracy: 1.0000"
          ]
        },
        {
          "output_type": "stream",
          "name": "stderr",
          "text": [
            "WARNING:tensorflow:Early stopping conditioned on metric `val_loss` which is not available. Available metrics are: loss,accuracy\n",
            "WARNING:tensorflow:Learning rate reduction is conditioned on metric `val_loss` which is not available. Available metrics are: loss,accuracy,lr\n"
          ]
        },
        {
          "output_type": "stream",
          "name": "stdout",
          "text": [
            "\b\b\b\b\b\b\b\b\b\b\b\b\b\b\b\b\b\b\b\b\b\b\b\b\b\b\b\b\b\b\b\b\b\b\b\b\b\b\b\b\b\b\b\b\b\b\b\b\b\b\b\b\b\b\b\b\b\b\b\b\b\b\b\b\b\b\b\b\b\b\b\b\b\b\b\b\b\b\b\b\b\b\r75/75 [==============================] - 0s 6ms/step - loss: 0.0017 - accuracy: 1.0000 - lr: 3.0000e-05\n",
            "Epoch 105/200\n",
            "74/75 [============================>.] - ETA: 0s - loss: 0.0024 - accuracy: 0.9987"
          ]
        },
        {
          "output_type": "stream",
          "name": "stderr",
          "text": [
            "WARNING:tensorflow:Early stopping conditioned on metric `val_loss` which is not available. Available metrics are: loss,accuracy\n",
            "WARNING:tensorflow:Learning rate reduction is conditioned on metric `val_loss` which is not available. Available metrics are: loss,accuracy,lr\n"
          ]
        },
        {
          "output_type": "stream",
          "name": "stdout",
          "text": [
            "\b\b\b\b\b\b\b\b\b\b\b\b\b\b\b\b\b\b\b\b\b\b\b\b\b\b\b\b\b\b\b\b\b\b\b\b\b\b\b\b\b\b\b\b\b\b\b\b\b\b\b\b\b\b\b\b\b\b\b\b\b\b\b\b\b\b\b\b\b\b\b\b\b\b\b\b\b\b\b\b\b\b\r75/75 [==============================] - 0s 6ms/step - loss: 0.0024 - accuracy: 0.9987 - lr: 3.0000e-05\n",
            "Epoch 106/200\n",
            "74/75 [============================>.] - ETA: 0s - loss: 0.0027 - accuracy: 0.9992"
          ]
        },
        {
          "output_type": "stream",
          "name": "stderr",
          "text": [
            "WARNING:tensorflow:Early stopping conditioned on metric `val_loss` which is not available. Available metrics are: loss,accuracy\n",
            "WARNING:tensorflow:Learning rate reduction is conditioned on metric `val_loss` which is not available. Available metrics are: loss,accuracy,lr\n"
          ]
        },
        {
          "output_type": "stream",
          "name": "stdout",
          "text": [
            "\b\b\b\b\b\b\b\b\b\b\b\b\b\b\b\b\b\b\b\b\b\b\b\b\b\b\b\b\b\b\b\b\b\b\b\b\b\b\b\b\b\b\b\b\b\b\b\b\b\b\b\b\b\b\b\b\b\b\b\b\b\b\b\b\b\b\b\b\b\b\b\b\b\b\b\b\b\b\b\b\b\b\r75/75 [==============================] - 0s 6ms/step - loss: 0.0027 - accuracy: 0.9992 - lr: 3.0000e-05\n",
            "Epoch 107/200\n",
            "75/75 [==============================] - ETA: 0s - loss: 0.0026 - accuracy: 0.9992"
          ]
        },
        {
          "output_type": "stream",
          "name": "stderr",
          "text": [
            "WARNING:tensorflow:Early stopping conditioned on metric `val_loss` which is not available. Available metrics are: loss,accuracy\n",
            "WARNING:tensorflow:Learning rate reduction is conditioned on metric `val_loss` which is not available. Available metrics are: loss,accuracy,lr\n"
          ]
        },
        {
          "output_type": "stream",
          "name": "stdout",
          "text": [
            "\b\b\b\b\b\b\b\b\b\b\b\b\b\b\b\b\b\b\b\b\b\b\b\b\b\b\b\b\b\b\b\b\b\b\b\b\b\b\b\b\b\b\b\b\b\b\b\b\b\b\b\b\b\b\b\b\b\b\b\b\b\b\b\b\b\b\b\b\b\b\b\b\b\b\b\b\b\b\b\b\b\b\r75/75 [==============================] - 0s 6ms/step - loss: 0.0026 - accuracy: 0.9992 - lr: 3.0000e-05\n",
            "Epoch 108/200\n",
            "73/75 [============================>.] - ETA: 0s - loss: 0.0027 - accuracy: 0.9991"
          ]
        },
        {
          "output_type": "stream",
          "name": "stderr",
          "text": [
            "WARNING:tensorflow:Early stopping conditioned on metric `val_loss` which is not available. Available metrics are: loss,accuracy\n",
            "WARNING:tensorflow:Learning rate reduction is conditioned on metric `val_loss` which is not available. Available metrics are: loss,accuracy,lr\n"
          ]
        },
        {
          "output_type": "stream",
          "name": "stdout",
          "text": [
            "\b\b\b\b\b\b\b\b\b\b\b\b\b\b\b\b\b\b\b\b\b\b\b\b\b\b\b\b\b\b\b\b\b\b\b\b\b\b\b\b\b\b\b\b\b\b\b\b\b\b\b\b\b\b\b\b\b\b\b\b\b\b\b\b\b\b\b\b\b\b\b\b\b\b\b\b\b\b\b\b\b\b\r75/75 [==============================] - 0s 6ms/step - loss: 0.0027 - accuracy: 0.9992 - lr: 3.0000e-05\n",
            "Epoch 109/200\n",
            "72/75 [===========================>..] - ETA: 0s - loss: 0.0022 - accuracy: 0.9996"
          ]
        },
        {
          "output_type": "stream",
          "name": "stderr",
          "text": [
            "WARNING:tensorflow:Early stopping conditioned on metric `val_loss` which is not available. Available metrics are: loss,accuracy\n",
            "WARNING:tensorflow:Learning rate reduction is conditioned on metric `val_loss` which is not available. Available metrics are: loss,accuracy,lr\n"
          ]
        },
        {
          "output_type": "stream",
          "name": "stdout",
          "text": [
            "\b\b\b\b\b\b\b\b\b\b\b\b\b\b\b\b\b\b\b\b\b\b\b\b\b\b\b\b\b\b\b\b\b\b\b\b\b\b\b\b\b\b\b\b\b\b\b\b\b\b\b\b\b\b\b\b\b\b\b\b\b\b\b\b\b\b\b\b\b\b\b\b\b\b\b\b\b\b\b\b\b\b\r75/75 [==============================] - 0s 6ms/step - loss: 0.0021 - accuracy: 0.9996 - lr: 3.0000e-05\n",
            "Epoch 110/200\n",
            "73/75 [============================>.] - ETA: 0s - loss: 0.0020 - accuracy: 0.9996"
          ]
        },
        {
          "output_type": "stream",
          "name": "stderr",
          "text": [
            "WARNING:tensorflow:Early stopping conditioned on metric `val_loss` which is not available. Available metrics are: loss,accuracy\n",
            "WARNING:tensorflow:Learning rate reduction is conditioned on metric `val_loss` which is not available. Available metrics are: loss,accuracy,lr\n"
          ]
        },
        {
          "output_type": "stream",
          "name": "stdout",
          "text": [
            "\b\b\b\b\b\b\b\b\b\b\b\b\b\b\b\b\b\b\b\b\b\b\b\b\b\b\b\b\b\b\b\b\b\b\b\b\b\b\b\b\b\b\b\b\b\b\b\b\b\b\b\b\b\b\b\b\b\b\b\b\b\b\b\b\b\b\b\b\b\b\b\b\b\b\b\b\b\b\b\b\b\b\r75/75 [==============================] - 0s 6ms/step - loss: 0.0020 - accuracy: 0.9996 - lr: 3.0000e-05\n",
            "Epoch 111/200\n",
            "67/75 [=========================>....] - ETA: 0s - loss: 0.0012 - accuracy: 1.0000"
          ]
        },
        {
          "output_type": "stream",
          "name": "stderr",
          "text": [
            "WARNING:tensorflow:Early stopping conditioned on metric `val_loss` which is not available. Available metrics are: loss,accuracy\n",
            "WARNING:tensorflow:Learning rate reduction is conditioned on metric `val_loss` which is not available. Available metrics are: loss,accuracy,lr\n"
          ]
        },
        {
          "output_type": "stream",
          "name": "stdout",
          "text": [
            "\b\b\b\b\b\b\b\b\b\b\b\b\b\b\b\b\b\b\b\b\b\b\b\b\b\b\b\b\b\b\b\b\b\b\b\b\b\b\b\b\b\b\b\b\b\b\b\b\b\b\b\b\b\b\b\b\b\b\b\b\b\b\b\b\b\b\b\b\b\b\b\b\b\b\b\b\b\b\b\b\b\b\r75/75 [==============================] - 0s 6ms/step - loss: 0.0022 - accuracy: 0.9996 - lr: 3.0000e-05\n",
            "Epoch 112/200\n",
            "74/75 [============================>.] - ETA: 0s - loss: 0.0014 - accuracy: 0.9996"
          ]
        },
        {
          "output_type": "stream",
          "name": "stderr",
          "text": [
            "WARNING:tensorflow:Early stopping conditioned on metric `val_loss` which is not available. Available metrics are: loss,accuracy\n",
            "WARNING:tensorflow:Learning rate reduction is conditioned on metric `val_loss` which is not available. Available metrics are: loss,accuracy,lr\n"
          ]
        },
        {
          "output_type": "stream",
          "name": "stdout",
          "text": [
            "\b\b\b\b\b\b\b\b\b\b\b\b\b\b\b\b\b\b\b\b\b\b\b\b\b\b\b\b\b\b\b\b\b\b\b\b\b\b\b\b\b\b\b\b\b\b\b\b\b\b\b\b\b\b\b\b\b\b\b\b\b\b\b\b\b\b\b\b\b\b\b\b\b\b\b\b\b\b\b\b\b\b\r75/75 [==============================] - 0s 6ms/step - loss: 0.0014 - accuracy: 0.9996 - lr: 3.0000e-05\n",
            "Epoch 113/200\n",
            "66/75 [=========================>....] - ETA: 0s - loss: 0.0025 - accuracy: 0.9991"
          ]
        },
        {
          "output_type": "stream",
          "name": "stderr",
          "text": [
            "WARNING:tensorflow:Early stopping conditioned on metric `val_loss` which is not available. Available metrics are: loss,accuracy\n",
            "WARNING:tensorflow:Learning rate reduction is conditioned on metric `val_loss` which is not available. Available metrics are: loss,accuracy,lr\n"
          ]
        },
        {
          "output_type": "stream",
          "name": "stdout",
          "text": [
            "\b\b\b\b\b\b\b\b\b\b\b\b\b\b\b\b\b\b\b\b\b\b\b\b\b\b\b\b\b\b\b\b\b\b\b\b\b\b\b\b\b\b\b\b\b\b\b\b\b\b\b\b\b\b\b\b\b\b\b\b\b\b\b\b\b\b\b\b\b\b\b\b\b\b\b\b\b\b\b\b\b\b\r75/75 [==============================] - 0s 6ms/step - loss: 0.0023 - accuracy: 0.9992 - lr: 3.0000e-05\n",
            "Epoch 114/200\n",
            "71/75 [===========================>..] - ETA: 0s - loss: 0.0029 - accuracy: 0.9991"
          ]
        },
        {
          "output_type": "stream",
          "name": "stderr",
          "text": [
            "WARNING:tensorflow:Early stopping conditioned on metric `val_loss` which is not available. Available metrics are: loss,accuracy\n",
            "WARNING:tensorflow:Learning rate reduction is conditioned on metric `val_loss` which is not available. Available metrics are: loss,accuracy,lr\n"
          ]
        },
        {
          "output_type": "stream",
          "name": "stdout",
          "text": [
            "\b\b\b\b\b\b\b\b\b\b\b\b\b\b\b\b\b\b\b\b\b\b\b\b\b\b\b\b\b\b\b\b\b\b\b\b\b\b\b\b\b\b\b\b\b\b\b\b\b\b\b\b\b\b\b\b\b\b\b\b\b\b\b\b\b\b\b\b\b\b\b\b\b\b\b\b\b\b\b\b\b\b\r75/75 [==============================] - 0s 6ms/step - loss: 0.0028 - accuracy: 0.9992 - lr: 3.0000e-05\n",
            "Epoch 115/200\n",
            "74/75 [============================>.] - ETA: 0s - loss: 0.0019 - accuracy: 0.9996"
          ]
        },
        {
          "output_type": "stream",
          "name": "stderr",
          "text": [
            "WARNING:tensorflow:Early stopping conditioned on metric `val_loss` which is not available. Available metrics are: loss,accuracy\n",
            "WARNING:tensorflow:Learning rate reduction is conditioned on metric `val_loss` which is not available. Available metrics are: loss,accuracy,lr\n"
          ]
        },
        {
          "output_type": "stream",
          "name": "stdout",
          "text": [
            "\b\b\b\b\b\b\b\b\b\b\b\b\b\b\b\b\b\b\b\b\b\b\b\b\b\b\b\b\b\b\b\b\b\b\b\b\b\b\b\b\b\b\b\b\b\b\b\b\b\b\b\b\b\b\b\b\b\b\b\b\b\b\b\b\b\b\b\b\b\b\b\b\b\b\b\b\b\b\b\b\b\b\r75/75 [==============================] - 0s 6ms/step - loss: 0.0019 - accuracy: 0.9996 - lr: 3.0000e-05\n",
            "Epoch 116/200\n",
            "67/75 [=========================>....] - ETA: 0s - loss: 0.0015 - accuracy: 0.9995"
          ]
        },
        {
          "output_type": "stream",
          "name": "stderr",
          "text": [
            "WARNING:tensorflow:Early stopping conditioned on metric `val_loss` which is not available. Available metrics are: loss,accuracy\n",
            "WARNING:tensorflow:Learning rate reduction is conditioned on metric `val_loss` which is not available. Available metrics are: loss,accuracy,lr\n"
          ]
        },
        {
          "output_type": "stream",
          "name": "stdout",
          "text": [
            "\b\b\b\b\b\b\b\b\b\b\b\b\b\b\b\b\b\b\b\b\b\b\b\b\b\b\b\b\b\b\b\b\b\b\b\b\b\b\b\b\b\b\b\b\b\b\b\b\b\b\b\b\b\b\b\b\b\b\b\b\b\b\b\b\b\b\b\b\b\b\b\b\b\b\b\b\b\b\b\b\b\b\r75/75 [==============================] - 0s 6ms/step - loss: 0.0014 - accuracy: 0.9996 - lr: 3.0000e-05\n",
            "Epoch 117/200\n",
            "66/75 [=========================>....] - ETA: 0s - loss: 0.0014 - accuracy: 1.0000"
          ]
        },
        {
          "output_type": "stream",
          "name": "stderr",
          "text": [
            "WARNING:tensorflow:Early stopping conditioned on metric `val_loss` which is not available. Available metrics are: loss,accuracy\n",
            "WARNING:tensorflow:Learning rate reduction is conditioned on metric `val_loss` which is not available. Available metrics are: loss,accuracy,lr\n"
          ]
        },
        {
          "output_type": "stream",
          "name": "stdout",
          "text": [
            "\b\b\b\b\b\b\b\b\b\b\b\b\b\b\b\b\b\b\b\b\b\b\b\b\b\b\b\b\b\b\b\b\b\b\b\b\b\b\b\b\b\b\b\b\b\b\b\b\b\b\b\b\b\b\b\b\b\b\b\b\b\b\b\b\b\b\b\b\b\b\b\b\b\b\b\b\b\b\b\b\b\b\r75/75 [==============================] - 0s 6ms/step - loss: 0.0013 - accuracy: 1.0000 - lr: 3.0000e-05\n",
            "Epoch 118/200\n",
            "68/75 [==========================>...] - ETA: 0s - loss: 0.0022 - accuracy: 0.9991"
          ]
        },
        {
          "output_type": "stream",
          "name": "stderr",
          "text": [
            "WARNING:tensorflow:Early stopping conditioned on metric `val_loss` which is not available. Available metrics are: loss,accuracy\n",
            "WARNING:tensorflow:Learning rate reduction is conditioned on metric `val_loss` which is not available. Available metrics are: loss,accuracy,lr\n"
          ]
        },
        {
          "output_type": "stream",
          "name": "stdout",
          "text": [
            "\b\b\b\b\b\b\b\b\b\b\b\b\b\b\b\b\b\b\b\b\b\b\b\b\b\b\b\b\b\b\b\b\b\b\b\b\b\b\b\b\b\b\b\b\b\b\b\b\b\b\b\b\b\b\b\b\b\b\b\b\b\b\b\b\b\b\b\b\b\b\b\b\b\b\b\b\b\b\b\b\b\b\r75/75 [==============================] - 0s 6ms/step - loss: 0.0021 - accuracy: 0.9992 - lr: 3.0000e-05\n",
            "Epoch 119/200\n",
            "74/75 [============================>.] - ETA: 0s - loss: 0.0028 - accuracy: 0.9987"
          ]
        },
        {
          "output_type": "stream",
          "name": "stderr",
          "text": [
            "WARNING:tensorflow:Early stopping conditioned on metric `val_loss` which is not available. Available metrics are: loss,accuracy\n",
            "WARNING:tensorflow:Learning rate reduction is conditioned on metric `val_loss` which is not available. Available metrics are: loss,accuracy,lr\n"
          ]
        },
        {
          "output_type": "stream",
          "name": "stdout",
          "text": [
            "\b\b\b\b\b\b\b\b\b\b\b\b\b\b\b\b\b\b\b\b\b\b\b\b\b\b\b\b\b\b\b\b\b\b\b\b\b\b\b\b\b\b\b\b\b\b\b\b\b\b\b\b\b\b\b\b\b\b\b\b\b\b\b\b\b\b\b\b\b\b\b\b\b\b\b\b\b\b\b\b\b\b\r75/75 [==============================] - 0s 6ms/step - loss: 0.0028 - accuracy: 0.9987 - lr: 3.0000e-05\n",
            "Epoch 120/200\n",
            "66/75 [=========================>....] - ETA: 0s - loss: 0.0019 - accuracy: 0.9991"
          ]
        },
        {
          "output_type": "stream",
          "name": "stderr",
          "text": [
            "WARNING:tensorflow:Early stopping conditioned on metric `val_loss` which is not available. Available metrics are: loss,accuracy\n",
            "WARNING:tensorflow:Learning rate reduction is conditioned on metric `val_loss` which is not available. Available metrics are: loss,accuracy,lr\n"
          ]
        },
        {
          "output_type": "stream",
          "name": "stdout",
          "text": [
            "\b\b\b\b\b\b\b\b\b\b\b\b\b\b\b\b\b\b\b\b\b\b\b\b\b\b\b\b\b\b\b\b\b\b\b\b\b\b\b\b\b\b\b\b\b\b\b\b\b\b\b\b\b\b\b\b\b\b\b\b\b\b\b\b\b\b\b\b\b\b\b\b\b\b\b\b\b\b\b\b\b\b\r75/75 [==============================] - 0s 6ms/step - loss: 0.0018 - accuracy: 0.9992 - lr: 3.0000e-05\n",
            "Epoch 121/200\n",
            "74/75 [============================>.] - ETA: 0s - loss: 0.0017 - accuracy: 0.9996"
          ]
        },
        {
          "output_type": "stream",
          "name": "stderr",
          "text": [
            "WARNING:tensorflow:Early stopping conditioned on metric `val_loss` which is not available. Available metrics are: loss,accuracy\n",
            "WARNING:tensorflow:Learning rate reduction is conditioned on metric `val_loss` which is not available. Available metrics are: loss,accuracy,lr\n"
          ]
        },
        {
          "output_type": "stream",
          "name": "stdout",
          "text": [
            "\b\b\b\b\b\b\b\b\b\b\b\b\b\b\b\b\b\b\b\b\b\b\b\b\b\b\b\b\b\b\b\b\b\b\b\b\b\b\b\b\b\b\b\b\b\b\b\b\b\b\b\b\b\b\b\b\b\b\b\b\b\b\b\b\b\b\b\b\b\b\b\b\b\b\b\b\b\b\b\b\b\b\r75/75 [==============================] - 0s 6ms/step - loss: 0.0017 - accuracy: 0.9996 - lr: 3.0000e-05\n",
            "Epoch 122/200\n",
            "66/75 [=========================>....] - ETA: 0s - loss: 0.0020 - accuracy: 0.9995"
          ]
        },
        {
          "output_type": "stream",
          "name": "stderr",
          "text": [
            "WARNING:tensorflow:Early stopping conditioned on metric `val_loss` which is not available. Available metrics are: loss,accuracy\n",
            "WARNING:tensorflow:Learning rate reduction is conditioned on metric `val_loss` which is not available. Available metrics are: loss,accuracy,lr\n"
          ]
        },
        {
          "output_type": "stream",
          "name": "stdout",
          "text": [
            "\b\b\b\b\b\b\b\b\b\b\b\b\b\b\b\b\b\b\b\b\b\b\b\b\b\b\b\b\b\b\b\b\b\b\b\b\b\b\b\b\b\b\b\b\b\b\b\b\b\b\b\b\b\b\b\b\b\b\b\b\b\b\b\b\b\b\b\b\b\b\b\b\b\b\b\b\b\b\b\b\b\b\r75/75 [==============================] - 0s 6ms/step - loss: 0.0018 - accuracy: 0.9996 - lr: 3.0000e-05\n",
            "Epoch 123/200\n",
            "74/75 [============================>.] - ETA: 0s - loss: 0.0027 - accuracy: 0.9987"
          ]
        },
        {
          "output_type": "stream",
          "name": "stderr",
          "text": [
            "WARNING:tensorflow:Early stopping conditioned on metric `val_loss` which is not available. Available metrics are: loss,accuracy\n",
            "WARNING:tensorflow:Learning rate reduction is conditioned on metric `val_loss` which is not available. Available metrics are: loss,accuracy,lr\n"
          ]
        },
        {
          "output_type": "stream",
          "name": "stdout",
          "text": [
            "\b\b\b\b\b\b\b\b\b\b\b\b\b\b\b\b\b\b\b\b\b\b\b\b\b\b\b\b\b\b\b\b\b\b\b\b\b\b\b\b\b\b\b\b\b\b\b\b\b\b\b\b\b\b\b\b\b\b\b\b\b\b\b\b\b\b\b\b\b\b\b\b\b\b\b\b\b\b\b\b\b\b\r75/75 [==============================] - 0s 6ms/step - loss: 0.0026 - accuracy: 0.9987 - lr: 3.0000e-05\n",
            "Epoch 124/200\n",
            "74/75 [============================>.] - ETA: 0s - loss: 0.0017 - accuracy: 0.9996"
          ]
        },
        {
          "output_type": "stream",
          "name": "stderr",
          "text": [
            "WARNING:tensorflow:Early stopping conditioned on metric `val_loss` which is not available. Available metrics are: loss,accuracy\n",
            "WARNING:tensorflow:Learning rate reduction is conditioned on metric `val_loss` which is not available. Available metrics are: loss,accuracy,lr\n"
          ]
        },
        {
          "output_type": "stream",
          "name": "stdout",
          "text": [
            "\b\b\b\b\b\b\b\b\b\b\b\b\b\b\b\b\b\b\b\b\b\b\b\b\b\b\b\b\b\b\b\b\b\b\b\b\b\b\b\b\b\b\b\b\b\b\b\b\b\b\b\b\b\b\b\b\b\b\b\b\b\b\b\b\b\b\b\b\b\b\b\b\b\b\b\b\b\b\b\b\b\b\r75/75 [==============================] - 0s 6ms/step - loss: 0.0017 - accuracy: 0.9996 - lr: 3.0000e-05\n",
            "Epoch 125/200\n",
            "74/75 [============================>.] - ETA: 0s - loss: 0.0016 - accuracy: 0.9996"
          ]
        },
        {
          "output_type": "stream",
          "name": "stderr",
          "text": [
            "WARNING:tensorflow:Early stopping conditioned on metric `val_loss` which is not available. Available metrics are: loss,accuracy\n",
            "WARNING:tensorflow:Learning rate reduction is conditioned on metric `val_loss` which is not available. Available metrics are: loss,accuracy,lr\n"
          ]
        },
        {
          "output_type": "stream",
          "name": "stdout",
          "text": [
            "\b\b\b\b\b\b\b\b\b\b\b\b\b\b\b\b\b\b\b\b\b\b\b\b\b\b\b\b\b\b\b\b\b\b\b\b\b\b\b\b\b\b\b\b\b\b\b\b\b\b\b\b\b\b\b\b\b\b\b\b\b\b\b\b\b\b\b\b\b\b\b\b\b\b\b\b\b\b\b\b\b\b\r75/75 [==============================] - 0s 6ms/step - loss: 0.0016 - accuracy: 0.9996 - lr: 3.0000e-05\n",
            "Epoch 126/200\n",
            "66/75 [=========================>....] - ETA: 0s - loss: 0.0013 - accuracy: 0.9995"
          ]
        },
        {
          "output_type": "stream",
          "name": "stderr",
          "text": [
            "WARNING:tensorflow:Early stopping conditioned on metric `val_loss` which is not available. Available metrics are: loss,accuracy\n",
            "WARNING:tensorflow:Learning rate reduction is conditioned on metric `val_loss` which is not available. Available metrics are: loss,accuracy,lr\n"
          ]
        },
        {
          "output_type": "stream",
          "name": "stdout",
          "text": [
            "\b\b\b\b\b\b\b\b\b\b\b\b\b\b\b\b\b\b\b\b\b\b\b\b\b\b\b\b\b\b\b\b\b\b\b\b\b\b\b\b\b\b\b\b\b\b\b\b\b\b\b\b\b\b\b\b\b\b\b\b\b\b\b\b\b\b\b\b\b\b\b\b\b\b\b\b\b\b\b\b\b\b\r75/75 [==============================] - 0s 6ms/step - loss: 0.0012 - accuracy: 0.9996 - lr: 3.0000e-05\n",
            "Epoch 127/200\n",
            "74/75 [============================>.] - ETA: 0s - loss: 0.0028 - accuracy: 0.9987"
          ]
        },
        {
          "output_type": "stream",
          "name": "stderr",
          "text": [
            "WARNING:tensorflow:Early stopping conditioned on metric `val_loss` which is not available. Available metrics are: loss,accuracy\n",
            "WARNING:tensorflow:Learning rate reduction is conditioned on metric `val_loss` which is not available. Available metrics are: loss,accuracy,lr\n"
          ]
        },
        {
          "output_type": "stream",
          "name": "stdout",
          "text": [
            "\b\b\b\b\b\b\b\b\b\b\b\b\b\b\b\b\b\b\b\b\b\b\b\b\b\b\b\b\b\b\b\b\b\b\b\b\b\b\b\b\b\b\b\b\b\b\b\b\b\b\b\b\b\b\b\b\b\b\b\b\b\b\b\b\b\b\b\b\b\b\b\b\b\b\b\b\b\b\b\b\b\b\r75/75 [==============================] - 0s 6ms/step - loss: 0.0028 - accuracy: 0.9987 - lr: 3.0000e-05\n",
            "Epoch 128/200\n",
            "74/75 [============================>.] - ETA: 0s - loss: 0.0010 - accuracy: 1.0000    "
          ]
        },
        {
          "output_type": "stream",
          "name": "stderr",
          "text": [
            "WARNING:tensorflow:Early stopping conditioned on metric `val_loss` which is not available. Available metrics are: loss,accuracy\n",
            "WARNING:tensorflow:Learning rate reduction is conditioned on metric `val_loss` which is not available. Available metrics are: loss,accuracy,lr\n"
          ]
        },
        {
          "output_type": "stream",
          "name": "stdout",
          "text": [
            "\b\b\b\b\b\b\b\b\b\b\b\b\b\b\b\b\b\b\b\b\b\b\b\b\b\b\b\b\b\b\b\b\b\b\b\b\b\b\b\b\b\b\b\b\b\b\b\b\b\b\b\b\b\b\b\b\b\b\b\b\b\b\b\b\b\b\b\b\b\b\b\b\b\b\b\b\b\b\b\b\b\b\r75/75 [==============================] - 0s 6ms/step - loss: 0.0010 - accuracy: 1.0000 - lr: 3.0000e-05\n",
            "Epoch 129/200\n",
            "67/75 [=========================>....] - ETA: 0s - loss: 0.0030 - accuracy: 0.9991"
          ]
        },
        {
          "output_type": "stream",
          "name": "stderr",
          "text": [
            "WARNING:tensorflow:Early stopping conditioned on metric `val_loss` which is not available. Available metrics are: loss,accuracy\n",
            "WARNING:tensorflow:Learning rate reduction is conditioned on metric `val_loss` which is not available. Available metrics are: loss,accuracy,lr\n"
          ]
        },
        {
          "output_type": "stream",
          "name": "stdout",
          "text": [
            "\b\b\b\b\b\b\b\b\b\b\b\b\b\b\b\b\b\b\b\b\b\b\b\b\b\b\b\b\b\b\b\b\b\b\b\b\b\b\b\b\b\b\b\b\b\b\b\b\b\b\b\b\b\b\b\b\b\b\b\b\b\b\b\b\b\b\b\b\b\b\b\b\b\b\b\b\b\b\b\b\b\b\r75/75 [==============================] - 0s 6ms/step - loss: 0.0028 - accuracy: 0.9992 - lr: 3.0000e-05\n",
            "Epoch 130/200\n",
            "73/75 [============================>.] - ETA: 0s - loss: 0.0013 - accuracy: 0.9991"
          ]
        },
        {
          "output_type": "stream",
          "name": "stderr",
          "text": [
            "WARNING:tensorflow:Early stopping conditioned on metric `val_loss` which is not available. Available metrics are: loss,accuracy\n",
            "WARNING:tensorflow:Learning rate reduction is conditioned on metric `val_loss` which is not available. Available metrics are: loss,accuracy,lr\n"
          ]
        },
        {
          "output_type": "stream",
          "name": "stdout",
          "text": [
            "\b\b\b\b\b\b\b\b\b\b\b\b\b\b\b\b\b\b\b\b\b\b\b\b\b\b\b\b\b\b\b\b\b\b\b\b\b\b\b\b\b\b\b\b\b\b\b\b\b\b\b\b\b\b\b\b\b\b\b\b\b\b\b\b\b\b\b\b\b\b\b\b\b\b\b\b\b\b\b\b\b\b\r75/75 [==============================] - 0s 6ms/step - loss: 0.0013 - accuracy: 0.9992 - lr: 3.0000e-05\n",
            "Epoch 131/200\n",
            "74/75 [============================>.] - ETA: 0s - loss: 0.0018 - accuracy: 0.9996"
          ]
        },
        {
          "output_type": "stream",
          "name": "stderr",
          "text": [
            "WARNING:tensorflow:Early stopping conditioned on metric `val_loss` which is not available. Available metrics are: loss,accuracy\n",
            "WARNING:tensorflow:Learning rate reduction is conditioned on metric `val_loss` which is not available. Available metrics are: loss,accuracy,lr\n"
          ]
        },
        {
          "output_type": "stream",
          "name": "stdout",
          "text": [
            "\b\b\b\b\b\b\b\b\b\b\b\b\b\b\b\b\b\b\b\b\b\b\b\b\b\b\b\b\b\b\b\b\b\b\b\b\b\b\b\b\b\b\b\b\b\b\b\b\b\b\b\b\b\b\b\b\b\b\b\b\b\b\b\b\b\b\b\b\b\b\b\b\b\b\b\b\b\b\b\b\b\b\r75/75 [==============================] - 0s 6ms/step - loss: 0.0018 - accuracy: 0.9996 - lr: 3.0000e-05\n",
            "Epoch 132/200\n",
            "74/75 [============================>.] - ETA: 0s - loss: 0.0015 - accuracy: 0.9996"
          ]
        },
        {
          "output_type": "stream",
          "name": "stderr",
          "text": [
            "WARNING:tensorflow:Early stopping conditioned on metric `val_loss` which is not available. Available metrics are: loss,accuracy\n",
            "WARNING:tensorflow:Learning rate reduction is conditioned on metric `val_loss` which is not available. Available metrics are: loss,accuracy,lr\n"
          ]
        },
        {
          "output_type": "stream",
          "name": "stdout",
          "text": [
            "\b\b\b\b\b\b\b\b\b\b\b\b\b\b\b\b\b\b\b\b\b\b\b\b\b\b\b\b\b\b\b\b\b\b\b\b\b\b\b\b\b\b\b\b\b\b\b\b\b\b\b\b\b\b\b\b\b\b\b\b\b\b\b\b\b\b\b\b\b\b\b\b\b\b\b\b\b\b\b\b\b\b\r75/75 [==============================] - 0s 6ms/step - loss: 0.0015 - accuracy: 0.9996 - lr: 3.0000e-05\n",
            "Epoch 133/200\n",
            "72/75 [===========================>..] - ETA: 0s - loss: 0.0017 - accuracy: 0.9996"
          ]
        },
        {
          "output_type": "stream",
          "name": "stderr",
          "text": [
            "WARNING:tensorflow:Early stopping conditioned on metric `val_loss` which is not available. Available metrics are: loss,accuracy\n",
            "WARNING:tensorflow:Learning rate reduction is conditioned on metric `val_loss` which is not available. Available metrics are: loss,accuracy,lr\n"
          ]
        },
        {
          "output_type": "stream",
          "name": "stdout",
          "text": [
            "\b\b\b\b\b\b\b\b\b\b\b\b\b\b\b\b\b\b\b\b\b\b\b\b\b\b\b\b\b\b\b\b\b\b\b\b\b\b\b\b\b\b\b\b\b\b\b\b\b\b\b\b\b\b\b\b\b\b\b\b\b\b\b\b\b\b\b\b\b\b\b\b\b\b\b\b\b\b\b\b\b\b\r75/75 [==============================] - 0s 6ms/step - loss: 0.0016 - accuracy: 0.9996 - lr: 3.0000e-05\n",
            "Epoch 134/200\n",
            "68/75 [==========================>...] - ETA: 0s - loss: 0.0013 - accuracy: 1.0000"
          ]
        },
        {
          "output_type": "stream",
          "name": "stderr",
          "text": [
            "WARNING:tensorflow:Early stopping conditioned on metric `val_loss` which is not available. Available metrics are: loss,accuracy\n",
            "WARNING:tensorflow:Learning rate reduction is conditioned on metric `val_loss` which is not available. Available metrics are: loss,accuracy,lr\n"
          ]
        },
        {
          "output_type": "stream",
          "name": "stdout",
          "text": [
            "\b\b\b\b\b\b\b\b\b\b\b\b\b\b\b\b\b\b\b\b\b\b\b\b\b\b\b\b\b\b\b\b\b\b\b\b\b\b\b\b\b\b\b\b\b\b\b\b\b\b\b\b\b\b\b\b\b\b\b\b\b\b\b\b\b\b\b\b\b\b\b\b\b\b\b\b\b\b\b\b\b\b\r75/75 [==============================] - 0s 6ms/step - loss: 0.0012 - accuracy: 1.0000 - lr: 3.0000e-05\n",
            "Epoch 135/200\n",
            "74/75 [============================>.] - ETA: 0s - loss: 0.0024 - accuracy: 0.9992"
          ]
        },
        {
          "output_type": "stream",
          "name": "stderr",
          "text": [
            "WARNING:tensorflow:Early stopping conditioned on metric `val_loss` which is not available. Available metrics are: loss,accuracy\n",
            "WARNING:tensorflow:Learning rate reduction is conditioned on metric `val_loss` which is not available. Available metrics are: loss,accuracy,lr\n"
          ]
        },
        {
          "output_type": "stream",
          "name": "stdout",
          "text": [
            "\b\b\b\b\b\b\b\b\b\b\b\b\b\b\b\b\b\b\b\b\b\b\b\b\b\b\b\b\b\b\b\b\b\b\b\b\b\b\b\b\b\b\b\b\b\b\b\b\b\b\b\b\b\b\b\b\b\b\b\b\b\b\b\b\b\b\b\b\b\b\b\b\b\b\b\b\b\b\b\b\b\b\r75/75 [==============================] - 0s 6ms/step - loss: 0.0024 - accuracy: 0.9992 - lr: 3.0000e-05\n",
            "Epoch 136/200\n",
            "70/75 [===========================>..] - ETA: 0s - loss: 0.0015 - accuracy: 0.9991"
          ]
        },
        {
          "output_type": "stream",
          "name": "stderr",
          "text": [
            "WARNING:tensorflow:Early stopping conditioned on metric `val_loss` which is not available. Available metrics are: loss,accuracy\n",
            "WARNING:tensorflow:Learning rate reduction is conditioned on metric `val_loss` which is not available. Available metrics are: loss,accuracy,lr\n"
          ]
        },
        {
          "output_type": "stream",
          "name": "stdout",
          "text": [
            "\b\b\b\b\b\b\b\b\b\b\b\b\b\b\b\b\b\b\b\b\b\b\b\b\b\b\b\b\b\b\b\b\b\b\b\b\b\b\b\b\b\b\b\b\b\b\b\b\b\b\b\b\b\b\b\b\b\b\b\b\b\b\b\b\b\b\b\b\b\b\b\b\b\b\b\b\b\b\b\b\b\b\r75/75 [==============================] - 0s 6ms/step - loss: 0.0015 - accuracy: 0.9992 - lr: 3.0000e-05\n",
            "Epoch 137/200\n",
            "71/75 [===========================>..] - ETA: 0s - loss: 8.8080e-04 - accuracy: 0.9996"
          ]
        },
        {
          "output_type": "stream",
          "name": "stderr",
          "text": [
            "WARNING:tensorflow:Early stopping conditioned on metric `val_loss` which is not available. Available metrics are: loss,accuracy\n",
            "WARNING:tensorflow:Learning rate reduction is conditioned on metric `val_loss` which is not available. Available metrics are: loss,accuracy,lr\n"
          ]
        },
        {
          "output_type": "stream",
          "name": "stdout",
          "text": [
            "\b\b\b\b\b\b\b\b\b\b\b\b\b\b\b\b\b\b\b\b\b\b\b\b\b\b\b\b\b\b\b\b\b\b\b\b\b\b\b\b\b\b\b\b\b\b\b\b\b\b\b\b\b\b\b\b\b\b\b\b\b\b\b\b\b\b\b\b\b\b\b\b\b\b\b\b\b\b\b\b\b\b\b\b\b\b\r75/75 [==============================] - 0s 6ms/step - loss: 8.5403e-04 - accuracy: 0.9996 - lr: 3.0000e-05\n",
            "Epoch 138/200\n",
            "67/75 [=========================>....] - ETA: 0s - loss: 7.4508e-04 - accuracy: 1.0000"
          ]
        },
        {
          "output_type": "stream",
          "name": "stderr",
          "text": [
            "WARNING:tensorflow:Early stopping conditioned on metric `val_loss` which is not available. Available metrics are: loss,accuracy\n",
            "WARNING:tensorflow:Learning rate reduction is conditioned on metric `val_loss` which is not available. Available metrics are: loss,accuracy,lr\n"
          ]
        },
        {
          "output_type": "stream",
          "name": "stdout",
          "text": [
            "\b\b\b\b\b\b\b\b\b\b\b\b\b\b\b\b\b\b\b\b\b\b\b\b\b\b\b\b\b\b\b\b\b\b\b\b\b\b\b\b\b\b\b\b\b\b\b\b\b\b\b\b\b\b\b\b\b\b\b\b\b\b\b\b\b\b\b\b\b\b\b\b\b\b\b\b\b\b\b\b\b\b\b\b\b\b\r75/75 [==============================] - 0s 6ms/step - loss: 0.0017 - accuracy: 0.9996 - lr: 3.0000e-05\n",
            "Epoch 139/200\n",
            "71/75 [===========================>..] - ETA: 0s - loss: 0.0018 - accuracy: 0.9991"
          ]
        },
        {
          "output_type": "stream",
          "name": "stderr",
          "text": [
            "WARNING:tensorflow:Early stopping conditioned on metric `val_loss` which is not available. Available metrics are: loss,accuracy\n",
            "WARNING:tensorflow:Learning rate reduction is conditioned on metric `val_loss` which is not available. Available metrics are: loss,accuracy,lr\n"
          ]
        },
        {
          "output_type": "stream",
          "name": "stdout",
          "text": [
            "\b\b\b\b\b\b\b\b\b\b\b\b\b\b\b\b\b\b\b\b\b\b\b\b\b\b\b\b\b\b\b\b\b\b\b\b\b\b\b\b\b\b\b\b\b\b\b\b\b\b\b\b\b\b\b\b\b\b\b\b\b\b\b\b\b\b\b\b\b\b\b\b\b\b\b\b\b\b\b\b\b\b\r75/75 [==============================] - 0s 6ms/step - loss: 0.0018 - accuracy: 0.9992 - lr: 3.0000e-05\n",
            "Epoch 140/200\n",
            "67/75 [=========================>....] - ETA: 0s - loss: 0.0013 - accuracy: 0.9995    "
          ]
        },
        {
          "output_type": "stream",
          "name": "stderr",
          "text": [
            "WARNING:tensorflow:Early stopping conditioned on metric `val_loss` which is not available. Available metrics are: loss,accuracy\n",
            "WARNING:tensorflow:Learning rate reduction is conditioned on metric `val_loss` which is not available. Available metrics are: loss,accuracy,lr\n"
          ]
        },
        {
          "output_type": "stream",
          "name": "stdout",
          "text": [
            "\b\b\b\b\b\b\b\b\b\b\b\b\b\b\b\b\b\b\b\b\b\b\b\b\b\b\b\b\b\b\b\b\b\b\b\b\b\b\b\b\b\b\b\b\b\b\b\b\b\b\b\b\b\b\b\b\b\b\b\b\b\b\b\b\b\b\b\b\b\b\b\b\b\b\b\b\b\b\b\b\b\b\r75/75 [==============================] - 0s 6ms/step - loss: 0.0013 - accuracy: 0.9996 - lr: 3.0000e-05\n",
            "Epoch 141/200\n",
            "73/75 [============================>.] - ETA: 0s - loss: 0.0019 - accuracy: 0.9996"
          ]
        },
        {
          "output_type": "stream",
          "name": "stderr",
          "text": [
            "WARNING:tensorflow:Early stopping conditioned on metric `val_loss` which is not available. Available metrics are: loss,accuracy\n",
            "WARNING:tensorflow:Learning rate reduction is conditioned on metric `val_loss` which is not available. Available metrics are: loss,accuracy,lr\n"
          ]
        },
        {
          "output_type": "stream",
          "name": "stdout",
          "text": [
            "\b\b\b\b\b\b\b\b\b\b\b\b\b\b\b\b\b\b\b\b\b\b\b\b\b\b\b\b\b\b\b\b\b\b\b\b\b\b\b\b\b\b\b\b\b\b\b\b\b\b\b\b\b\b\b\b\b\b\b\b\b\b\b\b\b\b\b\b\b\b\b\b\b\b\b\b\b\b\b\b\b\b\r75/75 [==============================] - 0s 6ms/step - loss: 0.0018 - accuracy: 0.9996 - lr: 3.0000e-05\n",
            "Epoch 142/200\n",
            "66/75 [=========================>....] - ETA: 0s - loss: 0.0021 - accuracy: 0.9991"
          ]
        },
        {
          "output_type": "stream",
          "name": "stderr",
          "text": [
            "WARNING:tensorflow:Early stopping conditioned on metric `val_loss` which is not available. Available metrics are: loss,accuracy\n",
            "WARNING:tensorflow:Learning rate reduction is conditioned on metric `val_loss` which is not available. Available metrics are: loss,accuracy,lr\n"
          ]
        },
        {
          "output_type": "stream",
          "name": "stdout",
          "text": [
            "\b\b\b\b\b\b\b\b\b\b\b\b\b\b\b\b\b\b\b\b\b\b\b\b\b\b\b\b\b\b\b\b\b\b\b\b\b\b\b\b\b\b\b\b\b\b\b\b\b\b\b\b\b\b\b\b\b\b\b\b\b\b\b\b\b\b\b\b\b\b\b\b\b\b\b\b\b\b\b\b\b\b\r75/75 [==============================] - 0s 6ms/step - loss: 0.0019 - accuracy: 0.9992 - lr: 3.0000e-05\n",
            "Epoch 143/200\n",
            "73/75 [============================>.] - ETA: 0s - loss: 0.0014 - accuracy: 0.9991"
          ]
        },
        {
          "output_type": "stream",
          "name": "stderr",
          "text": [
            "WARNING:tensorflow:Early stopping conditioned on metric `val_loss` which is not available. Available metrics are: loss,accuracy\n",
            "WARNING:tensorflow:Learning rate reduction is conditioned on metric `val_loss` which is not available. Available metrics are: loss,accuracy,lr\n"
          ]
        },
        {
          "output_type": "stream",
          "name": "stdout",
          "text": [
            "\b\b\b\b\b\b\b\b\b\b\b\b\b\b\b\b\b\b\b\b\b\b\b\b\b\b\b\b\b\b\b\b\b\b\b\b\b\b\b\b\b\b\b\b\b\b\b\b\b\b\b\b\b\b\b\b\b\b\b\b\b\b\b\b\b\b\b\b\b\b\b\b\b\b\b\b\b\b\b\b\b\b\r75/75 [==============================] - 0s 6ms/step - loss: 0.0014 - accuracy: 0.9992 - lr: 3.0000e-05\n",
            "Epoch 144/200\n",
            "74/75 [============================>.] - ETA: 0s - loss: 0.0014 - accuracy: 0.9992"
          ]
        },
        {
          "output_type": "stream",
          "name": "stderr",
          "text": [
            "WARNING:tensorflow:Early stopping conditioned on metric `val_loss` which is not available. Available metrics are: loss,accuracy\n",
            "WARNING:tensorflow:Learning rate reduction is conditioned on metric `val_loss` which is not available. Available metrics are: loss,accuracy,lr\n"
          ]
        },
        {
          "output_type": "stream",
          "name": "stdout",
          "text": [
            "\b\b\b\b\b\b\b\b\b\b\b\b\b\b\b\b\b\b\b\b\b\b\b\b\b\b\b\b\b\b\b\b\b\b\b\b\b\b\b\b\b\b\b\b\b\b\b\b\b\b\b\b\b\b\b\b\b\b\b\b\b\b\b\b\b\b\b\b\b\b\b\b\b\b\b\b\b\b\b\b\b\b\r75/75 [==============================] - 0s 6ms/step - loss: 0.0014 - accuracy: 0.9992 - lr: 3.0000e-05\n",
            "Epoch 145/200\n",
            "74/75 [============================>.] - ETA: 0s - loss: 7.1014e-04 - accuracy: 1.0000"
          ]
        },
        {
          "output_type": "stream",
          "name": "stderr",
          "text": [
            "WARNING:tensorflow:Early stopping conditioned on metric `val_loss` which is not available. Available metrics are: loss,accuracy\n",
            "WARNING:tensorflow:Learning rate reduction is conditioned on metric `val_loss` which is not available. Available metrics are: loss,accuracy,lr\n"
          ]
        },
        {
          "output_type": "stream",
          "name": "stdout",
          "text": [
            "\b\b\b\b\b\b\b\b\b\b\b\b\b\b\b\b\b\b\b\b\b\b\b\b\b\b\b\b\b\b\b\b\b\b\b\b\b\b\b\b\b\b\b\b\b\b\b\b\b\b\b\b\b\b\b\b\b\b\b\b\b\b\b\b\b\b\b\b\b\b\b\b\b\b\b\b\b\b\b\b\b\b\b\b\b\b\r75/75 [==============================] - 0s 6ms/step - loss: 7.0866e-04 - accuracy: 1.0000 - lr: 3.0000e-05\n",
            "Epoch 146/200\n",
            "75/75 [==============================] - ETA: 0s - loss: 0.0012 - accuracy: 0.9996"
          ]
        },
        {
          "output_type": "stream",
          "name": "stderr",
          "text": [
            "WARNING:tensorflow:Early stopping conditioned on metric `val_loss` which is not available. Available metrics are: loss,accuracy\n",
            "WARNING:tensorflow:Learning rate reduction is conditioned on metric `val_loss` which is not available. Available metrics are: loss,accuracy,lr\n"
          ]
        },
        {
          "output_type": "stream",
          "name": "stdout",
          "text": [
            "\b\b\b\b\b\b\b\b\b\b\b\b\b\b\b\b\b\b\b\b\b\b\b\b\b\b\b\b\b\b\b\b\b\b\b\b\b\b\b\b\b\b\b\b\b\b\b\b\b\b\b\b\b\b\b\b\b\b\b\b\b\b\b\b\b\b\b\b\b\b\b\b\b\b\b\b\b\b\b\b\b\b\r75/75 [==============================] - 0s 6ms/step - loss: 0.0012 - accuracy: 0.9996 - lr: 3.0000e-05\n",
            "Epoch 147/200\n",
            "67/75 [=========================>....] - ETA: 0s - loss: 0.0015 - accuracy: 0.9991"
          ]
        },
        {
          "output_type": "stream",
          "name": "stderr",
          "text": [
            "WARNING:tensorflow:Early stopping conditioned on metric `val_loss` which is not available. Available metrics are: loss,accuracy\n",
            "WARNING:tensorflow:Learning rate reduction is conditioned on metric `val_loss` which is not available. Available metrics are: loss,accuracy,lr\n"
          ]
        },
        {
          "output_type": "stream",
          "name": "stdout",
          "text": [
            "\b\b\b\b\b\b\b\b\b\b\b\b\b\b\b\b\b\b\b\b\b\b\b\b\b\b\b\b\b\b\b\b\b\b\b\b\b\b\b\b\b\b\b\b\b\b\b\b\b\b\b\b\b\b\b\b\b\b\b\b\b\b\b\b\b\b\b\b\b\b\b\b\b\b\b\b\b\b\b\b\b\b\r75/75 [==============================] - 0s 6ms/step - loss: 0.0014 - accuracy: 0.9992 - lr: 3.0000e-05\n",
            "Epoch 148/200\n",
            "73/75 [============================>.] - ETA: 0s - loss: 0.0018 - accuracy: 0.9996"
          ]
        },
        {
          "output_type": "stream",
          "name": "stderr",
          "text": [
            "WARNING:tensorflow:Early stopping conditioned on metric `val_loss` which is not available. Available metrics are: loss,accuracy\n",
            "WARNING:tensorflow:Learning rate reduction is conditioned on metric `val_loss` which is not available. Available metrics are: loss,accuracy,lr\n"
          ]
        },
        {
          "output_type": "stream",
          "name": "stdout",
          "text": [
            "\b\b\b\b\b\b\b\b\b\b\b\b\b\b\b\b\b\b\b\b\b\b\b\b\b\b\b\b\b\b\b\b\b\b\b\b\b\b\b\b\b\b\b\b\b\b\b\b\b\b\b\b\b\b\b\b\b\b\b\b\b\b\b\b\b\b\b\b\b\b\b\b\b\b\b\b\b\b\b\b\b\b\r75/75 [==============================] - 0s 6ms/step - loss: 0.0017 - accuracy: 0.9996 - lr: 3.0000e-05\n",
            "Epoch 149/200\n",
            "74/75 [============================>.] - ETA: 0s - loss: 0.0019 - accuracy: 0.9992    "
          ]
        },
        {
          "output_type": "stream",
          "name": "stderr",
          "text": [
            "WARNING:tensorflow:Early stopping conditioned on metric `val_loss` which is not available. Available metrics are: loss,accuracy\n",
            "WARNING:tensorflow:Learning rate reduction is conditioned on metric `val_loss` which is not available. Available metrics are: loss,accuracy,lr\n"
          ]
        },
        {
          "output_type": "stream",
          "name": "stdout",
          "text": [
            "\b\b\b\b\b\b\b\b\b\b\b\b\b\b\b\b\b\b\b\b\b\b\b\b\b\b\b\b\b\b\b\b\b\b\b\b\b\b\b\b\b\b\b\b\b\b\b\b\b\b\b\b\b\b\b\b\b\b\b\b\b\b\b\b\b\b\b\b\b\b\b\b\b\b\b\b\b\b\b\b\b\b\r75/75 [==============================] - 0s 6ms/step - loss: 0.0019 - accuracy: 0.9992 - lr: 3.0000e-05\n",
            "Epoch 150/200\n",
            "72/75 [===========================>..] - ETA: 0s - loss: 0.0017 - accuracy: 0.9991"
          ]
        },
        {
          "output_type": "stream",
          "name": "stderr",
          "text": [
            "WARNING:tensorflow:Early stopping conditioned on metric `val_loss` which is not available. Available metrics are: loss,accuracy\n",
            "WARNING:tensorflow:Learning rate reduction is conditioned on metric `val_loss` which is not available. Available metrics are: loss,accuracy,lr\n"
          ]
        },
        {
          "output_type": "stream",
          "name": "stdout",
          "text": [
            "\b\b\b\b\b\b\b\b\b\b\b\b\b\b\b\b\b\b\b\b\b\b\b\b\b\b\b\b\b\b\b\b\b\b\b\b\b\b\b\b\b\b\b\b\b\b\b\b\b\b\b\b\b\b\b\b\b\b\b\b\b\b\b\b\b\b\b\b\b\b\b\b\b\b\b\b\b\b\b\b\b\b\r75/75 [==============================] - 0s 6ms/step - loss: 0.0017 - accuracy: 0.9992 - lr: 3.0000e-05\n",
            "Epoch 151/200\n",
            "74/75 [============================>.] - ETA: 0s - loss: 0.0017 - accuracy: 0.9992"
          ]
        },
        {
          "output_type": "stream",
          "name": "stderr",
          "text": [
            "WARNING:tensorflow:Early stopping conditioned on metric `val_loss` which is not available. Available metrics are: loss,accuracy\n",
            "WARNING:tensorflow:Learning rate reduction is conditioned on metric `val_loss` which is not available. Available metrics are: loss,accuracy,lr\n"
          ]
        },
        {
          "output_type": "stream",
          "name": "stdout",
          "text": [
            "\b\b\b\b\b\b\b\b\b\b\b\b\b\b\b\b\b\b\b\b\b\b\b\b\b\b\b\b\b\b\b\b\b\b\b\b\b\b\b\b\b\b\b\b\b\b\b\b\b\b\b\b\b\b\b\b\b\b\b\b\b\b\b\b\b\b\b\b\b\b\b\b\b\b\b\b\b\b\b\b\b\b\r75/75 [==============================] - 0s 6ms/step - loss: 0.0017 - accuracy: 0.9992 - lr: 3.0000e-05\n",
            "Epoch 152/200\n",
            "73/75 [============================>.] - ETA: 0s - loss: 0.0011 - accuracy: 0.9996"
          ]
        },
        {
          "output_type": "stream",
          "name": "stderr",
          "text": [
            "WARNING:tensorflow:Early stopping conditioned on metric `val_loss` which is not available. Available metrics are: loss,accuracy\n",
            "WARNING:tensorflow:Learning rate reduction is conditioned on metric `val_loss` which is not available. Available metrics are: loss,accuracy,lr\n"
          ]
        },
        {
          "output_type": "stream",
          "name": "stdout",
          "text": [
            "\b\b\b\b\b\b\b\b\b\b\b\b\b\b\b\b\b\b\b\b\b\b\b\b\b\b\b\b\b\b\b\b\b\b\b\b\b\b\b\b\b\b\b\b\b\b\b\b\b\b\b\b\b\b\b\b\b\b\b\b\b\b\b\b\b\b\b\b\b\b\b\b\b\b\b\b\b\b\b\b\b\b\r75/75 [==============================] - 0s 6ms/step - loss: 0.0011 - accuracy: 0.9996 - lr: 3.0000e-05\n",
            "Epoch 153/200\n",
            "72/75 [===========================>..] - ETA: 0s - loss: 9.4641e-04 - accuracy: 0.9996"
          ]
        },
        {
          "output_type": "stream",
          "name": "stderr",
          "text": [
            "WARNING:tensorflow:Early stopping conditioned on metric `val_loss` which is not available. Available metrics are: loss,accuracy\n",
            "WARNING:tensorflow:Learning rate reduction is conditioned on metric `val_loss` which is not available. Available metrics are: loss,accuracy,lr\n"
          ]
        },
        {
          "output_type": "stream",
          "name": "stdout",
          "text": [
            "\b\b\b\b\b\b\b\b\b\b\b\b\b\b\b\b\b\b\b\b\b\b\b\b\b\b\b\b\b\b\b\b\b\b\b\b\b\b\b\b\b\b\b\b\b\b\b\b\b\b\b\b\b\b\b\b\b\b\b\b\b\b\b\b\b\b\b\b\b\b\b\b\b\b\b\b\b\b\b\b\b\b\b\b\b\b\r75/75 [==============================] - 0s 6ms/step - loss: 9.2300e-04 - accuracy: 0.9996 - lr: 3.0000e-05\n",
            "Epoch 154/200\n",
            "73/75 [============================>.] - ETA: 0s - loss: 0.0017 - accuracy: 0.9991"
          ]
        },
        {
          "output_type": "stream",
          "name": "stderr",
          "text": [
            "WARNING:tensorflow:Early stopping conditioned on metric `val_loss` which is not available. Available metrics are: loss,accuracy\n",
            "WARNING:tensorflow:Learning rate reduction is conditioned on metric `val_loss` which is not available. Available metrics are: loss,accuracy,lr\n"
          ]
        },
        {
          "output_type": "stream",
          "name": "stdout",
          "text": [
            "\b\b\b\b\b\b\b\b\b\b\b\b\b\b\b\b\b\b\b\b\b\b\b\b\b\b\b\b\b\b\b\b\b\b\b\b\b\b\b\b\b\b\b\b\b\b\b\b\b\b\b\b\b\b\b\b\b\b\b\b\b\b\b\b\b\b\b\b\b\b\b\b\b\b\b\b\b\b\b\b\b\b\r75/75 [==============================] - 0s 6ms/step - loss: 0.0017 - accuracy: 0.9992 - lr: 3.0000e-05\n",
            "Epoch 155/200\n",
            "74/75 [============================>.] - ETA: 0s - loss: 0.0015 - accuracy: 0.9996"
          ]
        },
        {
          "output_type": "stream",
          "name": "stderr",
          "text": [
            "WARNING:tensorflow:Early stopping conditioned on metric `val_loss` which is not available. Available metrics are: loss,accuracy\n",
            "WARNING:tensorflow:Learning rate reduction is conditioned on metric `val_loss` which is not available. Available metrics are: loss,accuracy,lr\n"
          ]
        },
        {
          "output_type": "stream",
          "name": "stdout",
          "text": [
            "\b\b\b\b\b\b\b\b\b\b\b\b\b\b\b\b\b\b\b\b\b\b\b\b\b\b\b\b\b\b\b\b\b\b\b\b\b\b\b\b\b\b\b\b\b\b\b\b\b\b\b\b\b\b\b\b\b\b\b\b\b\b\b\b\b\b\b\b\b\b\b\b\b\b\b\b\b\b\b\b\b\b\r75/75 [==============================] - 0s 6ms/step - loss: 0.0015 - accuracy: 0.9996 - lr: 3.0000e-05\n",
            "Epoch 156/200\n",
            "72/75 [===========================>..] - ETA: 0s - loss: 0.0016 - accuracy: 0.9991"
          ]
        },
        {
          "output_type": "stream",
          "name": "stderr",
          "text": [
            "WARNING:tensorflow:Early stopping conditioned on metric `val_loss` which is not available. Available metrics are: loss,accuracy\n",
            "WARNING:tensorflow:Learning rate reduction is conditioned on metric `val_loss` which is not available. Available metrics are: loss,accuracy,lr\n"
          ]
        },
        {
          "output_type": "stream",
          "name": "stdout",
          "text": [
            "\b\b\b\b\b\b\b\b\b\b\b\b\b\b\b\b\b\b\b\b\b\b\b\b\b\b\b\b\b\b\b\b\b\b\b\b\b\b\b\b\b\b\b\b\b\b\b\b\b\b\b\b\b\b\b\b\b\b\b\b\b\b\b\b\b\b\b\b\b\b\b\b\b\b\b\b\b\b\b\b\b\b\r75/75 [==============================] - 0s 6ms/step - loss: 0.0016 - accuracy: 0.9992 - lr: 3.0000e-05\n",
            "Epoch 157/200\n",
            "68/75 [==========================>...] - ETA: 0s - loss: 0.0021 - accuracy: 0.9991"
          ]
        },
        {
          "output_type": "stream",
          "name": "stderr",
          "text": [
            "WARNING:tensorflow:Early stopping conditioned on metric `val_loss` which is not available. Available metrics are: loss,accuracy\n",
            "WARNING:tensorflow:Learning rate reduction is conditioned on metric `val_loss` which is not available. Available metrics are: loss,accuracy,lr\n"
          ]
        },
        {
          "output_type": "stream",
          "name": "stdout",
          "text": [
            "\b\b\b\b\b\b\b\b\b\b\b\b\b\b\b\b\b\b\b\b\b\b\b\b\b\b\b\b\b\b\b\b\b\b\b\b\b\b\b\b\b\b\b\b\b\b\b\b\b\b\b\b\b\b\b\b\b\b\b\b\b\b\b\b\b\b\b\b\b\b\b\b\b\b\b\b\b\b\b\b\b\b\r75/75 [==============================] - 0s 6ms/step - loss: 0.0019 - accuracy: 0.9992 - lr: 3.0000e-05\n",
            "Epoch 158/200\n",
            "74/75 [============================>.] - ETA: 0s - loss: 0.0011 - accuracy: 0.9996"
          ]
        },
        {
          "output_type": "stream",
          "name": "stderr",
          "text": [
            "WARNING:tensorflow:Early stopping conditioned on metric `val_loss` which is not available. Available metrics are: loss,accuracy\n",
            "WARNING:tensorflow:Learning rate reduction is conditioned on metric `val_loss` which is not available. Available metrics are: loss,accuracy,lr\n"
          ]
        },
        {
          "output_type": "stream",
          "name": "stdout",
          "text": [
            "\b\b\b\b\b\b\b\b\b\b\b\b\b\b\b\b\b\b\b\b\b\b\b\b\b\b\b\b\b\b\b\b\b\b\b\b\b\b\b\b\b\b\b\b\b\b\b\b\b\b\b\b\b\b\b\b\b\b\b\b\b\b\b\b\b\b\b\b\b\b\b\b\b\b\b\b\b\b\b\b\b\b\r75/75 [==============================] - 0s 6ms/step - loss: 0.0011 - accuracy: 0.9996 - lr: 3.0000e-05\n",
            "Epoch 159/200\n",
            "72/75 [===========================>..] - ETA: 0s - loss: 6.6858e-04 - accuracy: 1.0000"
          ]
        },
        {
          "output_type": "stream",
          "name": "stderr",
          "text": [
            "WARNING:tensorflow:Early stopping conditioned on metric `val_loss` which is not available. Available metrics are: loss,accuracy\n",
            "WARNING:tensorflow:Learning rate reduction is conditioned on metric `val_loss` which is not available. Available metrics are: loss,accuracy,lr\n"
          ]
        },
        {
          "output_type": "stream",
          "name": "stdout",
          "text": [
            "\b\b\b\b\b\b\b\b\b\b\b\b\b\b\b\b\b\b\b\b\b\b\b\b\b\b\b\b\b\b\b\b\b\b\b\b\b\b\b\b\b\b\b\b\b\b\b\b\b\b\b\b\b\b\b\b\b\b\b\b\b\b\b\b\b\b\b\b\b\b\b\b\b\b\b\b\b\b\b\b\b\b\b\b\b\b\r75/75 [==============================] - 0s 6ms/step - loss: 6.9640e-04 - accuracy: 1.0000 - lr: 3.0000e-05\n",
            "Epoch 160/200\n",
            "66/75 [=========================>....] - ETA: 0s - loss: 0.0010 - accuracy: 0.9995"
          ]
        },
        {
          "output_type": "stream",
          "name": "stderr",
          "text": [
            "WARNING:tensorflow:Early stopping conditioned on metric `val_loss` which is not available. Available metrics are: loss,accuracy\n",
            "WARNING:tensorflow:Learning rate reduction is conditioned on metric `val_loss` which is not available. Available metrics are: loss,accuracy,lr\n"
          ]
        },
        {
          "output_type": "stream",
          "name": "stdout",
          "text": [
            "\b\b\b\b\b\b\b\b\b\b\b\b\b\b\b\b\b\b\b\b\b\b\b\b\b\b\b\b\b\b\b\b\b\b\b\b\b\b\b\b\b\b\b\b\b\b\b\b\b\b\b\b\b\b\b\b\b\b\b\b\b\b\b\b\b\b\b\b\b\b\b\b\b\b\b\b\b\b\b\b\b\b\r75/75 [==============================] - 0s 6ms/step - loss: 0.0016 - accuracy: 0.9992 - lr: 3.0000e-05\n",
            "Epoch 161/200\n",
            "71/75 [===========================>..] - ETA: 0s - loss: 6.2131e-04 - accuracy: 1.0000"
          ]
        },
        {
          "output_type": "stream",
          "name": "stderr",
          "text": [
            "WARNING:tensorflow:Early stopping conditioned on metric `val_loss` which is not available. Available metrics are: loss,accuracy\n",
            "WARNING:tensorflow:Learning rate reduction is conditioned on metric `val_loss` which is not available. Available metrics are: loss,accuracy,lr\n"
          ]
        },
        {
          "output_type": "stream",
          "name": "stdout",
          "text": [
            "\b\b\b\b\b\b\b\b\b\b\b\b\b\b\b\b\b\b\b\b\b\b\b\b\b\b\b\b\b\b\b\b\b\b\b\b\b\b\b\b\b\b\b\b\b\b\b\b\b\b\b\b\b\b\b\b\b\b\b\b\b\b\b\b\b\b\b\b\b\b\b\b\b\b\b\b\b\b\b\b\b\b\b\b\b\b\r75/75 [==============================] - 0s 6ms/step - loss: 6.0741e-04 - accuracy: 1.0000 - lr: 3.0000e-05\n",
            "Epoch 162/200\n",
            "74/75 [============================>.] - ETA: 0s - loss: 8.5878e-04 - accuracy: 0.9996"
          ]
        },
        {
          "output_type": "stream",
          "name": "stderr",
          "text": [
            "WARNING:tensorflow:Early stopping conditioned on metric `val_loss` which is not available. Available metrics are: loss,accuracy\n",
            "WARNING:tensorflow:Learning rate reduction is conditioned on metric `val_loss` which is not available. Available metrics are: loss,accuracy,lr\n"
          ]
        },
        {
          "output_type": "stream",
          "name": "stdout",
          "text": [
            "\b\b\b\b\b\b\b\b\b\b\b\b\b\b\b\b\b\b\b\b\b\b\b\b\b\b\b\b\b\b\b\b\b\b\b\b\b\b\b\b\b\b\b\b\b\b\b\b\b\b\b\b\b\b\b\b\b\b\b\b\b\b\b\b\b\b\b\b\b\b\b\b\b\b\b\b\b\b\b\b\b\b\b\b\b\b\r75/75 [==============================] - 0s 6ms/step - loss: 8.5704e-04 - accuracy: 0.9996 - lr: 3.0000e-05\n",
            "Epoch 163/200\n",
            "70/75 [===========================>..] - ETA: 0s - loss: 0.0021 - accuracy: 0.9991"
          ]
        },
        {
          "output_type": "stream",
          "name": "stderr",
          "text": [
            "WARNING:tensorflow:Early stopping conditioned on metric `val_loss` which is not available. Available metrics are: loss,accuracy\n",
            "WARNING:tensorflow:Learning rate reduction is conditioned on metric `val_loss` which is not available. Available metrics are: loss,accuracy,lr\n"
          ]
        },
        {
          "output_type": "stream",
          "name": "stdout",
          "text": [
            "\b\b\b\b\b\b\b\b\b\b\b\b\b\b\b\b\b\b\b\b\b\b\b\b\b\b\b\b\b\b\b\b\b\b\b\b\b\b\b\b\b\b\b\b\b\b\b\b\b\b\b\b\b\b\b\b\b\b\b\b\b\b\b\b\b\b\b\b\b\b\b\b\b\b\b\b\b\b\b\b\b\b\r75/75 [==============================] - 0s 6ms/step - loss: 0.0020 - accuracy: 0.9992 - lr: 3.0000e-05\n",
            "Epoch 164/200\n",
            "67/75 [=========================>....] - ETA: 0s - loss: 0.0016 - accuracy: 0.9991    "
          ]
        },
        {
          "output_type": "stream",
          "name": "stderr",
          "text": [
            "WARNING:tensorflow:Early stopping conditioned on metric `val_loss` which is not available. Available metrics are: loss,accuracy\n",
            "WARNING:tensorflow:Learning rate reduction is conditioned on metric `val_loss` which is not available. Available metrics are: loss,accuracy,lr\n"
          ]
        },
        {
          "output_type": "stream",
          "name": "stdout",
          "text": [
            "\b\b\b\b\b\b\b\b\b\b\b\b\b\b\b\b\b\b\b\b\b\b\b\b\b\b\b\b\b\b\b\b\b\b\b\b\b\b\b\b\b\b\b\b\b\b\b\b\b\b\b\b\b\b\b\b\b\b\b\b\b\b\b\b\b\b\b\b\b\b\b\b\b\b\b\b\b\b\b\b\b\b\r75/75 [==============================] - 0s 6ms/step - loss: 0.0015 - accuracy: 0.9992 - lr: 3.0000e-05\n",
            "Epoch 165/200\n",
            "72/75 [===========================>..] - ETA: 0s - loss: 7.4078e-04 - accuracy: 1.0000"
          ]
        },
        {
          "output_type": "stream",
          "name": "stderr",
          "text": [
            "WARNING:tensorflow:Early stopping conditioned on metric `val_loss` which is not available. Available metrics are: loss,accuracy\n",
            "WARNING:tensorflow:Learning rate reduction is conditioned on metric `val_loss` which is not available. Available metrics are: loss,accuracy,lr\n"
          ]
        },
        {
          "output_type": "stream",
          "name": "stdout",
          "text": [
            "\b\b\b\b\b\b\b\b\b\b\b\b\b\b\b\b\b\b\b\b\b\b\b\b\b\b\b\b\b\b\b\b\b\b\b\b\b\b\b\b\b\b\b\b\b\b\b\b\b\b\b\b\b\b\b\b\b\b\b\b\b\b\b\b\b\b\b\b\b\b\b\b\b\b\b\b\b\b\b\b\b\b\b\b\b\b\r75/75 [==============================] - 0s 6ms/step - loss: 0.0019 - accuracy: 0.9996 - lr: 3.0000e-05\n",
            "Epoch 166/200\n",
            "74/75 [============================>.] - ETA: 0s - loss: 0.0016 - accuracy: 0.9992"
          ]
        },
        {
          "output_type": "stream",
          "name": "stderr",
          "text": [
            "WARNING:tensorflow:Early stopping conditioned on metric `val_loss` which is not available. Available metrics are: loss,accuracy\n",
            "WARNING:tensorflow:Learning rate reduction is conditioned on metric `val_loss` which is not available. Available metrics are: loss,accuracy,lr\n"
          ]
        },
        {
          "output_type": "stream",
          "name": "stdout",
          "text": [
            "\b\b\b\b\b\b\b\b\b\b\b\b\b\b\b\b\b\b\b\b\b\b\b\b\b\b\b\b\b\b\b\b\b\b\b\b\b\b\b\b\b\b\b\b\b\b\b\b\b\b\b\b\b\b\b\b\b\b\b\b\b\b\b\b\b\b\b\b\b\b\b\b\b\b\b\b\b\b\b\b\b\b\r75/75 [==============================] - 0s 6ms/step - loss: 0.0016 - accuracy: 0.9992 - lr: 3.0000e-05\n",
            "Epoch 167/200\n",
            "74/75 [============================>.] - ETA: 0s - loss: 9.1750e-04 - accuracy: 0.9996"
          ]
        },
        {
          "output_type": "stream",
          "name": "stderr",
          "text": [
            "WARNING:tensorflow:Early stopping conditioned on metric `val_loss` which is not available. Available metrics are: loss,accuracy\n",
            "WARNING:tensorflow:Learning rate reduction is conditioned on metric `val_loss` which is not available. Available metrics are: loss,accuracy,lr\n"
          ]
        },
        {
          "output_type": "stream",
          "name": "stdout",
          "text": [
            "\b\b\b\b\b\b\b\b\b\b\b\b\b\b\b\b\b\b\b\b\b\b\b\b\b\b\b\b\b\b\b\b\b\b\b\b\b\b\b\b\b\b\b\b\b\b\b\b\b\b\b\b\b\b\b\b\b\b\b\b\b\b\b\b\b\b\b\b\b\b\b\b\b\b\b\b\b\b\b\b\b\b\b\b\b\b\r75/75 [==============================] - 0s 6ms/step - loss: 9.1558e-04 - accuracy: 0.9996 - lr: 3.0000e-05\n",
            "Epoch 168/200\n",
            "74/75 [============================>.] - ETA: 0s - loss: 0.0018 - accuracy: 0.9992"
          ]
        },
        {
          "output_type": "stream",
          "name": "stderr",
          "text": [
            "WARNING:tensorflow:Early stopping conditioned on metric `val_loss` which is not available. Available metrics are: loss,accuracy\n",
            "WARNING:tensorflow:Learning rate reduction is conditioned on metric `val_loss` which is not available. Available metrics are: loss,accuracy,lr\n"
          ]
        },
        {
          "output_type": "stream",
          "name": "stdout",
          "text": [
            "\b\b\b\b\b\b\b\b\b\b\b\b\b\b\b\b\b\b\b\b\b\b\b\b\b\b\b\b\b\b\b\b\b\b\b\b\b\b\b\b\b\b\b\b\b\b\b\b\b\b\b\b\b\b\b\b\b\b\b\b\b\b\b\b\b\b\b\b\b\b\b\b\b\b\b\b\b\b\b\b\b\b\r75/75 [==============================] - 0s 6ms/step - loss: 0.0018 - accuracy: 0.9992 - lr: 3.0000e-05\n",
            "Epoch 169/200\n",
            "74/75 [============================>.] - ETA: 0s - loss: 0.0015 - accuracy: 0.9992"
          ]
        },
        {
          "output_type": "stream",
          "name": "stderr",
          "text": [
            "WARNING:tensorflow:Early stopping conditioned on metric `val_loss` which is not available. Available metrics are: loss,accuracy\n",
            "WARNING:tensorflow:Learning rate reduction is conditioned on metric `val_loss` which is not available. Available metrics are: loss,accuracy,lr\n"
          ]
        },
        {
          "output_type": "stream",
          "name": "stdout",
          "text": [
            "\b\b\b\b\b\b\b\b\b\b\b\b\b\b\b\b\b\b\b\b\b\b\b\b\b\b\b\b\b\b\b\b\b\b\b\b\b\b\b\b\b\b\b\b\b\b\b\b\b\b\b\b\b\b\b\b\b\b\b\b\b\b\b\b\b\b\b\b\b\b\b\b\b\b\b\b\b\b\b\b\b\b\r75/75 [==============================] - 0s 6ms/step - loss: 0.0015 - accuracy: 0.9992 - lr: 3.0000e-05\n",
            "Epoch 170/200\n",
            "73/75 [============================>.] - ETA: 0s - loss: 0.0012 - accuracy: 0.9991"
          ]
        },
        {
          "output_type": "stream",
          "name": "stderr",
          "text": [
            "WARNING:tensorflow:Early stopping conditioned on metric `val_loss` which is not available. Available metrics are: loss,accuracy\n",
            "WARNING:tensorflow:Learning rate reduction is conditioned on metric `val_loss` which is not available. Available metrics are: loss,accuracy,lr\n"
          ]
        },
        {
          "output_type": "stream",
          "name": "stdout",
          "text": [
            "\b\b\b\b\b\b\b\b\b\b\b\b\b\b\b\b\b\b\b\b\b\b\b\b\b\b\b\b\b\b\b\b\b\b\b\b\b\b\b\b\b\b\b\b\b\b\b\b\b\b\b\b\b\b\b\b\b\b\b\b\b\b\b\b\b\b\b\b\b\b\b\b\b\b\b\b\b\b\b\b\b\b\r75/75 [==============================] - 0s 6ms/step - loss: 0.0012 - accuracy: 0.9992 - lr: 3.0000e-05\n",
            "Epoch 171/200\n",
            "74/75 [============================>.] - ETA: 0s - loss: 0.0021 - accuracy: 0.9992"
          ]
        },
        {
          "output_type": "stream",
          "name": "stderr",
          "text": [
            "WARNING:tensorflow:Early stopping conditioned on metric `val_loss` which is not available. Available metrics are: loss,accuracy\n",
            "WARNING:tensorflow:Learning rate reduction is conditioned on metric `val_loss` which is not available. Available metrics are: loss,accuracy,lr\n"
          ]
        },
        {
          "output_type": "stream",
          "name": "stdout",
          "text": [
            "\b\b\b\b\b\b\b\b\b\b\b\b\b\b\b\b\b\b\b\b\b\b\b\b\b\b\b\b\b\b\b\b\b\b\b\b\b\b\b\b\b\b\b\b\b\b\b\b\b\b\b\b\b\b\b\b\b\b\b\b\b\b\b\b\b\b\b\b\b\b\b\b\b\b\b\b\b\b\b\b\b\b\r75/75 [==============================] - 0s 6ms/step - loss: 0.0021 - accuracy: 0.9992 - lr: 3.0000e-05\n",
            "Epoch 172/200\n",
            "70/75 [===========================>..] - ETA: 0s - loss: 0.0015 - accuracy: 0.9991"
          ]
        },
        {
          "output_type": "stream",
          "name": "stderr",
          "text": [
            "WARNING:tensorflow:Early stopping conditioned on metric `val_loss` which is not available. Available metrics are: loss,accuracy\n",
            "WARNING:tensorflow:Learning rate reduction is conditioned on metric `val_loss` which is not available. Available metrics are: loss,accuracy,lr\n"
          ]
        },
        {
          "output_type": "stream",
          "name": "stdout",
          "text": [
            "\b\b\b\b\b\b\b\b\b\b\b\b\b\b\b\b\b\b\b\b\b\b\b\b\b\b\b\b\b\b\b\b\b\b\b\b\b\b\b\b\b\b\b\b\b\b\b\b\b\b\b\b\b\b\b\b\b\b\b\b\b\b\b\b\b\b\b\b\b\b\b\b\b\b\b\b\b\b\b\b\b\b\r75/75 [==============================] - 0s 6ms/step - loss: 0.0015 - accuracy: 0.9992 - lr: 3.0000e-05\n",
            "Epoch 173/200\n",
            "75/75 [==============================] - ETA: 0s - loss: 5.2581e-04 - accuracy: 1.0000"
          ]
        },
        {
          "output_type": "stream",
          "name": "stderr",
          "text": [
            "WARNING:tensorflow:Early stopping conditioned on metric `val_loss` which is not available. Available metrics are: loss,accuracy\n",
            "WARNING:tensorflow:Learning rate reduction is conditioned on metric `val_loss` which is not available. Available metrics are: loss,accuracy,lr\n"
          ]
        },
        {
          "output_type": "stream",
          "name": "stdout",
          "text": [
            "\b\b\b\b\b\b\b\b\b\b\b\b\b\b\b\b\b\b\b\b\b\b\b\b\b\b\b\b\b\b\b\b\b\b\b\b\b\b\b\b\b\b\b\b\b\b\b\b\b\b\b\b\b\b\b\b\b\b\b\b\b\b\b\b\b\b\b\b\b\b\b\b\b\b\b\b\b\b\b\b\b\b\b\b\b\b\r75/75 [==============================] - 0s 6ms/step - loss: 5.2581e-04 - accuracy: 1.0000 - lr: 3.0000e-05\n",
            "Epoch 174/200\n",
            "67/75 [=========================>....] - ETA: 0s - loss: 0.0015 - accuracy: 0.9991"
          ]
        },
        {
          "output_type": "stream",
          "name": "stderr",
          "text": [
            "WARNING:tensorflow:Early stopping conditioned on metric `val_loss` which is not available. Available metrics are: loss,accuracy\n",
            "WARNING:tensorflow:Learning rate reduction is conditioned on metric `val_loss` which is not available. Available metrics are: loss,accuracy,lr\n"
          ]
        },
        {
          "output_type": "stream",
          "name": "stdout",
          "text": [
            "\b\b\b\b\b\b\b\b\b\b\b\b\b\b\b\b\b\b\b\b\b\b\b\b\b\b\b\b\b\b\b\b\b\b\b\b\b\b\b\b\b\b\b\b\b\b\b\b\b\b\b\b\b\b\b\b\b\b\b\b\b\b\b\b\b\b\b\b\b\b\b\b\b\b\b\b\b\b\b\b\b\b\r75/75 [==============================] - 0s 6ms/step - loss: 0.0013 - accuracy: 0.9992 - lr: 3.0000e-05\n",
            "Epoch 175/200\n",
            "67/75 [=========================>....] - ETA: 0s - loss: 0.0023 - accuracy: 0.9991"
          ]
        },
        {
          "output_type": "stream",
          "name": "stderr",
          "text": [
            "WARNING:tensorflow:Early stopping conditioned on metric `val_loss` which is not available. Available metrics are: loss,accuracy\n",
            "WARNING:tensorflow:Learning rate reduction is conditioned on metric `val_loss` which is not available. Available metrics are: loss,accuracy,lr\n"
          ]
        },
        {
          "output_type": "stream",
          "name": "stdout",
          "text": [
            "\b\b\b\b\b\b\b\b\b\b\b\b\b\b\b\b\b\b\b\b\b\b\b\b\b\b\b\b\b\b\b\b\b\b\b\b\b\b\b\b\b\b\b\b\b\b\b\b\b\b\b\b\b\b\b\b\b\b\b\b\b\b\b\b\b\b\b\b\b\b\b\b\b\b\b\b\b\b\b\b\b\b\r75/75 [==============================] - 0s 6ms/step - loss: 0.0021 - accuracy: 0.9992 - lr: 3.0000e-05\n",
            "Epoch 176/200\n",
            "71/75 [===========================>..] - ETA: 0s - loss: 0.0015 - accuracy: 0.9991"
          ]
        },
        {
          "output_type": "stream",
          "name": "stderr",
          "text": [
            "WARNING:tensorflow:Early stopping conditioned on metric `val_loss` which is not available. Available metrics are: loss,accuracy\n",
            "WARNING:tensorflow:Learning rate reduction is conditioned on metric `val_loss` which is not available. Available metrics are: loss,accuracy,lr\n"
          ]
        },
        {
          "output_type": "stream",
          "name": "stdout",
          "text": [
            "\b\b\b\b\b\b\b\b\b\b\b\b\b\b\b\b\b\b\b\b\b\b\b\b\b\b\b\b\b\b\b\b\b\b\b\b\b\b\b\b\b\b\b\b\b\b\b\b\b\b\b\b\b\b\b\b\b\b\b\b\b\b\b\b\b\b\b\b\b\b\b\b\b\b\b\b\b\b\b\b\b\b\r75/75 [==============================] - 0s 6ms/step - loss: 0.0014 - accuracy: 0.9992 - lr: 3.0000e-05\n",
            "Epoch 177/200\n",
            "67/75 [=========================>....] - ETA: 0s - loss: 0.0011 - accuracy: 0.9995    "
          ]
        },
        {
          "output_type": "stream",
          "name": "stderr",
          "text": [
            "WARNING:tensorflow:Early stopping conditioned on metric `val_loss` which is not available. Available metrics are: loss,accuracy\n",
            "WARNING:tensorflow:Learning rate reduction is conditioned on metric `val_loss` which is not available. Available metrics are: loss,accuracy,lr\n"
          ]
        },
        {
          "output_type": "stream",
          "name": "stdout",
          "text": [
            "\b\b\b\b\b\b\b\b\b\b\b\b\b\b\b\b\b\b\b\b\b\b\b\b\b\b\b\b\b\b\b\b\b\b\b\b\b\b\b\b\b\b\b\b\b\b\b\b\b\b\b\b\b\b\b\b\b\b\b\b\b\b\b\b\b\b\b\b\b\b\b\b\b\b\b\b\b\b\b\b\b\b\r75/75 [==============================] - 0s 6ms/step - loss: 0.0011 - accuracy: 0.9996 - lr: 3.0000e-05\n",
            "Epoch 178/200\n",
            "74/75 [============================>.] - ETA: 0s - loss: 0.0021 - accuracy: 0.9992"
          ]
        },
        {
          "output_type": "stream",
          "name": "stderr",
          "text": [
            "WARNING:tensorflow:Early stopping conditioned on metric `val_loss` which is not available. Available metrics are: loss,accuracy\n",
            "WARNING:tensorflow:Learning rate reduction is conditioned on metric `val_loss` which is not available. Available metrics are: loss,accuracy,lr\n"
          ]
        },
        {
          "output_type": "stream",
          "name": "stdout",
          "text": [
            "\b\b\b\b\b\b\b\b\b\b\b\b\b\b\b\b\b\b\b\b\b\b\b\b\b\b\b\b\b\b\b\b\b\b\b\b\b\b\b\b\b\b\b\b\b\b\b\b\b\b\b\b\b\b\b\b\b\b\b\b\b\b\b\b\b\b\b\b\b\b\b\b\b\b\b\b\b\b\b\b\b\b\r75/75 [==============================] - 0s 6ms/step - loss: 0.0021 - accuracy: 0.9992 - lr: 3.0000e-05\n",
            "Epoch 179/200\n",
            "70/75 [===========================>..] - ETA: 0s - loss: 8.7256e-04 - accuracy: 0.9996"
          ]
        },
        {
          "output_type": "stream",
          "name": "stderr",
          "text": [
            "WARNING:tensorflow:Early stopping conditioned on metric `val_loss` which is not available. Available metrics are: loss,accuracy\n",
            "WARNING:tensorflow:Learning rate reduction is conditioned on metric `val_loss` which is not available. Available metrics are: loss,accuracy,lr\n"
          ]
        },
        {
          "output_type": "stream",
          "name": "stdout",
          "text": [
            "\b\b\b\b\b\b\b\b\b\b\b\b\b\b\b\b\b\b\b\b\b\b\b\b\b\b\b\b\b\b\b\b\b\b\b\b\b\b\b\b\b\b\b\b\b\b\b\b\b\b\b\b\b\b\b\b\b\b\b\b\b\b\b\b\b\b\b\b\b\b\b\b\b\b\b\b\b\b\b\b\b\b\b\b\b\b\r75/75 [==============================] - 0s 6ms/step - loss: 8.3506e-04 - accuracy: 0.9996 - lr: 3.0000e-05\n",
            "Epoch 180/200\n",
            "72/75 [===========================>..] - ETA: 0s - loss: 6.7479e-04 - accuracy: 1.0000"
          ]
        },
        {
          "output_type": "stream",
          "name": "stderr",
          "text": [
            "WARNING:tensorflow:Early stopping conditioned on metric `val_loss` which is not available. Available metrics are: loss,accuracy\n",
            "WARNING:tensorflow:Learning rate reduction is conditioned on metric `val_loss` which is not available. Available metrics are: loss,accuracy,lr\n"
          ]
        },
        {
          "output_type": "stream",
          "name": "stdout",
          "text": [
            "\b\b\b\b\b\b\b\b\b\b\b\b\b\b\b\b\b\b\b\b\b\b\b\b\b\b\b\b\b\b\b\b\b\b\b\b\b\b\b\b\b\b\b\b\b\b\b\b\b\b\b\b\b\b\b\b\b\b\b\b\b\b\b\b\b\b\b\b\b\b\b\b\b\b\b\b\b\b\b\b\b\b\b\b\b\b\r75/75 [==============================] - 0s 6ms/step - loss: 6.6095e-04 - accuracy: 1.0000 - lr: 3.0000e-05\n",
            "Epoch 181/200\n",
            "71/75 [===========================>..] - ETA: 0s - loss: 5.6497e-04 - accuracy: 1.0000"
          ]
        },
        {
          "output_type": "stream",
          "name": "stderr",
          "text": [
            "WARNING:tensorflow:Early stopping conditioned on metric `val_loss` which is not available. Available metrics are: loss,accuracy\n",
            "WARNING:tensorflow:Learning rate reduction is conditioned on metric `val_loss` which is not available. Available metrics are: loss,accuracy,lr\n"
          ]
        },
        {
          "output_type": "stream",
          "name": "stdout",
          "text": [
            "\b\b\b\b\b\b\b\b\b\b\b\b\b\b\b\b\b\b\b\b\b\b\b\b\b\b\b\b\b\b\b\b\b\b\b\b\b\b\b\b\b\b\b\b\b\b\b\b\b\b\b\b\b\b\b\b\b\b\b\b\b\b\b\b\b\b\b\b\b\b\b\b\b\b\b\b\b\b\b\b\b\b\b\b\b\b\r75/75 [==============================] - 0s 6ms/step - loss: 5.4307e-04 - accuracy: 1.0000 - lr: 3.0000e-05\n",
            "Epoch 182/200\n",
            "71/75 [===========================>..] - ETA: 0s - loss: 0.0015 - accuracy: 0.9991"
          ]
        },
        {
          "output_type": "stream",
          "name": "stderr",
          "text": [
            "WARNING:tensorflow:Early stopping conditioned on metric `val_loss` which is not available. Available metrics are: loss,accuracy\n",
            "WARNING:tensorflow:Learning rate reduction is conditioned on metric `val_loss` which is not available. Available metrics are: loss,accuracy,lr\n"
          ]
        },
        {
          "output_type": "stream",
          "name": "stdout",
          "text": [
            "\b\b\b\b\b\b\b\b\b\b\b\b\b\b\b\b\b\b\b\b\b\b\b\b\b\b\b\b\b\b\b\b\b\b\b\b\b\b\b\b\b\b\b\b\b\b\b\b\b\b\b\b\b\b\b\b\b\b\b\b\b\b\b\b\b\b\b\b\b\b\b\b\b\b\b\b\b\b\b\b\b\b\r75/75 [==============================] - 0s 6ms/step - loss: 0.0014 - accuracy: 0.9992 - lr: 3.0000e-05\n",
            "Epoch 183/200\n",
            "73/75 [============================>.] - ETA: 0s - loss: 0.0013 - accuracy: 0.9991    "
          ]
        },
        {
          "output_type": "stream",
          "name": "stderr",
          "text": [
            "WARNING:tensorflow:Early stopping conditioned on metric `val_loss` which is not available. Available metrics are: loss,accuracy\n",
            "WARNING:tensorflow:Learning rate reduction is conditioned on metric `val_loss` which is not available. Available metrics are: loss,accuracy,lr\n"
          ]
        },
        {
          "output_type": "stream",
          "name": "stdout",
          "text": [
            "\b\b\b\b\b\b\b\b\b\b\b\b\b\b\b\b\b\b\b\b\b\b\b\b\b\b\b\b\b\b\b\b\b\b\b\b\b\b\b\b\b\b\b\b\b\b\b\b\b\b\b\b\b\b\b\b\b\b\b\b\b\b\b\b\b\b\b\b\b\b\b\b\b\b\b\b\b\b\b\b\b\b\r75/75 [==============================] - 0s 6ms/step - loss: 0.0013 - accuracy: 0.9992 - lr: 3.0000e-05\n",
            "Epoch 184/200\n",
            "72/75 [===========================>..] - ETA: 0s - loss: 0.0013 - accuracy: 0.9996"
          ]
        },
        {
          "output_type": "stream",
          "name": "stderr",
          "text": [
            "WARNING:tensorflow:Early stopping conditioned on metric `val_loss` which is not available. Available metrics are: loss,accuracy\n",
            "WARNING:tensorflow:Learning rate reduction is conditioned on metric `val_loss` which is not available. Available metrics are: loss,accuracy,lr\n"
          ]
        },
        {
          "output_type": "stream",
          "name": "stdout",
          "text": [
            "\b\b\b\b\b\b\b\b\b\b\b\b\b\b\b\b\b\b\b\b\b\b\b\b\b\b\b\b\b\b\b\b\b\b\b\b\b\b\b\b\b\b\b\b\b\b\b\b\b\b\b\b\b\b\b\b\b\b\b\b\b\b\b\b\b\b\b\b\b\b\b\b\b\b\b\b\b\b\b\b\b\b\r75/75 [==============================] - 0s 6ms/step - loss: 0.0012 - accuracy: 0.9996 - lr: 3.0000e-05\n",
            "Epoch 185/200\n",
            "73/75 [============================>.] - ETA: 0s - loss: 0.0019 - accuracy: 0.9991"
          ]
        },
        {
          "output_type": "stream",
          "name": "stderr",
          "text": [
            "WARNING:tensorflow:Early stopping conditioned on metric `val_loss` which is not available. Available metrics are: loss,accuracy\n",
            "WARNING:tensorflow:Learning rate reduction is conditioned on metric `val_loss` which is not available. Available metrics are: loss,accuracy,lr\n"
          ]
        },
        {
          "output_type": "stream",
          "name": "stdout",
          "text": [
            "\b\b\b\b\b\b\b\b\b\b\b\b\b\b\b\b\b\b\b\b\b\b\b\b\b\b\b\b\b\b\b\b\b\b\b\b\b\b\b\b\b\b\b\b\b\b\b\b\b\b\b\b\b\b\b\b\b\b\b\b\b\b\b\b\b\b\b\b\b\b\b\b\b\b\b\b\b\b\b\b\b\b\r75/75 [==============================] - 0s 6ms/step - loss: 0.0019 - accuracy: 0.9992 - lr: 3.0000e-05\n",
            "Epoch 186/200\n",
            "73/75 [============================>.] - ETA: 0s - loss: 7.6884e-04 - accuracy: 0.9996"
          ]
        },
        {
          "output_type": "stream",
          "name": "stderr",
          "text": [
            "WARNING:tensorflow:Early stopping conditioned on metric `val_loss` which is not available. Available metrics are: loss,accuracy\n",
            "WARNING:tensorflow:Learning rate reduction is conditioned on metric `val_loss` which is not available. Available metrics are: loss,accuracy,lr\n"
          ]
        },
        {
          "output_type": "stream",
          "name": "stdout",
          "text": [
            "\b\b\b\b\b\b\b\b\b\b\b\b\b\b\b\b\b\b\b\b\b\b\b\b\b\b\b\b\b\b\b\b\b\b\b\b\b\b\b\b\b\b\b\b\b\b\b\b\b\b\b\b\b\b\b\b\b\b\b\b\b\b\b\b\b\b\b\b\b\b\b\b\b\b\b\b\b\b\b\b\b\b\b\b\b\b\r75/75 [==============================] - 0s 6ms/step - loss: 8.6614e-04 - accuracy: 0.9996 - lr: 3.0000e-05\n",
            "Epoch 187/200\n",
            "75/75 [==============================] - ETA: 0s - loss: 0.0022 - accuracy: 0.9996"
          ]
        },
        {
          "output_type": "stream",
          "name": "stderr",
          "text": [
            "WARNING:tensorflow:Early stopping conditioned on metric `val_loss` which is not available. Available metrics are: loss,accuracy\n",
            "WARNING:tensorflow:Learning rate reduction is conditioned on metric `val_loss` which is not available. Available metrics are: loss,accuracy,lr\n"
          ]
        },
        {
          "output_type": "stream",
          "name": "stdout",
          "text": [
            "\b\b\b\b\b\b\b\b\b\b\b\b\b\b\b\b\b\b\b\b\b\b\b\b\b\b\b\b\b\b\b\b\b\b\b\b\b\b\b\b\b\b\b\b\b\b\b\b\b\b\b\b\b\b\b\b\b\b\b\b\b\b\b\b\b\b\b\b\b\b\b\b\b\b\b\b\b\b\b\b\b\b\r75/75 [==============================] - 0s 6ms/step - loss: 0.0022 - accuracy: 0.9996 - lr: 3.0000e-05\n",
            "Epoch 188/200\n",
            "69/75 [==========================>...] - ETA: 0s - loss: 7.5450e-04 - accuracy: 0.9995"
          ]
        },
        {
          "output_type": "stream",
          "name": "stderr",
          "text": [
            "WARNING:tensorflow:Early stopping conditioned on metric `val_loss` which is not available. Available metrics are: loss,accuracy\n",
            "WARNING:tensorflow:Learning rate reduction is conditioned on metric `val_loss` which is not available. Available metrics are: loss,accuracy,lr\n"
          ]
        },
        {
          "output_type": "stream",
          "name": "stdout",
          "text": [
            "\b\b\b\b\b\b\b\b\b\b\b\b\b\b\b\b\b\b\b\b\b\b\b\b\b\b\b\b\b\b\b\b\b\b\b\b\b\b\b\b\b\b\b\b\b\b\b\b\b\b\b\b\b\b\b\b\b\b\b\b\b\b\b\b\b\b\b\b\b\b\b\b\b\b\b\b\b\b\b\b\b\b\b\b\b\b\r75/75 [==============================] - 0s 6ms/step - loss: 7.0916e-04 - accuracy: 0.9996 - lr: 3.0000e-05\n",
            "Epoch 189/200\n",
            "70/75 [===========================>..] - ETA: 0s - loss: 0.0015 - accuracy: 0.9996    "
          ]
        },
        {
          "output_type": "stream",
          "name": "stderr",
          "text": [
            "WARNING:tensorflow:Early stopping conditioned on metric `val_loss` which is not available. Available metrics are: loss,accuracy\n",
            "WARNING:tensorflow:Learning rate reduction is conditioned on metric `val_loss` which is not available. Available metrics are: loss,accuracy,lr\n"
          ]
        },
        {
          "output_type": "stream",
          "name": "stdout",
          "text": [
            "\b\b\b\b\b\b\b\b\b\b\b\b\b\b\b\b\b\b\b\b\b\b\b\b\b\b\b\b\b\b\b\b\b\b\b\b\b\b\b\b\b\b\b\b\b\b\b\b\b\b\b\b\b\b\b\b\b\b\b\b\b\b\b\b\b\b\b\b\b\b\b\b\b\b\b\b\b\b\b\b\b\b\r75/75 [==============================] - 0s 6ms/step - loss: 0.0014 - accuracy: 0.9996 - lr: 3.0000e-05\n",
            "Epoch 190/200\n",
            "72/75 [===========================>..] - ETA: 0s - loss: 0.0011 - accuracy: 0.9996"
          ]
        },
        {
          "output_type": "stream",
          "name": "stderr",
          "text": [
            "WARNING:tensorflow:Early stopping conditioned on metric `val_loss` which is not available. Available metrics are: loss,accuracy\n",
            "WARNING:tensorflow:Learning rate reduction is conditioned on metric `val_loss` which is not available. Available metrics are: loss,accuracy,lr\n"
          ]
        },
        {
          "output_type": "stream",
          "name": "stdout",
          "text": [
            "\b\b\b\b\b\b\b\b\b\b\b\b\b\b\b\b\b\b\b\b\b\b\b\b\b\b\b\b\b\b\b\b\b\b\b\b\b\b\b\b\b\b\b\b\b\b\b\b\b\b\b\b\b\b\b\b\b\b\b\b\b\b\b\b\b\b\b\b\b\b\b\b\b\b\b\b\b\b\b\b\b\b\r75/75 [==============================] - 0s 6ms/step - loss: 0.0011 - accuracy: 0.9996 - lr: 3.0000e-05\n",
            "Epoch 191/200\n",
            "72/75 [===========================>..] - ETA: 0s - loss: 6.5794e-04 - accuracy: 1.0000"
          ]
        },
        {
          "output_type": "stream",
          "name": "stderr",
          "text": [
            "WARNING:tensorflow:Early stopping conditioned on metric `val_loss` which is not available. Available metrics are: loss,accuracy\n",
            "WARNING:tensorflow:Learning rate reduction is conditioned on metric `val_loss` which is not available. Available metrics are: loss,accuracy,lr\n"
          ]
        },
        {
          "output_type": "stream",
          "name": "stdout",
          "text": [
            "\b\b\b\b\b\b\b\b\b\b\b\b\b\b\b\b\b\b\b\b\b\b\b\b\b\b\b\b\b\b\b\b\b\b\b\b\b\b\b\b\b\b\b\b\b\b\b\b\b\b\b\b\b\b\b\b\b\b\b\b\b\b\b\b\b\b\b\b\b\b\b\b\b\b\b\b\b\b\b\b\b\b\b\b\b\b\r75/75 [==============================] - 0s 6ms/step - loss: 6.3953e-04 - accuracy: 1.0000 - lr: 3.0000e-05\n",
            "Epoch 192/200\n",
            "70/75 [===========================>..] - ETA: 0s - loss: 0.0020 - accuracy: 0.9991"
          ]
        },
        {
          "output_type": "stream",
          "name": "stderr",
          "text": [
            "WARNING:tensorflow:Early stopping conditioned on metric `val_loss` which is not available. Available metrics are: loss,accuracy\n",
            "WARNING:tensorflow:Learning rate reduction is conditioned on metric `val_loss` which is not available. Available metrics are: loss,accuracy,lr\n"
          ]
        },
        {
          "output_type": "stream",
          "name": "stdout",
          "text": [
            "\b\b\b\b\b\b\b\b\b\b\b\b\b\b\b\b\b\b\b\b\b\b\b\b\b\b\b\b\b\b\b\b\b\b\b\b\b\b\b\b\b\b\b\b\b\b\b\b\b\b\b\b\b\b\b\b\b\b\b\b\b\b\b\b\b\b\b\b\b\b\b\b\b\b\b\b\b\b\b\b\b\b\r75/75 [==============================] - 0s 6ms/step - loss: 0.0019 - accuracy: 0.9992 - lr: 3.0000e-05\n",
            "Epoch 193/200\n",
            "71/75 [===========================>..] - ETA: 0s - loss: 0.0013 - accuracy: 0.9996    "
          ]
        },
        {
          "output_type": "stream",
          "name": "stderr",
          "text": [
            "WARNING:tensorflow:Early stopping conditioned on metric `val_loss` which is not available. Available metrics are: loss,accuracy\n",
            "WARNING:tensorflow:Learning rate reduction is conditioned on metric `val_loss` which is not available. Available metrics are: loss,accuracy,lr\n"
          ]
        },
        {
          "output_type": "stream",
          "name": "stdout",
          "text": [
            "\b\b\b\b\b\b\b\b\b\b\b\b\b\b\b\b\b\b\b\b\b\b\b\b\b\b\b\b\b\b\b\b\b\b\b\b\b\b\b\b\b\b\b\b\b\b\b\b\b\b\b\b\b\b\b\b\b\b\b\b\b\b\b\b\b\b\b\b\b\b\b\b\b\b\b\b\b\b\b\b\b\b\r75/75 [==============================] - 0s 6ms/step - loss: 0.0012 - accuracy: 0.9996 - lr: 3.0000e-05\n",
            "Epoch 194/200\n",
            "72/75 [===========================>..] - ETA: 0s - loss: 0.0012 - accuracy: 0.9996"
          ]
        },
        {
          "output_type": "stream",
          "name": "stderr",
          "text": [
            "WARNING:tensorflow:Early stopping conditioned on metric `val_loss` which is not available. Available metrics are: loss,accuracy\n",
            "WARNING:tensorflow:Learning rate reduction is conditioned on metric `val_loss` which is not available. Available metrics are: loss,accuracy,lr\n"
          ]
        },
        {
          "output_type": "stream",
          "name": "stdout",
          "text": [
            "\b\b\b\b\b\b\b\b\b\b\b\b\b\b\b\b\b\b\b\b\b\b\b\b\b\b\b\b\b\b\b\b\b\b\b\b\b\b\b\b\b\b\b\b\b\b\b\b\b\b\b\b\b\b\b\b\b\b\b\b\b\b\b\b\b\b\b\b\b\b\b\b\b\b\b\b\b\b\b\b\b\b\r75/75 [==============================] - 0s 6ms/step - loss: 0.0012 - accuracy: 0.9996 - lr: 3.0000e-05\n",
            "Epoch 195/200\n",
            "70/75 [===========================>..] - ETA: 0s - loss: 0.0016 - accuracy: 0.9996    "
          ]
        },
        {
          "output_type": "stream",
          "name": "stderr",
          "text": [
            "WARNING:tensorflow:Early stopping conditioned on metric `val_loss` which is not available. Available metrics are: loss,accuracy\n",
            "WARNING:tensorflow:Learning rate reduction is conditioned on metric `val_loss` which is not available. Available metrics are: loss,accuracy,lr\n"
          ]
        },
        {
          "output_type": "stream",
          "name": "stdout",
          "text": [
            "\b\b\b\b\b\b\b\b\b\b\b\b\b\b\b\b\b\b\b\b\b\b\b\b\b\b\b\b\b\b\b\b\b\b\b\b\b\b\b\b\b\b\b\b\b\b\b\b\b\b\b\b\b\b\b\b\b\b\b\b\b\b\b\b\b\b\b\b\b\b\b\b\b\b\b\b\b\b\b\b\b\b\r75/75 [==============================] - 0s 6ms/step - loss: 0.0015 - accuracy: 0.9996 - lr: 3.0000e-05\n",
            "Epoch 196/200\n",
            "74/75 [============================>.] - ETA: 0s - loss: 0.0014 - accuracy: 0.9996"
          ]
        },
        {
          "output_type": "stream",
          "name": "stderr",
          "text": [
            "WARNING:tensorflow:Early stopping conditioned on metric `val_loss` which is not available. Available metrics are: loss,accuracy\n",
            "WARNING:tensorflow:Learning rate reduction is conditioned on metric `val_loss` which is not available. Available metrics are: loss,accuracy,lr\n"
          ]
        },
        {
          "output_type": "stream",
          "name": "stdout",
          "text": [
            "\b\b\b\b\b\b\b\b\b\b\b\b\b\b\b\b\b\b\b\b\b\b\b\b\b\b\b\b\b\b\b\b\b\b\b\b\b\b\b\b\b\b\b\b\b\b\b\b\b\b\b\b\b\b\b\b\b\b\b\b\b\b\b\b\b\b\b\b\b\b\b\b\b\b\b\b\b\b\b\b\b\b\r75/75 [==============================] - 0s 6ms/step - loss: 0.0014 - accuracy: 0.9996 - lr: 3.0000e-05\n",
            "Epoch 197/200\n",
            "70/75 [===========================>..] - ETA: 0s - loss: 0.0022 - accuracy: 0.9996"
          ]
        },
        {
          "output_type": "stream",
          "name": "stderr",
          "text": [
            "WARNING:tensorflow:Early stopping conditioned on metric `val_loss` which is not available. Available metrics are: loss,accuracy\n",
            "WARNING:tensorflow:Learning rate reduction is conditioned on metric `val_loss` which is not available. Available metrics are: loss,accuracy,lr\n"
          ]
        },
        {
          "output_type": "stream",
          "name": "stdout",
          "text": [
            "\b\b\b\b\b\b\b\b\b\b\b\b\b\b\b\b\b\b\b\b\b\b\b\b\b\b\b\b\b\b\b\b\b\b\b\b\b\b\b\b\b\b\b\b\b\b\b\b\b\b\b\b\b\b\b\b\b\b\b\b\b\b\b\b\b\b\b\b\b\b\b\b\b\b\b\b\b\b\b\b\b\b\r75/75 [==============================] - 0s 6ms/step - loss: 0.0021 - accuracy: 0.9996 - lr: 3.0000e-05\n",
            "Epoch 198/200\n",
            "72/75 [===========================>..] - ETA: 0s - loss: 0.0016 - accuracy: 0.9996"
          ]
        },
        {
          "output_type": "stream",
          "name": "stderr",
          "text": [
            "WARNING:tensorflow:Early stopping conditioned on metric `val_loss` which is not available. Available metrics are: loss,accuracy\n",
            "WARNING:tensorflow:Learning rate reduction is conditioned on metric `val_loss` which is not available. Available metrics are: loss,accuracy,lr\n"
          ]
        },
        {
          "output_type": "stream",
          "name": "stdout",
          "text": [
            "\b\b\b\b\b\b\b\b\b\b\b\b\b\b\b\b\b\b\b\b\b\b\b\b\b\b\b\b\b\b\b\b\b\b\b\b\b\b\b\b\b\b\b\b\b\b\b\b\b\b\b\b\b\b\b\b\b\b\b\b\b\b\b\b\b\b\b\b\b\b\b\b\b\b\b\b\b\b\b\b\b\b\r75/75 [==============================] - 0s 6ms/step - loss: 0.0016 - accuracy: 0.9996 - lr: 3.0000e-05\n",
            "Epoch 199/200\n",
            "73/75 [============================>.] - ETA: 0s - loss: 0.0017 - accuracy: 0.9996"
          ]
        },
        {
          "output_type": "stream",
          "name": "stderr",
          "text": [
            "WARNING:tensorflow:Early stopping conditioned on metric `val_loss` which is not available. Available metrics are: loss,accuracy\n",
            "WARNING:tensorflow:Learning rate reduction is conditioned on metric `val_loss` which is not available. Available metrics are: loss,accuracy,lr\n"
          ]
        },
        {
          "output_type": "stream",
          "name": "stdout",
          "text": [
            "\b\b\b\b\b\b\b\b\b\b\b\b\b\b\b\b\b\b\b\b\b\b\b\b\b\b\b\b\b\b\b\b\b\b\b\b\b\b\b\b\b\b\b\b\b\b\b\b\b\b\b\b\b\b\b\b\b\b\b\b\b\b\b\b\b\b\b\b\b\b\b\b\b\b\b\b\b\b\b\b\b\b\r75/75 [==============================] - 0s 6ms/step - loss: 0.0017 - accuracy: 0.9996 - lr: 3.0000e-05\n",
            "Epoch 200/200\n",
            "73/75 [============================>.] - ETA: 0s - loss: 7.0098e-04 - accuracy: 0.9996"
          ]
        },
        {
          "output_type": "stream",
          "name": "stderr",
          "text": [
            "WARNING:tensorflow:Early stopping conditioned on metric `val_loss` which is not available. Available metrics are: loss,accuracy\n",
            "WARNING:tensorflow:Learning rate reduction is conditioned on metric `val_loss` which is not available. Available metrics are: loss,accuracy,lr\n"
          ]
        },
        {
          "output_type": "stream",
          "name": "stdout",
          "text": [
            "\b\b\b\b\b\b\b\b\b\b\b\b\b\b\b\b\b\b\b\b\b\b\b\b\b\b\b\b\b\b\b\b\b\b\b\b\b\b\b\b\b\b\b\b\b\b\b\b\b\b\b\b\b\b\b\b\b\b\b\b\b\b\b\b\b\b\b\b\b\b\b\b\b\b\b\b\b\b\b\b\b\b\b\b\b\b\r75/75 [==============================] - 0s 6ms/step - loss: 6.9452e-04 - accuracy: 0.9996 - lr: 3.0000e-05\n"
          ]
        }
      ]
    },
    {
      "cell_type": "markdown",
      "source": [
        "# log loss"
      ],
      "metadata": {
        "id": "U3Xg55v7ZbWc"
      }
    },
    {
      "cell_type": "code",
      "source": [
        "CNN1_network_predictions = CNN1_network.predict(padded_clean_text_t_stem)"
      ],
      "metadata": {
        "id": "dbcI7RTeZcn2"
      },
      "execution_count": null,
      "outputs": []
    },
    {
      "cell_type": "code",
      "source": [
        "from sklearn.metrics import log_loss\n",
        "log_loss_test= log_loss(label_twoDimension_t,CNN1_network_predictions)\n",
        "log_loss_test"
      ],
      "metadata": {
        "colab": {
          "base_uri": "https://localhost:8080/"
        },
        "id": "vBA3XmTFZf4y",
        "outputId": "5792c4cf-c4c5-4d00-c78d-c49775abedbb"
      },
      "execution_count": null,
      "outputs": [
        {
          "output_type": "execute_result",
          "data": {
            "text/plain": [
              "2.5417801803252393"
            ]
          },
          "metadata": {},
          "execution_count": 64
        }
      ]
    },
    {
      "cell_type": "markdown",
      "source": [
        "# Classification Report\n"
      ],
      "metadata": {
        "id": "gIX9etNsZiSb"
      }
    },
    {
      "cell_type": "code",
      "source": [
        "predictions = np.zeros_like(CNN1_network_predictions)\n",
        "predictions[np.arange(len(CNN1_network_predictions)), CNN1_network_predictions.argmax(1)] = 1\n",
        "\n"
      ],
      "metadata": {
        "id": "EejyfrakZjSe"
      },
      "execution_count": null,
      "outputs": []
    },
    {
      "cell_type": "code",
      "source": [
        "\n",
        "\n",
        "predictionInteger=(np.argmax(predictions, axis=1))\n",
        "predictionInteger\n",
        "\n"
      ],
      "metadata": {
        "colab": {
          "base_uri": "https://localhost:8080/"
        },
        "id": "gegx60d8ZmD0",
        "outputId": "8661a6be-729c-4fa8-c1c1-9852d0768969"
      },
      "execution_count": null,
      "outputs": [
        {
          "output_type": "execute_result",
          "data": {
            "text/plain": [
              "array([1, 0, 0, ..., 1, 1, 1])"
            ]
          },
          "metadata": {},
          "execution_count": 66
        }
      ]
    },
    {
      "cell_type": "code",
      "source": [
        "\n",
        "\n",
        "pred_label = np.array(predictionInteger)\n",
        "df = pd.DataFrame(data=pred_label , columns=[\"task1\"])\n",
        "print(df)\n",
        "\n"
      ],
      "metadata": {
        "colab": {
          "base_uri": "https://localhost:8080/"
        },
        "id": "oceUPc_tZniC",
        "outputId": "93b81774-4bc4-4e61-808f-76c3dfd6d108"
      },
      "execution_count": null,
      "outputs": [
        {
          "output_type": "stream",
          "name": "stdout",
          "text": [
            "      task1\n",
            "0         1\n",
            "1         0\n",
            "2         0\n",
            "3         1\n",
            "4         0\n",
            "...     ...\n",
            "3026      1\n",
            "3027      1\n",
            "3028      1\n",
            "3029      1\n",
            "3030      1\n",
            "\n",
            "[3031 rows x 1 columns]\n"
          ]
        }
      ]
    },
    {
      "cell_type": "code",
      "source": [
        "df.to_csv(\"NSIT_Train_HASOC2020_Test_GermEval2019_Task_A_submission_DE_A.csv\", index=False)"
      ],
      "metadata": {
        "id": "Ey4jhyzcZpFS"
      },
      "execution_count": null,
      "outputs": []
    },
    {
      "cell_type": "code",
      "source": [
        "\n",
        "\n",
        "from sklearn.metrics import classification_report\n",
        "print(classification_report(label_twoDimension_t,predictions))\n",
        "\n"
      ],
      "metadata": {
        "colab": {
          "base_uri": "https://localhost:8080/"
        },
        "id": "XLy5CXJXZtSj",
        "outputId": "40f3854c-5759-4026-dcdb-74b0650e95ac"
      },
      "execution_count": null,
      "outputs": [
        {
          "output_type": "stream",
          "name": "stdout",
          "text": [
            "              precision    recall  f1-score   support\n",
            "\n",
            "           0       0.47      0.23      0.30       970\n",
            "           1       0.71      0.88      0.78      2061\n",
            "\n",
            "   micro avg       0.67      0.67      0.67      3031\n",
            "   macro avg       0.59      0.55      0.54      3031\n",
            "weighted avg       0.63      0.67      0.63      3031\n",
            " samples avg       0.67      0.67      0.67      3031\n",
            "\n"
          ]
        }
      ]
    },
    {
      "cell_type": "markdown",
      "source": [
        "# Epoch v/s Loss Plot\n"
      ],
      "metadata": {
        "id": "vtezBAMJZvBv"
      }
    },
    {
      "cell_type": "code",
      "source": [
        "\n",
        "\n",
        "from matplotlib import pyplot as plt\n",
        "plt.plot(hist.history[\"loss\"],color = 'red', label = 'train_loss')\n",
        "#plt.plot(hist.history[\"val_loss\"],color = 'blue', label = 'val_loss')\n",
        "plt.title('Loss Visualisation')\n",
        "plt.xlabel('Epochs')\n",
        "plt.ylabel('Loss')\n",
        "plt.legend()\n",
        "plt.savefig('CNN1_Train_HASOC2020_Test_GermEval2019_Task_A_Ger_lossPlot.pdf',dpi=1000)\n",
        "\n",
        "from google.colab import files\n",
        "files.download('CNN1_Train_HASOC2020_Test_GermEval2019_Task_A_Ger_lossPlot.pdf') \n",
        "\n"
      ],
      "metadata": {
        "colab": {
          "base_uri": "https://localhost:8080/"
        },
        "id": "3Q4VbA71ZwwS",
        "outputId": "59a4ca6a-6ae8-4068-e0a7-ebcabbf2ab88"
      },
      "execution_count": null,
      "outputs": [
        {
          "output_type": "display_data",
          "data": {
            "text/plain": [
              "<IPython.core.display.Javascript object>"
            ],
            "application/javascript": [
              "\n",
              "    async function download(id, filename, size) {\n",
              "      if (!google.colab.kernel.accessAllowed) {\n",
              "        return;\n",
              "      }\n",
              "      const div = document.createElement('div');\n",
              "      const label = document.createElement('label');\n",
              "      label.textContent = `Downloading \"${filename}\": `;\n",
              "      div.appendChild(label);\n",
              "      const progress = document.createElement('progress');\n",
              "      progress.max = size;\n",
              "      div.appendChild(progress);\n",
              "      document.body.appendChild(div);\n",
              "\n",
              "      const buffers = [];\n",
              "      let downloaded = 0;\n",
              "\n",
              "      const channel = await google.colab.kernel.comms.open(id);\n",
              "      // Send a message to notify the kernel that we're ready.\n",
              "      channel.send({})\n",
              "\n",
              "      for await (const message of channel.messages) {\n",
              "        // Send a message to notify the kernel that we're ready.\n",
              "        channel.send({})\n",
              "        if (message.buffers) {\n",
              "          for (const buffer of message.buffers) {\n",
              "            buffers.push(buffer);\n",
              "            downloaded += buffer.byteLength;\n",
              "            progress.value = downloaded;\n",
              "          }\n",
              "        }\n",
              "      }\n",
              "      const blob = new Blob(buffers, {type: 'application/binary'});\n",
              "      const a = document.createElement('a');\n",
              "      a.href = window.URL.createObjectURL(blob);\n",
              "      a.download = filename;\n",
              "      div.appendChild(a);\n",
              "      a.click();\n",
              "      div.remove();\n",
              "    }\n",
              "  "
            ]
          },
          "metadata": {}
        },
        {
          "output_type": "display_data",
          "data": {
            "text/plain": [
              "<IPython.core.display.Javascript object>"
            ],
            "application/javascript": [
              "download(\"download_2e8fb5f0-5d0b-4be1-8fec-f9a0c2ba2abb\", \"CNN1_Train_HASOC2020_Test_GermEval2019_Task_A_Ger_lossPlot.pdf\", 12543)"
            ]
          },
          "metadata": {}
        },
        {
          "output_type": "display_data",
          "data": {
            "text/plain": [
              "<Figure size 432x288 with 1 Axes>"
            ],
            "image/png": "[encoded data removed]"
          },
          "metadata": {
            "needs_background": "light"
          }
        }
      ]
    },
    {
      "cell_type": "markdown",
      "source": [
        "# Epoch v/s Accuracy Plot\n"
      ],
      "metadata": {
        "id": "NEu9wKuUZ0z3"
      }
    },
    {
      "cell_type": "code",
      "source": [
        "\n",
        "\n",
        "plt.plot(hist.history[\"accuracy\"],color = 'red', label = 'train_accuracy')\n",
        "#plt.plot(hist.history[\"val_accuracy\"],color = 'blue', label = 'val_accuracy')\n",
        "plt.title('Accuracy Visualisation')\n",
        "plt.xlabel('Epochs')\n",
        "plt.ylabel('Accuracy')\n",
        "plt.legend()\n",
        "plt.savefig('CNN1_Train_HASOC2020_Test_GermEval2019_Task_A_Ger_accuracyPlot.pdf',dpi=1000)\n",
        "files.download('CNN1_Train_HASOC2020_Test_GermEval2019_Task_A_Ger_accuracyPlot.pdf') \n",
        "\n"
      ],
      "metadata": {
        "colab": {
          "base_uri": "https://localhost:8080/"
        },
        "id": "6Ad_2uQZZyuB",
        "outputId": "f9f0b91f-d699-404c-ae27-647a0dbb9b5c"
      },
      "execution_count": null,
      "outputs": [
        {
          "output_type": "display_data",
          "data": {
            "text/plain": [
              "<IPython.core.display.Javascript object>"
            ],
            "application/javascript": [
              "\n",
              "    async function download(id, filename, size) {\n",
              "      if (!google.colab.kernel.accessAllowed) {\n",
              "        return;\n",
              "      }\n",
              "      const div = document.createElement('div');\n",
              "      const label = document.createElement('label');\n",
              "      label.textContent = `Downloading \"${filename}\": `;\n",
              "      div.appendChild(label);\n",
              "      const progress = document.createElement('progress');\n",
              "      progress.max = size;\n",
              "      div.appendChild(progress);\n",
              "      document.body.appendChild(div);\n",
              "\n",
              "      const buffers = [];\n",
              "      let downloaded = 0;\n",
              "\n",
              "      const channel = await google.colab.kernel.comms.open(id);\n",
              "      // Send a message to notify the kernel that we're ready.\n",
              "      channel.send({})\n",
              "\n",
              "      for await (const message of channel.messages) {\n",
              "        // Send a message to notify the kernel that we're ready.\n",
              "        channel.send({})\n",
              "        if (message.buffers) {\n",
              "          for (const buffer of message.buffers) {\n",
              "            buffers.push(buffer);\n",
              "            downloaded += buffer.byteLength;\n",
              "            progress.value = downloaded;\n",
              "          }\n",
              "        }\n",
              "      }\n",
              "      const blob = new Blob(buffers, {type: 'application/binary'});\n",
              "      const a = document.createElement('a');\n",
              "      a.href = window.URL.createObjectURL(blob);\n",
              "      a.download = filename;\n",
              "      div.appendChild(a);\n",
              "      a.click();\n",
              "      div.remove();\n",
              "    }\n",
              "  "
            ]
          },
          "metadata": {}
        },
        {
          "output_type": "display_data",
          "data": {
            "text/plain": [
              "<IPython.core.display.Javascript object>"
            ],
            "application/javascript": [
              "download(\"download_efc988aa-fbb1-42e9-bbb9-eb5440565e13\", \"CNN1_Train_HASOC2020_Test_GermEval2019_Task_A_Ger_accuracyPlot.pdf\", 12236)"
            ]
          },
          "metadata": {}
        },
        {
          "output_type": "display_data",
          "data": {
            "text/plain": [
              "<Figure size 432x288 with 1 Axes>"
            ],
            "image/png": "[encoded data removed]"
          },
          "metadata": {
            "needs_background": "light"
          }
        }
      ]
    },
    {
      "cell_type": "markdown",
      "source": [
        "# Area under Curve-ROC\n"
      ],
      "metadata": {
        "id": "ce9BJNbLZ65e"
      }
    },
    {
      "cell_type": "code",
      "source": [
        "\n",
        "\n",
        "pred_train = CNN1_network.predict(padded_clean_text_stem)\n",
        "pred_test = CNN1_network.predict(padded_clean_text_t_stem)\n",
        "\n"
      ],
      "metadata": {
        "id": "swegVICbZ5_M"
      },
      "execution_count": null,
      "outputs": []
    },
    {
      "cell_type": "code",
      "source": [
        "\n",
        "\n",
        "import numpy as np\n",
        "import matplotlib.pyplot as plt\n",
        "from itertools import cycle\n",
        "\n",
        "from sklearn import svm, datasets\n",
        "from sklearn.metrics import roc_curve, auc\n",
        "from sklearn.model_selection import train_test_split\n",
        "from sklearn.preprocessing import label_binarize\n",
        "from sklearn.multiclass import OneVsRestClassifier\n",
        "from scipy import interp\n",
        "\n",
        "def plot_AUC_ROC(y_true, y_pred):\n",
        "    n_classes = 2 #change this value according to class value\n",
        "\n",
        "    # Compute ROC curve and ROC area for each class\n",
        "    fpr = dict()\n",
        "    tpr = dict()\n",
        "    roc_auc = dict()\n",
        "    for i in range(n_classes):\n",
        "        fpr[i], tpr[i], _ = roc_curve(y_true[:, i], y_pred[:, i])\n",
        "        roc_auc[i] = auc(fpr[i], tpr[i])\n",
        "\n",
        "    # Compute micro-average ROC curve and ROC area\n",
        "    fpr[\"micro\"], tpr[\"micro\"], _ = roc_curve(y_true.ravel(), y_pred.ravel())\n",
        "    roc_auc[\"micro\"] = auc(fpr[\"micro\"], tpr[\"micro\"])\n",
        "############################################################################################\n",
        "    lw = 2\n",
        "    # Compute macro-average ROC curve and ROC area\n",
        "\n",
        "    # First aggregate all false positive rates\n",
        "    all_fpr = np.unique(np.concatenate([fpr[i] for i in range(n_classes)]))\n",
        "\n",
        "    # Then interpolate all ROC curves at this points\n",
        "    mean_tpr = np.zeros_like(all_fpr)\n",
        "    for i in range(n_classes):\n",
        "        mean_tpr += interp(all_fpr, fpr[i], tpr[i])\n",
        "\n",
        "    # Finally average it and compute AUC\n",
        "    mean_tpr /= n_classes\n",
        "\n",
        "    fpr[\"macro\"] = all_fpr\n",
        "    tpr[\"macro\"] = mean_tpr\n",
        "    roc_auc[\"macro\"] = auc(fpr[\"macro\"], tpr[\"macro\"])\n",
        "\n",
        "    # Plot all ROC curves\n",
        "    plt.figure()\n",
        "    \n",
        "    plt.plot(fpr[\"micro\"], tpr[\"micro\"],\n",
        "            label='micro-average ROC curve (area = {0:0.2f})'\n",
        "               ''.format(roc_auc[\"micro\"]),\n",
        "            color='deeppink', linestyle=':', linewidth=4)\n",
        "\n",
        "    plt.plot(fpr[\"macro\"], tpr[\"macro\"],\n",
        "            label='macro-average ROC curve (area = {0:0.2f})'\n",
        "               ''.format(roc_auc[\"macro\"]),\n",
        "            color='navy', linestyle=':', linewidth=4)\n",
        "    \n",
        "    colors = cycle(['aqua', 'darkorange'])\n",
        "    #classes_list1 = [\"DE\",\"NE\",\"DK\"]\n",
        "    classes_list1 = [\"Non-duplicate\",\"Duplicate\"]\n",
        "    for i, color,c in zip(range(n_classes), colors,classes_list1):\n",
        "        plt.plot(fpr[i], tpr[i], color=color, lw=lw,\n",
        "                label='{0} (AUC = {1:0.2f})'\n",
        "                ''.format(c, roc_auc[i]))\n",
        "\n",
        "    plt.plot([0, 1], [0, 1], 'k--', lw=lw)\n",
        "    plt.xlim([0.0, 1.0])\n",
        "    plt.ylim([0.0, 1.05])\n",
        "    plt.xlabel('False Positive Rate')\n",
        "    plt.ylabel('True Positive Rate')\n",
        "    plt.title('Receiver operating characteristic curve')\n",
        "    plt.legend(loc=\"lower right\")\n",
        "    #plt.show()\n",
        "    plt.savefig('CNN1_Train_HASOC2020_Test_GermEval2019_Task_A_Ger_Area_RocPlot.pdf',dpi=1000)\n",
        "    files.download('CNN1_Train_HASOC2020_Test_GermEval2019_Task_A_Ger_Area_RocPlot.pdf')\n",
        "\n",
        "  \n",
        "\n"
      ],
      "metadata": {
        "id": "0IMSFAXwZ_Va"
      },
      "execution_count": null,
      "outputs": []
    },
    {
      "cell_type": "code",
      "source": [
        "plot_AUC_ROC(label_twoDimension_t,pred_test)"
      ],
      "metadata": {
        "colab": {
          "base_uri": "https://localhost:8080/"
        },
        "id": "f4qx5tmXaB0L",
        "outputId": "a0fb6e27-b9cc-4487-b025-3172ad704cb2"
      },
      "execution_count": null,
      "outputs": [
        {
          "output_type": "stream",
          "name": "stderr",
          "text": [
            "/usr/local/lib/python3.7/dist-packages/ipykernel_launcher.py:36: DeprecationWarning: scipy.interp is deprecated and will be removed in SciPy 2.0.0, use numpy.interp instead\n"
          ]
        },
        {
          "output_type": "display_data",
          "data": {
            "text/plain": [
              "<IPython.core.display.Javascript object>"
            ],
            "application/javascript": [
              "\n",
              "    async function download(id, filename, size) {\n",
              "      if (!google.colab.kernel.accessAllowed) {\n",
              "        return;\n",
              "      }\n",
              "      const div = document.createElement('div');\n",
              "      const label = document.createElement('label');\n",
              "      label.textContent = `Downloading \"${filename}\": `;\n",
              "      div.appendChild(label);\n",
              "      const progress = document.createElement('progress');\n",
              "      progress.max = size;\n",
              "      div.appendChild(progress);\n",
              "      document.body.appendChild(div);\n",
              "\n",
              "      const buffers = [];\n",
              "      let downloaded = 0;\n",
              "\n",
              "      const channel = await google.colab.kernel.comms.open(id);\n",
              "      // Send a message to notify the kernel that we're ready.\n",
              "      channel.send({})\n",
              "\n",
              "      for await (const message of channel.messages) {\n",
              "        // Send a message to notify the kernel that we're ready.\n",
              "        channel.send({})\n",
              "        if (message.buffers) {\n",
              "          for (const buffer of message.buffers) {\n",
              "            buffers.push(buffer);\n",
              "            downloaded += buffer.byteLength;\n",
              "            progress.value = downloaded;\n",
              "          }\n",
              "        }\n",
              "      }\n",
              "      const blob = new Blob(buffers, {type: 'application/binary'});\n",
              "      const a = document.createElement('a');\n",
              "      a.href = window.URL.createObjectURL(blob);\n",
              "      a.download = filename;\n",
              "      div.appendChild(a);\n",
              "      a.click();\n",
              "      div.remove();\n",
              "    }\n",
              "  "
            ]
          },
          "metadata": {}
        },
        {
          "output_type": "display_data",
          "data": {
            "text/plain": [
              "<IPython.core.display.Javascript object>"
            ],
            "application/javascript": [
              "download(\"download_f2377ce8-7d3a-498a-9d68-b0ddc2acf18a\", \"CNN1_Train_HASOC2020_Test_GermEval2019_Task_A_Ger_Area_RocPlot.pdf\", 42693)"
            ]
          },
          "metadata": {}
        },
        {
          "output_type": "display_data",
          "data": {
            "text/plain": [
              "<Figure size 432x288 with 1 Axes>"
            ],
            "image/png": "[encoded data removed]"
          },
          "metadata": {
            "needs_background": "light"
          }
        }
      ]
    }
  ]
}