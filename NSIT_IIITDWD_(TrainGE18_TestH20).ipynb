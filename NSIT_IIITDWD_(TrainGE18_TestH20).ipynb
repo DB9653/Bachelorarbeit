{
  "nbformat": 4,
  "nbformat_minor": 0,
  "metadata": {
    "colab": {
      "provenance": [],
      "include_colab_link": true
    },
    "kernelspec": {
      "name": "python3",
      "display_name": "Python 3"
    },
    "language_info": {
      "name": "python"
    },
    "accelerator": "GPU",
    "gpuClass": "standard"
  },
  "cells": [
    {
      "cell_type": "markdown",
      "metadata": {
        "id": "view-in-github",
        "colab_type": "text"
      },
      "source": [
        "<a href=\"https://colab.research.google.com/github/DB9653/Bachelorarbeit/blob/main/NSIT_IIITDWD_(TrainGE18_TestH20).ipynb\" target=\"_parent\"><img src=\"https://colab.research.google.com/assets/colab-badge.svg\" alt=\"Open In Colab\"/></a>"
      ]
    },
    {
      "cell_type": "markdown",
      "source": [
        "https://github.com/roushan-raj/HASOC-2020/blob/master/Models/German%20Models/German%20Sub-task%20A.ipynb\n"
      ],
      "metadata": {
        "id": "8pdYFRmoIhyM"
      }
    },
    {
      "cell_type": "code",
      "source": [
        "import tensorflow as tf\n",
        "tf.test.gpu_device_name()"
      ],
      "metadata": {
        "colab": {
          "base_uri": "https://localhost:8080/",
          "height": 35
        },
        "id": "hof4s6snVN0W",
        "outputId": "74c337a6-c6ec-4a88-c8a6-af2c49f33563"
      },
      "execution_count": null,
      "outputs": [
        {
          "output_type": "execute_result",
          "data": {
            "text/plain": [
              "'/device:GPU:0'"
            ],
            "application/vnd.google.colaboratory.intrinsic+json": {
              "type": "string"
            }
          },
          "metadata": {},
          "execution_count": 1
        }
      ]
    },
    {
      "cell_type": "markdown",
      "source": [
        "\n",
        "# Dataset Reading\n"
      ],
      "metadata": {
        "id": "CU0P3rpqJMHH"
      }
    },
    {
      "cell_type": "code",
      "execution_count": null,
      "metadata": {
        "colab": {
          "base_uri": "https://localhost:8080/"
        },
        "id": "UtPbRsnBIVpd",
        "outputId": "bd13b36a-69ef-46b6-b413-9a25a2cbf300"
      },
      "outputs": [
        {
          "output_type": "execute_result",
          "data": {
            "text/plain": [
              "                                                                                                                                                    text  \\\n",
              "0                                          @corinnamilborn Liebe Corinna, wir würden dich gerne als Moderatorin für uns gewinnen! Wärst du begeisterbar?   \n",
              "1         @Martin28a Sie haben ja auch Recht. Unser Tweet war etwas missverständlich. Dass das BVerfG Sachleistungen nicht ausschließt, kritisieren wir.   \n",
              "2                                                                                  @ahrens_theo fröhlicher gruß aus der schönsten stadt der welt theo ⚓️   \n",
              "3           @dushanwegner Amis hätten alles und jeden gewählt...nur Hillary wollten sie nicht und eine Fortsetzung von Obama-Politik erst recht nicht..!   \n",
              "4               @spdde kein verläßlicher Verhandlungspartner. Nachkarteln nach den Sondierzngsgesprächen - schickt diese Stümper #SPD in die Versenkung.   \n",
              "5  @Dirki_M Ja, aber wo widersprechen die Zahlen denn denen, die im von uns verlinkten Artikel stehen? In unserem Tweet geht es rein um subs. Geschüt...   \n",
              "6  @milenahanm 33 bis 45 habe ich noch gar nicht gelebt und es geht mir am Arsch vorbei was in dieser Zeit geschehen ist. Ich lebe im heute und jetzt...   \n",
              "7                                                                                        @jayxderxmensch @jayxthexhuman Wieso? Was findest du da unklar?   \n",
              "8                                                                          @tagesschau Euere AfD Hetze wirkt. Da könnt ihr stolz sein bei #ARD-Fernsehen   \n",
              "9                  Deutsche Medien, Halbwahrheiten und einseitige Betrachtung, wie bei allen vom Staat finanzierten \"billigen\" Propagandainstitutionen 😜   \n",
              "\n",
              "     task1      task2  \n",
              "0    OTHER      OTHER  \n",
              "1    OTHER      OTHER  \n",
              "2    OTHER      OTHER  \n",
              "3    OTHER      OTHER  \n",
              "4  OFFENSE     INSULT  \n",
              "5    OTHER      OTHER  \n",
              "6  OFFENSE  PROFANITY  \n",
              "7    OTHER      OTHER  \n",
              "8  OFFENSE      ABUSE  \n",
              "9  OFFENSE      ABUSE  "
            ],
            "text/html": [
              "\n",
              "  <div id=\"df-5f940a0b-3cfc-4f68-97cb-e3719220d037\">\n",
              "    <div class=\"colab-df-container\">\n",
              "      <div>\n",
              "<style scoped>\n",
              "    .dataframe tbody tr th:only-of-type {\n",
              "        vertical-align: middle;\n",
              "    }\n",
              "\n",
              "    .dataframe tbody tr th {\n",
              "        vertical-align: top;\n",
              "    }\n",
              "\n",
              "    .dataframe thead th {\n",
              "        text-align: right;\n",
              "    }\n",
              "</style>\n",
              "<table border=\"1\" class=\"dataframe\">\n",
              "  <thead>\n",
              "    <tr style=\"text-align: right;\">\n",
              "      <th></th>\n",
              "      <th>text</th>\n",
              "      <th>task1</th>\n",
              "      <th>task2</th>\n",
              "    </tr>\n",
              "  </thead>\n",
              "  <tbody>\n",
              "    <tr>\n",
              "      <th>0</th>\n",
              "      <td>@corinnamilborn Liebe Corinna, wir würden dich gerne als Moderatorin für uns gewinnen! Wärst du begeisterbar?</td>\n",
              "      <td>OTHER</td>\n",
              "      <td>OTHER</td>\n",
              "    </tr>\n",
              "    <tr>\n",
              "      <th>1</th>\n",
              "      <td>@Martin28a Sie haben ja auch Recht. Unser Tweet war etwas missverständlich. Dass das BVerfG Sachleistungen nicht ausschließt, kritisieren wir.</td>\n",
              "      <td>OTHER</td>\n",
              "      <td>OTHER</td>\n",
              "    </tr>\n",
              "    <tr>\n",
              "      <th>2</th>\n",
              "      <td>@ahrens_theo fröhlicher gruß aus der schönsten stadt der welt theo ⚓️</td>\n",
              "      <td>OTHER</td>\n",
              "      <td>OTHER</td>\n",
              "    </tr>\n",
              "    <tr>\n",
              "      <th>3</th>\n",
              "      <td>@dushanwegner Amis hätten alles und jeden gewählt...nur Hillary wollten sie nicht und eine Fortsetzung von Obama-Politik erst recht nicht..!</td>\n",
              "      <td>OTHER</td>\n",
              "      <td>OTHER</td>\n",
              "    </tr>\n",
              "    <tr>\n",
              "      <th>4</th>\n",
              "      <td>@spdde kein verläßlicher Verhandlungspartner. Nachkarteln nach den Sondierzngsgesprächen - schickt diese Stümper #SPD in die Versenkung.</td>\n",
              "      <td>OFFENSE</td>\n",
              "      <td>INSULT</td>\n",
              "    </tr>\n",
              "    <tr>\n",
              "      <th>5</th>\n",
              "      <td>@Dirki_M Ja, aber wo widersprechen die Zahlen denn denen, die im von uns verlinkten Artikel stehen? In unserem Tweet geht es rein um subs. Geschüt...</td>\n",
              "      <td>OTHER</td>\n",
              "      <td>OTHER</td>\n",
              "    </tr>\n",
              "    <tr>\n",
              "      <th>6</th>\n",
              "      <td>@milenahanm 33 bis 45 habe ich noch gar nicht gelebt und es geht mir am Arsch vorbei was in dieser Zeit geschehen ist. Ich lebe im heute und jetzt...</td>\n",
              "      <td>OFFENSE</td>\n",
              "      <td>PROFANITY</td>\n",
              "    </tr>\n",
              "    <tr>\n",
              "      <th>7</th>\n",
              "      <td>@jayxderxmensch @jayxthexhuman Wieso? Was findest du da unklar?</td>\n",
              "      <td>OTHER</td>\n",
              "      <td>OTHER</td>\n",
              "    </tr>\n",
              "    <tr>\n",
              "      <th>8</th>\n",
              "      <td>@tagesschau Euere AfD Hetze wirkt. Da könnt ihr stolz sein bei #ARD-Fernsehen</td>\n",
              "      <td>OFFENSE</td>\n",
              "      <td>ABUSE</td>\n",
              "    </tr>\n",
              "    <tr>\n",
              "      <th>9</th>\n",
              "      <td>Deutsche Medien, Halbwahrheiten und einseitige Betrachtung, wie bei allen vom Staat finanzierten \"billigen\" Propagandainstitutionen 😜</td>\n",
              "      <td>OFFENSE</td>\n",
              "      <td>ABUSE</td>\n",
              "    </tr>\n",
              "  </tbody>\n",
              "</table>\n",
              "</div>\n",
              "      <button class=\"colab-df-convert\" onclick=\"convertToInteractive('df-5f940a0b-3cfc-4f68-97cb-e3719220d037')\"\n",
              "              title=\"Convert this dataframe to an interactive table.\"\n",
              "              style=\"display:none;\">\n",
              "        \n",
              "  <svg xmlns=\"http://www.w3.org/2000/svg\" height=\"24px\"viewBox=\"0 0 24 24\"\n",
              "       width=\"24px\">\n",
              "    <path d=\"M0 0h24v24H0V0z\" fill=\"none\"/>\n",
              "    <path d=\"M18.56 5.44l.94 2.06.94-2.06 2.06-.94-2.06-.94-.94-2.06-.94 2.06-2.06.94zm-11 1L8.5 8.5l.94-2.06 2.06-.94-2.06-.94L8.5 2.5l-.94 2.06-2.06.94zm10 10l.94 2.06.94-2.06 2.06-.94-2.06-.94-.94-2.06-.94 2.06-2.06.94z\"/><path d=\"M17.41 7.96l-1.37-1.37c-.4-.4-.92-.59-1.43-.59-.52 0-1.04.2-1.43.59L10.3 9.45l-7.72 7.72c-.78.78-.78 2.05 0 2.83L4 21.41c.39.39.9.59 1.41.59.51 0 1.02-.2 1.41-.59l7.78-7.78 2.81-2.81c.8-.78.8-2.07 0-2.86zM5.41 20L4 18.59l7.72-7.72 1.47 1.35L5.41 20z\"/>\n",
              "  </svg>\n",
              "      </button>\n",
              "      \n",
              "  <style>\n",
              "    .colab-df-container {\n",
              "      display:flex;\n",
              "      flex-wrap:wrap;\n",
              "      gap: 12px;\n",
              "    }\n",
              "\n",
              "    .colab-df-convert {\n",
              "      background-color: #E8F0FE;\n",
              "      border: none;\n",
              "      border-radius: 50%;\n",
              "      cursor: pointer;\n",
              "      display: none;\n",
              "      fill: #1967D2;\n",
              "      height: 32px;\n",
              "      padding: 0 0 0 0;\n",
              "      width: 32px;\n",
              "    }\n",
              "\n",
              "    .colab-df-convert:hover {\n",
              "      background-color: #E2EBFA;\n",
              "      box-shadow: 0px 1px 2px rgba(60, 64, 67, 0.3), 0px 1px 3px 1px rgba(60, 64, 67, 0.15);\n",
              "      fill: #174EA6;\n",
              "    }\n",
              "\n",
              "    [theme=dark] .colab-df-convert {\n",
              "      background-color: #3B4455;\n",
              "      fill: #D2E3FC;\n",
              "    }\n",
              "\n",
              "    [theme=dark] .colab-df-convert:hover {\n",
              "      background-color: #434B5C;\n",
              "      box-shadow: 0px 1px 3px 1px rgba(0, 0, 0, 0.15);\n",
              "      filter: drop-shadow(0px 1px 2px rgba(0, 0, 0, 0.3));\n",
              "      fill: #FFFFFF;\n",
              "    }\n",
              "  </style>\n",
              "\n",
              "      <script>\n",
              "        const buttonEl =\n",
              "          document.querySelector('#df-5f940a0b-3cfc-4f68-97cb-e3719220d037 button.colab-df-convert');\n",
              "        buttonEl.style.display =\n",
              "          google.colab.kernel.accessAllowed ? 'block' : 'none';\n",
              "\n",
              "        async function convertToInteractive(key) {\n",
              "          const element = document.querySelector('#df-5f940a0b-3cfc-4f68-97cb-e3719220d037');\n",
              "          const dataTable =\n",
              "            await google.colab.kernel.invokeFunction('convertToInteractive',\n",
              "                                                     [key], {});\n",
              "          if (!dataTable) return;\n",
              "\n",
              "          const docLinkHtml = 'Like what you see? Visit the ' +\n",
              "            '<a target=\"_blank\" href=https://colab.research.google.com/notebooks/data_table.ipynb>data table notebook</a>'\n",
              "            + ' to learn more about interactive tables.';\n",
              "          element.innerHTML = '';\n",
              "          dataTable['output_type'] = 'display_data';\n",
              "          await google.colab.output.renderOutput(dataTable, element);\n",
              "          const docLink = document.createElement('div');\n",
              "          docLink.innerHTML = docLinkHtml;\n",
              "          element.appendChild(docLink);\n",
              "        }\n",
              "      </script>\n",
              "    </div>\n",
              "  </div>\n",
              "  "
            ]
          },
          "metadata": {},
          "execution_count": 2
        }
      ],
      "source": [
        "import pandas as pd \n",
        "#data = pd.read_excel('/content/hasoc_2020_de_train_new_a.xlsx', converters={'tweet_id':int})\n",
        "data = pd.read_csv(\"/content/germeval2018training.txt\",sep=\"\\t\", encoding = \"UTF-8\", names=(\"text\", \"task1\", \"task2\"))\n",
        "pd.set_option('display.max_colwidth',150)\n",
        "data.head(10)"
      ]
    },
    {
      "cell_type": "code",
      "source": [
        "data.shape"
      ],
      "metadata": {
        "colab": {
          "base_uri": "https://localhost:8080/"
        },
        "id": "UaxJGj2BJA-_",
        "outputId": "2f81a5fe-de4c-4d8c-ccba-1cbdf2f15d78"
      },
      "execution_count": null,
      "outputs": [
        {
          "output_type": "execute_result",
          "data": {
            "text/plain": [
              "(5009, 3)"
            ]
          },
          "metadata": {},
          "execution_count": 3
        }
      ]
    },
    {
      "cell_type": "code",
      "source": [
        "print(data.dtypes)"
      ],
      "metadata": {
        "colab": {
          "base_uri": "https://localhost:8080/"
        },
        "id": "4F6snrckJDhs",
        "outputId": "ef8e3d88-d3ce-408f-8b7f-d2797ccf5f5e"
      },
      "execution_count": null,
      "outputs": [
        {
          "output_type": "stream",
          "name": "stdout",
          "text": [
            "text     object\n",
            "task1    object\n",
            "task2    object\n",
            "dtype: object\n"
          ]
        }
      ]
    },
    {
      "cell_type": "markdown",
      "source": [
        "# Making of \"label\" Variable\n"
      ],
      "metadata": {
        "id": "kK4jE-XuJN3r"
      }
    },
    {
      "cell_type": "code",
      "source": [
        "label = data['task1']\n",
        "label.head()"
      ],
      "metadata": {
        "colab": {
          "base_uri": "https://localhost:8080/"
        },
        "id": "8UB11BsEJF-U",
        "outputId": "5df6634e-5246-4325-af74-16f41116fa01"
      },
      "execution_count": null,
      "outputs": [
        {
          "output_type": "execute_result",
          "data": {
            "text/plain": [
              "0      OTHER\n",
              "1      OTHER\n",
              "2      OTHER\n",
              "3      OTHER\n",
              "4    OFFENSE\n",
              "Name: task1, dtype: object"
            ]
          },
          "metadata": {},
          "execution_count": 5
        }
      ]
    },
    {
      "cell_type": "markdown",
      "source": [
        "# Checking Dataset Balancing\n"
      ],
      "metadata": {
        "id": "HM112SzAJW-z"
      }
    },
    {
      "cell_type": "code",
      "source": [
        "print(label.value_counts())\n",
        "import matplotlib.pyplot as plt\n",
        "label.value_counts().plot(kind='bar', color='blue')"
      ],
      "metadata": {
        "colab": {
          "base_uri": "https://localhost:8080/"
        },
        "id": "wxq3PRLwJVIQ",
        "outputId": "55cc68e7-2d58-4659-eb9c-af8aa9ab8b9e"
      },
      "execution_count": null,
      "outputs": [
        {
          "output_type": "stream",
          "name": "stdout",
          "text": [
            "OTHER      3321\n",
            "OFFENSE    1688\n",
            "Name: task1, dtype: int64\n"
          ]
        },
        {
          "output_type": "execute_result",
          "data": {
            "text/plain": [
              "<matplotlib.axes._subplots.AxesSubplot at 0x7f28a7d9b750>"
            ]
          },
          "metadata": {},
          "execution_count": 6
        },
        {
          "output_type": "display_data",
          "data": {
            "text/plain": [
              "<Figure size 432x288 with 1 Axes>"
            ],
            "image/png": "[encoded data removed]"
          },
          "metadata": {
            "needs_background": "light"
          }
        }
      ]
    },
    {
      "cell_type": "markdown",
      "source": [
        "# Converting label into \"0\" or \"1\"\n"
      ],
      "metadata": {
        "id": "IiBz2hcFJdIF"
      }
    },
    {
      "cell_type": "code",
      "source": [
        "import numpy as np\n",
        "classes_list = [\"OFFENSE\",\"OTHER\"]\n",
        "label_index = data['task1'].apply(classes_list.index)\n",
        "final_label = np.asarray(label_index)\n",
        "print(final_label[:10])\n",
        "\n"
      ],
      "metadata": {
        "colab": {
          "base_uri": "https://localhost:8080/"
        },
        "id": "iaAQQh4kJZ1X",
        "outputId": "f8d894b5-4cca-4b21-8a6e-aa60ab19af92"
      },
      "execution_count": null,
      "outputs": [
        {
          "output_type": "stream",
          "name": "stdout",
          "text": [
            "[1 1 1 1 0 1 0 1 0 0]\n"
          ]
        }
      ]
    },
    {
      "cell_type": "code",
      "source": [
        "from keras.utils.np_utils import to_categorical\n",
        "label_twoDimension = to_categorical(final_label, num_classes=2)"
      ],
      "metadata": {
        "id": "DHcylJMvJhLu"
      },
      "execution_count": null,
      "outputs": []
    },
    {
      "cell_type": "code",
      "source": [
        "print(label_twoDimension[:10])"
      ],
      "metadata": {
        "colab": {
          "base_uri": "https://localhost:8080/"
        },
        "id": "1NGqjeVBJjbM",
        "outputId": "4207339a-b8e9-493c-af3a-fc3cdf0f8d3b"
      },
      "execution_count": null,
      "outputs": [
        {
          "output_type": "stream",
          "name": "stdout",
          "text": [
            "[[0. 1.]\n",
            " [0. 1.]\n",
            " [0. 1.]\n",
            " [0. 1.]\n",
            " [1. 0.]\n",
            " [0. 1.]\n",
            " [1. 0.]\n",
            " [0. 1.]\n",
            " [1. 0.]\n",
            " [1. 0.]]\n"
          ]
        }
      ]
    },
    {
      "cell_type": "markdown",
      "source": [
        "# Making of \"text\" Variable\n"
      ],
      "metadata": {
        "id": "nqRHYUSBJl0K"
      }
    },
    {
      "cell_type": "code",
      "source": [
        "text = data['text']\n",
        "text.head(10)\n",
        "\n"
      ],
      "metadata": {
        "colab": {
          "base_uri": "https://localhost:8080/"
        },
        "id": "ZZ_FmnnqJjpU",
        "outputId": "723cc48c-2f63-4dae-eb27-7224eab278ab"
      },
      "execution_count": null,
      "outputs": [
        {
          "output_type": "execute_result",
          "data": {
            "text/plain": [
              "0                                            @corinnamilborn Liebe Corinna, wir würden dich gerne als Moderatorin für uns gewinnen! Wärst du begeisterbar?\n",
              "1           @Martin28a Sie haben ja auch Recht. Unser Tweet war etwas missverständlich. Dass das BVerfG Sachleistungen nicht ausschließt, kritisieren wir.\n",
              "2                                                                                    @ahrens_theo fröhlicher gruß aus der schönsten stadt der welt theo ⚓️\n",
              "3             @dushanwegner Amis hätten alles und jeden gewählt...nur Hillary wollten sie nicht und eine Fortsetzung von Obama-Politik erst recht nicht..!\n",
              "4                 @spdde kein verläßlicher Verhandlungspartner. Nachkarteln nach den Sondierzngsgesprächen - schickt diese Stümper #SPD in die Versenkung.\n",
              "5    @Dirki_M Ja, aber wo widersprechen die Zahlen denn denen, die im von uns verlinkten Artikel stehen? In unserem Tweet geht es rein um subs. Geschüt...\n",
              "6    @milenahanm 33 bis 45 habe ich noch gar nicht gelebt und es geht mir am Arsch vorbei was in dieser Zeit geschehen ist. Ich lebe im heute und jetzt...\n",
              "7                                                                                          @jayxderxmensch @jayxthexhuman Wieso? Was findest du da unklar?\n",
              "8                                                                            @tagesschau Euere AfD Hetze wirkt. Da könnt ihr stolz sein bei #ARD-Fernsehen\n",
              "9                    Deutsche Medien, Halbwahrheiten und einseitige Betrachtung, wie bei allen vom Staat finanzierten \"billigen\" Propagandainstitutionen 😜\n",
              "Name: text, dtype: object"
            ]
          },
          "metadata": {},
          "execution_count": 10
        }
      ]
    },
    {
      "cell_type": "markdown",
      "source": [
        "# Dataset Pre-processing\n"
      ],
      "metadata": {
        "id": "5vgUgPviJteq"
      }
    },
    {
      "cell_type": "code",
      "source": [
        "def remove_umlaut(string):\n",
        "    \"\"\"\n",
        "    Removes umlauts from strings and replaces them with the letter+e convention\n",
        "    :param string: string to remove umlauts from\n",
        "    :return: unumlauted string\n",
        "    \"\"\"\n",
        "    u = 'ü'.encode()\n",
        "    U = 'Ü'.encode()\n",
        "    a = 'ä'.encode()\n",
        "    A = 'Ä'.encode()\n",
        "    o = 'ö'.encode()\n",
        "    O = 'Ö'.encode()\n",
        "    ss = 'ß'.encode()\n",
        "\n",
        "    string = string.encode()\n",
        "    string = string.replace(u, b'ue')\n",
        "    string = string.replace(U, b'Ue')\n",
        "    string = string.replace(a, b'ae')\n",
        "    string = string.replace(A, b'Ae')\n",
        "    string = string.replace(o, b'oe')\n",
        "    string = string.replace(O, b'Oe')\n",
        "    string = string.replace(ss, b'ss')\n",
        "\n",
        "    string = string.decode('utf-8')\n",
        "    return string"
      ],
      "metadata": {
        "id": "Ia2i0MqpPdGM"
      },
      "execution_count": null,
      "outputs": []
    },
    {
      "cell_type": "code",
      "source": [
        "text_wo_umlauts = text.apply(lambda x:remove_umlaut(x))\n",
        "text_wo_umlauts.head(10)"
      ],
      "metadata": {
        "colab": {
          "base_uri": "https://localhost:8080/"
        },
        "id": "IGd2-YIIPdnq",
        "outputId": "9bbc701e-afc1-4e93-b442-f08cf7c1394f"
      },
      "execution_count": null,
      "outputs": [
        {
          "output_type": "execute_result",
          "data": {
            "text/plain": [
              "0                                         @corinnamilborn Liebe Corinna, wir wuerden dich gerne als Moderatorin fuer uns gewinnen! Waerst du begeisterbar?\n",
              "1         @Martin28a Sie haben ja auch Recht. Unser Tweet war etwas missverstaendlich. Dass das BVerfG Sachleistungen nicht ausschliesst, kritisieren wir.\n",
              "2                                                                                 @ahrens_theo froehlicher gruss aus der schoensten stadt der welt theo ⚓️\n",
              "3           @dushanwegner Amis haetten alles und jeden gewaehlt...nur Hillary wollten sie nicht und eine Fortsetzung von Obama-Politik erst recht nicht..!\n",
              "4             @spdde kein verlaesslicher Verhandlungspartner. Nachkarteln nach den Sondierzngsgespraechen - schickt diese Stuemper #SPD in die Versenkung.\n",
              "5    @Dirki_M Ja, aber wo widersprechen die Zahlen denn denen, die im von uns verlinkten Artikel stehen? In unserem Tweet geht es rein um subs. Geschue...\n",
              "6    @milenahanm 33 bis 45 habe ich noch gar nicht gelebt und es geht mir am Arsch vorbei was in dieser Zeit geschehen ist. Ich lebe im heute und jetzt...\n",
              "7                                                                                          @jayxderxmensch @jayxthexhuman Wieso? Was findest du da unklar?\n",
              "8                                                                           @tagesschau Euere AfD Hetze wirkt. Da koennt ihr stolz sein bei #ARD-Fernsehen\n",
              "9                    Deutsche Medien, Halbwahrheiten und einseitige Betrachtung, wie bei allen vom Staat finanzierten \"billigen\" Propagandainstitutionen 😜\n",
              "Name: text, dtype: object"
            ]
          },
          "metadata": {},
          "execution_count": 12
        }
      ]
    },
    {
      "cell_type": "code",
      "source": [
        "\n",
        "\n",
        "import re \n",
        "\n",
        "def text_clean(text):\n",
        "    ''' Pre process and convert texts to a list of words '''\n",
        "    \n",
        "    text=text.lower()\n",
        "\n",
        "    # Clean the text\n",
        "    text = re.sub(r\"[^A-Za-z0-9^,!.\\/'+-=]\", \" \", text)\n",
        "    text = re.sub('https?://\\S+|www\\.\\S+', \"\", text)\n",
        "    text = re.sub(r\"rt\", \" \", text)\n",
        "\n",
        "    return text\n",
        "\n"
      ],
      "metadata": {
        "id": "iP9R4lCkJrSn"
      },
      "execution_count": null,
      "outputs": []
    },
    {
      "cell_type": "code",
      "source": [
        "clean_text = text_wo_umlauts.apply(lambda x:text_clean(x))"
      ],
      "metadata": {
        "id": "btvahRPaJwkh"
      },
      "execution_count": null,
      "outputs": []
    },
    {
      "cell_type": "code",
      "source": [
        "clean_text.head(10)"
      ],
      "metadata": {
        "colab": {
          "base_uri": "https://localhost:8080/"
        },
        "id": "rVm6XFqoJyPl",
        "outputId": "537cf608-1b11-45be-c934-72d00535fd48"
      },
      "execution_count": null,
      "outputs": [
        {
          "output_type": "execute_result",
          "data": {
            "text/plain": [
              "0                                          corinnamilborn liebe corinna, wir wuerden dich gerne als moderatorin fuer uns gewinnen! waerst du begeisterbar \n",
              "1           ma in28a sie haben ja auch recht. unser tweet war etwas missverstaendlich. dass das bverfg sachleistungen nicht ausschliesst, kritisieren wir.\n",
              "2                                                                                  ahrens theo froehlicher gruss aus der schoensten stadt der welt theo   \n",
              "3             dushanwegner amis haetten alles und jeden gewaehlt...nur hillary wollten sie nicht und eine fo setzung von obama-politik erst recht nicht..!\n",
              "4                spdde kein verlaesslicher verhandlungspa ner. nachka eln nach den sondierzngsgespraechen - schickt diese stuemper  spd in die versenkung.\n",
              "5     dirki m ja, aber wo widersprechen die zahlen denn denen, die im von uns verlinkten a ikel stehen  in unserem tweet geht es rein um subs. geschuet...\n",
              "6     milenahanm 33 bis 45 habe ich noch gar nicht gelebt und es geht mir am arsch vorbei was in dieser zeit geschehen ist. ich lebe im heute und jetzt...\n",
              "7                                                                                           jayxderxmensch  jayxthexhuman wieso  was findest du da unklar \n",
              "8                                                                            tagesschau euere afd hetze wirkt. da koennt ihr stolz sein bei  ard-fernsehen\n",
              "9                     deutsche medien, halbwahrheiten und einseitige betrachtung, wie bei allen vom staat finanzie en  billigen  propagandainstitutionen  \n",
              "Name: text, dtype: object"
            ]
          },
          "metadata": {},
          "execution_count": 15
        }
      ]
    },
    {
      "cell_type": "markdown",
      "source": [
        "# Removing stopwords\n"
      ],
      "metadata": {
        "id": "Cr_9fbmQJ14E"
      }
    },
    {
      "cell_type": "code",
      "source": [
        "import nltk\n",
        "from nltk.corpus import stopwords\n",
        "nltk.download('stopwords')\n",
        "def stop_words_removal(text1):\n",
        "    text1=[w for w in  text1.split(\" \")  if w not in stopwords.words('german')]\n",
        "    return \" \".join(text1)"
      ],
      "metadata": {
        "colab": {
          "base_uri": "https://localhost:8080/"
        },
        "id": "fnKAVUGKJzkf",
        "outputId": "83226f6b-e46f-4133-98f1-a489ff18a7a8"
      },
      "execution_count": null,
      "outputs": [
        {
          "output_type": "stream",
          "name": "stderr",
          "text": [
            "[nltk_data] Downloading package stopwords to /root/nltk_data...\n",
            "[nltk_data]   Unzipping corpora/stopwords.zip.\n"
          ]
        }
      ]
    },
    {
      "cell_type": "code",
      "source": [
        "clean_text_ns=clean_text.apply(lambda x: stop_words_removal(x))"
      ],
      "metadata": {
        "id": "EAe2hR7jJ5R8"
      },
      "execution_count": null,
      "outputs": []
    },
    {
      "cell_type": "code",
      "source": [
        "print(clean_text_ns.head(10))"
      ],
      "metadata": {
        "colab": {
          "base_uri": "https://localhost:8080/"
        },
        "id": "hMapIVGXJ7Cf",
        "outputId": "3307aaa4-e413-4d3f-ff3f-e223cff66a3f"
      },
      "execution_count": null,
      "outputs": [
        {
          "output_type": "stream",
          "name": "stdout",
          "text": [
            "0                                                              corinnamilborn liebe corinna, wuerden gerne moderatorin fuer gewinnen! waerst begeisterbar \n",
            "1                                                         ma in28a ja recht. tweet missverstaendlich. bverfg sachleistungen ausschliesst, kritisieren wir.\n",
            "2                                                                                              ahrens theo froehlicher gruss schoensten stadt welt theo   \n",
            "3                                                    dushanwegner amis haetten gewaehlt...nur hillary wollten fo setzung obama-politik erst recht nicht..!\n",
            "4                                           spdde verlaesslicher verhandlungspa ner. nachka eln sondierzngsgespraechen - schickt stuemper  spd versenkung.\n",
            "5     dirki m ja, widersprechen zahlen denen, verlinkten a ikel stehen  tweet geht rein subs. geschuetzte. 2017 gesamte familiennachzug vergleich 2016 ...\n",
            "6                                                              milenahanm 33 45 gar gelebt geht arsch vorbei zeit geschehen ist. lebe heute vergangenheit.\n",
            "7                                                                                                     jayxderxmensch  jayxthexhuman wieso  findest unklar \n",
            "8                                                                                            tagesschau euere afd hetze wirkt. koennt stolz  ard-fernsehen\n",
            "9                                           deutsche medien, halbwahrheiten einseitige betrachtung, staat finanzie en  billigen  propagandainstitutionen  \n",
            "Name: text, dtype: object\n"
          ]
        }
      ]
    },
    {
      "cell_type": "markdown",
      "source": [
        "# Lemmatization"
      ],
      "metadata": {
        "id": "UbNspWraJ-a5"
      }
    },
    {
      "cell_type": "markdown",
      "source": [
        "# Stemming"
      ],
      "metadata": {
        "id": "cGRUIHNgKB8P"
      }
    },
    {
      "cell_type": "code",
      "source": [
        "\n",
        "\n",
        "# Stemming\n",
        "from nltk.stem import SnowballStemmer \n",
        "stemmer = SnowballStemmer(\"german\")\n",
        "\n",
        "def word_stemmer(text):\n",
        "    stem_text = \"\".join([stemmer.stem(i) for i in text])\n",
        "    return stem_text\n",
        "\n"
      ],
      "metadata": {
        "id": "xzacVq1jJ8ru"
      },
      "execution_count": null,
      "outputs": []
    },
    {
      "cell_type": "code",
      "source": [
        "clean_text_stem = clean_text_ns.apply(lambda x : word_stemmer(x))"
      ],
      "metadata": {
        "id": "gLvtC-DlKFJ3"
      },
      "execution_count": null,
      "outputs": []
    },
    {
      "cell_type": "code",
      "source": [
        "print(clean_text_stem.head())"
      ],
      "metadata": {
        "colab": {
          "base_uri": "https://localhost:8080/"
        },
        "id": "hLTYkzd6KGpw",
        "outputId": "8451aa06-2cd8-46b8-d01c-a251c09e160e"
      },
      "execution_count": null,
      "outputs": [
        {
          "output_type": "stream",
          "name": "stdout",
          "text": [
            "0                        corinnamilborn liebe corinna, wuerden gerne moderatorin fuer gewinnen! waerst begeisterbar \n",
            "1                   ma in28a ja recht. tweet missverstaendlich. bverfg sachleistungen ausschliesst, kritisieren wir.\n",
            "2                                                        ahrens theo froehlicher gruss schoensten stadt welt theo   \n",
            "3              dushanwegner amis haetten gewaehlt...nur hillary wollten fo setzung obama-politik erst recht nicht..!\n",
            "4     spdde verlaesslicher verhandlungspa ner. nachka eln sondierzngsgespraechen - schickt stuemper  spd versenkung.\n",
            "Name: text, dtype: object\n"
          ]
        }
      ]
    },
    {
      "cell_type": "markdown",
      "source": [
        "# Tokenization using \"keras\"\n"
      ],
      "metadata": {
        "id": "aqZfKW9_KId4"
      }
    },
    {
      "cell_type": "code",
      "source": [
        "import keras\n",
        "import tensorflow\n",
        "from keras.preprocessing.text import Tokenizer\n",
        "tok_all = Tokenizer(filters='!\"#$%&\\'()*+,-./:;<=>?@[\\\\]^_`{|}~', lower=True, char_level = False)\n",
        "tok_all.fit_on_texts(clean_text_stem)"
      ],
      "metadata": {
        "id": "64oQb-b9KL7d"
      },
      "execution_count": null,
      "outputs": []
    },
    {
      "cell_type": "markdown",
      "source": [
        "# Making Vocab for words\n"
      ],
      "metadata": {
        "id": "Azliz45-KOH2"
      }
    },
    {
      "cell_type": "code",
      "source": [
        "vocabulary_all = len(tok_all.word_counts)\n",
        "print(vocabulary_all)"
      ],
      "metadata": {
        "colab": {
          "base_uri": "https://localhost:8080/"
        },
        "id": "kjRctAdKKNqA",
        "outputId": "d6d12f22-dd24-4386-8621-42172ff34458"
      },
      "execution_count": null,
      "outputs": [
        {
          "output_type": "stream",
          "name": "stdout",
          "text": [
            "17327\n"
          ]
        }
      ]
    },
    {
      "cell_type": "code",
      "source": [
        "\n",
        "\n",
        "l = tok_all.word_index\n",
        "print(l)\n",
        "\n"
      ],
      "metadata": {
        "colab": {
          "base_uri": "https://localhost:8080/"
        },
        "id": "ruZahltoKSBk",
        "outputId": "313396b9-b7c8-4246-821f-caab91ddd088"
      },
      "execution_count": null,
      "outputs": [
        {
          "output_type": "stream",
          "name": "stdout",
          "text": [
            "{'lbr': 1, 'fuer': 2, 'merkel': 3, 'schon': 4, 'deutschland': 5, 'afd': 6, 'mehr': 7, 'mal': 8, 'ja': 9, 'ueber': 10, 'u': 11, 'immer': 12, 'heute': 13, 'gibt': 14, 'welt': 15, 'wer': 16, 'd': 17, 'nicht': 18, 'ist': 19, 'deutschen': 20, 'e': 21, 'deutsche': 22, 'land': 23, 'geht': 24, 'spd': 25, 'werden': 26, 'krippmarie': 27, 'en': 28, 'info2099': 29, 'amp': 30, 'petpanther0': 31, 'noherrman': 32, 'franz': 33, 'muessen': 34, 'md': 35, 'ellibisathide': 36, 'wuerde': 37, 'pa': 38, 'athinamala': 39, 'macmike': 40, 'a': 41, 'menschen': 42, 'thomasgbauer': 43, 'feldenfrizz': 44, 'gut': 45, 'macht': 46, 'charlie': 47, 'silve': 48, 'nasanasal': 49, 's': 50, 'koennen': 51, 'machtjanix23': 52, 'einfach': 53, 'lifetrend': 54, 'gruenen': 55, 'eu': 56, 'schmiddiemaik': 57, 'willjrosenblatt': 58, 'waere': 59, 'wurde': 60, 'seit': 61, 'politiker': 62, 'die': 63, 'putin': 64, 'cdu': 65, 'haben': 66, 'geld': 67, 'wohl': 68, 'warum': 69, 'gerade': 70, 'politik': 71, '2': 72, 'und': 73, 'troll': 74, 'recht': 75, 'erst': 76, 'lassen': 77, 'islam': 78, 'ab': 79, 'zeit': 80, 'bild': 81, 've': 82, 'europa': 83, 'das': 84, 'norbinator2403': 85, 'hat': 86, 'dafuer': 87, 'besser': 88, 'tuerken': 89, 'tun': 90, 'anna': 91, 'miriamozen': 92, 'volk': 93, 'kommt': 94, 'do': 95, 'trump': 96, 'iina': 97, 'schulz': 98, 'ei': 99, 'endlich': 100, 'sein': 101, 'nancypeggymandy': 102, 'ennof': 103, 'ma': 104, 'gt': 105, 'de': 106, 'sind': 107, 'frau': 108, 'viele': 109, 'sollten': 110, 'frage': 111, 'tagesschau': 112, 'danke': 113, 'eigentlich': 114, 'beim': 115, 'leben': 116, 'ha': 117, 'ganz': 118, 'haette': 119, 'nie': 120, 'fdp': 121, 'focusonline': 122, 'israel': 123, 'klar': 124, 'medien': 125, 'wissen': 126, 'kommen': 127, 'juden': 128, 'leider': 129, 'antisemitismus': 130, 'merkels': 131, 'wird': 132, 'leute': 133, 'csu': 134, 'genau': 135, 'sagen': 136, 'lieber': 137, 'gehoe': 138, 'darf': 139, '1': 140, 'moslems': 141, 'gemacht': 142, 'steht': 143, 'zurueck': 144, 'mastermikeg': 145, 'an': 146, 'richtig': 147, 'tuerkei': 148, 'aber': 149, 'ich': 150, 'gehen': 151, 'sehen': 152, 'auch': 153, 'so': 154, 'stegner': 155, 'kinder': 156, 'wirklich': 157, 'regierung': 158, 'wegen': 159, 'jahren': 160, 'maischberger': 161, 'gute': 162, 'aksynode16': 163, 'heinrich': 164, 'krug': 165, 'fluechtlinge': 166, 'dabei': 167, 'ralf': 168, 'geben': 169, 'ende': 170, 'sie': 171, 'sicher': 172, 'news': 173, 'bitte': 174, 'linke': 175, 'verantwo': 176, 'deutsch': 177, 'berlin': 178, 'eben': 179, 'eien': 180, 'wurden': 181, 'regsprecher': 182, 'weiss': 183, 'nein': 184, 'buerger': 185, 'es': 186, 'neue': 187, 'sollen': 188, 'gleich': 189, 'sogar': 190, 'liebe': 191, 'tag': 192, 'steinbacherika': 193, 'waehlen': 194, 'cl': 195, 'lawyerberlin': 196, 'linken': 197, 'maas': 198, 'problem': 199, 'ein': 200, 'polizei': 201, '3': 202, 'sofo': 203, 'zdf': 204, 'steffmann45': 205, 'wir': 206, 'gott': 207, 'mann': 208, 'brauchen': 209, 'sagt': 210, 'krieg': 211, 'gruene': 212, 'uhr': 213, 'davon': 214, 'bleibt': 215, 'brd': 216, 'bundestag': 217, 'frauen': 218, 'demokratie': 219, 'sjw': 220, 'gewaehlt': 221, 'hetze': 222, 'egal': 223, 'vielleicht': 224, 'glaube': 225, 'dumm': 226, 'we': 227, 'beatrix': 228, 'ne': 229, 'braucht': 230, 'niemand': 231, 'jahr': 232, 'gerne': 233, 'gar': 234, 'hast': 235, 'lange': 236, 'gestern': 237, 'vstorch': 238, 'jahre': 239, 'madbunny': 240, 'staat': 241, 'morgen': 242, 'glauben': 243, 'gab': 244, 'meinung': 245, 'habt': 246, 'dank': 247, 'bleiben': 248, 'denken': 249, 'heisst': 250, 'kurz': 251, 'wahl': 252, 'aus': 253, 'herr': 254, 'bestimmt': 255, 'nehmen': 256, 'antwo': 257, 'wuerden': 258, 'haetten': 259, 'koennte': 260, 'raus': 261, 'auf': 262, 'junge': 263, 'scheiss': 264, 'unserer': 265, 'china': 266, 'kann': 267, 'thema': 268, 'sei': 269, 'b': 270, 'waehler': 271, 'spdde': 272, 'na': 273, 'eigenen': 274, 'da': 275, 'oesterreich': 276, 'weg': 277, 'twitter': 278, 'nix': 279, 'natuerlich': 280, 'sieht': 281, 'vielen': 282, 'groko': 283, 'machen': 284, 'asylanten': 285, 'eher': 286, 'was': 287, 'teite99': 288, 'laesst': 289, 'reden': 290, '5': 291, 'schoen': 292, 'findet': 293, 'deutscher': 294, 'gewalt': 295, 'stasi': 296, 'fragen': 297, 'm': 298, 'uebrigens': 299, 'verstehen': 300, 'duerfen': 301, 'georg': 302, 'halten': 303, 'darueber': 304, 'hoffe': 305, 'kirche': 306, 'freiheit': 307, 'niemals': 308, 'c': 309, 'frueher': 310, 'glaubt': 311, 'vorbei': 312, 'wieso': 313, 'arbeit': 314, 'finden': 315, 'innen': 316, 'wann': 317, 'all': 318, 'ueberhaupt': 319, 'moechte': 320, 'statt': 321, 'dumme': 322, '20': 323, 'n': 324, 'vasallen': 325, 'geschichte': 326, 'tweet': 327, 'stehen': 328, 'ard': 329, 'terroristen': 330, 'ach': 331, 'nazi': 332, 'ddr': 333, 'wahrheit': 334, 'meisten': 335, 'guten': 336, 'gilt': 337, 'frank': 338, 'o': 339, 'ganze': 340, 'seite': 341, 'alle': 342, 'arsch': 343, 'wollen': 344, 'invasoren': 345, 'tatsaechlich': 346, 'laender': 347, 'duhugonotte': 348, 'spricht': 349, 'gesagt': 350, 'krahmax': 351, 'usw': 352, 'h': 353, 'bald': 354, 'gabriel': 355, 'uns': 356, 'weidel': 357, 'muslime': 358, 'zahlen': 359, '4': 360, 'namen': 361, 'hamburg': 362, 'lesen': 363, 'sitzen': 364, 'jemand': 365, 'pack': 366, 'bekommen': 367, 'einzige': 368, 'voll': 369, 'nichts': 370, 'opfer': 371, 'jouwatch': 372, 'gesehen': 373, 'terror': 374, 'inschulz': 375, 'gruen': 376, 'regieren': 377, 'vergessen': 378, 'pazderski': 379, 'fffrauki': 380, 'los': 381, 'erdogan': 382, 'kopf': 383, 'bayern': 384, 'verstanden': 385, 'lindner': 386, 'nazis': 387, 'trotzdem': 388, 'halt': 389, 'vor': 390, 'z': 391, 'is': 392, 'angst': 393, 'iq': 394, 'stimmt': 395, 'links': 396, 'v': 397, 'stellen': 398, 'deren': 399, 'altkatholisch': 400, 'l': 401, 'schuld': 402, 'daran': 403, 'sehe': 404, 'will': 405, 'spiegelonline': 406, 'i': 407, 'zwei': 408, 'laeuft': 409, 'x': 410, 'polen': 411, '66freedom66': 412, 'pasemann': 413, 'bringen': 414, 'weniger': 415, 'grosse': 416, 'fall': 417, 'wi': 418, 'et': 419, 'familiennachzug': 420, 'ndaktuell': 421, 'gg': 422, 'diskussion': 423, 'pinselpoetin': 424, 'hoe': 425, 'pride': 426, 'zusammen': 427, 'war': 428, 'der': 429, 'ainyrockstar': 430, 'alte': 431, 'luegen': 432, 'ausser': 433, 'falsch': 434, 'afrika': 435, 'hallo': 436, 'tut': 437, 'grenzen': 438, '10': 439, 'spadecarrier': 440, 'alice': 441, 'fast': 442, 'oft': 443, 'kokolores20': 444, 'hass': 445, 'denen': 446, 'mag': 447, 'beutebadener': 448, 'kotzenderstern': 449, 'moeglich': 450, 'noch': 451, 'ganzen': 452, 'dielinke': 453, 'luegenpresse': 454, 'bringt': 455, 'konnte': 456, 'happyhaidrich3': 457, 'respekt': 458, 'asyl': 459, 'holocaust': 460, 'interessie': 461, 'sebastiankurz': 462, '000': 463, 'staaten': 464, 'kennen': 465, 'etwa': 466, 'drdavidberger': 467, 'fehler': 468, 'darum': 469, 'finde': 470, 'teil': 471, 'kanzler': 472, 'fuehren': 473, 'illner': 474, 'dummen': 475, 'maenner': 476, 'murksel': 477, 'siehe': 478, 'damals': 479, 'abend': 480, 'schreiben': 481, 'faellt': 482, 'kaum': 483, 'weder': 484, 'millionen': 485, 'hauptstadt': 486, 'deutschlands': 487, 'schlimmer': 488, 'wuensche': 489, 'ernst': 490, 'sagte': 491, 'sache': 492, 'ung': 493, 'zeigt': 494, 'schande': 495, 'neuen': 496, 'ungarn': 497, 'kennt': 498, 'lieben': 499, 'dr': 500, '8': 501, 'spdbt': 502, 'oeffentlich': 503, 'beck': 504, 'wie': 505, 'ml': 506, 'dushanwegner': 507, 'ikel': 508, 'union': 509, 'bevor': 510, 'doch': 511, 'mir': 512, 'wenn': 513, 'tv': 514, 'aendern': 515, 'paar': 516, 'mittlerweile': 517, 'russland': 518, 'bereits': 519, 'internet': 520, 'groesste': 521, 'veru': 522, 'migranten': 523, 'kosten': 524, 'genauso': 525, 'grals': 526, 'hueter': 527, 'bekannt': 528, 'religion': 529, 'jamaika': 530, 'rechts': 531, 'kannst': 532, 'fakt': 533, 'gesellschaft': 534, 'voellig': 535, 'syrien': 536, 'usa': 537, 'er': 538, 'idioten': 539, 'froehlicher': 540, 'gruss': 541, 'etc': 542, 'passt': 543, 'zu': 544, 'meinungsfreiheit': 545, 'gehoeren': 546, 'koran': 547, 'renft1964': 548, 'letzte': 549, 'tvduell': 550, 'mehrheit': 551, 'g': 552, 'kind': 553, 'gross': 554, 'bekommt': 555, 'typisch': 556, 'koeln': 557, 'verloren': 558, 'sich': 559, 'erste': 560, 'naechste': 561, 'willkommen': 562, 'worden': 563, 'richtige': 564, 'weit': 565, 'buch': 566, 'hamburgpride': 567, 'heikomaas': 568, 'lich': 569, 'zeitonline': 570, 'alten': 571, 'neuwahlen': 572, 'eitag': 573, 'zeiten': 574, 'hilfe': 575, 'besten': 576, 'seehofer': 577, 'volker': 578, 'spo': 579, 'folgen': 580, 'nur': 581, 'muss': 582, 'kenne': 583, 'ersten': 584, 'dass': 585, 'rest': 586, 'gedanken': 587, 'erklae': 588, '9': 589, 'r': 590, 'sed': 591, 'familien': 592, 'verlassen': 593, 'dreck': 594, 'sawsanchebli': 595, 'altpa': 596, '15': 597, 'zukunft': 598, 'genug': 599, 'goeringeckardt': 600, 'seid': 601, 'deswegen': 602, '12': 603, 'rot': 604, 'bundespa': 605, 'suppo': 606, 'darauf': 607, 'politischen': 608, 'redet': 609, 'feie': 610, '6': 611, 'sowas': 612, 'n24': 613, 'rechte': 614, 'fo': 615, 'sicherheit': 616, 'schauen': 617, 'letzten': 618, 'ziehen': 619, 'christen': 620, 'afghanistan': 621, 'jerusalem': 622, 'lese': 623, 'hause': 624, 'ahnung': 625, 'haus': 626, 'nimmt': 627, 'dritteoption': 628, 'politisch': 629, 'mensch': 630, 'luege': 631, 'politikern': 632, 'punkt': 633, 'obwohl': 634, 'sternde': 635, 'schaden': 636, 'wenig': 637, '100': 638, 'hitler': 639, 'drauf': 640, 'dummheit': 641, 'dann': 642, 'moin': 643, 'hin': 644, 'vonschwer': 645, 'kriegen': 646, 'probleme': 647, 'laendern': 648, 'synode': 649, 'mitglieder': 650, 'antrag': 651, 'alles': 652, 'mit': 653, '90': 654, 'frei': 655, 'stadt': 656, '2017': 657, 'bildung': 658, 'schnell': 659, 'youtube': 660, 'leggaknoppers': 661, 'dagegen': 662, 'fake': 663, 'tage': 664, 'propaganda': 665, 'islamisierung': 666, 'kahane': 667, 'hauptsache': 668, 'weiterhin': 669, 'muenchen': 670, 'hoffentlich': 671, 'waren': 672, 'reicht': 673, 'unterschied': 674, 'scheisse': 675, 'sorry': 676, 'vorher': 677, 'berichten': 678, 'naechsten': 679, 'geschrieben': 680, 'fest': 681, 'mio': 682, 'ig': 683, 'zeigen': 684, 'eilen': 685, 'erwa': 686, 'deshalb': 687, 'rag': 688, 'entscheidung': 689, 'eigene': 690, 'gegenueber': 691, 'niveau': 692, 'erklaeren': 693, 'account': 694, 'beide': 695, 'nsu': 696, 'verraten': 697, 'berichtet': 698, 'debatte': 699, '2018': 700, '30': 701, 'stolz': 702, 'familie': 703, 'rassismus': 704, 'regie': 705, 'je': 706, 'arbeiten': 707, 'msm': 708, 'bei': 709, 'scheint': 710, 'polizeiberlin': 711, 'hdberretz': 712, 'ziel': 713, 'schaffen': 714, 'du': 715, 'herrn': 716, 'holgerewald1': 717, 'kriminelle': 718, 'bka': 719, 'facebook': 720, 'schulabschluss': 721, 'heimat': 722, 'kopftuch': 723, 'pl': 724, 'sm100d': 725, 'abgeschoben': 726, 'tief': 727, 'kotzen': 728, 'roth': 729, 'waeren': 730, 'bilder': 731, 'nacht': 732, 'gesper': 733, 'tod': 734, 'ueberall': 735, 'direkt': 736, 'fueh': 737, 'minister': 738, 'morgenmagazin': 739, 'gutmenschen': 740, 'richtigen': 741, 'justiz': 742, 'selber': 743, 'nrw': 744, 'laut': 745, 'auslaender': 746, 'europas': 747, 'bedeutet': 748, 'passie': 749, 'sigmargabriel': 750, 'feiern': 751, 'einst': 752, 'oh': 753, 'kanzlerin': 754, 'afdimbundestag': 755, 'gibts': 756, 'solange': 757, 'widerstand': 758, 'co': 759, 'nutzen': 760, 'schland': 761, 'judenhass': 762, 'neues': 763, 'angela': 764, 'buergermeister': 765, 'rede': 766, 'handelt': 767, 'sowie': 768, 'neu': 769, 'frankfu': 770, 'gehts': 771, '7': 772, 'liegt': 773, 'erkennen': 774, 'hunde': 775, 'rebellin70': 776, 'glueckwunsch': 777, 'giki56534206': 778, 'islamisten': 779, 'tragen': 780, 'posten': 781, 'schoenen': 782, 'rentner': 783, 'mund': 784, 'wahr': 785, 'langsam': 786, 'melden': 787, 'geblieben': 788, 'joemino': 789, 'bonn': 790, 'stimulator': 791, 'ging': 792, 'destatis': 793, 'f': 794, 'afrikaner': 795, 'denke': 796, 'bezahlen': 797, 'ibikus31': 798, 'echt': 799, 'waehrend': 800, 'zdfheute': 801, 'schade': 802, 'untergang': 803, 'denkt': 804, 'landes': 805, 'nochmal': 806, 'kleine': 807, 'riedegost': 808, 'lc180666': 809, 'irgendwann': 810, 'schluss': 811, 'lage': 812, '19': 813, 'vo': 814, 'spiel': 815, 'schlimm': 816, 'erfolg': 817, 'also': 818, 'wichtig': 819, 'mich': 820, 'mitglied': 821, 'gern': 822, 'vielfalt': 823, 'eh': 824, '14': 825, 'presse': 826, 'reter': 827, 'wenigstens': 828, 'taeglich': 829, 'position': 830, 'guter': 831, 'faz': 832, 'interessant': 833, 'hetzer': 834, 'eine': 835, 'moslem': 836, 'strafe': 837, 'dummes': 838, 'netzdg': 839, 'bezeichnen': 840, 'wollten': 841, 'auswae': 842, 'integration': 843, 'oesterreicher': 844, 'us': 845, 'anders': 846, 'in': 847, 'retten': 848, 'ami66stefan': 849, 'schlecht': 850, 'toleranz': 851, 'kam': 852, 'ineshenkler': 853, 'ausschliesslich': 854, 'politische': 855, 'nato': 856, 'koennten': 857, 'gesicht': 858, 'erreicht': 859, 'holen': 860, 'fakten': 861, 'oben': 862, 'versucht': 863, 'hoffen': 864, 'boese': 865, 'liegen': 866, 'eindeutig': 867, 'sprechen': 868, 'spielen': 869, 'hinweis': 870, 'platz': 871, 'verbloedet': 872, 'hirn': 873, 'follower': 874, 'ideologie': 875, 'heiko': 876, 'tweets': 877, 'michael': 878, 'freunde': 879, 'laenger': 880, 'suchen': 881, 'person': 882, 'um': 883, 'her': 884, 'loesung': 885, 'ca': 886, 'gestellt': 887, 'bericht': 888, 'fresse': 889, 'gleichen': 890, 'tomsch24': 891, 'mord': 892, 'magna': 893, 'est': 894, 'boelscheline': 895, 'helfen': 896, 'soweit': 897, 'eilt': 898, 'verbrecher': 899, 'jemanden': 900, 'entscheiden': 901, 'gesetz': 902, 'oezdemir': 903, 'situation': 904, 'bund': 905, 'deutlich': 906, '18': 907, 'muesste': 908, 'wa': 909, 'schule': 910, 'fritz': 911, 'freie': 912, 'allerdings': 913, 'weitere': 914, 'absolut': 915, 'sondierungen': 916, 'hier': 917, 'akifpirincci': 918, 'schickt': 919, 'igesamt': 920, 'verbreitet': 921, 'schwarz': 922, 'willen': 923, 'besonders': 924, 'nachrichten': 925, 'gottes': 926, 'ag': 927, 'ausland': 928, 'halte': 929, 'verkauft': 930, 'unbedingt': 931, 'kindern': 932, 'kundgebung': 933, 'unterstuetzung': 934, 'jungen': 935, 'sorgen': 936, 'schritt': 937, 'loriotfehlt': 938, 'bonkekolja': 939, 'themen': 940, 'nen': 941, 'verhandlungen': 942, 'geworden': 943, 'deutschfeindlichen': 944, 'westen': 945, 'wieder': 946, 'fahren': 947, 'unterstuetzen': 948, 'erstmal': 949, 'muslimischen': 950, 'entschieden': 951, 'bestraft': 952, 'bezahlt': 953, 'unterstuetzt': 954, 'meuthen': 955, 'setzt': 956, 'hoch': 957, 'eliten': 958, 'verboten': 959, 'stimmen': 960, 'fluechtlingen': 961, 'lernen': 962, 'expe': 963, 'bzw': 964, 'stand': 965, 'diktatur': 966, 'sellner': 967, 'weiter': 968, 'vasall': 969, 'freuen': 970, 'illegale': 971, 'abschaum': 972, 'interview': 973, 'monikabergholz1': 974, 'maul': 975, 'schutz': 976, 'beiden': 977, 'ru': 978, 'stiftung': 979, 'sondierung': 980, 'schicken': 981, 'zeichen': 982, 'gegenteil': 983, 'handeln': 984, 'wieviel': 985, 'k': 986, 'drei': 987, 'gehirn': 988, 'gebu': 989, 'illegal': 990, 'allen': 991, 'dunjahayali': 992, 'tausende': 993, 'stellt': 994, 'gefallen': 995, 'phoenix': 996, 'iran': 997, 'milliarden': 998, 'helmut': 999, 'gebe': 1000, 'aussagen': 1001, 'verhalten': 1002, 'soviel': 1003, 'waffen': 1004, 'dorabromberger': 1005, 'bisschen': 1006, '2016': 1007, 'gewesen': 1008, 'geschehen': 1009, 'zieht': 1010, 'swagenknecht': 1011, 'info': 1012, 'spdler': 1013, 'soskinderdorf': 1014, 'impo': 1015, 'ie': 1016, 'euch': 1017, 'taeter': 1018, 'ulfposh': 1019, 'grund': 1020, 'kommentare': 1021, 'heutigen': 1022, 'bisher': 1023, 'ergebnis': 1024, 'begreifen': 1025, 'grossen': 1026, 'y': 1027, 'p': 1028, 'allein': 1029, 'gerechtigkeit': 1030, 'kameraden': 1031, 'froh': 1032, 'volkes': 1033, 'ziemlich': 1034, 'freue': 1035, 'titania0001': 1036, 'erhalten': 1037, 'gutes': 1038, 'tja': 1039, 'yuecel': 1040, 'alt': 1041, 'nennen': 1042, 'joerg': 1043, 'kuemmern': 1044, 'entsorgt': 1045, 'jala': 1046, 'varietas': 1047, 'teilen': 1048, 'gericht': 1049, 'magoorooma': 1050, 'offen': 1051, 'ige': 1052, 'beendet': 1053, 'oder': 1054, 'g20': 1055, 'schreibt': 1056, 'setzen': 1057, 'haengt': 1058, 'kriegt': 1059, 'europaeer': 1060, 'tor': 1061, 'werbung': 1062, 'katjakipping': 1063, 'stunden': 1064, 'laufen': 1065, 'ritter': 1066, 'lohnt': 1067, 'kleinen': 1068, 'islamischen': 1069, 'od': 1070, 'mittelfinger': 1071, 'system': 1072, 'geboren': 1073, 'essen': 1074, 'wahlen': 1075, 'dran': 1076, 'marx': 1077, 'durch': 1078, 'haelt': 1079, 'anne': 1080, 'wand': 1081, '17': 1082, 'pro': 1083, 'chaoten': 1084, 'csd': 1085, 'europaeischen': 1086, 'italien': 1087, 'westminster1000': 1088, 'alter': 1089, 'feind': 1090, 'danach': 1091, 'gekommen': 1092, 'berliner': 1093, 'taugt': 1094, 'beste': 1095, '2015': 1096, 'nennt': 1097, 'isidormeyer1': 1098, 'arbeitet': 1099, 'treffen': 1100, 'geschieht': 1101, 'gesetzt': 1102, 'bejubinich': 1103, 'ihr': 1104, 'schwachsinn': 1105, 'spaeter': 1106, 'gleichzeitig': 1107, 'brot': 1108, 'erster': 1109, 'selbstverstaendlich': 1110, 'okay': 1111, 'sz': 1112, 'maltekaufmann': 1113, '11': 1114, 'verbieten': 1115, 'fb': 1116, 'sowieso': 1117, 'gauck': 1118, 'gefragt': 1119, 'j': 1120, 'wochenende': 1121, 'geh': 1122, 'rente': 1123, 'wem': 1124, 'l7250402': 1125, 'rgutmensch': 1126, 'versuchen': 1127, 'steinhoefel': 1128, 'woche': 1129, 'jahrhunde': 1130, 'folgt': 1131, 'ho': 1132, 'arimar': 1133, 'einzelfallinfos': 1134, 'bezeichnet': 1135, 'england': 1136, 'frankreich': 1137, 'spaetestens': 1138, 'generell': 1139, 'werdet': 1140, 'sondierungsgespraeche': 1141, 'wolfgang': 1142, 'rechtsstaat': 1143, 'fordern': 1144, 'anstatt': 1145, 'gruenden': 1146, 'gemeint': 1147, 'hoeren': 1148, 'wenigen': 1149, 'aussage': 1150, 'gutachten': 1151, 'eier': 1152, 'ntvde': 1153, 'kleiner': 1154, 'al': 1155, 'w': 1156, 'alternative': 1157, 'schaut': 1158, 'tuer': 1159, 'karl': 1160, 'lauterbach': 1161, 'varg': 1162, 'veum': 1163, 'arme': 1164, 'merken': 1165, 'volksverraeterin': 1166, 'habe': 1167, 'rose': 1168, 'robe': 1169, 'stelle': 1170, 'september': 1171, 'iammascho': 1172, 'fuehrung': 1173, 'bloed': 1174, 'weltweit': 1175, 'seiten': 1176, 'soll': 1177, 'rassistische': 1178, 'wahrscheinlich': 1179, 'schuetzen': 1180, 'lauter': 1181, 'ausserdem': 1182, 'sonntag': 1183, 'irgendwie': 1184, 'diskutie': 1185, 'kritisch': 1186, 'praesident': 1187, 'muell': 1188, 'koalition': 1189, 'gefaellt': 1190, 'duesseldorf': 1191, 'andrezeven': 1192, 'ehrlich': 1193, '50': 1194, 'grosser': 1195, 'un': 1196, 'hd': 1197, 'afrin': 1198, 'knast': 1199, 'vorne': 1200, 'antifa': 1201, 'tl': 1202, 'demonstranten': 1203, 'rechtlichen': 1204, 'verbrechen': 1205, 't': 1206, 'man': 1207, 'gelten': 1208, 'hoecke': 1209, 'verein': 1210, 'spass': 1211, 'mae': 1212, 'getan': 1213, 'besteht': 1214, 'cducsubt': 1215, 'hugomuellervogg': 1216, 'ntv': 1217, 'rechten': 1218, 'blondjedi': 1219, 'dennoch': 1220, 'metoo': 1221, 'grad': 1222, 'linker': 1223, 'entweder': 1224, 'aktuell': 1225, 'dachte': 1226, 'jedoch': 1227, 'margit030': 1228, 'spenden': 1229, 'nehme': 1230, 'dinge': 1231, 'steiner': 1232, 'deniz': 1233, 'verstand': 1234, 'idee': 1235, 'hoere': 1236, 'demo': 1237, 'donalphonso': 1238, 'verhindern': 1239, 'wut': 1240, 'polizisten': 1241, 'beides': 1242, 'quatsch': 1243, 'ragen': 1244, 'infos': 1245, 'beginnt': 1246, 'wuenschen': 1247, 'exilmengele': 1248, 'ok': 1249, 'leicht': 1250, 'dich': 1251, 'zumindest': 1252, 'obergrenze': 1253, 'groessten': 1254, 'verdient': 1255, 'sitzt': 1256, 'vorhanden': 1257, 'neben': 1258, 'ebenfalls': 1259, 'zahl': 1260, 'shakriet': 1261, 'tuerkischen': 1262, 'lachen': 1263, 'soeder': 1264, 'rassistisch': 1265, 'herzen': 1266, 'zensie': 1267, 'zb': 1268, 'herzlichen': 1269, 'kriege': 1270, 'uebe': 1271, 'meinst': 1272, 'zw': 1273, 'bundesregierung': 1274, 'dresden': 1275, 'garnicht': 1276, 'argumente': 1277, 'richter': 1278, 'johannesdal': 1279, 'wahre': 1280, 'goering': 1281, 'asiaten': 1282, 'neonazis': 1283, 'per': 1284, 'tochter': 1285, 'daemlich': 1286, 'bevoelkerung': 1287, 'schulen': 1288, 'veranstaltung': 1289, 'preis': 1290, 'ansonsten': 1291, 'laengst': 1292, 'markus': 1293, 'film': 1294, 'schleswig': 1295, 'strasse': 1296, 'kriminellen': 1297, 'epmobil': 1298, 'euro': 1299, 'israelische': 1300, 'flagge': 1301, 'herz': 1302, 'schliessen': 1303, 'piepser': 1304, 'bekaempfen': 1305, 'wochen': 1306, 'heissen': 1307, 'sicherlich': 1308, 'fe': 1309, 'forde': 1310, 'freund': 1311, 'tat': 1312, 'fragt': 1313, 'eilung': 1314, 'rainer': 1315, 'falschen': 1316, 'zustaende': 1317, 'osten': 1318, 'drogen': 1319, '95': 1320, 'journalismus': 1321, 'mecklenburger': 1322, 'widerlich': 1323, 'mehrere': 1324, 'koalitionsverhandlungen': 1325, 'entscheidet': 1326, 'neujahrsempfang': 1327, 'ob': 1328, 'gaebe': 1329, 'eins': 1330, 'verstaendnis': 1331, 'stimme': 1332, 'teufel': 1333, 'online': 1334, 'eile': 1335, 'mitte': 1336, 'beleidigt': 1337, 'aufs': 1338, 'thomasoppermann': 1339, 'freitag': 1340, 'retung': 1341, 'sta': 1342, 'kirchentag': 1343, 'zerstoe': 1344, 'schaft': 1345, 'fussball': 1346, 'uebernehmen': 1347, 'kaufen': 1348, 'arabisch': 1349, 'verstehe': 1350, 'bescheue': 1351, 'abgesehen': 1352, 'gedeon': 1353, 'janboehm': 1354, 'hi': 1355, 'gezeigt': 1356, 'entschuldigung': 1357, 'bleibe': 1358, 'umso': 1359, 'mach': 1360, 'maybritillner': 1361, 'cem': 1362, 'blacknarga300': 1363, 'lediglich': 1364, 'ingofunke': 1365, 'sterben': 1366, 'licht': 1367, 'seht': 1368, 'tolle': 1369, 'erlaubt': 1370, 'tot': 1371, 'richtung': 1372, 'kaiserdesrap': 1373, 'nee': 1374, 'klasse': 1375, 'beantwo': 1376, 'daher': 1377, 'weisst': 1378, 'moerder': 1379, 'feinde': 1380, 'versager': 1381, 'sachen': 1382, 'lasst': 1383, 'prozent': 1384, 'gewissen': 1385, 'gehabt': 1386, 'vernichtung': 1387, 'hetzen': 1388, 'null': 1389, 'ihre': 1390, 'gleiche': 1391, 'schoene': 1392, 'gefahr': 1393, 'anschlag': 1394, 'staendig': 1395, 'gelesen': 1396, 'runde': 1397, 'erzaehlen': 1398, 'definitiv': 1399, 'deutsches': 1400, 'fotos': 1401, '80': 1402, 'diskutiere': 1403, 'kritik': 1404, 'eysvog3l': 1405, 'beispiel': 1406, 'chaos': 1407, 'gesetze': 1408, 'integrieren': 1409, 'gauland': 1410, '40': 1411, 'schlechte': 1412, 'sprache': 1413, 'ring': 1414, 'bahn': 1415, 'sinn': 1416, 'chanukka': 1417, 'korrekt': 1418, 'frieden': 1419, 'samt': 1420, 'neuer': 1421, 'versteht': 1422, 'gehe': 1423, 'gegeben': 1424, 'unfaehig': 1425, 'nase': 1426, 'einreise': 1427, '24': 1428, 'werfen': 1429, 'kultur': 1430, 'altena': 1431, 'beamte': 1432, 'genommen': 1433, 'persoenlich': 1434, 'iss': 1435, 'koelner': 1436, 'lang': 1437, 'kritisieren': 1438, 'hillary': 1439, 'ner': 1440, 'gesamte': 1441, 'schaeuble': 1442, 'ralle': 1443, 'willst': 1444, 'schafft': 1445, 'jeder': 1446, 'weihnachten': 1447, '1945': 1448, 'chance': 1449, 'schau': 1450, 'multikulti': 1451, 'muessten': 1452, 'sage': 1453, 'leuten': 1454, 'laden': 1455, 'blauekep': 1456, 'strafbar': 1457, 'grab': 1458, 'mitgliederentscheid': 1459, 'luther': 1460, 'israelpedia': 1461, 'jetzt': 1462, 'anschlaege': 1463, 'norgeprivacy': 1464, 'miquwarchar': 1465, 'abschieben': 1466, 'komplett': 1467, 'haut': 1468, 'zensur': 1469, 'frueh': 1470, 'flaschen': 1471, 'amt': 1472, 'dimgiulia1': 1473, 'araber': 1474, 'tages': 1475, 'lott': 1476, 'freut': 1477, 'sogenannten': 1478, 'heraus': 1479, 'grosses': 1480, 'sammeln': 1481, 'davonjagen': 1482, 'schaeme': 1483, 'bmi': 1484, 'aende': 1485, 'notwendig': 1486, '1000': 1487, 'interesse': 1488, 'palaestinenser': 1489, 'fehlen': 1490, 'dringend': 1491, 'kaeme': 1492, 'konsequent': 1493, 'spanien': 1494, 'punkte': 1495, 'menschheit': 1496, 'beweis': 1497, 'ardde': 1498, 'veroeffentlicht': 1499, 'unterstuetzer': 1500, 'ding': 1501, 'geist': 1502, 'verlogene': 1503, 'reihen': 1504, '44': 1505, 'permanent': 1506, 'vergewaltigung': 1507, 'antifantenbrut': 1508, 'rassist': 1509, 'sonneundmond1': 1510, 'flaggen': 1511, 'hh': 1512, 'de0701': 1513, 'ao': 1514, 'alicologne': 1515, 'gucken': 1516, 'video': 1517, 'angehoerigen': 1518, 'niemanden': 1519, 'anstand': 1520, 'keinerlei': 1521, 'sitzengeblieben': 1522, 'traum': 1523, 'falls': 1524, 'bw': 1525, 'rolle': 1526, 'ultrabreit': 1527, 'wien': 1528, 'davongejagt': 1529, 'wieviele': 1530, 'lebt': 1531, 'wunsch': 1532, 'gemeldet': 1533, 'abschiebungen': 1534, 'offensichtlich': 1535, 'feige': 1536, 'gewollt': 1537, 'verfolgt': 1538, 'klare': 1539, 'augen': 1540, 'wenige': 1541, 'dazu': 1542, 'schweigen': 1543, '00': 1544, 'kuh': 1545, 'grunde': 1546, 'plan': 1547, '200': 1548, 'diskutieren': 1549, 'hurensohn': 1550, 'labern': 1551, 'peter': 1552, 'ss': 1553, 'auto': 1554, 'bewusst': 1555, 'fluechtling': 1556, 'todesstrafe': 1557, 'lanz': 1558, 'asylrecht': 1559, 'auge': 1560, 'klein': 1561, 'beschlossen': 1562, 'eigenes': 1563, 'ur': 1564, 'beamten': 1565, 'refugees': 1566, 'monaten': 1567, 'voru': 1568, 'liebt': 1569, 'nachbarn': 1570, 'hose': 1571, 'behauptet': 1572, 'grenze': 1573, 'auschwitz': 1574, 'eidigen': 1575, 'angeblich': 1576, 'weshalb': 1577, 'ordnung': 1578, 'motto': 1579, 'donald': 1580, 'ps': 1581, 'sirschnee': 1582, 'mail': 1583, 'trifft': 1584, 'sturm': 1585, 'toten': 1586, 'kreuzritter1099': 1587, 'unterstellen': 1588, 'user': 1589, 'keine': 1590, 'hilft': 1591, 'vereinigten': 1592, 'danielseuffe': 1593, 'stark': 1594, 'kampf': 1595, 'einzigen': 1596, 'nun': 1597, 'bruder': 1598, 'massen': 1599, 'ruhe': 1600, 'freiwillig': 1601, 'spa': 1602, 'solch': 1603, 'tuerkische': 1604, 'muslimen': 1605, 'schlechter': 1606, 'nahles': 1607, 'weise': 1608, '2013': 1609, 'vorwerfen': 1610, 'wasser': 1611, 'uebrig': 1612, 'entschuldigen': 1613, 'mist': 1614, 'hamas': 1615, 'brandenburger': 1616, 'verlierern': 1617, 'grundgesetz': 1618, 'antisemiten': 1619, 'fehlt': 1620, 'antraege': 1621, 'nafris': 1622, 'armes': 1623, 'fallen': 1624, 'leiden': 1625, 'studie': 1626, 'mustaphamondah': 1627, 'nessie43': 1628, 'juergen': 1629, 'haelfte': 1630, 'leyen': 1631, 'bist': 1632, 'lichen': 1633, 'traurig': 1634, 'leitkultur': 1635, 'moege': 1636, 'dlf': 1637, 'soviele': 1638, 'toeten': 1639, 'religioesen': 1640, 'zeitung': 1641, 'juedische': 1642, 'rauen': 1643, 'journalisten': 1644, 'charakter': 1645, 'missbraucht': 1646, 'kohl': 1647, 'rum': 1648, 'ueberleben': 1649, 'el': 1650, 'bverfg': 1651, 'rein': 1652, '45': 1653, 'vergangenheit': 1654, 'steuern': 1655, 'toll': 1656, 'djanecek': 1657, 'landsleute': 1658, 'von': 1659, 'identitaet': 1660, 'lacht': 1661, 'als': 1662, 'hae': 1663, 'antifaschisten': 1664, 'anarchisten': 1665, 'dig': 1666, 'nu': 1667, 'heuchler': 1668, 'erinne': 1669, 'berichterstattung': 1670, 'aeusserungen': 1671, 'gebracht': 1672, 'angezeigt': 1673, 'satz': 1674, 'text': 1675, 'gestrichen': 1676, 'abgelehnt': 1677, 'echte': 1678, 'geschlechter': 1679, 'gutmensch': 1680, 'tritt': 1681, 'norbe': 1682, '70': 1683, 'einsatz': 1684, 'tagesspiegel': 1685, 'anzeigen': 1686, 'wichtige': 1687, 'amerika': 1688, 'sogenannte': 1689, '16': 1690, 'papier451': 1691, 'typ': 1692, 'wahren': 1693, 'ya': 1694, 'ago': 1695, 'kontaktvito': 1696, 'druck': 1697, 'manchmal': 1698, 'dicke': 1699, 'dora': 1700, 'bromberger': 1701, 'freier': 1702, 'bruessel': 1703, 'singt': 1704, '25': 1705, 'mitteln': 1706, 'aufhoeren': 1707, 'hans': 1708, 'gruppe': 1709, 'hohe': 1710, 'strom': 1711, 'kanzlerkandidat': 1712, 'spaet': 1713, 'fette': 1714, 'ursachen': 1715, 'katalonien': 1716, 'pest': 1717, 'alleine': 1718, 'gelernt': 1719, 'koepfe': 1720, 'wahnsinn': 1721, 'deutschfeindliche': 1722, 'realitaet': 1723, 'trolle': 1724, 'wunde': 1725, 'duemmer': 1726, 'hund': 1727, 'proasyl': 1728, '0': 1729, 'voller': 1730, 'repo': 1731, 'begreift': 1732, 'zuerst': 1733, 'beschaeftigt': 1734, 'zuviel': 1735, 'benutzt': 1736, 'juedischen': 1737, 'naemlich': 1738, 'im': 1739, 'ebenso': 1740, 'wohin': 1741, 'erika': 1742, 'passen': 1743, 'wollt': 1744, 'nationalmannschaft': 1745, 'aktuellen': 1746, 'stil': 1747, 'waldoknalldo': 1748, 'bundeskanzler': 1749, 'happy': 1750, 'ar': 1751, 'weissrot': 1752, 'mdb': 1753, 'total': 1754, 'vieles': 1755, 'enorm': 1756, 'wuenschte': 1757, 'demokratisch': 1758, 'nich': 1759, 'merkt': 1760, 'jedenfalls': 1761, 'aba': 1762, 'analphabeten': 1763, 'hetzt': 1764, 'praesidenten': 1765, 'verdammt': 1766, 'templer': 1767, 'schwachkoepfe': 1768, 'wen': 1769, 'israels': 1770, '60': 1771, 'behoerden': 1772, 'treten': 1773, 'engagie': 1774, 'dachau': 1775, 'of': 1776, 'stueck': 1777, 'liefern': 1778, 'mafia': 1779, 'existenz': 1780, 'dilk16': 1781, 'isis': 1782, 'vier': 1783, 'beschweren': 1784, 'reichen': 1785, 'kindergae': 1786, 'abgeschafft': 1787, 'banken': 1788, 'mauer': 1789, 'herkunft': 1790, 'funktionaere': 1791, 'leipzig': 1792, '1989': 1793, 'ost': 1794, 'kommunisten': 1795, 'kardinal': 1796, 'st': 1797, 'erklaerung': 1798, 'linksfraktion': 1799, 'noafd': 1800, 'krankenversicherung': 1801, 'tote': 1802, 'kommentar': 1803, 'nahe': 1804, 'maxe8888': 1805, 'maedchen': 1806, 'korallenherz': 1807, 'kamen': 1808, 'aufklaerer2017': 1809, 'ruhig': 1810, 'dejancrosic': 1811, 'bzgl': 1812, 'vllt': 1813, 'antisemitische': 1814, 'rueckgrat': 1815, 'zustimmung': 1816, 'statistiken': 1817, 'verbreiten': 1818, 'vorgehen': 1819, 'bundeswehr': 1820, 'bin': 1821, 'gewonnen': 1822, 'bundeswehrinfo': 1823, 'plattform': 1824, 'blick': 1825, 'klagen': 1826, 'altmaier': 1827, 'lieb': 1828, 'schoener': 1829, 'laecherlich': 1830, 'verhinde': 1831, 'tato': 1832, 'dienstag': 1833, 'sprach': 1834, 'eltern': 1835, 'ueberzeugt': 1836, 'abgeordneten': 1837, 'meldet': 1838, 'akten': 1839, 'oezoguz': 1840, 'sharia': 1841, 'verlierer': 1842, 'steinmeier': 1843, 'naja': 1844, 'groening': 1845, 'bloss': 1846, 'faschismus': 1847, 'neubrandenburg': 1848, 'wo': 1849, 'soldaten': 1850, 'normal': 1851, 'verlieren': 1852, 'kritisie': 1853, 'ossimarzahn76': 1854, 'legitim': 1855, 'verursacht': 1856, 'vonmontfo': 1857, 'schlagen': 1858, 'super': 1859, 'erwaehnt': 1860, 'tuerkisch': 1861, 'peinlich': 1862, 'yrer': 1863, 'foto': 1864, 'rponline': 1865, 'mutter': 1866, 'stfries': 1867, 'passieren': 1868, 'gelaber': 1869, 'peteraltmaier': 1870, 'sommer': 1871, 'hals': 1872, 'pfeife': 1873, 'verarschen': 1874, 'jugend': 1875, 'trotz': 1876, 'lustig': 1877, 'adolfglunz': 1878, 'germanbub': 1879, 'bereit': 1880, 'woher': 1881, 'privat': 1882, 'rote': 1883, 'vollpfosten': 1884, 'sender': 1885, 'irrsinn': 1886, 'faznet': 1887, 'rechter': 1888, 'polit': 1889, 'korrupte': 1890, 'schneller': 1891, 'sog': 1892, 'bischof': 1893, 'heut': 1894, 'benutzen': 1895, 'claudia': 1896, 'lager': 1897, 'gestapo': 1898, 'jufo': 1899, 'kika': 1900, 'blockie': 1901, 'waffe': 1902, 'loeschen': 1903, 'hebraeisch': 1904, 'finanzkommission': 1905, 'vermutlich': 1906, 'linksgruene': 1907, 'krank': 1908, 'real': 1909, 'irre': 1910, 'roten': 1911, 'genannt': 1912, 'kurs': 1913, 'hahaha': 1914, 'bezug': 1915, 'insbesondere': 1916, 'wojtekthomalla': 1917, 'delegie': 1918, 'wunder': 1919, 'etablie': 1920, 'opfern': 1921, 'fuehlen': 1922, 'nutzt': 1923, 'meldung': 1924, 'freiburg': 1925, 'bio': 1926, 'absehbar': 1927, 'lande': 1928, '23': 1929, 'aktion': 1930, 'papst': 1931, 'szczecin': 1932, 'feiglinge': 1933, 'hand': 1934, 'schwer': 1935, 'droht': 1936, 'linksgruen': 1937, 'geloescht': 1938, 'entspricht': 1939, 'hermann': 1940, 'sehr': 1941, 'analyse': 1942, 'folge': 1943, 'weisse': 1944, 'kamerad': 1945, 'garantie': 1946, 'kern': 1947, 'sollte': 1948, 'kaempfen': 1949, 'stephanderrick2': 1950, 'wundern': 1951, 'intelligenz': 1952, 'thl': 1953, 'fakenews': 1954, 'theo': 1955, 'koennt': 1956, 'fernsehen': 1957, 'unfassbar': 1958, 'bestimmen': 1959, 'falsche': 1960, 'sch': 1961, 'schweiz': 1962, 'gelegenheit': 1963, 'daserste': 1964, 'schnelle': 1965, 'dargestellt': 1966, 'groesser': 1967, 'nach': 1968, 'protestieren': 1969, 'aufstand': 1970, 'armee': 1971, 'unsichere': 1972, 'sicheren': 1973, 'maria': 1974, 'existie': 1975, 'nation': 1976, 'adolf': 1977, 'programm': 1978, 'entsetzt': 1979, 'anzeige': 1980, 'lust': 1981, '83': 1982, 'perfekt': 1983, 'sammy': 1984, 'cux': 1985, 'brosel': 1986, 'werner': 1987, 'spreche': 1988, 'froehlichkait': 1989, 'brandt': 1990, 'dieter': 1991, 'mv': 1992, 'draus': 1993, 'gebrauchen': 1994, '13': 1995, 'st3pp3nwqlf': 1996, 'scharia': 1997, 'unabhaengig': 1998, 'emrich': 1999, '5933': 2000, 'begriff': 2001, 'waldruhe': 2002, 'nachdenken': 2003, 'erreichen': 2004, 'spiegel': 2005, 'oesterreichische': 2006, 'kacke': 2007, 'google': 2008, 'dient': 2009, 'voelker': 2010, 'bayer': 2011, 'meint': 2012, '31': 2013, 'wichtiger': 2014, 'wind': 2015, 'oeffentlichen': 2016, 'leid': 2017, 'gefuehl': 2018, 'koenntet': 2019, 'behalten': 2020, 'nulltipper': 2021, 'kritischen': 2022, 'retweet': 2023, 'vancullo': 2024, 'angerichtet': 2025, 'ans': 2026, 'madameplissee': 2027, 'retweeten': 2028, 'klo': 2029, 'nenne': 2030, 'schreibe': 2031, 'dt': 2032, 'noe': 2033, 'humor': 2034, 'anscheinend': 2035, 'kuemme': 2036, 'gez': 2037, 'kotzt': 2038, 'beweise': 2039, 'gefunden': 2040, 'naechstes': 2041, 'khajiit7': 2042, 'lt': 2043, 'koenig': 2044, 'acc': 2045, 'jagen': 2046, 'souveraen': 2047, 'berichte': 2048, 'hinterbliebenen': 2049, 'diesmal': 2050, 'satire': 2051, 'ddb': 2052, 'belogen': 2053, 'bislang': 2054, 'schaemen': 2055, 'idiot': 2056, 'gegenseitig': 2057, 'holstein': 2058, 'schmonzes': 2059, 'gedenken': 2060, 'shlomosapiens': 2061, 'aussieht': 2062, 'andere': 2063, 'herzlich': 2064, 'geeignet': 2065, 'afdberlin': 2066, 'belegt': 2067, 'finger': 2068, 'sichern': 2069, 'undayou': 2070, 'paradoxxiss': 2071, 'entgegen': 2072, 'etwas': 2073, 'aotto1968': 2074, 'jemals': 2075, 'rechtskommission': 2076, 'kandidaten': 2077, 'stevemotley': 2078, 'waehlbar': 2079, 'muslimische': 2080, 'zurecht': 2081, 'sieger': 2082, 'welch': 2083, 'soeldner': 2084, 'anwaelte': 2085, 'sag': 2086, 'spielt': 2087, 'echter': 2088, 'staerker': 2089, 'interessieren': 2090, 'verstaendlich': 2091, 'dir': 2092, 'selbst': 2093, 'komm': 2094, 'widerspruch': 2095, 'dialog': 2096, 'damit': 2097, 'amygdala712': 2098, 'herum': 2099, 'lass': 2100, 'luegt': 2101, 'glaub': 2102, 'versiffte': 2103, 'schwachmaten': 2104, 'denker': 2105, 'gerhard': 2106, 'opposition': 2107, 'kommenden': 2108, 'basta': 2109, 'held': 2110, 'herkommen': 2111, 'gemerkt': 2112, 'paesse': 2113, 'erkannt': 2114, '2014': 2115, 'awp2015awp': 2116, 'meinungen': 2117, '1933': 2118, 'islamische': 2119, 'organisation': 2120, 'schmidt': 2121, 'endet': 2122, 'ehrliche': 2123, 'not': 2124, 'the': 2125, 'fuerchten': 2126, 'schmarotzer': 2127, 'teile': 2128, 'baut': 2129, 'spinner': 2130, 'parlament': 2131, 'gemeinden': 2132, 'mitleid': 2133, 'schergen': 2134, 'ratte': 2135, 'pferd': 2136, 'koalitionsve': 2137, 'kriminalitaet': 2138, 'grossteil': 2139, 'first': 2140, 'wdr': 2141, 'taschen': 2142, 'sorge': 2143, 'predigt': 2144, 'trinken': 2145, 'polens': 2146, 'maedels': 2147, 'gesamten': 2148, 'verschwinden': 2149, 'staates': 2150, 'steuerzahler': 2151, 'ermordeten': 2152, 'schlampe': 2153, 'arasbacho': 2154, 'fabriziafalcone': 2155, 'wuerstel': 2156, 'schmierfinke': 2157, 'reich': 2158, 'hinten': 2159, 'vergewaltigt': 2160, 'lawtroll': 2161, 'fraulein': 2162, 'antje': 2163, 'haeufig': 2164, 'schwarze': 2165, 'weissen': 2166, 'machtjanix': 2167, 'genuegend': 2168, 'rund': 2169, 'filme': 2170, 'verlogenen': 2171, 'cerberus456': 2172, 'lichtmesz': 2173, 'ir': 2174, 'hcstrachefp': 2175, 'unsinn': 2176, 'puenktlich': 2177, 'dermassen': 2178, 'scheitern': 2179, 'schlimmehelena': 2180, 'pass': 2181, 'primitiv': 2182, 'ber': 2183, 'ka': 2184, 'geschlecht': 2185, 'videos': 2186, 'balken': 2187, 'damian': 2188, 'tamwood': 2189, 'abschiebung': 2190, 'gescheite': 2191, 'ideen': 2192, 'schein': 2193, 'gerechte': 2194, 'logen': 2195, 'franzoesische': 2196, 'franzosen': 2197, 'ouryjalloh': 2198, 'bilderberger': 2199, 'magaldi': 2200, 'vanja': 2201, 'ricardo25701887': 2202, 'jfda': 2203, 'vergewaltiger': 2204, 'abschaffen': 2205, 'putins': 2206, 'offiziell': 2207, 'einer': 2208, 'abwa': 2209, 'spiele': 2210, 'dera': 2211, 'klima': 2212, 'fein': 2213, 'lug': 2214, 'einheit': 2215, 'link': 2216, 'legt': 2217, 'abends': 2218, 'informationen': 2219, 'la': 2220, 'schreib': 2221, '73': 2222, 'oer': 2223, 'anti': 2224, 'parade': 2225, 'ruhrgebiet': 2226, 'ritt': 2227, 'arschloch': 2228, 'verdienen': 2229, 'lobby': 2230, 'sprachen': 2231, 'blockieren': 2232, 'anlass': 2233, 'internationalen': 2234, 'bab': 2235, 'muslim': 2236, 'drohen': 2237, 'team': 2238, 'gekaempft': 2239, 'mehrfach': 2240, 'subsidiaer': 2241, 'frlurban': 2242, 'london': 2243, 'beenden': 2244, 'weh': 2245, 'amri': 2246, 'kompromisse': 2247, 'organisationen': 2248, 'habeck': 2249, 'bewohner': 2250, 'gebraucht': 2251, 'bundestages': 2252, 'integrie': 2253, 'wirken': 2254, 'rolandtichy': 2255, 'kurden': 2256, 'mo': 2257, 'zuhoeren': 2258, 'helalbeauty': 2259, 'gesprochen': 2260, 'personen': 2261, 'krone': 2262, 'ehe': 2263, 'frag': 2264, 'schwein': 2265, 'sondern': 2266, 'bloede': 2267, 'heimatland': 2268, 'bett': 2269, 'leoknauf': 2270, 'informieren': 2271, 'lied': 2272, 'selben': 2273, 'tisch': 2274, 'ganzes': 2275, 'verkaufen': 2276, 'himbeerhans': 2277, 'helden': 2278, 'focus': 2279, 'sultanat': 2280, 'csupt17': 2281, 'linksgruenen': 2282, 'dienst': 2283, 'lexie': 2284, 'thomas': 2285, 'prozess': 2286, 'stunde': 2287, 'nirgends': 2288, 'verletzten': 2289, 'sachsen': 2290, 'rassisten': 2291, 'schiessen': 2292, 'mass': 2293, 'demokraten': 2294, 'sma': 2295, 'verfahren': 2296, 'faulen': 2297, 'fuss': 2298, 'innerhalb': 2299, 'terroranschlag': 2300, 'via': 2301, 'suche': 2302, 'regeln': 2303, 'be': 2304, 'kandidatschulz': 2305, 'bewaehrung': 2306, 'abgewaehlt': 2307, 'ersetzen': 2308, 'vorschlag': 2309, 'gruener': 2310, 'hiess': 2311, 'greifen': 2312, 'rechnung': 2313, 'filmelf': 2314, 'yt': 2315, 'tichyseinblick': 2316, 'sinne': 2317, 'netz': 2318, 'naeher': 2319, 'freude': 2320, 'halb': 2321, 'projekt': 2322, 'schulden': 2323, 'ieren': 2324, 'mutti': 2325, 'ev': 2326, 'israelischer': 2327, 'haenden': 2328, 'armen': 2329, 'toller': 2330, 'meldungen': 2331, 'btw17': 2332, 'mutig': 2333, 'nawratanna': 2334, 'betrug': 2335, 'generation': 2336, 'buchstaben': 2337, 'mp': 2338, 'miriam': 2339, 'yay': 2340, 'eurovision': 2341, 'sicherer': 2342, 'abwaehlen': 2343, 'saemtliche': 2344, 'haltung': 2345, 'christ': 2346, 'moeglichkeit': 2347, 'weil': 2348, 'besuch': 2349, 'profilieren': 2350, 'pfui': 2351, 'entfernt': 2352, 'durfte': 2353, 'breitscheidplatz': 2354, 'wookie': 2355, 'crime': 2356, 'moscheen': 2357, 'sichere': 2358, 'schneeridara': 2359, 'twittonium': 2360, 'besucht': 2361, 'geistliche': 2362, 'brauche': 2363, 'spekulant1': 2364, 'everoll': 2365, 'mache': 2366, 'auftrag': 2367, 'orden': 2368, 'advent': 2369, 'renate': 2370, 'croqisunshine': 2371, 'panzer': 2372, 'dtl': 2373, 'mindestens': 2374, 'non': 2375, 'kreuz': 2376, 'straftaten': 2377, 'regt': 2378, 'dahinter': 2379, 'marcschriese': 2380, 'rnzonline': 2381, 'erinnern': 2382, 'nurmalso': 2383, 'reichsbuerger': 2384, 'profil': 2385, 'viel': 2386, 'fahnen': 2387, 'ausserhalb': 2388, 'lenna': 2389, 'schoenste': 2390, 'sozialsystem': 2391, 'steckt': 2392, 'gefaehrlich': 2393, 'diesel': 2394, 'anfang': 2395, 'gruesse': 2396, 'fasse': 2397, 'herrscht': 2398, 'frohes': 2399, 'juni': 2400, 'goetter': 2401, 'hoffnung': 2402, 'gesteue': 2403, 'wk': 2404, 'altersarmut': 2405, 'steue': 2406, 'sozialamt': 2407, 'geschafft': 2408, 'mittel': 2409, 'langem': 2410, 'karlheppner': 2411, 'diejenigen': 2412, 'schueler': 2413, 'gelaufen': 2414, 'koerper': 2415, 'aufgebaut': 2416, 'menge': 2417, 'gewinnen': 2418, 'waerst': 2419, 'amis': 2420, 'obama': 2421, '33': 2422, 'lebe': 2423, 'findest': 2424, 'finanzie': 2425, 'getroffen': 2426, 'keiner': 2427, 'pension': 2428, 'kraft': 2429, 'scheinbar': 2430, 'riesen': 2431, 'schoenes': 2432, 'wichtigen': 2433, 'helfer': 2434, 'hungern': 2435, 'staatsbuerger': 2436, 'arabischer': 2437, 'wwf': 2438, 'gebaut': 2439, 'tee': 2440, 'hoechste': 2441, 'meistens': 2442, 'bundeskanzlerin': 2443, 'ruhestand': 2444, 'machte': 2445, 'fremden': 2446, 'schweine': 2447, 'affen': 2448, 'theater': 2449, 'onlinemagazin': 2450, 'ausspricht': 2451, 'daraus': 2452, 'jugendlichen': 2453, 'fneuhann': 2454, 'warnung': 2455, 'widerspricht': 2456, 'unverseh': 2457, 'verlogener': 2458, 'eigentlichen': 2459, 'kontext': 2460, 'hohl': 2461, 'solltet': 2462, 'mitternacht': 2463, 'konrad': 2464, 'adenauer': 2465, 'staerke': 2466, 'erbe': 2467, 'caffier': 2468, 'npd': 2469, 'gesetzgeber': 2470, 'ndr': 2471, 'fressen': 2472, 'ukraine': 2473, 'scheinen': 2474, 'stattfinden': 2475, 'groessenwahn': 2476, 'eid': 2477, 'tazgezwitscher': 2478, '26': 2479, 'durchaus': 2480, 'vernichtet': 2481, 'haessliche': 2482, 'verhandelt': 2483, 'hollstein': 2484, 'albrecht': 2485, 'arm': 2486, 'wohnungen': 2487, 'bieten': 2488, 'ploetzlich': 2489, 'staatsbuergerschaft': 2490, 'eil': 2491, 'jetzige': 2492, 'verjagen': 2493, 'braun': 2494, 'kaempfer': 2495, 'amerikaner': 2496, 'stuttga': 2497, 'nuernberg': 2498, '27': 2499, 'beweisen': 2500, 'energie': 2501, 'erneut': 2502, 'taugen': 2503, '68er': 2504, 'abgetrieben': 2505, 'schlimmsten': 2506, 'calineczka505': 2507, 'kennst': 2508, 'gast': 2509, 'zerstoeren': 2510, 'schiffbruechigen': 2511, 'behinde': 2512, 'heinrichwiechm1': 2513, 'belegen': 2514, 'friedliche': 2515, 'krabatkabat': 2516, 'nichtmal': 2517, 'reissen': 2518, 'rechtzeitig': 2519, 'le': 2520, 'aufgenommen': 2521, 'sachlich': 2522, 'zugrunde': 2523, 'aeusserst': 2524, 'oe': 2525, 'spruch': 2526, 'titel': 2527, 'sondierungsergebnisse': 2528, 'asylbewerber': 2529, 'gruende': 2530, 'argumentation': 2531, 'geloest': 2532, 'gesichter': 2533, 'schaechten': 2534, 'aranxo': 2535, 'hannes': 2536, 'moser': 2537, 'frankyfkp': 2538, 'ermordet': 2539, 'haha': 2540, 'japaner': 2541, 'raketen': 2542, 'kotzgruene': 2543, 'bruehe': 2544, 'traeumt': 2545, 'braeuchte': 2546, 'umgekeh': 2547, 'grossa': 2548, 'prigge': 2549, 'schwimmen': 2550, 'boote': 2551, 'rathaus': 2552, 'strassen': 2553, 'markt': 2554, 'halbe': 2555, 'br': 2556, 'daumen': 2557, 'klaus': 2558, 'tjark': 2559, 'limmer': 2560, 'katholischen': 2561, 'ehemaliger': 2562, 'beobachter': 2563, 'gemeinsam': 2564, 'definieren': 2565, 'recherchieren': 2566, 'weisen': 2567, 'gefueh': 2568, 'betroffen': 2569, 'armut': 2570, 'zwitter': 2571, 'anschliessend': 2572, 'kontrollie': 2573, 'erziehung': 2574, 'achtung': 2575, 'erfahrungen': 2576, 'undenkbar': 2577, 'boeses': 2578, 'fr': 2579, 'beleidigen': 2580, 'gegenposition': 2581, 'urlaub': 2582, 'geistigen': 2583, 'entwicklung': 2584, 'bedarf': 2585, 'stock': 2586, 'regierungsbildung': 2587, 'soziale': 2588, 'gehirnwaesche': 2589, 'einstellung': 2590, 'schlechten': 2591, 'nachfragen': 2592, 'manipulie': 2593, 'aufruf': 2594, 'aergern': 2595, 'loesen': 2596, 'spannend': 2597, 'aussehen': 2598, 'larswinter': 2599, 'roll': 2600, 'ruft': 2601, 'khajiit': 2602, 'hessen': 2603, 'beifall': 2604, 'syrer': 2605, 'verklagt': 2606, 'besucher': 2607, 'sawsan': 2608, 'schaeden': 2609, 'verband': 2610, 'gedacht': 2611, 'bestimmten': 2612, 'uebrigen': 2613, 'andreas': 2614, 'mecklenburg': 2615, 'hoelle': 2616, 'einigkeit': 2617, 'josef': 2618, 'schuster': 2619, 'hasst': 2620, 'barcelona': 2621, 'stoe': 2622, 'geaende': 2623, 'wahlergebnis': 2624, 'ditfu': 2625, 'juncker': 2626, 'demonstrieren': 2627, 'flughafen': 2628, 'erinnerung': 2629, 'dpa': 2630, 'kandel': 2631, 'verlangt': 2632, 'beitritt': 2633, 'beissen': 2634, 'kim': 2635, 'guete': 2636, 'reine': 2637, 'freierdiskurs': 2638, 'gewisse': 2639, 'alternativenrw': 2640, 'freytag': 2641, 'schuldig': 2642, 'queeniepi': 2643, 'regierenden': 2644, 'haufen': 2645, 'herkommt': 2646, 'ausnahme': 2647, 'abstand': 2648, 'basis': 2649, 'derjenige': 2650, 'treibt': 2651, 'jufodigberlin': 2652, 'tagen': 2653, 'hebraeische': 2654, 'tastatur': 2655, 'irgendeiner': 2656, 'schnellstmoeglich': 2657, 'schaukel': 2658, 'gestanden': 2659, 'westerwelle': 2660, 'illegalen': 2661, 'une': 2662, 'raeglich': 2663, 'autos': 2664, 'daten': 2665, 'verbindung': 2666, 'zudem': 2667, 'werbe': 2668, 'benannt': 2669, 'seh': 2670, '300': 2671, 'sohn': 2672, 'befuerwo': 2673, 'zustande': 2674, 'schlawiner2017': 2675, 'einstellen': 2676, 'zaehlen': 2677, 'nachricht': 2678, 'vergangenen': 2679, 'bereicherung': 2680, 'spderneuern': 2681, 'bauen': 2682, 'kirstjeremy': 2683, 'luegenafd': 2684, 'hauen': 2685, 'ge': 2686, 'tuerkischer': 2687, 'kokolores100': 2688, 'patmair1': 2689, 'schonmal': 2690, 'russischen': 2691, 'revolution': 2692, 'islamismus': 2693, 'botschaft': 2694, 'erscheint': 2695, 'marcon': 2696, 'raiminem': 2697, 'grind': 2698, 'jesus': 2699, 'siehst': 2700, 'nicolabeerfdp': 2701, 'irgendwas': 2702, 'eingereiste': 2703, 'gtzfrmming': 2704, 'fuerchtet': 2705, 'fuehrerin': 2706, 'klingt': 2707, 'sozialsysteme': 2708, 'schwarzen': 2709, 'zuvor': 2710, 'nachzulesen': 2711, 'joeygerlach': 2712, 'lesung': 2713, 'monat': 2714, 'spdbt2017': 2715, 'dritten': 2716, 'aha': 2717, 'scheissen': 2718, 'hut': 2719, 'mai': 2720, 'waehlt': 2721, 'kugelschreiber': 2722, 'einig': 2723, 'nick': 2724, 'ossimarzahn': 2725, 'konnten': 2726, 'thread': 2727, 'sack': 2728, 'personal': 2729, 'em': 2730, 'legen': 2731, 'synodalve': 2732, 'geoeffnet': 2733, 'trug': 2734, '1990': 2735, 'show': 2736, 'korrigie': 2737, 'apatzwahl': 2738, 'erwachen': 2739, 'kulturen': 2740, 'morden': 2741, 'name': 2742, 'moegen': 2743, 'kontrolle': 2744, 'geistige': 2745, 'franzchristian8': 2746, 'platiniumray': 2747, 'biegen': 2748, 'beschaemend': 2749, 'inhalte': 2750, 'toter': 2751, 'gnade': 2752, 'veroniquebantau': 2753, 'tinimaus1110': 2754, 'geschuetzten': 2755, 'annewilltalk': 2756, 'apa': 2757, 'hasse': 2758, 'furchtbar': 2759, 'propheten': 2760, 'koerperliche': 2761, 'verstecken': 2762, 'ihnen': 2763, 'aufgabe': 2764, 'persoenliche': 2765, 'bezahlte': 2766, 'gehaelter': 2767, 'jonwo': 2768, 'europaeische': 2769, 'parallel': 2770, 'bad': 2771, 'bekaempft': 2772, 'bestens': 2773, 'regime': 2774, 'winter': 2775, 'woe': 2776, 'hinweg': 2777, 'alhope1': 2778, 'aerge': 2779, 'burka': 2780, 'glueck': 2781, 'fpoe': 2782, 'sozial': 2783, 'drumheadberlin': 2784, 'muschpoke': 2785, 'soli': 2786, 'pflicht': 2787, '22': 2788, 'eddie': 2789, '1412': 2790, 'tuerke': 2791, 'arabien': 2792, 'trulla': 2793, 'bekam': 2794, 'ismailtipi': 2795, 'erforderlich': 2796, 'esse': 2797, 'eingefueh': 2798, 'getrennt': 2799, 'altmaiers': 2800, 'nordkorea': 2801, 'mitgefuehl': 2802, 'populisten': 2803, 'einfachen': 2804, 'loesungen': 2805, 'niederlage': 2806, 'betrachtet': 2807, 'simpla': 2808, 'isr': 2809, 'gutem': 2810, 'statements': 2811, 'mainz': 2812, 'haengen': 2813, 'falsches': 2814, 'petry': 2815, 'bahnhofsklatscher': 2816, 'tatsache': 2817, 'kirchen': 2818, 'grundsaetzlich': 2819, 'live': 2820, 'fans': 2821, 'svbabelsberg03': 2822, 'einwanderung': 2823, 'sammelabschiebung': 2824, 'schweden': 2825, 'nachdem': 2826, 'landesve': 2827, 'stag': 2828, 'truppe': 2829, 'gemeinde': 2830, 'alliie': 2831, 'verraet': 2832, 'alkohol': 2833, 'drin': 2834, 'unfaehigkeit': 2835, 'vollkommen': 2836, 'vorm': 2837, 'gesindel': 2838, 'gelogen': 2839, 'funktionie': 2840, 'mesut': 2841, 'frech': 2842, 'lol': 2843, 'entsorgen': 2844, 'nuetzt': 2845, 'agenda': 2846, 'honecker': 2847, 'entscheidungen': 2848, 'zweite': 2849, 'zauber': 2850, 'dercharlie': 2851, 'unterdrueckung': 2852, 'verletzt': 2853, 'erik': 2854, 'zentrum': 2855, 'unmoeglich': 2856, 'matthias': 2857, 'verstoesst': 2858, 'franziskus': 2859, 'patriotismus': 2860, 'gummigeschossen': 2861, 'eindruck': 2862, 'bundes': 2863, 'kge': 2864, '21': 2865, 'klaren': 2866, 'mittwoch': 2867, 'goreminister': 2868, 'erfahrung': 2869, 'medienpack': 2870, 'loge': 2871, 'republik': 2872, 'lecker': 2873, 'hm': 2874, 'moeglichkeiten': 2875, 'klappe': 2876, 'lkw': 2877, 'musst': 2878, 'vater': 2879, 'anhaenger': 2880, 'totschlag': 2881, 'ch': 2882, 'pruefen': 2883, 'rassistischen': 2884, 'lehrer': 2885, 'feier': 2886, 'gelder': 2887, 'uebt': 2888, 'witz': 2889, 'gang': 2890, 'aegypten': 2891, 'hohlkoepfe': 2892, 'mitbekommen': 2893, 'angesichts': 2894, 'existieren': 2895, 'huffpostde': 2896, 'sendung': 2897, 'offenbar': 2898, 'seitdem': 2899, 'zmd': 2900, 'bezeichnung': 2901, 'ueberforde': 2902, 'menschenrechte': 2903, 'brueder': 2904, 'islamist': 2905, 'achja': 2906, 'fuers': 2907, 'haare': 2908, 'gesucht': 2909, 'goebbels': 2910, 'prothesen': 2911, 'germany': 2912, 'onkeljakob': 2913, 'ironie': 2914, 'aussen': 2915, 'dingen': 2916, 'wirkung': 2917, 'verwaltet': 2918, 'anette': 2919, 'fassen': 2920, 'einsetzt': 2921, 'aberfair': 2922, 'erhaelt': 2923, 'job': 2924, 'mark': 2925, 'schicke': 2926, 'anschauen': 2927, 'lehnt': 2928, 'begriffen': 2929, 'dolmetscher': 2930, 'treu': 2931, 'kittypunk7': 2932, 'pol': 2933, 'bescheissen': 2934, 'vernuenftig': 2935, 'heilige': 2936, 'heike': 2937, 'bewiesen': 2938, 'klauen': 2939, 'kratzer': 2940, 'klassen': 2941, 'meinungsaeusserung': 2942, 'einzig': 2943, 'taetern': 2944, 'gebliebene': 2945, 'oeffentlichkeit': 2946, 'birne': 2947, 'volke': 2948, 'gewoehnen': 2949, 'gedenkfeier': 2950, 'aussenminister': 2951, 'schwule': 2952, 'beruf': 2953, 'lebst': 2954, 'eingestellt': 2955, 'kaliber': 2956, 'indersee': 2957, 'greift': 2958, '1895': 2959, 'lebenden': 2960, 'schliesst': 2961, 'tolles': 2962, 'vorgibt': 2963, 'bekannten': 2964, 'texte': 2965, 'verdammte': 2966, 'traumatisie': 2967, 'arzt': 2968, 'unte': 2969, 'einkaufen': 2970, 'ohren': 2971, 'gegner': 2972, 'igen': 2973, 'net': 2974, 'kontinent': 2975, 'regelung': 2976, 'vie': 2977, 'absicht': 2978, 'caro22one': 2979, 'dieses': 2980, 'anwalt': 2981, 'loehne': 2982, 'auslaendische': 2983, 'stattfindet': 2984, 'bande': 2985, 'aschentonne': 2986, 'antifas': 2987, 'blockiere': 2988, 'jungs': 2989, 'chebli': 2990, 'runter': 2991, 'erkennbar': 2992, 'geschlossen': 2993, 'beschaeftigen': 2994, 'hau': 2995, 'wetter': 2996, 'foj45360104': 2997, 'cent': 2998, 'denn': 2999, 'versagt': 3000, 'nem': 3001, 'tusk': 3002, 'auftritt': 3003, 'liste': 3004, 'fanatiker': 3005, 'gefahren': 3006, 'annehmen': 3007, 'unfaehige': 3008, 'dominique': 3009, 'oster': 3010, 'meist': 3011, 'sah': 3012, 'himmel': 3013, 'dauernd': 3014, 'vulgaere': 3015, 'hackt': 3016, 'buecher': 3017, 'muehe': 3018, 'aemtern': 3019, 'akzeptieren': 3020, 'irgendetwas': 3021, 'gruselig': 3022, 'juristisch': 3023, 'gefaehrlicher': 3024, 'swraktuell': 3025, 'besetzt': 3026, 'chteffie': 3027, 'reten': 3028, 'messer': 3029, 'dietmar': 3030, 'schmutz': 3031, 'geblockt': 3032, 'verbrennt': 3033, 'versuch': 3034, 'gras': 3035, 'wg': 3036, 'zentralrat': 3037, 'mdrkultur': 3038, 'sondierungsgespraechen': 3039, 'manchester': 3040, 'hautfarbe': 3041, 'kunst': 3042, 'italiener': 3043, 'krim': 3044, 'verrat': 3045, 'stell': 3046, 'arschloecher': 3047, 'liest': 3048, 'bereich': 3049, 'co2': 3050, 'zeug': 3051, 'petrus': 3052, 'negativ': 3053, 'schweren': 3054, 'majak': 3055, 'dahin': 3056, 'vespasianus69bc': 3057, 'no': 3058, 'staatsfunk': 3059, 'hedrich': 3060, 'promis': 3061, 'uebliche': 3062, 'schiesst': 3063, 'nimmer': 3064, 'neulich': 3065, 'leaks': 3066, 'wiedervereinigung': 3067, 'interessante': 3068, 'flucht': 3069, 'lars9596': 3070, 'hatten': 3071, 'voss': 3072, 'fgabrieleu': 3073, 'einreisen': 3074, 'erobe': 3075, 'kard': 3076, 'beleidigungen': 3077, 'kuenast': 3078, 'regel': 3079, 'erwaehnen': 3080, 'schrecklichen': 3081, 'wohlstand': 3082, 'boden': 3083, 'verweige': 3084, 'juenger': 3085, 'ausgedrueckt': 3086, 'robinalexander': 3087, 'min': 3088, 'patriarchator': 3089, 'fazit': 3090, 'shithole': 3091, 'to': 3092, 'or': 3093, 'wofuer': 3094, 'form': 3095, 'nahen': 3096, 'ex': 3097, 'genossen': 3098, 'daue': 3099, 'arrogant': 3100, 'einfacher': 3101, 'hamster': 3102, 'in28a': 3103, 'ahrens': 3104, 'subs': 3105, 'hr': 3106, 'jayxthexhuman': 3107, 'wirkt': 3108, 'vermeh': 3109, 'digitalisierung': 3110, 'wohnen': 3111, 'souveraenitaet': 3112, 'niederlande': 3113, 'ausweisen': 3114, 'finanzieren': 3115, 'ablegen': 3116, 'nochmals': 3117, 'dieselgipfel': 3118, 'reduzieren': 3119, 'sauber': 3120, 'nachvollziehbar': 3121, 'sollst': 3122, 'stephanjbauer': 3123, 'einsammeln': 3124, 'israelischen': 3125, 'dokumentation': 3126, 'gedreht': 3127, 'dadurch': 3128, 'unsere': 3129, 'abgeschaltet': 3130, 'natur': 3131, 'schaemt': 3132, 'konstruktive': 3133, 'uwe': 3134, 'mdl': 3135, 'lernte': 3136, 'praxis': 3137, 'beweist': 3138, 'ewig': 3139, 'verkehr': 3140, 'begehen': 3141, 'weltmeister': 3142, 'aufarbeitung': 3143, 'pfeifen': 3144, 'helfershelfer': 3145, 'infotweet': 3146, 'inarenner': 3147, 'fluten': 3148, 'bla': 3149, 'erkenntnis': 3150, '87prozent': 3151, 'stoeren': 3152, 'kinderga': 3153, 'ggf': 3154, 'abgestimmt': 3155, 'ruecksichtslose': 3156, 'cuffedcatling': 3157, 'willy': 3158, 'gratuliere': 3159, 'bundestagspraesident': 3160, 'lamme': 3161, 'ekelhafte': 3162, 'engagement': 3163, 'burkhardewe': 3164, 'wm': 3165, 'besuchen': 3166, 'geplante': 3167, 'dom': 3168, 'schlimme': 3169, 'lippen': 3170, 'bekenntnis': 3171, 'belangen': 3172, 'newsletter': 3173, 'netanyahu': 3174, 'modus': 3175, 'andre': 3176, 'erwacht': 3177, 'meinte': 3178, 'fangen': 3179, 'stuhl': 3180, 'pervers': 3181, 'gerichte': 3182, 'wagenknecht': 3183, 'trittin': 3184, 'subjekte': 3185, 'systems': 3186, 'fluechtlings': 3187, 'dritte': 3188, 'ganztaegig': 3189, 'konzentrie': 3190, 'teilweise': 3191, 'vereinba': 3192, 'schnauze': 3193, 'vereinigung': 3194, 'hotnakedlove': 3195, 'gl': 3196, 'owwyrm': 3197, 'genkuchen': 3198, 'tenreccc': 3199, 'magda': 3200, 'wetten': 3201, 'btsmeier': 3202, 'differenzieren': 3203, 'internationale': 3204, 'antideutsch': 3205, 'yorck': 3206, 'sinnvoll': 3207, 'staatsanwaltschaft': 3208, 'selbstbestimmung': 3209, 'nationalstaaten': 3210, 'richten': 3211, 'vergleichen': 3212, 'atheisten': 3213, 'aufklaerung': 3214, 'schweizerguy': 3215, 'obermeier': 3216, 'kerzen': 3217, 'stephanstaiger': 3218, 'woanders': 3219, 'faeh': 3220, 'skybirdphoenix': 3221, 'metronom': 3222, 'philosemitismus': 3223, 'al3x': 3224, 'predigen': 3225, 'anspruch': 3226, 'andreasleu1': 3227, 'verwehren': 3228, 'handy': 3229, 'kaempft': 3230, 'finanzminister': 3231, 'ueb': 3232, 'ufhoven': 3233, 'jreichelt': 3234, 'fuehle': 3235, 'versprechen': 3236, 'weiteren': 3237, 'katja': 3238, 'kratzen': 3239, 'zuwanderung': 3240, 'kette': 3241, 'traeume': 3242, 'scheisser': 3243, 'buergerkrieg': 3244, 'ernsthaft': 3245, 'sifftwitter': 3246, 'inkl': 3247, 'shop': 3248, 'auskennt': 3249, 'demonstrie': 3250, 'gebannt': 3251, 'gaeste': 3252, 'saschaulbrich': 3253, 'sonder': 3254, 'flchtlngwllkmmn': 3255, 'umsetzen': 3256, 'dirkhafermann': 3257, 'journalist': 3258, 'werd': 3259, 'antisem': 3260, 'bergab': 3261, 'aufforderung': 3262, 'hohle': 3263, 'franzandes45': 3264, 'clinton': 3265, 'nazizeit': 3266, 'owslanderufo': 3267, 'hoffnungslos': 3268, 'radio': 3269, 'roemer': 3270, 'trommler69': 3271, 'beschneidung': 3272, 'dese': 3273, 'fliegen': 3274, 'versicke': 3275, 'anderen': 3276, 'sager': 3277, 'haeuser': 3278, 'klausgunk': 3279, 'voraus': 3280, 'anhohx': 3281, 'verkommen': 3282, 'holgerscherer': 3283, 'geschlagen': 3284, 'schnee': 3285, 'fliehen': 3286, 'sebwan1': 3287, 'regelt': 3288, 'berufspolitiker': 3289, 'nahmen': 3290, 'unfall': 3291, 'cuxhaven': 3292, 'geglaubt': 3293, 'steuergelder': 3294, 'infrastruktur': 3295, 'munter': 3296, 'seele': 3297, 'karina': 3298, 'vogel': 3299, 'zweimal': 3300, 'ueberfluessige': 3301, 'abschaffung': 3302, 'verhandeln': 3303, 'hashtag': 3304, 'demokratische': 3305, 'sanktionen': 3306, 'jagt': 3307, 'bsp': 3308, 'wozu': 3309, 'aktuelle': 3310, 'ohrfeigen': 3311, 'assad': 3312, 'minderheiten': 3313, 'genfer': 3314, 'denkst': 3315, 'innenminister': 3316, '1683': 3317, 'spuren': 3318, 'tust': 3319, 'mohammed': 3320, 'haende': 3321, 'fahne': 3322, 'schmeisst': 3323, 'feindbild': 3324, 'besseres': 3325, 'afdkoeln': 3326, 'demonstration': 3327, 'jeanvansta': 3328, 'ums': 3329, 'studio': 3330, 'gegenseite': 3331, 'integrationsforum': 3332, 'dbbforum': 3333, 'berndfachinsson': 3334, 'staatlich': 3335, 'igkeit': 3336, 'son': 3337, 'ignorieren': 3338, 'erstatten': 3339, 'ansehen': 3340, 'mangott': 3341, 'wahlkampf': 3342, 'kampagne': 3343, 'shoppen': 3344, 'draussen': 3345, 'sos': 3346, 'europe': 3347, 'luegenbande': 3348, 'motikat': 3349, 'einzusteigen': 3350, 'kalt': 3351, 'afdfraktionagh': 3352, 'staedten': 3353, 'erstes': 3354, 'och': 3355, 'bunten': 3356, 'dirkderkaiser': 3357, 'saekularer': 3358, 'geschuetzt': 3359, 'taten': 3360, 'strategie': 3361, 'diesjaehrige': 3362, 'dumpfbacken': 3363, 'on': 3364, 'traut': 3365, 'zur': 3366, 'snoopysbrain': 3367, '1netzrepo': 3368, 'peppermind': 3369, 'hassen': 3370, 'region': 3371, 'au': 3372, 'bitten': 3373, 'wollte': 3374, 'vorstellen': 3375, 'bluten': 3376, 'verbrannt': 3377, 'drastisch': 3378, 'loswerden': 3379, 'beobachte': 3380, 'jahres': 3381, 'baetschi': 3382, 'stopfen': 3383, 'voran': 3384, 'anlage': 3385, 'aksynode': 3386, 'cicero': 3387, 'zweck': 3388, 'wuenscht': 3389, 'getwitte': 3390, 'bekennen': 3391, 'bestehen': 3392, 'silvester': 3393, 'umgang': 3394, 'moeglichen': 3395, 'achimspiegel': 3396, 'sigmar': 3397, 'amerikanische': 3398, 'dfakenews': 3399, 'haesslich': 3400, 'nachzug': 3401, 'gezogen': 3402, '1949': 3403, 'anstieg': 3404, 'minderheit': 3405, 'sexuelle': 3406, 'tauber': 3407, 'menschenwuerde': 3408, 'ami': 3409, 'aufhalten': 3410, 'kuenftig': 3411, 'schleunigst': 3412, 'germonney': 3413, 'denis': 3414, 'oeffnung': 3415, 'beleidigend': 3416, 'unterkunft': 3417, 'sozialtouristen': 3418, 'bittere': 3419, 'schluessel': 3420, 'andersdenkender': 3421, 'odenwaelderin': 3422, 'kommentieren': 3423, '1700': 3424, 'monate': 3425, 'angie': 3426, 'renatekuenast': 3427, 'oliver': 3428, 'leisten': 3429, 'mahnmal': 3430, 'anrecht': 3431, 'fckafd': 3432, 'inhalt': 3433, 'schuss': 3434, 'imam': 3435, 'abgewi': 3436, 'meck': 3437, 'pomm': 3438, 'and': 3439, 'heil': 3440, 'segen': 3441, 'gelobet': 3442, 'verdanken': 3443, 'nachher': 3444, 'waer': 3445, 'carlascheytt': 3446, 'jutta': 3447, 'benennen': 3448, 'rechtsextremismus': 3449, 'skepsis': 3450, 'auffassung': 3451, 'hingegen': 3452, 'differenzie': 3453, 'begonnen': 3454, 'bewaffnet': 3455, 'lupenreinen': 3456, 'sympathisanten': 3457, 'halbneger': 3458, 'sat1': 3459, 'mittelpunkt': 3460, 'doppelmoral': 3461, 'derweil': 3462, 'votum': 3463, 'schei': 3464, 'osteuropa': 3465, 'freizeitrobin': 3466, 'haettest': 3467, 'stehe': 3468, 'gemessen': 3469, 'unterhalten': 3470, 'angeboten': 3471, 'bruecke': 3472, 'kuehe': 3473, 'systemmedien': 3474, 'klimawandel': 3475, 'unwuerdiger': 3476, 'quellen': 3477, 'haft': 3478, 'aufgehts100': 3479, 'birdie51411736': 3480, 'vorgegeben': 3481, 'strop': 3482, 'wow': 3483, 'regierungen': 3484, 'kranzmarkus': 3485, 'karlsruhe': 3486, 'berghueserfritz': 3487, 'emmanuelmacron': 3488, 'gefangenen': 3489, 'rauten': 3490, 'boehmermann': 3491, 'duerft': 3492, 'kalten': 3493, 'getrieben': 3494, 'wach': 3495, 'finnland': 3496, 'schroeder': 3497, 'verbesserungen': 3498, 'oefter': 3499, 'pflaster': 3500, 'irren': 3501, 'coffee': 3502, 'luna': 3503, 'waltrautdunz': 3504, 'irgendwo': 3505, 'gewuenscht': 3506, 'einreden': 3507, 'gerufen': 3508, 'buntland': 3509, 'osb': 3510, 'donnerstag': 3511, 'tragt': 3512, 'lichtes': 3513, 'gerd': 3514, 'heutejournal': 3515, 'linksradikalen': 3516, 'einwanderer': 3517, 'schadet': 3518, 'ecke': 3519, 'schulabbrecher': 3520, 'sieg': 3521, '2020': 3522, 'analysieren': 3523, 'darfst': 3524, 'm0ntico83': 3525, 'yep': 3526, 'vmedick': 3527, '3000': 3528, 'ungewoehnlich': 3529, 'beschimpfen': 3530, 'ranzmann': 3531, 'verachtung': 3532, 'schuldige': 3533, 'eckardt': 3534, 'kot': 3535, 'davor': 3536, 'kaputt': 3537, 'nachfolger': 3538, 'speichellecker': 3539, 'ueberwiegend': 3540, 'schuetzt': 3541, 'psychisch': 3542, 'kranke': 3543, 'erdowahn': 3544, 'heiseonline': 3545, 'deutschpi': 3546, 'verfassungsbeschwerde': 3547, 'wenden': 3548, 'flintenuschi': 3549, 'berlinerzeitung': 3550, 'schenken': 3551, 'ausbildung': 3552, 'traegt': 3553, 'poggenburg': 3554, 'einzelne': 3555, 'gemaess': 3556, 'beruhigen': 3557, 'demenz': 3558, 'zivilcourage': 3559, 'feigling': 3560, 'at': 3561, 'dorf': 3562, 'visioneurope': 3563, 'walter': 3564, 'forderungen': 3565, 'nationalismus': 3566, 'brenner': 3567, 'bildet': 3568, 'betrifft': 3569, 'wunderbar': 3570, 'verbloedung': 3571, 'terroristischen': 3572, 'gemeinschaft': 3573, 'unkontrollie': 3574, 'absoluter': 3575, 'kapital': 3576, 'volksve': 3577, 'woxl0r': 3578, 'bethel': 3579, 'stellungnahme': 3580, 'beliebt': 3581, 'empfehlen': 3582, 'dollar': 3583, 'gesorgt': 3584, 'unverantwo': 3585, 'zieh': 3586, 'gefluechteten': 3587, 'elend': 3588, 'verzichten': 3589, 'angesprochen': 3590, 'unterworfen': 3591, 'mareike': 3592, 'gespraech': 3593, 'jederzeit': 3594, 'antun': 3595, 'heidstaat': 3596, 'benennt': 3597, 'zer': 3598, 'heit': 3599, 'getreten': 3600, 'friede': 3601, 'aposener': 3602, 'zwang': 3603, 'kotz': 3604, 'angriffe': 3605, 'faule': 3606, 'feststellen': 3607, 'nachgewiesen': 3608, 'praktisch': 3609, 'generationen': 3610, '220': 3611, 'noeoeoe': 3612, 'flasche': 3613, 'nachtschicht': 3614, 'spitze': 3615, 'rahmen': 3616, 'kannste': 3617, 'seenplatte': 3618, 'heuteshow': 3619, 'zeitungen': 3620, 'nationalitaet': 3621, 'akte': 3622, 'firma': 3623, 'fluechtlingspolitik': 3624, 'brav': 3625, 'datum': 3626, 'absitzen': 3627, 'bezahle': 3628, 'saudi': 3629, 'erfunden': 3630, 'renten': 3631, 'einbezahlt': 3632, 'albtraum': 3633, 'fdj': 3634, 'statement': 3635, 'umfrage': 3636, 'rechtspopulisten': 3637, 'lautet': 3638, 'fraukepetry': 3639, '123lenchen': 3640, 'betreiben': 3641, 'tonihofreiter': 3642, 'ausdruck': 3643, 'klatschen': 3644, 'wessen': 3645, 'erkennt': 3646, 'gespendet': 3647, 'myanmar': 3648, 'dreckspack': 3649, 'aufgerufen': 3650, 'geklae': 3651, 'muelleimer': 3652, 'neutral': 3653, 'rechnungspruefer': 3654, 'bistumssynode': 3655, 'unesco': 3656, 'zorn': 3657, 'ardmoma': 3658, 'stein': 3659, 'zuviele': 3660, 'aehnlich': 3661, 'freigelassen': 3662, 'labe': 3663, 'duckmaeuser': 3664, 'ko': 3665, 'gewinnt': 3666, 'verraeter': 3667, 'volkspa': 3668, 'raum': 3669, 'ihm': 3670, 'krieger': 3671, 'boykottieren': 3672, 'burkas': 3673, 'berufung': 3674, 'aufgehoben': 3675, 'identitaeten': 3676, 'juli': 3677, 'bayerischen': 3678, 'hey': 3679, 'heiligen': 3680, 'larsklingbeil': 3681, 'senden': 3682, 'fischer': 3683, 'betruegen': 3684, 'btw': 3685, 'grundgesetzes': 3686, 'merke': 3687, 'gewaehlten': 3688, 'geboten': 3689, 'jorg': 3690, 'gewarnt': 3691, 'oeffentliche': 3692, 'irrelevant': 3693, 'staatsmedien': 3694, 'vorbereitet': 3695, 'reise': 3696, 'zitie': 3697, 'soros': 3698, 'zufaellig': 3699, 'yigidoyosi58': 3700, 'dusselige': 3701, 'ronaiveromaus': 3702, 'anatolien': 3703, 'unternehmen': 3704, 'spdbpt18': 3705, 'forum': 3706, 'sekte': 3707, 'sogenannter': 3708, 'erstens': 3709, 'zweitens': 3710, 'sauerei': 3711, 'topnews': 3712, 'bloedsinn': 3713, 'freien': 3714, 'stern': 3715, 'gehalten': 3716, 'schaftsfluechtlinge': 3717, 'meter': 3718, 'nationalen': 3719, 'ergebnisse': 3720, 'einzelnen': 3721, 're': 3722, 'renetruninger': 3723, 'zeitpunkt': 3724, 'zweiten': 3725, 'cholera': 3726, 'asylantrag': 3727, 'rvrsapachemastr': 3728, 'wohnung': 3729, 'mob': 3730, 'gestoe': 3731, 'nachbarin': 3732, 'dame': 3733, 'negohotshlomo': 3734, 'ineslandmann': 3735, 'populismus': 3736, 'hauptsaechlich': 3737, 'gegenteilige': 3738, 'dulden': 3739, 'hochverrat': 3740, 'nah': 3741, 'bt': 3742, 'dreht': 3743, 'gender': 3744, 'baf': 3745, 'regierungsfaehig': 3746, 'den': 3747, 'sexismus': 3748, 'feuer': 3749, 'bezieht': 3750, 'gegruendet': 3751, 'reaktion': 3752, 'gespannt': 3753, 'pruefung': 3754, 'teurer': 3755, 'investitionen': 3756, 'ueberdenken': 3757, 'typen': 3758, 'allerletzte': 3759, 'omichalsky': 3760, 'daneben': 3761, 'ebony': 3762, 'sunrise': 3763, 'wisst': 3764, 'moechten': 3765, 'gefeie': 3766, 'genehmigt': 3767, 'logo': 3768, 'beratung': 3769, 'bestand': 3770, 'stammt': 3771, 'refomie': 3772, 'extrem': 3773, 'kulturellen': 3774, 'aeussern': 3775, 'mein': 3776, 'ausnahmen': 3777, 'fett': 3778, 'geraucht': 3779, 'konferenz': 3780, 'formulieren': 3781, 'fand': 3782, 'manipulation': 3783, 'furchtbare': 3784, 'kar98': 3785, 'dfw': 3786, 'raege': 3787, 'religioes': 3788, 'fbluecher': 3789, 'verfluchte': 3790, 'schillhaneck': 3791, 'blut': 3792, 'aeltere': 3793, 'japan': 3794, 'langer': 3795, 'nationalhymne': 3796, 'mexiko': 3797, 'widerliche': 3798, 'skandal': 3799, 'refugee': 3800, 'rohollah': 3801, 'taetig': 3802, 'verkennen': 3803, 'inneren': 3804, 'traumdiebe': 3805, 'beziehungen': 3806, 'harald70199': 3807, 'gedanke': 3808, 'woechentlich': 3809, 'parallelgesellschaften': 3810, 'magazin': 3811, 'wahlsystem': 3812, 'trage': 3813, 'tradition': 3814, 'notfalls': 3815, 'traeger': 3816, 'libelle2000r': 3817, 'mathias': 3818, 'klappt': 3819, 'betrachte': 3820, 'joausdo': 3821, 'nationalsozialismus': 3822, 'umve': 3823, 'antideutsche': 3824, 'eikonferenz': 3825, 'neumuenster': 3826, 'staats': 3827, 'eidiger': 3828, 'silvesternacht': 3829, 'merkwuerdig': 3830, 'langjaehriges': 3831, 'shuttleservice': 3832, 'mehrheitlich': 3833, 'immerhin': 3834, 'epanastatis04': 3835, 'terrorismus': 3836, 'ypsilon': 3837, 'buehne': 3838, 'einfachafdwaehlen': 3839, 'bekomme': 3840, 'keller': 3841, 'dueker': 3842, 'kacktus2010': 3843, 'vorsicht': 3844, 'definie': 3845, 'schiffe': 3846, 'belohnen': 3847, 'kommtmituns': 3848, 'einfluss': 3849, 'kenntnisse': 3850, 'veroeffentlichen': 3851, 'thomaslauer10': 3852, 'bayrische': 3853, 'nichtkonformist': 3854, 'blind': 3855, 'washington': 3856, 'fetter': 3857, 'sau': 3858, 'jude': 3859, 'webde': 3860, 'bloedes': 3861, '28': 3862, 'listen': 3863, 'vorbereitung': 3864, 'duerfte': 3865, 'dickes': 3866, 'bundesweit': 3867, 'bitter': 3868, 'nerschaft': 3869, 'gauinator': 3870, 'megatwingo': 3871, 'glatt': 3872, 'nerven': 3873, 'verzweiflung': 3874, 'snoopy92': 3875, 'kapitel': 3876, 'alfredoihl': 3877, 'interpretation': 3878, 'raub': 3879, 'drueber': 3880, 'birnen': 3881, 'verbrechern': 3882, 'massnahmen': 3883, 'aufzwingen': 3884, 'mussten': 3885, 'islamkritiker': 3886, 'kenntnis': 3887, 'vernuenftige': 3888, 'verbrennen': 3889, 'bescheid': 3890, 'foerdern': 3891, '150': 3892, 'haefen': 3893, 'rekord': 3894, 'glasenapphenrik': 3895, 'laien': 3896, 'nachbarschaft': 3897, 'kohle': 3898, 'verschleie': 3899, 'freiem': 3900, 'formulie': 3901, 'empoerung': 3902, 'schliesslich': 3903, 'freies': 3904, 'studiere': 3905, 'quelle': 3906, 'vs': 3907, '40er': 3908, 'privileg': 3909, '2000': 3910, 'friedlich': 3911, 'werdenden': 3912, 'genderwahn': 3913, 'keoma58': 3914, 'hungrig': 3915, 'jankalkbrenner': 3916, 'gottseidank': 3917, 'atatuerk': 3918, 'stich': 3919, 'zuhause': 3920, 'mica4711': 3921, 'raz': 3922, 'waehle': 3923, 'naiven': 3924, 'jost2018': 3925, 'reiner': 3926, 'knall': 3927, 'minderjaehrige': 3928, 'wusste': 3929, 'vollspacken': 3930, 'negatives': 3931, 'hebraeischen': 3932, 'massstab': 3933, 'fenster': 3934, 'gestalten': 3935, 'politikstube': 3936, 'neuhinzugekommenen': 3937, 'vong': 3938, 'gift': 3939, 'unkraut': 3940, 'dm': 3941, 'see': 3942, 'inez': 3943, 'aust': 3944, 'imriziv': 3945, 'bigreiner': 3946, 'ursula': 3947, 'andreaschlegel3': 3948, 'moeglichst': 3949, 'made': 3950, 'mdraktuell': 3951, 'verpasst': 3952, 'machst': 3953, 'erzogen': 3954, 'impulse': 3955, 'gespraeche': 3956, 'gebt': 3957, 'rueckreise': 3958, 'lach': 3959, 'loest': 3960, 'chef': 3961, 'moderatoren': 3962, 'gauweiler': 3963, 'anal': 3964, 'russ': 3965, 'sepiroth1986': 3966, 'arbeitslager': 3967, 'schwierigkeiten': 3968, 'weitaus': 3969, 'uni': 3970, 'antidemokraten': 3971, 'patriot': 3972, 'preise': 3973, 'paedophile': 3974, 'empoe': 3975, 'kriecht': 3976, 'provokation': 3977, 'linie': 3978, 'wehe': 3979, 'landet': 3980, 'antarotv': 3981, 'genehmigung': 3982, 'allgemeinbildung': 3983, 'neonazi': 3984, 'morgens': 3985, 'brut': 3986, 'gelassen': 3987, 'steiblbarbara': 3988, 'umdrehen': 3989, 'demnaechst': 3990, 'verfuegung': 3991, 'hovelshorst': 3992, 'selten': 3993, 'zustand': 3994, 'schutzstatus': 3995, 'untergetaucht': 3996, 'heinzegly': 3997, 'wolle': 3998, 'bewegung': 3999, 'mueller': 4000, '99': 4001, 'normale': 4002, 'kraehe': 4003, 'termin': 4004, 'ice': 4005, 'gemeiner': 4006, 'fehlanzeige': 4007, 'schweinejournalisten': 4008, 'gewaehlte': 4009, 'grenzenlos': 4010, 'ehemalige': 4011, '55': 4012, 'schwanz': 4013, 'extremismus': 4014, 'pfr': 4015, 'angewiesen': 4016, 'bundestagswahl': 4017, 'ba': 4018, 'melli': 4019, 'wandern': 4020, 'marokko': 4021, 'einzusetzen': 4022, 'angegriffen': 4023, 'absolute': 4024, 'eintrag': 4025, 'definition': 4026, 'kroete': 4027, 'manuelaschwesig': 4028, 'kollektiv': 4029, 'nahezu': 4030, 'guelle': 4031, 'fragte': 4032, 'geniessen': 4033, 'kauf': 4034, 'gewinnerin': 4035, 'plus': 4036, 'bento': 4037, 'wurst': 4038, 'vereidigung': 4039, 'durchzusetzen': 4040, 'durchsetzen': 4041, 'behandelt': 4042, 'fleisch': 4043, 'wirft': 4044, 'diktaturen': 4045, 'schlaf': 4046, 'verarscht': 4047, 'mandat': 4048, 'ehem': 4049, 'eigentliche': 4050, 'aufregung': 4051, 'age': 4052, 'stroemen': 4053, 'hmm': 4054, 'summe': 4055, 'evangelisch': 4056, 'masse': 4057, 'neger': 4058, 'terrorist': 4059, 'zerstoerung': 4060, 'nachts': 4061, 'unterwegs': 4062, 'besserung': 4063, 'pube': 4064, 'ierende': 4065, 'hatespeech': 4066, 'tantegerd1': 4067, '1963': 4068, 'irsn': 4069, 'glaubens': 4070, 'identitaere': 4071, 'verkauf': 4072, 'angeblichen': 4073, 'enttaeuschen': 4074, 'ngos': 4075, 'errichten': 4076, 'teilnehmer': 4077, 'nette': 4078, 'herren': 4079, 'jung': 4080, 'wenigsten': 4081, 'verzweifelt': 4082, 'sucht': 4083, 'fruehling': 4084, 'ueberlebt': 4085, 'kuerze': 4086, 'jissacharoff': 4087, 'bingowist': 4088, 'christliche': 4089, 'hirne': 4090, 'gegensatz': 4091, 'atadic13': 4092, 'bremen': 4093, 'patrioten': 4094, 'fass': 4095, 'naechster': 4096, 'heike891': 4097, 'verspricht': 4098, 'spannenden': 4099, 'sbunners': 4100, 'bln': 4101, 'situationen': 4102, 'bekenntnisses': 4103, 'moderne': 4104, 'ralfpflug': 4105, 'intensive': 4106, 'beraten': 4107, 'geraet': 4108, 'salzmanufaktur': 4109, 'geschossen': 4110, 'uli': 4111, 'aufgefallen': 4112, 'volle': 4113, 'gruessen': 4114, 'glaubst': 4115, 'gefasst': 4116, 'terrors': 4117, 'mama': 4118, 'birgit': 4119, 'kelle': 4120, 'erleben': 4121, '07': 4122, 'verharmlost': 4123, 'national': 4124, 'bedeutung': 4125, 'gesta': 4126, 'entsteht': 4127, 'operation': 4128, 'messe': 4129, 'entwirklichung': 4130, 'gernot': 4131, 'tagesthemen': 4132, 'ii': 4133, 'voelkermord': 4134, 'unterzeichnet': 4135, 'komme': 4136, 'griechenland': 4137, 'minuten': 4138, 'goes': 4139, 'tollen': 4140, 'image': 4141, 'erfahren': 4142, 'mauermoerder': 4143, 'volksfahrraeder': 4144, 'jensspahn': 4145, 'obdachlose': 4146, 'konzept': 4147, 'bahnhof': 4148, 'scholz': 4149, 'meine': 4150, 'cia': 4151, 'vermissen': 4152, 'welcome': 4153, 'erfolge': 4154, 'passau': 4155, 'blumen': 4156, 'schlicht': 4157, 'geisteskrank': 4158, 'zusaetzliche': 4159, 'komossa': 4160, 'aktivitaeten': 4161, 'rutsch': 4162, 'petryficker': 4163, 'strauss': 4164, 'nd': 4165, 'afghanen': 4166, 'buergern': 4167, 'vzsaar': 4168, 'nachfrage': 4169, 'billige': 4170, 'politisches': 4171, 'angebliche': 4172, 'jammern': 4173, 'auffallend': 4174, 'hinzufuegen': 4175, 'angelegenheiten': 4176, 'drbrandner': 4177, 'trauern': 4178, 'kerze': 4179, 'dezember': 4180, 'kollegen': 4181, 'hochkonjunktur': 4182, 'begibt': 4183, 'darin': 4184, 'kiste': 4185, 'gipfel': 4186, 'erlebt': 4187, 'diese': 4188, 'xx7nitro1xx': 4189, 'regen': 4190, 'untergehen': 4191, 'amtsuebergabe': 4192, 'bullshit': 4193, 'lenken': 4194, 'ueberheblich': 4195, 'zwingend': 4196, 'esel': 4197, 'akzeptabel': 4198, 'brauchte': 4199, 'ziele': 4200, 'aufschrei': 4201, 'wmuhsal': 4202, 'duemmste': 4203, 'wissenschaftler': 4204, 'thueringen': 4205, 'vorsitzende': 4206, 'hoeher': 4207, 'vorgestellt': 4208, 'wurmreiter': 4209, 'steh': 4210, 'lovingawarenes': 4211, 'angriff': 4212, 'angenommen': 4213, 'such': 4214, 'abos': 4215, 'seien': 4216, 'katze': 4217, 'priester': 4218, 'kerl': 4219, 'mdr': 4220, 'corinnamilborn': 4221, 'missverstaendlich': 4222, 'sachleistungen': 4223, 'schoensten': 4224, 'versenkung': 4225, 'dirki': 4226, 'geschuetzte': 4227, 'vergleich': 4228, 'bemueht': 4229, 'unklar': 4230, 'halbwahrheiten': 4231, 'billigen': 4232, 'aufhoe': 4233, 'verzichte': 4234, 'veraenderungen': 4235, 'pflege': 4236, 'schlussfolgerungen': 4237, 'schamlos': 4238, 'dietmarba': 4239, 'morgige': 4240, 'mogelpackung': 4241, 'festgehalten': 4242, 'transparent': 4243, 'grabe': 4244, 'getragen': 4245, 'beliebigkeit': 4246, 'schwaetzer': 4247, 'fremd': 4248, 'gedenkt': 4249, 'steigt': 4250, 'kohleausstieg': 4251, 'atomenergie': 4252, 'lgjohnsilver': 4253, 'deppen': 4254, 'poschuetzge': 4255, 'schuldgefuehlen': 4256, 'carolin94815291': 4257, 'monikabergholz2': 4258, 'nunmal': 4259, 'ueberbezahlten': 4260, 'ueben': 4261, 'maennern': 4262, 'suren': 4263, 'wider': 4264, 'sicheres': 4265, 'waschlappen': 4266, 'polnischen': 4267, 'strafrechtlich': 4268, 'dokumentie': 4269, 'verlogenes': 4270, 'miststueck': 4271, 'angreift': 4272, 'polizist': 4273, 'austreten': 4274, 'politischer': 4275, 'erschien': 4276, 'community': 4277, 'klarer': 4278, 'gruenes': 4279, 'heimischen': 4280, 'weltklasse': 4281, 'fuelle': 4282, 'nummer': 4283, 'katholik': 4284, 'felsenfest': 4285, 'verbot': 4286, 'deanerschnitzel': 4287, 'boycottlove': 4288, 'verdeutlicht': 4289, 'verfolgten': 4290, 'krieges': 4291, 'verbinden': 4292, 'pip': 4293, 'week': 4294, 'planung': 4295, 'reiben': 4296, 'israelipm': 4297, 'niedergang': 4298, 'vierling': 4299, 'imber': 4300, 'musgatnus': 4301, 'naegl': 4302, 'sendet': 4303, 'dauerquerulant': 4304, 'maeuse': 4305, 'beanspruchen': 4306, 'ungerechtigkeit': 4307, 'weihnachtsmann': 4308, 'freiwillige': 4309, 'erscheinung': 4310, 'ns': 4311, 'raute': 4312, 'totalitaeren': 4313, 'vollstaendig': 4314, 'streit': 4315, 'lel': 4316, 'klicken': 4317, 'laecherliste': 4318, 'mutschrewe': 4319, 'staette': 4320, 'zustaendigkeit': 4321, 'korrupt': 4322, 'korrupten': 4323, 'saetze': 4324, 'whatsapp': 4325, 'ersetzt': 4326, 'wildeastberlin': 4327, 'europ': 4328, 'wille': 4329, 'website': 4330, 'juhu': 4331, 'hymne': 4332, 'grossstaedten': 4333, '36': 4334, '38': 4335, 'obliegt': 4336, 'awkwardpixels': 4337, 'ultra': 4338, 'operationen': 4339, 'stromkosten': 4340, 'rnv': 4341, 'haettet': 4342, '2x': 4343, 'aufgestellt': 4344, 'verlogen': 4345, 'armlaenge': 4346, 'kreis': 4347, 'barbaren': 4348, 'gewichst': 4349, '41': 4350, 'jh': 4351, 'burghard': 4352, 'aelter': 4353, 'hindukusch': 4354, 'zitat': 4355, 'tiefer': 4356, 'weite': 4357, 'ranspo': 4358, 'entmachtet': 4359, 'desaster': 4360, 'hatte': 4361, 'reiches': 4362, 'angekommen': 4363, 'beschwerde': 4364, 'lorbass1962': 4365, 'snowcrash729': 4366, 'davidermes': 4367, 'lorenzmaroldt': 4368, 'vorhaben': 4369, 'entschuldigt': 4370, 'westhim': 4371, 'alternativen': 4372, 'graebt': 4373, 'oberflaeche': 4374, 'oeffentl': 4375, 'katholiken': 4376, 'holger': 4377, 'diktatoren': 4378, 'allesamt': 4379, 'liessen': 4380, 'ausgruenden': 4381, 'durchgesetzt': 4382, 'lauch': 4383, 'joschka': 4384, 'vorgemacht': 4385, 'provozie': 4386, 'julia': 4387, 'kalte': 4388, 'loetstellen': 4389, 'begriffe': 4390, 'konfrontie': 4391, 'horden': 4392, 'dat': 4393, 'inhaltlich': 4394, 'jeher': 4395, 'sun': 4396, 'rain': 4397, 'thunderrainman': 4398, 'arian': 4399, 'elquaida': 4400, 'hauses': 4401, 'wuensch': 4402, 'indiesoph': 4403, 'seb': 4404, 'positive': 4405, 'auswirkungen': 4406, 'unglaubwuerdig': 4407, 'machts': 4408, 'ga': 4409, 'daraufhin': 4410, 'heim': 4411, 'schauspieler': 4412, 'xyeinzelfall': 4413, 'objektiver': 4414, 'sieh': 4415, 'tatsaechlichen': 4416, 'redakteure': 4417, 'reichlich': 4418, 'landen': 4419, 'blaue': 4420, 'gabyulm': 4421, 'gaby': 4422, 'jobs': 4423, 'rd': 4424, 'oftmals': 4425, 'familienmitglied': 4426, 'flieht': 4427, 'ablehnen': 4428, 'irgend': 4429, 'erich': 4430, 'absurd': 4431, 'jahresempfang': 4432, 'rsh': 4433, 'polizeihamburg': 4434, 'jellybean4711': 4435, 'levante': 4436, 'palaestina': 4437, 'irgendwelche': 4438, 'medizinischen': 4439, 'aerzten': 4440, 'erledigt': 4441, 'erdreich': 4442, 'untersuchen': 4443, 'ungebildete': 4444, 'derspiegel': 4445, 'ausgeschlossen': 4446, 'klatscher': 4447, 'asylinnot': 4448, 'mutigen': 4449, 'unerwuenscht': 4450, 'versammlung': 4451, 'wurdest': 4452, 'inbott75334': 4453, 'nachdenke': 4454, 'lobbyisten': 4455, 'marionette': 4456, 'zugelegt': 4457, 'servicetweet': 4458, 'schoepfung': 4459, 'vatikan': 4460, 'menschheitsgeschichte': 4461, 'christophgiesa': 4462, 'mollemopp': 4463, 'misstrauen': 4464, 'herausforderungen': 4465, 'alias': 4466, 'masturbierende': 4467, 'transpersonen': 4468, 'lob': 4469, 'tatsaechliche': 4470, 'unternommen': 4471, 'kalergi': 4472, 'zionistische': 4473, 'entsetzen': 4474, 'terpentinsusi': 4475, 'verfasst': 4476, 'zig': 4477, 'marode': 4478, 'geraumer': 4479, 'out': 4480, 'gesund': 4481, 'fehle': 4482, 'andersdenkende': 4483, 'unbelehrbar': 4484, 'desto': 4485, 'grauens': 4486, 'malen': 4487, 'forderung': 4488, 'malu': 4489, 'dreyer': 4490, 'reisspat': 4491, 'dafancytrancy': 4492, 'willacker': 4493, 'marga': 4494, 'owski': 4495, 'angaben': 4496, 'zugestimmt': 4497, 'personalausweis': 4498, 'geschlechtsangabe': 4499, 'bergholzmonika': 4500, 'verpassen': 4501, 'horsti': 4502, 'kanzlerette': 4503, 'europaeern': 4504, 'schaun': 4505, 'erfuellung': 4506, 'saarland': 4507, 'saar': 4508, 'seine': 4509, 'aufwand': 4510, 'betrieben': 4511, 'unterschreiben': 4512, 'konvention': 4513, 'private': 4514, 'ausnahmezustand': 4515, 'wiederdaichbin': 4516, 'bazonline': 4517, 'strafantrag': 4518, 'klage': 4519, 'schaetze': 4520, 'baum': 4521, 'politbarometer': 4522, 'wichtigsten': 4523, 'spdbpt17': 4524, 'wundere': 4525, 'hinterlassen': 4526, 'am': 4527, 'treiben': 4528, 'ruhrpott': 4529, 'moebbeck': 4530, 'bluehenden': 4531, 'ernstes': 4532, 'schwachsinnige': 4533, 'gleichsam': 4534, 'ordentlich': 4535, 'einnehmen': 4536, 'bamf': 4537, 'laecherliche': 4538, 'conchita': 4539, 'jahrzehnte': 4540, 'gefoerde': 4541, 'personifizie': 4542, 'innovative': 4543, 'ramazanakbas37': 4544, 'verlaub': 4545, 'oel': 4546, 'ukrainischen': 4547, 'poroschenko': 4548, 'betruegt': 4549, 'schlepper': 4550, 'orban': 4551, 'crabonace': 4552, 'doerfern': 4553, 'fangt': 4554, 'gestellten': 4555, 'streiten': 4556, 'bschmeitzner': 4557, 'evgenyfeldman': 4558, 'unserioesen': 4559, 'rinn': 4560, 'britten': 4561, 'rad': 4562, 'wicht': 4563, 'angesehen': 4564, 'unterwande': 4565, 'abendland': 4566, 'aufzuzeigen': 4567, 'erspa': 4568, 'hyperpigmentie': 4569, 'austausch': 4570, '2010': 4571, 'grundrecht': 4572, 'unterwerfen': 4573, 'tschechien': 4574, '58': 4575, '42': 4576, '39': 4577, 'mila': 4578, '32': 4579, 'wehner': 4580, 'gerecht': 4581, 'verletzen': 4582, 'oeffnet': 4583, 'buettner': 4584, 'plakat': 4585, 'bienen': 4586, 'darkegg4ever': 4587, '67muellerpeter': 4588, 'empfang': 4589, 'einstieg': 4590, 'aufnahme': 4591, 'josie4you': 4592, 'verstaerkung': 4593, 'trennen': 4594, 'fluechtlingskrise': 4595, 'solidarisch': 4596, 'sultan': 4597, 'option': 4598, 'koszalin': 4599, 'kurze': 4600, 'herein': 4601, 'oschorsche': 4602, 'ernstvall': 4603, 'ungewaschenen': 4604, 'backe': 4605, 'offline': 4606, 'witzfigur': 4607, 'eigenschaften': 4608, 'ideologien': 4609, 'rumlaufen': 4610, 'teuer': 4611, 'hingerichtet': 4612, 'genervt': 4613, 'jamaikaabbruch': 4614, 'aggressiv': 4615, '2009': 4616, 'polnische': 4617, 'durchs': 4618, 'still': 4619, 'maronen': 4620, 'bosbach': 4621, 'faecher': 4622, 'betrogen': 4623, 'richtlinien': 4624, 'ungenie': 4625, 'wagner3': 4626, 'nett': 4627, 'buergerliche': 4628, 'ronzheimer': 4629, 'taktik': 4630, 'lachhaft': 4631, 'pferdestall': 4632, 'connybub': 4633, 'suess': 4634, 'bellen': 4635, 'erwaegung': 4636, 'volksverraeter': 4637, 'terfiostorm': 4638, 'pete': 4639, 'auber': 4640, 'zusammenbringt': 4641, 'termine': 4642, 'aufnehmen': 4643, 'erwaegen': 4644, 'ausgebeuteten': 4645, 'identifizieren': 4646, 'vorwurf': 4647, 'privatclaudia': 4648, 'faelle': 4649, 'jaja': 4650, 'grenz': 4651, 'steuerzahlers': 4652, 'schoeffen': 4653, 'landshut': 4654, 'landshuterhochzeit': 4655, 'wuesste': 4656, 'starken': 4657, 'empfinde': 4658, 'dreckiges': 4659, 'zusammenhalt': 4660, 'bestellen': 4661, 'sippenhaftung': 4662, 'kannte': 4663, 'grueble': 4664, 'leidet': 4665, 'krischer': 4666, 'brihasselmann': 4667, 'luft': 4668, 'botschafter': 4669, 'otto': 4670, 'sitz': 4671, 'einzug': 4672, 'denkmal': 4673, 'bds': 4674, 'paritaet': 4675, 'europapolitik': 4676, 'einwanderungsgesetz': 4677, 'schaftet': 4678, '280': 4679, 'ausreichen': 4680, 'phantasie': 4681, 'redner': 4682, 'brandlegung': 4683, 'repetiergewehr': 4684, 'geistesgestoe': 4685, 'pruegeln': 4686, 'geschlossenen': 4687, 'renner': 4688, 'unwesen': 4689, 'kooperation': 4690, 'israelingermany': 4691, 'mission': 4692, 'heiland': 4693, 'derhalben': 4694, 'jauchzt': 4695, 'freuden': 4696, 'geschwiegen': 4697, 'kompakt': 4698, 'sachverstand': 4699, 'spohnmichael': 4700, 'ddbnews': 4701, 'profi': 4702, 'schwierigen': 4703, 'lernt': 4704, 'reihe': 4705, 'xxxopexobxxx': 4706, 'dieb': 4707, 'haltet': 4708, 'belaestigt': 4709, 'aufrichtig': 4710, 'erlitten': 4711, 'auslaendischen': 4712, 'werben': 4713, 'weiterer': 4714, 'schuldienst': 4715, 'berufsluegner': 4716, 'bm': 4717, 'entwickelt': 4718, 'mischt': 4719, 'derlinkeleftie': 4720, 'ey': 4721, 'eigenschaft': 4722, 'wasn': 4723, 'washingtonplatz': 4724, 'halbwegs': 4725, 'auffaelligen': 4726, 'faschistoiden': 4727, 'zahlreichen': 4728, 'becker': 4729, 'ismail': 4730, 'kupeli': 4731, 'chancen': 4732, 'kinderpornos': 4733, 'parolen': 4734, 'bereuen': 4735, '29': 4736, 'waehlerschaft': 4737, 'pampers': 4738, 'produkte': 4739, 'verbraucher': 4740, 'konzerne': 4741, 'diesen': 4742, 'leidwesen': 4743, 'neumann': 4744, 'emilydische': 4745, 'keineswegs': 4746, 'wahlkampfauftakt': 4747, 'ermittelt': 4748, 'bruesseler': 4749, '100tsd': 4750, 'zuscheissen': 4751, 'nest': 4752, 'finale': 4753, 'vernichten': 4754, 'sitzenbleiber': 4755, '213': 4756, 'tausend': 4757, 'aktivitaet': 4758, 'gerechtfe': 4759, 'begann': 4760, 'ausreisser': 4761, 'magdeburg': 4762, 'leugner': 4763, 'relativieren': 4764, 'abzulehnen': 4765, 'genutzt': 4766, 'ronaldlaessig': 4767, 'weile': 4768, 'versichern': 4769, 'ethische': 4770, 'kriterien': 4771, 'gesiche': 4772, 'klingelt': 4773, 'tour': 4774, 'rostein45': 4775, 'unterstehen': 4776, 'halbzeitpfiffi': 4777, 'chicsancho': 4778, 'kurzem': 4779, 'unabhaengigkeit': 4780, 'eingetroffen': 4781, 'frohe': 4782, 'teilnehmern': 4783, 'skeptisch': 4784, 'endergebnis': 4785, 'robin': 4786, 'kompliment': 4787, 'staedte': 4788, 'voruebergehend': 4789, 'nachholen': 4790, 'anjareschke1': 4791, 'reschke': 4792, 'objektivitaet': 4793, 'me': 4794, 'produzieren': 4795, 'munich': 4796, 'strafrecht': 4797, 'pressefreiheit': 4798, 'bananenrepublik': 4799, 'sebbi': 4800, 'zusammenhang': 4801, 'tobiashuch': 4802, 'kehren': 4803, 'babsi58089': 4804, 'zeitverschwendung': 4805, 'abschuss': 4806, 'axel': 4807, 'rienhoff': 4808, 'ehre': 4809, 'requiem': 4810, 'odilo': 4811, 'lechner': 4812, 'liebfrauendom': 4813, 'kranken': 4814, 'huerde': 4815, 'wiederholt': 4816, 'koriander': 4817, 'arbeitgeber': 4818, 'organisieren': 4819, 'retter': 4820, 'behauptung': 4821, 'gebliebener': 4822, 'mitgliederversammlung': 4823, 'europride': 4824, 'klugscheissern': 4825, 'globale': 4826, 'stoppen': 4827, 'hoer': 4828, 'spinnen': 4829, 'alessandro': 4830, 'meluzzi': 4831, 'psychater': 4832, 'kriminalist': 4833, 'mirco': 4834, 'jonny': 4835, 'baby': 4836, 'pan': 4837, 'schweigt': 4838, 'laufe': 4839, 'hinterher': 4840, 'thestormishere': 4841, 'bmf': 4842, 'oberen': 4843, '81': 4844, 'kopp': 4845, 'weltkrieg': 4846, 'zuge': 4847, 'loechern': 4848, 'regelrecht': 4849, 'gegenwehr': 4850, 'schnur': 4851, 'ueberlegen': 4852, 'warnen': 4853, 'jo': 4854, 'wovon': 4855, 'gedankengut': 4856, 'facharbeiter': 4857, 'diener': 4858, 'korrumpie': 4859, 'arbeitslagern': 4860, 'fair': 4861, 'kooperieren': 4862, 'lageso': 4863, 'sigi': 4864, 'gepostet': 4865, 'zwingt': 4866, 'schulischen': 4867, 'handschriften': 4868, 'drumrum': 4869, 'packen': 4870, 'vaterlandsverraeter': 4871, 'sahne': 4872, 'veraltet': 4873, 'einsteht': 4874, 'rechtsstaats': 4875, 'gezielt': 4876, 'fotografieren': 4877, 'beantragt': 4878, 'trigge': 4879, 'explizit': 4880, 'verwir': 4881, 'lumpen': 4882, 'westhexe': 4883, 'schlechtes': 4884, 'beabsichtigt': 4885, 'demontieren': 4886, 'erziehen': 4887, 'vollbracht': 4888, 'utawie': 4889, 'schlechtreden': 4890, 'interviews': 4891, 'gastredner': 4892, 'westerwald': 4893, 'ruete': 4894, 'commission': 4895, 'zurueckkehren': 4896, 'heinmax50': 4897, 'naziverhalten': 4898, 'rederecht': 4899, 'scheisshausparolen': 4900, 'schweigendemehrheit': 4901, 'zollen': 4902, 'nerin': 4903, 'knopf': 4904, 'lederhose': 4905, 'industriellen': 4906, 'erschreckend': 4907, 'haverbeck': 4908, 'prinzwilli89': 4909, 'schwierig': 4910, 'inter': 4911, 'etliche': 4912, 'danilotepsa': 4913, 'leonreas': 4914, 'fettsack': 4915, 'diskussionen': 4916, 'unabhaengige': 4917, 'deutschlandhasser': 4918, 'kehrwoche': 4919, 'kipping': 4920, 'noherrmann': 4921, 'breitba': 4922, 'wgs': 4923, 'fluechtlingewillkommen': 4924, 'zitronenfalter': 4925, 'zitronen': 4926, 'falten': 4927, 'achmett': 4928, 'abdul': 4929, 'aya': 4930, 'muetter': 4931, 'brechen': 4932, 'alleinerziehende': 4933, 'zuschauer': 4934, 'unverschaemtheit': 4935, 'unwissenden': 4936, 'klimakatastrophe': 4937, 'dazn': 4938, 'rainbowflash': 4939, 'jc': 4940, '35': 4941, 'schnellstens': 4942, 'verschwindet': 4943, 'doofe': 4944, 'aids': 4945, 'losgelassen': 4946, 'strukturen': 4947, 'linksradikale': 4948, 'kauder': 4949, 'bepissen': 4950, 'heer': 4951, 'stuerzen': 4952, 'hochtouren': 4953, 'endgueltig': 4954, 'miro': 4955, 'aenderung': 4956, 'vielmehr': 4957, 'einziger': 4958, 'weis': 4959, 'verb': 4960, 'realdennislenz': 4961, 'political': 4962, 'correctness': 4963, 'testament': 4964, 'fuessen': 4965, 'susanbrenning': 4966, 'latz': 4967, 'wide': 4968, 'antisemit': 4969, 'org': 4970, 'shiwamustafa': 4971, 'felisefeutraum': 4972, 'verschweigen': 4973, 'verfuegen': 4974, 'traeumen': 4975, 'geheimdienste': 4976, 'fan': 4977, 'bedrohung': 4978, 'international': 4979, 'ball': 4980, 'millionaere': 4981, 'grafwer': 4982, 'posaunen': 4983, 'schaftsgebiets': 4984, 'selbsternannte': 4985, 'sklaven': 4986, 'rostock': 4987, 'bedienen': 4988, 'oeffnen': 4989, 'good': 4990, 'beende': 4991, 'geisteskranke': 4992, 'einsetzen': 4993, 'uebersetzen': 4994, 'strich': 4995, 'ansatz': 4996, 'o2': 4997, 'bvb': 4998, 'aufzunehmen': 4999, 'ausrastet': 5000, 'saboteure': 5001, 'storch': 5002, 'ausdenken': 5003, 'pressepo': 5004, 'knueppel': 5005, 'madfwagner': 5006, 'rational': 5007, 'zeitlich': 5008, 'benimmt': 5009, 'vegan': 5010, 'kroatien': 5011, 'slowenien': 5012, 'faehiger': 5013, 'beu': 5014, 'spontan': 5015, 'locken': 5016, 'entwickeln': 5017, 'rheinmetall': 5018, 'oeffentliches': 5019, 'jebsen': 5020, 'meister': 5021, 'fikentscher': 5022, 'supersitges2': 5023, 'sarastra': 5024, 'demaiziere': 5025, 'anreize': 5026, 'subsidiaeren': 5027, 'achimw': 5028, 'geb': 5029, 'bundespraesidenten': 5030, 'miteinander': 5031, '04': 5032, 'alexm7117': 5033, 'keeprespect79': 5034, 'versorgt': 5035, 'dienen': 5036, 'extra': 5037, 'handwerk': 5038, 'beleidigung': 5039, 'aufgehoe': 5040, 'katar': 5041, 'befreit': 5042, 'leistungen': 5043, 'getraeumt': 5044, 'watschen': 5045, 'faust': 5046, 'gefluechtete': 5047, 'transgender': 5048, 'aufgezeichnet': 5049, 'ausstellung': 5050, 'nationaler': 5051, 'begruenden': 5052, 'weist': 5053, 'konten': 5054, 'einzigsten': 5055, 'wahlversprechen': 5056, 'kriechen': 5057, 'jede': 5058, 'shit': 5059, 'db': 5060, 'wahabiten': 5061, 'religionen': 5062, 'fahrverbot': 5063, 'spreu': 5064, 'weizen': 5065, 'nawalnij': 5066, 'nyt': 5067, 'pxg96fcb': 5068, 'kleinstaat': 5069, 'information': 5070, 'morde': 5071, 'lasvegas': 5072, 'instrument': 5073, 'vorsaetzlich': 5074, 'geistlicher': 5075, 'ehrenamt': 5076, 'vermisst': 5077, 'rutschen': 5078, 'hereingefallen': 5079, 'anno': 5080, '1307': 5081, 'theborisbecker': 5082, 'insgesamt': 5083, 'bobbele': 5084, 'salonfaehig': 5085, 'geschichtliche': 5086, 'judentum': 5087, 'hintergruende': 5088, 'turkkick': 5089, 'ausgetragen': 5090, 'currywurst': 5091, 'breaking': 5092, 'geschwister': 5093, 'bzberlin': 5094, 'regional': 5095, 'garnix': 5096, 'waehlern': 5097, 'oesterreichischen': 5098, 'bord': 5099, 'umgehen': 5100, 'ungebildet': 5101, 'personalien': 5102, '3sat': 5103, 'gysi': 5104, 'wendehaelse': 5105, 'werk': 5106, 'ansage': 5107, 'seehofers': 5108, 'vorbilder': 5109, 'kommentaren': 5110, 'doof': 5111, 'ziege': 5112, 'dietersteffmann': 5113, 'juedischeonline': 5114, 'unterstuetzte': 5115, 'gr': 5116, 'betroffene': 5117, 'instanzen': 5118, 'trauriges': 5119, 'vorherigen': 5120, 'momentan': 5121, 'rufe': 5122, 'praevention': 5123, 'bedacht': 5124, 'gerichts': 5125, 'vorfaelle': 5126, 'legale': 5127, 'abschiebungenstoppen': 5128, 'belege': 5129, 'raegt': 5130, 'mutte': 5131, 'anonymous': 5132, 'brittadn': 5133, 'iron': 5134, 'front': 5135, 'hohn': 5136, 'wache': 5137, 'gefaengnisse': 5138, 'widerliches': 5139, 'hinck': 5140, 'melde': 5141, 'afdtrischi': 5142, 'vonerlenbach': 5143, 'estoylimpia': 5144, 'moni4950': 5145, 'poln': 5146, 'gluecklich': 5147, 'wagner': 5148, 'poste': 5149, 'aufgrund': 5150, 'genehmigen': 5151, 'ausleben': 5152, 'probieren': 5153, 'boykottie': 5154, 'daspunkt': 5155, 'konservativ': 5156, 'mariamlau1': 5157, 'inklin': 5158, 'hinkt': 5159, 'entdeckt': 5160, 'kanonen': 5161, 'krawatte': 5162, 'bjoernstritzel': 5163, 'eingliede': 5164, 'nimmst': 5165, 'gazastreifen': 5166, 'ueberschwemmt': 5167, 'enden': 5168, 'tagderdeutscheneinheit': 5169, 'menuhin': 5170, 'treue': 5171, '800jahre': 5172, 'watschn': 5173, 'gestimmt': 5174, 'vizekanzler': 5175, 'anzahl': 5176, 'einnahmen': 5177, 'lebens': 5178, 'gebildet': 5179, 'kindernothilfe': 5180, 'efaelle': 5181, 'wiederholen': 5182, 'moslemterror': 5183, 'maasmaenneken': 5184, 'geschlechtseintrag': 5185, 'vormittag': 5186, 'invasion': 5187, 'beeinflussen': 5188, 'brechende': 5189, 'gelb': 5190, 'drdrdietz': 5191, 'enkontrolle': 5192, 'ausreichend': 5193, 'versifft': 5194, 'unaufhoerlich': 5195, 'langweilt': 5196, 'guck': 5197, 'fuehrungsanspruch': 5198, 'loechrig': 5199, 'sozialhilfe': 5200, 'geschaut': 5201, 'teilnehmen': 5202, 'begrenzt': 5203, 'undifferenzie': 5204, 'diversity': 5205, 'newyork': 5206, 'januar': 5207, 'beeindrucken': 5208, 'ueberlaufen': 5209, 'phones': 5210, 'erzeugt': 5211, 'frettchen': 5212, 'grenzkontrollen': 5213, 'senderwahl': 5214, 'nominie': 5215, 'halile': 5216, 'em67': 5217, 'hasskriminalitaet': 5218, 'redefreiheit': 5219, 'titulie': 5220, 'feinsten': 5221, 'wahlbeteiligung': 5222, 'kommunistin': 5223, 'tolerie': 5224, 'weiten': 5225, 'einzelfall': 5226, 'fuehrer': 5227, 'veruebt': 5228, 'melbourne': 5229, 'punkten': 5230, 'end': 5231, 'raeumen': 5232, 'terroranschlaege': 5233, 'feinen': 5234, 'fluegge': 5235, 'kurzfristig': 5236, 'followerpower': 5237, 'deutschlandhassern': 5238, 'soeben': 5239, 'frshev': 5240, 'gesine': 5241, 'schwan': 5242, 'wege': 5243, 'aussengrenzen': 5244, 'mieten': 5245, 'freihandel': 5246, 'ibes': 5247, 'marodierenden': 5248, 'rechtsgrundlage': 5249, 'ausgefallen': 5250, 'dachgeschoss': 5251, 'waesche': 5252, 'gekuendigt': 5253, 'fluechtlingshilfe': 5254, 'kostet': 5255, 'gekko125': 5256, 'liess': 5257, 'organisie': 5258, 'auszug': 5259, 'scharf': 5260, 'verhaftet': 5261, 'unterdruecken': 5262, 'brauchst': 5263, 'kernseife': 5264, 'eingefressen': 5265, 'kohn': 5266, 'bendit': 5267, 'meineid': 5268, 'uiiii': 5269, 'bank': 5270, 'beibootpetri03': 5271, 'jockie59': 5272, 'kommission': 5273, 'darunter': 5274, 'anderes': 5275, 'kriminell': 5276, 'populistisch': 5277, 'einsetze': 5278, 'fachkraefte': 5279, 'firmen': 5280, 'sprech': 5281, 'smashjulian': 5282, 'steuer': 5283, 'topdilopp': 5284, 'eierlikoer': 5285, 'prost': 5286, 'saeht': 5287, 'erntet': 5288, 'henrysorgenfrei': 5289, 'propagieren': 5290, 'msn': 5291, 'shitstorm': 5292, 'vielfaltdemo': 5293, 'befreien': 5294, 'erlauben': 5295, 'gereist': 5296, 'tamarawernli': 5297, 'unverschaemt': 5298, 'schonungslose': 5299, 'custserv': 5300, 'ergibt': 5301, 'medienmogul': 5302, 'valentin': 5303, 'dietrich': 5304, 'verschenkt': 5305, 'gefutte': 5306, 'op': 5307, 'positiven': 5308, 'abschreckung': 5309, 'daemliche': 5310, 'entwurf': 5311, 'mar': 5312, 'aufrecht': 5313, 'unterirdisch': 5314, 'acht': 5315, 'moschee': 5316, 'braeuche': 5317, 'fit': 5318, 'telefonische': 5319, 'bizkazandik': 5320, 'lko': 5321, 'verbreitung': 5322, 'nrw17': 5323, 'liebes': 5324, 'wueste': 5325, 'einzuschuechtern': 5326, 'anforderungen': 5327, 'israelhasser': 5328, 'dflp': 5329, 'traudichde': 5330, 'antideutschen': 5331, 'fucken': 5332, 'muesstet': 5333, 'kaeseblatt': 5334, 'antonio': 5335, 'amadeus': 5336, 'homepage': 5337, 'unwuerdige': 5338, 'schwarzeampel': 5339, 'butze': 5340, 'verlag': 5341, 'cobe68': 5342, 'abnehmen': 5343, 'hospitaeler': 5344, 'ablasshandel': 5345, 'alkoholiker': 5346, 'kiel': 5347, 'autobahnen': 5348, 'matthiasmeisner': 5349, 'franzrichard45': 5350, 'bewusste': 5351, 'straftat': 5352, 'beruhigt': 5353, 'boeser': 5354, 'unrecht': 5355, 'russenkeppi': 5356, 'demos': 5357, 'erscheinen': 5358, 'annaehernd': 5359, 'paeulchen': 5360, 'freitagsgebet': 5361, 'knebel99': 5362, 'montag': 5363, 'band': 5364, 'patenamt': 5365, 'anerkennung': 5366, 'firmung': 5367, 'konfirmation': 5368, 'nachweislich': 5369, 'half': 5370, 'unbedeutend': 5371, 'konso': 5372, 'uebergangen': 5373, 'blocken': 5374, 'argument': 5375, 'aussprechen': 5376, 'rohingyas': 5377, 'gastgeber': 5378, 'fema': 5379, 'ausl': 5380, 'doku': 5381, 'luegenmedien': 5382, 'jayb392': 5383, 'male': 5384, 'bernd': 5385, 'by': 5386, 'knallt': 5387, 'befuerchten': 5388, 'beziehen': 5389, 'buergerinnen': 5390, 'fisch': 5391, 'geschenke': 5392, 'abgerechnet': 5393, 'haessliches': 5394, 'kabinett': 5395, 'kinderschaender': 5396, 'ausgewiesen': 5397, 'watt': 5398, 'zwischenfrage': 5399, '82': 5400, 'sabinema': 5401, 'iny': 5402, 'vorlieben': 5403, 'angelegenheit': 5404, 'spaniens': 5405, 'leuchter': 5406, 'entzogen': 5407, 'tauwetter': 5408, 'edeka': 5409, 'aufmachen': 5410, 'biodeutschen': 5411, 'beauftragten': 5412, 'reihenweise': 5413, 'sc': 5414, 'abgesetzt': 5415, 'veranke': 5416, 'fuehre': 5417, 'hochdotie': 5418, 'genauem': 5419, 'johnwboer': 5420, 'witzig': 5421, 'menschlich': 5422, 'zweiter': 5423, 'wichtigeres': 5424, 'hollywood': 5425, 'zinsen': 5426, 'penner': 5427, 'vorsatz': 5428, 'unterscheiden': 5429, 'moelln': 5430, 'hoyerswerda': 5431, 'lichtenhagen': 5432, 'stattdessen': 5433, 'unterhaltung': 5434, 'einheimische': 5435, 'huegelkind': 5436, 'ostens': 5437, 'likelocusts': 5438, 'brand': 5439, 'defekten': 5440, 'hubschrauber': 5441, 'braeuchten': 5442, 'kasten': 5443, 'bergen': 5444, 'unmissverstaendlich': 5445, 'vorbestraft': 5446, 'methoden': 5447, 'braunen': 5448, 'problematisch': 5449, 'rechtsradikalen': 5450, 'eigeninteresse': 5451, 'kretsc': 5452, 'zusammenarbeit': 5453, 'vanberlichingen': 5454, 'gezahlt': 5455, 'greenpeacemag': 5456, 'hesselmann': 5457, 'oehzen': 5458, 'quatschen': 5459, 'off': 5460, 'fester': 5461, 'bewaeh': 5462, 'gemeinsame': 5463, 'udssr': 5464, 'israelisch': 5465, 'eng': 5466, 'holt': 5467, 'herkunftsland': 5468, 'phatentophon': 5469, 'ordensrecht': 5470, 'mrhovistar': 5471, 'bonuszahlungen': 5472, 'erzeugen': 5473, 'massive': 5474, 'morddrohungen': 5475, 'janko': 5476, 'emdb': 5477, 'unterkriegen': 5478, 'entschlossen': 5479, 'periscope': 5480, 'allahuakbar': 5481, 'franc': 5482, 'auftritte': 5483, 'inszenie': 5484, 'genscher': 5485, 'schnitzel': 5486, '10meter': 5487, 'goldene': 5488, 'vorhergesagt': 5489, 'verschenken': 5490, 'mordeten': 5491, 'ukrainische': 5492, 'angehoerige': 5493, 'arminlaschet': 5494, 'mahnt': 5495, 'mehrmals': 5496, 'eizentrale': 5497, 'resultat': 5498, 'erlaubnis': 5499, 'werde': 5500, 'kreuzfah': 5501, 'blasen': 5502, 'umwelt': 5503, 'milde': 5504, 'froehlichen': 5505, 'beobachtet': 5506, 'ausschliessen': 5507, 'registrie': 5508, 'richvolkmann': 5509, 'erbaermliche': 5510, 'verachte': 5511, 'gaenzlich': 5512, 'taub': 5513, 'fassungslos': 5514, 'refugeeswlcm': 5515, 'beklagen': 5516, 'griechen': 5517, 'gewaltig': 5518, 'absichten': 5519, 'erweckt': 5520, 'teufels': 5521, 'altes': 5522, 'sprichwo': 5523, 'gewe': 5524, 'ville': 5525, 'joanacotar': 5526, 'naiv': 5527, 'truppen': 5528, 'schlachten': 5529, 'ernaehren': 5530, 'freivonreue': 5531, 'konfrontation': 5532, 'disziplin': 5533, 'verbuendeten': 5534, 'leh': 5535, 'go': 5536, 'for': 5537, 'you': 5538, 'sel': 5539, 'stolberg': 5540, 'familienrueckfuehrung': 5541, 'ober': 5542, 'diverse': 5543, 'gespraechen': 5544, 'jenen': 5545, 'beteiligen': 5546, 'dienstzeitverlaengerung': 5547, 'hinaus': 5548, 'datenschutz': 5549, 'schnueffler': 5550, 'abgehakt': 5551, 'namens': 5552, 'fell': 5553, 'eigenhaendig': 5554, 'erschlagen': 5555, 'echtzeitreise': 5556, 'as': 5557, 'aufgezeigt': 5558, 'issn81': 5559, 'bundesweite': 5560, 'enttaeuscht': 5561, 'stasikasper': 5562, 'ritakratze': 5563, 'begeben': 5564, 'pure': 5565, 'nafri': 5566, 'versuche': 5567, 'nervt': 5568, 'tierisch': 5569, 'dringen': 5570, 'weicheier': 5571, 'gespielt': 5572, 'kuschelns': 5573, '800': 5574, 'interessanten': 5575, 'jochenbittner': 5576, 'diffamierung': 5577, 'zitiere': 5578, 'grundlage': 5579, 'gegen': 5580, 'nico': 5581, 'schmutzigen': 5582, 'hiesige': 5583, 'siegen': 5584, 'gesoffen': 5585, 'perspektive': 5586, 'anstaendige': 5587, 'schaedigen': 5588, 'schaetzung': 5589, 'teilnehmende': 5590, 'eindeutigen': 5591, 'ramadan': 5592, 'zuzug': 5593, 'stoppt': 5594, 'auslaenderfeindlich': 5595, 'whataboutism': 5596, 'crew': 5597, 'einzelfaelle': 5598, 'waehre': 5599, 'geklappt': 5600, 'weinen': 5601, 'worum': 5602, 'sprich': 5603, 'ministerin': 5604, 'investiere': 5605, 'bemerkung': 5606, 'ausgegrenzt': 5607, 'dazukommen': 5608, 'ignorie': 5609, 'schwuchtel': 5610, 'floriangathmann': 5611, 'buerokratie': 5612, 'empfehlung': 5613, 'ulschzi': 5614, 'zeitliche': 5615, 'hinterfragen': 5616, 'mimimi': 5617, 'entscheidende': 5618, 'sternrot': 5619, 'schiedsrichters': 5620, 'vermerkt': 5621, 'belohnt': 5622, 'ofenschlampe': 5623, 'holland': 5624, 'rastaflip': 5625, 'weltgeschichte': 5626, 'genauer': 5627, 'vollverschleierung': 5628, 'bloedheit': 5629, 'fatima': 5630, 'sitewinder': 5631, 'balianibelin65': 5632, 'demonstrationsfreiheit': 5633, 'nehmt': 5634, 'juristische': 5635, 'radikaler': 5636, 'kamannuwe': 5637, 'wuessten': 5638, 'passend': 5639, 'mirlangtes': 5640, 'ungarin': 5641, 'tunesien': 5642, 'dustpills': 5643, 'wirklichen': 5644, 'bis': 5645, 'groessere': 5646, 'lionwoman18': 5647, 'krk979': 5648, 'verwechselt': 5649, 'papstes': 5650, 'retweetet': 5651, 'wespen': 5652, 'vermaechtnis': 5653, 'hinkriegen': 5654, 'dreckigen': 5655, 'saarl': 5656, 'lyoner': 5657, 'bier': 5658, 'humanitaerer': 5659, 'kritisches': 5660, 'brief': 5661, 'olivergeorgi': 5662, 'verheiratet': 5663, 'damen': 5664, 'gefreut': 5665, 'komplexe': 5666, 'ehrenamtliche': 5667, 'trauen': 5668, '600': 5669, 'ade': 5670, 'bereinigen': 5671, 'konze': 5672, 'hstiebe': 5673, 'eroloenal': 5674, 'intellektuelle': 5675, 'zeugen': 5676, 'sagten': 5677, 'burkaverbot': 5678, 'oschnederpelz': 5679, 'anweisung': 5680, 'fehlerfrei': 5681, 'qualifikation': 5682, 'djjem': 5683, 'sahara': 5684, 'begegnen': 5685, 'ergeben': 5686, 'loveislove': 5687, 'joachim': 5688, 'vita': 5689, 'schlafschaf': 5690, 'klicks': 5691, 'geschickt': 5692, 'besiegen': 5693, 'niemandem': 5694, 'ueblich': 5695, 'offener': 5696, 'uk': 5697, 'tip': 5698, 'mgrieber': 5699, 'unter': 5700, 'weib': 5701, 'fleissig': 5702, 'heiraten': 5703, 'wahltag': 5704, 'kreaturen': 5705, 'material': 5706, 'randalie': 5707, 'gib': 5708, 'schadenfreude': 5709, 'ueberfluessig': 5710, 'toiletten': 5711, 'benachteiligt': 5712, 'schlepperei': 5713, 'vergiftet': 5714, 'abstieg': 5715, 'geweiht': 5716, 'gummigeschosse': 5717, 'druecken': 5718, 'gestiegen': 5719, 'anwaeltin': 5720, 'doppelstaatsbuerger': 5721, 'oesterr': 5722, 'qm': 5723, 'lief': 5724, 'entwicklungshilfe': 5725, 'legislaturperiode': 5726, 'diaeten': 5727, 'bestaetigen': 5728, 'zusammenfuehren': 5729, 'schaltet': 5730, 'gepraegt': 5731, 'oekologische': 5732, 'menschlichkeit': 5733, 'erschuette': 5734, 'obrigkeit': 5735, 'sprachmittlerud': 5736, 'wolffreewilli': 5737, 'trottel': 5738, 'mehrzahl': 5739, 'anerkannte': 5740, 'comedian': 5741, 'tempelberg': 5742, 'freunden': 5743, 'paxter': 5744, 'redwyne': 5745, 'wirkliche': 5746, 'danielm2601': 5747, 'bazille': 5748, 'realappell': 5749, 'schlinge': 5750, 'amazonde': 5751, 'geschaeftsfuehrer': 5752, 'serioesen': 5753, 'journalistin': 5754, 'day': 5755, 'aufstehen': 5756, 'dem': 5757, 'erhebt': 5758, 'geholfen': 5759, 'begeht': 5760, 'incl': 5761, 'ueberprueft': 5762, 'saecke': 5763, 'angreifen': 5764, 'lachnummern': 5765, 'grausam': 5766, 'halbtot': 5767, 'anerkennen': 5768, 'abgelaufen': 5769, 'verlie': 5770, 'ulrichhenning2': 5771, 'liberalen': 5772, 'ordentliches': 5773, 'donalds': 5774, 'angenehmen': 5775, 'imp': 5776, 'omg': 5777, 'wedrfoelnir': 5778, 'gulag': 5779, 'grim': 5780, 'exilprincess': 5781, 'fokel': 5782, 'exil': 5783, 'doggo': 5784, 'grata': 5785, 'niemandesstimme': 5786, 'baccarat': 5787, 'black': 5788, 'werkoffiziell': 5789, 'rayzon899': 5790, 'elliottstaender': 5791, 'sadisticniles': 5792, 'dietmoarschwarz': 5793, 'therpgprincess': 5794, 'zionismus': 5795, 'heulen': 5796, 'meiste': 5797, 'buches': 5798, 'aktionen': 5799, 'akademiker': 5800, 'schnellinfo': 5801, 'allianz': 5802, 'abdreht': 5803, 'jeweils': 5804, 'voegel': 5805, 'faengt': 5806, 'adventskalender': 5807, 'saebelrasseln': 5808, 'militaer': 5809, 'fanatismus': 5810, 'diplomat': 5811, 'yuecsel': 5812, 'flintenuschis': 5813, 'obhut': 5814, 'wochenblickat': 5815, 'frisch': 5816, 'wichtigtuer': 5817, 'nicid': 5818, 'patricia': 5819, 'seelig': 5820, 'spdrlp': 5821, 'vonwegen': 5822, 'routeandswitch1': 5823, 'positionen': 5824, 'bestaetigt': 5825, 'getrost': 5826, 'abzulenken': 5827, 'begeiste': 5828, 'harziv': 5829, 'hype': 5830, 'afrikanischen': 5831, 'vereinen': 5832, 'verfassung': 5833, 'unfairen': 5834, 'handelsbeziehungen': 5835, 'furdiewelt': 5836, 'verbrennung': 5837, 'auslaendern': 5838, 'absurdistan': 5839, 'geschenk': 5840, 'jaulen': 5841, 'verlor': 5842, 'getragene': 5843, 'version': 5844, '5y5t3m': 5845, '3rr0r': 5846, 'fraktionsgremien': 5847, 'flensburg': 5848, 'abwae': 5849, 'natuerliche': 5850, 'bevorstehenden': 5851, 'malente': 5852, 'kreisverband': 5853, 'ostholstein': 5854, 'abstellgleis': 5855, 'banner': 5856, 'polkemajewski': 5857, 'herles': 5858, 'duennschiss': 5859, 'schlaegt': 5860, 'experiment': 5861, 'fcknzs': 5862, 'pegida': 5863, 'hessenadler82': 5864, 'fdpfraktionnrw': 5865, 'cdunrw': 5866, 'wald': 5867, 'kommst': 5868, 'ad': 5869, 'hebr': 5870, 'gefaengnis': 5871, 'rufen': 5872, 'ernannte': 5873, 'gmeiner': 5874, 'hingehoe': 5875, 'manfredheck1': 5876, 'hasser': 5877, 'dana': 5878, 'heide': 5879, 'handelsblatt': 5880, 'flaechendeckend': 5881, 'marco': 5882, 'spiegelt': 5883, 'fucking': 5884, 'dauerhaft': 5885, 'ausgesetzt': 5886, 'buergermeisterlein': 5887, 'negative': 5888, 'komische': 5889, 'freu': 5890, 'michel': 5891, 'chrisjuko': 5892, 'blonde': 5893, 'umgeben': 5894, 'beteiligt': 5895, 'jasmin': 5896, 'islamrat': 5897, 'chapeau': 5898, 'anhaengern': 5899, 'freedeniz': 5900, 'unehrlich': 5901, 'raut': 5902, 'gleichsetzung': 5903, 'einzieht': 5904, 'kanal': 5905, 'quasir': 5906, 'bleidsamel': 5907, 'entdecken': 5908, 'sparen': 5909, 'saemtlichen': 5910, 'vorgehensweise': 5911, 'vergibt': 5912, 'loser': 5913, 'twittingthom': 5914, 'gewinner': 5915, 'umzusetzen': 5916, 'plenum': 5917, 'post': 5918, 'sonst': 5919, 'attentate': 5920, 'yapp': 5921, 'beilaeufig': 5922, 'anzutreffen': 5923, 'persoenlichkeitsrecht': 5924, 'beihilfe': 5925, 'anklagen': 5926, 'geschworen': 5927, 'mattfux': 5928, 'roland01962': 5929, 'christentum': 5930, 'behaupten': 5931, 'kanacken': 5932, 'nachmittag': 5933, 'laschet': 5934, 'verrueckt': 5935, 'trueffelschwein': 5936, 'toetet': 5937, 'bewe': 5938, 'tayyeb': 5939, 'zynismus': 5940, 'umgesetzt': 5941, 'dobrindt': 5942, 'spannender': 5943, 'kaidiekmann': 5944, 'adi': 5945, 'farjon': 5946, 'atomwaffen': 5947, 'zuenden': 5948, 'gleichgueltigkeit': 5949, 'jhurn': 5950, 'waehren': 5951, 'bilden': 5952, 'lichterkette': 5953, 'achte': 5954, 'furz': 5955, 'globalisten': 5956, 'jedenfall': 5957, 'trocken': 5958, 'vronixi': 5959, 'fordere': 5960, 'wahlweise': 5961, 'deibel': 5962, 'israelkritik': 5963, 'wodka': 5964, 'nostradamus': 5965, 'goethe': 5966, 'kasner': 5967, 'regierungs': 5968, 'glas': 5969, 'ueberfremdung': 5970, 'schwebt': 5971, 'danz': 5972, 'tropf': 5973, 'khasarischen': 5974, 'entgangen': 5975, 'bloeden': 5976, 'engagieren': 5977, 'jusos': 5978, 'leere': 5979, 'geleh': 5980, 'stuss': 5981, 'profit': 5982, 'spendenfinanzie': 5983, 'schleierhaft': 5984, 'rundfunkrat': 5985, 'erwuenscht': 5986, 'ehrenmann': 5987, 'wette': 5988, 'raschie2': 5989, 'kandidieren': 5990, 'soldat': 5991, 'hoechsten': 5992, 'achso': 5993, 'stumm': 5994, 'historischen': 5995, 'bewaehrungsstrafe': 5996, 'globalisierung': 5997, 'korrektur': 5998, 'unterlassen': 5999, 'syrischen': 6000, 'empfaenger': 6001, 'umwelthilfe': 6002, 'vermittlung': 6003, 'refugeeswelcome': 6004, 'trauriger': 6005, 'ueberfaelle': 6006, 'tinahassel': 6007, 'perverser': 6008, '2ten': 6009, 'status': 6010, 'ueberlassen': 6011, 'auseinandersetzung': 6012, 'drueckt': 6013, 'gthummerer': 6014, 'kaufe': 6015, 'basteln': 6016, '1947': 6017, 'andersdenkenden': 6018, 'rasse': 6019, 'schreiber': 6020, 'niedriger': 6021, 'glyphosat': 6022, 'bewegt': 6023, 'beseitigt': 6024, 'las': 6025, 'abdel': 6026, 'ourghi': 6027, 'ali': 6028, 'hamburger': 6029, 'eigentum': 6030, 'ruinieren': 6031, 'jotdora': 6032, 'zins': 6033, 'allenfalls': 6034, 'beider': 6035, 'systeme': 6036, 'groesse': 6037, 'auswahl': 6038, 'professoren': 6039, 'pc': 6040, 'jlomm': 6041, 'ricarda': 6042, 'frisst': 6043, 'scharfschuetzen': 6044, 'wiedergewaehlt': 6045, 'eigenem': 6046, 'geborene': 6047, 'schwere': 6048, 'geraeusche': 6049, 'langweilig': 6050, 'stellung': 6051, 'geschmacklos': 6052, 'vorstellung': 6053, 'grenzenlose': 6054, 'ablehnung': 6055, 'scheissdreck': 6056, '1994': 6057, 'tillschneider': 6058, 'afdler': 6059, 'ausschreitungen': 6060, 'metaller': 6061, '70er': 6062, 'simon': 6063, 'ernsthafte': 6064, 'bewahren': 6065, 'zweifelhaft': 6066, 'sachsens': 6067, 'tsghessen': 6068, 'meinen': 6069, 'aengstlich': 6070, 'darkgermany': 6071, 'zeitungsa': 6072, 'abdruck': 6073, 'religionsfreiheit': 6074, 'tgd': 6075, '2700': 6076, 'grueneversenken': 6077, 'glaubwuerdig': 6078, 'weathernews2016': 6079, 'georgrestle': 6080, 'ardkontraste': 6081, 'stecken': 6082, 'revisionismus': 6083, 'industrielle': 6084, 'wirres': 6085, 'nsdap': 6086, 'zahlenden': 6087, 'bomben': 6088, 'eidigt': 6089, 'meer': 6090, 'verabschiedete': 6091, 'dummer': 6092, 'beschraenkt': 6093, 'schaedel': 6094, 'unglaublich': 6095, 'tipp': 6096, 'umerziehungslager': 6097, 'genesung': 6098, 'stolzes': 6099, 'nunja': 6100, 'jedermann': 6101, 'ziegen': 6102, 'patriotisch': 6103, 'schick': 6104, 'herbst': 6105, 'stoff': 6106, 'hervor': 6107, 'gehetzt': 6108, 'scheindemokratie': 6109, 'muenzenmaier': 6110, 'politmarionetten': 6111, 'cducsu': 6112, 'eintreten': 6113, 'prozessen': 6114, 'klopft': 6115, 'winkler': 6116, 'veraenderung': 6117, 'spueren': 6118, 'absaufen': 6119, 'erfinden': 6120, 'anh': 6121, 'illinger': 6122, 'arabische': 6123, 'erpressen': 6124, 'kaemen': 6125, 'gae': 6126, 'talkshow': 6127, 'stream': 6128, 'umweltschutz': 6129, 'verschwiegen': 6130, 'iii': 6131, 'steinen': 6132, 'einstein': 6133, 'aegisbridge': 6134, 'vaeter': 6135, 'abstimmen': 6136, 'hinnehmen': 6137, 'metropole': 6138, 'florianklenk': 6139, 'erfreulich': 6140, '130': 6141, 'hinterhaeltiger': 6142, 'attackie': 6143, 'obenausthomas': 6144, 'koelle': 6145, 'streichen': 6146, 'koffer': 6147, 'laecherliches': 6148, 'wahlschafe': 6149, 'bildungs': 6150, 'kranker': 6151, 'vergewaltigen': 6152, 'jaehrigen': 6153, 'muschi': 6154, 'lecken': 6155, 'minderbemittelt': 6156, 'fiedler': 6157, 'irene': 6158, 'deutschtuerken': 6159, 'new': 6160, 'year': 6161, 'ueberstanden': 6162, 'ehrlicher': 6163, '01': 6164, 'musik': 6165, 'funken': 6166, 'leistung': 6167, 'eifer': 6168, 'zweifel': 6169, 'raucher': 6170, 'rauchen': 6171, 'kino': 6172, 'babylon': 6173, 'islamischer': 6174, 'mbremerde': 6175, 'tompat': 6176, 'zehn': 6177, 'notwendige': 6178, 'nachweisen': 6179, 'letzteres': 6180, 'ruthenium': 6181, 'objektiv': 6182, 'aeaehh': 6183, 'establishment': 6184, 'richtiges': 6185, 'frauenhaeuser': 6186, 'abgewiesen': 6187, 'plaetze': 6188, 'afrikanern': 6189, 'erfolgreich': 6190, 'reinerhaseloff': 6191, 'logischerweise': 6192, 'rechtshilfefonds': 6193, 'falscher': 6194, 'uebernommen': 6195, 'christlich': 6196, '900': 6197, 'abschied': 6198, 'legal': 6199, 'geselle': 6200, 'volksverhetzung': 6201, 'kla': 6202, 'ext': 6203, 'stuetze': 6204, 'neuem': 6205, 'vorn': 6206, 'widerwae': 6207, '1962': 6208, 'missachtet': 6209, 'missgebu': 6210, 'bastarde': 6211, 'unterwandern': 6212, 'heuschrecken': 6213, 'beisp': 6214, 'volltrottel': 6215, 'gue': 6216, 'sitze': 6217, 'reichstag': 6218, 'zt': 6219, 'immigranten': 6220, 'aufpassen': 6221, 'touristen': 6222, 'evtl': 6223, 'petrbystronafd': 6224, 'hansestadt': 6225, 'missbrauch': 6226, 'exklusiv': 6227, 'michaeladam1984': 6228, 'verkaufte': 6229, 'staatsgewalt': 6230, 'jegliche': 6231, 'brexit': 6232, 'fuehlt': 6233, 'deutschfeindlichkeit': 6234, 'esc2017': 6235, 'auseinander': 6236, 'thomasverheugen': 6237, 'schwarzer': 6238, 'iranischen': 6239, 'regimes': 6240, 'erfolgt': 6241, '133': 6242, 'schrieb': 6243, 'gratulieren': 6244, 'fatihakin': 6245, 'gewinn': 6246, 'goldenglobes2017': 6247, '80er': 6248, 'basketball': 6249, 'sperma': 6250, 'traue': 6251, 'beleg': 6252, 'publizistikon': 6253, 'minute': 6254, 'antisemitischen': 6255, 'unzufriedenen': 6256, 'gewaltsam': 6257, 'erdulden': 6258, 'gelingen': 6259, 'ansprechen': 6260, 'papp': 6261, 'aufhat': 6262, 'texten': 6263, 'klimaschutz': 6264, 'kadmos': 6265, 'junghans': 6266, 'eventuell': 6267, 'sitzung': 6268, 'mitgliedern': 6269, 'ruppe': 6270, 'schieben': 6271, 'vatanmillet77': 6272, 'matrixgofire': 6273, 'entlarvt': 6274, 'oktober': 6275, 'wellejena': 6276, 'oskar752': 6277, 'munition': 6278, 'erhielt': 6279, 'kurde': 6280, 'designer': 6281, 'diktator': 6282, 'bevorzugen': 6283, 'claus': 6284, 'bestrafung': 6285, 'titanic': 6286, 'gesungen': 6287, 'bestimmte': 6288, 'geredet': 6289, 'vermeintlich': 6290, 'stoerfall': 6291, 'verlosen': 6292, 'anbieten': 6293, 'kaffee': 6294, 'brennt': 6295, 'uebersetzung': 6296, 'strippenzieher': 6297, 'weltoffenheit': 6298, 'problemen': 6299, 'gluehwein': 6300, 'dieselmeister': 6301, 'didifreiheit': 6302, 'gekostet': 6303, 'erbrechen': 6304, 'strombelberg': 6305, 'juliakloeckner': 6306, 'sperre': 6307, 'sex': 6308, 'englaender': 6309, 'innere': 6310, 'diewahremargot': 6311, 'rief': 6312, 'kinderarmut': 6313, 'gehinde': 6314, 'bezahlten': 6315, 'eis': 6316, 'kinderehen': 6317, 'dublin': 6318, 'entschaedigen': 6319, 'clowns': 6320, 'ehrenamtlichen': 6321, 'beschaedigen': 6322, 'fachkraft': 6323, 'kanaelen': 6324, 'taeglichen': 6325, 'tier': 6326, 'chem': 6327, 'toony': 6328, 'polnischer': 6329, 'meinungsunterdrueckung': 6330, 'fleischtoepfe': 6331, 'nichtregierungsorganisation': 6332, 'hintergrund': 6333, 'dan': 6334, 'wuerdest': 6335, 'geltungsbereich': 6336, 'loewenherz': 6337, 'lagen': 6338, 'wahn': 6339, 'yrers': 6340, 'sep': 6341, 'oksadok': 6342, 'veraende': 6343, 'ginge': 6344, 'einigermassen': 6345, 'wande': 6346, 'geahndet': 6347, 'asylant': 6348, 'unentwegt': 6349, 'veraendern': 6350, 'helfe': 6351, 'west': 6352, 'herauszunehmen': 6353, 'gb': 6354, 'henker': 6355, 'nord': 6356, 'hathor': 6357, 'pentalpha': 6358, 'bleib': 6359, 'prothese': 6360, 'tue': 6361, 'brueste': 6362, 'maut': 6363, 'paket': 6364, 'koa': 6365, 'modonaigoldberg': 6366, 'white': 6367, 'freundeskreis': 6368, 'ausgerechnet': 6369, 'nahrung': 6370, 'foermlich': 6371, 'verbergen': 6372, 'offenes': 6373, 'geplant': 6374, 'maerz': 6375, 'time': 6376, 'offenba': 6377, '20piraten': 6378, 'piratringwraith': 6379, 'barmbek': 6380, 'aufgeklae': 6381, 'nichtmengele': 6382, 'truemmerfrau': 6383, 'winfootball': 6384, '333dersim': 6385, 'verklickern': 6386, 'arbeiter': 6387, 'blicken': 6388, 'betroffenen': 6389, 'belastet': 6390, 'echtzeit': 6391, 'marcel02935041': 6392, 'verarmen': 6393, 'profitieren': 6394, 'befindet': 6395, 'krankenhaus': 6396, 'produzie': 6397, 'erreichbar': 6398, 'spahn': 6399, 'kritisiere': 6400, 'ohne': 6401, 'elfiold': 6402, 'laecherlichen': 6403, 'ueberfallen': 6404, 'saesse': 6405, 'gittern': 6406, 'historisch': 6407, 'langen': 6408, 'sa': 6409, 'zurueckgewiesen': 6410, 'strassenfest': 6411, 'zweier': 6412, 'initiativen': 6413, '03': 6414, 'langendreer': 6415, 'bochum': 6416, 'type': 6417, 'ekelhaft': 6418, 'auflehnen': 6419, 'aufbegehren': 6420, 'starker': 6421, 'tomschreibermda': 6422, 'anked': 6423, 'unterschicht': 6424, 'wiederwahl': 6425, 'bundesverfassungsgericht': 6426, 'juforuhr': 6427, 'jaeger': 6428, 'kuessen': 6429, 'ueberfueh': 6430, 'antiquarische': 6431, 'kaiserwetter49': 6432, 'freimaurer': 6433, 'zukunftskinder': 6434, 'logik': 6435, 'sued': 6436, 'kindergeld': 6437, 'krokodilstraenen': 6438, 'blase': 6439, 'dazwischen': 6440, 'australien': 6441, 'ae': 6442, '92': 6443, 'scham': 6444, 'ihn': 6445, 'goldstuecke': 6446, 'ordne': 6447, 'fuerstlich': 6448, 'dreckspresse': 6449, 'kassieren': 6450, 'wahnsinnigen': 6451, 'letztes': 6452, 'arbeitslos': 6453, 'laedt': 6454, 'oberhausen': 6455, 'ich78': 6456, 'sarkasmus': 6457, 'boykott': 6458, 'uwebecher': 6459, 'kuhnerwanna': 6460, 'vorausschauend': 6461, 'helm': 6462, 'gefiel': 6463, 'verflucht': 6464, 'konservative': 6465, 'zusaetzl': 6466, 'mind': 6467, 'bestellt': 6468, 'absurde': 6469, 'erdbeeren': 6470, 'besonderen': 6471, 'bawue': 6472, 'februar': 6473, 'konkret': 6474, 'sprecherin': 6475, 'unglaeubige': 6476, 'ohnehin': 6477, 'eingeschleppt': 6478, 'gestorben': 6479, 'bemerkt': 6480, 'verleihung': 6481, 'felix': 6482, 'rexhausen': 6483, 'spox': 6484, 'juergenzimper': 6485, 'beutler': 6486, 'diplomatie': 6487, 'glied': 6488, 'hammer': 6489, 'erwischt': 6490, 'pseudo': 6491, 'reinste': 6492, 'laune': 6493, 'weihnachtsmarkt': 6494, 'auflauf': 6495, 'vergass': 6496, 'muhammedkani': 6497, 'attacken': 6498, 'erlassen': 6499, 'normalerweise': 6500, 'gier': 6501, 'skyspo': 6502, 'scheiden': 6503, 'kulturelle': 6504, 'ralfmueller12': 6505, 'ausmacht': 6506, 'israeli': 6507, 'schaftskriminalitaet': 6508, 'berlindirekt': 6509, 'beschluss': 6510, 'unterschiedlichen': 6511, 'tatsachen': 6512, 'kein': 6513, 'schuetteln': 6514, 'literatur': 6515, 'ronny': 6516, 'funk': 6517, 'ehemaligen': 6518, 'doppelt': 6519, 'inkompetenz': 6520, 'lohn': 6521, 'rechtsanwaeldin': 6522, 'rohingya': 6523, 'doerfer': 6524, 'sendungen': 6525, 'schullerkonrad': 6526, 'depp': 6527, 'religioese': 6528, 'umfragen': 6529, 'anzusehen': 6530, 'allem': 6531, 'uhrzeit': 6532, 'breitscheid': 6533, 'fehlten': 6534, 'bevoelkerungsgruppen': 6535, 'walli5': 6536, 'kanaele': 6537, '87': 6538, 'belangt': 6539, 'austritt': 6540, 'krebbi': 6541, 'vergangenheit17': 6542, 'mxlola5': 6543, 'lazarus06': 6544, 'heinrichheine12': 6545, 'dunkeldenk': 6546, 'kreativdesign1': 6547, 'emiliac32': 6548, 'diebajuwaren': 6549, 'gunnar': 6550, 'riche': 6551, 'tbgstephen': 6552, 'bombardieren': 6553, 'verdorben': 6554, 'dienste': 6555, 'original': 6556, 'verleihen': 6557, 'sonstigen': 6558, 'zuteil': 6559, 'enythen': 6560, 'ackern': 6561, 'king': 6562, 'david': 6563, 'reaktionen': 6564, 'afdwirkt': 6565, 'professionell': 6566, 'andrea': 6567, 'geantwo': 6568, 'praesidiumsbeschluss': 6569, 'hetzerische': 6570, '6000': 6571, 'anja69': 6572, 'ernaehrung': 6573, 'mr': 6574, 'nudel': 6575, 'vorgefueh': 6576, 'sabbe': 6577, 'langweiliger': 6578, 'rothschild': 6579, 'auffaellt': 6580, 'japp': 6581, 'loewe': 6582, 'massenmoerder': 6583, 'genozid': 6584, 'angaylamerkel': 6585, '17uhr': 6586, 'bein': 6587, 'auffallen': 6588, 'oberhaeuptling': 6589, 'konsequenzen': 6590, 'handgranate': 6591, 'duisburg': 6592, 'radek': 6593, 'joern': 6594, 'komplizen': 6595, 'fluchtursachen': 6596, 'briten': 6597, 'rolandbauer11': 6598, 'maerchen': 6599, 'fliegt': 6600, 'weich': 6601, 'konto': 6602, 'mohamed': 6603, 'multiple': 6604, 'kamera': 6605, 'mitnehmen': 6606, 'maiziere': 6607, 'verwaltungsakt': 6608, 'rosenbogen111': 6609, 'fuellen': 6610, 'meide': 6611, 'lunge': 6612, 'opfers': 6613, 'allgemein': 6614, 'rechtsextrem': 6615, 'mehrsprachig': 6616, 'gemischt': 6617, 'schritte': 6618, 'steigen': 6619, 'bewerbung': 6620, 'bastard': 6621, 'verhoehnen': 6622, 'leugnen': 6623, 'pdf': 6624, 'mad': 6625, 'sper': 6626, '500': 6627, 'wieweit': 6628, 'holocaustleugner': 6629, 'moechtest': 6630, 'einzelner': 6631, 'marcel': 6632, 'wahrer': 6633, 'beteiligten': 6634, 'mario': 6635, 'fremdschaemen': 6636, 'geier': 6637, 'loecher': 6638, 'gegessen': 6639, 'einmischen': 6640, 'raumschiff': 6641, 'jeweiligen': 6642, 'hofieren': 6643, 'moment': 6644, 'pflegt': 6645, 'deckmantel': 6646, 'brandenburge': 6647, 'neuesten': 6648, 'konve': 6649, 'recherche': 6650, 'beachten': 6651, 'plingl': 6652, 'sowohl': 6653, 'pfannekuchen': 6654, 'amadeuantonio': 6655, 'gramm': 6656, 'einrichtungen': 6657, 'scheissegal': 6658, 'diskurse': 6659, 'ukrainer': 6660, 'dichter': 6661, 'sicht': 6662, 'schlagstoecken': 6663, 'jaehrige': 6664, 'wobei': 6665, 'aufbegeh': 6666, '4jahre': 6667, 'alltag': 6668, 'kapitalismus': 6669, 'pinkeln': 6670, 'denunzieren': 6671, 'langjaehrige': 6672, 'atheismus': 6673, 'gefickt': 6674, 'stimmung': 6675, 'waffensysteme': 6676, 'universitaet': 6677, 'eidigungsminister': 6678, 'genuegt': 6679, 'geschaeftsstelle': 6680, 'loewen': 6681, 'reagieren': 6682, 'ruecktritt': 6683, 'krimigranten': 6684, 'quoten': 6685, 'hexlepia': 6686, 'kardinalmarx': 6687, 'gottesdienst': 6688, 'wahlerfolg': 6689, 'simone': 6690, 'ueberfluessigen': 6691, 'r2g': 6692, 'maechtigste': 6693, 'sobald': 6694, 'esser': 6695, 'aufspielen': 6696, 'beschlossene': 6697, 'felixleidecker': 6698, 'aussuchen': 6699, 'einnehme': 6700, 'geschwuer': 6701, 'haftung': 6702, 'kommentie': 6703, 'schief': 6704, 'annettecreft': 6705, 'eilten': 6706, 'ueberzeugend': 6707, 'talmud': 6708, 'sohar': 6709, 'unterstellten': 6710, 'einander': 6711, 'migration': 6712, 'lobbycontrol': 6713, 'junckereu': 6714, 'historiker': 6715, 'ausgraben': 6716, 'ain': 6717, 'tagx': 6718, 'schaften': 6719, 'pay': 6720, 'mikro': 6721, 'bukowskisnephew': 6722, 'kreatur': 6723, 'gepruegelt': 6724, 'rechnen': 6725, 'geholt': 6726, 'drohungen': 6727, 'letzter': 6728, 'szczeciner': 6729, 'schrieben': 6730, 'wohnt': 6731, 'erfuellt': 6732, 'ute': 6733, 'silfoiera': 6734, '20min': 6735, 'viren': 6736, 'diskriminieren': 6737, 'alman': 6738, 'angefangen': 6739, 'aehhh': 6740, 'rete': 6741, 'these': 6742, 'gral': 6743, 'rebellion': 6744, 'aktiv': 6745, 'gleichgesinnten': 6746, 'roemisch': 6747, 'geschlechts': 6748, 'nationen': 6749, 'fundamentalische': 6750, 'biermann': 6751, 'lump': 6752, 'pressesprecherin': 6753, 'ursprung': 6754, 'auferstehen': 6755, 'ingreive': 6756, 'streiken': 6757, 'fehlern': 6758, 'schreien': 6759, 'dunja': 6760, 'brodelt': 6761, 'militaers': 6762, 'raffst': 6763, 'versprochen': 6764, 'arabischen': 6765, 'liebsten': 6766, 'noergeln': 6767, 'pilgramswords': 6768, 'theologie': 6769, 'aemter': 6770, 'rate': 6771, 'bock': 6772, 'bau': 6773, 'beherbergen': 6774, 'dekrete': 6775, 'stefanscharf': 6776, 'dd': 6777, 'schriesheim': 6778, 'abgesagt': 6779, 'prussian': 6780, 'po': 6781, 'radikal': 6782, 'unterbinden': 6783, 'janine': 6784, 'wissler': 6785, '89': 6786, 'niggi': 6787, 'verbloedete': 6788, 'larve': 6789, 'eur': 6790, 'nuetzlich': 6791, 'nasses': 6792, 'vorbild': 6793, 'allgemeinen': 6794, 'verraeterin': 6795, 'corinna': 6796, 'moderatorin': 6797, 'begeisterbar': 6798, 'ausschliesst': 6799, 'setzung': 6800, 'verlaesslicher': 6801, 'verhandlungspa': 6802, 'nachka': 6803, 'eln': 6804, 'sondierzngsgespraechen': 6805, 'stuemper': 6806, 'widersprechen': 6807, 'verlinkten': 6808, 'brandner': 6809, 'ruecklaeufig': 6810, 'milenahanm': 6811, 'gelebt': 6812, 'jayxderxmensch': 6813, 'euere': 6814, 'einseitige': 6815, 'betrachtung': 6816, 'propagandainstitutionen': 6817, 'ajcberlin': 6818, 'oman': 6819, '2deiner': 6820, 'klausu': 6821, 'agung': 6822, 'fragezeichen': 6823, 'erforderlichen': 6824, 'gesundheit': 6825, 'anzugehen': 6826, 'auweia': 6827, 'nachtsitzung': 6828, 'abhandeln': 6829, 'dunkelrot': 6830, 'amtseide': 6831, 'schweinerei': 6832, 'bekloppter': 6833, 'einzureisen': 6834, 'automobilindustrie': 6835, 'schadstoffe': 6836, 'gesetzestreu': 6837, 'technisch': 6838, 'peter2018huber': 6839, 'teflon': 6840, 'spitzname': 6841, 'prallt': 6842, 'laberst': 6843, 'inzucht': 6844, 'jensmeding': 6845, 'initiationritual': 6846, 'kurdischen': 6847, 'hdp': 6848, 'vernetzen': 6849, 'leylaimret': 6850, 'coban95': 6851, 'unterschlagungen': 6852, 'wiegen': 6853, 'bedenke': 6854, 'islamfeie': 6855, '5junx': 6856, 'zusagen': 6857, 'gebrochen': 6858, 'umfallen': 6859, 'postengeilheit': 6860, 'geopolitisches': 6861, 'abwandlung': 6862, 'armutschere': 6863, 'zutun': 6864, 'radikalen': 6865, 'heimschicken': 6866, 'rekruten': 6867, 'rasant': 6868, 'bbc': 6869, 'bbcarabic': 6870, 'atomkraftwerke': 6871, 'winkraftraeder': 6872, 'verschandelung': 6873, 'checken': 6874, 'unterstellungen': 6875, 'vi': 6876, 'uellen': 6877, 'gemeinsamer': 6878, 'internationaler': 6879, 'kraftanstrengung': 6880, 'gebotener': 6881, 'lautesten': 6882, 'jurastud': 6883, 'therapierbar': 6884, 'hube': 6885, 'erstarre': 6886, 'diebstaehle': 6887, 'ausgebildete': 6888, 'mielke': 6889, 'totgelacht': 6890, 'endlose': 6891, 'vorkehrungen': 6892, 'anklagebank': 6893, 'nils': 6894, 'puels': 6895, 'marcobuelow': 6896, 'eint': 6897, 'planeten': 6898, 'universum': 6899, 'milchstrasse': 6900, 'vernachlaessigte': 6901, 'scheidungskinder': 6902, 'brueckentag': 6903, 'reformation': 6904, 'eroeffnung': 6905, 'gerdm4863': 6906, 'erspare': 6907, 'gespieltes': 6908, 'sowenig': 6909, 'nichtdeutsche': 6910, 'welche': 6911, 'polemisch': 6912, 'buergernahe': 6913, 'doppelmoraler': 6914, 'regendelfin': 6915, 'girlies': 6916, 'modell': 6917, 'bluemchen': 6918, 'aufem': 6919, 'enspielplatz': 6920, 'anstellen': 6921, 'endstanden': 6922, 'ferienfreizeit': 6923, 'vielzahl': 6924, 'menschenverachtender': 6925, 'stigmatisierender': 6926, 'rassistischer': 6927, 'potentiell': 6928, 'relevante': 6929, 'zustaendigkeitsdebatten': 6930, 'ausreichender': 6931, 'denunziantenerfahrung': 6932, 'kurses': 6933, 'verbal': 6934, 'jedesmal': 6935, 'getaner': 6936, 'aenderungsantrag': 6937, 'sgo': 6938, 'onkel': 6939, 'renomarky': 6940, 'russiaconnects': 6941, 'senjohnmccain': 6942, 'mccain': 6943, 'erwies': 6944, 'ueberzogener': 6945, 'dreckshaufen': 6946, 'fluechtlingseinrichtungen': 6947, 'intersexuell': 6948, 'maennlein': 6949, 'weiblein': 6950, 'bodygards': 6951, 'verdoppeln': 6952, 'intensitaet': 6953, 'guenter': 6954, 'grass': 6955, 'schnecke': 6956, 'harz': 6957, 'schmeckt': 6958, 'sicherheitsland': 6959, 'ueberwaeltigenden': 6960, 'berni1173': 6961, 'berlinwerbung': 6962, 'hochwichtiges': 6963, 'innenminist': 6964, 'federfuehrend': 6965, 'verbotsverfahren': 6966, 'optimist': 6967, 'hinbekommen': 6968, 'fu': 6969, 'frauenpower': 6970, 'gewissens': 6971, 'aktiven': 6972, 'besetzung': 6973, 'kleber': 6974, 'erstaunt': 6975, 'friedensnobelpreistraeger': 6976, 'ufer': 6977, 'queer': 6978, 'halligalli': 6979, 'verbuenden': 6980, 'jack': 6981, 'promotions': 6982, '430': 6983, 'bc': 6984, 'zuwiederhandlung': 6985, 'botschaftern': 6986, 'oesi': 6987, 'pilz': 6988, 'peterunfried': 6989, 'erklaerungen': 6990, 'cdm': 6991, 'ingwer': 6992, 'muskatnuss': 6993, 'nelken': 6994, 'zusammenstoesse': 6995, 'glaeubigen': 6996, 'sicherheitskraeften': 6997, 'anchuelo': 6998, 'tocotronic': 6999, 'koma': 7000, 'zuckungen': 7001, 'dahinsiechenden': 7002, 'solle': 7003, 'flink': 7004, 'viecher': 7005, 'verhungern': 7006, 'klebt': 7007, 'beginnende': 7008, 'dekubitus': 7009, 'edel': 7010, 'hilfreich': 7011, 'charaktereigenschaften': 7012, 'konzentrieren': 7013, 'einzufordern': 7014, 'investyines': 7015, 'changeger': 7016, 'nichten': 7017, 'ausnahmegerichte': 7018, 'maizire': 7019, 'eckhard': 7020, 'imerika': 7021, 'agitation': 7022, 'schaufeln': 7023, 'zugunsten': 7024, 'fratze': 7025, 'schwierige': 7026, 'kontroverse': 7027, 'weitgehend': 7028, 'professionelle': 7029, 'leaken': 7030, 'wolfgangwerda': 7031, 'ericgiesel': 7032, 'maus': 7033, '67': 7034, 'sozialfaelle': 7035, 'verbitte': 7036, 'scheidungskind': 7037, 'pegidareden': 7038, 'hoerenswe': 7039, 'aufspringen': 7040, 'kamm': 7041, 'scheren': 7042, 'exilschlangi': 7043, 'itsamettworld': 7044, 'drolnegul': 7045, 'octopussietus': 7046, 'gereizt': 7047, 'erschlichen': 7048, 'aufgedeckt': 7049, 'kirchlichen': 7050, 'aufgetreten': 7051, 'verbrecherisch': 7052, 'hochkriminell': 7053, 'geldgierig': 7054, 'muffe': 7055, 'braunhaeutigen': 7056, 'slogan': 7057, 'bunt': 7058, 'bravo': 7059, 'newsphotode': 7060, 'verbrecherstaat': 7061, 'ganoven': 7062, 'richtern': 7063, 'zusammenhaengenden': 7064, 'patricecore': 7065, 'skype': 7066, 'wmda1978': 7067, 'neuzeit': 7068, 'carnolie': 7069, 'anordnungen': 7070, 'sinds': 7071, 'aushebelung': 7072, 'waehlermehrheit': 7073, 'zentralregierung': 7074, 'deusvultkti': 7075, 'mitteilen': 7076, 'pinkel': 7077, 'zwangslaeufig': 7078, 'hirnlos': 7079, 'gejubelt': 7080, 'scheinheiliges': 7081, 'migrantenanteil': 7082, '43': 7083, '37': 7084, 'magn1ficus': 7085, 'beweispflicht': 7086, 'unnoetigen': 7087, 'kiez': 7088, 'afdfraktion': 7089, 'enbw': 7090, 'erneuerbarer': 7091, 'anfangstweet': 7092, 'geschaeftsschluss': 7093, 'verkehrsmitteln': 7094, 'kaefe': 7095, 'viernheim': 7096, 'weinheim': 7097, 'kongo': 7098, 'buergerfreundliche': 7099, 'rausgeschnitten': 7100, 'werwald': 7101, 'halbnigger': 7102, 'bekanntschaft': 7103, 'linkem': 7104, 'bevormundet': 7105, 'warf': 7106, 'sympathie': 7107, 'oberlehrerhaft': 7108, 'shmock': 7109, 'langerbeats': 7110, 'ruder': 7111, 'beschuetzt': 7112, 'welchen': 7113, 'hinausziehen': 7114, 'evangelium': 7115, 'mullahs': 7116, 'steinigen': 7117, 'verrutscht': 7118, 'bo': 7119, 'reset': 7120, 'grundschulsystems': 7121, 'verfluchten': 7122, 'handsockenpuppen': 7123, 'schwingenden': 7124, 'oekoantifafeministinnen': 7125, 'dringlichst': 7126, 'thethomaskatz': 7127, 'imamofpeace': 7128, 'thegreyghostofw': 7129, 'hallal': 7130, 'tierquaelerei': 7131, 'supermaerkte': 7132, 'projekte': 7133, 'pln': 7134, 'familienteil': 7135, 'hoher': 7136, 'befunden': 7137, 'lieferwagen': 7138, 'quote': 7139, 'kuechenschabe': 7140, 'kammerjaeger': 7141, 'verstrahlt': 7142, 'afganen': 7143, 'fusling': 7144, 'drogenhandel': 7145, 'kurier': 7146, 'bruno': 7147, 'burzynski': 7148, 'feuchten': 7149, 'schaeubles': 7150, 'aufkommen': 7151, 'flugzeugfuehrer': 7152, 'herrschaften': 7153, 'handschellen': 7154, 'vehement': 7155, 'nazitaeter': 7156, 'fuehrungsspitze': 7157, 'anstrengend': 7158, 'ueberfordernd': 7159, 'plagt': 7160, 'kriegsgebiet': 7161, 'fuenf': 7162, 'wohltaten': 7163, 'mohammends': 7164, 'palestina': 7165, 'finanziell': 7166, 'eienwahlkampf': 7167, 'eingelullt': 7168, 'mildernde': 7169, 'bruesten': 7170, 'duemmere': 7171, 'ausreicht': 7172, 'staatsanwalt': 7173, 'einzelstaaten': 7174, 'abschiebt': 7175, 'lucius': 7176, 'reiht': 7177, 'nahtlos': 7178, 'biographien': 7179, 'zeig': 7180, 'eliderwanderer': 7181, 'yuma': 7182, 'lein': 7183, 'fakenfinder': 7184, 'dmfreund1': 7185, 'klebend': 7186, 'sitzend': 7187, 'warze': 7188, 'perfektionie': 7189, 'sonderbehandlung': 7190, 'herrenmentalitaet': 7191, 'blitzsieg': 7192, 'niklas': 7193, 'salm': 7194, 'derbe': 7195, 'unmenschlich': 7196, 'find': 7197, 'zuhauf': 7198, 'mobbing': 7199, 'abfaellig': 7200, 'protestie': 7201, 'bahh': 7202, 'bockt': 7203, 'lu': 7204, 'honeychurch': 7205, 'laloeffelstiel': 7206, 'breiter': 7207, 'reterin': 7208, 'istanbul': 7209, 'grossmeister': 7210, 'henhoffgaard': 7211, 'mboe0407': 7212, 'herrschenden': 7213, 'gekrochen': 7214, 'meets': 7215, 'grundreinigung': 7216, 'kinderbildung': 7217, 'juan': 7218, 'carlos': 7219, 'verlaesst': 7220, 'sinkende': 7221, 'schiff': 7222, 'gewusst': 7223, 'nationalstaates': 7224, 'gedemuetigt': 7225, 'thinktankarsch': 7226, 'immo': 7227, 'drehen': 7228, 'stalinisten': 7229, 'grammatikfehler': 7230, 'rotgruenes': 7231, 'doppelmoralistenheuchler': 7232, 'uneingeladene': 7233, 'zwischenfazit': 7234, 'verbissen': 7235, 'buergerkriegen': 7236, 'planen': 7237, 'gierige': 7238, 'aphrabehne': 7239, 'fuhr': 7240, 'enlatschen': 7241, 'kaufte': 7242, 'laetzchen': 7243, 'klecke': 7244, 'fiese': 7245, 'rollen': 7246, 'denkende': 7247, 'faehig': 7248, 'einfo': 7249, 'formie': 7250, 'erkundigt': 7251, 'bekanntgabe': 7252, 'zuruecktreten': 7253, 'aufatmen': 7254, 'strack': 7255, 'arbeitsloser': 7256, 'frechen': 7257, 'erstelle': 7258, 'musikalisches': 7259, 'comedyprogramm': 7260, 'methaphorischer': 7261, 'anspielungen': 7262, 'ludhell123': 7263, 'andreasch': 7264, 'entstanden': 7265, 'eingenommen': 7266, 'abgebogen': 7267, 'signalisie': 7268, 'phrasen': 7269, 'erlaeutern': 7270, 'ue18': 7271, 'staerkste': 7272, 'germania': 7273, 'bewundere': 7274, 'genetik': 7275, 'prinzip': 7276, 'natuerlichen': 7277, 'auslese': 7278, 'antichrist': 7279, 'feuerzangenbowle': 7280, 'aufgeregt': 7281, 'bestsellers': 7282, 'emil': 7283, 'detektive': 7284, 'puenktchen': 7285, 'anton': 7286, 'fliegende': 7287, 'klassenzimmer': 7288, 'kaestner': 7289, 'inszenierung': 7290, 'zuzuschustern': 7291, 'laendersache': 7292, 'bundessache': 7293, 'kommunal': 7294, 'sou': 7295, 'legalisie': 7296, 'launige': 7297, 'breitseiten': 7298, 'kabarettisten': 7299, 'detlev': 7300, 'wischmeyer': 7301, 'gewoehnlich': 7302, 'klagerecht': 7303, 'schwesigraubgeld': 7304, 'linksautonome': 7305, 'prob': 7306, 'kangarooger': 7307, 'deadhunt16': 7308, 'mpeteraltona': 7309, 'udukai2002': 7310, 'linksversifften': 7311, 'stoeckchen': 7312, 'springen': 7313, 'hinhalten': 7314, 'terrorfuerst': 7315, 'yassir': 7316, 'arafat': 7317, 'bediente': 7318, 'demuetigten': 7319, 'eretz': 7320, 'unbenannten': 7321, 'jbuttermilch': 7322, 'taykra': 7323, 'kashrut': 7324, 'speisegesetzen': 7325, 'tiere': 7326, 'tierwohl': 7327, 'reinheit': 7328, 'oberster': 7329, 'shechita': 7330, 'wissenschaft': 7331, 'weggeworfene': 7332, 'schmock': 7333, 'geschminkt': 7334, 'feiglingen': 7335, 'xenophob': 7336, 'inseln': 7337, 'abschiessen': 7338, 'ausreisewilligen': 7339, 'hilflos': 7340, 'jochen': 7341, 'rohrberg': 7342, 'geisteszustand': 7343, 'wasistzeitgeist': 7344, 'gemuetlich': 7345, 'kriegsbilligende': 7346, 'charakterlose': 7347, 'schultchristoph': 7348, 'ergaenzte': 7349, 'transfer': 7350, 'haftungsunion': 7351, 'zonen': 7352, 'budget': 7353, 'realpolitisch': 7354, 'bedeutsamer': 7355, 'zurueckfahren': 7356, 'esm': 7357, 'hihihi': 7358, 'bastelte': 7359, 'blockfloeten': 7360, 'davidsternen': 7361, 'brennen': 7362, 'juedinnen': 7363, 'bedroht': 7364, 'solider': 7365, 'wahnsinnig': 7366, 'beeindruckt': 7367, 'svenheberling': 7368, 'abendfarben': 7369, 'gen': 7370, 'group': 7371, 'udyrsux': 7372, 'fluechtlingsboote': 7373, 'kuestennaehe': 7374, 'torpedieren': 7375, 'sozialschmarotzer': 7376, 'einsatzfaehig': 7377, 'abgesang': 7378, 'urlaubsbilder': 7379, 'schoenreden': 7380, 'zum': 7381, 'luder': 7382, 'schreibverbot': 7383, 'kanackenstadt': 7384, 'kanackenstaat': 7385, 'bischofswerda': 7386, 'maxxbikede': 7387, 'erniedrigend': 7388, 'babel': 7389, 'kauenden': 7390, 'verarschung': 7391, 'gewaltexzesse': 7392, 'wahlsieg': 7393, 'spesen': 7394, 'dierehfeldt': 7395, 'brettl': 7396, 'spitzen': 7397, 'politikkaspar': 7398, 'drueck': 7399, 'glaser': 7400, 'vizepraesident': 7401, 'albe': 7402, 'rivera': 7403, 'gleichnamige': 7404, 'jesuitenpater': 7405, 'schwach': 7406, 'uebernahmen': 7407, 'lizaswelt': 7408, 'vasallenpack': 7409, 'haenge': 7410, '20cm': 7411, 'kommunalpolitik': 7412, 'durcheinander': 7413, 'eigener': 7414, 'herausforderung': 7415, 'vanderbellen': 7416, 'matthiascremer': 7417, 'kickl': 7418, 'amtes': 7419, 'enthoben': 7420, 'pickelplatagen': 7421, 'wuffelchen': 7422, 'kategorien': 7423, 'blindenhund': 7424, 'friedhoefe': 7425, 'sprecht': 7426, '1990ern': 7427, 'balkankonflikt': 7428, 'schueren': 7429, '1920ern': 7430, 'verfassten': 7431, 'pamphlete': 7432, 'vorweg': 7433, 'vermischung': 7434, 'abzielt': 7435, 'herrenrasse': 7436, 'sche': 7437, 'schriftsteller': 7438, 'ebmeyer': 7439, 'schmalzigen': 7440, 'veruntreut': 7441, 'kandidatinnen': 7442, 'wohltat': 7443, 'eufel': 7444, 'eingeschlichen': 7445, 'tippt': 7446, 'schonwieder': 7447, 'privatversiche': 7448, 'einheitsversicherung': 7449, 'therapie': 7450, 'muendige': 7451, 'staatlichen': 7452, 'vormund': 7453, 'nannystaat': 7454, 'heuchelnde': 7455, 'anhaengerin': 7456, 'ny': 7457, 'kurse': 7458, 'unwissend': 7459, 'geschrei': 7460, 'armutszeichen': 7461, 'ueble': 7462, 'ausweisdokumenten': 7463, 'aufgemacht': 7464, 'reisepass': 7465, 'trauerspiel': 7466, 'verfestigt': 7467, 'twitte': 7468, 'phantomschmerz': 7469, 'fehlende': 7470, 'machtgeilheit': 7471, 'zwangen': 7472, 'vaseline': 7473, 'steuerbetrueger': 7474, 'verschwunden': 7475, 'eigentore': 7476, 'verhaenger': 7477, 'lalalalla': 7478, 'lalalallaalla': 7479, 'arroganz': 7480, 'tapfere': 7481, 'bloedies': 7482, 'watschenbaum': 7483, 'ruetteln': 7484, 'shengfui': 7485, 'zustaendiger': 7486, 'entspannt': 7487, 'hunsrueck': 7488, 'steig': 7489, 'baumwipfelpfad': 7490, 'vauban': 7491, 'polygon': 7492, 'schilde': 7493, 'prophetien': 7494, 'deutet': 7495, 'selbsterfuellung': 7496, 'auslandseinsatz': 7497, 'staatsarmeen': 7498, '6x': 7499, 'verlaenge': 7500, 'notstandsgesetze': 7501, 'macbeth0815': 7502, 'dasnoch': 7503, 'nightmanager6': 7504, 'dtpmaker': 7505, 'matthiasfux': 7506, 'kostbar': 7507, 'eidige': 7508, 'liebst': 7509, 'verstaendigt': 7510, 'hecke': 7511, 'pissen': 7512, 'knien': 7513, 'demut': 7514, 'ostfale': 7515, 'dez': 7516, 'streams': 7517, 'berlusconi': 7518, 'kz': 7519, 'aufseher': 7520, 'verglich': 7521, 'fruehen': 7522, 'lecke': 7523, 'arsche': 7524, 'lauf': 7525, 'forrest': 7526, 'hrfernsehen': 7527, 'setz': 7528, 'lorbeerkranz': 7529, 'schmierige': 7530, 'frisur': 7531, 'bestehend': 7532, 'duckmaeusern': 7533, 'hatern': 7534, 'orientierungslose': 7535, 'jugendliche': 7536, 'lotstep1': 7537, 'sezession': 7538, 'woll': 7539, 'weht': 7540, 'draufspuckt': 7541, 'blutmerkel': 7542, 'conny': 7543, 'asf': 7544, 'ulrichsiegmund': 7545, 'realitaetsfernes': 7546, 'geschwafel': 7547, 'landschaften': 7548, 'ausgezeichnete': 7549, 'befindlichen': 7550, 'psychopathin': 7551, 'mfheine': 7552, 'voelkern': 7553, 'aufruft': 7554, 'verwirkt': 7555, 'antirassitisch': 7556, 'vorfuehren': 7557, 'inkompetenteste': 7558, 'bundesamt': 7559, 'eienlandschaft': 7560, 'murksels': 7561, 'thron': 7562, 'udo': 7563, 'juergens': 7564, 'gewandelt': 7565, 'gewiss': 7566, 'heile': 7567, 'asylbetrug': 7568, 'juttambrandt': 7569, 'linksgruenversyphte': 7570, 'messerschwingenden': 7571, 'libanesen': 7572, 'tuerkenabschaum': 7573, 'angetan': 7574, 'unmenschen': 7575, 'quietschen': 7576, 'kanne': 7577, 'asien': 7578, 'reines': 7579, 'heinrichkrug': 7580, 'hinterfotziger': 7581, 'nichtsnuetzigen': 7582, 'hergibt': 7583, 'vorziehen': 7584, 'trauten': 7585, 'abhauen': 7586, 'machtpoker': 7587, 'zuzusehen': 7588, 'stiehlt': 7589, 'lebenszeit': 7590, 'moenche': 7591, 'maedchenblog': 7592, 'chatterinnen': 7593, 'navalnij': 7594, 'hemd': 7595, 'gekauft': 7596, 'slim': 7597, 'schietkrom': 7598, 'dor': 7599, 'sueddeutscher': 7600, 'sprottenbuckel': 7601, 'kurzschwanzdackel': 7602, 'luschet': 7603, 'hlnbg': 7604, 'cdudresden': 7605, 'kritische': 7606, 'mittelmass': 7607, 'jungewelt': 7608, 'direkten': 7609, 'frie': 7610, 'ueberfuellter': 7611, 'innenplatz': 7612, 'christliches': 7613, 'zurueckgeschickt': 7614, 'abfangen': 7615, 'zurueckjagen': 7616, 'teure': 7617, 'schwarzafrikanischen': 7618, 'propagie': 7619, 'gewollten': 7620, 'nobitwt': 7621, 'schuldigen': 7622, 'kopfklara': 7623, 'jazzlover2017': 7624, 'sarrazin': 7625, 'schondie': 7626, 'katastrophalen': 7627, 'beschrieben': 7628, 'kefer83512': 7629, 'tiraden': 7630, 'manipulationspresse': 7631, 'knechtschaft': 7632, 'stirn': 7633, 'insider': 7634, 'aufzuregen': 7635, 'terrorangriffs': 7636, 'telaviv': 7637, 'ido': 7638, 'ben': 7639, 'ari': 7640, 'ilana': 7641, 'naveh': 7642, 'mishaev': 7643, 'wunderbarer': 7644, 'tbe979': 7645, 'bleibende': 7646, 'hinterlaesst': 7647, 'minder': 7648, 'bemitleiden': 7649, 'furor': 7650, 'teutonicus': 7651, 'zurhoellemitmerkel': 7652, 'tiefm66': 7653, 'margareta': 7654, 'gerechtigkeitsmanufaktur': 7655, 'mainstreams': 7656, 'respektieren': 7657, 'brennend': 7658, 'iwf': 7659, 'enteignung': 7660, 'sparer': 7661, 'schumacher': 7662, 'leber': 7663, 'ehmke': 7664, 'shariah': 7665, 'rausschmeissen': 7666, 'durchbruch': 7667, 'koalitions': 7668, 'juchtenkaefer': 7669, 'gerungen': 7670, 'angewendet': 7671, 'alina': 7672, 'stiegler': 7673, 'koloniestaaten': 7674, 'solen': 7675, 'ausgebeutet': 7676, 'burkhardt': 7677, 'integrationsgesetz': 7678, 'hebelt': 7679, 'individuellen': 7680, 'fluechtlingsschutz': 7681, 'bedingung': 7682, 'schuhmacherfr': 7683, 'dumbest': 7684, 'woman': 7685, 'ea': 7686, 'says': 7687, 'source': 7688, 'terrorism': 7689, 'ioandar': 7690, 'gelle': 7691, 'ueblichen': 7692, 'buergschaften': 7693, 'verwandten': 7694, 'maghreb': 7695, 'beamen': 7696, 'waldheidelbeeren': 7697, 'asylantraege': 7698, 'weltweiten': 7699, 'polenboeller': 7700, 'goldjungenfamilien': 7701, 'menschenwuerdiges': 7702, 'dasein': 7703, 'grossreich': 7704, 'gefuehlsdusel': 7705, 'geebnet': 7706, 'bialogard': 7707, 'einzuklinken': 7708, 'verzettelt': 7709, 'nazidiskussionen': 7710, 'herrsche': 7711, 'fallt': 7712, 'vereinigt': 7713, 'dackel': 7714, 'rotti': 7715, 'zdj': 7716, 'iraels': 7717, 'staatsraeson': 7718, 'lebensraeson': 7719, 'realhelmchen': 7720, 'lord': 7721, 'helmchen': 7722, 'herumgebastelt': 7723, 'hographische': 7724, 'grundkenntnisse': 7725, 'berechtigt': 7726, 'hinauszuonanieren': 7727, 'dillerjohann': 7728, 'mett': 7729, 'bilgiliueretmen': 7730, 'defende': 7731, 'magenverkleinerung': 7732, 'dramatischen': 7733, 'existentiellen': 7734, 'ereignisse': 7735, 'sondersendung': 7736, 'pasinelli72': 7737, 'biologische': 7738, 'angeboren': 7739, 'fischblog': 7740, 'mundschutz': 7741, 'xd': 7742, 'motiven': 7743, 'bakkanwahl': 7744, 'fahnenfluechtige': 7745, 'geaechtet': 7746, 'hexe': 7747, 'hughbronson': 7748, 'mephisto966': 7749, 'kadett': 7750, 'pirx': 7751, 'ueberreif': 7752, 'ausmisten': 7753, 'eibuch': 7754, 'fjfstrauss': 7755, 'geheimes': 7756, 'kreuzchen': 7757, 'wahlurne': 7758, 'wuetender': 7759, 'internetkommentar': 7760, 'weitem': 7761, 'points': 7762, 'alpen': 7763, 'porno': 7764, 'rainererichtd': 7765, 'sehn': 7766, 'intoleranz': 7767, 'gegendemos': 7768, 'reinfall': 7769, 'heuchlerin': 7770, 'leberwurst': 7771, 'huehnchenleber': 7772, 'aepfel': 7773, 'thymian': 7774, 'mayoran': 7775, 'zwiebel': 7776, 'saulecker': 7777, 'unwo': 7778, 'bekanntgegeben': 7779, 'waers': 7780, 'tritten': 7781, 'ausgenommen': 7782, 'laengere': 7783, 'ragnar0212': 7784, 'nadsi': 7785, 'obernadsi': 7786, 'wehret': 7787, 'schlusspunkten': 7788, 'bargeld': 7789, 'minuszinsen': 7790, 'ersparnissen': 7791, 'abbuchen': 7792, 'geldabheben': 7793, 'erfuellst': 7794, 'packung': 7795, 'schenke': 7796, 'lauchfreunden': 7797, 'bayerischer': 7798, 'fluechtlingsrat': 7799, 'abschiebungenn': 7800, 'afghanischeraufschrei': 7801, 'protestzelt': 7802, 'afghanistanisnotsafe': 7803, 'grundvoraussetzung': 7804, 'beberlin': 7805, 'bemuehst': 7806, 'gehst': 7807, 'keks': 7808, 'aendere': 7809, 'unterstuetze': 7810, 'nationalitaeten': 7811, 'franzchristia15': 7812, 'budweiser': 7813, 'africhinese': 7814, 'nationale': 7815, 'abstammung': 7816, 'koelnerjeck2018': 7817, 'hameln': 7818, 'neuenhaus': 7819, 'respektvollen': 7820, 'nichtmeinekanzlerin': 7821, 'neujahrsansprache': 7822, 'dumpfbacke': 7823, 'kluger': 7824, 'schachzug': 7825, 'anfreunden': 7826, 'hsvmanu': 7827, 'disasterrider': 7828, 'verbindungen': 7829, 'hergestellt': 7830, 'gurgel': 7831, 'atombomben': 7832, 'klicke': 7833, 'missratenes': 7834, 'blechgesicht': 7835, 'wengerluis': 7836, 'energiewende': 7837, 'schweinswale': 7838, 'nordsee': 7839, 'verkrieche': 7840, 'daunen': 7841, 'bavarianpower': 7842, 'verarsche': 7843, 'durchschauen': 7844, 'kriminel': 7845, 'gesamtgesellschaftliches': 7846, '1vanackeren': 7847, 'marcusweinberg': 7848, 'lebensmuede': 7849, 'klingeln': 7850, 'mikemichaels': 7851, 'kreisvorsitzender': 7852, 'fluechtlingsinitiativen': 7853, 'soziluca': 7854, 'stimmberechtigter': 7855, 'eitagsdelegie': 7856, 'gliederung': 7857, 'migrationspolitischen': 7858, 'demokratiebgemeinschaft': 7859, 'sand': 7860, 'mannes': 7861, 'farbe': 7862, 'demian': 7863, 'ind': 7864, 'polizeibeamte': 7865, 'einzustellen': 7866, 'taxifahrer': 7867, 'trucker': 7868, 'reul': 7869, 'unhaltbar': 7870, 'hervorbringt': 7871, 'hsben': 7872, 'nundig': 7873, 'olivergorus': 7874, 'gebot': 7875, 'hoeflichkeit': 7876, 'manfredbuder': 7877, 'grossmaeuligen': 7878, 'munder': 7879, 'hergespielt': 7880, 'eingeleitet': 7881, 'synodalgerichte': 7882, 'durchgefueh': 7883, 'pontifikalamt': 7884, 'stiftskirche': 7885, 'ercankarakoyun': 7886, 'tiefstem': 7887, 'geradezu': 7888, 'ferkel': 7889, 'ran': 7890, 'elendsfigur': 7891, 'normales': 7892, 'ausschliessl': 7893, 'eufeln': 7894, 'vampiere': 7895, 'scheuen': 7896, 'weihrauch': 7897, 'knoplauch': 7898, 'edwinpalesch': 7899, 'schwebte': 7900, 'notarielle': 7901, 'begleitung': 7902, 'unabhaengigkeits': 7903, 'labereien': 7904, 'oppermann': 7905, 'auffuehren': 7906, 'knallte': 7907, 'server': 7908, 'axtlaenge': 7909, 'mschroeren': 7910, 'argumentieren': 7911, 'jahresproduktion': 7912, '1800': 7913, 'narzisstischen': 7914, 'persoenlichkeitsstoerung': 7915, 'gruenebundestag': 7916, 'nicolemaisch': 7917, 'konstantinnotz': 7918, 'stinktiere': 7919, 'antrete': 7920, 'chefarztbehandlung': 7921, 'normalverbraucher': 7922, 'privatversicherung': 7923, 'jong': 7924, 'backen': 7925, 'zusammenkneifen': 7926, 'luegeafd': 7927, 'diversen': 7928, 'aufsichtsgremien': 7929, 'florian': 7930, 'csumuenchen': 7931, 'spdmuenchen': 7932, 'gruenerathaus': 7933, 'finaler': 7934, 'wasmirwichtigist': 7935, 'rentenniveau': 7936, 'ganztagsschule': 7937, 'kooperationsverbot': 7938, 'zielisch': 7939, 'rrg': 7940, 'mitsamt': 7941, 'isolieren': 7942, 'care': 7943, 'paketflieger': 7944, 'gay20': 7945, 'selbstmord': 7946, 'nachgeladen': 7947, 'huelse': 7948, 'spezialitaet': 7949, 'beruhigend': 7950, 'schwachsinnigere': 7951, 'erderwaermung': 7952, 'politicalcorrectness': 7953, 'einweisen': 7954, 'huebsch': 7955, 'erotisch': 7956, 'ihresgleichen': 7957, 'werke': 7958, 'unfug': 7959, 'veranstaltet': 7960, 'israelbondsnews': 7961, 'lafrahm': 7962, 'gisep': 7963, 'economic': 7964, 'trade': 7965, 'herrlichkeit': 7966, 'koenigreich': 7967, 'zugleich': 7968, 'schoepfer': 7969, 'rat': 7970, 'behausung': 7971, 'nern': 7972, 'rueckenschwimmen': 7973, 'derbrainfucker': 7974, 'friedfe': 7975, 'gegeneinander': 7976, 'ausgespielt': 7977, 'proteste': 7978, 'rausruecken': 7979, 'x9donernesto': 7980, 'taeuschen': 7981, 'affenland': 7982, 'wiklich': 7983, 'besorgte': 7984, 'versus': 7985, '13prozent': 7986, 'wutbuerger': 7987, 'sundownsolution': 7988, 'entnehme': 7989, 'katholikentag': 7990, 'zdkonline': 7991, 'arnorode1967': 7992, 'wackeldackel': 7993, 'esprit': 7994, 'rannte': 7995, 'kaufhaus': 7996, 'schrie': 7997, 'einwanderern': 7998, 'eskalieren': 7999, 'erheben': 8000, 'eingehen': 8001, 'betone': 8002, 'seelen': 8003, 'irreparablen': 8004, 'reginakuepper': 8005, 'kariemuster': 8006, 'asylbochum': 8007, 'ditib': 8008, 'imame': 8009, 'behaelt': 8010, 'einbuergerung': 8011, 'statistischer': 8012, 'aufhellung': 8013, 'vorschein': 8014, 'uneinig': 8015, 'schallende': 8016, 'ohrfeige': 8017, 'davongeflogen': 8018, 'abgaswe': 8019, 'unterschlagen': 8020, 'automotoren': 8021, 'geschummelt': 8022, 'braun23': 8023, 'marktwi': 8024, 'erlebe': 8025, 'erfolgreicher': 8026, 'unterricht': 8027, 'identifikation': 8028, 'rebellieren': 8029, 'gleichbedeutend': 8030, 'irreparable': 8031, 'beate': 8032, 'untaten': 8033, 'blumige': 8034, 'umschreibungen': 8035, 'geheimsprachen': 8036, 'maulkorb': 8037, 'ruhiger': 8038, 'attraktiver': 8039, 'nichthellseins': 8040, 'lieblingskuenstler': 8041, 'hellhaeutig': 8042, 'empfindlich': 8043, 'dunkeldeutsche': 8044, 'kurzmoeglichste': 8045, 'zusammenfassung': 8046, 'sesselfurzer': 8047, 'hinweise': 8048, 'absichtlich': 8049, 'auszufuehren': 8050, 'lichter': 8051, 'demonstrierende': 8052, 'palaestinensischer': 8053, 'eimitglied': 8054, 'beleidigte': 8055, 'boris': 8056, 'tschlze': 8057, 'siegmar': 8058, 'clausstrunz': 8059, 'allerwichtigste': 8060, 'entsorge': 8061, 'bvwattenscheid': 8062, 'vergewaltigungs': 8063, 'beitz': 8064, 'keinen': 8065, 'geografie': 8066, 'lybien': 8067, 'natu': 8068, 'alent1973': 8069, 'anreisen': 8070, 'dumpfnazitum': 8071, 'assis': 8072, 'bruellen': 8073, 'vaterlosen': 8074, 'salafisten': 8075, 'anwerben': 8076, 'kulturpessimismus': 8077, 'takt': 8078, 'tanzen': 8079, 'nullen': 8080, 'wahlzirkus': 8081, 'ungen': 8082, 'ueberwiesen': 8083, 'zerlegt': 8084, 'vergisst': 8085, 'ratschlag': 8086, 'verlorenem': 8087, 'verursacherprinzip': 8088, 'principessamona': 8089, 'schnoesel': 8090, 'sauerkreatur': 8091, 'kanzlers': 8092, 'fxneumann': 8093, 'jungbauerw': 8094, 'ausruf': 8095, 'beobachtungen': 8096, 'joerndehne': 8097, 'entscheidend': 8098, 'spdbt17': 8099, 'sumpf': 8100, 'rueber': 8101, 'younower': 8102, 'assikinder': 8103, 'geregelten': 8104, 'mahlzeiten': 8105, 'tischgebet': 8106, 'hausmusik': 8107, 'fruehspo': 8108, 'enarbeiten': 8109, 'bennosworld': 8110, 'beschreiben': 8111, 'meinungsforschungsinstituten': 8112, 'reffen': 8113, 'maligen': 8114, 'aufgeschmissen': 8115, 'kurdischer': 8116, 'aktivist': 8117, 'abdullah': 8118, '129b': 8119, 'pkk': 8120, 'ausgelegt': 8121, 'unechte': 8122, 'surfen': 8123, 'igtem': 8124, 'argwohn': 8125, 'beaeugten': 8126, 'europawahn': 8127, 'errungenschaft': 8128, 'unten': 8129, 'missgunst': 8130, 'vereint': 8131, 'oliverfabian1': 8132, 'verherrlichen': 8133, 'havermann': 8134, 'ungarns': 8135, 'stemmen': 8136, 'eilte': 8137, 'gleichmacherei': 8138, '2malcs': 8139, 'ararchisten': 8140, 'fernseh': 8141, 'heini': 8142, 'stubenfliege': 8143, 'rauslesen': 8144, 'simonlippe': 8145, 'wahluerfsteine': 8146, 'verschickt': 8147, 'riebener': 8148, 'polizeigewalt': 8149, 'verhaften': 8150, 'ckemfe': 8151, 'hmmm': 8152, 'bestreitet': 8153, 'luecke': 8154, 'kapazitaet': 8155, '20ern': 8156, 'pressehandy': 8157, 'ler': 8158, 'xxbe': 8159, 'ixxneu': 8160, 'walterwolf1': 8161, 'teleherzog': 8162, 'szene': 8163, 'schlesien': 8164, 'pommern': 8165, 'ostpreussen': 8166, 'ossi': 8167, 'gradmesser': 8168, 'bundespolitik': 8169, 'ueberfliegen': 8170, '1979': 8171, 'indentifizierbaren': 8172, 'fahndungs': 8173, 'saeue': 8174, 'laendle': 8175, 'linksrum': 8176, 'hopfen': 8177, 'malz': 8178, 'onnittelut': 8179, 'paketboten': 8180, 'ehefueralle': 8181, 'passende': 8182, 'csdberlin': 8183, 'teilnehmerinnen': 8184, 'comtesolitude': 8185, 'erging': 8186, 'csdwuerzburg': 8187, 'diary': 8188, 'flausensuppe': 8189, 'urlaubstage': 8190, 'moegliche': 8191, 'konstellationen': 8192, 'arbeitnehmer': 8193, 'elektro': 8194, 'electrivenet': 8195, 'mobility': 8196, 'cars': 8197, 'wallraff': 8198, 'deutschhasser': 8199, 'yrerer': 8200, 'konfettischwulenparaden': 8201, 'oezdingens': 8202, 'weggezuechtet': 8203, 'neande': 8204, 'aler': 8205, 'hirnlose': 8206, 'prolle': 8207, 'rapenneke': 8208, 'behinderung': 8209, 'einbahnstrasse': 8210, 'vid': 8211, 'verzicht': 8212, 'jutuber': 8213, 'straftaeter': 8214, 'simbabwe': 8215, 'blaupfeil': 8216, 'aehm': 8217, 'zitieren': 8218, 'zeigst': 8219, 'splitter': 8220, 'bruders': 8221, 'achiles04885165': 8222, 'schiesse': 8223, 'emma': 8224, 'cocos': 8225, 'drecksbande': 8226, 'vogelfrei': 8227, 'freigegeben': 8228, 'derzeitige': 8229, 'geschilde': 8230, 'folgedessen': 8231, 'mitschuld': 8232, 'lukrative': 8233, 'geschaefte': 8234, 'pizza': 8235, 'schweinefleisch': 8236, 'selektie': 8237, 'zeile': 8238, 'codex': 8239, 'wuergen': 8240, 'joleffers': 8241, 'einestages': 8242, 'abgedreht': 8243, 'landespolitiker': 8244, 'langeweile': 8245, '7x7': 8246, 'wasserbett': 8247, 'verstorbenen': 8248, 'november': 8249, 'muenchner': 8250, 'zujubeln': 8251, 'ruma1251': 8252, 'walensee': 8253, 'messerstecher': 8254, 'moechtegernbuergermeister': 8255, 'kuerbislecker': 8256, 'vergesse': 8257, 'fitzelrauspuhl': 8258, 'verhaeltnis': 8259, 'bleiberecht': 8260, 'sabine': 8261, 'selbstherrlichkeit': 8262, 'egomanen': 8263, 'sprecher': 8264, 'wars': 8265, 'kanzlerkandidatur': 8266, 'bewirbt': 8267, 'etlichen': 8268, 'angelegt': 8269, 'intellekt': 8270, 'klimaerwaermung': 8271, 'lokaler': 8272, 'giftausstoss': 8273, 'kraftwerken': 8274, 'industrieanlagen': 8275, 'weitergeben': 8276, 'wickeltisch': 8277, 'aktueller': 8278, 'arabern': 8279, 'ethnischen': 8280, 'trauma': 8281, 'sehnsucht': 8282, 'gewahrsamzelle': 8283, 'arbeitsplattform': 8284, 'compass': 8285, 'star': 8286, 'hoechstgradfreimaurer': 8287, 'gioele': 8288, 'massoni': 8289, 'heul': 8290, 'kirchenbeamter': 8291, 'droege': 8292, 'schwien': 8293, 'suend': 8294, 'buern': 8295, 'sien': 8296, 'ruin': 8297, 'mecklenburgischer': 8298, 'mitmischt': 8299, 'rheinjogger': 8300, 'verdroschen': 8301, 'abwechselnd': 8302, 'durchgehend': 8303, 'uebersehen': 8304, 'datensammlung': 8305, 'steuerpolitik': 8306, 'einkuenfte': 8307, '313': 8308, 'netto': 8309, 'fuehrende': 8310, 'manuskript': 8311, 'mgrossebroemer': 8312, 'gewisser': 8313, 'zurueckholen': 8314, 'potentiellen': 8315, 'gruendlich': 8316, 'gesichtsausdruck': 8317, 'baende': 8318, 'osterweiterung': 8319, 'ritaka9': 8320, 'entmannt': 8321, 'achtwoechige': 8322, 'sondierungsverhandlungen': 8323, 'wagten': 8324, 'uebel': 8325, 'aktionismus': 8326, 'moelzer': 8327, 'einladen': 8328, 'sendern': 8329, 'einseitiges': 8330, 'verfaelschtes': 8331, 'geschichtsbild': 8332, 'hinterherzulaufen': 8333, 'gegenw': 8334, 'schlagwo': 8335, 'gekratzt': 8336, 'redest': 8337, 'umfaellt': 8338, 'blitze': 8339, 'wurd': 8340, 'fruechte': 8341, 'uralter': 8342, 'aerzte': 8343, 'bezahlter': 8344, 'obergrenzen': 8345, 'ueberrennen': 8346, 'infiltriere': 8347, 'refugeswelcome': 8348, 'moskau': 8349, 'lawrow': 8350, 'gezitte': 8351, 'linkespd': 8352, 'pauschalen': 8353, 'marcusbornstell': 8354, 'rspaegean': 8355, 'einmalig': 8356, 'eindeutige': 8357, 'internat': 8358, 'sieben': 8359, 'thomasha': 8360, 'l1968': 8361, 'verfehlt': 8362, 'sechs': 8363, 'aufregender': 8364, 'kommissar': 8365, 'bratka': 8366, 'offeln': 8367, 'schlucken': 8368, 'statuten': 8369, 'ioc': 8370, 'organisatoren': 8371, 'tauft': 8372, 'pharmazeutische': 8373, 'rausnehmen': 8374, 'oberlehrerhaften': 8375, 'bevormundungen': 8376, 'gedaechtniskirche': 8377, 'ausstattung': 8378, 'ordentliche': 8379, 'bezahlung': 8380, 'generalbundesanwalt': 8381, 'aufgestockt': 8382, 'deutschfeinde': 8383, 'reichardt': 8384, 'beschwoe': 8385, 'security': 8386, 'presseve': 8387, 'dphv': 8388, 'voraussetzen': 8389, 'linksgestrickten': 8390, 'realtaetverzer': 8391, 'selfi': 8392, 'klapperschlange': 8393, 'terrarium': 8394, 'ueberarbeitung': 8395, 'regelungen': 8396, 'friedhof': 8397, 'swesen': 8398, 'muehlen': 8399, 'viell': 8400, 'kohls': 8401, 'gaucks': 8402, 'teilzeit': 8403, 'einschliesslich': 8404, 'wahlvolk': 8405, 'vorzuspielen': 8406, 'ahnst': 8407, 'zweifler': 8408, 'zulaesst': 8409, 'bayernspd': 8410, 'nataschakohnen': 8411, 'slogans': 8412, 'schlagwoe': 8413, 'poffer3': 8414, 'theologe': 8415, 'verpruegeln': 8416, 'insofern': 8417, 'deutliche': 8418, 'alters': 8419, 'einzustehen': 8420, 'leichtes': 8421, 'uebergriffe': 8422, 'buergen': 8423, 'schadensfreude': 8424, 'rumdrehen': 8425, 'best': 8426, 'modernes': 8427, 'pressesprecher': 8428, 'redigie': 8429, 'puenkte': 8430, 'mariuswkoehler': 8431, 'beschreibungen': 8432, 'differenz': 8433, 'homogenen': 8434, 'abgeleitet': 8435, 'demokratieverstaendnis': 8436, 'gefuehlsduselei': 8437, 'eingestelltes': 8438, 'wuttraenen': 8439, 'nutella': 8440, 'palmoel': 8441, 'michelin': 8442, 'nachwuchs': 8443, 'zugaenglich': 8444, 'swobodzinski2': 8445, 'angabe': 8446, 'taeterherkunft': 8447, 'aussagekraeftiger': 8448, 'wigkummerle': 8449, 'fettbacke': 8450, 'wiederaufgebaut': 8451, 'schimmel': 8452, 'edelschimmel': 8453, 'gorgonzola': 8454, 'ueberfaellig': 8455, 'erpressung': 8456, 'eingefallen': 8457, '52': 8458, 'sexuell': 8459, 'musste': 8460, 'verzeihen': 8461, 'unerheblichen': 8462, 'tendenziell': 8463, 'linksgerichtete': 8464, 'respektiere': 8465, 'augstein': 8466, 'blome': 8467, 'spiegeln': 8468, 'dekadente': 8469, 'pgegen': 8470, 'bjberlinjournal': 8471, 'mittelbarer': 8472, 'dauerbeleidigte': 8473, 'leberwuerste': 8474, 'satireaffinen': 8475, 'empfehle': 8476, 'ratakaio': 8477, 'oberkanteu': 8478, 'wohlerzogenen': 8479, 'sozialisten': 8480, 'hafenkantedickelippe': 8481, 'raffens': 8482, 'eifach': 8483, 'engels': 8484, 'besucherrekord': 8485, '165': 8486, 'strassenrand': 8487, 'peterroger17': 8488, 'vermittelten': 8489, '13h': 8490, 'mittagsmagazin': 8491, 'jasonwillsonkin': 8492, 'troeste': 8493, 'strassengraben': 8494, 'wetterdienst': 8495, 'hiddensee': 8496, 'flocken': 8497, 'jensfriedmann': 8498, 'geleistet': 8499, 'zoff': 8500, 'aerger': 8501, 'unfaehigen': 8502, 'reflektie': 8503, 'bundesbehoerden': 8504, 'jerusalempost': 8505, 'gegutgeschlecht': 8506, 'allzeit': 8507, 'kult': 8508, 'gefaehrlichen': 8509, 'hetz': 8510, 'gewaltschrift': 8511, 'beruht': 8512, 'freiheitlichen': 8513, 'pech': 8514, 'niveaus': 8515, 'zukommen': 8516, 'alltagsfliege': 8517, 'hopp': 8518, 'hansaplatz': 8519, 'homo': 8520, 'transphobie': 8521, 'idahot': 8522, 'leistungsverweigerungen': 8523, 'verkuerzen': 8524, 'gerechten': 8525, 'ausgleich': 8526, 'strafsteuer': 8527, 'danielbuschman3': 8528, 'ausgewogenheit': 8529, 'bursche': 8530, 'verschwoerungstheorie': 8531, 'bi': 8532, 'hday': 8533, '195': 8534, 'verseuchten': 8535, 'negern': 8536, 'untersucht': 8537, 'heidenau': 8538, 'landesverraetern': 8539, 'rechtsextremisten': 8540, 'zdfmoma': 8541, 'baader': 8542, 'meinhof': 8543, 'visagen': 8544, 'fahndungsplakaten': 8545, 'litfasssaeulen': 8546, 'plakatwaenden': 8547, 'leiten': 8548, 'seitenscheitel': 8549, 'lockenpracht': 8550, 'lauermanfred': 8551, 'gerichtsbarkeit': 8552, 'rivanov5': 8553, 'korruptpolitik': 8554, 'nachdenkt': 8555, 'uraniaberlin': 8556, 'staatssekretaeren': 8557, 'daldrup': 8558, 'gerstle': 8559, 'unterbringung': 8560, 'brosiusrolf': 8561, 'bennih': 8562, 'finanzbetrueger': 8563, 'dummlaberei': 8564, 'ausschweigen': 8565, 'purer': 8566, 'riesiger': 8567, 'zuege': 8568, 'umstand': 8569, 'cern': 8570, 'geoengeneering': 8571, 'iranische': 8572, 'va': 8573, 'definierst': 8574, 'lichtblick': 8575, 'mitteilungen': 8576, 'whatsappen': 8577, 'whatsen': 8578, 'neusprech': 8579, 'mobben': 8580, 'unbequeme': 8581, 'wahrheiten': 8582, 'nannte': 8583, 'asbha': 8584, 'zer4': 8585, 'uff': 8586, 'geschehnissen': 8587, 'wenns': 8588, 'igten': 8589, 'act': 8590, 'gemassregelt': 8591, 'irandeal': 8592, 'gattin': 8593, 'mikrokosmos': 8594, 'naivitaet': 8595, 'zeigte': 8596, 'itscz': 8597, 'uerkaslan': 8598, 'niederlagen': 8599, 'massenmedien': 8600, 'sauereien': 8601, 'falscherer': 8602, 'emotional': 8603, 'schlammmasse': 8604, 'atmosphaerische': 8605, 'subventionie': 8606, 'klatsch': 8607, 'tratsch': 8608, 'intrigen': 8609, 'irrsinnigen': 8610, 'oho': 8611, 'erhaeltliches': 8612, 'nachweise': 8613, 'enabteilung': 8614, 'geleugnet': 8615, 'stimmte': 8616, 'kazuyaittegoya': 8617, 'undemokratische': 8618, '13jahre': 8619, 'gitterstaebe': 8620, 'entsorgten': 8621, 'tonikroos': 8622, 'kroos': 8623, 'drigen': 8624, 'erschreckt': 8625, 'bildes': 8626, 'hannover': 8627, 'dummkoepfe': 8628, 'verbrecherkollegen': 8629, 'opa': 8630, 'ethnische': 8631, 'aufnimmt': 8632, 'ehrenhaft': 8633, 'geschoben': 8634, 'gauckler': 8635, 'cpt': 8636, 'huck': 8637, 'einmal': 8638, 'kreisklasse': 8639, 'finanzverbrecher': 8640, 'drangsalieren': 8641, 'griechische': 8642, 'pferde': 8643, 'katzen': 8644, 'wohnenden': 8645, 'armbinden': 8646, 'pirat': 8647, 'champagner': 8648, 'vollen': 8649, 'ueblen': 8650, 'fluchtnachvorn': 8651, 'stagspa': 8652, 'genner': 8653, 'sparkassaplatz': 8654, 'ol': 8655, 'bezirk': 8656, 'andythebearr': 8657, 'parlamentarisch': 8658, 'huhhhhh': 8659, 'jagst': 8660, 'neverends2017': 8661, 'gleichwe': 8662, 'gleichgeformt': 8663, 'unterschiedlich': 8664, 'boys': 8665, 'flash': 8666, 'muslimischer': 8667, 'zivilgesellschaft': 8668, 'gleichwohl': 8669, 'abgebildeten': 8670, 'darstellung': 8671, 'fragwuerdig': 8672, 'machtmittel': 8673, 'forirene': 8674, 'hms': 8675, 'sealord': 8676, 'hro': 8677, 'verrecken': 8678, 'polizeisachsen': 8679, 'bestandsschutz': 8680, 'buntmenschen': 8681, 'atmen': 8682, 'verspannt': 8683, 'atmende': 8684, 'schultern': 8685, 'massieren': 8686, 'abbekommt': 8687, 'verliehen': 8688, 'abzusehen': 8689, 'zusaetzlichen': 8690, 'vize': 8691, 'nadine': 8692, 'rethorisch': 8693, 'alterfeststellung': 8694, 'zuzugeben': 8695, 'feststellung': 8696, 'antragsablehnung': 8697, 'soenkerix': 8698, 'ezropaeer': 8699, 'abtruennigen': 8700, 'ausueben': 8701, 'landkreis': 8702, 'mecklenburgische': 8703, 'naehe': 8704, 'blankensee': 8705, 'palma07001': 8706, '3ten': 8707, 'rechnet': 8708, 'mengenmaessig': 8709, 'ueberstuerzen': 8710, 'undisziplinie': 8711, 'unterbricht': 8712, 'gespuer': 8713, 'buergerwillen': 8714, 'dawoedmasta': 8715, 'kernseifenloser': 8716, 'hot': 8717, 'dog': 8718, 'ostsee': 8719, 'rundreise': 8720, 'ganzer': 8721, 'geruegter': 8722, 'mitarbeiter': 8723, 'relativismus': 8724, 'abgestumpftheit': 8725, 'noma': 8726, 'wurmt': 8727, 'myrkwaldr': 8728, '34': 8729, 'demokr': 8730, 'adrianohef': 8731, 'guidoreil': 8732, 'arbeitskollegin': 8733, 'migrantenkriminalitaet': 8734, 'einiges': 8735, 'naechstenliebe': 8736, 'rauskommen': 8737, 'stichwo': 8738, 'plasma': 8739, 'glaubenichts': 8740, 'grenzwe': 8741, 'anbetracht': 8742, 'rachefeldzug': 8743, 'werbevideo': 8744, 'ken': 8745, 'evelyn': 8746, 'hecht': 8747, 'galinski': 8748, 'mordet': 8749, 'audiobotschaft': 8750, 'bullterrier': 8751, 'pudel': 8752, '1492': 8753, 'abschiebungszug': 8754, 'aufgesprungen': 8755, 'schreihaelse': 8756, 'produkt': 8757, 'verfehlten': 8758, 'schutzsuchenden': 8759, 'hierbleiben': 8760, 'choolie211': 8761, 'sigiber': 8762, 'wilson20erik': 8763, 'mitverantwo': 8764, 'kursie': 8765, 'jamaikasondierung': 8766, 'bloedelsender': 8767, 'hirnfutter': 8768, 'riss': 8769, 'schuessel': 8770, 'unfaehigste': 8771, 'diesbezueglich': 8772, 'begegnet': 8773, 'schleusern': 8774, 'handwerker': 8775, 'menschenhandel': 8776, 'fataler': 8777, 'verbuendete': 8778, 'durchschalten': 8779, 'bloedmann': 8780, 'schmeissen': 8781, 'haitabu1': 8782, 'heutige': 8783, 'sozialniveau': 8784, 'ohrfeigenabstand': 8785, 'haesslicher': 8786, 'gruseliger': 8787, 'einsetzte': 8788, 'horrorfratze': 8789, 'schoenheit': 8790, 'produktivste': 8791, 'hinzuzufuegen': 8792, 'zimmer': 8793, 'schaffte': 8794, 'schleimen': 8795, 'mrelatan': 8796, 'leugnerin': 8797, 'heldin': 8798, 'krankheitsbild': 8799, 'ilsegott': 8800, 'hausintern': 8801, 'vorermittlungen': 8802, 'einleiten': 8803, 'roland783': 8804, 'unverstaendlich': 8805, 'vordraengeln': 8806, 'regulaerem': 8807, 'maerchenstunde': 8808, 'politi': 8809, 'raubtiere': 8810, 'berlins': 8811, 'lammfell': 8812, 'trott': 8813, 'agieren': 8814, 'zulegen': 8815, 'bmfsfj': 8816, 'haenderingend': 8817, 'ministerium': 8818, 'picadofogo': 8819, 'shiawaseai': 8820, 'dorfpolitiker': 8821, 'drueckte': 8822, 'restle': 8823, 'gespickt': 8824, 'schweinejournalist': 8825, 'offensichtlicher': 8826, 'raubritte': 8827, 'befuechtungen': 8828, 'kubiki': 8829, 'steigbuegel': 8830, 'erhalt': 8831, 'pietaetlos': 8832, 'vorgelebte': 8833, 'verwurzelt': 8834, 'littlewisehen': 8835, 'jubeln': 8836, 'kleingeister': 8837, 'blinde': 8838, 'taube': 8839, 'holly': 8840, 'notarzteinsaetze': 8841, 'hintergrundinformationen': 8842, 'arzteinsatz': 8843, 'ausrichtungen': 8844, 'sunniten': 8845, 'schiiten': 8846, 'rpo': 8847, 'ermittlungen': 8848, 'ermittler': 8849, 'luegner': 8850, 'diffamie': 8851, 'verbleib': 8852, 'klopapier': 8853, 'kirchenmaenner': 8854, 'lohnerhoehung': 8855, 'klingelbeutel': 8856, 'berufenen': 8857, 'vorbehalte': 8858, 'fotografen': 8859, 'freigibt': 8860, 'mans': 8861, 'danielfreyger': 8862, 'tschechei': 8863, 'interessen': 8864, 'archangelblue58': 8865, 'verkrusteten': 8866, 'nieder': 8867, 'fettbaeuchigen': 8868, 'mimimis': 8869, 'newser': 8870, 'carrera': 8871, 'rs': 8872, 'decken': 8873, 'schiebt': 8874, 'stammeln': 8875, 'schummelei': 8876, 'verbraucherinteressen': 8877, 'beluegen': 8878, 'krachenden': 8879, 'ablenken': 8880, 'geiste': 8881, 'pfeifchen': 8882, 'antiisraelische': 8883, 'angeheizt': 8884, 'ritterschlag': 8885, 'heuschreckenschwarm': 8886, 'sueden': 8887, 'leergefressen': 8888, 'makel': 8889, 'verrates': 8890, 'haftet': 8891, 'october': 8892, 'aufbluehen': 8893, 'tennis': 8894, 'zirkus': 8895, 'unsr': 8896, 'kassie': 8897, 'standwithboris': 8898, 'kotel': 8899, 'harhabait': 8900, 'stud': 8901, 'verlinkt': 8902, '286': 8903, 'vermittelt': 8904, 'zensurstaat': 8905, 'sarahgxoxo': 8906, 'daemliches': 8907, 'haesslichste': 8908, 'ueberfluessigste': 8909, 'buffet': 8910, 'servie': 8911, 'entscheidenden': 8912, 'sozialdemokratischste': 8913, 'menus': 8914, 'unionisten': 8915, 'laestern': 8916, 'schmecke': 8917, 'megainfo': 8918, 'qualitaetsjournalismus': 8919, 'wdrinvestigativ': 8920, 'tropfen': 8921, 'gazetten': 8922, 'zurueckgeben': 8923, 'hpstauch': 8924, 'migrantenpack': 8925, 'schafe': 8926, 'manu': 8927, 'mie': 8928, 'windstill': 8929, 'boxhorn': 8930, 'mohrenpost': 8931, 'berlinliebich': 8932, 'didiereribon': 8933, 'bleigiessen': 8934, 'geschmolzen': 8935, 'trolltrip': 8936, 'eingebuchtet': 8937, 'mouhanad': 8938, 'khorchide': 8939, 'kulturzeit': 8940, 'kathrin': 8941, 'ecka': 8942, 'bayerische': 8943, 'rumpe': 8944, 'raeuspe': 8945, 'unternehmer': 8946, 'feindbilder': 8947, 'slomka': 8948, 'hirnlosen': 8949, 'unterste': 8950, 'schublade': 8951, 'wurfschuh': 8952, 'heftigem': 8953, 'schneefall': 8954, 'paarshippen': 8955, 'ueberhand': 8956, 'hinnehmbar': 8957, 'trennung': 8958, 'schlimmere': 8959, 'spielfeld': 8960, 'geschwaenge': 8961, 'schengen': 8962, 'effektiven': 8963, 'grenzschutz': 8964, 'haushaltsdisziplin': 8965, 'mauz': 8966, 'aegidius': 8967, 'maer': 8968, 'unausweichlichen': 8969, 'geschichtswissenschaftlich': 8970, 'widerlegt': 8971, 'meldete': 8972, 'ideologisch': 8973, 'sedona': 8974, 'sammelklagen': 8975, 'apdvng': 8976, 'kommentarem': 8977, 'ringen': 8978, '30h': 8979, 'julianroepcke': 8980, 'waehrenddessen': 8981, 'nordstream2': 8982, 'tolerant': 8983, 'night': 8984, 'sehenswe': 8985, 'kopftuecher': 8986, 'aehnliches': 8987, 'rasierer': 8988, 'antisemitischer': 8989, 'cottbus': 8990, 'geldstrafe': 8991, 'umfassenden': 8992, 'auflagen': 8993, 'nofv': 8994, 'straffrei': 8995, 'svbfce': 8996, 'wutzekopp': 8997, 'nutellaklacks': 8998, 'megaburschi': 8999, 'eva': 9000, 'leisner': 9001, 'behzad': 9002, 'fallahzadeh': 9003, 'bbe': 9004, 'heimatgefuehle': 9005, 'neigt': 9006, 'freierradikaler': 9007, 'annasbackwelt': 9008, 'radikale': 9009, '20174676': 9010, 'begruendet': 9011, 'alteakademiemuc': 9012, 'rekonstruieren': 9013, 'hess': 9014, 'verdeidigungsministerin': 9015, 'stangengirl': 9016, 'truppenbetreuung': 9017, 'versagen': 9018, 'eidigungsministerin': 9019, 'rommel': 9020, 'charr': 9021, 'boxer': 9022, 'sparingspa': 9023, 'wech': 9024, 'manuelcharrr': 9025, 'gehoer': 9026, 'hattet': 9027, 'stadtteil': 9028, 'leeren': 9029, 'unbrauchbares': 9030, 'dieluegenpresse': 9031, 'chor': 9032, 'kumaandrea': 9033, 'blockfloete': 9034, 'blooscr33n': 9035, 'gymnasium': 9036, 'oberstufe': 9037, 'aula': 9038, 'vollbeschaeftigung': 9039, '2025': 9040, 'mcgeiz': 9041, 'politics': 9042, 'vorschlaege': 9043, 'ausdruecklich': 9044, 'zusteht': 9045, 'mitzuwirken': 9046, 'heikoheinisch': 9047, 'teilzeitwinkler': 9048, 'eschleife': 9049, 'rainer42': 9050, 'rechtspolitsch': 9051, 'orientie': 9052, 'feinesahne': 9053, 'kooperie': 9054, 'mitstreiter': 9055, 'belohnung': 9056, 'freispruch': 9057, 'ersichtlich': 9058, 'aufteilung': 9059, 'schutzkategorien': 9060, 'truck': 9061, 'bildern': 9062, 'grenzuebergang': 9063, 'marienborn': 9064, 'bestrahlt': 9065, 'gamma': 9066, 'schmitt4711': 9067, 'wahrscheinlichkeit': 9068, 'europaeisch': 9069, 'gering': 9070, 'kindesalter': 9071, 'eingewande': 9072, 'toeteten': 9073, 'kitzmuller': 9074, 'eingeschlagen': 9075, 'blackhawk3423': 9076, 'gehirngewaschene': 9077, 'kurzer': 9078, 'vorgaukeln': 9079, 'oek': 9080, 'gottesd': 9081, 'festakt': 9082, 'bp': 9083, 'tagoffenenmoschee': 9084, 'verpissen': 9085, 'tagebuch': 9086, 'lehren': 9087, 'wahldebakel': 9088, 'cdusachsen': 9089, 'meldest': 9090, 'zf': 9091, 'deus': 9092, 'vult': 9093, 'ansaetze': 9094, 'spue': 9095, 'ablichten': 9096, 'gruenem': 9097, 'sonderpa': 9098, 'auszaehlung': 9099, 'sanie': 9100, 'geheim': 9101, 'ausgezaehlt': 9102, 'auszuueben': 9103, 'vorstand': 9104, 'generieren': 9105, 'armani': 9106, 'punker': 9107, 'sonnenseite': 9108, 'generoes': 9109, 'hinwegsehen': 9110, 'bildflaeche': 9111, 'prostituieren': 9112, 'calicoskies': 9113, 'gf': 9114, 'kinderfickerei': 9115, 'bekennt': 9116, 'konsens': 9117, 'vielfaeltigen': 9118, 'austro': 9119, 'anzupassen': 9120, 'hats': 9121, 'diemieseehre': 9122, 'symptomatisch': 9123, 'bezeichnend': 9124, 'merkelsche': 9125, 'einhornschloss': 9126, 'enlarvend': 9127, 'wussten': 9128, 'sechzigern': 9129, 'kluge': 9130, 'fussballweltmeister': 9131, 'hoehere': 9132, 'auszeichnung': 9133, 'unterernaeh': 9134, 'ersehnte': 9135, 'unter15': 9136, 'aufregend': 9137, 'denk': 9138, 'kulturell': 9139, 'inkompatible': 9140, 'verbrecherischer': 9141, 'verhaltenskreativ': 9142, 'angesagt': 9143, 'neugeborenen': 9144, 'ernaeh': 9145, 'verstellt': 9146, 'followern': 9147, 'aufbauend': 9148, 'alexf1973': 9149, 'schlaeger': 9150, 'trupps': 9151, 'deutschem': 9152, 'geldpresse': 9153, 'wunschvorstellungen': 9154, 'abgemage': 9155, 'speziell': 9156, 'wahlbetrugsmasche': 9157, 'einzelfallbearb': 9158, 'georgesoros': 9159, 'sputnik': 9160, 'illusionsblase': 9161, 'strategische': 9162, 'riskieren': 9163, 'sauer': 9164, 'ausschnitte': 9165, 'bloedmaenner': 9166, 'besenbinder': 9167, 'aufeinander': 9168, 'schliesse': 9169, 'maximilian': 9170, 'citeecar': 9171, 'nogroko': 9172, 'tuerkeiurlaub': 9173, 'verguenstigungen': 9174, 'wehren': 9175, 'bennympfischer': 9176, 'juedisches': 9177, 'niedergebruellt': 9178, 'letztlich': 9179, 'tafeln': 9180, 'roehre': 9181, 'luxusa': 9182, 'klamotten': 9183, 'rauschmittel': 9184, 'dscheykopp': 9185, 'ecrea': 9186, 'verwoehnt': 9187, 'schultrottel': 9188, 'berndlucke': 9189, 'amnesty': 9190, 'siedlungsbau': 9191, '15tsd': 9192, 'agitatorin': 9193, 'spaceman': 9194, 'rb': 9195, 'zweitinstanzlichen': 9196, 'instanz': 9197, 'italienern': 9198, 'unterschlagung': 9199, 'muesse': 9200, 'zwangsabgaben': 9201, 'bundesverdienstkreuz': 9202, 'envogue': 9203, 'dejtsche': 9204, 'podilein': 9205, 'mufl': 9206, 'rafft': 9207, 'definierbare': 9208, 'sozialistischer': 9209, 'rundumschlag': 9210, 'meinungs': 9211, 'masseneiwanderung': 9212, 'begrenzung': 9213, 'anarchist': 9214, 'einsperren': 9215, 'verschimmeln': 9216, 'sterntv': 9217, 'gesteige': 9218, 'spdnds': 9219, 'stephanweil': 9220, 'ltwnds17': 9221, 'schererchristof': 9222, 'gedankengang': 9223, 'hhoeppe': 9224, 'professor': 9225, 'originalquelle': 9226, 'innern': 9227, 'realisieren': 9228, 'cm': 9229, 'verbundene': 9230, 'maier': 9231, 'mopo': 9232, 'durchgeknallter': 9233, 'brutale': 9234, 'apokalyptische': 9235, 'sondersendungen': 9236, 'ueberschlagen': 9237, 'schlonz58': 9238, 'pkw': 9239, 'rast': 9240, 'menschenmenge': 9241, 'ton': 9242, 'qualitaet': 9243, 'fundamental': 9244, 'zustimmen': 9245, 'lautsprecherei': 9246, 'falschbehauptung': 9247, 'jucken': 9248, 'sanftmuetigkeit': 9249, 'gefaeh': 9250, 'koenigskron': 9251, 'heiligkeit': 9252, 'zepter': 9253, 'barmherzigkeit': 9254, 'stegners': 9255, 'abzuschiebenden': 9256, 'aussetzung': 9257, 'hinterfotzig': 9258, 'verspottung': 9259, '1944': 9260, 'schrift': 9261, 'identisch': 9262, 'populidmus': 9263, 'eritreische': 9264, 'tigrinya': 9265, 'lohnliste': 9266, 'abgerueckt': 9267, 'voreilige': 9268, 'gruselkabinett': 9269, 'hinzu': 9270, 'konntet': 9271, 'zulassen': 9272, 'verrottete': 9273, 'festung': 9274, 'plaedie': 9275, 'sicherung': 9276, 'frontex': 9277, 'bezahlbare': 9278, '2kindern': 9279, 'beansprucht': 9280, 'festlegen': 9281, 'jawohl': 9282, 'ausgrenzer': 9283, 'kotzbrocken': 9284, 'massiver': 9285, 'vorgegangen': 9286, 'piratengeld': 9287, 'zahlt': 9288, 'staatsve': 9289, 'unterschrieben': 9290, 'anfangen': 9291, 'wohne': 9292, 'runtermarsch': 9293, 'pfandflaschen': 9294, 'reisst': 9295, 'wegmachen': 9296, 'mietve': 9297, 'kinderlos': 9298, 'grauen': 9299, 'gefirmt': 9300, 'beanstandet': 9301, 'absahner': 9302, 'refomieren': 9303, 'treuhand': 9304, 'aufleben': 9305, 'helheimer': 9306, 'ernie': 9307, 'rappelkiste': 9308, 'umschaue': 9309, 'nifberlin': 9310, 'professioneller': 9311, 'allmaehlichen': 9312, 'lehnen': 9313, 'alkoholismus': 9314, 'schlug': 9315, 'hurra': 9316, 'mentalitaet': 9317, 'dto': 9318, 'ruecksicht': 9319, 'gewissenlosigkeit': 9320, 'bewaffnung': 9321, 'ralfysen': 9322, 'maennergruppen': 9323, 'ansehe': 9324, 'syr': 9325, 'kuemmerlichen': 9326, 'luegenmaentelchen': 9327, 'beer': 9328, 'privatisierung': 9329, 'rechtstaatlichtkeit': 9330, 'blaukepetry': 9331, 'tyramizou': 9332, 'hippiesugarmama': 9333, 'eingeritten': 9334, 'entkernte': 9335, 'krampfhafter': 9336, 'machterhalt': 9337, 'keifende': 9338, 'realitaetsferne': 9339, 'widerstrebt': 9340, 'verschwendeten': 9341, 'unsummen': 9342, 'ueberwaeltigend': 9343, 'basedheydrich': 9344, 'vollem': 9345, 'umfang': 9346, 'touch': 9347, 'interpretationen': 9348, 'diktion': 9349, 'einigung': 9350, 'gottfriedcurio': 9351, 'paedophil': 9352, 'gierig': 9353, 'machtgeil': 9354, 'ideologisie': 9355, 'hetzerisch': 9356, 'wurzellos': 9357, 'reichsten': 9358, 'erde': 9359, 'mill': 9360, 'rettung': 9361, 'scheite': 9362, 'jameika': 9363, 'familienachzug': 9364, 'gelernte': 9365, 'dhl': 9366, 'gejobt': 9367, 'sass': 9368, 'marionetten': 9369, 'strippenziehern': 9370, 'bundeswehrsoldat': 9371, 'plant': 9372, 'primaer': 9373, 'registrierung': 9374, 'findedenfehler': 9375, 'meetooidioten': 9376, 'gabe': 9377, 'regierungsverantwo': 9378, 'gesellschaftspolitische': 9379, 'minenfeld': 9380, 'frauenbild': 9381, 'anprangern': 9382, 'wolltet': 9383, 'niewieder': 9384, 'arnefrau': 9385, 'life': 9386, 'durchgeknallten': 9387, 'krischkeben': 9388, 'mieseste': 9389, 'witzbold': 9390, 'unheimlich': 9391, 'elsmann': 9392, 'golden': 9393, 'eurasia': 9394, 'hoechstgradmaurer': 9395, 'pain': 9396, 'cfr': 9397, 'trilaterale': 9398, 'com': 9399, 'arbeitsebenen': 9400, 'lizvlx': 9401, 'msulzbacher': 9402, 'eitel': 9403, 'respektlosigkeit': 9404, 'momentanen': 9405, 'jva': 9406, 'franks': 9407, 'uebereinstimmten': 9408, 'geldverdienen': 9409, 'schwieriger': 9410, 'ked': 9411, 'sozialilstich': 9412, 'kommunistische': 9413, 'einheits': 9414, 'deutschlald': 9415, 'hittler': 9416, '4ten': 9417, 'gegenjudenhass': 9418, 'ausloten': 9419, 'mutmasslichen': 9420, 'mitarbeiters': 9421, 'durchgehen': 9422, 'unterlassene': 9423, 'jottes': 9424, 'till': 9425, 'schweiger': 9426, 'grosskotzig': 9427, 'fam': 9428, 'bananen': 9429, 'reisefreiheit': 9430, 'vw': 9431, 'aeppel': 9432, 'fraktionen': 9433, 'matthiasle45': 9434, 'grenzbahnhof': 9435, 'kiefersfelden': 9436, 'verladen': 9437, 'huettemann': 9438, 'sternschnuppen': 9439, 'unerwa': 9440, 'vergluehen': 9441, 'tapferer': 9442, 'etablieren': 9443, 'ueberflug': 9444, 'beten': 9445, 'drahtzieher': 9446, 'hauptprofiteure': 9447, 'staunen': 9448, 'richtersprueche': 9449, 'konsequente': 9450, 'massnahme': 9451, 'pauschalisierungen': 9452, 'jugendkammer': 9453, 'jugendstrafrecht': 9454, 'ruinie': 9455, 'erschwe': 9456, 'abschiebelager': 9457, 'institutionalisie': 9458, 'alg': 9459, 'geschah': 9460, 'gewaltandrohung': 9461, 'gefuehlte': 9462, 'schwesterpa': 9463, 'glyphopsat': 9464, 'unwuerdig': 9465, 'faehnchen': 9466, 'ministerposten': 9467, 'abzubekommen': 9468, 'spielball': 9469, 'jufopa': 9470, 'danken': 9471, 'zuckersuessen': 9472, 'fatimas': 9473, 'verharmlosend': 9474, 'turnschuh': 9475, 'beginnen': 9476, 'jahrzehnten': 9477, 'angebots': 9478, 'hadi': 9479, 'riedel': 9480, 'gruenehd': 9481, 'verrueckten': 9482, 'scheiter': 9483, 'einheitspa': 9484, 'spoe': 9485, 'oevp': 9486, 'neos': 9487, 'einknicken': 9488, 'frauenfeindlichen': 9489, 'differenzen': 9490, 'kritikunfaehiger': 9491, 'fluechtlingskinder': 9492, 'obiger': 9493, 'protests': 9494, 'doctorpuppe': 9495, 'rest2050': 9496, '365tageschulz': 9497, 'versuchmachtklug': 9498, 'wuerdet': 9499, 'emotionsgeschwafel': 9500, 'luegenbrut': 9501, 'ablaesst': 9502, 'monika': 9503, 'menschendie': 9504, 'irgendeinem': 9505, 'knecht': 9506, 'stefanux23': 9507, 'unvereinbarkeitsbeschluss': 9508, 'koalieren': 9509, 'rauhputzwand': 9510, 'gezerre': 9511, 'zwangsgemeinschaft': 9512, 'frauenbeauftragter': 9513, 'erog': 9514, 'leidtragenden': 9515, 'juppi2806': 9516, 'dicken': 9517, 'zubleiben': 9518, 'streife': 9519, 'klitschko': 9520, 'retourkampf': 9521, 'antritt': 9522, 'joshua': 9523, 'schonen': 9524, 'umhauen': 9525, 'missachtung': 9526, 'gastgebern': 9527, 'gelohnt': 9528, 'gollwitzer': 9529, 'nosystemcarlo': 9530, 'rueckstandslos': 9531, 'groessenwahnsinnige': 9532, 'geschlosenen': 9533, 'zimmerkonze': 9534, 'veranstalten': 9535, 'hingelaufen': 9536, 'bordesholm': 9537, 'mitgliederehrungen': 9538, 'sverein': 9539, 'kreisvorsitzenden': 9540, 'landesvorstand': 9541, 'besprechen': 9542, 'kommunalwahl': 9543, 'beamter': 9544, 'protestierenden': 9545, 'uebers': 9546, 'stau': 9547, 'raeumt': 9548, 'mussweg': 9549, 'probier': 9550, 'baeumen': 9551, 'faden': 9552, 'historisches': 9553, 'praeziser': 9554, 'wohlmeinende': 9555, 'irritie': 9556, 'spardiktat': 9557, 'kriegsbeteiligungen': 9558, 'grosskotzige': 9559, 'visstgoerdetont': 9560, 'twitterkommentare': 9561, 'abreise': 9562, 'saftige': 9563, 'tracht': 9564, 'pruegel': 9565, 'gutenberg': 9566, 'tranliteration': 9567, 'bildausschnitt': 9568, 'ueberzeugen': 9569, 'leser': 9570, 'neeeein': 9571, 'blockier': 9572, 'meinungsfreihheit': 9573, 'einzuschraenken': 9574, 'trafe': 9575, 'kopprepo': 9576, 'konzern': 9577, 'gerard': 9578, 'hups': 9579, 'juedischer': 9580, 'sregister': 9581, 'hohlmantell': 9582, 'geschoss': 9583, 'reisewarnung': 9584, 'grundlose': 9585, 'nazivergleiche': 9586, 'gehoere': 9587, 'bilde': 9588, 'transpo': 9589, 'gelegt': 9590, 'bedingt': 9591, 'sozialkassen': 9592, 'eingehend': 9593, 'auseinandersetzen': 9594, 'sorgst': 9595, 'andernfalls': 9596, 'verendet': 9597, 'widerstandslos': 9598, 'schwi': 9599, 'ansicht': 9600, 'profils': 9601, 'unserr': 9602, 'goenner': 9603, 'verriet': 9604, 'nigeria': 9605, 'glaeubige': 9606, 'verunglimpft': 9607, 'deklarie': 9608, 'darstellen': 9609, 'offizier': 9610, 'spezialeinheit': 9611, 'safran': 9612, 'bandista': 9613, 'ega': 9614, '1060': 9615, 'tickets': 9616, 'erloes': 9617, 'erbittet': 9618, 'gegenseitiger': 9619, 'zulassung': 9620, 'faeden': 9621, 'brzezinsky': 9622, 'fiel': 9623, 'ungnade': 9624, 'erwaehnte': 9625, 'graue': 9626, 'eminenz': 9627, 'traeum': 9628, 'undemokratisch': 9629, 'landesverrat': 9630, 'volksentscheidung': 9631, 'waehlerwille': 9632, 'tikkrosa': 9633, 'argumentfreie': 9634, 'apologeten': 9635, 'groehlen': 9636, 'anheizende': 9637, 'appelle': 9638, 'offizieller': 9639, 'feiste': 9640, 'hoegl': 9641, 'schutzberechtigten': 9642, 'extremistischen': 9643, 'buddhisten': 9644, 'geschundenen': 9645, 'zurueckhaltung': 9646, 'greuel': 9647, 'pontifex': 9648, 'urspruenglich': 9649, 'camps': 9650, 'platzt': 9651, 'konsulate': 9652, 'wirkich': 9653, 'zdfinfo': 9654, 'kaputtgelogen': 9655, 'demokratiefaehig': 9656, 'auslandsgesellschaft': 9657, 'steinstrasse': 9658, 'immunitaet': 9659, 'ablauf': 9660, 'vonnmerkel': 9661, 'eurogegner': 9662, 'dolmetschen': 9663, 'staen': 9664, 'paul77306629': 9665, 'rudimentaersten': 9666, 'absatz': 9667, 'textes': 9668, 'way': 9669, 'seitseid': 9670, 'vermutung': 9671, 'hinauslaeuft': 9672, 'destabilisieren': 9673, 'tsunami': 9674, 'reaktoren': 9675, 'megateuren': 9676, 'endloser': 9677, 'ph1664068': 9678, 'phone': 9679, 'wasserdicht': 9680, 'ip67': 9681, 'tpcom': 9682, 'nobelundfrei': 9683, 'deltafiveecho': 9684, 'einwickelt': 9685, 'akifsahinde': 9686, 'derz': 9687, 'beklopft': 9688, 'genderfluid': 9689, 'befinden': 9690, 'brasilianer': 9691, 'grusel': 9692, 'technikextreme': 9693, 'auswaehlen': 9694, 'aimanmazyek': 9695, 'othmanmoschee': 9696, 'dummerchen': 9697, 'thomalla': 9698, 'bundespolizei': 9699, 'mannheim': 9700, 'action': 9701, 'ilegalisie': 9702, 'hilfsarbeiter': 9703, 'gebrauchten': 9704, 'laptop': 9705, 'gespa': 9706, 'adobe': 9707, 'illustrator': 9708, 'tutorials': 9709, 'lischka': 9710, 'triefender': 9711, 'story': 9712, 'parallelgesellschaft': 9713, 'ppinternational': 9714, 'hingewiesen': 9715, 'strache': 9716, 'ziegenba': 9717, 'genosse': 9718, 'stuetzen': 9719, 'mikadoelefant': 9720, 'menora': 9721, 'allgemeine': 9722, 'spezielle': 9723, 'chanukkia': 9724, 'jurgenpresser': 9725, 'marvinoppong': 9726, 'leyla': 9727, 'zana': 9728, 'traegerin': 9729, 'sakharovprize': 9730, 'abgeordnetenmandat': 9731, 'ep': 9732, 'president': 9733, 'guyverhofstadt': 9734, 'giannipittella': 9735, 'gabizimmermep': 9736, 'manfredweber': 9737, 'hdpenglish': 9738, 'heidihautala': 9739, 'mfaturkey': 9740, 'nrwmensch': 9741, 'katholisch': 9742, 'ekd': 9743, 'irrenhaus': 9744, 'miami': 9745, 'strandhaus': 9746, 'schenkt': 9747, 'hurensoehne': 9748, 'diensthabenden': 9749, 'ohnmacht': 9750, 'nachtblind': 9751, 'uebermuedet': 9752, 'disco': 9753, 'muede': 9754, 'fundamentalistische': 9755, 'obe': 9756, 'rottel': 9757, 'geleuteter': 9758, 'arnachist': 9759, 'verbogen': 9760, 'pfad': 9761, 'weges': 9762, 'wagte': 9763, 'derjenigen': 9764, 'trollaccount': 9765, 'reinfallen': 9766, 'konkotenko': 9767, 'bestehende': 9768, 'triq': 9769, 'aufklaerungsprojekte': 9770, 'machbar': 9771, 'tjpino': 9772, 'realitaetsverlust': 9773, 'traumtaenzer': 9774, 'zuletzt': 9775, 'yugobetrugo48': 9776, 'goenn': 9777, 'freaks': 9778, 'beitrag': 9779, 'viiiiiel': 9780, 'fc': 9781, 'geschritten': 9782, 'mittelstand': 9783, 'ezb': 9784, 'straeuben': 9785, 'unterbunden': 9786, 'spitzenmann': 9787, 'schimpfwo': 9788, 'beschneidet': 9789, 'globaldefence': 9790, 'asozialer': 9791, 'gelingt': 9792, 'anwaelten': 9793, 'immobilienmakler': 9794, 'autorinnen': 9795, 'mitzuarbeiten': 9796, 'rubriken': 9797, 'hinzunehmen': 9798, 'prosit': 9799, 'neujahr': 9800, 'pfeiffer': 9801, 'glotzen': 9802, 'zerstreuende': 9803, 'strengt': 9804, 'spielchen': 9805, 'rspctfl': 9806, 'yarmulke': 9807, 'fremde': 9808, 'scheinheilige': 9809, 'westens': 9810, 'gemeinsames': 9811, 'trennendes': 9812, 'fuehlte': 9813, 'randalierer': 9814, 'entstandenen': 9815, 'abarbeiten': 9816, 'heran': 9817, 'bewaehrungsstrafen': 9818, 'reichsbuergern': 9819, 'gesteckt': 9820, 'pe': 9821, 'aufrichtiger': 9822, 'instandsetzen': 9823, 'nachruesten': 9824, 'elektronischen': 9825, 'anderweitig': 9826, 'dunklen': 9827, 'hochsicherheitsunternehmen': 9828, 'schweizer': 9829, 'faradayschen': 9830, 'kaefig': 9831, 'eitagsauftakt': 9832, 'moll': 9833, 'jubel': 9834, 'aufsparen': 9835, 'last': 9836, 'code': 9837, 'kabbalisten': 9838, 'andersherum': 9839, 'machtverlust': 9840, 'rotschwarze': 9841, 'pruegelt': 9842, 'integrationskursen': 9843, 'zentraleres': 9844, 'fluegelkaempfe': 9845, 'gefaehrliche': 9846, 'voelkischen': 9847, 'fluegel': 9848, 'afdbpt17': 9849, 'noeoeoeoeoeoe': 9850, 'doepfner': 9851, 'vitales': 9852, 'etappe': 9853, 'eimer': 9854, 'kaltstellten': 9855, 'taetigkeit': 9856, 'ungslosen': 9857, 'lippenbekenntis': 9858, 'derislamnervt': 9859, 'bewahrheitet': 9860, 'nebenrolle': 9861, 'zugewiesen': 9862, 'wirds': 9863, 'fahrraeder': 9864, 'putzen': 9865, 'hinutner': 9866, 'umarme': 9867, 'singe': 9868, 'lullaby': 9869, 'methode': 9870, 'autisten': 9871, 'bedeutungsloseste': 9872, 'widerlichsten': 9873, 'ehren': 9874, 'ausgerottet': 9875, 'nikolauspaket': 9876, 'eilungs': 9877, 'schuldenunion': 9878, 'investitonen': 9879, 'institutionen': 9880, 'verschleppen': 9881, 'reformen': 9882, 'verschieben': 9883, 'schwaechen': 9884, 'nikolaus': 9885, 'strick': 9886, 'enbesprechung': 9887, 'noway': 9888, 'rangoo': 9889, 'zerstoererische': 9890, 'entfalten': 9891, 'vereinigungen': 9892, 'judenfeindlicher': 9893, 'streiter': 9894, 'islamfeindlich': 9895, 'agitieren': 9896, 'harz4': 9897, 'mittelschicht': 9898, 'tonne': 9899, 'nachrichtensperre': 9900, 'verhaengt': 9901, 'tschuess': 9902, 'vorboten': 9903, 'quaelende': 9904, 'gestaltet': 9905, 'titanvacht': 9906, 'dnovemberkind': 9907, 'amadeu': 9908, 'abteilung': 9909, 'durchsuchen': 9910, 'entgegenkommend': 9911, 'terminwuensche': 9912, 'beniboller1': 9913, 'sammelt': 9914, 'aufgewachte': 9915, 'votie': 9916, 'schlaumeier': 9917, 'nachgedacht': 9918, 'jury': 9919, 'ger': 9920, 'esc2016': 9921, 'geheuchelt': 9922, 'strangelove666': 9923, 'autoindustrie': 9924, 'herd': 9925, 'tagespolitik': 9926, 'kraefte': 9927, 'schmierereien': 9928, 'windschatten': 9929, 'vormarsch': 9930, 'wehrhafte': 9931, 'premiere': 9932, 'livestream': 9933, 'twitterde': 9934, 'il50d': 9935, 'jugendwiderstand': 9936, 'palaestinensischen': 9937, 'distanzie': 9938, 'schreit': 9939, '11freunde': 9940, 'damalige': 9941, 'waehrung': 9942, 'steherfuernenzweier': 9943, 'oberlehrern': 9944, 'barnett': 9945, 'angestrebten': 9946, 'stoph': 9947, 'derwahreerich': 9948, 'honeckermargot': 9949, 'ddroffiziell': 9950, 'akchefredaktion': 9951, 'netzt': 9952, 'spiessrutenl': 9953, '2min': 9954, '78': 9955, 'watson': 9956, 'sauerstoffmangel': 9957, 'geistiger': 9958, 'beeintraechtigungen': 9959, 'liberaldemokratisches': 9960, 'scheel': 9961, 'eipolitische': 9962, 'egoismus': 9963, 'beschaedigt': 9964, 'frass': 9965, 'imbiss': 9966, 'buden': 9967, 'muselmanen': 9968, 'bude': 9969, 'entfolgen': 9970, 'groessenwahnsinnig': 9971, 'matschbirne': 9972, 'magengeschwuere': 9973, 'carlos09381249': 9974, 'ungeziefer': 9975, 'ern': 9976, 'nordbayern': 9977, 'nn': 9978, 'kantine': 9979, 'karlawagner13': 9980, 'familienfragen': 9981, 'familienfreundlich': 9982, 'bessere': 9983, 'alleinstehende': 9984, 'treblinka': 9985, 'sobibor': 9986, '50er': 9987, 'dunkelflauten': 9988, 'verkehrsfunk': 9989, 'geisterfahrer': 9990, 'abbiegen': 9991, 'arbeitsgruppen': 9992, 'koalitionsgespraeche': 9993, 'bspw': 9994, 'groesster': 9995, 'nachbar': 9996, 'skoerzell': 9997, 'einzureden': 9998, 'asche': 9999, 'ltsh': 10000, 'uebersiedeln': 10001, 'klimaschuetzer': 10002, 'geschwindigkeitsbeschraenkung': 10003, 'flieger': 10004, 'falschangewandter': 10005, 'ueberhoe': 10006, 'fussballspieler': 10007, 'bliebe': 10008, 'strafrechtlichen': 10009, 'relevanz': 10010, 'schaftsmafia': 10011, 'whipstock': 10012, 'denkend': 10013, 'slawischen': 10014, 'verfuegend': 10015, 'betreffen': 10016, 'fraumensing': 10017, 'grauer': 10018, 'gezwungen': 10019, 'unterschlagungs': 10020, 'deppo0128': 10021, 'troeten': 10022, 'abgeschworen': 10023, 'zurueckgezogen': 10024, 'flheche': 10025, 'textbeitrag': 10026, 'farce': 10027, 'zler': 10028, 'kreisen': 10029, 'gewichtung': 10030, 'richtungs': 10031, 'stimmungs': 10032, 'weisend': 10033, 'huuuuuuuuuu': 10034, 'entglitten': 10035, 'gesichtszuege': 10036, 'maeulchenfalten': 10037, 'verschwanden': 10038, 'furchtbaren': 10039, 'schiesserei': 10040, 'orlando': 10041, 'intl': 10042, 'vous': 10043, 'pouvez': 10044, 'nous': 10045, 'suivre': 10046, 'pour': 10047, 'anglais': 10048, 'sur': 10049, 'komments': 10050, 'faek': 10051, 'scheisssprache': 10052, 'heimkehrer': 10053, 'auswurf': 10054, 'gesunden': 10055, 'menschenverstands': 10056, 'amris': 10057, 'liche': 10058, 'schuldiger': 10059, 'gemueter': 10060, 'besaenftigt': 10061, 'urlaubsvideos': 10062, 'ars': 10063, '1zu1': 10064, 'gebetsmuehlena': 10065, 'aufrufe': 10066, 'trotzen': 10067, 'wirksam': 10068, 'vorzugehen': 10069, 'seltsamer': 10070, 'schutzberechtigte': 10071, 'griechenl': 10072, 'laufenden': 10073, 'zusammenfuehrung': 10074, 'zusammenhalten': 10075, 'feldprediger': 10076, 'gefolgschaft': 10077, 'nerd': 10078, 'raywiggel': 10079, 'humorlos': 10080, 'diaamohammedali': 10081, 'lover': 10082, 'katzenbilder': 10083, 'schlage': 10084, 'lektuere': 10085, 'humanitaere': 10086, 'verlegt': 10087, 'ostgrenzen': 10088, 'friedensbedrohung': 10089, 'drachenlord': 10090, 'anstaendiger': 10091, 'yoh': 10092, 'vorauseilender': 10093, 'gehorsam': 10094, 'resultie': 10095, 'unberechenbaren': 10096, 'boesewicht': 10097, 'kante': 10098, 'oesis': 10099, 'kastrie': 10100, 'dummvolk': 10101, 'patentingenieur': 10102, 'banalisieren': 10103, 'unterbrechen': 10104, 'faehigen': 10105, 'majuja28121': 10106, 'auferlegtes': 10107, 'million': 10108, 'haustuerbesuchen': 10109, 'km': 10110, 'reiserobby': 10111, 'nazifreunde': 10112, 'eilungen': 10113, 'bedraengnis': 10114, 'hinauszuwachsen': 10115, 'wb': 10116, 'bezahl': 10117, 'bitteren': 10118, 'elendige': 10119, 'lego': 10120, 'schul': 10121, 'forder': 10122, 'aeltestenrat': 10123, 'landtagssitzung': 10124, 'medientermine': 10125, 'nachmittags': 10126, 'luebeck': 10127, 'ihk': 10128, 'plagiaten': 10129, 'fuehrungspositionen': 10130, 'noob5a1bot': 10131, 'hauptseite': 10132, 'zwietracht': 10133, 'pfarrerinnen': 10134, 'pfarrern': 10135, '65': 10136, 'lebensjahr': 10137, 'eroe': 10138, 'unruhe': 10139, 'ausloesen': 10140, 'sprachlich': 10141, 'erkenne': 10142, 'mielkes': 10143, 'amateurfunker': 10144, 'freigesprochen': 10145, 'vonto': 10146, 'whynonews': 10147, 'ludkethomas': 10148, 'matthiesenuwe': 10149, 'politundjournalienabschaum': 10150, 'luegensender': 10151, 'nordhausenfrank': 10152, 'goslar': 10153, 'posener': 10154, 'weigere': 10155, 'ernste': 10156, '140': 10157, 'derorient': 10158, 'tendenzioes': 10159, 'volontaerin': 10160, 'vorgeworfen': 10161, 'teaser': 10162, 'autors': 10163, 'mottenkiste': 10164, 'niederlegen': 10165, 'einbringen': 10166, 'schalburg1': 10167, 'geschriebenen': 10168, 'wutmama': 10169, 'tilojung': 10170, 'wissenswe': 10171, 'nullnummer': 10172, 'synodal': 10173, 'gemeindeordnung': 10174, 'lebenspa': 10175, 'angeglichen': 10176, 'blanker': 10177, 'horror': 10178, 'verliess': 10179, 'funke': 10180, 'sachlichkeit': 10181, 'erdgeschoss': 10182, 'fettarsch': 10183, 'durchbricht': 10184, '0815lucky0815': 10185, 'denunziantenniveau': 10186, 'zumal': 10187, 'fing': 10188, 'linksversifftgute': 10189, 'wegzublocken': 10190, 'wasserwerfer': 10191, 'gedeihen': 10192, 'bewaessern': 10193, 'loescht': 10194, 'resistent': 10195, 'kruzifixnochmal': 10196, 'abususu': 10197, 'duenn': 10198, 'ruestungsexpo': 10199, 'jemen': 10200, 'unhoeflich': 10201, 'abgegeben': 10202, 'patchwork': 10203, 'redaktion': 10204, 'wichtigste': 10205, 'angreifer': 10206, 'verhuellten': 10207, 'nachlassen': 10208, 'missstaende': 10209, 'zig1000': 10210, 'chorherr': 10211, 'wkogler': 10212, 'hochgeschwindigkeitszuege': 10213, 'kontinentalfluege': 10214, 'cop': 10215, 'gezaehlt': 10216, 'reduktion': 10217, 'treibhausgasen': 10218, 'entscheidungsunfaehigen': 10219, 'anarchistenfreunliche': 10220, 'united': 10221, 'europakonzept': 10222, 'assimilie': 10223, 'schoepfend': 10224, 'zurueckhaltend': 10225, 'finanzadel': 10226, 'spottet': 10227, 'beschreibung': 10228, 'kreuzung': 10229, 'kreuze': 10230, 'simple': 10231, 'staunt': 10232, 'dokumente': 10233, 'nopgy': 10234, 'cebu': 10235, 'lest': 10236, 'compact': 10237, 'ausgiebigen': 10238, 'tagdesehrenamts': 10239, 'demnach': 10240, 'gehalt': 10241, 'niederlaender': 10242, 'frosch': 10243, 'innenpolitisch': 10244, 'immun': 10245, 'reizgas': 10246, 'spotifyde': 10247, 'spotify': 10248, 'angemessen': 10249, 'erzieherische': 10250, 'massnahne': 10251, 'kommies': 10252, 'braunkohlestrom': 10253, 'dreikoepfige': 10254, 'zelle': 10255, 'homegrown': 10256, 'terrororganisation': 10257, 'staendigen': 10258, 'verharmlosungen': 10259, 'verniedlichungen': 10260, 'uschungen': 10261, 'weihwasser': 10262, 'altpapier': 10263, 'schrott': 10264, 'beginnend': 10265, 'gluehender': 10266, 'sozialdemokrat': 10267, 'gigantischer': 10268, 'raffzahn': 10269, 'logische': 10270, 'menschendiebstahl': 10271, 'vom': 10272, 'husseink': 10273, 'brutalst': 10274, 'ermorde': 10275, 'publik': 10276, 'refcrime': 10277, 'staatsgetreu': 10278, 'endlosschleife': 10279, 'aussaetziger': 10280, 'stastssender': 10281, 'elende': 10282, 'gefakter': 10283, 'rhetorische': 10284, 'nationalstaat': 10285, 'helmutholter': 10286, 'dlfbildung': 10287, 'bildungth': 10288, 'runtergefahren': 10289, 'antiautaere': 10290, 'erziehungslehre': 10291, 'widersetzen': 10292, 'boeller': 10293, 'plastikflaschen': 10294, 'mitdemonstrierende': 10295, 'standen': 10296, 'werfenden': 10297, 'ordner': 10298, 'gerettete': 10299, 'lybischen': 10300, 'kueste': 10301, 'abgeholte': 10302, 'italienischen': 10303, 'booten': 10304, 'schlapp': 10305, 'heplev': 10306, 'unwiderruflich': 10307, 'april2017': 10308, 'bevorzuge': 10309, 'mcimcmiller': 10310, 'twinnz4you': 10311, 'opfernazigewalt': 10312, 'fatih': 10313, 'akin': 10314, 'solingen': 10315, '192': 10316, 'todesopfer': 10317, 'verstoss': 10318, 'amts': 10319, 'hervorragend': 10320, 'holte': 10321, 'almosen': 10322, 'schaeussle': 10323, 'foxvsbadger': 10324, 'quasi': 10325, 'machtgerangel': 10326, 'tramp': 10327, 'trampel': 10328, 'quaken': 10329, 'geissel': 10330, 'falle': 10331, 'muedigkeit': 10332, 'rwschmidt1': 10333, 'untragbar': 10334, 'regenbogenfahnen': 10335, 'derzeit': 10336, 'wehen': 10337, 'strackjoshua': 10338, 'bibelanwalt': 10339, 'weitestgehend': 10340, 'titulieren': 10341, 'beaengstigend': 10342, 'kritikern': 10343, 'mainstream': 10344, 'jkcork76': 10345, 'uuuuuunnnnd': 10346, 'isser': 10347, 'hyperintelligente': 10348, 'differenzierer': 10349, 'negroider': 10350, 'taetlichkeiten': 10351, 'muslems': 10352, 'aufgeloest': 10353, 'viktoriastr': 10354, 'brause': 10355, 'zischen': 10356, 'verweist': 10357, 'quatrofinia': 10358, 'gesegnet': 10359, 'zaehe': 10360, 'unkrautwurzel': 10361, 'hanniblecktor': 10362, 'di': 10363, 'yharry112': 10364, 'betroffenheitsperspektive': 10365, 'zusammenhaenge': 10366, 'beweismaterial': 10367, 'sonderbericht': 10368, 'ahnen': 10369, 'minen': 10370, 'setzten': 10371, 'hetzkampagne': 10372, 'aufforde': 10373, 'zurueckzukehren': 10374, 'gesuehnt': 10375, 'eutschfeindliche': 10376, 'befehl': 10377, 'spu': 10378, 'natalia': 10379, 'hasskick': 10380, 'schaarsevi': 10381, 'bessermenschen': 10382, 'fruchtfliege': 10383, 'killst': 10384, 'fach': 10385, 'narzissmus': 10386, 'seelenleben': 10387, 'hassenden': 10388, 'subsidaerer': 10389, 'achtelfinale': 10390, 'freundchen': 10391, 'meckerst': 10392, 'steinigung': 10393, 'piratenfrank': 10394, 'ueberlasse': 10395, 'mirapi': 10396, 'gerry': 10397, 'grantler': 10398, 'strotzt': 10399, 'teilt': 10400, 'menschenrechtskonventionen': 10401, 'verschissenen': 10402, 'rage': 10403, 'insolvenz': 10404, 'duerften': 10405, 'dessau': 10406, 'gedachten': 10407, 'todes': 10408, 'handvoll': 10409, 'boellerwuerfe': 10410, 'blieb': 10411, 'gegenkundgebung': 10412, 'ueberraschung': 10413, 'vorbestrafter': 10414, 'pournette': 10415, 'plenarwoche': 10416, 'fdpbt': 10417, 'landwi': 10418, 'senkung': 10419, 'beitragssatzes': 10420, 'arbeitslosenversicherung': 10421, 'fluechtlingsnachwuchs': 10422, 'rechtspopulistischen': 10423, 'schwe': 10424, 'moench': 10425, 'ritters': 10426, 'gustl': 10427, 'mollath': 10428, 'anrichten': 10429, 'margot': 10430, 'kaessmann': 10431, 'friedich': 10432, 'delius': 10433, 'adel': 10434, 'tawila': 10435, 'deskutie': 10436, 'margarete': 10437, 'fehlgesteue': 10438, 'mut': 10439, 'leichtsinn': 10440, 'zerstrittene': 10441, 'aufwe': 10442, 'klaeren': 10443, 'wievielte': 10444, '4te': 10445, 'mlp': 10446, 'officiel': 10447, 'ant': 10448, 'baudino': 10449, 'doenerwetter': 10450, 'oberlippe': 10451, 'schmuddelsex': 10452, 'spinne': 10453, 'herpes': 10454, 'selbstekel': 10455, 'kinderfernsehzeit': 10456, 'panische': 10457, 'schafteten': 10458, 'untergebutte': 10459, 'nminkmar': 10460, 'schmidtlepp': 10461, 'hauptsachguddgess': 10462, 'anniklose': 10463, 'fluchtrouten': 10464, 'begraben': 10465, 'aufmerksamkeit': 10466, 'eure': 10467, 'unveraende': 10468, 'vernunftbueger': 10469, 'migrantenkinder': 10470, 'belgien': 10471, 'neuaubing': 10472, 'verlass': 10473, 'wacht': 10474, 'moechtet': 10475, 'toechter': 10476, 'gepampe': 10477, 'zugpferde': 10478, 'saemtlicher': 10479, 'islamlobbys': 10480, 'wespe': 10481, 'gedeckten': 10482, 'mittags': 10483, 'plage': 10484, 'zusammensetzung': 10485, 'insbes': 10486, 'mrohrlack': 10487, 'unterschieden': 10488, 'polizeibeamten': 10489, 'schwachen': 10490, 'veruntreuung': 10491, 'ausgangspost': 10492, 'gba': 10493, 'bgh': 10494, 'asylantenterror': 10495, 'eingebrockt': 10496, 'despoten': 10497, 'bosporus': 10498, 'jahrelang': 10499, 'hofie': 10500, 'praes': 10501, 'kuenstler': 10502, 'sec': 10503, 'schuesse': 10504, 'verboetchen': 10505, 'ausgeweitet': 10506, 'einsatzbesprechung': 10507, 'schichtantritt': 10508, 'interne': 10509, 'benoetigst': 10510, 'realitaetsfern': 10511, 'terrorisieren': 10512, 'abkriegt': 10513, 'teamkenfm': 10514, 'nachdenkseiten': 10515, 'orwell': 10516, 'unendlich': 10517, 'gefolge': 10518, 'leitfigur': 10519, 'diederich': 10520, 'hessling': 10521, 'mittelmeer': 10522, 'verlagern': 10523, 'berufserfahrung': 10524, 'qoutenweiber': 10525, 'sozenversenken': 10526, 'haustuer': 10527, 'suaheli': 10528, 'germanisch': 10529, 'vermischen': 10530, 'wirgegenhomophobie': 10531, 'homophobie': 10532, 'dold': 10533, 'wolfhansen': 10534, 'gemeines': 10535, 'zombie': 10536, 'wiederlegbar': 10537, 'dshsdm': 10538, 'wattesprech': 10539, 'hoepfner': 10540, 'kleinzureden': 10541, 'langfristig': 10542, 'gebrandmarkt': 10543, 'netzagentur': 10544, 'niente': 10545, 'beitrittserklaerungen': 10546, 'zukuenftig': 10547, 'pfarrer': 10548, 'pfarrerin': 10549, 'kirchenvorstand': 10550, 'scheinst': 10551, 'vakuum': 10552, 'vamudara': 10553, 'studt': 10554, 'hohensyburg': 10555, 'mistercassutty': 10556, 'draengen': 10557, 'onkeljurgen': 10558, 'musketier': 10559, 'roliseadweller': 10560, 'zuende': 10561, 'shabbat': 10562, 'shalom': 10563, 'verquere': 10564, 'vorfaellen': 10565, 'spielbericht': 10566, 'selbe': 10567, 'diktatorisches': 10568, 'integrationsunwillige': 10569, 'hemmschuh': 10570, 'journalienbande': 10571, 'kapie': 10572, 'polizeizelle': 10573, 'vors': 10574, 'zweifelhaften': 10575, 'umstaenden': 10576, 'rechtfe': 10577, 'igung': 10578, 'schuettelt': 10579, 'joernk24': 10580, 'thedare79': 10581, 'pornos': 10582, 'strafung': 10583, 'weitgehende': 10584, 'kommunitaeten': 10585, 'vorzulegen': 10586, 'cock4ndpussy': 10587, 'zahlung': 10588, 'kleebank': 10589, 'regierungsbeteiligung': 10590, 'berechtigte': 10591, 'vermehren': 10592, 'stinkende': 10593, 'beduinen': 10594, 'entfernung': 10595, 'hinterruecks': 10596, 'hinterhaeltig': 10597, 'wehrlose': 10598, 'weiterzuleben': 10599, 'freddy2805': 10600, 'amchade': 10601, 'strafgesetzbuch': 10602, 'sensiblen': 10603, 'anzeigt': 10604, 'grandios': 10605, 'lovewins': 10606, 'extremist': 10607, 'frohen': 10608, 'faehiges': 10609, 'eheformulare': 10610, 'umkleiden': 10611, 'teams': 10612, 'enplaetze': 10613, 'hinterhergeworfen': 10614, 'trinke': 10615, 'zaeh': 10616, 'leder': 10617, 'trinkt': 10618, 'renaturie': 10619, 'honeckermaessig': 10620, 'alimentieren': 10621, 'laetacara': 10622, 'sebroloff': 10623, 'maggi': 10624, 'mitbringen': 10625, 'gedroht': 10626, 'aersche': 10627, 'einfaeltig': 10628, 'verseucht': 10629, 'ruestung': 10630, 'kriegsgebiete': 10631, 'vereinsrecht': 10632, 'strafen': 10633, 'aberkennung': 10634, 'gemaeht': 10635, 'radler': 10636, 'zunge': 10637, 'wasserdampf': 10638, 'wasse': 10639, 'emperatur': 10640, 'scheinasylanten': 10641, 'huelle': 10642, 'pingu': 10643, 'vergangener': 10644, 'bindet': 10645, 'objektiven': 10646, 'sr': 10647, 'biancalee1671': 10648, 'este': 10649, 'albastone72': 10650, 'scheinheiliger': 10651, 'ausserrandundband': 10652, 'verkaufst': 10653, 'heiner': 10654, 'geissler': 10655, 'boom': 10656, 'jarnsaxxa': 10657, 'aufzaehlung': 10658, 'faellen': 10659, 'verbuesst': 10660, 'folter': 10661, 'antidemkratisch': 10662, 'nt': 10663, 'aufgehetzt': 10664, 'gotteslaesterung': 10665, 'lautete': 10666, 'karrikaturen': 10667, 'motorenhalle': 10668, 'riesa': 10669, 'efau': 10670, 'hineingesteue': 10671, 'lachnummer': 10672, 'grob': 10673, 'leide': 10674, 'leidenschaft': 10675, 'gothic': 10676, 'gelbes': 10677, 'smiley': 10678, 'shi': 10679, 'schwaerme': 10680, 'agt': 10681, 'bewaffneten': 10682, 'uniformie': 10683, 'marke': 10684, 'fundamentaler': 10685, 'hinterzogenen': 10686, 'cubanische': 10687, 'familienzusammensetzung': 10688, 'vermutungen': 10689, 'schaetzungen': 10690, 'ursprungstweet': 10691, 'prinzessinnen': 10692, 'klitzekleine': 10693, 'tippfehler': 10694, 'postvonheute': 10695, 'hieroncode': 10696, 'lebendige': 10697, 'staerkend': 10698, 'gewandt': 10699, 'anzettelt': 10700, 'opfe': 10701, 'thomasmichael71': 10702, 'tobiasgroeflin': 10703, 'floriancaliebe': 10704, 'amazon': 10705, 'jeffbezos': 10706, 'bewerben': 10707, 'ueberm': 10708, 'zusammenschlagen': 10709, 'serioeser': 10710, 'oesterland': 10711, 'my': 10712, 'bekloppt': 10713, 'teddys': 10714, 'waszumelden': 10715, 'schonlaengerhierlebende': 10716, 'kleinzuhalten': 10717, 'lebensunterhalt': 10718, 'vati': 10719, 'aufreisst': 10720, 'timeforchange': 10721, 'gleichheit': 10722, 'neo': 10723, 'ku': 10724, 'klux': 10725, 'klan': 10726, 'gleichgesetzt': 10727, 'christianlueth': 10728, 'umerziehungs': 10729, 'bayrischen': 10730, 'fluechtlingsrats': 10731, 'abschiebungsflug': 10732, 'voraussicht': 10733, 'tschmitz': 10734, 'sorosgeldern': 10735, 'beschlagnahmt': 10736, 'psychopathisch': 10737, 'stuhlgang': 10738, 'kingsalman': 10739, 'gesteinigt': 10740, 'nationalisten': 10741, 'sommerloch': 10742, 'kissmann': 10743, 'katarinabarley': 10744, 'heulsusen': 10745, 'zeitnah': 10746, 'bach': 10747, 'kr': 10748, 'th0': 10749, 'hodoxe': 10750, 'eliyahhavemann': 10751, 'juedisch': 10752, 'papagei': 10753, 'durchseuchtes': 10754, 'legitiemer': 10755, 'anstaendig': 10756, 'sudetendeutsche': 10757, 'leichten': 10758, 'bauch': 10759, 'verabscheut': 10760, 'hauptschueler': 10761, 'ueberlegenheit': 10762, 'akademikers': 10763, 'fuegt': 10764, 'huether': 10765, 'kh': 10766, 'paque': 10767, 'angelamerkel': 10768, 'fnfreiheit': 10769, 'verpruegelt': 10770, 'stromerzeuger': 10771, 'tsunamigefahr': 10772, 'zweierlei': 10773, 'igwigg': 10774, 'kanzel': 10775, 'mc': 10776, 'bpol': 10777, 'beschwerliche': 10778, 'rueckflug': 10779, 'hofmann1983': 10780, 'ajm162k9': 10781, 'skooma': 10782, 'postenjaeger': 10783, 'fckerdogan': 10784, 'erdoganthebutcher': 10785, 'erdoganistderhass': 10786, 'csendc': 10787, 'geniess': 10788, 'georgsglauben': 10789, 'main': 10790, 'kuerzlich': 10791, 'ciao': 10792, 'sehnlicher': 10793, 'schwachkoepfen': 10794, 'baerendeutscher': 10795, 'kaiueberfeld': 10796, 'verstaerkt': 10797, 'sunna': 10798, 'antijudaismus': 10799, 'muhammad': 10800, 'thegrandtour': 10801, 'raddiradditski': 10802, 'radkult': 10803, 'radverkehr': 10804, 'des': 10805, 'jued': 10806, 'maedchens': 10807, 'anzweifelt': 10808, 'abgesegneten': 10809, 'bureg': 10810, 'nebel': 10811, 'einfliegt': 10812, 'hauptschulabschluss': 10813, 'fluechtlingsinis': 10814, 'schulungen': 10815, 'friedensmission': 10816, 'westliche': 10817, 'hinbekommt': 10818, 'strassenfestes': 10819, 'abschottung': 10820, 'akt': 10821, 'bonne': 10822, 'schnitt': 10823, 'nano': 10824, 'technologie': 10825, 'wehleidiger': 10826, 'dorfbuergermeister': 10827, 'wasserwerke': 10828, 'kommunalpolitiker': 10829, 'dolmetschte': 10830, 'spitzenpolitiker': 10831, 'trank': 10832, 'heilung': 10833, 'thorodinsondr': 10834, 'wildespess': 10835, 'fluegeln': 10836, 'religioten': 10837, 'abu': 10838, 'shaitan': 10839, 'knaagi': 10840, 'imer669': 10841, 'abfinden': 10842, 'buntgemischter': 10843, 'textilien': 10844, 'ollimoe': 10845, 'besorgt': 10846, '1974': 10847, '1988': 10848, 'idealismus': 10849, 'monheim': 10850, 'gemeinen': 10851, 'aufrichtige': 10852, 'ausmassen': 10853, 'vorbehaltlos': 10854, 'flicklgruber': 10855, 'zwangsverheiratet': 10856, 'gulagexpress': 10857, 'sibirische': 10858, 'wuenschesaraziendentod': 10859, 'canselk': 10860, 'freika': 10861, 'heucheln': 10862, 'lauro': 10863, 'doc': 10864, 'profiluegnern': 10865, 'subsidaer': 10866, 'geschuetzen': 10867, 'irrsinnig': 10868, 'pressemitteilung': 10869, 'hinterhogen': 10870, 'ausgelesen': 10871, 'bigott': 10872, 'viki': 10873, 'viktoriastrasse': 10874, 'solilimo': 10875, 'antiterror': 10876, 'uebung': 10877, 'dilettanten': 10878, 'soniamikich': 10879, 'dynamisch': 10880, 'unkonventionell': 10881, 'pimpf': 10882, 'schmach': 10883, 'gellis18': 10884, 'gedaechtnis': 10885, 'plattheiten': 10886, 'suffschaedel': 10887, 'tolerieren': 10888, 'schlimmeres': 10889, 'privatsache': 10890, 'strafgesetz': 10891, 'kuppelei': 10892, 'selbstreflexion': 10893, 'fasst': 10894, 'narzisstisch': 10895, 'schweinepriester': 10896, 'exfrau': 10897, 'standard': 10898, 'tagesaktuelle': 10899, 'netzweisheiten': 10900, 'barmherzigen': 10901, 'ehrenmitglied': 10902, 'ernannt': 10903, 'erfuellen': 10904, 'neueste': 10905, 'dance': 10906, 'human': 10907, 'rights': 10908, 'sauladen': 10909, 'ffm': 10910, 'bucklig': 10911, 'geschenkpaket': 10912, 'terroristenzeitalter': 10913, 'christelmett': 10914, 'rueckfuehren': 10915, 'besitz': 10916, 'aberkennen': 10917, 'steuergeld': 10918, 'radekzak7': 10919, 'nytimes': 10920, 'unholy': 10921, 'relationships': 10922, 'with': 10923, 'kremlin': 10924, 'hirnerweichender': 10925, 'faschistischer': 10926, 'stromrechnung': 10927, 'alternativenergie': 10928, 'pr': 10929, 'fckoeln': 10930, 'vflbochum1848ev': 10931, 'tipico': 10932, 'mittels': 10933, 'positionierung': 10934, 'berufslose': 10935, 'drogenabhaengige': 10936, 'eingenistet': 10937, 'dein': 10938, 'tacheles': 10939, 'waffenexpo': 10940, 'ausloeser': 10941, 'fluchtbewegungen': 10942, 'misereor': 10943, 'zweitfrau': 10944, 'sultans': 10945, 'beherrschen': 10946, 'einerkai': 10947, 'haltloser': 10948, 'wohlfuehl': 10949, 'einrichtung': 10950, 'hohem': 10951, 'einnahmequelle': 10952, 'angedichtete': 10953, 'meistbietend': 10954, 'sysyphus58': 10955, 'wahrgenommen': 10956, 'kippa': 10957, 'unnoetige': 10958, 'einklagt': 10959, 'salonfaehigen': 10960, 'kieler': 10961, 'landeshaus': 10962, 'station': 10963, 'kreisverbaende': 10964, 'kommunalwahlen': 10965, 'iaamesse': 10966, 'beruehmte': 10967, 'haraldrostock': 10968, 'aufbuerden': 10969, 'blarryofficial': 10970, 'selektion': 10971, 'anschaue': 10972, 'dungsbuerger': 10973, 'erbsengrossen': 10974, 'hirnen': 10975, 'luegnerin': 10976, 'diskussionsrunden': 10977, 'internetforum': 10978, 'twitterview': 10979, 'web': 10980, 'altmodisch': 10981, 'prima': 10982, 'altgediente': 10983, 'schwachsinngealte': 10984, 'goldener': 10985, 'geparkt': 10986, 'ueberrascht': 10987, 'isz': 10988, 'lappen': 10989, 'prueft': 10990, 'ueberwachte': 10991, 'honeckers': 10992, 'acount': 10993, 'noah': 10994, 'kaygottschalk1': 10995, 'clemenswergin': 10996, 'mathieuvonrohr': 10997, 'regierungsvie': 10998, 'els': 10999, 'nucleardoc123': 11000, 'reichelt': 11001, 'platzeck': 11002, 'zofften': 11003, 'mangelnde': 11004, 'traf': 11005, 'schrecklich': 11006, 'lieschenmutzel1': 11007, 'fernsehn': 11008, 'bestet': 11009, 'schneidercar': 11010, 'groesseren': 11011, 'klausmu97675009': 11012, 'wahrhaft': 11013, 'gezimme': 11014, 'abgehaengt': 11015, 'kosmetischen': 11016, 'behandlung': 11017, 'unterzogen': 11018, 'kosmetikerin': 11019, 'wurzel': 11020, 'sprichwoe': 11021, 'staatshilfe': 11022, 'fluechtlingsheim': 11023, 'kindesmissbrauch': 11024, 'stoerungen': 11025, 'capellan': 11026, 'johnnyvcaffine': 11027, 'vorausgesagt': 11028, 'islamterror': 11029, 'madrid': 11030, 'politidioten': 11031, 'steffi2105': 11032, 'schwesig': 11033, 'krawallmacher': 11034, 'stinker': 11035, 'anwaltsgelaber': 11036, 'justizreform': 11037, 'offenen': 11038, 'bedient': 11039, 'gegenzug': 11040, 'schmie': 11041, 'quer': 11042, 'waldbericht': 11043, 'waldsterben': 11044, 'ueberwunden': 11045, 'nachhaltigkeit': 11046, 'schaftlichkeit': 11047, 'bilanz': 11048, 'hope': 11049, 'no1': 11050, 'oberhaupt': 11051, 'junges': 11052, 'dynamisches': 11053, 'geschichtsunsinn': 11054, 'surdum': 11055, 'berge': 11056, 'laechelt': 11057, 'intelligenter': 11058, 'profraika': 11059, 'pipapopipifax': 11060, 'vorzimmerdame': 11061, 'rplantiko': 11062, 'nachschauen': 11063, 'ausgaben': 11064, 'nachgeworfen': 11065, 'erstausgabe': 11066, 'teuerste': 11067, 'umgerchnet': 11068, '250': 11069, 'erstaunlich': 11070, 'herzlichst': 11071, 'pisser': 11072, 'laenderein': 11073, 'ultras': 11074, 'durchgegriffen': 11075, 'juristen': 11076, 'rentnerin': 11077, 'hauptberufliche': 11078, 'geistliches': 11079, 'brandstifter': 11080, 'tarnen': 11081, 'gesellschaftlich': 11082, 'kracht': 11083, 'zynisch': 11084, 'stinkstiefel': 11085, 'unruhestifter': 11086, 'gutbezahlten': 11087, 'angeprange': 11088, 'fruehwein': 11089, 'beinah': 11090, '3021': 11091, 'kritiken': 11092, 'eidigungsmin': 11093, 'umstands': 11094, 'uniformen': 11095, 'ju': 11096, 'ausgewaehlte': 11097, 'munde': 11098, 'einheitsmeinung': 11099, 'zahnarzt': 11100, 'goedde': 11101, 'faekalien': 11102, 'wiederholung': 11103, 'gemeinschmutziger': 11104, 'gewagt': 11105, 'tendentioes': 11106, 'inzest': 11107, 'einwanderungsgeschichte': 11108, 'englands': 11109, 'voelkerwahn': 11110, 'aufrechtzuerhalten': 11111, 'eingeschraenktem': 11112, 'geritzten': 11113, 'kondolie': 11114, 'ausgehen': 11115, 'auszuhebeln': 11116, 'buchmesse': 11117, 'philipp': 11118, 'ther': 11119, 'friedman': 11120, 'getriebenen': 11121, '30uhr': 11122, 'weltempfang': 11123, 'halle': 11124, 'getue': 11125, 'flugzeugen': 11126, 'schiffsdieseln': 11127, 'meeren': 11128, 'quotenmusel': 11129, 'hell': 11130, 'platte': 11131, 'infamen': 11132, 'altpolitiker': 11133, 'observie': 11134, 'bordell': 11135, 'club': 11136, 'terroristenratgeber': 11137, 'mutmassungen': 11138, 'san': 11139, 'begnuegen': 11140, 'wohngruppen': 11141, 'wechselnden': 11142, 'rassismuskeule': 11143, 'friedlichsten': 11144, 'denizyuecel': 11145, 'panzergeschaeften': 11146, 'befleckt': 11147, 'etwaigen': 11148, 'guelen': 11149, 'rambonelli': 11150, 'gewaltbereit': 11151, 'gegenueb': 11152, 'pfahler': 11153, 'parlamentarischen': 11154, 'ablaeufen': 11155, 'mitgliedsstruktur': 11156, 'vielfaeltig': 11157, 'glaeubig': 11158, 'volksherrschaft': 11159, 'georgmeckler': 11160, 'grossfamilie': 11161, 'ausgestattete': 11162, 'herrenmenschen': 11163, 'siesindgefeue': 11164, 'mediale': 11165, 'leutz': 11166, 'wunschdenken': 11167, 'zigtausende': 11168, 'gespraechskreis': 11169, 'finanzen': 11170, 'bundesrat': 11171, 'grundsteuer': 11172, 'almans': 11173, 'app': 11174, 'rossman': 11175, 'old': 11176, 'shool': 11177, 'brauchten': 11178, 'einkaufszettel': 11179, 'model': 11180, 'brust': 11181, 'genitalbereich': 11182, 'eierstoecke': 11183, 'gebaermutter': 11184, 'westfunker': 11185, 'formt': 11186, 'zivilisation': 11187, 'safe': 11188, 'zweimaliger': 11189, 'blender': 11190, 'lobbyvereinigungen': 11191, 'euractiv': 11192, 'referenden': 11193, 'sitzungen': 11194, 'vorzubereiten': 11195, 'selbstbewusste': 11196, 'eigenstaendige': 11197, 'intensiver': 11198, 'andersglaeubig': 11199, 'immigrant': 11200, 'vorletzten': 11201, 'blamage': 11202, 'moegl': 11203, 'konflikt': 11204, 'verscherbeln': 11205, 'inhaltlichen': 11206, 'ruecksichtnahme': 11207, 'bayernplans': 11208, 'rothenburgso': 11209, 'elbseparee': 11210, 'neujahresempfang': 11211, 'schmidtchen': 11212, 'talk': 11213, 'ausgetraeumt': 11214, 'zerlegen': 11215, 'remondis': 11216, 'preiserhoehungen': 11217, 'miese': 11218, 'winterdienst': 11219, 'enricopomsel': 11220, 'eibasis': 11221, 'durchgesetzten': 11222, 'wiederfinden': 11223, 'bronx': 11224, 'fbrantner': 11225, 'stabilitaet': 11226, 'atze': 11227, 'atzig': 11228, 'carenlay': 11229, 'stadtbautzen': 11230, 'gehauen': 11231, 'korrektus': 11232, 'geflohen': 11233, 'afghane': 11234, 'auftauchen': 11235, 'tagtaeglich': 11236, 'taliban': 11237, 'zivilist': 11238, '19chichi40': 11239, 'alleingang': 11240, 'ritz': 11241, 'hinausgeht': 11242, 'durchfall': 11243, 'frauentoiletten': 11244, 'angstfrei': 11245, 'urania': 11246, 'merkeltollhaus': 11247, 'anprange': 11248, 'mehrfachen': 11249, 'selbverstaendlichkeit': 11250, 'betonen': 11251, 'lbl': 11252, '953858918761029632': 11253, 'extremisten': 11254, 'alevit': 11255, 'siegfried175': 11256, 'bingo': 11257, 'hauptpreis': 11258, 'gefuehle': 11259, 'weihnachtsfeie': 11260, 'reinke': 11261, 'drecksmigranten': 11262, 'erzeuger': 11263, '85igsten': 11264, 'ic': 11265, 'sondersitzung': 11266, 'jahrestages': 11267, 'elysee': 11268, 'rages': 11269, 'korrekte': 11270, 'maxmusil': 11271, 'afdverohz': 11272, 'niederlange': 11273, 'auftreten': 11274, 'haag': 11275, 'potus': 11276, 'eingeladen': 11277, 'genaue': 11278, 'festgesetzt': 11279, 'vollzeitterroristen': 11280, 'ruf': 11281, 'hilfsjobber': 11282, 'hinweist': 11283, 'erstochen': 11284, 'homosexuelle': 11285, 'gejagt': 11286, 'bestialische': 11287, 'aufwacht': 11288, 'reformieren': 11289, 'brandmelder': 11290, 'christophmach': 11291, 'auweh': 11292, 'raten': 11293, 'antragssteller': 11294, 'zugesprochen': 11295, 'bekamen': 11296, 'dummdaemliche': 11297, 'hinterlistig': 11298, 'schnueffeln': 11299, 'umfunktionie': 11300, 'ermutigende': 11301, 'besetzten': 11302, 'eimit': 11303, 'kiefel': 11304, 'velosa': 11305, 'silva': 11306, 'georgi': 11307, 'giebeler': 11308, 'schoenherr': 11309, 'gastes': 11310, 'nibelungenheld': 11311, 'programmieren': 11312, 'stress': 11313, 'rocknproll': 11314, 'eindruecke': 11315, 'verarbeiten': 11316, 'gaenge': 11317, 'software': 11318, 'vorschriften': 11319, 'hinterfotzige': 11320, 'ausnahmefaellen': 11321, 'schminken': 11322, 'begrifflichkeiten': 11323, 'gegenkandidat': 11324, 'obamaregierung': 11325, 'chstenzel': 11326, 'antjeschippmann': 11327, 'hansvehlewald': 11328, 'jugendpresse': 11329, 'ilpo16': 11330, 'michaelstuerzi': 11331, 'geringste': 11332, 'beleidigtsein': 11333, 'beleidigungsparagraphen': 11334, 'klarem': 11335, 'deuten': 11336, 'obsiegt': 11337, 'wuetend': 11338, 'millionenfach': 11339, 'missbrauchte': 11340, 'zopf': 11341, 'angepasstes': 11342, 'aufstellt': 11343, 'prozentzahlen': 11344, 'beziffern': 11345, 'idiotenzahlen': 11346, 'predikt': 11347, 'melivyt': 11348, 'zeitweilig': 11349, 'bekloppte': 11350, 'bahnhofs': 11351, 'motiv': 11352, 'attacke': 11353, 'dringendst': 11354, 'schlauere': 11355, 'fahrverbote': 11356, 'leistbare': 11357, 'mobilitaet': 11358, 'schluesselindustrie': 11359, '90ies': 11360, 'outfit': 11361, 'fluechtlingsobergrenze': 11362, 'nigger': 11363, 'jegl': 11364, 'couleur': 11365, 'rektum': 11366, '365': 11367, 'amtmann': 11368, 'l3p3de': 11369, 'hiesigen': 11370, 'durchkommen': 11371, 'sexydollyblue': 11372, 'lechzen': 11373, 'hacker': 11374, 'leithaeckerin': 11375, 'gewaltigen': 11376, 'relativ': 11377, 'ambitionie': 11378, 'klagemauer': 11379, 'domplatte': 11380, 'meetings': 11381, 'feuerwache': 11382, 'buurmann': 11383, 'berichtete': 11384, 'eichene': 11385, 'biester': 11386, 'orientalische': 11387, 'haarentfernung': 11388, 'steueroasen': 11389, 'besteue': 11390, 'weiterleben': 11391, 'denkwuerdiger': 11392, 'gegraben': 11393, 'einsieht': 11394, 'agrippa': 11395, 'hochgradeingeweihter': 11396, 'hochgrad': 11397, 'illuminat': 11398, 'ibokallweit': 11399, 'frontal21': 11400, 'straf': 11401, 'verfassungsschutz': 11402, 'hagel': 11403, 'indirekter': 11404, 'menschenrechtsorganisationen': 11405, 'unsicherer': 11406, 'ihren': 11407, 'einslive1': 11408, 'schabracke': 11409, 'methusalix64': 11410, 'gruseliges': 11411, 'konfuzius': 11412, 'befuellt': 11413, 'denkspo': 11414, 'harry': 11415, 'potter': 11416, 'brille': 11417, 'zitaten': 11418, 'unvergleichbaren': 11419, 'moralisieren': 11420, 'verwahrlosung': 11421, 'ueberfaellen': 11422, 'ent': 11423, 'hobbit9797': 11424, 'sauerstoffzelt': 11425, 'kanackenweiber': 11426, 'gaesten': 11427, 'stuerzten': 11428, 'wahlschafen': 11429, 'hinnerk45': 11430, 'ndrnds': 11431, 'pronomen': 11432, 'vermeiden': 11433, 'geschwaetz': 11434, 'mister': 11435, 'trs': 11436, 'rathen': 11437, 'mullen': 11438, 'kirchhoff': 11439, '98': 11440, 'anerkannt': 11441, 'selbsterhaltung': 11442, 'philipschimkat': 11443, 'sooo': 11444, '750': 11445, 'sonderstatus': 11446, 'forscht': 11447, 'maegen': 11448, 'zaehne': 11449, 'vergess': 11450, 'erhoeht': 11451, 'revolutionaere': 11452, 'eiprogramme': 11453, 'eisenach': 11454, '1869': 11455, 'bez': 11456, 'katholischer': 11457, 'engbuldog': 11458, 'totgeschwiegen': 11459, 'geldknappheit': 11460, 'geschuldet': 11461, 'puderzucker': 11462, 'hintern': 11463, 'oomo': 11464, 'eoo': 11465, 'gigakuss': 11466, 'algorithmus': 11467, 'durchsichtig': 11468, 'heuchlerisch': 11469, 'presserat': 11470, 'mattesberlin': 11471, 'wehrmachts': 11472, 'judenfreundlichen': 11473, 'vernuenftiges': 11474, 'erlernen': 11475, 'doppelboedige': 11476, 'moral': 11477, 'laeden': 11478, 'tweeting67': 11479, 'persoenlichkeiten': 11480, 'twittern': 11481, 'schlaue': 11482, 'gammatikfehlersuche': 11483, 'linkes': 11484, 'abputzen': 11485, 'googlen': 11486, 'warlord': 11487, 'tuersteher': 11488, 'ubr': 11489, 'wka': 11490, 'vergriesgnaddelt': 11491, 'ostpolen': 11492, 'mitgebracht': 11493, 'gepflanzt': 11494, 'waechst': 11495, 'evolution': 11496, 'hervorgebracht': 11497, 'geldeliten': 11498, 'boell': 11499, 'registrieren': 11500, 'ermahnt': 11501, 'abgeordnetenrede': 11502, 'angeregten': 11503, 'intellektuell': 11504, 'armselige': 11505, 'neee': 11506, 'russische': 11507, 'manoever': 11508, 'neuevermittlung': 11509, 'sozialpopulist': 11510, 'bvborussia': 11511, 'saubloede': 11512, 'fussballerfrage': 11513, 'fussballvereine': 11514, 'legionaere': 11515, 'kitzelt': 11516, 'dazwischenreden': 11517, 'maskulinistisch': 11518, 'fladen': 11519, 'vaginamuetze': 11520, 'balletttutu': 11521, 'brandschatzungen': 11522, 'immensen': 11523, 'ducken': 11524, '3mal': 11525, 'ausgegeben': 11526, 'fah': 11527, 'affentanz': 11528, 'krimineller': 11529, 'dummkopf': 11530, 'ruffrydah': 11531, 'weltkrieges': 11532, 'feuchter': 11533, 'vaters': 11534, 'quo': 11535, 'basie': 11536, 'raedern': 11537, 'haett': 11538, 'strassenverkehr': 11539, '462': 11540, 'einige': 11541, 'brachte': 11542, 'anstehenden': 11543, 'maximalabdeckung': 11544, 'buergerlichen': 11545, 'probate': 11546, 'harpyie': 11547, 'verbundenheit': 11548, 'oeffnete': 11549, 'handverlesenen': 11550, 'ausgesuchten': 11551, 'angemeldete': 11552, 'stricke': 11553, 'klebe': 11554, 'damenba': 11555, 'persoenliches': 11556, 'strafverfolgung': 11557, 'zick': 11558, 'whoisingermany0': 11559, 'blieben': 11560, 'unvorstellbar': 11561, 'anzulasten': 11562, 'waehlerstimmen': 11563, 'anrufen': 11564, 'mfk': 11565, 'gegenargument': 11566, 'aufgefueh': 11567, 'inquisition': 11568, 'beschuldigte': 11569, 'idylle': 11570, 'samstag': 11571, 'empfangen': 11572, 'reimers': 11573, '37619': 11574, 'fremder': 11575, 'abzuschotten': 11576, 'schlamassel': 11577, 'jemandem': 11578, 'michael96054009': 11579, 'kinderaugen': 11580, 'gezeichnet': 11581, 'moerdergrube': 11582, 'samad': 11583, 'tibi': 11584, 'hirsi': 11585, 'ates': 11586, 'mansour': 11587, 'verfehlungen': 11588, 'onanieren': 11589, 'warzentusse': 11590, 'kleinwuechsigem': 11591, 'kreuzritter': 11592, 'grube': 11593, 'schlawacken': 11594, 'hoehlen': 11595, 'sternekueche': 11596, 'verpflegt': 11597, 'hassern': 11598, 'ausgang': 11599, 'julyarabinowich': 11600, 'shuttleschiffewir': 11601, 'auszuweisen': 11602, 'rauben': 11603, 'sparern': 11604, 'flippeter1': 11605, 'enttaeuschend': 11606, 'ete': 11607, 'alteingesessenen': 11608, 'leleks': 11609, 'mattfischler': 11610, 'wissenschaftsfreiheit': 11611, 'millet': 11612, 'pflegefrau': 11613, 'gelackmeie': 11614, 'fieser': 11615, 'juristischer': 11616, 'trick': 11617, 'wolflotter': 11618, 'faekal': 11619, 'ungelernten': 11620, 'migrationspatriot': 11621, 'oezdedingens': 11622, 'vasallentreue': 11623, 'barett': 11624, 'gewehr': 11625, 'platt': 11626, 'probie': 11627, 'minus': 11628, 'rueckgang': 11629, 'bw2017': 11630, 'regierungsauftrag': 11631, 'offensichtl': 11632, 'dazulernten': 11633, 'vergassen': 11634, 'schwarzmeerflotte': 11635, 'aeaeaeaehhhhh': 11636, 'vorwuerfe': 11637, 'anteil': 11638, 'harald': 11639, 'enstein': 11640, 'distanzieren': 11641, 'ohnegruenelebtsichsbesser': 11642, 'staerkung': 11643, 'zentralen': 11644, 'ausbeutungs': 11645, 'sachtma': 11646, 'chinesen': 11647, 'keinbockzumkochen': 11648, 'jensmaierafd': 11649, 'illners': 11650, 'vegetarische': 11651, 'fad': 11652, 'verabschieden': 11653, 'fratzen': 11654, 'buendelung': 11655, 'asylverfahren': 11656, 'entscheidungs': 11657, 'rueckfuehrungszentren': 11658, 'beschleunigen': 11659, 'kosequenz': 11660, 'folgte': 11661, 'entstand': 11662, 'mischen': 11663, 'darstellungen': 11664, 'innenpolitik': 11665, 'norwegen': 11666, 'wahlberechtigten': 11667, 'norwegischen': 11668, '1972': 11669, 'volksabstimmungen': 11670, 'daebritz': 11671, 'bachmann': 11672, 'applaudieren': 11673, 'diffamierungen': 11674, 'jallohs': 11675, 'synagogen': 11676, 'angezuendet': 11677, 'igm': 11678, 'arschkriecherischen': 11679, 'betriebversammlungen': 11680, 'angekotzt': 11681, 'dorn': 11682, 'arbeitnehmerschaft': 11683, 'geduld': 11684, 'vernunft': 11685, 'unmoeglichkeit': 11686, 'dach': 11687, 'netanjahu': 11688, 'instinktlosigkeit': 11689, 'voelliger': 11690, 'abgeschobenenposten': 11691, 'bekleidet': 11692, 'antijuedischer': 11693, 'palaestinaapologetik': 11694, 'islamverherrlichung': 11695, 'genderscheisse': 11696, 'notwendigen': 11697, 'veraenderungsbereitschaft': 11698, 'politikerpflichten': 11699, 'begangenen': 11700, 'deichgraph': 11701, 'totalitarian': 11702, 'zionistischen': 11703, 'gruppen': 11704, 'geschaffen': 11705, 'billigend': 11706, 'geschroepft': 11707, 'elite': 11708, 'kaiser': 11709, 'penk': 11710, 'piratenpa': 11711, 'obdachloseneinrichtungen': 11712, 'obdachlosen': 11713, 'abgeschotteten': 11714, 'kasernen': 11715, 'randgebieten': 11716, 'rumsucher': 11717, 'absoluten': 11718, 'soooooooo': 11719, 'hing': 11720, 'kuechenschrank': 11721, 'feedback': 11722, 'zweitstimmen': 11723, 'funktionaerscorps': 11724, 'hinnimmt': 11725, 'eggers': 11726, 'ungarische': 11727, 'oberlehrer': 11728, 'sloechtefeld': 11729, 'mitteleuropaeers': 11730, 'zehnmal': 11731, 'missverstaendnissen': 11732, 'sperrung': 11733, 'staatsmeinung': 11734, 'schlaege': 11735, 'atheist': 11736, '2699': 11737, 'atheistisch': 11738, 'gehilfen': 11739, 'ticken': 11740, 'rsabine900': 11741, 'dern': 11742, 'dummgelaber': 11743, 'jedentag': 11744, 'fuendig': 11745, 'saubloedes': 11746, 'riecht': 11747, 'theorie': 11748, 'kluegsten': 11749, 'flugreisen': 11750, 'schutze': 11751, 'weltklimas': 11752, 'mer': 11753, 'ichbinkalle7': 11754, 'genderkrise': 11755, 'entscheidender': 11756, 'ziegenhi': 11757, 'charakterkoepfen': 11758, 'heraushaengen': 11759, 'cnnblackmail': 11760, 'todbringenden': 11761, 'kometen': 11762, 'enthauptet': 11763, 'kriegspa': 11764, 'billiger': 11765, 'begangen': 11766, 'europaeischer': 11767, 'mossul': 11768, 'offensive': 11769, 'hilfstruppen': 11770, 'tagesordnung': 11771, 'exempel': 11772, 'statuie': 11773, 'deutschlandtrend': 11774, '1939': 11775, 'gearbeitet': 11776, 'buheedgar': 11777, 'edgar': 11778, 'sexualisie': 11779, 'endviolenceagainstwomen': 11780, 'corvera': 11781, 'judenfurz': 11782, 'dreckiger': 11783, 'salvatore': 11784, 'ruecksichtslosen': 11785, 'fuettere': 11786, 'mehmet': 11787, 'e42': 11788, 'igmetall': 11789, 'zivilisten': 11790, 'feue': 11791, 'wahl2017': 11792, 'olle': 11793, 'kamellen': 11794, 'kita': 11795, 'besprochen': 11796, 'lucky': 11797, 'arithmetik': 11798, 'waermen': 11799, 'broder': 11800, 'jordan': 11801, 'golanhoehen': 11802, 'friedenstaube': 11803, 'aussenpolitisch': 11804, 'blonden': 11805, 'ueberlaesst': 11806, 'erzaehle': 11807, 'lokalblaettern': 11808, 'pastor': 11809, 'agitprop': 11810, 'sekretaerin': 11811, 'maulhalter': 11812, 'scheine': 11813, 'gewechselt': 11814, 'wechsel': 11815, 'modelle': 11816, 'saudummer': 11817, 'versauen': 11818, 'karstensailer': 11819, 'hoeflich': 11820, 'tauschen': 11821, 'dn': 11822, 'spektakulaer': 11823, 'bengel': 11824, 'sandrasigel': 11825, 'arschloescher': 11826, 'biotop': 11827, 'befreiung': 11828, 'weiteres': 11829, 'posaunt': 11830, 'zusaetzlich': 11831, 'dibanezgut': 11832, 'ewtnde': 11833, 'anlicken': 11834, 'grandiose': 11835, 'derseidenberg': 11836, 'geir': 11837, 'jodeln': 11838, 'quiz': 11839, 'killers': 11840, 'erraet': 11841, 'entmannen': 11842, 'glasfaser': 11843, 'sophiakaboom': 11844, 'cc': 11845, 'kilometer': 11846, 'verkehrsunfall': 11847, 'islamisie': 11848, 'atrioten': 11849, 'uropas': 11850, 'egen': 11851, 'slamisierung': 11852, 'bendlandes': 11853, 'libyen': 11854, 'insgemein': 11855, 'ziehet': 11856, 'freudensonn': 11857, 'freud': 11858, 'wonn': 11859, 'troester': 11860, 'spat': 11861, 'demonstrationsrecht': 11862, 'siche': 11863, 'versg': 11864, 'genannten': 11865, 'emrk': 11866, 'versammlungsrecht': 11867, 'schuetzenlliesl': 11868, 'verdaechtig': 11869, 'ficken': 11870, 'schandmaul': 11871, 'fotzen': 11872, 'minusversion': 11873, 'beisszange': 11874, 'anfassen': 11875, 'rabid': 11876, 'glow': 11877, 'sander': 11878, 'sommerpraktika': 11879, 'triff': 11880, 'snarkyschnauzer': 11881, 'industrie': 11882, 'intus': 11883, 'taugenichtse': 11884, 'studierenden': 11885, 'brauchbares': 11886, 'leberzirrhosen': 11887, 'endstadium': 11888, 'gestohlenen': 11889, 'rentenversicherung': 11890, 'zurueckzahlen': 11891, 'lothar': 11892, 'misere': 11893, 'altmeyer': 11894, 'verra': 11895, 'menschmerz': 11896, 'lgg': 11897, 'gestaenke': 11898, 'pickelplantagen': 11899, 'hervorbringen': 11900, 'wahlabend': 11901, 'hochrechnungen': 11902, 'sisi': 11903, '93': 11904, 'hamdeen': 11905, 'sabahi': 11906, 'ungueltige': 11907, 'duennpfiff': 11908, 'propagandaschrott': 11909, 'beantragen': 11910, 'auslieferung': 11911, 'drkissler': 11912, 'schweizerdeutsch': 11913, 'frankie': 11914, 'itelt': 11915, 'sonstwohin': 11916, 'leif': 11917, 'holm': 11918, 'anitawinglee': 11919, 'abgepresst': 11920, 'anonymer': 11921, 'nutzer': 11922, 'schuetzengraeben': 11923, 'angepasst': 11924, 'transparenteren': 11925, 'steuerregeln': 11926, 'steuergerechtigkeit': 11927, 'paradisepapers': 11928, 'gleicht': 11929, 'trailchem': 11930, '1948': 11931, 'genuesslich': 11932, '68': 11933, 'endete': 11934, 'wutbuergerin': 11935, 'besen': 11936, 'decke': 11937, 'zehenspitzen': 11938, 'schleichen': 11939, 'waschmaschine': 11940, 'zentimeter': 11941, 'gewande': 11942, 'denunziantentum': 11943, 'vieler': 11944, 'ueberwachungsstaat': 11945, 'totalen': 11946, 'ueberwachungskrieg': 11947, 'vorwaende': 11948, 'messwe': 11949, 'stan': 11950, 'laurel': 11951, 'hardy': 11952, 'kuspe': 11953, 'desodogg': 11954, 'operie': 11955, 'spezialisie': 11956, 'ibnhotdog': 11957, 'familiennachzugs': 11958, 'christlichen': 11959, 'weihnachtsfest': 11960, 'nordischglaeubigen': 11961, 'julfest': 11962, 'index': 11963, 'hetzblaetter': 11964, 'freimaurerei': 11965, 'geheimdienstkluengel': 11966, 'rituale': 11967, 'ausgangstweet': 11968, 'anwesend': 11969, 'schlechteste': 11970, 'abgekratzt': 11971, 'wutlosen': 11972, 'zombies': 11973, 'dressie': 11974, 'habs': 11975, 'abwrackpraemie': 11976, 'fahrzeugs': 11977, 'dreckschleudern': 11978, 'verschrottet': 11979, 'ickt': 11980, 'begraebnis': 11981, 'rache': 11982, 'schwoe': 11983, 'eingesper': 11984, 'iv': 11985, 'stoecken': 11986, 'einzel': 11987, 'haaren': 11988, 'herbeigezogen': 11989, 'friedens': 11990, 'please': 11991, 'lost': 11992, 'without': 11993, 'fathers': 11994, 'uscht': 11995, 'copenhagen': 11996, 'daenischen': 11997, 'goetterdaemmerung': 11998, 'staatsgefaehrdende': 11999, 'netzwerk': 12000, 'zaehneklappern': 12001, 'episch': 12002, 'tufelixaustria': 12003, 'mexikos': 12004, 'guatemala': 12005, 'ausblick': 12006, 'worauf': 12007, 'feiger': 12008, 'intergrationsministerium': 12009, 'faulenzerposten': 12010, 'schwimmbaeder': 12011, 'stefanmeierfkw': 12012, 'eihymne': 12013, 'zahlreiche': 12014, 'weltanschauung': 12015, 'mitfahren': 12016, 'syrische': 12017, 'sozialtourist': 12018, 'haftplichtversicherung': 12019, 'hinbiegen': 12020, 'volkeswille': 12021, 'kriegseinsaetze': 12022, 'steigende': 12023, 'objektive': 12024, 'bilbuha': 12025, 'raserohneinnen': 12026, 'busch': 12027, 'seehund': 12028, 'eisbaer': 12029, 'eisbaeren': 12030, 'bildungssystem': 12031, 'zuechtet': 12032, 'spassgesellschaft': 12033, 'hausfrauen': 12034, 'abwehrraketen': 12035, 'kimjongun': 12036, 'rakete': 12037, 'abgeschossen': 12038, 'weirdbielefeld': 12039, 'jbotanica': 12040, 'schneit': 12041, 'brrrrrrrr': 12042, 'buran63': 12043, 'instapaper': 12044, 'polizeibekannter': 12045, 'suechtiger': 12046, 'suv': 12047, 'passanten': 12048, 'schwerst': 12049, 'verletzte': 12050, 'getrunken': 12051, 'abchecken': 12052, 'internationalsozialistischen': 12053, 'fuenkchen': 12054, 'physische': 12055, 'beuteland': 12056, 'preist': 12057, 'schmachtvollen': 12058, 'hymnen': 12059, 'konsulaten': 12060, 'phbvingtsun': 12061, 'kaputter': 12062, 'sekunden': 12063, '1208gul': 12064, 'isso': 12065, 'goldbatzen': 12066, 'thie': 12067, 'stereotypen': 12068, 'ingolstadt': 12069, 'drohenden': 12070, 'passts': 12071, 'rassenschande': 12072, 'gutachter': 12073, 'zazikilong': 12074, 'normaler': 12075, 'block': 12076, 'korrekten': 12077, 'safespace': 12078, 'ernstfall': 12079, 'hosen': 12080, 'dduric': 12081, 'kompromissbereitschaft': 12082, 'optimismus': 12083, 'zuschlagen': 12084, 'fahndungsfotos': 12085, 'john': 12086, 'doe': 12087, 'antrengungen': 12088, 'uebermotivie': 12089, 'moerderischen': 12090, 'zufrieden': 12091, 'winkt': 12092, '20172126': 12093, 'dschungelcamp': 12094, 'maybrit': 12095, 'polittusse': 12096, 'zuchtstuten': 12097, 'nichtraucher': 12098, 'steuereinnahmen': 12099, 'tabak': 12100, 'gigantisch': 12101, 'mwst': 12102, 'verlust': 12103, 'auszugleichen': 12104, 'filmavorfuehrung': 12105, 'markusgroiss': 12106, 'massgeblich': 12107, 'bewah': 12108, 'haftpflichtversicherung': 12109, 'schulzundboemi': 12110, 'friedensprojekt': 12111, 'befragen': 12112, 'schafdas': 12113, 'dornkobold': 12114, 'vorgespielt': 12115, 'sonderfonds': 12116, 'lgbti': 12117, 'leitmedium': 12118, 'sandsaecke': 12119, 'gefuellt': 12120, 'latente': 12121, 'versuchung': 12122, 'akademischen': 12123, 'umfeld': 12124, 'interpretative': 12125, 'schemata': 12126, 'mysteriums': 12127, 'berauben': 12128, 'kld': 12129, 'feindpresse': 12130, 'prinzipiell': 12131, 'wohnraum': 12132, 'schwerste': 12133, 'vorkommt': 12134, 'wohneigentum': 12135, 'massstaebe': 12136, 'unabhaengigkeitswahl': 12137, 'katalonen': 12138, 'sexy': 12139, 'linksversiffte': 12140, 'radioaktive': 12141, 'belastung': 12142, 'untersuchungsgegenstand': 12143, 'forschungsprojekts': 12144, 'southern': 12145, 'urals': 12146, 'radiation': 12147, 'risk': 12148, 'research': 12149, 'soul': 12150, 'koordination': 12151, 'helmholtz': 12152, 'helmholtzmucen': 12153, 'freisetzung': 12154, 'beobachtern': 12155, 'terrorhorden': 12156, 'pummelchen': 12157, 'detaillie': 12158, 'dehnt': 12159, 'aehs': 12160, 'verdeckt': 12161, 'tragische': 12162, 'figur': 12163, 'ueberfuellt': 12164, 'gerhard61': 12165, 'pressekontakt': 12166, 'marcus': 12167, 'sachsenanhalt': 12168, 'mitmachen': 12169, 'letzt': 12170, 'angebote': 12171, 'gruetze': 12172, 'foerde': 12173, 'rauf': 12174, 'vikariat': 12175, 'kandidat': 12176, 'kandidatin': 12177, 'staendige': 12178, 'geistlichkeit': 12179, 'carlo': 12180, 'einfuehrungsrede': 12181, 'originaer': 12182, 'vollverfassung': 12183, 'beschliessen': 12184, 'schmierfratzen': 12185, 'wagen': 12186, 'hallolg': 12187, 'tweeten': 12188, 'silbe': 12189, 'entsprach': 12190, 'nachbarlaendern': 12191, 'aufgeteilt': 12192, 'ruestungsausgaben': 12193, '66': 12194, 'rick': 12195, 'hoffhoffmann': 12196, 'joernlinne': 12197, 'bergepanzer': 12198, 'verhandlungstisch': 12199, 'nahm': 12200, 'umarmte': 12201, 'armseliges': 12202, 'anzupissen': 12203, 'neuerdings': 12204, 'sabatinajames': 12205, 'kriegsfluechtlinge': 12206, 'sklavenfluechtlinge': 12207, 'umgetauft': 12208, 'jetzterstrecht': 12209, 'mtl': 12210, 'praemie': 12211, 'schwulen': 12212, 'forcie': 12213, 'eigentor': 12214, 'reagan': 12215, 'after': 12216, 'schiss': 12217, 'beendete': 12218, 'provokationen': 12219, 'korean': 12220, 'passagierjets': 12221, 'dresdner': 12222, 'terrorkuenstler': 12223, 'dresdener': 12224, 'beigeschmack': 12225, 'zuwider': 12226, 'nuckeln': 12227, 'dagobe': 12228, 'badnerlied': 12229, 'ulrikedemmer': 12230, 'vorsaetze': 12231, 'raechen': 12232, 'boxen': 12233, 'bezieher': 12234, 'knur': 12235, 'schaeferhund': 12236, 'pfaelzerin96': 12237, 'guenstig': 12238, 'urlaubszeit': 12239, 'hostels': 12240, 'auslastung': 12241, 'jenseits': 12242, 'verplempe': 12243, 'gunsten': 12244, 'aufkauft': 12245, 'papiere': 12246, 'staerkt': 12247, 'prophezeie': 12248, 'irak': 12249, 'vietnam': 12250, 'legaler': 12251, 'check': 12252, 'memmen': 12253, 'kriegsfreien': 12254, 'sonstige': 12255, 'extreme': 12256, 'reconquista979': 12257, 'verwirrungen': 12258, 'fanclub': 12259, 'entziffern': 12260, 'rueckerlangung': 12261, 'merkelstreichelt': 12262, 'streicheln': 12263, 'entemotionalisieren': 12264, 'donquijote324': 12265, 'plos': 12266, 'silvia': 12267, 'erpressbar': 12268, 'fachktaefte': 12269, 'beschmieren': 12270, 'uiii': 12271, 'gewitter': 12272, 'rausposaunt': 12273, 'plasticfinger': 12274, 'esskastanien': 12275, 'gekochte': 12276, 'pfanne': 12277, 'braten': 12278, 'mixer': 12279, 'getrockneten': 12280, 'steinpilzen': 12281, 'vondobrowolski': 12282, 'kommissarin': 12283, 'prostituie': 12284, 'maulaufreisser': 12285, 'junger': 12286, 'gedrueckt': 12287, 'steuerfluechtling': 12288, 'gegangen': 12289, 'massiv': 12290, 'hinterzogen': 12291, 'willkuerherrschaft': 12292, 'geiselnahme': 12293, 'unbescholtener': 12294, 'bischofs': 12295, 'angestossenen': 12296, 'gespraechsprozesses': 12297, 'abzuwa': 12298, 'komplizie': 12299, 'schoeneres': 12300, 'erden': 12301, 'panzergrenadier': 12302, 'attentaten': 12303, 'vegas': 12304, 'aktien': 12305, 'hotelkette': 12306, 'pleite': 12307, 'inside': 12308, 'geschissen': 12309, 'widerstandsrecht': 12310, 'gebrauch': 12311, 'abhilfe': 12312, 'statment': 12313, 'representanten': 12314, 'mitten': 12315, 'belagerung': 12316, 'wiens': 12317, 'getilgt': 12318, 'gewaltbereite': 12319, 'krass': 12320, 'ischtarisik': 12321, 'rueckfah': 12322, 'aufgestanden': 12323, 'antaenzer': 12324, 'schranken': 12325, 'verwiesen': 12326, 'benehmen': 12327, 'fahrgaeste': 12328, 'drangsalie': 12329, 'haltestelle': 12330, 'rausgeworfen': 12331, 'nachhause': 12332, 'sozialtroege': 12333, 'leer': 12334, 'uffff': 12335, 'kelch': 12336, 'vorbeigezogen': 12337, 'sweiermann': 12338, 'flughaefen': 12339, 'eizentralen': 12340, 'besetzen': 12341, 'bananenjooe': 12342, 'andreas62582094': 12343, 'gesetzgebung': 12344, 'ausschnitten': 12345, 'harammett': 12346, 'zwischenergebnisse': 12347, 'groesstenteils': 12348, 'regierungskonstellationen': 12349, 'schwarzgelb': 12350, 'ampel': 12351, 'rnfde': 12352, 'feed': 12353, 'dingfest': 12354, 'draufgeschlagen': 12355, 'struktur': 12356, 'militaerdienst': 12357, 'freigekauft': 12358, 'akp': 12359, 'vds': 12360, 'vaterland': 12361, 'presidentruvi': 12362, 'rivlin': 12363, 'munich1972': 12364, 'fals': 12365, 'flag': 12366, 'vv': 12367, 'krisztina': 12368, 'freimaurerlogen': 12369, 'eingefaedelt': 12370, 'keim': 12371, 'erstickt': 12372, 'gefuerchtet': 12373, 'sensibilise': 12374, 'ausdemnichts': 12375, 'inthefade': 12376, 'entstammen': 12377, 'erklaer': 12378, 'saubere': 12379, 'oberlehrerschnabel': 12380, 'schlachtbank': 12381, 'carstenp': 12382, 'kevin': 12383, 'keegan': 12384, 'nurderhsv': 12385, 'domau': 12386, 'einbezieht': 12387, 'achim7871': 12388, 'verstaendliche': 12389, 'nachvollziehbare': 12390, 'sesselschnarcher': 12391, 'abzuservieren': 12392, 'vormundschaften': 12393, 'unbegleitete': 12394, 'breite': 12395, 'sensibilisierung': 12396, 'rudolph': 12397, 'destabilisierung': 12398, 'geplanten': 12399, 'anordnen': 12400, 'gerisr': 12401, 'eurobasket2017': 12402, 'bestandteil': 12403, 'unverzeihlich': 12404, 'moslemdreck': 12405, 'iserlohn': 12406, '90ern': 12407, 'doenerbudenbesitzer': 12408, 'knoblauchsauce': 12409, 'doener': 12410, 'tvsinnvoll': 12411, 'heuchelt': 12412, 'erschuetterung': 12413, 'bae': 12414, 'durchringen': 12415, 'disziplinieren': 12416, 'dudeh96': 12417, 'handelsrechtlichen': 12418, 'umkehrung': 12419, 'holding': 12420, 'raglich': 12421, 'geknebelt': 12422, '2099': 12423, 'eiensystem': 12424, 'facto': 12425, 'bewohnern': 12426, 'illusion': 12427, 'vorzugaukeln': 12428, 'hirnriss': 12429, 'verschwendet': 12430, 'unterbelichteten': 12431, 'ausscheiden': 12432, 'neidhammel': 12433, 'zeitenwende': 12434, 'landkaufhalina': 12435, 'petersweden7': 12436, 'snordics': 12437, 'ulli': 12438, 'altgold': 12439, 'allerbesten': 12440, 'konstantin': 12441, 'notz': 12442, 'bundniss': 12443, 'sessel': 12444, 'verschwende': 12445, 'wolfgrosny': 12446, 'janjaeschke': 12447, 'christoph0109': 12448, 'bekifft': 12449, 'methsuechtig': 12450, 'linkslastig': 12451, 'uschen': 12452, 'buergermeisters': 12453, 'buchveroeffentlichung': 12454, 'aufgefunden': 12455, 'islamlobbyvereine': 12456, 'fury': 12457, 'mm': 12458, 'revolver': 12459, '9mm': 12460, 'aufschreiben': 12461, 'gleichung': 12462, 'nackt': 12463, 'realtalk': 12464, 'ausreisepflichtige': 12465, 'denkender': 12466, 'maennlich': 12467, 'weiblich': 12468, 'tunesiens': 12469, 'fluechtlingsursachenbekaepmfung': 12470, 'ghetthos': 12471, 'mitfinazie': 12472, 'leitplanken': 12473, 'stabiler': 12474, 'erdbeerkuchen': 12475, 'unkultur': 12476, 'meldespacken': 12477, 'enthaelt': 12478, 'schlussfolgerung': 12479, 'suggerie': 12480, 'andreassteier': 12481, 'direktmandat': 12482, 'friedadiezweite': 12483, 'gedankenrausch1': 12484, 'beseitigen': 12485, 'baue': 12486, 'fraulious': 12487, 'kandidatur': 12488, 'landtagsfraktion': 12489, 'besuchter': 12490, 'soeldne': 12491, 'ngo': 12492, 'geworfen': 12493, 'traumwelt': 12494, 'ausloeschen': 12495, 'kontakt': 12496, 'fhon': 12497, 'absichtliche': 12498, 'unfaire': 12499, 'lieblingssatz': 12500, 'anzuschauen': 12501, 'randalierende': 12502, 'antifschisten': 12503, 'zwar': 12504, 'beispielhaft': 12505, 'ceo': 12506, 'zurueckgetreten': 12507, 'sinnvollen': 12508, 'mindestinvestitionsquote': 12509, 'halbjude': 12510, 'corradobln': 12511, 'stefanstreng': 12512, 'joshuastrack': 12513, 'stefan': 12514, 'ebensolchen': 12515, 'fokus': 12516, 'fakebild': 12517, 'fluechtlingsangst': 12518, 'falschaussagen': 12519, 'campus': 12520, 'bockenheim': 12521, 'studiengruppen': 12522, 'ingathomas': 12523, 'hurrikane': 12524, 'enkelkinder': 12525, 'egorepair': 12526, 'erinnerst': 12527, 'rosenheimerplatz': 12528, 'messerattacke': 12529, 'gefaerbt': 12530, 'triumphie': 12531, 'vergessenheit': 12532, 'migrantenflut': 12533, 'gefaehrden': 12534, 'wass': 12535, 'flach': 12536, 'springerpunkt': 12537, 'barret': 12538, 'm28': 12539, '1935': 12540, 'anzugreifen': 12541, 'einhaeltst': 12542, 'hoeness': 12543, 'sympathisch': 12544, 'lastminute': 12545, 'einzufangen': 12546, 'jul1acarina': 12547, 'verklagen': 12548, 'amtierenden': 12549, 'guggs67': 12550, 'altehrwuerdig': 12551, 'bgb': 12552, 'panemetc62': 12553, 'gewehre': 12554, 'ohmann': 12555, '11jahre': 12556, 'liebbaerchen592': 12557, 'schweigens': 12558, 'baerchen': 12559, 'pittivomdorf': 12560, 'gekonnt': 12561, 'kleides': 12562, 'knallen': 12563, 'wanderwarze': 12564, 'modegag': 12565, 'onlinebosse': 12566, 'jagd': 12567, 'bauchnabelzwerg': 12568, 'sozen': 12569, 'mittelalterliche': 12570, 'feudalherren': 12571, 'kassen': 12572, 'pandi': 12573, 'oesterreichischem': 12574, 'beneiden': 12575, 'wiesen': 12576, 'waelder': 12577, 'laural': 12578, 'esco': 12579, 'fantasie': 12580, 'eimitglieder': 12581, 'jf': 12582, 'hoffgaard': 12583, 'direkte': 12584, 'vergehens': 12585, 'gefaehrder': 12586, 'negroiden': 12587, 'goldstueck': 12588, 'womoeglich': 12589, 'wuerstchenbude': 12590, 'knapp': 12591, 'fueer': 12592, 'massives': 12593, 'linksextremismus': 12594, 'droeder72': 12595, 'gegennetzdg': 12596, 'djvde': 12597, '87er': 12598, 'umd': 12599, 'joergdittus': 12600, 'volkslieder': 12601, 'gedichtete': 12602, 'motivationslieder': 12603, 'auftragswerke': 12604, 'jesses': 12605, 'fettes': 12606, 'vollgefressenes': 12607, 'selbstverliebtes': 12608, 'matalxis': 12609, 'kontrollieren': 12610, 'unrechtmaessigen': 12611, 'einreiseversuch': 12612, 'waffengewalt': 12613, 'ernsten': 12614, 'ereignete': 12615, 'evakuierung': 12616, 'angeordnet': 12617, 'wearehh': 12618, 'impressionen': 12619, 'shops': 12620, 'kollektion': 12621, 'hirichtung': 12622, 'irakische': 12623, 'studenten': 12624, 'luftwaffen': 12625, 'akademie': 12626, 'tikrit': 12627, 'kanakisch': 12628, 'seewinde': 12629, 'huepft': 12630, 'schmuddelwetter': 12631, 'fruehstueck': 12632, 'liefe': 12633, 'gruendungs': 12634, 'somit': 12635, 'lichtlein': 12636, 'mafiabande': 12637, 'alimente': 12638, 'superlogen': 12639, 'entschluss': 12640, 'grafik': 12641, 'praktika': 12642, 'kunsthochschule': 12643, 'botschaften': 12644, 'zusatz': 12645, 'einschraenkung': 12646, 'allgem': 12647, 'eufelung': 12648, 'nirgendwo': 12649, 'mitfinanzie': 12650, 'pfosten': 12651, 'eingeschaltet': 12652, 'blank': 12653, 'klugscheisser': 12654, 'krankenhaeuser': 12655, 'graesslich': 12656, '05': 12657, 'gefechtsalarm': 12658, 'fieses': 12659, 'tierquaeler': 12660, 'kittel': 12661, 'ausnutzen': 12662, 'rauhrackl': 12663, 'wolkenkuckucksheim': 12664, 'diffamieren': 12665, 'what': 12666, 'gluehbirnen': 12667, 'genderkacke': 12668, 'zahlenspiel': 12669, 'spuelverfahren': 12670, 'aufhuebschen': 12671, 'rifft': 12672, 'kishon': 12673, 'dramolnr3': 12674, 'peterpa34083139': 12675, 'vorzugsweise': 12676, 'hypothese': 12677, 'agressive': 12678, 'grenzueberschreiter': 12679, 'egemeinschaft': 12680, 'blossen': 12681, 'objekt': 12682, 'algorithmen': 12683, 'digitalesleben': 12684, 'tiefe': 12685, 'kolonialzeit': 12686, 'wef18': 12687, 'headline': 12688, 'angewide': 12689, 'umerzogen': 12690, 'sonstwas': 12691, 'klausmohr1': 12692, 'abstimmungen': 12693, 'festgeschrieben': 12694, 'horde': 12695, 'mfs': 12696, 'uschi': 12697, 'wesen': 12698, 'neigungen': 12699, 'miesen': 12700, 'twoff': 12701, 'stalker': 12702, 'einschreiten': 12703, 'grundsatz': 12704, 'hinwegsetzt': 12705, 'kriegsminister': 12706, 'wahrsten': 12707, 'ungeklae': 12708, 'handelsware': 12709, 'handelsrecht': 12710, 'vordenker': 12711, 'waffengesetz': 12712, 'messergesetz': 12713, 'ere': 12714, 'schamlippen': 12715, 'klitoris': 12716, 'betaeubung': 12717, 'eichel': 12718, 'gesaebelt': 12719, 'paulsgurke': 12720, 'mars': 12721, 'zwecks': 12722, 'terraforming': 12723, 'bezogen': 12724, 'doppelstaatsbuergern': 12725, 'beschwichtigt': 12726, 'moralische': 12727, 'zeigefinger': 12728, 'verdeckte': 12729, 'kikagate': 12730, 'diaa': 12731, 'mannschaften': 12732, 'kaempferische': 12733, 'auseinandersetzungen': 12734, 'wohnsitz': 12735, 'wohnsitzen': 12736, 'beziehungsweise': 12737, 'durchziehen': 12738, 'monikafries': 12739, 'domradio': 12740, 'bat': 12741, 'alleinerziehend': 12742, 'kleinkind': 12743, 'schreibaby': 12744, 'litten': 12745, 'kirchenverein': 12746, 'aushaenge': 12747, 'kopftuchfrau': 12748, 'luxus': 12749, 'restaurant': 12750, 'lan': 12751, 'mac': 12752, 'wegducken': 12753, 'geliehen': 12754, 'naise': 12755, 'pal': 12756, 'angestachelt': 12757, 'luke': 12758, 'versehen': 12759, 'merci': 12760, 'muchas': 12761, 'grazias': 12762, 'thank': 12763, 'dobre': 12764, 'spasiva': 12765, 'innenstadt': 12766, 'besenkammer': 12767, 'statue': 12768, 'fange': 12769, 'rumzulamentieren': 12770, 'praesentieren': 12771, 'makemyday1965': 12772, 'niedrigsten': 12773, 'auffaellige': 12774, 'denunziation': 12775, 'krawalle': 12776, 'unbuerokratisch': 12777, 'g20protest': 12778, 'gezuechtet': 12779, 'gesinnung': 12780, 'cnn': 12781, 'linksgestoe': 12782, 'psychischen': 12783, 'vau': 12784, 'judenhassende': 12785, 'heulst': 12786, 'liedtext': 12787, 'landbauer': 12788, 'negierungen': 12789, 'bitteschoen': 12790, 'konversationen': 12791, 'beschaeftigungstherapie': 12792, 'gemieden': 12793, 'meier': 12794, 'wirr': 12795, 'foerderbescheiden': 12796, 'stimmenfang': 12797, 'unsinniges': 12798, 'feuerwehrhaus': 12799, 'natanji': 12800, 'verlinken': 12801, 'offiziellen': 12802, 'facebookseite': 12803, 'abzug': 12804, 'denkzettel': 12805, 'wochenlanges': 12806, 'zaudern': 12807, 'zoegern': 12808, 'csup17': 12809, 'gruenenphilosophie': 12810, 'tugend': 12811, 'ordens': 12812, 'maxramezani': 12813, 'hannamraz': 12814, 'tierschuetzer': 12815, 'schaechtungen': 12816, 'sundog412': 12817, 'sprechenden': 12818, 'schlange': 12819, 'dampf': 12820, 'fluegellahm': 12821, 'faschistische': 12822, 'schmetterlinge': 12823, 'vogt': 12824, 'jtrittin': 12825, 'oezdemirs': 12826, 'oops': 12827, 'notschiffe': 12828, 'herumgesprochen': 12829, 'vermeidung': 12830, 'kniefall': 12831, 'sondierungspa': 12832, 'gestaltung': 12833, 'praesent': 12834, 'ausgewande': 12835, 'dekadenz': 12836, 'bergpanorama': 12837, 'hochinteressant': 12838, 'schauspielern': 12839, 'grassie': 12840, 'virus': 12841, 'zeitgeistlichen': 12842, 'beschaeftigte': 12843, 'evangel': 12844, 'kathol': 12845, 'festst': 12846, 'staatsfernsehen': 12847, 'untereinander': 12848, 'einzeln': 12849, 'maaslos': 12850, 'synonym': 12851, 'wahlplakten': 12852, 'frnrw': 12853, 'volksverdummung': 12854, 'nic': 12855, 'einbezahlen': 12856, 'sarah': 12857, 'mithelfen': 12858, 'verlockend': 12859, 'besatzer': 12860, 'fluechten': 12861, 'unfrieden': 12862, 'stiften': 12863, 'eilmeldung': 12864, 'anzeichen': 12865, 'olivenzweig': 12866, 'abbrechen': 12867, 'swissairliner': 12868, 'gillt': 12869, 'politverbrecher': 12870, 'wohow': 12871, 'wendelsteinkirche': 12872, 'renovie': 12873, 'gewoehnt': 12874, 'auszusitzen': 12875, 'bodenhaftung': 12876, 'privateigentum': 12877, 'verkommene': 12878, 'abig': 12879, 'enta': 12880, 'satanas': 12881, 'umprogammie': 12882, 'bigotterie': 12883, 'antiisraelischen': 12884, 'kampagnen': 12885, 'verdeutlichen': 12886, 'legitimitaet': 12887, 'akzeptie': 12888, 'vielzitie': 12889, 'ungueltig': 12890, 'anordnung': 12891, 'festlegte': 12892, 'anstelle': 12893, 'blabla': 12894, 'hegt': 12895, 'gelangt': 12896, 'verboh': 12897, 'einstufung': 12898, 'algerien': 12899, 'herkunftsstaaten': 12900, 'ibdeutschland': 12901, 'wohnwagen': 12902, 'umstaendlicher': 12903, 'fanatischen': 12904, 'ueberwachen': 12905, 'eugen': 12906, 'ostermeier': 12907, '1885': 12908, 'bronchipret': 12909, 'erlers': 12910, 'reiseempfehlungen': 12911, 'kuerekdanyal': 12912, 'selbsthass': 12913, 'ferner': 12914, 'duell': 12915, 'unterstellt': 12916, 'wahlperiode': 12917, 'wahlprogramme': 12918, 'personellen': 12919, 'konstellation': 12920, 'herzinfarkt': 12921, 'diejenige': 12922, 'ausgewogene': 12923, 'eselstreiber': 12924, 'ziegenmelker': 12925, 'kaputtgemacht': 12926, 'krankenkassen': 12927, 'zahlten': 12928, 'landaudaniel': 12929, 'schlachtung': 12930, 'aufrufen': 12931, 'beliebte': 12932, 'detlefalsbach1': 12933, 'derzweifelnde': 12934, 'angeborene': 12935, 'kopftuches': 12936, 'hodox': 12937, 'ehrenmord': 12938, 'niksput': 12939, 'daniel': 12940, 'hrncir': 12941, 'rechtliche': 12942, 'belehrungen': 12943, 'abgewaehlte': 12944, 'trat': 12945, 'staatsangehoerigkeitsrecht': 12946, 'jedem': 12947, 'buergerrechte': 12948, 'folglich': 12949, 'volljaehrig': 12950, 'wahlberechtigt': 12951, 'unkenntlichkeit': 12952, 'medienve': 12953, 'ehrenamtlich': 12954, 'zunehmende': 12955, 'herabsetzung': 12956, 'hemmschwelle': 12957, 'li': 12958, 'naehergebracht': 12959, 'arbeitsbeschaffungsmassnahme': 12960, 'ausgediente': 12961, 'taugenichts': 12962, 'belohnungen': 12963, 'kassiere': 12964, 'putzfrau': 12965, 'zeichnen': 12966, 'verkommenen': 12967, 'korans': 12968, 'frauenfeindlich': 12969, 'phikuro': 12970, 'wahlbeeinflussung': 12971, 'scheissland': 12972, 'andra': 12973, 'moi': 12974, 'ennepe': 12975, 'mousa': 12976, 'griechischen': 12977, 'haeufiger': 12978, 'gaaanz': 12979, 'sinkender': 12980, 'fluechtlingszahlen': 12981, 'pseudokanzlerin': 12982, 'lueckenmedien': 12983, 'oberdummzicke': 12984, 'sheitan': 12985, 'ungebildeten': 12986, 'phrasendreschern': 12987, 'populist': 12988, 'peters16649683': 12989, 'graz': 12990, '2007': 12991, 'bv': 12992, 'vorhandenen': 12993, 'zielgerichtet': 12994, 'uebernahme': 12995, 'spionage': 12996, 'soooo': 12997, 'luce': 12998, '1986': 12999, 'cond': 13000, 'rice': 13001, 'reaktionaere': 13002, 'schnaps': 13003, 'pralinen': 13004, 'wahrscheinlicher': 13005, 'werdende': 13006, 'minirenten': 13007, 'lockt': 13008, 'verfassungswiedrig': 13009, 'beobachenden': 13010, 'identischen': 13011, 'patent': 13012, 'ebola': 13013, 'entdeckung': 13014, 'ig0nix': 13015, 'kostenkalkulation': 13016, 'wesentlicher': 13017, 'planungsbestandteil': 13018, 'himmelschreiende': 13019, 'unternimmt': 13020, 'dauerkindesmissbrauch': 13021, 'frauenmarsch': 13022, 'leylabilge': 13023, 'citoyen': 13024, 'lauris': 13025, 'weisser': 13026, 'googeln': 13027, 'lg': 13028, 'zusammengelegt': 13029, 'fuerchterlich': 13030, 'nackten': 13031, 'aufzufordern': 13032, 'scheinheiligen': 13033, 'schmutzl': 13034, 'meldewuerdigen': 13035, 'meldewuetigen': 13036, 'pussies': 13037, 'siffmoralischen': 13038, 'dauermelder': 13039, 'versagerin': 13040, 'volksmoerder': 13041, 'nuhr': 13042, 'ehring': 13043, 'bevorz': 13044, 'gelacht': 13045, 'geschuettelt': 13046, 'doppelzuengigkeit': 13047, 'zimonjames': 13048, 'ausgeladen': 13049, 'zugegeben': 13050, 'angesprochenen': 13051, 'abdeschossen': 13052, 'unding': 13053, 'voraussetzung': 13054, 'darling': 13055, 'fahr': 13056, 'verwandschaft': 13057, 'herauszufinden': 13058, 'satzungsgemaess': 13059, 'asansoer35': 13060, 'lebenserfahrung': 13061, 'pickelplantage': 13062, 'heiligsblechle': 13063, 'haemmer': 13064, 'schwaechsten': 13065, 'steuerfluechtlinge': 13066, 'investieren': 13067, 'jana': 13068, 'erwache': 13069, 'rudifussi': 13070, 'mazedonien': 13071, 'serbien': 13072, 'bescheidenen': 13073, 'urlaubslaender': 13074, 'hvoll': 13075, 'erforde': 13076, 'lochfrass': 13077, 'bse': 13078, 'intelligente': 13079, 'visier': 13080, 'jubelarien': 13081, 'bye': 13082, 'joergprante': 13083, 'eskalie': 13084, 'raketenprogramm': 13085, 'ausbaut': 13086, 'weltsicht': 13087, 'much': 13088, 'schalte': 13089, 'gruenenpolitikerin': 13090, 'steigbuegelhalter': 13091, 'mussen': 13092, 'hure': 13093, 'verbrechens': 13094, 'sorgfaeltig': 13095, 'kirchlichem': 13096, 'vermoegen': 13097, 'beruecksichtigt': 13098, 'micha': 13099, 'solides': 13100, 'schleichwerbung': 13101, 'beschliesst': 13102, 'nicken': 13103, 'kommentarlos': 13104, 'wievielter': 13105, 'bann': 13106, 'enthaltungen': 13107, 'gegenstimmen': 13108, 'doktorarbeit': 13109, 'tuerkeituerken': 13110, 'aufgeschaukelt': 13111, 'blich': 13112, 'wesentliche': 13113, 'vernebelt': 13114, 'iraner': 13115, 'polizeisprecher': 13116, 'absurder': 13117, 'inhaftierung': 13118, 'moma': 13119, 'manmanman': 13120, 'aufzaehlen': 13121, 'unnoetiger': 13122, 'gnadenbrot': 13123, 'laemmer': 13124, 'machenschaften': 13125, 'fanden': 13126, 'baenker': 13127, 'verzieh': 13128, 'haasmuch': 13129, 'bine1007': 13130, 'truemmerfrauen': 13131, 'veranschlagt': 13132, 'einwanderungskritisch': 13133, 'aufstaende': 13134, 'provozieren': 13135, 'vorfahren': 13136, 'solidaritaet': 13137, 'medienecho': 13138, 'tricky': 13139, 'lahm': 13140, 'unbekannt': 13141, 'unions': 13142, 'freilich': 13143, 'einfachsten': 13144, 'ward': 13145, 'handball': 13146, 'singen': 13147, 'spickzettels': 13148, 'pseudros': 13149, 'einziga': 13150, 'officerolando': 13151, 'blechliesel': 13152, 'obgleich': 13153, 'nielmals': 13154, 'verbesse': 13155, 'muslima': 13156, 'tweeting1897': 13157, 'zionistenkongress': 13158, 'basel': 13159, '120': 13160, 'israelmfa': 13161, 'kennerblick': 13162, 'kuenstlicher': 13163, 'bunteskanzlerin': 13164, 'abwechslung': 13165, 'menschlicher': 13166, 'migrationshintergrund': 13167, 'vollschaufelt': 13168, 'wischiwaschi': 13169, 'zweitstimme': 13170, 'sozialisierung': 13171, 'bonzen': 13172, 'sowjetbonzen': 13173, 'zusammenbruch': 13174, 'kommunismus': 13175, 'leiste': 13176, 'neudf': 13177, 'medienberichten': 13178, 'zufolge': 13179, 'erlitt': 13180, 'shimon': 13181, 'peres': 13182, 'schlaganfall': 13183, 'abklatschsender': 13184, 'supe': 13185, 'olles': 13186, 'hingestellt': 13187, 'ui': 13188, 'schmerzensgeld': 13189, '49': 13190, 'aufgehen': 13191, 'sifftwittter': 13192, 'eqtcafe': 13193, 'abgesahnt': 13194, 'oberguru': 13195, 'maschmayer': 13196, 'fernsehstar': 13197, 'movies': 13198, 'sturzneuwahl': 13199, 'gestaerkten': 13200, 'oesterreichvorbild': 13201, 'poebeln': 13202, 'vernuenftigen': 13203, 'peinlichkeit': 13204, 'militaerisch': 13205, 'korridor': 13206, 'gelegene': 13207, 'ypg': 13208, 'gehaltene': 13209, 'manbij': 13210, 'einruecken': 13211, 'feindlich': 13212, 'sympathisiere': 13213, 'haelst': 13214, 'there': 13215, 'publicity': 13216, 'ueberfluessiger': 13217, 'vorzudraengeln': 13218, 'taegliches': 13219, 'prebiszit': 13220, 'jazz': 13221, '3510lwl': 13222, 'dlfnachrichten': 13223, 'textete': 13224, 'ruecksichtslos': 13225, 'haeusern': 13226, 'schickes': 13227, 'speck': 13228, 'notunterkunft': 13229, 'kaelte': 13230, 'frieren': 13231, 'tweetkracher': 13232, 'laber': 13233, 'keinesfalls': 13234, 'stabile': 13235, 'ungsvolle': 13236, 'bestreben': 13237, 'deutschfreundliche': 13238, 'wegwerfen': 13239, 'raetselhafte': 13240, 'gekreuzigt': 13241, 'reichspa': 13242, 'politikjournalisten': 13243, 'euphemismus': 13244, 'saeuberung': 13245, 'strandfloh13': 13246, 'mangor147': 13247, 'panik': 13248, 'kompetente': 13249, 'luftpumpen': 13250, 'funktionsweise': 13251, 'draufdruecken': 13252, 'fffftttt': 13253, 'altarundorgel': 13254, 'rueckfuehrungen': 13255, 'einreisekontrollen': 13256, 'unberechtigte': 13257, 'zieleinlauf': 13258, 'jungfernstieg': 13259, 'nzz': 13260, 'aufarbeiten': 13261, 'durchstehen': 13262, 'provisionen': 13263, 'geu': 13264, 'binary': 13265, 'persoenlichkeitsrechte': 13266, 'pude': 13267, 'poestleserhalt': 13268, 'erneute': 13269, 'nutzniesser': 13270, 'wke': 13271, 'tal': 13272, 'crosssolidarity': 13273, '25b': 13274, 'ahmadmansour': 13275, 'krankes': 13276, 'muslimban': 13277, 'untergrund': 13278, 'ratten': 13279, 'kanalisation': 13280, 'gegenstimme': 13281, 'entlastet': 13282, 'thinkpunk': 13283, 'ludwigplatz': 13284, 'zirkel': 13285, 'herkunftsstaat': 13286, 'ra': 13287, 'kabis': 13288, '08': 13289, 'schwachsinniger': 13290, 'linksradikal': 13291, 'anhoeren': 13292, 'isoldethomas': 13293, '45jaehriger': 13294, 'zeitungshersteller': 13295, 'deutschefeindlichen': 13296, 'arschloecherwie': 13297, 'joerges': 13298, 'medienmarkt': 13299, 'muelltonne': 13300, 'stiefmutter': 13301, 'mammon': 13302, 'journaille': 13303, 'zib2': 13304, 'orfsg17': 13305, 'iges': 13306, 'subjekt': 13307, 'offenkundig': 13308, 'betreuen': 13309, 'schlappe': 13310, 'ueberflutung': 13311, 'minderheitsregierung': 13312, 'tugenden': 13313, 'ballhausplatz': 13314, 'sprachkuenstler': 13315, 'thierse': 13316, 'zuschlaegt': 13317, 'infoammorgen': 13318, 'entheimatung': 13319, 'konsense': 13320, 'anmahnt': 13321, 'flugverbotszone': 13322, 'anzulegen': 13323, 'abfrager': 13324, 'verreckt': 13325, 'drogenhaendler': 13326, 'feature': 13327, 'musterfluechtling': 13328, 'jmarrenbach': 13329, 'ansprueche': 13330, 'vermittlungsarbeit': 13331, 'vorsitzender': 13332, 'besitzerin': 13333, 'hausrecht': 13334, 'durchzieht': 13335, 'goldjungen': 13336, 'zutritt': 13337, 'dohnany': 13338, 'aufzumachen': 13339, 'ostblock': 13340, 'willkuer': 13341, 'auswandern': 13342, 'pseudonymphe': 13343, 'gutsein': 13344, 'letztendlich': 13345, 'acichowicz': 13346, 'umgebaut': 13347, 'frauentausch': 13348, 'grausige': 13349, 'faszination': 13350, 'detlef': 13351, 'tabbe': 13352, 'georgdetlef': 13353, 'hauptamtlicher': 13354, 'templin': 13355, 'wahlgang': 13356, '61': 13357, 'dielinkebrdburg': 13358, 'andreasriegerar': 13359, 'eigen': 13360, 'hitlers': 13361, 'eingeschraenkt': 13362, 'doping': 13363, 'klares': 13364, 'signal': 13365, 'verbaende': 13366, 'dfb': 13367, 'grindel': 13368, 'fifa': 13369, 'intelligent': 13370, 'souveraene': 13371, 'inkompetente': 13372, 'ausgeruestete': 13373, 'wehrmacht': 13374, 'nachhaltig': 13375, 'unterstrich': 13376, 'philippvetter': 13377, 'islamkindergae': 13378, 'mehrheiten': 13379, 'motivation': 13380, 'schaue': 13381, 'ware': 13382, 'supermarkt': 13383, 'milva': 13384, 'zusammenleben': 13385, 'jufodig': 13386, 'augsburg': 13387, 'dighgaugsburg': 13388, 'ruhr': 13389, 'erschiesst': 13390, 'wildschwein': 13391, 'hielt': 13392, 'warnwesten': 13393, 'museldiebe': 13394, 'geheilt': 13395, 'rotgruenenmuselmist': 13396, 'elfriede': 13397, 'cover': 13398, 'adresse': 13399, 'telefonnummer': 13400, 'penny': 13401, 'ueberschritten': 13402, 'verdienter': 13403, 'storm': 13404, 'mrmacsimon': 13405, 'koalie': 13406, 'auslaesst': 13407, 'patriotische': 13408, 'verstaubte': 13409, 'unumkehrbaren': 13410, 'bugsieren': 13411, 'irgendeine': 13412, 'liga': 13413, 'michaowns': 13414, 'vergleicht': 13415, 'werdegang': 13416, 'auffaellig': 13417, 'tierhaltung': 13418, 'angenehme': 13419, 'nuetzlichen': 13420, 'geheimpolizei': 13421, 'schauspiel': 13422, 'gerangel': 13423, 'bilddungsbuerger': 13424, 'steinmetzha': 13425, 'tonline': 13426, 'gemeinheiten': 13427, 'schnarchnasen': 13428, 'fremdes': 13429, 'reederei': 13430, 'verdrecken': 13431, 'komfo': 13432, 'able': 13433, 'linxkonservativ': 13434, 'hielten': 13435, 'begruendung': 13436, 'ablenkung': 13437, 'urheberrechtlichen': 13438, 'holdemaid666': 13439, 'beschlusspapier': 13440, 'zahler': 13441, 'entalstet': 13442, 'lebensrealitaet': 13443, 'finanzielle': 13444, 'entlastung': 13445, 'mittleren': 13446, 'einkommen': 13447, 'spitzenverdiener': 13448, 'sozale': 13449, 'ande': 13450, 'uebersetzern': 13451, 'gillyberlin': 13452, 'yup': 13453, 'unauffaellige': 13454, 'daimlers': 13455, 'akademikerin': 13456, 'anlegen': 13457, 'sitzengebliebener': 13458, 'entlarvungen': 13459, 'elpatron207': 13460, 'honigumdenba': 13461, 'gruesst': 13462, 'gefolgsmann': 13463, 'drittes': 13464, 'vergiessen': 13465, 'guidograndt': 13466, 'wordpressdotcom': 13467, 'normaldenkenden': 13468, 'spielte': 13469, 'awakening': 13470, 'anschliessende': 13471, 'bislimi': 13472, 'chip': 13473, 'blau': 13474, 'aeugig': 13475, 'altersdemente': 13476, 'bundeakanzlerin': 13477, 'cannabis': 13478, 'behauptungen': 13479, 'pflichtve': 13480, 'revisionen': 13481, 'geschaeftsfuehrerin': 13482, 'todesbote67': 13483, 'schuechtern': 13484, 'anmisten': 13485, 'nogo': 13486, '1001ptsde': 13487, 'arschkriecher': 13488, 'neugierde': 13489, 'dreist': 13490, 'eilsbrille': 13491, 'entstandene': 13492, 'verwirrung': 13493, 'daenemark': 13494, 'rvdb': 13495, 'trauer': 13496, 'schockstarre': 13497, 'unterdrueckt': 13498, 'misshandelt': 13499, 'parlamenten': 13500, 'problemloesungen': 13501, 'kubler': 13502, 'gekannt': 13503, 'bekaeme': 13504, 'mutie': 13505, 'aufzuraeumen': 13506, 'stuehle': 13507, 'umschmeissen': 13508, 'abschlachten': 13509, 'monster': 13510, 'getarnt': 13511, 'zustellperson': 13512, 'meilenstein': 13513, 'verschlossenen': 13514, 'tueren': 13515, 'erfundene': 13516, 'trophaee': 13517, 'aeusserung': 13518, 'radiobremen': 13519, 'zwischendurch': 13520, 'bringe': 13521, 'diskussionsstil': 13522, 'asylindustrie': 13523, 'genausowenig': 13524, 'berechtigter': 13525, 'aufgrunddessen': 13526, 'zusagt': 13527, 'ueberraschend': 13528, 'h4bqqq': 13529, 'maddin': 13530, 'abdanken': 13531, 'wuerseler': 13532, 'buecherei': 13533, 'zug': 13534, 'aufm': 13535, 'right': 13536, 'trash': 13537, 'irgendso': 13538, 'nehm': 13539, 'ueberschreiten': 13540, 'knudsen': 13541, 'ordensrechts': 13542, 'reinerknudsen': 13543, 'fraeulein': 13544, 'huessyandre': 13545, 'friedenswatch': 13546, 'retep': 13547, 'kire': 13548, 'ruhrbarone': 13549, 'hervorzusehen': 13550, 'shoahvergleiche': 13551, 'atzmons': 13552, 'distanzierung': 13553, 'ahmadinedschad': 13554, 'sondierungsergebnis': 13555, 'grokosondierung': 13556, 'drecksloecher': 13557, 'verdruecken': 13558, 'steuergeldern': 13559, 'verstossen': 13560, 'herabwuerdigen': 13561, 'falseflag': 13562, 'giftgaseinsatz': 13563, 'terrorakt': 13564, 'ww3': 13565, 'weihnachtsbildern': 13566, 'verschont': 13567, 'kippt': 13568, 'beschissene': 13569, 'oje': 13570, 'narrenfreiheit': 13571, 'ueberlege': 13572, 'achten': 13573, 'saustall': 13574, 'groessen': 13575, 'antonia': 13576, 'aufzubauen': 13577, 'regierden': 13578, 'psychologen': 13579, 'framei75': 13580, 'buecherverbrennung': 13581, 'rom': 13582, 'integre': 13583, '24std': 13584, 'egon': 13585, 'bahr': 13586, 'unterwerfungsve': 13587, 'hubi': 13588, 'mei': 13589, 'bisch': 13590, 'deppeter': 13591, 'mongo': 13592, 'einfalt': 13593, 'vielfalthh': 13594, 'doitsche': 13595, 'kauft': 13596, 'bai': 13597, 'glatteis': 13598, 'mittlelmaessige': 13599, 'politschauspieler': 13600, 'offbeat24': 13601, 'knappe': 13602, 'kompletten': 13603, 'repressionen': 13604, 'versteh': 13605, 'timzeelen': 13606, 'chefin': 13607, 'visage': 13608, 'freundlich': 13609, 'pns': 13610, 'gesundem': 13611, 'menschenverstand': 13612, 'einschuechterung': 13613, 'angstpaedagogik': 13614, 'unspiritueller': 13615, 'fussballspiele': 13616, 'flugabwehr': 13617, 'gepard': 13618, 'erd': 13619, 'ziehle': 13620, 'kommandant': 13621, 'herziehen': 13622, 'bildamsonntag': 13623, 'schwa': 13624, 'zunaechst': 13625, 'olafgersemann': 13626, 'gersemann': 13627, 'heuteplus': 13628, 'rieben': 13629, 'lenasakurablume': 13630, 'lena': 13631, 'bemerkst': 13632, 'furkn631': 13633, 'sjarjadottir': 13634, 'kamel': 13635, 'einbrechen': 13636, 'druecke': 13637, 'wirschaffendas': 13638, 'populaer': 13639, 'altbekannte': 13640, 'klischees': 13641, 'sorben': 13642, 'tillich': 13643, 'monokulturelles': 13644, 'arg': 13645, 'erheblich': 13646, 'jurist': 13647, 'fairen': 13648, 'ruh': 13649, 'sprechverbot': 13650, 'rachegedanken': 13651, 'orient': 13652, 'tabuzone': 13653, 'biker': 13654, 'mitm': 13655, 'inkaul': 13656, 'henrikdo': 13657, 'reiter': 13658, 'horizont': 13659, 'erweitern': 13660, 'erholsame': 13661, 'mecklenburgischen': 13662, 'brrrrrrr': 13663, 'drandreakahl1': 13664, 'hoeflichst': 13665, 'anklopfend': 13666, 'gelobe': 13667, 'annaeherung': 13668, 'positivere': 13669, 'grundhaltung': 13670, 'schokopudding': 13671, 'entflammte': 13672, 'ubbelohdeberlin': 13673, 'lautstark': 13674, 'geliefe': 13675, 'hinwegsetzen': 13676, 'stephschloesser': 13677, 'gerrit': 13678, 'sor': 13679, 'heimatvereind': 13680, 'erhoehung': 13681, 'lohnentwicklung': 13682, 'durchschnittlich': 13683, 'dummbacken': 13684, 'getoeteten': 13685, 'tiefstes': 13686, 'beileid': 13687, 'vollstaendige': 13688, 'ungar': 13689, 'frische': 13690, 'dienrv': 13691, 'gepoebelt': 13692, 'bicyclo222octan': 13693, 'schlawino': 13694, 'schnulle': 13695, 'bundesbuerger': 13696, 'zu7': 13697, 'ziegenrasse': 13698, 'rlp': 13699, 'silvester2017': 13700, 'buendnis': 13701, 'sicherheitsbehoerden': 13702, 'annette': 13703, 'groth': 13704, 'menschenrechtspolitische': 13705, 'pointe': 13706, 'huldigt': 13707, 'geister': 13708, 'ruhen': 13709, 'getoetet': 13710, 'heid': 13711, 'weiterverhandeln': 13712, 'baldigen': 13713, 'voelkergemeinschaft': 13714, 'einseitig': 13715, 'who': 13716, 'dreierlei': 13717, 'riebene': 13718, 'wunschmass': 13719, 'chlorella': 13720, 'handelsuebliche': 13721, 'zahnpasta': 13722, 'fluor': 13723, 'kurkuma': 13724, 'impfungen': 13725, 'tuberkulose': 13726, 'seuchen': 13727, 'inkompetenter': 13728, 'gingerheadrocks': 13729, 'volksverarsche': 13730, 'typische': 13731, 'kinderfeind': 13732, 'uebernimmt': 13733, 'lottap1': 13734, 'einstehen': 13735, 'fremdwoe': 13736, 'pinkcrazypony': 13737, 'betreuer': 13738, 'atemschutzmasken': 13739, 'tropenkranke': 13740, 'hauptbuehne': 13741, 'preises': 13742, 'blsj': 13743, 'moderie': 13744, 'anja': 13745, 'ersatzbank': 13746, 'armeen': 13747, 'hilfsorganisationen': 13748, 'fuerstliche': 13749, 'spende': 13750, 'matthiasfuchs6': 13751, 'kanzleramt': 13752, 'bmub': 13753, 'aufenthalt': 13754, 'godcoder': 13755, 'schinkel': 13756, 'ib': 13757, 'jkasek': 13758, 'kreativlos': 13759, 'seifehasser': 13760, 'erzaehlung': 13761, 'identitaetsbildend': 13762, 'jetztigen': 13763, 'webitipps': 13764, 'kennenzulernen': 13765, 'gewah': 13766, 'detlefbahlke': 13767, 'schwaechstes': 13768, 'ankommen': 13769, 'kopietzandreas': 13770, 'fachfirma': 13771, 'opposition24de': 13772, 'ueberwaeltigt': 13773, 'sprachlos': 13774, 'grenzt': 13775, 'erstklaessler': 13776, 'weimarer': 13777, 'histor': 13778, 'plutokratie': 13779, 'gekennz': 13780, 'uneinigkeit': 13781, 'umbringen': 13782, 'bredenbrock': 13783, 'kaisers': 13784, 'schmutzige': 13785, 'deppenvirus': 13786, 'demonstrierverbot': 13787, 'landfriedensbruch': 13788, 'abzuschieben': 13789, 'migrantenwanderung': 13790, 'zulieferern': 13791, 'diktie': 13792, 'produktion': 13793, 'zeitarbeiter': 13794, 'ausfuehren': 13795, 'qualitaetsmerkmal': 13796, 'passe': 13797, 'garf': 13798, 'schwul': 13799, 'pacht': 13800, 'ruebe': 13801, 'latte': 13802, 'soziales': 13803, 'victoria': 13804, '367': 13805, 'eckleben': 13806, 'draufhauen': 13807, 'besatzungszeit': 13808, 'undheute': 13809, 'weggelassen': 13810, 'grechtigkeit': 13811, 'blacki81': 13812, 'workfloh': 13813, 'besonderer': 13814, 'ni': 13815, 'fuhren': 13816, 'ossis': 13817, 'pneumant': 13818, 'reifen': 13819, 'msf': 13820, 'wiederaufbau': 13821, 'luis055a': 13822, 'ausgemurkselt': 13823, 'sprueche': 13824, 'weiblichen': 13825, 'jesidin': 13826, 'wichtiges': 13827, 'beschissen': 13828, 'politikerkoepfe': 13829, 'abfall': 13830, 'juliaschramm': 13831, 'trueben': 13832, 'angekuendigt': 13833, 'legokloetze': 13834, 'bewacht': 13835, 'singender': 13836, 'lilakaeppchen': 13837, 'bannern': 13838, 'antragsteller': 13839, 'kriegstreiberei': 13840, 'appellie': 13841, 'ergebnisoffene': 13842, 'serhildan': 13843, 'hzk': 13844, 'chill': 13845, 'nickglego': 13846, 'schaebige': 13847, 'boulevardzeitungen': 13848, 'ehrenzeichen': 13849, 'danielmack': 13850, 'beachte': 13851, 'postion': 13852, 'entnehmen': 13853, 'kling': 13854, 'august': 13855, 'sing': 13856, 'aggressiven': 13857, 'vermummten': 13858, 'feuerleger': 13859, 'diskothek': 13860, 'einfaelle': 13861, 'diskotheken': 13862, 'drgrandt': 13863, 'gesegneten': 13864, 'hl': 13865, 'marienplatz': 13866, 'prozession': 13867, 'fronleichnam': 13868, 'nizza': 13869, 'unsicheren': 13870, 'hemmungen': 13871, 'allerweltshaus': 13872, 'allebleiben': 13873, 'sparerenteignung': 13874, 'inflation': 13875, 'melkkuh': 13876, 'weltoekonom': 13877, '16a': 13878, 'verfolgte': 13879, 'kriegs': 13880, 'buergerkriegsf': 13881, 'drittstattenreglung': 13882, 'justizminister': 13883, 'verordnungen': 13884, 'iger': 13885, 'germanenherz': 13886, 'hollstein63': 13887, '15cm': 13888, 'schnittwunde': 13889, '5cm': 13890, 'abdecken': 13891, 'parkbuchhandlung': 13892, 'redoute': 13893, 'kurfuerstenallee': 13894, '53177': 13895, 'godesberg': 13896, 'afdwaehlen': 13897, 'noeoeoeoeoeoeoeoeoeoe': 13898, 'anblick': 13899, 'drink': 13900, 'btwahlergebnis': 13901, 'rammstein': 13902, 'reih': 13903, 'sitzenden': 13904, 'verzapfen': 13905, 'skymediade': 13906, 'newshd': 13907, '60er': 13908, 'arschlochpa': 13909, 'unserm': 13910, 'symbiose': 13911, 'zerbricht': 13912, 'verwoehnten': 13913, 'naturburschen': 13914, 'unsympathisch': 13915, 'gehabe': 13916, 'dorobaer': 13917, 'generaelen': 13918, 'unrechtssystem': 13919, 'militaerputsch': 13920, 'vorhin': 13921, 'innenministers': 13922, 'kadi': 13923, 'gezer': 13924, 'karam': 13925, 'mashour': 13926, 'spieler': 13927, 'maccabitlvbc': 13928, 'deal': 13929, 'stoesst': 13930, 'ungeteilte': 13931, 'marines': 13932, 'love': 13933, 'mieser': 13934, 'provit': 13935, 'maximieren': 13936, 'zurueckgepfiffen': 13937, 'kubicki': 13938, 'fehl': 13939, 'interpretie': 13940, 'unmissverstaendlichen': 13941, 'schildern': 13942, 'erstaunen': 13943, 'verhandlungsfuehrung': 13944, 'vollumfaenglich': 13945, 'vorlesen': 13946, 'aufschreibt': 13947, 'propagandisten': 13948, 'kritischepress1': 13949, 'jonas': 13950, 'garantieren': 13951, 'riesige': 13952, 'verschworen': 13953, 'blutverschmie': 13954, 'darzustellen': 13955, 'klappse': 13956, 'genderday': 13957, 'amphibisch': 13958, 'querkopp': 13959, 'toppen': 13960, 'besonnenes': 13961, 'aufstachelung': 13962, 'abbas': 13963, 'friedlicher': 13964, 'funktionieren': 13965, 'osshunt': 13966, 'airpo': 13967, 'tochterunternehmen': 13968, 'dpedig': 13969, 'erinnere': 13970, 'diagramm': 13971, 'gepasst': 13972, 'politbueros': 13973, 'damaligen': 13974, 'verdrehte': 13975, 'mitschreiben': 13976, 'ignoranten': 13977, 'doppelte': 13978, 'buergerschaft': 13979, 'nsarschloecher': 13980, 'fremdenfeindlichkeit': 13981, 'merkokratie': 13982, 'grinsen': 13983, 'wohlverdient': 13984, 'betrugs': 13985, 'dieselfahrzeuge': 13986, 'subventionen': 13987, 'kost': 13988, 'logis': 13989, 'dkultur': 13990, 'kompressor': 13991, 'anmeldet': 13992, 'finanzierung': 13993, 'miete': 13994, 'noetig': 13995, 'eingreifen': 13996, 'kolossal': 13997, 'twitterer': 13998, 'kasperltheater': 13999, 'sitzplaetze': 14000, 'steinekecdu': 14001, 'ik': 14002, 'bolle': 14003, 'rasissmusgelaber': 14004, 'privatrichterin': 14005, 'zwangseingewiesen': 14006, 'lacher': 14007, 'begrabscht': 14008, 'unbesorgt': 14009, 'butter': 14010, 'kugel': 14011, 'pfennig': 14012, 'lamentieren': 14013, 'ereignisreiches': 14014, 'hrw': 14015, '288': 14016, 'noerdl': 14017, 'rakhine': 14018, 'niedergebrannt': 14019, 'satellitenbilder': 14020, 'reibung': 14021, 'gesellschaften': 14022, 'pforzheim': 14023, 'akif': 14024, 'lebensgefaeh': 14025, 'aufreissen': 14026, 'karrieregrad': 14027, 'scheere': 14028, 'cherusker6': 14029, 'katastrophal': 14030, 'moloch': 14031, 'rigaer94': 14032, 'gesetzesverstoessen': 14033, 'jodie': 14034, 'fluoridie': 14035, 'speisesalz': 14036, 'hochzeit': 14037, 'urne': 14038, 'ia': 14039, 'bifriendshh': 14040, 'pause': 14041, 'durchatmen': 14042, 'litauer': 14043, 'halbet': 14044, 'brite': 14045, 'halber': 14046, 'oberst': 14047, 'panzergrenadiere': 14048, 'michaelb2861': 14049, 'neuermengele': 14050, 'verdi': 14051, 'mechanismus': 14052, 'jekra70': 14053, 'gehirnverseucht': 14054, 'vermute': 14055, 'zuvorgekommen': 14056, 'spaeteren': 14057, 'giorgiovienna': 14058, 'medienlandschaft': 14059, 'zehntausenden': 14060, 'navi': 14061, 'vilimsky': 14062, 'trugen': 14063, 'fluechtlingswahnsinn': 14064, 'sicherheitslage': 14065, 'verschaerfte': 14066, 'unchristen': 14067, 'humbug': 14068, 'siggiweise': 14069, 'representative': 14070, 'umfrageinstituten': 14071, 'angelsachsen': 14072, 'gehoerig': 14073, 'verfuegbar': 14074, 'bekommst': 14075, 'terroristische': 14076, 'onkeltorf': 14077, 'freundlichen': 14078, 'bystronafd': 14079, 'ghana': 14080, 'turku': 14081, 'finbotschaftde': 14082, 'umgeht': 14083, 'straffreien': 14084, 'afghanischen': 14085, 'erlaesst': 14086, 'huette': 14087, 'erschreckender': 14088, 'hierfuer': 14089, 'prinzipien': 14090, 'trendwenden': 14091, 'ewige': 14092, 'verdienste': 14093, 'laufschrift': 14094, 'warnt': 14095, 'aufklae': 14096, 'brennpunkten': 14097, 'frederieke': 14098, 'chanukkaleuchter': 14099, 'angemacht': 14100, 'stillen': 14101, 'lauten': 14102, 'schaftsflue': 14103, 'kriegsfl': 14104, '3tstaat': 14105, 'spasskultur': 14106, 'hatespeechger': 14107, 'baeren': 14108, 'aufbinden': 14109, 'paraguay': 14110, 'frauenfeindliche': 14111, 'filmtip': 14112, 'russlands': 14113, 'atomkatastrophe': 14114, 'uschten': 14115, 'gaus': 14116, 'begleitet': 14117, 'nadeschda': 14118, 'kutepowa': 14119, 'bellona': 14120, 'bankwatch': 14121, 'greenpeace': 14122, 'janhaverkamp': 14123, 'ede': 14124, 'mallorca': 14125, 'arbeitslose': 14126, 'schaftsmigranten': 14127, 'philipplicke': 14128, 'tag24de': 14129, 'rausgesucht': 14130, 'asozial': 14131, 'alster': 14132, 'kraeftig': 14133, 'weitergefeie': 14134, 'paulplotzer': 14135, 'kerzenhersteller': 14136, 'strafmassen': 14137, 'razzien': 14138, 'linksextreme': 14139, 'sozusagen': 14140, 'pazifisten': 14141, 'gewaehrleistet': 14142, 'unabhaengiger': 14143, 'westbank': 14144, 'demilitarisie': 14145, 'sammelabschiebeflug': 14146, 'duesseldorfer': 14147, 'mittelbare': 14148, 'ermoeglicht': 14149, 'spako': 14150, 'einsitzt': 14151, 'daktys': 14152, 'schmauchspuren': 14153, 'mundlos': 14154, 'boehnhardt': 14155, 'misstrauensvotum': 14156, 'kinderlose': 14157, 'unklug': 14158, 'vermehrung': 14159, 'finanziellen': 14160, 'verwahrlosten': 14161, 'dummbuergern': 14162, 'jufos': 14163, 'vorstandsteam': 14164, 'mitbestimmen': 14165, 'einzelheiten': 14166, 'klugscheisserin': 14167, 'dachboden': 14168, 'endeckt': 14169, 'abschiebestopp': 14170, 'gewa': 14171, 'polizeihunde': 14172, 'chwesta': 14173, 'fluss': 14174, 'easy': 14175, 'going': 14176, 'juengst': 14177, 'oestlichen': 14178, 'fuehrungsrolle': 14179, 'erfuellte': 14180, 'voelkerdiebstahl': 14181, 'freudschem': 14182, 'kompetenz': 14183, 'vorzutaeuschen': 14184, 'kardasiapat': 14185, 'leitungen': 14186, 'endnummer': 14187, 'leotrotzki79': 14188, 'mano': 14189, 'sterne': 14190, 'koch': 14191, 'schmeckst': 14192, 'rennst': 14193, 'huebscher': 14194, 'satireformate': 14195, 'indizien': 14196, 'gesinnungsdiktatur': 14197, 'gleichgeschalteten': 14198, 'freche': 14199, 'scharfsinnige': 14200, 'einerseits': 14201, 'einen': 14202, 'andererseits': 14203, 'hinweisen': 14204, 'stossen': 14205, 'urban': 14206, 'toleriere': 14207, 'volkstod': 14208, 'asylrechte': 14209, 'verursacher': 14210, 'desasters': 14211, 'keinfreiwild': 14212, 'segeltexter': 14213, 'einfaedeln': 14214, 'gesocks': 14215, 'schwester': 14216, 'freikirche': 14217, 'hebihebiheb': 14218, 'hoefliche': 14219, 'lachmann': 14220, 'spaeten': 14221, 'genauen': 14222, '110': 14223, 'monatlich': 14224, 'unnuetze': 14225, 'windkraftanlagen': 14226, 'norden': 14227, 'trassen': 14228, 'bedaure': 14229, 'zutiefst': 14230, 'regierungskritischen': 14231, 'korruption': 14232, 'konnotie': 14233, 'schubladen': 14234, 'ansichten': 14235, 'einso': 14236, 'mutbuerger': 14237, 'beschiesst': 14238, 'saudumme': 14239, 'spruehaktionen': 14240, 'thomasreife': 14241, 'buetzow': 14242, 'raf': 14243, 'totalversager': 14244, 'bespitzelung': 14245, 'verknoteten': 14246, 'rausgibt': 14247, 'deppe': 14248, 'schranzenverein': 14249, 'legitimation': 14250, 'rechtsbeugermafia': 14251, 'gensta': 14252, 'hahaa': 14253, 'weltnews': 14254, 'remigration': 14255, 'starkpigmentie': 14256, 'bloedsinnsbehoerde': 14257, 'amerikanischen': 14258, 'mockenhaupt': 14259, 'hammelsprung': 14260, 'beschlussfaehigkeit': 14261, 'linksextremen': 14262, 'bereichern': 14263, 'heutzutage': 14264, 'verbloedetes': 14265, 'ikulieren': 14266, 'marial': 14267, 'zustehende': 14268, 'mia': 14269, 'querfront': 14270, 'stroemender': 14271, 'vermeintliche': 14272, 'zensoren': 14273, 'digagkoln': 14274, 'mullah': 14275, 'chaim': 14276, 'icke41': 14277, 'prosiebenmaxx': 14278, 'family': 14279, 'vollzogen': 14280, 'blutrot': 14281, 'umbenennen': 14282, 'loeschung': 14283, 'paragraph1ralph': 14284, 'azuriana': 14285, 'datt': 14286, 'qumranrollen': 14287, 'westjordanland': 14288, 'prothmann': 14289, 'krefeld': 14290, 'margit': 14291, 'loos': 14292, 'offenbach': 14293, 'polizeimfr': 14294, 'marctailer3': 14295, 'physisch': 14296, 'ausbaden': 14297, 'schnittlauch': 14298, 'zecken': 14299, 'nachbardorf': 14300, 'flogen': 14301, 'fenstern': 14302, 'kneipe': 14303, 'att': 14304, 'unterlagen': 14305, 'inklusive': 14306, 'praktizieren': 14307, 'kulturfeindlich': 14308, 'wein': 14309, 'jenand': 14310, 'treffer': 14311, 'yes': 14312, 'f4ksoc3ty': 14313, 'gabriele': 14314, 'schmalz': 14315, 'aljazeera': 14316, 'bejubelt': 14317, 'sprachrohr': 14318, 'klimadeal': 14319, 'maengel': 14320, 'flugzeuge': 14321, 'schiffsdiesel': 14322, 'weltmeeren': 14323, 'schleudern': 14324, 'nbildge': 14325, 'heilbar': 14326, 'einpeitscher': 14327, 'auspeitscher': 14328, 'toleranzgesetz': 14329, 'verbietet': 14330, 'zigeuner': 14331, 'diebe': 14332, 'hamm': 14333, '06': 14334, 'herztablette': 14335, 'ison': 14336, 'bueschen': 14337, '4000': 14338, 'burma': 14339, 'bendels': 14340, 'gothdad': 14341, 'aufstampfenden': 14342, 'kindisch': 14343, 'bibel': 14344, 'wdr5': 14345, 'stets': 14346, 'erweiterung': 14347, 'schatzes': 14348, 'angerueh': 14349, 'inschuz': 14350, 'angedrohte': 14351, 'exilha': 14352, 'genitalmassaker': 14353, 'jugendverbaende': 14354, 'raue': 14355, 'dioezesanjugendpfr': 14356, 'bdkj': 14357, 'nacktmagazin': 14358, 'nachtisch': 14359, 'mohrenkopf': 14360, 'deppendorfu': 14361, 'michaelefler': 14362, 'populistische': 14363, 'pseudostasi': 14364, 'bluehen': 14365, 'linksterroristen': 14366, 'hehehe': 14367, 'biajulixoxo': 14368, 'handhaben': 14369, 'oelpisser': 14370, 'puls4': 14371, 'sommergespraeche': 14372, 'lunacek': 14373, 'bildungsfern': 14374, 'gehscheissen': 14375, 'zapp': 14376, 'hunterzorro3': 14377, 'unbefleckte': 14378, 'empfaengnis': 14379, 'beherrscht': 14380, 'effizientesten': 14381, 'zwingen': 14382, 'bleibebonus': 14383, 'ausreise': 14384, 'faschist': 14385, 'kroch': 14386, 'bush': 14387, 'ramstein': 14388, 'einsaetze': 14389, 'thomasmaron1': 14390, 'kerber': 14391, 'abbruch': 14392, 'eubeitritt': 14393, 'selbstmordanschlag': 14394, 'geilen': 14395, 'gefrkamnitzer': 14396, 'gewaltkriminelle': 14397, 'gaengig': 14398, 'enthauptung': 14399, 'lafer': 14400, 'genussmenschen': 14401, 'schwarzafrika': 14402, 'mpitzke': 14403, 'gespeiche': 14404, 'iunsleber': 14405, 'favorit': 14406, 'kralle': 14407, 'irenemihalic': 14408, 'unwetter': 14409, 'themenmaerchen': 14410, 'wohnhaft': 14411, 'jahreseinkuenfte': 14412, '76': 14413, '472': 14414, 'einkommensteuer': 14415, 'bloggi': 14416, 'zusammengesetzte': 14417, 'verursachen': 14418, 'schnellen': 14419, 'vergessens': 14420, 'suesse': 14421, 'schnitte': 14422, 'zustaendig': 14423, 'vorankuendigung': 14424, 'tasche': 14425, 'finan': 14426, 'heimische': 14427, 'windkraftraeder': 14428, 'atomstrom': 14429, 'kraftwerke': 14430, 'aufgegeben': 14431, 'udohemmelgarn': 14432, 'paulephanter': 14433, 'satan': 14434, 'unterlassung': 14435, 'widerruf': 14436, 'faelschung': 14437, 'kraeften': 14438, 'arrogante': 14439, 'quatscht': 14440, 'wahrheitsliebenden': 14441, 'denunzianten': 14442, 'schluesselpos': 14443, 'werdden': 14444, 'fun': 14445, 'gleichfalls': 14446, 'ines': 14447, 'goennt': 14448, 'kleinste': 14449, 'kleinigkeit': 14450, 'politikerin': 14451, 'kasparkramer': 14452, 'markusf63525888': 14453, 'tomkoehler252': 14454, 'sonny250874': 14455, 'etgetonstefan': 14456, 'beruechtigten': 14457, 'elsmannstiftung': 14458, 'universalempathie': 14459, 'goldstuecken': 14460, 'mdrde': 14461, 'larryelder': 14462, 'b0nn': 14463, 'rauenswuerdige': 14464, 'drehhofer': 14465, 'aut': 14466, 'upmanager': 14467, 'rockefeller': 14468, 'herzkonsument': 14469, 'behoerde': 14470, 'vermisse': 14471, 'optisch': 14472, 'syrern': 14473, 'gepanze': 14474, 'dicker': 14475, 'nymphenga': 14476, 'einreichung': 14477, 'neumannundine': 14478, 'aehnlichen': 14479, 'fordernden': 14480, 'friedlichen': 14481, 'beleuchten': 14482, 'pinkle': 14483, 'spdbpt2017': 14484, 'nebeneinander': 14485, 'rauszuholen': 14486, 'tuerker': 14487, 'dummbrot': 14488, 'paradies': 14489, 'csdleipzig': 14490, 'ruhrcsd': 14491, 'csdwiesbaden': 14492, 'csdulm': 14493, 'toelz': 14494, 'pride2014': 14495, 'america': 14496, 'kontra': 14497, 'worin': 14498, 'lutzschickinger': 14499, 'stockholm': 14500, 'gezuendet': 14501, 'telepo': 14502, 'kriegswaffen': 14503, 'irgendwohin': 14504, 'vorfall': 14505, 'feldhasen': 14506, 'xyzimmermann': 14507, 'animie': 14508, 'hinterherheult': 14509, 'toedliche': 14510, 'schlaganfaelle': 14511, 'saft': 14512, 'formen': 14513, 'abder': 14514, 'offenheit': 14515, 'islamwissenschaftler': 14516, 'hakim': 14517, 'sozialismus': 14518, 'muettern': 14519, 'herzlichsten': 14520, 'glueckwuensche': 14521, 'ehrentag': 14522, 'verrats': 14523, 'grossfamilien': 14524, 'beglueckt': 14525, 'untersuchungshaft': 14526, 'benutzung': 14527, 'laserpointers': 14528, 'blendung': 14529, 'hubschrauberpilot': 14530, 'auslaenderkriminalitaet': 14531, 'bahnhofstreter': 14532, 'drogenverkaeufer': 14533, 'ernten': 14534, 'saeen': 14535, 'saatgut': 14536, 'ueberpruefen': 14537, 'giftpflanzen': 14538, 'politikverbot': 14539, 'dler': 14540, 'auszusprechen': 14541, 'rudisagmal': 14542, 'schaedlinge': 14543, 'seibe': 14544, 'starke': 14545, 'polizeipraesenz': 14546, 'sicherheitskontrollen': 14547, 'pariser': 14548, 'abgeriegelt': 14549, 'zugang': 14550, 'linden': 14551, 'afrikascheisse': 14552, 'uebersaet': 14553, 'teddybaeren': 14554, 'aufkleber': 14555, 'pensionsansprueche': 14556, 'durchsetzung': 14557, 'poetin': 14558, 'wahlwerbung': 14559, 'klopfen': 14560, 'wahlschafshirne': 14561, 'verschweigt': 14562, 'bildmaterial': 14563, 'mittaeter': 14564, 'datenklau': 14565, 'abkassieren': 14566, 'unersaettlich': 14567, '1871': 14568, 'abgesprochene': 14569, 'eilungsquote': 14570, 'pberhaupt': 14571, 'falschbehauptungen': 14572, 'leitung': 14573, 'elternhaus': 14574, 'abfragen': 14575, 'dirkruhr': 14576, 'polizeiberichte': 14577, 'uebeltaeter': 14578, 'schlimmen': 14579, 'buchhandlung': 14580, 'ludwig': 14581, 'hauptbahnhof': 14582, 'schwarzafrikaner': 14583, 'woran': 14584, '280zeichen': 14585, 'shuggy35312948': 14586, 'tunte': 14587, 'wolperdinger': 14588, 'schlagzeilen': 14589, 'unterkuenfte': 14590, 'domnrw47': 14591, 'feigen': 14592, 'ahnungslose': 14593, 'jene': 14594, 'geschaeft': 14595, 'opfermodus': 14596, 'oppo': 14597, 'dachten': 14598, 'messerangriffen': 14599, 'asylantenpack': 14600, 'fehgesteue': 14601, 'ignorant': 14602, 'hirnprinz': 14603, 'legostein': 14604, 'irgendjemand': 14605, 'erhoe': 14606, 'blanko': 14607, 'dienstsiegel': 14608, 'erbeutete': 14609, 'fallschirm': 14610, 'abspringen': 14611, 'sowj': 14612, 'gesetzesaenderungen': 14613, 'unionsve': 14614, 'officialpdc': 14615, 'favoritarata': 14616, 'tode': 14617, 'bestrafen': 14618, 'durchfuettern': 14619, 'gehrke': 14620, 'soehne': 14621, 'sarg': 14622, 'duemmsten': 14623, 'kaelber': 14624, 'schlaechter': 14625, 'olt': 14626, 'brecht': 14627, 'unheilige': 14628, 'treptauer': 14629, 'piratennrw': 14630, 'veranstaltungshinweis': 14631, 'bisherige': 14632, 'diskriminierungsverbot': 14633, 'meddldreggsau': 14634, 'medizinbaelle': 14635, 'verschluckt': 14636, 'zurueckzuschicken': 14637, 'taxifah': 14638, 'willige': 14639, 'helferinnen': 14640, 'sozialarbeiterinnen': 14641, 'vorgaben': 14642, 'lieblingstag': 14643, 'paris': 14644, 'frequentie': 14645, 'freitags': 14646, 'gemuetlichsten': 14647, 'selbsterhaltungstrieb': 14648, 'geistesriese': 14649, 'verglichen': 14650, 'beliebigen': 14651, 'blockpa': 14652, 'konkrete': 14653, 'polsprung': 14654, 'berechnung': 14655, 'springt': 14656, 'aufbieten': 14657, 'verunglimpfen': 14658, 'fingerabdruecke': 14659, 'dna': 14660, 'kriminalistisch': 14661, 'herzblut': 14662, 'legatze': 14663, 'ehm': 14664, 'mannschaft': 14665, 'jakobtheresa': 14666, 'aufmerksam': 14667, 'laenderfinanzausgleich': 14668, 'almosenempfaengern': 14669, 'degradie': 14670, 'blubi64': 14671, 'gypsileszno': 14672, 'kemal': 14673, 'erfinder': 14674, 'envorbesprechung': 14675, 'erwaehnten': 14676, 'symptombekaempfung': 14677, 'weserkurier': 14678, 'befundene': 14679, 'dorfdeppen': 14680, 'demokrat': 14681, 'amerikanerin': 14682, 'kg': 14683, 'geknackt': 14684, 'lachkick': 14685, 'haasmeiko': 14686, 'podcastgmbh': 14687, 'sophiepassmann': 14688, 'stimmungsmache': 14689, 'unnoetig': 14690, 'putzstelle': 14691, 'oskars': 14692, 'oskar': 14693, 'umschlag': 14694, 'auscht': 14695, 'gebet': 14696, 'pater': 14697, 'pio': 14698, 'grundskepsis': 14699, 'zwischenbilanz': 14700, 'lady': 14701, 'genocide': 14702, 'zeichnungen': 14703, 'aneigneten': 14704, 'gerdlorsch': 14705, 'cediwelli': 14706, 'affe': 14707, 'gebildeten': 14708, 'chris': 14709, 'pyak': 14710, 'befragten': 14711, 'fallzahlen': 14712, 'heutiges': 14713, 'vollends': 14714, 'spalten': 14715, 'medienveroeffentlichung': 14716, 'zwischenergebnissen': 14717, 'tendenzioesem': 14718, 'spin': 14719, 'jamaikamodus': 14720, 'unionskreisen': 14721, 'erleichte': 14722, 'serioes': 14723, 'glashaus': 14724, 'jugoslawien': 14725, 'bombardie': 14726, 'junta': 14727, 'bodoramelow': 14728, 'aufbringen': 14729, 'singsang': 14730, 'telekom': 14731, 'fassungslosigkeit': 14732, 'tausenden': 14733, 'intergrie': 14734, 'abgeschobenen': 14735, 'geschehniss': 14736, 'gehirngewaschen': 14737, 'armageddon': 14738, 'abspielt': 14739, 'dasgonzo': 14740, 'trio': 14741, 'bezog': 14742, 'ueberfallenen': 14743, 'radfahrer': 14744, 'inzwischen': 14745, 'thereallukasj': 14746, 'jkruetzkamp': 14747, 'palestinanser': 14748, 'hahn': 14749, 'haesslichkeit': 14750, 'buntlandbuerger': 14751, 'allzu': 14752, 'macintosh1968': 14753, 'matthiasb1963': 14754, 'kaigleissner': 14755, 'woli2017': 14756, 'laecherlichkeit': 14757, 'ueberbiete': 14758, 'vallenmarkus': 14759, 'got': 14760, 'europrideagm': 14761, 'hamburgpride2020': 14762, 'scheissprovinz': 14763, 'vg': 14764, 'tusse': 14765, 'anschlags': 14766, 'stellve': 14767, 'retend': 14768, 'chen': 14769, 'gesetzlich': 14770, 'hasskommentare': 14771, 'fragwuerdigen': 14772, 'bewusster': 14773, 'tierischen': 14774, 'gebiete': 14775, 'farbenbekennen': 14776, 'brauch': 14777, 'moralzeigefinger': 14778, 'aushalten': 14779, 'gegenwind': 14780, 'buchlaeden': 14781, 'verweigern': 14782, 'leiter': 14783, 'desselben': 14784, 'kleines': 14785, 'vorhand': 14786, 'politikermuell': 14787, 'atommuell': 14788, 'strahlende': 14789, 'aussicht': 14790, 'abzuwenden': 14791, 'erstattet': 14792, '17uhr5': 14793, 'fliessendem': 14794, 'alda': 14795, 'achta': 14796, 'ketten': 14797, 'karussell': 14798, 'stinken': 14799, 'bereut': 14800, 'bedaue': 14801, 'guenstige': 14802, 'beeinflusst': 14803, 'wissens': 14804, 'laengen': 14805, 'populistischer': 14806, 'jot': 14807, 'konzernen': 14808, 'aldi': 14809, 'sexistisch': 14810, 'peternherold': 14811, 'hihi': 14812, 'diesjaehrigen': 14813, 'leichtigkeit': 14814, 'menschheitsverbrechen': 14815, 'enhaelt': 14816, 'psycho': 14817, 'marionhorn': 14818, 'jessenphil': 14819, 'leogfischer': 14820, 'galt': 14821, 'saarlaendische': 14822, 'rechtschreibverordnung': 14823, 'entgegenzutreten': 14824, 'intentionen': 14825, 'lokalzeit': 14826, 'mordmeldungen': 14827, 'bereicherungen': 14828, 'eritraeer': 14829, 'neusta': 14830, 'hinlegt': 14831, 'fluechtlingshelferin': 14832, 'gluehende': 14833, 'traenen': 14834, 'ruehrung': 14835, 'anmerkungen': 14836, 'eingearb': 14837, 'druckversion': 14838, 'ausgebuegelt': 14839, 'korr': 14840, '75': 14841, 'multos': 14842, 'annos': 14843, 'langjaehriger': 14844, 'kollege': 14845, 'haushaltsausschuss': 14846, 'ewald': 14847, 'schurer': 14848, 'rip': 14849, 'banale': 14850, 'boulevard': 14851, 'ske': 14852, 'essentiellen': 14853, 'milvus84': 14854, 'abgeschrieben': 14855, 'initiative': 14856, 'bichtemann': 14857, 'geschweige': 14858, 'todesumstaende': 14859, 'almanuser': 14860, 'kcharlesw732': 14861, 'noske': 14862, 'bluthund': 14863, 'salz': 14864, 'erfaeh': 14865, 'meinungsbilder': 14866, 'idahot2017': 14867, 'rathausmarkt': 14868, 'verniedlicht': 14869, 'gleichgeschaltetes': 14870, 'geilheit': 14871, 'umschalter': 14872, 'steuermehreinnahmen': 14873, 'gestopft': 14874, 'steuergeschenken': 14875, 'bezweifle': 14876, 'verseuchte': 14877, 'bereinigt': 14878, 'zeitweisige': 14879, 'duldung': 14880, 'ausbeutung': 14881, 'sozialgelder': 14882, 'panie': 14883, 'huehnchen': 14884, 'fettig': 14885, 'straft': 14886, 'prompt': 14887, 'uebelkeit': 14888, 'industriell': 14889, 'vernichteten': 14890, 'gnadengesuch': 14891, 'spuerbar': 14892, 'cimzeciz': 14893, 'gutreden': 14894, 'malt': 14895, 'moerderin': 14896, 'gruppierungen': 14897, 'hoechstem': 14898, 'barbarafische19': 14899, 'buntewelt1966': 14900, 'tandemvipera': 14901, 'buchholz': 14902, 'skakeller': 14903, 'terryreintke': 14904, 'max': 14905, 'lucks': 14906, 'kahrs': 14907, 'verbale': 14908, 'totschlagkeulen': 14909, 'ueberschrift': 14910, 'vernunftbegabte': 14911, 'mossad': 14912, 'geschenkt': 14913, 'bereiche': 14914, 'museums': 14915, 'kursker': 14916, 'bogen': 14917, 'sowjetrecht': 14918, 'igelei': 14919, 'davidstern': 14920, 'sprechchoeren': 14921, 'streicht': 14922, 'weltweite': 14923, 'sorgten': 14924, 'logisch': 14925, 'schulgeneration': 14926, 'indoktrinie': 14927, 'blacky3976': 14928, 'infoleonhardt': 14929, 'kinderheim': 14930, 'bereiten': 14931, 'ausgangssperre': 14932, 'seminar': 14933, 'dauerzustand': 14934, 'jaaaaaaaaaa': 14935, 'hmmmmmmmmmmm': 14936, 'zahlte': 14937, 'schweinemedien': 14938, 'karcsi3000': 14939, 'drastische': 14940, 'eurokraten': 14941, 'mitgliedslaendern': 14942, 'meilenweit': 14943, 'vorbeigeht': 14944, 'bohlen': 14945, 'auftrieb': 14946, 'tippeln': 14947, 'nichtsnutziges': 14948, 'lumpenpack': 14949, 'anwendung': 14950, 'prinzips': 14951, 'gefaelschten': 14952, 'gesunde': 14953, 'einwanderungspolitik': 14954, 'verwirklichen': 14955, 'einklang': 14956, 'regelwerk': 14957, 'sven': 14958, 'kindler': 14959, 'keinerentemit70': 14960, 'tuerkisches': 14961, 'erdferkel': 14962, 'dpolghh': 14963, 'dpolgberlin': 14964, 'bz': 14965, 'nachtfloh': 14966, 'strassenseite': 14967, 'wechsle': 14968, 'aggressivitaet': 14969, 'vermeintl': 14970, 'erhabenheit': 14971, 'tschipanski': 14972, 'digitalpakt': 14973, 'bekanntlich': 14974, 'schneider': 14975, 'afdkompakt': 14976, 'gebiet': 14977, 'kohlenpott': 14978, 'gelsenkirchen': 14979, 'gas': 14980, 'hetzerreligion': 14981, 'zukunftsfaehige': 14982, 'migrations': 14983, 'integrationspolitik': 14984, 'keth': 14985, 'ausreisen': 14986, 'korb': 14987, 'armenier': 14988, 'jetz': 14989, 'annotator': 14990, 'caesarion2': 14991, 'daesh': 14992, 'unterstreichen': 14993, 'eilsnehmer': 14994, 'bildnis': 14995, 'walsberger49': 14996, 'todenhoefer': 14997, 'islamlobbyist': 14998, 'einflussreich': 14999, 'digitalciti88': 15000, 'lobte': 15001, 'fussfessel': 15002, 'auchen': 15003, 'wikinger': 15004, 'finanzamt': 15005, 'versicherungen': 15006, 'icken': 15007, 'arabis': 15008, 'germanische': 15009, 'abstammungsprinzip': 15010, 'erodieren': 15011, 'pressegespraech': 15012, 'gestrigen': 15013, 'jungerecato': 15014, 'pappa': 15015, 'grundwe': 15016, 'ekommission': 15017, 'berechenbar': 15018, 'abgespeiche': 15019, 'vorschlaghammer': 15020, 'schmunzeln': 15021, 'ueberdurchschnittlich': 15022, 'abgrund': 15023, 'palaestinensische': 15024, 'angemeldet': 15025, 'durchfuehrung': 15026, 'veranstaltungen': 15027, 'mehrausgaben': 15028, 'aufreger': 15029, 'britgirly': 15030, 'originalton': 15031, 'verachten': 15032, 'psychotherapie': 15033, 'durchzubekommen': 15034, 'deranschlag': 15035, 'dieeditrix': 15036, 'verlieben': 15037, 'linda': 15038, 'jugendkultur': 15039, 'fussssall': 15040, 'bulimie': 15041, 'paul': 15042, 'newman': 15043, 'pfiffige': 15044, 'hol': 15045, 'hohen': 15046, 'klettern': 15047, 'tatenhungrig': 15048, 'unterbindet': 15049, 'kletterei': 15050, 'eie': 15051, 'schlau': 15052, 'beluegt': 15053, 'huld': 15054, 'gad': 15055, 'vorbeigekommen': 15056, 'unfaehigsten': 15057, 'bekleiden': 15058, 'ministerien': 15059, 'angestellt': 15060, 'landdervollidioten': 15061, 'jani': 15062, 'wucht': 15063, 'deutschlandweit': 15064, 'namensaenderung': 15065, 'wintermarkt': 15066, 'kanzlerkandidaten': 15067, 'abgebrochen': 15068, 'unwaehlbar': 15069, 'niedrigstem': 15070, 'totul69': 15071, 'intensiv': 15072, 'wetterbedingt': 15073, 'umwegen': 15074, 'pastoralkonferenz': 15075, 'kirchenrechtlich': 15076, 'weilt': 15077, 'hinterlassenschaft': 15078, 'karneval': 15079, 'herrlicher': 15080, 'vorarlberg': 15081, 'genners': 15082, 'verleitung': 15083, 'verflechtungen': 15084, 'dokumentieren': 15085, 'bestuerzt': 15086, 'zentralkomitees': 15087, 'iltizog': 15088, 'fctoto': 15089, 'sturmdaniel': 15090, 'things': 15091, 'restyle1991': 15092, 'satter': 15093, 'pope': 15094, 'hungrigen': 15095, 'fastens': 15096, 'bloeder': 15097, 'rudolfstroheim': 15098, 'monikaatombusen': 15099, 'caritativen': 15100, 'kirch': 15101, 'landesregierung': 15102, 'asylleistungen': 15103, 'tellerrand': 15104, 'hinausschauen': 15105, 'tageszeitung': 15106, 'zunahme': 15107, 'rassisitischer': 15108, 'inflationaeren': 15109, 'bschweinsteiger': 15110, 'anaivanovic': 15111, 'himmlische': 15112, 'schlechteren': 15113, 'ua': 15114, 'parliament': 15115, 'hromadske': 15116, 'euromaidanpr': 15117, 'tausch': 15118, 'peinliche': 15119, 'altersbestimmung': 15120, 'pmkrechts': 15121, 'entmuendigen': 15122, 'erwaehnenswe': 15123, 'grippewelle': 15124, 'bulgarireif': 15125, 'entstellt': 15126, 'kuemmere': 15127, 'schwarzenampel': 15128, 'verbrech': 15129, 'befeuern': 15130, 'demokratischen': 15131, 'zusammenstehen': 15132, 'ticket': 15133, 'euern': 15134, 'sicherheitspersonal': 15135, 'busse': 15136, 'sim': 15137, 'bernhardwasel': 15138, 'diskussionspa': 15139, 'verknuepften': 15140, 'familiengeschichte': 15141, 'heulsuse': 15142, 'tellonym': 15143, 'volksverraetern': 15144, 'gewalttaetern': 15145, 'sugarmama': 15146, 'dimension': 15147, 'crystall': 15148, 'faktencheck': 15149, 'hoechstpersoenlich': 15150, 'mccrushi': 15151, 'buddhine1970': 15152, 'vorfreude': 15153, 'rinken': 15154, 'rettungsring': 15155, 'spielraum': 15156, 'oekumenischen': 15157, 'thoma': 15158, 'oekumene': 15159, 'paddema': 15160, 'mqua': 15161, 'baelle': 15162, 'gekriegt': 15163, 'hinterlist': 15164, 'rezeptionsfaehigkeiten': 15165, '10000': 15166, 'islamistischen': 15167, 'taxikosten': 15168, 'eingerechnet': 15169, 'relation': 15170, 'noeoeoeoe': 15171, 'pfiffig': 15172, 'chvoyage': 15173, 'susiansujali': 15174, 'rechtspopulistisch': 15175, 'nerv': 15176, 'antiisraelisch': 15177, 'vormaerzv2': 15178, 'uliwatcher': 15179, 'huebner': 15180, 'klueger': 15181, 'merretz': 15182, 'helene': 15183, 'bumsen': 15184, 'kondom': 15185, 'kurd': 15186, 'gebieten': 15187, 'fluechtlingsbetreuung': 15188, 'westlichen': 15189, 'alleingelassen': 15190, 'brise': 15191, 'nationalstolz': 15192, 'heuchlerische': 15193, 'terminen': 15194, 'hauptausschusses': 15195, 'angekratzte': 15196, 'msmedien': 15197, 'politpupe': 15198, 'bewirken': 15199, 'gehwaehlen': 15200, 'btw13': 15201, 'derliuhvan': 15202, 'orsolasusan': 15203, 'vergleiche': 15204, 'bildungsabschluesse': 15205, 'einreisechance': 15206, 'richtet': 15207, 'verkommem': 15208, 'geschaeften': 15209, 'beardedguy80': 15210, 'dezernat': 15211, 'nadjam1980': 15212, 'emrecan88179995': 15213, 'alfreddraxler': 15214, 'hoffenheim': 15215, 'besseren': 15216, 'kommentatoren': 15217, 'urinal': 15218, 'entsprechen': 15219, 'sbg1s': 15220, 'verleumden': 15221, 'kahanen': 15222, 'attackieren': 15223, 'rubbersoul20': 15224, 'strange': 15225, 'malteoppermann': 15226, 'mitgliederentscheidungen': 15227, 'thkreher': 15228, 'paulehasi13': 15229, 'sis': 15230, 'effizienter': 15231, 'zack': 15232, 'volksgenossen': 15233, 'bekannte': 15234, 'ruestungsfirma': 15235, 'grenzmauern': 15236, 'palestinensern': 15237, 'sicherste': 15238, 'unueberwindlichste': 15239, 'grenzmauer': 15240, 'alicebota': 15241, 'zois': 15242, 'veser': 15243, 'erstaunliche': 15244, 'hauptgrund': 15245, 'vernachlaessigung': 15246, 'halbinsel': 15247, 'thesittingpanda': 15248, 'amarienbad': 15249, 'lebenslaenglich': 15250, 'giebt': 15251, 'lupe': 15252, 'einz': 15253, 'estland': 15254, 'doodoofist': 15255, 'waehlten': 15256, 'strohdumm': 15257, 'referendum': 15258, 'analysen': 15259, 'inhaftie': 15260, 'weltmeisterschaft': 15261, 'rsi99': 15262, 'vorigen': 15263, 'steuerbetrug': 15264, 'ausgemuste': 15265, 'eidigung': 15266, 'verdeidigen': 15267, 'mohnfelder': 15268, 'smegworx': 15269, 'angehoeren': 15270, 'abschafft': 15271, 'grundlegend': 15272, 'indie': 15273, 'informiere': 15274, 'haushalten': 15275, 'gebuehr': 15276, 'auferlegt': 15277, 'ausgetreten': 15278, 'noblessefatigue': 15279, 'unschuldige': 15280, 'gekoepft': 15281, 'anpacken': 15282, 'haniawiatrek': 15283, 'pudern': 15284, 'park': 15285, 'podiumsdiskussion': 15286, 'islamkritik': 15287, 'islamphobie': 15288, 'hoersaal': 15289, '1098': 15290, 'ebmuc': 15291, 'spendet': 15292, 'katastrophenfonds': 15293, 'caritas': 15294, 'ci': 15295, 'erdbebenopfer': 15296, 'bangladesch': 15297, 'gefluechtet': 15298, 'einreist': 15299, 'verspielt': 15300, 'runaway4health': 15301, 'anerkannten': 15302, 'faktor': 15303, 'zuwerden': 15304, 'likud': 15305, 'beitenu': 15306, 'avigdorliberman': 15307, 'gedeutet': 15308, 'denunzie': 15309, 'siemens': 15310, 'bosse': 15311, 'massiven': 15312, 'arbeitsplatzabbau': 15313, 'palme': 15314, 'geduldet': 15315, 'klappen': 15316, 'nicolaus': 15317, 'dickerchen': 15318, 'pubst': 15319, 'beschraenkung': 15320, 'formalen': 15321, 'betreuung': 15322, 'lospoehlen': 15323, 'taete': 15324, 'benweinthal': 15325, 'ausgerichtet': 15326, 'ottensen': 15327, 'hochzupuschen': 15328, 'fritzusa': 15329, 'vervollstaendigen': 15330, 'walten': 15331, 'anfangs': 15332, 'haftbefehl': 15333, 'peitsche': 15334, 'revidie': 15335, 'daheim': 15336, 'ausgebildet': 15337, 'sylbewerber': 15338, 'weihbischof': 15339, 'saechsisch': 15340, 'niederlassen': 15341, 'zweit': 15342, 'gerettet': 15343, 'zurueckgebracht': 15344, 'noetigen': 15345, 'blitz': 15346, 'juengsten': 15347, 'ungarischen': 15348, 'asylgesetze': 15349, 'rueckueberstellungen': 15350, 'eyadhadrous': 15351, 'weisheit': 15352, 'ermahnung': 15353, 'wahrlich': 15354, 'abgekommen': 15355, 'rechtgeleiteten': 15356, 'bekraeftigt': 15357, 'isral': 15358, 'gelaehmter': 15359, 'ausreden': 15360, 'schnellsten': 15361, 'oha': 15362, 'landesverband': 15363, 'generalsekretaer': 15364, 'jubw': 15365, 'betet': 15366, 'bischofschick': 15367, 'gebetstag': 15368, 'lobt': 15369, 'designie': 15370, 'schmunzelnd': 15371, 'schmunzeleien': 15372, 'erahnen': 15373, 'daemlichste': 15374, 'klatscht': 15375, 'jubelt': 15376, 'scootergate': 15377, 'arschlecken': 15378, 'putschregimes': 15379, '40ern': 15380, 'kugelschreibereintraege': 15381, 'fakes': 15382, 'nachweist': 15383, 'afrikanisch': 15384, 'amen': 15385, 'angies': 15386, 'baltikum': 15387, 'muspell': 15388, 'blablablabla': 15389, 'schall': 15390, 'rauch': 15391, 'volmi6': 15392, 'dwn': 15393, 'hinaufwandern': 15394, 'rechtsradikales': 15395, 'attentat': 15396, 'ausmass': 15397, 'nazidiffamierung': 15398, 'einschuechtern': 15399, 'trumps': 15400, 'arndt': 15401, 'klocke': 15402, 'monaneubaur': 15403, 'abaerbock': 15404, 'wibkegt': 15405, 'vion': 15406, 'verneigt': 15407, 'abgesaegten': 15408, 'stuhlbeine': 15409, 'aufzuheben': 15410, 'faengst': 15411, 'corporate': 15412, 'media': 15413, 'rangie': 15414, 'level': 15415, 'ze': 15416, 'retenen': 15417, 'kakalake': 15418, 'drunter': 15419, 'interpunktion': 15420, 'feinden': 15421, 'zwecke': 15422, 'koko': 15423, 'ueberstimmen': 15424, 'reichte': 15425, 'wirklichkeit': 15426, 'hakan': 15427, 'ta': 15428, 'beschimpfte': 15429, 'ausgemacht': 15430, 'hakantasberlin': 15431, 'entlohnt': 15432, 'theresa': 15433, 'inwieweit': 15434, 'vorbeischauen': 15435, 'ukw11': 15436, 'stoerend': 15437, 'kostenlos': 15438, 'eingeknickt': 15439, 'nazimedien': 15440, 'undefinierbare': 15441, 'hafersuppe': 15442, 'hole': 15443, 'janfleischhauer': 15444, 'kriminologe': 15445, 'pfeifersollte': 15446, 'getestet': 15447, 'hausaufgaben': 15448, 'polie': 15449, 'van': 15450, 'verne': 15451, 'gereicht': 15452, 'altabt': 15453, 'existenzminimum': 15454, 'geldstrafen': 15455, 'amok': 15456, 'taeterschutz': 15457, 'hate': 15458, 'ignoriere': 15459, 'kuehnikev': 15460, 'angeschaut': 15461, 'suuuuper': 15462, 'eindrucksvoll': 15463, 'anmitja': 15464, 'besondere': 15465, 'liebli': 15466, 'ngsfrau': 15467, 'rasanten': 15468, 'kirchensteuer': 15469, 'trete': 15470, 'repraesentativer': 15471, 'shieldlive': 15472, 'agie': 15473, 'aras': 15474, 'bacho': 15475, 'moeglicherweise': 15476, 'bott': 15477, 'avatar': 15478, 'verabschiede': 15479, 'verweisen': 15480, 'mahnwachen': 15481, 'bildungsprojekte': 15482, 'muslimisch': 15483, 'vernichtungssumpf': 15484, 'pickeltraeger': 15485, 'primark': 15486, 'boykottiere': 15487, 'anbeginn': 15488, 'ausbeuter': 15489, 'qualitaetsgeschaefte': 15490, 'billigketten': 15491, 'weichen': 15492, 'staatsoberhaeupter': 15493, 'verstaendlicher': 15494, 'erbsengroesse': 15495, 'aufgeblasen': 15496, 'belastungsmaterial': 15497, 'stockl': 15498, 'quotenve': 15499, 'diaetenerhoehungen': 15500, 'plasberg': 15501, 'dummbacke': 15502, 'jauch': 15503, 'staasistein': 15504, 'zitats': 15505, 'katastrophales': 15506, 'musilme': 15507, 'islamophoben': 15508, 'denkmustern': 15509, 'bremer': 15510, 'hauptamtliche': 15511, 'versorgen': 15512, 'oooooh': 15513, 'menschenschutzbund': 15514, 'menschenwohl': 15515, 'dodelhodel': 15516, 'fas': 15517, 'unkenntnis': 15518, 'lauts': 15519, 'ravensdownfall': 15520, 'geschichts': 15521, 'powi': 15522, 'leistungskurs': 15523, 'mausraster': 15524, 'eierlosen': 15525, 'oblaten': 15526, 'steak': 15527, 'zentralrats': 15528, 'leugnung': 15529, 'betreibe': 15530, 'entsprechende': 15531, 'unterlassungserklaerung': 15532, 'rausgerutscht': 15533, 'stapeln': 15534, 'wehrlos': 15535, 'weiber': 15536, 'geil': 15537, 'spdund': 15538, 'puppe': 15539, 'angezogen': 15540, 'kent': 15541, 'reichsuniform': 15542, 'oent': 15543, 'religionsg': 15544, 'repraesentieren': 15545, 'trittbrettfahrer': 15546, 'nahostkonflikt': 15547, 'affinen': 15548, 'meinungsmache': 15549, 'anina': 15550, 'hundekeks': 15551, 'oehm': 15552, 'komplette': 15553, 'vorenthalten': 15554, 'abschiebehaft': 15555, 'kleinsten': 15556, 'unverzichtbarsten': 15557, 'sinnlos': 15558, 'keuschheits': 15559, 'kanns': 15560, 'politikerle': 15561, 'minderjaehrig': 15562, 'eingestuft': 15563, 'sabotage': 15564, 'oberguru55': 15565, 'volksfeindliche': 15566, 'mundtot': 15567, 'untermenschen': 15568, 'ehrenwe': 15569, 'linnkuppitz': 15570, 'migationshintergrund': 15571, 'integrationslotte': 15572, 'aydan': 15573, 'leutealte': 15574, 'zitate': 15575, 'vorbote': 15576, 'vorreiter': 15577, 'erloeser': 15578, 'realdonaldtrump': 15579, 'ueberstehen': 15580, 'lieblings': 15581, 'chinese': 15582, 'isst': 15583, 'sehnlichst': 15584, 'untergeht': 15585, 'unbrauchbar': 15586, 'sichtbar': 15587, 'staasfunk': 15588, 'fernsehprogramm': 15589, 'funkour': 15590, 'grammatikfehle': 15591, 'feiner': 15592, 'diplomatischen': 15593, 'reflektieren': 15594, 'landfriedenbruch': 15595, 'westbhf': 15596, 'rapid274': 15597, 'fluchthilfeprozess': 15598, 'muddalekken': 15599, 'tausche': 15600, 'murmel': 15601, 'feindliche': 15602, 'pferdesauerbraten': 15603, 'norddeutsch': 15604, 'nachtrag': 15605, 'rechtsextreme': 15606, 'paedophilen': 15607, 'holocaustleugnung': 15608, 'verehrung': 15609, 'draengt': 15610, 'verdacht': 15611, 'alfonsmark1': 15612, 'jewishagency': 15613, 'zwstgermany': 15614, 'hilfsprogramme': 15615, 'ueberlesen': 15616, 'thetravel0': 15617, 'zunehmenden': 15618, 'rubenneugebauer': 15619, 'zustaendige': 15620, 'abgehalfte': 15621, 'durchschaubare': 15622, 'ueberlegenen': 15623, 'rattenfaenger': 15624, 'ww2': 15625, 'gaswagen': 15626, 'abgasen': 15627, 'zyklon': 15628, 'bolschewik': 15629, 'infiltrator': 15630, 'hapatamast': 15631, 'bjoernhoecke': 15632, 'moellerafd': 15633, 'gleichheitsgrundsatz': 15634, 'unverdiente': 15635, 'ninchen': 15636, 'galileo': 15637, 'letztens': 15638, 'angefragt': 15639, 'neeneenee': 15640, 'schraege': 15641, '4jahren': 15642, 'christentums': 15643, 'alqudsday': 15644, 'nahost': 15645, 'luedke': 15646, 'reichtum': 15647, 'stehenden': 15648, 'mitleidserregend': 15649, 'jahresabonnement': 15650, 'bildzeitung': 15651, 'linderung': 15652, 'verschafft': 15653, 'schuppen': 15654, 'reichweite': 15655, 'eucopresident': 15656, 'blogbeitrag': 15657, 'demografischen': 15658, 'hintergedanken': 15659, 'grenzoeffnung': 15660, 'recherchen': 15661, 'demographische': 15662, 'mitgepraegt': 15663, 'existenzielle': 15664, 'migrationsgesetz': 15665, 'boesen': 15666, 'sonderlich': 15667, 'ideologischen': 15668, 'amuesant': 15669, 'trans': 15670, 'sunsetmission69': 15671, 'rechtsterrorismus': 15672, 'riesiges': 15673, 'skopelosgreece': 15674, 'reichsvikar': 15675, 'ohnewo': 15676, 'e2015': 15677, 'nutzte': 15678, 'gemordet': 15679, 'katalanen': 15680, 'ausgangspunkt': 15681, 'lydia': 15682, 'ruisch': 15683, '20jaehrige': 15684, 'jubilaeum': 15685, 'frauenordination': 15686, 'durften': 15687, 'wahlleiter': 15688, 'justinakilinski': 15689, 'pengberlin': 15690, 'btw2017': 15691, 'beobachtung': 15692, 'aufsicht': 15693, 'wiederbeleben': 15694, 'tuns': 15695, 'mischka815': 15696, 'militaerpolizei': 15697, 'regimentsstaerke': 15698, 'gitmo': 15699, 'arifkoray': 15700, 'nachnamen': 15701, 'ueberzeugender': 15702, 'zuwanderungsfragen': 15703, 'grundrechte': 15704, 'sonnenblume': 15705, 'halbmond': 15706, 'rotem': 15707, 'tuch': 15708, 'niederlanden': 15709, 'flugzeuglandungen': 15710, 'meidung': 15711, 'mitbuerger': 15712, 'rentenkassen': 15713, 'angriffskrieg': 15714, 'ruestet': 15715, 'kopponline': 15716, 'ndrstrapp': 15717, 'echtes': 15718, 'empathie': 15719, 'heuchlerischem': 15720, 'gutmenschentum': 15721, 'sprotte': 15722, 'weggemacht': 15723, 'mieseehre': 15724, 'homobeck': 15725, 'beeindruckende': 15726, 'lebzelten': 15727, 'taig': 15728, 'nimbt': 15729, 'hoenig': 15730, 'lasts': 15731, 'guette': 15732, 'stundt': 15733, 'sieden': 15734, 'gewirz': 15735, 'darein': 15736, 'pfeffer': 15737, 'zimet': 15738, 'aenis': 15739, 'coriander': 15740, 'dises': 15741, 'gewuerz': 15742, 'zwen': 15743, 'daig': 15744, 'leckere': 15745, 'eingespritzt': 15746, 'herunter': 15747, 'nfl': 15748, 'befuerchte': 15749, 'american': 15750, 'football': 15751, 'naher': 15752, 'sky': 15753, 'netflix': 15754, 'profite': 15755, 'erwi': 15756, 'lizenzen': 15757, 'basisgebuehren': 15758, 'ueberlegt': 15759, 'verfassungsfeinde': 15760, 'toren': 15761, 'edelmann': 15762, 'seltsam': 15763, 'gelobt': 15764, 'vordergrund': 15765, 'dschungelcampbewohner': 15766, 'bekennender': 15767, 'uebergutmensch': 15768, 'lasvegasshooter': 15769, 'brainwashed': 15770, 'europagelaber': 15771, 'kotzkraempfe': 15772, 'anschaust': 15773, 'shows': 15774, 'poebel': 15775, 'aktik': 15776, 'ablegt': 15777, 'matthau63': 15778, 'hrbruns': 15779, 'faire': 15780, 'schokolade': 15781, 'gepafai': 15782, 'rade': 15783, 'gebete': 15784, 'blutet': 15785, 'freundschaft': 15786, 'florianeder': 15787, 'dunkel': 15788, 'dacht': 15789, 'caesar': 15790, 'abk': 15791, 'beanspruchte': 15792, 'badenfm': 15793, 'kerstinandreae': 15794, 'suedbadisch': 15795, 'wendlaendisch': 15796, 'reparaturanfaelligen': 15797, 'nunmehr': 15798, 'vergnuegungssteuerpflichtig': 15799, 'schlafen': 15800, 'gemeinhin': 15801, 'ueberschaetzt': 15802, 'zerschlagung': 15803, 'rennen': 15804, 'mcdonald': 15805, 'handys': 15806, 'uebernemen': 15807, 'stichw': 15808, 'projektsflaeche': 15809, 'hergeben': 15810, 'entlastungsdebatte': 15811, 'allesboesekommtvomausland': 15812, 'kingbalance': 15813, 'ratiopharm': 15814, 'verlange': 15815, 'umschreiben': 15816, 'versickern': 15817, 'erschaffen': 15818, 'vollnieten': 15819, 'muddie1960': 15820, 'mainzerin': 15821, 'zi': 15822, 'alternativ': 15823, 'mehrbett': 15824, 'maedelszimmer': 15825, 'auseinanderstrebenden': 15826, 'ekelig': 15827, 'herrchens': 15828, 'wiener': 15829, 'leckerer': 15830, 'delegation': 15831, 'hintergrundwissen': 15832, 'anzueignen': 15833, 'wissenschaftlich': 15834, 'anerzogene': 15835, 'ueberbewe': 15836, 'poestchen': 15837, 'geschmissen': 15838, 'turner': 15839, 'alex': 15840, 'shatilov': 15841, 'bern': 15842, 'bronze': 15843, 'ecbern2016': 15844, 'politmafia': 15845, 'erpresst': 15846, 'unlustiger': 15847, 'spasst': 15848, 'germambteheran': 15849, 'hassanrouhani': 15850, 'lgbtiq': 15851, 'iten': 15852, 'europeanberlin': 15853, 'glatte': 15854, 'treuhandverwaltung': 15855, 'erfolgte': 15856, 'beitreten': 15857, 'hohes': 15858, 'giraffe': 15859, 'auffaell': 15860, 'ehemal': 15861, 'grenzuebergangseinrichtungen': 15862, 'bewundernswe': 15863, 'linkenwaehlerin': 15864, '25jaehrigen': 15865, 'traeumten': 15866, 'stellte': 15867, 'herrlich': 15868, 'einkaufszentren': 15869, 'stressfreies': 15870, 'baiser': 15871, 'golob': 15872, 'vanmeeren': 15873, 'prof': 15874, 'motsch': 15875, 'stump': 15876, 'dreixler': 15877, 'sippenhaft': 15878, 'nattl': 15879, 'verschwinde': 15880, 'geschlossenem': 15881, 'vorangekommen': 15882, 'lohnen': 15883, 'ratifizieren': 15884, 'messers': 15885, 'beziehungstat': 15886, 'getoetete': 15887, 'laengeres': 15888, 'huellen': 15889, 'shuttleschiffe': 15890, 'schnueffel': 15891, 'engingalaxy': 15892, 'einzeller': 15893, 'ecken': 15894, 'kanten': 15895, 'dorfleiter': 15896, 'gebrechlich': 15897, 'verpruegle': 15898, 'durst': 15899, 'princevince': 15900, 'antonbruckenput': 15901, 'timfelber': 15902, 'honk': 15903, 'schleyer': 15904, 'buback': 15905, 'reker': 15906, 'koe': 15907, 'jahresauftakt': 15908, 'diesozialeopposition': 15909, 'normalen': 15910, 'bietet': 15911, 'geduldig': 15912, 'ragdahd': 15913, 'schuelerin': 15914, 'vorfeld': 15915, 'ottovonbisquark': 15916, 'sarkastisch': 15917, 'bitterboeser': 15918, 'dringt': 15919, 'rationale': 15920, 'weggenazit': 15921, 'louismetapher': 15922, 'duzen': 15923, 'generalverdacht': 15924, 'muslimischislamistischer': 15925, 'eroberer': 15926, 'kapitalverbrechen': 15927, 'damnhotfinn': 15928, 'raditzroman': 15929, 'nachgefragt': 15930, 'jue': 15931, 'sunny': 15932, 'gedaue': 15933, 'herausfinden': 15934, 'notorisch': 15935, 'komplettes': 15936, 'neugier': 15937, 'beispjel': 15938, 'lugner': 15939, 'kuesst': 15940, 'hellste': 15941, 'behaupte': 15942, 'taquia': 15943, 'virzeigemoslems': 15944, 'steffen': 15945, 'gewuenschten': 15946, 'effekt': 15947, 'verbreitest': 15948, 'ursache': 15949, 'humanitaet': 15950, 'kriegstreiber': 15951, 'ragsbedingungen': 15952, 'herbsttreffen': 15953, 'bischoefe': 15954, 'wendel': 15955, 'jugendarbeit': 15956, 'moslime': 15957, 'handschlag': 15958, 'zurueckschickt': 15959, 'fluechtlingspropaganda': 15960, 'bilddung': 15961, 'frauengesundheit': 15962, 'messerattacken': 15963, 'unrealistischer': 15964, 'kluengel': 15965, 'grundgesetze': 15966, 'eiskalt': 15967, 'asylberechtigt': 15968, 'sonne': 15969, 'mitfeiern': 15970, 'wolken': 15971, 'verjagt': 15972, 'prophet': 15973, 'ermutigt': 15974, 'dioezesanjugendpfarrer': 15975, 'harpoel': 15976, 'heino': 15977, 'undeutschen': 15978, 'auslaenderinnen': 15979, 'hinfallen': 15980, 'kalifat': 15981, 'scheibelhut': 15982, 'vereinbarungen': 15983, 'pole': 15984, 'koenne': 15985, 'chefsekretaerin': 15986, 'oberstes': 15987, 'map89': 15988, 'fotografieret': 15989, 'auslacht': 15990, 'verhoehnt': 15991, 'ordnungsresso': 15992, 'zuzuordnen': 15993, 'kernkompetenz': 15994, 'erfrieren': 15995, 'schnel': 15996, 'ueberschuessigen': 15997, 'alexander': 15998, 'schmorells': 15999, 'schreitende': 16000, 'unserem': 16001, 'kenn': 16002, 'kriegsverbrechen': 16003, 'russen': 16004, 'eljahr': 16005, 'ergebnisoffen': 16006, 'durchsetzt': 16007, 'obdachlos': 16008, 'luisastella9': 16009, 'vermutet': 16010, 'bevoelkerungsaustausch': 16011, 'populistiker': 16012, 'gueha': 16013, 'dickebacken': 16014, 'lachnimmer': 16015, 'anarchos': 16016, 'eingezahlt': 16017, 'blechen': 16018, 'versyphten': 16019, 'eventuel': 16020, 'freggel': 16021, 'hoechster': 16022, 'gagaberlin': 16023, 'beguenstigter': 16024, 'scherge': 16025, 'kreuzzuege': 16026, 'taniya1311': 16027, 'politschmarotzer': 16028, 'gestrickt': 16029, 'einzugestehen': 16030, 'schweinejournalimus': 16031, 'oppositionpa': 16032, 'zhangdanhong': 16033, 'spdfraktionrlp': 16034, 'erben': 16035, 'einwaende': 16036, 'vorzutragen': 16037, 'keines': 16038, 'daemlichere': 16039, 'blutentnahme': 16040, 'richterlichen': 16041, 'vorgeschrieben': 16042, 'gegenwae': 16043, 'schaebig': 16044, 'mitarbeiterin': 16045, 'migrantenkrieg': 16046, 'schmarotzergegen': 16047, 'schirm': 16048, 'agnostiker': 16049, 'architekten': 16050, 'riesensauerei': 16051, 'hoai': 16052, 'islamunterricht': 16053, 'preisverleihung': 16054, 'bfdt': 16055, 'bpb': 16056, 'brandanschlaege': 16057, 'fluechtlingsunterkuenfte': 16058, 'reiche': 16059, 'verlangen': 16060, 'ersatzteile': 16061, 'dontpokerme': 16062, 'empfaenglicher': 16063, 'verpackte': 16064, 'asto': 16065, 'trink': 16066, 'gefaess': 16067, 'magdalena': 16068, 'rotgruenschwarzgelben': 16069, 'einheitsscheiss': 16070, 'top': 16071, 'poeses': 16072, 'unheilbare': 16073, 'krankheiten': 16074, 'unbekannte': 16075, 'berndulrich': 16076, 'grosstalent': 16077, 'spiels': 16078, 'gereng': 16079, 'verschwoerungstheoretiker': 16080, 'leitungswasser': 16081, 'unterforde': 16082, 'destruktivitaet': 16083, 'passive': 16084, 'katzenbildergleichmut': 16085, 'hab': 16086, 'steinhoefels': 16087, 'wall': 16088, 'shame': 16089, 'vorerst': 16090, 'bedanken': 16091, 'riskie': 16092, 'dichtesten': 16093, 'besiedelten': 16094, 'zaehlt': 16095, '80000000': 16096, 'einwohner': 16097, 'amerikanern': 16098, 'vermisstes': 16099, 'figuren': 16100, 'ah': 16101, 'mordaufruf': 16102, 'allerkluegste': 16103, 'erbaermlicher': 16104, 'elitaeren': 16105, 'dummdeutschen': 16106, 'insel': 16107, 'disziplinarische': 16108, 'resdocs': 16109, 'sakoelabo': 16110, 'kirsche': 16111, 'bar': 16112, 'eingesetzt': 16113, 'kalifats': 16114, 'horst': 16115, 'anarcho161zecke': 16116, 'verschiedenen': 16117, 'vorgesehen': 16118, 'personenstand': 16119, 'buergerpressekonferenz': 16120, 'ausgesuchte': 16121, 'entstehen': 16122, 'subventionspolitik': 16123, 'heribe': 16124, 'prantl': 16125, 'gaulands': 16126, 'eselficker': 16127, 'rolfbold': 16128, 'gefaehrlichste': 16129, 'charlottesville': 16130, 'obergaerig': 16131, 'abgefuellt': 16132, 'grossmaul': 16133, 'verkauften': 16134, 'naives': 16135, 'kontern': 16136, 'krumm': 16137, 'wmeier822': 16138, 'wahlkaempferinnen': 16139, 'denjenigen': 16140, 'weihnachtsbaeume': 16141, 'begruendungen': 16142, 'eifluss': 16143, 'weihnachtsmassaker': 16144, 'eisenhans': 16145, 'kosenahme': 16146, 'spezifisch': 16147, 'schweif': 16148, 'pferdes': 16149, 'pflanzung': 16150, 'jmd': 16151, 'mischpult': 16152, 'mikrofone': 16153, 'anschliessen': 16154, 'leftvisionclips': 16155, 'pk': 16156, 'ausgereist': 16157, 'maerchenerzaehler': 16158, 'gehn': 16159, 'bonkespiegel': 16160, 'kahanestasi': 16161, 'undemokratischere': 16162, 'webseite': 16163, 'weckt': 16164, 'geschimpft': 16165, 'marcbrost': 16166, 'kumpels': 16167, 'fussballclub': 16168, 'geltung': 16169, 'gestze': 16170, 'allahs': 16171, 'klingen': 16172, 'erfolglosen': 16173, 'schwaetzern': 16174, 'derzeitig': 16175, 'identitaer': 16176, 'gaenze': 16177, 'anzustreben': 16178, 'segnet': 16179, 'ghetto': 16180, 'girls': 16181, 'rummachen': 16182, 'anschliessenden': 16183, 'rapes': 16184, 'privilegien': 16185, 'riesig': 16186, 'wahlkreis': 16187, '297': 16188, 'grossem': 16189, 'vorsprung': 16190, 'belaechelt': 16191, 'purlitz': 16192, 'zivilklage': 16193, 'beeilen': 16194, 'eliminatorische': 16195, 'missionieren': 16196, 'pray': 16197, 'claudi': 16198, 'lobbyist': 16199, 'unschuldiger': 16200, 'betreibt': 16201, 'antifant': 16202, 'thesen': 16203, 'vorgae': 16204, 'gepluende': 16205, 'kulleraugenaufschlag': 16206, 'verkaeuferindesmonats': 16207, 'wahrhaften': 16208, 'spannendes': 16209, '6tage1967': 16210, 'sechstagekrieg': 16211, '1967': 16212, 'jerusalems': 16213, 'koepfen': 16214, 'hang': 16215, 'deutschtum': 16216, 'testballon': 16217, 'buetikofer': 16218, 'bezeichnete': 16219, 'schroeders': 16220, 'erniedrigt': 16221, 'duval': 16222, 'toleranter': 16223, 'gelebte': 16224, 'schonlaengerhierlebenden': 16225, 'rapide': 16226, 'grinden': 16227, 'vorverlegt': 16228, 'polizeiministerin': 16229, 'mikl': 16230, 'leitner': 16231, 'kriminalisie': 16232, 'entschaedigungen': 16233, 'qvc': 16234, 'hoff': 16235, 'kernseifenfreier': 16236, 'verstrahlten': 16237, 'garunyak': 16238, 'tobiasmaassen': 16239, 'reinventingeu': 16240, 'konditionen': 16241, 'islamophob': 16242, 'hinsehen': 16243, 'degal': 16244, 'einzustufen': 16245, 'karg': 16246, 'dew': 16247, 'skalar': 16248, 'emp': 16249, 'ect': 16250, 'gezielte': 16251, 'desinformation': 16252, 'schulbildung': 16253, 'informativ': 16254, 'nachfragend': 16255, 'recherchie': 16256, 'richtiger': 16257, 'entitaeten': 16258, 'vermitteln': 16259, '1090': 16260, 'schwersten': 16261, 'vereinigtes': 16262, 'schaftsgebiet': 16263, 'traufe': 16264, 'beleidigungs': 16265, 'volksverhetzungsgesetze': 16266, 'intelligenten': 16267, 'niedrige': 16268, 'beleidigers': 16269, 'medienaufmerksamkeit': 16270, 'rausholen': 16271, 'schlimmster': 16272, 'schamgefuehl': 16273, 'eintritt': 16274, 'osmth': 16275, 'gerechtigkeit01': 16276, 'beduerftigen': 16277, 'erleichtern': 16278, 'geklaut': 16279, 'bauern': 16280, 'linksgruener': 16281, 'humanismus': 16282, 'widerstehen': 16283, 'bonhoeffer': 16284, 'bedb': 16285, 'puetz': 16286, 'aufgewzungen': 16287, '2021': 16288, 'nebensaechlich': 16289, 'kenntnurdasbfv': 16290, 'tippen': 16291, 'dieselskandal': 16292, 'autobosse': 16293, 'viceyberg': 16294, 'gesprungen': 16295, 'entkraeften': 16296, 'juristik': 16297, 'beiseite': 16298, 'schuldsklave': 16299, 'ungehorsam': 16300, '1500': 16301, 'zerfall': 16302, 'rueckzug': 16303, 'unis': 16304, 'produktionen': 16305, 'verharren': 16306, 'mittelalterlichen': 16307, 'religionsstrukturen': 16308, 'gerissen': 16309, 'unterstellung': 16310, 'missbrauchs': 16311, 'unredlich': 16312, 'aufregt': 16313, 'jeromepetrov': 16314, 'grammatik': 16315, 'versypht': 16316, 'header': 16317, 'nasse': 16318, 'lepra': 16319, 'desweiteren': 16320, 'eingebaut': 16321, 'ungeschoente': 16322, 'ekelhafter': 16323, 'beweihraeuchern': 16324, 'gespaltenen': 16325, 'tuerkendoener': 16326, 'nationalgericht': 16327, 'pommesbude': 16328, 'moslemtoast': 16329, 'elfmeterschiessen': 16330, 'laengerem': 16331, 'rechtspopulsitischen': 16332, 'brennden': 16333, 'fluechtlingsunterkuenften': 16334, 'fijipm': 16335, 'antonioguterres': 16336, 'interessanter': 16337, 'asylwahnsinn': 16338, 'abrechnung': 16339, 'erschienen': 16340, 'wachmann': 16341, 'gelabe': 16342, 'atombombe': 16343, 'gaskammer': 16344, 'patssai': 16345, 'asidealex': 16346, 'subjektive': 16347, 'normalitaet': 16348, 'unbeschadet': 16349, 'ludwigslust': 16350, 'parchim': 16351, 'linkebpt': 16352, 'weichenstellungen': 16353, 'anstehen': 16354, 'worrius': 16355, 'geteilt': 16356, 'kompromissbereit': 16357, 'schnittstellen': 16358, 'drittesgeschlecht': 16359, 'blancgrisnoir': 16360, 'rueckmeldung': 16361, 'beitraege': 16362, 'gegenstand': 16363, 'angefeue': 16364, 'cremeherren': 16365, 'pussys': 16366, 'ernstzunehmenden': 16367, 'wahnsinnige': 16368, 'einladung': 16369, 'quietscht': 16370, 'leistungseinschraenkung': 16371, 'verrueckte': 16372, 'auseinandergehaemme': 16373, 'andienen': 16374, 'linkspa': 16375, 'halfen': 16376, 'kriegsgefahr': 16377, 'vonzainach': 16378, 'meisner': 16379, 'verstorben': 16380, 'erzbischof': 16381, 'clemensdiemer': 16382, 'herumgeiste': 16383, 'kombis': 16384, 'bauchfrei': 16385, 'pinke': 16386, 'stilettos': 16387, 'hueftjeans': 16388, 'schminke': 16389, 'verbessere': 16390, 'niquabs': 16391, 'abaja': 16392, 'talibanisierung': 16393, 'spar': 16394, 'rueckfuehrung': 16395, 'claudiaheber': 16396, 'jobwechsel': 16397, 'steuerentlastung': 16398, 'mrd': 16399, 'einkommenssteuer': 16400, 'landgericht': 16401, 'kammer': 16402, 'tendieren': 16403, 'gedeons': 16404, 'gedeckt': 16405, 'mitbuergern': 16406, 'amtsmissbrauch': 16407, 'missbrauchen': 16408, 'bedienstete': 16409, 'hoheits': 16410, 'befugnisse': 16411, 'angestellte': 16412, 'nachhilfetipp': 16413, 'fluechtlingsaufnahme': 16414, 'tokio': 16415, 'hotel': 16416, 'saenger': 16417, 'bill': 16418, 'kaulitz': 16419, 'warme': 16420, 'metall': 16421, 'bulle': 16422, 'nasen': 16423, 'kompetent': 16424, 'ungsvoll': 16425, 'isses': 16426, 'landeszerstoererin': 16427, 'flanie': 16428, 'dummys': 16429, 'diktaturgewinnler': 16430, 'seinerzeit': 16431, 'betteldiktator': 16432, 'blutkahane': 16433, 'anboe65': 16434, 'daemlicher': 16435, 'billig': 16436, 'bdk': 16437, 'buvo': 16438, 'andischeuer': 16439, 'buss': 16440, 'bettag': 16441, 'ausgespr': 16442, 'argumentiere': 16443, 'blitzbirnen': 16444, 'jederfrau': 16445, 'juliane': 16446, 'seife': 16447, 'goetageblatt': 16448, 'jetzigen': 16449, 'jamaikaner': 16450, 'wahldebakels': 16451, 'machtgerangels': 16452, 'farbaenderung': 16453, 'laktoseintolleranz': 16454, 'milchprodukte': 16455, 'labor': 16456, 'freundes': 16457, 'tw': 16458, 'jensmeier': 16459, 'ausgesprochen': 16460, 'kreischen': 16461, 'luegendaemonen': 16462, 'buh': 16463, 'haftrichter': 16464, 'schwindet': 16465, 'gefaelligst': 16466, 'aufbauen': 16467, 'durchlesen': 16468, 'melan': 16469, 'zerstoerer': 16470, 'zerstoererin': 16471, 'chronik': 16472, 'befiehlt': 16473, 'urheberrechtliche': 16474, 'ausrede': 16475, 'sieb': 16476, 'pfeift': 16477, 'senil': 16478, 'erkrankt': 16479, 'hanvollenweider': 16480, 'rasch': 16481, 'totaler': 16482, 'schulzeit': 16483, 'trockener': 16484, 'citius': 16485, 'ius': 16486, 'rattenpack': 16487, 'lebensehen': 16488, 'yanet': 16489, 'klimapolitik': 16490, 'unrealistisch': 16491, 'packwelcome': 16492, 'telefonbuch': 16493, 'quereinsteiger': 16494, 'master': 16495, 'abschliessen': 16496, 'ungern': 16497, 'zahn': 16498, 'erfolgreichen': 16499, 'schwarzblau': 16500, 'alleingelassenen': 16501, 'rucksaecke': 16502, 'pakete': 16503, 'plaetzen': 16504, 'weihnachtsmaerkten': 16505, 'spengstoffspeziallisten': 16506, 'konsequenz': 16507, 'lasse': 16508, 'unkommentie': 16509, 'aether': 16510, 'pusten': 16511, 'papa': 16512, 'augenwischerei': 16513, 'klauende': 16514, 'grabschende': 16515, 'drogenve': 16516, 'ickende': 16517, 'aergernis': 16518, 'besagten': 16519, 'adressieren': 16520, 'bedrohen': 16521, 'lucabrunsch': 16522, 'europaweit': 16523, 'anderswo': 16524, 'verdrehung': 16525, 'syndrom': 16526, 'beworfen': 16527, 'rechtsbeugung': 16528, 'herzenslust': 16529, 'abzuwandeln': 16530, 'auszutauschen': 16531, 'anwenden': 16532, 'euer': 16533, 'twitteraccount': 16534, 'eingeschlafen': 16535, 'musstet': 16536, 'regierungspraesidium': 16537, 'landratsamt': 16538, 'einholen': 16539, 'burkha': 16540, 'guenem': 16541, 'verschwulter': 16542, 'braunhaeutiger': 16543, 'federboa': 16544, 'herrgott': 16545, 'clavelina18': 16546, 'nuetzen': 16547, 'les': 16548, 'tendiere': 16549, 'schnappatmung': 16550, 'abendtermine': 16551, 'mettwoch': 16552, 'herzkasper': 16553, 'guckt': 16554, 'nullpe': 16555, 'darksideoftheeg': 16556, 'kinderfi': 16557, 'attestie': 16558, 'erhoehten': 16559, 'ernaehrungsbedarf': 16560, 'chronischer': 16561, 'krankheit': 16562, 'ausgewog': 16563, 'schmierfinken': 16564, 'melkt': 16565, 'untergangs': 16566, 'beschleuniger': 16567, 'general': 16568, 'aung': 16569, 'hlaing': 16570, 'burmesischen': 16571, 'hoeflichkeitsbesuch': 16572, 'ausgetauscht': 16573, 'schenkte': 16574, 'medaille': 16575, 'besuchs': 16576, 'harfe': 16577, 'verzie': 16578, 'reissschuessel': 16579, 'popeinmyanmar': 16580, 'philosoph': 16581, 'einsichten': 16582, 'adrianlorenz3': 16583, 'sahra': 16584, 'fraktion': 16585, 'betreuungsfamilie': 16586, 'buergt': 16587, 'andi': 16588, 'bielefeld': 16589, 'pit': 16590, 'clausen': 16591, 'laberarsch': 16592, 'koeter': 16593, 'tuerkenvater': 16594, 'zwinger': 16595, 'schieflage': 16596, 'hierzuande': 16597, 'bisweilen': 16598, 'anschluss': 16599, 'schmeckte': 16600, 'ion': 16601, 'maekel123': 16602, 'kuerzen': 16603, 'schieritz': 16604, 'steuersenkungen': 16605, 'versprachen': 16606, 'ildefons': 16607, 'floetzinger': 16608, 'schreinermeister': 16609, '1952': 16610, 'konzentrationslager': 16611, 'hausipanam': 16612, 'brennende': 16613, 'todesaufrufe': 16614, 'hassparolen': 16615, 'pietaetlose': 16616, 'zuerich': 16617, 'beschuetzen': 16618, 'aufregen': 16619, 'deutschsein': 16620, 'plaene': 16621, 'fremdsprache': 16622, 'tueten': 16623, 'erfreuliches': 16624, 'lesben': 16625, 'progrom': 16626, 'mauerfall': 16627, '9november': 16628, 'neverforget': 16629, 'staedtebauliche': 16630, 'raumordnung': 16631, 'siehste': 16632, 'wusst': 16633, 'massenansturm': 16634, 'rueckfuehrungspolitik': 16635, 'tougher': 16636, 'elsmannst': 16637, 'barbarei': 16638, 'beliefe': 16639, 'eue': 16640, 'rigaer': 16641, 'kriminalitaetsbelasteter': 16642, 'haeufung': 16643, 'motivie': 16644, 'erlebnisbereich': 16645, 'moslemischer': 16646, 'lebensfreude': 16647, 'mazyek': 16648, 'sexuellen': 16649, 'katrin': 16650, 'dagmar': 16651, 'wolframwagner': 16652, 'frauentyp': 16653, 'fuad': 16654, 'afane': 16655, 'intifada': 16656, 'unruhig': 16657, 'theologische': 16658, 'kirchenrecht': 16659, 'verfuettern': 16660, 'dpd': 16661, 'bote': 16662, 'zaun': 16663, 'matsch': 16664, 'laeuten': 16665, 'servicewueste': 16666, 'nazifilme': 16667, 'verschnitt': 16668, 'vorgesetzt': 16669, 'zeitalter': 16670, 'halbzeit': 16671, 'personalstand': 16672, 'ausruestung': 16673, 'webfailde': 16674, 'nachgewuerzt': 16675, 'kraeuter': 16676, 'uppsala': 16677, 'kirchengemeinschaft': 16678, 'cassiopeiacomp': 16679, 'gell': 16680, 'unmengen': 16681, 'taxigeld': 16682, 'uhrzeiten': 16683, 'piratenlily': 16684, 'piraten': 16685, 'jan': 16686, 'raudszus': 16687, 'geforde': 16688, 'schleuser': 16689, 'emineelshabazz': 16690, 'emine': 16691, 'koenntest': 16692, 'workshops': 16693, 'lokalgruppen': 16694, 'hofft': 16695, 'gerechtes': 16696, 'karma': 16697, 'pasquillo7777': 16698, 'schmerzen': 16699, 'angeht': 16700, 'lukas': 16701, 'beschaemender': 16702, 'populistischen': 16703, 'hierarchie': 16704, 'aufzusteigen': 16705, 'aussengrenze': 16706, 'energievorkommen': 16707, 'gold': 16708, 'ungute': 16709, 'susannesusi71': 16710, 'twitthasi': 16711, 'tarogermany1': 16712, 'nachtsonn3': 16713, 'allseits': 16714, 'janfurchtenicht': 16715, 'mirkorieder': 16716, 'muellsaecke': 16717, 'ralfheimann': 16718, 'lehrmeisterin': 16719, 'agitproperin': 16720, 'ungesetzliche': 16721, 'correctiv': 16722, 'qnbechtel': 16723, 'ellpa': 16724, 'ausschiessen': 16725, 'geaeusse': 16726, 'brid': 16727, 'perversion': 16728, 'maechtig': 16729, 'tankred45': 16730, 'wachst': 16731, 'aufwachen': 16732, 'schreckliche': 16733, 'dirkspaniel': 16734, 'stilles': 16735, 'netten': 16736, 'geschwaetzigen': 16737, 'merklich': 16738, 'verschaerft': 16739, 'pool': 16740, 'urheber': 16741, 'saudies': 16742, 'insgeheim': 16743, 'bejubeln': 16744, 'obendrein': 16745, 'arbeite': 16746, 'ungerecht': 16747, 'behuete': 16748, 'zicke': 16749, 'durchhalten': 16750, 'waenden': 16751, 'beteiligung': 16752, 'unterbringungs': 16753, 'gleichstellungs': 16754, 'seyfe': 16755, 'rausklagen': 16756, 'vermieter': 16757, 'denunziant': 16758, 'januszczarniec1': 16759, 'raffinie': 16760, 'fachkraeften': 16761, 'angeben': 16762, 'arbeitgebern': 16763, 'bekanntenkreis': 16764, 'erfuhr': 16765, 'relatives': 16766, 'einbruch': 16767, 'dunkelheit': 16768, 'zahltag': 16769, 'angebracht': 16770, 'geschwindigkeiten': 16771, 'nachhaltige': 16772, 'experimentes': 16773, 'emotionen': 16774, 'wecken': 16775, 'stralsund': 16776, 'schosshund': 16777, 'christo75554365': 16778, 'weltbild': 16779, 'se': 16780, 'suendiges': 16781, 'denkenden': 16782, 'zeitgenossen': 16783, 'schmutzig': 16784, 'megaskandal': 16785, 'watergate': 16786, 'schatten': 16787, 'enger': 16788, 'mangelnder': 16789, 'blagen': 16790, 'rethorik': 16791, 'anfallende': 16792, 'reggyvv': 16793, 'abgetakelte': 16794, 'legastheniker': 16795, 'seins': 16796, 'virulensina': 16797, 'nis1010101': 16798, 'belaestigen': 16799, 'hintenrum': 16800, 'selbsternannten': 16801, 'zwangsgebuehren': 16802, 'volksverarschung': 16803, 'hochziehen': 16804, 'standespflichten': 16805, 'geistlichen': 16806, 'hinzugefuegt': 16807, 'miesmuschelhro': 16808, 'feld': 16809, 'schlaflose': 16810, 'terroranschlags': 16811, 'yael': 16812, 'yekutiel': 16813, 'shir': 16814, 'hajaj': 16815, 'erez': 16816, 'orbach': 16817, 'shira': 16818, 'tzur': 16819, 'verweis': 16820, 'arbeiterfamilie': 16821, 'glaubwuerdiger': 16822, 'funktionaer': 16823, 'rassel': 16824, 'scheisswetter': 16825, 'powe': 16826, 'weet': 16827, 'faves': 16828, 'gedroppt': 16829, 'kochen': 16830, 'saisonalen': 16831, 'produkten': 16832, 'nuesse': 16833, 'menschliches': 16834, 'asylantenpolitk': 16835, 'schwerhoerige': 16836, 'tourbo4': 16837, 'ungelesen': 16838, 'lesesuechtig': 16839, 'kinderbuecherei': 16840, 'erwachsenenliteratur': 16841, 'roboter': 16842, 'enterprise': 16843, '20000': 16844, 'vermummte': 16845, 'unschaedlich': 16846, 'unvermoegen': 16847, 'schwarzmeer': 16848, 'flotte': 16849, 'polaken': 16850, 'luemmel': 16851, 'power': 16852, 'jusojoest': 16853, 'simonbrueckspd': 16854, 'nilsbeyer': 16855, 'seeheimer': 16856, 'beunruhigende': 16857, 'orkan': 16858, 'friederike': 16859, 'fundamentalisten': 16860, 'wiesbaden': 16861, 'masterplan': 16862, 'eig': 16863, 'wers': 16864, 'saeubern': 16865, 'ausschalten': 16866, 'informationsverbot': 16867, 'sperrungen': 16868, 'leidenschaftlich': 16869, 'ratschlaege': 16870, 'jamaikabruchpiloten': 16871, 'schaftsrat': 16872, 'ueberholt': 16873, 'flexiblen': 16874, 'gemeinwesen': 16875, 'oberpfeife': 16876, 'momente': 16877, 'zurechtgestutzt': 16878, 'haar': 16879, 'kuerzer': 16880, 'wahrhaftig': 16881, 'begreife': 16882, 'apostelgeschichte': 16883, 'taufedesherrn': 16884, 'halal': 16885, 'ue': 16886, 'kotzuebel': 16887, 'harmloser': 16888, 'handel': 16889, 'eigenstaendiges': 16890, 'lies': 16891, 'friedrich': 16892, 'weizaecker': 16893, '80ern': 16894, 'aufgelistet': 16895, 'minutioes': 16896, 'feste': 16897, 'handhabe': 16898, 'geile': 16899, 'drecksstueck': 16900, 'leistete': 16901, 'weiterzuverhandeln': 16902, 'islamistische': 16903, 'game': 16904, 'over': 16905, 'blauem': 16906, 'haekchen': 16907, 'hinterm': 16908, 'gesunken': 16909, 'tonnengewicht': 16910, 'stadtkaemmerer': 16911, 'israelkongress': 16912, 'buy': 16913, 'invest': 16914, 'itsuwe': 16915, 'spezialitaeten': 16916, 'einkaufsbummel': 16917, 'hmmmmmmmmm': 16918, 'schlichtweg': 16919, 'veroeffentlichungen': 16920, 'frisie': 16921, '409': 16922, 'entfallen': 16923, 'dung': 16924, 'internets': 16925, 'brunnen': 16926, 'bricht': 16927, 'platoscave007': 16928, 'kabalah': 16929, 'geheimlehre': 16930, 'sephirot': 16931, 'lebensbaum': 16932, 'umfangreiches': 16933, 'angerufen': 16934, 'denyz': 16935, 'spast': 16936, 'hetzpropaganda': 16937, 'voelkchen': 16938, 'sprachkurs': 16939, 'geschrittene': 16940, 'rrrrrrrrrr': 16941, 'legitimi': 16942, 'heidelberger': 16943, 'neuwahl': 16944, 'angekreuzt': 16945, 'gemeinsamen': 16946, 'getuerkt': 16947, 'karinbrix': 16948, 'joaplm': 16949, 'annaesch1': 16950, 'solltest': 16951, 'mahlzeit': 16952, 'ausgelassen': 16953, 'bolzandrea': 16954, 'auszubeuten': 16955, 'bremsen': 16956, 'menschenrechtsarbeit': 16957, 'unwichtiger': 16958, 'filterblase': 16959, 'schwimmt': 16960, 'begruessen': 16961, 'lasten': 16962, 'hinterfragend': 16963, 'brasilien': 16964, 'verlauf': 16965, 'meisterschaft': 16966, 'umschlaegt': 16967, 'thewenth': 16968, 'ulrikeguerot': 16969, 'junker': 16970, 'radiointerviews': 16971, 'suedlaender': 16972, 'zweifelt': 16973, 'bigblackhorse33': 16974, 'wahlbetrug': 16975, 'copyright': 16976, 'masseneinwanderung': 16977, 'dummkoepfen': 16978, '100ten': 16979, 'paessen': 16980, 'bike': 16981, 'bereist': 16982, 'jehova': 16983, 'geblasen': 16984, 'schw': 16985, 'reingesteckt': 16986, 'beschnitten': 16987, 'vk': 16988, 'bewegungen': 16989, 'zulauf': 16990, 'haribo': 16991, 'konfekt': 16992, 'tuete': 16993, 'protesten': 16994, 'jubilaeumsfeier': 16995, 'verlagsgebaeude': 16996, 'saynototerror': 16997, 'fleischfresser': 16998, 'neuigkeiten': 16999, 'hilfen': 17000, 'akw': 17001, 'kohlemeiler': 17002, 'vorstoss': 17003, 'atomsubventionen': 17004, 'buergerversicherung': 17005, 'sachgrundloser': 17006, 'befristung': 17007, 'arbeitsve': 17008, 'raegen': 17009, 'unionspropaganda': 17010, 'fluechtlingskonvention': 17011, 'einschraenken': 17012, 'aushoehlen': 17013, 'withheld': 17014, 'kurierat': 17015, 'tragbar': 17016, 'tiefental': 17017, 'i40sg': 17018, 'auflistung': 17019, 'biodeutscher': 17020, 'jobcenter': 17021, 'sachbearbeiter': 17022, 'ermordete': 17023, 'verbiegen': 17024, 'wiwo': 17025, 'diesselbe': 17026, 'one': 17027, 'einstimmigen': 17028, 'fixie': 17029, 'newsvalue': 17030, 'hach': 17031, 'argumenten': 17032, 'lern': 17033, 'vollidiot': 17034, 'ansager': 17035, 'vorleser': 17036, 'hering': 17037, 'motziklaus': 17038, 'oo7': 17039, 'maggielein': 17040, 'ichbinkoelnerin': 17041, 'liesemueller1': 17042, 'bringts': 17043, 'todholz': 17044, 'ueberspringen': 17045, 'zuendet': 17046, 'unrechten': 17047, 'anstalten': 17048, 'merkelschem': 17049, 'berauten': 17050, 'unbehelligt': 17051, 'dramatisch': 17052, 'niedrigem': 17053, 'eiaemter': 17054, 'staplerfahrer': 17055, 'imad': 17056, 'karim': 17057, 'nachtlikkat': 17058, 'alltaeglich': 17059, 'beispiele': 17060, 'zersetzter': 17061, 'ugal': 17062, 'nerseiten': 17063, 'uweltin': 17064, 'genaues': 17065, 'wat': 17066, 'geiles': 17067, 'hoeschen': 17068, 'hallooooooo': 17069, 'wahlpa': 17070, 'akzeptanz': 17071, 'schulreif': 17072, 'stundenplan': 17073, 'esgibtnureinenborisbecker': 17074, 'ersatzkandidatinnen': 17075, 'ersatzkandidaten': 17076, 'stoffers': 17077, 'leo': 17078, 'franken': 17079, 'pfrin': 17080, 'alexandra': 17081, 'caspari': 17082, 'mlebeauf': 17083, 'auflagezahlen': 17084, 'headqua': 17085, 'schuler': 17086, 'einfache': 17087, 'fachterminus': 17088, 'gelaehmten': 17089, 'einlassen': 17090, 'prankenhieb': 17091, 'angebot': 17092, 'victor': 17093, 'cu': 17094, 'fragralf': 17095, 'burkatraegerinen': 17096, 'djuhmha': 17097, 'nordhaeuser': 17098, 'runken': 17099, 'uebergelaufen': 17100, 'sexualstraftaeter': 17101, 'strafhaft': 17102, 'schaffe': 17103, 'highheels': 17104, 'schulergebnisse': 17105, 'abohrfeigen': 17106, 'bigamie': 17107, 'buschfrank': 17108, 'like': 17109, 'funktion': 17110, 'shadow': 17111, 'banning': 17112, 'manipulieren': 17113, 'leutchen': 17114, 'krabbelt': 17115, 'anetta': 17116, 'maessigung': 17117, 'aufzurufen': 17118, 'verlegung': 17119, 'palaestiner': 17120, 'einigen': 17121, 'bettisweb': 17122, 'dannytastisch': 17123, 'marktplatz': 17124, '40213': 17125, 'graf': 17126, 'stauffenberg': 17127, 'fabi': 17128, 'elliotttender': 17129, 'abgelassen': 17130, 'vollhonk': 17131, 'mehreren': 17132, 'aufgefuellt': 17133, 'simpel': 17134, 'resistance20176': 17135, 'kinderpornographie': 17136, 'versifften': 17137, 'sueddeutschen': 17138, 'fotoreihe': 17139, 'einwanderungsgsellschaft': 17140, 'untergrenzen': 17141, 'besorgten': 17142, 'verachtet': 17143, 'schulflasche': 17144, 'nachsitzen': 17145, 'nennst': 17146, 'moese': 17147, 'feucht': 17148, 'aga': 17149, 'scheisspolitik': 17150, 'muselmaenner': 17151, 'europaeischem': 17152, 'benjamin': 17153, 'koehn': 17154, 'briefwaehler': 17155, 'agolumneu10': 17156, 'rettungsboote': 17157, 'raetselhaft': 17158, 'versuchte': 17159, 'holz': 17160, 'benzin': 17161, 'anzuzuenden': 17162, 'verpuffung': 17163, 'verbrennungen': 17164, 'kirchgaenger': 17165, 'haase': 17166, 'soooooo': 17167, 'anus': 17168, 'prediger': 17169, 'tauchte': 17170, 'exakt': 17171, 'doppelten': 17172, 'buchstabe': 17173, 'zahlenwe': 17174, 'zugeordnet': 17175, 'spannende': 17176, 'abenteuer': 17177, 'persoenlichen': 17178, 'weiterbildung': 17179, 'sprachkurse': 17180, 'brauchbar': 17181, 'eingeht': 17182, 'konforme': 17183, 'betriebversammlung': 17184, 'ankuendigungen': 17185, 'edathy': 17186, 'stewenzel': 17187, 'hinausgekommen': 17188, 'sondierungspapieren': 17189, 'wochenlangen': 17190, 'zweites': 17191, 'inc': 17192, 'krise': 17193, 'samsara': 17194, 'befaellt': 17195, 'alzheimer': 17196, 'sunflowermind': 17197, 'zettel': 17198, 'moessbauer': 17199, 'wiederhole': 17200, 'schlimmste': 17201, 'rdige': 17202, 'odtenha3': 17203, 'unbestrittener': 17204, 'begleiterscheinung': 17205, 'dioezesanjugendpfarrers': 17206, 'eliteeinheiten': 17207, 'bisken': 17208, 'hohler': 17209, 'feht': 17210, 'sugst': 17211, 'braves': 17212, 'tuktuk': 17213, 'vergeblich': 17214, 'uebergewichtige': 17215, 'locker': 17216, 'bundeshofnarr': 17217, 'belehren': 17218, 'dunkelflaute': 17219, '2023': 17220, 'wegfallen': 17221, 'popphans1': 17222, 'neubuerger': 17223, 'joergklose': 17224, 'rechtsauffassung': 17225, 'cool': 17226, 'wohlwollendes': 17227, 'tofu': 17228, 'gegenseitigen': 17229, 'primaten': 17230, 'petrapaumahe': 17231, 'dorakristina': 17232, 'lukaswelz': 17233, 'arasnathan': 17234, 'wae': 17235, 'erkarl': 17236, 'aydileksercan': 17237, 'filmregisseur': 17238, 'oleh': 17239, 'senzov': 17240, 'lagern': 17241, 'gefaengnissen': 17242, 'sorgt': 17243, 'freikommen': 17244, 'voelkerverstaendigung': 17245, 'staedtepa': 17246, 'lemberg': 17247, 'wm2018': 17248, 'sue': 17249, 'jil': 17250, 'nimm': 17251, 'regelmaessig': 17252, 'bjoern': 17253, 'belasten': 17254, 'dusendiskus': 17255, 'befuerchtung': 17256, 'abgeschmette': 17257, 'toetungsdelikten': 17258, 'indirekt': 17259, 'hinauslaufen': 17260, 'systematische': 17261, 'aufklaeren': 17262, 'merkte': 17263, '1968': 17264, 'trojanische': 17265, 'pferdchen': 17266, 'nachbarlaender': 17267, 'ausuebung': 17268, 'ausbreitung': 17269, 'untersagen': 17270, 'gefaengnisses': 17271, 'beschaedigten': 17272, 'wilhelm': 17273, 'neusiedler': 17274, 'gebliebenen': 17275, 'kanzlerschaftskandidatur': 17276, 'sdp': 17277, 'sinken': 17278, 'erschoepft': 17279, 'depo': 17280, 'schleicht': 17281, 'justizregister': 17282, 'absurden': 17283, 'gerichtsu': 17284, 'kaiserreich': 17285, 'oekum': 17286, 'frauengottesdienst': 17287, 'pfingstkirche': 17288, 'podiumsdisk': 17289, 'augustin': 17290, 'vorstellungen': 17291, 'ersatzreligion': 17292, 'hohenpriesterinnen': 17293, 'exkommunizie': 17294, 'veganem': 17295, 'abendmahl': 17296, 'qeer': 17297, 'christus': 17298, 'ausgebuht': 17299, 'meidet': 17300, 'traelle': 17301, 'sturmtief': 17302, 'frederike': 17303, 'hinwegrauscht': 17304, 'unschuldig': 17305, 'weggeweht': 17306, 'glaubensbekenntnis': 17307, 'vergleichbar': 17308, 'reagie': 17309, 'polizeifuehrung': 17310, 'vadderland': 17311, 'fanuar': 17312, 'gegens': 17313, 'zul': 17314, 'gegenseitige': 17315, 'anerk': 17316, 'angen': 17317, 'selbstverliebt': 17318, 'eils': 17319, 'schleichende': 17320, 'gleichgeschaltet': 17321, 'schaefchen': 17322, 'trockenen': 17323, 'schorfheide': 17324, 'frischer': 17325, 'gefilmt': 17326, 'festnahmen': 17327}\n"
          ]
        }
      ]
    },
    {
      "cell_type": "markdown",
      "source": [
        "# encoding or sequencing\n"
      ],
      "metadata": {
        "id": "mRzlwLYqKY8k"
      }
    },
    {
      "cell_type": "code",
      "source": [
        "encoded_clean_text_stem = tok_all.texts_to_sequences(clean_text_stem)\n",
        "print(clean_text_stem[0])\n",
        "print(encoded_clean_text_stem[0])"
      ],
      "metadata": {
        "colab": {
          "base_uri": "https://localhost:8080/"
        },
        "id": "LvQYVAQ9KUa0",
        "outputId": "ec21e1d8-6fc4-415f-9537-38157c256e8d"
      },
      "execution_count": null,
      "outputs": [
        {
          "output_type": "stream",
          "name": "stdout",
          "text": [
            " corinnamilborn liebe corinna, wuerden gerne moderatorin fuer gewinnen! waerst begeisterbar \n",
            "[4221, 191, 6796, 258, 233, 6797, 2, 2418, 2419, 6798]\n"
          ]
        }
      ]
    },
    {
      "cell_type": "markdown",
      "source": [
        "# Pre-padding\n"
      ],
      "metadata": {
        "id": "wWorwY-hKcBK"
      }
    },
    {
      "cell_type": "code",
      "source": [
        "from keras.preprocessing import sequence\n",
        "max_length = 100\n",
        "padded_clean_text_stem = sequence.pad_sequences(encoded_clean_text_stem, maxlen=max_length, padding='pre')"
      ],
      "metadata": {
        "id": "v911ZLQqKfPi"
      },
      "execution_count": null,
      "outputs": []
    },
    {
      "cell_type": "markdown",
      "source": [
        "# Reading Test data and Pre-processing\n"
      ],
      "metadata": {
        "id": "FpYN7sJfjfoW"
      }
    },
    {
      "cell_type": "code",
      "source": [
        "data_t = pd.read_csv(\"/content/hasoc20test_improved.csv\", converters={'tweet_id':int})\n",
        "\n",
        "pd.set_option('display.max_colwidth',150)\n",
        "data_t.head(10)\n",
        "\n",
        "data_t['task1'] = data_t['task1'].str.replace('NOT', 'OTHER')\n",
        "data_t\n",
        "\n",
        "data_t['task1'] = data_t['task1'].str.replace('HOF', 'OFFENSE')\n",
        "data_t\n",
        "\n",
        "data_t = data_t.drop([\"Unnamed: 0\"], axis = 1)"
      ],
      "metadata": {
        "id": "vMIAc8_vjfoX",
        "colab": {
          "base_uri": "https://localhost:8080/",
          "height": 235
        },
        "outputId": "1e558c2f-0d3c-4fdc-f41b-1e94f8df9267"
      },
      "execution_count": null,
      "outputs": [
        {
          "output_type": "error",
          "ename": "NameError",
          "evalue": "ignored",
          "traceback": [
            "\u001b[0;31m---------------------------------------------------------------------------\u001b[0m",
            "\u001b[0;31mNameError\u001b[0m                                 Traceback (most recent call last)",
            "\u001b[0;32m<ipython-input-1-c4ece3bccd82>\u001b[0m in \u001b[0;36m<module>\u001b[0;34m\u001b[0m\n\u001b[0;32m----> 1\u001b[0;31m \u001b[0mdata_t\u001b[0m \u001b[0;34m=\u001b[0m \u001b[0mpd\u001b[0m\u001b[0;34m.\u001b[0m\u001b[0mread_csv\u001b[0m\u001b[0;34m(\u001b[0m\u001b[0;34m\"/content/hasoc20test_improved.csv\"\u001b[0m\u001b[0;34m,\u001b[0m \u001b[0mconverters\u001b[0m\u001b[0;34m=\u001b[0m\u001b[0;34m{\u001b[0m\u001b[0;34m'tweet_id'\u001b[0m\u001b[0;34m:\u001b[0m\u001b[0mint\u001b[0m\u001b[0;34m}\u001b[0m\u001b[0;34m)\u001b[0m\u001b[0;34m\u001b[0m\u001b[0;34m\u001b[0m\u001b[0m\n\u001b[0m\u001b[1;32m      2\u001b[0m \u001b[0;34m\u001b[0m\u001b[0m\n\u001b[1;32m      3\u001b[0m \u001b[0mpd\u001b[0m\u001b[0;34m.\u001b[0m\u001b[0mset_option\u001b[0m\u001b[0;34m(\u001b[0m\u001b[0;34m'display.max_colwidth'\u001b[0m\u001b[0;34m,\u001b[0m\u001b[0;36m150\u001b[0m\u001b[0;34m)\u001b[0m\u001b[0;34m\u001b[0m\u001b[0;34m\u001b[0m\u001b[0m\n\u001b[1;32m      4\u001b[0m \u001b[0mdata_t\u001b[0m\u001b[0;34m.\u001b[0m\u001b[0mhead\u001b[0m\u001b[0;34m(\u001b[0m\u001b[0;36m10\u001b[0m\u001b[0;34m)\u001b[0m\u001b[0;34m\u001b[0m\u001b[0;34m\u001b[0m\u001b[0m\n\u001b[1;32m      5\u001b[0m \u001b[0;34m\u001b[0m\u001b[0m\n",
            "\u001b[0;31mNameError\u001b[0m: name 'pd' is not defined"
          ]
        }
      ]
    },
    {
      "cell_type": "code",
      "source": [
        "data_t.shape"
      ],
      "metadata": {
        "colab": {
          "base_uri": "https://localhost:8080/"
        },
        "outputId": "0492b3b9-c38f-4663-f745-038e7abc62d2",
        "id": "i5QVkKc6jfoY"
      },
      "execution_count": null,
      "outputs": [
        {
          "output_type": "execute_result",
          "data": {
            "text/plain": [
              "(526, 5)"
            ]
          },
          "metadata": {},
          "execution_count": 28
        }
      ]
    },
    {
      "cell_type": "code",
      "source": [
        "data_t"
      ],
      "metadata": {
        "colab": {
          "base_uri": "https://localhost:8080/",
          "height": 424
        },
        "id": "PLYsg-qe11r9",
        "outputId": "7f3667ec-76ee-49d0-c37a-2a7d4e871d50"
      },
      "execution_count": null,
      "outputs": [
        {
          "output_type": "execute_result",
          "data": {
            "text/plain": [
              "                tweet_id  \\\n",
              "0    1129095874242650112   \n",
              "1    1129004308396236800   \n",
              "2    1130896929355907080   \n",
              "3    1132251534329307136   \n",
              "4    1124941869115498496   \n",
              "..                   ...   \n",
              "521  1124809878546128897   \n",
              "522  1132433240000798720   \n",
              "523  1127366294255357958   \n",
              "524  1124362090460975105   \n",
              "525  1131487097293103104   \n",
              "\n",
              "                                                                                                                                              text  \\\n",
              "0                                                                                                  @derCarsti Boykottieren hört sich besser an. 💙💙   \n",
              "1    RT @ibikus31: Es wird spekuliert, ob Merkel ein Amt in Brüssel übernimmt.\\nWäre es so, wie schätzen Sie dann die Zukunft der Mitgliedstaaten…   \n",
              "2                             Hat #Hitler wirklich den Krieg in der Wüste verloren? Nach der #Welt Schlagzeile hat die #Tagesschau nicht reagiert.   \n",
              "3     RT @Beatrix_vStorch: #May tritt in UK unter Tränen zurück. Wenn #Merkel zurücktritt, dann auch unter Tränen – unter den Freudentränen von M…   \n",
              "4                                                     @justmeDoro Eher nicht. Das Gänse hauen wieder ab in ihre warmen Überwinterungsquartiere. 😅😂   \n",
              "..                                                                                                                                             ...   \n",
              "521                                                     RT @ChanMachtSo: SCHMERZEN!!!! Au!!! Mein Gehirn!!! Auuuuuu!!!!!!! https://t.co/AFVG5hQCfA   \n",
              "522                                                                                             Die Zerstörung der Grünen. https://t.co/SIYDJjACts   \n",
              "523  RT @PParzival: \"Antideutsche\" Pseudo-linke Ideologie\\nDie Sache hat System: Nicht nur innerhalb der Linken hat sich eine Bewegung etabliert,…   \n",
              "524                                                                                                                     Klug reden und dumm leben.   \n",
              "525                                                                    Wissen wir schon lange....hat das die Merkel erfahren?Und die Grünen????😬🙄😵   \n",
              "\n",
              "     task1 task2                  ID  \n",
              "0    OTHER  NONE  hasoc_2020_de_1053  \n",
              "1    OTHER  NONE   hasoc_2020_de_671  \n",
              "2    OTHER  NONE  hasoc_2020_de_2977  \n",
              "3    OTHER  NONE  hasoc_2020_de_1746  \n",
              "4    OTHER  NONE  hasoc_2020_de_2416  \n",
              "..     ...   ...                 ...  \n",
              "521  OTHER  NONE   hasoc_2020_de_486  \n",
              "522  OTHER  NONE  hasoc_2020_de_3388  \n",
              "523  OTHER  NONE  hasoc_2020_de_2745  \n",
              "524  OTHER  NONE   hasoc_2020_de_236  \n",
              "525  OTHER  NONE  hasoc_2020_de_2850  \n",
              "\n",
              "[526 rows x 5 columns]"
            ],
            "text/html": [
              "\n",
              "  <div id=\"df-e4964276-918c-44e3-9cd7-dc139cb29d05\">\n",
              "    <div class=\"colab-df-container\">\n",
              "      <div>\n",
              "<style scoped>\n",
              "    .dataframe tbody tr th:only-of-type {\n",
              "        vertical-align: middle;\n",
              "    }\n",
              "\n",
              "    .dataframe tbody tr th {\n",
              "        vertical-align: top;\n",
              "    }\n",
              "\n",
              "    .dataframe thead th {\n",
              "        text-align: right;\n",
              "    }\n",
              "</style>\n",
              "<table border=\"1\" class=\"dataframe\">\n",
              "  <thead>\n",
              "    <tr style=\"text-align: right;\">\n",
              "      <th></th>\n",
              "      <th>tweet_id</th>\n",
              "      <th>text</th>\n",
              "      <th>task1</th>\n",
              "      <th>task2</th>\n",
              "      <th>ID</th>\n",
              "    </tr>\n",
              "  </thead>\n",
              "  <tbody>\n",
              "    <tr>\n",
              "      <th>0</th>\n",
              "      <td>1129095874242650112</td>\n",
              "      <td>@derCarsti Boykottieren hört sich besser an. 💙💙</td>\n",
              "      <td>OTHER</td>\n",
              "      <td>NONE</td>\n",
              "      <td>hasoc_2020_de_1053</td>\n",
              "    </tr>\n",
              "    <tr>\n",
              "      <th>1</th>\n",
              "      <td>1129004308396236800</td>\n",
              "      <td>RT @ibikus31: Es wird spekuliert, ob Merkel ein Amt in Brüssel übernimmt.\\nWäre es so, wie schätzen Sie dann die Zukunft der Mitgliedstaaten…</td>\n",
              "      <td>OTHER</td>\n",
              "      <td>NONE</td>\n",
              "      <td>hasoc_2020_de_671</td>\n",
              "    </tr>\n",
              "    <tr>\n",
              "      <th>2</th>\n",
              "      <td>1130896929355907080</td>\n",
              "      <td>Hat #Hitler wirklich den Krieg in der Wüste verloren? Nach der #Welt Schlagzeile hat die #Tagesschau nicht reagiert.</td>\n",
              "      <td>OTHER</td>\n",
              "      <td>NONE</td>\n",
              "      <td>hasoc_2020_de_2977</td>\n",
              "    </tr>\n",
              "    <tr>\n",
              "      <th>3</th>\n",
              "      <td>1132251534329307136</td>\n",
              "      <td>RT @Beatrix_vStorch: #May tritt in UK unter Tränen zurück. Wenn #Merkel zurücktritt, dann auch unter Tränen – unter den Freudentränen von M…</td>\n",
              "      <td>OTHER</td>\n",
              "      <td>NONE</td>\n",
              "      <td>hasoc_2020_de_1746</td>\n",
              "    </tr>\n",
              "    <tr>\n",
              "      <th>4</th>\n",
              "      <td>1124941869115498496</td>\n",
              "      <td>@justmeDoro Eher nicht. Das Gänse hauen wieder ab in ihre warmen Überwinterungsquartiere. 😅😂</td>\n",
              "      <td>OTHER</td>\n",
              "      <td>NONE</td>\n",
              "      <td>hasoc_2020_de_2416</td>\n",
              "    </tr>\n",
              "    <tr>\n",
              "      <th>...</th>\n",
              "      <td>...</td>\n",
              "      <td>...</td>\n",
              "      <td>...</td>\n",
              "      <td>...</td>\n",
              "      <td>...</td>\n",
              "    </tr>\n",
              "    <tr>\n",
              "      <th>521</th>\n",
              "      <td>1124809878546128897</td>\n",
              "      <td>RT @ChanMachtSo: SCHMERZEN!!!! Au!!! Mein Gehirn!!! Auuuuuu!!!!!!! https://t.co/AFVG5hQCfA</td>\n",
              "      <td>OTHER</td>\n",
              "      <td>NONE</td>\n",
              "      <td>hasoc_2020_de_486</td>\n",
              "    </tr>\n",
              "    <tr>\n",
              "      <th>522</th>\n",
              "      <td>1132433240000798720</td>\n",
              "      <td>Die Zerstörung der Grünen. https://t.co/SIYDJjACts</td>\n",
              "      <td>OTHER</td>\n",
              "      <td>NONE</td>\n",
              "      <td>hasoc_2020_de_3388</td>\n",
              "    </tr>\n",
              "    <tr>\n",
              "      <th>523</th>\n",
              "      <td>1127366294255357958</td>\n",
              "      <td>RT @PParzival: \"Antideutsche\" Pseudo-linke Ideologie\\nDie Sache hat System: Nicht nur innerhalb der Linken hat sich eine Bewegung etabliert,…</td>\n",
              "      <td>OTHER</td>\n",
              "      <td>NONE</td>\n",
              "      <td>hasoc_2020_de_2745</td>\n",
              "    </tr>\n",
              "    <tr>\n",
              "      <th>524</th>\n",
              "      <td>1124362090460975105</td>\n",
              "      <td>Klug reden und dumm leben.</td>\n",
              "      <td>OTHER</td>\n",
              "      <td>NONE</td>\n",
              "      <td>hasoc_2020_de_236</td>\n",
              "    </tr>\n",
              "    <tr>\n",
              "      <th>525</th>\n",
              "      <td>1131487097293103104</td>\n",
              "      <td>Wissen wir schon lange....hat das die Merkel erfahren?Und die Grünen????😬🙄😵</td>\n",
              "      <td>OTHER</td>\n",
              "      <td>NONE</td>\n",
              "      <td>hasoc_2020_de_2850</td>\n",
              "    </tr>\n",
              "  </tbody>\n",
              "</table>\n",
              "<p>526 rows × 5 columns</p>\n",
              "</div>\n",
              "      <button class=\"colab-df-convert\" onclick=\"convertToInteractive('df-e4964276-918c-44e3-9cd7-dc139cb29d05')\"\n",
              "              title=\"Convert this dataframe to an interactive table.\"\n",
              "              style=\"display:none;\">\n",
              "        \n",
              "  <svg xmlns=\"http://www.w3.org/2000/svg\" height=\"24px\"viewBox=\"0 0 24 24\"\n",
              "       width=\"24px\">\n",
              "    <path d=\"M0 0h24v24H0V0z\" fill=\"none\"/>\n",
              "    <path d=\"M18.56 5.44l.94 2.06.94-2.06 2.06-.94-2.06-.94-.94-2.06-.94 2.06-2.06.94zm-11 1L8.5 8.5l.94-2.06 2.06-.94-2.06-.94L8.5 2.5l-.94 2.06-2.06.94zm10 10l.94 2.06.94-2.06 2.06-.94-2.06-.94-.94-2.06-.94 2.06-2.06.94z\"/><path d=\"M17.41 7.96l-1.37-1.37c-.4-.4-.92-.59-1.43-.59-.52 0-1.04.2-1.43.59L10.3 9.45l-7.72 7.72c-.78.78-.78 2.05 0 2.83L4 21.41c.39.39.9.59 1.41.59.51 0 1.02-.2 1.41-.59l7.78-7.78 2.81-2.81c.8-.78.8-2.07 0-2.86zM5.41 20L4 18.59l7.72-7.72 1.47 1.35L5.41 20z\"/>\n",
              "  </svg>\n",
              "      </button>\n",
              "      \n",
              "  <style>\n",
              "    .colab-df-container {\n",
              "      display:flex;\n",
              "      flex-wrap:wrap;\n",
              "      gap: 12px;\n",
              "    }\n",
              "\n",
              "    .colab-df-convert {\n",
              "      background-color: #E8F0FE;\n",
              "      border: none;\n",
              "      border-radius: 50%;\n",
              "      cursor: pointer;\n",
              "      display: none;\n",
              "      fill: #1967D2;\n",
              "      height: 32px;\n",
              "      padding: 0 0 0 0;\n",
              "      width: 32px;\n",
              "    }\n",
              "\n",
              "    .colab-df-convert:hover {\n",
              "      background-color: #E2EBFA;\n",
              "      box-shadow: 0px 1px 2px rgba(60, 64, 67, 0.3), 0px 1px 3px 1px rgba(60, 64, 67, 0.15);\n",
              "      fill: #174EA6;\n",
              "    }\n",
              "\n",
              "    [theme=dark] .colab-df-convert {\n",
              "      background-color: #3B4455;\n",
              "      fill: #D2E3FC;\n",
              "    }\n",
              "\n",
              "    [theme=dark] .colab-df-convert:hover {\n",
              "      background-color: #434B5C;\n",
              "      box-shadow: 0px 1px 3px 1px rgba(0, 0, 0, 0.15);\n",
              "      filter: drop-shadow(0px 1px 2px rgba(0, 0, 0, 0.3));\n",
              "      fill: #FFFFFF;\n",
              "    }\n",
              "  </style>\n",
              "\n",
              "      <script>\n",
              "        const buttonEl =\n",
              "          document.querySelector('#df-e4964276-918c-44e3-9cd7-dc139cb29d05 button.colab-df-convert');\n",
              "        buttonEl.style.display =\n",
              "          google.colab.kernel.accessAllowed ? 'block' : 'none';\n",
              "\n",
              "        async function convertToInteractive(key) {\n",
              "          const element = document.querySelector('#df-e4964276-918c-44e3-9cd7-dc139cb29d05');\n",
              "          const dataTable =\n",
              "            await google.colab.kernel.invokeFunction('convertToInteractive',\n",
              "                                                     [key], {});\n",
              "          if (!dataTable) return;\n",
              "\n",
              "          const docLinkHtml = 'Like what you see? Visit the ' +\n",
              "            '<a target=\"_blank\" href=https://colab.research.google.com/notebooks/data_table.ipynb>data table notebook</a>'\n",
              "            + ' to learn more about interactive tables.';\n",
              "          element.innerHTML = '';\n",
              "          dataTable['output_type'] = 'display_data';\n",
              "          await google.colab.output.renderOutput(dataTable, element);\n",
              "          const docLink = document.createElement('div');\n",
              "          docLink.innerHTML = docLinkHtml;\n",
              "          element.appendChild(docLink);\n",
              "        }\n",
              "      </script>\n",
              "    </div>\n",
              "  </div>\n",
              "  "
            ]
          },
          "metadata": {},
          "execution_count": 29
        }
      ]
    },
    {
      "cell_type": "code",
      "source": [
        "print(data_t.dtypes)"
      ],
      "metadata": {
        "colab": {
          "base_uri": "https://localhost:8080/"
        },
        "outputId": "89290f71-acfe-46fc-a325-8f97e71af607",
        "id": "ahclqeoUjfoY"
      },
      "execution_count": null,
      "outputs": [
        {
          "output_type": "stream",
          "name": "stdout",
          "text": [
            "tweet_id     int64\n",
            "text        object\n",
            "task1       object\n",
            "task2       object\n",
            "ID          object\n",
            "dtype: object\n"
          ]
        }
      ]
    },
    {
      "cell_type": "code",
      "source": [
        "\n",
        "\n",
        "label_t = data_t['task1']\n",
        "label_t.head()\n",
        "\n"
      ],
      "metadata": {
        "colab": {
          "base_uri": "https://localhost:8080/"
        },
        "outputId": "44dc8e6f-e058-4884-bfa9-02657e091e04",
        "id": "UBm8R89AjfoY"
      },
      "execution_count": null,
      "outputs": [
        {
          "output_type": "execute_result",
          "data": {
            "text/plain": [
              "0    OTHER\n",
              "1    OTHER\n",
              "2    OTHER\n",
              "3    OTHER\n",
              "4    OTHER\n",
              "Name: task1, dtype: object"
            ]
          },
          "metadata": {},
          "execution_count": 31
        }
      ]
    },
    {
      "cell_type": "code",
      "source": [
        "print(label_t.value_counts())\n",
        "import matplotlib.pyplot as plt\n",
        "label_t.value_counts().plot(kind='bar', color='red')"
      ],
      "metadata": {
        "colab": {
          "base_uri": "https://localhost:8080/",
          "height": 370
        },
        "outputId": "72a58099-e038-4f1d-dd14-db05c9cf2676",
        "id": "TSEvsgTajfoZ"
      },
      "execution_count": null,
      "outputs": [
        {
          "output_type": "stream",
          "name": "stdout",
          "text": [
            "OTHER      365\n",
            "OFFENSE    161\n",
            "Name: task1, dtype: int64\n"
          ]
        },
        {
          "output_type": "execute_result",
          "data": {
            "text/plain": [
              "<matplotlib.axes._subplots.AxesSubplot at 0x7f2810f6fc10>"
            ]
          },
          "metadata": {},
          "execution_count": 32
        },
        {
          "output_type": "display_data",
          "data": {
            "text/plain": [
              "<Figure size 432x288 with 1 Axes>"
            ],
            "image/png": "[encoded data removed]"
          },
          "metadata": {
            "needs_background": "light"
          }
        }
      ]
    },
    {
      "cell_type": "code",
      "source": [
        "\n",
        "\n",
        "import numpy as np\n",
        "classes_list_t = [\"OFFENSE\",\"OTHER\"]\n",
        "label_t_index = data_t['task1'].apply(classes_list_t.index)\n",
        "final_label_t = np.asarray(label_t_index)\n",
        "print(final_label_t[:10])\n",
        "\n"
      ],
      "metadata": {
        "colab": {
          "base_uri": "https://localhost:8080/"
        },
        "outputId": "86784eb3-5ac1-4f30-fb09-1bd199e2560f",
        "id": "n_89uYTcjfoZ"
      },
      "execution_count": null,
      "outputs": [
        {
          "output_type": "stream",
          "name": "stdout",
          "text": [
            "[1 1 1 1 1 0 0 1 1 1]\n"
          ]
        }
      ]
    },
    {
      "cell_type": "code",
      "source": [
        "\n",
        "\n",
        "from keras.utils.np_utils import to_categorical\n",
        "label_twoDimension_t = to_categorical(final_label_t, num_classes=2)\n",
        "\n"
      ],
      "metadata": {
        "id": "3nMWVqtajfoZ"
      },
      "execution_count": null,
      "outputs": []
    },
    {
      "cell_type": "code",
      "source": [
        "print(label_twoDimension_t[:10])"
      ],
      "metadata": {
        "colab": {
          "base_uri": "https://localhost:8080/"
        },
        "outputId": "83ec5d62-bffb-4567-c96c-c9fa6964e049",
        "id": "ZGSNBI3Jjfoa"
      },
      "execution_count": null,
      "outputs": [
        {
          "output_type": "stream",
          "name": "stdout",
          "text": [
            "[[0. 1.]\n",
            " [0. 1.]\n",
            " [0. 1.]\n",
            " [0. 1.]\n",
            " [0. 1.]\n",
            " [1. 0.]\n",
            " [1. 0.]\n",
            " [0. 1.]\n",
            " [0. 1.]\n",
            " [0. 1.]]\n"
          ]
        }
      ]
    },
    {
      "cell_type": "code",
      "source": [
        "\n",
        "\n",
        "text_t = data_t['text']\n",
        "text_t.head(10)\n",
        "\n"
      ],
      "metadata": {
        "colab": {
          "base_uri": "https://localhost:8080/"
        },
        "outputId": "ab57aeab-46b9-45b3-bb89-1085b12d05c5",
        "id": "Rnk-jJgtjfoa"
      },
      "execution_count": null,
      "outputs": [
        {
          "output_type": "execute_result",
          "data": {
            "text/plain": [
              "0                                                                                                  @derCarsti Boykottieren hört sich besser an. 💙💙\n",
              "1    RT @ibikus31: Es wird spekuliert, ob Merkel ein Amt in Brüssel übernimmt.\\nWäre es so, wie schätzen Sie dann die Zukunft der Mitgliedstaaten…\n",
              "2                             Hat #Hitler wirklich den Krieg in der Wüste verloren? Nach der #Welt Schlagzeile hat die #Tagesschau nicht reagiert.\n",
              "3     RT @Beatrix_vStorch: #May tritt in UK unter Tränen zurück. Wenn #Merkel zurücktritt, dann auch unter Tränen – unter den Freudentränen von M…\n",
              "4                                                     @justmeDoro Eher nicht. Das Gänse hauen wieder ab in ihre warmen Überwinterungsquartiere. 😅😂\n",
              "5     RT @VonSchwer: Ein guter Patriot geht von Bord‼️Gestürzt durch einen, vom ZDF finanzierten, linken Schmierenkomödianten 😡‼️ https://t.co/rl…\n",
              "6                     @yooli_derechte @MontanaBlack Mich wundert es echt wie du noch keine Cockschelle bekommen hast. Du kinderfickender Hurensohn\n",
              "7                                                        Da war #SPD #Kuehnert und am Ende auch #Nahles einfach nur dumm:  https://t.co/aj001ZKeWk\n",
              "8                        Nazan, komm bittebitte zurück, löse die „Punggdä“-Trulla ab und werde wieder LD-Moderatorin! 🙏🏻 #letsdance2019 #letsdance\n",
              "9     RT @Junge_Freiheit: Die europäische Spitzenkandidatin der Grünen im Europawahlkampf, Franziska Keller, hat sich für eine CO2-Steuer ausgesp…\n",
              "Name: text, dtype: object"
            ]
          },
          "metadata": {},
          "execution_count": 36
        }
      ]
    },
    {
      "cell_type": "code",
      "source": [
        "test_wo_umlauts = text_t.apply(lambda x: remove_umlaut(x))"
      ],
      "metadata": {
        "id": "i8QzRq4QJkTr"
      },
      "execution_count": null,
      "outputs": []
    },
    {
      "cell_type": "code",
      "source": [
        "test_wo_umlauts.head()"
      ],
      "metadata": {
        "colab": {
          "base_uri": "https://localhost:8080/"
        },
        "id": "ZLZvwQCNJr1I",
        "outputId": "e925cf70-e5fa-498e-eff3-487809363f37"
      },
      "execution_count": null,
      "outputs": [
        {
          "output_type": "execute_result",
          "data": {
            "text/plain": [
              "0                                                                                                     @derCarsti Boykottieren hoert sich besser an. 💙💙\n",
              "1    RT @ibikus31: Es wird spekuliert, ob Merkel ein Amt in Bruessel uebernimmt.\\nWaere es so, wie schaetzen Sie dann die Zukunft der Mitgliedstaaten…\n",
              "2                                Hat #Hitler wirklich den Krieg in der Wueste verloren? Nach der #Welt Schlagzeile hat die #Tagesschau nicht reagiert.\n",
              "3    RT @Beatrix_vStorch: #May tritt in UK unter Traenen zurueck. Wenn #Merkel zuruecktritt, dann auch unter Traenen – unter den Freudentraenen von M…\n",
              "4                                                       @justmeDoro Eher nicht. Das Gaense hauen wieder ab in ihre warmen Ueberwinterungsquartiere. 😅😂\n",
              "Name: text, dtype: object"
            ]
          },
          "metadata": {},
          "execution_count": 38
        }
      ]
    },
    {
      "cell_type": "code",
      "source": [
        "\n",
        "\n",
        "import re \n",
        "\n",
        "def text_clean(text):\n",
        "    ''' Pre process and convert texts to a list of words '''\n",
        "    \n",
        "    text=text.lower()\n",
        "\n",
        "    # Clean the text\n",
        "    text = re.sub(r\"[^A-Za-z0-9^,!.\\/'+-=]\", \" \", text)\n",
        "    text = re.sub('https?://\\S+|www\\.\\S+', \"\", text)\n",
        "    text = re.sub(r\"rt\", \" \", text)\n",
        "\n",
        "    return text\n",
        "\n"
      ],
      "metadata": {
        "id": "68c_wJRYjfob"
      },
      "execution_count": null,
      "outputs": []
    },
    {
      "cell_type": "code",
      "source": [
        "clean_text_t = test_wo_umlauts.apply(lambda x:text_clean(x))"
      ],
      "metadata": {
        "id": "Fpu5fF1Wjfob"
      },
      "execution_count": null,
      "outputs": []
    },
    {
      "cell_type": "code",
      "source": [
        "clean_text_t.head(10)"
      ],
      "metadata": {
        "colab": {
          "base_uri": "https://localhost:8080/"
        },
        "outputId": "8caa5384-dd3a-446c-8320-0a24aabedaa0",
        "id": "Ok6v5k_gjfob"
      },
      "execution_count": null,
      "outputs": [
        {
          "output_type": "execute_result",
          "data": {
            "text/plain": [
              "0                                                                                                      dercarsti boykottieren hoe  sich besser an.   \n",
              "1         ibikus31: es wird spekulie , ob merkel ein amt in bruessel uebernimmt. waere es so, wie schaetzen sie dann die zukunft der mitgliedstaaten \n",
              "2                                hat  hitler wirklich den krieg in der wueste verloren  nach der  welt schlagzeile hat die  tagesschau nicht reagie .\n",
              "3       beatrix vstorch:  may tritt in uk unter traenen zurueck. wenn  merkel zuruecktritt, dann auch unter traenen   unter den freudentraenen von m \n",
              "4                                                        justmedoro eher nicht. das gaense hauen wieder ab in ihre warmen ueberwinterungsqua iere.   \n",
              "5                          vonschwer: ein guter patriot geht von bord  gestuerzt durch einen, vom zdf finanzie en, linken schmierenkomoedianten      \n",
              "6                          yooli derechte  montanablack mich wunde  es echt wie du noch keine cockschelle bekommen hast. du kinderfickender hurensohn\n",
              "7                                                                                   da war  spd  kuehne  und am ende auch  nahles einfach nur dumm:  \n",
              "8                        nazan, komm bittebitte zurueck, loese die  punggdae -trulla ab und werde wieder ld-moderatorin!     letsdance2019  letsdance\n",
              "9         junge freiheit: die europaeische spitzenkandidatin der gruenen im europawahlkampf, franziska keller, hat sich fuer eine co2-steuer ausgesp \n",
              "Name: text, dtype: object"
            ]
          },
          "metadata": {},
          "execution_count": 41
        }
      ]
    },
    {
      "cell_type": "code",
      "source": [
        "\n",
        "\n",
        "import nltk\n",
        "from nltk.corpus import stopwords\n",
        "nltk.download('stopwords')\n",
        "def stop_words_removal(text1):\n",
        "    text1=[w for w in  text1.split(\" \")  if w not in stopwords.words('german')]\n",
        "    return \" \".join(text1)\n",
        "\n"
      ],
      "metadata": {
        "colab": {
          "base_uri": "https://localhost:8080/"
        },
        "outputId": "107f2bf4-7310-4f31-f644-864f68f2d8a8",
        "id": "gnHmiZ4yjfoc"
      },
      "execution_count": null,
      "outputs": [
        {
          "output_type": "stream",
          "name": "stderr",
          "text": [
            "[nltk_data] Downloading package stopwords to /root/nltk_data...\n",
            "[nltk_data]   Package stopwords is already up-to-date!\n"
          ]
        }
      ]
    },
    {
      "cell_type": "code",
      "source": [
        "clean_text_t_ns=clean_text_t.apply(lambda x: stop_words_removal(x))"
      ],
      "metadata": {
        "id": "F2OBPa4zjfoc"
      },
      "execution_count": null,
      "outputs": []
    },
    {
      "cell_type": "code",
      "source": [
        "print(clean_text_t_ns.head(10))"
      ],
      "metadata": {
        "colab": {
          "base_uri": "https://localhost:8080/"
        },
        "outputId": "13bebb75-95fe-462a-eb12-175f3be30438",
        "id": "Hr-VO_2Ujfoc"
      },
      "execution_count": null,
      "outputs": [
        {
          "output_type": "stream",
          "name": "stdout",
          "text": [
            "0                                                                                dercarsti boykottieren hoe  besser an.   \n",
            "1                        ibikus31: spekulie , merkel amt bruessel uebernimmt. waere so, schaetzen zukunft mitgliedstaaten \n",
            "2                                            hitler wirklich krieg wueste verloren   welt schlagzeile  tagesschau reagie .\n",
            "3                        beatrix vstorch:  may tritt uk traenen zurueck.  merkel zuruecktritt, traenen   freudentraenen m \n",
            "4                                                justmedoro eher nicht. gaense hauen ab warmen ueberwinterungsqua iere.   \n",
            "5                 vonschwer: guter patriot geht bord  gestuerzt einen, zdf finanzie en, linken schmierenkomoedianten      \n",
            "6                            yooli derechte  montanablack wunde  echt cockschelle bekommen hast. kinderfickender hurensohn\n",
            "7                                                                                spd  kuehne  ende  nahles einfach dumm:  \n",
            "8                  nazan, komm bittebitte zurueck, loese  punggdae -trulla ab ld-moderatorin!     letsdance2019  letsdance\n",
            "9       junge freiheit: europaeische spitzenkandidatin gruenen europawahlkampf, franziska keller, fuer co2-steuer ausgesp \n",
            "Name: text, dtype: object\n"
          ]
        }
      ]
    },
    {
      "cell_type": "markdown",
      "source": [
        "# Stemming"
      ],
      "metadata": {
        "id": "Z7TCEn6sjfoc"
      }
    },
    {
      "cell_type": "code",
      "source": [
        "# Stemming\n",
        "from nltk.stem import SnowballStemmer \n",
        "stemmer = SnowballStemmer(\"german\")\n",
        "\n",
        "def word_stemmer(text):\n",
        "    stem_text = \"\".join([stemmer.stem(i) for i in text])\n",
        "    return stem_text"
      ],
      "metadata": {
        "id": "TulzbpiAjfod"
      },
      "execution_count": null,
      "outputs": []
    },
    {
      "cell_type": "code",
      "source": [
        "clean_text_t_stem = clean_text_t_ns.apply(lambda x : word_stemmer(x))"
      ],
      "metadata": {
        "id": "tXcsV_FDjfod"
      },
      "execution_count": null,
      "outputs": []
    },
    {
      "cell_type": "code",
      "source": [
        "print(clean_text_t_stem.head(10))"
      ],
      "metadata": {
        "colab": {
          "base_uri": "https://localhost:8080/"
        },
        "outputId": "951ec793-c333-4fc9-8f5a-3f133d2ab66d",
        "id": "r1Z6Gt1Sjfod"
      },
      "execution_count": null,
      "outputs": [
        {
          "output_type": "stream",
          "name": "stdout",
          "text": [
            "0                                                                                dercarsti boykottieren hoe  besser an.   \n",
            "1                        ibikus31: spekulie , merkel amt bruessel uebernimmt. waere so, schaetzen zukunft mitgliedstaaten \n",
            "2                                            hitler wirklich krieg wueste verloren   welt schlagzeile  tagesschau reagie .\n",
            "3                        beatrix vstorch:  may tritt uk traenen zurueck.  merkel zuruecktritt, traenen   freudentraenen m \n",
            "4                                                justmedoro eher nicht. gaense hauen ab warmen ueberwinterungsqua iere.   \n",
            "5                 vonschwer: guter patriot geht bord  gestuerzt einen, zdf finanzie en, linken schmierenkomoedianten      \n",
            "6                            yooli derechte  montanablack wunde  echt cockschelle bekommen hast. kinderfickender hurensohn\n",
            "7                                                                                spd  kuehne  ende  nahles einfach dumm:  \n",
            "8                  nazan, komm bittebitte zurueck, loese  punggdae -trulla ab ld-moderatorin!     letsdance2019  letsdance\n",
            "9       junge freiheit: europaeische spitzenkandidatin gruenen europawahlkampf, franziska keller, fuer co2-steuer ausgesp \n",
            "Name: text, dtype: object\n"
          ]
        }
      ]
    },
    {
      "cell_type": "code",
      "source": [
        "\n",
        "\n",
        "import keras\n",
        "import tensorflow\n",
        "from keras.preprocessing.text import Tokenizer\n",
        "tok_test = Tokenizer(filters='!\"#$%&\\'()*+,-./:;<=>?@[\\\\]^_`{|}~', lower=True, char_level = False)\n",
        "tok_test.fit_on_texts(clean_text_t_stem)\n",
        "\n"
      ],
      "metadata": {
        "id": "r597XAqyjfod"
      },
      "execution_count": null,
      "outputs": []
    },
    {
      "cell_type": "code",
      "source": [
        "\n",
        "\n",
        "vocabulary_all_test = len(tok_test.word_counts)\n",
        "print(vocabulary_all_test)\n",
        "\n"
      ],
      "metadata": {
        "colab": {
          "base_uri": "https://localhost:8080/"
        },
        "outputId": "8a1b32c1-32b2-421b-b6eb-70688dcade27",
        "id": "Furm3nzrjfoe"
      },
      "execution_count": null,
      "outputs": [
        {
          "output_type": "stream",
          "name": "stdout",
          "text": [
            "2687\n"
          ]
        }
      ]
    },
    {
      "cell_type": "code",
      "source": [
        "test_list = tok_test.word_index\n",
        "print(test_list)"
      ],
      "metadata": {
        "colab": {
          "base_uri": "https://localhost:8080/"
        },
        "outputId": "8e47a776-9a12-4ec7-9af4-8255f37fe763",
        "id": "SyhlBUq4jfoe"
      },
      "execution_count": null,
      "outputs": [
        {
          "output_type": "stream",
          "name": "stdout",
          "text": [
            "{'einfach': 1, 'deutsche': 2, 'arsch': 3, 'merkel': 4, 'fuer': 5, 'schon': 6, 'gruenen': 7, 'scheiss': 8, 'gt': 9, 'ab': 10, 'mal': 11, 'halt': 12, 'linken': 13, 'dumm': 14, 'porno': 15, 'welt': 16, 'hurensohn': 17, 'immer': 18, 'nazis': 19, 'frau': 20, 'mehr': 21, 'scheisse': 22, 'frauen': 23, 'ja': 24, 'zurueck': 25, 'gratis': 26, 'echt': 27, 'gruene': 28, 'warum': 29, 'tagesschau': 30, 'islam': 31, 'gibt': 32, 'en': 33, 'kinder': 34, 'ficken': 35, 'pack': 36, 'heute': 37, 'idioten': 38, 'ueber': 39, 'hoe': 40, 'besser': 41, 'lange': 42, 'eu': 43, 'dumme': 44, 'e': 45, 'schulz': 46, '3': 47, 'linke': 48, 'wuerde': 49, 'erst': 50, 'leben': 51, 'bild': 52, 'europa': 53, 'ist': 54, 'kopf': 55, 's': 56, 'kurz': 57, '5': 58, '12': 59, 'hasse': 60, 'deutschland': 61, 'eigentlich': 62, 'fresse': 63, 'b': 64, 'gabriel': 65, 'neue': 66, 'an': 67, 'waere': 68, 'eher': 69, 'nicht': 70, 'ganzen': 71, 'lassen': 72, 'a': 73, 'grund': 74, 'kotzen': 75, 'de': 76, 'dummen': 77, 'ma': 78, 'afd': 79, 'politiker': 80, 'h': 81, 'gesicht': 82, 'nie': 83, 'so': 84, 'hitler': 85, 'zdf': 86, 'spd': 87, '2019': 88, 'deutschen': 89, 'c': 90, 'habt': 91, 'neuen': 92, 'stimmt': 93, 'd': 94, 'gehirn': 95, 'moslems': 96, 'koennen': 97, 'reicht': 98, 'sowas': 99, 'x': 100, '10': 101, '99': 102, 'macht': 103, '50': 104, 'geile': 105, 'gruen': 106, 'pornos': 107, 'gerne': 108, 'sta': 109, 'm': 110, 'bekommen': 111, 'junge': 112, 'nich': 113, 'eh': 114, 'weiss': 115, '06': 116, '14': 117, '05': 118, 'wollen': 119, 'net': 120, '2': 121, 'ahnung': 122, 'richtig': 123, 'sitzen': 124, 'seehofer': 125, 'nazi': 126, 'zdfheute': 127, 'gefickt': 128, 'darf': 129, 'meisten': 130, 'politik': 131, 'usa': 132, 'u': 133, 'haben': 134, 'tuerken': 135, 'mutter': 136, 'luegen': 137, 'deutsch': 138, 'tief': 139, 'quak': 140, 'deal': 141, 'auch': 142, 'essen': 143, 'groesste': 144, 'maul': 145, 'schoen': 146, 'mdchen': 147, 'sawsanchebli': 148, 'pa': 149, 'peter': 150, 'jungen': 151, '29': 152, 'zeigt': 153, 'hennef': 154, 'amp': 155, 'bruessel': 156, 'vonschwer': 157, 'geht': 158, 'ende': 159, 'nahles': 160, 'is': 161, 'ideologie': 162, '4': 163, 'vorbei': 164, 'schaut': 165, 'hbf': 166, 'europas': 167, 'willst': 168, 'ard': 169, 'gehoe': 170, 'ausfall': 171, '21': 172, '11': 173, '01': 174, 'land': 175, 'moechte': 176, 'ifb': 177, 'zusammen': 178, 'v': 179, 'warn': 180, 'westen': 181, 'bald': 182, 'dafuer': 183, 'hoer': 184, 'lass': 185, '20': 186, 'wurde': 187, 'koennte': 188, 'f': 189, 'sehen': 190, 'ka': 191, 'damals': 192, 'oma': 193, 'ddr': 194, 'likes': 195, 'bezahlt': 196, 'lt': 197, 'dummes': 198, 'gewaehlt': 199, 'sicherheit': 200, 'frueher': 201, 'sirschnee': 202, 'angela': 203, 'gehoeren': 204, 'geld': 205, 'arschloch': 206, 'be': 207, 'tuerkei': 208, 'aufraeumen': 209, 'tragen': 210, 'sollen': 211, 'ausser': 212, 'fette': 213, 'voll': 214, 'geiler': 215, 'richtiger': 216, 'rot': 217, 'kyshera': 218, 'ei': 219, 'watch': 220, 'alten': 221, 'do': 222, 'passt': 223, 'geil': 224, 'arschloecher': 225, 'sehe': 226, 'dummer': 227, 'liebe': 228, '13': 229, 'wegen': 230, 'dr': 231, '6': 232, 'kostenlose': 233, 'fluechtlinge': 234, 'irgendwie': 235, 'glaube': 236, 'z': 237, 'wand': 238, 'merkels': 239, 'reden': 240, 'leute': 241, '7': 242, '8': 243, 'ibikus31': 244, 'wirklich': 245, 'verloren': 246, 'beatrix': 247, 'vstorch': 248, 'may': 249, 'traenen': 250, 'yooli': 251, 'derechte': 252, 'montanablack': 253, 'wunde': 254, 'hast': 255, 'kuehne': 256, 'komm': 257, 'freiheit': 258, 'europaeische': 259, 'europawahlkampf': 260, 'heissen': 261, 'drauf': 262, 'esc2019': 263, 'menschen': 264, 'bezeichnen': 265, 'ach': 266, 'gar': 267, 'sagt': 268, 'waehlen': 269, 'tot': 270, 'fuern': 271, 'lol': 272, 'fr': 273, 'ueberall': 274, 'gib': 275, 'dorsten': 276, 'teilausfall': 277, 'kommt': 278, 'einfuehren': 279, 'fah': 280, 'wild': 281, 'ne': 282, 'reg': 283, 'wahl': 284, 'erste': 285, 'schlimm': 286, '19': 287, 'one': 288, 'fies': 289, 'arme': 290, 'typ': 291, 'bremen': 292, 'kommen': 293, 'schaffen': 294, 'eva': 295, 'spiegelonline': 296, 'gibts': 297, 'unglaublich': 298, 'russische': 299, 'nackt': 300, 'alte': 301, 'muschi': 302, 'boden': 303, 'mir': 304, 'fahren': 305, '36': 306, 'alle': 307, 'regierung': 308, 'sagen': 309, 'hund': 310, 'sieht': 311, 'unfollow': 312, 'drdavidberger': 313, 'heulen': 314, '33': 315, 'brot': 316, 'seit': 317, 'findom': 318, 'teilen': 319, 'europawahl2019': 320, 'lachen': 321, 'islamisierung': 322, 'werden': 323, 'schlimmer': 324, 'same': 325, 'nic': 326, 'automaten': 327, 'verdammt': 328, 'waehler': 329, 'anfang': 330, 'sachen': 331, 'aufklaerer2017': 332, 'los': 333, 'verdanken': 334, 'erwa': 335, 'et': 336, 'schlagabtausch': 337, 'live': 338, 'rede': 339, 'propaganda': 340, 'sex': 341, 'muessen': 342, 'd2s': 343, '38': 344, 'eur': 345, 'raus': 346, 'mdr': 347, 'versucht': 348, 'pennen': 349, 'kacke': 350, 'merkst': 351, 'unserer': 352, 'tun': 353, 'kostenlos': 354, 'deutscher': 355, 'xd': 356, 'soviel': 357, 'haut': 358, 'movie': 359, '9': 360, 'itunes': 361, 'sale': 362, 'ueberhaupt': 363, 'korrupt': 364, 'w': 365, 'passie': 366, 'claudia': 367, 'religion': 368, 'friedens': 369, 'verkaufen': 370, 'luegenpresse': 371, 'erdogan': 372, 'trotzdem': 373, 'millionen': 374, '1': 375, 'ig': 376, 'loeffel': 377, 'penner': 378, 'wer': 379, 'brief': 380, 'at': 381, 'stbrandner': 382, 'das': 383, 'es': 384, 'der': 385, 'auf': 386, 'rechte': 387, 'rein': 388, 'wird': 389, 'no': 390, 'langsam': 391, 'vergewaltigung': 392, 'bereits': 393, 'tv': 394, 'eingeladen': 395, 'sofo': 396, 'update': 397, 'ca': 398, 'ramsen': 399, 'hoffe': 400, 'eier': 401, 'derb': 402, 'abseits': 403, 'zivilisation': 404, 'abgelegen': 405, 'umschrieben': 406, 'einlauf': 407, 'gerade': 408, 'fickt': 409, 'koblenz': 410, 'akk': 411, 'cdu': 412, 'funktionie': 413, 'wissenschaft': 414, 'bareholebitch': 415, 'frank': 416, 'song': 417, 'freundin': 418, 'werbung': 419, 'union': 420, 'machen': 421, 'geilen': 422, 'moegen': 423, 'bitte': 424, 'via': 425, 'erkenntnis': 426, 'cem': 427, 'oezdemir': 428, 'schlampen': 429, 'wisst': 430, 'nutte': 431, 'sorry': 432, 'nix': 433, 'nen': 434, 'fick': 435, 'nigromontanus': 436, 'milf': 437, 'merkelmussweg': 438, 'system': 439, 'warnung': 440, 'kant': 441, 'ko': 442, 'hr': 443, 'erlaubt': 444, 'berlin': 445, 'mitte': 446, 'i': 447, 'wuerselen': 448, 'harvard': 449, 'af': 450, 'stueck': 451, 'schwanz': 452, 'maas': 453, 'ltere': 454, '57': 455, 'xdeanmusicx': 456, 'gauland': 457, 'denken': 458, 'nazisraus': 459, 'vllt': 460, 'schwester': 461, 'gesagt': 462, 'naja': 463, 'si': 464, 'iq': 465, 'stimulator': 466, 'konservative': 467, 'troisdorf': 468, 'verspaetungskuerzung': 469, 'schere': 470, 'trump': 471, 'steine': 472, 'herrn': 473, 'aus': 474, 'tyske': 475, 'verantwo': 476, 'heimat': 477, 've': 478, 'berliner': 479, 'ziemlich': 480, 'sterben': 481, 'koennt': 482, 'yeah': 483, 'welle': 484, 'schiebt': 485, 'gaebe': 486, 'bereit': 487, 'gab': 488, 'downloaden': 489, 'nackte': 490, 'rp19': 491, '0': 492, 'al': 493, 'sozialisten': 494, 'freilichmagazin': 495, 'interfilm': 496, 'horrem': 497, 'lets': 498, 'plays': 499, 'fcbayern': 500, 'dercarsti': 501, 'boykottieren': 502, 'spekulie': 503, 'amt': 504, 'uebernimmt': 505, 'schaetzen': 506, 'zukunft': 507, 'mitgliedstaaten': 508, 'krieg': 509, 'wueste': 510, 'schlagzeile': 511, 'reagie': 512, 'tritt': 513, 'uk': 514, 'zuruecktritt': 515, 'freudentraenen': 516, 'justmedoro': 517, 'gaense': 518, 'hauen': 519, 'warmen': 520, 'ueberwinterungsqua': 521, 'iere': 522, 'guter': 523, 'patriot': 524, 'bord': 525, 'gestuerzt': 526, 'einen': 527, 'finanzie': 528, 'schmierenkomoedianten': 529, 'cockschelle': 530, 'kinderfickender': 531, 'nazan': 532, 'bittebitte': 533, 'loese': 534, 'punggdae': 535, 'trulla': 536, 'ld': 537, 'moderatorin': 538, 'letsdance2019': 539, 'letsdance': 540, 'spitzenkandidatin': 541, 'franziska': 542, 'keller': 543, 'co2': 544, 'steuer': 545, 'ausgesp': 546, 'mknhofheim': 547, 'backstage0000': 548, 'graubaer1953': 549, 'dduric': 550, 'yorck': 551, 'weber': 552, 'altmaier': 553, 'haen': 554, 'denkausfall': 555, 'lenarogl': 556, 'zunaechst': 557, 'beschraenken': 558, 'monsieur': 559, 'belier': 560, 'swiftxcited': 561, 'arsenal': 562, 'lady': 563, 'blockieren': 564, 'gut': 565, 'pakinson': 566, 'hand': 567, 'gbr': 568, 'jemandoriginal': 569, 'bestimmten': 570, 'folgen': 571, 'crazydigital': 572, 'vor': 573, 'uhr': 574, 'die': 575, '31': 576, 'jahre': 577, 'mach': 578, 'mit': 579, 'festpreise': 580, 'lob': 581, 'holzen': 582, 'amazonas': 583, 'sche': 584, 'cwbwelias': 585, 'theresagesper': 586, 'note': 587, 'verbessern': 588, 'physik': 589, 'referat': 590, 'stabile': 591, 'sahel': 592, 'staaten': 593, 'hilfe': 594, 'andyamholst': 595, 'sozialdarwinistische': 596, 'vorstufe': 597, 'froh': 598, 'saison': 599, 'verlaengerung': 600, 'leidens': 601, 'vfb': 602, 'sgepeeti': 603, 'verdursten': 604, 'gam': 605, 'fo': 606, 'nitegame': 607, 'almans': 608, 'problem': 609, 'gntm': 610, 'hyperbushido': 611, 'streu': 612, 'symon634': 613, 'ficke': 614, 'enkeltochter': 615, 'opas': 616, 'opis': 617, 'alter': 618, 'sack': 619, 'nwbrb44': 620, 'oberhausen': 621, '51': 622, '15': 623, 'greenziegel': 624, 'idee': 625, 'parkgebuehr': 626, 'fahrrader': 627, 'parkgebuehren': 628, 'comfeekazu': 629, 'freigeist': 630, 'nicolasjanzen': 631, 'och': 632, 'haha': 633, 'wohne': 634, 'schwelm': 635, 'nerd': 636, 'tj': 637, 'tweets': 638, 'rezomusik': 639, 'erinnerungen': 640, 'lefloid': 641, 'wach': 642, 'nationalismus': 643, 'feind': 644, 'europawahl19': 645, 'saufkumpel': 646, 'betiteln': 647, 'talent': 648, 'chrisepunkt': 649, 'doh': 650, 'bruder': 651, 'beides': 652, 'theitcrowdblog': 653, 'theitcrowd': 654, '04': 655, '07': 656, 'freetv': 657, 'itcrowd': 658, 'islamiqde': 659, 'amifabnow': 660, 'ashie': 661, 'pandabrchenthe1': 662, 'unbequem': 663, 'dwntwnbeats': 664, 'nachbarn': 665, 'laut': 666, 'musik': 667, 'anmacht': 668, 'messen': 669, 'anlange': 670, 'spucke': 671, 'seife': 672, 'nwbrs2': 673, 'burg': 674, '08': 675, 'twistringen': 676, '09': 677, 'betriebliche': 678, 'gruend': 679, 'wincent': 680, 'lanz': 681, 'kaum': 682, 'respekt': 683, 'deutscheamateu1': 684, 'sahne': 685, 'julia42833681': 686, 'leisner': 687, 'finde': 688, 'gewinne': 689, 'ekelhaft': 690, 'schockierend': 691, 'robdoubleyoo': 692, 'mialleixa34': 693, 'idiot': 694, 'veg': 695, 'and': 696, 'were': 697, 'pro': 698, 'animals': 699, 'sionist': 700, 'priv': 701, 'girl': 702, 'froehliches': 703, 'nationalitaetenraten': 704, 'angesagt': 705, 'degenerie': 706, 'master': 707, 'dlx': 708, 'lieben': 709, 'staendiger': 710, 'suppo': 711, 'exclusiv': 712, 'orientales': 713, 'follando': 714, 'fotosammlung': 715, 'pneumannberlin': 716, 'flixbus': 717, 'sebczaja': 718, 'omnibus': 719, 'bdo': 720, 'fernbus': 721, 'kasi': 722, 'alb': 723, 'lieblingslied': 724, 'innenminister': 725, 'kehre': 726, 'pisst': 727, 'stroemen': 728, 'fahrrad': 729, 'grillen': 730, 'unt': 731, 'hab': 732, 'durch': 733, 'jahren': 734, 'du': 735, 'hoehepunkt': 736, 'olivia': 737, 'frey55': 738, 'maltekaufmann': 739, 'maltchen': 740, 'hetze': 741, 'genutzt': 742, 'geschaetzt': 743, 'ra': 744, 'unglaublicher': 745, 'sigrid': 746, 'aktiv': 747, 'paranoia': 748, 'bestaeubung': 749, 'fridaysforfu': 750, 'ure': 751, 'voraus': 752, 'ooh': 753, 'narzisstischen': 754, 'ih': 755, 'seppgamsbichler': 756, 'joachimkessel': 757, 'soleylifa': 758, 'hockerrocker80': 759, 'exgruene': 760, 'mauschwitz': 761, 'joerg': 762, 'meuthen': 763, 'darauf': 764, 'organisie': 765, 'jutta': 766, 'ditfu': 767, 'tanturs': 768, 'jaaaa': 769, 'maxscurscur': 770, 'sah': 771, 'hurensoehne': 772, 'uech': 773, 'tadelloser': 774, 'wolf': 775, 'rudere': 776, 'verdammte': 777, 'ufer': 778, 'moza': 779, '2018': 780, 'sponse': 781, 'bau': 782, 'bloedsinn': 783, 'steuerzahler': 784, 'brutal': 785, 'abgemolken': 786, 'moment': 787, 'zugewandt': 788, 'zeitgleich': 789, 'ruecken': 790, 'hintern': 791, 'semihkrll': 792, 'hkktndr': 793, 'immediately': 794, 'xadlive': 795, 'cool': 796, 'bemuehtes': 797, 'ikelchen': 798, 'stellen': 799, 'kongress': 800, 'waegen': 801, 'wider': 802, 'skandaaaaaa': 803, 'bundestagsabgeordnete': 804, 'hoechst': 805, 'steigender': 806, 'verfolgung': 807, 'homosexueller': 808, 'riegel': 809, 'vorschieben': 810, 'lassmichbitteee': 811, 'eltern': 812, 'spass': 813, 'hurensohne': 814, 'fucking': 815, 'rum': 816, 'fuxking': 817, 'piraten': 818, 'nbb': 819, 'oranienburg': 820, 'sowie': 821, 'kreistag': 822, 'oberhavel': 823, 'kandidie': 824, 'ria': 825, 'nicola': 826, 'patchworkmutter': 827, 'quasseltier': 828, 'cyberramona': 829, 'huensoehne': 830, 'wuaaaaaaa': 831, 'fettes': 832, 'nordisch': 833, 'by': 834, 'nature': 835, 'hip': 836, 'hop': 837, 'legende': 838, 'neuem': 839, 'album': 840, 'lovestory': 841, 'moegt': 842, 'neueste': 843, 'bilder': 844, 'mandala': 845, 'retweet': 846, 'setzen': 847, 'sexy': 848, 'nude': 849, 'young': 850, 'germany': 851, 'ass': 852, 'nichtleslo': 853, 'erdkunde': 854, 'dermassen': 855, 'hauptstaede': 856, 'palastluger': 857, 'koepi': 858, 'momentanen': 859, 'abgeht': 860, 'laecherlich': 861, 'just': 862, 'sayin': 863, 'sackhaarfrisur': 864, 'gemuetlichen': 865, 'feie': 866, 'ags': 867, 'abend': 868, 'bissele': 869, 'trans': 870, 'warp': 871, 'gleichung': 872, 'tuefteln': 873, 'kr': 874, 'drumheadberlin': 875, 'unheil': 876, 'groessten': 877, 'anteil': 878, 'rest': 879, 'vasallen': 880, 'fern': 881, 'schreiber': 882, 'klasse': 883, 'zwei': 884, 'scheissegal': 885, 'opfer': 886, 'rapperin': 887, 'juju': 888, 'aktue': 889, 'zeitung': 890, 'energie': 891, 'vattenfall': 892, 'wasserstoff': 893, 'stayawakexo': 894, 'icys0da': 895, 'kongstrongru': 896, 'saskia': 897, 'harmon': 898, 'stellst': 899, 'triggern': 900, 'eucap': 901, 'niger': 902, 'funkeberlin': 903, 'westiebot': 904, 'mamafus': 905, 'peiwei': 906, 'apatzwahl': 907, 'nachdenkenswe': 908, 'siegeszug': 909, 'netzfund': 910, 'guidodietel': 911, 'entzauberung': 912, 'gestoppt': 913, 'skakeller': 914, 'geheimwaffe': 915, 'lautet': 916, 'labern': 917, 'aufgibt': 918, 'holgerewald1': 919, 'imam': 920, 'warnt': 921, 'uns': 922, 'gemaessigten': 923, 'helfen': 924, 'amy': 925, 'fliegenderelf': 926, 'suesseste': 927, 'koesst': 928, 'feiern': 929, 'klimawandelskeptikerin': 930, 'ruth': 931, 'townsley': 932, 'gefeue': 933, 'saeure': 934, 'farage': 935, 'gespritzt': 936, 'eklig': 937, 'charity': 938, 'policy': 939, 'chief': 940, 'kontoauszug': 941, 'drucken': 942, 'kassei': 943, 'tretet': 944, 'nochmal': 945, 'parlaments': 946, 'zieht': 947, 'hasser': 948, 'ulihaase': 949, 'sounds2move': 950, 'therealmrboccia': 951, 'taunusabbel': 952, 'eintracht': 953, 'merk': 954, 'freie': 955, 'gemeinderat': 956, 'multitain': 957, 'haticeakyuen': 958, 'kuehe': 959, 'unfinanzierbaren': 960, 'zukunftsvisionen': 961, 'melken': 962, 'kann': 963, 'buje78': 964, 'abgestiegen': 965, 'egal': 966, 'liga': 967, 'hsv': 968, 'hapaxlegomenos': 969, 'gestellt': 970, 'grunde': 971, 'normativ': 972, 'fakuum': 973, 'abgespaceste': 974, 'leipzig': 975, 'eisenbahnstrasse': 976, 'gingen': 977, 'araber': 978, 'aufeinander': 979, 'tuerke': 980, 'abgestochen': 981, 'bruststich': 982, 'alido': 983, 'olivari': 984, 'pepper46477330': 985, 'studienabbrechern': 986, 'subjekten': 987, 'ausbildung': 988, 'halbg': 989, 'ragazzi': 990, 'viele': 991, 'ticker': 992, 'spannung': 993, 'spricht': 994, 'havard': 995, 'absolventen': 996, 'swatch': 997, 'uhren': 998, 'toblerone': 999, 'muesst': 1000, 'schweizer': 1001, 'fernse': 1002, 'nebelniek': 1003, 'schlafen': 1004, 'kacken': 1005, 'jeky': 1006, 'veroeffentlicht': 1007, 'weitaus': 1008, 'bka': 1009, 'lagebild': 1010, 'gewalt': 1011, 'zuwanderern': 1012, 'nimm': 1013, 'analulla': 1014, 'fickgeilste': 1015, 'sekretaerin': 1016, 'ever': 1017, 'ruebenhorst': 1018, 'lernen': 1019, 'fehlern': 1020, 'quittung': 1021, 'steuerfinanzie': 1022, 'herbs': 1023, 'muttis': 1024, 'kostenloser': 1025, 'frankfu': 1026, 'erotik': 1027, 'massage': 1028, 'fkk': 1029, 'schweden': 1030, 'sitze': 1031, 'halbie': 1032, 'tja': 1033, 'ohren': 1034, 'klingeln': 1035, 'osram': 1036, '66240clc': 1037, 'xenarc': 1038, 'classic': 1039, 'duo': 1040, '61': 1041, 'new': 1042, 'lampen': 1043, 'xenon': 1044, 'brenner': 1045, 'xenonlampen': 1046, 'hallaschka': 1047, 'hh': 1048, 'konataplayz': 1049, 'mofuggaffm': 1050, 'tacoskr': 1051, '68': 1052, 'mdraktuell': 1053, 'soso': 1054, 'gelogen': 1055, 'war': 1056, 'plaer': 1057, 'tof': 1058, 'spekulieren': 1059, 'geliebt': 1060, 'worden': 1061, 'besinnunglos': 1062, 'abends': 1063, 'penis': 1064, 'aschenbecher': 1065, 'prdgrmn': 1066, 'renft1964': 1067, 'vorstellen': 1068, 'dinge': 1069, 'findet': 1070, 'traditionelles': 1071, 'backhausfest': 1072, 'tetscher': 1073, 'zwiebelkuchen': 1074, 'kuchen': 1075, 'special': 1076, 'heujahr': 1077, 'lauchkuchen': 1078, 'niederlaendische': 1079, 'abn': 1080, 'amro': 1081, 'bank': 1082, 'schwaechelt': 1083, 'jahresbeginn': 1084, 'tradesfeed': 1085, 'lanaaloveless': 1086, 'eiern': 1087, 'militaerhubschrauber': 1088, 'spezielle': 1089, 'zyklonfilter': 1090, 'shaden': 1091, 'aufgewirbeltem': 1092, 'turbinen': 1093, 'ninchen': 1094, 'lebst': 1095, 'feminismusgruppe': 1096, 'frauelo': 1097, 'sempfglas': 1098, 'herbstgefuehl': 1099, 'abtreibung': 1100, 'unmoralisch': 1101, 'erkennt': 1102, 'hinsicht': 1103, 'hirnverbrannte': 1104, 'drunkenraindrop': 1105, 'gefragt': 1106, 'presse': 1107, 'altpa': 1108, 'eien': 1109, '1000': 1110, 'islamisch': 1111, 'motivie': 1112, 'gewalttaten': 1113, 'abe': 1114, 'titten': 1115, 'nylon': 1116, 'parkplatzsex': 1117, 'kmoneydom': 1118, 'dunkle': 1119, 'jeans': 1120, 'l': 1121, 'brauchen': 1122, 'vibrator': 1123, 'ytbestofsjonas': 1124, 'redet': 1125, 'tag': 1126, 'kong': 1127, 'skull': 1128, 'island': 1129, 'regieren': 1130, 'ewig': 1131, 'hin': 1132, 'wiskundig': 1133, 'onjuist': 1134, 'disfosgen': 1135, 'geschwafel': 1136, 'schreiberling': 1137, 'buerokratie': 1138, 'joy333': 1139, 'fremde': 1140, 'frech': 1141, 'bekannte': 1142, 'freunde': 1143, 'etc': 1144, 'jagdfieber': 1145, 'kinderleben': 1146, 'fahne': 1147, 'nationalfahnen': 1148, 'hunde': 1149, 'tausende': 1150, 'naechsterunde': 1151, 'allerdings': 1152, 'bgefahren': 1153, 'machtgeil': 1154, 'jetzigen': 1155, 'charge': 1156, 'beschleicht': 1157, 'verdacht': 1158, 'waeren': 1159, 'einfa': 1160, 'officialnuplays': 1161, 'lowerclassmag': 1162, 'wichtig': 1163, 'liberalos': 1164, 'auslaendische': 1165, 'insbesondere': 1166, 'oligarchin': 1167, 'adele66661': 1168, 'schreddern': 1169, 'voegeln': 1170, 'vernichten': 1171, 'bienen': 1172, 'anbau': 1173, 'monokulturen': 1174, 'inf': 1175, 'blickch': 1176, 'erwiesen': 1177, 'muell': 1178, 'mikelontour': 1179, 'hasselfeld': 1180, 'wahlkampfhelferin': 1181, 'deepstateexpose': 1182, 'rothschild': 1183, 'lineage': 1184, 'houelle': 1185, 'beck': 1186, 'lu': 1187, 'rasend': 1188, 'windraeder': 1189, 'dazu': 1190, 'toetungs': 1191, 'crazy': 1192, 'umgehen': 1193, 'guennitack': 1194, 'teuren': 1195, 'karre': 1196, 'geizig': 1197, 'paar': 1198, 'euro': 1199, 'fuers': 1200, 'parkhaus': 1201, 'verraet': 1202, 'strenge': 1203, 'vorschriften': 1204, 'mimini97': 1205, 'kade': 1206, 're': 1207, 'gnocchi': 1208, 'mane': 1209, 'unbegreiflich': 1210, 'nido': 1211, 'magazin': 1212, 'grossbritannien': 1213, 'verhaltensforscher': 1214, 'unverheiratete': 1215, 'gluecklichsten': 1216, 'matthewsnow777': 1217, 'kevinalpha100': 1218, 'fernsehga': 1219, 'roterpaenda': 1220, 'piapale': 1221, 'niere': 1222, 'blutplasma': 1223, 'sebaso': 1224, 'grenzen': 1225, 'wachstums': 1226, 'billige': 1227, 'unwissenschaftliche': 1228, 'modellrechnung': 1229, 'verher': 1230, 'afternoonsand': 1231, 'acosta': 1232, 'seik': 1233, 'heilp': 1234, 'for': 1235, 'your': 1236, 'bullshit': 1237, 'hake': 1238, 'nach': 1239, 'europaweit': 1240, 'deutschla': 1241, 'wetter': 1242, 'wind': 1243, 'nnw': 1244, 'feuchtigkeit': 1245, 'luftdruck': 1246, '1039': 1247, 'hpa': 1248, 'eclipsesquirrei': 1249, 'doris': 1250, 'voice': 1251, 'valeriehoehne': 1252, 'oeffentlich': 1253, 'rechtlichen': 1254, 'grossteil': 1255, 'medien': 1256, 'infl': 1257, 'outofvalhalla': 1258, 'all': 1259, 'draussen': 1260, 'kritiker': 1261, 'leichtfe': 1262, 'nennt': 1263, 'kaempfen': 1264, 'dirkhafermann': 1265, 'kippa': 1266, 'refugeeswelcome': 1267, 'button': 1268, 'fancy': 1269, 'vorkommen': 1270, 'spaghetti': 1271, 'nem': 1272, 'gabel': 1273, 'sinnlos': 1274, 'dasperfektedinner': 1275, 'horopat': 1276, 'verfassungsschutz': 1277, 'lumpenverein': 1278, 'wollt': 1279, 'hier': 1280, 'andersdenkende': 1281, 'ueb': 1282, 'isis': 1283, 'anhaenger': 1284, 'updayde': 1285, 'gesendet': 1286, 'philippkirchbe2': 1287, 'regsprecher': 1288, 'peinliches': 1289, 'yasinaygan': 1290, 'tdoernb': 1291, 'alican': 1292, '2023': 1293, 'provomed': 1294, 'halts': 1295, 'stolz': 1296, 'har41637914': 1297, 'juergenbraunafd': 1298, 'volksterroristen': 1299, 'keiner': 1300, 'lamijaparker': 1301, 'zugzwang74': 1302, 'dave': 1303, 'mitchell': 1304, 'fsv': 1305, 'dfr38314168': 1306, 'devote': 1307, 'unweigerlich': 1308, 'geben': 1309, 'abgeschlossen': 1310, 'erol19732': 1311, 'zeitonline': 1312, 'sollten': 1313, 'ehemaligen': 1314, 'ueberprueft': 1315, 'stasi': 1316, 'boogie': 1317, 'underground': 1318, 'alhanda': 1319, 'amerikas': 1320, 'avengersendgame': 1321, 'b4rr0th': 1322, 'rufe': 1323, 'axel': 1324, 'voss': 1325, 'reisst': 1326, 'pepinosten': 1327, 'macher': 1328, 'gegensatz': 1329, 'lachern': 1330, 'ghile': 1331, 'ungesunde': 1332, 'schweinerei': 1333, 'knapper': 1334, 'zirkus': 1335, 'ceeembo': 1336, 'marcedonia': 1337, 'schroeder': 1338, 'vergleich': 1339, 'politicalbeauty': 1340, 'identitaeren': 1341, 'politische': 1342, 'kuenstler': 1343, 'radi': 1344, 'schule': 1345, 'gestern': 1346, 'abistress': 1347, 'wichsvorlage': 1348, 'teen': 1349, 'groe': 1350, 'schwnze': 1351, 'sexfilmegratis': 1352, 'clip': 1353, 'rickj78': 1354, 'fuuuuu': 1355, 'davinismus': 1356, 'rassist': 1357, 'supermarkt': 1358, 'weisse': 1359, 'bohnen': 1360, 'kauft': 1361, 'taschen': 1362, 'papier': 1363, 'zweitstaerkste': 1364, 'kraft': 1365, 'erzeit': 1366, 'fakt': 1367, 'sinnvoll': 1368, 'vi': 1369, 'lawyerberlin': 1370, 'staats': 1371, 'wurden': 1372, 'habeck': 1373, 'abaerbock': 1374, 'talk': 1375, 'shows': 1376, 'wahlmanipulatio': 1377, 'vazhnicza76765': 1378, 'tamaraberlin85': 1379, 'noverclaudia': 1380, 'kennst': 1381, 'embodiment': 1382, 'biete': 1383, 'coachingangebot': 1384, 'monate': 1385, 'embodimentcoaching': 1386, 'demutsch': 1387, 'busnotverkehr': 1388, 'gruenstadt': 1389, '40': 1390, 'matthiasmeisner': 1391, 'irr': 1392, 'news': 1393, 'dernbachan': 1394, 'ricarda': 1395, 'lang': 1396, 'fliegen': 1397, 'nerven': 1398, 'irgendwann': 1399, 'flieg': 1400, 'holyvitality': 1401, 'justvnty': 1402, 'verpiss': 1403, 'bineuerboss': 1404, 'fivethrsix': 1405, 'unlustig': 1406, 'sexistisch': 1407, 'hirntot': 1408, 'icj': 1409, 'fallen': 1410, 'berraschend': 1411, 'puff': 1412, 'thringen': 1413, 'tittenfick': 1414, 'german': 1415, 'brazer': 1416, 'gogollafit': 1417, 'reinscrolle': 1418, 'merke': 1419, 'ich': 1420, 'kompletten': 1421, 'gegenrealitaet': 1422, 'kon': 1423, 'lepenseur': 1424, 'treu': 1425, 'unserm': 1426, 'volkstum': 1427, 'fragolin': 1428, 'mitlesenden': 1429, 'blockwa': 1430, 'rausch': 1431, 'fetter': 1432, 'gynkologe': 1433, 'amate': 1434, 'jugendtliche': 1435, 'outdoor': 1436, 'isariuzcs': 1437, 'erstmal': 1438, 'bissel': 1439, 'klinik': 1440, 'goennen': 1441, 'neuwied': 1442, 'vanillelikoer': 1443, 'tuerkin': 1444, 'anfuehrungszeichen': 1445, 'kurdin': 1446, 'ausspionie': 1447, 'rbrinkhaus': 1448, 'rassistisch': 1449, 'verschissenen': 1450, 'externe': 1451, 'adapter': 1452, 'eingebaute': 1453, 'sfgjklkf': 1454, 'chrisjcsgo': 1455, 'fazeniko': 1456, 'eslcs': 1457, 'thanks': 1458, 'meterphysik': 1459, 'diversitaet': 1460, 'nikab': 1461, 'burka': 1462, 'tjador': 1463, 'hijab': 1464, 'jungs': 1465, 'duerfen': 1466, 'fetten': 1467, 'schwaenze': 1468, 'blank': 1469, 'schieben': 1470, 'reinspritzen': 1471, 'anne': 1472, 'kyf': 1473, 'destandaard': 1474, 'schwarz': 1475, 'gelb': 1476, 'blau': 1477, 'dreck': 1478, 'antidemokraten': 1479, 'verenden': 1480, 'glubschauge': 1481, 'barley': 1482, 'buergerrechtler': 1483, 'carsten': 1484, 'moralapostel': 1485, 'verschwoerer': 1486, 'walter': 1487, 'stei': 1488, 'bamberg': 1489, 'adac': 1490, 'beunruhigung': 1491, 'sargtraeger': 1492, 'ueberholte': 1493, 'autokultur': 1494, 'grabe': 1495, 'germanymisfits': 1496, 'juekofubago5': 1497, 'hexehanna8': 1498, 'philip': 1499, 'sympathisch': 1500, 'queen': 1501, 'bin': 1502, 'fan': 1503, 'heutige': 1504, 'grummelmann': 1505, 'ckmeine': 1506, 'explizit': 1507, 'sharebenhaufen': 1508, 'nachhaltig': 1509, 'pornofoto': 1510, 'sveta': 1511, 'belochkina': 1512, 'jugendliche': 1513, 'pono': 1514, 'italiano': 1515, 'perspective': 1516, '1978': 1517, 'interscope': 1518, 'hevellia64': 1519, 'ralf64904117': 1520, 'chrisfuerafd': 1521, 'kaempften': 1522, 'raeaechts': 1523, 'enkel': 1524, 'fridayforfuture': 1525, 'ser0599': 1526, 'elba': 1527, 'o08973042': 1528, 'missionen': 1529, 'merlethewizard': 1530, 'beweg': 1531, 'berxe': 1532, 'oesterreichischen': 1533, 'heraus': 1534, 'halten': 1535, 'sie': 1536, 'karina140911': 1537, 'herman': 1538, 'seid': 1539, 'politikstube': 1540, 'jogg': 1541, 'pfad': 1542, 'stopfe': 1543, 'wellensittich': 1544, 'ente': 1545, 'yannikau': 1546, 'abschieben': 1547, 'nackter': 1548, 'pornogratis': 1549, 'movil': 1550, 'extrem': 1551, 'ficksau': 1552, 'ost': 1553, 'carpediem041703': 1554, 'reichts': 1555, 'fluechtling': 1556, 'roten': 1557, 'braunen': 1558, 'meinungsfaschisten': 1559, 'hau': 1560, 'blog': 1561, 'fefe': 1562, 'ihr': 1563, 'kraftvollen': 1564, 'firefox': 1565, 'fuckup': 1566, 'voellig': 1567, 'unvorhergesehen': 1568, 'ueberraschen': 1569, 'dreckige': 1570, 'sterbanen': 1571, 'reachtruckchauffeur': 1572, 'vm': 1573, 'dittrich': 1574, 'bloed': 1575, 'lied': 1576, 'gone': 1577, 'jameskennedyuk': 1578, 'soundcloud': 1579, 'netreaper': 1580, 'miatamuc': 1581, 'kachelmann': 1582, 'gaaarrrrnix': 1583, 'tabulosen': 1584, 'touristenschreck': 1585, 'public': 1586, 'murksel': 1587, 'kopftuchtante': 1588, 'neckar67': 1589, 'nur': 1590, 'andr': 1591, 'ficktitze': 1592, 'praesentie': 1593, 'snipzh': 1594, 'staender': 1595, 'gebrauchen': 1596, 'drwaumiau': 1597, 'alexa': 1598, 'single': 1599, 'heisse': 1600, 'siri': 1601, 'anal': 1602, 'fahrschlerin': 1603, 'hausfrauen': 1604, 'lukaschenkaver1': 1605, 'belgien': 1606, 'failed': 1607, 'state': 1608, 'siehe': 1609, 'dutroux': 1610, 'bande': 1611, 'brabant': 1612, 'friedenau': 1613, 'matzegeisthardt': 1614, 'niedrig': 1615, 'loehne': 1616, 'spinner': 1617, 'frolleinvommeer': 1618, 'daue': 1619, 'frage': 1620, 'apotheke': 1621, 'haeufiger': 1622, 'versuche': 1623, 'meist': 1624, 'parallel': 1625, 'schade': 1626, 'drphiloponus': 1627, 'einmaersche': 1628, 'hui': 1629, 'einmischung': 1630, 'pfui': 1631, 'humor': 1632, 'xxx': 1633, 'vater': 1634, 'tweetba': 1635, 'hals': 1636, 'blockchains': 1637, 'denen': 1638, 'sebastiankurz': 1639, 'reinlegen': 1640, 'nwbrb84': 1641, 'holzminden': 1642, 'stadtoldendorf': 1643, 'fahrzeugstoerung': 1644, 'araujo': 1645, 'feltscher': 1646, 'exprofis': 1647, 'vengaboys': 1648, 'aidrieeen': 1649, 'ueberforde': 1650, 'katzenhaxen': 1651, 'dark': 1652, 'fighter': 1653, '87': 1654, 'r3tu4s': 1655, 'wenked': 1656, 'doch': 1657, 'verbiete': 1658, 'deswe': 1659, 'lowl3v3l': 1660, 'saftmoppel': 1661, 'klingt': 1662, 'allzu': 1663, 'faelle': 1664, 'irgendein': 1665, 'funktionierendes': 1666, 'militr49': 1667, 'irren': 1668, 'personen': 1669, 'roth': 1670, 'fdj': 1671, 'lerin': 1672, 'meinung': 1673, 'ichbinkoelnerin': 1674, 'menschheitsgeschichte': 1675, 'agitation': 1676, 'jackcaroni': 1677, 'metastabil': 1678, 'mateundottdrei': 1679, 'flexxer': 1680, 'sohn': 1681, 'vergewaltigt': 1682, 'blondine': 1683, 'spanking': 1684, 'po': 1685, 'katharinalotter': 1686, 'genial': 1687, 'trigger': 1688, 'crazy21292822': 1689, 'ons': 1690, 'angegeben': 1691, 'null': 1692, 'durchschnitt': 1693, 'unskilledjosh3': 1694, 'klassische': 1695, 'strecke': 1696, 'stadtstrecke': 1697, 'tilke': 1698, 'klarnamehornet': 1699, 'usw': 1700, 'genannt': 1701, 'hohlkoerper': 1702, 'lehnt': 1703, 'morden': 1704, 'vergewaltigen': 1705, 'erk': 1706, 'wohnungsbelegung': 1707, 'reglementieren': 1708, 'omi': 1709, 'raum': 1710, 'wohnung': 1711, 'bones': 1712, 'eiffel65': 1713, 'teamsesh': 1714, 'send': 1715, 'music': 1716, 'tage': 1717, 'woche': 1718, 'done': 1719, 'erleben': 1720, 'legendaeren': 1721, 'the': 1722, 'schulzzug': 1723, 'richtngfreiheit': 1724, 'woaaaah': 1725, 'knuffig': 1726, 'suesse': 1727, 'mietze': 1728, 'vickershv10': 1729, 'wohnungen': 1730, '3785': 1731, 'monatlich': 1732, 'syrien': 1733, 'zurue': 1734, 'tsuga1453': 1735, 'ehrensackhaar': 1736, 'permanent': 1737, 'verlie': 1738, 'jegliche': 1739, 'bedeutung': 1740, 'obwohl': 1741, 'oftmals': 1742, 'stefanolix': 1743, 'sagte': 1744, 'orban': 1745, 'nuetzliche': 1746, 'rolandgiersig': 1747, 'tuerkisen': 1748, 'blaunen': 1749, 'hauptsache': 1750, 'manipulie': 1751, 'weiterverbreiten': 1752, '1hver': 1753, 'dem': 1754, 'blauen': 1755, 'franzoesisch': 1756, 'olafundsabrina': 1757, 'schaeme': 1758, 'bunt': 1759, 'gewollt': 1760, 'offene': 1761, 'abc': 1762, 'einsatz': 1763, 'postve': 1764, 'eilzentrum': 1765, 'herford': 1766, 'will': 1767, 'duenkelhafter': 1768, 'kasernenhofton': 1769, 'strache': 1770, 'skandal': 1771, 'oesterreich': 1772, 'nwz': 1773, 'kommentar': 1774, 'xqualli': 1775, 'quallen': 1776, 'arrogante': 1777, 'grinsen': 1778, 'bayernspieler': 1779, 'geistigen': 1780, 'auge': 1781, 'schrder47552341': 1782, 'kvomlande': 1783, 'liz': 1784, 'skripte': 1785, 'liefen': 1786, '4kolner': 1787, 'bimmermann': 1788, 'dreckiges': 1789, 'ratte': 1790, 'verfuehredich': 1791, 'versenken': 1792, 'cootuegpa': 1793, 'migos': 1794, 'melekwtr': 1795, 'samsunspor': 1796, 'lutfen': 1797, 'aktuelle': 1798, 'stunde': 1799, 'damit': 1800, 'dusche': 1801, 'neuken': 1802, 'eindhoven': 1803, 'sexfilme': 1804, 'trinkt': 1805, 'reagenzglas': 1806, 'wohl': 1807, 'mrs': 1808, 'hyde': 1809, 'celestescoeurs': 1810, 'fussmatte': 1811, 'versiffte': 1812, 'kindermaschine': 1813, 'aka': 1814, 'papi': 1815, 'geholfen': 1816, 'fckafd': 1817, 'harburg': 1818, 'noafd': 1819, 'noafdhh': 1820, 'nonazishh': 1821, 'gerhardschwar11': 1822, 'wohlhabender': 1823, 'nebenjobs': 1824, 'verdienen': 1825, 'leistungsbeziehern': 1826, 'abzugspfl': 1827, 'serotoninaffine': 1828, 'aba': 1829, 'maria': 1830, 'zuckerfreie': 1831, 'free': 1832, 'porrno': 1833, 'tubes': 1834, 'vgeln': 1835, 'zeiten': 1836, 'back': 1837, 'chillig': 1838, 'dead': 1839, 'heinz': 1840, 'a1': 1841, 'linuzifer': 1842, 'eimer': 1843, 'dfkring': 1844, 'kuanqia': 1845, 'film': 1846, 'keksen': 1847, 'charlton': 1848, 'heston': 1849, 'quick': 1850, 'bzberlin': 1851, 'stellt': 1852, 'schicksalsfrage': 1853, 'enteignungen': 1854, 'kreditaufnahme': 1855, 'seenotrettung': 1856, 'mittelmeer': 1857, 'sea': 1858, 'kapitaenin': 1859, 'pia': 1860, 'klemp': 1861, 'beklagte': 1862, 'jokoundklaas': 1863, 'besatzung': 1864, 'kriminal': 1865, 'karlv1954': 1866, 'buerstmayr': 1867, 'spoe': 1868, 'kompletter': 1869, 'schwachsinn': 1870, 'waehlt': 1871, 'missbababelle': 1872, 'gestoe': 1873, 'sat1': 1874, 'fruehstuecksfernsehen': 1875, 'behauptet': 1876, 'bruenette': 1877, 'kuh': 1878, 'tatsaechlich': 1879, 'gefeie': 1880, 'digitalfarmer3': 1881, 'benoetigen': 1882, 'betreutes': 1883, 'impfanoffiziell': 1884, 'joe': 1885, 'rogan': 1886, 'bitte1bitcoin': 1887, 'bitcoin': 1888, 'initiative': 1889, 'schaumstoff': 1890, 'riesigen': 1891, 'stuecken': 1892, 'stopf': 1893, 'shoulderpads': 1894, 'kissenfuellung': 1895, 'krzyx0': 1896, 'fickfilme': 1897, 'geschichten': 1898, 'denise': 1899, 'pornovideo': 1900, 'besprechung': 1901, 'kollege': 1902, 'vergangenheit': 1903, 'oefteren': 1904, 'gerettet': 1905, 'doktordab': 1906, 'views': 1907, 'wuerzburg': 1908, 'gewohnheiten': 1909, 'haemophagus': 1910, 'gegroele': 1911, 'gif': 1912, 'dickelippe': 1913, 'stehen': 1914, 'betten': 1915, 'dachbalkon': 1916, 'hollywoodschaukel': 1917, 'famosa': 1918, 'style': 1919, 'camoesdeluis': 1920, 'dormdkepmsnfkw': 1921, 'birnstinglausro': 1922, 'mehrehe': 1923, 'maenner': 1924, 'kibaseasons': 1925, 'patronus': 1926, 'donalphonso': 1927, 'dachten': 1928, 'wahrheit': 1929, 'halbem': 1930, 'strauss': 1931, 'mielke': 1932, 'liegen': 1933, 'muesste': 1934, 'mi': 1935, 'natebmccann': 1936, 'larabmccann': 1937, 'icon': 1938, 'unnormal': 1939, 'heiss': 1940, 'hornyturkgerman': 1941, 'hammer': 1942, 'juliereichwein1': 1943, 'nanunan32440900': 1944, '72': 1945, 'jungfrauen': 1946, 'paradies': 1947, 'julia': 1948, 'kloeckner': 1949, 'weigern': 1950, 'anreichen': 1951, 'archiv': 1952, 'puettmann': 1953, 'bonn': 1954, 'alt': 1955, 'erklaeren': 1956, 'sch': 1957, 'geschafft': 1958, 'kollektivistischen': 1959, 'sozialistischen': 1960, 'ungebeten1': 1961, 'pinkcrazypony': 1962, 'gottseidank': 1963, 'vate': 1964, 'ag': 1965, 'wegsaufen': 1966, 'wahlplakate': 1967, 'ressourcen': 1968, 'verschwendungen': 1969, 'haraldlaatsch': 1970, 'isseshalt': 1971, 's19': 1972, '48': 1973, '02': 1974, 'arm': 1975, 'reich': 1976, 'gesehen': 1977, 'neomagazin': 1978, 'organisationsstruktur': 1979, 'black': 1980, 'to': 1981, 'illeras': 1982, 'geilereife': 1983, 'thzoern': 1984, 'huettl': 1985, 'alicewo18626168': 1986, 'donald': 1987, 'volk': 1988, 'stuerzen': 1989, 'eusouvizzy': 1990, 'digga': 1991, 'hose': 1992, '19steffen09': 1993, 'nina2776': 1994, 'raeuber': 1995, 'hoemma': 1996, 'schokokitsune': 1997, 'kriege': 1998, 'bla': 1999, 'wars': 2000, 'hirnwixerei': 2001, 'dpolgthueringen': 2002, 'eigenen': 2003, 'moechtegern': 2004, 'heilen': 2005, 'scheinwelt': 2006, '20j': 2007, 'bremehafen': 2008, 'afrikaner': 2009, 'kontainerschiffen': 2010, 'eingeschleust': 2011, 'geldsumme': 2012, 'uniondermitte': 2013, 'cm2111': 2014, 'prienkarin': 2015, 'bekannt': 2016, 'eivorsitzende': 2017, 'homasbruns': 2018, 'feministinnen': 2019, 'kanzleramtsmann': 2020, 'andree': 2021, 'dominik': 2022, 'jfliegenschmidt': 2023, 'quazanga': 2024, 'inpfgegner': 2025, 'homoeopathie': 2026, 'befuerwo': 2027, 'tro': 2028, 'blubeiia': 2029, 'kannst': 2030, 'benutz': 2031, 'deko': 2032, 'aussieht': 2033, 'inflation': 2034, 'atomreisfleisch': 2035, 'sascha2801': 2036, 'masochisten': 2037, 'mutie': 2038, 'luege': 2039, 'pepsovic': 2040, 'aceofm': 2041, 'beef': 2042, 'chiarerra': 2043, 'unterschrift': 2044, 'groupie': 2045, 'wuensche': 2046, 'sitcom': 2047, 'maassen': 2048, 'erika': 2049, 'steinbach': 2050, 'kramp': 2051, 'karrenbauer': 2052, 'sabineosman': 2053, 'sozialdemokrat': 2054, 'aeusse': 2055, 'sozialdemokratische': 2056, 'ideen': 2057, 'flippt': 2058, 'hissy': 2059, 'fits': 2060, 'latschen': 2061, 'block': 2062, 'esraschelt': 2063, 'instant': 2064, 'uniformen': 2065, 'frueh': 2066, 'geknallt': 2067, 'badewannenrand': 2068, 'gestossen': 2069, 'autsch': 2070, 'krafts': 2071, 'werk': 2072, 'wahlomat': 2073, 'stimme': 2074, 'komplett': 2075, 'infohunter161': 2076, 'leibhaftige': 2077, 'imaginaere': 2078, 'rote': 2079, 'gespenst': 2080, 'steuersenkung': 2081, 'video': 2082, 'geeignet': 2083, 'teddybaerenwerfer': 2084, 'bahnhofsklatscher': 2085, 'asylfans': 2086, 'gutmenschen': 2087, 'denniswe': 2088, 'versteh': 2089, 'schaue': 2090, 'gern': 2091, 'rainbow': 2092, 'arbeitest': 2093, 'level': 2094, 'licher': 2095, 'up': 2096, 'fragst': 2097, 'bikini': 2098, 'ischen': 2099, 'notgeiles': 2100, 'schlefaz': 2101, 'ruiner110': 2102, 'schwultuete': 2103, 'blickt': 2104, 'csu': 2105, 'yui': 2106, 'cristate': 2107, 'werd': 2108, 'ansonsten': 2109, 'wuerd': 2110, 'zeichnen': 2111, 'ars': 2112, 'halile': 2113, 'em67': 2114, 'berichterstattung': 2115, 'putschversuch': 2116, 'venezuela': 2117, 'aegypten': 2118, 'reiben': 2119, 'christen': 2120, 'asylunterkuenften': 2121, 'netzeitung': 2122, 'dann': 2123, 'ze': 2124, 'ruemmern': 2125, 'erdloch': 2126, 'abziehen': 2127, 'pferden': 2128, 'primamuslima': 2129, 'fall': 2130, 'sogenannten': 2131, 'ehrenmordes': 2132, 'islamischen': 2133, 'milieu': 2134, 'ehrenmorde': 2135, 'neoxynx': 2136, 'gittib2': 2137, 'bohnenstroh': 2138, 'argumente': 2139, 'nazikeule': 2140, 'geschwungen': 2141, 'kayrytter': 2142, 'compactmagazin': 2143, 'mitschuldig': 2144, 'gemacht': 2145, 'mord': 2146, 'totschlag': 2147, 'hofie': 2148, 'gaest': 2149, 'vollidiot': 2150, 'natur': 2151, 'entsorgen': 2152, 'treffen': 2153, 'venezolanischer': 2154, 'opposition': 2155, 'sanktionen': 2156, 'maduro': 2157, 'pruefen': 2158, 'haufen': 2159, 's1': 2160, 'mund': 2161, 'bochum': 2162, '56': 2163, 'umgeleitet': 2164, 'vorheriger': 2165, 'toll': 2166, 'einzigen': 2167, 'relevanten': 2168, 'zuwaechsen': 2169, '43': 2170, 'links': 2171, 'vielleic': 2172, 'hypnose': 2173, 'domina': 2174, 'blondinen': 2175, 'weiber': 2176, 'hermannuli': 2177, 'helgebruhn': 2178, 'blocken': 2179, 'imageberatungen': 2180, 'totale': 2181, 'polit': 2182, 'soaps': 2183, 'circa': 2184, '620': 2185, 'arabien': 2186, 'mohamme': 2187, 'teutonis52': 2188, 'verbrecher': 2189, 'abschaum': 2190, 'bowserofs': 2191, 'captaina': 2192, 'sephyr': 2193, 'yoshi': 2194, 'fett': 2195, 'zwannabe': 2196, 'draisaitl': 2197, 'gigant': 2198, 'jungwaehler': 2199, 'gebt': 2200, 'fuehrerscheine': 2201, 'bzw': 2202, 'keinen': 2203, 'autos': 2204, 'durchaus': 2205, 'dawa': 2206, 'aufrufe': 2207, 'hoeheren': 2208, 'gebu': 2209, 'enraten': 2210, 'peachcentral': 2211, 'jaehyunctzen': 2212, 'dealo': 2213, 'ru': 2214, 'intro': 2215, 'europaeer': 2216, 'amthor': 2217, 'aggro': 2218, 'hoo': 2219, 'nichtdasgrinsel': 2220, 'runtervomradweg': 2221, 'genauso': 2222, 'wenig': 2223, 'autofahrern': 2224, 'verhalten': 2225, 'achimspiegel': 2226, 'nichts': 2227, 'zerfall': 2228, 'armut': 2229, 'unterdrueckung': 2230, 'niewiedersozialismus': 2231, 'finanzidee': 2232, 'realistisch': 2233, 'spurengas': 2234, 'helllud123': 2235, 'messerverbot': 2236, 'oeffentlichen': 2237, 'o': 2238, 'massenhaft': 2239, 'messerstechereien': 2240, 'mckstf': 2241, 'ipcc': 2242, 'berichte': 2243, 'fibel': 2244, 'nachfolgendes': 2245, 'lesen': 2246, 'trottel': 2247, 'hauptpost': 2248, 'mitten': 2249, 'innenstadt': 2250, 'beim': 2251, 'telephonieren': 2252, 'paare': 2253, 'baseballschlger': 2254, 'hd': 2255, 'faznet': 2256, 'gefaellt': 2257, 'luvtigbiddies': 2258, 'liebs': 2259, 'mature': 2260, 'trkische': 2261, 'jue': 2262, 'iss': 2263, 'verkalkten': 2264, 'senil': 2265, 'krank': 2266, 'einheitlichen': 2267, 'nagen': 2268, 'hunge': 2269, 'uch': 2270, 'kalidreadful': 2271, 'dachte': 2272, 'zuerst': 2273, 'gluehendes': 2274, 'eisen': 2275, 'justin': 2276, 'bieber': 2277, 'such': 2278, 'kackjob': 2279, 'anfuehlt': 2280, 'ehrlich': 2281, 'ministerium': 2282, 'entscheidungen': 2283, 'tref': 2284, 'vielen': 2285, 'wuessten': 2286, 'bevorsteht': 2287, 'un': 2288, 'sprung': 2289, 'ung': 2290, 'schicksal': 2291, 'kuemmern': 2292, 'cmielinski': 2293, 'wvdnord': 2294, 'verbindung': 2295, 'bringen': 2296, 'offenbar': 2297, 'pragmatische': 2298, 'we': 2299, 'stoffhof': 2300, 'sperrmuell': 2301, 'entsorgt': 2302, 'zeitgedanke': 2303, 'eidigen': 2304, 'mag': 2305, 'doktor': 2306, 'glatt': 2307, 'jemand': 2308, 'doktorarbeit': 2309, 'angeschaut': 2310, 'kosmar': 2311, 'stage': 2312, 'gebaerdendolmetscher': 2313, 'mitschrift': 2314, 'pasemann': 2315, 'san': 2316, 'afdimbundestag': 2317, 'lillauch': 2318, 'knatterknabe': 2319, 'jailbreak': 2320, 'schafe': 2321, 'gras': 2322, 'viel': 2323, 'beaengstigend': 2324, 'solche': 2325, 'vollpfosten': 2326, 'ga': 2327, 'insekt': 2328, 'wegscheuchen': 2329, 'zack': 2330, 'schickt': 2331, 'groesseren': 2332, 'kollegen': 2333, 'kim53688025': 2334, 'fingern': 2335, 'bevor': 2336, 'loecher': 2337, 'lasse': 2338, 'ewingo13': 2339, 'vemoegen': 2340, 'beharrungsvermoegen': 2341, 'saschalobo': 2342, 'tut': 2343, 'klar': 2344, 'gabs': 2345, 'duemmer': 2346, 'wicket': 2347, 'ireland': 2348, '159': 2349, 'target': 2350, '382': 2351, 'balbirnie': 2352, 'ambris': 2353, '35': 2354, 'kobo013': 2355, 'grundeis': 2356, 'oben': 2357, 'sauerstoff': 2358, 'fehlt': 2359, 'dcberlin18': 2360, 'gelungene': 2361, 'horrorvision': 2362, 'sozialistischeren': 2363, 'deutschlands': 2364, 'eingeleitete': 2365, 'selbstz': 2366, 'wzwuppe': 2367, 'wuppe': 2368, 'seilbahn': 2369, 'staerksten': 2370, 'canellabini': 2371, 'brueste': 2372, 'da': 2373, 'abzulenken': 2374, 'ntvde': 2375, 'hoeren': 2376, 'tommayereuropa': 2377, 'mittlerweile': 2378, 'erstarkten': 2379, 'blockade': 2380, 'umaufen': 2381, 'dd0105': 2382, 'dd': 2383, 'nazifrei': 2384, 'dirkerik': 2385, 'dirk': 2386, 'erik': 2387, 'meinte': 2388, 'sz': 2389, 'muenchen': 2390, 'stadt': 2391, 'ns': 2392, 'dokuzentrum': 2393, 'ausstellung': 2394, 'gesellschaft': 2395, 'polarisie': 2396, 'jud': 2397, 'meinereiner76': 2398, 'tomaten': 2399, 'abwaschen': 2400, 'trocken': 2401, 'rubbeln': 2402, 'infotweet': 2403, 'firebro': 2404, 'kult': 2405, 'klassiker': 2406, 'drruschka': 2407, 'vbohrnmena': 2408, 'chuck': 2409, 'norris': 2410, 'kam': 2411, 'fand': 2412, 'faust': 2413, 'anti': 2414, 'baby': 2415, 'pille': 2416, 'unterscheidet': 2417, 'zorn': 2418, 'hass': 2419, 'hervorgeru': 2420, 'j': 2421, 'oo7': 2422, 'weit': 2423, 'denkmal': 2424, 'aufstellen': 2425, 'denkliebernicht': 2426, 'maximalist': 2427, 'spinnt': 2428, 'verrueckter': 2429, 'spitze': 2430, 'des': 2431, 'staates': 2432, 'steht': 2433, 'ausversehen': 2434, 'fickst': 2435, 'anstatt': 2436, 'netto': 2437, 'gehst': 2438, 'milch': 2439, 'kaufen': 2440, 'batalhadaldeia': 2441, 'lebensformation': 2442, 'kuendigt': 2443, 'kriminellen': 2444, 'clans': 2445, 'kampf': 2446, 'captblwillard': 2447, 'quergedachtblog': 2448, 'dasschafi': 2449, 'migraene': 2450, 'muslim': 2451, 'brueder': 2452, 'terroristen': 2453, 'streng': 2454, 'anscheinend': 2455, 'tomk19941417': 2456, 'paulvernica': 2457, 'heikomaas': 2458, 'kennt': 2459, 'wirkung': 2460, 'yungchristus': 2461, 'rules': 2462, 'ernennt': 2463, 'hauptgegner': 2464, 'huren': 2465, 'krankenschwester': 2466, 'kleines': 2467, 'missgebu': 2468, 'lifestyle': 2469, 'ethik': 2470, 'lic': 2471, 'ang': 2472, 'bezahlst': 2473, '18': 2474, 'jaehrige': 2475, 'unterhaelt': 2476, 'erbaermlich': 2477, 'reinduerfen': 2478, 'baehhh': 2479, 'inarenner': 2480, 'niveau': 2481, '21withcon': 2482, 'newhopereece': 2483, 'thevampscon': 2484, 'corbynbesson': 2485, 'pretty': 2486, 'mlkr': 2487, 'tigerelch': 2488, 'altermananne': 2489, 'gespult': 2490, 'ansatzweise': 2491, 'filmfestivalsb': 2492, 'bln': 2493, 'filmfestivalszene': 2494, 'zetix': 2495, 'maki': 2496, 'jolosohn': 2497, 'erforde': 2498, 'groben': 2499, 'mangel': 2500, 'skill': 2501, 'nachhause': 2502, 'weg': 2503, 'solch': 2504, 'andreasandy3131': 2505, 'sachsen': 2506, 'begruesst': 2507, 'angestossene': 2508, 'debatte': 2509, 'eigene': 2510, 'nase': 2511, 'fassen': 2512, 'sa': 2513, 'rablpeter': 2514, 'genau': 2515, 'deswegen': 2516, 'oevp': 2517, 'erfolgreich': 2518, 'kapieren': 2519, 'verkauft': 2520, 'maxxxporco': 2521, 'riesen': 2522, 'toy': 2523, 's12': 2524, '32': 2525, '30': 2526, 'betrieblicher': 2527, 'steinbacherika': 2528, 'gewisse': 2529, 'fehler': 2530, 'bringt': 2531, 'haette': 2532, 'trends': 2533, 'tony': 2534, 'hawk': 2535, 'ratchet': 2536, 'clank': 2537, 'jb': 2538, 'tagedieb': 2539, 'guerillahistori': 2540, 'bmjv': 2541, 'bund': 2542, 'erzaehlt': 2543, 'karl': 2544, 'yoongisbottle': 2545, 'zurueckgebliebenen': 2546, 'mensch': 2547, 'intelligent': 2548, 'don': 2549, 't': 2550, 'hard': 2551, 'on': 2552, 'yourself': 2553, 'ralf': 2554, 'stegner': 2555, 'obacht': 2556, 'ralle': 2557, 'schlappe': 2558, 'sushisascha1': 2559, 'besonders': 2560, 'verwe': 2561, 'bare': 2562, 'objekte': 2563, 'sparen': 2564, 'lego': 2565, 'legodimensions': 2566, '71170': 2567, 'playstation': 2568, '49': 2569, 'brickmerge': 2570, 'preisvergleich': 2571, 'can65schalke': 2572, 'goet': 2573, 'tuerkisch': 2574, 'heisst': 2575, 'maxotte': 2576, 'says': 2577, 'elite': 2578, 'universitaet': 2579, 'holen': 2580, 'studieren': 2581, 'ruinie': 2582, 'chhuegel': 2583, 'manfredweber': 2584, 'uebergeschnappten': 2585, 'ueberlassen': 2586, 'eine': 2587, 'anmassung': 2588, 'westwald1974': 2589, 'milvus84': 2590, 'waldenmonk': 2591, 'britainopello5': 2592, 'chrdorner': 2593, 'hoecke': 2594, 'uboot': 2595, 'vizzionsxi': 2596, 'le': 2597, 'grand': 2598, 'hizokay': 2599, 'chikitauz': 2600, 'babosa': 2601, 'espo': 2602, 'rep': 2603, 'maschine': 2604, 'filip': 2605, 'pog': 2606, 'digitale': 2607, 'stadionzeitung': 2608, 'puenktlich': 2609, 'meister': 2610, 'finale': 2611, 'packmas': 2612, 'fcbs': 2613, 'evoli': 2614, 'zelda': 2615, 'majoras': 2616, 'mask': 2617, 'derpepo': 2618, 's04': 2619, 'schalke': 2620, 'gg': 2621, 'leitbild': 2622, 'ziff': 2623, 'amtlich': 2624, 'olgatatala': 2625, 'uebermachst': 2626, 'tauss': 2627, 'erlebe': 2628, 'dielinke': 2629, 'absenkung': 2630, 'zahlungen': 2631, 'nato': 2632, 'forde': 2633, 'neues': 2634, 'lukasinho01': 2635, 'beschaef': 2636, 'noelmgb': 2637, 'sebbe2704': 2638, 'bass': 2639, 'atmosphaere': 2640, 'entspannt': 2641, 'dicke': 2642, 'steifen': 2643, 'ha': 2644, 'bettinaschimak': 2645, 'gschamig': 2646, 'mokoffiziell': 2647, 'wesentlich': 2648, 'timeline': 2649, 'doku': 2650, 'europakrise': 2651, 'machtpoker': 2652, 'theunwantedpath': 2653, 'offen': 2654, 'skyspo': 2655, 'spiel': 2656, 'lief': 2657, 'noch': 2658, 'verfickte': 2659, 'sonstwo': 2660, 'sgdfcsp': 2661, 'vegetarisch': 2662, 'aergern': 2663, 'garamsalami': 2664, 'graf': 2665, 'persephone': 2666, 'denk': 2667, 'sibel': 2668, 'schreibt': 2669, 'abgrund': 2670, 'einladend': 2671, 'chanmachtso': 2672, 'schmerzen': 2673, 'au': 2674, 'auuuuuu': 2675, 'zerstoerung': 2676, 'pparzival': 2677, 'antideutsche': 2678, 'pseudo': 2679, 'sache': 2680, 'innerhalb': 2681, 'bewegung': 2682, 'etablie': 2683, 'klug': 2684, 'wissen': 2685, 'hat': 2686, 'erfahren': 2687}\n"
          ]
        }
      ]
    },
    {
      "cell_type": "code",
      "source": [
        "\n",
        "\n",
        "encoded_clean_text_t_stem = tok_all.texts_to_sequences(clean_text_t_stem)\n",
        "print(clean_text_t_stem[0])\n",
        "print(encoded_clean_text_t_stem[0])\n",
        "\n"
      ],
      "metadata": {
        "colab": {
          "base_uri": "https://localhost:8080/"
        },
        "outputId": "4afb3122-be9b-4be3-b9f9-34d74ff64ebe",
        "id": "Z11t5JaBjfoe"
      },
      "execution_count": null,
      "outputs": [
        {
          "output_type": "stream",
          "name": "stdout",
          "text": [
            " dercarsti boykottieren hoe  besser an.   \n",
            "[3672, 425, 88, 146]\n"
          ]
        }
      ]
    },
    {
      "cell_type": "code",
      "source": [
        "\n",
        "\n",
        "from keras.preprocessing import sequence\n",
        "max_length = 100\n",
        "padded_clean_text_t_stem = sequence.pad_sequences(encoded_clean_text_t_stem, maxlen=max_length, padding='pre')\n",
        "\n"
      ],
      "metadata": {
        "id": "sW7FM2vMjfoe"
      },
      "execution_count": null,
      "outputs": []
    },
    {
      "cell_type": "markdown",
      "source": [
        "# FastText Embeddings\n"
      ],
      "metadata": {
        "id": "pHUPrJoDjfof"
      }
    },
    {
      "cell_type": "code",
      "source": [
        "from google.colab import drive\n",
        "drive.mount('/content/drive')"
      ],
      "metadata": {
        "colab": {
          "base_uri": "https://localhost:8080/"
        },
        "outputId": "c93f79be-87cf-4896-947a-835e9986318c",
        "id": "_Z3enSwfjfof"
      },
      "execution_count": null,
      "outputs": [
        {
          "output_type": "stream",
          "name": "stdout",
          "text": [
            "Mounted at /content/drive\n"
          ]
        }
      ]
    },
    {
      "cell_type": "code",
      "source": [
        "!gunzip /content/drive/MyDrive/cc.de.300.vec.gz"
      ],
      "metadata": {
        "colab": {
          "base_uri": "https://localhost:8080/"
        },
        "outputId": "a45d0001-656f-4256-dcdb-0d80f1eeffd2",
        "id": "BNNGMtUrjfof"
      },
      "execution_count": null,
      "outputs": [
        {
          "output_type": "stream",
          "name": "stdout",
          "text": [
            "gzip: /content/drive/MyDrive/cc.de.300.vec.gz: No such file or directory\n"
          ]
        }
      ]
    },
    {
      "cell_type": "code",
      "source": [
        "# https://stackoverflow.com/questions/69964788/how-to-unzip-gz-file-using-google-colab\n",
        "\n",
        "# FastText Embedding link - https://fasttext.cc/docs/en/crawl-vectors.html\n",
        "\n",
        "import os\n",
        "embeddings_index = {}\n",
        "f = open('/content/drive/MyDrive/cc.de.300.vec',encoding='utf-8',errors='ignore')\n",
        "for line in f:\n",
        "    values = line.split()\n",
        "    word = values[0]\n",
        "    coefs = np.asarray(values[1:], dtype='float32')\n",
        "    embeddings_index[word] = coefs\n",
        "f.close()\n",
        "print('Loaded %s word vectors.' % len(embeddings_index))\n",
        "\n"
      ],
      "metadata": {
        "id": "nxQCn2Qkjfof",
        "colab": {
          "base_uri": "https://localhost:8080/"
        },
        "outputId": "8f1f1ba8-49a9-4b1e-c7bd-7cae77511e2b"
      },
      "execution_count": null,
      "outputs": [
        {
          "output_type": "stream",
          "name": "stdout",
          "text": [
            "Loaded 2000000 word vectors.\n"
          ]
        }
      ]
    },
    {
      "cell_type": "code",
      "source": [
        "\n",
        "\n",
        "embedding_matrix = np.zeros((vocabulary_all+1, 300))\n",
        "for word, i in tok_all.word_index.items():\n",
        "    embedding_vector = embeddings_index.get(word)\n",
        "    if embedding_vector is not None:\n",
        "         embedding_matrix[i] = embedding_vector\n",
        "\n"
      ],
      "metadata": {
        "id": "K83pZxgEjfog"
      },
      "execution_count": null,
      "outputs": []
    },
    {
      "cell_type": "markdown",
      "source": [
        "# CNN 1 Model\n"
      ],
      "metadata": {
        "id": "MbwW5YmAjfog"
      }
    },
    {
      "cell_type": "code",
      "source": [
        "\n",
        "\n",
        "from keras.preprocessing import sequence\n",
        "from keras.preprocessing import text\n",
        "import numpy as np\n",
        "from keras.models import Sequential\n",
        "from keras.layers import Dense, Dropout, Activation\n",
        "from keras.layers import Embedding, LSTM\n",
        "from keras.layers import Conv1D, Flatten\n",
        "from keras.preprocessing import text\n",
        "from keras.models import Sequential,Model\n",
        "from keras.layers import Dense ,Activation,MaxPool1D,Conv1D,Flatten,Dropout,Activation,Dropout,Input,Lambda,concatenate\n",
        "from keras.utils import np_utils\n",
        "from nltk.corpus import stopwords\n",
        "from nltk.tokenize import RegexpTokenizer\n",
        "from nltk.stem.porter import PorterStemmer\n",
        "import nltk\n",
        "import csv\n",
        "import pandas as pd\n",
        "\n",
        "from keras.preprocessing import text as keras_text, sequence as keras_seq\n",
        "\n"
      ],
      "metadata": {
        "id": "pspsEJ81jfog"
      },
      "execution_count": null,
      "outputs": []
    },
    {
      "cell_type": "code",
      "source": [
        "Embedding_Layer = Embedding(vocabulary_all+1, 300, weights=[embedding_matrix], input_length=max_length)"
      ],
      "metadata": {
        "id": "OF4ayQYJjfog"
      },
      "execution_count": null,
      "outputs": []
    },
    {
      "cell_type": "code",
      "source": [
        "CNN1_network=Sequential([Embedding_Layer,\n",
        "                        Conv1D(128,3,activation=\"relu\",padding='same'),\n",
        "                       Dropout(0.2),\n",
        "                       MaxPool1D(2),\n",
        "                       Flatten(),\n",
        "                       Dense(64,activation=\"relu\"),\n",
        "                       Dropout(0.3),\n",
        "                       Dense(2,activation=\"sigmoid\")\n",
        "                       ])\n",
        "\n"
      ],
      "metadata": {
        "id": "74-DDR4kjfoh"
      },
      "execution_count": null,
      "outputs": []
    },
    {
      "cell_type": "code",
      "source": [
        "CNN1_network.summary()"
      ],
      "metadata": {
        "id": "zZ_JmdYvjfoh",
        "colab": {
          "base_uri": "https://localhost:8080/"
        },
        "outputId": "33c7b915-2fb5-4a08-ae9f-e6ac0ff1989d"
      },
      "execution_count": null,
      "outputs": [
        {
          "output_type": "stream",
          "name": "stdout",
          "text": [
            "Model: \"sequential\"\n",
            "_________________________________________________________________\n",
            " Layer (type)                Output Shape              Param #   \n",
            "=================================================================\n",
            " embedding (Embedding)       (None, 100, 300)          5198400   \n",
            "                                                                 \n",
            " conv1d (Conv1D)             (None, 100, 128)          115328    \n",
            "                                                                 \n",
            " dropout (Dropout)           (None, 100, 128)          0         \n",
            "                                                                 \n",
            " max_pooling1d (MaxPooling1D  (None, 50, 128)          0         \n",
            " )                                                               \n",
            "                                                                 \n",
            " flatten (Flatten)           (None, 6400)              0         \n",
            "                                                                 \n",
            " dense (Dense)               (None, 64)                409664    \n",
            "                                                                 \n",
            " dropout_1 (Dropout)         (None, 64)                0         \n",
            "                                                                 \n",
            " dense_1 (Dense)             (None, 2)                 130       \n",
            "                                                                 \n",
            "=================================================================\n",
            "Total params: 5,723,522\n",
            "Trainable params: 5,723,522\n",
            "Non-trainable params: 0\n",
            "_________________________________________________________________\n"
          ]
        }
      ]
    },
    {
      "cell_type": "code",
      "source": [
        "# https://stackoverflow.com/questions/62707558/importerror-cannot-import-name-adam-from-keras-optimizers\n",
        "from tensorflow.keras.optimizers import Adam\n",
        "CNN1_network.compile(loss = \"binary_crossentropy\", optimizer=Adam(lr=0.00003), metrics=[\"accuracy\"])"
      ],
      "metadata": {
        "id": "6nvk98q5jfoh",
        "colab": {
          "base_uri": "https://localhost:8080/"
        },
        "outputId": "534beda3-7854-4002-c9db-b13c90703239"
      },
      "execution_count": null,
      "outputs": [
        {
          "output_type": "stream",
          "name": "stderr",
          "text": [
            "/usr/local/lib/python3.7/dist-packages/keras/optimizer_v2/adam.py:105: UserWarning: The `lr` argument is deprecated, use `learning_rate` instead.\n",
            "  super(Adam, self).__init__(name, **kwargs)\n"
          ]
        }
      ]
    },
    {
      "cell_type": "code",
      "source": [
        "from keras.utils.vis_utils import plot_model\n",
        "plot_model(CNN1_network, to_file='CNN2_model_Train_GERMEVAL2018_Test_GERMEVAL2019_TASK_A.png', show_shapes=True, show_layer_names=True)\n",
        "\n",
        "from keras.callbacks import EarlyStopping, ReduceLROnPlateau,ModelCheckpoint\n",
        "earlystopper = EarlyStopping(patience=8, verbose=1)\n",
        "\n",
        "reduce_lr = ReduceLROnPlateau(monitor='val_loss', factor=0.9,\n",
        "                              patience=2, min_lr=0.00001, verbose=1)\n",
        "\n"
      ],
      "metadata": {
        "id": "_Rx9SXMojfoh"
      },
      "execution_count": null,
      "outputs": []
    },
    {
      "cell_type": "code",
      "source": [
        "\n",
        "\n",
        "from keras.callbacks import EarlyStopping, ReduceLROnPlateau,ModelCheckpoint\n",
        "earlystopper = EarlyStopping(patience=8, verbose=1)\n",
        "\n",
        "reduce_lr = ReduceLROnPlateau(monitor='val_loss', factor=0.9,\n",
        "                              patience=2, min_lr=0.00001, verbose=1)\n",
        "\n"
      ],
      "metadata": {
        "id": "4ku8eDghjfoi"
      },
      "execution_count": null,
      "outputs": []
    },
    {
      "cell_type": "markdown",
      "source": [
        "# Model Fitting or Training\n"
      ],
      "metadata": {
        "id": "dcTl27sbjfoi"
      }
    },
    {
      "cell_type": "code",
      "source": [
        "hist = CNN1_network.fit(padded_clean_text_stem,label_twoDimension,epochs=200,batch_size=32,callbacks=[earlystopper, reduce_lr])"
      ],
      "metadata": {
        "id": "0kwZlKxOjfoi",
        "colab": {
          "base_uri": "https://localhost:8080/"
        },
        "outputId": "92862be5-a7f4-4990-d8d6-14208cfd0ea4"
      },
      "execution_count": null,
      "outputs": [
        {
          "output_type": "stream",
          "name": "stdout",
          "text": [
            "Epoch 1/200\n",
            "156/157 [============================>.] - ETA: 0s - loss: 0.6621 - accuracy: 0.6408"
          ]
        },
        {
          "output_type": "stream",
          "name": "stderr",
          "text": [
            "WARNING:tensorflow:Early stopping conditioned on metric `val_loss` which is not available. Available metrics are: loss,accuracy\n",
            "WARNING:tensorflow:Learning rate reduction is conditioned on metric `val_loss` which is not available. Available metrics are: loss,accuracy,lr\n"
          ]
        },
        {
          "output_type": "stream",
          "name": "stdout",
          "text": [
            "\b\b\b\b\b\b\b\b\b\b\b\b\b\b\b\b\b\b\b\b\b\b\b\b\b\b\b\b\b\b\b\b\b\b\b\b\b\b\b\b\b\b\b\b\b\b\b\b\b\b\b\b\b\b\b\b\b\b\b\b\b\b\b\b\b\b\b\b\b\b\b\b\b\b\b\b\b\b\b\b\b\b\b\b\r157/157 [==============================] - 14s 8ms/step - loss: 0.6622 - accuracy: 0.6406 - lr: 3.0000e-05\n",
            "Epoch 2/200\n",
            "155/157 [============================>.] - ETA: 0s - loss: 0.6402 - accuracy: 0.6631"
          ]
        },
        {
          "output_type": "stream",
          "name": "stderr",
          "text": [
            "WARNING:tensorflow:Early stopping conditioned on metric `val_loss` which is not available. Available metrics are: loss,accuracy\n",
            "WARNING:tensorflow:Learning rate reduction is conditioned on metric `val_loss` which is not available. Available metrics are: loss,accuracy,lr\n"
          ]
        },
        {
          "output_type": "stream",
          "name": "stdout",
          "text": [
            "\b\b\b\b\b\b\b\b\b\b\b\b\b\b\b\b\b\b\b\b\b\b\b\b\b\b\b\b\b\b\b\b\b\b\b\b\b\b\b\b\b\b\b\b\b\b\b\b\b\b\b\b\b\b\b\b\b\b\b\b\b\b\b\b\b\b\b\b\b\b\b\b\b\b\b\b\b\b\b\b\b\b\b\b\r157/157 [==============================] - 1s 7ms/step - loss: 0.6401 - accuracy: 0.6630 - lr: 3.0000e-05\n",
            "Epoch 3/200\n",
            "157/157 [==============================] - ETA: 0s - loss: 0.6369 - accuracy: 0.6630"
          ]
        },
        {
          "output_type": "stream",
          "name": "stderr",
          "text": [
            "WARNING:tensorflow:Early stopping conditioned on metric `val_loss` which is not available. Available metrics are: loss,accuracy\n",
            "WARNING:tensorflow:Learning rate reduction is conditioned on metric `val_loss` which is not available. Available metrics are: loss,accuracy,lr\n"
          ]
        },
        {
          "output_type": "stream",
          "name": "stdout",
          "text": [
            "\b\b\b\b\b\b\b\b\b\b\b\b\b\b\b\b\b\b\b\b\b\b\b\b\b\b\b\b\b\b\b\b\b\b\b\b\b\b\b\b\b\b\b\b\b\b\b\b\b\b\b\b\b\b\b\b\b\b\b\b\b\b\b\b\b\b\b\b\b\b\b\b\b\b\b\b\b\b\b\b\b\b\b\b\r157/157 [==============================] - 1s 7ms/step - loss: 0.6369 - accuracy: 0.6630 - lr: 3.0000e-05\n",
            "Epoch 4/200\n",
            "156/157 [============================>.] - ETA: 0s - loss: 0.6318 - accuracy: 0.6627"
          ]
        },
        {
          "output_type": "stream",
          "name": "stderr",
          "text": [
            "WARNING:tensorflow:Early stopping conditioned on metric `val_loss` which is not available. Available metrics are: loss,accuracy\n",
            "WARNING:tensorflow:Learning rate reduction is conditioned on metric `val_loss` which is not available. Available metrics are: loss,accuracy,lr\n"
          ]
        },
        {
          "output_type": "stream",
          "name": "stdout",
          "text": [
            "\b\b\b\b\b\b\b\b\b\b\b\b\b\b\b\b\b\b\b\b\b\b\b\b\b\b\b\b\b\b\b\b\b\b\b\b\b\b\b\b\b\b\b\b\b\b\b\b\b\b\b\b\b\b\b\b\b\b\b\b\b\b\b\b\b\b\b\b\b\b\b\b\b\b\b\b\b\b\b\b\b\b\b\b\r157/157 [==============================] - 1s 7ms/step - loss: 0.6316 - accuracy: 0.6630 - lr: 3.0000e-05\n",
            "Epoch 5/200\n",
            "155/157 [============================>.] - ETA: 0s - loss: 0.6271 - accuracy: 0.6613"
          ]
        },
        {
          "output_type": "stream",
          "name": "stderr",
          "text": [
            "WARNING:tensorflow:Early stopping conditioned on metric `val_loss` which is not available. Available metrics are: loss,accuracy\n",
            "WARNING:tensorflow:Learning rate reduction is conditioned on metric `val_loss` which is not available. Available metrics are: loss,accuracy,lr\n"
          ]
        },
        {
          "output_type": "stream",
          "name": "stdout",
          "text": [
            "\b\b\b\b\b\b\b\b\b\b\b\b\b\b\b\b\b\b\b\b\b\b\b\b\b\b\b\b\b\b\b\b\b\b\b\b\b\b\b\b\b\b\b\b\b\b\b\b\b\b\b\b\b\b\b\b\b\b\b\b\b\b\b\b\b\b\b\b\b\b\b\b\b\b\b\b\b\b\b\b\b\b\b\b\r157/157 [==============================] - 1s 7ms/step - loss: 0.6263 - accuracy: 0.6630 - lr: 3.0000e-05\n",
            "Epoch 6/200\n",
            "156/157 [============================>.] - ETA: 0s - loss: 0.6177 - accuracy: 0.6625"
          ]
        },
        {
          "output_type": "stream",
          "name": "stderr",
          "text": [
            "WARNING:tensorflow:Early stopping conditioned on metric `val_loss` which is not available. Available metrics are: loss,accuracy\n",
            "WARNING:tensorflow:Learning rate reduction is conditioned on metric `val_loss` which is not available. Available metrics are: loss,accuracy,lr\n"
          ]
        },
        {
          "output_type": "stream",
          "name": "stdout",
          "text": [
            "\b\b\b\b\b\b\b\b\b\b\b\b\b\b\b\b\b\b\b\b\b\b\b\b\b\b\b\b\b\b\b\b\b\b\b\b\b\b\b\b\b\b\b\b\b\b\b\b\b\b\b\b\b\b\b\b\b\b\b\b\b\b\b\b\b\b\b\b\b\b\b\b\b\b\b\b\b\b\b\b\b\b\b\b\r157/157 [==============================] - 1s 7ms/step - loss: 0.6173 - accuracy: 0.6630 - lr: 3.0000e-05\n",
            "Epoch 7/200\n",
            "154/157 [============================>.] - ETA: 0s - loss: 0.6040 - accuracy: 0.6629"
          ]
        },
        {
          "output_type": "stream",
          "name": "stderr",
          "text": [
            "WARNING:tensorflow:Early stopping conditioned on metric `val_loss` which is not available. Available metrics are: loss,accuracy\n",
            "WARNING:tensorflow:Learning rate reduction is conditioned on metric `val_loss` which is not available. Available metrics are: loss,accuracy,lr\n"
          ]
        },
        {
          "output_type": "stream",
          "name": "stdout",
          "text": [
            "\b\b\b\b\b\b\b\b\b\b\b\b\b\b\b\b\b\b\b\b\b\b\b\b\b\b\b\b\b\b\b\b\b\b\b\b\b\b\b\b\b\b\b\b\b\b\b\b\b\b\b\b\b\b\b\b\b\b\b\b\b\b\b\b\b\b\b\b\b\b\b\b\b\b\b\b\b\b\b\b\b\b\b\b\r157/157 [==============================] - 1s 7ms/step - loss: 0.6037 - accuracy: 0.6634 - lr: 3.0000e-05\n",
            "Epoch 8/200\n",
            "157/157 [==============================] - ETA: 0s - loss: 0.5844 - accuracy: 0.6742"
          ]
        },
        {
          "output_type": "stream",
          "name": "stderr",
          "text": [
            "WARNING:tensorflow:Early stopping conditioned on metric `val_loss` which is not available. Available metrics are: loss,accuracy\n",
            "WARNING:tensorflow:Learning rate reduction is conditioned on metric `val_loss` which is not available. Available metrics are: loss,accuracy,lr\n"
          ]
        },
        {
          "output_type": "stream",
          "name": "stdout",
          "text": [
            "\b\b\b\b\b\b\b\b\b\b\b\b\b\b\b\b\b\b\b\b\b\b\b\b\b\b\b\b\b\b\b\b\b\b\b\b\b\b\b\b\b\b\b\b\b\b\b\b\b\b\b\b\b\b\b\b\b\b\b\b\b\b\b\b\b\b\b\b\b\b\b\b\b\b\b\b\b\b\b\b\b\b\b\b\r157/157 [==============================] - 1s 7ms/step - loss: 0.5844 - accuracy: 0.6742 - lr: 3.0000e-05\n",
            "Epoch 9/200\n",
            "157/157 [==============================] - ETA: 0s - loss: 0.5552 - accuracy: 0.6973"
          ]
        },
        {
          "output_type": "stream",
          "name": "stderr",
          "text": [
            "WARNING:tensorflow:Early stopping conditioned on metric `val_loss` which is not available. Available metrics are: loss,accuracy\n",
            "WARNING:tensorflow:Learning rate reduction is conditioned on metric `val_loss` which is not available. Available metrics are: loss,accuracy,lr\n"
          ]
        },
        {
          "output_type": "stream",
          "name": "stdout",
          "text": [
            "\b\b\b\b\b\b\b\b\b\b\b\b\b\b\b\b\b\b\b\b\b\b\b\b\b\b\b\b\b\b\b\b\b\b\b\b\b\b\b\b\b\b\b\b\b\b\b\b\b\b\b\b\b\b\b\b\b\b\b\b\b\b\b\b\b\b\b\b\b\b\b\b\b\b\b\b\b\b\b\b\b\b\b\b\r157/157 [==============================] - 1s 7ms/step - loss: 0.5552 - accuracy: 0.6973 - lr: 3.0000e-05\n",
            "Epoch 10/200\n",
            "154/157 [============================>.] - ETA: 0s - loss: 0.5095 - accuracy: 0.7543"
          ]
        },
        {
          "output_type": "stream",
          "name": "stderr",
          "text": [
            "WARNING:tensorflow:Early stopping conditioned on metric `val_loss` which is not available. Available metrics are: loss,accuracy\n",
            "WARNING:tensorflow:Learning rate reduction is conditioned on metric `val_loss` which is not available. Available metrics are: loss,accuracy,lr\n"
          ]
        },
        {
          "output_type": "stream",
          "name": "stdout",
          "text": [
            "\b\b\b\b\b\b\b\b\b\b\b\b\b\b\b\b\b\b\b\b\b\b\b\b\b\b\b\b\b\b\b\b\b\b\b\b\b\b\b\b\b\b\b\b\b\b\b\b\b\b\b\b\b\b\b\b\b\b\b\b\b\b\b\b\b\b\b\b\b\b\b\b\b\b\b\b\b\b\b\b\b\b\b\b\r157/157 [==============================] - 1s 7ms/step - loss: 0.5095 - accuracy: 0.7542 - lr: 3.0000e-05\n",
            "Epoch 11/200\n",
            "155/157 [============================>.] - ETA: 0s - loss: 0.4519 - accuracy: 0.8079"
          ]
        },
        {
          "output_type": "stream",
          "name": "stderr",
          "text": [
            "WARNING:tensorflow:Early stopping conditioned on metric `val_loss` which is not available. Available metrics are: loss,accuracy\n",
            "WARNING:tensorflow:Learning rate reduction is conditioned on metric `val_loss` which is not available. Available metrics are: loss,accuracy,lr\n"
          ]
        },
        {
          "output_type": "stream",
          "name": "stdout",
          "text": [
            "\b\b\b\b\b\b\b\b\b\b\b\b\b\b\b\b\b\b\b\b\b\b\b\b\b\b\b\b\b\b\b\b\b\b\b\b\b\b\b\b\b\b\b\b\b\b\b\b\b\b\b\b\b\b\b\b\b\b\b\b\b\b\b\b\b\b\b\b\b\b\b\b\b\b\b\b\b\b\b\b\b\b\b\b\r157/157 [==============================] - 1s 7ms/step - loss: 0.4526 - accuracy: 0.8073 - lr: 3.0000e-05\n",
            "Epoch 12/200\n",
            "155/157 [============================>.] - ETA: 0s - loss: 0.3908 - accuracy: 0.8504"
          ]
        },
        {
          "output_type": "stream",
          "name": "stderr",
          "text": [
            "WARNING:tensorflow:Early stopping conditioned on metric `val_loss` which is not available. Available metrics are: loss,accuracy\n",
            "WARNING:tensorflow:Learning rate reduction is conditioned on metric `val_loss` which is not available. Available metrics are: loss,accuracy,lr\n"
          ]
        },
        {
          "output_type": "stream",
          "name": "stdout",
          "text": [
            "\b\b\b\b\b\b\b\b\b\b\b\b\b\b\b\b\b\b\b\b\b\b\b\b\b\b\b\b\b\b\b\b\b\b\b\b\b\b\b\b\b\b\b\b\b\b\b\b\b\b\b\b\b\b\b\b\b\b\b\b\b\b\b\b\b\b\b\b\b\b\b\b\b\b\b\b\b\b\b\b\b\b\b\b\r157/157 [==============================] - 1s 7ms/step - loss: 0.3905 - accuracy: 0.8509 - lr: 3.0000e-05\n",
            "Epoch 13/200\n",
            "154/157 [============================>.] - ETA: 0s - loss: 0.3249 - accuracy: 0.8918"
          ]
        },
        {
          "output_type": "stream",
          "name": "stderr",
          "text": [
            "WARNING:tensorflow:Early stopping conditioned on metric `val_loss` which is not available. Available metrics are: loss,accuracy\n",
            "WARNING:tensorflow:Learning rate reduction is conditioned on metric `val_loss` which is not available. Available metrics are: loss,accuracy,lr\n"
          ]
        },
        {
          "output_type": "stream",
          "name": "stdout",
          "text": [
            "\b\b\b\b\b\b\b\b\b\b\b\b\b\b\b\b\b\b\b\b\b\b\b\b\b\b\b\b\b\b\b\b\b\b\b\b\b\b\b\b\b\b\b\b\b\b\b\b\b\b\b\b\b\b\b\b\b\b\b\b\b\b\b\b\b\b\b\b\b\b\b\b\b\b\b\b\b\b\b\b\b\b\b\b\r157/157 [==============================] - 1s 7ms/step - loss: 0.3260 - accuracy: 0.8912 - lr: 3.0000e-05\n",
            "Epoch 14/200\n",
            "157/157 [==============================] - ETA: 0s - loss: 0.2709 - accuracy: 0.9171"
          ]
        },
        {
          "output_type": "stream",
          "name": "stderr",
          "text": [
            "WARNING:tensorflow:Early stopping conditioned on metric `val_loss` which is not available. Available metrics are: loss,accuracy\n",
            "WARNING:tensorflow:Learning rate reduction is conditioned on metric `val_loss` which is not available. Available metrics are: loss,accuracy,lr\n"
          ]
        },
        {
          "output_type": "stream",
          "name": "stdout",
          "text": [
            "\b\b\b\b\b\b\b\b\b\b\b\b\b\b\b\b\b\b\b\b\b\b\b\b\b\b\b\b\b\b\b\b\b\b\b\b\b\b\b\b\b\b\b\b\b\b\b\b\b\b\b\b\b\b\b\b\b\b\b\b\b\b\b\b\b\b\b\b\b\b\b\b\b\b\b\b\b\b\b\b\b\b\b\b\r157/157 [==============================] - 1s 8ms/step - loss: 0.2709 - accuracy: 0.9171 - lr: 3.0000e-05\n",
            "Epoch 15/200\n",
            "156/157 [============================>.] - ETA: 0s - loss: 0.2250 - accuracy: 0.9347"
          ]
        },
        {
          "output_type": "stream",
          "name": "stderr",
          "text": [
            "WARNING:tensorflow:Early stopping conditioned on metric `val_loss` which is not available. Available metrics are: loss,accuracy\n",
            "WARNING:tensorflow:Learning rate reduction is conditioned on metric `val_loss` which is not available. Available metrics are: loss,accuracy,lr\n"
          ]
        },
        {
          "output_type": "stream",
          "name": "stdout",
          "text": [
            "\b\b\b\b\b\b\b\b\b\b\b\b\b\b\b\b\b\b\b\b\b\b\b\b\b\b\b\b\b\b\b\b\b\b\b\b\b\b\b\b\b\b\b\b\b\b\b\b\b\b\b\b\b\b\b\b\b\b\b\b\b\b\b\b\b\b\b\b\b\b\b\b\b\b\b\b\b\b\b\b\b\b\b\b\r157/157 [==============================] - 1s 7ms/step - loss: 0.2245 - accuracy: 0.9349 - lr: 3.0000e-05\n",
            "Epoch 16/200\n",
            "156/157 [============================>.] - ETA: 0s - loss: 0.1860 - accuracy: 0.9495"
          ]
        },
        {
          "output_type": "stream",
          "name": "stderr",
          "text": [
            "WARNING:tensorflow:Early stopping conditioned on metric `val_loss` which is not available. Available metrics are: loss,accuracy\n",
            "WARNING:tensorflow:Learning rate reduction is conditioned on metric `val_loss` which is not available. Available metrics are: loss,accuracy,lr\n"
          ]
        },
        {
          "output_type": "stream",
          "name": "stdout",
          "text": [
            "\b\b\b\b\b\b\b\b\b\b\b\b\b\b\b\b\b\b\b\b\b\b\b\b\b\b\b\b\b\b\b\b\b\b\b\b\b\b\b\b\b\b\b\b\b\b\b\b\b\b\b\b\b\b\b\b\b\b\b\b\b\b\b\b\b\b\b\b\b\b\b\b\b\b\b\b\b\b\b\b\b\b\b\b\r157/157 [==============================] - 1s 7ms/step - loss: 0.1859 - accuracy: 0.9497 - lr: 3.0000e-05\n",
            "Epoch 17/200\n",
            "154/157 [============================>.] - ETA: 0s - loss: 0.1547 - accuracy: 0.9604"
          ]
        },
        {
          "output_type": "stream",
          "name": "stderr",
          "text": [
            "WARNING:tensorflow:Early stopping conditioned on metric `val_loss` which is not available. Available metrics are: loss,accuracy\n",
            "WARNING:tensorflow:Learning rate reduction is conditioned on metric `val_loss` which is not available. Available metrics are: loss,accuracy,lr\n"
          ]
        },
        {
          "output_type": "stream",
          "name": "stdout",
          "text": [
            "\b\b\b\b\b\b\b\b\b\b\b\b\b\b\b\b\b\b\b\b\b\b\b\b\b\b\b\b\b\b\b\b\b\b\b\b\b\b\b\b\b\b\b\b\b\b\b\b\b\b\b\b\b\b\b\b\b\b\b\b\b\b\b\b\b\b\b\b\b\b\b\b\b\b\b\b\b\b\b\b\b\b\b\b\r157/157 [==============================] - 1s 7ms/step - loss: 0.1548 - accuracy: 0.9603 - lr: 3.0000e-05\n",
            "Epoch 18/200\n",
            "150/157 [===========================>..] - ETA: 0s - loss: 0.1260 - accuracy: 0.9706"
          ]
        },
        {
          "output_type": "stream",
          "name": "stderr",
          "text": [
            "WARNING:tensorflow:Early stopping conditioned on metric `val_loss` which is not available. Available metrics are: loss,accuracy\n",
            "WARNING:tensorflow:Learning rate reduction is conditioned on metric `val_loss` which is not available. Available metrics are: loss,accuracy,lr\n"
          ]
        },
        {
          "output_type": "stream",
          "name": "stdout",
          "text": [
            "\b\b\b\b\b\b\b\b\b\b\b\b\b\b\b\b\b\b\b\b\b\b\b\b\b\b\b\b\b\b\b\b\b\b\b\b\b\b\b\b\b\b\b\b\b\b\b\b\b\b\b\b\b\b\b\b\b\b\b\b\b\b\b\b\b\b\b\b\b\b\b\b\b\b\b\b\b\b\b\b\b\b\b\b\r157/157 [==============================] - 1s 7ms/step - loss: 0.1273 - accuracy: 0.9695 - lr: 3.0000e-05\n",
            "Epoch 19/200\n",
            "155/157 [============================>.] - ETA: 0s - loss: 0.1056 - accuracy: 0.9774"
          ]
        },
        {
          "output_type": "stream",
          "name": "stderr",
          "text": [
            "WARNING:tensorflow:Early stopping conditioned on metric `val_loss` which is not available. Available metrics are: loss,accuracy\n",
            "WARNING:tensorflow:Learning rate reduction is conditioned on metric `val_loss` which is not available. Available metrics are: loss,accuracy,lr\n"
          ]
        },
        {
          "output_type": "stream",
          "name": "stdout",
          "text": [
            "\b\b\b\b\b\b\b\b\b\b\b\b\b\b\b\b\b\b\b\b\b\b\b\b\b\b\b\b\b\b\b\b\b\b\b\b\b\b\b\b\b\b\b\b\b\b\b\b\b\b\b\b\b\b\b\b\b\b\b\b\b\b\b\b\b\b\b\b\b\b\b\b\b\b\b\b\b\b\b\b\b\b\b\b\r157/157 [==============================] - 1s 7ms/step - loss: 0.1052 - accuracy: 0.9776 - lr: 3.0000e-05\n",
            "Epoch 20/200\n",
            "157/157 [==============================] - ETA: 0s - loss: 0.0873 - accuracy: 0.9822"
          ]
        },
        {
          "output_type": "stream",
          "name": "stderr",
          "text": [
            "WARNING:tensorflow:Early stopping conditioned on metric `val_loss` which is not available. Available metrics are: loss,accuracy\n",
            "WARNING:tensorflow:Learning rate reduction is conditioned on metric `val_loss` which is not available. Available metrics are: loss,accuracy,lr\n"
          ]
        },
        {
          "output_type": "stream",
          "name": "stdout",
          "text": [
            "\b\b\b\b\b\b\b\b\b\b\b\b\b\b\b\b\b\b\b\b\b\b\b\b\b\b\b\b\b\b\b\b\b\b\b\b\b\b\b\b\b\b\b\b\b\b\b\b\b\b\b\b\b\b\b\b\b\b\b\b\b\b\b\b\b\b\b\b\b\b\b\b\b\b\b\b\b\b\b\b\b\b\b\b\r157/157 [==============================] - 1s 7ms/step - loss: 0.0873 - accuracy: 0.9822 - lr: 3.0000e-05\n",
            "Epoch 21/200\n",
            "156/157 [============================>.] - ETA: 0s - loss: 0.0725 - accuracy: 0.9856"
          ]
        },
        {
          "output_type": "stream",
          "name": "stderr",
          "text": [
            "WARNING:tensorflow:Early stopping conditioned on metric `val_loss` which is not available. Available metrics are: loss,accuracy\n",
            "WARNING:tensorflow:Learning rate reduction is conditioned on metric `val_loss` which is not available. Available metrics are: loss,accuracy,lr\n"
          ]
        },
        {
          "output_type": "stream",
          "name": "stdout",
          "text": [
            "\b\b\b\b\b\b\b\b\b\b\b\b\b\b\b\b\b\b\b\b\b\b\b\b\b\b\b\b\b\b\b\b\b\b\b\b\b\b\b\b\b\b\b\b\b\b\b\b\b\b\b\b\b\b\b\b\b\b\b\b\b\b\b\b\b\b\b\b\b\b\b\b\b\b\b\b\b\b\b\b\b\b\b\b\r157/157 [==============================] - 1s 7ms/step - loss: 0.0724 - accuracy: 0.9856 - lr: 3.0000e-05\n",
            "Epoch 22/200\n",
            "157/157 [==============================] - ETA: 0s - loss: 0.0608 - accuracy: 0.9904"
          ]
        },
        {
          "output_type": "stream",
          "name": "stderr",
          "text": [
            "WARNING:tensorflow:Early stopping conditioned on metric `val_loss` which is not available. Available metrics are: loss,accuracy\n",
            "WARNING:tensorflow:Learning rate reduction is conditioned on metric `val_loss` which is not available. Available metrics are: loss,accuracy,lr\n"
          ]
        },
        {
          "output_type": "stream",
          "name": "stdout",
          "text": [
            "\b\b\b\b\b\b\b\b\b\b\b\b\b\b\b\b\b\b\b\b\b\b\b\b\b\b\b\b\b\b\b\b\b\b\b\b\b\b\b\b\b\b\b\b\b\b\b\b\b\b\b\b\b\b\b\b\b\b\b\b\b\b\b\b\b\b\b\b\b\b\b\b\b\b\b\b\b\b\b\b\b\b\b\b\r157/157 [==============================] - 1s 7ms/step - loss: 0.0608 - accuracy: 0.9904 - lr: 3.0000e-05\n",
            "Epoch 23/200\n",
            "152/157 [============================>.] - ETA: 0s - loss: 0.0508 - accuracy: 0.9920"
          ]
        },
        {
          "output_type": "stream",
          "name": "stderr",
          "text": [
            "WARNING:tensorflow:Early stopping conditioned on metric `val_loss` which is not available. Available metrics are: loss,accuracy\n",
            "WARNING:tensorflow:Learning rate reduction is conditioned on metric `val_loss` which is not available. Available metrics are: loss,accuracy,lr\n"
          ]
        },
        {
          "output_type": "stream",
          "name": "stdout",
          "text": [
            "\b\b\b\b\b\b\b\b\b\b\b\b\b\b\b\b\b\b\b\b\b\b\b\b\b\b\b\b\b\b\b\b\b\b\b\b\b\b\b\b\b\b\b\b\b\b\b\b\b\b\b\b\b\b\b\b\b\b\b\b\b\b\b\b\b\b\b\b\b\b\b\b\b\b\b\b\b\b\b\b\b\b\b\b\r157/157 [==============================] - 1s 7ms/step - loss: 0.0509 - accuracy: 0.9920 - lr: 3.0000e-05\n",
            "Epoch 24/200\n",
            "152/157 [============================>.] - ETA: 0s - loss: 0.0426 - accuracy: 0.9944"
          ]
        },
        {
          "output_type": "stream",
          "name": "stderr",
          "text": [
            "WARNING:tensorflow:Early stopping conditioned on metric `val_loss` which is not available. Available metrics are: loss,accuracy\n",
            "WARNING:tensorflow:Learning rate reduction is conditioned on metric `val_loss` which is not available. Available metrics are: loss,accuracy,lr\n"
          ]
        },
        {
          "output_type": "stream",
          "name": "stdout",
          "text": [
            "\b\b\b\b\b\b\b\b\b\b\b\b\b\b\b\b\b\b\b\b\b\b\b\b\b\b\b\b\b\b\b\b\b\b\b\b\b\b\b\b\b\b\b\b\b\b\b\b\b\b\b\b\b\b\b\b\b\b\b\b\b\b\b\b\b\b\b\b\b\b\b\b\b\b\b\b\b\b\b\b\b\b\b\b\r157/157 [==============================] - 1s 7ms/step - loss: 0.0423 - accuracy: 0.9946 - lr: 3.0000e-05\n",
            "Epoch 25/200\n",
            "156/157 [============================>.] - ETA: 0s - loss: 0.0352 - accuracy: 0.9962"
          ]
        },
        {
          "output_type": "stream",
          "name": "stderr",
          "text": [
            "WARNING:tensorflow:Early stopping conditioned on metric `val_loss` which is not available. Available metrics are: loss,accuracy\n",
            "WARNING:tensorflow:Learning rate reduction is conditioned on metric `val_loss` which is not available. Available metrics are: loss,accuracy,lr\n"
          ]
        },
        {
          "output_type": "stream",
          "name": "stdout",
          "text": [
            "\b\b\b\b\b\b\b\b\b\b\b\b\b\b\b\b\b\b\b\b\b\b\b\b\b\b\b\b\b\b\b\b\b\b\b\b\b\b\b\b\b\b\b\b\b\b\b\b\b\b\b\b\b\b\b\b\b\b\b\b\b\b\b\b\b\b\b\b\b\b\b\b\b\b\b\b\b\b\b\b\b\b\b\b\r157/157 [==============================] - 1s 7ms/step - loss: 0.0352 - accuracy: 0.9962 - lr: 3.0000e-05\n",
            "Epoch 26/200\n",
            "155/157 [============================>.] - ETA: 0s - loss: 0.0298 - accuracy: 0.9972"
          ]
        },
        {
          "output_type": "stream",
          "name": "stderr",
          "text": [
            "WARNING:tensorflow:Early stopping conditioned on metric `val_loss` which is not available. Available metrics are: loss,accuracy\n",
            "WARNING:tensorflow:Learning rate reduction is conditioned on metric `val_loss` which is not available. Available metrics are: loss,accuracy,lr\n"
          ]
        },
        {
          "output_type": "stream",
          "name": "stdout",
          "text": [
            "\b\b\b\b\b\b\b\b\b\b\b\b\b\b\b\b\b\b\b\b\b\b\b\b\b\b\b\b\b\b\b\b\b\b\b\b\b\b\b\b\b\b\b\b\b\b\b\b\b\b\b\b\b\b\b\b\b\b\b\b\b\b\b\b\b\b\b\b\b\b\b\b\b\b\b\b\b\b\b\b\b\b\b\b\r157/157 [==============================] - 1s 7ms/step - loss: 0.0297 - accuracy: 0.9972 - lr: 3.0000e-05\n",
            "Epoch 27/200\n",
            "157/157 [==============================] - ETA: 0s - loss: 0.0248 - accuracy: 0.9984"
          ]
        },
        {
          "output_type": "stream",
          "name": "stderr",
          "text": [
            "WARNING:tensorflow:Early stopping conditioned on metric `val_loss` which is not available. Available metrics are: loss,accuracy\n",
            "WARNING:tensorflow:Learning rate reduction is conditioned on metric `val_loss` which is not available. Available metrics are: loss,accuracy,lr\n"
          ]
        },
        {
          "output_type": "stream",
          "name": "stdout",
          "text": [
            "\b\b\b\b\b\b\b\b\b\b\b\b\b\b\b\b\b\b\b\b\b\b\b\b\b\b\b\b\b\b\b\b\b\b\b\b\b\b\b\b\b\b\b\b\b\b\b\b\b\b\b\b\b\b\b\b\b\b\b\b\b\b\b\b\b\b\b\b\b\b\b\b\b\b\b\b\b\b\b\b\b\b\b\b\r157/157 [==============================] - 1s 7ms/step - loss: 0.0248 - accuracy: 0.9984 - lr: 3.0000e-05\n",
            "Epoch 28/200\n",
            "155/157 [============================>.] - ETA: 0s - loss: 0.0222 - accuracy: 0.9986"
          ]
        },
        {
          "output_type": "stream",
          "name": "stderr",
          "text": [
            "WARNING:tensorflow:Early stopping conditioned on metric `val_loss` which is not available. Available metrics are: loss,accuracy\n",
            "WARNING:tensorflow:Learning rate reduction is conditioned on metric `val_loss` which is not available. Available metrics are: loss,accuracy,lr\n"
          ]
        },
        {
          "output_type": "stream",
          "name": "stdout",
          "text": [
            "\b\b\b\b\b\b\b\b\b\b\b\b\b\b\b\b\b\b\b\b\b\b\b\b\b\b\b\b\b\b\b\b\b\b\b\b\b\b\b\b\b\b\b\b\b\b\b\b\b\b\b\b\b\b\b\b\b\b\b\b\b\b\b\b\b\b\b\b\b\b\b\b\b\b\b\b\b\b\b\b\b\b\b\b\r157/157 [==============================] - 1s 7ms/step - loss: 0.0222 - accuracy: 0.9986 - lr: 3.0000e-05\n",
            "Epoch 29/200\n",
            "157/157 [==============================] - ETA: 0s - loss: 0.0180 - accuracy: 0.9992"
          ]
        },
        {
          "output_type": "stream",
          "name": "stderr",
          "text": [
            "WARNING:tensorflow:Early stopping conditioned on metric `val_loss` which is not available. Available metrics are: loss,accuracy\n",
            "WARNING:tensorflow:Learning rate reduction is conditioned on metric `val_loss` which is not available. Available metrics are: loss,accuracy,lr\n"
          ]
        },
        {
          "output_type": "stream",
          "name": "stdout",
          "text": [
            "\b\b\b\b\b\b\b\b\b\b\b\b\b\b\b\b\b\b\b\b\b\b\b\b\b\b\b\b\b\b\b\b\b\b\b\b\b\b\b\b\b\b\b\b\b\b\b\b\b\b\b\b\b\b\b\b\b\b\b\b\b\b\b\b\b\b\b\b\b\b\b\b\b\b\b\b\b\b\b\b\b\b\b\b\r157/157 [==============================] - 1s 7ms/step - loss: 0.0180 - accuracy: 0.9992 - lr: 3.0000e-05\n",
            "Epoch 30/200\n",
            "154/157 [============================>.] - ETA: 0s - loss: 0.0158 - accuracy: 0.9996"
          ]
        },
        {
          "output_type": "stream",
          "name": "stderr",
          "text": [
            "WARNING:tensorflow:Early stopping conditioned on metric `val_loss` which is not available. Available metrics are: loss,accuracy\n",
            "WARNING:tensorflow:Learning rate reduction is conditioned on metric `val_loss` which is not available. Available metrics are: loss,accuracy,lr\n"
          ]
        },
        {
          "output_type": "stream",
          "name": "stdout",
          "text": [
            "\b\b\b\b\b\b\b\b\b\b\b\b\b\b\b\b\b\b\b\b\b\b\b\b\b\b\b\b\b\b\b\b\b\b\b\b\b\b\b\b\b\b\b\b\b\b\b\b\b\b\b\b\b\b\b\b\b\b\b\b\b\b\b\b\b\b\b\b\b\b\b\b\b\b\b\b\b\b\b\b\b\b\b\b\r157/157 [==============================] - 1s 7ms/step - loss: 0.0158 - accuracy: 0.9996 - lr: 3.0000e-05\n",
            "Epoch 31/200\n",
            "154/157 [============================>.] - ETA: 0s - loss: 0.0139 - accuracy: 0.9992"
          ]
        },
        {
          "output_type": "stream",
          "name": "stderr",
          "text": [
            "WARNING:tensorflow:Early stopping conditioned on metric `val_loss` which is not available. Available metrics are: loss,accuracy\n",
            "WARNING:tensorflow:Learning rate reduction is conditioned on metric `val_loss` which is not available. Available metrics are: loss,accuracy,lr\n"
          ]
        },
        {
          "output_type": "stream",
          "name": "stdout",
          "text": [
            "\b\b\b\b\b\b\b\b\b\b\b\b\b\b\b\b\b\b\b\b\b\b\b\b\b\b\b\b\b\b\b\b\b\b\b\b\b\b\b\b\b\b\b\b\b\b\b\b\b\b\b\b\b\b\b\b\b\b\b\b\b\b\b\b\b\b\b\b\b\b\b\b\b\b\b\b\b\b\b\b\b\b\b\b\r157/157 [==============================] - 1s 7ms/step - loss: 0.0139 - accuracy: 0.9992 - lr: 3.0000e-05\n",
            "Epoch 32/200\n",
            "154/157 [============================>.] - ETA: 0s - loss: 0.0112 - accuracy: 0.9994"
          ]
        },
        {
          "output_type": "stream",
          "name": "stderr",
          "text": [
            "WARNING:tensorflow:Early stopping conditioned on metric `val_loss` which is not available. Available metrics are: loss,accuracy\n",
            "WARNING:tensorflow:Learning rate reduction is conditioned on metric `val_loss` which is not available. Available metrics are: loss,accuracy,lr\n"
          ]
        },
        {
          "output_type": "stream",
          "name": "stdout",
          "text": [
            "\b\b\b\b\b\b\b\b\b\b\b\b\b\b\b\b\b\b\b\b\b\b\b\b\b\b\b\b\b\b\b\b\b\b\b\b\b\b\b\b\b\b\b\b\b\b\b\b\b\b\b\b\b\b\b\b\b\b\b\b\b\b\b\b\b\b\b\b\b\b\b\b\b\b\b\b\b\b\b\b\b\b\b\b\r157/157 [==============================] - 1s 7ms/step - loss: 0.0112 - accuracy: 0.9994 - lr: 3.0000e-05\n",
            "Epoch 33/200\n",
            "155/157 [============================>.] - ETA: 0s - loss: 0.0095 - accuracy: 0.9998"
          ]
        },
        {
          "output_type": "stream",
          "name": "stderr",
          "text": [
            "WARNING:tensorflow:Early stopping conditioned on metric `val_loss` which is not available. Available metrics are: loss,accuracy\n",
            "WARNING:tensorflow:Learning rate reduction is conditioned on metric `val_loss` which is not available. Available metrics are: loss,accuracy,lr\n"
          ]
        },
        {
          "output_type": "stream",
          "name": "stdout",
          "text": [
            "\b\b\b\b\b\b\b\b\b\b\b\b\b\b\b\b\b\b\b\b\b\b\b\b\b\b\b\b\b\b\b\b\b\b\b\b\b\b\b\b\b\b\b\b\b\b\b\b\b\b\b\b\b\b\b\b\b\b\b\b\b\b\b\b\b\b\b\b\b\b\b\b\b\b\b\b\b\b\b\b\b\b\b\b\r157/157 [==============================] - 1s 7ms/step - loss: 0.0095 - accuracy: 0.9998 - lr: 3.0000e-05\n",
            "Epoch 34/200\n",
            "154/157 [============================>.] - ETA: 0s - loss: 0.0086 - accuracy: 1.0000"
          ]
        },
        {
          "output_type": "stream",
          "name": "stderr",
          "text": [
            "WARNING:tensorflow:Early stopping conditioned on metric `val_loss` which is not available. Available metrics are: loss,accuracy\n",
            "WARNING:tensorflow:Learning rate reduction is conditioned on metric `val_loss` which is not available. Available metrics are: loss,accuracy,lr\n"
          ]
        },
        {
          "output_type": "stream",
          "name": "stdout",
          "text": [
            "\b\b\b\b\b\b\b\b\b\b\b\b\b\b\b\b\b\b\b\b\b\b\b\b\b\b\b\b\b\b\b\b\b\b\b\b\b\b\b\b\b\b\b\b\b\b\b\b\b\b\b\b\b\b\b\b\b\b\b\b\b\b\b\b\b\b\b\b\b\b\b\b\b\b\b\b\b\b\b\b\b\b\b\b\r157/157 [==============================] - 1s 7ms/step - loss: 0.0086 - accuracy: 1.0000 - lr: 3.0000e-05\n",
            "Epoch 35/200\n",
            "157/157 [==============================] - ETA: 0s - loss: 0.0079 - accuracy: 0.9998"
          ]
        },
        {
          "output_type": "stream",
          "name": "stderr",
          "text": [
            "WARNING:tensorflow:Early stopping conditioned on metric `val_loss` which is not available. Available metrics are: loss,accuracy\n",
            "WARNING:tensorflow:Learning rate reduction is conditioned on metric `val_loss` which is not available. Available metrics are: loss,accuracy,lr\n"
          ]
        },
        {
          "output_type": "stream",
          "name": "stdout",
          "text": [
            "\b\b\b\b\b\b\b\b\b\b\b\b\b\b\b\b\b\b\b\b\b\b\b\b\b\b\b\b\b\b\b\b\b\b\b\b\b\b\b\b\b\b\b\b\b\b\b\b\b\b\b\b\b\b\b\b\b\b\b\b\b\b\b\b\b\b\b\b\b\b\b\b\b\b\b\b\b\b\b\b\b\b\b\b\r157/157 [==============================] - 1s 7ms/step - loss: 0.0079 - accuracy: 0.9998 - lr: 3.0000e-05\n",
            "Epoch 36/200\n",
            "157/157 [==============================] - ETA: 0s - loss: 0.0063 - accuracy: 1.0000"
          ]
        },
        {
          "output_type": "stream",
          "name": "stderr",
          "text": [
            "WARNING:tensorflow:Early stopping conditioned on metric `val_loss` which is not available. Available metrics are: loss,accuracy\n",
            "WARNING:tensorflow:Learning rate reduction is conditioned on metric `val_loss` which is not available. Available metrics are: loss,accuracy,lr\n"
          ]
        },
        {
          "output_type": "stream",
          "name": "stdout",
          "text": [
            "\b\b\b\b\b\b\b\b\b\b\b\b\b\b\b\b\b\b\b\b\b\b\b\b\b\b\b\b\b\b\b\b\b\b\b\b\b\b\b\b\b\b\b\b\b\b\b\b\b\b\b\b\b\b\b\b\b\b\b\b\b\b\b\b\b\b\b\b\b\b\b\b\b\b\b\b\b\b\b\b\b\b\b\b\r157/157 [==============================] - 1s 7ms/step - loss: 0.0063 - accuracy: 1.0000 - lr: 3.0000e-05\n",
            "Epoch 37/200\n",
            "155/157 [============================>.] - ETA: 0s - loss: 0.0058 - accuracy: 0.9998"
          ]
        },
        {
          "output_type": "stream",
          "name": "stderr",
          "text": [
            "WARNING:tensorflow:Early stopping conditioned on metric `val_loss` which is not available. Available metrics are: loss,accuracy\n",
            "WARNING:tensorflow:Learning rate reduction is conditioned on metric `val_loss` which is not available. Available metrics are: loss,accuracy,lr\n"
          ]
        },
        {
          "output_type": "stream",
          "name": "stdout",
          "text": [
            "\b\b\b\b\b\b\b\b\b\b\b\b\b\b\b\b\b\b\b\b\b\b\b\b\b\b\b\b\b\b\b\b\b\b\b\b\b\b\b\b\b\b\b\b\b\b\b\b\b\b\b\b\b\b\b\b\b\b\b\b\b\b\b\b\b\b\b\b\b\b\b\b\b\b\b\b\b\b\b\b\b\b\b\b\r157/157 [==============================] - 1s 7ms/step - loss: 0.0058 - accuracy: 0.9998 - lr: 3.0000e-05\n",
            "Epoch 38/200\n",
            "155/157 [============================>.] - ETA: 0s - loss: 0.0052 - accuracy: 1.0000"
          ]
        },
        {
          "output_type": "stream",
          "name": "stderr",
          "text": [
            "WARNING:tensorflow:Early stopping conditioned on metric `val_loss` which is not available. Available metrics are: loss,accuracy\n",
            "WARNING:tensorflow:Learning rate reduction is conditioned on metric `val_loss` which is not available. Available metrics are: loss,accuracy,lr\n"
          ]
        },
        {
          "output_type": "stream",
          "name": "stdout",
          "text": [
            "\b\b\b\b\b\b\b\b\b\b\b\b\b\b\b\b\b\b\b\b\b\b\b\b\b\b\b\b\b\b\b\b\b\b\b\b\b\b\b\b\b\b\b\b\b\b\b\b\b\b\b\b\b\b\b\b\b\b\b\b\b\b\b\b\b\b\b\b\b\b\b\b\b\b\b\b\b\b\b\b\b\b\b\b\r157/157 [==============================] - 1s 7ms/step - loss: 0.0052 - accuracy: 1.0000 - lr: 3.0000e-05\n",
            "Epoch 39/200\n",
            "154/157 [============================>.] - ETA: 0s - loss: 0.0043 - accuracy: 1.0000"
          ]
        },
        {
          "output_type": "stream",
          "name": "stderr",
          "text": [
            "WARNING:tensorflow:Early stopping conditioned on metric `val_loss` which is not available. Available metrics are: loss,accuracy\n",
            "WARNING:tensorflow:Learning rate reduction is conditioned on metric `val_loss` which is not available. Available metrics are: loss,accuracy,lr\n"
          ]
        },
        {
          "output_type": "stream",
          "name": "stdout",
          "text": [
            "\b\b\b\b\b\b\b\b\b\b\b\b\b\b\b\b\b\b\b\b\b\b\b\b\b\b\b\b\b\b\b\b\b\b\b\b\b\b\b\b\b\b\b\b\b\b\b\b\b\b\b\b\b\b\b\b\b\b\b\b\b\b\b\b\b\b\b\b\b\b\b\b\b\b\b\b\b\b\b\b\b\b\b\b\r157/157 [==============================] - 1s 7ms/step - loss: 0.0043 - accuracy: 1.0000 - lr: 3.0000e-05\n",
            "Epoch 40/200\n",
            "157/157 [==============================] - ETA: 0s - loss: 0.0040 - accuracy: 1.0000"
          ]
        },
        {
          "output_type": "stream",
          "name": "stderr",
          "text": [
            "WARNING:tensorflow:Early stopping conditioned on metric `val_loss` which is not available. Available metrics are: loss,accuracy\n",
            "WARNING:tensorflow:Learning rate reduction is conditioned on metric `val_loss` which is not available. Available metrics are: loss,accuracy,lr\n"
          ]
        },
        {
          "output_type": "stream",
          "name": "stdout",
          "text": [
            "\b\b\b\b\b\b\b\b\b\b\b\b\b\b\b\b\b\b\b\b\b\b\b\b\b\b\b\b\b\b\b\b\b\b\b\b\b\b\b\b\b\b\b\b\b\b\b\b\b\b\b\b\b\b\b\b\b\b\b\b\b\b\b\b\b\b\b\b\b\b\b\b\b\b\b\b\b\b\b\b\b\b\b\b\r157/157 [==============================] - 1s 7ms/step - loss: 0.0040 - accuracy: 1.0000 - lr: 3.0000e-05\n",
            "Epoch 41/200\n",
            "154/157 [============================>.] - ETA: 0s - loss: 0.0034 - accuracy: 1.0000"
          ]
        },
        {
          "output_type": "stream",
          "name": "stderr",
          "text": [
            "WARNING:tensorflow:Early stopping conditioned on metric `val_loss` which is not available. Available metrics are: loss,accuracy\n",
            "WARNING:tensorflow:Learning rate reduction is conditioned on metric `val_loss` which is not available. Available metrics are: loss,accuracy,lr\n"
          ]
        },
        {
          "output_type": "stream",
          "name": "stdout",
          "text": [
            "\b\b\b\b\b\b\b\b\b\b\b\b\b\b\b\b\b\b\b\b\b\b\b\b\b\b\b\b\b\b\b\b\b\b\b\b\b\b\b\b\b\b\b\b\b\b\b\b\b\b\b\b\b\b\b\b\b\b\b\b\b\b\b\b\b\b\b\b\b\b\b\b\b\b\b\b\b\b\b\b\b\b\b\b\r157/157 [==============================] - 1s 7ms/step - loss: 0.0034 - accuracy: 1.0000 - lr: 3.0000e-05\n",
            "Epoch 42/200\n",
            "155/157 [============================>.] - ETA: 0s - loss: 0.0032 - accuracy: 1.0000"
          ]
        },
        {
          "output_type": "stream",
          "name": "stderr",
          "text": [
            "WARNING:tensorflow:Early stopping conditioned on metric `val_loss` which is not available. Available metrics are: loss,accuracy\n",
            "WARNING:tensorflow:Learning rate reduction is conditioned on metric `val_loss` which is not available. Available metrics are: loss,accuracy,lr\n"
          ]
        },
        {
          "output_type": "stream",
          "name": "stdout",
          "text": [
            "\b\b\b\b\b\b\b\b\b\b\b\b\b\b\b\b\b\b\b\b\b\b\b\b\b\b\b\b\b\b\b\b\b\b\b\b\b\b\b\b\b\b\b\b\b\b\b\b\b\b\b\b\b\b\b\b\b\b\b\b\b\b\b\b\b\b\b\b\b\b\b\b\b\b\b\b\b\b\b\b\b\b\b\b\r157/157 [==============================] - 1s 7ms/step - loss: 0.0031 - accuracy: 1.0000 - lr: 3.0000e-05\n",
            "Epoch 43/200\n",
            "153/157 [============================>.] - ETA: 0s - loss: 0.0028 - accuracy: 1.0000"
          ]
        },
        {
          "output_type": "stream",
          "name": "stderr",
          "text": [
            "WARNING:tensorflow:Early stopping conditioned on metric `val_loss` which is not available. Available metrics are: loss,accuracy\n",
            "WARNING:tensorflow:Learning rate reduction is conditioned on metric `val_loss` which is not available. Available metrics are: loss,accuracy,lr\n"
          ]
        },
        {
          "output_type": "stream",
          "name": "stdout",
          "text": [
            "\b\b\b\b\b\b\b\b\b\b\b\b\b\b\b\b\b\b\b\b\b\b\b\b\b\b\b\b\b\b\b\b\b\b\b\b\b\b\b\b\b\b\b\b\b\b\b\b\b\b\b\b\b\b\b\b\b\b\b\b\b\b\b\b\b\b\b\b\b\b\b\b\b\b\b\b\b\b\b\b\b\b\b\b\r157/157 [==============================] - 1s 7ms/step - loss: 0.0027 - accuracy: 1.0000 - lr: 3.0000e-05\n",
            "Epoch 44/200\n",
            "156/157 [============================>.] - ETA: 0s - loss: 0.0022 - accuracy: 1.0000"
          ]
        },
        {
          "output_type": "stream",
          "name": "stderr",
          "text": [
            "WARNING:tensorflow:Early stopping conditioned on metric `val_loss` which is not available. Available metrics are: loss,accuracy\n",
            "WARNING:tensorflow:Learning rate reduction is conditioned on metric `val_loss` which is not available. Available metrics are: loss,accuracy,lr\n"
          ]
        },
        {
          "output_type": "stream",
          "name": "stdout",
          "text": [
            "\b\b\b\b\b\b\b\b\b\b\b\b\b\b\b\b\b\b\b\b\b\b\b\b\b\b\b\b\b\b\b\b\b\b\b\b\b\b\b\b\b\b\b\b\b\b\b\b\b\b\b\b\b\b\b\b\b\b\b\b\b\b\b\b\b\b\b\b\b\b\b\b\b\b\b\b\b\b\b\b\b\b\b\b\r157/157 [==============================] - 1s 7ms/step - loss: 0.0022 - accuracy: 1.0000 - lr: 3.0000e-05\n",
            "Epoch 45/200\n",
            "155/157 [============================>.] - ETA: 0s - loss: 0.0021 - accuracy: 1.0000"
          ]
        },
        {
          "output_type": "stream",
          "name": "stderr",
          "text": [
            "WARNING:tensorflow:Early stopping conditioned on metric `val_loss` which is not available. Available metrics are: loss,accuracy\n",
            "WARNING:tensorflow:Learning rate reduction is conditioned on metric `val_loss` which is not available. Available metrics are: loss,accuracy,lr\n"
          ]
        },
        {
          "output_type": "stream",
          "name": "stdout",
          "text": [
            "\b\b\b\b\b\b\b\b\b\b\b\b\b\b\b\b\b\b\b\b\b\b\b\b\b\b\b\b\b\b\b\b\b\b\b\b\b\b\b\b\b\b\b\b\b\b\b\b\b\b\b\b\b\b\b\b\b\b\b\b\b\b\b\b\b\b\b\b\b\b\b\b\b\b\b\b\b\b\b\b\b\b\b\b\r157/157 [==============================] - 1s 7ms/step - loss: 0.0021 - accuracy: 1.0000 - lr: 3.0000e-05\n",
            "Epoch 46/200\n",
            "150/157 [===========================>..] - ETA: 0s - loss: 0.0022 - accuracy: 1.0000"
          ]
        },
        {
          "output_type": "stream",
          "name": "stderr",
          "text": [
            "WARNING:tensorflow:Early stopping conditioned on metric `val_loss` which is not available. Available metrics are: loss,accuracy\n",
            "WARNING:tensorflow:Learning rate reduction is conditioned on metric `val_loss` which is not available. Available metrics are: loss,accuracy,lr\n"
          ]
        },
        {
          "output_type": "stream",
          "name": "stdout",
          "text": [
            "\b\b\b\b\b\b\b\b\b\b\b\b\b\b\b\b\b\b\b\b\b\b\b\b\b\b\b\b\b\b\b\b\b\b\b\b\b\b\b\b\b\b\b\b\b\b\b\b\b\b\b\b\b\b\b\b\b\b\b\b\b\b\b\b\b\b\b\b\b\b\b\b\b\b\b\b\b\b\b\b\b\b\b\b\r157/157 [==============================] - 1s 7ms/step - loss: 0.0021 - accuracy: 1.0000 - lr: 3.0000e-05\n",
            "Epoch 47/200\n",
            "155/157 [============================>.] - ETA: 0s - loss: 0.0017 - accuracy: 1.0000"
          ]
        },
        {
          "output_type": "stream",
          "name": "stderr",
          "text": [
            "WARNING:tensorflow:Early stopping conditioned on metric `val_loss` which is not available. Available metrics are: loss,accuracy\n",
            "WARNING:tensorflow:Learning rate reduction is conditioned on metric `val_loss` which is not available. Available metrics are: loss,accuracy,lr\n"
          ]
        },
        {
          "output_type": "stream",
          "name": "stdout",
          "text": [
            "\b\b\b\b\b\b\b\b\b\b\b\b\b\b\b\b\b\b\b\b\b\b\b\b\b\b\b\b\b\b\b\b\b\b\b\b\b\b\b\b\b\b\b\b\b\b\b\b\b\b\b\b\b\b\b\b\b\b\b\b\b\b\b\b\b\b\b\b\b\b\b\b\b\b\b\b\b\b\b\b\b\b\b\b\r157/157 [==============================] - 1s 7ms/step - loss: 0.0017 - accuracy: 1.0000 - lr: 3.0000e-05\n",
            "Epoch 48/200\n",
            "152/157 [============================>.] - ETA: 0s - loss: 0.0016 - accuracy: 1.0000"
          ]
        },
        {
          "output_type": "stream",
          "name": "stderr",
          "text": [
            "WARNING:tensorflow:Early stopping conditioned on metric `val_loss` which is not available. Available metrics are: loss,accuracy\n",
            "WARNING:tensorflow:Learning rate reduction is conditioned on metric `val_loss` which is not available. Available metrics are: loss,accuracy,lr\n"
          ]
        },
        {
          "output_type": "stream",
          "name": "stdout",
          "text": [
            "\b\b\b\b\b\b\b\b\b\b\b\b\b\b\b\b\b\b\b\b\b\b\b\b\b\b\b\b\b\b\b\b\b\b\b\b\b\b\b\b\b\b\b\b\b\b\b\b\b\b\b\b\b\b\b\b\b\b\b\b\b\b\b\b\b\b\b\b\b\b\b\b\b\b\b\b\b\b\b\b\b\b\b\b\r157/157 [==============================] - 1s 7ms/step - loss: 0.0015 - accuracy: 1.0000 - lr: 3.0000e-05\n",
            "Epoch 49/200\n",
            "156/157 [============================>.] - ETA: 0s - loss: 0.0014 - accuracy: 1.0000"
          ]
        },
        {
          "output_type": "stream",
          "name": "stderr",
          "text": [
            "WARNING:tensorflow:Early stopping conditioned on metric `val_loss` which is not available. Available metrics are: loss,accuracy\n",
            "WARNING:tensorflow:Learning rate reduction is conditioned on metric `val_loss` which is not available. Available metrics are: loss,accuracy,lr\n"
          ]
        },
        {
          "output_type": "stream",
          "name": "stdout",
          "text": [
            "\b\b\b\b\b\b\b\b\b\b\b\b\b\b\b\b\b\b\b\b\b\b\b\b\b\b\b\b\b\b\b\b\b\b\b\b\b\b\b\b\b\b\b\b\b\b\b\b\b\b\b\b\b\b\b\b\b\b\b\b\b\b\b\b\b\b\b\b\b\b\b\b\b\b\b\b\b\b\b\b\b\b\b\b\r157/157 [==============================] - 1s 7ms/step - loss: 0.0014 - accuracy: 1.0000 - lr: 3.0000e-05\n",
            "Epoch 50/200\n",
            "154/157 [============================>.] - ETA: 0s - loss: 0.0012 - accuracy: 1.0000"
          ]
        },
        {
          "output_type": "stream",
          "name": "stderr",
          "text": [
            "WARNING:tensorflow:Early stopping conditioned on metric `val_loss` which is not available. Available metrics are: loss,accuracy\n",
            "WARNING:tensorflow:Learning rate reduction is conditioned on metric `val_loss` which is not available. Available metrics are: loss,accuracy,lr\n"
          ]
        },
        {
          "output_type": "stream",
          "name": "stdout",
          "text": [
            "\b\b\b\b\b\b\b\b\b\b\b\b\b\b\b\b\b\b\b\b\b\b\b\b\b\b\b\b\b\b\b\b\b\b\b\b\b\b\b\b\b\b\b\b\b\b\b\b\b\b\b\b\b\b\b\b\b\b\b\b\b\b\b\b\b\b\b\b\b\b\b\b\b\b\b\b\b\b\b\b\b\b\b\b\r157/157 [==============================] - 1s 7ms/step - loss: 0.0012 - accuracy: 1.0000 - lr: 3.0000e-05\n",
            "Epoch 51/200\n",
            "152/157 [============================>.] - ETA: 0s - loss: 0.0011 - accuracy: 1.0000"
          ]
        },
        {
          "output_type": "stream",
          "name": "stderr",
          "text": [
            "WARNING:tensorflow:Early stopping conditioned on metric `val_loss` which is not available. Available metrics are: loss,accuracy\n",
            "WARNING:tensorflow:Learning rate reduction is conditioned on metric `val_loss` which is not available. Available metrics are: loss,accuracy,lr\n"
          ]
        },
        {
          "output_type": "stream",
          "name": "stdout",
          "text": [
            "\b\b\b\b\b\b\b\b\b\b\b\b\b\b\b\b\b\b\b\b\b\b\b\b\b\b\b\b\b\b\b\b\b\b\b\b\b\b\b\b\b\b\b\b\b\b\b\b\b\b\b\b\b\b\b\b\b\b\b\b\b\b\b\b\b\b\b\b\b\b\b\b\b\b\b\b\b\b\b\b\b\b\b\b\r157/157 [==============================] - 1s 7ms/step - loss: 0.0011 - accuracy: 1.0000 - lr: 3.0000e-05\n",
            "Epoch 52/200\n",
            "156/157 [============================>.] - ETA: 0s - loss: 9.0621e-04 - accuracy: 1.0000"
          ]
        },
        {
          "output_type": "stream",
          "name": "stderr",
          "text": [
            "WARNING:tensorflow:Early stopping conditioned on metric `val_loss` which is not available. Available metrics are: loss,accuracy\n",
            "WARNING:tensorflow:Learning rate reduction is conditioned on metric `val_loss` which is not available. Available metrics are: loss,accuracy,lr\n"
          ]
        },
        {
          "output_type": "stream",
          "name": "stdout",
          "text": [
            "\b\b\b\b\b\b\b\b\b\b\b\b\b\b\b\b\b\b\b\b\b\b\b\b\b\b\b\b\b\b\b\b\b\b\b\b\b\b\b\b\b\b\b\b\b\b\b\b\b\b\b\b\b\b\b\b\b\b\b\b\b\b\b\b\b\b\b\b\b\b\b\b\b\b\b\b\b\b\b\b\b\b\b\b\b\b\b\b\r157/157 [==============================] - 1s 7ms/step - loss: 9.0812e-04 - accuracy: 1.0000 - lr: 3.0000e-05\n",
            "Epoch 53/200\n",
            "151/157 [===========================>..] - ETA: 0s - loss: 8.6179e-04 - accuracy: 1.0000"
          ]
        },
        {
          "output_type": "stream",
          "name": "stderr",
          "text": [
            "WARNING:tensorflow:Early stopping conditioned on metric `val_loss` which is not available. Available metrics are: loss,accuracy\n",
            "WARNING:tensorflow:Learning rate reduction is conditioned on metric `val_loss` which is not available. Available metrics are: loss,accuracy,lr\n"
          ]
        },
        {
          "output_type": "stream",
          "name": "stdout",
          "text": [
            "\b\b\b\b\b\b\b\b\b\b\b\b\b\b\b\b\b\b\b\b\b\b\b\b\b\b\b\b\b\b\b\b\b\b\b\b\b\b\b\b\b\b\b\b\b\b\b\b\b\b\b\b\b\b\b\b\b\b\b\b\b\b\b\b\b\b\b\b\b\b\b\b\b\b\b\b\b\b\b\b\b\b\b\b\b\b\b\b\r157/157 [==============================] - 1s 7ms/step - loss: 8.5587e-04 - accuracy: 1.0000 - lr: 3.0000e-05\n",
            "Epoch 54/200\n",
            "155/157 [============================>.] - ETA: 0s - loss: 7.8964e-04 - accuracy: 1.0000"
          ]
        },
        {
          "output_type": "stream",
          "name": "stderr",
          "text": [
            "WARNING:tensorflow:Early stopping conditioned on metric `val_loss` which is not available. Available metrics are: loss,accuracy\n",
            "WARNING:tensorflow:Learning rate reduction is conditioned on metric `val_loss` which is not available. Available metrics are: loss,accuracy,lr\n"
          ]
        },
        {
          "output_type": "stream",
          "name": "stdout",
          "text": [
            "\b\b\b\b\b\b\b\b\b\b\b\b\b\b\b\b\b\b\b\b\b\b\b\b\b\b\b\b\b\b\b\b\b\b\b\b\b\b\b\b\b\b\b\b\b\b\b\b\b\b\b\b\b\b\b\b\b\b\b\b\b\b\b\b\b\b\b\b\b\b\b\b\b\b\b\b\b\b\b\b\b\b\b\b\b\b\b\b\r157/157 [==============================] - 1s 7ms/step - loss: 7.8689e-04 - accuracy: 1.0000 - lr: 3.0000e-05\n",
            "Epoch 55/200\n",
            "155/157 [============================>.] - ETA: 0s - loss: 6.7738e-04 - accuracy: 1.0000"
          ]
        },
        {
          "output_type": "stream",
          "name": "stderr",
          "text": [
            "WARNING:tensorflow:Early stopping conditioned on metric `val_loss` which is not available. Available metrics are: loss,accuracy\n",
            "WARNING:tensorflow:Learning rate reduction is conditioned on metric `val_loss` which is not available. Available metrics are: loss,accuracy,lr\n"
          ]
        },
        {
          "output_type": "stream",
          "name": "stdout",
          "text": [
            "\b\b\b\b\b\b\b\b\b\b\b\b\b\b\b\b\b\b\b\b\b\b\b\b\b\b\b\b\b\b\b\b\b\b\b\b\b\b\b\b\b\b\b\b\b\b\b\b\b\b\b\b\b\b\b\b\b\b\b\b\b\b\b\b\b\b\b\b\b\b\b\b\b\b\b\b\b\b\b\b\b\b\b\b\b\b\b\b\r157/157 [==============================] - 1s 7ms/step - loss: 6.7596e-04 - accuracy: 1.0000 - lr: 3.0000e-05\n",
            "Epoch 56/200\n",
            "157/157 [==============================] - ETA: 0s - loss: 7.1817e-04 - accuracy: 1.0000"
          ]
        },
        {
          "output_type": "stream",
          "name": "stderr",
          "text": [
            "WARNING:tensorflow:Early stopping conditioned on metric `val_loss` which is not available. Available metrics are: loss,accuracy\n",
            "WARNING:tensorflow:Learning rate reduction is conditioned on metric `val_loss` which is not available. Available metrics are: loss,accuracy,lr\n"
          ]
        },
        {
          "output_type": "stream",
          "name": "stdout",
          "text": [
            "\b\b\b\b\b\b\b\b\b\b\b\b\b\b\b\b\b\b\b\b\b\b\b\b\b\b\b\b\b\b\b\b\b\b\b\b\b\b\b\b\b\b\b\b\b\b\b\b\b\b\b\b\b\b\b\b\b\b\b\b\b\b\b\b\b\b\b\b\b\b\b\b\b\b\b\b\b\b\b\b\b\b\b\b\b\b\b\b\r157/157 [==============================] - 1s 7ms/step - loss: 7.1817e-04 - accuracy: 1.0000 - lr: 3.0000e-05\n",
            "Epoch 57/200\n",
            "150/157 [===========================>..] - ETA: 0s - loss: 6.2518e-04 - accuracy: 1.0000"
          ]
        },
        {
          "output_type": "stream",
          "name": "stderr",
          "text": [
            "WARNING:tensorflow:Early stopping conditioned on metric `val_loss` which is not available. Available metrics are: loss,accuracy\n",
            "WARNING:tensorflow:Learning rate reduction is conditioned on metric `val_loss` which is not available. Available metrics are: loss,accuracy,lr\n"
          ]
        },
        {
          "output_type": "stream",
          "name": "stdout",
          "text": [
            "\b\b\b\b\b\b\b\b\b\b\b\b\b\b\b\b\b\b\b\b\b\b\b\b\b\b\b\b\b\b\b\b\b\b\b\b\b\b\b\b\b\b\b\b\b\b\b\b\b\b\b\b\b\b\b\b\b\b\b\b\b\b\b\b\b\b\b\b\b\b\b\b\b\b\b\b\b\b\b\b\b\b\b\b\b\b\b\b\r157/157 [==============================] - 1s 7ms/step - loss: 6.3170e-04 - accuracy: 1.0000 - lr: 3.0000e-05\n",
            "Epoch 58/200\n",
            "154/157 [============================>.] - ETA: 0s - loss: 4.9803e-04 - accuracy: 1.0000"
          ]
        },
        {
          "output_type": "stream",
          "name": "stderr",
          "text": [
            "WARNING:tensorflow:Early stopping conditioned on metric `val_loss` which is not available. Available metrics are: loss,accuracy\n",
            "WARNING:tensorflow:Learning rate reduction is conditioned on metric `val_loss` which is not available. Available metrics are: loss,accuracy,lr\n"
          ]
        },
        {
          "output_type": "stream",
          "name": "stdout",
          "text": [
            "\b\b\b\b\b\b\b\b\b\b\b\b\b\b\b\b\b\b\b\b\b\b\b\b\b\b\b\b\b\b\b\b\b\b\b\b\b\b\b\b\b\b\b\b\b\b\b\b\b\b\b\b\b\b\b\b\b\b\b\b\b\b\b\b\b\b\b\b\b\b\b\b\b\b\b\b\b\b\b\b\b\b\b\b\b\b\b\b\r157/157 [==============================] - 1s 7ms/step - loss: 4.9552e-04 - accuracy: 1.0000 - lr: 3.0000e-05\n",
            "Epoch 59/200\n",
            "151/157 [===========================>..] - ETA: 0s - loss: 4.4650e-04 - accuracy: 1.0000"
          ]
        },
        {
          "output_type": "stream",
          "name": "stderr",
          "text": [
            "WARNING:tensorflow:Early stopping conditioned on metric `val_loss` which is not available. Available metrics are: loss,accuracy\n",
            "WARNING:tensorflow:Learning rate reduction is conditioned on metric `val_loss` which is not available. Available metrics are: loss,accuracy,lr\n"
          ]
        },
        {
          "output_type": "stream",
          "name": "stdout",
          "text": [
            "\b\b\b\b\b\b\b\b\b\b\b\b\b\b\b\b\b\b\b\b\b\b\b\b\b\b\b\b\b\b\b\b\b\b\b\b\b\b\b\b\b\b\b\b\b\b\b\b\b\b\b\b\b\b\b\b\b\b\b\b\b\b\b\b\b\b\b\b\b\b\b\b\b\b\b\b\b\b\b\b\b\b\b\b\b\b\b\b\r157/157 [==============================] - 1s 7ms/step - loss: 4.5720e-04 - accuracy: 1.0000 - lr: 3.0000e-05\n",
            "Epoch 60/200\n",
            "155/157 [============================>.] - ETA: 0s - loss: 4.3198e-04 - accuracy: 1.0000"
          ]
        },
        {
          "output_type": "stream",
          "name": "stderr",
          "text": [
            "WARNING:tensorflow:Early stopping conditioned on metric `val_loss` which is not available. Available metrics are: loss,accuracy\n",
            "WARNING:tensorflow:Learning rate reduction is conditioned on metric `val_loss` which is not available. Available metrics are: loss,accuracy,lr\n"
          ]
        },
        {
          "output_type": "stream",
          "name": "stdout",
          "text": [
            "\b\b\b\b\b\b\b\b\b\b\b\b\b\b\b\b\b\b\b\b\b\b\b\b\b\b\b\b\b\b\b\b\b\b\b\b\b\b\b\b\b\b\b\b\b\b\b\b\b\b\b\b\b\b\b\b\b\b\b\b\b\b\b\b\b\b\b\b\b\b\b\b\b\b\b\b\b\b\b\b\b\b\b\b\b\b\b\b\r157/157 [==============================] - 1s 7ms/step - loss: 4.3036e-04 - accuracy: 1.0000 - lr: 3.0000e-05\n",
            "Epoch 61/200\n",
            "155/157 [============================>.] - ETA: 0s - loss: 4.2838e-04 - accuracy: 1.0000"
          ]
        },
        {
          "output_type": "stream",
          "name": "stderr",
          "text": [
            "WARNING:tensorflow:Early stopping conditioned on metric `val_loss` which is not available. Available metrics are: loss,accuracy\n",
            "WARNING:tensorflow:Learning rate reduction is conditioned on metric `val_loss` which is not available. Available metrics are: loss,accuracy,lr\n"
          ]
        },
        {
          "output_type": "stream",
          "name": "stdout",
          "text": [
            "\b\b\b\b\b\b\b\b\b\b\b\b\b\b\b\b\b\b\b\b\b\b\b\b\b\b\b\b\b\b\b\b\b\b\b\b\b\b\b\b\b\b\b\b\b\b\b\b\b\b\b\b\b\b\b\b\b\b\b\b\b\b\b\b\b\b\b\b\b\b\b\b\b\b\b\b\b\b\b\b\b\b\b\b\b\b\b\b\r157/157 [==============================] - 1s 7ms/step - loss: 4.2797e-04 - accuracy: 1.0000 - lr: 3.0000e-05\n",
            "Epoch 62/200\n",
            "155/157 [============================>.] - ETA: 0s - loss: 3.5589e-04 - accuracy: 1.0000"
          ]
        },
        {
          "output_type": "stream",
          "name": "stderr",
          "text": [
            "WARNING:tensorflow:Early stopping conditioned on metric `val_loss` which is not available. Available metrics are: loss,accuracy\n",
            "WARNING:tensorflow:Learning rate reduction is conditioned on metric `val_loss` which is not available. Available metrics are: loss,accuracy,lr\n"
          ]
        },
        {
          "output_type": "stream",
          "name": "stdout",
          "text": [
            "\b\b\b\b\b\b\b\b\b\b\b\b\b\b\b\b\b\b\b\b\b\b\b\b\b\b\b\b\b\b\b\b\b\b\b\b\b\b\b\b\b\b\b\b\b\b\b\b\b\b\b\b\b\b\b\b\b\b\b\b\b\b\b\b\b\b\b\b\b\b\b\b\b\b\b\b\b\b\b\b\b\b\b\b\b\b\b\b\r157/157 [==============================] - 1s 7ms/step - loss: 3.5607e-04 - accuracy: 1.0000 - lr: 3.0000e-05\n",
            "Epoch 63/200\n",
            "156/157 [============================>.] - ETA: 0s - loss: 3.1468e-04 - accuracy: 1.0000"
          ]
        },
        {
          "output_type": "stream",
          "name": "stderr",
          "text": [
            "WARNING:tensorflow:Early stopping conditioned on metric `val_loss` which is not available. Available metrics are: loss,accuracy\n",
            "WARNING:tensorflow:Learning rate reduction is conditioned on metric `val_loss` which is not available. Available metrics are: loss,accuracy,lr\n"
          ]
        },
        {
          "output_type": "stream",
          "name": "stdout",
          "text": [
            "\b\b\b\b\b\b\b\b\b\b\b\b\b\b\b\b\b\b\b\b\b\b\b\b\b\b\b\b\b\b\b\b\b\b\b\b\b\b\b\b\b\b\b\b\b\b\b\b\b\b\b\b\b\b\b\b\b\b\b\b\b\b\b\b\b\b\b\b\b\b\b\b\b\b\b\b\b\b\b\b\b\b\b\b\b\b\b\b\r157/157 [==============================] - 1s 7ms/step - loss: 3.1442e-04 - accuracy: 1.0000 - lr: 3.0000e-05\n",
            "Epoch 64/200\n",
            "150/157 [===========================>..] - ETA: 0s - loss: 3.0299e-04 - accuracy: 1.0000"
          ]
        },
        {
          "output_type": "stream",
          "name": "stderr",
          "text": [
            "WARNING:tensorflow:Early stopping conditioned on metric `val_loss` which is not available. Available metrics are: loss,accuracy\n",
            "WARNING:tensorflow:Learning rate reduction is conditioned on metric `val_loss` which is not available. Available metrics are: loss,accuracy,lr\n"
          ]
        },
        {
          "output_type": "stream",
          "name": "stdout",
          "text": [
            "\b\b\b\b\b\b\b\b\b\b\b\b\b\b\b\b\b\b\b\b\b\b\b\b\b\b\b\b\b\b\b\b\b\b\b\b\b\b\b\b\b\b\b\b\b\b\b\b\b\b\b\b\b\b\b\b\b\b\b\b\b\b\b\b\b\b\b\b\b\b\b\b\b\b\b\b\b\b\b\b\b\b\b\b\b\b\b\b\r157/157 [==============================] - 1s 7ms/step - loss: 3.0485e-04 - accuracy: 1.0000 - lr: 3.0000e-05\n",
            "Epoch 65/200\n",
            "155/157 [============================>.] - ETA: 0s - loss: 2.8349e-04 - accuracy: 1.0000"
          ]
        },
        {
          "output_type": "stream",
          "name": "stderr",
          "text": [
            "WARNING:tensorflow:Early stopping conditioned on metric `val_loss` which is not available. Available metrics are: loss,accuracy\n",
            "WARNING:tensorflow:Learning rate reduction is conditioned on metric `val_loss` which is not available. Available metrics are: loss,accuracy,lr\n"
          ]
        },
        {
          "output_type": "stream",
          "name": "stdout",
          "text": [
            "\b\b\b\b\b\b\b\b\b\b\b\b\b\b\b\b\b\b\b\b\b\b\b\b\b\b\b\b\b\b\b\b\b\b\b\b\b\b\b\b\b\b\b\b\b\b\b\b\b\b\b\b\b\b\b\b\b\b\b\b\b\b\b\b\b\b\b\b\b\b\b\b\b\b\b\b\b\b\b\b\b\b\b\b\b\b\b\b\r157/157 [==============================] - 1s 7ms/step - loss: 2.8423e-04 - accuracy: 1.0000 - lr: 3.0000e-05\n",
            "Epoch 66/200\n",
            "157/157 [==============================] - ETA: 0s - loss: 2.4914e-04 - accuracy: 1.0000"
          ]
        },
        {
          "output_type": "stream",
          "name": "stderr",
          "text": [
            "WARNING:tensorflow:Early stopping conditioned on metric `val_loss` which is not available. Available metrics are: loss,accuracy\n",
            "WARNING:tensorflow:Learning rate reduction is conditioned on metric `val_loss` which is not available. Available metrics are: loss,accuracy,lr\n"
          ]
        },
        {
          "output_type": "stream",
          "name": "stdout",
          "text": [
            "\b\b\b\b\b\b\b\b\b\b\b\b\b\b\b\b\b\b\b\b\b\b\b\b\b\b\b\b\b\b\b\b\b\b\b\b\b\b\b\b\b\b\b\b\b\b\b\b\b\b\b\b\b\b\b\b\b\b\b\b\b\b\b\b\b\b\b\b\b\b\b\b\b\b\b\b\b\b\b\b\b\b\b\b\b\b\b\b\r157/157 [==============================] - 1s 7ms/step - loss: 2.4914e-04 - accuracy: 1.0000 - lr: 3.0000e-05\n",
            "Epoch 67/200\n",
            "156/157 [============================>.] - ETA: 0s - loss: 2.6224e-04 - accuracy: 1.0000"
          ]
        },
        {
          "output_type": "stream",
          "name": "stderr",
          "text": [
            "WARNING:tensorflow:Early stopping conditioned on metric `val_loss` which is not available. Available metrics are: loss,accuracy\n",
            "WARNING:tensorflow:Learning rate reduction is conditioned on metric `val_loss` which is not available. Available metrics are: loss,accuracy,lr\n"
          ]
        },
        {
          "output_type": "stream",
          "name": "stdout",
          "text": [
            "\b\b\b\b\b\b\b\b\b\b\b\b\b\b\b\b\b\b\b\b\b\b\b\b\b\b\b\b\b\b\b\b\b\b\b\b\b\b\b\b\b\b\b\b\b\b\b\b\b\b\b\b\b\b\b\b\b\b\b\b\b\b\b\b\b\b\b\b\b\b\b\b\b\b\b\b\b\b\b\b\b\b\b\b\b\b\b\b\r157/157 [==============================] - 1s 7ms/step - loss: 2.6219e-04 - accuracy: 1.0000 - lr: 3.0000e-05\n",
            "Epoch 68/200\n",
            "155/157 [============================>.] - ETA: 0s - loss: 2.0137e-04 - accuracy: 1.0000"
          ]
        },
        {
          "output_type": "stream",
          "name": "stderr",
          "text": [
            "WARNING:tensorflow:Early stopping conditioned on metric `val_loss` which is not available. Available metrics are: loss,accuracy\n",
            "WARNING:tensorflow:Learning rate reduction is conditioned on metric `val_loss` which is not available. Available metrics are: loss,accuracy,lr\n"
          ]
        },
        {
          "output_type": "stream",
          "name": "stdout",
          "text": [
            "\b\b\b\b\b\b\b\b\b\b\b\b\b\b\b\b\b\b\b\b\b\b\b\b\b\b\b\b\b\b\b\b\b\b\b\b\b\b\b\b\b\b\b\b\b\b\b\b\b\b\b\b\b\b\b\b\b\b\b\b\b\b\b\b\b\b\b\b\b\b\b\b\b\b\b\b\b\b\b\b\b\b\b\b\b\b\b\b\r157/157 [==============================] - 1s 7ms/step - loss: 2.0004e-04 - accuracy: 1.0000 - lr: 3.0000e-05\n",
            "Epoch 69/200\n",
            "152/157 [============================>.] - ETA: 0s - loss: 2.0639e-04 - accuracy: 1.0000"
          ]
        },
        {
          "output_type": "stream",
          "name": "stderr",
          "text": [
            "WARNING:tensorflow:Early stopping conditioned on metric `val_loss` which is not available. Available metrics are: loss,accuracy\n",
            "WARNING:tensorflow:Learning rate reduction is conditioned on metric `val_loss` which is not available. Available metrics are: loss,accuracy,lr\n"
          ]
        },
        {
          "output_type": "stream",
          "name": "stdout",
          "text": [
            "\b\b\b\b\b\b\b\b\b\b\b\b\b\b\b\b\b\b\b\b\b\b\b\b\b\b\b\b\b\b\b\b\b\b\b\b\b\b\b\b\b\b\b\b\b\b\b\b\b\b\b\b\b\b\b\b\b\b\b\b\b\b\b\b\b\b\b\b\b\b\b\b\b\b\b\b\b\b\b\b\b\b\b\b\b\b\b\b\r157/157 [==============================] - 1s 7ms/step - loss: 2.1044e-04 - accuracy: 1.0000 - lr: 3.0000e-05\n",
            "Epoch 70/200\n",
            "154/157 [============================>.] - ETA: 0s - loss: 1.6347e-04 - accuracy: 1.0000"
          ]
        },
        {
          "output_type": "stream",
          "name": "stderr",
          "text": [
            "WARNING:tensorflow:Early stopping conditioned on metric `val_loss` which is not available. Available metrics are: loss,accuracy\n",
            "WARNING:tensorflow:Learning rate reduction is conditioned on metric `val_loss` which is not available. Available metrics are: loss,accuracy,lr\n"
          ]
        },
        {
          "output_type": "stream",
          "name": "stdout",
          "text": [
            "\b\b\b\b\b\b\b\b\b\b\b\b\b\b\b\b\b\b\b\b\b\b\b\b\b\b\b\b\b\b\b\b\b\b\b\b\b\b\b\b\b\b\b\b\b\b\b\b\b\b\b\b\b\b\b\b\b\b\b\b\b\b\b\b\b\b\b\b\b\b\b\b\b\b\b\b\b\b\b\b\b\b\b\b\b\b\b\b\r157/157 [==============================] - 1s 7ms/step - loss: 1.6244e-04 - accuracy: 1.0000 - lr: 3.0000e-05\n",
            "Epoch 71/200\n",
            "155/157 [============================>.] - ETA: 0s - loss: 1.4292e-04 - accuracy: 1.0000"
          ]
        },
        {
          "output_type": "stream",
          "name": "stderr",
          "text": [
            "WARNING:tensorflow:Early stopping conditioned on metric `val_loss` which is not available. Available metrics are: loss,accuracy\n",
            "WARNING:tensorflow:Learning rate reduction is conditioned on metric `val_loss` which is not available. Available metrics are: loss,accuracy,lr\n"
          ]
        },
        {
          "output_type": "stream",
          "name": "stdout",
          "text": [
            "\b\b\b\b\b\b\b\b\b\b\b\b\b\b\b\b\b\b\b\b\b\b\b\b\b\b\b\b\b\b\b\b\b\b\b\b\b\b\b\b\b\b\b\b\b\b\b\b\b\b\b\b\b\b\b\b\b\b\b\b\b\b\b\b\b\b\b\b\b\b\b\b\b\b\b\b\b\b\b\b\b\b\b\b\b\b\b\b\r157/157 [==============================] - 1s 7ms/step - loss: 1.4189e-04 - accuracy: 1.0000 - lr: 3.0000e-05\n",
            "Epoch 72/200\n",
            "156/157 [============================>.] - ETA: 0s - loss: 1.3786e-04 - accuracy: 1.0000"
          ]
        },
        {
          "output_type": "stream",
          "name": "stderr",
          "text": [
            "WARNING:tensorflow:Early stopping conditioned on metric `val_loss` which is not available. Available metrics are: loss,accuracy\n",
            "WARNING:tensorflow:Learning rate reduction is conditioned on metric `val_loss` which is not available. Available metrics are: loss,accuracy,lr\n"
          ]
        },
        {
          "output_type": "stream",
          "name": "stdout",
          "text": [
            "\b\b\b\b\b\b\b\b\b\b\b\b\b\b\b\b\b\b\b\b\b\b\b\b\b\b\b\b\b\b\b\b\b\b\b\b\b\b\b\b\b\b\b\b\b\b\b\b\b\b\b\b\b\b\b\b\b\b\b\b\b\b\b\b\b\b\b\b\b\b\b\b\b\b\b\b\b\b\b\b\b\b\b\b\b\b\b\b\r157/157 [==============================] - 1s 7ms/step - loss: 1.3751e-04 - accuracy: 1.0000 - lr: 3.0000e-05\n",
            "Epoch 73/200\n",
            "155/157 [============================>.] - ETA: 0s - loss: 1.4159e-04 - accuracy: 1.0000"
          ]
        },
        {
          "output_type": "stream",
          "name": "stderr",
          "text": [
            "WARNING:tensorflow:Early stopping conditioned on metric `val_loss` which is not available. Available metrics are: loss,accuracy\n",
            "WARNING:tensorflow:Learning rate reduction is conditioned on metric `val_loss` which is not available. Available metrics are: loss,accuracy,lr\n"
          ]
        },
        {
          "output_type": "stream",
          "name": "stdout",
          "text": [
            "\b\b\b\b\b\b\b\b\b\b\b\b\b\b\b\b\b\b\b\b\b\b\b\b\b\b\b\b\b\b\b\b\b\b\b\b\b\b\b\b\b\b\b\b\b\b\b\b\b\b\b\b\b\b\b\b\b\b\b\b\b\b\b\b\b\b\b\b\b\b\b\b\b\b\b\b\b\b\b\b\b\b\b\b\b\b\b\b\r157/157 [==============================] - 1s 7ms/step - loss: 1.4094e-04 - accuracy: 1.0000 - lr: 3.0000e-05\n",
            "Epoch 74/200\n",
            "156/157 [============================>.] - ETA: 0s - loss: 1.1630e-04 - accuracy: 1.0000"
          ]
        },
        {
          "output_type": "stream",
          "name": "stderr",
          "text": [
            "WARNING:tensorflow:Early stopping conditioned on metric `val_loss` which is not available. Available metrics are: loss,accuracy\n",
            "WARNING:tensorflow:Learning rate reduction is conditioned on metric `val_loss` which is not available. Available metrics are: loss,accuracy,lr\n"
          ]
        },
        {
          "output_type": "stream",
          "name": "stdout",
          "text": [
            "\b\b\b\b\b\b\b\b\b\b\b\b\b\b\b\b\b\b\b\b\b\b\b\b\b\b\b\b\b\b\b\b\b\b\b\b\b\b\b\b\b\b\b\b\b\b\b\b\b\b\b\b\b\b\b\b\b\b\b\b\b\b\b\b\b\b\b\b\b\b\b\b\b\b\b\b\b\b\b\b\b\b\b\b\b\b\b\b\r157/157 [==============================] - 1s 7ms/step - loss: 1.1609e-04 - accuracy: 1.0000 - lr: 3.0000e-05\n",
            "Epoch 75/200\n",
            "157/157 [==============================] - ETA: 0s - loss: 1.1029e-04 - accuracy: 1.0000"
          ]
        },
        {
          "output_type": "stream",
          "name": "stderr",
          "text": [
            "WARNING:tensorflow:Early stopping conditioned on metric `val_loss` which is not available. Available metrics are: loss,accuracy\n",
            "WARNING:tensorflow:Learning rate reduction is conditioned on metric `val_loss` which is not available. Available metrics are: loss,accuracy,lr\n"
          ]
        },
        {
          "output_type": "stream",
          "name": "stdout",
          "text": [
            "\b\b\b\b\b\b\b\b\b\b\b\b\b\b\b\b\b\b\b\b\b\b\b\b\b\b\b\b\b\b\b\b\b\b\b\b\b\b\b\b\b\b\b\b\b\b\b\b\b\b\b\b\b\b\b\b\b\b\b\b\b\b\b\b\b\b\b\b\b\b\b\b\b\b\b\b\b\b\b\b\b\b\b\b\b\b\b\b\r157/157 [==============================] - 1s 7ms/step - loss: 1.1029e-04 - accuracy: 1.0000 - lr: 3.0000e-05\n",
            "Epoch 76/200\n",
            "156/157 [============================>.] - ETA: 0s - loss: 1.0399e-04 - accuracy: 1.0000"
          ]
        },
        {
          "output_type": "stream",
          "name": "stderr",
          "text": [
            "WARNING:tensorflow:Early stopping conditioned on metric `val_loss` which is not available. Available metrics are: loss,accuracy\n",
            "WARNING:tensorflow:Learning rate reduction is conditioned on metric `val_loss` which is not available. Available metrics are: loss,accuracy,lr\n"
          ]
        },
        {
          "output_type": "stream",
          "name": "stdout",
          "text": [
            "\b\b\b\b\b\b\b\b\b\b\b\b\b\b\b\b\b\b\b\b\b\b\b\b\b\b\b\b\b\b\b\b\b\b\b\b\b\b\b\b\b\b\b\b\b\b\b\b\b\b\b\b\b\b\b\b\b\b\b\b\b\b\b\b\b\b\b\b\b\b\b\b\b\b\b\b\b\b\b\b\b\b\b\b\b\b\b\b\r157/157 [==============================] - 1s 7ms/step - loss: 1.0368e-04 - accuracy: 1.0000 - lr: 3.0000e-05\n",
            "Epoch 77/200\n",
            "154/157 [============================>.] - ETA: 0s - loss: 9.3411e-05 - accuracy: 1.0000"
          ]
        },
        {
          "output_type": "stream",
          "name": "stderr",
          "text": [
            "WARNING:tensorflow:Early stopping conditioned on metric `val_loss` which is not available. Available metrics are: loss,accuracy\n",
            "WARNING:tensorflow:Learning rate reduction is conditioned on metric `val_loss` which is not available. Available metrics are: loss,accuracy,lr\n"
          ]
        },
        {
          "output_type": "stream",
          "name": "stdout",
          "text": [
            "\b\b\b\b\b\b\b\b\b\b\b\b\b\b\b\b\b\b\b\b\b\b\b\b\b\b\b\b\b\b\b\b\b\b\b\b\b\b\b\b\b\b\b\b\b\b\b\b\b\b\b\b\b\b\b\b\b\b\b\b\b\b\b\b\b\b\b\b\b\b\b\b\b\b\b\b\b\b\b\b\b\b\b\b\b\b\b\b\r157/157 [==============================] - 1s 7ms/step - loss: 9.2370e-05 - accuracy: 1.0000 - lr: 3.0000e-05\n",
            "Epoch 78/200\n",
            "157/157 [==============================] - ETA: 0s - loss: 7.7930e-05 - accuracy: 1.0000"
          ]
        },
        {
          "output_type": "stream",
          "name": "stderr",
          "text": [
            "WARNING:tensorflow:Early stopping conditioned on metric `val_loss` which is not available. Available metrics are: loss,accuracy\n",
            "WARNING:tensorflow:Learning rate reduction is conditioned on metric `val_loss` which is not available. Available metrics are: loss,accuracy,lr\n"
          ]
        },
        {
          "output_type": "stream",
          "name": "stdout",
          "text": [
            "\b\b\b\b\b\b\b\b\b\b\b\b\b\b\b\b\b\b\b\b\b\b\b\b\b\b\b\b\b\b\b\b\b\b\b\b\b\b\b\b\b\b\b\b\b\b\b\b\b\b\b\b\b\b\b\b\b\b\b\b\b\b\b\b\b\b\b\b\b\b\b\b\b\b\b\b\b\b\b\b\b\b\b\b\b\b\b\b\r157/157 [==============================] - 1s 7ms/step - loss: 7.7930e-05 - accuracy: 1.0000 - lr: 3.0000e-05\n",
            "Epoch 79/200\n",
            "152/157 [============================>.] - ETA: 0s - loss: 8.0500e-05 - accuracy: 1.0000"
          ]
        },
        {
          "output_type": "stream",
          "name": "stderr",
          "text": [
            "WARNING:tensorflow:Early stopping conditioned on metric `val_loss` which is not available. Available metrics are: loss,accuracy\n",
            "WARNING:tensorflow:Learning rate reduction is conditioned on metric `val_loss` which is not available. Available metrics are: loss,accuracy,lr\n"
          ]
        },
        {
          "output_type": "stream",
          "name": "stdout",
          "text": [
            "\b\b\b\b\b\b\b\b\b\b\b\b\b\b\b\b\b\b\b\b\b\b\b\b\b\b\b\b\b\b\b\b\b\b\b\b\b\b\b\b\b\b\b\b\b\b\b\b\b\b\b\b\b\b\b\b\b\b\b\b\b\b\b\b\b\b\b\b\b\b\b\b\b\b\b\b\b\b\b\b\b\b\b\b\b\b\b\b\r157/157 [==============================] - 1s 7ms/step - loss: 8.0544e-05 - accuracy: 1.0000 - lr: 3.0000e-05\n",
            "Epoch 80/200\n",
            "157/157 [==============================] - ETA: 0s - loss: 8.2740e-05 - accuracy: 1.0000"
          ]
        },
        {
          "output_type": "stream",
          "name": "stderr",
          "text": [
            "WARNING:tensorflow:Early stopping conditioned on metric `val_loss` which is not available. Available metrics are: loss,accuracy\n",
            "WARNING:tensorflow:Learning rate reduction is conditioned on metric `val_loss` which is not available. Available metrics are: loss,accuracy,lr\n"
          ]
        },
        {
          "output_type": "stream",
          "name": "stdout",
          "text": [
            "\b\b\b\b\b\b\b\b\b\b\b\b\b\b\b\b\b\b\b\b\b\b\b\b\b\b\b\b\b\b\b\b\b\b\b\b\b\b\b\b\b\b\b\b\b\b\b\b\b\b\b\b\b\b\b\b\b\b\b\b\b\b\b\b\b\b\b\b\b\b\b\b\b\b\b\b\b\b\b\b\b\b\b\b\b\b\b\b\r157/157 [==============================] - 1s 7ms/step - loss: 8.2740e-05 - accuracy: 1.0000 - lr: 3.0000e-05\n",
            "Epoch 81/200\n",
            "157/157 [==============================] - ETA: 0s - loss: 5.7340e-05 - accuracy: 1.0000"
          ]
        },
        {
          "output_type": "stream",
          "name": "stderr",
          "text": [
            "WARNING:tensorflow:Early stopping conditioned on metric `val_loss` which is not available. Available metrics are: loss,accuracy\n",
            "WARNING:tensorflow:Learning rate reduction is conditioned on metric `val_loss` which is not available. Available metrics are: loss,accuracy,lr\n"
          ]
        },
        {
          "output_type": "stream",
          "name": "stdout",
          "text": [
            "\b\b\b\b\b\b\b\b\b\b\b\b\b\b\b\b\b\b\b\b\b\b\b\b\b\b\b\b\b\b\b\b\b\b\b\b\b\b\b\b\b\b\b\b\b\b\b\b\b\b\b\b\b\b\b\b\b\b\b\b\b\b\b\b\b\b\b\b\b\b\b\b\b\b\b\b\b\b\b\b\b\b\b\b\b\b\b\b\r157/157 [==============================] - 1s 7ms/step - loss: 5.7340e-05 - accuracy: 1.0000 - lr: 3.0000e-05\n",
            "Epoch 82/200\n",
            "152/157 [============================>.] - ETA: 0s - loss: 6.2154e-05 - accuracy: 1.0000"
          ]
        },
        {
          "output_type": "stream",
          "name": "stderr",
          "text": [
            "WARNING:tensorflow:Early stopping conditioned on metric `val_loss` which is not available. Available metrics are: loss,accuracy\n",
            "WARNING:tensorflow:Learning rate reduction is conditioned on metric `val_loss` which is not available. Available metrics are: loss,accuracy,lr\n"
          ]
        },
        {
          "output_type": "stream",
          "name": "stdout",
          "text": [
            "\b\b\b\b\b\b\b\b\b\b\b\b\b\b\b\b\b\b\b\b\b\b\b\b\b\b\b\b\b\b\b\b\b\b\b\b\b\b\b\b\b\b\b\b\b\b\b\b\b\b\b\b\b\b\b\b\b\b\b\b\b\b\b\b\b\b\b\b\b\b\b\b\b\b\b\b\b\b\b\b\b\b\b\b\b\b\b\b\r157/157 [==============================] - 1s 7ms/step - loss: 6.2167e-05 - accuracy: 1.0000 - lr: 3.0000e-05\n",
            "Epoch 83/200\n",
            "151/157 [===========================>..] - ETA: 0s - loss: 5.4667e-05 - accuracy: 1.0000"
          ]
        },
        {
          "output_type": "stream",
          "name": "stderr",
          "text": [
            "WARNING:tensorflow:Early stopping conditioned on metric `val_loss` which is not available. Available metrics are: loss,accuracy\n",
            "WARNING:tensorflow:Learning rate reduction is conditioned on metric `val_loss` which is not available. Available metrics are: loss,accuracy,lr\n"
          ]
        },
        {
          "output_type": "stream",
          "name": "stdout",
          "text": [
            "\b\b\b\b\b\b\b\b\b\b\b\b\b\b\b\b\b\b\b\b\b\b\b\b\b\b\b\b\b\b\b\b\b\b\b\b\b\b\b\b\b\b\b\b\b\b\b\b\b\b\b\b\b\b\b\b\b\b\b\b\b\b\b\b\b\b\b\b\b\b\b\b\b\b\b\b\b\b\b\b\b\b\b\b\b\b\b\b\r157/157 [==============================] - 1s 7ms/step - loss: 5.4346e-05 - accuracy: 1.0000 - lr: 3.0000e-05\n",
            "Epoch 84/200\n",
            "155/157 [============================>.] - ETA: 0s - loss: 6.4226e-05 - accuracy: 1.0000"
          ]
        },
        {
          "output_type": "stream",
          "name": "stderr",
          "text": [
            "WARNING:tensorflow:Early stopping conditioned on metric `val_loss` which is not available. Available metrics are: loss,accuracy\n",
            "WARNING:tensorflow:Learning rate reduction is conditioned on metric `val_loss` which is not available. Available metrics are: loss,accuracy,lr\n"
          ]
        },
        {
          "output_type": "stream",
          "name": "stdout",
          "text": [
            "\b\b\b\b\b\b\b\b\b\b\b\b\b\b\b\b\b\b\b\b\b\b\b\b\b\b\b\b\b\b\b\b\b\b\b\b\b\b\b\b\b\b\b\b\b\b\b\b\b\b\b\b\b\b\b\b\b\b\b\b\b\b\b\b\b\b\b\b\b\b\b\b\b\b\b\b\b\b\b\b\b\b\b\b\b\b\b\b\r157/157 [==============================] - 1s 7ms/step - loss: 6.4105e-05 - accuracy: 1.0000 - lr: 3.0000e-05\n",
            "Epoch 85/200\n",
            "156/157 [============================>.] - ETA: 0s - loss: 5.2969e-05 - accuracy: 1.0000"
          ]
        },
        {
          "output_type": "stream",
          "name": "stderr",
          "text": [
            "WARNING:tensorflow:Early stopping conditioned on metric `val_loss` which is not available. Available metrics are: loss,accuracy\n",
            "WARNING:tensorflow:Learning rate reduction is conditioned on metric `val_loss` which is not available. Available metrics are: loss,accuracy,lr\n"
          ]
        },
        {
          "output_type": "stream",
          "name": "stdout",
          "text": [
            "\b\b\b\b\b\b\b\b\b\b\b\b\b\b\b\b\b\b\b\b\b\b\b\b\b\b\b\b\b\b\b\b\b\b\b\b\b\b\b\b\b\b\b\b\b\b\b\b\b\b\b\b\b\b\b\b\b\b\b\b\b\b\b\b\b\b\b\b\b\b\b\b\b\b\b\b\b\b\b\b\b\b\b\b\b\b\b\b\r157/157 [==============================] - 1s 7ms/step - loss: 5.2903e-05 - accuracy: 1.0000 - lr: 3.0000e-05\n",
            "Epoch 86/200\n",
            "152/157 [============================>.] - ETA: 0s - loss: 3.8850e-05 - accuracy: 1.0000"
          ]
        },
        {
          "output_type": "stream",
          "name": "stderr",
          "text": [
            "WARNING:tensorflow:Early stopping conditioned on metric `val_loss` which is not available. Available metrics are: loss,accuracy\n",
            "WARNING:tensorflow:Learning rate reduction is conditioned on metric `val_loss` which is not available. Available metrics are: loss,accuracy,lr\n"
          ]
        },
        {
          "output_type": "stream",
          "name": "stdout",
          "text": [
            "\b\b\b\b\b\b\b\b\b\b\b\b\b\b\b\b\b\b\b\b\b\b\b\b\b\b\b\b\b\b\b\b\b\b\b\b\b\b\b\b\b\b\b\b\b\b\b\b\b\b\b\b\b\b\b\b\b\b\b\b\b\b\b\b\b\b\b\b\b\b\b\b\b\b\b\b\b\b\b\b\b\b\b\b\b\b\b\b\r157/157 [==============================] - 1s 7ms/step - loss: 3.8312e-05 - accuracy: 1.0000 - lr: 3.0000e-05\n",
            "Epoch 87/200\n",
            "151/157 [===========================>..] - ETA: 0s - loss: 4.2121e-05 - accuracy: 1.0000"
          ]
        },
        {
          "output_type": "stream",
          "name": "stderr",
          "text": [
            "WARNING:tensorflow:Early stopping conditioned on metric `val_loss` which is not available. Available metrics are: loss,accuracy\n",
            "WARNING:tensorflow:Learning rate reduction is conditioned on metric `val_loss` which is not available. Available metrics are: loss,accuracy,lr\n"
          ]
        },
        {
          "output_type": "stream",
          "name": "stdout",
          "text": [
            "\b\b\b\b\b\b\b\b\b\b\b\b\b\b\b\b\b\b\b\b\b\b\b\b\b\b\b\b\b\b\b\b\b\b\b\b\b\b\b\b\b\b\b\b\b\b\b\b\b\b\b\b\b\b\b\b\b\b\b\b\b\b\b\b\b\b\b\b\b\b\b\b\b\b\b\b\b\b\b\b\b\b\b\b\b\b\b\b\r157/157 [==============================] - 1s 7ms/step - loss: 4.1967e-05 - accuracy: 1.0000 - lr: 3.0000e-05\n",
            "Epoch 88/200\n",
            "155/157 [============================>.] - ETA: 0s - loss: 3.1953e-05 - accuracy: 1.0000"
          ]
        },
        {
          "output_type": "stream",
          "name": "stderr",
          "text": [
            "WARNING:tensorflow:Early stopping conditioned on metric `val_loss` which is not available. Available metrics are: loss,accuracy\n",
            "WARNING:tensorflow:Learning rate reduction is conditioned on metric `val_loss` which is not available. Available metrics are: loss,accuracy,lr\n"
          ]
        },
        {
          "output_type": "stream",
          "name": "stdout",
          "text": [
            "\b\b\b\b\b\b\b\b\b\b\b\b\b\b\b\b\b\b\b\b\b\b\b\b\b\b\b\b\b\b\b\b\b\b\b\b\b\b\b\b\b\b\b\b\b\b\b\b\b\b\b\b\b\b\b\b\b\b\b\b\b\b\b\b\b\b\b\b\b\b\b\b\b\b\b\b\b\b\b\b\b\b\b\b\b\b\b\b\r157/157 [==============================] - 1s 7ms/step - loss: 3.1789e-05 - accuracy: 1.0000 - lr: 3.0000e-05\n",
            "Epoch 89/200\n",
            "156/157 [============================>.] - ETA: 0s - loss: 4.2082e-05 - accuracy: 1.0000"
          ]
        },
        {
          "output_type": "stream",
          "name": "stderr",
          "text": [
            "WARNING:tensorflow:Early stopping conditioned on metric `val_loss` which is not available. Available metrics are: loss,accuracy\n",
            "WARNING:tensorflow:Learning rate reduction is conditioned on metric `val_loss` which is not available. Available metrics are: loss,accuracy,lr\n"
          ]
        },
        {
          "output_type": "stream",
          "name": "stdout",
          "text": [
            "\b\b\b\b\b\b\b\b\b\b\b\b\b\b\b\b\b\b\b\b\b\b\b\b\b\b\b\b\b\b\b\b\b\b\b\b\b\b\b\b\b\b\b\b\b\b\b\b\b\b\b\b\b\b\b\b\b\b\b\b\b\b\b\b\b\b\b\b\b\b\b\b\b\b\b\b\b\b\b\b\b\b\b\b\b\b\b\b\r157/157 [==============================] - 1s 7ms/step - loss: 4.1959e-05 - accuracy: 1.0000 - lr: 3.0000e-05\n",
            "Epoch 90/200\n",
            "154/157 [============================>.] - ETA: 0s - loss: 2.9146e-05 - accuracy: 1.0000"
          ]
        },
        {
          "output_type": "stream",
          "name": "stderr",
          "text": [
            "WARNING:tensorflow:Early stopping conditioned on metric `val_loss` which is not available. Available metrics are: loss,accuracy\n",
            "WARNING:tensorflow:Learning rate reduction is conditioned on metric `val_loss` which is not available. Available metrics are: loss,accuracy,lr\n"
          ]
        },
        {
          "output_type": "stream",
          "name": "stdout",
          "text": [
            "\b\b\b\b\b\b\b\b\b\b\b\b\b\b\b\b\b\b\b\b\b\b\b\b\b\b\b\b\b\b\b\b\b\b\b\b\b\b\b\b\b\b\b\b\b\b\b\b\b\b\b\b\b\b\b\b\b\b\b\b\b\b\b\b\b\b\b\b\b\b\b\b\b\b\b\b\b\b\b\b\b\b\b\b\b\b\b\b\r157/157 [==============================] - 1s 7ms/step - loss: 2.9063e-05 - accuracy: 1.0000 - lr: 3.0000e-05\n",
            "Epoch 91/200\n",
            "154/157 [============================>.] - ETA: 0s - loss: 2.5983e-05 - accuracy: 1.0000"
          ]
        },
        {
          "output_type": "stream",
          "name": "stderr",
          "text": [
            "WARNING:tensorflow:Early stopping conditioned on metric `val_loss` which is not available. Available metrics are: loss,accuracy\n",
            "WARNING:tensorflow:Learning rate reduction is conditioned on metric `val_loss` which is not available. Available metrics are: loss,accuracy,lr\n"
          ]
        },
        {
          "output_type": "stream",
          "name": "stdout",
          "text": [
            "\b\b\b\b\b\b\b\b\b\b\b\b\b\b\b\b\b\b\b\b\b\b\b\b\b\b\b\b\b\b\b\b\b\b\b\b\b\b\b\b\b\b\b\b\b\b\b\b\b\b\b\b\b\b\b\b\b\b\b\b\b\b\b\b\b\b\b\b\b\b\b\b\b\b\b\b\b\b\b\b\b\b\b\b\b\b\b\b\r157/157 [==============================] - 1s 7ms/step - loss: 2.6075e-05 - accuracy: 1.0000 - lr: 3.0000e-05\n",
            "Epoch 92/200\n",
            "151/157 [===========================>..] - ETA: 0s - loss: 2.4521e-05 - accuracy: 1.0000"
          ]
        },
        {
          "output_type": "stream",
          "name": "stderr",
          "text": [
            "WARNING:tensorflow:Early stopping conditioned on metric `val_loss` which is not available. Available metrics are: loss,accuracy\n",
            "WARNING:tensorflow:Learning rate reduction is conditioned on metric `val_loss` which is not available. Available metrics are: loss,accuracy,lr\n"
          ]
        },
        {
          "output_type": "stream",
          "name": "stdout",
          "text": [
            "\b\b\b\b\b\b\b\b\b\b\b\b\b\b\b\b\b\b\b\b\b\b\b\b\b\b\b\b\b\b\b\b\b\b\b\b\b\b\b\b\b\b\b\b\b\b\b\b\b\b\b\b\b\b\b\b\b\b\b\b\b\b\b\b\b\b\b\b\b\b\b\b\b\b\b\b\b\b\b\b\b\b\b\b\b\b\b\b\r157/157 [==============================] - 1s 7ms/step - loss: 2.4418e-05 - accuracy: 1.0000 - lr: 3.0000e-05\n",
            "Epoch 93/200\n",
            "152/157 [============================>.] - ETA: 0s - loss: 3.1398e-05 - accuracy: 1.0000"
          ]
        },
        {
          "output_type": "stream",
          "name": "stderr",
          "text": [
            "WARNING:tensorflow:Early stopping conditioned on metric `val_loss` which is not available. Available metrics are: loss,accuracy\n",
            "WARNING:tensorflow:Learning rate reduction is conditioned on metric `val_loss` which is not available. Available metrics are: loss,accuracy,lr\n"
          ]
        },
        {
          "output_type": "stream",
          "name": "stdout",
          "text": [
            "\b\b\b\b\b\b\b\b\b\b\b\b\b\b\b\b\b\b\b\b\b\b\b\b\b\b\b\b\b\b\b\b\b\b\b\b\b\b\b\b\b\b\b\b\b\b\b\b\b\b\b\b\b\b\b\b\b\b\b\b\b\b\b\b\b\b\b\b\b\b\b\b\b\b\b\b\b\b\b\b\b\b\b\b\b\b\b\b\r157/157 [==============================] - 1s 7ms/step - loss: 3.1474e-05 - accuracy: 1.0000 - lr: 3.0000e-05\n",
            "Epoch 94/200\n",
            "152/157 [============================>.] - ETA: 0s - loss: 2.3410e-05 - accuracy: 1.0000"
          ]
        },
        {
          "output_type": "stream",
          "name": "stderr",
          "text": [
            "WARNING:tensorflow:Early stopping conditioned on metric `val_loss` which is not available. Available metrics are: loss,accuracy\n",
            "WARNING:tensorflow:Learning rate reduction is conditioned on metric `val_loss` which is not available. Available metrics are: loss,accuracy,lr\n"
          ]
        },
        {
          "output_type": "stream",
          "name": "stdout",
          "text": [
            "\b\b\b\b\b\b\b\b\b\b\b\b\b\b\b\b\b\b\b\b\b\b\b\b\b\b\b\b\b\b\b\b\b\b\b\b\b\b\b\b\b\b\b\b\b\b\b\b\b\b\b\b\b\b\b\b\b\b\b\b\b\b\b\b\b\b\b\b\b\b\b\b\b\b\b\b\b\b\b\b\b\b\b\b\b\b\b\b\r157/157 [==============================] - 1s 7ms/step - loss: 2.4059e-05 - accuracy: 1.0000 - lr: 3.0000e-05\n",
            "Epoch 95/200\n",
            "152/157 [============================>.] - ETA: 0s - loss: 2.1936e-05 - accuracy: 1.0000"
          ]
        },
        {
          "output_type": "stream",
          "name": "stderr",
          "text": [
            "WARNING:tensorflow:Early stopping conditioned on metric `val_loss` which is not available. Available metrics are: loss,accuracy\n",
            "WARNING:tensorflow:Learning rate reduction is conditioned on metric `val_loss` which is not available. Available metrics are: loss,accuracy,lr\n"
          ]
        },
        {
          "output_type": "stream",
          "name": "stdout",
          "text": [
            "\b\b\b\b\b\b\b\b\b\b\b\b\b\b\b\b\b\b\b\b\b\b\b\b\b\b\b\b\b\b\b\b\b\b\b\b\b\b\b\b\b\b\b\b\b\b\b\b\b\b\b\b\b\b\b\b\b\b\b\b\b\b\b\b\b\b\b\b\b\b\b\b\b\b\b\b\b\b\b\b\b\b\b\b\b\b\b\b\r157/157 [==============================] - 1s 7ms/step - loss: 2.1524e-05 - accuracy: 1.0000 - lr: 3.0000e-05\n",
            "Epoch 96/200\n",
            "155/157 [============================>.] - ETA: 0s - loss: 2.5418e-05 - accuracy: 1.0000"
          ]
        },
        {
          "output_type": "stream",
          "name": "stderr",
          "text": [
            "WARNING:tensorflow:Early stopping conditioned on metric `val_loss` which is not available. Available metrics are: loss,accuracy\n",
            "WARNING:tensorflow:Learning rate reduction is conditioned on metric `val_loss` which is not available. Available metrics are: loss,accuracy,lr\n"
          ]
        },
        {
          "output_type": "stream",
          "name": "stdout",
          "text": [
            "\b\b\b\b\b\b\b\b\b\b\b\b\b\b\b\b\b\b\b\b\b\b\b\b\b\b\b\b\b\b\b\b\b\b\b\b\b\b\b\b\b\b\b\b\b\b\b\b\b\b\b\b\b\b\b\b\b\b\b\b\b\b\b\b\b\b\b\b\b\b\b\b\b\b\b\b\b\b\b\b\b\b\b\b\b\b\b\b\r157/157 [==============================] - 1s 7ms/step - loss: 2.5278e-05 - accuracy: 1.0000 - lr: 3.0000e-05\n",
            "Epoch 97/200\n",
            "155/157 [============================>.] - ETA: 0s - loss: 1.6006e-05 - accuracy: 1.0000"
          ]
        },
        {
          "output_type": "stream",
          "name": "stderr",
          "text": [
            "WARNING:tensorflow:Early stopping conditioned on metric `val_loss` which is not available. Available metrics are: loss,accuracy\n",
            "WARNING:tensorflow:Learning rate reduction is conditioned on metric `val_loss` which is not available. Available metrics are: loss,accuracy,lr\n"
          ]
        },
        {
          "output_type": "stream",
          "name": "stdout",
          "text": [
            "\b\b\b\b\b\b\b\b\b\b\b\b\b\b\b\b\b\b\b\b\b\b\b\b\b\b\b\b\b\b\b\b\b\b\b\b\b\b\b\b\b\b\b\b\b\b\b\b\b\b\b\b\b\b\b\b\b\b\b\b\b\b\b\b\b\b\b\b\b\b\b\b\b\b\b\b\b\b\b\b\b\b\b\b\b\b\b\b\r157/157 [==============================] - 1s 7ms/step - loss: 1.5939e-05 - accuracy: 1.0000 - lr: 3.0000e-05\n",
            "Epoch 98/200\n",
            "155/157 [============================>.] - ETA: 0s - loss: 1.1972e-05 - accuracy: 1.0000"
          ]
        },
        {
          "output_type": "stream",
          "name": "stderr",
          "text": [
            "WARNING:tensorflow:Early stopping conditioned on metric `val_loss` which is not available. Available metrics are: loss,accuracy\n",
            "WARNING:tensorflow:Learning rate reduction is conditioned on metric `val_loss` which is not available. Available metrics are: loss,accuracy,lr\n"
          ]
        },
        {
          "output_type": "stream",
          "name": "stdout",
          "text": [
            "\b\b\b\b\b\b\b\b\b\b\b\b\b\b\b\b\b\b\b\b\b\b\b\b\b\b\b\b\b\b\b\b\b\b\b\b\b\b\b\b\b\b\b\b\b\b\b\b\b\b\b\b\b\b\b\b\b\b\b\b\b\b\b\b\b\b\b\b\b\b\b\b\b\b\b\b\b\b\b\b\b\b\b\b\b\b\b\b\r157/157 [==============================] - 1s 7ms/step - loss: 1.1924e-05 - accuracy: 1.0000 - lr: 3.0000e-05\n",
            "Epoch 99/200\n",
            "156/157 [============================>.] - ETA: 0s - loss: 1.4543e-05 - accuracy: 1.0000"
          ]
        },
        {
          "output_type": "stream",
          "name": "stderr",
          "text": [
            "WARNING:tensorflow:Early stopping conditioned on metric `val_loss` which is not available. Available metrics are: loss,accuracy\n",
            "WARNING:tensorflow:Learning rate reduction is conditioned on metric `val_loss` which is not available. Available metrics are: loss,accuracy,lr\n"
          ]
        },
        {
          "output_type": "stream",
          "name": "stdout",
          "text": [
            "\b\b\b\b\b\b\b\b\b\b\b\b\b\b\b\b\b\b\b\b\b\b\b\b\b\b\b\b\b\b\b\b\b\b\b\b\b\b\b\b\b\b\b\b\b\b\b\b\b\b\b\b\b\b\b\b\b\b\b\b\b\b\b\b\b\b\b\b\b\b\b\b\b\b\b\b\b\b\b\b\b\b\b\b\b\b\b\b\r157/157 [==============================] - 1s 7ms/step - loss: 1.4506e-05 - accuracy: 1.0000 - lr: 3.0000e-05\n",
            "Epoch 100/200\n",
            "157/157 [==============================] - ETA: 0s - loss: 1.3565e-05 - accuracy: 1.0000"
          ]
        },
        {
          "output_type": "stream",
          "name": "stderr",
          "text": [
            "WARNING:tensorflow:Early stopping conditioned on metric `val_loss` which is not available. Available metrics are: loss,accuracy\n",
            "WARNING:tensorflow:Learning rate reduction is conditioned on metric `val_loss` which is not available. Available metrics are: loss,accuracy,lr\n"
          ]
        },
        {
          "output_type": "stream",
          "name": "stdout",
          "text": [
            "\b\b\b\b\b\b\b\b\b\b\b\b\b\b\b\b\b\b\b\b\b\b\b\b\b\b\b\b\b\b\b\b\b\b\b\b\b\b\b\b\b\b\b\b\b\b\b\b\b\b\b\b\b\b\b\b\b\b\b\b\b\b\b\b\b\b\b\b\b\b\b\b\b\b\b\b\b\b\b\b\b\b\b\b\b\b\b\b\r157/157 [==============================] - 1s 7ms/step - loss: 1.3565e-05 - accuracy: 1.0000 - lr: 3.0000e-05\n",
            "Epoch 101/200\n",
            "157/157 [==============================] - ETA: 0s - loss: 1.3046e-05 - accuracy: 1.0000"
          ]
        },
        {
          "output_type": "stream",
          "name": "stderr",
          "text": [
            "WARNING:tensorflow:Early stopping conditioned on metric `val_loss` which is not available. Available metrics are: loss,accuracy\n",
            "WARNING:tensorflow:Learning rate reduction is conditioned on metric `val_loss` which is not available. Available metrics are: loss,accuracy,lr\n"
          ]
        },
        {
          "output_type": "stream",
          "name": "stdout",
          "text": [
            "\b\b\b\b\b\b\b\b\b\b\b\b\b\b\b\b\b\b\b\b\b\b\b\b\b\b\b\b\b\b\b\b\b\b\b\b\b\b\b\b\b\b\b\b\b\b\b\b\b\b\b\b\b\b\b\b\b\b\b\b\b\b\b\b\b\b\b\b\b\b\b\b\b\b\b\b\b\b\b\b\b\b\b\b\b\b\b\b\r157/157 [==============================] - 1s 7ms/step - loss: 1.3046e-05 - accuracy: 1.0000 - lr: 3.0000e-05\n",
            "Epoch 102/200\n",
            "156/157 [============================>.] - ETA: 0s - loss: 1.4141e-05 - accuracy: 1.0000"
          ]
        },
        {
          "output_type": "stream",
          "name": "stderr",
          "text": [
            "WARNING:tensorflow:Early stopping conditioned on metric `val_loss` which is not available. Available metrics are: loss,accuracy\n",
            "WARNING:tensorflow:Learning rate reduction is conditioned on metric `val_loss` which is not available. Available metrics are: loss,accuracy,lr\n"
          ]
        },
        {
          "output_type": "stream",
          "name": "stdout",
          "text": [
            "\b\b\b\b\b\b\b\b\b\b\b\b\b\b\b\b\b\b\b\b\b\b\b\b\b\b\b\b\b\b\b\b\b\b\b\b\b\b\b\b\b\b\b\b\b\b\b\b\b\b\b\b\b\b\b\b\b\b\b\b\b\b\b\b\b\b\b\b\b\b\b\b\b\b\b\b\b\b\b\b\b\b\b\b\b\b\b\b\r157/157 [==============================] - 1s 7ms/step - loss: 1.4095e-05 - accuracy: 1.0000 - lr: 3.0000e-05\n",
            "Epoch 103/200\n",
            "152/157 [============================>.] - ETA: 0s - loss: 8.7014e-06 - accuracy: 1.0000"
          ]
        },
        {
          "output_type": "stream",
          "name": "stderr",
          "text": [
            "WARNING:tensorflow:Early stopping conditioned on metric `val_loss` which is not available. Available metrics are: loss,accuracy\n",
            "WARNING:tensorflow:Learning rate reduction is conditioned on metric `val_loss` which is not available. Available metrics are: loss,accuracy,lr\n"
          ]
        },
        {
          "output_type": "stream",
          "name": "stdout",
          "text": [
            "\b\b\b\b\b\b\b\b\b\b\b\b\b\b\b\b\b\b\b\b\b\b\b\b\b\b\b\b\b\b\b\b\b\b\b\b\b\b\b\b\b\b\b\b\b\b\b\b\b\b\b\b\b\b\b\b\b\b\b\b\b\b\b\b\b\b\b\b\b\b\b\b\b\b\b\b\b\b\b\b\b\b\b\b\b\b\b\b\r157/157 [==============================] - 1s 7ms/step - loss: 8.8654e-06 - accuracy: 1.0000 - lr: 3.0000e-05\n",
            "Epoch 104/200\n",
            "157/157 [==============================] - ETA: 0s - loss: 8.8272e-06 - accuracy: 1.0000"
          ]
        },
        {
          "output_type": "stream",
          "name": "stderr",
          "text": [
            "WARNING:tensorflow:Early stopping conditioned on metric `val_loss` which is not available. Available metrics are: loss,accuracy\n",
            "WARNING:tensorflow:Learning rate reduction is conditioned on metric `val_loss` which is not available. Available metrics are: loss,accuracy,lr\n"
          ]
        },
        {
          "output_type": "stream",
          "name": "stdout",
          "text": [
            "\b\b\b\b\b\b\b\b\b\b\b\b\b\b\b\b\b\b\b\b\b\b\b\b\b\b\b\b\b\b\b\b\b\b\b\b\b\b\b\b\b\b\b\b\b\b\b\b\b\b\b\b\b\b\b\b\b\b\b\b\b\b\b\b\b\b\b\b\b\b\b\b\b\b\b\b\b\b\b\b\b\b\b\b\b\b\b\b\r157/157 [==============================] - 1s 7ms/step - loss: 8.8272e-06 - accuracy: 1.0000 - lr: 3.0000e-05\n",
            "Epoch 105/200\n",
            "156/157 [============================>.] - ETA: 0s - loss: 1.6611e-05 - accuracy: 1.0000"
          ]
        },
        {
          "output_type": "stream",
          "name": "stderr",
          "text": [
            "WARNING:tensorflow:Early stopping conditioned on metric `val_loss` which is not available. Available metrics are: loss,accuracy\n",
            "WARNING:tensorflow:Learning rate reduction is conditioned on metric `val_loss` which is not available. Available metrics are: loss,accuracy,lr\n"
          ]
        },
        {
          "output_type": "stream",
          "name": "stdout",
          "text": [
            "\b\b\b\b\b\b\b\b\b\b\b\b\b\b\b\b\b\b\b\b\b\b\b\b\b\b\b\b\b\b\b\b\b\b\b\b\b\b\b\b\b\b\b\b\b\b\b\b\b\b\b\b\b\b\b\b\b\b\b\b\b\b\b\b\b\b\b\b\b\b\b\b\b\b\b\b\b\b\b\b\b\b\b\b\b\b\b\b\r157/157 [==============================] - 1s 7ms/step - loss: 1.6567e-05 - accuracy: 1.0000 - lr: 3.0000e-05\n",
            "Epoch 106/200\n",
            "157/157 [==============================] - ETA: 0s - loss: 8.3186e-06 - accuracy: 1.0000"
          ]
        },
        {
          "output_type": "stream",
          "name": "stderr",
          "text": [
            "WARNING:tensorflow:Early stopping conditioned on metric `val_loss` which is not available. Available metrics are: loss,accuracy\n",
            "WARNING:tensorflow:Learning rate reduction is conditioned on metric `val_loss` which is not available. Available metrics are: loss,accuracy,lr\n"
          ]
        },
        {
          "output_type": "stream",
          "name": "stdout",
          "text": [
            "\b\b\b\b\b\b\b\b\b\b\b\b\b\b\b\b\b\b\b\b\b\b\b\b\b\b\b\b\b\b\b\b\b\b\b\b\b\b\b\b\b\b\b\b\b\b\b\b\b\b\b\b\b\b\b\b\b\b\b\b\b\b\b\b\b\b\b\b\b\b\b\b\b\b\b\b\b\b\b\b\b\b\b\b\b\b\b\b\r157/157 [==============================] - 1s 7ms/step - loss: 8.3186e-06 - accuracy: 1.0000 - lr: 3.0000e-05\n",
            "Epoch 107/200\n",
            "153/157 [============================>.] - ETA: 0s - loss: 7.4363e-06 - accuracy: 1.0000"
          ]
        },
        {
          "output_type": "stream",
          "name": "stderr",
          "text": [
            "WARNING:tensorflow:Early stopping conditioned on metric `val_loss` which is not available. Available metrics are: loss,accuracy\n",
            "WARNING:tensorflow:Learning rate reduction is conditioned on metric `val_loss` which is not available. Available metrics are: loss,accuracy,lr\n"
          ]
        },
        {
          "output_type": "stream",
          "name": "stdout",
          "text": [
            "\b\b\b\b\b\b\b\b\b\b\b\b\b\b\b\b\b\b\b\b\b\b\b\b\b\b\b\b\b\b\b\b\b\b\b\b\b\b\b\b\b\b\b\b\b\b\b\b\b\b\b\b\b\b\b\b\b\b\b\b\b\b\b\b\b\b\b\b\b\b\b\b\b\b\b\b\b\b\b\b\b\b\b\b\b\b\b\b\r157/157 [==============================] - 1s 7ms/step - loss: 7.3620e-06 - accuracy: 1.0000 - lr: 3.0000e-05\n",
            "Epoch 108/200\n",
            "157/157 [==============================] - ETA: 0s - loss: 6.1535e-06 - accuracy: 1.0000"
          ]
        },
        {
          "output_type": "stream",
          "name": "stderr",
          "text": [
            "WARNING:tensorflow:Early stopping conditioned on metric `val_loss` which is not available. Available metrics are: loss,accuracy\n",
            "WARNING:tensorflow:Learning rate reduction is conditioned on metric `val_loss` which is not available. Available metrics are: loss,accuracy,lr\n"
          ]
        },
        {
          "output_type": "stream",
          "name": "stdout",
          "text": [
            "\b\b\b\b\b\b\b\b\b\b\b\b\b\b\b\b\b\b\b\b\b\b\b\b\b\b\b\b\b\b\b\b\b\b\b\b\b\b\b\b\b\b\b\b\b\b\b\b\b\b\b\b\b\b\b\b\b\b\b\b\b\b\b\b\b\b\b\b\b\b\b\b\b\b\b\b\b\b\b\b\b\b\b\b\b\b\b\b\r157/157 [==============================] - 1s 7ms/step - loss: 6.1535e-06 - accuracy: 1.0000 - lr: 3.0000e-05\n",
            "Epoch 109/200\n",
            "150/157 [===========================>..] - ETA: 0s - loss: 4.7283e-06 - accuracy: 1.0000"
          ]
        },
        {
          "output_type": "stream",
          "name": "stderr",
          "text": [
            "WARNING:tensorflow:Early stopping conditioned on metric `val_loss` which is not available. Available metrics are: loss,accuracy\n",
            "WARNING:tensorflow:Learning rate reduction is conditioned on metric `val_loss` which is not available. Available metrics are: loss,accuracy,lr\n"
          ]
        },
        {
          "output_type": "stream",
          "name": "stdout",
          "text": [
            "\b\b\b\b\b\b\b\b\b\b\b\b\b\b\b\b\b\b\b\b\b\b\b\b\b\b\b\b\b\b\b\b\b\b\b\b\b\b\b\b\b\b\b\b\b\b\b\b\b\b\b\b\b\b\b\b\b\b\b\b\b\b\b\b\b\b\b\b\b\b\b\b\b\b\b\b\b\b\b\b\b\b\b\b\b\b\b\b\r157/157 [==============================] - 1s 7ms/step - loss: 5.3735e-06 - accuracy: 1.0000 - lr: 3.0000e-05\n",
            "Epoch 110/200\n",
            "154/157 [============================>.] - ETA: 0s - loss: 7.2741e-06 - accuracy: 1.0000"
          ]
        },
        {
          "output_type": "stream",
          "name": "stderr",
          "text": [
            "WARNING:tensorflow:Early stopping conditioned on metric `val_loss` which is not available. Available metrics are: loss,accuracy\n",
            "WARNING:tensorflow:Learning rate reduction is conditioned on metric `val_loss` which is not available. Available metrics are: loss,accuracy,lr\n"
          ]
        },
        {
          "output_type": "stream",
          "name": "stdout",
          "text": [
            "\b\b\b\b\b\b\b\b\b\b\b\b\b\b\b\b\b\b\b\b\b\b\b\b\b\b\b\b\b\b\b\b\b\b\b\b\b\b\b\b\b\b\b\b\b\b\b\b\b\b\b\b\b\b\b\b\b\b\b\b\b\b\b\b\b\b\b\b\b\b\b\b\b\b\b\b\b\b\b\b\b\b\b\b\b\b\b\b\r157/157 [==============================] - 1s 7ms/step - loss: 7.2039e-06 - accuracy: 1.0000 - lr: 3.0000e-05\n",
            "Epoch 111/200\n",
            "157/157 [==============================] - ETA: 0s - loss: 7.8304e-06 - accuracy: 1.0000"
          ]
        },
        {
          "output_type": "stream",
          "name": "stderr",
          "text": [
            "WARNING:tensorflow:Early stopping conditioned on metric `val_loss` which is not available. Available metrics are: loss,accuracy\n",
            "WARNING:tensorflow:Learning rate reduction is conditioned on metric `val_loss` which is not available. Available metrics are: loss,accuracy,lr\n"
          ]
        },
        {
          "output_type": "stream",
          "name": "stdout",
          "text": [
            "\b\b\b\b\b\b\b\b\b\b\b\b\b\b\b\b\b\b\b\b\b\b\b\b\b\b\b\b\b\b\b\b\b\b\b\b\b\b\b\b\b\b\b\b\b\b\b\b\b\b\b\b\b\b\b\b\b\b\b\b\b\b\b\b\b\b\b\b\b\b\b\b\b\b\b\b\b\b\b\b\b\b\b\b\b\b\b\b\r157/157 [==============================] - 1s 7ms/step - loss: 7.8304e-06 - accuracy: 1.0000 - lr: 3.0000e-05\n",
            "Epoch 112/200\n",
            "154/157 [============================>.] - ETA: 0s - loss: 5.5585e-06 - accuracy: 1.0000"
          ]
        },
        {
          "output_type": "stream",
          "name": "stderr",
          "text": [
            "WARNING:tensorflow:Early stopping conditioned on metric `val_loss` which is not available. Available metrics are: loss,accuracy\n",
            "WARNING:tensorflow:Learning rate reduction is conditioned on metric `val_loss` which is not available. Available metrics are: loss,accuracy,lr\n"
          ]
        },
        {
          "output_type": "stream",
          "name": "stdout",
          "text": [
            "\b\b\b\b\b\b\b\b\b\b\b\b\b\b\b\b\b\b\b\b\b\b\b\b\b\b\b\b\b\b\b\b\b\b\b\b\b\b\b\b\b\b\b\b\b\b\b\b\b\b\b\b\b\b\b\b\b\b\b\b\b\b\b\b\b\b\b\b\b\b\b\b\b\b\b\b\b\b\b\b\b\b\b\b\b\b\b\b\r157/157 [==============================] - 1s 7ms/step - loss: 5.5539e-06 - accuracy: 1.0000 - lr: 3.0000e-05\n",
            "Epoch 113/200\n",
            "151/157 [===========================>..] - ETA: 0s - loss: 4.4945e-06 - accuracy: 1.0000"
          ]
        },
        {
          "output_type": "stream",
          "name": "stderr",
          "text": [
            "WARNING:tensorflow:Early stopping conditioned on metric `val_loss` which is not available. Available metrics are: loss,accuracy\n",
            "WARNING:tensorflow:Learning rate reduction is conditioned on metric `val_loss` which is not available. Available metrics are: loss,accuracy,lr\n"
          ]
        },
        {
          "output_type": "stream",
          "name": "stdout",
          "text": [
            "\b\b\b\b\b\b\b\b\b\b\b\b\b\b\b\b\b\b\b\b\b\b\b\b\b\b\b\b\b\b\b\b\b\b\b\b\b\b\b\b\b\b\b\b\b\b\b\b\b\b\b\b\b\b\b\b\b\b\b\b\b\b\b\b\b\b\b\b\b\b\b\b\b\b\b\b\b\b\b\b\b\b\b\b\b\b\b\b\r157/157 [==============================] - 1s 7ms/step - loss: 4.5320e-06 - accuracy: 1.0000 - lr: 3.0000e-05\n",
            "Epoch 114/200\n",
            "151/157 [===========================>..] - ETA: 0s - loss: 4.5167e-06 - accuracy: 1.0000"
          ]
        },
        {
          "output_type": "stream",
          "name": "stderr",
          "text": [
            "WARNING:tensorflow:Early stopping conditioned on metric `val_loss` which is not available. Available metrics are: loss,accuracy\n",
            "WARNING:tensorflow:Learning rate reduction is conditioned on metric `val_loss` which is not available. Available metrics are: loss,accuracy,lr\n"
          ]
        },
        {
          "output_type": "stream",
          "name": "stdout",
          "text": [
            "\b\b\b\b\b\b\b\b\b\b\b\b\b\b\b\b\b\b\b\b\b\b\b\b\b\b\b\b\b\b\b\b\b\b\b\b\b\b\b\b\b\b\b\b\b\b\b\b\b\b\b\b\b\b\b\b\b\b\b\b\b\b\b\b\b\b\b\b\b\b\b\b\b\b\b\b\b\b\b\b\b\b\b\b\b\b\b\b\r157/157 [==============================] - 1s 7ms/step - loss: 4.4519e-06 - accuracy: 1.0000 - lr: 3.0000e-05\n",
            "Epoch 115/200\n",
            "156/157 [============================>.] - ETA: 0s - loss: 4.2923e-06 - accuracy: 1.0000"
          ]
        },
        {
          "output_type": "stream",
          "name": "stderr",
          "text": [
            "WARNING:tensorflow:Early stopping conditioned on metric `val_loss` which is not available. Available metrics are: loss,accuracy\n",
            "WARNING:tensorflow:Learning rate reduction is conditioned on metric `val_loss` which is not available. Available metrics are: loss,accuracy,lr\n"
          ]
        },
        {
          "output_type": "stream",
          "name": "stdout",
          "text": [
            "\b\b\b\b\b\b\b\b\b\b\b\b\b\b\b\b\b\b\b\b\b\b\b\b\b\b\b\b\b\b\b\b\b\b\b\b\b\b\b\b\b\b\b\b\b\b\b\b\b\b\b\b\b\b\b\b\b\b\b\b\b\b\b\b\b\b\b\b\b\b\b\b\b\b\b\b\b\b\b\b\b\b\b\b\b\b\b\b\r157/157 [==============================] - 1s 7ms/step - loss: 4.2923e-06 - accuracy: 1.0000 - lr: 3.0000e-05\n",
            "Epoch 116/200\n",
            "154/157 [============================>.] - ETA: 0s - loss: 3.0184e-06 - accuracy: 1.0000"
          ]
        },
        {
          "output_type": "stream",
          "name": "stderr",
          "text": [
            "WARNING:tensorflow:Early stopping conditioned on metric `val_loss` which is not available. Available metrics are: loss,accuracy\n",
            "WARNING:tensorflow:Learning rate reduction is conditioned on metric `val_loss` which is not available. Available metrics are: loss,accuracy,lr\n"
          ]
        },
        {
          "output_type": "stream",
          "name": "stdout",
          "text": [
            "\b\b\b\b\b\b\b\b\b\b\b\b\b\b\b\b\b\b\b\b\b\b\b\b\b\b\b\b\b\b\b\b\b\b\b\b\b\b\b\b\b\b\b\b\b\b\b\b\b\b\b\b\b\b\b\b\b\b\b\b\b\b\b\b\b\b\b\b\b\b\b\b\b\b\b\b\b\b\b\b\b\b\b\b\b\b\b\b\r157/157 [==============================] - 1s 7ms/step - loss: 3.0181e-06 - accuracy: 1.0000 - lr: 3.0000e-05\n",
            "Epoch 117/200\n",
            "151/157 [===========================>..] - ETA: 0s - loss: 4.1848e-06 - accuracy: 1.0000"
          ]
        },
        {
          "output_type": "stream",
          "name": "stderr",
          "text": [
            "WARNING:tensorflow:Early stopping conditioned on metric `val_loss` which is not available. Available metrics are: loss,accuracy\n",
            "WARNING:tensorflow:Learning rate reduction is conditioned on metric `val_loss` which is not available. Available metrics are: loss,accuracy,lr\n"
          ]
        },
        {
          "output_type": "stream",
          "name": "stdout",
          "text": [
            "\b\b\b\b\b\b\b\b\b\b\b\b\b\b\b\b\b\b\b\b\b\b\b\b\b\b\b\b\b\b\b\b\b\b\b\b\b\b\b\b\b\b\b\b\b\b\b\b\b\b\b\b\b\b\b\b\b\b\b\b\b\b\b\b\b\b\b\b\b\b\b\b\b\b\b\b\b\b\b\b\b\b\b\b\b\b\b\b\r157/157 [==============================] - 1s 7ms/step - loss: 4.1781e-06 - accuracy: 1.0000 - lr: 3.0000e-05\n",
            "Epoch 118/200\n",
            "151/157 [===========================>..] - ETA: 0s - loss: 6.8498e-06 - accuracy: 1.0000"
          ]
        },
        {
          "output_type": "stream",
          "name": "stderr",
          "text": [
            "WARNING:tensorflow:Early stopping conditioned on metric `val_loss` which is not available. Available metrics are: loss,accuracy\n",
            "WARNING:tensorflow:Learning rate reduction is conditioned on metric `val_loss` which is not available. Available metrics are: loss,accuracy,lr\n"
          ]
        },
        {
          "output_type": "stream",
          "name": "stdout",
          "text": [
            "\b\b\b\b\b\b\b\b\b\b\b\b\b\b\b\b\b\b\b\b\b\b\b\b\b\b\b\b\b\b\b\b\b\b\b\b\b\b\b\b\b\b\b\b\b\b\b\b\b\b\b\b\b\b\b\b\b\b\b\b\b\b\b\b\b\b\b\b\b\b\b\b\b\b\b\b\b\b\b\b\b\b\b\b\b\b\b\b\r157/157 [==============================] - 1s 7ms/step - loss: 6.7152e-06 - accuracy: 1.0000 - lr: 3.0000e-05\n",
            "Epoch 119/200\n",
            "156/157 [============================>.] - ETA: 0s - loss: 4.0240e-06 - accuracy: 1.0000"
          ]
        },
        {
          "output_type": "stream",
          "name": "stderr",
          "text": [
            "WARNING:tensorflow:Early stopping conditioned on metric `val_loss` which is not available. Available metrics are: loss,accuracy\n",
            "WARNING:tensorflow:Learning rate reduction is conditioned on metric `val_loss` which is not available. Available metrics are: loss,accuracy,lr\n"
          ]
        },
        {
          "output_type": "stream",
          "name": "stdout",
          "text": [
            "\b\b\b\b\b\b\b\b\b\b\b\b\b\b\b\b\b\b\b\b\b\b\b\b\b\b\b\b\b\b\b\b\b\b\b\b\b\b\b\b\b\b\b\b\b\b\b\b\b\b\b\b\b\b\b\b\b\b\b\b\b\b\b\b\b\b\b\b\b\b\b\b\b\b\b\b\b\b\b\b\b\b\b\b\b\b\b\b\r157/157 [==============================] - 2s 10ms/step - loss: 4.0144e-06 - accuracy: 1.0000 - lr: 3.0000e-05\n",
            "Epoch 120/200\n",
            "154/157 [============================>.] - ETA: 0s - loss: 3.5125e-06 - accuracy: 1.0000"
          ]
        },
        {
          "output_type": "stream",
          "name": "stderr",
          "text": [
            "WARNING:tensorflow:Early stopping conditioned on metric `val_loss` which is not available. Available metrics are: loss,accuracy\n",
            "WARNING:tensorflow:Learning rate reduction is conditioned on metric `val_loss` which is not available. Available metrics are: loss,accuracy,lr\n"
          ]
        },
        {
          "output_type": "stream",
          "name": "stdout",
          "text": [
            "\b\b\b\b\b\b\b\b\b\b\b\b\b\b\b\b\b\b\b\b\b\b\b\b\b\b\b\b\b\b\b\b\b\b\b\b\b\b\b\b\b\b\b\b\b\b\b\b\b\b\b\b\b\b\b\b\b\b\b\b\b\b\b\b\b\b\b\b\b\b\b\b\b\b\b\b\b\b\b\b\b\b\b\b\b\b\b\b\r157/157 [==============================] - 2s 10ms/step - loss: 3.5033e-06 - accuracy: 1.0000 - lr: 3.0000e-05\n",
            "Epoch 121/200\n",
            "151/157 [===========================>..] - ETA: 0s - loss: 2.7740e-06 - accuracy: 1.0000"
          ]
        },
        {
          "output_type": "stream",
          "name": "stderr",
          "text": [
            "WARNING:tensorflow:Early stopping conditioned on metric `val_loss` which is not available. Available metrics are: loss,accuracy\n",
            "WARNING:tensorflow:Learning rate reduction is conditioned on metric `val_loss` which is not available. Available metrics are: loss,accuracy,lr\n"
          ]
        },
        {
          "output_type": "stream",
          "name": "stdout",
          "text": [
            "\b\b\b\b\b\b\b\b\b\b\b\b\b\b\b\b\b\b\b\b\b\b\b\b\b\b\b\b\b\b\b\b\b\b\b\b\b\b\b\b\b\b\b\b\b\b\b\b\b\b\b\b\b\b\b\b\b\b\b\b\b\b\b\b\b\b\b\b\b\b\b\b\b\b\b\b\b\b\b\b\b\b\b\b\b\b\b\b\r157/157 [==============================] - 2s 10ms/step - loss: 2.7502e-06 - accuracy: 1.0000 - lr: 3.0000e-05\n",
            "Epoch 122/200\n",
            "153/157 [============================>.] - ETA: 0s - loss: 2.2111e-06 - accuracy: 1.0000"
          ]
        },
        {
          "output_type": "stream",
          "name": "stderr",
          "text": [
            "WARNING:tensorflow:Early stopping conditioned on metric `val_loss` which is not available. Available metrics are: loss,accuracy\n",
            "WARNING:tensorflow:Learning rate reduction is conditioned on metric `val_loss` which is not available. Available metrics are: loss,accuracy,lr\n"
          ]
        },
        {
          "output_type": "stream",
          "name": "stdout",
          "text": [
            "\b\b\b\b\b\b\b\b\b\b\b\b\b\b\b\b\b\b\b\b\b\b\b\b\b\b\b\b\b\b\b\b\b\b\b\b\b\b\b\b\b\b\b\b\b\b\b\b\b\b\b\b\b\b\b\b\b\b\b\b\b\b\b\b\b\b\b\b\b\b\b\b\b\b\b\b\b\b\b\b\b\b\b\b\b\b\b\b\r157/157 [==============================] - 2s 10ms/step - loss: 2.1748e-06 - accuracy: 1.0000 - lr: 3.0000e-05\n",
            "Epoch 123/200\n",
            "150/157 [===========================>..] - ETA: 0s - loss: 1.7527e-06 - accuracy: 1.0000"
          ]
        },
        {
          "output_type": "stream",
          "name": "stderr",
          "text": [
            "WARNING:tensorflow:Early stopping conditioned on metric `val_loss` which is not available. Available metrics are: loss,accuracy\n",
            "WARNING:tensorflow:Learning rate reduction is conditioned on metric `val_loss` which is not available. Available metrics are: loss,accuracy,lr\n"
          ]
        },
        {
          "output_type": "stream",
          "name": "stdout",
          "text": [
            "\b\b\b\b\b\b\b\b\b\b\b\b\b\b\b\b\b\b\b\b\b\b\b\b\b\b\b\b\b\b\b\b\b\b\b\b\b\b\b\b\b\b\b\b\b\b\b\b\b\b\b\b\b\b\b\b\b\b\b\b\b\b\b\b\b\b\b\b\b\b\b\b\b\b\b\b\b\b\b\b\b\b\b\b\b\b\b\b\r157/157 [==============================] - 1s 8ms/step - loss: 1.8433e-06 - accuracy: 1.0000 - lr: 3.0000e-05\n",
            "Epoch 124/200\n",
            "155/157 [============================>.] - ETA: 0s - loss: 3.9562e-06 - accuracy: 1.0000"
          ]
        },
        {
          "output_type": "stream",
          "name": "stderr",
          "text": [
            "WARNING:tensorflow:Early stopping conditioned on metric `val_loss` which is not available. Available metrics are: loss,accuracy\n",
            "WARNING:tensorflow:Learning rate reduction is conditioned on metric `val_loss` which is not available. Available metrics are: loss,accuracy,lr\n"
          ]
        },
        {
          "output_type": "stream",
          "name": "stdout",
          "text": [
            "\b\b\b\b\b\b\b\b\b\b\b\b\b\b\b\b\b\b\b\b\b\b\b\b\b\b\b\b\b\b\b\b\b\b\b\b\b\b\b\b\b\b\b\b\b\b\b\b\b\b\b\b\b\b\b\b\b\b\b\b\b\b\b\b\b\b\b\b\b\b\b\b\b\b\b\b\b\b\b\b\b\b\b\b\b\b\b\b\r157/157 [==============================] - 1s 7ms/step - loss: 3.9332e-06 - accuracy: 1.0000 - lr: 3.0000e-05\n",
            "Epoch 125/200\n",
            "153/157 [============================>.] - ETA: 0s - loss: 1.8900e-06 - accuracy: 1.0000"
          ]
        },
        {
          "output_type": "stream",
          "name": "stderr",
          "text": [
            "WARNING:tensorflow:Early stopping conditioned on metric `val_loss` which is not available. Available metrics are: loss,accuracy\n",
            "WARNING:tensorflow:Learning rate reduction is conditioned on metric `val_loss` which is not available. Available metrics are: loss,accuracy,lr\n"
          ]
        },
        {
          "output_type": "stream",
          "name": "stdout",
          "text": [
            "\b\b\b\b\b\b\b\b\b\b\b\b\b\b\b\b\b\b\b\b\b\b\b\b\b\b\b\b\b\b\b\b\b\b\b\b\b\b\b\b\b\b\b\b\b\b\b\b\b\b\b\b\b\b\b\b\b\b\b\b\b\b\b\b\b\b\b\b\b\b\b\b\b\b\b\b\b\b\b\b\b\b\b\b\b\b\b\b\r157/157 [==============================] - 1s 7ms/step - loss: 2.0091e-06 - accuracy: 1.0000 - lr: 3.0000e-05\n",
            "Epoch 126/200\n",
            "153/157 [============================>.] - ETA: 0s - loss: 1.6338e-06 - accuracy: 1.0000"
          ]
        },
        {
          "output_type": "stream",
          "name": "stderr",
          "text": [
            "WARNING:tensorflow:Early stopping conditioned on metric `val_loss` which is not available. Available metrics are: loss,accuracy\n",
            "WARNING:tensorflow:Learning rate reduction is conditioned on metric `val_loss` which is not available. Available metrics are: loss,accuracy,lr\n"
          ]
        },
        {
          "output_type": "stream",
          "name": "stdout",
          "text": [
            "\b\b\b\b\b\b\b\b\b\b\b\b\b\b\b\b\b\b\b\b\b\b\b\b\b\b\b\b\b\b\b\b\b\b\b\b\b\b\b\b\b\b\b\b\b\b\b\b\b\b\b\b\b\b\b\b\b\b\b\b\b\b\b\b\b\b\b\b\b\b\b\b\b\b\b\b\b\b\b\b\b\b\b\b\b\b\b\b\r157/157 [==============================] - 1s 7ms/step - loss: 1.6131e-06 - accuracy: 1.0000 - lr: 3.0000e-05\n",
            "Epoch 127/200\n",
            "155/157 [============================>.] - ETA: 0s - loss: 1.0628e-05 - accuracy: 1.0000"
          ]
        },
        {
          "output_type": "stream",
          "name": "stderr",
          "text": [
            "WARNING:tensorflow:Early stopping conditioned on metric `val_loss` which is not available. Available metrics are: loss,accuracy\n",
            "WARNING:tensorflow:Learning rate reduction is conditioned on metric `val_loss` which is not available. Available metrics are: loss,accuracy,lr\n"
          ]
        },
        {
          "output_type": "stream",
          "name": "stdout",
          "text": [
            "\b\b\b\b\b\b\b\b\b\b\b\b\b\b\b\b\b\b\b\b\b\b\b\b\b\b\b\b\b\b\b\b\b\b\b\b\b\b\b\b\b\b\b\b\b\b\b\b\b\b\b\b\b\b\b\b\b\b\b\b\b\b\b\b\b\b\b\b\b\b\b\b\b\b\b\b\b\b\b\b\b\b\b\b\b\b\b\b\r157/157 [==============================] - 1s 7ms/step - loss: 1.0540e-05 - accuracy: 1.0000 - lr: 3.0000e-05\n",
            "Epoch 128/200\n",
            "154/157 [============================>.] - ETA: 0s - loss: 4.9291e-06 - accuracy: 1.0000"
          ]
        },
        {
          "output_type": "stream",
          "name": "stderr",
          "text": [
            "WARNING:tensorflow:Early stopping conditioned on metric `val_loss` which is not available. Available metrics are: loss,accuracy\n",
            "WARNING:tensorflow:Learning rate reduction is conditioned on metric `val_loss` which is not available. Available metrics are: loss,accuracy,lr\n"
          ]
        },
        {
          "output_type": "stream",
          "name": "stdout",
          "text": [
            "\b\b\b\b\b\b\b\b\b\b\b\b\b\b\b\b\b\b\b\b\b\b\b\b\b\b\b\b\b\b\b\b\b\b\b\b\b\b\b\b\b\b\b\b\b\b\b\b\b\b\b\b\b\b\b\b\b\b\b\b\b\b\b\b\b\b\b\b\b\b\b\b\b\b\b\b\b\b\b\b\b\b\b\b\b\b\b\b\r157/157 [==============================] - 1s 7ms/step - loss: 4.8765e-06 - accuracy: 1.0000 - lr: 3.0000e-05\n",
            "Epoch 129/200\n",
            "152/157 [============================>.] - ETA: 0s - loss: 2.7974e-06 - accuracy: 1.0000"
          ]
        },
        {
          "output_type": "stream",
          "name": "stderr",
          "text": [
            "WARNING:tensorflow:Early stopping conditioned on metric `val_loss` which is not available. Available metrics are: loss,accuracy\n",
            "WARNING:tensorflow:Learning rate reduction is conditioned on metric `val_loss` which is not available. Available metrics are: loss,accuracy,lr\n"
          ]
        },
        {
          "output_type": "stream",
          "name": "stdout",
          "text": [
            "\b\b\b\b\b\b\b\b\b\b\b\b\b\b\b\b\b\b\b\b\b\b\b\b\b\b\b\b\b\b\b\b\b\b\b\b\b\b\b\b\b\b\b\b\b\b\b\b\b\b\b\b\b\b\b\b\b\b\b\b\b\b\b\b\b\b\b\b\b\b\b\b\b\b\b\b\b\b\b\b\b\b\b\b\b\b\b\b\r157/157 [==============================] - 1s 7ms/step - loss: 2.9001e-06 - accuracy: 1.0000 - lr: 3.0000e-05\n",
            "Epoch 130/200\n",
            "157/157 [==============================] - ETA: 0s - loss: 2.2731e-06 - accuracy: 1.0000"
          ]
        },
        {
          "output_type": "stream",
          "name": "stderr",
          "text": [
            "WARNING:tensorflow:Early stopping conditioned on metric `val_loss` which is not available. Available metrics are: loss,accuracy\n",
            "WARNING:tensorflow:Learning rate reduction is conditioned on metric `val_loss` which is not available. Available metrics are: loss,accuracy,lr\n"
          ]
        },
        {
          "output_type": "stream",
          "name": "stdout",
          "text": [
            "\b\b\b\b\b\b\b\b\b\b\b\b\b\b\b\b\b\b\b\b\b\b\b\b\b\b\b\b\b\b\b\b\b\b\b\b\b\b\b\b\b\b\b\b\b\b\b\b\b\b\b\b\b\b\b\b\b\b\b\b\b\b\b\b\b\b\b\b\b\b\b\b\b\b\b\b\b\b\b\b\b\b\b\b\b\b\b\b\r157/157 [==============================] - 1s 7ms/step - loss: 2.2731e-06 - accuracy: 1.0000 - lr: 3.0000e-05\n",
            "Epoch 131/200\n",
            "154/157 [============================>.] - ETA: 0s - loss: 1.9660e-06 - accuracy: 1.0000"
          ]
        },
        {
          "output_type": "stream",
          "name": "stderr",
          "text": [
            "WARNING:tensorflow:Early stopping conditioned on metric `val_loss` which is not available. Available metrics are: loss,accuracy\n",
            "WARNING:tensorflow:Learning rate reduction is conditioned on metric `val_loss` which is not available. Available metrics are: loss,accuracy,lr\n"
          ]
        },
        {
          "output_type": "stream",
          "name": "stdout",
          "text": [
            "\b\b\b\b\b\b\b\b\b\b\b\b\b\b\b\b\b\b\b\b\b\b\b\b\b\b\b\b\b\b\b\b\b\b\b\b\b\b\b\b\b\b\b\b\b\b\b\b\b\b\b\b\b\b\b\b\b\b\b\b\b\b\b\b\b\b\b\b\b\b\b\b\b\b\b\b\b\b\b\b\b\b\b\b\b\b\b\b\r157/157 [==============================] - 1s 7ms/step - loss: 1.9854e-06 - accuracy: 1.0000 - lr: 3.0000e-05\n",
            "Epoch 132/200\n",
            "156/157 [============================>.] - ETA: 0s - loss: 1.7030e-06 - accuracy: 1.0000"
          ]
        },
        {
          "output_type": "stream",
          "name": "stderr",
          "text": [
            "WARNING:tensorflow:Early stopping conditioned on metric `val_loss` which is not available. Available metrics are: loss,accuracy\n",
            "WARNING:tensorflow:Learning rate reduction is conditioned on metric `val_loss` which is not available. Available metrics are: loss,accuracy,lr\n"
          ]
        },
        {
          "output_type": "stream",
          "name": "stdout",
          "text": [
            "\b\b\b\b\b\b\b\b\b\b\b\b\b\b\b\b\b\b\b\b\b\b\b\b\b\b\b\b\b\b\b\b\b\b\b\b\b\b\b\b\b\b\b\b\b\b\b\b\b\b\b\b\b\b\b\b\b\b\b\b\b\b\b\b\b\b\b\b\b\b\b\b\b\b\b\b\b\b\b\b\b\b\b\b\b\b\b\b\r157/157 [==============================] - 1s 7ms/step - loss: 1.6983e-06 - accuracy: 1.0000 - lr: 3.0000e-05\n",
            "Epoch 133/200\n",
            "157/157 [==============================] - ETA: 0s - loss: 1.1554e-06 - accuracy: 1.0000"
          ]
        },
        {
          "output_type": "stream",
          "name": "stderr",
          "text": [
            "WARNING:tensorflow:Early stopping conditioned on metric `val_loss` which is not available. Available metrics are: loss,accuracy\n",
            "WARNING:tensorflow:Learning rate reduction is conditioned on metric `val_loss` which is not available. Available metrics are: loss,accuracy,lr\n"
          ]
        },
        {
          "output_type": "stream",
          "name": "stdout",
          "text": [
            "\b\b\b\b\b\b\b\b\b\b\b\b\b\b\b\b\b\b\b\b\b\b\b\b\b\b\b\b\b\b\b\b\b\b\b\b\b\b\b\b\b\b\b\b\b\b\b\b\b\b\b\b\b\b\b\b\b\b\b\b\b\b\b\b\b\b\b\b\b\b\b\b\b\b\b\b\b\b\b\b\b\b\b\b\b\b\b\b\r157/157 [==============================] - 1s 7ms/step - loss: 1.1554e-06 - accuracy: 1.0000 - lr: 3.0000e-05\n",
            "Epoch 134/200\n",
            "150/157 [===========================>..] - ETA: 0s - loss: 1.3744e-06 - accuracy: 1.0000"
          ]
        },
        {
          "output_type": "stream",
          "name": "stderr",
          "text": [
            "WARNING:tensorflow:Early stopping conditioned on metric `val_loss` which is not available. Available metrics are: loss,accuracy\n",
            "WARNING:tensorflow:Learning rate reduction is conditioned on metric `val_loss` which is not available. Available metrics are: loss,accuracy,lr\n"
          ]
        },
        {
          "output_type": "stream",
          "name": "stdout",
          "text": [
            "\b\b\b\b\b\b\b\b\b\b\b\b\b\b\b\b\b\b\b\b\b\b\b\b\b\b\b\b\b\b\b\b\b\b\b\b\b\b\b\b\b\b\b\b\b\b\b\b\b\b\b\b\b\b\b\b\b\b\b\b\b\b\b\b\b\b\b\b\b\b\b\b\b\b\b\b\b\b\b\b\b\b\b\b\b\b\b\b\r157/157 [==============================] - 1s 7ms/step - loss: 1.3405e-06 - accuracy: 1.0000 - lr: 3.0000e-05\n",
            "Epoch 135/200\n",
            "154/157 [============================>.] - ETA: 0s - loss: 1.4657e-06 - accuracy: 1.0000"
          ]
        },
        {
          "output_type": "stream",
          "name": "stderr",
          "text": [
            "WARNING:tensorflow:Early stopping conditioned on metric `val_loss` which is not available. Available metrics are: loss,accuracy\n",
            "WARNING:tensorflow:Learning rate reduction is conditioned on metric `val_loss` which is not available. Available metrics are: loss,accuracy,lr\n"
          ]
        },
        {
          "output_type": "stream",
          "name": "stdout",
          "text": [
            "\b\b\b\b\b\b\b\b\b\b\b\b\b\b\b\b\b\b\b\b\b\b\b\b\b\b\b\b\b\b\b\b\b\b\b\b\b\b\b\b\b\b\b\b\b\b\b\b\b\b\b\b\b\b\b\b\b\b\b\b\b\b\b\b\b\b\b\b\b\b\b\b\b\b\b\b\b\b\b\b\b\b\b\b\b\b\b\b\r157/157 [==============================] - 1s 7ms/step - loss: 1.4584e-06 - accuracy: 1.0000 - lr: 3.0000e-05\n",
            "Epoch 136/200\n",
            "155/157 [============================>.] - ETA: 0s - loss: 1.1510e-06 - accuracy: 1.0000"
          ]
        },
        {
          "output_type": "stream",
          "name": "stderr",
          "text": [
            "WARNING:tensorflow:Early stopping conditioned on metric `val_loss` which is not available. Available metrics are: loss,accuracy\n",
            "WARNING:tensorflow:Learning rate reduction is conditioned on metric `val_loss` which is not available. Available metrics are: loss,accuracy,lr\n"
          ]
        },
        {
          "output_type": "stream",
          "name": "stdout",
          "text": [
            "\b\b\b\b\b\b\b\b\b\b\b\b\b\b\b\b\b\b\b\b\b\b\b\b\b\b\b\b\b\b\b\b\b\b\b\b\b\b\b\b\b\b\b\b\b\b\b\b\b\b\b\b\b\b\b\b\b\b\b\b\b\b\b\b\b\b\b\b\b\b\b\b\b\b\b\b\b\b\b\b\b\b\b\b\b\b\b\b\r157/157 [==============================] - 1s 7ms/step - loss: 1.1446e-06 - accuracy: 1.0000 - lr: 3.0000e-05\n",
            "Epoch 137/200\n",
            "151/157 [===========================>..] - ETA: 0s - loss: 1.2017e-06 - accuracy: 1.0000"
          ]
        },
        {
          "output_type": "stream",
          "name": "stderr",
          "text": [
            "WARNING:tensorflow:Early stopping conditioned on metric `val_loss` which is not available. Available metrics are: loss,accuracy\n",
            "WARNING:tensorflow:Learning rate reduction is conditioned on metric `val_loss` which is not available. Available metrics are: loss,accuracy,lr\n"
          ]
        },
        {
          "output_type": "stream",
          "name": "stdout",
          "text": [
            "\b\b\b\b\b\b\b\b\b\b\b\b\b\b\b\b\b\b\b\b\b\b\b\b\b\b\b\b\b\b\b\b\b\b\b\b\b\b\b\b\b\b\b\b\b\b\b\b\b\b\b\b\b\b\b\b\b\b\b\b\b\b\b\b\b\b\b\b\b\b\b\b\b\b\b\b\b\b\b\b\b\b\b\b\b\b\b\b\r157/157 [==============================] - 1s 7ms/step - loss: 1.1722e-06 - accuracy: 1.0000 - lr: 3.0000e-05\n",
            "Epoch 138/200\n",
            "151/157 [===========================>..] - ETA: 0s - loss: 1.6795e-06 - accuracy: 1.0000"
          ]
        },
        {
          "output_type": "stream",
          "name": "stderr",
          "text": [
            "WARNING:tensorflow:Early stopping conditioned on metric `val_loss` which is not available. Available metrics are: loss,accuracy\n",
            "WARNING:tensorflow:Learning rate reduction is conditioned on metric `val_loss` which is not available. Available metrics are: loss,accuracy,lr\n"
          ]
        },
        {
          "output_type": "stream",
          "name": "stdout",
          "text": [
            "\b\b\b\b\b\b\b\b\b\b\b\b\b\b\b\b\b\b\b\b\b\b\b\b\b\b\b\b\b\b\b\b\b\b\b\b\b\b\b\b\b\b\b\b\b\b\b\b\b\b\b\b\b\b\b\b\b\b\b\b\b\b\b\b\b\b\b\b\b\b\b\b\b\b\b\b\b\b\b\b\b\b\b\b\b\b\b\b\r157/157 [==============================] - 1s 7ms/step - loss: 1.7755e-06 - accuracy: 1.0000 - lr: 3.0000e-05\n",
            "Epoch 139/200\n",
            "155/157 [============================>.] - ETA: 0s - loss: 1.0049e-06 - accuracy: 1.0000"
          ]
        },
        {
          "output_type": "stream",
          "name": "stderr",
          "text": [
            "WARNING:tensorflow:Early stopping conditioned on metric `val_loss` which is not available. Available metrics are: loss,accuracy\n",
            "WARNING:tensorflow:Learning rate reduction is conditioned on metric `val_loss` which is not available. Available metrics are: loss,accuracy,lr\n"
          ]
        },
        {
          "output_type": "stream",
          "name": "stdout",
          "text": [
            "\b\b\b\b\b\b\b\b\b\b\b\b\b\b\b\b\b\b\b\b\b\b\b\b\b\b\b\b\b\b\b\b\b\b\b\b\b\b\b\b\b\b\b\b\b\b\b\b\b\b\b\b\b\b\b\b\b\b\b\b\b\b\b\b\b\b\b\b\b\b\b\b\b\b\b\b\b\b\b\b\b\b\b\b\b\b\b\b\r157/157 [==============================] - 1s 7ms/step - loss: 1.0021e-06 - accuracy: 1.0000 - lr: 3.0000e-05\n",
            "Epoch 140/200\n",
            "152/157 [============================>.] - ETA: 0s - loss: 1.0218e-06 - accuracy: 1.0000"
          ]
        },
        {
          "output_type": "stream",
          "name": "stderr",
          "text": [
            "WARNING:tensorflow:Early stopping conditioned on metric `val_loss` which is not available. Available metrics are: loss,accuracy\n",
            "WARNING:tensorflow:Learning rate reduction is conditioned on metric `val_loss` which is not available. Available metrics are: loss,accuracy,lr\n"
          ]
        },
        {
          "output_type": "stream",
          "name": "stdout",
          "text": [
            "\b\b\b\b\b\b\b\b\b\b\b\b\b\b\b\b\b\b\b\b\b\b\b\b\b\b\b\b\b\b\b\b\b\b\b\b\b\b\b\b\b\b\b\b\b\b\b\b\b\b\b\b\b\b\b\b\b\b\b\b\b\b\b\b\b\b\b\b\b\b\b\b\b\b\b\b\b\b\b\b\b\b\b\b\b\b\b\b\r157/157 [==============================] - 1s 7ms/step - loss: 1.0088e-06 - accuracy: 1.0000 - lr: 3.0000e-05\n",
            "Epoch 141/200\n",
            "154/157 [============================>.] - ETA: 0s - loss: 9.3026e-07 - accuracy: 1.0000"
          ]
        },
        {
          "output_type": "stream",
          "name": "stderr",
          "text": [
            "WARNING:tensorflow:Early stopping conditioned on metric `val_loss` which is not available. Available metrics are: loss,accuracy\n",
            "WARNING:tensorflow:Learning rate reduction is conditioned on metric `val_loss` which is not available. Available metrics are: loss,accuracy,lr\n"
          ]
        },
        {
          "output_type": "stream",
          "name": "stdout",
          "text": [
            "\b\b\b\b\b\b\b\b\b\b\b\b\b\b\b\b\b\b\b\b\b\b\b\b\b\b\b\b\b\b\b\b\b\b\b\b\b\b\b\b\b\b\b\b\b\b\b\b\b\b\b\b\b\b\b\b\b\b\b\b\b\b\b\b\b\b\b\b\b\b\b\b\b\b\b\b\b\b\b\b\b\b\b\b\b\b\b\b\r157/157 [==============================] - 1s 7ms/step - loss: 9.2290e-07 - accuracy: 1.0000 - lr: 3.0000e-05\n",
            "Epoch 142/200\n",
            "157/157 [==============================] - ETA: 0s - loss: 6.5036e-07 - accuracy: 1.0000"
          ]
        },
        {
          "output_type": "stream",
          "name": "stderr",
          "text": [
            "WARNING:tensorflow:Early stopping conditioned on metric `val_loss` which is not available. Available metrics are: loss,accuracy\n",
            "WARNING:tensorflow:Learning rate reduction is conditioned on metric `val_loss` which is not available. Available metrics are: loss,accuracy,lr\n"
          ]
        },
        {
          "output_type": "stream",
          "name": "stdout",
          "text": [
            "\b\b\b\b\b\b\b\b\b\b\b\b\b\b\b\b\b\b\b\b\b\b\b\b\b\b\b\b\b\b\b\b\b\b\b\b\b\b\b\b\b\b\b\b\b\b\b\b\b\b\b\b\b\b\b\b\b\b\b\b\b\b\b\b\b\b\b\b\b\b\b\b\b\b\b\b\b\b\b\b\b\b\b\b\b\b\b\b\r157/157 [==============================] - 1s 7ms/step - loss: 6.5036e-07 - accuracy: 1.0000 - lr: 3.0000e-05\n",
            "Epoch 143/200\n",
            "153/157 [============================>.] - ETA: 0s - loss: 8.1759e-07 - accuracy: 1.0000"
          ]
        },
        {
          "output_type": "stream",
          "name": "stderr",
          "text": [
            "WARNING:tensorflow:Early stopping conditioned on metric `val_loss` which is not available. Available metrics are: loss,accuracy\n",
            "WARNING:tensorflow:Learning rate reduction is conditioned on metric `val_loss` which is not available. Available metrics are: loss,accuracy,lr\n"
          ]
        },
        {
          "output_type": "stream",
          "name": "stdout",
          "text": [
            "\b\b\b\b\b\b\b\b\b\b\b\b\b\b\b\b\b\b\b\b\b\b\b\b\b\b\b\b\b\b\b\b\b\b\b\b\b\b\b\b\b\b\b\b\b\b\b\b\b\b\b\b\b\b\b\b\b\b\b\b\b\b\b\b\b\b\b\b\b\b\b\b\b\b\b\b\b\b\b\b\b\b\b\b\b\b\b\b\r157/157 [==============================] - 1s 7ms/step - loss: 8.2925e-07 - accuracy: 1.0000 - lr: 3.0000e-05\n",
            "Epoch 144/200\n",
            "157/157 [==============================] - ETA: 0s - loss: 8.8685e-07 - accuracy: 1.0000"
          ]
        },
        {
          "output_type": "stream",
          "name": "stderr",
          "text": [
            "WARNING:tensorflow:Early stopping conditioned on metric `val_loss` which is not available. Available metrics are: loss,accuracy\n",
            "WARNING:tensorflow:Learning rate reduction is conditioned on metric `val_loss` which is not available. Available metrics are: loss,accuracy,lr\n"
          ]
        },
        {
          "output_type": "stream",
          "name": "stdout",
          "text": [
            "\b\b\b\b\b\b\b\b\b\b\b\b\b\b\b\b\b\b\b\b\b\b\b\b\b\b\b\b\b\b\b\b\b\b\b\b\b\b\b\b\b\b\b\b\b\b\b\b\b\b\b\b\b\b\b\b\b\b\b\b\b\b\b\b\b\b\b\b\b\b\b\b\b\b\b\b\b\b\b\b\b\b\b\b\b\b\b\b\r157/157 [==============================] - 1s 7ms/step - loss: 8.8685e-07 - accuracy: 1.0000 - lr: 3.0000e-05\n",
            "Epoch 145/200\n",
            "153/157 [============================>.] - ETA: 0s - loss: 7.4761e-07 - accuracy: 1.0000"
          ]
        },
        {
          "output_type": "stream",
          "name": "stderr",
          "text": [
            "WARNING:tensorflow:Early stopping conditioned on metric `val_loss` which is not available. Available metrics are: loss,accuracy\n",
            "WARNING:tensorflow:Learning rate reduction is conditioned on metric `val_loss` which is not available. Available metrics are: loss,accuracy,lr\n"
          ]
        },
        {
          "output_type": "stream",
          "name": "stdout",
          "text": [
            "\b\b\b\b\b\b\b\b\b\b\b\b\b\b\b\b\b\b\b\b\b\b\b\b\b\b\b\b\b\b\b\b\b\b\b\b\b\b\b\b\b\b\b\b\b\b\b\b\b\b\b\b\b\b\b\b\b\b\b\b\b\b\b\b\b\b\b\b\b\b\b\b\b\b\b\b\b\b\b\b\b\b\b\b\b\b\b\b\r157/157 [==============================] - 1s 7ms/step - loss: 7.3789e-07 - accuracy: 1.0000 - lr: 3.0000e-05\n",
            "Epoch 146/200\n",
            "153/157 [============================>.] - ETA: 0s - loss: 6.3534e-07 - accuracy: 1.0000"
          ]
        },
        {
          "output_type": "stream",
          "name": "stderr",
          "text": [
            "WARNING:tensorflow:Early stopping conditioned on metric `val_loss` which is not available. Available metrics are: loss,accuracy\n",
            "WARNING:tensorflow:Learning rate reduction is conditioned on metric `val_loss` which is not available. Available metrics are: loss,accuracy,lr\n"
          ]
        },
        {
          "output_type": "stream",
          "name": "stdout",
          "text": [
            "\b\b\b\b\b\b\b\b\b\b\b\b\b\b\b\b\b\b\b\b\b\b\b\b\b\b\b\b\b\b\b\b\b\b\b\b\b\b\b\b\b\b\b\b\b\b\b\b\b\b\b\b\b\b\b\b\b\b\b\b\b\b\b\b\b\b\b\b\b\b\b\b\b\b\b\b\b\b\b\b\b\b\b\b\b\b\b\b\r157/157 [==============================] - 1s 7ms/step - loss: 6.3395e-07 - accuracy: 1.0000 - lr: 3.0000e-05\n",
            "Epoch 147/200\n",
            "150/157 [===========================>..] - ETA: 0s - loss: 1.1179e-06 - accuracy: 1.0000"
          ]
        },
        {
          "output_type": "stream",
          "name": "stderr",
          "text": [
            "WARNING:tensorflow:Early stopping conditioned on metric `val_loss` which is not available. Available metrics are: loss,accuracy\n",
            "WARNING:tensorflow:Learning rate reduction is conditioned on metric `val_loss` which is not available. Available metrics are: loss,accuracy,lr\n"
          ]
        },
        {
          "output_type": "stream",
          "name": "stdout",
          "text": [
            "\b\b\b\b\b\b\b\b\b\b\b\b\b\b\b\b\b\b\b\b\b\b\b\b\b\b\b\b\b\b\b\b\b\b\b\b\b\b\b\b\b\b\b\b\b\b\b\b\b\b\b\b\b\b\b\b\b\b\b\b\b\b\b\b\b\b\b\b\b\b\b\b\b\b\b\b\b\b\b\b\b\b\b\b\b\b\b\b\r157/157 [==============================] - 1s 7ms/step - loss: 1.0975e-06 - accuracy: 1.0000 - lr: 3.0000e-05\n",
            "Epoch 148/200\n",
            "157/157 [==============================] - ETA: 0s - loss: 5.3621e-07 - accuracy: 1.0000"
          ]
        },
        {
          "output_type": "stream",
          "name": "stderr",
          "text": [
            "WARNING:tensorflow:Early stopping conditioned on metric `val_loss` which is not available. Available metrics are: loss,accuracy\n",
            "WARNING:tensorflow:Learning rate reduction is conditioned on metric `val_loss` which is not available. Available metrics are: loss,accuracy,lr\n"
          ]
        },
        {
          "output_type": "stream",
          "name": "stdout",
          "text": [
            "\b\b\b\b\b\b\b\b\b\b\b\b\b\b\b\b\b\b\b\b\b\b\b\b\b\b\b\b\b\b\b\b\b\b\b\b\b\b\b\b\b\b\b\b\b\b\b\b\b\b\b\b\b\b\b\b\b\b\b\b\b\b\b\b\b\b\b\b\b\b\b\b\b\b\b\b\b\b\b\b\b\b\b\b\b\b\b\b\r157/157 [==============================] - 1s 7ms/step - loss: 5.3621e-07 - accuracy: 1.0000 - lr: 3.0000e-05\n",
            "Epoch 149/200\n",
            "153/157 [============================>.] - ETA: 0s - loss: 5.4731e-07 - accuracy: 1.0000"
          ]
        },
        {
          "output_type": "stream",
          "name": "stderr",
          "text": [
            "WARNING:tensorflow:Early stopping conditioned on metric `val_loss` which is not available. Available metrics are: loss,accuracy\n",
            "WARNING:tensorflow:Learning rate reduction is conditioned on metric `val_loss` which is not available. Available metrics are: loss,accuracy,lr\n"
          ]
        },
        {
          "output_type": "stream",
          "name": "stdout",
          "text": [
            "\b\b\b\b\b\b\b\b\b\b\b\b\b\b\b\b\b\b\b\b\b\b\b\b\b\b\b\b\b\b\b\b\b\b\b\b\b\b\b\b\b\b\b\b\b\b\b\b\b\b\b\b\b\b\b\b\b\b\b\b\b\b\b\b\b\b\b\b\b\b\b\b\b\b\b\b\b\b\b\b\b\b\b\b\b\b\b\b\r157/157 [==============================] - 1s 7ms/step - loss: 5.4840e-07 - accuracy: 1.0000 - lr: 3.0000e-05\n",
            "Epoch 150/200\n",
            "157/157 [==============================] - ETA: 0s - loss: 4.5374e-07 - accuracy: 1.0000"
          ]
        },
        {
          "output_type": "stream",
          "name": "stderr",
          "text": [
            "WARNING:tensorflow:Early stopping conditioned on metric `val_loss` which is not available. Available metrics are: loss,accuracy\n",
            "WARNING:tensorflow:Learning rate reduction is conditioned on metric `val_loss` which is not available. Available metrics are: loss,accuracy,lr\n"
          ]
        },
        {
          "output_type": "stream",
          "name": "stdout",
          "text": [
            "\b\b\b\b\b\b\b\b\b\b\b\b\b\b\b\b\b\b\b\b\b\b\b\b\b\b\b\b\b\b\b\b\b\b\b\b\b\b\b\b\b\b\b\b\b\b\b\b\b\b\b\b\b\b\b\b\b\b\b\b\b\b\b\b\b\b\b\b\b\b\b\b\b\b\b\b\b\b\b\b\b\b\b\b\b\b\b\b\r157/157 [==============================] - 1s 7ms/step - loss: 4.5374e-07 - accuracy: 1.0000 - lr: 3.0000e-05\n",
            "Epoch 151/200\n",
            "153/157 [============================>.] - ETA: 0s - loss: 5.2278e-07 - accuracy: 1.0000"
          ]
        },
        {
          "output_type": "stream",
          "name": "stderr",
          "text": [
            "WARNING:tensorflow:Early stopping conditioned on metric `val_loss` which is not available. Available metrics are: loss,accuracy\n",
            "WARNING:tensorflow:Learning rate reduction is conditioned on metric `val_loss` which is not available. Available metrics are: loss,accuracy,lr\n"
          ]
        },
        {
          "output_type": "stream",
          "name": "stdout",
          "text": [
            "\b\b\b\b\b\b\b\b\b\b\b\b\b\b\b\b\b\b\b\b\b\b\b\b\b\b\b\b\b\b\b\b\b\b\b\b\b\b\b\b\b\b\b\b\b\b\b\b\b\b\b\b\b\b\b\b\b\b\b\b\b\b\b\b\b\b\b\b\b\b\b\b\b\b\b\b\b\b\b\b\b\b\b\b\b\b\b\b\r157/157 [==============================] - 1s 7ms/step - loss: 5.2034e-07 - accuracy: 1.0000 - lr: 3.0000e-05\n",
            "Epoch 152/200\n",
            "150/157 [===========================>..] - ETA: 0s - loss: 5.5294e-07 - accuracy: 1.0000"
          ]
        },
        {
          "output_type": "stream",
          "name": "stderr",
          "text": [
            "WARNING:tensorflow:Early stopping conditioned on metric `val_loss` which is not available. Available metrics are: loss,accuracy\n",
            "WARNING:tensorflow:Learning rate reduction is conditioned on metric `val_loss` which is not available. Available metrics are: loss,accuracy,lr\n"
          ]
        },
        {
          "output_type": "stream",
          "name": "stdout",
          "text": [
            "\b\b\b\b\b\b\b\b\b\b\b\b\b\b\b\b\b\b\b\b\b\b\b\b\b\b\b\b\b\b\b\b\b\b\b\b\b\b\b\b\b\b\b\b\b\b\b\b\b\b\b\b\b\b\b\b\b\b\b\b\b\b\b\b\b\b\b\b\b\b\b\b\b\b\b\b\b\b\b\b\b\b\b\b\b\b\b\b\r157/157 [==============================] - 1s 7ms/step - loss: 5.5044e-07 - accuracy: 1.0000 - lr: 3.0000e-05\n",
            "Epoch 153/200\n",
            "150/157 [===========================>..] - ETA: 0s - loss: 3.5158e-07 - accuracy: 1.0000"
          ]
        },
        {
          "output_type": "stream",
          "name": "stderr",
          "text": [
            "WARNING:tensorflow:Early stopping conditioned on metric `val_loss` which is not available. Available metrics are: loss,accuracy\n",
            "WARNING:tensorflow:Learning rate reduction is conditioned on metric `val_loss` which is not available. Available metrics are: loss,accuracy,lr\n"
          ]
        },
        {
          "output_type": "stream",
          "name": "stdout",
          "text": [
            "\b\b\b\b\b\b\b\b\b\b\b\b\b\b\b\b\b\b\b\b\b\b\b\b\b\b\b\b\b\b\b\b\b\b\b\b\b\b\b\b\b\b\b\b\b\b\b\b\b\b\b\b\b\b\b\b\b\b\b\b\b\b\b\b\b\b\b\b\b\b\b\b\b\b\b\b\b\b\b\b\b\b\b\b\b\b\b\b\r157/157 [==============================] - 1s 7ms/step - loss: 3.5224e-07 - accuracy: 1.0000 - lr: 3.0000e-05\n",
            "Epoch 154/200\n",
            "157/157 [==============================] - ETA: 0s - loss: 4.5088e-07 - accuracy: 1.0000"
          ]
        },
        {
          "output_type": "stream",
          "name": "stderr",
          "text": [
            "WARNING:tensorflow:Early stopping conditioned on metric `val_loss` which is not available. Available metrics are: loss,accuracy\n",
            "WARNING:tensorflow:Learning rate reduction is conditioned on metric `val_loss` which is not available. Available metrics are: loss,accuracy,lr\n"
          ]
        },
        {
          "output_type": "stream",
          "name": "stdout",
          "text": [
            "\b\b\b\b\b\b\b\b\b\b\b\b\b\b\b\b\b\b\b\b\b\b\b\b\b\b\b\b\b\b\b\b\b\b\b\b\b\b\b\b\b\b\b\b\b\b\b\b\b\b\b\b\b\b\b\b\b\b\b\b\b\b\b\b\b\b\b\b\b\b\b\b\b\b\b\b\b\b\b\b\b\b\b\b\b\b\b\b\r157/157 [==============================] - 1s 7ms/step - loss: 4.5088e-07 - accuracy: 1.0000 - lr: 3.0000e-05\n",
            "Epoch 155/200\n",
            "156/157 [============================>.] - ETA: 0s - loss: 8.1794e-07 - accuracy: 1.0000"
          ]
        },
        {
          "output_type": "stream",
          "name": "stderr",
          "text": [
            "WARNING:tensorflow:Early stopping conditioned on metric `val_loss` which is not available. Available metrics are: loss,accuracy\n",
            "WARNING:tensorflow:Learning rate reduction is conditioned on metric `val_loss` which is not available. Available metrics are: loss,accuracy,lr\n"
          ]
        },
        {
          "output_type": "stream",
          "name": "stdout",
          "text": [
            "\b\b\b\b\b\b\b\b\b\b\b\b\b\b\b\b\b\b\b\b\b\b\b\b\b\b\b\b\b\b\b\b\b\b\b\b\b\b\b\b\b\b\b\b\b\b\b\b\b\b\b\b\b\b\b\b\b\b\b\b\b\b\b\b\b\b\b\b\b\b\b\b\b\b\b\b\b\b\b\b\b\b\b\b\b\b\b\b\r157/157 [==============================] - 1s 7ms/step - loss: 8.1518e-07 - accuracy: 1.0000 - lr: 3.0000e-05\n",
            "Epoch 156/200\n",
            "151/157 [===========================>..] - ETA: 0s - loss: 5.3396e-07 - accuracy: 1.0000"
          ]
        },
        {
          "output_type": "stream",
          "name": "stderr",
          "text": [
            "WARNING:tensorflow:Early stopping conditioned on metric `val_loss` which is not available. Available metrics are: loss,accuracy\n",
            "WARNING:tensorflow:Learning rate reduction is conditioned on metric `val_loss` which is not available. Available metrics are: loss,accuracy,lr\n"
          ]
        },
        {
          "output_type": "stream",
          "name": "stdout",
          "text": [
            "\b\b\b\b\b\b\b\b\b\b\b\b\b\b\b\b\b\b\b\b\b\b\b\b\b\b\b\b\b\b\b\b\b\b\b\b\b\b\b\b\b\b\b\b\b\b\b\b\b\b\b\b\b\b\b\b\b\b\b\b\b\b\b\b\b\b\b\b\b\b\b\b\b\b\b\b\b\b\b\b\b\b\b\b\b\b\b\b\r157/157 [==============================] - 1s 7ms/step - loss: 5.2260e-07 - accuracy: 1.0000 - lr: 3.0000e-05\n",
            "Epoch 157/200\n",
            "151/157 [===========================>..] - ETA: 0s - loss: 5.0345e-07 - accuracy: 1.0000"
          ]
        },
        {
          "output_type": "stream",
          "name": "stderr",
          "text": [
            "WARNING:tensorflow:Early stopping conditioned on metric `val_loss` which is not available. Available metrics are: loss,accuracy\n",
            "WARNING:tensorflow:Learning rate reduction is conditioned on metric `val_loss` which is not available. Available metrics are: loss,accuracy,lr\n"
          ]
        },
        {
          "output_type": "stream",
          "name": "stdout",
          "text": [
            "\b\b\b\b\b\b\b\b\b\b\b\b\b\b\b\b\b\b\b\b\b\b\b\b\b\b\b\b\b\b\b\b\b\b\b\b\b\b\b\b\b\b\b\b\b\b\b\b\b\b\b\b\b\b\b\b\b\b\b\b\b\b\b\b\b\b\b\b\b\b\b\b\b\b\b\b\b\b\b\b\b\b\b\b\b\b\b\b\r157/157 [==============================] - 1s 7ms/step - loss: 5.0566e-07 - accuracy: 1.0000 - lr: 3.0000e-05\n",
            "Epoch 158/200\n",
            "150/157 [===========================>..] - ETA: 0s - loss: 3.4123e-07 - accuracy: 1.0000"
          ]
        },
        {
          "output_type": "stream",
          "name": "stderr",
          "text": [
            "WARNING:tensorflow:Early stopping conditioned on metric `val_loss` which is not available. Available metrics are: loss,accuracy\n",
            "WARNING:tensorflow:Learning rate reduction is conditioned on metric `val_loss` which is not available. Available metrics are: loss,accuracy,lr\n"
          ]
        },
        {
          "output_type": "stream",
          "name": "stdout",
          "text": [
            "\b\b\b\b\b\b\b\b\b\b\b\b\b\b\b\b\b\b\b\b\b\b\b\b\b\b\b\b\b\b\b\b\b\b\b\b\b\b\b\b\b\b\b\b\b\b\b\b\b\b\b\b\b\b\b\b\b\b\b\b\b\b\b\b\b\b\b\b\b\b\b\b\b\b\b\b\b\b\b\b\b\b\b\b\b\b\b\b\r157/157 [==============================] - 1s 7ms/step - loss: 3.3761e-07 - accuracy: 1.0000 - lr: 3.0000e-05\n",
            "Epoch 159/200\n",
            "153/157 [============================>.] - ETA: 0s - loss: 5.8386e-07 - accuracy: 1.0000"
          ]
        },
        {
          "output_type": "stream",
          "name": "stderr",
          "text": [
            "WARNING:tensorflow:Early stopping conditioned on metric `val_loss` which is not available. Available metrics are: loss,accuracy\n",
            "WARNING:tensorflow:Learning rate reduction is conditioned on metric `val_loss` which is not available. Available metrics are: loss,accuracy,lr\n"
          ]
        },
        {
          "output_type": "stream",
          "name": "stdout",
          "text": [
            "\b\b\b\b\b\b\b\b\b\b\b\b\b\b\b\b\b\b\b\b\b\b\b\b\b\b\b\b\b\b\b\b\b\b\b\b\b\b\b\b\b\b\b\b\b\b\b\b\b\b\b\b\b\b\b\b\b\b\b\b\b\b\b\b\b\b\b\b\b\b\b\b\b\b\b\b\b\b\b\b\b\b\b\b\b\b\b\b\r157/157 [==============================] - 1s 7ms/step - loss: 5.7221e-07 - accuracy: 1.0000 - lr: 3.0000e-05\n",
            "Epoch 160/200\n",
            "153/157 [============================>.] - ETA: 0s - loss: 1.0424e-06 - accuracy: 1.0000"
          ]
        },
        {
          "output_type": "stream",
          "name": "stderr",
          "text": [
            "WARNING:tensorflow:Early stopping conditioned on metric `val_loss` which is not available. Available metrics are: loss,accuracy\n",
            "WARNING:tensorflow:Learning rate reduction is conditioned on metric `val_loss` which is not available. Available metrics are: loss,accuracy,lr\n"
          ]
        },
        {
          "output_type": "stream",
          "name": "stdout",
          "text": [
            "\b\b\b\b\b\b\b\b\b\b\b\b\b\b\b\b\b\b\b\b\b\b\b\b\b\b\b\b\b\b\b\b\b\b\b\b\b\b\b\b\b\b\b\b\b\b\b\b\b\b\b\b\b\b\b\b\b\b\b\b\b\b\b\b\b\b\b\b\b\b\b\b\b\b\b\b\b\b\b\b\b\b\b\b\b\b\b\b\r157/157 [==============================] - 1s 7ms/step - loss: 1.0214e-06 - accuracy: 1.0000 - lr: 3.0000e-05\n",
            "Epoch 161/200\n",
            "151/157 [===========================>..] - ETA: 0s - loss: 7.2351e-07 - accuracy: 1.0000"
          ]
        },
        {
          "output_type": "stream",
          "name": "stderr",
          "text": [
            "WARNING:tensorflow:Early stopping conditioned on metric `val_loss` which is not available. Available metrics are: loss,accuracy\n",
            "WARNING:tensorflow:Learning rate reduction is conditioned on metric `val_loss` which is not available. Available metrics are: loss,accuracy,lr\n"
          ]
        },
        {
          "output_type": "stream",
          "name": "stdout",
          "text": [
            "\b\b\b\b\b\b\b\b\b\b\b\b\b\b\b\b\b\b\b\b\b\b\b\b\b\b\b\b\b\b\b\b\b\b\b\b\b\b\b\b\b\b\b\b\b\b\b\b\b\b\b\b\b\b\b\b\b\b\b\b\b\b\b\b\b\b\b\b\b\b\b\b\b\b\b\b\b\b\b\b\b\b\b\b\b\b\b\b\r157/157 [==============================] - 1s 7ms/step - loss: 8.1866e-07 - accuracy: 1.0000 - lr: 3.0000e-05\n",
            "Epoch 162/200\n",
            "152/157 [============================>.] - ETA: 0s - loss: 4.8333e-07 - accuracy: 1.0000"
          ]
        },
        {
          "output_type": "stream",
          "name": "stderr",
          "text": [
            "WARNING:tensorflow:Early stopping conditioned on metric `val_loss` which is not available. Available metrics are: loss,accuracy\n",
            "WARNING:tensorflow:Learning rate reduction is conditioned on metric `val_loss` which is not available. Available metrics are: loss,accuracy,lr\n"
          ]
        },
        {
          "output_type": "stream",
          "name": "stdout",
          "text": [
            "\b\b\b\b\b\b\b\b\b\b\b\b\b\b\b\b\b\b\b\b\b\b\b\b\b\b\b\b\b\b\b\b\b\b\b\b\b\b\b\b\b\b\b\b\b\b\b\b\b\b\b\b\b\b\b\b\b\b\b\b\b\b\b\b\b\b\b\b\b\b\b\b\b\b\b\b\b\b\b\b\b\b\b\b\b\b\b\b\r157/157 [==============================] - 1s 7ms/step - loss: 4.8428e-07 - accuracy: 1.0000 - lr: 3.0000e-05\n",
            "Epoch 163/200\n",
            "154/157 [============================>.] - ETA: 0s - loss: 3.1872e-07 - accuracy: 1.0000"
          ]
        },
        {
          "output_type": "stream",
          "name": "stderr",
          "text": [
            "WARNING:tensorflow:Early stopping conditioned on metric `val_loss` which is not available. Available metrics are: loss,accuracy\n",
            "WARNING:tensorflow:Learning rate reduction is conditioned on metric `val_loss` which is not available. Available metrics are: loss,accuracy,lr\n"
          ]
        },
        {
          "output_type": "stream",
          "name": "stdout",
          "text": [
            "\b\b\b\b\b\b\b\b\b\b\b\b\b\b\b\b\b\b\b\b\b\b\b\b\b\b\b\b\b\b\b\b\b\b\b\b\b\b\b\b\b\b\b\b\b\b\b\b\b\b\b\b\b\b\b\b\b\b\b\b\b\b\b\b\b\b\b\b\b\b\b\b\b\b\b\b\b\b\b\b\b\b\b\b\b\b\b\b\r157/157 [==============================] - 1s 7ms/step - loss: 3.1763e-07 - accuracy: 1.0000 - lr: 3.0000e-05\n",
            "Epoch 164/200\n",
            "151/157 [===========================>..] - ETA: 0s - loss: 2.4955e-07 - accuracy: 1.0000"
          ]
        },
        {
          "output_type": "stream",
          "name": "stderr",
          "text": [
            "WARNING:tensorflow:Early stopping conditioned on metric `val_loss` which is not available. Available metrics are: loss,accuracy\n",
            "WARNING:tensorflow:Learning rate reduction is conditioned on metric `val_loss` which is not available. Available metrics are: loss,accuracy,lr\n"
          ]
        },
        {
          "output_type": "stream",
          "name": "stdout",
          "text": [
            "\b\b\b\b\b\b\b\b\b\b\b\b\b\b\b\b\b\b\b\b\b\b\b\b\b\b\b\b\b\b\b\b\b\b\b\b\b\b\b\b\b\b\b\b\b\b\b\b\b\b\b\b\b\b\b\b\b\b\b\b\b\b\b\b\b\b\b\b\b\b\b\b\b\b\b\b\b\b\b\b\b\b\b\b\b\b\b\b\r157/157 [==============================] - 1s 7ms/step - loss: 2.4849e-07 - accuracy: 1.0000 - lr: 3.0000e-05\n",
            "Epoch 165/200\n",
            "156/157 [============================>.] - ETA: 0s - loss: 2.6413e-07 - accuracy: 1.0000"
          ]
        },
        {
          "output_type": "stream",
          "name": "stderr",
          "text": [
            "WARNING:tensorflow:Early stopping conditioned on metric `val_loss` which is not available. Available metrics are: loss,accuracy\n",
            "WARNING:tensorflow:Learning rate reduction is conditioned on metric `val_loss` which is not available. Available metrics are: loss,accuracy,lr\n"
          ]
        },
        {
          "output_type": "stream",
          "name": "stdout",
          "text": [
            "\b\b\b\b\b\b\b\b\b\b\b\b\b\b\b\b\b\b\b\b\b\b\b\b\b\b\b\b\b\b\b\b\b\b\b\b\b\b\b\b\b\b\b\b\b\b\b\b\b\b\b\b\b\b\b\b\b\b\b\b\b\b\b\b\b\b\b\b\b\b\b\b\b\b\b\b\b\b\b\b\b\b\b\b\b\b\b\b\r157/157 [==============================] - 1s 7ms/step - loss: 2.6822e-07 - accuracy: 1.0000 - lr: 3.0000e-05\n",
            "Epoch 166/200\n",
            "154/157 [============================>.] - ETA: 0s - loss: 2.3413e-07 - accuracy: 1.0000"
          ]
        },
        {
          "output_type": "stream",
          "name": "stderr",
          "text": [
            "WARNING:tensorflow:Early stopping conditioned on metric `val_loss` which is not available. Available metrics are: loss,accuracy\n",
            "WARNING:tensorflow:Learning rate reduction is conditioned on metric `val_loss` which is not available. Available metrics are: loss,accuracy,lr\n"
          ]
        },
        {
          "output_type": "stream",
          "name": "stdout",
          "text": [
            "\b\b\b\b\b\b\b\b\b\b\b\b\b\b\b\b\b\b\b\b\b\b\b\b\b\b\b\b\b\b\b\b\b\b\b\b\b\b\b\b\b\b\b\b\b\b\b\b\b\b\b\b\b\b\b\b\b\b\b\b\b\b\b\b\b\b\b\b\b\b\b\b\b\b\b\b\b\b\b\b\b\b\b\b\b\b\b\b\r157/157 [==============================] - 1s 7ms/step - loss: 2.3080e-07 - accuracy: 1.0000 - lr: 3.0000e-05\n",
            "Epoch 167/200\n",
            "156/157 [============================>.] - ETA: 0s - loss: 2.0411e-07 - accuracy: 1.0000"
          ]
        },
        {
          "output_type": "stream",
          "name": "stderr",
          "text": [
            "WARNING:tensorflow:Early stopping conditioned on metric `val_loss` which is not available. Available metrics are: loss,accuracy\n",
            "WARNING:tensorflow:Learning rate reduction is conditioned on metric `val_loss` which is not available. Available metrics are: loss,accuracy,lr\n"
          ]
        },
        {
          "output_type": "stream",
          "name": "stdout",
          "text": [
            "\b\b\b\b\b\b\b\b\b\b\b\b\b\b\b\b\b\b\b\b\b\b\b\b\b\b\b\b\b\b\b\b\b\b\b\b\b\b\b\b\b\b\b\b\b\b\b\b\b\b\b\b\b\b\b\b\b\b\b\b\b\b\b\b\b\b\b\b\b\b\b\b\b\b\b\b\b\b\b\b\b\b\b\b\b\b\b\b\r157/157 [==============================] - 1s 7ms/step - loss: 2.0346e-07 - accuracy: 1.0000 - lr: 3.0000e-05\n",
            "Epoch 168/200\n",
            "157/157 [==============================] - ETA: 0s - loss: 2.1938e-07 - accuracy: 1.0000"
          ]
        },
        {
          "output_type": "stream",
          "name": "stderr",
          "text": [
            "WARNING:tensorflow:Early stopping conditioned on metric `val_loss` which is not available. Available metrics are: loss,accuracy\n",
            "WARNING:tensorflow:Learning rate reduction is conditioned on metric `val_loss` which is not available. Available metrics are: loss,accuracy,lr\n"
          ]
        },
        {
          "output_type": "stream",
          "name": "stdout",
          "text": [
            "\b\b\b\b\b\b\b\b\b\b\b\b\b\b\b\b\b\b\b\b\b\b\b\b\b\b\b\b\b\b\b\b\b\b\b\b\b\b\b\b\b\b\b\b\b\b\b\b\b\b\b\b\b\b\b\b\b\b\b\b\b\b\b\b\b\b\b\b\b\b\b\b\b\b\b\b\b\b\b\b\b\b\b\b\b\b\b\b\r157/157 [==============================] - 1s 7ms/step - loss: 2.1938e-07 - accuracy: 1.0000 - lr: 3.0000e-05\n",
            "Epoch 169/200\n",
            "153/157 [============================>.] - ETA: 0s - loss: 2.9246e-07 - accuracy: 1.0000"
          ]
        },
        {
          "output_type": "stream",
          "name": "stderr",
          "text": [
            "WARNING:tensorflow:Early stopping conditioned on metric `val_loss` which is not available. Available metrics are: loss,accuracy\n",
            "WARNING:tensorflow:Learning rate reduction is conditioned on metric `val_loss` which is not available. Available metrics are: loss,accuracy,lr\n"
          ]
        },
        {
          "output_type": "stream",
          "name": "stdout",
          "text": [
            "\b\b\b\b\b\b\b\b\b\b\b\b\b\b\b\b\b\b\b\b\b\b\b\b\b\b\b\b\b\b\b\b\b\b\b\b\b\b\b\b\b\b\b\b\b\b\b\b\b\b\b\b\b\b\b\b\b\b\b\b\b\b\b\b\b\b\b\b\b\b\b\b\b\b\b\b\b\b\b\b\b\b\b\b\b\b\b\b\r157/157 [==============================] - 1s 7ms/step - loss: 3.0218e-07 - accuracy: 1.0000 - lr: 3.0000e-05\n",
            "Epoch 170/200\n",
            "157/157 [==============================] - ETA: 0s - loss: 2.2867e-07 - accuracy: 1.0000"
          ]
        },
        {
          "output_type": "stream",
          "name": "stderr",
          "text": [
            "WARNING:tensorflow:Early stopping conditioned on metric `val_loss` which is not available. Available metrics are: loss,accuracy\n",
            "WARNING:tensorflow:Learning rate reduction is conditioned on metric `val_loss` which is not available. Available metrics are: loss,accuracy,lr\n"
          ]
        },
        {
          "output_type": "stream",
          "name": "stdout",
          "text": [
            "\b\b\b\b\b\b\b\b\b\b\b\b\b\b\b\b\b\b\b\b\b\b\b\b\b\b\b\b\b\b\b\b\b\b\b\b\b\b\b\b\b\b\b\b\b\b\b\b\b\b\b\b\b\b\b\b\b\b\b\b\b\b\b\b\b\b\b\b\b\b\b\b\b\b\b\b\b\b\b\b\b\b\b\b\b\b\b\b\r157/157 [==============================] - 1s 7ms/step - loss: 2.2867e-07 - accuracy: 1.0000 - lr: 3.0000e-05\n",
            "Epoch 171/200\n",
            "152/157 [============================>.] - ETA: 0s - loss: 2.3470e-07 - accuracy: 1.0000"
          ]
        },
        {
          "output_type": "stream",
          "name": "stderr",
          "text": [
            "WARNING:tensorflow:Early stopping conditioned on metric `val_loss` which is not available. Available metrics are: loss,accuracy\n",
            "WARNING:tensorflow:Learning rate reduction is conditioned on metric `val_loss` which is not available. Available metrics are: loss,accuracy,lr\n"
          ]
        },
        {
          "output_type": "stream",
          "name": "stdout",
          "text": [
            "\b\b\b\b\b\b\b\b\b\b\b\b\b\b\b\b\b\b\b\b\b\b\b\b\b\b\b\b\b\b\b\b\b\b\b\b\b\b\b\b\b\b\b\b\b\b\b\b\b\b\b\b\b\b\b\b\b\b\b\b\b\b\b\b\b\b\b\b\b\b\b\b\b\b\b\b\b\b\b\b\b\b\b\b\b\b\b\b\r157/157 [==============================] - 1s 7ms/step - loss: 2.3181e-07 - accuracy: 1.0000 - lr: 3.0000e-05\n",
            "Epoch 172/200\n",
            "150/157 [===========================>..] - ETA: 0s - loss: 3.1786e-07 - accuracy: 1.0000"
          ]
        },
        {
          "output_type": "stream",
          "name": "stderr",
          "text": [
            "WARNING:tensorflow:Early stopping conditioned on metric `val_loss` which is not available. Available metrics are: loss,accuracy\n",
            "WARNING:tensorflow:Learning rate reduction is conditioned on metric `val_loss` which is not available. Available metrics are: loss,accuracy,lr\n"
          ]
        },
        {
          "output_type": "stream",
          "name": "stdout",
          "text": [
            "\b\b\b\b\b\b\b\b\b\b\b\b\b\b\b\b\b\b\b\b\b\b\b\b\b\b\b\b\b\b\b\b\b\b\b\b\b\b\b\b\b\b\b\b\b\b\b\b\b\b\b\b\b\b\b\b\b\b\b\b\b\b\b\b\b\b\b\b\b\b\b\b\b\b\b\b\b\b\b\b\b\b\b\b\b\b\b\b\r157/157 [==============================] - 1s 7ms/step - loss: 3.1417e-07 - accuracy: 1.0000 - lr: 3.0000e-05\n",
            "Epoch 173/200\n",
            "152/157 [============================>.] - ETA: 0s - loss: 2.4725e-07 - accuracy: 1.0000"
          ]
        },
        {
          "output_type": "stream",
          "name": "stderr",
          "text": [
            "WARNING:tensorflow:Early stopping conditioned on metric `val_loss` which is not available. Available metrics are: loss,accuracy\n",
            "WARNING:tensorflow:Learning rate reduction is conditioned on metric `val_loss` which is not available. Available metrics are: loss,accuracy,lr\n"
          ]
        },
        {
          "output_type": "stream",
          "name": "stdout",
          "text": [
            "\b\b\b\b\b\b\b\b\b\b\b\b\b\b\b\b\b\b\b\b\b\b\b\b\b\b\b\b\b\b\b\b\b\b\b\b\b\b\b\b\b\b\b\b\b\b\b\b\b\b\b\b\b\b\b\b\b\b\b\b\b\b\b\b\b\b\b\b\b\b\b\b\b\b\b\b\b\b\b\b\b\b\b\b\b\b\b\b\r157/157 [==============================] - 1s 7ms/step - loss: 2.4165e-07 - accuracy: 1.0000 - lr: 3.0000e-05\n",
            "Epoch 174/200\n",
            "152/157 [============================>.] - ETA: 0s - loss: 1.3015e-07 - accuracy: 1.0000"
          ]
        },
        {
          "output_type": "stream",
          "name": "stderr",
          "text": [
            "WARNING:tensorflow:Early stopping conditioned on metric `val_loss` which is not available. Available metrics are: loss,accuracy\n",
            "WARNING:tensorflow:Learning rate reduction is conditioned on metric `val_loss` which is not available. Available metrics are: loss,accuracy,lr\n"
          ]
        },
        {
          "output_type": "stream",
          "name": "stdout",
          "text": [
            "\b\b\b\b\b\b\b\b\b\b\b\b\b\b\b\b\b\b\b\b\b\b\b\b\b\b\b\b\b\b\b\b\b\b\b\b\b\b\b\b\b\b\b\b\b\b\b\b\b\b\b\b\b\b\b\b\b\b\b\b\b\b\b\b\b\b\b\b\b\b\b\b\b\b\b\b\b\b\b\b\b\b\b\b\b\b\b\b\r157/157 [==============================] - 1s 7ms/step - loss: 1.3520e-07 - accuracy: 1.0000 - lr: 3.0000e-05\n",
            "Epoch 175/200\n",
            "150/157 [===========================>..] - ETA: 0s - loss: 2.0720e-07 - accuracy: 1.0000"
          ]
        },
        {
          "output_type": "stream",
          "name": "stderr",
          "text": [
            "WARNING:tensorflow:Early stopping conditioned on metric `val_loss` which is not available. Available metrics are: loss,accuracy\n",
            "WARNING:tensorflow:Learning rate reduction is conditioned on metric `val_loss` which is not available. Available metrics are: loss,accuracy,lr\n"
          ]
        },
        {
          "output_type": "stream",
          "name": "stdout",
          "text": [
            "\b\b\b\b\b\b\b\b\b\b\b\b\b\b\b\b\b\b\b\b\b\b\b\b\b\b\b\b\b\b\b\b\b\b\b\b\b\b\b\b\b\b\b\b\b\b\b\b\b\b\b\b\b\b\b\b\b\b\b\b\b\b\b\b\b\b\b\b\b\b\b\b\b\b\b\b\b\b\b\b\b\b\b\b\b\b\b\b\r157/157 [==============================] - 1s 7ms/step - loss: 2.0261e-07 - accuracy: 1.0000 - lr: 3.0000e-05\n",
            "Epoch 176/200\n",
            "157/157 [==============================] - ETA: 0s - loss: 1.8470e-07 - accuracy: 1.0000"
          ]
        },
        {
          "output_type": "stream",
          "name": "stderr",
          "text": [
            "WARNING:tensorflow:Early stopping conditioned on metric `val_loss` which is not available. Available metrics are: loss,accuracy\n",
            "WARNING:tensorflow:Learning rate reduction is conditioned on metric `val_loss` which is not available. Available metrics are: loss,accuracy,lr\n"
          ]
        },
        {
          "output_type": "stream",
          "name": "stdout",
          "text": [
            "\b\b\b\b\b\b\b\b\b\b\b\b\b\b\b\b\b\b\b\b\b\b\b\b\b\b\b\b\b\b\b\b\b\b\b\b\b\b\b\b\b\b\b\b\b\b\b\b\b\b\b\b\b\b\b\b\b\b\b\b\b\b\b\b\b\b\b\b\b\b\b\b\b\b\b\b\b\b\b\b\b\b\b\b\b\b\b\b\r157/157 [==============================] - 1s 7ms/step - loss: 1.8470e-07 - accuracy: 1.0000 - lr: 3.0000e-05\n",
            "Epoch 177/200\n",
            "154/157 [============================>.] - ETA: 0s - loss: 3.3299e-07 - accuracy: 1.0000"
          ]
        },
        {
          "output_type": "stream",
          "name": "stderr",
          "text": [
            "WARNING:tensorflow:Early stopping conditioned on metric `val_loss` which is not available. Available metrics are: loss,accuracy\n",
            "WARNING:tensorflow:Learning rate reduction is conditioned on metric `val_loss` which is not available. Available metrics are: loss,accuracy,lr\n"
          ]
        },
        {
          "output_type": "stream",
          "name": "stdout",
          "text": [
            "\b\b\b\b\b\b\b\b\b\b\b\b\b\b\b\b\b\b\b\b\b\b\b\b\b\b\b\b\b\b\b\b\b\b\b\b\b\b\b\b\b\b\b\b\b\b\b\b\b\b\b\b\b\b\b\b\b\b\b\b\b\b\b\b\b\b\b\b\b\b\b\b\b\b\b\b\b\b\b\b\b\b\b\b\b\b\b\b\r157/157 [==============================] - 1s 7ms/step - loss: 3.2969e-07 - accuracy: 1.0000 - lr: 3.0000e-05\n",
            "Epoch 178/200\n",
            "150/157 [===========================>..] - ETA: 0s - loss: 1.6558e-07 - accuracy: 1.0000"
          ]
        },
        {
          "output_type": "stream",
          "name": "stderr",
          "text": [
            "WARNING:tensorflow:Early stopping conditioned on metric `val_loss` which is not available. Available metrics are: loss,accuracy\n",
            "WARNING:tensorflow:Learning rate reduction is conditioned on metric `val_loss` which is not available. Available metrics are: loss,accuracy,lr\n"
          ]
        },
        {
          "output_type": "stream",
          "name": "stdout",
          "text": [
            "\b\b\b\b\b\b\b\b\b\b\b\b\b\b\b\b\b\b\b\b\b\b\b\b\b\b\b\b\b\b\b\b\b\b\b\b\b\b\b\b\b\b\b\b\b\b\b\b\b\b\b\b\b\b\b\b\b\b\b\b\b\b\b\b\b\b\b\b\b\b\b\b\b\b\b\b\b\b\b\b\b\b\b\b\b\b\b\b\r157/157 [==============================] - 1s 7ms/step - loss: 2.3824e-07 - accuracy: 1.0000 - lr: 3.0000e-05\n",
            "Epoch 179/200\n",
            "150/157 [===========================>..] - ETA: 0s - loss: 1.0775e-07 - accuracy: 1.0000"
          ]
        },
        {
          "output_type": "stream",
          "name": "stderr",
          "text": [
            "WARNING:tensorflow:Early stopping conditioned on metric `val_loss` which is not available. Available metrics are: loss,accuracy\n",
            "WARNING:tensorflow:Learning rate reduction is conditioned on metric `val_loss` which is not available. Available metrics are: loss,accuracy,lr\n"
          ]
        },
        {
          "output_type": "stream",
          "name": "stdout",
          "text": [
            "\b\b\b\b\b\b\b\b\b\b\b\b\b\b\b\b\b\b\b\b\b\b\b\b\b\b\b\b\b\b\b\b\b\b\b\b\b\b\b\b\b\b\b\b\b\b\b\b\b\b\b\b\b\b\b\b\b\b\b\b\b\b\b\b\b\b\b\b\b\b\b\b\b\b\b\b\b\b\b\b\b\b\b\b\b\b\b\b\r157/157 [==============================] - 1s 7ms/step - loss: 1.0536e-07 - accuracy: 1.0000 - lr: 3.0000e-05\n",
            "Epoch 180/200\n",
            "156/157 [============================>.] - ETA: 0s - loss: 1.6646e-07 - accuracy: 1.0000"
          ]
        },
        {
          "output_type": "stream",
          "name": "stderr",
          "text": [
            "WARNING:tensorflow:Early stopping conditioned on metric `val_loss` which is not available. Available metrics are: loss,accuracy\n",
            "WARNING:tensorflow:Learning rate reduction is conditioned on metric `val_loss` which is not available. Available metrics are: loss,accuracy,lr\n"
          ]
        },
        {
          "output_type": "stream",
          "name": "stdout",
          "text": [
            "\b\b\b\b\b\b\b\b\b\b\b\b\b\b\b\b\b\b\b\b\b\b\b\b\b\b\b\b\b\b\b\b\b\b\b\b\b\b\b\b\b\b\b\b\b\b\b\b\b\b\b\b\b\b\b\b\b\b\b\b\b\b\b\b\b\b\b\b\b\b\b\b\b\b\b\b\b\b\b\b\b\b\b\b\b\b\b\b\r157/157 [==============================] - 1s 7ms/step - loss: 1.6604e-07 - accuracy: 1.0000 - lr: 3.0000e-05\n",
            "Epoch 181/200\n",
            "157/157 [==============================] - ETA: 0s - loss: 7.3155e-07 - accuracy: 1.0000"
          ]
        },
        {
          "output_type": "stream",
          "name": "stderr",
          "text": [
            "WARNING:tensorflow:Early stopping conditioned on metric `val_loss` which is not available. Available metrics are: loss,accuracy\n",
            "WARNING:tensorflow:Learning rate reduction is conditioned on metric `val_loss` which is not available. Available metrics are: loss,accuracy,lr\n"
          ]
        },
        {
          "output_type": "stream",
          "name": "stdout",
          "text": [
            "\b\b\b\b\b\b\b\b\b\b\b\b\b\b\b\b\b\b\b\b\b\b\b\b\b\b\b\b\b\b\b\b\b\b\b\b\b\b\b\b\b\b\b\b\b\b\b\b\b\b\b\b\b\b\b\b\b\b\b\b\b\b\b\b\b\b\b\b\b\b\b\b\b\b\b\b\b\b\b\b\b\b\b\b\b\b\b\b\r157/157 [==============================] - 1s 7ms/step - loss: 7.3155e-07 - accuracy: 1.0000 - lr: 3.0000e-05\n",
            "Epoch 182/200\n",
            "154/157 [============================>.] - ETA: 0s - loss: 1.3029e-07 - accuracy: 1.0000"
          ]
        },
        {
          "output_type": "stream",
          "name": "stderr",
          "text": [
            "WARNING:tensorflow:Early stopping conditioned on metric `val_loss` which is not available. Available metrics are: loss,accuracy\n",
            "WARNING:tensorflow:Learning rate reduction is conditioned on metric `val_loss` which is not available. Available metrics are: loss,accuracy,lr\n"
          ]
        },
        {
          "output_type": "stream",
          "name": "stdout",
          "text": [
            "\b\b\b\b\b\b\b\b\b\b\b\b\b\b\b\b\b\b\b\b\b\b\b\b\b\b\b\b\b\b\b\b\b\b\b\b\b\b\b\b\b\b\b\b\b\b\b\b\b\b\b\b\b\b\b\b\b\b\b\b\b\b\b\b\b\b\b\b\b\b\b\b\b\b\b\b\b\b\b\b\b\b\b\b\b\b\b\b\r157/157 [==============================] - 1s 7ms/step - loss: 1.2837e-07 - accuracy: 1.0000 - lr: 3.0000e-05\n",
            "Epoch 183/200\n",
            "151/157 [===========================>..] - ETA: 0s - loss: 1.2450e-07 - accuracy: 1.0000"
          ]
        },
        {
          "output_type": "stream",
          "name": "stderr",
          "text": [
            "WARNING:tensorflow:Early stopping conditioned on metric `val_loss` which is not available. Available metrics are: loss,accuracy\n",
            "WARNING:tensorflow:Learning rate reduction is conditioned on metric `val_loss` which is not available. Available metrics are: loss,accuracy,lr\n"
          ]
        },
        {
          "output_type": "stream",
          "name": "stdout",
          "text": [
            "\b\b\b\b\b\b\b\b\b\b\b\b\b\b\b\b\b\b\b\b\b\b\b\b\b\b\b\b\b\b\b\b\b\b\b\b\b\b\b\b\b\b\b\b\b\b\b\b\b\b\b\b\b\b\b\b\b\b\b\b\b\b\b\b\b\b\b\b\b\b\b\b\b\b\b\b\b\b\b\b\b\b\b\b\b\b\b\b\r157/157 [==============================] - 1s 7ms/step - loss: 1.2302e-07 - accuracy: 1.0000 - lr: 3.0000e-05\n",
            "Epoch 184/200\n",
            "153/157 [============================>.] - ETA: 0s - loss: 1.2264e-07 - accuracy: 1.0000"
          ]
        },
        {
          "output_type": "stream",
          "name": "stderr",
          "text": [
            "WARNING:tensorflow:Early stopping conditioned on metric `val_loss` which is not available. Available metrics are: loss,accuracy\n",
            "WARNING:tensorflow:Learning rate reduction is conditioned on metric `val_loss` which is not available. Available metrics are: loss,accuracy,lr\n"
          ]
        },
        {
          "output_type": "stream",
          "name": "stdout",
          "text": [
            "\b\b\b\b\b\b\b\b\b\b\b\b\b\b\b\b\b\b\b\b\b\b\b\b\b\b\b\b\b\b\b\b\b\b\b\b\b\b\b\b\b\b\b\b\b\b\b\b\b\b\b\b\b\b\b\b\b\b\b\b\b\b\b\b\b\b\b\b\b\b\b\b\b\b\b\b\b\b\b\b\b\b\b\b\b\b\b\b\r157/157 [==============================] - 1s 7ms/step - loss: 1.2036e-07 - accuracy: 1.0000 - lr: 3.0000e-05\n",
            "Epoch 185/200\n",
            "152/157 [============================>.] - ETA: 0s - loss: 8.3394e-08 - accuracy: 1.0000"
          ]
        },
        {
          "output_type": "stream",
          "name": "stderr",
          "text": [
            "WARNING:tensorflow:Early stopping conditioned on metric `val_loss` which is not available. Available metrics are: loss,accuracy\n",
            "WARNING:tensorflow:Learning rate reduction is conditioned on metric `val_loss` which is not available. Available metrics are: loss,accuracy,lr\n"
          ]
        },
        {
          "output_type": "stream",
          "name": "stdout",
          "text": [
            "\b\b\b\b\b\b\b\b\b\b\b\b\b\b\b\b\b\b\b\b\b\b\b\b\b\b\b\b\b\b\b\b\b\b\b\b\b\b\b\b\b\b\b\b\b\b\b\b\b\b\b\b\b\b\b\b\b\b\b\b\b\b\b\b\b\b\b\b\b\b\b\b\b\b\b\b\b\b\b\b\b\b\b\b\b\b\b\b\r157/157 [==============================] - 1s 7ms/step - loss: 8.2971e-08 - accuracy: 1.0000 - lr: 3.0000e-05\n",
            "Epoch 186/200\n",
            "155/157 [============================>.] - ETA: 0s - loss: 1.3431e-07 - accuracy: 1.0000"
          ]
        },
        {
          "output_type": "stream",
          "name": "stderr",
          "text": [
            "WARNING:tensorflow:Early stopping conditioned on metric `val_loss` which is not available. Available metrics are: loss,accuracy\n",
            "WARNING:tensorflow:Learning rate reduction is conditioned on metric `val_loss` which is not available. Available metrics are: loss,accuracy,lr\n"
          ]
        },
        {
          "output_type": "stream",
          "name": "stdout",
          "text": [
            "\b\b\b\b\b\b\b\b\b\b\b\b\b\b\b\b\b\b\b\b\b\b\b\b\b\b\b\b\b\b\b\b\b\b\b\b\b\b\b\b\b\b\b\b\b\b\b\b\b\b\b\b\b\b\b\b\b\b\b\b\b\b\b\b\b\b\b\b\b\b\b\b\b\b\b\b\b\b\b\b\b\b\b\b\b\b\b\b\r157/157 [==============================] - 1s 7ms/step - loss: 1.3370e-07 - accuracy: 1.0000 - lr: 3.0000e-05\n",
            "Epoch 187/200\n",
            "150/157 [===========================>..] - ETA: 0s - loss: 9.1057e-08 - accuracy: 1.0000"
          ]
        },
        {
          "output_type": "stream",
          "name": "stderr",
          "text": [
            "WARNING:tensorflow:Early stopping conditioned on metric `val_loss` which is not available. Available metrics are: loss,accuracy\n",
            "WARNING:tensorflow:Learning rate reduction is conditioned on metric `val_loss` which is not available. Available metrics are: loss,accuracy,lr\n"
          ]
        },
        {
          "output_type": "stream",
          "name": "stdout",
          "text": [
            "\b\b\b\b\b\b\b\b\b\b\b\b\b\b\b\b\b\b\b\b\b\b\b\b\b\b\b\b\b\b\b\b\b\b\b\b\b\b\b\b\b\b\b\b\b\b\b\b\b\b\b\b\b\b\b\b\b\b\b\b\b\b\b\b\b\b\b\b\b\b\b\b\b\b\b\b\b\b\b\b\b\b\b\b\b\b\b\b\r157/157 [==============================] - 1s 7ms/step - loss: 9.1131e-08 - accuracy: 1.0000 - lr: 3.0000e-05\n",
            "Epoch 188/200\n",
            "152/157 [============================>.] - ETA: 0s - loss: 1.5650e-07 - accuracy: 1.0000"
          ]
        },
        {
          "output_type": "stream",
          "name": "stderr",
          "text": [
            "WARNING:tensorflow:Early stopping conditioned on metric `val_loss` which is not available. Available metrics are: loss,accuracy\n",
            "WARNING:tensorflow:Learning rate reduction is conditioned on metric `val_loss` which is not available. Available metrics are: loss,accuracy,lr\n"
          ]
        },
        {
          "output_type": "stream",
          "name": "stdout",
          "text": [
            "\b\b\b\b\b\b\b\b\b\b\b\b\b\b\b\b\b\b\b\b\b\b\b\b\b\b\b\b\b\b\b\b\b\b\b\b\b\b\b\b\b\b\b\b\b\b\b\b\b\b\b\b\b\b\b\b\b\b\b\b\b\b\b\b\b\b\b\b\b\b\b\b\b\b\b\b\b\b\b\b\b\b\b\b\b\b\b\b\r157/157 [==============================] - 1s 7ms/step - loss: 1.5494e-07 - accuracy: 1.0000 - lr: 3.0000e-05\n",
            "Epoch 189/200\n",
            "157/157 [==============================] - ETA: 0s - loss: 5.4412e-07 - accuracy: 1.0000"
          ]
        },
        {
          "output_type": "stream",
          "name": "stderr",
          "text": [
            "WARNING:tensorflow:Early stopping conditioned on metric `val_loss` which is not available. Available metrics are: loss,accuracy\n",
            "WARNING:tensorflow:Learning rate reduction is conditioned on metric `val_loss` which is not available. Available metrics are: loss,accuracy,lr\n"
          ]
        },
        {
          "output_type": "stream",
          "name": "stdout",
          "text": [
            "\b\b\b\b\b\b\b\b\b\b\b\b\b\b\b\b\b\b\b\b\b\b\b\b\b\b\b\b\b\b\b\b\b\b\b\b\b\b\b\b\b\b\b\b\b\b\b\b\b\b\b\b\b\b\b\b\b\b\b\b\b\b\b\b\b\b\b\b\b\b\b\b\b\b\b\b\b\b\b\b\b\b\b\b\b\b\b\b\r157/157 [==============================] - 1s 7ms/step - loss: 5.4412e-07 - accuracy: 1.0000 - lr: 3.0000e-05\n",
            "Epoch 190/200\n",
            "153/157 [============================>.] - ETA: 0s - loss: 1.9770e-07 - accuracy: 1.0000"
          ]
        },
        {
          "output_type": "stream",
          "name": "stderr",
          "text": [
            "WARNING:tensorflow:Early stopping conditioned on metric `val_loss` which is not available. Available metrics are: loss,accuracy\n",
            "WARNING:tensorflow:Learning rate reduction is conditioned on metric `val_loss` which is not available. Available metrics are: loss,accuracy,lr\n"
          ]
        },
        {
          "output_type": "stream",
          "name": "stdout",
          "text": [
            "\b\b\b\b\b\b\b\b\b\b\b\b\b\b\b\b\b\b\b\b\b\b\b\b\b\b\b\b\b\b\b\b\b\b\b\b\b\b\b\b\b\b\b\b\b\b\b\b\b\b\b\b\b\b\b\b\b\b\b\b\b\b\b\b\b\b\b\b\b\b\b\b\b\b\b\b\b\b\b\b\b\b\b\b\b\b\b\b\r157/157 [==============================] - 1s 7ms/step - loss: 1.9422e-07 - accuracy: 1.0000 - lr: 3.0000e-05\n",
            "Epoch 191/200\n",
            "151/157 [===========================>..] - ETA: 0s - loss: 1.0941e-07 - accuracy: 1.0000"
          ]
        },
        {
          "output_type": "stream",
          "name": "stderr",
          "text": [
            "WARNING:tensorflow:Early stopping conditioned on metric `val_loss` which is not available. Available metrics are: loss,accuracy\n",
            "WARNING:tensorflow:Learning rate reduction is conditioned on metric `val_loss` which is not available. Available metrics are: loss,accuracy,lr\n"
          ]
        },
        {
          "output_type": "stream",
          "name": "stdout",
          "text": [
            "\b\b\b\b\b\b\b\b\b\b\b\b\b\b\b\b\b\b\b\b\b\b\b\b\b\b\b\b\b\b\b\b\b\b\b\b\b\b\b\b\b\b\b\b\b\b\b\b\b\b\b\b\b\b\b\b\b\b\b\b\b\b\b\b\b\b\b\b\b\b\b\b\b\b\b\b\b\b\b\b\b\b\b\b\b\b\b\b\r157/157 [==============================] - 1s 7ms/step - loss: 1.0627e-07 - accuracy: 1.0000 - lr: 3.0000e-05\n",
            "Epoch 192/200\n",
            "156/157 [============================>.] - ETA: 0s - loss: 3.0325e-07 - accuracy: 1.0000"
          ]
        },
        {
          "output_type": "stream",
          "name": "stderr",
          "text": [
            "WARNING:tensorflow:Early stopping conditioned on metric `val_loss` which is not available. Available metrics are: loss,accuracy\n",
            "WARNING:tensorflow:Learning rate reduction is conditioned on metric `val_loss` which is not available. Available metrics are: loss,accuracy,lr\n"
          ]
        },
        {
          "output_type": "stream",
          "name": "stdout",
          "text": [
            "\b\b\b\b\b\b\b\b\b\b\b\b\b\b\b\b\b\b\b\b\b\b\b\b\b\b\b\b\b\b\b\b\b\b\b\b\b\b\b\b\b\b\b\b\b\b\b\b\b\b\b\b\b\b\b\b\b\b\b\b\b\b\b\b\b\b\b\b\b\b\b\b\b\b\b\b\b\b\b\b\b\b\b\b\b\b\b\b\r157/157 [==============================] - 1s 7ms/step - loss: 3.0348e-07 - accuracy: 1.0000 - lr: 3.0000e-05\n",
            "Epoch 193/200\n",
            "155/157 [============================>.] - ETA: 0s - loss: 9.5075e-08 - accuracy: 1.0000"
          ]
        },
        {
          "output_type": "stream",
          "name": "stderr",
          "text": [
            "WARNING:tensorflow:Early stopping conditioned on metric `val_loss` which is not available. Available metrics are: loss,accuracy\n",
            "WARNING:tensorflow:Learning rate reduction is conditioned on metric `val_loss` which is not available. Available metrics are: loss,accuracy,lr\n"
          ]
        },
        {
          "output_type": "stream",
          "name": "stdout",
          "text": [
            "\b\b\b\b\b\b\b\b\b\b\b\b\b\b\b\b\b\b\b\b\b\b\b\b\b\b\b\b\b\b\b\b\b\b\b\b\b\b\b\b\b\b\b\b\b\b\b\b\b\b\b\b\b\b\b\b\b\b\b\b\b\b\b\b\b\b\b\b\b\b\b\b\b\b\b\b\b\b\b\b\b\b\b\b\b\b\b\b\r157/157 [==============================] - 1s 7ms/step - loss: 9.4462e-08 - accuracy: 1.0000 - lr: 3.0000e-05\n",
            "Epoch 194/200\n",
            "153/157 [============================>.] - ETA: 0s - loss: 1.7607e-06 - accuracy: 1.0000"
          ]
        },
        {
          "output_type": "stream",
          "name": "stderr",
          "text": [
            "WARNING:tensorflow:Early stopping conditioned on metric `val_loss` which is not available. Available metrics are: loss,accuracy\n",
            "WARNING:tensorflow:Learning rate reduction is conditioned on metric `val_loss` which is not available. Available metrics are: loss,accuracy,lr\n"
          ]
        },
        {
          "output_type": "stream",
          "name": "stdout",
          "text": [
            "\b\b\b\b\b\b\b\b\b\b\b\b\b\b\b\b\b\b\b\b\b\b\b\b\b\b\b\b\b\b\b\b\b\b\b\b\b\b\b\b\b\b\b\b\b\b\b\b\b\b\b\b\b\b\b\b\b\b\b\b\b\b\b\b\b\b\b\b\b\b\b\b\b\b\b\b\b\b\b\b\b\b\b\b\b\b\b\b\r157/157 [==============================] - 1s 7ms/step - loss: 1.7224e-06 - accuracy: 1.0000 - lr: 3.0000e-05\n",
            "Epoch 195/200\n",
            "153/157 [============================>.] - ETA: 0s - loss: 1.2903e-07 - accuracy: 1.0000"
          ]
        },
        {
          "output_type": "stream",
          "name": "stderr",
          "text": [
            "WARNING:tensorflow:Early stopping conditioned on metric `val_loss` which is not available. Available metrics are: loss,accuracy\n",
            "WARNING:tensorflow:Learning rate reduction is conditioned on metric `val_loss` which is not available. Available metrics are: loss,accuracy,lr\n"
          ]
        },
        {
          "output_type": "stream",
          "name": "stdout",
          "text": [
            "\b\b\b\b\b\b\b\b\b\b\b\b\b\b\b\b\b\b\b\b\b\b\b\b\b\b\b\b\b\b\b\b\b\b\b\b\b\b\b\b\b\b\b\b\b\b\b\b\b\b\b\b\b\b\b\b\b\b\b\b\b\b\b\b\b\b\b\b\b\b\b\b\b\b\b\b\b\b\b\b\b\b\b\b\b\b\b\b\r157/157 [==============================] - 1s 7ms/step - loss: 1.2767e-07 - accuracy: 1.0000 - lr: 3.0000e-05\n",
            "Epoch 196/200\n",
            "154/157 [============================>.] - ETA: 0s - loss: 1.3122e-07 - accuracy: 1.0000"
          ]
        },
        {
          "output_type": "stream",
          "name": "stderr",
          "text": [
            "WARNING:tensorflow:Early stopping conditioned on metric `val_loss` which is not available. Available metrics are: loss,accuracy\n",
            "WARNING:tensorflow:Learning rate reduction is conditioned on metric `val_loss` which is not available. Available metrics are: loss,accuracy,lr\n"
          ]
        },
        {
          "output_type": "stream",
          "name": "stdout",
          "text": [
            "\b\b\b\b\b\b\b\b\b\b\b\b\b\b\b\b\b\b\b\b\b\b\b\b\b\b\b\b\b\b\b\b\b\b\b\b\b\b\b\b\b\b\b\b\b\b\b\b\b\b\b\b\b\b\b\b\b\b\b\b\b\b\b\b\b\b\b\b\b\b\b\b\b\b\b\b\b\b\b\b\b\b\b\b\b\b\b\b\r157/157 [==============================] - 1s 7ms/step - loss: 1.3120e-07 - accuracy: 1.0000 - lr: 3.0000e-05\n",
            "Epoch 197/200\n",
            "154/157 [============================>.] - ETA: 0s - loss: 1.2075e-07 - accuracy: 1.0000"
          ]
        },
        {
          "output_type": "stream",
          "name": "stderr",
          "text": [
            "WARNING:tensorflow:Early stopping conditioned on metric `val_loss` which is not available. Available metrics are: loss,accuracy\n",
            "WARNING:tensorflow:Learning rate reduction is conditioned on metric `val_loss` which is not available. Available metrics are: loss,accuracy,lr\n"
          ]
        },
        {
          "output_type": "stream",
          "name": "stdout",
          "text": [
            "\b\b\b\b\b\b\b\b\b\b\b\b\b\b\b\b\b\b\b\b\b\b\b\b\b\b\b\b\b\b\b\b\b\b\b\b\b\b\b\b\b\b\b\b\b\b\b\b\b\b\b\b\b\b\b\b\b\b\b\b\b\b\b\b\b\b\b\b\b\b\b\b\b\b\b\b\b\b\b\b\b\b\b\b\b\b\b\b\r157/157 [==============================] - 1s 7ms/step - loss: 1.2161e-07 - accuracy: 1.0000 - lr: 3.0000e-05\n",
            "Epoch 198/200\n",
            "152/157 [============================>.] - ETA: 0s - loss: 1.4278e-07 - accuracy: 1.0000"
          ]
        },
        {
          "output_type": "stream",
          "name": "stderr",
          "text": [
            "WARNING:tensorflow:Early stopping conditioned on metric `val_loss` which is not available. Available metrics are: loss,accuracy\n",
            "WARNING:tensorflow:Learning rate reduction is conditioned on metric `val_loss` which is not available. Available metrics are: loss,accuracy,lr\n"
          ]
        },
        {
          "output_type": "stream",
          "name": "stdout",
          "text": [
            "\b\b\b\b\b\b\b\b\b\b\b\b\b\b\b\b\b\b\b\b\b\b\b\b\b\b\b\b\b\b\b\b\b\b\b\b\b\b\b\b\b\b\b\b\b\b\b\b\b\b\b\b\b\b\b\b\b\b\b\b\b\b\b\b\b\b\b\b\b\b\b\b\b\b\b\b\b\b\b\b\b\b\b\b\b\b\b\b\r157/157 [==============================] - 1s 7ms/step - loss: 1.4783e-07 - accuracy: 1.0000 - lr: 3.0000e-05\n",
            "Epoch 199/200\n",
            "154/157 [============================>.] - ETA: 0s - loss: 1.8939e-07 - accuracy: 1.0000"
          ]
        },
        {
          "output_type": "stream",
          "name": "stderr",
          "text": [
            "WARNING:tensorflow:Early stopping conditioned on metric `val_loss` which is not available. Available metrics are: loss,accuracy\n",
            "WARNING:tensorflow:Learning rate reduction is conditioned on metric `val_loss` which is not available. Available metrics are: loss,accuracy,lr\n"
          ]
        },
        {
          "output_type": "stream",
          "name": "stdout",
          "text": [
            "\b\b\b\b\b\b\b\b\b\b\b\b\b\b\b\b\b\b\b\b\b\b\b\b\b\b\b\b\b\b\b\b\b\b\b\b\b\b\b\b\b\b\b\b\b\b\b\b\b\b\b\b\b\b\b\b\b\b\b\b\b\b\b\b\b\b\b\b\b\b\b\b\b\b\b\b\b\b\b\b\b\b\b\b\b\b\b\b\r157/157 [==============================] - 1s 7ms/step - loss: 1.8659e-07 - accuracy: 1.0000 - lr: 3.0000e-05\n",
            "Epoch 200/200\n",
            "151/157 [===========================>..] - ETA: 0s - loss: 1.7920e-07 - accuracy: 1.0000"
          ]
        },
        {
          "output_type": "stream",
          "name": "stderr",
          "text": [
            "WARNING:tensorflow:Early stopping conditioned on metric `val_loss` which is not available. Available metrics are: loss,accuracy\n",
            "WARNING:tensorflow:Learning rate reduction is conditioned on metric `val_loss` which is not available. Available metrics are: loss,accuracy,lr\n"
          ]
        },
        {
          "output_type": "stream",
          "name": "stdout",
          "text": [
            "\b\b\b\b\b\b\b\b\b\b\b\b\b\b\b\b\b\b\b\b\b\b\b\b\b\b\b\b\b\b\b\b\b\b\b\b\b\b\b\b\b\b\b\b\b\b\b\b\b\b\b\b\b\b\b\b\b\b\b\b\b\b\b\b\b\b\b\b\b\b\b\b\b\b\b\b\b\b\b\b\b\b\b\b\b\b\b\b\r157/157 [==============================] - 1s 7ms/step - loss: 1.8243e-07 - accuracy: 1.0000 - lr: 3.0000e-05\n"
          ]
        }
      ]
    },
    {
      "cell_type": "markdown",
      "source": [
        "# log loss"
      ],
      "metadata": {
        "id": "I9948x1Djfoj"
      }
    },
    {
      "cell_type": "code",
      "source": [
        "CNN1_network_predictions = CNN1_network.predict(padded_clean_text_t_stem)"
      ],
      "metadata": {
        "id": "r2U0y5XMjfoj"
      },
      "execution_count": null,
      "outputs": []
    },
    {
      "cell_type": "code",
      "source": [
        "from sklearn.metrics import log_loss\n",
        "log_loss_test= log_loss(label_twoDimension_t,CNN1_network_predictions)\n",
        "log_loss_test"
      ],
      "metadata": {
        "id": "V0451GbNjfoj",
        "colab": {
          "base_uri": "https://localhost:8080/"
        },
        "outputId": "cb183d08-f828-40f1-ac42-53fd554748f6"
      },
      "execution_count": null,
      "outputs": [
        {
          "output_type": "execute_result",
          "data": {
            "text/plain": [
              "3.4519122723468016"
            ]
          },
          "metadata": {},
          "execution_count": 66
        }
      ]
    },
    {
      "cell_type": "markdown",
      "source": [
        "# Classification Report\n"
      ],
      "metadata": {
        "id": "uJxWQyy5jfoj"
      }
    },
    {
      "cell_type": "code",
      "source": [
        "predictions = np.zeros_like(CNN1_network_predictions)\n",
        "predictions[np.arange(len(CNN1_network_predictions)), CNN1_network_predictions.argmax(1)] = 1\n",
        "\n"
      ],
      "metadata": {
        "id": "Cfk9W6kSjfok"
      },
      "execution_count": null,
      "outputs": []
    },
    {
      "cell_type": "code",
      "source": [
        "\n",
        "\n",
        "predictionInteger=(np.argmax(predictions, axis=1))\n",
        "predictionInteger\n",
        "\n"
      ],
      "metadata": {
        "id": "w1lRbf3Sjfok",
        "colab": {
          "base_uri": "https://localhost:8080/"
        },
        "outputId": "064266db-e426-49dd-a721-103b904a5ea1"
      },
      "execution_count": null,
      "outputs": [
        {
          "output_type": "execute_result",
          "data": {
            "text/plain": [
              "array([0, 0, 0, 0, 0, 0, 0, 1, 0, 0, 0, 1, 0, 1, 0, 0, 0, 0, 1, 0, 0, 0,\n",
              "       0, 0, 0, 0, 1, 0, 1, 0, 1, 1, 0, 0, 1, 0, 0, 0, 0, 1, 1, 1, 0, 0,\n",
              "       0, 0, 0, 0, 1, 1, 0, 1, 1, 0, 1, 0, 0, 1, 1, 0, 0, 1, 1, 0, 1, 0,\n",
              "       0, 1, 0, 1, 0, 1, 0, 0, 0, 0, 0, 1, 1, 0, 1, 0, 1, 0, 1, 0, 1, 0,\n",
              "       0, 0, 1, 0, 0, 1, 0, 0, 1, 0, 1, 0, 0, 0, 0, 0, 0, 1, 1, 0, 0, 0,\n",
              "       0, 0, 1, 0, 1, 1, 1, 0, 0, 0, 1, 0, 0, 1, 1, 0, 1, 0, 1, 0, 0, 1,\n",
              "       0, 1, 1, 0, 0, 1, 1, 0, 0, 0, 1, 0, 0, 0, 1, 1, 1, 0, 1, 0, 1, 1,\n",
              "       0, 0, 1, 0, 0, 1, 1, 1, 0, 0, 0, 0, 1, 1, 1, 1, 0, 0, 1, 0, 0, 1,\n",
              "       0, 0, 0, 1, 1, 0, 1, 0, 0, 0, 0, 1, 0, 1, 0, 0, 0, 0, 0, 1, 1, 0,\n",
              "       0, 0, 0, 1, 0, 0, 0, 0, 0, 1, 1, 1, 0, 0, 1, 0, 0, 0, 0, 0, 0, 0,\n",
              "       0, 1, 1, 1, 1, 0, 1, 1, 0, 1, 1, 0, 0, 0, 0, 1, 1, 0, 0, 1, 1, 1,\n",
              "       0, 0, 0, 0, 1, 0, 1, 0, 0, 1, 0, 0, 0, 0, 0, 0, 0, 0, 0, 0, 0, 0,\n",
              "       0, 1, 1, 1, 1, 1, 0, 0, 1, 0, 0, 1, 1, 0, 0, 1, 1, 0, 1, 1, 0, 1,\n",
              "       0, 0, 1, 0, 1, 0, 0, 0, 1, 1, 0, 0, 1, 0, 0, 0, 1, 1, 0, 1, 0, 0,\n",
              "       0, 0, 0, 0, 1, 0, 1, 0, 1, 0, 1, 1, 0, 0, 0, 1, 1, 0, 0, 0, 0, 0,\n",
              "       0, 0, 0, 1, 0, 1, 0, 0, 1, 0, 0, 1, 1, 0, 1, 0, 1, 0, 1, 0, 0, 0,\n",
              "       1, 0, 1, 1, 0, 1, 0, 0, 0, 0, 0, 1, 0, 1, 0, 0, 0, 0, 0, 0, 0, 0,\n",
              "       0, 0, 1, 0, 0, 1, 0, 0, 1, 0, 1, 1, 0, 1, 1, 0, 1, 1, 0, 0, 0, 1,\n",
              "       0, 0, 0, 0, 0, 0, 0, 1, 1, 0, 1, 1, 0, 1, 0, 0, 0, 1, 1, 1, 1, 0,\n",
              "       1, 0, 0, 0, 1, 0, 0, 0, 0, 0, 0, 0, 1, 0, 0, 0, 0, 0, 0, 0, 0, 0,\n",
              "       0, 0, 1, 0, 0, 1, 1, 0, 1, 1, 0, 0, 0, 1, 1, 0, 1, 0, 1, 0, 1, 1,\n",
              "       0, 0, 0, 1, 0, 0, 0, 0, 0, 0, 1, 0, 0, 1, 0, 0, 0, 1, 0, 1, 1, 0,\n",
              "       1, 1, 0, 1, 1, 0, 0, 0, 0, 1, 1, 1, 0, 1, 1, 1, 0, 1, 1, 0, 1, 1,\n",
              "       1, 0, 0, 0, 0, 0, 0, 0, 1, 0, 0, 0, 0, 0, 1, 0, 0, 0, 1, 1])"
            ]
          },
          "metadata": {},
          "execution_count": 68
        }
      ]
    },
    {
      "cell_type": "code",
      "source": [
        "\n",
        "\n",
        "pred_label = np.array(predictionInteger)\n",
        "df = pd.DataFrame(data=pred_label , columns=[\"task1\"])\n",
        "print(df)\n",
        "\n"
      ],
      "metadata": {
        "id": "Y7s4e_UOjfok",
        "colab": {
          "base_uri": "https://localhost:8080/"
        },
        "outputId": "6c96ce71-08de-4cec-e7d5-3c82369a8b2a"
      },
      "execution_count": null,
      "outputs": [
        {
          "output_type": "stream",
          "name": "stdout",
          "text": [
            "     task1\n",
            "0        0\n",
            "1        0\n",
            "2        0\n",
            "3        0\n",
            "4        0\n",
            "..     ...\n",
            "521      0\n",
            "522      0\n",
            "523      0\n",
            "524      1\n",
            "525      1\n",
            "\n",
            "[526 rows x 1 columns]\n"
          ]
        }
      ]
    },
    {
      "cell_type": "code",
      "source": [
        "df.to_csv(\"NSIT_submission_Train_GERMEVAL2018_Test_HASOC2020_TASK_A_DE_A.csv\", index=False)"
      ],
      "metadata": {
        "id": "Ew39ItNYjfok"
      },
      "execution_count": null,
      "outputs": []
    },
    {
      "cell_type": "code",
      "source": [
        "\n",
        "\n",
        "from sklearn.metrics import classification_report\n",
        "print(classification_report(label_twoDimension_t,predictions))\n",
        "\n"
      ],
      "metadata": {
        "id": "8o9H5kswjfol",
        "colab": {
          "base_uri": "https://localhost:8080/"
        },
        "outputId": "61c38ded-6e7e-4bce-e36c-308e75dcda17"
      },
      "execution_count": null,
      "outputs": [
        {
          "output_type": "stream",
          "name": "stdout",
          "text": [
            "              precision    recall  f1-score   support\n",
            "\n",
            "           0       0.43      0.88      0.58       161\n",
            "           1       0.90      0.48      0.63       365\n",
            "\n",
            "   micro avg       0.61      0.61      0.61       526\n",
            "   macro avg       0.67      0.68      0.60       526\n",
            "weighted avg       0.76      0.61      0.61       526\n",
            " samples avg       0.61      0.61      0.61       526\n",
            "\n"
          ]
        }
      ]
    },
    {
      "cell_type": "markdown",
      "source": [
        "# Epoch v/s Loss Plot\n"
      ],
      "metadata": {
        "id": "LZoQCPRmjfol"
      }
    },
    {
      "cell_type": "code",
      "source": [
        "\n",
        "\n",
        "from matplotlib import pyplot as plt\n",
        "plt.plot(hist.history[\"loss\"],color = 'red', label = 'train_loss')\n",
        "#plt.plot(hist.history[\"val_loss\"],color = 'blue', label = 'val_loss')\n",
        "plt.title('Loss Visualisation')\n",
        "plt.xlabel('Epochs')\n",
        "plt.ylabel('Loss')\n",
        "plt.legend()\n",
        "plt.savefig('CNN1_Train_GERMEVAL2018_Test_HASOC2020_TASK_A_Ger_lossPlot.pdf',dpi=1000)\n",
        "\n",
        "from google.colab import files\n",
        "files.download('CNN1_Train_GERMEVAL2018_Test_HASOC2020_TASK_A_Ger_lossPlot.pdf') \n",
        "\n"
      ],
      "metadata": {
        "id": "hmzY0jEpjfol",
        "colab": {
          "base_uri": "https://localhost:8080/"
        },
        "outputId": "29081e17-4adb-465e-99e5-3ce019d80de1"
      },
      "execution_count": null,
      "outputs": [
        {
          "output_type": "display_data",
          "data": {
            "text/plain": [
              "<IPython.core.display.Javascript object>"
            ],
            "application/javascript": [
              "\n",
              "    async function download(id, filename, size) {\n",
              "      if (!google.colab.kernel.accessAllowed) {\n",
              "        return;\n",
              "      }\n",
              "      const div = document.createElement('div');\n",
              "      const label = document.createElement('label');\n",
              "      label.textContent = `Downloading \"${filename}\": `;\n",
              "      div.appendChild(label);\n",
              "      const progress = document.createElement('progress');\n",
              "      progress.max = size;\n",
              "      div.appendChild(progress);\n",
              "      document.body.appendChild(div);\n",
              "\n",
              "      const buffers = [];\n",
              "      let downloaded = 0;\n",
              "\n",
              "      const channel = await google.colab.kernel.comms.open(id);\n",
              "      // Send a message to notify the kernel that we're ready.\n",
              "      channel.send({})\n",
              "\n",
              "      for await (const message of channel.messages) {\n",
              "        // Send a message to notify the kernel that we're ready.\n",
              "        channel.send({})\n",
              "        if (message.buffers) {\n",
              "          for (const buffer of message.buffers) {\n",
              "            buffers.push(buffer);\n",
              "            downloaded += buffer.byteLength;\n",
              "            progress.value = downloaded;\n",
              "          }\n",
              "        }\n",
              "      }\n",
              "      const blob = new Blob(buffers, {type: 'application/binary'});\n",
              "      const a = document.createElement('a');\n",
              "      a.href = window.URL.createObjectURL(blob);\n",
              "      a.download = filename;\n",
              "      div.appendChild(a);\n",
              "      a.click();\n",
              "      div.remove();\n",
              "    }\n",
              "  "
            ]
          },
          "metadata": {}
        },
        {
          "output_type": "display_data",
          "data": {
            "text/plain": [
              "<IPython.core.display.Javascript object>"
            ],
            "application/javascript": [
              "download(\"download_27547afc-abdc-4423-b0f8-069d504faa4a\", \"CNN1_Train_GERMEVAL2018_Test_HASOC2020_TASK_A_Ger_lossPlot.pdf\", 11301)"
            ]
          },
          "metadata": {}
        },
        {
          "output_type": "display_data",
          "data": {
            "text/plain": [
              "<Figure size 432x288 with 1 Axes>"
            ],
            "image/png": "[encoded data removed]"
          },
          "metadata": {
            "needs_background": "light"
          }
        }
      ]
    },
    {
      "cell_type": "markdown",
      "source": [
        "# Epoch v/s Accuracy Plot\n"
      ],
      "metadata": {
        "id": "vm-GzqU2jfom"
      }
    },
    {
      "cell_type": "code",
      "source": [
        "\n",
        "\n",
        "plt.plot(hist.history[\"accuracy\"],color = 'red', label = 'train_accuracy')\n",
        "#plt.plot(hist.history[\"val_accuracy\"],color = 'blue', label = 'val_accuracy')\n",
        "plt.title('Accuracy Visualisation')\n",
        "plt.xlabel('Epochs')\n",
        "plt.ylabel('Accuracy')\n",
        "plt.legend()\n",
        "plt.savefig('CNN1_Train_GERMEVAL2018_Test_HASOC2020_TASK_A_Ger_accuracyPlot.pdf',dpi=1000)\n",
        "files.download('CNN1_Train_GERMEVAL2018_Test_HASOC2020_TASK_A_Ger_accuracyPlot.pdf') \n",
        "\n"
      ],
      "metadata": {
        "id": "4HJmaEDRjfom",
        "colab": {
          "base_uri": "https://localhost:8080/"
        },
        "outputId": "0eabf208-6cd3-44b6-9998-efaa876a74fe"
      },
      "execution_count": null,
      "outputs": [
        {
          "output_type": "display_data",
          "data": {
            "text/plain": [
              "<IPython.core.display.Javascript object>"
            ],
            "application/javascript": [
              "\n",
              "    async function download(id, filename, size) {\n",
              "      if (!google.colab.kernel.accessAllowed) {\n",
              "        return;\n",
              "      }\n",
              "      const div = document.createElement('div');\n",
              "      const label = document.createElement('label');\n",
              "      label.textContent = `Downloading \"${filename}\": `;\n",
              "      div.appendChild(label);\n",
              "      const progress = document.createElement('progress');\n",
              "      progress.max = size;\n",
              "      div.appendChild(progress);\n",
              "      document.body.appendChild(div);\n",
              "\n",
              "      const buffers = [];\n",
              "      let downloaded = 0;\n",
              "\n",
              "      const channel = await google.colab.kernel.comms.open(id);\n",
              "      // Send a message to notify the kernel that we're ready.\n",
              "      channel.send({})\n",
              "\n",
              "      for await (const message of channel.messages) {\n",
              "        // Send a message to notify the kernel that we're ready.\n",
              "        channel.send({})\n",
              "        if (message.buffers) {\n",
              "          for (const buffer of message.buffers) {\n",
              "            buffers.push(buffer);\n",
              "            downloaded += buffer.byteLength;\n",
              "            progress.value = downloaded;\n",
              "          }\n",
              "        }\n",
              "      }\n",
              "      const blob = new Blob(buffers, {type: 'application/binary'});\n",
              "      const a = document.createElement('a');\n",
              "      a.href = window.URL.createObjectURL(blob);\n",
              "      a.download = filename;\n",
              "      div.appendChild(a);\n",
              "      a.click();\n",
              "      div.remove();\n",
              "    }\n",
              "  "
            ]
          },
          "metadata": {}
        },
        {
          "output_type": "display_data",
          "data": {
            "text/plain": [
              "<IPython.core.display.Javascript object>"
            ],
            "application/javascript": [
              "download(\"download_da13cf6d-83dd-4f7b-9e52-6cd568f05480\", \"CNN1_Train_GERMEVAL2018_Test_HASOC2020_TASK_A_Ger_accuracyPlot.pdf\", 11742)"
            ]
          },
          "metadata": {}
        },
        {
          "output_type": "display_data",
          "data": {
            "text/plain": [
              "<Figure size 432x288 with 1 Axes>"
            ],
            "image/png": "[encoded data removed]"
          },
          "metadata": {
            "needs_background": "light"
          }
        }
      ]
    },
    {
      "cell_type": "markdown",
      "source": [
        "# Area under Curve-ROC\n"
      ],
      "metadata": {
        "id": "A3zM8vzjjfom"
      }
    },
    {
      "cell_type": "code",
      "source": [
        "\n",
        "\n",
        "pred_train = CNN1_network.predict(padded_clean_text_stem)\n",
        "pred_test = CNN1_network.predict(padded_clean_text_t_stem)\n",
        "\n"
      ],
      "metadata": {
        "id": "Eyp8p53cjfon"
      },
      "execution_count": null,
      "outputs": []
    },
    {
      "cell_type": "code",
      "source": [
        "\n",
        "\n",
        "import numpy as np\n",
        "import matplotlib.pyplot as plt\n",
        "from itertools import cycle\n",
        "\n",
        "from sklearn import svm, datasets\n",
        "from sklearn.metrics import roc_curve, auc\n",
        "from sklearn.model_selection import train_test_split\n",
        "from sklearn.preprocessing import label_binarize\n",
        "from sklearn.multiclass import OneVsRestClassifier\n",
        "from scipy import interp\n",
        "\n",
        "def plot_AUC_ROC(y_true, y_pred):\n",
        "    n_classes = 2 #change this value according to class value\n",
        "\n",
        "    # Compute ROC curve and ROC area for each class\n",
        "    fpr = dict()\n",
        "    tpr = dict()\n",
        "    roc_auc = dict()\n",
        "    for i in range(n_classes):\n",
        "        fpr[i], tpr[i], _ = roc_curve(y_true[:, i], y_pred[:, i])\n",
        "        roc_auc[i] = auc(fpr[i], tpr[i])\n",
        "\n",
        "    # Compute micro-average ROC curve and ROC area\n",
        "    fpr[\"micro\"], tpr[\"micro\"], _ = roc_curve(y_true.ravel(), y_pred.ravel())\n",
        "    roc_auc[\"micro\"] = auc(fpr[\"micro\"], tpr[\"micro\"])\n",
        "############################################################################################\n",
        "    lw = 2\n",
        "    # Compute macro-average ROC curve and ROC area\n",
        "\n",
        "    # First aggregate all false positive rates\n",
        "    all_fpr = np.unique(np.concatenate([fpr[i] for i in range(n_classes)]))\n",
        "\n",
        "    # Then interpolate all ROC curves at this points\n",
        "    mean_tpr = np.zeros_like(all_fpr)\n",
        "    for i in range(n_classes):\n",
        "        mean_tpr += interp(all_fpr, fpr[i], tpr[i])\n",
        "\n",
        "    # Finally average it and compute AUC\n",
        "    mean_tpr /= n_classes\n",
        "\n",
        "    fpr[\"macro\"] = all_fpr\n",
        "    tpr[\"macro\"] = mean_tpr\n",
        "    roc_auc[\"macro\"] = auc(fpr[\"macro\"], tpr[\"macro\"])\n",
        "\n",
        "    # Plot all ROC curves\n",
        "    plt.figure()\n",
        "    \n",
        "    plt.plot(fpr[\"micro\"], tpr[\"micro\"],\n",
        "            label='micro-average ROC curve (area = {0:0.2f})'\n",
        "               ''.format(roc_auc[\"micro\"]),\n",
        "            color='deeppink', linestyle=':', linewidth=4)\n",
        "\n",
        "    plt.plot(fpr[\"macro\"], tpr[\"macro\"],\n",
        "            label='macro-average ROC curve (area = {0:0.2f})'\n",
        "               ''.format(roc_auc[\"macro\"]),\n",
        "            color='navy', linestyle=':', linewidth=4)\n",
        "    \n",
        "    colors = cycle(['aqua', 'darkorange'])\n",
        "    #classes_list1 = [\"DE\",\"NE\",\"DK\"]\n",
        "    classes_list1 = [\"Non-duplicate\",\"Duplicate\"]\n",
        "    for i, color,c in zip(range(n_classes), colors,classes_list1):\n",
        "        plt.plot(fpr[i], tpr[i], color=color, lw=lw,\n",
        "                label='{0} (AUC = {1:0.2f})'\n",
        "                ''.format(c, roc_auc[i]))\n",
        "\n",
        "    plt.plot([0, 1], [0, 1], 'k--', lw=lw)\n",
        "    plt.xlim([0.0, 1.0])\n",
        "    plt.ylim([0.0, 1.05])\n",
        "    plt.xlabel('False Positive Rate')\n",
        "    plt.ylabel('True Positive Rate')\n",
        "    plt.title('Receiver operating characteristic curve')\n",
        "    plt.legend(loc=\"lower right\")\n",
        "    #plt.show()\n",
        "    plt.savefig('CNN1_Train_GERMEVAL2018_Test_HASOC2020_TASK_A_Ger_Area_RocPlot.pdf',dpi=1000)\n",
        "    files.download('CNN1_Train_GERMEVAL2018_Test_HASOC2020_TASK_A_Ger_Area_RocPlot.pdf')\n",
        "\n",
        "  \n",
        "\n"
      ],
      "metadata": {
        "id": "J5T9liHbjfon"
      },
      "execution_count": null,
      "outputs": []
    },
    {
      "cell_type": "code",
      "source": [
        "plot_AUC_ROC(label_twoDimension_t,pred_test)"
      ],
      "metadata": {
        "id": "4VxeGM0Hjfon",
        "colab": {
          "base_uri": "https://localhost:8080/"
        },
        "outputId": "3ff16178-beeb-4764-cb5f-5e10c51df9f2"
      },
      "execution_count": null,
      "outputs": [
        {
          "output_type": "stream",
          "name": "stderr",
          "text": [
            "/usr/local/lib/python3.7/dist-packages/ipykernel_launcher.py:36: DeprecationWarning: scipy.interp is deprecated and will be removed in SciPy 2.0.0, use numpy.interp instead\n"
          ]
        },
        {
          "output_type": "display_data",
          "data": {
            "text/plain": [
              "<IPython.core.display.Javascript object>"
            ],
            "application/javascript": [
              "\n",
              "    async function download(id, filename, size) {\n",
              "      if (!google.colab.kernel.accessAllowed) {\n",
              "        return;\n",
              "      }\n",
              "      const div = document.createElement('div');\n",
              "      const label = document.createElement('label');\n",
              "      label.textContent = `Downloading \"${filename}\": `;\n",
              "      div.appendChild(label);\n",
              "      const progress = document.createElement('progress');\n",
              "      progress.max = size;\n",
              "      div.appendChild(progress);\n",
              "      document.body.appendChild(div);\n",
              "\n",
              "      const buffers = [];\n",
              "      let downloaded = 0;\n",
              "\n",
              "      const channel = await google.colab.kernel.comms.open(id);\n",
              "      // Send a message to notify the kernel that we're ready.\n",
              "      channel.send({})\n",
              "\n",
              "      for await (const message of channel.messages) {\n",
              "        // Send a message to notify the kernel that we're ready.\n",
              "        channel.send({})\n",
              "        if (message.buffers) {\n",
              "          for (const buffer of message.buffers) {\n",
              "            buffers.push(buffer);\n",
              "            downloaded += buffer.byteLength;\n",
              "            progress.value = downloaded;\n",
              "          }\n",
              "        }\n",
              "      }\n",
              "      const blob = new Blob(buffers, {type: 'application/binary'});\n",
              "      const a = document.createElement('a');\n",
              "      a.href = window.URL.createObjectURL(blob);\n",
              "      a.download = filename;\n",
              "      div.appendChild(a);\n",
              "      a.click();\n",
              "      div.remove();\n",
              "    }\n",
              "  "
            ]
          },
          "metadata": {}
        },
        {
          "output_type": "display_data",
          "data": {
            "text/plain": [
              "<IPython.core.display.Javascript object>"
            ],
            "application/javascript": [
              "download(\"download_0c3d8be2-25f4-409d-ade3-7c008857c37f\", \"CNN1_Train_GERMEVAL2018_Test_HASOC2020_TASK_A_Ger_Area_RocPlot.pdf\", 21991)"
            ]
          },
          "metadata": {}
        },
        {
          "output_type": "display_data",
          "data": {
            "text/plain": [
              "<Figure size 432x288 with 1 Axes>"
            ],
            "image/png": "[encoded data removed]"
          },
          "metadata": {
            "needs_background": "light"
          }
        }
      ]
    }
  ]
}